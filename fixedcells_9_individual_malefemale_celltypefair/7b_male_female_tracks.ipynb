{
 "cells": [
  {
   "cell_type": "code",
   "execution_count": 1,
   "id": "b324373a",
   "metadata": {
    "execution": {
     "iopub.execute_input": "2023-03-09T15:56:46.007822Z",
     "iopub.status.busy": "2023-03-09T15:56:46.007099Z",
     "iopub.status.idle": "2023-03-09T15:56:47.250922Z",
     "shell.execute_reply": "2023-03-09T15:56:47.249639Z",
     "shell.execute_reply.started": "2023-03-09T15:56:46.007654Z"
    },
    "papermill": {
     "duration": 9.289086,
     "end_time": "2022-09-18T16:28:06.123108",
     "exception": false,
     "start_time": "2022-09-18T16:27:56.834022",
     "status": "completed"
    },
    "tags": []
   },
   "outputs": [],
   "source": [
    "# from pycisTopic.pseudobulk_peak_calling import export_pseudobulk, peak_calling\n",
    "import pyranges as pr\n",
    "import requests\n",
    "import os\n",
    "import pandas as pd\n",
    "import glob\n",
    "import pickle"
   ]
  },
  {
   "cell_type": "code",
   "execution_count": 2,
   "id": "5c7a63b8",
   "metadata": {
    "execution": {
     "iopub.execute_input": "2023-03-09T15:56:47.252364Z",
     "iopub.status.busy": "2023-03-09T15:56:47.252140Z",
     "iopub.status.idle": "2023-03-09T15:56:47.356115Z",
     "shell.execute_reply": "2023-03-09T15:56:47.355087Z",
     "shell.execute_reply.started": "2023-03-09T15:56:47.252343Z"
    },
    "papermill": {
     "duration": 0.302426,
     "end_time": "2022-09-18T16:28:06.459310",
     "exception": false,
     "start_time": "2022-09-18T16:28:06.156884",
     "status": "completed"
    },
    "tags": []
   },
   "outputs": [],
   "source": [
    "%load_ext lab_black"
   ]
  },
  {
   "cell_type": "markdown",
   "id": "38254f4d-7ec1-44ed-9910-9f50b79d1a98",
   "metadata": {},
   "source": [
    "# Plot"
   ]
  },
  {
   "cell_type": "code",
   "execution_count": 3,
   "id": "57453bf0-9a32-490c-a2e3-0b3b533e6513",
   "metadata": {
    "execution": {
     "iopub.execute_input": "2023-03-09T15:56:47.357673Z",
     "iopub.status.busy": "2023-03-09T15:56:47.357423Z",
     "iopub.status.idle": "2023-03-09T15:56:49.493908Z",
     "shell.execute_reply": "2023-03-09T15:56:49.492446Z",
     "shell.execute_reply.started": "2023-03-09T15:56:47.357652Z"
    },
    "tags": []
   },
   "outputs": [
    {
     "name": "stdout",
     "output_type": "stream",
     "text": [
      "The lab_black extension is already loaded. To reload it, use:\n",
      "  %reload_ext lab_black\n"
     ]
    }
   ],
   "source": [
    "import matplotlib as mpl\n",
    "import matplotlib.gridspec as gridspec\n",
    "import matplotlib.pyplot as plt\n",
    "import matplotlib.patches as mpatches\n",
    "import numpy as np\n",
    "import pyBigWig\n",
    "import seaborn as sns\n",
    "from pybedtools import BedTool\n",
    "import re\n",
    "\n",
    "import glob as glob\n",
    "import pandas as pd\n",
    "import matplotlib.pyplot as plt\n",
    "from collections import OrderedDict\n",
    "\n",
    "%load_ext lab_black"
   ]
  },
  {
   "cell_type": "code",
   "execution_count": 4,
   "id": "f91710b3-06d1-43c0-99b5-b2baf94c1d82",
   "metadata": {
    "execution": {
     "iopub.execute_input": "2023-03-09T15:56:49.496508Z",
     "iopub.status.busy": "2023-03-09T15:56:49.496132Z",
     "iopub.status.idle": "2023-03-09T15:56:49.532545Z",
     "shell.execute_reply": "2023-03-09T15:56:49.531319Z",
     "shell.execute_reply.started": "2023-03-09T15:56:49.496467Z"
    },
    "tags": []
   },
   "outputs": [],
   "source": [
    "tech_color_palette = {\n",
    "    \"10xv2\": \"#1b9e77\",\n",
    "    \"10xv1\": \"#d95f02\",\n",
    "    \"10xv11\": \"#7570b3\",\n",
    "    \"10xmultiome\": \"#e7298a\",\n",
    "    \"mtscatac\": \"#66a61e\",\n",
    "    \"ddseq\": \"#e6ab02\",\n",
    "    \"s3atac\": \"#a6761d\",\n",
    "    \"hydrop\": \"#666666\",\n",
    "}\n",
    "\n",
    "tech_order = [\n",
    "    \"10xv1\",\n",
    "    \"10xv11\",\n",
    "    \"10xv2\",\n",
    "    \"10xmultiome\",\n",
    "    \"mtscatac\",\n",
    "    \"ddseq\",\n",
    "    \"s3atac\",\n",
    "    \"hydrop\",\n",
    "]\n",
    "\n",
    "tech_alias_dict = {\n",
    "    \"10xmultiome\": \"10x Multiome\",\n",
    "    \"10xv1\": \"10x v1\",\n",
    "    \"10xv11\": \"10x v1.1\",\n",
    "    \"10xv2\": \"10x v2\",\n",
    "    \"ddseq\": \"ddSEQ SureCell\",\n",
    "    \"hydrop\": \"HyDrop\",\n",
    "    \"mtscatac\": \"mtscATAC-seq\",\n",
    "    \"s3atac\": \"s3-ATAC\",\n",
    "}\n",
    "\n",
    "cell_type_order = [\n",
    "    \"B_cell\",\n",
    "    \"CD14_monocyte\",\n",
    "    \"CD4_T_cell\",\n",
    "    \"Cytotoxic_T_cell\",\n",
    "    \"Dendritic_cell\",\n",
    "    \"Natural_killer_cell\",\n",
    "    \"CD16_monocyte\",\n",
    "]\n",
    "\n",
    "cell_type_alias_dict = {\n",
    "    \"B_cell\": \"B cells\",\n",
    "    \"CD14_monocyte\": \"CD14+\\nmonocytes\",\n",
    "    \"CD4_T_cell\": \"CD4+\\nT cells\",\n",
    "    \"Cytotoxic_T_cell\": \"CD8+\\nT cells\",\n",
    "    \"Dendritic_cell\": \"Dendritic\\ncells\",\n",
    "    \"Natural_killer_cell\": \"NK cells\",\n",
    "    \"CD16_monocyte\": \"CD16+\\nmonocytes\",\n",
    "}\n",
    "\n",
    "cell_type_color_dict = {\n",
    "    \"B_cell\": \"#88CCEE\",\n",
    "    \"CD14_monocyte\": \"#CC6677\",\n",
    "    \"CD4_T_cell\": \"#DDCC77\",\n",
    "    \"Cytotoxic_T_cell\": \"#117733\",\n",
    "    \"Dendritic_cell\": \"#332288\",\n",
    "    \"Natural_killer_cell\": \"#AA4499\",\n",
    "    \"CD16_monocyte\": \"#44AA99\",\n",
    "}"
   ]
  },
  {
   "cell_type": "code",
   "execution_count": 5,
   "id": "24a7adf8-9e1c-4003-b605-ea6fc60effaf",
   "metadata": {
    "execution": {
     "iopub.execute_input": "2023-03-09T15:56:49.533599Z",
     "iopub.status.busy": "2023-03-09T15:56:49.533407Z",
     "iopub.status.idle": "2023-03-09T15:56:49.555045Z",
     "shell.execute_reply": "2023-03-09T15:56:49.553814Z",
     "shell.execute_reply.started": "2023-03-09T15:56:49.533580Z"
    },
    "tags": []
   },
   "outputs": [
    {
     "data": {
      "text/plain": [
       "{'s3atac_sampleB_CD14+_monocyte': 'downstream_analysis/DARs/s3atac/s3atac__s3atac_sampleB_CD14+_monocyte_VS_s3atac_sampleA_CD14+_monocyte__DARs.TOP2k.bed',\n",
       " 's3atac_sampleB_Cytotoxic_T_cell': 'downstream_analysis/DARs/s3atac/s3atac__s3atac_sampleB_Cytotoxic_T_cell_VS_s3atac_sampleA_Cytotoxic_T_cell__DARs.unique.TOP2K.bed',\n",
       " 's3atac_sampleA_CD14+_monocyte': 'downstream_analysis/DARs/s3atac/s3atac__s3atac_sampleA_CD14+_monocyte_VS_s3atac_sampleB_CD14+_monocyte__DARs.unique.bed',\n",
       " 's3atac_sampleA_Cytotoxic_T_cell': 'downstream_analysis/DARs/s3atac/s3atac__s3atac_sampleA_Cytotoxic_T_cell_VS_s3atac_sampleB_Cytotoxic_T_cell__DARs.unique.bed',\n",
       " 'ddseq_sampleB_B_cell': 'downstream_analysis/DARs/ddseq/ddseq__ddseq_sampleB_B_cell_VS_ddseq_sampleA_B_cell__DARs.TOP2k.bed',\n",
       " 'ddseq_sampleA_Cytotoxic_T_cell': 'downstream_analysis/DARs/ddseq/ddseq__ddseq_sampleA_Cytotoxic_T_cell_VS_ddseq_sampleB_Cytotoxic_T_cell__DARs.TOP2k.bed',\n",
       " 'ddseq_sampleA_B_cell': 'downstream_analysis/DARs/ddseq/ddseq__ddseq_sampleA_B_cell_VS_ddseq_sampleB_B_cell__DARs.unique.bed',\n",
       " 'ddseq_sampleB_Cytotoxic_T_cell': 'downstream_analysis/DARs/ddseq/ddseq__ddseq_sampleB_Cytotoxic_T_cell_VS_ddseq_sampleA_Cytotoxic_T_cell__DARs.unique.TOP2K.bed',\n",
       " 'ddseq_sampleB_CD16+_monocyte': 'downstream_analysis/DARs/ddseq/ddseq__ddseq_sampleB_CD16+_monocyte_VS_ddseq_sampleA_CD16+_monocyte__DARs.unique.TOP2K.bed',\n",
       " 'ddseq_sampleA_CD14+_monocyte': 'downstream_analysis/DARs/ddseq/ddseq__ddseq_sampleA_CD14+_monocyte_VS_ddseq_sampleB_CD14+_monocyte__DARs.bed',\n",
       " 'ddseq_sampleA_CD16+_monocyte': 'downstream_analysis/DARs/ddseq/ddseq__ddseq_sampleA_CD16+_monocyte_VS_ddseq_sampleB_CD16+_monocyte__DARs.bed',\n",
       " 'ddseq_sampleA_CD4+_T_cell': 'downstream_analysis/DARs/ddseq/ddseq__ddseq_sampleA_CD4+_T_cell_VS_ddseq_sampleB_CD4+_T_cell__DARs.unique.bed',\n",
       " 'ddseq_sampleB_CD14+_monocyte': 'downstream_analysis/DARs/ddseq/ddseq__ddseq_sampleB_CD14+_monocyte_VS_ddseq_sampleA_CD14+_monocyte__DARs.unique.TOP2K.bed',\n",
       " 'ddseq_sampleB_CD4+_T_cell': 'downstream_analysis/DARs/ddseq/ddseq__ddseq_sampleB_CD4+_T_cell_VS_ddseq_sampleA_CD4+_T_cell__DARs.unique.bed',\n",
       " '10xv1_sampleA_CD14+_monocyte': 'downstream_analysis/DARs/10xv1/10xv1__10xv1_sampleA_CD14+_monocyte_VS_10xv1_sampleB_CD14+_monocyte__DARs.unique.TOP2K.bed',\n",
       " '10xv1_sampleB_Dendritic_cell': 'downstream_analysis/DARs/10xv1/10xv1__10xv1_sampleB_Dendritic_cell_VS_10xv1_sampleA_Dendritic_cell__DARs.unique.TOP2K.bed',\n",
       " '10xv1_sampleB_CD4+_T_cell': 'downstream_analysis/DARs/10xv1/10xv1__10xv1_sampleB_CD4+_T_cell_VS_10xv1_sampleA_CD4+_T_cell__DARs.unique.TOP2K.bed',\n",
       " '10xv1_sampleB_CD16+_monocyte': 'downstream_analysis/DARs/10xv1/10xv1__10xv1_sampleB_CD16+_monocyte_VS_10xv1_sampleA_CD16+_monocyte__DARs.unique.TOP2K.bed',\n",
       " '10xv1_sampleB_B_cell': 'downstream_analysis/DARs/10xv1/10xv1__10xv1_sampleB_B_cell_VS_10xv1_sampleA_B_cell__DARs.TOP2k.bed',\n",
       " '10xv1_sampleB_Natural_killer_cell': 'downstream_analysis/DARs/10xv1/10xv1__10xv1_sampleB_Natural_killer_cell_VS_10xv1_sampleA_Natural_killer_cell__DARs.TOP2k.bed',\n",
       " '10xv1_sampleA_Cytotoxic_T_cell': 'downstream_analysis/DARs/10xv1/10xv1__10xv1_sampleA_Cytotoxic_T_cell_VS_10xv1_sampleB_Cytotoxic_T_cell__DARs.unique.TOP2K.bed',\n",
       " '10xv1_sampleA_CD16+_monocyte': 'downstream_analysis/DARs/10xv1/10xv1__10xv1_sampleA_CD16+_monocyte_VS_10xv1_sampleB_CD16+_monocyte__DARs.bed',\n",
       " '10xv1_sampleA_Dendritic_cell': 'downstream_analysis/DARs/10xv1/10xv1__10xv1_sampleA_Dendritic_cell_VS_10xv1_sampleB_Dendritic_cell__DARs.TOP2k.bed',\n",
       " '10xv1_sampleA_B_cell': 'downstream_analysis/DARs/10xv1/10xv1__10xv1_sampleA_B_cell_VS_10xv1_sampleB_B_cell__DARs.bed',\n",
       " '10xv1_sampleA_CD4+_T_cell': 'downstream_analysis/DARs/10xv1/10xv1__10xv1_sampleA_CD4+_T_cell_VS_10xv1_sampleB_CD4+_T_cell__DARs.unique.bed',\n",
       " '10xv1_sampleB_Cytotoxic_T_cell': 'downstream_analysis/DARs/10xv1/10xv1__10xv1_sampleB_Cytotoxic_T_cell_VS_10xv1_sampleA_Cytotoxic_T_cell__DARs.unique.TOP2K.bed',\n",
       " '10xv1_sampleB_CD14+_monocyte': 'downstream_analysis/DARs/10xv1/10xv1__10xv1_sampleB_CD14+_monocyte_VS_10xv1_sampleA_CD14+_monocyte__DARs.bed',\n",
       " '10xv1_sampleA_Natural_killer_cell': 'downstream_analysis/DARs/10xv1/10xv1__10xv1_sampleA_Natural_killer_cell_VS_10xv1_sampleB_Natural_killer_cell__DARs.unique.TOP2K.bed',\n",
       " 'mtscatac_sampleA_B_cell': 'downstream_analysis/DARs/mtscatac/mtscatac__mtscatac_sampleA_B_cell_VS_mtscatac_sampleB_B_cell__DARs.bed',\n",
       " 'mtscatac_sampleA_CD4+_T_cell': 'downstream_analysis/DARs/mtscatac/mtscatac__mtscatac_sampleA_CD4+_T_cell_VS_mtscatac_sampleB_CD4+_T_cell__DARs.bed',\n",
       " 'mtscatac_sampleB_Cytotoxic_T_cell': 'downstream_analysis/DARs/mtscatac/mtscatac__mtscatac_sampleB_Cytotoxic_T_cell_VS_mtscatac_sampleA_Cytotoxic_T_cell__DARs.TOP2k.bed',\n",
       " 'mtscatac_sampleB_CD4+_T_cell': 'downstream_analysis/DARs/mtscatac/mtscatac__mtscatac_sampleB_CD4+_T_cell_VS_mtscatac_sampleA_CD4+_T_cell__DARs.unique.TOP2K.bed',\n",
       " 'mtscatac_sampleB_B_cell': 'downstream_analysis/DARs/mtscatac/mtscatac__mtscatac_sampleB_B_cell_VS_mtscatac_sampleA_B_cell__DARs.unique.TOP2K.bed',\n",
       " 'mtscatac_sampleA_Cytotoxic_T_cell': 'downstream_analysis/DARs/mtscatac/mtscatac__mtscatac_sampleA_Cytotoxic_T_cell_VS_mtscatac_sampleB_Cytotoxic_T_cell__DARs.TOP2k.bed',\n",
       " 'mtscatac_sampleA_CD14+_monocyte': 'downstream_analysis/DARs/mtscatac/mtscatac__mtscatac_sampleA_CD14+_monocyte_VS_mtscatac_sampleB_CD14+_monocyte__DARs.TOP2k.bed',\n",
       " 'mtscatac_sampleB_CD14+_monocyte': 'downstream_analysis/DARs/mtscatac/mtscatac__mtscatac_sampleB_CD14+_monocyte_VS_mtscatac_sampleA_CD14+_monocyte__DARs.TOP2k.bed',\n",
       " '10xv2_sampleB_CD4+_T_cell': 'downstream_analysis/DARs/10xv2/10xv2__10xv2_sampleB_CD4+_T_cell_VS_10xv2_sampleA_CD4+_T_cell__DARs.bed',\n",
       " '10xv2_sampleA_CD16+_monocyte': 'downstream_analysis/DARs/10xv2/10xv2__10xv2_sampleA_CD16+_monocyte_VS_10xv2_sampleB_CD16+_monocyte__DARs.bed',\n",
       " '10xv2_sampleB_CD16+_monocyte': 'downstream_analysis/DARs/10xv2/10xv2__10xv2_sampleB_CD16+_monocyte_VS_10xv2_sampleA_CD16+_monocyte__DARs.bed',\n",
       " '10xv2_sampleA_CD14+_monocyte': 'downstream_analysis/DARs/10xv2/10xv2__10xv2_sampleA_CD14+_monocyte_VS_10xv2_sampleB_CD14+_monocyte__DARs.unique.TOP2K.bed',\n",
       " '10xv2_sampleB_CD14+_monocyte': 'downstream_analysis/DARs/10xv2/10xv2__10xv2_sampleB_CD14+_monocyte_VS_10xv2_sampleA_CD14+_monocyte__DARs.unique.bed',\n",
       " '10xv2_sampleB_Cytotoxic_T_cell': 'downstream_analysis/DARs/10xv2/10xv2__10xv2_sampleB_Cytotoxic_T_cell_VS_10xv2_sampleA_Cytotoxic_T_cell__DARs.unique.TOP2K.bed',\n",
       " '10xv2_sampleB_Natural_killer_cell': 'downstream_analysis/DARs/10xv2/10xv2__10xv2_sampleB_Natural_killer_cell_VS_10xv2_sampleA_Natural_killer_cell__DARs.unique.TOP2K.bed',\n",
       " '10xv2_sampleA_B_cell': 'downstream_analysis/DARs/10xv2/10xv2__10xv2_sampleA_B_cell_VS_10xv2_sampleB_B_cell__DARs.TOP2k.bed',\n",
       " '10xv2_sampleB_B_cell': 'downstream_analysis/DARs/10xv2/10xv2__10xv2_sampleB_B_cell_VS_10xv2_sampleA_B_cell__DARs.unique.bed',\n",
       " '10xv2_sampleA_Cytotoxic_T_cell': 'downstream_analysis/DARs/10xv2/10xv2__10xv2_sampleA_Cytotoxic_T_cell_VS_10xv2_sampleB_Cytotoxic_T_cell__DARs.unique.TOP2K.bed',\n",
       " '10xv2_sampleA_Natural_killer_cell': 'downstream_analysis/DARs/10xv2/10xv2__10xv2_sampleA_Natural_killer_cell_VS_10xv2_sampleB_Natural_killer_cell__DARs.unique.TOP2K.bed',\n",
       " '10xv2_sampleA_CD4+_T_cell': 'downstream_analysis/DARs/10xv2/10xv2__10xv2_sampleA_CD4+_T_cell_VS_10xv2_sampleB_CD4+_T_cell__DARs.unique.TOP2K.bed',\n",
       " '10xmultiome_sampleB_Cytotoxic_T_cell': 'downstream_analysis/DARs/10xmultiome/10xmultiome__10xmultiome_sampleB_Cytotoxic_T_cell_VS_10xmultiome_sampleA_Cytotoxic_T_cell__DARs.unique.bed',\n",
       " '10xmultiome_sampleB_CD14+_monocyte': 'downstream_analysis/DARs/10xmultiome/10xmultiome__10xmultiome_sampleB_CD14+_monocyte_VS_10xmultiome_sampleA_CD14+_monocyte__DARs.unique.TOP2K.bed',\n",
       " '10xmultiome_sampleA_B_cell': 'downstream_analysis/DARs/10xmultiome/10xmultiome__10xmultiome_sampleA_B_cell_VS_10xmultiome_sampleB_B_cell__DARs.bed',\n",
       " '10xmultiome_sampleA_CD14+_monocyte': 'downstream_analysis/DARs/10xmultiome/10xmultiome__10xmultiome_sampleA_CD14+_monocyte_VS_10xmultiome_sampleB_CD14+_monocyte__DARs.TOP2k.bed',\n",
       " '10xmultiome_sampleB_CD4+_T_cell': 'downstream_analysis/DARs/10xmultiome/10xmultiome__10xmultiome_sampleB_CD4+_T_cell_VS_10xmultiome_sampleA_CD4+_T_cell__DARs.unique.bed',\n",
       " '10xmultiome_sampleA_Cytotoxic_T_cell': 'downstream_analysis/DARs/10xmultiome/10xmultiome__10xmultiome_sampleA_Cytotoxic_T_cell_VS_10xmultiome_sampleB_Cytotoxic_T_cell__DARs.unique.bed',\n",
       " '10xmultiome_sampleA_CD4+_T_cell': 'downstream_analysis/DARs/10xmultiome/10xmultiome__10xmultiome_sampleA_CD4+_T_cell_VS_10xmultiome_sampleB_CD4+_T_cell__DARs.bed',\n",
       " '10xmultiome_sampleB_B_cell': 'downstream_analysis/DARs/10xmultiome/10xmultiome__10xmultiome_sampleB_B_cell_VS_10xmultiome_sampleA_B_cell__DARs.TOP2k.bed',\n",
       " 'hydrop_sampleA_Cytotoxic_T_cell': 'downstream_analysis/DARs/hydrop/hydrop__hydrop_sampleA_Cytotoxic_T_cell_VS_hydrop_sampleB_Cytotoxic_T_cell__DARs.bed',\n",
       " 'hydrop_sampleB_Cytotoxic_T_cell': 'downstream_analysis/DARs/hydrop/hydrop__hydrop_sampleB_Cytotoxic_T_cell_VS_hydrop_sampleA_Cytotoxic_T_cell__DARs.bed',\n",
       " 'hydrop_sampleA_CD4+_T_cell': 'downstream_analysis/DARs/hydrop/hydrop__hydrop_sampleA_CD4+_T_cell_VS_hydrop_sampleB_CD4+_T_cell__DARs.bed',\n",
       " 'hydrop_sampleA_Natural_killer_cell': 'downstream_analysis/DARs/hydrop/hydrop__hydrop_sampleA_Natural_killer_cell_VS_hydrop_sampleB_Natural_killer_cell__DARs.TOP2k.bed',\n",
       " 'hydrop_sampleA_B_cell': 'downstream_analysis/DARs/hydrop/hydrop__hydrop_sampleA_B_cell_VS_hydrop_sampleB_B_cell__DARs.unique.bed',\n",
       " 'hydrop_sampleB_Natural_killer_cell': 'downstream_analysis/DARs/hydrop/hydrop__hydrop_sampleB_Natural_killer_cell_VS_hydrop_sampleA_Natural_killer_cell__DARs.unique.TOP2K.bed',\n",
       " 'hydrop_sampleA_CD14+_monocyte': 'downstream_analysis/DARs/hydrop/hydrop__hydrop_sampleA_CD14+_monocyte_VS_hydrop_sampleB_CD14+_monocyte__DARs.bed',\n",
       " 'hydrop_sampleB_CD14+_monocyte': 'downstream_analysis/DARs/hydrop/hydrop__hydrop_sampleB_CD14+_monocyte_VS_hydrop_sampleA_CD14+_monocyte__DARs.TOP2k.bed',\n",
       " 'hydrop_sampleB_CD4+_T_cell': 'downstream_analysis/DARs/hydrop/hydrop__hydrop_sampleB_CD4+_T_cell_VS_hydrop_sampleA_CD4+_T_cell__DARs.bed',\n",
       " 'hydrop_sampleB_B_cell': 'downstream_analysis/DARs/hydrop/hydrop__hydrop_sampleB_B_cell_VS_hydrop_sampleA_B_cell__DARs.unique.bed',\n",
       " '10xv11_sampleA_B_cell': 'downstream_analysis/DARs/10xv11/10xv11__10xv11_sampleA_B_cell_VS_10xv11_sampleB_B_cell__DARs.bed',\n",
       " '10xv11_sampleA_Natural_killer_cell': 'downstream_analysis/DARs/10xv11/10xv11__10xv11_sampleA_Natural_killer_cell_VS_10xv11_sampleB_Natural_killer_cell__DARs.unique.TOP2K.bed',\n",
       " '10xv11_sampleB_Cytotoxic_T_cell': 'downstream_analysis/DARs/10xv11/10xv11__10xv11_sampleB_Cytotoxic_T_cell_VS_10xv11_sampleA_Cytotoxic_T_cell__DARs.unique.TOP2K.bed',\n",
       " '10xv11_sampleB_B_cell': 'downstream_analysis/DARs/10xv11/10xv11__10xv11_sampleB_B_cell_VS_10xv11_sampleA_B_cell__DARs.unique.TOP2K.bed',\n",
       " '10xv11_sampleA_CD14+_monocyte': 'downstream_analysis/DARs/10xv11/10xv11__10xv11_sampleA_CD14+_monocyte_VS_10xv11_sampleB_CD14+_monocyte__DARs.unique.TOP2K.bed',\n",
       " '10xv11_sampleA_CD4+_T_cell': 'downstream_analysis/DARs/10xv11/10xv11__10xv11_sampleA_CD4+_T_cell_VS_10xv11_sampleB_CD4+_T_cell__DARs.unique.bed',\n",
       " '10xv11_sampleB_CD14+_monocyte': 'downstream_analysis/DARs/10xv11/10xv11__10xv11_sampleB_CD14+_monocyte_VS_10xv11_sampleA_CD14+_monocyte__DARs.unique.bed',\n",
       " '10xv11_sampleB_CD4+_T_cell': 'downstream_analysis/DARs/10xv11/10xv11__10xv11_sampleB_CD4+_T_cell_VS_10xv11_sampleA_CD4+_T_cell__DARs.unique.TOP2K.bed',\n",
       " '10xv11_sampleB_CD16+_monocyte': 'downstream_analysis/DARs/10xv11/10xv11__10xv11_sampleB_CD16+_monocyte_VS_10xv11_sampleA_CD16+_monocyte__DARs.bed',\n",
       " '10xv11_sampleB_Natural_killer_cell': 'downstream_analysis/DARs/10xv11/10xv11__10xv11_sampleB_Natural_killer_cell_VS_10xv11_sampleA_Natural_killer_cell__DARs.unique.TOP2K.bed',\n",
       " '10xv11_sampleA_Cytotoxic_T_cell': 'downstream_analysis/DARs/10xv11/10xv11__10xv11_sampleA_Cytotoxic_T_cell_VS_10xv11_sampleB_Cytotoxic_T_cell__DARs.unique.bed'}"
      ]
     },
     "execution_count": 5,
     "metadata": {},
     "output_type": "execute_result"
    }
   ],
   "source": [
    "merged_dar_path_dict = {\n",
    "    x.split(\"/\")[-1].split(\"__\")[1].split(\"_VS\")[0]: x\n",
    "    for x in glob.glob(\"downstream_analysis/DARs/*/*.bed\")\n",
    "}\n",
    "merged_dar_path_dict"
   ]
  },
  {
   "cell_type": "code",
   "execution_count": 6,
   "id": "4dd1b7ba-24ea-42e5-ae69-54e0a17c0d8b",
   "metadata": {
    "execution": {
     "iopub.execute_input": "2023-03-09T15:56:49.556057Z",
     "iopub.status.busy": "2023-03-09T15:56:49.555869Z",
     "iopub.status.idle": "2023-03-09T15:56:49.564983Z",
     "shell.execute_reply": "2023-03-09T15:56:49.564190Z",
     "shell.execute_reply.started": "2023-03-09T15:56:49.556037Z"
    },
    "tags": []
   },
   "outputs": [],
   "source": [
    "merged_dar_path_dict = {\n",
    "    y: merged_dar_path_dict[y]\n",
    "    for y in [\n",
    "        x\n",
    "        for x in merged_dar_path_dict.keys()\n",
    "        if (\"B_cell\" in x) or (\"Cytotoxic_T_cell\" in x) or (\"CD4+_T_cell\" in x)\n",
    "    ]\n",
    "}"
   ]
  },
  {
   "cell_type": "code",
   "execution_count": 7,
   "id": "abe52a2a-00c4-4154-b1d4-42a81890b111",
   "metadata": {
    "execution": {
     "iopub.execute_input": "2023-03-09T15:56:49.565992Z",
     "iopub.status.busy": "2023-03-09T15:56:49.565804Z",
     "iopub.status.idle": "2023-03-09T15:56:50.149749Z",
     "shell.execute_reply": "2023-03-09T15:56:50.148895Z",
     "shell.execute_reply.started": "2023-03-09T15:56:49.565973Z"
    },
    "tags": []
   },
   "outputs": [
    {
     "name": "stdout",
     "output_type": "stream",
     "text": [
      "s3atac_sampleB_Cytotoxic_T_cell\n",
      "s3atac_sampleA_Cytotoxic_T_cell\n",
      "ddseq_sampleB_B_cell\n",
      "ddseq_sampleA_Cytotoxic_T_cell\n",
      "ddseq_sampleA_B_cell\n",
      "ddseq_sampleB_Cytotoxic_T_cell\n",
      "ddseq_sampleA_CD4+_T_cell\n",
      "ddseq_sampleB_CD4+_T_cell\n",
      "10xv1_sampleB_CD4+_T_cell\n",
      "10xv1_sampleB_B_cell\n",
      "10xv1_sampleA_Cytotoxic_T_cell\n",
      "10xv1_sampleA_B_cell\n",
      "10xv1_sampleA_CD4+_T_cell\n",
      "10xv1_sampleB_Cytotoxic_T_cell\n",
      "mtscatac_sampleA_B_cell\n",
      "mtscatac_sampleA_CD4+_T_cell\n",
      "mtscatac_sampleB_Cytotoxic_T_cell\n",
      "mtscatac_sampleB_CD4+_T_cell\n",
      "mtscatac_sampleB_B_cell\n",
      "mtscatac_sampleA_Cytotoxic_T_cell\n",
      "10xv2_sampleB_CD4+_T_cell\n",
      "10xv2_sampleB_Cytotoxic_T_cell\n",
      "10xv2_sampleA_B_cell\n",
      "10xv2_sampleB_B_cell\n",
      "10xv2_sampleA_Cytotoxic_T_cell\n",
      "10xv2_sampleA_CD4+_T_cell\n",
      "10xmultiome_sampleB_Cytotoxic_T_cell\n",
      "10xmultiome_sampleA_B_cell\n",
      "10xmultiome_sampleB_CD4+_T_cell\n",
      "10xmultiome_sampleA_Cytotoxic_T_cell\n",
      "10xmultiome_sampleA_CD4+_T_cell\n",
      "10xmultiome_sampleB_B_cell\n",
      "hydrop_sampleA_Cytotoxic_T_cell\n",
      "hydrop_sampleB_Cytotoxic_T_cell\n",
      "hydrop_sampleA_CD4+_T_cell\n",
      "hydrop_sampleA_B_cell\n",
      "hydrop_sampleB_CD4+_T_cell\n",
      "hydrop_sampleB_B_cell\n",
      "10xv11_sampleA_B_cell\n",
      "10xv11_sampleB_Cytotoxic_T_cell\n",
      "10xv11_sampleB_B_cell\n",
      "10xv11_sampleA_CD4+_T_cell\n",
      "10xv11_sampleB_CD4+_T_cell\n",
      "10xv11_sampleA_Cytotoxic_T_cell\n"
     ]
    },
    {
     "data": {
      "text/plain": [
       "OrderedDict([('s3atac_sampleB_Cytotoxic_T_cell', 'chr12:6894090-6894590'),\n",
       "             ('s3atac_sampleA_Cytotoxic_T_cell', 'chr12:10292828-10293328'),\n",
       "             ('ddseq_sampleB_B_cell', 'chr7:5488513-5489013'),\n",
       "             ('ddseq_sampleA_Cytotoxic_T_cell', 'chr19:41426581-41427081'),\n",
       "             ('ddseq_sampleA_B_cell', 'chr16:31880421-31880921'),\n",
       "             ('ddseq_sampleB_Cytotoxic_T_cell', 'chr16:3548364-3548864'),\n",
       "             ('ddseq_sampleA_CD4+_T_cell', 'chr20:50194891-50195391'),\n",
       "             ('ddseq_sampleB_CD4+_T_cell', 'chr6:11712754-11713254'),\n",
       "             ('10xv1_sampleB_CD4+_T_cell', 'chr22:36816760-36817260'),\n",
       "             ('10xv1_sampleB_B_cell', 'chr1:109503908-109504408'),\n",
       "             ('10xv1_sampleA_Cytotoxic_T_cell', 'chr16:58177215-58177715'),\n",
       "             ('10xv1_sampleA_B_cell', 'chr6:70666657-70667157'),\n",
       "             ('10xv1_sampleA_CD4+_T_cell', 'chr11:9681646-9682146'),\n",
       "             ('10xv1_sampleB_Cytotoxic_T_cell', 'chr18:26708750-26709250'),\n",
       "             ('mtscatac_sampleA_B_cell', 'chr7:44617215-44617715'),\n",
       "             ('mtscatac_sampleA_CD4+_T_cell', 'chr3:5169189-5169689'),\n",
       "             ('mtscatac_sampleB_Cytotoxic_T_cell', 'chr3:15339871-15340371'),\n",
       "             ('mtscatac_sampleB_CD4+_T_cell', 'chr4:26071627-26072127'),\n",
       "             ('mtscatac_sampleB_B_cell', 'chr11:63560823-63561323'),\n",
       "             ('mtscatac_sampleA_Cytotoxic_T_cell', 'chr6:137099656-137100156'),\n",
       "             ('10xv2_sampleB_CD4+_T_cell', 'chr9:3508470-3508970'),\n",
       "             ('10xv2_sampleB_Cytotoxic_T_cell', 'chr17:46028898-46029398'),\n",
       "             ('10xv2_sampleA_B_cell', 'chr12:57248950-57249450'),\n",
       "             ('10xv2_sampleB_B_cell', 'chr1:235952931-235953431'),\n",
       "             ('10xv2_sampleA_Cytotoxic_T_cell', 'chr6:32638350-32638850'),\n",
       "             ('10xv2_sampleA_CD4+_T_cell', 'chr6:135624327-135624827'),\n",
       "             ('10xmultiome_sampleB_Cytotoxic_T_cell',\n",
       "              'chr9:127131198-127131698'),\n",
       "             ('10xmultiome_sampleA_B_cell', 'chr20:49768181-49768681'),\n",
       "             ('10xmultiome_sampleB_CD4+_T_cell', 'chr7:151926274-151926774'),\n",
       "             ('10xmultiome_sampleA_Cytotoxic_T_cell',\n",
       "              'chr6:134456256-134456756'),\n",
       "             ('10xmultiome_sampleA_CD4+_T_cell', 'chr17:36195236-36195736'),\n",
       "             ('10xmultiome_sampleB_B_cell', 'chr4:108159748-108160248'),\n",
       "             ('hydrop_sampleA_Cytotoxic_T_cell', 'chr6:16474749-16475249'),\n",
       "             ('hydrop_sampleB_Cytotoxic_T_cell', 'chr3:160006465-160006965'),\n",
       "             ('hydrop_sampleA_CD4+_T_cell', 'chr11:59728860-59729360'),\n",
       "             ('hydrop_sampleA_B_cell', 'chr2:7748647-7749147'),\n",
       "             ('hydrop_sampleB_CD4+_T_cell', 'chr16:56871101-56871601'),\n",
       "             ('hydrop_sampleB_B_cell', 'chr5:131974868-131975368'),\n",
       "             ('10xv11_sampleA_B_cell', 'chr22:45218962-45219462'),\n",
       "             ('10xv11_sampleB_Cytotoxic_T_cell', 'chr6:108888638-108889138'),\n",
       "             ('10xv11_sampleB_B_cell', 'chr3:195556331-195556831'),\n",
       "             ('10xv11_sampleA_CD4+_T_cell', 'chr2:230496786-230497286'),\n",
       "             ('10xv11_sampleB_CD4+_T_cell', 'chr5:111472442-111472942'),\n",
       "             ('10xv11_sampleA_Cytotoxic_T_cell', 'chr16:14672594-14673094')])"
      ]
     },
     "execution_count": 7,
     "metadata": {},
     "output_type": "execute_result"
    }
   ],
   "source": [
    "regions_dict = OrderedDict({})\n",
    "regions_maxstr_df = pd.DataFrame()\n",
    "for sample, path in merged_dar_path_dict.items():\n",
    "    print(sample)\n",
    "    df = pd.read_csv(path, sep=\"\\t\", header=None)\n",
    "    df.columns = \"chrom start end cell_type log2fc strand p_val\".split()\n",
    "    # print(df.iloc[0])\n",
    "\n",
    "    cell_type = sample.split(\"__\")[-1]\n",
    "    region = f\"{df.iloc[0]['chrom']}:{df.iloc[0]['start']}-{df.iloc[0]['end']}\"\n",
    "    regions_dict[cell_type] = region\n",
    "    supersample = sample.split(\"_\")[0]\n",
    "    cell_type = \"_\".join(sample.split(\"_\")[1:])\n",
    "    regions_maxstr_df.at[supersample, cell_type] = df.iloc[0][\"log2fc\"]\n",
    "\n",
    "regions_dict"
   ]
  },
  {
   "cell_type": "code",
   "execution_count": 8,
   "id": "b8aa741f-ecfa-41a7-8a75-e7fdd127bccf",
   "metadata": {
    "execution": {
     "iopub.execute_input": "2023-03-09T15:56:50.150975Z",
     "iopub.status.busy": "2023-03-09T15:56:50.150765Z",
     "iopub.status.idle": "2023-03-09T15:56:50.164475Z",
     "shell.execute_reply": "2023-03-09T15:56:50.163680Z",
     "shell.execute_reply.started": "2023-03-09T15:56:50.150952Z"
    },
    "tags": []
   },
   "outputs": [
    {
     "data": {
      "text/html": [
       "<div>\n",
       "<style scoped>\n",
       "    .dataframe tbody tr th:only-of-type {\n",
       "        vertical-align: middle;\n",
       "    }\n",
       "\n",
       "    .dataframe tbody tr th {\n",
       "        vertical-align: top;\n",
       "    }\n",
       "\n",
       "    .dataframe thead th {\n",
       "        text-align: right;\n",
       "    }\n",
       "</style>\n",
       "<table border=\"1\" class=\"dataframe\">\n",
       "  <thead>\n",
       "    <tr style=\"text-align: right;\">\n",
       "      <th></th>\n",
       "      <th>sampleB_Cytotoxic_T_cell</th>\n",
       "      <th>sampleA_Cytotoxic_T_cell</th>\n",
       "      <th>sampleB_B_cell</th>\n",
       "      <th>sampleA_B_cell</th>\n",
       "      <th>sampleA_CD4+_T_cell</th>\n",
       "      <th>sampleB_CD4+_T_cell</th>\n",
       "    </tr>\n",
       "  </thead>\n",
       "  <tbody>\n",
       "    <tr>\n",
       "      <th>s3atac</th>\n",
       "      <td>0.537627</td>\n",
       "      <td>0.226693</td>\n",
       "      <td>NaN</td>\n",
       "      <td>NaN</td>\n",
       "      <td>NaN</td>\n",
       "      <td>NaN</td>\n",
       "    </tr>\n",
       "    <tr>\n",
       "      <th>ddseq</th>\n",
       "      <td>0.821580</td>\n",
       "      <td>1.072721</td>\n",
       "      <td>1.076297</td>\n",
       "      <td>2.152992</td>\n",
       "      <td>1.292236</td>\n",
       "      <td>1.066733</td>\n",
       "    </tr>\n",
       "    <tr>\n",
       "      <th>10xv1</th>\n",
       "      <td>1.900956</td>\n",
       "      <td>0.670953</td>\n",
       "      <td>1.580889</td>\n",
       "      <td>1.742505</td>\n",
       "      <td>1.123186</td>\n",
       "      <td>1.150943</td>\n",
       "    </tr>\n",
       "    <tr>\n",
       "      <th>mtscatac</th>\n",
       "      <td>0.565792</td>\n",
       "      <td>0.560568</td>\n",
       "      <td>0.907518</td>\n",
       "      <td>0.745828</td>\n",
       "      <td>0.746014</td>\n",
       "      <td>0.991810</td>\n",
       "    </tr>\n",
       "    <tr>\n",
       "      <th>10xv2</th>\n",
       "      <td>1.856757</td>\n",
       "      <td>0.588514</td>\n",
       "      <td>0.832993</td>\n",
       "      <td>1.668839</td>\n",
       "      <td>1.158081</td>\n",
       "      <td>0.885774</td>\n",
       "    </tr>\n",
       "    <tr>\n",
       "      <th>10xmultiome</th>\n",
       "      <td>1.320006</td>\n",
       "      <td>0.594601</td>\n",
       "      <td>0.638410</td>\n",
       "      <td>0.898787</td>\n",
       "      <td>0.715533</td>\n",
       "      <td>0.578385</td>\n",
       "    </tr>\n",
       "    <tr>\n",
       "      <th>hydrop</th>\n",
       "      <td>0.532127</td>\n",
       "      <td>0.417732</td>\n",
       "      <td>0.647265</td>\n",
       "      <td>0.637100</td>\n",
       "      <td>0.481483</td>\n",
       "      <td>0.933123</td>\n",
       "    </tr>\n",
       "    <tr>\n",
       "      <th>10xv11</th>\n",
       "      <td>1.293122</td>\n",
       "      <td>0.793041</td>\n",
       "      <td>1.020363</td>\n",
       "      <td>1.638865</td>\n",
       "      <td>0.468253</td>\n",
       "      <td>1.339407</td>\n",
       "    </tr>\n",
       "  </tbody>\n",
       "</table>\n",
       "</div>"
      ],
      "text/plain": [
       "             sampleB_Cytotoxic_T_cell  sampleA_Cytotoxic_T_cell  \\\n",
       "s3atac                       0.537627                  0.226693   \n",
       "ddseq                        0.821580                  1.072721   \n",
       "10xv1                        1.900956                  0.670953   \n",
       "mtscatac                     0.565792                  0.560568   \n",
       "10xv2                        1.856757                  0.588514   \n",
       "10xmultiome                  1.320006                  0.594601   \n",
       "hydrop                       0.532127                  0.417732   \n",
       "10xv11                       1.293122                  0.793041   \n",
       "\n",
       "             sampleB_B_cell  sampleA_B_cell  sampleA_CD4+_T_cell  \\\n",
       "s3atac                  NaN             NaN                  NaN   \n",
       "ddseq              1.076297        2.152992             1.292236   \n",
       "10xv1              1.580889        1.742505             1.123186   \n",
       "mtscatac           0.907518        0.745828             0.746014   \n",
       "10xv2              0.832993        1.668839             1.158081   \n",
       "10xmultiome        0.638410        0.898787             0.715533   \n",
       "hydrop             0.647265        0.637100             0.481483   \n",
       "10xv11             1.020363        1.638865             0.468253   \n",
       "\n",
       "             sampleB_CD4+_T_cell  \n",
       "s3atac                       NaN  \n",
       "ddseq                   1.066733  \n",
       "10xv1                   1.150943  \n",
       "mtscatac                0.991810  \n",
       "10xv2                   0.885774  \n",
       "10xmultiome             0.578385  \n",
       "hydrop                  0.933123  \n",
       "10xv11                  1.339407  "
      ]
     },
     "execution_count": 8,
     "metadata": {},
     "output_type": "execute_result"
    }
   ],
   "source": [
    "regions_maxstr_df"
   ]
  },
  {
   "cell_type": "markdown",
   "id": "598184c3-2cd0-4416-a0cf-60e9966c221e",
   "metadata": {},
   "source": [
    "## alternatively, use merged DARs"
   ]
  },
  {
   "cell_type": "code",
   "execution_count": 9,
   "id": "6566e4a9-0e54-4031-8f8e-81f4723bb74b",
   "metadata": {
    "execution": {
     "iopub.execute_input": "2023-03-09T15:56:50.166638Z",
     "iopub.status.busy": "2023-03-09T15:56:50.166423Z",
     "iopub.status.idle": "2023-03-09T15:56:50.177450Z",
     "shell.execute_reply": "2023-03-09T15:56:50.176653Z",
     "shell.execute_reply.started": "2023-03-09T15:56:50.166617Z"
    },
    "tags": []
   },
   "outputs": [
    {
     "data": {
      "text/plain": [
       "{'sampleA_CD14_monocyte': '../fixedcells_4_merged/merged_male_female_DARs/sampleA_CD14+_monocyte_VS_sampleB_CD14+_monocyte__1-0xfoldchange_DARs.top200.bed',\n",
       " 'sampleB_CD14_monocyte': '../fixedcells_4_merged/merged_male_female_DARs/sampleB_CD14+_monocyte_VS_sampleA_CD14+_monocyte__1-0xfoldchange_DARs.bed',\n",
       " 'sampleA_B_cell': '../fixedcells_4_merged/merged_male_female_DARs/sampleA_B_cell_VS_sampleB_B_cell__1-0xfoldchange_DARs.bed',\n",
       " 'sampleA_CD4_T_cell': '../fixedcells_4_merged/merged_male_female_DARs/sampleA_CD4+_T_cell_VS_sampleB_CD4+_T_cell__1-0xfoldchange_DARs.top200.bed',\n",
       " 'sampleB_Dendritic_cell': '../fixedcells_4_merged/merged_male_female_DARs/sampleB_Dendritic_cell_VS_sampleA_Dendritic_cell__1-0xfoldchange_DARs.bed',\n",
       " 'sampleA_Cytotoxic_T_cell': '../fixedcells_4_merged/merged_male_female_DARs/sampleA_Cytotoxic_T_cell_VS_sampleB_Cytotoxic_T_cell__1-0xfoldchange_DARs.top200.bed',\n",
       " 'sampleA_Dendritic_cell': '../fixedcells_4_merged/merged_male_female_DARs/sampleA_Dendritic_cell_VS_sampleB_Dendritic_cell__1-0xfoldchange_DARs.bed',\n",
       " 'sampleB_Natural_killer_cell': '../fixedcells_4_merged/merged_male_female_DARs/sampleB_Natural_killer_cell_VS_sampleA_Natural_killer_cell__1-0xfoldchange_DARs.bed',\n",
       " 'sampleA_CD16_monocyte': '../fixedcells_4_merged/merged_male_female_DARs/sampleA_CD16+_monocyte_VS_sampleB_CD16+_monocyte__1-0xfoldchange_DARs.bed',\n",
       " 'sampleB_CD16_monocyte': '../fixedcells_4_merged/merged_male_female_DARs/sampleB_CD16+_monocyte_VS_sampleA_CD16+_monocyte__1-0xfoldchange_DARs.bed',\n",
       " 'sampleB_B_cell': '../fixedcells_4_merged/merged_male_female_DARs/sampleB_B_cell_VS_sampleA_B_cell__1-0xfoldchange_DARs.bed',\n",
       " 'sampleA_Natural_killer_cell': '../fixedcells_4_merged/merged_male_female_DARs/sampleA_Natural_killer_cell_VS_sampleB_Natural_killer_cell__1-0xfoldchange_DARs.top200.bed',\n",
       " 'sampleB_CD4_T_cell': '../fixedcells_4_merged/merged_male_female_DARs/sampleB_CD4+_T_cell_VS_sampleA_CD4+_T_cell__1-0xfoldchange_DARs.bed',\n",
       " 'sampleB_Cytotoxic_T_cell': '../fixedcells_4_merged/merged_male_female_DARs/sampleB_Cytotoxic_T_cell_VS_sampleA_Cytotoxic_T_cell__1-0xfoldchange_DARs.bed'}"
      ]
     },
     "execution_count": 9,
     "metadata": {},
     "output_type": "execute_result"
    }
   ],
   "source": [
    "merged_dar_path_dict = {\n",
    "    x.split(\"/\")[-1].split(\"_VS\")[0].replace(\"+\", \"\"): x\n",
    "    for x in glob.glob(\"../fixedcells_4_merged/merged_male_female_DARs/*.bed\")\n",
    "}\n",
    "merged_dar_path_dict"
   ]
  },
  {
   "cell_type": "code",
   "execution_count": 10,
   "id": "342e7fa5-9345-4c53-9409-f71a4d6917ef",
   "metadata": {
    "execution": {
     "iopub.execute_input": "2023-03-09T15:56:50.178961Z",
     "iopub.status.busy": "2023-03-09T15:56:50.178753Z",
     "iopub.status.idle": "2023-03-09T15:56:50.380449Z",
     "shell.execute_reply": "2023-03-09T15:56:50.379600Z",
     "shell.execute_reply.started": "2023-03-09T15:56:50.178940Z"
    },
    "tags": []
   },
   "outputs": [
    {
     "name": "stdout",
     "output_type": "stream",
     "text": [
      "sampleA_CD14_monocyte\n",
      "sampleB_CD14_monocyte\n",
      "sampleA_B_cell\n",
      "sampleA_CD4_T_cell\n",
      "sampleB_Dendritic_cell\n",
      "sampleA_Cytotoxic_T_cell\n",
      "sampleA_Dendritic_cell\n",
      "sampleB_Natural_killer_cell\n",
      "sampleA_CD16_monocyte\n",
      "sampleB_CD16_monocyte\n",
      "sampleB_B_cell\n",
      "sampleA_Natural_killer_cell\n",
      "sampleB_CD4_T_cell\n",
      "sampleB_Cytotoxic_T_cell\n"
     ]
    },
    {
     "data": {
      "text/plain": [
       "OrderedDict([('sampleA_CD14_monocyte', 'chr19:38579230-38579730'),\n",
       "             ('sampleB_CD14_monocyte', 'chrX:118992700-118993200'),\n",
       "             ('sampleA_B_cell', 'chr5:158390608-158391108'),\n",
       "             ('sampleA_CD4_T_cell', 'chr2:111634294-111634794'),\n",
       "             ('sampleB_Dendritic_cell', 'chr15:40493445-40493945'),\n",
       "             ('sampleA_Cytotoxic_T_cell', 'chr9:91694416-91694916'),\n",
       "             ('sampleA_Dendritic_cell', 'chr5:35819594-35820094'),\n",
       "             ('sampleB_Natural_killer_cell', 'chr3:141300368-141300868'),\n",
       "             ('sampleA_CD16_monocyte', 'chr12:69275483-69275983'),\n",
       "             ('sampleB_CD16_monocyte', 'chr3:15500218-15500718'),\n",
       "             ('sampleB_B_cell', 'chr20:62025976-62026476'),\n",
       "             ('sampleA_Natural_killer_cell', 'chr2:144376443-144376943'),\n",
       "             ('sampleB_CD4_T_cell', 'chr15:40746390-40746890'),\n",
       "             ('sampleB_Cytotoxic_T_cell', 'chr17:1614118-1614618')])"
      ]
     },
     "execution_count": 10,
     "metadata": {},
     "output_type": "execute_result"
    }
   ],
   "source": [
    "regions_dict = OrderedDict({})\n",
    "regions_maxstr_df = pd.DataFrame()\n",
    "for sample, path in merged_dar_path_dict.items():\n",
    "    print(sample)\n",
    "    df = pd.read_csv(path, sep=\"\\t\", header=None)\n",
    "    df.columns = \"chrom start end cell_type log2fc strand p_val\".split()\n",
    "    # print(df.iloc[0])\n",
    "\n",
    "    cell_type = sample.split(\"__\")[-1]\n",
    "    region = f\"{df.iloc[0]['chrom']}:{df.iloc[0]['start']}-{df.iloc[0]['end']}\"\n",
    "    regions_dict[cell_type] = region\n",
    "    supersample = sample.split(\"_\")[0]\n",
    "    cell_type = \"_\".join(sample.split(\"_\")[1:])\n",
    "    regions_maxstr_df.at[supersample, cell_type] = df.iloc[0][\"log2fc\"]\n",
    "\n",
    "regions_dict"
   ]
  },
  {
   "cell_type": "code",
   "execution_count": null,
   "id": "6c18448e-7645-4a70-827c-b3c7a18395ff",
   "metadata": {},
   "outputs": [],
   "source": [
    "sampleA_B_cell_VS_sampleB_B_cell\n",
    "chr19:4214712-4215211\n",
    "Score = 0.8278824"
   ]
  },
  {
   "cell_type": "code",
   "execution_count": 188,
   "id": "1b6055cf-74e0-4c4d-844b-a6f002c29142",
   "metadata": {
    "execution": {
     "iopub.execute_input": "2023-03-09T16:47:44.049019Z",
     "iopub.status.busy": "2023-03-09T16:47:44.048351Z",
     "iopub.status.idle": "2023-03-09T16:47:44.065889Z",
     "shell.execute_reply": "2023-03-09T16:47:44.064489Z",
     "shell.execute_reply.started": "2023-03-09T16:47:44.048953Z"
    },
    "tags": []
   },
   "outputs": [],
   "source": [
    "regions_dict = {\n",
    "    \"sampleA_Cytotoxic_T_cell\": \"chr11:112525183-112525683\",\n",
    "    \"sampleB_Cytotoxic_T_cell\": \"chr11:112525183-112525683\",\n",
    "    \"sampleA_CD4_T_cell\": \"chr22:26547369-26547868\",\n",
    "    \"sampleB_CD4_T_cell\": \"chr22:26547369-26547868\",\n",
    "    \"sampleA_B_cell\": \"chr10:50508215-50508714\",\n",
    "    \"sampleB_B_cell\": \"chr10:50508215-50508714\",\n",
    "}"
   ]
  },
  {
   "cell_type": "code",
   "execution_count": 263,
   "id": "8f469502-aa4b-4a96-90a0-491210597a90",
   "metadata": {
    "execution": {
     "iopub.execute_input": "2023-03-09T16:53:56.020126Z",
     "iopub.status.busy": "2023-03-09T16:53:56.019450Z",
     "iopub.status.idle": "2023-03-09T16:53:56.038066Z",
     "shell.execute_reply": "2023-03-09T16:53:56.036541Z",
     "shell.execute_reply.started": "2023-03-09T16:53:56.020051Z"
    },
    "tags": []
   },
   "outputs": [],
   "source": [
    "regions_dict = {\n",
    "    \"sampleA_Cytotoxic_T_cell\": \"chr11:112525183-112525683\",\n",
    "    \"sampleB_Cytotoxic_T_cell\": \"chr11:112525183-112525683\",\n",
    "    \"sampleA_CD4_T_cell\": \"chr22:26547369-26547868\",\n",
    "    \"sampleB_CD4_T_cell\": \"chr22:26547369-26547868\",\n",
    "    \"sampleA_B_cell\": \"chr19:4214712-4215211\",\n",
    "    \"sampleB_B_cell\": \"chr19:4214712-4215211\",\n",
    "}"
   ]
  },
  {
   "cell_type": "code",
   "execution_count": 264,
   "id": "99a39a81-2f2f-408f-99bd-84f69c609c40",
   "metadata": {
    "execution": {
     "iopub.execute_input": "2023-03-09T16:53:56.040325Z",
     "iopub.status.busy": "2023-03-09T16:53:56.039903Z",
     "iopub.status.idle": "2023-03-09T16:53:56.087356Z",
     "shell.execute_reply": "2023-03-09T16:53:56.086505Z",
     "shell.execute_reply.started": "2023-03-09T16:53:56.040281Z"
    },
    "tags": []
   },
   "outputs": [
    {
     "data": {
      "text/html": [
       "<div>\n",
       "<style scoped>\n",
       "    .dataframe tbody tr th:only-of-type {\n",
       "        vertical-align: middle;\n",
       "    }\n",
       "\n",
       "    .dataframe tbody tr th {\n",
       "        vertical-align: top;\n",
       "    }\n",
       "\n",
       "    .dataframe thead th {\n",
       "        text-align: right;\n",
       "    }\n",
       "</style>\n",
       "<table border=\"1\" class=\"dataframe\">\n",
       "  <thead>\n",
       "    <tr style=\"text-align: right;\">\n",
       "      <th></th>\n",
       "      <th>chrom</th>\n",
       "      <th>start</th>\n",
       "      <th>end</th>\n",
       "    </tr>\n",
       "  </thead>\n",
       "  <tbody>\n",
       "    <tr>\n",
       "      <th>sampleA_Cytotoxic_T_cell</th>\n",
       "      <td>chr11</td>\n",
       "      <td>112525183</td>\n",
       "      <td>112525683</td>\n",
       "    </tr>\n",
       "    <tr>\n",
       "      <th>sampleB_Cytotoxic_T_cell</th>\n",
       "      <td>chr11</td>\n",
       "      <td>112525183</td>\n",
       "      <td>112525683</td>\n",
       "    </tr>\n",
       "    <tr>\n",
       "      <th>sampleA_CD4_T_cell</th>\n",
       "      <td>chr22</td>\n",
       "      <td>26547369</td>\n",
       "      <td>26547868</td>\n",
       "    </tr>\n",
       "    <tr>\n",
       "      <th>sampleB_CD4_T_cell</th>\n",
       "      <td>chr22</td>\n",
       "      <td>26547369</td>\n",
       "      <td>26547868</td>\n",
       "    </tr>\n",
       "    <tr>\n",
       "      <th>sampleA_B_cell</th>\n",
       "      <td>chr19</td>\n",
       "      <td>4214712</td>\n",
       "      <td>4215211</td>\n",
       "    </tr>\n",
       "    <tr>\n",
       "      <th>sampleB_B_cell</th>\n",
       "      <td>chr19</td>\n",
       "      <td>4214712</td>\n",
       "      <td>4215211</td>\n",
       "    </tr>\n",
       "  </tbody>\n",
       "</table>\n",
       "</div>"
      ],
      "text/plain": [
       "                          chrom      start        end\n",
       "sampleA_Cytotoxic_T_cell  chr11  112525183  112525683\n",
       "sampleB_Cytotoxic_T_cell  chr11  112525183  112525683\n",
       "sampleA_CD4_T_cell        chr22   26547369   26547868\n",
       "sampleB_CD4_T_cell        chr22   26547369   26547868\n",
       "sampleA_B_cell            chr19    4214712    4215211\n",
       "sampleB_B_cell            chr19    4214712    4215211"
      ]
     },
     "execution_count": 264,
     "metadata": {},
     "output_type": "execute_result"
    }
   ],
   "source": [
    "regions_df = pd.DataFrame(columns=[\"chrom\", \"start\", \"end\"])\n",
    "for key in regions_dict.keys():\n",
    "    row = list(regions_dict.keys()).index(key)\n",
    "    chrom, start, end = re.split(\":|-\", regions_dict[key])\n",
    "    start = int(re.sub(\",\", \"\", start))\n",
    "    end = int(re.sub(\",\", \"\", end))\n",
    "\n",
    "    region = pd.DataFrame(columns=[\"chrom\", \"start\", \"end\"], index=[key])\n",
    "    region[\"chrom\"] = chrom\n",
    "    region[\"start\"] = start\n",
    "    region[\"end\"] = end\n",
    "    regions_df = pd.concat([regions_df, region], axis=0)\n",
    "\n",
    "bedtool_obj = BedTool.from_dataframe(df=regions_df)\n",
    "\n",
    "regions_df"
   ]
  },
  {
   "cell_type": "markdown",
   "id": "d917a1e0-84a5-4032-9607-4848d31da49a",
   "metadata": {},
   "source": [
    "genes to plot"
   ]
  },
  {
   "cell_type": "code",
   "execution_count": 303,
   "id": "207fb5bd-33c1-41fa-a5ed-602e38896bce",
   "metadata": {
    "execution": {
     "iopub.execute_input": "2023-03-09T17:06:01.251377Z",
     "iopub.status.busy": "2023-03-09T17:06:01.250659Z",
     "iopub.status.idle": "2023-03-09T17:06:01.440886Z",
     "shell.execute_reply": "2023-03-09T17:06:01.439381Z",
     "shell.execute_reply.started": "2023-03-09T17:06:01.251310Z"
    },
    "tags": []
   },
   "outputs": [],
   "source": [
    "genes_dict = {\n",
    "    \"sampleA_Cytotoxic_T_cell\": [\"LINC02763\"],\n",
    "    \"sampleB_Cytotoxic_T_cell\": [\"LINC02763\"],\n",
    "    \"sampleA_CD4_T_cell\": [\"TPST2\"],\n",
    "    \"sampleB_CD4_T_cell\": [\"TPST2\"],\n",
    "    \"sampleA_B_cell\": [\"ANKRD24\"],\n",
    "    \"sampleB_B_cell\": [\"ANKRD24\"],\n",
    "}\n",
    "max_genes = max([len((genes_dict[key])) for key in genes_dict.keys()])\n",
    "\n",
    "gtf_file = \"/lustre1/project/stg_00090/scatac_benchmark/0_resources/genomes/hg38_cflerin_cellranger_arc/genes.ucsc.gtf\""
   ]
  },
  {
   "cell_type": "code",
   "execution_count": 304,
   "id": "4ba9f67b-b44d-49e5-aebd-3a997580d2a6",
   "metadata": {
    "execution": {
     "iopub.execute_input": "2023-03-09T17:06:02.538945Z",
     "iopub.status.busy": "2023-03-09T17:06:02.538329Z",
     "iopub.status.idle": "2023-03-09T17:06:02.802630Z",
     "shell.execute_reply": "2023-03-09T17:06:02.801451Z",
     "shell.execute_reply.started": "2023-03-09T17:06:02.538883Z"
    },
    "tags": []
   },
   "outputs": [
    {
     "data": {
      "text/plain": [
       "{'sampleA_Cytotoxic_T_cell': {'s3atac': 'male_female_coverage/s3atac__SCREEN_pseudobulk_bw_files/sampleA_Cytotoxic_T_cell.bw',\n",
       "  '10xv1': 'male_female_coverage/10xv1__SCREEN_pseudobulk_bw_files/sampleA_Cytotoxic_T_cell.bw',\n",
       "  'mtscatac': 'male_female_coverage/mtscatac__SCREEN_pseudobulk_bw_files/sampleA_Cytotoxic_T_cell.bw',\n",
       "  '10xv2': 'male_female_coverage/10xv2__SCREEN_pseudobulk_bw_files/sampleA_Cytotoxic_T_cell.bw',\n",
       "  '10xv11': 'male_female_coverage/10xv11__SCREEN_pseudobulk_bw_files/sampleA_Cytotoxic_T_cell.bw',\n",
       "  '10xmultiome': 'male_female_coverage/10xmultiome__SCREEN_pseudobulk_bw_files/sampleA_Cytotoxic_T_cell.bw',\n",
       "  'hydrop': 'male_female_coverage/hydrop__SCREEN_pseudobulk_bw_files/sampleA_Cytotoxic_T_cell.bw',\n",
       "  'ddseq': 'male_female_coverage/ddseq__SCREEN_pseudobulk_bw_files/sampleA_Cytotoxic_T_cell.bw'},\n",
       " 'sampleB_Cytotoxic_T_cell': {'s3atac': 'male_female_coverage/s3atac__SCREEN_pseudobulk_bw_files/sampleB_Cytotoxic_T_cell.bw',\n",
       "  '10xv1': 'male_female_coverage/10xv1__SCREEN_pseudobulk_bw_files/sampleB_Cytotoxic_T_cell.bw',\n",
       "  'mtscatac': 'male_female_coverage/mtscatac__SCREEN_pseudobulk_bw_files/sampleB_Cytotoxic_T_cell.bw',\n",
       "  '10xv2': 'male_female_coverage/10xv2__SCREEN_pseudobulk_bw_files/sampleB_Cytotoxic_T_cell.bw',\n",
       "  '10xv11': 'male_female_coverage/10xv11__SCREEN_pseudobulk_bw_files/sampleB_Cytotoxic_T_cell.bw',\n",
       "  '10xmultiome': 'male_female_coverage/10xmultiome__SCREEN_pseudobulk_bw_files/sampleB_Cytotoxic_T_cell.bw',\n",
       "  'hydrop': 'male_female_coverage/hydrop__SCREEN_pseudobulk_bw_files/sampleB_Cytotoxic_T_cell.bw',\n",
       "  'ddseq': 'male_female_coverage/ddseq__SCREEN_pseudobulk_bw_files/sampleB_Cytotoxic_T_cell.bw'},\n",
       " 'sampleA_CD4_T_cell': {'s3atac': 'male_female_coverage/s3atac__SCREEN_pseudobulk_bw_files/sampleA_CD4_T_cell.bw',\n",
       "  '10xv1': 'male_female_coverage/10xv1__SCREEN_pseudobulk_bw_files/sampleA_CD4_T_cell.bw',\n",
       "  'mtscatac': 'male_female_coverage/mtscatac__SCREEN_pseudobulk_bw_files/sampleA_CD4_T_cell.bw',\n",
       "  '10xv2': 'male_female_coverage/10xv2__SCREEN_pseudobulk_bw_files/sampleA_CD4_T_cell.bw',\n",
       "  '10xv11': 'male_female_coverage/10xv11__SCREEN_pseudobulk_bw_files/sampleA_CD4_T_cell.bw',\n",
       "  '10xmultiome': 'male_female_coverage/10xmultiome__SCREEN_pseudobulk_bw_files/sampleA_CD4_T_cell.bw',\n",
       "  'hydrop': 'male_female_coverage/hydrop__SCREEN_pseudobulk_bw_files/sampleA_CD4_T_cell.bw',\n",
       "  'ddseq': 'male_female_coverage/ddseq__SCREEN_pseudobulk_bw_files/sampleA_CD4_T_cell.bw'},\n",
       " 'sampleB_CD4_T_cell': {'s3atac': 'male_female_coverage/s3atac__SCREEN_pseudobulk_bw_files/sampleB_CD4_T_cell.bw',\n",
       "  '10xv1': 'male_female_coverage/10xv1__SCREEN_pseudobulk_bw_files/sampleB_CD4_T_cell.bw',\n",
       "  'mtscatac': 'male_female_coverage/mtscatac__SCREEN_pseudobulk_bw_files/sampleB_CD4_T_cell.bw',\n",
       "  '10xv2': 'male_female_coverage/10xv2__SCREEN_pseudobulk_bw_files/sampleB_CD4_T_cell.bw',\n",
       "  '10xv11': 'male_female_coverage/10xv11__SCREEN_pseudobulk_bw_files/sampleB_CD4_T_cell.bw',\n",
       "  '10xmultiome': 'male_female_coverage/10xmultiome__SCREEN_pseudobulk_bw_files/sampleB_CD4_T_cell.bw',\n",
       "  'hydrop': 'male_female_coverage/hydrop__SCREEN_pseudobulk_bw_files/sampleB_CD4_T_cell.bw',\n",
       "  'ddseq': 'male_female_coverage/ddseq__SCREEN_pseudobulk_bw_files/sampleB_CD4_T_cell.bw'},\n",
       " 'sampleA_B_cell': {'s3atac': 'male_female_coverage/s3atac__SCREEN_pseudobulk_bw_files/sampleA_B_cell.bw',\n",
       "  '10xv1': 'male_female_coverage/10xv1__SCREEN_pseudobulk_bw_files/sampleA_B_cell.bw',\n",
       "  'mtscatac': 'male_female_coverage/mtscatac__SCREEN_pseudobulk_bw_files/sampleA_B_cell.bw',\n",
       "  '10xv2': 'male_female_coverage/10xv2__SCREEN_pseudobulk_bw_files/sampleA_B_cell.bw',\n",
       "  '10xv11': 'male_female_coverage/10xv11__SCREEN_pseudobulk_bw_files/sampleA_B_cell.bw',\n",
       "  '10xmultiome': 'male_female_coverage/10xmultiome__SCREEN_pseudobulk_bw_files/sampleA_B_cell.bw',\n",
       "  'hydrop': 'male_female_coverage/hydrop__SCREEN_pseudobulk_bw_files/sampleA_B_cell.bw',\n",
       "  'ddseq': 'male_female_coverage/ddseq__SCREEN_pseudobulk_bw_files/sampleA_B_cell.bw'},\n",
       " 'sampleB_B_cell': {'s3atac': 'male_female_coverage/s3atac__SCREEN_pseudobulk_bw_files/sampleB_B_cell.bw',\n",
       "  '10xv1': 'male_female_coverage/10xv1__SCREEN_pseudobulk_bw_files/sampleB_B_cell.bw',\n",
       "  'mtscatac': 'male_female_coverage/mtscatac__SCREEN_pseudobulk_bw_files/sampleB_B_cell.bw',\n",
       "  '10xv2': 'male_female_coverage/10xv2__SCREEN_pseudobulk_bw_files/sampleB_B_cell.bw',\n",
       "  '10xv11': 'male_female_coverage/10xv11__SCREEN_pseudobulk_bw_files/sampleB_B_cell.bw',\n",
       "  '10xmultiome': 'male_female_coverage/10xmultiome__SCREEN_pseudobulk_bw_files/sampleB_B_cell.bw',\n",
       "  'hydrop': 'male_female_coverage/hydrop__SCREEN_pseudobulk_bw_files/sampleB_B_cell.bw',\n",
       "  'ddseq': 'male_female_coverage/ddseq__SCREEN_pseudobulk_bw_files/sampleB_B_cell.bw'}}"
      ]
     },
     "execution_count": 304,
     "metadata": {},
     "output_type": "execute_result"
    }
   ],
   "source": [
    "cell_types = list(\n",
    "    set(\n",
    "        [\n",
    "            \"_\".join(x.split(\"/\")[-1].split(\"_\")[1:]).split(\".\")[0]\n",
    "            for x in glob.glob(\"male_female_coverage/*bw_files/*\")\n",
    "        ]\n",
    "    )\n",
    ")\n",
    "cell_types = regions_df.index\n",
    "\n",
    "bw_path_dict_dict = {}\n",
    "for cell_type in cell_types:\n",
    "    # print(cell_type)\n",
    "    bw_path_dict_dict[cell_type.replace(\"+\", \"\")] = {\n",
    "        x.split(\"/\")[-2].split(\"__\")[0]: x\n",
    "        for x in glob.glob(\n",
    "            f\"male_female_coverage/*__SCREEN_pseudobulk_bw_files/*{cell_type.replace('+','')}*\"\n",
    "        )\n",
    "    }\n",
    "bw_path_dict_dict"
   ]
  },
  {
   "cell_type": "code",
   "execution_count": 305,
   "id": "34f58924-87ea-4ce3-95c1-2b79512898cb",
   "metadata": {
    "execution": {
     "iopub.execute_input": "2023-03-09T17:06:03.084150Z",
     "iopub.status.busy": "2023-03-09T17:06:03.083509Z",
     "iopub.status.idle": "2023-03-09T17:06:03.156065Z",
     "shell.execute_reply": "2023-03-09T17:06:03.155245Z",
     "shell.execute_reply.started": "2023-03-09T17:06:03.084076Z"
    },
    "tags": []
   },
   "outputs": [
    {
     "data": {
      "text/plain": [
       "{'sampleB_Cytotoxic_T_cell': {'s3atac': 'downstream_analysis/DARs/s3atac/s3atac__s3atac_sampleA_Cytotoxic_T_cell_VS_s3atac_sampleB_Cytotoxic_T_cell__DARs.bed',\n",
       "  'ddseq': 'downstream_analysis/DARs/ddseq/ddseq__ddseq_sampleA_Cytotoxic_T_cell_VS_ddseq_sampleB_Cytotoxic_T_cell__DARs.bed',\n",
       "  '10xv1': 'downstream_analysis/DARs/10xv1/10xv1__10xv1_sampleB_Cytotoxic_T_cell_VS_10xv1_sampleA_Cytotoxic_T_cell__DARs.bed',\n",
       "  'mtscatac': 'downstream_analysis/DARs/mtscatac/mtscatac__mtscatac_sampleB_Cytotoxic_T_cell_VS_mtscatac_sampleA_Cytotoxic_T_cell__DARs.bed',\n",
       "  '10xv2': 'downstream_analysis/DARs/10xv2/10xv2__10xv2_sampleB_Cytotoxic_T_cell_VS_10xv2_sampleA_Cytotoxic_T_cell__DARs.bed',\n",
       "  '10xmultiome': 'downstream_analysis/DARs/10xmultiome/10xmultiome__10xmultiome_sampleA_Cytotoxic_T_cell_VS_10xmultiome_sampleB_Cytotoxic_T_cell__DARs.bed',\n",
       "  'hydrop': 'downstream_analysis/DARs/hydrop/hydrop__hydrop_sampleA_Cytotoxic_T_cell_VS_hydrop_sampleB_Cytotoxic_T_cell__DARs.bed',\n",
       "  '10xv11': 'downstream_analysis/DARs/10xv11/10xv11__10xv11_sampleA_Cytotoxic_T_cell_VS_10xv11_sampleB_Cytotoxic_T_cell__DARs.bed'},\n",
       " 'sampleA_CD4_T_cell': {'ddseq': 'downstream_analysis/DARs/ddseq/ddseq__ddseq_sampleB_CD4+_T_cell_VS_ddseq_sampleA_CD4+_T_cell__DARs.bed',\n",
       "  '10xv1': 'downstream_analysis/DARs/10xv1/10xv1__10xv1_sampleA_CD4+_T_cell_VS_10xv1_sampleB_CD4+_T_cell__DARs.bed',\n",
       "  'mtscatac': 'downstream_analysis/DARs/mtscatac/mtscatac__mtscatac_sampleA_CD4+_T_cell_VS_mtscatac_sampleB_CD4+_T_cell__DARs.bed',\n",
       "  '10xv2': 'downstream_analysis/DARs/10xv2/10xv2__10xv2_sampleB_CD4+_T_cell_VS_10xv2_sampleA_CD4+_T_cell__DARs.bed',\n",
       "  '10xmultiome': 'downstream_analysis/DARs/10xmultiome/10xmultiome__10xmultiome_sampleA_CD4+_T_cell_VS_10xmultiome_sampleB_CD4+_T_cell__DARs.bed',\n",
       "  'hydrop': 'downstream_analysis/DARs/hydrop/hydrop__hydrop_sampleB_CD4+_T_cell_VS_hydrop_sampleA_CD4+_T_cell__DARs.bed',\n",
       "  '10xv11': 'downstream_analysis/DARs/10xv11/10xv11__10xv11_sampleA_CD4+_T_cell_VS_10xv11_sampleB_CD4+_T_cell__DARs.bed'},\n",
       " 'sampleA_Natural_killer_cell': {'10xv1': 'downstream_analysis/DARs/10xv1/10xv1__10xv1_sampleA_Natural_killer_cell_VS_10xv1_sampleB_Natural_killer_cell__DARs.bed',\n",
       "  '10xv2': 'downstream_analysis/DARs/10xv2/10xv2__10xv2_sampleA_Natural_killer_cell_VS_10xv2_sampleB_Natural_killer_cell__DARs.bed',\n",
       "  'hydrop': 'downstream_analysis/DARs/hydrop/hydrop__hydrop_sampleA_Natural_killer_cell_VS_hydrop_sampleB_Natural_killer_cell__DARs.bed',\n",
       "  '10xv11': 'downstream_analysis/DARs/10xv11/10xv11__10xv11_sampleB_Natural_killer_cell_VS_10xv11_sampleA_Natural_killer_cell__DARs.bed'},\n",
       " 'sampleB_Dendritic_cell': {'10xv1': 'downstream_analysis/DARs/10xv1/10xv1__10xv1_sampleA_Dendritic_cell_VS_10xv1_sampleB_Dendritic_cell__DARs.bed'},\n",
       " 'sampleA_B_cell': {'ddseq': 'downstream_analysis/DARs/ddseq/ddseq__ddseq_sampleA_B_cell_VS_ddseq_sampleB_B_cell__DARs.bed',\n",
       "  '10xv1': 'downstream_analysis/DARs/10xv1/10xv1__10xv1_sampleA_B_cell_VS_10xv1_sampleB_B_cell__DARs.bed',\n",
       "  'mtscatac': 'downstream_analysis/DARs/mtscatac/mtscatac__mtscatac_sampleA_B_cell_VS_mtscatac_sampleB_B_cell__DARs.bed',\n",
       "  '10xv2': 'downstream_analysis/DARs/10xv2/10xv2__10xv2_sampleB_B_cell_VS_10xv2_sampleA_B_cell__DARs.bed',\n",
       "  '10xmultiome': 'downstream_analysis/DARs/10xmultiome/10xmultiome__10xmultiome_sampleA_B_cell_VS_10xmultiome_sampleB_B_cell__DARs.bed',\n",
       "  'hydrop': 'downstream_analysis/DARs/hydrop/hydrop__hydrop_sampleB_B_cell_VS_hydrop_sampleA_B_cell__DARs.bed',\n",
       "  '10xv11': 'downstream_analysis/DARs/10xv11/10xv11__10xv11_sampleB_B_cell_VS_10xv11_sampleA_B_cell__DARs.bed'},\n",
       " 'sampleB_Natural_killer_cell': {'10xv1': 'downstream_analysis/DARs/10xv1/10xv1__10xv1_sampleA_Natural_killer_cell_VS_10xv1_sampleB_Natural_killer_cell__DARs.bed',\n",
       "  '10xv2': 'downstream_analysis/DARs/10xv2/10xv2__10xv2_sampleA_Natural_killer_cell_VS_10xv2_sampleB_Natural_killer_cell__DARs.bed',\n",
       "  'hydrop': 'downstream_analysis/DARs/hydrop/hydrop__hydrop_sampleA_Natural_killer_cell_VS_hydrop_sampleB_Natural_killer_cell__DARs.bed',\n",
       "  '10xv11': 'downstream_analysis/DARs/10xv11/10xv11__10xv11_sampleB_Natural_killer_cell_VS_10xv11_sampleA_Natural_killer_cell__DARs.bed'},\n",
       " 'sampleA_CD14_monocyte': {'s3atac': 'downstream_analysis/DARs/s3atac/s3atac__s3atac_sampleB_CD14+_monocyte_VS_s3atac_sampleA_CD14+_monocyte__DARs.bed',\n",
       "  'ddseq': 'downstream_analysis/DARs/ddseq/ddseq__ddseq_sampleA_CD14+_monocyte_VS_ddseq_sampleB_CD14+_monocyte__DARs.bed',\n",
       "  '10xv1': 'downstream_analysis/DARs/10xv1/10xv1__10xv1_sampleB_CD14+_monocyte_VS_10xv1_sampleA_CD14+_monocyte__DARs.bed',\n",
       "  'mtscatac': 'downstream_analysis/DARs/mtscatac/mtscatac__mtscatac_sampleA_CD14+_monocyte_VS_mtscatac_sampleB_CD14+_monocyte__DARs.bed',\n",
       "  '10xv2': 'downstream_analysis/DARs/10xv2/10xv2__10xv2_sampleB_CD14+_monocyte_VS_10xv2_sampleA_CD14+_monocyte__DARs.bed',\n",
       "  '10xmultiome': 'downstream_analysis/DARs/10xmultiome/10xmultiome__10xmultiome_sampleA_CD14+_monocyte_VS_10xmultiome_sampleB_CD14+_monocyte__DARs.bed',\n",
       "  'hydrop': 'downstream_analysis/DARs/hydrop/hydrop__hydrop_sampleA_CD14+_monocyte_VS_hydrop_sampleB_CD14+_monocyte__DARs.bed',\n",
       "  '10xv11': 'downstream_analysis/DARs/10xv11/10xv11__10xv11_sampleB_CD14+_monocyte_VS_10xv11_sampleA_CD14+_monocyte__DARs.bed'},\n",
       " 'sampleB_CD14_monocyte': {'s3atac': 'downstream_analysis/DARs/s3atac/s3atac__s3atac_sampleB_CD14+_monocyte_VS_s3atac_sampleA_CD14+_monocyte__DARs.bed',\n",
       "  'ddseq': 'downstream_analysis/DARs/ddseq/ddseq__ddseq_sampleA_CD14+_monocyte_VS_ddseq_sampleB_CD14+_monocyte__DARs.bed',\n",
       "  '10xv1': 'downstream_analysis/DARs/10xv1/10xv1__10xv1_sampleB_CD14+_monocyte_VS_10xv1_sampleA_CD14+_monocyte__DARs.bed',\n",
       "  'mtscatac': 'downstream_analysis/DARs/mtscatac/mtscatac__mtscatac_sampleA_CD14+_monocyte_VS_mtscatac_sampleB_CD14+_monocyte__DARs.bed',\n",
       "  '10xv2': 'downstream_analysis/DARs/10xv2/10xv2__10xv2_sampleB_CD14+_monocyte_VS_10xv2_sampleA_CD14+_monocyte__DARs.bed',\n",
       "  '10xmultiome': 'downstream_analysis/DARs/10xmultiome/10xmultiome__10xmultiome_sampleA_CD14+_monocyte_VS_10xmultiome_sampleB_CD14+_monocyte__DARs.bed',\n",
       "  'hydrop': 'downstream_analysis/DARs/hydrop/hydrop__hydrop_sampleA_CD14+_monocyte_VS_hydrop_sampleB_CD14+_monocyte__DARs.bed',\n",
       "  '10xv11': 'downstream_analysis/DARs/10xv11/10xv11__10xv11_sampleB_CD14+_monocyte_VS_10xv11_sampleA_CD14+_monocyte__DARs.bed'},\n",
       " 'sampleA_Cytotoxic_T_cell': {'s3atac': 'downstream_analysis/DARs/s3atac/s3atac__s3atac_sampleA_Cytotoxic_T_cell_VS_s3atac_sampleB_Cytotoxic_T_cell__DARs.bed',\n",
       "  'ddseq': 'downstream_analysis/DARs/ddseq/ddseq__ddseq_sampleA_Cytotoxic_T_cell_VS_ddseq_sampleB_Cytotoxic_T_cell__DARs.bed',\n",
       "  '10xv1': 'downstream_analysis/DARs/10xv1/10xv1__10xv1_sampleB_Cytotoxic_T_cell_VS_10xv1_sampleA_Cytotoxic_T_cell__DARs.bed',\n",
       "  'mtscatac': 'downstream_analysis/DARs/mtscatac/mtscatac__mtscatac_sampleB_Cytotoxic_T_cell_VS_mtscatac_sampleA_Cytotoxic_T_cell__DARs.bed',\n",
       "  '10xv2': 'downstream_analysis/DARs/10xv2/10xv2__10xv2_sampleB_Cytotoxic_T_cell_VS_10xv2_sampleA_Cytotoxic_T_cell__DARs.bed',\n",
       "  '10xmultiome': 'downstream_analysis/DARs/10xmultiome/10xmultiome__10xmultiome_sampleA_Cytotoxic_T_cell_VS_10xmultiome_sampleB_Cytotoxic_T_cell__DARs.bed',\n",
       "  'hydrop': 'downstream_analysis/DARs/hydrop/hydrop__hydrop_sampleA_Cytotoxic_T_cell_VS_hydrop_sampleB_Cytotoxic_T_cell__DARs.bed',\n",
       "  '10xv11': 'downstream_analysis/DARs/10xv11/10xv11__10xv11_sampleA_Cytotoxic_T_cell_VS_10xv11_sampleB_Cytotoxic_T_cell__DARs.bed'},\n",
       " 'sampleA_CD16_monocyte': {'ddseq': 'downstream_analysis/DARs/ddseq/ddseq__ddseq_sampleB_CD16+_monocyte_VS_ddseq_sampleA_CD16+_monocyte__DARs.bed',\n",
       "  '10xv1': 'downstream_analysis/DARs/10xv1/10xv1__10xv1_sampleA_CD16+_monocyte_VS_10xv1_sampleB_CD16+_monocyte__DARs.bed',\n",
       "  '10xv2': 'downstream_analysis/DARs/10xv2/10xv2__10xv2_sampleB_CD16+_monocyte_VS_10xv2_sampleA_CD16+_monocyte__DARs.bed',\n",
       "  '10xv11': 'downstream_analysis/DARs/10xv11/10xv11__10xv11_sampleB_CD16+_monocyte_VS_10xv11_sampleA_CD16+_monocyte__DARs.bed'},\n",
       " 'sampleB_CD16_monocyte': {'ddseq': 'downstream_analysis/DARs/ddseq/ddseq__ddseq_sampleB_CD16+_monocyte_VS_ddseq_sampleA_CD16+_monocyte__DARs.bed',\n",
       "  '10xv1': 'downstream_analysis/DARs/10xv1/10xv1__10xv1_sampleA_CD16+_monocyte_VS_10xv1_sampleB_CD16+_monocyte__DARs.bed',\n",
       "  '10xv2': 'downstream_analysis/DARs/10xv2/10xv2__10xv2_sampleB_CD16+_monocyte_VS_10xv2_sampleA_CD16+_monocyte__DARs.bed',\n",
       "  '10xv11': 'downstream_analysis/DARs/10xv11/10xv11__10xv11_sampleB_CD16+_monocyte_VS_10xv11_sampleA_CD16+_monocyte__DARs.bed'},\n",
       " 'sampleB_CD4_T_cell': {'ddseq': 'downstream_analysis/DARs/ddseq/ddseq__ddseq_sampleB_CD4+_T_cell_VS_ddseq_sampleA_CD4+_T_cell__DARs.bed',\n",
       "  '10xv1': 'downstream_analysis/DARs/10xv1/10xv1__10xv1_sampleA_CD4+_T_cell_VS_10xv1_sampleB_CD4+_T_cell__DARs.bed',\n",
       "  'mtscatac': 'downstream_analysis/DARs/mtscatac/mtscatac__mtscatac_sampleA_CD4+_T_cell_VS_mtscatac_sampleB_CD4+_T_cell__DARs.bed',\n",
       "  '10xv2': 'downstream_analysis/DARs/10xv2/10xv2__10xv2_sampleB_CD4+_T_cell_VS_10xv2_sampleA_CD4+_T_cell__DARs.bed',\n",
       "  '10xmultiome': 'downstream_analysis/DARs/10xmultiome/10xmultiome__10xmultiome_sampleA_CD4+_T_cell_VS_10xmultiome_sampleB_CD4+_T_cell__DARs.bed',\n",
       "  'hydrop': 'downstream_analysis/DARs/hydrop/hydrop__hydrop_sampleB_CD4+_T_cell_VS_hydrop_sampleA_CD4+_T_cell__DARs.bed',\n",
       "  '10xv11': 'downstream_analysis/DARs/10xv11/10xv11__10xv11_sampleA_CD4+_T_cell_VS_10xv11_sampleB_CD4+_T_cell__DARs.bed'},\n",
       " 'sampleB_B_cell': {'ddseq': 'downstream_analysis/DARs/ddseq/ddseq__ddseq_sampleA_B_cell_VS_ddseq_sampleB_B_cell__DARs.bed',\n",
       "  '10xv1': 'downstream_analysis/DARs/10xv1/10xv1__10xv1_sampleA_B_cell_VS_10xv1_sampleB_B_cell__DARs.bed',\n",
       "  'mtscatac': 'downstream_analysis/DARs/mtscatac/mtscatac__mtscatac_sampleA_B_cell_VS_mtscatac_sampleB_B_cell__DARs.bed',\n",
       "  '10xv2': 'downstream_analysis/DARs/10xv2/10xv2__10xv2_sampleB_B_cell_VS_10xv2_sampleA_B_cell__DARs.bed',\n",
       "  '10xmultiome': 'downstream_analysis/DARs/10xmultiome/10xmultiome__10xmultiome_sampleA_B_cell_VS_10xmultiome_sampleB_B_cell__DARs.bed',\n",
       "  'hydrop': 'downstream_analysis/DARs/hydrop/hydrop__hydrop_sampleB_B_cell_VS_hydrop_sampleA_B_cell__DARs.bed',\n",
       "  '10xv11': 'downstream_analysis/DARs/10xv11/10xv11__10xv11_sampleB_B_cell_VS_10xv11_sampleA_B_cell__DARs.bed'},\n",
       " 'sampleA_Dendritic_cell': {'10xv1': 'downstream_analysis/DARs/10xv1/10xv1__10xv1_sampleA_Dendritic_cell_VS_10xv1_sampleB_Dendritic_cell__DARs.bed'}}"
      ]
     },
     "execution_count": 305,
     "metadata": {},
     "output_type": "execute_result"
    }
   ],
   "source": [
    "cell_types = list(\n",
    "    set(\n",
    "        [\n",
    "            \"_\".join(x.split(\"/\")[-1].split(\"_VS\")[0].split(\"__\")[1].split(\"_\")[1:])\n",
    "            for x in glob.glob(\"downstream_analysis/DARs/*/*bed\")\n",
    "        ]\n",
    "    )\n",
    ")\n",
    "# cell_types = regions_df.index\n",
    "\n",
    "dar_path_dict_dict = {}\n",
    "for cell_type in cell_types:\n",
    "    # print(cell_type)\n",
    "    dar_path_dict_dict[cell_type.replace(\"+\", \"\")] = {\n",
    "        x.split(\"/\")[-2].split(\"__\")[0]: x\n",
    "        for x in glob.glob(f\"downstream_analysis/DARs/*/*{cell_type}*DARs.bed\")\n",
    "    }\n",
    "dar_path_dict_dict"
   ]
  },
  {
   "cell_type": "code",
   "execution_count": 306,
   "id": "3c70fdc7-6c82-4cc2-8f05-bcc8f151b4cd",
   "metadata": {
    "execution": {
     "iopub.execute_input": "2023-03-09T17:06:03.157200Z",
     "iopub.status.busy": "2023-03-09T17:06:03.156996Z",
     "iopub.status.idle": "2023-03-09T17:06:03.163956Z",
     "shell.execute_reply": "2023-03-09T17:06:03.163172Z",
     "shell.execute_reply.started": "2023-03-09T17:06:03.157180Z"
    },
    "tags": []
   },
   "outputs": [],
   "source": [
    "dar_color = \"b\"\n",
    "peak_color = \"k\"\n",
    "gene_height = 1.5\n",
    "gene_bottom = -gene_height / 2\n",
    "exon_height = 6\n",
    "exon_bottom = -exon_height / 2"
   ]
  },
  {
   "cell_type": "code",
   "execution_count": 307,
   "id": "65befe8a-3c4a-4bab-8429-e8eb125a246c",
   "metadata": {
    "execution": {
     "iopub.execute_input": "2023-03-09T17:06:03.249942Z",
     "iopub.status.busy": "2023-03-09T17:06:03.249319Z",
     "iopub.status.idle": "2023-03-09T17:06:03.275400Z",
     "shell.execute_reply": "2023-03-09T17:06:03.274059Z",
     "shell.execute_reply.started": "2023-03-09T17:06:03.249881Z"
    },
    "tags": []
   },
   "outputs": [],
   "source": [
    "def addax():\n",
    "    ax.set_xlim([x.min(), x.max()])\n",
    "    sns.despine(top=True, right=True, left=True, bottom=True, ax=ax)\n",
    "    ax.set_xticks([])\n",
    "    ax.set_yticks([])\n",
    "    ax.patch.set_alpha(\n",
    "        0\n",
    "    )  # make sure that each individual subplot is transparent! otherwise the underlying plots won't be shown. this is important e.g. for the dar/peak visualisaton, since the DARs are drawn directly on top of the peaks. if the DAR plot is not transparent, no peaks will be visible!!\n",
    "\n",
    "    fig.add_subplot(ax)"
   ]
  },
  {
   "cell_type": "code",
   "execution_count": 308,
   "id": "92e2cafe-5976-4790-97be-4c4ddcbee5ff",
   "metadata": {
    "execution": {
     "iopub.execute_input": "2023-03-09T17:06:03.277296Z",
     "iopub.status.busy": "2023-03-09T17:06:03.276981Z",
     "iopub.status.idle": "2023-03-09T17:06:03.282487Z",
     "shell.execute_reply": "2023-03-09T17:06:03.281531Z",
     "shell.execute_reply.started": "2023-03-09T17:06:03.277264Z"
    },
    "tags": []
   },
   "outputs": [],
   "source": [
    "max_genes = 1"
   ]
  },
  {
   "cell_type": "code",
   "execution_count": 309,
   "id": "344107d6-934f-4ca8-a3f4-ad2bf430ae8c",
   "metadata": {
    "execution": {
     "iopub.execute_input": "2023-03-09T17:06:03.365438Z",
     "iopub.status.busy": "2023-03-09T17:06:03.364810Z",
     "iopub.status.idle": "2023-03-09T17:06:03.374357Z",
     "shell.execute_reply": "2023-03-09T17:06:03.372962Z",
     "shell.execute_reply.started": "2023-03-09T17:06:03.365376Z"
    },
    "tags": []
   },
   "outputs": [],
   "source": [
    "plot_genes = False\n",
    "verbose = True"
   ]
  },
  {
   "cell_type": "code",
   "execution_count": 310,
   "id": "a49c3c30-aef9-40c4-b055-dacc57ebde95",
   "metadata": {
    "execution": {
     "iopub.execute_input": "2023-03-09T17:06:03.480100Z",
     "iopub.status.busy": "2023-03-09T17:06:03.479484Z",
     "iopub.status.idle": "2023-03-09T17:06:07.052261Z",
     "shell.execute_reply": "2023-03-09T17:06:07.051042Z",
     "shell.execute_reply.started": "2023-03-09T17:06:03.480038Z"
    },
    "tags": []
   },
   "outputs": [],
   "source": [
    "region_forced_length = 2000\n",
    "\n",
    "regions_df_padded = regions_df.copy()\n",
    "\n",
    "regions_df_padded[\"region_center\"] = (\n",
    "    regions_df_padded[\"start\"]\n",
    "    + (regions_df_padded[\"end\"] - regions_df_padded[\"start\"]) / 2\n",
    ")\n",
    "\n",
    "\n",
    "regions_df_padded[\"start\"] = (\n",
    "    regions_df_padded[\"region_center\"] - region_forced_length / 2\n",
    ")\n",
    "regions_df_padded[\"start\"] = [int(x) for x in regions_df_padded[\"start\"]]\n",
    "regions_df_padded[\"end\"] = regions_df_padded[\"region_center\"] + region_forced_length / 2\n",
    "regions_df_padded[\"end\"] = [int(x) for x in regions_df_padded[\"end\"]]"
   ]
  },
  {
   "cell_type": "code",
   "execution_count": 311,
   "id": "afaf5559-5f41-48ed-831a-508b1e0f1ff0",
   "metadata": {
    "execution": {
     "iopub.execute_input": "2023-03-09T17:06:07.054104Z",
     "iopub.status.busy": "2023-03-09T17:06:07.053827Z",
     "iopub.status.idle": "2023-03-09T17:06:07.061422Z",
     "shell.execute_reply": "2023-03-09T17:06:07.060467Z",
     "shell.execute_reply.started": "2023-03-09T17:06:07.054074Z"
    },
    "tags": []
   },
   "outputs": [],
   "source": [
    "regions_df_padded.index = [x.replace(\"+\", \"\") for x in regions_df_padded.index]"
   ]
  },
  {
   "cell_type": "code",
   "execution_count": 312,
   "id": "7e68a2f2-0b66-4c5d-8d62-66c3ad48dba5",
   "metadata": {
    "execution": {
     "iopub.execute_input": "2023-03-09T17:06:07.063236Z",
     "iopub.status.busy": "2023-03-09T17:06:07.062950Z",
     "iopub.status.idle": "2023-03-09T17:06:07.408610Z",
     "shell.execute_reply": "2023-03-09T17:06:07.407254Z",
     "shell.execute_reply.started": "2023-03-09T17:06:07.063205Z"
    },
    "tags": []
   },
   "outputs": [
    {
     "data": {
      "text/html": [
       "<div>\n",
       "<style scoped>\n",
       "    .dataframe tbody tr th:only-of-type {\n",
       "        vertical-align: middle;\n",
       "    }\n",
       "\n",
       "    .dataframe tbody tr th {\n",
       "        vertical-align: top;\n",
       "    }\n",
       "\n",
       "    .dataframe thead th {\n",
       "        text-align: right;\n",
       "    }\n",
       "</style>\n",
       "<table border=\"1\" class=\"dataframe\">\n",
       "  <thead>\n",
       "    <tr style=\"text-align: right;\">\n",
       "      <th></th>\n",
       "      <th>chrom</th>\n",
       "      <th>start</th>\n",
       "      <th>end</th>\n",
       "      <th>region_center</th>\n",
       "    </tr>\n",
       "  </thead>\n",
       "  <tbody>\n",
       "    <tr>\n",
       "      <th>sampleA_Cytotoxic_T_cell</th>\n",
       "      <td>chr11</td>\n",
       "      <td>112524433</td>\n",
       "      <td>112526433</td>\n",
       "      <td>112525433.0</td>\n",
       "    </tr>\n",
       "    <tr>\n",
       "      <th>sampleB_Cytotoxic_T_cell</th>\n",
       "      <td>chr11</td>\n",
       "      <td>112524433</td>\n",
       "      <td>112526433</td>\n",
       "      <td>112525433.0</td>\n",
       "    </tr>\n",
       "    <tr>\n",
       "      <th>sampleA_CD4_T_cell</th>\n",
       "      <td>chr22</td>\n",
       "      <td>26546618</td>\n",
       "      <td>26548618</td>\n",
       "      <td>26547618.5</td>\n",
       "    </tr>\n",
       "    <tr>\n",
       "      <th>sampleB_CD4_T_cell</th>\n",
       "      <td>chr22</td>\n",
       "      <td>26546618</td>\n",
       "      <td>26548618</td>\n",
       "      <td>26547618.5</td>\n",
       "    </tr>\n",
       "    <tr>\n",
       "      <th>sampleA_B_cell</th>\n",
       "      <td>chr19</td>\n",
       "      <td>4213961</td>\n",
       "      <td>4215961</td>\n",
       "      <td>4214961.5</td>\n",
       "    </tr>\n",
       "    <tr>\n",
       "      <th>sampleB_B_cell</th>\n",
       "      <td>chr19</td>\n",
       "      <td>4213961</td>\n",
       "      <td>4215961</td>\n",
       "      <td>4214961.5</td>\n",
       "    </tr>\n",
       "  </tbody>\n",
       "</table>\n",
       "</div>"
      ],
      "text/plain": [
       "                          chrom      start        end region_center\n",
       "sampleA_Cytotoxic_T_cell  chr11  112524433  112526433   112525433.0\n",
       "sampleB_Cytotoxic_T_cell  chr11  112524433  112526433   112525433.0\n",
       "sampleA_CD4_T_cell        chr22   26546618   26548618    26547618.5\n",
       "sampleB_CD4_T_cell        chr22   26546618   26548618    26547618.5\n",
       "sampleA_B_cell            chr19    4213961    4215961     4214961.5\n",
       "sampleB_B_cell            chr19    4213961    4215961     4214961.5"
      ]
     },
     "execution_count": 312,
     "metadata": {},
     "output_type": "execute_result"
    }
   ],
   "source": [
    "regions_df_padded"
   ]
  },
  {
   "cell_type": "code",
   "execution_count": 313,
   "id": "05993442-1c5d-49cf-a2f1-ab3db4b38ff7",
   "metadata": {
    "execution": {
     "iopub.execute_input": "2023-03-09T17:06:07.411476Z",
     "iopub.status.busy": "2023-03-09T17:06:07.410819Z",
     "iopub.status.idle": "2023-03-09T17:06:07.416956Z",
     "shell.execute_reply": "2023-03-09T17:06:07.415770Z",
     "shell.execute_reply.started": "2023-03-09T17:06:07.411426Z"
    },
    "tags": []
   },
   "outputs": [],
   "source": [
    "# regions_df_padded = regions_df_padded.loc[\n",
    "#     [x for x in regions_df_padded.index if \"Cytotoxic_T_cell\" in x]\n",
    "# ]"
   ]
  },
  {
   "cell_type": "code",
   "execution_count": 314,
   "id": "db819297-8003-486c-aab6-026e9dfe0048",
   "metadata": {
    "execution": {
     "iopub.execute_input": "2023-03-09T17:06:07.419004Z",
     "iopub.status.busy": "2023-03-09T17:06:07.418580Z",
     "iopub.status.idle": "2023-03-09T17:06:07.425782Z",
     "shell.execute_reply": "2023-03-09T17:06:07.424668Z",
     "shell.execute_reply.started": "2023-03-09T17:06:07.418957Z"
    },
    "tags": []
   },
   "outputs": [],
   "source": [
    "# ## calculate bw_ymax per col\n",
    "# region_max_dict_padded = {}\n",
    "# for region_name in regions_df_padded.index:\n",
    "#     chrom = regions_df_padded.loc[region_name][\"chrom\"]\n",
    "#     start = int(regions_df_padded.loc[region_name][\"start\"])\n",
    "#     end = int(regions_df_padded.loc[region_name][\"end\"])\n",
    "\n",
    "#     bw_ymax_dict_dict = {}\n",
    "#     for cell_type in bw_path_dict_dict.keys():\n",
    "#         bw_ymax_dict = {}\n",
    "\n",
    "#         for tech in bw_path_dict_dict[cell_type].keys():\n",
    "#             bw_file = bw_path_dict_dict[cell_type][tech]\n",
    "\n",
    "#             # calculate max value of the bigwig within our region\n",
    "#             bw = pyBigWig.open(bw_file)\n",
    "#             y = bw.values(chrom, start, end)\n",
    "#             y = np.nan_to_num(y)\n",
    "\n",
    "#             bw_ymax_dict[tech] = y.max()\n",
    "\n",
    "#         bw_ymax_dict_dict[cell_type] = max(bw_ymax_dict.values())\n",
    "\n",
    "#     region_max_dict_padded[region_name] = bw_ymax_dict_dict[\n",
    "#         max(bw_ymax_dict_dict, key=bw_ymax_dict_dict.get)\n",
    "#     ]\n",
    "#     print(f\"calculated max values within region {region_name}\")\n",
    "\n",
    "# region_max_dict_padded"
   ]
  },
  {
   "cell_type": "code",
   "execution_count": 315,
   "id": "8aa29a71-cfd9-40bf-8c35-e7daf40c6737",
   "metadata": {
    "execution": {
     "iopub.execute_input": "2023-03-09T17:06:07.427511Z",
     "iopub.status.busy": "2023-03-09T17:06:07.427156Z",
     "iopub.status.idle": "2023-03-09T17:06:07.709187Z",
     "shell.execute_reply": "2023-03-09T17:06:07.708189Z",
     "shell.execute_reply.started": "2023-03-09T17:06:07.427474Z"
    },
    "tags": []
   },
   "outputs": [
    {
     "name": "stdout",
     "output_type": "stream",
     "text": [
      "calculated max values within region sampleA_Cytotoxic_T_cell\n",
      "calculated max values within region sampleB_Cytotoxic_T_cell\n",
      "calculated max values within region sampleA_CD4_T_cell\n",
      "calculated max values within region sampleB_CD4_T_cell\n",
      "calculated max values within region sampleA_B_cell\n",
      "calculated max values within region sampleB_B_cell\n"
     ]
    },
    {
     "data": {
      "text/plain": [
       "{'sampleA_Cytotoxic_T_cell': 0.8798998594284058,\n",
       " 'sampleB_Cytotoxic_T_cell': 1.6277987957000732,\n",
       " 'sampleA_CD4_T_cell': 0.8885378837585449,\n",
       " 'sampleB_CD4_T_cell': 0.23171104490756989,\n",
       " 'sampleA_B_cell': 3.662259817123413,\n",
       " 'sampleB_B_cell': 1.2139885425567627}"
      ]
     },
     "execution_count": 315,
     "metadata": {},
     "output_type": "execute_result"
    }
   ],
   "source": [
    "## calculate bw_ymax per col\n",
    "region_max_dict_padded = {}\n",
    "for region_name in regions_df_padded.index:\n",
    "    chrom = regions_df_padded.loc[region_name][\"chrom\"]\n",
    "    start = int(regions_df_padded.loc[region_name][\"start\"])\n",
    "    end = int(regions_df_padded.loc[region_name][\"end\"])\n",
    "\n",
    "    bw_ymax_dict_dict = {}\n",
    "    for cell_type in [region_name]:\n",
    "        bw_ymax_dict = {}\n",
    "\n",
    "        for tech in bw_path_dict_dict[cell_type].keys():\n",
    "            bw_file = bw_path_dict_dict[cell_type][tech]\n",
    "\n",
    "            # calculate max value of the bigwig within our region\n",
    "            bw = pyBigWig.open(bw_file)\n",
    "            y = bw.values(chrom, start, end)\n",
    "            y = np.nan_to_num(y)\n",
    "\n",
    "            bw_ymax_dict[tech] = y.max()\n",
    "\n",
    "        bw_ymax_dict_dict[cell_type] = max(bw_ymax_dict.values())\n",
    "\n",
    "    region_max_dict_padded[region_name] = bw_ymax_dict_dict[\n",
    "        max(bw_ymax_dict_dict, key=bw_ymax_dict_dict.get)\n",
    "    ]\n",
    "    print(f\"calculated max values within region {region_name}\")\n",
    "\n",
    "region_max_dict_padded"
   ]
  },
  {
   "cell_type": "code",
   "execution_count": 316,
   "id": "6a2e8284-9974-420e-8e26-cf93ea06412b",
   "metadata": {
    "execution": {
     "iopub.execute_input": "2023-03-09T17:06:07.710491Z",
     "iopub.status.busy": "2023-03-09T17:06:07.710213Z",
     "iopub.status.idle": "2023-03-09T17:06:07.718416Z",
     "shell.execute_reply": "2023-03-09T17:06:07.717590Z",
     "shell.execute_reply.started": "2023-03-09T17:06:07.710461Z"
    },
    "tags": []
   },
   "outputs": [],
   "source": [
    "region_max_dict_padded[\"sampleA_Cytotoxic_T_cell\"] = region_max_dict_padded[\n",
    "    \"sampleB_Cytotoxic_T_cell\"\n",
    "]\n",
    "region_max_dict_padded[\"sampleB_B_cell\"] = region_max_dict_padded[\"sampleA_B_cell\"]\n",
    "region_max_dict_padded[\"sampleB_CD4_T_cell\"] = region_max_dict_padded[\n",
    "    \"sampleA_CD4_T_cell\"\n",
    "]"
   ]
  },
  {
   "cell_type": "code",
   "execution_count": 317,
   "id": "c8c22d71-5ecc-4fe7-93d1-784dbc7628f5",
   "metadata": {
    "execution": {
     "iopub.execute_input": "2023-03-09T17:06:07.720775Z",
     "iopub.status.busy": "2023-03-09T17:06:07.720376Z",
     "iopub.status.idle": "2023-03-09T17:06:07.725985Z",
     "shell.execute_reply": "2023-03-09T17:06:07.725149Z",
     "shell.execute_reply.started": "2023-03-09T17:06:07.720752Z"
    },
    "tags": []
   },
   "outputs": [
    {
     "data": {
      "text/plain": [
       "{'sampleA_Cytotoxic_T_cell': 1.6277987957000732,\n",
       " 'sampleB_Cytotoxic_T_cell': 1.6277987957000732,\n",
       " 'sampleA_CD4_T_cell': 0.8885378837585449,\n",
       " 'sampleB_CD4_T_cell': 0.8885378837585449,\n",
       " 'sampleA_B_cell': 3.662259817123413,\n",
       " 'sampleB_B_cell': 3.662259817123413}"
      ]
     },
     "execution_count": 317,
     "metadata": {},
     "output_type": "execute_result"
    }
   ],
   "source": [
    "region_max_dict_padded"
   ]
  },
  {
   "cell_type": "code",
   "execution_count": 318,
   "id": "e3e36927-96a1-48dc-b39b-9c75aac1a506",
   "metadata": {
    "execution": {
     "iopub.execute_input": "2023-03-09T17:06:07.727346Z",
     "iopub.status.busy": "2023-03-09T17:06:07.727148Z",
     "iopub.status.idle": "2023-03-09T17:06:07.736611Z",
     "shell.execute_reply": "2023-03-09T17:06:07.735801Z",
     "shell.execute_reply.started": "2023-03-09T17:06:07.727325Z"
    },
    "tags": []
   },
   "outputs": [
    {
     "data": {
      "text/plain": [
       "{'sampleA_Cytotoxic_T_cell': '../fixedcells_3_cistopic_consensus/all.FIXEDCELLS.master_peaks.bed',\n",
       " 'sampleB_Cytotoxic_T_cell': '../fixedcells_3_cistopic_consensus/all.FIXEDCELLS.master_peaks.bed',\n",
       " 'sampleA_CD4_T_cell': '../fixedcells_3_cistopic_consensus/all.FIXEDCELLS.master_peaks.bed',\n",
       " 'sampleB_CD4_T_cell': '../fixedcells_3_cistopic_consensus/all.FIXEDCELLS.master_peaks.bed',\n",
       " 'sampleA_B_cell': '../fixedcells_3_cistopic_consensus/all.FIXEDCELLS.master_peaks.bed',\n",
       " 'sampleB_B_cell': '../fixedcells_3_cistopic_consensus/all.FIXEDCELLS.master_peaks.bed'}"
      ]
     },
     "execution_count": 318,
     "metadata": {},
     "output_type": "execute_result"
    }
   ],
   "source": [
    "peak_path_dict = {\n",
    "    x.replace(\n",
    "        \"+\", \"\"\n",
    "    ): \"../fixedcells_3_cistopic_consensus/all.FIXEDCELLS.master_peaks.bed\"\n",
    "    for x in regions_dict.keys()\n",
    "}\n",
    "peak_path_dict"
   ]
  },
  {
   "cell_type": "code",
   "execution_count": 319,
   "id": "e1111029-2be2-4235-905e-fac90fa7b5bf",
   "metadata": {
    "execution": {
     "iopub.execute_input": "2023-03-09T17:06:07.737615Z",
     "iopub.status.busy": "2023-03-09T17:06:07.737415Z",
     "iopub.status.idle": "2023-03-09T17:06:07.742748Z",
     "shell.execute_reply": "2023-03-09T17:06:07.741954Z",
     "shell.execute_reply.started": "2023-03-09T17:06:07.737595Z"
    },
    "tags": []
   },
   "outputs": [
    {
     "data": {
      "text/plain": [
       "{'sampleA_Cytotoxic_T_cell': '../fixedcells_3_cistopic_consensus/all.FIXEDCELLS.master_peaks.bed',\n",
       " 'sampleB_Cytotoxic_T_cell': '../fixedcells_3_cistopic_consensus/all.FIXEDCELLS.master_peaks.bed',\n",
       " 'sampleA_CD4_T_cell': '../fixedcells_3_cistopic_consensus/all.FIXEDCELLS.master_peaks.bed',\n",
       " 'sampleB_CD4_T_cell': '../fixedcells_3_cistopic_consensus/all.FIXEDCELLS.master_peaks.bed',\n",
       " 'sampleA_B_cell': '../fixedcells_3_cistopic_consensus/all.FIXEDCELLS.master_peaks.bed',\n",
       " 'sampleB_B_cell': '../fixedcells_3_cistopic_consensus/all.FIXEDCELLS.master_peaks.bed'}"
      ]
     },
     "execution_count": 319,
     "metadata": {},
     "output_type": "execute_result"
    }
   ],
   "source": [
    "peak_path_dict"
   ]
  },
  {
   "cell_type": "code",
   "execution_count": 320,
   "id": "1e2b792c-cf3a-4976-b357-4f8f79b1e235",
   "metadata": {
    "execution": {
     "iopub.execute_input": "2023-03-09T17:06:07.743692Z",
     "iopub.status.busy": "2023-03-09T17:06:07.743507Z",
     "iopub.status.idle": "2023-03-09T17:06:07.747794Z",
     "shell.execute_reply": "2023-03-09T17:06:07.747013Z",
     "shell.execute_reply.started": "2023-03-09T17:06:07.743673Z"
    },
    "tags": []
   },
   "outputs": [],
   "source": [
    "# set(regions_df_padded.index) == set(regions_dict_padded.keys()) == set(\n",
    "#     bw_path_dict_dict.keys()\n",
    "# ) == set(peak_path_dict.keys())"
   ]
  },
  {
   "cell_type": "code",
   "execution_count": 321,
   "id": "82f45fab-735b-40b3-be7e-d4f987fbd448",
   "metadata": {
    "execution": {
     "iopub.execute_input": "2023-03-09T17:06:07.748761Z",
     "iopub.status.busy": "2023-03-09T17:06:07.748576Z",
     "iopub.status.idle": "2023-03-09T17:06:07.756416Z",
     "shell.execute_reply": "2023-03-09T17:06:07.755000Z",
     "shell.execute_reply.started": "2023-03-09T17:06:07.748741Z"
    },
    "tags": []
   },
   "outputs": [],
   "source": [
    "# regions_df_padded.index = [\"sampleA_CytotoxicTcell\", \"sampleB_CytotoxicTcell\"]"
   ]
  },
  {
   "cell_type": "code",
   "execution_count": 322,
   "id": "c507fac2-5f47-4177-82e2-b58f6d334128",
   "metadata": {
    "execution": {
     "iopub.execute_input": "2023-03-09T17:06:07.757670Z",
     "iopub.status.busy": "2023-03-09T17:06:07.757421Z",
     "iopub.status.idle": "2023-03-09T17:06:07.772682Z",
     "shell.execute_reply": "2023-03-09T17:06:07.770607Z",
     "shell.execute_reply.started": "2023-03-09T17:06:07.757645Z"
    },
    "tags": []
   },
   "outputs": [],
   "source": [
    "cell_type_order = list(regions_df_padded.index)"
   ]
  },
  {
   "cell_type": "code",
   "execution_count": 323,
   "id": "ad01c6d3-a3d0-4642-80e0-ae0dc573da33",
   "metadata": {
    "execution": {
     "iopub.execute_input": "2023-03-09T17:06:07.774491Z",
     "iopub.status.busy": "2023-03-09T17:06:07.774228Z",
     "iopub.status.idle": "2023-03-09T17:06:07.782944Z",
     "shell.execute_reply": "2023-03-09T17:06:07.781786Z",
     "shell.execute_reply.started": "2023-03-09T17:06:07.774463Z"
    },
    "tags": []
   },
   "outputs": [],
   "source": [
    "regions_dict_padded = {x: x for x in cell_type_order}"
   ]
  },
  {
   "cell_type": "code",
   "execution_count": 324,
   "id": "9f3f7b81-beb8-454c-a199-ad103969bf05",
   "metadata": {
    "execution": {
     "iopub.execute_input": "2023-03-09T17:06:07.784128Z",
     "iopub.status.busy": "2023-03-09T17:06:07.783897Z",
     "iopub.status.idle": "2023-03-09T17:06:07.789837Z",
     "shell.execute_reply": "2023-03-09T17:06:07.789032Z",
     "shell.execute_reply.started": "2023-03-09T17:06:07.784094Z"
    },
    "tags": []
   },
   "outputs": [],
   "source": [
    "cell_type_alias_dict = {x: x for x in cell_type_order}"
   ]
  },
  {
   "cell_type": "code",
   "execution_count": 325,
   "id": "4339f2b4-03d4-4295-a31f-b92dda4ac496",
   "metadata": {
    "execution": {
     "iopub.execute_input": "2023-03-09T17:06:07.790991Z",
     "iopub.status.busy": "2023-03-09T17:06:07.790770Z",
     "iopub.status.idle": "2023-03-09T17:06:07.797891Z",
     "shell.execute_reply": "2023-03-09T17:06:07.797073Z",
     "shell.execute_reply.started": "2023-03-09T17:06:07.790968Z"
    },
    "tags": []
   },
   "outputs": [],
   "source": [
    "# peak_path_dict = {\n",
    "#     \"sampleA_CytotoxicTcell\": \"final_consensus_peaks/master_all_1.FIXEDCELLS__SCREEN_consensus_peaks/CD4_Tcell_summits.bed\",\n",
    "#     \"sampleB_CytotoxicTcell\": \"final_consensus_peaks/master_all_1.FIXEDCELLS__SCREEN_consensus_peaks/CD4_Tcell_summits.bed\",\n",
    "# }"
   ]
  },
  {
   "cell_type": "code",
   "execution_count": 326,
   "id": "0863050d-8199-46d1-8d5d-ce970528e045",
   "metadata": {
    "execution": {
     "iopub.execute_input": "2023-03-09T17:06:07.799053Z",
     "iopub.status.busy": "2023-03-09T17:06:07.798807Z",
     "iopub.status.idle": "2023-03-09T17:06:07.808779Z",
     "shell.execute_reply": "2023-03-09T17:06:07.807446Z",
     "shell.execute_reply.started": "2023-03-09T17:06:07.799028Z"
    },
    "tags": []
   },
   "outputs": [],
   "source": [
    "tech_order = list(bw_path_dict_dict[\"sampleB_Cytotoxic_T_cell\"].keys())"
   ]
  },
  {
   "cell_type": "code",
   "execution_count": 327,
   "id": "528bc77d-5375-47c3-81c1-bd7141372d9c",
   "metadata": {
    "execution": {
     "iopub.execute_input": "2023-03-09T17:06:07.810331Z",
     "iopub.status.busy": "2023-03-09T17:06:07.809998Z",
     "iopub.status.idle": "2023-03-09T17:06:07.819049Z",
     "shell.execute_reply": "2023-03-09T17:06:07.818151Z",
     "shell.execute_reply.started": "2023-03-09T17:06:07.810298Z"
    },
    "tags": []
   },
   "outputs": [],
   "source": [
    "cell_type_order = [\n",
    "    \"sampleB_B_cell\",\n",
    "    \"sampleA_B_cell\",\n",
    "    \"sampleB_Cytotoxic_T_cell\",\n",
    "    \"sampleA_Cytotoxic_T_cell\",\n",
    "    \"sampleB_CD4_T_cell\",\n",
    "    \"sampleA_CD4_T_cell\",\n",
    "]"
   ]
  },
  {
   "cell_type": "code",
   "execution_count": 328,
   "id": "1d6a66c0-3735-4dbc-90bc-83d2f472b644",
   "metadata": {
    "execution": {
     "iopub.execute_input": "2023-03-09T17:06:07.820359Z",
     "iopub.status.busy": "2023-03-09T17:06:07.820089Z",
     "iopub.status.idle": "2023-03-09T17:06:07.831803Z",
     "shell.execute_reply": "2023-03-09T17:06:07.831009Z",
     "shell.execute_reply.started": "2023-03-09T17:06:07.820331Z"
    },
    "tags": []
   },
   "outputs": [
    {
     "data": {
      "text/html": [
       "<div>\n",
       "<style scoped>\n",
       "    .dataframe tbody tr th:only-of-type {\n",
       "        vertical-align: middle;\n",
       "    }\n",
       "\n",
       "    .dataframe tbody tr th {\n",
       "        vertical-align: top;\n",
       "    }\n",
       "\n",
       "    .dataframe thead th {\n",
       "        text-align: right;\n",
       "    }\n",
       "</style>\n",
       "<table border=\"1\" class=\"dataframe\">\n",
       "  <thead>\n",
       "    <tr style=\"text-align: right;\">\n",
       "      <th></th>\n",
       "      <th>chrom</th>\n",
       "      <th>start</th>\n",
       "      <th>end</th>\n",
       "      <th>region_center</th>\n",
       "    </tr>\n",
       "  </thead>\n",
       "  <tbody>\n",
       "    <tr>\n",
       "      <th>sampleA_Cytotoxic_T_cell</th>\n",
       "      <td>chr11</td>\n",
       "      <td>112524433</td>\n",
       "      <td>112526433</td>\n",
       "      <td>112525433.0</td>\n",
       "    </tr>\n",
       "    <tr>\n",
       "      <th>sampleB_Cytotoxic_T_cell</th>\n",
       "      <td>chr11</td>\n",
       "      <td>112524433</td>\n",
       "      <td>112526433</td>\n",
       "      <td>112525433.0</td>\n",
       "    </tr>\n",
       "    <tr>\n",
       "      <th>sampleA_CD4_T_cell</th>\n",
       "      <td>chr22</td>\n",
       "      <td>26546618</td>\n",
       "      <td>26548618</td>\n",
       "      <td>26547618.5</td>\n",
       "    </tr>\n",
       "    <tr>\n",
       "      <th>sampleB_CD4_T_cell</th>\n",
       "      <td>chr22</td>\n",
       "      <td>26546618</td>\n",
       "      <td>26548618</td>\n",
       "      <td>26547618.5</td>\n",
       "    </tr>\n",
       "    <tr>\n",
       "      <th>sampleA_B_cell</th>\n",
       "      <td>chr19</td>\n",
       "      <td>4213961</td>\n",
       "      <td>4215961</td>\n",
       "      <td>4214961.5</td>\n",
       "    </tr>\n",
       "    <tr>\n",
       "      <th>sampleB_B_cell</th>\n",
       "      <td>chr19</td>\n",
       "      <td>4213961</td>\n",
       "      <td>4215961</td>\n",
       "      <td>4214961.5</td>\n",
       "    </tr>\n",
       "  </tbody>\n",
       "</table>\n",
       "</div>"
      ],
      "text/plain": [
       "                          chrom      start        end region_center\n",
       "sampleA_Cytotoxic_T_cell  chr11  112524433  112526433   112525433.0\n",
       "sampleB_Cytotoxic_T_cell  chr11  112524433  112526433   112525433.0\n",
       "sampleA_CD4_T_cell        chr22   26546618   26548618    26547618.5\n",
       "sampleB_CD4_T_cell        chr22   26546618   26548618    26547618.5\n",
       "sampleA_B_cell            chr19    4213961    4215961     4214961.5\n",
       "sampleB_B_cell            chr19    4213961    4215961     4214961.5"
      ]
     },
     "execution_count": 328,
     "metadata": {},
     "output_type": "execute_result"
    }
   ],
   "source": [
    "regions_df_padded"
   ]
  },
  {
   "cell_type": "code",
   "execution_count": 329,
   "id": "6552ed0c-fee8-4ef8-8cd7-bde32a04aff5",
   "metadata": {
    "execution": {
     "iopub.execute_input": "2023-03-09T17:06:07.832933Z",
     "iopub.status.busy": "2023-03-09T17:06:07.832716Z",
     "iopub.status.idle": "2023-03-09T17:06:07.845708Z",
     "shell.execute_reply": "2023-03-09T17:06:07.844611Z",
     "shell.execute_reply.started": "2023-03-09T17:06:07.832910Z"
    },
    "tags": []
   },
   "outputs": [],
   "source": [
    "regions_df_padded.loc[\"sampleA_B_cell\"] = regions_df_padded.loc[\"sampleB_B_cell\"]\n",
    "regions_df_padded.loc[\"sampleA_Cytotoxic_T_cell\"] = regions_df_padded.loc[\n",
    "    \"sampleB_Cytotoxic_T_cell\"\n",
    "]\n",
    "regions_df_padded.loc[\"sampleA_CD4_T_cell\"] = regions_df_padded.loc[\n",
    "    \"sampleB_CD4_T_cell\"\n",
    "]"
   ]
  },
  {
   "cell_type": "code",
   "execution_count": 330,
   "id": "f1690a6e-37f2-4770-9dcd-0b7467a9e9d4",
   "metadata": {
    "execution": {
     "iopub.execute_input": "2023-03-09T17:06:07.846672Z",
     "iopub.status.busy": "2023-03-09T17:06:07.846480Z",
     "iopub.status.idle": "2023-03-09T17:06:07.855169Z",
     "shell.execute_reply": "2023-03-09T17:06:07.854416Z",
     "shell.execute_reply.started": "2023-03-09T17:06:07.846652Z"
    },
    "tags": []
   },
   "outputs": [
    {
     "data": {
      "text/html": [
       "<div>\n",
       "<style scoped>\n",
       "    .dataframe tbody tr th:only-of-type {\n",
       "        vertical-align: middle;\n",
       "    }\n",
       "\n",
       "    .dataframe tbody tr th {\n",
       "        vertical-align: top;\n",
       "    }\n",
       "\n",
       "    .dataframe thead th {\n",
       "        text-align: right;\n",
       "    }\n",
       "</style>\n",
       "<table border=\"1\" class=\"dataframe\">\n",
       "  <thead>\n",
       "    <tr style=\"text-align: right;\">\n",
       "      <th></th>\n",
       "      <th>chrom</th>\n",
       "      <th>start</th>\n",
       "      <th>end</th>\n",
       "      <th>region_center</th>\n",
       "    </tr>\n",
       "  </thead>\n",
       "  <tbody>\n",
       "    <tr>\n",
       "      <th>sampleA_Cytotoxic_T_cell</th>\n",
       "      <td>chr11</td>\n",
       "      <td>112524433</td>\n",
       "      <td>112526433</td>\n",
       "      <td>112525433.0</td>\n",
       "    </tr>\n",
       "    <tr>\n",
       "      <th>sampleB_Cytotoxic_T_cell</th>\n",
       "      <td>chr11</td>\n",
       "      <td>112524433</td>\n",
       "      <td>112526433</td>\n",
       "      <td>112525433.0</td>\n",
       "    </tr>\n",
       "    <tr>\n",
       "      <th>sampleA_CD4_T_cell</th>\n",
       "      <td>chr22</td>\n",
       "      <td>26546618</td>\n",
       "      <td>26548618</td>\n",
       "      <td>26547618.5</td>\n",
       "    </tr>\n",
       "    <tr>\n",
       "      <th>sampleB_CD4_T_cell</th>\n",
       "      <td>chr22</td>\n",
       "      <td>26546618</td>\n",
       "      <td>26548618</td>\n",
       "      <td>26547618.5</td>\n",
       "    </tr>\n",
       "    <tr>\n",
       "      <th>sampleA_B_cell</th>\n",
       "      <td>chr19</td>\n",
       "      <td>4213961</td>\n",
       "      <td>4215961</td>\n",
       "      <td>4214961.5</td>\n",
       "    </tr>\n",
       "    <tr>\n",
       "      <th>sampleB_B_cell</th>\n",
       "      <td>chr19</td>\n",
       "      <td>4213961</td>\n",
       "      <td>4215961</td>\n",
       "      <td>4214961.5</td>\n",
       "    </tr>\n",
       "  </tbody>\n",
       "</table>\n",
       "</div>"
      ],
      "text/plain": [
       "                          chrom      start        end region_center\n",
       "sampleA_Cytotoxic_T_cell  chr11  112524433  112526433   112525433.0\n",
       "sampleB_Cytotoxic_T_cell  chr11  112524433  112526433   112525433.0\n",
       "sampleA_CD4_T_cell        chr22   26546618   26548618    26547618.5\n",
       "sampleB_CD4_T_cell        chr22   26546618   26548618    26547618.5\n",
       "sampleA_B_cell            chr19    4213961    4215961     4214961.5\n",
       "sampleB_B_cell            chr19    4213961    4215961     4214961.5"
      ]
     },
     "execution_count": 330,
     "metadata": {},
     "output_type": "execute_result"
    }
   ],
   "source": [
    "regions_df_padded"
   ]
  },
  {
   "cell_type": "code",
   "execution_count": null,
   "id": "37f3822b-60fe-486d-b05a-26f7f349d55c",
   "metadata": {},
   "outputs": [],
   "source": []
  },
  {
   "cell_type": "code",
   "execution_count": 331,
   "id": "a01e0f7b-701a-481c-806f-e961a7e1fbdf",
   "metadata": {
    "execution": {
     "iopub.execute_input": "2023-03-09T17:06:07.856131Z",
     "iopub.status.busy": "2023-03-09T17:06:07.855935Z",
     "iopub.status.idle": "2023-03-09T17:06:07.863966Z",
     "shell.execute_reply": "2023-03-09T17:06:07.863165Z",
     "shell.execute_reply.started": "2023-03-09T17:06:07.856103Z"
    },
    "tags": []
   },
   "outputs": [],
   "source": [
    "peak_path_dict = {\n",
    "    \"sampleA_B_cell\": \"../fixedcells_4_merged/merged_male_female_DARs/sampleA_B_cell_VS_sampleB_B_cell__1-0xfoldchange_DARs.bed\",\n",
    "    \"sampleA_CD4_T_cell\": \"../fixedcells_4_merged/merged_male_female_DARs/sampleA_CD4+_T_cell_VS_sampleB_CD4+_T_cell__1-0xfoldchange_DARs.top200.bed\",\n",
    "    \"sampleB_CD4_T_cell\": \"../fixedcells_4_merged/merged_male_female_DARs/sampleA_CD4+_T_cell_VS_sampleB_CD4+_T_cell__1-0xfoldchange_DARs.top200.bed\",\n",
    "    \"sampleB_B_cell\": \"../fixedcells_4_merged/merged_male_female_DARs/sampleA_B_cell_VS_sampleB_B_cell__1-0xfoldchange_DARs.bed\",\n",
    "    \"sampleB_Cytotoxic_T_cell\": \"../fixedcells_4_merged/merged_male_female_DARs/sampleB_Cytotoxic_T_cell_VS_sampleA_Cytotoxic_T_cell__1-0xfoldchange_DARs.bed\",\n",
    "    \"sampleA_Cytotoxic_T_cell\": \"../fixedcells_4_merged/merged_male_female_DARs/sampleB_Cytotoxic_T_cell_VS_sampleA_Cytotoxic_T_cell__1-0xfoldchange_DARs.bed\",\n",
    "}"
   ]
  },
  {
   "cell_type": "code",
   "execution_count": null,
   "id": "137c0240-3459-4a3f-bd29-d7bc2d27c73a",
   "metadata": {
    "tags": []
   },
   "outputs": [],
   "source": []
  },
  {
   "cell_type": "code",
   "execution_count": 332,
   "id": "63b3b692-e35b-4bbb-90fe-a0e97ac04ca4",
   "metadata": {
    "execution": {
     "iopub.execute_input": "2023-03-09T17:06:07.866247Z",
     "iopub.status.busy": "2023-03-09T17:06:07.866027Z",
     "iopub.status.idle": "2023-03-09T17:06:07.874449Z",
     "shell.execute_reply": "2023-03-09T17:06:07.873652Z",
     "shell.execute_reply.started": "2023-03-09T17:06:07.866227Z"
    },
    "tags": []
   },
   "outputs": [
    {
     "data": {
      "text/html": [
       "<div>\n",
       "<style scoped>\n",
       "    .dataframe tbody tr th:only-of-type {\n",
       "        vertical-align: middle;\n",
       "    }\n",
       "\n",
       "    .dataframe tbody tr th {\n",
       "        vertical-align: top;\n",
       "    }\n",
       "\n",
       "    .dataframe thead th {\n",
       "        text-align: right;\n",
       "    }\n",
       "</style>\n",
       "<table border=\"1\" class=\"dataframe\">\n",
       "  <thead>\n",
       "    <tr style=\"text-align: right;\">\n",
       "      <th></th>\n",
       "      <th>chrom</th>\n",
       "      <th>start</th>\n",
       "      <th>end</th>\n",
       "      <th>region_center</th>\n",
       "    </tr>\n",
       "  </thead>\n",
       "  <tbody>\n",
       "    <tr>\n",
       "      <th>sampleA_Cytotoxic_T_cell</th>\n",
       "      <td>chr11</td>\n",
       "      <td>112524433</td>\n",
       "      <td>112526433</td>\n",
       "      <td>112525433.0</td>\n",
       "    </tr>\n",
       "    <tr>\n",
       "      <th>sampleB_Cytotoxic_T_cell</th>\n",
       "      <td>chr11</td>\n",
       "      <td>112524433</td>\n",
       "      <td>112526433</td>\n",
       "      <td>112525433.0</td>\n",
       "    </tr>\n",
       "    <tr>\n",
       "      <th>sampleA_CD4_T_cell</th>\n",
       "      <td>chr22</td>\n",
       "      <td>26546618</td>\n",
       "      <td>26548618</td>\n",
       "      <td>26547618.5</td>\n",
       "    </tr>\n",
       "    <tr>\n",
       "      <th>sampleB_CD4_T_cell</th>\n",
       "      <td>chr22</td>\n",
       "      <td>26546618</td>\n",
       "      <td>26548618</td>\n",
       "      <td>26547618.5</td>\n",
       "    </tr>\n",
       "    <tr>\n",
       "      <th>sampleA_B_cell</th>\n",
       "      <td>chr19</td>\n",
       "      <td>4213961</td>\n",
       "      <td>4215961</td>\n",
       "      <td>4214961.5</td>\n",
       "    </tr>\n",
       "    <tr>\n",
       "      <th>sampleB_B_cell</th>\n",
       "      <td>chr19</td>\n",
       "      <td>4213961</td>\n",
       "      <td>4215961</td>\n",
       "      <td>4214961.5</td>\n",
       "    </tr>\n",
       "  </tbody>\n",
       "</table>\n",
       "</div>"
      ],
      "text/plain": [
       "                          chrom      start        end region_center\n",
       "sampleA_Cytotoxic_T_cell  chr11  112524433  112526433   112525433.0\n",
       "sampleB_Cytotoxic_T_cell  chr11  112524433  112526433   112525433.0\n",
       "sampleA_CD4_T_cell        chr22   26546618   26548618    26547618.5\n",
       "sampleB_CD4_T_cell        chr22   26546618   26548618    26547618.5\n",
       "sampleA_B_cell            chr19    4213961    4215961     4214961.5\n",
       "sampleB_B_cell            chr19    4213961    4215961     4214961.5"
      ]
     },
     "execution_count": 332,
     "metadata": {},
     "output_type": "execute_result"
    }
   ],
   "source": [
    "regions_df_padded"
   ]
  },
  {
   "cell_type": "code",
   "execution_count": 333,
   "id": "1e04f15e-5e02-4131-9957-1a944a44d729",
   "metadata": {
    "execution": {
     "iopub.execute_input": "2023-03-09T17:06:07.875477Z",
     "iopub.status.busy": "2023-03-09T17:06:07.875289Z",
     "iopub.status.idle": "2023-03-09T17:06:07.883707Z",
     "shell.execute_reply": "2023-03-09T17:06:07.882311Z",
     "shell.execute_reply.started": "2023-03-09T17:06:07.875457Z"
    },
    "tags": []
   },
   "outputs": [],
   "source": [
    "tech_order = [\n",
    "    \"10xv1\",\n",
    "    \"10xv11\",\n",
    "    \"10xv2\",\n",
    "    \"10xmultiome\",\n",
    "    \"mtscatac\",\n",
    "    \"ddseq\",\n",
    "    \"s3atac\",\n",
    "    \"hydrop\",\n",
    "]"
   ]
  },
  {
   "cell_type": "code",
   "execution_count": 346,
   "id": "8ada6e76-fac1-4f5e-8bac-b9df3b457472",
   "metadata": {
    "execution": {
     "iopub.execute_input": "2023-03-09T17:14:22.412840Z",
     "iopub.status.busy": "2023-03-09T17:14:22.412225Z",
     "iopub.status.idle": "2023-03-09T17:14:22.426781Z",
     "shell.execute_reply": "2023-03-09T17:14:22.425345Z",
     "shell.execute_reply.started": "2023-03-09T17:14:22.412777Z"
    },
    "tags": []
   },
   "outputs": [],
   "source": [
    "cell_type_order = [\n",
    "    \"sampleA_B_cell\",\n",
    "    \"sampleB_B_cell\",\n",
    "    \"sampleB_Cytotoxic_T_cell\",\n",
    "    \"sampleA_Cytotoxic_T_cell\",\n",
    "    \"sampleA_CD4_T_cell\",\n",
    "    \"sampleB_CD4_T_cell\",\n",
    "]"
   ]
  },
  {
   "cell_type": "code",
   "execution_count": 347,
   "id": "a836aa6a-4b0c-4c27-9491-ab6407bafb87",
   "metadata": {
    "execution": {
     "iopub.execute_input": "2023-03-09T17:14:22.645851Z",
     "iopub.status.busy": "2023-03-09T17:14:22.645242Z",
     "iopub.status.idle": "2023-03-09T17:14:22.653788Z",
     "shell.execute_reply": "2023-03-09T17:14:22.652353Z",
     "shell.execute_reply.started": "2023-03-09T17:14:22.645790Z"
    },
    "tags": []
   },
   "outputs": [],
   "source": [
    "plot_genes = True"
   ]
  },
  {
   "cell_type": "code",
   "execution_count": 348,
   "id": "ba064993-acb6-4faa-b2cf-5372964e3176",
   "metadata": {
    "execution": {
     "iopub.execute_input": "2023-03-09T17:14:22.984284Z",
     "iopub.status.busy": "2023-03-09T17:14:22.983652Z",
     "iopub.status.idle": "2023-03-09T17:15:19.768261Z",
     "shell.execute_reply": "2023-03-09T17:15:19.766665Z",
     "shell.execute_reply.started": "2023-03-09T17:14:22.984221Z"
    },
    "tags": []
   },
   "outputs": [
    {
     "name": "stdout",
     "output_type": "stream",
     "text": [
      "drawing column for region sampleA_B_cell\n",
      "\t10xv1: alias 10x v1\n",
      "\t\tbw: male_female_coverage/10xv1__SCREEN_pseudobulk_bw_files/sampleA_B_cell.bw\n",
      "\t10xv11: alias 10x v1.1\n",
      "\t\tbw: male_female_coverage/10xv11__SCREEN_pseudobulk_bw_files/sampleA_B_cell.bw\n",
      "\t10xv2: alias 10x v2\n",
      "\t\tbw: male_female_coverage/10xv2__SCREEN_pseudobulk_bw_files/sampleA_B_cell.bw\n",
      "\t10xmultiome: alias 10x Multiome\n",
      "\t\tbw: male_female_coverage/10xmultiome__SCREEN_pseudobulk_bw_files/sampleA_B_cell.bw\n",
      "\tmtscatac: alias mtscATAC-seq\n",
      "\t\tbw: male_female_coverage/mtscatac__SCREEN_pseudobulk_bw_files/sampleA_B_cell.bw\n",
      "\tddseq: alias ddSEQ SureCell\n",
      "\t\tbw: male_female_coverage/ddseq__SCREEN_pseudobulk_bw_files/sampleA_B_cell.bw\n",
      "\ts3atac: alias s3-ATAC\n",
      "\t\tbw: male_female_coverage/s3atac__SCREEN_pseudobulk_bw_files/sampleA_B_cell.bw\n",
      "\thydrop: alias HyDrop\n",
      "\t\tbw: male_female_coverage/hydrop__SCREEN_pseudobulk_bw_files/sampleA_B_cell.bw\n"
     ]
    },
    {
     "name": "stderr",
     "output_type": "stream",
     "text": [
      "/staging/leuven/stg_00002/lcb/fderop/software_2/anaconda3/lib/python3.7/site-packages/pybedtools/bedtool.py:3681: UserWarning: Default names for filetype gff are:\n",
      "['seqname', 'source', 'feature', 'start', 'end', 'score', 'strand', 'frame', 'attributes']\n",
      "but file has 13 fields; you can supply custom names with the `names` kwarg\n",
      "  \"`names` kwarg\" % (self.file_type, _names, self.field_count())\n"
     ]
    },
    {
     "name": "stdout",
     "output_type": "stream",
     "text": [
      "\tfor region sampleA_B_cell, drew gene ANKRD24, 2 individual items drawn\n",
      "\n",
      "drawing column for region sampleB_B_cell\n",
      "\t10xv1: alias 10x v1\n",
      "\t\tbw: male_female_coverage/10xv1__SCREEN_pseudobulk_bw_files/sampleB_B_cell.bw\n",
      "\t10xv11: alias 10x v1.1\n",
      "\t\tbw: male_female_coverage/10xv11__SCREEN_pseudobulk_bw_files/sampleB_B_cell.bw\n",
      "\t10xv2: alias 10x v2\n",
      "\t\tbw: male_female_coverage/10xv2__SCREEN_pseudobulk_bw_files/sampleB_B_cell.bw\n",
      "\t10xmultiome: alias 10x Multiome\n",
      "\t\tbw: male_female_coverage/10xmultiome__SCREEN_pseudobulk_bw_files/sampleB_B_cell.bw\n",
      "\tmtscatac: alias mtscATAC-seq\n",
      "\t\tbw: male_female_coverage/mtscatac__SCREEN_pseudobulk_bw_files/sampleB_B_cell.bw\n",
      "\tddseq: alias ddSEQ SureCell\n",
      "\t\tbw: male_female_coverage/ddseq__SCREEN_pseudobulk_bw_files/sampleB_B_cell.bw\n",
      "\ts3atac: alias s3-ATAC\n",
      "\t\tbw: male_female_coverage/s3atac__SCREEN_pseudobulk_bw_files/sampleB_B_cell.bw\n",
      "\thydrop: alias HyDrop\n",
      "\t\tbw: male_female_coverage/hydrop__SCREEN_pseudobulk_bw_files/sampleB_B_cell.bw\n"
     ]
    },
    {
     "name": "stderr",
     "output_type": "stream",
     "text": [
      "/staging/leuven/stg_00002/lcb/fderop/software_2/anaconda3/lib/python3.7/site-packages/pybedtools/bedtool.py:3681: UserWarning: Default names for filetype gff are:\n",
      "['seqname', 'source', 'feature', 'start', 'end', 'score', 'strand', 'frame', 'attributes']\n",
      "but file has 13 fields; you can supply custom names with the `names` kwarg\n",
      "  \"`names` kwarg\" % (self.file_type, _names, self.field_count())\n"
     ]
    },
    {
     "name": "stdout",
     "output_type": "stream",
     "text": [
      "\tfor region sampleB_B_cell, drew gene ANKRD24, 2 individual items drawn\n",
      "\n",
      "drawing column for region sampleB_Cytotoxic_T_cell\n",
      "\t10xv1: alias 10x v1\n",
      "\t\tbw: male_female_coverage/10xv1__SCREEN_pseudobulk_bw_files/sampleB_Cytotoxic_T_cell.bw\n",
      "\t10xv11: alias 10x v1.1\n",
      "\t\tbw: male_female_coverage/10xv11__SCREEN_pseudobulk_bw_files/sampleB_Cytotoxic_T_cell.bw\n",
      "\t10xv2: alias 10x v2\n",
      "\t\tbw: male_female_coverage/10xv2__SCREEN_pseudobulk_bw_files/sampleB_Cytotoxic_T_cell.bw\n",
      "\t10xmultiome: alias 10x Multiome\n",
      "\t\tbw: male_female_coverage/10xmultiome__SCREEN_pseudobulk_bw_files/sampleB_Cytotoxic_T_cell.bw\n",
      "\tmtscatac: alias mtscATAC-seq\n",
      "\t\tbw: male_female_coverage/mtscatac__SCREEN_pseudobulk_bw_files/sampleB_Cytotoxic_T_cell.bw\n",
      "\tddseq: alias ddSEQ SureCell\n",
      "\t\tbw: male_female_coverage/ddseq__SCREEN_pseudobulk_bw_files/sampleB_Cytotoxic_T_cell.bw\n",
      "\ts3atac: alias s3-ATAC\n",
      "\t\tbw: male_female_coverage/s3atac__SCREEN_pseudobulk_bw_files/sampleB_Cytotoxic_T_cell.bw\n",
      "\thydrop: alias HyDrop\n",
      "\t\tbw: male_female_coverage/hydrop__SCREEN_pseudobulk_bw_files/sampleB_Cytotoxic_T_cell.bw\n"
     ]
    },
    {
     "name": "stderr",
     "output_type": "stream",
     "text": [
      "/staging/leuven/stg_00002/lcb/fderop/software_2/anaconda3/lib/python3.7/site-packages/pybedtools/bedtool.py:3681: UserWarning: Default names for filetype gff are:\n",
      "['seqname', 'source', 'feature', 'start', 'end', 'score', 'strand', 'frame', 'attributes']\n",
      "but file has 13 fields; you can supply custom names with the `names` kwarg\n",
      "  \"`names` kwarg\" % (self.file_type, _names, self.field_count())\n"
     ]
    },
    {
     "name": "stdout",
     "output_type": "stream",
     "text": [
      "\tfor region sampleB_Cytotoxic_T_cell, drew gene LINC02763, 2 individual items drawn\n",
      "\n",
      "drawing column for region sampleA_Cytotoxic_T_cell\n",
      "\t10xv1: alias 10x v1\n",
      "\t\tbw: male_female_coverage/10xv1__SCREEN_pseudobulk_bw_files/sampleA_Cytotoxic_T_cell.bw\n",
      "\t10xv11: alias 10x v1.1\n",
      "\t\tbw: male_female_coverage/10xv11__SCREEN_pseudobulk_bw_files/sampleA_Cytotoxic_T_cell.bw\n",
      "\t10xv2: alias 10x v2\n",
      "\t\tbw: male_female_coverage/10xv2__SCREEN_pseudobulk_bw_files/sampleA_Cytotoxic_T_cell.bw\n",
      "\t10xmultiome: alias 10x Multiome\n",
      "\t\tbw: male_female_coverage/10xmultiome__SCREEN_pseudobulk_bw_files/sampleA_Cytotoxic_T_cell.bw\n",
      "\tmtscatac: alias mtscATAC-seq\n",
      "\t\tbw: male_female_coverage/mtscatac__SCREEN_pseudobulk_bw_files/sampleA_Cytotoxic_T_cell.bw\n",
      "\tddseq: alias ddSEQ SureCell\n",
      "\t\tbw: male_female_coverage/ddseq__SCREEN_pseudobulk_bw_files/sampleA_Cytotoxic_T_cell.bw\n",
      "\ts3atac: alias s3-ATAC\n",
      "\t\tbw: male_female_coverage/s3atac__SCREEN_pseudobulk_bw_files/sampleA_Cytotoxic_T_cell.bw\n",
      "\thydrop: alias HyDrop\n",
      "\t\tbw: male_female_coverage/hydrop__SCREEN_pseudobulk_bw_files/sampleA_Cytotoxic_T_cell.bw\n"
     ]
    },
    {
     "name": "stderr",
     "output_type": "stream",
     "text": [
      "/staging/leuven/stg_00002/lcb/fderop/software_2/anaconda3/lib/python3.7/site-packages/pybedtools/bedtool.py:3681: UserWarning: Default names for filetype gff are:\n",
      "['seqname', 'source', 'feature', 'start', 'end', 'score', 'strand', 'frame', 'attributes']\n",
      "but file has 13 fields; you can supply custom names with the `names` kwarg\n",
      "  \"`names` kwarg\" % (self.file_type, _names, self.field_count())\n"
     ]
    },
    {
     "name": "stdout",
     "output_type": "stream",
     "text": [
      "\tfor region sampleA_Cytotoxic_T_cell, drew gene LINC02763, 2 individual items drawn\n",
      "\n",
      "drawing column for region sampleA_CD4_T_cell\n",
      "\t10xv1: alias 10x v1\n",
      "\t\tbw: male_female_coverage/10xv1__SCREEN_pseudobulk_bw_files/sampleA_CD4_T_cell.bw\n",
      "\t10xv11: alias 10x v1.1\n",
      "\t\tbw: male_female_coverage/10xv11__SCREEN_pseudobulk_bw_files/sampleA_CD4_T_cell.bw\n",
      "\t10xv2: alias 10x v2\n",
      "\t\tbw: male_female_coverage/10xv2__SCREEN_pseudobulk_bw_files/sampleA_CD4_T_cell.bw\n",
      "\t10xmultiome: alias 10x Multiome\n",
      "\t\tbw: male_female_coverage/10xmultiome__SCREEN_pseudobulk_bw_files/sampleA_CD4_T_cell.bw\n",
      "\tmtscatac: alias mtscATAC-seq\n",
      "\t\tbw: male_female_coverage/mtscatac__SCREEN_pseudobulk_bw_files/sampleA_CD4_T_cell.bw\n",
      "\tddseq: alias ddSEQ SureCell\n",
      "\t\tbw: male_female_coverage/ddseq__SCREEN_pseudobulk_bw_files/sampleA_CD4_T_cell.bw\n",
      "\ts3atac: alias s3-ATAC\n",
      "\t\tbw: male_female_coverage/s3atac__SCREEN_pseudobulk_bw_files/sampleA_CD4_T_cell.bw\n",
      "\thydrop: alias HyDrop\n",
      "\t\tbw: male_female_coverage/hydrop__SCREEN_pseudobulk_bw_files/sampleA_CD4_T_cell.bw\n"
     ]
    },
    {
     "name": "stderr",
     "output_type": "stream",
     "text": [
      "/staging/leuven/stg_00002/lcb/fderop/software_2/anaconda3/lib/python3.7/site-packages/pybedtools/bedtool.py:3681: UserWarning: Default names for filetype gff are:\n",
      "['seqname', 'source', 'feature', 'start', 'end', 'score', 'strand', 'frame', 'attributes']\n",
      "but file has 13 fields; you can supply custom names with the `names` kwarg\n",
      "  \"`names` kwarg\" % (self.file_type, _names, self.field_count())\n"
     ]
    },
    {
     "name": "stdout",
     "output_type": "stream",
     "text": [
      "\tfor region sampleA_CD4_T_cell, drew gene TPST2, 4 individual items drawn\n",
      "\n",
      "drawing column for region sampleB_CD4_T_cell\n",
      "\t10xv1: alias 10x v1\n",
      "\t\tbw: male_female_coverage/10xv1__SCREEN_pseudobulk_bw_files/sampleB_CD4_T_cell.bw\n",
      "\t10xv11: alias 10x v1.1\n",
      "\t\tbw: male_female_coverage/10xv11__SCREEN_pseudobulk_bw_files/sampleB_CD4_T_cell.bw\n",
      "\t10xv2: alias 10x v2\n",
      "\t\tbw: male_female_coverage/10xv2__SCREEN_pseudobulk_bw_files/sampleB_CD4_T_cell.bw\n",
      "\t10xmultiome: alias 10x Multiome\n",
      "\t\tbw: male_female_coverage/10xmultiome__SCREEN_pseudobulk_bw_files/sampleB_CD4_T_cell.bw\n",
      "\tmtscatac: alias mtscATAC-seq\n",
      "\t\tbw: male_female_coverage/mtscatac__SCREEN_pseudobulk_bw_files/sampleB_CD4_T_cell.bw\n",
      "\tddseq: alias ddSEQ SureCell\n",
      "\t\tbw: male_female_coverage/ddseq__SCREEN_pseudobulk_bw_files/sampleB_CD4_T_cell.bw\n",
      "\ts3atac: alias s3-ATAC\n",
      "\t\tbw: male_female_coverage/s3atac__SCREEN_pseudobulk_bw_files/sampleB_CD4_T_cell.bw\n",
      "\thydrop: alias HyDrop\n",
      "\t\tbw: male_female_coverage/hydrop__SCREEN_pseudobulk_bw_files/sampleB_CD4_T_cell.bw\n"
     ]
    },
    {
     "name": "stderr",
     "output_type": "stream",
     "text": [
      "/staging/leuven/stg_00002/lcb/fderop/software_2/anaconda3/lib/python3.7/site-packages/pybedtools/bedtool.py:3681: UserWarning: Default names for filetype gff are:\n",
      "['seqname', 'source', 'feature', 'start', 'end', 'score', 'strand', 'frame', 'attributes']\n",
      "but file has 13 fields; you can supply custom names with the `names` kwarg\n",
      "  \"`names` kwarg\" % (self.file_type, _names, self.field_count())\n"
     ]
    },
    {
     "name": "stdout",
     "output_type": "stream",
     "text": [
      "\tfor region sampleB_CD4_T_cell, drew gene TPST2, 4 individual items drawn\n",
      "\n"
     ]
    },
    {
     "data": {
      "image/png": "[encoded data removed]",
      "text/plain": [
       "<Figure size 864x576 with 102 Axes>"
      ]
     },
     "metadata": {},
     "output_type": "display_data"
    }
   ],
   "source": [
    "n_cols = (\n",
    "    len(regions_dict) * 2\n",
    ")  # times 2 because we draw the male and female coverage for every region\n",
    "n_rows = len(tech_order)\n",
    "figsize = (n_cols, n_rows)\n",
    "## create the gridspec\n",
    "fig = plt.figure(figsize=figsize, facecolor=\"white\")\n",
    "\n",
    "# define ratios between all elements in the graphic\n",
    "height_ratios = [0.2]  # for gtf\n",
    "height_ratios.append(len(bw_path_dict_dict))  # for bws\n",
    "height_ratios.append(0.1)  # for text box\n",
    "\n",
    "# create a global frame for the 3 modalities shown (bigwigs, gtf, and text)\n",
    "frame = gridspec.GridSpec(3, 1, wspace=0.25, hspace=0.17, height_ratios=height_ratios)\n",
    "\n",
    "# create a gridspec for each modality within the frame\n",
    "\n",
    "\n",
    "text_grid = gridspec.GridSpecFromSubplotSpec(\n",
    "    1, n_cols, wspace=0.2, hspace=0, subplot_spec=frame[0, 0]\n",
    ")\n",
    "bw_dar_grid = gridspec.GridSpecFromSubplotSpec(\n",
    "    n_rows, n_cols, wspace=0.2, hspace=-0.1, subplot_spec=frame[1, 0]\n",
    ")\n",
    "gtf_grid = gridspec.GridSpecFromSubplotSpec(\n",
    "    max_genes, n_cols, wspace=0.2, hspace=0, subplot_spec=frame[2, 0]\n",
    ")\n",
    "\n",
    "## iterate over all regions (=columns in final figure)\n",
    "for region_name in cell_type_order:\n",
    "    if verbose == True:\n",
    "        print(f\"drawing column for region {region_name}\")\n",
    "    region_index = cell_type_order.index(region_name)\n",
    "\n",
    "    # the genome coordinates over which we will be plotting:\n",
    "    chrom = regions_df_padded.loc[region_name][\"chrom\"]\n",
    "    start = int(regions_df_padded.loc[region_name][\"start\"])\n",
    "    end = int(regions_df_padded.loc[region_name][\"end\"])\n",
    "    x = np.array(range(start, end, 1))\n",
    "\n",
    "    # set ymax according to region\n",
    "    bw_ymax = region_max_dict_padded[region_name]\n",
    "\n",
    "    # you can also set global ymax:\n",
    "    # bw_ymax = region_max_dict_padded[\n",
    "    #     max(region_max_dict_padded, key=region_max_dict_padded.get)\n",
    "    # ]\n",
    "\n",
    "    ## iterate over all bigwigs (=rows in final figure)\n",
    "    for key in tech_order:\n",
    "        if verbose == True:\n",
    "            print(f\"\\t{key}: alias {tech_alias_dict[key]}\")\n",
    "\n",
    "        bw_index = tech_order.index(key)  # get the bw index for row indexing\n",
    "\n",
    "        # create a new gridspec for bw + dar\n",
    "        if \"regions_dict_padded\" in locals() or \"peak_path_dict\" in locals():\n",
    "            bw_dar_subgrid = gridspec.GridSpecFromSubplotSpec(\n",
    "                2,\n",
    "                1,\n",
    "                wspace=0.05,\n",
    "                hspace=0,\n",
    "                subplot_spec=bw_dar_grid[bw_index, region_index],\n",
    "                height_ratios=[20, 0.5],\n",
    "            )\n",
    "        else:\n",
    "            bw_dar_subgrid = gridspec.GridSpecFromSubplotSpec(\n",
    "                1,\n",
    "                1,\n",
    "                wspace=0.05,\n",
    "                hspace=0.2,\n",
    "                subplot_spec=bw_dar_grid[bw_index, region_index],\n",
    "            )\n",
    "\n",
    "        # open the bigwig\n",
    "        bw_file = bw_path_dict_dict[region_name][key]\n",
    "        if verbose == True:\n",
    "            print(f\"\\t\\tbw: {bw_file}\")\n",
    "\n",
    "        bw = pyBigWig.open(bw_file)\n",
    "        y = bw.values(chrom, start, end)\n",
    "        y = np.nan_to_num(y)\n",
    "\n",
    "        # now plot the bigwig in the gridspec\n",
    "        ax = plt.Subplot(fig, bw_dar_subgrid[0, 0])\n",
    "        ax.fill_between(\n",
    "            x, y1=y, y2=0, step=\"mid\", linewidth=0, color=tech_color_palette[key]\n",
    "        )\n",
    "        ax.patch.set_alpha(0)\n",
    "\n",
    "        # figure settings\n",
    "        ax.set_xlim([x.min(), x.max()])\n",
    "        ax.set_ylim([0, bw_ymax])\n",
    "        ax.set_xticks([])\n",
    "        ax.set_yticks([])\n",
    "\n",
    "        # add a ylabel only if it's the last column\n",
    "        if region_name == cell_type_order[-1]:\n",
    "            ax.yaxis.set_label_position(\"right\")\n",
    "            ax.set_ylabel(\n",
    "                tech_alias_dict[key],\n",
    "                rotation=0,\n",
    "                horizontalalignment=\"left\",\n",
    "                verticalalignment=\"bottom\",\n",
    "                # color=tech_color_palette[key],\n",
    "            )\n",
    "            ax.yaxis.set_label_coords(1.05, 0.05)\n",
    "\n",
    "        # add a title only if it's the first row\n",
    "        if tech_order.index(key) == 0:\n",
    "            region = regions_dict_padded[region_name]\n",
    "            length = round((end - start) / 1000)\n",
    "            label = f\"{cell_type_alias_dict[region_name]}\"\n",
    "\n",
    "            ax.set_title(label, fontsize=8, y=0.45)\n",
    "\n",
    "        sns.despine(top=True, right=True, left=True, bottom=False, ax=ax)\n",
    "        for spine in ax.spines.values():\n",
    "            spine.set_edgecolor(tech_color_palette[key])\n",
    "\n",
    "        # add to the fig\n",
    "        fig.add_subplot(ax, transparent=True)\n",
    "\n",
    "        # first draw peaks if they are defined\n",
    "        if \"peak_path_dict\" in locals():\n",
    "            # get peaks that overlap the region to be plotted\n",
    "            # if key in peak_path_dict[region_name].keys():\n",
    "            peak = BedTool(peak_path_dict[region_name])\n",
    "            peak_region_intersection = peak.intersect(\n",
    "                BedTool.from_dataframe(df=regions_df_padded), wa=True, wb=True\n",
    "            )\n",
    "            if len(peak_region_intersection) > 0:\n",
    "                peak_region_intersection = peak_region_intersection.to_dataframe(\n",
    "                    header=None\n",
    "                )\n",
    "                peak_region_intersection = peak_region_intersection.iloc[:, :4]\n",
    "                peak_region_intersection.columns = \"chr start end name\".split()\n",
    "\n",
    "                # now plot the dars in the gridspec\n",
    "                ax = plt.Subplot(fig, bw_dar_subgrid[1, 0])\n",
    "                for element in peak_region_intersection.index:\n",
    "                    part = peak_region_intersection.loc[element]\n",
    "                    peak_start = part[\"start\"]\n",
    "                    peak_end = part[\"end\"]\n",
    "\n",
    "                    # plot a thin line, with beginning and ending as x coordinates, and bw_ymin as y coordinates\n",
    "                    # NOTE: linewidth won't do much here, it is more determined by the 'space' you give to this part of the plot in height_ratios!\n",
    "                    ax.plot([peak_start, peak_end], [0, 0], linewidth=4, c=peak_color)\n",
    "\n",
    "                # figure settings\n",
    "                ax.set_ylim([-1, +1])\n",
    "                addax()\n",
    "\n",
    "        # then draw dars if they are defined\n",
    "        if \"regions_path_dict\" in locals():\n",
    "            # get DARs that overlap the region to be plotted\n",
    "            dar = BedTool(regions_path_dict[region_name][key])\n",
    "            if verbose == True:\n",
    "                print(f\"\\t\\tdar: {regions_path_dict[region_name][key]}\")\n",
    "\n",
    "            dar_region_intersection = dar.intersect(\n",
    "                BedTool.from_dataframe(df=regions_df_padded), wa=True, wb=True\n",
    "            )\n",
    "            dar_region_intersection = dar_region_intersection.to_dataframe(header=None)\n",
    "            if len(dar_region_intersection) > 0:\n",
    "\n",
    "                dar_region_intersection = dar_region_intersection.iloc[:, :4]\n",
    "                dar_region_intersection.columns = \"chr start end name\".split()\n",
    "\n",
    "                # now plot the dars in the gridspec\n",
    "                ax = plt.Subplot(fig, bw_dar_subgrid[1, 0])\n",
    "                for element in dar_region_intersection.index:\n",
    "                    part = dar_region_intersection.loc[element]\n",
    "                    dar_start = part[\"start\"]\n",
    "                    dar_end = part[\"end\"]\n",
    "\n",
    "                    # plot a thin line, with beginning and ending as x coordinates, and bw_ymin as y coordinates\n",
    "                    # NOTE: linewidth won't do much here, it is more determined by the 'space' you give to this part of the plot in height_ratios!\n",
    "                    ax.plot([dar_start, dar_end], [0, 0], linewidth=8, c=dar_color)\n",
    "\n",
    "                # figure settings\n",
    "                ax.set_ylim([-1, +1])\n",
    "                addax()\n",
    "\n",
    "    ## draw the genes of interest, from our gtf\n",
    "    # intersect genes gtf with the region of interest\n",
    "    if plot_genes == True:\n",
    "        gtf = BedTool(gtf_file)\n",
    "        gtf_region_intersection = gtf.intersect(\n",
    "            BedTool.from_dataframe(df=regions_df_padded), wa=True, wb=True\n",
    "        )\n",
    "        gtf_region_intersection = gtf_region_intersection.to_dataframe(header=None)\n",
    "        gtf_region_intersection = gtf_region_intersection.iloc[:, :9]\n",
    "        gtf_region_intersection.columns = (\n",
    "            \"chr db feature start end score strand frame attribute\".split()\n",
    "        )\n",
    "\n",
    "        ## iterate over all genes of interest in genes_dict\n",
    "        for gene in genes_dict[region_name]:\n",
    "            gene_index = genes_dict[region_name].index(\n",
    "                gene\n",
    "            )  # get gene index for row indexing\n",
    "\n",
    "            # get gtf intersection with only gene body and exons of this particular gene\n",
    "            gtf_region_intersection_gene = gtf_region_intersection[\n",
    "                gtf_region_intersection[\"attribute\"].str.contains(gene)\n",
    "            ]\n",
    "            gtf_region_intersection_gene = gtf_region_intersection_gene[\n",
    "                gtf_region_intersection_gene[\"feature\"].str.contains(\"gene|exon\")\n",
    "            ]\n",
    "\n",
    "            # now plot the gene parts (gene body and gene exon)\n",
    "            ax = plt.Subplot(fig, gtf_grid[gene_index, region_index])\n",
    "\n",
    "            # iterate over all parts to plot them\n",
    "            for element in gtf_region_intersection_gene.index:\n",
    "                part = gtf_region_intersection_gene.loc[element]\n",
    "\n",
    "                # make exons thick\n",
    "                if part[\"feature\"] == \"exon\":\n",
    "                    exon_start = part[\"start\"]\n",
    "                    exon_end = part[\"end\"]\n",
    "                    # draw rectangle for exon\n",
    "                    rect = mpatches.Rectangle(\n",
    "                        (exon_start, exon_bottom),\n",
    "                        exon_end - exon_start,\n",
    "                        exon_height,\n",
    "                        fill=True,\n",
    "                        color=\"k\",\n",
    "                        linewidth=0,\n",
    "                    )\n",
    "                    ax.add_patch(rect)\n",
    "\n",
    "                # make the gene body a thin line, drawn at the end so it will always display on top\n",
    "                elif part[\"feature\"] == \"gene\":\n",
    "                    gene_start = part[\"start\"]\n",
    "                    gene_end = part[\"end\"]\n",
    "                    rect = mpatches.Rectangle(\n",
    "                        (gene_start, gene_bottom),\n",
    "                        gene_end - gene_start,\n",
    "                        gene_height,\n",
    "                        fill=True,\n",
    "                        color=\"k\",\n",
    "                        linewidth=0,\n",
    "                    )\n",
    "                    ax.add_patch(rect)\n",
    "\n",
    "        if verbose == True:\n",
    "            print(\n",
    "                f\"\\tfor region {region_name}, drew gene {gene}, {len(gtf_region_intersection_gene.index)} individual items drawn\\n\"\n",
    "            )\n",
    "\n",
    "        # figure settings\n",
    "        ax.set_ylim([exon_bottom, -exon_bottom])\n",
    "        ax.set_xlabel(gene, fontsize=8)\n",
    "        addax()\n",
    "\n",
    "fig.savefig(\n",
    "    \"plts_track/dar_track_malefemale.png\",\n",
    "    dpi=350,\n",
    "    bbox_inches=\"tight\",\n",
    "    pad_inches=0,\n",
    "    transparent=False,\n",
    "    facecolor=\"white\",\n",
    ")\n",
    "fig.savefig(\n",
    "    \"plts_track/dar_track_malefemale.svg\",\n",
    "    dpi=350,\n",
    "    bbox_inches=\"tight\",\n",
    "    pad_inches=0,\n",
    "    transparent=False,\n",
    "    facecolor=\"white\",\n",
    ")\n",
    "\n",
    "# fig"
   ]
  },
  {
   "cell_type": "code",
   "execution_count": 349,
   "id": "ef0c876c-a02d-45c1-bf13-7bf1e67cfe82",
   "metadata": {
    "execution": {
     "iopub.execute_input": "2023-03-09T17:15:19.769724Z",
     "iopub.status.busy": "2023-03-09T17:15:19.769511Z",
     "iopub.status.idle": "2023-03-09T17:15:19.786746Z",
     "shell.execute_reply": "2023-03-09T17:15:19.785849Z",
     "shell.execute_reply.started": "2023-03-09T17:15:19.769700Z"
    },
    "tags": []
   },
   "outputs": [
    {
     "name": "stdout",
     "output_type": "stream",
     "text": [
      "ln male_female_coverage/s3atac__SCREEN_pseudobulk_bw_files/sampleA_Cytotoxic_T_cell.bw male_female_coverage/s3atac__sampleA_Cytotoxic_T_cell.bw\n",
      "ln male_female_coverage/10xv1__SCREEN_pseudobulk_bw_files/sampleA_Cytotoxic_T_cell.bw male_female_coverage/10xv1__sampleA_Cytotoxic_T_cell.bw\n",
      "ln male_female_coverage/mtscatac__SCREEN_pseudobulk_bw_files/sampleA_Cytotoxic_T_cell.bw male_female_coverage/mtscatac__sampleA_Cytotoxic_T_cell.bw\n",
      "ln male_female_coverage/10xv2__SCREEN_pseudobulk_bw_files/sampleA_Cytotoxic_T_cell.bw male_female_coverage/10xv2__sampleA_Cytotoxic_T_cell.bw\n",
      "ln male_female_coverage/10xv11__SCREEN_pseudobulk_bw_files/sampleA_Cytotoxic_T_cell.bw male_female_coverage/10xv11__sampleA_Cytotoxic_T_cell.bw\n",
      "ln male_female_coverage/10xmultiome__SCREEN_pseudobulk_bw_files/sampleA_Cytotoxic_T_cell.bw male_female_coverage/10xmultiome__sampleA_Cytotoxic_T_cell.bw\n",
      "ln male_female_coverage/hydrop__SCREEN_pseudobulk_bw_files/sampleA_Cytotoxic_T_cell.bw male_female_coverage/hydrop__sampleA_Cytotoxic_T_cell.bw\n",
      "ln male_female_coverage/ddseq__SCREEN_pseudobulk_bw_files/sampleA_Cytotoxic_T_cell.bw male_female_coverage/ddseq__sampleA_Cytotoxic_T_cell.bw\n",
      "ln male_female_coverage/s3atac__SCREEN_pseudobulk_bw_files/sampleB_Cytotoxic_T_cell.bw male_female_coverage/s3atac__sampleB_Cytotoxic_T_cell.bw\n",
      "ln male_female_coverage/10xv1__SCREEN_pseudobulk_bw_files/sampleB_Cytotoxic_T_cell.bw male_female_coverage/10xv1__sampleB_Cytotoxic_T_cell.bw\n",
      "ln male_female_coverage/mtscatac__SCREEN_pseudobulk_bw_files/sampleB_Cytotoxic_T_cell.bw male_female_coverage/mtscatac__sampleB_Cytotoxic_T_cell.bw\n",
      "ln male_female_coverage/10xv2__SCREEN_pseudobulk_bw_files/sampleB_Cytotoxic_T_cell.bw male_female_coverage/10xv2__sampleB_Cytotoxic_T_cell.bw\n",
      "ln male_female_coverage/10xv11__SCREEN_pseudobulk_bw_files/sampleB_Cytotoxic_T_cell.bw male_female_coverage/10xv11__sampleB_Cytotoxic_T_cell.bw\n",
      "ln male_female_coverage/10xmultiome__SCREEN_pseudobulk_bw_files/sampleB_Cytotoxic_T_cell.bw male_female_coverage/10xmultiome__sampleB_Cytotoxic_T_cell.bw\n",
      "ln male_female_coverage/hydrop__SCREEN_pseudobulk_bw_files/sampleB_Cytotoxic_T_cell.bw male_female_coverage/hydrop__sampleB_Cytotoxic_T_cell.bw\n",
      "ln male_female_coverage/ddseq__SCREEN_pseudobulk_bw_files/sampleB_Cytotoxic_T_cell.bw male_female_coverage/ddseq__sampleB_Cytotoxic_T_cell.bw\n",
      "ln male_female_coverage/s3atac__SCREEN_pseudobulk_bw_files/sampleA_CD4_T_cell.bw male_female_coverage/s3atac__sampleA_CD4_T_cell.bw\n",
      "ln male_female_coverage/10xv1__SCREEN_pseudobulk_bw_files/sampleA_CD4_T_cell.bw male_female_coverage/10xv1__sampleA_CD4_T_cell.bw\n",
      "ln male_female_coverage/mtscatac__SCREEN_pseudobulk_bw_files/sampleA_CD4_T_cell.bw male_female_coverage/mtscatac__sampleA_CD4_T_cell.bw\n",
      "ln male_female_coverage/10xv2__SCREEN_pseudobulk_bw_files/sampleA_CD4_T_cell.bw male_female_coverage/10xv2__sampleA_CD4_T_cell.bw\n",
      "ln male_female_coverage/10xv11__SCREEN_pseudobulk_bw_files/sampleA_CD4_T_cell.bw male_female_coverage/10xv11__sampleA_CD4_T_cell.bw\n",
      "ln male_female_coverage/10xmultiome__SCREEN_pseudobulk_bw_files/sampleA_CD4_T_cell.bw male_female_coverage/10xmultiome__sampleA_CD4_T_cell.bw\n",
      "ln male_female_coverage/hydrop__SCREEN_pseudobulk_bw_files/sampleA_CD4_T_cell.bw male_female_coverage/hydrop__sampleA_CD4_T_cell.bw\n",
      "ln male_female_coverage/ddseq__SCREEN_pseudobulk_bw_files/sampleA_CD4_T_cell.bw male_female_coverage/ddseq__sampleA_CD4_T_cell.bw\n",
      "ln male_female_coverage/s3atac__SCREEN_pseudobulk_bw_files/sampleB_CD4_T_cell.bw male_female_coverage/s3atac__sampleB_CD4_T_cell.bw\n",
      "ln male_female_coverage/10xv1__SCREEN_pseudobulk_bw_files/sampleB_CD4_T_cell.bw male_female_coverage/10xv1__sampleB_CD4_T_cell.bw\n",
      "ln male_female_coverage/mtscatac__SCREEN_pseudobulk_bw_files/sampleB_CD4_T_cell.bw male_female_coverage/mtscatac__sampleB_CD4_T_cell.bw\n",
      "ln male_female_coverage/10xv2__SCREEN_pseudobulk_bw_files/sampleB_CD4_T_cell.bw male_female_coverage/10xv2__sampleB_CD4_T_cell.bw\n",
      "ln male_female_coverage/10xv11__SCREEN_pseudobulk_bw_files/sampleB_CD4_T_cell.bw male_female_coverage/10xv11__sampleB_CD4_T_cell.bw\n",
      "ln male_female_coverage/10xmultiome__SCREEN_pseudobulk_bw_files/sampleB_CD4_T_cell.bw male_female_coverage/10xmultiome__sampleB_CD4_T_cell.bw\n",
      "ln male_female_coverage/hydrop__SCREEN_pseudobulk_bw_files/sampleB_CD4_T_cell.bw male_female_coverage/hydrop__sampleB_CD4_T_cell.bw\n",
      "ln male_female_coverage/ddseq__SCREEN_pseudobulk_bw_files/sampleB_CD4_T_cell.bw male_female_coverage/ddseq__sampleB_CD4_T_cell.bw\n",
      "ln male_female_coverage/s3atac__SCREEN_pseudobulk_bw_files/sampleA_B_cell.bw male_female_coverage/s3atac__sampleA_B_cell.bw\n",
      "ln male_female_coverage/10xv1__SCREEN_pseudobulk_bw_files/sampleA_B_cell.bw male_female_coverage/10xv1__sampleA_B_cell.bw\n",
      "ln male_female_coverage/mtscatac__SCREEN_pseudobulk_bw_files/sampleA_B_cell.bw male_female_coverage/mtscatac__sampleA_B_cell.bw\n",
      "ln male_female_coverage/10xv2__SCREEN_pseudobulk_bw_files/sampleA_B_cell.bw male_female_coverage/10xv2__sampleA_B_cell.bw\n",
      "ln male_female_coverage/10xv11__SCREEN_pseudobulk_bw_files/sampleA_B_cell.bw male_female_coverage/10xv11__sampleA_B_cell.bw\n",
      "ln male_female_coverage/10xmultiome__SCREEN_pseudobulk_bw_files/sampleA_B_cell.bw male_female_coverage/10xmultiome__sampleA_B_cell.bw\n",
      "ln male_female_coverage/hydrop__SCREEN_pseudobulk_bw_files/sampleA_B_cell.bw male_female_coverage/hydrop__sampleA_B_cell.bw\n",
      "ln male_female_coverage/ddseq__SCREEN_pseudobulk_bw_files/sampleA_B_cell.bw male_female_coverage/ddseq__sampleA_B_cell.bw\n",
      "ln male_female_coverage/s3atac__SCREEN_pseudobulk_bw_files/sampleB_B_cell.bw male_female_coverage/s3atac__sampleB_B_cell.bw\n",
      "ln male_female_coverage/10xv1__SCREEN_pseudobulk_bw_files/sampleB_B_cell.bw male_female_coverage/10xv1__sampleB_B_cell.bw\n",
      "ln male_female_coverage/mtscatac__SCREEN_pseudobulk_bw_files/sampleB_B_cell.bw male_female_coverage/mtscatac__sampleB_B_cell.bw\n",
      "ln male_female_coverage/10xv2__SCREEN_pseudobulk_bw_files/sampleB_B_cell.bw male_female_coverage/10xv2__sampleB_B_cell.bw\n",
      "ln male_female_coverage/10xv11__SCREEN_pseudobulk_bw_files/sampleB_B_cell.bw male_female_coverage/10xv11__sampleB_B_cell.bw\n",
      "ln male_female_coverage/10xmultiome__SCREEN_pseudobulk_bw_files/sampleB_B_cell.bw male_female_coverage/10xmultiome__sampleB_B_cell.bw\n",
      "ln male_female_coverage/hydrop__SCREEN_pseudobulk_bw_files/sampleB_B_cell.bw male_female_coverage/hydrop__sampleB_B_cell.bw\n",
      "ln male_female_coverage/ddseq__SCREEN_pseudobulk_bw_files/sampleB_B_cell.bw male_female_coverage/ddseq__sampleB_B_cell.bw\n"
     ]
    }
   ],
   "source": [
    "for cell_type, tech_dict in bw_path_dict_dict.items():\n",
    "    # print(cell_type)\n",
    "    for tech, path in tech_dict.items():\n",
    "        newpath = path.replace(\"SCREEN_pseudobulk_bw_files/\", \"\")\n",
    "        print(f\"ln {path} {newpath}\")"
   ]
  },
  {
   "cell_type": "code",
   "execution_count": null,
   "id": "24cfe96a-d49c-44d0-9cfa-03f58be33d8d",
   "metadata": {},
   "outputs": [],
   "source": []
  },
  {
   "cell_type": "code",
   "execution_count": null,
   "id": "95643dc4-b6e3-40a4-893c-680389e58e50",
   "metadata": {},
   "outputs": [],
   "source": []
  },
  {
   "cell_type": "code",
   "execution_count": null,
   "id": "20b941aa-da37-4190-a065-45e54e6b803e",
   "metadata": {},
   "outputs": [],
   "source": []
  },
  {
   "cell_type": "code",
   "execution_count": null,
   "id": "087bd61a-4967-4956-afd0-debe2e084f25",
   "metadata": {},
   "outputs": [],
   "source": []
  },
  {
   "cell_type": "code",
   "execution_count": null,
   "id": "aaea26ee-7a72-4773-851b-e2439bcab590",
   "metadata": {},
   "outputs": [],
   "source": []
  },
  {
   "cell_type": "code",
   "execution_count": null,
   "id": "aef97cb2-771a-4590-9c6b-c42c770c9643",
   "metadata": {},
   "outputs": [],
   "source": []
  },
  {
   "cell_type": "code",
   "execution_count": null,
   "id": "a2fe40cb-f7f6-4f7a-8a17-adbb737fad42",
   "metadata": {},
   "outputs": [],
   "source": []
  },
  {
   "cell_type": "code",
   "execution_count": null,
   "id": "d6c2cc4d-237f-46ff-a44e-254b7d28edea",
   "metadata": {},
   "outputs": [],
   "source": []
  }
 ],
 "metadata": {
  "kernelspec": {
   "display_name": "Python 3 (ipykernel)",
   "language": "python",
   "name": "python3"
  },
  "language_info": {
   "codemirror_mode": {
    "name": "ipython",
    "version": 3
   },
   "file_extension": ".py",
   "mimetype": "text/x-python",
   "name": "python",
   "nbconvert_exporter": "python",
   "pygments_lexer": "ipython3",
   "version": "3.7.7"
  },
  "papermill": {
   "default_parameters": {},
   "duration": 33.135392,
   "end_time": "2022-09-18T16:28:23.816937",
   "environment_variables": {},
   "exception": null,
   "input_path": "8_consensus_peaks.ipynb",
   "output_path": "8_consensus_peaks.OUT.ipynb",
   "parameters": {},
   "start_time": "2022-09-18T16:27:50.681545",
   "version": "2.3.4"
  }
 },
 "nbformat": 4,
 "nbformat_minor": 5
}

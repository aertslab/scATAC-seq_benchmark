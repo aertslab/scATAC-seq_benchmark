{
 "cells": [
  {
   "cell_type": "markdown",
   "id": "72874e29",
   "metadata": {
    "papermill": {
     "duration": 0.007662,
     "end_time": "2022-09-30T13:26:35.233722",
     "exception": false,
     "start_time": "2022-09-30T13:26:35.226060",
     "status": "completed"
    },
    "pycharm": {
     "name": "#%% md\n"
    },
    "tags": []
   },
   "source": [
    "# pycisTopic analysis\n",
    "\n",
    "Full dataset, using consensus peak regions."
   ]
  },
  {
   "cell_type": "code",
   "execution_count": 2,
   "id": "77f62885",
   "metadata": {
    "execution": {
     "iopub.execute_input": "2023-02-27T08:12:38.027065Z",
     "iopub.status.busy": "2023-02-27T08:12:38.026257Z",
     "iopub.status.idle": "2023-02-27T08:12:42.609036Z",
     "shell.execute_reply": "2023-02-27T08:12:42.607807Z",
     "shell.execute_reply.started": "2023-02-27T08:12:38.027007Z"
    },
    "papermill": {
     "duration": 3.077325,
     "end_time": "2022-09-30T13:26:38.318357",
     "exception": false,
     "start_time": "2022-09-30T13:26:35.241032",
     "status": "completed"
    },
    "pycharm": {
     "name": "#%%\n"
    },
    "tags": []
   },
   "outputs": [
    {
     "data": {
      "application/javascript": [
       "\n",
       "            setTimeout(function() {\n",
       "                var nbb_cell_id = 2;\n",
       "                var nbb_unformatted_code = \"import pycisTopic\\n\\n%load_ext nb_black\\nimport warnings\\n\\nwarnings.filterwarnings(\\\"ignore\\\")\\nwarnings.simplefilter(\\\"ignore\\\")\\nimport pickle\\nimport pandas as pd\\nimport os\";\n",
       "                var nbb_formatted_code = \"import pycisTopic\\n\\n%load_ext nb_black\\nimport warnings\\n\\nwarnings.filterwarnings(\\\"ignore\\\")\\nwarnings.simplefilter(\\\"ignore\\\")\\nimport pickle\\nimport pandas as pd\\nimport os\";\n",
       "                var nbb_cells = Jupyter.notebook.get_cells();\n",
       "                for (var i = 0; i < nbb_cells.length; ++i) {\n",
       "                    if (nbb_cells[i].input_prompt_number == nbb_cell_id) {\n",
       "                        if (nbb_cells[i].get_text() == nbb_unformatted_code) {\n",
       "                             nbb_cells[i].set_text(nbb_formatted_code);\n",
       "                        }\n",
       "                        break;\n",
       "                    }\n",
       "                }\n",
       "            }, 500);\n",
       "            "
      ],
      "text/plain": [
       "<IPython.core.display.Javascript object>"
      ]
     },
     "metadata": {},
     "output_type": "display_data"
    }
   ],
   "source": [
    "import pycisTopic\n",
    "\n",
    "%load_ext nb_black\n",
    "import warnings\n",
    "\n",
    "warnings.filterwarnings(\"ignore\")\n",
    "warnings.simplefilter(\"ignore\")\n",
    "import pickle\n",
    "import pandas as pd\n",
    "import os"
   ]
  },
  {
   "cell_type": "code",
   "execution_count": 3,
   "id": "b49bf3ac-8fdb-4820-a52e-96f3c228f808",
   "metadata": {
    "execution": {
     "iopub.execute_input": "2023-02-27T08:12:42.611722Z",
     "iopub.status.busy": "2023-02-27T08:12:42.611081Z",
     "iopub.status.idle": "2023-02-27T08:12:42.892712Z",
     "shell.execute_reply": "2023-02-27T08:12:42.891060Z",
     "shell.execute_reply.started": "2023-02-27T08:12:42.611682Z"
    },
    "tags": []
   },
   "outputs": [
    {
     "name": "stdout",
     "output_type": "stream",
     "text": [
      "/lustre1/project/stg_00090/scatac_benchmark/fixedcells_8_individual_tech_cistopic_objects\n"
     ]
    },
    {
     "data": {
      "application/javascript": [
       "\n",
       "            setTimeout(function() {\n",
       "                var nbb_cell_id = 3;\n",
       "                var nbb_unformatted_code = \"!pwd\";\n",
       "                var nbb_formatted_code = \"!pwd\";\n",
       "                var nbb_cells = Jupyter.notebook.get_cells();\n",
       "                for (var i = 0; i < nbb_cells.length; ++i) {\n",
       "                    if (nbb_cells[i].input_prompt_number == nbb_cell_id) {\n",
       "                        if (nbb_cells[i].get_text() == nbb_unformatted_code) {\n",
       "                             nbb_cells[i].set_text(nbb_formatted_code);\n",
       "                        }\n",
       "                        break;\n",
       "                    }\n",
       "                }\n",
       "            }, 500);\n",
       "            "
      ],
      "text/plain": [
       "<IPython.core.display.Javascript object>"
      ]
     },
     "metadata": {},
     "output_type": "display_data"
    }
   ],
   "source": [
    "!pwd"
   ]
  },
  {
   "cell_type": "code",
   "execution_count": 4,
   "id": "63f3fe8d",
   "metadata": {
    "collapsed": false,
    "execution": {
     "iopub.execute_input": "2023-02-27T08:12:42.896019Z",
     "iopub.status.busy": "2023-02-27T08:12:42.895220Z",
     "iopub.status.idle": "2023-02-27T08:12:42.908339Z",
     "shell.execute_reply": "2023-02-27T08:12:42.907027Z",
     "shell.execute_reply.started": "2023-02-27T08:12:42.895960Z"
    },
    "jupyter": {
     "outputs_hidden": false
    },
    "papermill": {
     "duration": 0.013477,
     "end_time": "2022-09-30T13:26:38.584310",
     "exception": false,
     "start_time": "2022-09-30T13:26:38.570833",
     "status": "completed"
    },
    "pycharm": {
     "name": "#%%\n"
    },
    "tags": []
   },
   "outputs": [
    {
     "data": {
      "application/javascript": [
       "\n",
       "            setTimeout(function() {\n",
       "                var nbb_cell_id = 4;\n",
       "                var nbb_unformatted_code = \"wdir = \\\"/lustre1/project/stg_00090/scatac_benchmark/fixedcells_8_individual_tech_cistopic_objects\\\"\\nos.chdir(wdir)\";\n",
       "                var nbb_formatted_code = \"wdir = \\\"/lustre1/project/stg_00090/scatac_benchmark/fixedcells_8_individual_tech_cistopic_objects\\\"\\nos.chdir(wdir)\";\n",
       "                var nbb_cells = Jupyter.notebook.get_cells();\n",
       "                for (var i = 0; i < nbb_cells.length; ++i) {\n",
       "                    if (nbb_cells[i].input_prompt_number == nbb_cell_id) {\n",
       "                        if (nbb_cells[i].get_text() == nbb_unformatted_code) {\n",
       "                             nbb_cells[i].set_text(nbb_formatted_code);\n",
       "                        }\n",
       "                        break;\n",
       "                    }\n",
       "                }\n",
       "            }, 500);\n",
       "            "
      ],
      "text/plain": [
       "<IPython.core.display.Javascript object>"
      ]
     },
     "metadata": {},
     "output_type": "display_data"
    }
   ],
   "source": [
    "wdir = \"/lustre1/project/stg_00090/scatac_benchmark/fixedcells_8_individual_tech_cistopic_objects\"\n",
    "os.chdir(wdir)"
   ]
  },
  {
   "cell_type": "code",
   "execution_count": 5,
   "id": "9f5f1546",
   "metadata": {
    "execution": {
     "iopub.execute_input": "2023-02-27T08:12:42.912598Z",
     "iopub.status.busy": "2023-02-27T08:12:42.911621Z",
     "iopub.status.idle": "2023-02-27T08:12:42.924776Z",
     "shell.execute_reply": "2023-02-27T08:12:42.923620Z",
     "shell.execute_reply.started": "2023-02-27T08:12:42.912550Z"
    },
    "papermill": {
     "duration": 0.043287,
     "end_time": "2022-09-30T13:26:38.634575",
     "exception": false,
     "start_time": "2022-09-30T13:26:38.591288",
     "status": "completed"
    },
    "pycharm": {
     "name": "#%%\n"
    },
    "tags": []
   },
   "outputs": [
    {
     "data": {
      "application/javascript": [
       "\n",
       "            setTimeout(function() {\n",
       "                var nbb_cell_id = 5;\n",
       "                var nbb_unformatted_code = \"# create output directory:\\nf_final_dir = os.path.join(wdir, \\\"downstream_analysis\\\")\\nif not os.path.exists(f_final_dir):\\n    os.makedirs(f_final_dir)\";\n",
       "                var nbb_formatted_code = \"# create output directory:\\nf_final_dir = os.path.join(wdir, \\\"downstream_analysis\\\")\\nif not os.path.exists(f_final_dir):\\n    os.makedirs(f_final_dir)\";\n",
       "                var nbb_cells = Jupyter.notebook.get_cells();\n",
       "                for (var i = 0; i < nbb_cells.length; ++i) {\n",
       "                    if (nbb_cells[i].input_prompt_number == nbb_cell_id) {\n",
       "                        if (nbb_cells[i].get_text() == nbb_unformatted_code) {\n",
       "                             nbb_cells[i].set_text(nbb_formatted_code);\n",
       "                        }\n",
       "                        break;\n",
       "                    }\n",
       "                }\n",
       "            }, 500);\n",
       "            "
      ],
      "text/plain": [
       "<IPython.core.display.Javascript object>"
      ]
     },
     "metadata": {},
     "output_type": "display_data"
    }
   ],
   "source": [
    "# create output directory:\n",
    "f_final_dir = os.path.join(wdir, \"downstream_analysis\")\n",
    "if not os.path.exists(f_final_dir):\n",
    "    os.makedirs(f_final_dir)"
   ]
  },
  {
   "cell_type": "code",
   "execution_count": 6,
   "id": "0c406383",
   "metadata": {
    "execution": {
     "iopub.execute_input": "2023-02-27T08:12:42.926997Z",
     "iopub.status.busy": "2023-02-27T08:12:42.926282Z",
     "iopub.status.idle": "2023-02-27T08:12:42.935042Z",
     "shell.execute_reply": "2023-02-27T08:12:42.933885Z",
     "shell.execute_reply.started": "2023-02-27T08:12:42.926960Z"
    },
    "papermill": {
     "duration": 0.012125,
     "end_time": "2022-09-30T13:26:38.653873",
     "exception": false,
     "start_time": "2022-09-30T13:26:38.641748",
     "status": "completed"
    },
    "pycharm": {
     "name": "#%%\n"
    },
    "tags": []
   },
   "outputs": [
    {
     "data": {
      "application/javascript": [
       "\n",
       "            setTimeout(function() {\n",
       "                var nbb_cell_id = 6;\n",
       "                var nbb_unformatted_code = \"import glob\";\n",
       "                var nbb_formatted_code = \"import glob\";\n",
       "                var nbb_cells = Jupyter.notebook.get_cells();\n",
       "                for (var i = 0; i < nbb_cells.length; ++i) {\n",
       "                    if (nbb_cells[i].input_prompt_number == nbb_cell_id) {\n",
       "                        if (nbb_cells[i].get_text() == nbb_unformatted_code) {\n",
       "                             nbb_cells[i].set_text(nbb_formatted_code);\n",
       "                        }\n",
       "                        break;\n",
       "                    }\n",
       "                }\n",
       "            }, 500);\n",
       "            "
      ],
      "text/plain": [
       "<IPython.core.display.Javascript object>"
      ]
     },
     "metadata": {},
     "output_type": "display_data"
    }
   ],
   "source": [
    "import glob"
   ]
  },
  {
   "cell_type": "markdown",
   "id": "ec4a46f4",
   "metadata": {
    "papermill": {
     "duration": 0.006799,
     "end_time": "2022-09-30T13:26:38.725334",
     "exception": false,
     "start_time": "2022-09-30T13:26:38.718535",
     "status": "completed"
    },
    "pycharm": {
     "name": "#%% md\n"
    },
    "tags": []
   },
   "source": [
    "## Save/load cisTopic objects"
   ]
  },
  {
   "cell_type": "code",
   "execution_count": 18,
   "id": "a231535f",
   "metadata": {
    "execution": {
     "iopub.execute_input": "2023-02-15T14:48:17.486576Z",
     "iopub.status.busy": "2023-02-15T14:48:17.486219Z",
     "iopub.status.idle": "2023-02-15T14:48:17.501700Z",
     "shell.execute_reply": "2023-02-15T14:48:17.500608Z",
     "shell.execute_reply.started": "2023-02-15T14:48:17.486545Z"
    },
    "papermill": {
     "duration": 0.084689,
     "end_time": "2022-09-30T13:26:38.816776",
     "exception": false,
     "start_time": "2022-09-30T13:26:38.732087",
     "status": "completed"
    },
    "pycharm": {
     "name": "#%%\n"
    },
    "tags": []
   },
   "outputs": [
    {
     "data": {
      "text/plain": [
       "{'10xmultiome_celltypefair_1.FIXEDCELLS': 'cistopic_objects/10xmultiome_celltypefair_1.FIXEDCELLS__cto.scrublet0-4.fmx.singlets.model_19topics.pkl',\n",
       " '10xv11_celltypefair_1.FIXEDCELLS': 'cistopic_objects/10xv11_celltypefair_1.FIXEDCELLS__cto.scrublet0-4.fmx.singlets.model_26topics.pkl',\n",
       " '10xv1_celltypefair_1.FIXEDCELLS': 'cistopic_objects/10xv1_celltypefair_1.FIXEDCELLS__cto.scrublet0-4.fmx.singlets.model_21topics.pkl',\n",
       " '10xv2_celltypefair_1.FIXEDCELLS': 'cistopic_objects/10xv2_celltypefair_1.FIXEDCELLS__cto.scrublet0-4.fmx.singlets.model_25topics.pkl',\n",
       " 'ddseq_celltypefair_1.FIXEDCELLS': 'cistopic_objects/ddseq_celltypefair_1.FIXEDCELLS__cto.scrublet0-4.fmx.singlets.model_17topics.pkl',\n",
       " 'hydrop_celltypefair_1.FIXEDCELLS': 'cistopic_objects/hydrop_celltypefair_1.FIXEDCELLS__cto.scrublet0-4.fmx.singlets.model_22topics.pkl',\n",
       " 'mtscatac_celltypefair_1.FIXEDCELLS': 'cistopic_objects/mtscatac_celltypefair_1.FIXEDCELLS__cto.scrublet0-4.fmx.singlets.model_25topics.pkl',\n",
       " 's3atac_celltypefair_1.FIXEDCELLS': 'cistopic_objects/s3atac_celltypefair_1.FIXEDCELLS__cto.scrublet0-4.fmx.singlets.model_18topics.pkl'}"
      ]
     },
     "execution_count": 18,
     "metadata": {},
     "output_type": "execute_result"
    },
    {
     "data": {
      "application/javascript": [
       "\n",
       "            setTimeout(function() {\n",
       "                var nbb_cell_id = 18;\n",
       "                var nbb_unformatted_code = \"cto_consensus_paths = sorted(glob.glob(f\\\"cistopic_objects/*topics.pkl\\\"))\\ncistopic_obj_path_dict = {\\n    x.split(\\\"/\\\")[-1].split(f\\\"__\\\")[0]: x for x in cto_consensus_paths\\n}\\ncistopic_obj_path_dict\";\n",
       "                var nbb_formatted_code = \"cto_consensus_paths = sorted(glob.glob(f\\\"cistopic_objects/*topics.pkl\\\"))\\ncistopic_obj_path_dict = {\\n    x.split(\\\"/\\\")[-1].split(f\\\"__\\\")[0]: x for x in cto_consensus_paths\\n}\\ncistopic_obj_path_dict\";\n",
       "                var nbb_cells = Jupyter.notebook.get_cells();\n",
       "                for (var i = 0; i < nbb_cells.length; ++i) {\n",
       "                    if (nbb_cells[i].input_prompt_number == nbb_cell_id) {\n",
       "                        if (nbb_cells[i].get_text() == nbb_unformatted_code) {\n",
       "                             nbb_cells[i].set_text(nbb_formatted_code);\n",
       "                        }\n",
       "                        break;\n",
       "                    }\n",
       "                }\n",
       "            }, 500);\n",
       "            "
      ],
      "text/plain": [
       "<IPython.core.display.Javascript object>"
      ]
     },
     "metadata": {},
     "output_type": "display_data"
    }
   ],
   "source": [
    "cto_consensus_paths = sorted(glob.glob(f\"cistopic_objects/*topics.pkl\"))\n",
    "cistopic_obj_path_dict = {\n",
    "    x.split(\"/\")[-1].split(f\"__\")[0]: x for x in cto_consensus_paths\n",
    "}\n",
    "cistopic_obj_path_dict"
   ]
  },
  {
   "cell_type": "markdown",
   "id": "b7fafd45",
   "metadata": {
    "papermill": {
     "duration": 0.007729,
     "end_time": "2022-09-30T13:26:38.832586",
     "exception": false,
     "start_time": "2022-09-30T13:26:38.824857",
     "status": "completed"
    },
    "pycharm": {
     "name": "#%% md\n"
    },
    "tags": []
   },
   "source": [
    "## Topic binarization & QC"
   ]
  },
  {
   "cell_type": "code",
   "execution_count": 19,
   "id": "432ef314",
   "metadata": {
    "execution": {
     "iopub.execute_input": "2023-02-15T14:48:17.503563Z",
     "iopub.status.busy": "2023-02-15T14:48:17.503031Z",
     "iopub.status.idle": "2023-02-15T14:48:17.516508Z",
     "shell.execute_reply": "2023-02-15T14:48:17.515489Z",
     "shell.execute_reply.started": "2023-02-15T14:48:17.503530Z"
    },
    "papermill": {
     "duration": 19.457856,
     "end_time": "2022-09-30T13:26:58.297611",
     "exception": false,
     "start_time": "2022-09-30T13:26:38.839755",
     "status": "completed"
    },
    "pycharm": {
     "name": "#%%\n"
    },
    "tags": []
   },
   "outputs": [
    {
     "data": {
      "application/javascript": [
       "\n",
       "            setTimeout(function() {\n",
       "                var nbb_cell_id = 19;\n",
       "                var nbb_unformatted_code = \"from pycisTopic.topic_binarization import binarize_topics\\nfrom pycisTopic.topic_qc import compute_topic_metrics, plot_topic_qc\\nfrom pycisTopic.utils import fig2img\\nimport matplotlib.pyplot as plt\\nfrom pycisTopic.topic_qc import topic_annotation\\nfrom pycisTopic.diff_features import (\\n    impute_accessibility,\\n    normalize_scores,\\n    find_highly_variable_features,\\n    find_diff_features,\\n)\\nfrom pycisTopic.clust_vis import plot_imputed_features\\nimport numpy as np\\nimport copy\";\n",
       "                var nbb_formatted_code = \"from pycisTopic.topic_binarization import binarize_topics\\nfrom pycisTopic.topic_qc import compute_topic_metrics, plot_topic_qc\\nfrom pycisTopic.utils import fig2img\\nimport matplotlib.pyplot as plt\\nfrom pycisTopic.topic_qc import topic_annotation\\nfrom pycisTopic.diff_features import (\\n    impute_accessibility,\\n    normalize_scores,\\n    find_highly_variable_features,\\n    find_diff_features,\\n)\\nfrom pycisTopic.clust_vis import plot_imputed_features\\nimport numpy as np\\nimport copy\";\n",
       "                var nbb_cells = Jupyter.notebook.get_cells();\n",
       "                for (var i = 0; i < nbb_cells.length; ++i) {\n",
       "                    if (nbb_cells[i].input_prompt_number == nbb_cell_id) {\n",
       "                        if (nbb_cells[i].get_text() == nbb_unformatted_code) {\n",
       "                             nbb_cells[i].set_text(nbb_formatted_code);\n",
       "                        }\n",
       "                        break;\n",
       "                    }\n",
       "                }\n",
       "            }, 500);\n",
       "            "
      ],
      "text/plain": [
       "<IPython.core.display.Javascript object>"
      ]
     },
     "metadata": {},
     "output_type": "display_data"
    }
   ],
   "source": [
    "from pycisTopic.topic_binarization import binarize_topics\n",
    "from pycisTopic.topic_qc import compute_topic_metrics, plot_topic_qc\n",
    "from pycisTopic.utils import fig2img\n",
    "import matplotlib.pyplot as plt\n",
    "from pycisTopic.topic_qc import topic_annotation\n",
    "from pycisTopic.diff_features import (\n",
    "    impute_accessibility,\n",
    "    normalize_scores,\n",
    "    find_highly_variable_features,\n",
    "    find_diff_features,\n",
    ")\n",
    "from pycisTopic.clust_vis import plot_imputed_features\n",
    "import numpy as np\n",
    "import copy"
   ]
  },
  {
   "cell_type": "markdown",
   "id": "04590be6",
   "metadata": {
    "papermill": {
     "duration": 0.007856,
     "end_time": "2022-09-30T13:26:58.319080",
     "exception": false,
     "start_time": "2022-09-30T13:26:58.311224",
     "status": "completed"
    },
    "pycharm": {
     "name": "#%% md\n"
    },
    "tags": []
   },
   "source": [
    "### Binarize the topic-region distributions"
   ]
  },
  {
   "cell_type": "code",
   "execution_count": 20,
   "id": "7130af29-e8a4-4228-a28a-21856283c680",
   "metadata": {
    "execution": {
     "iopub.execute_input": "2023-02-15T14:48:17.518754Z",
     "iopub.status.busy": "2023-02-15T14:48:17.518206Z",
     "iopub.status.idle": "2023-02-15T14:48:17.592582Z",
     "shell.execute_reply": "2023-02-15T14:48:17.591616Z",
     "shell.execute_reply.started": "2023-02-15T14:48:17.518726Z"
    },
    "tags": []
   },
   "outputs": [
    {
     "name": "stdout",
     "output_type": "stream",
     "text": [
      "downstream_analysis/DARs/10xmultiome_celltypefair_1.FIXEDCELLS already exists!\n",
      "downstream_analysis/DARs/10xv11_celltypefair_1.FIXEDCELLS already exists!\n",
      "downstream_analysis/DARs/10xv1_celltypefair_1.FIXEDCELLS already exists!\n",
      "downstream_analysis/DARs/10xv2_celltypefair_1.FIXEDCELLS already exists!\n",
      "downstream_analysis/DARs/ddseq_celltypefair_1.FIXEDCELLS already exists!\n",
      "downstream_analysis/DARs/hydrop_celltypefair_1.FIXEDCELLS already exists!\n",
      "downstream_analysis/DARs/mtscatac_celltypefair_1.FIXEDCELLS already exists!\n",
      "downstream_analysis/DARs/s3atac_celltypefair_1.FIXEDCELLS already exists!\n"
     ]
    },
    {
     "data": {
      "application/javascript": [
       "\n",
       "            setTimeout(function() {\n",
       "                var nbb_cell_id = 20;\n",
       "                var nbb_unformatted_code = \"for sample in cistopic_obj_path_dict.keys():\\n    # for sample  in ['SAN_10xmultiome_1.FIXEDCELLS']:\\n    path = cistopic_obj_path_dict[sample]\\n    if not os.path.exists(f\\\"downstream_analysis/DARs/{sample}\\\"):\\n        if os.path.isfile(path):\\n            print(f\\\"Loading {path}\\\")\\n            with open(path, \\\"rb\\\") as f:\\n                cto = pickle.load(f)\\n\\n            cto.cell_names = cto.cell_data.index\\n            if [x.split(\\\"-\\\")[0] for x in cto.selected_model.cell_topic.columns] == [\\n                x.split(\\\"___\\\")[0] for x in list(cto.cell_names)\\n            ]:\\n                cto.selected_model.cell_topic.columns = list(cto.cell_names)\\n\\n            region_bin_topics = binarize_topics(\\n                cto,\\n                method=\\\"otsu\\\",\\n                ntop=3000,\\n                plot=True,\\n                num_columns=6,\\n                save=f\\\"plots_qc/{sample}__topic_region_binarized.png\\\",\\n            )\\n\\n            with open(\\n                f\\\"downstream_analysis/binarized_topics/{sample}__topic_region_binarized.pkl\\\",\\n                \\\"wb\\\",\\n            ) as f:\\n                pickle.dump(region_bin_topics, f, protocol=4)\\n\\n            binarized_cell_topics = binarize_topics(\\n                cto,\\n                target=\\\"cell\\\",\\n                method=\\\"li\\\",\\n                plot=True,\\n                num_columns=5,\\n                nbins=100,\\n                save=f\\\"plots_qc/{sample}__cells_topic_binarized.png\\\",\\n            )\\n\\n            with open(\\n                f\\\"downstream_analysis/binarized_topics/{sample}__cells_topic_binarized.pkl\\\",\\n                \\\"wb\\\",\\n            ) as f:\\n                pickle.dump(region_bin_topics, f, protocol=4)\\n\\n            topic_qc_metrics = compute_topic_metrics(cto)\\n\\n            with open(\\n                f\\\"downstream_analysis/binarized_topics/{sample}__topic_qc.pkl\\\", \\\"wb\\\"\\n            ) as f:\\n                pickle.dump(topic_qc_metrics, f, protocol=4)\\n\\n            fig_dict = {\\n                \\\"CoherenceVSAssignments\\\": plot_topic_qc(\\n                    topic_qc_metrics,\\n                    var_x=\\\"Coherence\\\",\\n                    var_y=\\\"Log10_Assignments\\\",\\n                    var_color=\\\"Gini_index\\\",\\n                    plot=False,\\n                    return_fig=True,\\n                ),\\n                \\\"AssignmentsVSCells_in_bin\\\": plot_topic_qc(\\n                    topic_qc_metrics,\\n                    var_x=\\\"Log10_Assignments\\\",\\n                    var_y=\\\"Cells_in_binarized_topic\\\",\\n                    var_color=\\\"Gini_index\\\",\\n                    plot=False,\\n                    return_fig=True,\\n                ),\\n                \\\"CoherenceVSCells_in_bin\\\": plot_topic_qc(\\n                    topic_qc_metrics,\\n                    var_x=\\\"Coherence\\\",\\n                    var_y=\\\"Cells_in_binarized_topic\\\",\\n                    var_color=\\\"Gini_index\\\",\\n                    plot=False,\\n                    return_fig=True,\\n                ),\\n                \\\"CoherenceVSRegions_in_bin\\\": plot_topic_qc(\\n                    topic_qc_metrics,\\n                    var_x=\\\"Coherence\\\",\\n                    var_y=\\\"Regions_in_binarized_topic\\\",\\n                    var_color=\\\"Gini_index\\\",\\n                    plot=False,\\n                    return_fig=True,\\n                ),\\n                \\\"CoherenceVSMarginal_dist\\\": plot_topic_qc(\\n                    topic_qc_metrics,\\n                    var_x=\\\"Coherence\\\",\\n                    var_y=\\\"Marginal_topic_dist\\\",\\n                    var_color=\\\"Gini_index\\\",\\n                    plot=False,\\n                    return_fig=True,\\n                ),\\n                \\\"CoherenceVSGini_index\\\": plot_topic_qc(\\n                    topic_qc_metrics,\\n                    var_x=\\\"Coherence\\\",\\n                    var_y=\\\"Gini_index\\\",\\n                    var_color=\\\"Gini_index\\\",\\n                    plot=False,\\n                    return_fig=True,\\n                ),\\n            }\\n\\n            fig = plt.figure(figsize=(40, 43))\\n            i = 1\\n            for fig_ in fig_dict.keys():\\n                plt.subplot(2, 3, i)\\n                img = fig2img(\\n                    fig_dict[fig_]\\n                )  # To convert figures to png to plot together, see .utils.py. This converts the figure to png.\\n                plt.imshow(img)\\n                plt.axis(\\\"off\\\")\\n                i += 1\\n            plt.subplots_adjust(wspace=0, hspace=-0.70)\\n            # plt.tight_layout()\\n            plt.show()\\n            plt.savefig(\\n                f\\\"plots_qc/{sample}__topic_qc_metrics.png\\\", facecolor=\\\"white\\\", dpi=150\\n            )\\n\\n            topic_annot = topic_annotation(\\n                cto,\\n                annot_var=\\\"harmony_consensus_cell_type__mega\\\",\\n                binarized_cell_topic=binarized_cell_topics,\\n                general_topic_thr=0.2,\\n            )\\n            topic_qc_metrics = pd.concat(\\n                [\\n                    topic_annot[\\n                        [\\n                            \\\"harmony_consensus_cell_type__mega\\\",\\n                            \\\"Ratio_cells_in_topic\\\",\\n                            \\\"Ratio_group_in_population\\\",\\n                        ]\\n                    ],\\n                    topic_qc_metrics,\\n                ],\\n                axis=1,\\n            )\\n\\n            imputed_acc_obj = impute_accessibility(\\n                cto, selected_cells=None, selected_regions=None, scale_factor=10**6\\n            )\\n\\n            normalized_imputed_acc_obj = normalize_scores(\\n                imputed_acc_obj, scale_factor=10**4\\n            )\\n\\n            with open(\\n                f\\\"downstream_analysis/imputed_acc_objs/{sample}__imputed_acc_obs.pkl\\\",\\n                \\\"wb\\\",\\n            ) as f:\\n                pickle.dump(normalized_imputed_acc_obj, f, protocol=4)\\n\\n            variable_regions = find_highly_variable_features(\\n                normalized_imputed_acc_obj,\\n                min_disp=0.05,\\n                min_mean=0.0125,\\n                max_mean=3,\\n                max_disp=np.inf,\\n                n_bins=20,\\n                n_top_features=None,\\n                plot=True,\\n                save=f\\\"plots_qc/{sample}__HVR.png\\\",\\n            )\\n\\n            print(f\\\"Found {len(variable_regions)} variable regions\\\")\\n            with open(f\\\"downstream_analysis/HVRs/{sample}__HVRs.bed\\\", \\\"w\\\") as f:\\n                for line in [\\n                    x.replace(\\\":\\\", \\\"\\\\t\\\").replace(\\\"-\\\", \\\"\\\\t\\\") for x in variable_regions\\n                ]:\\n                    f.write(f\\\"{line}\\\\n\\\")\\n\\n            with open(f\\\"downstream_analysis/HVRs/{sample}__HVRs.pkl\\\", \\\"wb\\\") as f:\\n                pickle.dump(variable_regions, f, protocol=4)\\n\\n            if not os.path.exists(f\\\"downstream_analysis/DARs/{sample}\\\"):\\n                os.mkdir(f\\\"downstream_analysis/DARs/{sample}\\\")\\n\\n            markers_dict = find_diff_features(\\n                cto,\\n                normalized_imputed_acc_obj,\\n                variable=\\\"harmony_consensus_cell_type__mega\\\",\\n                var_features=variable_regions,\\n                contrasts=None,\\n                adjpval_thr=0.05,\\n                log2fc_thr=np.log2(1.5),\\n                n_cpu=16,\\n            )\\n            with open(\\n                f\\\"downstream_analysis/DARs/{sample}/{sample}__DARs_dict.pkl\\\", \\\"wb\\\"\\n            ) as f:\\n                pickle.dump(markers_dict, f, protocol=4)\\n\\n            for cell_type in markers_dict.keys():\\n                markers = markers_dict[cell_type].index.tolist()\\n                df = pd.DataFrame(markers)\\n                if len(df) == 0:\\n                    print(f\\\"no DARs found for {cell_type} in {sample}\\\")\\n                else:\\n                    df[[0, 1]] = df[0].str.split(\\\":\\\", expand=True)\\n                    df[[1, 2]] = df[1].str.split(\\\"-\\\", expand=True)\\n                    df[3] = markers_dict[cell_type].index.tolist()\\n                    df[3] = cell_type.replace(\\\" \\\", \\\"_\\\")  # + '_' + df[3].astype(str)\\n                    score = markers_dict[cell_type][\\\"Log2FC\\\"]\\n                    score = score.reset_index(drop=True)\\n                    df[4] = score\\n                    df[5] = \\\".\\\"\\n                    pval = markers_dict[cell_type][\\\"Adjusted_pval\\\"]\\n                    pval = pval.reset_index(drop=True)\\n                    df[6] = pval\\n                    name = cell_type.replace(\\\" \\\", \\\"_\\\")\\n                    # name = name.replace('/', '-')\\n                    if not os.path.exists(f\\\"downstream_analysis/DARs/{sample}\\\"):\\n                        os.mkdir(f\\\"downstream_analysis/DARs/{sample}\\\")\\n\\n                    df.to_csv(\\n                        f'downstream_analysis/DARs/{sample}/{sample}__{cell_type.replace(\\\" \\\", \\\"_\\\")}__DARs.bed',\\n                        sep=\\\"\\\\t\\\",\\n                        header=False,\\n                        index=False,\\n                    )\\n                    df[0:2000].to_csv(\\n                        f'downstream_analysis/DARs/{sample}/{sample}__{cell_type.replace(\\\" \\\", \\\"_\\\")}__DARs.TOP2k.bed',\\n                        sep=\\\"\\\\t\\\",\\n                        header=False,\\n                        index=False,\\n                    )\\n\\n        else:\\n            print(f\\\"{path} does not exist!\\\")\\n    else:\\n        print(f\\\"downstream_analysis/DARs/{sample} already exists!\\\")\";\n",
       "                var nbb_formatted_code = \"for sample in cistopic_obj_path_dict.keys():\\n    # for sample  in ['SAN_10xmultiome_1.FIXEDCELLS']:\\n    path = cistopic_obj_path_dict[sample]\\n    if not os.path.exists(f\\\"downstream_analysis/DARs/{sample}\\\"):\\n        if os.path.isfile(path):\\n            print(f\\\"Loading {path}\\\")\\n            with open(path, \\\"rb\\\") as f:\\n                cto = pickle.load(f)\\n\\n            cto.cell_names = cto.cell_data.index\\n            if [x.split(\\\"-\\\")[0] for x in cto.selected_model.cell_topic.columns] == [\\n                x.split(\\\"___\\\")[0] for x in list(cto.cell_names)\\n            ]:\\n                cto.selected_model.cell_topic.columns = list(cto.cell_names)\\n\\n            region_bin_topics = binarize_topics(\\n                cto,\\n                method=\\\"otsu\\\",\\n                ntop=3000,\\n                plot=True,\\n                num_columns=6,\\n                save=f\\\"plots_qc/{sample}__topic_region_binarized.png\\\",\\n            )\\n\\n            with open(\\n                f\\\"downstream_analysis/binarized_topics/{sample}__topic_region_binarized.pkl\\\",\\n                \\\"wb\\\",\\n            ) as f:\\n                pickle.dump(region_bin_topics, f, protocol=4)\\n\\n            binarized_cell_topics = binarize_topics(\\n                cto,\\n                target=\\\"cell\\\",\\n                method=\\\"li\\\",\\n                plot=True,\\n                num_columns=5,\\n                nbins=100,\\n                save=f\\\"plots_qc/{sample}__cells_topic_binarized.png\\\",\\n            )\\n\\n            with open(\\n                f\\\"downstream_analysis/binarized_topics/{sample}__cells_topic_binarized.pkl\\\",\\n                \\\"wb\\\",\\n            ) as f:\\n                pickle.dump(region_bin_topics, f, protocol=4)\\n\\n            topic_qc_metrics = compute_topic_metrics(cto)\\n\\n            with open(\\n                f\\\"downstream_analysis/binarized_topics/{sample}__topic_qc.pkl\\\", \\\"wb\\\"\\n            ) as f:\\n                pickle.dump(topic_qc_metrics, f, protocol=4)\\n\\n            fig_dict = {\\n                \\\"CoherenceVSAssignments\\\": plot_topic_qc(\\n                    topic_qc_metrics,\\n                    var_x=\\\"Coherence\\\",\\n                    var_y=\\\"Log10_Assignments\\\",\\n                    var_color=\\\"Gini_index\\\",\\n                    plot=False,\\n                    return_fig=True,\\n                ),\\n                \\\"AssignmentsVSCells_in_bin\\\": plot_topic_qc(\\n                    topic_qc_metrics,\\n                    var_x=\\\"Log10_Assignments\\\",\\n                    var_y=\\\"Cells_in_binarized_topic\\\",\\n                    var_color=\\\"Gini_index\\\",\\n                    plot=False,\\n                    return_fig=True,\\n                ),\\n                \\\"CoherenceVSCells_in_bin\\\": plot_topic_qc(\\n                    topic_qc_metrics,\\n                    var_x=\\\"Coherence\\\",\\n                    var_y=\\\"Cells_in_binarized_topic\\\",\\n                    var_color=\\\"Gini_index\\\",\\n                    plot=False,\\n                    return_fig=True,\\n                ),\\n                \\\"CoherenceVSRegions_in_bin\\\": plot_topic_qc(\\n                    topic_qc_metrics,\\n                    var_x=\\\"Coherence\\\",\\n                    var_y=\\\"Regions_in_binarized_topic\\\",\\n                    var_color=\\\"Gini_index\\\",\\n                    plot=False,\\n                    return_fig=True,\\n                ),\\n                \\\"CoherenceVSMarginal_dist\\\": plot_topic_qc(\\n                    topic_qc_metrics,\\n                    var_x=\\\"Coherence\\\",\\n                    var_y=\\\"Marginal_topic_dist\\\",\\n                    var_color=\\\"Gini_index\\\",\\n                    plot=False,\\n                    return_fig=True,\\n                ),\\n                \\\"CoherenceVSGini_index\\\": plot_topic_qc(\\n                    topic_qc_metrics,\\n                    var_x=\\\"Coherence\\\",\\n                    var_y=\\\"Gini_index\\\",\\n                    var_color=\\\"Gini_index\\\",\\n                    plot=False,\\n                    return_fig=True,\\n                ),\\n            }\\n\\n            fig = plt.figure(figsize=(40, 43))\\n            i = 1\\n            for fig_ in fig_dict.keys():\\n                plt.subplot(2, 3, i)\\n                img = fig2img(\\n                    fig_dict[fig_]\\n                )  # To convert figures to png to plot together, see .utils.py. This converts the figure to png.\\n                plt.imshow(img)\\n                plt.axis(\\\"off\\\")\\n                i += 1\\n            plt.subplots_adjust(wspace=0, hspace=-0.70)\\n            # plt.tight_layout()\\n            plt.show()\\n            plt.savefig(\\n                f\\\"plots_qc/{sample}__topic_qc_metrics.png\\\", facecolor=\\\"white\\\", dpi=150\\n            )\\n\\n            topic_annot = topic_annotation(\\n                cto,\\n                annot_var=\\\"harmony_consensus_cell_type__mega\\\",\\n                binarized_cell_topic=binarized_cell_topics,\\n                general_topic_thr=0.2,\\n            )\\n            topic_qc_metrics = pd.concat(\\n                [\\n                    topic_annot[\\n                        [\\n                            \\\"harmony_consensus_cell_type__mega\\\",\\n                            \\\"Ratio_cells_in_topic\\\",\\n                            \\\"Ratio_group_in_population\\\",\\n                        ]\\n                    ],\\n                    topic_qc_metrics,\\n                ],\\n                axis=1,\\n            )\\n\\n            imputed_acc_obj = impute_accessibility(\\n                cto, selected_cells=None, selected_regions=None, scale_factor=10**6\\n            )\\n\\n            normalized_imputed_acc_obj = normalize_scores(\\n                imputed_acc_obj, scale_factor=10**4\\n            )\\n\\n            with open(\\n                f\\\"downstream_analysis/imputed_acc_objs/{sample}__imputed_acc_obs.pkl\\\",\\n                \\\"wb\\\",\\n            ) as f:\\n                pickle.dump(normalized_imputed_acc_obj, f, protocol=4)\\n\\n            variable_regions = find_highly_variable_features(\\n                normalized_imputed_acc_obj,\\n                min_disp=0.05,\\n                min_mean=0.0125,\\n                max_mean=3,\\n                max_disp=np.inf,\\n                n_bins=20,\\n                n_top_features=None,\\n                plot=True,\\n                save=f\\\"plots_qc/{sample}__HVR.png\\\",\\n            )\\n\\n            print(f\\\"Found {len(variable_regions)} variable regions\\\")\\n            with open(f\\\"downstream_analysis/HVRs/{sample}__HVRs.bed\\\", \\\"w\\\") as f:\\n                for line in [\\n                    x.replace(\\\":\\\", \\\"\\\\t\\\").replace(\\\"-\\\", \\\"\\\\t\\\") for x in variable_regions\\n                ]:\\n                    f.write(f\\\"{line}\\\\n\\\")\\n\\n            with open(f\\\"downstream_analysis/HVRs/{sample}__HVRs.pkl\\\", \\\"wb\\\") as f:\\n                pickle.dump(variable_regions, f, protocol=4)\\n\\n            if not os.path.exists(f\\\"downstream_analysis/DARs/{sample}\\\"):\\n                os.mkdir(f\\\"downstream_analysis/DARs/{sample}\\\")\\n\\n            markers_dict = find_diff_features(\\n                cto,\\n                normalized_imputed_acc_obj,\\n                variable=\\\"harmony_consensus_cell_type__mega\\\",\\n                var_features=variable_regions,\\n                contrasts=None,\\n                adjpval_thr=0.05,\\n                log2fc_thr=np.log2(1.5),\\n                n_cpu=16,\\n            )\\n            with open(\\n                f\\\"downstream_analysis/DARs/{sample}/{sample}__DARs_dict.pkl\\\", \\\"wb\\\"\\n            ) as f:\\n                pickle.dump(markers_dict, f, protocol=4)\\n\\n            for cell_type in markers_dict.keys():\\n                markers = markers_dict[cell_type].index.tolist()\\n                df = pd.DataFrame(markers)\\n                if len(df) == 0:\\n                    print(f\\\"no DARs found for {cell_type} in {sample}\\\")\\n                else:\\n                    df[[0, 1]] = df[0].str.split(\\\":\\\", expand=True)\\n                    df[[1, 2]] = df[1].str.split(\\\"-\\\", expand=True)\\n                    df[3] = markers_dict[cell_type].index.tolist()\\n                    df[3] = cell_type.replace(\\\" \\\", \\\"_\\\")  # + '_' + df[3].astype(str)\\n                    score = markers_dict[cell_type][\\\"Log2FC\\\"]\\n                    score = score.reset_index(drop=True)\\n                    df[4] = score\\n                    df[5] = \\\".\\\"\\n                    pval = markers_dict[cell_type][\\\"Adjusted_pval\\\"]\\n                    pval = pval.reset_index(drop=True)\\n                    df[6] = pval\\n                    name = cell_type.replace(\\\" \\\", \\\"_\\\")\\n                    # name = name.replace('/', '-')\\n                    if not os.path.exists(f\\\"downstream_analysis/DARs/{sample}\\\"):\\n                        os.mkdir(f\\\"downstream_analysis/DARs/{sample}\\\")\\n\\n                    df.to_csv(\\n                        f'downstream_analysis/DARs/{sample}/{sample}__{cell_type.replace(\\\" \\\", \\\"_\\\")}__DARs.bed',\\n                        sep=\\\"\\\\t\\\",\\n                        header=False,\\n                        index=False,\\n                    )\\n                    df[0:2000].to_csv(\\n                        f'downstream_analysis/DARs/{sample}/{sample}__{cell_type.replace(\\\" \\\", \\\"_\\\")}__DARs.TOP2k.bed',\\n                        sep=\\\"\\\\t\\\",\\n                        header=False,\\n                        index=False,\\n                    )\\n\\n        else:\\n            print(f\\\"{path} does not exist!\\\")\\n    else:\\n        print(f\\\"downstream_analysis/DARs/{sample} already exists!\\\")\";\n",
       "                var nbb_cells = Jupyter.notebook.get_cells();\n",
       "                for (var i = 0; i < nbb_cells.length; ++i) {\n",
       "                    if (nbb_cells[i].input_prompt_number == nbb_cell_id) {\n",
       "                        if (nbb_cells[i].get_text() == nbb_unformatted_code) {\n",
       "                             nbb_cells[i].set_text(nbb_formatted_code);\n",
       "                        }\n",
       "                        break;\n",
       "                    }\n",
       "                }\n",
       "            }, 500);\n",
       "            "
      ],
      "text/plain": [
       "<IPython.core.display.Javascript object>"
      ]
     },
     "metadata": {},
     "output_type": "display_data"
    }
   ],
   "source": [
    "for sample in cistopic_obj_path_dict.keys():\n",
    "    # for sample  in ['SAN_10xmultiome_1.FIXEDCELLS']:\n",
    "    path = cistopic_obj_path_dict[sample]\n",
    "    if not os.path.exists(f\"downstream_analysis/DARs/{sample}\"):\n",
    "        if os.path.isfile(path):\n",
    "            print(f\"Loading {path}\")\n",
    "            with open(path, \"rb\") as f:\n",
    "                cto = pickle.load(f)\n",
    "\n",
    "            cto.cell_names = cto.cell_data.index\n",
    "            if [x.split(\"-\")[0] for x in cto.selected_model.cell_topic.columns] == [\n",
    "                x.split(\"___\")[0] for x in list(cto.cell_names)\n",
    "            ]:\n",
    "                cto.selected_model.cell_topic.columns = list(cto.cell_names)\n",
    "\n",
    "            region_bin_topics = binarize_topics(\n",
    "                cto,\n",
    "                method=\"otsu\",\n",
    "                ntop=3000,\n",
    "                plot=True,\n",
    "                num_columns=6,\n",
    "                save=f\"plots_qc/{sample}__topic_region_binarized.png\",\n",
    "            )\n",
    "\n",
    "            with open(\n",
    "                f\"downstream_analysis/binarized_topics/{sample}__topic_region_binarized.pkl\",\n",
    "                \"wb\",\n",
    "            ) as f:\n",
    "                pickle.dump(region_bin_topics, f, protocol=4)\n",
    "\n",
    "            binarized_cell_topics = binarize_topics(\n",
    "                cto,\n",
    "                target=\"cell\",\n",
    "                method=\"li\",\n",
    "                plot=True,\n",
    "                num_columns=5,\n",
    "                nbins=100,\n",
    "                save=f\"plots_qc/{sample}__cells_topic_binarized.png\",\n",
    "            )\n",
    "\n",
    "            with open(\n",
    "                f\"downstream_analysis/binarized_topics/{sample}__cells_topic_binarized.pkl\",\n",
    "                \"wb\",\n",
    "            ) as f:\n",
    "                pickle.dump(region_bin_topics, f, protocol=4)\n",
    "\n",
    "            topic_qc_metrics = compute_topic_metrics(cto)\n",
    "\n",
    "            with open(\n",
    "                f\"downstream_analysis/binarized_topics/{sample}__topic_qc.pkl\", \"wb\"\n",
    "            ) as f:\n",
    "                pickle.dump(topic_qc_metrics, f, protocol=4)\n",
    "\n",
    "            fig_dict = {\n",
    "                \"CoherenceVSAssignments\": plot_topic_qc(\n",
    "                    topic_qc_metrics,\n",
    "                    var_x=\"Coherence\",\n",
    "                    var_y=\"Log10_Assignments\",\n",
    "                    var_color=\"Gini_index\",\n",
    "                    plot=False,\n",
    "                    return_fig=True,\n",
    "                ),\n",
    "                \"AssignmentsVSCells_in_bin\": plot_topic_qc(\n",
    "                    topic_qc_metrics,\n",
    "                    var_x=\"Log10_Assignments\",\n",
    "                    var_y=\"Cells_in_binarized_topic\",\n",
    "                    var_color=\"Gini_index\",\n",
    "                    plot=False,\n",
    "                    return_fig=True,\n",
    "                ),\n",
    "                \"CoherenceVSCells_in_bin\": plot_topic_qc(\n",
    "                    topic_qc_metrics,\n",
    "                    var_x=\"Coherence\",\n",
    "                    var_y=\"Cells_in_binarized_topic\",\n",
    "                    var_color=\"Gini_index\",\n",
    "                    plot=False,\n",
    "                    return_fig=True,\n",
    "                ),\n",
    "                \"CoherenceVSRegions_in_bin\": plot_topic_qc(\n",
    "                    topic_qc_metrics,\n",
    "                    var_x=\"Coherence\",\n",
    "                    var_y=\"Regions_in_binarized_topic\",\n",
    "                    var_color=\"Gini_index\",\n",
    "                    plot=False,\n",
    "                    return_fig=True,\n",
    "                ),\n",
    "                \"CoherenceVSMarginal_dist\": plot_topic_qc(\n",
    "                    topic_qc_metrics,\n",
    "                    var_x=\"Coherence\",\n",
    "                    var_y=\"Marginal_topic_dist\",\n",
    "                    var_color=\"Gini_index\",\n",
    "                    plot=False,\n",
    "                    return_fig=True,\n",
    "                ),\n",
    "                \"CoherenceVSGini_index\": plot_topic_qc(\n",
    "                    topic_qc_metrics,\n",
    "                    var_x=\"Coherence\",\n",
    "                    var_y=\"Gini_index\",\n",
    "                    var_color=\"Gini_index\",\n",
    "                    plot=False,\n",
    "                    return_fig=True,\n",
    "                ),\n",
    "            }\n",
    "\n",
    "            fig = plt.figure(figsize=(40, 43))\n",
    "            i = 1\n",
    "            for fig_ in fig_dict.keys():\n",
    "                plt.subplot(2, 3, i)\n",
    "                img = fig2img(\n",
    "                    fig_dict[fig_]\n",
    "                )  # To convert figures to png to plot together, see .utils.py. This converts the figure to png.\n",
    "                plt.imshow(img)\n",
    "                plt.axis(\"off\")\n",
    "                i += 1\n",
    "            plt.subplots_adjust(wspace=0, hspace=-0.70)\n",
    "            # plt.tight_layout()\n",
    "            plt.show()\n",
    "            plt.savefig(\n",
    "                f\"plots_qc/{sample}__topic_qc_metrics.png\", facecolor=\"white\", dpi=150\n",
    "            )\n",
    "\n",
    "            topic_annot = topic_annotation(\n",
    "                cto,\n",
    "                annot_var=\"harmony_consensus_cell_type__mega\",\n",
    "                binarized_cell_topic=binarized_cell_topics,\n",
    "                general_topic_thr=0.2,\n",
    "            )\n",
    "            topic_qc_metrics = pd.concat(\n",
    "                [\n",
    "                    topic_annot[\n",
    "                        [\n",
    "                            \"harmony_consensus_cell_type__mega\",\n",
    "                            \"Ratio_cells_in_topic\",\n",
    "                            \"Ratio_group_in_population\",\n",
    "                        ]\n",
    "                    ],\n",
    "                    topic_qc_metrics,\n",
    "                ],\n",
    "                axis=1,\n",
    "            )\n",
    "\n",
    "            imputed_acc_obj = impute_accessibility(\n",
    "                cto, selected_cells=None, selected_regions=None, scale_factor=10**6\n",
    "            )\n",
    "\n",
    "            normalized_imputed_acc_obj = normalize_scores(\n",
    "                imputed_acc_obj, scale_factor=10**4\n",
    "            )\n",
    "\n",
    "            with open(\n",
    "                f\"downstream_analysis/imputed_acc_objs/{sample}__imputed_acc_obs.pkl\",\n",
    "                \"wb\",\n",
    "            ) as f:\n",
    "                pickle.dump(normalized_imputed_acc_obj, f, protocol=4)\n",
    "\n",
    "            variable_regions = find_highly_variable_features(\n",
    "                normalized_imputed_acc_obj,\n",
    "                min_disp=0.05,\n",
    "                min_mean=0.0125,\n",
    "                max_mean=3,\n",
    "                max_disp=np.inf,\n",
    "                n_bins=20,\n",
    "                n_top_features=None,\n",
    "                plot=True,\n",
    "                save=f\"plots_qc/{sample}__HVR.png\",\n",
    "            )\n",
    "\n",
    "            print(f\"Found {len(variable_regions)} variable regions\")\n",
    "            with open(f\"downstream_analysis/HVRs/{sample}__HVRs.bed\", \"w\") as f:\n",
    "                for line in [\n",
    "                    x.replace(\":\", \"\\t\").replace(\"-\", \"\\t\") for x in variable_regions\n",
    "                ]:\n",
    "                    f.write(f\"{line}\\n\")\n",
    "\n",
    "            with open(f\"downstream_analysis/HVRs/{sample}__HVRs.pkl\", \"wb\") as f:\n",
    "                pickle.dump(variable_regions, f, protocol=4)\n",
    "\n",
    "            if not os.path.exists(f\"downstream_analysis/DARs/{sample}\"):\n",
    "                os.mkdir(f\"downstream_analysis/DARs/{sample}\")\n",
    "\n",
    "            markers_dict = find_diff_features(\n",
    "                cto,\n",
    "                normalized_imputed_acc_obj,\n",
    "                variable=\"harmony_consensus_cell_type__mega\",\n",
    "                var_features=variable_regions,\n",
    "                contrasts=None,\n",
    "                adjpval_thr=0.05,\n",
    "                log2fc_thr=np.log2(1.5),\n",
    "                n_cpu=16,\n",
    "            )\n",
    "            with open(\n",
    "                f\"downstream_analysis/DARs/{sample}/{sample}__DARs_dict.pkl\", \"wb\"\n",
    "            ) as f:\n",
    "                pickle.dump(markers_dict, f, protocol=4)\n",
    "\n",
    "            for cell_type in markers_dict.keys():\n",
    "                markers = markers_dict[cell_type].index.tolist()\n",
    "                df = pd.DataFrame(markers)\n",
    "                if len(df) == 0:\n",
    "                    print(f\"no DARs found for {cell_type} in {sample}\")\n",
    "                else:\n",
    "                    df[[0, 1]] = df[0].str.split(\":\", expand=True)\n",
    "                    df[[1, 2]] = df[1].str.split(\"-\", expand=True)\n",
    "                    df[3] = markers_dict[cell_type].index.tolist()\n",
    "                    df[3] = cell_type.replace(\" \", \"_\")  # + '_' + df[3].astype(str)\n",
    "                    score = markers_dict[cell_type][\"Log2FC\"]\n",
    "                    score = score.reset_index(drop=True)\n",
    "                    df[4] = score\n",
    "                    df[5] = \".\"\n",
    "                    pval = markers_dict[cell_type][\"Adjusted_pval\"]\n",
    "                    pval = pval.reset_index(drop=True)\n",
    "                    df[6] = pval\n",
    "                    name = cell_type.replace(\" \", \"_\")\n",
    "                    # name = name.replace('/', '-')\n",
    "                    if not os.path.exists(f\"downstream_analysis/DARs/{sample}\"):\n",
    "                        os.mkdir(f\"downstream_analysis/DARs/{sample}\")\n",
    "\n",
    "                    df.to_csv(\n",
    "                        f'downstream_analysis/DARs/{sample}/{sample}__{cell_type.replace(\" \", \"_\")}__DARs.bed',\n",
    "                        sep=\"\\t\",\n",
    "                        header=False,\n",
    "                        index=False,\n",
    "                    )\n",
    "                    df[0:2000].to_csv(\n",
    "                        f'downstream_analysis/DARs/{sample}/{sample}__{cell_type.replace(\" \", \"_\")}__DARs.TOP2k.bed',\n",
    "                        sep=\"\\t\",\n",
    "                        header=False,\n",
    "                        index=False,\n",
    "                    )\n",
    "\n",
    "        else:\n",
    "            print(f\"{path} does not exist!\")\n",
    "    else:\n",
    "        print(f\"downstream_analysis/DARs/{sample} already exists!\")"
   ]
  },
  {
   "cell_type": "markdown",
   "id": "dc27d698-99bf-4866-9105-d44b26ec2ba9",
   "metadata": {
    "papermill": {
     "duration": 0.008446,
     "end_time": "2022-09-30T13:26:58.539037",
     "exception": false,
     "start_time": "2022-09-30T13:26:58.530591",
     "status": "completed"
    },
    "tags": []
   },
   "source": [
    "# Calculate DARs between male and female"
   ]
  },
  {
   "cell_type": "code",
   "execution_count": 1,
   "id": "c65eef43-0bed-43fe-ba26-9ec634a2331e",
   "metadata": {
    "execution": {
     "iopub.execute_input": "2023-02-27T08:12:34.201409Z",
     "iopub.status.busy": "2023-02-27T08:12:34.200537Z",
     "iopub.status.idle": "2023-02-27T08:12:34.738503Z",
     "shell.execute_reply": "2023-02-27T08:12:34.737213Z",
     "shell.execute_reply.started": "2023-02-27T08:12:34.201260Z"
    },
    "papermill": {
     "duration": 0.098407,
     "end_time": "2022-09-30T13:26:58.646062",
     "exception": false,
     "start_time": "2022-09-30T13:26:58.547655",
     "status": "completed"
    },
    "tags": []
   },
   "outputs": [
    {
     "ename": "NameError",
     "evalue": "name 'glob' is not defined",
     "output_type": "error",
     "traceback": [
      "\u001b[0;31m---------------------------------------------------------------------------\u001b[0m",
      "\u001b[0;31mNameError\u001b[0m                                 Traceback (most recent call last)",
      "Input \u001b[0;32mIn [1]\u001b[0m, in \u001b[0;36m<cell line: 1>\u001b[0;34m()\u001b[0m\n\u001b[1;32m      1\u001b[0m normalized_imputed_acc_obj_path_dict \u001b[38;5;241m=\u001b[39m {\n\u001b[1;32m      2\u001b[0m     x\u001b[38;5;241m.\u001b[39msplit(\u001b[38;5;124m\"\u001b[39m\u001b[38;5;124m/\u001b[39m\u001b[38;5;124m\"\u001b[39m)[\u001b[38;5;241m-\u001b[39m\u001b[38;5;241m1\u001b[39m]\u001b[38;5;241m.\u001b[39msplit(\u001b[38;5;124mf\u001b[39m\u001b[38;5;124m\"\u001b[39m\u001b[38;5;124m__\u001b[39m\u001b[38;5;124m\"\u001b[39m)[\u001b[38;5;241m0\u001b[39m]: x\n\u001b[1;32m      3\u001b[0m     \u001b[38;5;28;01mfor\u001b[39;00m x \u001b[38;5;129;01min\u001b[39;00m \u001b[38;5;28msorted\u001b[39m(\n\u001b[0;32m----> 4\u001b[0m         \u001b[43mglob\u001b[49m\u001b[38;5;241m.\u001b[39mglob(\u001b[38;5;124mf\u001b[39m\u001b[38;5;124m\"\u001b[39m\u001b[38;5;124mdownstream_analysis/imputed_acc_objs/*imputed_acc_obs.pkl\u001b[39m\u001b[38;5;124m\"\u001b[39m)\n\u001b[1;32m      5\u001b[0m     )\n\u001b[1;32m      6\u001b[0m }\n\u001b[1;32m      7\u001b[0m normalized_imputed_acc_obj_path_dict\n",
      "\u001b[0;31mNameError\u001b[0m: name 'glob' is not defined"
     ]
    }
   ],
   "source": [
    "normalized_imputed_acc_obj_path_dict = {\n",
    "    x.split(\"/\")[-1].split(f\"__\")[0]: x\n",
    "    for x in sorted(\n",
    "        glob.glob(f\"downstream_analysis/imputed_acc_objs/*imputed_acc_obs.pkl\")\n",
    "    )\n",
    "}\n",
    "normalized_imputed_acc_obj_path_dict"
   ]
  },
  {
   "cell_type": "code",
   "execution_count": 22,
   "id": "6500171b-229c-4784-b55f-65296e7a108a",
   "metadata": {
    "execution": {
     "iopub.execute_input": "2023-02-15T14:48:17.603089Z",
     "iopub.status.busy": "2023-02-15T14:48:17.602878Z",
     "iopub.status.idle": "2023-02-15T14:48:17.611604Z",
     "shell.execute_reply": "2023-02-15T14:48:17.611028Z",
     "shell.execute_reply.started": "2023-02-15T14:48:17.603071Z"
    },
    "papermill": {
     "duration": 0.019586,
     "end_time": "2022-09-30T13:26:58.673912",
     "exception": false,
     "start_time": "2022-09-30T13:26:58.654326",
     "status": "completed"
    },
    "tags": []
   },
   "outputs": [
    {
     "data": {
      "text/plain": [
       "{'10xmultiome_celltypefair_1.FIXEDCELLS': 'downstream_analysis/HVRs/10xmultiome_celltypefair_1.FIXEDCELLS__HVRs.bed',\n",
       " '10xv11_celltypefair_1.FIXEDCELLS': 'downstream_analysis/HVRs/10xv11_celltypefair_1.FIXEDCELLS__HVRs.bed',\n",
       " '10xv1_celltypefair_1.FIXEDCELLS': 'downstream_analysis/HVRs/10xv1_celltypefair_1.FIXEDCELLS__HVRs.bed',\n",
       " '10xv2_celltypefair_1.FIXEDCELLS': 'downstream_analysis/HVRs/10xv2_celltypefair_1.FIXEDCELLS__HVRs.bed',\n",
       " 'ddseq_celltypefair_1.FIXEDCELLS': 'downstream_analysis/HVRs/ddseq_celltypefair_1.FIXEDCELLS__HVRs.bed',\n",
       " 'hydrop_celltypefair_1.FIXEDCELLS': 'downstream_analysis/HVRs/hydrop_celltypefair_1.FIXEDCELLS__HVRs.bed',\n",
       " 'mtscatac_celltypefair_1.FIXEDCELLS': 'downstream_analysis/HVRs/mtscatac_celltypefair_1.FIXEDCELLS__HVRs.bed',\n",
       " 's3atac_celltypefair_1.FIXEDCELLS': 'downstream_analysis/HVRs/s3atac_celltypefair_1.FIXEDCELLS__HVRs.bed'}"
      ]
     },
     "execution_count": 22,
     "metadata": {},
     "output_type": "execute_result"
    },
    {
     "data": {
      "application/javascript": [
       "\n",
       "            setTimeout(function() {\n",
       "                var nbb_cell_id = 22;\n",
       "                var nbb_unformatted_code = \"hvr_path_dict = {\\n    x.split(\\\"/\\\")[-1].split(f\\\"__\\\")[0]: x\\n    for x in sorted(glob.glob(f\\\"downstream_analysis/HVRs/*bed\\\"))\\n}\\nhvr_path_dict\";\n",
       "                var nbb_formatted_code = \"hvr_path_dict = {\\n    x.split(\\\"/\\\")[-1].split(f\\\"__\\\")[0]: x\\n    for x in sorted(glob.glob(f\\\"downstream_analysis/HVRs/*bed\\\"))\\n}\\nhvr_path_dict\";\n",
       "                var nbb_cells = Jupyter.notebook.get_cells();\n",
       "                for (var i = 0; i < nbb_cells.length; ++i) {\n",
       "                    if (nbb_cells[i].input_prompt_number == nbb_cell_id) {\n",
       "                        if (nbb_cells[i].get_text() == nbb_unformatted_code) {\n",
       "                             nbb_cells[i].set_text(nbb_formatted_code);\n",
       "                        }\n",
       "                        break;\n",
       "                    }\n",
       "                }\n",
       "            }, 500);\n",
       "            "
      ],
      "text/plain": [
       "<IPython.core.display.Javascript object>"
      ]
     },
     "metadata": {},
     "output_type": "display_data"
    }
   ],
   "source": [
    "hvr_path_dict = {\n",
    "    x.split(\"/\")[-1].split(f\"__\")[0]: x\n",
    "    for x in sorted(glob.glob(f\"downstream_analysis/HVRs/*bed\"))\n",
    "}\n",
    "hvr_path_dict"
   ]
  },
  {
   "cell_type": "code",
   "execution_count": 23,
   "id": "d6fe98f9-38e4-4adc-945e-4754c8bb7f89",
   "metadata": {
    "execution": {
     "iopub.execute_input": "2023-02-15T14:48:17.612544Z",
     "iopub.status.busy": "2023-02-15T14:48:17.612345Z",
     "iopub.status.idle": "2023-02-15T14:48:17.621251Z",
     "shell.execute_reply": "2023-02-15T14:48:17.620570Z",
     "shell.execute_reply.started": "2023-02-15T14:48:17.612526Z"
    },
    "tags": []
   },
   "outputs": [
    {
     "data": {
      "text/plain": [
       "{'10xmultiome_celltypefair_1.FIXEDCELLS': 'cistopic_objects/10xmultiome_celltypefair_1.FIXEDCELLS__cto.scrublet0-4.fmx.singlets.model_19topics.pkl',\n",
       " '10xv11_celltypefair_1.FIXEDCELLS': 'cistopic_objects/10xv11_celltypefair_1.FIXEDCELLS__cto.scrublet0-4.fmx.singlets.model_26topics.pkl',\n",
       " '10xv1_celltypefair_1.FIXEDCELLS': 'cistopic_objects/10xv1_celltypefair_1.FIXEDCELLS__cto.scrublet0-4.fmx.singlets.model_21topics.pkl',\n",
       " '10xv2_celltypefair_1.FIXEDCELLS': 'cistopic_objects/10xv2_celltypefair_1.FIXEDCELLS__cto.scrublet0-4.fmx.singlets.model_25topics.pkl',\n",
       " 'ddseq_celltypefair_1.FIXEDCELLS': 'cistopic_objects/ddseq_celltypefair_1.FIXEDCELLS__cto.scrublet0-4.fmx.singlets.model_17topics.pkl',\n",
       " 'hydrop_celltypefair_1.FIXEDCELLS': 'cistopic_objects/hydrop_celltypefair_1.FIXEDCELLS__cto.scrublet0-4.fmx.singlets.model_22topics.pkl',\n",
       " 'mtscatac_celltypefair_1.FIXEDCELLS': 'cistopic_objects/mtscatac_celltypefair_1.FIXEDCELLS__cto.scrublet0-4.fmx.singlets.model_25topics.pkl',\n",
       " 's3atac_celltypefair_1.FIXEDCELLS': 'cistopic_objects/s3atac_celltypefair_1.FIXEDCELLS__cto.scrublet0-4.fmx.singlets.model_18topics.pkl'}"
      ]
     },
     "execution_count": 23,
     "metadata": {},
     "output_type": "execute_result"
    },
    {
     "data": {
      "application/javascript": [
       "\n",
       "            setTimeout(function() {\n",
       "                var nbb_cell_id = 23;\n",
       "                var nbb_unformatted_code = \"cto_consensus_paths = sorted(glob.glob(f\\\"cistopic_objects/*topics.pkl\\\"))\\ncistopic_obj_path_dict = {\\n    x.split(\\\"/\\\")[-1].split(f\\\"__\\\")[0]: x for x in cto_consensus_paths\\n}\\ncistopic_obj_path_dict\";\n",
       "                var nbb_formatted_code = \"cto_consensus_paths = sorted(glob.glob(f\\\"cistopic_objects/*topics.pkl\\\"))\\ncistopic_obj_path_dict = {\\n    x.split(\\\"/\\\")[-1].split(f\\\"__\\\")[0]: x for x in cto_consensus_paths\\n}\\ncistopic_obj_path_dict\";\n",
       "                var nbb_cells = Jupyter.notebook.get_cells();\n",
       "                for (var i = 0; i < nbb_cells.length; ++i) {\n",
       "                    if (nbb_cells[i].input_prompt_number == nbb_cell_id) {\n",
       "                        if (nbb_cells[i].get_text() == nbb_unformatted_code) {\n",
       "                             nbb_cells[i].set_text(nbb_formatted_code);\n",
       "                        }\n",
       "                        break;\n",
       "                    }\n",
       "                }\n",
       "            }, 500);\n",
       "            "
      ],
      "text/plain": [
       "<IPython.core.display.Javascript object>"
      ]
     },
     "metadata": {},
     "output_type": "display_data"
    }
   ],
   "source": [
    "cto_consensus_paths = sorted(glob.glob(f\"cistopic_objects/*topics.pkl\"))\n",
    "cistopic_obj_path_dict = {\n",
    "    x.split(\"/\")[-1].split(f\"__\")[0]: x for x in cto_consensus_paths\n",
    "}\n",
    "cistopic_obj_path_dict"
   ]
  },
  {
   "cell_type": "code",
   "execution_count": 26,
   "id": "1d711492-6bb4-479f-9555-ae8e15081936",
   "metadata": {
    "execution": {
     "iopub.execute_input": "2023-02-15T14:50:32.219874Z",
     "iopub.status.busy": "2023-02-15T14:50:32.219561Z",
     "iopub.status.idle": "2023-02-15T14:57:31.042005Z",
     "shell.execute_reply": "2023-02-15T14:57:31.040755Z",
     "shell.execute_reply.started": "2023-02-15T14:50:32.219851Z"
    },
    "tags": []
   },
   "outputs": [
    {
     "name": "stdout",
     "output_type": "stream",
     "text": [
      "Loading downstream_analysis/imputed_acc_objs/10xmultiome_celltypefair_1.FIXEDCELLS__imputed_acc_obs.pkl\n",
      "Loading downstream_analysis/HVRs/10xmultiome_celltypefair_1.FIXEDCELLS__HVRs.pkl\n",
      "Cytotoxic T cell\n",
      "CD4+ T cell\n",
      "Natural killer cell\n",
      "CD14+ monocyte\n",
      "B cell\n",
      "CD16+ monocyte\n",
      "Dendritic cell\n"
     ]
    },
    {
     "name": "stderr",
     "output_type": "stream",
     "text": [
      "2023-02-15 15:50:38,756\tINFO services.py:1470 -- View the Ray dashboard at \u001b[1m\u001b[32mhttp://127.0.0.1:8265\u001b[39m\u001b[22m\n"
     ]
    },
    {
     "name": "stdout",
     "output_type": "stream",
     "text": [
      "\u001b[2m\u001b[36m(markers_ray pid=996606)\u001b[0m 2023-02-15 15:50:42,920 cisTopic     INFO     Formatting data for sampleA_Cytotoxic T cell_VS_sampleB_Cytotoxic T cell\n",
      "\u001b[2m\u001b[36m(markers_ray pid=996607)\u001b[0m 2023-02-15 15:50:43,459 cisTopic     INFO     Formatting data for sampleB_Cytotoxic T cell_VS_sampleA_Cytotoxic T cell\n",
      "\u001b[2m\u001b[36m(markers_ray pid=996604)\u001b[0m 2023-02-15 15:50:43,768 cisTopic     INFO     Formatting data for sampleA_CD4+ T cell_VS_sampleB_CD4+ T cell\n",
      "\u001b[2m\u001b[36m(markers_ray pid=996601)\u001b[0m 2023-02-15 15:50:44,253 cisTopic     INFO     Formatting data for sampleB_CD4+ T cell_VS_sampleA_CD4+ T cell\n",
      "\u001b[2m\u001b[36m(markers_ray pid=996606)\u001b[0m 2023-02-15 15:50:44,398 cisTopic     INFO     Computing p-value for sampleA_Cytotoxic T cell_VS_sampleB_Cytotoxic T cell\n",
      "\u001b[2m\u001b[36m(markers_ray pid=996604)\u001b[0m 2023-02-15 15:50:44,624 cisTopic     INFO     Computing p-value for sampleA_CD4+ T cell_VS_sampleB_CD4+ T cell\n",
      "\u001b[2m\u001b[36m(markers_ray pid=996598)\u001b[0m 2023-02-15 15:50:44,701 cisTopic     INFO     Formatting data for sampleA_Natural killer cell_VS_sampleB_Natural killer cell\n",
      "\u001b[2m\u001b[36m(markers_ray pid=996598)\u001b[0m 2023-02-15 15:50:44,871 cisTopic     INFO     Computing p-value for sampleA_Natural killer cell_VS_sampleB_Natural killer cell\n",
      "\u001b[2m\u001b[36m(markers_ray pid=996607)\u001b[0m 2023-02-15 15:50:44,922 cisTopic     INFO     Computing p-value for sampleB_Cytotoxic T cell_VS_sampleA_Cytotoxic T cell\n",
      "\u001b[2m\u001b[36m(markers_ray pid=996599)\u001b[0m 2023-02-15 15:50:45,076 cisTopic     INFO     Formatting data for sampleB_Natural killer cell_VS_sampleA_Natural killer cell\n",
      "\u001b[2m\u001b[36m(markers_ray pid=996601)\u001b[0m 2023-02-15 15:50:45,123 cisTopic     INFO     Computing p-value for sampleB_CD4+ T cell_VS_sampleA_CD4+ T cell\n",
      "\u001b[2m\u001b[36m(markers_ray pid=996599)\u001b[0m 2023-02-15 15:50:45,252 cisTopic     INFO     Computing p-value for sampleB_Natural killer cell_VS_sampleA_Natural killer cell\n",
      "\u001b[2m\u001b[36m(markers_ray pid=996602)\u001b[0m 2023-02-15 15:50:45,409 cisTopic     INFO     Formatting data for sampleA_CD14+ monocyte_VS_sampleB_CD14+ monocyte\n",
      "\u001b[2m\u001b[36m(markers_ray pid=996605)\u001b[0m 2023-02-15 15:50:45,743 cisTopic     INFO     Formatting data for sampleB_CD14+ monocyte_VS_sampleA_CD14+ monocyte\n",
      "\u001b[2m\u001b[36m(markers_ray pid=996602)\u001b[0m 2023-02-15 15:50:46,028 cisTopic     INFO     Computing p-value for sampleA_CD14+ monocyte_VS_sampleB_CD14+ monocyte\n",
      "\u001b[2m\u001b[36m(markers_ray pid=996603)\u001b[0m 2023-02-15 15:50:46,142 cisTopic     INFO     Formatting data for sampleA_B cell_VS_sampleB_B cell\n",
      "\u001b[2m\u001b[36m(markers_ray pid=996600)\u001b[0m 2023-02-15 15:50:46,343 cisTopic     INFO     Formatting data for sampleB_B cell_VS_sampleA_B cell\n",
      "\u001b[2m\u001b[36m(markers_ray pid=996605)\u001b[0m 2023-02-15 15:50:46,382 cisTopic     INFO     Computing p-value for sampleB_CD14+ monocyte_VS_sampleA_CD14+ monocyte\n",
      "\u001b[2m\u001b[36m(markers_ray pid=996603)\u001b[0m 2023-02-15 15:50:46,599 cisTopic     INFO     Computing p-value for sampleA_B cell_VS_sampleB_B cell\n",
      "\u001b[2m\u001b[36m(markers_ray pid=996600)\u001b[0m 2023-02-15 15:50:46,794 cisTopic     INFO     Computing p-value for sampleB_B cell_VS_sampleA_B cell\n",
      "\u001b[2m\u001b[36m(markers_ray pid=996598)\u001b[0m 2023-02-15 15:50:58,377 cisTopic     INFO     Computing log2FC for sampleA_Natural killer cell_VS_sampleB_Natural killer cell\n",
      "\u001b[2m\u001b[36m(markers_ray pid=996599)\u001b[0m 2023-02-15 15:50:58,883 cisTopic     INFO     Computing log2FC for sampleB_Natural killer cell_VS_sampleA_Natural killer cell\n",
      "\u001b[2m\u001b[36m(markers_ray pid=996598)\u001b[0m 2023-02-15 15:50:59,664 cisTopic     INFO     sampleA_Natural killer cell_VS_sampleB_Natural killer cell done!\n",
      "\u001b[2m\u001b[36m(markers_ray pid=996598)\u001b[0m 2023-02-15 15:50:59,698 cisTopic     INFO     Formatting data for sampleA_CD16+ monocyte_VS_sampleB_CD16+ monocyte\n",
      "\u001b[2m\u001b[36m(markers_ray pid=996598)\u001b[0m 2023-02-15 15:50:59,855 cisTopic     INFO     Computing p-value for sampleA_CD16+ monocyte_VS_sampleB_CD16+ monocyte\n",
      "\u001b[2m\u001b[36m(markers_ray pid=996599)\u001b[0m 2023-02-15 15:51:00,192 cisTopic     INFO     sampleB_Natural killer cell_VS_sampleA_Natural killer cell done!\n",
      "\u001b[2m\u001b[36m(markers_ray pid=996599)\u001b[0m 2023-02-15 15:51:00,220 cisTopic     INFO     Formatting data for sampleB_CD16+ monocyte_VS_sampleA_CD16+ monocyte\n",
      "\u001b[2m\u001b[36m(markers_ray pid=996599)\u001b[0m 2023-02-15 15:51:00,392 cisTopic     INFO     Computing p-value for sampleB_CD16+ monocyte_VS_sampleA_CD16+ monocyte\n",
      "\u001b[2m\u001b[36m(markers_ray pid=996604)\u001b[0m 2023-02-15 15:51:01,712 cisTopic     INFO     Computing log2FC for sampleA_CD4+ T cell_VS_sampleB_CD4+ T cell\n",
      "\u001b[2m\u001b[36m(markers_ray pid=996603)\u001b[0m 2023-02-15 15:51:01,966 cisTopic     INFO     Computing log2FC for sampleA_B cell_VS_sampleB_B cell\n",
      "\u001b[2m\u001b[36m(markers_ray pid=996601)\u001b[0m 2023-02-15 15:51:02,243 cisTopic     INFO     Computing log2FC for sampleB_CD4+ T cell_VS_sampleA_CD4+ T cell\n",
      "\u001b[2m\u001b[36m(markers_ray pid=996600)\u001b[0m 2023-02-15 15:51:02,224 cisTopic     INFO     Computing log2FC for sampleB_B cell_VS_sampleA_B cell\n",
      "\u001b[2m\u001b[36m(markers_ray pid=996602)\u001b[0m 2023-02-15 15:51:02,532 cisTopic     INFO     Computing log2FC for sampleA_CD14+ monocyte_VS_sampleB_CD14+ monocyte\n",
      "\u001b[2m\u001b[36m(markers_ray pid=996605)\u001b[0m 2023-02-15 15:51:02,794 cisTopic     INFO     Computing log2FC for sampleB_CD14+ monocyte_VS_sampleA_CD14+ monocyte\n",
      "\u001b[2m\u001b[36m(markers_ray pid=996604)\u001b[0m 2023-02-15 15:51:03,038 cisTopic     INFO     sampleA_CD4+ T cell_VS_sampleB_CD4+ T cell done!\n",
      "\u001b[2m\u001b[36m(markers_ray pid=996604)\u001b[0m 2023-02-15 15:51:03,067 cisTopic     INFO     Formatting data for sampleA_Dendritic cell_VS_sampleB_Dendritic cell\n",
      "\u001b[2m\u001b[36m(markers_ray pid=996604)\u001b[0m 2023-02-15 15:51:03,182 cisTopic     INFO     Computing p-value for sampleA_Dendritic cell_VS_sampleB_Dendritic cell\n",
      "\u001b[2m\u001b[36m(markers_ray pid=996603)\u001b[0m 2023-02-15 15:51:03,273 cisTopic     INFO     sampleA_B cell_VS_sampleB_B cell done!\n",
      "\u001b[2m\u001b[36m(markers_ray pid=996603)\u001b[0m 2023-02-15 15:51:03,289 cisTopic     INFO     Formatting data for sampleB_Dendritic cell_VS_sampleA_Dendritic cell\n",
      "\u001b[2m\u001b[36m(markers_ray pid=996603)\u001b[0m 2023-02-15 15:51:03,397 cisTopic     INFO     Computing p-value for sampleB_Dendritic cell_VS_sampleA_Dendritic cell\n",
      "\u001b[2m\u001b[36m(markers_ray pid=996601)\u001b[0m 2023-02-15 15:51:03,594 cisTopic     INFO     sampleB_CD4+ T cell_VS_sampleA_CD4+ T cell done!\n",
      "\u001b[2m\u001b[36m(markers_ray pid=996600)\u001b[0m 2023-02-15 15:51:03,628 cisTopic     INFO     sampleB_B cell_VS_sampleA_B cell done!\n",
      "\u001b[2m\u001b[36m(markers_ray pid=996602)\u001b[0m 2023-02-15 15:51:03,892 cisTopic     INFO     sampleA_CD14+ monocyte_VS_sampleB_CD14+ monocyte done!\n",
      "\u001b[2m\u001b[36m(markers_ray pid=996605)\u001b[0m 2023-02-15 15:51:04,134 cisTopic     INFO     sampleB_CD14+ monocyte_VS_sampleA_CD14+ monocyte done!\n",
      "\u001b[2m\u001b[36m(markers_ray pid=996606)\u001b[0m 2023-02-15 15:51:04,974 cisTopic     INFO     Computing log2FC for sampleA_Cytotoxic T cell_VS_sampleB_Cytotoxic T cell\n",
      "\u001b[2m\u001b[36m(markers_ray pid=996607)\u001b[0m 2023-02-15 15:51:05,617 cisTopic     INFO     Computing log2FC for sampleB_Cytotoxic T cell_VS_sampleA_Cytotoxic T cell\n",
      "\u001b[2m\u001b[36m(markers_ray pid=996606)\u001b[0m 2023-02-15 15:51:06,377 cisTopic     INFO     sampleA_Cytotoxic T cell_VS_sampleB_Cytotoxic T cell done!\n",
      "\u001b[2m\u001b[36m(markers_ray pid=996607)\u001b[0m 2023-02-15 15:51:07,012 cisTopic     INFO     sampleB_Cytotoxic T cell_VS_sampleA_Cytotoxic T cell done!\n",
      "\u001b[2m\u001b[36m(markers_ray pid=996598)\u001b[0m 2023-02-15 15:51:13,413 cisTopic     INFO     Computing log2FC for sampleA_CD16+ monocyte_VS_sampleB_CD16+ monocyte\n",
      "\u001b[2m\u001b[36m(markers_ray pid=996599)\u001b[0m 2023-02-15 15:51:14,053 cisTopic     INFO     Computing log2FC for sampleB_CD16+ monocyte_VS_sampleA_CD16+ monocyte\n",
      "\u001b[2m\u001b[36m(markers_ray pid=996598)\u001b[0m 2023-02-15 15:51:14,680 cisTopic     INFO     sampleA_CD16+ monocyte_VS_sampleB_CD16+ monocyte done!\n",
      "\u001b[2m\u001b[36m(markers_ray pid=996599)\u001b[0m 2023-02-15 15:51:15,335 cisTopic     INFO     sampleB_CD16+ monocyte_VS_sampleA_CD16+ monocyte done!\n",
      "\u001b[2m\u001b[36m(markers_ray pid=996604)\u001b[0m 2023-02-15 15:51:16,606 cisTopic     INFO     Computing log2FC for sampleA_Dendritic cell_VS_sampleB_Dendritic cell\n",
      "\u001b[2m\u001b[36m(markers_ray pid=996603)\u001b[0m 2023-02-15 15:51:16,655 cisTopic     INFO     Computing log2FC for sampleB_Dendritic cell_VS_sampleA_Dendritic cell\n",
      "\u001b[2m\u001b[36m(markers_ray pid=996604)\u001b[0m 2023-02-15 15:51:17,906 cisTopic     INFO     sampleA_Dendritic cell_VS_sampleB_Dendritic cell done!\n",
      "\u001b[2m\u001b[36m(markers_ray pid=996603)\u001b[0m 2023-02-15 15:51:17,948 cisTopic     INFO     sampleB_Dendritic cell_VS_sampleA_Dendritic cell done!\n",
      "no DARs found for sampleA_Natural killer cell_VS_sampleB_Natural killer cell in 10xmultiome_celltypefair_1.FIXEDCELLS\n",
      "no DARs found for sampleB_Natural killer cell_VS_sampleA_Natural killer cell in 10xmultiome_celltypefair_1.FIXEDCELLS\n",
      "no DARs found for sampleA_CD16+ monocyte_VS_sampleB_CD16+ monocyte in 10xmultiome_celltypefair_1.FIXEDCELLS\n",
      "no DARs found for sampleB_CD16+ monocyte_VS_sampleA_CD16+ monocyte in 10xmultiome_celltypefair_1.FIXEDCELLS\n",
      "Loading downstream_analysis/imputed_acc_objs/10xv11_celltypefair_1.FIXEDCELLS__imputed_acc_obs.pkl\n",
      "Loading downstream_analysis/HVRs/10xv11_celltypefair_1.FIXEDCELLS__HVRs.pkl\n",
      "Cytotoxic T cell\n",
      "CD4+ T cell\n",
      "Natural killer cell\n",
      "CD14+ monocyte\n",
      "B cell\n",
      "CD16+ monocyte\n",
      "Dendritic cell\n"
     ]
    },
    {
     "name": "stderr",
     "output_type": "stream",
     "text": [
      "2023-02-15 15:51:30,855\tINFO services.py:1470 -- View the Ray dashboard at \u001b[1m\u001b[32mhttp://127.0.0.1:8265\u001b[39m\u001b[22m\n"
     ]
    },
    {
     "name": "stdout",
     "output_type": "stream",
     "text": [
      "\u001b[2m\u001b[36m(markers_ray pid=997288)\u001b[0m 2023-02-15 15:51:34,906 cisTopic     INFO     Formatting data for sampleA_Cytotoxic T cell_VS_sampleB_Cytotoxic T cell\n",
      "\u001b[2m\u001b[36m(markers_ray pid=997292)\u001b[0m 2023-02-15 15:51:35,289 cisTopic     INFO     Formatting data for sampleB_Cytotoxic T cell_VS_sampleA_Cytotoxic T cell\n",
      "\u001b[2m\u001b[36m(markers_ray pid=997296)\u001b[0m 2023-02-15 15:51:35,649 cisTopic     INFO     Formatting data for sampleA_CD4+ T cell_VS_sampleB_CD4+ T cell\n",
      "\u001b[2m\u001b[36m(markers_ray pid=997288)\u001b[0m 2023-02-15 15:51:35,992 cisTopic     INFO     Computing p-value for sampleA_Cytotoxic T cell_VS_sampleB_Cytotoxic T cell\n",
      "\u001b[2m\u001b[36m(markers_ray pid=997294)\u001b[0m 2023-02-15 15:51:36,046 cisTopic     INFO     Formatting data for sampleB_CD4+ T cell_VS_sampleA_CD4+ T cell\n",
      "\u001b[2m\u001b[36m(markers_ray pid=997296)\u001b[0m 2023-02-15 15:51:36,202 cisTopic     INFO     Computing p-value for sampleA_CD4+ T cell_VS_sampleB_CD4+ T cell\n",
      "\u001b[2m\u001b[36m(markers_ray pid=997287)\u001b[0m 2023-02-15 15:51:36,282 cisTopic     INFO     Formatting data for sampleA_Natural killer cell_VS_sampleB_Natural killer cell\n",
      "\u001b[2m\u001b[36m(markers_ray pid=997292)\u001b[0m 2023-02-15 15:51:36,434 cisTopic     INFO     Computing p-value for sampleB_Cytotoxic T cell_VS_sampleA_Cytotoxic T cell\n",
      "\u001b[2m\u001b[36m(markers_ray pid=997287)\u001b[0m 2023-02-15 15:51:36,453 cisTopic     INFO     Computing p-value for sampleA_Natural killer cell_VS_sampleB_Natural killer cell\n",
      "\u001b[2m\u001b[36m(markers_ray pid=997294)\u001b[0m 2023-02-15 15:51:36,551 cisTopic     INFO     Computing p-value for sampleB_CD4+ T cell_VS_sampleA_CD4+ T cell\n",
      "\u001b[2m\u001b[36m(markers_ray pid=997290)\u001b[0m 2023-02-15 15:51:36,716 cisTopic     INFO     Formatting data for sampleB_Natural killer cell_VS_sampleA_Natural killer cell\n",
      "\u001b[2m\u001b[36m(markers_ray pid=997290)\u001b[0m 2023-02-15 15:51:36,890 cisTopic     INFO     Computing p-value for sampleB_Natural killer cell_VS_sampleA_Natural killer cell\n",
      "\u001b[2m\u001b[36m(markers_ray pid=997295)\u001b[0m 2023-02-15 15:51:37,096 cisTopic     INFO     Formatting data for sampleA_CD14+ monocyte_VS_sampleB_CD14+ monocyte\n",
      "\u001b[2m\u001b[36m(markers_ray pid=997293)\u001b[0m 2023-02-15 15:51:37,442 cisTopic     INFO     Formatting data for sampleB_CD14+ monocyte_VS_sampleA_CD14+ monocyte\n",
      "\u001b[2m\u001b[36m(markers_ray pid=997295)\u001b[0m 2023-02-15 15:51:37,623 cisTopic     INFO     Computing p-value for sampleA_CD14+ monocyte_VS_sampleB_CD14+ monocyte\n",
      "\u001b[2m\u001b[36m(markers_ray pid=997289)\u001b[0m 2023-02-15 15:51:37,850 cisTopic     INFO     Formatting data for sampleA_B cell_VS_sampleB_B cell\n",
      "\u001b[2m\u001b[36m(markers_ray pid=997293)\u001b[0m 2023-02-15 15:51:37,964 cisTopic     INFO     Computing p-value for sampleB_CD14+ monocyte_VS_sampleA_CD14+ monocyte\n",
      "\u001b[2m\u001b[36m(markers_ray pid=997291)\u001b[0m 2023-02-15 15:51:38,203 cisTopic     INFO     Formatting data for sampleB_B cell_VS_sampleA_B cell\n",
      "\u001b[2m\u001b[36m(markers_ray pid=997289)\u001b[0m 2023-02-15 15:51:38,323 cisTopic     INFO     Computing p-value for sampleA_B cell_VS_sampleB_B cell\n",
      "\u001b[2m\u001b[36m(markers_ray pid=997291)\u001b[0m 2023-02-15 15:51:38,584 cisTopic     INFO     Computing p-value for sampleB_B cell_VS_sampleA_B cell\n",
      "\u001b[2m\u001b[36m(markers_ray pid=997287)\u001b[0m 2023-02-15 15:51:51,760 cisTopic     INFO     Computing log2FC for sampleA_Natural killer cell_VS_sampleB_Natural killer cell\n",
      "\u001b[2m\u001b[36m(markers_ray pid=997290)\u001b[0m 2023-02-15 15:51:51,999 cisTopic     INFO     Computing log2FC for sampleB_Natural killer cell_VS_sampleA_Natural killer cell\n",
      "\u001b[2m\u001b[36m(markers_ray pid=997296)\u001b[0m 2023-02-15 15:51:53,034 cisTopic     INFO     Computing log2FC for sampleA_CD4+ T cell_VS_sampleB_CD4+ T cell\n",
      "\u001b[2m\u001b[36m(markers_ray pid=997287)\u001b[0m 2023-02-15 15:51:53,247 cisTopic     INFO     sampleA_Natural killer cell_VS_sampleB_Natural killer cell done!\n",
      "\u001b[2m\u001b[36m(markers_ray pid=997287)\u001b[0m 2023-02-15 15:51:53,264 cisTopic     INFO     Formatting data for sampleA_CD16+ monocyte_VS_sampleB_CD16+ monocyte\n",
      "\u001b[2m\u001b[36m(markers_ray pid=997294)\u001b[0m 2023-02-15 15:51:53,367 cisTopic     INFO     Computing log2FC for sampleB_CD4+ T cell_VS_sampleA_CD4+ T cell\n",
      "\u001b[2m\u001b[36m(markers_ray pid=997287)\u001b[0m 2023-02-15 15:51:53,425 cisTopic     INFO     Computing p-value for sampleA_CD16+ monocyte_VS_sampleB_CD16+ monocyte\n",
      "\u001b[2m\u001b[36m(markers_ray pid=997290)\u001b[0m 2023-02-15 15:51:53,483 cisTopic     INFO     sampleB_Natural killer cell_VS_sampleA_Natural killer cell done!\n",
      "\u001b[2m\u001b[36m(markers_ray pid=997290)\u001b[0m 2023-02-15 15:51:53,499 cisTopic     INFO     Formatting data for sampleB_CD16+ monocyte_VS_sampleA_CD16+ monocyte\n",
      "\u001b[2m\u001b[36m(markers_ray pid=997290)\u001b[0m 2023-02-15 15:51:53,666 cisTopic     INFO     Computing p-value for sampleB_CD16+ monocyte_VS_sampleA_CD16+ monocyte\n",
      "\u001b[2m\u001b[36m(markers_ray pid=997296)\u001b[0m 2023-02-15 15:51:54,577 cisTopic     INFO     sampleA_CD4+ T cell_VS_sampleB_CD4+ T cell done!\n",
      "\u001b[2m\u001b[36m(markers_ray pid=997296)\u001b[0m 2023-02-15 15:51:54,614 cisTopic     INFO     Formatting data for sampleA_Dendritic cell_VS_sampleB_Dendritic cell\n",
      "\u001b[2m\u001b[36m(markers_ray pid=997296)\u001b[0m 2023-02-15 15:51:54,734 cisTopic     INFO     Computing p-value for sampleA_Dendritic cell_VS_sampleB_Dendritic cell\n",
      "\u001b[2m\u001b[36m(markers_ray pid=997295)\u001b[0m 2023-02-15 15:51:54,733 cisTopic     INFO     Computing log2FC for sampleA_CD14+ monocyte_VS_sampleB_CD14+ monocyte\n",
      "\u001b[2m\u001b[36m(markers_ray pid=997294)\u001b[0m 2023-02-15 15:51:54,919 cisTopic     INFO     sampleB_CD4+ T cell_VS_sampleA_CD4+ T cell done!\n",
      "\u001b[2m\u001b[36m(markers_ray pid=997294)\u001b[0m 2023-02-15 15:51:54,938 cisTopic     INFO     Formatting data for sampleB_Dendritic cell_VS_sampleA_Dendritic cell\n",
      "\u001b[2m\u001b[36m(markers_ray pid=997293)\u001b[0m 2023-02-15 15:51:55,033 cisTopic     INFO     Computing log2FC for sampleB_CD14+ monocyte_VS_sampleA_CD14+ monocyte\n",
      "\u001b[2m\u001b[36m(markers_ray pid=997294)\u001b[0m 2023-02-15 15:51:55,044 cisTopic     INFO     Computing p-value for sampleB_Dendritic cell_VS_sampleA_Dendritic cell\n",
      "\u001b[2m\u001b[36m(markers_ray pid=997289)\u001b[0m 2023-02-15 15:51:55,099 cisTopic     INFO     Computing log2FC for sampleA_B cell_VS_sampleB_B cell\n",
      "\u001b[2m\u001b[36m(markers_ray pid=997291)\u001b[0m 2023-02-15 15:51:55,341 cisTopic     INFO     Computing log2FC for sampleB_B cell_VS_sampleA_B cell\n",
      "\u001b[2m\u001b[36m(markers_ray pid=997288)\u001b[0m 2023-02-15 15:51:55,959 cisTopic     INFO     Computing log2FC for sampleA_Cytotoxic T cell_VS_sampleB_Cytotoxic T cell\n",
      "\u001b[2m\u001b[36m(markers_ray pid=997295)\u001b[0m 2023-02-15 15:51:56,297 cisTopic     INFO     sampleA_CD14+ monocyte_VS_sampleB_CD14+ monocyte done!\n",
      "\u001b[2m\u001b[36m(markers_ray pid=997293)\u001b[0m 2023-02-15 15:51:56,503 cisTopic     INFO     sampleB_CD14+ monocyte_VS_sampleA_CD14+ monocyte done!\n",
      "\u001b[2m\u001b[36m(markers_ray pid=997289)\u001b[0m 2023-02-15 15:51:56,599 cisTopic     INFO     sampleA_B cell_VS_sampleB_B cell done!\n",
      "\u001b[2m\u001b[36m(markers_ray pid=997292)\u001b[0m 2023-02-15 15:51:56,628 cisTopic     INFO     Computing log2FC for sampleB_Cytotoxic T cell_VS_sampleA_Cytotoxic T cell\n",
      "\u001b[2m\u001b[36m(markers_ray pid=997291)\u001b[0m 2023-02-15 15:51:56,915 cisTopic     INFO     sampleB_B cell_VS_sampleA_B cell done!\n",
      "\u001b[2m\u001b[36m(markers_ray pid=997288)\u001b[0m 2023-02-15 15:51:57,471 cisTopic     INFO     sampleA_Cytotoxic T cell_VS_sampleB_Cytotoxic T cell done!\n",
      "\u001b[2m\u001b[36m(markers_ray pid=997292)\u001b[0m 2023-02-15 15:51:58,186 cisTopic     INFO     sampleB_Cytotoxic T cell_VS_sampleA_Cytotoxic T cell done!\n",
      "\u001b[2m\u001b[36m(markers_ray pid=997287)\u001b[0m 2023-02-15 15:52:08,868 cisTopic     INFO     Computing log2FC for sampleA_CD16+ monocyte_VS_sampleB_CD16+ monocyte\n",
      "\u001b[2m\u001b[36m(markers_ray pid=997290)\u001b[0m 2023-02-15 15:52:08,944 cisTopic     INFO     Computing log2FC for sampleB_CD16+ monocyte_VS_sampleA_CD16+ monocyte\n",
      "\u001b[2m\u001b[36m(markers_ray pid=997296)\u001b[0m 2023-02-15 15:52:09,825 cisTopic     INFO     Computing log2FC for sampleA_Dendritic cell_VS_sampleB_Dendritic cell\n",
      "\u001b[2m\u001b[36m(markers_ray pid=997294)\u001b[0m 2023-02-15 15:52:10,034 cisTopic     INFO     Computing log2FC for sampleB_Dendritic cell_VS_sampleA_Dendritic cell\n",
      "\u001b[2m\u001b[36m(markers_ray pid=997287)\u001b[0m 2023-02-15 15:52:10,386 cisTopic     INFO     sampleA_CD16+ monocyte_VS_sampleB_CD16+ monocyte done!\n",
      "\u001b[2m\u001b[36m(markers_ray pid=997290)\u001b[0m 2023-02-15 15:52:10,449 cisTopic     INFO     sampleB_CD16+ monocyte_VS_sampleA_CD16+ monocyte done!\n",
      "\u001b[2m\u001b[36m(markers_ray pid=997296)\u001b[0m 2023-02-15 15:52:11,262 cisTopic     INFO     sampleA_Dendritic cell_VS_sampleB_Dendritic cell done!\n",
      "\u001b[2m\u001b[36m(markers_ray pid=997294)\u001b[0m 2023-02-15 15:52:11,489 cisTopic     INFO     sampleB_Dendritic cell_VS_sampleA_Dendritic cell done!\n",
      "no DARs found for sampleA_Natural killer cell_VS_sampleB_Natural killer cell in 10xv11_celltypefair_1.FIXEDCELLS\n",
      "no DARs found for sampleB_Natural killer cell_VS_sampleA_Natural killer cell in 10xv11_celltypefair_1.FIXEDCELLS\n",
      "no DARs found for sampleA_CD14+ monocyte_VS_sampleB_CD14+ monocyte in 10xv11_celltypefair_1.FIXEDCELLS\n",
      "no DARs found for sampleB_CD14+ monocyte_VS_sampleA_CD14+ monocyte in 10xv11_celltypefair_1.FIXEDCELLS\n",
      "no DARs found for sampleB_B cell_VS_sampleA_B cell in 10xv11_celltypefair_1.FIXEDCELLS\n",
      "no DARs found for sampleA_CD16+ monocyte_VS_sampleB_CD16+ monocyte in 10xv11_celltypefair_1.FIXEDCELLS\n",
      "no DARs found for sampleB_CD16+ monocyte_VS_sampleA_CD16+ monocyte in 10xv11_celltypefair_1.FIXEDCELLS\n",
      "no DARs found for sampleA_Dendritic cell_VS_sampleB_Dendritic cell in 10xv11_celltypefair_1.FIXEDCELLS\n",
      "no DARs found for sampleB_Dendritic cell_VS_sampleA_Dendritic cell in 10xv11_celltypefair_1.FIXEDCELLS\n",
      "Loading downstream_analysis/imputed_acc_objs/10xv1_celltypefair_1.FIXEDCELLS__imputed_acc_obs.pkl\n",
      "Loading downstream_analysis/HVRs/10xv1_celltypefair_1.FIXEDCELLS__HVRs.pkl\n",
      "Cytotoxic T cell\n",
      "CD4+ T cell\n",
      "Natural killer cell\n",
      "CD14+ monocyte\n",
      "B cell\n",
      "CD16+ monocyte\n",
      "Dendritic cell\n"
     ]
    },
    {
     "name": "stderr",
     "output_type": "stream",
     "text": [
      "2023-02-15 15:52:22,993\tINFO services.py:1470 -- View the Ray dashboard at \u001b[1m\u001b[32mhttp://127.0.0.1:8265\u001b[39m\u001b[22m\n"
     ]
    },
    {
     "name": "stdout",
     "output_type": "stream",
     "text": [
      "\u001b[2m\u001b[36m(markers_ray pid=998194)\u001b[0m 2023-02-15 15:52:27,185 cisTopic     INFO     Formatting data for sampleA_Cytotoxic T cell_VS_sampleB_Cytotoxic T cell\n",
      "\u001b[2m\u001b[36m(markers_ray pid=998186)\u001b[0m 2023-02-15 15:52:27,459 cisTopic     INFO     Formatting data for sampleB_Cytotoxic T cell_VS_sampleA_Cytotoxic T cell\n",
      "\u001b[2m\u001b[36m(markers_ray pid=998188)\u001b[0m 2023-02-15 15:52:27,867 cisTopic     INFO     Formatting data for sampleA_CD4+ T cell_VS_sampleB_CD4+ T cell\n",
      "\u001b[2m\u001b[36m(markers_ray pid=998193)\u001b[0m 2023-02-15 15:52:28,239 cisTopic     INFO     Formatting data for sampleB_CD4+ T cell_VS_sampleA_CD4+ T cell\n",
      "\u001b[2m\u001b[36m(markers_ray pid=998189)\u001b[0m 2023-02-15 15:52:28,469 cisTopic     INFO     Formatting data for sampleA_Natural killer cell_VS_sampleB_Natural killer cell\n",
      "\u001b[2m\u001b[36m(markers_ray pid=998194)\u001b[0m 2023-02-15 15:52:28,634 cisTopic     INFO     Computing p-value for sampleA_Cytotoxic T cell_VS_sampleB_Cytotoxic T cell\n",
      "\u001b[2m\u001b[36m(markers_ray pid=998189)\u001b[0m 2023-02-15 15:52:28,667 cisTopic     INFO     Computing p-value for sampleA_Natural killer cell_VS_sampleB_Natural killer cell\n",
      "\u001b[2m\u001b[36m(markers_ray pid=998188)\u001b[0m 2023-02-15 15:52:28,795 cisTopic     INFO     Computing p-value for sampleA_CD4+ T cell_VS_sampleB_CD4+ T cell\n",
      "\u001b[2m\u001b[36m(markers_ray pid=998186)\u001b[0m 2023-02-15 15:52:28,900 cisTopic     INFO     Computing p-value for sampleB_Cytotoxic T cell_VS_sampleA_Cytotoxic T cell\n",
      "\u001b[2m\u001b[36m(markers_ray pid=998192)\u001b[0m 2023-02-15 15:52:28,992 cisTopic     INFO     Formatting data for sampleB_Natural killer cell_VS_sampleA_Natural killer cell\n",
      "\u001b[2m\u001b[36m(markers_ray pid=998193)\u001b[0m 2023-02-15 15:52:29,099 cisTopic     INFO     Computing p-value for sampleB_CD4+ T cell_VS_sampleA_CD4+ T cell\n",
      "\u001b[2m\u001b[36m(markers_ray pid=998192)\u001b[0m 2023-02-15 15:52:29,170 cisTopic     INFO     Computing p-value for sampleB_Natural killer cell_VS_sampleA_Natural killer cell\n",
      "\u001b[2m\u001b[36m(markers_ray pid=998190)\u001b[0m 2023-02-15 15:52:29,259 cisTopic     INFO     Formatting data for sampleA_CD14+ monocyte_VS_sampleB_CD14+ monocyte\n",
      "\u001b[2m\u001b[36m(markers_ray pid=998195)\u001b[0m 2023-02-15 15:52:29,607 cisTopic     INFO     Formatting data for sampleB_CD14+ monocyte_VS_sampleA_CD14+ monocyte\n",
      "\u001b[2m\u001b[36m(markers_ray pid=998190)\u001b[0m 2023-02-15 15:52:29,876 cisTopic     INFO     Computing p-value for sampleA_CD14+ monocyte_VS_sampleB_CD14+ monocyte\n",
      "\u001b[2m\u001b[36m(markers_ray pid=998196)\u001b[0m 2023-02-15 15:52:29,933 cisTopic     INFO     Formatting data for sampleA_B cell_VS_sampleB_B cell\n",
      "\u001b[2m\u001b[36m(markers_ray pid=998195)\u001b[0m 2023-02-15 15:52:30,204 cisTopic     INFO     Computing p-value for sampleB_CD14+ monocyte_VS_sampleA_CD14+ monocyte\n",
      "\u001b[2m\u001b[36m(markers_ray pid=998191)\u001b[0m 2023-02-15 15:52:30,264 cisTopic     INFO     Formatting data for sampleB_B cell_VS_sampleA_B cell\n",
      "\u001b[2m\u001b[36m(markers_ray pid=998196)\u001b[0m 2023-02-15 15:52:30,451 cisTopic     INFO     Computing p-value for sampleA_B cell_VS_sampleB_B cell\n",
      "\u001b[2m\u001b[36m(markers_ray pid=998191)\u001b[0m 2023-02-15 15:52:30,694 cisTopic     INFO     Computing p-value for sampleB_B cell_VS_sampleA_B cell\n",
      "\u001b[2m\u001b[36m(markers_ray pid=998189)\u001b[0m 2023-02-15 15:52:42,299 cisTopic     INFO     Computing log2FC for sampleA_Natural killer cell_VS_sampleB_Natural killer cell\n",
      "\u001b[2m\u001b[36m(markers_ray pid=998192)\u001b[0m 2023-02-15 15:52:42,794 cisTopic     INFO     Computing log2FC for sampleB_Natural killer cell_VS_sampleA_Natural killer cell\n",
      "\u001b[2m\u001b[36m(markers_ray pid=998189)\u001b[0m 2023-02-15 15:52:43,619 cisTopic     INFO     sampleA_Natural killer cell_VS_sampleB_Natural killer cell done!\n",
      "\u001b[2m\u001b[36m(markers_ray pid=998189)\u001b[0m 2023-02-15 15:52:43,643 cisTopic     INFO     Formatting data for sampleA_CD16+ monocyte_VS_sampleB_CD16+ monocyte\n",
      "\u001b[2m\u001b[36m(markers_ray pid=998189)\u001b[0m 2023-02-15 15:52:43,813 cisTopic     INFO     Computing p-value for sampleA_CD16+ monocyte_VS_sampleB_CD16+ monocyte\n",
      "\u001b[2m\u001b[36m(markers_ray pid=998192)\u001b[0m 2023-02-15 15:52:44,124 cisTopic     INFO     sampleB_Natural killer cell_VS_sampleA_Natural killer cell done!\n",
      "\u001b[2m\u001b[36m(markers_ray pid=998192)\u001b[0m 2023-02-15 15:52:44,158 cisTopic     INFO     Formatting data for sampleB_CD16+ monocyte_VS_sampleA_CD16+ monocyte\n",
      "\u001b[2m\u001b[36m(markers_ray pid=998192)\u001b[0m 2023-02-15 15:52:44,333 cisTopic     INFO     Computing p-value for sampleB_CD16+ monocyte_VS_sampleA_CD16+ monocyte\n",
      "\u001b[2m\u001b[36m(markers_ray pid=998196)\u001b[0m 2023-02-15 15:52:45,747 cisTopic     INFO     Computing log2FC for sampleA_B cell_VS_sampleB_B cell\n",
      "\u001b[2m\u001b[36m(markers_ray pid=998188)\u001b[0m 2023-02-15 15:52:45,989 cisTopic     INFO     Computing log2FC for sampleA_CD4+ T cell_VS_sampleB_CD4+ T cell\n",
      "\u001b[2m\u001b[36m(markers_ray pid=998190)\u001b[0m 2023-02-15 15:52:46,144 cisTopic     INFO     Computing log2FC for sampleA_CD14+ monocyte_VS_sampleB_CD14+ monocyte\n",
      "\u001b[2m\u001b[36m(markers_ray pid=998193)\u001b[0m 2023-02-15 15:52:46,312 cisTopic     INFO     Computing log2FC for sampleB_CD4+ T cell_VS_sampleA_CD4+ T cell\n",
      "\u001b[2m\u001b[36m(markers_ray pid=998191)\u001b[0m 2023-02-15 15:52:46,381 cisTopic     INFO     Computing log2FC for sampleB_B cell_VS_sampleA_B cell\n",
      "\u001b[2m\u001b[36m(markers_ray pid=998195)\u001b[0m 2023-02-15 15:52:46,504 cisTopic     INFO     Computing log2FC for sampleB_CD14+ monocyte_VS_sampleA_CD14+ monocyte\n",
      "\u001b[2m\u001b[36m(markers_ray pid=998196)\u001b[0m 2023-02-15 15:52:47,075 cisTopic     INFO     sampleA_B cell_VS_sampleB_B cell done!\n",
      "\u001b[2m\u001b[36m(markers_ray pid=998196)\u001b[0m 2023-02-15 15:52:47,120 cisTopic     INFO     Formatting data for sampleA_Dendritic cell_VS_sampleB_Dendritic cell\n",
      "\u001b[2m\u001b[36m(markers_ray pid=998196)\u001b[0m 2023-02-15 15:52:47,241 cisTopic     INFO     Computing p-value for sampleA_Dendritic cell_VS_sampleB_Dendritic cell\n",
      "\u001b[2m\u001b[36m(markers_ray pid=998188)\u001b[0m 2023-02-15 15:52:47,337 cisTopic     INFO     sampleA_CD4+ T cell_VS_sampleB_CD4+ T cell done!\n",
      "\u001b[2m\u001b[36m(markers_ray pid=998188)\u001b[0m 2023-02-15 15:52:47,383 cisTopic     INFO     Formatting data for sampleB_Dendritic cell_VS_sampleA_Dendritic cell\n",
      "\u001b[2m\u001b[36m(markers_ray pid=998188)\u001b[0m 2023-02-15 15:52:47,495 cisTopic     INFO     Computing p-value for sampleB_Dendritic cell_VS_sampleA_Dendritic cell\n",
      "\u001b[2m\u001b[36m(markers_ray pid=998190)\u001b[0m 2023-02-15 15:52:47,488 cisTopic     INFO     sampleA_CD14+ monocyte_VS_sampleB_CD14+ monocyte done!\n",
      "\u001b[2m\u001b[36m(markers_ray pid=998193)\u001b[0m 2023-02-15 15:52:47,726 cisTopic     INFO     sampleB_CD4+ T cell_VS_sampleA_CD4+ T cell done!\n",
      "\u001b[2m\u001b[36m(markers_ray pid=998191)\u001b[0m 2023-02-15 15:52:47,803 cisTopic     INFO     sampleB_B cell_VS_sampleA_B cell done!\n",
      "\u001b[2m\u001b[36m(markers_ray pid=998195)\u001b[0m 2023-02-15 15:52:47,831 cisTopic     INFO     sampleB_CD14+ monocyte_VS_sampleA_CD14+ monocyte done!\n",
      "\u001b[2m\u001b[36m(markers_ray pid=998194)\u001b[0m 2023-02-15 15:52:49,309 cisTopic     INFO     Computing log2FC for sampleA_Cytotoxic T cell_VS_sampleB_Cytotoxic T cell\n",
      "\u001b[2m\u001b[36m(markers_ray pid=998186)\u001b[0m 2023-02-15 15:52:49,604 cisTopic     INFO     Computing log2FC for sampleB_Cytotoxic T cell_VS_sampleA_Cytotoxic T cell\n",
      "\u001b[2m\u001b[36m(markers_ray pid=998194)\u001b[0m 2023-02-15 15:52:50,687 cisTopic     INFO     sampleA_Cytotoxic T cell_VS_sampleB_Cytotoxic T cell done!\n",
      "\u001b[2m\u001b[36m(markers_ray pid=998186)\u001b[0m 2023-02-15 15:52:51,015 cisTopic     INFO     sampleB_Cytotoxic T cell_VS_sampleA_Cytotoxic T cell done!\n",
      "\u001b[2m\u001b[36m(markers_ray pid=998189)\u001b[0m 2023-02-15 15:52:57,542 cisTopic     INFO     Computing log2FC for sampleA_CD16+ monocyte_VS_sampleB_CD16+ monocyte\n",
      "\u001b[2m\u001b[36m(markers_ray pid=998192)\u001b[0m 2023-02-15 15:52:58,091 cisTopic     INFO     Computing log2FC for sampleB_CD16+ monocyte_VS_sampleA_CD16+ monocyte\n",
      "\u001b[2m\u001b[36m(markers_ray pid=998189)\u001b[0m 2023-02-15 15:52:58,843 cisTopic     INFO     sampleA_CD16+ monocyte_VS_sampleB_CD16+ monocyte done!\n",
      "\u001b[2m\u001b[36m(markers_ray pid=998192)\u001b[0m 2023-02-15 15:52:59,406 cisTopic     INFO     sampleB_CD16+ monocyte_VS_sampleA_CD16+ monocyte done!\n",
      "\u001b[2m\u001b[36m(markers_ray pid=998196)\u001b[0m 2023-02-15 15:53:00,675 cisTopic     INFO     Computing log2FC for sampleA_Dendritic cell_VS_sampleB_Dendritic cell\n",
      "\u001b[2m\u001b[36m(markers_ray pid=998188)\u001b[0m 2023-02-15 15:53:00,884 cisTopic     INFO     Computing log2FC for sampleB_Dendritic cell_VS_sampleA_Dendritic cell\n",
      "\u001b[2m\u001b[36m(markers_ray pid=998196)\u001b[0m 2023-02-15 15:53:01,967 cisTopic     INFO     sampleA_Dendritic cell_VS_sampleB_Dendritic cell done!\n",
      "no DARs found for sampleB_CD14+ monocyte_VS_sampleA_CD14+ monocyte in 10xv1_celltypefair_1.FIXEDCELLS\n",
      "no DARs found for sampleB_CD16+ monocyte_VS_sampleA_CD16+ monocyte in 10xv1_celltypefair_1.FIXEDCELLS\n",
      "Loading downstream_analysis/imputed_acc_objs/10xv2_celltypefair_1.FIXEDCELLS__imputed_acc_obs.pkl\n",
      "Loading downstream_analysis/HVRs/10xv2_celltypefair_1.FIXEDCELLS__HVRs.pkl\n",
      "Cytotoxic T cell\n",
      "CD4+ T cell\n",
      "Natural killer cell\n",
      "CD14+ monocyte\n",
      "B cell\n",
      "CD16+ monocyte\n",
      "Dendritic cell\n"
     ]
    },
    {
     "name": "stderr",
     "output_type": "stream",
     "text": [
      "2023-02-15 15:53:13,205\tINFO services.py:1470 -- View the Ray dashboard at \u001b[1m\u001b[32mhttp://127.0.0.1:8265\u001b[39m\u001b[22m\n"
     ]
    },
    {
     "name": "stdout",
     "output_type": "stream",
     "text": [
      "\u001b[2m\u001b[36m(markers_ray pid=998909)\u001b[0m 2023-02-15 15:53:17,198 cisTopic     INFO     Formatting data for sampleA_Cytotoxic T cell_VS_sampleB_Cytotoxic T cell\n",
      "\u001b[2m\u001b[36m(markers_ray pid=998904)\u001b[0m 2023-02-15 15:53:17,629 cisTopic     INFO     Formatting data for sampleB_Cytotoxic T cell_VS_sampleA_Cytotoxic T cell\n",
      "\u001b[2m\u001b[36m(markers_ray pid=998906)\u001b[0m 2023-02-15 15:53:17,856 cisTopic     INFO     Formatting data for sampleA_CD4+ T cell_VS_sampleB_CD4+ T cell\n",
      "\u001b[2m\u001b[36m(markers_ray pid=998909)\u001b[0m 2023-02-15 15:53:17,933 cisTopic     INFO     Computing p-value for sampleA_Cytotoxic T cell_VS_sampleB_Cytotoxic T cell\n",
      "\u001b[2m\u001b[36m(markers_ray pid=998906)\u001b[0m 2023-02-15 15:53:18,270 cisTopic     INFO     Computing p-value for sampleA_CD4+ T cell_VS_sampleB_CD4+ T cell\n",
      "\u001b[2m\u001b[36m(markers_ray pid=998910)\u001b[0m 2023-02-15 15:53:18,361 cisTopic     INFO     Formatting data for sampleB_CD4+ T cell_VS_sampleA_CD4+ T cell\n",
      "\u001b[2m\u001b[36m(markers_ray pid=998904)\u001b[0m 2023-02-15 15:53:18,404 cisTopic     INFO     Computing p-value for sampleB_Cytotoxic T cell_VS_sampleA_Cytotoxic T cell\n",
      "\u001b[2m\u001b[36m(markers_ray pid=998910)\u001b[0m 2023-02-15 15:53:18,729 cisTopic     INFO     Computing p-value for sampleB_CD4+ T cell_VS_sampleA_CD4+ T cell\n",
      "\u001b[2m\u001b[36m(markers_ray pid=998908)\u001b[0m 2023-02-15 15:53:18,833 cisTopic     INFO     Formatting data for sampleA_Natural killer cell_VS_sampleB_Natural killer cell\n",
      "\u001b[2m\u001b[36m(markers_ray pid=998908)\u001b[0m 2023-02-15 15:53:18,988 cisTopic     INFO     Computing p-value for sampleA_Natural killer cell_VS_sampleB_Natural killer cell\n",
      "\u001b[2m\u001b[36m(markers_ray pid=998903)\u001b[0m 2023-02-15 15:53:19,080 cisTopic     INFO     Formatting data for sampleB_Natural killer cell_VS_sampleA_Natural killer cell\n",
      "\u001b[2m\u001b[36m(markers_ray pid=998903)\u001b[0m 2023-02-15 15:53:19,241 cisTopic     INFO     Computing p-value for sampleB_Natural killer cell_VS_sampleA_Natural killer cell\n",
      "\u001b[2m\u001b[36m(markers_ray pid=998907)\u001b[0m 2023-02-15 15:53:19,553 cisTopic     INFO     Formatting data for sampleA_CD14+ monocyte_VS_sampleB_CD14+ monocyte\n",
      "\u001b[2m\u001b[36m(markers_ray pid=998907)\u001b[0m 2023-02-15 15:53:19,902 cisTopic     INFO     Computing p-value for sampleA_CD14+ monocyte_VS_sampleB_CD14+ monocyte\n",
      "\u001b[2m\u001b[36m(markers_ray pid=998911)\u001b[0m 2023-02-15 15:53:20,081 cisTopic     INFO     Formatting data for sampleB_CD14+ monocyte_VS_sampleA_CD14+ monocyte\n",
      "\u001b[2m\u001b[36m(markers_ray pid=998911)\u001b[0m 2023-02-15 15:53:20,422 cisTopic     INFO     Computing p-value for sampleB_CD14+ monocyte_VS_sampleA_CD14+ monocyte\n",
      "\u001b[2m\u001b[36m(markers_ray pid=998905)\u001b[0m 2023-02-15 15:53:20,445 cisTopic     INFO     Formatting data for sampleA_B cell_VS_sampleB_B cell\n",
      "\u001b[2m\u001b[36m(markers_ray pid=998905)\u001b[0m 2023-02-15 15:53:20,823 cisTopic     INFO     Computing p-value for sampleA_B cell_VS_sampleB_B cell\n",
      "\u001b[2m\u001b[36m(markers_ray pid=998902)\u001b[0m 2023-02-15 15:53:20,751 cisTopic     INFO     Formatting data for sampleB_B cell_VS_sampleA_B cell\n",
      "\u001b[2m\u001b[36m(markers_ray pid=998902)\u001b[0m 2023-02-15 15:53:21,068 cisTopic     INFO     Computing p-value for sampleB_B cell_VS_sampleA_B cell\n",
      "\u001b[2m\u001b[36m(markers_ray pid=998908)\u001b[0m 2023-02-15 15:53:33,308 cisTopic     INFO     Computing log2FC for sampleA_Natural killer cell_VS_sampleB_Natural killer cell\n",
      "\u001b[2m\u001b[36m(markers_ray pid=998906)\u001b[0m 2023-02-15 15:53:33,773 cisTopic     INFO     Computing log2FC for sampleA_CD4+ T cell_VS_sampleB_CD4+ T cell\n",
      "\u001b[2m\u001b[36m(markers_ray pid=998903)\u001b[0m 2023-02-15 15:53:33,974 cisTopic     INFO     Computing log2FC for sampleB_Natural killer cell_VS_sampleA_Natural killer cell\n",
      "\u001b[2m\u001b[36m(markers_ray pid=998910)\u001b[0m 2023-02-15 15:53:34,321 cisTopic     INFO     Computing log2FC for sampleB_CD4+ T cell_VS_sampleA_CD4+ T cell\n",
      "\u001b[2m\u001b[36m(markers_ray pid=998908)\u001b[0m 2023-02-15 15:53:34,694 cisTopic     INFO     sampleA_Natural killer cell_VS_sampleB_Natural killer cell done!\n",
      "\u001b[2m\u001b[36m(markers_ray pid=998908)\u001b[0m 2023-02-15 15:53:34,712 cisTopic     INFO     Formatting data for sampleA_CD16+ monocyte_VS_sampleB_CD16+ monocyte\n",
      "\u001b[2m\u001b[36m(markers_ray pid=998908)\u001b[0m 2023-02-15 15:53:34,860 cisTopic     INFO     Computing p-value for sampleA_CD16+ monocyte_VS_sampleB_CD16+ monocyte\n",
      "\u001b[2m\u001b[36m(markers_ray pid=998906)\u001b[0m 2023-02-15 15:53:35,187 cisTopic     INFO     sampleA_CD4+ T cell_VS_sampleB_CD4+ T cell done!\n",
      "\u001b[2m\u001b[36m(markers_ray pid=998906)\u001b[0m 2023-02-15 15:53:35,229 cisTopic     INFO     Formatting data for sampleB_CD16+ monocyte_VS_sampleA_CD16+ monocyte\n",
      "\u001b[2m\u001b[36m(markers_ray pid=998907)\u001b[0m 2023-02-15 15:53:35,272 cisTopic     INFO     Computing log2FC for sampleA_CD14+ monocyte_VS_sampleB_CD14+ monocyte\n",
      "\u001b[2m\u001b[36m(markers_ray pid=998906)\u001b[0m 2023-02-15 15:53:35,361 cisTopic     INFO     Computing p-value for sampleB_CD16+ monocyte_VS_sampleA_CD16+ monocyte\n",
      "\u001b[2m\u001b[36m(markers_ray pid=998903)\u001b[0m 2023-02-15 15:53:35,480 cisTopic     INFO     sampleB_Natural killer cell_VS_sampleA_Natural killer cell done!\n",
      "\u001b[2m\u001b[36m(markers_ray pid=998903)\u001b[0m 2023-02-15 15:53:35,500 cisTopic     INFO     Formatting data for sampleA_Dendritic cell_VS_sampleB_Dendritic cell\n",
      "\u001b[2m\u001b[36m(markers_ray pid=998903)\u001b[0m 2023-02-15 15:53:35,604 cisTopic     INFO     Computing p-value for sampleA_Dendritic cell_VS_sampleB_Dendritic cell\n",
      "\u001b[2m\u001b[36m(markers_ray pid=998909)\u001b[0m 2023-02-15 15:53:35,678 cisTopic     INFO     Computing log2FC for sampleA_Cytotoxic T cell_VS_sampleB_Cytotoxic T cell\n",
      "\u001b[2m\u001b[36m(markers_ray pid=998910)\u001b[0m 2023-02-15 15:53:35,769 cisTopic     INFO     sampleB_CD4+ T cell_VS_sampleA_CD4+ T cell done!\n",
      "\u001b[2m\u001b[36m(markers_ray pid=998910)\u001b[0m 2023-02-15 15:53:35,798 cisTopic     INFO     Formatting data for sampleB_Dendritic cell_VS_sampleA_Dendritic cell\n",
      "\u001b[2m\u001b[36m(markers_ray pid=998904)\u001b[0m 2023-02-15 15:53:35,873 cisTopic     INFO     Computing log2FC for sampleB_Cytotoxic T cell_VS_sampleA_Cytotoxic T cell\n",
      "\u001b[2m\u001b[36m(markers_ray pid=998910)\u001b[0m 2023-02-15 15:53:35,914 cisTopic     INFO     Computing p-value for sampleB_Dendritic cell_VS_sampleA_Dendritic cell\n",
      "\u001b[2m\u001b[36m(markers_ray pid=998911)\u001b[0m 2023-02-15 15:53:35,843 cisTopic     INFO     Computing log2FC for sampleB_CD14+ monocyte_VS_sampleA_CD14+ monocyte\n",
      "\u001b[2m\u001b[36m(markers_ray pid=998905)\u001b[0m 2023-02-15 15:53:36,267 cisTopic     INFO     Computing log2FC for sampleA_B cell_VS_sampleB_B cell\n",
      "\u001b[2m\u001b[36m(markers_ray pid=998907)\u001b[0m 2023-02-15 15:53:36,658 cisTopic     INFO     sampleA_CD14+ monocyte_VS_sampleB_CD14+ monocyte done!\n",
      "\u001b[2m\u001b[36m(markers_ray pid=998902)\u001b[0m 2023-02-15 15:53:36,810 cisTopic     INFO     Computing log2FC for sampleB_B cell_VS_sampleA_B cell\n",
      "\u001b[2m\u001b[36m(markers_ray pid=998909)\u001b[0m 2023-02-15 15:53:37,135 cisTopic     INFO     sampleA_Cytotoxic T cell_VS_sampleB_Cytotoxic T cell done!\n",
      "\u001b[2m\u001b[36m(markers_ray pid=998904)\u001b[0m 2023-02-15 15:53:37,294 cisTopic     INFO     sampleB_Cytotoxic T cell_VS_sampleA_Cytotoxic T cell done!\n",
      "\u001b[2m\u001b[36m(markers_ray pid=998911)\u001b[0m 2023-02-15 15:53:37,270 cisTopic     INFO     sampleB_CD14+ monocyte_VS_sampleA_CD14+ monocyte done!\n",
      "\u001b[2m\u001b[36m(markers_ray pid=998905)\u001b[0m 2023-02-15 15:53:37,679 cisTopic     INFO     sampleA_B cell_VS_sampleB_B cell done!\n",
      "\u001b[2m\u001b[36m(markers_ray pid=998902)\u001b[0m 2023-02-15 15:53:38,228 cisTopic     INFO     sampleB_B cell_VS_sampleA_B cell done!\n",
      "\u001b[2m\u001b[36m(markers_ray pid=998908)\u001b[0m 2023-02-15 15:53:49,191 cisTopic     INFO     Computing log2FC for sampleA_CD16+ monocyte_VS_sampleB_CD16+ monocyte\n",
      "\u001b[2m\u001b[36m(markers_ray pid=998906)\u001b[0m 2023-02-15 15:53:49,829 cisTopic     INFO     Computing log2FC for sampleB_CD16+ monocyte_VS_sampleA_CD16+ monocyte\n",
      "\u001b[2m\u001b[36m(markers_ray pid=998910)\u001b[0m 2023-02-15 15:53:50,236 cisTopic     INFO     Computing log2FC for sampleB_Dendritic cell_VS_sampleA_Dendritic cell\n",
      "\u001b[2m\u001b[36m(markers_ray pid=998903)\u001b[0m 2023-02-15 15:53:50,270 cisTopic     INFO     Computing log2FC for sampleA_Dendritic cell_VS_sampleB_Dendritic cell\n",
      "\u001b[2m\u001b[36m(markers_ray pid=998908)\u001b[0m 2023-02-15 15:53:50,581 cisTopic     INFO     sampleA_CD16+ monocyte_VS_sampleB_CD16+ monocyte done!\n",
      "\u001b[2m\u001b[36m(markers_ray pid=998906)\u001b[0m 2023-02-15 15:53:51,204 cisTopic     INFO     sampleB_CD16+ monocyte_VS_sampleA_CD16+ monocyte done!\n",
      "\u001b[2m\u001b[36m(markers_ray pid=998910)\u001b[0m 2023-02-15 15:53:51,634 cisTopic     INFO     sampleB_Dendritic cell_VS_sampleA_Dendritic cell done!\n",
      "\u001b[2m\u001b[36m(markers_ray pid=998903)\u001b[0m 2023-02-15 15:53:51,659 cisTopic     INFO     sampleA_Dendritic cell_VS_sampleB_Dendritic cell done!\n",
      "no DARs found for sampleA_Natural killer cell_VS_sampleB_Natural killer cell in 10xv2_celltypefair_1.FIXEDCELLS\n",
      "no DARs found for sampleB_Natural killer cell_VS_sampleA_Natural killer cell in 10xv2_celltypefair_1.FIXEDCELLS\n",
      "no DARs found for sampleA_CD14+ monocyte_VS_sampleB_CD14+ monocyte in 10xv2_celltypefair_1.FIXEDCELLS\n",
      "no DARs found for sampleB_CD14+ monocyte_VS_sampleA_CD14+ monocyte in 10xv2_celltypefair_1.FIXEDCELLS\n",
      "no DARs found for sampleA_CD16+ monocyte_VS_sampleB_CD16+ monocyte in 10xv2_celltypefair_1.FIXEDCELLS\n",
      "no DARs found for sampleB_CD16+ monocyte_VS_sampleA_CD16+ monocyte in 10xv2_celltypefair_1.FIXEDCELLS\n",
      "no DARs found for sampleA_Dendritic cell_VS_sampleB_Dendritic cell in 10xv2_celltypefair_1.FIXEDCELLS\n",
      "no DARs found for sampleB_Dendritic cell_VS_sampleA_Dendritic cell in 10xv2_celltypefair_1.FIXEDCELLS\n",
      "Loading downstream_analysis/imputed_acc_objs/ddseq_celltypefair_1.FIXEDCELLS__imputed_acc_obs.pkl\n",
      "Loading downstream_analysis/HVRs/ddseq_celltypefair_1.FIXEDCELLS__HVRs.pkl\n",
      "Cytotoxic T cell\n",
      "CD4+ T cell\n",
      "Natural killer cell\n",
      "CD14+ monocyte\n",
      "B cell\n",
      "CD16+ monocyte\n",
      "Dendritic cell\n"
     ]
    },
    {
     "name": "stderr",
     "output_type": "stream",
     "text": [
      "2023-02-15 15:54:02,852\tINFO services.py:1470 -- View the Ray dashboard at \u001b[1m\u001b[32mhttp://127.0.0.1:8265\u001b[39m\u001b[22m\n"
     ]
    },
    {
     "name": "stdout",
     "output_type": "stream",
     "text": [
      "\u001b[2m\u001b[36m(markers_ray pid=999597)\u001b[0m 2023-02-15 15:54:06,753 cisTopic     INFO     Formatting data for sampleA_Cytotoxic T cell_VS_sampleB_Cytotoxic T cell\n",
      "\u001b[2m\u001b[36m(markers_ray pid=999605)\u001b[0m 2023-02-15 15:54:07,012 cisTopic     INFO     Formatting data for sampleB_Cytotoxic T cell_VS_sampleA_Cytotoxic T cell\n",
      "\u001b[2m\u001b[36m(markers_ray pid=999597)\u001b[0m 2023-02-15 15:54:07,104 cisTopic     INFO     Computing p-value for sampleA_Cytotoxic T cell_VS_sampleB_Cytotoxic T cell\n",
      "\u001b[2m\u001b[36m(markers_ray pid=999600)\u001b[0m 2023-02-15 15:54:07,336 cisTopic     INFO     Formatting data for sampleA_CD4+ T cell_VS_sampleB_CD4+ T cell\n",
      "\u001b[2m\u001b[36m(markers_ray pid=999605)\u001b[0m 2023-02-15 15:54:07,421 cisTopic     INFO     Computing p-value for sampleB_Cytotoxic T cell_VS_sampleA_Cytotoxic T cell\n",
      "\u001b[2m\u001b[36m(markers_ray pid=999600)\u001b[0m 2023-02-15 15:54:07,551 cisTopic     INFO     Computing p-value for sampleA_CD4+ T cell_VS_sampleB_CD4+ T cell\n",
      "\u001b[2m\u001b[36m(markers_ray pid=999599)\u001b[0m 2023-02-15 15:54:07,627 cisTopic     INFO     Formatting data for sampleB_CD4+ T cell_VS_sampleA_CD4+ T cell\n",
      "\u001b[2m\u001b[36m(markers_ray pid=999599)\u001b[0m 2023-02-15 15:54:07,833 cisTopic     INFO     Computing p-value for sampleB_CD4+ T cell_VS_sampleA_CD4+ T cell\n",
      "\u001b[2m\u001b[36m(markers_ray pid=999601)\u001b[0m 2023-02-15 15:54:07,886 cisTopic     INFO     Formatting data for sampleA_Natural killer cell_VS_sampleB_Natural killer cell\n",
      "\u001b[2m\u001b[36m(markers_ray pid=999601)\u001b[0m 2023-02-15 15:54:07,959 cisTopic     INFO     Computing p-value for sampleA_Natural killer cell_VS_sampleB_Natural killer cell\n",
      "\u001b[2m\u001b[36m(markers_ray pid=999602)\u001b[0m 2023-02-15 15:54:08,138 cisTopic     INFO     Formatting data for sampleB_Natural killer cell_VS_sampleA_Natural killer cell\n",
      "\u001b[2m\u001b[36m(markers_ray pid=999602)\u001b[0m 2023-02-15 15:54:08,211 cisTopic     INFO     Computing p-value for sampleB_Natural killer cell_VS_sampleA_Natural killer cell\n",
      "\u001b[2m\u001b[36m(markers_ray pid=999604)\u001b[0m 2023-02-15 15:54:08,330 cisTopic     INFO     Formatting data for sampleA_CD14+ monocyte_VS_sampleB_CD14+ monocyte\n",
      "\u001b[2m\u001b[36m(markers_ray pid=999604)\u001b[0m 2023-02-15 15:54:08,469 cisTopic     INFO     Computing p-value for sampleA_CD14+ monocyte_VS_sampleB_CD14+ monocyte\n",
      "\u001b[2m\u001b[36m(markers_ray pid=999606)\u001b[0m 2023-02-15 15:54:08,612 cisTopic     INFO     Formatting data for sampleB_CD14+ monocyte_VS_sampleA_CD14+ monocyte\n",
      "\u001b[2m\u001b[36m(markers_ray pid=999606)\u001b[0m 2023-02-15 15:54:08,771 cisTopic     INFO     Computing p-value for sampleB_CD14+ monocyte_VS_sampleA_CD14+ monocyte\n",
      "\u001b[2m\u001b[36m(markers_ray pid=999598)\u001b[0m 2023-02-15 15:54:08,883 cisTopic     INFO     Formatting data for sampleA_B cell_VS_sampleB_B cell\n",
      "\u001b[2m\u001b[36m(markers_ray pid=999598)\u001b[0m 2023-02-15 15:54:09,042 cisTopic     INFO     Computing p-value for sampleA_B cell_VS_sampleB_B cell\n",
      "\u001b[2m\u001b[36m(markers_ray pid=999603)\u001b[0m 2023-02-15 15:54:09,131 cisTopic     INFO     Formatting data for sampleB_B cell_VS_sampleA_B cell\n",
      "\u001b[2m\u001b[36m(markers_ray pid=999603)\u001b[0m 2023-02-15 15:54:09,303 cisTopic     INFO     Computing p-value for sampleB_B cell_VS_sampleA_B cell\n",
      "\u001b[2m\u001b[36m(markers_ray pid=999600)\u001b[0m 2023-02-15 15:54:18,657 cisTopic     INFO     Computing log2FC for sampleA_CD4+ T cell_VS_sampleB_CD4+ T cell\n",
      "\u001b[2m\u001b[36m(markers_ray pid=999601)\u001b[0m 2023-02-15 15:54:18,596 cisTopic     INFO     Computing log2FC for sampleA_Natural killer cell_VS_sampleB_Natural killer cell\n",
      "\u001b[2m\u001b[36m(markers_ray pid=999602)\u001b[0m 2023-02-15 15:54:18,716 cisTopic     INFO     Computing log2FC for sampleB_Natural killer cell_VS_sampleA_Natural killer cell\n",
      "\u001b[2m\u001b[36m(markers_ray pid=999599)\u001b[0m 2023-02-15 15:54:19,019 cisTopic     INFO     Computing log2FC for sampleB_CD4+ T cell_VS_sampleA_CD4+ T cell\n",
      "\u001b[2m\u001b[36m(markers_ray pid=999597)\u001b[0m 2023-02-15 15:54:19,342 cisTopic     INFO     Computing log2FC for sampleA_Cytotoxic T cell_VS_sampleB_Cytotoxic T cell\n",
      "\u001b[2m\u001b[36m(markers_ray pid=999604)\u001b[0m 2023-02-15 15:54:19,555 cisTopic     INFO     Computing log2FC for sampleA_CD14+ monocyte_VS_sampleB_CD14+ monocyte\n",
      "\u001b[2m\u001b[36m(markers_ray pid=999600)\u001b[0m 2023-02-15 15:54:19,702 cisTopic     INFO     sampleA_CD4+ T cell_VS_sampleB_CD4+ T cell done!\n",
      "\u001b[2m\u001b[36m(markers_ray pid=999600)\u001b[0m 2023-02-15 15:54:19,715 cisTopic     INFO     Formatting data for sampleB_CD16+ monocyte_VS_sampleA_CD16+ monocyte\n",
      "\u001b[2m\u001b[36m(markers_ray pid=999601)\u001b[0m 2023-02-15 15:54:19,647 cisTopic     INFO     sampleA_Natural killer cell_VS_sampleB_Natural killer cell done!\n",
      "\u001b[2m\u001b[36m(markers_ray pid=999601)\u001b[0m 2023-02-15 15:54:19,673 cisTopic     INFO     Formatting data for sampleA_CD16+ monocyte_VS_sampleB_CD16+ monocyte\n",
      "\u001b[2m\u001b[36m(markers_ray pid=999605)\u001b[0m 2023-02-15 15:54:19,774 cisTopic     INFO     Computing log2FC for sampleB_Cytotoxic T cell_VS_sampleA_Cytotoxic T cell\n",
      "\u001b[2m\u001b[36m(markers_ray pid=999600)\u001b[0m 2023-02-15 15:54:19,791 cisTopic     INFO     Computing p-value for sampleB_CD16+ monocyte_VS_sampleA_CD16+ monocyte\n",
      "\u001b[2m\u001b[36m(markers_ray pid=999601)\u001b[0m 2023-02-15 15:54:19,754 cisTopic     INFO     Computing p-value for sampleA_CD16+ monocyte_VS_sampleB_CD16+ monocyte\n",
      "\u001b[2m\u001b[36m(markers_ray pid=999602)\u001b[0m 2023-02-15 15:54:19,761 cisTopic     INFO     sampleB_Natural killer cell_VS_sampleA_Natural killer cell done!\n",
      "\u001b[2m\u001b[36m(markers_ray pid=999602)\u001b[0m 2023-02-15 15:54:19,787 cisTopic     INFO     Formatting data for sampleA_Dendritic cell_VS_sampleB_Dendritic cell\n",
      "\u001b[2m\u001b[36m(markers_ray pid=999602)\u001b[0m 2023-02-15 15:54:19,843 cisTopic     INFO     Computing p-value for sampleA_Dendritic cell_VS_sampleB_Dendritic cell\n",
      "\u001b[2m\u001b[36m(markers_ray pid=999606)\u001b[0m 2023-02-15 15:54:19,825 cisTopic     INFO     Computing log2FC for sampleB_CD14+ monocyte_VS_sampleA_CD14+ monocyte\n",
      "\u001b[2m\u001b[36m(markers_ray pid=999599)\u001b[0m 2023-02-15 15:54:20,059 cisTopic     INFO     sampleB_CD4+ T cell_VS_sampleA_CD4+ T cell done!\n",
      "\u001b[2m\u001b[36m(markers_ray pid=999598)\u001b[0m 2023-02-15 15:54:20,067 cisTopic     INFO     Computing log2FC for sampleA_B cell_VS_sampleB_B cell\n",
      "\u001b[2m\u001b[36m(markers_ray pid=999599)\u001b[0m 2023-02-15 15:54:20,072 cisTopic     INFO     Formatting data for sampleB_Dendritic cell_VS_sampleA_Dendritic cell\n",
      "\u001b[2m\u001b[36m(markers_ray pid=999599)\u001b[0m 2023-02-15 15:54:20,125 cisTopic     INFO     Computing p-value for sampleB_Dendritic cell_VS_sampleA_Dendritic cell\n",
      "\u001b[2m\u001b[36m(markers_ray pid=999603)\u001b[0m 2023-02-15 15:54:20,272 cisTopic     INFO     Computing log2FC for sampleB_B cell_VS_sampleA_B cell\n",
      "\u001b[2m\u001b[36m(markers_ray pid=999597)\u001b[0m 2023-02-15 15:54:20,403 cisTopic     INFO     sampleA_Cytotoxic T cell_VS_sampleB_Cytotoxic T cell done!\n",
      "\u001b[2m\u001b[36m(markers_ray pid=999604)\u001b[0m 2023-02-15 15:54:20,635 cisTopic     INFO     sampleA_CD14+ monocyte_VS_sampleB_CD14+ monocyte done!\n",
      "\u001b[2m\u001b[36m(markers_ray pid=999605)\u001b[0m 2023-02-15 15:54:20,848 cisTopic     INFO     sampleB_Cytotoxic T cell_VS_sampleA_Cytotoxic T cell done!\n",
      "\u001b[2m\u001b[36m(markers_ray pid=999606)\u001b[0m 2023-02-15 15:54:20,896 cisTopic     INFO     sampleB_CD14+ monocyte_VS_sampleA_CD14+ monocyte done!\n",
      "\u001b[2m\u001b[36m(markers_ray pid=999598)\u001b[0m 2023-02-15 15:54:21,132 cisTopic     INFO     sampleA_B cell_VS_sampleB_B cell done!\n",
      "\u001b[2m\u001b[36m(markers_ray pid=999603)\u001b[0m 2023-02-15 15:54:21,325 cisTopic     INFO     sampleB_B cell_VS_sampleA_B cell done!\n",
      "\u001b[2m\u001b[36m(markers_ray pid=999600)\u001b[0m 2023-02-15 15:54:30,290 cisTopic     INFO     Computing log2FC for sampleB_CD16+ monocyte_VS_sampleA_CD16+ monocyte\n",
      "\u001b[2m\u001b[36m(markers_ray pid=999602)\u001b[0m 2023-02-15 15:54:30,431 cisTopic     INFO     Computing log2FC for sampleA_Dendritic cell_VS_sampleB_Dendritic cell\n",
      "\u001b[2m\u001b[36m(markers_ray pid=999599)\u001b[0m 2023-02-15 15:54:30,538 cisTopic     INFO     Computing log2FC for sampleB_Dendritic cell_VS_sampleA_Dendritic cell\n",
      "\u001b[2m\u001b[36m(markers_ray pid=999601)\u001b[0m 2023-02-15 15:54:30,508 cisTopic     INFO     Computing log2FC for sampleA_CD16+ monocyte_VS_sampleB_CD16+ monocyte\n",
      "\u001b[2m\u001b[36m(markers_ray pid=999600)\u001b[0m 2023-02-15 15:54:31,323 cisTopic     INFO     sampleB_CD16+ monocyte_VS_sampleA_CD16+ monocyte done!\n",
      "\u001b[2m\u001b[36m(markers_ray pid=999602)\u001b[0m 2023-02-15 15:54:31,483 cisTopic     INFO     sampleA_Dendritic cell_VS_sampleB_Dendritic cell done!\n",
      "no DARs found for sampleA_CD4+ T cell_VS_sampleB_CD4+ T cell in ddseq_celltypefair_1.FIXEDCELLS\n",
      "no DARs found for sampleB_CD4+ T cell_VS_sampleA_CD4+ T cell in ddseq_celltypefair_1.FIXEDCELLS\n",
      "no DARs found for sampleA_Natural killer cell_VS_sampleB_Natural killer cell in ddseq_celltypefair_1.FIXEDCELLS\n",
      "no DARs found for sampleB_Natural killer cell_VS_sampleA_Natural killer cell in ddseq_celltypefair_1.FIXEDCELLS\n",
      "no DARs found for sampleA_B cell_VS_sampleB_B cell in ddseq_celltypefair_1.FIXEDCELLS\n",
      "no DARs found for sampleB_B cell_VS_sampleA_B cell in ddseq_celltypefair_1.FIXEDCELLS\n",
      "no DARs found for sampleA_CD16+ monocyte_VS_sampleB_CD16+ monocyte in ddseq_celltypefair_1.FIXEDCELLS\n",
      "no DARs found for sampleB_CD16+ monocyte_VS_sampleA_CD16+ monocyte in ddseq_celltypefair_1.FIXEDCELLS\n",
      "no DARs found for sampleA_Dendritic cell_VS_sampleB_Dendritic cell in ddseq_celltypefair_1.FIXEDCELLS\n",
      "no DARs found for sampleB_Dendritic cell_VS_sampleA_Dendritic cell in ddseq_celltypefair_1.FIXEDCELLS\n",
      "Loading downstream_analysis/imputed_acc_objs/hydrop_celltypefair_1.FIXEDCELLS__imputed_acc_obs.pkl\n",
      "Loading downstream_analysis/HVRs/hydrop_celltypefair_1.FIXEDCELLS__HVRs.pkl\n",
      "Cytotoxic T cell\n",
      "CD4+ T cell\n",
      "Natural killer cell\n",
      "CD14+ monocyte\n",
      "B cell\n",
      "CD16+ monocyte\n",
      "Dendritic cell\n"
     ]
    },
    {
     "name": "stderr",
     "output_type": "stream",
     "text": [
      "2023-02-15 15:54:41,135\tINFO services.py:1470 -- View the Ray dashboard at \u001b[1m\u001b[32mhttp://127.0.0.1:8265\u001b[39m\u001b[22m\n"
     ]
    },
    {
     "name": "stdout",
     "output_type": "stream",
     "text": [
      "\u001b[2m\u001b[36m(markers_ray pid=1000257)\u001b[0m 2023-02-15 15:54:45,178 cisTopic     INFO     Formatting data for sampleA_Cytotoxic T cell_VS_sampleB_Cytotoxic T cell\n",
      "\u001b[2m\u001b[36m(markers_ray pid=1000263)\u001b[0m 2023-02-15 15:54:45,410 cisTopic     INFO     Formatting data for sampleB_Cytotoxic T cell_VS_sampleA_Cytotoxic T cell\n",
      "\u001b[2m\u001b[36m(markers_ray pid=1000258)\u001b[0m 2023-02-15 15:54:45,818 cisTopic     INFO     Formatting data for sampleA_CD4+ T cell_VS_sampleB_CD4+ T cell\n",
      "\u001b[2m\u001b[36m(markers_ray pid=1000262)\u001b[0m 2023-02-15 15:54:46,118 cisTopic     INFO     Formatting data for sampleB_CD4+ T cell_VS_sampleA_CD4+ T cell\n",
      "\u001b[2m\u001b[36m(markers_ray pid=1000257)\u001b[0m 2023-02-15 15:54:46,459 cisTopic     INFO     Computing p-value for sampleA_Cytotoxic T cell_VS_sampleB_Cytotoxic T cell\n",
      "\u001b[2m\u001b[36m(markers_ray pid=1000256)\u001b[0m 2023-02-15 15:54:46,412 cisTopic     INFO     Formatting data for sampleA_Natural killer cell_VS_sampleB_Natural killer cell\n",
      "\u001b[2m\u001b[36m(markers_ray pid=1000258)\u001b[0m 2023-02-15 15:54:46,546 cisTopic     INFO     Computing p-value for sampleA_CD4+ T cell_VS_sampleB_CD4+ T cell\n",
      "\u001b[2m\u001b[36m(markers_ray pid=1000256)\u001b[0m 2023-02-15 15:54:46,546 cisTopic     INFO     Computing p-value for sampleA_Natural killer cell_VS_sampleB_Natural killer cell\n",
      "\u001b[2m\u001b[36m(markers_ray pid=1000263)\u001b[0m 2023-02-15 15:54:46,699 cisTopic     INFO     Computing p-value for sampleB_Cytotoxic T cell_VS_sampleA_Cytotoxic T cell\n",
      "\u001b[2m\u001b[36m(markers_ray pid=1000262)\u001b[0m 2023-02-15 15:54:46,827 cisTopic     INFO     Computing p-value for sampleB_CD4+ T cell_VS_sampleA_CD4+ T cell\n",
      "\u001b[2m\u001b[36m(markers_ray pid=1000265)\u001b[0m 2023-02-15 15:54:46,816 cisTopic     INFO     Formatting data for sampleB_Natural killer cell_VS_sampleA_Natural killer cell\n",
      "\u001b[2m\u001b[36m(markers_ray pid=1000265)\u001b[0m 2023-02-15 15:54:46,952 cisTopic     INFO     Computing p-value for sampleB_Natural killer cell_VS_sampleA_Natural killer cell\n",
      "\u001b[2m\u001b[36m(markers_ray pid=1000264)\u001b[0m 2023-02-15 15:54:47,199 cisTopic     INFO     Formatting data for sampleA_CD14+ monocyte_VS_sampleB_CD14+ monocyte\n",
      "\u001b[2m\u001b[36m(markers_ray pid=1000259)\u001b[0m 2023-02-15 15:54:47,445 cisTopic     INFO     Formatting data for sampleB_CD14+ monocyte_VS_sampleA_CD14+ monocyte\n",
      "\u001b[2m\u001b[36m(markers_ray pid=1000264)\u001b[0m 2023-02-15 15:54:47,661 cisTopic     INFO     Computing p-value for sampleA_CD14+ monocyte_VS_sampleB_CD14+ monocyte\n",
      "\u001b[2m\u001b[36m(markers_ray pid=1000261)\u001b[0m 2023-02-15 15:54:47,785 cisTopic     INFO     Formatting data for sampleA_B cell_VS_sampleB_B cell\n",
      "\u001b[2m\u001b[36m(markers_ray pid=1000259)\u001b[0m 2023-02-15 15:54:47,853 cisTopic     INFO     Computing p-value for sampleB_CD14+ monocyte_VS_sampleA_CD14+ monocyte\n",
      "\u001b[2m\u001b[36m(markers_ray pid=1000261)\u001b[0m 2023-02-15 15:54:48,164 cisTopic     INFO     Computing p-value for sampleA_B cell_VS_sampleB_B cell\n",
      "\u001b[2m\u001b[36m(markers_ray pid=1000260)\u001b[0m 2023-02-15 15:54:48,168 cisTopic     INFO     Formatting data for sampleB_B cell_VS_sampleA_B cell\n",
      "\u001b[2m\u001b[36m(markers_ray pid=1000260)\u001b[0m 2023-02-15 15:54:48,529 cisTopic     INFO     Computing p-value for sampleB_B cell_VS_sampleA_B cell\n",
      "\u001b[2m\u001b[36m(markers_ray pid=1000256)\u001b[0m 2023-02-15 15:55:00,072 cisTopic     INFO     Computing log2FC for sampleA_Natural killer cell_VS_sampleB_Natural killer cell\n",
      "\u001b[2m\u001b[36m(markers_ray pid=1000265)\u001b[0m 2023-02-15 15:55:00,656 cisTopic     INFO     Computing log2FC for sampleB_Natural killer cell_VS_sampleA_Natural killer cell\n",
      "\u001b[2m\u001b[36m(markers_ray pid=1000256)\u001b[0m 2023-02-15 15:55:01,397 cisTopic     INFO     sampleA_Natural killer cell_VS_sampleB_Natural killer cell done!\n",
      "\u001b[2m\u001b[36m(markers_ray pid=1000256)\u001b[0m 2023-02-15 15:55:01,424 cisTopic     INFO     Formatting data for sampleA_CD16+ monocyte_VS_sampleB_CD16+ monocyte\n",
      "\u001b[2m\u001b[36m(markers_ray pid=1000256)\u001b[0m 2023-02-15 15:55:01,558 cisTopic     INFO     Computing p-value for sampleA_CD16+ monocyte_VS_sampleB_CD16+ monocyte\n",
      "\u001b[2m\u001b[36m(markers_ray pid=1000265)\u001b[0m 2023-02-15 15:55:02,041 cisTopic     INFO     sampleB_Natural killer cell_VS_sampleA_Natural killer cell done!\n",
      "\u001b[2m\u001b[36m(markers_ray pid=1000265)\u001b[0m 2023-02-15 15:55:02,070 cisTopic     INFO     Formatting data for sampleB_CD16+ monocyte_VS_sampleA_CD16+ monocyte\n",
      "\u001b[2m\u001b[36m(markers_ray pid=1000265)\u001b[0m 2023-02-15 15:55:02,217 cisTopic     INFO     Computing p-value for sampleB_CD16+ monocyte_VS_sampleA_CD16+ monocyte\n",
      "\u001b[2m\u001b[36m(markers_ray pid=1000258)\u001b[0m 2023-02-15 15:55:02,909 cisTopic     INFO     Computing log2FC for sampleA_CD4+ T cell_VS_sampleB_CD4+ T cell\n",
      "\u001b[2m\u001b[36m(markers_ray pid=1000261)\u001b[0m 2023-02-15 15:55:03,013 cisTopic     INFO     Computing log2FC for sampleA_B cell_VS_sampleB_B cell\n",
      "\u001b[2m\u001b[36m(markers_ray pid=1000264)\u001b[0m 2023-02-15 15:55:03,232 cisTopic     INFO     Computing log2FC for sampleA_CD14+ monocyte_VS_sampleB_CD14+ monocyte\n",
      "\u001b[2m\u001b[36m(markers_ray pid=1000262)\u001b[0m 2023-02-15 15:55:03,477 cisTopic     INFO     Computing log2FC for sampleB_CD4+ T cell_VS_sampleA_CD4+ T cell\n",
      "\u001b[2m\u001b[36m(markers_ray pid=1000259)\u001b[0m 2023-02-15 15:55:03,437 cisTopic     INFO     Computing log2FC for sampleB_CD14+ monocyte_VS_sampleA_CD14+ monocyte\n",
      "\u001b[2m\u001b[36m(markers_ray pid=1000260)\u001b[0m 2023-02-15 15:55:03,483 cisTopic     INFO     Computing log2FC for sampleB_B cell_VS_sampleA_B cell\n",
      "\u001b[2m\u001b[36m(markers_ray pid=1000258)\u001b[0m 2023-02-15 15:55:04,225 cisTopic     INFO     sampleA_CD4+ T cell_VS_sampleB_CD4+ T cell done!\n",
      "\u001b[2m\u001b[36m(markers_ray pid=1000258)\u001b[0m 2023-02-15 15:55:04,242 cisTopic     INFO     Formatting data for sampleA_Dendritic cell_VS_sampleB_Dendritic cell\n",
      "\u001b[2m\u001b[36m(markers_ray pid=1000258)\u001b[0m 2023-02-15 15:55:04,346 cisTopic     INFO     Computing p-value for sampleA_Dendritic cell_VS_sampleB_Dendritic cell\n",
      "\u001b[2m\u001b[36m(markers_ray pid=1000261)\u001b[0m 2023-02-15 15:55:04,333 cisTopic     INFO     sampleA_B cell_VS_sampleB_B cell done!\n",
      "\u001b[2m\u001b[36m(markers_ray pid=1000261)\u001b[0m 2023-02-15 15:55:04,360 cisTopic     INFO     Formatting data for sampleB_Dendritic cell_VS_sampleA_Dendritic cell\n",
      "\u001b[2m\u001b[36m(markers_ray pid=1000261)\u001b[0m 2023-02-15 15:55:04,469 cisTopic     INFO     Computing p-value for sampleB_Dendritic cell_VS_sampleA_Dendritic cell\n",
      "\u001b[2m\u001b[36m(markers_ray pid=1000264)\u001b[0m 2023-02-15 15:55:04,597 cisTopic     INFO     sampleA_CD14+ monocyte_VS_sampleB_CD14+ monocyte done!\n",
      "\u001b[2m\u001b[36m(markers_ray pid=1000259)\u001b[0m 2023-02-15 15:55:04,778 cisTopic     INFO     sampleB_CD14+ monocyte_VS_sampleA_CD14+ monocyte done!\n",
      "\u001b[2m\u001b[36m(markers_ray pid=1000262)\u001b[0m 2023-02-15 15:55:04,820 cisTopic     INFO     sampleB_CD4+ T cell_VS_sampleA_CD4+ T cell done!\n",
      "\u001b[2m\u001b[36m(markers_ray pid=1000260)\u001b[0m 2023-02-15 15:55:04,823 cisTopic     INFO     sampleB_B cell_VS_sampleA_B cell done!\n",
      "\u001b[2m\u001b[36m(markers_ray pid=1000257)\u001b[0m 2023-02-15 15:55:06,607 cisTopic     INFO     Computing log2FC for sampleA_Cytotoxic T cell_VS_sampleB_Cytotoxic T cell\n",
      "\u001b[2m\u001b[36m(markers_ray pid=1000263)\u001b[0m 2023-02-15 15:55:06,885 cisTopic     INFO     Computing log2FC for sampleB_Cytotoxic T cell_VS_sampleA_Cytotoxic T cell\n",
      "\u001b[2m\u001b[36m(markers_ray pid=1000257)\u001b[0m 2023-02-15 15:55:07,974 cisTopic     INFO     sampleA_Cytotoxic T cell_VS_sampleB_Cytotoxic T cell done!\n",
      "\u001b[2m\u001b[36m(markers_ray pid=1000263)\u001b[0m 2023-02-15 15:55:08,271 cisTopic     INFO     sampleB_Cytotoxic T cell_VS_sampleA_Cytotoxic T cell done!\n",
      "\u001b[2m\u001b[36m(markers_ray pid=1000256)\u001b[0m 2023-02-15 15:55:15,266 cisTopic     INFO     Computing log2FC for sampleA_CD16+ monocyte_VS_sampleB_CD16+ monocyte\n",
      "\u001b[2m\u001b[36m(markers_ray pid=1000265)\u001b[0m 2023-02-15 15:55:15,911 cisTopic     INFO     Computing log2FC for sampleB_CD16+ monocyte_VS_sampleA_CD16+ monocyte\n",
      "\u001b[2m\u001b[36m(markers_ray pid=1000256)\u001b[0m 2023-02-15 15:55:16,589 cisTopic     INFO     sampleA_CD16+ monocyte_VS_sampleB_CD16+ monocyte done!\n",
      "\u001b[2m\u001b[36m(markers_ray pid=1000265)\u001b[0m 2023-02-15 15:55:17,288 cisTopic     INFO     sampleB_CD16+ monocyte_VS_sampleA_CD16+ monocyte done!\n",
      "\u001b[2m\u001b[36m(markers_ray pid=1000258)\u001b[0m 2023-02-15 15:55:17,793 cisTopic     INFO     Computing log2FC for sampleA_Dendritic cell_VS_sampleB_Dendritic cell\n",
      "\u001b[2m\u001b[36m(markers_ray pid=1000261)\u001b[0m 2023-02-15 15:55:17,882 cisTopic     INFO     Computing log2FC for sampleB_Dendritic cell_VS_sampleA_Dendritic cell\n",
      "\u001b[2m\u001b[36m(markers_ray pid=1000258)\u001b[0m 2023-02-15 15:55:19,106 cisTopic     INFO     sampleA_Dendritic cell_VS_sampleB_Dendritic cell done!\n",
      "no DARs found for sampleA_CD4+ T cell_VS_sampleB_CD4+ T cell in hydrop_celltypefair_1.FIXEDCELLS\n",
      "no DARs found for sampleA_Natural killer cell_VS_sampleB_Natural killer cell in hydrop_celltypefair_1.FIXEDCELLS\n",
      "no DARs found for sampleB_Natural killer cell_VS_sampleA_Natural killer cell in hydrop_celltypefair_1.FIXEDCELLS\n",
      "no DARs found for sampleA_CD14+ monocyte_VS_sampleB_CD14+ monocyte in hydrop_celltypefair_1.FIXEDCELLS\n",
      "no DARs found for sampleB_CD14+ monocyte_VS_sampleA_CD14+ monocyte in hydrop_celltypefair_1.FIXEDCELLS\n",
      "no DARs found for sampleB_B cell_VS_sampleA_B cell in hydrop_celltypefair_1.FIXEDCELLS\n",
      "no DARs found for sampleA_CD16+ monocyte_VS_sampleB_CD16+ monocyte in hydrop_celltypefair_1.FIXEDCELLS\n",
      "no DARs found for sampleB_CD16+ monocyte_VS_sampleA_CD16+ monocyte in hydrop_celltypefair_1.FIXEDCELLS\n",
      "no DARs found for sampleA_Dendritic cell_VS_sampleB_Dendritic cell in hydrop_celltypefair_1.FIXEDCELLS\n",
      "no DARs found for sampleB_Dendritic cell_VS_sampleA_Dendritic cell in hydrop_celltypefair_1.FIXEDCELLS\n",
      "Loading downstream_analysis/imputed_acc_objs/mtscatac_celltypefair_1.FIXEDCELLS__imputed_acc_obs.pkl\n",
      "Loading downstream_analysis/HVRs/mtscatac_celltypefair_1.FIXEDCELLS__HVRs.pkl\n",
      "Cytotoxic T cell\n",
      "CD4+ T cell\n",
      "Natural killer cell\n",
      "CD14+ monocyte\n",
      "B cell\n",
      "CD16+ monocyte\n",
      "Dendritic cell\n"
     ]
    },
    {
     "name": "stderr",
     "output_type": "stream",
     "text": [
      "2023-02-15 15:55:29,834\tINFO services.py:1470 -- View the Ray dashboard at \u001b[1m\u001b[32mhttp://127.0.0.1:8265\u001b[39m\u001b[22m\n"
     ]
    },
    {
     "name": "stdout",
     "output_type": "stream",
     "text": [
      "\u001b[2m\u001b[36m(markers_ray pid=1001590)\u001b[0m 2023-02-15 15:55:33,826 cisTopic     INFO     Formatting data for sampleA_Cytotoxic T cell_VS_sampleB_Cytotoxic T cell\n",
      "\u001b[2m\u001b[36m(markers_ray pid=1001586)\u001b[0m 2023-02-15 15:55:34,340 cisTopic     INFO     Formatting data for sampleB_Cytotoxic T cell_VS_sampleA_Cytotoxic T cell\n",
      "\u001b[2m\u001b[36m(markers_ray pid=1001593)\u001b[0m 2023-02-15 15:55:34,675 cisTopic     INFO     Formatting data for sampleA_CD4+ T cell_VS_sampleB_CD4+ T cell\n",
      "\u001b[2m\u001b[36m(markers_ray pid=1001589)\u001b[0m 2023-02-15 15:55:35,120 cisTopic     INFO     Formatting data for sampleB_CD4+ T cell_VS_sampleA_CD4+ T cell\n",
      "\u001b[2m\u001b[36m(markers_ray pid=1001592)\u001b[0m 2023-02-15 15:55:35,482 cisTopic     INFO     Formatting data for sampleA_Natural killer cell_VS_sampleB_Natural killer cell\n",
      "\u001b[2m\u001b[36m(markers_ray pid=1001592)\u001b[0m 2023-02-15 15:55:35,735 cisTopic     INFO     Computing p-value for sampleA_Natural killer cell_VS_sampleB_Natural killer cell\n",
      "\u001b[2m\u001b[36m(markers_ray pid=1001593)\u001b[0m 2023-02-15 15:55:35,829 cisTopic     INFO     Computing p-value for sampleA_CD4+ T cell_VS_sampleB_CD4+ T cell\n",
      "\u001b[2m\u001b[36m(markers_ray pid=1001590)\u001b[0m 2023-02-15 15:55:35,875 cisTopic     INFO     Computing p-value for sampleA_Cytotoxic T cell_VS_sampleB_Cytotoxic T cell\n",
      "\u001b[2m\u001b[36m(markers_ray pid=1001585)\u001b[0m 2023-02-15 15:55:36,070 cisTopic     INFO     Formatting data for sampleB_Natural killer cell_VS_sampleA_Natural killer cell\n",
      "\u001b[2m\u001b[36m(markers_ray pid=1001586)\u001b[0m 2023-02-15 15:55:36,163 cisTopic     INFO     Computing p-value for sampleB_Cytotoxic T cell_VS_sampleA_Cytotoxic T cell\n",
      "\u001b[2m\u001b[36m(markers_ray pid=1001589)\u001b[0m 2023-02-15 15:55:36,295 cisTopic     INFO     Computing p-value for sampleB_CD4+ T cell_VS_sampleA_CD4+ T cell\n",
      "\u001b[2m\u001b[36m(markers_ray pid=1001585)\u001b[0m 2023-02-15 15:55:36,320 cisTopic     INFO     Computing p-value for sampleB_Natural killer cell_VS_sampleA_Natural killer cell\n",
      "\u001b[2m\u001b[36m(markers_ray pid=1001588)\u001b[0m 2023-02-15 15:55:36,306 cisTopic     INFO     Formatting data for sampleA_CD14+ monocyte_VS_sampleB_CD14+ monocyte\n",
      "\u001b[2m\u001b[36m(markers_ray pid=1001594)\u001b[0m 2023-02-15 15:55:36,799 cisTopic     INFO     Formatting data for sampleB_CD14+ monocyte_VS_sampleA_CD14+ monocyte\n",
      "\u001b[2m\u001b[36m(markers_ray pid=1001588)\u001b[0m 2023-02-15 15:55:37,225 cisTopic     INFO     Computing p-value for sampleA_CD14+ monocyte_VS_sampleB_CD14+ monocyte\n",
      "\u001b[2m\u001b[36m(markers_ray pid=1001591)\u001b[0m 2023-02-15 15:55:37,227 cisTopic     INFO     Formatting data for sampleA_B cell_VS_sampleB_B cell\n",
      "\u001b[2m\u001b[36m(markers_ray pid=1001587)\u001b[0m 2023-02-15 15:55:37,589 cisTopic     INFO     Formatting data for sampleB_B cell_VS_sampleA_B cell\n",
      "\u001b[2m\u001b[36m(markers_ray pid=1001594)\u001b[0m 2023-02-15 15:55:37,704 cisTopic     INFO     Computing p-value for sampleB_CD14+ monocyte_VS_sampleA_CD14+ monocyte\n",
      "\u001b[2m\u001b[36m(markers_ray pid=1001591)\u001b[0m 2023-02-15 15:55:37,833 cisTopic     INFO     Computing p-value for sampleA_B cell_VS_sampleB_B cell\n",
      "\u001b[2m\u001b[36m(markers_ray pid=1001587)\u001b[0m 2023-02-15 15:55:38,272 cisTopic     INFO     Computing p-value for sampleB_B cell_VS_sampleA_B cell\n",
      "\u001b[2m\u001b[36m(markers_ray pid=1001592)\u001b[0m 2023-02-15 15:55:53,919 cisTopic     INFO     Computing log2FC for sampleA_Natural killer cell_VS_sampleB_Natural killer cell\n",
      "\u001b[2m\u001b[36m(markers_ray pid=1001585)\u001b[0m 2023-02-15 15:55:54,502 cisTopic     INFO     Computing log2FC for sampleB_Natural killer cell_VS_sampleA_Natural killer cell\n",
      "\u001b[2m\u001b[36m(markers_ray pid=1001592)\u001b[0m 2023-02-15 15:55:55,669 cisTopic     INFO     sampleA_Natural killer cell_VS_sampleB_Natural killer cell done!\n",
      "\u001b[2m\u001b[36m(markers_ray pid=1001592)\u001b[0m 2023-02-15 15:55:55,701 cisTopic     INFO     Formatting data for sampleA_CD16+ monocyte_VS_sampleB_CD16+ monocyte\n",
      "\u001b[2m\u001b[36m(markers_ray pid=1001592)\u001b[0m 2023-02-15 15:55:55,950 cisTopic     INFO     Computing p-value for sampleA_CD16+ monocyte_VS_sampleB_CD16+ monocyte\n",
      "\u001b[2m\u001b[36m(markers_ray pid=1001585)\u001b[0m 2023-02-15 15:55:56,240 cisTopic     INFO     sampleB_Natural killer cell_VS_sampleA_Natural killer cell done!\n",
      "\u001b[2m\u001b[36m(markers_ray pid=1001585)\u001b[0m 2023-02-15 15:55:56,272 cisTopic     INFO     Formatting data for sampleB_CD16+ monocyte_VS_sampleA_CD16+ monocyte\n",
      "\u001b[2m\u001b[36m(markers_ray pid=1001585)\u001b[0m 2023-02-15 15:55:56,510 cisTopic     INFO     Computing p-value for sampleB_CD16+ monocyte_VS_sampleA_CD16+ monocyte\n",
      "\u001b[2m\u001b[36m(markers_ray pid=1001591)\u001b[0m 2023-02-15 15:55:58,028 cisTopic     INFO     Computing log2FC for sampleA_B cell_VS_sampleB_B cell\n",
      "\u001b[2m\u001b[36m(markers_ray pid=1001593)\u001b[0m 2023-02-15 15:55:58,156 cisTopic     INFO     Computing log2FC for sampleA_CD4+ T cell_VS_sampleB_CD4+ T cell\n",
      "\u001b[2m\u001b[36m(markers_ray pid=1001589)\u001b[0m 2023-02-15 15:55:58,757 cisTopic     INFO     Computing log2FC for sampleB_CD4+ T cell_VS_sampleA_CD4+ T cell\n",
      "\u001b[2m\u001b[36m(markers_ray pid=1001587)\u001b[0m 2023-02-15 15:55:58,841 cisTopic     INFO     Computing log2FC for sampleB_B cell_VS_sampleA_B cell\n",
      "\u001b[2m\u001b[36m(markers_ray pid=1001588)\u001b[0m 2023-02-15 15:55:59,020 cisTopic     INFO     Computing log2FC for sampleA_CD14+ monocyte_VS_sampleB_CD14+ monocyte\n",
      "\u001b[2m\u001b[36m(markers_ray pid=1001594)\u001b[0m 2023-02-15 15:55:59,553 cisTopic     INFO     Computing log2FC for sampleB_CD14+ monocyte_VS_sampleA_CD14+ monocyte\n",
      "\u001b[2m\u001b[36m(markers_ray pid=1001591)\u001b[0m 2023-02-15 15:55:59,755 cisTopic     INFO     sampleA_B cell_VS_sampleB_B cell done!\n",
      "\u001b[2m\u001b[36m(markers_ray pid=1001591)\u001b[0m 2023-02-15 15:55:59,791 cisTopic     INFO     Formatting data for sampleA_Dendritic cell_VS_sampleB_Dendritic cell\n",
      "\u001b[2m\u001b[36m(markers_ray pid=1001593)\u001b[0m 2023-02-15 15:55:59,922 cisTopic     INFO     sampleA_CD4+ T cell_VS_sampleB_CD4+ T cell done!\n",
      "\u001b[2m\u001b[36m(markers_ray pid=1001593)\u001b[0m 2023-02-15 15:55:59,967 cisTopic     INFO     Formatting data for sampleB_Dendritic cell_VS_sampleA_Dendritic cell\n",
      "\u001b[2m\u001b[36m(markers_ray pid=1001591)\u001b[0m 2023-02-15 15:55:59,961 cisTopic     INFO     Computing p-value for sampleA_Dendritic cell_VS_sampleB_Dendritic cell\n",
      "\u001b[2m\u001b[36m(markers_ray pid=1001593)\u001b[0m 2023-02-15 15:56:00,141 cisTopic     INFO     Computing p-value for sampleB_Dendritic cell_VS_sampleA_Dendritic cell\n",
      "\u001b[2m\u001b[36m(markers_ray pid=1001589)\u001b[0m 2023-02-15 15:56:00,518 cisTopic     INFO     sampleB_CD4+ T cell_VS_sampleA_CD4+ T cell done!\n",
      "\u001b[2m\u001b[36m(markers_ray pid=1001587)\u001b[0m 2023-02-15 15:56:00,597 cisTopic     INFO     sampleB_B cell_VS_sampleA_B cell done!\n",
      "\u001b[2m\u001b[36m(markers_ray pid=1001588)\u001b[0m 2023-02-15 15:56:00,752 cisTopic     INFO     sampleA_CD14+ monocyte_VS_sampleB_CD14+ monocyte done!\n",
      "\u001b[2m\u001b[36m(markers_ray pid=1001594)\u001b[0m 2023-02-15 15:56:01,306 cisTopic     INFO     sampleB_CD14+ monocyte_VS_sampleA_CD14+ monocyte done!\n",
      "\u001b[2m\u001b[36m(markers_ray pid=1001590)\u001b[0m 2023-02-15 15:56:03,198 cisTopic     INFO     Computing log2FC for sampleA_Cytotoxic T cell_VS_sampleB_Cytotoxic T cell\n",
      "\u001b[2m\u001b[36m(markers_ray pid=1001586)\u001b[0m 2023-02-15 15:56:03,153 cisTopic     INFO     Computing log2FC for sampleB_Cytotoxic T cell_VS_sampleA_Cytotoxic T cell\n",
      "\u001b[2m\u001b[36m(markers_ray pid=1001590)\u001b[0m 2023-02-15 15:56:04,966 cisTopic     INFO     sampleA_Cytotoxic T cell_VS_sampleB_Cytotoxic T cell done!\n",
      "\u001b[2m\u001b[36m(markers_ray pid=1001586)\u001b[0m 2023-02-15 15:56:04,976 cisTopic     INFO     sampleB_Cytotoxic T cell_VS_sampleA_Cytotoxic T cell done!\n",
      "\u001b[2m\u001b[36m(markers_ray pid=1001592)\u001b[0m 2023-02-15 15:56:14,353 cisTopic     INFO     Computing log2FC for sampleA_CD16+ monocyte_VS_sampleB_CD16+ monocyte\n",
      "\u001b[2m\u001b[36m(markers_ray pid=1001585)\u001b[0m 2023-02-15 15:56:15,007 cisTopic     INFO     Computing log2FC for sampleB_CD16+ monocyte_VS_sampleA_CD16+ monocyte\n",
      "\u001b[2m\u001b[36m(markers_ray pid=1001592)\u001b[0m 2023-02-15 15:56:16,065 cisTopic     INFO     sampleA_CD16+ monocyte_VS_sampleB_CD16+ monocyte done!\n",
      "\u001b[2m\u001b[36m(markers_ray pid=1001585)\u001b[0m 2023-02-15 15:56:16,729 cisTopic     INFO     sampleB_CD16+ monocyte_VS_sampleA_CD16+ monocyte done!\n",
      "\u001b[2m\u001b[36m(markers_ray pid=1001591)\u001b[0m 2023-02-15 15:56:17,656 cisTopic     INFO     Computing log2FC for sampleA_Dendritic cell_VS_sampleB_Dendritic cell\n",
      "\u001b[2m\u001b[36m(markers_ray pid=1001593)\u001b[0m 2023-02-15 15:56:18,181 cisTopic     INFO     Computing log2FC for sampleB_Dendritic cell_VS_sampleA_Dendritic cell\n",
      "\u001b[2m\u001b[36m(markers_ray pid=1001591)\u001b[0m 2023-02-15 15:56:19,399 cisTopic     INFO     sampleA_Dendritic cell_VS_sampleB_Dendritic cell done!\n",
      "\u001b[2m\u001b[36m(markers_ray pid=1001593)\u001b[0m 2023-02-15 15:56:19,932 cisTopic     INFO     sampleB_Dendritic cell_VS_sampleA_Dendritic cell done!\n",
      "no DARs found for sampleA_Natural killer cell_VS_sampleB_Natural killer cell in mtscatac_celltypefair_1.FIXEDCELLS\n",
      "no DARs found for sampleB_Natural killer cell_VS_sampleA_Natural killer cell in mtscatac_celltypefair_1.FIXEDCELLS\n",
      "no DARs found for sampleA_CD16+ monocyte_VS_sampleB_CD16+ monocyte in mtscatac_celltypefair_1.FIXEDCELLS\n",
      "no DARs found for sampleB_CD16+ monocyte_VS_sampleA_CD16+ monocyte in mtscatac_celltypefair_1.FIXEDCELLS\n",
      "no DARs found for sampleA_Dendritic cell_VS_sampleB_Dendritic cell in mtscatac_celltypefair_1.FIXEDCELLS\n",
      "no DARs found for sampleB_Dendritic cell_VS_sampleA_Dendritic cell in mtscatac_celltypefair_1.FIXEDCELLS\n",
      "Loading downstream_analysis/imputed_acc_objs/s3atac_celltypefair_1.FIXEDCELLS__imputed_acc_obs.pkl\n",
      "Loading downstream_analysis/HVRs/s3atac_celltypefair_1.FIXEDCELLS__HVRs.pkl\n",
      "Cytotoxic T cell\n",
      "CD4+ T cell\n",
      "Natural killer cell\n",
      "CD14+ monocyte\n",
      "B cell\n",
      "CD16+ monocyte\n",
      "Dendritic cell\n"
     ]
    },
    {
     "name": "stderr",
     "output_type": "stream",
     "text": [
      "2023-02-15 15:56:32,973\tINFO services.py:1470 -- View the Ray dashboard at \u001b[1m\u001b[32mhttp://127.0.0.1:8265\u001b[39m\u001b[22m\n"
     ]
    },
    {
     "name": "stdout",
     "output_type": "stream",
     "text": [
      "\u001b[2m\u001b[36m(markers_ray pid=1002266)\u001b[0m 2023-02-15 15:56:37,359 cisTopic     INFO     Formatting data for sampleA_Cytotoxic T cell_VS_sampleB_Cytotoxic T cell\n",
      "\u001b[2m\u001b[36m(markers_ray pid=1002269)\u001b[0m 2023-02-15 15:56:37,851 cisTopic     INFO     Formatting data for sampleB_Cytotoxic T cell_VS_sampleA_Cytotoxic T cell\n",
      "\u001b[2m\u001b[36m(markers_ray pid=1002272)\u001b[0m 2023-02-15 15:56:38,408 cisTopic     INFO     Formatting data for sampleA_CD4+ T cell_VS_sampleB_CD4+ T cell\n",
      "\u001b[2m\u001b[36m(markers_ray pid=1002266)\u001b[0m 2023-02-15 15:56:38,644 cisTopic     INFO     Computing p-value for sampleA_Cytotoxic T cell_VS_sampleB_Cytotoxic T cell\n",
      "\u001b[2m\u001b[36m(markers_ray pid=1002272)\u001b[0m 2023-02-15 15:56:39,024 cisTopic     INFO     Computing p-value for sampleA_CD4+ T cell_VS_sampleB_CD4+ T cell\n",
      "\u001b[2m\u001b[36m(markers_ray pid=1002267)\u001b[0m 2023-02-15 15:56:39,023 cisTopic     INFO     Formatting data for sampleB_CD4+ T cell_VS_sampleA_CD4+ T cell\n",
      "\u001b[2m\u001b[36m(markers_ray pid=1002269)\u001b[0m 2023-02-15 15:56:39,252 cisTopic     INFO     Computing p-value for sampleB_Cytotoxic T cell_VS_sampleA_Cytotoxic T cell\n",
      "\u001b[2m\u001b[36m(markers_ray pid=1002267)\u001b[0m 2023-02-15 15:56:39,679 cisTopic     INFO     Computing p-value for sampleB_CD4+ T cell_VS_sampleA_CD4+ T cell\n",
      "\u001b[2m\u001b[36m(markers_ray pid=1002265)\u001b[0m 2023-02-15 15:56:39,714 cisTopic     INFO     Formatting data for sampleA_Natural killer cell_VS_sampleB_Natural killer cell\n",
      "\u001b[2m\u001b[36m(markers_ray pid=1002265)\u001b[0m 2023-02-15 15:56:39,946 cisTopic     INFO     Computing p-value for sampleA_Natural killer cell_VS_sampleB_Natural killer cell\n",
      "\u001b[2m\u001b[36m(markers_ray pid=1002271)\u001b[0m 2023-02-15 15:56:40,238 cisTopic     INFO     Formatting data for sampleB_Natural killer cell_VS_sampleA_Natural killer cell\n",
      "\u001b[2m\u001b[36m(markers_ray pid=1002271)\u001b[0m 2023-02-15 15:56:40,454 cisTopic     INFO     Computing p-value for sampleB_Natural killer cell_VS_sampleA_Natural killer cell\n",
      "\u001b[2m\u001b[36m(markers_ray pid=1002270)\u001b[0m 2023-02-15 15:56:40,774 cisTopic     INFO     Formatting data for sampleA_CD14+ monocyte_VS_sampleB_CD14+ monocyte\n",
      "\u001b[2m\u001b[36m(markers_ray pid=1002273)\u001b[0m 2023-02-15 15:56:41,358 cisTopic     INFO     Formatting data for sampleB_CD14+ monocyte_VS_sampleA_CD14+ monocyte\n",
      "\u001b[2m\u001b[36m(markers_ray pid=1002270)\u001b[0m 2023-02-15 15:56:41,533 cisTopic     INFO     Computing p-value for sampleA_CD14+ monocyte_VS_sampleB_CD14+ monocyte\n",
      "\u001b[2m\u001b[36m(markers_ray pid=1002268)\u001b[0m 2023-02-15 15:56:41,957 cisTopic     INFO     Formatting data for sampleA_B cell_VS_sampleB_B cell\n",
      "\u001b[2m\u001b[36m(markers_ray pid=1002273)\u001b[0m 2023-02-15 15:56:42,123 cisTopic     INFO     Computing p-value for sampleB_CD14+ monocyte_VS_sampleA_CD14+ monocyte\n",
      "\u001b[2m\u001b[36m(markers_ray pid=1002268)\u001b[0m 2023-02-15 15:56:42,501 cisTopic     INFO     Computing p-value for sampleA_B cell_VS_sampleB_B cell\n",
      "\u001b[2m\u001b[36m(markers_ray pid=1002264)\u001b[0m 2023-02-15 15:56:42,576 cisTopic     INFO     Formatting data for sampleB_B cell_VS_sampleA_B cell\n",
      "\u001b[2m\u001b[36m(markers_ray pid=1002264)\u001b[0m 2023-02-15 15:56:43,113 cisTopic     INFO     Computing p-value for sampleB_B cell_VS_sampleA_B cell\n",
      "\u001b[2m\u001b[36m(markers_ray pid=1002265)\u001b[0m 2023-02-15 15:56:59,416 cisTopic     INFO     Computing log2FC for sampleA_Natural killer cell_VS_sampleB_Natural killer cell\n",
      "\u001b[2m\u001b[36m(markers_ray pid=1002271)\u001b[0m 2023-02-15 15:56:59,962 cisTopic     INFO     Computing log2FC for sampleB_Natural killer cell_VS_sampleA_Natural killer cell\n",
      "\u001b[2m\u001b[36m(markers_ray pid=1002272)\u001b[0m 2023-02-15 15:57:01,218 cisTopic     INFO     Computing log2FC for sampleA_CD4+ T cell_VS_sampleB_CD4+ T cell\n",
      "\u001b[2m\u001b[36m(markers_ray pid=1002265)\u001b[0m 2023-02-15 15:57:01,331 cisTopic     INFO     sampleA_Natural killer cell_VS_sampleB_Natural killer cell done!\n",
      "\u001b[2m\u001b[36m(markers_ray pid=1002265)\u001b[0m 2023-02-15 15:57:01,373 cisTopic     INFO     Formatting data for sampleA_CD16+ monocyte_VS_sampleB_CD16+ monocyte\n",
      "\u001b[2m\u001b[36m(markers_ray pid=1002265)\u001b[0m 2023-02-15 15:57:01,577 cisTopic     INFO     Computing p-value for sampleA_CD16+ monocyte_VS_sampleB_CD16+ monocyte\n",
      "\u001b[2m\u001b[36m(markers_ray pid=1002267)\u001b[0m 2023-02-15 15:57:01,740 cisTopic     INFO     Computing log2FC for sampleB_CD4+ T cell_VS_sampleA_CD4+ T cell\n",
      "\u001b[2m\u001b[36m(markers_ray pid=1002271)\u001b[0m 2023-02-15 15:57:01,866 cisTopic     INFO     sampleB_Natural killer cell_VS_sampleA_Natural killer cell done!\n",
      "\u001b[2m\u001b[36m(markers_ray pid=1002271)\u001b[0m 2023-02-15 15:57:01,901 cisTopic     INFO     Formatting data for sampleB_CD16+ monocyte_VS_sampleA_CD16+ monocyte\n",
      "\u001b[2m\u001b[36m(markers_ray pid=1002271)\u001b[0m 2023-02-15 15:57:02,100 cisTopic     INFO     Computing p-value for sampleB_CD16+ monocyte_VS_sampleA_CD16+ monocyte\n",
      "\u001b[2m\u001b[36m(markers_ray pid=1002272)\u001b[0m 2023-02-15 15:57:03,175 cisTopic     INFO     sampleA_CD4+ T cell_VS_sampleB_CD4+ T cell done!\n",
      "\u001b[2m\u001b[36m(markers_ray pid=1002272)\u001b[0m 2023-02-15 15:57:03,218 cisTopic     INFO     Formatting data for sampleA_Dendritic cell_VS_sampleB_Dendritic cell\n",
      "\u001b[2m\u001b[36m(markers_ray pid=1002272)\u001b[0m 2023-02-15 15:57:03,395 cisTopic     INFO     Computing p-value for sampleA_Dendritic cell_VS_sampleB_Dendritic cell\n",
      "\u001b[2m\u001b[36m(markers_ray pid=1002267)\u001b[0m 2023-02-15 15:57:03,645 cisTopic     INFO     sampleB_CD4+ T cell_VS_sampleA_CD4+ T cell done!\n",
      "\u001b[2m\u001b[36m(markers_ray pid=1002267)\u001b[0m 2023-02-15 15:57:03,671 cisTopic     INFO     Formatting data for sampleB_Dendritic cell_VS_sampleA_Dendritic cell\n",
      "\u001b[2m\u001b[36m(markers_ray pid=1002267)\u001b[0m 2023-02-15 15:57:03,833 cisTopic     INFO     Computing p-value for sampleB_Dendritic cell_VS_sampleA_Dendritic cell\n",
      "\u001b[2m\u001b[36m(markers_ray pid=1002268)\u001b[0m 2023-02-15 15:57:04,342 cisTopic     INFO     Computing log2FC for sampleA_B cell_VS_sampleB_B cell\n",
      "\u001b[2m\u001b[36m(markers_ray pid=1002270)\u001b[0m 2023-02-15 15:57:04,805 cisTopic     INFO     Computing log2FC for sampleA_CD14+ monocyte_VS_sampleB_CD14+ monocyte\n",
      "\u001b[2m\u001b[36m(markers_ray pid=1002264)\u001b[0m 2023-02-15 15:57:04,879 cisTopic     INFO     Computing log2FC for sampleB_B cell_VS_sampleA_B cell\n",
      "\u001b[2m\u001b[36m(markers_ray pid=1002266)\u001b[0m 2023-02-15 15:57:05,316 cisTopic     INFO     Computing log2FC for sampleA_Cytotoxic T cell_VS_sampleB_Cytotoxic T cell\n",
      "\u001b[2m\u001b[36m(markers_ray pid=1002273)\u001b[0m 2023-02-15 15:57:05,534 cisTopic     INFO     Computing log2FC for sampleB_CD14+ monocyte_VS_sampleA_CD14+ monocyte\n",
      "\u001b[2m\u001b[36m(markers_ray pid=1002269)\u001b[0m 2023-02-15 15:57:05,658 cisTopic     INFO     Computing log2FC for sampleB_Cytotoxic T cell_VS_sampleA_Cytotoxic T cell\n",
      "\u001b[2m\u001b[36m(markers_ray pid=1002268)\u001b[0m 2023-02-15 15:57:06,284 cisTopic     INFO     sampleA_B cell_VS_sampleB_B cell done!\n",
      "\u001b[2m\u001b[36m(markers_ray pid=1002270)\u001b[0m 2023-02-15 15:57:06,765 cisTopic     INFO     sampleA_CD14+ monocyte_VS_sampleB_CD14+ monocyte done!\n",
      "\u001b[2m\u001b[36m(markers_ray pid=1002264)\u001b[0m 2023-02-15 15:57:06,809 cisTopic     INFO     sampleB_B cell_VS_sampleA_B cell done!\n",
      "\u001b[2m\u001b[36m(markers_ray pid=1002266)\u001b[0m 2023-02-15 15:57:07,305 cisTopic     INFO     sampleA_Cytotoxic T cell_VS_sampleB_Cytotoxic T cell done!\n",
      "\u001b[2m\u001b[36m(markers_ray pid=1002273)\u001b[0m 2023-02-15 15:57:07,547 cisTopic     INFO     sampleB_CD14+ monocyte_VS_sampleA_CD14+ monocyte done!\n",
      "\u001b[2m\u001b[36m(markers_ray pid=1002269)\u001b[0m 2023-02-15 15:57:07,744 cisTopic     INFO     sampleB_Cytotoxic T cell_VS_sampleA_Cytotoxic T cell done!\n",
      "\u001b[2m\u001b[36m(markers_ray pid=1002265)\u001b[0m 2023-02-15 15:57:21,106 cisTopic     INFO     Computing log2FC for sampleA_CD16+ monocyte_VS_sampleB_CD16+ monocyte\n",
      "\u001b[2m\u001b[36m(markers_ray pid=1002271)\u001b[0m 2023-02-15 15:57:21,506 cisTopic     INFO     Computing log2FC for sampleB_CD16+ monocyte_VS_sampleA_CD16+ monocyte\n",
      "\u001b[2m\u001b[36m(markers_ray pid=1002265)\u001b[0m 2023-02-15 15:57:22,936 cisTopic     INFO     sampleA_CD16+ monocyte_VS_sampleB_CD16+ monocyte done!\n",
      "\u001b[2m\u001b[36m(markers_ray pid=1002272)\u001b[0m 2023-02-15 15:57:23,061 cisTopic     INFO     Computing log2FC for sampleA_Dendritic cell_VS_sampleB_Dendritic cell\n",
      "\u001b[2m\u001b[36m(markers_ray pid=1002267)\u001b[0m 2023-02-15 15:57:23,198 cisTopic     INFO     Computing log2FC for sampleB_Dendritic cell_VS_sampleA_Dendritic cell\n",
      "\u001b[2m\u001b[36m(markers_ray pid=1002271)\u001b[0m 2023-02-15 15:57:23,341 cisTopic     INFO     sampleB_CD16+ monocyte_VS_sampleA_CD16+ monocyte done!\n",
      "\u001b[2m\u001b[36m(markers_ray pid=1002272)\u001b[0m 2023-02-15 15:57:24,909 cisTopic     INFO     sampleA_Dendritic cell_VS_sampleB_Dendritic cell done!\n",
      "\u001b[2m\u001b[36m(markers_ray pid=1002267)\u001b[0m 2023-02-15 15:57:25,017 cisTopic     INFO     sampleB_Dendritic cell_VS_sampleA_Dendritic cell done!\n",
      "no DARs found for sampleA_CD4+ T cell_VS_sampleB_CD4+ T cell in s3atac_celltypefair_1.FIXEDCELLS\n",
      "no DARs found for sampleA_Natural killer cell_VS_sampleB_Natural killer cell in s3atac_celltypefair_1.FIXEDCELLS\n",
      "no DARs found for sampleB_Natural killer cell_VS_sampleA_Natural killer cell in s3atac_celltypefair_1.FIXEDCELLS\n",
      "no DARs found for sampleA_CD14+ monocyte_VS_sampleB_CD14+ monocyte in s3atac_celltypefair_1.FIXEDCELLS\n",
      "no DARs found for sampleB_CD14+ monocyte_VS_sampleA_CD14+ monocyte in s3atac_celltypefair_1.FIXEDCELLS\n",
      "no DARs found for sampleA_B cell_VS_sampleB_B cell in s3atac_celltypefair_1.FIXEDCELLS\n",
      "no DARs found for sampleB_B cell_VS_sampleA_B cell in s3atac_celltypefair_1.FIXEDCELLS\n",
      "no DARs found for sampleA_CD16+ monocyte_VS_sampleB_CD16+ monocyte in s3atac_celltypefair_1.FIXEDCELLS\n",
      "no DARs found for sampleB_CD16+ monocyte_VS_sampleA_CD16+ monocyte in s3atac_celltypefair_1.FIXEDCELLS\n",
      "no DARs found for sampleA_Dendritic cell_VS_sampleB_Dendritic cell in s3atac_celltypefair_1.FIXEDCELLS\n",
      "no DARs found for sampleB_Dendritic cell_VS_sampleA_Dendritic cell in s3atac_celltypefair_1.FIXEDCELLS\n"
     ]
    },
    {
     "data": {
      "application/javascript": [
       "\n",
       "            setTimeout(function() {\n",
       "                var nbb_cell_id = 26;\n",
       "                var nbb_unformatted_code = \"for sample in cistopic_obj_path_dict.keys():\\n    with open(\\n        cistopic_obj_path_dict[sample],\\n        \\\"rb\\\",\\n    ) as f:\\n        cto = pickle.load(f)\\n\\n    acc_path = normalized_imputed_acc_obj_path_dict[sample]\\n\\n    if os.path.isfile(acc_path):\\n        print(f\\\"Loading {acc_path}\\\")\\n        with open(acc_path, \\\"rb\\\") as f:\\n            normalized_imputed_acc_obj = pickle.load(f)\\n\\n    hvr_pkl_path = f\\\"downstream_analysis/HVRs/{sample}__HVRs.pkl\\\"\\n\\n    if os.path.exists(hvr_pkl_path):\\n        print(f\\\"Loading {hvr_pkl_path}\\\")\\n        with open(hvr_pkl_path, \\\"rb\\\") as f:\\n            variable_regions = pickle.load(f)\\n    else:\\n        print(\\\"HVRs do not exist!\\\")\\n\\n    cto.cell_data[\\\"fmx_sample_harmony_consensus_cell_type__mega\\\"] = (\\n        cto.cell_data[\\\"fmx_sample\\\"] + \\\"_\\\" + cto.cell_data[\\\"harmony_consensus_cell_type__mega\\\"]\\n    )\\n\\n    contrasts = []\\n    for cell_type in cto.cell_data[\\\"harmony_consensus_cell_type__mega\\\"].unique():\\n        print(cell_type)\\n        ct_a = \\\"sampleA_\\\" + cell_type\\n        ct_b = \\\"sampleB_\\\" + cell_type\\n        contrast = [[[ct_a], [ct_b]], [[ct_b], [ct_a]]]\\n        contrasts = contrasts + contrast\\n\\n    markers_dict = find_diff_features(\\n        cto,\\n        normalized_imputed_acc_obj,\\n        variable=\\\"fmx_sample_harmony_consensus_cell_type__mega\\\",\\n        var_features=variable_regions,\\n        contrasts=contrasts,\\n        adjpval_thr=0.05,\\n        log2fc_thr=np.log2(1.2),\\n        n_cpu=10,\\n    )\\n\\n    if not os.path.exists(f\\\"harmony_consensus_cell_type__mega_male_female_DARs/{sample}\\\"):\\n        os.mkdir(f\\\"harmony_consensus_cell_type__mega_male_female_DARs/{sample}\\\")\\n\\n    with open(\\n        f\\\"harmony_consensus_cell_type__mega_male_female_DARs/{sample}/{sample}__DARs_dict_1-2xfoldchange.pkl\\\",\\n        \\\"wb\\\",\\n    ) as f:\\n        pickle.dump(markers_dict, f, protocol=4)\\n\\n    for contrast in markers_dict.keys():\\n        markers = markers_dict[contrast].index.tolist()\\n        df = pd.DataFrame(markers)\\n        if len(df) == 0:\\n            print(f\\\"no DARs found for {contrast} in {sample}\\\")\\n        else:\\n            df[[0, 1]] = df[0].str.split(\\\":\\\", expand=True)\\n            df[[1, 2]] = df[1].str.split(\\\"-\\\", expand=True)\\n            df[3] = markers_dict[contrast].index.tolist()\\n            df[3] = contrast.replace(\\\" \\\", \\\"_\\\")  # + '_' + df[3].astype(str)\\n            score = markers_dict[contrast][\\\"Log2FC\\\"]\\n            score = score.reset_index(drop=True)\\n            df[4] = score\\n            df[5] = \\\".\\\"\\n            pval = markers_dict[contrast][\\\"Adjusted_pval\\\"]\\n            pval = pval.reset_index(drop=True)\\n            df[6] = pval\\n            name = contrast.replace(\\\" \\\", \\\"_\\\")\\n\\n            df.to_csv(\\n                f'harmony_consensus_cell_type__mega_male_female_DARs/{sample}/{sample}__{contrast.replace(\\\" \\\", \\\"_\\\")}__1-2xfoldchange_DARs.bed',\\n                sep=\\\"\\\\t\\\",\\n                header=False,\\n                index=False,\\n            )\";\n",
       "                var nbb_formatted_code = \"for sample in cistopic_obj_path_dict.keys():\\n    with open(\\n        cistopic_obj_path_dict[sample],\\n        \\\"rb\\\",\\n    ) as f:\\n        cto = pickle.load(f)\\n\\n    acc_path = normalized_imputed_acc_obj_path_dict[sample]\\n\\n    if os.path.isfile(acc_path):\\n        print(f\\\"Loading {acc_path}\\\")\\n        with open(acc_path, \\\"rb\\\") as f:\\n            normalized_imputed_acc_obj = pickle.load(f)\\n\\n    hvr_pkl_path = f\\\"downstream_analysis/HVRs/{sample}__HVRs.pkl\\\"\\n\\n    if os.path.exists(hvr_pkl_path):\\n        print(f\\\"Loading {hvr_pkl_path}\\\")\\n        with open(hvr_pkl_path, \\\"rb\\\") as f:\\n            variable_regions = pickle.load(f)\\n    else:\\n        print(\\\"HVRs do not exist!\\\")\\n\\n    cto.cell_data[\\\"fmx_sample_harmony_consensus_cell_type__mega\\\"] = (\\n        cto.cell_data[\\\"fmx_sample\\\"]\\n        + \\\"_\\\"\\n        + cto.cell_data[\\\"harmony_consensus_cell_type__mega\\\"]\\n    )\\n\\n    contrasts = []\\n    for cell_type in cto.cell_data[\\\"harmony_consensus_cell_type__mega\\\"].unique():\\n        print(cell_type)\\n        ct_a = \\\"sampleA_\\\" + cell_type\\n        ct_b = \\\"sampleB_\\\" + cell_type\\n        contrast = [[[ct_a], [ct_b]], [[ct_b], [ct_a]]]\\n        contrasts = contrasts + contrast\\n\\n    markers_dict = find_diff_features(\\n        cto,\\n        normalized_imputed_acc_obj,\\n        variable=\\\"fmx_sample_harmony_consensus_cell_type__mega\\\",\\n        var_features=variable_regions,\\n        contrasts=contrasts,\\n        adjpval_thr=0.05,\\n        log2fc_thr=np.log2(1.2),\\n        n_cpu=10,\\n    )\\n\\n    if not os.path.exists(\\n        f\\\"harmony_consensus_cell_type__mega_male_female_DARs/{sample}\\\"\\n    ):\\n        os.mkdir(f\\\"harmony_consensus_cell_type__mega_male_female_DARs/{sample}\\\")\\n\\n    with open(\\n        f\\\"harmony_consensus_cell_type__mega_male_female_DARs/{sample}/{sample}__DARs_dict_1-2xfoldchange.pkl\\\",\\n        \\\"wb\\\",\\n    ) as f:\\n        pickle.dump(markers_dict, f, protocol=4)\\n\\n    for contrast in markers_dict.keys():\\n        markers = markers_dict[contrast].index.tolist()\\n        df = pd.DataFrame(markers)\\n        if len(df) == 0:\\n            print(f\\\"no DARs found for {contrast} in {sample}\\\")\\n        else:\\n            df[[0, 1]] = df[0].str.split(\\\":\\\", expand=True)\\n            df[[1, 2]] = df[1].str.split(\\\"-\\\", expand=True)\\n            df[3] = markers_dict[contrast].index.tolist()\\n            df[3] = contrast.replace(\\\" \\\", \\\"_\\\")  # + '_' + df[3].astype(str)\\n            score = markers_dict[contrast][\\\"Log2FC\\\"]\\n            score = score.reset_index(drop=True)\\n            df[4] = score\\n            df[5] = \\\".\\\"\\n            pval = markers_dict[contrast][\\\"Adjusted_pval\\\"]\\n            pval = pval.reset_index(drop=True)\\n            df[6] = pval\\n            name = contrast.replace(\\\" \\\", \\\"_\\\")\\n\\n            df.to_csv(\\n                f'harmony_consensus_cell_type__mega_male_female_DARs/{sample}/{sample}__{contrast.replace(\\\" \\\", \\\"_\\\")}__1-2xfoldchange_DARs.bed',\\n                sep=\\\"\\\\t\\\",\\n                header=False,\\n                index=False,\\n            )\";\n",
       "                var nbb_cells = Jupyter.notebook.get_cells();\n",
       "                for (var i = 0; i < nbb_cells.length; ++i) {\n",
       "                    if (nbb_cells[i].input_prompt_number == nbb_cell_id) {\n",
       "                        if (nbb_cells[i].get_text() == nbb_unformatted_code) {\n",
       "                             nbb_cells[i].set_text(nbb_formatted_code);\n",
       "                        }\n",
       "                        break;\n",
       "                    }\n",
       "                }\n",
       "            }, 500);\n",
       "            "
      ],
      "text/plain": [
       "<IPython.core.display.Javascript object>"
      ]
     },
     "metadata": {},
     "output_type": "display_data"
    }
   ],
   "source": [
    "for sample in cistopic_obj_path_dict.keys():\n",
    "    with open(\n",
    "        cistopic_obj_path_dict[sample],\n",
    "        \"rb\",\n",
    "    ) as f:\n",
    "        cto = pickle.load(f)\n",
    "\n",
    "    acc_path = normalized_imputed_acc_obj_path_dict[sample]\n",
    "\n",
    "    if os.path.isfile(acc_path):\n",
    "        print(f\"Loading {acc_path}\")\n",
    "        with open(acc_path, \"rb\") as f:\n",
    "            normalized_imputed_acc_obj = pickle.load(f)\n",
    "\n",
    "    hvr_pkl_path = f\"downstream_analysis/HVRs/{sample}__HVRs.pkl\"\n",
    "\n",
    "    if os.path.exists(hvr_pkl_path):\n",
    "        print(f\"Loading {hvr_pkl_path}\")\n",
    "        with open(hvr_pkl_path, \"rb\") as f:\n",
    "            variable_regions = pickle.load(f)\n",
    "    else:\n",
    "        print(\"HVRs do not exist!\")\n",
    "\n",
    "    cto.cell_data[\"fmx_sample_harmony_consensus_cell_type__mega\"] = (\n",
    "        cto.cell_data[\"fmx_sample\"] + \"_\" + cto.cell_data[\"harmony_consensus_cell_type__mega\"]\n",
    "    )\n",
    "\n",
    "    contrasts = []\n",
    "    for cell_type in cto.cell_data[\"harmony_consensus_cell_type__mega\"].unique():\n",
    "        print(cell_type)\n",
    "        ct_a = \"sampleA_\" + cell_type\n",
    "        ct_b = \"sampleB_\" + cell_type\n",
    "        contrast = [[[ct_a], [ct_b]], [[ct_b], [ct_a]]]\n",
    "        contrasts = contrasts + contrast\n",
    "\n",
    "    markers_dict = find_diff_features(\n",
    "        cto,\n",
    "        normalized_imputed_acc_obj,\n",
    "        variable=\"fmx_sample_harmony_consensus_cell_type__mega\",\n",
    "        var_features=variable_regions,\n",
    "        contrasts=contrasts,\n",
    "        adjpval_thr=0.05,\n",
    "        log2fc_thr=np.log2(1.2),\n",
    "        n_cpu=10,\n",
    "    )\n",
    "\n",
    "    if not os.path.exists(f\"harmony_consensus_cell_type__mega_male_female_DARs/{sample}\"):\n",
    "        os.mkdir(f\"harmony_consensus_cell_type__mega_male_female_DARs/{sample}\")\n",
    "\n",
    "    with open(\n",
    "        f\"harmony_consensus_cell_type__mega_male_female_DARs/{sample}/{sample}__DARs_dict_1-2xfoldchange.pkl\",\n",
    "        \"wb\",\n",
    "    ) as f:\n",
    "        pickle.dump(markers_dict, f, protocol=4)\n",
    "\n",
    "    for contrast in markers_dict.keys():\n",
    "        markers = markers_dict[contrast].index.tolist()\n",
    "        df = pd.DataFrame(markers)\n",
    "        if len(df) == 0:\n",
    "            print(f\"no DARs found for {contrast} in {sample}\")\n",
    "        else:\n",
    "            df[[0, 1]] = df[0].str.split(\":\", expand=True)\n",
    "            df[[1, 2]] = df[1].str.split(\"-\", expand=True)\n",
    "            df[3] = markers_dict[contrast].index.tolist()\n",
    "            df[3] = contrast.replace(\" \", \"_\")  # + '_' + df[3].astype(str)\n",
    "            score = markers_dict[contrast][\"Log2FC\"]\n",
    "            score = score.reset_index(drop=True)\n",
    "            df[4] = score\n",
    "            df[5] = \".\"\n",
    "            pval = markers_dict[contrast][\"Adjusted_pval\"]\n",
    "            pval = pval.reset_index(drop=True)\n",
    "            df[6] = pval\n",
    "            name = contrast.replace(\" \", \"_\")\n",
    "\n",
    "            df.to_csv(\n",
    "                f'harmony_consensus_cell_type__mega_male_female_DARs/{sample}/{sample}__{contrast.replace(\" \", \"_\")}__1-2xfoldchange_DARs.bed',\n",
    "                sep=\"\\t\",\n",
    "                header=False,\n",
    "                index=False,\n",
    "            )"
   ]
  },
  {
   "cell_type": "code",
   "execution_count": 4,
   "id": "a4b1afef-f2b6-49d4-8373-73e606d42093",
   "metadata": {
    "execution": {
     "iopub.execute_input": "2023-02-20T18:27:32.274872Z",
     "iopub.status.busy": "2023-02-20T18:27:32.274026Z",
     "iopub.status.idle": "2023-02-20T18:27:32.285811Z",
     "shell.execute_reply": "2023-02-20T18:27:32.284407Z",
     "shell.execute_reply.started": "2023-02-20T18:27:32.274816Z"
    }
   },
   "outputs": [
    {
     "data": {
      "application/javascript": [
       "\n",
       "            setTimeout(function() {\n",
       "                var nbb_cell_id = 4;\n",
       "                var nbb_unformatted_code = \"import glob\";\n",
       "                var nbb_formatted_code = \"import glob\";\n",
       "                var nbb_cells = Jupyter.notebook.get_cells();\n",
       "                for (var i = 0; i < nbb_cells.length; ++i) {\n",
       "                    if (nbb_cells[i].input_prompt_number == nbb_cell_id) {\n",
       "                        if (nbb_cells[i].get_text() == nbb_unformatted_code) {\n",
       "                             nbb_cells[i].set_text(nbb_formatted_code);\n",
       "                        }\n",
       "                        break;\n",
       "                    }\n",
       "                }\n",
       "            }, 500);\n",
       "            "
      ],
      "text/plain": [
       "<IPython.core.display.Javascript object>"
      ]
     },
     "metadata": {},
     "output_type": "display_data"
    }
   ],
   "source": [
    "import glob"
   ]
  },
  {
   "cell_type": "code",
   "execution_count": 6,
   "id": "1ce30549-9187-45d4-8340-a3be8a1f54bd",
   "metadata": {
    "collapsed": true,
    "execution": {
     "iopub.execute_input": "2023-02-20T18:27:54.723158Z",
     "iopub.status.busy": "2023-02-20T18:27:54.722239Z",
     "iopub.status.idle": "2023-02-20T18:28:03.793647Z",
     "shell.execute_reply": "2023-02-20T18:28:03.792603Z",
     "shell.execute_reply.started": "2023-02-20T18:27:54.723097Z"
    },
    "jupyter": {
     "outputs_hidden": true
    },
    "tags": []
   },
   "outputs": [
    {
     "name": "stdout",
     "output_type": "stream",
     "text": [
      "downstream_analysis/DARs/10xmultiome_celltypefair_1.FIXEDCELLS/10xmultiome_celltypefair_1.FIXEDCELLS__B_cell__DARs.bed\n",
      "downstream_analysis/DARs/10xmultiome_celltypefair_1.FIXEDCELLS/10xmultiome_celltypefair_1.FIXEDCELLS__CD14+_monocyte__DARs.bed\n",
      "downstream_analysis/DARs/10xmultiome_celltypefair_1.FIXEDCELLS/10xmultiome_celltypefair_1.FIXEDCELLS__CD16+_monocyte__DARs.bed\n",
      "downstream_analysis/DARs/10xmultiome_celltypefair_1.FIXEDCELLS/10xmultiome_celltypefair_1.FIXEDCELLS__CD4+_T_cell__DARs.bed\n",
      "downstream_analysis/DARs/10xmultiome_celltypefair_1.FIXEDCELLS/10xmultiome_celltypefair_1.FIXEDCELLS__Cytotoxic_T_cell__DARs.bed\n",
      "downstream_analysis/DARs/10xmultiome_celltypefair_1.FIXEDCELLS/10xmultiome_celltypefair_1.FIXEDCELLS__Dendritic_cell__DARs.bed\n",
      "downstream_analysis/DARs/10xmultiome_celltypefair_1.FIXEDCELLS/10xmultiome_celltypefair_1.FIXEDCELLS__Natural_killer_cell__DARs.bed\n",
      "downstream_analysis/DARs/10xv11_celltypefair_1.FIXEDCELLS/10xv11_celltypefair_1.FIXEDCELLS__B_cell__DARs.bed\n",
      "downstream_analysis/DARs/10xv11_celltypefair_1.FIXEDCELLS/10xv11_celltypefair_1.FIXEDCELLS__CD14+_monocyte__DARs.bed\n",
      "downstream_analysis/DARs/10xv11_celltypefair_1.FIXEDCELLS/10xv11_celltypefair_1.FIXEDCELLS__CD16+_monocyte__DARs.bed\n",
      "downstream_analysis/DARs/10xv11_celltypefair_1.FIXEDCELLS/10xv11_celltypefair_1.FIXEDCELLS__CD4+_T_cell__DARs.bed\n",
      "downstream_analysis/DARs/10xv11_celltypefair_1.FIXEDCELLS/10xv11_celltypefair_1.FIXEDCELLS__Cytotoxic_T_cell__DARs.bed\n",
      "downstream_analysis/DARs/10xv11_celltypefair_1.FIXEDCELLS/10xv11_celltypefair_1.FIXEDCELLS__Dendritic_cell__DARs.bed\n",
      "downstream_analysis/DARs/10xv11_celltypefair_1.FIXEDCELLS/10xv11_celltypefair_1.FIXEDCELLS__Natural_killer_cell__DARs.bed\n",
      "downstream_analysis/DARs/10xv1_celltypefair_1.FIXEDCELLS/10xv1_celltypefair_1.FIXEDCELLS__B_cell__DARs.bed\n",
      "downstream_analysis/DARs/10xv1_celltypefair_1.FIXEDCELLS/10xv1_celltypefair_1.FIXEDCELLS__CD14+_monocyte__DARs.bed\n",
      "downstream_analysis/DARs/10xv1_celltypefair_1.FIXEDCELLS/10xv1_celltypefair_1.FIXEDCELLS__CD16+_monocyte__DARs.bed\n",
      "downstream_analysis/DARs/10xv1_celltypefair_1.FIXEDCELLS/10xv1_celltypefair_1.FIXEDCELLS__CD4+_T_cell__DARs.bed\n",
      "downstream_analysis/DARs/10xv1_celltypefair_1.FIXEDCELLS/10xv1_celltypefair_1.FIXEDCELLS__Cytotoxic_T_cell__DARs.bed\n",
      "downstream_analysis/DARs/10xv1_celltypefair_1.FIXEDCELLS/10xv1_celltypefair_1.FIXEDCELLS__Dendritic_cell__DARs.bed\n",
      "downstream_analysis/DARs/10xv1_celltypefair_1.FIXEDCELLS/10xv1_celltypefair_1.FIXEDCELLS__Natural_killer_cell__DARs.bed\n",
      "downstream_analysis/DARs/10xv2_celltypefair_1.FIXEDCELLS/10xv2_celltypefair_1.FIXEDCELLS__B_cell__DARs.bed\n",
      "downstream_analysis/DARs/10xv2_celltypefair_1.FIXEDCELLS/10xv2_celltypefair_1.FIXEDCELLS__CD14+_monocyte__DARs.bed\n",
      "downstream_analysis/DARs/10xv2_celltypefair_1.FIXEDCELLS/10xv2_celltypefair_1.FIXEDCELLS__CD16+_monocyte__DARs.bed\n",
      "downstream_analysis/DARs/10xv2_celltypefair_1.FIXEDCELLS/10xv2_celltypefair_1.FIXEDCELLS__CD4+_T_cell__DARs.bed\n",
      "downstream_analysis/DARs/10xv2_celltypefair_1.FIXEDCELLS/10xv2_celltypefair_1.FIXEDCELLS__Cytotoxic_T_cell__DARs.bed\n",
      "downstream_analysis/DARs/10xv2_celltypefair_1.FIXEDCELLS/10xv2_celltypefair_1.FIXEDCELLS__Dendritic_cell__DARs.bed\n",
      "downstream_analysis/DARs/10xv2_celltypefair_1.FIXEDCELLS/10xv2_celltypefair_1.FIXEDCELLS__Natural_killer_cell__DARs.bed\n",
      "downstream_analysis/DARs/ddseq_celltypefair_1.FIXEDCELLS/ddseq_celltypefair_1.FIXEDCELLS__B_cell__DARs.bed\n",
      "downstream_analysis/DARs/ddseq_celltypefair_1.FIXEDCELLS/ddseq_celltypefair_1.FIXEDCELLS__CD14+_monocyte__DARs.bed\n",
      "downstream_analysis/DARs/ddseq_celltypefair_1.FIXEDCELLS/ddseq_celltypefair_1.FIXEDCELLS__CD16+_monocyte__DARs.bed\n",
      "downstream_analysis/DARs/ddseq_celltypefair_1.FIXEDCELLS/ddseq_celltypefair_1.FIXEDCELLS__CD4+_T_cell__DARs.bed\n",
      "downstream_analysis/DARs/ddseq_celltypefair_1.FIXEDCELLS/ddseq_celltypefair_1.FIXEDCELLS__Cytotoxic_T_cell__DARs.bed\n",
      "downstream_analysis/DARs/ddseq_celltypefair_1.FIXEDCELLS/ddseq_celltypefair_1.FIXEDCELLS__Dendritic_cell__DARs.bed\n",
      "downstream_analysis/DARs/ddseq_celltypefair_1.FIXEDCELLS/ddseq_celltypefair_1.FIXEDCELLS__Natural_killer_cell__DARs.bed\n",
      "downstream_analysis/DARs/hydrop_celltypefair_1.FIXEDCELLS/hydrop_celltypefair_1.FIXEDCELLS__B_cell__DARs.bed\n",
      "downstream_analysis/DARs/hydrop_celltypefair_1.FIXEDCELLS/hydrop_celltypefair_1.FIXEDCELLS__CD14+_monocyte__DARs.bed\n",
      "downstream_analysis/DARs/hydrop_celltypefair_1.FIXEDCELLS/hydrop_celltypefair_1.FIXEDCELLS__CD16+_monocyte__DARs.bed\n",
      "downstream_analysis/DARs/hydrop_celltypefair_1.FIXEDCELLS/hydrop_celltypefair_1.FIXEDCELLS__CD4+_T_cell__DARs.bed\n",
      "downstream_analysis/DARs/hydrop_celltypefair_1.FIXEDCELLS/hydrop_celltypefair_1.FIXEDCELLS__Cytotoxic_T_cell__DARs.bed\n",
      "downstream_analysis/DARs/hydrop_celltypefair_1.FIXEDCELLS/hydrop_celltypefair_1.FIXEDCELLS__Dendritic_cell__DARs.bed\n",
      "downstream_analysis/DARs/hydrop_celltypefair_1.FIXEDCELLS/hydrop_celltypefair_1.FIXEDCELLS__Natural_killer_cell__DARs.bed\n",
      "downstream_analysis/DARs/mtscatac_celltypefair_1.FIXEDCELLS/mtscatac_celltypefair_1.FIXEDCELLS__B_cell__DARs.bed\n",
      "downstream_analysis/DARs/mtscatac_celltypefair_1.FIXEDCELLS/mtscatac_celltypefair_1.FIXEDCELLS__CD14+_monocyte__DARs.bed\n",
      "downstream_analysis/DARs/mtscatac_celltypefair_1.FIXEDCELLS/mtscatac_celltypefair_1.FIXEDCELLS__CD16+_monocyte__DARs.bed\n",
      "downstream_analysis/DARs/mtscatac_celltypefair_1.FIXEDCELLS/mtscatac_celltypefair_1.FIXEDCELLS__CD4+_T_cell__DARs.bed\n",
      "downstream_analysis/DARs/mtscatac_celltypefair_1.FIXEDCELLS/mtscatac_celltypefair_1.FIXEDCELLS__Cytotoxic_T_cell__DARs.bed\n",
      "downstream_analysis/DARs/mtscatac_celltypefair_1.FIXEDCELLS/mtscatac_celltypefair_1.FIXEDCELLS__Dendritic_cell__DARs.bed\n",
      "downstream_analysis/DARs/mtscatac_celltypefair_1.FIXEDCELLS/mtscatac_celltypefair_1.FIXEDCELLS__Natural_killer_cell__DARs.bed\n",
      "downstream_analysis/DARs/s3atac_celltypefair_1.FIXEDCELLS/s3atac_celltypefair_1.FIXEDCELLS__B_cell__DARs.bed\n",
      "downstream_analysis/DARs/s3atac_celltypefair_1.FIXEDCELLS/s3atac_celltypefair_1.FIXEDCELLS__CD14+_monocyte__DARs.bed\n",
      "downstream_analysis/DARs/s3atac_celltypefair_1.FIXEDCELLS/s3atac_celltypefair_1.FIXEDCELLS__CD16+_monocyte__DARs.bed\n",
      "downstream_analysis/DARs/s3atac_celltypefair_1.FIXEDCELLS/s3atac_celltypefair_1.FIXEDCELLS__CD4+_T_cell__DARs.bed\n",
      "downstream_analysis/DARs/s3atac_celltypefair_1.FIXEDCELLS/s3atac_celltypefair_1.FIXEDCELLS__Cytotoxic_T_cell__DARs.bed\n",
      "downstream_analysis/DARs/s3atac_celltypefair_1.FIXEDCELLS/s3atac_celltypefair_1.FIXEDCELLS__Dendritic_cell__DARs.bed\n",
      "downstream_analysis/DARs/s3atac_celltypefair_1.FIXEDCELLS/s3atac_celltypefair_1.FIXEDCELLS__Natural_killer_cell__DARs.bed\n"
     ]
    },
    {
     "data": {
      "application/javascript": [
       "\n",
       "            setTimeout(function() {\n",
       "                var nbb_cell_id = 6;\n",
       "                var nbb_unformatted_code = \"for file_path in sorted(glob.glob(\\\"downstream_analysis/DARs/*/*__DARs.bed\\\")):\\n    print(file_path)\\n    df = pd.read_csv(file_path, sep=\\\"\\\\t\\\", header=None)\\n    df[3] = df[3] + \\\"_\\\" + [str(x) for x in pd.DataFrame(range(len(df)))[0]]\\n    df.to_csv(\\n        file_path.replace(\\\".bed\\\", \\\".unique.bed\\\"), header=None, index=False, sep=\\\"\\\\t\\\"\\n    )\\n    df[:2000].to_csv(\\n        file_path.replace(\\\".bed\\\", \\\".unique.TOP2K.bed\\\"), header=None, index=False, sep=\\\"\\\\t\\\"\\n    )\";\n",
       "                var nbb_formatted_code = \"for file_path in sorted(glob.glob(\\\"downstream_analysis/DARs/*/*__DARs.bed\\\")):\\n    print(file_path)\\n    df = pd.read_csv(file_path, sep=\\\"\\\\t\\\", header=None)\\n    df[3] = df[3] + \\\"_\\\" + [str(x) for x in pd.DataFrame(range(len(df)))[0]]\\n    df.to_csv(\\n        file_path.replace(\\\".bed\\\", \\\".unique.bed\\\"), header=None, index=False, sep=\\\"\\\\t\\\"\\n    )\\n    df[:2000].to_csv(\\n        file_path.replace(\\\".bed\\\", \\\".unique.TOP2K.bed\\\"),\\n        header=None,\\n        index=False,\\n        sep=\\\"\\\\t\\\",\\n    )\";\n",
       "                var nbb_cells = Jupyter.notebook.get_cells();\n",
       "                for (var i = 0; i < nbb_cells.length; ++i) {\n",
       "                    if (nbb_cells[i].input_prompt_number == nbb_cell_id) {\n",
       "                        if (nbb_cells[i].get_text() == nbb_unformatted_code) {\n",
       "                             nbb_cells[i].set_text(nbb_formatted_code);\n",
       "                        }\n",
       "                        break;\n",
       "                    }\n",
       "                }\n",
       "            }, 500);\n",
       "            "
      ],
      "text/plain": [
       "<IPython.core.display.Javascript object>"
      ]
     },
     "metadata": {},
     "output_type": "display_data"
    }
   ],
   "source": [
    "for file_path in sorted(glob.glob(\"downstream_analysis/DARs/*/*__DARs.bed\")):\n",
    "    print(file_path)\n",
    "    df = pd.read_csv(file_path, sep=\"\\t\", header=None)\n",
    "    df[3] = df[3] + \"_\" + [str(x) for x in pd.DataFrame(range(len(df)))[0]]\n",
    "    df.to_csv(\n",
    "        file_path.replace(\".bed\", \".unique.bed\"), header=None, index=False, sep=\"\\t\"\n",
    "    )\n",
    "    df[:2000].to_csv(\n",
    "        file_path.replace(\".bed\", \".unique.TOP2K.bed\"), header=None, index=False, sep=\"\\t\"\n",
    "    )"
   ]
  },
  {
   "cell_type": "code",
   "execution_count": 7,
   "id": "2681e3bb-17d7-4fb8-a54b-2e9fb1f50b61",
   "metadata": {
    "execution": {
     "iopub.execute_input": "2023-02-20T18:29:49.691198Z",
     "iopub.status.busy": "2023-02-20T18:29:49.690341Z",
     "iopub.status.idle": "2023-02-20T18:29:49.725189Z",
     "shell.execute_reply": "2023-02-20T18:29:49.724053Z",
     "shell.execute_reply.started": "2023-02-20T18:29:49.691131Z"
    }
   },
   "outputs": [
    {
     "data": {
      "application/javascript": [
       "\n",
       "            setTimeout(function() {\n",
       "                var nbb_cell_id = 7;\n",
       "                var nbb_unformatted_code = \"for file_path in sorted(glob.glob(\\\"harmony_consensus_cell_type__mega_male_female_DARs/*/*__DARs.bed\\\")):\\n    print(file_path)\\n    df = pd.read_csv(file_path, sep=\\\"\\\\t\\\", header=None)\\n    df[3] = df[3] + \\\"_\\\" + [str(x) for x in pd.DataFrame(range(len(df)))[0]]\\n    df.to_csv(\\n        file_path.replace(\\\".bed\\\", \\\".unique.bed\\\"), header=None, index=False, sep=\\\"\\\\t\\\"\\n    )\";\n",
       "                var nbb_formatted_code = \"for file_path in sorted(\\n    glob.glob(\\\"harmony_consensus_cell_type__mega_male_female_DARs/*/*__DARs.bed\\\")\\n):\\n    print(file_path)\\n    df = pd.read_csv(file_path, sep=\\\"\\\\t\\\", header=None)\\n    df[3] = df[3] + \\\"_\\\" + [str(x) for x in pd.DataFrame(range(len(df)))[0]]\\n    df.to_csv(\\n        file_path.replace(\\\".bed\\\", \\\".unique.bed\\\"), header=None, index=False, sep=\\\"\\\\t\\\"\\n    )\";\n",
       "                var nbb_cells = Jupyter.notebook.get_cells();\n",
       "                for (var i = 0; i < nbb_cells.length; ++i) {\n",
       "                    if (nbb_cells[i].input_prompt_number == nbb_cell_id) {\n",
       "                        if (nbb_cells[i].get_text() == nbb_unformatted_code) {\n",
       "                             nbb_cells[i].set_text(nbb_formatted_code);\n",
       "                        }\n",
       "                        break;\n",
       "                    }\n",
       "                }\n",
       "            }, 500);\n",
       "            "
      ],
      "text/plain": [
       "<IPython.core.display.Javascript object>"
      ]
     },
     "metadata": {},
     "output_type": "display_data"
    }
   ],
   "source": [
    "for file_path in sorted(glob.glob(\"harmony_consensus_cell_type__mega_male_female_DARs/10xmultiome_celltypefair_1.FIXEDCELLS/*/*__DARs.bed\")):\n",
    "    print(file_path)\n",
    "    df = pd.read_csv(file_path, sep=\"\\t\", header=None)\n",
    "    df[3] = df[3] + \"_\" + [str(x) for x in pd.DataFrame(range(len(df)))[0]]\n",
    "    df.to_csv(\n",
    "        file_path.replace(\".bed\", \".unique.bed\"), header=None, index=False, sep=\"\\t\"\n",
    "    )"
   ]
  },
  {
   "cell_type": "code",
   "execution_count": null,
   "id": "5c90facb-005d-44b4-af36-796d8367030d",
   "metadata": {},
   "outputs": [],
   "source": []
  }
 ],
 "metadata": {
  "kernelspec": {
   "display_name": "20220628_pycistopic.sif",
   "language": "python",
   "name": "cistopic_20220628"
  },
  "language_info": {
   "codemirror_mode": {
    "name": "ipython",
    "version": 3
   },
   "file_extension": ".py",
   "mimetype": "text/x-python",
   "name": "python",
   "nbconvert_exporter": "python",
   "pygments_lexer": "ipython3",
   "version": "3.8.13"
  },
  "papermill": {
   "default_parameters": {},
   "duration": 18901.281753,
   "end_time": "2022-09-30T18:41:26.947373",
   "environment_variables": {},
   "exception": true,
   "input_path": "7b_downstream_analysis.ipynb",
   "output_path": "7b_downstream_analysis.OUT.ipynb",
   "parameters": {},
   "start_time": "2022-09-30T13:26:25.665620",
   "version": "2.3.3"
  }
 },
 "nbformat": 4,
 "nbformat_minor": 5
}

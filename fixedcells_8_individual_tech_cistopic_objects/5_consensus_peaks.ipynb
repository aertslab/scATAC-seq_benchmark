{
 "cells": [
  {
   "cell_type": "code",
   "execution_count": 1,
   "id": "36ab6d76",
   "metadata": {
    "execution": {
     "iopub.execute_input": "2023-02-20T16:39:38.346622Z",
     "iopub.status.busy": "2023-02-20T16:39:38.345617Z",
     "iopub.status.idle": "2023-02-20T16:39:44.842388Z",
     "shell.execute_reply": "2023-02-20T16:39:44.840340Z",
     "shell.execute_reply.started": "2023-02-20T16:39:38.346454Z"
    },
    "papermill": {
     "duration": 11.261378,
     "end_time": "2022-09-29T13:44:58.648959",
     "exception": false,
     "start_time": "2022-09-29T13:44:47.387581",
     "status": "completed"
    },
    "tags": []
   },
   "outputs": [],
   "source": [
    "from pycisTopic.pseudobulk_peak_calling import export_pseudobulk, peak_calling\n",
    "import pyranges as pr\n",
    "import requests\n",
    "import os\n",
    "import pandas as pd\n",
    "import glob\n",
    "import pickle"
   ]
  },
  {
   "cell_type": "code",
   "execution_count": 2,
   "id": "5175407b",
   "metadata": {
    "execution": {
     "iopub.execute_input": "2023-02-20T16:39:44.847837Z",
     "iopub.status.busy": "2023-02-20T16:39:44.846006Z",
     "iopub.status.idle": "2023-02-20T16:39:45.134438Z",
     "shell.execute_reply": "2023-02-20T16:39:45.133222Z",
     "shell.execute_reply.started": "2023-02-20T16:39:44.847766Z"
    },
    "papermill": {
     "duration": 0.304007,
     "end_time": "2022-09-29T13:44:58.962468",
     "exception": false,
     "start_time": "2022-09-29T13:44:58.658461",
     "status": "completed"
    },
    "tags": []
   },
   "outputs": [],
   "source": [
    "%load_ext lab_black"
   ]
  },
  {
   "cell_type": "code",
   "execution_count": 3,
   "id": "5ffd6b22",
   "metadata": {
    "execution": {
     "iopub.execute_input": "2023-02-20T16:39:45.136103Z",
     "iopub.status.busy": "2023-02-20T16:39:45.135765Z",
     "iopub.status.idle": "2023-02-20T16:39:45.176346Z",
     "shell.execute_reply": "2023-02-20T16:39:45.174972Z",
     "shell.execute_reply.started": "2023-02-20T16:39:45.136072Z"
    },
    "papermill": {
     "duration": 0.028416,
     "end_time": "2022-09-29T13:44:58.994714",
     "exception": false,
     "start_time": "2022-09-29T13:44:58.966298",
     "status": "completed"
    },
    "tags": []
   },
   "outputs": [],
   "source": [
    "# get chromosome sizes (hg38)\n",
    "if not os.path.exists(\"chromsizes.txt\"):\n",
    "    target_url = (\n",
    "        \"http://hgdownload.cse.ucsc.edu/goldenPath/hg38/bigZips/hg38.chrom.sizes\"\n",
    "    )\n",
    "    chromsizes = pd.read_csv(target_url, sep=\"\\t\", header=None)\n",
    "    chromsizes.columns = [\"Chromosome\", \"End\"]\n",
    "    chromsizes[\"Start\"] = [0] * chromsizes.shape[0]\n",
    "    chromsizes = chromsizes.loc[:, [\"Chromosome\", \"Start\", \"End\"]]\n",
    "    chromsizes = pr.PyRanges(chromsizes)\n",
    "    chromsizes.to_csv(\"chromsizes.txt\")\n",
    "    chromsizes\n",
    "else:\n",
    "    chromsizes = pd.read_csv(\"chromsizes.txt\")"
   ]
  },
  {
   "cell_type": "code",
   "execution_count": 4,
   "id": "40497f28",
   "metadata": {
    "execution": {
     "iopub.execute_input": "2023-02-20T16:39:45.180101Z",
     "iopub.status.busy": "2023-02-20T16:39:45.179532Z",
     "iopub.status.idle": "2023-02-20T16:39:45.201126Z",
     "shell.execute_reply": "2023-02-20T16:39:45.200090Z",
     "shell.execute_reply.started": "2023-02-20T16:39:45.180066Z"
    },
    "tags": []
   },
   "outputs": [
    {
     "data": {
      "text/plain": [
       "{'10xmultiome_celltypefair_1.FIXEDCELLS': 'cistopic_objects/10xmultiome_celltypefair_1.FIXEDCELLS__cto.scrublet0-4.fmx.singlets.model_19topics.pkl',\n",
       " '10xv11_celltypefair_1.FIXEDCELLS': 'cistopic_objects/10xv11_celltypefair_1.FIXEDCELLS__cto.scrublet0-4.fmx.singlets.model_26topics.pkl',\n",
       " '10xv1_celltypefair_1.FIXEDCELLS': 'cistopic_objects/10xv1_celltypefair_1.FIXEDCELLS__cto.scrublet0-4.fmx.singlets.model_21topics.pkl',\n",
       " '10xv2_celltypefair_1.FIXEDCELLS': 'cistopic_objects/10xv2_celltypefair_1.FIXEDCELLS__cto.scrublet0-4.fmx.singlets.model_25topics.pkl',\n",
       " 'ddseq_celltypefair_1.FIXEDCELLS': 'cistopic_objects/ddseq_celltypefair_1.FIXEDCELLS__cto.scrublet0-4.fmx.singlets.model_17topics.pkl',\n",
       " 'hydrop_celltypefair_1.FIXEDCELLS': 'cistopic_objects/hydrop_celltypefair_1.FIXEDCELLS__cto.scrublet0-4.fmx.singlets.model_22topics.pkl',\n",
       " 'mtscatac_celltypefair_1.FIXEDCELLS': 'cistopic_objects/mtscatac_celltypefair_1.FIXEDCELLS__cto.scrublet0-4.fmx.singlets.model_25topics.pkl',\n",
       " 's3atac_celltypefair_1.FIXEDCELLS': 'cistopic_objects/s3atac_celltypefair_1.FIXEDCELLS__cto.scrublet0-4.fmx.singlets.model_18topics.pkl'}"
      ]
     },
     "execution_count": 4,
     "metadata": {},
     "output_type": "execute_result"
    }
   ],
   "source": [
    "cto_consensus_paths = sorted(glob.glob(f\"cistopic_objects/*topics.pkl\"))\n",
    "cto_consensus_path_dict = {\n",
    "    x.split(\"/\")[-1].split(f\"__\")[0]: x for x in cto_consensus_paths\n",
    "}\n",
    "cto_consensus_path_dict"
   ]
  },
  {
   "cell_type": "code",
   "execution_count": 5,
   "id": "455d32b4",
   "metadata": {
    "execution": {
     "iopub.execute_input": "2023-02-20T16:39:45.202320Z",
     "iopub.status.busy": "2023-02-20T16:39:45.202095Z",
     "iopub.status.idle": "2023-02-20T16:39:45.210609Z",
     "shell.execute_reply": "2023-02-20T16:39:45.209656Z",
     "shell.execute_reply.started": "2023-02-20T16:39:45.202298Z"
    },
    "papermill": {
     "duration": 0.013767,
     "end_time": "2022-09-29T13:44:59.037256",
     "exception": false,
     "start_time": "2022-09-29T13:44:59.023489",
     "status": "completed"
    },
    "tags": []
   },
   "outputs": [
    {
     "data": {
      "text/plain": [
       "{'10xmultiome_celltypefair_1.FIXEDCELLS': '/lustre1/project/stg_00090/scatac_benchmark/fixedcells_4_merged/merged_all_1.fragments.ID.sorted.tsv.gz',\n",
       " '10xv11_celltypefair_1.FIXEDCELLS': '/lustre1/project/stg_00090/scatac_benchmark/fixedcells_4_merged/merged_all_1.fragments.ID.sorted.tsv.gz',\n",
       " '10xv1_celltypefair_1.FIXEDCELLS': '/lustre1/project/stg_00090/scatac_benchmark/fixedcells_4_merged/merged_all_1.fragments.ID.sorted.tsv.gz',\n",
       " '10xv2_celltypefair_1.FIXEDCELLS': '/lustre1/project/stg_00090/scatac_benchmark/fixedcells_4_merged/merged_all_1.fragments.ID.sorted.tsv.gz',\n",
       " 'ddseq_celltypefair_1.FIXEDCELLS': '/lustre1/project/stg_00090/scatac_benchmark/fixedcells_4_merged/merged_all_1.fragments.ID.sorted.tsv.gz',\n",
       " 'hydrop_celltypefair_1.FIXEDCELLS': '/lustre1/project/stg_00090/scatac_benchmark/fixedcells_4_merged/merged_all_1.fragments.ID.sorted.tsv.gz',\n",
       " 'mtscatac_celltypefair_1.FIXEDCELLS': '/lustre1/project/stg_00090/scatac_benchmark/fixedcells_4_merged/merged_all_1.fragments.ID.sorted.tsv.gz',\n",
       " 's3atac_celltypefair_1.FIXEDCELLS': '/lustre1/project/stg_00090/scatac_benchmark/fixedcells_4_merged/merged_all_1.fragments.ID.sorted.tsv.gz'}"
      ]
     },
     "execution_count": 5,
     "metadata": {},
     "output_type": "execute_result"
    }
   ],
   "source": [
    "fragments_path_dict = {\n",
    "    x: \"/lustre1/project/stg_00090/scatac_benchmark/fixedcells_4_merged/merged_all_1.fragments.ID.sorted.tsv.gz\"\n",
    "    for x in cto_consensus_path_dict.keys()\n",
    "}\n",
    "fragments_path_dict"
   ]
  },
  {
   "cell_type": "code",
   "execution_count": 6,
   "id": "0cf2f5a7-de78-4a8d-a938-8a19ed1c493a",
   "metadata": {
    "execution": {
     "iopub.execute_input": "2023-02-20T16:39:45.212160Z",
     "iopub.status.busy": "2023-02-20T16:39:45.211626Z",
     "iopub.status.idle": "2023-02-20T16:39:45.223595Z",
     "shell.execute_reply": "2023-02-20T16:39:45.222642Z",
     "shell.execute_reply.started": "2023-02-20T16:39:45.212134Z"
    },
    "tags": []
   },
   "outputs": [
    {
     "data": {
      "text/plain": [
       "{'BIO_ddseq_1.FIXEDCELLS': '../1_data_repository/fixedcells_fragments/BIO_ddseq_1.FIXEDCELLS.fragments.tsv.gz',\n",
       " 'BIO_ddseq_2.FIXEDCELLS': '../1_data_repository/fixedcells_fragments/BIO_ddseq_2.FIXEDCELLS.fragments.tsv.gz',\n",
       " 'BIO_ddseq_3.FIXEDCELLS': '../1_data_repository/fixedcells_fragments/BIO_ddseq_3.FIXEDCELLS.fragments.tsv.gz',\n",
       " 'BIO_ddseq_4.FIXEDCELLS': '../1_data_repository/fixedcells_fragments/BIO_ddseq_4.FIXEDCELLS.fragments.tsv.gz',\n",
       " 'BRO_mtscatac_1.FIXEDCELLS': '../1_data_repository/fixedcells_fragments/BRO_mtscatac_1.FIXEDCELLS.fragments.tsv.gz',\n",
       " 'BRO_mtscatac_2.FIXEDCELLS': '../1_data_repository/fixedcells_fragments/BRO_mtscatac_2.FIXEDCELLS.fragments.tsv.gz',\n",
       " 'CNA_10xmultiome_1.FIXEDCELLS': '../1_data_repository/fixedcells_fragments/CNA_10xmultiome_1.FIXEDCELLS.fragments.tsv.gz',\n",
       " 'CNA_10xmultiome_2.FIXEDCELLS': '../1_data_repository/fixedcells_fragments/CNA_10xmultiome_2.FIXEDCELLS.fragments.tsv.gz',\n",
       " 'CNA_10xv11_1.FIXEDCELLS': '../1_data_repository/fixedcells_fragments/CNA_10xv11_1.FIXEDCELLS.fragments.tsv.gz',\n",
       " 'CNA_10xv11_2.FIXEDCELLS': '../1_data_repository/fixedcells_fragments/CNA_10xv11_2.FIXEDCELLS.fragments.tsv.gz',\n",
       " 'CNA_10xv11_3.FIXEDCELLS': '../1_data_repository/fixedcells_fragments/CNA_10xv11_3.FIXEDCELLS.fragments.tsv.gz',\n",
       " 'CNA_10xv11_4.FIXEDCELLS': '../1_data_repository/fixedcells_fragments/CNA_10xv11_4.FIXEDCELLS.fragments.tsv.gz',\n",
       " 'CNA_10xv11_5.FIXEDCELLS': '../1_data_repository/fixedcells_fragments/CNA_10xv11_5.FIXEDCELLS.fragments.tsv.gz',\n",
       " 'CNA_10xv2_1.FIXEDCELLS': '../1_data_repository/fixedcells_fragments/CNA_10xv2_1.FIXEDCELLS.fragments.tsv.gz',\n",
       " 'CNA_10xv2_2.FIXEDCELLS': '../1_data_repository/fixedcells_fragments/CNA_10xv2_2.FIXEDCELLS.fragments.tsv.gz',\n",
       " 'CNA_hydrop_1.FIXEDCELLS': '../1_data_repository/fixedcells_fragments/CNA_hydrop_1.FIXEDCELLS.fragments.tsv.gz',\n",
       " 'CNA_hydrop_2.FIXEDCELLS': '../1_data_repository/fixedcells_fragments/CNA_hydrop_2.FIXEDCELLS.fragments.tsv.gz',\n",
       " 'CNA_hydrop_3.FIXEDCELLS': '../1_data_repository/fixedcells_fragments/CNA_hydrop_3.FIXEDCELLS.fragments.tsv.gz',\n",
       " 'CNA_mtscatac_1.FIXEDCELLS': '../1_data_repository/fixedcells_fragments/CNA_mtscatac_1.FIXEDCELLS.fragments.tsv.gz',\n",
       " 'CNA_mtscatac_2.FIXEDCELLS': '../1_data_repository/fixedcells_fragments/CNA_mtscatac_2.FIXEDCELLS.fragments.tsv.gz',\n",
       " 'EPF_hydrop_1.FIXEDCELLS': '../1_data_repository/fixedcells_fragments/EPF_hydrop_1.FIXEDCELLS.fragments.tsv.gz',\n",
       " 'EPF_hydrop_2.FIXEDCELLS': '../1_data_repository/fixedcells_fragments/EPF_hydrop_2.FIXEDCELLS.fragments.tsv.gz',\n",
       " 'EPF_hydrop_3.FIXEDCELLS': '../1_data_repository/fixedcells_fragments/EPF_hydrop_3.FIXEDCELLS.fragments.tsv.gz',\n",
       " 'EPF_hydrop_4.FIXEDCELLS': '../1_data_repository/fixedcells_fragments/EPF_hydrop_4.FIXEDCELLS.fragments.tsv.gz',\n",
       " 'HAR_ddseq_1.FIXEDCELLS': '../1_data_repository/fixedcells_fragments/HAR_ddseq_1.FIXEDCELLS.fragments.tsv.gz',\n",
       " 'HAR_ddseq_2.FIXEDCELLS': '../1_data_repository/fixedcells_fragments/HAR_ddseq_2.FIXEDCELLS.fragments.tsv.gz',\n",
       " 'MDC_mtscatac_1.FIXEDCELLS': '../1_data_repository/fixedcells_fragments/MDC_mtscatac_1.FIXEDCELLS.fragments.tsv.gz',\n",
       " 'MDC_mtscatac_2.FIXEDCELLS': '../1_data_repository/fixedcells_fragments/MDC_mtscatac_2.FIXEDCELLS.fragments.tsv.gz',\n",
       " 'OHS_s3atac_1.FIXEDCELLS': '../1_data_repository/fixedcells_fragments/OHS_s3atac_1.FIXEDCELLS.fragments.tsv.gz',\n",
       " 'OHS_s3atac_2.FIXEDCELLS': '../1_data_repository/fixedcells_fragments/OHS_s3atac_2.FIXEDCELLS.fragments.tsv.gz',\n",
       " 'SAN_10xmultiome_1.FIXEDCELLS': '../1_data_repository/fixedcells_fragments/SAN_10xmultiome_1.FIXEDCELLS.fragments.tsv.gz',\n",
       " 'SAN_10xmultiome_2.FIXEDCELLS': '../1_data_repository/fixedcells_fragments/SAN_10xmultiome_2.FIXEDCELLS.fragments.tsv.gz',\n",
       " 'STA_10xv11_1.FIXEDCELLS': '../1_data_repository/fixedcells_fragments/STA_10xv11_1.FIXEDCELLS.fragments.tsv.gz',\n",
       " 'STA_10xv11_2.FIXEDCELLS': '../1_data_repository/fixedcells_fragments/STA_10xv11_2.FIXEDCELLS.fragments.tsv.gz',\n",
       " 'TXG_10xv11_1.FIXEDCELLS': '../1_data_repository/fixedcells_fragments/TXG_10xv11_1.FIXEDCELLS.fragments.tsv.gz',\n",
       " 'TXG_10xv2_1.FIXEDCELLS': '../1_data_repository/fixedcells_fragments/TXG_10xv2_1.FIXEDCELLS.fragments.tsv.gz',\n",
       " 'TXG_10xv2_2.FIXEDCELLS': '../1_data_repository/fixedcells_fragments/TXG_10xv2_2.FIXEDCELLS.fragments.tsv.gz',\n",
       " 'UCS_ddseq_1.FIXEDCELLS': '../1_data_repository/fixedcells_fragments/UCS_ddseq_1.FIXEDCELLS.fragments.tsv.gz',\n",
       " 'UCS_ddseq_2.FIXEDCELLS': '../1_data_repository/fixedcells_fragments/UCS_ddseq_2.FIXEDCELLS.fragments.tsv.gz',\n",
       " 'VIB_10xmultiome_1.FIXEDCELLS': '../1_data_repository/fixedcells_fragments/VIB_10xmultiome_1.FIXEDCELLS.fragments.tsv.gz',\n",
       " 'VIB_10xmultiome_2.FIXEDCELLS': '../1_data_repository/fixedcells_fragments/VIB_10xmultiome_2.FIXEDCELLS.fragments.tsv.gz',\n",
       " 'VIB_10xv1_1.FIXEDCELLS': '../1_data_repository/fixedcells_fragments/VIB_10xv1_1.FIXEDCELLS.fragments.tsv.gz',\n",
       " 'VIB_10xv1_2.FIXEDCELLS': '../1_data_repository/fixedcells_fragments/VIB_10xv1_2.FIXEDCELLS.fragments.tsv.gz',\n",
       " 'VIB_10xv2_1.FIXEDCELLS': '../1_data_repository/fixedcells_fragments/VIB_10xv2_1.FIXEDCELLS.fragments.tsv.gz',\n",
       " 'VIB_10xv2_2.FIXEDCELLS': '../1_data_repository/fixedcells_fragments/VIB_10xv2_2.FIXEDCELLS.fragments.tsv.gz',\n",
       " 'VIB_hydrop_1.FIXEDCELLS': '../1_data_repository/fixedcells_fragments/VIB_hydrop_1.FIXEDCELLS.fragments.tsv.gz',\n",
       " 'VIB_hydrop_11.FIXEDCELLS': '../1_data_repository/fixedcells_fragments/VIB_hydrop_11.FIXEDCELLS.fragments.tsv.gz',\n",
       " 'VIB_hydrop_12.FIXEDCELLS': '../1_data_repository/fixedcells_fragments/VIB_hydrop_12.FIXEDCELLS.fragments.tsv.gz',\n",
       " 'VIB_hydrop_2.FIXEDCELLS': '../1_data_repository/fixedcells_fragments/VIB_hydrop_2.FIXEDCELLS.fragments.tsv.gz',\n",
       " 'VIB_hydrop_21.FIXEDCELLS': '../1_data_repository/fixedcells_fragments/VIB_hydrop_21.FIXEDCELLS.fragments.tsv.gz',\n",
       " 'VIB_hydrop_22.FIXEDCELLS': '../1_data_repository/fixedcells_fragments/VIB_hydrop_22.FIXEDCELLS.fragments.tsv.gz'}"
      ]
     },
     "execution_count": 6,
     "metadata": {},
     "output_type": "execute_result"
    }
   ],
   "source": [
    "fragments_path_dict = {\n",
    "    x.split(\"/\")[-1].split(f\".fragments.tsv.gz\")[0]: x\n",
    "    for x in sorted(glob.glob(\"../1_data_repository/fixedcells_fragments/*.tsv.gz\"))\n",
    "}\n",
    "fragments_path_dict"
   ]
  },
  {
   "cell_type": "code",
   "execution_count": 7,
   "id": "58c86f3d",
   "metadata": {
    "execution": {
     "iopub.execute_input": "2023-02-20T16:39:45.224996Z",
     "iopub.status.busy": "2023-02-20T16:39:45.224778Z",
     "iopub.status.idle": "2023-02-20T16:39:45.308130Z",
     "shell.execute_reply": "2023-02-20T16:39:45.306877Z",
     "shell.execute_reply.started": "2023-02-20T16:39:45.224976Z"
    },
    "papermill": {
     "duration": 0.196325,
     "end_time": "2022-09-29T13:44:59.237563",
     "exception": false,
     "start_time": "2022-09-29T13:44:59.041238",
     "status": "completed"
    },
    "tags": []
   },
   "outputs": [],
   "source": [
    "import gc\n",
    "import logging\n",
    "import os\n",
    "import re\n",
    "import subprocess\n",
    "import sys\n",
    "from typing import Dict, List, Optional, Union\n",
    "\n",
    "import numpy as np\n",
    "import pandas as pd\n",
    "import pyBigWig\n",
    "import pyranges as pr\n",
    "import ray\n",
    "\n",
    "from pycisTopic.cistopic_class import *\n",
    "from pycisTopic.utils import *\n",
    "\n",
    "\n",
    "def export_pseudobulk(\n",
    "    input_data: Union[\"CistopicObject\", pd.DataFrame, Dict[str, pd.DataFrame]],\n",
    "    variable: str,\n",
    "    chromsizes: Union[pd.DataFrame, pr.PyRanges],\n",
    "    bed_path: str,\n",
    "    bigwig_path: str,\n",
    "    path_to_fragments: Optional[Dict[str, str]] = None,\n",
    "    sample_id_col: Optional[str] = \"sample_id\",\n",
    "    n_cpu: Optional[int] = 1,\n",
    "    normalize_bigwig: Optional[bool] = True,\n",
    "    remove_duplicates: Optional[bool] = True,\n",
    "    split_pattern: Optional[str] = \"___\",\n",
    "    use_polars: Optional[bool] = True,\n",
    "    **kwargs\n",
    "):\n",
    "    \"\"\"\n",
    "    Create pseudobulks as bed and bigwig from single cell fragments file given a barcode annotation.\n",
    "    Parameters\n",
    "    ---------\n",
    "    input_data: CistopicObject or pd.DataFrame\n",
    "            A :class:`CistopicObject` containing the specified `variable` as a column in :class:`CistopicObject.cell_data` or a cell metadata\n",
    "            :class:`pd.DataFrame` containing barcode as rows, containing the specified `variable` as a column (additional columns are\n",
    "            possible) and a `sample_id` column. Index names must contain the BARCODE (e.g. ATGTCGTC-1), additional tags are possible separating with -\n",
    "            (e.g. ATGCTGTGCG-1-Sample_1). The levels in the sample_id column must agree with the keys in the path_to_fragments dictionary.\n",
    "            Alternatively, if the cell metadata contains a column named barcode it will be used instead of the index names.\n",
    "    variable: str\n",
    "            A character string indicating the column that will be used to create the different group pseudobulk. It must be included in\n",
    "            the cell metadata provided as input_data.\n",
    "    chromsizes: pd.DataFrame or pr.PyRanges\n",
    "            A data frame or :class:`pr.PyRanges` containing size of each chromosome, containing 'Chromosome', 'Start' and 'End' columns.\n",
    "    bed_path: str\n",
    "            Path to folder where the fragments bed files per group will be saved. If None, files will not be generated.\n",
    "    bigwig_path: str\n",
    "            Path to folder where the bigwig files per group will be saved. If None, files will not be generated.\n",
    "    path_to_fragments: str or dict, optional\n",
    "            A dictionary of character strings, with sample name as names indicating the path to the fragments file/s from which pseudobulk profiles have to\n",
    "            be created. If a :class:`CistopicObject` is provided as input it will be ignored, but if a cell metadata :class:`pd.DataFrame` is provided it\n",
    "            is necessary to provide it. The keys of the dictionary need to match with the sample_id tag added to the index names of the input data frame.\n",
    "    sample_id_col: str, optional\n",
    "            Name of the column containing the sample name per barcode in the input :class:`CistopicObject.cell_data` or class:`pd.DataFrame`. Default: 'sample_id'.\n",
    "    n_cpu: int, optional\n",
    "            Number of cores to use. Default: 1.\n",
    "    normalize_bigwig: bool, optional\n",
    "            Whether bigwig files should be CPM normalized. Default: True.\n",
    "    remove_duplicates: bool, optional\n",
    "            Whether duplicates should be removed before converting the data to bigwig.\n",
    "    split_pattern: str, optional\n",
    "            Pattern to split cell barcode from sample id. Default: ___ .\n",
    "    use_polars: bool, optional\n",
    "            Whether to use polars to read fragments files. Default: True.\n",
    "    **kwargs\n",
    "            Additional parameters for ray.init()\n",
    "    Return\n",
    "    ------\n",
    "    dict\n",
    "            A dictionary containing the paths to the newly created bed fragments files per group a dictionary containing the paths to the\n",
    "            newly created bigwig files per group.\n",
    "    \"\"\"\n",
    "    # Create logger\n",
    "    level = logging.INFO\n",
    "    log_format = \"%(asctime)s %(name)-12s %(levelname)-8s %(message)s\"\n",
    "    handlers = [logging.StreamHandler(stream=sys.stdout)]\n",
    "    logging.basicConfig(level=level, format=log_format, handlers=handlers)\n",
    "    log = logging.getLogger(\"cisTopic\")\n",
    "\n",
    "    # Get fragments file\n",
    "    if isinstance(input_data, CistopicObject):\n",
    "        path_to_fragments = input_data.path_to_fragments\n",
    "        if path_to_fragments is None:\n",
    "            log.error(\"No path_to_fragments in this cisTopic object.\")\n",
    "        cell_data = input_data.cell_data\n",
    "    elif isinstance(input_data, pd.DataFrame):\n",
    "        if path_to_fragments is None:\n",
    "            log.error(\"Please, provide path_to_fragments.\")\n",
    "        cell_data = input_data\n",
    "    # Check for sample_id column\n",
    "    try:\n",
    "        sample_ids = list(set(cell_data[sample_id_col]))\n",
    "    except ValueError:\n",
    "        print(\n",
    "            'Please, include a sample identification column (e.g. \"sample_id\") in your cell metadata!'\n",
    "        )\n",
    "\n",
    "    # Get fragments\n",
    "    fragments_df_dict = {}\n",
    "    for sample_id in path_to_fragments.keys():\n",
    "        if sample_id not in sample_ids:\n",
    "            log.info(\n",
    "                \"The following path_to_fragments entry is not found in the cell metadata sample_id_col: \",\n",
    "                sample_id,\n",
    "                \". It will be ignored.\",\n",
    "            )\n",
    "        else:\n",
    "            log.info(\"Reading fragments from \" + path_to_fragments[sample_id])\n",
    "            fragments_df = read_fragments_from_file(\n",
    "                path_to_fragments[sample_id], use_polars=use_polars\n",
    "            ).df\n",
    "            # Convert to int32 for memory efficiency\n",
    "            fragments_df.Start = np.int32(fragments_df.Start)\n",
    "            fragments_df.End = np.int32(fragments_df.End)\n",
    "            if \"Score\" in fragments_df:\n",
    "                fragments_df.Score = np.int32(fragments_df.Score)\n",
    "            if \"barcode\" in cell_data:\n",
    "                fragments_df = fragments_df.loc[\n",
    "                    fragments_df[\"Name\"].isin(cell_data[\"barcode\"].tolist())\n",
    "                ]\n",
    "            else:\n",
    "                fragments_df = fragments_df.loc[\n",
    "                    fragments_df[\"Name\"].isin(\n",
    "                        prepare_tag_cells(cell_data.index.tolist(), split_pattern)\n",
    "                    )\n",
    "                ]\n",
    "            fragments_df_dict[sample_id] = fragments_df\n",
    "\n",
    "    # Set groups\n",
    "    if \"barcode\" in cell_data:\n",
    "        cell_data = cell_data.loc[:, [variable, sample_id_col, \"barcode\"]]\n",
    "    else:\n",
    "        cell_data = cell_data.loc[:, [variable, sample_id_col]]\n",
    "    cell_data[variable] = cell_data[variable].replace(\" \", \"\", regex=True)\n",
    "    cell_data[variable] = cell_data[variable].replace(\"[^A-Za-z0-9]+\", \"_\", regex=True)\n",
    "    groups = sorted(list(set(cell_data[variable])))\n",
    "    # Check chromosome sizes\n",
    "    if isinstance(chromsizes, pd.DataFrame):\n",
    "        chromsizes = chromsizes.loc[:, [\"Chromosome\", \"Start\", \"End\"]]\n",
    "        chromsizes = pr.PyRanges(chromsizes)\n",
    "    # Check that output dir exist and generate output paths\n",
    "    if isinstance(bed_path, str):\n",
    "        if not os.path.exists(bed_path):\n",
    "            os.makedirs(bed_path)\n",
    "        bed_paths = {\n",
    "            group: os.path.join(bed_path, str(group) + \".bed.gz\") for group in groups\n",
    "        }\n",
    "    else:\n",
    "        bed_paths = {}\n",
    "    if isinstance(bigwig_path, str):\n",
    "        if not os.path.exists(bigwig_path):\n",
    "            os.makedirs(bigwig_path)\n",
    "        bw_paths = {\n",
    "            group: os.path.join(bigwig_path, str(group) + \".bw\") for group in groups\n",
    "        }\n",
    "    else:\n",
    "        bw_paths = {}\n",
    "    # Create pseudobulks\n",
    "    if n_cpu > 1:\n",
    "        ray.init(num_cpus=n_cpu, **kwargs)\n",
    "        ray_handle = ray.wait(\n",
    "            [\n",
    "                export_pseudobulk_ray.remote(\n",
    "                    cell_data,\n",
    "                    group,\n",
    "                    fragments_df_dict,\n",
    "                    chromsizes,\n",
    "                    bigwig_path,\n",
    "                    bed_path,\n",
    "                    sample_id_col,\n",
    "                    normalize_bigwig,\n",
    "                    remove_duplicates,\n",
    "                    split_pattern,\n",
    "                )\n",
    "                for group in groups\n",
    "            ],\n",
    "            num_returns=len(groups),\n",
    "        )\n",
    "        ray.shutdown()\n",
    "    else:\n",
    "        [\n",
    "            export_pseudobulk_one_sample(\n",
    "                cell_data,\n",
    "                group,\n",
    "                fragments_df_dict,\n",
    "                chromsizes,\n",
    "                bigwig_path,\n",
    "                bed_path,\n",
    "                sample_id_col,\n",
    "                normalize_bigwig,\n",
    "                remove_duplicates,\n",
    "                split_pattern,\n",
    "            )\n",
    "            for group in groups\n",
    "        ]\n",
    "\n",
    "    return bw_paths, bed_paths\n",
    "\n",
    "\n",
    "def export_pseudobulk_one_sample(\n",
    "    cell_data: pd.DataFrame,\n",
    "    group: str,\n",
    "    fragments_df_dict: Dict[str, pd.DataFrame],\n",
    "    chromsizes: pr.PyRanges,\n",
    "    bigwig_path: str,\n",
    "    bed_path: str,\n",
    "    sample_id_col: Optional[str] = \"sample_id\",\n",
    "    normalize_bigwig: Optional[bool] = True,\n",
    "    remove_duplicates: Optional[bool] = True,\n",
    "    split_pattern: Optional[str] = \"___\",\n",
    "):\n",
    "    \"\"\"\n",
    "    Create pseudobulk as bed and bigwig from single cell fragments file given a barcode annotation and a group.\n",
    "    Parameters\n",
    "    ---------\n",
    "    cell_data: pd.DataFrame\n",
    "            A cell metadata :class:`pd.Dataframe` containing barcodes, their annotation and their sample of origin.\n",
    "    group: str\n",
    "            A character string indicating the group for which pseudobulks will be created.\n",
    "    fragments_df_dict: dict\n",
    "            A dictionary containing data frames as values with 'Chromosome', 'Start', 'End', 'Name', and 'Score' as columns; and sample label\n",
    "            as keys. 'Score' indicates the number of times that a fragments is found assigned to that barcode.\n",
    "    chromsizes: pr.PyRanges\n",
    "            A :class:`pr.PyRanges` containing size of each column, containing 'Chromosome', 'Start' and 'End' columns.\n",
    "    bigwig_path: str\n",
    "            Path to folder where the bigwig file will be saved.\n",
    "    bed_path: str\n",
    "            Path to folder where the fragments bed file will be saved.\n",
    "    sample_id_col: str, optional\n",
    "            Name of the column containing the sample name per barcode in the input :class:`CistopicObject.cell_data` or class:`pd.DataFrame`. Default: 'sample_id'.\n",
    "    normalize_bigwig: bool, optional\n",
    "            Whether bigwig files should be CPM normalized. Default: True.\n",
    "    remove_duplicates: bool, optional\n",
    "            Whether duplicates should be removed before converting the data to bigwig.\n",
    "    split_pattern: str\n",
    "            Pattern to split cell barcode from sample id. Default: ___ .\n",
    "    \"\"\"\n",
    "    # Create logger\n",
    "    level = logging.INFO\n",
    "    log_format = \"%(asctime)s %(name)-12s %(levelname)-8s %(message)s\"\n",
    "    handlers = [logging.StreamHandler(stream=sys.stdout)]\n",
    "    logging.basicConfig(level=level, format=log_format, handlers=handlers)\n",
    "    log = logging.getLogger(\"cisTopic\")\n",
    "\n",
    "    log.info(\"Creating pseudobulk for \" + str(group))\n",
    "    group_fragments_list = []\n",
    "    group_fragments_dict = {}\n",
    "    for sample_id in fragments_df_dict:\n",
    "        sample_data = cell_data[cell_data.loc[:, sample_id_col].isin([sample_id])]\n",
    "        if \"barcode\" in sample_data:\n",
    "            sample_data.index = sample_data[\"barcode\"].tolist()\n",
    "        else:\n",
    "            sample_data.index = prepare_tag_cells(\n",
    "                sample_data.index.tolist(), split_pattern\n",
    "            )\n",
    "        group_var = sample_data.iloc[:, 0]\n",
    "        barcodes = group_var[group_var.isin([group])].index.tolist()\n",
    "        fragments_df = fragments_df_dict[sample_id]\n",
    "        group_fragments = fragments_df.loc[fragments_df[\"Name\"].isin(barcodes)]\n",
    "        if len(fragments_df_dict) > 1:\n",
    "            group_fragments_dict[sample_id] = group_fragments\n",
    "\n",
    "    if len(fragments_df_dict) > 1:\n",
    "        group_fragments_list = [\n",
    "            group_fragments_dict[list(group_fragments_dict.keys())[x]]\n",
    "            for x in range(len(fragments_df_dict))\n",
    "        ]\n",
    "        group_fragments = group_fragments_list[0].append(group_fragments_list[1:])\n",
    "\n",
    "    group_fragments = group_fragments[\n",
    "        group_fragments[\"Chromosome\"].isin(chromsizes.Chromosome)\n",
    "    ]\n",
    "\n",
    "    del group_fragments_dict\n",
    "    del group_fragments_list\n",
    "    del fragments_df\n",
    "    gc.collect()\n",
    "\n",
    "    group_pr = pr.PyRanges(group_fragments)\n",
    "    if isinstance(bigwig_path, str):\n",
    "        bigwig_path_group = os.path.join(bigwig_path, str(group) + \".bw\")\n",
    "        if remove_duplicates:\n",
    "            group_pr.to_bigwig(\n",
    "                path=bigwig_path_group,\n",
    "                chromosome_sizes=chromsizes,\n",
    "                rpm=normalize_bigwig,\n",
    "            )\n",
    "        else:\n",
    "            group_pr.to_bigwig(\n",
    "                path=bigwig_path_group,\n",
    "                chromosome_sizes=chromsizes,\n",
    "                rpm=normalize_bigwig,\n",
    "                value_col=\"Score\",\n",
    "            )\n",
    "    if isinstance(bed_path, str):\n",
    "        bed_path_group = os.path.join(bed_path, str(group) + \".bed.gz\")\n",
    "        group_pr.to_bed(\n",
    "            path=bed_path_group, keep=False, compression=\"infer\", chain=False\n",
    "        )\n",
    "\n",
    "    log.info(str(group) + \" done!\")\n",
    "\n",
    "\n",
    "@ray.remote\n",
    "def export_pseudobulk_ray(\n",
    "    cell_data: pd.DataFrame,\n",
    "    group: str,\n",
    "    fragments_df_dict: Dict[str, pd.DataFrame],\n",
    "    chromsizes: pr.PyRanges,\n",
    "    bigwig_path: str,\n",
    "    bed_path: str,\n",
    "    sample_id_col: Optional[str] = \"sample_id\",\n",
    "    normalize_bigwig: Optional[bool] = True,\n",
    "    remove_duplicates: Optional[bool] = True,\n",
    "    split_pattern: Optional[str] = \"___\",\n",
    "):\n",
    "    \"\"\"\n",
    "    Create pseudobulk as bed and bigwig from single cell fragments file given a barcode annotation and a group.\n",
    "    Parameters\n",
    "    ---------\n",
    "    cell_data: pd.DataFrame\n",
    "            A cell metadata :class:`pd.Dataframe` containing barcodes, their annotation and their sample of origin.\n",
    "    group: str\n",
    "            A character string indicating the group for which pseudobulks will be created.\n",
    "    fragments_df_dict: dict\n",
    "            A dictionary containing data frames as values with 'Chromosome', 'Start', 'End', 'Name', and 'Score' as columns; and sample label\n",
    "            as keys. 'Score' indicates the number of times that a fragments is found assigned to that barcode.\n",
    "    chromsizes: pr.PyRanges\n",
    "            A :class:`pr.PyRanges` containing size of each column, containing 'Chromosome', 'Start' and 'End' columns.\n",
    "    bed_path: str\n",
    "            Path to folder where the fragments bed file will be saved.\n",
    "    bigwig_path: str\n",
    "            Path to folder where the bigwig file will be saved.\n",
    "    sample_id_col: str, optional\n",
    "            Name of the column containing the sample name per barcode in the input :class:`CistopicObject.cell_data` or class:`pd.DataFrame`. Default: 'sample_id'.\n",
    "    normalize_bigwig: bool, optional\n",
    "            Whether bigwig files should be CPM normalized. Default: True.\n",
    "    remove_duplicates: bool, optional\n",
    "            Whether duplicates should be removed before converting the data to bigwig.\n",
    "    split_pattern: str\n",
    "            Pattern to split cell barcode from sample id. Default: ___ .\n",
    "    \"\"\"\n",
    "    export_pseudobulk_one_sample(\n",
    "        cell_data,\n",
    "        group,\n",
    "        fragments_df_dict,\n",
    "        chromsizes,\n",
    "        bigwig_path,\n",
    "        bed_path,\n",
    "        sample_id_col,\n",
    "        normalize_bigwig,\n",
    "        remove_duplicates,\n",
    "        split_pattern,\n",
    "    )"
   ]
  },
  {
   "cell_type": "code",
   "execution_count": 10,
   "id": "8c9b1805-10d8-4c83-b6a1-afba96b04f39",
   "metadata": {
    "execution": {
     "iopub.execute_input": "2023-02-20T16:39:58.344309Z",
     "iopub.status.busy": "2023-02-20T16:39:58.343268Z",
     "iopub.status.idle": "2023-02-20T16:39:58.359272Z",
     "shell.execute_reply": "2023-02-20T16:39:58.357888Z",
     "shell.execute_reply.started": "2023-02-20T16:39:58.344229Z"
    }
   },
   "outputs": [
    {
     "data": {
      "text/plain": [
       "{'OHS_s3atac_1.FIXEDCELLS': '../1_data_repository/fixedcells_fragments/OHS_s3atac_1.FIXEDCELLS.fragments.tsv.gz',\n",
       " 'OHS_s3atac_2.FIXEDCELLS': '../1_data_repository/fixedcells_fragments/OHS_s3atac_2.FIXEDCELLS.fragments.tsv.gz'}"
      ]
     },
     "execution_count": 10,
     "metadata": {},
     "output_type": "execute_result"
    }
   ],
   "source": [
    "fragments_path_dict_sub"
   ]
  },
  {
   "cell_type": "code",
   "execution_count": 13,
   "id": "fc18cd67-44e9-4b15-bdf2-f5b9f544592d",
   "metadata": {
    "execution": {
     "iopub.execute_input": "2023-02-20T16:41:35.976944Z",
     "iopub.status.busy": "2023-02-20T16:41:35.976199Z",
     "iopub.status.idle": "2023-02-20T17:58:42.695794Z",
     "shell.execute_reply": "2023-02-20T17:58:42.694292Z",
     "shell.execute_reply.started": "2023-02-20T16:41:35.976871Z"
    },
    "papermill": {
     "duration": 0.022853,
     "end_time": "2022-09-29T13:44:59.264456",
     "exception": false,
     "start_time": "2022-09-29T13:44:59.241603",
     "status": "completed"
    },
    "tags": []
   },
   "outputs": [
    {
     "name": "stdout",
     "output_type": "stream",
     "text": [
      "final_consensus_peaks/10xmultiome_celltypefair_1.FIXEDCELLS__SCREEN_pseudobulk_bed_files exists, skipping...\n",
      "{'TXG_10xv11_1.FIXEDCELLS': '../1_data_repository/fixedcells_fragments/TXG_10xv11_1.FIXEDCELLS.fragments.tsv.gz', 'CNA_10xv11_1.FIXEDCELLS': '../1_data_repository/fixedcells_fragments/CNA_10xv11_1.FIXEDCELLS.fragments.tsv.gz', 'CNA_10xv11_5.FIXEDCELLS': '../1_data_repository/fixedcells_fragments/CNA_10xv11_5.FIXEDCELLS.fragments.tsv.gz', 'CNA_10xv11_4.FIXEDCELLS': '../1_data_repository/fixedcells_fragments/CNA_10xv11_4.FIXEDCELLS.fragments.tsv.gz', 'CNA_10xv11_3.FIXEDCELLS': '../1_data_repository/fixedcells_fragments/CNA_10xv11_3.FIXEDCELLS.fragments.tsv.gz', 'CNA_10xv11_2.FIXEDCELLS': '../1_data_repository/fixedcells_fragments/CNA_10xv11_2.FIXEDCELLS.fragments.tsv.gz', 'STA_10xv11_1.FIXEDCELLS': '../1_data_repository/fixedcells_fragments/STA_10xv11_1.FIXEDCELLS.fragments.tsv.gz', 'STA_10xv11_2.FIXEDCELLS': '../1_data_repository/fixedcells_fragments/STA_10xv11_2.FIXEDCELLS.fragments.tsv.gz'}\n"
     ]
    },
    {
     "name": "stderr",
     "output_type": "stream",
     "text": [
      "2023-02-20 17:48:55,673\tINFO worker.py:1509 -- Started a local Ray instance. View the dashboard at \u001b[1m\u001b[32mhttp://127.0.0.1:8265 \u001b[39m\u001b[22m\n"
     ]
    },
    {
     "name": "stdout",
     "output_type": "stream",
     "text": [
      "\u001b[2m\u001b[36m(export_pseudobulk_ray pid=964407)\u001b[0m 2023-02-20 17:49:00,140 cisTopic     INFO     Creating pseudobulk for Bcell\n",
      "\u001b[2m\u001b[36m(export_pseudobulk_ray pid=964397)\u001b[0m 2023-02-20 17:49:01,335 cisTopic     INFO     Creating pseudobulk for CD14_monocyte\n"
     ]
    },
    {
     "name": "stderr",
     "output_type": "stream",
     "text": [
      "\u001b[2m\u001b[36m(export_pseudobulk_ray pid=964407)\u001b[0m /tmp/ipykernel_961150/2558041373.py:272: FutureWarning: The frame.append method is deprecated and will be removed from pandas in a future version. Use pandas.concat instead.\n"
     ]
    },
    {
     "name": "stdout",
     "output_type": "stream",
     "text": [
      "\u001b[2m\u001b[36m(export_pseudobulk_ray pid=964408)\u001b[0m 2023-02-20 17:49:02,537 cisTopic     INFO     Creating pseudobulk for CD16_monocyte\n"
     ]
    },
    {
     "name": "stderr",
     "output_type": "stream",
     "text": [
      "\u001b[2m\u001b[36m(export_pseudobulk_ray pid=964397)\u001b[0m /tmp/ipykernel_961150/2558041373.py:272: FutureWarning: The frame.append method is deprecated and will be removed from pandas in a future version. Use pandas.concat instead.\n",
      "\u001b[2m\u001b[36m(export_pseudobulk_ray pid=964408)\u001b[0m /tmp/ipykernel_961150/2558041373.py:272: FutureWarning: The frame.append method is deprecated and will be removed from pandas in a future version. Use pandas.concat instead.\n"
     ]
    },
    {
     "name": "stdout",
     "output_type": "stream",
     "text": [
      "\u001b[2m\u001b[36m(export_pseudobulk_ray pid=964405)\u001b[0m 2023-02-20 17:49:03,863 cisTopic     INFO     Creating pseudobulk for CD4_Tcell\n",
      "\u001b[2m\u001b[36m(export_pseudobulk_ray pid=964395)\u001b[0m 2023-02-20 17:49:05,339 cisTopic     INFO     Creating pseudobulk for CytotoxicTcell\n"
     ]
    },
    {
     "name": "stderr",
     "output_type": "stream",
     "text": [
      "\u001b[2m\u001b[36m(export_pseudobulk_ray pid=964405)\u001b[0m /tmp/ipykernel_961150/2558041373.py:272: FutureWarning: The frame.append method is deprecated and will be removed from pandas in a future version. Use pandas.concat instead.\n"
     ]
    },
    {
     "name": "stdout",
     "output_type": "stream",
     "text": [
      "\u001b[2m\u001b[36m(export_pseudobulk_ray pid=964403)\u001b[0m 2023-02-20 17:49:06,800 cisTopic     INFO     Creating pseudobulk for Dendriticcell\n"
     ]
    },
    {
     "name": "stderr",
     "output_type": "stream",
     "text": [
      "\u001b[2m\u001b[36m(export_pseudobulk_ray pid=964395)\u001b[0m /tmp/ipykernel_961150/2558041373.py:272: FutureWarning: The frame.append method is deprecated and will be removed from pandas in a future version. Use pandas.concat instead.\n",
      "\u001b[2m\u001b[36m(export_pseudobulk_ray pid=964403)\u001b[0m /tmp/ipykernel_961150/2558041373.py:272: FutureWarning: The frame.append method is deprecated and will be removed from pandas in a future version. Use pandas.concat instead.\n"
     ]
    },
    {
     "name": "stdout",
     "output_type": "stream",
     "text": [
      "\u001b[2m\u001b[36m(export_pseudobulk_ray pid=964406)\u001b[0m 2023-02-20 17:49:08,106 cisTopic     INFO     Creating pseudobulk for Naturalkillercell\n"
     ]
    },
    {
     "name": "stderr",
     "output_type": "stream",
     "text": [
      "\u001b[2m\u001b[36m(export_pseudobulk_ray pid=964406)\u001b[0m /tmp/ipykernel_961150/2558041373.py:272: FutureWarning: The frame.append method is deprecated and will be removed from pandas in a future version. Use pandas.concat instead.\n"
     ]
    },
    {
     "name": "stdout",
     "output_type": "stream",
     "text": [
      "\u001b[2m\u001b[36m(export_pseudobulk_ray pid=964403)\u001b[0m 2023-02-20 17:49:24,437 cisTopic     INFO     Dendriticcell done!\n",
      "\u001b[2m\u001b[36m(export_pseudobulk_ray pid=964408)\u001b[0m 2023-02-20 17:49:25,218 cisTopic     INFO     CD16_monocyte done!\n",
      "\u001b[2m\u001b[36m(export_pseudobulk_ray pid=964406)\u001b[0m 2023-02-20 17:49:28,692 cisTopic     INFO     Naturalkillercell done!\n",
      "\u001b[2m\u001b[36m(export_pseudobulk_ray pid=964407)\u001b[0m 2023-02-20 17:50:19,114 cisTopic     INFO     Bcell done!\n",
      "\u001b[2m\u001b[36m(export_pseudobulk_ray pid=964397)\u001b[0m 2023-02-20 17:50:57,962 cisTopic     INFO     CD14_monocyte done!\n",
      "\u001b[2m\u001b[36m(export_pseudobulk_ray pid=964405)\u001b[0m 2023-02-20 17:51:26,220 cisTopic     INFO     CD4_Tcell done!\n",
      "{'VIB_10xv1_1.FIXEDCELLS': '../1_data_repository/fixedcells_fragments/VIB_10xv1_1.FIXEDCELLS.fragments.tsv.gz', 'VIB_10xv1_2.FIXEDCELLS': '../1_data_repository/fixedcells_fragments/VIB_10xv1_2.FIXEDCELLS.fragments.tsv.gz'}\n"
     ]
    },
    {
     "name": "stderr",
     "output_type": "stream",
     "text": [
      "2023-02-20 17:58:22,698\tINFO worker.py:1509 -- Started a local Ray instance. View the dashboard at \u001b[1m\u001b[32mhttp://127.0.0.1:8265 \u001b[39m\u001b[22m\n"
     ]
    },
    {
     "name": "stdout",
     "output_type": "stream",
     "text": [
      "\u001b[2m\u001b[36m(export_pseudobulk_ray pid=968255)\u001b[0m 2023-02-20 17:58:26,029 cisTopic     INFO     Creating pseudobulk for Bcell\n",
      "\u001b[2m\u001b[36m(export_pseudobulk_ray pid=968266)\u001b[0m 2023-02-20 17:58:26,703 cisTopic     INFO     Creating pseudobulk for CD14_monocyte\n",
      "\u001b[2m\u001b[36m(export_pseudobulk_ray pid=968252)\u001b[0m 2023-02-20 17:58:27,338 cisTopic     INFO     Creating pseudobulk for CD16_monocyte\n"
     ]
    },
    {
     "name": "stderr",
     "output_type": "stream",
     "text": [
      "\u001b[2m\u001b[36m(export_pseudobulk_ray pid=968255)\u001b[0m /tmp/ipykernel_961150/2558041373.py:272: FutureWarning: The frame.append method is deprecated and will be removed from pandas in a future version. Use pandas.concat instead.\n"
     ]
    },
    {
     "name": "stdout",
     "output_type": "stream",
     "text": [
      "\u001b[2m\u001b[36m(export_pseudobulk_ray pid=968260)\u001b[0m 2023-02-20 17:58:27,981 cisTopic     INFO     Creating pseudobulk for CD4_Tcell\n"
     ]
    },
    {
     "name": "stderr",
     "output_type": "stream",
     "text": [
      "\u001b[2m\u001b[36m(export_pseudobulk_ray pid=968266)\u001b[0m /tmp/ipykernel_961150/2558041373.py:272: FutureWarning: The frame.append method is deprecated and will be removed from pandas in a future version. Use pandas.concat instead.\n",
      "\u001b[2m\u001b[36m(export_pseudobulk_ray pid=968252)\u001b[0m /tmp/ipykernel_961150/2558041373.py:272: FutureWarning: The frame.append method is deprecated and will be removed from pandas in a future version. Use pandas.concat instead.\n"
     ]
    },
    {
     "name": "stdout",
     "output_type": "stream",
     "text": [
      "\u001b[2m\u001b[36m(export_pseudobulk_ray pid=968254)\u001b[0m 2023-02-20 17:58:28,647 cisTopic     INFO     Creating pseudobulk for CytotoxicTcell\n",
      "\u001b[2m\u001b[36m(export_pseudobulk_ray pid=968262)\u001b[0m 2023-02-20 17:58:29,295 cisTopic     INFO     Creating pseudobulk for Dendriticcell\n"
     ]
    },
    {
     "name": "stderr",
     "output_type": "stream",
     "text": [
      "\u001b[2m\u001b[36m(export_pseudobulk_ray pid=968260)\u001b[0m /tmp/ipykernel_961150/2558041373.py:272: FutureWarning: The frame.append method is deprecated and will be removed from pandas in a future version. Use pandas.concat instead.\n"
     ]
    },
    {
     "name": "stdout",
     "output_type": "stream",
     "text": [
      "\u001b[2m\u001b[36m(export_pseudobulk_ray pid=968256)\u001b[0m 2023-02-20 17:58:30,062 cisTopic     INFO     Creating pseudobulk for Naturalkillercell\n"
     ]
    },
    {
     "name": "stderr",
     "output_type": "stream",
     "text": [
      "\u001b[2m\u001b[36m(export_pseudobulk_ray pid=968262)\u001b[0m /tmp/ipykernel_961150/2558041373.py:272: FutureWarning: The frame.append method is deprecated and will be removed from pandas in a future version. Use pandas.concat instead.\n",
      "\u001b[2m\u001b[36m(export_pseudobulk_ray pid=968254)\u001b[0m /tmp/ipykernel_961150/2558041373.py:272: FutureWarning: The frame.append method is deprecated and will be removed from pandas in a future version. Use pandas.concat instead.\n",
      "\u001b[2m\u001b[36m(export_pseudobulk_ray pid=968256)\u001b[0m /tmp/ipykernel_961150/2558041373.py:272: FutureWarning: The frame.append method is deprecated and will be removed from pandas in a future version. Use pandas.concat instead.\n"
     ]
    },
    {
     "name": "stdout",
     "output_type": "stream",
     "text": [
      "\u001b[2m\u001b[36m(export_pseudobulk_ray pid=968262)\u001b[0m 2023-02-20 17:58:44,979 cisTopic     INFO     Dendriticcell done!\n",
      "\u001b[2m\u001b[36m(export_pseudobulk_ray pid=968256)\u001b[0m 2023-02-20 17:58:49,602 cisTopic     INFO     Naturalkillercell done!\n",
      "\u001b[2m\u001b[36m(export_pseudobulk_ray pid=968252)\u001b[0m 2023-02-20 17:58:49,923 cisTopic     INFO     CD16_monocyte done!\n",
      "\u001b[2m\u001b[36m(export_pseudobulk_ray pid=968255)\u001b[0m 2023-02-20 17:59:52,929 cisTopic     INFO     Bcell done!\n",
      "\u001b[2m\u001b[36m(export_pseudobulk_ray pid=968266)\u001b[0m 2023-02-20 18:00:23,818 cisTopic     INFO     CD14_monocyte done!\n",
      "\u001b[2m\u001b[36m(export_pseudobulk_ray pid=968260)\u001b[0m 2023-02-20 18:01:04,036 cisTopic     INFO     CD4_Tcell done!\n",
      "{'TXG_10xv2_1.FIXEDCELLS': '../1_data_repository/fixedcells_fragments/TXG_10xv2_1.FIXEDCELLS.fragments.tsv.gz', 'CNA_10xv2_1.FIXEDCELLS': '../1_data_repository/fixedcells_fragments/CNA_10xv2_1.FIXEDCELLS.fragments.tsv.gz', 'TXG_10xv2_2.FIXEDCELLS': '../1_data_repository/fixedcells_fragments/TXG_10xv2_2.FIXEDCELLS.fragments.tsv.gz', 'CNA_10xv2_2.FIXEDCELLS': '../1_data_repository/fixedcells_fragments/CNA_10xv2_2.FIXEDCELLS.fragments.tsv.gz', 'VIB_10xv2_2.FIXEDCELLS': '../1_data_repository/fixedcells_fragments/VIB_10xv2_2.FIXEDCELLS.fragments.tsv.gz', 'VIB_10xv2_1.FIXEDCELLS': '../1_data_repository/fixedcells_fragments/VIB_10xv2_1.FIXEDCELLS.fragments.tsv.gz'}\n"
     ]
    },
    {
     "name": "stderr",
     "output_type": "stream",
     "text": [
      "2023-02-20 18:12:43,378\tINFO worker.py:1509 -- Started a local Ray instance. View the dashboard at \u001b[1m\u001b[32mhttp://127.0.0.1:8265 \u001b[39m\u001b[22m\n"
     ]
    },
    {
     "name": "stdout",
     "output_type": "stream",
     "text": [
      "\u001b[2m\u001b[36m(export_pseudobulk_ray pid=1002228)\u001b[0m 2023-02-20 18:12:47,894 cisTopic     INFO     Creating pseudobulk for Bcell\n",
      "\u001b[2m\u001b[36m(export_pseudobulk_ray pid=1002232)\u001b[0m 2023-02-20 18:12:49,328 cisTopic     INFO     Creating pseudobulk for CD14_monocyte\n"
     ]
    },
    {
     "name": "stderr",
     "output_type": "stream",
     "text": [
      "\u001b[2m\u001b[36m(export_pseudobulk_ray pid=1002228)\u001b[0m /tmp/ipykernel_961150/2558041373.py:272: FutureWarning: The frame.append method is deprecated and will be removed from pandas in a future version. Use pandas.concat instead.\n"
     ]
    },
    {
     "name": "stdout",
     "output_type": "stream",
     "text": [
      "\u001b[2m\u001b[36m(export_pseudobulk_ray pid=1002229)\u001b[0m 2023-02-20 18:12:50,712 cisTopic     INFO     Creating pseudobulk for CD16_monocyte\n"
     ]
    },
    {
     "name": "stderr",
     "output_type": "stream",
     "text": [
      "\u001b[2m\u001b[36m(export_pseudobulk_ray pid=1002232)\u001b[0m /tmp/ipykernel_961150/2558041373.py:272: FutureWarning: The frame.append method is deprecated and will be removed from pandas in a future version. Use pandas.concat instead.\n",
      "\u001b[2m\u001b[36m(export_pseudobulk_ray pid=1002229)\u001b[0m /tmp/ipykernel_961150/2558041373.py:272: FutureWarning: The frame.append method is deprecated and will be removed from pandas in a future version. Use pandas.concat instead.\n"
     ]
    },
    {
     "name": "stdout",
     "output_type": "stream",
     "text": [
      "\u001b[2m\u001b[36m(export_pseudobulk_ray pid=1002218)\u001b[0m 2023-02-20 18:12:52,145 cisTopic     INFO     Creating pseudobulk for CD4_Tcell\n",
      "\u001b[2m\u001b[36m(export_pseudobulk_ray pid=1002217)\u001b[0m 2023-02-20 18:12:53,590 cisTopic     INFO     Creating pseudobulk for CytotoxicTcell\n",
      "\u001b[2m\u001b[36m(export_pseudobulk_ray pid=1002226)\u001b[0m 2023-02-20 18:12:54,975 cisTopic     INFO     Creating pseudobulk for Dendriticcell\n"
     ]
    },
    {
     "name": "stderr",
     "output_type": "stream",
     "text": [
      "\u001b[2m\u001b[36m(export_pseudobulk_ray pid=1002218)\u001b[0m /tmp/ipykernel_961150/2558041373.py:272: FutureWarning: The frame.append method is deprecated and will be removed from pandas in a future version. Use pandas.concat instead.\n",
      "\u001b[2m\u001b[36m(export_pseudobulk_ray pid=1002226)\u001b[0m /tmp/ipykernel_961150/2558041373.py:272: FutureWarning: The frame.append method is deprecated and will be removed from pandas in a future version. Use pandas.concat instead.\n"
     ]
    },
    {
     "name": "stdout",
     "output_type": "stream",
     "text": [
      "\u001b[2m\u001b[36m(export_pseudobulk_ray pid=1002227)\u001b[0m 2023-02-20 18:12:56,432 cisTopic     INFO     Creating pseudobulk for Naturalkillercell\n"
     ]
    },
    {
     "name": "stderr",
     "output_type": "stream",
     "text": [
      "\u001b[2m\u001b[36m(export_pseudobulk_ray pid=1002217)\u001b[0m /tmp/ipykernel_961150/2558041373.py:272: FutureWarning: The frame.append method is deprecated and will be removed from pandas in a future version. Use pandas.concat instead.\n",
      "\u001b[2m\u001b[36m(export_pseudobulk_ray pid=1002227)\u001b[0m /tmp/ipykernel_961150/2558041373.py:272: FutureWarning: The frame.append method is deprecated and will be removed from pandas in a future version. Use pandas.concat instead.\n"
     ]
    },
    {
     "name": "stdout",
     "output_type": "stream",
     "text": [
      "\u001b[2m\u001b[36m(export_pseudobulk_ray pid=1002226)\u001b[0m 2023-02-20 18:13:17,957 cisTopic     INFO     Dendriticcell done!\n",
      "\u001b[2m\u001b[36m(export_pseudobulk_ray pid=1002229)\u001b[0m 2023-02-20 18:13:23,462 cisTopic     INFO     CD16_monocyte done!\n",
      "\u001b[2m\u001b[36m(export_pseudobulk_ray pid=1002227)\u001b[0m 2023-02-20 18:13:26,634 cisTopic     INFO     Naturalkillercell done!\n",
      "\u001b[2m\u001b[36m(export_pseudobulk_ray pid=1002228)\u001b[0m 2023-02-20 18:14:43,845 cisTopic     INFO     Bcell done!\n",
      "\u001b[2m\u001b[36m(export_pseudobulk_ray pid=1002232)\u001b[0m 2023-02-20 18:16:09,794 cisTopic     INFO     CD14_monocyte done!\n",
      "\u001b[2m\u001b[36m(export_pseudobulk_ray pid=1002218)\u001b[0m 2023-02-20 18:16:35,608 cisTopic     INFO     CD4_Tcell done!\n",
      "{'HAR_ddseq_2.FIXEDCELLS': '../1_data_repository/fixedcells_fragments/HAR_ddseq_2.FIXEDCELLS.fragments.tsv.gz', 'BIO_ddseq_2.FIXEDCELLS': '../1_data_repository/fixedcells_fragments/BIO_ddseq_2.FIXEDCELLS.fragments.tsv.gz', 'BIO_ddseq_3.FIXEDCELLS': '../1_data_repository/fixedcells_fragments/BIO_ddseq_3.FIXEDCELLS.fragments.tsv.gz', 'UCS_ddseq_1.FIXEDCELLS': '../1_data_repository/fixedcells_fragments/UCS_ddseq_1.FIXEDCELLS.fragments.tsv.gz', 'HAR_ddseq_1.FIXEDCELLS': '../1_data_repository/fixedcells_fragments/HAR_ddseq_1.FIXEDCELLS.fragments.tsv.gz', 'BIO_ddseq_1.FIXEDCELLS': '../1_data_repository/fixedcells_fragments/BIO_ddseq_1.FIXEDCELLS.fragments.tsv.gz', 'BIO_ddseq_4.FIXEDCELLS': '../1_data_repository/fixedcells_fragments/BIO_ddseq_4.FIXEDCELLS.fragments.tsv.gz', 'UCS_ddseq_2.FIXEDCELLS': '../1_data_repository/fixedcells_fragments/UCS_ddseq_2.FIXEDCELLS.fragments.tsv.gz'}\n"
     ]
    },
    {
     "name": "stderr",
     "output_type": "stream",
     "text": [
      "2023-02-20 18:30:31,491\tINFO worker.py:1509 -- Started a local Ray instance. View the dashboard at \u001b[1m\u001b[32mhttp://127.0.0.1:8265 \u001b[39m\u001b[22m\n"
     ]
    },
    {
     "name": "stdout",
     "output_type": "stream",
     "text": [
      "\u001b[2m\u001b[36m(export_pseudobulk_ray pid=1027876)\u001b[0m 2023-02-20 18:30:49,016 cisTopic     INFO     Creating pseudobulk for Bcell\n",
      "\u001b[2m\u001b[36m(export_pseudobulk_ray pid=1027879)\u001b[0m 2023-02-20 18:31:01,686 cisTopic     INFO     Creating pseudobulk for CD14_monocyte\n"
     ]
    },
    {
     "name": "stderr",
     "output_type": "stream",
     "text": [
      "\u001b[2m\u001b[36m(export_pseudobulk_ray pid=1027876)\u001b[0m /tmp/ipykernel_961150/2558041373.py:272: FutureWarning: The frame.append method is deprecated and will be removed from pandas in a future version. Use pandas.concat instead.\n"
     ]
    },
    {
     "name": "stdout",
     "output_type": "stream",
     "text": [
      "\u001b[2m\u001b[36m(export_pseudobulk_ray pid=1027872)\u001b[0m 2023-02-20 18:31:13,162 cisTopic     INFO     Creating pseudobulk for CD16_monocyte\n"
     ]
    },
    {
     "name": "stderr",
     "output_type": "stream",
     "text": [
      "\u001b[2m\u001b[36m(export_pseudobulk_ray pid=1027879)\u001b[0m /tmp/ipykernel_961150/2558041373.py:272: FutureWarning: The frame.append method is deprecated and will be removed from pandas in a future version. Use pandas.concat instead.\n"
     ]
    },
    {
     "name": "stdout",
     "output_type": "stream",
     "text": [
      "\u001b[2m\u001b[36m(export_pseudobulk_ray pid=1027877)\u001b[0m 2023-02-20 18:31:24,557 cisTopic     INFO     Creating pseudobulk for CD4_Tcell\n"
     ]
    },
    {
     "name": "stderr",
     "output_type": "stream",
     "text": [
      "\u001b[2m\u001b[36m(export_pseudobulk_ray pid=1027872)\u001b[0m /tmp/ipykernel_961150/2558041373.py:272: FutureWarning: The frame.append method is deprecated and will be removed from pandas in a future version. Use pandas.concat instead.\n"
     ]
    },
    {
     "name": "stdout",
     "output_type": "stream",
     "text": [
      "\u001b[2m\u001b[36m(export_pseudobulk_ray pid=1027873)\u001b[0m 2023-02-20 18:31:36,814 cisTopic     INFO     Creating pseudobulk for CytotoxicTcell\n"
     ]
    },
    {
     "name": "stderr",
     "output_type": "stream",
     "text": [
      "\u001b[2m\u001b[36m(export_pseudobulk_ray pid=1027877)\u001b[0m /tmp/ipykernel_961150/2558041373.py:272: FutureWarning: The frame.append method is deprecated and will be removed from pandas in a future version. Use pandas.concat instead.\n"
     ]
    },
    {
     "name": "stdout",
     "output_type": "stream",
     "text": [
      "\u001b[2m\u001b[36m(export_pseudobulk_ray pid=1027865)\u001b[0m 2023-02-20 18:31:46,566 cisTopic     INFO     Creating pseudobulk for Dendriticcell\n",
      "\u001b[2m\u001b[36m(export_pseudobulk_ray pid=1027872)\u001b[0m 2023-02-20 18:31:50,226 cisTopic     INFO     CD16_monocyte done!\n"
     ]
    },
    {
     "name": "stderr",
     "output_type": "stream",
     "text": [
      "\u001b[2m\u001b[36m(export_pseudobulk_ray pid=1027873)\u001b[0m /tmp/ipykernel_961150/2558041373.py:272: FutureWarning: The frame.append method is deprecated and will be removed from pandas in a future version. Use pandas.concat instead.\n"
     ]
    },
    {
     "name": "stdout",
     "output_type": "stream",
     "text": [
      "\u001b[2m\u001b[36m(export_pseudobulk_ray pid=1027872)\u001b[0m 2023-02-20 18:31:56,454 cisTopic     INFO     Creating pseudobulk for Naturalkillercell\n"
     ]
    },
    {
     "name": "stderr",
     "output_type": "stream",
     "text": [
      "\u001b[2m\u001b[36m(export_pseudobulk_ray pid=1027865)\u001b[0m /tmp/ipykernel_961150/2558041373.py:272: FutureWarning: The frame.append method is deprecated and will be removed from pandas in a future version. Use pandas.concat instead.\n",
      "\u001b[2m\u001b[36m(export_pseudobulk_ray pid=1027872)\u001b[0m /tmp/ipykernel_961150/2558041373.py:272: FutureWarning: The frame.append method is deprecated and will be removed from pandas in a future version. Use pandas.concat instead.\n"
     ]
    },
    {
     "name": "stdout",
     "output_type": "stream",
     "text": [
      "\u001b[2m\u001b[36m(export_pseudobulk_ray pid=1027865)\u001b[0m 2023-02-20 18:32:17,139 cisTopic     INFO     Dendriticcell done!\n",
      "\u001b[2m\u001b[36m(export_pseudobulk_ray pid=1027876)\u001b[0m 2023-02-20 18:32:19,918 cisTopic     INFO     Bcell done!\n",
      "\u001b[2m\u001b[36m(export_pseudobulk_ray pid=1027872)\u001b[0m 2023-02-20 18:32:28,910 cisTopic     INFO     Naturalkillercell done!\n",
      "\u001b[2m\u001b[36m(export_pseudobulk_ray pid=1027879)\u001b[0m 2023-02-20 18:32:47,999 cisTopic     INFO     CD14_monocyte done!\n",
      "\u001b[2m\u001b[36m(export_pseudobulk_ray pid=1027877)\u001b[0m 2023-02-20 18:33:35,649 cisTopic     INFO     CD4_Tcell done!\n",
      "{'CNA_hydrop_2.FIXEDCELLS': '../1_data_repository/fixedcells_fragments/CNA_hydrop_2.FIXEDCELLS.fragments.tsv.gz', 'EPF_hydrop_2.FIXEDCELLS': '../1_data_repository/fixedcells_fragments/EPF_hydrop_2.FIXEDCELLS.fragments.tsv.gz', 'CNA_hydrop_3.FIXEDCELLS': '../1_data_repository/fixedcells_fragments/CNA_hydrop_3.FIXEDCELLS.fragments.tsv.gz', 'VIB_hydrop_1.FIXEDCELLS': '../1_data_repository/fixedcells_fragments/VIB_hydrop_1.FIXEDCELLS.fragments.tsv.gz', 'VIB_hydrop_2.FIXEDCELLS': '../1_data_repository/fixedcells_fragments/VIB_hydrop_2.FIXEDCELLS.fragments.tsv.gz', 'EPF_hydrop_4.FIXEDCELLS': '../1_data_repository/fixedcells_fragments/EPF_hydrop_4.FIXEDCELLS.fragments.tsv.gz', 'EPF_hydrop_1.FIXEDCELLS': '../1_data_repository/fixedcells_fragments/EPF_hydrop_1.FIXEDCELLS.fragments.tsv.gz', 'EPF_hydrop_3.FIXEDCELLS': '../1_data_repository/fixedcells_fragments/EPF_hydrop_3.FIXEDCELLS.fragments.tsv.gz', 'CNA_hydrop_1.FIXEDCELLS': '../1_data_repository/fixedcells_fragments/CNA_hydrop_1.FIXEDCELLS.fragments.tsv.gz'}\n"
     ]
    },
    {
     "name": "stderr",
     "output_type": "stream",
     "text": [
      "2023-02-20 18:39:51,934\tINFO worker.py:1509 -- Started a local Ray instance. View the dashboard at \u001b[1m\u001b[32mhttp://127.0.0.1:8265 \u001b[39m\u001b[22m\n"
     ]
    },
    {
     "name": "stdout",
     "output_type": "stream",
     "text": [
      "\u001b[2m\u001b[36m(export_pseudobulk_ray pid=1030739)\u001b[0m 2023-02-20 18:39:55,477 cisTopic     INFO     Creating pseudobulk for Bcell\n",
      "\u001b[2m\u001b[36m(export_pseudobulk_ray pid=1030737)\u001b[0m 2023-02-20 18:39:56,217 cisTopic     INFO     Creating pseudobulk for CD14_monocyte\n"
     ]
    },
    {
     "name": "stderr",
     "output_type": "stream",
     "text": [
      "\u001b[2m\u001b[36m(export_pseudobulk_ray pid=1030739)\u001b[0m /tmp/ipykernel_961150/2558041373.py:272: FutureWarning: The frame.append method is deprecated and will be removed from pandas in a future version. Use pandas.concat instead.\n",
      "\u001b[2m\u001b[36m(export_pseudobulk_ray pid=1030737)\u001b[0m /tmp/ipykernel_961150/2558041373.py:272: FutureWarning: The frame.append method is deprecated and will be removed from pandas in a future version. Use pandas.concat instead.\n"
     ]
    },
    {
     "name": "stdout",
     "output_type": "stream",
     "text": [
      "\u001b[2m\u001b[36m(export_pseudobulk_ray pid=1030742)\u001b[0m 2023-02-20 18:39:56,932 cisTopic     INFO     Creating pseudobulk for CD16_monocyte\n"
     ]
    },
    {
     "name": "stderr",
     "output_type": "stream",
     "text": [
      "\u001b[2m\u001b[36m(export_pseudobulk_ray pid=1030742)\u001b[0m /tmp/ipykernel_961150/2558041373.py:272: FutureWarning: The frame.append method is deprecated and will be removed from pandas in a future version. Use pandas.concat instead.\n"
     ]
    },
    {
     "name": "stdout",
     "output_type": "stream",
     "text": [
      "\u001b[2m\u001b[36m(export_pseudobulk_ray pid=1030740)\u001b[0m 2023-02-20 18:39:57,697 cisTopic     INFO     Creating pseudobulk for CD4_Tcell\n"
     ]
    },
    {
     "name": "stderr",
     "output_type": "stream",
     "text": [
      "\u001b[2m\u001b[36m(export_pseudobulk_ray pid=1030740)\u001b[0m /tmp/ipykernel_961150/2558041373.py:272: FutureWarning: The frame.append method is deprecated and will be removed from pandas in a future version. Use pandas.concat instead.\n"
     ]
    },
    {
     "name": "stdout",
     "output_type": "stream",
     "text": [
      "\u001b[2m\u001b[36m(export_pseudobulk_ray pid=1030735)\u001b[0m 2023-02-20 18:39:58,625 cisTopic     INFO     Creating pseudobulk for CytotoxicTcell\n",
      "\u001b[2m\u001b[36m(export_pseudobulk_ray pid=1030729)\u001b[0m 2023-02-20 18:39:59,426 cisTopic     INFO     Creating pseudobulk for Dendriticcell\n"
     ]
    },
    {
     "name": "stderr",
     "output_type": "stream",
     "text": [
      "\u001b[2m\u001b[36m(export_pseudobulk_ray pid=1030735)\u001b[0m /tmp/ipykernel_961150/2558041373.py:272: FutureWarning: The frame.append method is deprecated and will be removed from pandas in a future version. Use pandas.concat instead.\n",
      "\u001b[2m\u001b[36m(export_pseudobulk_ray pid=1030729)\u001b[0m /tmp/ipykernel_961150/2558041373.py:272: FutureWarning: The frame.append method is deprecated and will be removed from pandas in a future version. Use pandas.concat instead.\n"
     ]
    },
    {
     "name": "stdout",
     "output_type": "stream",
     "text": [
      "\u001b[2m\u001b[36m(export_pseudobulk_ray pid=1030738)\u001b[0m 2023-02-20 18:40:00,158 cisTopic     INFO     Creating pseudobulk for Naturalkillercell\n"
     ]
    },
    {
     "name": "stderr",
     "output_type": "stream",
     "text": [
      "\u001b[2m\u001b[36m(export_pseudobulk_ray pid=1030738)\u001b[0m /tmp/ipykernel_961150/2558041373.py:272: FutureWarning: The frame.append method is deprecated and will be removed from pandas in a future version. Use pandas.concat instead.\n"
     ]
    },
    {
     "name": "stdout",
     "output_type": "stream",
     "text": [
      "\u001b[2m\u001b[36m(export_pseudobulk_ray pid=1030742)\u001b[0m 2023-02-20 18:40:04,470 cisTopic     INFO     CD16_monocyte done!\n",
      "\u001b[2m\u001b[36m(export_pseudobulk_ray pid=1030729)\u001b[0m 2023-02-20 18:40:05,452 cisTopic     INFO     Dendriticcell done!\n",
      "\u001b[2m\u001b[36m(export_pseudobulk_ray pid=1030738)\u001b[0m 2023-02-20 18:40:06,255 cisTopic     INFO     Naturalkillercell done!\n",
      "\u001b[2m\u001b[36m(export_pseudobulk_ray pid=1030739)\u001b[0m 2023-02-20 18:40:23,428 cisTopic     INFO     Bcell done!\n",
      "\u001b[2m\u001b[36m(export_pseudobulk_ray pid=1030737)\u001b[0m 2023-02-20 18:40:46,491 cisTopic     INFO     CD14_monocyte done!\n",
      "\u001b[2m\u001b[36m(export_pseudobulk_ray pid=1030740)\u001b[0m 2023-02-20 18:40:46,548 cisTopic     INFO     CD4_Tcell done!\n",
      "{'MDC_mtscatac_2.FIXEDCELLS': '../1_data_repository/fixedcells_fragments/MDC_mtscatac_2.FIXEDCELLS.fragments.tsv.gz', 'BRO_mtscatac_1.FIXEDCELLS': '../1_data_repository/fixedcells_fragments/BRO_mtscatac_1.FIXEDCELLS.fragments.tsv.gz', 'BRO_mtscatac_2.FIXEDCELLS': '../1_data_repository/fixedcells_fragments/BRO_mtscatac_2.FIXEDCELLS.fragments.tsv.gz', 'MDC_mtscatac_1.FIXEDCELLS': '../1_data_repository/fixedcells_fragments/MDC_mtscatac_1.FIXEDCELLS.fragments.tsv.gz', 'CNA_mtscatac_2.FIXEDCELLS': '../1_data_repository/fixedcells_fragments/CNA_mtscatac_2.FIXEDCELLS.fragments.tsv.gz', 'CNA_mtscatac_1.FIXEDCELLS': '../1_data_repository/fixedcells_fragments/CNA_mtscatac_1.FIXEDCELLS.fragments.tsv.gz'}\n"
     ]
    },
    {
     "name": "stderr",
     "output_type": "stream",
     "text": [
      "2023-02-20 18:47:52,510\tINFO worker.py:1509 -- Started a local Ray instance. View the dashboard at \u001b[1m\u001b[32mhttp://127.0.0.1:8265 \u001b[39m\u001b[22m\n"
     ]
    },
    {
     "name": "stdout",
     "output_type": "stream",
     "text": [
      "\u001b[2m\u001b[36m(export_pseudobulk_ray pid=1033522)\u001b[0m 2023-02-20 18:47:56,838 cisTopic     INFO     Creating pseudobulk for Bcell\n",
      "\u001b[2m\u001b[36m(export_pseudobulk_ray pid=1033516)\u001b[0m 2023-02-20 18:47:58,078 cisTopic     INFO     Creating pseudobulk for CD14_monocyte\n"
     ]
    },
    {
     "name": "stderr",
     "output_type": "stream",
     "text": [
      "\u001b[2m\u001b[36m(export_pseudobulk_ray pid=1033522)\u001b[0m /tmp/ipykernel_961150/2558041373.py:272: FutureWarning: The frame.append method is deprecated and will be removed from pandas in a future version. Use pandas.concat instead.\n"
     ]
    },
    {
     "name": "stdout",
     "output_type": "stream",
     "text": [
      "\u001b[2m\u001b[36m(export_pseudobulk_ray pid=1033510)\u001b[0m 2023-02-20 18:47:59,282 cisTopic     INFO     Creating pseudobulk for CD16_monocyte\n"
     ]
    },
    {
     "name": "stderr",
     "output_type": "stream",
     "text": [
      "\u001b[2m\u001b[36m(export_pseudobulk_ray pid=1033516)\u001b[0m /tmp/ipykernel_961150/2558041373.py:272: FutureWarning: The frame.append method is deprecated and will be removed from pandas in a future version. Use pandas.concat instead.\n"
     ]
    },
    {
     "name": "stdout",
     "output_type": "stream",
     "text": [
      "\u001b[2m\u001b[36m(export_pseudobulk_ray pid=1033521)\u001b[0m 2023-02-20 18:48:00,652 cisTopic     INFO     Creating pseudobulk for CD4_Tcell\n"
     ]
    },
    {
     "name": "stderr",
     "output_type": "stream",
     "text": [
      "\u001b[2m\u001b[36m(export_pseudobulk_ray pid=1033510)\u001b[0m /tmp/ipykernel_961150/2558041373.py:272: FutureWarning: The frame.append method is deprecated and will be removed from pandas in a future version. Use pandas.concat instead.\n"
     ]
    },
    {
     "name": "stdout",
     "output_type": "stream",
     "text": [
      "\u001b[2m\u001b[36m(export_pseudobulk_ray pid=1033511)\u001b[0m 2023-02-20 18:48:01,983 cisTopic     INFO     Creating pseudobulk for CytotoxicTcell\n"
     ]
    },
    {
     "name": "stderr",
     "output_type": "stream",
     "text": [
      "\u001b[2m\u001b[36m(export_pseudobulk_ray pid=1033521)\u001b[0m /tmp/ipykernel_961150/2558041373.py:272: FutureWarning: The frame.append method is deprecated and will be removed from pandas in a future version. Use pandas.concat instead.\n"
     ]
    },
    {
     "name": "stdout",
     "output_type": "stream",
     "text": [
      "\u001b[2m\u001b[36m(export_pseudobulk_ray pid=1033515)\u001b[0m 2023-02-20 18:48:03,324 cisTopic     INFO     Creating pseudobulk for Dendriticcell\n"
     ]
    },
    {
     "name": "stderr",
     "output_type": "stream",
     "text": [
      "\u001b[2m\u001b[36m(export_pseudobulk_ray pid=1033515)\u001b[0m /tmp/ipykernel_961150/2558041373.py:272: FutureWarning: The frame.append method is deprecated and will be removed from pandas in a future version. Use pandas.concat instead.\n",
      "\u001b[2m\u001b[36m(export_pseudobulk_ray pid=1033511)\u001b[0m /tmp/ipykernel_961150/2558041373.py:272: FutureWarning: The frame.append method is deprecated and will be removed from pandas in a future version. Use pandas.concat instead.\n"
     ]
    },
    {
     "name": "stdout",
     "output_type": "stream",
     "text": [
      "\u001b[2m\u001b[36m(export_pseudobulk_ray pid=1033520)\u001b[0m 2023-02-20 18:48:04,630 cisTopic     INFO     Creating pseudobulk for Naturalkillercell\n"
     ]
    },
    {
     "name": "stderr",
     "output_type": "stream",
     "text": [
      "\u001b[2m\u001b[36m(export_pseudobulk_ray pid=1033520)\u001b[0m /tmp/ipykernel_961150/2558041373.py:272: FutureWarning: The frame.append method is deprecated and will be removed from pandas in a future version. Use pandas.concat instead.\n"
     ]
    },
    {
     "name": "stdout",
     "output_type": "stream",
     "text": [
      "\u001b[2m\u001b[36m(export_pseudobulk_ray pid=1033520)\u001b[0m 2023-02-20 18:48:23,478 cisTopic     INFO     Naturalkillercell done!\n",
      "\u001b[2m\u001b[36m(export_pseudobulk_ray pid=1033515)\u001b[0m 2023-02-20 18:48:26,025 cisTopic     INFO     Dendriticcell done!\n",
      "\u001b[2m\u001b[36m(export_pseudobulk_ray pid=1033510)\u001b[0m 2023-02-20 18:48:27,266 cisTopic     INFO     CD16_monocyte done!\n",
      "\u001b[2m\u001b[36m(export_pseudobulk_ray pid=1033522)\u001b[0m 2023-02-20 18:49:58,391 cisTopic     INFO     Bcell done!\n",
      "\u001b[2m\u001b[36m(export_pseudobulk_ray pid=1033521)\u001b[0m 2023-02-20 18:50:36,548 cisTopic     INFO     CD4_Tcell done!\n",
      "\u001b[2m\u001b[36m(export_pseudobulk_ray pid=1033516)\u001b[0m 2023-02-20 18:51:32,404 cisTopic     INFO     CD14_monocyte done!\n",
      "{'OHS_s3atac_1.FIXEDCELLS': '../1_data_repository/fixedcells_fragments/OHS_s3atac_1.FIXEDCELLS.fragments.tsv.gz', 'OHS_s3atac_2.FIXEDCELLS': '../1_data_repository/fixedcells_fragments/OHS_s3atac_2.FIXEDCELLS.fragments.tsv.gz'}\n"
     ]
    },
    {
     "name": "stderr",
     "output_type": "stream",
     "text": [
      "2023-02-20 18:54:56,535\tINFO worker.py:1509 -- Started a local Ray instance. View the dashboard at \u001b[1m\u001b[32mhttp://127.0.0.1:8265 \u001b[39m\u001b[22m\n"
     ]
    },
    {
     "name": "stdout",
     "output_type": "stream",
     "text": [
      "\u001b[2m\u001b[36m(export_pseudobulk_ray pid=1035917)\u001b[0m 2023-02-20 18:54:59,368 cisTopic     INFO     Creating pseudobulk for Bcell\n",
      "\u001b[2m\u001b[36m(export_pseudobulk_ray pid=1035925)\u001b[0m 2023-02-20 18:54:59,643 cisTopic     INFO     Creating pseudobulk for CD14_monocyte\n",
      "\u001b[2m\u001b[36m(export_pseudobulk_ray pid=1035912)\u001b[0m 2023-02-20 18:55:00,000 cisTopic     INFO     Creating pseudobulk for CD16_monocyte\n",
      "\u001b[2m\u001b[36m(export_pseudobulk_ray pid=1035923)\u001b[0m 2023-02-20 18:55:00,275 cisTopic     INFO     Creating pseudobulk for CD4_Tcell\n"
     ]
    },
    {
     "name": "stderr",
     "output_type": "stream",
     "text": [
      "\u001b[2m\u001b[36m(export_pseudobulk_ray pid=1035917)\u001b[0m /tmp/ipykernel_961150/2558041373.py:272: FutureWarning: The frame.append method is deprecated and will be removed from pandas in a future version. Use pandas.concat instead.\n"
     ]
    },
    {
     "name": "stdout",
     "output_type": "stream",
     "text": [
      "\u001b[2m\u001b[36m(export_pseudobulk_ray pid=1035918)\u001b[0m 2023-02-20 18:55:00,591 cisTopic     INFO     Creating pseudobulk for CytotoxicTcell\n"
     ]
    },
    {
     "name": "stderr",
     "output_type": "stream",
     "text": [
      "\u001b[2m\u001b[36m(export_pseudobulk_ray pid=1035912)\u001b[0m /tmp/ipykernel_961150/2558041373.py:272: FutureWarning: The frame.append method is deprecated and will be removed from pandas in a future version. Use pandas.concat instead.\n",
      "\u001b[2m\u001b[36m(export_pseudobulk_ray pid=1035925)\u001b[0m /tmp/ipykernel_961150/2558041373.py:272: FutureWarning: The frame.append method is deprecated and will be removed from pandas in a future version. Use pandas.concat instead.\n"
     ]
    },
    {
     "name": "stdout",
     "output_type": "stream",
     "text": [
      "\u001b[2m\u001b[36m(export_pseudobulk_ray pid=1035914)\u001b[0m 2023-02-20 18:55:01,021 cisTopic     INFO     Creating pseudobulk for Dendriticcell\n",
      "\u001b[2m\u001b[36m(export_pseudobulk_ray pid=1035909)\u001b[0m 2023-02-20 18:55:01,200 cisTopic     INFO     Creating pseudobulk for Naturalkillercell\n"
     ]
    },
    {
     "name": "stderr",
     "output_type": "stream",
     "text": [
      "\u001b[2m\u001b[36m(export_pseudobulk_ray pid=1035923)\u001b[0m /tmp/ipykernel_961150/2558041373.py:272: FutureWarning: The frame.append method is deprecated and will be removed from pandas in a future version. Use pandas.concat instead.\n",
      "\u001b[2m\u001b[36m(export_pseudobulk_ray pid=1035914)\u001b[0m /tmp/ipykernel_961150/2558041373.py:272: FutureWarning: The frame.append method is deprecated and will be removed from pandas in a future version. Use pandas.concat instead.\n",
      "\u001b[2m\u001b[36m(export_pseudobulk_ray pid=1035918)\u001b[0m /tmp/ipykernel_961150/2558041373.py:272: FutureWarning: The frame.append method is deprecated and will be removed from pandas in a future version. Use pandas.concat instead.\n",
      "\u001b[2m\u001b[36m(export_pseudobulk_ray pid=1035909)\u001b[0m /tmp/ipykernel_961150/2558041373.py:272: FutureWarning: The frame.append method is deprecated and will be removed from pandas in a future version. Use pandas.concat instead.\n"
     ]
    },
    {
     "name": "stdout",
     "output_type": "stream",
     "text": [
      "\u001b[2m\u001b[36m(export_pseudobulk_ray pid=1035914)\u001b[0m 2023-02-20 18:55:14,169 cisTopic     INFO     Dendriticcell done!\n",
      "\u001b[2m\u001b[36m(export_pseudobulk_ray pid=1035909)\u001b[0m 2023-02-20 18:55:18,067 cisTopic     INFO     Naturalkillercell done!\n",
      "\u001b[2m\u001b[36m(export_pseudobulk_ray pid=1035912)\u001b[0m 2023-02-20 18:55:22,400 cisTopic     INFO     CD16_monocyte done!\n",
      "\u001b[2m\u001b[36m(export_pseudobulk_ray pid=1035917)\u001b[0m 2023-02-20 18:56:08,421 cisTopic     INFO     Bcell done!\n",
      "\u001b[2m\u001b[36m(export_pseudobulk_ray pid=1035923)\u001b[0m 2023-02-20 18:56:23,962 cisTopic     INFO     CD4_Tcell done!\n",
      "\u001b[2m\u001b[36m(export_pseudobulk_ray pid=1035925)\u001b[0m 2023-02-20 18:57:52,969 cisTopic     INFO     CD14_monocyte done!\n"
     ]
    }
   ],
   "source": [
    "# for sample in [\"BRO_mtscatac_1.LIBDS\"]:\n",
    "bw_paths_dict = {}\n",
    "bed_paths_dict = {}\n",
    "\n",
    "import ray\n",
    "\n",
    "if ray.is_initialized():\n",
    "    print(\"Shutting down Ray\")\n",
    "    ray.shutdown()\n",
    "\n",
    "for sample in cto_consensus_path_dict.keys():\n",
    "    supersample = \".\".join(sample.split(\".\")[:2])\n",
    "\n",
    "    bed_path = os.path.join(\n",
    "        \"final_consensus_peaks\", f\"{sample}__SCREEN_pseudobulk_bed_files\"\n",
    "    )\n",
    "    bw_path = os.path.join(\n",
    "        \"final_consensus_peaks\", f\"{sample}__SCREEN_pseudobulk_bw_files\"\n",
    "    )\n",
    "\n",
    "    if not os.path.exists(bed_path):\n",
    "        cto_path = cto_consensus_path_dict[sample]\n",
    "        with open(cto_path, \"rb\") as f:\n",
    "            cto = pickle.load(f)\n",
    "\n",
    "        fragments_path_dict_sub = {}\n",
    "        for sample in cto.cell_data[\"sample_id\"].unique():\n",
    "            fragments_path_dict_sub[sample] = fragments_path_dict[sample]\n",
    "\n",
    "        print(fragments_path_dict_sub)\n",
    "\n",
    "        bw_paths, bed_paths = export_pseudobulk(\n",
    "            input_data=cto,\n",
    "            variable=\"harmony_consensus_cell_type__mega\",\n",
    "            sample_id_col=\"sample_id\",\n",
    "            chromsizes=chromsizes,\n",
    "            bed_path=bed_path,\n",
    "            bigwig_path=bw_path,\n",
    "            path_to_fragments=fragments_path_dict_sub,\n",
    "            n_cpu=16,\n",
    "            normalize_bigwig=True,\n",
    "            remove_duplicates=True,\n",
    "        )\n",
    "\n",
    "        if ray.is_initialized():\n",
    "            print(\"Shutting down Ray\")\n",
    "            ray.shutdown()\n",
    "    else:\n",
    "        print(f\"{bed_path} exists, skipping...\")"
   ]
  },
  {
   "cell_type": "markdown",
   "id": "fc6efe9d",
   "metadata": {
    "papermill": {
     "duration": 0.003844,
     "end_time": "2022-09-29T13:44:59.272330",
     "exception": false,
     "start_time": "2022-09-29T13:44:59.268486",
     "status": "completed"
    },
    "tags": []
   },
   "source": [
    "# consensus"
   ]
  },
  {
   "cell_type": "code",
   "execution_count": 14,
   "id": "a822fdf1-bc5e-4f87-8e5a-09411928b6d2",
   "metadata": {
    "execution": {
     "iopub.execute_input": "2023-02-20T17:58:42.703136Z",
     "iopub.status.busy": "2023-02-20T17:58:42.699548Z",
     "iopub.status.idle": "2023-02-20T17:58:42.723675Z",
     "shell.execute_reply": "2023-02-20T17:58:42.722405Z",
     "shell.execute_reply.started": "2023-02-20T17:58:42.703046Z"
    },
    "tags": []
   },
   "outputs": [
    {
     "data": {
      "text/plain": [
       "{'10xmultiome_celltypefair_1.FIXEDCELLS.FIXEDCELLS__cto': 'cistopic_objects/10xmultiome_celltypefair_1.FIXEDCELLS__cto.scrublet0-4.fmx.singlets.model_19topics.pkl',\n",
       " '10xv11_celltypefair_1.FIXEDCELLS.FIXEDCELLS__cto': 'cistopic_objects/10xv11_celltypefair_1.FIXEDCELLS__cto.scrublet0-4.fmx.singlets.model_26topics.pkl',\n",
       " '10xv1_celltypefair_1.FIXEDCELLS.FIXEDCELLS__cto': 'cistopic_objects/10xv1_celltypefair_1.FIXEDCELLS__cto.scrublet0-4.fmx.singlets.model_21topics.pkl',\n",
       " '10xv2_celltypefair_1.FIXEDCELLS.FIXEDCELLS__cto': 'cistopic_objects/10xv2_celltypefair_1.FIXEDCELLS__cto.scrublet0-4.fmx.singlets.model_25topics.pkl',\n",
       " 'ddseq_celltypefair_1.FIXEDCELLS.FIXEDCELLS__cto': 'cistopic_objects/ddseq_celltypefair_1.FIXEDCELLS__cto.scrublet0-4.fmx.singlets.model_17topics.pkl',\n",
       " 'hydrop_celltypefair_1.FIXEDCELLS.FIXEDCELLS__cto': 'cistopic_objects/hydrop_celltypefair_1.FIXEDCELLS__cto.scrublet0-4.fmx.singlets.model_22topics.pkl',\n",
       " 'mtscatac_celltypefair_1.FIXEDCELLS.FIXEDCELLS__cto': 'cistopic_objects/mtscatac_celltypefair_1.FIXEDCELLS__cto.scrublet0-4.fmx.singlets.model_25topics.pkl',\n",
       " 's3atac_celltypefair_1.FIXEDCELLS.FIXEDCELLS__cto': 'cistopic_objects/s3atac_celltypefair_1.FIXEDCELLS__cto.scrublet0-4.fmx.singlets.model_18topics.pkl'}"
      ]
     },
     "execution_count": 14,
     "metadata": {},
     "output_type": "execute_result"
    }
   ],
   "source": [
    "cto_path_dict = {\n",
    "    x.split(\"/\")[-1].split(f\"__\")[0] + \".\" + x.split(\"/\")[-1].split(f\".\")[-6]: x\n",
    "    for x in sorted(glob.glob(\"cistopic_objects/*topics.pkl\"))\n",
    "}\n",
    "cto_path_dict"
   ]
  },
  {
   "cell_type": "code",
   "execution_count": 15,
   "id": "967b65dd-c1f5-4399-abdc-2ce2a04e3990",
   "metadata": {
    "execution": {
     "iopub.execute_input": "2023-02-20T17:58:42.726163Z",
     "iopub.status.busy": "2023-02-20T17:58:42.725765Z",
     "iopub.status.idle": "2023-02-20T17:58:48.141018Z",
     "shell.execute_reply": "2023-02-20T17:58:48.139852Z",
     "shell.execute_reply.started": "2023-02-20T17:58:42.726127Z"
    },
    "tags": []
   },
   "outputs": [],
   "source": [
    "for sample, cto_path in cto_path_dict.items():\n",
    "    with open(cto_path, \"rb\") as f:\n",
    "        cto = pickle.load(f)\n",
    "\n",
    "    cto.cell_data.to_csv(cto_path.replace(\".pkl\", \".cell_data.csv\"))"
   ]
  },
  {
   "cell_type": "code",
   "execution_count": 16,
   "id": "4973647b",
   "metadata": {
    "execution": {
     "iopub.execute_input": "2023-02-20T17:58:48.143293Z",
     "iopub.status.busy": "2023-02-20T17:58:48.143056Z",
     "iopub.status.idle": "2023-02-20T17:58:48.154124Z",
     "shell.execute_reply": "2023-02-20T17:58:48.153132Z",
     "shell.execute_reply.started": "2023-02-20T17:58:48.143271Z"
    },
    "papermill": {
     "duration": 0.014072,
     "end_time": "2022-09-29T13:44:59.290366",
     "exception": false,
     "start_time": "2022-09-29T13:44:59.276294",
     "status": "completed"
    },
    "tags": []
   },
   "outputs": [
    {
     "data": {
      "text/plain": [
       "{'10xmultiome_celltypefair_1.FIXEDCELLS': 'cistopic_objects/10xmultiome_celltypefair_1.FIXEDCELLS__cto.scrublet0-4.fmx.singlets.model_19topics.cell_data.csv',\n",
       " '10xv11_celltypefair_1.FIXEDCELLS': 'cistopic_objects/10xv11_celltypefair_1.FIXEDCELLS__cto.scrublet0-4.fmx.singlets.model_26topics.cell_data.csv',\n",
       " '10xv1_celltypefair_1.FIXEDCELLS': 'cistopic_objects/10xv1_celltypefair_1.FIXEDCELLS__cto.scrublet0-4.fmx.singlets.model_21topics.cell_data.csv',\n",
       " '10xv2_celltypefair_1.FIXEDCELLS': 'cistopic_objects/10xv2_celltypefair_1.FIXEDCELLS__cto.scrublet0-4.fmx.singlets.model_25topics.cell_data.csv',\n",
       " 'ddseq_celltypefair_1.FIXEDCELLS': 'cistopic_objects/ddseq_celltypefair_1.FIXEDCELLS__cto.scrublet0-4.fmx.singlets.model_17topics.cell_data.csv',\n",
       " 'hydrop_celltypefair_1.FIXEDCELLS': 'cistopic_objects/hydrop_celltypefair_1.FIXEDCELLS__cto.scrublet0-4.fmx.singlets.model_22topics.cell_data.csv',\n",
       " 'mtscatac_celltypefair_1.FIXEDCELLS': 'cistopic_objects/mtscatac_celltypefair_1.FIXEDCELLS__cto.scrublet0-4.fmx.singlets.model_25topics.cell_data.csv',\n",
       " 's3atac_celltypefair_1.FIXEDCELLS': 'cistopic_objects/s3atac_celltypefair_1.FIXEDCELLS__cto.scrublet0-4.fmx.singlets.model_18topics.cell_data.csv'}"
      ]
     },
     "execution_count": 16,
     "metadata": {},
     "output_type": "execute_result"
    }
   ],
   "source": [
    "cell_data_path_dict = {\n",
    "    x.split(\"/\")[-1].split(f\"__\")[0]: x\n",
    "    for x in sorted(glob.glob(\"cistopic_objects/*topics.cell_data.csv\"))\n",
    "}\n",
    "cell_data_path_dict"
   ]
  },
  {
   "cell_type": "code",
   "execution_count": 17,
   "id": "ae58dd8d",
   "metadata": {
    "execution": {
     "iopub.execute_input": "2023-02-20T17:58:48.155280Z",
     "iopub.status.busy": "2023-02-20T17:58:48.155067Z",
     "iopub.status.idle": "2023-02-20T17:58:48.168180Z",
     "shell.execute_reply": "2023-02-20T17:58:48.167189Z",
     "shell.execute_reply.started": "2023-02-20T17:58:48.155260Z"
    },
    "papermill": {
     "duration": 0.013606,
     "end_time": "2022-09-29T13:44:59.308231",
     "exception": false,
     "start_time": "2022-09-29T13:44:59.294625",
     "status": "completed"
    },
    "tags": []
   },
   "outputs": [
    {
     "data": {
      "text/plain": [
       "{'10xmultiome_celltypefair_1.FIXEDCELLS': 'final_consensus_peaks/10xmultiome_celltypefair_1.FIXEDCELLS__SCREEN_pseudobulk_bw_files',\n",
       " '10xv11_celltypefair_1.FIXEDCELLS': 'final_consensus_peaks/10xv11_celltypefair_1.FIXEDCELLS__SCREEN_pseudobulk_bw_files',\n",
       " '10xv1_celltypefair_1.FIXEDCELLS': 'final_consensus_peaks/10xv1_celltypefair_1.FIXEDCELLS__SCREEN_pseudobulk_bw_files',\n",
       " '10xv2_celltypefair_1.FIXEDCELLS': 'final_consensus_peaks/10xv2_celltypefair_1.FIXEDCELLS__SCREEN_pseudobulk_bw_files',\n",
       " 'ddseq_celltypefair_1.FIXEDCELLS': 'final_consensus_peaks/ddseq_celltypefair_1.FIXEDCELLS__SCREEN_pseudobulk_bw_files',\n",
       " 'hydrop_celltypefair_1.FIXEDCELLS': 'final_consensus_peaks/hydrop_celltypefair_1.FIXEDCELLS__SCREEN_pseudobulk_bw_files',\n",
       " 'mtscatac_celltypefair_1.FIXEDCELLS': 'final_consensus_peaks/mtscatac_celltypefair_1.FIXEDCELLS__SCREEN_pseudobulk_bw_files',\n",
       " 's3atac_celltypefair_1.FIXEDCELLS': 'final_consensus_peaks/s3atac_celltypefair_1.FIXEDCELLS__SCREEN_pseudobulk_bw_files'}"
      ]
     },
     "execution_count": 17,
     "metadata": {},
     "output_type": "execute_result"
    }
   ],
   "source": [
    "bw_path_dict = {\n",
    "    x.split(\"/\")[-1].split(f\"__\")[0]: x\n",
    "    for x in sorted(glob.glob(\"final_consensus_peaks/*_pseudobulk_bw_files\"))\n",
    "}\n",
    "bw_path_dict"
   ]
  },
  {
   "cell_type": "code",
   "execution_count": 18,
   "id": "5e57cc13",
   "metadata": {
    "execution": {
     "iopub.execute_input": "2023-02-20T17:58:48.169403Z",
     "iopub.status.busy": "2023-02-20T17:58:48.169193Z",
     "iopub.status.idle": "2023-02-20T17:58:48.178332Z",
     "shell.execute_reply": "2023-02-20T17:58:48.177350Z",
     "shell.execute_reply.started": "2023-02-20T17:58:48.169384Z"
    },
    "papermill": {
     "duration": 0.013527,
     "end_time": "2022-09-29T13:44:59.326142",
     "exception": false,
     "start_time": "2022-09-29T13:44:59.312615",
     "status": "completed"
    },
    "tags": []
   },
   "outputs": [
    {
     "data": {
      "text/plain": [
       "{'10xmultiome_celltypefair_1.FIXEDCELLS': 'final_consensus_peaks/10xmultiome_celltypefair_1.FIXEDCELLS__SCREEN_pseudobulk_bed_files',\n",
       " '10xv11_celltypefair_1.FIXEDCELLS': 'final_consensus_peaks/10xv11_celltypefair_1.FIXEDCELLS__SCREEN_pseudobulk_bed_files',\n",
       " '10xv1_celltypefair_1.FIXEDCELLS': 'final_consensus_peaks/10xv1_celltypefair_1.FIXEDCELLS__SCREEN_pseudobulk_bed_files',\n",
       " '10xv2_celltypefair_1.FIXEDCELLS': 'final_consensus_peaks/10xv2_celltypefair_1.FIXEDCELLS__SCREEN_pseudobulk_bed_files',\n",
       " 'ddseq_celltypefair_1.FIXEDCELLS': 'final_consensus_peaks/ddseq_celltypefair_1.FIXEDCELLS__SCREEN_pseudobulk_bed_files',\n",
       " 'hydrop_celltypefair_1.FIXEDCELLS': 'final_consensus_peaks/hydrop_celltypefair_1.FIXEDCELLS__SCREEN_pseudobulk_bed_files',\n",
       " 'mtscatac_celltypefair_1.FIXEDCELLS': 'final_consensus_peaks/mtscatac_celltypefair_1.FIXEDCELLS__SCREEN_pseudobulk_bed_files',\n",
       " 's3atac_celltypefair_1.FIXEDCELLS': 'final_consensus_peaks/s3atac_celltypefair_1.FIXEDCELLS__SCREEN_pseudobulk_bed_files'}"
      ]
     },
     "execution_count": 18,
     "metadata": {},
     "output_type": "execute_result"
    }
   ],
   "source": [
    "bed_path_dict = {\n",
    "    x.split(\"/\")[-1].split(f\"__\")[0]: x\n",
    "    for x in sorted(glob.glob(\"final_consensus_peaks/*_pseudobulk_bed_files\"))\n",
    "}\n",
    "bed_path_dict"
   ]
  },
  {
   "cell_type": "code",
   "execution_count": 19,
   "id": "24cad54b",
   "metadata": {
    "execution": {
     "iopub.execute_input": "2023-02-20T17:58:48.179707Z",
     "iopub.status.busy": "2023-02-20T17:58:48.179496Z",
     "iopub.status.idle": "2023-02-20T17:58:48.190746Z",
     "shell.execute_reply": "2023-02-20T17:58:48.189763Z",
     "shell.execute_reply.started": "2023-02-20T17:58:48.179688Z"
    },
    "papermill": {
     "duration": 0.03679,
     "end_time": "2022-09-29T13:44:59.367367",
     "exception": false,
     "start_time": "2022-09-29T13:44:59.330577",
     "status": "completed"
    },
    "tags": []
   },
   "outputs": [],
   "source": [
    "for sample in bed_path_dict.keys():\n",
    "    bed_paths = {\n",
    "        x.split(\"/\")[-1].split(\"__\")[0].split(\".bed.gz\")[0]: x\n",
    "        for x in glob.glob(bed_path_dict[sample] + \"/*\")\n",
    "    }"
   ]
  },
  {
   "cell_type": "code",
   "execution_count": 20,
   "id": "fe713275",
   "metadata": {
    "execution": {
     "iopub.execute_input": "2023-02-20T17:58:48.191881Z",
     "iopub.status.busy": "2023-02-20T17:58:48.191672Z",
     "iopub.status.idle": "2023-02-20T17:58:48.197106Z",
     "shell.execute_reply": "2023-02-20T17:58:48.196039Z",
     "shell.execute_reply.started": "2023-02-20T17:58:48.191863Z"
    },
    "papermill": {
     "duration": 0.009409,
     "end_time": "2022-09-29T13:44:59.381354",
     "exception": false,
     "start_time": "2022-09-29T13:44:59.371945",
     "status": "completed"
    },
    "tags": []
   },
   "outputs": [],
   "source": [
    "from pycisTopic.pseudobulk_peak_calling import *"
   ]
  },
  {
   "cell_type": "code",
   "execution_count": 21,
   "id": "b99ef9f7",
   "metadata": {
    "execution": {
     "iopub.execute_input": "2023-02-20T17:58:48.198285Z",
     "iopub.status.busy": "2023-02-20T17:58:48.198058Z",
     "iopub.status.idle": "2023-02-20T17:58:48.203263Z",
     "shell.execute_reply": "2023-02-20T17:58:48.202247Z",
     "shell.execute_reply.started": "2023-02-20T17:58:48.198263Z"
    },
    "papermill": {
     "duration": 0.009207,
     "end_time": "2022-09-29T13:44:59.394975",
     "exception": false,
     "start_time": "2022-09-29T13:44:59.385768",
     "status": "completed"
    },
    "tags": []
   },
   "outputs": [],
   "source": [
    "import ray"
   ]
  },
  {
   "cell_type": "code",
   "execution_count": null,
   "id": "968dd901",
   "metadata": {},
   "outputs": [],
   "source": []
  },
  {
   "cell_type": "code",
   "execution_count": 22,
   "id": "226e07e6",
   "metadata": {
    "execution": {
     "iopub.execute_input": "2023-02-20T17:58:48.207004Z",
     "iopub.status.busy": "2023-02-20T17:58:48.206229Z",
     "iopub.status.idle": "2023-02-20T18:12:37.407287Z",
     "shell.execute_reply": "2023-02-20T18:12:37.406011Z",
     "shell.execute_reply.started": "2023-02-20T17:58:48.206973Z"
    },
    "papermill": {
     "duration": null,
     "end_time": null,
     "exception": false,
     "start_time": "2022-09-29T13:44:59.399469",
     "status": "running"
    },
    "tags": []
   },
   "outputs": [
    {
     "name": "stdout",
     "output_type": "stream",
     "text": [
      "Starting final_consensus_peaks/10xmultiome_celltypefair_1.FIXEDCELLS__SCREEN_narrow_peaks_dict.pkl\n"
     ]
    },
    {
     "name": "stderr",
     "output_type": "stream",
     "text": [
      "2023-02-20 18:58:52,829\tINFO worker.py:1509 -- Started a local Ray instance. View the dashboard at \u001b[1m\u001b[32mhttp://127.0.0.1:8265 \u001b[39m\u001b[22m\n"
     ]
    },
    {
     "name": "stdout",
     "output_type": "stream",
     "text": [
      "\u001b[2m\u001b[36m(macs_call_peak_ray pid=1037241)\u001b[0m 2023-02-20 18:58:55,755 cisTopic     INFO     Calling peaks for Dendriticcell with macs2 callpeak --treatment final_consensus_peaks/10xmultiome_celltypefair_1.FIXEDCELLS__SCREEN_pseudobulk_bed_files/Dendriticcell.bed.gz --name Dendriticcell  --outdir final_consensus_peaks/10xmultiome_celltypefair_1.FIXEDCELLS__SCREEN_consensus_peaks --format BEDPE --gsize hs --qvalue 0.05 --nomodel --shift 73 --extsize 146 --keep-dup all --call-summits --nolambda\n",
      "\u001b[2m\u001b[36m(macs_call_peak_ray pid=1037251)\u001b[0m 2023-02-20 18:58:55,746 cisTopic     INFO     Calling peaks for Naturalkillercell with macs2 callpeak --treatment final_consensus_peaks/10xmultiome_celltypefair_1.FIXEDCELLS__SCREEN_pseudobulk_bed_files/Naturalkillercell.bed.gz --name Naturalkillercell  --outdir final_consensus_peaks/10xmultiome_celltypefair_1.FIXEDCELLS__SCREEN_consensus_peaks --format BEDPE --gsize hs --qvalue 0.05 --nomodel --shift 73 --extsize 146 --keep-dup all --call-summits --nolambda\n",
      "\u001b[2m\u001b[36m(macs_call_peak_ray pid=1037243)\u001b[0m 2023-02-20 18:58:55,831 cisTopic     INFO     Calling peaks for CytotoxicTcell with macs2 callpeak --treatment final_consensus_peaks/10xmultiome_celltypefair_1.FIXEDCELLS__SCREEN_pseudobulk_bed_files/CytotoxicTcell.bed.gz --name CytotoxicTcell  --outdir final_consensus_peaks/10xmultiome_celltypefair_1.FIXEDCELLS__SCREEN_consensus_peaks --format BEDPE --gsize hs --qvalue 0.05 --nomodel --shift 73 --extsize 146 --keep-dup all --call-summits --nolambda\n",
      "\u001b[2m\u001b[36m(macs_call_peak_ray pid=1037247)\u001b[0m 2023-02-20 18:58:55,853 cisTopic     INFO     Calling peaks for CD16_monocyte with macs2 callpeak --treatment final_consensus_peaks/10xmultiome_celltypefair_1.FIXEDCELLS__SCREEN_pseudobulk_bed_files/CD16_monocyte.bed.gz --name CD16_monocyte  --outdir final_consensus_peaks/10xmultiome_celltypefair_1.FIXEDCELLS__SCREEN_consensus_peaks --format BEDPE --gsize hs --qvalue 0.05 --nomodel --shift 73 --extsize 146 --keep-dup all --call-summits --nolambda\n",
      "\u001b[2m\u001b[36m(macs_call_peak_ray pid=1037256)\u001b[0m 2023-02-20 18:58:55,851 cisTopic     INFO     Calling peaks for Bcell with macs2 callpeak --treatment final_consensus_peaks/10xmultiome_celltypefair_1.FIXEDCELLS__SCREEN_pseudobulk_bed_files/Bcell.bed.gz --name Bcell  --outdir final_consensus_peaks/10xmultiome_celltypefair_1.FIXEDCELLS__SCREEN_consensus_peaks --format BEDPE --gsize hs --qvalue 0.05 --nomodel --shift 73 --extsize 146 --keep-dup all --call-summits --nolambda\n",
      "\u001b[2m\u001b[36m(macs_call_peak_ray pid=1037244)\u001b[0m 2023-02-20 18:58:55,828 cisTopic     INFO     Calling peaks for CD4_Tcell with macs2 callpeak --treatment final_consensus_peaks/10xmultiome_celltypefair_1.FIXEDCELLS__SCREEN_pseudobulk_bed_files/CD4_Tcell.bed.gz --name CD4_Tcell  --outdir final_consensus_peaks/10xmultiome_celltypefair_1.FIXEDCELLS__SCREEN_consensus_peaks --format BEDPE --gsize hs --qvalue 0.05 --nomodel --shift 73 --extsize 146 --keep-dup all --call-summits --nolambda\n",
      "\u001b[2m\u001b[36m(macs_call_peak_ray pid=1037249)\u001b[0m 2023-02-20 18:58:55,829 cisTopic     INFO     Calling peaks for CD14_monocyte with macs2 callpeak --treatment final_consensus_peaks/10xmultiome_celltypefair_1.FIXEDCELLS__SCREEN_pseudobulk_bed_files/CD14_monocyte.bed.gz --name CD14_monocyte  --outdir final_consensus_peaks/10xmultiome_celltypefair_1.FIXEDCELLS__SCREEN_consensus_peaks --format BEDPE --gsize hs --qvalue 0.05 --nomodel --shift 73 --extsize 146 --keep-dup all --call-summits --nolambda\n",
      "\u001b[2m\u001b[36m(macs_call_peak_ray pid=1037241)\u001b[0m 2023-02-20 18:59:13,569 cisTopic     INFO     Dendriticcell done!\n",
      "\u001b[2m\u001b[36m(macs_call_peak_ray pid=1037251)\u001b[0m 2023-02-20 18:59:17,599 cisTopic     INFO     Naturalkillercell done!\n",
      "\u001b[2m\u001b[36m(macs_call_peak_ray pid=1037247)\u001b[0m 2023-02-20 18:59:18,505 cisTopic     INFO     CD16_monocyte done!\n",
      "\u001b[2m\u001b[36m(macs_call_peak_ray pid=1037256)\u001b[0m 2023-02-20 18:59:42,255 cisTopic     INFO     Bcell done!\n",
      "\u001b[2m\u001b[36m(macs_call_peak_ray pid=1037244)\u001b[0m 2023-02-20 18:59:49,255 cisTopic     INFO     CD4_Tcell done!\n",
      "\u001b[2m\u001b[36m(macs_call_peak_ray pid=1037249)\u001b[0m 2023-02-20 18:59:57,155 cisTopic     INFO     CD14_monocyte done!\n",
      "\u001b[2m\u001b[36m(macs_call_peak_ray pid=1037243)\u001b[0m 2023-02-20 19:00:55,313 cisTopic     INFO     CytotoxicTcell done!\n",
      "Starting final_consensus_peaks/10xv11_celltypefair_1.FIXEDCELLS__SCREEN_narrow_peaks_dict.pkl\n"
     ]
    },
    {
     "name": "stderr",
     "output_type": "stream",
     "text": [
      "2023-02-20 19:01:01,948\tINFO worker.py:1509 -- Started a local Ray instance. View the dashboard at \u001b[1m\u001b[32mhttp://127.0.0.1:8265 \u001b[39m\u001b[22m\n"
     ]
    },
    {
     "name": "stdout",
     "output_type": "stream",
     "text": [
      "\u001b[2m\u001b[36m(macs_call_peak_ray pid=1038186)\u001b[0m 2023-02-20 19:01:04,902 cisTopic     INFO     Calling peaks for CD4_Tcell with macs2 callpeak --treatment final_consensus_peaks/10xv11_celltypefair_1.FIXEDCELLS__SCREEN_pseudobulk_bed_files/CD4_Tcell.bed.gz --name CD4_Tcell  --outdir final_consensus_peaks/10xv11_celltypefair_1.FIXEDCELLS__SCREEN_consensus_peaks --format BEDPE --gsize hs --qvalue 0.05 --nomodel --shift 73 --extsize 146 --keep-dup all --call-summits --nolambda\n",
      "\u001b[2m\u001b[36m(macs_call_peak_ray pid=1038189)\u001b[0m 2023-02-20 19:01:04,888 cisTopic     INFO     Calling peaks for Naturalkillercell with macs2 callpeak --treatment final_consensus_peaks/10xv11_celltypefair_1.FIXEDCELLS__SCREEN_pseudobulk_bed_files/Naturalkillercell.bed.gz --name Naturalkillercell  --outdir final_consensus_peaks/10xv11_celltypefair_1.FIXEDCELLS__SCREEN_consensus_peaks --format BEDPE --gsize hs --qvalue 0.05 --nomodel --shift 73 --extsize 146 --keep-dup all --call-summits --nolambda\n",
      "\u001b[2m\u001b[36m(macs_call_peak_ray pid=1038184)\u001b[0m 2023-02-20 19:01:04,896 cisTopic     INFO     Calling peaks for CD14_monocyte with macs2 callpeak --treatment final_consensus_peaks/10xv11_celltypefair_1.FIXEDCELLS__SCREEN_pseudobulk_bed_files/CD14_monocyte.bed.gz --name CD14_monocyte  --outdir final_consensus_peaks/10xv11_celltypefair_1.FIXEDCELLS__SCREEN_consensus_peaks --format BEDPE --gsize hs --qvalue 0.05 --nomodel --shift 73 --extsize 146 --keep-dup all --call-summits --nolambda\n",
      "\u001b[2m\u001b[36m(macs_call_peak_ray pid=1038182)\u001b[0m 2023-02-20 19:01:04,978 cisTopic     INFO     Calling peaks for CD16_monocyte with macs2 callpeak --treatment final_consensus_peaks/10xv11_celltypefair_1.FIXEDCELLS__SCREEN_pseudobulk_bed_files/CD16_monocyte.bed.gz --name CD16_monocyte  --outdir final_consensus_peaks/10xv11_celltypefair_1.FIXEDCELLS__SCREEN_consensus_peaks --format BEDPE --gsize hs --qvalue 0.05 --nomodel --shift 73 --extsize 146 --keep-dup all --call-summits --nolambda\n",
      "\u001b[2m\u001b[36m(macs_call_peak_ray pid=1038173)\u001b[0m 2023-02-20 19:01:04,965 cisTopic     INFO     Calling peaks for Dendriticcell with macs2 callpeak --treatment final_consensus_peaks/10xv11_celltypefair_1.FIXEDCELLS__SCREEN_pseudobulk_bed_files/Dendriticcell.bed.gz --name Dendriticcell  --outdir final_consensus_peaks/10xv11_celltypefair_1.FIXEDCELLS__SCREEN_consensus_peaks --format BEDPE --gsize hs --qvalue 0.05 --nomodel --shift 73 --extsize 146 --keep-dup all --call-summits --nolambda\n",
      "\u001b[2m\u001b[36m(macs_call_peak_ray pid=1038175)\u001b[0m 2023-02-20 19:01:05,018 cisTopic     INFO     Calling peaks for CytotoxicTcell with macs2 callpeak --treatment final_consensus_peaks/10xv11_celltypefair_1.FIXEDCELLS__SCREEN_pseudobulk_bed_files/CytotoxicTcell.bed.gz --name CytotoxicTcell  --outdir final_consensus_peaks/10xv11_celltypefair_1.FIXEDCELLS__SCREEN_consensus_peaks --format BEDPE --gsize hs --qvalue 0.05 --nomodel --shift 73 --extsize 146 --keep-dup all --call-summits --nolambda\n",
      "\u001b[2m\u001b[36m(macs_call_peak_ray pid=1038179)\u001b[0m 2023-02-20 19:01:05,030 cisTopic     INFO     Calling peaks for Bcell with macs2 callpeak --treatment final_consensus_peaks/10xv11_celltypefair_1.FIXEDCELLS__SCREEN_pseudobulk_bed_files/Bcell.bed.gz --name Bcell  --outdir final_consensus_peaks/10xv11_celltypefair_1.FIXEDCELLS__SCREEN_consensus_peaks --format BEDPE --gsize hs --qvalue 0.05 --nomodel --shift 73 --extsize 146 --keep-dup all --call-summits --nolambda\n",
      "\u001b[2m\u001b[36m(macs_call_peak_ray pid=1038189)\u001b[0m 2023-02-20 19:01:29,227 cisTopic     INFO     Naturalkillercell done!\n",
      "\u001b[2m\u001b[36m(macs_call_peak_ray pid=1038173)\u001b[0m 2023-02-20 19:01:29,501 cisTopic     INFO     Dendriticcell done!\n",
      "\u001b[2m\u001b[36m(macs_call_peak_ray pid=1038182)\u001b[0m 2023-02-20 19:01:35,078 cisTopic     INFO     CD16_monocyte done!\n",
      "\u001b[2m\u001b[36m(macs_call_peak_ray pid=1038179)\u001b[0m 2023-02-20 19:01:57,657 cisTopic     INFO     Bcell done!\n",
      "\u001b[2m\u001b[36m(macs_call_peak_ray pid=1038184)\u001b[0m 2023-02-20 19:02:10,005 cisTopic     INFO     CD14_monocyte done!\n",
      "\u001b[2m\u001b[36m(macs_call_peak_ray pid=1038186)\u001b[0m 2023-02-20 19:02:11,058 cisTopic     INFO     CD4_Tcell done!\n",
      "\u001b[2m\u001b[36m(macs_call_peak_ray pid=1038175)\u001b[0m 2023-02-20 19:02:56,775 cisTopic     INFO     CytotoxicTcell done!\n",
      "Starting final_consensus_peaks/10xv1_celltypefair_1.FIXEDCELLS__SCREEN_narrow_peaks_dict.pkl\n"
     ]
    },
    {
     "name": "stderr",
     "output_type": "stream",
     "text": [
      "2023-02-20 19:03:04,383\tINFO worker.py:1509 -- Started a local Ray instance. View the dashboard at \u001b[1m\u001b[32mhttp://127.0.0.1:8265 \u001b[39m\u001b[22m\n"
     ]
    },
    {
     "name": "stdout",
     "output_type": "stream",
     "text": [
      "\u001b[2m\u001b[36m(macs_call_peak_ray pid=1039147)\u001b[0m 2023-02-20 19:03:07,290 cisTopic     INFO     Calling peaks for Bcell with macs2 callpeak --treatment final_consensus_peaks/10xv1_celltypefair_1.FIXEDCELLS__SCREEN_pseudobulk_bed_files/Bcell.bed.gz --name Bcell  --outdir final_consensus_peaks/10xv1_celltypefair_1.FIXEDCELLS__SCREEN_consensus_peaks --format BEDPE --gsize hs --qvalue 0.05 --nomodel --shift 73 --extsize 146 --keep-dup all --call-summits --nolambda\n",
      "\u001b[2m\u001b[36m(macs_call_peak_ray pid=1039145)\u001b[0m 2023-02-20 19:03:07,310 cisTopic     INFO     Calling peaks for Naturalkillercell with macs2 callpeak --treatment final_consensus_peaks/10xv1_celltypefair_1.FIXEDCELLS__SCREEN_pseudobulk_bed_files/Naturalkillercell.bed.gz --name Naturalkillercell  --outdir final_consensus_peaks/10xv1_celltypefair_1.FIXEDCELLS__SCREEN_consensus_peaks --format BEDPE --gsize hs --qvalue 0.05 --nomodel --shift 73 --extsize 146 --keep-dup all --call-summits --nolambda\n",
      "\u001b[2m\u001b[36m(macs_call_peak_ray pid=1039152)\u001b[0m 2023-02-20 19:03:07,371 cisTopic     INFO     Calling peaks for CytotoxicTcell with macs2 callpeak --treatment final_consensus_peaks/10xv1_celltypefair_1.FIXEDCELLS__SCREEN_pseudobulk_bed_files/CytotoxicTcell.bed.gz --name CytotoxicTcell  --outdir final_consensus_peaks/10xv1_celltypefair_1.FIXEDCELLS__SCREEN_consensus_peaks --format BEDPE --gsize hs --qvalue 0.05 --nomodel --shift 73 --extsize 146 --keep-dup all --call-summits --nolambda\n",
      "\u001b[2m\u001b[36m(macs_call_peak_ray pid=1039142)\u001b[0m 2023-02-20 19:03:07,375 cisTopic     INFO     Calling peaks for CD16_monocyte with macs2 callpeak --treatment final_consensus_peaks/10xv1_celltypefair_1.FIXEDCELLS__SCREEN_pseudobulk_bed_files/CD16_monocyte.bed.gz --name CD16_monocyte  --outdir final_consensus_peaks/10xv1_celltypefair_1.FIXEDCELLS__SCREEN_consensus_peaks --format BEDPE --gsize hs --qvalue 0.05 --nomodel --shift 73 --extsize 146 --keep-dup all --call-summits --nolambda\n",
      "\u001b[2m\u001b[36m(macs_call_peak_ray pid=1039141)\u001b[0m 2023-02-20 19:03:07,384 cisTopic     INFO     Calling peaks for Dendriticcell with macs2 callpeak --treatment final_consensus_peaks/10xv1_celltypefair_1.FIXEDCELLS__SCREEN_pseudobulk_bed_files/Dendriticcell.bed.gz --name Dendriticcell  --outdir final_consensus_peaks/10xv1_celltypefair_1.FIXEDCELLS__SCREEN_consensus_peaks --format BEDPE --gsize hs --qvalue 0.05 --nomodel --shift 73 --extsize 146 --keep-dup all --call-summits --nolambda\n",
      "\u001b[2m\u001b[36m(macs_call_peak_ray pid=1039153)\u001b[0m 2023-02-20 19:03:07,378 cisTopic     INFO     Calling peaks for CD4_Tcell with macs2 callpeak --treatment final_consensus_peaks/10xv1_celltypefair_1.FIXEDCELLS__SCREEN_pseudobulk_bed_files/CD4_Tcell.bed.gz --name CD4_Tcell  --outdir final_consensus_peaks/10xv1_celltypefair_1.FIXEDCELLS__SCREEN_consensus_peaks --format BEDPE --gsize hs --qvalue 0.05 --nomodel --shift 73 --extsize 146 --keep-dup all --call-summits --nolambda\n",
      "\u001b[2m\u001b[36m(macs_call_peak_ray pid=1039150)\u001b[0m 2023-02-20 19:03:07,353 cisTopic     INFO     Calling peaks for CD14_monocyte with macs2 callpeak --treatment final_consensus_peaks/10xv1_celltypefair_1.FIXEDCELLS__SCREEN_pseudobulk_bed_files/CD14_monocyte.bed.gz --name CD14_monocyte  --outdir final_consensus_peaks/10xv1_celltypefair_1.FIXEDCELLS__SCREEN_consensus_peaks --format BEDPE --gsize hs --qvalue 0.05 --nomodel --shift 73 --extsize 146 --keep-dup all --call-summits --nolambda\n",
      "\u001b[2m\u001b[36m(macs_call_peak_ray pid=1039141)\u001b[0m 2023-02-20 19:03:26,008 cisTopic     INFO     Dendriticcell done!\n",
      "\u001b[2m\u001b[36m(macs_call_peak_ray pid=1039145)\u001b[0m 2023-02-20 19:03:26,350 cisTopic     INFO     Naturalkillercell done!\n",
      "\u001b[2m\u001b[36m(macs_call_peak_ray pid=1039142)\u001b[0m 2023-02-20 19:03:31,749 cisTopic     INFO     CD16_monocyte done!\n",
      "\u001b[2m\u001b[36m(macs_call_peak_ray pid=1039147)\u001b[0m 2023-02-20 19:03:53,451 cisTopic     INFO     Bcell done!\n",
      "\u001b[2m\u001b[36m(macs_call_peak_ray pid=1039150)\u001b[0m 2023-02-20 19:04:00,523 cisTopic     INFO     CD14_monocyte done!\n",
      "\u001b[2m\u001b[36m(macs_call_peak_ray pid=1039153)\u001b[0m 2023-02-20 19:04:09,231 cisTopic     INFO     CD4_Tcell done!\n",
      "\u001b[2m\u001b[36m(macs_call_peak_ray pid=1039152)\u001b[0m 2023-02-20 19:04:36,383 cisTopic     INFO     CytotoxicTcell done!\n",
      "Starting final_consensus_peaks/10xv2_celltypefair_1.FIXEDCELLS__SCREEN_narrow_peaks_dict.pkl\n"
     ]
    },
    {
     "name": "stderr",
     "output_type": "stream",
     "text": [
      "2023-02-20 19:04:44,071\tINFO worker.py:1509 -- Started a local Ray instance. View the dashboard at \u001b[1m\u001b[32mhttp://127.0.0.1:8265 \u001b[39m\u001b[22m\n"
     ]
    },
    {
     "name": "stdout",
     "output_type": "stream",
     "text": [
      "\u001b[2m\u001b[36m(macs_call_peak_ray pid=1040097)\u001b[0m 2023-02-20 19:04:47,029 cisTopic     INFO     Calling peaks for Naturalkillercell with macs2 callpeak --treatment final_consensus_peaks/10xv2_celltypefair_1.FIXEDCELLS__SCREEN_pseudobulk_bed_files/Naturalkillercell.bed.gz --name Naturalkillercell  --outdir final_consensus_peaks/10xv2_celltypefair_1.FIXEDCELLS__SCREEN_consensus_peaks --format BEDPE --gsize hs --qvalue 0.05 --nomodel --shift 73 --extsize 146 --keep-dup all --call-summits --nolambda\n",
      "\u001b[2m\u001b[36m(macs_call_peak_ray pid=1040109)\u001b[0m 2023-02-20 19:04:47,023 cisTopic     INFO     Calling peaks for CD16_monocyte with macs2 callpeak --treatment final_consensus_peaks/10xv2_celltypefair_1.FIXEDCELLS__SCREEN_pseudobulk_bed_files/CD16_monocyte.bed.gz --name CD16_monocyte  --outdir final_consensus_peaks/10xv2_celltypefair_1.FIXEDCELLS__SCREEN_consensus_peaks --format BEDPE --gsize hs --qvalue 0.05 --nomodel --shift 73 --extsize 146 --keep-dup all --call-summits --nolambda\n",
      "\u001b[2m\u001b[36m(macs_call_peak_ray pid=1040104)\u001b[0m 2023-02-20 19:04:47,110 cisTopic     INFO     Calling peaks for CD4_Tcell with macs2 callpeak --treatment final_consensus_peaks/10xv2_celltypefair_1.FIXEDCELLS__SCREEN_pseudobulk_bed_files/CD4_Tcell.bed.gz --name CD4_Tcell  --outdir final_consensus_peaks/10xv2_celltypefair_1.FIXEDCELLS__SCREEN_consensus_peaks --format BEDPE --gsize hs --qvalue 0.05 --nomodel --shift 73 --extsize 146 --keep-dup all --call-summits --nolambda\n",
      "\u001b[2m\u001b[36m(macs_call_peak_ray pid=1040108)\u001b[0m 2023-02-20 19:04:47,066 cisTopic     INFO     Calling peaks for Bcell with macs2 callpeak --treatment final_consensus_peaks/10xv2_celltypefair_1.FIXEDCELLS__SCREEN_pseudobulk_bed_files/Bcell.bed.gz --name Bcell  --outdir final_consensus_peaks/10xv2_celltypefair_1.FIXEDCELLS__SCREEN_consensus_peaks --format BEDPE --gsize hs --qvalue 0.05 --nomodel --shift 73 --extsize 146 --keep-dup all --call-summits --nolambda\n",
      "\u001b[2m\u001b[36m(macs_call_peak_ray pid=1040110)\u001b[0m 2023-02-20 19:04:47,058 cisTopic     INFO     Calling peaks for CD14_monocyte with macs2 callpeak --treatment final_consensus_peaks/10xv2_celltypefair_1.FIXEDCELLS__SCREEN_pseudobulk_bed_files/CD14_monocyte.bed.gz --name CD14_monocyte  --outdir final_consensus_peaks/10xv2_celltypefair_1.FIXEDCELLS__SCREEN_consensus_peaks --format BEDPE --gsize hs --qvalue 0.05 --nomodel --shift 73 --extsize 146 --keep-dup all --call-summits --nolambda\n",
      "\u001b[2m\u001b[36m(macs_call_peak_ray pid=1040105)\u001b[0m 2023-02-20 19:04:47,124 cisTopic     INFO     Calling peaks for CytotoxicTcell with macs2 callpeak --treatment final_consensus_peaks/10xv2_celltypefair_1.FIXEDCELLS__SCREEN_pseudobulk_bed_files/CytotoxicTcell.bed.gz --name CytotoxicTcell  --outdir final_consensus_peaks/10xv2_celltypefair_1.FIXEDCELLS__SCREEN_consensus_peaks --format BEDPE --gsize hs --qvalue 0.05 --nomodel --shift 73 --extsize 146 --keep-dup all --call-summits --nolambda\n",
      "\u001b[2m\u001b[36m(macs_call_peak_ray pid=1040101)\u001b[0m 2023-02-20 19:04:47,128 cisTopic     INFO     Calling peaks for Dendriticcell with macs2 callpeak --treatment final_consensus_peaks/10xv2_celltypefair_1.FIXEDCELLS__SCREEN_pseudobulk_bed_files/Dendriticcell.bed.gz --name Dendriticcell  --outdir final_consensus_peaks/10xv2_celltypefair_1.FIXEDCELLS__SCREEN_consensus_peaks --format BEDPE --gsize hs --qvalue 0.05 --nomodel --shift 73 --extsize 146 --keep-dup all --call-summits --nolambda\n",
      "\u001b[2m\u001b[36m(macs_call_peak_ray pid=1040101)\u001b[0m 2023-02-20 19:05:17,852 cisTopic     INFO     Dendriticcell done!\n",
      "\u001b[2m\u001b[36m(macs_call_peak_ray pid=1040097)\u001b[0m 2023-02-20 19:05:19,953 cisTopic     INFO     Naturalkillercell done!\n",
      "\u001b[2m\u001b[36m(macs_call_peak_ray pid=1040109)\u001b[0m 2023-02-20 19:05:26,246 cisTopic     INFO     CD16_monocyte done!\n",
      "\u001b[2m\u001b[36m(macs_call_peak_ray pid=1040108)\u001b[0m 2023-02-20 19:05:47,269 cisTopic     INFO     Bcell done!\n",
      "\u001b[2m\u001b[36m(macs_call_peak_ray pid=1040104)\u001b[0m 2023-02-20 19:06:16,671 cisTopic     INFO     CD4_Tcell done!\n",
      "\u001b[2m\u001b[36m(macs_call_peak_ray pid=1040110)\u001b[0m 2023-02-20 19:06:17,953 cisTopic     INFO     CD14_monocyte done!\n",
      "\u001b[2m\u001b[36m(macs_call_peak_ray pid=1040105)\u001b[0m 2023-02-20 19:07:07,115 cisTopic     INFO     CytotoxicTcell done!\n",
      "Starting final_consensus_peaks/ddseq_celltypefair_1.FIXEDCELLS__SCREEN_narrow_peaks_dict.pkl\n"
     ]
    },
    {
     "name": "stderr",
     "output_type": "stream",
     "text": [
      "2023-02-20 19:07:14,026\tINFO worker.py:1509 -- Started a local Ray instance. View the dashboard at \u001b[1m\u001b[32mhttp://127.0.0.1:8265 \u001b[39m\u001b[22m\n"
     ]
    },
    {
     "name": "stdout",
     "output_type": "stream",
     "text": [
      "\u001b[2m\u001b[36m(macs_call_peak_ray pid=1041127)\u001b[0m 2023-02-20 19:07:16,941 cisTopic     INFO     Calling peaks for Naturalkillercell with macs2 callpeak --treatment final_consensus_peaks/ddseq_celltypefair_1.FIXEDCELLS__SCREEN_pseudobulk_bed_files/Naturalkillercell.bed.gz --name Naturalkillercell  --outdir final_consensus_peaks/ddseq_celltypefair_1.FIXEDCELLS__SCREEN_consensus_peaks --format BEDPE --gsize hs --qvalue 0.05 --nomodel --shift 73 --extsize 146 --keep-dup all --call-summits --nolambda\n",
      "\u001b[2m\u001b[36m(macs_call_peak_ray pid=1041130)\u001b[0m 2023-02-20 19:07:16,998 cisTopic     INFO     Calling peaks for CD16_monocyte with macs2 callpeak --treatment final_consensus_peaks/ddseq_celltypefair_1.FIXEDCELLS__SCREEN_pseudobulk_bed_files/CD16_monocyte.bed.gz --name CD16_monocyte  --outdir final_consensus_peaks/ddseq_celltypefair_1.FIXEDCELLS__SCREEN_consensus_peaks --format BEDPE --gsize hs --qvalue 0.05 --nomodel --shift 73 --extsize 146 --keep-dup all --call-summits --nolambda\n",
      "\u001b[2m\u001b[36m(macs_call_peak_ray pid=1041134)\u001b[0m 2023-02-20 19:07:16,972 cisTopic     INFO     Calling peaks for Bcell with macs2 callpeak --treatment final_consensus_peaks/ddseq_celltypefair_1.FIXEDCELLS__SCREEN_pseudobulk_bed_files/Bcell.bed.gz --name Bcell  --outdir final_consensus_peaks/ddseq_celltypefair_1.FIXEDCELLS__SCREEN_consensus_peaks --format BEDPE --gsize hs --qvalue 0.05 --nomodel --shift 73 --extsize 146 --keep-dup all --call-summits --nolambda\n",
      "\u001b[2m\u001b[36m(macs_call_peak_ray pid=1041123)\u001b[0m 2023-02-20 19:07:16,995 cisTopic     INFO     Calling peaks for CD4_Tcell with macs2 callpeak --treatment final_consensus_peaks/ddseq_celltypefair_1.FIXEDCELLS__SCREEN_pseudobulk_bed_files/CD4_Tcell.bed.gz --name CD4_Tcell  --outdir final_consensus_peaks/ddseq_celltypefair_1.FIXEDCELLS__SCREEN_consensus_peaks --format BEDPE --gsize hs --qvalue 0.05 --nomodel --shift 73 --extsize 146 --keep-dup all --call-summits --nolambda\n",
      "\u001b[2m\u001b[36m(macs_call_peak_ray pid=1041126)\u001b[0m 2023-02-20 19:07:17,026 cisTopic     INFO     Calling peaks for Dendriticcell with macs2 callpeak --treatment final_consensus_peaks/ddseq_celltypefair_1.FIXEDCELLS__SCREEN_pseudobulk_bed_files/Dendriticcell.bed.gz --name Dendriticcell  --outdir final_consensus_peaks/ddseq_celltypefair_1.FIXEDCELLS__SCREEN_consensus_peaks --format BEDPE --gsize hs --qvalue 0.05 --nomodel --shift 73 --extsize 146 --keep-dup all --call-summits --nolambda\n",
      "\u001b[2m\u001b[36m(macs_call_peak_ray pid=1041124)\u001b[0m 2023-02-20 19:07:16,990 cisTopic     INFO     Calling peaks for CD14_monocyte with macs2 callpeak --treatment final_consensus_peaks/ddseq_celltypefair_1.FIXEDCELLS__SCREEN_pseudobulk_bed_files/CD14_monocyte.bed.gz --name CD14_monocyte  --outdir final_consensus_peaks/ddseq_celltypefair_1.FIXEDCELLS__SCREEN_consensus_peaks --format BEDPE --gsize hs --qvalue 0.05 --nomodel --shift 73 --extsize 146 --keep-dup all --call-summits --nolambda\n",
      "\u001b[2m\u001b[36m(macs_call_peak_ray pid=1041129)\u001b[0m 2023-02-20 19:07:17,000 cisTopic     INFO     Calling peaks for CytotoxicTcell with macs2 callpeak --treatment final_consensus_peaks/ddseq_celltypefair_1.FIXEDCELLS__SCREEN_pseudobulk_bed_files/CytotoxicTcell.bed.gz --name CytotoxicTcell  --outdir final_consensus_peaks/ddseq_celltypefair_1.FIXEDCELLS__SCREEN_consensus_peaks --format BEDPE --gsize hs --qvalue 0.05 --nomodel --shift 73 --extsize 146 --keep-dup all --call-summits --nolambda\n",
      "\u001b[2m\u001b[36m(macs_call_peak_ray pid=1041127)\u001b[0m 2023-02-20 19:07:31,054 cisTopic     INFO     Naturalkillercell done!\n",
      "\u001b[2m\u001b[36m(macs_call_peak_ray pid=1041126)\u001b[0m 2023-02-20 19:07:32,961 cisTopic     INFO     Dendriticcell done!\n",
      "\u001b[2m\u001b[36m(macs_call_peak_ray pid=1041130)\u001b[0m 2023-02-20 19:07:37,789 cisTopic     INFO     CD16_monocyte done!\n",
      "\u001b[2m\u001b[36m(macs_call_peak_ray pid=1041134)\u001b[0m 2023-02-20 19:07:58,662 cisTopic     INFO     Bcell done!\n",
      "\u001b[2m\u001b[36m(macs_call_peak_ray pid=1041123)\u001b[0m 2023-02-20 19:08:04,294 cisTopic     INFO     CD4_Tcell done!\n",
      "\u001b[2m\u001b[36m(macs_call_peak_ray pid=1041124)\u001b[0m 2023-02-20 19:08:09,694 cisTopic     INFO     CD14_monocyte done!\n",
      "\u001b[2m\u001b[36m(macs_call_peak_ray pid=1041129)\u001b[0m 2023-02-20 19:08:25,267 cisTopic     INFO     CytotoxicTcell done!\n",
      "Starting final_consensus_peaks/hydrop_celltypefair_1.FIXEDCELLS__SCREEN_narrow_peaks_dict.pkl\n"
     ]
    },
    {
     "name": "stderr",
     "output_type": "stream",
     "text": [
      "2023-02-20 19:08:33,024\tINFO worker.py:1509 -- Started a local Ray instance. View the dashboard at \u001b[1m\u001b[32mhttp://127.0.0.1:8265 \u001b[39m\u001b[22m\n"
     ]
    },
    {
     "name": "stdout",
     "output_type": "stream",
     "text": [
      "\u001b[2m\u001b[36m(macs_call_peak_ray pid=1042038)\u001b[0m 2023-02-20 19:08:36,053 cisTopic     INFO     Calling peaks for CD16_monocyte with macs2 callpeak --treatment final_consensus_peaks/hydrop_celltypefair_1.FIXEDCELLS__SCREEN_pseudobulk_bed_files/CD16_monocyte.bed.gz --name CD16_monocyte  --outdir final_consensus_peaks/hydrop_celltypefair_1.FIXEDCELLS__SCREEN_consensus_peaks --format BEDPE --gsize hs --qvalue 0.05 --nomodel --shift 73 --extsize 146 --keep-dup all --call-summits --nolambda\n",
      "\u001b[2m\u001b[36m(macs_call_peak_ray pid=1042044)\u001b[0m 2023-02-20 19:08:36,038 cisTopic     INFO     Calling peaks for CytotoxicTcell with macs2 callpeak --treatment final_consensus_peaks/hydrop_celltypefair_1.FIXEDCELLS__SCREEN_pseudobulk_bed_files/CytotoxicTcell.bed.gz --name CytotoxicTcell  --outdir final_consensus_peaks/hydrop_celltypefair_1.FIXEDCELLS__SCREEN_consensus_peaks --format BEDPE --gsize hs --qvalue 0.05 --nomodel --shift 73 --extsize 146 --keep-dup all --call-summits --nolambda\n",
      "\u001b[2m\u001b[36m(macs_call_peak_ray pid=1042041)\u001b[0m 2023-02-20 19:08:36,054 cisTopic     INFO     Calling peaks for Dendriticcell with macs2 callpeak --treatment final_consensus_peaks/hydrop_celltypefair_1.FIXEDCELLS__SCREEN_pseudobulk_bed_files/Dendriticcell.bed.gz --name Dendriticcell  --outdir final_consensus_peaks/hydrop_celltypefair_1.FIXEDCELLS__SCREEN_consensus_peaks --format BEDPE --gsize hs --qvalue 0.05 --nomodel --shift 73 --extsize 146 --keep-dup all --call-summits --nolambda\n",
      "\u001b[2m\u001b[36m(macs_call_peak_ray pid=1042034)\u001b[0m 2023-02-20 19:08:36,031 cisTopic     INFO     Calling peaks for CD14_monocyte with macs2 callpeak --treatment final_consensus_peaks/hydrop_celltypefair_1.FIXEDCELLS__SCREEN_pseudobulk_bed_files/CD14_monocyte.bed.gz --name CD14_monocyte  --outdir final_consensus_peaks/hydrop_celltypefair_1.FIXEDCELLS__SCREEN_consensus_peaks --format BEDPE --gsize hs --qvalue 0.05 --nomodel --shift 73 --extsize 146 --keep-dup all --call-summits --nolambda\n",
      "\u001b[2m\u001b[36m(macs_call_peak_ray pid=1042040)\u001b[0m 2023-02-20 19:08:36,091 cisTopic     INFO     Calling peaks for Naturalkillercell with macs2 callpeak --treatment final_consensus_peaks/hydrop_celltypefair_1.FIXEDCELLS__SCREEN_pseudobulk_bed_files/Naturalkillercell.bed.gz --name Naturalkillercell  --outdir final_consensus_peaks/hydrop_celltypefair_1.FIXEDCELLS__SCREEN_consensus_peaks --format BEDPE --gsize hs --qvalue 0.05 --nomodel --shift 73 --extsize 146 --keep-dup all --call-summits --nolambda\n",
      "\u001b[2m\u001b[36m(macs_call_peak_ray pid=1042046)\u001b[0m 2023-02-20 19:08:36,096 cisTopic     INFO     Calling peaks for CD4_Tcell with macs2 callpeak --treatment final_consensus_peaks/hydrop_celltypefair_1.FIXEDCELLS__SCREEN_pseudobulk_bed_files/CD4_Tcell.bed.gz --name CD4_Tcell  --outdir final_consensus_peaks/hydrop_celltypefair_1.FIXEDCELLS__SCREEN_consensus_peaks --format BEDPE --gsize hs --qvalue 0.05 --nomodel --shift 73 --extsize 146 --keep-dup all --call-summits --nolambda\n",
      "\u001b[2m\u001b[36m(macs_call_peak_ray pid=1042043)\u001b[0m 2023-02-20 19:08:36,105 cisTopic     INFO     Calling peaks for Bcell with macs2 callpeak --treatment final_consensus_peaks/hydrop_celltypefair_1.FIXEDCELLS__SCREEN_pseudobulk_bed_files/Bcell.bed.gz --name Bcell  --outdir final_consensus_peaks/hydrop_celltypefair_1.FIXEDCELLS__SCREEN_consensus_peaks --format BEDPE --gsize hs --qvalue 0.05 --nomodel --shift 73 --extsize 146 --keep-dup all --call-summits --nolambda\n",
      "\u001b[2m\u001b[36m(macs_call_peak_ray pid=1042041)\u001b[0m 2023-02-20 19:08:42,129 cisTopic     INFO     Dendriticcell done!\n",
      "\u001b[2m\u001b[36m(macs_call_peak_ray pid=1042040)\u001b[0m 2023-02-20 19:08:42,199 cisTopic     INFO     Naturalkillercell done!\n",
      "\u001b[2m\u001b[36m(macs_call_peak_ray pid=1042038)\u001b[0m 2023-02-20 19:08:42,922 cisTopic     INFO     CD16_monocyte done!\n",
      "\u001b[2m\u001b[36m(macs_call_peak_ray pid=1042043)\u001b[0m 2023-02-20 19:08:57,391 cisTopic     INFO     Bcell done!\n",
      "\u001b[2m\u001b[36m(macs_call_peak_ray pid=1042046)\u001b[0m 2023-02-20 19:09:00,905 cisTopic     INFO     CD4_Tcell done!\n",
      "\u001b[2m\u001b[36m(macs_call_peak_ray pid=1042034)\u001b[0m 2023-02-20 19:09:06,415 cisTopic     INFO     CD14_monocyte done!\n",
      "\u001b[2m\u001b[36m(macs_call_peak_ray pid=1042044)\u001b[0m 2023-02-20 19:09:10,791 cisTopic     INFO     CytotoxicTcell done!\n",
      "Starting final_consensus_peaks/mtscatac_celltypefair_1.FIXEDCELLS__SCREEN_narrow_peaks_dict.pkl\n"
     ]
    },
    {
     "name": "stderr",
     "output_type": "stream",
     "text": [
      "2023-02-20 19:09:18,439\tINFO worker.py:1509 -- Started a local Ray instance. View the dashboard at \u001b[1m\u001b[32mhttp://127.0.0.1:8265 \u001b[39m\u001b[22m\n"
     ]
    },
    {
     "name": "stdout",
     "output_type": "stream",
     "text": [
      "\u001b[2m\u001b[36m(macs_call_peak_ray pid=1042894)\u001b[0m 2023-02-20 19:09:21,333 cisTopic     INFO     Calling peaks for CD16_monocyte with macs2 callpeak --treatment final_consensus_peaks/mtscatac_celltypefair_1.FIXEDCELLS__SCREEN_pseudobulk_bed_files/CD16_monocyte.bed.gz --name CD16_monocyte  --outdir final_consensus_peaks/mtscatac_celltypefair_1.FIXEDCELLS__SCREEN_consensus_peaks --format BEDPE --gsize hs --qvalue 0.05 --nomodel --shift 73 --extsize 146 --keep-dup all --call-summits --nolambda\n",
      "\u001b[2m\u001b[36m(macs_call_peak_ray pid=1042891)\u001b[0m 2023-02-20 19:09:21,389 cisTopic     INFO     Calling peaks for CD14_monocyte with macs2 callpeak --treatment final_consensus_peaks/mtscatac_celltypefair_1.FIXEDCELLS__SCREEN_pseudobulk_bed_files/CD14_monocyte.bed.gz --name CD14_monocyte  --outdir final_consensus_peaks/mtscatac_celltypefair_1.FIXEDCELLS__SCREEN_consensus_peaks --format BEDPE --gsize hs --qvalue 0.05 --nomodel --shift 73 --extsize 146 --keep-dup all --call-summits --nolambda\n",
      "\u001b[2m\u001b[36m(macs_call_peak_ray pid=1042893)\u001b[0m 2023-02-20 19:09:21,377 cisTopic     INFO     Calling peaks for CytotoxicTcell with macs2 callpeak --treatment final_consensus_peaks/mtscatac_celltypefair_1.FIXEDCELLS__SCREEN_pseudobulk_bed_files/CytotoxicTcell.bed.gz --name CytotoxicTcell  --outdir final_consensus_peaks/mtscatac_celltypefair_1.FIXEDCELLS__SCREEN_consensus_peaks --format BEDPE --gsize hs --qvalue 0.05 --nomodel --shift 73 --extsize 146 --keep-dup all --call-summits --nolambda\n",
      "\u001b[2m\u001b[36m(macs_call_peak_ray pid=1042886)\u001b[0m 2023-02-20 19:09:21,330 cisTopic     INFO     Calling peaks for Dendriticcell with macs2 callpeak --treatment final_consensus_peaks/mtscatac_celltypefair_1.FIXEDCELLS__SCREEN_pseudobulk_bed_files/Dendriticcell.bed.gz --name Dendriticcell  --outdir final_consensus_peaks/mtscatac_celltypefair_1.FIXEDCELLS__SCREEN_consensus_peaks --format BEDPE --gsize hs --qvalue 0.05 --nomodel --shift 73 --extsize 146 --keep-dup all --call-summits --nolambda\n",
      "\u001b[2m\u001b[36m(macs_call_peak_ray pid=1042897)\u001b[0m 2023-02-20 19:09:21,342 cisTopic     INFO     Calling peaks for CD4_Tcell with macs2 callpeak --treatment final_consensus_peaks/mtscatac_celltypefair_1.FIXEDCELLS__SCREEN_pseudobulk_bed_files/CD4_Tcell.bed.gz --name CD4_Tcell  --outdir final_consensus_peaks/mtscatac_celltypefair_1.FIXEDCELLS__SCREEN_consensus_peaks --format BEDPE --gsize hs --qvalue 0.05 --nomodel --shift 73 --extsize 146 --keep-dup all --call-summits --nolambda\n",
      "\u001b[2m\u001b[36m(macs_call_peak_ray pid=1042888)\u001b[0m 2023-02-20 19:09:21,334 cisTopic     INFO     Calling peaks for Bcell with macs2 callpeak --treatment final_consensus_peaks/mtscatac_celltypefair_1.FIXEDCELLS__SCREEN_pseudobulk_bed_files/Bcell.bed.gz --name Bcell  --outdir final_consensus_peaks/mtscatac_celltypefair_1.FIXEDCELLS__SCREEN_consensus_peaks --format BEDPE --gsize hs --qvalue 0.05 --nomodel --shift 73 --extsize 146 --keep-dup all --call-summits --nolambda\n",
      "\u001b[2m\u001b[36m(macs_call_peak_ray pid=1042896)\u001b[0m 2023-02-20 19:09:21,406 cisTopic     INFO     Calling peaks for Naturalkillercell with macs2 callpeak --treatment final_consensus_peaks/mtscatac_celltypefair_1.FIXEDCELLS__SCREEN_pseudobulk_bed_files/Naturalkillercell.bed.gz --name Naturalkillercell  --outdir final_consensus_peaks/mtscatac_celltypefair_1.FIXEDCELLS__SCREEN_consensus_peaks --format BEDPE --gsize hs --qvalue 0.05 --nomodel --shift 73 --extsize 146 --keep-dup all --call-summits --nolambda\n",
      "\u001b[2m\u001b[36m(macs_call_peak_ray pid=1042896)\u001b[0m 2023-02-20 19:09:41,434 cisTopic     INFO     Naturalkillercell done!\n",
      "\u001b[2m\u001b[36m(macs_call_peak_ray pid=1042894)\u001b[0m 2023-02-20 19:09:41,700 cisTopic     INFO     CD16_monocyte done!\n",
      "\u001b[2m\u001b[36m(macs_call_peak_ray pid=1042886)\u001b[0m 2023-02-20 19:09:50,047 cisTopic     INFO     Dendriticcell done!\n",
      "\u001b[2m\u001b[36m(macs_call_peak_ray pid=1042888)\u001b[0m 2023-02-20 19:10:19,377 cisTopic     INFO     Bcell done!\n",
      "\u001b[2m\u001b[36m(macs_call_peak_ray pid=1042897)\u001b[0m 2023-02-20 19:10:22,744 cisTopic     INFO     CD4_Tcell done!\n",
      "\u001b[2m\u001b[36m(macs_call_peak_ray pid=1042891)\u001b[0m 2023-02-20 19:10:51,815 cisTopic     INFO     CD14_monocyte done!\n",
      "\u001b[2m\u001b[36m(macs_call_peak_ray pid=1042893)\u001b[0m 2023-02-20 19:11:07,331 cisTopic     INFO     CytotoxicTcell done!\n",
      "Starting final_consensus_peaks/s3atac_celltypefair_1.FIXEDCELLS__SCREEN_narrow_peaks_dict.pkl\n"
     ]
    },
    {
     "name": "stderr",
     "output_type": "stream",
     "text": [
      "2023-02-20 19:11:14,971\tINFO worker.py:1509 -- Started a local Ray instance. View the dashboard at \u001b[1m\u001b[32mhttp://127.0.0.1:8265 \u001b[39m\u001b[22m\n"
     ]
    },
    {
     "name": "stdout",
     "output_type": "stream",
     "text": [
      "\u001b[2m\u001b[36m(macs_call_peak_ray pid=1043813)\u001b[0m 2023-02-20 19:11:17,922 cisTopic     INFO     Calling peaks for Bcell with macs2 callpeak --treatment final_consensus_peaks/s3atac_celltypefair_1.FIXEDCELLS__SCREEN_pseudobulk_bed_files/Bcell.bed.gz --name Bcell  --outdir final_consensus_peaks/s3atac_celltypefair_1.FIXEDCELLS__SCREEN_consensus_peaks --format BEDPE --gsize hs --qvalue 0.05 --nomodel --shift 73 --extsize 146 --keep-dup all --call-summits --nolambda\n",
      "\u001b[2m\u001b[36m(macs_call_peak_ray pid=1043806)\u001b[0m 2023-02-20 19:11:17,924 cisTopic     INFO     Calling peaks for CD14_monocyte with macs2 callpeak --treatment final_consensus_peaks/s3atac_celltypefair_1.FIXEDCELLS__SCREEN_pseudobulk_bed_files/CD14_monocyte.bed.gz --name CD14_monocyte  --outdir final_consensus_peaks/s3atac_celltypefair_1.FIXEDCELLS__SCREEN_consensus_peaks --format BEDPE --gsize hs --qvalue 0.05 --nomodel --shift 73 --extsize 146 --keep-dup all --call-summits --nolambda\n",
      "\u001b[2m\u001b[36m(macs_call_peak_ray pid=1043803)\u001b[0m 2023-02-20 19:11:17,911 cisTopic     INFO     Calling peaks for Naturalkillercell with macs2 callpeak --treatment final_consensus_peaks/s3atac_celltypefair_1.FIXEDCELLS__SCREEN_pseudobulk_bed_files/Naturalkillercell.bed.gz --name Naturalkillercell  --outdir final_consensus_peaks/s3atac_celltypefair_1.FIXEDCELLS__SCREEN_consensus_peaks --format BEDPE --gsize hs --qvalue 0.05 --nomodel --shift 73 --extsize 146 --keep-dup all --call-summits --nolambda\n",
      "\u001b[2m\u001b[36m(macs_call_peak_ray pid=1043804)\u001b[0m 2023-02-20 19:11:17,987 cisTopic     INFO     Calling peaks for CD16_monocyte with macs2 callpeak --treatment final_consensus_peaks/s3atac_celltypefair_1.FIXEDCELLS__SCREEN_pseudobulk_bed_files/CD16_monocyte.bed.gz --name CD16_monocyte  --outdir final_consensus_peaks/s3atac_celltypefair_1.FIXEDCELLS__SCREEN_consensus_peaks --format BEDPE --gsize hs --qvalue 0.05 --nomodel --shift 73 --extsize 146 --keep-dup all --call-summits --nolambda\n",
      "\u001b[2m\u001b[36m(macs_call_peak_ray pid=1043801)\u001b[0m 2023-02-20 19:11:17,959 cisTopic     INFO     Calling peaks for CytotoxicTcell with macs2 callpeak --treatment final_consensus_peaks/s3atac_celltypefair_1.FIXEDCELLS__SCREEN_pseudobulk_bed_files/CytotoxicTcell.bed.gz --name CytotoxicTcell  --outdir final_consensus_peaks/s3atac_celltypefair_1.FIXEDCELLS__SCREEN_consensus_peaks --format BEDPE --gsize hs --qvalue 0.05 --nomodel --shift 73 --extsize 146 --keep-dup all --call-summits --nolambda\n",
      "\u001b[2m\u001b[36m(macs_call_peak_ray pid=1043808)\u001b[0m 2023-02-20 19:11:17,956 cisTopic     INFO     Calling peaks for CD4_Tcell with macs2 callpeak --treatment final_consensus_peaks/s3atac_celltypefair_1.FIXEDCELLS__SCREEN_pseudobulk_bed_files/CD4_Tcell.bed.gz --name CD4_Tcell  --outdir final_consensus_peaks/s3atac_celltypefair_1.FIXEDCELLS__SCREEN_consensus_peaks --format BEDPE --gsize hs --qvalue 0.05 --nomodel --shift 73 --extsize 146 --keep-dup all --call-summits --nolambda\n",
      "\u001b[2m\u001b[36m(macs_call_peak_ray pid=1043815)\u001b[0m 2023-02-20 19:11:17,986 cisTopic     INFO     Calling peaks for Dendriticcell with macs2 callpeak --treatment final_consensus_peaks/s3atac_celltypefair_1.FIXEDCELLS__SCREEN_pseudobulk_bed_files/Dendriticcell.bed.gz --name Dendriticcell  --outdir final_consensus_peaks/s3atac_celltypefair_1.FIXEDCELLS__SCREEN_consensus_peaks --format BEDPE --gsize hs --qvalue 0.05 --nomodel --shift 73 --extsize 146 --keep-dup all --call-summits --nolambda\n",
      "\u001b[2m\u001b[36m(macs_call_peak_ray pid=1043815)\u001b[0m 2023-02-20 19:11:23,285 cisTopic     INFO     Dendriticcell done!\n",
      "\u001b[2m\u001b[36m(macs_call_peak_ray pid=1043803)\u001b[0m 2023-02-20 19:11:26,189 cisTopic     INFO     Naturalkillercell done!\n",
      "\u001b[2m\u001b[36m(macs_call_peak_ray pid=1043804)\u001b[0m 2023-02-20 19:11:27,541 cisTopic     INFO     CD16_monocyte done!\n",
      "\u001b[2m\u001b[36m(macs_call_peak_ray pid=1043813)\u001b[0m 2023-02-20 19:11:48,109 cisTopic     INFO     Bcell done!\n",
      "\u001b[2m\u001b[36m(macs_call_peak_ray pid=1043808)\u001b[0m 2023-02-20 19:11:52,403 cisTopic     INFO     CD4_Tcell done!\n",
      "\u001b[2m\u001b[36m(macs_call_peak_ray pid=1043806)\u001b[0m 2023-02-20 19:12:26,238 cisTopic     INFO     CD14_monocyte done!\n",
      "\u001b[2m\u001b[36m(macs_call_peak_ray pid=1043801)\u001b[0m 2023-02-20 19:12:34,581 cisTopic     INFO     CytotoxicTcell done!\n"
     ]
    }
   ],
   "source": [
    "narrow_peaks_dict = {}\n",
    "ray.shutdown()\n",
    "for sample in bed_path_dict.keys():\n",
    "    narrow_peaks_dict_path = bed_path_dict[sample].replace(\n",
    "        \"_pseudobulk_bed_files\", \"_narrow_peaks_dict.pkl\"\n",
    "    )\n",
    "    peak_path = os.path.join(\n",
    "        \"final_consensus_peaks\", f\"{sample}__SCREEN_consensus_peaks\"\n",
    "    )\n",
    "    if not os.path.exists(peak_path):\n",
    "        os.mkdir(peak_path)\n",
    "\n",
    "    if not os.path.exists(narrow_peaks_dict_path):\n",
    "        cell_data = pd.read_csv(cell_data_path_dict[sample])\n",
    "        cto_celltypes = set(\n",
    "            [\n",
    "                x.replace(\" \", \"\").replace(\"+\", \"\").replace(\"_\", \"\")\n",
    "                for x in set(cell_data[\"harmony_consensus_cell_type__mega\"].unique())\n",
    "            ]\n",
    "        )\n",
    "\n",
    "        bed_celltypes = set(\n",
    "            [\n",
    "                x.split(\".\")[0].replace(\"+\", \"\").replace(\"_\", \"\")\n",
    "                for x in os.listdir(bed_path_dict[sample])\n",
    "            ]\n",
    "        )\n",
    "\n",
    "        if cto_celltypes == bed_celltypes:\n",
    "            print(f\"Starting {narrow_peaks_dict_path}\")\n",
    "            bed_paths = {\n",
    "                x.split(\"/\")[-1].split(\"__\")[0].split(\".bed.gz\")[0]: x\n",
    "                for x in glob.glob(bed_path_dict[sample] + \"/*\")\n",
    "            }\n",
    "            narrow_peaks_dict = peak_calling(\n",
    "                macs_path=\"macs2\",\n",
    "                bed_paths=bed_paths,\n",
    "                outdir=peak_path,\n",
    "                genome_size=\"hs\",\n",
    "                n_cpu=16,\n",
    "                input_format=\"BEDPE\",\n",
    "                shift=73,\n",
    "                ext_size=146,\n",
    "                keep_dup=\"all\",\n",
    "                q_value=0.05,\n",
    "            )\n",
    "            with open(narrow_peaks_dict_path, \"wb\") as f:\n",
    "                pickle.dump(narrow_peaks_dict, f)\n",
    "        else:\n",
    "            print(f\"{sample} cell types not matching!! Rerun bed file writing.\")\n",
    "            print(f\"\\t{bed_celltypes}\")\n",
    "            print(f\"\\t{cto_celltypes}\")\n",
    "    else:\n",
    "        print(f\"{narrow_peaks_dict_path} already exists\")"
   ]
  },
  {
   "cell_type": "markdown",
   "id": "23c78082",
   "metadata": {
    "papermill": {
     "duration": null,
     "end_time": null,
     "exception": null,
     "start_time": null,
     "status": "pending"
    },
    "tags": []
   },
   "source": [
    "# call consensus peaks"
   ]
  },
  {
   "cell_type": "code",
   "execution_count": 23,
   "id": "05250c7a",
   "metadata": {
    "execution": {
     "iopub.execute_input": "2023-02-20T18:12:37.408829Z",
     "iopub.status.busy": "2023-02-20T18:12:37.408594Z",
     "iopub.status.idle": "2023-02-20T18:12:37.445932Z",
     "shell.execute_reply": "2023-02-20T18:12:37.444453Z",
     "shell.execute_reply.started": "2023-02-20T18:12:37.408806Z"
    },
    "papermill": {
     "duration": null,
     "end_time": null,
     "exception": null,
     "start_time": null,
     "status": "pending"
    },
    "tags": []
   },
   "outputs": [],
   "source": [
    "from pycisTopic.iterative_peak_calling import get_consensus_peaks"
   ]
  },
  {
   "cell_type": "code",
   "execution_count": 24,
   "id": "4d953251",
   "metadata": {
    "execution": {
     "iopub.execute_input": "2023-02-20T18:12:37.448559Z",
     "iopub.status.busy": "2023-02-20T18:12:37.447843Z",
     "iopub.status.idle": "2023-02-20T18:12:37.465428Z",
     "shell.execute_reply": "2023-02-20T18:12:37.464198Z",
     "shell.execute_reply.started": "2023-02-20T18:12:37.448507Z"
    },
    "papermill": {
     "duration": null,
     "end_time": null,
     "exception": null,
     "start_time": null,
     "status": "pending"
    },
    "tags": []
   },
   "outputs": [
    {
     "data": {
      "text/plain": [
       "{'10xmultiome_celltypefair_1.FIXEDCELLS': 'final_consensus_peaks/10xmultiome_celltypefair_1.FIXEDCELLS__SCREEN_narrow_peaks_dict.pkl',\n",
       " '10xv11_celltypefair_1.FIXEDCELLS': 'final_consensus_peaks/10xv11_celltypefair_1.FIXEDCELLS__SCREEN_narrow_peaks_dict.pkl',\n",
       " '10xv1_celltypefair_1.FIXEDCELLS': 'final_consensus_peaks/10xv1_celltypefair_1.FIXEDCELLS__SCREEN_narrow_peaks_dict.pkl',\n",
       " '10xv2_celltypefair_1.FIXEDCELLS': 'final_consensus_peaks/10xv2_celltypefair_1.FIXEDCELLS__SCREEN_narrow_peaks_dict.pkl',\n",
       " 'ddseq_celltypefair_1.FIXEDCELLS': 'final_consensus_peaks/ddseq_celltypefair_1.FIXEDCELLS__SCREEN_narrow_peaks_dict.pkl',\n",
       " 'hydrop_celltypefair_1.FIXEDCELLS': 'final_consensus_peaks/hydrop_celltypefair_1.FIXEDCELLS__SCREEN_narrow_peaks_dict.pkl',\n",
       " 'mtscatac_celltypefair_1.FIXEDCELLS': 'final_consensus_peaks/mtscatac_celltypefair_1.FIXEDCELLS__SCREEN_narrow_peaks_dict.pkl',\n",
       " 's3atac_celltypefair_1.FIXEDCELLS': 'final_consensus_peaks/s3atac_celltypefair_1.FIXEDCELLS__SCREEN_narrow_peaks_dict.pkl'}"
      ]
     },
     "execution_count": 24,
     "metadata": {},
     "output_type": "execute_result"
    }
   ],
   "source": [
    "narrow_peaks_path_dict = {\n",
    "    x.split(\"/\")[-1].split(f\"__\")[0]: x\n",
    "    for x in sorted(glob.glob(\"final_consensus_peaks/*_narrow_peaks_dict.pkl\"))\n",
    "}\n",
    "narrow_peaks_path_dict"
   ]
  },
  {
   "cell_type": "code",
   "execution_count": 25,
   "id": "cdf86ecd",
   "metadata": {
    "execution": {
     "iopub.execute_input": "2023-02-20T18:12:37.467215Z",
     "iopub.status.busy": "2023-02-20T18:12:37.466842Z",
     "iopub.status.idle": "2023-02-20T18:12:37.473396Z",
     "shell.execute_reply": "2023-02-20T18:12:37.472144Z",
     "shell.execute_reply.started": "2023-02-20T18:12:37.467180Z"
    },
    "papermill": {
     "duration": null,
     "end_time": null,
     "exception": null,
     "start_time": null,
     "status": "pending"
    },
    "tags": []
   },
   "outputs": [],
   "source": [
    "path_to_blacklist = \"../0_resources/regions/hg38-blacklist.v2.bed\""
   ]
  },
  {
   "cell_type": "code",
   "execution_count": 26,
   "id": "ff977fc2",
   "metadata": {
    "execution": {
     "iopub.execute_input": "2023-02-20T18:12:37.475899Z",
     "iopub.status.busy": "2023-02-20T18:12:37.474925Z",
     "iopub.status.idle": "2023-02-20T18:24:44.712900Z",
     "shell.execute_reply": "2023-02-20T18:24:44.711763Z",
     "shell.execute_reply.started": "2023-02-20T18:12:37.475858Z"
    },
    "papermill": {
     "duration": null,
     "end_time": null,
     "exception": null,
     "start_time": null,
     "status": "pending"
    },
    "tags": []
   },
   "outputs": [
    {
     "name": "stdout",
     "output_type": "stream",
     "text": [
      "10xmultiome_celltypefair_1.FIXEDCELLS\n"
     ]
    },
    {
     "name": "stderr",
     "output_type": "stream",
     "text": [
      "/opt/venv/lib/python3.8/site-packages/pyranges/methods/intersection.py:52: FutureWarning: In a future version, `df.iloc[:, i] = newvals` will attempt to set the values inplace instead of always setting a new array. To retain the old behavior, use either `df[df.columns[i]] = newvals` or, if columns are non-unique, `df.isetitem(i, newvals)`\n",
      "  scdf.loc[:, \"Start\"] = new_starts\n",
      "/opt/venv/lib/python3.8/site-packages/pyranges/methods/intersection.py:53: FutureWarning: In a future version, `df.iloc[:, i] = newvals` will attempt to set the values inplace instead of always setting a new array. To retain the old behavior, use either `df[df.columns[i]] = newvals` or, if columns are non-unique, `df.isetitem(i, newvals)`\n",
      "  scdf.loc[:, \"End\"] = new_ends\n",
      "/opt/venv/lib/python3.8/site-packages/pyranges/methods/intersection.py:52: FutureWarning: In a future version, `df.iloc[:, i] = newvals` will attempt to set the values inplace instead of always setting a new array. To retain the old behavior, use either `df[df.columns[i]] = newvals` or, if columns are non-unique, `df.isetitem(i, newvals)`\n",
      "  scdf.loc[:, \"Start\"] = new_starts\n",
      "/opt/venv/lib/python3.8/site-packages/pyranges/methods/intersection.py:53: FutureWarning: In a future version, `df.iloc[:, i] = newvals` will attempt to set the values inplace instead of always setting a new array. To retain the old behavior, use either `df[df.columns[i]] = newvals` or, if columns are non-unique, `df.isetitem(i, newvals)`\n",
      "  scdf.loc[:, \"End\"] = new_ends\n",
      "/opt/venv/lib/python3.8/site-packages/pyranges/methods/intersection.py:52: FutureWarning: In a future version, `df.iloc[:, i] = newvals` will attempt to set the values inplace instead of always setting a new array. To retain the old behavior, use either `df[df.columns[i]] = newvals` or, if columns are non-unique, `df.isetitem(i, newvals)`\n",
      "  scdf.loc[:, \"Start\"] = new_starts\n",
      "/opt/venv/lib/python3.8/site-packages/pyranges/methods/intersection.py:53: FutureWarning: In a future version, `df.iloc[:, i] = newvals` will attempt to set the values inplace instead of always setting a new array. To retain the old behavior, use either `df[df.columns[i]] = newvals` or, if columns are non-unique, `df.isetitem(i, newvals)`\n",
      "  scdf.loc[:, \"End\"] = new_ends\n"
     ]
    },
    {
     "name": "stdout",
     "output_type": "stream",
     "text": [
      "Warning! Start and End columns now have different dtypes: int64 and int32\n"
     ]
    },
    {
     "name": "stderr",
     "output_type": "stream",
     "text": [
      "/opt/venv/lib/python3.8/site-packages/pyranges/out.py:37: FutureWarning: Passing a set as an indexer is deprecated and will raise in a future version. Use a list instead.\n",
      "  return pd.concat([outdf, df.get(noncanonical)], axis=1)\n",
      "/opt/venv/lib/python3.8/site-packages/pyranges/out.py:37: FutureWarning: Passing a set as an indexer is deprecated and will raise in a future version. Use a list instead.\n",
      "  return pd.concat([outdf, df.get(noncanonical)], axis=1)\n",
      "/opt/venv/lib/python3.8/site-packages/pyranges/out.py:37: FutureWarning: Passing a set as an indexer is deprecated and will raise in a future version. Use a list instead.\n",
      "  return pd.concat([outdf, df.get(noncanonical)], axis=1)\n",
      "/opt/venv/lib/python3.8/site-packages/pyranges/out.py:37: FutureWarning: Passing a set as an indexer is deprecated and will raise in a future version. Use a list instead.\n",
      "  return pd.concat([outdf, df.get(noncanonical)], axis=1)\n",
      "/opt/venv/lib/python3.8/site-packages/pyranges/out.py:37: FutureWarning: Passing a set as an indexer is deprecated and will raise in a future version. Use a list instead.\n",
      "  return pd.concat([outdf, df.get(noncanonical)], axis=1)\n",
      "/opt/venv/lib/python3.8/site-packages/pyranges/out.py:37: FutureWarning: Passing a set as an indexer is deprecated and will raise in a future version. Use a list instead.\n",
      "  return pd.concat([outdf, df.get(noncanonical)], axis=1)\n",
      "/opt/venv/lib/python3.8/site-packages/pyranges/out.py:37: FutureWarning: Passing a set as an indexer is deprecated and will raise in a future version. Use a list instead.\n",
      "  return pd.concat([outdf, df.get(noncanonical)], axis=1)\n",
      "/opt/venv/lib/python3.8/site-packages/pyranges/out.py:37: FutureWarning: Passing a set as an indexer is deprecated and will raise in a future version. Use a list instead.\n",
      "  return pd.concat([outdf, df.get(noncanonical)], axis=1)\n",
      "/opt/venv/lib/python3.8/site-packages/pyranges/out.py:37: FutureWarning: Passing a set as an indexer is deprecated and will raise in a future version. Use a list instead.\n",
      "  return pd.concat([outdf, df.get(noncanonical)], axis=1)\n",
      "/opt/venv/lib/python3.8/site-packages/pyranges/out.py:37: FutureWarning: Passing a set as an indexer is deprecated and will raise in a future version. Use a list instead.\n",
      "  return pd.concat([outdf, df.get(noncanonical)], axis=1)\n",
      "/opt/venv/lib/python3.8/site-packages/pyranges/out.py:37: FutureWarning: Passing a set as an indexer is deprecated and will raise in a future version. Use a list instead.\n",
      "  return pd.concat([outdf, df.get(noncanonical)], axis=1)\n",
      "/opt/venv/lib/python3.8/site-packages/pyranges/out.py:37: FutureWarning: Passing a set as an indexer is deprecated and will raise in a future version. Use a list instead.\n",
      "  return pd.concat([outdf, df.get(noncanonical)], axis=1)\n",
      "/opt/venv/lib/python3.8/site-packages/pyranges/out.py:37: FutureWarning: Passing a set as an indexer is deprecated and will raise in a future version. Use a list instead.\n",
      "  return pd.concat([outdf, df.get(noncanonical)], axis=1)\n",
      "/opt/venv/lib/python3.8/site-packages/pyranges/out.py:37: FutureWarning: Passing a set as an indexer is deprecated and will raise in a future version. Use a list instead.\n",
      "  return pd.concat([outdf, df.get(noncanonical)], axis=1)\n",
      "/opt/venv/lib/python3.8/site-packages/pyranges/out.py:37: FutureWarning: Passing a set as an indexer is deprecated and will raise in a future version. Use a list instead.\n",
      "  return pd.concat([outdf, df.get(noncanonical)], axis=1)\n",
      "/opt/venv/lib/python3.8/site-packages/pyranges/out.py:37: FutureWarning: Passing a set as an indexer is deprecated and will raise in a future version. Use a list instead.\n",
      "  return pd.concat([outdf, df.get(noncanonical)], axis=1)\n",
      "/opt/venv/lib/python3.8/site-packages/pyranges/out.py:37: FutureWarning: Passing a set as an indexer is deprecated and will raise in a future version. Use a list instead.\n",
      "  return pd.concat([outdf, df.get(noncanonical)], axis=1)\n",
      "/opt/venv/lib/python3.8/site-packages/pyranges/out.py:37: FutureWarning: Passing a set as an indexer is deprecated and will raise in a future version. Use a list instead.\n",
      "  return pd.concat([outdf, df.get(noncanonical)], axis=1)\n",
      "/opt/venv/lib/python3.8/site-packages/pyranges/out.py:37: FutureWarning: Passing a set as an indexer is deprecated and will raise in a future version. Use a list instead.\n",
      "  return pd.concat([outdf, df.get(noncanonical)], axis=1)\n",
      "/opt/venv/lib/python3.8/site-packages/pyranges/out.py:37: FutureWarning: Passing a set as an indexer is deprecated and will raise in a future version. Use a list instead.\n",
      "  return pd.concat([outdf, df.get(noncanonical)], axis=1)\n",
      "/opt/venv/lib/python3.8/site-packages/pyranges/out.py:37: FutureWarning: Passing a set as an indexer is deprecated and will raise in a future version. Use a list instead.\n",
      "  return pd.concat([outdf, df.get(noncanonical)], axis=1)\n",
      "/opt/venv/lib/python3.8/site-packages/pyranges/out.py:37: FutureWarning: Passing a set as an indexer is deprecated and will raise in a future version. Use a list instead.\n",
      "  return pd.concat([outdf, df.get(noncanonical)], axis=1)\n",
      "/opt/venv/lib/python3.8/site-packages/pyranges/out.py:37: FutureWarning: Passing a set as an indexer is deprecated and will raise in a future version. Use a list instead.\n",
      "  return pd.concat([outdf, df.get(noncanonical)], axis=1)\n",
      "/opt/venv/lib/python3.8/site-packages/pyranges/out.py:37: FutureWarning: Passing a set as an indexer is deprecated and will raise in a future version. Use a list instead.\n",
      "  return pd.concat([outdf, df.get(noncanonical)], axis=1)\n",
      "/opt/venv/lib/python3.8/site-packages/pyranges/out.py:37: FutureWarning: Passing a set as an indexer is deprecated and will raise in a future version. Use a list instead.\n",
      "  return pd.concat([outdf, df.get(noncanonical)], axis=1)\n",
      "/opt/venv/lib/python3.8/site-packages/pyranges/out.py:37: FutureWarning: Passing a set as an indexer is deprecated and will raise in a future version. Use a list instead.\n",
      "  return pd.concat([outdf, df.get(noncanonical)], axis=1)\n",
      "/opt/venv/lib/python3.8/site-packages/pyranges/out.py:37: FutureWarning: Passing a set as an indexer is deprecated and will raise in a future version. Use a list instead.\n",
      "  return pd.concat([outdf, df.get(noncanonical)], axis=1)\n",
      "/opt/venv/lib/python3.8/site-packages/pyranges/out.py:37: FutureWarning: Passing a set as an indexer is deprecated and will raise in a future version. Use a list instead.\n",
      "  return pd.concat([outdf, df.get(noncanonical)], axis=1)\n",
      "/opt/venv/lib/python3.8/site-packages/pyranges/out.py:37: FutureWarning: Passing a set as an indexer is deprecated and will raise in a future version. Use a list instead.\n",
      "  return pd.concat([outdf, df.get(noncanonical)], axis=1)\n",
      "/opt/venv/lib/python3.8/site-packages/pyranges/out.py:37: FutureWarning: Passing a set as an indexer is deprecated and will raise in a future version. Use a list instead.\n",
      "  return pd.concat([outdf, df.get(noncanonical)], axis=1)\n",
      "/opt/venv/lib/python3.8/site-packages/pyranges/out.py:37: FutureWarning: Passing a set as an indexer is deprecated and will raise in a future version. Use a list instead.\n",
      "  return pd.concat([outdf, df.get(noncanonical)], axis=1)\n",
      "/opt/venv/lib/python3.8/site-packages/pyranges/out.py:37: FutureWarning: Passing a set as an indexer is deprecated and will raise in a future version. Use a list instead.\n",
      "  return pd.concat([outdf, df.get(noncanonical)], axis=1)\n",
      "/opt/venv/lib/python3.8/site-packages/pyranges/out.py:37: FutureWarning: Passing a set as an indexer is deprecated and will raise in a future version. Use a list instead.\n",
      "  return pd.concat([outdf, df.get(noncanonical)], axis=1)\n",
      "/opt/venv/lib/python3.8/site-packages/pyranges/out.py:37: FutureWarning: Passing a set as an indexer is deprecated and will raise in a future version. Use a list instead.\n",
      "  return pd.concat([outdf, df.get(noncanonical)], axis=1)\n",
      "/opt/venv/lib/python3.8/site-packages/pyranges/out.py:37: FutureWarning: Passing a set as an indexer is deprecated and will raise in a future version. Use a list instead.\n",
      "  return pd.concat([outdf, df.get(noncanonical)], axis=1)\n",
      "/opt/venv/lib/python3.8/site-packages/pyranges/out.py:37: FutureWarning: Passing a set as an indexer is deprecated and will raise in a future version. Use a list instead.\n",
      "  return pd.concat([outdf, df.get(noncanonical)], axis=1)\n",
      "/opt/venv/lib/python3.8/site-packages/pyranges/out.py:37: FutureWarning: Passing a set as an indexer is deprecated and will raise in a future version. Use a list instead.\n",
      "  return pd.concat([outdf, df.get(noncanonical)], axis=1)\n",
      "/opt/venv/lib/python3.8/site-packages/pyranges/out.py:37: FutureWarning: Passing a set as an indexer is deprecated and will raise in a future version. Use a list instead.\n",
      "  return pd.concat([outdf, df.get(noncanonical)], axis=1)\n",
      "/opt/venv/lib/python3.8/site-packages/pyranges/out.py:37: FutureWarning: Passing a set as an indexer is deprecated and will raise in a future version. Use a list instead.\n",
      "  return pd.concat([outdf, df.get(noncanonical)], axis=1)\n",
      "/opt/venv/lib/python3.8/site-packages/pyranges/out.py:37: FutureWarning: Passing a set as an indexer is deprecated and will raise in a future version. Use a list instead.\n",
      "  return pd.concat([outdf, df.get(noncanonical)], axis=1)\n",
      "/opt/venv/lib/python3.8/site-packages/pyranges/out.py:37: FutureWarning: Passing a set as an indexer is deprecated and will raise in a future version. Use a list instead.\n",
      "  return pd.concat([outdf, df.get(noncanonical)], axis=1)\n",
      "/opt/venv/lib/python3.8/site-packages/pyranges/out.py:37: FutureWarning: Passing a set as an indexer is deprecated and will raise in a future version. Use a list instead.\n",
      "  return pd.concat([outdf, df.get(noncanonical)], axis=1)\n",
      "/opt/venv/lib/python3.8/site-packages/pyranges/out.py:37: FutureWarning: Passing a set as an indexer is deprecated and will raise in a future version. Use a list instead.\n",
      "  return pd.concat([outdf, df.get(noncanonical)], axis=1)\n",
      "/opt/venv/lib/python3.8/site-packages/pyranges/out.py:37: FutureWarning: Passing a set as an indexer is deprecated and will raise in a future version. Use a list instead.\n",
      "  return pd.concat([outdf, df.get(noncanonical)], axis=1)\n",
      "/opt/venv/lib/python3.8/site-packages/pyranges/out.py:37: FutureWarning: Passing a set as an indexer is deprecated and will raise in a future version. Use a list instead.\n",
      "  return pd.concat([outdf, df.get(noncanonical)], axis=1)\n",
      "/opt/venv/lib/python3.8/site-packages/pyranges/out.py:37: FutureWarning: Passing a set as an indexer is deprecated and will raise in a future version. Use a list instead.\n",
      "  return pd.concat([outdf, df.get(noncanonical)], axis=1)\n",
      "/opt/venv/lib/python3.8/site-packages/pyranges/out.py:37: FutureWarning: Passing a set as an indexer is deprecated and will raise in a future version. Use a list instead.\n",
      "  return pd.concat([outdf, df.get(noncanonical)], axis=1)\n",
      "/opt/venv/lib/python3.8/site-packages/pyranges/out.py:37: FutureWarning: Passing a set as an indexer is deprecated and will raise in a future version. Use a list instead.\n",
      "  return pd.concat([outdf, df.get(noncanonical)], axis=1)\n",
      "/opt/venv/lib/python3.8/site-packages/pyranges/out.py:37: FutureWarning: Passing a set as an indexer is deprecated and will raise in a future version. Use a list instead.\n",
      "  return pd.concat([outdf, df.get(noncanonical)], axis=1)\n",
      "/opt/venv/lib/python3.8/site-packages/pyranges/out.py:37: FutureWarning: Passing a set as an indexer is deprecated and will raise in a future version. Use a list instead.\n",
      "  return pd.concat([outdf, df.get(noncanonical)], axis=1)\n",
      "/opt/venv/lib/python3.8/site-packages/pyranges/out.py:37: FutureWarning: Passing a set as an indexer is deprecated and will raise in a future version. Use a list instead.\n",
      "  return pd.concat([outdf, df.get(noncanonical)], axis=1)\n",
      "/opt/venv/lib/python3.8/site-packages/pyranges/out.py:37: FutureWarning: Passing a set as an indexer is deprecated and will raise in a future version. Use a list instead.\n",
      "  return pd.concat([outdf, df.get(noncanonical)], axis=1)\n",
      "/opt/venv/lib/python3.8/site-packages/pyranges/out.py:37: FutureWarning: Passing a set as an indexer is deprecated and will raise in a future version. Use a list instead.\n",
      "  return pd.concat([outdf, df.get(noncanonical)], axis=1)\n",
      "/opt/venv/lib/python3.8/site-packages/pyranges/out.py:37: FutureWarning: Passing a set as an indexer is deprecated and will raise in a future version. Use a list instead.\n",
      "  return pd.concat([outdf, df.get(noncanonical)], axis=1)\n",
      "/opt/venv/lib/python3.8/site-packages/pyranges/out.py:37: FutureWarning: Passing a set as an indexer is deprecated and will raise in a future version. Use a list instead.\n",
      "  return pd.concat([outdf, df.get(noncanonical)], axis=1)\n",
      "/opt/venv/lib/python3.8/site-packages/pyranges/out.py:37: FutureWarning: Passing a set as an indexer is deprecated and will raise in a future version. Use a list instead.\n",
      "  return pd.concat([outdf, df.get(noncanonical)], axis=1)\n",
      "/opt/venv/lib/python3.8/site-packages/pyranges/out.py:37: FutureWarning: Passing a set as an indexer is deprecated and will raise in a future version. Use a list instead.\n",
      "  return pd.concat([outdf, df.get(noncanonical)], axis=1)\n",
      "/opt/venv/lib/python3.8/site-packages/pyranges/out.py:37: FutureWarning: Passing a set as an indexer is deprecated and will raise in a future version. Use a list instead.\n",
      "  return pd.concat([outdf, df.get(noncanonical)], axis=1)\n",
      "/opt/venv/lib/python3.8/site-packages/pyranges/out.py:37: FutureWarning: Passing a set as an indexer is deprecated and will raise in a future version. Use a list instead.\n",
      "  return pd.concat([outdf, df.get(noncanonical)], axis=1)\n",
      "/opt/venv/lib/python3.8/site-packages/pyranges/out.py:37: FutureWarning: Passing a set as an indexer is deprecated and will raise in a future version. Use a list instead.\n",
      "  return pd.concat([outdf, df.get(noncanonical)], axis=1)\n",
      "/opt/venv/lib/python3.8/site-packages/pyranges/out.py:37: FutureWarning: Passing a set as an indexer is deprecated and will raise in a future version. Use a list instead.\n",
      "  return pd.concat([outdf, df.get(noncanonical)], axis=1)\n",
      "/opt/venv/lib/python3.8/site-packages/pyranges/out.py:37: FutureWarning: Passing a set as an indexer is deprecated and will raise in a future version. Use a list instead.\n",
      "  return pd.concat([outdf, df.get(noncanonical)], axis=1)\n",
      "/opt/venv/lib/python3.8/site-packages/pyranges/out.py:37: FutureWarning: Passing a set as an indexer is deprecated and will raise in a future version. Use a list instead.\n",
      "  return pd.concat([outdf, df.get(noncanonical)], axis=1)\n",
      "/opt/venv/lib/python3.8/site-packages/pyranges/out.py:37: FutureWarning: Passing a set as an indexer is deprecated and will raise in a future version. Use a list instead.\n",
      "  return pd.concat([outdf, df.get(noncanonical)], axis=1)\n",
      "/opt/venv/lib/python3.8/site-packages/pyranges/out.py:37: FutureWarning: Passing a set as an indexer is deprecated and will raise in a future version. Use a list instead.\n",
      "  return pd.concat([outdf, df.get(noncanonical)], axis=1)\n",
      "/opt/venv/lib/python3.8/site-packages/pyranges/out.py:37: FutureWarning: Passing a set as an indexer is deprecated and will raise in a future version. Use a list instead.\n",
      "  return pd.concat([outdf, df.get(noncanonical)], axis=1)\n",
      "/opt/venv/lib/python3.8/site-packages/pyranges/out.py:37: FutureWarning: Passing a set as an indexer is deprecated and will raise in a future version. Use a list instead.\n",
      "  return pd.concat([outdf, df.get(noncanonical)], axis=1)\n"
     ]
    },
    {
     "name": "stdout",
     "output_type": "stream",
     "text": [
      "10xv11_celltypefair_1.FIXEDCELLS\n"
     ]
    },
    {
     "name": "stderr",
     "output_type": "stream",
     "text": [
      "/opt/venv/lib/python3.8/site-packages/pyranges/methods/intersection.py:52: FutureWarning: In a future version, `df.iloc[:, i] = newvals` will attempt to set the values inplace instead of always setting a new array. To retain the old behavior, use either `df[df.columns[i]] = newvals` or, if columns are non-unique, `df.isetitem(i, newvals)`\n",
      "  scdf.loc[:, \"Start\"] = new_starts\n",
      "/opt/venv/lib/python3.8/site-packages/pyranges/methods/intersection.py:53: FutureWarning: In a future version, `df.iloc[:, i] = newvals` will attempt to set the values inplace instead of always setting a new array. To retain the old behavior, use either `df[df.columns[i]] = newvals` or, if columns are non-unique, `df.isetitem(i, newvals)`\n",
      "  scdf.loc[:, \"End\"] = new_ends\n",
      "/opt/venv/lib/python3.8/site-packages/pyranges/methods/intersection.py:52: FutureWarning: In a future version, `df.iloc[:, i] = newvals` will attempt to set the values inplace instead of always setting a new array. To retain the old behavior, use either `df[df.columns[i]] = newvals` or, if columns are non-unique, `df.isetitem(i, newvals)`\n",
      "  scdf.loc[:, \"Start\"] = new_starts\n",
      "/opt/venv/lib/python3.8/site-packages/pyranges/methods/intersection.py:53: FutureWarning: In a future version, `df.iloc[:, i] = newvals` will attempt to set the values inplace instead of always setting a new array. To retain the old behavior, use either `df[df.columns[i]] = newvals` or, if columns are non-unique, `df.isetitem(i, newvals)`\n",
      "  scdf.loc[:, \"End\"] = new_ends\n",
      "/opt/venv/lib/python3.8/site-packages/pyranges/methods/intersection.py:52: FutureWarning: In a future version, `df.iloc[:, i] = newvals` will attempt to set the values inplace instead of always setting a new array. To retain the old behavior, use either `df[df.columns[i]] = newvals` or, if columns are non-unique, `df.isetitem(i, newvals)`\n",
      "  scdf.loc[:, \"Start\"] = new_starts\n",
      "/opt/venv/lib/python3.8/site-packages/pyranges/methods/intersection.py:53: FutureWarning: In a future version, `df.iloc[:, i] = newvals` will attempt to set the values inplace instead of always setting a new array. To retain the old behavior, use either `df[df.columns[i]] = newvals` or, if columns are non-unique, `df.isetitem(i, newvals)`\n",
      "  scdf.loc[:, \"End\"] = new_ends\n"
     ]
    },
    {
     "name": "stdout",
     "output_type": "stream",
     "text": [
      "Warning! Start and End columns now have different dtypes: int64 and int32\n"
     ]
    },
    {
     "name": "stderr",
     "output_type": "stream",
     "text": [
      "/opt/venv/lib/python3.8/site-packages/pyranges/out.py:37: FutureWarning: Passing a set as an indexer is deprecated and will raise in a future version. Use a list instead.\n",
      "  return pd.concat([outdf, df.get(noncanonical)], axis=1)\n",
      "/opt/venv/lib/python3.8/site-packages/pyranges/out.py:37: FutureWarning: Passing a set as an indexer is deprecated and will raise in a future version. Use a list instead.\n",
      "  return pd.concat([outdf, df.get(noncanonical)], axis=1)\n",
      "/opt/venv/lib/python3.8/site-packages/pyranges/out.py:37: FutureWarning: Passing a set as an indexer is deprecated and will raise in a future version. Use a list instead.\n",
      "  return pd.concat([outdf, df.get(noncanonical)], axis=1)\n",
      "/opt/venv/lib/python3.8/site-packages/pyranges/out.py:37: FutureWarning: Passing a set as an indexer is deprecated and will raise in a future version. Use a list instead.\n",
      "  return pd.concat([outdf, df.get(noncanonical)], axis=1)\n",
      "/opt/venv/lib/python3.8/site-packages/pyranges/out.py:37: FutureWarning: Passing a set as an indexer is deprecated and will raise in a future version. Use a list instead.\n",
      "  return pd.concat([outdf, df.get(noncanonical)], axis=1)\n",
      "/opt/venv/lib/python3.8/site-packages/pyranges/out.py:37: FutureWarning: Passing a set as an indexer is deprecated and will raise in a future version. Use a list instead.\n",
      "  return pd.concat([outdf, df.get(noncanonical)], axis=1)\n",
      "/opt/venv/lib/python3.8/site-packages/pyranges/out.py:37: FutureWarning: Passing a set as an indexer is deprecated and will raise in a future version. Use a list instead.\n",
      "  return pd.concat([outdf, df.get(noncanonical)], axis=1)\n",
      "/opt/venv/lib/python3.8/site-packages/pyranges/out.py:37: FutureWarning: Passing a set as an indexer is deprecated and will raise in a future version. Use a list instead.\n",
      "  return pd.concat([outdf, df.get(noncanonical)], axis=1)\n",
      "/opt/venv/lib/python3.8/site-packages/pyranges/out.py:37: FutureWarning: Passing a set as an indexer is deprecated and will raise in a future version. Use a list instead.\n",
      "  return pd.concat([outdf, df.get(noncanonical)], axis=1)\n",
      "/opt/venv/lib/python3.8/site-packages/pyranges/out.py:37: FutureWarning: Passing a set as an indexer is deprecated and will raise in a future version. Use a list instead.\n",
      "  return pd.concat([outdf, df.get(noncanonical)], axis=1)\n",
      "/opt/venv/lib/python3.8/site-packages/pyranges/out.py:37: FutureWarning: Passing a set as an indexer is deprecated and will raise in a future version. Use a list instead.\n",
      "  return pd.concat([outdf, df.get(noncanonical)], axis=1)\n",
      "/opt/venv/lib/python3.8/site-packages/pyranges/out.py:37: FutureWarning: Passing a set as an indexer is deprecated and will raise in a future version. Use a list instead.\n",
      "  return pd.concat([outdf, df.get(noncanonical)], axis=1)\n",
      "/opt/venv/lib/python3.8/site-packages/pyranges/out.py:37: FutureWarning: Passing a set as an indexer is deprecated and will raise in a future version. Use a list instead.\n",
      "  return pd.concat([outdf, df.get(noncanonical)], axis=1)\n",
      "/opt/venv/lib/python3.8/site-packages/pyranges/out.py:37: FutureWarning: Passing a set as an indexer is deprecated and will raise in a future version. Use a list instead.\n",
      "  return pd.concat([outdf, df.get(noncanonical)], axis=1)\n",
      "/opt/venv/lib/python3.8/site-packages/pyranges/out.py:37: FutureWarning: Passing a set as an indexer is deprecated and will raise in a future version. Use a list instead.\n",
      "  return pd.concat([outdf, df.get(noncanonical)], axis=1)\n",
      "/opt/venv/lib/python3.8/site-packages/pyranges/out.py:37: FutureWarning: Passing a set as an indexer is deprecated and will raise in a future version. Use a list instead.\n",
      "  return pd.concat([outdf, df.get(noncanonical)], axis=1)\n",
      "/opt/venv/lib/python3.8/site-packages/pyranges/out.py:37: FutureWarning: Passing a set as an indexer is deprecated and will raise in a future version. Use a list instead.\n",
      "  return pd.concat([outdf, df.get(noncanonical)], axis=1)\n",
      "/opt/venv/lib/python3.8/site-packages/pyranges/out.py:37: FutureWarning: Passing a set as an indexer is deprecated and will raise in a future version. Use a list instead.\n",
      "  return pd.concat([outdf, df.get(noncanonical)], axis=1)\n",
      "/opt/venv/lib/python3.8/site-packages/pyranges/out.py:37: FutureWarning: Passing a set as an indexer is deprecated and will raise in a future version. Use a list instead.\n",
      "  return pd.concat([outdf, df.get(noncanonical)], axis=1)\n",
      "/opt/venv/lib/python3.8/site-packages/pyranges/out.py:37: FutureWarning: Passing a set as an indexer is deprecated and will raise in a future version. Use a list instead.\n",
      "  return pd.concat([outdf, df.get(noncanonical)], axis=1)\n",
      "/opt/venv/lib/python3.8/site-packages/pyranges/out.py:37: FutureWarning: Passing a set as an indexer is deprecated and will raise in a future version. Use a list instead.\n",
      "  return pd.concat([outdf, df.get(noncanonical)], axis=1)\n",
      "/opt/venv/lib/python3.8/site-packages/pyranges/out.py:37: FutureWarning: Passing a set as an indexer is deprecated and will raise in a future version. Use a list instead.\n",
      "  return pd.concat([outdf, df.get(noncanonical)], axis=1)\n",
      "/opt/venv/lib/python3.8/site-packages/pyranges/out.py:37: FutureWarning: Passing a set as an indexer is deprecated and will raise in a future version. Use a list instead.\n",
      "  return pd.concat([outdf, df.get(noncanonical)], axis=1)\n",
      "/opt/venv/lib/python3.8/site-packages/pyranges/out.py:37: FutureWarning: Passing a set as an indexer is deprecated and will raise in a future version. Use a list instead.\n",
      "  return pd.concat([outdf, df.get(noncanonical)], axis=1)\n",
      "/opt/venv/lib/python3.8/site-packages/pyranges/out.py:37: FutureWarning: Passing a set as an indexer is deprecated and will raise in a future version. Use a list instead.\n",
      "  return pd.concat([outdf, df.get(noncanonical)], axis=1)\n",
      "/opt/venv/lib/python3.8/site-packages/pyranges/out.py:37: FutureWarning: Passing a set as an indexer is deprecated and will raise in a future version. Use a list instead.\n",
      "  return pd.concat([outdf, df.get(noncanonical)], axis=1)\n",
      "/opt/venv/lib/python3.8/site-packages/pyranges/out.py:37: FutureWarning: Passing a set as an indexer is deprecated and will raise in a future version. Use a list instead.\n",
      "  return pd.concat([outdf, df.get(noncanonical)], axis=1)\n",
      "/opt/venv/lib/python3.8/site-packages/pyranges/out.py:37: FutureWarning: Passing a set as an indexer is deprecated and will raise in a future version. Use a list instead.\n",
      "  return pd.concat([outdf, df.get(noncanonical)], axis=1)\n",
      "/opt/venv/lib/python3.8/site-packages/pyranges/out.py:37: FutureWarning: Passing a set as an indexer is deprecated and will raise in a future version. Use a list instead.\n",
      "  return pd.concat([outdf, df.get(noncanonical)], axis=1)\n",
      "/opt/venv/lib/python3.8/site-packages/pyranges/out.py:37: FutureWarning: Passing a set as an indexer is deprecated and will raise in a future version. Use a list instead.\n",
      "  return pd.concat([outdf, df.get(noncanonical)], axis=1)\n",
      "/opt/venv/lib/python3.8/site-packages/pyranges/out.py:37: FutureWarning: Passing a set as an indexer is deprecated and will raise in a future version. Use a list instead.\n",
      "  return pd.concat([outdf, df.get(noncanonical)], axis=1)\n",
      "/opt/venv/lib/python3.8/site-packages/pyranges/out.py:37: FutureWarning: Passing a set as an indexer is deprecated and will raise in a future version. Use a list instead.\n",
      "  return pd.concat([outdf, df.get(noncanonical)], axis=1)\n",
      "/opt/venv/lib/python3.8/site-packages/pyranges/out.py:37: FutureWarning: Passing a set as an indexer is deprecated and will raise in a future version. Use a list instead.\n",
      "  return pd.concat([outdf, df.get(noncanonical)], axis=1)\n",
      "/opt/venv/lib/python3.8/site-packages/pyranges/out.py:37: FutureWarning: Passing a set as an indexer is deprecated and will raise in a future version. Use a list instead.\n",
      "  return pd.concat([outdf, df.get(noncanonical)], axis=1)\n",
      "/opt/venv/lib/python3.8/site-packages/pyranges/out.py:37: FutureWarning: Passing a set as an indexer is deprecated and will raise in a future version. Use a list instead.\n",
      "  return pd.concat([outdf, df.get(noncanonical)], axis=1)\n",
      "/opt/venv/lib/python3.8/site-packages/pyranges/out.py:37: FutureWarning: Passing a set as an indexer is deprecated and will raise in a future version. Use a list instead.\n",
      "  return pd.concat([outdf, df.get(noncanonical)], axis=1)\n",
      "/opt/venv/lib/python3.8/site-packages/pyranges/out.py:37: FutureWarning: Passing a set as an indexer is deprecated and will raise in a future version. Use a list instead.\n",
      "  return pd.concat([outdf, df.get(noncanonical)], axis=1)\n",
      "/opt/venv/lib/python3.8/site-packages/pyranges/out.py:37: FutureWarning: Passing a set as an indexer is deprecated and will raise in a future version. Use a list instead.\n",
      "  return pd.concat([outdf, df.get(noncanonical)], axis=1)\n",
      "/opt/venv/lib/python3.8/site-packages/pyranges/out.py:37: FutureWarning: Passing a set as an indexer is deprecated and will raise in a future version. Use a list instead.\n",
      "  return pd.concat([outdf, df.get(noncanonical)], axis=1)\n",
      "/opt/venv/lib/python3.8/site-packages/pyranges/out.py:37: FutureWarning: Passing a set as an indexer is deprecated and will raise in a future version. Use a list instead.\n",
      "  return pd.concat([outdf, df.get(noncanonical)], axis=1)\n",
      "/opt/venv/lib/python3.8/site-packages/pyranges/out.py:37: FutureWarning: Passing a set as an indexer is deprecated and will raise in a future version. Use a list instead.\n",
      "  return pd.concat([outdf, df.get(noncanonical)], axis=1)\n",
      "/opt/venv/lib/python3.8/site-packages/pyranges/out.py:37: FutureWarning: Passing a set as an indexer is deprecated and will raise in a future version. Use a list instead.\n",
      "  return pd.concat([outdf, df.get(noncanonical)], axis=1)\n",
      "/opt/venv/lib/python3.8/site-packages/pyranges/out.py:37: FutureWarning: Passing a set as an indexer is deprecated and will raise in a future version. Use a list instead.\n",
      "  return pd.concat([outdf, df.get(noncanonical)], axis=1)\n",
      "/opt/venv/lib/python3.8/site-packages/pyranges/out.py:37: FutureWarning: Passing a set as an indexer is deprecated and will raise in a future version. Use a list instead.\n",
      "  return pd.concat([outdf, df.get(noncanonical)], axis=1)\n",
      "/opt/venv/lib/python3.8/site-packages/pyranges/out.py:37: FutureWarning: Passing a set as an indexer is deprecated and will raise in a future version. Use a list instead.\n",
      "  return pd.concat([outdf, df.get(noncanonical)], axis=1)\n",
      "/opt/venv/lib/python3.8/site-packages/pyranges/out.py:37: FutureWarning: Passing a set as an indexer is deprecated and will raise in a future version. Use a list instead.\n",
      "  return pd.concat([outdf, df.get(noncanonical)], axis=1)\n",
      "/opt/venv/lib/python3.8/site-packages/pyranges/out.py:37: FutureWarning: Passing a set as an indexer is deprecated and will raise in a future version. Use a list instead.\n",
      "  return pd.concat([outdf, df.get(noncanonical)], axis=1)\n",
      "/opt/venv/lib/python3.8/site-packages/pyranges/out.py:37: FutureWarning: Passing a set as an indexer is deprecated and will raise in a future version. Use a list instead.\n",
      "  return pd.concat([outdf, df.get(noncanonical)], axis=1)\n",
      "/opt/venv/lib/python3.8/site-packages/pyranges/out.py:37: FutureWarning: Passing a set as an indexer is deprecated and will raise in a future version. Use a list instead.\n",
      "  return pd.concat([outdf, df.get(noncanonical)], axis=1)\n",
      "/opt/venv/lib/python3.8/site-packages/pyranges/out.py:37: FutureWarning: Passing a set as an indexer is deprecated and will raise in a future version. Use a list instead.\n",
      "  return pd.concat([outdf, df.get(noncanonical)], axis=1)\n",
      "/opt/venv/lib/python3.8/site-packages/pyranges/out.py:37: FutureWarning: Passing a set as an indexer is deprecated and will raise in a future version. Use a list instead.\n",
      "  return pd.concat([outdf, df.get(noncanonical)], axis=1)\n",
      "/opt/venv/lib/python3.8/site-packages/pyranges/out.py:37: FutureWarning: Passing a set as an indexer is deprecated and will raise in a future version. Use a list instead.\n",
      "  return pd.concat([outdf, df.get(noncanonical)], axis=1)\n",
      "/opt/venv/lib/python3.8/site-packages/pyranges/out.py:37: FutureWarning: Passing a set as an indexer is deprecated and will raise in a future version. Use a list instead.\n",
      "  return pd.concat([outdf, df.get(noncanonical)], axis=1)\n",
      "/opt/venv/lib/python3.8/site-packages/pyranges/out.py:37: FutureWarning: Passing a set as an indexer is deprecated and will raise in a future version. Use a list instead.\n",
      "  return pd.concat([outdf, df.get(noncanonical)], axis=1)\n",
      "/opt/venv/lib/python3.8/site-packages/pyranges/out.py:37: FutureWarning: Passing a set as an indexer is deprecated and will raise in a future version. Use a list instead.\n",
      "  return pd.concat([outdf, df.get(noncanonical)], axis=1)\n",
      "/opt/venv/lib/python3.8/site-packages/pyranges/out.py:37: FutureWarning: Passing a set as an indexer is deprecated and will raise in a future version. Use a list instead.\n",
      "  return pd.concat([outdf, df.get(noncanonical)], axis=1)\n",
      "/opt/venv/lib/python3.8/site-packages/pyranges/out.py:37: FutureWarning: Passing a set as an indexer is deprecated and will raise in a future version. Use a list instead.\n",
      "  return pd.concat([outdf, df.get(noncanonical)], axis=1)\n",
      "/opt/venv/lib/python3.8/site-packages/pyranges/out.py:37: FutureWarning: Passing a set as an indexer is deprecated and will raise in a future version. Use a list instead.\n",
      "  return pd.concat([outdf, df.get(noncanonical)], axis=1)\n",
      "/opt/venv/lib/python3.8/site-packages/pyranges/out.py:37: FutureWarning: Passing a set as an indexer is deprecated and will raise in a future version. Use a list instead.\n",
      "  return pd.concat([outdf, df.get(noncanonical)], axis=1)\n",
      "/opt/venv/lib/python3.8/site-packages/pyranges/out.py:37: FutureWarning: Passing a set as an indexer is deprecated and will raise in a future version. Use a list instead.\n",
      "  return pd.concat([outdf, df.get(noncanonical)], axis=1)\n",
      "/opt/venv/lib/python3.8/site-packages/pyranges/out.py:37: FutureWarning: Passing a set as an indexer is deprecated and will raise in a future version. Use a list instead.\n",
      "  return pd.concat([outdf, df.get(noncanonical)], axis=1)\n",
      "/opt/venv/lib/python3.8/site-packages/pyranges/out.py:37: FutureWarning: Passing a set as an indexer is deprecated and will raise in a future version. Use a list instead.\n",
      "  return pd.concat([outdf, df.get(noncanonical)], axis=1)\n",
      "/opt/venv/lib/python3.8/site-packages/pyranges/out.py:37: FutureWarning: Passing a set as an indexer is deprecated and will raise in a future version. Use a list instead.\n",
      "  return pd.concat([outdf, df.get(noncanonical)], axis=1)\n",
      "/opt/venv/lib/python3.8/site-packages/pyranges/out.py:37: FutureWarning: Passing a set as an indexer is deprecated and will raise in a future version. Use a list instead.\n",
      "  return pd.concat([outdf, df.get(noncanonical)], axis=1)\n",
      "/opt/venv/lib/python3.8/site-packages/pyranges/out.py:37: FutureWarning: Passing a set as an indexer is deprecated and will raise in a future version. Use a list instead.\n",
      "  return pd.concat([outdf, df.get(noncanonical)], axis=1)\n",
      "/opt/venv/lib/python3.8/site-packages/pyranges/out.py:37: FutureWarning: Passing a set as an indexer is deprecated and will raise in a future version. Use a list instead.\n",
      "  return pd.concat([outdf, df.get(noncanonical)], axis=1)\n",
      "/opt/venv/lib/python3.8/site-packages/pyranges/out.py:37: FutureWarning: Passing a set as an indexer is deprecated and will raise in a future version. Use a list instead.\n",
      "  return pd.concat([outdf, df.get(noncanonical)], axis=1)\n",
      "/opt/venv/lib/python3.8/site-packages/pyranges/out.py:37: FutureWarning: Passing a set as an indexer is deprecated and will raise in a future version. Use a list instead.\n",
      "  return pd.concat([outdf, df.get(noncanonical)], axis=1)\n",
      "/opt/venv/lib/python3.8/site-packages/pyranges/out.py:37: FutureWarning: Passing a set as an indexer is deprecated and will raise in a future version. Use a list instead.\n",
      "  return pd.concat([outdf, df.get(noncanonical)], axis=1)\n"
     ]
    },
    {
     "name": "stdout",
     "output_type": "stream",
     "text": [
      "10xv1_celltypefair_1.FIXEDCELLS\n"
     ]
    },
    {
     "name": "stderr",
     "output_type": "stream",
     "text": [
      "/opt/venv/lib/python3.8/site-packages/pyranges/methods/intersection.py:52: FutureWarning: In a future version, `df.iloc[:, i] = newvals` will attempt to set the values inplace instead of always setting a new array. To retain the old behavior, use either `df[df.columns[i]] = newvals` or, if columns are non-unique, `df.isetitem(i, newvals)`\n",
      "  scdf.loc[:, \"Start\"] = new_starts\n",
      "/opt/venv/lib/python3.8/site-packages/pyranges/methods/intersection.py:53: FutureWarning: In a future version, `df.iloc[:, i] = newvals` will attempt to set the values inplace instead of always setting a new array. To retain the old behavior, use either `df[df.columns[i]] = newvals` or, if columns are non-unique, `df.isetitem(i, newvals)`\n",
      "  scdf.loc[:, \"End\"] = new_ends\n",
      "/opt/venv/lib/python3.8/site-packages/pyranges/methods/intersection.py:52: FutureWarning: In a future version, `df.iloc[:, i] = newvals` will attempt to set the values inplace instead of always setting a new array. To retain the old behavior, use either `df[df.columns[i]] = newvals` or, if columns are non-unique, `df.isetitem(i, newvals)`\n",
      "  scdf.loc[:, \"Start\"] = new_starts\n",
      "/opt/venv/lib/python3.8/site-packages/pyranges/methods/intersection.py:53: FutureWarning: In a future version, `df.iloc[:, i] = newvals` will attempt to set the values inplace instead of always setting a new array. To retain the old behavior, use either `df[df.columns[i]] = newvals` or, if columns are non-unique, `df.isetitem(i, newvals)`\n",
      "  scdf.loc[:, \"End\"] = new_ends\n"
     ]
    },
    {
     "name": "stdout",
     "output_type": "stream",
     "text": [
      "Warning! Start and End columns now have different dtypes: int64 and int32\n"
     ]
    },
    {
     "name": "stderr",
     "output_type": "stream",
     "text": [
      "/opt/venv/lib/python3.8/site-packages/pyranges/out.py:37: FutureWarning: Passing a set as an indexer is deprecated and will raise in a future version. Use a list instead.\n",
      "  return pd.concat([outdf, df.get(noncanonical)], axis=1)\n",
      "/opt/venv/lib/python3.8/site-packages/pyranges/out.py:37: FutureWarning: Passing a set as an indexer is deprecated and will raise in a future version. Use a list instead.\n",
      "  return pd.concat([outdf, df.get(noncanonical)], axis=1)\n",
      "/opt/venv/lib/python3.8/site-packages/pyranges/out.py:37: FutureWarning: Passing a set as an indexer is deprecated and will raise in a future version. Use a list instead.\n",
      "  return pd.concat([outdf, df.get(noncanonical)], axis=1)\n",
      "/opt/venv/lib/python3.8/site-packages/pyranges/out.py:37: FutureWarning: Passing a set as an indexer is deprecated and will raise in a future version. Use a list instead.\n",
      "  return pd.concat([outdf, df.get(noncanonical)], axis=1)\n",
      "/opt/venv/lib/python3.8/site-packages/pyranges/out.py:37: FutureWarning: Passing a set as an indexer is deprecated and will raise in a future version. Use a list instead.\n",
      "  return pd.concat([outdf, df.get(noncanonical)], axis=1)\n",
      "/opt/venv/lib/python3.8/site-packages/pyranges/out.py:37: FutureWarning: Passing a set as an indexer is deprecated and will raise in a future version. Use a list instead.\n",
      "  return pd.concat([outdf, df.get(noncanonical)], axis=1)\n",
      "/opt/venv/lib/python3.8/site-packages/pyranges/out.py:37: FutureWarning: Passing a set as an indexer is deprecated and will raise in a future version. Use a list instead.\n",
      "  return pd.concat([outdf, df.get(noncanonical)], axis=1)\n",
      "/opt/venv/lib/python3.8/site-packages/pyranges/out.py:37: FutureWarning: Passing a set as an indexer is deprecated and will raise in a future version. Use a list instead.\n",
      "  return pd.concat([outdf, df.get(noncanonical)], axis=1)\n",
      "/opt/venv/lib/python3.8/site-packages/pyranges/out.py:37: FutureWarning: Passing a set as an indexer is deprecated and will raise in a future version. Use a list instead.\n",
      "  return pd.concat([outdf, df.get(noncanonical)], axis=1)\n",
      "/opt/venv/lib/python3.8/site-packages/pyranges/out.py:37: FutureWarning: Passing a set as an indexer is deprecated and will raise in a future version. Use a list instead.\n",
      "  return pd.concat([outdf, df.get(noncanonical)], axis=1)\n",
      "/opt/venv/lib/python3.8/site-packages/pyranges/out.py:37: FutureWarning: Passing a set as an indexer is deprecated and will raise in a future version. Use a list instead.\n",
      "  return pd.concat([outdf, df.get(noncanonical)], axis=1)\n",
      "/opt/venv/lib/python3.8/site-packages/pyranges/out.py:37: FutureWarning: Passing a set as an indexer is deprecated and will raise in a future version. Use a list instead.\n",
      "  return pd.concat([outdf, df.get(noncanonical)], axis=1)\n",
      "/opt/venv/lib/python3.8/site-packages/pyranges/out.py:37: FutureWarning: Passing a set as an indexer is deprecated and will raise in a future version. Use a list instead.\n",
      "  return pd.concat([outdf, df.get(noncanonical)], axis=1)\n",
      "/opt/venv/lib/python3.8/site-packages/pyranges/out.py:37: FutureWarning: Passing a set as an indexer is deprecated and will raise in a future version. Use a list instead.\n",
      "  return pd.concat([outdf, df.get(noncanonical)], axis=1)\n",
      "/opt/venv/lib/python3.8/site-packages/pyranges/out.py:37: FutureWarning: Passing a set as an indexer is deprecated and will raise in a future version. Use a list instead.\n",
      "  return pd.concat([outdf, df.get(noncanonical)], axis=1)\n",
      "/opt/venv/lib/python3.8/site-packages/pyranges/out.py:37: FutureWarning: Passing a set as an indexer is deprecated and will raise in a future version. Use a list instead.\n",
      "  return pd.concat([outdf, df.get(noncanonical)], axis=1)\n",
      "/opt/venv/lib/python3.8/site-packages/pyranges/out.py:37: FutureWarning: Passing a set as an indexer is deprecated and will raise in a future version. Use a list instead.\n",
      "  return pd.concat([outdf, df.get(noncanonical)], axis=1)\n",
      "/opt/venv/lib/python3.8/site-packages/pyranges/out.py:37: FutureWarning: Passing a set as an indexer is deprecated and will raise in a future version. Use a list instead.\n",
      "  return pd.concat([outdf, df.get(noncanonical)], axis=1)\n",
      "/opt/venv/lib/python3.8/site-packages/pyranges/out.py:37: FutureWarning: Passing a set as an indexer is deprecated and will raise in a future version. Use a list instead.\n",
      "  return pd.concat([outdf, df.get(noncanonical)], axis=1)\n",
      "/opt/venv/lib/python3.8/site-packages/pyranges/out.py:37: FutureWarning: Passing a set as an indexer is deprecated and will raise in a future version. Use a list instead.\n",
      "  return pd.concat([outdf, df.get(noncanonical)], axis=1)\n",
      "/opt/venv/lib/python3.8/site-packages/pyranges/out.py:37: FutureWarning: Passing a set as an indexer is deprecated and will raise in a future version. Use a list instead.\n",
      "  return pd.concat([outdf, df.get(noncanonical)], axis=1)\n",
      "/opt/venv/lib/python3.8/site-packages/pyranges/out.py:37: FutureWarning: Passing a set as an indexer is deprecated and will raise in a future version. Use a list instead.\n",
      "  return pd.concat([outdf, df.get(noncanonical)], axis=1)\n",
      "/opt/venv/lib/python3.8/site-packages/pyranges/out.py:37: FutureWarning: Passing a set as an indexer is deprecated and will raise in a future version. Use a list instead.\n",
      "  return pd.concat([outdf, df.get(noncanonical)], axis=1)\n",
      "/opt/venv/lib/python3.8/site-packages/pyranges/out.py:37: FutureWarning: Passing a set as an indexer is deprecated and will raise in a future version. Use a list instead.\n",
      "  return pd.concat([outdf, df.get(noncanonical)], axis=1)\n",
      "/opt/venv/lib/python3.8/site-packages/pyranges/out.py:37: FutureWarning: Passing a set as an indexer is deprecated and will raise in a future version. Use a list instead.\n",
      "  return pd.concat([outdf, df.get(noncanonical)], axis=1)\n",
      "/opt/venv/lib/python3.8/site-packages/pyranges/out.py:37: FutureWarning: Passing a set as an indexer is deprecated and will raise in a future version. Use a list instead.\n",
      "  return pd.concat([outdf, df.get(noncanonical)], axis=1)\n",
      "/opt/venv/lib/python3.8/site-packages/pyranges/out.py:37: FutureWarning: Passing a set as an indexer is deprecated and will raise in a future version. Use a list instead.\n",
      "  return pd.concat([outdf, df.get(noncanonical)], axis=1)\n",
      "/opt/venv/lib/python3.8/site-packages/pyranges/out.py:37: FutureWarning: Passing a set as an indexer is deprecated and will raise in a future version. Use a list instead.\n",
      "  return pd.concat([outdf, df.get(noncanonical)], axis=1)\n",
      "/opt/venv/lib/python3.8/site-packages/pyranges/out.py:37: FutureWarning: Passing a set as an indexer is deprecated and will raise in a future version. Use a list instead.\n",
      "  return pd.concat([outdf, df.get(noncanonical)], axis=1)\n",
      "/opt/venv/lib/python3.8/site-packages/pyranges/out.py:37: FutureWarning: Passing a set as an indexer is deprecated and will raise in a future version. Use a list instead.\n",
      "  return pd.concat([outdf, df.get(noncanonical)], axis=1)\n",
      "/opt/venv/lib/python3.8/site-packages/pyranges/out.py:37: FutureWarning: Passing a set as an indexer is deprecated and will raise in a future version. Use a list instead.\n",
      "  return pd.concat([outdf, df.get(noncanonical)], axis=1)\n",
      "/opt/venv/lib/python3.8/site-packages/pyranges/out.py:37: FutureWarning: Passing a set as an indexer is deprecated and will raise in a future version. Use a list instead.\n",
      "  return pd.concat([outdf, df.get(noncanonical)], axis=1)\n",
      "/opt/venv/lib/python3.8/site-packages/pyranges/out.py:37: FutureWarning: Passing a set as an indexer is deprecated and will raise in a future version. Use a list instead.\n",
      "  return pd.concat([outdf, df.get(noncanonical)], axis=1)\n",
      "/opt/venv/lib/python3.8/site-packages/pyranges/out.py:37: FutureWarning: Passing a set as an indexer is deprecated and will raise in a future version. Use a list instead.\n",
      "  return pd.concat([outdf, df.get(noncanonical)], axis=1)\n",
      "/opt/venv/lib/python3.8/site-packages/pyranges/out.py:37: FutureWarning: Passing a set as an indexer is deprecated and will raise in a future version. Use a list instead.\n",
      "  return pd.concat([outdf, df.get(noncanonical)], axis=1)\n",
      "/opt/venv/lib/python3.8/site-packages/pyranges/out.py:37: FutureWarning: Passing a set as an indexer is deprecated and will raise in a future version. Use a list instead.\n",
      "  return pd.concat([outdf, df.get(noncanonical)], axis=1)\n",
      "/opt/venv/lib/python3.8/site-packages/pyranges/out.py:37: FutureWarning: Passing a set as an indexer is deprecated and will raise in a future version. Use a list instead.\n",
      "  return pd.concat([outdf, df.get(noncanonical)], axis=1)\n",
      "/opt/venv/lib/python3.8/site-packages/pyranges/out.py:37: FutureWarning: Passing a set as an indexer is deprecated and will raise in a future version. Use a list instead.\n",
      "  return pd.concat([outdf, df.get(noncanonical)], axis=1)\n",
      "/opt/venv/lib/python3.8/site-packages/pyranges/out.py:37: FutureWarning: Passing a set as an indexer is deprecated and will raise in a future version. Use a list instead.\n",
      "  return pd.concat([outdf, df.get(noncanonical)], axis=1)\n",
      "/opt/venv/lib/python3.8/site-packages/pyranges/out.py:37: FutureWarning: Passing a set as an indexer is deprecated and will raise in a future version. Use a list instead.\n",
      "  return pd.concat([outdf, df.get(noncanonical)], axis=1)\n",
      "/opt/venv/lib/python3.8/site-packages/pyranges/out.py:37: FutureWarning: Passing a set as an indexer is deprecated and will raise in a future version. Use a list instead.\n",
      "  return pd.concat([outdf, df.get(noncanonical)], axis=1)\n",
      "/opt/venv/lib/python3.8/site-packages/pyranges/out.py:37: FutureWarning: Passing a set as an indexer is deprecated and will raise in a future version. Use a list instead.\n",
      "  return pd.concat([outdf, df.get(noncanonical)], axis=1)\n",
      "/opt/venv/lib/python3.8/site-packages/pyranges/out.py:37: FutureWarning: Passing a set as an indexer is deprecated and will raise in a future version. Use a list instead.\n",
      "  return pd.concat([outdf, df.get(noncanonical)], axis=1)\n",
      "/opt/venv/lib/python3.8/site-packages/pyranges/out.py:37: FutureWarning: Passing a set as an indexer is deprecated and will raise in a future version. Use a list instead.\n",
      "  return pd.concat([outdf, df.get(noncanonical)], axis=1)\n",
      "/opt/venv/lib/python3.8/site-packages/pyranges/out.py:37: FutureWarning: Passing a set as an indexer is deprecated and will raise in a future version. Use a list instead.\n",
      "  return pd.concat([outdf, df.get(noncanonical)], axis=1)\n",
      "/opt/venv/lib/python3.8/site-packages/pyranges/out.py:37: FutureWarning: Passing a set as an indexer is deprecated and will raise in a future version. Use a list instead.\n",
      "  return pd.concat([outdf, df.get(noncanonical)], axis=1)\n",
      "/opt/venv/lib/python3.8/site-packages/pyranges/out.py:37: FutureWarning: Passing a set as an indexer is deprecated and will raise in a future version. Use a list instead.\n",
      "  return pd.concat([outdf, df.get(noncanonical)], axis=1)\n",
      "/opt/venv/lib/python3.8/site-packages/pyranges/out.py:37: FutureWarning: Passing a set as an indexer is deprecated and will raise in a future version. Use a list instead.\n",
      "  return pd.concat([outdf, df.get(noncanonical)], axis=1)\n",
      "/opt/venv/lib/python3.8/site-packages/pyranges/out.py:37: FutureWarning: Passing a set as an indexer is deprecated and will raise in a future version. Use a list instead.\n",
      "  return pd.concat([outdf, df.get(noncanonical)], axis=1)\n",
      "/opt/venv/lib/python3.8/site-packages/pyranges/out.py:37: FutureWarning: Passing a set as an indexer is deprecated and will raise in a future version. Use a list instead.\n",
      "  return pd.concat([outdf, df.get(noncanonical)], axis=1)\n",
      "/opt/venv/lib/python3.8/site-packages/pyranges/out.py:37: FutureWarning: Passing a set as an indexer is deprecated and will raise in a future version. Use a list instead.\n",
      "  return pd.concat([outdf, df.get(noncanonical)], axis=1)\n",
      "/opt/venv/lib/python3.8/site-packages/pyranges/out.py:37: FutureWarning: Passing a set as an indexer is deprecated and will raise in a future version. Use a list instead.\n",
      "  return pd.concat([outdf, df.get(noncanonical)], axis=1)\n",
      "/opt/venv/lib/python3.8/site-packages/pyranges/out.py:37: FutureWarning: Passing a set as an indexer is deprecated and will raise in a future version. Use a list instead.\n",
      "  return pd.concat([outdf, df.get(noncanonical)], axis=1)\n",
      "/opt/venv/lib/python3.8/site-packages/pyranges/out.py:37: FutureWarning: Passing a set as an indexer is deprecated and will raise in a future version. Use a list instead.\n",
      "  return pd.concat([outdf, df.get(noncanonical)], axis=1)\n",
      "/opt/venv/lib/python3.8/site-packages/pyranges/out.py:37: FutureWarning: Passing a set as an indexer is deprecated and will raise in a future version. Use a list instead.\n",
      "  return pd.concat([outdf, df.get(noncanonical)], axis=1)\n",
      "/opt/venv/lib/python3.8/site-packages/pyranges/out.py:37: FutureWarning: Passing a set as an indexer is deprecated and will raise in a future version. Use a list instead.\n",
      "  return pd.concat([outdf, df.get(noncanonical)], axis=1)\n",
      "/opt/venv/lib/python3.8/site-packages/pyranges/out.py:37: FutureWarning: Passing a set as an indexer is deprecated and will raise in a future version. Use a list instead.\n",
      "  return pd.concat([outdf, df.get(noncanonical)], axis=1)\n",
      "/opt/venv/lib/python3.8/site-packages/pyranges/out.py:37: FutureWarning: Passing a set as an indexer is deprecated and will raise in a future version. Use a list instead.\n",
      "  return pd.concat([outdf, df.get(noncanonical)], axis=1)\n",
      "/opt/venv/lib/python3.8/site-packages/pyranges/out.py:37: FutureWarning: Passing a set as an indexer is deprecated and will raise in a future version. Use a list instead.\n",
      "  return pd.concat([outdf, df.get(noncanonical)], axis=1)\n",
      "/opt/venv/lib/python3.8/site-packages/pyranges/out.py:37: FutureWarning: Passing a set as an indexer is deprecated and will raise in a future version. Use a list instead.\n",
      "  return pd.concat([outdf, df.get(noncanonical)], axis=1)\n"
     ]
    },
    {
     "name": "stdout",
     "output_type": "stream",
     "text": [
      "10xv2_celltypefair_1.FIXEDCELLS\n"
     ]
    },
    {
     "name": "stderr",
     "output_type": "stream",
     "text": [
      "/opt/venv/lib/python3.8/site-packages/pyranges/methods/intersection.py:52: FutureWarning: In a future version, `df.iloc[:, i] = newvals` will attempt to set the values inplace instead of always setting a new array. To retain the old behavior, use either `df[df.columns[i]] = newvals` or, if columns are non-unique, `df.isetitem(i, newvals)`\n",
      "  scdf.loc[:, \"Start\"] = new_starts\n",
      "/opt/venv/lib/python3.8/site-packages/pyranges/methods/intersection.py:53: FutureWarning: In a future version, `df.iloc[:, i] = newvals` will attempt to set the values inplace instead of always setting a new array. To retain the old behavior, use either `df[df.columns[i]] = newvals` or, if columns are non-unique, `df.isetitem(i, newvals)`\n",
      "  scdf.loc[:, \"End\"] = new_ends\n",
      "/opt/venv/lib/python3.8/site-packages/pyranges/methods/intersection.py:52: FutureWarning: In a future version, `df.iloc[:, i] = newvals` will attempt to set the values inplace instead of always setting a new array. To retain the old behavior, use either `df[df.columns[i]] = newvals` or, if columns are non-unique, `df.isetitem(i, newvals)`\n",
      "  scdf.loc[:, \"Start\"] = new_starts\n",
      "/opt/venv/lib/python3.8/site-packages/pyranges/methods/intersection.py:53: FutureWarning: In a future version, `df.iloc[:, i] = newvals` will attempt to set the values inplace instead of always setting a new array. To retain the old behavior, use either `df[df.columns[i]] = newvals` or, if columns are non-unique, `df.isetitem(i, newvals)`\n",
      "  scdf.loc[:, \"End\"] = new_ends\n",
      "/opt/venv/lib/python3.8/site-packages/pyranges/methods/intersection.py:52: FutureWarning: In a future version, `df.iloc[:, i] = newvals` will attempt to set the values inplace instead of always setting a new array. To retain the old behavior, use either `df[df.columns[i]] = newvals` or, if columns are non-unique, `df.isetitem(i, newvals)`\n",
      "  scdf.loc[:, \"Start\"] = new_starts\n",
      "/opt/venv/lib/python3.8/site-packages/pyranges/methods/intersection.py:53: FutureWarning: In a future version, `df.iloc[:, i] = newvals` will attempt to set the values inplace instead of always setting a new array. To retain the old behavior, use either `df[df.columns[i]] = newvals` or, if columns are non-unique, `df.isetitem(i, newvals)`\n",
      "  scdf.loc[:, \"End\"] = new_ends\n"
     ]
    },
    {
     "name": "stdout",
     "output_type": "stream",
     "text": [
      "Warning! Start and End columns now have different dtypes: int64 and int32\n"
     ]
    },
    {
     "name": "stderr",
     "output_type": "stream",
     "text": [
      "/opt/venv/lib/python3.8/site-packages/pyranges/out.py:37: FutureWarning: Passing a set as an indexer is deprecated and will raise in a future version. Use a list instead.\n",
      "  return pd.concat([outdf, df.get(noncanonical)], axis=1)\n",
      "/opt/venv/lib/python3.8/site-packages/pyranges/out.py:37: FutureWarning: Passing a set as an indexer is deprecated and will raise in a future version. Use a list instead.\n",
      "  return pd.concat([outdf, df.get(noncanonical)], axis=1)\n",
      "/opt/venv/lib/python3.8/site-packages/pyranges/out.py:37: FutureWarning: Passing a set as an indexer is deprecated and will raise in a future version. Use a list instead.\n",
      "  return pd.concat([outdf, df.get(noncanonical)], axis=1)\n",
      "/opt/venv/lib/python3.8/site-packages/pyranges/out.py:37: FutureWarning: Passing a set as an indexer is deprecated and will raise in a future version. Use a list instead.\n",
      "  return pd.concat([outdf, df.get(noncanonical)], axis=1)\n",
      "/opt/venv/lib/python3.8/site-packages/pyranges/out.py:37: FutureWarning: Passing a set as an indexer is deprecated and will raise in a future version. Use a list instead.\n",
      "  return pd.concat([outdf, df.get(noncanonical)], axis=1)\n",
      "/opt/venv/lib/python3.8/site-packages/pyranges/out.py:37: FutureWarning: Passing a set as an indexer is deprecated and will raise in a future version. Use a list instead.\n",
      "  return pd.concat([outdf, df.get(noncanonical)], axis=1)\n",
      "/opt/venv/lib/python3.8/site-packages/pyranges/out.py:37: FutureWarning: Passing a set as an indexer is deprecated and will raise in a future version. Use a list instead.\n",
      "  return pd.concat([outdf, df.get(noncanonical)], axis=1)\n",
      "/opt/venv/lib/python3.8/site-packages/pyranges/out.py:37: FutureWarning: Passing a set as an indexer is deprecated and will raise in a future version. Use a list instead.\n",
      "  return pd.concat([outdf, df.get(noncanonical)], axis=1)\n",
      "/opt/venv/lib/python3.8/site-packages/pyranges/out.py:37: FutureWarning: Passing a set as an indexer is deprecated and will raise in a future version. Use a list instead.\n",
      "  return pd.concat([outdf, df.get(noncanonical)], axis=1)\n",
      "/opt/venv/lib/python3.8/site-packages/pyranges/out.py:37: FutureWarning: Passing a set as an indexer is deprecated and will raise in a future version. Use a list instead.\n",
      "  return pd.concat([outdf, df.get(noncanonical)], axis=1)\n",
      "/opt/venv/lib/python3.8/site-packages/pyranges/out.py:37: FutureWarning: Passing a set as an indexer is deprecated and will raise in a future version. Use a list instead.\n",
      "  return pd.concat([outdf, df.get(noncanonical)], axis=1)\n",
      "/opt/venv/lib/python3.8/site-packages/pyranges/out.py:37: FutureWarning: Passing a set as an indexer is deprecated and will raise in a future version. Use a list instead.\n",
      "  return pd.concat([outdf, df.get(noncanonical)], axis=1)\n",
      "/opt/venv/lib/python3.8/site-packages/pyranges/out.py:37: FutureWarning: Passing a set as an indexer is deprecated and will raise in a future version. Use a list instead.\n",
      "  return pd.concat([outdf, df.get(noncanonical)], axis=1)\n",
      "/opt/venv/lib/python3.8/site-packages/pyranges/out.py:37: FutureWarning: Passing a set as an indexer is deprecated and will raise in a future version. Use a list instead.\n",
      "  return pd.concat([outdf, df.get(noncanonical)], axis=1)\n",
      "/opt/venv/lib/python3.8/site-packages/pyranges/out.py:37: FutureWarning: Passing a set as an indexer is deprecated and will raise in a future version. Use a list instead.\n",
      "  return pd.concat([outdf, df.get(noncanonical)], axis=1)\n",
      "/opt/venv/lib/python3.8/site-packages/pyranges/out.py:37: FutureWarning: Passing a set as an indexer is deprecated and will raise in a future version. Use a list instead.\n",
      "  return pd.concat([outdf, df.get(noncanonical)], axis=1)\n",
      "/opt/venv/lib/python3.8/site-packages/pyranges/out.py:37: FutureWarning: Passing a set as an indexer is deprecated and will raise in a future version. Use a list instead.\n",
      "  return pd.concat([outdf, df.get(noncanonical)], axis=1)\n",
      "/opt/venv/lib/python3.8/site-packages/pyranges/out.py:37: FutureWarning: Passing a set as an indexer is deprecated and will raise in a future version. Use a list instead.\n",
      "  return pd.concat([outdf, df.get(noncanonical)], axis=1)\n",
      "/opt/venv/lib/python3.8/site-packages/pyranges/out.py:37: FutureWarning: Passing a set as an indexer is deprecated and will raise in a future version. Use a list instead.\n",
      "  return pd.concat([outdf, df.get(noncanonical)], axis=1)\n",
      "/opt/venv/lib/python3.8/site-packages/pyranges/out.py:37: FutureWarning: Passing a set as an indexer is deprecated and will raise in a future version. Use a list instead.\n",
      "  return pd.concat([outdf, df.get(noncanonical)], axis=1)\n",
      "/opt/venv/lib/python3.8/site-packages/pyranges/out.py:37: FutureWarning: Passing a set as an indexer is deprecated and will raise in a future version. Use a list instead.\n",
      "  return pd.concat([outdf, df.get(noncanonical)], axis=1)\n",
      "/opt/venv/lib/python3.8/site-packages/pyranges/out.py:37: FutureWarning: Passing a set as an indexer is deprecated and will raise in a future version. Use a list instead.\n",
      "  return pd.concat([outdf, df.get(noncanonical)], axis=1)\n",
      "/opt/venv/lib/python3.8/site-packages/pyranges/out.py:37: FutureWarning: Passing a set as an indexer is deprecated and will raise in a future version. Use a list instead.\n",
      "  return pd.concat([outdf, df.get(noncanonical)], axis=1)\n",
      "/opt/venv/lib/python3.8/site-packages/pyranges/out.py:37: FutureWarning: Passing a set as an indexer is deprecated and will raise in a future version. Use a list instead.\n",
      "  return pd.concat([outdf, df.get(noncanonical)], axis=1)\n",
      "/opt/venv/lib/python3.8/site-packages/pyranges/out.py:37: FutureWarning: Passing a set as an indexer is deprecated and will raise in a future version. Use a list instead.\n",
      "  return pd.concat([outdf, df.get(noncanonical)], axis=1)\n",
      "/opt/venv/lib/python3.8/site-packages/pyranges/out.py:37: FutureWarning: Passing a set as an indexer is deprecated and will raise in a future version. Use a list instead.\n",
      "  return pd.concat([outdf, df.get(noncanonical)], axis=1)\n",
      "/opt/venv/lib/python3.8/site-packages/pyranges/out.py:37: FutureWarning: Passing a set as an indexer is deprecated and will raise in a future version. Use a list instead.\n",
      "  return pd.concat([outdf, df.get(noncanonical)], axis=1)\n",
      "/opt/venv/lib/python3.8/site-packages/pyranges/out.py:37: FutureWarning: Passing a set as an indexer is deprecated and will raise in a future version. Use a list instead.\n",
      "  return pd.concat([outdf, df.get(noncanonical)], axis=1)\n",
      "/opt/venv/lib/python3.8/site-packages/pyranges/out.py:37: FutureWarning: Passing a set as an indexer is deprecated and will raise in a future version. Use a list instead.\n",
      "  return pd.concat([outdf, df.get(noncanonical)], axis=1)\n",
      "/opt/venv/lib/python3.8/site-packages/pyranges/out.py:37: FutureWarning: Passing a set as an indexer is deprecated and will raise in a future version. Use a list instead.\n",
      "  return pd.concat([outdf, df.get(noncanonical)], axis=1)\n",
      "/opt/venv/lib/python3.8/site-packages/pyranges/out.py:37: FutureWarning: Passing a set as an indexer is deprecated and will raise in a future version. Use a list instead.\n",
      "  return pd.concat([outdf, df.get(noncanonical)], axis=1)\n",
      "/opt/venv/lib/python3.8/site-packages/pyranges/out.py:37: FutureWarning: Passing a set as an indexer is deprecated and will raise in a future version. Use a list instead.\n",
      "  return pd.concat([outdf, df.get(noncanonical)], axis=1)\n",
      "/opt/venv/lib/python3.8/site-packages/pyranges/out.py:37: FutureWarning: Passing a set as an indexer is deprecated and will raise in a future version. Use a list instead.\n",
      "  return pd.concat([outdf, df.get(noncanonical)], axis=1)\n",
      "/opt/venv/lib/python3.8/site-packages/pyranges/out.py:37: FutureWarning: Passing a set as an indexer is deprecated and will raise in a future version. Use a list instead.\n",
      "  return pd.concat([outdf, df.get(noncanonical)], axis=1)\n",
      "/opt/venv/lib/python3.8/site-packages/pyranges/out.py:37: FutureWarning: Passing a set as an indexer is deprecated and will raise in a future version. Use a list instead.\n",
      "  return pd.concat([outdf, df.get(noncanonical)], axis=1)\n",
      "/opt/venv/lib/python3.8/site-packages/pyranges/out.py:37: FutureWarning: Passing a set as an indexer is deprecated and will raise in a future version. Use a list instead.\n",
      "  return pd.concat([outdf, df.get(noncanonical)], axis=1)\n",
      "/opt/venv/lib/python3.8/site-packages/pyranges/out.py:37: FutureWarning: Passing a set as an indexer is deprecated and will raise in a future version. Use a list instead.\n",
      "  return pd.concat([outdf, df.get(noncanonical)], axis=1)\n",
      "/opt/venv/lib/python3.8/site-packages/pyranges/out.py:37: FutureWarning: Passing a set as an indexer is deprecated and will raise in a future version. Use a list instead.\n",
      "  return pd.concat([outdf, df.get(noncanonical)], axis=1)\n",
      "/opt/venv/lib/python3.8/site-packages/pyranges/out.py:37: FutureWarning: Passing a set as an indexer is deprecated and will raise in a future version. Use a list instead.\n",
      "  return pd.concat([outdf, df.get(noncanonical)], axis=1)\n",
      "/opt/venv/lib/python3.8/site-packages/pyranges/out.py:37: FutureWarning: Passing a set as an indexer is deprecated and will raise in a future version. Use a list instead.\n",
      "  return pd.concat([outdf, df.get(noncanonical)], axis=1)\n",
      "/opt/venv/lib/python3.8/site-packages/pyranges/out.py:37: FutureWarning: Passing a set as an indexer is deprecated and will raise in a future version. Use a list instead.\n",
      "  return pd.concat([outdf, df.get(noncanonical)], axis=1)\n",
      "/opt/venv/lib/python3.8/site-packages/pyranges/out.py:37: FutureWarning: Passing a set as an indexer is deprecated and will raise in a future version. Use a list instead.\n",
      "  return pd.concat([outdf, df.get(noncanonical)], axis=1)\n",
      "/opt/venv/lib/python3.8/site-packages/pyranges/out.py:37: FutureWarning: Passing a set as an indexer is deprecated and will raise in a future version. Use a list instead.\n",
      "  return pd.concat([outdf, df.get(noncanonical)], axis=1)\n",
      "/opt/venv/lib/python3.8/site-packages/pyranges/out.py:37: FutureWarning: Passing a set as an indexer is deprecated and will raise in a future version. Use a list instead.\n",
      "  return pd.concat([outdf, df.get(noncanonical)], axis=1)\n",
      "/opt/venv/lib/python3.8/site-packages/pyranges/out.py:37: FutureWarning: Passing a set as an indexer is deprecated and will raise in a future version. Use a list instead.\n",
      "  return pd.concat([outdf, df.get(noncanonical)], axis=1)\n",
      "/opt/venv/lib/python3.8/site-packages/pyranges/out.py:37: FutureWarning: Passing a set as an indexer is deprecated and will raise in a future version. Use a list instead.\n",
      "  return pd.concat([outdf, df.get(noncanonical)], axis=1)\n",
      "/opt/venv/lib/python3.8/site-packages/pyranges/out.py:37: FutureWarning: Passing a set as an indexer is deprecated and will raise in a future version. Use a list instead.\n",
      "  return pd.concat([outdf, df.get(noncanonical)], axis=1)\n",
      "/opt/venv/lib/python3.8/site-packages/pyranges/out.py:37: FutureWarning: Passing a set as an indexer is deprecated and will raise in a future version. Use a list instead.\n",
      "  return pd.concat([outdf, df.get(noncanonical)], axis=1)\n",
      "/opt/venv/lib/python3.8/site-packages/pyranges/out.py:37: FutureWarning: Passing a set as an indexer is deprecated and will raise in a future version. Use a list instead.\n",
      "  return pd.concat([outdf, df.get(noncanonical)], axis=1)\n",
      "/opt/venv/lib/python3.8/site-packages/pyranges/out.py:37: FutureWarning: Passing a set as an indexer is deprecated and will raise in a future version. Use a list instead.\n",
      "  return pd.concat([outdf, df.get(noncanonical)], axis=1)\n"
     ]
    },
    {
     "name": "stdout",
     "output_type": "stream",
     "text": [
      "ddseq_celltypefair_1.FIXEDCELLS\n",
      "Warning! Start and End columns now have different dtypes: int64 and int32\n"
     ]
    },
    {
     "name": "stderr",
     "output_type": "stream",
     "text": [
      "/opt/venv/lib/python3.8/site-packages/pyranges/out.py:37: FutureWarning: Passing a set as an indexer is deprecated and will raise in a future version. Use a list instead.\n",
      "  return pd.concat([outdf, df.get(noncanonical)], axis=1)\n",
      "/opt/venv/lib/python3.8/site-packages/pyranges/out.py:37: FutureWarning: Passing a set as an indexer is deprecated and will raise in a future version. Use a list instead.\n",
      "  return pd.concat([outdf, df.get(noncanonical)], axis=1)\n",
      "/opt/venv/lib/python3.8/site-packages/pyranges/out.py:37: FutureWarning: Passing a set as an indexer is deprecated and will raise in a future version. Use a list instead.\n",
      "  return pd.concat([outdf, df.get(noncanonical)], axis=1)\n",
      "/opt/venv/lib/python3.8/site-packages/pyranges/out.py:37: FutureWarning: Passing a set as an indexer is deprecated and will raise in a future version. Use a list instead.\n",
      "  return pd.concat([outdf, df.get(noncanonical)], axis=1)\n",
      "/opt/venv/lib/python3.8/site-packages/pyranges/out.py:37: FutureWarning: Passing a set as an indexer is deprecated and will raise in a future version. Use a list instead.\n",
      "  return pd.concat([outdf, df.get(noncanonical)], axis=1)\n",
      "/opt/venv/lib/python3.8/site-packages/pyranges/out.py:37: FutureWarning: Passing a set as an indexer is deprecated and will raise in a future version. Use a list instead.\n",
      "  return pd.concat([outdf, df.get(noncanonical)], axis=1)\n",
      "/opt/venv/lib/python3.8/site-packages/pyranges/out.py:37: FutureWarning: Passing a set as an indexer is deprecated and will raise in a future version. Use a list instead.\n",
      "  return pd.concat([outdf, df.get(noncanonical)], axis=1)\n",
      "/opt/venv/lib/python3.8/site-packages/pyranges/out.py:37: FutureWarning: Passing a set as an indexer is deprecated and will raise in a future version. Use a list instead.\n",
      "  return pd.concat([outdf, df.get(noncanonical)], axis=1)\n",
      "/opt/venv/lib/python3.8/site-packages/pyranges/out.py:37: FutureWarning: Passing a set as an indexer is deprecated and will raise in a future version. Use a list instead.\n",
      "  return pd.concat([outdf, df.get(noncanonical)], axis=1)\n",
      "/opt/venv/lib/python3.8/site-packages/pyranges/out.py:37: FutureWarning: Passing a set as an indexer is deprecated and will raise in a future version. Use a list instead.\n",
      "  return pd.concat([outdf, df.get(noncanonical)], axis=1)\n",
      "/opt/venv/lib/python3.8/site-packages/pyranges/out.py:37: FutureWarning: Passing a set as an indexer is deprecated and will raise in a future version. Use a list instead.\n",
      "  return pd.concat([outdf, df.get(noncanonical)], axis=1)\n",
      "/opt/venv/lib/python3.8/site-packages/pyranges/out.py:37: FutureWarning: Passing a set as an indexer is deprecated and will raise in a future version. Use a list instead.\n",
      "  return pd.concat([outdf, df.get(noncanonical)], axis=1)\n",
      "/opt/venv/lib/python3.8/site-packages/pyranges/out.py:37: FutureWarning: Passing a set as an indexer is deprecated and will raise in a future version. Use a list instead.\n",
      "  return pd.concat([outdf, df.get(noncanonical)], axis=1)\n",
      "/opt/venv/lib/python3.8/site-packages/pyranges/out.py:37: FutureWarning: Passing a set as an indexer is deprecated and will raise in a future version. Use a list instead.\n",
      "  return pd.concat([outdf, df.get(noncanonical)], axis=1)\n",
      "/opt/venv/lib/python3.8/site-packages/pyranges/out.py:37: FutureWarning: Passing a set as an indexer is deprecated and will raise in a future version. Use a list instead.\n",
      "  return pd.concat([outdf, df.get(noncanonical)], axis=1)\n",
      "/opt/venv/lib/python3.8/site-packages/pyranges/out.py:37: FutureWarning: Passing a set as an indexer is deprecated and will raise in a future version. Use a list instead.\n",
      "  return pd.concat([outdf, df.get(noncanonical)], axis=1)\n",
      "/opt/venv/lib/python3.8/site-packages/pyranges/out.py:37: FutureWarning: Passing a set as an indexer is deprecated and will raise in a future version. Use a list instead.\n",
      "  return pd.concat([outdf, df.get(noncanonical)], axis=1)\n",
      "/opt/venv/lib/python3.8/site-packages/pyranges/out.py:37: FutureWarning: Passing a set as an indexer is deprecated and will raise in a future version. Use a list instead.\n",
      "  return pd.concat([outdf, df.get(noncanonical)], axis=1)\n",
      "/opt/venv/lib/python3.8/site-packages/pyranges/out.py:37: FutureWarning: Passing a set as an indexer is deprecated and will raise in a future version. Use a list instead.\n",
      "  return pd.concat([outdf, df.get(noncanonical)], axis=1)\n",
      "/opt/venv/lib/python3.8/site-packages/pyranges/out.py:37: FutureWarning: Passing a set as an indexer is deprecated and will raise in a future version. Use a list instead.\n",
      "  return pd.concat([outdf, df.get(noncanonical)], axis=1)\n",
      "/opt/venv/lib/python3.8/site-packages/pyranges/out.py:37: FutureWarning: Passing a set as an indexer is deprecated and will raise in a future version. Use a list instead.\n",
      "  return pd.concat([outdf, df.get(noncanonical)], axis=1)\n",
      "/opt/venv/lib/python3.8/site-packages/pyranges/out.py:37: FutureWarning: Passing a set as an indexer is deprecated and will raise in a future version. Use a list instead.\n",
      "  return pd.concat([outdf, df.get(noncanonical)], axis=1)\n",
      "/opt/venv/lib/python3.8/site-packages/pyranges/out.py:37: FutureWarning: Passing a set as an indexer is deprecated and will raise in a future version. Use a list instead.\n",
      "  return pd.concat([outdf, df.get(noncanonical)], axis=1)\n",
      "/opt/venv/lib/python3.8/site-packages/pyranges/out.py:37: FutureWarning: Passing a set as an indexer is deprecated and will raise in a future version. Use a list instead.\n",
      "  return pd.concat([outdf, df.get(noncanonical)], axis=1)\n",
      "/opt/venv/lib/python3.8/site-packages/pyranges/out.py:37: FutureWarning: Passing a set as an indexer is deprecated and will raise in a future version. Use a list instead.\n",
      "  return pd.concat([outdf, df.get(noncanonical)], axis=1)\n",
      "/opt/venv/lib/python3.8/site-packages/pyranges/out.py:37: FutureWarning: Passing a set as an indexer is deprecated and will raise in a future version. Use a list instead.\n",
      "  return pd.concat([outdf, df.get(noncanonical)], axis=1)\n",
      "/opt/venv/lib/python3.8/site-packages/pyranges/out.py:37: FutureWarning: Passing a set as an indexer is deprecated and will raise in a future version. Use a list instead.\n",
      "  return pd.concat([outdf, df.get(noncanonical)], axis=1)\n",
      "/opt/venv/lib/python3.8/site-packages/pyranges/out.py:37: FutureWarning: Passing a set as an indexer is deprecated and will raise in a future version. Use a list instead.\n",
      "  return pd.concat([outdf, df.get(noncanonical)], axis=1)\n",
      "/opt/venv/lib/python3.8/site-packages/pyranges/out.py:37: FutureWarning: Passing a set as an indexer is deprecated and will raise in a future version. Use a list instead.\n",
      "  return pd.concat([outdf, df.get(noncanonical)], axis=1)\n",
      "/opt/venv/lib/python3.8/site-packages/pyranges/out.py:37: FutureWarning: Passing a set as an indexer is deprecated and will raise in a future version. Use a list instead.\n",
      "  return pd.concat([outdf, df.get(noncanonical)], axis=1)\n",
      "/opt/venv/lib/python3.8/site-packages/pyranges/out.py:37: FutureWarning: Passing a set as an indexer is deprecated and will raise in a future version. Use a list instead.\n",
      "  return pd.concat([outdf, df.get(noncanonical)], axis=1)\n",
      "/opt/venv/lib/python3.8/site-packages/pyranges/out.py:37: FutureWarning: Passing a set as an indexer is deprecated and will raise in a future version. Use a list instead.\n",
      "  return pd.concat([outdf, df.get(noncanonical)], axis=1)\n",
      "/opt/venv/lib/python3.8/site-packages/pyranges/out.py:37: FutureWarning: Passing a set as an indexer is deprecated and will raise in a future version. Use a list instead.\n",
      "  return pd.concat([outdf, df.get(noncanonical)], axis=1)\n",
      "/opt/venv/lib/python3.8/site-packages/pyranges/out.py:37: FutureWarning: Passing a set as an indexer is deprecated and will raise in a future version. Use a list instead.\n",
      "  return pd.concat([outdf, df.get(noncanonical)], axis=1)\n",
      "/opt/venv/lib/python3.8/site-packages/pyranges/out.py:37: FutureWarning: Passing a set as an indexer is deprecated and will raise in a future version. Use a list instead.\n",
      "  return pd.concat([outdf, df.get(noncanonical)], axis=1)\n",
      "/opt/venv/lib/python3.8/site-packages/pyranges/out.py:37: FutureWarning: Passing a set as an indexer is deprecated and will raise in a future version. Use a list instead.\n",
      "  return pd.concat([outdf, df.get(noncanonical)], axis=1)\n",
      "/opt/venv/lib/python3.8/site-packages/pyranges/out.py:37: FutureWarning: Passing a set as an indexer is deprecated and will raise in a future version. Use a list instead.\n",
      "  return pd.concat([outdf, df.get(noncanonical)], axis=1)\n",
      "/opt/venv/lib/python3.8/site-packages/pyranges/out.py:37: FutureWarning: Passing a set as an indexer is deprecated and will raise in a future version. Use a list instead.\n",
      "  return pd.concat([outdf, df.get(noncanonical)], axis=1)\n",
      "/opt/venv/lib/python3.8/site-packages/pyranges/out.py:37: FutureWarning: Passing a set as an indexer is deprecated and will raise in a future version. Use a list instead.\n",
      "  return pd.concat([outdf, df.get(noncanonical)], axis=1)\n",
      "/opt/venv/lib/python3.8/site-packages/pyranges/out.py:37: FutureWarning: Passing a set as an indexer is deprecated and will raise in a future version. Use a list instead.\n",
      "  return pd.concat([outdf, df.get(noncanonical)], axis=1)\n",
      "/opt/venv/lib/python3.8/site-packages/pyranges/out.py:37: FutureWarning: Passing a set as an indexer is deprecated and will raise in a future version. Use a list instead.\n",
      "  return pd.concat([outdf, df.get(noncanonical)], axis=1)\n",
      "/opt/venv/lib/python3.8/site-packages/pyranges/out.py:37: FutureWarning: Passing a set as an indexer is deprecated and will raise in a future version. Use a list instead.\n",
      "  return pd.concat([outdf, df.get(noncanonical)], axis=1)\n",
      "/opt/venv/lib/python3.8/site-packages/pyranges/out.py:37: FutureWarning: Passing a set as an indexer is deprecated and will raise in a future version. Use a list instead.\n",
      "  return pd.concat([outdf, df.get(noncanonical)], axis=1)\n",
      "/opt/venv/lib/python3.8/site-packages/pyranges/out.py:37: FutureWarning: Passing a set as an indexer is deprecated and will raise in a future version. Use a list instead.\n",
      "  return pd.concat([outdf, df.get(noncanonical)], axis=1)\n",
      "/opt/venv/lib/python3.8/site-packages/pyranges/out.py:37: FutureWarning: Passing a set as an indexer is deprecated and will raise in a future version. Use a list instead.\n",
      "  return pd.concat([outdf, df.get(noncanonical)], axis=1)\n",
      "/opt/venv/lib/python3.8/site-packages/pyranges/out.py:37: FutureWarning: Passing a set as an indexer is deprecated and will raise in a future version. Use a list instead.\n",
      "  return pd.concat([outdf, df.get(noncanonical)], axis=1)\n",
      "/opt/venv/lib/python3.8/site-packages/pyranges/out.py:37: FutureWarning: Passing a set as an indexer is deprecated and will raise in a future version. Use a list instead.\n",
      "  return pd.concat([outdf, df.get(noncanonical)], axis=1)\n",
      "/opt/venv/lib/python3.8/site-packages/pyranges/out.py:37: FutureWarning: Passing a set as an indexer is deprecated and will raise in a future version. Use a list instead.\n",
      "  return pd.concat([outdf, df.get(noncanonical)], axis=1)\n",
      "/opt/venv/lib/python3.8/site-packages/pyranges/out.py:37: FutureWarning: Passing a set as an indexer is deprecated and will raise in a future version. Use a list instead.\n",
      "  return pd.concat([outdf, df.get(noncanonical)], axis=1)\n",
      "/opt/venv/lib/python3.8/site-packages/pyranges/out.py:37: FutureWarning: Passing a set as an indexer is deprecated and will raise in a future version. Use a list instead.\n",
      "  return pd.concat([outdf, df.get(noncanonical)], axis=1)\n",
      "/opt/venv/lib/python3.8/site-packages/pyranges/out.py:37: FutureWarning: Passing a set as an indexer is deprecated and will raise in a future version. Use a list instead.\n",
      "  return pd.concat([outdf, df.get(noncanonical)], axis=1)\n",
      "/opt/venv/lib/python3.8/site-packages/pyranges/out.py:37: FutureWarning: Passing a set as an indexer is deprecated and will raise in a future version. Use a list instead.\n",
      "  return pd.concat([outdf, df.get(noncanonical)], axis=1)\n",
      "/opt/venv/lib/python3.8/site-packages/pyranges/out.py:37: FutureWarning: Passing a set as an indexer is deprecated and will raise in a future version. Use a list instead.\n",
      "  return pd.concat([outdf, df.get(noncanonical)], axis=1)\n"
     ]
    },
    {
     "name": "stdout",
     "output_type": "stream",
     "text": [
      "hydrop_celltypefair_1.FIXEDCELLS\n"
     ]
    },
    {
     "name": "stderr",
     "output_type": "stream",
     "text": [
      "/opt/venv/lib/python3.8/site-packages/pyranges/methods/intersection.py:52: FutureWarning: In a future version, `df.iloc[:, i] = newvals` will attempt to set the values inplace instead of always setting a new array. To retain the old behavior, use either `df[df.columns[i]] = newvals` or, if columns are non-unique, `df.isetitem(i, newvals)`\n",
      "  scdf.loc[:, \"Start\"] = new_starts\n",
      "/opt/venv/lib/python3.8/site-packages/pyranges/methods/intersection.py:53: FutureWarning: In a future version, `df.iloc[:, i] = newvals` will attempt to set the values inplace instead of always setting a new array. To retain the old behavior, use either `df[df.columns[i]] = newvals` or, if columns are non-unique, `df.isetitem(i, newvals)`\n",
      "  scdf.loc[:, \"End\"] = new_ends\n",
      "/opt/venv/lib/python3.8/site-packages/pyranges/methods/intersection.py:52: FutureWarning: In a future version, `df.iloc[:, i] = newvals` will attempt to set the values inplace instead of always setting a new array. To retain the old behavior, use either `df[df.columns[i]] = newvals` or, if columns are non-unique, `df.isetitem(i, newvals)`\n",
      "  scdf.loc[:, \"Start\"] = new_starts\n",
      "/opt/venv/lib/python3.8/site-packages/pyranges/methods/intersection.py:53: FutureWarning: In a future version, `df.iloc[:, i] = newvals` will attempt to set the values inplace instead of always setting a new array. To retain the old behavior, use either `df[df.columns[i]] = newvals` or, if columns are non-unique, `df.isetitem(i, newvals)`\n",
      "  scdf.loc[:, \"End\"] = new_ends\n",
      "/opt/venv/lib/python3.8/site-packages/pyranges/methods/intersection.py:52: FutureWarning: In a future version, `df.iloc[:, i] = newvals` will attempt to set the values inplace instead of always setting a new array. To retain the old behavior, use either `df[df.columns[i]] = newvals` or, if columns are non-unique, `df.isetitem(i, newvals)`\n",
      "  scdf.loc[:, \"Start\"] = new_starts\n",
      "/opt/venv/lib/python3.8/site-packages/pyranges/methods/intersection.py:53: FutureWarning: In a future version, `df.iloc[:, i] = newvals` will attempt to set the values inplace instead of always setting a new array. To retain the old behavior, use either `df[df.columns[i]] = newvals` or, if columns are non-unique, `df.isetitem(i, newvals)`\n",
      "  scdf.loc[:, \"End\"] = new_ends\n",
      "/opt/venv/lib/python3.8/site-packages/pyranges/methods/intersection.py:52: FutureWarning: In a future version, `df.iloc[:, i] = newvals` will attempt to set the values inplace instead of always setting a new array. To retain the old behavior, use either `df[df.columns[i]] = newvals` or, if columns are non-unique, `df.isetitem(i, newvals)`\n",
      "  scdf.loc[:, \"Start\"] = new_starts\n",
      "/opt/venv/lib/python3.8/site-packages/pyranges/methods/intersection.py:53: FutureWarning: In a future version, `df.iloc[:, i] = newvals` will attempt to set the values inplace instead of always setting a new array. To retain the old behavior, use either `df[df.columns[i]] = newvals` or, if columns are non-unique, `df.isetitem(i, newvals)`\n",
      "  scdf.loc[:, \"End\"] = new_ends\n"
     ]
    },
    {
     "name": "stdout",
     "output_type": "stream",
     "text": [
      "Warning! Start and End columns now have different dtypes: int64 and int32\n"
     ]
    },
    {
     "name": "stderr",
     "output_type": "stream",
     "text": [
      "/opt/venv/lib/python3.8/site-packages/pyranges/out.py:37: FutureWarning: Passing a set as an indexer is deprecated and will raise in a future version. Use a list instead.\n",
      "  return pd.concat([outdf, df.get(noncanonical)], axis=1)\n",
      "/opt/venv/lib/python3.8/site-packages/pyranges/out.py:37: FutureWarning: Passing a set as an indexer is deprecated and will raise in a future version. Use a list instead.\n",
      "  return pd.concat([outdf, df.get(noncanonical)], axis=1)\n",
      "/opt/venv/lib/python3.8/site-packages/pyranges/out.py:37: FutureWarning: Passing a set as an indexer is deprecated and will raise in a future version. Use a list instead.\n",
      "  return pd.concat([outdf, df.get(noncanonical)], axis=1)\n",
      "/opt/venv/lib/python3.8/site-packages/pyranges/out.py:37: FutureWarning: Passing a set as an indexer is deprecated and will raise in a future version. Use a list instead.\n",
      "  return pd.concat([outdf, df.get(noncanonical)], axis=1)\n",
      "/opt/venv/lib/python3.8/site-packages/pyranges/out.py:37: FutureWarning: Passing a set as an indexer is deprecated and will raise in a future version. Use a list instead.\n",
      "  return pd.concat([outdf, df.get(noncanonical)], axis=1)\n",
      "/opt/venv/lib/python3.8/site-packages/pyranges/out.py:37: FutureWarning: Passing a set as an indexer is deprecated and will raise in a future version. Use a list instead.\n",
      "  return pd.concat([outdf, df.get(noncanonical)], axis=1)\n",
      "/opt/venv/lib/python3.8/site-packages/pyranges/out.py:37: FutureWarning: Passing a set as an indexer is deprecated and will raise in a future version. Use a list instead.\n",
      "  return pd.concat([outdf, df.get(noncanonical)], axis=1)\n",
      "/opt/venv/lib/python3.8/site-packages/pyranges/out.py:37: FutureWarning: Passing a set as an indexer is deprecated and will raise in a future version. Use a list instead.\n",
      "  return pd.concat([outdf, df.get(noncanonical)], axis=1)\n",
      "/opt/venv/lib/python3.8/site-packages/pyranges/out.py:37: FutureWarning: Passing a set as an indexer is deprecated and will raise in a future version. Use a list instead.\n",
      "  return pd.concat([outdf, df.get(noncanonical)], axis=1)\n",
      "/opt/venv/lib/python3.8/site-packages/pyranges/out.py:37: FutureWarning: Passing a set as an indexer is deprecated and will raise in a future version. Use a list instead.\n",
      "  return pd.concat([outdf, df.get(noncanonical)], axis=1)\n",
      "/opt/venv/lib/python3.8/site-packages/pyranges/out.py:37: FutureWarning: Passing a set as an indexer is deprecated and will raise in a future version. Use a list instead.\n",
      "  return pd.concat([outdf, df.get(noncanonical)], axis=1)\n",
      "/opt/venv/lib/python3.8/site-packages/pyranges/out.py:37: FutureWarning: Passing a set as an indexer is deprecated and will raise in a future version. Use a list instead.\n",
      "  return pd.concat([outdf, df.get(noncanonical)], axis=1)\n",
      "/opt/venv/lib/python3.8/site-packages/pyranges/out.py:37: FutureWarning: Passing a set as an indexer is deprecated and will raise in a future version. Use a list instead.\n",
      "  return pd.concat([outdf, df.get(noncanonical)], axis=1)\n",
      "/opt/venv/lib/python3.8/site-packages/pyranges/out.py:37: FutureWarning: Passing a set as an indexer is deprecated and will raise in a future version. Use a list instead.\n",
      "  return pd.concat([outdf, df.get(noncanonical)], axis=1)\n",
      "/opt/venv/lib/python3.8/site-packages/pyranges/out.py:37: FutureWarning: Passing a set as an indexer is deprecated and will raise in a future version. Use a list instead.\n",
      "  return pd.concat([outdf, df.get(noncanonical)], axis=1)\n",
      "/opt/venv/lib/python3.8/site-packages/pyranges/out.py:37: FutureWarning: Passing a set as an indexer is deprecated and will raise in a future version. Use a list instead.\n",
      "  return pd.concat([outdf, df.get(noncanonical)], axis=1)\n",
      "/opt/venv/lib/python3.8/site-packages/pyranges/out.py:37: FutureWarning: Passing a set as an indexer is deprecated and will raise in a future version. Use a list instead.\n",
      "  return pd.concat([outdf, df.get(noncanonical)], axis=1)\n",
      "/opt/venv/lib/python3.8/site-packages/pyranges/out.py:37: FutureWarning: Passing a set as an indexer is deprecated and will raise in a future version. Use a list instead.\n",
      "  return pd.concat([outdf, df.get(noncanonical)], axis=1)\n",
      "/opt/venv/lib/python3.8/site-packages/pyranges/out.py:37: FutureWarning: Passing a set as an indexer is deprecated and will raise in a future version. Use a list instead.\n",
      "  return pd.concat([outdf, df.get(noncanonical)], axis=1)\n",
      "/opt/venv/lib/python3.8/site-packages/pyranges/out.py:37: FutureWarning: Passing a set as an indexer is deprecated and will raise in a future version. Use a list instead.\n",
      "  return pd.concat([outdf, df.get(noncanonical)], axis=1)\n",
      "/opt/venv/lib/python3.8/site-packages/pyranges/out.py:37: FutureWarning: Passing a set as an indexer is deprecated and will raise in a future version. Use a list instead.\n",
      "  return pd.concat([outdf, df.get(noncanonical)], axis=1)\n",
      "/opt/venv/lib/python3.8/site-packages/pyranges/out.py:37: FutureWarning: Passing a set as an indexer is deprecated and will raise in a future version. Use a list instead.\n",
      "  return pd.concat([outdf, df.get(noncanonical)], axis=1)\n",
      "/opt/venv/lib/python3.8/site-packages/pyranges/out.py:37: FutureWarning: Passing a set as an indexer is deprecated and will raise in a future version. Use a list instead.\n",
      "  return pd.concat([outdf, df.get(noncanonical)], axis=1)\n",
      "/opt/venv/lib/python3.8/site-packages/pyranges/out.py:37: FutureWarning: Passing a set as an indexer is deprecated and will raise in a future version. Use a list instead.\n",
      "  return pd.concat([outdf, df.get(noncanonical)], axis=1)\n",
      "/opt/venv/lib/python3.8/site-packages/pyranges/out.py:37: FutureWarning: Passing a set as an indexer is deprecated and will raise in a future version. Use a list instead.\n",
      "  return pd.concat([outdf, df.get(noncanonical)], axis=1)\n",
      "/opt/venv/lib/python3.8/site-packages/pyranges/out.py:37: FutureWarning: Passing a set as an indexer is deprecated and will raise in a future version. Use a list instead.\n",
      "  return pd.concat([outdf, df.get(noncanonical)], axis=1)\n",
      "/opt/venv/lib/python3.8/site-packages/pyranges/out.py:37: FutureWarning: Passing a set as an indexer is deprecated and will raise in a future version. Use a list instead.\n",
      "  return pd.concat([outdf, df.get(noncanonical)], axis=1)\n",
      "/opt/venv/lib/python3.8/site-packages/pyranges/out.py:37: FutureWarning: Passing a set as an indexer is deprecated and will raise in a future version. Use a list instead.\n",
      "  return pd.concat([outdf, df.get(noncanonical)], axis=1)\n",
      "/opt/venv/lib/python3.8/site-packages/pyranges/out.py:37: FutureWarning: Passing a set as an indexer is deprecated and will raise in a future version. Use a list instead.\n",
      "  return pd.concat([outdf, df.get(noncanonical)], axis=1)\n",
      "/opt/venv/lib/python3.8/site-packages/pyranges/out.py:37: FutureWarning: Passing a set as an indexer is deprecated and will raise in a future version. Use a list instead.\n",
      "  return pd.concat([outdf, df.get(noncanonical)], axis=1)\n",
      "/opt/venv/lib/python3.8/site-packages/pyranges/out.py:37: FutureWarning: Passing a set as an indexer is deprecated and will raise in a future version. Use a list instead.\n",
      "  return pd.concat([outdf, df.get(noncanonical)], axis=1)\n",
      "/opt/venv/lib/python3.8/site-packages/pyranges/out.py:37: FutureWarning: Passing a set as an indexer is deprecated and will raise in a future version. Use a list instead.\n",
      "  return pd.concat([outdf, df.get(noncanonical)], axis=1)\n",
      "/opt/venv/lib/python3.8/site-packages/pyranges/out.py:37: FutureWarning: Passing a set as an indexer is deprecated and will raise in a future version. Use a list instead.\n",
      "  return pd.concat([outdf, df.get(noncanonical)], axis=1)\n",
      "/opt/venv/lib/python3.8/site-packages/pyranges/out.py:37: FutureWarning: Passing a set as an indexer is deprecated and will raise in a future version. Use a list instead.\n",
      "  return pd.concat([outdf, df.get(noncanonical)], axis=1)\n",
      "/opt/venv/lib/python3.8/site-packages/pyranges/out.py:37: FutureWarning: Passing a set as an indexer is deprecated and will raise in a future version. Use a list instead.\n",
      "  return pd.concat([outdf, df.get(noncanonical)], axis=1)\n",
      "/opt/venv/lib/python3.8/site-packages/pyranges/out.py:37: FutureWarning: Passing a set as an indexer is deprecated and will raise in a future version. Use a list instead.\n",
      "  return pd.concat([outdf, df.get(noncanonical)], axis=1)\n",
      "/opt/venv/lib/python3.8/site-packages/pyranges/out.py:37: FutureWarning: Passing a set as an indexer is deprecated and will raise in a future version. Use a list instead.\n",
      "  return pd.concat([outdf, df.get(noncanonical)], axis=1)\n",
      "/opt/venv/lib/python3.8/site-packages/pyranges/out.py:37: FutureWarning: Passing a set as an indexer is deprecated and will raise in a future version. Use a list instead.\n",
      "  return pd.concat([outdf, df.get(noncanonical)], axis=1)\n",
      "/opt/venv/lib/python3.8/site-packages/pyranges/out.py:37: FutureWarning: Passing a set as an indexer is deprecated and will raise in a future version. Use a list instead.\n",
      "  return pd.concat([outdf, df.get(noncanonical)], axis=1)\n",
      "/opt/venv/lib/python3.8/site-packages/pyranges/out.py:37: FutureWarning: Passing a set as an indexer is deprecated and will raise in a future version. Use a list instead.\n",
      "  return pd.concat([outdf, df.get(noncanonical)], axis=1)\n",
      "/opt/venv/lib/python3.8/site-packages/pyranges/out.py:37: FutureWarning: Passing a set as an indexer is deprecated and will raise in a future version. Use a list instead.\n",
      "  return pd.concat([outdf, df.get(noncanonical)], axis=1)\n",
      "/opt/venv/lib/python3.8/site-packages/pyranges/out.py:37: FutureWarning: Passing a set as an indexer is deprecated and will raise in a future version. Use a list instead.\n",
      "  return pd.concat([outdf, df.get(noncanonical)], axis=1)\n",
      "/opt/venv/lib/python3.8/site-packages/pyranges/out.py:37: FutureWarning: Passing a set as an indexer is deprecated and will raise in a future version. Use a list instead.\n",
      "  return pd.concat([outdf, df.get(noncanonical)], axis=1)\n",
      "/opt/venv/lib/python3.8/site-packages/pyranges/out.py:37: FutureWarning: Passing a set as an indexer is deprecated and will raise in a future version. Use a list instead.\n",
      "  return pd.concat([outdf, df.get(noncanonical)], axis=1)\n",
      "/opt/venv/lib/python3.8/site-packages/pyranges/out.py:37: FutureWarning: Passing a set as an indexer is deprecated and will raise in a future version. Use a list instead.\n",
      "  return pd.concat([outdf, df.get(noncanonical)], axis=1)\n",
      "/opt/venv/lib/python3.8/site-packages/pyranges/out.py:37: FutureWarning: Passing a set as an indexer is deprecated and will raise in a future version. Use a list instead.\n",
      "  return pd.concat([outdf, df.get(noncanonical)], axis=1)\n",
      "/opt/venv/lib/python3.8/site-packages/pyranges/out.py:37: FutureWarning: Passing a set as an indexer is deprecated and will raise in a future version. Use a list instead.\n",
      "  return pd.concat([outdf, df.get(noncanonical)], axis=1)\n",
      "/opt/venv/lib/python3.8/site-packages/pyranges/out.py:37: FutureWarning: Passing a set as an indexer is deprecated and will raise in a future version. Use a list instead.\n",
      "  return pd.concat([outdf, df.get(noncanonical)], axis=1)\n",
      "/opt/venv/lib/python3.8/site-packages/pyranges/out.py:37: FutureWarning: Passing a set as an indexer is deprecated and will raise in a future version. Use a list instead.\n",
      "  return pd.concat([outdf, df.get(noncanonical)], axis=1)\n",
      "/opt/venv/lib/python3.8/site-packages/pyranges/out.py:37: FutureWarning: Passing a set as an indexer is deprecated and will raise in a future version. Use a list instead.\n",
      "  return pd.concat([outdf, df.get(noncanonical)], axis=1)\n",
      "/opt/venv/lib/python3.8/site-packages/pyranges/out.py:37: FutureWarning: Passing a set as an indexer is deprecated and will raise in a future version. Use a list instead.\n",
      "  return pd.concat([outdf, df.get(noncanonical)], axis=1)\n",
      "/opt/venv/lib/python3.8/site-packages/pyranges/out.py:37: FutureWarning: Passing a set as an indexer is deprecated and will raise in a future version. Use a list instead.\n",
      "  return pd.concat([outdf, df.get(noncanonical)], axis=1)\n",
      "/opt/venv/lib/python3.8/site-packages/pyranges/out.py:37: FutureWarning: Passing a set as an indexer is deprecated and will raise in a future version. Use a list instead.\n",
      "  return pd.concat([outdf, df.get(noncanonical)], axis=1)\n",
      "/opt/venv/lib/python3.8/site-packages/pyranges/out.py:37: FutureWarning: Passing a set as an indexer is deprecated and will raise in a future version. Use a list instead.\n",
      "  return pd.concat([outdf, df.get(noncanonical)], axis=1)\n",
      "/opt/venv/lib/python3.8/site-packages/pyranges/out.py:37: FutureWarning: Passing a set as an indexer is deprecated and will raise in a future version. Use a list instead.\n",
      "  return pd.concat([outdf, df.get(noncanonical)], axis=1)\n",
      "/opt/venv/lib/python3.8/site-packages/pyranges/out.py:37: FutureWarning: Passing a set as an indexer is deprecated and will raise in a future version. Use a list instead.\n",
      "  return pd.concat([outdf, df.get(noncanonical)], axis=1)\n",
      "/opt/venv/lib/python3.8/site-packages/pyranges/out.py:37: FutureWarning: Passing a set as an indexer is deprecated and will raise in a future version. Use a list instead.\n",
      "  return pd.concat([outdf, df.get(noncanonical)], axis=1)\n",
      "/opt/venv/lib/python3.8/site-packages/pyranges/out.py:37: FutureWarning: Passing a set as an indexer is deprecated and will raise in a future version. Use a list instead.\n",
      "  return pd.concat([outdf, df.get(noncanonical)], axis=1)\n",
      "/opt/venv/lib/python3.8/site-packages/pyranges/out.py:37: FutureWarning: Passing a set as an indexer is deprecated and will raise in a future version. Use a list instead.\n",
      "  return pd.concat([outdf, df.get(noncanonical)], axis=1)\n",
      "/opt/venv/lib/python3.8/site-packages/pyranges/out.py:37: FutureWarning: Passing a set as an indexer is deprecated and will raise in a future version. Use a list instead.\n",
      "  return pd.concat([outdf, df.get(noncanonical)], axis=1)\n",
      "/opt/venv/lib/python3.8/site-packages/pyranges/out.py:37: FutureWarning: Passing a set as an indexer is deprecated and will raise in a future version. Use a list instead.\n",
      "  return pd.concat([outdf, df.get(noncanonical)], axis=1)\n",
      "/opt/venv/lib/python3.8/site-packages/pyranges/out.py:37: FutureWarning: Passing a set as an indexer is deprecated and will raise in a future version. Use a list instead.\n",
      "  return pd.concat([outdf, df.get(noncanonical)], axis=1)\n",
      "/opt/venv/lib/python3.8/site-packages/pyranges/out.py:37: FutureWarning: Passing a set as an indexer is deprecated and will raise in a future version. Use a list instead.\n",
      "  return pd.concat([outdf, df.get(noncanonical)], axis=1)\n",
      "/opt/venv/lib/python3.8/site-packages/pyranges/out.py:37: FutureWarning: Passing a set as an indexer is deprecated and will raise in a future version. Use a list instead.\n",
      "  return pd.concat([outdf, df.get(noncanonical)], axis=1)\n",
      "/opt/venv/lib/python3.8/site-packages/pyranges/out.py:37: FutureWarning: Passing a set as an indexer is deprecated and will raise in a future version. Use a list instead.\n",
      "  return pd.concat([outdf, df.get(noncanonical)], axis=1)\n"
     ]
    },
    {
     "name": "stdout",
     "output_type": "stream",
     "text": [
      "mtscatac_celltypefair_1.FIXEDCELLS\n"
     ]
    },
    {
     "name": "stderr",
     "output_type": "stream",
     "text": [
      "/opt/venv/lib/python3.8/site-packages/pyranges/methods/intersection.py:52: FutureWarning: In a future version, `df.iloc[:, i] = newvals` will attempt to set the values inplace instead of always setting a new array. To retain the old behavior, use either `df[df.columns[i]] = newvals` or, if columns are non-unique, `df.isetitem(i, newvals)`\n",
      "  scdf.loc[:, \"Start\"] = new_starts\n",
      "/opt/venv/lib/python3.8/site-packages/pyranges/methods/intersection.py:53: FutureWarning: In a future version, `df.iloc[:, i] = newvals` will attempt to set the values inplace instead of always setting a new array. To retain the old behavior, use either `df[df.columns[i]] = newvals` or, if columns are non-unique, `df.isetitem(i, newvals)`\n",
      "  scdf.loc[:, \"End\"] = new_ends\n",
      "/opt/venv/lib/python3.8/site-packages/pyranges/methods/intersection.py:52: FutureWarning: In a future version, `df.iloc[:, i] = newvals` will attempt to set the values inplace instead of always setting a new array. To retain the old behavior, use either `df[df.columns[i]] = newvals` or, if columns are non-unique, `df.isetitem(i, newvals)`\n",
      "  scdf.loc[:, \"Start\"] = new_starts\n",
      "/opt/venv/lib/python3.8/site-packages/pyranges/methods/intersection.py:53: FutureWarning: In a future version, `df.iloc[:, i] = newvals` will attempt to set the values inplace instead of always setting a new array. To retain the old behavior, use either `df[df.columns[i]] = newvals` or, if columns are non-unique, `df.isetitem(i, newvals)`\n",
      "  scdf.loc[:, \"End\"] = new_ends\n",
      "/opt/venv/lib/python3.8/site-packages/pyranges/methods/intersection.py:52: FutureWarning: In a future version, `df.iloc[:, i] = newvals` will attempt to set the values inplace instead of always setting a new array. To retain the old behavior, use either `df[df.columns[i]] = newvals` or, if columns are non-unique, `df.isetitem(i, newvals)`\n",
      "  scdf.loc[:, \"Start\"] = new_starts\n",
      "/opt/venv/lib/python3.8/site-packages/pyranges/methods/intersection.py:53: FutureWarning: In a future version, `df.iloc[:, i] = newvals` will attempt to set the values inplace instead of always setting a new array. To retain the old behavior, use either `df[df.columns[i]] = newvals` or, if columns are non-unique, `df.isetitem(i, newvals)`\n",
      "  scdf.loc[:, \"End\"] = new_ends\n",
      "/opt/venv/lib/python3.8/site-packages/pyranges/methods/intersection.py:52: FutureWarning: In a future version, `df.iloc[:, i] = newvals` will attempt to set the values inplace instead of always setting a new array. To retain the old behavior, use either `df[df.columns[i]] = newvals` or, if columns are non-unique, `df.isetitem(i, newvals)`\n",
      "  scdf.loc[:, \"Start\"] = new_starts\n",
      "/opt/venv/lib/python3.8/site-packages/pyranges/methods/intersection.py:53: FutureWarning: In a future version, `df.iloc[:, i] = newvals` will attempt to set the values inplace instead of always setting a new array. To retain the old behavior, use either `df[df.columns[i]] = newvals` or, if columns are non-unique, `df.isetitem(i, newvals)`\n",
      "  scdf.loc[:, \"End\"] = new_ends\n",
      "/opt/venv/lib/python3.8/site-packages/pyranges/methods/intersection.py:52: FutureWarning: In a future version, `df.iloc[:, i] = newvals` will attempt to set the values inplace instead of always setting a new array. To retain the old behavior, use either `df[df.columns[i]] = newvals` or, if columns are non-unique, `df.isetitem(i, newvals)`\n",
      "  scdf.loc[:, \"Start\"] = new_starts\n",
      "/opt/venv/lib/python3.8/site-packages/pyranges/methods/intersection.py:53: FutureWarning: In a future version, `df.iloc[:, i] = newvals` will attempt to set the values inplace instead of always setting a new array. To retain the old behavior, use either `df[df.columns[i]] = newvals` or, if columns are non-unique, `df.isetitem(i, newvals)`\n",
      "  scdf.loc[:, \"End\"] = new_ends\n",
      "/opt/venv/lib/python3.8/site-packages/pyranges/methods/intersection.py:52: FutureWarning: In a future version, `df.iloc[:, i] = newvals` will attempt to set the values inplace instead of always setting a new array. To retain the old behavior, use either `df[df.columns[i]] = newvals` or, if columns are non-unique, `df.isetitem(i, newvals)`\n",
      "  scdf.loc[:, \"Start\"] = new_starts\n",
      "/opt/venv/lib/python3.8/site-packages/pyranges/methods/intersection.py:53: FutureWarning: In a future version, `df.iloc[:, i] = newvals` will attempt to set the values inplace instead of always setting a new array. To retain the old behavior, use either `df[df.columns[i]] = newvals` or, if columns are non-unique, `df.isetitem(i, newvals)`\n",
      "  scdf.loc[:, \"End\"] = new_ends\n",
      "/opt/venv/lib/python3.8/site-packages/pyranges/methods/intersection.py:52: FutureWarning: In a future version, `df.iloc[:, i] = newvals` will attempt to set the values inplace instead of always setting a new array. To retain the old behavior, use either `df[df.columns[i]] = newvals` or, if columns are non-unique, `df.isetitem(i, newvals)`\n",
      "  scdf.loc[:, \"Start\"] = new_starts\n",
      "/opt/venv/lib/python3.8/site-packages/pyranges/methods/intersection.py:53: FutureWarning: In a future version, `df.iloc[:, i] = newvals` will attempt to set the values inplace instead of always setting a new array. To retain the old behavior, use either `df[df.columns[i]] = newvals` or, if columns are non-unique, `df.isetitem(i, newvals)`\n",
      "  scdf.loc[:, \"End\"] = new_ends\n",
      "/opt/venv/lib/python3.8/site-packages/pyranges/methods/intersection.py:52: FutureWarning: In a future version, `df.iloc[:, i] = newvals` will attempt to set the values inplace instead of always setting a new array. To retain the old behavior, use either `df[df.columns[i]] = newvals` or, if columns are non-unique, `df.isetitem(i, newvals)`\n",
      "  scdf.loc[:, \"Start\"] = new_starts\n",
      "/opt/venv/lib/python3.8/site-packages/pyranges/methods/intersection.py:53: FutureWarning: In a future version, `df.iloc[:, i] = newvals` will attempt to set the values inplace instead of always setting a new array. To retain the old behavior, use either `df[df.columns[i]] = newvals` or, if columns are non-unique, `df.isetitem(i, newvals)`\n",
      "  scdf.loc[:, \"End\"] = new_ends\n",
      "/opt/venv/lib/python3.8/site-packages/pyranges/methods/intersection.py:52: FutureWarning: In a future version, `df.iloc[:, i] = newvals` will attempt to set the values inplace instead of always setting a new array. To retain the old behavior, use either `df[df.columns[i]] = newvals` or, if columns are non-unique, `df.isetitem(i, newvals)`\n",
      "  scdf.loc[:, \"Start\"] = new_starts\n",
      "/opt/venv/lib/python3.8/site-packages/pyranges/methods/intersection.py:53: FutureWarning: In a future version, `df.iloc[:, i] = newvals` will attempt to set the values inplace instead of always setting a new array. To retain the old behavior, use either `df[df.columns[i]] = newvals` or, if columns are non-unique, `df.isetitem(i, newvals)`\n",
      "  scdf.loc[:, \"End\"] = new_ends\n"
     ]
    },
    {
     "name": "stdout",
     "output_type": "stream",
     "text": [
      "Warning! Start and End columns now have different dtypes: int64 and int32\n"
     ]
    },
    {
     "name": "stderr",
     "output_type": "stream",
     "text": [
      "/opt/venv/lib/python3.8/site-packages/pyranges/out.py:37: FutureWarning: Passing a set as an indexer is deprecated and will raise in a future version. Use a list instead.\n",
      "  return pd.concat([outdf, df.get(noncanonical)], axis=1)\n",
      "/opt/venv/lib/python3.8/site-packages/pyranges/out.py:37: FutureWarning: Passing a set as an indexer is deprecated and will raise in a future version. Use a list instead.\n",
      "  return pd.concat([outdf, df.get(noncanonical)], axis=1)\n",
      "/opt/venv/lib/python3.8/site-packages/pyranges/out.py:37: FutureWarning: Passing a set as an indexer is deprecated and will raise in a future version. Use a list instead.\n",
      "  return pd.concat([outdf, df.get(noncanonical)], axis=1)\n",
      "/opt/venv/lib/python3.8/site-packages/pyranges/out.py:37: FutureWarning: Passing a set as an indexer is deprecated and will raise in a future version. Use a list instead.\n",
      "  return pd.concat([outdf, df.get(noncanonical)], axis=1)\n",
      "/opt/venv/lib/python3.8/site-packages/pyranges/out.py:37: FutureWarning: Passing a set as an indexer is deprecated and will raise in a future version. Use a list instead.\n",
      "  return pd.concat([outdf, df.get(noncanonical)], axis=1)\n",
      "/opt/venv/lib/python3.8/site-packages/pyranges/out.py:37: FutureWarning: Passing a set as an indexer is deprecated and will raise in a future version. Use a list instead.\n",
      "  return pd.concat([outdf, df.get(noncanonical)], axis=1)\n",
      "/opt/venv/lib/python3.8/site-packages/pyranges/out.py:37: FutureWarning: Passing a set as an indexer is deprecated and will raise in a future version. Use a list instead.\n",
      "  return pd.concat([outdf, df.get(noncanonical)], axis=1)\n",
      "/opt/venv/lib/python3.8/site-packages/pyranges/out.py:37: FutureWarning: Passing a set as an indexer is deprecated and will raise in a future version. Use a list instead.\n",
      "  return pd.concat([outdf, df.get(noncanonical)], axis=1)\n",
      "/opt/venv/lib/python3.8/site-packages/pyranges/out.py:37: FutureWarning: Passing a set as an indexer is deprecated and will raise in a future version. Use a list instead.\n",
      "  return pd.concat([outdf, df.get(noncanonical)], axis=1)\n",
      "/opt/venv/lib/python3.8/site-packages/pyranges/out.py:37: FutureWarning: Passing a set as an indexer is deprecated and will raise in a future version. Use a list instead.\n",
      "  return pd.concat([outdf, df.get(noncanonical)], axis=1)\n",
      "/opt/venv/lib/python3.8/site-packages/pyranges/out.py:37: FutureWarning: Passing a set as an indexer is deprecated and will raise in a future version. Use a list instead.\n",
      "  return pd.concat([outdf, df.get(noncanonical)], axis=1)\n",
      "/opt/venv/lib/python3.8/site-packages/pyranges/out.py:37: FutureWarning: Passing a set as an indexer is deprecated and will raise in a future version. Use a list instead.\n",
      "  return pd.concat([outdf, df.get(noncanonical)], axis=1)\n",
      "/opt/venv/lib/python3.8/site-packages/pyranges/out.py:37: FutureWarning: Passing a set as an indexer is deprecated and will raise in a future version. Use a list instead.\n",
      "  return pd.concat([outdf, df.get(noncanonical)], axis=1)\n",
      "/opt/venv/lib/python3.8/site-packages/pyranges/out.py:37: FutureWarning: Passing a set as an indexer is deprecated and will raise in a future version. Use a list instead.\n",
      "  return pd.concat([outdf, df.get(noncanonical)], axis=1)\n",
      "/opt/venv/lib/python3.8/site-packages/pyranges/out.py:37: FutureWarning: Passing a set as an indexer is deprecated and will raise in a future version. Use a list instead.\n",
      "  return pd.concat([outdf, df.get(noncanonical)], axis=1)\n",
      "/opt/venv/lib/python3.8/site-packages/pyranges/out.py:37: FutureWarning: Passing a set as an indexer is deprecated and will raise in a future version. Use a list instead.\n",
      "  return pd.concat([outdf, df.get(noncanonical)], axis=1)\n",
      "/opt/venv/lib/python3.8/site-packages/pyranges/out.py:37: FutureWarning: Passing a set as an indexer is deprecated and will raise in a future version. Use a list instead.\n",
      "  return pd.concat([outdf, df.get(noncanonical)], axis=1)\n",
      "/opt/venv/lib/python3.8/site-packages/pyranges/out.py:37: FutureWarning: Passing a set as an indexer is deprecated and will raise in a future version. Use a list instead.\n",
      "  return pd.concat([outdf, df.get(noncanonical)], axis=1)\n",
      "/opt/venv/lib/python3.8/site-packages/pyranges/out.py:37: FutureWarning: Passing a set as an indexer is deprecated and will raise in a future version. Use a list instead.\n",
      "  return pd.concat([outdf, df.get(noncanonical)], axis=1)\n",
      "/opt/venv/lib/python3.8/site-packages/pyranges/out.py:37: FutureWarning: Passing a set as an indexer is deprecated and will raise in a future version. Use a list instead.\n",
      "  return pd.concat([outdf, df.get(noncanonical)], axis=1)\n",
      "/opt/venv/lib/python3.8/site-packages/pyranges/out.py:37: FutureWarning: Passing a set as an indexer is deprecated and will raise in a future version. Use a list instead.\n",
      "  return pd.concat([outdf, df.get(noncanonical)], axis=1)\n",
      "/opt/venv/lib/python3.8/site-packages/pyranges/out.py:37: FutureWarning: Passing a set as an indexer is deprecated and will raise in a future version. Use a list instead.\n",
      "  return pd.concat([outdf, df.get(noncanonical)], axis=1)\n",
      "/opt/venv/lib/python3.8/site-packages/pyranges/out.py:37: FutureWarning: Passing a set as an indexer is deprecated and will raise in a future version. Use a list instead.\n",
      "  return pd.concat([outdf, df.get(noncanonical)], axis=1)\n",
      "/opt/venv/lib/python3.8/site-packages/pyranges/out.py:37: FutureWarning: Passing a set as an indexer is deprecated and will raise in a future version. Use a list instead.\n",
      "  return pd.concat([outdf, df.get(noncanonical)], axis=1)\n",
      "/opt/venv/lib/python3.8/site-packages/pyranges/out.py:37: FutureWarning: Passing a set as an indexer is deprecated and will raise in a future version. Use a list instead.\n",
      "  return pd.concat([outdf, df.get(noncanonical)], axis=1)\n",
      "/opt/venv/lib/python3.8/site-packages/pyranges/out.py:37: FutureWarning: Passing a set as an indexer is deprecated and will raise in a future version. Use a list instead.\n",
      "  return pd.concat([outdf, df.get(noncanonical)], axis=1)\n",
      "/opt/venv/lib/python3.8/site-packages/pyranges/out.py:37: FutureWarning: Passing a set as an indexer is deprecated and will raise in a future version. Use a list instead.\n",
      "  return pd.concat([outdf, df.get(noncanonical)], axis=1)\n",
      "/opt/venv/lib/python3.8/site-packages/pyranges/out.py:37: FutureWarning: Passing a set as an indexer is deprecated and will raise in a future version. Use a list instead.\n",
      "  return pd.concat([outdf, df.get(noncanonical)], axis=1)\n",
      "/opt/venv/lib/python3.8/site-packages/pyranges/out.py:37: FutureWarning: Passing a set as an indexer is deprecated and will raise in a future version. Use a list instead.\n",
      "  return pd.concat([outdf, df.get(noncanonical)], axis=1)\n",
      "/opt/venv/lib/python3.8/site-packages/pyranges/out.py:37: FutureWarning: Passing a set as an indexer is deprecated and will raise in a future version. Use a list instead.\n",
      "  return pd.concat([outdf, df.get(noncanonical)], axis=1)\n",
      "/opt/venv/lib/python3.8/site-packages/pyranges/out.py:37: FutureWarning: Passing a set as an indexer is deprecated and will raise in a future version. Use a list instead.\n",
      "  return pd.concat([outdf, df.get(noncanonical)], axis=1)\n",
      "/opt/venv/lib/python3.8/site-packages/pyranges/out.py:37: FutureWarning: Passing a set as an indexer is deprecated and will raise in a future version. Use a list instead.\n",
      "  return pd.concat([outdf, df.get(noncanonical)], axis=1)\n",
      "/opt/venv/lib/python3.8/site-packages/pyranges/out.py:37: FutureWarning: Passing a set as an indexer is deprecated and will raise in a future version. Use a list instead.\n",
      "  return pd.concat([outdf, df.get(noncanonical)], axis=1)\n",
      "/opt/venv/lib/python3.8/site-packages/pyranges/out.py:37: FutureWarning: Passing a set as an indexer is deprecated and will raise in a future version. Use a list instead.\n",
      "  return pd.concat([outdf, df.get(noncanonical)], axis=1)\n",
      "/opt/venv/lib/python3.8/site-packages/pyranges/out.py:37: FutureWarning: Passing a set as an indexer is deprecated and will raise in a future version. Use a list instead.\n",
      "  return pd.concat([outdf, df.get(noncanonical)], axis=1)\n",
      "/opt/venv/lib/python3.8/site-packages/pyranges/out.py:37: FutureWarning: Passing a set as an indexer is deprecated and will raise in a future version. Use a list instead.\n",
      "  return pd.concat([outdf, df.get(noncanonical)], axis=1)\n",
      "/opt/venv/lib/python3.8/site-packages/pyranges/out.py:37: FutureWarning: Passing a set as an indexer is deprecated and will raise in a future version. Use a list instead.\n",
      "  return pd.concat([outdf, df.get(noncanonical)], axis=1)\n",
      "/opt/venv/lib/python3.8/site-packages/pyranges/out.py:37: FutureWarning: Passing a set as an indexer is deprecated and will raise in a future version. Use a list instead.\n",
      "  return pd.concat([outdf, df.get(noncanonical)], axis=1)\n",
      "/opt/venv/lib/python3.8/site-packages/pyranges/out.py:37: FutureWarning: Passing a set as an indexer is deprecated and will raise in a future version. Use a list instead.\n",
      "  return pd.concat([outdf, df.get(noncanonical)], axis=1)\n",
      "/opt/venv/lib/python3.8/site-packages/pyranges/out.py:37: FutureWarning: Passing a set as an indexer is deprecated and will raise in a future version. Use a list instead.\n",
      "  return pd.concat([outdf, df.get(noncanonical)], axis=1)\n",
      "/opt/venv/lib/python3.8/site-packages/pyranges/out.py:37: FutureWarning: Passing a set as an indexer is deprecated and will raise in a future version. Use a list instead.\n",
      "  return pd.concat([outdf, df.get(noncanonical)], axis=1)\n",
      "/opt/venv/lib/python3.8/site-packages/pyranges/out.py:37: FutureWarning: Passing a set as an indexer is deprecated and will raise in a future version. Use a list instead.\n",
      "  return pd.concat([outdf, df.get(noncanonical)], axis=1)\n",
      "/opt/venv/lib/python3.8/site-packages/pyranges/out.py:37: FutureWarning: Passing a set as an indexer is deprecated and will raise in a future version. Use a list instead.\n",
      "  return pd.concat([outdf, df.get(noncanonical)], axis=1)\n",
      "/opt/venv/lib/python3.8/site-packages/pyranges/out.py:37: FutureWarning: Passing a set as an indexer is deprecated and will raise in a future version. Use a list instead.\n",
      "  return pd.concat([outdf, df.get(noncanonical)], axis=1)\n",
      "/opt/venv/lib/python3.8/site-packages/pyranges/out.py:37: FutureWarning: Passing a set as an indexer is deprecated and will raise in a future version. Use a list instead.\n",
      "  return pd.concat([outdf, df.get(noncanonical)], axis=1)\n",
      "/opt/venv/lib/python3.8/site-packages/pyranges/out.py:37: FutureWarning: Passing a set as an indexer is deprecated and will raise in a future version. Use a list instead.\n",
      "  return pd.concat([outdf, df.get(noncanonical)], axis=1)\n",
      "/opt/venv/lib/python3.8/site-packages/pyranges/out.py:37: FutureWarning: Passing a set as an indexer is deprecated and will raise in a future version. Use a list instead.\n",
      "  return pd.concat([outdf, df.get(noncanonical)], axis=1)\n",
      "/opt/venv/lib/python3.8/site-packages/pyranges/out.py:37: FutureWarning: Passing a set as an indexer is deprecated and will raise in a future version. Use a list instead.\n",
      "  return pd.concat([outdf, df.get(noncanonical)], axis=1)\n",
      "/opt/venv/lib/python3.8/site-packages/pyranges/out.py:37: FutureWarning: Passing a set as an indexer is deprecated and will raise in a future version. Use a list instead.\n",
      "  return pd.concat([outdf, df.get(noncanonical)], axis=1)\n",
      "/opt/venv/lib/python3.8/site-packages/pyranges/out.py:37: FutureWarning: Passing a set as an indexer is deprecated and will raise in a future version. Use a list instead.\n",
      "  return pd.concat([outdf, df.get(noncanonical)], axis=1)\n",
      "/opt/venv/lib/python3.8/site-packages/pyranges/out.py:37: FutureWarning: Passing a set as an indexer is deprecated and will raise in a future version. Use a list instead.\n",
      "  return pd.concat([outdf, df.get(noncanonical)], axis=1)\n",
      "/opt/venv/lib/python3.8/site-packages/pyranges/out.py:37: FutureWarning: Passing a set as an indexer is deprecated and will raise in a future version. Use a list instead.\n",
      "  return pd.concat([outdf, df.get(noncanonical)], axis=1)\n",
      "/opt/venv/lib/python3.8/site-packages/pyranges/out.py:37: FutureWarning: Passing a set as an indexer is deprecated and will raise in a future version. Use a list instead.\n",
      "  return pd.concat([outdf, df.get(noncanonical)], axis=1)\n",
      "/opt/venv/lib/python3.8/site-packages/pyranges/out.py:37: FutureWarning: Passing a set as an indexer is deprecated and will raise in a future version. Use a list instead.\n",
      "  return pd.concat([outdf, df.get(noncanonical)], axis=1)\n",
      "/opt/venv/lib/python3.8/site-packages/pyranges/out.py:37: FutureWarning: Passing a set as an indexer is deprecated and will raise in a future version. Use a list instead.\n",
      "  return pd.concat([outdf, df.get(noncanonical)], axis=1)\n",
      "/opt/venv/lib/python3.8/site-packages/pyranges/out.py:37: FutureWarning: Passing a set as an indexer is deprecated and will raise in a future version. Use a list instead.\n",
      "  return pd.concat([outdf, df.get(noncanonical)], axis=1)\n",
      "/opt/venv/lib/python3.8/site-packages/pyranges/out.py:37: FutureWarning: Passing a set as an indexer is deprecated and will raise in a future version. Use a list instead.\n",
      "  return pd.concat([outdf, df.get(noncanonical)], axis=1)\n",
      "/opt/venv/lib/python3.8/site-packages/pyranges/out.py:37: FutureWarning: Passing a set as an indexer is deprecated and will raise in a future version. Use a list instead.\n",
      "  return pd.concat([outdf, df.get(noncanonical)], axis=1)\n",
      "/opt/venv/lib/python3.8/site-packages/pyranges/out.py:37: FutureWarning: Passing a set as an indexer is deprecated and will raise in a future version. Use a list instead.\n",
      "  return pd.concat([outdf, df.get(noncanonical)], axis=1)\n",
      "/opt/venv/lib/python3.8/site-packages/pyranges/out.py:37: FutureWarning: Passing a set as an indexer is deprecated and will raise in a future version. Use a list instead.\n",
      "  return pd.concat([outdf, df.get(noncanonical)], axis=1)\n",
      "/opt/venv/lib/python3.8/site-packages/pyranges/out.py:37: FutureWarning: Passing a set as an indexer is deprecated and will raise in a future version. Use a list instead.\n",
      "  return pd.concat([outdf, df.get(noncanonical)], axis=1)\n",
      "/opt/venv/lib/python3.8/site-packages/pyranges/out.py:37: FutureWarning: Passing a set as an indexer is deprecated and will raise in a future version. Use a list instead.\n",
      "  return pd.concat([outdf, df.get(noncanonical)], axis=1)\n",
      "/opt/venv/lib/python3.8/site-packages/pyranges/out.py:37: FutureWarning: Passing a set as an indexer is deprecated and will raise in a future version. Use a list instead.\n",
      "  return pd.concat([outdf, df.get(noncanonical)], axis=1)\n",
      "/opt/venv/lib/python3.8/site-packages/pyranges/out.py:37: FutureWarning: Passing a set as an indexer is deprecated and will raise in a future version. Use a list instead.\n",
      "  return pd.concat([outdf, df.get(noncanonical)], axis=1)\n",
      "/opt/venv/lib/python3.8/site-packages/pyranges/out.py:37: FutureWarning: Passing a set as an indexer is deprecated and will raise in a future version. Use a list instead.\n",
      "  return pd.concat([outdf, df.get(noncanonical)], axis=1)\n",
      "/opt/venv/lib/python3.8/site-packages/pyranges/out.py:37: FutureWarning: Passing a set as an indexer is deprecated and will raise in a future version. Use a list instead.\n",
      "  return pd.concat([outdf, df.get(noncanonical)], axis=1)\n",
      "/opt/venv/lib/python3.8/site-packages/pyranges/out.py:37: FutureWarning: Passing a set as an indexer is deprecated and will raise in a future version. Use a list instead.\n",
      "  return pd.concat([outdf, df.get(noncanonical)], axis=1)\n",
      "/opt/venv/lib/python3.8/site-packages/pyranges/out.py:37: FutureWarning: Passing a set as an indexer is deprecated and will raise in a future version. Use a list instead.\n",
      "  return pd.concat([outdf, df.get(noncanonical)], axis=1)\n",
      "/opt/venv/lib/python3.8/site-packages/pyranges/out.py:37: FutureWarning: Passing a set as an indexer is deprecated and will raise in a future version. Use a list instead.\n",
      "  return pd.concat([outdf, df.get(noncanonical)], axis=1)\n",
      "/opt/venv/lib/python3.8/site-packages/pyranges/out.py:37: FutureWarning: Passing a set as an indexer is deprecated and will raise in a future version. Use a list instead.\n",
      "  return pd.concat([outdf, df.get(noncanonical)], axis=1)\n",
      "/opt/venv/lib/python3.8/site-packages/pyranges/out.py:37: FutureWarning: Passing a set as an indexer is deprecated and will raise in a future version. Use a list instead.\n",
      "  return pd.concat([outdf, df.get(noncanonical)], axis=1)\n",
      "/opt/venv/lib/python3.8/site-packages/pyranges/out.py:37: FutureWarning: Passing a set as an indexer is deprecated and will raise in a future version. Use a list instead.\n",
      "  return pd.concat([outdf, df.get(noncanonical)], axis=1)\n",
      "/opt/venv/lib/python3.8/site-packages/pyranges/out.py:37: FutureWarning: Passing a set as an indexer is deprecated and will raise in a future version. Use a list instead.\n",
      "  return pd.concat([outdf, df.get(noncanonical)], axis=1)\n",
      "/opt/venv/lib/python3.8/site-packages/pyranges/out.py:37: FutureWarning: Passing a set as an indexer is deprecated and will raise in a future version. Use a list instead.\n",
      "  return pd.concat([outdf, df.get(noncanonical)], axis=1)\n",
      "/opt/venv/lib/python3.8/site-packages/pyranges/out.py:37: FutureWarning: Passing a set as an indexer is deprecated and will raise in a future version. Use a list instead.\n",
      "  return pd.concat([outdf, df.get(noncanonical)], axis=1)\n",
      "/opt/venv/lib/python3.8/site-packages/pyranges/out.py:37: FutureWarning: Passing a set as an indexer is deprecated and will raise in a future version. Use a list instead.\n",
      "  return pd.concat([outdf, df.get(noncanonical)], axis=1)\n",
      "/opt/venv/lib/python3.8/site-packages/pyranges/out.py:37: FutureWarning: Passing a set as an indexer is deprecated and will raise in a future version. Use a list instead.\n",
      "  return pd.concat([outdf, df.get(noncanonical)], axis=1)\n"
     ]
    },
    {
     "name": "stdout",
     "output_type": "stream",
     "text": [
      "s3atac_celltypefair_1.FIXEDCELLS\n"
     ]
    },
    {
     "name": "stderr",
     "output_type": "stream",
     "text": [
      "/opt/venv/lib/python3.8/site-packages/pyranges/methods/intersection.py:52: FutureWarning: In a future version, `df.iloc[:, i] = newvals` will attempt to set the values inplace instead of always setting a new array. To retain the old behavior, use either `df[df.columns[i]] = newvals` or, if columns are non-unique, `df.isetitem(i, newvals)`\n",
      "  scdf.loc[:, \"Start\"] = new_starts\n",
      "/opt/venv/lib/python3.8/site-packages/pyranges/methods/intersection.py:53: FutureWarning: In a future version, `df.iloc[:, i] = newvals` will attempt to set the values inplace instead of always setting a new array. To retain the old behavior, use either `df[df.columns[i]] = newvals` or, if columns are non-unique, `df.isetitem(i, newvals)`\n",
      "  scdf.loc[:, \"End\"] = new_ends\n",
      "/opt/venv/lib/python3.8/site-packages/pyranges/methods/intersection.py:52: FutureWarning: In a future version, `df.iloc[:, i] = newvals` will attempt to set the values inplace instead of always setting a new array. To retain the old behavior, use either `df[df.columns[i]] = newvals` or, if columns are non-unique, `df.isetitem(i, newvals)`\n",
      "  scdf.loc[:, \"Start\"] = new_starts\n",
      "/opt/venv/lib/python3.8/site-packages/pyranges/methods/intersection.py:53: FutureWarning: In a future version, `df.iloc[:, i] = newvals` will attempt to set the values inplace instead of always setting a new array. To retain the old behavior, use either `df[df.columns[i]] = newvals` or, if columns are non-unique, `df.isetitem(i, newvals)`\n",
      "  scdf.loc[:, \"End\"] = new_ends\n",
      "/opt/venv/lib/python3.8/site-packages/pyranges/methods/intersection.py:52: FutureWarning: In a future version, `df.iloc[:, i] = newvals` will attempt to set the values inplace instead of always setting a new array. To retain the old behavior, use either `df[df.columns[i]] = newvals` or, if columns are non-unique, `df.isetitem(i, newvals)`\n",
      "  scdf.loc[:, \"Start\"] = new_starts\n",
      "/opt/venv/lib/python3.8/site-packages/pyranges/methods/intersection.py:53: FutureWarning: In a future version, `df.iloc[:, i] = newvals` will attempt to set the values inplace instead of always setting a new array. To retain the old behavior, use either `df[df.columns[i]] = newvals` or, if columns are non-unique, `df.isetitem(i, newvals)`\n",
      "  scdf.loc[:, \"End\"] = new_ends\n",
      "/opt/venv/lib/python3.8/site-packages/pyranges/methods/intersection.py:52: FutureWarning: In a future version, `df.iloc[:, i] = newvals` will attempt to set the values inplace instead of always setting a new array. To retain the old behavior, use either `df[df.columns[i]] = newvals` or, if columns are non-unique, `df.isetitem(i, newvals)`\n",
      "  scdf.loc[:, \"Start\"] = new_starts\n",
      "/opt/venv/lib/python3.8/site-packages/pyranges/methods/intersection.py:53: FutureWarning: In a future version, `df.iloc[:, i] = newvals` will attempt to set the values inplace instead of always setting a new array. To retain the old behavior, use either `df[df.columns[i]] = newvals` or, if columns are non-unique, `df.isetitem(i, newvals)`\n",
      "  scdf.loc[:, \"End\"] = new_ends\n",
      "/opt/venv/lib/python3.8/site-packages/pyranges/methods/intersection.py:52: FutureWarning: In a future version, `df.iloc[:, i] = newvals` will attempt to set the values inplace instead of always setting a new array. To retain the old behavior, use either `df[df.columns[i]] = newvals` or, if columns are non-unique, `df.isetitem(i, newvals)`\n",
      "  scdf.loc[:, \"Start\"] = new_starts\n",
      "/opt/venv/lib/python3.8/site-packages/pyranges/methods/intersection.py:53: FutureWarning: In a future version, `df.iloc[:, i] = newvals` will attempt to set the values inplace instead of always setting a new array. To retain the old behavior, use either `df[df.columns[i]] = newvals` or, if columns are non-unique, `df.isetitem(i, newvals)`\n",
      "  scdf.loc[:, \"End\"] = new_ends\n",
      "/opt/venv/lib/python3.8/site-packages/pyranges/methods/intersection.py:52: FutureWarning: In a future version, `df.iloc[:, i] = newvals` will attempt to set the values inplace instead of always setting a new array. To retain the old behavior, use either `df[df.columns[i]] = newvals` or, if columns are non-unique, `df.isetitem(i, newvals)`\n",
      "  scdf.loc[:, \"Start\"] = new_starts\n",
      "/opt/venv/lib/python3.8/site-packages/pyranges/methods/intersection.py:53: FutureWarning: In a future version, `df.iloc[:, i] = newvals` will attempt to set the values inplace instead of always setting a new array. To retain the old behavior, use either `df[df.columns[i]] = newvals` or, if columns are non-unique, `df.isetitem(i, newvals)`\n",
      "  scdf.loc[:, \"End\"] = new_ends\n",
      "/opt/venv/lib/python3.8/site-packages/pyranges/methods/intersection.py:52: FutureWarning: In a future version, `df.iloc[:, i] = newvals` will attempt to set the values inplace instead of always setting a new array. To retain the old behavior, use either `df[df.columns[i]] = newvals` or, if columns are non-unique, `df.isetitem(i, newvals)`\n",
      "  scdf.loc[:, \"Start\"] = new_starts\n",
      "/opt/venv/lib/python3.8/site-packages/pyranges/methods/intersection.py:53: FutureWarning: In a future version, `df.iloc[:, i] = newvals` will attempt to set the values inplace instead of always setting a new array. To retain the old behavior, use either `df[df.columns[i]] = newvals` or, if columns are non-unique, `df.isetitem(i, newvals)`\n",
      "  scdf.loc[:, \"End\"] = new_ends\n",
      "/opt/venv/lib/python3.8/site-packages/pyranges/methods/intersection.py:52: FutureWarning: In a future version, `df.iloc[:, i] = newvals` will attempt to set the values inplace instead of always setting a new array. To retain the old behavior, use either `df[df.columns[i]] = newvals` or, if columns are non-unique, `df.isetitem(i, newvals)`\n",
      "  scdf.loc[:, \"Start\"] = new_starts\n",
      "/opt/venv/lib/python3.8/site-packages/pyranges/methods/intersection.py:53: FutureWarning: In a future version, `df.iloc[:, i] = newvals` will attempt to set the values inplace instead of always setting a new array. To retain the old behavior, use either `df[df.columns[i]] = newvals` or, if columns are non-unique, `df.isetitem(i, newvals)`\n",
      "  scdf.loc[:, \"End\"] = new_ends\n"
     ]
    },
    {
     "name": "stdout",
     "output_type": "stream",
     "text": [
      "Warning! Start and End columns now have different dtypes: int64 and int32\n"
     ]
    },
    {
     "name": "stderr",
     "output_type": "stream",
     "text": [
      "/opt/venv/lib/python3.8/site-packages/pyranges/out.py:37: FutureWarning: Passing a set as an indexer is deprecated and will raise in a future version. Use a list instead.\n",
      "  return pd.concat([outdf, df.get(noncanonical)], axis=1)\n",
      "/opt/venv/lib/python3.8/site-packages/pyranges/out.py:37: FutureWarning: Passing a set as an indexer is deprecated and will raise in a future version. Use a list instead.\n",
      "  return pd.concat([outdf, df.get(noncanonical)], axis=1)\n",
      "/opt/venv/lib/python3.8/site-packages/pyranges/out.py:37: FutureWarning: Passing a set as an indexer is deprecated and will raise in a future version. Use a list instead.\n",
      "  return pd.concat([outdf, df.get(noncanonical)], axis=1)\n",
      "/opt/venv/lib/python3.8/site-packages/pyranges/out.py:37: FutureWarning: Passing a set as an indexer is deprecated and will raise in a future version. Use a list instead.\n",
      "  return pd.concat([outdf, df.get(noncanonical)], axis=1)\n",
      "/opt/venv/lib/python3.8/site-packages/pyranges/out.py:37: FutureWarning: Passing a set as an indexer is deprecated and will raise in a future version. Use a list instead.\n",
      "  return pd.concat([outdf, df.get(noncanonical)], axis=1)\n",
      "/opt/venv/lib/python3.8/site-packages/pyranges/out.py:37: FutureWarning: Passing a set as an indexer is deprecated and will raise in a future version. Use a list instead.\n",
      "  return pd.concat([outdf, df.get(noncanonical)], axis=1)\n",
      "/opt/venv/lib/python3.8/site-packages/pyranges/out.py:37: FutureWarning: Passing a set as an indexer is deprecated and will raise in a future version. Use a list instead.\n",
      "  return pd.concat([outdf, df.get(noncanonical)], axis=1)\n",
      "/opt/venv/lib/python3.8/site-packages/pyranges/out.py:37: FutureWarning: Passing a set as an indexer is deprecated and will raise in a future version. Use a list instead.\n",
      "  return pd.concat([outdf, df.get(noncanonical)], axis=1)\n",
      "/opt/venv/lib/python3.8/site-packages/pyranges/out.py:37: FutureWarning: Passing a set as an indexer is deprecated and will raise in a future version. Use a list instead.\n",
      "  return pd.concat([outdf, df.get(noncanonical)], axis=1)\n",
      "/opt/venv/lib/python3.8/site-packages/pyranges/out.py:37: FutureWarning: Passing a set as an indexer is deprecated and will raise in a future version. Use a list instead.\n",
      "  return pd.concat([outdf, df.get(noncanonical)], axis=1)\n",
      "/opt/venv/lib/python3.8/site-packages/pyranges/out.py:37: FutureWarning: Passing a set as an indexer is deprecated and will raise in a future version. Use a list instead.\n",
      "  return pd.concat([outdf, df.get(noncanonical)], axis=1)\n",
      "/opt/venv/lib/python3.8/site-packages/pyranges/out.py:37: FutureWarning: Passing a set as an indexer is deprecated and will raise in a future version. Use a list instead.\n",
      "  return pd.concat([outdf, df.get(noncanonical)], axis=1)\n",
      "/opt/venv/lib/python3.8/site-packages/pyranges/out.py:37: FutureWarning: Passing a set as an indexer is deprecated and will raise in a future version. Use a list instead.\n",
      "  return pd.concat([outdf, df.get(noncanonical)], axis=1)\n",
      "/opt/venv/lib/python3.8/site-packages/pyranges/out.py:37: FutureWarning: Passing a set as an indexer is deprecated and will raise in a future version. Use a list instead.\n",
      "  return pd.concat([outdf, df.get(noncanonical)], axis=1)\n",
      "/opt/venv/lib/python3.8/site-packages/pyranges/out.py:37: FutureWarning: Passing a set as an indexer is deprecated and will raise in a future version. Use a list instead.\n",
      "  return pd.concat([outdf, df.get(noncanonical)], axis=1)\n",
      "/opt/venv/lib/python3.8/site-packages/pyranges/out.py:37: FutureWarning: Passing a set as an indexer is deprecated and will raise in a future version. Use a list instead.\n",
      "  return pd.concat([outdf, df.get(noncanonical)], axis=1)\n",
      "/opt/venv/lib/python3.8/site-packages/pyranges/out.py:37: FutureWarning: Passing a set as an indexer is deprecated and will raise in a future version. Use a list instead.\n",
      "  return pd.concat([outdf, df.get(noncanonical)], axis=1)\n",
      "/opt/venv/lib/python3.8/site-packages/pyranges/out.py:37: FutureWarning: Passing a set as an indexer is deprecated and will raise in a future version. Use a list instead.\n",
      "  return pd.concat([outdf, df.get(noncanonical)], axis=1)\n",
      "/opt/venv/lib/python3.8/site-packages/pyranges/out.py:37: FutureWarning: Passing a set as an indexer is deprecated and will raise in a future version. Use a list instead.\n",
      "  return pd.concat([outdf, df.get(noncanonical)], axis=1)\n",
      "/opt/venv/lib/python3.8/site-packages/pyranges/out.py:37: FutureWarning: Passing a set as an indexer is deprecated and will raise in a future version. Use a list instead.\n",
      "  return pd.concat([outdf, df.get(noncanonical)], axis=1)\n",
      "/opt/venv/lib/python3.8/site-packages/pyranges/out.py:37: FutureWarning: Passing a set as an indexer is deprecated and will raise in a future version. Use a list instead.\n",
      "  return pd.concat([outdf, df.get(noncanonical)], axis=1)\n",
      "/opt/venv/lib/python3.8/site-packages/pyranges/out.py:37: FutureWarning: Passing a set as an indexer is deprecated and will raise in a future version. Use a list instead.\n",
      "  return pd.concat([outdf, df.get(noncanonical)], axis=1)\n",
      "/opt/venv/lib/python3.8/site-packages/pyranges/out.py:37: FutureWarning: Passing a set as an indexer is deprecated and will raise in a future version. Use a list instead.\n",
      "  return pd.concat([outdf, df.get(noncanonical)], axis=1)\n",
      "/opt/venv/lib/python3.8/site-packages/pyranges/out.py:37: FutureWarning: Passing a set as an indexer is deprecated and will raise in a future version. Use a list instead.\n",
      "  return pd.concat([outdf, df.get(noncanonical)], axis=1)\n",
      "/opt/venv/lib/python3.8/site-packages/pyranges/out.py:37: FutureWarning: Passing a set as an indexer is deprecated and will raise in a future version. Use a list instead.\n",
      "  return pd.concat([outdf, df.get(noncanonical)], axis=1)\n",
      "/opt/venv/lib/python3.8/site-packages/pyranges/out.py:37: FutureWarning: Passing a set as an indexer is deprecated and will raise in a future version. Use a list instead.\n",
      "  return pd.concat([outdf, df.get(noncanonical)], axis=1)\n",
      "/opt/venv/lib/python3.8/site-packages/pyranges/out.py:37: FutureWarning: Passing a set as an indexer is deprecated and will raise in a future version. Use a list instead.\n",
      "  return pd.concat([outdf, df.get(noncanonical)], axis=1)\n",
      "/opt/venv/lib/python3.8/site-packages/pyranges/out.py:37: FutureWarning: Passing a set as an indexer is deprecated and will raise in a future version. Use a list instead.\n",
      "  return pd.concat([outdf, df.get(noncanonical)], axis=1)\n",
      "/opt/venv/lib/python3.8/site-packages/pyranges/out.py:37: FutureWarning: Passing a set as an indexer is deprecated and will raise in a future version. Use a list instead.\n",
      "  return pd.concat([outdf, df.get(noncanonical)], axis=1)\n",
      "/opt/venv/lib/python3.8/site-packages/pyranges/out.py:37: FutureWarning: Passing a set as an indexer is deprecated and will raise in a future version. Use a list instead.\n",
      "  return pd.concat([outdf, df.get(noncanonical)], axis=1)\n",
      "/opt/venv/lib/python3.8/site-packages/pyranges/out.py:37: FutureWarning: Passing a set as an indexer is deprecated and will raise in a future version. Use a list instead.\n",
      "  return pd.concat([outdf, df.get(noncanonical)], axis=1)\n",
      "/opt/venv/lib/python3.8/site-packages/pyranges/out.py:37: FutureWarning: Passing a set as an indexer is deprecated and will raise in a future version. Use a list instead.\n",
      "  return pd.concat([outdf, df.get(noncanonical)], axis=1)\n",
      "/opt/venv/lib/python3.8/site-packages/pyranges/out.py:37: FutureWarning: Passing a set as an indexer is deprecated and will raise in a future version. Use a list instead.\n",
      "  return pd.concat([outdf, df.get(noncanonical)], axis=1)\n",
      "/opt/venv/lib/python3.8/site-packages/pyranges/out.py:37: FutureWarning: Passing a set as an indexer is deprecated and will raise in a future version. Use a list instead.\n",
      "  return pd.concat([outdf, df.get(noncanonical)], axis=1)\n",
      "/opt/venv/lib/python3.8/site-packages/pyranges/out.py:37: FutureWarning: Passing a set as an indexer is deprecated and will raise in a future version. Use a list instead.\n",
      "  return pd.concat([outdf, df.get(noncanonical)], axis=1)\n",
      "/opt/venv/lib/python3.8/site-packages/pyranges/out.py:37: FutureWarning: Passing a set as an indexer is deprecated and will raise in a future version. Use a list instead.\n",
      "  return pd.concat([outdf, df.get(noncanonical)], axis=1)\n",
      "/opt/venv/lib/python3.8/site-packages/pyranges/out.py:37: FutureWarning: Passing a set as an indexer is deprecated and will raise in a future version. Use a list instead.\n",
      "  return pd.concat([outdf, df.get(noncanonical)], axis=1)\n",
      "/opt/venv/lib/python3.8/site-packages/pyranges/out.py:37: FutureWarning: Passing a set as an indexer is deprecated and will raise in a future version. Use a list instead.\n",
      "  return pd.concat([outdf, df.get(noncanonical)], axis=1)\n",
      "/opt/venv/lib/python3.8/site-packages/pyranges/out.py:37: FutureWarning: Passing a set as an indexer is deprecated and will raise in a future version. Use a list instead.\n",
      "  return pd.concat([outdf, df.get(noncanonical)], axis=1)\n",
      "/opt/venv/lib/python3.8/site-packages/pyranges/out.py:37: FutureWarning: Passing a set as an indexer is deprecated and will raise in a future version. Use a list instead.\n",
      "  return pd.concat([outdf, df.get(noncanonical)], axis=1)\n",
      "/opt/venv/lib/python3.8/site-packages/pyranges/out.py:37: FutureWarning: Passing a set as an indexer is deprecated and will raise in a future version. Use a list instead.\n",
      "  return pd.concat([outdf, df.get(noncanonical)], axis=1)\n",
      "/opt/venv/lib/python3.8/site-packages/pyranges/out.py:37: FutureWarning: Passing a set as an indexer is deprecated and will raise in a future version. Use a list instead.\n",
      "  return pd.concat([outdf, df.get(noncanonical)], axis=1)\n",
      "/opt/venv/lib/python3.8/site-packages/pyranges/out.py:37: FutureWarning: Passing a set as an indexer is deprecated and will raise in a future version. Use a list instead.\n",
      "  return pd.concat([outdf, df.get(noncanonical)], axis=1)\n",
      "/opt/venv/lib/python3.8/site-packages/pyranges/out.py:37: FutureWarning: Passing a set as an indexer is deprecated and will raise in a future version. Use a list instead.\n",
      "  return pd.concat([outdf, df.get(noncanonical)], axis=1)\n",
      "/opt/venv/lib/python3.8/site-packages/pyranges/out.py:37: FutureWarning: Passing a set as an indexer is deprecated and will raise in a future version. Use a list instead.\n",
      "  return pd.concat([outdf, df.get(noncanonical)], axis=1)\n",
      "/opt/venv/lib/python3.8/site-packages/pyranges/out.py:37: FutureWarning: Passing a set as an indexer is deprecated and will raise in a future version. Use a list instead.\n",
      "  return pd.concat([outdf, df.get(noncanonical)], axis=1)\n",
      "/opt/venv/lib/python3.8/site-packages/pyranges/out.py:37: FutureWarning: Passing a set as an indexer is deprecated and will raise in a future version. Use a list instead.\n",
      "  return pd.concat([outdf, df.get(noncanonical)], axis=1)\n",
      "/opt/venv/lib/python3.8/site-packages/pyranges/out.py:37: FutureWarning: Passing a set as an indexer is deprecated and will raise in a future version. Use a list instead.\n",
      "  return pd.concat([outdf, df.get(noncanonical)], axis=1)\n",
      "/opt/venv/lib/python3.8/site-packages/pyranges/out.py:37: FutureWarning: Passing a set as an indexer is deprecated and will raise in a future version. Use a list instead.\n",
      "  return pd.concat([outdf, df.get(noncanonical)], axis=1)\n",
      "/opt/venv/lib/python3.8/site-packages/pyranges/out.py:37: FutureWarning: Passing a set as an indexer is deprecated and will raise in a future version. Use a list instead.\n",
      "  return pd.concat([outdf, df.get(noncanonical)], axis=1)\n",
      "/opt/venv/lib/python3.8/site-packages/pyranges/out.py:37: FutureWarning: Passing a set as an indexer is deprecated and will raise in a future version. Use a list instead.\n",
      "  return pd.concat([outdf, df.get(noncanonical)], axis=1)\n",
      "/opt/venv/lib/python3.8/site-packages/pyranges/out.py:37: FutureWarning: Passing a set as an indexer is deprecated and will raise in a future version. Use a list instead.\n",
      "  return pd.concat([outdf, df.get(noncanonical)], axis=1)\n",
      "/opt/venv/lib/python3.8/site-packages/pyranges/out.py:37: FutureWarning: Passing a set as an indexer is deprecated and will raise in a future version. Use a list instead.\n",
      "  return pd.concat([outdf, df.get(noncanonical)], axis=1)\n",
      "/opt/venv/lib/python3.8/site-packages/pyranges/out.py:37: FutureWarning: Passing a set as an indexer is deprecated and will raise in a future version. Use a list instead.\n",
      "  return pd.concat([outdf, df.get(noncanonical)], axis=1)\n",
      "/opt/venv/lib/python3.8/site-packages/pyranges/out.py:37: FutureWarning: Passing a set as an indexer is deprecated and will raise in a future version. Use a list instead.\n",
      "  return pd.concat([outdf, df.get(noncanonical)], axis=1)\n",
      "/opt/venv/lib/python3.8/site-packages/pyranges/out.py:37: FutureWarning: Passing a set as an indexer is deprecated and will raise in a future version. Use a list instead.\n",
      "  return pd.concat([outdf, df.get(noncanonical)], axis=1)\n",
      "/opt/venv/lib/python3.8/site-packages/pyranges/out.py:37: FutureWarning: Passing a set as an indexer is deprecated and will raise in a future version. Use a list instead.\n",
      "  return pd.concat([outdf, df.get(noncanonical)], axis=1)\n",
      "/opt/venv/lib/python3.8/site-packages/pyranges/out.py:37: FutureWarning: Passing a set as an indexer is deprecated and will raise in a future version. Use a list instead.\n",
      "  return pd.concat([outdf, df.get(noncanonical)], axis=1)\n",
      "/opt/venv/lib/python3.8/site-packages/pyranges/out.py:37: FutureWarning: Passing a set as an indexer is deprecated and will raise in a future version. Use a list instead.\n",
      "  return pd.concat([outdf, df.get(noncanonical)], axis=1)\n",
      "/opt/venv/lib/python3.8/site-packages/pyranges/out.py:37: FutureWarning: Passing a set as an indexer is deprecated and will raise in a future version. Use a list instead.\n",
      "  return pd.concat([outdf, df.get(noncanonical)], axis=1)\n",
      "/opt/venv/lib/python3.8/site-packages/pyranges/out.py:37: FutureWarning: Passing a set as an indexer is deprecated and will raise in a future version. Use a list instead.\n",
      "  return pd.concat([outdf, df.get(noncanonical)], axis=1)\n",
      "/opt/venv/lib/python3.8/site-packages/pyranges/out.py:37: FutureWarning: Passing a set as an indexer is deprecated and will raise in a future version. Use a list instead.\n",
      "  return pd.concat([outdf, df.get(noncanonical)], axis=1)\n",
      "/opt/venv/lib/python3.8/site-packages/pyranges/out.py:37: FutureWarning: Passing a set as an indexer is deprecated and will raise in a future version. Use a list instead.\n",
      "  return pd.concat([outdf, df.get(noncanonical)], axis=1)\n",
      "/opt/venv/lib/python3.8/site-packages/pyranges/out.py:37: FutureWarning: Passing a set as an indexer is deprecated and will raise in a future version. Use a list instead.\n",
      "  return pd.concat([outdf, df.get(noncanonical)], axis=1)\n",
      "/opt/venv/lib/python3.8/site-packages/pyranges/out.py:37: FutureWarning: Passing a set as an indexer is deprecated and will raise in a future version. Use a list instead.\n",
      "  return pd.concat([outdf, df.get(noncanonical)], axis=1)\n",
      "/opt/venv/lib/python3.8/site-packages/pyranges/out.py:37: FutureWarning: Passing a set as an indexer is deprecated and will raise in a future version. Use a list instead.\n",
      "  return pd.concat([outdf, df.get(noncanonical)], axis=1)\n",
      "/opt/venv/lib/python3.8/site-packages/pyranges/out.py:37: FutureWarning: Passing a set as an indexer is deprecated and will raise in a future version. Use a list instead.\n",
      "  return pd.concat([outdf, df.get(noncanonical)], axis=1)\n",
      "/opt/venv/lib/python3.8/site-packages/pyranges/out.py:37: FutureWarning: Passing a set as an indexer is deprecated and will raise in a future version. Use a list instead.\n",
      "  return pd.concat([outdf, df.get(noncanonical)], axis=1)\n",
      "/opt/venv/lib/python3.8/site-packages/pyranges/out.py:37: FutureWarning: Passing a set as an indexer is deprecated and will raise in a future version. Use a list instead.\n",
      "  return pd.concat([outdf, df.get(noncanonical)], axis=1)\n",
      "/opt/venv/lib/python3.8/site-packages/pyranges/out.py:37: FutureWarning: Passing a set as an indexer is deprecated and will raise in a future version. Use a list instead.\n",
      "  return pd.concat([outdf, df.get(noncanonical)], axis=1)\n",
      "/opt/venv/lib/python3.8/site-packages/pyranges/out.py:37: FutureWarning: Passing a set as an indexer is deprecated and will raise in a future version. Use a list instead.\n",
      "  return pd.concat([outdf, df.get(noncanonical)], axis=1)\n",
      "/opt/venv/lib/python3.8/site-packages/pyranges/out.py:37: FutureWarning: Passing a set as an indexer is deprecated and will raise in a future version. Use a list instead.\n",
      "  return pd.concat([outdf, df.get(noncanonical)], axis=1)\n",
      "/opt/venv/lib/python3.8/site-packages/pyranges/out.py:37: FutureWarning: Passing a set as an indexer is deprecated and will raise in a future version. Use a list instead.\n",
      "  return pd.concat([outdf, df.get(noncanonical)], axis=1)\n",
      "/opt/venv/lib/python3.8/site-packages/pyranges/out.py:37: FutureWarning: Passing a set as an indexer is deprecated and will raise in a future version. Use a list instead.\n",
      "  return pd.concat([outdf, df.get(noncanonical)], axis=1)\n",
      "/opt/venv/lib/python3.8/site-packages/pyranges/out.py:37: FutureWarning: Passing a set as an indexer is deprecated and will raise in a future version. Use a list instead.\n",
      "  return pd.concat([outdf, df.get(noncanonical)], axis=1)\n",
      "/opt/venv/lib/python3.8/site-packages/pyranges/out.py:37: FutureWarning: Passing a set as an indexer is deprecated and will raise in a future version. Use a list instead.\n",
      "  return pd.concat([outdf, df.get(noncanonical)], axis=1)\n",
      "/opt/venv/lib/python3.8/site-packages/pyranges/out.py:37: FutureWarning: Passing a set as an indexer is deprecated and will raise in a future version. Use a list instead.\n",
      "  return pd.concat([outdf, df.get(noncanonical)], axis=1)\n",
      "/opt/venv/lib/python3.8/site-packages/pyranges/out.py:37: FutureWarning: Passing a set as an indexer is deprecated and will raise in a future version. Use a list instead.\n",
      "  return pd.concat([outdf, df.get(noncanonical)], axis=1)\n",
      "/opt/venv/lib/python3.8/site-packages/pyranges/out.py:37: FutureWarning: Passing a set as an indexer is deprecated and will raise in a future version. Use a list instead.\n",
      "  return pd.concat([outdf, df.get(noncanonical)], axis=1)\n",
      "/opt/venv/lib/python3.8/site-packages/pyranges/out.py:37: FutureWarning: Passing a set as an indexer is deprecated and will raise in a future version. Use a list instead.\n",
      "  return pd.concat([outdf, df.get(noncanonical)], axis=1)\n",
      "/opt/venv/lib/python3.8/site-packages/pyranges/out.py:37: FutureWarning: Passing a set as an indexer is deprecated and will raise in a future version. Use a list instead.\n",
      "  return pd.concat([outdf, df.get(noncanonical)], axis=1)\n",
      "/opt/venv/lib/python3.8/site-packages/pyranges/out.py:37: FutureWarning: Passing a set as an indexer is deprecated and will raise in a future version. Use a list instead.\n",
      "  return pd.concat([outdf, df.get(noncanonical)], axis=1)\n",
      "/opt/venv/lib/python3.8/site-packages/pyranges/out.py:37: FutureWarning: Passing a set as an indexer is deprecated and will raise in a future version. Use a list instead.\n",
      "  return pd.concat([outdf, df.get(noncanonical)], axis=1)\n"
     ]
    }
   ],
   "source": [
    "peak_half_width = 250\n",
    "\n",
    "# Get consensus peaks\n",
    "consensus_peaks_dict = {}\n",
    "for sample in narrow_peaks_path_dict.keys():\n",
    "    print(sample)\n",
    "    consensus_out_path = narrow_peaks_path_dict[sample].replace(\n",
    "        \"_narrow_peaks_dict.pkl\", \"_consensus_peaks.bed\"\n",
    "    )\n",
    "    if not os.path.exists(consensus_out_path):\n",
    "        cell_data = pd.read_csv(cell_data_path_dict[sample])\n",
    "        cto_celltypes = set(\n",
    "            [\n",
    "                x.replace(\" \", \"\").replace(\"+\", \"\").replace(\"_\", \"\")\n",
    "                for x in set(cell_data[\"harmony_consensus_cell_type__mega\"].unique())\n",
    "            ]\n",
    "        )\n",
    "\n",
    "        with open(narrow_peaks_path_dict[sample], \"rb\") as f:\n",
    "            narrow_peaks_dict = pickle.load(f)\n",
    "        peaks_celltypes = set(\n",
    "            [\n",
    "                x.replace(\" \", \"\").replace(\"+\", \"\").replace(\"_\", \"\")\n",
    "                for x in set(narrow_peaks_dict.keys())\n",
    "            ]\n",
    "        )\n",
    "\n",
    "        if cto_celltypes == peaks_celltypes:\n",
    "            consensus_peaks = get_consensus_peaks(\n",
    "                narrow_peaks_dict,\n",
    "                peak_half_width,\n",
    "                chromsizes=chromsizes,\n",
    "                path_to_blacklist=path_to_blacklist,\n",
    "            )\n",
    "\n",
    "            consensus_peaks.to_bed(\n",
    "                path=consensus_out_path, keep=True, compression=\"infer\", chain=False\n",
    "            )\n",
    "        else:\n",
    "            print(\"CELL TYPE SETS NOT MATCHING! Rerun peak calling.\")\n",
    "            print(peaks_celltypes - cto_celltypes)\n",
    "            print(cto_celltypes - peaks_celltypes)\n",
    "    else:\n",
    "        print(f\"{consensus_out_path} already exists, skipping...\")"
   ]
  },
  {
   "cell_type": "markdown",
   "id": "28256990",
   "metadata": {
    "papermill": {
     "duration": null,
     "end_time": null,
     "exception": null,
     "start_time": null,
     "status": "pending"
    },
    "tags": []
   },
   "source": [
    "# Check % chrM in consensus peaks"
   ]
  },
  {
   "cell_type": "code",
   "execution_count": 27,
   "id": "d338fe42",
   "metadata": {
    "execution": {
     "iopub.execute_input": "2023-02-20T18:24:44.714236Z",
     "iopub.status.busy": "2023-02-20T18:24:44.714014Z",
     "iopub.status.idle": "2023-02-20T18:24:44.726683Z",
     "shell.execute_reply": "2023-02-20T18:24:44.725726Z",
     "shell.execute_reply.started": "2023-02-20T18:24:44.714216Z"
    },
    "papermill": {
     "duration": null,
     "end_time": null,
     "exception": null,
     "start_time": null,
     "status": "pending"
    },
    "tags": []
   },
   "outputs": [
    {
     "data": {
      "text/plain": [
       "{'10xmultiome_celltypefair_1.FIXEDCELLS': 'final_consensus_peaks/10xmultiome_celltypefair_1.FIXEDCELLS__SCREEN_consensus_peaks.bed',\n",
       " '10xv11_celltypefair_1.FIXEDCELLS': 'final_consensus_peaks/10xv11_celltypefair_1.FIXEDCELLS__SCREEN_consensus_peaks.bed',\n",
       " '10xv1_celltypefair_1.FIXEDCELLS': 'final_consensus_peaks/10xv1_celltypefair_1.FIXEDCELLS__SCREEN_consensus_peaks.bed',\n",
       " '10xv2_celltypefair_1.FIXEDCELLS': 'final_consensus_peaks/10xv2_celltypefair_1.FIXEDCELLS__SCREEN_consensus_peaks.bed',\n",
       " 'ddseq_celltypefair_1.FIXEDCELLS': 'final_consensus_peaks/ddseq_celltypefair_1.FIXEDCELLS__SCREEN_consensus_peaks.bed',\n",
       " 'hydrop_celltypefair_1.FIXEDCELLS': 'final_consensus_peaks/hydrop_celltypefair_1.FIXEDCELLS__SCREEN_consensus_peaks.bed',\n",
       " 'mtscatac_celltypefair_1.FIXEDCELLS': 'final_consensus_peaks/mtscatac_celltypefair_1.FIXEDCELLS__SCREEN_consensus_peaks.bed',\n",
       " 's3atac_celltypefair_1.FIXEDCELLS': 'final_consensus_peaks/s3atac_celltypefair_1.FIXEDCELLS__SCREEN_consensus_peaks.bed'}"
      ]
     },
     "execution_count": 27,
     "metadata": {},
     "output_type": "execute_result"
    }
   ],
   "source": [
    "consensus_peaks_path_dict = {\n",
    "    x.split(\"/\")[-1].split(f\"__\")[0]: x\n",
    "    for x in sorted(glob.glob(\"final_consensus_peaks/*consensus_peaks.bed\"))\n",
    "}\n",
    "consensus_peaks_path_dict"
   ]
  },
  {
   "cell_type": "code",
   "execution_count": 28,
   "id": "58c7f4a1",
   "metadata": {
    "execution": {
     "iopub.execute_input": "2023-02-20T18:24:44.728008Z",
     "iopub.status.busy": "2023-02-20T18:24:44.727658Z",
     "iopub.status.idle": "2023-02-20T18:24:47.155784Z",
     "shell.execute_reply": "2023-02-20T18:24:47.154683Z",
     "shell.execute_reply.started": "2023-02-20T18:24:44.727986Z"
    },
    "papermill": {
     "duration": null,
     "end_time": null,
     "exception": null,
     "start_time": null,
     "status": "pending"
    },
    "tags": []
   },
   "outputs": [
    {
     "name": "stdout",
     "output_type": "stream",
     "text": [
      "10xmultiome_celltypefair_1.FIXEDCELLS\n",
      "\tpeaks on standard chromosomes: 197322\n",
      "\tpeaks on contigs: 334\n",
      "\tpeaks on chrM: 23\n",
      "\t% peaks non standard chromosomes: 0.1805958144264186%\n",
      "\tpeaks on chrY: 86\n",
      "10xv11_celltypefair_1.FIXEDCELLS\n",
      "\tpeaks on standard chromosomes: 226766\n",
      "\tpeaks on contigs: 420\n",
      "\tpeaks on chrM: 24\n",
      "\t% peaks non standard chromosomes: 0.19541393424585188%\n",
      "\tpeaks on chrY: 189\n",
      "10xv1_celltypefair_1.FIXEDCELLS\n",
      "\tpeaks on standard chromosomes: 179537\n",
      "\tpeaks on contigs: 284\n",
      "\tpeaks on chrM: 21\n",
      "\t% peaks non standard chromosomes: 0.16959330968294392%\n",
      "\tpeaks on chrY: 94\n",
      "10xv2_celltypefair_1.FIXEDCELLS\n",
      "\tpeaks on standard chromosomes: 275687\n",
      "\tpeaks on contigs: 381\n",
      "\tpeaks on chrM: 23\n",
      "\t% peaks non standard chromosomes: 0.14632856558163795%\n",
      "\tpeaks on chrY: 262\n",
      "ddseq_celltypefair_1.FIXEDCELLS\n",
      "\tpeaks on standard chromosomes: 169890\n",
      "\tpeaks on contigs: 218\n",
      "\tpeaks on chrM: 22\n",
      "\t% peaks non standard chromosomes: 0.14106859460412624%\n",
      "\tpeaks on chrY: 91\n",
      "hydrop_celltypefair_1.FIXEDCELLS\n",
      "\tpeaks on standard chromosomes: 112907\n",
      "\tpeaks on contigs: 304\n",
      "\tpeaks on chrM: 22\n",
      "\t% peaks non standard chromosomes: 0.287901936714562%\n",
      "\tpeaks on chrY: 58\n",
      "mtscatac_celltypefair_1.FIXEDCELLS\n",
      "\tpeaks on standard chromosomes: 202712\n",
      "\tpeaks on contigs: 391\n",
      "\tpeaks on chrM: 22\n",
      "\t% peaks non standard chromosomes: 0.20332307692307694%\n",
      "\tpeaks on chrY: 121\n",
      "s3atac_celltypefair_1.FIXEDCELLS\n",
      "\tpeaks on standard chromosomes: 130041\n",
      "\tpeaks on contigs: 307\n",
      "\tpeaks on chrM: 21\n",
      "\t% peaks non standard chromosomes: 0.2515935536822404%\n",
      "\tpeaks on chrY: 22\n"
     ]
    }
   ],
   "source": [
    "for sample, path in consensus_peaks_path_dict.items():\n",
    "    print(sample)\n",
    "    peaks_df = pd.read_csv(path, sep=\"\\t\", header=None)\n",
    "\n",
    "    chroms_in_df = list(sorted(peaks_df[0].unique()))\n",
    "    chroms_standard = [\"chr\" + str(x + 1) for x in range(22)] + [\"chrX\"]\n",
    "    chroms_nonstandard = list(set(chroms_in_df) - set(chroms_standard) - set([\"chrM\"]))\n",
    "\n",
    "    n_standard = peaks_df[0].value_counts()[chroms_standard].sum()\n",
    "    n_contigs = peaks_df[0].value_counts()[chroms_nonstandard].sum()\n",
    "    n_chrm = peaks_df[0].value_counts()[\"chrM\"].sum()\n",
    "    pct_nonstandard = (n_contigs + n_chrm) / len(peaks_df) * 100\n",
    "\n",
    "    print(f\"\\tpeaks on standard chromosomes: {n_standard}\")\n",
    "    print(f\"\\tpeaks on contigs: {n_contigs}\")\n",
    "    print(f\"\\tpeaks on chrM: {n_chrm}\")\n",
    "    print(f\"\\t% peaks non standard chromosomes: {pct_nonstandard}%\")\n",
    "    if \"chrY\" in chroms_in_df:\n",
    "        n_chrY = peaks_df[0].value_counts()[\"chrY\"].sum()\n",
    "        print(f\"\\tpeaks on chrY: {n_chrY}\")\n",
    "    else:\n",
    "        print(f\"\\tpeaks on chrY: 0\")"
   ]
  },
  {
   "cell_type": "code",
   "execution_count": null,
   "id": "528c3cb2",
   "metadata": {
    "papermill": {
     "duration": null,
     "end_time": null,
     "exception": null,
     "start_time": null,
     "status": "pending"
    },
    "tags": []
   },
   "outputs": [],
   "source": []
  },
  {
   "cell_type": "code",
   "execution_count": null,
   "id": "ff74249f",
   "metadata": {
    "papermill": {
     "duration": null,
     "end_time": null,
     "exception": null,
     "start_time": null,
     "status": "pending"
    },
    "tags": []
   },
   "outputs": [],
   "source": []
  },
  {
   "cell_type": "code",
   "execution_count": null,
   "id": "1b3ea69c",
   "metadata": {
    "papermill": {
     "duration": null,
     "end_time": null,
     "exception": null,
     "start_time": null,
     "status": "pending"
    },
    "tags": []
   },
   "outputs": [],
   "source": []
  },
  {
   "cell_type": "code",
   "execution_count": null,
   "id": "ae81ab1d-b416-4184-9f37-d8ebaccee221",
   "metadata": {},
   "outputs": [],
   "source": []
  },
  {
   "cell_type": "code",
   "execution_count": null,
   "id": "0bfc0216-4d68-4526-b7d4-c81530116d64",
   "metadata": {},
   "outputs": [],
   "source": []
  }
 ],
 "metadata": {
  "kernelspec": {
   "display_name": "20221014_pycistopic.sif",
   "language": "python",
   "name": "cistopic_20221014"
  },
  "language_info": {
   "codemirror_mode": {
    "name": "ipython",
    "version": 3
   },
   "file_extension": ".py",
   "mimetype": "text/x-python",
   "name": "python",
   "nbconvert_exporter": "python",
   "pygments_lexer": "ipython3",
   "version": "3.8.15"
  },
  "papermill": {
   "default_parameters": {},
   "duration": null,
   "end_time": null,
   "environment_variables": {},
   "exception": null,
   "input_path": "8_consensus_peaks.ipynb",
   "output_path": "8_consensus_peaks.OUT.ipynb",
   "parameters": {},
   "start_time": "2022-09-29T13:44:40.536795",
   "version": "2.3.4"
  }
 },
 "nbformat": 4,
 "nbformat_minor": 5
}

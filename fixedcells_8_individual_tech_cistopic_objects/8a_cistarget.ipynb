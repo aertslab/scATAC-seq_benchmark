{
 "cells": [
  {
   "cell_type": "code",
   "execution_count": 1,
   "id": "b7cbdf40",
   "metadata": {
    "execution": {
     "iopub.execute_input": "2023-02-20T18:25:50.395429Z",
     "iopub.status.busy": "2023-02-20T18:25:50.394827Z",
     "iopub.status.idle": "2023-02-20T18:25:50.500925Z",
     "shell.execute_reply": "2023-02-20T18:25:50.499600Z",
     "shell.execute_reply.started": "2023-02-20T18:25:50.395382Z"
    },
    "tags": []
   },
   "outputs": [],
   "source": [
    "# First overlap DARs with CTX regions"
   ]
  },
  {
   "cell_type": "code",
   "execution_count": 2,
   "id": "43b5543d",
   "metadata": {
    "execution": {
     "iopub.execute_input": "2023-02-20T18:25:50.503627Z",
     "iopub.status.busy": "2023-02-20T18:25:50.503096Z",
     "iopub.status.idle": "2023-02-20T18:25:50.649874Z",
     "shell.execute_reply": "2023-02-20T18:25:50.648574Z",
     "shell.execute_reply.started": "2023-02-20T18:25:50.503583Z"
    },
    "tags": []
   },
   "outputs": [
    {
     "name": "stdout",
     "output_type": "stream",
     "text": [
      "/staging/leuven/stg_00002/lcb/icistarget/data/regions/homo_sapiens/hg38/refseq-r109/region_based/hg38.ENCODE3_regions.blacklisted.regionid-location.bed\n"
     ]
    }
   ],
   "source": [
    "ls /staging/leuven/stg_00002/lcb/icistarget/data/regions/homo_sapiens/hg38/refseq-r109/region_based/hg38.ENCODE3_regions.blacklisted.regionid-location.bed"
   ]
  },
  {
   "cell_type": "code",
   "execution_count": 3,
   "id": "225f168c",
   "metadata": {
    "execution": {
     "iopub.execute_input": "2023-02-20T18:25:50.653019Z",
     "iopub.status.busy": "2023-02-20T18:25:50.652484Z",
     "iopub.status.idle": "2023-02-20T18:26:03.552270Z",
     "shell.execute_reply": "2023-02-20T18:26:03.550870Z",
     "shell.execute_reply.started": "2023-02-20T18:25:50.652976Z"
    },
    "tags": []
   },
   "outputs": [],
   "source": [
    "module load BEDTools/2.30.0-foss-2018a"
   ]
  },
  {
   "cell_type": "code",
   "execution_count": 6,
   "id": "11cf1d95",
   "metadata": {
    "collapsed": true,
    "execution": {
     "iopub.execute_input": "2023-02-20T18:28:38.702153Z",
     "iopub.status.busy": "2023-02-20T18:28:38.701546Z",
     "iopub.status.idle": "2023-02-20T18:29:25.128923Z",
     "shell.execute_reply": "2023-02-20T18:29:25.127532Z",
     "shell.execute_reply.started": "2023-02-20T18:28:38.702108Z"
    },
    "jupyter": {
     "outputs_hidden": true
    },
    "tags": []
   },
   "outputs": [
    {
     "name": "stdout",
     "output_type": "stream",
     "text": [
      "rm: cannot remove 'bedtools_overlap_ctx.parallel': No such file or directory\n",
      "downstream_analysis/DARs/10xmultiome_celltypefair_1.FIXEDCELLS/10xmultiome_celltypefair_1.FIXEDCELLS__B_cell__DARs.unique.TOP2K.bed\n",
      "downstream_analysis/DARs/10xmultiome_celltypefair_1.FIXEDCELLS/10xmultiome_celltypefair_1.FIXEDCELLS__CD14+_monocyte__DARs.unique.TOP2K.bed\n",
      "downstream_analysis/DARs/10xmultiome_celltypefair_1.FIXEDCELLS/10xmultiome_celltypefair_1.FIXEDCELLS__CD16+_monocyte__DARs.unique.TOP2K.bed\n",
      "downstream_analysis/DARs/10xmultiome_celltypefair_1.FIXEDCELLS/10xmultiome_celltypefair_1.FIXEDCELLS__CD4+_T_cell__DARs.unique.TOP2K.bed\n",
      "downstream_analysis/DARs/10xmultiome_celltypefair_1.FIXEDCELLS/10xmultiome_celltypefair_1.FIXEDCELLS__Cytotoxic_T_cell__DARs.unique.TOP2K.bed\n",
      "downstream_analysis/DARs/10xmultiome_celltypefair_1.FIXEDCELLS/10xmultiome_celltypefair_1.FIXEDCELLS__Dendritic_cell__DARs.unique.TOP2K.bed\n",
      "downstream_analysis/DARs/10xmultiome_celltypefair_1.FIXEDCELLS/10xmultiome_celltypefair_1.FIXEDCELLS__Natural_killer_cell__DARs.unique.TOP2K.bed\n",
      "downstream_analysis/DARs/10xv11_celltypefair_1.FIXEDCELLS/10xv11_celltypefair_1.FIXEDCELLS__B_cell__DARs.unique.TOP2K.bed\n",
      "downstream_analysis/DARs/10xv11_celltypefair_1.FIXEDCELLS/10xv11_celltypefair_1.FIXEDCELLS__CD14+_monocyte__DARs.unique.TOP2K.bed\n",
      "downstream_analysis/DARs/10xv11_celltypefair_1.FIXEDCELLS/10xv11_celltypefair_1.FIXEDCELLS__CD16+_monocyte__DARs.unique.TOP2K.bed\n",
      "downstream_analysis/DARs/10xv11_celltypefair_1.FIXEDCELLS/10xv11_celltypefair_1.FIXEDCELLS__CD4+_T_cell__DARs.unique.TOP2K.bed\n",
      "downstream_analysis/DARs/10xv11_celltypefair_1.FIXEDCELLS/10xv11_celltypefair_1.FIXEDCELLS__Cytotoxic_T_cell__DARs.unique.TOP2K.bed\n",
      "downstream_analysis/DARs/10xv11_celltypefair_1.FIXEDCELLS/10xv11_celltypefair_1.FIXEDCELLS__Dendritic_cell__DARs.unique.TOP2K.bed\n",
      "downstream_analysis/DARs/10xv11_celltypefair_1.FIXEDCELLS/10xv11_celltypefair_1.FIXEDCELLS__Natural_killer_cell__DARs.unique.TOP2K.bed\n",
      "downstream_analysis/DARs/10xv1_celltypefair_1.FIXEDCELLS/10xv1_celltypefair_1.FIXEDCELLS__B_cell__DARs.unique.TOP2K.bed\n",
      "downstream_analysis/DARs/10xv1_celltypefair_1.FIXEDCELLS/10xv1_celltypefair_1.FIXEDCELLS__CD14+_monocyte__DARs.unique.TOP2K.bed\n",
      "downstream_analysis/DARs/10xv1_celltypefair_1.FIXEDCELLS/10xv1_celltypefair_1.FIXEDCELLS__CD16+_monocyte__DARs.unique.TOP2K.bed\n",
      "downstream_analysis/DARs/10xv1_celltypefair_1.FIXEDCELLS/10xv1_celltypefair_1.FIXEDCELLS__CD4+_T_cell__DARs.unique.TOP2K.bed\n",
      "downstream_analysis/DARs/10xv1_celltypefair_1.FIXEDCELLS/10xv1_celltypefair_1.FIXEDCELLS__Cytotoxic_T_cell__DARs.unique.TOP2K.bed\n",
      "downstream_analysis/DARs/10xv1_celltypefair_1.FIXEDCELLS/10xv1_celltypefair_1.FIXEDCELLS__Dendritic_cell__DARs.unique.TOP2K.bed\n",
      "downstream_analysis/DARs/10xv1_celltypefair_1.FIXEDCELLS/10xv1_celltypefair_1.FIXEDCELLS__Natural_killer_cell__DARs.unique.TOP2K.bed\n",
      "downstream_analysis/DARs/10xv2_celltypefair_1.FIXEDCELLS/10xv2_celltypefair_1.FIXEDCELLS__B_cell__DARs.unique.TOP2K.bed\n",
      "downstream_analysis/DARs/10xv2_celltypefair_1.FIXEDCELLS/10xv2_celltypefair_1.FIXEDCELLS__CD14+_monocyte__DARs.unique.TOP2K.bed\n",
      "downstream_analysis/DARs/10xv2_celltypefair_1.FIXEDCELLS/10xv2_celltypefair_1.FIXEDCELLS__CD16+_monocyte__DARs.unique.TOP2K.bed\n",
      "downstream_analysis/DARs/10xv2_celltypefair_1.FIXEDCELLS/10xv2_celltypefair_1.FIXEDCELLS__CD4+_T_cell__DARs.unique.TOP2K.bed\n",
      "downstream_analysis/DARs/10xv2_celltypefair_1.FIXEDCELLS/10xv2_celltypefair_1.FIXEDCELLS__Cytotoxic_T_cell__DARs.unique.TOP2K.bed\n",
      "downstream_analysis/DARs/10xv2_celltypefair_1.FIXEDCELLS/10xv2_celltypefair_1.FIXEDCELLS__Dendritic_cell__DARs.unique.TOP2K.bed\n",
      "downstream_analysis/DARs/10xv2_celltypefair_1.FIXEDCELLS/10xv2_celltypefair_1.FIXEDCELLS__Natural_killer_cell__DARs.unique.TOP2K.bed\n",
      "downstream_analysis/DARs/ddseq_celltypefair_1.FIXEDCELLS/ddseq_celltypefair_1.FIXEDCELLS__B_cell__DARs.unique.TOP2K.bed\n",
      "downstream_analysis/DARs/ddseq_celltypefair_1.FIXEDCELLS/ddseq_celltypefair_1.FIXEDCELLS__CD14+_monocyte__DARs.unique.TOP2K.bed\n",
      "downstream_analysis/DARs/ddseq_celltypefair_1.FIXEDCELLS/ddseq_celltypefair_1.FIXEDCELLS__CD16+_monocyte__DARs.unique.TOP2K.bed\n",
      "downstream_analysis/DARs/ddseq_celltypefair_1.FIXEDCELLS/ddseq_celltypefair_1.FIXEDCELLS__CD4+_T_cell__DARs.unique.TOP2K.bed\n",
      "downstream_analysis/DARs/ddseq_celltypefair_1.FIXEDCELLS/ddseq_celltypefair_1.FIXEDCELLS__Cytotoxic_T_cell__DARs.unique.TOP2K.bed\n",
      "downstream_analysis/DARs/ddseq_celltypefair_1.FIXEDCELLS/ddseq_celltypefair_1.FIXEDCELLS__Dendritic_cell__DARs.unique.TOP2K.bed\n",
      "downstream_analysis/DARs/ddseq_celltypefair_1.FIXEDCELLS/ddseq_celltypefair_1.FIXEDCELLS__Natural_killer_cell__DARs.unique.TOP2K.bed\n",
      "downstream_analysis/DARs/hydrop_celltypefair_1.FIXEDCELLS/hydrop_celltypefair_1.FIXEDCELLS__B_cell__DARs.unique.TOP2K.bed\n",
      "downstream_analysis/DARs/hydrop_celltypefair_1.FIXEDCELLS/hydrop_celltypefair_1.FIXEDCELLS__CD14+_monocyte__DARs.unique.TOP2K.bed\n",
      "downstream_analysis/DARs/hydrop_celltypefair_1.FIXEDCELLS/hydrop_celltypefair_1.FIXEDCELLS__CD16+_monocyte__DARs.unique.TOP2K.bed\n",
      "downstream_analysis/DARs/hydrop_celltypefair_1.FIXEDCELLS/hydrop_celltypefair_1.FIXEDCELLS__CD4+_T_cell__DARs.unique.TOP2K.bed\n",
      "downstream_analysis/DARs/hydrop_celltypefair_1.FIXEDCELLS/hydrop_celltypefair_1.FIXEDCELLS__Cytotoxic_T_cell__DARs.unique.TOP2K.bed\n",
      "downstream_analysis/DARs/hydrop_celltypefair_1.FIXEDCELLS/hydrop_celltypefair_1.FIXEDCELLS__Dendritic_cell__DARs.unique.TOP2K.bed\n",
      "downstream_analysis/DARs/hydrop_celltypefair_1.FIXEDCELLS/hydrop_celltypefair_1.FIXEDCELLS__Natural_killer_cell__DARs.unique.TOP2K.bed\n",
      "downstream_analysis/DARs/mtscatac_celltypefair_1.FIXEDCELLS/mtscatac_celltypefair_1.FIXEDCELLS__B_cell__DARs.unique.TOP2K.bed\n",
      "downstream_analysis/DARs/mtscatac_celltypefair_1.FIXEDCELLS/mtscatac_celltypefair_1.FIXEDCELLS__CD14+_monocyte__DARs.unique.TOP2K.bed\n",
      "downstream_analysis/DARs/mtscatac_celltypefair_1.FIXEDCELLS/mtscatac_celltypefair_1.FIXEDCELLS__CD16+_monocyte__DARs.unique.TOP2K.bed\n",
      "downstream_analysis/DARs/mtscatac_celltypefair_1.FIXEDCELLS/mtscatac_celltypefair_1.FIXEDCELLS__CD4+_T_cell__DARs.unique.TOP2K.bed\n",
      "downstream_analysis/DARs/mtscatac_celltypefair_1.FIXEDCELLS/mtscatac_celltypefair_1.FIXEDCELLS__Cytotoxic_T_cell__DARs.unique.TOP2K.bed\n",
      "downstream_analysis/DARs/mtscatac_celltypefair_1.FIXEDCELLS/mtscatac_celltypefair_1.FIXEDCELLS__Dendritic_cell__DARs.unique.TOP2K.bed\n",
      "downstream_analysis/DARs/mtscatac_celltypefair_1.FIXEDCELLS/mtscatac_celltypefair_1.FIXEDCELLS__Natural_killer_cell__DARs.unique.TOP2K.bed\n",
      "downstream_analysis/DARs/s3atac_celltypefair_1.FIXEDCELLS/s3atac_celltypefair_1.FIXEDCELLS__B_cell__DARs.unique.TOP2K.bed\n",
      "downstream_analysis/DARs/s3atac_celltypefair_1.FIXEDCELLS/s3atac_celltypefair_1.FIXEDCELLS__CD14+_monocyte__DARs.unique.TOP2K.bed\n",
      "downstream_analysis/DARs/s3atac_celltypefair_1.FIXEDCELLS/s3atac_celltypefair_1.FIXEDCELLS__CD16+_monocyte__DARs.unique.TOP2K.bed\n",
      "downstream_analysis/DARs/s3atac_celltypefair_1.FIXEDCELLS/s3atac_celltypefair_1.FIXEDCELLS__CD4+_T_cell__DARs.unique.TOP2K.bed\n",
      "downstream_analysis/DARs/s3atac_celltypefair_1.FIXEDCELLS/s3atac_celltypefair_1.FIXEDCELLS__Cytotoxic_T_cell__DARs.unique.TOP2K.bed\n",
      "downstream_analysis/DARs/s3atac_celltypefair_1.FIXEDCELLS/s3atac_celltypefair_1.FIXEDCELLS__Dendritic_cell__DARs.unique.TOP2K.bed\n",
      "downstream_analysis/DARs/s3atac_celltypefair_1.FIXEDCELLS/s3atac_celltypefair_1.FIXEDCELLS__Natural_killer_cell__DARs.unique.TOP2K.bed\n"
     ]
    }
   ],
   "source": [
    "ctx_regions=/staging/leuven/stg_00002/lcb/icistarget/data/regions/homo_sapiens/hg38/refseq-r109/region_based/hg38.ENCODE3_regions.blacklisted.regionid-location.bed\n",
    "overlap_fraction=0.4\n",
    "rm bedtools_overlap_ctx.parallel\n",
    "for dar_path in downstream_analysis/DARs/*/*.unique.TOP2K.bed\n",
    "do\n",
    "    echo $dar_path\n",
    "    sample=(`basename $dar_path`)\n",
    "    outfile=${dar_path%.bed}.ENCODE3_overlap.bed\n",
    "        # bedtools intersect -wo -e -f 0.4 -F 0.4 -a <BED file with scored regions> -b <BED file with peaks | cut -f 4 | sort -u\n",
    "    bedtools intersect -wo -e -f $overlap_fraction -F $overlap_fraction -a $ctx_regions -b $dar_path  | cut -f 4 | sort -u > $outfile\n",
    "done"
   ]
  },
  {
   "cell_type": "markdown",
   "id": "90e3fc74-0e29-46f0-be44-39253db8d3e1",
   "metadata": {},
   "source": [
    "# create gmt"
   ]
  },
  {
   "cell_type": "code",
   "execution_count": 14,
   "id": "ee95906d",
   "metadata": {
    "execution": {
     "iopub.execute_input": "2023-02-20T18:32:31.473180Z",
     "iopub.status.busy": "2023-02-20T18:32:31.472527Z",
     "iopub.status.idle": "2023-02-20T18:32:33.013999Z",
     "shell.execute_reply": "2023-02-20T18:32:33.012639Z",
     "shell.execute_reply.started": "2023-02-20T18:32:31.473132Z"
    },
    "tags": []
   },
   "outputs": [],
   "source": [
    "for overlap_file in downstream_analysis/DARs/*/*.ENCODE3_overlap.bed\n",
    "do\n",
    "   printf \"%s\\t%s\\t\" $(basename $overlap_file) $(basename $overlap_file)\n",
    "   cat $overlap_file | tr '\\n' '\\t' | head -c -1\n",
    "   printf \"\\n\"\n",
    "done > downstream_analysis/individual_tech_cistopic_objects.gmt"
   ]
  },
  {
   "cell_type": "markdown",
   "id": "e10e4d7a-9c54-414d-b9e8-d7a530ff1be9",
   "metadata": {},
   "source": [
    "# then transfer gmt to gbw-s-seq10"
   ]
  },
  {
   "cell_type": "markdown",
   "id": "cb19719b-f9d1-4df5-a3e8-7ca0b9ecd15d",
   "metadata": {
    "execution": {
     "iopub.execute_input": "2023-02-20T18:36:20.150021Z",
     "iopub.status.busy": "2023-02-20T18:36:20.149375Z",
     "iopub.status.idle": "2023-02-20T18:36:21.481220Z",
     "shell.execute_reply": "2023-02-20T18:36:21.479197Z",
     "shell.execute_reply.started": "2023-02-20T18:36:20.149973Z"
    }
   },
   "source": [
    "rsync -avPL r23i27n23:/lustre1/project/stg_00090/scatac_benchmark/fixedcells_8_individual_tech_cistopic_objects/downstream_analysis/individual_tech_cistopic_objects.gmt ."
   ]
  },
  {
   "cell_type": "markdown",
   "id": "4821c9fe",
   "metadata": {},
   "source": [
    "# run cistarget"
   ]
  },
  {
   "cell_type": "code",
   "execution_count": 11,
   "id": "233b4454",
   "metadata": {
    "execution": {
     "iopub.execute_input": "2023-02-20T18:31:17.684365Z",
     "iopub.status.busy": "2023-02-20T18:31:17.683704Z",
     "iopub.status.idle": "2023-02-20T18:31:17.793749Z",
     "shell.execute_reply": "2023-02-20T18:31:17.792029Z",
     "shell.execute_reply.started": "2023-02-20T18:31:17.684316Z"
    },
    "tags": []
   },
   "outputs": [
    {
     "name": "stdout",
     "output_type": "stream",
     "text": [
      "bash: ctx-rcc: command not found\n"
     ]
    },
    {
     "ename": "",
     "evalue": "127",
     "output_type": "error",
     "traceback": []
    }
   ],
   "source": [
    "PATH=/media/data/daemons/icistarget/icistarget_venv/bin ctx-rcc -h"
   ]
  },
  {
   "cell_type": "code",
   "execution_count": null,
   "id": "549f3544",
   "metadata": {},
   "outputs": [],
   "source": [
    "Usage: python ctx-rcc [-o html_report] <inifile> [<genesetfile>] <outputdir>\n",
    "       python ctx-rcc -o [tsv_overview|html_overview] <inifile> <genesetfile1> <genesetfile2> ...\n",
    "       python ctx-rcc -o filter <inifile> <genesetfile1> <genesetfile2> ...\n",
    "\n",
    "Optional parameters: -n <NES-threshold> (overrides value in ini-file)\n",
    "                     -r <rank-threshold> (overrides value in ini-file)\n",
    "                     -a <AUC-percentage-threshold> (overrides value in ini-file)\n",
    "                     -c <feature1>;<feature2>;... (overrides value in ini-file)\n",
    "                     -t <report-title> : the title to be used in the HTML report.\n",
    "                     -f gmt(=gmt_comma)|gmt_tab|gmt_comma|gmt_semicolon|legacy|auto : the gene signature input format; default is auto detection of format.\n",
    "When supplying multiple filenames with genesets the results table will have an additional column containing the ID of the geneset. The ID is taken as the filename without extension.\n",
    "One of the geneset filenames can be 'stdin'."
   ]
  },
  {
   "cell_type": "code",
   "execution_count": 8,
   "id": "8ce9b126",
   "metadata": {
    "execution": {
     "iopub.execute_input": "2023-02-20T18:31:08.852220Z",
     "iopub.status.busy": "2023-02-20T18:31:08.851566Z",
     "iopub.status.idle": "2023-02-20T18:31:09.078712Z",
     "shell.execute_reply": "2023-02-20T18:31:09.077039Z",
     "shell.execute_reply.started": "2023-02-20T18:31:08.852173Z"
    }
   },
   "outputs": [
    {
     "name": "stdout",
     "output_type": "stream",
     "text": [
      "bash: ctx-rcc: command not found\n"
     ]
    },
    {
     "ename": "",
     "evalue": "127",
     "output_type": "error",
     "traceback": []
    }
   ],
   "source": [
    "ini_path=/media/data/lcb/icistarget/config_files/ctx-rcc/region-based/all_regions/ctx-rcc.homo_sapiens__hg38__refseq-r80__region-based__all_regions.mcv9__regulatory.ini\n",
    "PATH=/media/data/daemons/icistarget/icistarget_venv/bin:$PATH\n",
    "ctx-rcc -o tsv_overview -t individual_tech_cistopic_objects -f gmt_tab  -n 1.0  $ini_path individual_tech_cistopic_objects.gmt > individual_tech_cistopic_objects.NOMINNES.ctx"
   ]
  },
  {
   "cell_type": "markdown",
   "id": "a2084303",
   "metadata": {},
   "source": [
    "# For male/female:"
   ]
  },
  {
   "cell_type": "code",
   "execution_count": 7,
   "id": "21277913",
   "metadata": {
    "execution": {
     "iopub.execute_input": "2023-02-20T18:29:25.131654Z",
     "iopub.status.busy": "2023-02-20T18:29:25.131128Z",
     "iopub.status.idle": "2023-02-20T18:29:25.777156Z",
     "shell.execute_reply": "2023-02-20T18:29:25.775522Z",
     "shell.execute_reply.started": "2023-02-20T18:29:25.131610Z"
    },
    "tags": []
   },
   "outputs": [
    {
     "name": "stdout",
     "output_type": "stream",
     "text": [
      "rm: cannot remove 'bedtools_overlap_ctx.parallel': No such file or directory\n",
      "male_female_DARs/*/*.bed\n",
      "bash: male_female_DARs/*/*.ENCODE3_overlap.bed: No such file or directory\n",
      "Error: Unable to open file male_female_DARs/*/*.bed. Exiting.\n"
     ]
    },
    {
     "ename": "",
     "evalue": "1",
     "output_type": "error",
     "traceback": []
    }
   ],
   "source": [
    "ctx_regions=/staging/leuven/stg_00002/lcb/icistarget/data/regions/homo_sapiens/hg38/refseq-r109/region_based/hg38.ENCODE3_regions.blacklisted.regionid-location.bed\n",
    "overlap_fraction=0.4\n",
    "rm bedtools_overlap_ctx.parallel\n",
    "for dar_path in harmony_consensus_cell_type__mega_male_female_DARs/*/*unique.TOP2K.bed\n",
    "do\n",
    "    echo $dar_path\n",
    "    sample=(`basename $dar_path`)\n",
    "    outfile=${dar_path%.bed}.ENCODE3_overlap.bed\n",
    "        # bedtools intersect -wo -e -f 0.4 -F 0.4 -a <BED file with scored regions> -b <BED file with peaks | cut -f 4 | sort -u\n",
    "    bedtools intersect -wo -e -f $overlap_fraction -F $overlap_fraction -a $ctx_regions -b $dar_path  | cut -f 4 | sort -u > $outfile\n",
    "done"
   ]
  },
  {
   "cell_type": "code",
   "execution_count": null,
   "id": "0a9bc9e1-c509-43bf-a843-e237d8e500ae",
   "metadata": {},
   "outputs": [],
   "source": [
    "for overlap_file in harmony_consensus_cell_type__mega_male_female_DARs/*/*.ENCODE3_overlap.bed\n",
    "do\n",
    "   printf \"%s\\t%s\\t\" $(basename $overlap_file) $(basename $overlap_file)\n",
    "   cat $overlap_file | tr '\\n' '\\t' | head -c -1\n",
    "   printf \"\\n\"\n",
    "done > harmony_consensus_cell_type__mega_male_female_DARs/male_female_DARs_all_overlap_ENCODE3.gmt"
   ]
  },
  {
   "cell_type": "markdown",
   "id": "08d94c1b-e8d2-458d-ab10-e5ad874f250d",
   "metadata": {
    "execution": {
     "iopub.execute_input": "2023-02-20T18:36:20.150021Z",
     "iopub.status.busy": "2023-02-20T18:36:20.149375Z",
     "iopub.status.idle": "2023-02-20T18:36:21.481220Z",
     "shell.execute_reply": "2023-02-20T18:36:21.479197Z",
     "shell.execute_reply.started": "2023-02-20T18:36:20.149973Z"
    }
   },
   "source": [
    "rsync -avPL r23i27n23:/lustre1/project/stg_00090/scatac_benchmark/fixedcells_8_individual_tech_cistopic_objects/downstream_analysis/individual_tech_cistopic_objects.gmt ."
   ]
  },
  {
   "cell_type": "code",
   "execution_count": null,
   "id": "1e6640e9",
   "metadata": {},
   "outputs": [],
   "source": [
    "ini_path=/media/data/lcb/icistarget/config_files/ctx-rcc/region-based/all_regions/ctx-rcc.homo_sapiens__hg38__refseq-r80__region-based__all_regions.mcv9__regulatory.ini\n",
    "PATH=/media/data/daemons/icistarget/icistarget_venv/bin:$PATH\n",
    "ctx-rcc -o tsv_overview -t fixedcells_male_female_DARs_all_overlap_ENCODE3 -f gmt_tab  -n 1.0  $ini_path fixedcells_male_female_DARs_all_overlap_ENCODE3.gmt > fixedcells_male_female_DARs_all_overlap_ENCODE3.NOMINNES.ctx"
   ]
  },
  {
   "cell_type": "markdown",
   "id": "bb9524c4",
   "metadata": {},
   "source": [
    "Complains that `SAN_10xmultiome_1.FIXEDCELLS__sampleB_CD14+_monocyte_VS_sampleA_CD14+_monocyte__1-2xfoldchange_DARs.ENCODE3_overlap.bed` has no overlaps --> delete"
   ]
  },
  {
   "cell_type": "code",
   "execution_count": null,
   "id": "ff5e9d88",
   "metadata": {},
   "outputs": [],
   "source": []
  }
 ],
 "metadata": {
  "kernelspec": {
   "display_name": "Bash",
   "language": "bash",
   "name": "bash"
  },
  "language_info": {
   "codemirror_mode": "shell",
   "file_extension": ".sh",
   "mimetype": "text/x-sh",
   "name": "bash"
  }
 },
 "nbformat": 4,
 "nbformat_minor": 5
}

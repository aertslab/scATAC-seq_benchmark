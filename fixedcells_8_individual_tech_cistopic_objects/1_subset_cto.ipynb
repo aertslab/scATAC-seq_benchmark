{
 "cells": [
  {
   "cell_type": "code",
   "execution_count": 1,
   "id": "07696c9f-31b1-462b-b8a2-49093bc39c1c",
   "metadata": {
    "execution": {
     "iopub.execute_input": "2023-01-30T13:55:44.891679Z",
     "iopub.status.busy": "2023-01-30T13:55:44.890695Z",
     "iopub.status.idle": "2023-01-30T13:56:34.032393Z",
     "shell.execute_reply": "2023-01-30T13:56:34.030799Z",
     "shell.execute_reply.started": "2023-01-30T13:55:44.891508Z"
    },
    "tags": []
   },
   "outputs": [],
   "source": [
    "import os\n",
    "import glob\n",
    "import pandas as pd\n",
    "import seaborn as sns\n",
    "import matplotlib.pyplot as plt\n",
    "import random\n",
    "import pickle\n",
    "\n",
    "%load_ext lab_black"
   ]
  },
  {
   "cell_type": "code",
   "execution_count": 4,
   "id": "2a18b0c8-fc65-4b3f-8b52-1df760482e15",
   "metadata": {
    "execution": {
     "iopub.execute_input": "2023-01-30T13:56:42.234525Z",
     "iopub.status.busy": "2023-01-30T13:56:42.233703Z",
     "iopub.status.idle": "2023-01-30T13:56:42.243086Z",
     "shell.execute_reply": "2023-01-30T13:56:42.241584Z",
     "shell.execute_reply.started": "2023-01-30T13:56:42.234463Z"
    },
    "tags": []
   },
   "outputs": [],
   "source": [
    "cto_path = \"cistopic_objects/master_celltypefair_1.FIXEDCELLS__cto.scrublet0-4.fmx.singlets.pkl\""
   ]
  },
  {
   "cell_type": "code",
   "execution_count": 5,
   "id": "4e7d325b-eed3-4617-91e5-6bef69b5a64f",
   "metadata": {
    "execution": {
     "iopub.execute_input": "2023-01-30T13:56:42.434324Z",
     "iopub.status.busy": "2023-01-30T13:56:42.433535Z",
     "iopub.status.idle": "2023-01-30T13:57:09.109873Z",
     "shell.execute_reply": "2023-01-30T13:57:09.108478Z",
     "shell.execute_reply.started": "2023-01-30T13:56:42.434266Z"
    },
    "tags": []
   },
   "outputs": [],
   "source": [
    "with open(cto_path, \"rb\") as f:\n",
    "    cto_all = pickle.load(f)"
   ]
  },
  {
   "cell_type": "code",
   "execution_count": null,
   "id": "3159e7a7-57f2-4c2f-9160-2a363d2c748b",
   "metadata": {},
   "outputs": [],
   "source": []
  },
  {
   "cell_type": "code",
   "execution_count": 11,
   "id": "c028ca3a-86eb-4b87-bb5a-504861a3321e",
   "metadata": {
    "execution": {
     "iopub.execute_input": "2023-01-30T13:57:44.835671Z",
     "iopub.status.busy": "2023-01-30T13:57:44.834851Z",
     "iopub.status.idle": "2023-01-30T13:57:44.863430Z",
     "shell.execute_reply": "2023-01-30T13:57:44.861830Z",
     "shell.execute_reply.started": "2023-01-30T13:57:44.835610Z"
    },
    "tags": []
   },
   "outputs": [],
   "source": [
    "cto_all.cell_data[\"harmony_consensus_cell_type__mega_tech\"] = (\n",
    "    cto_all.cell_data[\"harmony_consensus_cell_type__mega\"]\n",
    "    + \"__\"\n",
    "    + cto_all.cell_data[\"tech\"]\n",
    ")"
   ]
  },
  {
   "cell_type": "code",
   "execution_count": 20,
   "id": "139ff581-4bcf-4af0-baf6-6715c638c698",
   "metadata": {
    "execution": {
     "iopub.execute_input": "2023-01-30T14:00:33.571851Z",
     "iopub.status.busy": "2023-01-30T14:00:33.570990Z",
     "iopub.status.idle": "2023-01-30T14:00:47.303381Z",
     "shell.execute_reply": "2023-01-30T14:00:47.302177Z",
     "shell.execute_reply.started": "2023-01-30T14:00:33.571788Z"
    },
    "tags": []
   },
   "outputs": [
    {
     "name": "stdout",
     "output_type": "stream",
     "text": [
      "s3atac\n",
      "10xmultiome\n",
      "10xv11\n",
      "hydrop\n",
      "10xv2\n",
      "ddseq\n",
      "mtscatac\n",
      "10xv1\n"
     ]
    }
   ],
   "source": [
    "for tech in cto_all.cell_data[\"tech\"].unique():\n",
    "    print(tech)\n",
    "    bcs = cto_all.cell_data[cto_all.cell_data[\"tech\"] == tech].index\n",
    "    cto_sub = cto_all.subset(bcs, copy=True)\n",
    "\n",
    "    cto_path_new = f\"cistopic_objects/{tech}_celltypefair_1.FIXEDCELLS__cto.scrublet0-4.fmx.singlets.pkl\"\n",
    "    with open(cto_path_new, \"wb\") as f:\n",
    "        pickle.dump(cto_sub, f, protocol=4)"
   ]
  },
  {
   "cell_type": "code",
   "execution_count": 36,
   "id": "485694f2-b02a-4848-a666-f3fdc5038b09",
   "metadata": {
    "execution": {
     "iopub.execute_input": "2023-01-05T12:15:26.868687Z",
     "iopub.status.busy": "2023-01-05T12:15:26.867781Z",
     "iopub.status.idle": "2023-01-05T12:15:43.474959Z",
     "shell.execute_reply": "2023-01-05T12:15:43.473904Z",
     "shell.execute_reply.started": "2023-01-05T12:15:26.868628Z"
    },
    "tags": []
   },
   "outputs": [],
   "source": []
  }
 ],
 "metadata": {
  "kernelspec": {
   "display_name": "20221014_pycistopic.sif",
   "language": "python",
   "name": "cistopic_20221014"
  },
  "language_info": {
   "codemirror_mode": {
    "name": "ipython",
    "version": 3
   },
   "file_extension": ".py",
   "mimetype": "text/x-python",
   "name": "python",
   "nbconvert_exporter": "python",
   "pygments_lexer": "ipython3",
   "version": "3.8.15"
  }
 },
 "nbformat": 4,
 "nbformat_minor": 5
}

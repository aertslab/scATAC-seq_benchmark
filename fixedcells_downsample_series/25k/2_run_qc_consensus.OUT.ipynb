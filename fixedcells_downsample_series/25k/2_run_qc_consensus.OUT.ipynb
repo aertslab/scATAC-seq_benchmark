{
 "cells": [
  {
   "cell_type": "code",
   "execution_count": 1,
   "id": "5c0cea95",
   "metadata": {
    "execution": {
     "iopub.execute_input": "2022-09-15T12:39:52.096165Z",
     "iopub.status.busy": "2022-09-15T12:39:52.095561Z",
     "iopub.status.idle": "2022-09-15T12:40:01.933994Z",
     "shell.execute_reply": "2022-09-15T12:40:01.933300Z"
    },
    "papermill": {
     "duration": 9.918766,
     "end_time": "2022-09-15T12:40:02.007537",
     "exception": false,
     "start_time": "2022-09-15T12:39:52.088771",
     "status": "completed"
    },
    "tags": []
   },
   "outputs": [],
   "source": [
    "import pycisTopic\n",
    "import glob\n",
    "import os\n",
    "import pybiomart as pbm\n",
    "import pandas as pd\n",
    "import pickle\n",
    "from pycisTopic.qc import *\n",
    "from IPython.display import Image, display\n",
    "import matplotlib.pyplot as plt\n",
    "import numpy as np\n",
    "import seaborn as sns\n",
    "\n",
    "import multiprocess as mp  # for kde multithreading calculation\n",
    "from multiprocess import Pool\n",
    "\n",
    "%matplotlib inline\n",
    "%load_ext lab_black"
   ]
  },
  {
   "cell_type": "markdown",
   "id": "7c7a43c8",
   "metadata": {
    "papermill": {
     "duration": 0.00483,
     "end_time": "2022-09-15T12:40:02.046642",
     "exception": false,
     "start_time": "2022-09-15T12:40:02.041812",
     "status": "completed"
    },
    "tags": []
   },
   "source": [
    "# Download annotation"
   ]
  },
  {
   "cell_type": "code",
   "execution_count": 2,
   "id": "8d799645-cbe0-43be-b2af-cb773840f783",
   "metadata": {
    "execution": {
     "iopub.execute_input": "2022-09-15T12:40:02.056742Z",
     "iopub.status.busy": "2022-09-15T12:40:02.056011Z",
     "iopub.status.idle": "2022-09-15T12:40:02.285402Z",
     "shell.execute_reply": "2022-09-15T12:40:02.284673Z"
    },
    "papermill": {
     "duration": 0.235625,
     "end_time": "2022-09-15T12:40:02.286504",
     "exception": false,
     "start_time": "2022-09-15T12:40:02.050879",
     "status": "completed"
    },
    "tags": []
   },
   "outputs": [
    {
     "name": "stdout",
     "output_type": "stream",
     "text": [
      "/dodrio/scratch/projects/starting_2022_023/benchmark/scatac_benchmark/downsample_series/25k\r\n"
     ]
    }
   ],
   "source": [
    "!pwd"
   ]
  },
  {
   "cell_type": "code",
   "execution_count": 3,
   "id": "1637befe-6dd6-4a77-b59e-1f696ba36b74",
   "metadata": {
    "execution": {
     "iopub.execute_input": "2022-09-15T12:40:02.296950Z",
     "iopub.status.busy": "2022-09-15T12:40:02.296482Z",
     "iopub.status.idle": "2022-09-15T12:40:02.301265Z",
     "shell.execute_reply": "2022-09-15T12:40:02.300720Z"
    },
    "papermill": {
     "duration": 0.010763,
     "end_time": "2022-09-15T12:40:02.302160",
     "exception": false,
     "start_time": "2022-09-15T12:40:02.291397",
     "status": "completed"
    },
    "tags": []
   },
   "outputs": [],
   "source": [
    "depth_str = os.getcwd().split(\"/\")[-1]"
   ]
  },
  {
   "cell_type": "code",
   "execution_count": 4,
   "id": "f587154d",
   "metadata": {
    "execution": {
     "iopub.execute_input": "2022-09-15T12:40:02.311702Z",
     "iopub.status.busy": "2022-09-15T12:40:02.311533Z",
     "iopub.status.idle": "2022-09-15T12:40:02.315421Z",
     "shell.execute_reply": "2022-09-15T12:40:02.314870Z"
    },
    "papermill": {
     "duration": 0.009728,
     "end_time": "2022-09-15T12:40:02.316347",
     "exception": false,
     "start_time": "2022-09-15T12:40:02.306619",
     "status": "completed"
    },
    "tags": []
   },
   "outputs": [],
   "source": [
    "wdir = f\"/dodrio/scratch/projects/starting_2022_023/benchmark/scatac_benchmark/downsample_series/{depth_str}\"\n",
    "os.chdir(wdir)"
   ]
  },
  {
   "cell_type": "code",
   "execution_count": 5,
   "id": "8abb4492",
   "metadata": {
    "execution": {
     "iopub.execute_input": "2022-09-15T12:40:02.326046Z",
     "iopub.status.busy": "2022-09-15T12:40:02.325665Z",
     "iopub.status.idle": "2022-09-15T12:40:02.413006Z",
     "shell.execute_reply": "2022-09-15T12:40:02.412293Z"
    },
    "papermill": {
     "duration": 0.093215,
     "end_time": "2022-09-15T12:40:02.414017",
     "exception": false,
     "start_time": "2022-09-15T12:40:02.320802",
     "status": "completed"
    },
    "tags": []
   },
   "outputs": [
    {
     "name": "stdout",
     "output_type": "stream",
     "text": [
      "Loading cached genome annotation...\n"
     ]
    }
   ],
   "source": [
    "genome = \"hg38\"\n",
    "\n",
    "pbm_genome_name_dict = {\n",
    "    \"hg38\": \"hsapiens_gene_ensembl\",\n",
    "    \"hg37\": \"hsapiens_gene_ensembl\",\n",
    "    \"mm10\": \"mmusculus_gene_ensembl\",\n",
    "    \"dm6\": \"dmelanogaster_gene_ensembl\",\n",
    "}\n",
    "\n",
    "pbm_host_dict = {\n",
    "    \"hg38\": \"http://www.ensembl.org\",\n",
    "    \"hg37\": \"http://grch37.ensembl.org/\",\n",
    "    \"mm10\": \"http://nov2020.archive.ensembl.org/\",\n",
    "    \"dm6\": \"http://www.ensembl.org\",\n",
    "}\n",
    "\n",
    "if os.path.exists(f\"../annotation.tsv\"):\n",
    "    print(f\"Loading cached genome annotation...\")\n",
    "    annotation = pd.read_csv(\"../annotation.tsv\", sep=\"\\t\", header=0, index_col=0)\n",
    "else:\n",
    "    dataset = pbm.Dataset(name=pbm_genome_name_dict[genome], host=pbm_host_dict[genome])\n",
    "\n",
    "    annotation = dataset.query(\n",
    "        attributes=[\n",
    "            \"chromosome_name\",\n",
    "            \"transcription_start_site\",\n",
    "            \"strand\",\n",
    "            \"external_gene_name\",\n",
    "            \"transcript_biotype\",\n",
    "        ]\n",
    "    )\n",
    "    filter = annotation[\"Chromosome/scaffold name\"].str.contains(\"CHR|GL|JH|MT\")\n",
    "    annotation = annotation[~filter]\n",
    "    annotation[\"Chromosome/scaffold name\"] = annotation[\n",
    "        \"Chromosome/scaffold name\"\n",
    "    ].str.replace(r\"(\\b\\S)\", r\"chr\\1\")\n",
    "    annotation.columns = [\"Chromosome\", \"Start\", \"Strand\", \"Gene\", \"Transcript_type\"]\n",
    "    annotation = annotation[annotation.Transcript_type == \"protein_coding\"]\n",
    "    annotation.to_csv(\"annotation.tsv\", sep=\"\\t\")"
   ]
  },
  {
   "cell_type": "code",
   "execution_count": 6,
   "id": "79a968e4",
   "metadata": {
    "execution": {
     "iopub.execute_input": "2022-09-15T12:40:02.424476Z",
     "iopub.status.busy": "2022-09-15T12:40:02.424073Z",
     "iopub.status.idle": "2022-09-15T12:40:02.437140Z",
     "shell.execute_reply": "2022-09-15T12:40:02.436615Z"
    },
    "papermill": {
     "duration": 0.019237,
     "end_time": "2022-09-15T12:40:02.438131",
     "exception": false,
     "start_time": "2022-09-15T12:40:02.418894",
     "status": "completed"
    },
    "tags": []
   },
   "outputs": [
    {
     "data": {
      "text/plain": [
       "{'BIO_ddseq_1.25k': '25k_preprocessing_out/data/fragments/BIO_ddseq_1.25k.fragments.tsv.gz',\n",
       " 'BIO_ddseq_2.25k': '25k_preprocessing_out/data/fragments/BIO_ddseq_2.25k.fragments.tsv.gz',\n",
       " 'BIO_ddseq_3.25k': '25k_preprocessing_out/data/fragments/BIO_ddseq_3.25k.fragments.tsv.gz',\n",
       " 'BIO_ddseq_4.25k': '25k_preprocessing_out/data/fragments/BIO_ddseq_4.25k.fragments.tsv.gz',\n",
       " 'BRO_mtscatac_1.25k': '25k_preprocessing_out/data/fragments/BRO_mtscatac_1.25k.fragments.tsv.gz',\n",
       " 'BRO_mtscatac_2.25k': '25k_preprocessing_out/data/fragments/BRO_mtscatac_2.25k.fragments.tsv.gz',\n",
       " 'CNA_10xmultiome_1.25k': '25k_preprocessing_out/data/fragments/CNA_10xmultiome_1.25k.fragments.tsv.gz',\n",
       " 'CNA_10xmultiome_2.25k': '25k_preprocessing_out/data/fragments/CNA_10xmultiome_2.25k.fragments.tsv.gz',\n",
       " 'CNA_10xv11_1.25k': '25k_preprocessing_out/data/fragments/CNA_10xv11_1.25k.fragments.tsv.gz',\n",
       " 'CNA_10xv11_2.25k': '25k_preprocessing_out/data/fragments/CNA_10xv11_2.25k.fragments.tsv.gz',\n",
       " 'CNA_10xv11_3.25k': '25k_preprocessing_out/data/fragments/CNA_10xv11_3.25k.fragments.tsv.gz',\n",
       " 'CNA_10xv11_4.25k': '25k_preprocessing_out/data/fragments/CNA_10xv11_4.25k.fragments.tsv.gz',\n",
       " 'CNA_10xv11_5.25k': '25k_preprocessing_out/data/fragments/CNA_10xv11_5.25k.fragments.tsv.gz',\n",
       " 'CNA_10xv2_1.25k': '25k_preprocessing_out/data/fragments/CNA_10xv2_1.25k.fragments.tsv.gz',\n",
       " 'CNA_10xv2_2.25k': '25k_preprocessing_out/data/fragments/CNA_10xv2_2.25k.fragments.tsv.gz',\n",
       " 'CNA_hydrop_1.25k': '25k_preprocessing_out/data/fragments/CNA_hydrop_1.25k.fragments.tsv.gz',\n",
       " 'CNA_hydrop_2.25k': '25k_preprocessing_out/data/fragments/CNA_hydrop_2.25k.fragments.tsv.gz',\n",
       " 'CNA_hydrop_3.25k': '25k_preprocessing_out/data/fragments/CNA_hydrop_3.25k.fragments.tsv.gz',\n",
       " 'CNA_mtscatac_1.25k': '25k_preprocessing_out/data/fragments/CNA_mtscatac_1.25k.fragments.tsv.gz',\n",
       " 'CNA_mtscatac_2.25k': '25k_preprocessing_out/data/fragments/CNA_mtscatac_2.25k.fragments.tsv.gz',\n",
       " 'EPF_hydrop_1.25k': '25k_preprocessing_out/data/fragments/EPF_hydrop_1.25k.fragments.tsv.gz',\n",
       " 'EPF_hydrop_2.25k': '25k_preprocessing_out/data/fragments/EPF_hydrop_2.25k.fragments.tsv.gz',\n",
       " 'EPF_hydrop_3.25k': '25k_preprocessing_out/data/fragments/EPF_hydrop_3.25k.fragments.tsv.gz',\n",
       " 'EPF_hydrop_4.25k': '25k_preprocessing_out/data/fragments/EPF_hydrop_4.25k.fragments.tsv.gz',\n",
       " 'HAR_ddseq_1.25k': '25k_preprocessing_out/data/fragments/HAR_ddseq_1.25k.fragments.tsv.gz',\n",
       " 'HAR_ddseq_2.25k': '25k_preprocessing_out/data/fragments/HAR_ddseq_2.25k.fragments.tsv.gz',\n",
       " 'MDC_mtscatac_1.25k': '25k_preprocessing_out/data/fragments/MDC_mtscatac_1.25k.fragments.tsv.gz',\n",
       " 'MDC_mtscatac_2.25k': '25k_preprocessing_out/data/fragments/MDC_mtscatac_2.25k.fragments.tsv.gz',\n",
       " 'OHS_s3atac_1.25k': '25k_preprocessing_out/data/fragments/OHS_s3atac_1.25k.fragments.tsv.gz',\n",
       " 'OHS_s3atac_2.25k': '25k_preprocessing_out/data/fragments/OHS_s3atac_2.25k.fragments.tsv.gz',\n",
       " 'SAN_10xmultiome_1.25k': '25k_preprocessing_out/data/fragments/SAN_10xmultiome_1.25k.fragments.tsv.gz',\n",
       " 'SAN_10xmultiome_2.25k': '25k_preprocessing_out/data/fragments/SAN_10xmultiome_2.25k.fragments.tsv.gz',\n",
       " 'STA_10xv11_1.25k': '25k_preprocessing_out/data/fragments/STA_10xv11_1.25k.fragments.tsv.gz',\n",
       " 'STA_10xv11_2.25k': '25k_preprocessing_out/data/fragments/STA_10xv11_2.25k.fragments.tsv.gz',\n",
       " 'TXG_10xv11_1.25k': '25k_preprocessing_out/data/fragments/TXG_10xv11_1.25k.fragments.tsv.gz',\n",
       " 'TXG_10xv2_1.25k': '25k_preprocessing_out/data/fragments/TXG_10xv2_1.25k.fragments.tsv.gz',\n",
       " 'TXG_10xv2_2.25k': '25k_preprocessing_out/data/fragments/TXG_10xv2_2.25k.fragments.tsv.gz',\n",
       " 'UCS_ddseq_1.25k': '25k_preprocessing_out/data/fragments/UCS_ddseq_1.25k.fragments.tsv.gz',\n",
       " 'UCS_ddseq_2.25k': '25k_preprocessing_out/data/fragments/UCS_ddseq_2.25k.fragments.tsv.gz',\n",
       " 'VIB_10xmultiome_1.25k': '25k_preprocessing_out/data/fragments/VIB_10xmultiome_1.25k.fragments.tsv.gz',\n",
       " 'VIB_10xmultiome_2.25k': '25k_preprocessing_out/data/fragments/VIB_10xmultiome_2.25k.fragments.tsv.gz',\n",
       " 'VIB_10xv1_1.25k': '25k_preprocessing_out/data/fragments/VIB_10xv1_1.25k.fragments.tsv.gz',\n",
       " 'VIB_10xv1_2.25k': '25k_preprocessing_out/data/fragments/VIB_10xv1_2.25k.fragments.tsv.gz',\n",
       " 'VIB_10xv2_1.25k': '25k_preprocessing_out/data/fragments/VIB_10xv2_1.25k.fragments.tsv.gz',\n",
       " 'VIB_10xv2_2.25k': '25k_preprocessing_out/data/fragments/VIB_10xv2_2.25k.fragments.tsv.gz',\n",
       " 'VIB_hydrop_11.25k': '25k_preprocessing_out/data/fragments/VIB_hydrop_11.25k.fragments.tsv.gz',\n",
       " 'VIB_hydrop_12.25k': '25k_preprocessing_out/data/fragments/VIB_hydrop_12.25k.fragments.tsv.gz',\n",
       " 'VIB_hydrop_21.25k': '25k_preprocessing_out/data/fragments/VIB_hydrop_21.25k.fragments.tsv.gz',\n",
       " 'VIB_hydrop_22.25k': '25k_preprocessing_out/data/fragments/VIB_hydrop_22.25k.fragments.tsv.gz'}"
      ]
     },
     "execution_count": 6,
     "metadata": {},
     "output_type": "execute_result"
    }
   ],
   "source": [
    "fragments_list = sorted(\n",
    "    glob.glob(f\"{depth_str}_preprocessing_out/data/fragments/*fragments.tsv.gz\")\n",
    ")\n",
    "fragments_dict = {}\n",
    "for fragments_file in fragments_list:\n",
    "    sample = fragments_file.split(\"/\")[-1].split(\".fragments.tsv.gz\")[0]\n",
    "    fragments_dict[sample] = fragments_file\n",
    "\n",
    "fragments_dict"
   ]
  },
  {
   "cell_type": "code",
   "execution_count": 7,
   "id": "f43fd7e7-21a8-4798-b7bd-c236412e02bf",
   "metadata": {
    "execution": {
     "iopub.execute_input": "2022-09-15T12:40:02.448398Z",
     "iopub.status.busy": "2022-09-15T12:40:02.448066Z",
     "iopub.status.idle": "2022-09-15T12:40:02.456930Z",
     "shell.execute_reply": "2022-09-15T12:40:02.456344Z"
    },
    "papermill": {
     "duration": 0.015017,
     "end_time": "2022-09-15T12:40:02.457890",
     "exception": false,
     "start_time": "2022-09-15T12:40:02.442873",
     "status": "completed"
    },
    "tags": []
   },
   "outputs": [
    {
     "data": {
      "text/plain": [
       "{'BIO_ddseq_1.25k': '../SCREEN_peaks/BIO_ddseq_1.FIXEDCELLS__SCREEN_consensus_peaks.bed',\n",
       " 'BIO_ddseq_2.25k': '../SCREEN_peaks/BIO_ddseq_2.FIXEDCELLS__SCREEN_consensus_peaks.bed',\n",
       " 'BIO_ddseq_3.25k': '../SCREEN_peaks/BIO_ddseq_3.FIXEDCELLS__SCREEN_consensus_peaks.bed',\n",
       " 'BIO_ddseq_4.25k': '../SCREEN_peaks/BIO_ddseq_4.FIXEDCELLS__SCREEN_consensus_peaks.bed',\n",
       " 'BRO_mtscatac_1.25k': '../SCREEN_peaks/BRO_mtscatac_1.FIXEDCELLS__SCREEN_consensus_peaks.bed',\n",
       " 'BRO_mtscatac_2.25k': '../SCREEN_peaks/BRO_mtscatac_2.FIXEDCELLS__SCREEN_consensus_peaks.bed',\n",
       " 'CNA_10xmultiome_1.25k': '../SCREEN_peaks/CNA_10xmultiome_1.FIXEDCELLS__SCREEN_consensus_peaks.bed',\n",
       " 'CNA_10xmultiome_2.25k': '../SCREEN_peaks/CNA_10xmultiome_2.FIXEDCELLS__SCREEN_consensus_peaks.bed',\n",
       " 'CNA_10xv11_1.25k': '../SCREEN_peaks/CNA_10xv11_1.FIXEDCELLS__SCREEN_consensus_peaks.bed',\n",
       " 'CNA_10xv11_2.25k': '../SCREEN_peaks/CNA_10xv11_2.FIXEDCELLS__SCREEN_consensus_peaks.bed',\n",
       " 'CNA_10xv11_3.25k': '../SCREEN_peaks/CNA_10xv11_3.FIXEDCELLS__SCREEN_consensus_peaks.bed',\n",
       " 'CNA_10xv11_4.25k': '../SCREEN_peaks/CNA_10xv11_4.FIXEDCELLS__SCREEN_consensus_peaks.bed',\n",
       " 'CNA_10xv11_5.25k': '../SCREEN_peaks/CNA_10xv11_5.FIXEDCELLS__SCREEN_consensus_peaks.bed',\n",
       " 'CNA_10xv2_1.25k': '../SCREEN_peaks/CNA_10xv2_1.FIXEDCELLS__SCREEN_consensus_peaks.bed',\n",
       " 'CNA_10xv2_2.25k': '../SCREEN_peaks/CNA_10xv2_2.FIXEDCELLS__SCREEN_consensus_peaks.bed',\n",
       " 'CNA_hydrop_1.25k': '../SCREEN_peaks/CNA_hydrop_1.FIXEDCELLS__SCREEN_consensus_peaks.bed',\n",
       " 'CNA_hydrop_2.25k': '../SCREEN_peaks/CNA_hydrop_2.FIXEDCELLS__SCREEN_consensus_peaks.bed',\n",
       " 'CNA_hydrop_3.25k': '../SCREEN_peaks/CNA_hydrop_3.FIXEDCELLS__SCREEN_consensus_peaks.bed',\n",
       " 'CNA_mtscatac_1.25k': '../SCREEN_peaks/CNA_mtscatac_1.FIXEDCELLS__SCREEN_consensus_peaks.bed',\n",
       " 'CNA_mtscatac_2.25k': '../SCREEN_peaks/CNA_mtscatac_2.FIXEDCELLS__SCREEN_consensus_peaks.bed',\n",
       " 'EPF_hydrop_1.25k': '../SCREEN_peaks/EPF_hydrop_1.FIXEDCELLS__SCREEN_consensus_peaks.bed',\n",
       " 'EPF_hydrop_2.25k': '../SCREEN_peaks/EPF_hydrop_2.FIXEDCELLS__SCREEN_consensus_peaks.bed',\n",
       " 'EPF_hydrop_3.25k': '../SCREEN_peaks/EPF_hydrop_3.FIXEDCELLS__SCREEN_consensus_peaks.bed',\n",
       " 'EPF_hydrop_4.25k': '../SCREEN_peaks/EPF_hydrop_4.FIXEDCELLS__SCREEN_consensus_peaks.bed',\n",
       " 'HAR_ddseq_1.25k': '../SCREEN_peaks/HAR_ddseq_1.FIXEDCELLS__SCREEN_consensus_peaks.bed',\n",
       " 'HAR_ddseq_2.25k': '../SCREEN_peaks/HAR_ddseq_2.FIXEDCELLS__SCREEN_consensus_peaks.bed',\n",
       " 'MDC_mtscatac_1.25k': '../SCREEN_peaks/MDC_mtscatac_1.FIXEDCELLS__SCREEN_consensus_peaks.bed',\n",
       " 'MDC_mtscatac_2.25k': '../SCREEN_peaks/MDC_mtscatac_2.FIXEDCELLS__SCREEN_consensus_peaks.bed',\n",
       " 'OHS_s3atac_1.25k': '../SCREEN_peaks/OHS_s3atac_1.FIXEDCELLS__SCREEN_consensus_peaks.bed',\n",
       " 'OHS_s3atac_2.25k': '../SCREEN_peaks/OHS_s3atac_2.FIXEDCELLS__SCREEN_consensus_peaks.bed',\n",
       " 'SAN_10xmultiome_1.25k': '../SCREEN_peaks/SAN_10xmultiome_1.FIXEDCELLS__SCREEN_consensus_peaks.bed',\n",
       " 'SAN_10xmultiome_2.25k': '../SCREEN_peaks/SAN_10xmultiome_2.FIXEDCELLS__SCREEN_consensus_peaks.bed',\n",
       " 'STA_10xv11_1.25k': '../SCREEN_peaks/STA_10xv11_1.FIXEDCELLS__SCREEN_consensus_peaks.bed',\n",
       " 'STA_10xv11_2.25k': '../SCREEN_peaks/STA_10xv11_2.FIXEDCELLS__SCREEN_consensus_peaks.bed',\n",
       " 'TXG_10xv11_1.25k': '../SCREEN_peaks/TXG_10xv11_1.FIXEDCELLS__SCREEN_consensus_peaks.bed',\n",
       " 'TXG_10xv2_1.25k': '../SCREEN_peaks/TXG_10xv2_1.FIXEDCELLS__SCREEN_consensus_peaks.bed',\n",
       " 'TXG_10xv2_2.25k': '../SCREEN_peaks/TXG_10xv2_2.FIXEDCELLS__SCREEN_consensus_peaks.bed',\n",
       " 'UCS_ddseq_1.25k': '../SCREEN_peaks/UCS_ddseq_1.FIXEDCELLS__SCREEN_consensus_peaks.bed',\n",
       " 'UCS_ddseq_2.25k': '../SCREEN_peaks/UCS_ddseq_2.FIXEDCELLS__SCREEN_consensus_peaks.bed',\n",
       " 'VIB_10xmultiome_1.25k': '../SCREEN_peaks/VIB_10xmultiome_1.FIXEDCELLS__SCREEN_consensus_peaks.bed',\n",
       " 'VIB_10xmultiome_2.25k': '../SCREEN_peaks/VIB_10xmultiome_2.FIXEDCELLS__SCREEN_consensus_peaks.bed',\n",
       " 'VIB_10xv1_1.25k': '../SCREEN_peaks/VIB_10xv1_1.FIXEDCELLS__SCREEN_consensus_peaks.bed',\n",
       " 'VIB_10xv1_2.25k': '../SCREEN_peaks/VIB_10xv1_2.FIXEDCELLS__SCREEN_consensus_peaks.bed',\n",
       " 'VIB_10xv2_1.25k': '../SCREEN_peaks/VIB_10xv2_1.FIXEDCELLS__SCREEN_consensus_peaks.bed',\n",
       " 'VIB_10xv2_2.25k': '../SCREEN_peaks/VIB_10xv2_2.FIXEDCELLS__SCREEN_consensus_peaks.bed',\n",
       " 'VIB_hydrop_1.25k': '../SCREEN_peaks/VIB_hydrop_1.FIXEDCELLS__SCREEN_consensus_peaks.bed',\n",
       " 'VIB_hydrop_11.25k': '../SCREEN_peaks/VIB_hydrop_11.FIXEDCELLS__SCREEN_consensus_peaks.bed',\n",
       " 'VIB_hydrop_12.25k': '../SCREEN_peaks/VIB_hydrop_12.FIXEDCELLS__SCREEN_consensus_peaks.bed',\n",
       " 'VIB_hydrop_2.25k': '../SCREEN_peaks/VIB_hydrop_2.FIXEDCELLS__SCREEN_consensus_peaks.bed',\n",
       " 'VIB_hydrop_21.25k': '../SCREEN_peaks/VIB_hydrop_21.FIXEDCELLS__SCREEN_consensus_peaks.bed',\n",
       " 'VIB_hydrop_22.25k': '../SCREEN_peaks/VIB_hydrop_22.FIXEDCELLS__SCREEN_consensus_peaks.bed'}"
      ]
     },
     "execution_count": 7,
     "metadata": {},
     "output_type": "execute_result"
    }
   ],
   "source": [
    "regions_paths_dict = {\n",
    "    x.split(\"/\")[-1].split(f\"__\")[0].replace(\"FIXEDCELLS\", depth_str): x\n",
    "    for x in sorted(glob.glob(\"../SCREEN_peaks/*consensus_peaks.bed\"))\n",
    "}\n",
    "regions_paths_dict"
   ]
  },
  {
   "cell_type": "code",
   "execution_count": 8,
   "id": "bd35613d-1b51-4947-afd7-168f1043be12",
   "metadata": {
    "execution": {
     "iopub.execute_input": "2022-09-15T12:40:02.468369Z",
     "iopub.status.busy": "2022-09-15T12:40:02.467990Z",
     "iopub.status.idle": "2022-09-15T12:40:02.474824Z",
     "shell.execute_reply": "2022-09-15T12:40:02.474260Z"
    },
    "papermill": {
     "duration": 0.01305,
     "end_time": "2022-09-15T12:40:02.475808",
     "exception": false,
     "start_time": "2022-09-15T12:40:02.462758",
     "status": "completed"
    },
    "tags": []
   },
   "outputs": [],
   "source": [
    "regions_paths_dict[\"VIB_hydrop_11.\" + depth_str] = regions_paths_dict[\n",
    "    \"VIB_hydrop_1.\" + depth_str\n",
    "]\n",
    "regions_paths_dict[\"VIB_hydrop_12.\" + depth_str] = regions_paths_dict[\n",
    "    \"VIB_hydrop_1.\" + depth_str\n",
    "]\n",
    "regions_paths_dict[\"VIB_hydrop_21.\" + depth_str] = regions_paths_dict[\n",
    "    \"VIB_hydrop_2.\" + depth_str\n",
    "]\n",
    "regions_paths_dict[\"VIB_hydrop_22.\" + depth_str] = regions_paths_dict[\n",
    "    \"VIB_hydrop_2.\" + depth_str\n",
    "]"
   ]
  },
  {
   "cell_type": "code",
   "execution_count": 9,
   "id": "f01597ea-12b6-4b68-aa43-986e6616bc93",
   "metadata": {
    "execution": {
     "iopub.execute_input": "2022-09-15T12:40:02.486386Z",
     "iopub.status.busy": "2022-09-15T12:40:02.485906Z",
     "iopub.status.idle": "2022-09-15T12:40:02.490987Z",
     "shell.execute_reply": "2022-09-15T12:40:02.490474Z"
    },
    "papermill": {
     "duration": 0.011328,
     "end_time": "2022-09-15T12:40:02.491952",
     "exception": false,
     "start_time": "2022-09-15T12:40:02.480624",
     "status": "completed"
    },
    "tags": []
   },
   "outputs": [
    {
     "data": {
      "text/plain": [
       "{'BIO_ddseq_1.25k': '../SCREEN_peaks/BIO_ddseq_1.FIXEDCELLS__SCREEN_consensus_peaks.bed',\n",
       " 'BIO_ddseq_2.25k': '../SCREEN_peaks/BIO_ddseq_2.FIXEDCELLS__SCREEN_consensus_peaks.bed',\n",
       " 'BIO_ddseq_3.25k': '../SCREEN_peaks/BIO_ddseq_3.FIXEDCELLS__SCREEN_consensus_peaks.bed',\n",
       " 'BIO_ddseq_4.25k': '../SCREEN_peaks/BIO_ddseq_4.FIXEDCELLS__SCREEN_consensus_peaks.bed',\n",
       " 'BRO_mtscatac_1.25k': '../SCREEN_peaks/BRO_mtscatac_1.FIXEDCELLS__SCREEN_consensus_peaks.bed',\n",
       " 'BRO_mtscatac_2.25k': '../SCREEN_peaks/BRO_mtscatac_2.FIXEDCELLS__SCREEN_consensus_peaks.bed',\n",
       " 'CNA_10xmultiome_1.25k': '../SCREEN_peaks/CNA_10xmultiome_1.FIXEDCELLS__SCREEN_consensus_peaks.bed',\n",
       " 'CNA_10xmultiome_2.25k': '../SCREEN_peaks/CNA_10xmultiome_2.FIXEDCELLS__SCREEN_consensus_peaks.bed',\n",
       " 'CNA_10xv11_1.25k': '../SCREEN_peaks/CNA_10xv11_1.FIXEDCELLS__SCREEN_consensus_peaks.bed',\n",
       " 'CNA_10xv11_2.25k': '../SCREEN_peaks/CNA_10xv11_2.FIXEDCELLS__SCREEN_consensus_peaks.bed',\n",
       " 'CNA_10xv11_3.25k': '../SCREEN_peaks/CNA_10xv11_3.FIXEDCELLS__SCREEN_consensus_peaks.bed',\n",
       " 'CNA_10xv11_4.25k': '../SCREEN_peaks/CNA_10xv11_4.FIXEDCELLS__SCREEN_consensus_peaks.bed',\n",
       " 'CNA_10xv11_5.25k': '../SCREEN_peaks/CNA_10xv11_5.FIXEDCELLS__SCREEN_consensus_peaks.bed',\n",
       " 'CNA_10xv2_1.25k': '../SCREEN_peaks/CNA_10xv2_1.FIXEDCELLS__SCREEN_consensus_peaks.bed',\n",
       " 'CNA_10xv2_2.25k': '../SCREEN_peaks/CNA_10xv2_2.FIXEDCELLS__SCREEN_consensus_peaks.bed',\n",
       " 'CNA_hydrop_1.25k': '../SCREEN_peaks/CNA_hydrop_1.FIXEDCELLS__SCREEN_consensus_peaks.bed',\n",
       " 'CNA_hydrop_2.25k': '../SCREEN_peaks/CNA_hydrop_2.FIXEDCELLS__SCREEN_consensus_peaks.bed',\n",
       " 'CNA_hydrop_3.25k': '../SCREEN_peaks/CNA_hydrop_3.FIXEDCELLS__SCREEN_consensus_peaks.bed',\n",
       " 'CNA_mtscatac_1.25k': '../SCREEN_peaks/CNA_mtscatac_1.FIXEDCELLS__SCREEN_consensus_peaks.bed',\n",
       " 'CNA_mtscatac_2.25k': '../SCREEN_peaks/CNA_mtscatac_2.FIXEDCELLS__SCREEN_consensus_peaks.bed',\n",
       " 'EPF_hydrop_1.25k': '../SCREEN_peaks/EPF_hydrop_1.FIXEDCELLS__SCREEN_consensus_peaks.bed',\n",
       " 'EPF_hydrop_2.25k': '../SCREEN_peaks/EPF_hydrop_2.FIXEDCELLS__SCREEN_consensus_peaks.bed',\n",
       " 'EPF_hydrop_3.25k': '../SCREEN_peaks/EPF_hydrop_3.FIXEDCELLS__SCREEN_consensus_peaks.bed',\n",
       " 'EPF_hydrop_4.25k': '../SCREEN_peaks/EPF_hydrop_4.FIXEDCELLS__SCREEN_consensus_peaks.bed',\n",
       " 'HAR_ddseq_1.25k': '../SCREEN_peaks/HAR_ddseq_1.FIXEDCELLS__SCREEN_consensus_peaks.bed',\n",
       " 'HAR_ddseq_2.25k': '../SCREEN_peaks/HAR_ddseq_2.FIXEDCELLS__SCREEN_consensus_peaks.bed',\n",
       " 'MDC_mtscatac_1.25k': '../SCREEN_peaks/MDC_mtscatac_1.FIXEDCELLS__SCREEN_consensus_peaks.bed',\n",
       " 'MDC_mtscatac_2.25k': '../SCREEN_peaks/MDC_mtscatac_2.FIXEDCELLS__SCREEN_consensus_peaks.bed',\n",
       " 'OHS_s3atac_1.25k': '../SCREEN_peaks/OHS_s3atac_1.FIXEDCELLS__SCREEN_consensus_peaks.bed',\n",
       " 'OHS_s3atac_2.25k': '../SCREEN_peaks/OHS_s3atac_2.FIXEDCELLS__SCREEN_consensus_peaks.bed',\n",
       " 'SAN_10xmultiome_1.25k': '../SCREEN_peaks/SAN_10xmultiome_1.FIXEDCELLS__SCREEN_consensus_peaks.bed',\n",
       " 'SAN_10xmultiome_2.25k': '../SCREEN_peaks/SAN_10xmultiome_2.FIXEDCELLS__SCREEN_consensus_peaks.bed',\n",
       " 'STA_10xv11_1.25k': '../SCREEN_peaks/STA_10xv11_1.FIXEDCELLS__SCREEN_consensus_peaks.bed',\n",
       " 'STA_10xv11_2.25k': '../SCREEN_peaks/STA_10xv11_2.FIXEDCELLS__SCREEN_consensus_peaks.bed',\n",
       " 'TXG_10xv11_1.25k': '../SCREEN_peaks/TXG_10xv11_1.FIXEDCELLS__SCREEN_consensus_peaks.bed',\n",
       " 'TXG_10xv2_1.25k': '../SCREEN_peaks/TXG_10xv2_1.FIXEDCELLS__SCREEN_consensus_peaks.bed',\n",
       " 'TXG_10xv2_2.25k': '../SCREEN_peaks/TXG_10xv2_2.FIXEDCELLS__SCREEN_consensus_peaks.bed',\n",
       " 'UCS_ddseq_1.25k': '../SCREEN_peaks/UCS_ddseq_1.FIXEDCELLS__SCREEN_consensus_peaks.bed',\n",
       " 'UCS_ddseq_2.25k': '../SCREEN_peaks/UCS_ddseq_2.FIXEDCELLS__SCREEN_consensus_peaks.bed',\n",
       " 'VIB_10xmultiome_1.25k': '../SCREEN_peaks/VIB_10xmultiome_1.FIXEDCELLS__SCREEN_consensus_peaks.bed',\n",
       " 'VIB_10xmultiome_2.25k': '../SCREEN_peaks/VIB_10xmultiome_2.FIXEDCELLS__SCREEN_consensus_peaks.bed',\n",
       " 'VIB_10xv1_1.25k': '../SCREEN_peaks/VIB_10xv1_1.FIXEDCELLS__SCREEN_consensus_peaks.bed',\n",
       " 'VIB_10xv1_2.25k': '../SCREEN_peaks/VIB_10xv1_2.FIXEDCELLS__SCREEN_consensus_peaks.bed',\n",
       " 'VIB_10xv2_1.25k': '../SCREEN_peaks/VIB_10xv2_1.FIXEDCELLS__SCREEN_consensus_peaks.bed',\n",
       " 'VIB_10xv2_2.25k': '../SCREEN_peaks/VIB_10xv2_2.FIXEDCELLS__SCREEN_consensus_peaks.bed',\n",
       " 'VIB_hydrop_1.25k': '../SCREEN_peaks/VIB_hydrop_1.FIXEDCELLS__SCREEN_consensus_peaks.bed',\n",
       " 'VIB_hydrop_11.25k': '../SCREEN_peaks/VIB_hydrop_1.FIXEDCELLS__SCREEN_consensus_peaks.bed',\n",
       " 'VIB_hydrop_12.25k': '../SCREEN_peaks/VIB_hydrop_1.FIXEDCELLS__SCREEN_consensus_peaks.bed',\n",
       " 'VIB_hydrop_2.25k': '../SCREEN_peaks/VIB_hydrop_2.FIXEDCELLS__SCREEN_consensus_peaks.bed',\n",
       " 'VIB_hydrop_21.25k': '../SCREEN_peaks/VIB_hydrop_2.FIXEDCELLS__SCREEN_consensus_peaks.bed',\n",
       " 'VIB_hydrop_22.25k': '../SCREEN_peaks/VIB_hydrop_2.FIXEDCELLS__SCREEN_consensus_peaks.bed'}"
      ]
     },
     "execution_count": 9,
     "metadata": {},
     "output_type": "execute_result"
    }
   ],
   "source": [
    "regions_paths_dict"
   ]
  },
  {
   "cell_type": "markdown",
   "id": "a58786aa",
   "metadata": {
    "papermill": {
     "duration": 0.004952,
     "end_time": "2022-09-15T12:40:02.501961",
     "exception": false,
     "start_time": "2022-09-15T12:40:02.497009",
     "status": "completed"
    },
    "tags": []
   },
   "source": [
    "Now, make a sub dictionary of all samples within the fragments dict that have not been run yet (good for resuming a stopped cistopic run):"
   ]
  },
  {
   "cell_type": "code",
   "execution_count": 10,
   "id": "13ad51aa",
   "metadata": {
    "execution": {
     "iopub.execute_input": "2022-09-15T12:40:02.513006Z",
     "iopub.status.busy": "2022-09-15T12:40:02.512457Z",
     "iopub.status.idle": "2022-09-15T12:40:02.516792Z",
     "shell.execute_reply": "2022-09-15T12:40:02.516260Z"
    },
    "papermill": {
     "duration": 0.010699,
     "end_time": "2022-09-15T12:40:02.517753",
     "exception": false,
     "start_time": "2022-09-15T12:40:02.507054",
     "status": "completed"
    },
    "tags": []
   },
   "outputs": [],
   "source": [
    "cistopic_qc_out = os.path.join(wdir, \"cistopic_qc_out_CONSENSUS\")\n",
    "if not os.path.exists(cistopic_qc_out):\n",
    "    os.makedirs(cistopic_qc_out)"
   ]
  },
  {
   "cell_type": "code",
   "execution_count": 11,
   "id": "161f54e5-1e0b-4277-b9ca-f0247df0e4e9",
   "metadata": {
    "execution": {
     "iopub.execute_input": "2022-09-15T12:40:02.528711Z",
     "iopub.status.busy": "2022-09-15T12:40:02.528248Z",
     "iopub.status.idle": "2022-09-15T12:40:02.544821Z",
     "shell.execute_reply": "2022-09-15T12:40:02.544284Z"
    },
    "papermill": {
     "duration": 0.022929,
     "end_time": "2022-09-15T12:40:02.545769",
     "exception": false,
     "start_time": "2022-09-15T12:40:02.522840",
     "status": "completed"
    },
    "tags": []
   },
   "outputs": [
    {
     "name": "stdout",
     "output_type": "stream",
     "text": [
      "Checking if /dodrio/scratch/projects/starting_2022_023/benchmark/scatac_benchmark/downsample_series/25k/cistopic_qc_out_CONSENSUS/BIO_ddseq_1.25k__metadata_bc.pkl exist...\n",
      "\tMetadata exists! Skipping...\n",
      "Checking if /dodrio/scratch/projects/starting_2022_023/benchmark/scatac_benchmark/downsample_series/25k/cistopic_qc_out_CONSENSUS/BIO_ddseq_2.25k__metadata_bc.pkl exist...\n",
      "\tMetadata exists! Skipping...\n",
      "Checking if /dodrio/scratch/projects/starting_2022_023/benchmark/scatac_benchmark/downsample_series/25k/cistopic_qc_out_CONSENSUS/BIO_ddseq_3.25k__metadata_bc.pkl exist...\n",
      "\tMetadata exists! Skipping...\n",
      "Checking if /dodrio/scratch/projects/starting_2022_023/benchmark/scatac_benchmark/downsample_series/25k/cistopic_qc_out_CONSENSUS/BIO_ddseq_4.25k__metadata_bc.pkl exist...\n",
      "\tMetadata exists! Skipping...\n",
      "Checking if /dodrio/scratch/projects/starting_2022_023/benchmark/scatac_benchmark/downsample_series/25k/cistopic_qc_out_CONSENSUS/BRO_mtscatac_1.25k__metadata_bc.pkl exist...\n",
      "\tMetadata exists! Skipping...\n",
      "Checking if /dodrio/scratch/projects/starting_2022_023/benchmark/scatac_benchmark/downsample_series/25k/cistopic_qc_out_CONSENSUS/BRO_mtscatac_2.25k__metadata_bc.pkl exist...\n"
     ]
    },
    {
     "name": "stdout",
     "output_type": "stream",
     "text": [
      "\tMetadata exists! Skipping...\n",
      "Checking if /dodrio/scratch/projects/starting_2022_023/benchmark/scatac_benchmark/downsample_series/25k/cistopic_qc_out_CONSENSUS/CNA_10xmultiome_1.25k__metadata_bc.pkl exist...\n",
      "\tMetadata exists! Skipping...\n",
      "Checking if /dodrio/scratch/projects/starting_2022_023/benchmark/scatac_benchmark/downsample_series/25k/cistopic_qc_out_CONSENSUS/CNA_10xmultiome_2.25k__metadata_bc.pkl exist...\n",
      "\tMetadata exists! Skipping...\n",
      "Checking if /dodrio/scratch/projects/starting_2022_023/benchmark/scatac_benchmark/downsample_series/25k/cistopic_qc_out_CONSENSUS/CNA_10xv11_1.25k__metadata_bc.pkl exist...\n",
      "\tMetadata exists! Skipping...\n",
      "Checking if /dodrio/scratch/projects/starting_2022_023/benchmark/scatac_benchmark/downsample_series/25k/cistopic_qc_out_CONSENSUS/CNA_10xv11_2.25k__metadata_bc.pkl exist...\n",
      "\tMetadata exists! Skipping...\n",
      "Checking if /dodrio/scratch/projects/starting_2022_023/benchmark/scatac_benchmark/downsample_series/25k/cistopic_qc_out_CONSENSUS/CNA_10xv11_3.25k__metadata_bc.pkl exist...\n",
      "\tMetadata exists! Skipping...\n",
      "Checking if /dodrio/scratch/projects/starting_2022_023/benchmark/scatac_benchmark/downsample_series/25k/cistopic_qc_out_CONSENSUS/CNA_10xv11_4.25k__metadata_bc.pkl exist...\n",
      "\tMetadata exists! Skipping...\n",
      "Checking if /dodrio/scratch/projects/starting_2022_023/benchmark/scatac_benchmark/downsample_series/25k/cistopic_qc_out_CONSENSUS/CNA_10xv11_5.25k__metadata_bc.pkl exist...\n",
      "\tMetadata exists! Skipping...\n",
      "Checking if /dodrio/scratch/projects/starting_2022_023/benchmark/scatac_benchmark/downsample_series/25k/cistopic_qc_out_CONSENSUS/CNA_10xv2_1.25k__metadata_bc.pkl exist...\n",
      "\tMetadata exists! Skipping...\n",
      "Checking if /dodrio/scratch/projects/starting_2022_023/benchmark/scatac_benchmark/downsample_series/25k/cistopic_qc_out_CONSENSUS/CNA_10xv2_2.25k__metadata_bc.pkl exist...\n",
      "\tMetadata exists! Skipping...\n",
      "Checking if /dodrio/scratch/projects/starting_2022_023/benchmark/scatac_benchmark/downsample_series/25k/cistopic_qc_out_CONSENSUS/CNA_hydrop_1.25k__metadata_bc.pkl exist...\n",
      "\tMetadata exists! Skipping...\n",
      "Checking if /dodrio/scratch/projects/starting_2022_023/benchmark/scatac_benchmark/downsample_series/25k/cistopic_qc_out_CONSENSUS/CNA_hydrop_2.25k__metadata_bc.pkl exist...\n",
      "\tMetadata exists! Skipping...\n",
      "Checking if /dodrio/scratch/projects/starting_2022_023/benchmark/scatac_benchmark/downsample_series/25k/cistopic_qc_out_CONSENSUS/CNA_hydrop_3.25k__metadata_bc.pkl exist...\n",
      "\tMetadata exists! Skipping...\n",
      "Checking if /dodrio/scratch/projects/starting_2022_023/benchmark/scatac_benchmark/downsample_series/25k/cistopic_qc_out_CONSENSUS/CNA_mtscatac_1.25k__metadata_bc.pkl exist...\n",
      "\tMetadata exists! Skipping...\n",
      "Checking if /dodrio/scratch/projects/starting_2022_023/benchmark/scatac_benchmark/downsample_series/25k/cistopic_qc_out_CONSENSUS/CNA_mtscatac_2.25k__metadata_bc.pkl exist...\n",
      "\tMetadata exists! Skipping...\n",
      "Checking if /dodrio/scratch/projects/starting_2022_023/benchmark/scatac_benchmark/downsample_series/25k/cistopic_qc_out_CONSENSUS/EPF_hydrop_1.25k__metadata_bc.pkl exist...\n",
      "\tMetadata exists! Skipping...\n",
      "Checking if /dodrio/scratch/projects/starting_2022_023/benchmark/scatac_benchmark/downsample_series/25k/cistopic_qc_out_CONSENSUS/EPF_hydrop_2.25k__metadata_bc.pkl exist...\n",
      "\tMetadata exists! Skipping...\n",
      "Checking if /dodrio/scratch/projects/starting_2022_023/benchmark/scatac_benchmark/downsample_series/25k/cistopic_qc_out_CONSENSUS/EPF_hydrop_3.25k__metadata_bc.pkl exist...\n",
      "\tMetadata exists! Skipping...\n",
      "Checking if /dodrio/scratch/projects/starting_2022_023/benchmark/scatac_benchmark/downsample_series/25k/cistopic_qc_out_CONSENSUS/EPF_hydrop_4.25k__metadata_bc.pkl exist...\n",
      "\tMetadata exists! Skipping...\n",
      "Checking if /dodrio/scratch/projects/starting_2022_023/benchmark/scatac_benchmark/downsample_series/25k/cistopic_qc_out_CONSENSUS/HAR_ddseq_1.25k__metadata_bc.pkl exist...\n",
      "\tMetadata exists! Skipping...\n",
      "Checking if /dodrio/scratch/projects/starting_2022_023/benchmark/scatac_benchmark/downsample_series/25k/cistopic_qc_out_CONSENSUS/HAR_ddseq_2.25k__metadata_bc.pkl exist...\n",
      "\tMetadata exists! Skipping...\n",
      "Checking if /dodrio/scratch/projects/starting_2022_023/benchmark/scatac_benchmark/downsample_series/25k/cistopic_qc_out_CONSENSUS/MDC_mtscatac_1.25k__metadata_bc.pkl exist...\n",
      "\tMetadata exists! Skipping...\n",
      "Checking if /dodrio/scratch/projects/starting_2022_023/benchmark/scatac_benchmark/downsample_series/25k/cistopic_qc_out_CONSENSUS/MDC_mtscatac_2.25k__metadata_bc.pkl exist...\n",
      "\tMetadata exists! Skipping...\n",
      "Checking if /dodrio/scratch/projects/starting_2022_023/benchmark/scatac_benchmark/downsample_series/25k/cistopic_qc_out_CONSENSUS/OHS_s3atac_1.25k__metadata_bc.pkl exist...\n",
      "\tMetadata exists! Skipping...\n",
      "Checking if /dodrio/scratch/projects/starting_2022_023/benchmark/scatac_benchmark/downsample_series/25k/cistopic_qc_out_CONSENSUS/OHS_s3atac_2.25k__metadata_bc.pkl exist...\n",
      "\tMetadata exists! Skipping...\n",
      "Checking if /dodrio/scratch/projects/starting_2022_023/benchmark/scatac_benchmark/downsample_series/25k/cistopic_qc_out_CONSENSUS/SAN_10xmultiome_1.25k__metadata_bc.pkl exist...\n",
      "\tMetadata exists! Skipping...\n",
      "Checking if /dodrio/scratch/projects/starting_2022_023/benchmark/scatac_benchmark/downsample_series/25k/cistopic_qc_out_CONSENSUS/SAN_10xmultiome_2.25k__metadata_bc.pkl exist...\n",
      "\tMetadata exists! Skipping...\n",
      "Checking if /dodrio/scratch/projects/starting_2022_023/benchmark/scatac_benchmark/downsample_series/25k/cistopic_qc_out_CONSENSUS/STA_10xv11_1.25k__metadata_bc.pkl exist...\n",
      "\tMetadata exists! Skipping...\n",
      "Checking if /dodrio/scratch/projects/starting_2022_023/benchmark/scatac_benchmark/downsample_series/25k/cistopic_qc_out_CONSENSUS/STA_10xv11_2.25k__metadata_bc.pkl exist...\n",
      "\tMetadata exists! Skipping...\n",
      "Checking if /dodrio/scratch/projects/starting_2022_023/benchmark/scatac_benchmark/downsample_series/25k/cistopic_qc_out_CONSENSUS/TXG_10xv11_1.25k__metadata_bc.pkl exist...\n",
      "\tMetadata does not exist, adding to subdict to generate\n",
      "Checking if /dodrio/scratch/projects/starting_2022_023/benchmark/scatac_benchmark/downsample_series/25k/cistopic_qc_out_CONSENSUS/TXG_10xv2_1.25k__metadata_bc.pkl exist...\n",
      "\tMetadata does not exist, adding to subdict to generate\n",
      "Checking if /dodrio/scratch/projects/starting_2022_023/benchmark/scatac_benchmark/downsample_series/25k/cistopic_qc_out_CONSENSUS/TXG_10xv2_2.25k__metadata_bc.pkl exist...\n",
      "\tMetadata does not exist, adding to subdict to generate\n",
      "Checking if /dodrio/scratch/projects/starting_2022_023/benchmark/scatac_benchmark/downsample_series/25k/cistopic_qc_out_CONSENSUS/UCS_ddseq_1.25k__metadata_bc.pkl exist...\n",
      "\tMetadata exists! Skipping...\n",
      "Checking if /dodrio/scratch/projects/starting_2022_023/benchmark/scatac_benchmark/downsample_series/25k/cistopic_qc_out_CONSENSUS/UCS_ddseq_2.25k__metadata_bc.pkl exist...\n",
      "\tMetadata exists! Skipping...\n",
      "Checking if /dodrio/scratch/projects/starting_2022_023/benchmark/scatac_benchmark/downsample_series/25k/cistopic_qc_out_CONSENSUS/VIB_10xmultiome_1.25k__metadata_bc.pkl exist...\n",
      "\tMetadata exists! Skipping...\n",
      "Checking if /dodrio/scratch/projects/starting_2022_023/benchmark/scatac_benchmark/downsample_series/25k/cistopic_qc_out_CONSENSUS/VIB_10xmultiome_2.25k__metadata_bc.pkl exist...\n",
      "\tMetadata exists! Skipping...\n",
      "Checking if /dodrio/scratch/projects/starting_2022_023/benchmark/scatac_benchmark/downsample_series/25k/cistopic_qc_out_CONSENSUS/VIB_10xv1_1.25k__metadata_bc.pkl exist...\n",
      "\tMetadata exists! Skipping...\n",
      "Checking if /dodrio/scratch/projects/starting_2022_023/benchmark/scatac_benchmark/downsample_series/25k/cistopic_qc_out_CONSENSUS/VIB_10xv1_2.25k__metadata_bc.pkl exist...\n",
      "\tMetadata exists! Skipping...\n",
      "Checking if /dodrio/scratch/projects/starting_2022_023/benchmark/scatac_benchmark/downsample_series/25k/cistopic_qc_out_CONSENSUS/VIB_10xv2_1.25k__metadata_bc.pkl exist...\n",
      "\tMetadata exists! Skipping...\n",
      "Checking if /dodrio/scratch/projects/starting_2022_023/benchmark/scatac_benchmark/downsample_series/25k/cistopic_qc_out_CONSENSUS/VIB_10xv2_2.25k__metadata_bc.pkl exist...\n",
      "\tMetadata exists! Skipping...\n",
      "Checking if /dodrio/scratch/projects/starting_2022_023/benchmark/scatac_benchmark/downsample_series/25k/cistopic_qc_out_CONSENSUS/VIB_hydrop_11.25k__metadata_bc.pkl exist...\n",
      "\tMetadata exists! Skipping...\n",
      "Checking if /dodrio/scratch/projects/starting_2022_023/benchmark/scatac_benchmark/downsample_series/25k/cistopic_qc_out_CONSENSUS/VIB_hydrop_12.25k__metadata_bc.pkl exist...\n",
      "\tMetadata exists! Skipping...\n",
      "Checking if /dodrio/scratch/projects/starting_2022_023/benchmark/scatac_benchmark/downsample_series/25k/cistopic_qc_out_CONSENSUS/VIB_hydrop_21.25k__metadata_bc.pkl exist...\n",
      "\tMetadata exists! Skipping...\n",
      "Checking if /dodrio/scratch/projects/starting_2022_023/benchmark/scatac_benchmark/downsample_series/25k/cistopic_qc_out_CONSENSUS/VIB_hydrop_22.25k__metadata_bc.pkl exist...\n",
      "\tMetadata exists! Skipping...\n"
     ]
    }
   ],
   "source": [
    "fragments_sub_dict = {}\n",
    "regions_sub_dict = {}\n",
    "for sample in fragments_dict.keys():\n",
    "    metadata_file = os.path.join(cistopic_qc_out, sample + \"__metadata_bc.pkl\")\n",
    "    print(f\"Checking if {metadata_file} exist...\")\n",
    "    if os.path.exists(metadata_file):\n",
    "        print(\"\\tMetadata exists! Skipping...\")\n",
    "    else:\n",
    "        fragments_sub_dict[sample] = fragments_dict[sample]\n",
    "        print(\"\\tMetadata does not exist, adding to subdict to generate\")"
   ]
  },
  {
   "cell_type": "code",
   "execution_count": 12,
   "id": "b718b167-4d2f-454a-b7f0-4577f12bd1a8",
   "metadata": {
    "execution": {
     "iopub.execute_input": "2022-09-15T12:40:02.557174Z",
     "iopub.status.busy": "2022-09-15T12:40:02.556751Z",
     "iopub.status.idle": "2022-09-15T12:40:02.560560Z",
     "shell.execute_reply": "2022-09-15T12:40:02.559963Z"
    },
    "papermill": {
     "duration": 0.010374,
     "end_time": "2022-09-15T12:40:02.561518",
     "exception": false,
     "start_time": "2022-09-15T12:40:02.551144",
     "status": "completed"
    },
    "tags": []
   },
   "outputs": [],
   "source": [
    "regions_sub_dict = {x: regions_paths_dict[x] for x in sorted(regions_paths_dict.keys())}"
   ]
  },
  {
   "cell_type": "code",
   "execution_count": 13,
   "id": "c5a500ab-e738-4df7-971d-8d70ff2aff0a",
   "metadata": {
    "execution": {
     "iopub.execute_input": "2022-09-15T12:40:02.572585Z",
     "iopub.status.busy": "2022-09-15T12:40:02.572276Z",
     "iopub.status.idle": "2022-09-15T12:40:02.577197Z",
     "shell.execute_reply": "2022-09-15T12:40:02.576687Z"
    },
    "papermill": {
     "duration": 0.011461,
     "end_time": "2022-09-15T12:40:02.578204",
     "exception": false,
     "start_time": "2022-09-15T12:40:02.566743",
     "status": "completed"
    },
    "tags": []
   },
   "outputs": [
    {
     "data": {
      "text/plain": [
       "{'BIO_ddseq_1.25k': '../SCREEN_peaks/BIO_ddseq_1.FIXEDCELLS__SCREEN_consensus_peaks.bed',\n",
       " 'BIO_ddseq_2.25k': '../SCREEN_peaks/BIO_ddseq_2.FIXEDCELLS__SCREEN_consensus_peaks.bed',\n",
       " 'BIO_ddseq_3.25k': '../SCREEN_peaks/BIO_ddseq_3.FIXEDCELLS__SCREEN_consensus_peaks.bed',\n",
       " 'BIO_ddseq_4.25k': '../SCREEN_peaks/BIO_ddseq_4.FIXEDCELLS__SCREEN_consensus_peaks.bed',\n",
       " 'BRO_mtscatac_1.25k': '../SCREEN_peaks/BRO_mtscatac_1.FIXEDCELLS__SCREEN_consensus_peaks.bed',\n",
       " 'BRO_mtscatac_2.25k': '../SCREEN_peaks/BRO_mtscatac_2.FIXEDCELLS__SCREEN_consensus_peaks.bed',\n",
       " 'CNA_10xmultiome_1.25k': '../SCREEN_peaks/CNA_10xmultiome_1.FIXEDCELLS__SCREEN_consensus_peaks.bed',\n",
       " 'CNA_10xmultiome_2.25k': '../SCREEN_peaks/CNA_10xmultiome_2.FIXEDCELLS__SCREEN_consensus_peaks.bed',\n",
       " 'CNA_10xv11_1.25k': '../SCREEN_peaks/CNA_10xv11_1.FIXEDCELLS__SCREEN_consensus_peaks.bed',\n",
       " 'CNA_10xv11_2.25k': '../SCREEN_peaks/CNA_10xv11_2.FIXEDCELLS__SCREEN_consensus_peaks.bed',\n",
       " 'CNA_10xv11_3.25k': '../SCREEN_peaks/CNA_10xv11_3.FIXEDCELLS__SCREEN_consensus_peaks.bed',\n",
       " 'CNA_10xv11_4.25k': '../SCREEN_peaks/CNA_10xv11_4.FIXEDCELLS__SCREEN_consensus_peaks.bed',\n",
       " 'CNA_10xv11_5.25k': '../SCREEN_peaks/CNA_10xv11_5.FIXEDCELLS__SCREEN_consensus_peaks.bed',\n",
       " 'CNA_10xv2_1.25k': '../SCREEN_peaks/CNA_10xv2_1.FIXEDCELLS__SCREEN_consensus_peaks.bed',\n",
       " 'CNA_10xv2_2.25k': '../SCREEN_peaks/CNA_10xv2_2.FIXEDCELLS__SCREEN_consensus_peaks.bed',\n",
       " 'CNA_hydrop_1.25k': '../SCREEN_peaks/CNA_hydrop_1.FIXEDCELLS__SCREEN_consensus_peaks.bed',\n",
       " 'CNA_hydrop_2.25k': '../SCREEN_peaks/CNA_hydrop_2.FIXEDCELLS__SCREEN_consensus_peaks.bed',\n",
       " 'CNA_hydrop_3.25k': '../SCREEN_peaks/CNA_hydrop_3.FIXEDCELLS__SCREEN_consensus_peaks.bed',\n",
       " 'CNA_mtscatac_1.25k': '../SCREEN_peaks/CNA_mtscatac_1.FIXEDCELLS__SCREEN_consensus_peaks.bed',\n",
       " 'CNA_mtscatac_2.25k': '../SCREEN_peaks/CNA_mtscatac_2.FIXEDCELLS__SCREEN_consensus_peaks.bed',\n",
       " 'EPF_hydrop_1.25k': '../SCREEN_peaks/EPF_hydrop_1.FIXEDCELLS__SCREEN_consensus_peaks.bed',\n",
       " 'EPF_hydrop_2.25k': '../SCREEN_peaks/EPF_hydrop_2.FIXEDCELLS__SCREEN_consensus_peaks.bed',\n",
       " 'EPF_hydrop_3.25k': '../SCREEN_peaks/EPF_hydrop_3.FIXEDCELLS__SCREEN_consensus_peaks.bed',\n",
       " 'EPF_hydrop_4.25k': '../SCREEN_peaks/EPF_hydrop_4.FIXEDCELLS__SCREEN_consensus_peaks.bed',\n",
       " 'HAR_ddseq_1.25k': '../SCREEN_peaks/HAR_ddseq_1.FIXEDCELLS__SCREEN_consensus_peaks.bed',\n",
       " 'HAR_ddseq_2.25k': '../SCREEN_peaks/HAR_ddseq_2.FIXEDCELLS__SCREEN_consensus_peaks.bed',\n",
       " 'MDC_mtscatac_1.25k': '../SCREEN_peaks/MDC_mtscatac_1.FIXEDCELLS__SCREEN_consensus_peaks.bed',\n",
       " 'MDC_mtscatac_2.25k': '../SCREEN_peaks/MDC_mtscatac_2.FIXEDCELLS__SCREEN_consensus_peaks.bed',\n",
       " 'OHS_s3atac_1.25k': '../SCREEN_peaks/OHS_s3atac_1.FIXEDCELLS__SCREEN_consensus_peaks.bed',\n",
       " 'OHS_s3atac_2.25k': '../SCREEN_peaks/OHS_s3atac_2.FIXEDCELLS__SCREEN_consensus_peaks.bed',\n",
       " 'SAN_10xmultiome_1.25k': '../SCREEN_peaks/SAN_10xmultiome_1.FIXEDCELLS__SCREEN_consensus_peaks.bed',\n",
       " 'SAN_10xmultiome_2.25k': '../SCREEN_peaks/SAN_10xmultiome_2.FIXEDCELLS__SCREEN_consensus_peaks.bed',\n",
       " 'STA_10xv11_1.25k': '../SCREEN_peaks/STA_10xv11_1.FIXEDCELLS__SCREEN_consensus_peaks.bed',\n",
       " 'STA_10xv11_2.25k': '../SCREEN_peaks/STA_10xv11_2.FIXEDCELLS__SCREEN_consensus_peaks.bed',\n",
       " 'TXG_10xv11_1.25k': '../SCREEN_peaks/TXG_10xv11_1.FIXEDCELLS__SCREEN_consensus_peaks.bed',\n",
       " 'TXG_10xv2_1.25k': '../SCREEN_peaks/TXG_10xv2_1.FIXEDCELLS__SCREEN_consensus_peaks.bed',\n",
       " 'TXG_10xv2_2.25k': '../SCREEN_peaks/TXG_10xv2_2.FIXEDCELLS__SCREEN_consensus_peaks.bed',\n",
       " 'UCS_ddseq_1.25k': '../SCREEN_peaks/UCS_ddseq_1.FIXEDCELLS__SCREEN_consensus_peaks.bed',\n",
       " 'UCS_ddseq_2.25k': '../SCREEN_peaks/UCS_ddseq_2.FIXEDCELLS__SCREEN_consensus_peaks.bed',\n",
       " 'VIB_10xmultiome_1.25k': '../SCREEN_peaks/VIB_10xmultiome_1.FIXEDCELLS__SCREEN_consensus_peaks.bed',\n",
       " 'VIB_10xmultiome_2.25k': '../SCREEN_peaks/VIB_10xmultiome_2.FIXEDCELLS__SCREEN_consensus_peaks.bed',\n",
       " 'VIB_10xv1_1.25k': '../SCREEN_peaks/VIB_10xv1_1.FIXEDCELLS__SCREEN_consensus_peaks.bed',\n",
       " 'VIB_10xv1_2.25k': '../SCREEN_peaks/VIB_10xv1_2.FIXEDCELLS__SCREEN_consensus_peaks.bed',\n",
       " 'VIB_10xv2_1.25k': '../SCREEN_peaks/VIB_10xv2_1.FIXEDCELLS__SCREEN_consensus_peaks.bed',\n",
       " 'VIB_10xv2_2.25k': '../SCREEN_peaks/VIB_10xv2_2.FIXEDCELLS__SCREEN_consensus_peaks.bed',\n",
       " 'VIB_hydrop_1.25k': '../SCREEN_peaks/VIB_hydrop_1.FIXEDCELLS__SCREEN_consensus_peaks.bed',\n",
       " 'VIB_hydrop_11.25k': '../SCREEN_peaks/VIB_hydrop_1.FIXEDCELLS__SCREEN_consensus_peaks.bed',\n",
       " 'VIB_hydrop_12.25k': '../SCREEN_peaks/VIB_hydrop_1.FIXEDCELLS__SCREEN_consensus_peaks.bed',\n",
       " 'VIB_hydrop_2.25k': '../SCREEN_peaks/VIB_hydrop_2.FIXEDCELLS__SCREEN_consensus_peaks.bed',\n",
       " 'VIB_hydrop_21.25k': '../SCREEN_peaks/VIB_hydrop_2.FIXEDCELLS__SCREEN_consensus_peaks.bed',\n",
       " 'VIB_hydrop_22.25k': '../SCREEN_peaks/VIB_hydrop_2.FIXEDCELLS__SCREEN_consensus_peaks.bed'}"
      ]
     },
     "execution_count": 13,
     "metadata": {},
     "output_type": "execute_result"
    }
   ],
   "source": [
    "regions_sub_dict"
   ]
  },
  {
   "cell_type": "code",
   "execution_count": 14,
   "id": "177d09f9-7f1b-4dbc-8969-4f8afca8e12f",
   "metadata": {
    "execution": {
     "iopub.execute_input": "2022-09-15T12:40:02.589769Z",
     "iopub.status.busy": "2022-09-15T12:40:02.589298Z",
     "iopub.status.idle": "2022-09-15T12:40:02.594801Z",
     "shell.execute_reply": "2022-09-15T12:40:02.594257Z"
    },
    "papermill": {
     "duration": 0.012127,
     "end_time": "2022-09-15T12:40:02.595750",
     "exception": false,
     "start_time": "2022-09-15T12:40:02.583623",
     "status": "completed"
    },
    "tags": []
   },
   "outputs": [
    {
     "data": {
      "text/plain": [
       "{'BIO_ddseq_1.25k',\n",
       " 'BIO_ddseq_2.25k',\n",
       " 'BIO_ddseq_3.25k',\n",
       " 'BIO_ddseq_4.25k',\n",
       " 'BRO_mtscatac_1.25k',\n",
       " 'BRO_mtscatac_2.25k',\n",
       " 'CNA_10xmultiome_1.25k',\n",
       " 'CNA_10xmultiome_2.25k',\n",
       " 'CNA_10xv11_1.25k',\n",
       " 'CNA_10xv11_2.25k',\n",
       " 'CNA_10xv11_3.25k',\n",
       " 'CNA_10xv11_4.25k',\n",
       " 'CNA_10xv11_5.25k',\n",
       " 'CNA_10xv2_1.25k',\n",
       " 'CNA_10xv2_2.25k',\n",
       " 'CNA_hydrop_1.25k',\n",
       " 'CNA_hydrop_2.25k',\n",
       " 'CNA_hydrop_3.25k',\n",
       " 'CNA_mtscatac_1.25k',\n",
       " 'CNA_mtscatac_2.25k',\n",
       " 'EPF_hydrop_1.25k',\n",
       " 'EPF_hydrop_2.25k',\n",
       " 'EPF_hydrop_3.25k',\n",
       " 'EPF_hydrop_4.25k',\n",
       " 'HAR_ddseq_1.25k',\n",
       " 'HAR_ddseq_2.25k',\n",
       " 'MDC_mtscatac_1.25k',\n",
       " 'MDC_mtscatac_2.25k',\n",
       " 'OHS_s3atac_1.25k',\n",
       " 'OHS_s3atac_2.25k',\n",
       " 'SAN_10xmultiome_1.25k',\n",
       " 'SAN_10xmultiome_2.25k',\n",
       " 'STA_10xv11_1.25k',\n",
       " 'STA_10xv11_2.25k',\n",
       " 'UCS_ddseq_1.25k',\n",
       " 'UCS_ddseq_2.25k',\n",
       " 'VIB_10xmultiome_1.25k',\n",
       " 'VIB_10xmultiome_2.25k',\n",
       " 'VIB_10xv1_1.25k',\n",
       " 'VIB_10xv1_2.25k',\n",
       " 'VIB_10xv2_1.25k',\n",
       " 'VIB_10xv2_2.25k',\n",
       " 'VIB_hydrop_1.25k',\n",
       " 'VIB_hydrop_11.25k',\n",
       " 'VIB_hydrop_12.25k',\n",
       " 'VIB_hydrop_2.25k',\n",
       " 'VIB_hydrop_21.25k',\n",
       " 'VIB_hydrop_22.25k'}"
      ]
     },
     "execution_count": 14,
     "metadata": {},
     "output_type": "execute_result"
    }
   ],
   "source": [
    "set(regions_sub_dict) == set(fragments_sub_dict)\n",
    "set(regions_sub_dict) - set(fragments_sub_dict)"
   ]
  },
  {
   "cell_type": "code",
   "execution_count": 15,
   "id": "e4524e19-a30c-49d3-a910-5bc39a9e349e",
   "metadata": {
    "execution": {
     "iopub.execute_input": "2022-09-15T12:40:02.608106Z",
     "iopub.status.busy": "2022-09-15T12:40:02.607734Z",
     "iopub.status.idle": "2022-09-15T12:40:02.611155Z",
     "shell.execute_reply": "2022-09-15T12:40:02.610624Z"
    },
    "papermill": {
     "duration": 0.01014,
     "end_time": "2022-09-15T12:40:02.612098",
     "exception": false,
     "start_time": "2022-09-15T12:40:02.601958",
     "status": "completed"
    },
    "tags": []
   },
   "outputs": [],
   "source": [
    "common = set(fragments_sub_dict).intersection(set(regions_sub_dict))"
   ]
  },
  {
   "cell_type": "code",
   "execution_count": 16,
   "id": "13650870-4b93-4373-a7de-dce223fa0d5a",
   "metadata": {
    "execution": {
     "iopub.execute_input": "2022-09-15T12:40:02.623802Z",
     "iopub.status.busy": "2022-09-15T12:40:02.623424Z",
     "iopub.status.idle": "2022-09-15T12:40:02.627414Z",
     "shell.execute_reply": "2022-09-15T12:40:02.626882Z"
    },
    "papermill": {
     "duration": 0.010918,
     "end_time": "2022-09-15T12:40:02.628376",
     "exception": false,
     "start_time": "2022-09-15T12:40:02.617458",
     "status": "completed"
    },
    "tags": []
   },
   "outputs": [
    {
     "data": {
      "text/plain": [
       "3"
      ]
     },
     "execution_count": 16,
     "metadata": {},
     "output_type": "execute_result"
    }
   ],
   "source": [
    "len(common)"
   ]
  },
  {
   "cell_type": "code",
   "execution_count": 17,
   "id": "b0652173-a623-4a34-babb-bfe872ac0bd0",
   "metadata": {
    "execution": {
     "iopub.execute_input": "2022-09-15T12:40:02.640208Z",
     "iopub.status.busy": "2022-09-15T12:40:02.639838Z",
     "iopub.status.idle": "2022-09-15T12:40:02.644069Z",
     "shell.execute_reply": "2022-09-15T12:40:02.643512Z"
    },
    "papermill": {
     "duration": 0.011069,
     "end_time": "2022-09-15T12:40:02.645021",
     "exception": false,
     "start_time": "2022-09-15T12:40:02.633952",
     "status": "completed"
    },
    "tags": []
   },
   "outputs": [],
   "source": [
    "regions_sub_dict = {x: regions_sub_dict[x] for x in list(common)}\n",
    "fragments_sub_dict = {x: fragments_sub_dict[x] for x in list(common)}"
   ]
  },
  {
   "cell_type": "code",
   "execution_count": 18,
   "id": "92ba8eb2-3d7d-4d66-9eed-a92a54433d2e",
   "metadata": {
    "execution": {
     "iopub.execute_input": "2022-09-15T12:40:02.656932Z",
     "iopub.status.busy": "2022-09-15T12:40:02.656565Z",
     "iopub.status.idle": "2022-09-15T12:40:02.659884Z",
     "shell.execute_reply": "2022-09-15T12:40:02.659370Z"
    },
    "papermill": {
     "duration": 0.010242,
     "end_time": "2022-09-15T12:40:02.660813",
     "exception": false,
     "start_time": "2022-09-15T12:40:02.650571",
     "status": "completed"
    },
    "tags": []
   },
   "outputs": [],
   "source": [
    "ray.shutdown()"
   ]
  },
  {
   "cell_type": "code",
   "execution_count": 19,
   "id": "0a585a26",
   "metadata": {
    "execution": {
     "iopub.execute_input": "2022-09-15T12:40:02.672922Z",
     "iopub.status.busy": "2022-09-15T12:40:02.672556Z",
     "iopub.status.idle": "2022-09-15T13:07:55.442728Z",
     "shell.execute_reply": "2022-09-15T13:07:55.441992Z"
    },
    "papermill": {
     "duration": 1672.847617,
     "end_time": "2022-09-15T13:07:55.513937",
     "exception": false,
     "start_time": "2022-09-15T12:40:02.666320",
     "status": "completed"
    },
    "tags": []
   },
   "outputs": [
    {
     "name": "stdout",
     "output_type": "stream",
     "text": [
      "2022-09-15 12:40:02,679 cisTopic     INFO     n_cpu is larger than the number of samples. Setting n_cpu to the number of samples\n"
     ]
    },
    {
     "name": "stderr",
     "output_type": "stream",
     "text": [
      "2022-09-15 12:40:06,738\tINFO services.py:1470 -- View the Ray dashboard at \u001b[1m\u001b[32mhttp://127.0.0.1:8265\u001b[39m\u001b[22m\n"
     ]
    },
    {
     "name": "stdout",
     "output_type": "stream",
     "text": [
      "\u001b[2m\u001b[36m(compute_qc_stats_ray pid=903755)\u001b[0m 2022-09-15 12:40:17,810 cisTopic     INFO     Reading TXG_10xv11_1.25k\n",
      "\u001b[2m\u001b[36m(compute_qc_stats_ray pid=903757)\u001b[0m 2022-09-15 12:40:17,826 cisTopic     INFO     Reading TXG_10xv2_1.25k\n",
      "\u001b[2m\u001b[36m(compute_qc_stats_ray pid=903756)\u001b[0m 2022-09-15 12:40:17,811 cisTopic     INFO     Reading TXG_10xv2_2.25k\n"
     ]
    },
    {
     "name": "stdout",
     "output_type": "stream",
     "text": [
      "\u001b[2m\u001b[36m(compute_qc_stats_ray pid=903756)\u001b[0m 2022-09-15 12:45:06,561 cisTopic     INFO     Computing barcode rank plot for TXG_10xv2_2.25k\n",
      "\u001b[2m\u001b[36m(compute_qc_stats_ray pid=903756)\u001b[0m 2022-09-15 12:45:06,561 cisTopic     INFO     Counting fragments\n"
     ]
    },
    {
     "name": "stdout",
     "output_type": "stream",
     "text": [
      "\u001b[2m\u001b[36m(compute_qc_stats_ray pid=903757)\u001b[0m 2022-09-15 12:45:09,702 cisTopic     INFO     Computing barcode rank plot for TXG_10xv2_1.25k\n",
      "\u001b[2m\u001b[36m(compute_qc_stats_ray pid=903757)\u001b[0m 2022-09-15 12:45:09,703 cisTopic     INFO     Counting fragments\n"
     ]
    },
    {
     "name": "stdout",
     "output_type": "stream",
     "text": [
      "\u001b[2m\u001b[36m(compute_qc_stats_ray pid=903756)\u001b[0m 2022-09-15 12:45:22,822 cisTopic     INFO     Marking barcodes with more than 10\n"
     ]
    },
    {
     "name": "stdout",
     "output_type": "stream",
     "text": [
      "\u001b[2m\u001b[36m(compute_qc_stats_ray pid=903756)\u001b[0m 2022-09-15 12:45:23,107 cisTopic     INFO     Returning plot data\n",
      "\u001b[2m\u001b[36m(compute_qc_stats_ray pid=903756)\u001b[0m 2022-09-15 12:45:23,147 cisTopic     INFO     Returning valid barcodes\n"
     ]
    },
    {
     "name": "stdout",
     "output_type": "stream",
     "text": [
      "\u001b[2m\u001b[36m(compute_qc_stats_ray pid=903757)\u001b[0m 2022-09-15 12:45:25,848 cisTopic     INFO     Marking barcodes with more than 10\n"
     ]
    },
    {
     "name": "stdout",
     "output_type": "stream",
     "text": [
      "\u001b[2m\u001b[36m(compute_qc_stats_ray pid=903757)\u001b[0m 2022-09-15 12:45:26,123 cisTopic     INFO     Returning plot data\n",
      "\u001b[2m\u001b[36m(compute_qc_stats_ray pid=903757)\u001b[0m 2022-09-15 12:45:26,159 cisTopic     INFO     Returning valid barcodes\n"
     ]
    },
    {
     "name": "stdout",
     "output_type": "stream",
     "text": [
      "\u001b[2m\u001b[36m(compute_qc_stats_ray pid=903755)\u001b[0m 2022-09-15 12:45:35,298 cisTopic     INFO     Computing barcode rank plot for TXG_10xv11_1.25k\n",
      "\u001b[2m\u001b[36m(compute_qc_stats_ray pid=903755)\u001b[0m 2022-09-15 12:45:35,299 cisTopic     INFO     Counting fragments\n"
     ]
    },
    {
     "name": "stdout",
     "output_type": "stream",
     "text": [
      "\u001b[2m\u001b[36m(compute_qc_stats_ray pid=903756)\u001b[0m 2022-09-15 12:45:39,715 cisTopic     INFO     Computing duplicate rate plot for TXG_10xv2_2.25k\n"
     ]
    },
    {
     "name": "stdout",
     "output_type": "stream",
     "text": [
      "\u001b[2m\u001b[36m(compute_qc_stats_ray pid=903757)\u001b[0m 2022-09-15 12:45:43,104 cisTopic     INFO     Computing duplicate rate plot for TXG_10xv2_1.25k\n"
     ]
    },
    {
     "name": "stdout",
     "output_type": "stream",
     "text": [
      "\u001b[2m\u001b[36m(compute_qc_stats_ray pid=903755)\u001b[0m 2022-09-15 12:45:52,886 cisTopic     INFO     Marking barcodes with more than 10\n"
     ]
    },
    {
     "name": "stdout",
     "output_type": "stream",
     "text": [
      "\u001b[2m\u001b[36m(compute_qc_stats_ray pid=903755)\u001b[0m 2022-09-15 12:45:53,202 cisTopic     INFO     Returning plot data\n",
      "\u001b[2m\u001b[36m(compute_qc_stats_ray pid=903755)\u001b[0m 2022-09-15 12:45:53,238 cisTopic     INFO     Returning valid barcodes\n"
     ]
    },
    {
     "name": "stdout",
     "output_type": "stream",
     "text": [
      "\u001b[2m\u001b[36m(compute_qc_stats_ray pid=903756)\u001b[0m 2022-09-15 12:46:04,596 cisTopic     INFO     Return plot data\n"
     ]
    },
    {
     "name": "stdout",
     "output_type": "stream",
     "text": [
      "\u001b[2m\u001b[36m(compute_qc_stats_ray pid=903756)\u001b[0m 2022-09-15 12:46:04,838 cisTopic     INFO     Computing insert size distribution for TXG_10xv2_2.25k\n",
      "\u001b[2m\u001b[36m(compute_qc_stats_ray pid=903756)\u001b[0m 2022-09-15 12:46:04,838 cisTopic     INFO     Counting fragments\n"
     ]
    },
    {
     "name": "stdout",
     "output_type": "stream",
     "text": [
      "\u001b[2m\u001b[36m(compute_qc_stats_ray pid=903757)\u001b[0m 2022-09-15 12:46:07,947 cisTopic     INFO     Return plot data\n"
     ]
    },
    {
     "name": "stdout",
     "output_type": "stream",
     "text": [
      "\u001b[2m\u001b[36m(compute_qc_stats_ray pid=903757)\u001b[0m 2022-09-15 12:46:08,187 cisTopic     INFO     Computing insert size distribution for TXG_10xv2_1.25k\n",
      "\u001b[2m\u001b[36m(compute_qc_stats_ray pid=903757)\u001b[0m 2022-09-15 12:46:08,187 cisTopic     INFO     Counting fragments\n"
     ]
    },
    {
     "name": "stdout",
     "output_type": "stream",
     "text": [
      "\u001b[2m\u001b[36m(compute_qc_stats_ray pid=903755)\u001b[0m 2022-09-15 12:46:10,432 cisTopic     INFO     Computing duplicate rate plot for TXG_10xv11_1.25k\n"
     ]
    },
    {
     "name": "stdout",
     "output_type": "stream",
     "text": [
      "\u001b[2m\u001b[36m(compute_qc_stats_ray pid=903756)\u001b[0m 2022-09-15 12:46:11,872 cisTopic     INFO     Returning plot data\n"
     ]
    },
    {
     "name": "stdout",
     "output_type": "stream",
     "text": [
      "\u001b[2m\u001b[36m(compute_qc_stats_ray pid=903757)\u001b[0m 2022-09-15 12:46:15,239 cisTopic     INFO     Returning plot data\n"
     ]
    },
    {
     "name": "stdout",
     "output_type": "stream",
     "text": [
      "\u001b[2m\u001b[36m(compute_qc_stats_ray pid=903755)\u001b[0m 2022-09-15 12:46:37,777 cisTopic     INFO     Return plot data\n"
     ]
    },
    {
     "name": "stdout",
     "output_type": "stream",
     "text": [
      "\u001b[2m\u001b[36m(compute_qc_stats_ray pid=903755)\u001b[0m 2022-09-15 12:46:38,031 cisTopic     INFO     Computing insert size distribution for TXG_10xv11_1.25k\n",
      "\u001b[2m\u001b[36m(compute_qc_stats_ray pid=903755)\u001b[0m 2022-09-15 12:46:38,031 cisTopic     INFO     Counting fragments\n"
     ]
    },
    {
     "name": "stdout",
     "output_type": "stream",
     "text": [
      "\u001b[2m\u001b[36m(compute_qc_stats_ray pid=903755)\u001b[0m 2022-09-15 12:46:45,146 cisTopic     INFO     Returning plot data\n"
     ]
    },
    {
     "name": "stdout",
     "output_type": "stream",
     "text": [
      "\u001b[2m\u001b[36m(compute_qc_stats_ray pid=903756)\u001b[0m 2022-09-15 12:48:21,245 cisTopic     INFO     Computing TSS profile for TXG_10xv2_2.25k\n"
     ]
    },
    {
     "name": "stdout",
     "output_type": "stream",
     "text": [
      "\u001b[2m\u001b[36m(compute_qc_stats_ray pid=903757)\u001b[0m 2022-09-15 12:48:25,868 cisTopic     INFO     Computing TSS profile for TXG_10xv2_1.25k\n"
     ]
    },
    {
     "name": "stdout",
     "output_type": "stream",
     "text": [
      "\u001b[2m\u001b[36m(compute_qc_stats_ray pid=903756)\u001b[0m 2022-09-15 12:48:52,457 cisTopic     INFO     Formatting annnotation\n"
     ]
    },
    {
     "name": "stdout",
     "output_type": "stream",
     "text": [
      "\u001b[2m\u001b[36m(compute_qc_stats_ray pid=903756)\u001b[0m 2022-09-15 12:48:52,710 cisTopic     INFO     Creating coverage matrix\n"
     ]
    },
    {
     "name": "stdout",
     "output_type": "stream",
     "text": [
      "\u001b[2m\u001b[36m(compute_qc_stats_ray pid=903757)\u001b[0m 2022-09-15 12:48:57,395 cisTopic     INFO     Formatting annnotation\n"
     ]
    },
    {
     "name": "stdout",
     "output_type": "stream",
     "text": [
      "\u001b[2m\u001b[36m(compute_qc_stats_ray pid=903757)\u001b[0m 2022-09-15 12:48:57,584 cisTopic     INFO     Creating coverage matrix\n"
     ]
    },
    {
     "name": "stdout",
     "output_type": "stream",
     "text": [
      "\u001b[2m\u001b[36m(compute_qc_stats_ray pid=903755)\u001b[0m 2022-09-15 12:49:00,870 cisTopic     INFO     Computing TSS profile for TXG_10xv11_1.25k\n"
     ]
    },
    {
     "name": "stdout",
     "output_type": "stream",
     "text": [
      "\u001b[2m\u001b[36m(compute_qc_stats_ray pid=903755)\u001b[0m 2022-09-15 12:49:43,063 cisTopic     INFO     Formatting annnotation\n"
     ]
    },
    {
     "name": "stdout",
     "output_type": "stream",
     "text": [
      "\u001b[2m\u001b[36m(compute_qc_stats_ray pid=903755)\u001b[0m 2022-09-15 12:49:43,250 cisTopic     INFO     Creating coverage matrix\n"
     ]
    },
    {
     "name": "stdout",
     "output_type": "stream",
     "text": [
      "\u001b[2m\u001b[36m(compute_qc_stats_ray pid=903755)\u001b[0m 2022-09-15 12:57:22,865 cisTopic     INFO     Coverage matrix done\n"
     ]
    },
    {
     "name": "stdout",
     "output_type": "stream",
     "text": [
      "\u001b[2m\u001b[36m(compute_qc_stats_ray pid=903756)\u001b[0m 2022-09-15 12:59:03,492 cisTopic     INFO     Coverage matrix done\n"
     ]
    },
    {
     "name": "stdout",
     "output_type": "stream",
     "text": [
      "\u001b[2m\u001b[36m(compute_qc_stats_ray pid=903757)\u001b[0m 2022-09-15 12:59:05,395 cisTopic     INFO     Coverage matrix done\n"
     ]
    },
    {
     "name": "stdout",
     "output_type": "stream",
     "text": [
      "\u001b[2m\u001b[36m(compute_qc_stats_ray pid=903755)\u001b[0m 2022-09-15 13:01:44,824 cisTopic     INFO     Returning normalized TSS coverage matrix per barcode\n"
     ]
    },
    {
     "name": "stdout",
     "output_type": "stream",
     "text": [
      "\u001b[2m\u001b[36m(compute_qc_stats_ray pid=903757)\u001b[0m 2022-09-15 13:02:50,665 cisTopic     INFO     Returning normalized TSS coverage matrix per barcode\n"
     ]
    },
    {
     "name": "stdout",
     "output_type": "stream",
     "text": [
      "\u001b[2m\u001b[36m(compute_qc_stats_ray pid=903756)\u001b[0m 2022-09-15 13:02:52,613 cisTopic     INFO     Returning normalized TSS coverage matrix per barcode\n"
     ]
    },
    {
     "name": "stdout",
     "output_type": "stream",
     "text": [
      "\u001b[2m\u001b[36m(compute_qc_stats_ray pid=903755)\u001b[0m 2022-09-15 13:04:36,027 cisTopic     INFO     Returning normalized sample TSS enrichment data\n"
     ]
    },
    {
     "name": "stdout",
     "output_type": "stream",
     "text": [
      "\u001b[2m\u001b[36m(compute_qc_stats_ray pid=903755)\u001b[0m 2022-09-15 13:04:36,283 cisTopic     INFO     Computing FRIP profile for TXG_10xv11_1.25k\n"
     ]
    },
    {
     "name": "stdout",
     "output_type": "stream",
     "text": [
      "\u001b[2m\u001b[36m(compute_qc_stats_ray pid=903755)\u001b[0m 2022-09-15 13:04:38,319 cisTopic     INFO     Counting fragments\n"
     ]
    },
    {
     "name": "stdout",
     "output_type": "stream",
     "text": [
      "\u001b[2m\u001b[36m(compute_qc_stats_ray pid=903755)\u001b[0m 2022-09-15 13:05:00,923 cisTopic     INFO     Intersecting fragments with regions\n"
     ]
    },
    {
     "name": "stdout",
     "output_type": "stream",
     "text": [
      "\u001b[2m\u001b[36m(compute_qc_stats_ray pid=903757)\u001b[0m 2022-09-15 13:05:21,811 cisTopic     INFO     Returning normalized sample TSS enrichment data\n"
     ]
    },
    {
     "name": "stdout",
     "output_type": "stream",
     "text": [
      "\u001b[2m\u001b[36m(compute_qc_stats_ray pid=903757)\u001b[0m 2022-09-15 13:05:22,073 cisTopic     INFO     Computing FRIP profile for TXG_10xv2_1.25k\n"
     ]
    },
    {
     "name": "stdout",
     "output_type": "stream",
     "text": [
      "\u001b[2m\u001b[36m(compute_qc_stats_ray pid=903756)\u001b[0m 2022-09-15 13:05:25,032 cisTopic     INFO     Returning normalized sample TSS enrichment data\n"
     ]
    },
    {
     "name": "stdout",
     "output_type": "stream",
     "text": [
      "\u001b[2m\u001b[36m(compute_qc_stats_ray pid=903756)\u001b[0m 2022-09-15 13:05:25,298 cisTopic     INFO     Computing FRIP profile for TXG_10xv2_2.25k\n",
      "\u001b[2m\u001b[36m(compute_qc_stats_ray pid=903757)\u001b[0m 2022-09-15 13:05:25,391 cisTopic     INFO     Counting fragments\n"
     ]
    },
    {
     "name": "stdout",
     "output_type": "stream",
     "text": [
      "\u001b[2m\u001b[36m(compute_qc_stats_ray pid=903756)\u001b[0m 2022-09-15 13:05:28,361 cisTopic     INFO     Counting fragments\n"
     ]
    },
    {
     "name": "stdout",
     "output_type": "stream",
     "text": [
      "\u001b[2m\u001b[36m(compute_qc_stats_ray pid=903757)\u001b[0m 2022-09-15 13:05:48,156 cisTopic     INFO     Intersecting fragments with regions\n"
     ]
    },
    {
     "name": "stdout",
     "output_type": "stream",
     "text": [
      "\u001b[2m\u001b[36m(compute_qc_stats_ray pid=903756)\u001b[0m 2022-09-15 13:05:50,307 cisTopic     INFO     Intersecting fragments with regions\n"
     ]
    },
    {
     "name": "stdout",
     "output_type": "stream",
     "text": [
      "\u001b[2m\u001b[36m(compute_qc_stats_ray pid=903755)\u001b[0m 2022-09-15 13:06:30,176 cisTopic     INFO     Sample TXG_10xv11_1.25k done!\n"
     ]
    },
    {
     "name": "stdout",
     "output_type": "stream",
     "text": [
      "\u001b[2m\u001b[36m(compute_qc_stats_ray pid=903756)\u001b[0m 2022-09-15 13:07:31,819 cisTopic     INFO     Sample TXG_10xv2_2.25k done!\n"
     ]
    },
    {
     "name": "stdout",
     "output_type": "stream",
     "text": [
      "\u001b[2m\u001b[36m(compute_qc_stats_ray pid=903757)\u001b[0m 2022-09-15 13:07:32,456 cisTopic     INFO     Sample TXG_10xv2_1.25k done!\n"
     ]
    },
    {
     "name": "stdout",
     "output_type": "stream",
     "text": [
      "Dumping files in /dodrio/scratch/projects/starting_2022_023/benchmark/scatac_benchmark/downsample_series/25k/cistopic_qc_out_CONSENSUS...\n"
     ]
    }
   ],
   "source": [
    "n_cores = 16\n",
    "if regions_sub_dict != {}:\n",
    "    samples_sub = list(regions_sub_dict.keys())\n",
    "    blocks = [samples_sub[i : i + n_cores] for i in range(0, len(samples_sub), n_cores)]\n",
    "    for samples_torun_in_block in blocks:\n",
    "        fragments_sub_dict_block = {\n",
    "            key: fragments_sub_dict[key] for key in samples_torun_in_block\n",
    "        }\n",
    "        regions_sub_dict_block = {\n",
    "            key: regions_sub_dict[key] for key in samples_torun_in_block\n",
    "        }\n",
    "\n",
    "        metadata_bc_dict, profile_data_dict = compute_qc_stats(\n",
    "            fragments_dict=fragments_sub_dict_block,\n",
    "            tss_annotation=annotation,\n",
    "            stats=[\n",
    "                \"barcode_rank_plot\",\n",
    "                \"duplicate_rate\",\n",
    "                \"insert_size_distribution\",\n",
    "                \"profile_tss\",\n",
    "                \"frip\",\n",
    "            ],\n",
    "            label_list=None,\n",
    "            path_to_regions=regions_sub_dict_block,\n",
    "            n_cpu=n_cores,\n",
    "            valid_bc=None,\n",
    "            n_frag=10,\n",
    "            n_bc=None,\n",
    "            tss_flank_window=2000,\n",
    "            tss_window=50,\n",
    "            tss_minimum_signal_window=100,\n",
    "            tss_rolling_window=10,\n",
    "            # min_norm=0.2,\n",
    "            remove_duplicates=True,\n",
    "        )\n",
    "\n",
    "        ray.shutdown()\n",
    "        print(f\"Dumping files in {cistopic_qc_out}...\")\n",
    "        for sample in sorted(metadata_bc_dict.keys()):\n",
    "            metadata_bc_dict[sample][\"sample_id\"] = sample\n",
    "            metadata_bc_dict[sample].index = [\n",
    "                x + \"___\" + sample for x in list(metadata_bc_dict[sample].index)\n",
    "            ]\n",
    "            with open(\n",
    "                os.path.join(cistopic_qc_out, f\"{sample}__metadata_bc.pkl\"), \"wb\"\n",
    "            ) as f:\n",
    "                pickle.dump(metadata_bc_dict[sample], f, protocol=4)\n",
    "\n",
    "            with open(\n",
    "                os.path.join(cistopic_qc_out, f\"{sample}__profile_data.pkl\"), \"wb\"\n",
    "            ) as f:\n",
    "                pickle.dump(profile_data_dict[sample], f, protocol=4)\n",
    "else:\n",
    "    print(\"All samples already processed.\")"
   ]
  },
  {
   "cell_type": "markdown",
   "id": "1a1ad8e2",
   "metadata": {
    "papermill": {
     "duration": 0.008161,
     "end_time": "2022-09-15T13:07:55.591175",
     "exception": false,
     "start_time": "2022-09-15T13:07:55.583014",
     "status": "completed"
    },
    "tags": []
   },
   "source": [
    "# Plot"
   ]
  },
  {
   "cell_type": "markdown",
   "id": "76d9a6eb-c74e-41bb-b05b-0c2c36a0a2f9",
   "metadata": {
    "papermill": {
     "duration": 0.007449,
     "end_time": "2022-09-15T13:07:55.607194",
     "exception": false,
     "start_time": "2022-09-15T13:07:55.599745",
     "status": "completed"
    },
    "tags": []
   },
   "source": [
    "Calculating a KDE is simultaneously expensive and scales poorly with increasing n. Therefore, I wrote a multithreaded script that divides the QC array into equal parts (interleaved to avoid biases in the order!) and performs a KDE calculation on each part. Here, Otsu thresholding is used to find the right threshold for minimum fragments and minimum TSS enrichment. ddseq samples have a significantly higher noise floor than the other samples when it comes to fragment distribution. Therefore, the otsu algorithm is performed on all barcodes with a minimum of 300 fragments for the ddseq samples, and a minimum of 100 fragments for all the other samples. I tried to perform this filtering completely independent of sample/technique (e.g. using gaussian mixture modeling, Jenks natural breaks, or multiple step Otsu thresholding) but found that no solution worked perfectly for all samples."
   ]
  },
  {
   "cell_type": "markdown",
   "id": "0332bf6a-0bd8-41d2-9f12-634b2249af11",
   "metadata": {
    "papermill": {
     "duration": 0.007487,
     "end_time": "2022-09-15T13:07:55.622287",
     "exception": false,
     "start_time": "2022-09-15T13:07:55.614800",
     "status": "completed"
    },
    "tags": []
   },
   "source": [
    "This is regulated by the code below in qc_plots.py:\n",
    "```\n",
    "min_otsu_frags_dict = {}\n",
    "for fragments_file in fragments_list:\n",
    "    sample = fragments_file.split(\"/\")[-1].split(\".\")[0]\n",
    "    tech = sample.split('_')[1]\n",
    "    if tech == \"ddseq\":\n",
    "        if sample == \"BIO_ddseq_1\":\n",
    "            min_otsu_frags_dict[sample] = 600\n",
    "        else:\n",
    "            min_otsu_frags_dict[sample] = 300\n",
    "    elif tech == \"hydrop\":\n",
    "        min_otsu_frags_dict[sample] = 300\n",
    "    else:\n",
    "        min_otsu_frags_dict[sample] = 100\n",
    "```"
   ]
  },
  {
   "cell_type": "code",
   "execution_count": 20,
   "id": "0b8bcb35-3db0-4d9c-96d0-c73d04a0d5cf",
   "metadata": {
    "collapsed": true,
    "execution": {
     "iopub.execute_input": "2022-09-15T13:07:55.639279Z",
     "iopub.status.busy": "2022-09-15T13:07:55.638636Z",
     "iopub.status.idle": "2022-09-15T13:07:55.863601Z",
     "shell.execute_reply": "2022-09-15T13:07:55.862855Z"
    },
    "jupyter": {
     "outputs_hidden": true
    },
    "papermill": {
     "duration": 0.235258,
     "end_time": "2022-09-15T13:07:55.865179",
     "exception": false,
     "start_time": "2022-09-15T13:07:55.629921",
     "status": "completed"
    },
    "tags": []
   },
   "outputs": [
    {
     "name": "stdout",
     "output_type": "stream",
     "text": [
      "cat: ../0_resources/scripts/qc_plots.py: No such file or directory\r\n"
     ]
    }
   ],
   "source": [
    "!cat ../0_resources/scripts/qc_plots.py"
   ]
  },
  {
   "cell_type": "markdown",
   "id": "e4019bde",
   "metadata": {
    "execution": {
     "iopub.execute_input": "2022-07-15T09:42:06.802579Z",
     "iopub.status.busy": "2022-07-15T09:42:06.801860Z",
     "iopub.status.idle": "2022-07-15T09:42:06.814527Z",
     "shell.execute_reply": "2022-07-15T09:42:06.813708Z",
     "shell.execute_reply.started": "2022-07-15T09:42:06.802476Z"
    },
    "papermill": {
     "duration": 0.007573,
     "end_time": "2022-09-15T13:07:55.881764",
     "exception": false,
     "start_time": "2022-09-15T13:07:55.874191",
     "status": "completed"
    },
    "tags": []
   },
   "source": [
    "Since multiprocessing does not work with jupyter notebooks, run the following code in terminal:"
   ]
  },
  {
   "cell_type": "markdown",
   "id": "5d53e61b",
   "metadata": {
    "papermill": {
     "duration": 0.007355,
     "end_time": "2022-09-15T13:07:55.896688",
     "exception": false,
     "start_time": "2022-09-15T13:07:55.889333",
     "status": "completed"
    },
    "tags": []
   },
   "source": [
    "```\n",
    "mkdir plots_qc\n",
    "mkdir selected_barcodes\n",
    "SIF=../0_resources/cistopic_image/20220722_pycistopic.sif\n",
    "singularity exec \\\n",
    "    --cleanenv \\\n",
    "    -H $PWD:/home \\\n",
    "    $SIF \\\n",
    "    python ../0_resources/scripts/qc_plots.py\n",
    "```"
   ]
  },
  {
   "cell_type": "markdown",
   "id": "6de4c150-e92a-4060-b992-ae7babd1625a",
   "metadata": {
    "papermill": {
     "duration": 0.007441,
     "end_time": "2022-09-15T13:07:55.911562",
     "exception": false,
     "start_time": "2022-09-15T13:07:55.904121",
     "status": "completed"
    },
    "tags": []
   },
   "source": [
    "And then open the plots:"
   ]
  },
  {
   "cell_type": "code",
   "execution_count": 21,
   "id": "68739afd-bc2c-4fab-ad96-25edf95b163c",
   "metadata": {
    "execution": {
     "iopub.execute_input": "2022-09-15T13:07:55.927845Z",
     "iopub.status.busy": "2022-09-15T13:07:55.927396Z",
     "iopub.status.idle": "2022-09-15T13:07:55.936028Z",
     "shell.execute_reply": "2022-09-15T13:07:55.935492Z"
    },
    "papermill": {
     "duration": 0.017947,
     "end_time": "2022-09-15T13:07:55.937034",
     "exception": false,
     "start_time": "2022-09-15T13:07:55.919087",
     "status": "completed"
    },
    "tags": []
   },
   "outputs": [],
   "source": [
    "metadata_bc_pkl_list = sorted(glob.glob(\"cistopic_qc_out/*metadata_bc.pkl\"))\n",
    "metadata_bc_pkl_path_dict = {}\n",
    "for metadata_bc_pkl_path in metadata_bc_pkl_list:\n",
    "    sample = metadata_bc_pkl_path.split(\"/\")[-1].split(\"__\")[0]\n",
    "    metadata_bc_pkl_path_dict[sample] = metadata_bc_pkl_path\n",
    "\n",
    "for sample in metadata_bc_pkl_path_dict.keys():\n",
    "    if os.path.exists(f\"selected_barcodes/{sample}_bc_passing_filters_otsu.pkl\"):\n",
    "        print(f\"{sample} bc passing filters exists, printing img and skipping\")\n",
    "        display(Image(f\"plots_qc/{sample}_qc_otsu.png\"))\n",
    "    else:\n",
    "        print(\n",
    "            f\"{sample} bc passing filters does not exist yet, generate using qc_plots.py script!\"\n",
    "        )"
   ]
  },
  {
   "cell_type": "markdown",
   "id": "fa5a05ab-0ae5-4804-95d8-b280b86bbedf",
   "metadata": {
    "papermill": {
     "duration": 0.00741,
     "end_time": "2022-09-15T13:07:55.952200",
     "exception": false,
     "start_time": "2022-09-15T13:07:55.944790",
     "status": "completed"
    },
    "tags": []
   },
   "source": [
    "# Write raw barcode file"
   ]
  },
  {
   "cell_type": "markdown",
   "id": "ed437d13-e63c-4fd5-a19b-549c83c3c3f6",
   "metadata": {
    "papermill": {
     "duration": 0.0074,
     "end_time": "2022-09-15T13:07:55.967169",
     "exception": false,
     "start_time": "2022-09-15T13:07:55.959769",
     "status": "completed"
    },
    "tags": []
   },
   "source": [
    "Freemuxlet reads barcodes in the bam file. These barcodes (tag: DB) do not contain the `sample` suffix, which is included in the `*_bc_passing_filters_otsu.txt` files:"
   ]
  },
  {
   "cell_type": "code",
   "execution_count": 22,
   "id": "76c6ae6e-c050-4915-9477-1b567edff53e",
   "metadata": {
    "execution": {
     "iopub.execute_input": "2022-09-15T13:07:55.983291Z",
     "iopub.status.busy": "2022-09-15T13:07:55.982850Z",
     "iopub.status.idle": "2022-09-15T13:07:56.227515Z",
     "shell.execute_reply": "2022-09-15T13:07:56.226774Z"
    },
    "papermill": {
     "duration": 0.254427,
     "end_time": "2022-09-15T13:07:56.229224",
     "exception": false,
     "start_time": "2022-09-15T13:07:55.974797",
     "status": "completed"
    },
    "tags": []
   },
   "outputs": [
    {
     "name": "stdout",
     "output_type": "stream",
     "text": [
      "head: cannot open 'selected_barcodes/BIO_ddseq_1.LIBDS_bc_passing_filters_otsu.txt' for reading: No such file or directory\r\n"
     ]
    }
   ],
   "source": [
    "!head selected_barcodes/BIO_ddseq_1.LIBDS_bc_passing_filters_otsu.txt"
   ]
  },
  {
   "cell_type": "code",
   "execution_count": 23,
   "id": "df7588f2-5917-4e37-98cb-7fd0d2c83590",
   "metadata": {
    "execution": {
     "iopub.execute_input": "2022-09-15T13:07:56.246520Z",
     "iopub.status.busy": "2022-09-15T13:07:56.246248Z",
     "iopub.status.idle": "2022-09-15T13:07:56.254604Z",
     "shell.execute_reply": "2022-09-15T13:07:56.254052Z"
    },
    "papermill": {
     "duration": 0.017582,
     "end_time": "2022-09-15T13:07:56.255555",
     "exception": false,
     "start_time": "2022-09-15T13:07:56.237973",
     "status": "completed"
    },
    "tags": []
   },
   "outputs": [],
   "source": [
    "for file in glob.glob(\"selected_barcodes/*_bc_passing_filters_otsu.txt\"):\n",
    "    print(file)\n",
    "    sample = file.split(\"/\")[-1].split(\"_bc_passing_filters_otsu.txt\")[0]\n",
    "    print(sample)\n",
    "    df = pd.read_csv(file, header=None, index_col=None)\n",
    "\n",
    "    with open(f\"selected_barcodes/{sample}_bc_passing_filters_otsu.RAW.txt\", \"w\") as fp:\n",
    "        for x in df[0]:\n",
    "            # write each item on a new line\n",
    "            fp.write(x.split(\"___\")[0] + \"\\n\")\n",
    "        print(\"Done\")"
   ]
  },
  {
   "cell_type": "code",
   "execution_count": 24,
   "id": "83e00ebf-28af-4f4a-8f2f-d3c073179b2a",
   "metadata": {
    "execution": {
     "iopub.execute_input": "2022-09-15T13:07:56.271489Z",
     "iopub.status.busy": "2022-09-15T13:07:56.271013Z",
     "iopub.status.idle": "2022-09-15T13:07:56.481894Z",
     "shell.execute_reply": "2022-09-15T13:07:56.481156Z"
    },
    "papermill": {
     "duration": 0.220108,
     "end_time": "2022-09-15T13:07:56.483198",
     "exception": false,
     "start_time": "2022-09-15T13:07:56.263090",
     "status": "completed"
    },
    "tags": []
   },
   "outputs": [
    {
     "name": "stdout",
     "output_type": "stream",
     "text": [
      "head: cannot open 'selected_barcodes/BIO_ddseq_1.LIBDS_bc_passing_filters_otsu.RAW.txt' for reading: No such file or directory\r\n"
     ]
    }
   ],
   "source": [
    "!head selected_barcodes/BIO_ddseq_1.LIBDS_bc_passing_filters_otsu.RAW.txt"
   ]
  },
  {
   "cell_type": "code",
   "execution_count": null,
   "id": "1f42804d-a0dd-4797-8573-d1ac4de75f1b",
   "metadata": {
    "papermill": {
     "duration": 0.007488,
     "end_time": "2022-09-15T13:07:56.499764",
     "exception": false,
     "start_time": "2022-09-15T13:07:56.492276",
     "status": "completed"
    },
    "tags": []
   },
   "outputs": [],
   "source": []
  }
 ],
 "metadata": {
  "kernelspec": {
   "display_name": "20220815_pycistopic.sif",
   "language": "python",
   "name": "pycistopic_20220815"
  },
  "language_info": {
   "codemirror_mode": {
    "name": "ipython",
    "version": 3
   },
   "file_extension": ".py",
   "mimetype": "text/x-python",
   "name": "python",
   "nbconvert_exporter": "python",
   "pygments_lexer": "ipython3",
   "version": "3.8.13"
  },
  "papermill": {
   "default_parameters": {},
   "duration": 1698.048571,
   "end_time": "2022-09-15T13:08:01.384623",
   "environment_variables": {},
   "exception": null,
   "input_path": "2_run_qc_consensus.ipynb",
   "output_path": "2_run_qc_consensus.OUT.ipynb",
   "parameters": {},
   "start_time": "2022-09-15T12:39:43.336052",
   "version": "2.3.4"
  }
 },
 "nbformat": 4,
 "nbformat_minor": 5
}
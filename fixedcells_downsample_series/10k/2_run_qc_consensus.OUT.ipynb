{
 "cells": [
  {
   "cell_type": "code",
   "execution_count": 1,
   "id": "5c0cea95",
   "metadata": {
    "execution": {
     "iopub.execute_input": "2022-09-15T12:41:57.977833Z",
     "iopub.status.busy": "2022-09-15T12:41:57.977487Z",
     "iopub.status.idle": "2022-09-15T12:42:07.191376Z",
     "shell.execute_reply": "2022-09-15T12:42:07.190598Z"
    },
    "papermill": {
     "duration": 9.242468,
     "end_time": "2022-09-15T12:42:07.213193",
     "exception": false,
     "start_time": "2022-09-15T12:41:57.970725",
     "status": "completed"
    },
    "tags": []
   },
   "outputs": [],
   "source": [
    "import pycisTopic\n",
    "import glob\n",
    "import os\n",
    "import pybiomart as pbm\n",
    "import pandas as pd\n",
    "import pickle\n",
    "from pycisTopic.qc import *\n",
    "from IPython.display import Image, display\n",
    "import matplotlib.pyplot as plt\n",
    "import numpy as np\n",
    "import seaborn as sns\n",
    "\n",
    "import multiprocess as mp  # for kde multithreading calculation\n",
    "from multiprocess import Pool\n",
    "\n",
    "%matplotlib inline\n",
    "%load_ext lab_black"
   ]
  },
  {
   "cell_type": "markdown",
   "id": "7c7a43c8",
   "metadata": {
    "papermill": {
     "duration": 0.005065,
     "end_time": "2022-09-15T12:42:07.239259",
     "exception": false,
     "start_time": "2022-09-15T12:42:07.234194",
     "status": "completed"
    },
    "tags": []
   },
   "source": [
    "# Download annotation"
   ]
  },
  {
   "cell_type": "code",
   "execution_count": 2,
   "id": "8d799645-cbe0-43be-b2af-cb773840f783",
   "metadata": {
    "execution": {
     "iopub.execute_input": "2022-09-15T12:42:07.271025Z",
     "iopub.status.busy": "2022-09-15T12:42:07.270639Z",
     "iopub.status.idle": "2022-09-15T12:42:07.500451Z",
     "shell.execute_reply": "2022-09-15T12:42:07.499621Z"
    },
    "papermill": {
     "duration": 0.25818,
     "end_time": "2022-09-15T12:42:07.501830",
     "exception": false,
     "start_time": "2022-09-15T12:42:07.243650",
     "status": "completed"
    },
    "tags": []
   },
   "outputs": [
    {
     "name": "stdout",
     "output_type": "stream",
     "text": [
      "/dodrio/scratch/projects/starting_2022_023/benchmark/scatac_benchmark/downsample_series/10k\r\n"
     ]
    }
   ],
   "source": [
    "!pwd"
   ]
  },
  {
   "cell_type": "code",
   "execution_count": 3,
   "id": "1637befe-6dd6-4a77-b59e-1f696ba36b74",
   "metadata": {
    "execution": {
     "iopub.execute_input": "2022-09-15T12:42:07.512074Z",
     "iopub.status.busy": "2022-09-15T12:42:07.511753Z",
     "iopub.status.idle": "2022-09-15T12:42:07.516710Z",
     "shell.execute_reply": "2022-09-15T12:42:07.516123Z"
    },
    "papermill": {
     "duration": 0.011008,
     "end_time": "2022-09-15T12:42:07.517640",
     "exception": false,
     "start_time": "2022-09-15T12:42:07.506632",
     "status": "completed"
    },
    "tags": []
   },
   "outputs": [],
   "source": [
    "depth_str = os.getcwd().split(\"/\")[-1]"
   ]
  },
  {
   "cell_type": "code",
   "execution_count": 4,
   "id": "f587154d",
   "metadata": {
    "execution": {
     "iopub.execute_input": "2022-09-15T12:42:07.527315Z",
     "iopub.status.busy": "2022-09-15T12:42:07.526888Z",
     "iopub.status.idle": "2022-09-15T12:42:07.531108Z",
     "shell.execute_reply": "2022-09-15T12:42:07.530499Z"
    },
    "papermill": {
     "duration": 0.009999,
     "end_time": "2022-09-15T12:42:07.532009",
     "exception": false,
     "start_time": "2022-09-15T12:42:07.522010",
     "status": "completed"
    },
    "tags": []
   },
   "outputs": [],
   "source": [
    "wdir = f\"/dodrio/scratch/projects/starting_2022_023/benchmark/scatac_benchmark/downsample_series/{depth_str}\"\n",
    "os.chdir(wdir)"
   ]
  },
  {
   "cell_type": "code",
   "execution_count": 5,
   "id": "8abb4492",
   "metadata": {
    "execution": {
     "iopub.execute_input": "2022-09-15T12:42:07.542071Z",
     "iopub.status.busy": "2022-09-15T12:42:07.541516Z",
     "iopub.status.idle": "2022-09-15T12:42:07.627542Z",
     "shell.execute_reply": "2022-09-15T12:42:07.626736Z"
    },
    "papermill": {
     "duration": 0.092132,
     "end_time": "2022-09-15T12:42:07.628598",
     "exception": false,
     "start_time": "2022-09-15T12:42:07.536466",
     "status": "completed"
    },
    "tags": []
   },
   "outputs": [
    {
     "name": "stdout",
     "output_type": "stream",
     "text": [
      "Loading cached genome annotation...\n"
     ]
    }
   ],
   "source": [
    "genome = \"hg38\"\n",
    "\n",
    "pbm_genome_name_dict = {\n",
    "    \"hg38\": \"hsapiens_gene_ensembl\",\n",
    "    \"hg37\": \"hsapiens_gene_ensembl\",\n",
    "    \"mm10\": \"mmusculus_gene_ensembl\",\n",
    "    \"dm6\": \"dmelanogaster_gene_ensembl\",\n",
    "}\n",
    "\n",
    "pbm_host_dict = {\n",
    "    \"hg38\": \"http://www.ensembl.org\",\n",
    "    \"hg37\": \"http://grch37.ensembl.org/\",\n",
    "    \"mm10\": \"http://nov2020.archive.ensembl.org/\",\n",
    "    \"dm6\": \"http://www.ensembl.org\",\n",
    "}\n",
    "\n",
    "if os.path.exists(f\"../annotation.tsv\"):\n",
    "    print(f\"Loading cached genome annotation...\")\n",
    "    annotation = pd.read_csv(\"../annotation.tsv\", sep=\"\\t\", header=0, index_col=0)\n",
    "else:\n",
    "    dataset = pbm.Dataset(name=pbm_genome_name_dict[genome], host=pbm_host_dict[genome])\n",
    "\n",
    "    annotation = dataset.query(\n",
    "        attributes=[\n",
    "            \"chromosome_name\",\n",
    "            \"transcription_start_site\",\n",
    "            \"strand\",\n",
    "            \"external_gene_name\",\n",
    "            \"transcript_biotype\",\n",
    "        ]\n",
    "    )\n",
    "    filter = annotation[\"Chromosome/scaffold name\"].str.contains(\"CHR|GL|JH|MT\")\n",
    "    annotation = annotation[~filter]\n",
    "    annotation[\"Chromosome/scaffold name\"] = annotation[\n",
    "        \"Chromosome/scaffold name\"\n",
    "    ].str.replace(r\"(\\b\\S)\", r\"chr\\1\")\n",
    "    annotation.columns = [\"Chromosome\", \"Start\", \"Strand\", \"Gene\", \"Transcript_type\"]\n",
    "    annotation = annotation[annotation.Transcript_type == \"protein_coding\"]\n",
    "    annotation.to_csv(\"annotation.tsv\", sep=\"\\t\")"
   ]
  },
  {
   "cell_type": "code",
   "execution_count": 6,
   "id": "79a968e4",
   "metadata": {
    "execution": {
     "iopub.execute_input": "2022-09-15T12:42:07.638695Z",
     "iopub.status.busy": "2022-09-15T12:42:07.638232Z",
     "iopub.status.idle": "2022-09-15T12:42:07.649823Z",
     "shell.execute_reply": "2022-09-15T12:42:07.649143Z"
    },
    "papermill": {
     "duration": 0.017641,
     "end_time": "2022-09-15T12:42:07.650818",
     "exception": false,
     "start_time": "2022-09-15T12:42:07.633177",
     "status": "completed"
    },
    "tags": []
   },
   "outputs": [
    {
     "data": {
      "text/plain": [
       "{'BIO_ddseq_1.10k': '10k_preprocessing_out/data/fragments/BIO_ddseq_1.10k.fragments.tsv.gz',\n",
       " 'BIO_ddseq_2.10k': '10k_preprocessing_out/data/fragments/BIO_ddseq_2.10k.fragments.tsv.gz',\n",
       " 'BIO_ddseq_3.10k': '10k_preprocessing_out/data/fragments/BIO_ddseq_3.10k.fragments.tsv.gz',\n",
       " 'BIO_ddseq_4.10k': '10k_preprocessing_out/data/fragments/BIO_ddseq_4.10k.fragments.tsv.gz',\n",
       " 'BRO_mtscatac_1.10k': '10k_preprocessing_out/data/fragments/BRO_mtscatac_1.10k.fragments.tsv.gz',\n",
       " 'BRO_mtscatac_2.10k': '10k_preprocessing_out/data/fragments/BRO_mtscatac_2.10k.fragments.tsv.gz',\n",
       " 'CNA_10xmultiome_1.10k': '10k_preprocessing_out/data/fragments/CNA_10xmultiome_1.10k.fragments.tsv.gz',\n",
       " 'CNA_10xmultiome_2.10k': '10k_preprocessing_out/data/fragments/CNA_10xmultiome_2.10k.fragments.tsv.gz',\n",
       " 'CNA_10xv11_1.10k': '10k_preprocessing_out/data/fragments/CNA_10xv11_1.10k.fragments.tsv.gz',\n",
       " 'CNA_10xv11_2.10k': '10k_preprocessing_out/data/fragments/CNA_10xv11_2.10k.fragments.tsv.gz',\n",
       " 'CNA_10xv11_3.10k': '10k_preprocessing_out/data/fragments/CNA_10xv11_3.10k.fragments.tsv.gz',\n",
       " 'CNA_10xv11_4.10k': '10k_preprocessing_out/data/fragments/CNA_10xv11_4.10k.fragments.tsv.gz',\n",
       " 'CNA_10xv11_5.10k': '10k_preprocessing_out/data/fragments/CNA_10xv11_5.10k.fragments.tsv.gz',\n",
       " 'CNA_10xv2_1.10k': '10k_preprocessing_out/data/fragments/CNA_10xv2_1.10k.fragments.tsv.gz',\n",
       " 'CNA_10xv2_2.10k': '10k_preprocessing_out/data/fragments/CNA_10xv2_2.10k.fragments.tsv.gz',\n",
       " 'CNA_hydrop_1.10k': '10k_preprocessing_out/data/fragments/CNA_hydrop_1.10k.fragments.tsv.gz',\n",
       " 'CNA_hydrop_2.10k': '10k_preprocessing_out/data/fragments/CNA_hydrop_2.10k.fragments.tsv.gz',\n",
       " 'CNA_hydrop_3.10k': '10k_preprocessing_out/data/fragments/CNA_hydrop_3.10k.fragments.tsv.gz',\n",
       " 'CNA_mtscatac_1.10k': '10k_preprocessing_out/data/fragments/CNA_mtscatac_1.10k.fragments.tsv.gz',\n",
       " 'CNA_mtscatac_2.10k': '10k_preprocessing_out/data/fragments/CNA_mtscatac_2.10k.fragments.tsv.gz',\n",
       " 'EPF_hydrop_1.10k': '10k_preprocessing_out/data/fragments/EPF_hydrop_1.10k.fragments.tsv.gz',\n",
       " 'EPF_hydrop_2.10k': '10k_preprocessing_out/data/fragments/EPF_hydrop_2.10k.fragments.tsv.gz',\n",
       " 'EPF_hydrop_3.10k': '10k_preprocessing_out/data/fragments/EPF_hydrop_3.10k.fragments.tsv.gz',\n",
       " 'EPF_hydrop_4.10k': '10k_preprocessing_out/data/fragments/EPF_hydrop_4.10k.fragments.tsv.gz',\n",
       " 'HAR_ddseq_1.10k': '10k_preprocessing_out/data/fragments/HAR_ddseq_1.10k.fragments.tsv.gz',\n",
       " 'HAR_ddseq_2.10k': '10k_preprocessing_out/data/fragments/HAR_ddseq_2.10k.fragments.tsv.gz',\n",
       " 'MDC_mtscatac_1.10k': '10k_preprocessing_out/data/fragments/MDC_mtscatac_1.10k.fragments.tsv.gz',\n",
       " 'MDC_mtscatac_2.10k': '10k_preprocessing_out/data/fragments/MDC_mtscatac_2.10k.fragments.tsv.gz',\n",
       " 'OHS_s3atac_1.10k': '10k_preprocessing_out/data/fragments/OHS_s3atac_1.10k.fragments.tsv.gz',\n",
       " 'OHS_s3atac_2.10k': '10k_preprocessing_out/data/fragments/OHS_s3atac_2.10k.fragments.tsv.gz',\n",
       " 'SAN_10xmultiome_1.10k': '10k_preprocessing_out/data/fragments/SAN_10xmultiome_1.10k.fragments.tsv.gz',\n",
       " 'SAN_10xmultiome_2.10k': '10k_preprocessing_out/data/fragments/SAN_10xmultiome_2.10k.fragments.tsv.gz',\n",
       " 'STA_10xv11_1.10k': '10k_preprocessing_out/data/fragments/STA_10xv11_1.10k.fragments.tsv.gz',\n",
       " 'STA_10xv11_2.10k': '10k_preprocessing_out/data/fragments/STA_10xv11_2.10k.fragments.tsv.gz',\n",
       " 'TXG_10xv11_1.10k': '10k_preprocessing_out/data/fragments/TXG_10xv11_1.10k.fragments.tsv.gz',\n",
       " 'TXG_10xv2_1.10k': '10k_preprocessing_out/data/fragments/TXG_10xv2_1.10k.fragments.tsv.gz',\n",
       " 'TXG_10xv2_2.10k': '10k_preprocessing_out/data/fragments/TXG_10xv2_2.10k.fragments.tsv.gz',\n",
       " 'UCS_ddseq_1.10k': '10k_preprocessing_out/data/fragments/UCS_ddseq_1.10k.fragments.tsv.gz',\n",
       " 'UCS_ddseq_2.10k': '10k_preprocessing_out/data/fragments/UCS_ddseq_2.10k.fragments.tsv.gz',\n",
       " 'VIB_10xmultiome_1.10k': '10k_preprocessing_out/data/fragments/VIB_10xmultiome_1.10k.fragments.tsv.gz',\n",
       " 'VIB_10xmultiome_2.10k': '10k_preprocessing_out/data/fragments/VIB_10xmultiome_2.10k.fragments.tsv.gz',\n",
       " 'VIB_10xv1_1.10k': '10k_preprocessing_out/data/fragments/VIB_10xv1_1.10k.fragments.tsv.gz',\n",
       " 'VIB_10xv1_2.10k': '10k_preprocessing_out/data/fragments/VIB_10xv1_2.10k.fragments.tsv.gz',\n",
       " 'VIB_10xv2_1.10k': '10k_preprocessing_out/data/fragments/VIB_10xv2_1.10k.fragments.tsv.gz',\n",
       " 'VIB_10xv2_2.10k': '10k_preprocessing_out/data/fragments/VIB_10xv2_2.10k.fragments.tsv.gz',\n",
       " 'VIB_hydrop_11.10k': '10k_preprocessing_out/data/fragments/VIB_hydrop_11.10k.fragments.tsv.gz',\n",
       " 'VIB_hydrop_12.10k': '10k_preprocessing_out/data/fragments/VIB_hydrop_12.10k.fragments.tsv.gz',\n",
       " 'VIB_hydrop_21.10k': '10k_preprocessing_out/data/fragments/VIB_hydrop_21.10k.fragments.tsv.gz',\n",
       " 'VIB_hydrop_22.10k': '10k_preprocessing_out/data/fragments/VIB_hydrop_22.10k.fragments.tsv.gz'}"
      ]
     },
     "execution_count": 6,
     "metadata": {},
     "output_type": "execute_result"
    }
   ],
   "source": [
    "fragments_list = sorted(\n",
    "    glob.glob(f\"{depth_str}_preprocessing_out/data/fragments/*fragments.tsv.gz\")\n",
    ")\n",
    "fragments_dict = {}\n",
    "for fragments_file in fragments_list:\n",
    "    sample = fragments_file.split(\"/\")[-1].split(\".fragments.tsv.gz\")[0]\n",
    "    fragments_dict[sample] = fragments_file\n",
    "\n",
    "fragments_dict"
   ]
  },
  {
   "cell_type": "code",
   "execution_count": 7,
   "id": "f43fd7e7-21a8-4798-b7bd-c236412e02bf",
   "metadata": {
    "execution": {
     "iopub.execute_input": "2022-09-15T12:42:07.661032Z",
     "iopub.status.busy": "2022-09-15T12:42:07.660604Z",
     "iopub.status.idle": "2022-09-15T12:42:07.669391Z",
     "shell.execute_reply": "2022-09-15T12:42:07.668793Z"
    },
    "papermill": {
     "duration": 0.01493,
     "end_time": "2022-09-15T12:42:07.670366",
     "exception": false,
     "start_time": "2022-09-15T12:42:07.655436",
     "status": "completed"
    },
    "tags": []
   },
   "outputs": [
    {
     "data": {
      "text/plain": [
       "{'BIO_ddseq_1.10k': '../SCREEN_peaks/BIO_ddseq_1.FIXEDCELLS__SCREEN_consensus_peaks.bed',\n",
       " 'BIO_ddseq_2.10k': '../SCREEN_peaks/BIO_ddseq_2.FIXEDCELLS__SCREEN_consensus_peaks.bed',\n",
       " 'BIO_ddseq_3.10k': '../SCREEN_peaks/BIO_ddseq_3.FIXEDCELLS__SCREEN_consensus_peaks.bed',\n",
       " 'BIO_ddseq_4.10k': '../SCREEN_peaks/BIO_ddseq_4.FIXEDCELLS__SCREEN_consensus_peaks.bed',\n",
       " 'BRO_mtscatac_1.10k': '../SCREEN_peaks/BRO_mtscatac_1.FIXEDCELLS__SCREEN_consensus_peaks.bed',\n",
       " 'BRO_mtscatac_2.10k': '../SCREEN_peaks/BRO_mtscatac_2.FIXEDCELLS__SCREEN_consensus_peaks.bed',\n",
       " 'CNA_10xmultiome_1.10k': '../SCREEN_peaks/CNA_10xmultiome_1.FIXEDCELLS__SCREEN_consensus_peaks.bed',\n",
       " 'CNA_10xmultiome_2.10k': '../SCREEN_peaks/CNA_10xmultiome_2.FIXEDCELLS__SCREEN_consensus_peaks.bed',\n",
       " 'CNA_10xv11_1.10k': '../SCREEN_peaks/CNA_10xv11_1.FIXEDCELLS__SCREEN_consensus_peaks.bed',\n",
       " 'CNA_10xv11_2.10k': '../SCREEN_peaks/CNA_10xv11_2.FIXEDCELLS__SCREEN_consensus_peaks.bed',\n",
       " 'CNA_10xv11_3.10k': '../SCREEN_peaks/CNA_10xv11_3.FIXEDCELLS__SCREEN_consensus_peaks.bed',\n",
       " 'CNA_10xv11_4.10k': '../SCREEN_peaks/CNA_10xv11_4.FIXEDCELLS__SCREEN_consensus_peaks.bed',\n",
       " 'CNA_10xv11_5.10k': '../SCREEN_peaks/CNA_10xv11_5.FIXEDCELLS__SCREEN_consensus_peaks.bed',\n",
       " 'CNA_10xv2_1.10k': '../SCREEN_peaks/CNA_10xv2_1.FIXEDCELLS__SCREEN_consensus_peaks.bed',\n",
       " 'CNA_10xv2_2.10k': '../SCREEN_peaks/CNA_10xv2_2.FIXEDCELLS__SCREEN_consensus_peaks.bed',\n",
       " 'CNA_hydrop_1.10k': '../SCREEN_peaks/CNA_hydrop_1.FIXEDCELLS__SCREEN_consensus_peaks.bed',\n",
       " 'CNA_hydrop_2.10k': '../SCREEN_peaks/CNA_hydrop_2.FIXEDCELLS__SCREEN_consensus_peaks.bed',\n",
       " 'CNA_hydrop_3.10k': '../SCREEN_peaks/CNA_hydrop_3.FIXEDCELLS__SCREEN_consensus_peaks.bed',\n",
       " 'CNA_mtscatac_1.10k': '../SCREEN_peaks/CNA_mtscatac_1.FIXEDCELLS__SCREEN_consensus_peaks.bed',\n",
       " 'CNA_mtscatac_2.10k': '../SCREEN_peaks/CNA_mtscatac_2.FIXEDCELLS__SCREEN_consensus_peaks.bed',\n",
       " 'EPF_hydrop_1.10k': '../SCREEN_peaks/EPF_hydrop_1.FIXEDCELLS__SCREEN_consensus_peaks.bed',\n",
       " 'EPF_hydrop_2.10k': '../SCREEN_peaks/EPF_hydrop_2.FIXEDCELLS__SCREEN_consensus_peaks.bed',\n",
       " 'EPF_hydrop_3.10k': '../SCREEN_peaks/EPF_hydrop_3.FIXEDCELLS__SCREEN_consensus_peaks.bed',\n",
       " 'EPF_hydrop_4.10k': '../SCREEN_peaks/EPF_hydrop_4.FIXEDCELLS__SCREEN_consensus_peaks.bed',\n",
       " 'HAR_ddseq_1.10k': '../SCREEN_peaks/HAR_ddseq_1.FIXEDCELLS__SCREEN_consensus_peaks.bed',\n",
       " 'HAR_ddseq_2.10k': '../SCREEN_peaks/HAR_ddseq_2.FIXEDCELLS__SCREEN_consensus_peaks.bed',\n",
       " 'MDC_mtscatac_1.10k': '../SCREEN_peaks/MDC_mtscatac_1.FIXEDCELLS__SCREEN_consensus_peaks.bed',\n",
       " 'MDC_mtscatac_2.10k': '../SCREEN_peaks/MDC_mtscatac_2.FIXEDCELLS__SCREEN_consensus_peaks.bed',\n",
       " 'OHS_s3atac_1.10k': '../SCREEN_peaks/OHS_s3atac_1.FIXEDCELLS__SCREEN_consensus_peaks.bed',\n",
       " 'OHS_s3atac_2.10k': '../SCREEN_peaks/OHS_s3atac_2.FIXEDCELLS__SCREEN_consensus_peaks.bed',\n",
       " 'SAN_10xmultiome_1.10k': '../SCREEN_peaks/SAN_10xmultiome_1.FIXEDCELLS__SCREEN_consensus_peaks.bed',\n",
       " 'SAN_10xmultiome_2.10k': '../SCREEN_peaks/SAN_10xmultiome_2.FIXEDCELLS__SCREEN_consensus_peaks.bed',\n",
       " 'STA_10xv11_1.10k': '../SCREEN_peaks/STA_10xv11_1.FIXEDCELLS__SCREEN_consensus_peaks.bed',\n",
       " 'STA_10xv11_2.10k': '../SCREEN_peaks/STA_10xv11_2.FIXEDCELLS__SCREEN_consensus_peaks.bed',\n",
       " 'TXG_10xv11_1.10k': '../SCREEN_peaks/TXG_10xv11_1.FIXEDCELLS__SCREEN_consensus_peaks.bed',\n",
       " 'TXG_10xv2_1.10k': '../SCREEN_peaks/TXG_10xv2_1.FIXEDCELLS__SCREEN_consensus_peaks.bed',\n",
       " 'TXG_10xv2_2.10k': '../SCREEN_peaks/TXG_10xv2_2.FIXEDCELLS__SCREEN_consensus_peaks.bed',\n",
       " 'UCS_ddseq_1.10k': '../SCREEN_peaks/UCS_ddseq_1.FIXEDCELLS__SCREEN_consensus_peaks.bed',\n",
       " 'UCS_ddseq_2.10k': '../SCREEN_peaks/UCS_ddseq_2.FIXEDCELLS__SCREEN_consensus_peaks.bed',\n",
       " 'VIB_10xmultiome_1.10k': '../SCREEN_peaks/VIB_10xmultiome_1.FIXEDCELLS__SCREEN_consensus_peaks.bed',\n",
       " 'VIB_10xmultiome_2.10k': '../SCREEN_peaks/VIB_10xmultiome_2.FIXEDCELLS__SCREEN_consensus_peaks.bed',\n",
       " 'VIB_10xv1_1.10k': '../SCREEN_peaks/VIB_10xv1_1.FIXEDCELLS__SCREEN_consensus_peaks.bed',\n",
       " 'VIB_10xv1_2.10k': '../SCREEN_peaks/VIB_10xv1_2.FIXEDCELLS__SCREEN_consensus_peaks.bed',\n",
       " 'VIB_10xv2_1.10k': '../SCREEN_peaks/VIB_10xv2_1.FIXEDCELLS__SCREEN_consensus_peaks.bed',\n",
       " 'VIB_10xv2_2.10k': '../SCREEN_peaks/VIB_10xv2_2.FIXEDCELLS__SCREEN_consensus_peaks.bed',\n",
       " 'VIB_hydrop_1.10k': '../SCREEN_peaks/VIB_hydrop_1.FIXEDCELLS__SCREEN_consensus_peaks.bed',\n",
       " 'VIB_hydrop_11.10k': '../SCREEN_peaks/VIB_hydrop_11.FIXEDCELLS__SCREEN_consensus_peaks.bed',\n",
       " 'VIB_hydrop_12.10k': '../SCREEN_peaks/VIB_hydrop_12.FIXEDCELLS__SCREEN_consensus_peaks.bed',\n",
       " 'VIB_hydrop_2.10k': '../SCREEN_peaks/VIB_hydrop_2.FIXEDCELLS__SCREEN_consensus_peaks.bed',\n",
       " 'VIB_hydrop_21.10k': '../SCREEN_peaks/VIB_hydrop_21.FIXEDCELLS__SCREEN_consensus_peaks.bed',\n",
       " 'VIB_hydrop_22.10k': '../SCREEN_peaks/VIB_hydrop_22.FIXEDCELLS__SCREEN_consensus_peaks.bed'}"
      ]
     },
     "execution_count": 7,
     "metadata": {},
     "output_type": "execute_result"
    }
   ],
   "source": [
    "regions_paths_dict = {\n",
    "    x.split(\"/\")[-1].split(f\"__\")[0].replace(\"FIXEDCELLS\", depth_str): x\n",
    "    for x in sorted(glob.glob(\"../SCREEN_peaks/*consensus_peaks.bed\"))\n",
    "}\n",
    "regions_paths_dict"
   ]
  },
  {
   "cell_type": "code",
   "execution_count": 8,
   "id": "bd35613d-1b51-4947-afd7-168f1043be12",
   "metadata": {
    "execution": {
     "iopub.execute_input": "2022-09-15T12:42:07.680648Z",
     "iopub.status.busy": "2022-09-15T12:42:07.680240Z",
     "iopub.status.idle": "2022-09-15T12:42:07.687314Z",
     "shell.execute_reply": "2022-09-15T12:42:07.686706Z"
    },
    "papermill": {
     "duration": 0.01318,
     "end_time": "2022-09-15T12:42:07.688313",
     "exception": false,
     "start_time": "2022-09-15T12:42:07.675133",
     "status": "completed"
    },
    "tags": []
   },
   "outputs": [],
   "source": [
    "regions_paths_dict[\"VIB_hydrop_11.\" + depth_str] = regions_paths_dict[\n",
    "    \"VIB_hydrop_1.\" + depth_str\n",
    "]\n",
    "regions_paths_dict[\"VIB_hydrop_12.\" + depth_str] = regions_paths_dict[\n",
    "    \"VIB_hydrop_1.\" + depth_str\n",
    "]\n",
    "regions_paths_dict[\"VIB_hydrop_21.\" + depth_str] = regions_paths_dict[\n",
    "    \"VIB_hydrop_2.\" + depth_str\n",
    "]\n",
    "regions_paths_dict[\"VIB_hydrop_22.\" + depth_str] = regions_paths_dict[\n",
    "    \"VIB_hydrop_2.\" + depth_str\n",
    "]"
   ]
  },
  {
   "cell_type": "code",
   "execution_count": 9,
   "id": "f01597ea-12b6-4b68-aa43-986e6616bc93",
   "metadata": {
    "execution": {
     "iopub.execute_input": "2022-09-15T12:42:07.698628Z",
     "iopub.status.busy": "2022-09-15T12:42:07.698362Z",
     "iopub.status.idle": "2022-09-15T12:42:07.703720Z",
     "shell.execute_reply": "2022-09-15T12:42:07.703152Z"
    },
    "papermill": {
     "duration": 0.011623,
     "end_time": "2022-09-15T12:42:07.704688",
     "exception": false,
     "start_time": "2022-09-15T12:42:07.693065",
     "status": "completed"
    },
    "tags": []
   },
   "outputs": [
    {
     "data": {
      "text/plain": [
       "{'BIO_ddseq_1.10k': '../SCREEN_peaks/BIO_ddseq_1.FIXEDCELLS__SCREEN_consensus_peaks.bed',\n",
       " 'BIO_ddseq_2.10k': '../SCREEN_peaks/BIO_ddseq_2.FIXEDCELLS__SCREEN_consensus_peaks.bed',\n",
       " 'BIO_ddseq_3.10k': '../SCREEN_peaks/BIO_ddseq_3.FIXEDCELLS__SCREEN_consensus_peaks.bed',\n",
       " 'BIO_ddseq_4.10k': '../SCREEN_peaks/BIO_ddseq_4.FIXEDCELLS__SCREEN_consensus_peaks.bed',\n",
       " 'BRO_mtscatac_1.10k': '../SCREEN_peaks/BRO_mtscatac_1.FIXEDCELLS__SCREEN_consensus_peaks.bed',\n",
       " 'BRO_mtscatac_2.10k': '../SCREEN_peaks/BRO_mtscatac_2.FIXEDCELLS__SCREEN_consensus_peaks.bed',\n",
       " 'CNA_10xmultiome_1.10k': '../SCREEN_peaks/CNA_10xmultiome_1.FIXEDCELLS__SCREEN_consensus_peaks.bed',\n",
       " 'CNA_10xmultiome_2.10k': '../SCREEN_peaks/CNA_10xmultiome_2.FIXEDCELLS__SCREEN_consensus_peaks.bed',\n",
       " 'CNA_10xv11_1.10k': '../SCREEN_peaks/CNA_10xv11_1.FIXEDCELLS__SCREEN_consensus_peaks.bed',\n",
       " 'CNA_10xv11_2.10k': '../SCREEN_peaks/CNA_10xv11_2.FIXEDCELLS__SCREEN_consensus_peaks.bed',\n",
       " 'CNA_10xv11_3.10k': '../SCREEN_peaks/CNA_10xv11_3.FIXEDCELLS__SCREEN_consensus_peaks.bed',\n",
       " 'CNA_10xv11_4.10k': '../SCREEN_peaks/CNA_10xv11_4.FIXEDCELLS__SCREEN_consensus_peaks.bed',\n",
       " 'CNA_10xv11_5.10k': '../SCREEN_peaks/CNA_10xv11_5.FIXEDCELLS__SCREEN_consensus_peaks.bed',\n",
       " 'CNA_10xv2_1.10k': '../SCREEN_peaks/CNA_10xv2_1.FIXEDCELLS__SCREEN_consensus_peaks.bed',\n",
       " 'CNA_10xv2_2.10k': '../SCREEN_peaks/CNA_10xv2_2.FIXEDCELLS__SCREEN_consensus_peaks.bed',\n",
       " 'CNA_hydrop_1.10k': '../SCREEN_peaks/CNA_hydrop_1.FIXEDCELLS__SCREEN_consensus_peaks.bed',\n",
       " 'CNA_hydrop_2.10k': '../SCREEN_peaks/CNA_hydrop_2.FIXEDCELLS__SCREEN_consensus_peaks.bed',\n",
       " 'CNA_hydrop_3.10k': '../SCREEN_peaks/CNA_hydrop_3.FIXEDCELLS__SCREEN_consensus_peaks.bed',\n",
       " 'CNA_mtscatac_1.10k': '../SCREEN_peaks/CNA_mtscatac_1.FIXEDCELLS__SCREEN_consensus_peaks.bed',\n",
       " 'CNA_mtscatac_2.10k': '../SCREEN_peaks/CNA_mtscatac_2.FIXEDCELLS__SCREEN_consensus_peaks.bed',\n",
       " 'EPF_hydrop_1.10k': '../SCREEN_peaks/EPF_hydrop_1.FIXEDCELLS__SCREEN_consensus_peaks.bed',\n",
       " 'EPF_hydrop_2.10k': '../SCREEN_peaks/EPF_hydrop_2.FIXEDCELLS__SCREEN_consensus_peaks.bed',\n",
       " 'EPF_hydrop_3.10k': '../SCREEN_peaks/EPF_hydrop_3.FIXEDCELLS__SCREEN_consensus_peaks.bed',\n",
       " 'EPF_hydrop_4.10k': '../SCREEN_peaks/EPF_hydrop_4.FIXEDCELLS__SCREEN_consensus_peaks.bed',\n",
       " 'HAR_ddseq_1.10k': '../SCREEN_peaks/HAR_ddseq_1.FIXEDCELLS__SCREEN_consensus_peaks.bed',\n",
       " 'HAR_ddseq_2.10k': '../SCREEN_peaks/HAR_ddseq_2.FIXEDCELLS__SCREEN_consensus_peaks.bed',\n",
       " 'MDC_mtscatac_1.10k': '../SCREEN_peaks/MDC_mtscatac_1.FIXEDCELLS__SCREEN_consensus_peaks.bed',\n",
       " 'MDC_mtscatac_2.10k': '../SCREEN_peaks/MDC_mtscatac_2.FIXEDCELLS__SCREEN_consensus_peaks.bed',\n",
       " 'OHS_s3atac_1.10k': '../SCREEN_peaks/OHS_s3atac_1.FIXEDCELLS__SCREEN_consensus_peaks.bed',\n",
       " 'OHS_s3atac_2.10k': '../SCREEN_peaks/OHS_s3atac_2.FIXEDCELLS__SCREEN_consensus_peaks.bed',\n",
       " 'SAN_10xmultiome_1.10k': '../SCREEN_peaks/SAN_10xmultiome_1.FIXEDCELLS__SCREEN_consensus_peaks.bed',\n",
       " 'SAN_10xmultiome_2.10k': '../SCREEN_peaks/SAN_10xmultiome_2.FIXEDCELLS__SCREEN_consensus_peaks.bed',\n",
       " 'STA_10xv11_1.10k': '../SCREEN_peaks/STA_10xv11_1.FIXEDCELLS__SCREEN_consensus_peaks.bed',\n",
       " 'STA_10xv11_2.10k': '../SCREEN_peaks/STA_10xv11_2.FIXEDCELLS__SCREEN_consensus_peaks.bed',\n",
       " 'TXG_10xv11_1.10k': '../SCREEN_peaks/TXG_10xv11_1.FIXEDCELLS__SCREEN_consensus_peaks.bed',\n",
       " 'TXG_10xv2_1.10k': '../SCREEN_peaks/TXG_10xv2_1.FIXEDCELLS__SCREEN_consensus_peaks.bed',\n",
       " 'TXG_10xv2_2.10k': '../SCREEN_peaks/TXG_10xv2_2.FIXEDCELLS__SCREEN_consensus_peaks.bed',\n",
       " 'UCS_ddseq_1.10k': '../SCREEN_peaks/UCS_ddseq_1.FIXEDCELLS__SCREEN_consensus_peaks.bed',\n",
       " 'UCS_ddseq_2.10k': '../SCREEN_peaks/UCS_ddseq_2.FIXEDCELLS__SCREEN_consensus_peaks.bed',\n",
       " 'VIB_10xmultiome_1.10k': '../SCREEN_peaks/VIB_10xmultiome_1.FIXEDCELLS__SCREEN_consensus_peaks.bed',\n",
       " 'VIB_10xmultiome_2.10k': '../SCREEN_peaks/VIB_10xmultiome_2.FIXEDCELLS__SCREEN_consensus_peaks.bed',\n",
       " 'VIB_10xv1_1.10k': '../SCREEN_peaks/VIB_10xv1_1.FIXEDCELLS__SCREEN_consensus_peaks.bed',\n",
       " 'VIB_10xv1_2.10k': '../SCREEN_peaks/VIB_10xv1_2.FIXEDCELLS__SCREEN_consensus_peaks.bed',\n",
       " 'VIB_10xv2_1.10k': '../SCREEN_peaks/VIB_10xv2_1.FIXEDCELLS__SCREEN_consensus_peaks.bed',\n",
       " 'VIB_10xv2_2.10k': '../SCREEN_peaks/VIB_10xv2_2.FIXEDCELLS__SCREEN_consensus_peaks.bed',\n",
       " 'VIB_hydrop_1.10k': '../SCREEN_peaks/VIB_hydrop_1.FIXEDCELLS__SCREEN_consensus_peaks.bed',\n",
       " 'VIB_hydrop_11.10k': '../SCREEN_peaks/VIB_hydrop_1.FIXEDCELLS__SCREEN_consensus_peaks.bed',\n",
       " 'VIB_hydrop_12.10k': '../SCREEN_peaks/VIB_hydrop_1.FIXEDCELLS__SCREEN_consensus_peaks.bed',\n",
       " 'VIB_hydrop_2.10k': '../SCREEN_peaks/VIB_hydrop_2.FIXEDCELLS__SCREEN_consensus_peaks.bed',\n",
       " 'VIB_hydrop_21.10k': '../SCREEN_peaks/VIB_hydrop_2.FIXEDCELLS__SCREEN_consensus_peaks.bed',\n",
       " 'VIB_hydrop_22.10k': '../SCREEN_peaks/VIB_hydrop_2.FIXEDCELLS__SCREEN_consensus_peaks.bed'}"
      ]
     },
     "execution_count": 9,
     "metadata": {},
     "output_type": "execute_result"
    }
   ],
   "source": [
    "regions_paths_dict"
   ]
  },
  {
   "cell_type": "markdown",
   "id": "a58786aa",
   "metadata": {
    "papermill": {
     "duration": 0.004903,
     "end_time": "2022-09-15T12:42:07.714516",
     "exception": false,
     "start_time": "2022-09-15T12:42:07.709613",
     "status": "completed"
    },
    "tags": []
   },
   "source": [
    "Now, make a sub dictionary of all samples within the fragments dict that have not been run yet (good for resuming a stopped cistopic run):"
   ]
  },
  {
   "cell_type": "code",
   "execution_count": 10,
   "id": "13ad51aa",
   "metadata": {
    "execution": {
     "iopub.execute_input": "2022-09-15T12:42:07.725250Z",
     "iopub.status.busy": "2022-09-15T12:42:07.725080Z",
     "iopub.status.idle": "2022-09-15T12:42:07.729434Z",
     "shell.execute_reply": "2022-09-15T12:42:07.728855Z"
    },
    "papermill": {
     "duration": 0.010905,
     "end_time": "2022-09-15T12:42:07.730403",
     "exception": false,
     "start_time": "2022-09-15T12:42:07.719498",
     "status": "completed"
    },
    "tags": []
   },
   "outputs": [],
   "source": [
    "cistopic_qc_out = os.path.join(wdir, \"cistopic_qc_out_CONSENSUS\")\n",
    "if not os.path.exists(cistopic_qc_out):\n",
    "    os.makedirs(cistopic_qc_out)"
   ]
  },
  {
   "cell_type": "code",
   "execution_count": 11,
   "id": "161f54e5-1e0b-4277-b9ca-f0247df0e4e9",
   "metadata": {
    "execution": {
     "iopub.execute_input": "2022-09-15T12:42:07.741238Z",
     "iopub.status.busy": "2022-09-15T12:42:07.740793Z",
     "iopub.status.idle": "2022-09-15T12:42:07.757428Z",
     "shell.execute_reply": "2022-09-15T12:42:07.756813Z"
    },
    "papermill": {
     "duration": 0.023009,
     "end_time": "2022-09-15T12:42:07.758398",
     "exception": false,
     "start_time": "2022-09-15T12:42:07.735389",
     "status": "completed"
    },
    "tags": []
   },
   "outputs": [
    {
     "name": "stdout",
     "output_type": "stream",
     "text": [
      "Checking if /dodrio/scratch/projects/starting_2022_023/benchmark/scatac_benchmark/downsample_series/10k/cistopic_qc_out_CONSENSUS/BIO_ddseq_1.10k__metadata_bc.pkl exist...\n",
      "\tMetadata exists! Skipping...\n",
      "Checking if /dodrio/scratch/projects/starting_2022_023/benchmark/scatac_benchmark/downsample_series/10k/cistopic_qc_out_CONSENSUS/BIO_ddseq_2.10k__metadata_bc.pkl exist...\n",
      "\tMetadata exists! Skipping...\n",
      "Checking if /dodrio/scratch/projects/starting_2022_023/benchmark/scatac_benchmark/downsample_series/10k/cistopic_qc_out_CONSENSUS/BIO_ddseq_3.10k__metadata_bc.pkl exist...\n",
      "\tMetadata exists! Skipping...\n",
      "Checking if /dodrio/scratch/projects/starting_2022_023/benchmark/scatac_benchmark/downsample_series/10k/cistopic_qc_out_CONSENSUS/BIO_ddseq_4.10k__metadata_bc.pkl exist...\n",
      "\tMetadata exists! Skipping...\n",
      "Checking if /dodrio/scratch/projects/starting_2022_023/benchmark/scatac_benchmark/downsample_series/10k/cistopic_qc_out_CONSENSUS/BRO_mtscatac_1.10k__metadata_bc.pkl exist...\n",
      "\tMetadata exists! Skipping...\n",
      "Checking if /dodrio/scratch/projects/starting_2022_023/benchmark/scatac_benchmark/downsample_series/10k/cistopic_qc_out_CONSENSUS/BRO_mtscatac_2.10k__metadata_bc.pkl exist...\n",
      "\tMetadata exists! Skipping...\n",
      "Checking if /dodrio/scratch/projects/starting_2022_023/benchmark/scatac_benchmark/downsample_series/10k/cistopic_qc_out_CONSENSUS/CNA_10xmultiome_1.10k__metadata_bc.pkl exist...\n",
      "\tMetadata exists! Skipping...\n",
      "Checking if /dodrio/scratch/projects/starting_2022_023/benchmark/scatac_benchmark/downsample_series/10k/cistopic_qc_out_CONSENSUS/CNA_10xmultiome_2.10k__metadata_bc.pkl exist...\n",
      "\tMetadata exists! Skipping...\n",
      "Checking if /dodrio/scratch/projects/starting_2022_023/benchmark/scatac_benchmark/downsample_series/10k/cistopic_qc_out_CONSENSUS/CNA_10xv11_1.10k__metadata_bc.pkl exist...\n",
      "\tMetadata exists! Skipping...\n",
      "Checking if /dodrio/scratch/projects/starting_2022_023/benchmark/scatac_benchmark/downsample_series/10k/cistopic_qc_out_CONSENSUS/CNA_10xv11_2.10k__metadata_bc.pkl exist...\n",
      "\tMetadata exists! Skipping...\n",
      "Checking if /dodrio/scratch/projects/starting_2022_023/benchmark/scatac_benchmark/downsample_series/10k/cistopic_qc_out_CONSENSUS/CNA_10xv11_3.10k__metadata_bc.pkl exist...\n",
      "\tMetadata exists! Skipping...\n",
      "Checking if /dodrio/scratch/projects/starting_2022_023/benchmark/scatac_benchmark/downsample_series/10k/cistopic_qc_out_CONSENSUS/CNA_10xv11_4.10k__metadata_bc.pkl exist...\n",
      "\tMetadata exists! Skipping...\n",
      "Checking if /dodrio/scratch/projects/starting_2022_023/benchmark/scatac_benchmark/downsample_series/10k/cistopic_qc_out_CONSENSUS/CNA_10xv11_5.10k__metadata_bc.pkl exist...\n",
      "\tMetadata exists! Skipping...\n",
      "Checking if /dodrio/scratch/projects/starting_2022_023/benchmark/scatac_benchmark/downsample_series/10k/cistopic_qc_out_CONSENSUS/CNA_10xv2_1.10k__metadata_bc.pkl exist...\n",
      "\tMetadata exists! Skipping...\n",
      "Checking if /dodrio/scratch/projects/starting_2022_023/benchmark/scatac_benchmark/downsample_series/10k/cistopic_qc_out_CONSENSUS/CNA_10xv2_2.10k__metadata_bc.pkl exist...\n",
      "\tMetadata exists! Skipping...\n",
      "Checking if /dodrio/scratch/projects/starting_2022_023/benchmark/scatac_benchmark/downsample_series/10k/cistopic_qc_out_CONSENSUS/CNA_hydrop_1.10k__metadata_bc.pkl exist...\n",
      "\tMetadata exists! Skipping...\n",
      "Checking if /dodrio/scratch/projects/starting_2022_023/benchmark/scatac_benchmark/downsample_series/10k/cistopic_qc_out_CONSENSUS/CNA_hydrop_2.10k__metadata_bc.pkl exist...\n",
      "\tMetadata exists! Skipping...\n",
      "Checking if /dodrio/scratch/projects/starting_2022_023/benchmark/scatac_benchmark/downsample_series/10k/cistopic_qc_out_CONSENSUS/CNA_hydrop_3.10k__metadata_bc.pkl exist...\n",
      "\tMetadata exists! Skipping...\n",
      "Checking if /dodrio/scratch/projects/starting_2022_023/benchmark/scatac_benchmark/downsample_series/10k/cistopic_qc_out_CONSENSUS/CNA_mtscatac_1.10k__metadata_bc.pkl exist...\n",
      "\tMetadata exists! Skipping...\n",
      "Checking if /dodrio/scratch/projects/starting_2022_023/benchmark/scatac_benchmark/downsample_series/10k/cistopic_qc_out_CONSENSUS/CNA_mtscatac_2.10k__metadata_bc.pkl exist...\n"
     ]
    },
    {
     "name": "stdout",
     "output_type": "stream",
     "text": [
      "\tMetadata exists! Skipping...\n",
      "Checking if /dodrio/scratch/projects/starting_2022_023/benchmark/scatac_benchmark/downsample_series/10k/cistopic_qc_out_CONSENSUS/EPF_hydrop_1.10k__metadata_bc.pkl exist...\n",
      "\tMetadata exists! Skipping...\n",
      "Checking if /dodrio/scratch/projects/starting_2022_023/benchmark/scatac_benchmark/downsample_series/10k/cistopic_qc_out_CONSENSUS/EPF_hydrop_2.10k__metadata_bc.pkl exist...\n",
      "\tMetadata exists! Skipping...\n",
      "Checking if /dodrio/scratch/projects/starting_2022_023/benchmark/scatac_benchmark/downsample_series/10k/cistopic_qc_out_CONSENSUS/EPF_hydrop_3.10k__metadata_bc.pkl exist...\n",
      "\tMetadata exists! Skipping...\n",
      "Checking if /dodrio/scratch/projects/starting_2022_023/benchmark/scatac_benchmark/downsample_series/10k/cistopic_qc_out_CONSENSUS/EPF_hydrop_4.10k__metadata_bc.pkl exist...\n",
      "\tMetadata exists! Skipping...\n",
      "Checking if /dodrio/scratch/projects/starting_2022_023/benchmark/scatac_benchmark/downsample_series/10k/cistopic_qc_out_CONSENSUS/HAR_ddseq_1.10k__metadata_bc.pkl exist...\n",
      "\tMetadata exists! Skipping...\n",
      "Checking if /dodrio/scratch/projects/starting_2022_023/benchmark/scatac_benchmark/downsample_series/10k/cistopic_qc_out_CONSENSUS/HAR_ddseq_2.10k__metadata_bc.pkl exist...\n",
      "\tMetadata exists! Skipping...\n",
      "Checking if /dodrio/scratch/projects/starting_2022_023/benchmark/scatac_benchmark/downsample_series/10k/cistopic_qc_out_CONSENSUS/MDC_mtscatac_1.10k__metadata_bc.pkl exist...\n",
      "\tMetadata does not exist, adding to subdict to generate\n",
      "Checking if /dodrio/scratch/projects/starting_2022_023/benchmark/scatac_benchmark/downsample_series/10k/cistopic_qc_out_CONSENSUS/MDC_mtscatac_2.10k__metadata_bc.pkl exist...\n",
      "\tMetadata does not exist, adding to subdict to generate\n",
      "Checking if /dodrio/scratch/projects/starting_2022_023/benchmark/scatac_benchmark/downsample_series/10k/cistopic_qc_out_CONSENSUS/OHS_s3atac_1.10k__metadata_bc.pkl exist...\n",
      "\tMetadata exists! Skipping...\n",
      "Checking if /dodrio/scratch/projects/starting_2022_023/benchmark/scatac_benchmark/downsample_series/10k/cistopic_qc_out_CONSENSUS/OHS_s3atac_2.10k__metadata_bc.pkl exist...\n",
      "\tMetadata exists! Skipping...\n",
      "Checking if /dodrio/scratch/projects/starting_2022_023/benchmark/scatac_benchmark/downsample_series/10k/cistopic_qc_out_CONSENSUS/SAN_10xmultiome_1.10k__metadata_bc.pkl exist...\n",
      "\tMetadata exists! Skipping...\n",
      "Checking if /dodrio/scratch/projects/starting_2022_023/benchmark/scatac_benchmark/downsample_series/10k/cistopic_qc_out_CONSENSUS/SAN_10xmultiome_2.10k__metadata_bc.pkl exist...\n",
      "\tMetadata exists! Skipping...\n",
      "Checking if /dodrio/scratch/projects/starting_2022_023/benchmark/scatac_benchmark/downsample_series/10k/cistopic_qc_out_CONSENSUS/STA_10xv11_1.10k__metadata_bc.pkl exist...\n",
      "\tMetadata exists! Skipping...\n",
      "Checking if /dodrio/scratch/projects/starting_2022_023/benchmark/scatac_benchmark/downsample_series/10k/cistopic_qc_out_CONSENSUS/STA_10xv11_2.10k__metadata_bc.pkl exist...\n",
      "\tMetadata exists! Skipping...\n",
      "Checking if /dodrio/scratch/projects/starting_2022_023/benchmark/scatac_benchmark/downsample_series/10k/cistopic_qc_out_CONSENSUS/TXG_10xv11_1.10k__metadata_bc.pkl exist...\n",
      "\tMetadata exists! Skipping...\n",
      "Checking if /dodrio/scratch/projects/starting_2022_023/benchmark/scatac_benchmark/downsample_series/10k/cistopic_qc_out_CONSENSUS/TXG_10xv2_1.10k__metadata_bc.pkl exist...\n",
      "\tMetadata exists! Skipping...\n",
      "Checking if /dodrio/scratch/projects/starting_2022_023/benchmark/scatac_benchmark/downsample_series/10k/cistopic_qc_out_CONSENSUS/TXG_10xv2_2.10k__metadata_bc.pkl exist...\n",
      "\tMetadata exists! Skipping...\n",
      "Checking if /dodrio/scratch/projects/starting_2022_023/benchmark/scatac_benchmark/downsample_series/10k/cistopic_qc_out_CONSENSUS/UCS_ddseq_1.10k__metadata_bc.pkl exist...\n",
      "\tMetadata exists! Skipping...\n",
      "Checking if /dodrio/scratch/projects/starting_2022_023/benchmark/scatac_benchmark/downsample_series/10k/cistopic_qc_out_CONSENSUS/UCS_ddseq_2.10k__metadata_bc.pkl exist...\n",
      "\tMetadata exists! Skipping...\n",
      "Checking if /dodrio/scratch/projects/starting_2022_023/benchmark/scatac_benchmark/downsample_series/10k/cistopic_qc_out_CONSENSUS/VIB_10xmultiome_1.10k__metadata_bc.pkl exist...\n",
      "\tMetadata exists! Skipping...\n",
      "Checking if /dodrio/scratch/projects/starting_2022_023/benchmark/scatac_benchmark/downsample_series/10k/cistopic_qc_out_CONSENSUS/VIB_10xmultiome_2.10k__metadata_bc.pkl exist...\n",
      "\tMetadata exists! Skipping...\n",
      "Checking if /dodrio/scratch/projects/starting_2022_023/benchmark/scatac_benchmark/downsample_series/10k/cistopic_qc_out_CONSENSUS/VIB_10xv1_1.10k__metadata_bc.pkl exist...\n",
      "\tMetadata exists! Skipping...\n",
      "Checking if /dodrio/scratch/projects/starting_2022_023/benchmark/scatac_benchmark/downsample_series/10k/cistopic_qc_out_CONSENSUS/VIB_10xv1_2.10k__metadata_bc.pkl exist...\n",
      "\tMetadata exists! Skipping...\n",
      "Checking if /dodrio/scratch/projects/starting_2022_023/benchmark/scatac_benchmark/downsample_series/10k/cistopic_qc_out_CONSENSUS/VIB_10xv2_1.10k__metadata_bc.pkl exist...\n",
      "\tMetadata exists! Skipping...\n",
      "Checking if /dodrio/scratch/projects/starting_2022_023/benchmark/scatac_benchmark/downsample_series/10k/cistopic_qc_out_CONSENSUS/VIB_10xv2_2.10k__metadata_bc.pkl exist...\n",
      "\tMetadata exists! Skipping...\n",
      "Checking if /dodrio/scratch/projects/starting_2022_023/benchmark/scatac_benchmark/downsample_series/10k/cistopic_qc_out_CONSENSUS/VIB_hydrop_11.10k__metadata_bc.pkl exist...\n",
      "\tMetadata exists! Skipping...\n",
      "Checking if /dodrio/scratch/projects/starting_2022_023/benchmark/scatac_benchmark/downsample_series/10k/cistopic_qc_out_CONSENSUS/VIB_hydrop_12.10k__metadata_bc.pkl exist...\n",
      "\tMetadata exists! Skipping...\n",
      "Checking if /dodrio/scratch/projects/starting_2022_023/benchmark/scatac_benchmark/downsample_series/10k/cistopic_qc_out_CONSENSUS/VIB_hydrop_21.10k__metadata_bc.pkl exist...\n",
      "\tMetadata exists! Skipping...\n",
      "Checking if /dodrio/scratch/projects/starting_2022_023/benchmark/scatac_benchmark/downsample_series/10k/cistopic_qc_out_CONSENSUS/VIB_hydrop_22.10k__metadata_bc.pkl exist...\n",
      "\tMetadata exists! Skipping...\n"
     ]
    }
   ],
   "source": [
    "fragments_sub_dict = {}\n",
    "regions_sub_dict = {}\n",
    "for sample in fragments_dict.keys():\n",
    "    metadata_file = os.path.join(cistopic_qc_out, sample + \"__metadata_bc.pkl\")\n",
    "    print(f\"Checking if {metadata_file} exist...\")\n",
    "    if os.path.exists(metadata_file):\n",
    "        print(\"\\tMetadata exists! Skipping...\")\n",
    "    else:\n",
    "        fragments_sub_dict[sample] = fragments_dict[sample]\n",
    "        print(\"\\tMetadata does not exist, adding to subdict to generate\")"
   ]
  },
  {
   "cell_type": "code",
   "execution_count": 12,
   "id": "b718b167-4d2f-454a-b7f0-4577f12bd1a8",
   "metadata": {
    "execution": {
     "iopub.execute_input": "2022-09-15T12:42:07.769437Z",
     "iopub.status.busy": "2022-09-15T12:42:07.769009Z",
     "iopub.status.idle": "2022-09-15T12:42:07.773071Z",
     "shell.execute_reply": "2022-09-15T12:42:07.772492Z"
    },
    "papermill": {
     "duration": 0.010437,
     "end_time": "2022-09-15T12:42:07.773965",
     "exception": false,
     "start_time": "2022-09-15T12:42:07.763528",
     "status": "completed"
    },
    "tags": []
   },
   "outputs": [],
   "source": [
    "regions_sub_dict = {x: regions_paths_dict[x] for x in sorted(regions_paths_dict.keys())}"
   ]
  },
  {
   "cell_type": "code",
   "execution_count": 13,
   "id": "c5a500ab-e738-4df7-971d-8d70ff2aff0a",
   "metadata": {
    "execution": {
     "iopub.execute_input": "2022-09-15T12:42:07.785582Z",
     "iopub.status.busy": "2022-09-15T12:42:07.785163Z",
     "iopub.status.idle": "2022-09-15T12:42:07.790357Z",
     "shell.execute_reply": "2022-09-15T12:42:07.789786Z"
    },
    "papermill": {
     "duration": 0.020115,
     "end_time": "2022-09-15T12:42:07.799156",
     "exception": false,
     "start_time": "2022-09-15T12:42:07.779041",
     "status": "completed"
    },
    "tags": []
   },
   "outputs": [
    {
     "data": {
      "text/plain": [
       "{'BIO_ddseq_1.10k': '../SCREEN_peaks/BIO_ddseq_1.FIXEDCELLS__SCREEN_consensus_peaks.bed',\n",
       " 'BIO_ddseq_2.10k': '../SCREEN_peaks/BIO_ddseq_2.FIXEDCELLS__SCREEN_consensus_peaks.bed',\n",
       " 'BIO_ddseq_3.10k': '../SCREEN_peaks/BIO_ddseq_3.FIXEDCELLS__SCREEN_consensus_peaks.bed',\n",
       " 'BIO_ddseq_4.10k': '../SCREEN_peaks/BIO_ddseq_4.FIXEDCELLS__SCREEN_consensus_peaks.bed',\n",
       " 'BRO_mtscatac_1.10k': '../SCREEN_peaks/BRO_mtscatac_1.FIXEDCELLS__SCREEN_consensus_peaks.bed',\n",
       " 'BRO_mtscatac_2.10k': '../SCREEN_peaks/BRO_mtscatac_2.FIXEDCELLS__SCREEN_consensus_peaks.bed',\n",
       " 'CNA_10xmultiome_1.10k': '../SCREEN_peaks/CNA_10xmultiome_1.FIXEDCELLS__SCREEN_consensus_peaks.bed',\n",
       " 'CNA_10xmultiome_2.10k': '../SCREEN_peaks/CNA_10xmultiome_2.FIXEDCELLS__SCREEN_consensus_peaks.bed',\n",
       " 'CNA_10xv11_1.10k': '../SCREEN_peaks/CNA_10xv11_1.FIXEDCELLS__SCREEN_consensus_peaks.bed',\n",
       " 'CNA_10xv11_2.10k': '../SCREEN_peaks/CNA_10xv11_2.FIXEDCELLS__SCREEN_consensus_peaks.bed',\n",
       " 'CNA_10xv11_3.10k': '../SCREEN_peaks/CNA_10xv11_3.FIXEDCELLS__SCREEN_consensus_peaks.bed',\n",
       " 'CNA_10xv11_4.10k': '../SCREEN_peaks/CNA_10xv11_4.FIXEDCELLS__SCREEN_consensus_peaks.bed',\n",
       " 'CNA_10xv11_5.10k': '../SCREEN_peaks/CNA_10xv11_5.FIXEDCELLS__SCREEN_consensus_peaks.bed',\n",
       " 'CNA_10xv2_1.10k': '../SCREEN_peaks/CNA_10xv2_1.FIXEDCELLS__SCREEN_consensus_peaks.bed',\n",
       " 'CNA_10xv2_2.10k': '../SCREEN_peaks/CNA_10xv2_2.FIXEDCELLS__SCREEN_consensus_peaks.bed',\n",
       " 'CNA_hydrop_1.10k': '../SCREEN_peaks/CNA_hydrop_1.FIXEDCELLS__SCREEN_consensus_peaks.bed',\n",
       " 'CNA_hydrop_2.10k': '../SCREEN_peaks/CNA_hydrop_2.FIXEDCELLS__SCREEN_consensus_peaks.bed',\n",
       " 'CNA_hydrop_3.10k': '../SCREEN_peaks/CNA_hydrop_3.FIXEDCELLS__SCREEN_consensus_peaks.bed',\n",
       " 'CNA_mtscatac_1.10k': '../SCREEN_peaks/CNA_mtscatac_1.FIXEDCELLS__SCREEN_consensus_peaks.bed',\n",
       " 'CNA_mtscatac_2.10k': '../SCREEN_peaks/CNA_mtscatac_2.FIXEDCELLS__SCREEN_consensus_peaks.bed',\n",
       " 'EPF_hydrop_1.10k': '../SCREEN_peaks/EPF_hydrop_1.FIXEDCELLS__SCREEN_consensus_peaks.bed',\n",
       " 'EPF_hydrop_2.10k': '../SCREEN_peaks/EPF_hydrop_2.FIXEDCELLS__SCREEN_consensus_peaks.bed',\n",
       " 'EPF_hydrop_3.10k': '../SCREEN_peaks/EPF_hydrop_3.FIXEDCELLS__SCREEN_consensus_peaks.bed',\n",
       " 'EPF_hydrop_4.10k': '../SCREEN_peaks/EPF_hydrop_4.FIXEDCELLS__SCREEN_consensus_peaks.bed',\n",
       " 'HAR_ddseq_1.10k': '../SCREEN_peaks/HAR_ddseq_1.FIXEDCELLS__SCREEN_consensus_peaks.bed',\n",
       " 'HAR_ddseq_2.10k': '../SCREEN_peaks/HAR_ddseq_2.FIXEDCELLS__SCREEN_consensus_peaks.bed',\n",
       " 'MDC_mtscatac_1.10k': '../SCREEN_peaks/MDC_mtscatac_1.FIXEDCELLS__SCREEN_consensus_peaks.bed',\n",
       " 'MDC_mtscatac_2.10k': '../SCREEN_peaks/MDC_mtscatac_2.FIXEDCELLS__SCREEN_consensus_peaks.bed',\n",
       " 'OHS_s3atac_1.10k': '../SCREEN_peaks/OHS_s3atac_1.FIXEDCELLS__SCREEN_consensus_peaks.bed',\n",
       " 'OHS_s3atac_2.10k': '../SCREEN_peaks/OHS_s3atac_2.FIXEDCELLS__SCREEN_consensus_peaks.bed',\n",
       " 'SAN_10xmultiome_1.10k': '../SCREEN_peaks/SAN_10xmultiome_1.FIXEDCELLS__SCREEN_consensus_peaks.bed',\n",
       " 'SAN_10xmultiome_2.10k': '../SCREEN_peaks/SAN_10xmultiome_2.FIXEDCELLS__SCREEN_consensus_peaks.bed',\n",
       " 'STA_10xv11_1.10k': '../SCREEN_peaks/STA_10xv11_1.FIXEDCELLS__SCREEN_consensus_peaks.bed',\n",
       " 'STA_10xv11_2.10k': '../SCREEN_peaks/STA_10xv11_2.FIXEDCELLS__SCREEN_consensus_peaks.bed',\n",
       " 'TXG_10xv11_1.10k': '../SCREEN_peaks/TXG_10xv11_1.FIXEDCELLS__SCREEN_consensus_peaks.bed',\n",
       " 'TXG_10xv2_1.10k': '../SCREEN_peaks/TXG_10xv2_1.FIXEDCELLS__SCREEN_consensus_peaks.bed',\n",
       " 'TXG_10xv2_2.10k': '../SCREEN_peaks/TXG_10xv2_2.FIXEDCELLS__SCREEN_consensus_peaks.bed',\n",
       " 'UCS_ddseq_1.10k': '../SCREEN_peaks/UCS_ddseq_1.FIXEDCELLS__SCREEN_consensus_peaks.bed',\n",
       " 'UCS_ddseq_2.10k': '../SCREEN_peaks/UCS_ddseq_2.FIXEDCELLS__SCREEN_consensus_peaks.bed',\n",
       " 'VIB_10xmultiome_1.10k': '../SCREEN_peaks/VIB_10xmultiome_1.FIXEDCELLS__SCREEN_consensus_peaks.bed',\n",
       " 'VIB_10xmultiome_2.10k': '../SCREEN_peaks/VIB_10xmultiome_2.FIXEDCELLS__SCREEN_consensus_peaks.bed',\n",
       " 'VIB_10xv1_1.10k': '../SCREEN_peaks/VIB_10xv1_1.FIXEDCELLS__SCREEN_consensus_peaks.bed',\n",
       " 'VIB_10xv1_2.10k': '../SCREEN_peaks/VIB_10xv1_2.FIXEDCELLS__SCREEN_consensus_peaks.bed',\n",
       " 'VIB_10xv2_1.10k': '../SCREEN_peaks/VIB_10xv2_1.FIXEDCELLS__SCREEN_consensus_peaks.bed',\n",
       " 'VIB_10xv2_2.10k': '../SCREEN_peaks/VIB_10xv2_2.FIXEDCELLS__SCREEN_consensus_peaks.bed',\n",
       " 'VIB_hydrop_1.10k': '../SCREEN_peaks/VIB_hydrop_1.FIXEDCELLS__SCREEN_consensus_peaks.bed',\n",
       " 'VIB_hydrop_11.10k': '../SCREEN_peaks/VIB_hydrop_1.FIXEDCELLS__SCREEN_consensus_peaks.bed',\n",
       " 'VIB_hydrop_12.10k': '../SCREEN_peaks/VIB_hydrop_1.FIXEDCELLS__SCREEN_consensus_peaks.bed',\n",
       " 'VIB_hydrop_2.10k': '../SCREEN_peaks/VIB_hydrop_2.FIXEDCELLS__SCREEN_consensus_peaks.bed',\n",
       " 'VIB_hydrop_21.10k': '../SCREEN_peaks/VIB_hydrop_2.FIXEDCELLS__SCREEN_consensus_peaks.bed',\n",
       " 'VIB_hydrop_22.10k': '../SCREEN_peaks/VIB_hydrop_2.FIXEDCELLS__SCREEN_consensus_peaks.bed'}"
      ]
     },
     "execution_count": 13,
     "metadata": {},
     "output_type": "execute_result"
    }
   ],
   "source": [
    "regions_sub_dict"
   ]
  },
  {
   "cell_type": "code",
   "execution_count": 14,
   "id": "177d09f9-7f1b-4dbc-8969-4f8afca8e12f",
   "metadata": {
    "execution": {
     "iopub.execute_input": "2022-09-15T12:42:07.810580Z",
     "iopub.status.busy": "2022-09-15T12:42:07.810049Z",
     "iopub.status.idle": "2022-09-15T12:42:07.815591Z",
     "shell.execute_reply": "2022-09-15T12:42:07.815030Z"
    },
    "papermill": {
     "duration": 0.012264,
     "end_time": "2022-09-15T12:42:07.816596",
     "exception": false,
     "start_time": "2022-09-15T12:42:07.804332",
     "status": "completed"
    },
    "tags": []
   },
   "outputs": [
    {
     "data": {
      "text/plain": [
       "{'BIO_ddseq_1.10k',\n",
       " 'BIO_ddseq_2.10k',\n",
       " 'BIO_ddseq_3.10k',\n",
       " 'BIO_ddseq_4.10k',\n",
       " 'BRO_mtscatac_1.10k',\n",
       " 'BRO_mtscatac_2.10k',\n",
       " 'CNA_10xmultiome_1.10k',\n",
       " 'CNA_10xmultiome_2.10k',\n",
       " 'CNA_10xv11_1.10k',\n",
       " 'CNA_10xv11_2.10k',\n",
       " 'CNA_10xv11_3.10k',\n",
       " 'CNA_10xv11_4.10k',\n",
       " 'CNA_10xv11_5.10k',\n",
       " 'CNA_10xv2_1.10k',\n",
       " 'CNA_10xv2_2.10k',\n",
       " 'CNA_hydrop_1.10k',\n",
       " 'CNA_hydrop_2.10k',\n",
       " 'CNA_hydrop_3.10k',\n",
       " 'CNA_mtscatac_1.10k',\n",
       " 'CNA_mtscatac_2.10k',\n",
       " 'EPF_hydrop_1.10k',\n",
       " 'EPF_hydrop_2.10k',\n",
       " 'EPF_hydrop_3.10k',\n",
       " 'EPF_hydrop_4.10k',\n",
       " 'HAR_ddseq_1.10k',\n",
       " 'HAR_ddseq_2.10k',\n",
       " 'OHS_s3atac_1.10k',\n",
       " 'OHS_s3atac_2.10k',\n",
       " 'SAN_10xmultiome_1.10k',\n",
       " 'SAN_10xmultiome_2.10k',\n",
       " 'STA_10xv11_1.10k',\n",
       " 'STA_10xv11_2.10k',\n",
       " 'TXG_10xv11_1.10k',\n",
       " 'TXG_10xv2_1.10k',\n",
       " 'TXG_10xv2_2.10k',\n",
       " 'UCS_ddseq_1.10k',\n",
       " 'UCS_ddseq_2.10k',\n",
       " 'VIB_10xmultiome_1.10k',\n",
       " 'VIB_10xmultiome_2.10k',\n",
       " 'VIB_10xv1_1.10k',\n",
       " 'VIB_10xv1_2.10k',\n",
       " 'VIB_10xv2_1.10k',\n",
       " 'VIB_10xv2_2.10k',\n",
       " 'VIB_hydrop_1.10k',\n",
       " 'VIB_hydrop_11.10k',\n",
       " 'VIB_hydrop_12.10k',\n",
       " 'VIB_hydrop_2.10k',\n",
       " 'VIB_hydrop_21.10k',\n",
       " 'VIB_hydrop_22.10k'}"
      ]
     },
     "execution_count": 14,
     "metadata": {},
     "output_type": "execute_result"
    }
   ],
   "source": [
    "set(regions_sub_dict) == set(fragments_sub_dict)\n",
    "set(regions_sub_dict) - set(fragments_sub_dict)"
   ]
  },
  {
   "cell_type": "code",
   "execution_count": 15,
   "id": "e4524e19-a30c-49d3-a910-5bc39a9e349e",
   "metadata": {
    "execution": {
     "iopub.execute_input": "2022-09-15T12:42:07.829009Z",
     "iopub.status.busy": "2022-09-15T12:42:07.828400Z",
     "iopub.status.idle": "2022-09-15T12:42:07.832165Z",
     "shell.execute_reply": "2022-09-15T12:42:07.831555Z"
    },
    "papermill": {
     "duration": 0.010596,
     "end_time": "2022-09-15T12:42:07.833145",
     "exception": false,
     "start_time": "2022-09-15T12:42:07.822549",
     "status": "completed"
    },
    "tags": []
   },
   "outputs": [],
   "source": [
    "common = set(fragments_sub_dict).intersection(set(regions_sub_dict))"
   ]
  },
  {
   "cell_type": "code",
   "execution_count": 16,
   "id": "13650870-4b93-4373-a7de-dce223fa0d5a",
   "metadata": {
    "execution": {
     "iopub.execute_input": "2022-09-15T12:42:07.845250Z",
     "iopub.status.busy": "2022-09-15T12:42:07.844688Z",
     "iopub.status.idle": "2022-09-15T12:42:07.849010Z",
     "shell.execute_reply": "2022-09-15T12:42:07.848434Z"
    },
    "papermill": {
     "duration": 0.011267,
     "end_time": "2022-09-15T12:42:07.849987",
     "exception": false,
     "start_time": "2022-09-15T12:42:07.838720",
     "status": "completed"
    },
    "tags": []
   },
   "outputs": [
    {
     "data": {
      "text/plain": [
       "2"
      ]
     },
     "execution_count": 16,
     "metadata": {},
     "output_type": "execute_result"
    }
   ],
   "source": [
    "len(common)"
   ]
  },
  {
   "cell_type": "code",
   "execution_count": 17,
   "id": "b0652173-a623-4a34-babb-bfe872ac0bd0",
   "metadata": {
    "execution": {
     "iopub.execute_input": "2022-09-15T12:42:07.862057Z",
     "iopub.status.busy": "2022-09-15T12:42:07.861581Z",
     "iopub.status.idle": "2022-09-15T12:42:07.866301Z",
     "shell.execute_reply": "2022-09-15T12:42:07.865718Z"
    },
    "papermill": {
     "duration": 0.011695,
     "end_time": "2022-09-15T12:42:07.867267",
     "exception": false,
     "start_time": "2022-09-15T12:42:07.855572",
     "status": "completed"
    },
    "tags": []
   },
   "outputs": [],
   "source": [
    "regions_sub_dict = {x: regions_sub_dict[x] for x in list(common)}\n",
    "fragments_sub_dict = {x: fragments_sub_dict[x] for x in list(common)}"
   ]
  },
  {
   "cell_type": "code",
   "execution_count": 18,
   "id": "92ba8eb2-3d7d-4d66-9eed-a92a54433d2e",
   "metadata": {
    "execution": {
     "iopub.execute_input": "2022-09-15T12:42:07.879311Z",
     "iopub.status.busy": "2022-09-15T12:42:07.878758Z",
     "iopub.status.idle": "2022-09-15T12:42:07.882285Z",
     "shell.execute_reply": "2022-09-15T12:42:07.881664Z"
    },
    "papermill": {
     "duration": 0.010477,
     "end_time": "2022-09-15T12:42:07.883255",
     "exception": false,
     "start_time": "2022-09-15T12:42:07.872778",
     "status": "completed"
    },
    "tags": []
   },
   "outputs": [],
   "source": [
    "ray.shutdown()"
   ]
  },
  {
   "cell_type": "code",
   "execution_count": 19,
   "id": "0a585a26",
   "metadata": {
    "execution": {
     "iopub.execute_input": "2022-09-15T12:42:07.895321Z",
     "iopub.status.busy": "2022-09-15T12:42:07.894860Z",
     "iopub.status.idle": "2022-09-15T12:46:32.102786Z",
     "shell.execute_reply": "2022-09-15T12:46:32.101884Z"
    },
    "papermill": {
     "duration": 264.217427,
     "end_time": "2022-09-15T12:46:32.106184",
     "exception": false,
     "start_time": "2022-09-15T12:42:07.888757",
     "status": "completed"
    },
    "tags": []
   },
   "outputs": [
    {
     "name": "stdout",
     "output_type": "stream",
     "text": [
      "2022-09-15 12:42:07,901 cisTopic     INFO     n_cpu is larger than the number of samples. Setting n_cpu to the number of samples\n"
     ]
    },
    {
     "name": "stderr",
     "output_type": "stream",
     "text": [
      "2022-09-15 12:42:11,830\tINFO services.py:1470 -- View the Ray dashboard at \u001b[1m\u001b[32mhttp://127.0.0.1:8265\u001b[39m\u001b[22m\n"
     ]
    },
    {
     "name": "stdout",
     "output_type": "stream",
     "text": [
      "\u001b[2m\u001b[36m(compute_qc_stats_ray pid=3515639)\u001b[0m 2022-09-15 12:42:19,491 cisTopic     INFO     Reading MDC_mtscatac_1.10k\n",
      "\u001b[2m\u001b[36m(compute_qc_stats_ray pid=3515638)\u001b[0m 2022-09-15 12:42:19,494 cisTopic     INFO     Reading MDC_mtscatac_2.10k\n"
     ]
    },
    {
     "name": "stdout",
     "output_type": "stream",
     "text": [
      "\u001b[2m\u001b[36m(compute_qc_stats_ray pid=3515638)\u001b[0m 2022-09-15 12:43:07,680 cisTopic     INFO     Computing barcode rank plot for MDC_mtscatac_2.10k\n",
      "\u001b[2m\u001b[36m(compute_qc_stats_ray pid=3515638)\u001b[0m 2022-09-15 12:43:07,681 cisTopic     INFO     Counting fragments\n"
     ]
    },
    {
     "name": "stdout",
     "output_type": "stream",
     "text": [
      "\u001b[2m\u001b[36m(compute_qc_stats_ray pid=3515638)\u001b[0m 2022-09-15 12:43:10,325 cisTopic     INFO     Marking barcodes with more than 10\n",
      "\u001b[2m\u001b[36m(compute_qc_stats_ray pid=3515638)\u001b[0m 2022-09-15 12:43:10,411 cisTopic     INFO     Returning plot data\n",
      "\u001b[2m\u001b[36m(compute_qc_stats_ray pid=3515638)\u001b[0m 2022-09-15 12:43:10,413 cisTopic     INFO     Returning valid barcodes\n"
     ]
    },
    {
     "name": "stdout",
     "output_type": "stream",
     "text": [
      "\u001b[2m\u001b[36m(compute_qc_stats_ray pid=3515638)\u001b[0m 2022-09-15 12:43:13,595 cisTopic     INFO     Computing duplicate rate plot for MDC_mtscatac_2.10k\n"
     ]
    },
    {
     "name": "stdout",
     "output_type": "stream",
     "text": [
      "\u001b[2m\u001b[36m(compute_qc_stats_ray pid=3515638)\u001b[0m 2022-09-15 12:43:17,975 cisTopic     INFO     Return plot data\n",
      "\u001b[2m\u001b[36m(compute_qc_stats_ray pid=3515638)\u001b[0m 2022-09-15 12:43:18,118 cisTopic     INFO     Computing insert size distribution for MDC_mtscatac_2.10k\n",
      "\u001b[2m\u001b[36m(compute_qc_stats_ray pid=3515638)\u001b[0m 2022-09-15 12:43:18,118 cisTopic     INFO     Counting fragments\n"
     ]
    },
    {
     "name": "stdout",
     "output_type": "stream",
     "text": [
      "\u001b[2m\u001b[36m(compute_qc_stats_ray pid=3515638)\u001b[0m 2022-09-15 12:43:19,359 cisTopic     INFO     Returning plot data\n"
     ]
    },
    {
     "name": "stdout",
     "output_type": "stream",
     "text": [
      "\u001b[2m\u001b[36m(compute_qc_stats_ray pid=3515639)\u001b[0m 2022-09-15 12:43:29,312 cisTopic     INFO     Computing barcode rank plot for MDC_mtscatac_1.10k\n",
      "\u001b[2m\u001b[36m(compute_qc_stats_ray pid=3515639)\u001b[0m 2022-09-15 12:43:29,312 cisTopic     INFO     Counting fragments\n"
     ]
    },
    {
     "name": "stdout",
     "output_type": "stream",
     "text": [
      "\u001b[2m\u001b[36m(compute_qc_stats_ray pid=3515639)\u001b[0m 2022-09-15 12:43:33,213 cisTopic     INFO     Marking barcodes with more than 10\n",
      "\u001b[2m\u001b[36m(compute_qc_stats_ray pid=3515639)\u001b[0m 2022-09-15 12:43:33,316 cisTopic     INFO     Returning plot data\n",
      "\u001b[2m\u001b[36m(compute_qc_stats_ray pid=3515639)\u001b[0m 2022-09-15 12:43:33,322 cisTopic     INFO     Returning valid barcodes\n"
     ]
    },
    {
     "name": "stdout",
     "output_type": "stream",
     "text": [
      "\u001b[2m\u001b[36m(compute_qc_stats_ray pid=3515639)\u001b[0m 2022-09-15 12:43:38,033 cisTopic     INFO     Computing duplicate rate plot for MDC_mtscatac_1.10k\n"
     ]
    },
    {
     "name": "stdout",
     "output_type": "stream",
     "text": [
      "\u001b[2m\u001b[36m(compute_qc_stats_ray pid=3515638)\u001b[0m 2022-09-15 12:43:41,853 cisTopic     INFO     Computing TSS profile for MDC_mtscatac_2.10k\n"
     ]
    },
    {
     "name": "stdout",
     "output_type": "stream",
     "text": [
      "\u001b[2m\u001b[36m(compute_qc_stats_ray pid=3515639)\u001b[0m 2022-09-15 12:43:44,621 cisTopic     INFO     Return plot data\n",
      "\u001b[2m\u001b[36m(compute_qc_stats_ray pid=3515639)\u001b[0m 2022-09-15 12:43:44,761 cisTopic     INFO     Computing insert size distribution for MDC_mtscatac_1.10k\n",
      "\u001b[2m\u001b[36m(compute_qc_stats_ray pid=3515639)\u001b[0m 2022-09-15 12:43:44,762 cisTopic     INFO     Counting fragments\n"
     ]
    },
    {
     "name": "stdout",
     "output_type": "stream",
     "text": [
      "\u001b[2m\u001b[36m(compute_qc_stats_ray pid=3515638)\u001b[0m 2022-09-15 12:43:45,682 cisTopic     INFO     Formatting annnotation\n",
      "\u001b[2m\u001b[36m(compute_qc_stats_ray pid=3515638)\u001b[0m 2022-09-15 12:43:45,794 cisTopic     INFO     Creating coverage matrix\n"
     ]
    },
    {
     "name": "stdout",
     "output_type": "stream",
     "text": [
      "\u001b[2m\u001b[36m(compute_qc_stats_ray pid=3515639)\u001b[0m 2022-09-15 12:43:46,551 cisTopic     INFO     Returning plot data\n"
     ]
    },
    {
     "name": "stdout",
     "output_type": "stream",
     "text": [
      "\u001b[2m\u001b[36m(compute_qc_stats_ray pid=3515639)\u001b[0m 2022-09-15 12:44:19,245 cisTopic     INFO     Computing TSS profile for MDC_mtscatac_1.10k\n"
     ]
    },
    {
     "name": "stdout",
     "output_type": "stream",
     "text": [
      "\u001b[2m\u001b[36m(compute_qc_stats_ray pid=3515639)\u001b[0m 2022-09-15 12:44:25,318 cisTopic     INFO     Formatting annnotation\n",
      "\u001b[2m\u001b[36m(compute_qc_stats_ray pid=3515639)\u001b[0m 2022-09-15 12:44:25,432 cisTopic     INFO     Creating coverage matrix\n"
     ]
    },
    {
     "name": "stdout",
     "output_type": "stream",
     "text": [
      "\u001b[2m\u001b[36m(compute_qc_stats_ray pid=3515638)\u001b[0m 2022-09-15 12:44:30,613 cisTopic     INFO     Coverage matrix done\n"
     ]
    },
    {
     "name": "stdout",
     "output_type": "stream",
     "text": [
      "\u001b[2m\u001b[36m(compute_qc_stats_ray pid=3515638)\u001b[0m 2022-09-15 12:44:51,406 cisTopic     INFO     Returning normalized TSS coverage matrix per barcode\n"
     ]
    },
    {
     "name": "stdout",
     "output_type": "stream",
     "text": [
      "\u001b[2m\u001b[36m(compute_qc_stats_ray pid=3515638)\u001b[0m 2022-09-15 12:45:06,296 cisTopic     INFO     Returning normalized sample TSS enrichment data\n"
     ]
    },
    {
     "name": "stdout",
     "output_type": "stream",
     "text": [
      "\u001b[2m\u001b[36m(compute_qc_stats_ray pid=3515638)\u001b[0m 2022-09-15 12:45:06,443 cisTopic     INFO     Computing FRIP profile for MDC_mtscatac_2.10k\n"
     ]
    },
    {
     "name": "stdout",
     "output_type": "stream",
     "text": [
      "\u001b[2m\u001b[36m(compute_qc_stats_ray pid=3515638)\u001b[0m 2022-09-15 12:45:07,837 cisTopic     INFO     Counting fragments\n"
     ]
    },
    {
     "name": "stdout",
     "output_type": "stream",
     "text": [
      "\u001b[2m\u001b[36m(compute_qc_stats_ray pid=3515638)\u001b[0m 2022-09-15 12:45:12,189 cisTopic     INFO     Intersecting fragments with regions\n"
     ]
    },
    {
     "name": "stdout",
     "output_type": "stream",
     "text": [
      "\u001b[2m\u001b[36m(compute_qc_stats_ray pid=3515638)\u001b[0m 2022-09-15 12:45:24,937 cisTopic     INFO     Sample MDC_mtscatac_2.10k done!\n"
     ]
    },
    {
     "name": "stdout",
     "output_type": "stream",
     "text": [
      "\u001b[2m\u001b[36m(compute_qc_stats_ray pid=3515639)\u001b[0m 2022-09-15 12:45:40,195 cisTopic     INFO     Coverage matrix done\n"
     ]
    },
    {
     "name": "stdout",
     "output_type": "stream",
     "text": [
      "\u001b[2m\u001b[36m(compute_qc_stats_ray pid=3515639)\u001b[0m 2022-09-15 12:45:59,063 cisTopic     INFO     Returning normalized TSS coverage matrix per barcode\n"
     ]
    },
    {
     "name": "stdout",
     "output_type": "stream",
     "text": [
      "\u001b[2m\u001b[36m(compute_qc_stats_ray pid=3515639)\u001b[0m 2022-09-15 12:46:12,456 cisTopic     INFO     Returning normalized sample TSS enrichment data\n",
      "\u001b[2m\u001b[36m(compute_qc_stats_ray pid=3515639)\u001b[0m 2022-09-15 12:46:12,555 cisTopic     INFO     Computing FRIP profile for MDC_mtscatac_1.10k\n"
     ]
    },
    {
     "name": "stdout",
     "output_type": "stream",
     "text": [
      "\u001b[2m\u001b[36m(compute_qc_stats_ray pid=3515639)\u001b[0m 2022-09-15 12:46:13,359 cisTopic     INFO     Counting fragments\n"
     ]
    },
    {
     "name": "stdout",
     "output_type": "stream",
     "text": [
      "\u001b[2m\u001b[36m(compute_qc_stats_ray pid=3515639)\u001b[0m 2022-09-15 12:46:16,351 cisTopic     INFO     Intersecting fragments with regions\n"
     ]
    },
    {
     "name": "stdout",
     "output_type": "stream",
     "text": [
      "\u001b[2m\u001b[36m(compute_qc_stats_ray pid=3515639)\u001b[0m 2022-09-15 12:46:26,801 cisTopic     INFO     Sample MDC_mtscatac_1.10k done!\n"
     ]
    },
    {
     "name": "stdout",
     "output_type": "stream",
     "text": [
      "Dumping files in /dodrio/scratch/projects/starting_2022_023/benchmark/scatac_benchmark/downsample_series/10k/cistopic_qc_out_CONSENSUS...\n"
     ]
    }
   ],
   "source": [
    "n_cores = 16\n",
    "if regions_sub_dict != {}:\n",
    "    samples_sub = list(regions_sub_dict.keys())\n",
    "    blocks = [samples_sub[i : i + n_cores] for i in range(0, len(samples_sub), n_cores)]\n",
    "    for samples_torun_in_block in blocks:\n",
    "        fragments_sub_dict_block = {\n",
    "            key: fragments_sub_dict[key] for key in samples_torun_in_block\n",
    "        }\n",
    "        regions_sub_dict_block = {\n",
    "            key: regions_sub_dict[key] for key in samples_torun_in_block\n",
    "        }\n",
    "\n",
    "        metadata_bc_dict, profile_data_dict = compute_qc_stats(\n",
    "            fragments_dict=fragments_sub_dict_block,\n",
    "            tss_annotation=annotation,\n",
    "            stats=[\n",
    "                \"barcode_rank_plot\",\n",
    "                \"duplicate_rate\",\n",
    "                \"insert_size_distribution\",\n",
    "                \"profile_tss\",\n",
    "                \"frip\",\n",
    "            ],\n",
    "            label_list=None,\n",
    "            path_to_regions=regions_sub_dict_block,\n",
    "            n_cpu=n_cores,\n",
    "            valid_bc=None,\n",
    "            n_frag=10,\n",
    "            n_bc=None,\n",
    "            tss_flank_window=2000,\n",
    "            tss_window=50,\n",
    "            tss_minimum_signal_window=100,\n",
    "            tss_rolling_window=10,\n",
    "            # min_norm=0.2,\n",
    "            remove_duplicates=True,\n",
    "        )\n",
    "\n",
    "        ray.shutdown()\n",
    "        print(f\"Dumping files in {cistopic_qc_out}...\")\n",
    "        for sample in sorted(metadata_bc_dict.keys()):\n",
    "            metadata_bc_dict[sample][\"sample_id\"] = sample\n",
    "            metadata_bc_dict[sample].index = [\n",
    "                x + \"___\" + sample for x in list(metadata_bc_dict[sample].index)\n",
    "            ]\n",
    "            with open(\n",
    "                os.path.join(cistopic_qc_out, f\"{sample}__metadata_bc.pkl\"), \"wb\"\n",
    "            ) as f:\n",
    "                pickle.dump(metadata_bc_dict[sample], f, protocol=4)\n",
    "\n",
    "            with open(\n",
    "                os.path.join(cistopic_qc_out, f\"{sample}__profile_data.pkl\"), \"wb\"\n",
    "            ) as f:\n",
    "                pickle.dump(profile_data_dict[sample], f, protocol=4)\n",
    "else:\n",
    "    print(\"All samples already processed.\")"
   ]
  },
  {
   "cell_type": "markdown",
   "id": "1a1ad8e2",
   "metadata": {
    "papermill": {
     "duration": 0.007769,
     "end_time": "2022-09-15T12:46:32.147569",
     "exception": false,
     "start_time": "2022-09-15T12:46:32.139800",
     "status": "completed"
    },
    "tags": []
   },
   "source": [
    "# Plot"
   ]
  },
  {
   "cell_type": "markdown",
   "id": "76d9a6eb-c74e-41bb-b05b-0c2c36a0a2f9",
   "metadata": {
    "papermill": {
     "duration": 0.006613,
     "end_time": "2022-09-15T12:46:32.160912",
     "exception": false,
     "start_time": "2022-09-15T12:46:32.154299",
     "status": "completed"
    },
    "tags": []
   },
   "source": [
    "Calculating a KDE is simultaneously expensive and scales poorly with increasing n. Therefore, I wrote a multithreaded script that divides the QC array into equal parts (interleaved to avoid biases in the order!) and performs a KDE calculation on each part. Here, Otsu thresholding is used to find the right threshold for minimum fragments and minimum TSS enrichment. ddseq samples have a significantly higher noise floor than the other samples when it comes to fragment distribution. Therefore, the otsu algorithm is performed on all barcodes with a minimum of 300 fragments for the ddseq samples, and a minimum of 100 fragments for all the other samples. I tried to perform this filtering completely independent of sample/technique (e.g. using gaussian mixture modeling, Jenks natural breaks, or multiple step Otsu thresholding) but found that no solution worked perfectly for all samples."
   ]
  },
  {
   "cell_type": "markdown",
   "id": "0332bf6a-0bd8-41d2-9f12-634b2249af11",
   "metadata": {
    "papermill": {
     "duration": 0.006607,
     "end_time": "2022-09-15T12:46:32.174187",
     "exception": false,
     "start_time": "2022-09-15T12:46:32.167580",
     "status": "completed"
    },
    "tags": []
   },
   "source": [
    "This is regulated by the code below in qc_plots.py:\n",
    "```\n",
    "min_otsu_frags_dict = {}\n",
    "for fragments_file in fragments_list:\n",
    "    sample = fragments_file.split(\"/\")[-1].split(\".\")[0]\n",
    "    tech = sample.split('_')[1]\n",
    "    if tech == \"ddseq\":\n",
    "        if sample == \"BIO_ddseq_1\":\n",
    "            min_otsu_frags_dict[sample] = 600\n",
    "        else:\n",
    "            min_otsu_frags_dict[sample] = 300\n",
    "    elif tech == \"hydrop\":\n",
    "        min_otsu_frags_dict[sample] = 300\n",
    "    else:\n",
    "        min_otsu_frags_dict[sample] = 100\n",
    "```"
   ]
  },
  {
   "cell_type": "code",
   "execution_count": 20,
   "id": "0b8bcb35-3db0-4d9c-96d0-c73d04a0d5cf",
   "metadata": {
    "collapsed": true,
    "execution": {
     "iopub.execute_input": "2022-09-15T12:46:32.189394Z",
     "iopub.status.busy": "2022-09-15T12:46:32.188720Z",
     "iopub.status.idle": "2022-09-15T12:46:32.399134Z",
     "shell.execute_reply": "2022-09-15T12:46:32.398256Z"
    },
    "jupyter": {
     "outputs_hidden": true
    },
    "papermill": {
     "duration": 0.219698,
     "end_time": "2022-09-15T12:46:32.400604",
     "exception": false,
     "start_time": "2022-09-15T12:46:32.180906",
     "status": "completed"
    },
    "tags": []
   },
   "outputs": [
    {
     "name": "stdout",
     "output_type": "stream",
     "text": [
      "cat: ../0_resources/scripts/qc_plots.py: No such file or directory\r\n"
     ]
    }
   ],
   "source": [
    "!cat ../0_resources/scripts/qc_plots.py"
   ]
  },
  {
   "cell_type": "markdown",
   "id": "e4019bde",
   "metadata": {
    "execution": {
     "iopub.execute_input": "2022-07-15T09:42:06.802579Z",
     "iopub.status.busy": "2022-07-15T09:42:06.801860Z",
     "iopub.status.idle": "2022-07-15T09:42:06.814527Z",
     "shell.execute_reply": "2022-07-15T09:42:06.813708Z",
     "shell.execute_reply.started": "2022-07-15T09:42:06.802476Z"
    },
    "papermill": {
     "duration": 0.006546,
     "end_time": "2022-09-15T12:46:32.414143",
     "exception": false,
     "start_time": "2022-09-15T12:46:32.407597",
     "status": "completed"
    },
    "tags": []
   },
   "source": [
    "Since multiprocessing does not work with jupyter notebooks, run the following code in terminal:"
   ]
  },
  {
   "cell_type": "markdown",
   "id": "5d53e61b",
   "metadata": {
    "papermill": {
     "duration": 0.006588,
     "end_time": "2022-09-15T12:46:32.427293",
     "exception": false,
     "start_time": "2022-09-15T12:46:32.420705",
     "status": "completed"
    },
    "tags": []
   },
   "source": [
    "```\n",
    "mkdir plots_qc\n",
    "mkdir selected_barcodes\n",
    "SIF=../0_resources/cistopic_image/20220722_pycistopic.sif\n",
    "singularity exec \\\n",
    "    --cleanenv \\\n",
    "    -H $PWD:/home \\\n",
    "    $SIF \\\n",
    "    python ../0_resources/scripts/qc_plots.py\n",
    "```"
   ]
  },
  {
   "cell_type": "markdown",
   "id": "6de4c150-e92a-4060-b992-ae7babd1625a",
   "metadata": {
    "papermill": {
     "duration": 0.006495,
     "end_time": "2022-09-15T12:46:32.440414",
     "exception": false,
     "start_time": "2022-09-15T12:46:32.433919",
     "status": "completed"
    },
    "tags": []
   },
   "source": [
    "And then open the plots:"
   ]
  },
  {
   "cell_type": "code",
   "execution_count": 21,
   "id": "68739afd-bc2c-4fab-ad96-25edf95b163c",
   "metadata": {
    "execution": {
     "iopub.execute_input": "2022-09-15T12:46:32.454516Z",
     "iopub.status.busy": "2022-09-15T12:46:32.454321Z",
     "iopub.status.idle": "2022-09-15T12:46:32.463370Z",
     "shell.execute_reply": "2022-09-15T12:46:32.462786Z"
    },
    "papermill": {
     "duration": 0.017352,
     "end_time": "2022-09-15T12:46:32.464329",
     "exception": false,
     "start_time": "2022-09-15T12:46:32.446977",
     "status": "completed"
    },
    "tags": []
   },
   "outputs": [],
   "source": [
    "metadata_bc_pkl_list = sorted(glob.glob(\"cistopic_qc_out/*metadata_bc.pkl\"))\n",
    "metadata_bc_pkl_path_dict = {}\n",
    "for metadata_bc_pkl_path in metadata_bc_pkl_list:\n",
    "    sample = metadata_bc_pkl_path.split(\"/\")[-1].split(\"__\")[0]\n",
    "    metadata_bc_pkl_path_dict[sample] = metadata_bc_pkl_path\n",
    "\n",
    "for sample in metadata_bc_pkl_path_dict.keys():\n",
    "    if os.path.exists(f\"selected_barcodes/{sample}_bc_passing_filters_otsu.pkl\"):\n",
    "        print(f\"{sample} bc passing filters exists, printing img and skipping\")\n",
    "        display(Image(f\"plots_qc/{sample}_qc_otsu.png\"))\n",
    "    else:\n",
    "        print(\n",
    "            f\"{sample} bc passing filters does not exist yet, generate using qc_plots.py script!\"\n",
    "        )"
   ]
  },
  {
   "cell_type": "markdown",
   "id": "fa5a05ab-0ae5-4804-95d8-b280b86bbedf",
   "metadata": {
    "papermill": {
     "duration": 0.006532,
     "end_time": "2022-09-15T12:46:32.514252",
     "exception": false,
     "start_time": "2022-09-15T12:46:32.507720",
     "status": "completed"
    },
    "tags": []
   },
   "source": [
    "# Write raw barcode file"
   ]
  },
  {
   "cell_type": "markdown",
   "id": "ed437d13-e63c-4fd5-a19b-549c83c3c3f6",
   "metadata": {
    "papermill": {
     "duration": 0.006469,
     "end_time": "2022-09-15T12:46:32.527215",
     "exception": false,
     "start_time": "2022-09-15T12:46:32.520746",
     "status": "completed"
    },
    "tags": []
   },
   "source": [
    "Freemuxlet reads barcodes in the bam file. These barcodes (tag: DB) do not contain the `sample` suffix, which is included in the `*_bc_passing_filters_otsu.txt` files:"
   ]
  },
  {
   "cell_type": "code",
   "execution_count": 22,
   "id": "76c6ae6e-c050-4915-9477-1b567edff53e",
   "metadata": {
    "execution": {
     "iopub.execute_input": "2022-09-15T12:46:32.541084Z",
     "iopub.status.busy": "2022-09-15T12:46:32.540909Z",
     "iopub.status.idle": "2022-09-15T12:46:32.805183Z",
     "shell.execute_reply": "2022-09-15T12:46:32.804314Z"
    },
    "papermill": {
     "duration": 0.273021,
     "end_time": "2022-09-15T12:46:32.806664",
     "exception": false,
     "start_time": "2022-09-15T12:46:32.533643",
     "status": "completed"
    },
    "tags": []
   },
   "outputs": [
    {
     "name": "stdout",
     "output_type": "stream",
     "text": [
      "head: cannot open 'selected_barcodes/BIO_ddseq_1.LIBDS_bc_passing_filters_otsu.txt' for reading: No such file or directory\r\n"
     ]
    }
   ],
   "source": [
    "!head selected_barcodes/BIO_ddseq_1.LIBDS_bc_passing_filters_otsu.txt"
   ]
  },
  {
   "cell_type": "code",
   "execution_count": 23,
   "id": "df7588f2-5917-4e37-98cb-7fd0d2c83590",
   "metadata": {
    "execution": {
     "iopub.execute_input": "2022-09-15T12:46:32.821174Z",
     "iopub.status.busy": "2022-09-15T12:46:32.820981Z",
     "iopub.status.idle": "2022-09-15T12:46:32.829840Z",
     "shell.execute_reply": "2022-09-15T12:46:32.829230Z"
    },
    "papermill": {
     "duration": 0.017203,
     "end_time": "2022-09-15T12:46:32.830817",
     "exception": false,
     "start_time": "2022-09-15T12:46:32.813614",
     "status": "completed"
    },
    "tags": []
   },
   "outputs": [],
   "source": [
    "for file in glob.glob(\"selected_barcodes/*_bc_passing_filters_otsu.txt\"):\n",
    "    print(file)\n",
    "    sample = file.split(\"/\")[-1].split(\"_bc_passing_filters_otsu.txt\")[0]\n",
    "    print(sample)\n",
    "    df = pd.read_csv(file, header=None, index_col=None)\n",
    "\n",
    "    with open(f\"selected_barcodes/{sample}_bc_passing_filters_otsu.RAW.txt\", \"w\") as fp:\n",
    "        for x in df[0]:\n",
    "            # write each item on a new line\n",
    "            fp.write(x.split(\"___\")[0] + \"\\n\")\n",
    "        print(\"Done\")"
   ]
  },
  {
   "cell_type": "code",
   "execution_count": 24,
   "id": "83e00ebf-28af-4f4a-8f2f-d3c073179b2a",
   "metadata": {
    "execution": {
     "iopub.execute_input": "2022-09-15T12:46:32.845371Z",
     "iopub.status.busy": "2022-09-15T12:46:32.844896Z",
     "iopub.status.idle": "2022-09-15T12:46:33.050405Z",
     "shell.execute_reply": "2022-09-15T12:46:33.049533Z"
    },
    "papermill": {
     "duration": 0.213814,
     "end_time": "2022-09-15T12:46:33.051357",
     "exception": false,
     "start_time": "2022-09-15T12:46:32.837543",
     "status": "completed"
    },
    "tags": []
   },
   "outputs": [
    {
     "name": "stdout",
     "output_type": "stream",
     "text": [
      "head: cannot open 'selected_barcodes/BIO_ddseq_1.LIBDS_bc_passing_filters_otsu.RAW.txt' for reading: No such file or directory\r\n"
     ]
    }
   ],
   "source": [
    "!head selected_barcodes/BIO_ddseq_1.LIBDS_bc_passing_filters_otsu.RAW.txt"
   ]
  },
  {
   "cell_type": "code",
   "execution_count": null,
   "id": "1f42804d-a0dd-4797-8573-d1ac4de75f1b",
   "metadata": {
    "papermill": {
     "duration": 0.006722,
     "end_time": "2022-09-15T12:46:33.065049",
     "exception": false,
     "start_time": "2022-09-15T12:46:33.058327",
     "status": "completed"
    },
    "tags": []
   },
   "outputs": [],
   "source": []
  }
 ],
 "metadata": {
  "kernelspec": {
   "display_name": "20220815_pycistopic.sif",
   "language": "python",
   "name": "pycistopic_20220815"
  },
  "language_info": {
   "codemirror_mode": {
    "name": "ipython",
    "version": 3
   },
   "file_extension": ".py",
   "mimetype": "text/x-python",
   "name": "python",
   "nbconvert_exporter": "python",
   "pygments_lexer": "ipython3",
   "version": "3.8.13"
  },
  "papermill": {
   "default_parameters": {},
   "duration": 286.42336,
   "end_time": "2022-09-15T12:46:35.940873",
   "environment_variables": {},
   "exception": null,
   "input_path": "2_run_qc_consensus.ipynb",
   "output_path": "2_run_qc_consensus.OUT.ipynb",
   "parameters": {},
   "start_time": "2022-09-15T12:41:49.517513",
   "version": "2.3.4"
  }
 },
 "nbformat": 4,
 "nbformat_minor": 5
}
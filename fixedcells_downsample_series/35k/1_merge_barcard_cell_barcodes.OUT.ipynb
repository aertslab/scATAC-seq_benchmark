{
 "cells": [
  {
   "cell_type": "markdown",
   "id": "35863f6f-7801-487a-a698-c0f8418a35e4",
   "metadata": {
    "papermill": {
     "duration": 0.003095,
     "end_time": "2022-08-30T17:34:35.391032",
     "exception": false,
     "start_time": "2022-08-30T17:34:35.387937",
     "status": "completed"
    },
    "tags": []
   },
   "source": [
    "Open the bash container:"
   ]
  },
  {
   "cell_type": "code",
   "execution_count": null,
   "id": "ac3be90d-5c87-46a0-9add-73375d2cb2d4",
   "metadata": {
    "papermill": {
     "duration": null,
     "end_time": null,
     "exception": false,
     "start_time": "2022-08-30T17:34:35.405127",
     "status": "running"
    },
    "tags": []
   },
   "outputs": [],
   "source": [
    "img_path=../../0_resources/vsn_cache/vibsinglecellnf-singlecelltoolkit-2022-07-07-0638c1d.img\n",
    "singularity exec --cleanenv -H $PWD -B /dodrio,/readonly/dodrio,/tmp $img_path bash"
   ]
  },
  {
   "cell_type": "code",
   "execution_count": null,
   "id": "a5b347a8-2d84-43b3-a969-0419dff0e85f",
   "metadata": {},
   "outputs": [],
   "source": [
    "img_path=../0_resources/vsn_cache/vibsinglecellnf-singlecelltoolkit-2022-07-07-0638c1d.img\n",
    "singularity exec --cleanenv -H $PWD -B /dodrio,/readonly/dodrio,/tmp $img_path bash"
   ]
  },
  {
   "cell_type": "markdown",
   "id": "597867e4-c338-4969-85ce-eff2c21453b9",
   "metadata": {
    "papermill": {
     "duration": null,
     "end_time": null,
     "exception": null,
     "start_time": null,
     "status": "pending"
    },
    "tags": []
   },
   "source": [
    "Generate fragments:"
   ]
  },
  {
   "cell_type": "code",
   "execution_count": null,
   "id": "8f29d0d0-9c30-48a3-9fd8-82e1b3835971",
   "metadata": {
    "papermill": {
     "duration": null,
     "end_time": null,
     "exception": null,
     "start_time": null,
     "status": "pending"
    },
    "tags": []
   },
   "outputs": [],
   "source": [
    "export POLARS_MAX_THREADS=8\n",
    "export OMP_NUM_THREADS=8\n",
    "depth=30k\n",
    "subset=\n",
    "for file in ../to_merge/*$subset*tomerge.tsv\n",
    "do\n",
    "    echo $file\n",
    "    sample=(`basename $file`)\n",
    "    sample=${sample%.FULL.tomerge.tsv}.$depth\n",
    "    # echo $sample\n",
    "    jaccardfile=$file\n",
    "    infile=${depth}_preprocessing_out/data/fragments/$sample.fragments.raw.tsv.gz\n",
    "    outfile=${depth}_preprocessing_out/data/fragments/$sample.fragments.tsv\n",
    "    outfile2=$outfile.gz\n",
    "\n",
    "    if [ -f \"$outfile\" ]; then\n",
    "        echo \"$outfile exists, skipping\"\n",
    "    elif [ -f \"$outfile2\" ]; then\n",
    "        echo \"$outfile2 exists, skipping\"\n",
    "    else \n",
    "        echo \"$outfile does not exist, generating!\"\n",
    "        merge_cbs_over_jaccard_index_threshold.py -j $jaccardfile -i $infile -o $outfile &\n",
    "    fi\n",
    "done"
   ]
  },
  {
   "cell_type": "code",
   "execution_count": null,
   "id": "0f979fec-fea7-4085-ab04-99ee52dc74fd",
   "metadata": {},
   "outputs": [],
   "source": [
    "export POLARS_MAX_THREADS=8\n",
    "export OMP_NUM_THREADS=8\n",
    "depth=30k\n",
    "subset=\n",
    "for file in to_merge/*$subset*tomerge.tsv\n",
    "do\n",
    "    echo $file\n",
    "    sample=(`basename $file`)\n",
    "    sample=${sample%.FULL.tomerge.tsv}.$depth\n",
    "    # echo $sample\n",
    "    jaccardfile=$file\n",
    "    infile=${depth}/${depth}_preprocessing_out/data/fragments/$sample.fragments.raw.tsv.gz\n",
    "    outfile=${depth}/${depth}_preprocessing_out/data/fragments/$sample.fragments.tsv\n",
    "    outfile2=$outfile.gz\n",
    "\n",
    "    if ! [ -f \"$outfile\" ]; then\n",
    "        # echo \"$outfile exists, skipping\"\n",
    "        if ! [ -f \"$outfile2\" ]; then\n",
    "            echo \"$outfile does not exist, generating!\"\n",
    "            merge_cbs_over_jaccard_index_threshold.py -j $jaccardfile -i $infile -o $outfile &\n",
    "        fi\n",
    "    fi\n",
    "done"
   ]
  },
  {
   "cell_type": "markdown",
   "id": "b00ed5dc-ced7-4f7f-a841-952da8d034cd",
   "metadata": {
    "papermill": {
     "duration": null,
     "end_time": null,
     "exception": null,
     "start_time": null,
     "status": "pending"
    },
    "tags": []
   },
   "source": [
    "Then bgzip the output:"
   ]
  },
  {
   "cell_type": "code",
   "execution_count": null,
   "id": "23d58377-7ee8-4f18-b195-0d7ca7c9662c",
   "metadata": {
    "papermill": {
     "duration": null,
     "end_time": null,
     "exception": null,
     "start_time": null,
     "status": "pending"
    },
    "tags": []
   },
   "outputs": [],
   "source": [
    "module load HTSlib\n",
    "depth=30k\n",
    "for file in ${depth}_preprocessing_out/data/fragments/*$subset*.fragments.tsv\n",
    "do\n",
    "    echo $file\n",
    "    if [ -f \"$file.gz\" ]; then\n",
    "        echo exists\n",
    "    else\n",
    "        bgzip -@ 4 $file &\n",
    "    fi\n",
    "done"
   ]
  },
  {
   "cell_type": "code",
   "execution_count": null,
   "id": "74e316ed-dc8a-467d-9714-d0eda056aacf",
   "metadata": {},
   "outputs": [],
   "source": [
    "module load HTSlib\n",
    "for file in *k/*_preprocessing_out/data/fragments/*$subset*.fragments.tsv\n",
    "do\n",
    "    echo $file\n",
    "    if [ -f \"$file.gz\" ]; then\n",
    "        echo exists\n",
    "    else\n",
    "        bgzip -@ 4 $file &\n",
    "    fi\n",
    "done"
   ]
  },
  {
   "cell_type": "code",
   "execution_count": null,
   "id": "8a2b41ab-2238-4b4f-9113-67dcb081fe6f",
   "metadata": {
    "papermill": {
     "duration": null,
     "end_time": null,
     "exception": null,
     "start_time": null,
     "status": "pending"
    },
    "tags": []
   },
   "outputs": [],
   "source": [
    "jobs"
   ]
  },
  {
   "cell_type": "markdown",
   "id": "17945f81-f5c1-486f-9e43-1f638bdf988e",
   "metadata": {
    "papermill": {
     "duration": null,
     "end_time": null,
     "exception": null,
     "start_time": null,
     "status": "pending"
    },
    "tags": []
   },
   "source": [
    "and tabix index"
   ]
  },
  {
   "cell_type": "code",
   "execution_count": null,
   "id": "da504ed8-2147-4e19-8b60-27fa4249c3b7",
   "metadata": {
    "papermill": {
     "duration": null,
     "end_time": null,
     "exception": null,
     "start_time": null,
     "status": "pending"
    },
    "tags": []
   },
   "outputs": [],
   "source": [
    "module load HTSlib\n",
    "for file in ${depth}_preprocessing_out/data/fragments/*$subset*.fragments.tsv.gz\n",
    "do\n",
    "    echo $file\n",
    "    if [ -f \"$file.gz.tbi\" ]; then\n",
    "        echo exists\n",
    "    else\n",
    "        tabix -p bed $file &\n",
    "    fi\n",
    "done"
   ]
  },
  {
   "cell_type": "code",
   "execution_count": null,
   "id": "8e624826-2ed4-4e6e-a248-3573215771a2",
   "metadata": {},
   "outputs": [],
   "source": [
    "module load HTSlib\n",
    "for file in *k/*_preprocessing_out/data/fragments/*$subset*.fragments.tsv.gz\n",
    "do\n",
    "    echo $file\n",
    "    if [ -f \"$file.gz.tbi\" ]; then\n",
    "        echo exists\n",
    "    else\n",
    "        tabix -p bed $file &\n",
    "    fi\n",
    "done"
   ]
  },
  {
   "cell_type": "code",
   "execution_count": null,
   "id": "933a5184-6fd4-4b38-9327-abb141af23bb",
   "metadata": {
    "papermill": {
     "duration": null,
     "end_time": null,
     "exception": null,
     "start_time": null,
     "status": "pending"
    },
    "tags": []
   },
   "outputs": [],
   "source": [
    "jobs"
   ]
  },
  {
   "cell_type": "code",
   "execution_count": null,
   "id": "52dac352-f54d-466c-9663-6e475cefa880",
   "metadata": {
    "papermill": {
     "duration": null,
     "end_time": null,
     "exception": null,
     "start_time": null,
     "status": "pending"
    },
    "tags": []
   },
   "outputs": [],
   "source": []
  }
 ],
 "metadata": {
  "kernelspec": {
   "display_name": "Bash",
   "language": "bash",
   "name": "bash"
  },
  "language_info": {
   "codemirror_mode": "shell",
   "file_extension": ".sh",
   "mimetype": "text/x-sh",
   "name": "bash"
  },
  "papermill": {
   "default_parameters": {},
   "duration": null,
   "end_time": null,
   "environment_variables": {},
   "exception": null,
   "input_path": "1_merge_barcard_cell_barcodes.ipynb",
   "output_path": "1_merge_barcard_cell_barcodes.OUT.ipynb",
   "parameters": {},
   "start_time": "2022-08-30T17:34:22.571556",
   "version": "2.3.4"
  }
 },
 "nbformat": 4,
 "nbformat_minor": 5
}

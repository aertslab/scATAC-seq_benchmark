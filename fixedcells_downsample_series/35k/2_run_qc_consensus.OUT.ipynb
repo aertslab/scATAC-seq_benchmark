{
 "cells": [
  {
   "cell_type": "code",
   "execution_count": 1,
   "id": "5c0cea95",
   "metadata": {
    "execution": {
     "iopub.execute_input": "2022-09-15T01:45:36.031436Z",
     "iopub.status.busy": "2022-09-15T01:45:36.031199Z",
     "iopub.status.idle": "2022-09-15T01:45:53.207797Z",
     "shell.execute_reply": "2022-09-15T01:45:53.206989Z"
    },
    "papermill": {
     "duration": 17.276225,
     "end_time": "2022-09-15T01:45:53.285061",
     "exception": false,
     "start_time": "2022-09-15T01:45:36.008836",
     "status": "completed"
    },
    "tags": []
   },
   "outputs": [],
   "source": [
    "import pycisTopic\n",
    "import glob\n",
    "import os\n",
    "import pybiomart as pbm\n",
    "import pandas as pd\n",
    "import pickle\n",
    "from pycisTopic.qc import *\n",
    "from IPython.display import Image, display\n",
    "import matplotlib.pyplot as plt\n",
    "import numpy as np\n",
    "import seaborn as sns\n",
    "\n",
    "import multiprocess as mp  # for kde multithreading calculation\n",
    "from multiprocess import Pool\n",
    "\n",
    "%matplotlib inline\n",
    "%load_ext lab_black"
   ]
  },
  {
   "cell_type": "markdown",
   "id": "7c7a43c8",
   "metadata": {
    "papermill": {
     "duration": 0.061584,
     "end_time": "2022-09-15T01:45:53.372512",
     "exception": false,
     "start_time": "2022-09-15T01:45:53.310928",
     "status": "completed"
    },
    "tags": []
   },
   "source": [
    "# Download annotation"
   ]
  },
  {
   "cell_type": "code",
   "execution_count": 2,
   "id": "8d799645-cbe0-43be-b2af-cb773840f783",
   "metadata": {
    "execution": {
     "iopub.execute_input": "2022-09-15T01:45:53.484281Z",
     "iopub.status.busy": "2022-09-15T01:45:53.483310Z",
     "iopub.status.idle": "2022-09-15T01:45:53.762282Z",
     "shell.execute_reply": "2022-09-15T01:45:53.761348Z"
    },
    "papermill": {
     "duration": 0.29064,
     "end_time": "2022-09-15T01:45:53.763952",
     "exception": false,
     "start_time": "2022-09-15T01:45:53.473312",
     "status": "completed"
    },
    "tags": []
   },
   "outputs": [
    {
     "name": "stdout",
     "output_type": "stream",
     "text": [
      "/dodrio/scratch/projects/starting_2022_023/benchmark/scatac_benchmark/downsample_series/35k\r\n"
     ]
    }
   ],
   "source": [
    "!pwd"
   ]
  },
  {
   "cell_type": "code",
   "execution_count": 3,
   "id": "1637befe-6dd6-4a77-b59e-1f696ba36b74",
   "metadata": {
    "execution": {
     "iopub.execute_input": "2022-09-15T01:45:53.775450Z",
     "iopub.status.busy": "2022-09-15T01:45:53.775137Z",
     "iopub.status.idle": "2022-09-15T01:45:53.780244Z",
     "shell.execute_reply": "2022-09-15T01:45:53.779632Z"
    },
    "papermill": {
     "duration": 0.0115,
     "end_time": "2022-09-15T01:45:53.781161",
     "exception": false,
     "start_time": "2022-09-15T01:45:53.769661",
     "status": "completed"
    },
    "tags": []
   },
   "outputs": [],
   "source": [
    "depth_str = os.getcwd().split(\"/\")[-1]"
   ]
  },
  {
   "cell_type": "code",
   "execution_count": 4,
   "id": "f587154d",
   "metadata": {
    "execution": {
     "iopub.execute_input": "2022-09-15T01:45:53.791312Z",
     "iopub.status.busy": "2022-09-15T01:45:53.790886Z",
     "iopub.status.idle": "2022-09-15T01:45:53.990568Z",
     "shell.execute_reply": "2022-09-15T01:45:53.989943Z"
    },
    "papermill": {
     "duration": 0.206176,
     "end_time": "2022-09-15T01:45:53.991947",
     "exception": false,
     "start_time": "2022-09-15T01:45:53.785771",
     "status": "completed"
    },
    "tags": []
   },
   "outputs": [],
   "source": [
    "wdir = f\"/dodrio/scratch/projects/starting_2022_023/benchmark/scatac_benchmark/downsample_series/{depth_str}\"\n",
    "os.chdir(wdir)"
   ]
  },
  {
   "cell_type": "code",
   "execution_count": 5,
   "id": "8abb4492",
   "metadata": {
    "execution": {
     "iopub.execute_input": "2022-09-15T01:45:54.002932Z",
     "iopub.status.busy": "2022-09-15T01:45:54.002394Z",
     "iopub.status.idle": "2022-09-15T01:45:54.089215Z",
     "shell.execute_reply": "2022-09-15T01:45:54.088643Z"
    },
    "papermill": {
     "duration": 0.09304,
     "end_time": "2022-09-15T01:45:54.090212",
     "exception": false,
     "start_time": "2022-09-15T01:45:53.997172",
     "status": "completed"
    },
    "tags": []
   },
   "outputs": [
    {
     "name": "stdout",
     "output_type": "stream",
     "text": [
      "Loading cached genome annotation...\n"
     ]
    }
   ],
   "source": [
    "genome = \"hg38\"\n",
    "\n",
    "pbm_genome_name_dict = {\n",
    "    \"hg38\": \"hsapiens_gene_ensembl\",\n",
    "    \"hg37\": \"hsapiens_gene_ensembl\",\n",
    "    \"mm10\": \"mmusculus_gene_ensembl\",\n",
    "    \"dm6\": \"dmelanogaster_gene_ensembl\",\n",
    "}\n",
    "\n",
    "pbm_host_dict = {\n",
    "    \"hg38\": \"http://www.ensembl.org\",\n",
    "    \"hg37\": \"http://grch37.ensembl.org/\",\n",
    "    \"mm10\": \"http://nov2020.archive.ensembl.org/\",\n",
    "    \"dm6\": \"http://www.ensembl.org\",\n",
    "}\n",
    "\n",
    "if os.path.exists(f\"../annotation.tsv\"):\n",
    "    print(f\"Loading cached genome annotation...\")\n",
    "    annotation = pd.read_csv(\"../annotation.tsv\", sep=\"\\t\", header=0, index_col=0)\n",
    "else:\n",
    "    dataset = pbm.Dataset(name=pbm_genome_name_dict[genome], host=pbm_host_dict[genome])\n",
    "\n",
    "    annotation = dataset.query(\n",
    "        attributes=[\n",
    "            \"chromosome_name\",\n",
    "            \"transcription_start_site\",\n",
    "            \"strand\",\n",
    "            \"external_gene_name\",\n",
    "            \"transcript_biotype\",\n",
    "        ]\n",
    "    )\n",
    "    filter = annotation[\"Chromosome/scaffold name\"].str.contains(\"CHR|GL|JH|MT\")\n",
    "    annotation = annotation[~filter]\n",
    "    annotation[\"Chromosome/scaffold name\"] = annotation[\n",
    "        \"Chromosome/scaffold name\"\n",
    "    ].str.replace(r\"(\\b\\S)\", r\"chr\\1\")\n",
    "    annotation.columns = [\"Chromosome\", \"Start\", \"Strand\", \"Gene\", \"Transcript_type\"]\n",
    "    annotation = annotation[annotation.Transcript_type == \"protein_coding\"]\n",
    "    annotation.to_csv(\"annotation.tsv\", sep=\"\\t\")"
   ]
  },
  {
   "cell_type": "code",
   "execution_count": 6,
   "id": "79a968e4",
   "metadata": {
    "execution": {
     "iopub.execute_input": "2022-09-15T01:45:54.102317Z",
     "iopub.status.busy": "2022-09-15T01:45:54.102028Z",
     "iopub.status.idle": "2022-09-15T01:45:54.113675Z",
     "shell.execute_reply": "2022-09-15T01:45:54.113223Z"
    },
    "papermill": {
     "duration": 0.019143,
     "end_time": "2022-09-15T01:45:54.114753",
     "exception": false,
     "start_time": "2022-09-15T01:45:54.095610",
     "status": "completed"
    },
    "tags": []
   },
   "outputs": [
    {
     "data": {
      "text/plain": [
       "{'BIO_ddseq_1.35k': '35k_preprocessing_out/data/fragments/BIO_ddseq_1.35k.fragments.tsv.gz',\n",
       " 'BIO_ddseq_2.35k': '35k_preprocessing_out/data/fragments/BIO_ddseq_2.35k.fragments.tsv.gz',\n",
       " 'BIO_ddseq_3.35k': '35k_preprocessing_out/data/fragments/BIO_ddseq_3.35k.fragments.tsv.gz',\n",
       " 'BIO_ddseq_4.35k': '35k_preprocessing_out/data/fragments/BIO_ddseq_4.35k.fragments.tsv.gz',\n",
       " 'BRO_mtscatac_1.35k': '35k_preprocessing_out/data/fragments/BRO_mtscatac_1.35k.fragments.tsv.gz',\n",
       " 'BRO_mtscatac_2.35k': '35k_preprocessing_out/data/fragments/BRO_mtscatac_2.35k.fragments.tsv.gz',\n",
       " 'CNA_10xmultiome_1.35k': '35k_preprocessing_out/data/fragments/CNA_10xmultiome_1.35k.fragments.tsv.gz',\n",
       " 'CNA_10xmultiome_2.35k': '35k_preprocessing_out/data/fragments/CNA_10xmultiome_2.35k.fragments.tsv.gz',\n",
       " 'CNA_10xv11_1.35k': '35k_preprocessing_out/data/fragments/CNA_10xv11_1.35k.fragments.tsv.gz',\n",
       " 'CNA_10xv11_2.35k': '35k_preprocessing_out/data/fragments/CNA_10xv11_2.35k.fragments.tsv.gz',\n",
       " 'CNA_10xv11_3.35k': '35k_preprocessing_out/data/fragments/CNA_10xv11_3.35k.fragments.tsv.gz',\n",
       " 'CNA_10xv11_4.35k': '35k_preprocessing_out/data/fragments/CNA_10xv11_4.35k.fragments.tsv.gz',\n",
       " 'CNA_10xv11_5.35k': '35k_preprocessing_out/data/fragments/CNA_10xv11_5.35k.fragments.tsv.gz',\n",
       " 'CNA_10xv2_1.35k': '35k_preprocessing_out/data/fragments/CNA_10xv2_1.35k.fragments.tsv.gz',\n",
       " 'CNA_10xv2_2.35k': '35k_preprocessing_out/data/fragments/CNA_10xv2_2.35k.fragments.tsv.gz',\n",
       " 'CNA_hydrop_1.35k': '35k_preprocessing_out/data/fragments/CNA_hydrop_1.35k.fragments.tsv.gz',\n",
       " 'CNA_hydrop_2.35k': '35k_preprocessing_out/data/fragments/CNA_hydrop_2.35k.fragments.tsv.gz',\n",
       " 'CNA_hydrop_3.35k': '35k_preprocessing_out/data/fragments/CNA_hydrop_3.35k.fragments.tsv.gz',\n",
       " 'CNA_mtscatac_1.35k': '35k_preprocessing_out/data/fragments/CNA_mtscatac_1.35k.fragments.tsv.gz',\n",
       " 'CNA_mtscatac_2.35k': '35k_preprocessing_out/data/fragments/CNA_mtscatac_2.35k.fragments.tsv.gz',\n",
       " 'EPF_hydrop_1.35k': '35k_preprocessing_out/data/fragments/EPF_hydrop_1.35k.fragments.tsv.gz',\n",
       " 'EPF_hydrop_2.35k': '35k_preprocessing_out/data/fragments/EPF_hydrop_2.35k.fragments.tsv.gz',\n",
       " 'EPF_hydrop_3.35k': '35k_preprocessing_out/data/fragments/EPF_hydrop_3.35k.fragments.tsv.gz',\n",
       " 'EPF_hydrop_4.35k': '35k_preprocessing_out/data/fragments/EPF_hydrop_4.35k.fragments.tsv.gz',\n",
       " 'HAR_ddseq_1.35k': '35k_preprocessing_out/data/fragments/HAR_ddseq_1.35k.fragments.tsv.gz',\n",
       " 'HAR_ddseq_2.35k': '35k_preprocessing_out/data/fragments/HAR_ddseq_2.35k.fragments.tsv.gz',\n",
       " 'MDC_mtscatac_1.35k': '35k_preprocessing_out/data/fragments/MDC_mtscatac_1.35k.fragments.tsv.gz',\n",
       " 'MDC_mtscatac_2.35k': '35k_preprocessing_out/data/fragments/MDC_mtscatac_2.35k.fragments.tsv.gz',\n",
       " 'OHS_s3atac_1.35k': '35k_preprocessing_out/data/fragments/OHS_s3atac_1.35k.fragments.tsv.gz',\n",
       " 'OHS_s3atac_2.35k': '35k_preprocessing_out/data/fragments/OHS_s3atac_2.35k.fragments.tsv.gz',\n",
       " 'SAN_10xmultiome_1.35k': '35k_preprocessing_out/data/fragments/SAN_10xmultiome_1.35k.fragments.tsv.gz',\n",
       " 'SAN_10xmultiome_2.35k': '35k_preprocessing_out/data/fragments/SAN_10xmultiome_2.35k.fragments.tsv.gz',\n",
       " 'STA_10xv11_1.35k': '35k_preprocessing_out/data/fragments/STA_10xv11_1.35k.fragments.tsv.gz',\n",
       " 'STA_10xv11_2.35k': '35k_preprocessing_out/data/fragments/STA_10xv11_2.35k.fragments.tsv.gz',\n",
       " 'TXG_10xv11_1.35k': '35k_preprocessing_out/data/fragments/TXG_10xv11_1.35k.fragments.tsv.gz',\n",
       " 'TXG_10xv2_1.35k': '35k_preprocessing_out/data/fragments/TXG_10xv2_1.35k.fragments.tsv.gz',\n",
       " 'TXG_10xv2_2.35k': '35k_preprocessing_out/data/fragments/TXG_10xv2_2.35k.fragments.tsv.gz',\n",
       " 'UCS_ddseq_1.35k': '35k_preprocessing_out/data/fragments/UCS_ddseq_1.35k.fragments.tsv.gz',\n",
       " 'UCS_ddseq_2.35k': '35k_preprocessing_out/data/fragments/UCS_ddseq_2.35k.fragments.tsv.gz',\n",
       " 'VIB_10xmultiome_1.35k': '35k_preprocessing_out/data/fragments/VIB_10xmultiome_1.35k.fragments.tsv.gz',\n",
       " 'VIB_10xmultiome_2.35k': '35k_preprocessing_out/data/fragments/VIB_10xmultiome_2.35k.fragments.tsv.gz',\n",
       " 'VIB_10xv1_1.35k': '35k_preprocessing_out/data/fragments/VIB_10xv1_1.35k.fragments.tsv.gz',\n",
       " 'VIB_10xv1_2.35k': '35k_preprocessing_out/data/fragments/VIB_10xv1_2.35k.fragments.tsv.gz',\n",
       " 'VIB_10xv2_1.35k': '35k_preprocessing_out/data/fragments/VIB_10xv2_1.35k.fragments.tsv.gz',\n",
       " 'VIB_10xv2_2.35k': '35k_preprocessing_out/data/fragments/VIB_10xv2_2.35k.fragments.tsv.gz',\n",
       " 'VIB_hydrop_11.35k': '35k_preprocessing_out/data/fragments/VIB_hydrop_11.35k.fragments.tsv.gz',\n",
       " 'VIB_hydrop_12.35k': '35k_preprocessing_out/data/fragments/VIB_hydrop_12.35k.fragments.tsv.gz',\n",
       " 'VIB_hydrop_21.35k': '35k_preprocessing_out/data/fragments/VIB_hydrop_21.35k.fragments.tsv.gz',\n",
       " 'VIB_hydrop_22.35k': '35k_preprocessing_out/data/fragments/VIB_hydrop_22.35k.fragments.tsv.gz'}"
      ]
     },
     "execution_count": 6,
     "metadata": {},
     "output_type": "execute_result"
    }
   ],
   "source": [
    "fragments_list = sorted(\n",
    "    glob.glob(f\"{depth_str}_preprocessing_out/data/fragments/*fragments.tsv.gz\")\n",
    ")\n",
    "fragments_dict = {}\n",
    "for fragments_file in fragments_list:\n",
    "    sample = fragments_file.split(\"/\")[-1].split(\".fragments.tsv.gz\")[0]\n",
    "    fragments_dict[sample] = fragments_file\n",
    "\n",
    "fragments_dict"
   ]
  },
  {
   "cell_type": "code",
   "execution_count": 7,
   "id": "f43fd7e7-21a8-4798-b7bd-c236412e02bf",
   "metadata": {
    "execution": {
     "iopub.execute_input": "2022-09-15T01:45:54.125920Z",
     "iopub.status.busy": "2022-09-15T01:45:54.125434Z",
     "iopub.status.idle": "2022-09-15T01:45:54.134964Z",
     "shell.execute_reply": "2022-09-15T01:45:54.134522Z"
    },
    "papermill": {
     "duration": 0.015899,
     "end_time": "2022-09-15T01:45:54.135908",
     "exception": false,
     "start_time": "2022-09-15T01:45:54.120009",
     "status": "completed"
    },
    "tags": []
   },
   "outputs": [
    {
     "data": {
      "text/plain": [
       "{'BIO_ddseq_1.35k': '../SCREEN_peaks/BIO_ddseq_1.FIXEDCELLS__SCREEN_consensus_peaks.bed',\n",
       " 'BIO_ddseq_2.35k': '../SCREEN_peaks/BIO_ddseq_2.FIXEDCELLS__SCREEN_consensus_peaks.bed',\n",
       " 'BIO_ddseq_3.35k': '../SCREEN_peaks/BIO_ddseq_3.FIXEDCELLS__SCREEN_consensus_peaks.bed',\n",
       " 'BIO_ddseq_4.35k': '../SCREEN_peaks/BIO_ddseq_4.FIXEDCELLS__SCREEN_consensus_peaks.bed',\n",
       " 'BRO_mtscatac_1.35k': '../SCREEN_peaks/BRO_mtscatac_1.FIXEDCELLS__SCREEN_consensus_peaks.bed',\n",
       " 'BRO_mtscatac_2.35k': '../SCREEN_peaks/BRO_mtscatac_2.FIXEDCELLS__SCREEN_consensus_peaks.bed',\n",
       " 'CNA_10xmultiome_1.35k': '../SCREEN_peaks/CNA_10xmultiome_1.FIXEDCELLS__SCREEN_consensus_peaks.bed',\n",
       " 'CNA_10xmultiome_2.35k': '../SCREEN_peaks/CNA_10xmultiome_2.FIXEDCELLS__SCREEN_consensus_peaks.bed',\n",
       " 'CNA_10xv11_1.35k': '../SCREEN_peaks/CNA_10xv11_1.FIXEDCELLS__SCREEN_consensus_peaks.bed',\n",
       " 'CNA_10xv11_2.35k': '../SCREEN_peaks/CNA_10xv11_2.FIXEDCELLS__SCREEN_consensus_peaks.bed',\n",
       " 'CNA_10xv11_3.35k': '../SCREEN_peaks/CNA_10xv11_3.FIXEDCELLS__SCREEN_consensus_peaks.bed',\n",
       " 'CNA_10xv11_4.35k': '../SCREEN_peaks/CNA_10xv11_4.FIXEDCELLS__SCREEN_consensus_peaks.bed',\n",
       " 'CNA_10xv11_5.35k': '../SCREEN_peaks/CNA_10xv11_5.FIXEDCELLS__SCREEN_consensus_peaks.bed',\n",
       " 'CNA_10xv2_1.35k': '../SCREEN_peaks/CNA_10xv2_1.FIXEDCELLS__SCREEN_consensus_peaks.bed',\n",
       " 'CNA_10xv2_2.35k': '../SCREEN_peaks/CNA_10xv2_2.FIXEDCELLS__SCREEN_consensus_peaks.bed',\n",
       " 'CNA_hydrop_1.35k': '../SCREEN_peaks/CNA_hydrop_1.FIXEDCELLS__SCREEN_consensus_peaks.bed',\n",
       " 'CNA_hydrop_2.35k': '../SCREEN_peaks/CNA_hydrop_2.FIXEDCELLS__SCREEN_consensus_peaks.bed',\n",
       " 'CNA_hydrop_3.35k': '../SCREEN_peaks/CNA_hydrop_3.FIXEDCELLS__SCREEN_consensus_peaks.bed',\n",
       " 'CNA_mtscatac_1.35k': '../SCREEN_peaks/CNA_mtscatac_1.FIXEDCELLS__SCREEN_consensus_peaks.bed',\n",
       " 'CNA_mtscatac_2.35k': '../SCREEN_peaks/CNA_mtscatac_2.FIXEDCELLS__SCREEN_consensus_peaks.bed',\n",
       " 'EPF_hydrop_1.35k': '../SCREEN_peaks/EPF_hydrop_1.FIXEDCELLS__SCREEN_consensus_peaks.bed',\n",
       " 'EPF_hydrop_2.35k': '../SCREEN_peaks/EPF_hydrop_2.FIXEDCELLS__SCREEN_consensus_peaks.bed',\n",
       " 'EPF_hydrop_3.35k': '../SCREEN_peaks/EPF_hydrop_3.FIXEDCELLS__SCREEN_consensus_peaks.bed',\n",
       " 'EPF_hydrop_4.35k': '../SCREEN_peaks/EPF_hydrop_4.FIXEDCELLS__SCREEN_consensus_peaks.bed',\n",
       " 'HAR_ddseq_1.35k': '../SCREEN_peaks/HAR_ddseq_1.FIXEDCELLS__SCREEN_consensus_peaks.bed',\n",
       " 'HAR_ddseq_2.35k': '../SCREEN_peaks/HAR_ddseq_2.FIXEDCELLS__SCREEN_consensus_peaks.bed',\n",
       " 'MDC_mtscatac_1.35k': '../SCREEN_peaks/MDC_mtscatac_1.FIXEDCELLS__SCREEN_consensus_peaks.bed',\n",
       " 'MDC_mtscatac_2.35k': '../SCREEN_peaks/MDC_mtscatac_2.FIXEDCELLS__SCREEN_consensus_peaks.bed',\n",
       " 'OHS_s3atac_1.35k': '../SCREEN_peaks/OHS_s3atac_1.FIXEDCELLS__SCREEN_consensus_peaks.bed',\n",
       " 'OHS_s3atac_2.35k': '../SCREEN_peaks/OHS_s3atac_2.FIXEDCELLS__SCREEN_consensus_peaks.bed',\n",
       " 'SAN_10xmultiome_1.35k': '../SCREEN_peaks/SAN_10xmultiome_1.FIXEDCELLS__SCREEN_consensus_peaks.bed',\n",
       " 'SAN_10xmultiome_2.35k': '../SCREEN_peaks/SAN_10xmultiome_2.FIXEDCELLS__SCREEN_consensus_peaks.bed',\n",
       " 'STA_10xv11_1.35k': '../SCREEN_peaks/STA_10xv11_1.FIXEDCELLS__SCREEN_consensus_peaks.bed',\n",
       " 'STA_10xv11_2.35k': '../SCREEN_peaks/STA_10xv11_2.FIXEDCELLS__SCREEN_consensus_peaks.bed',\n",
       " 'TXG_10xv11_1.35k': '../SCREEN_peaks/TXG_10xv11_1.FIXEDCELLS__SCREEN_consensus_peaks.bed',\n",
       " 'TXG_10xv2_1.35k': '../SCREEN_peaks/TXG_10xv2_1.FIXEDCELLS__SCREEN_consensus_peaks.bed',\n",
       " 'TXG_10xv2_2.35k': '../SCREEN_peaks/TXG_10xv2_2.FIXEDCELLS__SCREEN_consensus_peaks.bed',\n",
       " 'UCS_ddseq_1.35k': '../SCREEN_peaks/UCS_ddseq_1.FIXEDCELLS__SCREEN_consensus_peaks.bed',\n",
       " 'UCS_ddseq_2.35k': '../SCREEN_peaks/UCS_ddseq_2.FIXEDCELLS__SCREEN_consensus_peaks.bed',\n",
       " 'VIB_10xmultiome_1.35k': '../SCREEN_peaks/VIB_10xmultiome_1.FIXEDCELLS__SCREEN_consensus_peaks.bed',\n",
       " 'VIB_10xmultiome_2.35k': '../SCREEN_peaks/VIB_10xmultiome_2.FIXEDCELLS__SCREEN_consensus_peaks.bed',\n",
       " 'VIB_10xv1_1.35k': '../SCREEN_peaks/VIB_10xv1_1.FIXEDCELLS__SCREEN_consensus_peaks.bed',\n",
       " 'VIB_10xv1_2.35k': '../SCREEN_peaks/VIB_10xv1_2.FIXEDCELLS__SCREEN_consensus_peaks.bed',\n",
       " 'VIB_10xv2_1.35k': '../SCREEN_peaks/VIB_10xv2_1.FIXEDCELLS__SCREEN_consensus_peaks.bed',\n",
       " 'VIB_10xv2_2.35k': '../SCREEN_peaks/VIB_10xv2_2.FIXEDCELLS__SCREEN_consensus_peaks.bed',\n",
       " 'VIB_hydrop_1.35k': '../SCREEN_peaks/VIB_hydrop_1.FIXEDCELLS__SCREEN_consensus_peaks.bed',\n",
       " 'VIB_hydrop_11.35k': '../SCREEN_peaks/VIB_hydrop_11.FIXEDCELLS__SCREEN_consensus_peaks.bed',\n",
       " 'VIB_hydrop_12.35k': '../SCREEN_peaks/VIB_hydrop_12.FIXEDCELLS__SCREEN_consensus_peaks.bed',\n",
       " 'VIB_hydrop_2.35k': '../SCREEN_peaks/VIB_hydrop_2.FIXEDCELLS__SCREEN_consensus_peaks.bed',\n",
       " 'VIB_hydrop_21.35k': '../SCREEN_peaks/VIB_hydrop_21.FIXEDCELLS__SCREEN_consensus_peaks.bed',\n",
       " 'VIB_hydrop_22.35k': '../SCREEN_peaks/VIB_hydrop_22.FIXEDCELLS__SCREEN_consensus_peaks.bed'}"
      ]
     },
     "execution_count": 7,
     "metadata": {},
     "output_type": "execute_result"
    }
   ],
   "source": [
    "regions_paths_dict = {\n",
    "    x.split(\"/\")[-1].split(f\"__\")[0].replace(\"FIXEDCELLS\", depth_str): x\n",
    "    for x in sorted(glob.glob(\"../SCREEN_peaks/*consensus_peaks.bed\"))\n",
    "}\n",
    "regions_paths_dict"
   ]
  },
  {
   "cell_type": "code",
   "execution_count": 8,
   "id": "bd35613d-1b51-4947-afd7-168f1043be12",
   "metadata": {
    "execution": {
     "iopub.execute_input": "2022-09-15T01:45:54.147065Z",
     "iopub.status.busy": "2022-09-15T01:45:54.146647Z",
     "iopub.status.idle": "2022-09-15T01:45:54.153694Z",
     "shell.execute_reply": "2022-09-15T01:45:54.153248Z"
    },
    "papermill": {
     "duration": 0.013583,
     "end_time": "2022-09-15T01:45:54.154632",
     "exception": false,
     "start_time": "2022-09-15T01:45:54.141049",
     "status": "completed"
    },
    "tags": []
   },
   "outputs": [],
   "source": [
    "regions_paths_dict[\"VIB_hydrop_11.\" + depth_str] = regions_paths_dict[\n",
    "    \"VIB_hydrop_1.\" + depth_str\n",
    "]\n",
    "regions_paths_dict[\"VIB_hydrop_12.\" + depth_str] = regions_paths_dict[\n",
    "    \"VIB_hydrop_1.\" + depth_str\n",
    "]\n",
    "regions_paths_dict[\"VIB_hydrop_21.\" + depth_str] = regions_paths_dict[\n",
    "    \"VIB_hydrop_2.\" + depth_str\n",
    "]\n",
    "regions_paths_dict[\"VIB_hydrop_22.\" + depth_str] = regions_paths_dict[\n",
    "    \"VIB_hydrop_2.\" + depth_str\n",
    "]"
   ]
  },
  {
   "cell_type": "code",
   "execution_count": 9,
   "id": "f01597ea-12b6-4b68-aa43-986e6616bc93",
   "metadata": {
    "execution": {
     "iopub.execute_input": "2022-09-15T01:45:54.281710Z",
     "iopub.status.busy": "2022-09-15T01:45:54.281282Z",
     "iopub.status.idle": "2022-09-15T01:45:54.286476Z",
     "shell.execute_reply": "2022-09-15T01:45:54.286044Z"
    },
    "papermill": {
     "duration": 0.012461,
     "end_time": "2022-09-15T01:45:54.287391",
     "exception": false,
     "start_time": "2022-09-15T01:45:54.274930",
     "status": "completed"
    },
    "tags": []
   },
   "outputs": [
    {
     "data": {
      "text/plain": [
       "{'BIO_ddseq_1.35k': '../SCREEN_peaks/BIO_ddseq_1.FIXEDCELLS__SCREEN_consensus_peaks.bed',\n",
       " 'BIO_ddseq_2.35k': '../SCREEN_peaks/BIO_ddseq_2.FIXEDCELLS__SCREEN_consensus_peaks.bed',\n",
       " 'BIO_ddseq_3.35k': '../SCREEN_peaks/BIO_ddseq_3.FIXEDCELLS__SCREEN_consensus_peaks.bed',\n",
       " 'BIO_ddseq_4.35k': '../SCREEN_peaks/BIO_ddseq_4.FIXEDCELLS__SCREEN_consensus_peaks.bed',\n",
       " 'BRO_mtscatac_1.35k': '../SCREEN_peaks/BRO_mtscatac_1.FIXEDCELLS__SCREEN_consensus_peaks.bed',\n",
       " 'BRO_mtscatac_2.35k': '../SCREEN_peaks/BRO_mtscatac_2.FIXEDCELLS__SCREEN_consensus_peaks.bed',\n",
       " 'CNA_10xmultiome_1.35k': '../SCREEN_peaks/CNA_10xmultiome_1.FIXEDCELLS__SCREEN_consensus_peaks.bed',\n",
       " 'CNA_10xmultiome_2.35k': '../SCREEN_peaks/CNA_10xmultiome_2.FIXEDCELLS__SCREEN_consensus_peaks.bed',\n",
       " 'CNA_10xv11_1.35k': '../SCREEN_peaks/CNA_10xv11_1.FIXEDCELLS__SCREEN_consensus_peaks.bed',\n",
       " 'CNA_10xv11_2.35k': '../SCREEN_peaks/CNA_10xv11_2.FIXEDCELLS__SCREEN_consensus_peaks.bed',\n",
       " 'CNA_10xv11_3.35k': '../SCREEN_peaks/CNA_10xv11_3.FIXEDCELLS__SCREEN_consensus_peaks.bed',\n",
       " 'CNA_10xv11_4.35k': '../SCREEN_peaks/CNA_10xv11_4.FIXEDCELLS__SCREEN_consensus_peaks.bed',\n",
       " 'CNA_10xv11_5.35k': '../SCREEN_peaks/CNA_10xv11_5.FIXEDCELLS__SCREEN_consensus_peaks.bed',\n",
       " 'CNA_10xv2_1.35k': '../SCREEN_peaks/CNA_10xv2_1.FIXEDCELLS__SCREEN_consensus_peaks.bed',\n",
       " 'CNA_10xv2_2.35k': '../SCREEN_peaks/CNA_10xv2_2.FIXEDCELLS__SCREEN_consensus_peaks.bed',\n",
       " 'CNA_hydrop_1.35k': '../SCREEN_peaks/CNA_hydrop_1.FIXEDCELLS__SCREEN_consensus_peaks.bed',\n",
       " 'CNA_hydrop_2.35k': '../SCREEN_peaks/CNA_hydrop_2.FIXEDCELLS__SCREEN_consensus_peaks.bed',\n",
       " 'CNA_hydrop_3.35k': '../SCREEN_peaks/CNA_hydrop_3.FIXEDCELLS__SCREEN_consensus_peaks.bed',\n",
       " 'CNA_mtscatac_1.35k': '../SCREEN_peaks/CNA_mtscatac_1.FIXEDCELLS__SCREEN_consensus_peaks.bed',\n",
       " 'CNA_mtscatac_2.35k': '../SCREEN_peaks/CNA_mtscatac_2.FIXEDCELLS__SCREEN_consensus_peaks.bed',\n",
       " 'EPF_hydrop_1.35k': '../SCREEN_peaks/EPF_hydrop_1.FIXEDCELLS__SCREEN_consensus_peaks.bed',\n",
       " 'EPF_hydrop_2.35k': '../SCREEN_peaks/EPF_hydrop_2.FIXEDCELLS__SCREEN_consensus_peaks.bed',\n",
       " 'EPF_hydrop_3.35k': '../SCREEN_peaks/EPF_hydrop_3.FIXEDCELLS__SCREEN_consensus_peaks.bed',\n",
       " 'EPF_hydrop_4.35k': '../SCREEN_peaks/EPF_hydrop_4.FIXEDCELLS__SCREEN_consensus_peaks.bed',\n",
       " 'HAR_ddseq_1.35k': '../SCREEN_peaks/HAR_ddseq_1.FIXEDCELLS__SCREEN_consensus_peaks.bed',\n",
       " 'HAR_ddseq_2.35k': '../SCREEN_peaks/HAR_ddseq_2.FIXEDCELLS__SCREEN_consensus_peaks.bed',\n",
       " 'MDC_mtscatac_1.35k': '../SCREEN_peaks/MDC_mtscatac_1.FIXEDCELLS__SCREEN_consensus_peaks.bed',\n",
       " 'MDC_mtscatac_2.35k': '../SCREEN_peaks/MDC_mtscatac_2.FIXEDCELLS__SCREEN_consensus_peaks.bed',\n",
       " 'OHS_s3atac_1.35k': '../SCREEN_peaks/OHS_s3atac_1.FIXEDCELLS__SCREEN_consensus_peaks.bed',\n",
       " 'OHS_s3atac_2.35k': '../SCREEN_peaks/OHS_s3atac_2.FIXEDCELLS__SCREEN_consensus_peaks.bed',\n",
       " 'SAN_10xmultiome_1.35k': '../SCREEN_peaks/SAN_10xmultiome_1.FIXEDCELLS__SCREEN_consensus_peaks.bed',\n",
       " 'SAN_10xmultiome_2.35k': '../SCREEN_peaks/SAN_10xmultiome_2.FIXEDCELLS__SCREEN_consensus_peaks.bed',\n",
       " 'STA_10xv11_1.35k': '../SCREEN_peaks/STA_10xv11_1.FIXEDCELLS__SCREEN_consensus_peaks.bed',\n",
       " 'STA_10xv11_2.35k': '../SCREEN_peaks/STA_10xv11_2.FIXEDCELLS__SCREEN_consensus_peaks.bed',\n",
       " 'TXG_10xv11_1.35k': '../SCREEN_peaks/TXG_10xv11_1.FIXEDCELLS__SCREEN_consensus_peaks.bed',\n",
       " 'TXG_10xv2_1.35k': '../SCREEN_peaks/TXG_10xv2_1.FIXEDCELLS__SCREEN_consensus_peaks.bed',\n",
       " 'TXG_10xv2_2.35k': '../SCREEN_peaks/TXG_10xv2_2.FIXEDCELLS__SCREEN_consensus_peaks.bed',\n",
       " 'UCS_ddseq_1.35k': '../SCREEN_peaks/UCS_ddseq_1.FIXEDCELLS__SCREEN_consensus_peaks.bed',\n",
       " 'UCS_ddseq_2.35k': '../SCREEN_peaks/UCS_ddseq_2.FIXEDCELLS__SCREEN_consensus_peaks.bed',\n",
       " 'VIB_10xmultiome_1.35k': '../SCREEN_peaks/VIB_10xmultiome_1.FIXEDCELLS__SCREEN_consensus_peaks.bed',\n",
       " 'VIB_10xmultiome_2.35k': '../SCREEN_peaks/VIB_10xmultiome_2.FIXEDCELLS__SCREEN_consensus_peaks.bed',\n",
       " 'VIB_10xv1_1.35k': '../SCREEN_peaks/VIB_10xv1_1.FIXEDCELLS__SCREEN_consensus_peaks.bed',\n",
       " 'VIB_10xv1_2.35k': '../SCREEN_peaks/VIB_10xv1_2.FIXEDCELLS__SCREEN_consensus_peaks.bed',\n",
       " 'VIB_10xv2_1.35k': '../SCREEN_peaks/VIB_10xv2_1.FIXEDCELLS__SCREEN_consensus_peaks.bed',\n",
       " 'VIB_10xv2_2.35k': '../SCREEN_peaks/VIB_10xv2_2.FIXEDCELLS__SCREEN_consensus_peaks.bed',\n",
       " 'VIB_hydrop_1.35k': '../SCREEN_peaks/VIB_hydrop_1.FIXEDCELLS__SCREEN_consensus_peaks.bed',\n",
       " 'VIB_hydrop_11.35k': '../SCREEN_peaks/VIB_hydrop_1.FIXEDCELLS__SCREEN_consensus_peaks.bed',\n",
       " 'VIB_hydrop_12.35k': '../SCREEN_peaks/VIB_hydrop_1.FIXEDCELLS__SCREEN_consensus_peaks.bed',\n",
       " 'VIB_hydrop_2.35k': '../SCREEN_peaks/VIB_hydrop_2.FIXEDCELLS__SCREEN_consensus_peaks.bed',\n",
       " 'VIB_hydrop_21.35k': '../SCREEN_peaks/VIB_hydrop_2.FIXEDCELLS__SCREEN_consensus_peaks.bed',\n",
       " 'VIB_hydrop_22.35k': '../SCREEN_peaks/VIB_hydrop_2.FIXEDCELLS__SCREEN_consensus_peaks.bed'}"
      ]
     },
     "execution_count": 9,
     "metadata": {},
     "output_type": "execute_result"
    }
   ],
   "source": [
    "regions_paths_dict"
   ]
  },
  {
   "cell_type": "markdown",
   "id": "a58786aa",
   "metadata": {
    "papermill": {
     "duration": 0.004964,
     "end_time": "2022-09-15T01:45:54.297711",
     "exception": false,
     "start_time": "2022-09-15T01:45:54.292747",
     "status": "completed"
    },
    "tags": []
   },
   "source": [
    "Now, make a sub dictionary of all samples within the fragments dict that have not been run yet (good for resuming a stopped cistopic run):"
   ]
  },
  {
   "cell_type": "code",
   "execution_count": 10,
   "id": "13ad51aa",
   "metadata": {
    "execution": {
     "iopub.execute_input": "2022-09-15T01:45:54.308584Z",
     "iopub.status.busy": "2022-09-15T01:45:54.308192Z",
     "iopub.status.idle": "2022-09-15T01:45:54.312546Z",
     "shell.execute_reply": "2022-09-15T01:45:54.312085Z"
    },
    "papermill": {
     "duration": 0.010768,
     "end_time": "2022-09-15T01:45:54.313461",
     "exception": false,
     "start_time": "2022-09-15T01:45:54.302693",
     "status": "completed"
    },
    "tags": []
   },
   "outputs": [],
   "source": [
    "cistopic_qc_out = os.path.join(wdir, \"cistopic_qc_out_CONSENSUS\")\n",
    "if not os.path.exists(cistopic_qc_out):\n",
    "    os.makedirs(cistopic_qc_out)"
   ]
  },
  {
   "cell_type": "code",
   "execution_count": 11,
   "id": "161f54e5-1e0b-4277-b9ca-f0247df0e4e9",
   "metadata": {
    "execution": {
     "iopub.execute_input": "2022-09-15T01:45:54.325015Z",
     "iopub.status.busy": "2022-09-15T01:45:54.324614Z",
     "iopub.status.idle": "2022-09-15T01:45:54.336979Z",
     "shell.execute_reply": "2022-09-15T01:45:54.336505Z"
    },
    "papermill": {
     "duration": 0.01914,
     "end_time": "2022-09-15T01:45:54.337936",
     "exception": false,
     "start_time": "2022-09-15T01:45:54.318796",
     "status": "completed"
    },
    "tags": []
   },
   "outputs": [
    {
     "name": "stdout",
     "output_type": "stream",
     "text": [
      "Checking if /dodrio/scratch/projects/starting_2022_023/benchmark/scatac_benchmark/downsample_series/35k/cistopic_qc_out_CONSENSUS/BIO_ddseq_1.35k__metadata_bc.pkl exist...\n",
      "\tMetadata does not exist, adding to subdict to generate\n",
      "Checking if /dodrio/scratch/projects/starting_2022_023/benchmark/scatac_benchmark/downsample_series/35k/cistopic_qc_out_CONSENSUS/BIO_ddseq_2.35k__metadata_bc.pkl exist...\n",
      "\tMetadata does not exist, adding to subdict to generate\n",
      "Checking if /dodrio/scratch/projects/starting_2022_023/benchmark/scatac_benchmark/downsample_series/35k/cistopic_qc_out_CONSENSUS/BIO_ddseq_3.35k__metadata_bc.pkl exist...\n",
      "\tMetadata does not exist, adding to subdict to generate\n",
      "Checking if /dodrio/scratch/projects/starting_2022_023/benchmark/scatac_benchmark/downsample_series/35k/cistopic_qc_out_CONSENSUS/BIO_ddseq_4.35k__metadata_bc.pkl exist...\n",
      "\tMetadata does not exist, adding to subdict to generate\n",
      "Checking if /dodrio/scratch/projects/starting_2022_023/benchmark/scatac_benchmark/downsample_series/35k/cistopic_qc_out_CONSENSUS/BRO_mtscatac_1.35k__metadata_bc.pkl exist...\n",
      "\tMetadata does not exist, adding to subdict to generate\n",
      "Checking if /dodrio/scratch/projects/starting_2022_023/benchmark/scatac_benchmark/downsample_series/35k/cistopic_qc_out_CONSENSUS/BRO_mtscatac_2.35k__metadata_bc.pkl exist...\n",
      "\tMetadata does not exist, adding to subdict to generate\n",
      "Checking if /dodrio/scratch/projects/starting_2022_023/benchmark/scatac_benchmark/downsample_series/35k/cistopic_qc_out_CONSENSUS/CNA_10xmultiome_1.35k__metadata_bc.pkl exist...\n",
      "\tMetadata does not exist, adding to subdict to generate\n",
      "Checking if /dodrio/scratch/projects/starting_2022_023/benchmark/scatac_benchmark/downsample_series/35k/cistopic_qc_out_CONSENSUS/CNA_10xmultiome_2.35k__metadata_bc.pkl exist...\n",
      "\tMetadata does not exist, adding to subdict to generate\n",
      "Checking if /dodrio/scratch/projects/starting_2022_023/benchmark/scatac_benchmark/downsample_series/35k/cistopic_qc_out_CONSENSUS/CNA_10xv11_1.35k__metadata_bc.pkl exist...\n",
      "\tMetadata does not exist, adding to subdict to generate\n",
      "Checking if /dodrio/scratch/projects/starting_2022_023/benchmark/scatac_benchmark/downsample_series/35k/cistopic_qc_out_CONSENSUS/CNA_10xv11_2.35k__metadata_bc.pkl exist...\n",
      "\tMetadata does not exist, adding to subdict to generate\n",
      "Checking if /dodrio/scratch/projects/starting_2022_023/benchmark/scatac_benchmark/downsample_series/35k/cistopic_qc_out_CONSENSUS/CNA_10xv11_3.35k__metadata_bc.pkl exist...\n",
      "\tMetadata does not exist, adding to subdict to generate\n",
      "Checking if /dodrio/scratch/projects/starting_2022_023/benchmark/scatac_benchmark/downsample_series/35k/cistopic_qc_out_CONSENSUS/CNA_10xv11_4.35k__metadata_bc.pkl exist...\n",
      "\tMetadata does not exist, adding to subdict to generate\n",
      "Checking if /dodrio/scratch/projects/starting_2022_023/benchmark/scatac_benchmark/downsample_series/35k/cistopic_qc_out_CONSENSUS/CNA_10xv11_5.35k__metadata_bc.pkl exist...\n",
      "\tMetadata does not exist, adding to subdict to generate\n",
      "Checking if /dodrio/scratch/projects/starting_2022_023/benchmark/scatac_benchmark/downsample_series/35k/cistopic_qc_out_CONSENSUS/CNA_10xv2_1.35k__metadata_bc.pkl exist...\n",
      "\tMetadata does not exist, adding to subdict to generate\n",
      "Checking if /dodrio/scratch/projects/starting_2022_023/benchmark/scatac_benchmark/downsample_series/35k/cistopic_qc_out_CONSENSUS/CNA_10xv2_2.35k__metadata_bc.pkl exist...\n",
      "\tMetadata does not exist, adding to subdict to generate\n",
      "Checking if /dodrio/scratch/projects/starting_2022_023/benchmark/scatac_benchmark/downsample_series/35k/cistopic_qc_out_CONSENSUS/CNA_hydrop_1.35k__metadata_bc.pkl exist...\n",
      "\tMetadata does not exist, adding to subdict to generate\n",
      "Checking if /dodrio/scratch/projects/starting_2022_023/benchmark/scatac_benchmark/downsample_series/35k/cistopic_qc_out_CONSENSUS/CNA_hydrop_2.35k__metadata_bc.pkl exist...\n",
      "\tMetadata does not exist, adding to subdict to generate\n",
      "Checking if /dodrio/scratch/projects/starting_2022_023/benchmark/scatac_benchmark/downsample_series/35k/cistopic_qc_out_CONSENSUS/CNA_hydrop_3.35k__metadata_bc.pkl exist...\n",
      "\tMetadata does not exist, adding to subdict to generate\n",
      "Checking if /dodrio/scratch/projects/starting_2022_023/benchmark/scatac_benchmark/downsample_series/35k/cistopic_qc_out_CONSENSUS/CNA_mtscatac_1.35k__metadata_bc.pkl exist...\n",
      "\tMetadata does not exist, adding to subdict to generate\n",
      "Checking if /dodrio/scratch/projects/starting_2022_023/benchmark/scatac_benchmark/downsample_series/35k/cistopic_qc_out_CONSENSUS/CNA_mtscatac_2.35k__metadata_bc.pkl exist...\n",
      "\tMetadata does not exist, adding to subdict to generate\n",
      "Checking if /dodrio/scratch/projects/starting_2022_023/benchmark/scatac_benchmark/downsample_series/35k/cistopic_qc_out_CONSENSUS/EPF_hydrop_1.35k__metadata_bc.pkl exist...\n",
      "\tMetadata does not exist, adding to subdict to generate\n",
      "Checking if /dodrio/scratch/projects/starting_2022_023/benchmark/scatac_benchmark/downsample_series/35k/cistopic_qc_out_CONSENSUS/EPF_hydrop_2.35k__metadata_bc.pkl exist...\n",
      "\tMetadata does not exist, adding to subdict to generate\n",
      "Checking if /dodrio/scratch/projects/starting_2022_023/benchmark/scatac_benchmark/downsample_series/35k/cistopic_qc_out_CONSENSUS/EPF_hydrop_3.35k__metadata_bc.pkl exist...\n",
      "\tMetadata does not exist, adding to subdict to generate\n",
      "Checking if /dodrio/scratch/projects/starting_2022_023/benchmark/scatac_benchmark/downsample_series/35k/cistopic_qc_out_CONSENSUS/EPF_hydrop_4.35k__metadata_bc.pkl exist...\n",
      "\tMetadata does not exist, adding to subdict to generate\n",
      "Checking if /dodrio/scratch/projects/starting_2022_023/benchmark/scatac_benchmark/downsample_series/35k/cistopic_qc_out_CONSENSUS/HAR_ddseq_1.35k__metadata_bc.pkl exist...\n",
      "\tMetadata does not exist, adding to subdict to generate\n",
      "Checking if /dodrio/scratch/projects/starting_2022_023/benchmark/scatac_benchmark/downsample_series/35k/cistopic_qc_out_CONSENSUS/HAR_ddseq_2.35k__metadata_bc.pkl exist...\n",
      "\tMetadata does not exist, adding to subdict to generate\n",
      "Checking if /dodrio/scratch/projects/starting_2022_023/benchmark/scatac_benchmark/downsample_series/35k/cistopic_qc_out_CONSENSUS/MDC_mtscatac_1.35k__metadata_bc.pkl exist...\n",
      "\tMetadata does not exist, adding to subdict to generate\n",
      "Checking if /dodrio/scratch/projects/starting_2022_023/benchmark/scatac_benchmark/downsample_series/35k/cistopic_qc_out_CONSENSUS/MDC_mtscatac_2.35k__metadata_bc.pkl exist...\n",
      "\tMetadata does not exist, adding to subdict to generate\n",
      "Checking if /dodrio/scratch/projects/starting_2022_023/benchmark/scatac_benchmark/downsample_series/35k/cistopic_qc_out_CONSENSUS/OHS_s3atac_1.35k__metadata_bc.pkl exist...\n",
      "\tMetadata does not exist, adding to subdict to generate\n",
      "Checking if /dodrio/scratch/projects/starting_2022_023/benchmark/scatac_benchmark/downsample_series/35k/cistopic_qc_out_CONSENSUS/OHS_s3atac_2.35k__metadata_bc.pkl exist...\n",
      "\tMetadata does not exist, adding to subdict to generate\n",
      "Checking if /dodrio/scratch/projects/starting_2022_023/benchmark/scatac_benchmark/downsample_series/35k/cistopic_qc_out_CONSENSUS/SAN_10xmultiome_1.35k__metadata_bc.pkl exist...\n",
      "\tMetadata does not exist, adding to subdict to generate\n",
      "Checking if /dodrio/scratch/projects/starting_2022_023/benchmark/scatac_benchmark/downsample_series/35k/cistopic_qc_out_CONSENSUS/SAN_10xmultiome_2.35k__metadata_bc.pkl exist...\n",
      "\tMetadata does not exist, adding to subdict to generate\n",
      "Checking if /dodrio/scratch/projects/starting_2022_023/benchmark/scatac_benchmark/downsample_series/35k/cistopic_qc_out_CONSENSUS/STA_10xv11_1.35k__metadata_bc.pkl exist...\n",
      "\tMetadata does not exist, adding to subdict to generate\n",
      "Checking if /dodrio/scratch/projects/starting_2022_023/benchmark/scatac_benchmark/downsample_series/35k/cistopic_qc_out_CONSENSUS/STA_10xv11_2.35k__metadata_bc.pkl exist...\n",
      "\tMetadata does not exist, adding to subdict to generate\n",
      "Checking if /dodrio/scratch/projects/starting_2022_023/benchmark/scatac_benchmark/downsample_series/35k/cistopic_qc_out_CONSENSUS/TXG_10xv11_1.35k__metadata_bc.pkl exist...\n",
      "\tMetadata does not exist, adding to subdict to generate\n",
      "Checking if /dodrio/scratch/projects/starting_2022_023/benchmark/scatac_benchmark/downsample_series/35k/cistopic_qc_out_CONSENSUS/TXG_10xv2_1.35k__metadata_bc.pkl exist...\n",
      "\tMetadata does not exist, adding to subdict to generate\n",
      "Checking if /dodrio/scratch/projects/starting_2022_023/benchmark/scatac_benchmark/downsample_series/35k/cistopic_qc_out_CONSENSUS/TXG_10xv2_2.35k__metadata_bc.pkl exist...\n",
      "\tMetadata does not exist, adding to subdict to generate\n",
      "Checking if /dodrio/scratch/projects/starting_2022_023/benchmark/scatac_benchmark/downsample_series/35k/cistopic_qc_out_CONSENSUS/UCS_ddseq_1.35k__metadata_bc.pkl exist...\n",
      "\tMetadata does not exist, adding to subdict to generate\n",
      "Checking if /dodrio/scratch/projects/starting_2022_023/benchmark/scatac_benchmark/downsample_series/35k/cistopic_qc_out_CONSENSUS/UCS_ddseq_2.35k__metadata_bc.pkl exist...\n",
      "\tMetadata does not exist, adding to subdict to generate\n",
      "Checking if /dodrio/scratch/projects/starting_2022_023/benchmark/scatac_benchmark/downsample_series/35k/cistopic_qc_out_CONSENSUS/VIB_10xmultiome_1.35k__metadata_bc.pkl exist...\n",
      "\tMetadata does not exist, adding to subdict to generate\n",
      "Checking if /dodrio/scratch/projects/starting_2022_023/benchmark/scatac_benchmark/downsample_series/35k/cistopic_qc_out_CONSENSUS/VIB_10xmultiome_2.35k__metadata_bc.pkl exist...\n",
      "\tMetadata does not exist, adding to subdict to generate\n",
      "Checking if /dodrio/scratch/projects/starting_2022_023/benchmark/scatac_benchmark/downsample_series/35k/cistopic_qc_out_CONSENSUS/VIB_10xv1_1.35k__metadata_bc.pkl exist...\n",
      "\tMetadata does not exist, adding to subdict to generate\n",
      "Checking if /dodrio/scratch/projects/starting_2022_023/benchmark/scatac_benchmark/downsample_series/35k/cistopic_qc_out_CONSENSUS/VIB_10xv1_2.35k__metadata_bc.pkl exist...\n",
      "\tMetadata does not exist, adding to subdict to generate\n",
      "Checking if /dodrio/scratch/projects/starting_2022_023/benchmark/scatac_benchmark/downsample_series/35k/cistopic_qc_out_CONSENSUS/VIB_10xv2_1.35k__metadata_bc.pkl exist...\n",
      "\tMetadata does not exist, adding to subdict to generate\n",
      "Checking if /dodrio/scratch/projects/starting_2022_023/benchmark/scatac_benchmark/downsample_series/35k/cistopic_qc_out_CONSENSUS/VIB_10xv2_2.35k__metadata_bc.pkl exist...\n",
      "\tMetadata does not exist, adding to subdict to generate\n",
      "Checking if /dodrio/scratch/projects/starting_2022_023/benchmark/scatac_benchmark/downsample_series/35k/cistopic_qc_out_CONSENSUS/VIB_hydrop_11.35k__metadata_bc.pkl exist...\n",
      "\tMetadata does not exist, adding to subdict to generate\n",
      "Checking if /dodrio/scratch/projects/starting_2022_023/benchmark/scatac_benchmark/downsample_series/35k/cistopic_qc_out_CONSENSUS/VIB_hydrop_12.35k__metadata_bc.pkl exist...\n",
      "\tMetadata does not exist, adding to subdict to generate\n",
      "Checking if /dodrio/scratch/projects/starting_2022_023/benchmark/scatac_benchmark/downsample_series/35k/cistopic_qc_out_CONSENSUS/VIB_hydrop_21.35k__metadata_bc.pkl exist...\n",
      "\tMetadata does not exist, adding to subdict to generate\n",
      "Checking if /dodrio/scratch/projects/starting_2022_023/benchmark/scatac_benchmark/downsample_series/35k/cistopic_qc_out_CONSENSUS/VIB_hydrop_22.35k__metadata_bc.pkl exist...\n",
      "\tMetadata does not exist, adding to subdict to generate\n"
     ]
    }
   ],
   "source": [
    "fragments_sub_dict = {}\n",
    "regions_sub_dict = {}\n",
    "for sample in fragments_dict.keys():\n",
    "    metadata_file = os.path.join(cistopic_qc_out, sample + \"__metadata_bc.pkl\")\n",
    "    print(f\"Checking if {metadata_file} exist...\")\n",
    "    if os.path.exists(metadata_file):\n",
    "        print(\"\\tMetadata exists! Skipping...\")\n",
    "    else:\n",
    "        fragments_sub_dict[sample] = fragments_dict[sample]\n",
    "        print(\"\\tMetadata does not exist, adding to subdict to generate\")"
   ]
  },
  {
   "cell_type": "code",
   "execution_count": 12,
   "id": "b718b167-4d2f-454a-b7f0-4577f12bd1a8",
   "metadata": {
    "execution": {
     "iopub.execute_input": "2022-09-15T01:45:54.350980Z",
     "iopub.status.busy": "2022-09-15T01:45:54.350714Z",
     "iopub.status.idle": "2022-09-15T01:45:54.354645Z",
     "shell.execute_reply": "2022-09-15T01:45:54.354179Z"
    },
    "papermill": {
     "duration": 0.010675,
     "end_time": "2022-09-15T01:45:54.355561",
     "exception": false,
     "start_time": "2022-09-15T01:45:54.344886",
     "status": "completed"
    },
    "tags": []
   },
   "outputs": [],
   "source": [
    "regions_sub_dict = {x: regions_paths_dict[x] for x in sorted(regions_paths_dict.keys())}"
   ]
  },
  {
   "cell_type": "code",
   "execution_count": 13,
   "id": "c5a500ab-e738-4df7-971d-8d70ff2aff0a",
   "metadata": {
    "execution": {
     "iopub.execute_input": "2022-09-15T01:45:54.367072Z",
     "iopub.status.busy": "2022-09-15T01:45:54.366592Z",
     "iopub.status.idle": "2022-09-15T01:45:54.372988Z",
     "shell.execute_reply": "2022-09-15T01:45:54.372546Z"
    },
    "papermill": {
     "duration": 0.013191,
     "end_time": "2022-09-15T01:45:54.373914",
     "exception": false,
     "start_time": "2022-09-15T01:45:54.360723",
     "status": "completed"
    },
    "tags": []
   },
   "outputs": [
    {
     "data": {
      "text/plain": [
       "{'BIO_ddseq_1.35k': '../SCREEN_peaks/BIO_ddseq_1.FIXEDCELLS__SCREEN_consensus_peaks.bed',\n",
       " 'BIO_ddseq_2.35k': '../SCREEN_peaks/BIO_ddseq_2.FIXEDCELLS__SCREEN_consensus_peaks.bed',\n",
       " 'BIO_ddseq_3.35k': '../SCREEN_peaks/BIO_ddseq_3.FIXEDCELLS__SCREEN_consensus_peaks.bed',\n",
       " 'BIO_ddseq_4.35k': '../SCREEN_peaks/BIO_ddseq_4.FIXEDCELLS__SCREEN_consensus_peaks.bed',\n",
       " 'BRO_mtscatac_1.35k': '../SCREEN_peaks/BRO_mtscatac_1.FIXEDCELLS__SCREEN_consensus_peaks.bed',\n",
       " 'BRO_mtscatac_2.35k': '../SCREEN_peaks/BRO_mtscatac_2.FIXEDCELLS__SCREEN_consensus_peaks.bed',\n",
       " 'CNA_10xmultiome_1.35k': '../SCREEN_peaks/CNA_10xmultiome_1.FIXEDCELLS__SCREEN_consensus_peaks.bed',\n",
       " 'CNA_10xmultiome_2.35k': '../SCREEN_peaks/CNA_10xmultiome_2.FIXEDCELLS__SCREEN_consensus_peaks.bed',\n",
       " 'CNA_10xv11_1.35k': '../SCREEN_peaks/CNA_10xv11_1.FIXEDCELLS__SCREEN_consensus_peaks.bed',\n",
       " 'CNA_10xv11_2.35k': '../SCREEN_peaks/CNA_10xv11_2.FIXEDCELLS__SCREEN_consensus_peaks.bed',\n",
       " 'CNA_10xv11_3.35k': '../SCREEN_peaks/CNA_10xv11_3.FIXEDCELLS__SCREEN_consensus_peaks.bed',\n",
       " 'CNA_10xv11_4.35k': '../SCREEN_peaks/CNA_10xv11_4.FIXEDCELLS__SCREEN_consensus_peaks.bed',\n",
       " 'CNA_10xv11_5.35k': '../SCREEN_peaks/CNA_10xv11_5.FIXEDCELLS__SCREEN_consensus_peaks.bed',\n",
       " 'CNA_10xv2_1.35k': '../SCREEN_peaks/CNA_10xv2_1.FIXEDCELLS__SCREEN_consensus_peaks.bed',\n",
       " 'CNA_10xv2_2.35k': '../SCREEN_peaks/CNA_10xv2_2.FIXEDCELLS__SCREEN_consensus_peaks.bed',\n",
       " 'CNA_hydrop_1.35k': '../SCREEN_peaks/CNA_hydrop_1.FIXEDCELLS__SCREEN_consensus_peaks.bed',\n",
       " 'CNA_hydrop_2.35k': '../SCREEN_peaks/CNA_hydrop_2.FIXEDCELLS__SCREEN_consensus_peaks.bed',\n",
       " 'CNA_hydrop_3.35k': '../SCREEN_peaks/CNA_hydrop_3.FIXEDCELLS__SCREEN_consensus_peaks.bed',\n",
       " 'CNA_mtscatac_1.35k': '../SCREEN_peaks/CNA_mtscatac_1.FIXEDCELLS__SCREEN_consensus_peaks.bed',\n",
       " 'CNA_mtscatac_2.35k': '../SCREEN_peaks/CNA_mtscatac_2.FIXEDCELLS__SCREEN_consensus_peaks.bed',\n",
       " 'EPF_hydrop_1.35k': '../SCREEN_peaks/EPF_hydrop_1.FIXEDCELLS__SCREEN_consensus_peaks.bed',\n",
       " 'EPF_hydrop_2.35k': '../SCREEN_peaks/EPF_hydrop_2.FIXEDCELLS__SCREEN_consensus_peaks.bed',\n",
       " 'EPF_hydrop_3.35k': '../SCREEN_peaks/EPF_hydrop_3.FIXEDCELLS__SCREEN_consensus_peaks.bed',\n",
       " 'EPF_hydrop_4.35k': '../SCREEN_peaks/EPF_hydrop_4.FIXEDCELLS__SCREEN_consensus_peaks.bed',\n",
       " 'HAR_ddseq_1.35k': '../SCREEN_peaks/HAR_ddseq_1.FIXEDCELLS__SCREEN_consensus_peaks.bed',\n",
       " 'HAR_ddseq_2.35k': '../SCREEN_peaks/HAR_ddseq_2.FIXEDCELLS__SCREEN_consensus_peaks.bed',\n",
       " 'MDC_mtscatac_1.35k': '../SCREEN_peaks/MDC_mtscatac_1.FIXEDCELLS__SCREEN_consensus_peaks.bed',\n",
       " 'MDC_mtscatac_2.35k': '../SCREEN_peaks/MDC_mtscatac_2.FIXEDCELLS__SCREEN_consensus_peaks.bed',\n",
       " 'OHS_s3atac_1.35k': '../SCREEN_peaks/OHS_s3atac_1.FIXEDCELLS__SCREEN_consensus_peaks.bed',\n",
       " 'OHS_s3atac_2.35k': '../SCREEN_peaks/OHS_s3atac_2.FIXEDCELLS__SCREEN_consensus_peaks.bed',\n",
       " 'SAN_10xmultiome_1.35k': '../SCREEN_peaks/SAN_10xmultiome_1.FIXEDCELLS__SCREEN_consensus_peaks.bed',\n",
       " 'SAN_10xmultiome_2.35k': '../SCREEN_peaks/SAN_10xmultiome_2.FIXEDCELLS__SCREEN_consensus_peaks.bed',\n",
       " 'STA_10xv11_1.35k': '../SCREEN_peaks/STA_10xv11_1.FIXEDCELLS__SCREEN_consensus_peaks.bed',\n",
       " 'STA_10xv11_2.35k': '../SCREEN_peaks/STA_10xv11_2.FIXEDCELLS__SCREEN_consensus_peaks.bed',\n",
       " 'TXG_10xv11_1.35k': '../SCREEN_peaks/TXG_10xv11_1.FIXEDCELLS__SCREEN_consensus_peaks.bed',\n",
       " 'TXG_10xv2_1.35k': '../SCREEN_peaks/TXG_10xv2_1.FIXEDCELLS__SCREEN_consensus_peaks.bed',\n",
       " 'TXG_10xv2_2.35k': '../SCREEN_peaks/TXG_10xv2_2.FIXEDCELLS__SCREEN_consensus_peaks.bed',\n",
       " 'UCS_ddseq_1.35k': '../SCREEN_peaks/UCS_ddseq_1.FIXEDCELLS__SCREEN_consensus_peaks.bed',\n",
       " 'UCS_ddseq_2.35k': '../SCREEN_peaks/UCS_ddseq_2.FIXEDCELLS__SCREEN_consensus_peaks.bed',\n",
       " 'VIB_10xmultiome_1.35k': '../SCREEN_peaks/VIB_10xmultiome_1.FIXEDCELLS__SCREEN_consensus_peaks.bed',\n",
       " 'VIB_10xmultiome_2.35k': '../SCREEN_peaks/VIB_10xmultiome_2.FIXEDCELLS__SCREEN_consensus_peaks.bed',\n",
       " 'VIB_10xv1_1.35k': '../SCREEN_peaks/VIB_10xv1_1.FIXEDCELLS__SCREEN_consensus_peaks.bed',\n",
       " 'VIB_10xv1_2.35k': '../SCREEN_peaks/VIB_10xv1_2.FIXEDCELLS__SCREEN_consensus_peaks.bed',\n",
       " 'VIB_10xv2_1.35k': '../SCREEN_peaks/VIB_10xv2_1.FIXEDCELLS__SCREEN_consensus_peaks.bed',\n",
       " 'VIB_10xv2_2.35k': '../SCREEN_peaks/VIB_10xv2_2.FIXEDCELLS__SCREEN_consensus_peaks.bed',\n",
       " 'VIB_hydrop_1.35k': '../SCREEN_peaks/VIB_hydrop_1.FIXEDCELLS__SCREEN_consensus_peaks.bed',\n",
       " 'VIB_hydrop_11.35k': '../SCREEN_peaks/VIB_hydrop_1.FIXEDCELLS__SCREEN_consensus_peaks.bed',\n",
       " 'VIB_hydrop_12.35k': '../SCREEN_peaks/VIB_hydrop_1.FIXEDCELLS__SCREEN_consensus_peaks.bed',\n",
       " 'VIB_hydrop_2.35k': '../SCREEN_peaks/VIB_hydrop_2.FIXEDCELLS__SCREEN_consensus_peaks.bed',\n",
       " 'VIB_hydrop_21.35k': '../SCREEN_peaks/VIB_hydrop_2.FIXEDCELLS__SCREEN_consensus_peaks.bed',\n",
       " 'VIB_hydrop_22.35k': '../SCREEN_peaks/VIB_hydrop_2.FIXEDCELLS__SCREEN_consensus_peaks.bed'}"
      ]
     },
     "execution_count": 13,
     "metadata": {},
     "output_type": "execute_result"
    }
   ],
   "source": [
    "regions_sub_dict"
   ]
  },
  {
   "cell_type": "code",
   "execution_count": 14,
   "id": "177d09f9-7f1b-4dbc-8969-4f8afca8e12f",
   "metadata": {
    "execution": {
     "iopub.execute_input": "2022-09-15T01:45:54.385571Z",
     "iopub.status.busy": "2022-09-15T01:45:54.385259Z",
     "iopub.status.idle": "2022-09-15T01:45:54.390244Z",
     "shell.execute_reply": "2022-09-15T01:45:54.389812Z"
    },
    "papermill": {
     "duration": 0.011749,
     "end_time": "2022-09-15T01:45:54.391176",
     "exception": false,
     "start_time": "2022-09-15T01:45:54.379427",
     "status": "completed"
    },
    "tags": []
   },
   "outputs": [
    {
     "data": {
      "text/plain": [
       "{'VIB_hydrop_1.35k', 'VIB_hydrop_2.35k'}"
      ]
     },
     "execution_count": 14,
     "metadata": {},
     "output_type": "execute_result"
    }
   ],
   "source": [
    "set(regions_sub_dict) == set(fragments_sub_dict)\n",
    "set(regions_sub_dict) - set(fragments_sub_dict)"
   ]
  },
  {
   "cell_type": "code",
   "execution_count": 15,
   "id": "e4524e19-a30c-49d3-a910-5bc39a9e349e",
   "metadata": {
    "execution": {
     "iopub.execute_input": "2022-09-15T01:45:54.404262Z",
     "iopub.status.busy": "2022-09-15T01:45:54.403765Z",
     "iopub.status.idle": "2022-09-15T01:45:54.407291Z",
     "shell.execute_reply": "2022-09-15T01:45:54.406830Z"
    },
    "papermill": {
     "duration": 0.010352,
     "end_time": "2022-09-15T01:45:54.408194",
     "exception": false,
     "start_time": "2022-09-15T01:45:54.397842",
     "status": "completed"
    },
    "tags": []
   },
   "outputs": [],
   "source": [
    "common = set(fragments_sub_dict).intersection(set(regions_sub_dict))"
   ]
  },
  {
   "cell_type": "code",
   "execution_count": 16,
   "id": "13650870-4b93-4373-a7de-dce223fa0d5a",
   "metadata": {
    "execution": {
     "iopub.execute_input": "2022-09-15T01:45:54.419798Z",
     "iopub.status.busy": "2022-09-15T01:45:54.419387Z",
     "iopub.status.idle": "2022-09-15T01:45:54.423327Z",
     "shell.execute_reply": "2022-09-15T01:45:54.422895Z"
    },
    "papermill": {
     "duration": 0.010683,
     "end_time": "2022-09-15T01:45:54.424221",
     "exception": false,
     "start_time": "2022-09-15T01:45:54.413538",
     "status": "completed"
    },
    "tags": []
   },
   "outputs": [
    {
     "data": {
      "text/plain": [
       "49"
      ]
     },
     "execution_count": 16,
     "metadata": {},
     "output_type": "execute_result"
    }
   ],
   "source": [
    "len(common)"
   ]
  },
  {
   "cell_type": "code",
   "execution_count": 17,
   "id": "b0652173-a623-4a34-babb-bfe872ac0bd0",
   "metadata": {
    "execution": {
     "iopub.execute_input": "2022-09-15T01:45:54.436286Z",
     "iopub.status.busy": "2022-09-15T01:45:54.435885Z",
     "iopub.status.idle": "2022-09-15T01:45:54.440232Z",
     "shell.execute_reply": "2022-09-15T01:45:54.439741Z"
    },
    "papermill": {
     "duration": 0.011355,
     "end_time": "2022-09-15T01:45:54.441107",
     "exception": false,
     "start_time": "2022-09-15T01:45:54.429752",
     "status": "completed"
    },
    "tags": []
   },
   "outputs": [],
   "source": [
    "regions_sub_dict = {x: regions_sub_dict[x] for x in list(common)}\n",
    "fragments_sub_dict = {x: fragments_sub_dict[x] for x in list(common)}"
   ]
  },
  {
   "cell_type": "code",
   "execution_count": 18,
   "id": "92ba8eb2-3d7d-4d66-9eed-a92a54433d2e",
   "metadata": {
    "execution": {
     "iopub.execute_input": "2022-09-15T01:45:54.453005Z",
     "iopub.status.busy": "2022-09-15T01:45:54.452633Z",
     "iopub.status.idle": "2022-09-15T01:45:54.456071Z",
     "shell.execute_reply": "2022-09-15T01:45:54.455620Z"
    },
    "papermill": {
     "duration": 0.010322,
     "end_time": "2022-09-15T01:45:54.456969",
     "exception": false,
     "start_time": "2022-09-15T01:45:54.446647",
     "status": "completed"
    },
    "tags": []
   },
   "outputs": [],
   "source": [
    "ray.shutdown()"
   ]
  },
  {
   "cell_type": "code",
   "execution_count": 19,
   "id": "0a585a26",
   "metadata": {
    "execution": {
     "iopub.execute_input": "2022-09-15T01:45:54.469106Z",
     "iopub.status.busy": "2022-09-15T01:45:54.468831Z",
     "iopub.status.idle": "2022-09-15T06:07:38.944178Z",
     "shell.execute_reply": "2022-09-15T06:07:38.943522Z"
    },
    "papermill": {
     "duration": 15704.483785,
     "end_time": "2022-09-15T06:07:38.946302",
     "exception": false,
     "start_time": "2022-09-15T01:45:54.462517",
     "status": "completed"
    },
    "tags": []
   },
   "outputs": [
    {
     "name": "stderr",
     "output_type": "stream",
     "text": [
      "2022-09-15 01:45:59,608\tINFO services.py:1470 -- View the Ray dashboard at \u001b[1m\u001b[32mhttp://127.0.0.1:8265\u001b[39m\u001b[22m\n"
     ]
    },
    {
     "name": "stdout",
     "output_type": "stream",
     "text": [
      "\u001b[2m\u001b[36m(compute_qc_stats_ray pid=3083549)\u001b[0m 2022-09-15 01:46:52,498 cisTopic     INFO     Reading VIB_10xv2_2.35k\n",
      "\u001b[2m\u001b[36m(compute_qc_stats_ray pid=3083548)\u001b[0m 2022-09-15 01:46:52,525 cisTopic     INFO     Reading HAR_ddseq_1.35k\n"
     ]
    },
    {
     "name": "stdout",
     "output_type": "stream",
     "text": [
      "\u001b[2m\u001b[36m(compute_qc_stats_ray pid=3083546)\u001b[0m 2022-09-15 01:46:52,686 cisTopic     INFO     Reading CNA_hydrop_2.35k\n",
      "\u001b[2m\u001b[36m(compute_qc_stats_ray pid=3083545)\u001b[0m 2022-09-15 01:46:52,735 cisTopic     INFO     Reading VIB_10xmultiome_1.35k\n"
     ]
    },
    {
     "name": "stdout",
     "output_type": "stream",
     "text": [
      "\u001b[2m\u001b[36m(compute_qc_stats_ray pid=3083542)\u001b[0m 2022-09-15 01:46:53,034 cisTopic     INFO     Reading CNA_10xmultiome_2.35k\n"
     ]
    },
    {
     "name": "stdout",
     "output_type": "stream",
     "text": [
      "\u001b[2m\u001b[36m(compute_qc_stats_ray pid=3083543)\u001b[0m 2022-09-15 01:46:53,954 cisTopic     INFO     Reading MDC_mtscatac_1.35k\n",
      "\u001b[2m\u001b[36m(compute_qc_stats_ray pid=3083544)\u001b[0m 2022-09-15 01:46:53,822 cisTopic     INFO     Reading EPF_hydrop_3.35k\n"
     ]
    },
    {
     "name": "stdout",
     "output_type": "stream",
     "text": [
      "\u001b[2m\u001b[36m(compute_qc_stats_ray pid=3083540)\u001b[0m 2022-09-15 01:46:54,241 cisTopic     INFO     Reading MDC_mtscatac_2.35k\n",
      "\u001b[2m\u001b[36m(compute_qc_stats_ray pid=3083541)\u001b[0m 2022-09-15 01:46:54,330 cisTopic     INFO     Reading VIB_hydrop_22.35k\n"
     ]
    },
    {
     "name": "stdout",
     "output_type": "stream",
     "text": [
      "\u001b[2m\u001b[36m(compute_qc_stats_ray pid=3083539)\u001b[0m 2022-09-15 01:46:54,750 cisTopic     INFO     Reading TXG_10xv2_1.35k\n",
      "\u001b[2m\u001b[36m(compute_qc_stats_ray pid=3083536)\u001b[0m 2022-09-15 01:46:54,852 cisTopic     INFO     Reading SAN_10xmultiome_1.35k\n"
     ]
    },
    {
     "name": "stdout",
     "output_type": "stream",
     "text": [
      "\u001b[2m\u001b[36m(compute_qc_stats_ray pid=3083537)\u001b[0m 2022-09-15 01:46:54,953 cisTopic     INFO     Reading CNA_10xmultiome_1.35k\n"
     ]
    },
    {
     "name": "stdout",
     "output_type": "stream",
     "text": [
      "\u001b[2m\u001b[36m(compute_qc_stats_ray pid=3083534)\u001b[0m 2022-09-15 01:46:55,170 cisTopic     INFO     Reading EPF_hydrop_1.35k\n"
     ]
    },
    {
     "name": "stdout",
     "output_type": "stream",
     "text": [
      "\u001b[2m\u001b[36m(compute_qc_stats_ray pid=3083532)\u001b[0m 2022-09-15 01:46:55,369 cisTopic     INFO     Reading CNA_10xv2_1.35k\n",
      "\u001b[2m\u001b[36m(compute_qc_stats_ray pid=3083535)\u001b[0m 2022-09-15 01:46:55,429 cisTopic     INFO     Reading EPF_hydrop_2.35k\n"
     ]
    },
    {
     "name": "stdout",
     "output_type": "stream",
     "text": [
      "\u001b[2m\u001b[36m(compute_qc_stats_ray pid=3083533)\u001b[0m 2022-09-15 01:46:55,903 cisTopic     INFO     Reading STA_10xv11_1.35k\n"
     ]
    },
    {
     "name": "stdout",
     "output_type": "stream",
     "text": [
      "\u001b[2m\u001b[36m(compute_qc_stats_ray pid=3083545)\u001b[0m 2022-09-15 01:52:49,210 cisTopic     INFO     Computing barcode rank plot for VIB_10xmultiome_1.35k\n",
      "\u001b[2m\u001b[36m(compute_qc_stats_ray pid=3083545)\u001b[0m 2022-09-15 01:52:49,216 cisTopic     INFO     Counting fragments\n"
     ]
    },
    {
     "name": "stdout",
     "output_type": "stream",
     "text": [
      "\u001b[2m\u001b[36m(compute_qc_stats_ray pid=3083545)\u001b[0m 2022-09-15 01:53:08,048 cisTopic     INFO     Marking barcodes with more than 10\n"
     ]
    },
    {
     "name": "stdout",
     "output_type": "stream",
     "text": [
      "\u001b[2m\u001b[36m(compute_qc_stats_ray pid=3083545)\u001b[0m 2022-09-15 01:53:08,728 cisTopic     INFO     Returning plot data\n",
      "\u001b[2m\u001b[36m(compute_qc_stats_ray pid=3083545)\u001b[0m 2022-09-15 01:53:08,784 cisTopic     INFO     Returning valid barcodes\n"
     ]
    },
    {
     "name": "stdout",
     "output_type": "stream",
     "text": [
      "\u001b[2m\u001b[36m(compute_qc_stats_ray pid=3083533)\u001b[0m 2022-09-15 01:53:09,872 cisTopic     INFO     Computing barcode rank plot for STA_10xv11_1.35k\n",
      "\u001b[2m\u001b[36m(compute_qc_stats_ray pid=3083533)\u001b[0m 2022-09-15 01:53:09,872 cisTopic     INFO     Counting fragments\n"
     ]
    },
    {
     "name": "stdout",
     "output_type": "stream",
     "text": [
      "\u001b[2m\u001b[36m(compute_qc_stats_ray pid=3083533)\u001b[0m 2022-09-15 01:53:25,882 cisTopic     INFO     Marking barcodes with more than 10\n"
     ]
    },
    {
     "name": "stdout",
     "output_type": "stream",
     "text": [
      "\u001b[2m\u001b[36m(compute_qc_stats_ray pid=3083533)\u001b[0m 2022-09-15 01:53:26,530 cisTopic     INFO     Returning plot data\n",
      "\u001b[2m\u001b[36m(compute_qc_stats_ray pid=3083533)\u001b[0m 2022-09-15 01:53:26,532 cisTopic     INFO     Returning valid barcodes\n"
     ]
    },
    {
     "name": "stdout",
     "output_type": "stream",
     "text": [
      "\u001b[2m\u001b[36m(compute_qc_stats_ray pid=3083545)\u001b[0m 2022-09-15 01:53:27,136 cisTopic     INFO     Computing duplicate rate plot for VIB_10xmultiome_1.35k\n"
     ]
    },
    {
     "name": "stdout",
     "output_type": "stream",
     "text": [
      "\u001b[2m\u001b[36m(compute_qc_stats_ray pid=3083541)\u001b[0m 2022-09-15 01:53:36,388 cisTopic     INFO     Computing barcode rank plot for VIB_hydrop_22.35k\n",
      "\u001b[2m\u001b[36m(compute_qc_stats_ray pid=3083541)\u001b[0m 2022-09-15 01:53:36,389 cisTopic     INFO     Counting fragments\n"
     ]
    },
    {
     "name": "stdout",
     "output_type": "stream",
     "text": [
      "\u001b[2m\u001b[36m(compute_qc_stats_ray pid=3083533)\u001b[0m 2022-09-15 01:53:44,464 cisTopic     INFO     Computing duplicate rate plot for STA_10xv11_1.35k\n"
     ]
    },
    {
     "name": "stdout",
     "output_type": "stream",
     "text": [
      "\u001b[2m\u001b[36m(compute_qc_stats_ray pid=3083541)\u001b[0m 2022-09-15 01:53:49,261 cisTopic     INFO     Marking barcodes with more than 10\n"
     ]
    },
    {
     "name": "stdout",
     "output_type": "stream",
     "text": [
      "\u001b[2m\u001b[36m(compute_qc_stats_ray pid=3083541)\u001b[0m 2022-09-15 01:53:49,988 cisTopic     INFO     Returning plot data\n"
     ]
    },
    {
     "name": "stdout",
     "output_type": "stream",
     "text": [
      "\u001b[2m\u001b[36m(compute_qc_stats_ray pid=3083541)\u001b[0m 2022-09-15 01:53:50,131 cisTopic     INFO     Returning valid barcodes\n"
     ]
    },
    {
     "name": "stdout",
     "output_type": "stream",
     "text": [
      "\u001b[2m\u001b[36m(compute_qc_stats_ray pid=3083541)\u001b[0m 2022-09-15 01:54:00,703 cisTopic     INFO     Computing duplicate rate plot for VIB_hydrop_22.35k\n"
     ]
    },
    {
     "name": "stdout",
     "output_type": "stream",
     "text": [
      "\u001b[2m\u001b[36m(compute_qc_stats_ray pid=3083545)\u001b[0m 2022-09-15 01:54:04,506 cisTopic     INFO     Return plot data\n"
     ]
    },
    {
     "name": "stdout",
     "output_type": "stream",
     "text": [
      "\u001b[2m\u001b[36m(compute_qc_stats_ray pid=3083545)\u001b[0m 2022-09-15 01:54:05,983 cisTopic     INFO     Computing insert size distribution for VIB_10xmultiome_1.35k\n",
      "\u001b[2m\u001b[36m(compute_qc_stats_ray pid=3083545)\u001b[0m 2022-09-15 01:54:06,079 cisTopic     INFO     Counting fragments\n"
     ]
    },
    {
     "name": "stdout",
     "output_type": "stream",
     "text": [
      "\u001b[2m\u001b[36m(compute_qc_stats_ray pid=3083545)\u001b[0m 2022-09-15 01:54:13,937 cisTopic     INFO     Returning plot data\n"
     ]
    },
    {
     "name": "stdout",
     "output_type": "stream",
     "text": [
      "\u001b[2m\u001b[36m(compute_qc_stats_ray pid=3083533)\u001b[0m 2022-09-15 01:54:15,134 cisTopic     INFO     Return plot data\n"
     ]
    },
    {
     "name": "stdout",
     "output_type": "stream",
     "text": [
      "\u001b[2m\u001b[36m(compute_qc_stats_ray pid=3083533)\u001b[0m 2022-09-15 01:54:16,728 cisTopic     INFO     Computing insert size distribution for STA_10xv11_1.35k\n",
      "\u001b[2m\u001b[36m(compute_qc_stats_ray pid=3083533)\u001b[0m 2022-09-15 01:54:16,728 cisTopic     INFO     Counting fragments\n"
     ]
    },
    {
     "name": "stdout",
     "output_type": "stream",
     "text": [
      "\u001b[2m\u001b[36m(compute_qc_stats_ray pid=3083541)\u001b[0m 2022-09-15 01:54:20,675 cisTopic     INFO     Return plot data\n"
     ]
    },
    {
     "name": "stdout",
     "output_type": "stream",
     "text": [
      "\u001b[2m\u001b[36m(compute_qc_stats_ray pid=3083541)\u001b[0m 2022-09-15 01:54:22,262 cisTopic     INFO     Computing insert size distribution for VIB_hydrop_22.35k\n",
      "\u001b[2m\u001b[36m(compute_qc_stats_ray pid=3083541)\u001b[0m 2022-09-15 01:54:22,262 cisTopic     INFO     Counting fragments\n"
     ]
    },
    {
     "name": "stdout",
     "output_type": "stream",
     "text": [
      "\u001b[2m\u001b[36m(compute_qc_stats_ray pid=3083533)\u001b[0m 2022-09-15 01:54:24,346 cisTopic     INFO     Returning plot data\n"
     ]
    },
    {
     "name": "stdout",
     "output_type": "stream",
     "text": [
      "\u001b[2m\u001b[36m(compute_qc_stats_ray pid=3083541)\u001b[0m 2022-09-15 01:54:25,647 cisTopic     INFO     Returning plot data\n"
     ]
    },
    {
     "name": "stdout",
     "output_type": "stream",
     "text": [
      "\u001b[2m\u001b[36m(compute_qc_stats_ray pid=3083544)\u001b[0m 2022-09-15 01:55:32,435 cisTopic     INFO     Computing barcode rank plot for EPF_hydrop_3.35k\n",
      "\u001b[2m\u001b[36m(compute_qc_stats_ray pid=3083544)\u001b[0m 2022-09-15 01:55:32,435 cisTopic     INFO     Counting fragments\n"
     ]
    },
    {
     "name": "stdout",
     "output_type": "stream",
     "text": [
      "\u001b[2m\u001b[36m(compute_qc_stats_ray pid=3083544)\u001b[0m 2022-09-15 01:55:58,307 cisTopic     INFO     Marking barcodes with more than 10\n"
     ]
    },
    {
     "name": "stdout",
     "output_type": "stream",
     "text": [
      "\u001b[2m\u001b[36m(compute_qc_stats_ray pid=3083544)\u001b[0m 2022-09-15 01:55:58,797 cisTopic     INFO     Returning plot data\n"
     ]
    },
    {
     "name": "stdout",
     "output_type": "stream",
     "text": [
      "\u001b[2m\u001b[36m(compute_qc_stats_ray pid=3083544)\u001b[0m 2022-09-15 01:55:59,006 cisTopic     INFO     Returning valid barcodes\n"
     ]
    },
    {
     "name": "stdout",
     "output_type": "stream",
     "text": [
      "\u001b[2m\u001b[36m(compute_qc_stats_ray pid=3083541)\u001b[0m 2022-09-15 01:55:59,218 cisTopic     INFO     Computing TSS profile for VIB_hydrop_22.35k\n"
     ]
    },
    {
     "name": "stdout",
     "output_type": "stream",
     "text": [
      "\u001b[2m\u001b[36m(compute_qc_stats_ray pid=3083535)\u001b[0m 2022-09-15 01:56:00,419 cisTopic     INFO     Computing barcode rank plot for EPF_hydrop_2.35k\n",
      "\u001b[2m\u001b[36m(compute_qc_stats_ray pid=3083535)\u001b[0m 2022-09-15 01:56:00,419 cisTopic     INFO     Counting fragments\n"
     ]
    },
    {
     "name": "stdout",
     "output_type": "stream",
     "text": [
      "\u001b[2m\u001b[36m(compute_qc_stats_ray pid=3083544)\u001b[0m 2022-09-15 01:56:20,280 cisTopic     INFO     Computing duplicate rate plot for EPF_hydrop_3.35k\n"
     ]
    },
    {
     "name": "stdout",
     "output_type": "stream",
     "text": [
      "\u001b[2m\u001b[36m(compute_qc_stats_ray pid=3083535)\u001b[0m 2022-09-15 01:56:23,360 cisTopic     INFO     Marking barcodes with more than 10\n"
     ]
    },
    {
     "name": "stdout",
     "output_type": "stream",
     "text": [
      "\u001b[2m\u001b[36m(compute_qc_stats_ray pid=3083535)\u001b[0m 2022-09-15 01:56:24,241 cisTopic     INFO     Returning plot data\n",
      "\u001b[2m\u001b[36m(compute_qc_stats_ray pid=3083535)\u001b[0m 2022-09-15 01:56:24,396 cisTopic     INFO     Returning valid barcodes\n"
     ]
    },
    {
     "name": "stdout",
     "output_type": "stream",
     "text": [
      "\u001b[2m\u001b[36m(compute_qc_stats_ray pid=3083541)\u001b[0m 2022-09-15 01:56:28,527 cisTopic     INFO     Formatting annnotation\n"
     ]
    },
    {
     "name": "stdout",
     "output_type": "stream",
     "text": [
      "\u001b[2m\u001b[36m(compute_qc_stats_ray pid=3083541)\u001b[0m 2022-09-15 01:56:29,912 cisTopic     INFO     Creating coverage matrix\n"
     ]
    },
    {
     "name": "stdout",
     "output_type": "stream",
     "text": [
      "\u001b[2m\u001b[36m(compute_qc_stats_ray pid=3083535)\u001b[0m 2022-09-15 01:56:43,453 cisTopic     INFO     Computing duplicate rate plot for EPF_hydrop_2.35k\n"
     ]
    },
    {
     "name": "stdout",
     "output_type": "stream",
     "text": [
      "\u001b[2m\u001b[36m(compute_qc_stats_ray pid=3083544)\u001b[0m 2022-09-15 01:56:51,983 cisTopic     INFO     Return plot data\n"
     ]
    },
    {
     "name": "stdout",
     "output_type": "stream",
     "text": [
      "\u001b[2m\u001b[36m(compute_qc_stats_ray pid=3083544)\u001b[0m 2022-09-15 01:56:53,262 cisTopic     INFO     Computing insert size distribution for EPF_hydrop_3.35k\n",
      "\u001b[2m\u001b[36m(compute_qc_stats_ray pid=3083544)\u001b[0m 2022-09-15 01:56:53,262 cisTopic     INFO     Counting fragments\n"
     ]
    },
    {
     "name": "stdout",
     "output_type": "stream",
     "text": [
      "\u001b[2m\u001b[36m(compute_qc_stats_ray pid=3083544)\u001b[0m 2022-09-15 01:57:00,678 cisTopic     INFO     Returning plot data\n"
     ]
    },
    {
     "name": "stdout",
     "output_type": "stream",
     "text": [
      "\u001b[2m\u001b[36m(compute_qc_stats_ray pid=3083545)\u001b[0m 2022-09-15 01:57:05,092 cisTopic     INFO     Computing TSS profile for VIB_10xmultiome_1.35k\n"
     ]
    },
    {
     "name": "stdout",
     "output_type": "stream",
     "text": [
      "\u001b[2m\u001b[36m(compute_qc_stats_ray pid=3083535)\u001b[0m 2022-09-15 01:57:13,402 cisTopic     INFO     Return plot data\n"
     ]
    },
    {
     "name": "stdout",
     "output_type": "stream",
     "text": [
      "\u001b[2m\u001b[36m(compute_qc_stats_ray pid=3083533)\u001b[0m 2022-09-15 01:57:13,881 cisTopic     INFO     Computing TSS profile for STA_10xv11_1.35k\n"
     ]
    },
    {
     "name": "stdout",
     "output_type": "stream",
     "text": [
      "\u001b[2m\u001b[36m(compute_qc_stats_ray pid=3083535)\u001b[0m 2022-09-15 01:57:14,855 cisTopic     INFO     Computing insert size distribution for EPF_hydrop_2.35k\n",
      "\u001b[2m\u001b[36m(compute_qc_stats_ray pid=3083535)\u001b[0m 2022-09-15 01:57:14,856 cisTopic     INFO     Counting fragments\n"
     ]
    },
    {
     "name": "stdout",
     "output_type": "stream",
     "text": [
      "\u001b[2m\u001b[36m(compute_qc_stats_ray pid=3083535)\u001b[0m 2022-09-15 01:57:22,827 cisTopic     INFO     Returning plot data\n"
     ]
    },
    {
     "name": "stdout",
     "output_type": "stream",
     "text": [
      "\u001b[2m\u001b[36m(compute_qc_stats_ray pid=3083546)\u001b[0m 2022-09-15 01:57:32,787 cisTopic     INFO     Computing barcode rank plot for CNA_hydrop_2.35k\n",
      "\u001b[2m\u001b[36m(compute_qc_stats_ray pid=3083546)\u001b[0m 2022-09-15 01:57:32,788 cisTopic     INFO     Counting fragments\n"
     ]
    },
    {
     "name": "stdout",
     "output_type": "stream",
     "text": [
      "\u001b[2m\u001b[36m(compute_qc_stats_ray pid=3083545)\u001b[0m 2022-09-15 01:57:36,154 cisTopic     INFO     Formatting annnotation\n"
     ]
    },
    {
     "name": "stdout",
     "output_type": "stream",
     "text": [
      "\u001b[2m\u001b[36m(compute_qc_stats_ray pid=3083545)\u001b[0m 2022-09-15 01:57:37,316 cisTopic     INFO     Creating coverage matrix\n"
     ]
    },
    {
     "name": "stdout",
     "output_type": "stream",
     "text": [
      "\u001b[2m\u001b[36m(compute_qc_stats_ray pid=3083533)\u001b[0m 2022-09-15 01:57:43,527 cisTopic     INFO     Formatting annnotation\n"
     ]
    },
    {
     "name": "stdout",
     "output_type": "stream",
     "text": [
      "\u001b[2m\u001b[36m(compute_qc_stats_ray pid=3083533)\u001b[0m 2022-09-15 01:57:44,723 cisTopic     INFO     Creating coverage matrix\n"
     ]
    },
    {
     "name": "stdout",
     "output_type": "stream",
     "text": [
      "\u001b[2m\u001b[36m(compute_qc_stats_ray pid=3083546)\u001b[0m 2022-09-15 01:57:56,552 cisTopic     INFO     Marking barcodes with more than 10\n"
     ]
    },
    {
     "name": "stdout",
     "output_type": "stream",
     "text": [
      "\u001b[2m\u001b[36m(compute_qc_stats_ray pid=3083546)\u001b[0m 2022-09-15 01:57:57,117 cisTopic     INFO     Returning plot data\n"
     ]
    },
    {
     "name": "stdout",
     "output_type": "stream",
     "text": [
      "\u001b[2m\u001b[36m(compute_qc_stats_ray pid=3083546)\u001b[0m 2022-09-15 01:57:57,302 cisTopic     INFO     Returning valid barcodes\n"
     ]
    },
    {
     "name": "stdout",
     "output_type": "stream",
     "text": [
      "\u001b[2m\u001b[36m(compute_qc_stats_ray pid=3083546)\u001b[0m 2022-09-15 01:58:19,280 cisTopic     INFO     Computing duplicate rate plot for CNA_hydrop_2.35k\n"
     ]
    },
    {
     "name": "stdout",
     "output_type": "stream",
     "text": [
      "\u001b[2m\u001b[36m(compute_qc_stats_ray pid=3083546)\u001b[0m 2022-09-15 01:58:49,275 cisTopic     INFO     Return plot data\n"
     ]
    },
    {
     "name": "stdout",
     "output_type": "stream",
     "text": [
      "\u001b[2m\u001b[36m(compute_qc_stats_ray pid=3083546)\u001b[0m 2022-09-15 01:58:50,549 cisTopic     INFO     Computing insert size distribution for CNA_hydrop_2.35k\n",
      "\u001b[2m\u001b[36m(compute_qc_stats_ray pid=3083546)\u001b[0m 2022-09-15 01:58:50,550 cisTopic     INFO     Counting fragments\n"
     ]
    },
    {
     "name": "stdout",
     "output_type": "stream",
     "text": [
      "\u001b[2m\u001b[36m(compute_qc_stats_ray pid=3083546)\u001b[0m 2022-09-15 01:58:59,962 cisTopic     INFO     Returning plot data\n"
     ]
    },
    {
     "name": "stdout",
     "output_type": "stream",
     "text": [
      "\u001b[2m\u001b[36m(compute_qc_stats_ray pid=3083534)\u001b[0m 2022-09-15 01:59:07,351 cisTopic     INFO     Computing barcode rank plot for EPF_hydrop_1.35k\n",
      "\u001b[2m\u001b[36m(compute_qc_stats_ray pid=3083534)\u001b[0m 2022-09-15 01:59:07,351 cisTopic     INFO     Counting fragments\n"
     ]
    },
    {
     "name": "stdout",
     "output_type": "stream",
     "text": [
      "\u001b[2m\u001b[36m(compute_qc_stats_ray pid=3083534)\u001b[0m 2022-09-15 01:59:26,121 cisTopic     INFO     Marking barcodes with more than 10\n"
     ]
    },
    {
     "name": "stdout",
     "output_type": "stream",
     "text": [
      "\u001b[2m\u001b[36m(compute_qc_stats_ray pid=3083534)\u001b[0m 2022-09-15 01:59:26,604 cisTopic     INFO     Returning plot data\n"
     ]
    },
    {
     "name": "stdout",
     "output_type": "stream",
     "text": [
      "\u001b[2m\u001b[36m(compute_qc_stats_ray pid=3083534)\u001b[0m 2022-09-15 01:59:26,842 cisTopic     INFO     Returning valid barcodes\n"
     ]
    },
    {
     "name": "stdout",
     "output_type": "stream",
     "text": [
      "\u001b[2m\u001b[36m(compute_qc_stats_ray pid=3083534)\u001b[0m 2022-09-15 01:59:46,557 cisTopic     INFO     Computing duplicate rate plot for EPF_hydrop_1.35k\n"
     ]
    },
    {
     "name": "stdout",
     "output_type": "stream",
     "text": [
      "\u001b[2m\u001b[36m(compute_qc_stats_ray pid=3083544)\u001b[0m 2022-09-15 01:59:46,952 cisTopic     INFO     Computing TSS profile for EPF_hydrop_3.35k\n"
     ]
    },
    {
     "name": "stdout",
     "output_type": "stream",
     "text": [
      "\u001b[2m\u001b[36m(compute_qc_stats_ray pid=3083535)\u001b[0m 2022-09-15 02:00:07,858 cisTopic     INFO     Computing TSS profile for EPF_hydrop_2.35k\n"
     ]
    },
    {
     "name": "stdout",
     "output_type": "stream",
     "text": [
      "\u001b[2m\u001b[36m(compute_qc_stats_ray pid=3083534)\u001b[0m 2022-09-15 02:00:15,067 cisTopic     INFO     Return plot data\n"
     ]
    },
    {
     "name": "stdout",
     "output_type": "stream",
     "text": [
      "\u001b[2m\u001b[36m(compute_qc_stats_ray pid=3083534)\u001b[0m 2022-09-15 02:00:16,390 cisTopic     INFO     Computing insert size distribution for EPF_hydrop_1.35k\n",
      "\u001b[2m\u001b[36m(compute_qc_stats_ray pid=3083534)\u001b[0m 2022-09-15 02:00:16,390 cisTopic     INFO     Counting fragments\n"
     ]
    },
    {
     "name": "stdout",
     "output_type": "stream",
     "text": [
      "\u001b[2m\u001b[36m(compute_qc_stats_ray pid=3083534)\u001b[0m 2022-09-15 02:00:24,390 cisTopic     INFO     Returning plot data\n"
     ]
    },
    {
     "name": "stdout",
     "output_type": "stream",
     "text": [
      "\u001b[2m\u001b[36m(compute_qc_stats_ray pid=3083544)\u001b[0m 2022-09-15 02:00:49,407 cisTopic     INFO     Formatting annnotation\n"
     ]
    },
    {
     "name": "stdout",
     "output_type": "stream",
     "text": [
      "\u001b[2m\u001b[36m(compute_qc_stats_ray pid=3083544)\u001b[0m 2022-09-15 02:00:50,429 cisTopic     INFO     Creating coverage matrix\n"
     ]
    },
    {
     "name": "stdout",
     "output_type": "stream",
     "text": [
      "\u001b[2m\u001b[36m(compute_qc_stats_ray pid=3083535)\u001b[0m 2022-09-15 02:01:10,630 cisTopic     INFO     Formatting annnotation\n"
     ]
    },
    {
     "name": "stdout",
     "output_type": "stream",
     "text": [
      "\u001b[2m\u001b[36m(compute_qc_stats_ray pid=3083535)\u001b[0m 2022-09-15 02:01:11,672 cisTopic     INFO     Creating coverage matrix\n"
     ]
    },
    {
     "name": "stdout",
     "output_type": "stream",
     "text": [
      "\u001b[2m\u001b[36m(compute_qc_stats_ray pid=3083533)\u001b[0m 2022-09-15 02:01:51,229 cisTopic     INFO     Coverage matrix done\n"
     ]
    },
    {
     "name": "stdout",
     "output_type": "stream",
     "text": [
      "\u001b[2m\u001b[36m(compute_qc_stats_ray pid=3083549)\u001b[0m 2022-09-15 02:01:52,337 cisTopic     INFO     Computing barcode rank plot for VIB_10xv2_2.35k\n",
      "\u001b[2m\u001b[36m(compute_qc_stats_ray pid=3083549)\u001b[0m 2022-09-15 02:01:52,337 cisTopic     INFO     Counting fragments\n"
     ]
    },
    {
     "name": "stdout",
     "output_type": "stream",
     "text": [
      "\u001b[2m\u001b[36m(compute_qc_stats_ray pid=3083537)\u001b[0m 2022-09-15 02:02:05,268 cisTopic     INFO     Computing barcode rank plot for CNA_10xmultiome_1.35k\n",
      "\u001b[2m\u001b[36m(compute_qc_stats_ray pid=3083537)\u001b[0m 2022-09-15 02:02:05,268 cisTopic     INFO     Counting fragments\n"
     ]
    },
    {
     "name": "stdout",
     "output_type": "stream",
     "text": [
      "\u001b[2m\u001b[36m(compute_qc_stats_ray pid=3083545)\u001b[0m 2022-09-15 02:02:10,146 cisTopic     INFO     Coverage matrix done\n"
     ]
    },
    {
     "name": "stdout",
     "output_type": "stream",
     "text": [
      "\u001b[2m\u001b[36m(compute_qc_stats_ray pid=3083549)\u001b[0m 2022-09-15 02:02:28,399 cisTopic     INFO     Marking barcodes with more than 10\n"
     ]
    },
    {
     "name": "stdout",
     "output_type": "stream",
     "text": [
      "\u001b[2m\u001b[36m(compute_qc_stats_ray pid=3083549)\u001b[0m 2022-09-15 02:02:29,300 cisTopic     INFO     Returning plot data\n",
      "\u001b[2m\u001b[36m(compute_qc_stats_ray pid=3083549)\u001b[0m 2022-09-15 02:02:29,302 cisTopic     INFO     Returning valid barcodes\n"
     ]
    },
    {
     "name": "stdout",
     "output_type": "stream",
     "text": [
      "\u001b[2m\u001b[36m(compute_qc_stats_ray pid=3083532)\u001b[0m 2022-09-15 02:02:45,134 cisTopic     INFO     Computing barcode rank plot for CNA_10xv2_1.35k\n",
      "\u001b[2m\u001b[36m(compute_qc_stats_ray pid=3083532)\u001b[0m 2022-09-15 02:02:45,134 cisTopic     INFO     Counting fragments\n"
     ]
    },
    {
     "name": "stdout",
     "output_type": "stream",
     "text": [
      "\u001b[2m\u001b[36m(compute_qc_stats_ray pid=3083537)\u001b[0m 2022-09-15 02:02:51,075 cisTopic     INFO     Marking barcodes with more than 10\n"
     ]
    },
    {
     "name": "stdout",
     "output_type": "stream",
     "text": [
      "\u001b[2m\u001b[36m(compute_qc_stats_ray pid=3083537)\u001b[0m 2022-09-15 02:02:52,440 cisTopic     INFO     Returning plot data\n",
      "\u001b[2m\u001b[36m(compute_qc_stats_ray pid=3083537)\u001b[0m 2022-09-15 02:02:52,546 cisTopic     INFO     Returning valid barcodes\n"
     ]
    },
    {
     "name": "stdout",
     "output_type": "stream",
     "text": [
      "\u001b[2m\u001b[36m(compute_qc_stats_ray pid=3083549)\u001b[0m 2022-09-15 02:03:21,146 cisTopic     INFO     Computing duplicate rate plot for VIB_10xv2_2.35k\n"
     ]
    },
    {
     "name": "stdout",
     "output_type": "stream",
     "text": [
      "\u001b[2m\u001b[36m(compute_qc_stats_ray pid=3083534)\u001b[0m 2022-09-15 02:03:23,834 cisTopic     INFO     Computing TSS profile for EPF_hydrop_1.35k\n"
     ]
    },
    {
     "name": "stdout",
     "output_type": "stream",
     "text": [
      "\u001b[2m\u001b[36m(compute_qc_stats_ray pid=3083532)\u001b[0m 2022-09-15 02:03:33,812 cisTopic     INFO     Marking barcodes with more than 10\n"
     ]
    },
    {
     "name": "stdout",
     "output_type": "stream",
     "text": [
      "\u001b[2m\u001b[36m(compute_qc_stats_ray pid=3083532)\u001b[0m 2022-09-15 02:03:34,895 cisTopic     INFO     Returning plot data\n",
      "\u001b[2m\u001b[36m(compute_qc_stats_ray pid=3083532)\u001b[0m 2022-09-15 02:03:34,904 cisTopic     INFO     Returning valid barcodes\n"
     ]
    },
    {
     "name": "stdout",
     "output_type": "stream",
     "text": [
      "\u001b[2m\u001b[36m(compute_qc_stats_ray pid=3083541)\u001b[0m 2022-09-15 02:03:36,484 cisTopic     INFO     Coverage matrix done\n"
     ]
    },
    {
     "name": "stdout",
     "output_type": "stream",
     "text": [
      "\u001b[2m\u001b[36m(compute_qc_stats_ray pid=3083537)\u001b[0m 2022-09-15 02:03:44,761 cisTopic     INFO     Computing duplicate rate plot for CNA_10xmultiome_1.35k\n"
     ]
    },
    {
     "name": "stdout",
     "output_type": "stream",
     "text": [
      "\u001b[2m\u001b[36m(compute_qc_stats_ray pid=3083542)\u001b[0m 2022-09-15 02:04:14,870 cisTopic     INFO     Computing barcode rank plot for CNA_10xmultiome_2.35k\n",
      "\u001b[2m\u001b[36m(compute_qc_stats_ray pid=3083542)\u001b[0m 2022-09-15 02:04:14,871 cisTopic     INFO     Counting fragments\n"
     ]
    },
    {
     "name": "stdout",
     "output_type": "stream",
     "text": [
      "\u001b[2m\u001b[36m(compute_qc_stats_ray pid=3083532)\u001b[0m 2022-09-15 02:04:23,127 cisTopic     INFO     Computing duplicate rate plot for CNA_10xv2_1.35k\n"
     ]
    },
    {
     "name": "stdout",
     "output_type": "stream",
     "text": [
      "\u001b[2m\u001b[36m(compute_qc_stats_ray pid=3083549)\u001b[0m 2022-09-15 02:04:23,701 cisTopic     INFO     Return plot data\n"
     ]
    },
    {
     "name": "stdout",
     "output_type": "stream",
     "text": [
      "\u001b[2m\u001b[36m(compute_qc_stats_ray pid=3083549)\u001b[0m 2022-09-15 02:04:25,325 cisTopic     INFO     Computing insert size distribution for VIB_10xv2_2.35k\n",
      "\u001b[2m\u001b[36m(compute_qc_stats_ray pid=3083549)\u001b[0m 2022-09-15 02:04:25,325 cisTopic     INFO     Counting fragments\n"
     ]
    },
    {
     "name": "stdout",
     "output_type": "stream",
     "text": [
      "\u001b[2m\u001b[36m(compute_qc_stats_ray pid=3083534)\u001b[0m 2022-09-15 02:04:39,389 cisTopic     INFO     Formatting annnotation\n"
     ]
    },
    {
     "name": "stdout",
     "output_type": "stream",
     "text": [
      "\u001b[2m\u001b[36m(compute_qc_stats_ray pid=3083534)\u001b[0m 2022-09-15 02:04:40,415 cisTopic     INFO     Creating coverage matrix\n"
     ]
    },
    {
     "name": "stdout",
     "output_type": "stream",
     "text": [
      "\u001b[2m\u001b[36m(compute_qc_stats_ray pid=3083549)\u001b[0m 2022-09-15 02:04:48,560 cisTopic     INFO     Returning plot data\n"
     ]
    },
    {
     "name": "stdout",
     "output_type": "stream",
     "text": [
      "\u001b[2m\u001b[36m(compute_qc_stats_ray pid=3083546)\u001b[0m 2022-09-15 02:05:01,058 cisTopic     INFO     Computing TSS profile for CNA_hydrop_2.35k\n"
     ]
    },
    {
     "name": "stdout",
     "output_type": "stream",
     "text": [
      "\u001b[2m\u001b[36m(compute_qc_stats_ray pid=3083537)\u001b[0m 2022-09-15 02:05:10,576 cisTopic     INFO     Return plot data\n"
     ]
    },
    {
     "name": "stdout",
     "output_type": "stream",
     "text": [
      "\u001b[2m\u001b[36m(compute_qc_stats_ray pid=3083537)\u001b[0m 2022-09-15 02:05:11,945 cisTopic     INFO     Computing insert size distribution for CNA_10xmultiome_1.35k\n",
      "\u001b[2m\u001b[36m(compute_qc_stats_ray pid=3083537)\u001b[0m 2022-09-15 02:05:11,945 cisTopic     INFO     Counting fragments\n"
     ]
    },
    {
     "name": "stdout",
     "output_type": "stream",
     "text": [
      "\u001b[2m\u001b[36m(compute_qc_stats_ray pid=3083542)\u001b[0m 2022-09-15 02:05:13,459 cisTopic     INFO     Marking barcodes with more than 10\n"
     ]
    },
    {
     "name": "stdout",
     "output_type": "stream",
     "text": [
      "\u001b[2m\u001b[36m(compute_qc_stats_ray pid=3083542)\u001b[0m 2022-09-15 02:05:14,744 cisTopic     INFO     Returning plot data\n",
      "\u001b[2m\u001b[36m(compute_qc_stats_ray pid=3083542)\u001b[0m 2022-09-15 02:05:14,847 cisTopic     INFO     Returning valid barcodes\n"
     ]
    },
    {
     "name": "stdout",
     "output_type": "stream",
     "text": [
      "\u001b[2m\u001b[36m(compute_qc_stats_ray pid=3083537)\u001b[0m 2022-09-15 02:05:30,476 cisTopic     INFO     Returning plot data\n"
     ]
    },
    {
     "name": "stdout",
     "output_type": "stream",
     "text": [
      "\u001b[2m\u001b[36m(compute_qc_stats_ray pid=3083532)\u001b[0m 2022-09-15 02:05:44,901 cisTopic     INFO     Return plot data\n"
     ]
    },
    {
     "name": "stdout",
     "output_type": "stream",
     "text": [
      "\u001b[2m\u001b[36m(compute_qc_stats_ray pid=3083532)\u001b[0m 2022-09-15 02:05:46,280 cisTopic     INFO     Computing insert size distribution for CNA_10xv2_1.35k\n",
      "\u001b[2m\u001b[36m(compute_qc_stats_ray pid=3083532)\u001b[0m 2022-09-15 02:05:46,280 cisTopic     INFO     Counting fragments\n"
     ]
    },
    {
     "name": "stdout",
     "output_type": "stream",
     "text": [
      "\u001b[2m\u001b[36m(compute_qc_stats_ray pid=3083532)\u001b[0m 2022-09-15 02:06:07,861 cisTopic     INFO     Returning plot data\n"
     ]
    },
    {
     "name": "stdout",
     "output_type": "stream",
     "text": [
      "\u001b[2m\u001b[36m(compute_qc_stats_ray pid=3083542)\u001b[0m 2022-09-15 02:06:09,922 cisTopic     INFO     Computing duplicate rate plot for CNA_10xmultiome_2.35k\n"
     ]
    },
    {
     "name": "stdout",
     "output_type": "stream",
     "text": [
      "\u001b[2m\u001b[36m(compute_qc_stats_ray pid=3083546)\u001b[0m 2022-09-15 02:06:33,140 cisTopic     INFO     Formatting annnotation\n"
     ]
    },
    {
     "name": "stdout",
     "output_type": "stream",
     "text": [
      "\u001b[2m\u001b[36m(compute_qc_stats_ray pid=3083546)\u001b[0m 2022-09-15 02:06:34,051 cisTopic     INFO     Creating coverage matrix\n"
     ]
    },
    {
     "name": "stdout",
     "output_type": "stream",
     "text": [
      "\u001b[2m\u001b[36m(compute_qc_stats_ray pid=3083533)\u001b[0m 2022-09-15 02:06:50,076 cisTopic     INFO     Returning normalized TSS coverage matrix per barcode\n"
     ]
    },
    {
     "name": "stdout",
     "output_type": "stream",
     "text": [
      "\u001b[2m\u001b[36m(compute_qc_stats_ray pid=3083542)\u001b[0m 2022-09-15 02:07:48,117 cisTopic     INFO     Return plot data\n"
     ]
    },
    {
     "name": "stdout",
     "output_type": "stream",
     "text": [
      "\u001b[2m\u001b[36m(compute_qc_stats_ray pid=3083542)\u001b[0m 2022-09-15 02:07:49,537 cisTopic     INFO     Computing insert size distribution for CNA_10xmultiome_2.35k\n",
      "\u001b[2m\u001b[36m(compute_qc_stats_ray pid=3083542)\u001b[0m 2022-09-15 02:07:49,537 cisTopic     INFO     Counting fragments\n"
     ]
    },
    {
     "name": "stdout",
     "output_type": "stream",
     "text": [
      "\u001b[2m\u001b[36m(compute_qc_stats_ray pid=3083542)\u001b[0m 2022-09-15 02:08:16,480 cisTopic     INFO     Returning plot data\n"
     ]
    },
    {
     "name": "stdout",
     "output_type": "stream",
     "text": [
      "\u001b[2m\u001b[36m(compute_qc_stats_ray pid=3083536)\u001b[0m 2022-09-15 02:08:28,164 cisTopic     INFO     Computing barcode rank plot for SAN_10xmultiome_1.35k\n",
      "\u001b[2m\u001b[36m(compute_qc_stats_ray pid=3083536)\u001b[0m 2022-09-15 02:08:28,165 cisTopic     INFO     Counting fragments\n"
     ]
    },
    {
     "name": "stdout",
     "output_type": "stream",
     "text": [
      "\u001b[2m\u001b[36m(compute_qc_stats_ray pid=3083536)\u001b[0m 2022-09-15 02:10:16,294 cisTopic     INFO     Marking barcodes with more than 10\n"
     ]
    },
    {
     "name": "stdout",
     "output_type": "stream",
     "text": [
      "\u001b[2m\u001b[36m(compute_qc_stats_ray pid=3083536)\u001b[0m 2022-09-15 02:10:18,398 cisTopic     INFO     Returning plot data\n"
     ]
    },
    {
     "name": "stdout",
     "output_type": "stream",
     "text": [
      "\u001b[2m\u001b[36m(compute_qc_stats_ray pid=3083536)\u001b[0m 2022-09-15 02:10:18,577 cisTopic     INFO     Returning valid barcodes\n"
     ]
    },
    {
     "name": "stdout",
     "output_type": "stream",
     "text": [
      "\u001b[2m\u001b[36m(compute_qc_stats_ray pid=3083545)\u001b[0m 2022-09-15 02:10:23,249 cisTopic     INFO     Returning normalized TSS coverage matrix per barcode\n"
     ]
    },
    {
     "name": "stdout",
     "output_type": "stream",
     "text": [
      "\u001b[2m\u001b[36m(compute_qc_stats_ray pid=3083533)\u001b[0m 2022-09-15 02:11:16,884 cisTopic     INFO     Returning normalized sample TSS enrichment data\n"
     ]
    },
    {
     "name": "stdout",
     "output_type": "stream",
     "text": [
      "\u001b[2m\u001b[36m(compute_qc_stats_ray pid=3083533)\u001b[0m 2022-09-15 02:11:18,694 cisTopic     INFO     Computing FRIP profile for STA_10xv11_1.35k\n"
     ]
    },
    {
     "name": "stdout",
     "output_type": "stream",
     "text": [
      "\u001b[2m\u001b[36m(compute_qc_stats_ray pid=3083533)\u001b[0m 2022-09-15 02:11:26,649 cisTopic     INFO     Counting fragments\n"
     ]
    },
    {
     "name": "stdout",
     "output_type": "stream",
     "text": [
      "\u001b[2m\u001b[36m(compute_qc_stats_ray pid=3083533)\u001b[0m 2022-09-15 02:11:51,506 cisTopic     INFO     Intersecting fragments with regions\n"
     ]
    },
    {
     "name": "stdout",
     "output_type": "stream",
     "text": [
      "\u001b[2m\u001b[36m(compute_qc_stats_ray pid=3083540)\u001b[0m 2022-09-15 02:12:07,494 cisTopic     INFO     Computing barcode rank plot for MDC_mtscatac_2.35k\n",
      "\u001b[2m\u001b[36m(compute_qc_stats_ray pid=3083540)\u001b[0m 2022-09-15 02:12:07,494 cisTopic     INFO     Counting fragments\n"
     ]
    },
    {
     "name": "stdout",
     "output_type": "stream",
     "text": [
      "\u001b[2m\u001b[36m(compute_qc_stats_ray pid=3083549)\u001b[0m 2022-09-15 02:12:38,623 cisTopic     INFO     Computing TSS profile for VIB_10xv2_2.35k\n"
     ]
    },
    {
     "name": "stdout",
     "output_type": "stream",
     "text": [
      "\u001b[2m\u001b[36m(compute_qc_stats_ray pid=3083533)\u001b[0m 2022-09-15 02:12:53,233 cisTopic     INFO     Sample STA_10xv11_1.35k done!\n"
     ]
    },
    {
     "name": "stdout",
     "output_type": "stream",
     "text": [
      "\u001b[2m\u001b[36m(compute_qc_stats_ray pid=3083537)\u001b[0m 2022-09-15 02:13:13,235 cisTopic     INFO     Computing TSS profile for CNA_10xmultiome_1.35k\n"
     ]
    },
    {
     "name": "stdout",
     "output_type": "stream",
     "text": [
      "\u001b[2m\u001b[36m(compute_qc_stats_ray pid=3083540)\u001b[0m 2022-09-15 02:13:15,665 cisTopic     INFO     Marking barcodes with more than 10\n"
     ]
    },
    {
     "name": "stdout",
     "output_type": "stream",
     "text": [
      "\u001b[2m\u001b[36m(compute_qc_stats_ray pid=3083540)\u001b[0m 2022-09-15 02:13:16,852 cisTopic     INFO     Returning plot data\n",
      "\u001b[2m\u001b[36m(compute_qc_stats_ray pid=3083540)\u001b[0m 2022-09-15 02:13:16,885 cisTopic     INFO     Returning valid barcodes\n"
     ]
    },
    {
     "name": "stdout",
     "output_type": "stream",
     "text": [
      "\u001b[2m\u001b[36m(compute_qc_stats_ray pid=3083549)\u001b[0m 2022-09-15 02:13:45,639 cisTopic     INFO     Formatting annnotation\n"
     ]
    },
    {
     "name": "stdout",
     "output_type": "stream",
     "text": [
      "\u001b[2m\u001b[36m(compute_qc_stats_ray pid=3083549)\u001b[0m 2022-09-15 02:13:46,539 cisTopic     INFO     Creating coverage matrix\n"
     ]
    },
    {
     "name": "stdout",
     "output_type": "stream",
     "text": [
      "\u001b[2m\u001b[36m(compute_qc_stats_ray pid=3083536)\u001b[0m 2022-09-15 02:13:55,154 cisTopic     INFO     Computing duplicate rate plot for SAN_10xmultiome_1.35k\n"
     ]
    },
    {
     "name": "stdout",
     "output_type": "stream",
     "text": [
      "\u001b[2m\u001b[36m(compute_qc_stats_ray pid=3083532)\u001b[0m 2022-09-15 02:14:11,034 cisTopic     INFO     Computing TSS profile for CNA_10xv2_1.35k\n"
     ]
    },
    {
     "name": "stdout",
     "output_type": "stream",
     "text": [
      "\u001b[2m\u001b[36m(compute_qc_stats_ray pid=3083537)\u001b[0m 2022-09-15 02:14:57,894 cisTopic     INFO     Formatting annnotation\n"
     ]
    },
    {
     "name": "stdout",
     "output_type": "stream",
     "text": [
      "\u001b[2m\u001b[36m(compute_qc_stats_ray pid=3083537)\u001b[0m 2022-09-15 02:14:58,856 cisTopic     INFO     Creating coverage matrix\n"
     ]
    },
    {
     "name": "stdout",
     "output_type": "stream",
     "text": [
      "\u001b[2m\u001b[36m(compute_qc_stats_ray pid=3083532)\u001b[0m 2022-09-15 02:15:15,414 cisTopic     INFO     Formatting annnotation\n"
     ]
    },
    {
     "name": "stdout",
     "output_type": "stream",
     "text": [
      "\u001b[2m\u001b[36m(compute_qc_stats_ray pid=3083532)\u001b[0m 2022-09-15 02:15:16,359 cisTopic     INFO     Creating coverage matrix\n"
     ]
    },
    {
     "name": "stdout",
     "output_type": "stream",
     "text": [
      "\u001b[2m\u001b[36m(compute_qc_stats_ray pid=3083545)\u001b[0m 2022-09-15 02:15:22,556 cisTopic     INFO     Returning normalized sample TSS enrichment data\n"
     ]
    },
    {
     "name": "stdout",
     "output_type": "stream",
     "text": [
      "\u001b[2m\u001b[36m(compute_qc_stats_ray pid=3083545)\u001b[0m 2022-09-15 02:15:23,809 cisTopic     INFO     Computing FRIP profile for VIB_10xmultiome_1.35k\n"
     ]
    },
    {
     "name": "stdout",
     "output_type": "stream",
     "text": [
      "\u001b[2m\u001b[36m(compute_qc_stats_ray pid=3083536)\u001b[0m 2022-09-15 02:15:29,317 cisTopic     INFO     Return plot data\n"
     ]
    },
    {
     "name": "stdout",
     "output_type": "stream",
     "text": [
      "\u001b[2m\u001b[36m(compute_qc_stats_ray pid=3083545)\u001b[0m 2022-09-15 02:15:30,313 cisTopic     INFO     Counting fragments\n"
     ]
    },
    {
     "name": "stdout",
     "output_type": "stream",
     "text": [
      "\u001b[2m\u001b[36m(compute_qc_stats_ray pid=3083536)\u001b[0m 2022-09-15 02:15:30,658 cisTopic     INFO     Computing insert size distribution for SAN_10xmultiome_1.35k\n",
      "\u001b[2m\u001b[36m(compute_qc_stats_ray pid=3083536)\u001b[0m 2022-09-15 02:15:30,658 cisTopic     INFO     Counting fragments\n"
     ]
    },
    {
     "name": "stdout",
     "output_type": "stream",
     "text": [
      "\u001b[2m\u001b[36m(compute_qc_stats_ray pid=3083540)\u001b[0m 2022-09-15 02:15:32,051 cisTopic     INFO     Computing duplicate rate plot for MDC_mtscatac_2.35k\n"
     ]
    },
    {
     "name": "stdout",
     "output_type": "stream",
     "text": [
      "\u001b[2m\u001b[36m(compute_qc_stats_ray pid=3083545)\u001b[0m 2022-09-15 02:15:53,799 cisTopic     INFO     Intersecting fragments with regions\n"
     ]
    },
    {
     "name": "stdout",
     "output_type": "stream",
     "text": [
      "\u001b[2m\u001b[36m(compute_qc_stats_ray pid=3083536)\u001b[0m 2022-09-15 02:15:55,710 cisTopic     INFO     Returning plot data\n"
     ]
    },
    {
     "name": "stdout",
     "output_type": "stream",
     "text": [
      "\u001b[2m\u001b[36m(compute_qc_stats_ray pid=3083545)\u001b[0m 2022-09-15 02:17:02,481 cisTopic     INFO     Sample VIB_10xmultiome_1.35k done!\n"
     ]
    },
    {
     "name": "stdout",
     "output_type": "stream",
     "text": [
      "\u001b[2m\u001b[36m(compute_qc_stats_ray pid=3083540)\u001b[0m 2022-09-15 02:17:16,334 cisTopic     INFO     Return plot data\n"
     ]
    },
    {
     "name": "stdout",
     "output_type": "stream",
     "text": [
      "\u001b[2m\u001b[36m(compute_qc_stats_ray pid=3083546)\u001b[0m 2022-09-15 02:17:17,215 cisTopic     INFO     Coverage matrix done\n"
     ]
    },
    {
     "name": "stdout",
     "output_type": "stream",
     "text": [
      "\u001b[2m\u001b[36m(compute_qc_stats_ray pid=3083540)\u001b[0m 2022-09-15 02:17:17,617 cisTopic     INFO     Computing insert size distribution for MDC_mtscatac_2.35k\n",
      "\u001b[2m\u001b[36m(compute_qc_stats_ray pid=3083540)\u001b[0m 2022-09-15 02:17:17,617 cisTopic     INFO     Counting fragments\n"
     ]
    },
    {
     "name": "stdout",
     "output_type": "stream",
     "text": [
      "\u001b[2m\u001b[36m(compute_qc_stats_ray pid=3083540)\u001b[0m 2022-09-15 02:17:53,482 cisTopic     INFO     Returning plot data\n"
     ]
    },
    {
     "name": "stdout",
     "output_type": "stream",
     "text": [
      "\u001b[2m\u001b[36m(compute_qc_stats_ray pid=3083542)\u001b[0m 2022-09-15 02:18:07,675 cisTopic     INFO     Computing TSS profile for CNA_10xmultiome_2.35k\n"
     ]
    },
    {
     "name": "stdout",
     "output_type": "stream",
     "text": [
      "\u001b[2m\u001b[36m(compute_qc_stats_ray pid=3083548)\u001b[0m 2022-09-15 02:19:21,990 cisTopic     INFO     Computing barcode rank plot for HAR_ddseq_1.35k\n",
      "\u001b[2m\u001b[36m(compute_qc_stats_ray pid=3083548)\u001b[0m 2022-09-15 02:19:21,991 cisTopic     INFO     Counting fragments\n"
     ]
    },
    {
     "name": "stdout",
     "output_type": "stream",
     "text": [
      "\u001b[2m\u001b[36m(compute_qc_stats_ray pid=3083542)\u001b[0m 2022-09-15 02:19:40,388 cisTopic     INFO     Formatting annnotation\n"
     ]
    },
    {
     "name": "stdout",
     "output_type": "stream",
     "text": [
      "\u001b[2m\u001b[36m(compute_qc_stats_ray pid=3083542)\u001b[0m 2022-09-15 02:19:41,307 cisTopic     INFO     Creating coverage matrix\n"
     ]
    },
    {
     "name": "stdout",
     "output_type": "stream",
     "text": [
      "\u001b[2m\u001b[36m(compute_qc_stats_ray pid=3083544)\u001b[0m 2022-09-15 02:19:51,095 cisTopic     INFO     Coverage matrix done\n"
     ]
    },
    {
     "name": "stdout",
     "output_type": "stream",
     "text": [
      "\u001b[2m\u001b[36m(compute_qc_stats_ray pid=3083535)\u001b[0m 2022-09-15 02:23:54,672 cisTopic     INFO     Coverage matrix done\n"
     ]
    },
    {
     "name": "stdout",
     "output_type": "stream",
     "text": [
      "\u001b[2m\u001b[36m(compute_qc_stats_ray pid=3083548)\u001b[0m 2022-09-15 02:24:32,881 cisTopic     INFO     Marking barcodes with more than 10\n"
     ]
    },
    {
     "name": "stdout",
     "output_type": "stream",
     "text": [
      "\u001b[2m\u001b[36m(compute_qc_stats_ray pid=3083548)\u001b[0m 2022-09-15 02:24:45,688 cisTopic     INFO     Returning plot data\n"
     ]
    },
    {
     "name": "stdout",
     "output_type": "stream",
     "text": [
      "\u001b[2m\u001b[36m(compute_qc_stats_ray pid=3083548)\u001b[0m 2022-09-15 02:24:45,977 cisTopic     INFO     Returning valid barcodes\n"
     ]
    },
    {
     "name": "stdout",
     "output_type": "stream",
     "text": [
      "\u001b[2m\u001b[36m(compute_qc_stats_ray pid=3083543)\u001b[0m 2022-09-15 02:25:11,622 cisTopic     INFO     Computing barcode rank plot for MDC_mtscatac_1.35k\n",
      "\u001b[2m\u001b[36m(compute_qc_stats_ray pid=3083543)\u001b[0m 2022-09-15 02:25:11,622 cisTopic     INFO     Counting fragments\n"
     ]
    },
    {
     "name": "stdout",
     "output_type": "stream",
     "text": [
      "\u001b[2m\u001b[36m(compute_qc_stats_ray pid=3083536)\u001b[0m 2022-09-15 02:25:27,442 cisTopic     INFO     Computing TSS profile for SAN_10xmultiome_1.35k\n"
     ]
    },
    {
     "name": "stdout",
     "output_type": "stream",
     "text": [
      "\u001b[2m\u001b[36m(compute_qc_stats_ray pid=3083541)\u001b[0m 2022-09-15 02:25:29,840 cisTopic     INFO     Returning normalized TSS coverage matrix per barcode\n"
     ]
    },
    {
     "name": "stdout",
     "output_type": "stream",
     "text": [
      "\u001b[2m\u001b[36m(compute_qc_stats_ray pid=3083534)\u001b[0m 2022-09-15 02:25:36,735 cisTopic     INFO     Coverage matrix done\n"
     ]
    },
    {
     "name": "stdout",
     "output_type": "stream",
     "text": [
      "\u001b[2m\u001b[36m(compute_qc_stats_ray pid=3083548)\u001b[0m 2022-09-15 02:25:48,634 cisTopic     INFO     Computing duplicate rate plot for HAR_ddseq_1.35k\n"
     ]
    },
    {
     "name": "stdout",
     "output_type": "stream",
     "text": [
      "\u001b[2m\u001b[36m(compute_qc_stats_ray pid=3083543)\u001b[0m 2022-09-15 02:26:35,288 cisTopic     INFO     Marking barcodes with more than 10\n"
     ]
    },
    {
     "name": "stdout",
     "output_type": "stream",
     "text": [
      "\u001b[2m\u001b[36m(compute_qc_stats_ray pid=3083543)\u001b[0m 2022-09-15 02:26:36,523 cisTopic     INFO     Returning plot data\n",
      "\u001b[2m\u001b[36m(compute_qc_stats_ray pid=3083543)\u001b[0m 2022-09-15 02:26:36,676 cisTopic     INFO     Returning valid barcodes\n"
     ]
    },
    {
     "name": "stdout",
     "output_type": "stream",
     "text": [
      "\u001b[2m\u001b[36m(compute_qc_stats_ray pid=3083536)\u001b[0m 2022-09-15 02:27:16,934 cisTopic     INFO     Formatting annnotation\n"
     ]
    },
    {
     "name": "stdout",
     "output_type": "stream",
     "text": [
      "\u001b[2m\u001b[36m(compute_qc_stats_ray pid=3083536)\u001b[0m 2022-09-15 02:27:17,826 cisTopic     INFO     Creating coverage matrix\n"
     ]
    },
    {
     "name": "stdout",
     "output_type": "stream",
     "text": [
      "\u001b[2m\u001b[36m(compute_qc_stats_ray pid=3083540)\u001b[0m 2022-09-15 02:28:08,795 cisTopic     INFO     Computing TSS profile for MDC_mtscatac_2.35k\n"
     ]
    },
    {
     "name": "stdout",
     "output_type": "stream",
     "text": [
      "\u001b[2m\u001b[36m(compute_qc_stats_ray pid=3083543)\u001b[0m 2022-09-15 02:28:32,513 cisTopic     INFO     Computing duplicate rate plot for MDC_mtscatac_1.35k\n"
     ]
    },
    {
     "name": "stdout",
     "output_type": "stream",
     "text": [
      "\u001b[2m\u001b[36m(compute_qc_stats_ray pid=3083540)\u001b[0m 2022-09-15 02:29:48,169 cisTopic     INFO     Formatting annnotation\n"
     ]
    },
    {
     "name": "stdout",
     "output_type": "stream",
     "text": [
      "\u001b[2m\u001b[36m(compute_qc_stats_ray pid=3083540)\u001b[0m 2022-09-15 02:29:49,097 cisTopic     INFO     Creating coverage matrix\n"
     ]
    },
    {
     "name": "stdout",
     "output_type": "stream",
     "text": [
      "\u001b[2m\u001b[36m(compute_qc_stats_ray pid=3083543)\u001b[0m 2022-09-15 02:30:44,505 cisTopic     INFO     Return plot data\n"
     ]
    },
    {
     "name": "stdout",
     "output_type": "stream",
     "text": [
      "\u001b[2m\u001b[36m(compute_qc_stats_ray pid=3083543)\u001b[0m 2022-09-15 02:30:45,678 cisTopic     INFO     Computing insert size distribution for MDC_mtscatac_1.35k\n",
      "\u001b[2m\u001b[36m(compute_qc_stats_ray pid=3083543)\u001b[0m 2022-09-15 02:30:45,678 cisTopic     INFO     Counting fragments\n"
     ]
    },
    {
     "name": "stdout",
     "output_type": "stream",
     "text": [
      "\u001b[2m\u001b[36m(compute_qc_stats_ray pid=3083543)\u001b[0m 2022-09-15 02:31:32,978 cisTopic     INFO     Returning plot data\n"
     ]
    },
    {
     "name": "stdout",
     "output_type": "stream",
     "text": [
      "\u001b[2m\u001b[36m(compute_qc_stats_ray pid=3083537)\u001b[0m 2022-09-15 02:33:04,576 cisTopic     INFO     Coverage matrix done\n"
     ]
    },
    {
     "name": "stdout",
     "output_type": "stream",
     "text": [
      "\u001b[2m\u001b[36m(compute_qc_stats_ray pid=3083548)\u001b[0m 2022-09-15 02:33:18,421 cisTopic     INFO     Return plot data\n"
     ]
    },
    {
     "name": "stdout",
     "output_type": "stream",
     "text": [
      "\u001b[2m\u001b[36m(compute_qc_stats_ray pid=3083548)\u001b[0m 2022-09-15 02:33:20,397 cisTopic     INFO     Computing insert size distribution for HAR_ddseq_1.35k\n",
      "\u001b[2m\u001b[36m(compute_qc_stats_ray pid=3083548)\u001b[0m 2022-09-15 02:33:20,397 cisTopic     INFO     Counting fragments\n"
     ]
    },
    {
     "name": "stdout",
     "output_type": "stream",
     "text": [
      "\u001b[2m\u001b[36m(compute_qc_stats_ray pid=3083548)\u001b[0m 2022-09-15 02:33:38,683 cisTopic     INFO     Returning plot data\n"
     ]
    },
    {
     "name": "stdout",
     "output_type": "stream",
     "text": [
      "\u001b[2m\u001b[36m(compute_qc_stats_ray pid=3083539)\u001b[0m 2022-09-15 02:33:45,740 cisTopic     INFO     Computing barcode rank plot for TXG_10xv2_1.35k\n",
      "\u001b[2m\u001b[36m(compute_qc_stats_ray pid=3083539)\u001b[0m 2022-09-15 02:33:45,740 cisTopic     INFO     Counting fragments\n"
     ]
    },
    {
     "name": "stdout",
     "output_type": "stream",
     "text": [
      "\u001b[2m\u001b[36m(compute_qc_stats_ray pid=3083539)\u001b[0m 2022-09-15 02:35:40,496 cisTopic     INFO     Marking barcodes with more than 10\n"
     ]
    },
    {
     "name": "stdout",
     "output_type": "stream",
     "text": [
      "\u001b[2m\u001b[36m(compute_qc_stats_ray pid=3083539)\u001b[0m 2022-09-15 02:35:42,113 cisTopic     INFO     Returning plot data\n"
     ]
    },
    {
     "name": "stdout",
     "output_type": "stream",
     "text": [
      "\u001b[2m\u001b[36m(compute_qc_stats_ray pid=3083539)\u001b[0m 2022-09-15 02:35:42,362 cisTopic     INFO     Returning valid barcodes\n"
     ]
    },
    {
     "name": "stdout",
     "output_type": "stream",
     "text": [
      "\u001b[2m\u001b[36m(compute_qc_stats_ray pid=3083542)\u001b[0m 2022-09-15 02:36:36,104 cisTopic     INFO     Coverage matrix done\n"
     ]
    },
    {
     "name": "stdout",
     "output_type": "stream",
     "text": [
      "\u001b[2m\u001b[36m(compute_qc_stats_ray pid=3083541)\u001b[0m 2022-09-15 02:36:55,286 cisTopic     INFO     Returning normalized sample TSS enrichment data\n"
     ]
    },
    {
     "name": "stdout",
     "output_type": "stream",
     "text": [
      "\u001b[2m\u001b[36m(compute_qc_stats_ray pid=3083541)\u001b[0m 2022-09-15 02:36:56,567 cisTopic     INFO     Computing FRIP profile for VIB_hydrop_22.35k\n"
     ]
    },
    {
     "name": "stdout",
     "output_type": "stream",
     "text": [
      "\u001b[2m\u001b[36m(compute_qc_stats_ray pid=3083541)\u001b[0m 2022-09-15 02:37:02,416 cisTopic     INFO     Counting fragments\n"
     ]
    },
    {
     "name": "stdout",
     "output_type": "stream",
     "text": [
      "\u001b[2m\u001b[36m(compute_qc_stats_ray pid=3083541)\u001b[0m 2022-09-15 02:37:11,794 cisTopic     INFO     Intersecting fragments with regions\n"
     ]
    },
    {
     "name": "stdout",
     "output_type": "stream",
     "text": [
      "\u001b[2m\u001b[36m(compute_qc_stats_ray pid=3083541)\u001b[0m 2022-09-15 02:37:49,411 cisTopic     INFO     Sample VIB_hydrop_22.35k done!\n"
     ]
    },
    {
     "name": "stdout",
     "output_type": "stream",
     "text": [
      "\u001b[2m\u001b[36m(compute_qc_stats_ray pid=3083539)\u001b[0m 2022-09-15 02:37:57,866 cisTopic     INFO     Computing duplicate rate plot for TXG_10xv2_1.35k\n"
     ]
    },
    {
     "name": "stdout",
     "output_type": "stream",
     "text": [
      "\u001b[2m\u001b[36m(compute_qc_stats_ray pid=3083532)\u001b[0m 2022-09-15 02:38:06,892 cisTopic     INFO     Coverage matrix done\n"
     ]
    },
    {
     "name": "stdout",
     "output_type": "stream",
     "text": [
      "\u001b[2m\u001b[36m(compute_qc_stats_ray pid=3083548)\u001b[0m 2022-09-15 02:39:12,588 cisTopic     INFO     Computing TSS profile for HAR_ddseq_1.35k\n"
     ]
    },
    {
     "name": "stdout",
     "output_type": "stream",
     "text": [
      "\u001b[2m\u001b[36m(compute_qc_stats_ray pid=3083546)\u001b[0m 2022-09-15 02:39:58,202 cisTopic     INFO     Returning normalized TSS coverage matrix per barcode\n"
     ]
    },
    {
     "name": "stdout",
     "output_type": "stream",
     "text": [
      "\u001b[2m\u001b[36m(compute_qc_stats_ray pid=3083539)\u001b[0m 2022-09-15 02:40:25,612 cisTopic     INFO     Return plot data\n"
     ]
    },
    {
     "name": "stdout",
     "output_type": "stream",
     "text": [
      "\u001b[2m\u001b[36m(compute_qc_stats_ray pid=3083539)\u001b[0m 2022-09-15 02:40:26,839 cisTopic     INFO     Computing insert size distribution for TXG_10xv2_1.35k\n",
      "\u001b[2m\u001b[36m(compute_qc_stats_ray pid=3083539)\u001b[0m 2022-09-15 02:40:26,840 cisTopic     INFO     Counting fragments\n"
     ]
    },
    {
     "name": "stdout",
     "output_type": "stream",
     "text": [
      "\u001b[2m\u001b[36m(compute_qc_stats_ray pid=3083549)\u001b[0m 2022-09-15 02:41:03,337 cisTopic     INFO     Coverage matrix done\n"
     ]
    },
    {
     "name": "stdout",
     "output_type": "stream",
     "text": [
      "\u001b[2m\u001b[36m(compute_qc_stats_ray pid=3083539)\u001b[0m 2022-09-15 02:41:11,644 cisTopic     INFO     Returning plot data\n"
     ]
    },
    {
     "name": "stdout",
     "output_type": "stream",
     "text": [
      "\u001b[2m\u001b[36m(compute_qc_stats_ray pid=3083544)\u001b[0m 2022-09-15 02:41:18,674 cisTopic     INFO     Returning normalized TSS coverage matrix per barcode\n"
     ]
    },
    {
     "name": "stdout",
     "output_type": "stream",
     "text": [
      "\u001b[2m\u001b[36m(compute_qc_stats_ray pid=3083548)\u001b[0m 2022-09-15 02:41:47,970 cisTopic     INFO     Formatting annnotation\n"
     ]
    },
    {
     "name": "stdout",
     "output_type": "stream",
     "text": [
      "\u001b[2m\u001b[36m(compute_qc_stats_ray pid=3083548)\u001b[0m 2022-09-15 02:41:48,835 cisTopic     INFO     Creating coverage matrix\n"
     ]
    },
    {
     "name": "stdout",
     "output_type": "stream",
     "text": [
      "\u001b[2m\u001b[36m(compute_qc_stats_ray pid=3083532)\u001b[0m 2022-09-15 02:43:46,124 cisTopic     INFO     Returning normalized TSS coverage matrix per barcode\n"
     ]
    },
    {
     "name": "stdout",
     "output_type": "stream",
     "text": [
      "\u001b[2m\u001b[36m(compute_qc_stats_ray pid=3083540)\u001b[0m 2022-09-15 02:43:48,898 cisTopic     INFO     Coverage matrix done\n"
     ]
    },
    {
     "name": "stdout",
     "output_type": "stream",
     "text": [
      "\u001b[2m\u001b[36m(compute_qc_stats_ray pid=3083543)\u001b[0m 2022-09-15 02:44:11,347 cisTopic     INFO     Computing TSS profile for MDC_mtscatac_1.35k\n"
     ]
    },
    {
     "name": "stdout",
     "output_type": "stream",
     "text": [
      "\u001b[2m\u001b[36m(compute_qc_stats_ray pid=3083535)\u001b[0m 2022-09-15 02:44:15,598 cisTopic     INFO     Returning normalized TSS coverage matrix per barcode\n"
     ]
    },
    {
     "name": "stdout",
     "output_type": "stream",
     "text": [
      "\u001b[2m\u001b[36m(compute_qc_stats_ray pid=3083537)\u001b[0m 2022-09-15 02:44:17,988 cisTopic     INFO     Returning normalized TSS coverage matrix per barcode\n"
     ]
    },
    {
     "name": "stdout",
     "output_type": "stream",
     "text": [
      "\u001b[2m\u001b[36m(compute_qc_stats_ray pid=3083534)\u001b[0m 2022-09-15 02:45:38,099 cisTopic     INFO     Returning normalized TSS coverage matrix per barcode\n"
     ]
    },
    {
     "name": "stdout",
     "output_type": "stream",
     "text": [
      "\u001b[2m\u001b[36m(compute_qc_stats_ray pid=3083549)\u001b[0m 2022-09-15 02:46:02,478 cisTopic     INFO     Returning normalized TSS coverage matrix per barcode\n"
     ]
    },
    {
     "name": "stdout",
     "output_type": "stream",
     "text": [
      "\u001b[2m\u001b[36m(compute_qc_stats_ray pid=3083543)\u001b[0m 2022-09-15 02:46:37,642 cisTopic     INFO     Formatting annnotation\n"
     ]
    },
    {
     "name": "stdout",
     "output_type": "stream",
     "text": [
      "\u001b[2m\u001b[36m(compute_qc_stats_ray pid=3083543)\u001b[0m 2022-09-15 02:46:38,298 cisTopic     INFO     Creating coverage matrix\n"
     ]
    },
    {
     "name": "stdout",
     "output_type": "stream",
     "text": [
      "\u001b[2m\u001b[36m(compute_qc_stats_ray pid=3083536)\u001b[0m 2022-09-15 02:47:43,835 cisTopic     INFO     Coverage matrix done\n",
      "\u001b[2m\u001b[36m(compute_qc_stats_ray pid=3083532)\u001b[0m 2022-09-15 02:47:43,798 cisTopic     INFO     Returning normalized sample TSS enrichment data\n"
     ]
    },
    {
     "name": "stdout",
     "output_type": "stream",
     "text": [
      "\u001b[2m\u001b[36m(compute_qc_stats_ray pid=3083532)\u001b[0m 2022-09-15 02:47:44,838 cisTopic     INFO     Computing FRIP profile for CNA_10xv2_1.35k\n"
     ]
    },
    {
     "name": "stdout",
     "output_type": "stream",
     "text": [
      "\u001b[2m\u001b[36m(compute_qc_stats_ray pid=3083532)\u001b[0m 2022-09-15 02:47:54,842 cisTopic     INFO     Counting fragments\n"
     ]
    },
    {
     "name": "stdout",
     "output_type": "stream",
     "text": [
      "\u001b[2m\u001b[36m(compute_qc_stats_ray pid=3083542)\u001b[0m 2022-09-15 02:48:19,056 cisTopic     INFO     Returning normalized TSS coverage matrix per barcode\n"
     ]
    },
    {
     "name": "stdout",
     "output_type": "stream",
     "text": [
      "\u001b[2m\u001b[36m(compute_qc_stats_ray pid=3083532)\u001b[0m 2022-09-15 02:48:43,857 cisTopic     INFO     Intersecting fragments with regions\n"
     ]
    },
    {
     "name": "stdout",
     "output_type": "stream",
     "text": [
      "\u001b[2m\u001b[36m(compute_qc_stats_ray pid=3083549)\u001b[0m 2022-09-15 02:49:34,881 cisTopic     INFO     Returning normalized sample TSS enrichment data\n"
     ]
    },
    {
     "name": "stdout",
     "output_type": "stream",
     "text": [
      "\u001b[2m\u001b[36m(compute_qc_stats_ray pid=3083549)\u001b[0m 2022-09-15 02:49:36,059 cisTopic     INFO     Computing FRIP profile for VIB_10xv2_2.35k\n"
     ]
    },
    {
     "name": "stdout",
     "output_type": "stream",
     "text": [
      "\u001b[2m\u001b[36m(compute_qc_stats_ray pid=3083549)\u001b[0m 2022-09-15 02:49:46,096 cisTopic     INFO     Counting fragments\n"
     ]
    },
    {
     "name": "stdout",
     "output_type": "stream",
     "text": [
      "\u001b[2m\u001b[36m(compute_qc_stats_ray pid=3083549)\u001b[0m 2022-09-15 02:50:34,168 cisTopic     INFO     Intersecting fragments with regions\n"
     ]
    },
    {
     "name": "stdout",
     "output_type": "stream",
     "text": [
      "\u001b[2m\u001b[36m(compute_qc_stats_ray pid=3083537)\u001b[0m 2022-09-15 02:51:44,787 cisTopic     INFO     Returning normalized sample TSS enrichment data\n"
     ]
    },
    {
     "name": "stdout",
     "output_type": "stream",
     "text": [
      "\u001b[2m\u001b[36m(compute_qc_stats_ray pid=3083537)\u001b[0m 2022-09-15 02:51:45,924 cisTopic     INFO     Computing FRIP profile for CNA_10xmultiome_1.35k\n"
     ]
    },
    {
     "name": "stdout",
     "output_type": "stream",
     "text": [
      "\u001b[2m\u001b[36m(compute_qc_stats_ray pid=3083540)\u001b[0m 2022-09-15 02:51:53,177 cisTopic     INFO     Returning normalized TSS coverage matrix per barcode\n",
      "\u001b[2m\u001b[36m(compute_qc_stats_ray pid=3083537)\u001b[0m 2022-09-15 02:51:53,207 cisTopic     INFO     Counting fragments\n"
     ]
    },
    {
     "name": "stdout",
     "output_type": "stream",
     "text": [
      "\u001b[2m\u001b[36m(compute_qc_stats_ray pid=3083537)\u001b[0m 2022-09-15 02:52:49,820 cisTopic     INFO     Intersecting fragments with regions\n"
     ]
    },
    {
     "name": "stdout",
     "output_type": "stream",
     "text": [
      "\u001b[2m\u001b[36m(compute_qc_stats_ray pid=3083532)\u001b[0m 2022-09-15 02:52:51,862 cisTopic     INFO     Sample CNA_10xv2_1.35k done!\n"
     ]
    },
    {
     "name": "stdout",
     "output_type": "stream",
     "text": [
      "\u001b[2m\u001b[36m(compute_qc_stats_ray pid=3083546)\u001b[0m 2022-09-15 02:53:29,835 cisTopic     INFO     Returning normalized sample TSS enrichment data\n"
     ]
    },
    {
     "name": "stdout",
     "output_type": "stream",
     "text": [
      "\u001b[2m\u001b[36m(compute_qc_stats_ray pid=3083546)\u001b[0m 2022-09-15 02:53:31,042 cisTopic     INFO     Computing FRIP profile for CNA_hydrop_2.35k\n"
     ]
    },
    {
     "name": "stdout",
     "output_type": "stream",
     "text": [
      "\u001b[2m\u001b[36m(compute_qc_stats_ray pid=3083546)\u001b[0m 2022-09-15 02:53:37,647 cisTopic     INFO     Counting fragments\n"
     ]
    },
    {
     "name": "stdout",
     "output_type": "stream",
     "text": [
      "\u001b[2m\u001b[36m(compute_qc_stats_ray pid=3083546)\u001b[0m 2022-09-15 02:53:54,988 cisTopic     INFO     Intersecting fragments with regions\n"
     ]
    },
    {
     "name": "stdout",
     "output_type": "stream",
     "text": [
      "\u001b[2m\u001b[36m(compute_qc_stats_ray pid=3083544)\u001b[0m 2022-09-15 02:54:05,373 cisTopic     INFO     Returning normalized sample TSS enrichment data\n"
     ]
    },
    {
     "name": "stdout",
     "output_type": "stream",
     "text": [
      "\u001b[2m\u001b[36m(compute_qc_stats_ray pid=3083544)\u001b[0m 2022-09-15 02:54:06,513 cisTopic     INFO     Computing FRIP profile for EPF_hydrop_3.35k\n"
     ]
    },
    {
     "name": "stdout",
     "output_type": "stream",
     "text": [
      "\u001b[2m\u001b[36m(compute_qc_stats_ray pid=3083544)\u001b[0m 2022-09-15 02:54:11,831 cisTopic     INFO     Counting fragments\n"
     ]
    },
    {
     "name": "stdout",
     "output_type": "stream",
     "text": [
      "\u001b[2m\u001b[36m(compute_qc_stats_ray pid=3083544)\u001b[0m 2022-09-15 02:54:27,399 cisTopic     INFO     Intersecting fragments with regions\n"
     ]
    },
    {
     "name": "stdout",
     "output_type": "stream",
     "text": [
      "\u001b[2m\u001b[36m(compute_qc_stats_ray pid=3083546)\u001b[0m 2022-09-15 02:54:41,380 cisTopic     INFO     Sample CNA_hydrop_2.35k done!\n"
     ]
    },
    {
     "name": "stdout",
     "output_type": "stream",
     "text": [
      "\u001b[2m\u001b[36m(compute_qc_stats_ray pid=3083549)\u001b[0m 2022-09-15 02:54:48,167 cisTopic     INFO     Sample VIB_10xv2_2.35k done!\n"
     ]
    },
    {
     "name": "stdout",
     "output_type": "stream",
     "text": [
      "\u001b[2m\u001b[36m(compute_qc_stats_ray pid=3083537)\u001b[0m 2022-09-15 02:55:22,999 cisTopic     INFO     Sample CNA_10xmultiome_1.35k done!\n"
     ]
    },
    {
     "name": "stdout",
     "output_type": "stream",
     "text": [
      "\u001b[2m\u001b[36m(compute_qc_stats_ray pid=3083544)\u001b[0m 2022-09-15 02:55:30,718 cisTopic     INFO     Sample EPF_hydrop_3.35k done!\n"
     ]
    },
    {
     "name": "stdout",
     "output_type": "stream",
     "text": [
      "\u001b[2m\u001b[36m(compute_qc_stats_ray pid=3083539)\u001b[0m 2022-09-15 02:55:37,592 cisTopic     INFO     Computing TSS profile for TXG_10xv2_1.35k\n"
     ]
    },
    {
     "name": "stdout",
     "output_type": "stream",
     "text": [
      "\u001b[2m\u001b[36m(compute_qc_stats_ray pid=3083542)\u001b[0m 2022-09-15 02:55:51,573 cisTopic     INFO     Returning normalized sample TSS enrichment data\n"
     ]
    },
    {
     "name": "stdout",
     "output_type": "stream",
     "text": [
      "\u001b[2m\u001b[36m(compute_qc_stats_ray pid=3083542)\u001b[0m 2022-09-15 02:55:52,277 cisTopic     INFO     Computing FRIP profile for CNA_10xmultiome_2.35k\n"
     ]
    },
    {
     "name": "stdout",
     "output_type": "stream",
     "text": [
      "\u001b[2m\u001b[36m(compute_qc_stats_ray pid=3083542)\u001b[0m 2022-09-15 02:55:56,423 cisTopic     INFO     Counting fragments\n"
     ]
    },
    {
     "name": "stdout",
     "output_type": "stream",
     "text": [
      "\u001b[2m\u001b[36m(compute_qc_stats_ray pid=3083535)\u001b[0m 2022-09-15 02:56:17,243 cisTopic     INFO     Returning normalized sample TSS enrichment data\n"
     ]
    },
    {
     "name": "stdout",
     "output_type": "stream",
     "text": [
      "\u001b[2m\u001b[36m(compute_qc_stats_ray pid=3083535)\u001b[0m 2022-09-15 02:56:18,094 cisTopic     INFO     Computing FRIP profile for EPF_hydrop_2.35k\n"
     ]
    },
    {
     "name": "stdout",
     "output_type": "stream",
     "text": [
      "\u001b[2m\u001b[36m(compute_qc_stats_ray pid=3083535)\u001b[0m 2022-09-15 02:56:21,685 cisTopic     INFO     Counting fragments\n"
     ]
    },
    {
     "name": "stdout",
     "output_type": "stream",
     "text": [
      "\u001b[2m\u001b[36m(compute_qc_stats_ray pid=3083542)\u001b[0m 2022-09-15 02:56:30,988 cisTopic     INFO     Intersecting fragments with regions\n"
     ]
    },
    {
     "name": "stdout",
     "output_type": "stream",
     "text": [
      "\u001b[2m\u001b[36m(compute_qc_stats_ray pid=3083535)\u001b[0m 2022-09-15 02:56:32,024 cisTopic     INFO     Intersecting fragments with regions\n"
     ]
    },
    {
     "name": "stdout",
     "output_type": "stream",
     "text": [
      "\u001b[2m\u001b[36m(compute_qc_stats_ray pid=3083540)\u001b[0m 2022-09-15 02:56:39,582 cisTopic     INFO     Returning normalized sample TSS enrichment data\n"
     ]
    },
    {
     "name": "stdout",
     "output_type": "stream",
     "text": [
      "\u001b[2m\u001b[36m(compute_qc_stats_ray pid=3083540)\u001b[0m 2022-09-15 02:56:40,255 cisTopic     INFO     Computing FRIP profile for MDC_mtscatac_2.35k\n"
     ]
    },
    {
     "name": "stdout",
     "output_type": "stream",
     "text": [
      "\u001b[2m\u001b[36m(compute_qc_stats_ray pid=3083536)\u001b[0m 2022-09-15 02:56:44,989 cisTopic     INFO     Returning normalized TSS coverage matrix per barcode\n"
     ]
    },
    {
     "name": "stdout",
     "output_type": "stream",
     "text": [
      "\u001b[2m\u001b[36m(compute_qc_stats_ray pid=3083540)\u001b[0m 2022-09-15 02:56:46,232 cisTopic     INFO     Counting fragments\n"
     ]
    },
    {
     "name": "stdout",
     "output_type": "stream",
     "text": [
      "\u001b[2m\u001b[36m(compute_qc_stats_ray pid=3083535)\u001b[0m 2022-09-15 02:57:18,037 cisTopic     INFO     Sample EPF_hydrop_2.35k done!\n"
     ]
    },
    {
     "name": "stdout",
     "output_type": "stream",
     "text": [
      "\u001b[2m\u001b[36m(compute_qc_stats_ray pid=3083534)\u001b[0m 2022-09-15 02:57:21,513 cisTopic     INFO     Returning normalized sample TSS enrichment data\n"
     ]
    },
    {
     "name": "stdout",
     "output_type": "stream",
     "text": [
      "\u001b[2m\u001b[36m(compute_qc_stats_ray pid=3083534)\u001b[0m 2022-09-15 02:57:22,736 cisTopic     INFO     Computing FRIP profile for EPF_hydrop_1.35k\n"
     ]
    },
    {
     "name": "stdout",
     "output_type": "stream",
     "text": [
      "\u001b[2m\u001b[36m(compute_qc_stats_ray pid=3083534)\u001b[0m 2022-09-15 02:57:26,029 cisTopic     INFO     Counting fragments\n"
     ]
    },
    {
     "name": "stdout",
     "output_type": "stream",
     "text": [
      "\u001b[2m\u001b[36m(compute_qc_stats_ray pid=3083534)\u001b[0m 2022-09-15 02:57:35,486 cisTopic     INFO     Intersecting fragments with regions\n"
     ]
    },
    {
     "name": "stdout",
     "output_type": "stream",
     "text": [
      "\u001b[2m\u001b[36m(compute_qc_stats_ray pid=3083539)\u001b[0m 2022-09-15 02:57:40,389 cisTopic     INFO     Formatting annnotation\n"
     ]
    },
    {
     "name": "stdout",
     "output_type": "stream",
     "text": [
      "\u001b[2m\u001b[36m(compute_qc_stats_ray pid=3083539)\u001b[0m 2022-09-15 02:57:40,855 cisTopic     INFO     Creating coverage matrix\n"
     ]
    },
    {
     "name": "stdout",
     "output_type": "stream",
     "text": [
      "\u001b[2m\u001b[36m(compute_qc_stats_ray pid=3083540)\u001b[0m 2022-09-15 02:57:42,530 cisTopic     INFO     Intersecting fragments with regions\n"
     ]
    },
    {
     "name": "stdout",
     "output_type": "stream",
     "text": [
      "\u001b[2m\u001b[36m(compute_qc_stats_ray pid=3083542)\u001b[0m 2022-09-15 02:58:05,944 cisTopic     INFO     Sample CNA_10xmultiome_2.35k done!\n"
     ]
    },
    {
     "name": "stdout",
     "output_type": "stream",
     "text": [
      "\u001b[2m\u001b[36m(compute_qc_stats_ray pid=3083534)\u001b[0m 2022-09-15 02:58:17,165 cisTopic     INFO     Sample EPF_hydrop_1.35k done!\n"
     ]
    },
    {
     "name": "stdout",
     "output_type": "stream",
     "text": [
      "\u001b[2m\u001b[36m(compute_qc_stats_ray pid=3083540)\u001b[0m 2022-09-15 02:59:27,476 cisTopic     INFO     Sample MDC_mtscatac_2.35k done!\n"
     ]
    },
    {
     "name": "stdout",
     "output_type": "stream",
     "text": [
      "\u001b[2m\u001b[36m(compute_qc_stats_ray pid=3083536)\u001b[0m 2022-09-15 02:59:58,024 cisTopic     INFO     Returning normalized sample TSS enrichment data\n"
     ]
    },
    {
     "name": "stdout",
     "output_type": "stream",
     "text": [
      "\u001b[2m\u001b[36m(compute_qc_stats_ray pid=3083536)\u001b[0m 2022-09-15 02:59:58,449 cisTopic     INFO     Computing FRIP profile for SAN_10xmultiome_1.35k\n"
     ]
    },
    {
     "name": "stdout",
     "output_type": "stream",
     "text": [
      "\u001b[2m\u001b[36m(compute_qc_stats_ray pid=3083536)\u001b[0m 2022-09-15 03:00:01,496 cisTopic     INFO     Counting fragments\n"
     ]
    },
    {
     "name": "stdout",
     "output_type": "stream",
     "text": [
      "\u001b[2m\u001b[36m(compute_qc_stats_ray pid=3083536)\u001b[0m 2022-09-15 03:00:23,974 cisTopic     INFO     Intersecting fragments with regions\n"
     ]
    },
    {
     "name": "stdout",
     "output_type": "stream",
     "text": [
      "\u001b[2m\u001b[36m(compute_qc_stats_ray pid=3083548)\u001b[0m 2022-09-15 03:01:00,680 cisTopic     INFO     Coverage matrix done\n"
     ]
    },
    {
     "name": "stdout",
     "output_type": "stream",
     "text": [
      "\u001b[2m\u001b[36m(compute_qc_stats_ray pid=3083536)\u001b[0m 2022-09-15 03:01:36,009 cisTopic     INFO     Sample SAN_10xmultiome_1.35k done!\n"
     ]
    },
    {
     "name": "stdout",
     "output_type": "stream",
     "text": [
      "\u001b[2m\u001b[36m(compute_qc_stats_ray pid=3083543)\u001b[0m 2022-09-15 03:02:50,641 cisTopic     INFO     Coverage matrix done\n"
     ]
    },
    {
     "name": "stdout",
     "output_type": "stream",
     "text": [
      "\u001b[2m\u001b[36m(compute_qc_stats_ray pid=3083543)\u001b[0m 2022-09-15 03:05:37,548 cisTopic     INFO     Returning normalized TSS coverage matrix per barcode\n"
     ]
    },
    {
     "name": "stdout",
     "output_type": "stream",
     "text": [
      "\u001b[2m\u001b[36m(compute_qc_stats_ray pid=3083548)\u001b[0m 2022-09-15 03:06:16,308 cisTopic     INFO     Returning normalized TSS coverage matrix per barcode\n"
     ]
    },
    {
     "name": "stdout",
     "output_type": "stream",
     "text": [
      "\u001b[2m\u001b[36m(compute_qc_stats_ray pid=3083543)\u001b[0m 2022-09-15 03:07:30,813 cisTopic     INFO     Returning normalized sample TSS enrichment data\n"
     ]
    },
    {
     "name": "stdout",
     "output_type": "stream",
     "text": [
      "\u001b[2m\u001b[36m(compute_qc_stats_ray pid=3083543)\u001b[0m 2022-09-15 03:07:31,067 cisTopic     INFO     Computing FRIP profile for MDC_mtscatac_1.35k\n"
     ]
    },
    {
     "name": "stdout",
     "output_type": "stream",
     "text": [
      "\u001b[2m\u001b[36m(compute_qc_stats_ray pid=3083543)\u001b[0m 2022-09-15 03:07:33,923 cisTopic     INFO     Counting fragments\n"
     ]
    },
    {
     "name": "stdout",
     "output_type": "stream",
     "text": [
      "\u001b[2m\u001b[36m(compute_qc_stats_ray pid=3083543)\u001b[0m 2022-09-15 03:08:01,119 cisTopic     INFO     Intersecting fragments with regions\n"
     ]
    },
    {
     "name": "stdout",
     "output_type": "stream",
     "text": [
      "\u001b[2m\u001b[36m(compute_qc_stats_ray pid=3083548)\u001b[0m 2022-09-15 03:09:41,821 cisTopic     INFO     Returning normalized sample TSS enrichment data\n"
     ]
    },
    {
     "name": "stdout",
     "output_type": "stream",
     "text": [
      "\u001b[2m\u001b[36m(compute_qc_stats_ray pid=3083548)\u001b[0m 2022-09-15 03:09:42,108 cisTopic     INFO     Computing FRIP profile for HAR_ddseq_1.35k\n"
     ]
    },
    {
     "name": "stdout",
     "output_type": "stream",
     "text": [
      "\u001b[2m\u001b[36m(compute_qc_stats_ray pid=3083548)\u001b[0m 2022-09-15 03:09:43,813 cisTopic     INFO     Counting fragments\n"
     ]
    },
    {
     "name": "stdout",
     "output_type": "stream",
     "text": [
      "\u001b[2m\u001b[36m(compute_qc_stats_ray pid=3083543)\u001b[0m 2022-09-15 03:09:45,733 cisTopic     INFO     Sample MDC_mtscatac_1.35k done!\n"
     ]
    },
    {
     "name": "stdout",
     "output_type": "stream",
     "text": [
      "\u001b[2m\u001b[36m(compute_qc_stats_ray pid=3083548)\u001b[0m 2022-09-15 03:10:05,526 cisTopic     INFO     Intersecting fragments with regions\n"
     ]
    },
    {
     "name": "stdout",
     "output_type": "stream",
     "text": [
      "\u001b[2m\u001b[36m(compute_qc_stats_ray pid=3083548)\u001b[0m 2022-09-15 03:10:59,551 cisTopic     INFO     Sample HAR_ddseq_1.35k done!\n"
     ]
    },
    {
     "name": "stdout",
     "output_type": "stream",
     "text": [
      "\u001b[2m\u001b[36m(compute_qc_stats_ray pid=3083539)\u001b[0m 2022-09-15 03:11:25,667 cisTopic     INFO     Coverage matrix done\n"
     ]
    },
    {
     "name": "stdout",
     "output_type": "stream",
     "text": [
      "\u001b[2m\u001b[36m(compute_qc_stats_ray pid=3083539)\u001b[0m 2022-09-15 03:12:57,800 cisTopic     INFO     Returning normalized TSS coverage matrix per barcode\n"
     ]
    },
    {
     "name": "stdout",
     "output_type": "stream",
     "text": [
      "\u001b[2m\u001b[36m(compute_qc_stats_ray pid=3083539)\u001b[0m 2022-09-15 03:13:59,508 cisTopic     INFO     Returning normalized sample TSS enrichment data\n",
      "\u001b[2m\u001b[36m(compute_qc_stats_ray pid=3083539)\u001b[0m 2022-09-15 03:13:59,599 cisTopic     INFO     Computing FRIP profile for TXG_10xv2_1.35k\n"
     ]
    },
    {
     "name": "stdout",
     "output_type": "stream",
     "text": [
      "\u001b[2m\u001b[36m(compute_qc_stats_ray pid=3083539)\u001b[0m 2022-09-15 03:14:00,553 cisTopic     INFO     Counting fragments\n"
     ]
    },
    {
     "name": "stdout",
     "output_type": "stream",
     "text": [
      "\u001b[2m\u001b[36m(compute_qc_stats_ray pid=3083539)\u001b[0m 2022-09-15 03:14:10,300 cisTopic     INFO     Intersecting fragments with regions\n"
     ]
    },
    {
     "name": "stdout",
     "output_type": "stream",
     "text": [
      "\u001b[2m\u001b[36m(compute_qc_stats_ray pid=3083539)\u001b[0m 2022-09-15 03:15:10,817 cisTopic     INFO     Sample TXG_10xv2_1.35k done!\n"
     ]
    },
    {
     "name": "stdout",
     "output_type": "stream",
     "text": [
      "Dumping files in /dodrio/scratch/projects/starting_2022_023/benchmark/scatac_benchmark/downsample_series/35k/cistopic_qc_out_CONSENSUS...\n"
     ]
    },
    {
     "name": "stderr",
     "output_type": "stream",
     "text": [
      "2022-09-15 03:16:38,722\tINFO services.py:1470 -- View the Ray dashboard at \u001b[1m\u001b[32mhttp://127.0.0.1:8265\u001b[39m\u001b[22m\n"
     ]
    },
    {
     "name": "stdout",
     "output_type": "stream",
     "text": [
      "\u001b[2m\u001b[36m(compute_qc_stats_ray pid=3269573)\u001b[0m 2022-09-15 03:17:28,833 cisTopic     INFO     Reading TXG_10xv2_2.35k\n",
      "\u001b[2m\u001b[36m(compute_qc_stats_ray pid=3269571)\u001b[0m 2022-09-15 03:17:28,849 cisTopic     INFO     Reading CNA_10xv11_1.35k\n",
      "\u001b[2m\u001b[36m(compute_qc_stats_ray pid=3269569)\u001b[0m 2022-09-15 03:17:28,894 cisTopic     INFO     Reading VIB_10xv1_1.35k\n",
      "\u001b[2m\u001b[36m(compute_qc_stats_ray pid=3269572)\u001b[0m 2022-09-15 03:17:28,861 cisTopic     INFO     Reading UCS_ddseq_2.35k\n",
      "\u001b[2m\u001b[36m(compute_qc_stats_ray pid=3269570)\u001b[0m 2022-09-15 03:17:28,865 cisTopic     INFO     Reading CNA_10xv11_4.35k\n",
      "\u001b[2m\u001b[36m(compute_qc_stats_ray pid=3269574)\u001b[0m 2022-09-15 03:17:28,888 cisTopic     INFO     Reading BRO_mtscatac_1.35k\n"
     ]
    },
    {
     "name": "stdout",
     "output_type": "stream",
     "text": [
      "\u001b[2m\u001b[36m(compute_qc_stats_ray pid=3269568)\u001b[0m 2022-09-15 03:17:29,471 cisTopic     INFO     Reading TXG_10xv11_1.35k\n",
      "\u001b[2m\u001b[36m(compute_qc_stats_ray pid=3269567)\u001b[0m 2022-09-15 03:17:29,575 cisTopic     INFO     Reading CNA_10xv11_3.35k\n"
     ]
    },
    {
     "name": "stdout",
     "output_type": "stream",
     "text": [
      "\u001b[2m\u001b[36m(compute_qc_stats_ray pid=3269566)\u001b[0m 2022-09-15 03:17:29,646 cisTopic     INFO     Reading BIO_ddseq_2.35k\n"
     ]
    },
    {
     "name": "stdout",
     "output_type": "stream",
     "text": [
      "\u001b[2m\u001b[36m(compute_qc_stats_ray pid=3269565)\u001b[0m 2022-09-15 03:17:30,081 cisTopic     INFO     Reading BIO_ddseq_3.35k\n",
      "\u001b[2m\u001b[36m(compute_qc_stats_ray pid=3269564)\u001b[0m 2022-09-15 03:17:30,146 cisTopic     INFO     Reading VIB_10xmultiome_2.35k\n"
     ]
    },
    {
     "name": "stdout",
     "output_type": "stream",
     "text": [
      "\u001b[2m\u001b[36m(compute_qc_stats_ray pid=3269563)\u001b[0m 2022-09-15 03:17:30,522 cisTopic     INFO     Reading UCS_ddseq_1.35k\n"
     ]
    },
    {
     "name": "stdout",
     "output_type": "stream",
     "text": [
      "\u001b[2m\u001b[36m(compute_qc_stats_ray pid=3269561)\u001b[0m 2022-09-15 03:17:30,703 cisTopic     INFO     Reading VIB_hydrop_11.35k\n",
      "\u001b[2m\u001b[36m(compute_qc_stats_ray pid=3269562)\u001b[0m 2022-09-15 03:17:30,791 cisTopic     INFO     Reading BIO_ddseq_4.35k\n"
     ]
    },
    {
     "name": "stdout",
     "output_type": "stream",
     "text": [
      "\u001b[2m\u001b[36m(compute_qc_stats_ray pid=3269558)\u001b[0m 2022-09-15 03:17:31,035 cisTopic     INFO     Reading CNA_hydrop_1.35k\n"
     ]
    },
    {
     "name": "stdout",
     "output_type": "stream",
     "text": [
      "\u001b[2m\u001b[36m(compute_qc_stats_ray pid=3269559)\u001b[0m 2022-09-15 03:17:31,215 cisTopic     INFO     Reading VIB_10xv2_1.35k\n"
     ]
    },
    {
     "name": "stdout",
     "output_type": "stream",
     "text": [
      "\u001b[2m\u001b[36m(compute_qc_stats_ray pid=3269570)\u001b[0m 2022-09-15 03:20:36,971 cisTopic     INFO     Computing barcode rank plot for CNA_10xv11_4.35k\n",
      "\u001b[2m\u001b[36m(compute_qc_stats_ray pid=3269570)\u001b[0m 2022-09-15 03:20:37,047 cisTopic     INFO     Counting fragments\n"
     ]
    },
    {
     "name": "stdout",
     "output_type": "stream",
     "text": [
      "\u001b[2m\u001b[36m(compute_qc_stats_ray pid=3269561)\u001b[0m 2022-09-15 03:20:37,510 cisTopic     INFO     Computing barcode rank plot for VIB_hydrop_11.35k\n",
      "\u001b[2m\u001b[36m(compute_qc_stats_ray pid=3269561)\u001b[0m 2022-09-15 03:20:37,510 cisTopic     INFO     Counting fragments\n"
     ]
    },
    {
     "name": "stdout",
     "output_type": "stream",
     "text": [
      "\u001b[2m\u001b[36m(compute_qc_stats_ray pid=3269570)\u001b[0m 2022-09-15 03:20:46,383 cisTopic     INFO     Marking barcodes with more than 10\n"
     ]
    },
    {
     "name": "stdout",
     "output_type": "stream",
     "text": [
      "\u001b[2m\u001b[36m(compute_qc_stats_ray pid=3269570)\u001b[0m 2022-09-15 03:20:46,769 cisTopic     INFO     Returning plot data\n",
      "\u001b[2m\u001b[36m(compute_qc_stats_ray pid=3269570)\u001b[0m 2022-09-15 03:20:46,770 cisTopic     INFO     Returning valid barcodes\n"
     ]
    },
    {
     "name": "stdout",
     "output_type": "stream",
     "text": [
      "\u001b[2m\u001b[36m(compute_qc_stats_ray pid=3269561)\u001b[0m 2022-09-15 03:20:47,442 cisTopic     INFO     Marking barcodes with more than 10\n"
     ]
    },
    {
     "name": "stdout",
     "output_type": "stream",
     "text": [
      "\u001b[2m\u001b[36m(compute_qc_stats_ray pid=3269561)\u001b[0m 2022-09-15 03:20:47,935 cisTopic     INFO     Returning plot data\n",
      "\u001b[2m\u001b[36m(compute_qc_stats_ray pid=3269561)\u001b[0m 2022-09-15 03:20:48,033 cisTopic     INFO     Returning valid barcodes\n"
     ]
    },
    {
     "name": "stdout",
     "output_type": "stream",
     "text": [
      "\u001b[2m\u001b[36m(compute_qc_stats_ray pid=3269561)\u001b[0m 2022-09-15 03:20:57,694 cisTopic     INFO     Computing duplicate rate plot for VIB_hydrop_11.35k\n"
     ]
    },
    {
     "name": "stdout",
     "output_type": "stream",
     "text": [
      "\u001b[2m\u001b[36m(compute_qc_stats_ray pid=3269570)\u001b[0m 2022-09-15 03:20:57,869 cisTopic     INFO     Computing duplicate rate plot for CNA_10xv11_4.35k\n"
     ]
    },
    {
     "name": "stdout",
     "output_type": "stream",
     "text": [
      "\u001b[2m\u001b[36m(compute_qc_stats_ray pid=3269561)\u001b[0m 2022-09-15 03:21:13,359 cisTopic     INFO     Return plot data\n"
     ]
    },
    {
     "name": "stdout",
     "output_type": "stream",
     "text": [
      "\u001b[2m\u001b[36m(compute_qc_stats_ray pid=3269570)\u001b[0m 2022-09-15 03:21:13,896 cisTopic     INFO     Return plot data\n"
     ]
    },
    {
     "name": "stdout",
     "output_type": "stream",
     "text": [
      "\u001b[2m\u001b[36m(compute_qc_stats_ray pid=3269561)\u001b[0m 2022-09-15 03:21:14,640 cisTopic     INFO     Computing insert size distribution for VIB_hydrop_11.35k\n",
      "\u001b[2m\u001b[36m(compute_qc_stats_ray pid=3269561)\u001b[0m 2022-09-15 03:21:14,640 cisTopic     INFO     Counting fragments\n"
     ]
    },
    {
     "name": "stdout",
     "output_type": "stream",
     "text": [
      "\u001b[2m\u001b[36m(compute_qc_stats_ray pid=3269570)\u001b[0m 2022-09-15 03:21:15,243 cisTopic     INFO     Computing insert size distribution for CNA_10xv11_4.35k\n",
      "\u001b[2m\u001b[36m(compute_qc_stats_ray pid=3269570)\u001b[0m 2022-09-15 03:21:15,243 cisTopic     INFO     Counting fragments\n"
     ]
    },
    {
     "name": "stdout",
     "output_type": "stream",
     "text": [
      "\u001b[2m\u001b[36m(compute_qc_stats_ray pid=3269561)\u001b[0m 2022-09-15 03:21:17,865 cisTopic     INFO     Returning plot data\n"
     ]
    },
    {
     "name": "stdout",
     "output_type": "stream",
     "text": [
      "\u001b[2m\u001b[36m(compute_qc_stats_ray pid=3269570)\u001b[0m 2022-09-15 03:21:19,696 cisTopic     INFO     Returning plot data\n"
     ]
    },
    {
     "name": "stdout",
     "output_type": "stream",
     "text": [
      "\u001b[2m\u001b[36m(compute_qc_stats_ray pid=3269561)\u001b[0m 2022-09-15 03:22:22,556 cisTopic     INFO     Computing TSS profile for VIB_hydrop_11.35k\n"
     ]
    },
    {
     "name": "stdout",
     "output_type": "stream",
     "text": [
      "\u001b[2m\u001b[36m(compute_qc_stats_ray pid=3269561)\u001b[0m 2022-09-15 03:22:50,111 cisTopic     INFO     Formatting annnotation\n"
     ]
    },
    {
     "name": "stdout",
     "output_type": "stream",
     "text": [
      "\u001b[2m\u001b[36m(compute_qc_stats_ray pid=3269570)\u001b[0m 2022-09-15 03:22:50,887 cisTopic     INFO     Computing TSS profile for CNA_10xv11_4.35k\n"
     ]
    },
    {
     "name": "stdout",
     "output_type": "stream",
     "text": [
      "\u001b[2m\u001b[36m(compute_qc_stats_ray pid=3269561)\u001b[0m 2022-09-15 03:22:51,096 cisTopic     INFO     Creating coverage matrix\n"
     ]
    },
    {
     "name": "stdout",
     "output_type": "stream",
     "text": [
      "\u001b[2m\u001b[36m(compute_qc_stats_ray pid=3269570)\u001b[0m 2022-09-15 03:23:06,011 cisTopic     INFO     Formatting annnotation\n"
     ]
    },
    {
     "name": "stdout",
     "output_type": "stream",
     "text": [
      "\u001b[2m\u001b[36m(compute_qc_stats_ray pid=3269570)\u001b[0m 2022-09-15 03:23:06,932 cisTopic     INFO     Creating coverage matrix\n"
     ]
    },
    {
     "name": "stdout",
     "output_type": "stream",
     "text": [
      "\u001b[2m\u001b[36m(compute_qc_stats_ray pid=3269558)\u001b[0m 2022-09-15 03:25:12,450 cisTopic     INFO     Computing barcode rank plot for CNA_hydrop_1.35k\n",
      "\u001b[2m\u001b[36m(compute_qc_stats_ray pid=3269558)\u001b[0m 2022-09-15 03:25:12,451 cisTopic     INFO     Counting fragments\n"
     ]
    },
    {
     "name": "stdout",
     "output_type": "stream",
     "text": [
      "\u001b[2m\u001b[36m(compute_qc_stats_ray pid=3269564)\u001b[0m 2022-09-15 03:25:15,176 cisTopic     INFO     Computing barcode rank plot for VIB_10xmultiome_2.35k\n",
      "\u001b[2m\u001b[36m(compute_qc_stats_ray pid=3269564)\u001b[0m 2022-09-15 03:25:15,176 cisTopic     INFO     Counting fragments\n"
     ]
    },
    {
     "name": "stdout",
     "output_type": "stream",
     "text": [
      "\u001b[2m\u001b[36m(compute_qc_stats_ray pid=3269558)\u001b[0m 2022-09-15 03:25:30,117 cisTopic     INFO     Marking barcodes with more than 10\n"
     ]
    },
    {
     "name": "stdout",
     "output_type": "stream",
     "text": [
      "\u001b[2m\u001b[36m(compute_qc_stats_ray pid=3269558)\u001b[0m 2022-09-15 03:25:30,646 cisTopic     INFO     Returning plot data\n"
     ]
    },
    {
     "name": "stdout",
     "output_type": "stream",
     "text": [
      "\u001b[2m\u001b[36m(compute_qc_stats_ray pid=3269558)\u001b[0m 2022-09-15 03:25:30,805 cisTopic     INFO     Returning valid barcodes\n"
     ]
    },
    {
     "name": "stdout",
     "output_type": "stream",
     "text": [
      "\u001b[2m\u001b[36m(compute_qc_stats_ray pid=3269564)\u001b[0m 2022-09-15 03:25:39,506 cisTopic     INFO     Marking barcodes with more than 10\n"
     ]
    },
    {
     "name": "stdout",
     "output_type": "stream",
     "text": [
      "\u001b[2m\u001b[36m(compute_qc_stats_ray pid=3269564)\u001b[0m 2022-09-15 03:25:40,294 cisTopic     INFO     Returning plot data\n",
      "\u001b[2m\u001b[36m(compute_qc_stats_ray pid=3269564)\u001b[0m 2022-09-15 03:25:40,381 cisTopic     INFO     Returning valid barcodes\n"
     ]
    },
    {
     "name": "stdout",
     "output_type": "stream",
     "text": [
      "\u001b[2m\u001b[36m(compute_qc_stats_ray pid=3269558)\u001b[0m 2022-09-15 03:25:48,216 cisTopic     INFO     Computing duplicate rate plot for CNA_hydrop_1.35k\n"
     ]
    },
    {
     "name": "stdout",
     "output_type": "stream",
     "text": [
      "\u001b[2m\u001b[36m(compute_qc_stats_ray pid=3269564)\u001b[0m 2022-09-15 03:26:03,491 cisTopic     INFO     Computing duplicate rate plot for VIB_10xmultiome_2.35k\n"
     ]
    },
    {
     "name": "stdout",
     "output_type": "stream",
     "text": [
      "\u001b[2m\u001b[36m(compute_qc_stats_ray pid=3269558)\u001b[0m 2022-09-15 03:26:15,439 cisTopic     INFO     Return plot data\n"
     ]
    },
    {
     "name": "stdout",
     "output_type": "stream",
     "text": [
      "\u001b[2m\u001b[36m(compute_qc_stats_ray pid=3269558)\u001b[0m 2022-09-15 03:26:16,824 cisTopic     INFO     Computing insert size distribution for CNA_hydrop_1.35k\n",
      "\u001b[2m\u001b[36m(compute_qc_stats_ray pid=3269558)\u001b[0m 2022-09-15 03:26:16,824 cisTopic     INFO     Counting fragments\n"
     ]
    },
    {
     "name": "stdout",
     "output_type": "stream",
     "text": [
      "\u001b[2m\u001b[36m(compute_qc_stats_ray pid=3269558)\u001b[0m 2022-09-15 03:26:24,263 cisTopic     INFO     Returning plot data\n"
     ]
    },
    {
     "name": "stdout",
     "output_type": "stream",
     "text": [
      "\u001b[2m\u001b[36m(compute_qc_stats_ray pid=3269564)\u001b[0m 2022-09-15 03:26:47,928 cisTopic     INFO     Return plot data\n"
     ]
    },
    {
     "name": "stdout",
     "output_type": "stream",
     "text": [
      "\u001b[2m\u001b[36m(compute_qc_stats_ray pid=3269564)\u001b[0m 2022-09-15 03:26:49,227 cisTopic     INFO     Computing insert size distribution for VIB_10xmultiome_2.35k\n",
      "\u001b[2m\u001b[36m(compute_qc_stats_ray pid=3269564)\u001b[0m 2022-09-15 03:26:49,228 cisTopic     INFO     Counting fragments\n"
     ]
    },
    {
     "name": "stdout",
     "output_type": "stream",
     "text": [
      "\u001b[2m\u001b[36m(compute_qc_stats_ray pid=3269564)\u001b[0m 2022-09-15 03:26:59,811 cisTopic     INFO     Returning plot data\n"
     ]
    },
    {
     "name": "stdout",
     "output_type": "stream",
     "text": [
      "\u001b[2m\u001b[36m(compute_qc_stats_ray pid=3269570)\u001b[0m 2022-09-15 03:27:21,953 cisTopic     INFO     Coverage matrix done\n"
     ]
    },
    {
     "name": "stdout",
     "output_type": "stream",
     "text": [
      "\u001b[2m\u001b[36m(compute_qc_stats_ray pid=3269571)\u001b[0m 2022-09-15 03:28:00,123 cisTopic     INFO     Computing barcode rank plot for CNA_10xv11_1.35k\n",
      "\u001b[2m\u001b[36m(compute_qc_stats_ray pid=3269571)\u001b[0m 2022-09-15 03:28:00,123 cisTopic     INFO     Counting fragments\n"
     ]
    },
    {
     "name": "stdout",
     "output_type": "stream",
     "text": [
      "\u001b[2m\u001b[36m(compute_qc_stats_ray pid=3269571)\u001b[0m 2022-09-15 03:28:33,726 cisTopic     INFO     Marking barcodes with more than 10\n"
     ]
    },
    {
     "name": "stdout",
     "output_type": "stream",
     "text": [
      "\u001b[2m\u001b[36m(compute_qc_stats_ray pid=3269571)\u001b[0m 2022-09-15 03:28:34,771 cisTopic     INFO     Returning plot data\n",
      "\u001b[2m\u001b[36m(compute_qc_stats_ray pid=3269571)\u001b[0m 2022-09-15 03:28:34,857 cisTopic     INFO     Returning valid barcodes\n"
     ]
    },
    {
     "name": "stdout",
     "output_type": "stream",
     "text": [
      "\u001b[2m\u001b[36m(compute_qc_stats_ray pid=3269558)\u001b[0m 2022-09-15 03:28:57,623 cisTopic     INFO     Computing TSS profile for CNA_hydrop_1.35k\n"
     ]
    },
    {
     "name": "stdout",
     "output_type": "stream",
     "text": [
      "\u001b[2m\u001b[36m(compute_qc_stats_ray pid=3269571)\u001b[0m 2022-09-15 03:29:07,705 cisTopic     INFO     Computing duplicate rate plot for CNA_10xv11_1.35k\n"
     ]
    },
    {
     "name": "stdout",
     "output_type": "stream",
     "text": [
      "\u001b[2m\u001b[36m(compute_qc_stats_ray pid=3269559)\u001b[0m 2022-09-15 03:29:18,666 cisTopic     INFO     Computing barcode rank plot for VIB_10xv2_1.35k\n",
      "\u001b[2m\u001b[36m(compute_qc_stats_ray pid=3269559)\u001b[0m 2022-09-15 03:29:18,666 cisTopic     INFO     Counting fragments\n"
     ]
    },
    {
     "name": "stdout",
     "output_type": "stream",
     "text": [
      "\u001b[2m\u001b[36m(compute_qc_stats_ray pid=3269561)\u001b[0m 2022-09-15 03:29:43,655 cisTopic     INFO     Coverage matrix done\n"
     ]
    },
    {
     "name": "stdout",
     "output_type": "stream",
     "text": [
      "\u001b[2m\u001b[36m(compute_qc_stats_ray pid=3269574)\u001b[0m 2022-09-15 03:29:45,301 cisTopic     INFO     Computing barcode rank plot for BRO_mtscatac_1.35k\n",
      "\u001b[2m\u001b[36m(compute_qc_stats_ray pid=3269574)\u001b[0m 2022-09-15 03:29:45,384 cisTopic     INFO     Counting fragments\n"
     ]
    },
    {
     "name": "stdout",
     "output_type": "stream",
     "text": [
      "\u001b[2m\u001b[36m(compute_qc_stats_ray pid=3269559)\u001b[0m 2022-09-15 03:29:51,717 cisTopic     INFO     Marking barcodes with more than 10\n"
     ]
    },
    {
     "name": "stdout",
     "output_type": "stream",
     "text": [
      "\u001b[2m\u001b[36m(compute_qc_stats_ray pid=3269559)\u001b[0m 2022-09-15 03:29:52,420 cisTopic     INFO     Returning plot data\n",
      "\u001b[2m\u001b[36m(compute_qc_stats_ray pid=3269559)\u001b[0m 2022-09-15 03:29:52,422 cisTopic     INFO     Returning valid barcodes\n"
     ]
    },
    {
     "name": "stdout",
     "output_type": "stream",
     "text": [
      "\u001b[2m\u001b[36m(compute_qc_stats_ray pid=3269571)\u001b[0m 2022-09-15 03:30:06,162 cisTopic     INFO     Return plot data\n",
      "\u001b[2m\u001b[36m(compute_qc_stats_ray pid=3269558)\u001b[0m 2022-09-15 03:30:06,261 cisTopic     INFO     Formatting annnotation\n"
     ]
    },
    {
     "name": "stdout",
     "output_type": "stream",
     "text": [
      "\u001b[2m\u001b[36m(compute_qc_stats_ray pid=3269558)\u001b[0m 2022-09-15 03:30:07,302 cisTopic     INFO     Creating coverage matrix\n",
      "\u001b[2m\u001b[36m(compute_qc_stats_ray pid=3269571)\u001b[0m 2022-09-15 03:30:07,492 cisTopic     INFO     Computing insert size distribution for CNA_10xv11_1.35k\n",
      "\u001b[2m\u001b[36m(compute_qc_stats_ray pid=3269571)\u001b[0m 2022-09-15 03:30:07,492 cisTopic     INFO     Counting fragments\n"
     ]
    },
    {
     "name": "stdout",
     "output_type": "stream",
     "text": [
      "\u001b[2m\u001b[36m(compute_qc_stats_ray pid=3269571)\u001b[0m 2022-09-15 03:30:21,565 cisTopic     INFO     Returning plot data\n"
     ]
    },
    {
     "name": "stdout",
     "output_type": "stream",
     "text": [
      "\u001b[2m\u001b[36m(compute_qc_stats_ray pid=3269574)\u001b[0m 2022-09-15 03:30:25,979 cisTopic     INFO     Marking barcodes with more than 10\n"
     ]
    },
    {
     "name": "stdout",
     "output_type": "stream",
     "text": [
      "\u001b[2m\u001b[36m(compute_qc_stats_ray pid=3269574)\u001b[0m 2022-09-15 03:30:27,212 cisTopic     INFO     Returning plot data\n",
      "\u001b[2m\u001b[36m(compute_qc_stats_ray pid=3269574)\u001b[0m 2022-09-15 03:30:27,314 cisTopic     INFO     Returning valid barcodes\n"
     ]
    },
    {
     "name": "stdout",
     "output_type": "stream",
     "text": [
      "\u001b[2m\u001b[36m(compute_qc_stats_ray pid=3269570)\u001b[0m 2022-09-15 03:30:28,954 cisTopic     INFO     Returning normalized TSS coverage matrix per barcode\n"
     ]
    },
    {
     "name": "stdout",
     "output_type": "stream",
     "text": [
      "\u001b[2m\u001b[36m(compute_qc_stats_ray pid=3269559)\u001b[0m 2022-09-15 03:30:31,335 cisTopic     INFO     Computing duplicate rate plot for VIB_10xv2_1.35k\n"
     ]
    },
    {
     "name": "stdout",
     "output_type": "stream",
     "text": [
      "\u001b[2m\u001b[36m(compute_qc_stats_ray pid=3269564)\u001b[0m 2022-09-15 03:30:33,497 cisTopic     INFO     Computing TSS profile for VIB_10xmultiome_2.35k\n"
     ]
    },
    {
     "name": "stdout",
     "output_type": "stream",
     "text": [
      "\u001b[2m\u001b[36m(compute_qc_stats_ray pid=3269565)\u001b[0m 2022-09-15 03:30:43,797 cisTopic     INFO     Computing barcode rank plot for BIO_ddseq_3.35k\n",
      "\u001b[2m\u001b[36m(compute_qc_stats_ray pid=3269565)\u001b[0m 2022-09-15 03:30:43,797 cisTopic     INFO     Counting fragments\n"
     ]
    },
    {
     "name": "stdout",
     "output_type": "stream",
     "text": [
      "\u001b[2m\u001b[36m(compute_qc_stats_ray pid=3269569)\u001b[0m 2022-09-15 03:30:53,773 cisTopic     INFO     Computing barcode rank plot for VIB_10xv1_1.35k\n",
      "\u001b[2m\u001b[36m(compute_qc_stats_ray pid=3269569)\u001b[0m 2022-09-15 03:30:53,773 cisTopic     INFO     Counting fragments\n"
     ]
    },
    {
     "name": "stdout",
     "output_type": "stream",
     "text": [
      "\u001b[2m\u001b[36m(compute_qc_stats_ray pid=3269562)\u001b[0m 2022-09-15 03:31:04,725 cisTopic     INFO     Computing barcode rank plot for BIO_ddseq_4.35k\n",
      "\u001b[2m\u001b[36m(compute_qc_stats_ray pid=3269562)\u001b[0m 2022-09-15 03:31:04,725 cisTopic     INFO     Counting fragments\n"
     ]
    },
    {
     "name": "stdout",
     "output_type": "stream",
     "text": [
      "\u001b[2m\u001b[36m(compute_qc_stats_ray pid=3269574)\u001b[0m 2022-09-15 03:31:08,701 cisTopic     INFO     Computing duplicate rate plot for BRO_mtscatac_1.35k\n"
     ]
    },
    {
     "name": "stdout",
     "output_type": "stream",
     "text": [
      "\u001b[2m\u001b[36m(compute_qc_stats_ray pid=3269564)\u001b[0m 2022-09-15 03:31:24,539 cisTopic     INFO     Formatting annnotation\n",
      "\u001b[2m\u001b[36m(compute_qc_stats_ray pid=3269559)\u001b[0m 2022-09-15 03:31:24,488 cisTopic     INFO     Return plot data\n"
     ]
    },
    {
     "name": "stdout",
     "output_type": "stream",
     "text": [
      "\u001b[2m\u001b[36m(compute_qc_stats_ray pid=3269564)\u001b[0m 2022-09-15 03:31:25,552 cisTopic     INFO     Creating coverage matrix\n"
     ]
    },
    {
     "name": "stdout",
     "output_type": "stream",
     "text": [
      "\u001b[2m\u001b[36m(compute_qc_stats_ray pid=3269559)\u001b[0m 2022-09-15 03:31:25,815 cisTopic     INFO     Computing insert size distribution for VIB_10xv2_1.35k\n",
      "\u001b[2m\u001b[36m(compute_qc_stats_ray pid=3269559)\u001b[0m 2022-09-15 03:31:25,815 cisTopic     INFO     Counting fragments\n"
     ]
    },
    {
     "name": "stdout",
     "output_type": "stream",
     "text": [
      "\u001b[2m\u001b[36m(compute_qc_stats_ray pid=3269569)\u001b[0m 2022-09-15 03:31:37,571 cisTopic     INFO     Marking barcodes with more than 10\n"
     ]
    },
    {
     "name": "stdout",
     "output_type": "stream",
     "text": [
      "\u001b[2m\u001b[36m(compute_qc_stats_ray pid=3269569)\u001b[0m 2022-09-15 03:31:38,883 cisTopic     INFO     Returning plot data\n",
      "\u001b[2m\u001b[36m(compute_qc_stats_ray pid=3269569)\u001b[0m 2022-09-15 03:31:38,982 cisTopic     INFO     Returning valid barcodes\n"
     ]
    },
    {
     "name": "stdout",
     "output_type": "stream",
     "text": [
      "\u001b[2m\u001b[36m(compute_qc_stats_ray pid=3269559)\u001b[0m 2022-09-15 03:31:42,744 cisTopic     INFO     Returning plot data\n"
     ]
    },
    {
     "name": "stdout",
     "output_type": "stream",
     "text": [
      "\u001b[2m\u001b[36m(compute_qc_stats_ray pid=3269574)\u001b[0m 2022-09-15 03:32:18,018 cisTopic     INFO     Return plot data\n"
     ]
    },
    {
     "name": "stdout",
     "output_type": "stream",
     "text": [
      "\u001b[2m\u001b[36m(compute_qc_stats_ray pid=3269574)\u001b[0m 2022-09-15 03:32:19,414 cisTopic     INFO     Computing insert size distribution for BRO_mtscatac_1.35k\n",
      "\u001b[2m\u001b[36m(compute_qc_stats_ray pid=3269574)\u001b[0m 2022-09-15 03:32:19,414 cisTopic     INFO     Counting fragments\n"
     ]
    },
    {
     "name": "stdout",
     "output_type": "stream",
     "text": [
      "\u001b[2m\u001b[36m(compute_qc_stats_ray pid=3269569)\u001b[0m 2022-09-15 03:32:22,966 cisTopic     INFO     Computing duplicate rate plot for VIB_10xv1_1.35k\n"
     ]
    },
    {
     "name": "stdout",
     "output_type": "stream",
     "text": [
      "\u001b[2m\u001b[36m(compute_qc_stats_ray pid=3269574)\u001b[0m 2022-09-15 03:32:36,468 cisTopic     INFO     Returning plot data\n"
     ]
    },
    {
     "name": "stdout",
     "output_type": "stream",
     "text": [
      "\u001b[2m\u001b[36m(compute_qc_stats_ray pid=3269570)\u001b[0m 2022-09-15 03:32:41,440 cisTopic     INFO     Returning normalized sample TSS enrichment data\n"
     ]
    },
    {
     "name": "stdout",
     "output_type": "stream",
     "text": [
      "\u001b[2m\u001b[36m(compute_qc_stats_ray pid=3269570)\u001b[0m 2022-09-15 03:32:42,750 cisTopic     INFO     Computing FRIP profile for CNA_10xv11_4.35k\n"
     ]
    },
    {
     "name": "stdout",
     "output_type": "stream",
     "text": [
      "\u001b[2m\u001b[36m(compute_qc_stats_ray pid=3269570)\u001b[0m 2022-09-15 03:32:51,044 cisTopic     INFO     Counting fragments\n"
     ]
    },
    {
     "name": "stdout",
     "output_type": "stream",
     "text": [
      "\u001b[2m\u001b[36m(compute_qc_stats_ray pid=3269565)\u001b[0m 2022-09-15 03:32:57,190 cisTopic     INFO     Marking barcodes with more than 10\n"
     ]
    },
    {
     "name": "stdout",
     "output_type": "stream",
     "text": [
      "\u001b[2m\u001b[36m(compute_qc_stats_ray pid=3269565)\u001b[0m 2022-09-15 03:33:05,516 cisTopic     INFO     Returning plot data\n"
     ]
    },
    {
     "name": "stdout",
     "output_type": "stream",
     "text": [
      "\u001b[2m\u001b[36m(compute_qc_stats_ray pid=3269565)\u001b[0m 2022-09-15 03:33:05,691 cisTopic     INFO     Returning valid barcodes\n"
     ]
    },
    {
     "name": "stdout",
     "output_type": "stream",
     "text": [
      "\u001b[2m\u001b[36m(compute_qc_stats_ray pid=3269570)\u001b[0m 2022-09-15 03:33:07,459 cisTopic     INFO     Intersecting fragments with regions\n"
     ]
    },
    {
     "name": "stdout",
     "output_type": "stream",
     "text": [
      "\u001b[2m\u001b[36m(compute_qc_stats_ray pid=3269562)\u001b[0m 2022-09-15 03:33:20,607 cisTopic     INFO     Marking barcodes with more than 10\n"
     ]
    },
    {
     "name": "stdout",
     "output_type": "stream",
     "text": [
      "\u001b[2m\u001b[36m(compute_qc_stats_ray pid=3269562)\u001b[0m 2022-09-15 03:33:28,756 cisTopic     INFO     Returning plot data\n"
     ]
    },
    {
     "name": "stdout",
     "output_type": "stream",
     "text": [
      "\u001b[2m\u001b[36m(compute_qc_stats_ray pid=3269562)\u001b[0m 2022-09-15 03:33:28,937 cisTopic     INFO     Returning valid barcodes\n"
     ]
    },
    {
     "name": "stdout",
     "output_type": "stream",
     "text": [
      "\u001b[2m\u001b[36m(compute_qc_stats_ray pid=3269565)\u001b[0m 2022-09-15 03:33:31,119 cisTopic     INFO     Computing duplicate rate plot for BIO_ddseq_3.35k\n"
     ]
    },
    {
     "name": "stdout",
     "output_type": "stream",
     "text": [
      "\u001b[2m\u001b[36m(compute_qc_stats_ray pid=3269569)\u001b[0m 2022-09-15 03:33:36,517 cisTopic     INFO     Return plot data\n"
     ]
    },
    {
     "name": "stdout",
     "output_type": "stream",
     "text": [
      "\u001b[2m\u001b[36m(compute_qc_stats_ray pid=3269569)\u001b[0m 2022-09-15 03:33:37,830 cisTopic     INFO     Computing insert size distribution for VIB_10xv1_1.35k\n",
      "\u001b[2m\u001b[36m(compute_qc_stats_ray pid=3269569)\u001b[0m 2022-09-15 03:33:37,830 cisTopic     INFO     Counting fragments\n"
     ]
    },
    {
     "name": "stdout",
     "output_type": "stream",
     "text": [
      "\u001b[2m\u001b[36m(compute_qc_stats_ray pid=3269562)\u001b[0m 2022-09-15 03:33:54,409 cisTopic     INFO     Computing duplicate rate plot for BIO_ddseq_4.35k\n"
     ]
    },
    {
     "name": "stdout",
     "output_type": "stream",
     "text": [
      "\u001b[2m\u001b[36m(compute_qc_stats_ray pid=3269569)\u001b[0m 2022-09-15 03:33:56,371 cisTopic     INFO     Returning plot data\n"
     ]
    },
    {
     "name": "stdout",
     "output_type": "stream",
     "text": [
      "\u001b[2m\u001b[36m(compute_qc_stats_ray pid=3269570)\u001b[0m 2022-09-15 03:34:08,181 cisTopic     INFO     Sample CNA_10xv11_4.35k done!\n"
     ]
    },
    {
     "name": "stdout",
     "output_type": "stream",
     "text": [
      "\u001b[2m\u001b[36m(compute_qc_stats_ray pid=3269571)\u001b[0m 2022-09-15 03:34:59,779 cisTopic     INFO     Computing TSS profile for CNA_10xv11_1.35k\n"
     ]
    },
    {
     "name": "stdout",
     "output_type": "stream",
     "text": [
      "\u001b[2m\u001b[36m(compute_qc_stats_ray pid=3269571)\u001b[0m 2022-09-15 03:36:08,169 cisTopic     INFO     Formatting annnotation\n"
     ]
    },
    {
     "name": "stdout",
     "output_type": "stream",
     "text": [
      "\u001b[2m\u001b[36m(compute_qc_stats_ray pid=3269571)\u001b[0m 2022-09-15 03:36:09,134 cisTopic     INFO     Creating coverage matrix\n"
     ]
    },
    {
     "name": "stdout",
     "output_type": "stream",
     "text": [
      "\u001b[2m\u001b[36m(compute_qc_stats_ray pid=3269567)\u001b[0m 2022-09-15 03:36:15,833 cisTopic     INFO     Computing barcode rank plot for CNA_10xv11_3.35k\n",
      "\u001b[2m\u001b[36m(compute_qc_stats_ray pid=3269567)\u001b[0m 2022-09-15 03:36:15,833 cisTopic     INFO     Counting fragments\n"
     ]
    },
    {
     "name": "stdout",
     "output_type": "stream",
     "text": [
      "\u001b[2m\u001b[36m(compute_qc_stats_ray pid=3269566)\u001b[0m 2022-09-15 03:36:36,014 cisTopic     INFO     Computing barcode rank plot for BIO_ddseq_2.35k\n",
      "\u001b[2m\u001b[36m(compute_qc_stats_ray pid=3269566)\u001b[0m 2022-09-15 03:36:36,014 cisTopic     INFO     Counting fragments\n"
     ]
    },
    {
     "name": "stdout",
     "output_type": "stream",
     "text": [
      "\u001b[2m\u001b[36m(compute_qc_stats_ray pid=3269567)\u001b[0m 2022-09-15 03:37:08,696 cisTopic     INFO     Marking barcodes with more than 10\n"
     ]
    },
    {
     "name": "stdout",
     "output_type": "stream",
     "text": [
      "\u001b[2m\u001b[36m(compute_qc_stats_ray pid=3269567)\u001b[0m 2022-09-15 03:37:09,887 cisTopic     INFO     Returning plot data\n",
      "\u001b[2m\u001b[36m(compute_qc_stats_ray pid=3269567)\u001b[0m 2022-09-15 03:37:09,975 cisTopic     INFO     Returning valid barcodes\n"
     ]
    },
    {
     "name": "stdout",
     "output_type": "stream",
     "text": [
      "\u001b[2m\u001b[36m(compute_qc_stats_ray pid=3269558)\u001b[0m 2022-09-15 03:37:10,191 cisTopic     INFO     Coverage matrix done\n"
     ]
    },
    {
     "name": "stdout",
     "output_type": "stream",
     "text": [
      "\u001b[2m\u001b[36m(compute_qc_stats_ray pid=3269559)\u001b[0m 2022-09-15 03:37:14,310 cisTopic     INFO     Computing TSS profile for VIB_10xv2_1.35k\n"
     ]
    },
    {
     "name": "stdout",
     "output_type": "stream",
     "text": [
      "\u001b[2m\u001b[36m(compute_qc_stats_ray pid=3269565)\u001b[0m 2022-09-15 03:37:35,039 cisTopic     INFO     Return plot data\n"
     ]
    },
    {
     "name": "stdout",
     "output_type": "stream",
     "text": [
      "\u001b[2m\u001b[36m(compute_qc_stats_ray pid=3269565)\u001b[0m 2022-09-15 03:37:36,749 cisTopic     INFO     Computing insert size distribution for BIO_ddseq_3.35k\n",
      "\u001b[2m\u001b[36m(compute_qc_stats_ray pid=3269565)\u001b[0m 2022-09-15 03:37:36,749 cisTopic     INFO     Counting fragments\n"
     ]
    },
    {
     "name": "stdout",
     "output_type": "stream",
     "text": [
      "\u001b[2m\u001b[36m(compute_qc_stats_ray pid=3269565)\u001b[0m 2022-09-15 03:37:44,233 cisTopic     INFO     Returning plot data\n"
     ]
    },
    {
     "name": "stdout",
     "output_type": "stream",
     "text": [
      "\u001b[2m\u001b[36m(compute_qc_stats_ray pid=3269562)\u001b[0m 2022-09-15 03:38:00,605 cisTopic     INFO     Return plot data\n"
     ]
    },
    {
     "name": "stdout",
     "output_type": "stream",
     "text": [
      "\u001b[2m\u001b[36m(compute_qc_stats_ray pid=3269562)\u001b[0m 2022-09-15 03:38:02,277 cisTopic     INFO     Computing insert size distribution for BIO_ddseq_4.35k\n",
      "\u001b[2m\u001b[36m(compute_qc_stats_ray pid=3269562)\u001b[0m 2022-09-15 03:38:02,277 cisTopic     INFO     Counting fragments\n"
     ]
    },
    {
     "name": "stdout",
     "output_type": "stream",
     "text": [
      "\u001b[2m\u001b[36m(compute_qc_stats_ray pid=3269574)\u001b[0m 2022-09-15 03:38:05,757 cisTopic     INFO     Computing TSS profile for BRO_mtscatac_1.35k\n"
     ]
    },
    {
     "name": "stdout",
     "output_type": "stream",
     "text": [
      "\u001b[2m\u001b[36m(compute_qc_stats_ray pid=3269567)\u001b[0m 2022-09-15 03:38:05,895 cisTopic     INFO     Computing duplicate rate plot for CNA_10xv11_3.35k\n"
     ]
    },
    {
     "name": "stdout",
     "output_type": "stream",
     "text": [
      "\u001b[2m\u001b[36m(compute_qc_stats_ray pid=3269559)\u001b[0m 2022-09-15 03:38:08,406 cisTopic     INFO     Formatting annnotation\n"
     ]
    },
    {
     "name": "stdout",
     "output_type": "stream",
     "text": [
      "\u001b[2m\u001b[36m(compute_qc_stats_ray pid=3269559)\u001b[0m 2022-09-15 03:38:09,399 cisTopic     INFO     Creating coverage matrix\n"
     ]
    },
    {
     "name": "stdout",
     "output_type": "stream",
     "text": [
      "\u001b[2m\u001b[36m(compute_qc_stats_ray pid=3269562)\u001b[0m 2022-09-15 03:38:09,755 cisTopic     INFO     Returning plot data\n"
     ]
    },
    {
     "name": "stdout",
     "output_type": "stream",
     "text": [
      "\u001b[2m\u001b[36m(compute_qc_stats_ray pid=3269564)\u001b[0m 2022-09-15 03:38:40,690 cisTopic     INFO     Coverage matrix done\n"
     ]
    },
    {
     "name": "stdout",
     "output_type": "stream",
     "text": [
      "\u001b[2m\u001b[36m(compute_qc_stats_ray pid=3269566)\u001b[0m 2022-09-15 03:39:08,151 cisTopic     INFO     Marking barcodes with more than 10\n"
     ]
    },
    {
     "name": "stdout",
     "output_type": "stream",
     "text": [
      "\u001b[2m\u001b[36m(compute_qc_stats_ray pid=3269574)\u001b[0m 2022-09-15 03:39:14,740 cisTopic     INFO     Formatting annnotation\n"
     ]
    },
    {
     "name": "stdout",
     "output_type": "stream",
     "text": [
      "\u001b[2m\u001b[36m(compute_qc_stats_ray pid=3269574)\u001b[0m 2022-09-15 03:39:15,735 cisTopic     INFO     Creating coverage matrix\n"
     ]
    },
    {
     "name": "stdout",
     "output_type": "stream",
     "text": [
      "\u001b[2m\u001b[36m(compute_qc_stats_ray pid=3269566)\u001b[0m 2022-09-15 03:39:16,275 cisTopic     INFO     Returning plot data\n",
      "\u001b[2m\u001b[36m(compute_qc_stats_ray pid=3269566)\u001b[0m 2022-09-15 03:39:16,442 cisTopic     INFO     Returning valid barcodes\n"
     ]
    },
    {
     "name": "stdout",
     "output_type": "stream",
     "text": [
      "\u001b[2m\u001b[36m(compute_qc_stats_ray pid=3269567)\u001b[0m 2022-09-15 03:39:30,219 cisTopic     INFO     Return plot data\n"
     ]
    },
    {
     "name": "stdout",
     "output_type": "stream",
     "text": [
      "\u001b[2m\u001b[36m(compute_qc_stats_ray pid=3269567)\u001b[0m 2022-09-15 03:39:31,546 cisTopic     INFO     Computing insert size distribution for CNA_10xv11_3.35k\n",
      "\u001b[2m\u001b[36m(compute_qc_stats_ray pid=3269567)\u001b[0m 2022-09-15 03:39:31,546 cisTopic     INFO     Counting fragments\n"
     ]
    },
    {
     "name": "stdout",
     "output_type": "stream",
     "text": [
      "\u001b[2m\u001b[36m(compute_qc_stats_ray pid=3269569)\u001b[0m 2022-09-15 03:39:52,582 cisTopic     INFO     Computing TSS profile for VIB_10xv1_1.35k\n"
     ]
    },
    {
     "name": "stdout",
     "output_type": "stream",
     "text": [
      "\u001b[2m\u001b[36m(compute_qc_stats_ray pid=3269566)\u001b[0m 2022-09-15 03:39:55,294 cisTopic     INFO     Computing duplicate rate plot for BIO_ddseq_2.35k\n"
     ]
    },
    {
     "name": "stdout",
     "output_type": "stream",
     "text": [
      "\u001b[2m\u001b[36m(compute_qc_stats_ray pid=3269567)\u001b[0m 2022-09-15 03:39:55,619 cisTopic     INFO     Returning plot data\n"
     ]
    },
    {
     "name": "stdout",
     "output_type": "stream",
     "text": [
      "\u001b[2m\u001b[36m(compute_qc_stats_ray pid=3269565)\u001b[0m 2022-09-15 03:40:25,527 cisTopic     INFO     Computing TSS profile for BIO_ddseq_3.35k\n"
     ]
    },
    {
     "name": "stdout",
     "output_type": "stream",
     "text": [
      "\u001b[2m\u001b[36m(compute_qc_stats_ray pid=3269562)\u001b[0m 2022-09-15 03:40:50,514 cisTopic     INFO     Computing TSS profile for BIO_ddseq_4.35k\n"
     ]
    },
    {
     "name": "stdout",
     "output_type": "stream",
     "text": [
      "\u001b[2m\u001b[36m(compute_qc_stats_ray pid=3269569)\u001b[0m 2022-09-15 03:41:15,393 cisTopic     INFO     Formatting annnotation\n"
     ]
    },
    {
     "name": "stdout",
     "output_type": "stream",
     "text": [
      "\u001b[2m\u001b[36m(compute_qc_stats_ray pid=3269569)\u001b[0m 2022-09-15 03:41:16,361 cisTopic     INFO     Creating coverage matrix\n"
     ]
    },
    {
     "name": "stdout",
     "output_type": "stream",
     "text": [
      "\u001b[2m\u001b[36m(compute_qc_stats_ray pid=3269565)\u001b[0m 2022-09-15 03:41:54,082 cisTopic     INFO     Formatting annnotation\n"
     ]
    },
    {
     "name": "stdout",
     "output_type": "stream",
     "text": [
      "\u001b[2m\u001b[36m(compute_qc_stats_ray pid=3269565)\u001b[0m 2022-09-15 03:41:55,006 cisTopic     INFO     Creating coverage matrix\n"
     ]
    },
    {
     "name": "stdout",
     "output_type": "stream",
     "text": [
      "\u001b[2m\u001b[36m(compute_qc_stats_ray pid=3269562)\u001b[0m 2022-09-15 03:42:20,829 cisTopic     INFO     Formatting annnotation\n"
     ]
    },
    {
     "name": "stdout",
     "output_type": "stream",
     "text": [
      "\u001b[2m\u001b[36m(compute_qc_stats_ray pid=3269562)\u001b[0m 2022-09-15 03:42:21,868 cisTopic     INFO     Creating coverage matrix\n"
     ]
    },
    {
     "name": "stdout",
     "output_type": "stream",
     "text": [
      "\u001b[2m\u001b[36m(compute_qc_stats_ray pid=3269572)\u001b[0m 2022-09-15 03:43:35,919 cisTopic     INFO     Computing barcode rank plot for UCS_ddseq_2.35k\n",
      "\u001b[2m\u001b[36m(compute_qc_stats_ray pid=3269572)\u001b[0m 2022-09-15 03:43:35,919 cisTopic     INFO     Counting fragments\n"
     ]
    },
    {
     "name": "stdout",
     "output_type": "stream",
     "text": [
      "\u001b[2m\u001b[36m(compute_qc_stats_ray pid=3269566)\u001b[0m 2022-09-15 03:44:39,566 cisTopic     INFO     Return plot data\n"
     ]
    },
    {
     "name": "stdout",
     "output_type": "stream",
     "text": [
      "\u001b[2m\u001b[36m(compute_qc_stats_ray pid=3269566)\u001b[0m 2022-09-15 03:44:41,291 cisTopic     INFO     Computing insert size distribution for BIO_ddseq_2.35k\n",
      "\u001b[2m\u001b[36m(compute_qc_stats_ray pid=3269566)\u001b[0m 2022-09-15 03:44:41,291 cisTopic     INFO     Counting fragments\n"
     ]
    },
    {
     "name": "stdout",
     "output_type": "stream",
     "text": [
      "\u001b[2m\u001b[36m(compute_qc_stats_ray pid=3269566)\u001b[0m 2022-09-15 03:44:55,564 cisTopic     INFO     Returning plot data\n"
     ]
    },
    {
     "name": "stdout",
     "output_type": "stream",
     "text": [
      "\u001b[2m\u001b[36m(compute_qc_stats_ray pid=3269572)\u001b[0m 2022-09-15 03:45:55,775 cisTopic     INFO     Marking barcodes with more than 10\n"
     ]
    },
    {
     "name": "stdout",
     "output_type": "stream",
     "text": [
      "\u001b[2m\u001b[36m(compute_qc_stats_ray pid=3269572)\u001b[0m 2022-09-15 03:46:01,856 cisTopic     INFO     Returning plot data\n",
      "\u001b[2m\u001b[36m(compute_qc_stats_ray pid=3269572)\u001b[0m 2022-09-15 03:46:01,937 cisTopic     INFO     Returning valid barcodes\n"
     ]
    },
    {
     "name": "stdout",
     "output_type": "stream",
     "text": [
      "\u001b[2m\u001b[36m(compute_qc_stats_ray pid=3269571)\u001b[0m 2022-09-15 03:46:25,404 cisTopic     INFO     Coverage matrix done\n"
     ]
    },
    {
     "name": "stdout",
     "output_type": "stream",
     "text": [
      "\u001b[2m\u001b[36m(compute_qc_stats_ray pid=3269572)\u001b[0m 2022-09-15 03:47:05,302 cisTopic     INFO     Computing duplicate rate plot for UCS_ddseq_2.35k\n"
     ]
    },
    {
     "name": "stdout",
     "output_type": "stream",
     "text": [
      "\u001b[2m\u001b[36m(compute_qc_stats_ray pid=3269564)\u001b[0m 2022-09-15 03:47:16,586 cisTopic     INFO     Returning normalized TSS coverage matrix per barcode\n"
     ]
    },
    {
     "name": "stdout",
     "output_type": "stream",
     "text": [
      "\u001b[2m\u001b[36m(compute_qc_stats_ray pid=3269561)\u001b[0m 2022-09-15 03:47:54,608 cisTopic     INFO     Returning normalized TSS coverage matrix per barcode\n"
     ]
    },
    {
     "name": "stdout",
     "output_type": "stream",
     "text": [
      "\u001b[2m\u001b[36m(compute_qc_stats_ray pid=3269567)\u001b[0m 2022-09-15 03:48:19,337 cisTopic     INFO     Computing TSS profile for CNA_10xv11_3.35k\n"
     ]
    },
    {
     "name": "stdout",
     "output_type": "stream",
     "text": [
      "\u001b[2m\u001b[36m(compute_qc_stats_ray pid=3269563)\u001b[0m 2022-09-15 03:49:40,453 cisTopic     INFO     Computing barcode rank plot for UCS_ddseq_1.35k\n",
      "\u001b[2m\u001b[36m(compute_qc_stats_ray pid=3269563)\u001b[0m 2022-09-15 03:49:40,453 cisTopic     INFO     Counting fragments\n"
     ]
    },
    {
     "name": "stdout",
     "output_type": "stream",
     "text": [
      "\u001b[2m\u001b[36m(compute_qc_stats_ray pid=3269566)\u001b[0m 2022-09-15 03:49:46,769 cisTopic     INFO     Computing TSS profile for BIO_ddseq_2.35k\n"
     ]
    },
    {
     "name": "stdout",
     "output_type": "stream",
     "text": [
      "\u001b[2m\u001b[36m(compute_qc_stats_ray pid=3269567)\u001b[0m 2022-09-15 03:50:14,140 cisTopic     INFO     Formatting annnotation\n"
     ]
    },
    {
     "name": "stdout",
     "output_type": "stream",
     "text": [
      "\u001b[2m\u001b[36m(compute_qc_stats_ray pid=3269567)\u001b[0m 2022-09-15 03:50:15,069 cisTopic     INFO     Creating coverage matrix\n"
     ]
    },
    {
     "name": "stdout",
     "output_type": "stream",
     "text": [
      "\u001b[2m\u001b[36m(compute_qc_stats_ray pid=3269572)\u001b[0m 2022-09-15 03:51:17,615 cisTopic     INFO     Return plot data\n"
     ]
    },
    {
     "name": "stdout",
     "output_type": "stream",
     "text": [
      "\u001b[2m\u001b[36m(compute_qc_stats_ray pid=3269572)\u001b[0m 2022-09-15 03:51:19,201 cisTopic     INFO     Computing insert size distribution for UCS_ddseq_2.35k\n",
      "\u001b[2m\u001b[36m(compute_qc_stats_ray pid=3269572)\u001b[0m 2022-09-15 03:51:19,202 cisTopic     INFO     Counting fragments\n"
     ]
    },
    {
     "name": "stdout",
     "output_type": "stream",
     "text": [
      "\u001b[2m\u001b[36m(compute_qc_stats_ray pid=3269572)\u001b[0m 2022-09-15 03:51:44,018 cisTopic     INFO     Returning plot data\n"
     ]
    },
    {
     "name": "stdout",
     "output_type": "stream",
     "text": [
      "\u001b[2m\u001b[36m(compute_qc_stats_ray pid=3269566)\u001b[0m 2022-09-15 03:51:51,350 cisTopic     INFO     Formatting annnotation\n"
     ]
    },
    {
     "name": "stdout",
     "output_type": "stream",
     "text": [
      "\u001b[2m\u001b[36m(compute_qc_stats_ray pid=3269566)\u001b[0m 2022-09-15 03:51:52,269 cisTopic     INFO     Creating coverage matrix\n"
     ]
    },
    {
     "name": "stdout",
     "output_type": "stream",
     "text": [
      "\u001b[2m\u001b[36m(compute_qc_stats_ray pid=3269563)\u001b[0m 2022-09-15 03:52:41,869 cisTopic     INFO     Marking barcodes with more than 10\n"
     ]
    },
    {
     "name": "stdout",
     "output_type": "stream",
     "text": [
      "\u001b[2m\u001b[36m(compute_qc_stats_ray pid=3269563)\u001b[0m 2022-09-15 03:52:49,139 cisTopic     INFO     Returning plot data\n"
     ]
    },
    {
     "name": "stdout",
     "output_type": "stream",
     "text": [
      "\u001b[2m\u001b[36m(compute_qc_stats_ray pid=3269563)\u001b[0m 2022-09-15 03:52:49,215 cisTopic     INFO     Returning valid barcodes\n"
     ]
    },
    {
     "name": "stdout",
     "output_type": "stream",
     "text": [
      "\u001b[2m\u001b[36m(compute_qc_stats_ray pid=3269564)\u001b[0m 2022-09-15 03:53:25,650 cisTopic     INFO     Returning normalized sample TSS enrichment data\n"
     ]
    },
    {
     "name": "stdout",
     "output_type": "stream",
     "text": [
      "\u001b[2m\u001b[36m(compute_qc_stats_ray pid=3269564)\u001b[0m 2022-09-15 03:53:26,924 cisTopic     INFO     Computing FRIP profile for VIB_10xmultiome_2.35k\n"
     ]
    },
    {
     "name": "stdout",
     "output_type": "stream",
     "text": [
      "\u001b[2m\u001b[36m(compute_qc_stats_ray pid=3269564)\u001b[0m 2022-09-15 03:53:34,234 cisTopic     INFO     Counting fragments\n"
     ]
    },
    {
     "name": "stdout",
     "output_type": "stream",
     "text": [
      "\u001b[2m\u001b[36m(compute_qc_stats_ray pid=3269574)\u001b[0m 2022-09-15 03:54:02,348 cisTopic     INFO     Coverage matrix done\n"
     ]
    },
    {
     "name": "stdout",
     "output_type": "stream",
     "text": [
      "\u001b[2m\u001b[36m(compute_qc_stats_ray pid=3269563)\u001b[0m 2022-09-15 03:54:12,214 cisTopic     INFO     Computing duplicate rate plot for UCS_ddseq_1.35k\n"
     ]
    },
    {
     "name": "stdout",
     "output_type": "stream",
     "text": [
      "\u001b[2m\u001b[36m(compute_qc_stats_ray pid=3269564)\u001b[0m 2022-09-15 03:54:13,603 cisTopic     INFO     Intersecting fragments with regions\n"
     ]
    },
    {
     "name": "stdout",
     "output_type": "stream",
     "text": [
      "\u001b[2m\u001b[36m(compute_qc_stats_ray pid=3269564)\u001b[0m 2022-09-15 03:55:37,267 cisTopic     INFO     Sample VIB_10xmultiome_2.35k done!\n"
     ]
    },
    {
     "name": "stdout",
     "output_type": "stream",
     "text": [
      "\u001b[2m\u001b[36m(compute_qc_stats_ray pid=3269573)\u001b[0m 2022-09-15 03:56:34,963 cisTopic     INFO     Computing barcode rank plot for TXG_10xv2_2.35k\n",
      "\u001b[2m\u001b[36m(compute_qc_stats_ray pid=3269573)\u001b[0m 2022-09-15 03:56:34,963 cisTopic     INFO     Counting fragments\n"
     ]
    },
    {
     "name": "stdout",
     "output_type": "stream",
     "text": [
      "\u001b[2m\u001b[36m(compute_qc_stats_ray pid=3269569)\u001b[0m 2022-09-15 03:56:49,001 cisTopic     INFO     Coverage matrix done\n"
     ]
    },
    {
     "name": "stdout",
     "output_type": "stream",
     "text": [
      "\u001b[2m\u001b[36m(compute_qc_stats_ray pid=3269571)\u001b[0m 2022-09-15 03:58:17,959 cisTopic     INFO     Returning normalized TSS coverage matrix per barcode\n"
     ]
    },
    {
     "name": "stdout",
     "output_type": "stream",
     "text": [
      "\u001b[2m\u001b[36m(compute_qc_stats_ray pid=3269573)\u001b[0m 2022-09-15 03:58:21,428 cisTopic     INFO     Marking barcodes with more than 10\n"
     ]
    },
    {
     "name": "stdout",
     "output_type": "stream",
     "text": [
      "\u001b[2m\u001b[36m(compute_qc_stats_ray pid=3269573)\u001b[0m 2022-09-15 03:58:22,990 cisTopic     INFO     Returning plot data\n"
     ]
    },
    {
     "name": "stdout",
     "output_type": "stream",
     "text": [
      "\u001b[2m\u001b[36m(compute_qc_stats_ray pid=3269573)\u001b[0m 2022-09-15 03:58:23,198 cisTopic     INFO     Returning valid barcodes\n"
     ]
    },
    {
     "name": "stdout",
     "output_type": "stream",
     "text": [
      "\u001b[2m\u001b[36m(compute_qc_stats_ray pid=3269558)\u001b[0m 2022-09-15 03:59:32,937 cisTopic     INFO     Returning normalized TSS coverage matrix per barcode\n"
     ]
    },
    {
     "name": "stdout",
     "output_type": "stream",
     "text": [
      "\u001b[2m\u001b[36m(compute_qc_stats_ray pid=3269572)\u001b[0m 2022-09-15 03:59:35,361 cisTopic     INFO     Computing TSS profile for UCS_ddseq_2.35k\n"
     ]
    },
    {
     "name": "stdout",
     "output_type": "stream",
     "text": [
      "\u001b[2m\u001b[36m(compute_qc_stats_ray pid=3269561)\u001b[0m 2022-09-15 04:00:02,372 cisTopic     INFO     Returning normalized sample TSS enrichment data\n"
     ]
    },
    {
     "name": "stdout",
     "output_type": "stream",
     "text": [
      "\u001b[2m\u001b[36m(compute_qc_stats_ray pid=3269561)\u001b[0m 2022-09-15 04:00:03,616 cisTopic     INFO     Computing FRIP profile for VIB_hydrop_11.35k\n"
     ]
    },
    {
     "name": "stdout",
     "output_type": "stream",
     "text": [
      "\u001b[2m\u001b[36m(compute_qc_stats_ray pid=3269561)\u001b[0m 2022-09-15 04:00:08,599 cisTopic     INFO     Counting fragments\n"
     ]
    },
    {
     "name": "stdout",
     "output_type": "stream",
     "text": [
      "\u001b[2m\u001b[36m(compute_qc_stats_ray pid=3269563)\u001b[0m 2022-09-15 04:00:08,967 cisTopic     INFO     Return plot data\n"
     ]
    },
    {
     "name": "stdout",
     "output_type": "stream",
     "text": [
      "\u001b[2m\u001b[36m(compute_qc_stats_ray pid=3269563)\u001b[0m 2022-09-15 04:00:10,599 cisTopic     INFO     Computing insert size distribution for UCS_ddseq_1.35k\n",
      "\u001b[2m\u001b[36m(compute_qc_stats_ray pid=3269563)\u001b[0m 2022-09-15 04:00:10,599 cisTopic     INFO     Counting fragments\n"
     ]
    },
    {
     "name": "stdout",
     "output_type": "stream",
     "text": [
      "\u001b[2m\u001b[36m(compute_qc_stats_ray pid=3269568)\u001b[0m 2022-09-15 04:00:11,464 cisTopic     INFO     Computing barcode rank plot for TXG_10xv11_1.35k\n",
      "\u001b[2m\u001b[36m(compute_qc_stats_ray pid=3269568)\u001b[0m 2022-09-15 04:00:11,464 cisTopic     INFO     Counting fragments\n"
     ]
    },
    {
     "name": "stdout",
     "output_type": "stream",
     "text": [
      "\u001b[2m\u001b[36m(compute_qc_stats_ray pid=3269561)\u001b[0m 2022-09-15 04:00:18,439 cisTopic     INFO     Intersecting fragments with regions\n"
     ]
    },
    {
     "name": "stdout",
     "output_type": "stream",
     "text": [
      "\u001b[2m\u001b[36m(compute_qc_stats_ray pid=3269563)\u001b[0m 2022-09-15 04:00:35,901 cisTopic     INFO     Returning plot data\n"
     ]
    },
    {
     "name": "stdout",
     "output_type": "stream",
     "text": [
      "\u001b[2m\u001b[36m(compute_qc_stats_ray pid=3269573)\u001b[0m 2022-09-15 04:00:40,137 cisTopic     INFO     Computing duplicate rate plot for TXG_10xv2_2.35k\n"
     ]
    },
    {
     "name": "stdout",
     "output_type": "stream",
     "text": [
      "\u001b[2m\u001b[36m(compute_qc_stats_ray pid=3269561)\u001b[0m 2022-09-15 04:00:57,968 cisTopic     INFO     Sample VIB_hydrop_11.35k done!\n"
     ]
    },
    {
     "name": "stdout",
     "output_type": "stream",
     "text": [
      "\u001b[2m\u001b[36m(compute_qc_stats_ray pid=3269572)\u001b[0m 2022-09-15 04:02:06,417 cisTopic     INFO     Formatting annnotation\n"
     ]
    },
    {
     "name": "stdout",
     "output_type": "stream",
     "text": [
      "\u001b[2m\u001b[36m(compute_qc_stats_ray pid=3269572)\u001b[0m 2022-09-15 04:02:07,253 cisTopic     INFO     Creating coverage matrix\n"
     ]
    },
    {
     "name": "stdout",
     "output_type": "stream",
     "text": [
      "\u001b[2m\u001b[36m(compute_qc_stats_ray pid=3269568)\u001b[0m 2022-09-15 04:02:10,925 cisTopic     INFO     Marking barcodes with more than 10\n"
     ]
    },
    {
     "name": "stdout",
     "output_type": "stream",
     "text": [
      "\u001b[2m\u001b[36m(compute_qc_stats_ray pid=3269568)\u001b[0m 2022-09-15 04:02:12,538 cisTopic     INFO     Returning plot data\n"
     ]
    },
    {
     "name": "stdout",
     "output_type": "stream",
     "text": [
      "\u001b[2m\u001b[36m(compute_qc_stats_ray pid=3269568)\u001b[0m 2022-09-15 04:02:12,765 cisTopic     INFO     Returning valid barcodes\n"
     ]
    },
    {
     "name": "stdout",
     "output_type": "stream",
     "text": [
      "\u001b[2m\u001b[36m(compute_qc_stats_ray pid=3269565)\u001b[0m 2022-09-15 04:02:14,979 cisTopic     INFO     Coverage matrix done\n"
     ]
    },
    {
     "name": "stdout",
     "output_type": "stream",
     "text": [
      "\u001b[2m\u001b[36m(compute_qc_stats_ray pid=3269562)\u001b[0m 2022-09-15 04:02:30,410 cisTopic     INFO     Coverage matrix done\n"
     ]
    },
    {
     "name": "stdout",
     "output_type": "stream",
     "text": [
      "\u001b[2m\u001b[36m(compute_qc_stats_ray pid=3269559)\u001b[0m 2022-09-15 04:02:43,503 cisTopic     INFO     Coverage matrix done\n"
     ]
    },
    {
     "name": "stdout",
     "output_type": "stream",
     "text": [
      "\u001b[2m\u001b[36m(compute_qc_stats_ray pid=3269573)\u001b[0m 2022-09-15 04:03:16,820 cisTopic     INFO     Return plot data\n"
     ]
    },
    {
     "name": "stdout",
     "output_type": "stream",
     "text": [
      "\u001b[2m\u001b[36m(compute_qc_stats_ray pid=3269573)\u001b[0m 2022-09-15 04:03:17,990 cisTopic     INFO     Computing insert size distribution for TXG_10xv2_2.35k\n",
      "\u001b[2m\u001b[36m(compute_qc_stats_ray pid=3269573)\u001b[0m 2022-09-15 04:03:17,990 cisTopic     INFO     Counting fragments\n"
     ]
    },
    {
     "name": "stdout",
     "output_type": "stream",
     "text": [
      "\u001b[2m\u001b[36m(compute_qc_stats_ray pid=3269573)\u001b[0m 2022-09-15 04:04:05,866 cisTopic     INFO     Returning plot data\n"
     ]
    },
    {
     "name": "stdout",
     "output_type": "stream",
     "text": [
      "\u001b[2m\u001b[36m(compute_qc_stats_ray pid=3269568)\u001b[0m 2022-09-15 04:04:11,251 cisTopic     INFO     Computing duplicate rate plot for TXG_10xv11_1.35k\n"
     ]
    },
    {
     "name": "stdout",
     "output_type": "stream",
     "text": [
      "\u001b[2m\u001b[36m(compute_qc_stats_ray pid=3269574)\u001b[0m 2022-09-15 04:04:14,675 cisTopic     INFO     Returning normalized TSS coverage matrix per barcode\n"
     ]
    },
    {
     "name": "stdout",
     "output_type": "stream",
     "text": [
      "\u001b[2m\u001b[36m(compute_qc_stats_ray pid=3269571)\u001b[0m 2022-09-15 04:05:41,934 cisTopic     INFO     Returning normalized sample TSS enrichment data\n"
     ]
    },
    {
     "name": "stdout",
     "output_type": "stream",
     "text": [
      "\u001b[2m\u001b[36m(compute_qc_stats_ray pid=3269571)\u001b[0m 2022-09-15 04:05:43,050 cisTopic     INFO     Computing FRIP profile for CNA_10xv11_1.35k\n"
     ]
    },
    {
     "name": "stdout",
     "output_type": "stream",
     "text": [
      "\u001b[2m\u001b[36m(compute_qc_stats_ray pid=3269571)\u001b[0m 2022-09-15 04:05:50,193 cisTopic     INFO     Counting fragments\n"
     ]
    },
    {
     "name": "stdout",
     "output_type": "stream",
     "text": [
      "\u001b[2m\u001b[36m(compute_qc_stats_ray pid=3269571)\u001b[0m 2022-09-15 04:06:33,640 cisTopic     INFO     Intersecting fragments with regions\n"
     ]
    },
    {
     "name": "stdout",
     "output_type": "stream",
     "text": [
      "\u001b[2m\u001b[36m(compute_qc_stats_ray pid=3269568)\u001b[0m 2022-09-15 04:07:05,870 cisTopic     INFO     Return plot data\n"
     ]
    },
    {
     "name": "stdout",
     "output_type": "stream",
     "text": [
      "\u001b[2m\u001b[36m(compute_qc_stats_ray pid=3269568)\u001b[0m 2022-09-15 04:07:06,955 cisTopic     INFO     Computing insert size distribution for TXG_10xv11_1.35k\n",
      "\u001b[2m\u001b[36m(compute_qc_stats_ray pid=3269568)\u001b[0m 2022-09-15 04:07:06,955 cisTopic     INFO     Counting fragments\n"
     ]
    },
    {
     "name": "stdout",
     "output_type": "stream",
     "text": [
      "\u001b[2m\u001b[36m(compute_qc_stats_ray pid=3269569)\u001b[0m 2022-09-15 04:07:39,913 cisTopic     INFO     Returning normalized TSS coverage matrix per barcode\n"
     ]
    },
    {
     "name": "stdout",
     "output_type": "stream",
     "text": [
      "\u001b[2m\u001b[36m(compute_qc_stats_ray pid=3269559)\u001b[0m 2022-09-15 04:07:46,313 cisTopic     INFO     Returning normalized TSS coverage matrix per barcode\n"
     ]
    },
    {
     "name": "stdout",
     "output_type": "stream",
     "text": [
      "\u001b[2m\u001b[36m(compute_qc_stats_ray pid=3269568)\u001b[0m 2022-09-15 04:07:57,773 cisTopic     INFO     Returning plot data\n"
     ]
    },
    {
     "name": "stdout",
     "output_type": "stream",
     "text": [
      "\u001b[2m\u001b[36m(compute_qc_stats_ray pid=3269571)\u001b[0m 2022-09-15 04:08:24,029 cisTopic     INFO     Sample CNA_10xv11_1.35k done!\n"
     ]
    },
    {
     "name": "stdout",
     "output_type": "stream",
     "text": [
      "\u001b[2m\u001b[36m(compute_qc_stats_ray pid=3269563)\u001b[0m 2022-09-15 04:08:39,365 cisTopic     INFO     Computing TSS profile for UCS_ddseq_1.35k\n"
     ]
    },
    {
     "name": "stdout",
     "output_type": "stream",
     "text": [
      "\u001b[2m\u001b[36m(compute_qc_stats_ray pid=3269574)\u001b[0m 2022-09-15 04:10:30,573 cisTopic     INFO     Returning normalized sample TSS enrichment data\n"
     ]
    },
    {
     "name": "stdout",
     "output_type": "stream",
     "text": [
      "\u001b[2m\u001b[36m(compute_qc_stats_ray pid=3269574)\u001b[0m 2022-09-15 04:10:31,663 cisTopic     INFO     Computing FRIP profile for BRO_mtscatac_1.35k\n"
     ]
    },
    {
     "name": "stdout",
     "output_type": "stream",
     "text": [
      "\u001b[2m\u001b[36m(compute_qc_stats_ray pid=3269574)\u001b[0m 2022-09-15 04:10:39,772 cisTopic     INFO     Counting fragments\n"
     ]
    },
    {
     "name": "stdout",
     "output_type": "stream",
     "text": [
      "\u001b[2m\u001b[36m(compute_qc_stats_ray pid=3269567)\u001b[0m 2022-09-15 04:10:50,111 cisTopic     INFO     Coverage matrix done\n"
     ]
    },
    {
     "name": "stdout",
     "output_type": "stream",
     "text": [
      "\u001b[2m\u001b[36m(compute_qc_stats_ray pid=3269559)\u001b[0m 2022-09-15 04:11:03,465 cisTopic     INFO     Returning normalized sample TSS enrichment data\n"
     ]
    },
    {
     "name": "stdout",
     "output_type": "stream",
     "text": [
      "\u001b[2m\u001b[36m(compute_qc_stats_ray pid=3269559)\u001b[0m 2022-09-15 04:11:04,449 cisTopic     INFO     Computing FRIP profile for VIB_10xv2_1.35k\n"
     ]
    },
    {
     "name": "stdout",
     "output_type": "stream",
     "text": [
      "\u001b[2m\u001b[36m(compute_qc_stats_ray pid=3269559)\u001b[0m 2022-09-15 04:11:13,610 cisTopic     INFO     Counting fragments\n"
     ]
    },
    {
     "name": "stdout",
     "output_type": "stream",
     "text": [
      "\u001b[2m\u001b[36m(compute_qc_stats_ray pid=3269574)\u001b[0m 2022-09-15 04:11:28,613 cisTopic     INFO     Intersecting fragments with regions\n"
     ]
    },
    {
     "name": "stdout",
     "output_type": "stream",
     "text": [
      "\u001b[2m\u001b[36m(compute_qc_stats_ray pid=3269563)\u001b[0m 2022-09-15 04:11:58,461 cisTopic     INFO     Formatting annnotation\n"
     ]
    },
    {
     "name": "stdout",
     "output_type": "stream",
     "text": [
      "\u001b[2m\u001b[36m(compute_qc_stats_ray pid=3269563)\u001b[0m 2022-09-15 04:11:59,227 cisTopic     INFO     Creating coverage matrix\n"
     ]
    },
    {
     "name": "stdout",
     "output_type": "stream",
     "text": [
      "\u001b[2m\u001b[36m(compute_qc_stats_ray pid=3269559)\u001b[0m 2022-09-15 04:12:03,100 cisTopic     INFO     Intersecting fragments with regions\n"
     ]
    },
    {
     "name": "stdout",
     "output_type": "stream",
     "text": [
      "\u001b[2m\u001b[36m(compute_qc_stats_ray pid=3269558)\u001b[0m 2022-09-15 04:12:28,201 cisTopic     INFO     Returning normalized sample TSS enrichment data\n"
     ]
    },
    {
     "name": "stdout",
     "output_type": "stream",
     "text": [
      "\u001b[2m\u001b[36m(compute_qc_stats_ray pid=3269558)\u001b[0m 2022-09-15 04:12:29,327 cisTopic     INFO     Computing FRIP profile for CNA_hydrop_1.35k\n"
     ]
    },
    {
     "name": "stdout",
     "output_type": "stream",
     "text": [
      "\u001b[2m\u001b[36m(compute_qc_stats_ray pid=3269558)\u001b[0m 2022-09-15 04:12:32,898 cisTopic     INFO     Counting fragments\n"
     ]
    },
    {
     "name": "stdout",
     "output_type": "stream",
     "text": [
      "\u001b[2m\u001b[36m(compute_qc_stats_ray pid=3269558)\u001b[0m 2022-09-15 04:12:49,014 cisTopic     INFO     Intersecting fragments with regions\n"
     ]
    },
    {
     "name": "stdout",
     "output_type": "stream",
     "text": [
      "\u001b[2m\u001b[36m(compute_qc_stats_ray pid=3269558)\u001b[0m 2022-09-15 04:13:22,841 cisTopic     INFO     Sample CNA_hydrop_1.35k done!\n"
     ]
    },
    {
     "name": "stdout",
     "output_type": "stream",
     "text": [
      "\u001b[2m\u001b[36m(compute_qc_stats_ray pid=3269569)\u001b[0m 2022-09-15 04:14:25,835 cisTopic     INFO     Returning normalized sample TSS enrichment data\n"
     ]
    },
    {
     "name": "stdout",
     "output_type": "stream",
     "text": [
      "\u001b[2m\u001b[36m(compute_qc_stats_ray pid=3269569)\u001b[0m 2022-09-15 04:14:26,784 cisTopic     INFO     Computing FRIP profile for VIB_10xv1_1.35k\n"
     ]
    },
    {
     "name": "stdout",
     "output_type": "stream",
     "text": [
      "\u001b[2m\u001b[36m(compute_qc_stats_ray pid=3269569)\u001b[0m 2022-09-15 04:14:32,697 cisTopic     INFO     Counting fragments\n"
     ]
    },
    {
     "name": "stdout",
     "output_type": "stream",
     "text": [
      "\u001b[2m\u001b[36m(compute_qc_stats_ray pid=3269574)\u001b[0m 2022-09-15 04:14:43,617 cisTopic     INFO     Sample BRO_mtscatac_1.35k done!\n"
     ]
    },
    {
     "name": "stdout",
     "output_type": "stream",
     "text": [
      "\u001b[2m\u001b[36m(compute_qc_stats_ray pid=3269569)\u001b[0m 2022-09-15 04:15:14,586 cisTopic     INFO     Intersecting fragments with regions\n"
     ]
    },
    {
     "name": "stdout",
     "output_type": "stream",
     "text": [
      "\u001b[2m\u001b[36m(compute_qc_stats_ray pid=3269559)\u001b[0m 2022-09-15 04:15:44,830 cisTopic     INFO     Sample VIB_10xv2_1.35k done!\n"
     ]
    },
    {
     "name": "stdout",
     "output_type": "stream",
     "text": [
      "\u001b[2m\u001b[36m(compute_qc_stats_ray pid=3269569)\u001b[0m 2022-09-15 04:16:58,324 cisTopic     INFO     Sample VIB_10xv1_1.35k done!\n"
     ]
    },
    {
     "name": "stdout",
     "output_type": "stream",
     "text": [
      "\u001b[2m\u001b[36m(compute_qc_stats_ray pid=3269565)\u001b[0m 2022-09-15 04:17:01,176 cisTopic     INFO     Returning normalized TSS coverage matrix per barcode\n"
     ]
    },
    {
     "name": "stdout",
     "output_type": "stream",
     "text": [
      "\u001b[2m\u001b[36m(compute_qc_stats_ray pid=3269562)\u001b[0m 2022-09-15 04:17:23,148 cisTopic     INFO     Returning normalized TSS coverage matrix per barcode\n"
     ]
    },
    {
     "name": "stdout",
     "output_type": "stream",
     "text": [
      "\u001b[2m\u001b[36m(compute_qc_stats_ray pid=3269573)\u001b[0m 2022-09-15 04:17:37,736 cisTopic     INFO     Computing TSS profile for TXG_10xv2_2.35k\n"
     ]
    },
    {
     "name": "stdout",
     "output_type": "stream",
     "text": [
      "\u001b[2m\u001b[36m(compute_qc_stats_ray pid=3269566)\u001b[0m 2022-09-15 04:18:53,528 cisTopic     INFO     Coverage matrix done\n"
     ]
    },
    {
     "name": "stdout",
     "output_type": "stream",
     "text": [
      "\u001b[2m\u001b[36m(compute_qc_stats_ray pid=3269567)\u001b[0m 2022-09-15 04:19:07,887 cisTopic     INFO     Returning normalized TSS coverage matrix per barcode\n"
     ]
    },
    {
     "name": "stdout",
     "output_type": "stream",
     "text": [
      "\u001b[2m\u001b[36m(compute_qc_stats_ray pid=3269573)\u001b[0m 2022-09-15 04:19:37,017 cisTopic     INFO     Formatting annnotation\n"
     ]
    },
    {
     "name": "stdout",
     "output_type": "stream",
     "text": [
      "\u001b[2m\u001b[36m(compute_qc_stats_ray pid=3269573)\u001b[0m 2022-09-15 04:19:37,557 cisTopic     INFO     Creating coverage matrix\n"
     ]
    },
    {
     "name": "stdout",
     "output_type": "stream",
     "text": [
      "\u001b[2m\u001b[36m(compute_qc_stats_ray pid=3269572)\u001b[0m 2022-09-15 04:20:38,755 cisTopic     INFO     Coverage matrix done\n",
      "\u001b[2m\u001b[36m(compute_qc_stats_ray pid=3269568)\u001b[0m 2022-09-15 04:20:38,876 cisTopic     INFO     Computing TSS profile for TXG_10xv11_1.35k\n"
     ]
    },
    {
     "name": "stdout",
     "output_type": "stream",
     "text": [
      "\u001b[2m\u001b[36m(compute_qc_stats_ray pid=3269568)\u001b[0m 2022-09-15 04:23:19,371 cisTopic     INFO     Formatting annnotation\n"
     ]
    },
    {
     "name": "stdout",
     "output_type": "stream",
     "text": [
      "\u001b[2m\u001b[36m(compute_qc_stats_ray pid=3269568)\u001b[0m 2022-09-15 04:23:19,900 cisTopic     INFO     Creating coverage matrix\n"
     ]
    },
    {
     "name": "stdout",
     "output_type": "stream",
     "text": [
      "\u001b[2m\u001b[36m(compute_qc_stats_ray pid=3269565)\u001b[0m 2022-09-15 04:23:37,961 cisTopic     INFO     Returning normalized sample TSS enrichment data\n"
     ]
    },
    {
     "name": "stdout",
     "output_type": "stream",
     "text": [
      "\u001b[2m\u001b[36m(compute_qc_stats_ray pid=3269565)\u001b[0m 2022-09-15 04:23:38,767 cisTopic     INFO     Computing FRIP profile for BIO_ddseq_3.35k\n"
     ]
    },
    {
     "name": "stdout",
     "output_type": "stream",
     "text": [
      "\u001b[2m\u001b[36m(compute_qc_stats_ray pid=3269567)\u001b[0m 2022-09-15 04:23:40,092 cisTopic     INFO     Returning normalized sample TSS enrichment data\n"
     ]
    },
    {
     "name": "stdout",
     "output_type": "stream",
     "text": [
      "\u001b[2m\u001b[36m(compute_qc_stats_ray pid=3269567)\u001b[0m 2022-09-15 04:23:40,873 cisTopic     INFO     Computing FRIP profile for CNA_10xv11_3.35k\n"
     ]
    },
    {
     "name": "stdout",
     "output_type": "stream",
     "text": [
      "\u001b[2m\u001b[36m(compute_qc_stats_ray pid=3269565)\u001b[0m 2022-09-15 04:23:43,453 cisTopic     INFO     Counting fragments\n"
     ]
    },
    {
     "name": "stdout",
     "output_type": "stream",
     "text": [
      "\u001b[2m\u001b[36m(compute_qc_stats_ray pid=3269567)\u001b[0m 2022-09-15 04:23:47,439 cisTopic     INFO     Counting fragments\n"
     ]
    },
    {
     "name": "stdout",
     "output_type": "stream",
     "text": [
      "\u001b[2m\u001b[36m(compute_qc_stats_ray pid=3269562)\u001b[0m 2022-09-15 04:24:04,972 cisTopic     INFO     Returning normalized sample TSS enrichment data\n"
     ]
    },
    {
     "name": "stdout",
     "output_type": "stream",
     "text": [
      "\u001b[2m\u001b[36m(compute_qc_stats_ray pid=3269562)\u001b[0m 2022-09-15 04:24:05,697 cisTopic     INFO     Computing FRIP profile for BIO_ddseq_4.35k\n"
     ]
    },
    {
     "name": "stdout",
     "output_type": "stream",
     "text": [
      "\u001b[2m\u001b[36m(compute_qc_stats_ray pid=3269562)\u001b[0m 2022-09-15 04:24:10,095 cisTopic     INFO     Counting fragments\n"
     ]
    },
    {
     "name": "stdout",
     "output_type": "stream",
     "text": [
      "\u001b[2m\u001b[36m(compute_qc_stats_ray pid=3269565)\u001b[0m 2022-09-15 04:24:25,300 cisTopic     INFO     Intersecting fragments with regions\n"
     ]
    },
    {
     "name": "stdout",
     "output_type": "stream",
     "text": [
      "\u001b[2m\u001b[36m(compute_qc_stats_ray pid=3269567)\u001b[0m 2022-09-15 04:24:39,331 cisTopic     INFO     Intersecting fragments with regions\n"
     ]
    },
    {
     "name": "stdout",
     "output_type": "stream",
     "text": [
      "\u001b[2m\u001b[36m(compute_qc_stats_ray pid=3269562)\u001b[0m 2022-09-15 04:24:52,149 cisTopic     INFO     Intersecting fragments with regions\n"
     ]
    },
    {
     "name": "stdout",
     "output_type": "stream",
     "text": [
      "\u001b[2m\u001b[36m(compute_qc_stats_ray pid=3269565)\u001b[0m 2022-09-15 04:26:29,519 cisTopic     INFO     Sample BIO_ddseq_3.35k done!\n"
     ]
    },
    {
     "name": "stdout",
     "output_type": "stream",
     "text": [
      "\u001b[2m\u001b[36m(compute_qc_stats_ray pid=3269562)\u001b[0m 2022-09-15 04:27:01,510 cisTopic     INFO     Sample BIO_ddseq_4.35k done!\n"
     ]
    },
    {
     "name": "stdout",
     "output_type": "stream",
     "text": [
      "\u001b[2m\u001b[36m(compute_qc_stats_ray pid=3269572)\u001b[0m 2022-09-15 04:27:03,123 cisTopic     INFO     Returning normalized TSS coverage matrix per barcode\n"
     ]
    },
    {
     "name": "stdout",
     "output_type": "stream",
     "text": [
      "\u001b[2m\u001b[36m(compute_qc_stats_ray pid=3269567)\u001b[0m 2022-09-15 04:27:26,754 cisTopic     INFO     Sample CNA_10xv11_3.35k done!\n"
     ]
    },
    {
     "name": "stdout",
     "output_type": "stream",
     "text": [
      "\u001b[2m\u001b[36m(compute_qc_stats_ray pid=3269566)\u001b[0m 2022-09-15 04:29:15,713 cisTopic     INFO     Returning normalized TSS coverage matrix per barcode\n"
     ]
    },
    {
     "name": "stdout",
     "output_type": "stream",
     "text": [
      "\u001b[2m\u001b[36m(compute_qc_stats_ray pid=3269563)\u001b[0m 2022-09-15 04:29:53,730 cisTopic     INFO     Coverage matrix done\n"
     ]
    },
    {
     "name": "stdout",
     "output_type": "stream",
     "text": [
      "\u001b[2m\u001b[36m(compute_qc_stats_ray pid=3269572)\u001b[0m 2022-09-15 04:30:16,746 cisTopic     INFO     Returning normalized sample TSS enrichment data\n"
     ]
    },
    {
     "name": "stdout",
     "output_type": "stream",
     "text": [
      "\u001b[2m\u001b[36m(compute_qc_stats_ray pid=3269572)\u001b[0m 2022-09-15 04:30:17,181 cisTopic     INFO     Computing FRIP profile for UCS_ddseq_2.35k\n"
     ]
    },
    {
     "name": "stdout",
     "output_type": "stream",
     "text": [
      "\u001b[2m\u001b[36m(compute_qc_stats_ray pid=3269572)\u001b[0m 2022-09-15 04:30:20,509 cisTopic     INFO     Counting fragments\n"
     ]
    },
    {
     "name": "stdout",
     "output_type": "stream",
     "text": [
      "\u001b[2m\u001b[36m(compute_qc_stats_ray pid=3269572)\u001b[0m 2022-09-15 04:31:08,848 cisTopic     INFO     Intersecting fragments with regions\n"
     ]
    },
    {
     "name": "stdout",
     "output_type": "stream",
     "text": [
      "\u001b[2m\u001b[36m(compute_qc_stats_ray pid=3269572)\u001b[0m 2022-09-15 04:32:46,561 cisTopic     INFO     Sample UCS_ddseq_2.35k done!\n"
     ]
    },
    {
     "name": "stdout",
     "output_type": "stream",
     "text": [
      "\u001b[2m\u001b[36m(compute_qc_stats_ray pid=3269566)\u001b[0m 2022-09-15 04:34:05,813 cisTopic     INFO     Returning normalized sample TSS enrichment data\n"
     ]
    },
    {
     "name": "stdout",
     "output_type": "stream",
     "text": [
      "\u001b[2m\u001b[36m(compute_qc_stats_ray pid=3269566)\u001b[0m 2022-09-15 04:34:06,204 cisTopic     INFO     Computing FRIP profile for BIO_ddseq_2.35k\n"
     ]
    },
    {
     "name": "stdout",
     "output_type": "stream",
     "text": [
      "\u001b[2m\u001b[36m(compute_qc_stats_ray pid=3269566)\u001b[0m 2022-09-15 04:34:07,830 cisTopic     INFO     Counting fragments\n"
     ]
    },
    {
     "name": "stdout",
     "output_type": "stream",
     "text": [
      "\u001b[2m\u001b[36m(compute_qc_stats_ray pid=3269566)\u001b[0m 2022-09-15 04:34:38,133 cisTopic     INFO     Intersecting fragments with regions\n"
     ]
    },
    {
     "name": "stdout",
     "output_type": "stream",
     "text": [
      "\u001b[2m\u001b[36m(compute_qc_stats_ray pid=3269563)\u001b[0m 2022-09-15 04:34:46,992 cisTopic     INFO     Returning normalized TSS coverage matrix per barcode\n"
     ]
    },
    {
     "name": "stdout",
     "output_type": "stream",
     "text": [
      "\u001b[2m\u001b[36m(compute_qc_stats_ray pid=3269566)\u001b[0m 2022-09-15 04:36:11,492 cisTopic     INFO     Sample BIO_ddseq_2.35k done!\n"
     ]
    },
    {
     "name": "stdout",
     "output_type": "stream",
     "text": [
      "\u001b[2m\u001b[36m(compute_qc_stats_ray pid=3269563)\u001b[0m 2022-09-15 04:37:20,478 cisTopic     INFO     Returning normalized sample TSS enrichment data\n"
     ]
    },
    {
     "name": "stdout",
     "output_type": "stream",
     "text": [
      "\u001b[2m\u001b[36m(compute_qc_stats_ray pid=3269563)\u001b[0m 2022-09-15 04:37:20,743 cisTopic     INFO     Computing FRIP profile for UCS_ddseq_1.35k\n"
     ]
    },
    {
     "name": "stdout",
     "output_type": "stream",
     "text": [
      "\u001b[2m\u001b[36m(compute_qc_stats_ray pid=3269563)\u001b[0m 2022-09-15 04:37:22,397 cisTopic     INFO     Counting fragments\n"
     ]
    },
    {
     "name": "stdout",
     "output_type": "stream",
     "text": [
      "\u001b[2m\u001b[36m(compute_qc_stats_ray pid=3269563)\u001b[0m 2022-09-15 04:37:57,181 cisTopic     INFO     Intersecting fragments with regions\n"
     ]
    },
    {
     "name": "stdout",
     "output_type": "stream",
     "text": [
      "\u001b[2m\u001b[36m(compute_qc_stats_ray pid=3269563)\u001b[0m 2022-09-15 04:39:05,729 cisTopic     INFO     Sample UCS_ddseq_1.35k done!\n"
     ]
    },
    {
     "name": "stdout",
     "output_type": "stream",
     "text": [
      "\u001b[2m\u001b[36m(compute_qc_stats_ray pid=3269568)\u001b[0m 2022-09-15 04:40:23,268 cisTopic     INFO     Coverage matrix done\n"
     ]
    },
    {
     "name": "stdout",
     "output_type": "stream",
     "text": [
      "\u001b[2m\u001b[36m(compute_qc_stats_ray pid=3269573)\u001b[0m 2022-09-15 04:41:57,893 cisTopic     INFO     Coverage matrix done\n"
     ]
    },
    {
     "name": "stdout",
     "output_type": "stream",
     "text": [
      "\u001b[2m\u001b[36m(compute_qc_stats_ray pid=3269568)\u001b[0m 2022-09-15 04:43:55,568 cisTopic     INFO     Returning normalized TSS coverage matrix per barcode\n"
     ]
    },
    {
     "name": "stdout",
     "output_type": "stream",
     "text": [
      "\u001b[2m\u001b[36m(compute_qc_stats_ray pid=3269573)\u001b[0m 2022-09-15 04:45:08,365 cisTopic     INFO     Returning normalized TSS coverage matrix per barcode\n"
     ]
    },
    {
     "name": "stdout",
     "output_type": "stream",
     "text": [
      "\u001b[2m\u001b[36m(compute_qc_stats_ray pid=3269568)\u001b[0m 2022-09-15 04:46:14,905 cisTopic     INFO     Returning normalized sample TSS enrichment data\n"
     ]
    },
    {
     "name": "stdout",
     "output_type": "stream",
     "text": [
      "\u001b[2m\u001b[36m(compute_qc_stats_ray pid=3269568)\u001b[0m 2022-09-15 04:46:15,086 cisTopic     INFO     Computing FRIP profile for TXG_10xv11_1.35k\n"
     ]
    },
    {
     "name": "stdout",
     "output_type": "stream",
     "text": [
      "\u001b[2m\u001b[36m(compute_qc_stats_ray pid=3269568)\u001b[0m 2022-09-15 04:46:16,503 cisTopic     INFO     Counting fragments\n"
     ]
    },
    {
     "name": "stdout",
     "output_type": "stream",
     "text": [
      "\u001b[2m\u001b[36m(compute_qc_stats_ray pid=3269568)\u001b[0m 2022-09-15 04:46:38,956 cisTopic     INFO     Intersecting fragments with regions\n"
     ]
    },
    {
     "name": "stdout",
     "output_type": "stream",
     "text": [
      "\u001b[2m\u001b[36m(compute_qc_stats_ray pid=3269573)\u001b[0m 2022-09-15 04:47:19,588 cisTopic     INFO     Returning normalized sample TSS enrichment data\n"
     ]
    },
    {
     "name": "stdout",
     "output_type": "stream",
     "text": [
      "\u001b[2m\u001b[36m(compute_qc_stats_ray pid=3269573)\u001b[0m 2022-09-15 04:47:19,880 cisTopic     INFO     Computing FRIP profile for TXG_10xv2_2.35k\n"
     ]
    },
    {
     "name": "stdout",
     "output_type": "stream",
     "text": [
      "\u001b[2m\u001b[36m(compute_qc_stats_ray pid=3269573)\u001b[0m 2022-09-15 04:47:22,055 cisTopic     INFO     Counting fragments\n"
     ]
    },
    {
     "name": "stdout",
     "output_type": "stream",
     "text": [
      "\u001b[2m\u001b[36m(compute_qc_stats_ray pid=3269573)\u001b[0m 2022-09-15 04:47:42,591 cisTopic     INFO     Intersecting fragments with regions\n"
     ]
    },
    {
     "name": "stdout",
     "output_type": "stream",
     "text": [
      "\u001b[2m\u001b[36m(compute_qc_stats_ray pid=3269568)\u001b[0m 2022-09-15 04:48:07,412 cisTopic     INFO     Sample TXG_10xv11_1.35k done!\n"
     ]
    },
    {
     "name": "stdout",
     "output_type": "stream",
     "text": [
      "\u001b[2m\u001b[36m(compute_qc_stats_ray pid=3269573)\u001b[0m 2022-09-15 04:49:01,082 cisTopic     INFO     Sample TXG_10xv2_2.35k done!\n"
     ]
    },
    {
     "name": "stdout",
     "output_type": "stream",
     "text": [
      "Dumping files in /dodrio/scratch/projects/starting_2022_023/benchmark/scatac_benchmark/downsample_series/35k/cistopic_qc_out_CONSENSUS...\n"
     ]
    },
    {
     "name": "stderr",
     "output_type": "stream",
     "text": [
      "2022-09-15 04:50:55,281\tINFO services.py:1470 -- View the Ray dashboard at \u001b[1m\u001b[32mhttp://127.0.0.1:8265\u001b[39m\u001b[22m\n"
     ]
    },
    {
     "name": "stdout",
     "output_type": "stream",
     "text": [
      "\u001b[2m\u001b[36m(compute_qc_stats_ray pid=3275362)\u001b[0m 2022-09-15 04:51:45,769 cisTopic     INFO     Reading VIB_hydrop_21.35k\n",
      "\u001b[2m\u001b[36m(compute_qc_stats_ray pid=3275361)\u001b[0m 2022-09-15 04:51:45,805 cisTopic     INFO     Reading BRO_mtscatac_2.35k\n",
      "\u001b[2m\u001b[36m(compute_qc_stats_ray pid=3275366)\u001b[0m 2022-09-15 04:51:45,796 cisTopic     INFO     Reading CNA_10xv2_2.35k\n",
      "\u001b[2m\u001b[36m(compute_qc_stats_ray pid=3275365)\u001b[0m 2022-09-15 04:51:45,813 cisTopic     INFO     Reading OHS_s3atac_2.35k\n"
     ]
    },
    {
     "name": "stdout",
     "output_type": "stream",
     "text": [
      "\u001b[2m\u001b[36m(compute_qc_stats_ray pid=3275364)\u001b[0m 2022-09-15 04:51:45,892 cisTopic     INFO     Reading VIB_10xv1_2.35k\n",
      "\u001b[2m\u001b[36m(compute_qc_stats_ray pid=3275363)\u001b[0m 2022-09-15 04:51:46,058 cisTopic     INFO     Reading CNA_mtscatac_1.35k\n"
     ]
    },
    {
     "name": "stdout",
     "output_type": "stream",
     "text": [
      "\u001b[2m\u001b[36m(compute_qc_stats_ray pid=3275360)\u001b[0m 2022-09-15 04:51:46,444 cisTopic     INFO     Reading CNA_10xv11_2.35k\n"
     ]
    },
    {
     "name": "stdout",
     "output_type": "stream",
     "text": [
      "\u001b[2m\u001b[36m(compute_qc_stats_ray pid=3275359)\u001b[0m 2022-09-15 04:51:46,754 cisTopic     INFO     Reading VIB_hydrop_12.35k\n",
      "\u001b[2m\u001b[36m(compute_qc_stats_ray pid=3275357)\u001b[0m 2022-09-15 04:51:46,762 cisTopic     INFO     Reading SAN_10xmultiome_2.35k\n",
      "\u001b[2m\u001b[36m(compute_qc_stats_ray pid=3275358)\u001b[0m 2022-09-15 04:51:46,822 cisTopic     INFO     Reading EPF_hydrop_4.35k\n"
     ]
    },
    {
     "name": "stdout",
     "output_type": "stream",
     "text": [
      "\u001b[2m\u001b[36m(compute_qc_stats_ray pid=3275355)\u001b[0m 2022-09-15 04:51:47,228 cisTopic     INFO     Reading CNA_hydrop_3.35k\n",
      "\u001b[2m\u001b[36m(compute_qc_stats_ray pid=3275356)\u001b[0m 2022-09-15 04:51:47,311 cisTopic     INFO     Reading CNA_10xv11_5.35k\n"
     ]
    },
    {
     "name": "stdout",
     "output_type": "stream",
     "text": [
      "\u001b[2m\u001b[36m(compute_qc_stats_ray pid=3275354)\u001b[0m 2022-09-15 04:51:47,698 cisTopic     INFO     Reading CNA_mtscatac_2.35k\n",
      "\u001b[2m\u001b[36m(compute_qc_stats_ray pid=3275353)\u001b[0m 2022-09-15 04:51:47,739 cisTopic     INFO     Reading BIO_ddseq_1.35k\n"
     ]
    },
    {
     "name": "stdout",
     "output_type": "stream",
     "text": [
      "\u001b[2m\u001b[36m(compute_qc_stats_ray pid=3275351)\u001b[0m 2022-09-15 04:51:47,991 cisTopic     INFO     Reading HAR_ddseq_2.35k\n",
      "\u001b[2m\u001b[36m(compute_qc_stats_ray pid=3275352)\u001b[0m 2022-09-15 04:51:48,008 cisTopic     INFO     Reading STA_10xv11_2.35k\n"
     ]
    },
    {
     "name": "stdout",
     "output_type": "stream",
     "text": [
      "\u001b[2m\u001b[36m(compute_qc_stats_ray pid=3275356)\u001b[0m 2022-09-15 04:55:52,189 cisTopic     INFO     Computing barcode rank plot for CNA_10xv11_5.35k\n",
      "\u001b[2m\u001b[36m(compute_qc_stats_ray pid=3275356)\u001b[0m 2022-09-15 04:55:52,189 cisTopic     INFO     Counting fragments\n"
     ]
    },
    {
     "name": "stdout",
     "output_type": "stream",
     "text": [
      "\u001b[2m\u001b[36m(compute_qc_stats_ray pid=3275359)\u001b[0m 2022-09-15 04:55:57,272 cisTopic     INFO     Computing barcode rank plot for VIB_hydrop_12.35k\n",
      "\u001b[2m\u001b[36m(compute_qc_stats_ray pid=3275359)\u001b[0m 2022-09-15 04:55:57,273 cisTopic     INFO     Counting fragments\n"
     ]
    },
    {
     "name": "stdout",
     "output_type": "stream",
     "text": [
      "\u001b[2m\u001b[36m(compute_qc_stats_ray pid=3275356)\u001b[0m 2022-09-15 04:56:04,825 cisTopic     INFO     Marking barcodes with more than 10\n"
     ]
    },
    {
     "name": "stdout",
     "output_type": "stream",
     "text": [
      "\u001b[2m\u001b[36m(compute_qc_stats_ray pid=3275356)\u001b[0m 2022-09-15 04:56:05,330 cisTopic     INFO     Returning plot data\n",
      "\u001b[2m\u001b[36m(compute_qc_stats_ray pid=3275356)\u001b[0m 2022-09-15 04:56:05,332 cisTopic     INFO     Returning valid barcodes\n"
     ]
    },
    {
     "name": "stdout",
     "output_type": "stream",
     "text": [
      "\u001b[2m\u001b[36m(compute_qc_stats_ray pid=3275359)\u001b[0m 2022-09-15 04:56:09,210 cisTopic     INFO     Marking barcodes with more than 10\n"
     ]
    },
    {
     "name": "stdout",
     "output_type": "stream",
     "text": [
      "\u001b[2m\u001b[36m(compute_qc_stats_ray pid=3275359)\u001b[0m 2022-09-15 04:56:09,689 cisTopic     INFO     Returning plot data\n",
      "\u001b[2m\u001b[36m(compute_qc_stats_ray pid=3275359)\u001b[0m 2022-09-15 04:56:09,773 cisTopic     INFO     Returning valid barcodes\n"
     ]
    },
    {
     "name": "stdout",
     "output_type": "stream",
     "text": [
      "\u001b[2m\u001b[36m(compute_qc_stats_ray pid=3275356)\u001b[0m 2022-09-15 04:56:21,091 cisTopic     INFO     Computing duplicate rate plot for CNA_10xv11_5.35k\n",
      "\u001b[2m\u001b[36m(compute_qc_stats_ray pid=3275359)\u001b[0m 2022-09-15 04:56:21,197 cisTopic     INFO     Computing duplicate rate plot for VIB_hydrop_12.35k\n"
     ]
    },
    {
     "name": "stdout",
     "output_type": "stream",
     "text": [
      "\u001b[2m\u001b[36m(compute_qc_stats_ray pid=3275359)\u001b[0m 2022-09-15 04:56:40,140 cisTopic     INFO     Return plot data\n"
     ]
    },
    {
     "name": "stdout",
     "output_type": "stream",
     "text": [
      "\u001b[2m\u001b[36m(compute_qc_stats_ray pid=3275359)\u001b[0m 2022-09-15 04:56:41,446 cisTopic     INFO     Computing insert size distribution for VIB_hydrop_12.35k\n",
      "\u001b[2m\u001b[36m(compute_qc_stats_ray pid=3275359)\u001b[0m 2022-09-15 04:56:41,446 cisTopic     INFO     Counting fragments\n"
     ]
    },
    {
     "name": "stdout",
     "output_type": "stream",
     "text": [
      "\u001b[2m\u001b[36m(compute_qc_stats_ray pid=3275354)\u001b[0m 2022-09-15 04:56:42,854 cisTopic     INFO     Computing barcode rank plot for CNA_mtscatac_2.35k\n",
      "\u001b[2m\u001b[36m(compute_qc_stats_ray pid=3275354)\u001b[0m 2022-09-15 04:56:42,854 cisTopic     INFO     Counting fragments\n"
     ]
    },
    {
     "name": "stdout",
     "output_type": "stream",
     "text": [
      "\u001b[2m\u001b[36m(compute_qc_stats_ray pid=3275356)\u001b[0m 2022-09-15 04:56:43,987 cisTopic     INFO     Return plot data\n"
     ]
    },
    {
     "name": "stdout",
     "output_type": "stream",
     "text": [
      "\u001b[2m\u001b[36m(compute_qc_stats_ray pid=3275356)\u001b[0m 2022-09-15 04:56:45,323 cisTopic     INFO     Computing insert size distribution for CNA_10xv11_5.35k\n",
      "\u001b[2m\u001b[36m(compute_qc_stats_ray pid=3275356)\u001b[0m 2022-09-15 04:56:45,323 cisTopic     INFO     Counting fragments\n"
     ]
    },
    {
     "name": "stdout",
     "output_type": "stream",
     "text": [
      "\u001b[2m\u001b[36m(compute_qc_stats_ray pid=3275359)\u001b[0m 2022-09-15 04:56:45,796 cisTopic     INFO     Returning plot data\n"
     ]
    },
    {
     "name": "stdout",
     "output_type": "stream",
     "text": [
      "\u001b[2m\u001b[36m(compute_qc_stats_ray pid=3275356)\u001b[0m 2022-09-15 04:56:51,047 cisTopic     INFO     Returning plot data\n"
     ]
    },
    {
     "name": "stdout",
     "output_type": "stream",
     "text": [
      "\u001b[2m\u001b[36m(compute_qc_stats_ray pid=3275354)\u001b[0m 2022-09-15 04:56:58,243 cisTopic     INFO     Marking barcodes with more than 10\n"
     ]
    },
    {
     "name": "stdout",
     "output_type": "stream",
     "text": [
      "\u001b[2m\u001b[36m(compute_qc_stats_ray pid=3275354)\u001b[0m 2022-09-15 04:56:58,772 cisTopic     INFO     Returning plot data\n",
      "\u001b[2m\u001b[36m(compute_qc_stats_ray pid=3275354)\u001b[0m 2022-09-15 04:56:58,773 cisTopic     INFO     Returning valid barcodes\n"
     ]
    },
    {
     "name": "stdout",
     "output_type": "stream",
     "text": [
      "\u001b[2m\u001b[36m(compute_qc_stats_ray pid=3275354)\u001b[0m 2022-09-15 04:57:16,472 cisTopic     INFO     Computing duplicate rate plot for CNA_mtscatac_2.35k\n"
     ]
    },
    {
     "name": "stdout",
     "output_type": "stream",
     "text": [
      "\u001b[2m\u001b[36m(compute_qc_stats_ray pid=3275354)\u001b[0m 2022-09-15 04:57:42,729 cisTopic     INFO     Return plot data\n"
     ]
    },
    {
     "name": "stdout",
     "output_type": "stream",
     "text": [
      "\u001b[2m\u001b[36m(compute_qc_stats_ray pid=3275354)\u001b[0m 2022-09-15 04:57:44,074 cisTopic     INFO     Computing insert size distribution for CNA_mtscatac_2.35k\n",
      "\u001b[2m\u001b[36m(compute_qc_stats_ray pid=3275354)\u001b[0m 2022-09-15 04:57:44,074 cisTopic     INFO     Counting fragments\n"
     ]
    },
    {
     "name": "stdout",
     "output_type": "stream",
     "text": [
      "\u001b[2m\u001b[36m(compute_qc_stats_ray pid=3275354)\u001b[0m 2022-09-15 04:57:50,921 cisTopic     INFO     Returning plot data\n"
     ]
    },
    {
     "name": "stdout",
     "output_type": "stream",
     "text": [
      "\u001b[2m\u001b[36m(compute_qc_stats_ray pid=3275362)\u001b[0m 2022-09-15 04:58:05,585 cisTopic     INFO     Computing barcode rank plot for VIB_hydrop_21.35k\n",
      "\u001b[2m\u001b[36m(compute_qc_stats_ray pid=3275362)\u001b[0m 2022-09-15 04:58:05,585 cisTopic     INFO     Counting fragments\n"
     ]
    },
    {
     "name": "stdout",
     "output_type": "stream",
     "text": [
      "\u001b[2m\u001b[36m(compute_qc_stats_ray pid=3275359)\u001b[0m 2022-09-15 04:58:15,412 cisTopic     INFO     Computing TSS profile for VIB_hydrop_12.35k\n"
     ]
    },
    {
     "name": "stdout",
     "output_type": "stream",
     "text": [
      "\u001b[2m\u001b[36m(compute_qc_stats_ray pid=3275362)\u001b[0m 2022-09-15 04:58:22,151 cisTopic     INFO     Marking barcodes with more than 10\n"
     ]
    },
    {
     "name": "stdout",
     "output_type": "stream",
     "text": [
      "\u001b[2m\u001b[36m(compute_qc_stats_ray pid=3275362)\u001b[0m 2022-09-15 04:58:22,660 cisTopic     INFO     Returning plot data\n",
      "\u001b[2m\u001b[36m(compute_qc_stats_ray pid=3275362)\u001b[0m 2022-09-15 04:58:22,831 cisTopic     INFO     Returning valid barcodes\n"
     ]
    },
    {
     "name": "stdout",
     "output_type": "stream",
     "text": [
      "\u001b[2m\u001b[36m(compute_qc_stats_ray pid=3275362)\u001b[0m 2022-09-15 04:58:39,290 cisTopic     INFO     Computing duplicate rate plot for VIB_hydrop_21.35k\n"
     ]
    },
    {
     "name": "stdout",
     "output_type": "stream",
     "text": [
      "\u001b[2m\u001b[36m(compute_qc_stats_ray pid=3275356)\u001b[0m 2022-09-15 04:58:51,709 cisTopic     INFO     Computing TSS profile for CNA_10xv11_5.35k\n"
     ]
    },
    {
     "name": "stdout",
     "output_type": "stream",
     "text": [
      "\u001b[2m\u001b[36m(compute_qc_stats_ray pid=3275359)\u001b[0m 2022-09-15 04:58:53,003 cisTopic     INFO     Formatting annnotation\n"
     ]
    },
    {
     "name": "stdout",
     "output_type": "stream",
     "text": [
      "\u001b[2m\u001b[36m(compute_qc_stats_ray pid=3275359)\u001b[0m 2022-09-15 04:58:54,071 cisTopic     INFO     Creating coverage matrix\n"
     ]
    },
    {
     "name": "stdout",
     "output_type": "stream",
     "text": [
      "\u001b[2m\u001b[36m(compute_qc_stats_ray pid=3275355)\u001b[0m 2022-09-15 04:59:04,251 cisTopic     INFO     Computing barcode rank plot for CNA_hydrop_3.35k\n",
      "\u001b[2m\u001b[36m(compute_qc_stats_ray pid=3275355)\u001b[0m 2022-09-15 04:59:04,251 cisTopic     INFO     Counting fragments\n"
     ]
    },
    {
     "name": "stdout",
     "output_type": "stream",
     "text": [
      "\u001b[2m\u001b[36m(compute_qc_stats_ray pid=3275362)\u001b[0m 2022-09-15 04:59:04,497 cisTopic     INFO     Return plot data\n"
     ]
    },
    {
     "name": "stdout",
     "output_type": "stream",
     "text": [
      "\u001b[2m\u001b[36m(compute_qc_stats_ray pid=3275362)\u001b[0m 2022-09-15 04:59:05,845 cisTopic     INFO     Computing insert size distribution for VIB_hydrop_21.35k\n",
      "\u001b[2m\u001b[36m(compute_qc_stats_ray pid=3275362)\u001b[0m 2022-09-15 04:59:05,846 cisTopic     INFO     Counting fragments\n"
     ]
    },
    {
     "name": "stdout",
     "output_type": "stream",
     "text": [
      "\u001b[2m\u001b[36m(compute_qc_stats_ray pid=3275356)\u001b[0m 2022-09-15 04:59:11,162 cisTopic     INFO     Formatting annnotation\n"
     ]
    },
    {
     "name": "stdout",
     "output_type": "stream",
     "text": [
      "\u001b[2m\u001b[36m(compute_qc_stats_ray pid=3275356)\u001b[0m 2022-09-15 04:59:12,215 cisTopic     INFO     Creating coverage matrix\n"
     ]
    },
    {
     "name": "stdout",
     "output_type": "stream",
     "text": [
      "\u001b[2m\u001b[36m(compute_qc_stats_ray pid=3275362)\u001b[0m 2022-09-15 04:59:12,471 cisTopic     INFO     Returning plot data\n"
     ]
    },
    {
     "name": "stdout",
     "output_type": "stream",
     "text": [
      "\u001b[2m\u001b[36m(compute_qc_stats_ray pid=3275358)\u001b[0m 2022-09-15 04:59:14,695 cisTopic     INFO     Computing barcode rank plot for EPF_hydrop_4.35k\n",
      "\u001b[2m\u001b[36m(compute_qc_stats_ray pid=3275358)\u001b[0m 2022-09-15 04:59:14,695 cisTopic     INFO     Counting fragments\n"
     ]
    },
    {
     "name": "stdout",
     "output_type": "stream",
     "text": [
      "\u001b[2m\u001b[36m(compute_qc_stats_ray pid=3275355)\u001b[0m 2022-09-15 04:59:21,923 cisTopic     INFO     Marking barcodes with more than 10\n"
     ]
    },
    {
     "name": "stdout",
     "output_type": "stream",
     "text": [
      "\u001b[2m\u001b[36m(compute_qc_stats_ray pid=3275355)\u001b[0m 2022-09-15 04:59:22,462 cisTopic     INFO     Returning plot data\n",
      "\u001b[2m\u001b[36m(compute_qc_stats_ray pid=3275355)\u001b[0m 2022-09-15 04:59:22,647 cisTopic     INFO     Returning valid barcodes\n"
     ]
    },
    {
     "name": "stdout",
     "output_type": "stream",
     "text": [
      "\u001b[2m\u001b[36m(compute_qc_stats_ray pid=3275358)\u001b[0m 2022-09-15 04:59:33,513 cisTopic     INFO     Marking barcodes with more than 10\n"
     ]
    },
    {
     "name": "stdout",
     "output_type": "stream",
     "text": [
      "\u001b[2m\u001b[36m(compute_qc_stats_ray pid=3275358)\u001b[0m 2022-09-15 04:59:34,012 cisTopic     INFO     Returning plot data\n"
     ]
    },
    {
     "name": "stdout",
     "output_type": "stream",
     "text": [
      "\u001b[2m\u001b[36m(compute_qc_stats_ray pid=3275358)\u001b[0m 2022-09-15 04:59:34,113 cisTopic     INFO     Returning valid barcodes\n"
     ]
    },
    {
     "name": "stdout",
     "output_type": "stream",
     "text": [
      "\u001b[2m\u001b[36m(compute_qc_stats_ray pid=3275352)\u001b[0m 2022-09-15 04:59:36,869 cisTopic     INFO     Computing barcode rank plot for STA_10xv11_2.35k\n",
      "\u001b[2m\u001b[36m(compute_qc_stats_ray pid=3275352)\u001b[0m 2022-09-15 04:59:36,869 cisTopic     INFO     Counting fragments\n"
     ]
    },
    {
     "name": "stdout",
     "output_type": "stream",
     "text": [
      "\u001b[2m\u001b[36m(compute_qc_stats_ray pid=3275355)\u001b[0m 2022-09-15 04:59:40,262 cisTopic     INFO     Computing duplicate rate plot for CNA_hydrop_3.35k\n"
     ]
    },
    {
     "name": "stdout",
     "output_type": "stream",
     "text": [
      "\u001b[2m\u001b[36m(compute_qc_stats_ray pid=3275358)\u001b[0m 2022-09-15 04:59:53,313 cisTopic     INFO     Computing duplicate rate plot for EPF_hydrop_4.35k\n"
     ]
    },
    {
     "name": "stdout",
     "output_type": "stream",
     "text": [
      "\u001b[2m\u001b[36m(compute_qc_stats_ray pid=3275352)\u001b[0m 2022-09-15 04:59:59,890 cisTopic     INFO     Marking barcodes with more than 10\n"
     ]
    },
    {
     "name": "stdout",
     "output_type": "stream",
     "text": [
      "\u001b[2m\u001b[36m(compute_qc_stats_ray pid=3275352)\u001b[0m 2022-09-15 05:00:00,561 cisTopic     INFO     Returning plot data\n",
      "\u001b[2m\u001b[36m(compute_qc_stats_ray pid=3275352)\u001b[0m 2022-09-15 05:00:00,639 cisTopic     INFO     Returning valid barcodes\n"
     ]
    },
    {
     "name": "stdout",
     "output_type": "stream",
     "text": [
      "\u001b[2m\u001b[36m(compute_qc_stats_ray pid=3275355)\u001b[0m 2022-09-15 05:00:07,872 cisTopic     INFO     Return plot data\n"
     ]
    },
    {
     "name": "stdout",
     "output_type": "stream",
     "text": [
      "\u001b[2m\u001b[36m(compute_qc_stats_ray pid=3275355)\u001b[0m 2022-09-15 05:00:09,212 cisTopic     INFO     Computing insert size distribution for CNA_hydrop_3.35k\n",
      "\u001b[2m\u001b[36m(compute_qc_stats_ray pid=3275355)\u001b[0m 2022-09-15 05:00:09,213 cisTopic     INFO     Counting fragments\n"
     ]
    },
    {
     "name": "stdout",
     "output_type": "stream",
     "text": [
      "\u001b[2m\u001b[36m(compute_qc_stats_ray pid=3275355)\u001b[0m 2022-09-15 05:00:16,644 cisTopic     INFO     Returning plot data\n"
     ]
    },
    {
     "name": "stdout",
     "output_type": "stream",
     "text": [
      "\u001b[2m\u001b[36m(compute_qc_stats_ray pid=3275354)\u001b[0m 2022-09-15 05:00:17,680 cisTopic     INFO     Computing TSS profile for CNA_mtscatac_2.35k\n"
     ]
    },
    {
     "name": "stdout",
     "output_type": "stream",
     "text": [
      "\u001b[2m\u001b[36m(compute_qc_stats_ray pid=3275358)\u001b[0m 2022-09-15 05:00:22,244 cisTopic     INFO     Return plot data\n"
     ]
    },
    {
     "name": "stdout",
     "output_type": "stream",
     "text": [
      "\u001b[2m\u001b[36m(compute_qc_stats_ray pid=3275358)\u001b[0m 2022-09-15 05:00:23,609 cisTopic     INFO     Computing insert size distribution for EPF_hydrop_4.35k\n",
      "\u001b[2m\u001b[36m(compute_qc_stats_ray pid=3275358)\u001b[0m 2022-09-15 05:00:23,609 cisTopic     INFO     Counting fragments\n"
     ]
    },
    {
     "name": "stdout",
     "output_type": "stream",
     "text": [
      "\u001b[2m\u001b[36m(compute_qc_stats_ray pid=3275352)\u001b[0m 2022-09-15 05:00:25,037 cisTopic     INFO     Computing duplicate rate plot for STA_10xv11_2.35k\n"
     ]
    },
    {
     "name": "stdout",
     "output_type": "stream",
     "text": [
      "\u001b[2m\u001b[36m(compute_qc_stats_ray pid=3275358)\u001b[0m 2022-09-15 05:00:31,746 cisTopic     INFO     Returning plot data\n"
     ]
    },
    {
     "name": "stdout",
     "output_type": "stream",
     "text": [
      "\u001b[2m\u001b[36m(compute_qc_stats_ray pid=3275354)\u001b[0m 2022-09-15 05:00:39,941 cisTopic     INFO     Formatting annnotation\n"
     ]
    },
    {
     "name": "stdout",
     "output_type": "stream",
     "text": [
      "\u001b[2m\u001b[36m(compute_qc_stats_ray pid=3275354)\u001b[0m 2022-09-15 05:00:40,894 cisTopic     INFO     Creating coverage matrix\n"
     ]
    },
    {
     "name": "stdout",
     "output_type": "stream",
     "text": [
      "\u001b[2m\u001b[36m(compute_qc_stats_ray pid=3275352)\u001b[0m 2022-09-15 05:01:06,228 cisTopic     INFO     Return plot data\n"
     ]
    },
    {
     "name": "stdout",
     "output_type": "stream",
     "text": [
      "\u001b[2m\u001b[36m(compute_qc_stats_ray pid=3275352)\u001b[0m 2022-09-15 05:01:07,590 cisTopic     INFO     Computing insert size distribution for STA_10xv11_2.35k\n",
      "\u001b[2m\u001b[36m(compute_qc_stats_ray pid=3275352)\u001b[0m 2022-09-15 05:01:07,590 cisTopic     INFO     Counting fragments\n"
     ]
    },
    {
     "name": "stdout",
     "output_type": "stream",
     "text": [
      "\u001b[2m\u001b[36m(compute_qc_stats_ray pid=3275352)\u001b[0m 2022-09-15 05:01:17,357 cisTopic     INFO     Returning plot data\n"
     ]
    },
    {
     "name": "stdout",
     "output_type": "stream",
     "text": [
      "\u001b[2m\u001b[36m(compute_qc_stats_ray pid=3275365)\u001b[0m 2022-09-15 05:01:33,845 cisTopic     INFO     Computing barcode rank plot for OHS_s3atac_2.35k\n",
      "\u001b[2m\u001b[36m(compute_qc_stats_ray pid=3275365)\u001b[0m 2022-09-15 05:01:33,845 cisTopic     INFO     Counting fragments\n"
     ]
    },
    {
     "name": "stdout",
     "output_type": "stream",
     "text": [
      "\u001b[2m\u001b[36m(compute_qc_stats_ray pid=3275362)\u001b[0m 2022-09-15 05:01:34,865 cisTopic     INFO     Computing TSS profile for VIB_hydrop_21.35k\n"
     ]
    },
    {
     "name": "stdout",
     "output_type": "stream",
     "text": [
      "\u001b[2m\u001b[36m(compute_qc_stats_ray pid=3275365)\u001b[0m 2022-09-15 05:01:54,968 cisTopic     INFO     Marking barcodes with more than 10\n",
      "\u001b[2m\u001b[36m(compute_qc_stats_ray pid=3275365)\u001b[0m 2022-09-15 05:01:55,078 cisTopic     INFO     Returning plot data\n",
      "\u001b[2m\u001b[36m(compute_qc_stats_ray pid=3275365)\u001b[0m 2022-09-15 05:01:55,080 cisTopic     INFO     Returning valid barcodes\n"
     ]
    },
    {
     "name": "stdout",
     "output_type": "stream",
     "text": [
      "\u001b[2m\u001b[36m(compute_qc_stats_ray pid=3275360)\u001b[0m 2022-09-15 05:01:55,329 cisTopic     INFO     Computing barcode rank plot for CNA_10xv11_2.35k\n",
      "\u001b[2m\u001b[36m(compute_qc_stats_ray pid=3275360)\u001b[0m 2022-09-15 05:01:55,329 cisTopic     INFO     Counting fragments\n"
     ]
    },
    {
     "name": "stdout",
     "output_type": "stream",
     "text": [
      "\u001b[2m\u001b[36m(compute_qc_stats_ray pid=3275365)\u001b[0m 2022-09-15 05:02:22,701 cisTopic     INFO     Computing duplicate rate plot for OHS_s3atac_2.35k\n"
     ]
    },
    {
     "name": "stdout",
     "output_type": "stream",
     "text": [
      "\u001b[2m\u001b[36m(compute_qc_stats_ray pid=3275360)\u001b[0m 2022-09-15 05:02:29,411 cisTopic     INFO     Marking barcodes with more than 10\n"
     ]
    },
    {
     "name": "stdout",
     "output_type": "stream",
     "text": [
      "\u001b[2m\u001b[36m(compute_qc_stats_ray pid=3275360)\u001b[0m 2022-09-15 05:02:30,578 cisTopic     INFO     Returning plot data\n",
      "\u001b[2m\u001b[36m(compute_qc_stats_ray pid=3275360)\u001b[0m 2022-09-15 05:02:30,582 cisTopic     INFO     Returning valid barcodes\n"
     ]
    },
    {
     "name": "stdout",
     "output_type": "stream",
     "text": [
      "\u001b[2m\u001b[36m(compute_qc_stats_ray pid=3275362)\u001b[0m 2022-09-15 05:02:31,485 cisTopic     INFO     Formatting annnotation\n"
     ]
    },
    {
     "name": "stdout",
     "output_type": "stream",
     "text": [
      "\u001b[2m\u001b[36m(compute_qc_stats_ray pid=3275362)\u001b[0m 2022-09-15 05:02:32,538 cisTopic     INFO     Creating coverage matrix\n"
     ]
    },
    {
     "name": "stdout",
     "output_type": "stream",
     "text": [
      "\u001b[2m\u001b[36m(compute_qc_stats_ray pid=3275355)\u001b[0m 2022-09-15 05:02:51,276 cisTopic     INFO     Computing TSS profile for CNA_hydrop_3.35k\n"
     ]
    },
    {
     "name": "stdout",
     "output_type": "stream",
     "text": [
      "\u001b[2m\u001b[36m(compute_qc_stats_ray pid=3275365)\u001b[0m 2022-09-15 05:02:54,199 cisTopic     INFO     Return plot data\n"
     ]
    },
    {
     "name": "stdout",
     "output_type": "stream",
     "text": [
      "\u001b[2m\u001b[36m(compute_qc_stats_ray pid=3275365)\u001b[0m 2022-09-15 05:02:55,520 cisTopic     INFO     Computing insert size distribution for OHS_s3atac_2.35k\n",
      "\u001b[2m\u001b[36m(compute_qc_stats_ray pid=3275365)\u001b[0m 2022-09-15 05:02:55,521 cisTopic     INFO     Counting fragments\n"
     ]
    },
    {
     "name": "stdout",
     "output_type": "stream",
     "text": [
      "\u001b[2m\u001b[36m(compute_qc_stats_ray pid=3275361)\u001b[0m 2022-09-15 05:02:56,253 cisTopic     INFO     Computing barcode rank plot for BRO_mtscatac_2.35k\n",
      "\u001b[2m\u001b[36m(compute_qc_stats_ray pid=3275361)\u001b[0m 2022-09-15 05:02:56,253 cisTopic     INFO     Counting fragments\n"
     ]
    },
    {
     "name": "stdout",
     "output_type": "stream",
     "text": [
      "\u001b[2m\u001b[36m(compute_qc_stats_ray pid=3275360)\u001b[0m 2022-09-15 05:03:02,802 cisTopic     INFO     Computing duplicate rate plot for CNA_10xv11_2.35k\n"
     ]
    },
    {
     "name": "stdout",
     "output_type": "stream",
     "text": [
      "\u001b[2m\u001b[36m(compute_qc_stats_ray pid=3275363)\u001b[0m 2022-09-15 05:03:07,735 cisTopic     INFO     Computing barcode rank plot for CNA_mtscatac_1.35k\n",
      "\u001b[2m\u001b[36m(compute_qc_stats_ray pid=3275363)\u001b[0m 2022-09-15 05:03:07,735 cisTopic     INFO     Counting fragments\n"
     ]
    },
    {
     "name": "stdout",
     "output_type": "stream",
     "text": [
      "\u001b[2m\u001b[36m(compute_qc_stats_ray pid=3275365)\u001b[0m 2022-09-15 05:03:10,287 cisTopic     INFO     Returning plot data\n"
     ]
    },
    {
     "name": "stdout",
     "output_type": "stream",
     "text": [
      "\u001b[2m\u001b[36m(compute_qc_stats_ray pid=3275358)\u001b[0m 2022-09-15 05:03:22,491 cisTopic     INFO     Computing TSS profile for EPF_hydrop_4.35k\n"
     ]
    },
    {
     "name": "stdout",
     "output_type": "stream",
     "text": [
      "\u001b[2m\u001b[36m(compute_qc_stats_ray pid=3275361)\u001b[0m 2022-09-15 05:03:34,931 cisTopic     INFO     Marking barcodes with more than 10\n"
     ]
    },
    {
     "name": "stdout",
     "output_type": "stream",
     "text": [
      "\u001b[2m\u001b[36m(compute_qc_stats_ray pid=3275361)\u001b[0m 2022-09-15 05:03:36,162 cisTopic     INFO     Returning plot data\n",
      "\u001b[2m\u001b[36m(compute_qc_stats_ray pid=3275361)\u001b[0m 2022-09-15 05:03:36,167 cisTopic     INFO     Returning valid barcodes\n"
     ]
    },
    {
     "name": "stdout",
     "output_type": "stream",
     "text": [
      "\u001b[2m\u001b[36m(compute_qc_stats_ray pid=3275363)\u001b[0m 2022-09-15 05:03:40,608 cisTopic     INFO     Marking barcodes with more than 10\n"
     ]
    },
    {
     "name": "stdout",
     "output_type": "stream",
     "text": [
      "\u001b[2m\u001b[36m(compute_qc_stats_ray pid=3275363)\u001b[0m 2022-09-15 05:03:41,574 cisTopic     INFO     Returning plot data\n",
      "\u001b[2m\u001b[36m(compute_qc_stats_ray pid=3275363)\u001b[0m 2022-09-15 05:03:41,576 cisTopic     INFO     Returning valid barcodes\n"
     ]
    },
    {
     "name": "stdout",
     "output_type": "stream",
     "text": [
      "\u001b[2m\u001b[36m(compute_qc_stats_ray pid=3275355)\u001b[0m 2022-09-15 05:03:56,231 cisTopic     INFO     Formatting annnotation\n"
     ]
    },
    {
     "name": "stdout",
     "output_type": "stream",
     "text": [
      "\u001b[2m\u001b[36m(compute_qc_stats_ray pid=3275355)\u001b[0m 2022-09-15 05:03:57,346 cisTopic     INFO     Creating coverage matrix\n"
     ]
    },
    {
     "name": "stdout",
     "output_type": "stream",
     "text": [
      "\u001b[2m\u001b[36m(compute_qc_stats_ray pid=3275360)\u001b[0m 2022-09-15 05:04:00,638 cisTopic     INFO     Return plot data\n"
     ]
    },
    {
     "name": "stdout",
     "output_type": "stream",
     "text": [
      "\u001b[2m\u001b[36m(compute_qc_stats_ray pid=3275360)\u001b[0m 2022-09-15 05:04:01,925 cisTopic     INFO     Computing insert size distribution for CNA_10xv11_2.35k\n",
      "\u001b[2m\u001b[36m(compute_qc_stats_ray pid=3275360)\u001b[0m 2022-09-15 05:04:01,926 cisTopic     INFO     Counting fragments\n"
     ]
    },
    {
     "name": "stdout",
     "output_type": "stream",
     "text": [
      "\u001b[2m\u001b[36m(compute_qc_stats_ray pid=3275361)\u001b[0m 2022-09-15 05:04:14,316 cisTopic     INFO     Computing duplicate rate plot for BRO_mtscatac_2.35k\n"
     ]
    },
    {
     "name": "stdout",
     "output_type": "stream",
     "text": [
      "\u001b[2m\u001b[36m(compute_qc_stats_ray pid=3275354)\u001b[0m 2022-09-15 05:04:15,416 cisTopic     INFO     Coverage matrix done\n"
     ]
    },
    {
     "name": "stdout",
     "output_type": "stream",
     "text": [
      "\u001b[2m\u001b[36m(compute_qc_stats_ray pid=3275360)\u001b[0m 2022-09-15 05:04:16,953 cisTopic     INFO     Returning plot data\n"
     ]
    },
    {
     "name": "stdout",
     "output_type": "stream",
     "text": [
      "\u001b[2m\u001b[36m(compute_qc_stats_ray pid=3275356)\u001b[0m 2022-09-15 05:04:18,733 cisTopic     INFO     Coverage matrix done\n"
     ]
    },
    {
     "name": "stdout",
     "output_type": "stream",
     "text": [
      "\u001b[2m\u001b[36m(compute_qc_stats_ray pid=3275363)\u001b[0m 2022-09-15 05:04:19,373 cisTopic     INFO     Computing duplicate rate plot for CNA_mtscatac_1.35k\n"
     ]
    },
    {
     "name": "stdout",
     "output_type": "stream",
     "text": [
      "\u001b[2m\u001b[36m(compute_qc_stats_ray pid=3275358)\u001b[0m 2022-09-15 05:04:29,778 cisTopic     INFO     Formatting annnotation\n"
     ]
    },
    {
     "name": "stdout",
     "output_type": "stream",
     "text": [
      "\u001b[2m\u001b[36m(compute_qc_stats_ray pid=3275352)\u001b[0m 2022-09-15 05:04:30,583 cisTopic     INFO     Computing TSS profile for STA_10xv11_2.35k\n"
     ]
    },
    {
     "name": "stdout",
     "output_type": "stream",
     "text": [
      "\u001b[2m\u001b[36m(compute_qc_stats_ray pid=3275358)\u001b[0m 2022-09-15 05:04:30,811 cisTopic     INFO     Creating coverage matrix\n"
     ]
    },
    {
     "name": "stdout",
     "output_type": "stream",
     "text": [
      "\u001b[2m\u001b[36m(compute_qc_stats_ray pid=3275363)\u001b[0m 2022-09-15 05:05:14,929 cisTopic     INFO     Return plot data\n"
     ]
    },
    {
     "name": "stdout",
     "output_type": "stream",
     "text": [
      "\u001b[2m\u001b[36m(compute_qc_stats_ray pid=3275363)\u001b[0m 2022-09-15 05:05:16,249 cisTopic     INFO     Computing insert size distribution for CNA_mtscatac_1.35k\n",
      "\u001b[2m\u001b[36m(compute_qc_stats_ray pid=3275363)\u001b[0m 2022-09-15 05:05:16,249 cisTopic     INFO     Counting fragments\n"
     ]
    },
    {
     "name": "stdout",
     "output_type": "stream",
     "text": [
      "\u001b[2m\u001b[36m(compute_qc_stats_ray pid=3275352)\u001b[0m 2022-09-15 05:05:17,776 cisTopic     INFO     Formatting annnotation\n"
     ]
    },
    {
     "name": "stdout",
     "output_type": "stream",
     "text": [
      "\u001b[2m\u001b[36m(compute_qc_stats_ray pid=3275352)\u001b[0m 2022-09-15 05:05:18,798 cisTopic     INFO     Creating coverage matrix\n"
     ]
    },
    {
     "name": "stdout",
     "output_type": "stream",
     "text": [
      "\u001b[2m\u001b[36m(compute_qc_stats_ray pid=3275361)\u001b[0m 2022-09-15 05:05:19,646 cisTopic     INFO     Return plot data\n"
     ]
    },
    {
     "name": "stdout",
     "output_type": "stream",
     "text": [
      "\u001b[2m\u001b[36m(compute_qc_stats_ray pid=3275361)\u001b[0m 2022-09-15 05:05:20,918 cisTopic     INFO     Computing insert size distribution for BRO_mtscatac_2.35k\n",
      "\u001b[2m\u001b[36m(compute_qc_stats_ray pid=3275361)\u001b[0m 2022-09-15 05:05:20,918 cisTopic     INFO     Counting fragments\n"
     ]
    },
    {
     "name": "stdout",
     "output_type": "stream",
     "text": [
      "\u001b[2m\u001b[36m(compute_qc_stats_ray pid=3275363)\u001b[0m 2022-09-15 05:05:32,520 cisTopic     INFO     Returning plot data\n"
     ]
    },
    {
     "name": "stdout",
     "output_type": "stream",
     "text": [
      "\u001b[2m\u001b[36m(compute_qc_stats_ray pid=3275361)\u001b[0m 2022-09-15 05:05:36,823 cisTopic     INFO     Returning plot data\n"
     ]
    },
    {
     "name": "stdout",
     "output_type": "stream",
     "text": [
      "\u001b[2m\u001b[36m(compute_qc_stats_ray pid=3275354)\u001b[0m 2022-09-15 05:06:18,579 cisTopic     INFO     Returning normalized TSS coverage matrix per barcode\n"
     ]
    },
    {
     "name": "stdout",
     "output_type": "stream",
     "text": [
      "\u001b[2m\u001b[36m(compute_qc_stats_ray pid=3275359)\u001b[0m 2022-09-15 05:07:31,242 cisTopic     INFO     Coverage matrix done\n"
     ]
    },
    {
     "name": "stdout",
     "output_type": "stream",
     "text": [
      "\u001b[2m\u001b[36m(compute_qc_stats_ray pid=3275356)\u001b[0m 2022-09-15 05:07:45,897 cisTopic     INFO     Returning normalized TSS coverage matrix per barcode\n",
      "\u001b[2m\u001b[36m(compute_qc_stats_ray pid=3275354)\u001b[0m 2022-09-15 05:07:46,044 cisTopic     INFO     Returning normalized sample TSS enrichment data\n"
     ]
    },
    {
     "name": "stdout",
     "output_type": "stream",
     "text": [
      "\u001b[2m\u001b[36m(compute_qc_stats_ray pid=3275354)\u001b[0m 2022-09-15 05:07:47,382 cisTopic     INFO     Computing FRIP profile for CNA_mtscatac_2.35k\n"
     ]
    },
    {
     "name": "stdout",
     "output_type": "stream",
     "text": [
      "\u001b[2m\u001b[36m(compute_qc_stats_ray pid=3275354)\u001b[0m 2022-09-15 05:07:53,169 cisTopic     INFO     Counting fragments\n"
     ]
    },
    {
     "name": "stdout",
     "output_type": "stream",
     "text": [
      "\u001b[2m\u001b[36m(compute_qc_stats_ray pid=3275365)\u001b[0m 2022-09-15 05:08:02,123 cisTopic     INFO     Computing TSS profile for OHS_s3atac_2.35k\n"
     ]
    },
    {
     "name": "stdout",
     "output_type": "stream",
     "text": [
      "\u001b[2m\u001b[36m(compute_qc_stats_ray pid=3275354)\u001b[0m 2022-09-15 05:08:21,439 cisTopic     INFO     Intersecting fragments with regions\n"
     ]
    },
    {
     "name": "stdout",
     "output_type": "stream",
     "text": [
      "\u001b[2m\u001b[36m(compute_qc_stats_ray pid=3275365)\u001b[0m 2022-09-15 05:08:45,635 cisTopic     INFO     Formatting annnotation\n"
     ]
    },
    {
     "name": "stdout",
     "output_type": "stream",
     "text": [
      "\u001b[2m\u001b[36m(compute_qc_stats_ray pid=3275365)\u001b[0m 2022-09-15 05:08:46,724 cisTopic     INFO     Creating coverage matrix\n"
     ]
    },
    {
     "name": "stdout",
     "output_type": "stream",
     "text": [
      "\u001b[2m\u001b[36m(compute_qc_stats_ray pid=3275360)\u001b[0m 2022-09-15 05:08:54,002 cisTopic     INFO     Computing TSS profile for CNA_10xv11_2.35k\n"
     ]
    },
    {
     "name": "stdout",
     "output_type": "stream",
     "text": [
      "\u001b[2m\u001b[36m(compute_qc_stats_ray pid=3275354)\u001b[0m 2022-09-15 05:09:21,489 cisTopic     INFO     Sample CNA_mtscatac_2.35k done!\n"
     ]
    },
    {
     "name": "stdout",
     "output_type": "stream",
     "text": [
      "\u001b[2m\u001b[36m(compute_qc_stats_ray pid=3275366)\u001b[0m 2022-09-15 05:09:55,223 cisTopic     INFO     Computing barcode rank plot for CNA_10xv2_2.35k\n",
      "\u001b[2m\u001b[36m(compute_qc_stats_ray pid=3275366)\u001b[0m 2022-09-15 05:09:55,224 cisTopic     INFO     Counting fragments\n"
     ]
    },
    {
     "name": "stdout",
     "output_type": "stream",
     "text": [
      "\u001b[2m\u001b[36m(compute_qc_stats_ray pid=3275360)\u001b[0m 2022-09-15 05:10:00,370 cisTopic     INFO     Formatting annnotation\n"
     ]
    },
    {
     "name": "stdout",
     "output_type": "stream",
     "text": [
      "\u001b[2m\u001b[36m(compute_qc_stats_ray pid=3275360)\u001b[0m 2022-09-15 05:10:01,237 cisTopic     INFO     Creating coverage matrix\n"
     ]
    },
    {
     "name": "stdout",
     "output_type": "stream",
     "text": [
      "\u001b[2m\u001b[36m(compute_qc_stats_ray pid=3275356)\u001b[0m 2022-09-15 05:10:15,120 cisTopic     INFO     Returning normalized sample TSS enrichment data\n"
     ]
    },
    {
     "name": "stdout",
     "output_type": "stream",
     "text": [
      "\u001b[2m\u001b[36m(compute_qc_stats_ray pid=3275356)\u001b[0m 2022-09-15 05:10:16,389 cisTopic     INFO     Computing FRIP profile for CNA_10xv11_5.35k\n"
     ]
    },
    {
     "name": "stdout",
     "output_type": "stream",
     "text": [
      "\u001b[2m\u001b[36m(compute_qc_stats_ray pid=3275356)\u001b[0m 2022-09-15 05:10:25,754 cisTopic     INFO     Counting fragments\n"
     ]
    },
    {
     "name": "stdout",
     "output_type": "stream",
     "text": [
      "\u001b[2m\u001b[36m(compute_qc_stats_ray pid=3275355)\u001b[0m 2022-09-15 05:10:31,026 cisTopic     INFO     Coverage matrix done\n"
     ]
    },
    {
     "name": "stdout",
     "output_type": "stream",
     "text": [
      "\u001b[2m\u001b[36m(compute_qc_stats_ray pid=3275356)\u001b[0m 2022-09-15 05:10:46,451 cisTopic     INFO     Intersecting fragments with regions\n"
     ]
    },
    {
     "name": "stdout",
     "output_type": "stream",
     "text": [
      "\u001b[2m\u001b[36m(compute_qc_stats_ray pid=3275366)\u001b[0m 2022-09-15 05:10:49,525 cisTopic     INFO     Marking barcodes with more than 10\n"
     ]
    },
    {
     "name": "stdout",
     "output_type": "stream",
     "text": [
      "\u001b[2m\u001b[36m(compute_qc_stats_ray pid=3275366)\u001b[0m 2022-09-15 05:10:50,675 cisTopic     INFO     Returning plot data\n",
      "\u001b[2m\u001b[36m(compute_qc_stats_ray pid=3275366)\u001b[0m 2022-09-15 05:10:50,754 cisTopic     INFO     Returning valid barcodes\n"
     ]
    },
    {
     "name": "stdout",
     "output_type": "stream",
     "text": [
      "\u001b[2m\u001b[36m(compute_qc_stats_ray pid=3275361)\u001b[0m 2022-09-15 05:10:59,287 cisTopic     INFO     Computing TSS profile for BRO_mtscatac_2.35k\n"
     ]
    },
    {
     "name": "stdout",
     "output_type": "stream",
     "text": [
      "\u001b[2m\u001b[36m(compute_qc_stats_ray pid=3275363)\u001b[0m 2022-09-15 05:11:00,069 cisTopic     INFO     Computing TSS profile for CNA_mtscatac_1.35k\n"
     ]
    },
    {
     "name": "stdout",
     "output_type": "stream",
     "text": [
      "\u001b[2m\u001b[36m(compute_qc_stats_ray pid=3275352)\u001b[0m 2022-09-15 05:11:16,567 cisTopic     INFO     Coverage matrix done\n"
     ]
    },
    {
     "name": "stdout",
     "output_type": "stream",
     "text": [
      "\u001b[2m\u001b[36m(compute_qc_stats_ray pid=3275366)\u001b[0m 2022-09-15 05:11:45,732 cisTopic     INFO     Computing duplicate rate plot for CNA_10xv2_2.35k\n"
     ]
    },
    {
     "name": "stdout",
     "output_type": "stream",
     "text": [
      "\u001b[2m\u001b[36m(compute_qc_stats_ray pid=3275363)\u001b[0m 2022-09-15 05:11:51,217 cisTopic     INFO     Formatting annnotation\n"
     ]
    },
    {
     "name": "stdout",
     "output_type": "stream",
     "text": [
      "\u001b[2m\u001b[36m(compute_qc_stats_ray pid=3275363)\u001b[0m 2022-09-15 05:11:52,099 cisTopic     INFO     Creating coverage matrix\n"
     ]
    },
    {
     "name": "stdout",
     "output_type": "stream",
     "text": [
      "\u001b[2m\u001b[36m(compute_qc_stats_ray pid=3275365)\u001b[0m 2022-09-15 05:11:53,906 cisTopic     INFO     Coverage matrix done\n"
     ]
    },
    {
     "name": "stdout",
     "output_type": "stream",
     "text": [
      "\u001b[2m\u001b[36m(compute_qc_stats_ray pid=3275361)\u001b[0m 2022-09-15 05:12:01,046 cisTopic     INFO     Formatting annnotation\n"
     ]
    },
    {
     "name": "stdout",
     "output_type": "stream",
     "text": [
      "\u001b[2m\u001b[36m(compute_qc_stats_ray pid=3275361)\u001b[0m 2022-09-15 05:12:01,928 cisTopic     INFO     Creating coverage matrix\n"
     ]
    },
    {
     "name": "stdout",
     "output_type": "stream",
     "text": [
      "\u001b[2m\u001b[36m(compute_qc_stats_ray pid=3275356)\u001b[0m 2022-09-15 05:12:05,551 cisTopic     INFO     Sample CNA_10xv11_5.35k done!\n"
     ]
    },
    {
     "name": "stdout",
     "output_type": "stream",
     "text": [
      "\u001b[2m\u001b[36m(compute_qc_stats_ray pid=3275366)\u001b[0m 2022-09-15 05:13:03,246 cisTopic     INFO     Return plot data\n"
     ]
    },
    {
     "name": "stdout",
     "output_type": "stream",
     "text": [
      "\u001b[2m\u001b[36m(compute_qc_stats_ray pid=3275366)\u001b[0m 2022-09-15 05:13:04,467 cisTopic     INFO     Computing insert size distribution for CNA_10xv2_2.35k\n",
      "\u001b[2m\u001b[36m(compute_qc_stats_ray pid=3275366)\u001b[0m 2022-09-15 05:13:04,467 cisTopic     INFO     Counting fragments\n"
     ]
    },
    {
     "name": "stdout",
     "output_type": "stream",
     "text": [
      "\u001b[2m\u001b[36m(compute_qc_stats_ray pid=3275366)\u001b[0m 2022-09-15 05:13:27,648 cisTopic     INFO     Returning plot data\n"
     ]
    },
    {
     "name": "stdout",
     "output_type": "stream",
     "text": [
      "\u001b[2m\u001b[36m(compute_qc_stats_ray pid=3275357)\u001b[0m 2022-09-15 05:13:52,096 cisTopic     INFO     Computing barcode rank plot for SAN_10xmultiome_2.35k\n",
      "\u001b[2m\u001b[36m(compute_qc_stats_ray pid=3275357)\u001b[0m 2022-09-15 05:13:52,096 cisTopic     INFO     Counting fragments\n"
     ]
    },
    {
     "name": "stdout",
     "output_type": "stream",
     "text": [
      "\u001b[2m\u001b[36m(compute_qc_stats_ray pid=3275357)\u001b[0m 2022-09-15 05:14:56,874 cisTopic     INFO     Marking barcodes with more than 10\n"
     ]
    },
    {
     "name": "stdout",
     "output_type": "stream",
     "text": [
      "\u001b[2m\u001b[36m(compute_qc_stats_ray pid=3275357)\u001b[0m 2022-09-15 05:14:58,375 cisTopic     INFO     Returning plot data\n",
      "\u001b[2m\u001b[36m(compute_qc_stats_ray pid=3275357)\u001b[0m 2022-09-15 05:14:58,441 cisTopic     INFO     Returning valid barcodes\n"
     ]
    },
    {
     "name": "stdout",
     "output_type": "stream",
     "text": [
      "\u001b[2m\u001b[36m(compute_qc_stats_ray pid=3275365)\u001b[0m 2022-09-15 05:15:14,520 cisTopic     INFO     Returning normalized TSS coverage matrix per barcode\n"
     ]
    },
    {
     "name": "stdout",
     "output_type": "stream",
     "text": [
      "\u001b[2m\u001b[36m(compute_qc_stats_ray pid=3275362)\u001b[0m 2022-09-15 05:15:55,400 cisTopic     INFO     Coverage matrix done\n"
     ]
    },
    {
     "name": "stdout",
     "output_type": "stream",
     "text": [
      "\u001b[2m\u001b[36m(compute_qc_stats_ray pid=3275357)\u001b[0m 2022-09-15 05:16:08,028 cisTopic     INFO     Computing duplicate rate plot for SAN_10xmultiome_2.35k\n"
     ]
    },
    {
     "name": "stdout",
     "output_type": "stream",
     "text": [
      "\u001b[2m\u001b[36m(compute_qc_stats_ray pid=3275353)\u001b[0m 2022-09-15 05:16:14,888 cisTopic     INFO     Computing barcode rank plot for BIO_ddseq_1.35k\n",
      "\u001b[2m\u001b[36m(compute_qc_stats_ray pid=3275353)\u001b[0m 2022-09-15 05:16:14,888 cisTopic     INFO     Counting fragments\n"
     ]
    },
    {
     "name": "stdout",
     "output_type": "stream",
     "text": [
      "\u001b[2m\u001b[36m(compute_qc_stats_ray pid=3275352)\u001b[0m 2022-09-15 05:17:29,795 cisTopic     INFO     Returning normalized TSS coverage matrix per barcode\n"
     ]
    },
    {
     "name": "stdout",
     "output_type": "stream",
     "text": [
      "\u001b[2m\u001b[36m(compute_qc_stats_ray pid=3275365)\u001b[0m 2022-09-15 05:17:31,270 cisTopic     INFO     Returning normalized sample TSS enrichment data\n"
     ]
    },
    {
     "name": "stdout",
     "output_type": "stream",
     "text": [
      "\u001b[2m\u001b[36m(compute_qc_stats_ray pid=3275365)\u001b[0m 2022-09-15 05:17:32,409 cisTopic     INFO     Computing FRIP profile for OHS_s3atac_2.35k\n"
     ]
    },
    {
     "name": "stdout",
     "output_type": "stream",
     "text": [
      "\u001b[2m\u001b[36m(compute_qc_stats_ray pid=3275365)\u001b[0m 2022-09-15 05:17:37,669 cisTopic     INFO     Counting fragments\n"
     ]
    },
    {
     "name": "stdout",
     "output_type": "stream",
     "text": [
      "\u001b[2m\u001b[36m(compute_qc_stats_ray pid=3275357)\u001b[0m 2022-09-15 05:17:49,016 cisTopic     INFO     Return plot data\n"
     ]
    },
    {
     "name": "stdout",
     "output_type": "stream",
     "text": [
      "\u001b[2m\u001b[36m(compute_qc_stats_ray pid=3275357)\u001b[0m 2022-09-15 05:17:50,202 cisTopic     INFO     Computing insert size distribution for SAN_10xmultiome_2.35k\n",
      "\u001b[2m\u001b[36m(compute_qc_stats_ray pid=3275357)\u001b[0m 2022-09-15 05:17:50,202 cisTopic     INFO     Counting fragments\n"
     ]
    },
    {
     "name": "stdout",
     "output_type": "stream",
     "text": [
      "\u001b[2m\u001b[36m(compute_qc_stats_ray pid=3275351)\u001b[0m 2022-09-15 05:18:10,209 cisTopic     INFO     Computing barcode rank plot for HAR_ddseq_2.35k\n",
      "\u001b[2m\u001b[36m(compute_qc_stats_ray pid=3275351)\u001b[0m 2022-09-15 05:18:10,210 cisTopic     INFO     Counting fragments\n"
     ]
    },
    {
     "name": "stdout",
     "output_type": "stream",
     "text": [
      "\u001b[2m\u001b[36m(compute_qc_stats_ray pid=3275365)\u001b[0m 2022-09-15 05:18:20,640 cisTopic     INFO     Intersecting fragments with regions\n"
     ]
    },
    {
     "name": "stdout",
     "output_type": "stream",
     "text": [
      "\u001b[2m\u001b[36m(compute_qc_stats_ray pid=3275357)\u001b[0m 2022-09-15 05:18:21,554 cisTopic     INFO     Returning plot data\n"
     ]
    },
    {
     "name": "stdout",
     "output_type": "stream",
     "text": [
      "\u001b[2m\u001b[36m(compute_qc_stats_ray pid=3275365)\u001b[0m 2022-09-15 05:19:03,753 cisTopic     INFO     Sample OHS_s3atac_2.35k done!\n"
     ]
    },
    {
     "name": "stdout",
     "output_type": "stream",
     "text": [
      "\u001b[2m\u001b[36m(compute_qc_stats_ray pid=3275353)\u001b[0m 2022-09-15 05:19:07,893 cisTopic     INFO     Marking barcodes with more than 10\n"
     ]
    },
    {
     "name": "stdout",
     "output_type": "stream",
     "text": [
      "\u001b[2m\u001b[36m(compute_qc_stats_ray pid=3275353)\u001b[0m 2022-09-15 05:19:15,861 cisTopic     INFO     Returning plot data\n"
     ]
    },
    {
     "name": "stdout",
     "output_type": "stream",
     "text": [
      "\u001b[2m\u001b[36m(compute_qc_stats_ray pid=3275353)\u001b[0m 2022-09-15 05:19:16,010 cisTopic     INFO     Returning valid barcodes\n"
     ]
    },
    {
     "name": "stdout",
     "output_type": "stream",
     "text": [
      "\u001b[2m\u001b[36m(compute_qc_stats_ray pid=3275363)\u001b[0m 2022-09-15 05:20:05,089 cisTopic     INFO     Coverage matrix done\n"
     ]
    },
    {
     "name": "stdout",
     "output_type": "stream",
     "text": [
      "\u001b[2m\u001b[36m(compute_qc_stats_ray pid=3275353)\u001b[0m 2022-09-15 05:20:06,437 cisTopic     INFO     Computing duplicate rate plot for BIO_ddseq_1.35k\n"
     ]
    },
    {
     "name": "stdout",
     "output_type": "stream",
     "text": [
      "\u001b[2m\u001b[36m(compute_qc_stats_ray pid=3275360)\u001b[0m 2022-09-15 05:20:39,823 cisTopic     INFO     Coverage matrix done\n"
     ]
    },
    {
     "name": "stdout",
     "output_type": "stream",
     "text": [
      "\u001b[2m\u001b[36m(compute_qc_stats_ray pid=3275358)\u001b[0m 2022-09-15 05:20:53,772 cisTopic     INFO     Coverage matrix done\n"
     ]
    },
    {
     "name": "stdout",
     "output_type": "stream",
     "text": [
      "\u001b[2m\u001b[36m(compute_qc_stats_ray pid=3275366)\u001b[0m 2022-09-15 05:21:05,071 cisTopic     INFO     Computing TSS profile for CNA_10xv2_2.35k\n"
     ]
    },
    {
     "name": "stdout",
     "output_type": "stream",
     "text": [
      "\u001b[2m\u001b[36m(compute_qc_stats_ray pid=3275352)\u001b[0m 2022-09-15 05:21:35,070 cisTopic     INFO     Returning normalized sample TSS enrichment data\n"
     ]
    },
    {
     "name": "stdout",
     "output_type": "stream",
     "text": [
      "\u001b[2m\u001b[36m(compute_qc_stats_ray pid=3275352)\u001b[0m 2022-09-15 05:21:36,196 cisTopic     INFO     Computing FRIP profile for STA_10xv11_2.35k\n"
     ]
    },
    {
     "name": "stdout",
     "output_type": "stream",
     "text": [
      "\u001b[2m\u001b[36m(compute_qc_stats_ray pid=3275352)\u001b[0m 2022-09-15 05:21:42,781 cisTopic     INFO     Counting fragments\n"
     ]
    },
    {
     "name": "stdout",
     "output_type": "stream",
     "text": [
      "\u001b[2m\u001b[36m(compute_qc_stats_ray pid=3275351)\u001b[0m 2022-09-15 05:21:53,025 cisTopic     INFO     Marking barcodes with more than 10\n"
     ]
    },
    {
     "name": "stdout",
     "output_type": "stream",
     "text": [
      "\u001b[2m\u001b[36m(compute_qc_stats_ray pid=3275351)\u001b[0m 2022-09-15 05:22:03,991 cisTopic     INFO     Returning plot data\n"
     ]
    },
    {
     "name": "stdout",
     "output_type": "stream",
     "text": [
      "\u001b[2m\u001b[36m(compute_qc_stats_ray pid=3275351)\u001b[0m 2022-09-15 05:22:04,279 cisTopic     INFO     Returning valid barcodes\n"
     ]
    },
    {
     "name": "stdout",
     "output_type": "stream",
     "text": [
      "\u001b[2m\u001b[36m(compute_qc_stats_ray pid=3275352)\u001b[0m 2022-09-15 05:22:10,324 cisTopic     INFO     Intersecting fragments with regions\n"
     ]
    },
    {
     "name": "stdout",
     "output_type": "stream",
     "text": [
      "\u001b[2m\u001b[36m(compute_qc_stats_ray pid=3275366)\u001b[0m 2022-09-15 05:22:23,073 cisTopic     INFO     Formatting annnotation\n"
     ]
    },
    {
     "name": "stdout",
     "output_type": "stream",
     "text": [
      "\u001b[2m\u001b[36m(compute_qc_stats_ray pid=3275366)\u001b[0m 2022-09-15 05:22:23,937 cisTopic     INFO     Creating coverage matrix\n"
     ]
    },
    {
     "name": "stdout",
     "output_type": "stream",
     "text": [
      "\u001b[2m\u001b[36m(compute_qc_stats_ray pid=3275351)\u001b[0m 2022-09-15 05:22:52,006 cisTopic     INFO     Computing duplicate rate plot for HAR_ddseq_2.35k\n"
     ]
    },
    {
     "name": "stdout",
     "output_type": "stream",
     "text": [
      "\u001b[2m\u001b[36m(compute_qc_stats_ray pid=3275352)\u001b[0m 2022-09-15 05:23:09,762 cisTopic     INFO     Sample STA_10xv11_2.35k done!\n"
     ]
    },
    {
     "name": "stdout",
     "output_type": "stream",
     "text": [
      "\u001b[2m\u001b[36m(compute_qc_stats_ray pid=3275363)\u001b[0m 2022-09-15 05:23:36,732 cisTopic     INFO     Returning normalized TSS coverage matrix per barcode\n"
     ]
    },
    {
     "name": "stdout",
     "output_type": "stream",
     "text": [
      "\u001b[2m\u001b[36m(compute_qc_stats_ray pid=3275353)\u001b[0m 2022-09-15 05:24:43,255 cisTopic     INFO     Return plot data\n"
     ]
    },
    {
     "name": "stdout",
     "output_type": "stream",
     "text": [
      "\u001b[2m\u001b[36m(compute_qc_stats_ray pid=3275353)\u001b[0m 2022-09-15 05:24:44,685 cisTopic     INFO     Computing insert size distribution for BIO_ddseq_1.35k\n",
      "\u001b[2m\u001b[36m(compute_qc_stats_ray pid=3275353)\u001b[0m 2022-09-15 05:24:44,685 cisTopic     INFO     Counting fragments\n"
     ]
    },
    {
     "name": "stdout",
     "output_type": "stream",
     "text": [
      "\u001b[2m\u001b[36m(compute_qc_stats_ray pid=3275361)\u001b[0m 2022-09-15 05:24:59,693 cisTopic     INFO     Coverage matrix done\n",
      "\u001b[2m\u001b[36m(compute_qc_stats_ray pid=3275353)\u001b[0m 2022-09-15 05:24:59,662 cisTopic     INFO     Returning plot data\n"
     ]
    },
    {
     "name": "stdout",
     "output_type": "stream",
     "text": [
      "\u001b[2m\u001b[36m(compute_qc_stats_ray pid=3275359)\u001b[0m 2022-09-15 05:25:52,143 cisTopic     INFO     Returning normalized TSS coverage matrix per barcode\n"
     ]
    },
    {
     "name": "stdout",
     "output_type": "stream",
     "text": [
      "\u001b[2m\u001b[36m(compute_qc_stats_ray pid=3275363)\u001b[0m 2022-09-15 05:25:56,450 cisTopic     INFO     Returning normalized sample TSS enrichment data\n"
     ]
    },
    {
     "name": "stdout",
     "output_type": "stream",
     "text": [
      "\u001b[2m\u001b[36m(compute_qc_stats_ray pid=3275363)\u001b[0m 2022-09-15 05:25:57,488 cisTopic     INFO     Computing FRIP profile for CNA_mtscatac_1.35k\n"
     ]
    },
    {
     "name": "stdout",
     "output_type": "stream",
     "text": [
      "\u001b[2m\u001b[36m(compute_qc_stats_ray pid=3275363)\u001b[0m 2022-09-15 05:26:03,195 cisTopic     INFO     Counting fragments\n"
     ]
    },
    {
     "name": "stdout",
     "output_type": "stream",
     "text": [
      "\u001b[2m\u001b[36m(compute_qc_stats_ray pid=3275357)\u001b[0m 2022-09-15 05:26:41,832 cisTopic     INFO     Computing TSS profile for SAN_10xmultiome_2.35k\n"
     ]
    },
    {
     "name": "stdout",
     "output_type": "stream",
     "text": [
      "\u001b[2m\u001b[36m(compute_qc_stats_ray pid=3275363)\u001b[0m 2022-09-15 05:26:45,738 cisTopic     INFO     Intersecting fragments with regions\n"
     ]
    },
    {
     "name": "stdout",
     "output_type": "stream",
     "text": [
      "\u001b[2m\u001b[36m(compute_qc_stats_ray pid=3275363)\u001b[0m 2022-09-15 05:28:25,455 cisTopic     INFO     Sample CNA_mtscatac_1.35k done!\n"
     ]
    },
    {
     "name": "stdout",
     "output_type": "stream",
     "text": [
      "\u001b[2m\u001b[36m(compute_qc_stats_ray pid=3275357)\u001b[0m 2022-09-15 05:28:27,543 cisTopic     INFO     Formatting annnotation\n"
     ]
    },
    {
     "name": "stdout",
     "output_type": "stream",
     "text": [
      "\u001b[2m\u001b[36m(compute_qc_stats_ray pid=3275357)\u001b[0m 2022-09-15 05:28:28,452 cisTopic     INFO     Creating coverage matrix\n"
     ]
    },
    {
     "name": "stdout",
     "output_type": "stream",
     "text": [
      "\u001b[2m\u001b[36m(compute_qc_stats_ray pid=3275351)\u001b[0m 2022-09-15 05:28:59,113 cisTopic     INFO     Return plot data\n"
     ]
    },
    {
     "name": "stdout",
     "output_type": "stream",
     "text": [
      "\u001b[2m\u001b[36m(compute_qc_stats_ray pid=3275351)\u001b[0m 2022-09-15 05:29:00,533 cisTopic     INFO     Computing insert size distribution for HAR_ddseq_2.35k\n",
      "\u001b[2m\u001b[36m(compute_qc_stats_ray pid=3275351)\u001b[0m 2022-09-15 05:29:00,533 cisTopic     INFO     Counting fragments\n"
     ]
    },
    {
     "name": "stdout",
     "output_type": "stream",
     "text": [
      "\u001b[2m\u001b[36m(compute_qc_stats_ray pid=3275351)\u001b[0m 2022-09-15 05:29:16,099 cisTopic     INFO     Returning plot data\n"
     ]
    },
    {
     "name": "stdout",
     "output_type": "stream",
     "text": [
      "\u001b[2m\u001b[36m(compute_qc_stats_ray pid=3275360)\u001b[0m 2022-09-15 05:29:29,237 cisTopic     INFO     Returning normalized TSS coverage matrix per barcode\n"
     ]
    },
    {
     "name": "stdout",
     "output_type": "stream",
     "text": [
      "\u001b[2m\u001b[36m(compute_qc_stats_ray pid=3275355)\u001b[0m 2022-09-15 05:29:58,023 cisTopic     INFO     Returning normalized TSS coverage matrix per barcode\n"
     ]
    },
    {
     "name": "stdout",
     "output_type": "stream",
     "text": [
      "\u001b[2m\u001b[36m(compute_qc_stats_ray pid=3275353)\u001b[0m 2022-09-15 05:30:00,697 cisTopic     INFO     Computing TSS profile for BIO_ddseq_1.35k\n"
     ]
    },
    {
     "name": "stdout",
     "output_type": "stream",
     "text": [
      "\u001b[2m\u001b[36m(compute_qc_stats_ray pid=3275364)\u001b[0m 2022-09-15 05:30:35,418 cisTopic     INFO     Computing barcode rank plot for VIB_10xv1_2.35k\n",
      "\u001b[2m\u001b[36m(compute_qc_stats_ray pid=3275364)\u001b[0m 2022-09-15 05:30:35,418 cisTopic     INFO     Counting fragments\n"
     ]
    },
    {
     "name": "stdout",
     "output_type": "stream",
     "text": [
      "\u001b[2m\u001b[36m(compute_qc_stats_ray pid=3275364)\u001b[0m 2022-09-15 05:32:00,194 cisTopic     INFO     Marking barcodes with more than 10\n"
     ]
    },
    {
     "name": "stdout",
     "output_type": "stream",
     "text": [
      "\u001b[2m\u001b[36m(compute_qc_stats_ray pid=3275364)\u001b[0m 2022-09-15 05:32:01,450 cisTopic     INFO     Returning plot data\n",
      "\u001b[2m\u001b[36m(compute_qc_stats_ray pid=3275364)\u001b[0m 2022-09-15 05:32:01,519 cisTopic     INFO     Returning valid barcodes\n"
     ]
    },
    {
     "name": "stdout",
     "output_type": "stream",
     "text": [
      "\u001b[2m\u001b[36m(compute_qc_stats_ray pid=3275353)\u001b[0m 2022-09-15 05:32:04,996 cisTopic     INFO     Formatting annnotation\n"
     ]
    },
    {
     "name": "stdout",
     "output_type": "stream",
     "text": [
      "\u001b[2m\u001b[36m(compute_qc_stats_ray pid=3275353)\u001b[0m 2022-09-15 05:32:05,754 cisTopic     INFO     Creating coverage matrix\n"
     ]
    },
    {
     "name": "stdout",
     "output_type": "stream",
     "text": [
      "\u001b[2m\u001b[36m(compute_qc_stats_ray pid=3275361)\u001b[0m 2022-09-15 05:32:47,798 cisTopic     INFO     Returning normalized TSS coverage matrix per barcode\n"
     ]
    },
    {
     "name": "stdout",
     "output_type": "stream",
     "text": [
      "\u001b[2m\u001b[36m(compute_qc_stats_ray pid=3275364)\u001b[0m 2022-09-15 05:33:42,691 cisTopic     INFO     Computing duplicate rate plot for VIB_10xv1_2.35k\n"
     ]
    },
    {
     "name": "stdout",
     "output_type": "stream",
     "text": [
      "\u001b[2m\u001b[36m(compute_qc_stats_ray pid=3275362)\u001b[0m 2022-09-15 05:33:47,084 cisTopic     INFO     Returning normalized TSS coverage matrix per barcode\n"
     ]
    },
    {
     "name": "stdout",
     "output_type": "stream",
     "text": [
      "\u001b[2m\u001b[36m(compute_qc_stats_ray pid=3275351)\u001b[0m 2022-09-15 05:34:00,719 cisTopic     INFO     Computing TSS profile for HAR_ddseq_2.35k\n"
     ]
    },
    {
     "name": "stdout",
     "output_type": "stream",
     "text": [
      "\u001b[2m\u001b[36m(compute_qc_stats_ray pid=3275360)\u001b[0m 2022-09-15 05:34:55,349 cisTopic     INFO     Returning normalized sample TSS enrichment data\n"
     ]
    },
    {
     "name": "stdout",
     "output_type": "stream",
     "text": [
      "\u001b[2m\u001b[36m(compute_qc_stats_ray pid=3275360)\u001b[0m 2022-09-15 05:34:56,348 cisTopic     INFO     Computing FRIP profile for CNA_10xv11_2.35k\n"
     ]
    },
    {
     "name": "stdout",
     "output_type": "stream",
     "text": [
      "\u001b[2m\u001b[36m(compute_qc_stats_ray pid=3275360)\u001b[0m 2022-09-15 05:35:02,988 cisTopic     INFO     Counting fragments\n"
     ]
    },
    {
     "name": "stdout",
     "output_type": "stream",
     "text": [
      "\u001b[2m\u001b[36m(compute_qc_stats_ray pid=3275360)\u001b[0m 2022-09-15 05:35:44,379 cisTopic     INFO     Intersecting fragments with regions\n"
     ]
    },
    {
     "name": "stdout",
     "output_type": "stream",
     "text": [
      "\u001b[2m\u001b[36m(compute_qc_stats_ray pid=3275364)\u001b[0m 2022-09-15 05:36:05,268 cisTopic     INFO     Return plot data\n"
     ]
    },
    {
     "name": "stdout",
     "output_type": "stream",
     "text": [
      "\u001b[2m\u001b[36m(compute_qc_stats_ray pid=3275364)\u001b[0m 2022-09-15 05:36:06,311 cisTopic     INFO     Computing insert size distribution for VIB_10xv1_2.35k\n",
      "\u001b[2m\u001b[36m(compute_qc_stats_ray pid=3275364)\u001b[0m 2022-09-15 05:36:06,311 cisTopic     INFO     Counting fragments\n"
     ]
    },
    {
     "name": "stdout",
     "output_type": "stream",
     "text": [
      "\u001b[2m\u001b[36m(compute_qc_stats_ray pid=3275351)\u001b[0m 2022-09-15 05:36:09,057 cisTopic     INFO     Formatting annnotation\n"
     ]
    },
    {
     "name": "stdout",
     "output_type": "stream",
     "text": [
      "\u001b[2m\u001b[36m(compute_qc_stats_ray pid=3275351)\u001b[0m 2022-09-15 05:36:09,787 cisTopic     INFO     Creating coverage matrix\n"
     ]
    },
    {
     "name": "stdout",
     "output_type": "stream",
     "text": [
      "\u001b[2m\u001b[36m(compute_qc_stats_ray pid=3275359)\u001b[0m 2022-09-15 05:36:14,966 cisTopic     INFO     Returning normalized sample TSS enrichment data\n"
     ]
    },
    {
     "name": "stdout",
     "output_type": "stream",
     "text": [
      "\u001b[2m\u001b[36m(compute_qc_stats_ray pid=3275359)\u001b[0m 2022-09-15 05:36:16,009 cisTopic     INFO     Computing FRIP profile for VIB_hydrop_12.35k\n"
     ]
    },
    {
     "name": "stdout",
     "output_type": "stream",
     "text": [
      "\u001b[2m\u001b[36m(compute_qc_stats_ray pid=3275359)\u001b[0m 2022-09-15 05:36:19,981 cisTopic     INFO     Counting fragments\n"
     ]
    },
    {
     "name": "stdout",
     "output_type": "stream",
     "text": [
      "\u001b[2m\u001b[36m(compute_qc_stats_ray pid=3275359)\u001b[0m 2022-09-15 05:36:29,428 cisTopic     INFO     Intersecting fragments with regions\n"
     ]
    },
    {
     "name": "stdout",
     "output_type": "stream",
     "text": [
      "\u001b[2m\u001b[36m(compute_qc_stats_ray pid=3275364)\u001b[0m 2022-09-15 05:36:52,970 cisTopic     INFO     Returning plot data\n"
     ]
    },
    {
     "name": "stdout",
     "output_type": "stream",
     "text": [
      "\u001b[2m\u001b[36m(compute_qc_stats_ray pid=3275359)\u001b[0m 2022-09-15 05:37:08,375 cisTopic     INFO     Sample VIB_hydrop_12.35k done!\n"
     ]
    },
    {
     "name": "stdout",
     "output_type": "stream",
     "text": [
      "\u001b[2m\u001b[36m(compute_qc_stats_ray pid=3275360)\u001b[0m 2022-09-15 05:37:30,130 cisTopic     INFO     Sample CNA_10xv11_2.35k done!\n"
     ]
    },
    {
     "name": "stdout",
     "output_type": "stream",
     "text": [
      "\u001b[2m\u001b[36m(compute_qc_stats_ray pid=3275358)\u001b[0m 2022-09-15 05:37:58,415 cisTopic     INFO     Returning normalized TSS coverage matrix per barcode\n"
     ]
    },
    {
     "name": "stdout",
     "output_type": "stream",
     "text": [
      "\u001b[2m\u001b[36m(compute_qc_stats_ray pid=3275361)\u001b[0m 2022-09-15 05:38:02,910 cisTopic     INFO     Returning normalized sample TSS enrichment data\n"
     ]
    },
    {
     "name": "stdout",
     "output_type": "stream",
     "text": [
      "\u001b[2m\u001b[36m(compute_qc_stats_ray pid=3275361)\u001b[0m 2022-09-15 05:38:03,708 cisTopic     INFO     Computing FRIP profile for BRO_mtscatac_2.35k\n"
     ]
    },
    {
     "name": "stdout",
     "output_type": "stream",
     "text": [
      "\u001b[2m\u001b[36m(compute_qc_stats_ray pid=3275361)\u001b[0m 2022-09-15 05:38:09,370 cisTopic     INFO     Counting fragments\n"
     ]
    },
    {
     "name": "stdout",
     "output_type": "stream",
     "text": [
      "\u001b[2m\u001b[36m(compute_qc_stats_ray pid=3275361)\u001b[0m 2022-09-15 05:38:47,488 cisTopic     INFO     Intersecting fragments with regions\n"
     ]
    },
    {
     "name": "stdout",
     "output_type": "stream",
     "text": [
      "\u001b[2m\u001b[36m(compute_qc_stats_ray pid=3275355)\u001b[0m 2022-09-15 05:40:30,546 cisTopic     INFO     Returning normalized sample TSS enrichment data\n"
     ]
    },
    {
     "name": "stdout",
     "output_type": "stream",
     "text": [
      "\u001b[2m\u001b[36m(compute_qc_stats_ray pid=3275355)\u001b[0m 2022-09-15 05:40:31,338 cisTopic     INFO     Computing FRIP profile for CNA_hydrop_3.35k\n"
     ]
    },
    {
     "name": "stdout",
     "output_type": "stream",
     "text": [
      "\u001b[2m\u001b[36m(compute_qc_stats_ray pid=3275355)\u001b[0m 2022-09-15 05:40:33,794 cisTopic     INFO     Counting fragments\n"
     ]
    },
    {
     "name": "stdout",
     "output_type": "stream",
     "text": [
      "\u001b[2m\u001b[36m(compute_qc_stats_ray pid=3275355)\u001b[0m 2022-09-15 05:40:45,350 cisTopic     INFO     Intersecting fragments with regions\n"
     ]
    },
    {
     "name": "stdout",
     "output_type": "stream",
     "text": [
      "\u001b[2m\u001b[36m(compute_qc_stats_ray pid=3275355)\u001b[0m 2022-09-15 05:41:10,849 cisTopic     INFO     Sample CNA_hydrop_3.35k done!\n"
     ]
    },
    {
     "name": "stdout",
     "output_type": "stream",
     "text": [
      "\u001b[2m\u001b[36m(compute_qc_stats_ray pid=3275361)\u001b[0m 2022-09-15 05:41:12,655 cisTopic     INFO     Sample BRO_mtscatac_2.35k done!\n"
     ]
    },
    {
     "name": "stdout",
     "output_type": "stream",
     "text": [
      "\u001b[2m\u001b[36m(compute_qc_stats_ray pid=3275362)\u001b[0m 2022-09-15 05:43:01,608 cisTopic     INFO     Returning normalized sample TSS enrichment data\n"
     ]
    },
    {
     "name": "stdout",
     "output_type": "stream",
     "text": [
      "\u001b[2m\u001b[36m(compute_qc_stats_ray pid=3275362)\u001b[0m 2022-09-15 05:43:02,211 cisTopic     INFO     Computing FRIP profile for VIB_hydrop_21.35k\n"
     ]
    },
    {
     "name": "stdout",
     "output_type": "stream",
     "text": [
      "\u001b[2m\u001b[36m(compute_qc_stats_ray pid=3275362)\u001b[0m 2022-09-15 05:43:05,210 cisTopic     INFO     Counting fragments\n"
     ]
    },
    {
     "name": "stdout",
     "output_type": "stream",
     "text": [
      "\u001b[2m\u001b[36m(compute_qc_stats_ray pid=3275362)\u001b[0m 2022-09-15 05:43:13,462 cisTopic     INFO     Intersecting fragments with regions\n"
     ]
    },
    {
     "name": "stdout",
     "output_type": "stream",
     "text": [
      "\u001b[2m\u001b[36m(compute_qc_stats_ray pid=3275362)\u001b[0m 2022-09-15 05:43:49,298 cisTopic     INFO     Sample VIB_hydrop_21.35k done!\n"
     ]
    },
    {
     "name": "stdout",
     "output_type": "stream",
     "text": [
      "\u001b[2m\u001b[36m(compute_qc_stats_ray pid=3275366)\u001b[0m 2022-09-15 05:44:28,094 cisTopic     INFO     Coverage matrix done\n"
     ]
    },
    {
     "name": "stdout",
     "output_type": "stream",
     "text": [
      "\u001b[2m\u001b[36m(compute_qc_stats_ray pid=3275357)\u001b[0m 2022-09-15 05:45:29,173 cisTopic     INFO     Coverage matrix done\n"
     ]
    },
    {
     "name": "stdout",
     "output_type": "stream",
     "text": [
      "\u001b[2m\u001b[36m(compute_qc_stats_ray pid=3275358)\u001b[0m 2022-09-15 05:45:33,416 cisTopic     INFO     Returning normalized sample TSS enrichment data\n"
     ]
    },
    {
     "name": "stdout",
     "output_type": "stream",
     "text": [
      "\u001b[2m\u001b[36m(compute_qc_stats_ray pid=3275358)\u001b[0m 2022-09-15 05:45:33,996 cisTopic     INFO     Computing FRIP profile for EPF_hydrop_4.35k\n"
     ]
    },
    {
     "name": "stdout",
     "output_type": "stream",
     "text": [
      "\u001b[2m\u001b[36m(compute_qc_stats_ray pid=3275358)\u001b[0m 2022-09-15 05:45:36,512 cisTopic     INFO     Counting fragments\n"
     ]
    },
    {
     "name": "stdout",
     "output_type": "stream",
     "text": [
      "\u001b[2m\u001b[36m(compute_qc_stats_ray pid=3275358)\u001b[0m 2022-09-15 05:45:45,114 cisTopic     INFO     Intersecting fragments with regions\n"
     ]
    },
    {
     "name": "stdout",
     "output_type": "stream",
     "text": [
      "\u001b[2m\u001b[36m(compute_qc_stats_ray pid=3275364)\u001b[0m 2022-09-15 05:46:13,684 cisTopic     INFO     Computing TSS profile for VIB_10xv1_2.35k\n"
     ]
    },
    {
     "name": "stdout",
     "output_type": "stream",
     "text": [
      "\u001b[2m\u001b[36m(compute_qc_stats_ray pid=3275358)\u001b[0m 2022-09-15 05:46:22,052 cisTopic     INFO     Sample EPF_hydrop_4.35k done!\n"
     ]
    },
    {
     "name": "stdout",
     "output_type": "stream",
     "text": [
      "\u001b[2m\u001b[36m(compute_qc_stats_ray pid=3275366)\u001b[0m 2022-09-15 05:48:20,955 cisTopic     INFO     Returning normalized TSS coverage matrix per barcode\n"
     ]
    },
    {
     "name": "stdout",
     "output_type": "stream",
     "text": [
      "\u001b[2m\u001b[36m(compute_qc_stats_ray pid=3275364)\u001b[0m 2022-09-15 05:48:24,077 cisTopic     INFO     Formatting annnotation\n"
     ]
    },
    {
     "name": "stdout",
     "output_type": "stream",
     "text": [
      "\u001b[2m\u001b[36m(compute_qc_stats_ray pid=3275364)\u001b[0m 2022-09-15 05:48:24,413 cisTopic     INFO     Creating coverage matrix\n"
     ]
    },
    {
     "name": "stdout",
     "output_type": "stream",
     "text": [
      "\u001b[2m\u001b[36m(compute_qc_stats_ray pid=3275357)\u001b[0m 2022-09-15 05:49:39,702 cisTopic     INFO     Returning normalized TSS coverage matrix per barcode\n"
     ]
    },
    {
     "name": "stdout",
     "output_type": "stream",
     "text": [
      "\u001b[2m\u001b[36m(compute_qc_stats_ray pid=3275353)\u001b[0m 2022-09-15 05:50:29,970 cisTopic     INFO     Coverage matrix done\n"
     ]
    },
    {
     "name": "stdout",
     "output_type": "stream",
     "text": [
      "\u001b[2m\u001b[36m(compute_qc_stats_ray pid=3275366)\u001b[0m 2022-09-15 05:50:49,212 cisTopic     INFO     Returning normalized sample TSS enrichment data\n"
     ]
    },
    {
     "name": "stdout",
     "output_type": "stream",
     "text": [
      "\u001b[2m\u001b[36m(compute_qc_stats_ray pid=3275366)\u001b[0m 2022-09-15 05:50:49,631 cisTopic     INFO     Computing FRIP profile for CNA_10xv2_2.35k\n"
     ]
    },
    {
     "name": "stdout",
     "output_type": "stream",
     "text": [
      "\u001b[2m\u001b[36m(compute_qc_stats_ray pid=3275366)\u001b[0m 2022-09-15 05:50:54,119 cisTopic     INFO     Counting fragments\n"
     ]
    },
    {
     "name": "stdout",
     "output_type": "stream",
     "text": [
      "\u001b[2m\u001b[36m(compute_qc_stats_ray pid=3275366)\u001b[0m 2022-09-15 05:51:23,932 cisTopic     INFO     Intersecting fragments with regions\n"
     ]
    },
    {
     "name": "stdout",
     "output_type": "stream",
     "text": [
      "\u001b[2m\u001b[36m(compute_qc_stats_ray pid=3275351)\u001b[0m 2022-09-15 05:51:37,845 cisTopic     INFO     Coverage matrix done\n"
     ]
    },
    {
     "name": "stdout",
     "output_type": "stream",
     "text": [
      "\u001b[2m\u001b[36m(compute_qc_stats_ray pid=3275357)\u001b[0m 2022-09-15 05:52:37,586 cisTopic     INFO     Returning normalized sample TSS enrichment data\n"
     ]
    },
    {
     "name": "stdout",
     "output_type": "stream",
     "text": [
      "\u001b[2m\u001b[36m(compute_qc_stats_ray pid=3275357)\u001b[0m 2022-09-15 05:52:38,021 cisTopic     INFO     Computing FRIP profile for SAN_10xmultiome_2.35k\n"
     ]
    },
    {
     "name": "stdout",
     "output_type": "stream",
     "text": [
      "\u001b[2m\u001b[36m(compute_qc_stats_ray pid=3275357)\u001b[0m 2022-09-15 05:52:41,907 cisTopic     INFO     Counting fragments\n"
     ]
    },
    {
     "name": "stdout",
     "output_type": "stream",
     "text": [
      "\u001b[2m\u001b[36m(compute_qc_stats_ray pid=3275357)\u001b[0m 2022-09-15 05:53:20,060 cisTopic     INFO     Intersecting fragments with regions\n"
     ]
    },
    {
     "name": "stdout",
     "output_type": "stream",
     "text": [
      "\u001b[2m\u001b[36m(compute_qc_stats_ray pid=3275366)\u001b[0m 2022-09-15 05:53:43,585 cisTopic     INFO     Sample CNA_10xv2_2.35k done!\n"
     ]
    },
    {
     "name": "stdout",
     "output_type": "stream",
     "text": [
      "\u001b[2m\u001b[36m(compute_qc_stats_ray pid=3275357)\u001b[0m 2022-09-15 05:54:53,295 cisTopic     INFO     Sample SAN_10xmultiome_2.35k done!\n"
     ]
    },
    {
     "name": "stdout",
     "output_type": "stream",
     "text": [
      "\u001b[2m\u001b[36m(compute_qc_stats_ray pid=3275353)\u001b[0m 2022-09-15 05:56:38,725 cisTopic     INFO     Returning normalized TSS coverage matrix per barcode\n"
     ]
    },
    {
     "name": "stdout",
     "output_type": "stream",
     "text": [
      "\u001b[2m\u001b[36m(compute_qc_stats_ray pid=3275351)\u001b[0m 2022-09-15 05:57:40,114 cisTopic     INFO     Returning normalized TSS coverage matrix per barcode\n"
     ]
    },
    {
     "name": "stdout",
     "output_type": "stream",
     "text": [
      "\u001b[2m\u001b[36m(compute_qc_stats_ray pid=3275353)\u001b[0m 2022-09-15 05:59:33,743 cisTopic     INFO     Returning normalized sample TSS enrichment data\n"
     ]
    },
    {
     "name": "stdout",
     "output_type": "stream",
     "text": [
      "\u001b[2m\u001b[36m(compute_qc_stats_ray pid=3275353)\u001b[0m 2022-09-15 05:59:34,036 cisTopic     INFO     Computing FRIP profile for BIO_ddseq_1.35k\n"
     ]
    },
    {
     "name": "stdout",
     "output_type": "stream",
     "text": [
      "\u001b[2m\u001b[36m(compute_qc_stats_ray pid=3275353)\u001b[0m 2022-09-15 05:59:35,575 cisTopic     INFO     Counting fragments\n"
     ]
    },
    {
     "name": "stdout",
     "output_type": "stream",
     "text": [
      "\u001b[2m\u001b[36m(compute_qc_stats_ray pid=3275364)\u001b[0m 2022-09-15 05:59:37,881 cisTopic     INFO     Coverage matrix done\n"
     ]
    },
    {
     "name": "stdout",
     "output_type": "stream",
     "text": [
      "\u001b[2m\u001b[36m(compute_qc_stats_ray pid=3275353)\u001b[0m 2022-09-15 06:00:00,819 cisTopic     INFO     Intersecting fragments with regions\n"
     ]
    },
    {
     "name": "stdout",
     "output_type": "stream",
     "text": [
      "\u001b[2m\u001b[36m(compute_qc_stats_ray pid=3275351)\u001b[0m 2022-09-15 06:00:49,446 cisTopic     INFO     Returning normalized sample TSS enrichment data\n"
     ]
    },
    {
     "name": "stdout",
     "output_type": "stream",
     "text": [
      "\u001b[2m\u001b[36m(compute_qc_stats_ray pid=3275351)\u001b[0m 2022-09-15 06:00:49,740 cisTopic     INFO     Computing FRIP profile for HAR_ddseq_2.35k\n"
     ]
    },
    {
     "name": "stdout",
     "output_type": "stream",
     "text": [
      "\u001b[2m\u001b[36m(compute_qc_stats_ray pid=3275351)\u001b[0m 2022-09-15 06:00:51,059 cisTopic     INFO     Counting fragments\n"
     ]
    },
    {
     "name": "stdout",
     "output_type": "stream",
     "text": [
      "\u001b[2m\u001b[36m(compute_qc_stats_ray pid=3275353)\u001b[0m 2022-09-15 06:01:17,969 cisTopic     INFO     Sample BIO_ddseq_1.35k done!\n"
     ]
    },
    {
     "name": "stdout",
     "output_type": "stream",
     "text": [
      "\u001b[2m\u001b[36m(compute_qc_stats_ray pid=3275351)\u001b[0m 2022-09-15 06:01:22,209 cisTopic     INFO     Intersecting fragments with regions\n"
     ]
    },
    {
     "name": "stdout",
     "output_type": "stream",
     "text": [
      "\u001b[2m\u001b[36m(compute_qc_stats_ray pid=3275351)\u001b[0m 2022-09-15 06:02:17,331 cisTopic     INFO     Sample HAR_ddseq_2.35k done!\n"
     ]
    },
    {
     "name": "stdout",
     "output_type": "stream",
     "text": [
      "\u001b[2m\u001b[36m(compute_qc_stats_ray pid=3275364)\u001b[0m 2022-09-15 06:02:24,197 cisTopic     INFO     Returning normalized TSS coverage matrix per barcode\n"
     ]
    },
    {
     "name": "stdout",
     "output_type": "stream",
     "text": [
      "\u001b[2m\u001b[36m(compute_qc_stats_ray pid=3275364)\u001b[0m 2022-09-15 06:03:09,222 cisTopic     INFO     Returning normalized sample TSS enrichment data\n",
      "\u001b[2m\u001b[36m(compute_qc_stats_ray pid=3275364)\u001b[0m 2022-09-15 06:03:09,308 cisTopic     INFO     Computing FRIP profile for VIB_10xv1_2.35k\n"
     ]
    },
    {
     "name": "stdout",
     "output_type": "stream",
     "text": [
      "\u001b[2m\u001b[36m(compute_qc_stats_ray pid=3275364)\u001b[0m 2022-09-15 06:03:10,026 cisTopic     INFO     Counting fragments\n"
     ]
    },
    {
     "name": "stdout",
     "output_type": "stream",
     "text": [
      "\u001b[2m\u001b[36m(compute_qc_stats_ray pid=3275364)\u001b[0m 2022-09-15 06:03:21,349 cisTopic     INFO     Intersecting fragments with regions\n"
     ]
    },
    {
     "name": "stdout",
     "output_type": "stream",
     "text": [
      "\u001b[2m\u001b[36m(compute_qc_stats_ray pid=3275364)\u001b[0m 2022-09-15 06:03:51,035 cisTopic     INFO     Sample VIB_10xv1_2.35k done!\n"
     ]
    },
    {
     "name": "stdout",
     "output_type": "stream",
     "text": [
      "Dumping files in /dodrio/scratch/projects/starting_2022_023/benchmark/scatac_benchmark/downsample_series/35k/cistopic_qc_out_CONSENSUS...\n"
     ]
    },
    {
     "name": "stdout",
     "output_type": "stream",
     "text": [
      "2022-09-15 06:05:20,505 cisTopic     INFO     n_cpu is larger than the number of samples. Setting n_cpu to the number of samples\n"
     ]
    },
    {
     "name": "stdout",
     "output_type": "stream",
     "text": [
      "2022-09-15 06:05:20,506 cisTopic     INFO     Reading OHS_s3atac_1.35k\n"
     ]
    },
    {
     "name": "stdout",
     "output_type": "stream",
     "text": [
      "2022-09-15 06:06:05,573 cisTopic     INFO     Computing barcode rank plot for OHS_s3atac_1.35k\n"
     ]
    },
    {
     "name": "stdout",
     "output_type": "stream",
     "text": [
      "2022-09-15 06:06:05,574 cisTopic     INFO     Counting fragments\n"
     ]
    },
    {
     "name": "stdout",
     "output_type": "stream",
     "text": [
      "2022-09-15 06:06:07,157 cisTopic     INFO     Marking barcodes with more than 10\n"
     ]
    },
    {
     "name": "stdout",
     "output_type": "stream",
     "text": [
      "2022-09-15 06:06:07,164 cisTopic     INFO     Returning plot data\n"
     ]
    },
    {
     "name": "stdout",
     "output_type": "stream",
     "text": [
      "2022-09-15 06:06:07,165 cisTopic     INFO     Returning valid barcodes\n"
     ]
    },
    {
     "name": "stdout",
     "output_type": "stream",
     "text": [
      "2022-09-15 06:06:09,277 cisTopic     INFO     Computing duplicate rate plot for OHS_s3atac_1.35k\n"
     ]
    },
    {
     "name": "stdout",
     "output_type": "stream",
     "text": [
      "2022-09-15 06:06:11,627 cisTopic     INFO     Return plot data\n"
     ]
    },
    {
     "name": "stdout",
     "output_type": "stream",
     "text": [
      "2022-09-15 06:06:11,748 cisTopic     INFO     Computing insert size distribution for OHS_s3atac_1.35k\n"
     ]
    },
    {
     "name": "stdout",
     "output_type": "stream",
     "text": [
      "2022-09-15 06:06:11,749 cisTopic     INFO     Counting fragments\n"
     ]
    },
    {
     "name": "stdout",
     "output_type": "stream",
     "text": [
      "2022-09-15 06:06:12,783 cisTopic     INFO     Returning plot data\n"
     ]
    },
    {
     "name": "stdout",
     "output_type": "stream",
     "text": [
      "2022-09-15 06:06:35,952 cisTopic     INFO     Computing TSS profile for OHS_s3atac_1.35k\n"
     ]
    },
    {
     "name": "stdout",
     "output_type": "stream",
     "text": [
      "2022-09-15 06:06:38,574 cisTopic     INFO     Formatting annnotation\n"
     ]
    },
    {
     "name": "stdout",
     "output_type": "stream",
     "text": [
      "2022-09-15 06:06:38,628 cisTopic     INFO     Creating coverage matrix\n"
     ]
    },
    {
     "name": "stdout",
     "output_type": "stream",
     "text": [
      "2022-09-15 06:07:01,664 cisTopic     INFO     Coverage matrix done\n"
     ]
    },
    {
     "name": "stdout",
     "output_type": "stream",
     "text": [
      "2022-09-15 06:07:14,509 cisTopic     INFO     Returning normalized TSS coverage matrix per barcode\n"
     ]
    },
    {
     "name": "stdout",
     "output_type": "stream",
     "text": [
      "2022-09-15 06:07:23,436 cisTopic     INFO     Returning normalized sample TSS enrichment data\n"
     ]
    },
    {
     "name": "stdout",
     "output_type": "stream",
     "text": [
      "2022-09-15 06:07:23,563 cisTopic     INFO     Computing FRIP profile for OHS_s3atac_1.35k\n"
     ]
    },
    {
     "name": "stdout",
     "output_type": "stream",
     "text": [
      "2022-09-15 06:07:24,031 cisTopic     INFO     Counting fragments\n"
     ]
    },
    {
     "name": "stdout",
     "output_type": "stream",
     "text": [
      "2022-09-15 06:07:27,221 cisTopic     INFO     Intersecting fragments with regions\n"
     ]
    },
    {
     "name": "stdout",
     "output_type": "stream",
     "text": [
      "2022-09-15 06:07:32,114 cisTopic     INFO     Sample OHS_s3atac_1.35k done!\n"
     ]
    },
    {
     "name": "stdout",
     "output_type": "stream",
     "text": [
      "Dumping files in /dodrio/scratch/projects/starting_2022_023/benchmark/scatac_benchmark/downsample_series/35k/cistopic_qc_out_CONSENSUS...\n"
     ]
    }
   ],
   "source": [
    "n_cores = 16\n",
    "if regions_sub_dict != {}:\n",
    "    samples_sub = list(regions_sub_dict.keys())\n",
    "    blocks = [samples_sub[i : i + n_cores] for i in range(0, len(samples_sub), n_cores)]\n",
    "    for samples_torun_in_block in blocks:\n",
    "        fragments_sub_dict_block = {\n",
    "            key: fragments_sub_dict[key] for key in samples_torun_in_block\n",
    "        }\n",
    "        regions_sub_dict_block = {\n",
    "            key: regions_sub_dict[key] for key in samples_torun_in_block\n",
    "        }\n",
    "\n",
    "        metadata_bc_dict, profile_data_dict = compute_qc_stats(\n",
    "            fragments_dict=fragments_sub_dict_block,\n",
    "            tss_annotation=annotation,\n",
    "            stats=[\n",
    "                \"barcode_rank_plot\",\n",
    "                \"duplicate_rate\",\n",
    "                \"insert_size_distribution\",\n",
    "                \"profile_tss\",\n",
    "                \"frip\",\n",
    "            ],\n",
    "            label_list=None,\n",
    "            path_to_regions=regions_sub_dict_block,\n",
    "            n_cpu=n_cores,\n",
    "            valid_bc=None,\n",
    "            n_frag=10,\n",
    "            n_bc=None,\n",
    "            tss_flank_window=2000,\n",
    "            tss_window=50,\n",
    "            tss_minimum_signal_window=100,\n",
    "            tss_rolling_window=10,\n",
    "            # min_norm=0.2,\n",
    "            remove_duplicates=True,\n",
    "        )\n",
    "\n",
    "        ray.shutdown()\n",
    "        print(f\"Dumping files in {cistopic_qc_out}...\")\n",
    "        for sample in sorted(metadata_bc_dict.keys()):\n",
    "            metadata_bc_dict[sample][\"sample_id\"] = sample\n",
    "            metadata_bc_dict[sample].index = [\n",
    "                x + \"___\" + sample for x in list(metadata_bc_dict[sample].index)\n",
    "            ]\n",
    "            with open(\n",
    "                os.path.join(cistopic_qc_out, f\"{sample}__metadata_bc.pkl\"), \"wb\"\n",
    "            ) as f:\n",
    "                pickle.dump(metadata_bc_dict[sample], f, protocol=4)\n",
    "\n",
    "            with open(\n",
    "                os.path.join(cistopic_qc_out, f\"{sample}__profile_data.pkl\"), \"wb\"\n",
    "            ) as f:\n",
    "                pickle.dump(profile_data_dict[sample], f, protocol=4)\n",
    "else:\n",
    "    print(\"All samples already processed.\")"
   ]
  },
  {
   "cell_type": "markdown",
   "id": "1a1ad8e2",
   "metadata": {
    "papermill": {
     "duration": 0.03635,
     "end_time": "2022-09-15T06:07:39.050886",
     "exception": false,
     "start_time": "2022-09-15T06:07:39.014536",
     "status": "completed"
    },
    "tags": []
   },
   "source": [
    "# Plot"
   ]
  },
  {
   "cell_type": "markdown",
   "id": "76d9a6eb-c74e-41bb-b05b-0c2c36a0a2f9",
   "metadata": {
    "papermill": {
     "duration": 0.035918,
     "end_time": "2022-09-15T06:07:39.122617",
     "exception": false,
     "start_time": "2022-09-15T06:07:39.086699",
     "status": "completed"
    },
    "tags": []
   },
   "source": [
    "Calculating a KDE is simultaneously expensive and scales poorly with increasing n. Therefore, I wrote a multithreaded script that divides the QC array into equal parts (interleaved to avoid biases in the order!) and performs a KDE calculation on each part. Here, Otsu thresholding is used to find the right threshold for minimum fragments and minimum TSS enrichment. ddseq samples have a significantly higher noise floor than the other samples when it comes to fragment distribution. Therefore, the otsu algorithm is performed on all barcodes with a minimum of 300 fragments for the ddseq samples, and a minimum of 100 fragments for all the other samples. I tried to perform this filtering completely independent of sample/technique (e.g. using gaussian mixture modeling, Jenks natural breaks, or multiple step Otsu thresholding) but found that no solution worked perfectly for all samples."
   ]
  },
  {
   "cell_type": "markdown",
   "id": "0332bf6a-0bd8-41d2-9f12-634b2249af11",
   "metadata": {
    "papermill": {
     "duration": 0.035662,
     "end_time": "2022-09-15T06:07:39.194180",
     "exception": false,
     "start_time": "2022-09-15T06:07:39.158518",
     "status": "completed"
    },
    "tags": []
   },
   "source": [
    "This is regulated by the code below in qc_plots.py:\n",
    "```\n",
    "min_otsu_frags_dict = {}\n",
    "for fragments_file in fragments_list:\n",
    "    sample = fragments_file.split(\"/\")[-1].split(\".\")[0]\n",
    "    tech = sample.split('_')[1]\n",
    "    if tech == \"ddseq\":\n",
    "        if sample == \"BIO_ddseq_1\":\n",
    "            min_otsu_frags_dict[sample] = 600\n",
    "        else:\n",
    "            min_otsu_frags_dict[sample] = 300\n",
    "    elif tech == \"hydrop\":\n",
    "        min_otsu_frags_dict[sample] = 300\n",
    "    else:\n",
    "        min_otsu_frags_dict[sample] = 100\n",
    "```"
   ]
  },
  {
   "cell_type": "code",
   "execution_count": 20,
   "id": "0b8bcb35-3db0-4d9c-96d0-c73d04a0d5cf",
   "metadata": {
    "collapsed": true,
    "execution": {
     "iopub.execute_input": "2022-09-15T06:07:39.267283Z",
     "iopub.status.busy": "2022-09-15T06:07:39.266883Z",
     "iopub.status.idle": "2022-09-15T06:07:39.599174Z",
     "shell.execute_reply": "2022-09-15T06:07:39.598587Z"
    },
    "jupyter": {
     "outputs_hidden": true
    },
    "papermill": {
     "duration": 0.370318,
     "end_time": "2022-09-15T06:07:39.600587",
     "exception": false,
     "start_time": "2022-09-15T06:07:39.230269",
     "status": "completed"
    },
    "tags": []
   },
   "outputs": [
    {
     "name": "stdout",
     "output_type": "stream",
     "text": [
      "cat: ../0_resources/scripts/qc_plots.py: No such file or directory\r\n"
     ]
    }
   ],
   "source": [
    "!cat ../0_resources/scripts/qc_plots.py"
   ]
  },
  {
   "cell_type": "markdown",
   "id": "e4019bde",
   "metadata": {
    "execution": {
     "iopub.execute_input": "2022-07-15T09:42:06.802579Z",
     "iopub.status.busy": "2022-07-15T09:42:06.801860Z",
     "iopub.status.idle": "2022-07-15T09:42:06.814527Z",
     "shell.execute_reply": "2022-07-15T09:42:06.813708Z",
     "shell.execute_reply.started": "2022-07-15T09:42:06.802476Z"
    },
    "papermill": {
     "duration": 0.036792,
     "end_time": "2022-09-15T06:07:39.674377",
     "exception": false,
     "start_time": "2022-09-15T06:07:39.637585",
     "status": "completed"
    },
    "tags": []
   },
   "source": [
    "Since multiprocessing does not work with jupyter notebooks, run the following code in terminal:"
   ]
  },
  {
   "cell_type": "markdown",
   "id": "5d53e61b",
   "metadata": {
    "papermill": {
     "duration": 0.03552,
     "end_time": "2022-09-15T06:07:39.745973",
     "exception": false,
     "start_time": "2022-09-15T06:07:39.710453",
     "status": "completed"
    },
    "tags": []
   },
   "source": [
    "```\n",
    "mkdir plots_qc\n",
    "mkdir selected_barcodes\n",
    "SIF=../0_resources/cistopic_image/20220722_pycistopic.sif\n",
    "singularity exec \\\n",
    "    --cleanenv \\\n",
    "    -H $PWD:/home \\\n",
    "    $SIF \\\n",
    "    python ../0_resources/scripts/qc_plots.py\n",
    "```"
   ]
  },
  {
   "cell_type": "markdown",
   "id": "6de4c150-e92a-4060-b992-ae7babd1625a",
   "metadata": {
    "papermill": {
     "duration": 0.03567,
     "end_time": "2022-09-15T06:07:39.817165",
     "exception": false,
     "start_time": "2022-09-15T06:07:39.781495",
     "status": "completed"
    },
    "tags": []
   },
   "source": [
    "And then open the plots:"
   ]
  },
  {
   "cell_type": "code",
   "execution_count": 21,
   "id": "68739afd-bc2c-4fab-ad96-25edf95b163c",
   "metadata": {
    "execution": {
     "iopub.execute_input": "2022-09-15T06:07:39.889572Z",
     "iopub.status.busy": "2022-09-15T06:07:39.889254Z",
     "iopub.status.idle": "2022-09-15T06:07:39.897867Z",
     "shell.execute_reply": "2022-09-15T06:07:39.897422Z"
    },
    "papermill": {
     "duration": 0.045817,
     "end_time": "2022-09-15T06:07:39.898773",
     "exception": false,
     "start_time": "2022-09-15T06:07:39.852956",
     "status": "completed"
    },
    "tags": []
   },
   "outputs": [],
   "source": [
    "metadata_bc_pkl_list = sorted(glob.glob(\"cistopic_qc_out/*metadata_bc.pkl\"))\n",
    "metadata_bc_pkl_path_dict = {}\n",
    "for metadata_bc_pkl_path in metadata_bc_pkl_list:\n",
    "    sample = metadata_bc_pkl_path.split(\"/\")[-1].split(\"__\")[0]\n",
    "    metadata_bc_pkl_path_dict[sample] = metadata_bc_pkl_path\n",
    "\n",
    "for sample in metadata_bc_pkl_path_dict.keys():\n",
    "    if os.path.exists(f\"selected_barcodes/{sample}_bc_passing_filters_otsu.pkl\"):\n",
    "        print(f\"{sample} bc passing filters exists, printing img and skipping\")\n",
    "        display(Image(f\"plots_qc/{sample}_qc_otsu.png\"))\n",
    "    else:\n",
    "        print(\n",
    "            f\"{sample} bc passing filters does not exist yet, generate using qc_plots.py script!\"\n",
    "        )"
   ]
  },
  {
   "cell_type": "markdown",
   "id": "fa5a05ab-0ae5-4804-95d8-b280b86bbedf",
   "metadata": {
    "papermill": {
     "duration": 0.035804,
     "end_time": "2022-09-15T06:07:39.970727",
     "exception": false,
     "start_time": "2022-09-15T06:07:39.934923",
     "status": "completed"
    },
    "tags": []
   },
   "source": [
    "# Write raw barcode file"
   ]
  },
  {
   "cell_type": "markdown",
   "id": "ed437d13-e63c-4fd5-a19b-549c83c3c3f6",
   "metadata": {
    "papermill": {
     "duration": 0.035428,
     "end_time": "2022-09-15T06:07:40.042006",
     "exception": false,
     "start_time": "2022-09-15T06:07:40.006578",
     "status": "completed"
    },
    "tags": []
   },
   "source": [
    "Freemuxlet reads barcodes in the bam file. These barcodes (tag: DB) do not contain the `sample` suffix, which is included in the `*_bc_passing_filters_otsu.txt` files:"
   ]
  },
  {
   "cell_type": "code",
   "execution_count": 22,
   "id": "76c6ae6e-c050-4915-9477-1b567edff53e",
   "metadata": {
    "execution": {
     "iopub.execute_input": "2022-09-15T06:07:40.114716Z",
     "iopub.status.busy": "2022-09-15T06:07:40.114323Z",
     "iopub.status.idle": "2022-09-15T06:07:40.451668Z",
     "shell.execute_reply": "2022-09-15T06:07:40.451086Z"
    },
    "papermill": {
     "duration": 0.374634,
     "end_time": "2022-09-15T06:07:40.452612",
     "exception": false,
     "start_time": "2022-09-15T06:07:40.077978",
     "status": "completed"
    },
    "tags": []
   },
   "outputs": [
    {
     "name": "stdout",
     "output_type": "stream",
     "text": [
      "head: cannot open 'selected_barcodes/BIO_ddseq_1.LIBDS_bc_passing_filters_otsu.txt' for reading: No such file or directory\r\n"
     ]
    }
   ],
   "source": [
    "!head selected_barcodes/BIO_ddseq_1.LIBDS_bc_passing_filters_otsu.txt"
   ]
  },
  {
   "cell_type": "code",
   "execution_count": 23,
   "id": "df7588f2-5917-4e37-98cb-7fd0d2c83590",
   "metadata": {
    "execution": {
     "iopub.execute_input": "2022-09-15T06:07:40.525992Z",
     "iopub.status.busy": "2022-09-15T06:07:40.525688Z",
     "iopub.status.idle": "2022-09-15T06:07:40.534105Z",
     "shell.execute_reply": "2022-09-15T06:07:40.533654Z"
    },
    "papermill": {
     "duration": 0.045807,
     "end_time": "2022-09-15T06:07:40.535023",
     "exception": false,
     "start_time": "2022-09-15T06:07:40.489216",
     "status": "completed"
    },
    "tags": []
   },
   "outputs": [],
   "source": [
    "for file in glob.glob(\"selected_barcodes/*_bc_passing_filters_otsu.txt\"):\n",
    "    print(file)\n",
    "    sample = file.split(\"/\")[-1].split(\"_bc_passing_filters_otsu.txt\")[0]\n",
    "    print(sample)\n",
    "    df = pd.read_csv(file, header=None, index_col=None)\n",
    "\n",
    "    with open(f\"selected_barcodes/{sample}_bc_passing_filters_otsu.RAW.txt\", \"w\") as fp:\n",
    "        for x in df[0]:\n",
    "            # write each item on a new line\n",
    "            fp.write(x.split(\"___\")[0] + \"\\n\")\n",
    "        print(\"Done\")"
   ]
  },
  {
   "cell_type": "code",
   "execution_count": 24,
   "id": "83e00ebf-28af-4f4a-8f2f-d3c073179b2a",
   "metadata": {
    "execution": {
     "iopub.execute_input": "2022-09-15T06:07:40.608140Z",
     "iopub.status.busy": "2022-09-15T06:07:40.607752Z",
     "iopub.status.idle": "2022-09-15T06:07:40.876679Z",
     "shell.execute_reply": "2022-09-15T06:07:40.876097Z"
    },
    "papermill": {
     "duration": 0.306939,
     "end_time": "2022-09-15T06:07:40.877621",
     "exception": false,
     "start_time": "2022-09-15T06:07:40.570682",
     "status": "completed"
    },
    "tags": []
   },
   "outputs": [
    {
     "name": "stdout",
     "output_type": "stream",
     "text": [
      "head: cannot open 'selected_barcodes/BIO_ddseq_1.LIBDS_bc_passing_filters_otsu.RAW.txt' for reading: No such file or directory\r\n"
     ]
    }
   ],
   "source": [
    "!head selected_barcodes/BIO_ddseq_1.LIBDS_bc_passing_filters_otsu.RAW.txt"
   ]
  },
  {
   "cell_type": "code",
   "execution_count": null,
   "id": "1f42804d-a0dd-4797-8573-d1ac4de75f1b",
   "metadata": {
    "papermill": {
     "duration": 0.036102,
     "end_time": "2022-09-15T06:07:40.950046",
     "exception": false,
     "start_time": "2022-09-15T06:07:40.913944",
     "status": "completed"
    },
    "tags": []
   },
   "outputs": [],
   "source": []
  }
 ],
 "metadata": {
  "kernelspec": {
   "display_name": "20220815_pycistopic.sif",
   "language": "python",
   "name": "pycistopic_20220815"
  },
  "language_info": {
   "codemirror_mode": {
    "name": "ipython",
    "version": 3
   },
   "file_extension": ".py",
   "mimetype": "text/x-python",
   "name": "python",
   "nbconvert_exporter": "python",
   "pygments_lexer": "ipython3",
   "version": "3.8.13"
  },
  "papermill": {
   "default_parameters": {},
   "duration": 15746.034045,
   "end_time": "2022-09-15T06:07:43.844878",
   "environment_variables": {},
   "exception": null,
   "input_path": "2_run_qc_consensus.ipynb",
   "output_path": "2_run_qc_consensus.OUT.ipynb",
   "parameters": {},
   "start_time": "2022-09-15T01:45:17.810833",
   "version": "2.3.4"
  }
 },
 "nbformat": 4,
 "nbformat_minor": 5
}
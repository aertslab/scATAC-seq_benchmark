{
 "cells": [
  {
   "cell_type": "code",
   "execution_count": 36,
   "id": "7eb74f36-e807-4524-a607-15d63ad047d0",
   "metadata": {},
   "outputs": [
    {
     "name": "stdout",
     "output_type": "stream",
     "text": [
      "The lab_black extension is already loaded. To reload it, use:\n",
      "  %reload_ext lab_black\n"
     ]
    }
   ],
   "source": [
    "%load_ext lab_black\n",
    "import glob"
   ]
  },
  {
   "cell_type": "code",
   "execution_count": 37,
   "id": "98a36426-0fed-4289-b242-49613da79f08",
   "metadata": {},
   "outputs": [
    {
     "name": "stdout",
     "output_type": "stream",
     "text": [
      "49\n"
     ]
    }
   ],
   "source": [
    "samples = [\n",
    "    \"BIO_ddseq_1\",\n",
    "    \"BIO_ddseq_2\",\n",
    "    \"BIO_ddseq_3\",\n",
    "    \"BIO_ddseq_4\",\n",
    "    \"BRO_mtscatac_1\",\n",
    "    \"BRO_mtscatac_2\",\n",
    "    \"CNA_10xmultiome_1\",\n",
    "    \"CNA_10xmultiome_2\",\n",
    "    \"CNA_10xv11_1\",\n",
    "    \"CNA_10xv11_2\",\n",
    "    \"CNA_10xv11_3\",\n",
    "    \"CNA_10xv11_4\",\n",
    "    \"CNA_10xv11_5\",\n",
    "    \"CNA_10xv2_1\",\n",
    "    \"CNA_10xv2_2\",\n",
    "    \"CNA_hydrop_1\",\n",
    "    \"CNA_hydrop_2\",\n",
    "    \"CNA_hydrop_3\",\n",
    "    \"CNA_mtscatac_1\",\n",
    "    \"CNA_mtscatac_2\",\n",
    "    \"EPF_hydrop_1\",\n",
    "    \"EPF_hydrop_2\",\n",
    "    \"EPF_hydrop_3\",\n",
    "    \"EPF_hydrop_4\",\n",
    "    \"HAR_ddseq_1\",\n",
    "    \"HAR_ddseq_2\",\n",
    "    \"MDC_mtscatac_1\",\n",
    "    \"MDC_mtscatac_2\",\n",
    "    \"OHS_s3atac_1\",\n",
    "    \"OHS_s3atac_2\",\n",
    "    \"SAN_10xmultiome_1\",\n",
    "    \"SAN_10xmultiome_2\",\n",
    "    \"STA_10xv11_1\",\n",
    "    \"STA_10xv11_2\",\n",
    "    \"UCS_ddseq_1\",\n",
    "    \"UCS_ddseq_2\",\n",
    "    \"TXG_10xv11_1\",\n",
    "    \"TXG_10xv2_1\",\n",
    "    \"TXG_10xv2_2\",\n",
    "    \"VIB_10xmultiome_1\",\n",
    "    \"VIB_10xmultiome_2\",\n",
    "    \"VIB_10xv1_1\",\n",
    "    \"VIB_10xv1_2\",\n",
    "    \"VIB_10xv2_1\",\n",
    "    \"VIB_10xv2_2\",\n",
    "    \"VIB_hydrop_11\",\n",
    "    \"VIB_hydrop_12\",\n",
    "    \"VIB_hydrop_21\",\n",
    "    \"VIB_hydrop_22\",\n",
    "]\n",
    "print(len(samples))"
   ]
  },
  {
   "cell_type": "code",
   "execution_count": 38,
   "id": "f9398ccf-ab10-44f0-89c8-4c429b2d1626",
   "metadata": {},
   "outputs": [],
   "source": [
    "ds_str = \"30k\""
   ]
  },
  {
   "cell_type": "code",
   "execution_count": 39,
   "id": "f43fd7e7-21a8-4798-b7bd-c236412e02bf",
   "metadata": {
    "papermill": {
     "duration": 0.015429,
     "end_time": "2022-09-07T09:32:33.334207",
     "exception": false,
     "start_time": "2022-09-07T09:32:33.318778",
     "status": "completed"
    },
    "tags": []
   },
   "outputs": [
    {
     "data": {
      "text/plain": [
       "{'BIO_ddseq_1.30k': '30k_preprocessing_out/data/fragments/BIO_ddseq_1.30k.fragments.raw.tsv.gz',\n",
       " 'BIO_ddseq_2.30k': '30k_preprocessing_out/data/fragments/BIO_ddseq_2.30k.fragments.raw.tsv.gz',\n",
       " 'BIO_ddseq_3.30k': '30k_preprocessing_out/data/fragments/BIO_ddseq_3.30k.fragments.raw.tsv.gz',\n",
       " 'BIO_ddseq_4.30k': '30k_preprocessing_out/data/fragments/BIO_ddseq_4.30k.fragments.raw.tsv.gz',\n",
       " 'BRO_mtscatac_1.30k': '30k_preprocessing_out/data/fragments/BRO_mtscatac_1.30k.fragments.raw.tsv.gz',\n",
       " 'BRO_mtscatac_2.30k': '30k_preprocessing_out/data/fragments/BRO_mtscatac_2.30k.fragments.raw.tsv.gz',\n",
       " 'CNA_10xmultiome_1.30k': '30k_preprocessing_out/data/fragments/CNA_10xmultiome_1.30k.fragments.raw.tsv.gz',\n",
       " 'CNA_10xmultiome_2.30k': '30k_preprocessing_out/data/fragments/CNA_10xmultiome_2.30k.fragments.raw.tsv.gz',\n",
       " 'CNA_10xv11_1.30k': '30k_preprocessing_out/data/fragments/CNA_10xv11_1.30k.fragments.raw.tsv.gz',\n",
       " 'CNA_10xv11_2.30k': '30k_preprocessing_out/data/fragments/CNA_10xv11_2.30k.fragments.raw.tsv.gz',\n",
       " 'CNA_10xv11_3.30k': '30k_preprocessing_out/data/fragments/CNA_10xv11_3.30k.fragments.raw.tsv.gz',\n",
       " 'CNA_10xv11_4.30k': '30k_preprocessing_out/data/fragments/CNA_10xv11_4.30k.fragments.raw.tsv.gz',\n",
       " 'CNA_10xv11_5.30k': '30k_preprocessing_out/data/fragments/CNA_10xv11_5.30k.fragments.raw.tsv.gz',\n",
       " 'CNA_10xv2_1.30k': '30k_preprocessing_out/data/fragments/CNA_10xv2_1.30k.fragments.raw.tsv.gz',\n",
       " 'CNA_10xv2_2.30k': '30k_preprocessing_out/data/fragments/CNA_10xv2_2.30k.fragments.raw.tsv.gz',\n",
       " 'CNA_hydrop_1.30k': '30k_preprocessing_out/data/fragments/CNA_hydrop_1.30k.fragments.raw.tsv.gz',\n",
       " 'CNA_hydrop_2.30k': '30k_preprocessing_out/data/fragments/CNA_hydrop_2.30k.fragments.raw.tsv.gz',\n",
       " 'CNA_hydrop_3.30k': '30k_preprocessing_out/data/fragments/CNA_hydrop_3.30k.fragments.raw.tsv.gz',\n",
       " 'CNA_mtscatac_1.30k': '30k_preprocessing_out/data/fragments/CNA_mtscatac_1.30k.fragments.raw.tsv.gz',\n",
       " 'CNA_mtscatac_2.30k': '30k_preprocessing_out/data/fragments/CNA_mtscatac_2.30k.fragments.raw.tsv.gz',\n",
       " 'EPF_hydrop_1.30k': '30k_preprocessing_out/data/fragments/EPF_hydrop_1.30k.fragments.raw.tsv.gz',\n",
       " 'EPF_hydrop_2.30k': '30k_preprocessing_out/data/fragments/EPF_hydrop_2.30k.fragments.raw.tsv.gz',\n",
       " 'EPF_hydrop_3.30k': '30k_preprocessing_out/data/fragments/EPF_hydrop_3.30k.fragments.raw.tsv.gz',\n",
       " 'EPF_hydrop_4.30k': '30k_preprocessing_out/data/fragments/EPF_hydrop_4.30k.fragments.raw.tsv.gz',\n",
       " 'HAR_ddseq_1.30k': '30k_preprocessing_out/data/fragments/HAR_ddseq_1.30k.fragments.raw.tsv.gz',\n",
       " 'HAR_ddseq_2.30k': '30k_preprocessing_out/data/fragments/HAR_ddseq_2.30k.fragments.raw.tsv.gz',\n",
       " 'MDC_mtscatac_1.30k': '30k_preprocessing_out/data/fragments/MDC_mtscatac_1.30k.fragments.raw.tsv.gz',\n",
       " 'MDC_mtscatac_2.30k': '30k_preprocessing_out/data/fragments/MDC_mtscatac_2.30k.fragments.raw.tsv.gz',\n",
       " 'OHS_s3atac_1.30k': '30k_preprocessing_out/data/fragments/OHS_s3atac_1.30k.fragments.raw.tsv.gz',\n",
       " 'OHS_s3atac_2.30k': '30k_preprocessing_out/data/fragments/OHS_s3atac_2.30k.fragments.raw.tsv.gz',\n",
       " 'SAN_10xmultiome_1.30k': '30k_preprocessing_out/data/fragments/SAN_10xmultiome_1.30k.fragments.raw.tsv.gz',\n",
       " 'SAN_10xmultiome_2.30k': '30k_preprocessing_out/data/fragments/SAN_10xmultiome_2.30k.fragments.raw.tsv.gz',\n",
       " 'STA_10xv11_1.30k': '30k_preprocessing_out/data/fragments/STA_10xv11_1.30k.fragments.raw.tsv.gz',\n",
       " 'STA_10xv11_2.30k': '30k_preprocessing_out/data/fragments/STA_10xv11_2.30k.fragments.raw.tsv.gz',\n",
       " 'TXG_10xv11_1.30k': '30k_preprocessing_out/data/fragments/TXG_10xv11_1.30k.fragments.raw.tsv.gz',\n",
       " 'TXG_10xv2_2.30k': '30k_preprocessing_out/data/fragments/TXG_10xv2_2.30k.fragments.raw.tsv.gz',\n",
       " 'VIB_10xmultiome_1.30k': '30k_preprocessing_out/data/fragments/VIB_10xmultiome_1.30k.fragments.raw.tsv.gz',\n",
       " 'VIB_10xmultiome_2.30k': '30k_preprocessing_out/data/fragments/VIB_10xmultiome_2.30k.fragments.raw.tsv.gz',\n",
       " 'VIB_10xv1_1.30k': '30k_preprocessing_out/data/fragments/VIB_10xv1_1.30k.fragments.raw.tsv.gz',\n",
       " 'VIB_10xv1_2.30k': '30k_preprocessing_out/data/fragments/VIB_10xv1_2.30k.fragments.raw.tsv.gz',\n",
       " 'VIB_10xv2_1.30k': '30k_preprocessing_out/data/fragments/VIB_10xv2_1.30k.fragments.raw.tsv.gz',\n",
       " 'VIB_10xv2_2.30k': '30k_preprocessing_out/data/fragments/VIB_10xv2_2.30k.fragments.raw.tsv.gz',\n",
       " 'VIB_hydrop_11.30k': '30k_preprocessing_out/data/fragments/VIB_hydrop_11.30k.fragments.raw.tsv.gz',\n",
       " 'VIB_hydrop_12.30k': '30k_preprocessing_out/data/fragments/VIB_hydrop_12.30k.fragments.raw.tsv.gz',\n",
       " 'VIB_hydrop_21.30k': '30k_preprocessing_out/data/fragments/VIB_hydrop_21.30k.fragments.raw.tsv.gz',\n",
       " 'VIB_hydrop_22.30k': '30k_preprocessing_out/data/fragments/VIB_hydrop_22.30k.fragments.raw.tsv.gz'}"
      ]
     },
     "execution_count": 39,
     "metadata": {},
     "output_type": "execute_result"
    }
   ],
   "source": [
    "fragments_paths_dict = {\n",
    "    x.split(\"/\")[-1].split(f\".fragments.raw.tsv.gz\")[0]: x\n",
    "    for x in sorted(\n",
    "        glob.glob(f\"{ds_str}_preprocessing_out/data/fragments/*.fragments.raw.tsv.gz\")\n",
    "    )\n",
    "}\n",
    "fragments_paths_dict"
   ]
  },
  {
   "cell_type": "code",
   "execution_count": 40,
   "id": "bbd8c67c-b008-4cbb-bca3-4cc31727564c",
   "metadata": {},
   "outputs": [
    {
     "data": {
      "text/plain": [
       "46"
      ]
     },
     "execution_count": 40,
     "metadata": {},
     "output_type": "execute_result"
    }
   ],
   "source": [
    "len(fragments_paths_dict)"
   ]
  },
  {
   "cell_type": "code",
   "execution_count": 41,
   "id": "06658189-b742-4773-a6db-4df85935813d",
   "metadata": {
    "tags": []
   },
   "outputs": [
    {
     "name": "stdout",
     "output_type": "stream",
     "text": [
      "no fragments for UCS_ddseq_1\n",
      "no fragments for UCS_ddseq_2\n",
      "no fragments for TXG_10xv2_1\n"
     ]
    }
   ],
   "source": [
    "for sample in samples:\n",
    "    if not sample + \".\" + ds_str in fragments_paths_dict.keys():\n",
    "        print(f\"no fragments for {sample}\")"
   ]
  },
  {
   "cell_type": "code",
   "execution_count": null,
   "id": "ca97fe7a-ff95-4ff0-9ee3-57f892fb7a4e",
   "metadata": {},
   "outputs": [],
   "source": []
  }
 ],
 "metadata": {
  "kernelspec": {
   "display_name": "20220815_pycistopic.sif",
   "language": "python",
   "name": "pycistopic_20220815"
  },
  "language_info": {
   "codemirror_mode": {
    "name": "ipython",
    "version": 3
   },
   "file_extension": ".py",
   "mimetype": "text/x-python",
   "name": "python",
   "nbconvert_exporter": "python",
   "pygments_lexer": "ipython3",
   "version": "3.8.13"
  },
  "papermill": {
   "default_parameters": {},
   "duration": 23.40901,
   "end_time": "2022-09-07T09:32:35.246431",
   "environment_variables": {},
   "exception": null,
   "input_path": "2_run_qc_consensus.ipynb",
   "output_path": "2_run_qc_consensus.OUT.ipynb",
   "parameters": {},
   "start_time": "2022-09-07T09:32:11.837421",
   "version": "2.3.4"
  }
 },
 "nbformat": 4,
 "nbformat_minor": 5
}

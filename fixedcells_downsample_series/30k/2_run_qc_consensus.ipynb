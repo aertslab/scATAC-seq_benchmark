{
 "cells": [
  {
   "cell_type": "code",
   "execution_count": 20,
   "id": "5c0cea95",
   "metadata": {
    "papermill": {
     "duration": 10.505144,
     "end_time": "2022-09-07T09:32:30.381989",
     "exception": false,
     "start_time": "2022-09-07T09:32:19.876845",
     "status": "completed"
    },
    "tags": []
   },
   "outputs": [
    {
     "name": "stdout",
     "output_type": "stream",
     "text": [
      "The lab_black extension is already loaded. To reload it, use:\n",
      "  %reload_ext lab_black\n"
     ]
    }
   ],
   "source": [
    "import pycisTopic\n",
    "import glob\n",
    "import os\n",
    "import pybiomart as pbm\n",
    "import pandas as pd\n",
    "import pickle\n",
    "from pycisTopic.qc import *\n",
    "from IPython.display import Image, display\n",
    "import matplotlib.pyplot as plt\n",
    "import numpy as np\n",
    "import seaborn as sns\n",
    "\n",
    "import multiprocess as mp  # for kde multithreading calculation\n",
    "from multiprocess import Pool\n",
    "\n",
    "%matplotlib inline\n",
    "%load_ext lab_black"
   ]
  },
  {
   "cell_type": "markdown",
   "id": "7c7a43c8",
   "metadata": {
    "papermill": {
     "duration": 0.004035,
     "end_time": "2022-09-07T09:32:30.441493",
     "exception": false,
     "start_time": "2022-09-07T09:32:30.437458",
     "status": "completed"
    },
    "tags": []
   },
   "source": [
    "# Download annotation"
   ]
  },
  {
   "cell_type": "code",
   "execution_count": 3,
   "id": "8d799645-cbe0-43be-b2af-cb773840f783",
   "metadata": {
    "papermill": {
     "duration": 0.887142,
     "end_time": "2022-09-07T09:32:31.332703",
     "exception": false,
     "start_time": "2022-09-07T09:32:30.445561",
     "status": "completed"
    },
    "tags": []
   },
   "outputs": [
    {
     "name": "stdout",
     "output_type": "stream",
     "text": [
      "/dodrio/scratch/projects/starting_2022_023/benchmark/scatac_benchmark/downsample_series/35k\n"
     ]
    }
   ],
   "source": [
    "!pwd"
   ]
  },
  {
   "cell_type": "code",
   "execution_count": 2,
   "id": "1637befe-6dd6-4a77-b59e-1f696ba36b74",
   "metadata": {
    "papermill": {
     "duration": 0.010929,
     "end_time": "2022-09-07T09:32:30.433288",
     "exception": false,
     "start_time": "2022-09-07T09:32:30.422359",
     "status": "completed"
    },
    "tags": []
   },
   "outputs": [],
   "source": [
    "depth_str = os.getcwd().split(\"/\")[-1]"
   ]
  },
  {
   "cell_type": "code",
   "execution_count": 4,
   "id": "f587154d",
   "metadata": {
    "papermill": {
     "duration": 0.010124,
     "end_time": "2022-09-07T09:32:31.347225",
     "exception": false,
     "start_time": "2022-09-07T09:32:31.337101",
     "status": "completed"
    },
    "tags": []
   },
   "outputs": [],
   "source": [
    "wdir = f\"/dodrio/scratch/projects/starting_2022_023/benchmark/scatac_benchmark/downsample_series/{depth_str}\"\n",
    "os.chdir(wdir)"
   ]
  },
  {
   "cell_type": "code",
   "execution_count": 5,
   "id": "8abb4492",
   "metadata": {
    "papermill": {
     "duration": 1.939749,
     "end_time": "2022-09-07T09:32:33.291173",
     "exception": false,
     "start_time": "2022-09-07T09:32:31.351424",
     "status": "completed"
    },
    "tags": []
   },
   "outputs": [
    {
     "name": "stdout",
     "output_type": "stream",
     "text": [
      "Loading cached genome annotation...\n"
     ]
    }
   ],
   "source": [
    "genome = \"hg38\"\n",
    "\n",
    "pbm_genome_name_dict = {\n",
    "    \"hg38\": \"hsapiens_gene_ensembl\",\n",
    "    \"hg37\": \"hsapiens_gene_ensembl\",\n",
    "    \"mm10\": \"mmusculus_gene_ensembl\",\n",
    "    \"dm6\": \"dmelanogaster_gene_ensembl\",\n",
    "}\n",
    "\n",
    "pbm_host_dict = {\n",
    "    \"hg38\": \"http://www.ensembl.org\",\n",
    "    \"hg37\": \"http://grch37.ensembl.org/\",\n",
    "    \"mm10\": \"http://nov2020.archive.ensembl.org/\",\n",
    "    \"dm6\": \"http://www.ensembl.org\",\n",
    "}\n",
    "\n",
    "if os.path.exists(f\"../annotation.tsv\"):\n",
    "    print(f\"Loading cached genome annotation...\")\n",
    "    annotation = pd.read_csv(\"../annotation.tsv\", sep=\"\\t\", header=0, index_col=0)\n",
    "else:\n",
    "    dataset = pbm.Dataset(name=pbm_genome_name_dict[genome], host=pbm_host_dict[genome])\n",
    "\n",
    "    annotation = dataset.query(\n",
    "        attributes=[\n",
    "            \"chromosome_name\",\n",
    "            \"transcription_start_site\",\n",
    "            \"strand\",\n",
    "            \"external_gene_name\",\n",
    "            \"transcript_biotype\",\n",
    "        ]\n",
    "    )\n",
    "    filter = annotation[\"Chromosome/scaffold name\"].str.contains(\"CHR|GL|JH|MT\")\n",
    "    annotation = annotation[~filter]\n",
    "    annotation[\"Chromosome/scaffold name\"] = annotation[\n",
    "        \"Chromosome/scaffold name\"\n",
    "    ].str.replace(r\"(\\b\\S)\", r\"chr\\1\")\n",
    "    annotation.columns = [\"Chromosome\", \"Start\", \"Strand\", \"Gene\", \"Transcript_type\"]\n",
    "    annotation = annotation[annotation.Transcript_type == \"protein_coding\"]\n",
    "    annotation.to_csv(\"annotation.tsv\", sep=\"\\t\")"
   ]
  },
  {
   "cell_type": "code",
   "execution_count": 6,
   "id": "79a968e4",
   "metadata": {
    "papermill": {
     "duration": 0.017746,
     "end_time": "2022-09-07T09:32:33.313565",
     "exception": false,
     "start_time": "2022-09-07T09:32:33.295819",
     "status": "completed"
    },
    "tags": []
   },
   "outputs": [
    {
     "data": {
      "text/plain": [
       "{'BIO_ddseq_1.35k': '35k_preprocessing_out/data/fragments/BIO_ddseq_1.35k.fragments.tsv.gz',\n",
       " 'BIO_ddseq_2.35k': '35k_preprocessing_out/data/fragments/BIO_ddseq_2.35k.fragments.tsv.gz',\n",
       " 'BIO_ddseq_3.35k': '35k_preprocessing_out/data/fragments/BIO_ddseq_3.35k.fragments.tsv.gz',\n",
       " 'BIO_ddseq_4.35k': '35k_preprocessing_out/data/fragments/BIO_ddseq_4.35k.fragments.tsv.gz',\n",
       " 'BRO_mtscatac_1.35k': '35k_preprocessing_out/data/fragments/BRO_mtscatac_1.35k.fragments.tsv.gz',\n",
       " 'BRO_mtscatac_2.35k': '35k_preprocessing_out/data/fragments/BRO_mtscatac_2.35k.fragments.tsv.gz',\n",
       " 'CNA_10xmultiome_1.35k': '35k_preprocessing_out/data/fragments/CNA_10xmultiome_1.35k.fragments.tsv.gz',\n",
       " 'CNA_10xmultiome_2.35k': '35k_preprocessing_out/data/fragments/CNA_10xmultiome_2.35k.fragments.tsv.gz',\n",
       " 'CNA_10xv11_1.35k': '35k_preprocessing_out/data/fragments/CNA_10xv11_1.35k.fragments.tsv.gz',\n",
       " 'CNA_10xv11_2.35k': '35k_preprocessing_out/data/fragments/CNA_10xv11_2.35k.fragments.tsv.gz',\n",
       " 'CNA_10xv11_3.35k': '35k_preprocessing_out/data/fragments/CNA_10xv11_3.35k.fragments.tsv.gz',\n",
       " 'CNA_10xv11_4.35k': '35k_preprocessing_out/data/fragments/CNA_10xv11_4.35k.fragments.tsv.gz',\n",
       " 'CNA_10xv11_5.35k': '35k_preprocessing_out/data/fragments/CNA_10xv11_5.35k.fragments.tsv.gz',\n",
       " 'CNA_10xv2_1.35k': '35k_preprocessing_out/data/fragments/CNA_10xv2_1.35k.fragments.tsv.gz',\n",
       " 'CNA_10xv2_2.35k': '35k_preprocessing_out/data/fragments/CNA_10xv2_2.35k.fragments.tsv.gz',\n",
       " 'CNA_hydrop_1.35k': '35k_preprocessing_out/data/fragments/CNA_hydrop_1.35k.fragments.tsv.gz',\n",
       " 'CNA_hydrop_2.35k': '35k_preprocessing_out/data/fragments/CNA_hydrop_2.35k.fragments.tsv.gz',\n",
       " 'CNA_hydrop_3.35k': '35k_preprocessing_out/data/fragments/CNA_hydrop_3.35k.fragments.tsv.gz',\n",
       " 'CNA_mtscatac_1.35k': '35k_preprocessing_out/data/fragments/CNA_mtscatac_1.35k.fragments.tsv.gz',\n",
       " 'CNA_mtscatac_2.35k': '35k_preprocessing_out/data/fragments/CNA_mtscatac_2.35k.fragments.tsv.gz',\n",
       " 'EPF_hydrop_1.35k': '35k_preprocessing_out/data/fragments/EPF_hydrop_1.35k.fragments.tsv.gz',\n",
       " 'EPF_hydrop_2.35k': '35k_preprocessing_out/data/fragments/EPF_hydrop_2.35k.fragments.tsv.gz',\n",
       " 'EPF_hydrop_3.35k': '35k_preprocessing_out/data/fragments/EPF_hydrop_3.35k.fragments.tsv.gz',\n",
       " 'EPF_hydrop_4.35k': '35k_preprocessing_out/data/fragments/EPF_hydrop_4.35k.fragments.tsv.gz',\n",
       " 'HAR_ddseq_1.35k': '35k_preprocessing_out/data/fragments/HAR_ddseq_1.35k.fragments.tsv.gz',\n",
       " 'HAR_ddseq_2.35k': '35k_preprocessing_out/data/fragments/HAR_ddseq_2.35k.fragments.tsv.gz',\n",
       " 'MDC_mtscatac_1.35k': '35k_preprocessing_out/data/fragments/MDC_mtscatac_1.35k.fragments.tsv.gz',\n",
       " 'MDC_mtscatac_2.35k': '35k_preprocessing_out/data/fragments/MDC_mtscatac_2.35k.fragments.tsv.gz',\n",
       " 'OHS_s3atac_1.35k': '35k_preprocessing_out/data/fragments/OHS_s3atac_1.35k.fragments.tsv.gz',\n",
       " 'OHS_s3atac_2.35k': '35k_preprocessing_out/data/fragments/OHS_s3atac_2.35k.fragments.tsv.gz',\n",
       " 'SAN_10xmultiome_1.35k': '35k_preprocessing_out/data/fragments/SAN_10xmultiome_1.35k.fragments.tsv.gz',\n",
       " 'SAN_10xmultiome_2.35k': '35k_preprocessing_out/data/fragments/SAN_10xmultiome_2.35k.fragments.tsv.gz',\n",
       " 'STA_10xv11_1.35k': '35k_preprocessing_out/data/fragments/STA_10xv11_1.35k.fragments.tsv.gz',\n",
       " 'STA_10xv11_2.35k': '35k_preprocessing_out/data/fragments/STA_10xv11_2.35k.fragments.tsv.gz',\n",
       " 'TXG_10xv11_1.35k': '35k_preprocessing_out/data/fragments/TXG_10xv11_1.35k.fragments.tsv.gz',\n",
       " 'TXG_10xv2_1.35k': '35k_preprocessing_out/data/fragments/TXG_10xv2_1.35k.fragments.tsv.gz',\n",
       " 'TXG_10xv2_2.35k': '35k_preprocessing_out/data/fragments/TXG_10xv2_2.35k.fragments.tsv.gz',\n",
       " 'VIB_10xmultiome_1.35k': '35k_preprocessing_out/data/fragments/VIB_10xmultiome_1.35k.fragments.tsv.gz',\n",
       " 'VIB_10xmultiome_2.35k': '35k_preprocessing_out/data/fragments/VIB_10xmultiome_2.35k.fragments.tsv.gz',\n",
       " 'VIB_10xv1_1.35k': '35k_preprocessing_out/data/fragments/VIB_10xv1_1.35k.fragments.tsv.gz',\n",
       " 'VIB_10xv1_2.35k': '35k_preprocessing_out/data/fragments/VIB_10xv1_2.35k.fragments.tsv.gz',\n",
       " 'VIB_10xv2_1.35k': '35k_preprocessing_out/data/fragments/VIB_10xv2_1.35k.fragments.tsv.gz',\n",
       " 'VIB_10xv2_2.35k': '35k_preprocessing_out/data/fragments/VIB_10xv2_2.35k.fragments.tsv.gz',\n",
       " 'VIB_hydrop_11.35k': '35k_preprocessing_out/data/fragments/VIB_hydrop_11.35k.fragments.tsv.gz',\n",
       " 'VIB_hydrop_12.35k': '35k_preprocessing_out/data/fragments/VIB_hydrop_12.35k.fragments.tsv.gz',\n",
       " 'VIB_hydrop_21.35k': '35k_preprocessing_out/data/fragments/VIB_hydrop_21.35k.fragments.tsv.gz',\n",
       " 'VIB_hydrop_22.35k': '35k_preprocessing_out/data/fragments/VIB_hydrop_22.35k.fragments.tsv.gz'}"
      ]
     },
     "execution_count": 6,
     "metadata": {},
     "output_type": "execute_result"
    }
   ],
   "source": [
    "fragments_list = sorted(\n",
    "    glob.glob(f\"{depth_str}_preprocessing_out/data/fragments/*fragments.tsv.gz\")\n",
    ")\n",
    "fragments_dict = {}\n",
    "for fragments_file in fragments_list:\n",
    "    sample = fragments_file.split(\"/\")[-1].split(\".fragments.tsv.gz\")[0]\n",
    "    fragments_dict[sample] = fragments_file\n",
    "\n",
    "fragments_dict"
   ]
  },
  {
   "cell_type": "code",
   "execution_count": 7,
   "id": "f43fd7e7-21a8-4798-b7bd-c236412e02bf",
   "metadata": {
    "papermill": {
     "duration": 0.015429,
     "end_time": "2022-09-07T09:32:33.334207",
     "exception": false,
     "start_time": "2022-09-07T09:32:33.318778",
     "status": "completed"
    },
    "tags": []
   },
   "outputs": [
    {
     "data": {
      "text/plain": [
       "{'BIO_ddseq_1.35k': '../SCREEN_peaks/BIO_ddseq_1.FIXEDCELLS__SCREEN_consensus_peaks.bed',\n",
       " 'BIO_ddseq_2.35k': '../SCREEN_peaks/BIO_ddseq_2.FIXEDCELLS__SCREEN_consensus_peaks.bed',\n",
       " 'BIO_ddseq_3.35k': '../SCREEN_peaks/BIO_ddseq_3.FIXEDCELLS__SCREEN_consensus_peaks.bed',\n",
       " 'BIO_ddseq_4.35k': '../SCREEN_peaks/BIO_ddseq_4.FIXEDCELLS__SCREEN_consensus_peaks.bed',\n",
       " 'BRO_mtscatac_1.35k': '../SCREEN_peaks/BRO_mtscatac_1.FIXEDCELLS__SCREEN_consensus_peaks.bed',\n",
       " 'BRO_mtscatac_2.35k': '../SCREEN_peaks/BRO_mtscatac_2.FIXEDCELLS__SCREEN_consensus_peaks.bed',\n",
       " 'CNA_10xmultiome_1.35k': '../SCREEN_peaks/CNA_10xmultiome_1.FIXEDCELLS__SCREEN_consensus_peaks.bed',\n",
       " 'CNA_10xmultiome_2.35k': '../SCREEN_peaks/CNA_10xmultiome_2.FIXEDCELLS__SCREEN_consensus_peaks.bed',\n",
       " 'CNA_10xv11_1.35k': '../SCREEN_peaks/CNA_10xv11_1.FIXEDCELLS__SCREEN_consensus_peaks.bed',\n",
       " 'CNA_10xv11_2.35k': '../SCREEN_peaks/CNA_10xv11_2.FIXEDCELLS__SCREEN_consensus_peaks.bed',\n",
       " 'CNA_10xv11_3.35k': '../SCREEN_peaks/CNA_10xv11_3.FIXEDCELLS__SCREEN_consensus_peaks.bed',\n",
       " 'CNA_10xv11_4.35k': '../SCREEN_peaks/CNA_10xv11_4.FIXEDCELLS__SCREEN_consensus_peaks.bed',\n",
       " 'CNA_10xv11_5.35k': '../SCREEN_peaks/CNA_10xv11_5.FIXEDCELLS__SCREEN_consensus_peaks.bed',\n",
       " 'CNA_10xv2_1.35k': '../SCREEN_peaks/CNA_10xv2_1.FIXEDCELLS__SCREEN_consensus_peaks.bed',\n",
       " 'CNA_10xv2_2.35k': '../SCREEN_peaks/CNA_10xv2_2.FIXEDCELLS__SCREEN_consensus_peaks.bed',\n",
       " 'CNA_hydrop_1.35k': '../SCREEN_peaks/CNA_hydrop_1.FIXEDCELLS__SCREEN_consensus_peaks.bed',\n",
       " 'CNA_hydrop_2.35k': '../SCREEN_peaks/CNA_hydrop_2.FIXEDCELLS__SCREEN_consensus_peaks.bed',\n",
       " 'CNA_hydrop_3.35k': '../SCREEN_peaks/CNA_hydrop_3.FIXEDCELLS__SCREEN_consensus_peaks.bed',\n",
       " 'CNA_mtscatac_1.35k': '../SCREEN_peaks/CNA_mtscatac_1.FIXEDCELLS__SCREEN_consensus_peaks.bed',\n",
       " 'CNA_mtscatac_2.35k': '../SCREEN_peaks/CNA_mtscatac_2.FIXEDCELLS__SCREEN_consensus_peaks.bed',\n",
       " 'EPF_hydrop_1.35k': '../SCREEN_peaks/EPF_hydrop_1.FIXEDCELLS__SCREEN_consensus_peaks.bed',\n",
       " 'EPF_hydrop_2.35k': '../SCREEN_peaks/EPF_hydrop_2.FIXEDCELLS__SCREEN_consensus_peaks.bed',\n",
       " 'EPF_hydrop_3.35k': '../SCREEN_peaks/EPF_hydrop_3.FIXEDCELLS__SCREEN_consensus_peaks.bed',\n",
       " 'EPF_hydrop_4.35k': '../SCREEN_peaks/EPF_hydrop_4.FIXEDCELLS__SCREEN_consensus_peaks.bed',\n",
       " 'HAR_ddseq_1.35k': '../SCREEN_peaks/HAR_ddseq_1.FIXEDCELLS__SCREEN_consensus_peaks.bed',\n",
       " 'HAR_ddseq_2.35k': '../SCREEN_peaks/HAR_ddseq_2.FIXEDCELLS__SCREEN_consensus_peaks.bed',\n",
       " 'MDC_mtscatac_1.35k': '../SCREEN_peaks/MDC_mtscatac_1.FIXEDCELLS__SCREEN_consensus_peaks.bed',\n",
       " 'MDC_mtscatac_2.35k': '../SCREEN_peaks/MDC_mtscatac_2.FIXEDCELLS__SCREEN_consensus_peaks.bed',\n",
       " 'OHS_s3atac_1.35k': '../SCREEN_peaks/OHS_s3atac_1.FIXEDCELLS__SCREEN_consensus_peaks.bed',\n",
       " 'OHS_s3atac_2.35k': '../SCREEN_peaks/OHS_s3atac_2.FIXEDCELLS__SCREEN_consensus_peaks.bed',\n",
       " 'SAN_10xmultiome_1.35k': '../SCREEN_peaks/SAN_10xmultiome_1.FIXEDCELLS__SCREEN_consensus_peaks.bed',\n",
       " 'SAN_10xmultiome_2.35k': '../SCREEN_peaks/SAN_10xmultiome_2.FIXEDCELLS__SCREEN_consensus_peaks.bed',\n",
       " 'STA_10xv11_1.35k': '../SCREEN_peaks/STA_10xv11_1.FIXEDCELLS__SCREEN_consensus_peaks.bed',\n",
       " 'STA_10xv11_2.35k': '../SCREEN_peaks/STA_10xv11_2.FIXEDCELLS__SCREEN_consensus_peaks.bed',\n",
       " 'TXG_10xv11_1.35k': '../SCREEN_peaks/TXG_10xv11_1.FIXEDCELLS__SCREEN_consensus_peaks.bed',\n",
       " 'TXG_10xv2_1.35k': '../SCREEN_peaks/TXG_10xv2_1.FIXEDCELLS__SCREEN_consensus_peaks.bed',\n",
       " 'TXG_10xv2_2.35k': '../SCREEN_peaks/TXG_10xv2_2.FIXEDCELLS__SCREEN_consensus_peaks.bed',\n",
       " 'UCS_ddseq_1.35k': '../SCREEN_peaks/UCS_ddseq_1.FIXEDCELLS__SCREEN_consensus_peaks.bed',\n",
       " 'UCS_ddseq_2.35k': '../SCREEN_peaks/UCS_ddseq_2.FIXEDCELLS__SCREEN_consensus_peaks.bed',\n",
       " 'VIB_10xmultiome_1.35k': '../SCREEN_peaks/VIB_10xmultiome_1.FIXEDCELLS__SCREEN_consensus_peaks.bed',\n",
       " 'VIB_10xmultiome_2.35k': '../SCREEN_peaks/VIB_10xmultiome_2.FIXEDCELLS__SCREEN_consensus_peaks.bed',\n",
       " 'VIB_10xv1_1.35k': '../SCREEN_peaks/VIB_10xv1_1.FIXEDCELLS__SCREEN_consensus_peaks.bed',\n",
       " 'VIB_10xv1_2.35k': '../SCREEN_peaks/VIB_10xv1_2.FIXEDCELLS__SCREEN_consensus_peaks.bed',\n",
       " 'VIB_10xv2_1.35k': '../SCREEN_peaks/VIB_10xv2_1.FIXEDCELLS__SCREEN_consensus_peaks.bed',\n",
       " 'VIB_10xv2_2.35k': '../SCREEN_peaks/VIB_10xv2_2.FIXEDCELLS__SCREEN_consensus_peaks.bed',\n",
       " 'VIB_hydrop_1.35k': '../SCREEN_peaks/VIB_hydrop_1.FIXEDCELLS__SCREEN_consensus_peaks.bed',\n",
       " 'VIB_hydrop_11.35k': '../SCREEN_peaks/VIB_hydrop_11.FIXEDCELLS__SCREEN_consensus_peaks.bed',\n",
       " 'VIB_hydrop_12.35k': '../SCREEN_peaks/VIB_hydrop_12.FIXEDCELLS__SCREEN_consensus_peaks.bed',\n",
       " 'VIB_hydrop_2.35k': '../SCREEN_peaks/VIB_hydrop_2.FIXEDCELLS__SCREEN_consensus_peaks.bed',\n",
       " 'VIB_hydrop_21.35k': '../SCREEN_peaks/VIB_hydrop_21.FIXEDCELLS__SCREEN_consensus_peaks.bed',\n",
       " 'VIB_hydrop_22.35k': '../SCREEN_peaks/VIB_hydrop_22.FIXEDCELLS__SCREEN_consensus_peaks.bed'}"
      ]
     },
     "execution_count": 7,
     "metadata": {},
     "output_type": "execute_result"
    }
   ],
   "source": [
    "regions_paths_dict = {\n",
    "    x.split(\"/\")[-1].split(f\"__\")[0].replace(\"FIXEDCELLS\", depth_str): x\n",
    "    for x in sorted(glob.glob(\"../SCREEN_peaks/*consensus_peaks.bed\"))\n",
    "}\n",
    "regions_paths_dict"
   ]
  },
  {
   "cell_type": "code",
   "execution_count": 12,
   "id": "bd35613d-1b51-4947-afd7-168f1043be12",
   "metadata": {},
   "outputs": [],
   "source": [
    "regions_paths_dict[\"VIB_hydrop_11.\" + depth_str] = regions_paths_dict[\n",
    "    \"VIB_hydrop_1.\" + depth_str\n",
    "]\n",
    "regions_paths_dict[\"VIB_hydrop_12.\" + depth_str] = regions_paths_dict[\n",
    "    \"VIB_hydrop_1.\" + depth_str\n",
    "]\n",
    "regions_paths_dict[\"VIB_hydrop_21.\" + depth_str] = regions_paths_dict[\n",
    "    \"VIB_hydrop_2.\" + depth_str\n",
    "]\n",
    "regions_paths_dict[\"VIB_hydrop_22.\" + depth_str] = regions_paths_dict[\n",
    "    \"VIB_hydrop_2.\" + depth_str\n",
    "]"
   ]
  },
  {
   "cell_type": "code",
   "execution_count": 14,
   "id": "f01597ea-12b6-4b68-aa43-986e6616bc93",
   "metadata": {},
   "outputs": [
    {
     "data": {
      "text/plain": [
       "{'BIO_ddseq_1.35k': '../SCREEN_peaks/BIO_ddseq_1.FIXEDCELLS__SCREEN_consensus_peaks.bed',\n",
       " 'BIO_ddseq_2.35k': '../SCREEN_peaks/BIO_ddseq_2.FIXEDCELLS__SCREEN_consensus_peaks.bed',\n",
       " 'BIO_ddseq_3.35k': '../SCREEN_peaks/BIO_ddseq_3.FIXEDCELLS__SCREEN_consensus_peaks.bed',\n",
       " 'BIO_ddseq_4.35k': '../SCREEN_peaks/BIO_ddseq_4.FIXEDCELLS__SCREEN_consensus_peaks.bed',\n",
       " 'BRO_mtscatac_1.35k': '../SCREEN_peaks/BRO_mtscatac_1.FIXEDCELLS__SCREEN_consensus_peaks.bed',\n",
       " 'BRO_mtscatac_2.35k': '../SCREEN_peaks/BRO_mtscatac_2.FIXEDCELLS__SCREEN_consensus_peaks.bed',\n",
       " 'CNA_10xmultiome_1.35k': '../SCREEN_peaks/CNA_10xmultiome_1.FIXEDCELLS__SCREEN_consensus_peaks.bed',\n",
       " 'CNA_10xmultiome_2.35k': '../SCREEN_peaks/CNA_10xmultiome_2.FIXEDCELLS__SCREEN_consensus_peaks.bed',\n",
       " 'CNA_10xv11_1.35k': '../SCREEN_peaks/CNA_10xv11_1.FIXEDCELLS__SCREEN_consensus_peaks.bed',\n",
       " 'CNA_10xv11_2.35k': '../SCREEN_peaks/CNA_10xv11_2.FIXEDCELLS__SCREEN_consensus_peaks.bed',\n",
       " 'CNA_10xv11_3.35k': '../SCREEN_peaks/CNA_10xv11_3.FIXEDCELLS__SCREEN_consensus_peaks.bed',\n",
       " 'CNA_10xv11_4.35k': '../SCREEN_peaks/CNA_10xv11_4.FIXEDCELLS__SCREEN_consensus_peaks.bed',\n",
       " 'CNA_10xv11_5.35k': '../SCREEN_peaks/CNA_10xv11_5.FIXEDCELLS__SCREEN_consensus_peaks.bed',\n",
       " 'CNA_10xv2_1.35k': '../SCREEN_peaks/CNA_10xv2_1.FIXEDCELLS__SCREEN_consensus_peaks.bed',\n",
       " 'CNA_10xv2_2.35k': '../SCREEN_peaks/CNA_10xv2_2.FIXEDCELLS__SCREEN_consensus_peaks.bed',\n",
       " 'CNA_hydrop_1.35k': '../SCREEN_peaks/CNA_hydrop_1.FIXEDCELLS__SCREEN_consensus_peaks.bed',\n",
       " 'CNA_hydrop_2.35k': '../SCREEN_peaks/CNA_hydrop_2.FIXEDCELLS__SCREEN_consensus_peaks.bed',\n",
       " 'CNA_hydrop_3.35k': '../SCREEN_peaks/CNA_hydrop_3.FIXEDCELLS__SCREEN_consensus_peaks.bed',\n",
       " 'CNA_mtscatac_1.35k': '../SCREEN_peaks/CNA_mtscatac_1.FIXEDCELLS__SCREEN_consensus_peaks.bed',\n",
       " 'CNA_mtscatac_2.35k': '../SCREEN_peaks/CNA_mtscatac_2.FIXEDCELLS__SCREEN_consensus_peaks.bed',\n",
       " 'EPF_hydrop_1.35k': '../SCREEN_peaks/EPF_hydrop_1.FIXEDCELLS__SCREEN_consensus_peaks.bed',\n",
       " 'EPF_hydrop_2.35k': '../SCREEN_peaks/EPF_hydrop_2.FIXEDCELLS__SCREEN_consensus_peaks.bed',\n",
       " 'EPF_hydrop_3.35k': '../SCREEN_peaks/EPF_hydrop_3.FIXEDCELLS__SCREEN_consensus_peaks.bed',\n",
       " 'EPF_hydrop_4.35k': '../SCREEN_peaks/EPF_hydrop_4.FIXEDCELLS__SCREEN_consensus_peaks.bed',\n",
       " 'HAR_ddseq_1.35k': '../SCREEN_peaks/HAR_ddseq_1.FIXEDCELLS__SCREEN_consensus_peaks.bed',\n",
       " 'HAR_ddseq_2.35k': '../SCREEN_peaks/HAR_ddseq_2.FIXEDCELLS__SCREEN_consensus_peaks.bed',\n",
       " 'MDC_mtscatac_1.35k': '../SCREEN_peaks/MDC_mtscatac_1.FIXEDCELLS__SCREEN_consensus_peaks.bed',\n",
       " 'MDC_mtscatac_2.35k': '../SCREEN_peaks/MDC_mtscatac_2.FIXEDCELLS__SCREEN_consensus_peaks.bed',\n",
       " 'OHS_s3atac_1.35k': '../SCREEN_peaks/OHS_s3atac_1.FIXEDCELLS__SCREEN_consensus_peaks.bed',\n",
       " 'OHS_s3atac_2.35k': '../SCREEN_peaks/OHS_s3atac_2.FIXEDCELLS__SCREEN_consensus_peaks.bed',\n",
       " 'SAN_10xmultiome_1.35k': '../SCREEN_peaks/SAN_10xmultiome_1.FIXEDCELLS__SCREEN_consensus_peaks.bed',\n",
       " 'SAN_10xmultiome_2.35k': '../SCREEN_peaks/SAN_10xmultiome_2.FIXEDCELLS__SCREEN_consensus_peaks.bed',\n",
       " 'STA_10xv11_1.35k': '../SCREEN_peaks/STA_10xv11_1.FIXEDCELLS__SCREEN_consensus_peaks.bed',\n",
       " 'STA_10xv11_2.35k': '../SCREEN_peaks/STA_10xv11_2.FIXEDCELLS__SCREEN_consensus_peaks.bed',\n",
       " 'TXG_10xv11_1.35k': '../SCREEN_peaks/TXG_10xv11_1.FIXEDCELLS__SCREEN_consensus_peaks.bed',\n",
       " 'TXG_10xv2_1.35k': '../SCREEN_peaks/TXG_10xv2_1.FIXEDCELLS__SCREEN_consensus_peaks.bed',\n",
       " 'TXG_10xv2_2.35k': '../SCREEN_peaks/TXG_10xv2_2.FIXEDCELLS__SCREEN_consensus_peaks.bed',\n",
       " 'UCS_ddseq_1.35k': '../SCREEN_peaks/UCS_ddseq_1.FIXEDCELLS__SCREEN_consensus_peaks.bed',\n",
       " 'UCS_ddseq_2.35k': '../SCREEN_peaks/UCS_ddseq_2.FIXEDCELLS__SCREEN_consensus_peaks.bed',\n",
       " 'VIB_10xmultiome_1.35k': '../SCREEN_peaks/VIB_10xmultiome_1.FIXEDCELLS__SCREEN_consensus_peaks.bed',\n",
       " 'VIB_10xmultiome_2.35k': '../SCREEN_peaks/VIB_10xmultiome_2.FIXEDCELLS__SCREEN_consensus_peaks.bed',\n",
       " 'VIB_10xv1_1.35k': '../SCREEN_peaks/VIB_10xv1_1.FIXEDCELLS__SCREEN_consensus_peaks.bed',\n",
       " 'VIB_10xv1_2.35k': '../SCREEN_peaks/VIB_10xv1_2.FIXEDCELLS__SCREEN_consensus_peaks.bed',\n",
       " 'VIB_10xv2_1.35k': '../SCREEN_peaks/VIB_10xv2_1.FIXEDCELLS__SCREEN_consensus_peaks.bed',\n",
       " 'VIB_10xv2_2.35k': '../SCREEN_peaks/VIB_10xv2_2.FIXEDCELLS__SCREEN_consensus_peaks.bed',\n",
       " 'VIB_hydrop_1.35k': '../SCREEN_peaks/VIB_hydrop_1.FIXEDCELLS__SCREEN_consensus_peaks.bed',\n",
       " 'VIB_hydrop_11.35k': '../SCREEN_peaks/VIB_hydrop_1.FIXEDCELLS__SCREEN_consensus_peaks.bed',\n",
       " 'VIB_hydrop_12.35k': '../SCREEN_peaks/VIB_hydrop_1.FIXEDCELLS__SCREEN_consensus_peaks.bed',\n",
       " 'VIB_hydrop_2.35k': '../SCREEN_peaks/VIB_hydrop_2.FIXEDCELLS__SCREEN_consensus_peaks.bed',\n",
       " 'VIB_hydrop_21.35k': '../SCREEN_peaks/VIB_hydrop_2.FIXEDCELLS__SCREEN_consensus_peaks.bed',\n",
       " 'VIB_hydrop_22.35k': '../SCREEN_peaks/VIB_hydrop_2.FIXEDCELLS__SCREEN_consensus_peaks.bed'}"
      ]
     },
     "execution_count": 14,
     "metadata": {},
     "output_type": "execute_result"
    }
   ],
   "source": [
    "regions_paths_dict"
   ]
  },
  {
   "cell_type": "markdown",
   "id": "a58786aa",
   "metadata": {
    "papermill": {
     "duration": 0.004445,
     "end_time": "2022-09-07T09:32:33.343127",
     "exception": false,
     "start_time": "2022-09-07T09:32:33.338682",
     "status": "completed"
    },
    "tags": []
   },
   "source": [
    "Now, make a sub dictionary of all samples within the fragments dict that have not been run yet (good for resuming a stopped cistopic run):"
   ]
  },
  {
   "cell_type": "code",
   "execution_count": 15,
   "id": "13ad51aa",
   "metadata": {
    "papermill": {
     "duration": 0.010347,
     "end_time": "2022-09-07T09:32:33.357818",
     "exception": false,
     "start_time": "2022-09-07T09:32:33.347471",
     "status": "completed"
    },
    "tags": []
   },
   "outputs": [],
   "source": [
    "cistopic_qc_out = os.path.join(wdir, \"cistopic_qc_out_CONSENSUS\")\n",
    "if not os.path.exists(cistopic_qc_out):\n",
    "    os.makedirs(cistopic_qc_out)"
   ]
  },
  {
   "cell_type": "code",
   "execution_count": 16,
   "id": "161f54e5-1e0b-4277-b9ca-f0247df0e4e9",
   "metadata": {
    "papermill": {
     "duration": 0.021657,
     "end_time": "2022-09-07T09:32:33.383984",
     "exception": false,
     "start_time": "2022-09-07T09:32:33.362327",
     "status": "completed"
    },
    "tags": []
   },
   "outputs": [
    {
     "name": "stdout",
     "output_type": "stream",
     "text": [
      "Checking if /dodrio/scratch/projects/starting_2022_023/benchmark/scatac_benchmark/downsample_series/35k/cistopic_qc_out_CONSENSUS/BIO_ddseq_1.35k__metadata_bc.pkl exist...\n",
      "\tMetadata does not exist, adding to subdict to generate\n",
      "Checking if /dodrio/scratch/projects/starting_2022_023/benchmark/scatac_benchmark/downsample_series/35k/cistopic_qc_out_CONSENSUS/BIO_ddseq_2.35k__metadata_bc.pkl exist...\n",
      "\tMetadata does not exist, adding to subdict to generate\n",
      "Checking if /dodrio/scratch/projects/starting_2022_023/benchmark/scatac_benchmark/downsample_series/35k/cistopic_qc_out_CONSENSUS/BIO_ddseq_3.35k__metadata_bc.pkl exist...\n",
      "\tMetadata does not exist, adding to subdict to generate\n",
      "Checking if /dodrio/scratch/projects/starting_2022_023/benchmark/scatac_benchmark/downsample_series/35k/cistopic_qc_out_CONSENSUS/BIO_ddseq_4.35k__metadata_bc.pkl exist...\n",
      "\tMetadata does not exist, adding to subdict to generate\n",
      "Checking if /dodrio/scratch/projects/starting_2022_023/benchmark/scatac_benchmark/downsample_series/35k/cistopic_qc_out_CONSENSUS/BRO_mtscatac_1.35k__metadata_bc.pkl exist...\n",
      "\tMetadata does not exist, adding to subdict to generate\n",
      "Checking if /dodrio/scratch/projects/starting_2022_023/benchmark/scatac_benchmark/downsample_series/35k/cistopic_qc_out_CONSENSUS/BRO_mtscatac_2.35k__metadata_bc.pkl exist...\n",
      "\tMetadata does not exist, adding to subdict to generate\n",
      "Checking if /dodrio/scratch/projects/starting_2022_023/benchmark/scatac_benchmark/downsample_series/35k/cistopic_qc_out_CONSENSUS/CNA_10xmultiome_1.35k__metadata_bc.pkl exist...\n",
      "\tMetadata does not exist, adding to subdict to generate\n",
      "Checking if /dodrio/scratch/projects/starting_2022_023/benchmark/scatac_benchmark/downsample_series/35k/cistopic_qc_out_CONSENSUS/CNA_10xmultiome_2.35k__metadata_bc.pkl exist...\n",
      "\tMetadata does not exist, adding to subdict to generate\n",
      "Checking if /dodrio/scratch/projects/starting_2022_023/benchmark/scatac_benchmark/downsample_series/35k/cistopic_qc_out_CONSENSUS/CNA_10xv11_1.35k__metadata_bc.pkl exist...\n",
      "\tMetadata does not exist, adding to subdict to generate\n",
      "Checking if /dodrio/scratch/projects/starting_2022_023/benchmark/scatac_benchmark/downsample_series/35k/cistopic_qc_out_CONSENSUS/CNA_10xv11_2.35k__metadata_bc.pkl exist...\n",
      "\tMetadata does not exist, adding to subdict to generate\n",
      "Checking if /dodrio/scratch/projects/starting_2022_023/benchmark/scatac_benchmark/downsample_series/35k/cistopic_qc_out_CONSENSUS/CNA_10xv11_3.35k__metadata_bc.pkl exist...\n",
      "\tMetadata does not exist, adding to subdict to generate\n",
      "Checking if /dodrio/scratch/projects/starting_2022_023/benchmark/scatac_benchmark/downsample_series/35k/cistopic_qc_out_CONSENSUS/CNA_10xv11_4.35k__metadata_bc.pkl exist...\n",
      "\tMetadata does not exist, adding to subdict to generate\n",
      "Checking if /dodrio/scratch/projects/starting_2022_023/benchmark/scatac_benchmark/downsample_series/35k/cistopic_qc_out_CONSENSUS/CNA_10xv11_5.35k__metadata_bc.pkl exist...\n",
      "\tMetadata does not exist, adding to subdict to generate\n",
      "Checking if /dodrio/scratch/projects/starting_2022_023/benchmark/scatac_benchmark/downsample_series/35k/cistopic_qc_out_CONSENSUS/CNA_10xv2_1.35k__metadata_bc.pkl exist...\n",
      "\tMetadata does not exist, adding to subdict to generate\n",
      "Checking if /dodrio/scratch/projects/starting_2022_023/benchmark/scatac_benchmark/downsample_series/35k/cistopic_qc_out_CONSENSUS/CNA_10xv2_2.35k__metadata_bc.pkl exist...\n",
      "\tMetadata does not exist, adding to subdict to generate\n",
      "Checking if /dodrio/scratch/projects/starting_2022_023/benchmark/scatac_benchmark/downsample_series/35k/cistopic_qc_out_CONSENSUS/CNA_hydrop_1.35k__metadata_bc.pkl exist...\n",
      "\tMetadata does not exist, adding to subdict to generate\n",
      "Checking if /dodrio/scratch/projects/starting_2022_023/benchmark/scatac_benchmark/downsample_series/35k/cistopic_qc_out_CONSENSUS/CNA_hydrop_2.35k__metadata_bc.pkl exist...\n",
      "\tMetadata does not exist, adding to subdict to generate\n",
      "Checking if /dodrio/scratch/projects/starting_2022_023/benchmark/scatac_benchmark/downsample_series/35k/cistopic_qc_out_CONSENSUS/CNA_hydrop_3.35k__metadata_bc.pkl exist...\n",
      "\tMetadata does not exist, adding to subdict to generate\n",
      "Checking if /dodrio/scratch/projects/starting_2022_023/benchmark/scatac_benchmark/downsample_series/35k/cistopic_qc_out_CONSENSUS/CNA_mtscatac_1.35k__metadata_bc.pkl exist...\n",
      "\tMetadata does not exist, adding to subdict to generate\n",
      "Checking if /dodrio/scratch/projects/starting_2022_023/benchmark/scatac_benchmark/downsample_series/35k/cistopic_qc_out_CONSENSUS/CNA_mtscatac_2.35k__metadata_bc.pkl exist...\n",
      "\tMetadata does not exist, adding to subdict to generate\n",
      "Checking if /dodrio/scratch/projects/starting_2022_023/benchmark/scatac_benchmark/downsample_series/35k/cistopic_qc_out_CONSENSUS/EPF_hydrop_1.35k__metadata_bc.pkl exist...\n",
      "\tMetadata does not exist, adding to subdict to generate\n",
      "Checking if /dodrio/scratch/projects/starting_2022_023/benchmark/scatac_benchmark/downsample_series/35k/cistopic_qc_out_CONSENSUS/EPF_hydrop_2.35k__metadata_bc.pkl exist...\n",
      "\tMetadata does not exist, adding to subdict to generate\n",
      "Checking if /dodrio/scratch/projects/starting_2022_023/benchmark/scatac_benchmark/downsample_series/35k/cistopic_qc_out_CONSENSUS/EPF_hydrop_3.35k__metadata_bc.pkl exist...\n",
      "\tMetadata does not exist, adding to subdict to generate\n",
      "Checking if /dodrio/scratch/projects/starting_2022_023/benchmark/scatac_benchmark/downsample_series/35k/cistopic_qc_out_CONSENSUS/EPF_hydrop_4.35k__metadata_bc.pkl exist...\n",
      "\tMetadata does not exist, adding to subdict to generate\n",
      "Checking if /dodrio/scratch/projects/starting_2022_023/benchmark/scatac_benchmark/downsample_series/35k/cistopic_qc_out_CONSENSUS/HAR_ddseq_1.35k__metadata_bc.pkl exist...\n",
      "\tMetadata does not exist, adding to subdict to generate\n",
      "Checking if /dodrio/scratch/projects/starting_2022_023/benchmark/scatac_benchmark/downsample_series/35k/cistopic_qc_out_CONSENSUS/HAR_ddseq_2.35k__metadata_bc.pkl exist...\n",
      "\tMetadata does not exist, adding to subdict to generate\n",
      "Checking if /dodrio/scratch/projects/starting_2022_023/benchmark/scatac_benchmark/downsample_series/35k/cistopic_qc_out_CONSENSUS/MDC_mtscatac_1.35k__metadata_bc.pkl exist...\n",
      "\tMetadata does not exist, adding to subdict to generate\n",
      "Checking if /dodrio/scratch/projects/starting_2022_023/benchmark/scatac_benchmark/downsample_series/35k/cistopic_qc_out_CONSENSUS/MDC_mtscatac_2.35k__metadata_bc.pkl exist...\n",
      "\tMetadata does not exist, adding to subdict to generate\n",
      "Checking if /dodrio/scratch/projects/starting_2022_023/benchmark/scatac_benchmark/downsample_series/35k/cistopic_qc_out_CONSENSUS/OHS_s3atac_1.35k__metadata_bc.pkl exist...\n",
      "\tMetadata does not exist, adding to subdict to generate\n",
      "Checking if /dodrio/scratch/projects/starting_2022_023/benchmark/scatac_benchmark/downsample_series/35k/cistopic_qc_out_CONSENSUS/OHS_s3atac_2.35k__metadata_bc.pkl exist...\n",
      "\tMetadata does not exist, adding to subdict to generate\n",
      "Checking if /dodrio/scratch/projects/starting_2022_023/benchmark/scatac_benchmark/downsample_series/35k/cistopic_qc_out_CONSENSUS/SAN_10xmultiome_1.35k__metadata_bc.pkl exist...\n",
      "\tMetadata does not exist, adding to subdict to generate\n",
      "Checking if /dodrio/scratch/projects/starting_2022_023/benchmark/scatac_benchmark/downsample_series/35k/cistopic_qc_out_CONSENSUS/SAN_10xmultiome_2.35k__metadata_bc.pkl exist...\n",
      "\tMetadata does not exist, adding to subdict to generate\n",
      "Checking if /dodrio/scratch/projects/starting_2022_023/benchmark/scatac_benchmark/downsample_series/35k/cistopic_qc_out_CONSENSUS/STA_10xv11_1.35k__metadata_bc.pkl exist...\n",
      "\tMetadata does not exist, adding to subdict to generate\n",
      "Checking if /dodrio/scratch/projects/starting_2022_023/benchmark/scatac_benchmark/downsample_series/35k/cistopic_qc_out_CONSENSUS/STA_10xv11_2.35k__metadata_bc.pkl exist...\n",
      "\tMetadata does not exist, adding to subdict to generate\n",
      "Checking if /dodrio/scratch/projects/starting_2022_023/benchmark/scatac_benchmark/downsample_series/35k/cistopic_qc_out_CONSENSUS/TXG_10xv11_1.35k__metadata_bc.pkl exist...\n",
      "\tMetadata does not exist, adding to subdict to generate\n",
      "Checking if /dodrio/scratch/projects/starting_2022_023/benchmark/scatac_benchmark/downsample_series/35k/cistopic_qc_out_CONSENSUS/TXG_10xv2_1.35k__metadata_bc.pkl exist...\n",
      "\tMetadata does not exist, adding to subdict to generate\n",
      "Checking if /dodrio/scratch/projects/starting_2022_023/benchmark/scatac_benchmark/downsample_series/35k/cistopic_qc_out_CONSENSUS/TXG_10xv2_2.35k__metadata_bc.pkl exist...\n",
      "\tMetadata does not exist, adding to subdict to generate\n",
      "Checking if /dodrio/scratch/projects/starting_2022_023/benchmark/scatac_benchmark/downsample_series/35k/cistopic_qc_out_CONSENSUS/VIB_10xmultiome_1.35k__metadata_bc.pkl exist...\n",
      "\tMetadata does not exist, adding to subdict to generate\n",
      "Checking if /dodrio/scratch/projects/starting_2022_023/benchmark/scatac_benchmark/downsample_series/35k/cistopic_qc_out_CONSENSUS/VIB_10xmultiome_2.35k__metadata_bc.pkl exist...\n",
      "\tMetadata does not exist, adding to subdict to generate\n",
      "Checking if /dodrio/scratch/projects/starting_2022_023/benchmark/scatac_benchmark/downsample_series/35k/cistopic_qc_out_CONSENSUS/VIB_10xv1_1.35k__metadata_bc.pkl exist...\n",
      "\tMetadata does not exist, adding to subdict to generate\n",
      "Checking if /dodrio/scratch/projects/starting_2022_023/benchmark/scatac_benchmark/downsample_series/35k/cistopic_qc_out_CONSENSUS/VIB_10xv1_2.35k__metadata_bc.pkl exist...\n",
      "\tMetadata does not exist, adding to subdict to generate\n",
      "Checking if /dodrio/scratch/projects/starting_2022_023/benchmark/scatac_benchmark/downsample_series/35k/cistopic_qc_out_CONSENSUS/VIB_10xv2_1.35k__metadata_bc.pkl exist...\n",
      "\tMetadata does not exist, adding to subdict to generate\n",
      "Checking if /dodrio/scratch/projects/starting_2022_023/benchmark/scatac_benchmark/downsample_series/35k/cistopic_qc_out_CONSENSUS/VIB_10xv2_2.35k__metadata_bc.pkl exist...\n",
      "\tMetadata does not exist, adding to subdict to generate\n",
      "Checking if /dodrio/scratch/projects/starting_2022_023/benchmark/scatac_benchmark/downsample_series/35k/cistopic_qc_out_CONSENSUS/VIB_hydrop_11.35k__metadata_bc.pkl exist...\n",
      "\tMetadata does not exist, adding to subdict to generate\n",
      "Checking if /dodrio/scratch/projects/starting_2022_023/benchmark/scatac_benchmark/downsample_series/35k/cistopic_qc_out_CONSENSUS/VIB_hydrop_12.35k__metadata_bc.pkl exist...\n",
      "\tMetadata does not exist, adding to subdict to generate\n",
      "Checking if /dodrio/scratch/projects/starting_2022_023/benchmark/scatac_benchmark/downsample_series/35k/cistopic_qc_out_CONSENSUS/VIB_hydrop_21.35k__metadata_bc.pkl exist...\n",
      "\tMetadata does not exist, adding to subdict to generate\n",
      "Checking if /dodrio/scratch/projects/starting_2022_023/benchmark/scatac_benchmark/downsample_series/35k/cistopic_qc_out_CONSENSUS/VIB_hydrop_22.35k__metadata_bc.pkl exist...\n",
      "\tMetadata does not exist, adding to subdict to generate\n"
     ]
    }
   ],
   "source": [
    "fragments_sub_dict = {}\n",
    "regions_sub_dict = {}\n",
    "for sample in fragments_dict.keys():\n",
    "    metadata_file = os.path.join(cistopic_qc_out, sample + \"__metadata_bc.pkl\")\n",
    "    print(f\"Checking if {metadata_file} exist...\")\n",
    "    if os.path.exists(metadata_file):\n",
    "        print(\"\\tMetadata exists! Skipping...\")\n",
    "    else:\n",
    "        fragments_sub_dict[sample] = fragments_dict[sample]\n",
    "        print(\"\\tMetadata does not exist, adding to subdict to generate\")"
   ]
  },
  {
   "cell_type": "code",
   "execution_count": 17,
   "id": "b718b167-4d2f-454a-b7f0-4577f12bd1a8",
   "metadata": {
    "papermill": {
     "duration": 0.010192,
     "end_time": "2022-09-07T09:32:33.398890",
     "exception": false,
     "start_time": "2022-09-07T09:32:33.388698",
     "status": "completed"
    },
    "tags": []
   },
   "outputs": [],
   "source": [
    "regions_sub_dict = {x: regions_paths_dict[x] for x in sorted(regions_paths_dict.keys())}"
   ]
  },
  {
   "cell_type": "code",
   "execution_count": 18,
   "id": "c5a500ab-e738-4df7-971d-8d70ff2aff0a",
   "metadata": {},
   "outputs": [
    {
     "data": {
      "text/plain": [
       "{'BIO_ddseq_1.35k': '../SCREEN_peaks/BIO_ddseq_1.FIXEDCELLS__SCREEN_consensus_peaks.bed',\n",
       " 'BIO_ddseq_2.35k': '../SCREEN_peaks/BIO_ddseq_2.FIXEDCELLS__SCREEN_consensus_peaks.bed',\n",
       " 'BIO_ddseq_3.35k': '../SCREEN_peaks/BIO_ddseq_3.FIXEDCELLS__SCREEN_consensus_peaks.bed',\n",
       " 'BIO_ddseq_4.35k': '../SCREEN_peaks/BIO_ddseq_4.FIXEDCELLS__SCREEN_consensus_peaks.bed',\n",
       " 'BRO_mtscatac_1.35k': '../SCREEN_peaks/BRO_mtscatac_1.FIXEDCELLS__SCREEN_consensus_peaks.bed',\n",
       " 'BRO_mtscatac_2.35k': '../SCREEN_peaks/BRO_mtscatac_2.FIXEDCELLS__SCREEN_consensus_peaks.bed',\n",
       " 'CNA_10xmultiome_1.35k': '../SCREEN_peaks/CNA_10xmultiome_1.FIXEDCELLS__SCREEN_consensus_peaks.bed',\n",
       " 'CNA_10xmultiome_2.35k': '../SCREEN_peaks/CNA_10xmultiome_2.FIXEDCELLS__SCREEN_consensus_peaks.bed',\n",
       " 'CNA_10xv11_1.35k': '../SCREEN_peaks/CNA_10xv11_1.FIXEDCELLS__SCREEN_consensus_peaks.bed',\n",
       " 'CNA_10xv11_2.35k': '../SCREEN_peaks/CNA_10xv11_2.FIXEDCELLS__SCREEN_consensus_peaks.bed',\n",
       " 'CNA_10xv11_3.35k': '../SCREEN_peaks/CNA_10xv11_3.FIXEDCELLS__SCREEN_consensus_peaks.bed',\n",
       " 'CNA_10xv11_4.35k': '../SCREEN_peaks/CNA_10xv11_4.FIXEDCELLS__SCREEN_consensus_peaks.bed',\n",
       " 'CNA_10xv11_5.35k': '../SCREEN_peaks/CNA_10xv11_5.FIXEDCELLS__SCREEN_consensus_peaks.bed',\n",
       " 'CNA_10xv2_1.35k': '../SCREEN_peaks/CNA_10xv2_1.FIXEDCELLS__SCREEN_consensus_peaks.bed',\n",
       " 'CNA_10xv2_2.35k': '../SCREEN_peaks/CNA_10xv2_2.FIXEDCELLS__SCREEN_consensus_peaks.bed',\n",
       " 'CNA_hydrop_1.35k': '../SCREEN_peaks/CNA_hydrop_1.FIXEDCELLS__SCREEN_consensus_peaks.bed',\n",
       " 'CNA_hydrop_2.35k': '../SCREEN_peaks/CNA_hydrop_2.FIXEDCELLS__SCREEN_consensus_peaks.bed',\n",
       " 'CNA_hydrop_3.35k': '../SCREEN_peaks/CNA_hydrop_3.FIXEDCELLS__SCREEN_consensus_peaks.bed',\n",
       " 'CNA_mtscatac_1.35k': '../SCREEN_peaks/CNA_mtscatac_1.FIXEDCELLS__SCREEN_consensus_peaks.bed',\n",
       " 'CNA_mtscatac_2.35k': '../SCREEN_peaks/CNA_mtscatac_2.FIXEDCELLS__SCREEN_consensus_peaks.bed',\n",
       " 'EPF_hydrop_1.35k': '../SCREEN_peaks/EPF_hydrop_1.FIXEDCELLS__SCREEN_consensus_peaks.bed',\n",
       " 'EPF_hydrop_2.35k': '../SCREEN_peaks/EPF_hydrop_2.FIXEDCELLS__SCREEN_consensus_peaks.bed',\n",
       " 'EPF_hydrop_3.35k': '../SCREEN_peaks/EPF_hydrop_3.FIXEDCELLS__SCREEN_consensus_peaks.bed',\n",
       " 'EPF_hydrop_4.35k': '../SCREEN_peaks/EPF_hydrop_4.FIXEDCELLS__SCREEN_consensus_peaks.bed',\n",
       " 'HAR_ddseq_1.35k': '../SCREEN_peaks/HAR_ddseq_1.FIXEDCELLS__SCREEN_consensus_peaks.bed',\n",
       " 'HAR_ddseq_2.35k': '../SCREEN_peaks/HAR_ddseq_2.FIXEDCELLS__SCREEN_consensus_peaks.bed',\n",
       " 'MDC_mtscatac_1.35k': '../SCREEN_peaks/MDC_mtscatac_1.FIXEDCELLS__SCREEN_consensus_peaks.bed',\n",
       " 'MDC_mtscatac_2.35k': '../SCREEN_peaks/MDC_mtscatac_2.FIXEDCELLS__SCREEN_consensus_peaks.bed',\n",
       " 'OHS_s3atac_1.35k': '../SCREEN_peaks/OHS_s3atac_1.FIXEDCELLS__SCREEN_consensus_peaks.bed',\n",
       " 'OHS_s3atac_2.35k': '../SCREEN_peaks/OHS_s3atac_2.FIXEDCELLS__SCREEN_consensus_peaks.bed',\n",
       " 'SAN_10xmultiome_1.35k': '../SCREEN_peaks/SAN_10xmultiome_1.FIXEDCELLS__SCREEN_consensus_peaks.bed',\n",
       " 'SAN_10xmultiome_2.35k': '../SCREEN_peaks/SAN_10xmultiome_2.FIXEDCELLS__SCREEN_consensus_peaks.bed',\n",
       " 'STA_10xv11_1.35k': '../SCREEN_peaks/STA_10xv11_1.FIXEDCELLS__SCREEN_consensus_peaks.bed',\n",
       " 'STA_10xv11_2.35k': '../SCREEN_peaks/STA_10xv11_2.FIXEDCELLS__SCREEN_consensus_peaks.bed',\n",
       " 'TXG_10xv11_1.35k': '../SCREEN_peaks/TXG_10xv11_1.FIXEDCELLS__SCREEN_consensus_peaks.bed',\n",
       " 'TXG_10xv2_1.35k': '../SCREEN_peaks/TXG_10xv2_1.FIXEDCELLS__SCREEN_consensus_peaks.bed',\n",
       " 'TXG_10xv2_2.35k': '../SCREEN_peaks/TXG_10xv2_2.FIXEDCELLS__SCREEN_consensus_peaks.bed',\n",
       " 'UCS_ddseq_1.35k': '../SCREEN_peaks/UCS_ddseq_1.FIXEDCELLS__SCREEN_consensus_peaks.bed',\n",
       " 'UCS_ddseq_2.35k': '../SCREEN_peaks/UCS_ddseq_2.FIXEDCELLS__SCREEN_consensus_peaks.bed',\n",
       " 'VIB_10xmultiome_1.35k': '../SCREEN_peaks/VIB_10xmultiome_1.FIXEDCELLS__SCREEN_consensus_peaks.bed',\n",
       " 'VIB_10xmultiome_2.35k': '../SCREEN_peaks/VIB_10xmultiome_2.FIXEDCELLS__SCREEN_consensus_peaks.bed',\n",
       " 'VIB_10xv1_1.35k': '../SCREEN_peaks/VIB_10xv1_1.FIXEDCELLS__SCREEN_consensus_peaks.bed',\n",
       " 'VIB_10xv1_2.35k': '../SCREEN_peaks/VIB_10xv1_2.FIXEDCELLS__SCREEN_consensus_peaks.bed',\n",
       " 'VIB_10xv2_1.35k': '../SCREEN_peaks/VIB_10xv2_1.FIXEDCELLS__SCREEN_consensus_peaks.bed',\n",
       " 'VIB_10xv2_2.35k': '../SCREEN_peaks/VIB_10xv2_2.FIXEDCELLS__SCREEN_consensus_peaks.bed',\n",
       " 'VIB_hydrop_1.35k': '../SCREEN_peaks/VIB_hydrop_1.FIXEDCELLS__SCREEN_consensus_peaks.bed',\n",
       " 'VIB_hydrop_11.35k': '../SCREEN_peaks/VIB_hydrop_1.FIXEDCELLS__SCREEN_consensus_peaks.bed',\n",
       " 'VIB_hydrop_12.35k': '../SCREEN_peaks/VIB_hydrop_1.FIXEDCELLS__SCREEN_consensus_peaks.bed',\n",
       " 'VIB_hydrop_2.35k': '../SCREEN_peaks/VIB_hydrop_2.FIXEDCELLS__SCREEN_consensus_peaks.bed',\n",
       " 'VIB_hydrop_21.35k': '../SCREEN_peaks/VIB_hydrop_2.FIXEDCELLS__SCREEN_consensus_peaks.bed',\n",
       " 'VIB_hydrop_22.35k': '../SCREEN_peaks/VIB_hydrop_2.FIXEDCELLS__SCREEN_consensus_peaks.bed'}"
      ]
     },
     "execution_count": 18,
     "metadata": {},
     "output_type": "execute_result"
    }
   ],
   "source": [
    "regions_sub_dict"
   ]
  },
  {
   "cell_type": "code",
   "execution_count": 19,
   "id": "177d09f9-7f1b-4dbc-8969-4f8afca8e12f",
   "metadata": {},
   "outputs": [
    {
     "data": {
      "text/plain": [
       "{'UCS_ddseq_1.35k', 'UCS_ddseq_2.35k', 'VIB_hydrop_1.35k', 'VIB_hydrop_2.35k'}"
      ]
     },
     "execution_count": 19,
     "metadata": {},
     "output_type": "execute_result"
    }
   ],
   "source": [
    "set(regions_sub_dict) == set(fragments_sub_dict)\n",
    "set(regions_sub_dict) - set(fragments_sub_dict)"
   ]
  },
  {
   "cell_type": "code",
   "execution_count": 14,
   "id": "e4524e19-a30c-49d3-a910-5bc39a9e349e",
   "metadata": {},
   "outputs": [],
   "source": [
    "common = set(fragments_sub_dict).intersection(set(regions_sub_dict))"
   ]
  },
  {
   "cell_type": "code",
   "execution_count": 15,
   "id": "13650870-4b93-4373-a7de-dce223fa0d5a",
   "metadata": {
    "tags": []
   },
   "outputs": [
    {
     "data": {
      "text/plain": [
       "45"
      ]
     },
     "execution_count": 15,
     "metadata": {},
     "output_type": "execute_result"
    }
   ],
   "source": [
    "len(common)"
   ]
  },
  {
   "cell_type": "code",
   "execution_count": 16,
   "id": "b0652173-a623-4a34-babb-bfe872ac0bd0",
   "metadata": {},
   "outputs": [],
   "source": [
    "regions_sub_dict = {x: regions_sub_dict[x] for x in list(common)}\n",
    "fragments_sub_dict = {x: fragments_sub_dict[x] for x in list(common)}"
   ]
  },
  {
   "cell_type": "code",
   "execution_count": 17,
   "id": "92ba8eb2-3d7d-4d66-9eed-a92a54433d2e",
   "metadata": {
    "papermill": {
     "duration": 0.009399,
     "end_time": "2022-09-07T09:32:33.412944",
     "exception": false,
     "start_time": "2022-09-07T09:32:33.403545",
     "status": "completed"
    },
    "tags": []
   },
   "outputs": [],
   "source": [
    "ray.shutdown()"
   ]
  },
  {
   "cell_type": "code",
   "execution_count": 12,
   "id": "0a585a26",
   "metadata": {
    "execution": {
     "iopub.execute_input": "2022-09-07T09:32:33.422892Z",
     "iopub.status.busy": "2022-09-07T09:32:33.422497Z",
     "iopub.status.idle": "2022-09-07T09:32:33.440624Z",
     "shell.execute_reply": "2022-09-07T09:32:33.439996Z"
    },
    "papermill": {
     "duration": 0.024071,
     "end_time": "2022-09-07T09:32:33.441558",
     "exception": false,
     "start_time": "2022-09-07T09:32:33.417487",
     "status": "completed"
    },
    "tags": []
   },
   "outputs": [
    {
     "name": "stdout",
     "output_type": "stream",
     "text": [
      "All samples already processed.\n"
     ]
    }
   ],
   "source": [
    "n_cores = 16\n",
    "if regions_sub_dict != {}:\n",
    "    samples_sub = list(regions_sub_dict.keys())\n",
    "    blocks = [samples_sub[i : i + n_cores] for i in range(0, len(samples_sub), n_cores)]\n",
    "    for samples_torun_in_block in blocks:\n",
    "        fragments_sub_dict_block = {\n",
    "            key: fragments_sub_dict[key] for key in samples_torun_in_block\n",
    "        }\n",
    "        regions_sub_dict_block = {\n",
    "            key: regions_sub_dict[key] for key in samples_torun_in_block\n",
    "        }\n",
    "\n",
    "        metadata_bc_dict, profile_data_dict = compute_qc_stats(\n",
    "            fragments_dict=fragments_sub_dict_block,\n",
    "            tss_annotation=annotation,\n",
    "            stats=[\n",
    "                \"barcode_rank_plot\",\n",
    "                \"duplicate_rate\",\n",
    "                \"insert_size_distribution\",\n",
    "                \"profile_tss\",\n",
    "                \"frip\",\n",
    "            ],\n",
    "            label_list=None,\n",
    "            path_to_regions=regions_sub_dict_block,\n",
    "            n_cpu=n_cores,\n",
    "            valid_bc=None,\n",
    "            n_frag=10,\n",
    "            n_bc=None,\n",
    "            tss_flank_window=2000,\n",
    "            tss_window=50,\n",
    "            tss_minimum_signal_window=100,\n",
    "            tss_rolling_window=10,\n",
    "            # min_norm=0.2,\n",
    "            remove_duplicates=True,\n",
    "        )\n",
    "\n",
    "        ray.shutdown()\n",
    "        print(f\"Dumping files in {cistopic_qc_out}...\")\n",
    "        for sample in sorted(metadata_bc_dict.keys()):\n",
    "            metadata_bc_dict[sample][\"sample_id\"] = sample\n",
    "            metadata_bc_dict[sample].index = [\n",
    "                x + \"___\" + sample for x in list(metadata_bc_dict[sample].index)\n",
    "            ]\n",
    "            with open(\n",
    "                os.path.join(cistopic_qc_out, f\"{sample}__metadata_bc.pkl\"), \"wb\"\n",
    "            ) as f:\n",
    "                pickle.dump(metadata_bc_dict[sample], f, protocol=4)\n",
    "\n",
    "            with open(\n",
    "                os.path.join(cistopic_qc_out, f\"{sample}__profile_data.pkl\"), \"wb\"\n",
    "            ) as f:\n",
    "                pickle.dump(profile_data_dict[sample], f, protocol=4)\n",
    "else:\n",
    "    print(\"All samples already processed.\")"
   ]
  },
  {
   "cell_type": "markdown",
   "id": "1a1ad8e2",
   "metadata": {
    "papermill": {
     "duration": 0.004359,
     "end_time": "2022-09-07T09:32:33.450527",
     "exception": false,
     "start_time": "2022-09-07T09:32:33.446168",
     "status": "completed"
    },
    "tags": []
   },
   "source": [
    "# Plot"
   ]
  },
  {
   "cell_type": "markdown",
   "id": "76d9a6eb-c74e-41bb-b05b-0c2c36a0a2f9",
   "metadata": {
    "papermill": {
     "duration": 0.004465,
     "end_time": "2022-09-07T09:32:33.459530",
     "exception": false,
     "start_time": "2022-09-07T09:32:33.455065",
     "status": "completed"
    },
    "tags": []
   },
   "source": [
    "Calculating a KDE is simultaneously expensive and scales poorly with increasing n. Therefore, I wrote a multithreaded script that divides the QC array into equal parts (interleaved to avoid biases in the order!) and performs a KDE calculation on each part. Here, Otsu thresholding is used to find the right threshold for minimum fragments and minimum TSS enrichment. ddseq samples have a significantly higher noise floor than the other samples when it comes to fragment distribution. Therefore, the otsu algorithm is performed on all barcodes with a minimum of 300 fragments for the ddseq samples, and a minimum of 100 fragments for all the other samples. I tried to perform this filtering completely independent of sample/technique (e.g. using gaussian mixture modeling, Jenks natural breaks, or multiple step Otsu thresholding) but found that no solution worked perfectly for all samples."
   ]
  },
  {
   "cell_type": "markdown",
   "id": "0332bf6a-0bd8-41d2-9f12-634b2249af11",
   "metadata": {
    "papermill": {
     "duration": 0.004285,
     "end_time": "2022-09-07T09:32:33.468207",
     "exception": false,
     "start_time": "2022-09-07T09:32:33.463922",
     "status": "completed"
    },
    "tags": []
   },
   "source": [
    "This is regulated by the code below in qc_plots.py:\n",
    "```\n",
    "min_otsu_frags_dict = {}\n",
    "for fragments_file in fragments_list:\n",
    "    sample = fragments_file.split(\"/\")[-1].split(\".\")[0]\n",
    "    tech = sample.split('_')[1]\n",
    "    if tech == \"ddseq\":\n",
    "        if sample == \"BIO_ddseq_1\":\n",
    "            min_otsu_frags_dict[sample] = 600\n",
    "        else:\n",
    "            min_otsu_frags_dict[sample] = 300\n",
    "    elif tech == \"hydrop\":\n",
    "        min_otsu_frags_dict[sample] = 300\n",
    "    else:\n",
    "        min_otsu_frags_dict[sample] = 100\n",
    "```"
   ]
  },
  {
   "cell_type": "code",
   "execution_count": 13,
   "id": "0b8bcb35-3db0-4d9c-96d0-c73d04a0d5cf",
   "metadata": {
    "collapsed": true,
    "execution": {
     "iopub.execute_input": "2022-09-07T09:32:33.478372Z",
     "iopub.status.busy": "2022-09-07T09:32:33.477967Z",
     "iopub.status.idle": "2022-09-07T09:32:33.686279Z",
     "shell.execute_reply": "2022-09-07T09:32:33.685347Z"
    },
    "jupyter": {
     "outputs_hidden": true
    },
    "papermill": {
     "duration": 0.214209,
     "end_time": "2022-09-07T09:32:33.687237",
     "exception": false,
     "start_time": "2022-09-07T09:32:33.473028",
     "status": "completed"
    },
    "tags": []
   },
   "outputs": [
    {
     "name": "stdout",
     "output_type": "stream",
     "text": [
      "cat: ../0_resources/scripts/qc_plots.py: No such file or directory\n"
     ]
    }
   ],
   "source": [
    "!cat ../0_resources/scripts/qc_plots.py"
   ]
  },
  {
   "cell_type": "markdown",
   "id": "e4019bde",
   "metadata": {
    "execution": {
     "iopub.execute_input": "2022-07-15T09:42:06.802579Z",
     "iopub.status.busy": "2022-07-15T09:42:06.801860Z",
     "iopub.status.idle": "2022-07-15T09:42:06.814527Z",
     "shell.execute_reply": "2022-07-15T09:42:06.813708Z",
     "shell.execute_reply.started": "2022-07-15T09:42:06.802476Z"
    },
    "papermill": {
     "duration": 0.004441,
     "end_time": "2022-09-07T09:32:33.697537",
     "exception": false,
     "start_time": "2022-09-07T09:32:33.693096",
     "status": "completed"
    },
    "tags": []
   },
   "source": [
    "Since multiprocessing does not work with jupyter notebooks, run the following code in terminal:"
   ]
  },
  {
   "cell_type": "markdown",
   "id": "5d53e61b",
   "metadata": {
    "papermill": {
     "duration": 0.004402,
     "end_time": "2022-09-07T09:32:33.706496",
     "exception": false,
     "start_time": "2022-09-07T09:32:33.702094",
     "status": "completed"
    },
    "tags": []
   },
   "source": [
    "```\n",
    "mkdir plots_qc\n",
    "mkdir selected_barcodes\n",
    "SIF=../0_resources/cistopic_image/20220722_pycistopic.sif\n",
    "singularity exec \\\n",
    "    --cleanenv \\\n",
    "    -H $PWD:/home \\\n",
    "    $SIF \\\n",
    "    python ../0_resources/scripts/qc_plots.py\n",
    "```"
   ]
  },
  {
   "cell_type": "markdown",
   "id": "6de4c150-e92a-4060-b992-ae7babd1625a",
   "metadata": {
    "papermill": {
     "duration": 0.004427,
     "end_time": "2022-09-07T09:32:33.715492",
     "exception": false,
     "start_time": "2022-09-07T09:32:33.711065",
     "status": "completed"
    },
    "tags": []
   },
   "source": [
    "And then open the plots:"
   ]
  },
  {
   "cell_type": "code",
   "execution_count": 14,
   "id": "68739afd-bc2c-4fab-ad96-25edf95b163c",
   "metadata": {
    "execution": {
     "iopub.execute_input": "2022-09-07T09:32:33.725747Z",
     "iopub.status.busy": "2022-09-07T09:32:33.725200Z",
     "iopub.status.idle": "2022-09-07T09:32:33.733986Z",
     "shell.execute_reply": "2022-09-07T09:32:33.733398Z"
    },
    "papermill": {
     "duration": 0.015012,
     "end_time": "2022-09-07T09:32:33.734956",
     "exception": false,
     "start_time": "2022-09-07T09:32:33.719944",
     "status": "completed"
    },
    "tags": []
   },
   "outputs": [],
   "source": [
    "metadata_bc_pkl_list = sorted(glob.glob(\"cistopic_qc_out/*metadata_bc.pkl\"))\n",
    "metadata_bc_pkl_path_dict = {}\n",
    "for metadata_bc_pkl_path in metadata_bc_pkl_list:\n",
    "    sample = metadata_bc_pkl_path.split(\"/\")[-1].split(\"__\")[0]\n",
    "    metadata_bc_pkl_path_dict[sample] = metadata_bc_pkl_path\n",
    "\n",
    "for sample in metadata_bc_pkl_path_dict.keys():\n",
    "    if os.path.exists(f\"selected_barcodes/{sample}_bc_passing_filters_otsu.pkl\"):\n",
    "        print(f\"{sample} bc passing filters exists, printing img and skipping\")\n",
    "        display(Image(f\"plots_qc/{sample}_qc_otsu.png\"))\n",
    "    else:\n",
    "        print(\n",
    "            f\"{sample} bc passing filters does not exist yet, generate using qc_plots.py script!\"\n",
    "        )"
   ]
  },
  {
   "cell_type": "markdown",
   "id": "fa5a05ab-0ae5-4804-95d8-b280b86bbedf",
   "metadata": {
    "papermill": {
     "duration": 0.004798,
     "end_time": "2022-09-07T09:32:33.744448",
     "exception": false,
     "start_time": "2022-09-07T09:32:33.739650",
     "status": "completed"
    },
    "tags": []
   },
   "source": [
    "# Write raw barcode file"
   ]
  },
  {
   "cell_type": "markdown",
   "id": "ed437d13-e63c-4fd5-a19b-549c83c3c3f6",
   "metadata": {
    "papermill": {
     "duration": 0.004548,
     "end_time": "2022-09-07T09:32:33.753763",
     "exception": false,
     "start_time": "2022-09-07T09:32:33.749215",
     "status": "completed"
    },
    "tags": []
   },
   "source": [
    "Freemuxlet reads barcodes in the bam file. These barcodes (tag: DB) do not contain the `sample` suffix, which is included in the `*_bc_passing_filters_otsu.txt` files:"
   ]
  },
  {
   "cell_type": "code",
   "execution_count": 15,
   "id": "76c6ae6e-c050-4915-9477-1b567edff53e",
   "metadata": {
    "execution": {
     "iopub.execute_input": "2022-09-07T09:32:33.764195Z",
     "iopub.status.busy": "2022-09-07T09:32:33.763690Z",
     "iopub.status.idle": "2022-09-07T09:32:33.980538Z",
     "shell.execute_reply": "2022-09-07T09:32:33.979653Z"
    },
    "papermill": {
     "duration": 0.223089,
     "end_time": "2022-09-07T09:32:33.981628",
     "exception": false,
     "start_time": "2022-09-07T09:32:33.758539",
     "status": "completed"
    },
    "tags": []
   },
   "outputs": [
    {
     "name": "stdout",
     "output_type": "stream",
     "text": [
      "head: cannot open 'selected_barcodes/BIO_ddseq_1.LIBDS_bc_passing_filters_otsu.txt' for reading: No such file or directory\n"
     ]
    }
   ],
   "source": [
    "!head selected_barcodes/BIO_ddseq_1.LIBDS_bc_passing_filters_otsu.txt"
   ]
  },
  {
   "cell_type": "code",
   "execution_count": 16,
   "id": "df7588f2-5917-4e37-98cb-7fd0d2c83590",
   "metadata": {
    "execution": {
     "iopub.execute_input": "2022-09-07T09:32:33.992694Z",
     "iopub.status.busy": "2022-09-07T09:32:33.992378Z",
     "iopub.status.idle": "2022-09-07T09:32:34.002870Z",
     "shell.execute_reply": "2022-09-07T09:32:34.002217Z"
    },
    "papermill": {
     "duration": 0.01696,
     "end_time": "2022-09-07T09:32:34.003838",
     "exception": false,
     "start_time": "2022-09-07T09:32:33.986878",
     "status": "completed"
    },
    "tags": []
   },
   "outputs": [],
   "source": [
    "for file in glob.glob(\"selected_barcodes/*_bc_passing_filters_otsu.txt\"):\n",
    "    print(file)\n",
    "    sample = file.split(\"/\")[-1].split(\"_bc_passing_filters_otsu.txt\")[0]\n",
    "    print(sample)\n",
    "    df = pd.read_csv(file, header=None, index_col=None)\n",
    "\n",
    "    with open(f\"selected_barcodes/{sample}_bc_passing_filters_otsu.RAW.txt\", \"w\") as fp:\n",
    "        for x in df[0]:\n",
    "            # write each item on a new line\n",
    "            fp.write(x.split(\"___\")[0] + \"\\n\")\n",
    "        print(\"Done\")"
   ]
  },
  {
   "cell_type": "code",
   "execution_count": 17,
   "id": "83e00ebf-28af-4f4a-8f2f-d3c073179b2a",
   "metadata": {
    "execution": {
     "iopub.execute_input": "2022-09-07T09:32:34.014015Z",
     "iopub.status.busy": "2022-09-07T09:32:34.013601Z",
     "iopub.status.idle": "2022-09-07T09:32:34.221442Z",
     "shell.execute_reply": "2022-09-07T09:32:34.220575Z"
    },
    "papermill": {
     "duration": 0.213927,
     "end_time": "2022-09-07T09:32:34.222468",
     "exception": false,
     "start_time": "2022-09-07T09:32:34.008541",
     "status": "completed"
    },
    "tags": []
   },
   "outputs": [
    {
     "name": "stdout",
     "output_type": "stream",
     "text": [
      "head: cannot open 'selected_barcodes/BIO_ddseq_1.LIBDS_bc_passing_filters_otsu.RAW.txt' for reading: No such file or directory\n"
     ]
    }
   ],
   "source": [
    "!head selected_barcodes/BIO_ddseq_1.LIBDS_bc_passing_filters_otsu.RAW.txt"
   ]
  },
  {
   "cell_type": "code",
   "execution_count": null,
   "id": "1f42804d-a0dd-4797-8573-d1ac4de75f1b",
   "metadata": {
    "papermill": {
     "duration": 0.00474,
     "end_time": "2022-09-07T09:32:34.232282",
     "exception": false,
     "start_time": "2022-09-07T09:32:34.227542",
     "status": "completed"
    },
    "tags": []
   },
   "outputs": [],
   "source": []
  }
 ],
 "metadata": {
  "kernelspec": {
   "display_name": "20220815_pycistopic.sif",
   "language": "python",
   "name": "pycistopic_20220815"
  },
  "language_info": {
   "codemirror_mode": {
    "name": "ipython",
    "version": 3
   },
   "file_extension": ".py",
   "mimetype": "text/x-python",
   "name": "python",
   "nbconvert_exporter": "python",
   "pygments_lexer": "ipython3",
   "version": "3.8.13"
  },
  "papermill": {
   "default_parameters": {},
   "duration": 23.40901,
   "end_time": "2022-09-07T09:32:35.246431",
   "environment_variables": {},
   "exception": null,
   "input_path": "2_run_qc_consensus.ipynb",
   "output_path": "2_run_qc_consensus.OUT.ipynb",
   "parameters": {},
   "start_time": "2022-09-07T09:32:11.837421",
   "version": "2.3.4"
  }
 },
 "nbformat": 4,
 "nbformat_minor": 5
}

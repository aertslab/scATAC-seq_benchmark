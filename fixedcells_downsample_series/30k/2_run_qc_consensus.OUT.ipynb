{
 "cells": [
  {
   "cell_type": "code",
   "execution_count": 1,
   "id": "5c0cea95",
   "metadata": {
    "execution": {
     "iopub.execute_input": "2022-09-16T14:12:00.786517Z",
     "iopub.status.busy": "2022-09-16T14:12:00.786104Z",
     "iopub.status.idle": "2022-09-16T14:12:11.285892Z",
     "shell.execute_reply": "2022-09-16T14:12:11.285086Z"
    },
    "papermill": {
     "duration": 10.528163,
     "end_time": "2022-09-16T14:12:11.307549",
     "exception": false,
     "start_time": "2022-09-16T14:12:00.779386",
     "status": "completed"
    },
    "tags": []
   },
   "outputs": [],
   "source": [
    "import pycisTopic\n",
    "import glob\n",
    "import os\n",
    "import pybiomart as pbm\n",
    "import pandas as pd\n",
    "import pickle\n",
    "from pycisTopic.qc import *\n",
    "from IPython.display import Image, display\n",
    "import matplotlib.pyplot as plt\n",
    "import numpy as np\n",
    "import seaborn as sns\n",
    "\n",
    "import multiprocess as mp  # for kde multithreading calculation\n",
    "from multiprocess import Pool\n",
    "\n",
    "%matplotlib inline\n",
    "%load_ext lab_black"
   ]
  },
  {
   "cell_type": "markdown",
   "id": "7c7a43c8",
   "metadata": {
    "papermill": {
     "duration": 0.005443,
     "end_time": "2022-09-16T14:12:11.332750",
     "exception": false,
     "start_time": "2022-09-16T14:12:11.327307",
     "status": "completed"
    },
    "tags": []
   },
   "source": [
    "# Download annotation"
   ]
  },
  {
   "cell_type": "code",
   "execution_count": 2,
   "id": "8d799645-cbe0-43be-b2af-cb773840f783",
   "metadata": {
    "execution": {
     "iopub.execute_input": "2022-09-16T14:12:11.351997Z",
     "iopub.status.busy": "2022-09-16T14:12:11.351302Z",
     "iopub.status.idle": "2022-09-16T14:12:11.582305Z",
     "shell.execute_reply": "2022-09-16T14:12:11.581430Z"
    },
    "papermill": {
     "duration": 0.246307,
     "end_time": "2022-09-16T14:12:11.583360",
     "exception": false,
     "start_time": "2022-09-16T14:12:11.337053",
     "status": "completed"
    },
    "tags": []
   },
   "outputs": [
    {
     "name": "stdout",
     "output_type": "stream",
     "text": [
      "/dodrio/scratch/projects/starting_2022_023/benchmark/scatac_benchmark/downsample_series/30k\r\n"
     ]
    }
   ],
   "source": [
    "!pwd"
   ]
  },
  {
   "cell_type": "code",
   "execution_count": 3,
   "id": "1637befe-6dd6-4a77-b59e-1f696ba36b74",
   "metadata": {
    "execution": {
     "iopub.execute_input": "2022-09-16T14:12:11.594008Z",
     "iopub.status.busy": "2022-09-16T14:12:11.593812Z",
     "iopub.status.idle": "2022-09-16T14:12:11.598902Z",
     "shell.execute_reply": "2022-09-16T14:12:11.598248Z"
    },
    "papermill": {
     "duration": 0.011274,
     "end_time": "2022-09-16T14:12:11.599826",
     "exception": false,
     "start_time": "2022-09-16T14:12:11.588552",
     "status": "completed"
    },
    "tags": []
   },
   "outputs": [],
   "source": [
    "depth_str = os.getcwd().split(\"/\")[-1]"
   ]
  },
  {
   "cell_type": "code",
   "execution_count": 4,
   "id": "f587154d",
   "metadata": {
    "execution": {
     "iopub.execute_input": "2022-09-16T14:12:11.609723Z",
     "iopub.status.busy": "2022-09-16T14:12:11.609274Z",
     "iopub.status.idle": "2022-09-16T14:12:11.613625Z",
     "shell.execute_reply": "2022-09-16T14:12:11.612990Z"
    },
    "papermill": {
     "duration": 0.010233,
     "end_time": "2022-09-16T14:12:11.614528",
     "exception": false,
     "start_time": "2022-09-16T14:12:11.604295",
     "status": "completed"
    },
    "tags": []
   },
   "outputs": [],
   "source": [
    "wdir = f\"/dodrio/scratch/projects/starting_2022_023/benchmark/scatac_benchmark/downsample_series/{depth_str}\"\n",
    "os.chdir(wdir)"
   ]
  },
  {
   "cell_type": "code",
   "execution_count": 5,
   "id": "8abb4492",
   "metadata": {
    "execution": {
     "iopub.execute_input": "2022-09-16T14:12:11.624245Z",
     "iopub.status.busy": "2022-09-16T14:12:11.623813Z",
     "iopub.status.idle": "2022-09-16T14:12:11.710258Z",
     "shell.execute_reply": "2022-09-16T14:12:11.709442Z"
    },
    "papermill": {
     "duration": 0.092274,
     "end_time": "2022-09-16T14:12:11.711197",
     "exception": false,
     "start_time": "2022-09-16T14:12:11.618923",
     "status": "completed"
    },
    "tags": []
   },
   "outputs": [
    {
     "name": "stdout",
     "output_type": "stream",
     "text": [
      "Loading cached genome annotation...\n"
     ]
    }
   ],
   "source": [
    "genome = \"hg38\"\n",
    "\n",
    "pbm_genome_name_dict = {\n",
    "    \"hg38\": \"hsapiens_gene_ensembl\",\n",
    "    \"hg37\": \"hsapiens_gene_ensembl\",\n",
    "    \"mm10\": \"mmusculus_gene_ensembl\",\n",
    "    \"dm6\": \"dmelanogaster_gene_ensembl\",\n",
    "}\n",
    "\n",
    "pbm_host_dict = {\n",
    "    \"hg38\": \"http://www.ensembl.org\",\n",
    "    \"hg37\": \"http://grch37.ensembl.org/\",\n",
    "    \"mm10\": \"http://nov2020.archive.ensembl.org/\",\n",
    "    \"dm6\": \"http://www.ensembl.org\",\n",
    "}\n",
    "\n",
    "if os.path.exists(f\"../annotation.tsv\"):\n",
    "    print(f\"Loading cached genome annotation...\")\n",
    "    annotation = pd.read_csv(\"../annotation.tsv\", sep=\"\\t\", header=0, index_col=0)\n",
    "else:\n",
    "    dataset = pbm.Dataset(name=pbm_genome_name_dict[genome], host=pbm_host_dict[genome])\n",
    "\n",
    "    annotation = dataset.query(\n",
    "        attributes=[\n",
    "            \"chromosome_name\",\n",
    "            \"transcription_start_site\",\n",
    "            \"strand\",\n",
    "            \"external_gene_name\",\n",
    "            \"transcript_biotype\",\n",
    "        ]\n",
    "    )\n",
    "    filter = annotation[\"Chromosome/scaffold name\"].str.contains(\"CHR|GL|JH|MT\")\n",
    "    annotation = annotation[~filter]\n",
    "    annotation[\"Chromosome/scaffold name\"] = annotation[\n",
    "        \"Chromosome/scaffold name\"\n",
    "    ].str.replace(r\"(\\b\\S)\", r\"chr\\1\")\n",
    "    annotation.columns = [\"Chromosome\", \"Start\", \"Strand\", \"Gene\", \"Transcript_type\"]\n",
    "    annotation = annotation[annotation.Transcript_type == \"protein_coding\"]\n",
    "    annotation.to_csv(\"annotation.tsv\", sep=\"\\t\")"
   ]
  },
  {
   "cell_type": "code",
   "execution_count": 6,
   "id": "79a968e4",
   "metadata": {
    "execution": {
     "iopub.execute_input": "2022-09-16T14:12:11.721997Z",
     "iopub.status.busy": "2022-09-16T14:12:11.721438Z",
     "iopub.status.idle": "2022-09-16T14:12:11.733787Z",
     "shell.execute_reply": "2022-09-16T14:12:11.733174Z"
    },
    "papermill": {
     "duration": 0.018616,
     "end_time": "2022-09-16T14:12:11.734777",
     "exception": false,
     "start_time": "2022-09-16T14:12:11.716161",
     "status": "completed"
    },
    "tags": []
   },
   "outputs": [
    {
     "data": {
      "text/plain": [
       "{'BIO_ddseq_1.30k': '30k_preprocessing_out/data/fragments/BIO_ddseq_1.30k.fragments.tsv.gz',\n",
       " 'BIO_ddseq_2.30k': '30k_preprocessing_out/data/fragments/BIO_ddseq_2.30k.fragments.tsv.gz',\n",
       " 'BIO_ddseq_3.30k': '30k_preprocessing_out/data/fragments/BIO_ddseq_3.30k.fragments.tsv.gz',\n",
       " 'BIO_ddseq_4.30k': '30k_preprocessing_out/data/fragments/BIO_ddseq_4.30k.fragments.tsv.gz',\n",
       " 'BRO_mtscatac_1.30k': '30k_preprocessing_out/data/fragments/BRO_mtscatac_1.30k.fragments.tsv.gz',\n",
       " 'BRO_mtscatac_2.30k': '30k_preprocessing_out/data/fragments/BRO_mtscatac_2.30k.fragments.tsv.gz',\n",
       " 'CNA_10xmultiome_1.30k': '30k_preprocessing_out/data/fragments/CNA_10xmultiome_1.30k.fragments.tsv.gz',\n",
       " 'CNA_10xmultiome_2.30k': '30k_preprocessing_out/data/fragments/CNA_10xmultiome_2.30k.fragments.tsv.gz',\n",
       " 'CNA_10xv11_1.30k': '30k_preprocessing_out/data/fragments/CNA_10xv11_1.30k.fragments.tsv.gz',\n",
       " 'CNA_10xv11_2.30k': '30k_preprocessing_out/data/fragments/CNA_10xv11_2.30k.fragments.tsv.gz',\n",
       " 'CNA_10xv11_3.30k': '30k_preprocessing_out/data/fragments/CNA_10xv11_3.30k.fragments.tsv.gz',\n",
       " 'CNA_10xv11_4.30k': '30k_preprocessing_out/data/fragments/CNA_10xv11_4.30k.fragments.tsv.gz',\n",
       " 'CNA_10xv11_5.30k': '30k_preprocessing_out/data/fragments/CNA_10xv11_5.30k.fragments.tsv.gz',\n",
       " 'CNA_10xv2_1.30k': '30k_preprocessing_out/data/fragments/CNA_10xv2_1.30k.fragments.tsv.gz',\n",
       " 'CNA_10xv2_2.30k': '30k_preprocessing_out/data/fragments/CNA_10xv2_2.30k.fragments.tsv.gz',\n",
       " 'CNA_hydrop_1.30k': '30k_preprocessing_out/data/fragments/CNA_hydrop_1.30k.fragments.tsv.gz',\n",
       " 'CNA_hydrop_2.30k': '30k_preprocessing_out/data/fragments/CNA_hydrop_2.30k.fragments.tsv.gz',\n",
       " 'CNA_hydrop_3.30k': '30k_preprocessing_out/data/fragments/CNA_hydrop_3.30k.fragments.tsv.gz',\n",
       " 'CNA_mtscatac_1.30k': '30k_preprocessing_out/data/fragments/CNA_mtscatac_1.30k.fragments.tsv.gz',\n",
       " 'CNA_mtscatac_2.30k': '30k_preprocessing_out/data/fragments/CNA_mtscatac_2.30k.fragments.tsv.gz',\n",
       " 'EPF_hydrop_1.30k': '30k_preprocessing_out/data/fragments/EPF_hydrop_1.30k.fragments.tsv.gz',\n",
       " 'EPF_hydrop_2.30k': '30k_preprocessing_out/data/fragments/EPF_hydrop_2.30k.fragments.tsv.gz',\n",
       " 'EPF_hydrop_3.30k': '30k_preprocessing_out/data/fragments/EPF_hydrop_3.30k.fragments.tsv.gz',\n",
       " 'EPF_hydrop_4.30k': '30k_preprocessing_out/data/fragments/EPF_hydrop_4.30k.fragments.tsv.gz',\n",
       " 'HAR_ddseq_1.30k': '30k_preprocessing_out/data/fragments/HAR_ddseq_1.30k.fragments.tsv.gz',\n",
       " 'HAR_ddseq_2.30k': '30k_preprocessing_out/data/fragments/HAR_ddseq_2.30k.fragments.tsv.gz',\n",
       " 'MDC_mtscatac_1.30k': '30k_preprocessing_out/data/fragments/MDC_mtscatac_1.30k.fragments.tsv.gz',\n",
       " 'MDC_mtscatac_2.30k': '30k_preprocessing_out/data/fragments/MDC_mtscatac_2.30k.fragments.tsv.gz',\n",
       " 'OHS_s3atac_1.30k': '30k_preprocessing_out/data/fragments/OHS_s3atac_1.30k.fragments.tsv.gz',\n",
       " 'OHS_s3atac_2.30k': '30k_preprocessing_out/data/fragments/OHS_s3atac_2.30k.fragments.tsv.gz',\n",
       " 'SAN_10xmultiome_1.30k': '30k_preprocessing_out/data/fragments/SAN_10xmultiome_1.30k.fragments.tsv.gz',\n",
       " 'SAN_10xmultiome_2.30k': '30k_preprocessing_out/data/fragments/SAN_10xmultiome_2.30k.fragments.tsv.gz',\n",
       " 'STA_10xv11_1.30k': '30k_preprocessing_out/data/fragments/STA_10xv11_1.30k.fragments.tsv.gz',\n",
       " 'STA_10xv11_2.30k': '30k_preprocessing_out/data/fragments/STA_10xv11_2.30k.fragments.tsv.gz',\n",
       " 'TXG_10xv11_1.30k': '30k_preprocessing_out/data/fragments/TXG_10xv11_1.30k.fragments.tsv.gz',\n",
       " 'TXG_10xv2_1.30k': '30k_preprocessing_out/data/fragments/TXG_10xv2_1.30k.fragments.tsv.gz',\n",
       " 'TXG_10xv2_2.30k': '30k_preprocessing_out/data/fragments/TXG_10xv2_2.30k.fragments.tsv.gz',\n",
       " 'UCS_ddseq_1.30k': '30k_preprocessing_out/data/fragments/UCS_ddseq_1.30k.fragments.tsv.gz',\n",
       " 'UCS_ddseq_2.30k': '30k_preprocessing_out/data/fragments/UCS_ddseq_2.30k.fragments.tsv.gz',\n",
       " 'VIB_10xmultiome_1.30k': '30k_preprocessing_out/data/fragments/VIB_10xmultiome_1.30k.fragments.tsv.gz',\n",
       " 'VIB_10xmultiome_2.30k': '30k_preprocessing_out/data/fragments/VIB_10xmultiome_2.30k.fragments.tsv.gz',\n",
       " 'VIB_10xv1_1.30k': '30k_preprocessing_out/data/fragments/VIB_10xv1_1.30k.fragments.tsv.gz',\n",
       " 'VIB_10xv1_2.30k': '30k_preprocessing_out/data/fragments/VIB_10xv1_2.30k.fragments.tsv.gz',\n",
       " 'VIB_10xv2_1.30k': '30k_preprocessing_out/data/fragments/VIB_10xv2_1.30k.fragments.tsv.gz',\n",
       " 'VIB_10xv2_2.30k': '30k_preprocessing_out/data/fragments/VIB_10xv2_2.30k.fragments.tsv.gz',\n",
       " 'VIB_hydrop_11.30k': '30k_preprocessing_out/data/fragments/VIB_hydrop_11.30k.fragments.tsv.gz',\n",
       " 'VIB_hydrop_12.30k': '30k_preprocessing_out/data/fragments/VIB_hydrop_12.30k.fragments.tsv.gz',\n",
       " 'VIB_hydrop_21.30k': '30k_preprocessing_out/data/fragments/VIB_hydrop_21.30k.fragments.tsv.gz',\n",
       " 'VIB_hydrop_22.30k': '30k_preprocessing_out/data/fragments/VIB_hydrop_22.30k.fragments.tsv.gz'}"
      ]
     },
     "execution_count": 6,
     "metadata": {},
     "output_type": "execute_result"
    }
   ],
   "source": [
    "fragments_list = sorted(\n",
    "    glob.glob(f\"{depth_str}_preprocessing_out/data/fragments/*fragments.tsv.gz\")\n",
    ")\n",
    "fragments_dict = {}\n",
    "for fragments_file in fragments_list:\n",
    "    sample = fragments_file.split(\"/\")[-1].split(\".fragments.tsv.gz\")[0]\n",
    "    fragments_dict[sample] = fragments_file\n",
    "\n",
    "fragments_dict"
   ]
  },
  {
   "cell_type": "code",
   "execution_count": 7,
   "id": "f43fd7e7-21a8-4798-b7bd-c236412e02bf",
   "metadata": {
    "execution": {
     "iopub.execute_input": "2022-09-16T14:12:11.745836Z",
     "iopub.status.busy": "2022-09-16T14:12:11.745386Z",
     "iopub.status.idle": "2022-09-16T14:12:11.754786Z",
     "shell.execute_reply": "2022-09-16T14:12:11.754102Z"
    },
    "papermill": {
     "duration": 0.016317,
     "end_time": "2022-09-16T14:12:11.755774",
     "exception": false,
     "start_time": "2022-09-16T14:12:11.739457",
     "status": "completed"
    },
    "tags": []
   },
   "outputs": [
    {
     "data": {
      "text/plain": [
       "{'BIO_ddseq_1.30k': '../SCREEN_peaks/BIO_ddseq_1.FIXEDCELLS__SCREEN_consensus_peaks.bed',\n",
       " 'BIO_ddseq_2.30k': '../SCREEN_peaks/BIO_ddseq_2.FIXEDCELLS__SCREEN_consensus_peaks.bed',\n",
       " 'BIO_ddseq_3.30k': '../SCREEN_peaks/BIO_ddseq_3.FIXEDCELLS__SCREEN_consensus_peaks.bed',\n",
       " 'BIO_ddseq_4.30k': '../SCREEN_peaks/BIO_ddseq_4.FIXEDCELLS__SCREEN_consensus_peaks.bed',\n",
       " 'BRO_mtscatac_1.30k': '../SCREEN_peaks/BRO_mtscatac_1.FIXEDCELLS__SCREEN_consensus_peaks.bed',\n",
       " 'BRO_mtscatac_2.30k': '../SCREEN_peaks/BRO_mtscatac_2.FIXEDCELLS__SCREEN_consensus_peaks.bed',\n",
       " 'CNA_10xmultiome_1.30k': '../SCREEN_peaks/CNA_10xmultiome_1.FIXEDCELLS__SCREEN_consensus_peaks.bed',\n",
       " 'CNA_10xmultiome_2.30k': '../SCREEN_peaks/CNA_10xmultiome_2.FIXEDCELLS__SCREEN_consensus_peaks.bed',\n",
       " 'CNA_10xv11_1.30k': '../SCREEN_peaks/CNA_10xv11_1.FIXEDCELLS__SCREEN_consensus_peaks.bed',\n",
       " 'CNA_10xv11_2.30k': '../SCREEN_peaks/CNA_10xv11_2.FIXEDCELLS__SCREEN_consensus_peaks.bed',\n",
       " 'CNA_10xv11_3.30k': '../SCREEN_peaks/CNA_10xv11_3.FIXEDCELLS__SCREEN_consensus_peaks.bed',\n",
       " 'CNA_10xv11_4.30k': '../SCREEN_peaks/CNA_10xv11_4.FIXEDCELLS__SCREEN_consensus_peaks.bed',\n",
       " 'CNA_10xv11_5.30k': '../SCREEN_peaks/CNA_10xv11_5.FIXEDCELLS__SCREEN_consensus_peaks.bed',\n",
       " 'CNA_10xv2_1.30k': '../SCREEN_peaks/CNA_10xv2_1.FIXEDCELLS__SCREEN_consensus_peaks.bed',\n",
       " 'CNA_10xv2_2.30k': '../SCREEN_peaks/CNA_10xv2_2.FIXEDCELLS__SCREEN_consensus_peaks.bed',\n",
       " 'CNA_hydrop_1.30k': '../SCREEN_peaks/CNA_hydrop_1.FIXEDCELLS__SCREEN_consensus_peaks.bed',\n",
       " 'CNA_hydrop_2.30k': '../SCREEN_peaks/CNA_hydrop_2.FIXEDCELLS__SCREEN_consensus_peaks.bed',\n",
       " 'CNA_hydrop_3.30k': '../SCREEN_peaks/CNA_hydrop_3.FIXEDCELLS__SCREEN_consensus_peaks.bed',\n",
       " 'CNA_mtscatac_1.30k': '../SCREEN_peaks/CNA_mtscatac_1.FIXEDCELLS__SCREEN_consensus_peaks.bed',\n",
       " 'CNA_mtscatac_2.30k': '../SCREEN_peaks/CNA_mtscatac_2.FIXEDCELLS__SCREEN_consensus_peaks.bed',\n",
       " 'EPF_hydrop_1.30k': '../SCREEN_peaks/EPF_hydrop_1.FIXEDCELLS__SCREEN_consensus_peaks.bed',\n",
       " 'EPF_hydrop_2.30k': '../SCREEN_peaks/EPF_hydrop_2.FIXEDCELLS__SCREEN_consensus_peaks.bed',\n",
       " 'EPF_hydrop_3.30k': '../SCREEN_peaks/EPF_hydrop_3.FIXEDCELLS__SCREEN_consensus_peaks.bed',\n",
       " 'EPF_hydrop_4.30k': '../SCREEN_peaks/EPF_hydrop_4.FIXEDCELLS__SCREEN_consensus_peaks.bed',\n",
       " 'HAR_ddseq_1.30k': '../SCREEN_peaks/HAR_ddseq_1.FIXEDCELLS__SCREEN_consensus_peaks.bed',\n",
       " 'HAR_ddseq_2.30k': '../SCREEN_peaks/HAR_ddseq_2.FIXEDCELLS__SCREEN_consensus_peaks.bed',\n",
       " 'MDC_mtscatac_1.30k': '../SCREEN_peaks/MDC_mtscatac_1.FIXEDCELLS__SCREEN_consensus_peaks.bed',\n",
       " 'MDC_mtscatac_2.30k': '../SCREEN_peaks/MDC_mtscatac_2.FIXEDCELLS__SCREEN_consensus_peaks.bed',\n",
       " 'OHS_s3atac_1.30k': '../SCREEN_peaks/OHS_s3atac_1.FIXEDCELLS__SCREEN_consensus_peaks.bed',\n",
       " 'OHS_s3atac_2.30k': '../SCREEN_peaks/OHS_s3atac_2.FIXEDCELLS__SCREEN_consensus_peaks.bed',\n",
       " 'SAN_10xmultiome_1.30k': '../SCREEN_peaks/SAN_10xmultiome_1.FIXEDCELLS__SCREEN_consensus_peaks.bed',\n",
       " 'SAN_10xmultiome_2.30k': '../SCREEN_peaks/SAN_10xmultiome_2.FIXEDCELLS__SCREEN_consensus_peaks.bed',\n",
       " 'STA_10xv11_1.30k': '../SCREEN_peaks/STA_10xv11_1.FIXEDCELLS__SCREEN_consensus_peaks.bed',\n",
       " 'STA_10xv11_2.30k': '../SCREEN_peaks/STA_10xv11_2.FIXEDCELLS__SCREEN_consensus_peaks.bed',\n",
       " 'TXG_10xv11_1.30k': '../SCREEN_peaks/TXG_10xv11_1.FIXEDCELLS__SCREEN_consensus_peaks.bed',\n",
       " 'TXG_10xv2_1.30k': '../SCREEN_peaks/TXG_10xv2_1.FIXEDCELLS__SCREEN_consensus_peaks.bed',\n",
       " 'TXG_10xv2_2.30k': '../SCREEN_peaks/TXG_10xv2_2.FIXEDCELLS__SCREEN_consensus_peaks.bed',\n",
       " 'UCS_ddseq_1.30k': '../SCREEN_peaks/UCS_ddseq_1.FIXEDCELLS__SCREEN_consensus_peaks.bed',\n",
       " 'UCS_ddseq_2.30k': '../SCREEN_peaks/UCS_ddseq_2.FIXEDCELLS__SCREEN_consensus_peaks.bed',\n",
       " 'VIB_10xmultiome_1.30k': '../SCREEN_peaks/VIB_10xmultiome_1.FIXEDCELLS__SCREEN_consensus_peaks.bed',\n",
       " 'VIB_10xmultiome_2.30k': '../SCREEN_peaks/VIB_10xmultiome_2.FIXEDCELLS__SCREEN_consensus_peaks.bed',\n",
       " 'VIB_10xv1_1.30k': '../SCREEN_peaks/VIB_10xv1_1.FIXEDCELLS__SCREEN_consensus_peaks.bed',\n",
       " 'VIB_10xv1_2.30k': '../SCREEN_peaks/VIB_10xv1_2.FIXEDCELLS__SCREEN_consensus_peaks.bed',\n",
       " 'VIB_10xv2_1.30k': '../SCREEN_peaks/VIB_10xv2_1.FIXEDCELLS__SCREEN_consensus_peaks.bed',\n",
       " 'VIB_10xv2_2.30k': '../SCREEN_peaks/VIB_10xv2_2.FIXEDCELLS__SCREEN_consensus_peaks.bed',\n",
       " 'VIB_hydrop_1.30k': '../SCREEN_peaks/VIB_hydrop_1.FIXEDCELLS__SCREEN_consensus_peaks.bed',\n",
       " 'VIB_hydrop_11.30k': '../SCREEN_peaks/VIB_hydrop_11.FIXEDCELLS__SCREEN_consensus_peaks.bed',\n",
       " 'VIB_hydrop_12.30k': '../SCREEN_peaks/VIB_hydrop_12.FIXEDCELLS__SCREEN_consensus_peaks.bed',\n",
       " 'VIB_hydrop_2.30k': '../SCREEN_peaks/VIB_hydrop_2.FIXEDCELLS__SCREEN_consensus_peaks.bed',\n",
       " 'VIB_hydrop_21.30k': '../SCREEN_peaks/VIB_hydrop_21.FIXEDCELLS__SCREEN_consensus_peaks.bed',\n",
       " 'VIB_hydrop_22.30k': '../SCREEN_peaks/VIB_hydrop_22.FIXEDCELLS__SCREEN_consensus_peaks.bed'}"
      ]
     },
     "execution_count": 7,
     "metadata": {},
     "output_type": "execute_result"
    }
   ],
   "source": [
    "regions_paths_dict = {\n",
    "    x.split(\"/\")[-1].split(f\"__\")[0].replace(\"FIXEDCELLS\", depth_str): x\n",
    "    for x in sorted(glob.glob(\"../SCREEN_peaks/*consensus_peaks.bed\"))\n",
    "}\n",
    "regions_paths_dict"
   ]
  },
  {
   "cell_type": "code",
   "execution_count": 8,
   "id": "bd35613d-1b51-4947-afd7-168f1043be12",
   "metadata": {
    "execution": {
     "iopub.execute_input": "2022-09-16T14:12:11.766285Z",
     "iopub.status.busy": "2022-09-16T14:12:11.765857Z",
     "iopub.status.idle": "2022-09-16T14:12:11.772953Z",
     "shell.execute_reply": "2022-09-16T14:12:11.772334Z"
    },
    "papermill": {
     "duration": 0.013333,
     "end_time": "2022-09-16T14:12:11.773954",
     "exception": false,
     "start_time": "2022-09-16T14:12:11.760621",
     "status": "completed"
    },
    "tags": []
   },
   "outputs": [],
   "source": [
    "regions_paths_dict[\"VIB_hydrop_11.\" + depth_str] = regions_paths_dict[\n",
    "    \"VIB_hydrop_1.\" + depth_str\n",
    "]\n",
    "regions_paths_dict[\"VIB_hydrop_12.\" + depth_str] = regions_paths_dict[\n",
    "    \"VIB_hydrop_1.\" + depth_str\n",
    "]\n",
    "regions_paths_dict[\"VIB_hydrop_21.\" + depth_str] = regions_paths_dict[\n",
    "    \"VIB_hydrop_2.\" + depth_str\n",
    "]\n",
    "regions_paths_dict[\"VIB_hydrop_22.\" + depth_str] = regions_paths_dict[\n",
    "    \"VIB_hydrop_2.\" + depth_str\n",
    "]"
   ]
  },
  {
   "cell_type": "code",
   "execution_count": 9,
   "id": "f01597ea-12b6-4b68-aa43-986e6616bc93",
   "metadata": {
    "execution": {
     "iopub.execute_input": "2022-09-16T14:12:11.784345Z",
     "iopub.status.busy": "2022-09-16T14:12:11.783910Z",
     "iopub.status.idle": "2022-09-16T14:12:11.789393Z",
     "shell.execute_reply": "2022-09-16T14:12:11.788819Z"
    },
    "papermill": {
     "duration": 0.011646,
     "end_time": "2022-09-16T14:12:11.790378",
     "exception": false,
     "start_time": "2022-09-16T14:12:11.778732",
     "status": "completed"
    },
    "tags": []
   },
   "outputs": [
    {
     "data": {
      "text/plain": [
       "{'BIO_ddseq_1.30k': '../SCREEN_peaks/BIO_ddseq_1.FIXEDCELLS__SCREEN_consensus_peaks.bed',\n",
       " 'BIO_ddseq_2.30k': '../SCREEN_peaks/BIO_ddseq_2.FIXEDCELLS__SCREEN_consensus_peaks.bed',\n",
       " 'BIO_ddseq_3.30k': '../SCREEN_peaks/BIO_ddseq_3.FIXEDCELLS__SCREEN_consensus_peaks.bed',\n",
       " 'BIO_ddseq_4.30k': '../SCREEN_peaks/BIO_ddseq_4.FIXEDCELLS__SCREEN_consensus_peaks.bed',\n",
       " 'BRO_mtscatac_1.30k': '../SCREEN_peaks/BRO_mtscatac_1.FIXEDCELLS__SCREEN_consensus_peaks.bed',\n",
       " 'BRO_mtscatac_2.30k': '../SCREEN_peaks/BRO_mtscatac_2.FIXEDCELLS__SCREEN_consensus_peaks.bed',\n",
       " 'CNA_10xmultiome_1.30k': '../SCREEN_peaks/CNA_10xmultiome_1.FIXEDCELLS__SCREEN_consensus_peaks.bed',\n",
       " 'CNA_10xmultiome_2.30k': '../SCREEN_peaks/CNA_10xmultiome_2.FIXEDCELLS__SCREEN_consensus_peaks.bed',\n",
       " 'CNA_10xv11_1.30k': '../SCREEN_peaks/CNA_10xv11_1.FIXEDCELLS__SCREEN_consensus_peaks.bed',\n",
       " 'CNA_10xv11_2.30k': '../SCREEN_peaks/CNA_10xv11_2.FIXEDCELLS__SCREEN_consensus_peaks.bed',\n",
       " 'CNA_10xv11_3.30k': '../SCREEN_peaks/CNA_10xv11_3.FIXEDCELLS__SCREEN_consensus_peaks.bed',\n",
       " 'CNA_10xv11_4.30k': '../SCREEN_peaks/CNA_10xv11_4.FIXEDCELLS__SCREEN_consensus_peaks.bed',\n",
       " 'CNA_10xv11_5.30k': '../SCREEN_peaks/CNA_10xv11_5.FIXEDCELLS__SCREEN_consensus_peaks.bed',\n",
       " 'CNA_10xv2_1.30k': '../SCREEN_peaks/CNA_10xv2_1.FIXEDCELLS__SCREEN_consensus_peaks.bed',\n",
       " 'CNA_10xv2_2.30k': '../SCREEN_peaks/CNA_10xv2_2.FIXEDCELLS__SCREEN_consensus_peaks.bed',\n",
       " 'CNA_hydrop_1.30k': '../SCREEN_peaks/CNA_hydrop_1.FIXEDCELLS__SCREEN_consensus_peaks.bed',\n",
       " 'CNA_hydrop_2.30k': '../SCREEN_peaks/CNA_hydrop_2.FIXEDCELLS__SCREEN_consensus_peaks.bed',\n",
       " 'CNA_hydrop_3.30k': '../SCREEN_peaks/CNA_hydrop_3.FIXEDCELLS__SCREEN_consensus_peaks.bed',\n",
       " 'CNA_mtscatac_1.30k': '../SCREEN_peaks/CNA_mtscatac_1.FIXEDCELLS__SCREEN_consensus_peaks.bed',\n",
       " 'CNA_mtscatac_2.30k': '../SCREEN_peaks/CNA_mtscatac_2.FIXEDCELLS__SCREEN_consensus_peaks.bed',\n",
       " 'EPF_hydrop_1.30k': '../SCREEN_peaks/EPF_hydrop_1.FIXEDCELLS__SCREEN_consensus_peaks.bed',\n",
       " 'EPF_hydrop_2.30k': '../SCREEN_peaks/EPF_hydrop_2.FIXEDCELLS__SCREEN_consensus_peaks.bed',\n",
       " 'EPF_hydrop_3.30k': '../SCREEN_peaks/EPF_hydrop_3.FIXEDCELLS__SCREEN_consensus_peaks.bed',\n",
       " 'EPF_hydrop_4.30k': '../SCREEN_peaks/EPF_hydrop_4.FIXEDCELLS__SCREEN_consensus_peaks.bed',\n",
       " 'HAR_ddseq_1.30k': '../SCREEN_peaks/HAR_ddseq_1.FIXEDCELLS__SCREEN_consensus_peaks.bed',\n",
       " 'HAR_ddseq_2.30k': '../SCREEN_peaks/HAR_ddseq_2.FIXEDCELLS__SCREEN_consensus_peaks.bed',\n",
       " 'MDC_mtscatac_1.30k': '../SCREEN_peaks/MDC_mtscatac_1.FIXEDCELLS__SCREEN_consensus_peaks.bed',\n",
       " 'MDC_mtscatac_2.30k': '../SCREEN_peaks/MDC_mtscatac_2.FIXEDCELLS__SCREEN_consensus_peaks.bed',\n",
       " 'OHS_s3atac_1.30k': '../SCREEN_peaks/OHS_s3atac_1.FIXEDCELLS__SCREEN_consensus_peaks.bed',\n",
       " 'OHS_s3atac_2.30k': '../SCREEN_peaks/OHS_s3atac_2.FIXEDCELLS__SCREEN_consensus_peaks.bed',\n",
       " 'SAN_10xmultiome_1.30k': '../SCREEN_peaks/SAN_10xmultiome_1.FIXEDCELLS__SCREEN_consensus_peaks.bed',\n",
       " 'SAN_10xmultiome_2.30k': '../SCREEN_peaks/SAN_10xmultiome_2.FIXEDCELLS__SCREEN_consensus_peaks.bed',\n",
       " 'STA_10xv11_1.30k': '../SCREEN_peaks/STA_10xv11_1.FIXEDCELLS__SCREEN_consensus_peaks.bed',\n",
       " 'STA_10xv11_2.30k': '../SCREEN_peaks/STA_10xv11_2.FIXEDCELLS__SCREEN_consensus_peaks.bed',\n",
       " 'TXG_10xv11_1.30k': '../SCREEN_peaks/TXG_10xv11_1.FIXEDCELLS__SCREEN_consensus_peaks.bed',\n",
       " 'TXG_10xv2_1.30k': '../SCREEN_peaks/TXG_10xv2_1.FIXEDCELLS__SCREEN_consensus_peaks.bed',\n",
       " 'TXG_10xv2_2.30k': '../SCREEN_peaks/TXG_10xv2_2.FIXEDCELLS__SCREEN_consensus_peaks.bed',\n",
       " 'UCS_ddseq_1.30k': '../SCREEN_peaks/UCS_ddseq_1.FIXEDCELLS__SCREEN_consensus_peaks.bed',\n",
       " 'UCS_ddseq_2.30k': '../SCREEN_peaks/UCS_ddseq_2.FIXEDCELLS__SCREEN_consensus_peaks.bed',\n",
       " 'VIB_10xmultiome_1.30k': '../SCREEN_peaks/VIB_10xmultiome_1.FIXEDCELLS__SCREEN_consensus_peaks.bed',\n",
       " 'VIB_10xmultiome_2.30k': '../SCREEN_peaks/VIB_10xmultiome_2.FIXEDCELLS__SCREEN_consensus_peaks.bed',\n",
       " 'VIB_10xv1_1.30k': '../SCREEN_peaks/VIB_10xv1_1.FIXEDCELLS__SCREEN_consensus_peaks.bed',\n",
       " 'VIB_10xv1_2.30k': '../SCREEN_peaks/VIB_10xv1_2.FIXEDCELLS__SCREEN_consensus_peaks.bed',\n",
       " 'VIB_10xv2_1.30k': '../SCREEN_peaks/VIB_10xv2_1.FIXEDCELLS__SCREEN_consensus_peaks.bed',\n",
       " 'VIB_10xv2_2.30k': '../SCREEN_peaks/VIB_10xv2_2.FIXEDCELLS__SCREEN_consensus_peaks.bed',\n",
       " 'VIB_hydrop_1.30k': '../SCREEN_peaks/VIB_hydrop_1.FIXEDCELLS__SCREEN_consensus_peaks.bed',\n",
       " 'VIB_hydrop_11.30k': '../SCREEN_peaks/VIB_hydrop_1.FIXEDCELLS__SCREEN_consensus_peaks.bed',\n",
       " 'VIB_hydrop_12.30k': '../SCREEN_peaks/VIB_hydrop_1.FIXEDCELLS__SCREEN_consensus_peaks.bed',\n",
       " 'VIB_hydrop_2.30k': '../SCREEN_peaks/VIB_hydrop_2.FIXEDCELLS__SCREEN_consensus_peaks.bed',\n",
       " 'VIB_hydrop_21.30k': '../SCREEN_peaks/VIB_hydrop_2.FIXEDCELLS__SCREEN_consensus_peaks.bed',\n",
       " 'VIB_hydrop_22.30k': '../SCREEN_peaks/VIB_hydrop_2.FIXEDCELLS__SCREEN_consensus_peaks.bed'}"
      ]
     },
     "execution_count": 9,
     "metadata": {},
     "output_type": "execute_result"
    }
   ],
   "source": [
    "regions_paths_dict"
   ]
  },
  {
   "cell_type": "markdown",
   "id": "a58786aa",
   "metadata": {
    "papermill": {
     "duration": 0.004716,
     "end_time": "2022-09-16T14:12:11.799973",
     "exception": false,
     "start_time": "2022-09-16T14:12:11.795257",
     "status": "completed"
    },
    "tags": []
   },
   "source": [
    "Now, make a sub dictionary of all samples within the fragments dict that have not been run yet (good for resuming a stopped cistopic run):"
   ]
  },
  {
   "cell_type": "code",
   "execution_count": 10,
   "id": "13ad51aa",
   "metadata": {
    "execution": {
     "iopub.execute_input": "2022-09-16T14:12:11.810477Z",
     "iopub.status.busy": "2022-09-16T14:12:11.810040Z",
     "iopub.status.idle": "2022-09-16T14:12:11.814596Z",
     "shell.execute_reply": "2022-09-16T14:12:11.813950Z"
    },
    "papermill": {
     "duration": 0.010813,
     "end_time": "2022-09-16T14:12:11.815595",
     "exception": false,
     "start_time": "2022-09-16T14:12:11.804782",
     "status": "completed"
    },
    "tags": []
   },
   "outputs": [],
   "source": [
    "cistopic_qc_out = os.path.join(wdir, \"cistopic_qc_out_CONSENSUS\")\n",
    "if not os.path.exists(cistopic_qc_out):\n",
    "    os.makedirs(cistopic_qc_out)"
   ]
  },
  {
   "cell_type": "code",
   "execution_count": 11,
   "id": "161f54e5-1e0b-4277-b9ca-f0247df0e4e9",
   "metadata": {
    "execution": {
     "iopub.execute_input": "2022-09-16T14:12:11.826517Z",
     "iopub.status.busy": "2022-09-16T14:12:11.826074Z",
     "iopub.status.idle": "2022-09-16T14:12:11.843684Z",
     "shell.execute_reply": "2022-09-16T14:12:11.843058Z"
    },
    "papermill": {
     "duration": 0.02397,
     "end_time": "2022-09-16T14:12:11.844680",
     "exception": false,
     "start_time": "2022-09-16T14:12:11.820710",
     "status": "completed"
    },
    "tags": []
   },
   "outputs": [
    {
     "name": "stdout",
     "output_type": "stream",
     "text": [
      "Checking if /dodrio/scratch/projects/starting_2022_023/benchmark/scatac_benchmark/downsample_series/30k/cistopic_qc_out_CONSENSUS/BIO_ddseq_1.30k__metadata_bc.pkl exist...\n",
      "\tMetadata exists! Skipping...\n",
      "Checking if /dodrio/scratch/projects/starting_2022_023/benchmark/scatac_benchmark/downsample_series/30k/cistopic_qc_out_CONSENSUS/BIO_ddseq_2.30k__metadata_bc.pkl exist...\n",
      "\tMetadata exists! Skipping...\n",
      "Checking if /dodrio/scratch/projects/starting_2022_023/benchmark/scatac_benchmark/downsample_series/30k/cistopic_qc_out_CONSENSUS/BIO_ddseq_3.30k__metadata_bc.pkl exist...\n",
      "\tMetadata exists! Skipping...\n",
      "Checking if /dodrio/scratch/projects/starting_2022_023/benchmark/scatac_benchmark/downsample_series/30k/cistopic_qc_out_CONSENSUS/BIO_ddseq_4.30k__metadata_bc.pkl exist...\n",
      "\tMetadata exists! Skipping...\n",
      "Checking if /dodrio/scratch/projects/starting_2022_023/benchmark/scatac_benchmark/downsample_series/30k/cistopic_qc_out_CONSENSUS/BRO_mtscatac_1.30k__metadata_bc.pkl exist...\n",
      "\tMetadata exists! Skipping...\n",
      "Checking if /dodrio/scratch/projects/starting_2022_023/benchmark/scatac_benchmark/downsample_series/30k/cistopic_qc_out_CONSENSUS/BRO_mtscatac_2.30k__metadata_bc.pkl exist...\n"
     ]
    },
    {
     "name": "stdout",
     "output_type": "stream",
     "text": [
      "\tMetadata exists! Skipping...\n",
      "Checking if /dodrio/scratch/projects/starting_2022_023/benchmark/scatac_benchmark/downsample_series/30k/cistopic_qc_out_CONSENSUS/CNA_10xmultiome_1.30k__metadata_bc.pkl exist...\n",
      "\tMetadata exists! Skipping...\n",
      "Checking if /dodrio/scratch/projects/starting_2022_023/benchmark/scatac_benchmark/downsample_series/30k/cistopic_qc_out_CONSENSUS/CNA_10xmultiome_2.30k__metadata_bc.pkl exist...\n",
      "\tMetadata exists! Skipping...\n",
      "Checking if /dodrio/scratch/projects/starting_2022_023/benchmark/scatac_benchmark/downsample_series/30k/cistopic_qc_out_CONSENSUS/CNA_10xv11_1.30k__metadata_bc.pkl exist...\n",
      "\tMetadata exists! Skipping...\n",
      "Checking if /dodrio/scratch/projects/starting_2022_023/benchmark/scatac_benchmark/downsample_series/30k/cistopic_qc_out_CONSENSUS/CNA_10xv11_2.30k__metadata_bc.pkl exist...\n",
      "\tMetadata exists! Skipping...\n",
      "Checking if /dodrio/scratch/projects/starting_2022_023/benchmark/scatac_benchmark/downsample_series/30k/cistopic_qc_out_CONSENSUS/CNA_10xv11_3.30k__metadata_bc.pkl exist...\n",
      "\tMetadata exists! Skipping...\n",
      "Checking if /dodrio/scratch/projects/starting_2022_023/benchmark/scatac_benchmark/downsample_series/30k/cistopic_qc_out_CONSENSUS/CNA_10xv11_4.30k__metadata_bc.pkl exist...\n",
      "\tMetadata exists! Skipping...\n",
      "Checking if /dodrio/scratch/projects/starting_2022_023/benchmark/scatac_benchmark/downsample_series/30k/cistopic_qc_out_CONSENSUS/CNA_10xv11_5.30k__metadata_bc.pkl exist...\n",
      "\tMetadata exists! Skipping...\n",
      "Checking if /dodrio/scratch/projects/starting_2022_023/benchmark/scatac_benchmark/downsample_series/30k/cistopic_qc_out_CONSENSUS/CNA_10xv2_1.30k__metadata_bc.pkl exist...\n",
      "\tMetadata exists! Skipping...\n",
      "Checking if /dodrio/scratch/projects/starting_2022_023/benchmark/scatac_benchmark/downsample_series/30k/cistopic_qc_out_CONSENSUS/CNA_10xv2_2.30k__metadata_bc.pkl exist...\n",
      "\tMetadata exists! Skipping...\n",
      "Checking if /dodrio/scratch/projects/starting_2022_023/benchmark/scatac_benchmark/downsample_series/30k/cistopic_qc_out_CONSENSUS/CNA_hydrop_1.30k__metadata_bc.pkl exist...\n",
      "\tMetadata exists! Skipping...\n",
      "Checking if /dodrio/scratch/projects/starting_2022_023/benchmark/scatac_benchmark/downsample_series/30k/cistopic_qc_out_CONSENSUS/CNA_hydrop_2.30k__metadata_bc.pkl exist...\n",
      "\tMetadata exists! Skipping...\n",
      "Checking if /dodrio/scratch/projects/starting_2022_023/benchmark/scatac_benchmark/downsample_series/30k/cistopic_qc_out_CONSENSUS/CNA_hydrop_3.30k__metadata_bc.pkl exist...\n",
      "\tMetadata exists! Skipping...\n",
      "Checking if /dodrio/scratch/projects/starting_2022_023/benchmark/scatac_benchmark/downsample_series/30k/cistopic_qc_out_CONSENSUS/CNA_mtscatac_1.30k__metadata_bc.pkl exist...\n",
      "\tMetadata exists! Skipping...\n",
      "Checking if /dodrio/scratch/projects/starting_2022_023/benchmark/scatac_benchmark/downsample_series/30k/cistopic_qc_out_CONSENSUS/CNA_mtscatac_2.30k__metadata_bc.pkl exist...\n",
      "\tMetadata exists! Skipping...\n",
      "Checking if /dodrio/scratch/projects/starting_2022_023/benchmark/scatac_benchmark/downsample_series/30k/cistopic_qc_out_CONSENSUS/EPF_hydrop_1.30k__metadata_bc.pkl exist...\n",
      "\tMetadata exists! Skipping...\n",
      "Checking if /dodrio/scratch/projects/starting_2022_023/benchmark/scatac_benchmark/downsample_series/30k/cistopic_qc_out_CONSENSUS/EPF_hydrop_2.30k__metadata_bc.pkl exist...\n",
      "\tMetadata exists! Skipping...\n",
      "Checking if /dodrio/scratch/projects/starting_2022_023/benchmark/scatac_benchmark/downsample_series/30k/cistopic_qc_out_CONSENSUS/EPF_hydrop_3.30k__metadata_bc.pkl exist...\n",
      "\tMetadata exists! Skipping...\n",
      "Checking if /dodrio/scratch/projects/starting_2022_023/benchmark/scatac_benchmark/downsample_series/30k/cistopic_qc_out_CONSENSUS/EPF_hydrop_4.30k__metadata_bc.pkl exist...\n",
      "\tMetadata exists! Skipping...\n",
      "Checking if /dodrio/scratch/projects/starting_2022_023/benchmark/scatac_benchmark/downsample_series/30k/cistopic_qc_out_CONSENSUS/HAR_ddseq_1.30k__metadata_bc.pkl exist...\n",
      "\tMetadata exists! Skipping...\n",
      "Checking if /dodrio/scratch/projects/starting_2022_023/benchmark/scatac_benchmark/downsample_series/30k/cistopic_qc_out_CONSENSUS/HAR_ddseq_2.30k__metadata_bc.pkl exist...\n",
      "\tMetadata exists! Skipping...\n",
      "Checking if /dodrio/scratch/projects/starting_2022_023/benchmark/scatac_benchmark/downsample_series/30k/cistopic_qc_out_CONSENSUS/MDC_mtscatac_1.30k__metadata_bc.pkl exist...\n",
      "\tMetadata exists! Skipping...\n",
      "Checking if /dodrio/scratch/projects/starting_2022_023/benchmark/scatac_benchmark/downsample_series/30k/cistopic_qc_out_CONSENSUS/MDC_mtscatac_2.30k__metadata_bc.pkl exist...\n",
      "\tMetadata exists! Skipping...\n",
      "Checking if /dodrio/scratch/projects/starting_2022_023/benchmark/scatac_benchmark/downsample_series/30k/cistopic_qc_out_CONSENSUS/OHS_s3atac_1.30k__metadata_bc.pkl exist...\n",
      "\tMetadata exists! Skipping...\n",
      "Checking if /dodrio/scratch/projects/starting_2022_023/benchmark/scatac_benchmark/downsample_series/30k/cistopic_qc_out_CONSENSUS/OHS_s3atac_2.30k__metadata_bc.pkl exist...\n",
      "\tMetadata exists! Skipping...\n",
      "Checking if /dodrio/scratch/projects/starting_2022_023/benchmark/scatac_benchmark/downsample_series/30k/cistopic_qc_out_CONSENSUS/SAN_10xmultiome_1.30k__metadata_bc.pkl exist...\n",
      "\tMetadata exists! Skipping...\n",
      "Checking if /dodrio/scratch/projects/starting_2022_023/benchmark/scatac_benchmark/downsample_series/30k/cistopic_qc_out_CONSENSUS/SAN_10xmultiome_2.30k__metadata_bc.pkl exist...\n",
      "\tMetadata exists! Skipping...\n",
      "Checking if /dodrio/scratch/projects/starting_2022_023/benchmark/scatac_benchmark/downsample_series/30k/cistopic_qc_out_CONSENSUS/STA_10xv11_1.30k__metadata_bc.pkl exist...\n",
      "\tMetadata exists! Skipping...\n",
      "Checking if /dodrio/scratch/projects/starting_2022_023/benchmark/scatac_benchmark/downsample_series/30k/cistopic_qc_out_CONSENSUS/STA_10xv11_2.30k__metadata_bc.pkl exist...\n",
      "\tMetadata exists! Skipping...\n",
      "Checking if /dodrio/scratch/projects/starting_2022_023/benchmark/scatac_benchmark/downsample_series/30k/cistopic_qc_out_CONSENSUS/TXG_10xv11_1.30k__metadata_bc.pkl exist...\n",
      "\tMetadata exists! Skipping...\n",
      "Checking if /dodrio/scratch/projects/starting_2022_023/benchmark/scatac_benchmark/downsample_series/30k/cistopic_qc_out_CONSENSUS/TXG_10xv2_1.30k__metadata_bc.pkl exist...\n",
      "\tMetadata exists! Skipping...\n",
      "Checking if /dodrio/scratch/projects/starting_2022_023/benchmark/scatac_benchmark/downsample_series/30k/cistopic_qc_out_CONSENSUS/TXG_10xv2_2.30k__metadata_bc.pkl exist...\n",
      "\tMetadata exists! Skipping...\n",
      "Checking if /dodrio/scratch/projects/starting_2022_023/benchmark/scatac_benchmark/downsample_series/30k/cistopic_qc_out_CONSENSUS/UCS_ddseq_1.30k__metadata_bc.pkl exist...\n",
      "\tMetadata exists! Skipping...\n",
      "Checking if /dodrio/scratch/projects/starting_2022_023/benchmark/scatac_benchmark/downsample_series/30k/cistopic_qc_out_CONSENSUS/UCS_ddseq_2.30k__metadata_bc.pkl exist...\n",
      "\tMetadata exists! Skipping...\n",
      "Checking if /dodrio/scratch/projects/starting_2022_023/benchmark/scatac_benchmark/downsample_series/30k/cistopic_qc_out_CONSENSUS/VIB_10xmultiome_1.30k__metadata_bc.pkl exist...\n",
      "\tMetadata exists! Skipping...\n",
      "Checking if /dodrio/scratch/projects/starting_2022_023/benchmark/scatac_benchmark/downsample_series/30k/cistopic_qc_out_CONSENSUS/VIB_10xmultiome_2.30k__metadata_bc.pkl exist...\n",
      "\tMetadata exists! Skipping...\n",
      "Checking if /dodrio/scratch/projects/starting_2022_023/benchmark/scatac_benchmark/downsample_series/30k/cistopic_qc_out_CONSENSUS/VIB_10xv1_1.30k__metadata_bc.pkl exist...\n",
      "\tMetadata exists! Skipping...\n",
      "Checking if /dodrio/scratch/projects/starting_2022_023/benchmark/scatac_benchmark/downsample_series/30k/cistopic_qc_out_CONSENSUS/VIB_10xv1_2.30k__metadata_bc.pkl exist...\n",
      "\tMetadata exists! Skipping...\n",
      "Checking if /dodrio/scratch/projects/starting_2022_023/benchmark/scatac_benchmark/downsample_series/30k/cistopic_qc_out_CONSENSUS/VIB_10xv2_1.30k__metadata_bc.pkl exist...\n",
      "\tMetadata exists! Skipping...\n",
      "Checking if /dodrio/scratch/projects/starting_2022_023/benchmark/scatac_benchmark/downsample_series/30k/cistopic_qc_out_CONSENSUS/VIB_10xv2_2.30k__metadata_bc.pkl exist...\n",
      "\tMetadata exists! Skipping...\n",
      "Checking if /dodrio/scratch/projects/starting_2022_023/benchmark/scatac_benchmark/downsample_series/30k/cistopic_qc_out_CONSENSUS/VIB_hydrop_11.30k__metadata_bc.pkl exist...\n",
      "\tMetadata exists! Skipping...\n",
      "Checking if /dodrio/scratch/projects/starting_2022_023/benchmark/scatac_benchmark/downsample_series/30k/cistopic_qc_out_CONSENSUS/VIB_hydrop_12.30k__metadata_bc.pkl exist...\n",
      "\tMetadata exists! Skipping...\n",
      "Checking if /dodrio/scratch/projects/starting_2022_023/benchmark/scatac_benchmark/downsample_series/30k/cistopic_qc_out_CONSENSUS/VIB_hydrop_21.30k__metadata_bc.pkl exist...\n",
      "\tMetadata exists! Skipping...\n",
      "Checking if /dodrio/scratch/projects/starting_2022_023/benchmark/scatac_benchmark/downsample_series/30k/cistopic_qc_out_CONSENSUS/VIB_hydrop_22.30k__metadata_bc.pkl exist...\n",
      "\tMetadata exists! Skipping...\n"
     ]
    }
   ],
   "source": [
    "fragments_sub_dict = {}\n",
    "regions_sub_dict = {}\n",
    "for sample in fragments_dict.keys():\n",
    "    metadata_file = os.path.join(cistopic_qc_out, sample + \"__metadata_bc.pkl\")\n",
    "    print(f\"Checking if {metadata_file} exist...\")\n",
    "    if os.path.exists(metadata_file):\n",
    "        print(\"\\tMetadata exists! Skipping...\")\n",
    "    else:\n",
    "        fragments_sub_dict[sample] = fragments_dict[sample]\n",
    "        print(\"\\tMetadata does not exist, adding to subdict to generate\")"
   ]
  },
  {
   "cell_type": "code",
   "execution_count": 12,
   "id": "b718b167-4d2f-454a-b7f0-4577f12bd1a8",
   "metadata": {
    "execution": {
     "iopub.execute_input": "2022-09-16T14:12:11.855948Z",
     "iopub.status.busy": "2022-09-16T14:12:11.855390Z",
     "iopub.status.idle": "2022-09-16T14:12:11.859632Z",
     "shell.execute_reply": "2022-09-16T14:12:11.858989Z"
    },
    "papermill": {
     "duration": 0.010732,
     "end_time": "2022-09-16T14:12:11.860626",
     "exception": false,
     "start_time": "2022-09-16T14:12:11.849894",
     "status": "completed"
    },
    "tags": []
   },
   "outputs": [],
   "source": [
    "regions_sub_dict = {x: regions_paths_dict[x] for x in sorted(regions_paths_dict.keys())}"
   ]
  },
  {
   "cell_type": "code",
   "execution_count": 13,
   "id": "c5a500ab-e738-4df7-971d-8d70ff2aff0a",
   "metadata": {
    "execution": {
     "iopub.execute_input": "2022-09-16T14:12:11.871667Z",
     "iopub.status.busy": "2022-09-16T14:12:11.871298Z",
     "iopub.status.idle": "2022-09-16T14:12:11.876613Z",
     "shell.execute_reply": "2022-09-16T14:12:11.876028Z"
    },
    "papermill": {
     "duration": 0.011839,
     "end_time": "2022-09-16T14:12:11.877584",
     "exception": false,
     "start_time": "2022-09-16T14:12:11.865745",
     "status": "completed"
    },
    "tags": []
   },
   "outputs": [
    {
     "data": {
      "text/plain": [
       "{'BIO_ddseq_1.30k': '../SCREEN_peaks/BIO_ddseq_1.FIXEDCELLS__SCREEN_consensus_peaks.bed',\n",
       " 'BIO_ddseq_2.30k': '../SCREEN_peaks/BIO_ddseq_2.FIXEDCELLS__SCREEN_consensus_peaks.bed',\n",
       " 'BIO_ddseq_3.30k': '../SCREEN_peaks/BIO_ddseq_3.FIXEDCELLS__SCREEN_consensus_peaks.bed',\n",
       " 'BIO_ddseq_4.30k': '../SCREEN_peaks/BIO_ddseq_4.FIXEDCELLS__SCREEN_consensus_peaks.bed',\n",
       " 'BRO_mtscatac_1.30k': '../SCREEN_peaks/BRO_mtscatac_1.FIXEDCELLS__SCREEN_consensus_peaks.bed',\n",
       " 'BRO_mtscatac_2.30k': '../SCREEN_peaks/BRO_mtscatac_2.FIXEDCELLS__SCREEN_consensus_peaks.bed',\n",
       " 'CNA_10xmultiome_1.30k': '../SCREEN_peaks/CNA_10xmultiome_1.FIXEDCELLS__SCREEN_consensus_peaks.bed',\n",
       " 'CNA_10xmultiome_2.30k': '../SCREEN_peaks/CNA_10xmultiome_2.FIXEDCELLS__SCREEN_consensus_peaks.bed',\n",
       " 'CNA_10xv11_1.30k': '../SCREEN_peaks/CNA_10xv11_1.FIXEDCELLS__SCREEN_consensus_peaks.bed',\n",
       " 'CNA_10xv11_2.30k': '../SCREEN_peaks/CNA_10xv11_2.FIXEDCELLS__SCREEN_consensus_peaks.bed',\n",
       " 'CNA_10xv11_3.30k': '../SCREEN_peaks/CNA_10xv11_3.FIXEDCELLS__SCREEN_consensus_peaks.bed',\n",
       " 'CNA_10xv11_4.30k': '../SCREEN_peaks/CNA_10xv11_4.FIXEDCELLS__SCREEN_consensus_peaks.bed',\n",
       " 'CNA_10xv11_5.30k': '../SCREEN_peaks/CNA_10xv11_5.FIXEDCELLS__SCREEN_consensus_peaks.bed',\n",
       " 'CNA_10xv2_1.30k': '../SCREEN_peaks/CNA_10xv2_1.FIXEDCELLS__SCREEN_consensus_peaks.bed',\n",
       " 'CNA_10xv2_2.30k': '../SCREEN_peaks/CNA_10xv2_2.FIXEDCELLS__SCREEN_consensus_peaks.bed',\n",
       " 'CNA_hydrop_1.30k': '../SCREEN_peaks/CNA_hydrop_1.FIXEDCELLS__SCREEN_consensus_peaks.bed',\n",
       " 'CNA_hydrop_2.30k': '../SCREEN_peaks/CNA_hydrop_2.FIXEDCELLS__SCREEN_consensus_peaks.bed',\n",
       " 'CNA_hydrop_3.30k': '../SCREEN_peaks/CNA_hydrop_3.FIXEDCELLS__SCREEN_consensus_peaks.bed',\n",
       " 'CNA_mtscatac_1.30k': '../SCREEN_peaks/CNA_mtscatac_1.FIXEDCELLS__SCREEN_consensus_peaks.bed',\n",
       " 'CNA_mtscatac_2.30k': '../SCREEN_peaks/CNA_mtscatac_2.FIXEDCELLS__SCREEN_consensus_peaks.bed',\n",
       " 'EPF_hydrop_1.30k': '../SCREEN_peaks/EPF_hydrop_1.FIXEDCELLS__SCREEN_consensus_peaks.bed',\n",
       " 'EPF_hydrop_2.30k': '../SCREEN_peaks/EPF_hydrop_2.FIXEDCELLS__SCREEN_consensus_peaks.bed',\n",
       " 'EPF_hydrop_3.30k': '../SCREEN_peaks/EPF_hydrop_3.FIXEDCELLS__SCREEN_consensus_peaks.bed',\n",
       " 'EPF_hydrop_4.30k': '../SCREEN_peaks/EPF_hydrop_4.FIXEDCELLS__SCREEN_consensus_peaks.bed',\n",
       " 'HAR_ddseq_1.30k': '../SCREEN_peaks/HAR_ddseq_1.FIXEDCELLS__SCREEN_consensus_peaks.bed',\n",
       " 'HAR_ddseq_2.30k': '../SCREEN_peaks/HAR_ddseq_2.FIXEDCELLS__SCREEN_consensus_peaks.bed',\n",
       " 'MDC_mtscatac_1.30k': '../SCREEN_peaks/MDC_mtscatac_1.FIXEDCELLS__SCREEN_consensus_peaks.bed',\n",
       " 'MDC_mtscatac_2.30k': '../SCREEN_peaks/MDC_mtscatac_2.FIXEDCELLS__SCREEN_consensus_peaks.bed',\n",
       " 'OHS_s3atac_1.30k': '../SCREEN_peaks/OHS_s3atac_1.FIXEDCELLS__SCREEN_consensus_peaks.bed',\n",
       " 'OHS_s3atac_2.30k': '../SCREEN_peaks/OHS_s3atac_2.FIXEDCELLS__SCREEN_consensus_peaks.bed',\n",
       " 'SAN_10xmultiome_1.30k': '../SCREEN_peaks/SAN_10xmultiome_1.FIXEDCELLS__SCREEN_consensus_peaks.bed',\n",
       " 'SAN_10xmultiome_2.30k': '../SCREEN_peaks/SAN_10xmultiome_2.FIXEDCELLS__SCREEN_consensus_peaks.bed',\n",
       " 'STA_10xv11_1.30k': '../SCREEN_peaks/STA_10xv11_1.FIXEDCELLS__SCREEN_consensus_peaks.bed',\n",
       " 'STA_10xv11_2.30k': '../SCREEN_peaks/STA_10xv11_2.FIXEDCELLS__SCREEN_consensus_peaks.bed',\n",
       " 'TXG_10xv11_1.30k': '../SCREEN_peaks/TXG_10xv11_1.FIXEDCELLS__SCREEN_consensus_peaks.bed',\n",
       " 'TXG_10xv2_1.30k': '../SCREEN_peaks/TXG_10xv2_1.FIXEDCELLS__SCREEN_consensus_peaks.bed',\n",
       " 'TXG_10xv2_2.30k': '../SCREEN_peaks/TXG_10xv2_2.FIXEDCELLS__SCREEN_consensus_peaks.bed',\n",
       " 'UCS_ddseq_1.30k': '../SCREEN_peaks/UCS_ddseq_1.FIXEDCELLS__SCREEN_consensus_peaks.bed',\n",
       " 'UCS_ddseq_2.30k': '../SCREEN_peaks/UCS_ddseq_2.FIXEDCELLS__SCREEN_consensus_peaks.bed',\n",
       " 'VIB_10xmultiome_1.30k': '../SCREEN_peaks/VIB_10xmultiome_1.FIXEDCELLS__SCREEN_consensus_peaks.bed',\n",
       " 'VIB_10xmultiome_2.30k': '../SCREEN_peaks/VIB_10xmultiome_2.FIXEDCELLS__SCREEN_consensus_peaks.bed',\n",
       " 'VIB_10xv1_1.30k': '../SCREEN_peaks/VIB_10xv1_1.FIXEDCELLS__SCREEN_consensus_peaks.bed',\n",
       " 'VIB_10xv1_2.30k': '../SCREEN_peaks/VIB_10xv1_2.FIXEDCELLS__SCREEN_consensus_peaks.bed',\n",
       " 'VIB_10xv2_1.30k': '../SCREEN_peaks/VIB_10xv2_1.FIXEDCELLS__SCREEN_consensus_peaks.bed',\n",
       " 'VIB_10xv2_2.30k': '../SCREEN_peaks/VIB_10xv2_2.FIXEDCELLS__SCREEN_consensus_peaks.bed',\n",
       " 'VIB_hydrop_1.30k': '../SCREEN_peaks/VIB_hydrop_1.FIXEDCELLS__SCREEN_consensus_peaks.bed',\n",
       " 'VIB_hydrop_11.30k': '../SCREEN_peaks/VIB_hydrop_1.FIXEDCELLS__SCREEN_consensus_peaks.bed',\n",
       " 'VIB_hydrop_12.30k': '../SCREEN_peaks/VIB_hydrop_1.FIXEDCELLS__SCREEN_consensus_peaks.bed',\n",
       " 'VIB_hydrop_2.30k': '../SCREEN_peaks/VIB_hydrop_2.FIXEDCELLS__SCREEN_consensus_peaks.bed',\n",
       " 'VIB_hydrop_21.30k': '../SCREEN_peaks/VIB_hydrop_2.FIXEDCELLS__SCREEN_consensus_peaks.bed',\n",
       " 'VIB_hydrop_22.30k': '../SCREEN_peaks/VIB_hydrop_2.FIXEDCELLS__SCREEN_consensus_peaks.bed'}"
      ]
     },
     "execution_count": 13,
     "metadata": {},
     "output_type": "execute_result"
    }
   ],
   "source": [
    "regions_sub_dict"
   ]
  },
  {
   "cell_type": "code",
   "execution_count": 14,
   "id": "177d09f9-7f1b-4dbc-8969-4f8afca8e12f",
   "metadata": {
    "execution": {
     "iopub.execute_input": "2022-09-16T14:12:11.888900Z",
     "iopub.status.busy": "2022-09-16T14:12:11.888313Z",
     "iopub.status.idle": "2022-09-16T14:12:11.894108Z",
     "shell.execute_reply": "2022-09-16T14:12:11.893529Z"
    },
    "papermill": {
     "duration": 0.012229,
     "end_time": "2022-09-16T14:12:11.894999",
     "exception": false,
     "start_time": "2022-09-16T14:12:11.882770",
     "status": "completed"
    },
    "tags": []
   },
   "outputs": [
    {
     "data": {
      "text/plain": [
       "{'BIO_ddseq_1.30k',\n",
       " 'BIO_ddseq_2.30k',\n",
       " 'BIO_ddseq_3.30k',\n",
       " 'BIO_ddseq_4.30k',\n",
       " 'BRO_mtscatac_1.30k',\n",
       " 'BRO_mtscatac_2.30k',\n",
       " 'CNA_10xmultiome_1.30k',\n",
       " 'CNA_10xmultiome_2.30k',\n",
       " 'CNA_10xv11_1.30k',\n",
       " 'CNA_10xv11_2.30k',\n",
       " 'CNA_10xv11_3.30k',\n",
       " 'CNA_10xv11_4.30k',\n",
       " 'CNA_10xv11_5.30k',\n",
       " 'CNA_10xv2_1.30k',\n",
       " 'CNA_10xv2_2.30k',\n",
       " 'CNA_hydrop_1.30k',\n",
       " 'CNA_hydrop_2.30k',\n",
       " 'CNA_hydrop_3.30k',\n",
       " 'CNA_mtscatac_1.30k',\n",
       " 'CNA_mtscatac_2.30k',\n",
       " 'EPF_hydrop_1.30k',\n",
       " 'EPF_hydrop_2.30k',\n",
       " 'EPF_hydrop_3.30k',\n",
       " 'EPF_hydrop_4.30k',\n",
       " 'HAR_ddseq_1.30k',\n",
       " 'HAR_ddseq_2.30k',\n",
       " 'MDC_mtscatac_1.30k',\n",
       " 'MDC_mtscatac_2.30k',\n",
       " 'OHS_s3atac_1.30k',\n",
       " 'OHS_s3atac_2.30k',\n",
       " 'SAN_10xmultiome_1.30k',\n",
       " 'SAN_10xmultiome_2.30k',\n",
       " 'STA_10xv11_1.30k',\n",
       " 'STA_10xv11_2.30k',\n",
       " 'TXG_10xv11_1.30k',\n",
       " 'TXG_10xv2_1.30k',\n",
       " 'TXG_10xv2_2.30k',\n",
       " 'UCS_ddseq_1.30k',\n",
       " 'UCS_ddseq_2.30k',\n",
       " 'VIB_10xmultiome_1.30k',\n",
       " 'VIB_10xmultiome_2.30k',\n",
       " 'VIB_10xv1_1.30k',\n",
       " 'VIB_10xv1_2.30k',\n",
       " 'VIB_10xv2_1.30k',\n",
       " 'VIB_10xv2_2.30k',\n",
       " 'VIB_hydrop_1.30k',\n",
       " 'VIB_hydrop_11.30k',\n",
       " 'VIB_hydrop_12.30k',\n",
       " 'VIB_hydrop_2.30k',\n",
       " 'VIB_hydrop_21.30k',\n",
       " 'VIB_hydrop_22.30k'}"
      ]
     },
     "execution_count": 14,
     "metadata": {},
     "output_type": "execute_result"
    }
   ],
   "source": [
    "set(regions_sub_dict) == set(fragments_sub_dict)\n",
    "set(regions_sub_dict) - set(fragments_sub_dict)"
   ]
  },
  {
   "cell_type": "code",
   "execution_count": 15,
   "id": "e4524e19-a30c-49d3-a910-5bc39a9e349e",
   "metadata": {
    "execution": {
     "iopub.execute_input": "2022-09-16T14:12:11.906449Z",
     "iopub.status.busy": "2022-09-16T14:12:11.906032Z",
     "iopub.status.idle": "2022-09-16T14:12:11.909734Z",
     "shell.execute_reply": "2022-09-16T14:12:11.909140Z"
    },
    "papermill": {
     "duration": 0.010405,
     "end_time": "2022-09-16T14:12:11.910684",
     "exception": false,
     "start_time": "2022-09-16T14:12:11.900279",
     "status": "completed"
    },
    "tags": []
   },
   "outputs": [],
   "source": [
    "common = set(fragments_sub_dict).intersection(set(regions_sub_dict))"
   ]
  },
  {
   "cell_type": "code",
   "execution_count": 16,
   "id": "13650870-4b93-4373-a7de-dce223fa0d5a",
   "metadata": {
    "execution": {
     "iopub.execute_input": "2022-09-16T14:12:11.922307Z",
     "iopub.status.busy": "2022-09-16T14:12:11.921766Z",
     "iopub.status.idle": "2022-09-16T14:12:11.926140Z",
     "shell.execute_reply": "2022-09-16T14:12:11.925559Z"
    },
    "papermill": {
     "duration": 0.011129,
     "end_time": "2022-09-16T14:12:11.927121",
     "exception": false,
     "start_time": "2022-09-16T14:12:11.915992",
     "status": "completed"
    },
    "tags": []
   },
   "outputs": [
    {
     "data": {
      "text/plain": [
       "0"
      ]
     },
     "execution_count": 16,
     "metadata": {},
     "output_type": "execute_result"
    }
   ],
   "source": [
    "len(common)"
   ]
  },
  {
   "cell_type": "code",
   "execution_count": 17,
   "id": "b0652173-a623-4a34-babb-bfe872ac0bd0",
   "metadata": {
    "execution": {
     "iopub.execute_input": "2022-09-16T14:12:11.938966Z",
     "iopub.status.busy": "2022-09-16T14:12:11.938468Z",
     "iopub.status.idle": "2022-09-16T14:12:11.943194Z",
     "shell.execute_reply": "2022-09-16T14:12:11.942605Z"
    },
    "papermill": {
     "duration": 0.011513,
     "end_time": "2022-09-16T14:12:11.944167",
     "exception": false,
     "start_time": "2022-09-16T14:12:11.932654",
     "status": "completed"
    },
    "tags": []
   },
   "outputs": [],
   "source": [
    "regions_sub_dict = {x: regions_sub_dict[x] for x in list(common)}\n",
    "fragments_sub_dict = {x: fragments_sub_dict[x] for x in list(common)}"
   ]
  },
  {
   "cell_type": "code",
   "execution_count": 18,
   "id": "92ba8eb2-3d7d-4d66-9eed-a92a54433d2e",
   "metadata": {
    "execution": {
     "iopub.execute_input": "2022-09-16T14:12:11.956222Z",
     "iopub.status.busy": "2022-09-16T14:12:11.955715Z",
     "iopub.status.idle": "2022-09-16T14:12:11.959208Z",
     "shell.execute_reply": "2022-09-16T14:12:11.958624Z"
    },
    "papermill": {
     "duration": 0.010469,
     "end_time": "2022-09-16T14:12:11.960103",
     "exception": false,
     "start_time": "2022-09-16T14:12:11.949634",
     "status": "completed"
    },
    "tags": []
   },
   "outputs": [],
   "source": [
    "ray.shutdown()"
   ]
  },
  {
   "cell_type": "code",
   "execution_count": 19,
   "id": "0a585a26",
   "metadata": {
    "execution": {
     "iopub.execute_input": "2022-09-16T14:12:11.972016Z",
     "iopub.status.busy": "2022-09-16T14:12:11.971531Z",
     "iopub.status.idle": "2022-09-16T14:12:11.989898Z",
     "shell.execute_reply": "2022-09-16T14:12:11.989251Z"
    },
    "papermill": {
     "duration": 0.025372,
     "end_time": "2022-09-16T14:12:11.990883",
     "exception": false,
     "start_time": "2022-09-16T14:12:11.965511",
     "status": "completed"
    },
    "tags": []
   },
   "outputs": [
    {
     "name": "stdout",
     "output_type": "stream",
     "text": [
      "All samples already processed.\n"
     ]
    }
   ],
   "source": [
    "n_cores = 16\n",
    "if regions_sub_dict != {}:\n",
    "    samples_sub = list(regions_sub_dict.keys())\n",
    "    blocks = [samples_sub[i : i + n_cores] for i in range(0, len(samples_sub), n_cores)]\n",
    "    for samples_torun_in_block in blocks:\n",
    "        fragments_sub_dict_block = {\n",
    "            key: fragments_sub_dict[key] for key in samples_torun_in_block\n",
    "        }\n",
    "        regions_sub_dict_block = {\n",
    "            key: regions_sub_dict[key] for key in samples_torun_in_block\n",
    "        }\n",
    "\n",
    "        metadata_bc_dict, profile_data_dict = compute_qc_stats(\n",
    "            fragments_dict=fragments_sub_dict_block,\n",
    "            tss_annotation=annotation,\n",
    "            stats=[\n",
    "                \"barcode_rank_plot\",\n",
    "                \"duplicate_rate\",\n",
    "                \"insert_size_distribution\",\n",
    "                \"profile_tss\",\n",
    "                \"frip\",\n",
    "            ],\n",
    "            label_list=None,\n",
    "            path_to_regions=regions_sub_dict_block,\n",
    "            n_cpu=n_cores,\n",
    "            valid_bc=None,\n",
    "            n_frag=10,\n",
    "            n_bc=None,\n",
    "            tss_flank_window=2000,\n",
    "            tss_window=50,\n",
    "            tss_minimum_signal_window=100,\n",
    "            tss_rolling_window=10,\n",
    "            # min_norm=0.2,\n",
    "            remove_duplicates=True,\n",
    "        )\n",
    "\n",
    "        ray.shutdown()\n",
    "        print(f\"Dumping files in {cistopic_qc_out}...\")\n",
    "        for sample in sorted(metadata_bc_dict.keys()):\n",
    "            metadata_bc_dict[sample][\"sample_id\"] = sample\n",
    "            metadata_bc_dict[sample].index = [\n",
    "                x + \"___\" + sample for x in list(metadata_bc_dict[sample].index)\n",
    "            ]\n",
    "            with open(\n",
    "                os.path.join(cistopic_qc_out, f\"{sample}__metadata_bc.pkl\"), \"wb\"\n",
    "            ) as f:\n",
    "                pickle.dump(metadata_bc_dict[sample], f, protocol=4)\n",
    "\n",
    "            with open(\n",
    "                os.path.join(cistopic_qc_out, f\"{sample}__profile_data.pkl\"), \"wb\"\n",
    "            ) as f:\n",
    "                pickle.dump(profile_data_dict[sample], f, protocol=4)\n",
    "else:\n",
    "    print(\"All samples already processed.\")"
   ]
  },
  {
   "cell_type": "markdown",
   "id": "1a1ad8e2",
   "metadata": {
    "papermill": {
     "duration": 0.005382,
     "end_time": "2022-09-16T14:12:12.001799",
     "exception": false,
     "start_time": "2022-09-16T14:12:11.996417",
     "status": "completed"
    },
    "tags": []
   },
   "source": [
    "# Plot"
   ]
  },
  {
   "cell_type": "markdown",
   "id": "76d9a6eb-c74e-41bb-b05b-0c2c36a0a2f9",
   "metadata": {
    "papermill": {
     "duration": 0.005369,
     "end_time": "2022-09-16T14:12:12.012576",
     "exception": false,
     "start_time": "2022-09-16T14:12:12.007207",
     "status": "completed"
    },
    "tags": []
   },
   "source": [
    "Calculating a KDE is simultaneously expensive and scales poorly with increasing n. Therefore, I wrote a multithreaded script that divides the QC array into equal parts (interleaved to avoid biases in the order!) and performs a KDE calculation on each part. Here, Otsu thresholding is used to find the right threshold for minimum fragments and minimum TSS enrichment. ddseq samples have a significantly higher noise floor than the other samples when it comes to fragment distribution. Therefore, the otsu algorithm is performed on all barcodes with a minimum of 300 fragments for the ddseq samples, and a minimum of 100 fragments for all the other samples. I tried to perform this filtering completely independent of sample/technique (e.g. using gaussian mixture modeling, Jenks natural breaks, or multiple step Otsu thresholding) but found that no solution worked perfectly for all samples."
   ]
  },
  {
   "cell_type": "markdown",
   "id": "0332bf6a-0bd8-41d2-9f12-634b2249af11",
   "metadata": {
    "papermill": {
     "duration": 0.005357,
     "end_time": "2022-09-16T14:12:12.023386",
     "exception": false,
     "start_time": "2022-09-16T14:12:12.018029",
     "status": "completed"
    },
    "tags": []
   },
   "source": [
    "This is regulated by the code below in qc_plots.py:\n",
    "```\n",
    "min_otsu_frags_dict = {}\n",
    "for fragments_file in fragments_list:\n",
    "    sample = fragments_file.split(\"/\")[-1].split(\".\")[0]\n",
    "    tech = sample.split('_')[1]\n",
    "    if tech == \"ddseq\":\n",
    "        if sample == \"BIO_ddseq_1\":\n",
    "            min_otsu_frags_dict[sample] = 600\n",
    "        else:\n",
    "            min_otsu_frags_dict[sample] = 300\n",
    "    elif tech == \"hydrop\":\n",
    "        min_otsu_frags_dict[sample] = 300\n",
    "    else:\n",
    "        min_otsu_frags_dict[sample] = 100\n",
    "```"
   ]
  },
  {
   "cell_type": "code",
   "execution_count": 20,
   "id": "0b8bcb35-3db0-4d9c-96d0-c73d04a0d5cf",
   "metadata": {
    "collapsed": true,
    "execution": {
     "iopub.execute_input": "2022-09-16T14:12:12.035148Z",
     "iopub.status.busy": "2022-09-16T14:12:12.034792Z",
     "iopub.status.idle": "2022-09-16T14:12:12.240895Z",
     "shell.execute_reply": "2022-09-16T14:12:12.240005Z"
    },
    "jupyter": {
     "outputs_hidden": true
    },
    "papermill": {
     "duration": 0.213338,
     "end_time": "2022-09-16T14:12:12.242178",
     "exception": false,
     "start_time": "2022-09-16T14:12:12.028840",
     "status": "completed"
    },
    "tags": []
   },
   "outputs": [
    {
     "name": "stdout",
     "output_type": "stream",
     "text": [
      "cat: ../0_resources/scripts/qc_plots.py: No such file or directory\r\n"
     ]
    }
   ],
   "source": [
    "!cat ../0_resources/scripts/qc_plots.py"
   ]
  },
  {
   "cell_type": "markdown",
   "id": "e4019bde",
   "metadata": {
    "execution": {
     "iopub.execute_input": "2022-07-15T09:42:06.802579Z",
     "iopub.status.busy": "2022-07-15T09:42:06.801860Z",
     "iopub.status.idle": "2022-07-15T09:42:06.814527Z",
     "shell.execute_reply": "2022-07-15T09:42:06.813708Z",
     "shell.execute_reply.started": "2022-07-15T09:42:06.802476Z"
    },
    "papermill": {
     "duration": 0.005611,
     "end_time": "2022-09-16T14:12:12.254408",
     "exception": false,
     "start_time": "2022-09-16T14:12:12.248797",
     "status": "completed"
    },
    "tags": []
   },
   "source": [
    "Since multiprocessing does not work with jupyter notebooks, run the following code in terminal:"
   ]
  },
  {
   "cell_type": "markdown",
   "id": "5d53e61b",
   "metadata": {
    "papermill": {
     "duration": 0.005558,
     "end_time": "2022-09-16T14:12:12.265683",
     "exception": false,
     "start_time": "2022-09-16T14:12:12.260125",
     "status": "completed"
    },
    "tags": []
   },
   "source": [
    "```\n",
    "mkdir plots_qc\n",
    "mkdir selected_barcodes\n",
    "SIF=../0_resources/cistopic_image/20220722_pycistopic.sif\n",
    "singularity exec \\\n",
    "    --cleanenv \\\n",
    "    -H $PWD:/home \\\n",
    "    $SIF \\\n",
    "    python ../0_resources/scripts/qc_plots.py\n",
    "```"
   ]
  },
  {
   "cell_type": "markdown",
   "id": "6de4c150-e92a-4060-b992-ae7babd1625a",
   "metadata": {
    "papermill": {
     "duration": 0.005526,
     "end_time": "2022-09-16T14:12:12.277023",
     "exception": false,
     "start_time": "2022-09-16T14:12:12.271497",
     "status": "completed"
    },
    "tags": []
   },
   "source": [
    "And then open the plots:"
   ]
  },
  {
   "cell_type": "code",
   "execution_count": 21,
   "id": "68739afd-bc2c-4fab-ad96-25edf95b163c",
   "metadata": {
    "execution": {
     "iopub.execute_input": "2022-09-16T14:12:12.289227Z",
     "iopub.status.busy": "2022-09-16T14:12:12.288910Z",
     "iopub.status.idle": "2022-09-16T14:12:12.297804Z",
     "shell.execute_reply": "2022-09-16T14:12:12.297185Z"
    },
    "papermill": {
     "duration": 0.016227,
     "end_time": "2022-09-16T14:12:12.298791",
     "exception": false,
     "start_time": "2022-09-16T14:12:12.282564",
     "status": "completed"
    },
    "tags": []
   },
   "outputs": [],
   "source": [
    "metadata_bc_pkl_list = sorted(glob.glob(\"cistopic_qc_out/*metadata_bc.pkl\"))\n",
    "metadata_bc_pkl_path_dict = {}\n",
    "for metadata_bc_pkl_path in metadata_bc_pkl_list:\n",
    "    sample = metadata_bc_pkl_path.split(\"/\")[-1].split(\"__\")[0]\n",
    "    metadata_bc_pkl_path_dict[sample] = metadata_bc_pkl_path\n",
    "\n",
    "for sample in metadata_bc_pkl_path_dict.keys():\n",
    "    if os.path.exists(f\"selected_barcodes/{sample}_bc_passing_filters_otsu.pkl\"):\n",
    "        print(f\"{sample} bc passing filters exists, printing img and skipping\")\n",
    "        display(Image(f\"plots_qc/{sample}_qc_otsu.png\"))\n",
    "    else:\n",
    "        print(\n",
    "            f\"{sample} bc passing filters does not exist yet, generate using qc_plots.py script!\"\n",
    "        )"
   ]
  },
  {
   "cell_type": "markdown",
   "id": "fa5a05ab-0ae5-4804-95d8-b280b86bbedf",
   "metadata": {
    "papermill": {
     "duration": 0.005475,
     "end_time": "2022-09-16T14:12:12.309871",
     "exception": false,
     "start_time": "2022-09-16T14:12:12.304396",
     "status": "completed"
    },
    "tags": []
   },
   "source": [
    "# Write raw barcode file"
   ]
  },
  {
   "cell_type": "markdown",
   "id": "ed437d13-e63c-4fd5-a19b-549c83c3c3f6",
   "metadata": {
    "papermill": {
     "duration": 0.006661,
     "end_time": "2022-09-16T14:12:12.331757",
     "exception": false,
     "start_time": "2022-09-16T14:12:12.325096",
     "status": "completed"
    },
    "tags": []
   },
   "source": [
    "Freemuxlet reads barcodes in the bam file. These barcodes (tag: DB) do not contain the `sample` suffix, which is included in the `*_bc_passing_filters_otsu.txt` files:"
   ]
  },
  {
   "cell_type": "code",
   "execution_count": 22,
   "id": "76c6ae6e-c050-4915-9477-1b567edff53e",
   "metadata": {
    "execution": {
     "iopub.execute_input": "2022-09-16T14:12:12.344701Z",
     "iopub.status.busy": "2022-09-16T14:12:12.344245Z",
     "iopub.status.idle": "2022-09-16T14:12:12.557698Z",
     "shell.execute_reply": "2022-09-16T14:12:12.556825Z"
    },
    "papermill": {
     "duration": 0.221112,
     "end_time": "2022-09-16T14:12:12.558721",
     "exception": false,
     "start_time": "2022-09-16T14:12:12.337609",
     "status": "completed"
    },
    "tags": []
   },
   "outputs": [
    {
     "name": "stdout",
     "output_type": "stream",
     "text": [
      "head: cannot open 'selected_barcodes/BIO_ddseq_1.LIBDS_bc_passing_filters_otsu.txt' for reading: No such file or directory\r\n"
     ]
    }
   ],
   "source": [
    "!head selected_barcodes/BIO_ddseq_1.LIBDS_bc_passing_filters_otsu.txt"
   ]
  },
  {
   "cell_type": "code",
   "execution_count": 23,
   "id": "df7588f2-5917-4e37-98cb-7fd0d2c83590",
   "metadata": {
    "execution": {
     "iopub.execute_input": "2022-09-16T14:12:12.572793Z",
     "iopub.status.busy": "2022-09-16T14:12:12.572288Z",
     "iopub.status.idle": "2022-09-16T14:12:12.580980Z",
     "shell.execute_reply": "2022-09-16T14:12:12.580343Z"
    },
    "papermill": {
     "duration": 0.016229,
     "end_time": "2022-09-16T14:12:12.581953",
     "exception": false,
     "start_time": "2022-09-16T14:12:12.565724",
     "status": "completed"
    },
    "tags": []
   },
   "outputs": [],
   "source": [
    "for file in glob.glob(\"selected_barcodes/*_bc_passing_filters_otsu.txt\"):\n",
    "    print(file)\n",
    "    sample = file.split(\"/\")[-1].split(\"_bc_passing_filters_otsu.txt\")[0]\n",
    "    print(sample)\n",
    "    df = pd.read_csv(file, header=None, index_col=None)\n",
    "\n",
    "    with open(f\"selected_barcodes/{sample}_bc_passing_filters_otsu.RAW.txt\", \"w\") as fp:\n",
    "        for x in df[0]:\n",
    "            # write each item on a new line\n",
    "            fp.write(x.split(\"___\")[0] + \"\\n\")\n",
    "        print(\"Done\")"
   ]
  },
  {
   "cell_type": "code",
   "execution_count": 24,
   "id": "83e00ebf-28af-4f4a-8f2f-d3c073179b2a",
   "metadata": {
    "execution": {
     "iopub.execute_input": "2022-09-16T14:12:12.594208Z",
     "iopub.status.busy": "2022-09-16T14:12:12.593779Z",
     "iopub.status.idle": "2022-09-16T14:12:12.796472Z",
     "shell.execute_reply": "2022-09-16T14:12:12.795633Z"
    },
    "papermill": {
     "duration": 0.209905,
     "end_time": "2022-09-16T14:12:12.797533",
     "exception": false,
     "start_time": "2022-09-16T14:12:12.587628",
     "status": "completed"
    },
    "tags": []
   },
   "outputs": [
    {
     "name": "stdout",
     "output_type": "stream",
     "text": [
      "head: cannot open 'selected_barcodes/BIO_ddseq_1.LIBDS_bc_passing_filters_otsu.RAW.txt' for reading: No such file or directory\r\n"
     ]
    }
   ],
   "source": [
    "!head selected_barcodes/BIO_ddseq_1.LIBDS_bc_passing_filters_otsu.RAW.txt"
   ]
  },
  {
   "cell_type": "code",
   "execution_count": null,
   "id": "1f42804d-a0dd-4797-8573-d1ac4de75f1b",
   "metadata": {
    "papermill": {
     "duration": 0.005685,
     "end_time": "2022-09-16T14:12:12.809197",
     "exception": false,
     "start_time": "2022-09-16T14:12:12.803512",
     "status": "completed"
    },
    "tags": []
   },
   "outputs": [],
   "source": []
  }
 ],
 "metadata": {
  "kernelspec": {
   "display_name": "20220815_pycistopic.sif",
   "language": "python",
   "name": "pycistopic_20220815"
  },
  "language_info": {
   "codemirror_mode": {
    "name": "ipython",
    "version": 3
   },
   "file_extension": ".py",
   "mimetype": "text/x-python",
   "name": "python",
   "nbconvert_exporter": "python",
   "pygments_lexer": "ipython3",
   "version": "3.8.13"
  },
  "papermill": {
   "default_parameters": {},
   "duration": 20.042894,
   "end_time": "2022-09-16T14:12:14.464423",
   "environment_variables": {},
   "exception": null,
   "input_path": "2_run_qc_consensus.ipynb",
   "output_path": "2_run_qc_consensus.OUT.ipynb",
   "parameters": {},
   "start_time": "2022-09-16T14:11:54.421529",
   "version": "2.3.4"
  }
 },
 "nbformat": 4,
 "nbformat_minor": 5
}
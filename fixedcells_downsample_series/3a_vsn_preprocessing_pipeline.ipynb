{
 "cells": [
  {
   "cell_type": "markdown",
   "id": "9c5526cf",
   "metadata": {},
   "source": [
    "# Running vsn"
   ]
  },
  {
   "cell_type": "markdown",
   "id": "8aa67fc1",
   "metadata": {},
   "source": [
    "First, generate a metadata file as described here: https://vsn-pipelines.readthedocs.io/en/latest/scatac-seq.html"
   ]
  },
  {
   "cell_type": "code",
   "execution_count": 1,
   "id": "46af38f8",
   "metadata": {
    "tags": []
   },
   "outputs": [
    {
     "name": "stdout",
     "output_type": "stream",
     "text": [
      "sample_name\ttechnology\tfastq_PE1_path\tfastq_barcode_path\tfastq_PE2_path\n",
      "BIO_ddseq_1\tbiorad\t35k_fastq/BIO_ddseq_1__R1.LIBDS.fastq.gz\t\t35k_fastq/BIO_ddseq_1__R2.LIBDS.fastq.gz\n",
      "BIO_ddseq_2\tbiorad\t35k_fastq/BIO_ddseq_2__R1.LIBDS.fastq.gz\t\t35k_fastq/BIO_ddseq_2__R2.LIBDS.fastq.gz\n",
      "BIO_ddseq_3\tbiorad\t35k_fastq/BIO_ddseq_3__R1.LIBDS.fastq.gz\t\t35k_fastq/BIO_ddseq_3__R2.LIBDS.fastq.gz\n",
      "BIO_ddseq_4\tbiorad\t35k_fastq/BIO_ddseq_4__R1.LIBDS.fastq.gz\t\t35k_fastq/BIO_ddseq_4__R2.LIBDS.fastq.gz\n",
      "BRO_mtscatac_1\tatac_revcomp\t35k_fastq/BRO_mtscatac_1__R1.LIBDS.fastq.gz\t35k_fastq/BRO_mtscatac_1__R2.LIBDS.fastq.gz\t35k_fastq/BRO_mtscatac_1__R3.LIBDS.fastq.gz\n",
      "BRO_mtscatac_2\tatac_revcomp\t35k_fastq/BRO_mtscatac_2__R1.LIBDS.fastq.gz\t35k_fastq/BRO_mtscatac_2__R2.LIBDS.fastq.gz\t35k_fastq/BRO_mtscatac_2__R3.LIBDS.fastq.gz\n",
      "CNA_10xmultiome_1\tmultiome_revcomp\t35k_fastq/CNA_10xmultiome_1__R1.LIBDS.fastq.gz\t35k_fastq/CNA_10xmultiome_1__R2.LIBDS.fastq.gz\t35k_fastq/CNA_10xmultiome_1__R3.LIBDS.fastq.gz\n",
      "CNA_10xmultiome_2\tmultiome_revcomp\t35k_fastq/CNA_10xmultiome_2__R1.LIBDS.fastq.gz\t35k_fastq/CNA_10xmultiome_2__R2.LIBDS.fastq.gz\t35k_fastq/CNA_10xmultiome_2__R3.LIBDS.fastq.gz\n",
      "CNA_10xv11_1\tatac\t35k_fastq/CNA_10xv11_1__R1.LIBDS.fastq.gz\t35k_fastq/CNA_10xv11_1__R2.LIBDS.fastq.gz\t35k_fastq/CNA_10xv11_1__R3.LIBDS.fastq.gz\n",
      "CNA_10xv11_2\tatac\t35k_fastq/CNA_10xv11_2__R1.LIBDS.fastq.gz\t35k_fastq/CNA_10xv11_2__R2.LIBDS.fastq.gz\t35k_fastq/CNA_10xv11_2__R3.LIBDS.fastq.gz\n",
      "CNA_10xv11_3\tatac_revcomp\t35k_fastq/CNA_10xv11_3__R1.LIBDS.fastq.gz\t35k_fastq/CNA_10xv11_3__R2.LIBDS.fastq.gz\t35k_fastq/CNA_10xv11_3__R3.LIBDS.fastq.gz\n",
      "CNA_10xv11_4\tatac_revcomp\t35k_fastq/CNA_10xv11_4__R1.LIBDS.fastq.gz\t35k_fastq/CNA_10xv11_4__R2.LIBDS.fastq.gz\t35k_fastq/CNA_10xv11_4__R3.LIBDS.fastq.gz\n",
      "CNA_10xv11_5\tatac_revcomp\t35k_fastq/CNA_10xv11_5__R1.LIBDS.fastq.gz\t35k_fastq/CNA_10xv11_5__R2.LIBDS.fastq.gz\t35k_fastq/CNA_10xv11_5__R3.LIBDS.fastq.gz\n",
      "CNA_10xv2_1\tatac_revcomp\t35k_fastq/CNA_10xv2_1__R1.LIBDS.fastq.gz\t35k_fastq/CNA_10xv2_1__R2.LIBDS.fastq.gz\t35k_fastq/CNA_10xv2_1__R3.LIBDS.fastq.gz\n",
      "CNA_10xv2_2\tatac_revcomp\t35k_fastq/CNA_10xv2_2__R1.LIBDS.fastq.gz\t35k_fastq/CNA_10xv2_2__R2.LIBDS.fastq.gz\t35k_fastq/CNA_10xv2_2__R3.LIBDS.fastq.gz\n",
      "CNA_hydrop_1\thydrop_2x384\t35k_fastq/CNA_hydrop_1__R1.LIBDS.fastq.gz\t35k_fastq/CNA_hydrop_1__R2.LIBDS.fastq.gz\t35k_fastq/CNA_hydrop_1__R3.LIBDS.fastq.gz\n",
      "CNA_hydrop_2\thydrop_2x384\t35k_fastq/CNA_hydrop_2__R1.LIBDS.fastq.gz\t35k_fastq/CNA_hydrop_2__R2.LIBDS.fastq.gz\t35k_fastq/CNA_hydrop_2__R3.LIBDS.fastq.gz\n",
      "CNA_hydrop_3\thydrop_2x384\t35k_fastq/CNA_hydrop_3__R1.LIBDS.fastq.gz\t35k_fastq/CNA_hydrop_3__R2.LIBDS.fastq.gz\t35k_fastq/CNA_hydrop_3__R3.LIBDS.fastq.gz\n",
      "CNA_mtscatac_1\tatac_revcomp\t35k_fastq/CNA_mtscatac_1__R1.LIBDS.fastq.gz\t35k_fastq/CNA_mtscatac_1__R2.LIBDS.fastq.gz\t35k_fastq/CNA_mtscatac_1__R3.LIBDS.fastq.gz\n",
      "CNA_mtscatac_2\tatac_revcomp\t35k_fastq/CNA_mtscatac_2__R1.LIBDS.fastq.gz\t35k_fastq/CNA_mtscatac_2__R2.LIBDS.fastq.gz\t35k_fastq/CNA_mtscatac_2__R3.LIBDS.fastq.gz\n",
      "EPF_hydrop_1\thydrop_2x384\t35k_fastq/EPF_hydrop_1__R1.LIBDS.fastq.gz\t35k_fastq/EPF_hydrop_1__R2.LIBDS.fastq.gz\t35k_fastq/EPF_hydrop_1__R3.LIBDS.fastq.gz\n",
      "EPF_hydrop_2\thydrop_2x384\t35k_fastq/EPF_hydrop_2__R1.LIBDS.fastq.gz\t35k_fastq/EPF_hydrop_2__R2.LIBDS.fastq.gz\t35k_fastq/EPF_hydrop_2__R3.LIBDS.fastq.gz\n",
      "EPF_hydrop_3\thydrop_2x384\t35k_fastq/EPF_hydrop_3__R1.LIBDS.fastq.gz\t35k_fastq/EPF_hydrop_3__R2.LIBDS.fastq.gz\t35k_fastq/EPF_hydrop_3__R3.LIBDS.fastq.gz\n",
      "EPF_hydrop_4\thydrop_2x384\t35k_fastq/EPF_hydrop_4__R1.LIBDS.fastq.gz\t35k_fastq/EPF_hydrop_4__R2.LIBDS.fastq.gz\t35k_fastq/EPF_hydrop_4__R3.LIBDS.fastq.gz\n",
      "HAR_ddseq_1\tbiorad\t35k_fastq/HAR_ddseq_1__R1.LIBDS.fastq.gz\t\t35k_fastq/HAR_ddseq_1__R2.LIBDS.fastq.gz\n",
      "HAR_ddseq_2\tbiorad\t35k_fastq/HAR_ddseq_2__R1.LIBDS.fastq.gz\t\t35k_fastq/HAR_ddseq_2__R2.LIBDS.fastq.gz\n",
      "MDC_mtscatac_1\tatac_revcomp\t35k_fastq/MDC_mtscatac_1__R1.LIBDS.fastq.gz\t35k_fastq/MDC_mtscatac_1__R2.LIBDS.fastq.gz\t35k_fastq/MDC_mtscatac_1__R3.LIBDS.fastq.gz\n",
      "MDC_mtscatac_2\tatac_revcomp\t35k_fastq/MDC_mtscatac_2__R1.LIBDS.fastq.gz\t35k_fastq/MDC_mtscatac_2__R2.LIBDS.fastq.gz\t35k_fastq/MDC_mtscatac_2__R3.LIBDS.fastq.gz\n",
      "SAN_10xmultiome_1\tmultiome\t35k_fastq/SAN_10xmultiome_1__R1.LIBDS.fastq.gz\t35k_fastq/SAN_10xmultiome_1__R2.LIBDS.fastq.gz\t35k_fastq/SAN_10xmultiome_1__R3.LIBDS.fastq.gz\n",
      "SAN_10xmultiome_2\tmultiome\t35k_fastq/SAN_10xmultiome_2__R1.LIBDS.fastq.gz\t35k_fastq/SAN_10xmultiome_2__R2.LIBDS.fastq.gz\t35k_fastq/SAN_10xmultiome_2__R3.LIBDS.fastq.gz\n",
      "STA_10xv11_1\tatac_revcomp\t35k_fastq/STA_10xv11_1__R1.LIBDS.fastq.gz\t35k_fastq/STA_10xv11_1__R2.LIBDS.fastq.gz\t35k_fastq/STA_10xv11_1__R3.LIBDS.fastq.gz\n",
      "STA_10xv11_2\tatac_revcomp\t35k_fastq/STA_10xv11_2__R1.LIBDS.fastq.gz\t35k_fastq/STA_10xv11_2__R2.LIBDS.fastq.gz\t35k_fastq/STA_10xv11_2__R3.LIBDS.fastq.gz\n",
      "TXG_10xv11_1\tatac_revcomp\t35k_fastq/TXG_10xv11_1__R1.LIBDS.fastq.gz\t35k_fastq/TXG_10xv11_1__R2.LIBDS.fastq.gz\t35k_fastq/TXG_10xv11_1__R3.LIBDS.fastq.gz\n",
      "TXG_10xv2_1\tatac_revcomp\t35k_fastq/TXG_10xv2_1__R1.LIBDS.fastq.gz\t35k_fastq/TXG_10xv2_1__R2.LIBDS.fastq.gz\t35k_fastq/TXG_10xv2_1__R3.LIBDS.fastq.gz\n",
      "TXG_10xv2_2\tatac_revcomp\t35k_fastq/TXG_10xv2_2__R1.LIBDS.fastq.gz\t35k_fastq/TXG_10xv2_2__R2.LIBDS.fastq.gz\t35k_fastq/TXG_10xv2_2__R3.LIBDS.fastq.gz\n",
      "VIB_10xmultiome_1\tmultiome_revcomp\t35k_fastq/VIB_10xmultiome_1__R1.LIBDS.fastq.gz\t35k_fastq/VIB_10xmultiome_1__R2.LIBDS.fastq.gz\t35k_fastq/VIB_10xmultiome_1__R3.LIBDS.fastq.gz\n",
      "VIB_10xmultiome_2\tmultiome_revcomp\t35k_fastq/VIB_10xmultiome_2__R1.LIBDS.fastq.gz\t35k_fastq/VIB_10xmultiome_2__R2.LIBDS.fastq.gz\t35k_fastq/VIB_10xmultiome_2__R3.LIBDS.fastq.gz\n",
      "VIB_10xv1_1\tatac\t35k_fastq/VIB_10xv1_1__R1.LIBDS.fastq.gz\t35k_fastq/VIB_10xv1_1__R2.LIBDS.fastq.gz\t35k_fastq/VIB_10xv1_1__R3.LIBDS.fastq.gz\n",
      "VIB_10xv1_2\tatac\t35k_fastq/VIB_10xv1_2__R1.LIBDS.fastq.gz\t35k_fastq/VIB_10xv1_2__R2.LIBDS.fastq.gz\t35k_fastq/VIB_10xv1_2__R3.LIBDS.fastq.gz\n",
      "VIB_10xv2_1\tatac_revcomp\t35k_fastq/VIB_10xv2_1__R1.LIBDS.fastq.gz\t35k_fastq/VIB_10xv2_1__R2.LIBDS.fastq.gz\t35k_fastq/VIB_10xv2_1__R3.LIBDS.fastq.gz\n",
      "VIB_10xv2_2\tatac_revcomp\t35k_fastq/VIB_10xv2_2__R1.LIBDS.fastq.gz\t35k_fastq/VIB_10xv2_2__R2.LIBDS.fastq.gz\t35k_fastq/VIB_10xv2_2__R3.LIBDS.fastq.gz\n",
      "VIB_hydrop_11\thydrop_2x384\t35k_fastq/VIB_hydrop_11__R1.LIBDS.fastq.gz\t35k_fastq/VIB_hydrop_11__R2.LIBDS.fastq.gz\t35k_fastq/VIB_hydrop_11__R3.LIBDS.fastq.gz\n",
      "VIB_hydrop_12\thydrop_2x384\t35k_fastq/VIB_hydrop_12__R1.LIBDS.fastq.gz\t35k_fastq/VIB_hydrop_12__R2.LIBDS.fastq.gz\t35k_fastq/VIB_hydrop_12__R3.LIBDS.fastq.gz\n",
      "VIB_hydrop_21\thydrop_2x384\t35k_fastq/VIB_hydrop_21__R1.LIBDS.fastq.gz\t35k_fastq/VIB_hydrop_21__R2.LIBDS.fastq.gz\t35k_fastq/VIB_hydrop_21__R3.LIBDS.fastq.gz\n",
      "VIB_hydrop_22\thydrop_2x384\t35k_fastq/VIB_hydrop_22__R1.LIBDS.fastq.gz\t35k_fastq/VIB_hydrop_22__R2.LIBDS.fastq.gz\t35k_fastq/VIB_hydrop_22__R3.LIBDS.fastq.gz\n",
      "OHS_s3atac_1\tOHS_s3atac_1\t35k_fastq/OHS_s3atac_1__R1.LIBDS.fastq.gz\t35k_fastq/OHS_s3atac_1__R2.LIBDS.fastq.gz\t35k_fastq/OHS_s3atac_1__R3.LIBDS.fastq.gz\n",
      "OHS_s3atac_2\tOHS_s3atac_2\t35k_fastq/OHS_s3atac_2__R1.LIBDS.fastq.gz\t35k_fastq/OHS_s3atac_2__R2.LIBDS.fastq.gz\t35k_fastq/OHS_s3atac_2__R3.LIBDS.fastq.gz\n"
     ]
    }
   ],
   "source": [
    "cat metadata.35k.tsv"
   ]
  },
  {
   "cell_type": "markdown",
   "id": "8d1debfd",
   "metadata": {},
   "source": [
    "Generate a config file read by the vsn pipeline. $nwork is a temporary file destination."
   ]
  },
  {
   "cell_type": "code",
   "execution_count": 3,
   "id": "f076965c",
   "metadata": {},
   "outputs": [],
   "source": [
    "VSN=../0_resources/vsn-pipelines/main_atac.nf"
   ]
  },
  {
   "cell_type": "code",
   "execution_count": 17,
   "id": "e82549eb",
   "metadata": {
    "execution": {
     "iopub.execute_input": "2022-06-08T18:22:19.931505Z",
     "iopub.status.busy": "2022-06-08T18:22:19.930474Z",
     "iopub.status.idle": "2022-06-08T18:22:23.634196Z",
     "shell.execute_reply": "2022-06-08T18:22:23.630814Z",
     "shell.execute_reply.started": "2022-06-08T18:22:19.931146Z"
    },
    "tags": []
   },
   "outputs": [
    {
     "name": "stdout",
     "output_type": "stream",
     "text": [
      "mkdir: cannot create directory ‘/scratch/leuven/330/vsc33042/ATAC_BENCHMARK_FULL/’: File exists\n"
     ]
    }
   ],
   "source": [
    "nwork=${VSC_SCRATCH}/ATAC_BENCHMARK_FULL/\n",
    "mkdir $nwork\n",
    "export NXF_WORK=$nwork\n",
    "\n",
    "\n",
    "../0_resources/nextflow/nextflow-21.04.3-all config $VSN \\\n",
    "    -profile atac_preprocess_bap,vsc \\\n",
    "    > atac_preprocess.config"
   ]
  },
  {
   "cell_type": "markdown",
   "id": "5f3d5cae",
   "metadata": {},
   "source": [
    "### now make some changes to the config:\n",
    "* redirect to correct metadata_auto.tsv file\n",
    "* fix BWA parameters\n",
    "    * change the bwa index directory to the right, in this case hg39\n",
    "    * change the bwa executor to local to run on current node\n",
    "    * number of bwa CPUs: better to have 2 forks running with 17 threads than to have 1 fork with 36 threads due to I/O overhead\n",
    "* add whitelists for each sample\n",
    "* check if bap parameters are correct\n",
    "* make sure all output dirs etc. exist\n",
    "* Increase the time limit"
   ]
  },
  {
   "cell_type": "markdown",
   "id": "0f6637f6",
   "metadata": {},
   "source": [
    "Here is a functional config file tailored to our computing environment:"
   ]
  },
  {
   "cell_type": "code",
   "execution_count": 2,
   "id": "85761918",
   "metadata": {
    "execution": {
     "iopub.execute_input": "2023-02-20T13:04:19.985508Z",
     "iopub.status.busy": "2023-02-20T13:04:19.984875Z",
     "iopub.status.idle": "2023-02-20T13:04:20.170576Z",
     "shell.execute_reply": "2023-02-20T13:04:20.169259Z",
     "shell.execute_reply.started": "2023-02-20T13:04:19.985461Z"
    },
    "tags": []
   },
   "outputs": [
    {
     "name": "stdout",
     "output_type": "stream",
     "text": [
      "manifest {\n",
      "   name = 'vib-singlecell-nf/vsn-pipelines'\n",
      "   description = 'A repository of pipelines for single-cell data in Nextflow DSL2'\n",
      "   homePage = 'https://github.com/vib-singlecell-nf/vsn-pipelines'\n",
      "   version = '0.27.0'\n",
      "   mainScript = 'main.nf'\n",
      "   defaultBranch = 'master'\n",
      "   nextflowVersion = '!21.04.3'\n",
      "}\n",
      "\n",
      "params {\n",
      "   global {\n",
      "      project_name = '25k'\n",
      "      outdir = '25k_preprocessing_out'\n",
      "   }\n",
      "   misc {\n",
      "      test {\n",
      "         enabled = false\n",
      "      }\n",
      "   }\n",
      "   utils {\n",
      "      container = 'vibsinglecellnf/utils:0.4.0'\n",
      "      file_converter {\n",
      "         off = 'h5ad'\n",
      "         tagCellWithSampleId = true\n",
      "         remove10xGEMWell = false\n",
      "         useFilteredMatrix = true\n",
      "         makeVarIndexUnique = false\n",
      "      }\n",
      "      publish {\n",
      "         compressionLevel = 6\n",
      "         annotateWithBatchVariableName = false\n",
      "         mode = 'copy'\n",
      "      }\n",
      "   }\n",
      "   atac_preprocess_tools {\n",
      "      mark_duplicates_method = 'MarkDuplicates'\n",
      "      adapter_trimming_method = 'Trim_Galore'\n",
      "   }\n",
      "   data {\n",
      "      atac_preprocess {\n",
      "         metadata = 'metadata.25k.tsv'\n",
      "      }\n",
      "   }\n",
      "   tools {\n",
      "      singlecelltoolkit {\n",
      "         container = 'vibsinglecellnf/singlecelltoolkit:2022-04-15-16314db'\n",
      "         barcode_correction {\n",
      "            max_mismatches = 1\n",
      "            min_frac_bcs_to_find = 0.5\n",
      "            whitelist {\n",
      "                atac = '../../0_resources/whitelists/737K-cratac-v1.txt.gz'\n",
      "                atac_revcomp = '../../0_resources/whitelists/737K-cratac-v1.REVCOMP.txt.gz'\n",
      "                multiome = '../../0_resources/whitelists/737K-arc-v1.txt.gz'\n",
      "                multiome_revcomp = '../../0_resources/whitelists/737K-arc-v1.REVCOMP.txt.gz'\n",
      "                hydrop_2x384 = '../../0_resources/whitelists/hydrop_384x384.REVCOMP.txt.gz'\n",
      "                OHS_s3atac_1 = '../../1_data_repository/s3_atac/whitelist/OHS_s3atac_1.whitelist.txt'\n",
      "                OHS_s3atac_2 = '../../1_data_repository/s3_atac/whitelist/OHS_s3atac_2.whitelist.txt'\n",
      "            }\n",
      "         }\n",
      "         barcode_10x_scatac_fastqs {\n",
      "            uncorrected_bc_tag = 'CR'\n",
      "            barcode_quality_tag = 'CY'\n",
      "         }\n",
      "      }\n",
      "      trimgalore {\n",
      "         container = 'vibsinglecellnf/trimgalore:0.6.6'\n",
      "         trim {\n",
      "            paired = 'true'\n",
      "         }\n",
      "      }\n",
      "      fastp {\n",
      "         container = 'vibsinglecellnf/fastp:0.20.0'\n",
      "         thread = 1\n",
      "         clean_and_fastqc {\n",
      "            length_required = 20\n",
      "            adapter_fasta = '/lustre1/project/stg_00090/scatac_benchmark/0_resources/vsn-pipelines_/src/fastp/assets/fastp.adapters'\n",
      "         }\n",
      "      }\n",
      "      bwamaptools {\n",
      "         container = 'vibsinglecellnf/bwamaptools:bwa-mem2-2.2.1-zlibng-2.0.6'\n",
      "         bwa_fasta = '../../0_resources/genomes/hg38_cflerin/genome.fa'\n",
      "         bwa_version = 'bwa-mem2'\n",
      "      }\n",
      "      gatk {\n",
      "         container = 'broadinstitute/gatk:4.2.0.0'\n",
      "         estimate_library_complexity {\n",
      "            barcode_tag = 'CB'\n",
      "         }\n",
      "      }\n",
      "      barcard {\n",
      "         barcode_multiplet {\n",
      "            report_ipynb = '/src/barcard/bin/barcard_otsu_filtering.ipynb'\n",
      "         }\n",
      "      }\n",
      "   }\n",
      "}\n",
      "\n",
      "process {\n",
      "   executor = 'local'\n",
      "   cpus = 2\n",
      "   memory = '60 GB'\n",
      "   clusterOptions = '-A cluster_account'\n",
      "   withLabel:compute_resources__default {\n",
      "      time = '1h'\n",
      "   }\n",
      "   withLabel:compute_resources__sctk_barcode {\n",
      "      cpus = 2\n",
      "      memory = '20 GB'\n",
      "      maxForks = 8\n",
      "   }\n",
      "   withLabel:compute_resources__barcode_10x_scatac_fastq_5cpus {\n",
      "      cpus = 5\n",
      "      memory = '40 GB'\n",
      "      maxForks = 5\n",
      "   }\n",
      "   withLabel:compute_resources__trimgalore__trim_5cpus {\n",
      "      cpus = 5\n",
      "      memory = '20 GB'\n",
      "      maxForks = 5\n",
      "   }\n",
      "   withLabel:compute_resources__picard__merge_sam_files_and_sort {\n",
      "      cpus = 4\n",
      "      memory = '100 GB'\n",
      "      maxForks = 4\n",
      "   }\n",
      "   withLabel:compute_resources__picard__mark_duplicates_and_sort {\n",
      "      cpus = 8\n",
      "      memory = '100 GB'\n",
      "      maxForks = 4\n",
      "   }\n",
      "   withLabel:compute_resources__sinto__fragments {\n",
      "      cpus = 4\n",
      "      memory = '40 GB'\n",
      "      maxForks = 8\n",
      "   }\n",
      "   withLabel:compute_resources__sinto__sort_fragments {\n",
      "      cpus = 1\n",
      "      memory = '40 GB'\n",
      "      maxForks = 8\n",
      "   }\n",
      "   withLabel:compute_resources__bap_barcode_multiplet_pipeline_8cpus {\n",
      "      cpus = 8\n",
      "      memory = '80 GB'\n",
      "      maxForks = 3\n",
      "   }\n",
      "   withLabel:compute_resources__minimal {\n",
      "      cpus = 1\n",
      "      memory = '1 GB'\n",
      "   }\n",
      "   withLabel:compute_resources__mem {\n",
      "      cpus = 4\n",
      "      memory = '160 GB'\n",
      "   }\n",
      "   withLabel:compute_resources__cpu {\n",
      "      cpus = 20\n",
      "      memory = '80 GB'\n",
      "   }\n",
      "   withLabel:compute_resources__report {\n",
      "      maxForks = 2\n",
      "      cpus = 1\n",
      "      memory = '160 GB'\n",
      "   }\n",
      "   withLabel:compute_resources__24hqueue {\n",
      "      time = '24h'\n",
      "   }\n",
      "   withLabel:compute_resources__bwa_mem {\n",
      "      executor = 'pbs'\n",
      "      cpus = 20\n",
      "      memory = '120 GB'\n",
      "      time = '24h'\n",
      "      maxForks = 2\n",
      "   }\n",
      "}\n",
      "\n",
      "timeline {\n",
      "   enabled = true\n",
      "   file = 'out/nextflow_reports/execution_timeline.html'\n",
      "}\n",
      "\n",
      "report {\n",
      "   enabled = true\n",
      "   file = 'out/nextflow_reports/execution_report.html'\n",
      "}\n",
      "\n",
      "trace {\n",
      "   enabled = true\n",
      "   file = 'out/nextflow_reports/execution_trace.txt'\n",
      "}\n",
      "\n",
      "dag {\n",
      "   enabled = true\n",
      "   file = 'out/nextflow_reports/pipeline_dag.svg'\n",
      "}\n",
      "\n",
      "min {\n",
      "   enabled = false\n",
      "}\n",
      "\n",
      "vsc {\n",
      "   enabled = true\n",
      "}\n",
      "\n",
      "singularity {\n",
      "   enabled = true\n",
      "   autoMounts = true\n",
      "   runOptions = '--cleanenv -H $PWD -B /lustre1,/staging,/data,${VSC_SCRATCH},${VSC_SCRATCH}/tmp:/tmp,${HOME}/.nextflow/assets/'\n",
      "   cacheDir = '/lustre1/project/stg_00090/scatac_benchmark/0_resources/vsn_cache'\n",
      "}\n"
     ]
    }
   ],
   "source": [
    "cat 25k/atac_preprocess_rapid.25k.config"
   ]
  },
  {
   "cell_type": "markdown",
   "id": "702c8f47",
   "metadata": {
    "execution": {
     "iopub.execute_input": "2022-06-09T08:56:14.239433Z",
     "iopub.status.busy": "2022-06-09T08:56:14.239085Z",
     "iopub.status.idle": "2022-06-09T08:56:14.493186Z",
     "shell.execute_reply": "2022-06-09T08:56:14.490236Z",
     "shell.execute_reply.started": "2022-06-09T08:56:14.239394Z"
    }
   },
   "source": [
    "I suggest you run a difftool on this to compare this to your config."
   ]
  },
  {
   "cell_type": "markdown",
   "id": "07fbc2fe",
   "metadata": {},
   "source": [
    "Then, in a tmux session to avoid interruption:"
   ]
  },
  {
   "cell_type": "markdown",
   "id": "d99a42e6-41f2-4c3e-8521-4ea0ba89d1e2",
   "metadata": {},
   "source": [
    "cache dir must be /lustre1/project/stg_00090/scatac_benchmark/0_resources/vsn_cache"
   ]
  },
  {
   "cell_type": "code",
   "execution_count": null,
   "id": "8baa1d5f-60e4-4131-ad62-7d6789aeec61",
   "metadata": {},
   "outputs": [],
   "source": [
    "module load Java/13.0.2\n",
    "\n",
    "NXF=/lustre1/project/stg_00090/scatac_benchmark/0_resources/nextflow/nextflow-21.04.3-all\n",
    "VSN=/lustre1/project/stg_00090/scatac_benchmark/0_resources/vsn-pipelines/main_atac.nf\n",
    "\n",
    "$NXF -C atac_preprocess_rapid.25k.config run $VSN -entry atac_preprocess_rapid"
   ]
  },
  {
   "cell_type": "code",
   "execution_count": null,
   "id": "53c3788a-b7f4-4170-a5db-4f703f6e5990",
   "metadata": {},
   "outputs": [],
   "source": [
    "module load Java/13.0.2\n",
    "\n",
    "NXF=/lustre1/project/stg_00090/scatac_benchmark/0_resources/nextflow/nextflow-21.04.3-all\n",
    "VSN=/lustre1/project/stg_00090/scatac_benchmark/0_resources/vsn-pipelines/main_atac.nf\n",
    "\n",
    "$NXF -C atac_preprocess_rapid.35k.config run $VSN -entry atac_preprocess_rapid"
   ]
  }
 ],
 "metadata": {
  "kernelspec": {
   "display_name": "Bash",
   "language": "bash",
   "name": "bash"
  },
  "language_info": {
   "codemirror_mode": "shell",
   "file_extension": ".sh",
   "mimetype": "text/x-sh",
   "name": "bash"
  }
 },
 "nbformat": 4,
 "nbformat_minor": 5
}

{
 "cells": [
  {
   "cell_type": "markdown",
   "metadata": {},
   "source": [
    "HyDrop produces a steady stream of cell/bead emulsion. The user can pick the volume of emulsion for droplet PCR and downstream processing. A large emulsion volume will lead to fewer steps downstream, and thus less work to do. However, if the number of cells is too high relative to the barcode complexity (total number of barcodes available to index cells), the odds of barcode collisions (two different cells receiving the same barcode by chance) increases according to a poisson distribution.  \n",
    "\n",
    "For each replicate, we created an emulsion containing the equivalent of 3000 recovered cells. We split each of this emulsion into two parts, and indexed them separately to avoid these barcode collisions. We do this only with the 384x384 version of hydrop, as the barcode complexity is only ~140k compared to the 96x96x96 complexity of ~880k.\n",
    "\n",
    "These aliquots are manifested as such:"
   ]
  },
  {
   "cell_type": "code",
   "execution_count": 2,
   "metadata": {},
   "outputs": [
    {
     "name": "stdout",
     "output_type": "stream",
     "text": [
      "10k/10k_preprocessing_out/data/fragments/VIB_hydrop_11.10k.fragments.raw.tsv.gz\n",
      "10k/10k_preprocessing_out/data/fragments/VIB_hydrop_11.10k.fragments.tsv.gz\n",
      "10k/10k_preprocessing_out/data/fragments/VIB_hydrop_12.10k.fragments.raw.tsv.gz\n",
      "10k/10k_preprocessing_out/data/fragments/VIB_hydrop_12.10k.fragments.tsv.gz\n",
      "10k/10k_preprocessing_out/data/fragments/VIB_hydrop_21.10k.fragments.raw.tsv.gz\n",
      "10k/10k_preprocessing_out/data/fragments/VIB_hydrop_21.10k.fragments.tsv.gz\n",
      "10k/10k_preprocessing_out/data/fragments/VIB_hydrop_22.10k.fragments.raw.tsv.gz\n",
      "10k/10k_preprocessing_out/data/fragments/VIB_hydrop_22.10k.fragments.tsv.gz\n",
      "15k/15k_preprocessing_out/data/fragments/VIB_hydrop_11.15k.fragments.raw.tsv.gz\n",
      "15k/15k_preprocessing_out/data/fragments/VIB_hydrop_11.15k.fragments.tsv.gz\n",
      "15k/15k_preprocessing_out/data/fragments/VIB_hydrop_12.15k.fragments.raw.tsv.gz\n",
      "15k/15k_preprocessing_out/data/fragments/VIB_hydrop_12.15k.fragments.tsv.gz\n",
      "15k/15k_preprocessing_out/data/fragments/VIB_hydrop_21.15k.fragments.raw.tsv.gz\n",
      "15k/15k_preprocessing_out/data/fragments/VIB_hydrop_21.15k.fragments.tsv.gz\n",
      "15k/15k_preprocessing_out/data/fragments/VIB_hydrop_22.15k.fragments.raw.tsv.gz\n",
      "15k/15k_preprocessing_out/data/fragments/VIB_hydrop_22.15k.fragments.tsv.gz\n",
      "20k/20k_preprocessing_out/data/fragments/VIB_hydrop_11.20k.fragments.raw.tsv.gz\n",
      "20k/20k_preprocessing_out/data/fragments/VIB_hydrop_11.20k.fragments.tsv.gz\n",
      "20k/20k_preprocessing_out/data/fragments/VIB_hydrop_12.20k.fragments.raw.tsv.gz\n",
      "20k/20k_preprocessing_out/data/fragments/VIB_hydrop_12.20k.fragments.tsv.gz\n",
      "20k/20k_preprocessing_out/data/fragments/VIB_hydrop_21.20k.fragments.raw.tsv.gz\n",
      "20k/20k_preprocessing_out/data/fragments/VIB_hydrop_21.20k.fragments.tsv.gz\n",
      "20k/20k_preprocessing_out/data/fragments/VIB_hydrop_22.20k.fragments.raw.tsv.gz\n",
      "20k/20k_preprocessing_out/data/fragments/VIB_hydrop_22.20k.fragments.tsv.gz\n",
      "25k/25k_preprocessing_out/data/fragments/VIB_hydrop_11.25k.fragments.raw.tsv.gz\n",
      "25k/25k_preprocessing_out/data/fragments/VIB_hydrop_11.25k.fragments.tsv.gz\n",
      "25k/25k_preprocessing_out/data/fragments/VIB_hydrop_12.25k.fragments.raw.tsv.gz\n",
      "25k/25k_preprocessing_out/data/fragments/VIB_hydrop_12.25k.fragments.tsv.gz\n",
      "25k/25k_preprocessing_out/data/fragments/VIB_hydrop_21.25k.fragments.raw.tsv.gz\n",
      "25k/25k_preprocessing_out/data/fragments/VIB_hydrop_21.25k.fragments.tsv.gz\n",
      "25k/25k_preprocessing_out/data/fragments/VIB_hydrop_22.25k.fragments.raw.tsv.gz\n",
      "25k/25k_preprocessing_out/data/fragments/VIB_hydrop_22.25k.fragments.tsv.gz\n",
      "30k/30k_preprocessing_out/data/fragments/VIB_hydrop_11.30k.fragments.raw.tsv.gz\n",
      "30k/30k_preprocessing_out/data/fragments/VIB_hydrop_11.30k.fragments.tsv.gz\n",
      "30k/30k_preprocessing_out/data/fragments/VIB_hydrop_12.30k.fragments.raw.tsv.gz\n",
      "30k/30k_preprocessing_out/data/fragments/VIB_hydrop_12.30k.fragments.tsv.gz\n",
      "30k/30k_preprocessing_out/data/fragments/VIB_hydrop_21.30k.fragments.raw.tsv.gz\n",
      "30k/30k_preprocessing_out/data/fragments/VIB_hydrop_21.30k.fragments.tsv.gz\n",
      "30k/30k_preprocessing_out/data/fragments/VIB_hydrop_22.30k.fragments.raw.tsv.gz\n",
      "30k/30k_preprocessing_out/data/fragments/VIB_hydrop_22.30k.fragments.tsv.gz\n",
      "35k/35k_preprocessing_out/data/fragments/VIB_hydrop_11.35k.fragments.raw.tsv.gz\n",
      "35k/35k_preprocessing_out/data/fragments/VIB_hydrop_11.35k.fragments.tsv.gz\n",
      "35k/35k_preprocessing_out/data/fragments/VIB_hydrop_12.35k.fragments.raw.tsv.gz\n",
      "35k/35k_preprocessing_out/data/fragments/VIB_hydrop_12.35k.fragments.tsv.gz\n",
      "35k/35k_preprocessing_out/data/fragments/VIB_hydrop_21.35k.fragments.raw.tsv.gz\n",
      "35k/35k_preprocessing_out/data/fragments/VIB_hydrop_21.35k.fragments.tsv.gz\n",
      "35k/35k_preprocessing_out/data/fragments/VIB_hydrop_22.35k.fragments.raw.tsv.gz\n",
      "35k/35k_preprocessing_out/data/fragments/VIB_hydrop_22.35k.fragments.tsv.gz\n",
      "5k/5k_preprocessing_out/data/fragments/VIB_hydrop_11.5k.fragments.raw.tsv.gz\n",
      "5k/5k_preprocessing_out/data/fragments/VIB_hydrop_11.5k.fragments.tsv.gz\n",
      "5k/5k_preprocessing_out/data/fragments/VIB_hydrop_12.5k.fragments.raw.tsv.gz\n",
      "5k/5k_preprocessing_out/data/fragments/VIB_hydrop_12.5k.fragments.tsv.gz\n",
      "5k/5k_preprocessing_out/data/fragments/VIB_hydrop_21.5k.fragments.raw.tsv.gz\n",
      "5k/5k_preprocessing_out/data/fragments/VIB_hydrop_21.5k.fragments.tsv.gz\n",
      "5k/5k_preprocessing_out/data/fragments/VIB_hydrop_22.5k.fragments.raw.tsv.gz\n",
      "5k/5k_preprocessing_out/data/fragments/VIB_hydrop_22.5k.fragments.tsv.gz\n"
     ]
    }
   ],
   "source": [
    "!ls *k/*k_preprocessing_out/data/fragments/VIB*hydrop*.tsv.gz"
   ]
  },
  {
   "cell_type": "markdown",
   "metadata": {},
   "source": [
    "These aliquot fragments files each bear a number denoting replicate-aliquot. e.g. `VIB_hydrop_21` corresponds to aliquot 1 from replicate 2. It is clear that the two fragments file originating from the same emulsion can be merged into a single fragments file. In order to do this however, we must append the aliquot number to each aliquot's barcodes. If we did not do this, then we would not be able to distinguish different cells which by chance were indexed with the same barcode, but in different aliquots. This is done below."
   ]
  },
  {
   "cell_type": "markdown",
   "metadata": {},
   "source": [
    "# Merge fragments per-sample and append samplename"
   ]
  },
  {
   "cell_type": "markdown",
   "metadata": {},
   "source": [
    "Then, for each aliquot, add a unique identifier to each fragments file barcode which denotes the sample and aliquot origin."
   ]
  },
  {
   "cell_type": "code",
   "execution_count": 4,
   "metadata": {},
   "outputs": [],
   "source": [
    "import glob\n",
    "\n",
    "%load_ext lab_black"
   ]
  },
  {
   "cell_type": "code",
   "execution_count": 16,
   "metadata": {},
   "outputs": [
    {
     "data": {
      "text/plain": [
       "['10k/10k_preprocessing_out/data/fragments/VIB_hydrop_11.10k.fragments.tsv.gz',\n",
       " '10k/10k_preprocessing_out/data/fragments/VIB_hydrop_12.10k.fragments.tsv.gz',\n",
       " '10k/10k_preprocessing_out/data/fragments/VIB_hydrop_21.10k.fragments.tsv.gz',\n",
       " '10k/10k_preprocessing_out/data/fragments/VIB_hydrop_22.10k.fragments.tsv.gz',\n",
       " '15k/15k_preprocessing_out/data/fragments/VIB_hydrop_11.15k.fragments.tsv.gz',\n",
       " '15k/15k_preprocessing_out/data/fragments/VIB_hydrop_12.15k.fragments.tsv.gz',\n",
       " '15k/15k_preprocessing_out/data/fragments/VIB_hydrop_21.15k.fragments.tsv.gz',\n",
       " '15k/15k_preprocessing_out/data/fragments/VIB_hydrop_22.15k.fragments.tsv.gz',\n",
       " '20k/20k_preprocessing_out/data/fragments/VIB_hydrop_11.20k.fragments.tsv.gz',\n",
       " '20k/20k_preprocessing_out/data/fragments/VIB_hydrop_12.20k.fragments.tsv.gz',\n",
       " '20k/20k_preprocessing_out/data/fragments/VIB_hydrop_21.20k.fragments.tsv.gz',\n",
       " '20k/20k_preprocessing_out/data/fragments/VIB_hydrop_22.20k.fragments.tsv.gz',\n",
       " '25k/25k_preprocessing_out/data/fragments/VIB_hydrop_11.25k.fragments.tsv.gz',\n",
       " '25k/25k_preprocessing_out/data/fragments/VIB_hydrop_12.25k.fragments.tsv.gz',\n",
       " '25k/25k_preprocessing_out/data/fragments/VIB_hydrop_21.25k.fragments.tsv.gz',\n",
       " '25k/25k_preprocessing_out/data/fragments/VIB_hydrop_22.25k.fragments.tsv.gz',\n",
       " '30k/30k_preprocessing_out/data/fragments/VIB_hydrop_11.30k.fragments.tsv.gz',\n",
       " '30k/30k_preprocessing_out/data/fragments/VIB_hydrop_12.30k.fragments.tsv.gz',\n",
       " '30k/30k_preprocessing_out/data/fragments/VIB_hydrop_21.30k.fragments.tsv.gz',\n",
       " '30k/30k_preprocessing_out/data/fragments/VIB_hydrop_22.30k.fragments.tsv.gz',\n",
       " '35k/35k_preprocessing_out/data/fragments/VIB_hydrop_11.35k.fragments.tsv.gz',\n",
       " '35k/35k_preprocessing_out/data/fragments/VIB_hydrop_12.35k.fragments.tsv.gz',\n",
       " '35k/35k_preprocessing_out/data/fragments/VIB_hydrop_21.35k.fragments.tsv.gz',\n",
       " '35k/35k_preprocessing_out/data/fragments/VIB_hydrop_22.35k.fragments.tsv.gz',\n",
       " '5k/5k_preprocessing_out/data/fragments/VIB_hydrop_11.5k.fragments.tsv.gz',\n",
       " '5k/5k_preprocessing_out/data/fragments/VIB_hydrop_12.5k.fragments.tsv.gz',\n",
       " '5k/5k_preprocessing_out/data/fragments/VIB_hydrop_21.5k.fragments.tsv.gz',\n",
       " '5k/5k_preprocessing_out/data/fragments/VIB_hydrop_22.5k.fragments.tsv.gz']"
      ]
     },
     "execution_count": 16,
     "metadata": {},
     "output_type": "execute_result"
    }
   ],
   "source": [
    "fragments_paths"
   ]
  },
  {
   "cell_type": "code",
   "execution_count": 17,
   "metadata": {},
   "outputs": [
    {
     "data": {
      "text/plain": [
       "['VIB_hydrop_1.10k',\n",
       " 'VIB_hydrop_1.15k',\n",
       " 'VIB_hydrop_1.20k',\n",
       " 'VIB_hydrop_1.25k',\n",
       " 'VIB_hydrop_1.30k',\n",
       " 'VIB_hydrop_1.35k',\n",
       " 'VIB_hydrop_1.5k',\n",
       " 'VIB_hydrop_2.10k',\n",
       " 'VIB_hydrop_2.15k',\n",
       " 'VIB_hydrop_2.20k',\n",
       " 'VIB_hydrop_2.25k',\n",
       " 'VIB_hydrop_2.30k',\n",
       " 'VIB_hydrop_2.35k',\n",
       " 'VIB_hydrop_2.5k']"
      ]
     },
     "execution_count": 17,
     "metadata": {},
     "output_type": "execute_result"
    }
   ],
   "source": [
    "supersamples"
   ]
  },
  {
   "cell_type": "code",
   "execution_count": 20,
   "metadata": {},
   "outputs": [
    {
     "name": "stdout",
     "output_type": "stream",
     "text": [
      "VIB_hydrop_1.10k\n",
      "\tzcat 10k/10k_preprocessing_out/data/fragments/VIB_hydrop_11.10k.fragments.tsv.gz | mawk '{ print $1 \"\\t\" $2 \"\\t\" $3 \"\\t\" $4 \"-1\\t\" $5}' | bgzip -@ 4 > 10k/10k_preprocessing_out/data/fragments/VIB_hydrop_11.10k.fragments.id.tsv.gz\n",
      "\tzcat 10k/10k_preprocessing_out/data/fragments/VIB_hydrop_12.10k.fragments.tsv.gz | mawk '{ print $1 \"\\t\" $2 \"\\t\" $3 \"\\t\" $4 \"-2\\t\" $5}' | bgzip -@ 4 > 10k/10k_preprocessing_out/data/fragments/VIB_hydrop_12.10k.fragments.id.tsv.gz\n",
      "VIB_hydrop_1.15k\n",
      "\tzcat 15k/15k_preprocessing_out/data/fragments/VIB_hydrop_11.15k.fragments.tsv.gz | mawk '{ print $1 \"\\t\" $2 \"\\t\" $3 \"\\t\" $4 \"-1\\t\" $5}' | bgzip -@ 4 > 15k/15k_preprocessing_out/data/fragments/VIB_hydrop_11.15k.fragments.id.tsv.gz\n",
      "\tzcat 15k/15k_preprocessing_out/data/fragments/VIB_hydrop_12.15k.fragments.tsv.gz | mawk '{ print $1 \"\\t\" $2 \"\\t\" $3 \"\\t\" $4 \"-2\\t\" $5}' | bgzip -@ 4 > 15k/15k_preprocessing_out/data/fragments/VIB_hydrop_12.15k.fragments.id.tsv.gz\n",
      "VIB_hydrop_1.20k\n",
      "\tzcat 20k/20k_preprocessing_out/data/fragments/VIB_hydrop_11.20k.fragments.tsv.gz | mawk '{ print $1 \"\\t\" $2 \"\\t\" $3 \"\\t\" $4 \"-1\\t\" $5}' | bgzip -@ 4 > 20k/20k_preprocessing_out/data/fragments/VIB_hydrop_11.20k.fragments.id.tsv.gz\n",
      "\tzcat 20k/20k_preprocessing_out/data/fragments/VIB_hydrop_12.20k.fragments.tsv.gz | mawk '{ print $1 \"\\t\" $2 \"\\t\" $3 \"\\t\" $4 \"-2\\t\" $5}' | bgzip -@ 4 > 20k/20k_preprocessing_out/data/fragments/VIB_hydrop_12.20k.fragments.id.tsv.gz\n",
      "VIB_hydrop_1.25k\n",
      "\tzcat 25k/25k_preprocessing_out/data/fragments/VIB_hydrop_11.25k.fragments.tsv.gz | mawk '{ print $1 \"\\t\" $2 \"\\t\" $3 \"\\t\" $4 \"-1\\t\" $5}' | bgzip -@ 4 > 25k/25k_preprocessing_out/data/fragments/VIB_hydrop_11.25k.fragments.id.tsv.gz\n",
      "\tzcat 25k/25k_preprocessing_out/data/fragments/VIB_hydrop_12.25k.fragments.tsv.gz | mawk '{ print $1 \"\\t\" $2 \"\\t\" $3 \"\\t\" $4 \"-2\\t\" $5}' | bgzip -@ 4 > 25k/25k_preprocessing_out/data/fragments/VIB_hydrop_12.25k.fragments.id.tsv.gz\n",
      "VIB_hydrop_1.30k\n",
      "\tzcat 30k/30k_preprocessing_out/data/fragments/VIB_hydrop_11.30k.fragments.tsv.gz | mawk '{ print $1 \"\\t\" $2 \"\\t\" $3 \"\\t\" $4 \"-1\\t\" $5}' | bgzip -@ 4 > 30k/30k_preprocessing_out/data/fragments/VIB_hydrop_11.30k.fragments.id.tsv.gz\n",
      "\tzcat 30k/30k_preprocessing_out/data/fragments/VIB_hydrop_12.30k.fragments.tsv.gz | mawk '{ print $1 \"\\t\" $2 \"\\t\" $3 \"\\t\" $4 \"-2\\t\" $5}' | bgzip -@ 4 > 30k/30k_preprocessing_out/data/fragments/VIB_hydrop_12.30k.fragments.id.tsv.gz\n",
      "VIB_hydrop_1.35k\n",
      "\tzcat 35k/35k_preprocessing_out/data/fragments/VIB_hydrop_11.35k.fragments.tsv.gz | mawk '{ print $1 \"\\t\" $2 \"\\t\" $3 \"\\t\" $4 \"-1\\t\" $5}' | bgzip -@ 4 > 35k/35k_preprocessing_out/data/fragments/VIB_hydrop_11.35k.fragments.id.tsv.gz\n",
      "\tzcat 35k/35k_preprocessing_out/data/fragments/VIB_hydrop_12.35k.fragments.tsv.gz | mawk '{ print $1 \"\\t\" $2 \"\\t\" $3 \"\\t\" $4 \"-2\\t\" $5}' | bgzip -@ 4 > 35k/35k_preprocessing_out/data/fragments/VIB_hydrop_12.35k.fragments.id.tsv.gz\n",
      "VIB_hydrop_1.5k\n",
      "\tzcat 5k/5k_preprocessing_out/data/fragments/VIB_hydrop_11.5k.fragments.tsv.gz | mawk '{ print $1 \"\\t\" $2 \"\\t\" $3 \"\\t\" $4 \"-1\\t\" $5}' | bgzip -@ 4 > 5k/5k_preprocessing_out/data/fragments/VIB_hydrop_11.5k.fragments.id.tsv.gz\n",
      "\tzcat 5k/5k_preprocessing_out/data/fragments/VIB_hydrop_12.5k.fragments.tsv.gz | mawk '{ print $1 \"\\t\" $2 \"\\t\" $3 \"\\t\" $4 \"-2\\t\" $5}' | bgzip -@ 4 > 5k/5k_preprocessing_out/data/fragments/VIB_hydrop_12.5k.fragments.id.tsv.gz\n",
      "VIB_hydrop_2.10k\n",
      "\tzcat 10k/10k_preprocessing_out/data/fragments/VIB_hydrop_21.10k.fragments.tsv.gz | mawk '{ print $1 \"\\t\" $2 \"\\t\" $3 \"\\t\" $4 \"-1\\t\" $5}' | bgzip -@ 4 > 10k/10k_preprocessing_out/data/fragments/VIB_hydrop_21.10k.fragments.id.tsv.gz\n",
      "\tzcat 10k/10k_preprocessing_out/data/fragments/VIB_hydrop_22.10k.fragments.tsv.gz | mawk '{ print $1 \"\\t\" $2 \"\\t\" $3 \"\\t\" $4 \"-2\\t\" $5}' | bgzip -@ 4 > 10k/10k_preprocessing_out/data/fragments/VIB_hydrop_22.10k.fragments.id.tsv.gz\n",
      "VIB_hydrop_2.15k\n",
      "\tzcat 15k/15k_preprocessing_out/data/fragments/VIB_hydrop_21.15k.fragments.tsv.gz | mawk '{ print $1 \"\\t\" $2 \"\\t\" $3 \"\\t\" $4 \"-1\\t\" $5}' | bgzip -@ 4 > 15k/15k_preprocessing_out/data/fragments/VIB_hydrop_21.15k.fragments.id.tsv.gz\n",
      "\tzcat 15k/15k_preprocessing_out/data/fragments/VIB_hydrop_22.15k.fragments.tsv.gz | mawk '{ print $1 \"\\t\" $2 \"\\t\" $3 \"\\t\" $4 \"-2\\t\" $5}' | bgzip -@ 4 > 15k/15k_preprocessing_out/data/fragments/VIB_hydrop_22.15k.fragments.id.tsv.gz\n",
      "VIB_hydrop_2.20k\n",
      "\tzcat 20k/20k_preprocessing_out/data/fragments/VIB_hydrop_21.20k.fragments.tsv.gz | mawk '{ print $1 \"\\t\" $2 \"\\t\" $3 \"\\t\" $4 \"-1\\t\" $5}' | bgzip -@ 4 > 20k/20k_preprocessing_out/data/fragments/VIB_hydrop_21.20k.fragments.id.tsv.gz\n",
      "\tzcat 20k/20k_preprocessing_out/data/fragments/VIB_hydrop_22.20k.fragments.tsv.gz | mawk '{ print $1 \"\\t\" $2 \"\\t\" $3 \"\\t\" $4 \"-2\\t\" $5}' | bgzip -@ 4 > 20k/20k_preprocessing_out/data/fragments/VIB_hydrop_22.20k.fragments.id.tsv.gz\n",
      "VIB_hydrop_2.25k\n",
      "\tzcat 25k/25k_preprocessing_out/data/fragments/VIB_hydrop_21.25k.fragments.tsv.gz | mawk '{ print $1 \"\\t\" $2 \"\\t\" $3 \"\\t\" $4 \"-1\\t\" $5}' | bgzip -@ 4 > 25k/25k_preprocessing_out/data/fragments/VIB_hydrop_21.25k.fragments.id.tsv.gz\n",
      "\tzcat 25k/25k_preprocessing_out/data/fragments/VIB_hydrop_22.25k.fragments.tsv.gz | mawk '{ print $1 \"\\t\" $2 \"\\t\" $3 \"\\t\" $4 \"-2\\t\" $5}' | bgzip -@ 4 > 25k/25k_preprocessing_out/data/fragments/VIB_hydrop_22.25k.fragments.id.tsv.gz\n",
      "VIB_hydrop_2.30k\n",
      "\tzcat 30k/30k_preprocessing_out/data/fragments/VIB_hydrop_21.30k.fragments.tsv.gz | mawk '{ print $1 \"\\t\" $2 \"\\t\" $3 \"\\t\" $4 \"-1\\t\" $5}' | bgzip -@ 4 > 30k/30k_preprocessing_out/data/fragments/VIB_hydrop_21.30k.fragments.id.tsv.gz\n",
      "\tzcat 30k/30k_preprocessing_out/data/fragments/VIB_hydrop_22.30k.fragments.tsv.gz | mawk '{ print $1 \"\\t\" $2 \"\\t\" $3 \"\\t\" $4 \"-2\\t\" $5}' | bgzip -@ 4 > 30k/30k_preprocessing_out/data/fragments/VIB_hydrop_22.30k.fragments.id.tsv.gz\n",
      "VIB_hydrop_2.35k\n",
      "\tzcat 35k/35k_preprocessing_out/data/fragments/VIB_hydrop_21.35k.fragments.tsv.gz | mawk '{ print $1 \"\\t\" $2 \"\\t\" $3 \"\\t\" $4 \"-1\\t\" $5}' | bgzip -@ 4 > 35k/35k_preprocessing_out/data/fragments/VIB_hydrop_21.35k.fragments.id.tsv.gz\n",
      "\tzcat 35k/35k_preprocessing_out/data/fragments/VIB_hydrop_22.35k.fragments.tsv.gz | mawk '{ print $1 \"\\t\" $2 \"\\t\" $3 \"\\t\" $4 \"-2\\t\" $5}' | bgzip -@ 4 > 35k/35k_preprocessing_out/data/fragments/VIB_hydrop_22.35k.fragments.id.tsv.gz\n",
      "VIB_hydrop_2.5k\n",
      "\tzcat 5k/5k_preprocessing_out/data/fragments/VIB_hydrop_21.5k.fragments.tsv.gz | mawk '{ print $1 \"\\t\" $2 \"\\t\" $3 \"\\t\" $4 \"-1\\t\" $5}' | bgzip -@ 4 > 5k/5k_preprocessing_out/data/fragments/VIB_hydrop_21.5k.fragments.id.tsv.gz\n",
      "\tzcat 5k/5k_preprocessing_out/data/fragments/VIB_hydrop_22.5k.fragments.tsv.gz | mawk '{ print $1 \"\\t\" $2 \"\\t\" $3 \"\\t\" $4 \"-2\\t\" $5}' | bgzip -@ 4 > 5k/5k_preprocessing_out/data/fragments/VIB_hydrop_22.5k.fragments.id.tsv.gz\n"
     ]
    }
   ],
   "source": [
    "fragments_dir = \"*k/*k_preprocessing_out/data/fragments/\"\n",
    "fragments_paths = sorted(glob.glob(fragments_dir + \"VIB*hydrop*fragments.tsv.gz\"))\n",
    "supersamples = sorted(\n",
    "    list(\n",
    "        set(\n",
    "            [\n",
    "                x.split(\"/\")[-1]\n",
    "                .replace(\".fragments.tsv.gz\", \"\")\n",
    "                .replace(\"11\", \"1\")\n",
    "                .replace(\"12\", \"1\")\n",
    "                .replace(\"21\", \"2\")\n",
    "                .replace(\"22\", \"2\")\n",
    "                for x in fragments_paths\n",
    "            ]\n",
    "        )\n",
    "    )\n",
    ")\n",
    "\n",
    "parallel_filename = \"add_identifier.parallel\"\n",
    "with open(parallel_filename, \"w\") as f:\n",
    "    for supersample in supersamples:\n",
    "        depth = supersample.split(\".\")[-1]\n",
    "        print(supersample)\n",
    "        for subsample_number in [1, 2]:\n",
    "            subsample = supersample.replace(\"_1\", f\"_1{str(subsample_number)}\").replace(\n",
    "                \"_2\", f\"_2{str(subsample_number)}\"\n",
    "            )\n",
    "            fragments = (\n",
    "                fragments_dir.replace(\"*k\", depth) + subsample + \".fragments.tsv.gz\"\n",
    "            )\n",
    "            newfragments = (\n",
    "                fragments_dir.replace(\"*k\", depth) + subsample + \".fragments.id.tsv.gz\"\n",
    "            )\n",
    "            command = (\n",
    "                f\"zcat {fragments}\"\n",
    "                + ' | mawk \\'{ print $1 \"\\\\t\" $2 \"\\\\t\" $3 \"\\\\t\" $4 \"-'\n",
    "                + str(subsample_number)\n",
    "                + \"\\\\t\\\" $5}'\"\n",
    "                + f\" | bgzip -@ 4 > {newfragments}\"\n",
    "            )\n",
    "            print(\"\\t\" + command)\n",
    "            f.write(command + \"\\n\")"
   ]
  },
  {
   "cell_type": "code",
   "execution_count": 21,
   "metadata": {
    "tags": []
   },
   "outputs": [
    {
     "name": "stdout",
     "output_type": "stream",
     "text": [
      "/bin/bash: line 1: parallel: command not found\n",
      "cat: write error: Broken pipe\n"
     ]
    }
   ],
   "source": [
    "module load HTSlib\n",
    "cat add_identifier.parallel | parallel -j 8 --progress"
   ]
  },
  {
   "cell_type": "markdown",
   "metadata": {},
   "source": [
    "Then merge the fragments files from same run"
   ]
  },
  {
   "cell_type": "code",
   "execution_count": 40,
   "metadata": {},
   "outputs": [
    {
     "name": "stdout",
     "output_type": "stream",
     "text": [
      "VIB_hydrop_1\n",
      "\tzcat 10k/10k_preprocessing_out/data/fragments/VIB_hydrop_11.10k.fragments.id.tsv.gz 10k/10k_preprocessing_out/data/fragments/VIB_hydrop_12.10k.fragments.id.tsv.gz  | LC_ALL=C sort --parallel=8 -S 8G -k1,1 -k 2,2n -k3,3n | bgzip -@ 8 > 10k/10k_preprocessing_out/data/fragments/VIB_hydrop_1.10k.fragments.tsv.gz\n",
      "VIB_hydrop_1\n",
      "\tzcat 15k/15k_preprocessing_out/data/fragments/VIB_hydrop_11.15k.fragments.id.tsv.gz 15k/15k_preprocessing_out/data/fragments/VIB_hydrop_12.15k.fragments.id.tsv.gz  | LC_ALL=C sort --parallel=8 -S 8G -k1,1 -k 2,2n -k3,3n | bgzip -@ 8 > 15k/15k_preprocessing_out/data/fragments/VIB_hydrop_1.15k.fragments.tsv.gz\n",
      "VIB_hydrop_1\n",
      "\tzcat 20k/20k_preprocessing_out/data/fragments/VIB_hydrop_11.20k.fragments.id.tsv.gz 20k/20k_preprocessing_out/data/fragments/VIB_hydrop_12.20k.fragments.id.tsv.gz  | LC_ALL=C sort --parallel=8 -S 8G -k1,1 -k 2,2n -k3,3n | bgzip -@ 8 > 20k/20k_preprocessing_out/data/fragments/VIB_hydrop_1.20k.fragments.tsv.gz\n",
      "VIB_hydrop_1\n",
      "\tzcat 25k/25k_preprocessing_out/data/fragments/VIB_hydrop_11.25k.fragments.id.tsv.gz 25k/25k_preprocessing_out/data/fragments/VIB_hydrop_12.25k.fragments.id.tsv.gz  | LC_ALL=C sort --parallel=8 -S 8G -k1,1 -k 2,2n -k3,3n | bgzip -@ 8 > 25k/25k_preprocessing_out/data/fragments/VIB_hydrop_1.25k.fragments.tsv.gz\n",
      "VIB_hydrop_1\n",
      "\tzcat 30k/30k_preprocessing_out/data/fragments/VIB_hydrop_11.30k.fragments.id.tsv.gz 30k/30k_preprocessing_out/data/fragments/VIB_hydrop_12.30k.fragments.id.tsv.gz  | LC_ALL=C sort --parallel=8 -S 8G -k1,1 -k 2,2n -k3,3n | bgzip -@ 8 > 30k/30k_preprocessing_out/data/fragments/VIB_hydrop_1.30k.fragments.tsv.gz\n",
      "VIB_hydrop_1\n",
      "\tzcat 35k/35k_preprocessing_out/data/fragments/VIB_hydrop_11.35k.fragments.id.tsv.gz 35k/35k_preprocessing_out/data/fragments/VIB_hydrop_12.35k.fragments.id.tsv.gz  | LC_ALL=C sort --parallel=8 -S 8G -k1,1 -k 2,2n -k3,3n | bgzip -@ 8 > 35k/35k_preprocessing_out/data/fragments/VIB_hydrop_1.35k.fragments.tsv.gz\n",
      "VIB_hydrop_1\n",
      "\tzcat 5k/5k_preprocessing_out/data/fragments/VIB_hydrop_11.5k.fragments.id.tsv.gz 5k/5k_preprocessing_out/data/fragments/VIB_hydrop_12.5k.fragments.id.tsv.gz  | LC_ALL=C sort --parallel=8 -S 8G -k1,1 -k 2,2n -k3,3n | bgzip -@ 8 > 5k/5k_preprocessing_out/data/fragments/VIB_hydrop_1.5k.fragments.tsv.gz\n",
      "VIB_hydrop_2\n",
      "\tzcat 10k/10k_preprocessing_out/data/fragments/VIB_hydrop_21.10k.fragments.id.tsv.gz 10k/10k_preprocessing_out/data/fragments/VIB_hydrop_22.10k.fragments.id.tsv.gz  | LC_ALL=C sort --parallel=8 -S 8G -k1,1 -k 2,2n -k3,3n | bgzip -@ 8 > 10k/10k_preprocessing_out/data/fragments/VIB_hydrop_2.10k.fragments.tsv.gz\n",
      "VIB_hydrop_2\n",
      "\tzcat 15k/15k_preprocessing_out/data/fragments/VIB_hydrop_21.15k.fragments.id.tsv.gz 15k/15k_preprocessing_out/data/fragments/VIB_hydrop_22.15k.fragments.id.tsv.gz  | LC_ALL=C sort --parallel=8 -S 8G -k1,1 -k 2,2n -k3,3n | bgzip -@ 8 > 15k/15k_preprocessing_out/data/fragments/VIB_hydrop_2.15k.fragments.tsv.gz\n",
      "VIB_hydrop_2\n",
      "\tzcat 20k/20k_preprocessing_out/data/fragments/VIB_hydrop_21.20k.fragments.id.tsv.gz 20k/20k_preprocessing_out/data/fragments/VIB_hydrop_22.20k.fragments.id.tsv.gz  | LC_ALL=C sort --parallel=8 -S 8G -k1,1 -k 2,2n -k3,3n | bgzip -@ 8 > 20k/20k_preprocessing_out/data/fragments/VIB_hydrop_2.20k.fragments.tsv.gz\n",
      "VIB_hydrop_2\n",
      "\tzcat 25k/25k_preprocessing_out/data/fragments/VIB_hydrop_21.25k.fragments.id.tsv.gz 25k/25k_preprocessing_out/data/fragments/VIB_hydrop_22.25k.fragments.id.tsv.gz  | LC_ALL=C sort --parallel=8 -S 8G -k1,1 -k 2,2n -k3,3n | bgzip -@ 8 > 25k/25k_preprocessing_out/data/fragments/VIB_hydrop_2.25k.fragments.tsv.gz\n",
      "VIB_hydrop_2\n",
      "\tzcat 30k/30k_preprocessing_out/data/fragments/VIB_hydrop_21.30k.fragments.id.tsv.gz 30k/30k_preprocessing_out/data/fragments/VIB_hydrop_22.30k.fragments.id.tsv.gz  | LC_ALL=C sort --parallel=8 -S 8G -k1,1 -k 2,2n -k3,3n | bgzip -@ 8 > 30k/30k_preprocessing_out/data/fragments/VIB_hydrop_2.30k.fragments.tsv.gz\n",
      "VIB_hydrop_2\n",
      "\tzcat 35k/35k_preprocessing_out/data/fragments/VIB_hydrop_21.35k.fragments.id.tsv.gz 35k/35k_preprocessing_out/data/fragments/VIB_hydrop_22.35k.fragments.id.tsv.gz  | LC_ALL=C sort --parallel=8 -S 8G -k1,1 -k 2,2n -k3,3n | bgzip -@ 8 > 35k/35k_preprocessing_out/data/fragments/VIB_hydrop_2.35k.fragments.tsv.gz\n",
      "VIB_hydrop_2\n",
      "\tzcat 5k/5k_preprocessing_out/data/fragments/VIB_hydrop_21.5k.fragments.id.tsv.gz 5k/5k_preprocessing_out/data/fragments/VIB_hydrop_22.5k.fragments.id.tsv.gz  | LC_ALL=C sort --parallel=8 -S 8G -k1,1 -k 2,2n -k3,3n | bgzip -@ 8 > 5k/5k_preprocessing_out/data/fragments/VIB_hydrop_2.5k.fragments.tsv.gz\n"
     ]
    }
   ],
   "source": [
    "fragments_dir = \"*k/*k_preprocessing_out/data/fragments/\"\n",
    "fragments_paths = sorted(glob.glob(fragments_dir + \"VIB*hydrop*fragments.tsv.gz\"))\n",
    "supersamples = sorted(\n",
    "    list(\n",
    "        set(\n",
    "            [\n",
    "                x.split(\"/\")[-1]\n",
    "                .replace(\".fragments.tsv.gz\", \"\")\n",
    "                .replace(\"11\", \"1\")\n",
    "                .replace(\"12\", \"1\")\n",
    "                .replace(\"21\", \"2\")\n",
    "                .replace(\"22\", \"2\")\n",
    "                for x in fragments_paths\n",
    "            ]\n",
    "        )\n",
    "    )\n",
    ")\n",
    "\n",
    "parallel_filename = \"merge_subsamples.parallel\"\n",
    "with open(parallel_filename, \"w\") as f:\n",
    "    for supersample in supersamples:\n",
    "        depth = supersample.split(\".\")[-1]\n",
    "        supersample = supersample.replace(\".\" + depth, \"\")\n",
    "        print(supersample)\n",
    "        fragments_1 = fragments_dir.replace(\"*k\", depth) + supersample.replace(\n",
    "            \"_2\", f\"_21.{depth}.fragments.id.tsv.gz\"\n",
    "        ).replace(\"_1\", f\"_11.{depth}.fragments.id.tsv.gz\")\n",
    "\n",
    "        fragments_2 = fragments_dir.replace(\"*k\", depth) + supersample.replace(\n",
    "            \"_2\", f\"_22.{depth}.fragments.id.tsv.gz\"\n",
    "        ).replace(\"_1\", f\"_12.{depth}.fragments.id.tsv.gz\")\n",
    "\n",
    "        newfragments = (\n",
    "            fragments_dir.replace(\"*k\", depth)\n",
    "            + supersample\n",
    "            + f\".{depth}.fragments.tsv.gz\"\n",
    "        )\n",
    "        command = (\n",
    "            f\"zcat {fragments_1} {fragments_2} \"\n",
    "            + \" | LC_ALL=C sort --parallel=8 -S 8G -k1,1 -k 2,2n -k3,3n\"\n",
    "            + f\" | bgzip -@ 8 > {newfragments}\"\n",
    "        )\n",
    "        print(\"\\t\" + command)\n",
    "        f.write(command + \"\\n\")"
   ]
  },
  {
   "cell_type": "code",
   "execution_count": 35,
   "metadata": {},
   "outputs": [
    {
     "name": "stdout",
     "output_type": "stream",
     "text": [
      "zcat 10k/10k_preprocessing_out/data/fragments/VIB_hydrop_11.10k.fragments.id.tsv.gz.10k 10k/10k_preprocessing_out/data/fragments/VIB_hydrop_12.10k.fragments.id.tsv.gz.10k  | LC_ALL=C sort --parallel=8 -S 8G -k1,1 -k 2,2n -k3,3n | bgzip -@ 8 > 10k/10k_preprocessing_out/data/fragments/VIB_hydrop_1.10k.fragments.tsv.gz\n",
      "zcat 15k/15k_preprocessing_out/data/fragments/VIB_hydrop_11.15k.fragments.id.tsv.gz.15k 15k/15k_preprocessing_out/data/fragments/VIB_hydrop_12.15k.fragments.id.tsv.gz.15k  | LC_ALL=C sort --parallel=8 -S 8G -k1,1 -k 2,2n -k3,3n | bgzip -@ 8 > 15k/15k_preprocessing_out/data/fragments/VIB_hydrop_1.15k.fragments.tsv.gz\n",
      "zcat 20k/20k_preprocessing_out/data/fragments/VIB_hydrop_11.20k.fragments.id.tsv.gz.20k 20k/20k_preprocessing_out/data/fragments/VIB_hydrop_12.20k.fragments.id.tsv.gz.20k  | LC_ALL=C sort --parallel=8 -S 8G -k1,1 -k 2,2n -k3,3n | bgzip -@ 8 > 20k/20k_preprocessing_out/data/fragments/VIB_hydrop_1.20k.fragments.tsv.gz\n",
      "zcat 25k/25k_preprocessing_out/data/fragments/VIB_hydrop_11.25k.fragments.id.tsv.gz.25k 25k/25k_preprocessing_out/data/fragments/VIB_hydrop_12.25k.fragments.id.tsv.gz.25k  | LC_ALL=C sort --parallel=8 -S 8G -k1,1 -k 2,2n -k3,3n | bgzip -@ 8 > 25k/25k_preprocessing_out/data/fragments/VIB_hydrop_1.25k.fragments.tsv.gz\n",
      "zcat 30k/30k_preprocessing_out/data/fragments/VIB_hydrop_11.30k.fragments.id.tsv.gz.30k 30k/30k_preprocessing_out/data/fragments/VIB_hydrop_12.30k.fragments.id.tsv.gz.30k  | LC_ALL=C sort --parallel=8 -S 8G -k1,1 -k 2,2n -k3,3n | bgzip -@ 8 > 30k/30k_preprocessing_out/data/fragments/VIB_hydrop_1.30k.fragments.tsv.gz\n",
      "zcat 35k/35k_preprocessing_out/data/fragments/VIB_hydrop_11.35k.fragments.id.tsv.gz.35k 35k/35k_preprocessing_out/data/fragments/VIB_hydrop_12.35k.fragments.id.tsv.gz.35k  | LC_ALL=C sort --parallel=8 -S 8G -k1,1 -k 2,2n -k3,3n | bgzip -@ 8 > 35k/35k_preprocessing_out/data/fragments/VIB_hydrop_1.35k.fragments.tsv.gz\n",
      "zcat 5k/5k_preprocessing_out/data/fragments/VIB_hydrop_11.5k.fragments.id.tsv.gz.5k 5k/5k_preprocessing_out/data/fragments/VIB_hydrop_12.5k.fragments.id.tsv.gz.5k  | LC_ALL=C sort --parallel=8 -S 8G -k1,1 -k 2,2n -k3,3n | bgzip -@ 8 > 5k/5k_preprocessing_out/data/fragments/VIB_hydrop_1.5k.fragments.tsv.gz\n",
      "zcat 10k/10k_preprocessing_out/data/fragments/VIB_hydrop_21.10k.fragments.id.tsv.gz.10k 10k/10k_preprocessing_out/data/fragments/VIB_hydrop_22.10k.fragments.id.tsv.gz.10k  | LC_ALL=C sort --parallel=8 -S 8G -k1,1 -k 2,2n -k3,3n | bgzip -@ 8 > 10k/10k_preprocessing_out/data/fragments/VIB_hydrop_2.10k.fragments.tsv.gz\n",
      "zcat 15k/15k_preprocessing_out/data/fragments/VIB_hydrop_21.15k.fragments.id.tsv.gz.15k 15k/15k_preprocessing_out/data/fragments/VIB_hydrop_22.15k.fragments.id.tsv.gz.15k  | LC_ALL=C sort --parallel=8 -S 8G -k1,1 -k 2,2n -k3,3n | bgzip -@ 8 > 15k/15k_preprocessing_out/data/fragments/VIB_hydrop_2.15k.fragments.tsv.gz\n",
      "zcat 20k/20k_preprocessing_out/data/fragments/VIB_hydrop_21.20k.fragments.id.tsv.gz.20k 20k/20k_preprocessing_out/data/fragments/VIB_hydrop_22.20k.fragments.id.tsv.gz.20k  | LC_ALL=C sort --parallel=8 -S 8G -k1,1 -k 2,2n -k3,3n | bgzip -@ 8 > 20k/20k_preprocessing_out/data/fragments/VIB_hydrop_2.20k.fragments.tsv.gz\n",
      "zcat 25k/25k_preprocessing_out/data/fragments/VIB_hydrop_21.25k.fragments.id.tsv.gz.25k 25k/25k_preprocessing_out/data/fragments/VIB_hydrop_22.25k.fragments.id.tsv.gz.25k  | LC_ALL=C sort --parallel=8 -S 8G -k1,1 -k 2,2n -k3,3n | bgzip -@ 8 > 25k/25k_preprocessing_out/data/fragments/VIB_hydrop_2.25k.fragments.tsv.gz\n",
      "zcat 30k/30k_preprocessing_out/data/fragments/VIB_hydrop_21.30k.fragments.id.tsv.gz.30k 30k/30k_preprocessing_out/data/fragments/VIB_hydrop_22.30k.fragments.id.tsv.gz.30k  | LC_ALL=C sort --parallel=8 -S 8G -k1,1 -k 2,2n -k3,3n | bgzip -@ 8 > 30k/30k_preprocessing_out/data/fragments/VIB_hydrop_2.30k.fragments.tsv.gz\n",
      "zcat 35k/35k_preprocessing_out/data/fragments/VIB_hydrop_21.35k.fragments.id.tsv.gz.35k 35k/35k_preprocessing_out/data/fragments/VIB_hydrop_22.35k.fragments.id.tsv.gz.35k  | LC_ALL=C sort --parallel=8 -S 8G -k1,1 -k 2,2n -k3,3n | bgzip -@ 8 > 35k/35k_preprocessing_out/data/fragments/VIB_hydrop_2.35k.fragments.tsv.gz\n",
      "zcat 5k/5k_preprocessing_out/data/fragments/VIB_hydrop_21.5k.fragments.id.tsv.gz.5k 5k/5k_preprocessing_out/data/fragments/VIB_hydrop_22.5k.fragments.id.tsv.gz.5k  | LC_ALL=C sort --parallel=8 -S 8G -k1,1 -k 2,2n -k3,3n | bgzip -@ 8 > 5k/5k_preprocessing_out/data/fragments/VIB_hydrop_2.5k.fragments.tsv.gz\n"
     ]
    }
   ],
   "source": [
    "!cat merge_subsamples.parallel"
   ]
  },
  {
   "cell_type": "code",
   "execution_count": null,
   "metadata": {},
   "outputs": [],
   "source": [
    "module load HTSlib\n",
    "cat  merge_subsamples.parallel | parallel -j 8 --progress"
   ]
  },
  {
   "cell_type": "markdown",
   "metadata": {},
   "source": [
    "need to add an id to all the barcodes in the bams first"
   ]
  },
  {
   "cell_type": "code",
   "execution_count": 16,
   "metadata": {},
   "outputs": [
    {
     "name": "stdout",
     "output_type": "stream",
     "text": [
      "[1] 15971\n"
     ]
    }
   ],
   "source": [
    "bam=bam_postbap/HYA__24010b__20210813_384_PBMC_11_S9.bwa.out.possorted.mm.bam\n",
    "outbam=${bam%.bam}.ID.bam\n",
    "/staging/leuven/stg_00002/lcb/ghuls/software/single_cell_toolkit_rust/target/release/append_string_to_bc_tag_try $bam $outbam DB '-11' &"
   ]
  },
  {
   "cell_type": "code",
   "execution_count": 18,
   "metadata": {},
   "outputs": [
    {
     "name": "stdout",
     "output_type": "stream",
     "text": [
      "[2] 16061\n"
     ]
    }
   ],
   "source": [
    "bam=bam_postbap/HYA__2beafa__20210813_384_PBMC_12_S10.bwa.out.possorted.mm.bam\n",
    "outbam=${bam%.bam}.ID.bam\n",
    "/staging/leuven/stg_00002/lcb/ghuls/software/single_cell_toolkit_rust/target/release/append_string_to_bc_tag_try $bam $outbam DB '-12' &"
   ]
  },
  {
   "cell_type": "code",
   "execution_count": 19,
   "metadata": {},
   "outputs": [
    {
     "name": "stdout",
     "output_type": "stream",
     "text": [
      "[3] 16081\n"
     ]
    }
   ],
   "source": [
    "bam=bam_postbap/HYA__3d6da9__20210813_384_PBMC_21_S11.bwa.out.possorted.mm.bam\n",
    "outbam=${bam%.bam}.ID.bam\n",
    "/staging/leuven/stg_00002/lcb/ghuls/software/single_cell_toolkit_rust/target/release/append_string_to_bc_tag_try $bam $outbam DB '-21' &"
   ]
  },
  {
   "cell_type": "code",
   "execution_count": 20,
   "metadata": {},
   "outputs": [
    {
     "name": "stdout",
     "output_type": "stream",
     "text": [
      "[4] 16118\n"
     ]
    }
   ],
   "source": [
    "bam=bam_postbap/HYA__5028cb__20210813_384_PBMC_22_S12.bwa.out.possorted.mm.bam\n",
    "outbam=${bam%.bam}.ID.bam\n",
    "/staging/leuven/stg_00002/lcb/ghuls/software/single_cell_toolkit_rust/target/release/append_string_to_bc_tag_try $bam $outbam DB '-22' &"
   ]
  },
  {
   "cell_type": "markdown",
   "metadata": {},
   "source": [
    "Then, merge the resulting bamsm"
   ]
  },
  {
   "cell_type": "code",
   "execution_count": 24,
   "metadata": {},
   "outputs": [
    {
     "name": "stdout",
     "output_type": "stream",
     "text": [
      "\n",
      "The following have been reloaded with a version change:\n",
      "  1) XZ/5.2.4-GCCcore-6.4.0 => XZ/5.2.5-GCCcore-6.4.0\n",
      "\n",
      "[1] 18219\n",
      "[2] 18233\n"
     ]
    }
   ],
   "source": [
    "module load SAMtools\n",
    "samtools merge -@ 12 -o bam_postbap/Hydrop_1.bwa.out.possorted.mm.bam bam_postbap/HYA__24010b__20210813_384_PBMC_11_S9.bwa.out.possorted.mm.ID.bam bam_postbap/HYA__2beafa__20210813_384_PBMC_12_S10.bwa.out.possorted.mm.ID.bam -f &\n",
    "samtools merge -@ 12 -o bam_postbap/Hydrop_2.bwa.out.possorted.mm.bam bam_postbap/HYA__3d6da9__20210813_384_PBMC_21_S11.bwa.out.possorted.mm.ID.bam bam_postbap/HYA__5028cb__20210813_384_PBMC_22_S12.bwa.out.possorted.mm.ID.bam -f &"
   ]
  },
  {
   "cell_type": "code",
   "execution_count": 34,
   "metadata": {},
   "outputs": [
    {
     "name": "stdout",
     "output_type": "stream",
     "text": [
      "[3] 22295\n",
      "[4] 22296\n"
     ]
    }
   ],
   "source": [
    "samtools index bam_postbap/Hydrop_1.bwa.out.possorted.mm.bam &\n",
    "samtools index bam_postbap/Hydrop_2.bwa.out.possorted.mm.bam &"
   ]
  },
  {
   "cell_type": "markdown",
   "metadata": {},
   "source": [
    "The final result is 2 instead of 4 bams and fragments files, each corresponding to the hydrop replicate runs."
   ]
  }
 ],
 "metadata": {
  "kernelspec": {
   "display_name": "20220722_pycistopic.sif",
   "language": "python",
   "name": "pycistopic_20220722"
  },
  "language_info": {
   "codemirror_mode": {
    "name": "ipython",
    "version": 3
   },
   "file_extension": ".py",
   "mimetype": "text/x-python",
   "name": "python",
   "nbconvert_exporter": "python",
   "pygments_lexer": "ipython3",
   "version": "3.8.13"
  }
 },
 "nbformat": 4,
 "nbformat_minor": 4
}

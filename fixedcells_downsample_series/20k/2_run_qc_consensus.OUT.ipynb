{
 "cells": [
  {
   "cell_type": "code",
   "execution_count": 1,
   "id": "5c0cea95",
   "metadata": {
    "execution": {
     "iopub.execute_input": "2022-09-14T20:16:43.406179Z",
     "iopub.status.busy": "2022-09-14T20:16:43.405799Z",
     "iopub.status.idle": "2022-09-14T20:16:53.244054Z",
     "shell.execute_reply": "2022-09-14T20:16:53.243355Z"
    },
    "papermill": {
     "duration": 9.914609,
     "end_time": "2022-09-14T20:16:53.313634",
     "exception": false,
     "start_time": "2022-09-14T20:16:43.399025",
     "status": "completed"
    },
    "tags": []
   },
   "outputs": [],
   "source": [
    "import pycisTopic\n",
    "import glob\n",
    "import os\n",
    "import pybiomart as pbm\n",
    "import pandas as pd\n",
    "import pickle\n",
    "from pycisTopic.qc import *\n",
    "from IPython.display import Image, display\n",
    "import matplotlib.pyplot as plt\n",
    "import numpy as np\n",
    "import seaborn as sns\n",
    "\n",
    "import multiprocess as mp  # for kde multithreading calculation\n",
    "from multiprocess import Pool\n",
    "\n",
    "%matplotlib inline\n",
    "%load_ext lab_black"
   ]
  },
  {
   "cell_type": "markdown",
   "id": "7c7a43c8",
   "metadata": {
    "papermill": {
     "duration": 0.005419,
     "end_time": "2022-09-14T20:16:53.353979",
     "exception": false,
     "start_time": "2022-09-14T20:16:53.348560",
     "status": "completed"
    },
    "tags": []
   },
   "source": [
    "# Download annotation"
   ]
  },
  {
   "cell_type": "code",
   "execution_count": 2,
   "id": "8d799645-cbe0-43be-b2af-cb773840f783",
   "metadata": {
    "execution": {
     "iopub.execute_input": "2022-09-14T20:16:53.364850Z",
     "iopub.status.busy": "2022-09-14T20:16:53.364222Z",
     "iopub.status.idle": "2022-09-14T20:16:53.595764Z",
     "shell.execute_reply": "2022-09-14T20:16:53.595022Z"
    },
    "papermill": {
     "duration": 0.238616,
     "end_time": "2022-09-14T20:16:53.597251",
     "exception": false,
     "start_time": "2022-09-14T20:16:53.358635",
     "status": "completed"
    },
    "tags": []
   },
   "outputs": [
    {
     "name": "stdout",
     "output_type": "stream",
     "text": [
      "/dodrio/scratch/projects/starting_2022_023/benchmark/scatac_benchmark/downsample_series/20k\r\n"
     ]
    }
   ],
   "source": [
    "!pwd"
   ]
  },
  {
   "cell_type": "code",
   "execution_count": 3,
   "id": "1637befe-6dd6-4a77-b59e-1f696ba36b74",
   "metadata": {
    "execution": {
     "iopub.execute_input": "2022-09-14T20:16:53.608154Z",
     "iopub.status.busy": "2022-09-14T20:16:53.607897Z",
     "iopub.status.idle": "2022-09-14T20:16:53.612646Z",
     "shell.execute_reply": "2022-09-14T20:16:53.612068Z"
    },
    "papermill": {
     "duration": 0.011215,
     "end_time": "2022-09-14T20:16:53.613656",
     "exception": false,
     "start_time": "2022-09-14T20:16:53.602441",
     "status": "completed"
    },
    "tags": []
   },
   "outputs": [],
   "source": [
    "depth_str = os.getcwd().split(\"/\")[-1]"
   ]
  },
  {
   "cell_type": "code",
   "execution_count": 4,
   "id": "f587154d",
   "metadata": {
    "execution": {
     "iopub.execute_input": "2022-09-14T20:16:53.624238Z",
     "iopub.status.busy": "2022-09-14T20:16:53.623867Z",
     "iopub.status.idle": "2022-09-14T20:16:53.627798Z",
     "shell.execute_reply": "2022-09-14T20:16:53.627251Z"
    },
    "papermill": {
     "duration": 0.010123,
     "end_time": "2022-09-14T20:16:53.628787",
     "exception": false,
     "start_time": "2022-09-14T20:16:53.618664",
     "status": "completed"
    },
    "tags": []
   },
   "outputs": [],
   "source": [
    "wdir = f\"/dodrio/scratch/projects/starting_2022_023/benchmark/scatac_benchmark/downsample_series/{depth_str}\"\n",
    "os.chdir(wdir)"
   ]
  },
  {
   "cell_type": "code",
   "execution_count": 5,
   "id": "8abb4492",
   "metadata": {
    "execution": {
     "iopub.execute_input": "2022-09-14T20:16:53.639632Z",
     "iopub.status.busy": "2022-09-14T20:16:53.639158Z",
     "iopub.status.idle": "2022-09-14T20:16:53.735246Z",
     "shell.execute_reply": "2022-09-14T20:16:53.734556Z"
    },
    "papermill": {
     "duration": 0.102681,
     "end_time": "2022-09-14T20:16:53.736288",
     "exception": false,
     "start_time": "2022-09-14T20:16:53.633607",
     "status": "completed"
    },
    "tags": []
   },
   "outputs": [
    {
     "name": "stdout",
     "output_type": "stream",
     "text": [
      "Loading cached genome annotation...\n"
     ]
    }
   ],
   "source": [
    "genome = \"hg38\"\n",
    "\n",
    "pbm_genome_name_dict = {\n",
    "    \"hg38\": \"hsapiens_gene_ensembl\",\n",
    "    \"hg37\": \"hsapiens_gene_ensembl\",\n",
    "    \"mm10\": \"mmusculus_gene_ensembl\",\n",
    "    \"dm6\": \"dmelanogaster_gene_ensembl\",\n",
    "}\n",
    "\n",
    "pbm_host_dict = {\n",
    "    \"hg38\": \"http://www.ensembl.org\",\n",
    "    \"hg37\": \"http://grch37.ensembl.org/\",\n",
    "    \"mm10\": \"http://nov2020.archive.ensembl.org/\",\n",
    "    \"dm6\": \"http://www.ensembl.org\",\n",
    "}\n",
    "\n",
    "if os.path.exists(f\"../annotation.tsv\"):\n",
    "    print(f\"Loading cached genome annotation...\")\n",
    "    annotation = pd.read_csv(\"../annotation.tsv\", sep=\"\\t\", header=0, index_col=0)\n",
    "else:\n",
    "    dataset = pbm.Dataset(name=pbm_genome_name_dict[genome], host=pbm_host_dict[genome])\n",
    "\n",
    "    annotation = dataset.query(\n",
    "        attributes=[\n",
    "            \"chromosome_name\",\n",
    "            \"transcription_start_site\",\n",
    "            \"strand\",\n",
    "            \"external_gene_name\",\n",
    "            \"transcript_biotype\",\n",
    "        ]\n",
    "    )\n",
    "    filter = annotation[\"Chromosome/scaffold name\"].str.contains(\"CHR|GL|JH|MT\")\n",
    "    annotation = annotation[~filter]\n",
    "    annotation[\"Chromosome/scaffold name\"] = annotation[\n",
    "        \"Chromosome/scaffold name\"\n",
    "    ].str.replace(r\"(\\b\\S)\", r\"chr\\1\")\n",
    "    annotation.columns = [\"Chromosome\", \"Start\", \"Strand\", \"Gene\", \"Transcript_type\"]\n",
    "    annotation = annotation[annotation.Transcript_type == \"protein_coding\"]\n",
    "    annotation.to_csv(\"annotation.tsv\", sep=\"\\t\")"
   ]
  },
  {
   "cell_type": "code",
   "execution_count": 6,
   "id": "79a968e4",
   "metadata": {
    "execution": {
     "iopub.execute_input": "2022-09-14T20:16:53.747111Z",
     "iopub.status.busy": "2022-09-14T20:16:53.746603Z",
     "iopub.status.idle": "2022-09-14T20:16:53.758465Z",
     "shell.execute_reply": "2022-09-14T20:16:53.757949Z"
    },
    "papermill": {
     "duration": 0.018166,
     "end_time": "2022-09-14T20:16:53.759445",
     "exception": false,
     "start_time": "2022-09-14T20:16:53.741279",
     "status": "completed"
    },
    "tags": []
   },
   "outputs": [
    {
     "data": {
      "text/plain": [
       "{'BIO_ddseq_1.20k': '20k_preprocessing_out/data/fragments/BIO_ddseq_1.20k.fragments.tsv.gz',\n",
       " 'BIO_ddseq_2.20k': '20k_preprocessing_out/data/fragments/BIO_ddseq_2.20k.fragments.tsv.gz',\n",
       " 'BIO_ddseq_3.20k': '20k_preprocessing_out/data/fragments/BIO_ddseq_3.20k.fragments.tsv.gz',\n",
       " 'BIO_ddseq_4.20k': '20k_preprocessing_out/data/fragments/BIO_ddseq_4.20k.fragments.tsv.gz',\n",
       " 'BRO_mtscatac_1.20k': '20k_preprocessing_out/data/fragments/BRO_mtscatac_1.20k.fragments.tsv.gz',\n",
       " 'BRO_mtscatac_2.20k': '20k_preprocessing_out/data/fragments/BRO_mtscatac_2.20k.fragments.tsv.gz',\n",
       " 'CNA_10xmultiome_1.20k': '20k_preprocessing_out/data/fragments/CNA_10xmultiome_1.20k.fragments.tsv.gz',\n",
       " 'CNA_10xmultiome_2.20k': '20k_preprocessing_out/data/fragments/CNA_10xmultiome_2.20k.fragments.tsv.gz',\n",
       " 'CNA_10xv11_1.20k': '20k_preprocessing_out/data/fragments/CNA_10xv11_1.20k.fragments.tsv.gz',\n",
       " 'CNA_10xv11_2.20k': '20k_preprocessing_out/data/fragments/CNA_10xv11_2.20k.fragments.tsv.gz',\n",
       " 'CNA_10xv11_3.20k': '20k_preprocessing_out/data/fragments/CNA_10xv11_3.20k.fragments.tsv.gz',\n",
       " 'CNA_10xv11_4.20k': '20k_preprocessing_out/data/fragments/CNA_10xv11_4.20k.fragments.tsv.gz',\n",
       " 'CNA_10xv11_5.20k': '20k_preprocessing_out/data/fragments/CNA_10xv11_5.20k.fragments.tsv.gz',\n",
       " 'CNA_10xv2_1.20k': '20k_preprocessing_out/data/fragments/CNA_10xv2_1.20k.fragments.tsv.gz',\n",
       " 'CNA_10xv2_2.20k': '20k_preprocessing_out/data/fragments/CNA_10xv2_2.20k.fragments.tsv.gz',\n",
       " 'CNA_hydrop_1.20k': '20k_preprocessing_out/data/fragments/CNA_hydrop_1.20k.fragments.tsv.gz',\n",
       " 'CNA_hydrop_2.20k': '20k_preprocessing_out/data/fragments/CNA_hydrop_2.20k.fragments.tsv.gz',\n",
       " 'CNA_hydrop_3.20k': '20k_preprocessing_out/data/fragments/CNA_hydrop_3.20k.fragments.tsv.gz',\n",
       " 'CNA_mtscatac_1.20k': '20k_preprocessing_out/data/fragments/CNA_mtscatac_1.20k.fragments.tsv.gz',\n",
       " 'CNA_mtscatac_2.20k': '20k_preprocessing_out/data/fragments/CNA_mtscatac_2.20k.fragments.tsv.gz',\n",
       " 'EPF_hydrop_1.20k': '20k_preprocessing_out/data/fragments/EPF_hydrop_1.20k.fragments.tsv.gz',\n",
       " 'EPF_hydrop_2.20k': '20k_preprocessing_out/data/fragments/EPF_hydrop_2.20k.fragments.tsv.gz',\n",
       " 'EPF_hydrop_3.20k': '20k_preprocessing_out/data/fragments/EPF_hydrop_3.20k.fragments.tsv.gz',\n",
       " 'EPF_hydrop_4.20k': '20k_preprocessing_out/data/fragments/EPF_hydrop_4.20k.fragments.tsv.gz',\n",
       " 'HAR_ddseq_1.20k': '20k_preprocessing_out/data/fragments/HAR_ddseq_1.20k.fragments.tsv.gz',\n",
       " 'HAR_ddseq_2.20k': '20k_preprocessing_out/data/fragments/HAR_ddseq_2.20k.fragments.tsv.gz',\n",
       " 'MDC_mtscatac_1.20k': '20k_preprocessing_out/data/fragments/MDC_mtscatac_1.20k.fragments.tsv.gz',\n",
       " 'MDC_mtscatac_2.20k': '20k_preprocessing_out/data/fragments/MDC_mtscatac_2.20k.fragments.tsv.gz',\n",
       " 'OHS_s3atac_1.20k': '20k_preprocessing_out/data/fragments/OHS_s3atac_1.20k.fragments.tsv.gz',\n",
       " 'OHS_s3atac_2.20k': '20k_preprocessing_out/data/fragments/OHS_s3atac_2.20k.fragments.tsv.gz',\n",
       " 'SAN_10xmultiome_1.20k': '20k_preprocessing_out/data/fragments/SAN_10xmultiome_1.20k.fragments.tsv.gz',\n",
       " 'SAN_10xmultiome_2.20k': '20k_preprocessing_out/data/fragments/SAN_10xmultiome_2.20k.fragments.tsv.gz',\n",
       " 'STA_10xv11_1.20k': '20k_preprocessing_out/data/fragments/STA_10xv11_1.20k.fragments.tsv.gz',\n",
       " 'STA_10xv11_2.20k': '20k_preprocessing_out/data/fragments/STA_10xv11_2.20k.fragments.tsv.gz',\n",
       " 'TXG_10xv11_1.20k': '20k_preprocessing_out/data/fragments/TXG_10xv11_1.20k.fragments.tsv.gz',\n",
       " 'TXG_10xv2_1.20k': '20k_preprocessing_out/data/fragments/TXG_10xv2_1.20k.fragments.tsv.gz',\n",
       " 'TXG_10xv2_2.20k': '20k_preprocessing_out/data/fragments/TXG_10xv2_2.20k.fragments.tsv.gz',\n",
       " 'UCS_ddseq_1.20k': '20k_preprocessing_out/data/fragments/UCS_ddseq_1.20k.fragments.tsv.gz',\n",
       " 'UCS_ddseq_2.20k': '20k_preprocessing_out/data/fragments/UCS_ddseq_2.20k.fragments.tsv.gz',\n",
       " 'VIB_10xmultiome_1.20k': '20k_preprocessing_out/data/fragments/VIB_10xmultiome_1.20k.fragments.tsv.gz',\n",
       " 'VIB_10xmultiome_2.20k': '20k_preprocessing_out/data/fragments/VIB_10xmultiome_2.20k.fragments.tsv.gz',\n",
       " 'VIB_10xv1_1.20k': '20k_preprocessing_out/data/fragments/VIB_10xv1_1.20k.fragments.tsv.gz',\n",
       " 'VIB_10xv1_2.20k': '20k_preprocessing_out/data/fragments/VIB_10xv1_2.20k.fragments.tsv.gz',\n",
       " 'VIB_10xv2_1.20k': '20k_preprocessing_out/data/fragments/VIB_10xv2_1.20k.fragments.tsv.gz',\n",
       " 'VIB_10xv2_2.20k': '20k_preprocessing_out/data/fragments/VIB_10xv2_2.20k.fragments.tsv.gz',\n",
       " 'VIB_hydrop_11.20k': '20k_preprocessing_out/data/fragments/VIB_hydrop_11.20k.fragments.tsv.gz',\n",
       " 'VIB_hydrop_12.20k': '20k_preprocessing_out/data/fragments/VIB_hydrop_12.20k.fragments.tsv.gz',\n",
       " 'VIB_hydrop_21.20k': '20k_preprocessing_out/data/fragments/VIB_hydrop_21.20k.fragments.tsv.gz',\n",
       " 'VIB_hydrop_22.20k': '20k_preprocessing_out/data/fragments/VIB_hydrop_22.20k.fragments.tsv.gz'}"
      ]
     },
     "execution_count": 6,
     "metadata": {},
     "output_type": "execute_result"
    }
   ],
   "source": [
    "fragments_list = sorted(\n",
    "    glob.glob(f\"{depth_str}_preprocessing_out/data/fragments/*fragments.tsv.gz\")\n",
    ")\n",
    "fragments_dict = {}\n",
    "for fragments_file in fragments_list:\n",
    "    sample = fragments_file.split(\"/\")[-1].split(\".fragments.tsv.gz\")[0]\n",
    "    fragments_dict[sample] = fragments_file\n",
    "\n",
    "fragments_dict"
   ]
  },
  {
   "cell_type": "code",
   "execution_count": 7,
   "id": "f43fd7e7-21a8-4798-b7bd-c236412e02bf",
   "metadata": {
    "execution": {
     "iopub.execute_input": "2022-09-14T20:16:53.770172Z",
     "iopub.status.busy": "2022-09-14T20:16:53.769808Z",
     "iopub.status.idle": "2022-09-14T20:16:53.778783Z",
     "shell.execute_reply": "2022-09-14T20:16:53.778268Z"
    },
    "papermill": {
     "duration": 0.015282,
     "end_time": "2022-09-14T20:16:53.779700",
     "exception": false,
     "start_time": "2022-09-14T20:16:53.764418",
     "status": "completed"
    },
    "tags": []
   },
   "outputs": [
    {
     "data": {
      "text/plain": [
       "{'BIO_ddseq_1.20k': '../SCREEN_peaks/BIO_ddseq_1.FIXEDCELLS__SCREEN_consensus_peaks.bed',\n",
       " 'BIO_ddseq_2.20k': '../SCREEN_peaks/BIO_ddseq_2.FIXEDCELLS__SCREEN_consensus_peaks.bed',\n",
       " 'BIO_ddseq_3.20k': '../SCREEN_peaks/BIO_ddseq_3.FIXEDCELLS__SCREEN_consensus_peaks.bed',\n",
       " 'BIO_ddseq_4.20k': '../SCREEN_peaks/BIO_ddseq_4.FIXEDCELLS__SCREEN_consensus_peaks.bed',\n",
       " 'BRO_mtscatac_1.20k': '../SCREEN_peaks/BRO_mtscatac_1.FIXEDCELLS__SCREEN_consensus_peaks.bed',\n",
       " 'BRO_mtscatac_2.20k': '../SCREEN_peaks/BRO_mtscatac_2.FIXEDCELLS__SCREEN_consensus_peaks.bed',\n",
       " 'CNA_10xmultiome_1.20k': '../SCREEN_peaks/CNA_10xmultiome_1.FIXEDCELLS__SCREEN_consensus_peaks.bed',\n",
       " 'CNA_10xmultiome_2.20k': '../SCREEN_peaks/CNA_10xmultiome_2.FIXEDCELLS__SCREEN_consensus_peaks.bed',\n",
       " 'CNA_10xv11_1.20k': '../SCREEN_peaks/CNA_10xv11_1.FIXEDCELLS__SCREEN_consensus_peaks.bed',\n",
       " 'CNA_10xv11_2.20k': '../SCREEN_peaks/CNA_10xv11_2.FIXEDCELLS__SCREEN_consensus_peaks.bed',\n",
       " 'CNA_10xv11_3.20k': '../SCREEN_peaks/CNA_10xv11_3.FIXEDCELLS__SCREEN_consensus_peaks.bed',\n",
       " 'CNA_10xv11_4.20k': '../SCREEN_peaks/CNA_10xv11_4.FIXEDCELLS__SCREEN_consensus_peaks.bed',\n",
       " 'CNA_10xv11_5.20k': '../SCREEN_peaks/CNA_10xv11_5.FIXEDCELLS__SCREEN_consensus_peaks.bed',\n",
       " 'CNA_10xv2_1.20k': '../SCREEN_peaks/CNA_10xv2_1.FIXEDCELLS__SCREEN_consensus_peaks.bed',\n",
       " 'CNA_10xv2_2.20k': '../SCREEN_peaks/CNA_10xv2_2.FIXEDCELLS__SCREEN_consensus_peaks.bed',\n",
       " 'CNA_hydrop_1.20k': '../SCREEN_peaks/CNA_hydrop_1.FIXEDCELLS__SCREEN_consensus_peaks.bed',\n",
       " 'CNA_hydrop_2.20k': '../SCREEN_peaks/CNA_hydrop_2.FIXEDCELLS__SCREEN_consensus_peaks.bed',\n",
       " 'CNA_hydrop_3.20k': '../SCREEN_peaks/CNA_hydrop_3.FIXEDCELLS__SCREEN_consensus_peaks.bed',\n",
       " 'CNA_mtscatac_1.20k': '../SCREEN_peaks/CNA_mtscatac_1.FIXEDCELLS__SCREEN_consensus_peaks.bed',\n",
       " 'CNA_mtscatac_2.20k': '../SCREEN_peaks/CNA_mtscatac_2.FIXEDCELLS__SCREEN_consensus_peaks.bed',\n",
       " 'EPF_hydrop_1.20k': '../SCREEN_peaks/EPF_hydrop_1.FIXEDCELLS__SCREEN_consensus_peaks.bed',\n",
       " 'EPF_hydrop_2.20k': '../SCREEN_peaks/EPF_hydrop_2.FIXEDCELLS__SCREEN_consensus_peaks.bed',\n",
       " 'EPF_hydrop_3.20k': '../SCREEN_peaks/EPF_hydrop_3.FIXEDCELLS__SCREEN_consensus_peaks.bed',\n",
       " 'EPF_hydrop_4.20k': '../SCREEN_peaks/EPF_hydrop_4.FIXEDCELLS__SCREEN_consensus_peaks.bed',\n",
       " 'HAR_ddseq_1.20k': '../SCREEN_peaks/HAR_ddseq_1.FIXEDCELLS__SCREEN_consensus_peaks.bed',\n",
       " 'HAR_ddseq_2.20k': '../SCREEN_peaks/HAR_ddseq_2.FIXEDCELLS__SCREEN_consensus_peaks.bed',\n",
       " 'MDC_mtscatac_1.20k': '../SCREEN_peaks/MDC_mtscatac_1.FIXEDCELLS__SCREEN_consensus_peaks.bed',\n",
       " 'MDC_mtscatac_2.20k': '../SCREEN_peaks/MDC_mtscatac_2.FIXEDCELLS__SCREEN_consensus_peaks.bed',\n",
       " 'OHS_s3atac_1.20k': '../SCREEN_peaks/OHS_s3atac_1.FIXEDCELLS__SCREEN_consensus_peaks.bed',\n",
       " 'OHS_s3atac_2.20k': '../SCREEN_peaks/OHS_s3atac_2.FIXEDCELLS__SCREEN_consensus_peaks.bed',\n",
       " 'SAN_10xmultiome_1.20k': '../SCREEN_peaks/SAN_10xmultiome_1.FIXEDCELLS__SCREEN_consensus_peaks.bed',\n",
       " 'SAN_10xmultiome_2.20k': '../SCREEN_peaks/SAN_10xmultiome_2.FIXEDCELLS__SCREEN_consensus_peaks.bed',\n",
       " 'STA_10xv11_1.20k': '../SCREEN_peaks/STA_10xv11_1.FIXEDCELLS__SCREEN_consensus_peaks.bed',\n",
       " 'STA_10xv11_2.20k': '../SCREEN_peaks/STA_10xv11_2.FIXEDCELLS__SCREEN_consensus_peaks.bed',\n",
       " 'TXG_10xv11_1.20k': '../SCREEN_peaks/TXG_10xv11_1.FIXEDCELLS__SCREEN_consensus_peaks.bed',\n",
       " 'TXG_10xv2_1.20k': '../SCREEN_peaks/TXG_10xv2_1.FIXEDCELLS__SCREEN_consensus_peaks.bed',\n",
       " 'TXG_10xv2_2.20k': '../SCREEN_peaks/TXG_10xv2_2.FIXEDCELLS__SCREEN_consensus_peaks.bed',\n",
       " 'UCS_ddseq_1.20k': '../SCREEN_peaks/UCS_ddseq_1.FIXEDCELLS__SCREEN_consensus_peaks.bed',\n",
       " 'UCS_ddseq_2.20k': '../SCREEN_peaks/UCS_ddseq_2.FIXEDCELLS__SCREEN_consensus_peaks.bed',\n",
       " 'VIB_10xmultiome_1.20k': '../SCREEN_peaks/VIB_10xmultiome_1.FIXEDCELLS__SCREEN_consensus_peaks.bed',\n",
       " 'VIB_10xmultiome_2.20k': '../SCREEN_peaks/VIB_10xmultiome_2.FIXEDCELLS__SCREEN_consensus_peaks.bed',\n",
       " 'VIB_10xv1_1.20k': '../SCREEN_peaks/VIB_10xv1_1.FIXEDCELLS__SCREEN_consensus_peaks.bed',\n",
       " 'VIB_10xv1_2.20k': '../SCREEN_peaks/VIB_10xv1_2.FIXEDCELLS__SCREEN_consensus_peaks.bed',\n",
       " 'VIB_10xv2_1.20k': '../SCREEN_peaks/VIB_10xv2_1.FIXEDCELLS__SCREEN_consensus_peaks.bed',\n",
       " 'VIB_10xv2_2.20k': '../SCREEN_peaks/VIB_10xv2_2.FIXEDCELLS__SCREEN_consensus_peaks.bed',\n",
       " 'VIB_hydrop_1.20k': '../SCREEN_peaks/VIB_hydrop_1.FIXEDCELLS__SCREEN_consensus_peaks.bed',\n",
       " 'VIB_hydrop_11.20k': '../SCREEN_peaks/VIB_hydrop_11.FIXEDCELLS__SCREEN_consensus_peaks.bed',\n",
       " 'VIB_hydrop_12.20k': '../SCREEN_peaks/VIB_hydrop_12.FIXEDCELLS__SCREEN_consensus_peaks.bed',\n",
       " 'VIB_hydrop_2.20k': '../SCREEN_peaks/VIB_hydrop_2.FIXEDCELLS__SCREEN_consensus_peaks.bed',\n",
       " 'VIB_hydrop_21.20k': '../SCREEN_peaks/VIB_hydrop_21.FIXEDCELLS__SCREEN_consensus_peaks.bed',\n",
       " 'VIB_hydrop_22.20k': '../SCREEN_peaks/VIB_hydrop_22.FIXEDCELLS__SCREEN_consensus_peaks.bed'}"
      ]
     },
     "execution_count": 7,
     "metadata": {},
     "output_type": "execute_result"
    }
   ],
   "source": [
    "regions_paths_dict = {\n",
    "    x.split(\"/\")[-1].split(f\"__\")[0].replace(\"FIXEDCELLS\", depth_str): x\n",
    "    for x in sorted(glob.glob(\"../SCREEN_peaks/*consensus_peaks.bed\"))\n",
    "}\n",
    "regions_paths_dict"
   ]
  },
  {
   "cell_type": "code",
   "execution_count": 8,
   "id": "bd35613d-1b51-4947-afd7-168f1043be12",
   "metadata": {
    "execution": {
     "iopub.execute_input": "2022-09-14T20:16:53.790783Z",
     "iopub.status.busy": "2022-09-14T20:16:53.790250Z",
     "iopub.status.idle": "2022-09-14T20:16:53.797207Z",
     "shell.execute_reply": "2022-09-14T20:16:53.796654Z"
    },
    "papermill": {
     "duration": 0.013505,
     "end_time": "2022-09-14T20:16:53.798234",
     "exception": false,
     "start_time": "2022-09-14T20:16:53.784729",
     "status": "completed"
    },
    "tags": []
   },
   "outputs": [],
   "source": [
    "regions_paths_dict[\"VIB_hydrop_11.\" + depth_str] = regions_paths_dict[\n",
    "    \"VIB_hydrop_1.\" + depth_str\n",
    "]\n",
    "regions_paths_dict[\"VIB_hydrop_12.\" + depth_str] = regions_paths_dict[\n",
    "    \"VIB_hydrop_1.\" + depth_str\n",
    "]\n",
    "regions_paths_dict[\"VIB_hydrop_21.\" + depth_str] = regions_paths_dict[\n",
    "    \"VIB_hydrop_2.\" + depth_str\n",
    "]\n",
    "regions_paths_dict[\"VIB_hydrop_22.\" + depth_str] = regions_paths_dict[\n",
    "    \"VIB_hydrop_2.\" + depth_str\n",
    "]"
   ]
  },
  {
   "cell_type": "code",
   "execution_count": 9,
   "id": "f01597ea-12b6-4b68-aa43-986e6616bc93",
   "metadata": {
    "execution": {
     "iopub.execute_input": "2022-09-14T20:16:53.809218Z",
     "iopub.status.busy": "2022-09-14T20:16:53.808775Z",
     "iopub.status.idle": "2022-09-14T20:16:53.813892Z",
     "shell.execute_reply": "2022-09-14T20:16:53.813384Z"
    },
    "papermill": {
     "duration": 0.01149,
     "end_time": "2022-09-14T20:16:53.814860",
     "exception": false,
     "start_time": "2022-09-14T20:16:53.803370",
     "status": "completed"
    },
    "tags": []
   },
   "outputs": [
    {
     "data": {
      "text/plain": [
       "{'BIO_ddseq_1.20k': '../SCREEN_peaks/BIO_ddseq_1.FIXEDCELLS__SCREEN_consensus_peaks.bed',\n",
       " 'BIO_ddseq_2.20k': '../SCREEN_peaks/BIO_ddseq_2.FIXEDCELLS__SCREEN_consensus_peaks.bed',\n",
       " 'BIO_ddseq_3.20k': '../SCREEN_peaks/BIO_ddseq_3.FIXEDCELLS__SCREEN_consensus_peaks.bed',\n",
       " 'BIO_ddseq_4.20k': '../SCREEN_peaks/BIO_ddseq_4.FIXEDCELLS__SCREEN_consensus_peaks.bed',\n",
       " 'BRO_mtscatac_1.20k': '../SCREEN_peaks/BRO_mtscatac_1.FIXEDCELLS__SCREEN_consensus_peaks.bed',\n",
       " 'BRO_mtscatac_2.20k': '../SCREEN_peaks/BRO_mtscatac_2.FIXEDCELLS__SCREEN_consensus_peaks.bed',\n",
       " 'CNA_10xmultiome_1.20k': '../SCREEN_peaks/CNA_10xmultiome_1.FIXEDCELLS__SCREEN_consensus_peaks.bed',\n",
       " 'CNA_10xmultiome_2.20k': '../SCREEN_peaks/CNA_10xmultiome_2.FIXEDCELLS__SCREEN_consensus_peaks.bed',\n",
       " 'CNA_10xv11_1.20k': '../SCREEN_peaks/CNA_10xv11_1.FIXEDCELLS__SCREEN_consensus_peaks.bed',\n",
       " 'CNA_10xv11_2.20k': '../SCREEN_peaks/CNA_10xv11_2.FIXEDCELLS__SCREEN_consensus_peaks.bed',\n",
       " 'CNA_10xv11_3.20k': '../SCREEN_peaks/CNA_10xv11_3.FIXEDCELLS__SCREEN_consensus_peaks.bed',\n",
       " 'CNA_10xv11_4.20k': '../SCREEN_peaks/CNA_10xv11_4.FIXEDCELLS__SCREEN_consensus_peaks.bed',\n",
       " 'CNA_10xv11_5.20k': '../SCREEN_peaks/CNA_10xv11_5.FIXEDCELLS__SCREEN_consensus_peaks.bed',\n",
       " 'CNA_10xv2_1.20k': '../SCREEN_peaks/CNA_10xv2_1.FIXEDCELLS__SCREEN_consensus_peaks.bed',\n",
       " 'CNA_10xv2_2.20k': '../SCREEN_peaks/CNA_10xv2_2.FIXEDCELLS__SCREEN_consensus_peaks.bed',\n",
       " 'CNA_hydrop_1.20k': '../SCREEN_peaks/CNA_hydrop_1.FIXEDCELLS__SCREEN_consensus_peaks.bed',\n",
       " 'CNA_hydrop_2.20k': '../SCREEN_peaks/CNA_hydrop_2.FIXEDCELLS__SCREEN_consensus_peaks.bed',\n",
       " 'CNA_hydrop_3.20k': '../SCREEN_peaks/CNA_hydrop_3.FIXEDCELLS__SCREEN_consensus_peaks.bed',\n",
       " 'CNA_mtscatac_1.20k': '../SCREEN_peaks/CNA_mtscatac_1.FIXEDCELLS__SCREEN_consensus_peaks.bed',\n",
       " 'CNA_mtscatac_2.20k': '../SCREEN_peaks/CNA_mtscatac_2.FIXEDCELLS__SCREEN_consensus_peaks.bed',\n",
       " 'EPF_hydrop_1.20k': '../SCREEN_peaks/EPF_hydrop_1.FIXEDCELLS__SCREEN_consensus_peaks.bed',\n",
       " 'EPF_hydrop_2.20k': '../SCREEN_peaks/EPF_hydrop_2.FIXEDCELLS__SCREEN_consensus_peaks.bed',\n",
       " 'EPF_hydrop_3.20k': '../SCREEN_peaks/EPF_hydrop_3.FIXEDCELLS__SCREEN_consensus_peaks.bed',\n",
       " 'EPF_hydrop_4.20k': '../SCREEN_peaks/EPF_hydrop_4.FIXEDCELLS__SCREEN_consensus_peaks.bed',\n",
       " 'HAR_ddseq_1.20k': '../SCREEN_peaks/HAR_ddseq_1.FIXEDCELLS__SCREEN_consensus_peaks.bed',\n",
       " 'HAR_ddseq_2.20k': '../SCREEN_peaks/HAR_ddseq_2.FIXEDCELLS__SCREEN_consensus_peaks.bed',\n",
       " 'MDC_mtscatac_1.20k': '../SCREEN_peaks/MDC_mtscatac_1.FIXEDCELLS__SCREEN_consensus_peaks.bed',\n",
       " 'MDC_mtscatac_2.20k': '../SCREEN_peaks/MDC_mtscatac_2.FIXEDCELLS__SCREEN_consensus_peaks.bed',\n",
       " 'OHS_s3atac_1.20k': '../SCREEN_peaks/OHS_s3atac_1.FIXEDCELLS__SCREEN_consensus_peaks.bed',\n",
       " 'OHS_s3atac_2.20k': '../SCREEN_peaks/OHS_s3atac_2.FIXEDCELLS__SCREEN_consensus_peaks.bed',\n",
       " 'SAN_10xmultiome_1.20k': '../SCREEN_peaks/SAN_10xmultiome_1.FIXEDCELLS__SCREEN_consensus_peaks.bed',\n",
       " 'SAN_10xmultiome_2.20k': '../SCREEN_peaks/SAN_10xmultiome_2.FIXEDCELLS__SCREEN_consensus_peaks.bed',\n",
       " 'STA_10xv11_1.20k': '../SCREEN_peaks/STA_10xv11_1.FIXEDCELLS__SCREEN_consensus_peaks.bed',\n",
       " 'STA_10xv11_2.20k': '../SCREEN_peaks/STA_10xv11_2.FIXEDCELLS__SCREEN_consensus_peaks.bed',\n",
       " 'TXG_10xv11_1.20k': '../SCREEN_peaks/TXG_10xv11_1.FIXEDCELLS__SCREEN_consensus_peaks.bed',\n",
       " 'TXG_10xv2_1.20k': '../SCREEN_peaks/TXG_10xv2_1.FIXEDCELLS__SCREEN_consensus_peaks.bed',\n",
       " 'TXG_10xv2_2.20k': '../SCREEN_peaks/TXG_10xv2_2.FIXEDCELLS__SCREEN_consensus_peaks.bed',\n",
       " 'UCS_ddseq_1.20k': '../SCREEN_peaks/UCS_ddseq_1.FIXEDCELLS__SCREEN_consensus_peaks.bed',\n",
       " 'UCS_ddseq_2.20k': '../SCREEN_peaks/UCS_ddseq_2.FIXEDCELLS__SCREEN_consensus_peaks.bed',\n",
       " 'VIB_10xmultiome_1.20k': '../SCREEN_peaks/VIB_10xmultiome_1.FIXEDCELLS__SCREEN_consensus_peaks.bed',\n",
       " 'VIB_10xmultiome_2.20k': '../SCREEN_peaks/VIB_10xmultiome_2.FIXEDCELLS__SCREEN_consensus_peaks.bed',\n",
       " 'VIB_10xv1_1.20k': '../SCREEN_peaks/VIB_10xv1_1.FIXEDCELLS__SCREEN_consensus_peaks.bed',\n",
       " 'VIB_10xv1_2.20k': '../SCREEN_peaks/VIB_10xv1_2.FIXEDCELLS__SCREEN_consensus_peaks.bed',\n",
       " 'VIB_10xv2_1.20k': '../SCREEN_peaks/VIB_10xv2_1.FIXEDCELLS__SCREEN_consensus_peaks.bed',\n",
       " 'VIB_10xv2_2.20k': '../SCREEN_peaks/VIB_10xv2_2.FIXEDCELLS__SCREEN_consensus_peaks.bed',\n",
       " 'VIB_hydrop_1.20k': '../SCREEN_peaks/VIB_hydrop_1.FIXEDCELLS__SCREEN_consensus_peaks.bed',\n",
       " 'VIB_hydrop_11.20k': '../SCREEN_peaks/VIB_hydrop_1.FIXEDCELLS__SCREEN_consensus_peaks.bed',\n",
       " 'VIB_hydrop_12.20k': '../SCREEN_peaks/VIB_hydrop_1.FIXEDCELLS__SCREEN_consensus_peaks.bed',\n",
       " 'VIB_hydrop_2.20k': '../SCREEN_peaks/VIB_hydrop_2.FIXEDCELLS__SCREEN_consensus_peaks.bed',\n",
       " 'VIB_hydrop_21.20k': '../SCREEN_peaks/VIB_hydrop_2.FIXEDCELLS__SCREEN_consensus_peaks.bed',\n",
       " 'VIB_hydrop_22.20k': '../SCREEN_peaks/VIB_hydrop_2.FIXEDCELLS__SCREEN_consensus_peaks.bed'}"
      ]
     },
     "execution_count": 9,
     "metadata": {},
     "output_type": "execute_result"
    }
   ],
   "source": [
    "regions_paths_dict"
   ]
  },
  {
   "cell_type": "markdown",
   "id": "a58786aa",
   "metadata": {
    "papermill": {
     "duration": 0.005015,
     "end_time": "2022-09-14T20:16:53.825170",
     "exception": false,
     "start_time": "2022-09-14T20:16:53.820155",
     "status": "completed"
    },
    "tags": []
   },
   "source": [
    "Now, make a sub dictionary of all samples within the fragments dict that have not been run yet (good for resuming a stopped cistopic run):"
   ]
  },
  {
   "cell_type": "code",
   "execution_count": 10,
   "id": "13ad51aa",
   "metadata": {
    "execution": {
     "iopub.execute_input": "2022-09-14T20:16:53.836363Z",
     "iopub.status.busy": "2022-09-14T20:16:53.835865Z",
     "iopub.status.idle": "2022-09-14T20:16:53.840176Z",
     "shell.execute_reply": "2022-09-14T20:16:53.839640Z"
    },
    "papermill": {
     "duration": 0.01091,
     "end_time": "2022-09-14T20:16:53.841148",
     "exception": false,
     "start_time": "2022-09-14T20:16:53.830238",
     "status": "completed"
    },
    "tags": []
   },
   "outputs": [],
   "source": [
    "cistopic_qc_out = os.path.join(wdir, \"cistopic_qc_out_CONSENSUS\")\n",
    "if not os.path.exists(cistopic_qc_out):\n",
    "    os.makedirs(cistopic_qc_out)"
   ]
  },
  {
   "cell_type": "code",
   "execution_count": 11,
   "id": "161f54e5-1e0b-4277-b9ca-f0247df0e4e9",
   "metadata": {
    "execution": {
     "iopub.execute_input": "2022-09-14T20:16:53.852480Z",
     "iopub.status.busy": "2022-09-14T20:16:53.852078Z",
     "iopub.status.idle": "2022-09-14T20:16:53.863581Z",
     "shell.execute_reply": "2022-09-14T20:16:53.863041Z"
    },
    "papermill": {
     "duration": 0.01805,
     "end_time": "2022-09-14T20:16:53.864564",
     "exception": false,
     "start_time": "2022-09-14T20:16:53.846514",
     "status": "completed"
    },
    "tags": []
   },
   "outputs": [
    {
     "name": "stdout",
     "output_type": "stream",
     "text": [
      "Checking if /dodrio/scratch/projects/starting_2022_023/benchmark/scatac_benchmark/downsample_series/20k/cistopic_qc_out_CONSENSUS/BIO_ddseq_1.20k__metadata_bc.pkl exist...\n",
      "\tMetadata does not exist, adding to subdict to generate\n",
      "Checking if /dodrio/scratch/projects/starting_2022_023/benchmark/scatac_benchmark/downsample_series/20k/cistopic_qc_out_CONSENSUS/BIO_ddseq_2.20k__metadata_bc.pkl exist...\n",
      "\tMetadata does not exist, adding to subdict to generate\n",
      "Checking if /dodrio/scratch/projects/starting_2022_023/benchmark/scatac_benchmark/downsample_series/20k/cistopic_qc_out_CONSENSUS/BIO_ddseq_3.20k__metadata_bc.pkl exist...\n",
      "\tMetadata does not exist, adding to subdict to generate\n",
      "Checking if /dodrio/scratch/projects/starting_2022_023/benchmark/scatac_benchmark/downsample_series/20k/cistopic_qc_out_CONSENSUS/BIO_ddseq_4.20k__metadata_bc.pkl exist...\n",
      "\tMetadata does not exist, adding to subdict to generate\n",
      "Checking if /dodrio/scratch/projects/starting_2022_023/benchmark/scatac_benchmark/downsample_series/20k/cistopic_qc_out_CONSENSUS/BRO_mtscatac_1.20k__metadata_bc.pkl exist...\n",
      "\tMetadata does not exist, adding to subdict to generate\n",
      "Checking if /dodrio/scratch/projects/starting_2022_023/benchmark/scatac_benchmark/downsample_series/20k/cistopic_qc_out_CONSENSUS/BRO_mtscatac_2.20k__metadata_bc.pkl exist...\n",
      "\tMetadata does not exist, adding to subdict to generate\n",
      "Checking if /dodrio/scratch/projects/starting_2022_023/benchmark/scatac_benchmark/downsample_series/20k/cistopic_qc_out_CONSENSUS/CNA_10xmultiome_1.20k__metadata_bc.pkl exist...\n",
      "\tMetadata does not exist, adding to subdict to generate\n",
      "Checking if /dodrio/scratch/projects/starting_2022_023/benchmark/scatac_benchmark/downsample_series/20k/cistopic_qc_out_CONSENSUS/CNA_10xmultiome_2.20k__metadata_bc.pkl exist...\n",
      "\tMetadata does not exist, adding to subdict to generate\n",
      "Checking if /dodrio/scratch/projects/starting_2022_023/benchmark/scatac_benchmark/downsample_series/20k/cistopic_qc_out_CONSENSUS/CNA_10xv11_1.20k__metadata_bc.pkl exist...\n",
      "\tMetadata does not exist, adding to subdict to generate\n",
      "Checking if /dodrio/scratch/projects/starting_2022_023/benchmark/scatac_benchmark/downsample_series/20k/cistopic_qc_out_CONSENSUS/CNA_10xv11_2.20k__metadata_bc.pkl exist...\n",
      "\tMetadata does not exist, adding to subdict to generate\n",
      "Checking if /dodrio/scratch/projects/starting_2022_023/benchmark/scatac_benchmark/downsample_series/20k/cistopic_qc_out_CONSENSUS/CNA_10xv11_3.20k__metadata_bc.pkl exist...\n",
      "\tMetadata does not exist, adding to subdict to generate\n",
      "Checking if /dodrio/scratch/projects/starting_2022_023/benchmark/scatac_benchmark/downsample_series/20k/cistopic_qc_out_CONSENSUS/CNA_10xv11_4.20k__metadata_bc.pkl exist...\n",
      "\tMetadata does not exist, adding to subdict to generate\n",
      "Checking if /dodrio/scratch/projects/starting_2022_023/benchmark/scatac_benchmark/downsample_series/20k/cistopic_qc_out_CONSENSUS/CNA_10xv11_5.20k__metadata_bc.pkl exist...\n",
      "\tMetadata does not exist, adding to subdict to generate\n",
      "Checking if /dodrio/scratch/projects/starting_2022_023/benchmark/scatac_benchmark/downsample_series/20k/cistopic_qc_out_CONSENSUS/CNA_10xv2_1.20k__metadata_bc.pkl exist...\n",
      "\tMetadata does not exist, adding to subdict to generate\n",
      "Checking if /dodrio/scratch/projects/starting_2022_023/benchmark/scatac_benchmark/downsample_series/20k/cistopic_qc_out_CONSENSUS/CNA_10xv2_2.20k__metadata_bc.pkl exist...\n",
      "\tMetadata does not exist, adding to subdict to generate\n",
      "Checking if /dodrio/scratch/projects/starting_2022_023/benchmark/scatac_benchmark/downsample_series/20k/cistopic_qc_out_CONSENSUS/CNA_hydrop_1.20k__metadata_bc.pkl exist...\n",
      "\tMetadata does not exist, adding to subdict to generate\n",
      "Checking if /dodrio/scratch/projects/starting_2022_023/benchmark/scatac_benchmark/downsample_series/20k/cistopic_qc_out_CONSENSUS/CNA_hydrop_2.20k__metadata_bc.pkl exist...\n",
      "\tMetadata does not exist, adding to subdict to generate\n",
      "Checking if /dodrio/scratch/projects/starting_2022_023/benchmark/scatac_benchmark/downsample_series/20k/cistopic_qc_out_CONSENSUS/CNA_hydrop_3.20k__metadata_bc.pkl exist...\n",
      "\tMetadata does not exist, adding to subdict to generate\n",
      "Checking if /dodrio/scratch/projects/starting_2022_023/benchmark/scatac_benchmark/downsample_series/20k/cistopic_qc_out_CONSENSUS/CNA_mtscatac_1.20k__metadata_bc.pkl exist...\n",
      "\tMetadata does not exist, adding to subdict to generate\n",
      "Checking if /dodrio/scratch/projects/starting_2022_023/benchmark/scatac_benchmark/downsample_series/20k/cistopic_qc_out_CONSENSUS/CNA_mtscatac_2.20k__metadata_bc.pkl exist...\n",
      "\tMetadata does not exist, adding to subdict to generate\n",
      "Checking if /dodrio/scratch/projects/starting_2022_023/benchmark/scatac_benchmark/downsample_series/20k/cistopic_qc_out_CONSENSUS/EPF_hydrop_1.20k__metadata_bc.pkl exist...\n",
      "\tMetadata does not exist, adding to subdict to generate\n",
      "Checking if /dodrio/scratch/projects/starting_2022_023/benchmark/scatac_benchmark/downsample_series/20k/cistopic_qc_out_CONSENSUS/EPF_hydrop_2.20k__metadata_bc.pkl exist...\n",
      "\tMetadata does not exist, adding to subdict to generate\n",
      "Checking if /dodrio/scratch/projects/starting_2022_023/benchmark/scatac_benchmark/downsample_series/20k/cistopic_qc_out_CONSENSUS/EPF_hydrop_3.20k__metadata_bc.pkl exist...\n",
      "\tMetadata does not exist, adding to subdict to generate\n",
      "Checking if /dodrio/scratch/projects/starting_2022_023/benchmark/scatac_benchmark/downsample_series/20k/cistopic_qc_out_CONSENSUS/EPF_hydrop_4.20k__metadata_bc.pkl exist...\n",
      "\tMetadata does not exist, adding to subdict to generate\n",
      "Checking if /dodrio/scratch/projects/starting_2022_023/benchmark/scatac_benchmark/downsample_series/20k/cistopic_qc_out_CONSENSUS/HAR_ddseq_1.20k__metadata_bc.pkl exist...\n",
      "\tMetadata does not exist, adding to subdict to generate\n",
      "Checking if /dodrio/scratch/projects/starting_2022_023/benchmark/scatac_benchmark/downsample_series/20k/cistopic_qc_out_CONSENSUS/HAR_ddseq_2.20k__metadata_bc.pkl exist...\n",
      "\tMetadata does not exist, adding to subdict to generate\n",
      "Checking if /dodrio/scratch/projects/starting_2022_023/benchmark/scatac_benchmark/downsample_series/20k/cistopic_qc_out_CONSENSUS/MDC_mtscatac_1.20k__metadata_bc.pkl exist...\n",
      "\tMetadata does not exist, adding to subdict to generate\n",
      "Checking if /dodrio/scratch/projects/starting_2022_023/benchmark/scatac_benchmark/downsample_series/20k/cistopic_qc_out_CONSENSUS/MDC_mtscatac_2.20k__metadata_bc.pkl exist...\n",
      "\tMetadata does not exist, adding to subdict to generate\n",
      "Checking if /dodrio/scratch/projects/starting_2022_023/benchmark/scatac_benchmark/downsample_series/20k/cistopic_qc_out_CONSENSUS/OHS_s3atac_1.20k__metadata_bc.pkl exist...\n",
      "\tMetadata does not exist, adding to subdict to generate\n",
      "Checking if /dodrio/scratch/projects/starting_2022_023/benchmark/scatac_benchmark/downsample_series/20k/cistopic_qc_out_CONSENSUS/OHS_s3atac_2.20k__metadata_bc.pkl exist...\n",
      "\tMetadata does not exist, adding to subdict to generate\n",
      "Checking if /dodrio/scratch/projects/starting_2022_023/benchmark/scatac_benchmark/downsample_series/20k/cistopic_qc_out_CONSENSUS/SAN_10xmultiome_1.20k__metadata_bc.pkl exist...\n",
      "\tMetadata does not exist, adding to subdict to generate\n",
      "Checking if /dodrio/scratch/projects/starting_2022_023/benchmark/scatac_benchmark/downsample_series/20k/cistopic_qc_out_CONSENSUS/SAN_10xmultiome_2.20k__metadata_bc.pkl exist...\n",
      "\tMetadata does not exist, adding to subdict to generate\n",
      "Checking if /dodrio/scratch/projects/starting_2022_023/benchmark/scatac_benchmark/downsample_series/20k/cistopic_qc_out_CONSENSUS/STA_10xv11_1.20k__metadata_bc.pkl exist...\n",
      "\tMetadata does not exist, adding to subdict to generate\n",
      "Checking if /dodrio/scratch/projects/starting_2022_023/benchmark/scatac_benchmark/downsample_series/20k/cistopic_qc_out_CONSENSUS/STA_10xv11_2.20k__metadata_bc.pkl exist...\n",
      "\tMetadata does not exist, adding to subdict to generate\n",
      "Checking if /dodrio/scratch/projects/starting_2022_023/benchmark/scatac_benchmark/downsample_series/20k/cistopic_qc_out_CONSENSUS/TXG_10xv11_1.20k__metadata_bc.pkl exist...\n",
      "\tMetadata does not exist, adding to subdict to generate\n",
      "Checking if /dodrio/scratch/projects/starting_2022_023/benchmark/scatac_benchmark/downsample_series/20k/cistopic_qc_out_CONSENSUS/TXG_10xv2_1.20k__metadata_bc.pkl exist...\n",
      "\tMetadata does not exist, adding to subdict to generate\n",
      "Checking if /dodrio/scratch/projects/starting_2022_023/benchmark/scatac_benchmark/downsample_series/20k/cistopic_qc_out_CONSENSUS/TXG_10xv2_2.20k__metadata_bc.pkl exist...\n",
      "\tMetadata does not exist, adding to subdict to generate\n",
      "Checking if /dodrio/scratch/projects/starting_2022_023/benchmark/scatac_benchmark/downsample_series/20k/cistopic_qc_out_CONSENSUS/UCS_ddseq_1.20k__metadata_bc.pkl exist...\n",
      "\tMetadata does not exist, adding to subdict to generate\n",
      "Checking if /dodrio/scratch/projects/starting_2022_023/benchmark/scatac_benchmark/downsample_series/20k/cistopic_qc_out_CONSENSUS/UCS_ddseq_2.20k__metadata_bc.pkl exist...\n",
      "\tMetadata does not exist, adding to subdict to generate\n",
      "Checking if /dodrio/scratch/projects/starting_2022_023/benchmark/scatac_benchmark/downsample_series/20k/cistopic_qc_out_CONSENSUS/VIB_10xmultiome_1.20k__metadata_bc.pkl exist...\n",
      "\tMetadata does not exist, adding to subdict to generate\n",
      "Checking if /dodrio/scratch/projects/starting_2022_023/benchmark/scatac_benchmark/downsample_series/20k/cistopic_qc_out_CONSENSUS/VIB_10xmultiome_2.20k__metadata_bc.pkl exist...\n",
      "\tMetadata does not exist, adding to subdict to generate\n",
      "Checking if /dodrio/scratch/projects/starting_2022_023/benchmark/scatac_benchmark/downsample_series/20k/cistopic_qc_out_CONSENSUS/VIB_10xv1_1.20k__metadata_bc.pkl exist...\n",
      "\tMetadata does not exist, adding to subdict to generate\n",
      "Checking if /dodrio/scratch/projects/starting_2022_023/benchmark/scatac_benchmark/downsample_series/20k/cistopic_qc_out_CONSENSUS/VIB_10xv1_2.20k__metadata_bc.pkl exist...\n",
      "\tMetadata does not exist, adding to subdict to generate\n",
      "Checking if /dodrio/scratch/projects/starting_2022_023/benchmark/scatac_benchmark/downsample_series/20k/cistopic_qc_out_CONSENSUS/VIB_10xv2_1.20k__metadata_bc.pkl exist...\n",
      "\tMetadata does not exist, adding to subdict to generate\n",
      "Checking if /dodrio/scratch/projects/starting_2022_023/benchmark/scatac_benchmark/downsample_series/20k/cistopic_qc_out_CONSENSUS/VIB_10xv2_2.20k__metadata_bc.pkl exist...\n",
      "\tMetadata does not exist, adding to subdict to generate\n",
      "Checking if /dodrio/scratch/projects/starting_2022_023/benchmark/scatac_benchmark/downsample_series/20k/cistopic_qc_out_CONSENSUS/VIB_hydrop_11.20k__metadata_bc.pkl exist...\n",
      "\tMetadata does not exist, adding to subdict to generate\n",
      "Checking if /dodrio/scratch/projects/starting_2022_023/benchmark/scatac_benchmark/downsample_series/20k/cistopic_qc_out_CONSENSUS/VIB_hydrop_12.20k__metadata_bc.pkl exist...\n",
      "\tMetadata does not exist, adding to subdict to generate\n",
      "Checking if /dodrio/scratch/projects/starting_2022_023/benchmark/scatac_benchmark/downsample_series/20k/cistopic_qc_out_CONSENSUS/VIB_hydrop_21.20k__metadata_bc.pkl exist...\n",
      "\tMetadata does not exist, adding to subdict to generate\n",
      "Checking if /dodrio/scratch/projects/starting_2022_023/benchmark/scatac_benchmark/downsample_series/20k/cistopic_qc_out_CONSENSUS/VIB_hydrop_22.20k__metadata_bc.pkl exist...\n",
      "\tMetadata does not exist, adding to subdict to generate\n"
     ]
    }
   ],
   "source": [
    "fragments_sub_dict = {}\n",
    "regions_sub_dict = {}\n",
    "for sample in fragments_dict.keys():\n",
    "    metadata_file = os.path.join(cistopic_qc_out, sample + \"__metadata_bc.pkl\")\n",
    "    print(f\"Checking if {metadata_file} exist...\")\n",
    "    if os.path.exists(metadata_file):\n",
    "        print(\"\\tMetadata exists! Skipping...\")\n",
    "    else:\n",
    "        fragments_sub_dict[sample] = fragments_dict[sample]\n",
    "        print(\"\\tMetadata does not exist, adding to subdict to generate\")"
   ]
  },
  {
   "cell_type": "code",
   "execution_count": 12,
   "id": "b718b167-4d2f-454a-b7f0-4577f12bd1a8",
   "metadata": {
    "execution": {
     "iopub.execute_input": "2022-09-14T20:16:53.875802Z",
     "iopub.status.busy": "2022-09-14T20:16:53.875639Z",
     "iopub.status.idle": "2022-09-14T20:16:53.879411Z",
     "shell.execute_reply": "2022-09-14T20:16:53.878849Z"
    },
    "papermill": {
     "duration": 0.010406,
     "end_time": "2022-09-14T20:16:53.880317",
     "exception": false,
     "start_time": "2022-09-14T20:16:53.869911",
     "status": "completed"
    },
    "tags": []
   },
   "outputs": [],
   "source": [
    "regions_sub_dict = {x: regions_paths_dict[x] for x in sorted(regions_paths_dict.keys())}"
   ]
  },
  {
   "cell_type": "code",
   "execution_count": 13,
   "id": "c5a500ab-e738-4df7-971d-8d70ff2aff0a",
   "metadata": {
    "execution": {
     "iopub.execute_input": "2022-09-14T20:16:53.891968Z",
     "iopub.status.busy": "2022-09-14T20:16:53.891550Z",
     "iopub.status.idle": "2022-09-14T20:16:53.896591Z",
     "shell.execute_reply": "2022-09-14T20:16:53.896019Z"
    },
    "papermill": {
     "duration": 0.011711,
     "end_time": "2022-09-14T20:16:53.897505",
     "exception": false,
     "start_time": "2022-09-14T20:16:53.885794",
     "status": "completed"
    },
    "tags": []
   },
   "outputs": [
    {
     "data": {
      "text/plain": [
       "{'BIO_ddseq_1.20k': '../SCREEN_peaks/BIO_ddseq_1.FIXEDCELLS__SCREEN_consensus_peaks.bed',\n",
       " 'BIO_ddseq_2.20k': '../SCREEN_peaks/BIO_ddseq_2.FIXEDCELLS__SCREEN_consensus_peaks.bed',\n",
       " 'BIO_ddseq_3.20k': '../SCREEN_peaks/BIO_ddseq_3.FIXEDCELLS__SCREEN_consensus_peaks.bed',\n",
       " 'BIO_ddseq_4.20k': '../SCREEN_peaks/BIO_ddseq_4.FIXEDCELLS__SCREEN_consensus_peaks.bed',\n",
       " 'BRO_mtscatac_1.20k': '../SCREEN_peaks/BRO_mtscatac_1.FIXEDCELLS__SCREEN_consensus_peaks.bed',\n",
       " 'BRO_mtscatac_2.20k': '../SCREEN_peaks/BRO_mtscatac_2.FIXEDCELLS__SCREEN_consensus_peaks.bed',\n",
       " 'CNA_10xmultiome_1.20k': '../SCREEN_peaks/CNA_10xmultiome_1.FIXEDCELLS__SCREEN_consensus_peaks.bed',\n",
       " 'CNA_10xmultiome_2.20k': '../SCREEN_peaks/CNA_10xmultiome_2.FIXEDCELLS__SCREEN_consensus_peaks.bed',\n",
       " 'CNA_10xv11_1.20k': '../SCREEN_peaks/CNA_10xv11_1.FIXEDCELLS__SCREEN_consensus_peaks.bed',\n",
       " 'CNA_10xv11_2.20k': '../SCREEN_peaks/CNA_10xv11_2.FIXEDCELLS__SCREEN_consensus_peaks.bed',\n",
       " 'CNA_10xv11_3.20k': '../SCREEN_peaks/CNA_10xv11_3.FIXEDCELLS__SCREEN_consensus_peaks.bed',\n",
       " 'CNA_10xv11_4.20k': '../SCREEN_peaks/CNA_10xv11_4.FIXEDCELLS__SCREEN_consensus_peaks.bed',\n",
       " 'CNA_10xv11_5.20k': '../SCREEN_peaks/CNA_10xv11_5.FIXEDCELLS__SCREEN_consensus_peaks.bed',\n",
       " 'CNA_10xv2_1.20k': '../SCREEN_peaks/CNA_10xv2_1.FIXEDCELLS__SCREEN_consensus_peaks.bed',\n",
       " 'CNA_10xv2_2.20k': '../SCREEN_peaks/CNA_10xv2_2.FIXEDCELLS__SCREEN_consensus_peaks.bed',\n",
       " 'CNA_hydrop_1.20k': '../SCREEN_peaks/CNA_hydrop_1.FIXEDCELLS__SCREEN_consensus_peaks.bed',\n",
       " 'CNA_hydrop_2.20k': '../SCREEN_peaks/CNA_hydrop_2.FIXEDCELLS__SCREEN_consensus_peaks.bed',\n",
       " 'CNA_hydrop_3.20k': '../SCREEN_peaks/CNA_hydrop_3.FIXEDCELLS__SCREEN_consensus_peaks.bed',\n",
       " 'CNA_mtscatac_1.20k': '../SCREEN_peaks/CNA_mtscatac_1.FIXEDCELLS__SCREEN_consensus_peaks.bed',\n",
       " 'CNA_mtscatac_2.20k': '../SCREEN_peaks/CNA_mtscatac_2.FIXEDCELLS__SCREEN_consensus_peaks.bed',\n",
       " 'EPF_hydrop_1.20k': '../SCREEN_peaks/EPF_hydrop_1.FIXEDCELLS__SCREEN_consensus_peaks.bed',\n",
       " 'EPF_hydrop_2.20k': '../SCREEN_peaks/EPF_hydrop_2.FIXEDCELLS__SCREEN_consensus_peaks.bed',\n",
       " 'EPF_hydrop_3.20k': '../SCREEN_peaks/EPF_hydrop_3.FIXEDCELLS__SCREEN_consensus_peaks.bed',\n",
       " 'EPF_hydrop_4.20k': '../SCREEN_peaks/EPF_hydrop_4.FIXEDCELLS__SCREEN_consensus_peaks.bed',\n",
       " 'HAR_ddseq_1.20k': '../SCREEN_peaks/HAR_ddseq_1.FIXEDCELLS__SCREEN_consensus_peaks.bed',\n",
       " 'HAR_ddseq_2.20k': '../SCREEN_peaks/HAR_ddseq_2.FIXEDCELLS__SCREEN_consensus_peaks.bed',\n",
       " 'MDC_mtscatac_1.20k': '../SCREEN_peaks/MDC_mtscatac_1.FIXEDCELLS__SCREEN_consensus_peaks.bed',\n",
       " 'MDC_mtscatac_2.20k': '../SCREEN_peaks/MDC_mtscatac_2.FIXEDCELLS__SCREEN_consensus_peaks.bed',\n",
       " 'OHS_s3atac_1.20k': '../SCREEN_peaks/OHS_s3atac_1.FIXEDCELLS__SCREEN_consensus_peaks.bed',\n",
       " 'OHS_s3atac_2.20k': '../SCREEN_peaks/OHS_s3atac_2.FIXEDCELLS__SCREEN_consensus_peaks.bed',\n",
       " 'SAN_10xmultiome_1.20k': '../SCREEN_peaks/SAN_10xmultiome_1.FIXEDCELLS__SCREEN_consensus_peaks.bed',\n",
       " 'SAN_10xmultiome_2.20k': '../SCREEN_peaks/SAN_10xmultiome_2.FIXEDCELLS__SCREEN_consensus_peaks.bed',\n",
       " 'STA_10xv11_1.20k': '../SCREEN_peaks/STA_10xv11_1.FIXEDCELLS__SCREEN_consensus_peaks.bed',\n",
       " 'STA_10xv11_2.20k': '../SCREEN_peaks/STA_10xv11_2.FIXEDCELLS__SCREEN_consensus_peaks.bed',\n",
       " 'TXG_10xv11_1.20k': '../SCREEN_peaks/TXG_10xv11_1.FIXEDCELLS__SCREEN_consensus_peaks.bed',\n",
       " 'TXG_10xv2_1.20k': '../SCREEN_peaks/TXG_10xv2_1.FIXEDCELLS__SCREEN_consensus_peaks.bed',\n",
       " 'TXG_10xv2_2.20k': '../SCREEN_peaks/TXG_10xv2_2.FIXEDCELLS__SCREEN_consensus_peaks.bed',\n",
       " 'UCS_ddseq_1.20k': '../SCREEN_peaks/UCS_ddseq_1.FIXEDCELLS__SCREEN_consensus_peaks.bed',\n",
       " 'UCS_ddseq_2.20k': '../SCREEN_peaks/UCS_ddseq_2.FIXEDCELLS__SCREEN_consensus_peaks.bed',\n",
       " 'VIB_10xmultiome_1.20k': '../SCREEN_peaks/VIB_10xmultiome_1.FIXEDCELLS__SCREEN_consensus_peaks.bed',\n",
       " 'VIB_10xmultiome_2.20k': '../SCREEN_peaks/VIB_10xmultiome_2.FIXEDCELLS__SCREEN_consensus_peaks.bed',\n",
       " 'VIB_10xv1_1.20k': '../SCREEN_peaks/VIB_10xv1_1.FIXEDCELLS__SCREEN_consensus_peaks.bed',\n",
       " 'VIB_10xv1_2.20k': '../SCREEN_peaks/VIB_10xv1_2.FIXEDCELLS__SCREEN_consensus_peaks.bed',\n",
       " 'VIB_10xv2_1.20k': '../SCREEN_peaks/VIB_10xv2_1.FIXEDCELLS__SCREEN_consensus_peaks.bed',\n",
       " 'VIB_10xv2_2.20k': '../SCREEN_peaks/VIB_10xv2_2.FIXEDCELLS__SCREEN_consensus_peaks.bed',\n",
       " 'VIB_hydrop_1.20k': '../SCREEN_peaks/VIB_hydrop_1.FIXEDCELLS__SCREEN_consensus_peaks.bed',\n",
       " 'VIB_hydrop_11.20k': '../SCREEN_peaks/VIB_hydrop_1.FIXEDCELLS__SCREEN_consensus_peaks.bed',\n",
       " 'VIB_hydrop_12.20k': '../SCREEN_peaks/VIB_hydrop_1.FIXEDCELLS__SCREEN_consensus_peaks.bed',\n",
       " 'VIB_hydrop_2.20k': '../SCREEN_peaks/VIB_hydrop_2.FIXEDCELLS__SCREEN_consensus_peaks.bed',\n",
       " 'VIB_hydrop_21.20k': '../SCREEN_peaks/VIB_hydrop_2.FIXEDCELLS__SCREEN_consensus_peaks.bed',\n",
       " 'VIB_hydrop_22.20k': '../SCREEN_peaks/VIB_hydrop_2.FIXEDCELLS__SCREEN_consensus_peaks.bed'}"
      ]
     },
     "execution_count": 13,
     "metadata": {},
     "output_type": "execute_result"
    }
   ],
   "source": [
    "regions_sub_dict"
   ]
  },
  {
   "cell_type": "code",
   "execution_count": 14,
   "id": "177d09f9-7f1b-4dbc-8969-4f8afca8e12f",
   "metadata": {
    "execution": {
     "iopub.execute_input": "2022-09-14T20:16:53.908808Z",
     "iopub.status.busy": "2022-09-14T20:16:53.908644Z",
     "iopub.status.idle": "2022-09-14T20:16:53.913394Z",
     "shell.execute_reply": "2022-09-14T20:16:53.912891Z"
    },
    "papermill": {
     "duration": 0.011486,
     "end_time": "2022-09-14T20:16:53.914395",
     "exception": false,
     "start_time": "2022-09-14T20:16:53.902909",
     "status": "completed"
    },
    "tags": []
   },
   "outputs": [
    {
     "data": {
      "text/plain": [
       "{'VIB_hydrop_1.20k', 'VIB_hydrop_2.20k'}"
      ]
     },
     "execution_count": 14,
     "metadata": {},
     "output_type": "execute_result"
    }
   ],
   "source": [
    "set(regions_sub_dict) == set(fragments_sub_dict)\n",
    "set(regions_sub_dict) - set(fragments_sub_dict)"
   ]
  },
  {
   "cell_type": "code",
   "execution_count": 15,
   "id": "e4524e19-a30c-49d3-a910-5bc39a9e349e",
   "metadata": {
    "execution": {
     "iopub.execute_input": "2022-09-14T20:16:53.927200Z",
     "iopub.status.busy": "2022-09-14T20:16:53.926779Z",
     "iopub.status.idle": "2022-09-14T20:16:53.930215Z",
     "shell.execute_reply": "2022-09-14T20:16:53.929682Z"
    },
    "papermill": {
     "duration": 0.010363,
     "end_time": "2022-09-14T20:16:53.931119",
     "exception": false,
     "start_time": "2022-09-14T20:16:53.920756",
     "status": "completed"
    },
    "tags": []
   },
   "outputs": [],
   "source": [
    "common = set(fragments_sub_dict).intersection(set(regions_sub_dict))"
   ]
  },
  {
   "cell_type": "code",
   "execution_count": 16,
   "id": "13650870-4b93-4373-a7de-dce223fa0d5a",
   "metadata": {
    "execution": {
     "iopub.execute_input": "2022-09-14T20:16:53.943147Z",
     "iopub.status.busy": "2022-09-14T20:16:53.942720Z",
     "iopub.status.idle": "2022-09-14T20:16:53.946659Z",
     "shell.execute_reply": "2022-09-14T20:16:53.946163Z"
    },
    "papermill": {
     "duration": 0.01077,
     "end_time": "2022-09-14T20:16:53.947550",
     "exception": false,
     "start_time": "2022-09-14T20:16:53.936780",
     "status": "completed"
    },
    "tags": []
   },
   "outputs": [
    {
     "data": {
      "text/plain": [
       "49"
      ]
     },
     "execution_count": 16,
     "metadata": {},
     "output_type": "execute_result"
    }
   ],
   "source": [
    "len(common)"
   ]
  },
  {
   "cell_type": "code",
   "execution_count": 17,
   "id": "b0652173-a623-4a34-babb-bfe872ac0bd0",
   "metadata": {
    "execution": {
     "iopub.execute_input": "2022-09-14T20:16:53.959544Z",
     "iopub.status.busy": "2022-09-14T20:16:53.959194Z",
     "iopub.status.idle": "2022-09-14T20:16:53.963462Z",
     "shell.execute_reply": "2022-09-14T20:16:53.962921Z"
    },
    "papermill": {
     "duration": 0.011204,
     "end_time": "2022-09-14T20:16:53.964420",
     "exception": false,
     "start_time": "2022-09-14T20:16:53.953216",
     "status": "completed"
    },
    "tags": []
   },
   "outputs": [],
   "source": [
    "regions_sub_dict = {x: regions_sub_dict[x] for x in list(common)}\n",
    "fragments_sub_dict = {x: fragments_sub_dict[x] for x in list(common)}"
   ]
  },
  {
   "cell_type": "code",
   "execution_count": 18,
   "id": "92ba8eb2-3d7d-4d66-9eed-a92a54433d2e",
   "metadata": {
    "execution": {
     "iopub.execute_input": "2022-09-14T20:16:53.976496Z",
     "iopub.status.busy": "2022-09-14T20:16:53.976074Z",
     "iopub.status.idle": "2022-09-14T20:16:53.979280Z",
     "shell.execute_reply": "2022-09-14T20:16:53.978703Z"
    },
    "papermill": {
     "duration": 0.010185,
     "end_time": "2022-09-14T20:16:53.980269",
     "exception": false,
     "start_time": "2022-09-14T20:16:53.970084",
     "status": "completed"
    },
    "tags": []
   },
   "outputs": [],
   "source": [
    "ray.shutdown()"
   ]
  },
  {
   "cell_type": "code",
   "execution_count": 19,
   "id": "0a585a26",
   "metadata": {
    "execution": {
     "iopub.execute_input": "2022-09-14T20:16:53.992410Z",
     "iopub.status.busy": "2022-09-14T20:16:53.991974Z",
     "iopub.status.idle": "2022-09-14T23:13:43.783851Z",
     "shell.execute_reply": "2022-09-14T23:13:43.783164Z"
    },
    "papermill": {
     "duration": 10609.815358,
     "end_time": "2022-09-14T23:13:43.801213",
     "exception": false,
     "start_time": "2022-09-14T20:16:53.985855",
     "status": "completed"
    },
    "tags": []
   },
   "outputs": [
    {
     "name": "stderr",
     "output_type": "stream",
     "text": [
      "2022-09-14 20:16:58,386\tINFO services.py:1470 -- View the Ray dashboard at \u001b[1m\u001b[32mhttp://127.0.0.1:8265\u001b[39m\u001b[22m\n"
     ]
    },
    {
     "name": "stdout",
     "output_type": "stream",
     "text": [
      "\u001b[2m\u001b[36m(compute_qc_stats_ray pid=2092119)\u001b[0m 2022-09-14 20:17:47,114 cisTopic     INFO     Reading BRO_mtscatac_2.20k\n",
      "\u001b[2m\u001b[36m(compute_qc_stats_ray pid=2092117)\u001b[0m 2022-09-14 20:17:47,247 cisTopic     INFO     Reading CNA_10xv11_5.20k\n"
     ]
    },
    {
     "name": "stdout",
     "output_type": "stream",
     "text": [
      "\u001b[2m\u001b[36m(compute_qc_stats_ray pid=2092118)\u001b[0m 2022-09-14 20:17:47,151 cisTopic     INFO     Reading SAN_10xmultiome_2.20k\n",
      "\u001b[2m\u001b[36m(compute_qc_stats_ray pid=2092116)\u001b[0m 2022-09-14 20:17:47,261 cisTopic     INFO     Reading VIB_hydrop_21.20k\n"
     ]
    },
    {
     "name": "stdout",
     "output_type": "stream",
     "text": [
      "\u001b[2m\u001b[36m(compute_qc_stats_ray pid=2092115)\u001b[0m 2022-09-14 20:17:47,676 cisTopic     INFO     Reading BIO_ddseq_4.20k\n",
      "\u001b[2m\u001b[36m(compute_qc_stats_ray pid=2092113)\u001b[0m 2022-09-14 20:17:47,842 cisTopic     INFO     Reading CNA_hydrop_2.20k\n"
     ]
    },
    {
     "name": "stdout",
     "output_type": "stream",
     "text": [
      "\u001b[2m\u001b[36m(compute_qc_stats_ray pid=2092114)\u001b[0m 2022-09-14 20:17:48,126 cisTopic     INFO     Reading BIO_ddseq_2.20k\n"
     ]
    },
    {
     "name": "stdout",
     "output_type": "stream",
     "text": [
      "\u001b[2m\u001b[36m(compute_qc_stats_ray pid=2092111)\u001b[0m 2022-09-14 20:17:48,328 cisTopic     INFO     Reading OHS_s3atac_2.20k\n",
      "\u001b[2m\u001b[36m(compute_qc_stats_ray pid=2092112)\u001b[0m 2022-09-14 20:17:48,287 cisTopic     INFO     Reading HAR_ddseq_1.20k\n"
     ]
    },
    {
     "name": "stdout",
     "output_type": "stream",
     "text": [
      "\u001b[2m\u001b[36m(compute_qc_stats_ray pid=2092110)\u001b[0m 2022-09-14 20:17:48,485 cisTopic     INFO     Reading EPF_hydrop_3.20k\n"
     ]
    },
    {
     "name": "stdout",
     "output_type": "stream",
     "text": [
      "\u001b[2m\u001b[36m(compute_qc_stats_ray pid=2092109)\u001b[0m 2022-09-14 20:17:48,681 cisTopic     INFO     Reading OHS_s3atac_1.20k\n"
     ]
    },
    {
     "name": "stdout",
     "output_type": "stream",
     "text": [
      "\u001b[2m\u001b[36m(compute_qc_stats_ray pid=2092107)\u001b[0m 2022-09-14 20:17:49,004 cisTopic     INFO     Reading CNA_10xv11_3.20k\n"
     ]
    },
    {
     "name": "stdout",
     "output_type": "stream",
     "text": [
      "\u001b[2m\u001b[36m(compute_qc_stats_ray pid=2092106)\u001b[0m 2022-09-14 20:17:49,262 cisTopic     INFO     Reading VIB_10xv2_2.20k\n",
      "\u001b[2m\u001b[36m(compute_qc_stats_ray pid=2092105)\u001b[0m 2022-09-14 20:17:49,332 cisTopic     INFO     Reading VIB_10xv2_1.20k\n"
     ]
    },
    {
     "name": "stdout",
     "output_type": "stream",
     "text": [
      "\u001b[2m\u001b[36m(compute_qc_stats_ray pid=2092104)\u001b[0m 2022-09-14 20:17:49,391 cisTopic     INFO     Reading MDC_mtscatac_2.20k\n",
      "\u001b[2m\u001b[36m(compute_qc_stats_ray pid=2092103)\u001b[0m 2022-09-14 20:17:49,548 cisTopic     INFO     Reading MDC_mtscatac_1.20k\n"
     ]
    },
    {
     "name": "stdout",
     "output_type": "stream",
     "text": [
      "\u001b[2m\u001b[36m(compute_qc_stats_ray pid=2092117)\u001b[0m 2022-09-14 20:20:39,166 cisTopic     INFO     Computing barcode rank plot for CNA_10xv11_5.20k\n",
      "\u001b[2m\u001b[36m(compute_qc_stats_ray pid=2092117)\u001b[0m 2022-09-14 20:20:39,166 cisTopic     INFO     Counting fragments\n"
     ]
    },
    {
     "name": "stdout",
     "output_type": "stream",
     "text": [
      "\u001b[2m\u001b[36m(compute_qc_stats_ray pid=2092117)\u001b[0m 2022-09-14 20:20:47,669 cisTopic     INFO     Marking barcodes with more than 10\n"
     ]
    },
    {
     "name": "stdout",
     "output_type": "stream",
     "text": [
      "\u001b[2m\u001b[36m(compute_qc_stats_ray pid=2092117)\u001b[0m 2022-09-14 20:20:48,012 cisTopic     INFO     Returning plot data\n",
      "\u001b[2m\u001b[36m(compute_qc_stats_ray pid=2092117)\u001b[0m 2022-09-14 20:20:48,013 cisTopic     INFO     Returning valid barcodes\n"
     ]
    },
    {
     "name": "stdout",
     "output_type": "stream",
     "text": [
      "\u001b[2m\u001b[36m(compute_qc_stats_ray pid=2092117)\u001b[0m 2022-09-14 20:20:58,240 cisTopic     INFO     Computing duplicate rate plot for CNA_10xv11_5.20k\n"
     ]
    },
    {
     "name": "stdout",
     "output_type": "stream",
     "text": [
      "\u001b[2m\u001b[36m(compute_qc_stats_ray pid=2092117)\u001b[0m 2022-09-14 20:21:13,047 cisTopic     INFO     Return plot data\n"
     ]
    },
    {
     "name": "stdout",
     "output_type": "stream",
     "text": [
      "\u001b[2m\u001b[36m(compute_qc_stats_ray pid=2092117)\u001b[0m 2022-09-14 20:21:14,317 cisTopic     INFO     Computing insert size distribution for CNA_10xv11_5.20k\n",
      "\u001b[2m\u001b[36m(compute_qc_stats_ray pid=2092117)\u001b[0m 2022-09-14 20:21:14,317 cisTopic     INFO     Counting fragments\n"
     ]
    },
    {
     "name": "stdout",
     "output_type": "stream",
     "text": [
      "\u001b[2m\u001b[36m(compute_qc_stats_ray pid=2092117)\u001b[0m 2022-09-14 20:21:18,251 cisTopic     INFO     Returning plot data\n"
     ]
    },
    {
     "name": "stdout",
     "output_type": "stream",
     "text": [
      "\u001b[2m\u001b[36m(compute_qc_stats_ray pid=2092116)\u001b[0m 2022-09-14 20:22:11,265 cisTopic     INFO     Computing barcode rank plot for VIB_hydrop_21.20k\n",
      "\u001b[2m\u001b[36m(compute_qc_stats_ray pid=2092116)\u001b[0m 2022-09-14 20:22:11,265 cisTopic     INFO     Counting fragments\n"
     ]
    },
    {
     "name": "stdout",
     "output_type": "stream",
     "text": [
      "\u001b[2m\u001b[36m(compute_qc_stats_ray pid=2092116)\u001b[0m 2022-09-14 20:22:23,403 cisTopic     INFO     Marking barcodes with more than 10\n"
     ]
    },
    {
     "name": "stdout",
     "output_type": "stream",
     "text": [
      "\u001b[2m\u001b[36m(compute_qc_stats_ray pid=2092116)\u001b[0m 2022-09-14 20:22:23,892 cisTopic     INFO     Returning plot data\n"
     ]
    },
    {
     "name": "stdout",
     "output_type": "stream",
     "text": [
      "\u001b[2m\u001b[36m(compute_qc_stats_ray pid=2092116)\u001b[0m 2022-09-14 20:22:24,090 cisTopic     INFO     Returning valid barcodes\n"
     ]
    },
    {
     "name": "stdout",
     "output_type": "stream",
     "text": [
      "\u001b[2m\u001b[36m(compute_qc_stats_ray pid=2092117)\u001b[0m 2022-09-14 20:22:30,892 cisTopic     INFO     Computing TSS profile for CNA_10xv11_5.20k\n"
     ]
    },
    {
     "name": "stdout",
     "output_type": "stream",
     "text": [
      "\u001b[2m\u001b[36m(compute_qc_stats_ray pid=2092110)\u001b[0m 2022-09-14 20:22:31,706 cisTopic     INFO     Computing barcode rank plot for EPF_hydrop_3.20k\n",
      "\u001b[2m\u001b[36m(compute_qc_stats_ray pid=2092110)\u001b[0m 2022-09-14 20:22:31,706 cisTopic     INFO     Counting fragments\n"
     ]
    },
    {
     "name": "stdout",
     "output_type": "stream",
     "text": [
      "\u001b[2m\u001b[36m(compute_qc_stats_ray pid=2092116)\u001b[0m 2022-09-14 20:22:36,047 cisTopic     INFO     Computing duplicate rate plot for VIB_hydrop_21.20k\n"
     ]
    },
    {
     "name": "stdout",
     "output_type": "stream",
     "text": [
      "\u001b[2m\u001b[36m(compute_qc_stats_ray pid=2092117)\u001b[0m 2022-09-14 20:22:43,021 cisTopic     INFO     Formatting annnotation\n"
     ]
    },
    {
     "name": "stdout",
     "output_type": "stream",
     "text": [
      "\u001b[2m\u001b[36m(compute_qc_stats_ray pid=2092117)\u001b[0m 2022-09-14 20:22:43,976 cisTopic     INFO     Creating coverage matrix\n"
     ]
    },
    {
     "name": "stdout",
     "output_type": "stream",
     "text": [
      "\u001b[2m\u001b[36m(compute_qc_stats_ray pid=2092110)\u001b[0m 2022-09-14 20:22:45,099 cisTopic     INFO     Marking barcodes with more than 10\n"
     ]
    },
    {
     "name": "stdout",
     "output_type": "stream",
     "text": [
      "\u001b[2m\u001b[36m(compute_qc_stats_ray pid=2092110)\u001b[0m 2022-09-14 20:22:45,634 cisTopic     INFO     Returning plot data\n",
      "\u001b[2m\u001b[36m(compute_qc_stats_ray pid=2092110)\u001b[0m 2022-09-14 20:22:45,797 cisTopic     INFO     Returning valid barcodes\n"
     ]
    },
    {
     "name": "stdout",
     "output_type": "stream",
     "text": [
      "\u001b[2m\u001b[36m(compute_qc_stats_ray pid=2092116)\u001b[0m 2022-09-14 20:22:55,555 cisTopic     INFO     Return plot data\n"
     ]
    },
    {
     "name": "stdout",
     "output_type": "stream",
     "text": [
      "\u001b[2m\u001b[36m(compute_qc_stats_ray pid=2092116)\u001b[0m 2022-09-14 20:22:56,944 cisTopic     INFO     Computing insert size distribution for VIB_hydrop_21.20k\n",
      "\u001b[2m\u001b[36m(compute_qc_stats_ray pid=2092116)\u001b[0m 2022-09-14 20:22:56,944 cisTopic     INFO     Counting fragments\n"
     ]
    },
    {
     "name": "stdout",
     "output_type": "stream",
     "text": [
      "\u001b[2m\u001b[36m(compute_qc_stats_ray pid=2092110)\u001b[0m 2022-09-14 20:22:58,972 cisTopic     INFO     Computing duplicate rate plot for EPF_hydrop_3.20k\n"
     ]
    },
    {
     "name": "stdout",
     "output_type": "stream",
     "text": [
      "\u001b[2m\u001b[36m(compute_qc_stats_ray pid=2092116)\u001b[0m 2022-09-14 20:23:01,594 cisTopic     INFO     Returning plot data\n"
     ]
    },
    {
     "name": "stdout",
     "output_type": "stream",
     "text": [
      "\u001b[2m\u001b[36m(compute_qc_stats_ray pid=2092113)\u001b[0m 2022-09-14 20:23:04,452 cisTopic     INFO     Computing barcode rank plot for CNA_hydrop_2.20k\n",
      "\u001b[2m\u001b[36m(compute_qc_stats_ray pid=2092113)\u001b[0m 2022-09-14 20:23:04,452 cisTopic     INFO     Counting fragments\n"
     ]
    },
    {
     "name": "stdout",
     "output_type": "stream",
     "text": [
      "\u001b[2m\u001b[36m(compute_qc_stats_ray pid=2092111)\u001b[0m 2022-09-14 20:23:10,701 cisTopic     INFO     Computing barcode rank plot for OHS_s3atac_2.20k\n",
      "\u001b[2m\u001b[36m(compute_qc_stats_ray pid=2092111)\u001b[0m 2022-09-14 20:23:10,701 cisTopic     INFO     Counting fragments\n"
     ]
    },
    {
     "name": "stdout",
     "output_type": "stream",
     "text": [
      "\u001b[2m\u001b[36m(compute_qc_stats_ray pid=2092113)\u001b[0m 2022-09-14 20:23:18,404 cisTopic     INFO     Marking barcodes with more than 10\n"
     ]
    },
    {
     "name": "stdout",
     "output_type": "stream",
     "text": [
      "\u001b[2m\u001b[36m(compute_qc_stats_ray pid=2092113)\u001b[0m 2022-09-14 20:23:18,945 cisTopic     INFO     Returning plot data\n",
      "\u001b[2m\u001b[36m(compute_qc_stats_ray pid=2092113)\u001b[0m 2022-09-14 20:23:19,131 cisTopic     INFO     Returning valid barcodes\n"
     ]
    },
    {
     "name": "stdout",
     "output_type": "stream",
     "text": [
      "\u001b[2m\u001b[36m(compute_qc_stats_ray pid=2092110)\u001b[0m 2022-09-14 20:23:20,005 cisTopic     INFO     Return plot data\n"
     ]
    },
    {
     "name": "stdout",
     "output_type": "stream",
     "text": [
      "\u001b[2m\u001b[36m(compute_qc_stats_ray pid=2092110)\u001b[0m 2022-09-14 20:23:21,266 cisTopic     INFO     Computing insert size distribution for EPF_hydrop_3.20k\n",
      "\u001b[2m\u001b[36m(compute_qc_stats_ray pid=2092110)\u001b[0m 2022-09-14 20:23:21,267 cisTopic     INFO     Counting fragments\n"
     ]
    },
    {
     "name": "stdout",
     "output_type": "stream",
     "text": [
      "\u001b[2m\u001b[36m(compute_qc_stats_ray pid=2092111)\u001b[0m 2022-09-14 20:23:22,799 cisTopic     INFO     Marking barcodes with more than 10\n",
      "\u001b[2m\u001b[36m(compute_qc_stats_ray pid=2092111)\u001b[0m 2022-09-14 20:23:22,884 cisTopic     INFO     Returning plot data\n",
      "\u001b[2m\u001b[36m(compute_qc_stats_ray pid=2092111)\u001b[0m 2022-09-14 20:23:22,886 cisTopic     INFO     Returning valid barcodes\n"
     ]
    },
    {
     "name": "stdout",
     "output_type": "stream",
     "text": [
      "\u001b[2m\u001b[36m(compute_qc_stats_ray pid=2092110)\u001b[0m 2022-09-14 20:23:26,432 cisTopic     INFO     Returning plot data\n"
     ]
    },
    {
     "name": "stdout",
     "output_type": "stream",
     "text": [
      "\u001b[2m\u001b[36m(compute_qc_stats_ray pid=2092113)\u001b[0m 2022-09-14 20:23:32,959 cisTopic     INFO     Computing duplicate rate plot for CNA_hydrop_2.20k\n"
     ]
    },
    {
     "name": "stdout",
     "output_type": "stream",
     "text": [
      "\u001b[2m\u001b[36m(compute_qc_stats_ray pid=2092111)\u001b[0m 2022-09-14 20:23:39,092 cisTopic     INFO     Computing duplicate rate plot for OHS_s3atac_2.20k\n"
     ]
    },
    {
     "name": "stdout",
     "output_type": "stream",
     "text": [
      "\u001b[2m\u001b[36m(compute_qc_stats_ray pid=2092113)\u001b[0m 2022-09-14 20:23:54,958 cisTopic     INFO     Return plot data\n"
     ]
    },
    {
     "name": "stdout",
     "output_type": "stream",
     "text": [
      "\u001b[2m\u001b[36m(compute_qc_stats_ray pid=2092113)\u001b[0m 2022-09-14 20:23:56,248 cisTopic     INFO     Computing insert size distribution for CNA_hydrop_2.20k\n",
      "\u001b[2m\u001b[36m(compute_qc_stats_ray pid=2092113)\u001b[0m 2022-09-14 20:23:56,248 cisTopic     INFO     Counting fragments\n"
     ]
    },
    {
     "name": "stdout",
     "output_type": "stream",
     "text": [
      "\u001b[2m\u001b[36m(compute_qc_stats_ray pid=2092111)\u001b[0m 2022-09-14 20:23:57,581 cisTopic     INFO     Return plot data\n"
     ]
    },
    {
     "name": "stdout",
     "output_type": "stream",
     "text": [
      "\u001b[2m\u001b[36m(compute_qc_stats_ray pid=2092111)\u001b[0m 2022-09-14 20:23:58,857 cisTopic     INFO     Computing insert size distribution for OHS_s3atac_2.20k\n",
      "\u001b[2m\u001b[36m(compute_qc_stats_ray pid=2092111)\u001b[0m 2022-09-14 20:23:58,857 cisTopic     INFO     Counting fragments\n"
     ]
    },
    {
     "name": "stdout",
     "output_type": "stream",
     "text": [
      "\u001b[2m\u001b[36m(compute_qc_stats_ray pid=2092113)\u001b[0m 2022-09-14 20:24:01,876 cisTopic     INFO     Returning plot data\n"
     ]
    },
    {
     "name": "stdout",
     "output_type": "stream",
     "text": [
      "\u001b[2m\u001b[36m(compute_qc_stats_ray pid=2092111)\u001b[0m 2022-09-14 20:24:06,872 cisTopic     INFO     Returning plot data\n"
     ]
    },
    {
     "name": "stdout",
     "output_type": "stream",
     "text": [
      "\u001b[2m\u001b[36m(compute_qc_stats_ray pid=2092116)\u001b[0m 2022-09-14 20:24:29,092 cisTopic     INFO     Computing TSS profile for VIB_hydrop_21.20k\n"
     ]
    },
    {
     "name": "stdout",
     "output_type": "stream",
     "text": [
      "\u001b[2m\u001b[36m(compute_qc_stats_ray pid=2092119)\u001b[0m 2022-09-14 20:24:57,064 cisTopic     INFO     Computing barcode rank plot for BRO_mtscatac_2.20k\n",
      "\u001b[2m\u001b[36m(compute_qc_stats_ray pid=2092119)\u001b[0m 2022-09-14 20:24:57,064 cisTopic     INFO     Counting fragments\n"
     ]
    },
    {
     "name": "stdout",
     "output_type": "stream",
     "text": [
      "\u001b[2m\u001b[36m(compute_qc_stats_ray pid=2092105)\u001b[0m 2022-09-14 20:25:04,522 cisTopic     INFO     Computing barcode rank plot for VIB_10xv2_1.20k\n",
      "\u001b[2m\u001b[36m(compute_qc_stats_ray pid=2092105)\u001b[0m 2022-09-14 20:25:04,522 cisTopic     INFO     Counting fragments\n"
     ]
    },
    {
     "name": "stdout",
     "output_type": "stream",
     "text": [
      "\u001b[2m\u001b[36m(compute_qc_stats_ray pid=2092116)\u001b[0m 2022-09-14 20:25:06,123 cisTopic     INFO     Formatting annnotation\n",
      "\u001b[2m\u001b[36m(compute_qc_stats_ray pid=2092110)\u001b[0m 2022-09-14 20:25:06,187 cisTopic     INFO     Computing TSS profile for EPF_hydrop_3.20k\n"
     ]
    },
    {
     "name": "stdout",
     "output_type": "stream",
     "text": [
      "\u001b[2m\u001b[36m(compute_qc_stats_ray pid=2092116)\u001b[0m 2022-09-14 20:25:07,221 cisTopic     INFO     Creating coverage matrix\n"
     ]
    },
    {
     "name": "stdout",
     "output_type": "stream",
     "text": [
      "\u001b[2m\u001b[36m(compute_qc_stats_ray pid=2092119)\u001b[0m 2022-09-14 20:25:22,508 cisTopic     INFO     Marking barcodes with more than 10\n"
     ]
    },
    {
     "name": "stdout",
     "output_type": "stream",
     "text": [
      "\u001b[2m\u001b[36m(compute_qc_stats_ray pid=2092119)\u001b[0m 2022-09-14 20:25:23,481 cisTopic     INFO     Returning plot data\n",
      "\u001b[2m\u001b[36m(compute_qc_stats_ray pid=2092119)\u001b[0m 2022-09-14 20:25:23,484 cisTopic     INFO     Returning valid barcodes\n"
     ]
    },
    {
     "name": "stdout",
     "output_type": "stream",
     "text": [
      "\u001b[2m\u001b[36m(compute_qc_stats_ray pid=2092106)\u001b[0m 2022-09-14 20:25:23,648 cisTopic     INFO     Computing barcode rank plot for VIB_10xv2_2.20k\n",
      "\u001b[2m\u001b[36m(compute_qc_stats_ray pid=2092106)\u001b[0m 2022-09-14 20:25:23,648 cisTopic     INFO     Counting fragments\n"
     ]
    },
    {
     "name": "stdout",
     "output_type": "stream",
     "text": [
      "\u001b[2m\u001b[36m(compute_qc_stats_ray pid=2092105)\u001b[0m 2022-09-14 20:25:26,902 cisTopic     INFO     Marking barcodes with more than 10\n"
     ]
    },
    {
     "name": "stdout",
     "output_type": "stream",
     "text": [
      "\u001b[2m\u001b[36m(compute_qc_stats_ray pid=2092105)\u001b[0m 2022-09-14 20:25:27,506 cisTopic     INFO     Returning plot data\n",
      "\u001b[2m\u001b[36m(compute_qc_stats_ray pid=2092105)\u001b[0m 2022-09-14 20:25:27,507 cisTopic     INFO     Returning valid barcodes\n"
     ]
    },
    {
     "name": "stdout",
     "output_type": "stream",
     "text": [
      "\u001b[2m\u001b[36m(compute_qc_stats_ray pid=2092110)\u001b[0m 2022-09-14 20:25:47,202 cisTopic     INFO     Formatting annnotation\n"
     ]
    },
    {
     "name": "stdout",
     "output_type": "stream",
     "text": [
      "\u001b[2m\u001b[36m(compute_qc_stats_ray pid=2092106)\u001b[0m 2022-09-14 20:25:47,427 cisTopic     INFO     Marking barcodes with more than 10\n"
     ]
    },
    {
     "name": "stdout",
     "output_type": "stream",
     "text": [
      "\u001b[2m\u001b[36m(compute_qc_stats_ray pid=2092113)\u001b[0m 2022-09-14 20:25:47,790 cisTopic     INFO     Computing TSS profile for CNA_hydrop_2.20k\n",
      "\u001b[2m\u001b[36m(compute_qc_stats_ray pid=2092109)\u001b[0m 2022-09-14 20:25:47,842 cisTopic     INFO     Computing barcode rank plot for OHS_s3atac_1.20k\n",
      "\u001b[2m\u001b[36m(compute_qc_stats_ray pid=2092109)\u001b[0m 2022-09-14 20:25:47,843 cisTopic     INFO     Counting fragments\n"
     ]
    },
    {
     "name": "stdout",
     "output_type": "stream",
     "text": [
      "\u001b[2m\u001b[36m(compute_qc_stats_ray pid=2092106)\u001b[0m 2022-09-14 20:25:48,083 cisTopic     INFO     Returning plot data\n",
      "\u001b[2m\u001b[36m(compute_qc_stats_ray pid=2092106)\u001b[0m 2022-09-14 20:25:48,084 cisTopic     INFO     Returning valid barcodes\n",
      "\u001b[2m\u001b[36m(compute_qc_stats_ray pid=2092110)\u001b[0m 2022-09-14 20:25:48,226 cisTopic     INFO     Creating coverage matrix\n"
     ]
    },
    {
     "name": "stdout",
     "output_type": "stream",
     "text": [
      "\u001b[2m\u001b[36m(compute_qc_stats_ray pid=2092119)\u001b[0m 2022-09-14 20:25:51,735 cisTopic     INFO     Computing duplicate rate plot for BRO_mtscatac_2.20k\n",
      "\u001b[2m\u001b[36m(compute_qc_stats_ray pid=2092105)\u001b[0m 2022-09-14 20:25:51,722 cisTopic     INFO     Computing duplicate rate plot for VIB_10xv2_1.20k\n"
     ]
    },
    {
     "name": "stdout",
     "output_type": "stream",
     "text": [
      "\u001b[2m\u001b[36m(compute_qc_stats_ray pid=2092109)\u001b[0m 2022-09-14 20:26:05,360 cisTopic     INFO     Marking barcodes with more than 10\n",
      "\u001b[2m\u001b[36m(compute_qc_stats_ray pid=2092109)\u001b[0m 2022-09-14 20:26:05,455 cisTopic     INFO     Returning plot data\n",
      "\u001b[2m\u001b[36m(compute_qc_stats_ray pid=2092109)\u001b[0m 2022-09-14 20:26:05,457 cisTopic     INFO     Returning valid barcodes\n"
     ]
    },
    {
     "name": "stdout",
     "output_type": "stream",
     "text": [
      "\u001b[2m\u001b[36m(compute_qc_stats_ray pid=2092106)\u001b[0m 2022-09-14 20:26:13,524 cisTopic     INFO     Computing duplicate rate plot for VIB_10xv2_2.20k\n"
     ]
    },
    {
     "name": "stdout",
     "output_type": "stream",
     "text": [
      "\u001b[2m\u001b[36m(compute_qc_stats_ray pid=2092115)\u001b[0m 2022-09-14 20:26:15,032 cisTopic     INFO     Computing barcode rank plot for BIO_ddseq_4.20k\n",
      "\u001b[2m\u001b[36m(compute_qc_stats_ray pid=2092115)\u001b[0m 2022-09-14 20:26:15,032 cisTopic     INFO     Counting fragments\n"
     ]
    },
    {
     "name": "stdout",
     "output_type": "stream",
     "text": [
      "\u001b[2m\u001b[36m(compute_qc_stats_ray pid=2092117)\u001b[0m 2022-09-14 20:26:22,957 cisTopic     INFO     Coverage matrix done\n"
     ]
    },
    {
     "name": "stdout",
     "output_type": "stream",
     "text": [
      "\u001b[2m\u001b[36m(compute_qc_stats_ray pid=2092105)\u001b[0m 2022-09-14 20:26:27,823 cisTopic     INFO     Return plot data\n"
     ]
    },
    {
     "name": "stdout",
     "output_type": "stream",
     "text": [
      "\u001b[2m\u001b[36m(compute_qc_stats_ray pid=2092105)\u001b[0m 2022-09-14 20:26:29,158 cisTopic     INFO     Computing insert size distribution for VIB_10xv2_1.20k\n",
      "\u001b[2m\u001b[36m(compute_qc_stats_ray pid=2092105)\u001b[0m 2022-09-14 20:26:29,158 cisTopic     INFO     Counting fragments\n"
     ]
    },
    {
     "name": "stdout",
     "output_type": "stream",
     "text": [
      "\u001b[2m\u001b[36m(compute_qc_stats_ray pid=2092109)\u001b[0m 2022-09-14 20:26:29,303 cisTopic     INFO     Computing duplicate rate plot for OHS_s3atac_1.20k\n"
     ]
    },
    {
     "name": "stdout",
     "output_type": "stream",
     "text": [
      "\u001b[2m\u001b[36m(compute_qc_stats_ray pid=2092113)\u001b[0m 2022-09-14 20:26:33,801 cisTopic     INFO     Formatting annnotation\n"
     ]
    },
    {
     "name": "stdout",
     "output_type": "stream",
     "text": [
      "\u001b[2m\u001b[36m(compute_qc_stats_ray pid=2092113)\u001b[0m 2022-09-14 20:26:34,845 cisTopic     INFO     Creating coverage matrix\n"
     ]
    },
    {
     "name": "stdout",
     "output_type": "stream",
     "text": [
      "\u001b[2m\u001b[36m(compute_qc_stats_ray pid=2092119)\u001b[0m 2022-09-14 20:26:39,591 cisTopic     INFO     Return plot data\n"
     ]
    },
    {
     "name": "stdout",
     "output_type": "stream",
     "text": [
      "\u001b[2m\u001b[36m(compute_qc_stats_ray pid=2092105)\u001b[0m 2022-09-14 20:26:39,902 cisTopic     INFO     Returning plot data\n"
     ]
    },
    {
     "name": "stdout",
     "output_type": "stream",
     "text": [
      "\u001b[2m\u001b[36m(compute_qc_stats_ray pid=2092119)\u001b[0m 2022-09-14 20:26:40,888 cisTopic     INFO     Computing insert size distribution for BRO_mtscatac_2.20k\n",
      "\u001b[2m\u001b[36m(compute_qc_stats_ray pid=2092119)\u001b[0m 2022-09-14 20:26:40,888 cisTopic     INFO     Counting fragments\n"
     ]
    },
    {
     "name": "stdout",
     "output_type": "stream",
     "text": [
      "\u001b[2m\u001b[36m(compute_qc_stats_ray pid=2092111)\u001b[0m 2022-09-14 20:26:42,120 cisTopic     INFO     Computing TSS profile for OHS_s3atac_2.20k\n"
     ]
    },
    {
     "name": "stdout",
     "output_type": "stream",
     "text": [
      "\u001b[2m\u001b[36m(compute_qc_stats_ray pid=2092119)\u001b[0m 2022-09-14 20:26:51,288 cisTopic     INFO     Returning plot data\n"
     ]
    },
    {
     "name": "stdout",
     "output_type": "stream",
     "text": [
      "\u001b[2m\u001b[36m(compute_qc_stats_ray pid=2092106)\u001b[0m 2022-09-14 20:26:51,793 cisTopic     INFO     Return plot data\n"
     ]
    },
    {
     "name": "stdout",
     "output_type": "stream",
     "text": [
      "\u001b[2m\u001b[36m(compute_qc_stats_ray pid=2092106)\u001b[0m 2022-09-14 20:26:53,042 cisTopic     INFO     Computing insert size distribution for VIB_10xv2_2.20k\n",
      "\u001b[2m\u001b[36m(compute_qc_stats_ray pid=2092106)\u001b[0m 2022-09-14 20:26:53,042 cisTopic     INFO     Counting fragments\n"
     ]
    },
    {
     "name": "stdout",
     "output_type": "stream",
     "text": [
      "\u001b[2m\u001b[36m(compute_qc_stats_ray pid=2092109)\u001b[0m 2022-09-14 20:26:55,630 cisTopic     INFO     Return plot data\n"
     ]
    },
    {
     "name": "stdout",
     "output_type": "stream",
     "text": [
      "\u001b[2m\u001b[36m(compute_qc_stats_ray pid=2092109)\u001b[0m 2022-09-14 20:26:56,912 cisTopic     INFO     Computing insert size distribution for OHS_s3atac_1.20k\n",
      "\u001b[2m\u001b[36m(compute_qc_stats_ray pid=2092109)\u001b[0m 2022-09-14 20:26:56,912 cisTopic     INFO     Counting fragments\n"
     ]
    },
    {
     "name": "stdout",
     "output_type": "stream",
     "text": [
      "\u001b[2m\u001b[36m(compute_qc_stats_ray pid=2092106)\u001b[0m 2022-09-14 20:27:05,175 cisTopic     INFO     Returning plot data\n"
     ]
    },
    {
     "name": "stdout",
     "output_type": "stream",
     "text": [
      "\u001b[2m\u001b[36m(compute_qc_stats_ray pid=2092109)\u001b[0m 2022-09-14 20:27:09,645 cisTopic     INFO     Returning plot data\n"
     ]
    },
    {
     "name": "stdout",
     "output_type": "stream",
     "text": [
      "\u001b[2m\u001b[36m(compute_qc_stats_ray pid=2092111)\u001b[0m 2022-09-14 20:27:10,193 cisTopic     INFO     Formatting annnotation\n"
     ]
    },
    {
     "name": "stdout",
     "output_type": "stream",
     "text": [
      "\u001b[2m\u001b[36m(compute_qc_stats_ray pid=2092111)\u001b[0m 2022-09-14 20:27:11,172 cisTopic     INFO     Creating coverage matrix\n"
     ]
    },
    {
     "name": "stdout",
     "output_type": "stream",
     "text": [
      "\u001b[2m\u001b[36m(compute_qc_stats_ray pid=2092115)\u001b[0m 2022-09-14 20:27:46,361 cisTopic     INFO     Marking barcodes with more than 10\n"
     ]
    },
    {
     "name": "stdout",
     "output_type": "stream",
     "text": [
      "\u001b[2m\u001b[36m(compute_qc_stats_ray pid=2092115)\u001b[0m 2022-09-14 20:27:51,860 cisTopic     INFO     Returning plot data\n",
      "\u001b[2m\u001b[36m(compute_qc_stats_ray pid=2092115)\u001b[0m 2022-09-14 20:27:52,016 cisTopic     INFO     Returning valid barcodes\n"
     ]
    },
    {
     "name": "stdout",
     "output_type": "stream",
     "text": [
      "\u001b[2m\u001b[36m(compute_qc_stats_ray pid=2092115)\u001b[0m 2022-09-14 20:28:09,741 cisTopic     INFO     Computing duplicate rate plot for BIO_ddseq_4.20k\n"
     ]
    },
    {
     "name": "stdout",
     "output_type": "stream",
     "text": [
      "\u001b[2m\u001b[36m(compute_qc_stats_ray pid=2092117)\u001b[0m 2022-09-14 20:28:56,978 cisTopic     INFO     Returning normalized TSS coverage matrix per barcode\n"
     ]
    },
    {
     "name": "stdout",
     "output_type": "stream",
     "text": [
      "\u001b[2m\u001b[36m(compute_qc_stats_ray pid=2092111)\u001b[0m 2022-09-14 20:29:08,528 cisTopic     INFO     Coverage matrix done\n"
     ]
    },
    {
     "name": "stdout",
     "output_type": "stream",
     "text": [
      "\u001b[2m\u001b[36m(compute_qc_stats_ray pid=2092107)\u001b[0m 2022-09-14 20:29:31,473 cisTopic     INFO     Computing barcode rank plot for CNA_10xv11_3.20k\n",
      "\u001b[2m\u001b[36m(compute_qc_stats_ray pid=2092107)\u001b[0m 2022-09-14 20:29:31,473 cisTopic     INFO     Counting fragments\n"
     ]
    },
    {
     "name": "stdout",
     "output_type": "stream",
     "text": [
      "\u001b[2m\u001b[36m(compute_qc_stats_ray pid=2092107)\u001b[0m 2022-09-14 20:30:07,300 cisTopic     INFO     Marking barcodes with more than 10\n"
     ]
    },
    {
     "name": "stdout",
     "output_type": "stream",
     "text": [
      "\u001b[2m\u001b[36m(compute_qc_stats_ray pid=2092107)\u001b[0m 2022-09-14 20:30:08,245 cisTopic     INFO     Returning plot data\n",
      "\u001b[2m\u001b[36m(compute_qc_stats_ray pid=2092107)\u001b[0m 2022-09-14 20:30:08,330 cisTopic     INFO     Returning valid barcodes\n"
     ]
    },
    {
     "name": "stdout",
     "output_type": "stream",
     "text": [
      "\u001b[2m\u001b[36m(compute_qc_stats_ray pid=2092105)\u001b[0m 2022-09-14 20:30:08,565 cisTopic     INFO     Computing TSS profile for VIB_10xv2_1.20k\n"
     ]
    },
    {
     "name": "stdout",
     "output_type": "stream",
     "text": [
      "\u001b[2m\u001b[36m(compute_qc_stats_ray pid=2092119)\u001b[0m 2022-09-14 20:30:12,873 cisTopic     INFO     Computing TSS profile for BRO_mtscatac_2.20k\n"
     ]
    },
    {
     "name": "stdout",
     "output_type": "stream",
     "text": [
      "\u001b[2m\u001b[36m(compute_qc_stats_ray pid=2092118)\u001b[0m 2022-09-14 20:30:22,983 cisTopic     INFO     Computing barcode rank plot for SAN_10xmultiome_2.20k\n",
      "\u001b[2m\u001b[36m(compute_qc_stats_ray pid=2092118)\u001b[0m 2022-09-14 20:30:22,983 cisTopic     INFO     Counting fragments\n"
     ]
    },
    {
     "name": "stdout",
     "output_type": "stream",
     "text": [
      "\u001b[2m\u001b[36m(compute_qc_stats_ray pid=2092105)\u001b[0m 2022-09-14 20:30:40,058 cisTopic     INFO     Formatting annnotation\n"
     ]
    },
    {
     "name": "stdout",
     "output_type": "stream",
     "text": [
      "\u001b[2m\u001b[36m(compute_qc_stats_ray pid=2092105)\u001b[0m 2022-09-14 20:30:40,994 cisTopic     INFO     Creating coverage matrix\n"
     ]
    },
    {
     "name": "stdout",
     "output_type": "stream",
     "text": [
      "\u001b[2m\u001b[36m(compute_qc_stats_ray pid=2092106)\u001b[0m 2022-09-14 20:30:41,616 cisTopic     INFO     Computing TSS profile for VIB_10xv2_2.20k\n"
     ]
    },
    {
     "name": "stdout",
     "output_type": "stream",
     "text": [
      "\u001b[2m\u001b[36m(compute_qc_stats_ray pid=2092117)\u001b[0m 2022-09-14 20:30:44,604 cisTopic     INFO     Returning normalized sample TSS enrichment data\n"
     ]
    },
    {
     "name": "stdout",
     "output_type": "stream",
     "text": [
      "\u001b[2m\u001b[36m(compute_qc_stats_ray pid=2092117)\u001b[0m 2022-09-14 20:30:45,891 cisTopic     INFO     Computing FRIP profile for CNA_10xv11_5.20k\n"
     ]
    },
    {
     "name": "stdout",
     "output_type": "stream",
     "text": [
      "\u001b[2m\u001b[36m(compute_qc_stats_ray pid=2092107)\u001b[0m 2022-09-14 20:30:46,689 cisTopic     INFO     Computing duplicate rate plot for CNA_10xv11_3.20k\n"
     ]
    },
    {
     "name": "stdout",
     "output_type": "stream",
     "text": [
      "\u001b[2m\u001b[36m(compute_qc_stats_ray pid=2092114)\u001b[0m 2022-09-14 20:30:52,883 cisTopic     INFO     Computing barcode rank plot for BIO_ddseq_2.20k\n",
      "\u001b[2m\u001b[36m(compute_qc_stats_ray pid=2092114)\u001b[0m 2022-09-14 20:30:52,883 cisTopic     INFO     Counting fragments\n"
     ]
    },
    {
     "name": "stdout",
     "output_type": "stream",
     "text": [
      "\u001b[2m\u001b[36m(compute_qc_stats_ray pid=2092119)\u001b[0m 2022-09-14 20:30:53,387 cisTopic     INFO     Formatting annnotation\n"
     ]
    },
    {
     "name": "stdout",
     "output_type": "stream",
     "text": [
      "\u001b[2m\u001b[36m(compute_qc_stats_ray pid=2092119)\u001b[0m 2022-09-14 20:30:54,374 cisTopic     INFO     Creating coverage matrix\n"
     ]
    },
    {
     "name": "stdout",
     "output_type": "stream",
     "text": [
      "\u001b[2m\u001b[36m(compute_qc_stats_ray pid=2092104)\u001b[0m 2022-09-14 20:30:54,787 cisTopic     INFO     Computing barcode rank plot for MDC_mtscatac_2.20k\n",
      "\u001b[2m\u001b[36m(compute_qc_stats_ray pid=2092104)\u001b[0m 2022-09-14 20:30:54,787 cisTopic     INFO     Counting fragments\n"
     ]
    },
    {
     "name": "stdout",
     "output_type": "stream",
     "text": [
      "\u001b[2m\u001b[36m(compute_qc_stats_ray pid=2092109)\u001b[0m 2022-09-14 20:30:55,182 cisTopic     INFO     Computing TSS profile for OHS_s3atac_1.20k\n"
     ]
    },
    {
     "name": "stdout",
     "output_type": "stream",
     "text": [
      "\u001b[2m\u001b[36m(compute_qc_stats_ray pid=2092117)\u001b[0m 2022-09-14 20:30:55,967 cisTopic     INFO     Counting fragments\n"
     ]
    },
    {
     "name": "stdout",
     "output_type": "stream",
     "text": [
      "\u001b[2m\u001b[36m(compute_qc_stats_ray pid=2092115)\u001b[0m 2022-09-14 20:30:57,509 cisTopic     INFO     Return plot data\n"
     ]
    },
    {
     "name": "stdout",
     "output_type": "stream",
     "text": [
      "\u001b[2m\u001b[36m(compute_qc_stats_ray pid=2092115)\u001b[0m 2022-09-14 20:30:59,141 cisTopic     INFO     Computing insert size distribution for BIO_ddseq_4.20k\n",
      "\u001b[2m\u001b[36m(compute_qc_stats_ray pid=2092115)\u001b[0m 2022-09-14 20:30:59,141 cisTopic     INFO     Counting fragments\n"
     ]
    },
    {
     "name": "stdout",
     "output_type": "stream",
     "text": [
      "\u001b[2m\u001b[36m(compute_qc_stats_ray pid=2092115)\u001b[0m 2022-09-14 20:31:04,799 cisTopic     INFO     Returning plot data\n"
     ]
    },
    {
     "name": "stdout",
     "output_type": "stream",
     "text": [
      "\u001b[2m\u001b[36m(compute_qc_stats_ray pid=2092118)\u001b[0m 2022-09-14 20:31:07,236 cisTopic     INFO     Marking barcodes with more than 10\n"
     ]
    },
    {
     "name": "stdout",
     "output_type": "stream",
     "text": [
      "\u001b[2m\u001b[36m(compute_qc_stats_ray pid=2092118)\u001b[0m 2022-09-14 20:31:08,638 cisTopic     INFO     Returning plot data\n",
      "\u001b[2m\u001b[36m(compute_qc_stats_ray pid=2092118)\u001b[0m 2022-09-14 20:31:08,642 cisTopic     INFO     Returning valid barcodes\n"
     ]
    },
    {
     "name": "stdout",
     "output_type": "stream",
     "text": [
      "\u001b[2m\u001b[36m(compute_qc_stats_ray pid=2092117)\u001b[0m 2022-09-14 20:31:10,026 cisTopic     INFO     Intersecting fragments with regions\n"
     ]
    },
    {
     "name": "stdout",
     "output_type": "stream",
     "text": [
      "\u001b[2m\u001b[36m(compute_qc_stats_ray pid=2092106)\u001b[0m 2022-09-14 20:31:14,760 cisTopic     INFO     Formatting annnotation\n"
     ]
    },
    {
     "name": "stdout",
     "output_type": "stream",
     "text": [
      "\u001b[2m\u001b[36m(compute_qc_stats_ray pid=2092106)\u001b[0m 2022-09-14 20:31:15,711 cisTopic     INFO     Creating coverage matrix\n"
     ]
    },
    {
     "name": "stdout",
     "output_type": "stream",
     "text": [
      "\u001b[2m\u001b[36m(compute_qc_stats_ray pid=2092109)\u001b[0m 2022-09-14 20:31:28,705 cisTopic     INFO     Formatting annnotation\n"
     ]
    },
    {
     "name": "stdout",
     "output_type": "stream",
     "text": [
      "\u001b[2m\u001b[36m(compute_qc_stats_ray pid=2092109)\u001b[0m 2022-09-14 20:31:29,797 cisTopic     INFO     Creating coverage matrix\n"
     ]
    },
    {
     "name": "stdout",
     "output_type": "stream",
     "text": [
      "\u001b[2m\u001b[36m(compute_qc_stats_ray pid=2092104)\u001b[0m 2022-09-14 20:31:33,671 cisTopic     INFO     Marking barcodes with more than 10\n"
     ]
    },
    {
     "name": "stdout",
     "output_type": "stream",
     "text": [
      "\u001b[2m\u001b[36m(compute_qc_stats_ray pid=2092104)\u001b[0m 2022-09-14 20:31:34,621 cisTopic     INFO     Returning plot data\n",
      "\u001b[2m\u001b[36m(compute_qc_stats_ray pid=2092104)\u001b[0m 2022-09-14 20:31:34,707 cisTopic     INFO     Returning valid barcodes\n"
     ]
    },
    {
     "name": "stdout",
     "output_type": "stream",
     "text": [
      "\u001b[2m\u001b[36m(compute_qc_stats_ray pid=2092107)\u001b[0m 2022-09-14 20:31:46,735 cisTopic     INFO     Return plot data\n"
     ]
    },
    {
     "name": "stdout",
     "output_type": "stream",
     "text": [
      "\u001b[2m\u001b[36m(compute_qc_stats_ray pid=2092107)\u001b[0m 2022-09-14 20:31:48,147 cisTopic     INFO     Computing insert size distribution for CNA_10xv11_3.20k\n",
      "\u001b[2m\u001b[36m(compute_qc_stats_ray pid=2092107)\u001b[0m 2022-09-14 20:31:48,147 cisTopic     INFO     Counting fragments\n"
     ]
    },
    {
     "name": "stdout",
     "output_type": "stream",
     "text": [
      "\u001b[2m\u001b[36m(compute_qc_stats_ray pid=2092118)\u001b[0m 2022-09-14 20:31:50,086 cisTopic     INFO     Computing duplicate rate plot for SAN_10xmultiome_2.20k\n"
     ]
    },
    {
     "name": "stdout",
     "output_type": "stream",
     "text": [
      "\u001b[2m\u001b[36m(compute_qc_stats_ray pid=2092107)\u001b[0m 2022-09-14 20:32:04,929 cisTopic     INFO     Returning plot data\n"
     ]
    },
    {
     "name": "stdout",
     "output_type": "stream",
     "text": [
      "\u001b[2m\u001b[36m(compute_qc_stats_ray pid=2092117)\u001b[0m 2022-09-14 20:32:05,917 cisTopic     INFO     Sample CNA_10xv11_5.20k done!\n"
     ]
    },
    {
     "name": "stdout",
     "output_type": "stream",
     "text": [
      "\u001b[2m\u001b[36m(compute_qc_stats_ray pid=2092111)\u001b[0m 2022-09-14 20:32:21,459 cisTopic     INFO     Returning normalized TSS coverage matrix per barcode\n"
     ]
    },
    {
     "name": "stdout",
     "output_type": "stream",
     "text": [
      "\u001b[2m\u001b[36m(compute_qc_stats_ray pid=2092104)\u001b[0m 2022-09-14 20:32:23,259 cisTopic     INFO     Computing duplicate rate plot for MDC_mtscatac_2.20k\n"
     ]
    },
    {
     "name": "stdout",
     "output_type": "stream",
     "text": [
      "\u001b[2m\u001b[36m(compute_qc_stats_ray pid=2092113)\u001b[0m 2022-09-14 20:32:29,562 cisTopic     INFO     Coverage matrix done\n"
     ]
    },
    {
     "name": "stdout",
     "output_type": "stream",
     "text": [
      "\u001b[2m\u001b[36m(compute_qc_stats_ray pid=2092114)\u001b[0m 2022-09-14 20:32:37,931 cisTopic     INFO     Marking barcodes with more than 10\n"
     ]
    },
    {
     "name": "stdout",
     "output_type": "stream",
     "text": [
      "\u001b[2m\u001b[36m(compute_qc_stats_ray pid=2092114)\u001b[0m 2022-09-14 20:32:43,432 cisTopic     INFO     Returning plot data\n",
      "\u001b[2m\u001b[36m(compute_qc_stats_ray pid=2092114)\u001b[0m 2022-09-14 20:32:43,583 cisTopic     INFO     Returning valid barcodes\n"
     ]
    },
    {
     "name": "stdout",
     "output_type": "stream",
     "text": [
      "\u001b[2m\u001b[36m(compute_qc_stats_ray pid=2092115)\u001b[0m 2022-09-14 20:32:56,664 cisTopic     INFO     Computing TSS profile for BIO_ddseq_4.20k\n"
     ]
    },
    {
     "name": "stdout",
     "output_type": "stream",
     "text": [
      "\u001b[2m\u001b[36m(compute_qc_stats_ray pid=2092118)\u001b[0m 2022-09-14 20:33:01,152 cisTopic     INFO     Return plot data\n"
     ]
    },
    {
     "name": "stdout",
     "output_type": "stream",
     "text": [
      "\u001b[2m\u001b[36m(compute_qc_stats_ray pid=2092118)\u001b[0m 2022-09-14 20:33:02,327 cisTopic     INFO     Computing insert size distribution for SAN_10xmultiome_2.20k\n",
      "\u001b[2m\u001b[36m(compute_qc_stats_ray pid=2092118)\u001b[0m 2022-09-14 20:33:02,327 cisTopic     INFO     Counting fragments\n"
     ]
    },
    {
     "name": "stdout",
     "output_type": "stream",
     "text": [
      "\u001b[2m\u001b[36m(compute_qc_stats_ray pid=2092114)\u001b[0m 2022-09-14 20:33:11,707 cisTopic     INFO     Computing duplicate rate plot for BIO_ddseq_2.20k\n"
     ]
    },
    {
     "name": "stdout",
     "output_type": "stream",
     "text": [
      "\u001b[2m\u001b[36m(compute_qc_stats_ray pid=2092118)\u001b[0m 2022-09-14 20:33:18,822 cisTopic     INFO     Returning plot data\n"
     ]
    },
    {
     "name": "stdout",
     "output_type": "stream",
     "text": [
      "\u001b[2m\u001b[36m(compute_qc_stats_ray pid=2092104)\u001b[0m 2022-09-14 20:33:25,834 cisTopic     INFO     Return plot data\n"
     ]
    },
    {
     "name": "stdout",
     "output_type": "stream",
     "text": [
      "\u001b[2m\u001b[36m(compute_qc_stats_ray pid=2092104)\u001b[0m 2022-09-14 20:33:27,042 cisTopic     INFO     Computing insert size distribution for MDC_mtscatac_2.20k\n",
      "\u001b[2m\u001b[36m(compute_qc_stats_ray pid=2092104)\u001b[0m 2022-09-14 20:33:27,042 cisTopic     INFO     Counting fragments\n"
     ]
    },
    {
     "name": "stdout",
     "output_type": "stream",
     "text": [
      "\u001b[2m\u001b[36m(compute_qc_stats_ray pid=2092116)\u001b[0m 2022-09-14 20:33:29,952 cisTopic     INFO     Coverage matrix done\n"
     ]
    },
    {
     "name": "stdout",
     "output_type": "stream",
     "text": [
      "\u001b[2m\u001b[36m(compute_qc_stats_ray pid=2092104)\u001b[0m 2022-09-14 20:33:44,534 cisTopic     INFO     Returning plot data\n"
     ]
    },
    {
     "name": "stdout",
     "output_type": "stream",
     "text": [
      "\u001b[2m\u001b[36m(compute_qc_stats_ray pid=2092115)\u001b[0m 2022-09-14 20:33:54,344 cisTopic     INFO     Formatting annnotation\n"
     ]
    },
    {
     "name": "stdout",
     "output_type": "stream",
     "text": [
      "\u001b[2m\u001b[36m(compute_qc_stats_ray pid=2092115)\u001b[0m 2022-09-14 20:33:55,231 cisTopic     INFO     Creating coverage matrix\n"
     ]
    },
    {
     "name": "stdout",
     "output_type": "stream",
     "text": [
      "\u001b[2m\u001b[36m(compute_qc_stats_ray pid=2092111)\u001b[0m 2022-09-14 20:34:28,501 cisTopic     INFO     Returning normalized sample TSS enrichment data\n"
     ]
    },
    {
     "name": "stdout",
     "output_type": "stream",
     "text": [
      "\u001b[2m\u001b[36m(compute_qc_stats_ray pid=2092111)\u001b[0m 2022-09-14 20:34:29,777 cisTopic     INFO     Computing FRIP profile for OHS_s3atac_2.20k\n"
     ]
    },
    {
     "name": "stdout",
     "output_type": "stream",
     "text": [
      "\u001b[2m\u001b[36m(compute_qc_stats_ray pid=2092111)\u001b[0m 2022-09-14 20:34:35,210 cisTopic     INFO     Counting fragments\n"
     ]
    },
    {
     "name": "stdout",
     "output_type": "stream",
     "text": [
      "\u001b[2m\u001b[36m(compute_qc_stats_ray pid=2092111)\u001b[0m 2022-09-14 20:34:57,310 cisTopic     INFO     Intersecting fragments with regions\n"
     ]
    },
    {
     "name": "stdout",
     "output_type": "stream",
     "text": [
      "\u001b[2m\u001b[36m(compute_qc_stats_ray pid=2092112)\u001b[0m 2022-09-14 20:35:00,764 cisTopic     INFO     Computing barcode rank plot for HAR_ddseq_1.20k\n",
      "\u001b[2m\u001b[36m(compute_qc_stats_ray pid=2092112)\u001b[0m 2022-09-14 20:35:00,764 cisTopic     INFO     Counting fragments\n"
     ]
    },
    {
     "name": "stdout",
     "output_type": "stream",
     "text": [
      "\u001b[2m\u001b[36m(compute_qc_stats_ray pid=2092111)\u001b[0m 2022-09-14 20:35:28,249 cisTopic     INFO     Sample OHS_s3atac_2.20k done!\n"
     ]
    },
    {
     "name": "stdout",
     "output_type": "stream",
     "text": [
      "\u001b[2m\u001b[36m(compute_qc_stats_ray pid=2092109)\u001b[0m 2022-09-14 20:35:43,900 cisTopic     INFO     Coverage matrix done\n"
     ]
    },
    {
     "name": "stdout",
     "output_type": "stream",
     "text": [
      "\u001b[2m\u001b[36m(compute_qc_stats_ray pid=2092114)\u001b[0m 2022-09-14 20:36:12,362 cisTopic     INFO     Return plot data\n"
     ]
    },
    {
     "name": "stdout",
     "output_type": "stream",
     "text": [
      "\u001b[2m\u001b[36m(compute_qc_stats_ray pid=2092114)\u001b[0m 2022-09-14 20:36:13,787 cisTopic     INFO     Computing insert size distribution for BIO_ddseq_2.20k\n",
      "\u001b[2m\u001b[36m(compute_qc_stats_ray pid=2092114)\u001b[0m 2022-09-14 20:36:13,787 cisTopic     INFO     Counting fragments\n"
     ]
    },
    {
     "name": "stdout",
     "output_type": "stream",
     "text": [
      "\u001b[2m\u001b[36m(compute_qc_stats_ray pid=2092114)\u001b[0m 2022-09-14 20:36:23,315 cisTopic     INFO     Returning plot data\n"
     ]
    },
    {
     "name": "stdout",
     "output_type": "stream",
     "text": [
      "\u001b[2m\u001b[36m(compute_qc_stats_ray pid=2092103)\u001b[0m 2022-09-14 20:36:50,800 cisTopic     INFO     Computing barcode rank plot for MDC_mtscatac_1.20k\n",
      "\u001b[2m\u001b[36m(compute_qc_stats_ray pid=2092103)\u001b[0m 2022-09-14 20:36:50,801 cisTopic     INFO     Counting fragments\n"
     ]
    },
    {
     "name": "stdout",
     "output_type": "stream",
     "text": [
      "\u001b[2m\u001b[36m(compute_qc_stats_ray pid=2092107)\u001b[0m 2022-09-14 20:36:51,584 cisTopic     INFO     Computing TSS profile for CNA_10xv11_3.20k\n"
     ]
    },
    {
     "name": "stdout",
     "output_type": "stream",
     "text": [
      "\u001b[2m\u001b[36m(compute_qc_stats_ray pid=2092110)\u001b[0m 2022-09-14 20:36:52,589 cisTopic     INFO     Coverage matrix done\n"
     ]
    },
    {
     "name": "stdout",
     "output_type": "stream",
     "text": [
      "\u001b[2m\u001b[36m(compute_qc_stats_ray pid=2092112)\u001b[0m 2022-09-14 20:37:39,774 cisTopic     INFO     Marking barcodes with more than 10\n"
     ]
    },
    {
     "name": "stdout",
     "output_type": "stream",
     "text": [
      "\u001b[2m\u001b[36m(compute_qc_stats_ray pid=2092103)\u001b[0m 2022-09-14 20:37:43,636 cisTopic     INFO     Marking barcodes with more than 10\n"
     ]
    },
    {
     "name": "stdout",
     "output_type": "stream",
     "text": [
      "\u001b[2m\u001b[36m(compute_qc_stats_ray pid=2092103)\u001b[0m 2022-09-14 20:37:44,672 cisTopic     INFO     Returning plot data\n",
      "\u001b[2m\u001b[36m(compute_qc_stats_ray pid=2092103)\u001b[0m 2022-09-14 20:37:44,677 cisTopic     INFO     Returning valid barcodes\n"
     ]
    },
    {
     "name": "stdout",
     "output_type": "stream",
     "text": [
      "\u001b[2m\u001b[36m(compute_qc_stats_ray pid=2092112)\u001b[0m 2022-09-14 20:37:48,850 cisTopic     INFO     Returning plot data\n"
     ]
    },
    {
     "name": "stdout",
     "output_type": "stream",
     "text": [
      "\u001b[2m\u001b[36m(compute_qc_stats_ray pid=2092112)\u001b[0m 2022-09-14 20:37:49,107 cisTopic     INFO     Returning valid barcodes\n"
     ]
    },
    {
     "name": "stdout",
     "output_type": "stream",
     "text": [
      "\u001b[2m\u001b[36m(compute_qc_stats_ray pid=2092107)\u001b[0m 2022-09-14 20:38:00,645 cisTopic     INFO     Formatting annnotation\n"
     ]
    },
    {
     "name": "stdout",
     "output_type": "stream",
     "text": [
      "\u001b[2m\u001b[36m(compute_qc_stats_ray pid=2092107)\u001b[0m 2022-09-14 20:38:01,554 cisTopic     INFO     Creating coverage matrix\n"
     ]
    },
    {
     "name": "stdout",
     "output_type": "stream",
     "text": [
      "\u001b[2m\u001b[36m(compute_qc_stats_ray pid=2092112)\u001b[0m 2022-09-14 20:38:22,957 cisTopic     INFO     Computing duplicate rate plot for HAR_ddseq_1.20k\n"
     ]
    },
    {
     "name": "stdout",
     "output_type": "stream",
     "text": [
      "\u001b[2m\u001b[36m(compute_qc_stats_ray pid=2092109)\u001b[0m 2022-09-14 20:38:34,036 cisTopic     INFO     Returning normalized TSS coverage matrix per barcode\n"
     ]
    },
    {
     "name": "stdout",
     "output_type": "stream",
     "text": [
      "\u001b[2m\u001b[36m(compute_qc_stats_ray pid=2092118)\u001b[0m 2022-09-14 20:38:38,313 cisTopic     INFO     Computing TSS profile for SAN_10xmultiome_2.20k\n"
     ]
    },
    {
     "name": "stdout",
     "output_type": "stream",
     "text": [
      "\u001b[2m\u001b[36m(compute_qc_stats_ray pid=2092103)\u001b[0m 2022-09-14 20:38:41,723 cisTopic     INFO     Computing duplicate rate plot for MDC_mtscatac_1.20k\n"
     ]
    },
    {
     "name": "stdout",
     "output_type": "stream",
     "text": [
      "\u001b[2m\u001b[36m(compute_qc_stats_ray pid=2092104)\u001b[0m 2022-09-14 20:39:15,780 cisTopic     INFO     Computing TSS profile for MDC_mtscatac_2.20k\n"
     ]
    },
    {
     "name": "stdout",
     "output_type": "stream",
     "text": [
      "\u001b[2m\u001b[36m(compute_qc_stats_ray pid=2092114)\u001b[0m 2022-09-14 20:39:36,798 cisTopic     INFO     Computing TSS profile for BIO_ddseq_2.20k\n"
     ]
    },
    {
     "name": "stdout",
     "output_type": "stream",
     "text": [
      "\u001b[2m\u001b[36m(compute_qc_stats_ray pid=2092119)\u001b[0m 2022-09-14 20:39:51,750 cisTopic     INFO     Coverage matrix done\n",
      "\u001b[2m\u001b[36m(compute_qc_stats_ray pid=2092118)\u001b[0m 2022-09-14 20:39:51,823 cisTopic     INFO     Formatting annnotation\n"
     ]
    },
    {
     "name": "stdout",
     "output_type": "stream",
     "text": [
      "\u001b[2m\u001b[36m(compute_qc_stats_ray pid=2092118)\u001b[0m 2022-09-14 20:39:52,614 cisTopic     INFO     Creating coverage matrix\n"
     ]
    },
    {
     "name": "stdout",
     "output_type": "stream",
     "text": [
      "\u001b[2m\u001b[36m(compute_qc_stats_ray pid=2092103)\u001b[0m 2022-09-14 20:40:05,348 cisTopic     INFO     Return plot data\n"
     ]
    },
    {
     "name": "stdout",
     "output_type": "stream",
     "text": [
      "\u001b[2m\u001b[36m(compute_qc_stats_ray pid=2092103)\u001b[0m 2022-09-14 20:40:06,495 cisTopic     INFO     Computing insert size distribution for MDC_mtscatac_1.20k\n",
      "\u001b[2m\u001b[36m(compute_qc_stats_ray pid=2092103)\u001b[0m 2022-09-14 20:40:06,495 cisTopic     INFO     Counting fragments\n"
     ]
    },
    {
     "name": "stdout",
     "output_type": "stream",
     "text": [
      "\u001b[2m\u001b[36m(compute_qc_stats_ray pid=2092104)\u001b[0m 2022-09-14 20:40:16,758 cisTopic     INFO     Formatting annnotation\n"
     ]
    },
    {
     "name": "stdout",
     "output_type": "stream",
     "text": [
      "\u001b[2m\u001b[36m(compute_qc_stats_ray pid=2092104)\u001b[0m 2022-09-14 20:40:17,622 cisTopic     INFO     Creating coverage matrix\n"
     ]
    },
    {
     "name": "stdout",
     "output_type": "stream",
     "text": [
      "\u001b[2m\u001b[36m(compute_qc_stats_ray pid=2092103)\u001b[0m 2022-09-14 20:40:30,391 cisTopic     INFO     Returning plot data\n"
     ]
    },
    {
     "name": "stdout",
     "output_type": "stream",
     "text": [
      "\u001b[2m\u001b[36m(compute_qc_stats_ray pid=2092109)\u001b[0m 2022-09-14 20:40:34,030 cisTopic     INFO     Returning normalized sample TSS enrichment data\n"
     ]
    },
    {
     "name": "stdout",
     "output_type": "stream",
     "text": [
      "\u001b[2m\u001b[36m(compute_qc_stats_ray pid=2092109)\u001b[0m 2022-09-14 20:40:35,111 cisTopic     INFO     Computing FRIP profile for OHS_s3atac_1.20k\n"
     ]
    },
    {
     "name": "stdout",
     "output_type": "stream",
     "text": [
      "\u001b[2m\u001b[36m(compute_qc_stats_ray pid=2092109)\u001b[0m 2022-09-14 20:40:42,536 cisTopic     INFO     Counting fragments\n"
     ]
    },
    {
     "name": "stdout",
     "output_type": "stream",
     "text": [
      "\u001b[2m\u001b[36m(compute_qc_stats_ray pid=2092114)\u001b[0m 2022-09-14 20:40:55,324 cisTopic     INFO     Formatting annnotation\n"
     ]
    },
    {
     "name": "stdout",
     "output_type": "stream",
     "text": [
      "\u001b[2m\u001b[36m(compute_qc_stats_ray pid=2092114)\u001b[0m 2022-09-14 20:40:56,237 cisTopic     INFO     Creating coverage matrix\n"
     ]
    },
    {
     "name": "stdout",
     "output_type": "stream",
     "text": [
      "\u001b[2m\u001b[36m(compute_qc_stats_ray pid=2092109)\u001b[0m 2022-09-14 20:41:12,979 cisTopic     INFO     Intersecting fragments with regions\n"
     ]
    },
    {
     "name": "stdout",
     "output_type": "stream",
     "text": [
      "\u001b[2m\u001b[36m(compute_qc_stats_ray pid=2092109)\u001b[0m 2022-09-14 20:42:03,687 cisTopic     INFO     Sample OHS_s3atac_1.20k done!\n"
     ]
    },
    {
     "name": "stdout",
     "output_type": "stream",
     "text": [
      "\u001b[2m\u001b[36m(compute_qc_stats_ray pid=2092112)\u001b[0m 2022-09-14 20:43:08,609 cisTopic     INFO     Return plot data\n"
     ]
    },
    {
     "name": "stdout",
     "output_type": "stream",
     "text": [
      "\u001b[2m\u001b[36m(compute_qc_stats_ray pid=2092112)\u001b[0m 2022-09-14 20:43:10,114 cisTopic     INFO     Computing insert size distribution for HAR_ddseq_1.20k\n",
      "\u001b[2m\u001b[36m(compute_qc_stats_ray pid=2092112)\u001b[0m 2022-09-14 20:43:10,114 cisTopic     INFO     Counting fragments\n"
     ]
    },
    {
     "name": "stdout",
     "output_type": "stream",
     "text": [
      "\u001b[2m\u001b[36m(compute_qc_stats_ray pid=2092112)\u001b[0m 2022-09-14 20:43:20,656 cisTopic     INFO     Returning plot data\n"
     ]
    },
    {
     "name": "stdout",
     "output_type": "stream",
     "text": [
      "\u001b[2m\u001b[36m(compute_qc_stats_ray pid=2092105)\u001b[0m 2022-09-14 20:44:50,050 cisTopic     INFO     Coverage matrix done\n"
     ]
    },
    {
     "name": "stdout",
     "output_type": "stream",
     "text": [
      "\u001b[2m\u001b[36m(compute_qc_stats_ray pid=2092119)\u001b[0m 2022-09-14 20:45:02,226 cisTopic     INFO     Returning normalized TSS coverage matrix per barcode\n"
     ]
    },
    {
     "name": "stdout",
     "output_type": "stream",
     "text": [
      "\u001b[2m\u001b[36m(compute_qc_stats_ray pid=2092115)\u001b[0m 2022-09-14 20:45:28,944 cisTopic     INFO     Coverage matrix done\n"
     ]
    },
    {
     "name": "stdout",
     "output_type": "stream",
     "text": [
      "\u001b[2m\u001b[36m(compute_qc_stats_ray pid=2092106)\u001b[0m 2022-09-14 20:45:36,769 cisTopic     INFO     Coverage matrix done\n"
     ]
    },
    {
     "name": "stdout",
     "output_type": "stream",
     "text": [
      "\u001b[2m\u001b[36m(compute_qc_stats_ray pid=2092105)\u001b[0m 2022-09-14 20:46:38,368 cisTopic     INFO     Returning normalized TSS coverage matrix per barcode\n"
     ]
    },
    {
     "name": "stdout",
     "output_type": "stream",
     "text": [
      "\u001b[2m\u001b[36m(compute_qc_stats_ray pid=2092112)\u001b[0m 2022-09-14 20:46:48,262 cisTopic     INFO     Computing TSS profile for HAR_ddseq_1.20k\n"
     ]
    },
    {
     "name": "stdout",
     "output_type": "stream",
     "text": [
      "\u001b[2m\u001b[36m(compute_qc_stats_ray pid=2092106)\u001b[0m 2022-09-14 20:47:34,906 cisTopic     INFO     Returning normalized TSS coverage matrix per barcode\n"
     ]
    },
    {
     "name": "stdout",
     "output_type": "stream",
     "text": [
      "\u001b[2m\u001b[36m(compute_qc_stats_ray pid=2092105)\u001b[0m 2022-09-14 20:47:56,667 cisTopic     INFO     Returning normalized sample TSS enrichment data\n"
     ]
    },
    {
     "name": "stdout",
     "output_type": "stream",
     "text": [
      "\u001b[2m\u001b[36m(compute_qc_stats_ray pid=2092105)\u001b[0m 2022-09-14 20:47:57,759 cisTopic     INFO     Computing FRIP profile for VIB_10xv2_1.20k\n"
     ]
    },
    {
     "name": "stdout",
     "output_type": "stream",
     "text": [
      "\u001b[2m\u001b[36m(compute_qc_stats_ray pid=2092103)\u001b[0m 2022-09-14 20:48:04,221 cisTopic     INFO     Computing TSS profile for MDC_mtscatac_1.20k\n"
     ]
    },
    {
     "name": "stdout",
     "output_type": "stream",
     "text": [
      "\u001b[2m\u001b[36m(compute_qc_stats_ray pid=2092105)\u001b[0m 2022-09-14 20:48:07,260 cisTopic     INFO     Counting fragments\n"
     ]
    },
    {
     "name": "stdout",
     "output_type": "stream",
     "text": [
      "\u001b[2m\u001b[36m(compute_qc_stats_ray pid=2092112)\u001b[0m 2022-09-14 20:48:29,836 cisTopic     INFO     Formatting annnotation\n"
     ]
    },
    {
     "name": "stdout",
     "output_type": "stream",
     "text": [
      "\u001b[2m\u001b[36m(compute_qc_stats_ray pid=2092112)\u001b[0m 2022-09-14 20:48:30,735 cisTopic     INFO     Creating coverage matrix\n"
     ]
    },
    {
     "name": "stdout",
     "output_type": "stream",
     "text": [
      "\u001b[2m\u001b[36m(compute_qc_stats_ray pid=2092105)\u001b[0m 2022-09-14 20:48:36,401 cisTopic     INFO     Intersecting fragments with regions\n"
     ]
    },
    {
     "name": "stdout",
     "output_type": "stream",
     "text": [
      "\u001b[2m\u001b[36m(compute_qc_stats_ray pid=2092119)\u001b[0m 2022-09-14 20:48:38,660 cisTopic     INFO     Returning normalized sample TSS enrichment data\n"
     ]
    },
    {
     "name": "stdout",
     "output_type": "stream",
     "text": [
      "\u001b[2m\u001b[36m(compute_qc_stats_ray pid=2092119)\u001b[0m 2022-09-14 20:48:39,794 cisTopic     INFO     Computing FRIP profile for BRO_mtscatac_2.20k\n"
     ]
    },
    {
     "name": "stdout",
     "output_type": "stream",
     "text": [
      "\u001b[2m\u001b[36m(compute_qc_stats_ray pid=2092119)\u001b[0m 2022-09-14 20:48:47,783 cisTopic     INFO     Counting fragments\n"
     ]
    },
    {
     "name": "stdout",
     "output_type": "stream",
     "text": [
      "\u001b[2m\u001b[36m(compute_qc_stats_ray pid=2092106)\u001b[0m 2022-09-14 20:48:58,234 cisTopic     INFO     Returning normalized sample TSS enrichment data\n"
     ]
    },
    {
     "name": "stdout",
     "output_type": "stream",
     "text": [
      "\u001b[2m\u001b[36m(compute_qc_stats_ray pid=2092106)\u001b[0m 2022-09-14 20:48:59,333 cisTopic     INFO     Computing FRIP profile for VIB_10xv2_2.20k\n"
     ]
    },
    {
     "name": "stdout",
     "output_type": "stream",
     "text": [
      "\u001b[2m\u001b[36m(compute_qc_stats_ray pid=2092106)\u001b[0m 2022-09-14 20:49:08,828 cisTopic     INFO     Counting fragments\n"
     ]
    },
    {
     "name": "stdout",
     "output_type": "stream",
     "text": [
      "\u001b[2m\u001b[36m(compute_qc_stats_ray pid=2092119)\u001b[0m 2022-09-14 20:49:17,323 cisTopic     INFO     Intersecting fragments with regions\n"
     ]
    },
    {
     "name": "stdout",
     "output_type": "stream",
     "text": [
      "\u001b[2m\u001b[36m(compute_qc_stats_ray pid=2092104)\u001b[0m 2022-09-14 20:49:26,418 cisTopic     INFO     Coverage matrix done\n"
     ]
    },
    {
     "name": "stdout",
     "output_type": "stream",
     "text": [
      "\u001b[2m\u001b[36m(compute_qc_stats_ray pid=2092103)\u001b[0m 2022-09-14 20:49:32,357 cisTopic     INFO     Formatting annnotation\n"
     ]
    },
    {
     "name": "stdout",
     "output_type": "stream",
     "text": [
      "\u001b[2m\u001b[36m(compute_qc_stats_ray pid=2092103)\u001b[0m 2022-09-14 20:49:33,179 cisTopic     INFO     Creating coverage matrix\n"
     ]
    },
    {
     "name": "stdout",
     "output_type": "stream",
     "text": [
      "\u001b[2m\u001b[36m(compute_qc_stats_ray pid=2092106)\u001b[0m 2022-09-14 20:49:37,840 cisTopic     INFO     Intersecting fragments with regions\n"
     ]
    },
    {
     "name": "stdout",
     "output_type": "stream",
     "text": [
      "\u001b[2m\u001b[36m(compute_qc_stats_ray pid=2092107)\u001b[0m 2022-09-14 20:50:08,710 cisTopic     INFO     Coverage matrix done\n"
     ]
    },
    {
     "name": "stdout",
     "output_type": "stream",
     "text": [
      "\u001b[2m\u001b[36m(compute_qc_stats_ray pid=2092105)\u001b[0m 2022-09-14 20:51:07,987 cisTopic     INFO     Sample VIB_10xv2_1.20k done!\n"
     ]
    },
    {
     "name": "stdout",
     "output_type": "stream",
     "text": [
      "\u001b[2m\u001b[36m(compute_qc_stats_ray pid=2092119)\u001b[0m 2022-09-14 20:51:22,380 cisTopic     INFO     Sample BRO_mtscatac_2.20k done!\n"
     ]
    },
    {
     "name": "stdout",
     "output_type": "stream",
     "text": [
      "\u001b[2m\u001b[36m(compute_qc_stats_ray pid=2092116)\u001b[0m 2022-09-14 20:51:37,396 cisTopic     INFO     Returning normalized TSS coverage matrix per barcode\n"
     ]
    },
    {
     "name": "stdout",
     "output_type": "stream",
     "text": [
      "\u001b[2m\u001b[36m(compute_qc_stats_ray pid=2092113)\u001b[0m 2022-09-14 20:51:54,760 cisTopic     INFO     Returning normalized TSS coverage matrix per barcode\n"
     ]
    },
    {
     "name": "stdout",
     "output_type": "stream",
     "text": [
      "\u001b[2m\u001b[36m(compute_qc_stats_ray pid=2092106)\u001b[0m 2022-09-14 20:52:06,050 cisTopic     INFO     Sample VIB_10xv2_2.20k done!\n"
     ]
    },
    {
     "name": "stdout",
     "output_type": "stream",
     "text": [
      "\u001b[2m\u001b[36m(compute_qc_stats_ray pid=2092118)\u001b[0m 2022-09-14 20:52:54,356 cisTopic     INFO     Coverage matrix done\n"
     ]
    },
    {
     "name": "stdout",
     "output_type": "stream",
     "text": [
      "\u001b[2m\u001b[36m(compute_qc_stats_ray pid=2092104)\u001b[0m 2022-09-14 20:53:42,434 cisTopic     INFO     Returning normalized TSS coverage matrix per barcode\n"
     ]
    },
    {
     "name": "stdout",
     "output_type": "stream",
     "text": [
      "\u001b[2m\u001b[36m(compute_qc_stats_ray pid=2092110)\u001b[0m 2022-09-14 20:54:03,398 cisTopic     INFO     Returning normalized TSS coverage matrix per barcode\n"
     ]
    },
    {
     "name": "stdout",
     "output_type": "stream",
     "text": [
      "\u001b[2m\u001b[36m(compute_qc_stats_ray pid=2092104)\u001b[0m 2022-09-14 20:56:21,810 cisTopic     INFO     Returning normalized sample TSS enrichment data\n"
     ]
    },
    {
     "name": "stdout",
     "output_type": "stream",
     "text": [
      "\u001b[2m\u001b[36m(compute_qc_stats_ray pid=2092104)\u001b[0m 2022-09-14 20:56:22,609 cisTopic     INFO     Computing FRIP profile for MDC_mtscatac_2.20k\n"
     ]
    },
    {
     "name": "stdout",
     "output_type": "stream",
     "text": [
      "\u001b[2m\u001b[36m(compute_qc_stats_ray pid=2092104)\u001b[0m 2022-09-14 20:56:30,073 cisTopic     INFO     Counting fragments\n"
     ]
    },
    {
     "name": "stdout",
     "output_type": "stream",
     "text": [
      "\u001b[2m\u001b[36m(compute_qc_stats_ray pid=2092104)\u001b[0m 2022-09-14 20:57:09,537 cisTopic     INFO     Intersecting fragments with regions\n"
     ]
    },
    {
     "name": "stdout",
     "output_type": "stream",
     "text": [
      "\u001b[2m\u001b[36m(compute_qc_stats_ray pid=2092107)\u001b[0m 2022-09-14 20:57:51,869 cisTopic     INFO     Returning normalized TSS coverage matrix per barcode\n"
     ]
    },
    {
     "name": "stdout",
     "output_type": "stream",
     "text": [
      "\u001b[2m\u001b[36m(compute_qc_stats_ray pid=2092114)\u001b[0m 2022-09-14 20:57:54,367 cisTopic     INFO     Coverage matrix done\n"
     ]
    },
    {
     "name": "stdout",
     "output_type": "stream",
     "text": [
      "\u001b[2m\u001b[36m(compute_qc_stats_ray pid=2092115)\u001b[0m 2022-09-14 20:58:15,965 cisTopic     INFO     Returning normalized TSS coverage matrix per barcode\n"
     ]
    },
    {
     "name": "stdout",
     "output_type": "stream",
     "text": [
      "\u001b[2m\u001b[36m(compute_qc_stats_ray pid=2092104)\u001b[0m 2022-09-14 20:59:03,424 cisTopic     INFO     Sample MDC_mtscatac_2.20k done!\n"
     ]
    },
    {
     "name": "stdout",
     "output_type": "stream",
     "text": [
      "\u001b[2m\u001b[36m(compute_qc_stats_ray pid=2092118)\u001b[0m 2022-09-14 20:59:56,382 cisTopic     INFO     Returning normalized TSS coverage matrix per barcode\n"
     ]
    },
    {
     "name": "stdout",
     "output_type": "stream",
     "text": [
      "\u001b[2m\u001b[36m(compute_qc_stats_ray pid=2092116)\u001b[0m 2022-09-14 21:00:31,804 cisTopic     INFO     Returning normalized sample TSS enrichment data\n"
     ]
    },
    {
     "name": "stdout",
     "output_type": "stream",
     "text": [
      "\u001b[2m\u001b[36m(compute_qc_stats_ray pid=2092116)\u001b[0m 2022-09-14 21:00:32,578 cisTopic     INFO     Computing FRIP profile for VIB_hydrop_21.20k\n"
     ]
    },
    {
     "name": "stdout",
     "output_type": "stream",
     "text": [
      "\u001b[2m\u001b[36m(compute_qc_stats_ray pid=2092116)\u001b[0m 2022-09-14 21:00:35,993 cisTopic     INFO     Counting fragments\n"
     ]
    },
    {
     "name": "stdout",
     "output_type": "stream",
     "text": [
      "\u001b[2m\u001b[36m(compute_qc_stats_ray pid=2092116)\u001b[0m 2022-09-14 21:00:44,056 cisTopic     INFO     Intersecting fragments with regions\n"
     ]
    },
    {
     "name": "stdout",
     "output_type": "stream",
     "text": [
      "\u001b[2m\u001b[36m(compute_qc_stats_ray pid=2092113)\u001b[0m 2022-09-14 21:01:14,830 cisTopic     INFO     Returning normalized sample TSS enrichment data\n"
     ]
    },
    {
     "name": "stdout",
     "output_type": "stream",
     "text": [
      "\u001b[2m\u001b[36m(compute_qc_stats_ray pid=2092113)\u001b[0m 2022-09-14 21:01:15,625 cisTopic     INFO     Computing FRIP profile for CNA_hydrop_2.20k\n"
     ]
    },
    {
     "name": "stdout",
     "output_type": "stream",
     "text": [
      "\u001b[2m\u001b[36m(compute_qc_stats_ray pid=2092116)\u001b[0m 2022-09-14 21:01:18,682 cisTopic     INFO     Sample VIB_hydrop_21.20k done!\n"
     ]
    },
    {
     "name": "stdout",
     "output_type": "stream",
     "text": [
      "\u001b[2m\u001b[36m(compute_qc_stats_ray pid=2092113)\u001b[0m 2022-09-14 21:01:21,409 cisTopic     INFO     Counting fragments\n"
     ]
    },
    {
     "name": "stdout",
     "output_type": "stream",
     "text": [
      "\u001b[2m\u001b[36m(compute_qc_stats_ray pid=2092113)\u001b[0m 2022-09-14 21:01:30,734 cisTopic     INFO     Intersecting fragments with regions\n"
     ]
    },
    {
     "name": "stdout",
     "output_type": "stream",
     "text": [
      "\u001b[2m\u001b[36m(compute_qc_stats_ray pid=2092113)\u001b[0m 2022-09-14 21:01:53,925 cisTopic     INFO     Sample CNA_hydrop_2.20k done!\n"
     ]
    },
    {
     "name": "stdout",
     "output_type": "stream",
     "text": [
      "\u001b[2m\u001b[36m(compute_qc_stats_ray pid=2092107)\u001b[0m 2022-09-14 21:02:24,089 cisTopic     INFO     Returning normalized sample TSS enrichment data\n"
     ]
    },
    {
     "name": "stdout",
     "output_type": "stream",
     "text": [
      "\u001b[2m\u001b[36m(compute_qc_stats_ray pid=2092107)\u001b[0m 2022-09-14 21:02:24,698 cisTopic     INFO     Computing FRIP profile for CNA_10xv11_3.20k\n"
     ]
    },
    {
     "name": "stdout",
     "output_type": "stream",
     "text": [
      "\u001b[2m\u001b[36m(compute_qc_stats_ray pid=2092112)\u001b[0m 2022-09-14 21:02:27,435 cisTopic     INFO     Coverage matrix done\n"
     ]
    },
    {
     "name": "stdout",
     "output_type": "stream",
     "text": [
      "\u001b[2m\u001b[36m(compute_qc_stats_ray pid=2092107)\u001b[0m 2022-09-14 21:02:30,604 cisTopic     INFO     Counting fragments\n"
     ]
    },
    {
     "name": "stdout",
     "output_type": "stream",
     "text": [
      "\u001b[2m\u001b[36m(compute_qc_stats_ray pid=2092110)\u001b[0m 2022-09-14 21:02:33,966 cisTopic     INFO     Returning normalized sample TSS enrichment data\n"
     ]
    },
    {
     "name": "stdout",
     "output_type": "stream",
     "text": [
      "\u001b[2m\u001b[36m(compute_qc_stats_ray pid=2092110)\u001b[0m 2022-09-14 21:02:34,600 cisTopic     INFO     Computing FRIP profile for EPF_hydrop_3.20k\n"
     ]
    },
    {
     "name": "stdout",
     "output_type": "stream",
     "text": [
      "\u001b[2m\u001b[36m(compute_qc_stats_ray pid=2092110)\u001b[0m 2022-09-14 21:02:37,584 cisTopic     INFO     Counting fragments\n"
     ]
    },
    {
     "name": "stdout",
     "output_type": "stream",
     "text": [
      "\u001b[2m\u001b[36m(compute_qc_stats_ray pid=2092103)\u001b[0m 2022-09-14 21:02:38,465 cisTopic     INFO     Coverage matrix done\n"
     ]
    },
    {
     "name": "stdout",
     "output_type": "stream",
     "text": [
      "\u001b[2m\u001b[36m(compute_qc_stats_ray pid=2092110)\u001b[0m 2022-09-14 21:02:44,530 cisTopic     INFO     Intersecting fragments with regions\n"
     ]
    },
    {
     "name": "stdout",
     "output_type": "stream",
     "text": [
      "\u001b[2m\u001b[36m(compute_qc_stats_ray pid=2092107)\u001b[0m 2022-09-14 21:02:54,573 cisTopic     INFO     Intersecting fragments with regions\n"
     ]
    },
    {
     "name": "stdout",
     "output_type": "stream",
     "text": [
      "\u001b[2m\u001b[36m(compute_qc_stats_ray pid=2092110)\u001b[0m 2022-09-14 21:03:15,133 cisTopic     INFO     Sample EPF_hydrop_3.20k done!\n"
     ]
    },
    {
     "name": "stdout",
     "output_type": "stream",
     "text": [
      "\u001b[2m\u001b[36m(compute_qc_stats_ray pid=2092118)\u001b[0m 2022-09-14 21:03:44,693 cisTopic     INFO     Returning normalized sample TSS enrichment data\n"
     ]
    },
    {
     "name": "stdout",
     "output_type": "stream",
     "text": [
      "\u001b[2m\u001b[36m(compute_qc_stats_ray pid=2092118)\u001b[0m 2022-09-14 21:03:45,204 cisTopic     INFO     Computing FRIP profile for SAN_10xmultiome_2.20k\n"
     ]
    },
    {
     "name": "stdout",
     "output_type": "stream",
     "text": [
      "\u001b[2m\u001b[36m(compute_qc_stats_ray pid=2092118)\u001b[0m 2022-09-14 21:03:50,100 cisTopic     INFO     Counting fragments\n"
     ]
    },
    {
     "name": "stdout",
     "output_type": "stream",
     "text": [
      "\u001b[2m\u001b[36m(compute_qc_stats_ray pid=2092107)\u001b[0m 2022-09-14 21:04:11,163 cisTopic     INFO     Sample CNA_10xv11_3.20k done!\n"
     ]
    },
    {
     "name": "stdout",
     "output_type": "stream",
     "text": [
      "\u001b[2m\u001b[36m(compute_qc_stats_ray pid=2092118)\u001b[0m 2022-09-14 21:04:14,407 cisTopic     INFO     Intersecting fragments with regions\n"
     ]
    },
    {
     "name": "stdout",
     "output_type": "stream",
     "text": [
      "\u001b[2m\u001b[36m(compute_qc_stats_ray pid=2092115)\u001b[0m 2022-09-14 21:04:22,215 cisTopic     INFO     Returning normalized sample TSS enrichment data\n"
     ]
    },
    {
     "name": "stdout",
     "output_type": "stream",
     "text": [
      "\u001b[2m\u001b[36m(compute_qc_stats_ray pid=2092115)\u001b[0m 2022-09-14 21:04:22,635 cisTopic     INFO     Computing FRIP profile for BIO_ddseq_4.20k\n"
     ]
    },
    {
     "name": "stdout",
     "output_type": "stream",
     "text": [
      "\u001b[2m\u001b[36m(compute_qc_stats_ray pid=2092115)\u001b[0m 2022-09-14 21:04:25,282 cisTopic     INFO     Counting fragments\n"
     ]
    },
    {
     "name": "stdout",
     "output_type": "stream",
     "text": [
      "\u001b[2m\u001b[36m(compute_qc_stats_ray pid=2092115)\u001b[0m 2022-09-14 21:04:43,133 cisTopic     INFO     Intersecting fragments with regions\n"
     ]
    },
    {
     "name": "stdout",
     "output_type": "stream",
     "text": [
      "\u001b[2m\u001b[36m(compute_qc_stats_ray pid=2092118)\u001b[0m 2022-09-14 21:05:18,957 cisTopic     INFO     Sample SAN_10xmultiome_2.20k done!\n"
     ]
    },
    {
     "name": "stdout",
     "output_type": "stream",
     "text": [
      "\u001b[2m\u001b[36m(compute_qc_stats_ray pid=2092115)\u001b[0m 2022-09-14 21:05:32,877 cisTopic     INFO     Sample BIO_ddseq_4.20k done!\n"
     ]
    },
    {
     "name": "stdout",
     "output_type": "stream",
     "text": [
      "\u001b[2m\u001b[36m(compute_qc_stats_ray pid=2092103)\u001b[0m 2022-09-14 21:06:02,218 cisTopic     INFO     Returning normalized TSS coverage matrix per barcode\n"
     ]
    },
    {
     "name": "stdout",
     "output_type": "stream",
     "text": [
      "\u001b[2m\u001b[36m(compute_qc_stats_ray pid=2092114)\u001b[0m 2022-09-14 21:06:04,679 cisTopic     INFO     Returning normalized TSS coverage matrix per barcode\n"
     ]
    },
    {
     "name": "stdout",
     "output_type": "stream",
     "text": [
      "\u001b[2m\u001b[36m(compute_qc_stats_ray pid=2092103)\u001b[0m 2022-09-14 21:07:22,770 cisTopic     INFO     Returning normalized sample TSS enrichment data\n"
     ]
    },
    {
     "name": "stdout",
     "output_type": "stream",
     "text": [
      "\u001b[2m\u001b[36m(compute_qc_stats_ray pid=2092103)\u001b[0m 2022-09-14 21:07:23,010 cisTopic     INFO     Computing FRIP profile for MDC_mtscatac_1.20k\n"
     ]
    },
    {
     "name": "stdout",
     "output_type": "stream",
     "text": [
      "\u001b[2m\u001b[36m(compute_qc_stats_ray pid=2092103)\u001b[0m 2022-09-14 21:07:25,482 cisTopic     INFO     Counting fragments\n"
     ]
    },
    {
     "name": "stdout",
     "output_type": "stream",
     "text": [
      "\u001b[2m\u001b[36m(compute_qc_stats_ray pid=2092103)\u001b[0m 2022-09-14 21:07:42,201 cisTopic     INFO     Intersecting fragments with regions\n"
     ]
    },
    {
     "name": "stdout",
     "output_type": "stream",
     "text": [
      "\u001b[2m\u001b[36m(compute_qc_stats_ray pid=2092112)\u001b[0m 2022-09-14 21:08:22,057 cisTopic     INFO     Returning normalized TSS coverage matrix per barcode\n"
     ]
    },
    {
     "name": "stdout",
     "output_type": "stream",
     "text": [
      "\u001b[2m\u001b[36m(compute_qc_stats_ray pid=2092114)\u001b[0m 2022-09-14 21:08:30,245 cisTopic     INFO     Returning normalized sample TSS enrichment data\n"
     ]
    },
    {
     "name": "stdout",
     "output_type": "stream",
     "text": [
      "\u001b[2m\u001b[36m(compute_qc_stats_ray pid=2092114)\u001b[0m 2022-09-14 21:08:30,504 cisTopic     INFO     Computing FRIP profile for BIO_ddseq_2.20k\n"
     ]
    },
    {
     "name": "stdout",
     "output_type": "stream",
     "text": [
      "\u001b[2m\u001b[36m(compute_qc_stats_ray pid=2092114)\u001b[0m 2022-09-14 21:08:31,735 cisTopic     INFO     Counting fragments\n"
     ]
    },
    {
     "name": "stdout",
     "output_type": "stream",
     "text": [
      "\u001b[2m\u001b[36m(compute_qc_stats_ray pid=2092114)\u001b[0m 2022-09-14 21:08:45,938 cisTopic     INFO     Intersecting fragments with regions\n"
     ]
    },
    {
     "name": "stdout",
     "output_type": "stream",
     "text": [
      "\u001b[2m\u001b[36m(compute_qc_stats_ray pid=2092103)\u001b[0m 2022-09-14 21:08:47,883 cisTopic     INFO     Sample MDC_mtscatac_1.20k done!\n"
     ]
    },
    {
     "name": "stdout",
     "output_type": "stream",
     "text": [
      "\u001b[2m\u001b[36m(compute_qc_stats_ray pid=2092114)\u001b[0m 2022-09-14 21:09:16,937 cisTopic     INFO     Sample BIO_ddseq_2.20k done!\n"
     ]
    },
    {
     "name": "stdout",
     "output_type": "stream",
     "text": [
      "\u001b[2m\u001b[36m(compute_qc_stats_ray pid=2092112)\u001b[0m 2022-09-14 21:09:55,058 cisTopic     INFO     Returning normalized sample TSS enrichment data\n",
      "\u001b[2m\u001b[36m(compute_qc_stats_ray pid=2092112)\u001b[0m 2022-09-14 21:09:55,146 cisTopic     INFO     Computing FRIP profile for HAR_ddseq_1.20k\n"
     ]
    },
    {
     "name": "stdout",
     "output_type": "stream",
     "text": [
      "\u001b[2m\u001b[36m(compute_qc_stats_ray pid=2092112)\u001b[0m 2022-09-14 21:09:55,678 cisTopic     INFO     Counting fragments\n"
     ]
    },
    {
     "name": "stdout",
     "output_type": "stream",
     "text": [
      "\u001b[2m\u001b[36m(compute_qc_stats_ray pid=2092112)\u001b[0m 2022-09-14 21:10:02,045 cisTopic     INFO     Intersecting fragments with regions\n"
     ]
    },
    {
     "name": "stdout",
     "output_type": "stream",
     "text": [
      "\u001b[2m\u001b[36m(compute_qc_stats_ray pid=2092112)\u001b[0m 2022-09-14 21:10:21,598 cisTopic     INFO     Sample HAR_ddseq_1.20k done!\n"
     ]
    },
    {
     "name": "stdout",
     "output_type": "stream",
     "text": [
      "Dumping files in /dodrio/scratch/projects/starting_2022_023/benchmark/scatac_benchmark/downsample_series/20k/cistopic_qc_out_CONSENSUS...\n"
     ]
    },
    {
     "name": "stderr",
     "output_type": "stream",
     "text": [
      "2022-09-14 21:11:36,510\tINFO services.py:1470 -- View the Ray dashboard at \u001b[1m\u001b[32mhttp://127.0.0.1:8265\u001b[39m\u001b[22m\n"
     ]
    },
    {
     "name": "stdout",
     "output_type": "stream",
     "text": [
      "\u001b[2m\u001b[36m(compute_qc_stats_ray pid=2096672)\u001b[0m 2022-09-14 21:12:26,275 cisTopic     INFO     Reading HAR_ddseq_2.20k\n",
      "\u001b[2m\u001b[36m(compute_qc_stats_ray pid=2096671)\u001b[0m 2022-09-14 21:12:26,331 cisTopic     INFO     Reading CNA_10xv2_2.20k\n",
      "\u001b[2m\u001b[36m(compute_qc_stats_ray pid=2096670)\u001b[0m 2022-09-14 21:12:26,317 cisTopic     INFO     Reading UCS_ddseq_2.20k\n",
      "\u001b[2m\u001b[36m(compute_qc_stats_ray pid=2096669)\u001b[0m 2022-09-14 21:12:26,326 cisTopic     INFO     Reading CNA_mtscatac_1.20k\n",
      "\u001b[2m\u001b[36m(compute_qc_stats_ray pid=2096673)\u001b[0m 2022-09-14 21:12:26,309 cisTopic     INFO     Reading CNA_10xv11_1.20k\n"
     ]
    },
    {
     "name": "stdout",
     "output_type": "stream",
     "text": [
      "\u001b[2m\u001b[36m(compute_qc_stats_ray pid=2096668)\u001b[0m 2022-09-14 21:12:26,483 cisTopic     INFO     Reading CNA_10xv11_4.20k\n",
      "\u001b[2m\u001b[36m(compute_qc_stats_ray pid=2096667)\u001b[0m 2022-09-14 21:12:26,686 cisTopic     INFO     Reading EPF_hydrop_2.20k\n"
     ]
    },
    {
     "name": "stdout",
     "output_type": "stream",
     "text": [
      "\u001b[2m\u001b[36m(compute_qc_stats_ray pid=2096666)\u001b[0m 2022-09-14 21:12:26,842 cisTopic     INFO     Reading VIB_hydrop_22.20k\n"
     ]
    },
    {
     "name": "stdout",
     "output_type": "stream",
     "text": [
      "\u001b[2m\u001b[36m(compute_qc_stats_ray pid=2096665)\u001b[0m 2022-09-14 21:12:27,060 cisTopic     INFO     Reading BIO_ddseq_3.20k\n",
      "\u001b[2m\u001b[36m(compute_qc_stats_ray pid=2096663)\u001b[0m 2022-09-14 21:12:27,296 cisTopic     INFO     Reading EPF_hydrop_4.20k\n"
     ]
    },
    {
     "name": "stdout",
     "output_type": "stream",
     "text": [
      "\u001b[2m\u001b[36m(compute_qc_stats_ray pid=2096664)\u001b[0m 2022-09-14 21:12:27,441 cisTopic     INFO     Reading CNA_10xv2_1.20k\n"
     ]
    },
    {
     "name": "stdout",
     "output_type": "stream",
     "text": [
      "\u001b[2m\u001b[36m(compute_qc_stats_ray pid=2096662)\u001b[0m 2022-09-14 21:12:27,685 cisTopic     INFO     Reading TXG_10xv11_1.20k\n",
      "\u001b[2m\u001b[36m(compute_qc_stats_ray pid=2096660)\u001b[0m 2022-09-14 21:12:27,707 cisTopic     INFO     Reading VIB_10xmultiome_2.20k\n",
      "\u001b[2m\u001b[36m(compute_qc_stats_ray pid=2096661)\u001b[0m 2022-09-14 21:12:27,723 cisTopic     INFO     Reading CNA_mtscatac_2.20k\n"
     ]
    },
    {
     "name": "stdout",
     "output_type": "stream",
     "text": [
      "\u001b[2m\u001b[36m(compute_qc_stats_ray pid=2096658)\u001b[0m 2022-09-14 21:12:28,023 cisTopic     INFO     Reading VIB_hydrop_11.20k\n"
     ]
    },
    {
     "name": "stdout",
     "output_type": "stream",
     "text": [
      "\u001b[2m\u001b[36m(compute_qc_stats_ray pid=2096659)\u001b[0m 2022-09-14 21:12:28,314 cisTopic     INFO     Reading VIB_10xmultiome_1.20k\n"
     ]
    },
    {
     "name": "stdout",
     "output_type": "stream",
     "text": [
      "\u001b[2m\u001b[36m(compute_qc_stats_ray pid=2096666)\u001b[0m 2022-09-14 21:14:20,296 cisTopic     INFO     Computing barcode rank plot for VIB_hydrop_22.20k\n",
      "\u001b[2m\u001b[36m(compute_qc_stats_ray pid=2096666)\u001b[0m 2022-09-14 21:14:20,296 cisTopic     INFO     Counting fragments\n"
     ]
    },
    {
     "name": "stdout",
     "output_type": "stream",
     "text": [
      "\u001b[2m\u001b[36m(compute_qc_stats_ray pid=2096668)\u001b[0m 2022-09-14 21:14:23,346 cisTopic     INFO     Computing barcode rank plot for CNA_10xv11_4.20k\n",
      "\u001b[2m\u001b[36m(compute_qc_stats_ray pid=2096668)\u001b[0m 2022-09-14 21:14:23,346 cisTopic     INFO     Counting fragments\n"
     ]
    },
    {
     "name": "stdout",
     "output_type": "stream",
     "text": [
      "\u001b[2m\u001b[36m(compute_qc_stats_ray pid=2096666)\u001b[0m 2022-09-14 21:14:27,434 cisTopic     INFO     Marking barcodes with more than 10\n"
     ]
    },
    {
     "name": "stdout",
     "output_type": "stream",
     "text": [
      "\u001b[2m\u001b[36m(compute_qc_stats_ray pid=2096666)\u001b[0m 2022-09-14 21:14:27,992 cisTopic     INFO     Returning plot data\n",
      "\u001b[2m\u001b[36m(compute_qc_stats_ray pid=2096666)\u001b[0m 2022-09-14 21:14:27,997 cisTopic     INFO     Returning valid barcodes\n"
     ]
    },
    {
     "name": "stdout",
     "output_type": "stream",
     "text": [
      "\u001b[2m\u001b[36m(compute_qc_stats_ray pid=2096668)\u001b[0m 2022-09-14 21:14:29,327 cisTopic     INFO     Marking barcodes with more than 10\n"
     ]
    },
    {
     "name": "stdout",
     "output_type": "stream",
     "text": [
      "\u001b[2m\u001b[36m(compute_qc_stats_ray pid=2096668)\u001b[0m 2022-09-14 21:14:29,560 cisTopic     INFO     Returning plot data\n",
      "\u001b[2m\u001b[36m(compute_qc_stats_ray pid=2096668)\u001b[0m 2022-09-14 21:14:29,562 cisTopic     INFO     Returning valid barcodes\n"
     ]
    },
    {
     "name": "stdout",
     "output_type": "stream",
     "text": [
      "\u001b[2m\u001b[36m(compute_qc_stats_ray pid=2096658)\u001b[0m 2022-09-14 21:14:33,246 cisTopic     INFO     Computing barcode rank plot for VIB_hydrop_11.20k\n",
      "\u001b[2m\u001b[36m(compute_qc_stats_ray pid=2096658)\u001b[0m 2022-09-14 21:14:33,247 cisTopic     INFO     Counting fragments\n"
     ]
    },
    {
     "name": "stdout",
     "output_type": "stream",
     "text": [
      "\u001b[2m\u001b[36m(compute_qc_stats_ray pid=2096666)\u001b[0m 2022-09-14 21:14:34,109 cisTopic     INFO     Computing duplicate rate plot for VIB_hydrop_22.20k\n"
     ]
    },
    {
     "name": "stdout",
     "output_type": "stream",
     "text": [
      "\u001b[2m\u001b[36m(compute_qc_stats_ray pid=2096668)\u001b[0m 2022-09-14 21:14:36,911 cisTopic     INFO     Computing duplicate rate plot for CNA_10xv11_4.20k\n"
     ]
    },
    {
     "name": "stdout",
     "output_type": "stream",
     "text": [
      "\u001b[2m\u001b[36m(compute_qc_stats_ray pid=2096658)\u001b[0m 2022-09-14 21:14:40,816 cisTopic     INFO     Marking barcodes with more than 10\n"
     ]
    },
    {
     "name": "stdout",
     "output_type": "stream",
     "text": [
      "\u001b[2m\u001b[36m(compute_qc_stats_ray pid=2096658)\u001b[0m 2022-09-14 21:14:41,240 cisTopic     INFO     Returning plot data\n",
      "\u001b[2m\u001b[36m(compute_qc_stats_ray pid=2096658)\u001b[0m 2022-09-14 21:14:41,332 cisTopic     INFO     Returning valid barcodes\n"
     ]
    },
    {
     "name": "stdout",
     "output_type": "stream",
     "text": [
      "\u001b[2m\u001b[36m(compute_qc_stats_ray pid=2096666)\u001b[0m 2022-09-14 21:14:46,829 cisTopic     INFO     Return plot data\n"
     ]
    },
    {
     "name": "stdout",
     "output_type": "stream",
     "text": [
      "\u001b[2m\u001b[36m(compute_qc_stats_ray pid=2096668)\u001b[0m 2022-09-14 21:14:47,265 cisTopic     INFO     Return plot data\n"
     ]
    },
    {
     "name": "stdout",
     "output_type": "stream",
     "text": [
      "\u001b[2m\u001b[36m(compute_qc_stats_ray pid=2096666)\u001b[0m 2022-09-14 21:14:48,130 cisTopic     INFO     Computing insert size distribution for VIB_hydrop_22.20k\n",
      "\u001b[2m\u001b[36m(compute_qc_stats_ray pid=2096666)\u001b[0m 2022-09-14 21:14:48,130 cisTopic     INFO     Counting fragments\n",
      "\u001b[2m\u001b[36m(compute_qc_stats_ray pid=2096658)\u001b[0m 2022-09-14 21:14:48,233 cisTopic     INFO     Computing duplicate rate plot for VIB_hydrop_11.20k\n"
     ]
    },
    {
     "name": "stdout",
     "output_type": "stream",
     "text": [
      "\u001b[2m\u001b[36m(compute_qc_stats_ray pid=2096668)\u001b[0m 2022-09-14 21:14:48,537 cisTopic     INFO     Computing insert size distribution for CNA_10xv11_4.20k\n",
      "\u001b[2m\u001b[36m(compute_qc_stats_ray pid=2096668)\u001b[0m 2022-09-14 21:14:48,538 cisTopic     INFO     Counting fragments\n"
     ]
    },
    {
     "name": "stdout",
     "output_type": "stream",
     "text": [
      "\u001b[2m\u001b[36m(compute_qc_stats_ray pid=2096666)\u001b[0m 2022-09-14 21:14:49,816 cisTopic     INFO     Returning plot data\n"
     ]
    },
    {
     "name": "stdout",
     "output_type": "stream",
     "text": [
      "\u001b[2m\u001b[36m(compute_qc_stats_ray pid=2096668)\u001b[0m 2022-09-14 21:14:51,193 cisTopic     INFO     Returning plot data\n"
     ]
    },
    {
     "name": "stdout",
     "output_type": "stream",
     "text": [
      "\u001b[2m\u001b[36m(compute_qc_stats_ray pid=2096658)\u001b[0m 2022-09-14 21:15:01,591 cisTopic     INFO     Return plot data\n"
     ]
    },
    {
     "name": "stdout",
     "output_type": "stream",
     "text": [
      "\u001b[2m\u001b[36m(compute_qc_stats_ray pid=2096658)\u001b[0m 2022-09-14 21:15:02,853 cisTopic     INFO     Computing insert size distribution for VIB_hydrop_11.20k\n",
      "\u001b[2m\u001b[36m(compute_qc_stats_ray pid=2096658)\u001b[0m 2022-09-14 21:15:02,853 cisTopic     INFO     Counting fragments\n"
     ]
    },
    {
     "name": "stdout",
     "output_type": "stream",
     "text": [
      "\u001b[2m\u001b[36m(compute_qc_stats_ray pid=2096658)\u001b[0m 2022-09-14 21:15:04,978 cisTopic     INFO     Returning plot data\n"
     ]
    },
    {
     "name": "stdout",
     "output_type": "stream",
     "text": [
      "\u001b[2m\u001b[36m(compute_qc_stats_ray pid=2096666)\u001b[0m 2022-09-14 21:15:29,410 cisTopic     INFO     Computing TSS profile for VIB_hydrop_22.20k\n"
     ]
    },
    {
     "name": "stdout",
     "output_type": "stream",
     "text": [
      "\u001b[2m\u001b[36m(compute_qc_stats_ray pid=2096659)\u001b[0m 2022-09-14 21:15:31,308 cisTopic     INFO     Computing barcode rank plot for VIB_10xmultiome_1.20k\n",
      "\u001b[2m\u001b[36m(compute_qc_stats_ray pid=2096659)\u001b[0m 2022-09-14 21:15:31,309 cisTopic     INFO     Counting fragments\n"
     ]
    },
    {
     "name": "stdout",
     "output_type": "stream",
     "text": [
      "\u001b[2m\u001b[36m(compute_qc_stats_ray pid=2096661)\u001b[0m 2022-09-14 21:15:31,804 cisTopic     INFO     Computing barcode rank plot for CNA_mtscatac_2.20k\n",
      "\u001b[2m\u001b[36m(compute_qc_stats_ray pid=2096661)\u001b[0m 2022-09-14 21:15:31,804 cisTopic     INFO     Counting fragments\n"
     ]
    },
    {
     "name": "stdout",
     "output_type": "stream",
     "text": [
      "\u001b[2m\u001b[36m(compute_qc_stats_ray pid=2096659)\u001b[0m 2022-09-14 21:15:41,629 cisTopic     INFO     Marking barcodes with more than 10\n"
     ]
    },
    {
     "name": "stdout",
     "output_type": "stream",
     "text": [
      "\u001b[2m\u001b[36m(compute_qc_stats_ray pid=2096661)\u001b[0m 2022-09-14 21:15:41,867 cisTopic     INFO     Marking barcodes with more than 10\n"
     ]
    },
    {
     "name": "stdout",
     "output_type": "stream",
     "text": [
      "\u001b[2m\u001b[36m(compute_qc_stats_ray pid=2096659)\u001b[0m 2022-09-14 21:15:42,119 cisTopic     INFO     Returning plot data\n",
      "\u001b[2m\u001b[36m(compute_qc_stats_ray pid=2096659)\u001b[0m 2022-09-14 21:15:42,121 cisTopic     INFO     Returning valid barcodes\n"
     ]
    },
    {
     "name": "stdout",
     "output_type": "stream",
     "text": [
      "\u001b[2m\u001b[36m(compute_qc_stats_ray pid=2096661)\u001b[0m 2022-09-14 21:15:42,298 cisTopic     INFO     Returning plot data\n",
      "\u001b[2m\u001b[36m(compute_qc_stats_ray pid=2096661)\u001b[0m 2022-09-14 21:15:42,299 cisTopic     INFO     Returning valid barcodes\n"
     ]
    },
    {
     "name": "stdout",
     "output_type": "stream",
     "text": [
      "\u001b[2m\u001b[36m(compute_qc_stats_ray pid=2096666)\u001b[0m 2022-09-14 21:15:44,376 cisTopic     INFO     Formatting annnotation\n"
     ]
    },
    {
     "name": "stdout",
     "output_type": "stream",
     "text": [
      "\u001b[2m\u001b[36m(compute_qc_stats_ray pid=2096666)\u001b[0m 2022-09-14 21:15:45,366 cisTopic     INFO     Creating coverage matrix\n"
     ]
    },
    {
     "name": "stdout",
     "output_type": "stream",
     "text": [
      "\u001b[2m\u001b[36m(compute_qc_stats_ray pid=2096658)\u001b[0m 2022-09-14 21:15:48,874 cisTopic     INFO     Computing TSS profile for VIB_hydrop_11.20k\n",
      "\u001b[2m\u001b[36m(compute_qc_stats_ray pid=2096668)\u001b[0m 2022-09-14 21:15:49,034 cisTopic     INFO     Computing TSS profile for CNA_10xv11_4.20k\n"
     ]
    },
    {
     "name": "stdout",
     "output_type": "stream",
     "text": [
      "\u001b[2m\u001b[36m(compute_qc_stats_ray pid=2096659)\u001b[0m 2022-09-14 21:15:52,444 cisTopic     INFO     Computing duplicate rate plot for VIB_10xmultiome_1.20k\n"
     ]
    },
    {
     "name": "stdout",
     "output_type": "stream",
     "text": [
      "\u001b[2m\u001b[36m(compute_qc_stats_ray pid=2096661)\u001b[0m 2022-09-14 21:15:53,559 cisTopic     INFO     Computing duplicate rate plot for CNA_mtscatac_2.20k\n"
     ]
    },
    {
     "name": "stdout",
     "output_type": "stream",
     "text": [
      "\u001b[2m\u001b[36m(compute_qc_stats_ray pid=2096668)\u001b[0m 2022-09-14 21:15:58,011 cisTopic     INFO     Formatting annnotation\n"
     ]
    },
    {
     "name": "stdout",
     "output_type": "stream",
     "text": [
      "\u001b[2m\u001b[36m(compute_qc_stats_ray pid=2096668)\u001b[0m 2022-09-14 21:15:59,055 cisTopic     INFO     Creating coverage matrix\n"
     ]
    },
    {
     "name": "stdout",
     "output_type": "stream",
     "text": [
      "\u001b[2m\u001b[36m(compute_qc_stats_ray pid=2096658)\u001b[0m 2022-09-14 21:16:05,220 cisTopic     INFO     Formatting annnotation\n"
     ]
    },
    {
     "name": "stdout",
     "output_type": "stream",
     "text": [
      "\u001b[2m\u001b[36m(compute_qc_stats_ray pid=2096658)\u001b[0m 2022-09-14 21:16:06,128 cisTopic     INFO     Creating coverage matrix\n"
     ]
    },
    {
     "name": "stdout",
     "output_type": "stream",
     "text": [
      "\u001b[2m\u001b[36m(compute_qc_stats_ray pid=2096661)\u001b[0m 2022-09-14 21:16:11,539 cisTopic     INFO     Return plot data\n",
      "\u001b[2m\u001b[36m(compute_qc_stats_ray pid=2096659)\u001b[0m 2022-09-14 21:16:11,496 cisTopic     INFO     Return plot data\n"
     ]
    },
    {
     "name": "stdout",
     "output_type": "stream",
     "text": [
      "\u001b[2m\u001b[36m(compute_qc_stats_ray pid=2096659)\u001b[0m 2022-09-14 21:16:12,749 cisTopic     INFO     Computing insert size distribution for VIB_10xmultiome_1.20k\n",
      "\u001b[2m\u001b[36m(compute_qc_stats_ray pid=2096659)\u001b[0m 2022-09-14 21:16:12,749 cisTopic     INFO     Counting fragments\n",
      "\u001b[2m\u001b[36m(compute_qc_stats_ray pid=2096661)\u001b[0m 2022-09-14 21:16:12,877 cisTopic     INFO     Computing insert size distribution for CNA_mtscatac_2.20k\n",
      "\u001b[2m\u001b[36m(compute_qc_stats_ray pid=2096661)\u001b[0m 2022-09-14 21:16:12,877 cisTopic     INFO     Counting fragments\n"
     ]
    },
    {
     "name": "stdout",
     "output_type": "stream",
     "text": [
      "\u001b[2m\u001b[36m(compute_qc_stats_ray pid=2096659)\u001b[0m 2022-09-14 21:16:17,017 cisTopic     INFO     Returning plot data\n"
     ]
    },
    {
     "name": "stdout",
     "output_type": "stream",
     "text": [
      "\u001b[2m\u001b[36m(compute_qc_stats_ray pid=2096661)\u001b[0m 2022-09-14 21:16:17,314 cisTopic     INFO     Returning plot data\n"
     ]
    },
    {
     "name": "stdout",
     "output_type": "stream",
     "text": [
      "\u001b[2m\u001b[36m(compute_qc_stats_ray pid=2096667)\u001b[0m 2022-09-14 21:17:20,657 cisTopic     INFO     Computing barcode rank plot for EPF_hydrop_2.20k\n",
      "\u001b[2m\u001b[36m(compute_qc_stats_ray pid=2096667)\u001b[0m 2022-09-14 21:17:20,657 cisTopic     INFO     Counting fragments\n"
     ]
    },
    {
     "name": "stdout",
     "output_type": "stream",
     "text": [
      "\u001b[2m\u001b[36m(compute_qc_stats_ray pid=2096660)\u001b[0m 2022-09-14 21:17:25,322 cisTopic     INFO     Computing barcode rank plot for VIB_10xmultiome_2.20k\n",
      "\u001b[2m\u001b[36m(compute_qc_stats_ray pid=2096660)\u001b[0m 2022-09-14 21:17:25,322 cisTopic     INFO     Counting fragments\n"
     ]
    },
    {
     "name": "stdout",
     "output_type": "stream",
     "text": [
      "\u001b[2m\u001b[36m(compute_qc_stats_ray pid=2096667)\u001b[0m 2022-09-14 21:17:34,535 cisTopic     INFO     Marking barcodes with more than 10\n"
     ]
    },
    {
     "name": "stdout",
     "output_type": "stream",
     "text": [
      "\u001b[2m\u001b[36m(compute_qc_stats_ray pid=2096667)\u001b[0m 2022-09-14 21:17:35,060 cisTopic     INFO     Returning plot data\n"
     ]
    },
    {
     "name": "stdout",
     "output_type": "stream",
     "text": [
      "\u001b[2m\u001b[36m(compute_qc_stats_ray pid=2096667)\u001b[0m 2022-09-14 21:17:35,226 cisTopic     INFO     Returning valid barcodes\n"
     ]
    },
    {
     "name": "stdout",
     "output_type": "stream",
     "text": [
      "\u001b[2m\u001b[36m(compute_qc_stats_ray pid=2096663)\u001b[0m 2022-09-14 21:17:35,808 cisTopic     INFO     Computing barcode rank plot for EPF_hydrop_4.20k\n",
      "\u001b[2m\u001b[36m(compute_qc_stats_ray pid=2096663)\u001b[0m 2022-09-14 21:17:35,893 cisTopic     INFO     Counting fragments\n"
     ]
    },
    {
     "name": "stdout",
     "output_type": "stream",
     "text": [
      "\u001b[2m\u001b[36m(compute_qc_stats_ray pid=2096660)\u001b[0m 2022-09-14 21:17:42,108 cisTopic     INFO     Marking barcodes with more than 10\n"
     ]
    },
    {
     "name": "stdout",
     "output_type": "stream",
     "text": [
      "\u001b[2m\u001b[36m(compute_qc_stats_ray pid=2096660)\u001b[0m 2022-09-14 21:17:42,813 cisTopic     INFO     Returning plot data\n",
      "\u001b[2m\u001b[36m(compute_qc_stats_ray pid=2096660)\u001b[0m 2022-09-14 21:17:42,898 cisTopic     INFO     Returning valid barcodes\n"
     ]
    },
    {
     "name": "stdout",
     "output_type": "stream",
     "text": [
      "\u001b[2m\u001b[36m(compute_qc_stats_ray pid=2096659)\u001b[0m 2022-09-14 21:17:43,062 cisTopic     INFO     Computing TSS profile for VIB_10xmultiome_1.20k\n"
     ]
    },
    {
     "name": "stdout",
     "output_type": "stream",
     "text": [
      "\u001b[2m\u001b[36m(compute_qc_stats_ray pid=2096661)\u001b[0m 2022-09-14 21:17:43,602 cisTopic     INFO     Computing TSS profile for CNA_mtscatac_2.20k\n"
     ]
    },
    {
     "name": "stdout",
     "output_type": "stream",
     "text": [
      "\u001b[2m\u001b[36m(compute_qc_stats_ray pid=2096667)\u001b[0m 2022-09-14 21:17:49,023 cisTopic     INFO     Computing duplicate rate plot for EPF_hydrop_2.20k\n"
     ]
    },
    {
     "name": "stdout",
     "output_type": "stream",
     "text": [
      "\u001b[2m\u001b[36m(compute_qc_stats_ray pid=2096663)\u001b[0m 2022-09-14 21:17:50,216 cisTopic     INFO     Marking barcodes with more than 10\n"
     ]
    },
    {
     "name": "stdout",
     "output_type": "stream",
     "text": [
      "\u001b[2m\u001b[36m(compute_qc_stats_ray pid=2096663)\u001b[0m 2022-09-14 21:17:50,662 cisTopic     INFO     Returning plot data\n"
     ]
    },
    {
     "name": "stdout",
     "output_type": "stream",
     "text": [
      "\u001b[2m\u001b[36m(compute_qc_stats_ray pid=2096663)\u001b[0m 2022-09-14 21:17:50,831 cisTopic     INFO     Returning valid barcodes\n"
     ]
    },
    {
     "name": "stdout",
     "output_type": "stream",
     "text": [
      "\u001b[2m\u001b[36m(compute_qc_stats_ray pid=2096661)\u001b[0m 2022-09-14 21:17:57,186 cisTopic     INFO     Formatting annnotation\n"
     ]
    },
    {
     "name": "stdout",
     "output_type": "stream",
     "text": [
      "\u001b[2m\u001b[36m(compute_qc_stats_ray pid=2096661)\u001b[0m 2022-09-14 21:17:58,195 cisTopic     INFO     Creating coverage matrix\n"
     ]
    },
    {
     "name": "stdout",
     "output_type": "stream",
     "text": [
      "\u001b[2m\u001b[36m(compute_qc_stats_ray pid=2096660)\u001b[0m 2022-09-14 21:17:58,709 cisTopic     INFO     Computing duplicate rate plot for VIB_10xmultiome_2.20k\n"
     ]
    },
    {
     "name": "stdout",
     "output_type": "stream",
     "text": [
      "\u001b[2m\u001b[36m(compute_qc_stats_ray pid=2096659)\u001b[0m 2022-09-14 21:18:01,027 cisTopic     INFO     Formatting annnotation\n"
     ]
    },
    {
     "name": "stdout",
     "output_type": "stream",
     "text": [
      "\u001b[2m\u001b[36m(compute_qc_stats_ray pid=2096659)\u001b[0m 2022-09-14 21:18:02,032 cisTopic     INFO     Creating coverage matrix\n"
     ]
    },
    {
     "name": "stdout",
     "output_type": "stream",
     "text": [
      "\u001b[2m\u001b[36m(compute_qc_stats_ray pid=2096663)\u001b[0m 2022-09-14 21:18:04,801 cisTopic     INFO     Computing duplicate rate plot for EPF_hydrop_4.20k\n"
     ]
    },
    {
     "name": "stdout",
     "output_type": "stream",
     "text": [
      "\u001b[2m\u001b[36m(compute_qc_stats_ray pid=2096667)\u001b[0m 2022-09-14 21:18:11,079 cisTopic     INFO     Return plot data\n"
     ]
    },
    {
     "name": "stdout",
     "output_type": "stream",
     "text": [
      "\u001b[2m\u001b[36m(compute_qc_stats_ray pid=2096667)\u001b[0m 2022-09-14 21:18:12,424 cisTopic     INFO     Computing insert size distribution for EPF_hydrop_2.20k\n",
      "\u001b[2m\u001b[36m(compute_qc_stats_ray pid=2096667)\u001b[0m 2022-09-14 21:18:12,424 cisTopic     INFO     Counting fragments\n"
     ]
    },
    {
     "name": "stdout",
     "output_type": "stream",
     "text": [
      "\u001b[2m\u001b[36m(compute_qc_stats_ray pid=2096667)\u001b[0m 2022-09-14 21:18:17,872 cisTopic     INFO     Returning plot data\n"
     ]
    },
    {
     "name": "stdout",
     "output_type": "stream",
     "text": [
      "\u001b[2m\u001b[36m(compute_qc_stats_ray pid=2096663)\u001b[0m 2022-09-14 21:18:27,195 cisTopic     INFO     Return plot data\n"
     ]
    },
    {
     "name": "stdout",
     "output_type": "stream",
     "text": [
      "\u001b[2m\u001b[36m(compute_qc_stats_ray pid=2096660)\u001b[0m 2022-09-14 21:18:27,485 cisTopic     INFO     Return plot data\n"
     ]
    },
    {
     "name": "stdout",
     "output_type": "stream",
     "text": [
      "\u001b[2m\u001b[36m(compute_qc_stats_ray pid=2096663)\u001b[0m 2022-09-14 21:18:28,563 cisTopic     INFO     Computing insert size distribution for EPF_hydrop_4.20k\n",
      "\u001b[2m\u001b[36m(compute_qc_stats_ray pid=2096663)\u001b[0m 2022-09-14 21:18:28,563 cisTopic     INFO     Counting fragments\n"
     ]
    },
    {
     "name": "stdout",
     "output_type": "stream",
     "text": [
      "\u001b[2m\u001b[36m(compute_qc_stats_ray pid=2096660)\u001b[0m 2022-09-14 21:18:28,847 cisTopic     INFO     Computing insert size distribution for VIB_10xmultiome_2.20k\n",
      "\u001b[2m\u001b[36m(compute_qc_stats_ray pid=2096660)\u001b[0m 2022-09-14 21:18:28,847 cisTopic     INFO     Counting fragments\n"
     ]
    },
    {
     "name": "stdout",
     "output_type": "stream",
     "text": [
      "\u001b[2m\u001b[36m(compute_qc_stats_ray pid=2096663)\u001b[0m 2022-09-14 21:18:34,200 cisTopic     INFO     Returning plot data\n"
     ]
    },
    {
     "name": "stdout",
     "output_type": "stream",
     "text": [
      "\u001b[2m\u001b[36m(compute_qc_stats_ray pid=2096660)\u001b[0m 2022-09-14 21:18:35,656 cisTopic     INFO     Returning plot data\n"
     ]
    },
    {
     "name": "stdout",
     "output_type": "stream",
     "text": [
      "\u001b[2m\u001b[36m(compute_qc_stats_ray pid=2096668)\u001b[0m 2022-09-14 21:18:41,586 cisTopic     INFO     Coverage matrix done\n"
     ]
    },
    {
     "name": "stdout",
     "output_type": "stream",
     "text": [
      "\u001b[2m\u001b[36m(compute_qc_stats_ray pid=2096673)\u001b[0m 2022-09-14 21:19:11,350 cisTopic     INFO     Computing barcode rank plot for CNA_10xv11_1.20k\n",
      "\u001b[2m\u001b[36m(compute_qc_stats_ray pid=2096673)\u001b[0m 2022-09-14 21:19:11,350 cisTopic     INFO     Counting fragments\n"
     ]
    },
    {
     "name": "stdout",
     "output_type": "stream",
     "text": [
      "\u001b[2m\u001b[36m(compute_qc_stats_ray pid=2096669)\u001b[0m 2022-09-14 21:19:21,844 cisTopic     INFO     Computing barcode rank plot for CNA_mtscatac_1.20k\n",
      "\u001b[2m\u001b[36m(compute_qc_stats_ray pid=2096669)\u001b[0m 2022-09-14 21:19:21,844 cisTopic     INFO     Counting fragments\n"
     ]
    },
    {
     "name": "stdout",
     "output_type": "stream",
     "text": [
      "\u001b[2m\u001b[36m(compute_qc_stats_ray pid=2096673)\u001b[0m 2022-09-14 21:19:34,368 cisTopic     INFO     Marking barcodes with more than 10\n"
     ]
    },
    {
     "name": "stdout",
     "output_type": "stream",
     "text": [
      "\u001b[2m\u001b[36m(compute_qc_stats_ray pid=2096673)\u001b[0m 2022-09-14 21:19:35,236 cisTopic     INFO     Returning plot data\n",
      "\u001b[2m\u001b[36m(compute_qc_stats_ray pid=2096673)\u001b[0m 2022-09-14 21:19:35,326 cisTopic     INFO     Returning valid barcodes\n"
     ]
    },
    {
     "name": "stdout",
     "output_type": "stream",
     "text": [
      "\u001b[2m\u001b[36m(compute_qc_stats_ray pid=2096669)\u001b[0m 2022-09-14 21:19:43,755 cisTopic     INFO     Marking barcodes with more than 10\n"
     ]
    },
    {
     "name": "stdout",
     "output_type": "stream",
     "text": [
      "\u001b[2m\u001b[36m(compute_qc_stats_ray pid=2096669)\u001b[0m 2022-09-14 21:19:44,496 cisTopic     INFO     Returning plot data\n",
      "\u001b[2m\u001b[36m(compute_qc_stats_ray pid=2096669)\u001b[0m 2022-09-14 21:19:44,584 cisTopic     INFO     Returning valid barcodes\n"
     ]
    },
    {
     "name": "stdout",
     "output_type": "stream",
     "text": [
      "\u001b[2m\u001b[36m(compute_qc_stats_ray pid=2096673)\u001b[0m 2022-09-14 21:19:56,840 cisTopic     INFO     Computing duplicate rate plot for CNA_10xv11_1.20k\n"
     ]
    },
    {
     "name": "stdout",
     "output_type": "stream",
     "text": [
      "\u001b[2m\u001b[36m(compute_qc_stats_ray pid=2096667)\u001b[0m 2022-09-14 21:20:08,103 cisTopic     INFO     Computing TSS profile for EPF_hydrop_2.20k\n"
     ]
    },
    {
     "name": "stdout",
     "output_type": "stream",
     "text": [
      "\u001b[2m\u001b[36m(compute_qc_stats_ray pid=2096666)\u001b[0m 2022-09-14 21:20:08,413 cisTopic     INFO     Coverage matrix done\n"
     ]
    },
    {
     "name": "stdout",
     "output_type": "stream",
     "text": [
      "\u001b[2m\u001b[36m(compute_qc_stats_ray pid=2096669)\u001b[0m 2022-09-14 21:20:08,656 cisTopic     INFO     Computing duplicate rate plot for CNA_mtscatac_1.20k\n"
     ]
    },
    {
     "name": "stdout",
     "output_type": "stream",
     "text": [
      "\u001b[2m\u001b[36m(compute_qc_stats_ray pid=2096663)\u001b[0m 2022-09-14 21:20:29,835 cisTopic     INFO     Computing TSS profile for EPF_hydrop_4.20k\n"
     ]
    },
    {
     "name": "stdout",
     "output_type": "stream",
     "text": [
      "\u001b[2m\u001b[36m(compute_qc_stats_ray pid=2096673)\u001b[0m 2022-09-14 21:20:36,836 cisTopic     INFO     Return plot data\n"
     ]
    },
    {
     "name": "stdout",
     "output_type": "stream",
     "text": [
      "\u001b[2m\u001b[36m(compute_qc_stats_ray pid=2096673)\u001b[0m 2022-09-14 21:20:38,202 cisTopic     INFO     Computing insert size distribution for CNA_10xv11_1.20k\n",
      "\u001b[2m\u001b[36m(compute_qc_stats_ray pid=2096673)\u001b[0m 2022-09-14 21:20:38,202 cisTopic     INFO     Counting fragments\n"
     ]
    },
    {
     "name": "stdout",
     "output_type": "stream",
     "text": [
      "\u001b[2m\u001b[36m(compute_qc_stats_ray pid=2096661)\u001b[0m 2022-09-14 21:20:42,213 cisTopic     INFO     Coverage matrix done\n"
     ]
    },
    {
     "name": "stdout",
     "output_type": "stream",
     "text": [
      "\u001b[2m\u001b[36m(compute_qc_stats_ray pid=2096658)\u001b[0m 2022-09-14 21:20:42,958 cisTopic     INFO     Coverage matrix done\n"
     ]
    },
    {
     "name": "stdout",
     "output_type": "stream",
     "text": [
      "\u001b[2m\u001b[36m(compute_qc_stats_ray pid=2096669)\u001b[0m 2022-09-14 21:20:45,709 cisTopic     INFO     Return plot data\n"
     ]
    },
    {
     "name": "stdout",
     "output_type": "stream",
     "text": [
      "\u001b[2m\u001b[36m(compute_qc_stats_ray pid=2096669)\u001b[0m 2022-09-14 21:20:47,030 cisTopic     INFO     Computing insert size distribution for CNA_mtscatac_1.20k\n",
      "\u001b[2m\u001b[36m(compute_qc_stats_ray pid=2096669)\u001b[0m 2022-09-14 21:20:47,031 cisTopic     INFO     Counting fragments\n"
     ]
    },
    {
     "name": "stdout",
     "output_type": "stream",
     "text": [
      "\u001b[2m\u001b[36m(compute_qc_stats_ray pid=2096673)\u001b[0m 2022-09-14 21:20:47,445 cisTopic     INFO     Returning plot data\n"
     ]
    },
    {
     "name": "stdout",
     "output_type": "stream",
     "text": [
      "\u001b[2m\u001b[36m(compute_qc_stats_ray pid=2096667)\u001b[0m 2022-09-14 21:20:52,993 cisTopic     INFO     Formatting annnotation\n"
     ]
    },
    {
     "name": "stdout",
     "output_type": "stream",
     "text": [
      "\u001b[2m\u001b[36m(compute_qc_stats_ray pid=2096660)\u001b[0m 2022-09-14 21:20:53,228 cisTopic     INFO     Computing TSS profile for VIB_10xmultiome_2.20k\n"
     ]
    },
    {
     "name": "stdout",
     "output_type": "stream",
     "text": [
      "\u001b[2m\u001b[36m(compute_qc_stats_ray pid=2096667)\u001b[0m 2022-09-14 21:20:54,066 cisTopic     INFO     Creating coverage matrix\n"
     ]
    },
    {
     "name": "stdout",
     "output_type": "stream",
     "text": [
      "\u001b[2m\u001b[36m(compute_qc_stats_ray pid=2096669)\u001b[0m 2022-09-14 21:20:57,114 cisTopic     INFO     Returning plot data\n"
     ]
    },
    {
     "name": "stdout",
     "output_type": "stream",
     "text": [
      "\u001b[2m\u001b[36m(compute_qc_stats_ray pid=2096665)\u001b[0m 2022-09-14 21:20:57,906 cisTopic     INFO     Computing barcode rank plot for BIO_ddseq_3.20k\n",
      "\u001b[2m\u001b[36m(compute_qc_stats_ray pid=2096665)\u001b[0m 2022-09-14 21:20:57,906 cisTopic     INFO     Counting fragments\n"
     ]
    },
    {
     "name": "stdout",
     "output_type": "stream",
     "text": [
      "\u001b[2m\u001b[36m(compute_qc_stats_ray pid=2096664)\u001b[0m 2022-09-14 21:21:12,626 cisTopic     INFO     Computing barcode rank plot for CNA_10xv2_1.20k\n",
      "\u001b[2m\u001b[36m(compute_qc_stats_ray pid=2096664)\u001b[0m 2022-09-14 21:21:12,626 cisTopic     INFO     Counting fragments\n"
     ]
    },
    {
     "name": "stdout",
     "output_type": "stream",
     "text": [
      "\u001b[2m\u001b[36m(compute_qc_stats_ray pid=2096663)\u001b[0m 2022-09-14 21:21:15,609 cisTopic     INFO     Formatting annnotation\n"
     ]
    },
    {
     "name": "stdout",
     "output_type": "stream",
     "text": [
      "\u001b[2m\u001b[36m(compute_qc_stats_ray pid=2096663)\u001b[0m 2022-09-14 21:21:16,663 cisTopic     INFO     Creating coverage matrix\n"
     ]
    },
    {
     "name": "stdout",
     "output_type": "stream",
     "text": [
      "\u001b[2m\u001b[36m(compute_qc_stats_ray pid=2096659)\u001b[0m 2022-09-14 21:21:18,723 cisTopic     INFO     Coverage matrix done\n"
     ]
    },
    {
     "name": "stdout",
     "output_type": "stream",
     "text": [
      "\u001b[2m\u001b[36m(compute_qc_stats_ray pid=2096668)\u001b[0m 2022-09-14 21:21:22,640 cisTopic     INFO     Returning normalized TSS coverage matrix per barcode\n"
     ]
    },
    {
     "name": "stdout",
     "output_type": "stream",
     "text": [
      "\u001b[2m\u001b[36m(compute_qc_stats_ray pid=2096660)\u001b[0m 2022-09-14 21:21:24,358 cisTopic     INFO     Formatting annnotation\n"
     ]
    },
    {
     "name": "stdout",
     "output_type": "stream",
     "text": [
      "\u001b[2m\u001b[36m(compute_qc_stats_ray pid=2096660)\u001b[0m 2022-09-14 21:21:25,383 cisTopic     INFO     Creating coverage matrix\n"
     ]
    },
    {
     "name": "stdout",
     "output_type": "stream",
     "text": [
      "\u001b[2m\u001b[36m(compute_qc_stats_ray pid=2096664)\u001b[0m 2022-09-14 21:21:40,898 cisTopic     INFO     Marking barcodes with more than 10\n"
     ]
    },
    {
     "name": "stdout",
     "output_type": "stream",
     "text": [
      "\u001b[2m\u001b[36m(compute_qc_stats_ray pid=2096664)\u001b[0m 2022-09-14 21:21:41,749 cisTopic     INFO     Returning plot data\n",
      "\u001b[2m\u001b[36m(compute_qc_stats_ray pid=2096664)\u001b[0m 2022-09-14 21:21:41,750 cisTopic     INFO     Returning valid barcodes\n"
     ]
    },
    {
     "name": "stdout",
     "output_type": "stream",
     "text": [
      "\u001b[2m\u001b[36m(compute_qc_stats_ray pid=2096661)\u001b[0m 2022-09-14 21:21:45,652 cisTopic     INFO     Returning normalized TSS coverage matrix per barcode\n"
     ]
    },
    {
     "name": "stdout",
     "output_type": "stream",
     "text": [
      "\u001b[2m\u001b[36m(compute_qc_stats_ray pid=2096664)\u001b[0m 2022-09-14 21:22:11,309 cisTopic     INFO     Computing duplicate rate plot for CNA_10xv2_1.20k\n"
     ]
    },
    {
     "name": "stdout",
     "output_type": "stream",
     "text": [
      "\u001b[2m\u001b[36m(compute_qc_stats_ray pid=2096665)\u001b[0m 2022-09-14 21:22:27,760 cisTopic     INFO     Marking barcodes with more than 10\n"
     ]
    },
    {
     "name": "stdout",
     "output_type": "stream",
     "text": [
      "\u001b[2m\u001b[36m(compute_qc_stats_ray pid=2096661)\u001b[0m 2022-09-14 21:22:29,544 cisTopic     INFO     Returning normalized sample TSS enrichment data\n"
     ]
    },
    {
     "name": "stdout",
     "output_type": "stream",
     "text": [
      "\u001b[2m\u001b[36m(compute_qc_stats_ray pid=2096661)\u001b[0m 2022-09-14 21:22:30,847 cisTopic     INFO     Computing FRIP profile for CNA_mtscatac_2.20k\n"
     ]
    },
    {
     "name": "stdout",
     "output_type": "stream",
     "text": [
      "\u001b[2m\u001b[36m(compute_qc_stats_ray pid=2096665)\u001b[0m 2022-09-14 21:22:33,110 cisTopic     INFO     Returning plot data\n"
     ]
    },
    {
     "name": "stdout",
     "output_type": "stream",
     "text": [
      "\u001b[2m\u001b[36m(compute_qc_stats_ray pid=2096665)\u001b[0m 2022-09-14 21:22:33,275 cisTopic     INFO     Returning valid barcodes\n"
     ]
    },
    {
     "name": "stdout",
     "output_type": "stream",
     "text": [
      "\u001b[2m\u001b[36m(compute_qc_stats_ray pid=2096661)\u001b[0m 2022-09-14 21:22:36,669 cisTopic     INFO     Counting fragments\n"
     ]
    },
    {
     "name": "stdout",
     "output_type": "stream",
     "text": [
      "\u001b[2m\u001b[36m(compute_qc_stats_ray pid=2096665)\u001b[0m 2022-09-14 21:22:50,652 cisTopic     INFO     Computing duplicate rate plot for BIO_ddseq_3.20k\n"
     ]
    },
    {
     "name": "stdout",
     "output_type": "stream",
     "text": [
      "\u001b[2m\u001b[36m(compute_qc_stats_ray pid=2096661)\u001b[0m 2022-09-14 21:22:53,086 cisTopic     INFO     Intersecting fragments with regions\n"
     ]
    },
    {
     "name": "stdout",
     "output_type": "stream",
     "text": [
      "\u001b[2m\u001b[36m(compute_qc_stats_ray pid=2096664)\u001b[0m 2022-09-14 21:22:56,484 cisTopic     INFO     Return plot data\n"
     ]
    },
    {
     "name": "stdout",
     "output_type": "stream",
     "text": [
      "\u001b[2m\u001b[36m(compute_qc_stats_ray pid=2096664)\u001b[0m 2022-09-14 21:22:57,786 cisTopic     INFO     Computing insert size distribution for CNA_10xv2_1.20k\n",
      "\u001b[2m\u001b[36m(compute_qc_stats_ray pid=2096664)\u001b[0m 2022-09-14 21:22:57,786 cisTopic     INFO     Counting fragments\n"
     ]
    },
    {
     "name": "stdout",
     "output_type": "stream",
     "text": [
      "\u001b[2m\u001b[36m(compute_qc_stats_ray pid=2096664)\u001b[0m 2022-09-14 21:23:10,124 cisTopic     INFO     Returning plot data\n"
     ]
    },
    {
     "name": "stdout",
     "output_type": "stream",
     "text": [
      "\u001b[2m\u001b[36m(compute_qc_stats_ray pid=2096668)\u001b[0m 2022-09-14 21:23:16,870 cisTopic     INFO     Returning normalized sample TSS enrichment data\n"
     ]
    },
    {
     "name": "stdout",
     "output_type": "stream",
     "text": [
      "\u001b[2m\u001b[36m(compute_qc_stats_ray pid=2096668)\u001b[0m 2022-09-14 21:23:18,225 cisTopic     INFO     Computing FRIP profile for CNA_10xv11_4.20k\n"
     ]
    },
    {
     "name": "stdout",
     "output_type": "stream",
     "text": [
      "\u001b[2m\u001b[36m(compute_qc_stats_ray pid=2096668)\u001b[0m 2022-09-14 21:23:26,466 cisTopic     INFO     Counting fragments\n"
     ]
    },
    {
     "name": "stdout",
     "output_type": "stream",
     "text": [
      "\u001b[2m\u001b[36m(compute_qc_stats_ray pid=2096661)\u001b[0m 2022-09-14 21:23:34,410 cisTopic     INFO     Sample CNA_mtscatac_2.20k done!\n"
     ]
    },
    {
     "name": "stdout",
     "output_type": "stream",
     "text": [
      "\u001b[2m\u001b[36m(compute_qc_stats_ray pid=2096668)\u001b[0m 2022-09-14 21:23:36,543 cisTopic     INFO     Intersecting fragments with regions\n"
     ]
    },
    {
     "name": "stdout",
     "output_type": "stream",
     "text": [
      "\u001b[2m\u001b[36m(compute_qc_stats_ray pid=2096673)\u001b[0m 2022-09-14 21:23:49,209 cisTopic     INFO     Computing TSS profile for CNA_10xv11_1.20k\n"
     ]
    },
    {
     "name": "stdout",
     "output_type": "stream",
     "text": [
      "\u001b[2m\u001b[36m(compute_qc_stats_ray pid=2096669)\u001b[0m 2022-09-14 21:24:11,678 cisTopic     INFO     Computing TSS profile for CNA_mtscatac_1.20k\n"
     ]
    },
    {
     "name": "stdout",
     "output_type": "stream",
     "text": [
      "\u001b[2m\u001b[36m(compute_qc_stats_ray pid=2096668)\u001b[0m 2022-09-14 21:24:13,973 cisTopic     INFO     Sample CNA_10xv11_4.20k done!\n"
     ]
    },
    {
     "name": "stdout",
     "output_type": "stream",
     "text": [
      "\u001b[2m\u001b[36m(compute_qc_stats_ray pid=2096673)\u001b[0m 2022-09-14 21:24:32,937 cisTopic     INFO     Formatting annnotation\n"
     ]
    },
    {
     "name": "stdout",
     "output_type": "stream",
     "text": [
      "\u001b[2m\u001b[36m(compute_qc_stats_ray pid=2096673)\u001b[0m 2022-09-14 21:24:33,872 cisTopic     INFO     Creating coverage matrix\n"
     ]
    },
    {
     "name": "stdout",
     "output_type": "stream",
     "text": [
      "\u001b[2m\u001b[36m(compute_qc_stats_ray pid=2096671)\u001b[0m 2022-09-14 21:24:38,680 cisTopic     INFO     Computing barcode rank plot for CNA_10xv2_2.20k\n",
      "\u001b[2m\u001b[36m(compute_qc_stats_ray pid=2096671)\u001b[0m 2022-09-14 21:24:38,680 cisTopic     INFO     Counting fragments\n"
     ]
    },
    {
     "name": "stdout",
     "output_type": "stream",
     "text": [
      "\u001b[2m\u001b[36m(compute_qc_stats_ray pid=2096669)\u001b[0m 2022-09-14 21:24:40,516 cisTopic     INFO     Formatting annnotation\n"
     ]
    },
    {
     "name": "stdout",
     "output_type": "stream",
     "text": [
      "\u001b[2m\u001b[36m(compute_qc_stats_ray pid=2096669)\u001b[0m 2022-09-14 21:24:41,391 cisTopic     INFO     Creating coverage matrix\n"
     ]
    },
    {
     "name": "stdout",
     "output_type": "stream",
     "text": [
      "\u001b[2m\u001b[36m(compute_qc_stats_ray pid=2096671)\u001b[0m 2022-09-14 21:25:11,196 cisTopic     INFO     Marking barcodes with more than 10\n"
     ]
    },
    {
     "name": "stdout",
     "output_type": "stream",
     "text": [
      "\u001b[2m\u001b[36m(compute_qc_stats_ray pid=2096671)\u001b[0m 2022-09-14 21:25:12,049 cisTopic     INFO     Returning plot data\n",
      "\u001b[2m\u001b[36m(compute_qc_stats_ray pid=2096671)\u001b[0m 2022-09-14 21:25:12,051 cisTopic     INFO     Returning valid barcodes\n"
     ]
    },
    {
     "name": "stdout",
     "output_type": "stream",
     "text": [
      "\u001b[2m\u001b[36m(compute_qc_stats_ray pid=2096665)\u001b[0m 2022-09-14 21:25:24,077 cisTopic     INFO     Return plot data\n"
     ]
    },
    {
     "name": "stdout",
     "output_type": "stream",
     "text": [
      "\u001b[2m\u001b[36m(compute_qc_stats_ray pid=2096665)\u001b[0m 2022-09-14 21:25:25,499 cisTopic     INFO     Computing insert size distribution for BIO_ddseq_3.20k\n",
      "\u001b[2m\u001b[36m(compute_qc_stats_ray pid=2096665)\u001b[0m 2022-09-14 21:25:25,499 cisTopic     INFO     Counting fragments\n"
     ]
    },
    {
     "name": "stdout",
     "output_type": "stream",
     "text": [
      "\u001b[2m\u001b[36m(compute_qc_stats_ray pid=2096665)\u001b[0m 2022-09-14 21:25:30,560 cisTopic     INFO     Returning plot data\n"
     ]
    },
    {
     "name": "stdout",
     "output_type": "stream",
     "text": [
      "\u001b[2m\u001b[36m(compute_qc_stats_ray pid=2096671)\u001b[0m 2022-09-14 21:25:46,155 cisTopic     INFO     Computing duplicate rate plot for CNA_10xv2_2.20k\n"
     ]
    },
    {
     "name": "stdout",
     "output_type": "stream",
     "text": [
      "\u001b[2m\u001b[36m(compute_qc_stats_ray pid=2096660)\u001b[0m 2022-09-14 21:26:29,815 cisTopic     INFO     Coverage matrix done\n"
     ]
    },
    {
     "name": "stdout",
     "output_type": "stream",
     "text": [
      "\u001b[2m\u001b[36m(compute_qc_stats_ray pid=2096671)\u001b[0m 2022-09-14 21:26:39,630 cisTopic     INFO     Return plot data\n"
     ]
    },
    {
     "name": "stdout",
     "output_type": "stream",
     "text": [
      "\u001b[2m\u001b[36m(compute_qc_stats_ray pid=2096671)\u001b[0m 2022-09-14 21:26:40,680 cisTopic     INFO     Computing insert size distribution for CNA_10xv2_2.20k\n",
      "\u001b[2m\u001b[36m(compute_qc_stats_ray pid=2096671)\u001b[0m 2022-09-14 21:26:40,680 cisTopic     INFO     Counting fragments\n"
     ]
    },
    {
     "name": "stdout",
     "output_type": "stream",
     "text": [
      "\u001b[2m\u001b[36m(compute_qc_stats_ray pid=2096659)\u001b[0m 2022-09-14 21:26:41,610 cisTopic     INFO     Returning normalized TSS coverage matrix per barcode\n"
     ]
    },
    {
     "name": "stdout",
     "output_type": "stream",
     "text": [
      "\u001b[2m\u001b[36m(compute_qc_stats_ray pid=2096664)\u001b[0m 2022-09-14 21:26:56,125 cisTopic     INFO     Computing TSS profile for CNA_10xv2_1.20k\n"
     ]
    },
    {
     "name": "stdout",
     "output_type": "stream",
     "text": [
      "\u001b[2m\u001b[36m(compute_qc_stats_ray pid=2096671)\u001b[0m 2022-09-14 21:26:56,433 cisTopic     INFO     Returning plot data\n"
     ]
    },
    {
     "name": "stdout",
     "output_type": "stream",
     "text": [
      "\u001b[2m\u001b[36m(compute_qc_stats_ray pid=2096665)\u001b[0m 2022-09-14 21:27:15,579 cisTopic     INFO     Computing TSS profile for BIO_ddseq_3.20k\n"
     ]
    },
    {
     "name": "stdout",
     "output_type": "stream",
     "text": [
      "\u001b[2m\u001b[36m(compute_qc_stats_ray pid=2096664)\u001b[0m 2022-09-14 21:27:32,785 cisTopic     INFO     Formatting annnotation\n"
     ]
    },
    {
     "name": "stdout",
     "output_type": "stream",
     "text": [
      "\u001b[2m\u001b[36m(compute_qc_stats_ray pid=2096664)\u001b[0m 2022-09-14 21:27:33,669 cisTopic     INFO     Creating coverage matrix\n"
     ]
    },
    {
     "name": "stdout",
     "output_type": "stream",
     "text": [
      "\u001b[2m\u001b[36m(compute_qc_stats_ray pid=2096665)\u001b[0m 2022-09-14 21:28:10,307 cisTopic     INFO     Formatting annnotation\n"
     ]
    },
    {
     "name": "stdout",
     "output_type": "stream",
     "text": [
      "\u001b[2m\u001b[36m(compute_qc_stats_ray pid=2096665)\u001b[0m 2022-09-14 21:28:11,197 cisTopic     INFO     Creating coverage matrix\n"
     ]
    },
    {
     "name": "stdout",
     "output_type": "stream",
     "text": [
      "\u001b[2m\u001b[36m(compute_qc_stats_ray pid=2096670)\u001b[0m 2022-09-14 21:28:29,195 cisTopic     INFO     Computing barcode rank plot for UCS_ddseq_2.20k\n",
      "\u001b[2m\u001b[36m(compute_qc_stats_ray pid=2096670)\u001b[0m 2022-09-14 21:28:29,195 cisTopic     INFO     Counting fragments\n"
     ]
    },
    {
     "name": "stdout",
     "output_type": "stream",
     "text": [
      "\u001b[2m\u001b[36m(compute_qc_stats_ray pid=2096669)\u001b[0m 2022-09-14 21:29:19,292 cisTopic     INFO     Coverage matrix done\n"
     ]
    },
    {
     "name": "stdout",
     "output_type": "stream",
     "text": [
      "\u001b[2m\u001b[36m(compute_qc_stats_ray pid=2096670)\u001b[0m 2022-09-14 21:29:38,666 cisTopic     INFO     Marking barcodes with more than 10\n"
     ]
    },
    {
     "name": "stdout",
     "output_type": "stream",
     "text": [
      "\u001b[2m\u001b[36m(compute_qc_stats_ray pid=2096670)\u001b[0m 2022-09-14 21:29:42,080 cisTopic     INFO     Returning plot data\n",
      "\u001b[2m\u001b[36m(compute_qc_stats_ray pid=2096670)\u001b[0m 2022-09-14 21:29:42,154 cisTopic     INFO     Returning valid barcodes\n"
     ]
    },
    {
     "name": "stdout",
     "output_type": "stream",
     "text": [
      "\u001b[2m\u001b[36m(compute_qc_stats_ray pid=2096672)\u001b[0m 2022-09-14 21:30:12,365 cisTopic     INFO     Computing barcode rank plot for HAR_ddseq_2.20k\n",
      "\u001b[2m\u001b[36m(compute_qc_stats_ray pid=2096672)\u001b[0m 2022-09-14 21:30:12,365 cisTopic     INFO     Counting fragments\n"
     ]
    },
    {
     "name": "stdout",
     "output_type": "stream",
     "text": [
      "\u001b[2m\u001b[36m(compute_qc_stats_ray pid=2096659)\u001b[0m 2022-09-14 21:30:15,157 cisTopic     INFO     Returning normalized sample TSS enrichment data\n"
     ]
    },
    {
     "name": "stdout",
     "output_type": "stream",
     "text": [
      "\u001b[2m\u001b[36m(compute_qc_stats_ray pid=2096659)\u001b[0m 2022-09-14 21:30:16,385 cisTopic     INFO     Computing FRIP profile for VIB_10xmultiome_1.20k\n"
     ]
    },
    {
     "name": "stdout",
     "output_type": "stream",
     "text": [
      "\u001b[2m\u001b[36m(compute_qc_stats_ray pid=2096670)\u001b[0m 2022-09-14 21:30:16,607 cisTopic     INFO     Computing duplicate rate plot for UCS_ddseq_2.20k\n"
     ]
    },
    {
     "name": "stdout",
     "output_type": "stream",
     "text": [
      "\u001b[2m\u001b[36m(compute_qc_stats_ray pid=2096659)\u001b[0m 2022-09-14 21:30:22,239 cisTopic     INFO     Counting fragments\n"
     ]
    },
    {
     "name": "stdout",
     "output_type": "stream",
     "text": [
      "\u001b[2m\u001b[36m(compute_qc_stats_ray pid=2096659)\u001b[0m 2022-09-14 21:30:36,048 cisTopic     INFO     Intersecting fragments with regions\n"
     ]
    },
    {
     "name": "stdout",
     "output_type": "stream",
     "text": [
      "\u001b[2m\u001b[36m(compute_qc_stats_ray pid=2096673)\u001b[0m 2022-09-14 21:31:08,808 cisTopic     INFO     Coverage matrix done\n"
     ]
    },
    {
     "name": "stdout",
     "output_type": "stream",
     "text": [
      "\u001b[2m\u001b[36m(compute_qc_stats_ray pid=2096659)\u001b[0m 2022-09-14 21:31:10,515 cisTopic     INFO     Sample VIB_10xmultiome_1.20k done!\n"
     ]
    },
    {
     "name": "stdout",
     "output_type": "stream",
     "text": [
      "\u001b[2m\u001b[36m(compute_qc_stats_ray pid=2096669)\u001b[0m 2022-09-14 21:31:15,586 cisTopic     INFO     Returning normalized TSS coverage matrix per barcode\n"
     ]
    },
    {
     "name": "stdout",
     "output_type": "stream",
     "text": [
      "\u001b[2m\u001b[36m(compute_qc_stats_ray pid=2096671)\u001b[0m 2022-09-14 21:32:08,728 cisTopic     INFO     Computing TSS profile for CNA_10xv2_2.20k\n"
     ]
    },
    {
     "name": "stdout",
     "output_type": "stream",
     "text": [
      "\u001b[2m\u001b[36m(compute_qc_stats_ray pid=2096663)\u001b[0m 2022-09-14 21:32:14,481 cisTopic     INFO     Coverage matrix done\n"
     ]
    },
    {
     "name": "stdout",
     "output_type": "stream",
     "text": [
      "\u001b[2m\u001b[36m(compute_qc_stats_ray pid=2096667)\u001b[0m 2022-09-14 21:32:18,906 cisTopic     INFO     Coverage matrix done\n"
     ]
    },
    {
     "name": "stdout",
     "output_type": "stream",
     "text": [
      "\u001b[2m\u001b[36m(compute_qc_stats_ray pid=2096670)\u001b[0m 2022-09-14 21:32:24,707 cisTopic     INFO     Return plot data\n"
     ]
    },
    {
     "name": "stdout",
     "output_type": "stream",
     "text": [
      "\u001b[2m\u001b[36m(compute_qc_stats_ray pid=2096670)\u001b[0m 2022-09-14 21:32:25,938 cisTopic     INFO     Computing insert size distribution for UCS_ddseq_2.20k\n",
      "\u001b[2m\u001b[36m(compute_qc_stats_ray pid=2096670)\u001b[0m 2022-09-14 21:32:25,938 cisTopic     INFO     Counting fragments\n"
     ]
    },
    {
     "name": "stdout",
     "output_type": "stream",
     "text": [
      "\u001b[2m\u001b[36m(compute_qc_stats_ray pid=2096669)\u001b[0m 2022-09-14 21:32:34,260 cisTopic     INFO     Returning normalized sample TSS enrichment data\n"
     ]
    },
    {
     "name": "stdout",
     "output_type": "stream",
     "text": [
      "\u001b[2m\u001b[36m(compute_qc_stats_ray pid=2096669)\u001b[0m 2022-09-14 21:32:35,370 cisTopic     INFO     Computing FRIP profile for CNA_mtscatac_1.20k\n"
     ]
    },
    {
     "name": "stdout",
     "output_type": "stream",
     "text": [
      "\u001b[2m\u001b[36m(compute_qc_stats_ray pid=2096670)\u001b[0m 2022-09-14 21:32:39,516 cisTopic     INFO     Returning plot data\n"
     ]
    },
    {
     "name": "stdout",
     "output_type": "stream",
     "text": [
      "\u001b[2m\u001b[36m(compute_qc_stats_ray pid=2096669)\u001b[0m 2022-09-14 21:32:41,611 cisTopic     INFO     Counting fragments\n"
     ]
    },
    {
     "name": "stdout",
     "output_type": "stream",
     "text": [
      "\u001b[2m\u001b[36m(compute_qc_stats_ray pid=2096672)\u001b[0m 2022-09-14 21:32:45,547 cisTopic     INFO     Marking barcodes with more than 10\n"
     ]
    },
    {
     "name": "stdout",
     "output_type": "stream",
     "text": [
      "\u001b[2m\u001b[36m(compute_qc_stats_ray pid=2096672)\u001b[0m 2022-09-14 21:32:53,616 cisTopic     INFO     Returning plot data\n"
     ]
    },
    {
     "name": "stdout",
     "output_type": "stream",
     "text": [
      "\u001b[2m\u001b[36m(compute_qc_stats_ray pid=2096672)\u001b[0m 2022-09-14 21:32:53,836 cisTopic     INFO     Returning valid barcodes\n"
     ]
    },
    {
     "name": "stdout",
     "output_type": "stream",
     "text": [
      "\u001b[2m\u001b[36m(compute_qc_stats_ray pid=2096671)\u001b[0m 2022-09-14 21:32:59,942 cisTopic     INFO     Formatting annnotation\n"
     ]
    },
    {
     "name": "stdout",
     "output_type": "stream",
     "text": [
      "\u001b[2m\u001b[36m(compute_qc_stats_ray pid=2096671)\u001b[0m 2022-09-14 21:33:00,705 cisTopic     INFO     Creating coverage matrix\n"
     ]
    },
    {
     "name": "stdout",
     "output_type": "stream",
     "text": [
      "\u001b[2m\u001b[36m(compute_qc_stats_ray pid=2096669)\u001b[0m 2022-09-14 21:33:09,857 cisTopic     INFO     Intersecting fragments with regions\n"
     ]
    },
    {
     "name": "stdout",
     "output_type": "stream",
     "text": [
      "\u001b[2m\u001b[36m(compute_qc_stats_ray pid=2096672)\u001b[0m 2022-09-14 21:33:27,233 cisTopic     INFO     Computing duplicate rate plot for HAR_ddseq_2.20k\n"
     ]
    },
    {
     "name": "stdout",
     "output_type": "stream",
     "text": [
      "\u001b[2m\u001b[36m(compute_qc_stats_ray pid=2096660)\u001b[0m 2022-09-14 21:33:36,673 cisTopic     INFO     Returning normalized TSS coverage matrix per barcode\n"
     ]
    },
    {
     "name": "stdout",
     "output_type": "stream",
     "text": [
      "\u001b[2m\u001b[36m(compute_qc_stats_ray pid=2096666)\u001b[0m 2022-09-14 21:34:07,680 cisTopic     INFO     Returning normalized TSS coverage matrix per barcode\n"
     ]
    },
    {
     "name": "stdout",
     "output_type": "stream",
     "text": [
      "\u001b[2m\u001b[36m(compute_qc_stats_ray pid=2096669)\u001b[0m 2022-09-14 21:34:17,940 cisTopic     INFO     Sample CNA_mtscatac_1.20k done!\n"
     ]
    },
    {
     "name": "stdout",
     "output_type": "stream",
     "text": [
      "\u001b[2m\u001b[36m(compute_qc_stats_ray pid=2096658)\u001b[0m 2022-09-14 21:34:48,310 cisTopic     INFO     Returning normalized TSS coverage matrix per barcode\n"
     ]
    },
    {
     "name": "stdout",
     "output_type": "stream",
     "text": [
      "\u001b[2m\u001b[36m(compute_qc_stats_ray pid=2096670)\u001b[0m 2022-09-14 21:36:41,352 cisTopic     INFO     Computing TSS profile for UCS_ddseq_2.20k\n"
     ]
    },
    {
     "name": "stdout",
     "output_type": "stream",
     "text": [
      "\u001b[2m\u001b[36m(compute_qc_stats_ray pid=2096672)\u001b[0m 2022-09-14 21:37:33,459 cisTopic     INFO     Return plot data\n"
     ]
    },
    {
     "name": "stdout",
     "output_type": "stream",
     "text": [
      "\u001b[2m\u001b[36m(compute_qc_stats_ray pid=2096672)\u001b[0m 2022-09-14 21:37:34,923 cisTopic     INFO     Computing insert size distribution for HAR_ddseq_2.20k\n",
      "\u001b[2m\u001b[36m(compute_qc_stats_ray pid=2096672)\u001b[0m 2022-09-14 21:37:34,923 cisTopic     INFO     Counting fragments\n"
     ]
    },
    {
     "name": "stdout",
     "output_type": "stream",
     "text": [
      "\u001b[2m\u001b[36m(compute_qc_stats_ray pid=2096672)\u001b[0m 2022-09-14 21:37:45,147 cisTopic     INFO     Returning plot data\n"
     ]
    },
    {
     "name": "stdout",
     "output_type": "stream",
     "text": [
      "\u001b[2m\u001b[36m(compute_qc_stats_ray pid=2096662)\u001b[0m 2022-09-14 21:37:57,127 cisTopic     INFO     Computing barcode rank plot for TXG_10xv11_1.20k\n",
      "\u001b[2m\u001b[36m(compute_qc_stats_ray pid=2096662)\u001b[0m 2022-09-14 21:37:57,127 cisTopic     INFO     Counting fragments\n"
     ]
    },
    {
     "name": "stdout",
     "output_type": "stream",
     "text": [
      "\u001b[2m\u001b[36m(compute_qc_stats_ray pid=2096660)\u001b[0m 2022-09-14 21:37:58,944 cisTopic     INFO     Returning normalized sample TSS enrichment data\n"
     ]
    },
    {
     "name": "stdout",
     "output_type": "stream",
     "text": [
      "\u001b[2m\u001b[36m(compute_qc_stats_ray pid=2096660)\u001b[0m 2022-09-14 21:37:59,874 cisTopic     INFO     Computing FRIP profile for VIB_10xmultiome_2.20k\n"
     ]
    },
    {
     "name": "stdout",
     "output_type": "stream",
     "text": [
      "\u001b[2m\u001b[36m(compute_qc_stats_ray pid=2096670)\u001b[0m 2022-09-14 21:38:02,683 cisTopic     INFO     Formatting annnotation\n"
     ]
    },
    {
     "name": "stdout",
     "output_type": "stream",
     "text": [
      "\u001b[2m\u001b[36m(compute_qc_stats_ray pid=2096670)\u001b[0m 2022-09-14 21:38:03,386 cisTopic     INFO     Creating coverage matrix\n"
     ]
    },
    {
     "name": "stdout",
     "output_type": "stream",
     "text": [
      "\u001b[2m\u001b[36m(compute_qc_stats_ray pid=2096660)\u001b[0m 2022-09-14 21:38:05,562 cisTopic     INFO     Counting fragments\n"
     ]
    },
    {
     "name": "stdout",
     "output_type": "stream",
     "text": [
      "\u001b[2m\u001b[36m(compute_qc_stats_ray pid=2096660)\u001b[0m 2022-09-14 21:38:23,540 cisTopic     INFO     Intersecting fragments with regions\n"
     ]
    },
    {
     "name": "stdout",
     "output_type": "stream",
     "text": [
      "\u001b[2m\u001b[36m(compute_qc_stats_ray pid=2096662)\u001b[0m 2022-09-14 21:39:01,409 cisTopic     INFO     Marking barcodes with more than 10\n"
     ]
    },
    {
     "name": "stdout",
     "output_type": "stream",
     "text": [
      "\u001b[2m\u001b[36m(compute_qc_stats_ray pid=2096662)\u001b[0m 2022-09-14 21:39:02,610 cisTopic     INFO     Returning plot data\n",
      "\u001b[2m\u001b[36m(compute_qc_stats_ray pid=2096662)\u001b[0m 2022-09-14 21:39:02,738 cisTopic     INFO     Returning valid barcodes\n"
     ]
    },
    {
     "name": "stdout",
     "output_type": "stream",
     "text": [
      "\u001b[2m\u001b[36m(compute_qc_stats_ray pid=2096665)\u001b[0m 2022-09-14 21:39:07,849 cisTopic     INFO     Coverage matrix done\n"
     ]
    },
    {
     "name": "stdout",
     "output_type": "stream",
     "text": [
      "\u001b[2m\u001b[36m(compute_qc_stats_ray pid=2096660)\u001b[0m 2022-09-14 21:39:08,987 cisTopic     INFO     Sample VIB_10xmultiome_2.20k done!\n"
     ]
    },
    {
     "name": "stdout",
     "output_type": "stream",
     "text": [
      "\u001b[2m\u001b[36m(compute_qc_stats_ray pid=2096662)\u001b[0m 2022-09-14 21:40:03,449 cisTopic     INFO     Computing duplicate rate plot for TXG_10xv11_1.20k\n"
     ]
    },
    {
     "name": "stdout",
     "output_type": "stream",
     "text": [
      "\u001b[2m\u001b[36m(compute_qc_stats_ray pid=2096673)\u001b[0m 2022-09-14 21:40:08,592 cisTopic     INFO     Returning normalized TSS coverage matrix per barcode\n"
     ]
    },
    {
     "name": "stdout",
     "output_type": "stream",
     "text": [
      "\u001b[2m\u001b[36m(compute_qc_stats_ray pid=2096664)\u001b[0m 2022-09-14 21:40:18,057 cisTopic     INFO     Coverage matrix done\n"
     ]
    },
    {
     "name": "stdout",
     "output_type": "stream",
     "text": [
      "\u001b[2m\u001b[36m(compute_qc_stats_ray pid=2096672)\u001b[0m 2022-09-14 21:41:04,477 cisTopic     INFO     Computing TSS profile for HAR_ddseq_2.20k\n"
     ]
    },
    {
     "name": "stdout",
     "output_type": "stream",
     "text": [
      "\u001b[2m\u001b[36m(compute_qc_stats_ray pid=2096662)\u001b[0m 2022-09-14 21:41:34,281 cisTopic     INFO     Return plot data\n"
     ]
    },
    {
     "name": "stdout",
     "output_type": "stream",
     "text": [
      "\u001b[2m\u001b[36m(compute_qc_stats_ray pid=2096662)\u001b[0m 2022-09-14 21:41:35,237 cisTopic     INFO     Computing insert size distribution for TXG_10xv11_1.20k\n",
      "\u001b[2m\u001b[36m(compute_qc_stats_ray pid=2096662)\u001b[0m 2022-09-14 21:41:35,237 cisTopic     INFO     Counting fragments\n"
     ]
    },
    {
     "name": "stdout",
     "output_type": "stream",
     "text": [
      "\u001b[2m\u001b[36m(compute_qc_stats_ray pid=2096666)\u001b[0m 2022-09-14 21:41:55,232 cisTopic     INFO     Returning normalized sample TSS enrichment data\n"
     ]
    },
    {
     "name": "stdout",
     "output_type": "stream",
     "text": [
      "\u001b[2m\u001b[36m(compute_qc_stats_ray pid=2096666)\u001b[0m 2022-09-14 21:41:56,193 cisTopic     INFO     Computing FRIP profile for VIB_hydrop_22.20k\n"
     ]
    },
    {
     "name": "stdout",
     "output_type": "stream",
     "text": [
      "\u001b[2m\u001b[36m(compute_qc_stats_ray pid=2096666)\u001b[0m 2022-09-14 21:42:00,645 cisTopic     INFO     Counting fragments\n"
     ]
    },
    {
     "name": "stdout",
     "output_type": "stream",
     "text": [
      "\u001b[2m\u001b[36m(compute_qc_stats_ray pid=2096662)\u001b[0m 2022-09-14 21:42:01,632 cisTopic     INFO     Returning plot data\n"
     ]
    },
    {
     "name": "stdout",
     "output_type": "stream",
     "text": [
      "\u001b[2m\u001b[36m(compute_qc_stats_ray pid=2096666)\u001b[0m 2022-09-14 21:42:06,346 cisTopic     INFO     Intersecting fragments with regions\n"
     ]
    },
    {
     "name": "stdout",
     "output_type": "stream",
     "text": [
      "\u001b[2m\u001b[36m(compute_qc_stats_ray pid=2096664)\u001b[0m 2022-09-14 21:42:27,886 cisTopic     INFO     Returning normalized TSS coverage matrix per barcode\n"
     ]
    },
    {
     "name": "stdout",
     "output_type": "stream",
     "text": [
      "\u001b[2m\u001b[36m(compute_qc_stats_ray pid=2096666)\u001b[0m 2022-09-14 21:42:29,635 cisTopic     INFO     Sample VIB_hydrop_22.20k done!\n"
     ]
    },
    {
     "name": "stdout",
     "output_type": "stream",
     "text": [
      "\u001b[2m\u001b[36m(compute_qc_stats_ray pid=2096672)\u001b[0m 2022-09-14 21:42:35,285 cisTopic     INFO     Formatting annnotation\n"
     ]
    },
    {
     "name": "stdout",
     "output_type": "stream",
     "text": [
      "\u001b[2m\u001b[36m(compute_qc_stats_ray pid=2096672)\u001b[0m 2022-09-14 21:42:35,972 cisTopic     INFO     Creating coverage matrix\n"
     ]
    },
    {
     "name": "stdout",
     "output_type": "stream",
     "text": [
      "\u001b[2m\u001b[36m(compute_qc_stats_ray pid=2096658)\u001b[0m 2022-09-14 21:42:36,505 cisTopic     INFO     Returning normalized sample TSS enrichment data\n"
     ]
    },
    {
     "name": "stdout",
     "output_type": "stream",
     "text": [
      "\u001b[2m\u001b[36m(compute_qc_stats_ray pid=2096658)\u001b[0m 2022-09-14 21:42:37,441 cisTopic     INFO     Computing FRIP profile for VIB_hydrop_11.20k\n"
     ]
    },
    {
     "name": "stdout",
     "output_type": "stream",
     "text": [
      "\u001b[2m\u001b[36m(compute_qc_stats_ray pid=2096658)\u001b[0m 2022-09-14 21:42:40,973 cisTopic     INFO     Counting fragments\n"
     ]
    },
    {
     "name": "stdout",
     "output_type": "stream",
     "text": [
      "\u001b[2m\u001b[36m(compute_qc_stats_ray pid=2096658)\u001b[0m 2022-09-14 21:42:46,669 cisTopic     INFO     Intersecting fragments with regions\n"
     ]
    },
    {
     "name": "stdout",
     "output_type": "stream",
     "text": [
      "\u001b[2m\u001b[36m(compute_qc_stats_ray pid=2096658)\u001b[0m 2022-09-14 21:43:08,610 cisTopic     INFO     Sample VIB_hydrop_11.20k done!\n"
     ]
    },
    {
     "name": "stdout",
     "output_type": "stream",
     "text": [
      "\u001b[2m\u001b[36m(compute_qc_stats_ray pid=2096664)\u001b[0m 2022-09-14 21:43:50,589 cisTopic     INFO     Returning normalized sample TSS enrichment data\n"
     ]
    },
    {
     "name": "stdout",
     "output_type": "stream",
     "text": [
      "\u001b[2m\u001b[36m(compute_qc_stats_ray pid=2096664)\u001b[0m 2022-09-14 21:43:51,337 cisTopic     INFO     Computing FRIP profile for CNA_10xv2_1.20k\n"
     ]
    },
    {
     "name": "stdout",
     "output_type": "stream",
     "text": [
      "\u001b[2m\u001b[36m(compute_qc_stats_ray pid=2096664)\u001b[0m 2022-09-14 21:43:58,184 cisTopic     INFO     Counting fragments\n"
     ]
    },
    {
     "name": "stdout",
     "output_type": "stream",
     "text": [
      "\u001b[2m\u001b[36m(compute_qc_stats_ray pid=2096664)\u001b[0m 2022-09-14 21:44:21,967 cisTopic     INFO     Intersecting fragments with regions\n"
     ]
    },
    {
     "name": "stdout",
     "output_type": "stream",
     "text": [
      "\u001b[2m\u001b[36m(compute_qc_stats_ray pid=2096673)\u001b[0m 2022-09-14 21:45:14,835 cisTopic     INFO     Returning normalized sample TSS enrichment data\n"
     ]
    },
    {
     "name": "stdout",
     "output_type": "stream",
     "text": [
      "\u001b[2m\u001b[36m(compute_qc_stats_ray pid=2096673)\u001b[0m 2022-09-14 21:45:15,650 cisTopic     INFO     Computing FRIP profile for CNA_10xv11_1.20k\n"
     ]
    },
    {
     "name": "stdout",
     "output_type": "stream",
     "text": [
      "\u001b[2m\u001b[36m(compute_qc_stats_ray pid=2096673)\u001b[0m 2022-09-14 21:45:20,350 cisTopic     INFO     Counting fragments\n"
     ]
    },
    {
     "name": "stdout",
     "output_type": "stream",
     "text": [
      "\u001b[2m\u001b[36m(compute_qc_stats_ray pid=2096673)\u001b[0m 2022-09-14 21:45:38,761 cisTopic     INFO     Intersecting fragments with regions\n"
     ]
    },
    {
     "name": "stdout",
     "output_type": "stream",
     "text": [
      "\u001b[2m\u001b[36m(compute_qc_stats_ray pid=2096664)\u001b[0m 2022-09-14 21:46:17,775 cisTopic     INFO     Sample CNA_10xv2_1.20k done!\n"
     ]
    },
    {
     "name": "stdout",
     "output_type": "stream",
     "text": [
      "\u001b[2m\u001b[36m(compute_qc_stats_ray pid=2096673)\u001b[0m 2022-09-14 21:46:28,907 cisTopic     INFO     Sample CNA_10xv11_1.20k done!\n"
     ]
    },
    {
     "name": "stdout",
     "output_type": "stream",
     "text": [
      "\u001b[2m\u001b[36m(compute_qc_stats_ray pid=2096663)\u001b[0m 2022-09-14 21:46:51,766 cisTopic     INFO     Returning normalized TSS coverage matrix per barcode\n"
     ]
    },
    {
     "name": "stdout",
     "output_type": "stream",
     "text": [
      "\u001b[2m\u001b[36m(compute_qc_stats_ray pid=2096667)\u001b[0m 2022-09-14 21:47:07,723 cisTopic     INFO     Returning normalized TSS coverage matrix per barcode\n"
     ]
    },
    {
     "name": "stdout",
     "output_type": "stream",
     "text": [
      "\u001b[2m\u001b[36m(compute_qc_stats_ray pid=2096671)\u001b[0m 2022-09-14 21:47:16,984 cisTopic     INFO     Coverage matrix done\n"
     ]
    },
    {
     "name": "stdout",
     "output_type": "stream",
     "text": [
      "\u001b[2m\u001b[36m(compute_qc_stats_ray pid=2096670)\u001b[0m 2022-09-14 21:47:55,805 cisTopic     INFO     Coverage matrix done\n"
     ]
    },
    {
     "name": "stdout",
     "output_type": "stream",
     "text": [
      "\u001b[2m\u001b[36m(compute_qc_stats_ray pid=2096662)\u001b[0m 2022-09-14 21:48:24,778 cisTopic     INFO     Computing TSS profile for TXG_10xv11_1.20k\n"
     ]
    },
    {
     "name": "stdout",
     "output_type": "stream",
     "text": [
      "\u001b[2m\u001b[36m(compute_qc_stats_ray pid=2096665)\u001b[0m 2022-09-14 21:49:14,536 cisTopic     INFO     Returning normalized TSS coverage matrix per barcode\n"
     ]
    },
    {
     "name": "stdout",
     "output_type": "stream",
     "text": [
      "\u001b[2m\u001b[36m(compute_qc_stats_ray pid=2096671)\u001b[0m 2022-09-14 21:49:21,742 cisTopic     INFO     Returning normalized TSS coverage matrix per barcode\n"
     ]
    },
    {
     "name": "stdout",
     "output_type": "stream",
     "text": [
      "\u001b[2m\u001b[36m(compute_qc_stats_ray pid=2096662)\u001b[0m 2022-09-14 21:49:53,490 cisTopic     INFO     Formatting annnotation\n"
     ]
    },
    {
     "name": "stdout",
     "output_type": "stream",
     "text": [
      "\u001b[2m\u001b[36m(compute_qc_stats_ray pid=2096662)\u001b[0m 2022-09-14 21:49:53,919 cisTopic     INFO     Creating coverage matrix\n"
     ]
    },
    {
     "name": "stdout",
     "output_type": "stream",
     "text": [
      "\u001b[2m\u001b[36m(compute_qc_stats_ray pid=2096671)\u001b[0m 2022-09-14 21:50:49,547 cisTopic     INFO     Returning normalized sample TSS enrichment data\n"
     ]
    },
    {
     "name": "stdout",
     "output_type": "stream",
     "text": [
      "\u001b[2m\u001b[36m(compute_qc_stats_ray pid=2096671)\u001b[0m 2022-09-14 21:50:50,116 cisTopic     INFO     Computing FRIP profile for CNA_10xv2_2.20k\n"
     ]
    },
    {
     "name": "stdout",
     "output_type": "stream",
     "text": [
      "\u001b[2m\u001b[36m(compute_qc_stats_ray pid=2096671)\u001b[0m 2022-09-14 21:50:56,170 cisTopic     INFO     Counting fragments\n"
     ]
    },
    {
     "name": "stdout",
     "output_type": "stream",
     "text": [
      "\u001b[2m\u001b[36m(compute_qc_stats_ray pid=2096671)\u001b[0m 2022-09-14 21:51:21,387 cisTopic     INFO     Intersecting fragments with regions\n"
     ]
    },
    {
     "name": "stdout",
     "output_type": "stream",
     "text": [
      "\u001b[2m\u001b[36m(compute_qc_stats_ray pid=2096670)\u001b[0m 2022-09-14 21:52:42,605 cisTopic     INFO     Returning normalized TSS coverage matrix per barcode\n"
     ]
    },
    {
     "name": "stdout",
     "output_type": "stream",
     "text": [
      "\u001b[2m\u001b[36m(compute_qc_stats_ray pid=2096663)\u001b[0m 2022-09-14 21:53:17,657 cisTopic     INFO     Returning normalized sample TSS enrichment data\n"
     ]
    },
    {
     "name": "stdout",
     "output_type": "stream",
     "text": [
      "\u001b[2m\u001b[36m(compute_qc_stats_ray pid=2096663)\u001b[0m 2022-09-14 21:53:18,265 cisTopic     INFO     Computing FRIP profile for EPF_hydrop_4.20k\n"
     ]
    },
    {
     "name": "stdout",
     "output_type": "stream",
     "text": [
      "\u001b[2m\u001b[36m(compute_qc_stats_ray pid=2096663)\u001b[0m 2022-09-14 21:53:20,756 cisTopic     INFO     Counting fragments\n"
     ]
    },
    {
     "name": "stdout",
     "output_type": "stream",
     "text": [
      "\u001b[2m\u001b[36m(compute_qc_stats_ray pid=2096663)\u001b[0m 2022-09-14 21:53:28,180 cisTopic     INFO     Intersecting fragments with regions\n"
     ]
    },
    {
     "name": "stdout",
     "output_type": "stream",
     "text": [
      "\u001b[2m\u001b[36m(compute_qc_stats_ray pid=2096671)\u001b[0m 2022-09-14 21:53:35,226 cisTopic     INFO     Sample CNA_10xv2_2.20k done!\n"
     ]
    },
    {
     "name": "stdout",
     "output_type": "stream",
     "text": [
      "\u001b[2m\u001b[36m(compute_qc_stats_ray pid=2096667)\u001b[0m 2022-09-14 21:53:36,431 cisTopic     INFO     Returning normalized sample TSS enrichment data\n"
     ]
    },
    {
     "name": "stdout",
     "output_type": "stream",
     "text": [
      "\u001b[2m\u001b[36m(compute_qc_stats_ray pid=2096667)\u001b[0m 2022-09-14 21:53:37,273 cisTopic     INFO     Computing FRIP profile for EPF_hydrop_2.20k\n"
     ]
    },
    {
     "name": "stdout",
     "output_type": "stream",
     "text": [
      "\u001b[2m\u001b[36m(compute_qc_stats_ray pid=2096667)\u001b[0m 2022-09-14 21:53:40,468 cisTopic     INFO     Counting fragments\n"
     ]
    },
    {
     "name": "stdout",
     "output_type": "stream",
     "text": [
      "\u001b[2m\u001b[36m(compute_qc_stats_ray pid=2096672)\u001b[0m 2022-09-14 21:53:42,996 cisTopic     INFO     Coverage matrix done\n"
     ]
    },
    {
     "name": "stdout",
     "output_type": "stream",
     "text": [
      "\u001b[2m\u001b[36m(compute_qc_stats_ray pid=2096667)\u001b[0m 2022-09-14 21:53:47,198 cisTopic     INFO     Intersecting fragments with regions\n"
     ]
    },
    {
     "name": "stdout",
     "output_type": "stream",
     "text": [
      "\u001b[2m\u001b[36m(compute_qc_stats_ray pid=2096663)\u001b[0m 2022-09-14 21:53:58,355 cisTopic     INFO     Sample EPF_hydrop_4.20k done!\n"
     ]
    },
    {
     "name": "stdout",
     "output_type": "stream",
     "text": [
      "\u001b[2m\u001b[36m(compute_qc_stats_ray pid=2096667)\u001b[0m 2022-09-14 21:54:14,822 cisTopic     INFO     Sample EPF_hydrop_2.20k done!\n"
     ]
    },
    {
     "name": "stdout",
     "output_type": "stream",
     "text": [
      "\u001b[2m\u001b[36m(compute_qc_stats_ray pid=2096665)\u001b[0m 2022-09-14 21:54:29,312 cisTopic     INFO     Returning normalized sample TSS enrichment data\n"
     ]
    },
    {
     "name": "stdout",
     "output_type": "stream",
     "text": [
      "\u001b[2m\u001b[36m(compute_qc_stats_ray pid=2096665)\u001b[0m 2022-09-14 21:54:29,680 cisTopic     INFO     Computing FRIP profile for BIO_ddseq_3.20k\n"
     ]
    },
    {
     "name": "stdout",
     "output_type": "stream",
     "text": [
      "\u001b[2m\u001b[36m(compute_qc_stats_ray pid=2096665)\u001b[0m 2022-09-14 21:54:32,011 cisTopic     INFO     Counting fragments\n"
     ]
    },
    {
     "name": "stdout",
     "output_type": "stream",
     "text": [
      "\u001b[2m\u001b[36m(compute_qc_stats_ray pid=2096665)\u001b[0m 2022-09-14 21:54:46,781 cisTopic     INFO     Intersecting fragments with regions\n"
     ]
    },
    {
     "name": "stdout",
     "output_type": "stream",
     "text": [
      "\u001b[2m\u001b[36m(compute_qc_stats_ray pid=2096670)\u001b[0m 2022-09-14 21:55:21,358 cisTopic     INFO     Returning normalized sample TSS enrichment data\n"
     ]
    },
    {
     "name": "stdout",
     "output_type": "stream",
     "text": [
      "\u001b[2m\u001b[36m(compute_qc_stats_ray pid=2096670)\u001b[0m 2022-09-14 21:55:21,707 cisTopic     INFO     Computing FRIP profile for UCS_ddseq_2.20k\n"
     ]
    },
    {
     "name": "stdout",
     "output_type": "stream",
     "text": [
      "\u001b[2m\u001b[36m(compute_qc_stats_ray pid=2096670)\u001b[0m 2022-09-14 21:55:24,422 cisTopic     INFO     Counting fragments\n"
     ]
    },
    {
     "name": "stdout",
     "output_type": "stream",
     "text": [
      "\u001b[2m\u001b[36m(compute_qc_stats_ray pid=2096665)\u001b[0m 2022-09-14 21:55:28,992 cisTopic     INFO     Sample BIO_ddseq_3.20k done!\n"
     ]
    },
    {
     "name": "stdout",
     "output_type": "stream",
     "text": [
      "\u001b[2m\u001b[36m(compute_qc_stats_ray pid=2096670)\u001b[0m 2022-09-14 21:55:45,641 cisTopic     INFO     Intersecting fragments with regions\n"
     ]
    },
    {
     "name": "stdout",
     "output_type": "stream",
     "text": [
      "\u001b[2m\u001b[36m(compute_qc_stats_ray pid=2096670)\u001b[0m 2022-09-14 21:56:20,886 cisTopic     INFO     Sample UCS_ddseq_2.20k done!\n"
     ]
    },
    {
     "name": "stdout",
     "output_type": "stream",
     "text": [
      "\u001b[2m\u001b[36m(compute_qc_stats_ray pid=2096672)\u001b[0m 2022-09-14 21:57:57,290 cisTopic     INFO     Returning normalized TSS coverage matrix per barcode\n"
     ]
    },
    {
     "name": "stdout",
     "output_type": "stream",
     "text": [
      "\u001b[2m\u001b[36m(compute_qc_stats_ray pid=2096662)\u001b[0m 2022-09-14 21:58:13,985 cisTopic     INFO     Coverage matrix done\n"
     ]
    },
    {
     "name": "stdout",
     "output_type": "stream",
     "text": [
      "\u001b[2m\u001b[36m(compute_qc_stats_ray pid=2096672)\u001b[0m 2022-09-14 21:59:47,814 cisTopic     INFO     Returning normalized sample TSS enrichment data\n"
     ]
    },
    {
     "name": "stdout",
     "output_type": "stream",
     "text": [
      "\u001b[2m\u001b[36m(compute_qc_stats_ray pid=2096672)\u001b[0m 2022-09-14 21:59:47,989 cisTopic     INFO     Computing FRIP profile for HAR_ddseq_2.20k\n"
     ]
    },
    {
     "name": "stdout",
     "output_type": "stream",
     "text": [
      "\u001b[2m\u001b[36m(compute_qc_stats_ray pid=2096672)\u001b[0m 2022-09-14 21:59:48,906 cisTopic     INFO     Counting fragments\n"
     ]
    },
    {
     "name": "stdout",
     "output_type": "stream",
     "text": [
      "\u001b[2m\u001b[36m(compute_qc_stats_ray pid=2096672)\u001b[0m 2022-09-14 22:00:01,863 cisTopic     INFO     Intersecting fragments with regions\n"
     ]
    },
    {
     "name": "stdout",
     "output_type": "stream",
     "text": [
      "\u001b[2m\u001b[36m(compute_qc_stats_ray pid=2096672)\u001b[0m 2022-09-14 22:00:39,810 cisTopic     INFO     Sample HAR_ddseq_2.20k done!\n"
     ]
    },
    {
     "name": "stdout",
     "output_type": "stream",
     "text": [
      "\u001b[2m\u001b[36m(compute_qc_stats_ray pid=2096662)\u001b[0m 2022-09-14 22:00:53,449 cisTopic     INFO     Returning normalized TSS coverage matrix per barcode\n"
     ]
    },
    {
     "name": "stdout",
     "output_type": "stream",
     "text": [
      "\u001b[2m\u001b[36m(compute_qc_stats_ray pid=2096662)\u001b[0m 2022-09-14 22:01:49,420 cisTopic     INFO     Returning normalized sample TSS enrichment data\n",
      "\u001b[2m\u001b[36m(compute_qc_stats_ray pid=2096662)\u001b[0m 2022-09-14 22:01:49,504 cisTopic     INFO     Computing FRIP profile for TXG_10xv11_1.20k\n"
     ]
    },
    {
     "name": "stdout",
     "output_type": "stream",
     "text": [
      "\u001b[2m\u001b[36m(compute_qc_stats_ray pid=2096662)\u001b[0m 2022-09-14 22:01:50,222 cisTopic     INFO     Counting fragments\n"
     ]
    },
    {
     "name": "stdout",
     "output_type": "stream",
     "text": [
      "\u001b[2m\u001b[36m(compute_qc_stats_ray pid=2096662)\u001b[0m 2022-09-14 22:01:57,317 cisTopic     INFO     Intersecting fragments with regions\n"
     ]
    },
    {
     "name": "stdout",
     "output_type": "stream",
     "text": [
      "\u001b[2m\u001b[36m(compute_qc_stats_ray pid=2096662)\u001b[0m 2022-09-14 22:02:23,015 cisTopic     INFO     Sample TXG_10xv11_1.20k done!\n"
     ]
    },
    {
     "name": "stdout",
     "output_type": "stream",
     "text": [
      "Dumping files in /dodrio/scratch/projects/starting_2022_023/benchmark/scatac_benchmark/downsample_series/20k/cistopic_qc_out_CONSENSUS...\n"
     ]
    },
    {
     "name": "stderr",
     "output_type": "stream",
     "text": [
      "2022-09-14 22:03:38,991\tINFO services.py:1470 -- View the Ray dashboard at \u001b[1m\u001b[32mhttp://127.0.0.1:8265\u001b[39m\u001b[22m\n"
     ]
    },
    {
     "name": "stdout",
     "output_type": "stream",
     "text": [
      "\u001b[2m\u001b[36m(compute_qc_stats_ray pid=2101407)\u001b[0m 2022-09-14 22:04:28,858 cisTopic     INFO     Reading BRO_mtscatac_1.20k\n",
      "\u001b[2m\u001b[36m(compute_qc_stats_ray pid=2101406)\u001b[0m 2022-09-14 22:04:28,873 cisTopic     INFO     Reading CNA_10xmultiome_2.20k\n",
      "\u001b[2m\u001b[36m(compute_qc_stats_ray pid=2101408)\u001b[0m 2022-09-14 22:04:28,850 cisTopic     INFO     Reading STA_10xv11_1.20k\n",
      "\u001b[2m\u001b[36m(compute_qc_stats_ray pid=2101409)\u001b[0m 2022-09-14 22:04:28,865 cisTopic     INFO     Reading VIB_10xv1_2.20k\n",
      "\u001b[2m\u001b[36m(compute_qc_stats_ray pid=2101410)\u001b[0m 2022-09-14 22:04:28,900 cisTopic     INFO     Reading VIB_10xv1_1.20k\n"
     ]
    },
    {
     "name": "stdout",
     "output_type": "stream",
     "text": [
      "\u001b[2m\u001b[36m(compute_qc_stats_ray pid=2101405)\u001b[0m 2022-09-14 22:04:29,049 cisTopic     INFO     Reading CNA_hydrop_1.20k\n",
      "\u001b[2m\u001b[36m(compute_qc_stats_ray pid=2101404)\u001b[0m 2022-09-14 22:04:29,228 cisTopic     INFO     Reading VIB_hydrop_12.20k\n"
     ]
    },
    {
     "name": "stdout",
     "output_type": "stream",
     "text": [
      "\u001b[2m\u001b[36m(compute_qc_stats_ray pid=2101403)\u001b[0m 2022-09-14 22:04:29,247 cisTopic     INFO     Reading EPF_hydrop_1.20k\n"
     ]
    },
    {
     "name": "stdout",
     "output_type": "stream",
     "text": [
      "\u001b[2m\u001b[36m(compute_qc_stats_ray pid=2101402)\u001b[0m 2022-09-14 22:04:29,654 cisTopic     INFO     Reading SAN_10xmultiome_1.20k\n"
     ]
    },
    {
     "name": "stdout",
     "output_type": "stream",
     "text": [
      "\u001b[2m\u001b[36m(compute_qc_stats_ray pid=2101401)\u001b[0m 2022-09-14 22:04:29,889 cisTopic     INFO     Reading CNA_10xmultiome_1.20k\n",
      "\u001b[2m\u001b[36m(compute_qc_stats_ray pid=2101399)\u001b[0m 2022-09-14 22:04:29,847 cisTopic     INFO     Reading CNA_hydrop_3.20k\n"
     ]
    },
    {
     "name": "stdout",
     "output_type": "stream",
     "text": [
      "\u001b[2m\u001b[36m(compute_qc_stats_ray pid=2101400)\u001b[0m 2022-09-14 22:04:30,080 cisTopic     INFO     Reading STA_10xv11_2.20k\n",
      "\u001b[2m\u001b[36m(compute_qc_stats_ray pid=2101398)\u001b[0m 2022-09-14 22:04:30,077 cisTopic     INFO     Reading BIO_ddseq_1.20k\n"
     ]
    },
    {
     "name": "stdout",
     "output_type": "stream",
     "text": [
      "\u001b[2m\u001b[36m(compute_qc_stats_ray pid=2101396)\u001b[0m 2022-09-14 22:04:30,263 cisTopic     INFO     Reading TXG_10xv2_2.20k\n"
     ]
    },
    {
     "name": "stdout",
     "output_type": "stream",
     "text": [
      "\u001b[2m\u001b[36m(compute_qc_stats_ray pid=2101395)\u001b[0m 2022-09-14 22:04:30,651 cisTopic     INFO     Reading UCS_ddseq_1.20k\n",
      "\u001b[2m\u001b[36m(compute_qc_stats_ray pid=2101394)\u001b[0m 2022-09-14 22:04:30,719 cisTopic     INFO     Reading CNA_10xv11_2.20k\n"
     ]
    },
    {
     "name": "stdout",
     "output_type": "stream",
     "text": [
      "\u001b[2m\u001b[36m(compute_qc_stats_ray pid=2101404)\u001b[0m 2022-09-14 22:07:15,002 cisTopic     INFO     Computing barcode rank plot for VIB_hydrop_12.20k\n",
      "\u001b[2m\u001b[36m(compute_qc_stats_ray pid=2101404)\u001b[0m 2022-09-14 22:07:15,003 cisTopic     INFO     Counting fragments\n"
     ]
    },
    {
     "name": "stdout",
     "output_type": "stream",
     "text": [
      "\u001b[2m\u001b[36m(compute_qc_stats_ray pid=2101408)\u001b[0m 2022-09-14 22:07:15,250 cisTopic     INFO     Computing barcode rank plot for STA_10xv11_1.20k\n",
      "\u001b[2m\u001b[36m(compute_qc_stats_ray pid=2101408)\u001b[0m 2022-09-14 22:07:15,251 cisTopic     INFO     Counting fragments\n"
     ]
    },
    {
     "name": "stdout",
     "output_type": "stream",
     "text": [
      "\u001b[2m\u001b[36m(compute_qc_stats_ray pid=2101408)\u001b[0m 2022-09-14 22:07:23,899 cisTopic     INFO     Marking barcodes with more than 10\n"
     ]
    },
    {
     "name": "stdout",
     "output_type": "stream",
     "text": [
      "\u001b[2m\u001b[36m(compute_qc_stats_ray pid=2101404)\u001b[0m 2022-09-14 22:07:24,075 cisTopic     INFO     Marking barcodes with more than 10\n",
      "\u001b[2m\u001b[36m(compute_qc_stats_ray pid=2101408)\u001b[0m 2022-09-14 22:07:24,251 cisTopic     INFO     Returning plot data\n",
      "\u001b[2m\u001b[36m(compute_qc_stats_ray pid=2101408)\u001b[0m 2022-09-14 22:07:24,252 cisTopic     INFO     Returning valid barcodes\n"
     ]
    },
    {
     "name": "stdout",
     "output_type": "stream",
     "text": [
      "\u001b[2m\u001b[36m(compute_qc_stats_ray pid=2101404)\u001b[0m 2022-09-14 22:07:24,555 cisTopic     INFO     Returning plot data\n",
      "\u001b[2m\u001b[36m(compute_qc_stats_ray pid=2101404)\u001b[0m 2022-09-14 22:07:24,662 cisTopic     INFO     Returning valid barcodes\n"
     ]
    },
    {
     "name": "stdout",
     "output_type": "stream",
     "text": [
      "\u001b[2m\u001b[36m(compute_qc_stats_ray pid=2101404)\u001b[0m 2022-09-14 22:07:33,133 cisTopic     INFO     Computing duplicate rate plot for VIB_hydrop_12.20k\n"
     ]
    },
    {
     "name": "stdout",
     "output_type": "stream",
     "text": [
      "\u001b[2m\u001b[36m(compute_qc_stats_ray pid=2101408)\u001b[0m 2022-09-14 22:07:34,473 cisTopic     INFO     Computing duplicate rate plot for STA_10xv11_1.20k\n"
     ]
    },
    {
     "name": "stdout",
     "output_type": "stream",
     "text": [
      "\u001b[2m\u001b[36m(compute_qc_stats_ray pid=2101404)\u001b[0m 2022-09-14 22:07:48,322 cisTopic     INFO     Return plot data\n"
     ]
    },
    {
     "name": "stdout",
     "output_type": "stream",
     "text": [
      "\u001b[2m\u001b[36m(compute_qc_stats_ray pid=2101404)\u001b[0m 2022-09-14 22:07:49,584 cisTopic     INFO     Computing insert size distribution for VIB_hydrop_12.20k\n",
      "\u001b[2m\u001b[36m(compute_qc_stats_ray pid=2101404)\u001b[0m 2022-09-14 22:07:49,584 cisTopic     INFO     Counting fragments\n"
     ]
    },
    {
     "name": "stdout",
     "output_type": "stream",
     "text": [
      "\u001b[2m\u001b[36m(compute_qc_stats_ray pid=2101408)\u001b[0m 2022-09-14 22:07:49,873 cisTopic     INFO     Return plot data\n"
     ]
    },
    {
     "name": "stdout",
     "output_type": "stream",
     "text": [
      "\u001b[2m\u001b[36m(compute_qc_stats_ray pid=2101408)\u001b[0m 2022-09-14 22:07:51,110 cisTopic     INFO     Computing insert size distribution for STA_10xv11_1.20k\n",
      "\u001b[2m\u001b[36m(compute_qc_stats_ray pid=2101408)\u001b[0m 2022-09-14 22:07:51,111 cisTopic     INFO     Counting fragments\n"
     ]
    },
    {
     "name": "stdout",
     "output_type": "stream",
     "text": [
      "\u001b[2m\u001b[36m(compute_qc_stats_ray pid=2101404)\u001b[0m 2022-09-14 22:07:52,559 cisTopic     INFO     Returning plot data\n"
     ]
    },
    {
     "name": "stdout",
     "output_type": "stream",
     "text": [
      "\u001b[2m\u001b[36m(compute_qc_stats_ray pid=2101408)\u001b[0m 2022-09-14 22:07:54,789 cisTopic     INFO     Returning plot data\n"
     ]
    },
    {
     "name": "stdout",
     "output_type": "stream",
     "text": [
      "\u001b[2m\u001b[36m(compute_qc_stats_ray pid=2101399)\u001b[0m 2022-09-14 22:08:53,326 cisTopic     INFO     Computing barcode rank plot for CNA_hydrop_3.20k\n",
      "\u001b[2m\u001b[36m(compute_qc_stats_ray pid=2101399)\u001b[0m 2022-09-14 22:08:53,326 cisTopic     INFO     Counting fragments\n"
     ]
    },
    {
     "name": "stdout",
     "output_type": "stream",
     "text": [
      "\u001b[2m\u001b[36m(compute_qc_stats_ray pid=2101404)\u001b[0m 2022-09-14 22:08:53,829 cisTopic     INFO     Computing TSS profile for VIB_hydrop_12.20k\n"
     ]
    },
    {
     "name": "stdout",
     "output_type": "stream",
     "text": [
      "\u001b[2m\u001b[36m(compute_qc_stats_ray pid=2101399)\u001b[0m 2022-09-14 22:09:05,624 cisTopic     INFO     Marking barcodes with more than 10\n"
     ]
    },
    {
     "name": "stdout",
     "output_type": "stream",
     "text": [
      "\u001b[2m\u001b[36m(compute_qc_stats_ray pid=2101399)\u001b[0m 2022-09-14 22:09:06,065 cisTopic     INFO     Returning plot data\n",
      "\u001b[2m\u001b[36m(compute_qc_stats_ray pid=2101399)\u001b[0m 2022-09-14 22:09:06,245 cisTopic     INFO     Returning valid barcodes\n"
     ]
    },
    {
     "name": "stdout",
     "output_type": "stream",
     "text": [
      "\u001b[2m\u001b[36m(compute_qc_stats_ray pid=2101405)\u001b[0m 2022-09-14 22:09:08,658 cisTopic     INFO     Computing barcode rank plot for CNA_hydrop_1.20k\n",
      "\u001b[2m\u001b[36m(compute_qc_stats_ray pid=2101405)\u001b[0m 2022-09-14 22:09:08,658 cisTopic     INFO     Counting fragments\n"
     ]
    },
    {
     "name": "stdout",
     "output_type": "stream",
     "text": [
      "\u001b[2m\u001b[36m(compute_qc_stats_ray pid=2101408)\u001b[0m 2022-09-14 22:09:10,151 cisTopic     INFO     Computing TSS profile for STA_10xv11_1.20k\n"
     ]
    },
    {
     "name": "stdout",
     "output_type": "stream",
     "text": [
      "\u001b[2m\u001b[36m(compute_qc_stats_ray pid=2101400)\u001b[0m 2022-09-14 22:09:16,803 cisTopic     INFO     Computing barcode rank plot for STA_10xv11_2.20k\n",
      "\u001b[2m\u001b[36m(compute_qc_stats_ray pid=2101400)\u001b[0m 2022-09-14 22:09:16,803 cisTopic     INFO     Counting fragments\n"
     ]
    },
    {
     "name": "stdout",
     "output_type": "stream",
     "text": [
      "\u001b[2m\u001b[36m(compute_qc_stats_ray pid=2101404)\u001b[0m 2022-09-14 22:09:17,660 cisTopic     INFO     Formatting annnotation\n"
     ]
    },
    {
     "name": "stdout",
     "output_type": "stream",
     "text": [
      "\u001b[2m\u001b[36m(compute_qc_stats_ray pid=2101399)\u001b[0m 2022-09-14 22:09:18,221 cisTopic     INFO     Computing duplicate rate plot for CNA_hydrop_3.20k\n"
     ]
    },
    {
     "name": "stdout",
     "output_type": "stream",
     "text": [
      "\u001b[2m\u001b[36m(compute_qc_stats_ray pid=2101404)\u001b[0m 2022-09-14 22:09:18,635 cisTopic     INFO     Creating coverage matrix\n"
     ]
    },
    {
     "name": "stdout",
     "output_type": "stream",
     "text": [
      "\u001b[2m\u001b[36m(compute_qc_stats_ray pid=2101405)\u001b[0m 2022-09-14 22:09:21,604 cisTopic     INFO     Marking barcodes with more than 10\n"
     ]
    },
    {
     "name": "stdout",
     "output_type": "stream",
     "text": [
      "\u001b[2m\u001b[36m(compute_qc_stats_ray pid=2101405)\u001b[0m 2022-09-14 22:09:22,059 cisTopic     INFO     Returning plot data\n",
      "\u001b[2m\u001b[36m(compute_qc_stats_ray pid=2101405)\u001b[0m 2022-09-14 22:09:22,223 cisTopic     INFO     Returning valid barcodes\n"
     ]
    },
    {
     "name": "stdout",
     "output_type": "stream",
     "text": [
      "\u001b[2m\u001b[36m(compute_qc_stats_ray pid=2101408)\u001b[0m 2022-09-14 22:09:24,434 cisTopic     INFO     Formatting annnotation\n"
     ]
    },
    {
     "name": "stdout",
     "output_type": "stream",
     "text": [
      "\u001b[2m\u001b[36m(compute_qc_stats_ray pid=2101408)\u001b[0m 2022-09-14 22:09:25,452 cisTopic     INFO     Creating coverage matrix\n"
     ]
    },
    {
     "name": "stdout",
     "output_type": "stream",
     "text": [
      "\u001b[2m\u001b[36m(compute_qc_stats_ray pid=2101400)\u001b[0m 2022-09-14 22:09:31,703 cisTopic     INFO     Marking barcodes with more than 10\n"
     ]
    },
    {
     "name": "stdout",
     "output_type": "stream",
     "text": [
      "\u001b[2m\u001b[36m(compute_qc_stats_ray pid=2101400)\u001b[0m 2022-09-14 22:09:32,207 cisTopic     INFO     Returning plot data\n",
      "\u001b[2m\u001b[36m(compute_qc_stats_ray pid=2101400)\u001b[0m 2022-09-14 22:09:32,209 cisTopic     INFO     Returning valid barcodes\n"
     ]
    },
    {
     "name": "stdout",
     "output_type": "stream",
     "text": [
      "\u001b[2m\u001b[36m(compute_qc_stats_ray pid=2101405)\u001b[0m 2022-09-14 22:09:34,576 cisTopic     INFO     Computing duplicate rate plot for CNA_hydrop_1.20k\n"
     ]
    },
    {
     "name": "stdout",
     "output_type": "stream",
     "text": [
      "\u001b[2m\u001b[36m(compute_qc_stats_ray pid=2101399)\u001b[0m 2022-09-14 22:09:37,793 cisTopic     INFO     Return plot data\n"
     ]
    },
    {
     "name": "stdout",
     "output_type": "stream",
     "text": [
      "\u001b[2m\u001b[36m(compute_qc_stats_ray pid=2101399)\u001b[0m 2022-09-14 22:09:39,140 cisTopic     INFO     Computing insert size distribution for CNA_hydrop_3.20k\n",
      "\u001b[2m\u001b[36m(compute_qc_stats_ray pid=2101399)\u001b[0m 2022-09-14 22:09:39,140 cisTopic     INFO     Counting fragments\n"
     ]
    },
    {
     "name": "stdout",
     "output_type": "stream",
     "text": [
      "\u001b[2m\u001b[36m(compute_qc_stats_ray pid=2101399)\u001b[0m 2022-09-14 22:09:43,625 cisTopic     INFO     Returning plot data\n"
     ]
    },
    {
     "name": "stdout",
     "output_type": "stream",
     "text": [
      "\u001b[2m\u001b[36m(compute_qc_stats_ray pid=2101403)\u001b[0m 2022-09-14 22:09:45,101 cisTopic     INFO     Computing barcode rank plot for EPF_hydrop_1.20k\n",
      "\u001b[2m\u001b[36m(compute_qc_stats_ray pid=2101403)\u001b[0m 2022-09-14 22:09:45,101 cisTopic     INFO     Counting fragments\n"
     ]
    },
    {
     "name": "stdout",
     "output_type": "stream",
     "text": [
      "\u001b[2m\u001b[36m(compute_qc_stats_ray pid=2101400)\u001b[0m 2022-09-14 22:09:47,103 cisTopic     INFO     Computing duplicate rate plot for STA_10xv11_2.20k\n"
     ]
    },
    {
     "name": "stdout",
     "output_type": "stream",
     "text": [
      "\u001b[2m\u001b[36m(compute_qc_stats_ray pid=2101405)\u001b[0m 2022-09-14 22:09:54,383 cisTopic     INFO     Return plot data\n"
     ]
    },
    {
     "name": "stdout",
     "output_type": "stream",
     "text": [
      "\u001b[2m\u001b[36m(compute_qc_stats_ray pid=2101405)\u001b[0m 2022-09-14 22:09:55,774 cisTopic     INFO     Computing insert size distribution for CNA_hydrop_1.20k\n",
      "\u001b[2m\u001b[36m(compute_qc_stats_ray pid=2101405)\u001b[0m 2022-09-14 22:09:55,775 cisTopic     INFO     Counting fragments\n"
     ]
    },
    {
     "name": "stdout",
     "output_type": "stream",
     "text": [
      "\u001b[2m\u001b[36m(compute_qc_stats_ray pid=2101403)\u001b[0m 2022-09-14 22:09:59,804 cisTopic     INFO     Marking barcodes with more than 10\n"
     ]
    },
    {
     "name": "stdout",
     "output_type": "stream",
     "text": [
      "\u001b[2m\u001b[36m(compute_qc_stats_ray pid=2101403)\u001b[0m 2022-09-14 22:10:00,306 cisTopic     INFO     Returning plot data\n"
     ]
    },
    {
     "name": "stdout",
     "output_type": "stream",
     "text": [
      "\u001b[2m\u001b[36m(compute_qc_stats_ray pid=2101403)\u001b[0m 2022-09-14 22:10:00,470 cisTopic     INFO     Returning valid barcodes\n"
     ]
    },
    {
     "name": "stdout",
     "output_type": "stream",
     "text": [
      "\u001b[2m\u001b[36m(compute_qc_stats_ray pid=2101405)\u001b[0m 2022-09-14 22:10:00,713 cisTopic     INFO     Returning plot data\n"
     ]
    },
    {
     "name": "stdout",
     "output_type": "stream",
     "text": [
      "\u001b[2m\u001b[36m(compute_qc_stats_ray pid=2101400)\u001b[0m 2022-09-14 22:10:12,817 cisTopic     INFO     Return plot data\n"
     ]
    },
    {
     "name": "stdout",
     "output_type": "stream",
     "text": [
      "\u001b[2m\u001b[36m(compute_qc_stats_ray pid=2101400)\u001b[0m 2022-09-14 22:10:14,038 cisTopic     INFO     Computing insert size distribution for STA_10xv11_2.20k\n",
      "\u001b[2m\u001b[36m(compute_qc_stats_ray pid=2101400)\u001b[0m 2022-09-14 22:10:14,038 cisTopic     INFO     Counting fragments\n"
     ]
    },
    {
     "name": "stdout",
     "output_type": "stream",
     "text": [
      "\u001b[2m\u001b[36m(compute_qc_stats_ray pid=2101403)\u001b[0m 2022-09-14 22:10:14,809 cisTopic     INFO     Computing duplicate rate plot for EPF_hydrop_1.20k\n"
     ]
    },
    {
     "name": "stdout",
     "output_type": "stream",
     "text": [
      "\u001b[2m\u001b[36m(compute_qc_stats_ray pid=2101400)\u001b[0m 2022-09-14 22:10:19,968 cisTopic     INFO     Returning plot data\n"
     ]
    },
    {
     "name": "stdout",
     "output_type": "stream",
     "text": [
      "\u001b[2m\u001b[36m(compute_qc_stats_ray pid=2101403)\u001b[0m 2022-09-14 22:10:37,983 cisTopic     INFO     Return plot data\n"
     ]
    },
    {
     "name": "stdout",
     "output_type": "stream",
     "text": [
      "\u001b[2m\u001b[36m(compute_qc_stats_ray pid=2101403)\u001b[0m 2022-09-14 22:10:39,297 cisTopic     INFO     Computing insert size distribution for EPF_hydrop_1.20k\n",
      "\u001b[2m\u001b[36m(compute_qc_stats_ray pid=2101403)\u001b[0m 2022-09-14 22:10:39,298 cisTopic     INFO     Counting fragments\n"
     ]
    },
    {
     "name": "stdout",
     "output_type": "stream",
     "text": [
      "\u001b[2m\u001b[36m(compute_qc_stats_ray pid=2101403)\u001b[0m 2022-09-14 22:10:44,991 cisTopic     INFO     Returning plot data\n"
     ]
    },
    {
     "name": "stdout",
     "output_type": "stream",
     "text": [
      "\u001b[2m\u001b[36m(compute_qc_stats_ray pid=2101394)\u001b[0m 2022-09-14 22:11:11,269 cisTopic     INFO     Computing barcode rank plot for CNA_10xv11_2.20k\n",
      "\u001b[2m\u001b[36m(compute_qc_stats_ray pid=2101394)\u001b[0m 2022-09-14 22:11:11,269 cisTopic     INFO     Counting fragments\n"
     ]
    },
    {
     "name": "stdout",
     "output_type": "stream",
     "text": [
      "\u001b[2m\u001b[36m(compute_qc_stats_ray pid=2101399)\u001b[0m 2022-09-14 22:11:14,783 cisTopic     INFO     Computing TSS profile for CNA_hydrop_3.20k\n"
     ]
    },
    {
     "name": "stdout",
     "output_type": "stream",
     "text": [
      "\u001b[2m\u001b[36m(compute_qc_stats_ray pid=2101405)\u001b[0m 2022-09-14 22:11:33,656 cisTopic     INFO     Computing TSS profile for CNA_hydrop_1.20k\n"
     ]
    },
    {
     "name": "stdout",
     "output_type": "stream",
     "text": [
      "\u001b[2m\u001b[36m(compute_qc_stats_ray pid=2101394)\u001b[0m 2022-09-14 22:11:34,160 cisTopic     INFO     Marking barcodes with more than 10\n"
     ]
    },
    {
     "name": "stdout",
     "output_type": "stream",
     "text": [
      "\u001b[2m\u001b[36m(compute_qc_stats_ray pid=2101394)\u001b[0m 2022-09-14 22:11:35,005 cisTopic     INFO     Returning plot data\n",
      "\u001b[2m\u001b[36m(compute_qc_stats_ray pid=2101394)\u001b[0m 2022-09-14 22:11:35,091 cisTopic     INFO     Returning valid barcodes\n"
     ]
    },
    {
     "name": "stdout",
     "output_type": "stream",
     "text": [
      "\u001b[2m\u001b[36m(compute_qc_stats_ray pid=2101408)\u001b[0m 2022-09-14 22:11:53,252 cisTopic     INFO     Coverage matrix done\n"
     ]
    },
    {
     "name": "stdout",
     "output_type": "stream",
     "text": [
      "\u001b[2m\u001b[36m(compute_qc_stats_ray pid=2101399)\u001b[0m 2022-09-14 22:11:54,220 cisTopic     INFO     Formatting annnotation\n"
     ]
    },
    {
     "name": "stdout",
     "output_type": "stream",
     "text": [
      "\u001b[2m\u001b[36m(compute_qc_stats_ray pid=2101399)\u001b[0m 2022-09-14 22:11:55,262 cisTopic     INFO     Creating coverage matrix\n"
     ]
    },
    {
     "name": "stdout",
     "output_type": "stream",
     "text": [
      "\u001b[2m\u001b[36m(compute_qc_stats_ray pid=2101394)\u001b[0m 2022-09-14 22:11:56,430 cisTopic     INFO     Computing duplicate rate plot for CNA_10xv11_2.20k\n"
     ]
    },
    {
     "name": "stdout",
     "output_type": "stream",
     "text": [
      "\u001b[2m\u001b[36m(compute_qc_stats_ray pid=2101407)\u001b[0m 2022-09-14 22:12:06,719 cisTopic     INFO     Computing barcode rank plot for BRO_mtscatac_1.20k\n",
      "\u001b[2m\u001b[36m(compute_qc_stats_ray pid=2101407)\u001b[0m 2022-09-14 22:12:06,719 cisTopic     INFO     Counting fragments\n"
     ]
    },
    {
     "name": "stdout",
     "output_type": "stream",
     "text": [
      "\u001b[2m\u001b[36m(compute_qc_stats_ray pid=2101400)\u001b[0m 2022-09-14 22:12:14,345 cisTopic     INFO     Computing TSS profile for STA_10xv11_2.20k\n"
     ]
    },
    {
     "name": "stdout",
     "output_type": "stream",
     "text": [
      "\u001b[2m\u001b[36m(compute_qc_stats_ray pid=2101405)\u001b[0m 2022-09-14 22:12:14,750 cisTopic     INFO     Formatting annnotation\n"
     ]
    },
    {
     "name": "stdout",
     "output_type": "stream",
     "text": [
      "\u001b[2m\u001b[36m(compute_qc_stats_ray pid=2101405)\u001b[0m 2022-09-14 22:12:15,808 cisTopic     INFO     Creating coverage matrix\n"
     ]
    },
    {
     "name": "stdout",
     "output_type": "stream",
     "text": [
      "\u001b[2m\u001b[36m(compute_qc_stats_ray pid=2101410)\u001b[0m 2022-09-14 22:12:24,294 cisTopic     INFO     Computing barcode rank plot for VIB_10xv1_1.20k\n",
      "\u001b[2m\u001b[36m(compute_qc_stats_ray pid=2101410)\u001b[0m 2022-09-14 22:12:24,294 cisTopic     INFO     Counting fragments\n"
     ]
    },
    {
     "name": "stdout",
     "output_type": "stream",
     "text": [
      "\u001b[2m\u001b[36m(compute_qc_stats_ray pid=2101407)\u001b[0m 2022-09-14 22:12:33,716 cisTopic     INFO     Marking barcodes with more than 10\n"
     ]
    },
    {
     "name": "stdout",
     "output_type": "stream",
     "text": [
      "\u001b[2m\u001b[36m(compute_qc_stats_ray pid=2101407)\u001b[0m 2022-09-14 22:12:34,682 cisTopic     INFO     Returning plot data\n",
      "\u001b[2m\u001b[36m(compute_qc_stats_ray pid=2101407)\u001b[0m 2022-09-14 22:12:34,761 cisTopic     INFO     Returning valid barcodes\n"
     ]
    },
    {
     "name": "stdout",
     "output_type": "stream",
     "text": [
      "\u001b[2m\u001b[36m(compute_qc_stats_ray pid=2101394)\u001b[0m 2022-09-14 22:12:36,631 cisTopic     INFO     Return plot data\n"
     ]
    },
    {
     "name": "stdout",
     "output_type": "stream",
     "text": [
      "\u001b[2m\u001b[36m(compute_qc_stats_ray pid=2101394)\u001b[0m 2022-09-14 22:12:37,936 cisTopic     INFO     Computing insert size distribution for CNA_10xv11_2.20k\n",
      "\u001b[2m\u001b[36m(compute_qc_stats_ray pid=2101394)\u001b[0m 2022-09-14 22:12:37,936 cisTopic     INFO     Counting fragments\n"
     ]
    },
    {
     "name": "stdout",
     "output_type": "stream",
     "text": [
      "\u001b[2m\u001b[36m(compute_qc_stats_ray pid=2101403)\u001b[0m 2022-09-14 22:12:40,961 cisTopic     INFO     Computing TSS profile for EPF_hydrop_1.20k\n"
     ]
    },
    {
     "name": "stdout",
     "output_type": "stream",
     "text": [
      "\u001b[2m\u001b[36m(compute_qc_stats_ray pid=2101400)\u001b[0m 2022-09-14 22:12:42,579 cisTopic     INFO     Formatting annnotation\n"
     ]
    },
    {
     "name": "stdout",
     "output_type": "stream",
     "text": [
      "\u001b[2m\u001b[36m(compute_qc_stats_ray pid=2101400)\u001b[0m 2022-09-14 22:12:43,518 cisTopic     INFO     Creating coverage matrix\n"
     ]
    },
    {
     "name": "stdout",
     "output_type": "stream",
     "text": [
      "\u001b[2m\u001b[36m(compute_qc_stats_ray pid=2101394)\u001b[0m 2022-09-14 22:12:47,581 cisTopic     INFO     Returning plot data\n"
     ]
    },
    {
     "name": "stdout",
     "output_type": "stream",
     "text": [
      "\u001b[2m\u001b[36m(compute_qc_stats_ray pid=2101410)\u001b[0m 2022-09-14 22:12:51,928 cisTopic     INFO     Marking barcodes with more than 10\n"
     ]
    },
    {
     "name": "stdout",
     "output_type": "stream",
     "text": [
      "\u001b[2m\u001b[36m(compute_qc_stats_ray pid=2101401)\u001b[0m 2022-09-14 22:12:52,511 cisTopic     INFO     Computing barcode rank plot for CNA_10xmultiome_1.20k\n",
      "\u001b[2m\u001b[36m(compute_qc_stats_ray pid=2101401)\u001b[0m 2022-09-14 22:12:52,511 cisTopic     INFO     Counting fragments\n"
     ]
    },
    {
     "name": "stdout",
     "output_type": "stream",
     "text": [
      "\u001b[2m\u001b[36m(compute_qc_stats_ray pid=2101410)\u001b[0m 2022-09-14 22:12:52,910 cisTopic     INFO     Returning plot data\n",
      "\u001b[2m\u001b[36m(compute_qc_stats_ray pid=2101410)\u001b[0m 2022-09-14 22:12:52,996 cisTopic     INFO     Returning valid barcodes\n"
     ]
    },
    {
     "name": "stdout",
     "output_type": "stream",
     "text": [
      "\u001b[2m\u001b[36m(compute_qc_stats_ray pid=2101407)\u001b[0m 2022-09-14 22:13:00,185 cisTopic     INFO     Computing duplicate rate plot for BRO_mtscatac_1.20k\n"
     ]
    },
    {
     "name": "stdout",
     "output_type": "stream",
     "text": [
      "\u001b[2m\u001b[36m(compute_qc_stats_ray pid=2101406)\u001b[0m 2022-09-14 22:13:00,574 cisTopic     INFO     Computing barcode rank plot for CNA_10xmultiome_2.20k\n",
      "\u001b[2m\u001b[36m(compute_qc_stats_ray pid=2101406)\u001b[0m 2022-09-14 22:13:00,575 cisTopic     INFO     Counting fragments\n"
     ]
    },
    {
     "name": "stdout",
     "output_type": "stream",
     "text": [
      "\u001b[2m\u001b[36m(compute_qc_stats_ray pid=2101410)\u001b[0m 2022-09-14 22:13:19,629 cisTopic     INFO     Computing duplicate rate plot for VIB_10xv1_1.20k\n"
     ]
    },
    {
     "name": "stdout",
     "output_type": "stream",
     "text": [
      "\u001b[2m\u001b[36m(compute_qc_stats_ray pid=2101401)\u001b[0m 2022-09-14 22:13:22,366 cisTopic     INFO     Marking barcodes with more than 10\n"
     ]
    },
    {
     "name": "stdout",
     "output_type": "stream",
     "text": [
      "\u001b[2m\u001b[36m(compute_qc_stats_ray pid=2101401)\u001b[0m 2022-09-14 22:13:23,361 cisTopic     INFO     Returning plot data\n",
      "\u001b[2m\u001b[36m(compute_qc_stats_ray pid=2101401)\u001b[0m 2022-09-14 22:13:23,443 cisTopic     INFO     Returning valid barcodes\n"
     ]
    },
    {
     "name": "stdout",
     "output_type": "stream",
     "text": [
      "\u001b[2m\u001b[36m(compute_qc_stats_ray pid=2101403)\u001b[0m 2022-09-14 22:13:28,947 cisTopic     INFO     Formatting annnotation\n"
     ]
    },
    {
     "name": "stdout",
     "output_type": "stream",
     "text": [
      "\u001b[2m\u001b[36m(compute_qc_stats_ray pid=2101403)\u001b[0m 2022-09-14 22:13:30,031 cisTopic     INFO     Creating coverage matrix\n",
      "\u001b[2m\u001b[36m(compute_qc_stats_ray pid=2101406)\u001b[0m 2022-09-14 22:13:30,107 cisTopic     INFO     Marking barcodes with more than 10\n"
     ]
    },
    {
     "name": "stdout",
     "output_type": "stream",
     "text": [
      "\u001b[2m\u001b[36m(compute_qc_stats_ray pid=2101406)\u001b[0m 2022-09-14 22:13:31,172 cisTopic     INFO     Returning plot data\n",
      "\u001b[2m\u001b[36m(compute_qc_stats_ray pid=2101406)\u001b[0m 2022-09-14 22:13:31,259 cisTopic     INFO     Returning valid barcodes\n"
     ]
    },
    {
     "name": "stdout",
     "output_type": "stream",
     "text": [
      "\u001b[2m\u001b[36m(compute_qc_stats_ray pid=2101407)\u001b[0m 2022-09-14 22:13:48,461 cisTopic     INFO     Return plot data\n"
     ]
    },
    {
     "name": "stdout",
     "output_type": "stream",
     "text": [
      "\u001b[2m\u001b[36m(compute_qc_stats_ray pid=2101407)\u001b[0m 2022-09-14 22:13:49,752 cisTopic     INFO     Computing insert size distribution for BRO_mtscatac_1.20k\n",
      "\u001b[2m\u001b[36m(compute_qc_stats_ray pid=2101407)\u001b[0m 2022-09-14 22:13:49,752 cisTopic     INFO     Counting fragments\n"
     ]
    },
    {
     "name": "stdout",
     "output_type": "stream",
     "text": [
      "\u001b[2m\u001b[36m(compute_qc_stats_ray pid=2101401)\u001b[0m 2022-09-14 22:13:52,729 cisTopic     INFO     Computing duplicate rate plot for CNA_10xmultiome_1.20k\n"
     ]
    },
    {
     "name": "stdout",
     "output_type": "stream",
     "text": [
      "\u001b[2m\u001b[36m(compute_qc_stats_ray pid=2101407)\u001b[0m 2022-09-14 22:14:00,852 cisTopic     INFO     Returning plot data\n"
     ]
    },
    {
     "name": "stdout",
     "output_type": "stream",
     "text": [
      "\u001b[2m\u001b[36m(compute_qc_stats_ray pid=2101406)\u001b[0m 2022-09-14 22:14:01,298 cisTopic     INFO     Computing duplicate rate plot for CNA_10xmultiome_2.20k\n"
     ]
    },
    {
     "name": "stdout",
     "output_type": "stream",
     "text": [
      "\u001b[2m\u001b[36m(compute_qc_stats_ray pid=2101410)\u001b[0m 2022-09-14 22:14:08,402 cisTopic     INFO     Return plot data\n"
     ]
    },
    {
     "name": "stdout",
     "output_type": "stream",
     "text": [
      "\u001b[2m\u001b[36m(compute_qc_stats_ray pid=2101410)\u001b[0m 2022-09-14 22:14:09,753 cisTopic     INFO     Computing insert size distribution for VIB_10xv1_1.20k\n",
      "\u001b[2m\u001b[36m(compute_qc_stats_ray pid=2101410)\u001b[0m 2022-09-14 22:14:09,753 cisTopic     INFO     Counting fragments\n"
     ]
    },
    {
     "name": "stdout",
     "output_type": "stream",
     "text": [
      "\u001b[2m\u001b[36m(compute_qc_stats_ray pid=2101410)\u001b[0m 2022-09-14 22:14:21,110 cisTopic     INFO     Returning plot data\n"
     ]
    },
    {
     "name": "stdout",
     "output_type": "stream",
     "text": [
      "\u001b[2m\u001b[36m(compute_qc_stats_ray pid=2101401)\u001b[0m 2022-09-14 22:14:44,663 cisTopic     INFO     Return plot data\n"
     ]
    },
    {
     "name": "stdout",
     "output_type": "stream",
     "text": [
      "\u001b[2m\u001b[36m(compute_qc_stats_ray pid=2101401)\u001b[0m 2022-09-14 22:14:46,053 cisTopic     INFO     Computing insert size distribution for CNA_10xmultiome_1.20k\n",
      "\u001b[2m\u001b[36m(compute_qc_stats_ray pid=2101401)\u001b[0m 2022-09-14 22:14:46,053 cisTopic     INFO     Counting fragments\n"
     ]
    },
    {
     "name": "stdout",
     "output_type": "stream",
     "text": [
      "\u001b[2m\u001b[36m(compute_qc_stats_ray pid=2101406)\u001b[0m 2022-09-14 22:14:53,648 cisTopic     INFO     Return plot data\n"
     ]
    },
    {
     "name": "stdout",
     "output_type": "stream",
     "text": [
      "\u001b[2m\u001b[36m(compute_qc_stats_ray pid=2101406)\u001b[0m 2022-09-14 22:14:54,922 cisTopic     INFO     Computing insert size distribution for CNA_10xmultiome_2.20k\n",
      "\u001b[2m\u001b[36m(compute_qc_stats_ray pid=2101406)\u001b[0m 2022-09-14 22:14:54,922 cisTopic     INFO     Counting fragments\n"
     ]
    },
    {
     "name": "stdout",
     "output_type": "stream",
     "text": [
      "\u001b[2m\u001b[36m(compute_qc_stats_ray pid=2101401)\u001b[0m 2022-09-14 22:14:58,107 cisTopic     INFO     Returning plot data\n"
     ]
    },
    {
     "name": "stdout",
     "output_type": "stream",
     "text": [
      "\u001b[2m\u001b[36m(compute_qc_stats_ray pid=2101406)\u001b[0m 2022-09-14 22:15:07,310 cisTopic     INFO     Returning plot data\n"
     ]
    },
    {
     "name": "stdout",
     "output_type": "stream",
     "text": [
      "\u001b[2m\u001b[36m(compute_qc_stats_ray pid=2101402)\u001b[0m 2022-09-14 22:15:11,301 cisTopic     INFO     Computing barcode rank plot for SAN_10xmultiome_1.20k\n",
      "\u001b[2m\u001b[36m(compute_qc_stats_ray pid=2101402)\u001b[0m 2022-09-14 22:15:11,301 cisTopic     INFO     Counting fragments\n"
     ]
    },
    {
     "name": "stdout",
     "output_type": "stream",
     "text": [
      "\u001b[2m\u001b[36m(compute_qc_stats_ray pid=2101404)\u001b[0m 2022-09-14 22:15:29,686 cisTopic     INFO     Coverage matrix done\n"
     ]
    },
    {
     "name": "stdout",
     "output_type": "stream",
     "text": [
      "\u001b[2m\u001b[36m(compute_qc_stats_ray pid=2101402)\u001b[0m 2022-09-14 22:15:47,855 cisTopic     INFO     Marking barcodes with more than 10\n"
     ]
    },
    {
     "name": "stdout",
     "output_type": "stream",
     "text": [
      "\u001b[2m\u001b[36m(compute_qc_stats_ray pid=2101402)\u001b[0m 2022-09-14 22:15:49,124 cisTopic     INFO     Returning plot data\n",
      "\u001b[2m\u001b[36m(compute_qc_stats_ray pid=2101402)\u001b[0m 2022-09-14 22:15:49,221 cisTopic     INFO     Returning valid barcodes\n"
     ]
    },
    {
     "name": "stdout",
     "output_type": "stream",
     "text": [
      "\u001b[2m\u001b[36m(compute_qc_stats_ray pid=2101408)\u001b[0m 2022-09-14 22:15:51,735 cisTopic     INFO     Returning normalized TSS coverage matrix per barcode\n",
      "\u001b[2m\u001b[36m(compute_qc_stats_ray pid=2101394)\u001b[0m 2022-09-14 22:15:51,867 cisTopic     INFO     Computing TSS profile for CNA_10xv11_2.20k\n"
     ]
    },
    {
     "name": "stdout",
     "output_type": "stream",
     "text": [
      "\u001b[2m\u001b[36m(compute_qc_stats_ray pid=2101399)\u001b[0m 2022-09-14 22:16:12,586 cisTopic     INFO     Coverage matrix done\n"
     ]
    },
    {
     "name": "stdout",
     "output_type": "stream",
     "text": [
      "\u001b[2m\u001b[36m(compute_qc_stats_ray pid=2101402)\u001b[0m 2022-09-14 22:16:24,004 cisTopic     INFO     Computing duplicate rate plot for SAN_10xmultiome_1.20k\n"
     ]
    },
    {
     "name": "stdout",
     "output_type": "stream",
     "text": [
      "\u001b[2m\u001b[36m(compute_qc_stats_ray pid=2101394)\u001b[0m 2022-09-14 22:16:37,780 cisTopic     INFO     Formatting annnotation\n"
     ]
    },
    {
     "name": "stdout",
     "output_type": "stream",
     "text": [
      "\u001b[2m\u001b[36m(compute_qc_stats_ray pid=2101394)\u001b[0m 2022-09-14 22:16:38,837 cisTopic     INFO     Creating coverage matrix\n"
     ]
    },
    {
     "name": "stdout",
     "output_type": "stream",
     "text": [
      "\u001b[2m\u001b[36m(compute_qc_stats_ray pid=2101400)\u001b[0m 2022-09-14 22:16:42,719 cisTopic     INFO     Coverage matrix done\n"
     ]
    },
    {
     "name": "stdout",
     "output_type": "stream",
     "text": [
      "\u001b[2m\u001b[36m(compute_qc_stats_ray pid=2101405)\u001b[0m 2022-09-14 22:17:02,007 cisTopic     INFO     Coverage matrix done\n"
     ]
    },
    {
     "name": "stdout",
     "output_type": "stream",
     "text": [
      "\u001b[2m\u001b[36m(compute_qc_stats_ray pid=2101402)\u001b[0m 2022-09-14 22:17:26,971 cisTopic     INFO     Return plot data\n"
     ]
    },
    {
     "name": "stdout",
     "output_type": "stream",
     "text": [
      "\u001b[2m\u001b[36m(compute_qc_stats_ray pid=2101402)\u001b[0m 2022-09-14 22:17:28,285 cisTopic     INFO     Computing insert size distribution for SAN_10xmultiome_1.20k\n",
      "\u001b[2m\u001b[36m(compute_qc_stats_ray pid=2101402)\u001b[0m 2022-09-14 22:17:28,285 cisTopic     INFO     Counting fragments\n"
     ]
    },
    {
     "name": "stdout",
     "output_type": "stream",
     "text": [
      "\u001b[2m\u001b[36m(compute_qc_stats_ray pid=2101407)\u001b[0m 2022-09-14 22:17:43,307 cisTopic     INFO     Computing TSS profile for BRO_mtscatac_1.20k\n",
      "\u001b[2m\u001b[36m(compute_qc_stats_ray pid=2101402)\u001b[0m 2022-09-14 22:17:43,271 cisTopic     INFO     Returning plot data\n"
     ]
    },
    {
     "name": "stdout",
     "output_type": "stream",
     "text": [
      "\u001b[2m\u001b[36m(compute_qc_stats_ray pid=2101410)\u001b[0m 2022-09-14 22:18:04,752 cisTopic     INFO     Computing TSS profile for VIB_10xv1_1.20k\n"
     ]
    },
    {
     "name": "stdout",
     "output_type": "stream",
     "text": [
      "\u001b[2m\u001b[36m(compute_qc_stats_ray pid=2101407)\u001b[0m 2022-09-14 22:18:28,952 cisTopic     INFO     Formatting annnotation\n"
     ]
    },
    {
     "name": "stdout",
     "output_type": "stream",
     "text": [
      "\u001b[2m\u001b[36m(compute_qc_stats_ray pid=2101407)\u001b[0m 2022-09-14 22:18:29,954 cisTopic     INFO     Creating coverage matrix\n"
     ]
    },
    {
     "name": "stdout",
     "output_type": "stream",
     "text": [
      "\u001b[2m\u001b[36m(compute_qc_stats_ray pid=2101408)\u001b[0m 2022-09-14 22:18:40,777 cisTopic     INFO     Returning normalized sample TSS enrichment data\n"
     ]
    },
    {
     "name": "stdout",
     "output_type": "stream",
     "text": [
      "\u001b[2m\u001b[36m(compute_qc_stats_ray pid=2101408)\u001b[0m 2022-09-14 22:18:42,125 cisTopic     INFO     Computing FRIP profile for STA_10xv11_1.20k\n"
     ]
    },
    {
     "name": "stdout",
     "output_type": "stream",
     "text": [
      "\u001b[2m\u001b[36m(compute_qc_stats_ray pid=2101408)\u001b[0m 2022-09-14 22:18:49,059 cisTopic     INFO     Counting fragments\n"
     ]
    },
    {
     "name": "stdout",
     "output_type": "stream",
     "text": [
      "\u001b[2m\u001b[36m(compute_qc_stats_ray pid=2101401)\u001b[0m 2022-09-14 22:18:53,703 cisTopic     INFO     Computing TSS profile for CNA_10xmultiome_1.20k\n"
     ]
    },
    {
     "name": "stdout",
     "output_type": "stream",
     "text": [
      "\u001b[2m\u001b[36m(compute_qc_stats_ray pid=2101410)\u001b[0m 2022-09-14 22:18:59,844 cisTopic     INFO     Formatting annnotation\n"
     ]
    },
    {
     "name": "stdout",
     "output_type": "stream",
     "text": [
      "\u001b[2m\u001b[36m(compute_qc_stats_ray pid=2101410)\u001b[0m 2022-09-14 22:19:00,876 cisTopic     INFO     Creating coverage matrix\n"
     ]
    },
    {
     "name": "stdout",
     "output_type": "stream",
     "text": [
      "\u001b[2m\u001b[36m(compute_qc_stats_ray pid=2101408)\u001b[0m 2022-09-14 22:19:02,751 cisTopic     INFO     Intersecting fragments with regions\n"
     ]
    },
    {
     "name": "stdout",
     "output_type": "stream",
     "text": [
      "\u001b[2m\u001b[36m(compute_qc_stats_ray pid=2101406)\u001b[0m 2022-09-14 22:19:08,755 cisTopic     INFO     Computing TSS profile for CNA_10xmultiome_2.20k\n"
     ]
    },
    {
     "name": "stdout",
     "output_type": "stream",
     "text": [
      "\u001b[2m\u001b[36m(compute_qc_stats_ray pid=2101408)\u001b[0m 2022-09-14 22:19:35,765 cisTopic     INFO     Sample STA_10xv11_1.20k done!\n"
     ]
    },
    {
     "name": "stdout",
     "output_type": "stream",
     "text": [
      "\u001b[2m\u001b[36m(compute_qc_stats_ray pid=2101401)\u001b[0m 2022-09-14 22:19:50,377 cisTopic     INFO     Formatting annnotation\n"
     ]
    },
    {
     "name": "stdout",
     "output_type": "stream",
     "text": [
      "\u001b[2m\u001b[36m(compute_qc_stats_ray pid=2101401)\u001b[0m 2022-09-14 22:19:51,338 cisTopic     INFO     Creating coverage matrix\n"
     ]
    },
    {
     "name": "stdout",
     "output_type": "stream",
     "text": [
      "\u001b[2m\u001b[36m(compute_qc_stats_ray pid=2101406)\u001b[0m 2022-09-14 22:20:07,241 cisTopic     INFO     Formatting annnotation\n"
     ]
    },
    {
     "name": "stdout",
     "output_type": "stream",
     "text": [
      "\u001b[2m\u001b[36m(compute_qc_stats_ray pid=2101406)\u001b[0m 2022-09-14 22:20:08,229 cisTopic     INFO     Creating coverage matrix\n"
     ]
    },
    {
     "name": "stdout",
     "output_type": "stream",
     "text": [
      "\u001b[2m\u001b[36m(compute_qc_stats_ray pid=2101398)\u001b[0m 2022-09-14 22:21:45,894 cisTopic     INFO     Computing barcode rank plot for BIO_ddseq_1.20k\n",
      "\u001b[2m\u001b[36m(compute_qc_stats_ray pid=2101398)\u001b[0m 2022-09-14 22:21:45,894 cisTopic     INFO     Counting fragments\n"
     ]
    },
    {
     "name": "stdout",
     "output_type": "stream",
     "text": [
      "\u001b[2m\u001b[36m(compute_qc_stats_ray pid=2101402)\u001b[0m 2022-09-14 22:22:30,726 cisTopic     INFO     Computing TSS profile for SAN_10xmultiome_1.20k\n"
     ]
    },
    {
     "name": "stdout",
     "output_type": "stream",
     "text": [
      "\u001b[2m\u001b[36m(compute_qc_stats_ray pid=2101400)\u001b[0m 2022-09-14 22:23:00,130 cisTopic     INFO     Returning normalized TSS coverage matrix per barcode\n"
     ]
    },
    {
     "name": "stdout",
     "output_type": "stream",
     "text": [
      "\u001b[2m\u001b[36m(compute_qc_stats_ray pid=2101402)\u001b[0m 2022-09-14 22:23:37,070 cisTopic     INFO     Formatting annnotation\n"
     ]
    },
    {
     "name": "stdout",
     "output_type": "stream",
     "text": [
      "\u001b[2m\u001b[36m(compute_qc_stats_ray pid=2101402)\u001b[0m 2022-09-14 22:23:37,987 cisTopic     INFO     Creating coverage matrix\n"
     ]
    },
    {
     "name": "stdout",
     "output_type": "stream",
     "text": [
      "\u001b[2m\u001b[36m(compute_qc_stats_ray pid=2101398)\u001b[0m 2022-09-14 22:23:43,589 cisTopic     INFO     Marking barcodes with more than 10\n"
     ]
    },
    {
     "name": "stdout",
     "output_type": "stream",
     "text": [
      "\u001b[2m\u001b[36m(compute_qc_stats_ray pid=2101398)\u001b[0m 2022-09-14 22:23:49,700 cisTopic     INFO     Returning plot data\n"
     ]
    },
    {
     "name": "stdout",
     "output_type": "stream",
     "text": [
      "\u001b[2m\u001b[36m(compute_qc_stats_ray pid=2101398)\u001b[0m 2022-09-14 22:23:49,887 cisTopic     INFO     Returning valid barcodes\n"
     ]
    },
    {
     "name": "stdout",
     "output_type": "stream",
     "text": [
      "\u001b[2m\u001b[36m(compute_qc_stats_ray pid=2101395)\u001b[0m 2022-09-14 22:24:08,713 cisTopic     INFO     Computing barcode rank plot for UCS_ddseq_1.20k\n",
      "\u001b[2m\u001b[36m(compute_qc_stats_ray pid=2101395)\u001b[0m 2022-09-14 22:24:08,713 cisTopic     INFO     Counting fragments\n"
     ]
    },
    {
     "name": "stdout",
     "output_type": "stream",
     "text": [
      "\u001b[2m\u001b[36m(compute_qc_stats_ray pid=2101398)\u001b[0m 2022-09-14 22:24:27,509 cisTopic     INFO     Computing duplicate rate plot for BIO_ddseq_1.20k\n"
     ]
    },
    {
     "name": "stdout",
     "output_type": "stream",
     "text": [
      "\u001b[2m\u001b[36m(compute_qc_stats_ray pid=2101394)\u001b[0m 2022-09-14 22:24:37,730 cisTopic     INFO     Coverage matrix done\n"
     ]
    },
    {
     "name": "stdout",
     "output_type": "stream",
     "text": [
      "\u001b[2m\u001b[36m(compute_qc_stats_ray pid=2101395)\u001b[0m 2022-09-14 22:25:49,387 cisTopic     INFO     Marking barcodes with more than 10\n"
     ]
    },
    {
     "name": "stdout",
     "output_type": "stream",
     "text": [
      "\u001b[2m\u001b[36m(compute_qc_stats_ray pid=2101403)\u001b[0m 2022-09-14 22:25:50,343 cisTopic     INFO     Coverage matrix done\n"
     ]
    },
    {
     "name": "stdout",
     "output_type": "stream",
     "text": [
      "\u001b[2m\u001b[36m(compute_qc_stats_ray pid=2101395)\u001b[0m 2022-09-14 22:25:54,492 cisTopic     INFO     Returning plot data\n",
      "\u001b[2m\u001b[36m(compute_qc_stats_ray pid=2101395)\u001b[0m 2022-09-14 22:25:54,568 cisTopic     INFO     Returning valid barcodes\n"
     ]
    },
    {
     "name": "stdout",
     "output_type": "stream",
     "text": [
      "\u001b[2m\u001b[36m(compute_qc_stats_ray pid=2101395)\u001b[0m 2022-09-14 22:26:42,100 cisTopic     INFO     Computing duplicate rate plot for UCS_ddseq_1.20k\n"
     ]
    },
    {
     "name": "stdout",
     "output_type": "stream",
     "text": [
      "\u001b[2m\u001b[36m(compute_qc_stats_ray pid=2101400)\u001b[0m 2022-09-14 22:27:21,031 cisTopic     INFO     Returning normalized sample TSS enrichment data\n"
     ]
    },
    {
     "name": "stdout",
     "output_type": "stream",
     "text": [
      "\u001b[2m\u001b[36m(compute_qc_stats_ray pid=2101400)\u001b[0m 2022-09-14 22:27:22,253 cisTopic     INFO     Computing FRIP profile for STA_10xv11_2.20k\n"
     ]
    },
    {
     "name": "stdout",
     "output_type": "stream",
     "text": [
      "\u001b[2m\u001b[36m(compute_qc_stats_ray pid=2101400)\u001b[0m 2022-09-14 22:27:30,916 cisTopic     INFO     Counting fragments\n"
     ]
    },
    {
     "name": "stdout",
     "output_type": "stream",
     "text": [
      "\u001b[2m\u001b[36m(compute_qc_stats_ray pid=2101400)\u001b[0m 2022-09-14 22:27:50,263 cisTopic     INFO     Intersecting fragments with regions\n"
     ]
    },
    {
     "name": "stdout",
     "output_type": "stream",
     "text": [
      "\u001b[2m\u001b[36m(compute_qc_stats_ray pid=2101398)\u001b[0m 2022-09-14 22:28:03,538 cisTopic     INFO     Return plot data\n"
     ]
    },
    {
     "name": "stdout",
     "output_type": "stream",
     "text": [
      "\u001b[2m\u001b[36m(compute_qc_stats_ray pid=2101398)\u001b[0m 2022-09-14 22:28:05,096 cisTopic     INFO     Computing insert size distribution for BIO_ddseq_1.20k\n",
      "\u001b[2m\u001b[36m(compute_qc_stats_ray pid=2101398)\u001b[0m 2022-09-14 22:28:05,096 cisTopic     INFO     Counting fragments\n"
     ]
    },
    {
     "name": "stdout",
     "output_type": "stream",
     "text": [
      "\u001b[2m\u001b[36m(compute_qc_stats_ray pid=2101398)\u001b[0m 2022-09-14 22:28:19,486 cisTopic     INFO     Returning plot data\n"
     ]
    },
    {
     "name": "stdout",
     "output_type": "stream",
     "text": [
      "\u001b[2m\u001b[36m(compute_qc_stats_ray pid=2101400)\u001b[0m 2022-09-14 22:28:36,230 cisTopic     INFO     Sample STA_10xv11_2.20k done!\n"
     ]
    },
    {
     "name": "stdout",
     "output_type": "stream",
     "text": [
      "\u001b[2m\u001b[36m(compute_qc_stats_ray pid=2101410)\u001b[0m 2022-09-14 22:28:43,317 cisTopic     INFO     Coverage matrix done\n"
     ]
    },
    {
     "name": "stdout",
     "output_type": "stream",
     "text": [
      "\u001b[2m\u001b[36m(compute_qc_stats_ray pid=2101407)\u001b[0m 2022-09-14 22:29:18,952 cisTopic     INFO     Coverage matrix done\n"
     ]
    },
    {
     "name": "stdout",
     "output_type": "stream",
     "text": [
      "\u001b[2m\u001b[36m(compute_qc_stats_ray pid=2101396)\u001b[0m 2022-09-14 22:29:43,131 cisTopic     INFO     Computing barcode rank plot for TXG_10xv2_2.20k\n",
      "\u001b[2m\u001b[36m(compute_qc_stats_ray pid=2101396)\u001b[0m 2022-09-14 22:29:43,131 cisTopic     INFO     Counting fragments\n"
     ]
    },
    {
     "name": "stdout",
     "output_type": "stream",
     "text": [
      "\u001b[2m\u001b[36m(compute_qc_stats_ray pid=2101395)\u001b[0m 2022-09-14 22:29:50,455 cisTopic     INFO     Return plot data\n"
     ]
    },
    {
     "name": "stdout",
     "output_type": "stream",
     "text": [
      "\u001b[2m\u001b[36m(compute_qc_stats_ray pid=2101395)\u001b[0m 2022-09-14 22:29:51,748 cisTopic     INFO     Computing insert size distribution for UCS_ddseq_1.20k\n",
      "\u001b[2m\u001b[36m(compute_qc_stats_ray pid=2101395)\u001b[0m 2022-09-14 22:29:51,748 cisTopic     INFO     Counting fragments\n"
     ]
    },
    {
     "name": "stdout",
     "output_type": "stream",
     "text": [
      "\u001b[2m\u001b[36m(compute_qc_stats_ray pid=2101395)\u001b[0m 2022-09-14 22:30:06,819 cisTopic     INFO     Returning plot data\n"
     ]
    },
    {
     "name": "stdout",
     "output_type": "stream",
     "text": [
      "\u001b[2m\u001b[36m(compute_qc_stats_ray pid=2101409)\u001b[0m 2022-09-14 22:30:24,370 cisTopic     INFO     Computing barcode rank plot for VIB_10xv1_2.20k\n",
      "\u001b[2m\u001b[36m(compute_qc_stats_ray pid=2101409)\u001b[0m 2022-09-14 22:30:24,370 cisTopic     INFO     Counting fragments\n"
     ]
    },
    {
     "name": "stdout",
     "output_type": "stream",
     "text": [
      "\u001b[2m\u001b[36m(compute_qc_stats_ray pid=2101406)\u001b[0m 2022-09-14 22:30:27,154 cisTopic     INFO     Coverage matrix done\n"
     ]
    },
    {
     "name": "stdout",
     "output_type": "stream",
     "text": [
      "\u001b[2m\u001b[36m(compute_qc_stats_ray pid=2101396)\u001b[0m 2022-09-14 22:30:50,836 cisTopic     INFO     Marking barcodes with more than 10\n"
     ]
    },
    {
     "name": "stdout",
     "output_type": "stream",
     "text": [
      "\u001b[2m\u001b[36m(compute_qc_stats_ray pid=2101396)\u001b[0m 2022-09-14 22:30:52,144 cisTopic     INFO     Returning plot data\n",
      "\u001b[2m\u001b[36m(compute_qc_stats_ray pid=2101396)\u001b[0m 2022-09-14 22:30:52,296 cisTopic     INFO     Returning valid barcodes\n"
     ]
    },
    {
     "name": "stdout",
     "output_type": "stream",
     "text": [
      "\u001b[2m\u001b[36m(compute_qc_stats_ray pid=2101401)\u001b[0m 2022-09-14 22:31:24,847 cisTopic     INFO     Coverage matrix done\n"
     ]
    },
    {
     "name": "stdout",
     "output_type": "stream",
     "text": [
      "\u001b[2m\u001b[36m(compute_qc_stats_ray pid=2101409)\u001b[0m 2022-09-14 22:31:32,267 cisTopic     INFO     Marking barcodes with more than 10\n"
     ]
    },
    {
     "name": "stdout",
     "output_type": "stream",
     "text": [
      "\u001b[2m\u001b[36m(compute_qc_stats_ray pid=2101409)\u001b[0m 2022-09-14 22:31:33,619 cisTopic     INFO     Returning plot data\n",
      "\u001b[2m\u001b[36m(compute_qc_stats_ray pid=2101409)\u001b[0m 2022-09-14 22:31:33,691 cisTopic     INFO     Returning valid barcodes\n"
     ]
    },
    {
     "name": "stdout",
     "output_type": "stream",
     "text": [
      "\u001b[2m\u001b[36m(compute_qc_stats_ray pid=2101396)\u001b[0m 2022-09-14 22:32:01,897 cisTopic     INFO     Computing duplicate rate plot for TXG_10xv2_2.20k\n"
     ]
    },
    {
     "name": "stdout",
     "output_type": "stream",
     "text": [
      "\u001b[2m\u001b[36m(compute_qc_stats_ray pid=2101398)\u001b[0m 2022-09-14 22:32:37,772 cisTopic     INFO     Computing TSS profile for BIO_ddseq_1.20k\n"
     ]
    },
    {
     "name": "stdout",
     "output_type": "stream",
     "text": [
      "\u001b[2m\u001b[36m(compute_qc_stats_ray pid=2101409)\u001b[0m 2022-09-14 22:32:46,209 cisTopic     INFO     Computing duplicate rate plot for VIB_10xv1_2.20k\n"
     ]
    },
    {
     "name": "stdout",
     "output_type": "stream",
     "text": [
      "\u001b[2m\u001b[36m(compute_qc_stats_ray pid=2101404)\u001b[0m 2022-09-14 22:32:51,564 cisTopic     INFO     Returning normalized TSS coverage matrix per barcode\n"
     ]
    },
    {
     "name": "stdout",
     "output_type": "stream",
     "text": [
      "\u001b[2m\u001b[36m(compute_qc_stats_ray pid=2101396)\u001b[0m 2022-09-14 22:33:49,755 cisTopic     INFO     Return plot data\n"
     ]
    },
    {
     "name": "stdout",
     "output_type": "stream",
     "text": [
      "\u001b[2m\u001b[36m(compute_qc_stats_ray pid=2101396)\u001b[0m 2022-09-14 22:33:51,003 cisTopic     INFO     Computing insert size distribution for TXG_10xv2_2.20k\n",
      "\u001b[2m\u001b[36m(compute_qc_stats_ray pid=2101396)\u001b[0m 2022-09-14 22:33:51,003 cisTopic     INFO     Counting fragments\n"
     ]
    },
    {
     "name": "stdout",
     "output_type": "stream",
     "text": [
      "\u001b[2m\u001b[36m(compute_qc_stats_ray pid=2101394)\u001b[0m 2022-09-14 22:33:53,999 cisTopic     INFO     Returning normalized TSS coverage matrix per barcode\n"
     ]
    },
    {
     "name": "stdout",
     "output_type": "stream",
     "text": [
      "\u001b[2m\u001b[36m(compute_qc_stats_ray pid=2101396)\u001b[0m 2022-09-14 22:34:20,799 cisTopic     INFO     Returning plot data\n"
     ]
    },
    {
     "name": "stdout",
     "output_type": "stream",
     "text": [
      "\u001b[2m\u001b[36m(compute_qc_stats_ray pid=2101409)\u001b[0m 2022-09-14 22:34:36,333 cisTopic     INFO     Return plot data\n",
      "\u001b[2m\u001b[36m(compute_qc_stats_ray pid=2101398)\u001b[0m 2022-09-14 22:34:36,442 cisTopic     INFO     Formatting annnotation\n"
     ]
    },
    {
     "name": "stdout",
     "output_type": "stream",
     "text": [
      "\u001b[2m\u001b[36m(compute_qc_stats_ray pid=2101398)\u001b[0m 2022-09-14 22:34:37,342 cisTopic     INFO     Creating coverage matrix\n"
     ]
    },
    {
     "name": "stdout",
     "output_type": "stream",
     "text": [
      "\u001b[2m\u001b[36m(compute_qc_stats_ray pid=2101409)\u001b[0m 2022-09-14 22:34:37,514 cisTopic     INFO     Computing insert size distribution for VIB_10xv1_2.20k\n",
      "\u001b[2m\u001b[36m(compute_qc_stats_ray pid=2101409)\u001b[0m 2022-09-14 22:34:37,515 cisTopic     INFO     Counting fragments\n"
     ]
    },
    {
     "name": "stdout",
     "output_type": "stream",
     "text": [
      "\u001b[2m\u001b[36m(compute_qc_stats_ray pid=2101407)\u001b[0m 2022-09-14 22:34:58,305 cisTopic     INFO     Returning normalized TSS coverage matrix per barcode\n"
     ]
    },
    {
     "name": "stdout",
     "output_type": "stream",
     "text": [
      "\u001b[2m\u001b[36m(compute_qc_stats_ray pid=2101409)\u001b[0m 2022-09-14 22:35:05,573 cisTopic     INFO     Returning plot data\n"
     ]
    },
    {
     "name": "stdout",
     "output_type": "stream",
     "text": [
      "\u001b[2m\u001b[36m(compute_qc_stats_ray pid=2101395)\u001b[0m 2022-09-14 22:35:18,950 cisTopic     INFO     Computing TSS profile for UCS_ddseq_1.20k\n"
     ]
    },
    {
     "name": "stdout",
     "output_type": "stream",
     "text": [
      "\u001b[2m\u001b[36m(compute_qc_stats_ray pid=2101399)\u001b[0m 2022-09-14 22:36:16,096 cisTopic     INFO     Returning normalized TSS coverage matrix per barcode\n"
     ]
    },
    {
     "name": "stdout",
     "output_type": "stream",
     "text": [
      "\u001b[2m\u001b[36m(compute_qc_stats_ray pid=2101402)\u001b[0m 2022-09-14 22:36:42,065 cisTopic     INFO     Coverage matrix done\n"
     ]
    },
    {
     "name": "stdout",
     "output_type": "stream",
     "text": [
      "\u001b[2m\u001b[36m(compute_qc_stats_ray pid=2101395)\u001b[0m 2022-09-14 22:37:28,429 cisTopic     INFO     Formatting annnotation\n"
     ]
    },
    {
     "name": "stdout",
     "output_type": "stream",
     "text": [
      "\u001b[2m\u001b[36m(compute_qc_stats_ray pid=2101395)\u001b[0m 2022-09-14 22:37:29,346 cisTopic     INFO     Creating coverage matrix\n"
     ]
    },
    {
     "name": "stdout",
     "output_type": "stream",
     "text": [
      "\u001b[2m\u001b[36m(compute_qc_stats_ray pid=2101405)\u001b[0m 2022-09-14 22:37:39,224 cisTopic     INFO     Returning normalized TSS coverage matrix per barcode\n"
     ]
    },
    {
     "name": "stdout",
     "output_type": "stream",
     "text": [
      "\u001b[2m\u001b[36m(compute_qc_stats_ray pid=2101410)\u001b[0m 2022-09-14 22:38:45,814 cisTopic     INFO     Returning normalized TSS coverage matrix per barcode\n"
     ]
    },
    {
     "name": "stdout",
     "output_type": "stream",
     "text": [
      "\u001b[2m\u001b[36m(compute_qc_stats_ray pid=2101407)\u001b[0m 2022-09-14 22:38:57,474 cisTopic     INFO     Returning normalized sample TSS enrichment data\n"
     ]
    },
    {
     "name": "stdout",
     "output_type": "stream",
     "text": [
      "\u001b[2m\u001b[36m(compute_qc_stats_ray pid=2101407)\u001b[0m 2022-09-14 22:38:58,703 cisTopic     INFO     Computing FRIP profile for BRO_mtscatac_1.20k\n"
     ]
    },
    {
     "name": "stdout",
     "output_type": "stream",
     "text": [
      "\u001b[2m\u001b[36m(compute_qc_stats_ray pid=2101407)\u001b[0m 2022-09-14 22:39:08,537 cisTopic     INFO     Counting fragments\n"
     ]
    },
    {
     "name": "stdout",
     "output_type": "stream",
     "text": [
      "\u001b[2m\u001b[36m(compute_qc_stats_ray pid=2101407)\u001b[0m 2022-09-14 22:39:44,227 cisTopic     INFO     Intersecting fragments with regions\n"
     ]
    },
    {
     "name": "stdout",
     "output_type": "stream",
     "text": [
      "\u001b[2m\u001b[36m(compute_qc_stats_ray pid=2101394)\u001b[0m 2022-09-14 22:40:10,002 cisTopic     INFO     Returning normalized sample TSS enrichment data\n"
     ]
    },
    {
     "name": "stdout",
     "output_type": "stream",
     "text": [
      "\u001b[2m\u001b[36m(compute_qc_stats_ray pid=2101394)\u001b[0m 2022-09-14 22:40:11,231 cisTopic     INFO     Computing FRIP profile for CNA_10xv11_2.20k\n"
     ]
    },
    {
     "name": "stdout",
     "output_type": "stream",
     "text": [
      "\u001b[2m\u001b[36m(compute_qc_stats_ray pid=2101394)\u001b[0m 2022-09-14 22:40:19,719 cisTopic     INFO     Counting fragments\n"
     ]
    },
    {
     "name": "stdout",
     "output_type": "stream",
     "text": [
      "\u001b[2m\u001b[36m(compute_qc_stats_ray pid=2101394)\u001b[0m 2022-09-14 22:40:48,366 cisTopic     INFO     Intersecting fragments with regions\n"
     ]
    },
    {
     "name": "stdout",
     "output_type": "stream",
     "text": [
      "\u001b[2m\u001b[36m(compute_qc_stats_ray pid=2101406)\u001b[0m 2022-09-14 22:41:47,041 cisTopic     INFO     Returning normalized TSS coverage matrix per barcode\n"
     ]
    },
    {
     "name": "stdout",
     "output_type": "stream",
     "text": [
      "\u001b[2m\u001b[36m(compute_qc_stats_ray pid=2101401)\u001b[0m 2022-09-14 22:42:11,825 cisTopic     INFO     Returning normalized TSS coverage matrix per barcode\n"
     ]
    },
    {
     "name": "stdout",
     "output_type": "stream",
     "text": [
      "\u001b[2m\u001b[36m(compute_qc_stats_ray pid=2101394)\u001b[0m 2022-09-14 22:42:13,951 cisTopic     INFO     Sample CNA_10xv11_2.20k done!\n"
     ]
    },
    {
     "name": "stdout",
     "output_type": "stream",
     "text": [
      "\u001b[2m\u001b[36m(compute_qc_stats_ray pid=2101407)\u001b[0m 2022-09-14 22:42:15,712 cisTopic     INFO     Sample BRO_mtscatac_1.20k done!\n"
     ]
    },
    {
     "name": "stdout",
     "output_type": "stream",
     "text": [
      "\u001b[2m\u001b[36m(compute_qc_stats_ray pid=2101404)\u001b[0m 2022-09-14 22:43:47,121 cisTopic     INFO     Returning normalized sample TSS enrichment data\n"
     ]
    },
    {
     "name": "stdout",
     "output_type": "stream",
     "text": [
      "\u001b[2m\u001b[36m(compute_qc_stats_ray pid=2101404)\u001b[0m 2022-09-14 22:43:48,193 cisTopic     INFO     Computing FRIP profile for VIB_hydrop_12.20k\n"
     ]
    },
    {
     "name": "stdout",
     "output_type": "stream",
     "text": [
      "\u001b[2m\u001b[36m(compute_qc_stats_ray pid=2101404)\u001b[0m 2022-09-14 22:43:52,505 cisTopic     INFO     Counting fragments\n"
     ]
    },
    {
     "name": "stdout",
     "output_type": "stream",
     "text": [
      "\u001b[2m\u001b[36m(compute_qc_stats_ray pid=2101404)\u001b[0m 2022-09-14 22:44:00,550 cisTopic     INFO     Intersecting fragments with regions\n"
     ]
    },
    {
     "name": "stdout",
     "output_type": "stream",
     "text": [
      "\u001b[2m\u001b[36m(compute_qc_stats_ray pid=2101396)\u001b[0m 2022-09-14 22:44:17,751 cisTopic     INFO     Computing TSS profile for TXG_10xv2_2.20k\n"
     ]
    },
    {
     "name": "stdout",
     "output_type": "stream",
     "text": [
      "\u001b[2m\u001b[36m(compute_qc_stats_ray pid=2101404)\u001b[0m 2022-09-14 22:44:33,032 cisTopic     INFO     Sample VIB_hydrop_12.20k done!\n"
     ]
    },
    {
     "name": "stdout",
     "output_type": "stream",
     "text": [
      "\u001b[2m\u001b[36m(compute_qc_stats_ray pid=2101409)\u001b[0m 2022-09-14 22:44:39,784 cisTopic     INFO     Computing TSS profile for VIB_10xv1_2.20k\n"
     ]
    },
    {
     "name": "stdout",
     "output_type": "stream",
     "text": [
      "\u001b[2m\u001b[36m(compute_qc_stats_ray pid=2101403)\u001b[0m 2022-09-14 22:44:54,571 cisTopic     INFO     Returning normalized TSS coverage matrix per barcode\n"
     ]
    },
    {
     "name": "stdout",
     "output_type": "stream",
     "text": [
      "\u001b[2m\u001b[36m(compute_qc_stats_ray pid=2101410)\u001b[0m 2022-09-14 22:45:16,151 cisTopic     INFO     Returning normalized sample TSS enrichment data\n"
     ]
    },
    {
     "name": "stdout",
     "output_type": "stream",
     "text": [
      "\u001b[2m\u001b[36m(compute_qc_stats_ray pid=2101410)\u001b[0m 2022-09-14 22:45:17,101 cisTopic     INFO     Computing FRIP profile for VIB_10xv1_1.20k\n"
     ]
    },
    {
     "name": "stdout",
     "output_type": "stream",
     "text": [
      "\u001b[2m\u001b[36m(compute_qc_stats_ray pid=2101410)\u001b[0m 2022-09-14 22:45:22,915 cisTopic     INFO     Counting fragments\n"
     ]
    },
    {
     "name": "stdout",
     "output_type": "stream",
     "text": [
      "\u001b[2m\u001b[36m(compute_qc_stats_ray pid=2101410)\u001b[0m 2022-09-14 22:45:50,122 cisTopic     INFO     Intersecting fragments with regions\n"
     ]
    },
    {
     "name": "stdout",
     "output_type": "stream",
     "text": [
      "\u001b[2m\u001b[36m(compute_qc_stats_ray pid=2101396)\u001b[0m 2022-09-14 22:46:05,720 cisTopic     INFO     Formatting annnotation\n",
      "\u001b[2m\u001b[36m(compute_qc_stats_ray pid=2101402)\u001b[0m 2022-09-14 22:46:05,860 cisTopic     INFO     Returning normalized TSS coverage matrix per barcode\n"
     ]
    },
    {
     "name": "stdout",
     "output_type": "stream",
     "text": [
      "\u001b[2m\u001b[36m(compute_qc_stats_ray pid=2101396)\u001b[0m 2022-09-14 22:46:06,419 cisTopic     INFO     Creating coverage matrix\n"
     ]
    },
    {
     "name": "stdout",
     "output_type": "stream",
     "text": [
      "\u001b[2m\u001b[36m(compute_qc_stats_ray pid=2101409)\u001b[0m 2022-09-14 22:47:01,931 cisTopic     INFO     Formatting annnotation\n"
     ]
    },
    {
     "name": "stdout",
     "output_type": "stream",
     "text": [
      "\u001b[2m\u001b[36m(compute_qc_stats_ray pid=2101409)\u001b[0m 2022-09-14 22:47:02,574 cisTopic     INFO     Creating coverage matrix\n"
     ]
    },
    {
     "name": "stdout",
     "output_type": "stream",
     "text": [
      "\u001b[2m\u001b[36m(compute_qc_stats_ray pid=2101410)\u001b[0m 2022-09-14 22:47:03,929 cisTopic     INFO     Sample VIB_10xv1_1.20k done!\n"
     ]
    },
    {
     "name": "stdout",
     "output_type": "stream",
     "text": [
      "\u001b[2m\u001b[36m(compute_qc_stats_ray pid=2101399)\u001b[0m 2022-09-14 22:47:54,984 cisTopic     INFO     Returning normalized sample TSS enrichment data\n"
     ]
    },
    {
     "name": "stdout",
     "output_type": "stream",
     "text": [
      "\u001b[2m\u001b[36m(compute_qc_stats_ray pid=2101399)\u001b[0m 2022-09-14 22:47:55,870 cisTopic     INFO     Computing FRIP profile for CNA_hydrop_3.20k\n"
     ]
    },
    {
     "name": "stdout",
     "output_type": "stream",
     "text": [
      "\u001b[2m\u001b[36m(compute_qc_stats_ray pid=2101399)\u001b[0m 2022-09-14 22:47:58,736 cisTopic     INFO     Counting fragments\n"
     ]
    },
    {
     "name": "stdout",
     "output_type": "stream",
     "text": [
      "\u001b[2m\u001b[36m(compute_qc_stats_ray pid=2101399)\u001b[0m 2022-09-14 22:48:07,902 cisTopic     INFO     Intersecting fragments with regions\n"
     ]
    },
    {
     "name": "stdout",
     "output_type": "stream",
     "text": [
      "\u001b[2m\u001b[36m(compute_qc_stats_ray pid=2101406)\u001b[0m 2022-09-14 22:48:14,485 cisTopic     INFO     Returning normalized sample TSS enrichment data\n"
     ]
    },
    {
     "name": "stdout",
     "output_type": "stream",
     "text": [
      "\u001b[2m\u001b[36m(compute_qc_stats_ray pid=2101406)\u001b[0m 2022-09-14 22:48:15,323 cisTopic     INFO     Computing FRIP profile for CNA_10xmultiome_2.20k\n"
     ]
    },
    {
     "name": "stdout",
     "output_type": "stream",
     "text": [
      "\u001b[2m\u001b[36m(compute_qc_stats_ray pid=2101401)\u001b[0m 2022-09-14 22:48:15,891 cisTopic     INFO     Returning normalized sample TSS enrichment data\n"
     ]
    },
    {
     "name": "stdout",
     "output_type": "stream",
     "text": [
      "\u001b[2m\u001b[36m(compute_qc_stats_ray pid=2101401)\u001b[0m 2022-09-14 22:48:16,799 cisTopic     INFO     Computing FRIP profile for CNA_10xmultiome_1.20k\n"
     ]
    },
    {
     "name": "stdout",
     "output_type": "stream",
     "text": [
      "\u001b[2m\u001b[36m(compute_qc_stats_ray pid=2101406)\u001b[0m 2022-09-14 22:48:20,773 cisTopic     INFO     Counting fragments\n"
     ]
    },
    {
     "name": "stdout",
     "output_type": "stream",
     "text": [
      "\u001b[2m\u001b[36m(compute_qc_stats_ray pid=2101401)\u001b[0m 2022-09-14 22:48:22,465 cisTopic     INFO     Counting fragments\n"
     ]
    },
    {
     "name": "stdout",
     "output_type": "stream",
     "text": [
      "\u001b[2m\u001b[36m(compute_qc_stats_ray pid=2101399)\u001b[0m 2022-09-14 22:48:27,783 cisTopic     INFO     Sample CNA_hydrop_3.20k done!\n"
     ]
    },
    {
     "name": "stdout",
     "output_type": "stream",
     "text": [
      "\u001b[2m\u001b[36m(compute_qc_stats_ray pid=2101406)\u001b[0m 2022-09-14 22:48:46,419 cisTopic     INFO     Intersecting fragments with regions\n"
     ]
    },
    {
     "name": "stdout",
     "output_type": "stream",
     "text": [
      "\u001b[2m\u001b[36m(compute_qc_stats_ray pid=2101401)\u001b[0m 2022-09-14 22:48:48,280 cisTopic     INFO     Intersecting fragments with regions\n"
     ]
    },
    {
     "name": "stdout",
     "output_type": "stream",
     "text": [
      "\u001b[2m\u001b[36m(compute_qc_stats_ray pid=2101405)\u001b[0m 2022-09-14 22:49:15,036 cisTopic     INFO     Returning normalized sample TSS enrichment data\n"
     ]
    },
    {
     "name": "stdout",
     "output_type": "stream",
     "text": [
      "\u001b[2m\u001b[36m(compute_qc_stats_ray pid=2101405)\u001b[0m 2022-09-14 22:49:15,814 cisTopic     INFO     Computing FRIP profile for CNA_hydrop_1.20k\n"
     ]
    },
    {
     "name": "stdout",
     "output_type": "stream",
     "text": [
      "\u001b[2m\u001b[36m(compute_qc_stats_ray pid=2101405)\u001b[0m 2022-09-14 22:49:18,680 cisTopic     INFO     Counting fragments\n"
     ]
    },
    {
     "name": "stdout",
     "output_type": "stream",
     "text": [
      "\u001b[2m\u001b[36m(compute_qc_stats_ray pid=2101405)\u001b[0m 2022-09-14 22:49:27,111 cisTopic     INFO     Intersecting fragments with regions\n"
     ]
    },
    {
     "name": "stdout",
     "output_type": "stream",
     "text": [
      "\u001b[2m\u001b[36m(compute_qc_stats_ray pid=2101405)\u001b[0m 2022-09-14 22:49:46,434 cisTopic     INFO     Sample CNA_hydrop_1.20k done!\n"
     ]
    },
    {
     "name": "stdout",
     "output_type": "stream",
     "text": [
      "\u001b[2m\u001b[36m(compute_qc_stats_ray pid=2101406)\u001b[0m 2022-09-14 22:49:55,529 cisTopic     INFO     Sample CNA_10xmultiome_2.20k done!\n"
     ]
    },
    {
     "name": "stdout",
     "output_type": "stream",
     "text": [
      "\u001b[2m\u001b[36m(compute_qc_stats_ray pid=2101401)\u001b[0m 2022-09-14 22:50:06,690 cisTopic     INFO     Sample CNA_10xmultiome_1.20k done!\n"
     ]
    },
    {
     "name": "stdout",
     "output_type": "stream",
     "text": [
      "\u001b[2m\u001b[36m(compute_qc_stats_ray pid=2101402)\u001b[0m 2022-09-14 22:50:45,489 cisTopic     INFO     Returning normalized sample TSS enrichment data\n"
     ]
    },
    {
     "name": "stdout",
     "output_type": "stream",
     "text": [
      "\u001b[2m\u001b[36m(compute_qc_stats_ray pid=2101402)\u001b[0m 2022-09-14 22:50:46,001 cisTopic     INFO     Computing FRIP profile for SAN_10xmultiome_1.20k\n"
     ]
    },
    {
     "name": "stdout",
     "output_type": "stream",
     "text": [
      "\u001b[2m\u001b[36m(compute_qc_stats_ray pid=2101402)\u001b[0m 2022-09-14 22:50:50,727 cisTopic     INFO     Counting fragments\n"
     ]
    },
    {
     "name": "stdout",
     "output_type": "stream",
     "text": [
      "\u001b[2m\u001b[36m(compute_qc_stats_ray pid=2101402)\u001b[0m 2022-09-14 22:51:11,764 cisTopic     INFO     Intersecting fragments with regions\n"
     ]
    },
    {
     "name": "stdout",
     "output_type": "stream",
     "text": [
      "\u001b[2m\u001b[36m(compute_qc_stats_ray pid=2101395)\u001b[0m 2022-09-14 22:51:22,316 cisTopic     INFO     Coverage matrix done\n"
     ]
    },
    {
     "name": "stdout",
     "output_type": "stream",
     "text": [
      "\u001b[2m\u001b[36m(compute_qc_stats_ray pid=2101402)\u001b[0m 2022-09-14 22:52:18,798 cisTopic     INFO     Sample SAN_10xmultiome_1.20k done!\n"
     ]
    },
    {
     "name": "stdout",
     "output_type": "stream",
     "text": [
      "\u001b[2m\u001b[36m(compute_qc_stats_ray pid=2101398)\u001b[0m 2022-09-14 22:52:23,018 cisTopic     INFO     Coverage matrix done\n"
     ]
    },
    {
     "name": "stdout",
     "output_type": "stream",
     "text": [
      "\u001b[2m\u001b[36m(compute_qc_stats_ray pid=2101403)\u001b[0m 2022-09-14 22:52:49,464 cisTopic     INFO     Returning normalized sample TSS enrichment data\n"
     ]
    },
    {
     "name": "stdout",
     "output_type": "stream",
     "text": [
      "\u001b[2m\u001b[36m(compute_qc_stats_ray pid=2101403)\u001b[0m 2022-09-14 22:52:49,945 cisTopic     INFO     Computing FRIP profile for EPF_hydrop_1.20k\n"
     ]
    },
    {
     "name": "stdout",
     "output_type": "stream",
     "text": [
      "\u001b[2m\u001b[36m(compute_qc_stats_ray pid=2101403)\u001b[0m 2022-09-14 22:52:52,213 cisTopic     INFO     Counting fragments\n"
     ]
    },
    {
     "name": "stdout",
     "output_type": "stream",
     "text": [
      "\u001b[2m\u001b[36m(compute_qc_stats_ray pid=2101403)\u001b[0m 2022-09-14 22:52:57,816 cisTopic     INFO     Intersecting fragments with regions\n"
     ]
    },
    {
     "name": "stdout",
     "output_type": "stream",
     "text": [
      "\u001b[2m\u001b[36m(compute_qc_stats_ray pid=2101403)\u001b[0m 2022-09-14 22:53:22,955 cisTopic     INFO     Sample EPF_hydrop_1.20k done!\n"
     ]
    },
    {
     "name": "stdout",
     "output_type": "stream",
     "text": [
      "\u001b[2m\u001b[36m(compute_qc_stats_ray pid=2101395)\u001b[0m 2022-09-14 22:55:41,592 cisTopic     INFO     Returning normalized TSS coverage matrix per barcode\n"
     ]
    },
    {
     "name": "stdout",
     "output_type": "stream",
     "text": [
      "\u001b[2m\u001b[36m(compute_qc_stats_ray pid=2101409)\u001b[0m 2022-09-14 22:57:49,641 cisTopic     INFO     Coverage matrix done\n"
     ]
    },
    {
     "name": "stdout",
     "output_type": "stream",
     "text": [
      "\u001b[2m\u001b[36m(compute_qc_stats_ray pid=2101398)\u001b[0m 2022-09-14 22:58:07,952 cisTopic     INFO     Returning normalized TSS coverage matrix per barcode\n"
     ]
    },
    {
     "name": "stdout",
     "output_type": "stream",
     "text": [
      "\u001b[2m\u001b[36m(compute_qc_stats_ray pid=2101395)\u001b[0m 2022-09-14 22:58:10,598 cisTopic     INFO     Returning normalized sample TSS enrichment data\n"
     ]
    },
    {
     "name": "stdout",
     "output_type": "stream",
     "text": [
      "\u001b[2m\u001b[36m(compute_qc_stats_ray pid=2101395)\u001b[0m 2022-09-14 22:58:10,930 cisTopic     INFO     Computing FRIP profile for UCS_ddseq_1.20k\n"
     ]
    },
    {
     "name": "stdout",
     "output_type": "stream",
     "text": [
      "\u001b[2m\u001b[36m(compute_qc_stats_ray pid=2101395)\u001b[0m 2022-09-14 22:58:13,068 cisTopic     INFO     Counting fragments\n"
     ]
    },
    {
     "name": "stdout",
     "output_type": "stream",
     "text": [
      "\u001b[2m\u001b[36m(compute_qc_stats_ray pid=2101395)\u001b[0m 2022-09-14 22:58:38,869 cisTopic     INFO     Intersecting fragments with regions\n"
     ]
    },
    {
     "name": "stdout",
     "output_type": "stream",
     "text": [
      "\u001b[2m\u001b[36m(compute_qc_stats_ray pid=2101395)\u001b[0m 2022-09-14 22:59:39,476 cisTopic     INFO     Sample UCS_ddseq_1.20k done!\n"
     ]
    },
    {
     "name": "stdout",
     "output_type": "stream",
     "text": [
      "\u001b[2m\u001b[36m(compute_qc_stats_ray pid=2101396)\u001b[0m 2022-09-14 23:00:56,636 cisTopic     INFO     Coverage matrix done\n"
     ]
    },
    {
     "name": "stdout",
     "output_type": "stream",
     "text": [
      "\u001b[2m\u001b[36m(compute_qc_stats_ray pid=2101409)\u001b[0m 2022-09-14 23:01:07,311 cisTopic     INFO     Returning normalized TSS coverage matrix per barcode\n"
     ]
    },
    {
     "name": "stdout",
     "output_type": "stream",
     "text": [
      "\u001b[2m\u001b[36m(compute_qc_stats_ray pid=2101398)\u001b[0m 2022-09-14 23:01:14,118 cisTopic     INFO     Returning normalized sample TSS enrichment data\n"
     ]
    },
    {
     "name": "stdout",
     "output_type": "stream",
     "text": [
      "\u001b[2m\u001b[36m(compute_qc_stats_ray pid=2101398)\u001b[0m 2022-09-14 23:01:14,387 cisTopic     INFO     Computing FRIP profile for BIO_ddseq_1.20k\n"
     ]
    },
    {
     "name": "stdout",
     "output_type": "stream",
     "text": [
      "\u001b[2m\u001b[36m(compute_qc_stats_ray pid=2101398)\u001b[0m 2022-09-14 23:01:15,630 cisTopic     INFO     Counting fragments\n"
     ]
    },
    {
     "name": "stdout",
     "output_type": "stream",
     "text": [
      "\u001b[2m\u001b[36m(compute_qc_stats_ray pid=2101398)\u001b[0m 2022-09-14 23:01:32,057 cisTopic     INFO     Intersecting fragments with regions\n"
     ]
    },
    {
     "name": "stdout",
     "output_type": "stream",
     "text": [
      "\u001b[2m\u001b[36m(compute_qc_stats_ray pid=2101398)\u001b[0m 2022-09-14 23:02:21,140 cisTopic     INFO     Sample BIO_ddseq_1.20k done!\n"
     ]
    },
    {
     "name": "stdout",
     "output_type": "stream",
     "text": [
      "\u001b[2m\u001b[36m(compute_qc_stats_ray pid=2101409)\u001b[0m 2022-09-14 23:02:49,564 cisTopic     INFO     Returning normalized sample TSS enrichment data\n"
     ]
    },
    {
     "name": "stdout",
     "output_type": "stream",
     "text": [
      "\u001b[2m\u001b[36m(compute_qc_stats_ray pid=2101409)\u001b[0m 2022-09-14 23:02:49,730 cisTopic     INFO     Computing FRIP profile for VIB_10xv1_2.20k\n"
     ]
    },
    {
     "name": "stdout",
     "output_type": "stream",
     "text": [
      "\u001b[2m\u001b[36m(compute_qc_stats_ray pid=2101409)\u001b[0m 2022-09-14 23:02:51,038 cisTopic     INFO     Counting fragments\n"
     ]
    },
    {
     "name": "stdout",
     "output_type": "stream",
     "text": [
      "\u001b[2m\u001b[36m(compute_qc_stats_ray pid=2101409)\u001b[0m 2022-09-14 23:03:04,910 cisTopic     INFO     Intersecting fragments with regions\n"
     ]
    },
    {
     "name": "stdout",
     "output_type": "stream",
     "text": [
      "\u001b[2m\u001b[36m(compute_qc_stats_ray pid=2101409)\u001b[0m 2022-09-14 23:03:40,410 cisTopic     INFO     Sample VIB_10xv1_2.20k done!\n"
     ]
    },
    {
     "name": "stdout",
     "output_type": "stream",
     "text": [
      "\u001b[2m\u001b[36m(compute_qc_stats_ray pid=2101396)\u001b[0m 2022-09-14 23:03:46,886 cisTopic     INFO     Returning normalized TSS coverage matrix per barcode\n"
     ]
    },
    {
     "name": "stdout",
     "output_type": "stream",
     "text": [
      "\u001b[2m\u001b[36m(compute_qc_stats_ray pid=2101396)\u001b[0m 2022-09-14 23:04:32,327 cisTopic     INFO     Returning normalized sample TSS enrichment data\n",
      "\u001b[2m\u001b[36m(compute_qc_stats_ray pid=2101396)\u001b[0m 2022-09-14 23:04:32,417 cisTopic     INFO     Computing FRIP profile for TXG_10xv2_2.20k\n"
     ]
    },
    {
     "name": "stdout",
     "output_type": "stream",
     "text": [
      "\u001b[2m\u001b[36m(compute_qc_stats_ray pid=2101396)\u001b[0m 2022-09-14 23:04:33,408 cisTopic     INFO     Counting fragments\n"
     ]
    },
    {
     "name": "stdout",
     "output_type": "stream",
     "text": [
      "\u001b[2m\u001b[36m(compute_qc_stats_ray pid=2101396)\u001b[0m 2022-09-14 23:04:39,921 cisTopic     INFO     Intersecting fragments with regions\n"
     ]
    },
    {
     "name": "stdout",
     "output_type": "stream",
     "text": [
      "\u001b[2m\u001b[36m(compute_qc_stats_ray pid=2101396)\u001b[0m 2022-09-14 23:05:20,054 cisTopic     INFO     Sample TXG_10xv2_2.20k done!\n"
     ]
    },
    {
     "name": "stdout",
     "output_type": "stream",
     "text": [
      "Dumping files in /dodrio/scratch/projects/starting_2022_023/benchmark/scatac_benchmark/downsample_series/20k/cistopic_qc_out_CONSENSUS...\n"
     ]
    },
    {
     "name": "stdout",
     "output_type": "stream",
     "text": [
      "2022-09-14 23:06:33,706 cisTopic     INFO     n_cpu is larger than the number of samples. Setting n_cpu to the number of samples\n"
     ]
    },
    {
     "name": "stdout",
     "output_type": "stream",
     "text": [
      "2022-09-14 23:06:33,709 cisTopic     INFO     Reading TXG_10xv2_1.20k\n"
     ]
    },
    {
     "name": "stdout",
     "output_type": "stream",
     "text": [
      "2022-09-14 23:07:52,853 cisTopic     INFO     Computing barcode rank plot for TXG_10xv2_1.20k\n"
     ]
    },
    {
     "name": "stdout",
     "output_type": "stream",
     "text": [
      "2022-09-14 23:07:52,854 cisTopic     INFO     Counting fragments\n"
     ]
    },
    {
     "name": "stdout",
     "output_type": "stream",
     "text": [
      "2022-09-14 23:07:56,689 cisTopic     INFO     Marking barcodes with more than 10\n"
     ]
    },
    {
     "name": "stdout",
     "output_type": "stream",
     "text": [
      "2022-09-14 23:07:56,768 cisTopic     INFO     Returning plot data\n"
     ]
    },
    {
     "name": "stdout",
     "output_type": "stream",
     "text": [
      "2022-09-14 23:07:56,778 cisTopic     INFO     Returning valid barcodes\n"
     ]
    },
    {
     "name": "stdout",
     "output_type": "stream",
     "text": [
      "2022-09-14 23:08:00,903 cisTopic     INFO     Computing duplicate rate plot for TXG_10xv2_1.20k\n"
     ]
    },
    {
     "name": "stdout",
     "output_type": "stream",
     "text": [
      "2022-09-14 23:08:06,911 cisTopic     INFO     Return plot data\n"
     ]
    },
    {
     "name": "stdout",
     "output_type": "stream",
     "text": [
      "2022-09-14 23:08:07,002 cisTopic     INFO     Computing insert size distribution for TXG_10xv2_1.20k\n"
     ]
    },
    {
     "name": "stdout",
     "output_type": "stream",
     "text": [
      "2022-09-14 23:08:07,002 cisTopic     INFO     Counting fragments\n"
     ]
    },
    {
     "name": "stdout",
     "output_type": "stream",
     "text": [
      "2022-09-14 23:08:08,834 cisTopic     INFO     Returning plot data\n"
     ]
    },
    {
     "name": "stdout",
     "output_type": "stream",
     "text": [
      "2022-09-14 23:08:46,509 cisTopic     INFO     Computing TSS profile for TXG_10xv2_1.20k\n"
     ]
    },
    {
     "name": "stdout",
     "output_type": "stream",
     "text": [
      "2022-09-14 23:08:53,346 cisTopic     INFO     Formatting annnotation\n"
     ]
    },
    {
     "name": "stdout",
     "output_type": "stream",
     "text": [
      "2022-09-14 23:08:53,400 cisTopic     INFO     Creating coverage matrix\n"
     ]
    },
    {
     "name": "stdout",
     "output_type": "stream",
     "text": [
      "2022-09-14 23:11:13,751 cisTopic     INFO     Coverage matrix done\n"
     ]
    },
    {
     "name": "stdout",
     "output_type": "stream",
     "text": [
      "2022-09-14 23:12:12,994 cisTopic     INFO     Returning normalized TSS coverage matrix per barcode\n"
     ]
    },
    {
     "name": "stdout",
     "output_type": "stream",
     "text": [
      "2022-09-14 23:12:53,525 cisTopic     INFO     Returning normalized sample TSS enrichment data\n"
     ]
    },
    {
     "name": "stdout",
     "output_type": "stream",
     "text": [
      "2022-09-14 23:12:53,620 cisTopic     INFO     Computing FRIP profile for TXG_10xv2_1.20k\n"
     ]
    },
    {
     "name": "stdout",
     "output_type": "stream",
     "text": [
      "2022-09-14 23:12:54,656 cisTopic     INFO     Counting fragments\n"
     ]
    },
    {
     "name": "stdout",
     "output_type": "stream",
     "text": [
      "2022-09-14 23:13:00,405 cisTopic     INFO     Intersecting fragments with regions\n"
     ]
    },
    {
     "name": "stdout",
     "output_type": "stream",
     "text": [
      "2022-09-14 23:13:35,043 cisTopic     INFO     Sample TXG_10xv2_1.20k done!\n"
     ]
    },
    {
     "name": "stdout",
     "output_type": "stream",
     "text": [
      "Dumping files in /dodrio/scratch/projects/starting_2022_023/benchmark/scatac_benchmark/downsample_series/20k/cistopic_qc_out_CONSENSUS...\n"
     ]
    }
   ],
   "source": [
    "n_cores = 16\n",
    "if regions_sub_dict != {}:\n",
    "    samples_sub = list(regions_sub_dict.keys())\n",
    "    blocks = [samples_sub[i : i + n_cores] for i in range(0, len(samples_sub), n_cores)]\n",
    "    for samples_torun_in_block in blocks:\n",
    "        fragments_sub_dict_block = {\n",
    "            key: fragments_sub_dict[key] for key in samples_torun_in_block\n",
    "        }\n",
    "        regions_sub_dict_block = {\n",
    "            key: regions_sub_dict[key] for key in samples_torun_in_block\n",
    "        }\n",
    "\n",
    "        metadata_bc_dict, profile_data_dict = compute_qc_stats(\n",
    "            fragments_dict=fragments_sub_dict_block,\n",
    "            tss_annotation=annotation,\n",
    "            stats=[\n",
    "                \"barcode_rank_plot\",\n",
    "                \"duplicate_rate\",\n",
    "                \"insert_size_distribution\",\n",
    "                \"profile_tss\",\n",
    "                \"frip\",\n",
    "            ],\n",
    "            label_list=None,\n",
    "            path_to_regions=regions_sub_dict_block,\n",
    "            n_cpu=n_cores,\n",
    "            valid_bc=None,\n",
    "            n_frag=10,\n",
    "            n_bc=None,\n",
    "            tss_flank_window=2000,\n",
    "            tss_window=50,\n",
    "            tss_minimum_signal_window=100,\n",
    "            tss_rolling_window=10,\n",
    "            # min_norm=0.2,\n",
    "            remove_duplicates=True,\n",
    "        )\n",
    "\n",
    "        ray.shutdown()\n",
    "        print(f\"Dumping files in {cistopic_qc_out}...\")\n",
    "        for sample in sorted(metadata_bc_dict.keys()):\n",
    "            metadata_bc_dict[sample][\"sample_id\"] = sample\n",
    "            metadata_bc_dict[sample].index = [\n",
    "                x + \"___\" + sample for x in list(metadata_bc_dict[sample].index)\n",
    "            ]\n",
    "            with open(\n",
    "                os.path.join(cistopic_qc_out, f\"{sample}__metadata_bc.pkl\"), \"wb\"\n",
    "            ) as f:\n",
    "                pickle.dump(metadata_bc_dict[sample], f, protocol=4)\n",
    "\n",
    "            with open(\n",
    "                os.path.join(cistopic_qc_out, f\"{sample}__profile_data.pkl\"), \"wb\"\n",
    "            ) as f:\n",
    "                pickle.dump(profile_data_dict[sample], f, protocol=4)\n",
    "else:\n",
    "    print(\"All samples already processed.\")"
   ]
  },
  {
   "cell_type": "markdown",
   "id": "1a1ad8e2",
   "metadata": {
    "papermill": {
     "duration": 0.036729,
     "end_time": "2022-09-14T23:13:44.093037",
     "exception": false,
     "start_time": "2022-09-14T23:13:44.056308",
     "status": "completed"
    },
    "tags": []
   },
   "source": [
    "# Plot"
   ]
  },
  {
   "cell_type": "markdown",
   "id": "76d9a6eb-c74e-41bb-b05b-0c2c36a0a2f9",
   "metadata": {
    "papermill": {
     "duration": 0.035635,
     "end_time": "2022-09-14T23:13:44.165097",
     "exception": false,
     "start_time": "2022-09-14T23:13:44.129462",
     "status": "completed"
    },
    "tags": []
   },
   "source": [
    "Calculating a KDE is simultaneously expensive and scales poorly with increasing n. Therefore, I wrote a multithreaded script that divides the QC array into equal parts (interleaved to avoid biases in the order!) and performs a KDE calculation on each part. Here, Otsu thresholding is used to find the right threshold for minimum fragments and minimum TSS enrichment. ddseq samples have a significantly higher noise floor than the other samples when it comes to fragment distribution. Therefore, the otsu algorithm is performed on all barcodes with a minimum of 300 fragments for the ddseq samples, and a minimum of 100 fragments for all the other samples. I tried to perform this filtering completely independent of sample/technique (e.g. using gaussian mixture modeling, Jenks natural breaks, or multiple step Otsu thresholding) but found that no solution worked perfectly for all samples."
   ]
  },
  {
   "cell_type": "markdown",
   "id": "0332bf6a-0bd8-41d2-9f12-634b2249af11",
   "metadata": {
    "papermill": {
     "duration": 0.035842,
     "end_time": "2022-09-14T23:13:44.236776",
     "exception": false,
     "start_time": "2022-09-14T23:13:44.200934",
     "status": "completed"
    },
    "tags": []
   },
   "source": [
    "This is regulated by the code below in qc_plots.py:\n",
    "```\n",
    "min_otsu_frags_dict = {}\n",
    "for fragments_file in fragments_list:\n",
    "    sample = fragments_file.split(\"/\")[-1].split(\".\")[0]\n",
    "    tech = sample.split('_')[1]\n",
    "    if tech == \"ddseq\":\n",
    "        if sample == \"BIO_ddseq_1\":\n",
    "            min_otsu_frags_dict[sample] = 600\n",
    "        else:\n",
    "            min_otsu_frags_dict[sample] = 300\n",
    "    elif tech == \"hydrop\":\n",
    "        min_otsu_frags_dict[sample] = 300\n",
    "    else:\n",
    "        min_otsu_frags_dict[sample] = 100\n",
    "```"
   ]
  },
  {
   "cell_type": "code",
   "execution_count": 20,
   "id": "0b8bcb35-3db0-4d9c-96d0-c73d04a0d5cf",
   "metadata": {
    "collapsed": true,
    "execution": {
     "iopub.execute_input": "2022-09-14T23:13:44.310616Z",
     "iopub.status.busy": "2022-09-14T23:13:44.310103Z",
     "iopub.status.idle": "2022-09-14T23:13:44.794731Z",
     "shell.execute_reply": "2022-09-14T23:13:44.793984Z"
    },
    "jupyter": {
     "outputs_hidden": true
    },
    "papermill": {
     "duration": 0.522535,
     "end_time": "2022-09-14T23:13:44.795800",
     "exception": false,
     "start_time": "2022-09-14T23:13:44.273265",
     "status": "completed"
    },
    "tags": []
   },
   "outputs": [
    {
     "name": "stdout",
     "output_type": "stream",
     "text": [
      "cat: ../0_resources/scripts/qc_plots.py: No such file or directory\r\n"
     ]
    }
   ],
   "source": [
    "!cat ../0_resources/scripts/qc_plots.py"
   ]
  },
  {
   "cell_type": "markdown",
   "id": "e4019bde",
   "metadata": {
    "execution": {
     "iopub.execute_input": "2022-07-15T09:42:06.802579Z",
     "iopub.status.busy": "2022-07-15T09:42:06.801860Z",
     "iopub.status.idle": "2022-07-15T09:42:06.814527Z",
     "shell.execute_reply": "2022-07-15T09:42:06.813708Z",
     "shell.execute_reply.started": "2022-07-15T09:42:06.802476Z"
    },
    "papermill": {
     "duration": 0.035873,
     "end_time": "2022-09-14T23:13:44.868139",
     "exception": false,
     "start_time": "2022-09-14T23:13:44.832266",
     "status": "completed"
    },
    "tags": []
   },
   "source": [
    "Since multiprocessing does not work with jupyter notebooks, run the following code in terminal:"
   ]
  },
  {
   "cell_type": "markdown",
   "id": "5d53e61b",
   "metadata": {
    "papermill": {
     "duration": 0.035592,
     "end_time": "2022-09-14T23:13:44.940159",
     "exception": false,
     "start_time": "2022-09-14T23:13:44.904567",
     "status": "completed"
    },
    "tags": []
   },
   "source": [
    "```\n",
    "mkdir plots_qc\n",
    "mkdir selected_barcodes\n",
    "SIF=../0_resources/cistopic_image/20220722_pycistopic.sif\n",
    "singularity exec \\\n",
    "    --cleanenv \\\n",
    "    -H $PWD:/home \\\n",
    "    $SIF \\\n",
    "    python ../0_resources/scripts/qc_plots.py\n",
    "```"
   ]
  },
  {
   "cell_type": "markdown",
   "id": "6de4c150-e92a-4060-b992-ae7babd1625a",
   "metadata": {
    "papermill": {
     "duration": 0.034632,
     "end_time": "2022-09-14T23:13:45.011498",
     "exception": false,
     "start_time": "2022-09-14T23:13:44.976866",
     "status": "completed"
    },
    "tags": []
   },
   "source": [
    "And then open the plots:"
   ]
  },
  {
   "cell_type": "code",
   "execution_count": 21,
   "id": "68739afd-bc2c-4fab-ad96-25edf95b163c",
   "metadata": {
    "execution": {
     "iopub.execute_input": "2022-09-14T23:13:45.083950Z",
     "iopub.status.busy": "2022-09-14T23:13:45.083640Z",
     "iopub.status.idle": "2022-09-14T23:13:45.092591Z",
     "shell.execute_reply": "2022-09-14T23:13:45.092067Z"
    },
    "papermill": {
     "duration": 0.046425,
     "end_time": "2022-09-14T23:13:45.093545",
     "exception": false,
     "start_time": "2022-09-14T23:13:45.047120",
     "status": "completed"
    },
    "tags": []
   },
   "outputs": [],
   "source": [
    "metadata_bc_pkl_list = sorted(glob.glob(\"cistopic_qc_out/*metadata_bc.pkl\"))\n",
    "metadata_bc_pkl_path_dict = {}\n",
    "for metadata_bc_pkl_path in metadata_bc_pkl_list:\n",
    "    sample = metadata_bc_pkl_path.split(\"/\")[-1].split(\"__\")[0]\n",
    "    metadata_bc_pkl_path_dict[sample] = metadata_bc_pkl_path\n",
    "\n",
    "for sample in metadata_bc_pkl_path_dict.keys():\n",
    "    if os.path.exists(f\"selected_barcodes/{sample}_bc_passing_filters_otsu.pkl\"):\n",
    "        print(f\"{sample} bc passing filters exists, printing img and skipping\")\n",
    "        display(Image(f\"plots_qc/{sample}_qc_otsu.png\"))\n",
    "    else:\n",
    "        print(\n",
    "            f\"{sample} bc passing filters does not exist yet, generate using qc_plots.py script!\"\n",
    "        )"
   ]
  },
  {
   "cell_type": "markdown",
   "id": "fa5a05ab-0ae5-4804-95d8-b280b86bbedf",
   "metadata": {
    "papermill": {
     "duration": 0.035074,
     "end_time": "2022-09-14T23:13:45.165121",
     "exception": false,
     "start_time": "2022-09-14T23:13:45.130047",
     "status": "completed"
    },
    "tags": []
   },
   "source": [
    "# Write raw barcode file"
   ]
  },
  {
   "cell_type": "markdown",
   "id": "ed437d13-e63c-4fd5-a19b-549c83c3c3f6",
   "metadata": {
    "papermill": {
     "duration": 0.035157,
     "end_time": "2022-09-14T23:13:45.236034",
     "exception": false,
     "start_time": "2022-09-14T23:13:45.200877",
     "status": "completed"
    },
    "tags": []
   },
   "source": [
    "Freemuxlet reads barcodes in the bam file. These barcodes (tag: DB) do not contain the `sample` suffix, which is included in the `*_bc_passing_filters_otsu.txt` files:"
   ]
  },
  {
   "cell_type": "code",
   "execution_count": 22,
   "id": "76c6ae6e-c050-4915-9477-1b567edff53e",
   "metadata": {
    "execution": {
     "iopub.execute_input": "2022-09-14T23:13:45.307525Z",
     "iopub.status.busy": "2022-09-14T23:13:45.307350Z",
     "iopub.status.idle": "2022-09-14T23:13:45.730040Z",
     "shell.execute_reply": "2022-09-14T23:13:45.729276Z"
    },
    "papermill": {
     "duration": 0.459563,
     "end_time": "2022-09-14T23:13:45.731329",
     "exception": false,
     "start_time": "2022-09-14T23:13:45.271766",
     "status": "completed"
    },
    "tags": []
   },
   "outputs": [
    {
     "name": "stdout",
     "output_type": "stream",
     "text": [
      "head: cannot open 'selected_barcodes/BIO_ddseq_1.LIBDS_bc_passing_filters_otsu.txt' for reading: No such file or directory\r\n"
     ]
    }
   ],
   "source": [
    "!head selected_barcodes/BIO_ddseq_1.LIBDS_bc_passing_filters_otsu.txt"
   ]
  },
  {
   "cell_type": "code",
   "execution_count": 23,
   "id": "df7588f2-5917-4e37-98cb-7fd0d2c83590",
   "metadata": {
    "execution": {
     "iopub.execute_input": "2022-09-14T23:13:45.804348Z",
     "iopub.status.busy": "2022-09-14T23:13:45.804092Z",
     "iopub.status.idle": "2022-09-14T23:13:45.812781Z",
     "shell.execute_reply": "2022-09-14T23:13:45.812227Z"
    },
    "papermill": {
     "duration": 0.04615,
     "end_time": "2022-09-14T23:13:45.813770",
     "exception": false,
     "start_time": "2022-09-14T23:13:45.767620",
     "status": "completed"
    },
    "tags": []
   },
   "outputs": [],
   "source": [
    "for file in glob.glob(\"selected_barcodes/*_bc_passing_filters_otsu.txt\"):\n",
    "    print(file)\n",
    "    sample = file.split(\"/\")[-1].split(\"_bc_passing_filters_otsu.txt\")[0]\n",
    "    print(sample)\n",
    "    df = pd.read_csv(file, header=None, index_col=None)\n",
    "\n",
    "    with open(f\"selected_barcodes/{sample}_bc_passing_filters_otsu.RAW.txt\", \"w\") as fp:\n",
    "        for x in df[0]:\n",
    "            # write each item on a new line\n",
    "            fp.write(x.split(\"___\")[0] + \"\\n\")\n",
    "        print(\"Done\")"
   ]
  },
  {
   "cell_type": "code",
   "execution_count": 24,
   "id": "83e00ebf-28af-4f4a-8f2f-d3c073179b2a",
   "metadata": {
    "execution": {
     "iopub.execute_input": "2022-09-14T23:13:45.886361Z",
     "iopub.status.busy": "2022-09-14T23:13:45.885961Z",
     "iopub.status.idle": "2022-09-14T23:13:46.237555Z",
     "shell.execute_reply": "2022-09-14T23:13:46.236807Z"
    },
    "papermill": {
     "duration": 0.388654,
     "end_time": "2022-09-14T23:13:46.239030",
     "exception": false,
     "start_time": "2022-09-14T23:13:45.850376",
     "status": "completed"
    },
    "tags": []
   },
   "outputs": [
    {
     "name": "stdout",
     "output_type": "stream",
     "text": [
      "head: cannot open 'selected_barcodes/BIO_ddseq_1.LIBDS_bc_passing_filters_otsu.RAW.txt' for reading: No such file or directory\r\n"
     ]
    }
   ],
   "source": [
    "!head selected_barcodes/BIO_ddseq_1.LIBDS_bc_passing_filters_otsu.RAW.txt"
   ]
  },
  {
   "cell_type": "code",
   "execution_count": null,
   "id": "1f42804d-a0dd-4797-8573-d1ac4de75f1b",
   "metadata": {
    "papermill": {
     "duration": 0.035534,
     "end_time": "2022-09-14T23:13:46.310657",
     "exception": false,
     "start_time": "2022-09-14T23:13:46.275123",
     "status": "completed"
    },
    "tags": []
   },
   "outputs": [],
   "source": []
  }
 ],
 "metadata": {
  "kernelspec": {
   "display_name": "20220815_pycistopic.sif",
   "language": "python",
   "name": "pycistopic_20220815"
  },
  "language_info": {
   "codemirror_mode": {
    "name": "ipython",
    "version": 3
   },
   "file_extension": ".py",
   "mimetype": "text/x-python",
   "name": "python",
   "nbconvert_exporter": "python",
   "pygments_lexer": "ipython3",
   "version": "3.8.13"
  },
  "papermill": {
   "default_parameters": {},
   "duration": 10635.190465,
   "end_time": "2022-09-14T23:13:49.425537",
   "environment_variables": {},
   "exception": null,
   "input_path": "2_run_qc_consensus.ipynb",
   "output_path": "2_run_qc_consensus.OUT.ipynb",
   "parameters": {},
   "start_time": "2022-09-14T20:16:34.235072",
   "version": "2.3.4"
  }
 },
 "nbformat": 4,
 "nbformat_minor": 5
}
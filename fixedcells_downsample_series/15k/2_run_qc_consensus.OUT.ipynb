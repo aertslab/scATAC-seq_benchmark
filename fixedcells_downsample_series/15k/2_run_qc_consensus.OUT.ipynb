{
 "cells": [
  {
   "cell_type": "code",
   "execution_count": 1,
   "id": "5c0cea95",
   "metadata": {
    "execution": {
     "iopub.execute_input": "2022-09-14T20:16:04.522400Z",
     "iopub.status.busy": "2022-09-14T20:16:04.521759Z",
     "iopub.status.idle": "2022-09-14T20:16:14.672493Z",
     "shell.execute_reply": "2022-09-14T20:16:14.671875Z"
    },
    "papermill": {
     "duration": 10.262987,
     "end_time": "2022-09-14T20:16:14.777397",
     "exception": false,
     "start_time": "2022-09-14T20:16:04.514410",
     "status": "completed"
    },
    "tags": []
   },
   "outputs": [],
   "source": [
    "import pycisTopic\n",
    "import glob\n",
    "import os\n",
    "import pybiomart as pbm\n",
    "import pandas as pd\n",
    "import pickle\n",
    "from pycisTopic.qc import *\n",
    "from IPython.display import Image, display\n",
    "import matplotlib.pyplot as plt\n",
    "import numpy as np\n",
    "import seaborn as sns\n",
    "\n",
    "import multiprocess as mp  # for kde multithreading calculation\n",
    "from multiprocess import Pool\n",
    "\n",
    "%matplotlib inline\n",
    "%load_ext lab_black"
   ]
  },
  {
   "cell_type": "markdown",
   "id": "7c7a43c8",
   "metadata": {
    "papermill": {
     "duration": 0.006365,
     "end_time": "2022-09-14T20:16:15.096931",
     "exception": false,
     "start_time": "2022-09-14T20:16:15.090566",
     "status": "completed"
    },
    "tags": []
   },
   "source": [
    "# Download annotation"
   ]
  },
  {
   "cell_type": "code",
   "execution_count": 2,
   "id": "8d799645-cbe0-43be-b2af-cb773840f783",
   "metadata": {
    "execution": {
     "iopub.execute_input": "2022-09-14T20:16:15.110312Z",
     "iopub.status.busy": "2022-09-14T20:16:15.109559Z",
     "iopub.status.idle": "2022-09-14T20:16:15.376122Z",
     "shell.execute_reply": "2022-09-14T20:16:15.375395Z"
    },
    "papermill": {
     "duration": 0.278176,
     "end_time": "2022-09-14T20:16:15.379984",
     "exception": false,
     "start_time": "2022-09-14T20:16:15.101808",
     "status": "completed"
    },
    "tags": []
   },
   "outputs": [
    {
     "name": "stdout",
     "output_type": "stream",
     "text": [
      "/dodrio/scratch/projects/starting_2022_023/benchmark/scatac_benchmark/downsample_series/15k\r\n"
     ]
    }
   ],
   "source": [
    "!pwd"
   ]
  },
  {
   "cell_type": "code",
   "execution_count": 3,
   "id": "1637befe-6dd6-4a77-b59e-1f696ba36b74",
   "metadata": {
    "execution": {
     "iopub.execute_input": "2022-09-14T20:16:15.426425Z",
     "iopub.status.busy": "2022-09-14T20:16:15.425141Z",
     "iopub.status.idle": "2022-09-14T20:16:15.432119Z",
     "shell.execute_reply": "2022-09-14T20:16:15.430938Z"
    },
    "papermill": {
     "duration": 0.036973,
     "end_time": "2022-09-14T20:16:15.441754",
     "exception": false,
     "start_time": "2022-09-14T20:16:15.404781",
     "status": "completed"
    },
    "tags": []
   },
   "outputs": [],
   "source": [
    "depth_str = os.getcwd().split(\"/\")[-1]"
   ]
  },
  {
   "cell_type": "code",
   "execution_count": 4,
   "id": "f587154d",
   "metadata": {
    "execution": {
     "iopub.execute_input": "2022-09-14T20:16:15.493968Z",
     "iopub.status.busy": "2022-09-14T20:16:15.493021Z",
     "iopub.status.idle": "2022-09-14T20:16:15.501469Z",
     "shell.execute_reply": "2022-09-14T20:16:15.500616Z"
    },
    "papermill": {
     "duration": 0.025746,
     "end_time": "2022-09-14T20:16:15.505816",
     "exception": false,
     "start_time": "2022-09-14T20:16:15.480070",
     "status": "completed"
    },
    "tags": []
   },
   "outputs": [],
   "source": [
    "wdir = f\"/dodrio/scratch/projects/starting_2022_023/benchmark/scatac_benchmark/downsample_series/{depth_str}\"\n",
    "os.chdir(wdir)"
   ]
  },
  {
   "cell_type": "code",
   "execution_count": 5,
   "id": "8abb4492",
   "metadata": {
    "execution": {
     "iopub.execute_input": "2022-09-14T20:16:15.530072Z",
     "iopub.status.busy": "2022-09-14T20:16:15.529651Z",
     "iopub.status.idle": "2022-09-14T20:16:15.648343Z",
     "shell.execute_reply": "2022-09-14T20:16:15.644391Z"
    },
    "papermill": {
     "duration": 0.132163,
     "end_time": "2022-09-14T20:16:15.649463",
     "exception": false,
     "start_time": "2022-09-14T20:16:15.517300",
     "status": "completed"
    },
    "tags": []
   },
   "outputs": [
    {
     "name": "stdout",
     "output_type": "stream",
     "text": [
      "Loading cached genome annotation...\n"
     ]
    }
   ],
   "source": [
    "genome = \"hg38\"\n",
    "\n",
    "pbm_genome_name_dict = {\n",
    "    \"hg38\": \"hsapiens_gene_ensembl\",\n",
    "    \"hg37\": \"hsapiens_gene_ensembl\",\n",
    "    \"mm10\": \"mmusculus_gene_ensembl\",\n",
    "    \"dm6\": \"dmelanogaster_gene_ensembl\",\n",
    "}\n",
    "\n",
    "pbm_host_dict = {\n",
    "    \"hg38\": \"http://www.ensembl.org\",\n",
    "    \"hg37\": \"http://grch37.ensembl.org/\",\n",
    "    \"mm10\": \"http://nov2020.archive.ensembl.org/\",\n",
    "    \"dm6\": \"http://www.ensembl.org\",\n",
    "}\n",
    "\n",
    "if os.path.exists(f\"../annotation.tsv\"):\n",
    "    print(f\"Loading cached genome annotation...\")\n",
    "    annotation = pd.read_csv(\"../annotation.tsv\", sep=\"\\t\", header=0, index_col=0)\n",
    "else:\n",
    "    dataset = pbm.Dataset(name=pbm_genome_name_dict[genome], host=pbm_host_dict[genome])\n",
    "\n",
    "    annotation = dataset.query(\n",
    "        attributes=[\n",
    "            \"chromosome_name\",\n",
    "            \"transcription_start_site\",\n",
    "            \"strand\",\n",
    "            \"external_gene_name\",\n",
    "            \"transcript_biotype\",\n",
    "        ]\n",
    "    )\n",
    "    filter = annotation[\"Chromosome/scaffold name\"].str.contains(\"CHR|GL|JH|MT\")\n",
    "    annotation = annotation[~filter]\n",
    "    annotation[\"Chromosome/scaffold name\"] = annotation[\n",
    "        \"Chromosome/scaffold name\"\n",
    "    ].str.replace(r\"(\\b\\S)\", r\"chr\\1\")\n",
    "    annotation.columns = [\"Chromosome\", \"Start\", \"Strand\", \"Gene\", \"Transcript_type\"]\n",
    "    annotation = annotation[annotation.Transcript_type == \"protein_coding\"]\n",
    "    annotation.to_csv(\"annotation.tsv\", sep=\"\\t\")"
   ]
  },
  {
   "cell_type": "code",
   "execution_count": 6,
   "id": "79a968e4",
   "metadata": {
    "execution": {
     "iopub.execute_input": "2022-09-14T20:16:15.665587Z",
     "iopub.status.busy": "2022-09-14T20:16:15.664688Z",
     "iopub.status.idle": "2022-09-14T20:16:15.685900Z",
     "shell.execute_reply": "2022-09-14T20:16:15.685289Z"
    },
    "papermill": {
     "duration": 0.032092,
     "end_time": "2022-09-14T20:16:15.687143",
     "exception": false,
     "start_time": "2022-09-14T20:16:15.655051",
     "status": "completed"
    },
    "tags": []
   },
   "outputs": [
    {
     "data": {
      "text/plain": [
       "{'BIO_ddseq_1.15k': '15k_preprocessing_out/data/fragments/BIO_ddseq_1.15k.fragments.tsv.gz',\n",
       " 'BIO_ddseq_2.15k': '15k_preprocessing_out/data/fragments/BIO_ddseq_2.15k.fragments.tsv.gz',\n",
       " 'BIO_ddseq_3.15k': '15k_preprocessing_out/data/fragments/BIO_ddseq_3.15k.fragments.tsv.gz',\n",
       " 'BIO_ddseq_4.15k': '15k_preprocessing_out/data/fragments/BIO_ddseq_4.15k.fragments.tsv.gz',\n",
       " 'BRO_mtscatac_1.15k': '15k_preprocessing_out/data/fragments/BRO_mtscatac_1.15k.fragments.tsv.gz',\n",
       " 'BRO_mtscatac_2.15k': '15k_preprocessing_out/data/fragments/BRO_mtscatac_2.15k.fragments.tsv.gz',\n",
       " 'CNA_10xmultiome_1.15k': '15k_preprocessing_out/data/fragments/CNA_10xmultiome_1.15k.fragments.tsv.gz',\n",
       " 'CNA_10xmultiome_2.15k': '15k_preprocessing_out/data/fragments/CNA_10xmultiome_2.15k.fragments.tsv.gz',\n",
       " 'CNA_10xv11_1.15k': '15k_preprocessing_out/data/fragments/CNA_10xv11_1.15k.fragments.tsv.gz',\n",
       " 'CNA_10xv11_2.15k': '15k_preprocessing_out/data/fragments/CNA_10xv11_2.15k.fragments.tsv.gz',\n",
       " 'CNA_10xv11_3.15k': '15k_preprocessing_out/data/fragments/CNA_10xv11_3.15k.fragments.tsv.gz',\n",
       " 'CNA_10xv11_4.15k': '15k_preprocessing_out/data/fragments/CNA_10xv11_4.15k.fragments.tsv.gz',\n",
       " 'CNA_10xv11_5.15k': '15k_preprocessing_out/data/fragments/CNA_10xv11_5.15k.fragments.tsv.gz',\n",
       " 'CNA_10xv2_1.15k': '15k_preprocessing_out/data/fragments/CNA_10xv2_1.15k.fragments.tsv.gz',\n",
       " 'CNA_10xv2_2.15k': '15k_preprocessing_out/data/fragments/CNA_10xv2_2.15k.fragments.tsv.gz',\n",
       " 'CNA_hydrop_1.15k': '15k_preprocessing_out/data/fragments/CNA_hydrop_1.15k.fragments.tsv.gz',\n",
       " 'CNA_hydrop_2.15k': '15k_preprocessing_out/data/fragments/CNA_hydrop_2.15k.fragments.tsv.gz',\n",
       " 'CNA_hydrop_3.15k': '15k_preprocessing_out/data/fragments/CNA_hydrop_3.15k.fragments.tsv.gz',\n",
       " 'CNA_mtscatac_1.15k': '15k_preprocessing_out/data/fragments/CNA_mtscatac_1.15k.fragments.tsv.gz',\n",
       " 'CNA_mtscatac_2.15k': '15k_preprocessing_out/data/fragments/CNA_mtscatac_2.15k.fragments.tsv.gz',\n",
       " 'EPF_hydrop_1.15k': '15k_preprocessing_out/data/fragments/EPF_hydrop_1.15k.fragments.tsv.gz',\n",
       " 'EPF_hydrop_2.15k': '15k_preprocessing_out/data/fragments/EPF_hydrop_2.15k.fragments.tsv.gz',\n",
       " 'EPF_hydrop_3.15k': '15k_preprocessing_out/data/fragments/EPF_hydrop_3.15k.fragments.tsv.gz',\n",
       " 'EPF_hydrop_4.15k': '15k_preprocessing_out/data/fragments/EPF_hydrop_4.15k.fragments.tsv.gz',\n",
       " 'HAR_ddseq_1.15k': '15k_preprocessing_out/data/fragments/HAR_ddseq_1.15k.fragments.tsv.gz',\n",
       " 'HAR_ddseq_2.15k': '15k_preprocessing_out/data/fragments/HAR_ddseq_2.15k.fragments.tsv.gz',\n",
       " 'MDC_mtscatac_1.15k': '15k_preprocessing_out/data/fragments/MDC_mtscatac_1.15k.fragments.tsv.gz',\n",
       " 'MDC_mtscatac_2.15k': '15k_preprocessing_out/data/fragments/MDC_mtscatac_2.15k.fragments.tsv.gz',\n",
       " 'OHS_s3atac_1.15k': '15k_preprocessing_out/data/fragments/OHS_s3atac_1.15k.fragments.tsv.gz',\n",
       " 'OHS_s3atac_2.15k': '15k_preprocessing_out/data/fragments/OHS_s3atac_2.15k.fragments.tsv.gz',\n",
       " 'SAN_10xmultiome_1.15k': '15k_preprocessing_out/data/fragments/SAN_10xmultiome_1.15k.fragments.tsv.gz',\n",
       " 'SAN_10xmultiome_2.15k': '15k_preprocessing_out/data/fragments/SAN_10xmultiome_2.15k.fragments.tsv.gz',\n",
       " 'STA_10xv11_1.15k': '15k_preprocessing_out/data/fragments/STA_10xv11_1.15k.fragments.tsv.gz',\n",
       " 'STA_10xv11_2.15k': '15k_preprocessing_out/data/fragments/STA_10xv11_2.15k.fragments.tsv.gz',\n",
       " 'TXG_10xv11_1.15k': '15k_preprocessing_out/data/fragments/TXG_10xv11_1.15k.fragments.tsv.gz',\n",
       " 'TXG_10xv2_1.15k': '15k_preprocessing_out/data/fragments/TXG_10xv2_1.15k.fragments.tsv.gz',\n",
       " 'TXG_10xv2_2.15k': '15k_preprocessing_out/data/fragments/TXG_10xv2_2.15k.fragments.tsv.gz',\n",
       " 'UCS_ddseq_1.15k': '15k_preprocessing_out/data/fragments/UCS_ddseq_1.15k.fragments.tsv.gz',\n",
       " 'UCS_ddseq_2.15k': '15k_preprocessing_out/data/fragments/UCS_ddseq_2.15k.fragments.tsv.gz',\n",
       " 'VIB_10xmultiome_1.15k': '15k_preprocessing_out/data/fragments/VIB_10xmultiome_1.15k.fragments.tsv.gz',\n",
       " 'VIB_10xmultiome_2.15k': '15k_preprocessing_out/data/fragments/VIB_10xmultiome_2.15k.fragments.tsv.gz',\n",
       " 'VIB_10xv1_1.15k': '15k_preprocessing_out/data/fragments/VIB_10xv1_1.15k.fragments.tsv.gz',\n",
       " 'VIB_10xv1_2.15k': '15k_preprocessing_out/data/fragments/VIB_10xv1_2.15k.fragments.tsv.gz',\n",
       " 'VIB_10xv2_1.15k': '15k_preprocessing_out/data/fragments/VIB_10xv2_1.15k.fragments.tsv.gz',\n",
       " 'VIB_10xv2_2.15k': '15k_preprocessing_out/data/fragments/VIB_10xv2_2.15k.fragments.tsv.gz',\n",
       " 'VIB_hydrop_11.15k': '15k_preprocessing_out/data/fragments/VIB_hydrop_11.15k.fragments.tsv.gz',\n",
       " 'VIB_hydrop_12.15k': '15k_preprocessing_out/data/fragments/VIB_hydrop_12.15k.fragments.tsv.gz',\n",
       " 'VIB_hydrop_21.15k': '15k_preprocessing_out/data/fragments/VIB_hydrop_21.15k.fragments.tsv.gz',\n",
       " 'VIB_hydrop_22.15k': '15k_preprocessing_out/data/fragments/VIB_hydrop_22.15k.fragments.tsv.gz'}"
      ]
     },
     "execution_count": 6,
     "metadata": {},
     "output_type": "execute_result"
    }
   ],
   "source": [
    "fragments_list = sorted(\n",
    "    glob.glob(f\"{depth_str}_preprocessing_out/data/fragments/*fragments.tsv.gz\")\n",
    ")\n",
    "fragments_dict = {}\n",
    "for fragments_file in fragments_list:\n",
    "    sample = fragments_file.split(\"/\")[-1].split(\".fragments.tsv.gz\")[0]\n",
    "    fragments_dict[sample] = fragments_file\n",
    "\n",
    "fragments_dict"
   ]
  },
  {
   "cell_type": "code",
   "execution_count": 7,
   "id": "f43fd7e7-21a8-4798-b7bd-c236412e02bf",
   "metadata": {
    "execution": {
     "iopub.execute_input": "2022-09-14T20:16:15.706875Z",
     "iopub.status.busy": "2022-09-14T20:16:15.705906Z",
     "iopub.status.idle": "2022-09-14T20:16:15.731492Z",
     "shell.execute_reply": "2022-09-14T20:16:15.730878Z"
    },
    "papermill": {
     "duration": 0.043232,
     "end_time": "2022-09-14T20:16:15.736148",
     "exception": false,
     "start_time": "2022-09-14T20:16:15.692916",
     "status": "completed"
    },
    "tags": []
   },
   "outputs": [
    {
     "data": {
      "text/plain": [
       "{'BIO_ddseq_1.15k': '../SCREEN_peaks/BIO_ddseq_1.FIXEDCELLS__SCREEN_consensus_peaks.bed',\n",
       " 'BIO_ddseq_2.15k': '../SCREEN_peaks/BIO_ddseq_2.FIXEDCELLS__SCREEN_consensus_peaks.bed',\n",
       " 'BIO_ddseq_3.15k': '../SCREEN_peaks/BIO_ddseq_3.FIXEDCELLS__SCREEN_consensus_peaks.bed',\n",
       " 'BIO_ddseq_4.15k': '../SCREEN_peaks/BIO_ddseq_4.FIXEDCELLS__SCREEN_consensus_peaks.bed',\n",
       " 'BRO_mtscatac_1.15k': '../SCREEN_peaks/BRO_mtscatac_1.FIXEDCELLS__SCREEN_consensus_peaks.bed',\n",
       " 'BRO_mtscatac_2.15k': '../SCREEN_peaks/BRO_mtscatac_2.FIXEDCELLS__SCREEN_consensus_peaks.bed',\n",
       " 'CNA_10xmultiome_1.15k': '../SCREEN_peaks/CNA_10xmultiome_1.FIXEDCELLS__SCREEN_consensus_peaks.bed',\n",
       " 'CNA_10xmultiome_2.15k': '../SCREEN_peaks/CNA_10xmultiome_2.FIXEDCELLS__SCREEN_consensus_peaks.bed',\n",
       " 'CNA_10xv11_1.15k': '../SCREEN_peaks/CNA_10xv11_1.FIXEDCELLS__SCREEN_consensus_peaks.bed',\n",
       " 'CNA_10xv11_2.15k': '../SCREEN_peaks/CNA_10xv11_2.FIXEDCELLS__SCREEN_consensus_peaks.bed',\n",
       " 'CNA_10xv11_3.15k': '../SCREEN_peaks/CNA_10xv11_3.FIXEDCELLS__SCREEN_consensus_peaks.bed',\n",
       " 'CNA_10xv11_4.15k': '../SCREEN_peaks/CNA_10xv11_4.FIXEDCELLS__SCREEN_consensus_peaks.bed',\n",
       " 'CNA_10xv11_5.15k': '../SCREEN_peaks/CNA_10xv11_5.FIXEDCELLS__SCREEN_consensus_peaks.bed',\n",
       " 'CNA_10xv2_1.15k': '../SCREEN_peaks/CNA_10xv2_1.FIXEDCELLS__SCREEN_consensus_peaks.bed',\n",
       " 'CNA_10xv2_2.15k': '../SCREEN_peaks/CNA_10xv2_2.FIXEDCELLS__SCREEN_consensus_peaks.bed',\n",
       " 'CNA_hydrop_1.15k': '../SCREEN_peaks/CNA_hydrop_1.FIXEDCELLS__SCREEN_consensus_peaks.bed',\n",
       " 'CNA_hydrop_2.15k': '../SCREEN_peaks/CNA_hydrop_2.FIXEDCELLS__SCREEN_consensus_peaks.bed',\n",
       " 'CNA_hydrop_3.15k': '../SCREEN_peaks/CNA_hydrop_3.FIXEDCELLS__SCREEN_consensus_peaks.bed',\n",
       " 'CNA_mtscatac_1.15k': '../SCREEN_peaks/CNA_mtscatac_1.FIXEDCELLS__SCREEN_consensus_peaks.bed',\n",
       " 'CNA_mtscatac_2.15k': '../SCREEN_peaks/CNA_mtscatac_2.FIXEDCELLS__SCREEN_consensus_peaks.bed',\n",
       " 'EPF_hydrop_1.15k': '../SCREEN_peaks/EPF_hydrop_1.FIXEDCELLS__SCREEN_consensus_peaks.bed',\n",
       " 'EPF_hydrop_2.15k': '../SCREEN_peaks/EPF_hydrop_2.FIXEDCELLS__SCREEN_consensus_peaks.bed',\n",
       " 'EPF_hydrop_3.15k': '../SCREEN_peaks/EPF_hydrop_3.FIXEDCELLS__SCREEN_consensus_peaks.bed',\n",
       " 'EPF_hydrop_4.15k': '../SCREEN_peaks/EPF_hydrop_4.FIXEDCELLS__SCREEN_consensus_peaks.bed',\n",
       " 'HAR_ddseq_1.15k': '../SCREEN_peaks/HAR_ddseq_1.FIXEDCELLS__SCREEN_consensus_peaks.bed',\n",
       " 'HAR_ddseq_2.15k': '../SCREEN_peaks/HAR_ddseq_2.FIXEDCELLS__SCREEN_consensus_peaks.bed',\n",
       " 'MDC_mtscatac_1.15k': '../SCREEN_peaks/MDC_mtscatac_1.FIXEDCELLS__SCREEN_consensus_peaks.bed',\n",
       " 'MDC_mtscatac_2.15k': '../SCREEN_peaks/MDC_mtscatac_2.FIXEDCELLS__SCREEN_consensus_peaks.bed',\n",
       " 'OHS_s3atac_1.15k': '../SCREEN_peaks/OHS_s3atac_1.FIXEDCELLS__SCREEN_consensus_peaks.bed',\n",
       " 'OHS_s3atac_2.15k': '../SCREEN_peaks/OHS_s3atac_2.FIXEDCELLS__SCREEN_consensus_peaks.bed',\n",
       " 'SAN_10xmultiome_1.15k': '../SCREEN_peaks/SAN_10xmultiome_1.FIXEDCELLS__SCREEN_consensus_peaks.bed',\n",
       " 'SAN_10xmultiome_2.15k': '../SCREEN_peaks/SAN_10xmultiome_2.FIXEDCELLS__SCREEN_consensus_peaks.bed',\n",
       " 'STA_10xv11_1.15k': '../SCREEN_peaks/STA_10xv11_1.FIXEDCELLS__SCREEN_consensus_peaks.bed',\n",
       " 'STA_10xv11_2.15k': '../SCREEN_peaks/STA_10xv11_2.FIXEDCELLS__SCREEN_consensus_peaks.bed',\n",
       " 'TXG_10xv11_1.15k': '../SCREEN_peaks/TXG_10xv11_1.FIXEDCELLS__SCREEN_consensus_peaks.bed',\n",
       " 'TXG_10xv2_1.15k': '../SCREEN_peaks/TXG_10xv2_1.FIXEDCELLS__SCREEN_consensus_peaks.bed',\n",
       " 'TXG_10xv2_2.15k': '../SCREEN_peaks/TXG_10xv2_2.FIXEDCELLS__SCREEN_consensus_peaks.bed',\n",
       " 'UCS_ddseq_1.15k': '../SCREEN_peaks/UCS_ddseq_1.FIXEDCELLS__SCREEN_consensus_peaks.bed',\n",
       " 'UCS_ddseq_2.15k': '../SCREEN_peaks/UCS_ddseq_2.FIXEDCELLS__SCREEN_consensus_peaks.bed',\n",
       " 'VIB_10xmultiome_1.15k': '../SCREEN_peaks/VIB_10xmultiome_1.FIXEDCELLS__SCREEN_consensus_peaks.bed',\n",
       " 'VIB_10xmultiome_2.15k': '../SCREEN_peaks/VIB_10xmultiome_2.FIXEDCELLS__SCREEN_consensus_peaks.bed',\n",
       " 'VIB_10xv1_1.15k': '../SCREEN_peaks/VIB_10xv1_1.FIXEDCELLS__SCREEN_consensus_peaks.bed',\n",
       " 'VIB_10xv1_2.15k': '../SCREEN_peaks/VIB_10xv1_2.FIXEDCELLS__SCREEN_consensus_peaks.bed',\n",
       " 'VIB_10xv2_1.15k': '../SCREEN_peaks/VIB_10xv2_1.FIXEDCELLS__SCREEN_consensus_peaks.bed',\n",
       " 'VIB_10xv2_2.15k': '../SCREEN_peaks/VIB_10xv2_2.FIXEDCELLS__SCREEN_consensus_peaks.bed',\n",
       " 'VIB_hydrop_1.15k': '../SCREEN_peaks/VIB_hydrop_1.FIXEDCELLS__SCREEN_consensus_peaks.bed',\n",
       " 'VIB_hydrop_11.15k': '../SCREEN_peaks/VIB_hydrop_11.FIXEDCELLS__SCREEN_consensus_peaks.bed',\n",
       " 'VIB_hydrop_12.15k': '../SCREEN_peaks/VIB_hydrop_12.FIXEDCELLS__SCREEN_consensus_peaks.bed',\n",
       " 'VIB_hydrop_2.15k': '../SCREEN_peaks/VIB_hydrop_2.FIXEDCELLS__SCREEN_consensus_peaks.bed',\n",
       " 'VIB_hydrop_21.15k': '../SCREEN_peaks/VIB_hydrop_21.FIXEDCELLS__SCREEN_consensus_peaks.bed',\n",
       " 'VIB_hydrop_22.15k': '../SCREEN_peaks/VIB_hydrop_22.FIXEDCELLS__SCREEN_consensus_peaks.bed'}"
      ]
     },
     "execution_count": 7,
     "metadata": {},
     "output_type": "execute_result"
    }
   ],
   "source": [
    "regions_paths_dict = {\n",
    "    x.split(\"/\")[-1].split(f\"__\")[0].replace(\"FIXEDCELLS\", depth_str): x\n",
    "    for x in sorted(glob.glob(\"../SCREEN_peaks/*consensus_peaks.bed\"))\n",
    "}\n",
    "regions_paths_dict"
   ]
  },
  {
   "cell_type": "code",
   "execution_count": 8,
   "id": "bd35613d-1b51-4947-afd7-168f1043be12",
   "metadata": {
    "execution": {
     "iopub.execute_input": "2022-09-14T20:16:15.764441Z",
     "iopub.status.busy": "2022-09-14T20:16:15.764002Z",
     "iopub.status.idle": "2022-09-14T20:16:15.781020Z",
     "shell.execute_reply": "2022-09-14T20:16:15.780494Z"
    },
    "papermill": {
     "duration": 0.037169,
     "end_time": "2022-09-14T20:16:15.782181",
     "exception": false,
     "start_time": "2022-09-14T20:16:15.745012",
     "status": "completed"
    },
    "tags": []
   },
   "outputs": [],
   "source": [
    "regions_paths_dict[\"VIB_hydrop_11.\" + depth_str] = regions_paths_dict[\n",
    "    \"VIB_hydrop_1.\" + depth_str\n",
    "]\n",
    "regions_paths_dict[\"VIB_hydrop_12.\" + depth_str] = regions_paths_dict[\n",
    "    \"VIB_hydrop_1.\" + depth_str\n",
    "]\n",
    "regions_paths_dict[\"VIB_hydrop_21.\" + depth_str] = regions_paths_dict[\n",
    "    \"VIB_hydrop_2.\" + depth_str\n",
    "]\n",
    "regions_paths_dict[\"VIB_hydrop_22.\" + depth_str] = regions_paths_dict[\n",
    "    \"VIB_hydrop_2.\" + depth_str\n",
    "]"
   ]
  },
  {
   "cell_type": "code",
   "execution_count": 9,
   "id": "f01597ea-12b6-4b68-aa43-986e6616bc93",
   "metadata": {
    "execution": {
     "iopub.execute_input": "2022-09-14T20:16:15.805408Z",
     "iopub.status.busy": "2022-09-14T20:16:15.798772Z",
     "iopub.status.idle": "2022-09-14T20:16:15.817377Z",
     "shell.execute_reply": "2022-09-14T20:16:15.816884Z"
    },
    "papermill": {
     "duration": 0.030932,
     "end_time": "2022-09-14T20:16:15.818317",
     "exception": false,
     "start_time": "2022-09-14T20:16:15.787385",
     "status": "completed"
    },
    "tags": []
   },
   "outputs": [
    {
     "data": {
      "text/plain": [
       "{'BIO_ddseq_1.15k': '../SCREEN_peaks/BIO_ddseq_1.FIXEDCELLS__SCREEN_consensus_peaks.bed',\n",
       " 'BIO_ddseq_2.15k': '../SCREEN_peaks/BIO_ddseq_2.FIXEDCELLS__SCREEN_consensus_peaks.bed',\n",
       " 'BIO_ddseq_3.15k': '../SCREEN_peaks/BIO_ddseq_3.FIXEDCELLS__SCREEN_consensus_peaks.bed',\n",
       " 'BIO_ddseq_4.15k': '../SCREEN_peaks/BIO_ddseq_4.FIXEDCELLS__SCREEN_consensus_peaks.bed',\n",
       " 'BRO_mtscatac_1.15k': '../SCREEN_peaks/BRO_mtscatac_1.FIXEDCELLS__SCREEN_consensus_peaks.bed',\n",
       " 'BRO_mtscatac_2.15k': '../SCREEN_peaks/BRO_mtscatac_2.FIXEDCELLS__SCREEN_consensus_peaks.bed',\n",
       " 'CNA_10xmultiome_1.15k': '../SCREEN_peaks/CNA_10xmultiome_1.FIXEDCELLS__SCREEN_consensus_peaks.bed',\n",
       " 'CNA_10xmultiome_2.15k': '../SCREEN_peaks/CNA_10xmultiome_2.FIXEDCELLS__SCREEN_consensus_peaks.bed',\n",
       " 'CNA_10xv11_1.15k': '../SCREEN_peaks/CNA_10xv11_1.FIXEDCELLS__SCREEN_consensus_peaks.bed',\n",
       " 'CNA_10xv11_2.15k': '../SCREEN_peaks/CNA_10xv11_2.FIXEDCELLS__SCREEN_consensus_peaks.bed',\n",
       " 'CNA_10xv11_3.15k': '../SCREEN_peaks/CNA_10xv11_3.FIXEDCELLS__SCREEN_consensus_peaks.bed',\n",
       " 'CNA_10xv11_4.15k': '../SCREEN_peaks/CNA_10xv11_4.FIXEDCELLS__SCREEN_consensus_peaks.bed',\n",
       " 'CNA_10xv11_5.15k': '../SCREEN_peaks/CNA_10xv11_5.FIXEDCELLS__SCREEN_consensus_peaks.bed',\n",
       " 'CNA_10xv2_1.15k': '../SCREEN_peaks/CNA_10xv2_1.FIXEDCELLS__SCREEN_consensus_peaks.bed',\n",
       " 'CNA_10xv2_2.15k': '../SCREEN_peaks/CNA_10xv2_2.FIXEDCELLS__SCREEN_consensus_peaks.bed',\n",
       " 'CNA_hydrop_1.15k': '../SCREEN_peaks/CNA_hydrop_1.FIXEDCELLS__SCREEN_consensus_peaks.bed',\n",
       " 'CNA_hydrop_2.15k': '../SCREEN_peaks/CNA_hydrop_2.FIXEDCELLS__SCREEN_consensus_peaks.bed',\n",
       " 'CNA_hydrop_3.15k': '../SCREEN_peaks/CNA_hydrop_3.FIXEDCELLS__SCREEN_consensus_peaks.bed',\n",
       " 'CNA_mtscatac_1.15k': '../SCREEN_peaks/CNA_mtscatac_1.FIXEDCELLS__SCREEN_consensus_peaks.bed',\n",
       " 'CNA_mtscatac_2.15k': '../SCREEN_peaks/CNA_mtscatac_2.FIXEDCELLS__SCREEN_consensus_peaks.bed',\n",
       " 'EPF_hydrop_1.15k': '../SCREEN_peaks/EPF_hydrop_1.FIXEDCELLS__SCREEN_consensus_peaks.bed',\n",
       " 'EPF_hydrop_2.15k': '../SCREEN_peaks/EPF_hydrop_2.FIXEDCELLS__SCREEN_consensus_peaks.bed',\n",
       " 'EPF_hydrop_3.15k': '../SCREEN_peaks/EPF_hydrop_3.FIXEDCELLS__SCREEN_consensus_peaks.bed',\n",
       " 'EPF_hydrop_4.15k': '../SCREEN_peaks/EPF_hydrop_4.FIXEDCELLS__SCREEN_consensus_peaks.bed',\n",
       " 'HAR_ddseq_1.15k': '../SCREEN_peaks/HAR_ddseq_1.FIXEDCELLS__SCREEN_consensus_peaks.bed',\n",
       " 'HAR_ddseq_2.15k': '../SCREEN_peaks/HAR_ddseq_2.FIXEDCELLS__SCREEN_consensus_peaks.bed',\n",
       " 'MDC_mtscatac_1.15k': '../SCREEN_peaks/MDC_mtscatac_1.FIXEDCELLS__SCREEN_consensus_peaks.bed',\n",
       " 'MDC_mtscatac_2.15k': '../SCREEN_peaks/MDC_mtscatac_2.FIXEDCELLS__SCREEN_consensus_peaks.bed',\n",
       " 'OHS_s3atac_1.15k': '../SCREEN_peaks/OHS_s3atac_1.FIXEDCELLS__SCREEN_consensus_peaks.bed',\n",
       " 'OHS_s3atac_2.15k': '../SCREEN_peaks/OHS_s3atac_2.FIXEDCELLS__SCREEN_consensus_peaks.bed',\n",
       " 'SAN_10xmultiome_1.15k': '../SCREEN_peaks/SAN_10xmultiome_1.FIXEDCELLS__SCREEN_consensus_peaks.bed',\n",
       " 'SAN_10xmultiome_2.15k': '../SCREEN_peaks/SAN_10xmultiome_2.FIXEDCELLS__SCREEN_consensus_peaks.bed',\n",
       " 'STA_10xv11_1.15k': '../SCREEN_peaks/STA_10xv11_1.FIXEDCELLS__SCREEN_consensus_peaks.bed',\n",
       " 'STA_10xv11_2.15k': '../SCREEN_peaks/STA_10xv11_2.FIXEDCELLS__SCREEN_consensus_peaks.bed',\n",
       " 'TXG_10xv11_1.15k': '../SCREEN_peaks/TXG_10xv11_1.FIXEDCELLS__SCREEN_consensus_peaks.bed',\n",
       " 'TXG_10xv2_1.15k': '../SCREEN_peaks/TXG_10xv2_1.FIXEDCELLS__SCREEN_consensus_peaks.bed',\n",
       " 'TXG_10xv2_2.15k': '../SCREEN_peaks/TXG_10xv2_2.FIXEDCELLS__SCREEN_consensus_peaks.bed',\n",
       " 'UCS_ddseq_1.15k': '../SCREEN_peaks/UCS_ddseq_1.FIXEDCELLS__SCREEN_consensus_peaks.bed',\n",
       " 'UCS_ddseq_2.15k': '../SCREEN_peaks/UCS_ddseq_2.FIXEDCELLS__SCREEN_consensus_peaks.bed',\n",
       " 'VIB_10xmultiome_1.15k': '../SCREEN_peaks/VIB_10xmultiome_1.FIXEDCELLS__SCREEN_consensus_peaks.bed',\n",
       " 'VIB_10xmultiome_2.15k': '../SCREEN_peaks/VIB_10xmultiome_2.FIXEDCELLS__SCREEN_consensus_peaks.bed',\n",
       " 'VIB_10xv1_1.15k': '../SCREEN_peaks/VIB_10xv1_1.FIXEDCELLS__SCREEN_consensus_peaks.bed',\n",
       " 'VIB_10xv1_2.15k': '../SCREEN_peaks/VIB_10xv1_2.FIXEDCELLS__SCREEN_consensus_peaks.bed',\n",
       " 'VIB_10xv2_1.15k': '../SCREEN_peaks/VIB_10xv2_1.FIXEDCELLS__SCREEN_consensus_peaks.bed',\n",
       " 'VIB_10xv2_2.15k': '../SCREEN_peaks/VIB_10xv2_2.FIXEDCELLS__SCREEN_consensus_peaks.bed',\n",
       " 'VIB_hydrop_1.15k': '../SCREEN_peaks/VIB_hydrop_1.FIXEDCELLS__SCREEN_consensus_peaks.bed',\n",
       " 'VIB_hydrop_11.15k': '../SCREEN_peaks/VIB_hydrop_1.FIXEDCELLS__SCREEN_consensus_peaks.bed',\n",
       " 'VIB_hydrop_12.15k': '../SCREEN_peaks/VIB_hydrop_1.FIXEDCELLS__SCREEN_consensus_peaks.bed',\n",
       " 'VIB_hydrop_2.15k': '../SCREEN_peaks/VIB_hydrop_2.FIXEDCELLS__SCREEN_consensus_peaks.bed',\n",
       " 'VIB_hydrop_21.15k': '../SCREEN_peaks/VIB_hydrop_2.FIXEDCELLS__SCREEN_consensus_peaks.bed',\n",
       " 'VIB_hydrop_22.15k': '../SCREEN_peaks/VIB_hydrop_2.FIXEDCELLS__SCREEN_consensus_peaks.bed'}"
      ]
     },
     "execution_count": 9,
     "metadata": {},
     "output_type": "execute_result"
    }
   ],
   "source": [
    "regions_paths_dict"
   ]
  },
  {
   "cell_type": "markdown",
   "id": "a58786aa",
   "metadata": {
    "papermill": {
     "duration": 0.00591,
     "end_time": "2022-09-14T20:16:15.830269",
     "exception": false,
     "start_time": "2022-09-14T20:16:15.824359",
     "status": "completed"
    },
    "tags": []
   },
   "source": [
    "Now, make a sub dictionary of all samples within the fragments dict that have not been run yet (good for resuming a stopped cistopic run):"
   ]
  },
  {
   "cell_type": "code",
   "execution_count": 10,
   "id": "13ad51aa",
   "metadata": {
    "execution": {
     "iopub.execute_input": "2022-09-14T20:16:15.845736Z",
     "iopub.status.busy": "2022-09-14T20:16:15.845380Z",
     "iopub.status.idle": "2022-09-14T20:16:15.850090Z",
     "shell.execute_reply": "2022-09-14T20:16:15.849531Z"
    },
    "papermill": {
     "duration": 0.033905,
     "end_time": "2022-09-14T20:16:15.869372",
     "exception": false,
     "start_time": "2022-09-14T20:16:15.835467",
     "status": "completed"
    },
    "tags": []
   },
   "outputs": [],
   "source": [
    "cistopic_qc_out = os.path.join(wdir, \"cistopic_qc_out_CONSENSUS\")\n",
    "if not os.path.exists(cistopic_qc_out):\n",
    "    os.makedirs(cistopic_qc_out)"
   ]
  },
  {
   "cell_type": "code",
   "execution_count": 11,
   "id": "161f54e5-1e0b-4277-b9ca-f0247df0e4e9",
   "metadata": {
    "execution": {
     "iopub.execute_input": "2022-09-14T20:16:15.930390Z",
     "iopub.status.busy": "2022-09-14T20:16:15.930011Z",
     "iopub.status.idle": "2022-09-14T20:16:15.943831Z",
     "shell.execute_reply": "2022-09-14T20:16:15.943102Z"
    },
    "papermill": {
     "duration": 0.060655,
     "end_time": "2022-09-14T20:16:15.945814",
     "exception": false,
     "start_time": "2022-09-14T20:16:15.885159",
     "status": "completed"
    },
    "tags": []
   },
   "outputs": [
    {
     "name": "stdout",
     "output_type": "stream",
     "text": [
      "Checking if /dodrio/scratch/projects/starting_2022_023/benchmark/scatac_benchmark/downsample_series/15k/cistopic_qc_out_CONSENSUS/BIO_ddseq_1.15k__metadata_bc.pkl exist...\n",
      "\tMetadata does not exist, adding to subdict to generate\n",
      "Checking if /dodrio/scratch/projects/starting_2022_023/benchmark/scatac_benchmark/downsample_series/15k/cistopic_qc_out_CONSENSUS/BIO_ddseq_2.15k__metadata_bc.pkl exist...\n",
      "\tMetadata does not exist, adding to subdict to generate\n",
      "Checking if /dodrio/scratch/projects/starting_2022_023/benchmark/scatac_benchmark/downsample_series/15k/cistopic_qc_out_CONSENSUS/BIO_ddseq_3.15k__metadata_bc.pkl exist...\n",
      "\tMetadata does not exist, adding to subdict to generate\n",
      "Checking if /dodrio/scratch/projects/starting_2022_023/benchmark/scatac_benchmark/downsample_series/15k/cistopic_qc_out_CONSENSUS/BIO_ddseq_4.15k__metadata_bc.pkl exist...\n",
      "\tMetadata does not exist, adding to subdict to generate\n",
      "Checking if /dodrio/scratch/projects/starting_2022_023/benchmark/scatac_benchmark/downsample_series/15k/cistopic_qc_out_CONSENSUS/BRO_mtscatac_1.15k__metadata_bc.pkl exist...\n",
      "\tMetadata does not exist, adding to subdict to generate\n",
      "Checking if /dodrio/scratch/projects/starting_2022_023/benchmark/scatac_benchmark/downsample_series/15k/cistopic_qc_out_CONSENSUS/BRO_mtscatac_2.15k__metadata_bc.pkl exist...\n",
      "\tMetadata does not exist, adding to subdict to generate\n",
      "Checking if /dodrio/scratch/projects/starting_2022_023/benchmark/scatac_benchmark/downsample_series/15k/cistopic_qc_out_CONSENSUS/CNA_10xmultiome_1.15k__metadata_bc.pkl exist...\n",
      "\tMetadata does not exist, adding to subdict to generate\n",
      "Checking if /dodrio/scratch/projects/starting_2022_023/benchmark/scatac_benchmark/downsample_series/15k/cistopic_qc_out_CONSENSUS/CNA_10xmultiome_2.15k__metadata_bc.pkl exist...\n",
      "\tMetadata does not exist, adding to subdict to generate\n",
      "Checking if /dodrio/scratch/projects/starting_2022_023/benchmark/scatac_benchmark/downsample_series/15k/cistopic_qc_out_CONSENSUS/CNA_10xv11_1.15k__metadata_bc.pkl exist...\n",
      "\tMetadata does not exist, adding to subdict to generate\n",
      "Checking if /dodrio/scratch/projects/starting_2022_023/benchmark/scatac_benchmark/downsample_series/15k/cistopic_qc_out_CONSENSUS/CNA_10xv11_2.15k__metadata_bc.pkl exist...\n",
      "\tMetadata does not exist, adding to subdict to generate\n",
      "Checking if /dodrio/scratch/projects/starting_2022_023/benchmark/scatac_benchmark/downsample_series/15k/cistopic_qc_out_CONSENSUS/CNA_10xv11_3.15k__metadata_bc.pkl exist...\n",
      "\tMetadata does not exist, adding to subdict to generate\n",
      "Checking if /dodrio/scratch/projects/starting_2022_023/benchmark/scatac_benchmark/downsample_series/15k/cistopic_qc_out_CONSENSUS/CNA_10xv11_4.15k__metadata_bc.pkl exist...\n",
      "\tMetadata does not exist, adding to subdict to generate\n",
      "Checking if /dodrio/scratch/projects/starting_2022_023/benchmark/scatac_benchmark/downsample_series/15k/cistopic_qc_out_CONSENSUS/CNA_10xv11_5.15k__metadata_bc.pkl exist...\n",
      "\tMetadata does not exist, adding to subdict to generate\n",
      "Checking if /dodrio/scratch/projects/starting_2022_023/benchmark/scatac_benchmark/downsample_series/15k/cistopic_qc_out_CONSENSUS/CNA_10xv2_1.15k__metadata_bc.pkl exist...\n",
      "\tMetadata does not exist, adding to subdict to generate\n",
      "Checking if /dodrio/scratch/projects/starting_2022_023/benchmark/scatac_benchmark/downsample_series/15k/cistopic_qc_out_CONSENSUS/CNA_10xv2_2.15k__metadata_bc.pkl exist...\n",
      "\tMetadata does not exist, adding to subdict to generate\n",
      "Checking if /dodrio/scratch/projects/starting_2022_023/benchmark/scatac_benchmark/downsample_series/15k/cistopic_qc_out_CONSENSUS/CNA_hydrop_1.15k__metadata_bc.pkl exist...\n",
      "\tMetadata does not exist, adding to subdict to generate\n",
      "Checking if /dodrio/scratch/projects/starting_2022_023/benchmark/scatac_benchmark/downsample_series/15k/cistopic_qc_out_CONSENSUS/CNA_hydrop_2.15k__metadata_bc.pkl exist...\n",
      "\tMetadata does not exist, adding to subdict to generate\n",
      "Checking if /dodrio/scratch/projects/starting_2022_023/benchmark/scatac_benchmark/downsample_series/15k/cistopic_qc_out_CONSENSUS/CNA_hydrop_3.15k__metadata_bc.pkl exist...\n",
      "\tMetadata does not exist, adding to subdict to generate\n",
      "Checking if /dodrio/scratch/projects/starting_2022_023/benchmark/scatac_benchmark/downsample_series/15k/cistopic_qc_out_CONSENSUS/CNA_mtscatac_1.15k__metadata_bc.pkl exist...\n",
      "\tMetadata does not exist, adding to subdict to generate\n",
      "Checking if /dodrio/scratch/projects/starting_2022_023/benchmark/scatac_benchmark/downsample_series/15k/cistopic_qc_out_CONSENSUS/CNA_mtscatac_2.15k__metadata_bc.pkl exist...\n",
      "\tMetadata does not exist, adding to subdict to generate\n",
      "Checking if /dodrio/scratch/projects/starting_2022_023/benchmark/scatac_benchmark/downsample_series/15k/cistopic_qc_out_CONSENSUS/EPF_hydrop_1.15k__metadata_bc.pkl exist...\n",
      "\tMetadata does not exist, adding to subdict to generate\n",
      "Checking if /dodrio/scratch/projects/starting_2022_023/benchmark/scatac_benchmark/downsample_series/15k/cistopic_qc_out_CONSENSUS/EPF_hydrop_2.15k__metadata_bc.pkl exist...\n",
      "\tMetadata does not exist, adding to subdict to generate\n",
      "Checking if /dodrio/scratch/projects/starting_2022_023/benchmark/scatac_benchmark/downsample_series/15k/cistopic_qc_out_CONSENSUS/EPF_hydrop_3.15k__metadata_bc.pkl exist...\n",
      "\tMetadata does not exist, adding to subdict to generate\n",
      "Checking if /dodrio/scratch/projects/starting_2022_023/benchmark/scatac_benchmark/downsample_series/15k/cistopic_qc_out_CONSENSUS/EPF_hydrop_4.15k__metadata_bc.pkl exist...\n",
      "\tMetadata does not exist, adding to subdict to generate\n",
      "Checking if /dodrio/scratch/projects/starting_2022_023/benchmark/scatac_benchmark/downsample_series/15k/cistopic_qc_out_CONSENSUS/HAR_ddseq_1.15k__metadata_bc.pkl exist...\n",
      "\tMetadata does not exist, adding to subdict to generate\n",
      "Checking if /dodrio/scratch/projects/starting_2022_023/benchmark/scatac_benchmark/downsample_series/15k/cistopic_qc_out_CONSENSUS/HAR_ddseq_2.15k__metadata_bc.pkl exist...\n",
      "\tMetadata does not exist, adding to subdict to generate\n",
      "Checking if /dodrio/scratch/projects/starting_2022_023/benchmark/scatac_benchmark/downsample_series/15k/cistopic_qc_out_CONSENSUS/MDC_mtscatac_1.15k__metadata_bc.pkl exist...\n",
      "\tMetadata does not exist, adding to subdict to generate\n",
      "Checking if /dodrio/scratch/projects/starting_2022_023/benchmark/scatac_benchmark/downsample_series/15k/cistopic_qc_out_CONSENSUS/MDC_mtscatac_2.15k__metadata_bc.pkl exist...\n",
      "\tMetadata does not exist, adding to subdict to generate\n",
      "Checking if /dodrio/scratch/projects/starting_2022_023/benchmark/scatac_benchmark/downsample_series/15k/cistopic_qc_out_CONSENSUS/OHS_s3atac_1.15k__metadata_bc.pkl exist...\n",
      "\tMetadata does not exist, adding to subdict to generate\n",
      "Checking if /dodrio/scratch/projects/starting_2022_023/benchmark/scatac_benchmark/downsample_series/15k/cistopic_qc_out_CONSENSUS/OHS_s3atac_2.15k__metadata_bc.pkl exist...\n",
      "\tMetadata does not exist, adding to subdict to generate\n",
      "Checking if /dodrio/scratch/projects/starting_2022_023/benchmark/scatac_benchmark/downsample_series/15k/cistopic_qc_out_CONSENSUS/SAN_10xmultiome_1.15k__metadata_bc.pkl exist...\n",
      "\tMetadata does not exist, adding to subdict to generate\n",
      "Checking if /dodrio/scratch/projects/starting_2022_023/benchmark/scatac_benchmark/downsample_series/15k/cistopic_qc_out_CONSENSUS/SAN_10xmultiome_2.15k__metadata_bc.pkl exist...\n",
      "\tMetadata does not exist, adding to subdict to generate\n",
      "Checking if /dodrio/scratch/projects/starting_2022_023/benchmark/scatac_benchmark/downsample_series/15k/cistopic_qc_out_CONSENSUS/STA_10xv11_1.15k__metadata_bc.pkl exist...\n",
      "\tMetadata does not exist, adding to subdict to generate\n",
      "Checking if /dodrio/scratch/projects/starting_2022_023/benchmark/scatac_benchmark/downsample_series/15k/cistopic_qc_out_CONSENSUS/STA_10xv11_2.15k__metadata_bc.pkl exist...\n",
      "\tMetadata does not exist, adding to subdict to generate\n",
      "Checking if /dodrio/scratch/projects/starting_2022_023/benchmark/scatac_benchmark/downsample_series/15k/cistopic_qc_out_CONSENSUS/TXG_10xv11_1.15k__metadata_bc.pkl exist...\n",
      "\tMetadata does not exist, adding to subdict to generate\n",
      "Checking if /dodrio/scratch/projects/starting_2022_023/benchmark/scatac_benchmark/downsample_series/15k/cistopic_qc_out_CONSENSUS/TXG_10xv2_1.15k__metadata_bc.pkl exist...\n",
      "\tMetadata does not exist, adding to subdict to generate\n",
      "Checking if /dodrio/scratch/projects/starting_2022_023/benchmark/scatac_benchmark/downsample_series/15k/cistopic_qc_out_CONSENSUS/TXG_10xv2_2.15k__metadata_bc.pkl exist...\n",
      "\tMetadata does not exist, adding to subdict to generate\n",
      "Checking if /dodrio/scratch/projects/starting_2022_023/benchmark/scatac_benchmark/downsample_series/15k/cistopic_qc_out_CONSENSUS/UCS_ddseq_1.15k__metadata_bc.pkl exist...\n",
      "\tMetadata does not exist, adding to subdict to generate\n",
      "Checking if /dodrio/scratch/projects/starting_2022_023/benchmark/scatac_benchmark/downsample_series/15k/cistopic_qc_out_CONSENSUS/UCS_ddseq_2.15k__metadata_bc.pkl exist...\n",
      "\tMetadata does not exist, adding to subdict to generate\n",
      "Checking if /dodrio/scratch/projects/starting_2022_023/benchmark/scatac_benchmark/downsample_series/15k/cistopic_qc_out_CONSENSUS/VIB_10xmultiome_1.15k__metadata_bc.pkl exist...\n",
      "\tMetadata does not exist, adding to subdict to generate\n",
      "Checking if /dodrio/scratch/projects/starting_2022_023/benchmark/scatac_benchmark/downsample_series/15k/cistopic_qc_out_CONSENSUS/VIB_10xmultiome_2.15k__metadata_bc.pkl exist...\n",
      "\tMetadata does not exist, adding to subdict to generate\n",
      "Checking if /dodrio/scratch/projects/starting_2022_023/benchmark/scatac_benchmark/downsample_series/15k/cistopic_qc_out_CONSENSUS/VIB_10xv1_1.15k__metadata_bc.pkl exist...\n",
      "\tMetadata does not exist, adding to subdict to generate\n",
      "Checking if /dodrio/scratch/projects/starting_2022_023/benchmark/scatac_benchmark/downsample_series/15k/cistopic_qc_out_CONSENSUS/VIB_10xv1_2.15k__metadata_bc.pkl exist...\n",
      "\tMetadata does not exist, adding to subdict to generate\n",
      "Checking if /dodrio/scratch/projects/starting_2022_023/benchmark/scatac_benchmark/downsample_series/15k/cistopic_qc_out_CONSENSUS/VIB_10xv2_1.15k__metadata_bc.pkl exist...\n",
      "\tMetadata does not exist, adding to subdict to generate\n",
      "Checking if /dodrio/scratch/projects/starting_2022_023/benchmark/scatac_benchmark/downsample_series/15k/cistopic_qc_out_CONSENSUS/VIB_10xv2_2.15k__metadata_bc.pkl exist...\n",
      "\tMetadata does not exist, adding to subdict to generate\n",
      "Checking if /dodrio/scratch/projects/starting_2022_023/benchmark/scatac_benchmark/downsample_series/15k/cistopic_qc_out_CONSENSUS/VIB_hydrop_11.15k__metadata_bc.pkl exist...\n",
      "\tMetadata does not exist, adding to subdict to generate\n",
      "Checking if /dodrio/scratch/projects/starting_2022_023/benchmark/scatac_benchmark/downsample_series/15k/cistopic_qc_out_CONSENSUS/VIB_hydrop_12.15k__metadata_bc.pkl exist...\n",
      "\tMetadata does not exist, adding to subdict to generate\n",
      "Checking if /dodrio/scratch/projects/starting_2022_023/benchmark/scatac_benchmark/downsample_series/15k/cistopic_qc_out_CONSENSUS/VIB_hydrop_21.15k__metadata_bc.pkl exist...\n",
      "\tMetadata does not exist, adding to subdict to generate\n",
      "Checking if /dodrio/scratch/projects/starting_2022_023/benchmark/scatac_benchmark/downsample_series/15k/cistopic_qc_out_CONSENSUS/VIB_hydrop_22.15k__metadata_bc.pkl exist...\n",
      "\tMetadata does not exist, adding to subdict to generate\n"
     ]
    }
   ],
   "source": [
    "fragments_sub_dict = {}\n",
    "regions_sub_dict = {}\n",
    "for sample in fragments_dict.keys():\n",
    "    metadata_file = os.path.join(cistopic_qc_out, sample + \"__metadata_bc.pkl\")\n",
    "    print(f\"Checking if {metadata_file} exist...\")\n",
    "    if os.path.exists(metadata_file):\n",
    "        print(\"\\tMetadata exists! Skipping...\")\n",
    "    else:\n",
    "        fragments_sub_dict[sample] = fragments_dict[sample]\n",
    "        print(\"\\tMetadata does not exist, adding to subdict to generate\")"
   ]
  },
  {
   "cell_type": "code",
   "execution_count": 12,
   "id": "b718b167-4d2f-454a-b7f0-4577f12bd1a8",
   "metadata": {
    "execution": {
     "iopub.execute_input": "2022-09-14T20:16:15.986451Z",
     "iopub.status.busy": "2022-09-14T20:16:15.986000Z",
     "iopub.status.idle": "2022-09-14T20:16:15.990262Z",
     "shell.execute_reply": "2022-09-14T20:16:15.989739Z"
    },
    "papermill": {
     "duration": 0.025966,
     "end_time": "2022-09-14T20:16:15.994419",
     "exception": false,
     "start_time": "2022-09-14T20:16:15.968453",
     "status": "completed"
    },
    "tags": []
   },
   "outputs": [],
   "source": [
    "regions_sub_dict = {x: regions_paths_dict[x] for x in sorted(regions_paths_dict.keys())}"
   ]
  },
  {
   "cell_type": "code",
   "execution_count": 13,
   "id": "c5a500ab-e738-4df7-971d-8d70ff2aff0a",
   "metadata": {
    "execution": {
     "iopub.execute_input": "2022-09-14T20:16:16.017361Z",
     "iopub.status.busy": "2022-09-14T20:16:16.017001Z",
     "iopub.status.idle": "2022-09-14T20:16:16.022505Z",
     "shell.execute_reply": "2022-09-14T20:16:16.021931Z"
    },
    "papermill": {
     "duration": 0.024537,
     "end_time": "2022-09-14T20:16:16.028775",
     "exception": false,
     "start_time": "2022-09-14T20:16:16.004238",
     "status": "completed"
    },
    "tags": []
   },
   "outputs": [
    {
     "data": {
      "text/plain": [
       "{'BIO_ddseq_1.15k': '../SCREEN_peaks/BIO_ddseq_1.FIXEDCELLS__SCREEN_consensus_peaks.bed',\n",
       " 'BIO_ddseq_2.15k': '../SCREEN_peaks/BIO_ddseq_2.FIXEDCELLS__SCREEN_consensus_peaks.bed',\n",
       " 'BIO_ddseq_3.15k': '../SCREEN_peaks/BIO_ddseq_3.FIXEDCELLS__SCREEN_consensus_peaks.bed',\n",
       " 'BIO_ddseq_4.15k': '../SCREEN_peaks/BIO_ddseq_4.FIXEDCELLS__SCREEN_consensus_peaks.bed',\n",
       " 'BRO_mtscatac_1.15k': '../SCREEN_peaks/BRO_mtscatac_1.FIXEDCELLS__SCREEN_consensus_peaks.bed',\n",
       " 'BRO_mtscatac_2.15k': '../SCREEN_peaks/BRO_mtscatac_2.FIXEDCELLS__SCREEN_consensus_peaks.bed',\n",
       " 'CNA_10xmultiome_1.15k': '../SCREEN_peaks/CNA_10xmultiome_1.FIXEDCELLS__SCREEN_consensus_peaks.bed',\n",
       " 'CNA_10xmultiome_2.15k': '../SCREEN_peaks/CNA_10xmultiome_2.FIXEDCELLS__SCREEN_consensus_peaks.bed',\n",
       " 'CNA_10xv11_1.15k': '../SCREEN_peaks/CNA_10xv11_1.FIXEDCELLS__SCREEN_consensus_peaks.bed',\n",
       " 'CNA_10xv11_2.15k': '../SCREEN_peaks/CNA_10xv11_2.FIXEDCELLS__SCREEN_consensus_peaks.bed',\n",
       " 'CNA_10xv11_3.15k': '../SCREEN_peaks/CNA_10xv11_3.FIXEDCELLS__SCREEN_consensus_peaks.bed',\n",
       " 'CNA_10xv11_4.15k': '../SCREEN_peaks/CNA_10xv11_4.FIXEDCELLS__SCREEN_consensus_peaks.bed',\n",
       " 'CNA_10xv11_5.15k': '../SCREEN_peaks/CNA_10xv11_5.FIXEDCELLS__SCREEN_consensus_peaks.bed',\n",
       " 'CNA_10xv2_1.15k': '../SCREEN_peaks/CNA_10xv2_1.FIXEDCELLS__SCREEN_consensus_peaks.bed',\n",
       " 'CNA_10xv2_2.15k': '../SCREEN_peaks/CNA_10xv2_2.FIXEDCELLS__SCREEN_consensus_peaks.bed',\n",
       " 'CNA_hydrop_1.15k': '../SCREEN_peaks/CNA_hydrop_1.FIXEDCELLS__SCREEN_consensus_peaks.bed',\n",
       " 'CNA_hydrop_2.15k': '../SCREEN_peaks/CNA_hydrop_2.FIXEDCELLS__SCREEN_consensus_peaks.bed',\n",
       " 'CNA_hydrop_3.15k': '../SCREEN_peaks/CNA_hydrop_3.FIXEDCELLS__SCREEN_consensus_peaks.bed',\n",
       " 'CNA_mtscatac_1.15k': '../SCREEN_peaks/CNA_mtscatac_1.FIXEDCELLS__SCREEN_consensus_peaks.bed',\n",
       " 'CNA_mtscatac_2.15k': '../SCREEN_peaks/CNA_mtscatac_2.FIXEDCELLS__SCREEN_consensus_peaks.bed',\n",
       " 'EPF_hydrop_1.15k': '../SCREEN_peaks/EPF_hydrop_1.FIXEDCELLS__SCREEN_consensus_peaks.bed',\n",
       " 'EPF_hydrop_2.15k': '../SCREEN_peaks/EPF_hydrop_2.FIXEDCELLS__SCREEN_consensus_peaks.bed',\n",
       " 'EPF_hydrop_3.15k': '../SCREEN_peaks/EPF_hydrop_3.FIXEDCELLS__SCREEN_consensus_peaks.bed',\n",
       " 'EPF_hydrop_4.15k': '../SCREEN_peaks/EPF_hydrop_4.FIXEDCELLS__SCREEN_consensus_peaks.bed',\n",
       " 'HAR_ddseq_1.15k': '../SCREEN_peaks/HAR_ddseq_1.FIXEDCELLS__SCREEN_consensus_peaks.bed',\n",
       " 'HAR_ddseq_2.15k': '../SCREEN_peaks/HAR_ddseq_2.FIXEDCELLS__SCREEN_consensus_peaks.bed',\n",
       " 'MDC_mtscatac_1.15k': '../SCREEN_peaks/MDC_mtscatac_1.FIXEDCELLS__SCREEN_consensus_peaks.bed',\n",
       " 'MDC_mtscatac_2.15k': '../SCREEN_peaks/MDC_mtscatac_2.FIXEDCELLS__SCREEN_consensus_peaks.bed',\n",
       " 'OHS_s3atac_1.15k': '../SCREEN_peaks/OHS_s3atac_1.FIXEDCELLS__SCREEN_consensus_peaks.bed',\n",
       " 'OHS_s3atac_2.15k': '../SCREEN_peaks/OHS_s3atac_2.FIXEDCELLS__SCREEN_consensus_peaks.bed',\n",
       " 'SAN_10xmultiome_1.15k': '../SCREEN_peaks/SAN_10xmultiome_1.FIXEDCELLS__SCREEN_consensus_peaks.bed',\n",
       " 'SAN_10xmultiome_2.15k': '../SCREEN_peaks/SAN_10xmultiome_2.FIXEDCELLS__SCREEN_consensus_peaks.bed',\n",
       " 'STA_10xv11_1.15k': '../SCREEN_peaks/STA_10xv11_1.FIXEDCELLS__SCREEN_consensus_peaks.bed',\n",
       " 'STA_10xv11_2.15k': '../SCREEN_peaks/STA_10xv11_2.FIXEDCELLS__SCREEN_consensus_peaks.bed',\n",
       " 'TXG_10xv11_1.15k': '../SCREEN_peaks/TXG_10xv11_1.FIXEDCELLS__SCREEN_consensus_peaks.bed',\n",
       " 'TXG_10xv2_1.15k': '../SCREEN_peaks/TXG_10xv2_1.FIXEDCELLS__SCREEN_consensus_peaks.bed',\n",
       " 'TXG_10xv2_2.15k': '../SCREEN_peaks/TXG_10xv2_2.FIXEDCELLS__SCREEN_consensus_peaks.bed',\n",
       " 'UCS_ddseq_1.15k': '../SCREEN_peaks/UCS_ddseq_1.FIXEDCELLS__SCREEN_consensus_peaks.bed',\n",
       " 'UCS_ddseq_2.15k': '../SCREEN_peaks/UCS_ddseq_2.FIXEDCELLS__SCREEN_consensus_peaks.bed',\n",
       " 'VIB_10xmultiome_1.15k': '../SCREEN_peaks/VIB_10xmultiome_1.FIXEDCELLS__SCREEN_consensus_peaks.bed',\n",
       " 'VIB_10xmultiome_2.15k': '../SCREEN_peaks/VIB_10xmultiome_2.FIXEDCELLS__SCREEN_consensus_peaks.bed',\n",
       " 'VIB_10xv1_1.15k': '../SCREEN_peaks/VIB_10xv1_1.FIXEDCELLS__SCREEN_consensus_peaks.bed',\n",
       " 'VIB_10xv1_2.15k': '../SCREEN_peaks/VIB_10xv1_2.FIXEDCELLS__SCREEN_consensus_peaks.bed',\n",
       " 'VIB_10xv2_1.15k': '../SCREEN_peaks/VIB_10xv2_1.FIXEDCELLS__SCREEN_consensus_peaks.bed',\n",
       " 'VIB_10xv2_2.15k': '../SCREEN_peaks/VIB_10xv2_2.FIXEDCELLS__SCREEN_consensus_peaks.bed',\n",
       " 'VIB_hydrop_1.15k': '../SCREEN_peaks/VIB_hydrop_1.FIXEDCELLS__SCREEN_consensus_peaks.bed',\n",
       " 'VIB_hydrop_11.15k': '../SCREEN_peaks/VIB_hydrop_1.FIXEDCELLS__SCREEN_consensus_peaks.bed',\n",
       " 'VIB_hydrop_12.15k': '../SCREEN_peaks/VIB_hydrop_1.FIXEDCELLS__SCREEN_consensus_peaks.bed',\n",
       " 'VIB_hydrop_2.15k': '../SCREEN_peaks/VIB_hydrop_2.FIXEDCELLS__SCREEN_consensus_peaks.bed',\n",
       " 'VIB_hydrop_21.15k': '../SCREEN_peaks/VIB_hydrop_2.FIXEDCELLS__SCREEN_consensus_peaks.bed',\n",
       " 'VIB_hydrop_22.15k': '../SCREEN_peaks/VIB_hydrop_2.FIXEDCELLS__SCREEN_consensus_peaks.bed'}"
      ]
     },
     "execution_count": 13,
     "metadata": {},
     "output_type": "execute_result"
    }
   ],
   "source": [
    "regions_sub_dict"
   ]
  },
  {
   "cell_type": "code",
   "execution_count": 14,
   "id": "177d09f9-7f1b-4dbc-8969-4f8afca8e12f",
   "metadata": {
    "execution": {
     "iopub.execute_input": "2022-09-14T20:16:16.041161Z",
     "iopub.status.busy": "2022-09-14T20:16:16.040745Z",
     "iopub.status.idle": "2022-09-14T20:16:16.045872Z",
     "shell.execute_reply": "2022-09-14T20:16:16.045362Z"
    },
    "papermill": {
     "duration": 0.012404,
     "end_time": "2022-09-14T20:16:16.046843",
     "exception": false,
     "start_time": "2022-09-14T20:16:16.034439",
     "status": "completed"
    },
    "tags": []
   },
   "outputs": [
    {
     "data": {
      "text/plain": [
       "{'VIB_hydrop_1.15k', 'VIB_hydrop_2.15k'}"
      ]
     },
     "execution_count": 14,
     "metadata": {},
     "output_type": "execute_result"
    }
   ],
   "source": [
    "set(regions_sub_dict) == set(fragments_sub_dict)\n",
    "set(regions_sub_dict) - set(fragments_sub_dict)"
   ]
  },
  {
   "cell_type": "code",
   "execution_count": 15,
   "id": "e4524e19-a30c-49d3-a910-5bc39a9e349e",
   "metadata": {
    "execution": {
     "iopub.execute_input": "2022-09-14T20:16:16.080406Z",
     "iopub.status.busy": "2022-09-14T20:16:16.079962Z",
     "iopub.status.idle": "2022-09-14T20:16:16.083828Z",
     "shell.execute_reply": "2022-09-14T20:16:16.083287Z"
    },
    "papermill": {
     "duration": 0.018629,
     "end_time": "2022-09-14T20:16:16.089414",
     "exception": false,
     "start_time": "2022-09-14T20:16:16.070785",
     "status": "completed"
    },
    "tags": []
   },
   "outputs": [],
   "source": [
    "common = set(fragments_sub_dict).intersection(set(regions_sub_dict))"
   ]
  },
  {
   "cell_type": "code",
   "execution_count": 16,
   "id": "13650870-4b93-4373-a7de-dce223fa0d5a",
   "metadata": {
    "execution": {
     "iopub.execute_input": "2022-09-14T20:16:16.107216Z",
     "iopub.status.busy": "2022-09-14T20:16:16.106832Z",
     "iopub.status.idle": "2022-09-14T20:16:16.114040Z",
     "shell.execute_reply": "2022-09-14T20:16:16.113527Z"
    },
    "papermill": {
     "duration": 0.014719,
     "end_time": "2022-09-14T20:16:16.114975",
     "exception": false,
     "start_time": "2022-09-14T20:16:16.100256",
     "status": "completed"
    },
    "tags": []
   },
   "outputs": [
    {
     "data": {
      "text/plain": [
       "49"
      ]
     },
     "execution_count": 16,
     "metadata": {},
     "output_type": "execute_result"
    }
   ],
   "source": [
    "len(common)"
   ]
  },
  {
   "cell_type": "code",
   "execution_count": 17,
   "id": "b0652173-a623-4a34-babb-bfe872ac0bd0",
   "metadata": {
    "execution": {
     "iopub.execute_input": "2022-09-14T20:16:16.127522Z",
     "iopub.status.busy": "2022-09-14T20:16:16.127107Z",
     "iopub.status.idle": "2022-09-14T20:16:16.132732Z",
     "shell.execute_reply": "2022-09-14T20:16:16.131855Z"
    },
    "papermill": {
     "duration": 0.018418,
     "end_time": "2022-09-14T20:16:16.139266",
     "exception": false,
     "start_time": "2022-09-14T20:16:16.120848",
     "status": "completed"
    },
    "tags": []
   },
   "outputs": [],
   "source": [
    "regions_sub_dict = {x: regions_sub_dict[x] for x in list(common)}\n",
    "fragments_sub_dict = {x: fragments_sub_dict[x] for x in list(common)}"
   ]
  },
  {
   "cell_type": "code",
   "execution_count": 18,
   "id": "92ba8eb2-3d7d-4d66-9eed-a92a54433d2e",
   "metadata": {
    "execution": {
     "iopub.execute_input": "2022-09-14T20:16:16.158366Z",
     "iopub.status.busy": "2022-09-14T20:16:16.158172Z",
     "iopub.status.idle": "2022-09-14T20:16:16.161806Z",
     "shell.execute_reply": "2022-09-14T20:16:16.161248Z"
    },
    "papermill": {
     "duration": 0.012283,
     "end_time": "2022-09-14T20:16:16.163168",
     "exception": false,
     "start_time": "2022-09-14T20:16:16.150885",
     "status": "completed"
    },
    "tags": []
   },
   "outputs": [],
   "source": [
    "ray.shutdown()"
   ]
  },
  {
   "cell_type": "code",
   "execution_count": 19,
   "id": "0a585a26",
   "metadata": {
    "execution": {
     "iopub.execute_input": "2022-09-14T20:16:16.193593Z",
     "iopub.status.busy": "2022-09-14T20:16:16.193121Z",
     "iopub.status.idle": "2022-09-14T22:59:09.614690Z",
     "shell.execute_reply": "2022-09-14T22:59:09.614012Z"
    },
    "papermill": {
     "duration": 9773.457686,
     "end_time": "2022-09-14T22:59:09.634229",
     "exception": false,
     "start_time": "2022-09-14T20:16:16.176543",
     "status": "completed"
    },
    "tags": []
   },
   "outputs": [
    {
     "name": "stderr",
     "output_type": "stream",
     "text": [
      "2022-09-14 20:16:20,422\tINFO services.py:1470 -- View the Ray dashboard at \u001b[1m\u001b[32mhttp://127.0.0.1:8265\u001b[39m\u001b[22m\n"
     ]
    },
    {
     "name": "stdout",
     "output_type": "stream",
     "text": [
      "\u001b[2m\u001b[36m(compute_qc_stats_ray pid=2374183)\u001b[0m 2022-09-14 20:17:11,183 cisTopic     INFO     Reading TXG_10xv2_2.15k\n",
      "\u001b[2m\u001b[36m(compute_qc_stats_ray pid=2374182)\u001b[0m 2022-09-14 20:17:11,307 cisTopic     INFO     Reading BRO_mtscatac_2.15k\n",
      "\u001b[2m\u001b[36m(compute_qc_stats_ray pid=2374181)\u001b[0m 2022-09-14 20:17:11,324 cisTopic     INFO     Reading VIB_10xv2_1.15k\n"
     ]
    },
    {
     "name": "stdout",
     "output_type": "stream",
     "text": [
      "\u001b[2m\u001b[36m(compute_qc_stats_ray pid=2374180)\u001b[0m 2022-09-14 20:17:11,611 cisTopic     INFO     Reading OHS_s3atac_2.15k\n"
     ]
    },
    {
     "name": "stdout",
     "output_type": "stream",
     "text": [
      "\u001b[2m\u001b[36m(compute_qc_stats_ray pid=2374179)\u001b[0m 2022-09-14 20:17:11,775 cisTopic     INFO     Reading TXG_10xv2_1.15k\n"
     ]
    },
    {
     "name": "stdout",
     "output_type": "stream",
     "text": [
      "\u001b[2m\u001b[36m(compute_qc_stats_ray pid=2374178)\u001b[0m 2022-09-14 20:17:11,998 cisTopic     INFO     Reading VIB_hydrop_21.15k\n"
     ]
    },
    {
     "name": "stdout",
     "output_type": "stream",
     "text": [
      "\u001b[2m\u001b[36m(compute_qc_stats_ray pid=2374177)\u001b[0m 2022-09-14 20:17:12,268 cisTopic     INFO     Reading BIO_ddseq_4.15k\n"
     ]
    },
    {
     "name": "stdout",
     "output_type": "stream",
     "text": [
      "\u001b[2m\u001b[36m(compute_qc_stats_ray pid=2374175)\u001b[0m 2022-09-14 20:17:12,318 cisTopic     INFO     Reading VIB_10xmultiome_1.15k\n",
      "\u001b[2m\u001b[36m(compute_qc_stats_ray pid=2374174)\u001b[0m 2022-09-14 20:17:12,521 cisTopic     INFO     Reading TXG_10xv11_1.15k\n"
     ]
    },
    {
     "name": "stdout",
     "output_type": "stream",
     "text": [
      "\u001b[2m\u001b[36m(compute_qc_stats_ray pid=2374173)\u001b[0m 2022-09-14 20:17:12,929 cisTopic     INFO     Reading BRO_mtscatac_1.15k\n",
      "\u001b[2m\u001b[36m(compute_qc_stats_ray pid=2374171)\u001b[0m 2022-09-14 20:17:12,922 cisTopic     INFO     Reading BIO_ddseq_2.15k\n",
      "\u001b[2m\u001b[36m(compute_qc_stats_ray pid=2374170)\u001b[0m 2022-09-14 20:17:12,987 cisTopic     INFO     Reading CNA_10xv11_1.15k\n"
     ]
    },
    {
     "name": "stdout",
     "output_type": "stream",
     "text": [
      "\u001b[2m\u001b[36m(compute_qc_stats_ray pid=2374169)\u001b[0m 2022-09-14 20:17:13,161 cisTopic     INFO     Reading CNA_hydrop_2.15k\n",
      "\u001b[2m\u001b[36m(compute_qc_stats_ray pid=2374168)\u001b[0m 2022-09-14 20:17:13,297 cisTopic     INFO     Reading UCS_ddseq_2.15k\n"
     ]
    },
    {
     "name": "stdout",
     "output_type": "stream",
     "text": [
      "\u001b[2m\u001b[36m(compute_qc_stats_ray pid=2374166)\u001b[0m 2022-09-14 20:17:13,704 cisTopic     INFO     Reading STA_10xv11_1.15k\n",
      "\u001b[2m\u001b[36m(compute_qc_stats_ray pid=2374167)\u001b[0m 2022-09-14 20:17:13,757 cisTopic     INFO     Reading CNA_mtscatac_2.15k\n"
     ]
    },
    {
     "name": "stdout",
     "output_type": "stream",
     "text": [
      "\u001b[2m\u001b[36m(compute_qc_stats_ray pid=2374166)\u001b[0m 2022-09-14 20:21:40,632 cisTopic     INFO     Computing barcode rank plot for STA_10xv11_1.15k\n",
      "\u001b[2m\u001b[36m(compute_qc_stats_ray pid=2374166)\u001b[0m 2022-09-14 20:21:40,633 cisTopic     INFO     Counting fragments\n"
     ]
    },
    {
     "name": "stdout",
     "output_type": "stream",
     "text": [
      "\u001b[2m\u001b[36m(compute_qc_stats_ray pid=2374166)\u001b[0m 2022-09-14 20:21:47,708 cisTopic     INFO     Marking barcodes with more than 10\n"
     ]
    },
    {
     "name": "stdout",
     "output_type": "stream",
     "text": [
      "\u001b[2m\u001b[36m(compute_qc_stats_ray pid=2374166)\u001b[0m 2022-09-14 20:21:48,071 cisTopic     INFO     Returning plot data\n",
      "\u001b[2m\u001b[36m(compute_qc_stats_ray pid=2374166)\u001b[0m 2022-09-14 20:21:48,087 cisTopic     INFO     Returning valid barcodes\n"
     ]
    },
    {
     "name": "stdout",
     "output_type": "stream",
     "text": [
      "\u001b[2m\u001b[36m(compute_qc_stats_ray pid=2374175)\u001b[0m 2022-09-14 20:21:48,435 cisTopic     INFO     Computing barcode rank plot for VIB_10xmultiome_1.15k\n",
      "\u001b[2m\u001b[36m(compute_qc_stats_ray pid=2374175)\u001b[0m 2022-09-14 20:21:48,436 cisTopic     INFO     Counting fragments\n"
     ]
    },
    {
     "name": "stdout",
     "output_type": "stream",
     "text": [
      "\u001b[2m\u001b[36m(compute_qc_stats_ray pid=2374167)\u001b[0m 2022-09-14 20:21:50,267 cisTopic     INFO     Computing barcode rank plot for CNA_mtscatac_2.15k\n",
      "\u001b[2m\u001b[36m(compute_qc_stats_ray pid=2374167)\u001b[0m 2022-09-14 20:21:50,267 cisTopic     INFO     Counting fragments\n"
     ]
    },
    {
     "name": "stdout",
     "output_type": "stream",
     "text": [
      "\u001b[2m\u001b[36m(compute_qc_stats_ray pid=2374166)\u001b[0m 2022-09-14 20:21:56,744 cisTopic     INFO     Computing duplicate rate plot for STA_10xv11_1.15k\n"
     ]
    },
    {
     "name": "stdout",
     "output_type": "stream",
     "text": [
      "\u001b[2m\u001b[36m(compute_qc_stats_ray pid=2374175)\u001b[0m 2022-09-14 20:21:57,688 cisTopic     INFO     Marking barcodes with more than 10\n"
     ]
    },
    {
     "name": "stdout",
     "output_type": "stream",
     "text": [
      "\u001b[2m\u001b[36m(compute_qc_stats_ray pid=2374175)\u001b[0m 2022-09-14 20:21:58,154 cisTopic     INFO     Returning plot data\n",
      "\u001b[2m\u001b[36m(compute_qc_stats_ray pid=2374175)\u001b[0m 2022-09-14 20:21:58,156 cisTopic     INFO     Returning valid barcodes\n"
     ]
    },
    {
     "name": "stdout",
     "output_type": "stream",
     "text": [
      "\u001b[2m\u001b[36m(compute_qc_stats_ray pid=2374167)\u001b[0m 2022-09-14 20:21:58,900 cisTopic     INFO     Marking barcodes with more than 10\n"
     ]
    },
    {
     "name": "stdout",
     "output_type": "stream",
     "text": [
      "\u001b[2m\u001b[36m(compute_qc_stats_ray pid=2374167)\u001b[0m 2022-09-14 20:21:59,262 cisTopic     INFO     Returning plot data\n",
      "\u001b[2m\u001b[36m(compute_qc_stats_ray pid=2374167)\u001b[0m 2022-09-14 20:21:59,263 cisTopic     INFO     Returning valid barcodes\n"
     ]
    },
    {
     "name": "stdout",
     "output_type": "stream",
     "text": [
      "\u001b[2m\u001b[36m(compute_qc_stats_ray pid=2374175)\u001b[0m 2022-09-14 20:22:07,044 cisTopic     INFO     Computing duplicate rate plot for VIB_10xmultiome_1.15k\n"
     ]
    },
    {
     "name": "stdout",
     "output_type": "stream",
     "text": [
      "\u001b[2m\u001b[36m(compute_qc_stats_ray pid=2374167)\u001b[0m 2022-09-14 20:22:08,334 cisTopic     INFO     Computing duplicate rate plot for CNA_mtscatac_2.15k\n"
     ]
    },
    {
     "name": "stdout",
     "output_type": "stream",
     "text": [
      "\u001b[2m\u001b[36m(compute_qc_stats_ray pid=2374166)\u001b[0m 2022-09-14 20:22:09,546 cisTopic     INFO     Return plot data\n"
     ]
    },
    {
     "name": "stdout",
     "output_type": "stream",
     "text": [
      "\u001b[2m\u001b[36m(compute_qc_stats_ray pid=2374166)\u001b[0m 2022-09-14 20:22:10,825 cisTopic     INFO     Computing insert size distribution for STA_10xv11_1.15k\n",
      "\u001b[2m\u001b[36m(compute_qc_stats_ray pid=2374166)\u001b[0m 2022-09-14 20:22:10,825 cisTopic     INFO     Counting fragments\n"
     ]
    },
    {
     "name": "stdout",
     "output_type": "stream",
     "text": [
      "\u001b[2m\u001b[36m(compute_qc_stats_ray pid=2374166)\u001b[0m 2022-09-14 20:22:13,833 cisTopic     INFO     Returning plot data\n"
     ]
    },
    {
     "name": "stdout",
     "output_type": "stream",
     "text": [
      "\u001b[2m\u001b[36m(compute_qc_stats_ray pid=2374167)\u001b[0m 2022-09-14 20:22:23,133 cisTopic     INFO     Return plot data\n"
     ]
    },
    {
     "name": "stdout",
     "output_type": "stream",
     "text": [
      "\u001b[2m\u001b[36m(compute_qc_stats_ray pid=2374167)\u001b[0m 2022-09-14 20:22:24,514 cisTopic     INFO     Computing insert size distribution for CNA_mtscatac_2.15k\n",
      "\u001b[2m\u001b[36m(compute_qc_stats_ray pid=2374167)\u001b[0m 2022-09-14 20:22:24,514 cisTopic     INFO     Counting fragments\n"
     ]
    },
    {
     "name": "stdout",
     "output_type": "stream",
     "text": [
      "\u001b[2m\u001b[36m(compute_qc_stats_ray pid=2374167)\u001b[0m 2022-09-14 20:22:28,073 cisTopic     INFO     Returning plot data\n"
     ]
    },
    {
     "name": "stdout",
     "output_type": "stream",
     "text": [
      "\u001b[2m\u001b[36m(compute_qc_stats_ray pid=2374175)\u001b[0m 2022-09-14 20:22:38,212 cisTopic     INFO     Return plot data\n"
     ]
    },
    {
     "name": "stdout",
     "output_type": "stream",
     "text": [
      "\u001b[2m\u001b[36m(compute_qc_stats_ray pid=2374175)\u001b[0m 2022-09-14 20:22:39,584 cisTopic     INFO     Computing insert size distribution for VIB_10xmultiome_1.15k\n",
      "\u001b[2m\u001b[36m(compute_qc_stats_ray pid=2374175)\u001b[0m 2022-09-14 20:22:39,584 cisTopic     INFO     Counting fragments\n"
     ]
    },
    {
     "name": "stdout",
     "output_type": "stream",
     "text": [
      "\u001b[2m\u001b[36m(compute_qc_stats_ray pid=2374175)\u001b[0m 2022-09-14 20:22:43,024 cisTopic     INFO     Returning plot data\n"
     ]
    },
    {
     "name": "stdout",
     "output_type": "stream",
     "text": [
      "\u001b[2m\u001b[36m(compute_qc_stats_ray pid=2374178)\u001b[0m 2022-09-14 20:22:56,706 cisTopic     INFO     Computing barcode rank plot for VIB_hydrop_21.15k\n",
      "\u001b[2m\u001b[36m(compute_qc_stats_ray pid=2374178)\u001b[0m 2022-09-14 20:22:56,706 cisTopic     INFO     Counting fragments\n"
     ]
    },
    {
     "name": "stdout",
     "output_type": "stream",
     "text": [
      "\u001b[2m\u001b[36m(compute_qc_stats_ray pid=2374178)\u001b[0m 2022-09-14 20:23:07,823 cisTopic     INFO     Marking barcodes with more than 10\n"
     ]
    },
    {
     "name": "stdout",
     "output_type": "stream",
     "text": [
      "\u001b[2m\u001b[36m(compute_qc_stats_ray pid=2374178)\u001b[0m 2022-09-14 20:23:08,293 cisTopic     INFO     Returning plot data\n"
     ]
    },
    {
     "name": "stdout",
     "output_type": "stream",
     "text": [
      "\u001b[2m\u001b[36m(compute_qc_stats_ray pid=2374178)\u001b[0m 2022-09-14 20:23:08,463 cisTopic     INFO     Returning valid barcodes\n"
     ]
    },
    {
     "name": "stdout",
     "output_type": "stream",
     "text": [
      "\u001b[2m\u001b[36m(compute_qc_stats_ray pid=2374166)\u001b[0m 2022-09-14 20:23:12,162 cisTopic     INFO     Computing TSS profile for STA_10xv11_1.15k\n"
     ]
    },
    {
     "name": "stdout",
     "output_type": "stream",
     "text": [
      "\u001b[2m\u001b[36m(compute_qc_stats_ray pid=2374166)\u001b[0m 2022-09-14 20:23:23,382 cisTopic     INFO     Formatting annnotation\n"
     ]
    },
    {
     "name": "stdout",
     "output_type": "stream",
     "text": [
      "\u001b[2m\u001b[36m(compute_qc_stats_ray pid=2374166)\u001b[0m 2022-09-14 20:23:24,428 cisTopic     INFO     Creating coverage matrix\n"
     ]
    },
    {
     "name": "stdout",
     "output_type": "stream",
     "text": [
      "\u001b[2m\u001b[36m(compute_qc_stats_ray pid=2374167)\u001b[0m 2022-09-14 20:23:34,280 cisTopic     INFO     Computing TSS profile for CNA_mtscatac_2.15k\n"
     ]
    },
    {
     "name": "stdout",
     "output_type": "stream",
     "text": [
      "\u001b[2m\u001b[36m(compute_qc_stats_ray pid=2374178)\u001b[0m 2022-09-14 20:23:44,014 cisTopic     INFO     Computing duplicate rate plot for VIB_hydrop_21.15k\n"
     ]
    },
    {
     "name": "stdout",
     "output_type": "stream",
     "text": [
      "\u001b[2m\u001b[36m(compute_qc_stats_ray pid=2374167)\u001b[0m 2022-09-14 20:23:44,489 cisTopic     INFO     Formatting annnotation\n"
     ]
    },
    {
     "name": "stdout",
     "output_type": "stream",
     "text": [
      "\u001b[2m\u001b[36m(compute_qc_stats_ray pid=2374167)\u001b[0m 2022-09-14 20:23:45,431 cisTopic     INFO     Creating coverage matrix\n"
     ]
    },
    {
     "name": "stdout",
     "output_type": "stream",
     "text": [
      "\u001b[2m\u001b[36m(compute_qc_stats_ray pid=2374175)\u001b[0m 2022-09-14 20:23:50,845 cisTopic     INFO     Computing TSS profile for VIB_10xmultiome_1.15k\n"
     ]
    },
    {
     "name": "stdout",
     "output_type": "stream",
     "text": [
      "\u001b[2m\u001b[36m(compute_qc_stats_ray pid=2374178)\u001b[0m 2022-09-14 20:24:02,410 cisTopic     INFO     Return plot data\n"
     ]
    },
    {
     "name": "stdout",
     "output_type": "stream",
     "text": [
      "\u001b[2m\u001b[36m(compute_qc_stats_ray pid=2374178)\u001b[0m 2022-09-14 20:24:03,812 cisTopic     INFO     Computing insert size distribution for VIB_hydrop_21.15k\n",
      "\u001b[2m\u001b[36m(compute_qc_stats_ray pid=2374178)\u001b[0m 2022-09-14 20:24:03,813 cisTopic     INFO     Counting fragments\n"
     ]
    },
    {
     "name": "stdout",
     "output_type": "stream",
     "text": [
      "\u001b[2m\u001b[36m(compute_qc_stats_ray pid=2374175)\u001b[0m 2022-09-14 20:24:05,192 cisTopic     INFO     Formatting annnotation\n"
     ]
    },
    {
     "name": "stdout",
     "output_type": "stream",
     "text": [
      "\u001b[2m\u001b[36m(compute_qc_stats_ray pid=2374175)\u001b[0m 2022-09-14 20:24:06,182 cisTopic     INFO     Creating coverage matrix\n"
     ]
    },
    {
     "name": "stdout",
     "output_type": "stream",
     "text": [
      "\u001b[2m\u001b[36m(compute_qc_stats_ray pid=2374169)\u001b[0m 2022-09-14 20:24:06,326 cisTopic     INFO     Computing barcode rank plot for CNA_hydrop_2.15k\n",
      "\u001b[2m\u001b[36m(compute_qc_stats_ray pid=2374169)\u001b[0m 2022-09-14 20:24:06,327 cisTopic     INFO     Counting fragments\n"
     ]
    },
    {
     "name": "stdout",
     "output_type": "stream",
     "text": [
      "\u001b[2m\u001b[36m(compute_qc_stats_ray pid=2374178)\u001b[0m 2022-09-14 20:24:07,687 cisTopic     INFO     Returning plot data\n"
     ]
    },
    {
     "name": "stdout",
     "output_type": "stream",
     "text": [
      "\u001b[2m\u001b[36m(compute_qc_stats_ray pid=2374180)\u001b[0m 2022-09-14 20:24:16,985 cisTopic     INFO     Computing barcode rank plot for OHS_s3atac_2.15k\n",
      "\u001b[2m\u001b[36m(compute_qc_stats_ray pid=2374180)\u001b[0m 2022-09-14 20:24:16,985 cisTopic     INFO     Counting fragments\n"
     ]
    },
    {
     "name": "stdout",
     "output_type": "stream",
     "text": [
      "\u001b[2m\u001b[36m(compute_qc_stats_ray pid=2374169)\u001b[0m 2022-09-14 20:24:19,029 cisTopic     INFO     Marking barcodes with more than 10\n"
     ]
    },
    {
     "name": "stdout",
     "output_type": "stream",
     "text": [
      "\u001b[2m\u001b[36m(compute_qc_stats_ray pid=2374169)\u001b[0m 2022-09-14 20:24:19,525 cisTopic     INFO     Returning plot data\n"
     ]
    },
    {
     "name": "stdout",
     "output_type": "stream",
     "text": [
      "\u001b[2m\u001b[36m(compute_qc_stats_ray pid=2374169)\u001b[0m 2022-09-14 20:24:19,729 cisTopic     INFO     Returning valid barcodes\n"
     ]
    },
    {
     "name": "stdout",
     "output_type": "stream",
     "text": [
      "\u001b[2m\u001b[36m(compute_qc_stats_ray pid=2374180)\u001b[0m 2022-09-14 20:24:26,757 cisTopic     INFO     Marking barcodes with more than 10\n",
      "\u001b[2m\u001b[36m(compute_qc_stats_ray pid=2374180)\u001b[0m 2022-09-14 20:24:26,851 cisTopic     INFO     Returning plot data\n",
      "\u001b[2m\u001b[36m(compute_qc_stats_ray pid=2374180)\u001b[0m 2022-09-14 20:24:26,852 cisTopic     INFO     Returning valid barcodes\n"
     ]
    },
    {
     "name": "stdout",
     "output_type": "stream",
     "text": [
      "\u001b[2m\u001b[36m(compute_qc_stats_ray pid=2374169)\u001b[0m 2022-09-14 20:24:31,880 cisTopic     INFO     Computing duplicate rate plot for CNA_hydrop_2.15k\n"
     ]
    },
    {
     "name": "stdout",
     "output_type": "stream",
     "text": [
      "\u001b[2m\u001b[36m(compute_qc_stats_ray pid=2374180)\u001b[0m 2022-09-14 20:24:40,017 cisTopic     INFO     Computing duplicate rate plot for OHS_s3atac_2.15k\n"
     ]
    },
    {
     "name": "stdout",
     "output_type": "stream",
     "text": [
      "\u001b[2m\u001b[36m(compute_qc_stats_ray pid=2374169)\u001b[0m 2022-09-14 20:24:51,945 cisTopic     INFO     Return plot data\n"
     ]
    },
    {
     "name": "stdout",
     "output_type": "stream",
     "text": [
      "\u001b[2m\u001b[36m(compute_qc_stats_ray pid=2374169)\u001b[0m 2022-09-14 20:24:53,300 cisTopic     INFO     Computing insert size distribution for CNA_hydrop_2.15k\n",
      "\u001b[2m\u001b[36m(compute_qc_stats_ray pid=2374169)\u001b[0m 2022-09-14 20:24:53,300 cisTopic     INFO     Counting fragments\n"
     ]
    },
    {
     "name": "stdout",
     "output_type": "stream",
     "text": [
      "\u001b[2m\u001b[36m(compute_qc_stats_ray pid=2374180)\u001b[0m 2022-09-14 20:24:54,902 cisTopic     INFO     Return plot data\n"
     ]
    },
    {
     "name": "stdout",
     "output_type": "stream",
     "text": [
      "\u001b[2m\u001b[36m(compute_qc_stats_ray pid=2374180)\u001b[0m 2022-09-14 20:24:56,238 cisTopic     INFO     Computing insert size distribution for OHS_s3atac_2.15k\n",
      "\u001b[2m\u001b[36m(compute_qc_stats_ray pid=2374180)\u001b[0m 2022-09-14 20:24:56,238 cisTopic     INFO     Counting fragments\n"
     ]
    },
    {
     "name": "stdout",
     "output_type": "stream",
     "text": [
      "\u001b[2m\u001b[36m(compute_qc_stats_ray pid=2374169)\u001b[0m 2022-09-14 20:24:58,100 cisTopic     INFO     Returning plot data\n"
     ]
    },
    {
     "name": "stdout",
     "output_type": "stream",
     "text": [
      "\u001b[2m\u001b[36m(compute_qc_stats_ray pid=2374180)\u001b[0m 2022-09-14 20:25:02,530 cisTopic     INFO     Returning plot data\n"
     ]
    },
    {
     "name": "stdout",
     "output_type": "stream",
     "text": [
      "\u001b[2m\u001b[36m(compute_qc_stats_ray pid=2374181)\u001b[0m 2022-09-14 20:25:17,518 cisTopic     INFO     Computing barcode rank plot for VIB_10xv2_1.15k\n",
      "\u001b[2m\u001b[36m(compute_qc_stats_ray pid=2374181)\u001b[0m 2022-09-14 20:25:17,518 cisTopic     INFO     Counting fragments\n"
     ]
    },
    {
     "name": "stdout",
     "output_type": "stream",
     "text": [
      "\u001b[2m\u001b[36m(compute_qc_stats_ray pid=2374178)\u001b[0m 2022-09-14 20:25:25,932 cisTopic     INFO     Computing TSS profile for VIB_hydrop_21.15k\n"
     ]
    },
    {
     "name": "stdout",
     "output_type": "stream",
     "text": [
      "\u001b[2m\u001b[36m(compute_qc_stats_ray pid=2374182)\u001b[0m 2022-09-14 20:25:30,025 cisTopic     INFO     Computing barcode rank plot for BRO_mtscatac_2.15k\n",
      "\u001b[2m\u001b[36m(compute_qc_stats_ray pid=2374182)\u001b[0m 2022-09-14 20:25:30,026 cisTopic     INFO     Counting fragments\n"
     ]
    },
    {
     "name": "stdout",
     "output_type": "stream",
     "text": [
      "\u001b[2m\u001b[36m(compute_qc_stats_ray pid=2374181)\u001b[0m 2022-09-14 20:25:35,868 cisTopic     INFO     Marking barcodes with more than 10\n"
     ]
    },
    {
     "name": "stdout",
     "output_type": "stream",
     "text": [
      "\u001b[2m\u001b[36m(compute_qc_stats_ray pid=2374181)\u001b[0m 2022-09-14 20:25:36,374 cisTopic     INFO     Returning plot data\n",
      "\u001b[2m\u001b[36m(compute_qc_stats_ray pid=2374181)\u001b[0m 2022-09-14 20:25:36,393 cisTopic     INFO     Returning valid barcodes\n"
     ]
    },
    {
     "name": "stdout",
     "output_type": "stream",
     "text": [
      "\u001b[2m\u001b[36m(compute_qc_stats_ray pid=2374170)\u001b[0m 2022-09-14 20:25:43,172 cisTopic     INFO     Computing barcode rank plot for CNA_10xv11_1.15k\n",
      "\u001b[2m\u001b[36m(compute_qc_stats_ray pid=2374170)\u001b[0m 2022-09-14 20:25:43,172 cisTopic     INFO     Counting fragments\n"
     ]
    },
    {
     "name": "stdout",
     "output_type": "stream",
     "text": [
      "\u001b[2m\u001b[36m(compute_qc_stats_ray pid=2374167)\u001b[0m 2022-09-14 20:25:48,771 cisTopic     INFO     Coverage matrix done\n"
     ]
    },
    {
     "name": "stdout",
     "output_type": "stream",
     "text": [
      "\u001b[2m\u001b[36m(compute_qc_stats_ray pid=2374173)\u001b[0m 2022-09-14 20:25:50,288 cisTopic     INFO     Computing barcode rank plot for BRO_mtscatac_1.15k\n",
      "\u001b[2m\u001b[36m(compute_qc_stats_ray pid=2374173)\u001b[0m 2022-09-14 20:25:50,288 cisTopic     INFO     Counting fragments\n"
     ]
    },
    {
     "name": "stdout",
     "output_type": "stream",
     "text": [
      "\u001b[2m\u001b[36m(compute_qc_stats_ray pid=2374182)\u001b[0m 2022-09-14 20:25:51,637 cisTopic     INFO     Marking barcodes with more than 10\n"
     ]
    },
    {
     "name": "stdout",
     "output_type": "stream",
     "text": [
      "\u001b[2m\u001b[36m(compute_qc_stats_ray pid=2374166)\u001b[0m 2022-09-14 20:25:51,883 cisTopic     INFO     Coverage matrix done\n"
     ]
    },
    {
     "name": "stdout",
     "output_type": "stream",
     "text": [
      "\u001b[2m\u001b[36m(compute_qc_stats_ray pid=2374182)\u001b[0m 2022-09-14 20:25:52,450 cisTopic     INFO     Returning plot data\n",
      "\u001b[2m\u001b[36m(compute_qc_stats_ray pid=2374182)\u001b[0m 2022-09-14 20:25:52,452 cisTopic     INFO     Returning valid barcodes\n"
     ]
    },
    {
     "name": "stdout",
     "output_type": "stream",
     "text": [
      "\u001b[2m\u001b[36m(compute_qc_stats_ray pid=2374181)\u001b[0m 2022-09-14 20:25:57,268 cisTopic     INFO     Computing duplicate rate plot for VIB_10xv2_1.15k\n"
     ]
    },
    {
     "name": "stdout",
     "output_type": "stream",
     "text": [
      "\u001b[2m\u001b[36m(compute_qc_stats_ray pid=2374178)\u001b[0m 2022-09-14 20:25:57,445 cisTopic     INFO     Formatting annnotation\n"
     ]
    },
    {
     "name": "stdout",
     "output_type": "stream",
     "text": [
      "\u001b[2m\u001b[36m(compute_qc_stats_ray pid=2374178)\u001b[0m 2022-09-14 20:25:58,497 cisTopic     INFO     Creating coverage matrix\n"
     ]
    },
    {
     "name": "stdout",
     "output_type": "stream",
     "text": [
      "\u001b[2m\u001b[36m(compute_qc_stats_ray pid=2374170)\u001b[0m 2022-09-14 20:26:02,295 cisTopic     INFO     Marking barcodes with more than 10\n"
     ]
    },
    {
     "name": "stdout",
     "output_type": "stream",
     "text": [
      "\u001b[2m\u001b[36m(compute_qc_stats_ray pid=2374170)\u001b[0m 2022-09-14 20:26:03,107 cisTopic     INFO     Returning plot data\n",
      "\u001b[2m\u001b[36m(compute_qc_stats_ray pid=2374170)\u001b[0m 2022-09-14 20:26:03,110 cisTopic     INFO     Returning valid barcodes\n"
     ]
    },
    {
     "name": "stdout",
     "output_type": "stream",
     "text": [
      "\u001b[2m\u001b[36m(compute_qc_stats_ray pid=2374182)\u001b[0m 2022-09-14 20:26:13,009 cisTopic     INFO     Computing duplicate rate plot for BRO_mtscatac_2.15k\n"
     ]
    },
    {
     "name": "stdout",
     "output_type": "stream",
     "text": [
      "\u001b[2m\u001b[36m(compute_qc_stats_ray pid=2374173)\u001b[0m 2022-09-14 20:26:13,252 cisTopic     INFO     Marking barcodes with more than 10\n"
     ]
    },
    {
     "name": "stdout",
     "output_type": "stream",
     "text": [
      "\u001b[2m\u001b[36m(compute_qc_stats_ray pid=2374173)\u001b[0m 2022-09-14 20:26:14,059 cisTopic     INFO     Returning plot data\n",
      "\u001b[2m\u001b[36m(compute_qc_stats_ray pid=2374173)\u001b[0m 2022-09-14 20:26:14,061 cisTopic     INFO     Returning valid barcodes\n"
     ]
    },
    {
     "name": "stdout",
     "output_type": "stream",
     "text": [
      "\u001b[2m\u001b[36m(compute_qc_stats_ray pid=2374170)\u001b[0m 2022-09-14 20:26:21,478 cisTopic     INFO     Computing duplicate rate plot for CNA_10xv11_1.15k\n"
     ]
    },
    {
     "name": "stdout",
     "output_type": "stream",
     "text": [
      "\u001b[2m\u001b[36m(compute_qc_stats_ray pid=2374177)\u001b[0m 2022-09-14 20:26:25,067 cisTopic     INFO     Computing barcode rank plot for BIO_ddseq_4.15k\n",
      "\u001b[2m\u001b[36m(compute_qc_stats_ray pid=2374177)\u001b[0m 2022-09-14 20:26:25,067 cisTopic     INFO     Counting fragments\n"
     ]
    },
    {
     "name": "stdout",
     "output_type": "stream",
     "text": [
      "\u001b[2m\u001b[36m(compute_qc_stats_ray pid=2374169)\u001b[0m 2022-09-14 20:26:29,918 cisTopic     INFO     Computing TSS profile for CNA_hydrop_2.15k\n"
     ]
    },
    {
     "name": "stdout",
     "output_type": "stream",
     "text": [
      "\u001b[2m\u001b[36m(compute_qc_stats_ray pid=2374167)\u001b[0m 2022-09-14 20:26:36,472 cisTopic     INFO     Returning normalized TSS coverage matrix per barcode\n"
     ]
    },
    {
     "name": "stdout",
     "output_type": "stream",
     "text": [
      "\u001b[2m\u001b[36m(compute_qc_stats_ray pid=2374173)\u001b[0m 2022-09-14 20:26:37,860 cisTopic     INFO     Computing duplicate rate plot for BRO_mtscatac_1.15k\n"
     ]
    },
    {
     "name": "stdout",
     "output_type": "stream",
     "text": [
      "\u001b[2m\u001b[36m(compute_qc_stats_ray pid=2374181)\u001b[0m 2022-09-14 20:26:40,971 cisTopic     INFO     Return plot data\n"
     ]
    },
    {
     "name": "stdout",
     "output_type": "stream",
     "text": [
      "\u001b[2m\u001b[36m(compute_qc_stats_ray pid=2374181)\u001b[0m 2022-09-14 20:26:42,298 cisTopic     INFO     Computing insert size distribution for VIB_10xv2_1.15k\n",
      "\u001b[2m\u001b[36m(compute_qc_stats_ray pid=2374181)\u001b[0m 2022-09-14 20:26:42,298 cisTopic     INFO     Counting fragments\n"
     ]
    },
    {
     "name": "stdout",
     "output_type": "stream",
     "text": [
      "\u001b[2m\u001b[36m(compute_qc_stats_ray pid=2374175)\u001b[0m 2022-09-14 20:26:45,147 cisTopic     INFO     Coverage matrix done\n"
     ]
    },
    {
     "name": "stdout",
     "output_type": "stream",
     "text": [
      "\u001b[2m\u001b[36m(compute_qc_stats_ray pid=2374181)\u001b[0m 2022-09-14 20:26:51,001 cisTopic     INFO     Returning plot data\n"
     ]
    },
    {
     "name": "stdout",
     "output_type": "stream",
     "text": [
      "\u001b[2m\u001b[36m(compute_qc_stats_ray pid=2374182)\u001b[0m 2022-09-14 20:26:52,586 cisTopic     INFO     Return plot data\n"
     ]
    },
    {
     "name": "stdout",
     "output_type": "stream",
     "text": [
      "\u001b[2m\u001b[36m(compute_qc_stats_ray pid=2374182)\u001b[0m 2022-09-14 20:26:53,920 cisTopic     INFO     Computing insert size distribution for BRO_mtscatac_2.15k\n",
      "\u001b[2m\u001b[36m(compute_qc_stats_ray pid=2374182)\u001b[0m 2022-09-14 20:26:53,920 cisTopic     INFO     Counting fragments\n"
     ]
    },
    {
     "name": "stdout",
     "output_type": "stream",
     "text": [
      "\u001b[2m\u001b[36m(compute_qc_stats_ray pid=2374170)\u001b[0m 2022-09-14 20:26:55,453 cisTopic     INFO     Return plot data\n"
     ]
    },
    {
     "name": "stdout",
     "output_type": "stream",
     "text": [
      "\u001b[2m\u001b[36m(compute_qc_stats_ray pid=2374170)\u001b[0m 2022-09-14 20:26:56,757 cisTopic     INFO     Computing insert size distribution for CNA_10xv11_1.15k\n",
      "\u001b[2m\u001b[36m(compute_qc_stats_ray pid=2374170)\u001b[0m 2022-09-14 20:26:56,757 cisTopic     INFO     Counting fragments\n"
     ]
    },
    {
     "name": "stdout",
     "output_type": "stream",
     "text": [
      "\u001b[2m\u001b[36m(compute_qc_stats_ray pid=2374182)\u001b[0m 2022-09-14 20:27:02,289 cisTopic     INFO     Returning plot data\n"
     ]
    },
    {
     "name": "stdout",
     "output_type": "stream",
     "text": [
      "\u001b[2m\u001b[36m(compute_qc_stats_ray pid=2374170)\u001b[0m 2022-09-14 20:27:04,151 cisTopic     INFO     Returning plot data\n"
     ]
    },
    {
     "name": "stdout",
     "output_type": "stream",
     "text": [
      "\u001b[2m\u001b[36m(compute_qc_stats_ray pid=2374180)\u001b[0m 2022-09-14 20:27:06,271 cisTopic     INFO     Computing TSS profile for OHS_s3atac_2.15k\n"
     ]
    },
    {
     "name": "stdout",
     "output_type": "stream",
     "text": [
      "\u001b[2m\u001b[36m(compute_qc_stats_ray pid=2374167)\u001b[0m 2022-09-14 20:27:10,018 cisTopic     INFO     Returning normalized sample TSS enrichment data\n"
     ]
    },
    {
     "name": "stdout",
     "output_type": "stream",
     "text": [
      "\u001b[2m\u001b[36m(compute_qc_stats_ray pid=2374167)\u001b[0m 2022-09-14 20:27:11,410 cisTopic     INFO     Computing FRIP profile for CNA_mtscatac_2.15k\n",
      "\u001b[2m\u001b[36m(compute_qc_stats_ray pid=2374169)\u001b[0m 2022-09-14 20:27:11,490 cisTopic     INFO     Formatting annnotation\n"
     ]
    },
    {
     "name": "stdout",
     "output_type": "stream",
     "text": [
      "\u001b[2m\u001b[36m(compute_qc_stats_ray pid=2374169)\u001b[0m 2022-09-14 20:27:12,514 cisTopic     INFO     Creating coverage matrix\n"
     ]
    },
    {
     "name": "stdout",
     "output_type": "stream",
     "text": [
      "\u001b[2m\u001b[36m(compute_qc_stats_ray pid=2374167)\u001b[0m 2022-09-14 20:27:17,377 cisTopic     INFO     Counting fragments\n"
     ]
    },
    {
     "name": "stdout",
     "output_type": "stream",
     "text": [
      "\u001b[2m\u001b[36m(compute_qc_stats_ray pid=2374173)\u001b[0m 2022-09-14 20:27:18,330 cisTopic     INFO     Return plot data\n"
     ]
    },
    {
     "name": "stdout",
     "output_type": "stream",
     "text": [
      "\u001b[2m\u001b[36m(compute_qc_stats_ray pid=2374173)\u001b[0m 2022-09-14 20:27:19,667 cisTopic     INFO     Computing insert size distribution for BRO_mtscatac_1.15k\n",
      "\u001b[2m\u001b[36m(compute_qc_stats_ray pid=2374173)\u001b[0m 2022-09-14 20:27:19,667 cisTopic     INFO     Counting fragments\n"
     ]
    },
    {
     "name": "stdout",
     "output_type": "stream",
     "text": [
      "\u001b[2m\u001b[36m(compute_qc_stats_ray pid=2374180)\u001b[0m 2022-09-14 20:27:25,436 cisTopic     INFO     Formatting annnotation\n"
     ]
    },
    {
     "name": "stdout",
     "output_type": "stream",
     "text": [
      "\u001b[2m\u001b[36m(compute_qc_stats_ray pid=2374180)\u001b[0m 2022-09-14 20:27:26,415 cisTopic     INFO     Creating coverage matrix\n"
     ]
    },
    {
     "name": "stdout",
     "output_type": "stream",
     "text": [
      "\u001b[2m\u001b[36m(compute_qc_stats_ray pid=2374177)\u001b[0m 2022-09-14 20:27:27,882 cisTopic     INFO     Marking barcodes with more than 10\n"
     ]
    },
    {
     "name": "stdout",
     "output_type": "stream",
     "text": [
      "\u001b[2m\u001b[36m(compute_qc_stats_ray pid=2374173)\u001b[0m 2022-09-14 20:27:28,911 cisTopic     INFO     Returning plot data\n"
     ]
    },
    {
     "name": "stdout",
     "output_type": "stream",
     "text": [
      "\u001b[2m\u001b[36m(compute_qc_stats_ray pid=2374167)\u001b[0m 2022-09-14 20:27:31,435 cisTopic     INFO     Intersecting fragments with regions\n"
     ]
    },
    {
     "name": "stdout",
     "output_type": "stream",
     "text": [
      "\u001b[2m\u001b[36m(compute_qc_stats_ray pid=2374177)\u001b[0m 2022-09-14 20:27:33,997 cisTopic     INFO     Returning plot data\n"
     ]
    },
    {
     "name": "stdout",
     "output_type": "stream",
     "text": [
      "\u001b[2m\u001b[36m(compute_qc_stats_ray pid=2374177)\u001b[0m 2022-09-14 20:27:34,283 cisTopic     INFO     Returning valid barcodes\n"
     ]
    },
    {
     "name": "stdout",
     "output_type": "stream",
     "text": [
      "\u001b[2m\u001b[36m(compute_qc_stats_ray pid=2374177)\u001b[0m 2022-09-14 20:27:55,062 cisTopic     INFO     Computing duplicate rate plot for BIO_ddseq_4.15k\n"
     ]
    },
    {
     "name": "stdout",
     "output_type": "stream",
     "text": [
      "\u001b[2m\u001b[36m(compute_qc_stats_ray pid=2374167)\u001b[0m 2022-09-14 20:28:16,626 cisTopic     INFO     Sample CNA_mtscatac_2.15k done!\n"
     ]
    },
    {
     "name": "stdout",
     "output_type": "stream",
     "text": [
      "\u001b[2m\u001b[36m(compute_qc_stats_ray pid=2374180)\u001b[0m 2022-09-14 20:29:14,311 cisTopic     INFO     Coverage matrix done\n"
     ]
    },
    {
     "name": "stdout",
     "output_type": "stream",
     "text": [
      "\u001b[2m\u001b[36m(compute_qc_stats_ray pid=2374181)\u001b[0m 2022-09-14 20:29:51,633 cisTopic     INFO     Computing TSS profile for VIB_10xv2_1.15k\n"
     ]
    },
    {
     "name": "stdout",
     "output_type": "stream",
     "text": [
      "\u001b[2m\u001b[36m(compute_qc_stats_ray pid=2374182)\u001b[0m 2022-09-14 20:30:01,557 cisTopic     INFO     Computing TSS profile for BRO_mtscatac_2.15k\n"
     ]
    },
    {
     "name": "stdout",
     "output_type": "stream",
     "text": [
      "\u001b[2m\u001b[36m(compute_qc_stats_ray pid=2374177)\u001b[0m 2022-09-14 20:30:04,500 cisTopic     INFO     Return plot data\n"
     ]
    },
    {
     "name": "stdout",
     "output_type": "stream",
     "text": [
      "\u001b[2m\u001b[36m(compute_qc_stats_ray pid=2374170)\u001b[0m 2022-09-14 20:30:05,213 cisTopic     INFO     Computing TSS profile for CNA_10xv11_1.15k\n"
     ]
    },
    {
     "name": "stdout",
     "output_type": "stream",
     "text": [
      "\u001b[2m\u001b[36m(compute_qc_stats_ray pid=2374177)\u001b[0m 2022-09-14 20:30:06,005 cisTopic     INFO     Computing insert size distribution for BIO_ddseq_4.15k\n",
      "\u001b[2m\u001b[36m(compute_qc_stats_ray pid=2374177)\u001b[0m 2022-09-14 20:30:06,005 cisTopic     INFO     Counting fragments\n"
     ]
    },
    {
     "name": "stdout",
     "output_type": "stream",
     "text": [
      "\u001b[2m\u001b[36m(compute_qc_stats_ray pid=2374166)\u001b[0m 2022-09-14 20:30:07,283 cisTopic     INFO     Returning normalized TSS coverage matrix per barcode\n"
     ]
    },
    {
     "name": "stdout",
     "output_type": "stream",
     "text": [
      "\u001b[2m\u001b[36m(compute_qc_stats_ray pid=2374177)\u001b[0m 2022-09-14 20:30:10,603 cisTopic     INFO     Returning plot data\n"
     ]
    },
    {
     "name": "stdout",
     "output_type": "stream",
     "text": [
      "\u001b[2m\u001b[36m(compute_qc_stats_ray pid=2374181)\u001b[0m 2022-09-14 20:30:15,015 cisTopic     INFO     Formatting annnotation\n"
     ]
    },
    {
     "name": "stdout",
     "output_type": "stream",
     "text": [
      "\u001b[2m\u001b[36m(compute_qc_stats_ray pid=2374181)\u001b[0m 2022-09-14 20:30:15,889 cisTopic     INFO     Creating coverage matrix\n"
     ]
    },
    {
     "name": "stdout",
     "output_type": "stream",
     "text": [
      "\u001b[2m\u001b[36m(compute_qc_stats_ray pid=2374182)\u001b[0m 2022-09-14 20:30:32,535 cisTopic     INFO     Formatting annnotation\n"
     ]
    },
    {
     "name": "stdout",
     "output_type": "stream",
     "text": [
      "\u001b[2m\u001b[36m(compute_qc_stats_ray pid=2374182)\u001b[0m 2022-09-14 20:30:33,506 cisTopic     INFO     Creating coverage matrix\n"
     ]
    },
    {
     "name": "stdout",
     "output_type": "stream",
     "text": [
      "\u001b[2m\u001b[36m(compute_qc_stats_ray pid=2374173)\u001b[0m 2022-09-14 20:30:39,816 cisTopic     INFO     Computing TSS profile for BRO_mtscatac_1.15k\n"
     ]
    },
    {
     "name": "stdout",
     "output_type": "stream",
     "text": [
      "\u001b[2m\u001b[36m(compute_qc_stats_ray pid=2374170)\u001b[0m 2022-09-14 20:30:42,425 cisTopic     INFO     Formatting annnotation\n"
     ]
    },
    {
     "name": "stdout",
     "output_type": "stream",
     "text": [
      "\u001b[2m\u001b[36m(compute_qc_stats_ray pid=2374170)\u001b[0m 2022-09-14 20:30:43,438 cisTopic     INFO     Creating coverage matrix\n"
     ]
    },
    {
     "name": "stdout",
     "output_type": "stream",
     "text": [
      "\u001b[2m\u001b[36m(compute_qc_stats_ray pid=2374171)\u001b[0m 2022-09-14 20:30:52,200 cisTopic     INFO     Computing barcode rank plot for BIO_ddseq_2.15k\n",
      "\u001b[2m\u001b[36m(compute_qc_stats_ray pid=2374171)\u001b[0m 2022-09-14 20:30:52,200 cisTopic     INFO     Counting fragments\n"
     ]
    },
    {
     "name": "stdout",
     "output_type": "stream",
     "text": [
      "\u001b[2m\u001b[36m(compute_qc_stats_ray pid=2374173)\u001b[0m 2022-09-14 20:31:12,951 cisTopic     INFO     Formatting annnotation\n"
     ]
    },
    {
     "name": "stdout",
     "output_type": "stream",
     "text": [
      "\u001b[2m\u001b[36m(compute_qc_stats_ray pid=2374173)\u001b[0m 2022-09-14 20:31:13,953 cisTopic     INFO     Creating coverage matrix\n"
     ]
    },
    {
     "name": "stdout",
     "output_type": "stream",
     "text": [
      "\u001b[2m\u001b[36m(compute_qc_stats_ray pid=2374177)\u001b[0m 2022-09-14 20:31:44,902 cisTopic     INFO     Computing TSS profile for BIO_ddseq_4.15k\n"
     ]
    },
    {
     "name": "stdout",
     "output_type": "stream",
     "text": [
      "\u001b[2m\u001b[36m(compute_qc_stats_ray pid=2374180)\u001b[0m 2022-09-14 20:32:01,236 cisTopic     INFO     Returning normalized TSS coverage matrix per barcode\n"
     ]
    },
    {
     "name": "stdout",
     "output_type": "stream",
     "text": [
      "\u001b[2m\u001b[36m(compute_qc_stats_ray pid=2374169)\u001b[0m 2022-09-14 20:32:05,197 cisTopic     INFO     Coverage matrix done\n"
     ]
    },
    {
     "name": "stdout",
     "output_type": "stream",
     "text": [
      "\u001b[2m\u001b[36m(compute_qc_stats_ray pid=2374171)\u001b[0m 2022-09-14 20:32:09,200 cisTopic     INFO     Marking barcodes with more than 10\n"
     ]
    },
    {
     "name": "stdout",
     "output_type": "stream",
     "text": [
      "\u001b[2m\u001b[36m(compute_qc_stats_ray pid=2374171)\u001b[0m 2022-09-14 20:32:14,022 cisTopic     INFO     Returning plot data\n"
     ]
    },
    {
     "name": "stdout",
     "output_type": "stream",
     "text": [
      "\u001b[2m\u001b[36m(compute_qc_stats_ray pid=2374171)\u001b[0m 2022-09-14 20:32:14,220 cisTopic     INFO     Returning valid barcodes\n"
     ]
    },
    {
     "name": "stdout",
     "output_type": "stream",
     "text": [
      "\u001b[2m\u001b[36m(compute_qc_stats_ray pid=2374175)\u001b[0m 2022-09-14 20:32:26,247 cisTopic     INFO     Returning normalized TSS coverage matrix per barcode\n"
     ]
    },
    {
     "name": "stdout",
     "output_type": "stream",
     "text": [
      "\u001b[2m\u001b[36m(compute_qc_stats_ray pid=2374177)\u001b[0m 2022-09-14 20:32:33,667 cisTopic     INFO     Formatting annnotation\n"
     ]
    },
    {
     "name": "stdout",
     "output_type": "stream",
     "text": [
      "\u001b[2m\u001b[36m(compute_qc_stats_ray pid=2374177)\u001b[0m 2022-09-14 20:32:34,568 cisTopic     INFO     Creating coverage matrix\n"
     ]
    },
    {
     "name": "stdout",
     "output_type": "stream",
     "text": [
      "\u001b[2m\u001b[36m(compute_qc_stats_ray pid=2374171)\u001b[0m 2022-09-14 20:32:38,957 cisTopic     INFO     Computing duplicate rate plot for BIO_ddseq_2.15k\n"
     ]
    },
    {
     "name": "stdout",
     "output_type": "stream",
     "text": [
      "\u001b[2m\u001b[36m(compute_qc_stats_ray pid=2374166)\u001b[0m 2022-09-14 20:32:44,210 cisTopic     INFO     Returning normalized sample TSS enrichment data\n"
     ]
    },
    {
     "name": "stdout",
     "output_type": "stream",
     "text": [
      "\u001b[2m\u001b[36m(compute_qc_stats_ray pid=2374166)\u001b[0m 2022-09-14 20:32:45,633 cisTopic     INFO     Computing FRIP profile for STA_10xv11_1.15k\n"
     ]
    },
    {
     "name": "stdout",
     "output_type": "stream",
     "text": [
      "\u001b[2m\u001b[36m(compute_qc_stats_ray pid=2374166)\u001b[0m 2022-09-14 20:32:52,491 cisTopic     INFO     Counting fragments\n"
     ]
    },
    {
     "name": "stdout",
     "output_type": "stream",
     "text": [
      "\u001b[2m\u001b[36m(compute_qc_stats_ray pid=2374168)\u001b[0m 2022-09-14 20:32:52,868 cisTopic     INFO     Computing barcode rank plot for UCS_ddseq_2.15k\n",
      "\u001b[2m\u001b[36m(compute_qc_stats_ray pid=2374168)\u001b[0m 2022-09-14 20:32:52,868 cisTopic     INFO     Counting fragments\n"
     ]
    },
    {
     "name": "stdout",
     "output_type": "stream",
     "text": [
      "\u001b[2m\u001b[36m(compute_qc_stats_ray pid=2374166)\u001b[0m 2022-09-14 20:33:02,641 cisTopic     INFO     Intersecting fragments with regions\n"
     ]
    },
    {
     "name": "stdout",
     "output_type": "stream",
     "text": [
      "\u001b[2m\u001b[36m(compute_qc_stats_ray pid=2374166)\u001b[0m 2022-09-14 20:33:28,348 cisTopic     INFO     Sample STA_10xv11_1.15k done!\n"
     ]
    },
    {
     "name": "stdout",
     "output_type": "stream",
     "text": [
      "\u001b[2m\u001b[36m(compute_qc_stats_ray pid=2374168)\u001b[0m 2022-09-14 20:33:53,207 cisTopic     INFO     Marking barcodes with more than 10\n"
     ]
    },
    {
     "name": "stdout",
     "output_type": "stream",
     "text": [
      "\u001b[2m\u001b[36m(compute_qc_stats_ray pid=2374180)\u001b[0m 2022-09-14 20:33:54,660 cisTopic     INFO     Returning normalized sample TSS enrichment data\n"
     ]
    },
    {
     "name": "stdout",
     "output_type": "stream",
     "text": [
      "\u001b[2m\u001b[36m(compute_qc_stats_ray pid=2374180)\u001b[0m 2022-09-14 20:33:55,753 cisTopic     INFO     Computing FRIP profile for OHS_s3atac_2.15k\n"
     ]
    },
    {
     "name": "stdout",
     "output_type": "stream",
     "text": [
      "\u001b[2m\u001b[36m(compute_qc_stats_ray pid=2374168)\u001b[0m 2022-09-14 20:33:56,245 cisTopic     INFO     Returning plot data\n",
      "\u001b[2m\u001b[36m(compute_qc_stats_ray pid=2374168)\u001b[0m 2022-09-14 20:33:56,249 cisTopic     INFO     Returning valid barcodes\n"
     ]
    },
    {
     "name": "stdout",
     "output_type": "stream",
     "text": [
      "\u001b[2m\u001b[36m(compute_qc_stats_ray pid=2374180)\u001b[0m 2022-09-14 20:34:00,904 cisTopic     INFO     Counting fragments\n"
     ]
    },
    {
     "name": "stdout",
     "output_type": "stream",
     "text": [
      "\u001b[2m\u001b[36m(compute_qc_stats_ray pid=2374178)\u001b[0m 2022-09-14 20:34:07,181 cisTopic     INFO     Coverage matrix done\n"
     ]
    },
    {
     "name": "stdout",
     "output_type": "stream",
     "text": [
      "\u001b[2m\u001b[36m(compute_qc_stats_ray pid=2374180)\u001b[0m 2022-09-14 20:34:17,572 cisTopic     INFO     Intersecting fragments with regions\n"
     ]
    },
    {
     "name": "stdout",
     "output_type": "stream",
     "text": [
      "\u001b[2m\u001b[36m(compute_qc_stats_ray pid=2374168)\u001b[0m 2022-09-14 20:34:23,811 cisTopic     INFO     Computing duplicate rate plot for UCS_ddseq_2.15k\n"
     ]
    },
    {
     "name": "stdout",
     "output_type": "stream",
     "text": [
      "\u001b[2m\u001b[36m(compute_qc_stats_ray pid=2374180)\u001b[0m 2022-09-14 20:34:42,061 cisTopic     INFO     Sample OHS_s3atac_2.15k done!\n"
     ]
    },
    {
     "name": "stdout",
     "output_type": "stream",
     "text": [
      "\u001b[2m\u001b[36m(compute_qc_stats_ray pid=2374171)\u001b[0m 2022-09-14 20:34:57,533 cisTopic     INFO     Return plot data\n"
     ]
    },
    {
     "name": "stdout",
     "output_type": "stream",
     "text": [
      "\u001b[2m\u001b[36m(compute_qc_stats_ray pid=2374171)\u001b[0m 2022-09-14 20:34:58,854 cisTopic     INFO     Computing insert size distribution for BIO_ddseq_2.15k\n",
      "\u001b[2m\u001b[36m(compute_qc_stats_ray pid=2374171)\u001b[0m 2022-09-14 20:34:58,854 cisTopic     INFO     Counting fragments\n"
     ]
    },
    {
     "name": "stdout",
     "output_type": "stream",
     "text": [
      "\u001b[2m\u001b[36m(compute_qc_stats_ray pid=2374171)\u001b[0m 2022-09-14 20:35:06,880 cisTopic     INFO     Returning plot data\n"
     ]
    },
    {
     "name": "stdout",
     "output_type": "stream",
     "text": [
      "\u001b[2m\u001b[36m(compute_qc_stats_ray pid=2374175)\u001b[0m 2022-09-14 20:35:55,790 cisTopic     INFO     Returning normalized sample TSS enrichment data\n"
     ]
    },
    {
     "name": "stdout",
     "output_type": "stream",
     "text": [
      "\u001b[2m\u001b[36m(compute_qc_stats_ray pid=2374175)\u001b[0m 2022-09-14 20:35:57,000 cisTopic     INFO     Computing FRIP profile for VIB_10xmultiome_1.15k\n"
     ]
    },
    {
     "name": "stdout",
     "output_type": "stream",
     "text": [
      "\u001b[2m\u001b[36m(compute_qc_stats_ray pid=2374175)\u001b[0m 2022-09-14 20:36:02,551 cisTopic     INFO     Counting fragments\n"
     ]
    },
    {
     "name": "stdout",
     "output_type": "stream",
     "text": [
      "\u001b[2m\u001b[36m(compute_qc_stats_ray pid=2374168)\u001b[0m 2022-09-14 20:36:07,683 cisTopic     INFO     Return plot data\n"
     ]
    },
    {
     "name": "stdout",
     "output_type": "stream",
     "text": [
      "\u001b[2m\u001b[36m(compute_qc_stats_ray pid=2374168)\u001b[0m 2022-09-14 20:36:08,876 cisTopic     INFO     Computing insert size distribution for UCS_ddseq_2.15k\n",
      "\u001b[2m\u001b[36m(compute_qc_stats_ray pid=2374168)\u001b[0m 2022-09-14 20:36:08,876 cisTopic     INFO     Counting fragments\n"
     ]
    },
    {
     "name": "stdout",
     "output_type": "stream",
     "text": [
      "\u001b[2m\u001b[36m(compute_qc_stats_ray pid=2374175)\u001b[0m 2022-09-14 20:36:13,254 cisTopic     INFO     Intersecting fragments with regions\n"
     ]
    },
    {
     "name": "stdout",
     "output_type": "stream",
     "text": [
      "\u001b[2m\u001b[36m(compute_qc_stats_ray pid=2374168)\u001b[0m 2022-09-14 20:36:19,070 cisTopic     INFO     Returning plot data\n"
     ]
    },
    {
     "name": "stdout",
     "output_type": "stream",
     "text": [
      "\u001b[2m\u001b[36m(compute_qc_stats_ray pid=2374175)\u001b[0m 2022-09-14 20:36:42,077 cisTopic     INFO     Sample VIB_10xmultiome_1.15k done!\n"
     ]
    },
    {
     "name": "stdout",
     "output_type": "stream",
     "text": [
      "\u001b[2m\u001b[36m(compute_qc_stats_ray pid=2374170)\u001b[0m 2022-09-14 20:36:52,246 cisTopic     INFO     Coverage matrix done\n"
     ]
    },
    {
     "name": "stdout",
     "output_type": "stream",
     "text": [
      "\u001b[2m\u001b[36m(compute_qc_stats_ray pid=2374171)\u001b[0m 2022-09-14 20:37:49,823 cisTopic     INFO     Computing TSS profile for BIO_ddseq_2.15k\n"
     ]
    },
    {
     "name": "stdout",
     "output_type": "stream",
     "text": [
      "\u001b[2m\u001b[36m(compute_qc_stats_ray pid=2374182)\u001b[0m 2022-09-14 20:38:24,673 cisTopic     INFO     Coverage matrix done\n"
     ]
    },
    {
     "name": "stdout",
     "output_type": "stream",
     "text": [
      "\u001b[2m\u001b[36m(compute_qc_stats_ray pid=2374171)\u001b[0m 2022-09-14 20:38:47,292 cisTopic     INFO     Formatting annnotation\n"
     ]
    },
    {
     "name": "stdout",
     "output_type": "stream",
     "text": [
      "\u001b[2m\u001b[36m(compute_qc_stats_ray pid=2374173)\u001b[0m 2022-09-14 20:38:47,640 cisTopic     INFO     Coverage matrix done\n"
     ]
    },
    {
     "name": "stdout",
     "output_type": "stream",
     "text": [
      "\u001b[2m\u001b[36m(compute_qc_stats_ray pid=2374171)\u001b[0m 2022-09-14 20:38:48,055 cisTopic     INFO     Creating coverage matrix\n"
     ]
    },
    {
     "name": "stdout",
     "output_type": "stream",
     "text": [
      "\u001b[2m\u001b[36m(compute_qc_stats_ray pid=2374183)\u001b[0m 2022-09-14 20:39:13,903 cisTopic     INFO     Computing barcode rank plot for TXG_10xv2_2.15k\n",
      "\u001b[2m\u001b[36m(compute_qc_stats_ray pid=2374183)\u001b[0m 2022-09-14 20:39:13,903 cisTopic     INFO     Counting fragments\n"
     ]
    },
    {
     "name": "stdout",
     "output_type": "stream",
     "text": [
      "\u001b[2m\u001b[36m(compute_qc_stats_ray pid=2374168)\u001b[0m 2022-09-14 20:39:33,872 cisTopic     INFO     Computing TSS profile for UCS_ddseq_2.15k\n"
     ]
    },
    {
     "name": "stdout",
     "output_type": "stream",
     "text": [
      "\u001b[2m\u001b[36m(compute_qc_stats_ray pid=2374179)\u001b[0m 2022-09-14 20:39:34,004 cisTopic     INFO     Computing barcode rank plot for TXG_10xv2_1.15k\n",
      "\u001b[2m\u001b[36m(compute_qc_stats_ray pid=2374179)\u001b[0m 2022-09-14 20:39:34,004 cisTopic     INFO     Counting fragments\n"
     ]
    },
    {
     "name": "stdout",
     "output_type": "stream",
     "text": [
      "\u001b[2m\u001b[36m(compute_qc_stats_ray pid=2374183)\u001b[0m 2022-09-14 20:40:02,919 cisTopic     INFO     Marking barcodes with more than 10\n"
     ]
    },
    {
     "name": "stdout",
     "output_type": "stream",
     "text": [
      "\u001b[2m\u001b[36m(compute_qc_stats_ray pid=2374183)\u001b[0m 2022-09-14 20:40:04,069 cisTopic     INFO     Returning plot data\n",
      "\u001b[2m\u001b[36m(compute_qc_stats_ray pid=2374183)\u001b[0m 2022-09-14 20:40:04,170 cisTopic     INFO     Returning valid barcodes\n"
     ]
    },
    {
     "name": "stdout",
     "output_type": "stream",
     "text": [
      "\u001b[2m\u001b[36m(compute_qc_stats_ray pid=2374179)\u001b[0m 2022-09-14 20:40:24,135 cisTopic     INFO     Marking barcodes with more than 10\n"
     ]
    },
    {
     "name": "stdout",
     "output_type": "stream",
     "text": [
      "\u001b[2m\u001b[36m(compute_qc_stats_ray pid=2374179)\u001b[0m 2022-09-14 20:40:25,141 cisTopic     INFO     Returning plot data\n",
      "\u001b[2m\u001b[36m(compute_qc_stats_ray pid=2374179)\u001b[0m 2022-09-14 20:40:25,210 cisTopic     INFO     Returning valid barcodes\n"
     ]
    },
    {
     "name": "stdout",
     "output_type": "stream",
     "text": [
      "\u001b[2m\u001b[36m(compute_qc_stats_ray pid=2374168)\u001b[0m 2022-09-14 20:40:38,526 cisTopic     INFO     Formatting annnotation\n"
     ]
    },
    {
     "name": "stdout",
     "output_type": "stream",
     "text": [
      "\u001b[2m\u001b[36m(compute_qc_stats_ray pid=2374168)\u001b[0m 2022-09-14 20:40:39,335 cisTopic     INFO     Creating coverage matrix\n"
     ]
    },
    {
     "name": "stdout",
     "output_type": "stream",
     "text": [
      "\u001b[2m\u001b[36m(compute_qc_stats_ray pid=2374174)\u001b[0m 2022-09-14 20:40:42,610 cisTopic     INFO     Computing barcode rank plot for TXG_10xv11_1.15k\n",
      "\u001b[2m\u001b[36m(compute_qc_stats_ray pid=2374174)\u001b[0m 2022-09-14 20:40:42,610 cisTopic     INFO     Counting fragments\n"
     ]
    },
    {
     "name": "stdout",
     "output_type": "stream",
     "text": [
      "\u001b[2m\u001b[36m(compute_qc_stats_ray pid=2374183)\u001b[0m 2022-09-14 20:41:00,291 cisTopic     INFO     Computing duplicate rate plot for TXG_10xv2_2.15k\n"
     ]
    },
    {
     "name": "stdout",
     "output_type": "stream",
     "text": [
      "\u001b[2m\u001b[36m(compute_qc_stats_ray pid=2374179)\u001b[0m 2022-09-14 20:41:21,910 cisTopic     INFO     Computing duplicate rate plot for TXG_10xv2_1.15k\n",
      "\u001b[2m\u001b[36m(compute_qc_stats_ray pid=2374181)\u001b[0m 2022-09-14 20:41:21,999 cisTopic     INFO     Coverage matrix done\n"
     ]
    },
    {
     "name": "stdout",
     "output_type": "stream",
     "text": [
      "\u001b[2m\u001b[36m(compute_qc_stats_ray pid=2374174)\u001b[0m 2022-09-14 20:41:36,022 cisTopic     INFO     Marking barcodes with more than 10\n"
     ]
    },
    {
     "name": "stdout",
     "output_type": "stream",
     "text": [
      "\u001b[2m\u001b[36m(compute_qc_stats_ray pid=2374174)\u001b[0m 2022-09-14 20:41:37,115 cisTopic     INFO     Returning plot data\n",
      "\u001b[2m\u001b[36m(compute_qc_stats_ray pid=2374174)\u001b[0m 2022-09-14 20:41:37,228 cisTopic     INFO     Returning valid barcodes\n"
     ]
    },
    {
     "name": "stdout",
     "output_type": "stream",
     "text": [
      "\u001b[2m\u001b[36m(compute_qc_stats_ray pid=2374182)\u001b[0m 2022-09-14 20:41:37,518 cisTopic     INFO     Returning normalized TSS coverage matrix per barcode\n"
     ]
    },
    {
     "name": "stdout",
     "output_type": "stream",
     "text": [
      "\u001b[2m\u001b[36m(compute_qc_stats_ray pid=2374177)\u001b[0m 2022-09-14 20:41:53,705 cisTopic     INFO     Coverage matrix done\n"
     ]
    },
    {
     "name": "stdout",
     "output_type": "stream",
     "text": [
      "\u001b[2m\u001b[36m(compute_qc_stats_ray pid=2374173)\u001b[0m 2022-09-14 20:42:13,906 cisTopic     INFO     Returning normalized TSS coverage matrix per barcode\n"
     ]
    },
    {
     "name": "stdout",
     "output_type": "stream",
     "text": [
      "\u001b[2m\u001b[36m(compute_qc_stats_ray pid=2374183)\u001b[0m 2022-09-14 20:42:19,788 cisTopic     INFO     Return plot data\n"
     ]
    },
    {
     "name": "stdout",
     "output_type": "stream",
     "text": [
      "\u001b[2m\u001b[36m(compute_qc_stats_ray pid=2374183)\u001b[0m 2022-09-14 20:42:20,896 cisTopic     INFO     Computing insert size distribution for TXG_10xv2_2.15k\n",
      "\u001b[2m\u001b[36m(compute_qc_stats_ray pid=2374183)\u001b[0m 2022-09-14 20:42:20,897 cisTopic     INFO     Counting fragments\n"
     ]
    },
    {
     "name": "stdout",
     "output_type": "stream",
     "text": [
      "\u001b[2m\u001b[36m(compute_qc_stats_ray pid=2374174)\u001b[0m 2022-09-14 20:42:27,423 cisTopic     INFO     Computing duplicate rate plot for TXG_10xv11_1.15k\n"
     ]
    },
    {
     "name": "stdout",
     "output_type": "stream",
     "text": [
      "\u001b[2m\u001b[36m(compute_qc_stats_ray pid=2374181)\u001b[0m 2022-09-14 20:42:27,859 cisTopic     INFO     Returning normalized TSS coverage matrix per barcode\n"
     ]
    },
    {
     "name": "stdout",
     "output_type": "stream",
     "text": [
      "\u001b[2m\u001b[36m(compute_qc_stats_ray pid=2374179)\u001b[0m 2022-09-14 20:42:42,121 cisTopic     INFO     Return plot data\n"
     ]
    },
    {
     "name": "stdout",
     "output_type": "stream",
     "text": [
      "\u001b[2m\u001b[36m(compute_qc_stats_ray pid=2374179)\u001b[0m 2022-09-14 20:42:43,175 cisTopic     INFO     Computing insert size distribution for TXG_10xv2_1.15k\n",
      "\u001b[2m\u001b[36m(compute_qc_stats_ray pid=2374179)\u001b[0m 2022-09-14 20:42:43,175 cisTopic     INFO     Counting fragments\n"
     ]
    },
    {
     "name": "stdout",
     "output_type": "stream",
     "text": [
      "\u001b[2m\u001b[36m(compute_qc_stats_ray pid=2374183)\u001b[0m 2022-09-14 20:42:43,526 cisTopic     INFO     Returning plot data\n"
     ]
    },
    {
     "name": "stdout",
     "output_type": "stream",
     "text": [
      "\u001b[2m\u001b[36m(compute_qc_stats_ray pid=2374179)\u001b[0m 2022-09-14 20:43:04,225 cisTopic     INFO     Returning plot data\n"
     ]
    },
    {
     "name": "stdout",
     "output_type": "stream",
     "text": [
      "\u001b[2m\u001b[36m(compute_qc_stats_ray pid=2374181)\u001b[0m 2022-09-14 20:43:15,664 cisTopic     INFO     Returning normalized sample TSS enrichment data\n"
     ]
    },
    {
     "name": "stdout",
     "output_type": "stream",
     "text": [
      "\u001b[2m\u001b[36m(compute_qc_stats_ray pid=2374181)\u001b[0m 2022-09-14 20:43:16,591 cisTopic     INFO     Computing FRIP profile for VIB_10xv2_1.15k\n"
     ]
    },
    {
     "name": "stdout",
     "output_type": "stream",
     "text": [
      "\u001b[2m\u001b[36m(compute_qc_stats_ray pid=2374181)\u001b[0m 2022-09-14 20:43:25,588 cisTopic     INFO     Counting fragments\n"
     ]
    },
    {
     "name": "stdout",
     "output_type": "stream",
     "text": [
      "\u001b[2m\u001b[36m(compute_qc_stats_ray pid=2374181)\u001b[0m 2022-09-14 20:43:48,403 cisTopic     INFO     Intersecting fragments with regions\n"
     ]
    },
    {
     "name": "stdout",
     "output_type": "stream",
     "text": [
      "\u001b[2m\u001b[36m(compute_qc_stats_ray pid=2374174)\u001b[0m 2022-09-14 20:43:52,423 cisTopic     INFO     Return plot data\n"
     ]
    },
    {
     "name": "stdout",
     "output_type": "stream",
     "text": [
      "\u001b[2m\u001b[36m(compute_qc_stats_ray pid=2374174)\u001b[0m 2022-09-14 20:43:53,696 cisTopic     INFO     Computing insert size distribution for TXG_10xv11_1.15k\n",
      "\u001b[2m\u001b[36m(compute_qc_stats_ray pid=2374174)\u001b[0m 2022-09-14 20:43:53,696 cisTopic     INFO     Counting fragments\n"
     ]
    },
    {
     "name": "stdout",
     "output_type": "stream",
     "text": [
      "\u001b[2m\u001b[36m(compute_qc_stats_ray pid=2374182)\u001b[0m 2022-09-14 20:43:58,502 cisTopic     INFO     Returning normalized sample TSS enrichment data\n"
     ]
    },
    {
     "name": "stdout",
     "output_type": "stream",
     "text": [
      "\u001b[2m\u001b[36m(compute_qc_stats_ray pid=2374182)\u001b[0m 2022-09-14 20:43:59,633 cisTopic     INFO     Computing FRIP profile for BRO_mtscatac_2.15k\n"
     ]
    },
    {
     "name": "stdout",
     "output_type": "stream",
     "text": [
      "\u001b[2m\u001b[36m(compute_qc_stats_ray pid=2374182)\u001b[0m 2022-09-14 20:44:09,724 cisTopic     INFO     Counting fragments\n"
     ]
    },
    {
     "name": "stdout",
     "output_type": "stream",
     "text": [
      "\u001b[2m\u001b[36m(compute_qc_stats_ray pid=2374174)\u001b[0m 2022-09-14 20:44:21,804 cisTopic     INFO     Returning plot data\n"
     ]
    },
    {
     "name": "stdout",
     "output_type": "stream",
     "text": [
      "\u001b[2m\u001b[36m(compute_qc_stats_ray pid=2374182)\u001b[0m 2022-09-14 20:44:37,162 cisTopic     INFO     Intersecting fragments with regions\n"
     ]
    },
    {
     "name": "stdout",
     "output_type": "stream",
     "text": [
      "\u001b[2m\u001b[36m(compute_qc_stats_ray pid=2374173)\u001b[0m 2022-09-14 20:44:52,187 cisTopic     INFO     Returning normalized sample TSS enrichment data\n"
     ]
    },
    {
     "name": "stdout",
     "output_type": "stream",
     "text": [
      "\u001b[2m\u001b[36m(compute_qc_stats_ray pid=2374173)\u001b[0m 2022-09-14 20:44:53,245 cisTopic     INFO     Computing FRIP profile for BRO_mtscatac_1.15k\n"
     ]
    },
    {
     "name": "stdout",
     "output_type": "stream",
     "text": [
      "\u001b[2m\u001b[36m(compute_qc_stats_ray pid=2374173)\u001b[0m 2022-09-14 20:45:01,352 cisTopic     INFO     Counting fragments\n"
     ]
    },
    {
     "name": "stdout",
     "output_type": "stream",
     "text": [
      "\u001b[2m\u001b[36m(compute_qc_stats_ray pid=2374173)\u001b[0m 2022-09-14 20:45:27,240 cisTopic     INFO     Intersecting fragments with regions\n"
     ]
    },
    {
     "name": "stdout",
     "output_type": "stream",
     "text": [
      "\u001b[2m\u001b[36m(compute_qc_stats_ray pid=2374170)\u001b[0m 2022-09-14 20:45:45,641 cisTopic     INFO     Returning normalized TSS coverage matrix per barcode\n"
     ]
    },
    {
     "name": "stdout",
     "output_type": "stream",
     "text": [
      "\u001b[2m\u001b[36m(compute_qc_stats_ray pid=2374181)\u001b[0m 2022-09-14 20:45:50,343 cisTopic     INFO     Sample VIB_10xv2_1.15k done!\n"
     ]
    },
    {
     "name": "stdout",
     "output_type": "stream",
     "text": [
      "\u001b[2m\u001b[36m(compute_qc_stats_ray pid=2374182)\u001b[0m 2022-09-14 20:46:16,280 cisTopic     INFO     Sample BRO_mtscatac_2.15k done!\n"
     ]
    },
    {
     "name": "stdout",
     "output_type": "stream",
     "text": [
      "\u001b[2m\u001b[36m(compute_qc_stats_ray pid=2374173)\u001b[0m 2022-09-14 20:47:04,447 cisTopic     INFO     Sample BRO_mtscatac_1.15k done!\n"
     ]
    },
    {
     "name": "stdout",
     "output_type": "stream",
     "text": [
      "\u001b[2m\u001b[36m(compute_qc_stats_ray pid=2374169)\u001b[0m 2022-09-14 20:49:04,958 cisTopic     INFO     Returning normalized TSS coverage matrix per barcode\n"
     ]
    },
    {
     "name": "stdout",
     "output_type": "stream",
     "text": [
      "\u001b[2m\u001b[36m(compute_qc_stats_ray pid=2374183)\u001b[0m 2022-09-14 20:49:15,124 cisTopic     INFO     Computing TSS profile for TXG_10xv2_2.15k\n"
     ]
    },
    {
     "name": "stdout",
     "output_type": "stream",
     "text": [
      "\u001b[2m\u001b[36m(compute_qc_stats_ray pid=2374178)\u001b[0m 2022-09-14 20:49:19,201 cisTopic     INFO     Returning normalized TSS coverage matrix per barcode\n"
     ]
    },
    {
     "name": "stdout",
     "output_type": "stream",
     "text": [
      "\u001b[2m\u001b[36m(compute_qc_stats_ray pid=2374168)\u001b[0m 2022-09-14 20:49:30,158 cisTopic     INFO     Coverage matrix done\n"
     ]
    },
    {
     "name": "stdout",
     "output_type": "stream",
     "text": [
      "\u001b[2m\u001b[36m(compute_qc_stats_ray pid=2374179)\u001b[0m 2022-09-14 20:49:37,864 cisTopic     INFO     Computing TSS profile for TXG_10xv2_1.15k\n"
     ]
    },
    {
     "name": "stdout",
     "output_type": "stream",
     "text": [
      "\u001b[2m\u001b[36m(compute_qc_stats_ray pid=2374183)\u001b[0m 2022-09-14 20:50:22,980 cisTopic     INFO     Formatting annnotation\n"
     ]
    },
    {
     "name": "stdout",
     "output_type": "stream",
     "text": [
      "\u001b[2m\u001b[36m(compute_qc_stats_ray pid=2374183)\u001b[0m 2022-09-14 20:50:23,656 cisTopic     INFO     Creating coverage matrix\n"
     ]
    },
    {
     "name": "stdout",
     "output_type": "stream",
     "text": [
      "\u001b[2m\u001b[36m(compute_qc_stats_ray pid=2374174)\u001b[0m 2022-09-14 20:50:27,216 cisTopic     INFO     Computing TSS profile for TXG_10xv11_1.15k\n"
     ]
    },
    {
     "name": "stdout",
     "output_type": "stream",
     "text": [
      "\u001b[2m\u001b[36m(compute_qc_stats_ray pid=2374170)\u001b[0m 2022-09-14 20:50:29,082 cisTopic     INFO     Returning normalized sample TSS enrichment data\n"
     ]
    },
    {
     "name": "stdout",
     "output_type": "stream",
     "text": [
      "\u001b[2m\u001b[36m(compute_qc_stats_ray pid=2374170)\u001b[0m 2022-09-14 20:50:29,858 cisTopic     INFO     Computing FRIP profile for CNA_10xv11_1.15k\n"
     ]
    },
    {
     "name": "stdout",
     "output_type": "stream",
     "text": [
      "\u001b[2m\u001b[36m(compute_qc_stats_ray pid=2374170)\u001b[0m 2022-09-14 20:50:34,844 cisTopic     INFO     Counting fragments\n"
     ]
    },
    {
     "name": "stdout",
     "output_type": "stream",
     "text": [
      "\u001b[2m\u001b[36m(compute_qc_stats_ray pid=2374179)\u001b[0m 2022-09-14 20:50:47,182 cisTopic     INFO     Formatting annnotation\n"
     ]
    },
    {
     "name": "stdout",
     "output_type": "stream",
     "text": [
      "\u001b[2m\u001b[36m(compute_qc_stats_ray pid=2374179)\u001b[0m 2022-09-14 20:50:47,738 cisTopic     INFO     Creating coverage matrix\n"
     ]
    },
    {
     "name": "stdout",
     "output_type": "stream",
     "text": [
      "\u001b[2m\u001b[36m(compute_qc_stats_ray pid=2374170)\u001b[0m 2022-09-14 20:50:49,459 cisTopic     INFO     Intersecting fragments with regions\n"
     ]
    },
    {
     "name": "stdout",
     "output_type": "stream",
     "text": [
      "\u001b[2m\u001b[36m(compute_qc_stats_ray pid=2374170)\u001b[0m 2022-09-14 20:51:32,650 cisTopic     INFO     Sample CNA_10xv11_1.15k done!\n"
     ]
    },
    {
     "name": "stdout",
     "output_type": "stream",
     "text": [
      "\u001b[2m\u001b[36m(compute_qc_stats_ray pid=2374174)\u001b[0m 2022-09-14 20:51:59,306 cisTopic     INFO     Formatting annnotation\n"
     ]
    },
    {
     "name": "stdout",
     "output_type": "stream",
     "text": [
      "\u001b[2m\u001b[36m(compute_qc_stats_ray pid=2374174)\u001b[0m 2022-09-14 20:51:59,752 cisTopic     INFO     Creating coverage matrix\n"
     ]
    },
    {
     "name": "stdout",
     "output_type": "stream",
     "text": [
      "\u001b[2m\u001b[36m(compute_qc_stats_ray pid=2374171)\u001b[0m 2022-09-14 20:52:29,265 cisTopic     INFO     Coverage matrix done\n"
     ]
    },
    {
     "name": "stdout",
     "output_type": "stream",
     "text": [
      "\u001b[2m\u001b[36m(compute_qc_stats_ray pid=2374177)\u001b[0m 2022-09-14 20:53:09,176 cisTopic     INFO     Returning normalized TSS coverage matrix per barcode\n"
     ]
    },
    {
     "name": "stdout",
     "output_type": "stream",
     "text": [
      "\u001b[2m\u001b[36m(compute_qc_stats_ray pid=2374168)\u001b[0m 2022-09-14 20:55:00,680 cisTopic     INFO     Returning normalized TSS coverage matrix per barcode\n"
     ]
    },
    {
     "name": "stdout",
     "output_type": "stream",
     "text": [
      "\u001b[2m\u001b[36m(compute_qc_stats_ray pid=2374178)\u001b[0m 2022-09-14 20:56:28,231 cisTopic     INFO     Returning normalized sample TSS enrichment data\n"
     ]
    },
    {
     "name": "stdout",
     "output_type": "stream",
     "text": [
      "\u001b[2m\u001b[36m(compute_qc_stats_ray pid=2374178)\u001b[0m 2022-09-14 20:56:28,942 cisTopic     INFO     Computing FRIP profile for VIB_hydrop_21.15k\n"
     ]
    },
    {
     "name": "stdout",
     "output_type": "stream",
     "text": [
      "\u001b[2m\u001b[36m(compute_qc_stats_ray pid=2374178)\u001b[0m 2022-09-14 20:56:32,329 cisTopic     INFO     Counting fragments\n"
     ]
    },
    {
     "name": "stdout",
     "output_type": "stream",
     "text": [
      "\u001b[2m\u001b[36m(compute_qc_stats_ray pid=2374178)\u001b[0m 2022-09-14 20:56:38,626 cisTopic     INFO     Intersecting fragments with regions\n"
     ]
    },
    {
     "name": "stdout",
     "output_type": "stream",
     "text": [
      "\u001b[2m\u001b[36m(compute_qc_stats_ray pid=2374169)\u001b[0m 2022-09-14 20:56:58,628 cisTopic     INFO     Returning normalized sample TSS enrichment data\n"
     ]
    },
    {
     "name": "stdout",
     "output_type": "stream",
     "text": [
      "\u001b[2m\u001b[36m(compute_qc_stats_ray pid=2374169)\u001b[0m 2022-09-14 20:56:59,354 cisTopic     INFO     Computing FRIP profile for CNA_hydrop_2.15k\n"
     ]
    },
    {
     "name": "stdout",
     "output_type": "stream",
     "text": [
      "\u001b[2m\u001b[36m(compute_qc_stats_ray pid=2374169)\u001b[0m 2022-09-14 20:57:03,988 cisTopic     INFO     Counting fragments\n"
     ]
    },
    {
     "name": "stdout",
     "output_type": "stream",
     "text": [
      "\u001b[2m\u001b[36m(compute_qc_stats_ray pid=2374178)\u001b[0m 2022-09-14 20:57:06,129 cisTopic     INFO     Sample VIB_hydrop_21.15k done!\n"
     ]
    },
    {
     "name": "stdout",
     "output_type": "stream",
     "text": [
      "\u001b[2m\u001b[36m(compute_qc_stats_ray pid=2374169)\u001b[0m 2022-09-14 20:57:12,786 cisTopic     INFO     Intersecting fragments with regions\n"
     ]
    },
    {
     "name": "stdout",
     "output_type": "stream",
     "text": [
      "\u001b[2m\u001b[36m(compute_qc_stats_ray pid=2374169)\u001b[0m 2022-09-14 20:57:30,874 cisTopic     INFO     Sample CNA_hydrop_2.15k done!\n"
     ]
    },
    {
     "name": "stdout",
     "output_type": "stream",
     "text": [
      "\u001b[2m\u001b[36m(compute_qc_stats_ray pid=2374168)\u001b[0m 2022-09-14 20:58:37,600 cisTopic     INFO     Returning normalized sample TSS enrichment data\n"
     ]
    },
    {
     "name": "stdout",
     "output_type": "stream",
     "text": [
      "\u001b[2m\u001b[36m(compute_qc_stats_ray pid=2374168)\u001b[0m 2022-09-14 20:58:38,137 cisTopic     INFO     Computing FRIP profile for UCS_ddseq_2.15k\n"
     ]
    },
    {
     "name": "stdout",
     "output_type": "stream",
     "text": [
      "\u001b[2m\u001b[36m(compute_qc_stats_ray pid=2374168)\u001b[0m 2022-09-14 20:58:41,656 cisTopic     INFO     Counting fragments\n"
     ]
    },
    {
     "name": "stdout",
     "output_type": "stream",
     "text": [
      "\u001b[2m\u001b[36m(compute_qc_stats_ray pid=2374177)\u001b[0m 2022-09-14 20:59:03,262 cisTopic     INFO     Returning normalized sample TSS enrichment data\n"
     ]
    },
    {
     "name": "stdout",
     "output_type": "stream",
     "text": [
      "\u001b[2m\u001b[36m(compute_qc_stats_ray pid=2374177)\u001b[0m 2022-09-14 20:59:03,820 cisTopic     INFO     Computing FRIP profile for BIO_ddseq_4.15k\n"
     ]
    },
    {
     "name": "stdout",
     "output_type": "stream",
     "text": [
      "\u001b[2m\u001b[36m(compute_qc_stats_ray pid=2374177)\u001b[0m 2022-09-14 20:59:07,359 cisTopic     INFO     Counting fragments\n"
     ]
    },
    {
     "name": "stdout",
     "output_type": "stream",
     "text": [
      "\u001b[2m\u001b[36m(compute_qc_stats_ray pid=2374168)\u001b[0m 2022-09-14 20:59:09,871 cisTopic     INFO     Intersecting fragments with regions\n"
     ]
    },
    {
     "name": "stdout",
     "output_type": "stream",
     "text": [
      "\u001b[2m\u001b[36m(compute_qc_stats_ray pid=2374177)\u001b[0m 2022-09-14 20:59:25,565 cisTopic     INFO     Intersecting fragments with regions\n"
     ]
    },
    {
     "name": "stdout",
     "output_type": "stream",
     "text": [
      "\u001b[2m\u001b[36m(compute_qc_stats_ray pid=2374168)\u001b[0m 2022-09-14 21:00:07,619 cisTopic     INFO     Sample UCS_ddseq_2.15k done!\n"
     ]
    },
    {
     "name": "stdout",
     "output_type": "stream",
     "text": [
      "\u001b[2m\u001b[36m(compute_qc_stats_ray pid=2374177)\u001b[0m 2022-09-14 21:00:23,171 cisTopic     INFO     Sample BIO_ddseq_4.15k done!\n"
     ]
    },
    {
     "name": "stdout",
     "output_type": "stream",
     "text": [
      "\u001b[2m\u001b[36m(compute_qc_stats_ray pid=2374171)\u001b[0m 2022-09-14 21:00:46,109 cisTopic     INFO     Returning normalized TSS coverage matrix per barcode\n"
     ]
    },
    {
     "name": "stdout",
     "output_type": "stream",
     "text": [
      "\u001b[2m\u001b[36m(compute_qc_stats_ray pid=2374174)\u001b[0m 2022-09-14 21:04:07,048 cisTopic     INFO     Coverage matrix done\n"
     ]
    },
    {
     "name": "stdout",
     "output_type": "stream",
     "text": [
      "\u001b[2m\u001b[36m(compute_qc_stats_ray pid=2374171)\u001b[0m 2022-09-14 21:04:08,003 cisTopic     INFO     Returning normalized sample TSS enrichment data\n"
     ]
    },
    {
     "name": "stdout",
     "output_type": "stream",
     "text": [
      "\u001b[2m\u001b[36m(compute_qc_stats_ray pid=2374171)\u001b[0m 2022-09-14 21:04:08,385 cisTopic     INFO     Computing FRIP profile for BIO_ddseq_2.15k\n"
     ]
    },
    {
     "name": "stdout",
     "output_type": "stream",
     "text": [
      "\u001b[2m\u001b[36m(compute_qc_stats_ray pid=2374171)\u001b[0m 2022-09-14 21:04:10,327 cisTopic     INFO     Counting fragments\n"
     ]
    },
    {
     "name": "stdout",
     "output_type": "stream",
     "text": [
      "\u001b[2m\u001b[36m(compute_qc_stats_ray pid=2374171)\u001b[0m 2022-09-14 21:04:27,102 cisTopic     INFO     Intersecting fragments with regions\n"
     ]
    },
    {
     "name": "stdout",
     "output_type": "stream",
     "text": [
      "\u001b[2m\u001b[36m(compute_qc_stats_ray pid=2374171)\u001b[0m 2022-09-14 21:05:24,901 cisTopic     INFO     Sample BIO_ddseq_2.15k done!\n"
     ]
    },
    {
     "name": "stdout",
     "output_type": "stream",
     "text": [
      "\u001b[2m\u001b[36m(compute_qc_stats_ray pid=2374183)\u001b[0m 2022-09-14 21:05:44,830 cisTopic     INFO     Coverage matrix done\n"
     ]
    },
    {
     "name": "stdout",
     "output_type": "stream",
     "text": [
      "\u001b[2m\u001b[36m(compute_qc_stats_ray pid=2374179)\u001b[0m 2022-09-14 21:05:56,741 cisTopic     INFO     Coverage matrix done\n"
     ]
    },
    {
     "name": "stdout",
     "output_type": "stream",
     "text": [
      "\u001b[2m\u001b[36m(compute_qc_stats_ray pid=2374174)\u001b[0m 2022-09-14 21:08:12,042 cisTopic     INFO     Returning normalized TSS coverage matrix per barcode\n"
     ]
    },
    {
     "name": "stdout",
     "output_type": "stream",
     "text": [
      "\u001b[2m\u001b[36m(compute_qc_stats_ray pid=2374183)\u001b[0m 2022-09-14 21:08:27,621 cisTopic     INFO     Returning normalized TSS coverage matrix per barcode\n"
     ]
    },
    {
     "name": "stdout",
     "output_type": "stream",
     "text": [
      "\u001b[2m\u001b[36m(compute_qc_stats_ray pid=2374179)\u001b[0m 2022-09-14 21:08:42,823 cisTopic     INFO     Returning normalized TSS coverage matrix per barcode\n"
     ]
    },
    {
     "name": "stdout",
     "output_type": "stream",
     "text": [
      "\u001b[2m\u001b[36m(compute_qc_stats_ray pid=2374183)\u001b[0m 2022-09-14 21:10:17,148 cisTopic     INFO     Returning normalized sample TSS enrichment data\n"
     ]
    },
    {
     "name": "stdout",
     "output_type": "stream",
     "text": [
      "\u001b[2m\u001b[36m(compute_qc_stats_ray pid=2374183)\u001b[0m 2022-09-14 21:10:17,400 cisTopic     INFO     Computing FRIP profile for TXG_10xv2_2.15k\n"
     ]
    },
    {
     "name": "stdout",
     "output_type": "stream",
     "text": [
      "\u001b[2m\u001b[36m(compute_qc_stats_ray pid=2374183)\u001b[0m 2022-09-14 21:10:20,276 cisTopic     INFO     Counting fragments\n"
     ]
    },
    {
     "name": "stdout",
     "output_type": "stream",
     "text": [
      "\u001b[2m\u001b[36m(compute_qc_stats_ray pid=2374179)\u001b[0m 2022-09-14 21:10:36,150 cisTopic     INFO     Returning normalized sample TSS enrichment data\n"
     ]
    },
    {
     "name": "stdout",
     "output_type": "stream",
     "text": [
      "\u001b[2m\u001b[36m(compute_qc_stats_ray pid=2374179)\u001b[0m 2022-09-14 21:10:36,444 cisTopic     INFO     Computing FRIP profile for TXG_10xv2_1.15k\n"
     ]
    },
    {
     "name": "stdout",
     "output_type": "stream",
     "text": [
      "\u001b[2m\u001b[36m(compute_qc_stats_ray pid=2374183)\u001b[0m 2022-09-14 21:10:37,454 cisTopic     INFO     Intersecting fragments with regions\n"
     ]
    },
    {
     "name": "stdout",
     "output_type": "stream",
     "text": [
      "\u001b[2m\u001b[36m(compute_qc_stats_ray pid=2374174)\u001b[0m 2022-09-14 21:10:38,616 cisTopic     INFO     Returning normalized sample TSS enrichment data\n"
     ]
    },
    {
     "name": "stdout",
     "output_type": "stream",
     "text": [
      "\u001b[2m\u001b[36m(compute_qc_stats_ray pid=2374174)\u001b[0m 2022-09-14 21:10:38,917 cisTopic     INFO     Computing FRIP profile for TXG_10xv11_1.15k\n"
     ]
    },
    {
     "name": "stdout",
     "output_type": "stream",
     "text": [
      "\u001b[2m\u001b[36m(compute_qc_stats_ray pid=2374179)\u001b[0m 2022-09-14 21:10:39,926 cisTopic     INFO     Counting fragments\n"
     ]
    },
    {
     "name": "stdout",
     "output_type": "stream",
     "text": [
      "\u001b[2m\u001b[36m(compute_qc_stats_ray pid=2374174)\u001b[0m 2022-09-14 21:10:41,417 cisTopic     INFO     Counting fragments\n"
     ]
    },
    {
     "name": "stdout",
     "output_type": "stream",
     "text": [
      "\u001b[2m\u001b[36m(compute_qc_stats_ray pid=2374179)\u001b[0m 2022-09-14 21:10:57,212 cisTopic     INFO     Intersecting fragments with regions\n"
     ]
    },
    {
     "name": "stdout",
     "output_type": "stream",
     "text": [
      "\u001b[2m\u001b[36m(compute_qc_stats_ray pid=2374174)\u001b[0m 2022-09-14 21:11:00,053 cisTopic     INFO     Intersecting fragments with regions\n"
     ]
    },
    {
     "name": "stdout",
     "output_type": "stream",
     "text": [
      "\u001b[2m\u001b[36m(compute_qc_stats_ray pid=2374174)\u001b[0m 2022-09-14 21:12:07,377 cisTopic     INFO     Sample TXG_10xv11_1.15k done!\n"
     ]
    },
    {
     "name": "stdout",
     "output_type": "stream",
     "text": [
      "\u001b[2m\u001b[36m(compute_qc_stats_ray pid=2374183)\u001b[0m 2022-09-14 21:12:17,573 cisTopic     INFO     Sample TXG_10xv2_2.15k done!\n"
     ]
    },
    {
     "name": "stdout",
     "output_type": "stream",
     "text": [
      "\u001b[2m\u001b[36m(compute_qc_stats_ray pid=2374179)\u001b[0m 2022-09-14 21:12:25,548 cisTopic     INFO     Sample TXG_10xv2_1.15k done!\n"
     ]
    },
    {
     "name": "stdout",
     "output_type": "stream",
     "text": [
      "Dumping files in /dodrio/scratch/projects/starting_2022_023/benchmark/scatac_benchmark/downsample_series/15k/cistopic_qc_out_CONSENSUS...\n"
     ]
    },
    {
     "name": "stderr",
     "output_type": "stream",
     "text": [
      "2022-09-14 21:13:45,440\tINFO services.py:1470 -- View the Ray dashboard at \u001b[1m\u001b[32mhttp://127.0.0.1:8265\u001b[39m\u001b[22m\n"
     ]
    },
    {
     "name": "stdout",
     "output_type": "stream",
     "text": [
      "\u001b[2m\u001b[36m(compute_qc_stats_ray pid=2697241)\u001b[0m 2022-09-14 21:14:39,523 cisTopic     INFO     Reading SAN_10xmultiome_2.15k\n",
      "\u001b[2m\u001b[36m(compute_qc_stats_ray pid=2697252)\u001b[0m 2022-09-14 21:14:39,520 cisTopic     INFO     Reading CNA_mtscatac_1.15k\n",
      "\u001b[2m\u001b[36m(compute_qc_stats_ray pid=2697258)\u001b[0m 2022-09-14 21:14:39,499 cisTopic     INFO     Reading HAR_ddseq_1.15k\n",
      "\u001b[2m\u001b[36m(compute_qc_stats_ray pid=2697257)\u001b[0m 2022-09-14 21:14:39,526 cisTopic     INFO     Reading STA_10xv11_2.15k\n",
      "\u001b[2m\u001b[36m(compute_qc_stats_ray pid=2697256)\u001b[0m 2022-09-14 21:14:39,492 cisTopic     INFO     Reading VIB_10xmultiome_2.15k\n",
      "\u001b[2m\u001b[36m(compute_qc_stats_ray pid=2697259)\u001b[0m 2022-09-14 21:14:39,479 cisTopic     INFO     Reading BIO_ddseq_3.15k\n",
      "\u001b[2m\u001b[36m(compute_qc_stats_ray pid=2697260)\u001b[0m 2022-09-14 21:14:39,513 cisTopic     INFO     Reading CNA_10xv11_3.15k\n",
      "\u001b[2m\u001b[36m(compute_qc_stats_ray pid=2697239)\u001b[0m 2022-09-14 21:14:39,496 cisTopic     INFO     Reading VIB_10xv1_2.15k\n",
      "\u001b[2m\u001b[36m(compute_qc_stats_ray pid=2697242)\u001b[0m 2022-09-14 21:14:39,509 cisTopic     INFO     Reading MDC_mtscatac_2.15k\n",
      "\u001b[2m\u001b[36m(compute_qc_stats_ray pid=2697243)\u001b[0m 2022-09-14 21:14:39,548 cisTopic     INFO     Reading SAN_10xmultiome_1.15k\n",
      "\u001b[2m\u001b[36m(compute_qc_stats_ray pid=2697255)\u001b[0m 2022-09-14 21:14:39,516 cisTopic     INFO     Reading CNA_hydrop_1.15k\n",
      "\u001b[2m\u001b[36m(compute_qc_stats_ray pid=2697254)\u001b[0m 2022-09-14 21:14:39,537 cisTopic     INFO     Reading VIB_hydrop_12.15k\n",
      "\u001b[2m\u001b[36m(compute_qc_stats_ray pid=2697261)\u001b[0m 2022-09-14 21:14:39,488 cisTopic     INFO     Reading EPF_hydrop_2.15k\n",
      "\u001b[2m\u001b[36m(compute_qc_stats_ray pid=2697253)\u001b[0m 2022-09-14 21:14:39,565 cisTopic     INFO     Reading CNA_10xmultiome_2.15k\n"
     ]
    },
    {
     "name": "stdout",
     "output_type": "stream",
     "text": [
      "\u001b[2m\u001b[36m(compute_qc_stats_ray pid=2697240)\u001b[0m 2022-09-14 21:14:39,597 cisTopic     INFO     Reading VIB_hydrop_22.15k\n",
      "\u001b[2m\u001b[36m(compute_qc_stats_ray pid=2697238)\u001b[0m 2022-09-14 21:14:39,897 cisTopic     INFO     Reading CNA_10xv11_5.15k\n"
     ]
    },
    {
     "name": "stdout",
     "output_type": "stream",
     "text": [
      "\u001b[2m\u001b[36m(compute_qc_stats_ray pid=2697240)\u001b[0m 2022-09-14 21:16:23,954 cisTopic     INFO     Computing barcode rank plot for VIB_hydrop_22.15k\n",
      "\u001b[2m\u001b[36m(compute_qc_stats_ray pid=2697240)\u001b[0m 2022-09-14 21:16:23,955 cisTopic     INFO     Counting fragments\n"
     ]
    },
    {
     "name": "stdout",
     "output_type": "stream",
     "text": [
      "\u001b[2m\u001b[36m(compute_qc_stats_ray pid=2697240)\u001b[0m 2022-09-14 21:16:30,645 cisTopic     INFO     Marking barcodes with more than 10\n"
     ]
    },
    {
     "name": "stdout",
     "output_type": "stream",
     "text": [
      "\u001b[2m\u001b[36m(compute_qc_stats_ray pid=2697240)\u001b[0m 2022-09-14 21:16:31,144 cisTopic     INFO     Returning plot data\n",
      "\u001b[2m\u001b[36m(compute_qc_stats_ray pid=2697240)\u001b[0m 2022-09-14 21:16:31,152 cisTopic     INFO     Returning valid barcodes\n"
     ]
    },
    {
     "name": "stdout",
     "output_type": "stream",
     "text": [
      "\u001b[2m\u001b[36m(compute_qc_stats_ray pid=2697240)\u001b[0m 2022-09-14 21:16:36,801 cisTopic     INFO     Computing duplicate rate plot for VIB_hydrop_22.15k\n"
     ]
    },
    {
     "name": "stdout",
     "output_type": "stream",
     "text": [
      "\u001b[2m\u001b[36m(compute_qc_stats_ray pid=2697240)\u001b[0m 2022-09-14 21:16:49,544 cisTopic     INFO     Return plot data\n"
     ]
    },
    {
     "name": "stdout",
     "output_type": "stream",
     "text": [
      "\u001b[2m\u001b[36m(compute_qc_stats_ray pid=2697240)\u001b[0m 2022-09-14 21:16:50,794 cisTopic     INFO     Computing insert size distribution for VIB_hydrop_22.15k\n",
      "\u001b[2m\u001b[36m(compute_qc_stats_ray pid=2697240)\u001b[0m 2022-09-14 21:16:50,794 cisTopic     INFO     Counting fragments\n"
     ]
    },
    {
     "name": "stdout",
     "output_type": "stream",
     "text": [
      "\u001b[2m\u001b[36m(compute_qc_stats_ray pid=2697240)\u001b[0m 2022-09-14 21:16:52,417 cisTopic     INFO     Returning plot data\n"
     ]
    },
    {
     "name": "stdout",
     "output_type": "stream",
     "text": [
      "\u001b[2m\u001b[36m(compute_qc_stats_ray pid=2697238)\u001b[0m 2022-09-14 21:16:54,330 cisTopic     INFO     Computing barcode rank plot for CNA_10xv11_5.15k\n",
      "\u001b[2m\u001b[36m(compute_qc_stats_ray pid=2697238)\u001b[0m 2022-09-14 21:16:54,330 cisTopic     INFO     Counting fragments\n"
     ]
    },
    {
     "name": "stdout",
     "output_type": "stream",
     "text": [
      "\u001b[2m\u001b[36m(compute_qc_stats_ray pid=2697238)\u001b[0m 2022-09-14 21:17:01,317 cisTopic     INFO     Marking barcodes with more than 10\n"
     ]
    },
    {
     "name": "stdout",
     "output_type": "stream",
     "text": [
      "\u001b[2m\u001b[36m(compute_qc_stats_ray pid=2697238)\u001b[0m 2022-09-14 21:17:01,583 cisTopic     INFO     Returning plot data\n",
      "\u001b[2m\u001b[36m(compute_qc_stats_ray pid=2697238)\u001b[0m 2022-09-14 21:17:01,673 cisTopic     INFO     Returning valid barcodes\n"
     ]
    },
    {
     "name": "stdout",
     "output_type": "stream",
     "text": [
      "\u001b[2m\u001b[36m(compute_qc_stats_ray pid=2697254)\u001b[0m 2022-09-14 21:17:07,738 cisTopic     INFO     Computing barcode rank plot for VIB_hydrop_12.15k\n",
      "\u001b[2m\u001b[36m(compute_qc_stats_ray pid=2697254)\u001b[0m 2022-09-14 21:17:07,738 cisTopic     INFO     Counting fragments\n"
     ]
    },
    {
     "name": "stdout",
     "output_type": "stream",
     "text": [
      "\u001b[2m\u001b[36m(compute_qc_stats_ray pid=2697238)\u001b[0m 2022-09-14 21:17:09,783 cisTopic     INFO     Computing duplicate rate plot for CNA_10xv11_5.15k\n"
     ]
    },
    {
     "name": "stdout",
     "output_type": "stream",
     "text": [
      "\u001b[2m\u001b[36m(compute_qc_stats_ray pid=2697254)\u001b[0m 2022-09-14 21:17:16,099 cisTopic     INFO     Marking barcodes with more than 10\n"
     ]
    },
    {
     "name": "stdout",
     "output_type": "stream",
     "text": [
      "\u001b[2m\u001b[36m(compute_qc_stats_ray pid=2697254)\u001b[0m 2022-09-14 21:17:16,537 cisTopic     INFO     Returning plot data\n",
      "\u001b[2m\u001b[36m(compute_qc_stats_ray pid=2697254)\u001b[0m 2022-09-14 21:17:16,709 cisTopic     INFO     Returning valid barcodes\n"
     ]
    },
    {
     "name": "stdout",
     "output_type": "stream",
     "text": [
      "\u001b[2m\u001b[36m(compute_qc_stats_ray pid=2697238)\u001b[0m 2022-09-14 21:17:22,073 cisTopic     INFO     Return plot data\n"
     ]
    },
    {
     "name": "stdout",
     "output_type": "stream",
     "text": [
      "\u001b[2m\u001b[36m(compute_qc_stats_ray pid=2697238)\u001b[0m 2022-09-14 21:17:23,356 cisTopic     INFO     Computing insert size distribution for CNA_10xv11_5.15k\n",
      "\u001b[2m\u001b[36m(compute_qc_stats_ray pid=2697238)\u001b[0m 2022-09-14 21:17:23,356 cisTopic     INFO     Counting fragments\n"
     ]
    },
    {
     "name": "stdout",
     "output_type": "stream",
     "text": [
      "\u001b[2m\u001b[36m(compute_qc_stats_ray pid=2697254)\u001b[0m 2022-09-14 21:17:24,037 cisTopic     INFO     Computing duplicate rate plot for VIB_hydrop_12.15k\n"
     ]
    },
    {
     "name": "stdout",
     "output_type": "stream",
     "text": [
      "\u001b[2m\u001b[36m(compute_qc_stats_ray pid=2697240)\u001b[0m 2022-09-14 21:17:26,278 cisTopic     INFO     Computing TSS profile for VIB_hydrop_22.15k\n"
     ]
    },
    {
     "name": "stdout",
     "output_type": "stream",
     "text": [
      "\u001b[2m\u001b[36m(compute_qc_stats_ray pid=2697238)\u001b[0m 2022-09-14 21:17:26,478 cisTopic     INFO     Returning plot data\n"
     ]
    },
    {
     "name": "stdout",
     "output_type": "stream",
     "text": [
      "\u001b[2m\u001b[36m(compute_qc_stats_ray pid=2697254)\u001b[0m 2022-09-14 21:17:38,716 cisTopic     INFO     Return plot data\n"
     ]
    },
    {
     "name": "stdout",
     "output_type": "stream",
     "text": [
      "\u001b[2m\u001b[36m(compute_qc_stats_ray pid=2697254)\u001b[0m 2022-09-14 21:17:40,009 cisTopic     INFO     Computing insert size distribution for VIB_hydrop_12.15k\n",
      "\u001b[2m\u001b[36m(compute_qc_stats_ray pid=2697254)\u001b[0m 2022-09-14 21:17:40,010 cisTopic     INFO     Counting fragments\n"
     ]
    },
    {
     "name": "stdout",
     "output_type": "stream",
     "text": [
      "\u001b[2m\u001b[36m(compute_qc_stats_ray pid=2697240)\u001b[0m 2022-09-14 21:17:40,273 cisTopic     INFO     Formatting annnotation\n"
     ]
    },
    {
     "name": "stdout",
     "output_type": "stream",
     "text": [
      "\u001b[2m\u001b[36m(compute_qc_stats_ray pid=2697240)\u001b[0m 2022-09-14 21:17:41,274 cisTopic     INFO     Creating coverage matrix\n"
     ]
    },
    {
     "name": "stdout",
     "output_type": "stream",
     "text": [
      "\u001b[2m\u001b[36m(compute_qc_stats_ray pid=2697254)\u001b[0m 2022-09-14 21:17:42,451 cisTopic     INFO     Returning plot data\n"
     ]
    },
    {
     "name": "stdout",
     "output_type": "stream",
     "text": [
      "\u001b[2m\u001b[36m(compute_qc_stats_ray pid=2697238)\u001b[0m 2022-09-14 21:18:31,185 cisTopic     INFO     Computing TSS profile for CNA_10xv11_5.15k\n"
     ]
    },
    {
     "name": "stdout",
     "output_type": "stream",
     "text": [
      "\u001b[2m\u001b[36m(compute_qc_stats_ray pid=2697254)\u001b[0m 2022-09-14 21:18:35,416 cisTopic     INFO     Computing TSS profile for VIB_hydrop_12.15k\n"
     ]
    },
    {
     "name": "stdout",
     "output_type": "stream",
     "text": [
      "\u001b[2m\u001b[36m(compute_qc_stats_ray pid=2697257)\u001b[0m 2022-09-14 21:18:40,680 cisTopic     INFO     Computing barcode rank plot for STA_10xv11_2.15k\n",
      "\u001b[2m\u001b[36m(compute_qc_stats_ray pid=2697257)\u001b[0m 2022-09-14 21:18:40,761 cisTopic     INFO     Counting fragments\n"
     ]
    },
    {
     "name": "stdout",
     "output_type": "stream",
     "text": [
      "\u001b[2m\u001b[36m(compute_qc_stats_ray pid=2697238)\u001b[0m 2022-09-14 21:18:41,826 cisTopic     INFO     Formatting annnotation\n"
     ]
    },
    {
     "name": "stdout",
     "output_type": "stream",
     "text": [
      "\u001b[2m\u001b[36m(compute_qc_stats_ray pid=2697238)\u001b[0m 2022-09-14 21:18:42,828 cisTopic     INFO     Creating coverage matrix\n"
     ]
    },
    {
     "name": "stdout",
     "output_type": "stream",
     "text": [
      "\u001b[2m\u001b[36m(compute_qc_stats_ray pid=2697255)\u001b[0m 2022-09-14 21:18:47,219 cisTopic     INFO     Computing barcode rank plot for CNA_hydrop_1.15k\n",
      "\u001b[2m\u001b[36m(compute_qc_stats_ray pid=2697255)\u001b[0m 2022-09-14 21:18:47,219 cisTopic     INFO     Counting fragments\n"
     ]
    },
    {
     "name": "stdout",
     "output_type": "stream",
     "text": [
      "\u001b[2m\u001b[36m(compute_qc_stats_ray pid=2697256)\u001b[0m 2022-09-14 21:18:49,922 cisTopic     INFO     Computing barcode rank plot for VIB_10xmultiome_2.15k\n",
      "\u001b[2m\u001b[36m(compute_qc_stats_ray pid=2697256)\u001b[0m 2022-09-14 21:18:49,922 cisTopic     INFO     Counting fragments\n"
     ]
    },
    {
     "name": "stdout",
     "output_type": "stream",
     "text": [
      "\u001b[2m\u001b[36m(compute_qc_stats_ray pid=2697257)\u001b[0m 2022-09-14 21:18:52,462 cisTopic     INFO     Marking barcodes with more than 10\n"
     ]
    },
    {
     "name": "stdout",
     "output_type": "stream",
     "text": [
      "\u001b[2m\u001b[36m(compute_qc_stats_ray pid=2697257)\u001b[0m 2022-09-14 21:18:52,987 cisTopic     INFO     Returning plot data\n",
      "\u001b[2m\u001b[36m(compute_qc_stats_ray pid=2697257)\u001b[0m 2022-09-14 21:18:53,077 cisTopic     INFO     Returning valid barcodes\n"
     ]
    },
    {
     "name": "stdout",
     "output_type": "stream",
     "text": [
      "\u001b[2m\u001b[36m(compute_qc_stats_ray pid=2697254)\u001b[0m 2022-09-14 21:18:55,931 cisTopic     INFO     Formatting annnotation\n"
     ]
    },
    {
     "name": "stdout",
     "output_type": "stream",
     "text": [
      "\u001b[2m\u001b[36m(compute_qc_stats_ray pid=2697254)\u001b[0m 2022-09-14 21:18:56,975 cisTopic     INFO     Creating coverage matrix\n"
     ]
    },
    {
     "name": "stdout",
     "output_type": "stream",
     "text": [
      "\u001b[2m\u001b[36m(compute_qc_stats_ray pid=2697255)\u001b[0m 2022-09-14 21:18:58,547 cisTopic     INFO     Marking barcodes with more than 10\n"
     ]
    },
    {
     "name": "stdout",
     "output_type": "stream",
     "text": [
      "\u001b[2m\u001b[36m(compute_qc_stats_ray pid=2697255)\u001b[0m 2022-09-14 21:18:59,104 cisTopic     INFO     Returning plot data\n",
      "\u001b[2m\u001b[36m(compute_qc_stats_ray pid=2697255)\u001b[0m 2022-09-14 21:18:59,279 cisTopic     INFO     Returning valid barcodes\n"
     ]
    },
    {
     "name": "stdout",
     "output_type": "stream",
     "text": [
      "\u001b[2m\u001b[36m(compute_qc_stats_ray pid=2697261)\u001b[0m 2022-09-14 21:19:02,253 cisTopic     INFO     Computing barcode rank plot for EPF_hydrop_2.15k\n",
      "\u001b[2m\u001b[36m(compute_qc_stats_ray pid=2697261)\u001b[0m 2022-09-14 21:19:02,254 cisTopic     INFO     Counting fragments\n"
     ]
    },
    {
     "name": "stdout",
     "output_type": "stream",
     "text": [
      "\u001b[2m\u001b[36m(compute_qc_stats_ray pid=2697256)\u001b[0m 2022-09-14 21:19:04,085 cisTopic     INFO     Marking barcodes with more than 10\n"
     ]
    },
    {
     "name": "stdout",
     "output_type": "stream",
     "text": [
      "\u001b[2m\u001b[36m(compute_qc_stats_ray pid=2697256)\u001b[0m 2022-09-14 21:19:04,624 cisTopic     INFO     Returning plot data\n",
      "\u001b[2m\u001b[36m(compute_qc_stats_ray pid=2697256)\u001b[0m 2022-09-14 21:19:04,714 cisTopic     INFO     Returning valid barcodes\n"
     ]
    },
    {
     "name": "stdout",
     "output_type": "stream",
     "text": [
      "\u001b[2m\u001b[36m(compute_qc_stats_ray pid=2697257)\u001b[0m 2022-09-14 21:19:05,247 cisTopic     INFO     Computing duplicate rate plot for STA_10xv11_2.15k\n"
     ]
    },
    {
     "name": "stdout",
     "output_type": "stream",
     "text": [
      "\u001b[2m\u001b[36m(compute_qc_stats_ray pid=2697255)\u001b[0m 2022-09-14 21:19:10,050 cisTopic     INFO     Computing duplicate rate plot for CNA_hydrop_1.15k\n"
     ]
    },
    {
     "name": "stdout",
     "output_type": "stream",
     "text": [
      "\u001b[2m\u001b[36m(compute_qc_stats_ray pid=2697261)\u001b[0m 2022-09-14 21:19:14,744 cisTopic     INFO     Marking barcodes with more than 10\n"
     ]
    },
    {
     "name": "stdout",
     "output_type": "stream",
     "text": [
      "\u001b[2m\u001b[36m(compute_qc_stats_ray pid=2697261)\u001b[0m 2022-09-14 21:19:15,197 cisTopic     INFO     Returning plot data\n"
     ]
    },
    {
     "name": "stdout",
     "output_type": "stream",
     "text": [
      "\u001b[2m\u001b[36m(compute_qc_stats_ray pid=2697261)\u001b[0m 2022-09-14 21:19:15,366 cisTopic     INFO     Returning valid barcodes\n"
     ]
    },
    {
     "name": "stdout",
     "output_type": "stream",
     "text": [
      "\u001b[2m\u001b[36m(compute_qc_stats_ray pid=2697256)\u001b[0m 2022-09-14 21:19:20,043 cisTopic     INFO     Computing duplicate rate plot for VIB_10xmultiome_2.15k\n"
     ]
    },
    {
     "name": "stdout",
     "output_type": "stream",
     "text": [
      "\u001b[2m\u001b[36m(compute_qc_stats_ray pid=2697257)\u001b[0m 2022-09-14 21:19:26,226 cisTopic     INFO     Return plot data\n"
     ]
    },
    {
     "name": "stdout",
     "output_type": "stream",
     "text": [
      "\u001b[2m\u001b[36m(compute_qc_stats_ray pid=2697257)\u001b[0m 2022-09-14 21:19:27,568 cisTopic     INFO     Computing insert size distribution for STA_10xv11_2.15k\n",
      "\u001b[2m\u001b[36m(compute_qc_stats_ray pid=2697257)\u001b[0m 2022-09-14 21:19:27,569 cisTopic     INFO     Counting fragments\n"
     ]
    },
    {
     "name": "stdout",
     "output_type": "stream",
     "text": [
      "\u001b[2m\u001b[36m(compute_qc_stats_ray pid=2697261)\u001b[0m 2022-09-14 21:19:27,693 cisTopic     INFO     Computing duplicate rate plot for EPF_hydrop_2.15k\n"
     ]
    },
    {
     "name": "stdout",
     "output_type": "stream",
     "text": [
      "\u001b[2m\u001b[36m(compute_qc_stats_ray pid=2697255)\u001b[0m 2022-09-14 21:19:27,973 cisTopic     INFO     Return plot data\n"
     ]
    },
    {
     "name": "stdout",
     "output_type": "stream",
     "text": [
      "\u001b[2m\u001b[36m(compute_qc_stats_ray pid=2697255)\u001b[0m 2022-09-14 21:19:29,302 cisTopic     INFO     Computing insert size distribution for CNA_hydrop_1.15k\n",
      "\u001b[2m\u001b[36m(compute_qc_stats_ray pid=2697255)\u001b[0m 2022-09-14 21:19:29,302 cisTopic     INFO     Counting fragments\n"
     ]
    },
    {
     "name": "stdout",
     "output_type": "stream",
     "text": [
      "\u001b[2m\u001b[36m(compute_qc_stats_ray pid=2697257)\u001b[0m 2022-09-14 21:19:32,106 cisTopic     INFO     Returning plot data\n"
     ]
    },
    {
     "name": "stdout",
     "output_type": "stream",
     "text": [
      "\u001b[2m\u001b[36m(compute_qc_stats_ray pid=2697255)\u001b[0m 2022-09-14 21:19:33,208 cisTopic     INFO     Returning plot data\n"
     ]
    },
    {
     "name": "stdout",
     "output_type": "stream",
     "text": [
      "\u001b[2m\u001b[36m(compute_qc_stats_ray pid=2697256)\u001b[0m 2022-09-14 21:19:46,739 cisTopic     INFO     Return plot data\n"
     ]
    },
    {
     "name": "stdout",
     "output_type": "stream",
     "text": [
      "\u001b[2m\u001b[36m(compute_qc_stats_ray pid=2697261)\u001b[0m 2022-09-14 21:19:47,786 cisTopic     INFO     Return plot data\n"
     ]
    },
    {
     "name": "stdout",
     "output_type": "stream",
     "text": [
      "\u001b[2m\u001b[36m(compute_qc_stats_ray pid=2697256)\u001b[0m 2022-09-14 21:19:48,018 cisTopic     INFO     Computing insert size distribution for VIB_10xmultiome_2.15k\n",
      "\u001b[2m\u001b[36m(compute_qc_stats_ray pid=2697256)\u001b[0m 2022-09-14 21:19:48,018 cisTopic     INFO     Counting fragments\n"
     ]
    },
    {
     "name": "stdout",
     "output_type": "stream",
     "text": [
      "\u001b[2m\u001b[36m(compute_qc_stats_ray pid=2697261)\u001b[0m 2022-09-14 21:19:49,090 cisTopic     INFO     Computing insert size distribution for EPF_hydrop_2.15k\n",
      "\u001b[2m\u001b[36m(compute_qc_stats_ray pid=2697261)\u001b[0m 2022-09-14 21:19:49,090 cisTopic     INFO     Counting fragments\n"
     ]
    },
    {
     "name": "stdout",
     "output_type": "stream",
     "text": [
      "\u001b[2m\u001b[36m(compute_qc_stats_ray pid=2697256)\u001b[0m 2022-09-14 21:19:53,586 cisTopic     INFO     Returning plot data\n"
     ]
    },
    {
     "name": "stdout",
     "output_type": "stream",
     "text": [
      "\u001b[2m\u001b[36m(compute_qc_stats_ray pid=2697261)\u001b[0m 2022-09-14 21:19:53,861 cisTopic     INFO     Returning plot data\n"
     ]
    },
    {
     "name": "stdout",
     "output_type": "stream",
     "text": [
      "\u001b[2m\u001b[36m(compute_qc_stats_ray pid=2697252)\u001b[0m 2022-09-14 21:20:27,078 cisTopic     INFO     Computing barcode rank plot for CNA_mtscatac_1.15k\n",
      "\u001b[2m\u001b[36m(compute_qc_stats_ray pid=2697252)\u001b[0m 2022-09-14 21:20:27,078 cisTopic     INFO     Counting fragments\n"
     ]
    },
    {
     "name": "stdout",
     "output_type": "stream",
     "text": [
      "\u001b[2m\u001b[36m(compute_qc_stats_ray pid=2697252)\u001b[0m 2022-09-14 21:20:45,078 cisTopic     INFO     Marking barcodes with more than 10\n"
     ]
    },
    {
     "name": "stdout",
     "output_type": "stream",
     "text": [
      "\u001b[2m\u001b[36m(compute_qc_stats_ray pid=2697252)\u001b[0m 2022-09-14 21:20:45,712 cisTopic     INFO     Returning plot data\n",
      "\u001b[2m\u001b[36m(compute_qc_stats_ray pid=2697252)\u001b[0m 2022-09-14 21:20:45,738 cisTopic     INFO     Returning valid barcodes\n"
     ]
    },
    {
     "name": "stdout",
     "output_type": "stream",
     "text": [
      "\u001b[2m\u001b[36m(compute_qc_stats_ray pid=2697255)\u001b[0m 2022-09-14 21:20:53,943 cisTopic     INFO     Computing TSS profile for CNA_hydrop_1.15k\n"
     ]
    },
    {
     "name": "stdout",
     "output_type": "stream",
     "text": [
      "\u001b[2m\u001b[36m(compute_qc_stats_ray pid=2697252)\u001b[0m 2022-09-14 21:21:03,494 cisTopic     INFO     Computing duplicate rate plot for CNA_mtscatac_1.15k\n"
     ]
    },
    {
     "name": "stdout",
     "output_type": "stream",
     "text": [
      "\u001b[2m\u001b[36m(compute_qc_stats_ray pid=2697257)\u001b[0m 2022-09-14 21:21:06,824 cisTopic     INFO     Computing TSS profile for STA_10xv11_2.15k\n"
     ]
    },
    {
     "name": "stdout",
     "output_type": "stream",
     "text": [
      "\u001b[2m\u001b[36m(compute_qc_stats_ray pid=2697255)\u001b[0m 2022-09-14 21:21:29,281 cisTopic     INFO     Formatting annnotation\n",
      "\u001b[2m\u001b[36m(compute_qc_stats_ray pid=2697257)\u001b[0m 2022-09-14 21:21:29,401 cisTopic     INFO     Formatting annnotation\n"
     ]
    },
    {
     "name": "stdout",
     "output_type": "stream",
     "text": [
      "\u001b[2m\u001b[36m(compute_qc_stats_ray pid=2697255)\u001b[0m 2022-09-14 21:21:30,211 cisTopic     INFO     Creating coverage matrix\n"
     ]
    },
    {
     "name": "stdout",
     "output_type": "stream",
     "text": [
      "\u001b[2m\u001b[36m(compute_qc_stats_ray pid=2697257)\u001b[0m 2022-09-14 21:21:30,432 cisTopic     INFO     Creating coverage matrix\n"
     ]
    },
    {
     "name": "stdout",
     "output_type": "stream",
     "text": [
      "\u001b[2m\u001b[36m(compute_qc_stats_ray pid=2697261)\u001b[0m 2022-09-14 21:21:32,397 cisTopic     INFO     Computing TSS profile for EPF_hydrop_2.15k\n"
     ]
    },
    {
     "name": "stdout",
     "output_type": "stream",
     "text": [
      "\u001b[2m\u001b[36m(compute_qc_stats_ray pid=2697252)\u001b[0m 2022-09-14 21:21:34,049 cisTopic     INFO     Return plot data\n"
     ]
    },
    {
     "name": "stdout",
     "output_type": "stream",
     "text": [
      "\u001b[2m\u001b[36m(compute_qc_stats_ray pid=2697252)\u001b[0m 2022-09-14 21:21:35,445 cisTopic     INFO     Computing insert size distribution for CNA_mtscatac_1.15k\n",
      "\u001b[2m\u001b[36m(compute_qc_stats_ray pid=2697252)\u001b[0m 2022-09-14 21:21:35,445 cisTopic     INFO     Counting fragments\n"
     ]
    },
    {
     "name": "stdout",
     "output_type": "stream",
     "text": [
      "\u001b[2m\u001b[36m(compute_qc_stats_ray pid=2697240)\u001b[0m 2022-09-14 21:21:38,003 cisTopic     INFO     Coverage matrix done\n"
     ]
    },
    {
     "name": "stdout",
     "output_type": "stream",
     "text": [
      "\u001b[2m\u001b[36m(compute_qc_stats_ray pid=2697252)\u001b[0m 2022-09-14 21:21:42,955 cisTopic     INFO     Returning plot data\n"
     ]
    },
    {
     "name": "stdout",
     "output_type": "stream",
     "text": [
      "\u001b[2m\u001b[36m(compute_qc_stats_ray pid=2697256)\u001b[0m 2022-09-14 21:21:50,210 cisTopic     INFO     Computing TSS profile for VIB_10xmultiome_2.15k\n"
     ]
    },
    {
     "name": "stdout",
     "output_type": "stream",
     "text": [
      "\u001b[2m\u001b[36m(compute_qc_stats_ray pid=2697238)\u001b[0m 2022-09-14 21:21:50,810 cisTopic     INFO     Coverage matrix done\n"
     ]
    },
    {
     "name": "stdout",
     "output_type": "stream",
     "text": [
      "\u001b[2m\u001b[36m(compute_qc_stats_ray pid=2697259)\u001b[0m 2022-09-14 21:21:56,459 cisTopic     INFO     Computing barcode rank plot for BIO_ddseq_3.15k\n",
      "\u001b[2m\u001b[36m(compute_qc_stats_ray pid=2697259)\u001b[0m 2022-09-14 21:21:56,460 cisTopic     INFO     Counting fragments\n",
      "\u001b[2m\u001b[36m(compute_qc_stats_ray pid=2697253)\u001b[0m 2022-09-14 21:21:56,566 cisTopic     INFO     Computing barcode rank plot for CNA_10xmultiome_2.15k\n",
      "\u001b[2m\u001b[36m(compute_qc_stats_ray pid=2697253)\u001b[0m 2022-09-14 21:21:56,567 cisTopic     INFO     Counting fragments\n"
     ]
    },
    {
     "name": "stdout",
     "output_type": "stream",
     "text": [
      "\u001b[2m\u001b[36m(compute_qc_stats_ray pid=2697261)\u001b[0m 2022-09-14 21:22:11,169 cisTopic     INFO     Formatting annnotation\n"
     ]
    },
    {
     "name": "stdout",
     "output_type": "stream",
     "text": [
      "\u001b[2m\u001b[36m(compute_qc_stats_ray pid=2697261)\u001b[0m 2022-09-14 21:22:12,216 cisTopic     INFO     Creating coverage matrix\n"
     ]
    },
    {
     "name": "stdout",
     "output_type": "stream",
     "text": [
      "\u001b[2m\u001b[36m(compute_qc_stats_ray pid=2697256)\u001b[0m 2022-09-14 21:22:15,571 cisTopic     INFO     Formatting annnotation\n"
     ]
    },
    {
     "name": "stdout",
     "output_type": "stream",
     "text": [
      "\u001b[2m\u001b[36m(compute_qc_stats_ray pid=2697256)\u001b[0m 2022-09-14 21:22:16,694 cisTopic     INFO     Creating coverage matrix\n"
     ]
    },
    {
     "name": "stdout",
     "output_type": "stream",
     "text": [
      "\u001b[2m\u001b[36m(compute_qc_stats_ray pid=2697253)\u001b[0m 2022-09-14 21:22:20,638 cisTopic     INFO     Marking barcodes with more than 10\n"
     ]
    },
    {
     "name": "stdout",
     "output_type": "stream",
     "text": [
      "\u001b[2m\u001b[36m(compute_qc_stats_ray pid=2697253)\u001b[0m 2022-09-14 21:22:21,552 cisTopic     INFO     Returning plot data\n",
      "\u001b[2m\u001b[36m(compute_qc_stats_ray pid=2697253)\u001b[0m 2022-09-14 21:22:21,649 cisTopic     INFO     Returning valid barcodes\n"
     ]
    },
    {
     "name": "stdout",
     "output_type": "stream",
     "text": [
      "\u001b[2m\u001b[36m(compute_qc_stats_ray pid=2697253)\u001b[0m 2022-09-14 21:22:45,550 cisTopic     INFO     Computing duplicate rate plot for CNA_10xmultiome_2.15k\n"
     ]
    },
    {
     "name": "stdout",
     "output_type": "stream",
     "text": [
      "\u001b[2m\u001b[36m(compute_qc_stats_ray pid=2697259)\u001b[0m 2022-09-14 21:22:59,955 cisTopic     INFO     Marking barcodes with more than 10\n"
     ]
    },
    {
     "name": "stdout",
     "output_type": "stream",
     "text": [
      "\u001b[2m\u001b[36m(compute_qc_stats_ray pid=2697259)\u001b[0m 2022-09-14 21:23:04,429 cisTopic     INFO     Returning plot data\n"
     ]
    },
    {
     "name": "stdout",
     "output_type": "stream",
     "text": [
      "\u001b[2m\u001b[36m(compute_qc_stats_ray pid=2697259)\u001b[0m 2022-09-14 21:23:04,513 cisTopic     INFO     Returning valid barcodes\n"
     ]
    },
    {
     "name": "stdout",
     "output_type": "stream",
     "text": [
      "\u001b[2m\u001b[36m(compute_qc_stats_ray pid=2697259)\u001b[0m 2022-09-14 21:23:19,834 cisTopic     INFO     Computing duplicate rate plot for BIO_ddseq_3.15k\n"
     ]
    },
    {
     "name": "stdout",
     "output_type": "stream",
     "text": [
      "\u001b[2m\u001b[36m(compute_qc_stats_ray pid=2697243)\u001b[0m 2022-09-14 21:23:23,913 cisTopic     INFO     Computing barcode rank plot for SAN_10xmultiome_1.15k\n",
      "\u001b[2m\u001b[36m(compute_qc_stats_ray pid=2697243)\u001b[0m 2022-09-14 21:23:23,913 cisTopic     INFO     Counting fragments\n"
     ]
    },
    {
     "name": "stdout",
     "output_type": "stream",
     "text": [
      "\u001b[2m\u001b[36m(compute_qc_stats_ray pid=2697253)\u001b[0m 2022-09-14 21:23:29,533 cisTopic     INFO     Return plot data\n"
     ]
    },
    {
     "name": "stdout",
     "output_type": "stream",
     "text": [
      "\u001b[2m\u001b[36m(compute_qc_stats_ray pid=2697253)\u001b[0m 2022-09-14 21:23:30,836 cisTopic     INFO     Computing insert size distribution for CNA_10xmultiome_2.15k\n",
      "\u001b[2m\u001b[36m(compute_qc_stats_ray pid=2697253)\u001b[0m 2022-09-14 21:23:30,837 cisTopic     INFO     Counting fragments\n"
     ]
    },
    {
     "name": "stdout",
     "output_type": "stream",
     "text": [
      "\u001b[2m\u001b[36m(compute_qc_stats_ray pid=2697253)\u001b[0m 2022-09-14 21:23:40,912 cisTopic     INFO     Returning plot data\n"
     ]
    },
    {
     "name": "stdout",
     "output_type": "stream",
     "text": [
      "\u001b[2m\u001b[36m(compute_qc_stats_ray pid=2697243)\u001b[0m 2022-09-14 21:23:54,732 cisTopic     INFO     Marking barcodes with more than 10\n"
     ]
    },
    {
     "name": "stdout",
     "output_type": "stream",
     "text": [
      "\u001b[2m\u001b[36m(compute_qc_stats_ray pid=2697243)\u001b[0m 2022-09-14 21:23:55,889 cisTopic     INFO     Returning plot data\n",
      "\u001b[2m\u001b[36m(compute_qc_stats_ray pid=2697243)\u001b[0m 2022-09-14 21:23:55,893 cisTopic     INFO     Returning valid barcodes\n"
     ]
    },
    {
     "name": "stdout",
     "output_type": "stream",
     "text": [
      "\u001b[2m\u001b[36m(compute_qc_stats_ray pid=2697238)\u001b[0m 2022-09-14 21:24:01,195 cisTopic     INFO     Returning normalized TSS coverage matrix per barcode\n"
     ]
    },
    {
     "name": "stdout",
     "output_type": "stream",
     "text": [
      "\u001b[2m\u001b[36m(compute_qc_stats_ray pid=2697254)\u001b[0m 2022-09-14 21:24:02,935 cisTopic     INFO     Coverage matrix done\n"
     ]
    },
    {
     "name": "stdout",
     "output_type": "stream",
     "text": [
      "\u001b[2m\u001b[36m(compute_qc_stats_ray pid=2697243)\u001b[0m 2022-09-14 21:24:23,531 cisTopic     INFO     Computing duplicate rate plot for SAN_10xmultiome_1.15k\n"
     ]
    },
    {
     "name": "stdout",
     "output_type": "stream",
     "text": [
      "\u001b[2m\u001b[36m(compute_qc_stats_ray pid=2697252)\u001b[0m 2022-09-14 21:24:24,537 cisTopic     INFO     Computing TSS profile for CNA_mtscatac_1.15k\n"
     ]
    },
    {
     "name": "stdout",
     "output_type": "stream",
     "text": [
      "\u001b[2m\u001b[36m(compute_qc_stats_ray pid=2697260)\u001b[0m 2022-09-14 21:24:48,378 cisTopic     INFO     Computing barcode rank plot for CNA_10xv11_3.15k\n",
      "\u001b[2m\u001b[36m(compute_qc_stats_ray pid=2697260)\u001b[0m 2022-09-14 21:24:48,378 cisTopic     INFO     Counting fragments\n"
     ]
    },
    {
     "name": "stdout",
     "output_type": "stream",
     "text": [
      "\u001b[2m\u001b[36m(compute_qc_stats_ray pid=2697252)\u001b[0m 2022-09-14 21:24:49,532 cisTopic     INFO     Formatting annnotation\n"
     ]
    },
    {
     "name": "stdout",
     "output_type": "stream",
     "text": [
      "\u001b[2m\u001b[36m(compute_qc_stats_ray pid=2697252)\u001b[0m 2022-09-14 21:24:50,416 cisTopic     INFO     Creating coverage matrix\n"
     ]
    },
    {
     "name": "stdout",
     "output_type": "stream",
     "text": [
      "\u001b[2m\u001b[36m(compute_qc_stats_ray pid=2697257)\u001b[0m 2022-09-14 21:24:58,359 cisTopic     INFO     Coverage matrix done\n"
     ]
    },
    {
     "name": "stdout",
     "output_type": "stream",
     "text": [
      "\u001b[2m\u001b[36m(compute_qc_stats_ray pid=2697243)\u001b[0m 2022-09-14 21:25:14,854 cisTopic     INFO     Return plot data\n"
     ]
    },
    {
     "name": "stdout",
     "output_type": "stream",
     "text": [
      "\u001b[2m\u001b[36m(compute_qc_stats_ray pid=2697243)\u001b[0m 2022-09-14 21:25:16,220 cisTopic     INFO     Computing insert size distribution for SAN_10xmultiome_1.15k\n",
      "\u001b[2m\u001b[36m(compute_qc_stats_ray pid=2697243)\u001b[0m 2022-09-14 21:25:16,220 cisTopic     INFO     Counting fragments\n"
     ]
    },
    {
     "name": "stdout",
     "output_type": "stream",
     "text": [
      "\u001b[2m\u001b[36m(compute_qc_stats_ray pid=2697260)\u001b[0m 2022-09-14 21:25:18,043 cisTopic     INFO     Marking barcodes with more than 10\n"
     ]
    },
    {
     "name": "stdout",
     "output_type": "stream",
     "text": [
      "\u001b[2m\u001b[36m(compute_qc_stats_ray pid=2697260)\u001b[0m 2022-09-14 21:25:18,848 cisTopic     INFO     Returning plot data\n",
      "\u001b[2m\u001b[36m(compute_qc_stats_ray pid=2697260)\u001b[0m 2022-09-14 21:25:18,852 cisTopic     INFO     Returning valid barcodes\n"
     ]
    },
    {
     "name": "stdout",
     "output_type": "stream",
     "text": [
      "\u001b[2m\u001b[36m(compute_qc_stats_ray pid=2697241)\u001b[0m 2022-09-14 21:25:21,877 cisTopic     INFO     Computing barcode rank plot for SAN_10xmultiome_2.15k\n",
      "\u001b[2m\u001b[36m(compute_qc_stats_ray pid=2697241)\u001b[0m 2022-09-14 21:25:21,877 cisTopic     INFO     Counting fragments\n"
     ]
    },
    {
     "name": "stdout",
     "output_type": "stream",
     "text": [
      "\u001b[2m\u001b[36m(compute_qc_stats_ray pid=2697259)\u001b[0m 2022-09-14 21:25:28,761 cisTopic     INFO     Return plot data\n",
      "\u001b[2m\u001b[36m(compute_qc_stats_ray pid=2697243)\u001b[0m 2022-09-14 21:25:28,793 cisTopic     INFO     Returning plot data\n"
     ]
    },
    {
     "name": "stdout",
     "output_type": "stream",
     "text": [
      "\u001b[2m\u001b[36m(compute_qc_stats_ray pid=2697259)\u001b[0m 2022-09-14 21:25:30,287 cisTopic     INFO     Computing insert size distribution for BIO_ddseq_3.15k\n",
      "\u001b[2m\u001b[36m(compute_qc_stats_ray pid=2697259)\u001b[0m 2022-09-14 21:25:30,287 cisTopic     INFO     Counting fragments\n"
     ]
    },
    {
     "name": "stdout",
     "output_type": "stream",
     "text": [
      "\u001b[2m\u001b[36m(compute_qc_stats_ray pid=2697238)\u001b[0m 2022-09-14 21:25:32,399 cisTopic     INFO     Returning normalized sample TSS enrichment data\n"
     ]
    },
    {
     "name": "stdout",
     "output_type": "stream",
     "text": [
      "\u001b[2m\u001b[36m(compute_qc_stats_ray pid=2697238)\u001b[0m 2022-09-14 21:25:33,775 cisTopic     INFO     Computing FRIP profile for CNA_10xv11_5.15k\n"
     ]
    },
    {
     "name": "stdout",
     "output_type": "stream",
     "text": [
      "\u001b[2m\u001b[36m(compute_qc_stats_ray pid=2697259)\u001b[0m 2022-09-14 21:25:35,809 cisTopic     INFO     Returning plot data\n"
     ]
    },
    {
     "name": "stdout",
     "output_type": "stream",
     "text": [
      "\u001b[2m\u001b[36m(compute_qc_stats_ray pid=2697255)\u001b[0m 2022-09-14 21:25:43,970 cisTopic     INFO     Coverage matrix done\n",
      "\u001b[2m\u001b[36m(compute_qc_stats_ray pid=2697238)\u001b[0m 2022-09-14 21:25:43,965 cisTopic     INFO     Counting fragments\n"
     ]
    },
    {
     "name": "stdout",
     "output_type": "stream",
     "text": [
      "\u001b[2m\u001b[36m(compute_qc_stats_ray pid=2697260)\u001b[0m 2022-09-14 21:25:49,876 cisTopic     INFO     Computing duplicate rate plot for CNA_10xv11_3.15k\n"
     ]
    },
    {
     "name": "stdout",
     "output_type": "stream",
     "text": [
      "\u001b[2m\u001b[36m(compute_qc_stats_ray pid=2697238)\u001b[0m 2022-09-14 21:25:56,459 cisTopic     INFO     Intersecting fragments with regions\n"
     ]
    },
    {
     "name": "stdout",
     "output_type": "stream",
     "text": [
      "\u001b[2m\u001b[36m(compute_qc_stats_ray pid=2697241)\u001b[0m 2022-09-14 21:25:57,534 cisTopic     INFO     Marking barcodes with more than 10\n"
     ]
    },
    {
     "name": "stdout",
     "output_type": "stream",
     "text": [
      "\u001b[2m\u001b[36m(compute_qc_stats_ray pid=2697241)\u001b[0m 2022-09-14 21:25:58,700 cisTopic     INFO     Returning plot data\n",
      "\u001b[2m\u001b[36m(compute_qc_stats_ray pid=2697241)\u001b[0m 2022-09-14 21:25:58,784 cisTopic     INFO     Returning valid barcodes\n"
     ]
    },
    {
     "name": "stdout",
     "output_type": "stream",
     "text": [
      "\u001b[2m\u001b[36m(compute_qc_stats_ray pid=2697242)\u001b[0m 2022-09-14 21:26:09,532 cisTopic     INFO     Computing barcode rank plot for MDC_mtscatac_2.15k\n",
      "\u001b[2m\u001b[36m(compute_qc_stats_ray pid=2697242)\u001b[0m 2022-09-14 21:26:09,532 cisTopic     INFO     Counting fragments\n"
     ]
    },
    {
     "name": "stdout",
     "output_type": "stream",
     "text": [
      "\u001b[2m\u001b[36m(compute_qc_stats_ray pid=2697241)\u001b[0m 2022-09-14 21:26:31,338 cisTopic     INFO     Computing duplicate rate plot for SAN_10xmultiome_2.15k\n"
     ]
    },
    {
     "name": "stdout",
     "output_type": "stream",
     "text": [
      "\u001b[2m\u001b[36m(compute_qc_stats_ray pid=2697260)\u001b[0m 2022-09-14 21:26:38,902 cisTopic     INFO     Return plot data\n"
     ]
    },
    {
     "name": "stdout",
     "output_type": "stream",
     "text": [
      "\u001b[2m\u001b[36m(compute_qc_stats_ray pid=2697260)\u001b[0m 2022-09-14 21:26:40,234 cisTopic     INFO     Computing insert size distribution for CNA_10xv11_3.15k\n",
      "\u001b[2m\u001b[36m(compute_qc_stats_ray pid=2697260)\u001b[0m 2022-09-14 21:26:40,234 cisTopic     INFO     Counting fragments\n"
     ]
    },
    {
     "name": "stdout",
     "output_type": "stream",
     "text": [
      "\u001b[2m\u001b[36m(compute_qc_stats_ray pid=2697242)\u001b[0m 2022-09-14 21:26:42,574 cisTopic     INFO     Marking barcodes with more than 10\n"
     ]
    },
    {
     "name": "stdout",
     "output_type": "stream",
     "text": [
      "\u001b[2m\u001b[36m(compute_qc_stats_ray pid=2697242)\u001b[0m 2022-09-14 21:26:43,434 cisTopic     INFO     Returning plot data\n",
      "\u001b[2m\u001b[36m(compute_qc_stats_ray pid=2697242)\u001b[0m 2022-09-14 21:26:43,437 cisTopic     INFO     Returning valid barcodes\n"
     ]
    },
    {
     "name": "stdout",
     "output_type": "stream",
     "text": [
      "\u001b[2m\u001b[36m(compute_qc_stats_ray pid=2697238)\u001b[0m 2022-09-14 21:26:45,199 cisTopic     INFO     Sample CNA_10xv11_5.15k done!\n"
     ]
    },
    {
     "name": "stdout",
     "output_type": "stream",
     "text": [
      "\u001b[2m\u001b[36m(compute_qc_stats_ray pid=2697260)\u001b[0m 2022-09-14 21:26:53,727 cisTopic     INFO     Returning plot data\n"
     ]
    },
    {
     "name": "stdout",
     "output_type": "stream",
     "text": [
      "\u001b[2m\u001b[36m(compute_qc_stats_ray pid=2697253)\u001b[0m 2022-09-14 21:26:58,033 cisTopic     INFO     Computing TSS profile for CNA_10xmultiome_2.15k\n"
     ]
    },
    {
     "name": "stdout",
     "output_type": "stream",
     "text": [
      "\u001b[2m\u001b[36m(compute_qc_stats_ray pid=2697256)\u001b[0m 2022-09-14 21:26:58,700 cisTopic     INFO     Coverage matrix done\n"
     ]
    },
    {
     "name": "stdout",
     "output_type": "stream",
     "text": [
      "\u001b[2m\u001b[36m(compute_qc_stats_ray pid=2697259)\u001b[0m 2022-09-14 21:27:16,492 cisTopic     INFO     Computing TSS profile for BIO_ddseq_3.15k\n"
     ]
    },
    {
     "name": "stdout",
     "output_type": "stream",
     "text": [
      "\u001b[2m\u001b[36m(compute_qc_stats_ray pid=2697242)\u001b[0m 2022-09-14 21:27:18,314 cisTopic     INFO     Computing duplicate rate plot for MDC_mtscatac_2.15k\n"
     ]
    },
    {
     "name": "stdout",
     "output_type": "stream",
     "text": [
      "\u001b[2m\u001b[36m(compute_qc_stats_ray pid=2697241)\u001b[0m 2022-09-14 21:27:29,145 cisTopic     INFO     Return plot data\n"
     ]
    },
    {
     "name": "stdout",
     "output_type": "stream",
     "text": [
      "\u001b[2m\u001b[36m(compute_qc_stats_ray pid=2697241)\u001b[0m 2022-09-14 21:27:30,327 cisTopic     INFO     Computing insert size distribution for SAN_10xmultiome_2.15k\n",
      "\u001b[2m\u001b[36m(compute_qc_stats_ray pid=2697241)\u001b[0m 2022-09-14 21:27:30,328 cisTopic     INFO     Counting fragments\n"
     ]
    },
    {
     "name": "stdout",
     "output_type": "stream",
     "text": [
      "\u001b[2m\u001b[36m(compute_qc_stats_ray pid=2697253)\u001b[0m 2022-09-14 21:27:44,296 cisTopic     INFO     Formatting annnotation\n"
     ]
    },
    {
     "name": "stdout",
     "output_type": "stream",
     "text": [
      "\u001b[2m\u001b[36m(compute_qc_stats_ray pid=2697241)\u001b[0m 2022-09-14 21:27:44,549 cisTopic     INFO     Returning plot data\n"
     ]
    },
    {
     "name": "stdout",
     "output_type": "stream",
     "text": [
      "\u001b[2m\u001b[36m(compute_qc_stats_ray pid=2697253)\u001b[0m 2022-09-14 21:27:45,211 cisTopic     INFO     Creating coverage matrix\n"
     ]
    },
    {
     "name": "stdout",
     "output_type": "stream",
     "text": [
      "\u001b[2m\u001b[36m(compute_qc_stats_ray pid=2697259)\u001b[0m 2022-09-14 21:28:05,290 cisTopic     INFO     Formatting annnotation\n"
     ]
    },
    {
     "name": "stdout",
     "output_type": "stream",
     "text": [
      "\u001b[2m\u001b[36m(compute_qc_stats_ray pid=2697259)\u001b[0m 2022-09-14 21:28:06,276 cisTopic     INFO     Creating coverage matrix\n"
     ]
    },
    {
     "name": "stdout",
     "output_type": "stream",
     "text": [
      "\u001b[2m\u001b[36m(compute_qc_stats_ray pid=2697242)\u001b[0m 2022-09-14 21:28:09,403 cisTopic     INFO     Return plot data\n"
     ]
    },
    {
     "name": "stdout",
     "output_type": "stream",
     "text": [
      "\u001b[2m\u001b[36m(compute_qc_stats_ray pid=2697242)\u001b[0m 2022-09-14 21:28:10,630 cisTopic     INFO     Computing insert size distribution for MDC_mtscatac_2.15k\n",
      "\u001b[2m\u001b[36m(compute_qc_stats_ray pid=2697242)\u001b[0m 2022-09-14 21:28:10,631 cisTopic     INFO     Counting fragments\n"
     ]
    },
    {
     "name": "stdout",
     "output_type": "stream",
     "text": [
      "\u001b[2m\u001b[36m(compute_qc_stats_ray pid=2697242)\u001b[0m 2022-09-14 21:28:25,479 cisTopic     INFO     Returning plot data\n"
     ]
    },
    {
     "name": "stdout",
     "output_type": "stream",
     "text": [
      "\u001b[2m\u001b[36m(compute_qc_stats_ray pid=2697243)\u001b[0m 2022-09-14 21:29:14,420 cisTopic     INFO     Computing TSS profile for SAN_10xmultiome_1.15k\n"
     ]
    },
    {
     "name": "stdout",
     "output_type": "stream",
     "text": [
      "\u001b[2m\u001b[36m(compute_qc_stats_ray pid=2697252)\u001b[0m 2022-09-14 21:29:19,455 cisTopic     INFO     Coverage matrix done\n"
     ]
    },
    {
     "name": "stdout",
     "output_type": "stream",
     "text": [
      "\u001b[2m\u001b[36m(compute_qc_stats_ray pid=2697258)\u001b[0m 2022-09-14 21:29:52,322 cisTopic     INFO     Computing barcode rank plot for HAR_ddseq_1.15k\n",
      "\u001b[2m\u001b[36m(compute_qc_stats_ray pid=2697258)\u001b[0m 2022-09-14 21:29:52,322 cisTopic     INFO     Counting fragments\n"
     ]
    },
    {
     "name": "stdout",
     "output_type": "stream",
     "text": [
      "\u001b[2m\u001b[36m(compute_qc_stats_ray pid=2697243)\u001b[0m 2022-09-14 21:30:08,010 cisTopic     INFO     Formatting annnotation\n"
     ]
    },
    {
     "name": "stdout",
     "output_type": "stream",
     "text": [
      "\u001b[2m\u001b[36m(compute_qc_stats_ray pid=2697243)\u001b[0m 2022-09-14 21:30:08,931 cisTopic     INFO     Creating coverage matrix\n"
     ]
    },
    {
     "name": "stdout",
     "output_type": "stream",
     "text": [
      "\u001b[2m\u001b[36m(compute_qc_stats_ray pid=2697252)\u001b[0m 2022-09-14 21:30:52,358 cisTopic     INFO     Returning normalized TSS coverage matrix per barcode\n"
     ]
    },
    {
     "name": "stdout",
     "output_type": "stream",
     "text": [
      "\u001b[2m\u001b[36m(compute_qc_stats_ray pid=2697260)\u001b[0m 2022-09-14 21:31:06,141 cisTopic     INFO     Computing TSS profile for CNA_10xv11_3.15k\n"
     ]
    },
    {
     "name": "stdout",
     "output_type": "stream",
     "text": [
      "\u001b[2m\u001b[36m(compute_qc_stats_ray pid=2697257)\u001b[0m 2022-09-14 21:31:10,251 cisTopic     INFO     Returning normalized TSS coverage matrix per barcode\n"
     ]
    },
    {
     "name": "stdout",
     "output_type": "stream",
     "text": [
      "\u001b[2m\u001b[36m(compute_qc_stats_ray pid=2697252)\u001b[0m 2022-09-14 21:31:56,537 cisTopic     INFO     Returning normalized sample TSS enrichment data\n"
     ]
    },
    {
     "name": "stdout",
     "output_type": "stream",
     "text": [
      "\u001b[2m\u001b[36m(compute_qc_stats_ray pid=2697252)\u001b[0m 2022-09-14 21:31:57,744 cisTopic     INFO     Computing FRIP profile for CNA_mtscatac_1.15k\n"
     ]
    },
    {
     "name": "stdout",
     "output_type": "stream",
     "text": [
      "\u001b[2m\u001b[36m(compute_qc_stats_ray pid=2697258)\u001b[0m 2022-09-14 21:32:03,904 cisTopic     INFO     Marking barcodes with more than 10\n"
     ]
    },
    {
     "name": "stdout",
     "output_type": "stream",
     "text": [
      "\u001b[2m\u001b[36m(compute_qc_stats_ray pid=2697252)\u001b[0m 2022-09-14 21:32:05,156 cisTopic     INFO     Counting fragments\n"
     ]
    },
    {
     "name": "stdout",
     "output_type": "stream",
     "text": [
      "\u001b[2m\u001b[36m(compute_qc_stats_ray pid=2697260)\u001b[0m 2022-09-14 21:32:07,866 cisTopic     INFO     Formatting annnotation\n"
     ]
    },
    {
     "name": "stdout",
     "output_type": "stream",
     "text": [
      "\u001b[2m\u001b[36m(compute_qc_stats_ray pid=2697260)\u001b[0m 2022-09-14 21:32:08,817 cisTopic     INFO     Creating coverage matrix\n"
     ]
    },
    {
     "name": "stdout",
     "output_type": "stream",
     "text": [
      "\u001b[2m\u001b[36m(compute_qc_stats_ray pid=2697258)\u001b[0m 2022-09-14 21:32:12,262 cisTopic     INFO     Returning plot data\n",
      "\u001b[2m\u001b[36m(compute_qc_stats_ray pid=2697258)\u001b[0m 2022-09-14 21:32:12,447 cisTopic     INFO     Returning valid barcodes\n"
     ]
    },
    {
     "name": "stdout",
     "output_type": "stream",
     "text": [
      "\u001b[2m\u001b[36m(compute_qc_stats_ray pid=2697241)\u001b[0m 2022-09-14 21:32:12,681 cisTopic     INFO     Computing TSS profile for SAN_10xmultiome_2.15k\n"
     ]
    },
    {
     "name": "stdout",
     "output_type": "stream",
     "text": [
      "\u001b[2m\u001b[36m(compute_qc_stats_ray pid=2697252)\u001b[0m 2022-09-14 21:32:32,163 cisTopic     INFO     Intersecting fragments with regions\n"
     ]
    },
    {
     "name": "stdout",
     "output_type": "stream",
     "text": [
      "\u001b[2m\u001b[36m(compute_qc_stats_ray pid=2697258)\u001b[0m 2022-09-14 21:32:43,330 cisTopic     INFO     Computing duplicate rate plot for HAR_ddseq_1.15k\n"
     ]
    },
    {
     "name": "stdout",
     "output_type": "stream",
     "text": [
      "\u001b[2m\u001b[36m(compute_qc_stats_ray pid=2697241)\u001b[0m 2022-09-14 21:33:17,416 cisTopic     INFO     Formatting annnotation\n"
     ]
    },
    {
     "name": "stdout",
     "output_type": "stream",
     "text": [
      "\u001b[2m\u001b[36m(compute_qc_stats_ray pid=2697241)\u001b[0m 2022-09-14 21:33:18,305 cisTopic     INFO     Creating coverage matrix\n"
     ]
    },
    {
     "name": "stdout",
     "output_type": "stream",
     "text": [
      "\u001b[2m\u001b[36m(compute_qc_stats_ray pid=2697242)\u001b[0m 2022-09-14 21:33:23,444 cisTopic     INFO     Computing TSS profile for MDC_mtscatac_2.15k\n"
     ]
    },
    {
     "name": "stdout",
     "output_type": "stream",
     "text": [
      "\u001b[2m\u001b[36m(compute_qc_stats_ray pid=2697261)\u001b[0m 2022-09-14 21:33:28,596 cisTopic     INFO     Coverage matrix done\n"
     ]
    },
    {
     "name": "stdout",
     "output_type": "stream",
     "text": [
      "\u001b[2m\u001b[36m(compute_qc_stats_ray pid=2697252)\u001b[0m 2022-09-14 21:33:39,888 cisTopic     INFO     Sample CNA_mtscatac_1.15k done!\n"
     ]
    },
    {
     "name": "stdout",
     "output_type": "stream",
     "text": [
      "\u001b[2m\u001b[36m(compute_qc_stats_ray pid=2697242)\u001b[0m 2022-09-14 21:34:19,918 cisTopic     INFO     Formatting annnotation\n"
     ]
    },
    {
     "name": "stdout",
     "output_type": "stream",
     "text": [
      "\u001b[2m\u001b[36m(compute_qc_stats_ray pid=2697242)\u001b[0m 2022-09-14 21:34:20,713 cisTopic     INFO     Creating coverage matrix\n"
     ]
    },
    {
     "name": "stdout",
     "output_type": "stream",
     "text": [
      "\u001b[2m\u001b[36m(compute_qc_stats_ray pid=2697256)\u001b[0m 2022-09-14 21:34:36,099 cisTopic     INFO     Returning normalized TSS coverage matrix per barcode\n"
     ]
    },
    {
     "name": "stdout",
     "output_type": "stream",
     "text": [
      "\u001b[2m\u001b[36m(compute_qc_stats_ray pid=2697240)\u001b[0m 2022-09-14 21:35:09,337 cisTopic     INFO     Returning normalized TSS coverage matrix per barcode\n"
     ]
    },
    {
     "name": "stdout",
     "output_type": "stream",
     "text": [
      "\u001b[2m\u001b[36m(compute_qc_stats_ray pid=2697257)\u001b[0m 2022-09-14 21:35:19,202 cisTopic     INFO     Returning normalized sample TSS enrichment data\n"
     ]
    },
    {
     "name": "stdout",
     "output_type": "stream",
     "text": [
      "\u001b[2m\u001b[36m(compute_qc_stats_ray pid=2697257)\u001b[0m 2022-09-14 21:35:20,367 cisTopic     INFO     Computing FRIP profile for STA_10xv11_2.15k\n"
     ]
    },
    {
     "name": "stdout",
     "output_type": "stream",
     "text": [
      "\u001b[2m\u001b[36m(compute_qc_stats_ray pid=2697257)\u001b[0m 2022-09-14 21:35:27,751 cisTopic     INFO     Counting fragments\n"
     ]
    },
    {
     "name": "stdout",
     "output_type": "stream",
     "text": [
      "\u001b[2m\u001b[36m(compute_qc_stats_ray pid=2697257)\u001b[0m 2022-09-14 21:35:42,238 cisTopic     INFO     Intersecting fragments with regions\n"
     ]
    },
    {
     "name": "stdout",
     "output_type": "stream",
     "text": [
      "\u001b[2m\u001b[36m(compute_qc_stats_ray pid=2697239)\u001b[0m 2022-09-14 21:35:52,184 cisTopic     INFO     Computing barcode rank plot for VIB_10xv1_2.15k\n",
      "\u001b[2m\u001b[36m(compute_qc_stats_ray pid=2697239)\u001b[0m 2022-09-14 21:35:52,184 cisTopic     INFO     Counting fragments\n"
     ]
    },
    {
     "name": "stdout",
     "output_type": "stream",
     "text": [
      "\u001b[2m\u001b[36m(compute_qc_stats_ray pid=2697253)\u001b[0m 2022-09-14 21:36:14,724 cisTopic     INFO     Coverage matrix done\n"
     ]
    },
    {
     "name": "stdout",
     "output_type": "stream",
     "text": [
      "\u001b[2m\u001b[36m(compute_qc_stats_ray pid=2697257)\u001b[0m 2022-09-14 21:36:17,404 cisTopic     INFO     Sample STA_10xv11_2.15k done!\n"
     ]
    },
    {
     "name": "stdout",
     "output_type": "stream",
     "text": [
      "\u001b[2m\u001b[36m(compute_qc_stats_ray pid=2697239)\u001b[0m 2022-09-14 21:36:45,402 cisTopic     INFO     Marking barcodes with more than 10\n"
     ]
    },
    {
     "name": "stdout",
     "output_type": "stream",
     "text": [
      "\u001b[2m\u001b[36m(compute_qc_stats_ray pid=2697258)\u001b[0m 2022-09-14 21:36:45,901 cisTopic     INFO     Return plot data\n"
     ]
    },
    {
     "name": "stdout",
     "output_type": "stream",
     "text": [
      "\u001b[2m\u001b[36m(compute_qc_stats_ray pid=2697239)\u001b[0m 2022-09-14 21:36:46,541 cisTopic     INFO     Returning plot data\n",
      "\u001b[2m\u001b[36m(compute_qc_stats_ray pid=2697239)\u001b[0m 2022-09-14 21:36:46,613 cisTopic     INFO     Returning valid barcodes\n"
     ]
    },
    {
     "name": "stdout",
     "output_type": "stream",
     "text": [
      "\u001b[2m\u001b[36m(compute_qc_stats_ray pid=2697258)\u001b[0m 2022-09-14 21:36:47,386 cisTopic     INFO     Computing insert size distribution for HAR_ddseq_1.15k\n",
      "\u001b[2m\u001b[36m(compute_qc_stats_ray pid=2697258)\u001b[0m 2022-09-14 21:36:47,386 cisTopic     INFO     Counting fragments\n"
     ]
    },
    {
     "name": "stdout",
     "output_type": "stream",
     "text": [
      "\u001b[2m\u001b[36m(compute_qc_stats_ray pid=2697258)\u001b[0m 2022-09-14 21:36:56,281 cisTopic     INFO     Returning plot data\n"
     ]
    },
    {
     "name": "stdout",
     "output_type": "stream",
     "text": [
      "\u001b[2m\u001b[36m(compute_qc_stats_ray pid=2697239)\u001b[0m 2022-09-14 21:37:43,864 cisTopic     INFO     Computing duplicate rate plot for VIB_10xv1_2.15k\n"
     ]
    },
    {
     "name": "stdout",
     "output_type": "stream",
     "text": [
      "\u001b[2m\u001b[36m(compute_qc_stats_ray pid=2697259)\u001b[0m 2022-09-14 21:38:48,519 cisTopic     INFO     Coverage matrix done\n"
     ]
    },
    {
     "name": "stdout",
     "output_type": "stream",
     "text": [
      "\u001b[2m\u001b[36m(compute_qc_stats_ray pid=2697239)\u001b[0m 2022-09-14 21:39:17,616 cisTopic     INFO     Return plot data\n"
     ]
    },
    {
     "name": "stdout",
     "output_type": "stream",
     "text": [
      "\u001b[2m\u001b[36m(compute_qc_stats_ray pid=2697239)\u001b[0m 2022-09-14 21:39:18,713 cisTopic     INFO     Computing insert size distribution for VIB_10xv1_2.15k\n",
      "\u001b[2m\u001b[36m(compute_qc_stats_ray pid=2697239)\u001b[0m 2022-09-14 21:39:18,713 cisTopic     INFO     Counting fragments\n"
     ]
    },
    {
     "name": "stdout",
     "output_type": "stream",
     "text": [
      "\u001b[2m\u001b[36m(compute_qc_stats_ray pid=2697256)\u001b[0m 2022-09-14 21:39:39,122 cisTopic     INFO     Returning normalized sample TSS enrichment data\n"
     ]
    },
    {
     "name": "stdout",
     "output_type": "stream",
     "text": [
      "\u001b[2m\u001b[36m(compute_qc_stats_ray pid=2697256)\u001b[0m 2022-09-14 21:39:40,191 cisTopic     INFO     Computing FRIP profile for VIB_10xmultiome_2.15k\n"
     ]
    },
    {
     "name": "stdout",
     "output_type": "stream",
     "text": [
      "\u001b[2m\u001b[36m(compute_qc_stats_ray pid=2697239)\u001b[0m 2022-09-14 21:39:43,097 cisTopic     INFO     Returning plot data\n"
     ]
    },
    {
     "name": "stdout",
     "output_type": "stream",
     "text": [
      "\u001b[2m\u001b[36m(compute_qc_stats_ray pid=2697256)\u001b[0m 2022-09-14 21:39:46,732 cisTopic     INFO     Counting fragments\n"
     ]
    },
    {
     "name": "stdout",
     "output_type": "stream",
     "text": [
      "\u001b[2m\u001b[36m(compute_qc_stats_ray pid=2697254)\u001b[0m 2022-09-14 21:40:02,562 cisTopic     INFO     Returning normalized TSS coverage matrix per barcode\n"
     ]
    },
    {
     "name": "stdout",
     "output_type": "stream",
     "text": [
      "\u001b[2m\u001b[36m(compute_qc_stats_ray pid=2697256)\u001b[0m 2022-09-14 21:40:04,259 cisTopic     INFO     Intersecting fragments with regions\n"
     ]
    },
    {
     "name": "stdout",
     "output_type": "stream",
     "text": [
      "\u001b[2m\u001b[36m(compute_qc_stats_ray pid=2697243)\u001b[0m 2022-09-14 21:40:09,613 cisTopic     INFO     Coverage matrix done\n"
     ]
    },
    {
     "name": "stdout",
     "output_type": "stream",
     "text": [
      "\u001b[2m\u001b[36m(compute_qc_stats_ray pid=2697258)\u001b[0m 2022-09-14 21:40:19,178 cisTopic     INFO     Computing TSS profile for HAR_ddseq_1.15k\n"
     ]
    },
    {
     "name": "stdout",
     "output_type": "stream",
     "text": [
      "\u001b[2m\u001b[36m(compute_qc_stats_ray pid=2697256)\u001b[0m 2022-09-14 21:40:49,576 cisTopic     INFO     Sample VIB_10xmultiome_2.15k done!\n"
     ]
    },
    {
     "name": "stdout",
     "output_type": "stream",
     "text": [
      "\u001b[2m\u001b[36m(compute_qc_stats_ray pid=2697258)\u001b[0m 2022-09-14 21:41:41,455 cisTopic     INFO     Formatting annnotation\n"
     ]
    },
    {
     "name": "stdout",
     "output_type": "stream",
     "text": [
      "\u001b[2m\u001b[36m(compute_qc_stats_ray pid=2697258)\u001b[0m 2022-09-14 21:41:42,190 cisTopic     INFO     Creating coverage matrix\n"
     ]
    },
    {
     "name": "stdout",
     "output_type": "stream",
     "text": [
      "\u001b[2m\u001b[36m(compute_qc_stats_ray pid=2697242)\u001b[0m 2022-09-14 21:42:24,939 cisTopic     INFO     Coverage matrix done\n"
     ]
    },
    {
     "name": "stdout",
     "output_type": "stream",
     "text": [
      "\u001b[2m\u001b[36m(compute_qc_stats_ray pid=2697240)\u001b[0m 2022-09-14 21:43:08,842 cisTopic     INFO     Returning normalized sample TSS enrichment data\n"
     ]
    },
    {
     "name": "stdout",
     "output_type": "stream",
     "text": [
      "\u001b[2m\u001b[36m(compute_qc_stats_ray pid=2697240)\u001b[0m 2022-09-14 21:43:09,892 cisTopic     INFO     Computing FRIP profile for VIB_hydrop_22.15k\n"
     ]
    },
    {
     "name": "stdout",
     "output_type": "stream",
     "text": [
      "\u001b[2m\u001b[36m(compute_qc_stats_ray pid=2697240)\u001b[0m 2022-09-14 21:43:14,681 cisTopic     INFO     Counting fragments\n"
     ]
    },
    {
     "name": "stdout",
     "output_type": "stream",
     "text": [
      "\u001b[2m\u001b[36m(compute_qc_stats_ray pid=2697240)\u001b[0m 2022-09-14 21:43:20,552 cisTopic     INFO     Intersecting fragments with regions\n"
     ]
    },
    {
     "name": "stdout",
     "output_type": "stream",
     "text": [
      "\u001b[2m\u001b[36m(compute_qc_stats_ray pid=2697240)\u001b[0m 2022-09-14 21:43:44,162 cisTopic     INFO     Sample VIB_hydrop_22.15k done!\n"
     ]
    },
    {
     "name": "stdout",
     "output_type": "stream",
     "text": [
      "\u001b[2m\u001b[36m(compute_qc_stats_ray pid=2697260)\u001b[0m 2022-09-14 21:43:45,398 cisTopic     INFO     Coverage matrix done\n"
     ]
    },
    {
     "name": "stdout",
     "output_type": "stream",
     "text": [
      "\u001b[2m\u001b[36m(compute_qc_stats_ray pid=2697241)\u001b[0m 2022-09-14 21:44:33,738 cisTopic     INFO     Coverage matrix done\n"
     ]
    },
    {
     "name": "stdout",
     "output_type": "stream",
     "text": [
      "\u001b[2m\u001b[36m(compute_qc_stats_ray pid=2697255)\u001b[0m 2022-09-14 21:44:45,218 cisTopic     INFO     Returning normalized TSS coverage matrix per barcode\n"
     ]
    },
    {
     "name": "stdout",
     "output_type": "stream",
     "text": [
      "\u001b[2m\u001b[36m(compute_qc_stats_ray pid=2697242)\u001b[0m 2022-09-14 21:45:43,488 cisTopic     INFO     Returning normalized TSS coverage matrix per barcode\n"
     ]
    },
    {
     "name": "stdout",
     "output_type": "stream",
     "text": [
      "\u001b[2m\u001b[36m(compute_qc_stats_ray pid=2697253)\u001b[0m 2022-09-14 21:46:08,213 cisTopic     INFO     Returning normalized TSS coverage matrix per barcode\n"
     ]
    },
    {
     "name": "stdout",
     "output_type": "stream",
     "text": [
      "\u001b[2m\u001b[36m(compute_qc_stats_ray pid=2697239)\u001b[0m 2022-09-14 21:46:35,544 cisTopic     INFO     Computing TSS profile for VIB_10xv1_2.15k\n"
     ]
    },
    {
     "name": "stdout",
     "output_type": "stream",
     "text": [
      "\u001b[2m\u001b[36m(compute_qc_stats_ray pid=2697242)\u001b[0m 2022-09-14 21:47:58,004 cisTopic     INFO     Returning normalized sample TSS enrichment data\n"
     ]
    },
    {
     "name": "stdout",
     "output_type": "stream",
     "text": [
      "\u001b[2m\u001b[36m(compute_qc_stats_ray pid=2697242)\u001b[0m 2022-09-14 21:47:58,919 cisTopic     INFO     Computing FRIP profile for MDC_mtscatac_2.15k\n"
     ]
    },
    {
     "name": "stdout",
     "output_type": "stream",
     "text": [
      "\u001b[2m\u001b[36m(compute_qc_stats_ray pid=2697242)\u001b[0m 2022-09-14 21:48:07,380 cisTopic     INFO     Counting fragments\n"
     ]
    },
    {
     "name": "stdout",
     "output_type": "stream",
     "text": [
      "\u001b[2m\u001b[36m(compute_qc_stats_ray pid=2697239)\u001b[0m 2022-09-14 21:48:31,987 cisTopic     INFO     Formatting annnotation\n",
      "\u001b[2m\u001b[36m(compute_qc_stats_ray pid=2697243)\u001b[0m 2022-09-14 21:48:31,974 cisTopic     INFO     Returning normalized TSS coverage matrix per barcode\n"
     ]
    },
    {
     "name": "stdout",
     "output_type": "stream",
     "text": [
      "\u001b[2m\u001b[36m(compute_qc_stats_ray pid=2697239)\u001b[0m 2022-09-14 21:48:32,681 cisTopic     INFO     Creating coverage matrix\n"
     ]
    },
    {
     "name": "stdout",
     "output_type": "stream",
     "text": [
      "\u001b[2m\u001b[36m(compute_qc_stats_ray pid=2697254)\u001b[0m 2022-09-14 21:48:38,868 cisTopic     INFO     Returning normalized sample TSS enrichment data\n"
     ]
    },
    {
     "name": "stdout",
     "output_type": "stream",
     "text": [
      "\u001b[2m\u001b[36m(compute_qc_stats_ray pid=2697254)\u001b[0m 2022-09-14 21:48:39,793 cisTopic     INFO     Computing FRIP profile for VIB_hydrop_12.15k\n"
     ]
    },
    {
     "name": "stdout",
     "output_type": "stream",
     "text": [
      "\u001b[2m\u001b[36m(compute_qc_stats_ray pid=2697254)\u001b[0m 2022-09-14 21:48:43,698 cisTopic     INFO     Counting fragments\n"
     ]
    },
    {
     "name": "stdout",
     "output_type": "stream",
     "text": [
      "\u001b[2m\u001b[36m(compute_qc_stats_ray pid=2697242)\u001b[0m 2022-09-14 21:48:45,560 cisTopic     INFO     Intersecting fragments with regions\n"
     ]
    },
    {
     "name": "stdout",
     "output_type": "stream",
     "text": [
      "\u001b[2m\u001b[36m(compute_qc_stats_ray pid=2697254)\u001b[0m 2022-09-14 21:48:50,380 cisTopic     INFO     Intersecting fragments with regions\n"
     ]
    },
    {
     "name": "stdout",
     "output_type": "stream",
     "text": [
      "\u001b[2m\u001b[36m(compute_qc_stats_ray pid=2697254)\u001b[0m 2022-09-14 21:49:17,127 cisTopic     INFO     Sample VIB_hydrop_12.15k done!\n"
     ]
    },
    {
     "name": "stdout",
     "output_type": "stream",
     "text": [
      "\u001b[2m\u001b[36m(compute_qc_stats_ray pid=2697261)\u001b[0m 2022-09-14 21:50:11,069 cisTopic     INFO     Returning normalized TSS coverage matrix per barcode\n"
     ]
    },
    {
     "name": "stdout",
     "output_type": "stream",
     "text": [
      "\u001b[2m\u001b[36m(compute_qc_stats_ray pid=2697242)\u001b[0m 2022-09-14 21:50:28,914 cisTopic     INFO     Sample MDC_mtscatac_2.15k done!\n"
     ]
    },
    {
     "name": "stdout",
     "output_type": "stream",
     "text": [
      "\u001b[2m\u001b[36m(compute_qc_stats_ray pid=2697259)\u001b[0m 2022-09-14 21:51:24,168 cisTopic     INFO     Returning normalized TSS coverage matrix per barcode\n"
     ]
    },
    {
     "name": "stdout",
     "output_type": "stream",
     "text": [
      "\u001b[2m\u001b[36m(compute_qc_stats_ray pid=2697260)\u001b[0m 2022-09-14 21:51:25,863 cisTopic     INFO     Returning normalized TSS coverage matrix per barcode\n"
     ]
    },
    {
     "name": "stdout",
     "output_type": "stream",
     "text": [
      "\u001b[2m\u001b[36m(compute_qc_stats_ray pid=2697253)\u001b[0m 2022-09-14 21:51:41,542 cisTopic     INFO     Returning normalized sample TSS enrichment data\n"
     ]
    },
    {
     "name": "stdout",
     "output_type": "stream",
     "text": [
      "\u001b[2m\u001b[36m(compute_qc_stats_ray pid=2697253)\u001b[0m 2022-09-14 21:51:42,293 cisTopic     INFO     Computing FRIP profile for CNA_10xmultiome_2.15k\n"
     ]
    },
    {
     "name": "stdout",
     "output_type": "stream",
     "text": [
      "\u001b[2m\u001b[36m(compute_qc_stats_ray pid=2697253)\u001b[0m 2022-09-14 21:51:47,127 cisTopic     INFO     Counting fragments\n"
     ]
    },
    {
     "name": "stdout",
     "output_type": "stream",
     "text": [
      "\u001b[2m\u001b[36m(compute_qc_stats_ray pid=2697241)\u001b[0m 2022-09-14 21:51:53,173 cisTopic     INFO     Returning normalized TSS coverage matrix per barcode\n"
     ]
    },
    {
     "name": "stdout",
     "output_type": "stream",
     "text": [
      "\u001b[2m\u001b[36m(compute_qc_stats_ray pid=2697253)\u001b[0m 2022-09-14 21:52:06,725 cisTopic     INFO     Intersecting fragments with regions\n"
     ]
    },
    {
     "name": "stdout",
     "output_type": "stream",
     "text": [
      "\u001b[2m\u001b[36m(compute_qc_stats_ray pid=2697253)\u001b[0m 2022-09-14 21:53:00,836 cisTopic     INFO     Sample CNA_10xmultiome_2.15k done!\n"
     ]
    },
    {
     "name": "stdout",
     "output_type": "stream",
     "text": [
      "\u001b[2m\u001b[36m(compute_qc_stats_ray pid=2697243)\u001b[0m 2022-09-14 21:53:18,063 cisTopic     INFO     Returning normalized sample TSS enrichment data\n"
     ]
    },
    {
     "name": "stdout",
     "output_type": "stream",
     "text": [
      "\u001b[2m\u001b[36m(compute_qc_stats_ray pid=2697243)\u001b[0m 2022-09-14 21:53:18,746 cisTopic     INFO     Computing FRIP profile for SAN_10xmultiome_1.15k\n"
     ]
    },
    {
     "name": "stdout",
     "output_type": "stream",
     "text": [
      "\u001b[2m\u001b[36m(compute_qc_stats_ray pid=2697243)\u001b[0m 2022-09-14 21:53:24,244 cisTopic     INFO     Counting fragments\n"
     ]
    },
    {
     "name": "stdout",
     "output_type": "stream",
     "text": [
      "\u001b[2m\u001b[36m(compute_qc_stats_ray pid=2697243)\u001b[0m 2022-09-14 21:53:48,797 cisTopic     INFO     Intersecting fragments with regions\n"
     ]
    },
    {
     "name": "stdout",
     "output_type": "stream",
     "text": [
      "\u001b[2m\u001b[36m(compute_qc_stats_ray pid=2697255)\u001b[0m 2022-09-14 21:53:51,911 cisTopic     INFO     Returning normalized sample TSS enrichment data\n"
     ]
    },
    {
     "name": "stdout",
     "output_type": "stream",
     "text": [
      "\u001b[2m\u001b[36m(compute_qc_stats_ray pid=2697255)\u001b[0m 2022-09-14 21:53:52,656 cisTopic     INFO     Computing FRIP profile for CNA_hydrop_1.15k\n"
     ]
    },
    {
     "name": "stdout",
     "output_type": "stream",
     "text": [
      "\u001b[2m\u001b[36m(compute_qc_stats_ray pid=2697255)\u001b[0m 2022-09-14 21:53:55,368 cisTopic     INFO     Counting fragments\n"
     ]
    },
    {
     "name": "stdout",
     "output_type": "stream",
     "text": [
      "\u001b[2m\u001b[36m(compute_qc_stats_ray pid=2697255)\u001b[0m 2022-09-14 21:54:02,142 cisTopic     INFO     Intersecting fragments with regions\n"
     ]
    },
    {
     "name": "stdout",
     "output_type": "stream",
     "text": [
      "\u001b[2m\u001b[36m(compute_qc_stats_ray pid=2697258)\u001b[0m 2022-09-14 21:54:09,030 cisTopic     INFO     Coverage matrix done\n"
     ]
    },
    {
     "name": "stdout",
     "output_type": "stream",
     "text": [
      "\u001b[2m\u001b[36m(compute_qc_stats_ray pid=2697255)\u001b[0m 2022-09-14 21:54:17,802 cisTopic     INFO     Sample CNA_hydrop_1.15k done!\n"
     ]
    },
    {
     "name": "stdout",
     "output_type": "stream",
     "text": [
      "\u001b[2m\u001b[36m(compute_qc_stats_ray pid=2697243)\u001b[0m 2022-09-14 21:54:53,153 cisTopic     INFO     Sample SAN_10xmultiome_1.15k done!\n"
     ]
    },
    {
     "name": "stdout",
     "output_type": "stream",
     "text": [
      "\u001b[2m\u001b[36m(compute_qc_stats_ray pid=2697260)\u001b[0m 2022-09-14 21:55:26,557 cisTopic     INFO     Returning normalized sample TSS enrichment data\n"
     ]
    },
    {
     "name": "stdout",
     "output_type": "stream",
     "text": [
      "\u001b[2m\u001b[36m(compute_qc_stats_ray pid=2697260)\u001b[0m 2022-09-14 21:55:27,092 cisTopic     INFO     Computing FRIP profile for CNA_10xv11_3.15k\n"
     ]
    },
    {
     "name": "stdout",
     "output_type": "stream",
     "text": [
      "\u001b[2m\u001b[36m(compute_qc_stats_ray pid=2697260)\u001b[0m 2022-09-14 21:55:32,789 cisTopic     INFO     Counting fragments\n"
     ]
    },
    {
     "name": "stdout",
     "output_type": "stream",
     "text": [
      "\u001b[2m\u001b[36m(compute_qc_stats_ray pid=2697241)\u001b[0m 2022-09-14 21:55:39,370 cisTopic     INFO     Returning normalized sample TSS enrichment data\n"
     ]
    },
    {
     "name": "stdout",
     "output_type": "stream",
     "text": [
      "\u001b[2m\u001b[36m(compute_qc_stats_ray pid=2697241)\u001b[0m 2022-09-14 21:55:39,885 cisTopic     INFO     Computing FRIP profile for SAN_10xmultiome_2.15k\n"
     ]
    },
    {
     "name": "stdout",
     "output_type": "stream",
     "text": [
      "\u001b[2m\u001b[36m(compute_qc_stats_ray pid=2697241)\u001b[0m 2022-09-14 21:55:44,885 cisTopic     INFO     Counting fragments\n"
     ]
    },
    {
     "name": "stdout",
     "output_type": "stream",
     "text": [
      "\u001b[2m\u001b[36m(compute_qc_stats_ray pid=2697260)\u001b[0m 2022-09-14 21:55:51,305 cisTopic     INFO     Intersecting fragments with regions\n"
     ]
    },
    {
     "name": "stdout",
     "output_type": "stream",
     "text": [
      "\u001b[2m\u001b[36m(compute_qc_stats_ray pid=2697241)\u001b[0m 2022-09-14 21:56:04,577 cisTopic     INFO     Intersecting fragments with regions\n"
     ]
    },
    {
     "name": "stdout",
     "output_type": "stream",
     "text": [
      "\u001b[2m\u001b[36m(compute_qc_stats_ray pid=2697260)\u001b[0m 2022-09-14 21:56:53,570 cisTopic     INFO     Sample CNA_10xv11_3.15k done!\n"
     ]
    },
    {
     "name": "stdout",
     "output_type": "stream",
     "text": [
      "\u001b[2m\u001b[36m(compute_qc_stats_ray pid=2697241)\u001b[0m 2022-09-14 21:57:08,307 cisTopic     INFO     Sample SAN_10xmultiome_2.15k done!\n"
     ]
    },
    {
     "name": "stdout",
     "output_type": "stream",
     "text": [
      "\u001b[2m\u001b[36m(compute_qc_stats_ray pid=2697259)\u001b[0m 2022-09-14 21:57:08,703 cisTopic     INFO     Returning normalized sample TSS enrichment data\n"
     ]
    },
    {
     "name": "stdout",
     "output_type": "stream",
     "text": [
      "\u001b[2m\u001b[36m(compute_qc_stats_ray pid=2697259)\u001b[0m 2022-09-14 21:57:09,160 cisTopic     INFO     Computing FRIP profile for BIO_ddseq_3.15k\n"
     ]
    },
    {
     "name": "stdout",
     "output_type": "stream",
     "text": [
      "\u001b[2m\u001b[36m(compute_qc_stats_ray pid=2697259)\u001b[0m 2022-09-14 21:57:12,894 cisTopic     INFO     Counting fragments\n"
     ]
    },
    {
     "name": "stdout",
     "output_type": "stream",
     "text": [
      "\u001b[2m\u001b[36m(compute_qc_stats_ray pid=2697261)\u001b[0m 2022-09-14 21:57:13,649 cisTopic     INFO     Returning normalized sample TSS enrichment data\n"
     ]
    },
    {
     "name": "stdout",
     "output_type": "stream",
     "text": [
      "\u001b[2m\u001b[36m(compute_qc_stats_ray pid=2697261)\u001b[0m 2022-09-14 21:57:14,119 cisTopic     INFO     Computing FRIP profile for EPF_hydrop_2.15k\n"
     ]
    },
    {
     "name": "stdout",
     "output_type": "stream",
     "text": [
      "\u001b[2m\u001b[36m(compute_qc_stats_ray pid=2697261)\u001b[0m 2022-09-14 21:57:16,310 cisTopic     INFO     Counting fragments\n"
     ]
    },
    {
     "name": "stdout",
     "output_type": "stream",
     "text": [
      "\u001b[2m\u001b[36m(compute_qc_stats_ray pid=2697261)\u001b[0m 2022-09-14 21:57:19,985 cisTopic     INFO     Intersecting fragments with regions\n"
     ]
    },
    {
     "name": "stdout",
     "output_type": "stream",
     "text": [
      "\u001b[2m\u001b[36m(compute_qc_stats_ray pid=2697259)\u001b[0m 2022-09-14 21:57:25,427 cisTopic     INFO     Intersecting fragments with regions\n"
     ]
    },
    {
     "name": "stdout",
     "output_type": "stream",
     "text": [
      "\u001b[2m\u001b[36m(compute_qc_stats_ray pid=2697261)\u001b[0m 2022-09-14 21:57:37,282 cisTopic     INFO     Sample EPF_hydrop_2.15k done!\n"
     ]
    },
    {
     "name": "stdout",
     "output_type": "stream",
     "text": [
      "\u001b[2m\u001b[36m(compute_qc_stats_ray pid=2697259)\u001b[0m 2022-09-14 21:57:59,247 cisTopic     INFO     Sample BIO_ddseq_3.15k done!\n"
     ]
    },
    {
     "name": "stdout",
     "output_type": "stream",
     "text": [
      "\u001b[2m\u001b[36m(compute_qc_stats_ray pid=2697239)\u001b[0m 2022-09-14 21:58:38,234 cisTopic     INFO     Coverage matrix done\n"
     ]
    },
    {
     "name": "stdout",
     "output_type": "stream",
     "text": [
      "\u001b[2m\u001b[36m(compute_qc_stats_ray pid=2697258)\u001b[0m 2022-09-14 21:59:29,367 cisTopic     INFO     Returning normalized TSS coverage matrix per barcode\n"
     ]
    },
    {
     "name": "stdout",
     "output_type": "stream",
     "text": [
      "\u001b[2m\u001b[36m(compute_qc_stats_ray pid=2697239)\u001b[0m 2022-09-14 22:00:20,705 cisTopic     INFO     Returning normalized TSS coverage matrix per barcode\n"
     ]
    },
    {
     "name": "stdout",
     "output_type": "stream",
     "text": [
      "\u001b[2m\u001b[36m(compute_qc_stats_ray pid=2697258)\u001b[0m 2022-09-14 22:01:21,657 cisTopic     INFO     Returning normalized sample TSS enrichment data\n"
     ]
    },
    {
     "name": "stdout",
     "output_type": "stream",
     "text": [
      "\u001b[2m\u001b[36m(compute_qc_stats_ray pid=2697258)\u001b[0m 2022-09-14 22:01:21,844 cisTopic     INFO     Computing FRIP profile for HAR_ddseq_1.15k\n"
     ]
    },
    {
     "name": "stdout",
     "output_type": "stream",
     "text": [
      "\u001b[2m\u001b[36m(compute_qc_stats_ray pid=2697258)\u001b[0m 2022-09-14 22:01:23,014 cisTopic     INFO     Counting fragments\n"
     ]
    },
    {
     "name": "stdout",
     "output_type": "stream",
     "text": [
      "\u001b[2m\u001b[36m(compute_qc_stats_ray pid=2697239)\u001b[0m 2022-09-14 22:01:30,739 cisTopic     INFO     Returning normalized sample TSS enrichment data\n"
     ]
    },
    {
     "name": "stdout",
     "output_type": "stream",
     "text": [
      "\u001b[2m\u001b[36m(compute_qc_stats_ray pid=2697239)\u001b[0m 2022-09-14 22:01:30,912 cisTopic     INFO     Computing FRIP profile for VIB_10xv1_2.15k\n"
     ]
    },
    {
     "name": "stdout",
     "output_type": "stream",
     "text": [
      "\u001b[2m\u001b[36m(compute_qc_stats_ray pid=2697239)\u001b[0m 2022-09-14 22:01:32,329 cisTopic     INFO     Counting fragments\n"
     ]
    },
    {
     "name": "stdout",
     "output_type": "stream",
     "text": [
      "\u001b[2m\u001b[36m(compute_qc_stats_ray pid=2697258)\u001b[0m 2022-09-14 22:01:34,885 cisTopic     INFO     Intersecting fragments with regions\n"
     ]
    },
    {
     "name": "stdout",
     "output_type": "stream",
     "text": [
      "\u001b[2m\u001b[36m(compute_qc_stats_ray pid=2697239)\u001b[0m 2022-09-14 22:01:43,803 cisTopic     INFO     Intersecting fragments with regions\n"
     ]
    },
    {
     "name": "stdout",
     "output_type": "stream",
     "text": [
      "\u001b[2m\u001b[36m(compute_qc_stats_ray pid=2697258)\u001b[0m 2022-09-14 22:02:07,768 cisTopic     INFO     Sample HAR_ddseq_1.15k done!\n"
     ]
    },
    {
     "name": "stdout",
     "output_type": "stream",
     "text": [
      "\u001b[2m\u001b[36m(compute_qc_stats_ray pid=2697239)\u001b[0m 2022-09-14 22:02:12,258 cisTopic     INFO     Sample VIB_10xv1_2.15k done!\n"
     ]
    },
    {
     "name": "stdout",
     "output_type": "stream",
     "text": [
      "Dumping files in /dodrio/scratch/projects/starting_2022_023/benchmark/scatac_benchmark/downsample_series/15k/cistopic_qc_out_CONSENSUS...\n"
     ]
    },
    {
     "name": "stderr",
     "output_type": "stream",
     "text": [
      "2022-09-14 22:03:28,178\tINFO services.py:1470 -- View the Ray dashboard at \u001b[1m\u001b[32mhttp://127.0.0.1:8265\u001b[39m\u001b[22m\n"
     ]
    },
    {
     "name": "stdout",
     "output_type": "stream",
     "text": [
      "\u001b[2m\u001b[36m(compute_qc_stats_ray pid=2879336)\u001b[0m 2022-09-14 22:04:19,385 cisTopic     INFO     Reading MDC_mtscatac_1.15k\n",
      "\u001b[2m\u001b[36m(compute_qc_stats_ray pid=2879339)\u001b[0m 2022-09-14 22:04:19,404 cisTopic     INFO     Reading EPF_hydrop_4.15k\n",
      "\u001b[2m\u001b[36m(compute_qc_stats_ray pid=2879337)\u001b[0m 2022-09-14 22:04:19,412 cisTopic     INFO     Reading CNA_10xv11_2.15k\n",
      "\u001b[2m\u001b[36m(compute_qc_stats_ray pid=2879338)\u001b[0m 2022-09-14 22:04:19,429 cisTopic     INFO     Reading CNA_10xv2_1.15k\n",
      "\u001b[2m\u001b[36m(compute_qc_stats_ray pid=2879340)\u001b[0m 2022-09-14 22:04:19,481 cisTopic     INFO     Reading VIB_10xv1_1.15k\n"
     ]
    },
    {
     "name": "stdout",
     "output_type": "stream",
     "text": [
      "\u001b[2m\u001b[36m(compute_qc_stats_ray pid=2879334)\u001b[0m 2022-09-14 22:04:19,524 cisTopic     INFO     Reading CNA_hydrop_3.15k\n",
      "\u001b[2m\u001b[36m(compute_qc_stats_ray pid=2879335)\u001b[0m 2022-09-14 22:04:19,599 cisTopic     INFO     Reading HAR_ddseq_2.15k\n",
      "\u001b[2m\u001b[36m(compute_qc_stats_ray pid=2879333)\u001b[0m 2022-09-14 22:04:19,803 cisTopic     INFO     Reading CNA_10xmultiome_1.15k\n"
     ]
    },
    {
     "name": "stdout",
     "output_type": "stream",
     "text": [
      "\u001b[2m\u001b[36m(compute_qc_stats_ray pid=2879332)\u001b[0m 2022-09-14 22:04:19,812 cisTopic     INFO     Reading UCS_ddseq_1.15k\n",
      "\u001b[2m\u001b[36m(compute_qc_stats_ray pid=2879331)\u001b[0m 2022-09-14 22:04:19,962 cisTopic     INFO     Reading OHS_s3atac_1.15k\n"
     ]
    },
    {
     "name": "stdout",
     "output_type": "stream",
     "text": [
      "\u001b[2m\u001b[36m(compute_qc_stats_ray pid=2879330)\u001b[0m 2022-09-14 22:04:20,239 cisTopic     INFO     Reading CNA_10xv2_2.15k\n"
     ]
    },
    {
     "name": "stdout",
     "output_type": "stream",
     "text": [
      "\u001b[2m\u001b[36m(compute_qc_stats_ray pid=2879329)\u001b[0m 2022-09-14 22:04:20,574 cisTopic     INFO     Reading BIO_ddseq_1.15k\n",
      "\u001b[2m\u001b[36m(compute_qc_stats_ray pid=2879328)\u001b[0m 2022-09-14 22:04:20,562 cisTopic     INFO     Reading VIB_hydrop_11.15k\n"
     ]
    },
    {
     "name": "stdout",
     "output_type": "stream",
     "text": [
      "\u001b[2m\u001b[36m(compute_qc_stats_ray pid=2879326)\u001b[0m 2022-09-14 22:04:20,907 cisTopic     INFO     Reading EPF_hydrop_1.15k\n",
      "\u001b[2m\u001b[36m(compute_qc_stats_ray pid=2879325)\u001b[0m 2022-09-14 22:04:21,002 cisTopic     INFO     Reading CNA_10xv11_4.15k\n"
     ]
    },
    {
     "name": "stdout",
     "output_type": "stream",
     "text": [
      "\u001b[2m\u001b[36m(compute_qc_stats_ray pid=2879327)\u001b[0m 2022-09-14 22:04:21,047 cisTopic     INFO     Reading EPF_hydrop_3.15k\n"
     ]
    },
    {
     "name": "stdout",
     "output_type": "stream",
     "text": [
      "\u001b[2m\u001b[36m(compute_qc_stats_ray pid=2879325)\u001b[0m 2022-09-14 22:05:59,384 cisTopic     INFO     Computing barcode rank plot for CNA_10xv11_4.15k\n",
      "\u001b[2m\u001b[36m(compute_qc_stats_ray pid=2879325)\u001b[0m 2022-09-14 22:05:59,385 cisTopic     INFO     Counting fragments\n"
     ]
    },
    {
     "name": "stdout",
     "output_type": "stream",
     "text": [
      "\u001b[2m\u001b[36m(compute_qc_stats_ray pid=2879325)\u001b[0m 2022-09-14 22:06:04,274 cisTopic     INFO     Marking barcodes with more than 10\n",
      "\u001b[2m\u001b[36m(compute_qc_stats_ray pid=2879325)\u001b[0m 2022-09-14 22:06:04,460 cisTopic     INFO     Returning plot data\n",
      "\u001b[2m\u001b[36m(compute_qc_stats_ray pid=2879325)\u001b[0m 2022-09-14 22:06:04,461 cisTopic     INFO     Returning valid barcodes\n"
     ]
    },
    {
     "name": "stdout",
     "output_type": "stream",
     "text": [
      "\u001b[2m\u001b[36m(compute_qc_stats_ray pid=2879328)\u001b[0m 2022-09-14 22:06:09,711 cisTopic     INFO     Computing barcode rank plot for VIB_hydrop_11.15k\n",
      "\u001b[2m\u001b[36m(compute_qc_stats_ray pid=2879328)\u001b[0m 2022-09-14 22:06:09,711 cisTopic     INFO     Counting fragments\n"
     ]
    },
    {
     "name": "stdout",
     "output_type": "stream",
     "text": [
      "\u001b[2m\u001b[36m(compute_qc_stats_ray pid=2879325)\u001b[0m 2022-09-14 22:06:10,691 cisTopic     INFO     Computing duplicate rate plot for CNA_10xv11_4.15k\n"
     ]
    },
    {
     "name": "stdout",
     "output_type": "stream",
     "text": [
      "\u001b[2m\u001b[36m(compute_qc_stats_ray pid=2879328)\u001b[0m 2022-09-14 22:06:16,719 cisTopic     INFO     Marking barcodes with more than 10\n"
     ]
    },
    {
     "name": "stdout",
     "output_type": "stream",
     "text": [
      "\u001b[2m\u001b[36m(compute_qc_stats_ray pid=2879328)\u001b[0m 2022-09-14 22:06:17,171 cisTopic     INFO     Returning plot data\n",
      "\u001b[2m\u001b[36m(compute_qc_stats_ray pid=2879328)\u001b[0m 2022-09-14 22:06:17,176 cisTopic     INFO     Returning valid barcodes\n"
     ]
    },
    {
     "name": "stdout",
     "output_type": "stream",
     "text": [
      "\u001b[2m\u001b[36m(compute_qc_stats_ray pid=2879325)\u001b[0m 2022-09-14 22:06:18,967 cisTopic     INFO     Return plot data\n"
     ]
    },
    {
     "name": "stdout",
     "output_type": "stream",
     "text": [
      "\u001b[2m\u001b[36m(compute_qc_stats_ray pid=2879325)\u001b[0m 2022-09-14 22:06:20,222 cisTopic     INFO     Computing insert size distribution for CNA_10xv11_4.15k\n",
      "\u001b[2m\u001b[36m(compute_qc_stats_ray pid=2879325)\u001b[0m 2022-09-14 22:06:20,222 cisTopic     INFO     Counting fragments\n"
     ]
    },
    {
     "name": "stdout",
     "output_type": "stream",
     "text": [
      "\u001b[2m\u001b[36m(compute_qc_stats_ray pid=2879325)\u001b[0m 2022-09-14 22:06:22,497 cisTopic     INFO     Returning plot data\n"
     ]
    },
    {
     "name": "stdout",
     "output_type": "stream",
     "text": [
      "\u001b[2m\u001b[36m(compute_qc_stats_ray pid=2879328)\u001b[0m 2022-09-14 22:06:23,125 cisTopic     INFO     Computing duplicate rate plot for VIB_hydrop_11.15k\n"
     ]
    },
    {
     "name": "stdout",
     "output_type": "stream",
     "text": [
      "\u001b[2m\u001b[36m(compute_qc_stats_ray pid=2879328)\u001b[0m 2022-09-14 22:06:35,715 cisTopic     INFO     Return plot data\n"
     ]
    },
    {
     "name": "stdout",
     "output_type": "stream",
     "text": [
      "\u001b[2m\u001b[36m(compute_qc_stats_ray pid=2879328)\u001b[0m 2022-09-14 22:06:37,080 cisTopic     INFO     Computing insert size distribution for VIB_hydrop_11.15k\n",
      "\u001b[2m\u001b[36m(compute_qc_stats_ray pid=2879328)\u001b[0m 2022-09-14 22:06:37,080 cisTopic     INFO     Counting fragments\n"
     ]
    },
    {
     "name": "stdout",
     "output_type": "stream",
     "text": [
      "\u001b[2m\u001b[36m(compute_qc_stats_ray pid=2879328)\u001b[0m 2022-09-14 22:06:38,845 cisTopic     INFO     Returning plot data\n"
     ]
    },
    {
     "name": "stdout",
     "output_type": "stream",
     "text": [
      "\u001b[2m\u001b[36m(compute_qc_stats_ray pid=2879325)\u001b[0m 2022-09-14 22:07:11,148 cisTopic     INFO     Computing TSS profile for CNA_10xv11_4.15k\n"
     ]
    },
    {
     "name": "stdout",
     "output_type": "stream",
     "text": [
      "\u001b[2m\u001b[36m(compute_qc_stats_ray pid=2879328)\u001b[0m 2022-09-14 22:07:17,105 cisTopic     INFO     Computing TSS profile for VIB_hydrop_11.15k\n"
     ]
    },
    {
     "name": "stdout",
     "output_type": "stream",
     "text": [
      "\u001b[2m\u001b[36m(compute_qc_stats_ray pid=2879325)\u001b[0m 2022-09-14 22:07:18,374 cisTopic     INFO     Formatting annnotation\n"
     ]
    },
    {
     "name": "stdout",
     "output_type": "stream",
     "text": [
      "\u001b[2m\u001b[36m(compute_qc_stats_ray pid=2879325)\u001b[0m 2022-09-14 22:07:19,396 cisTopic     INFO     Creating coverage matrix\n"
     ]
    },
    {
     "name": "stdout",
     "output_type": "stream",
     "text": [
      "\u001b[2m\u001b[36m(compute_qc_stats_ray pid=2879328)\u001b[0m 2022-09-14 22:07:31,611 cisTopic     INFO     Formatting annnotation\n"
     ]
    },
    {
     "name": "stdout",
     "output_type": "stream",
     "text": [
      "\u001b[2m\u001b[36m(compute_qc_stats_ray pid=2879328)\u001b[0m 2022-09-14 22:07:32,579 cisTopic     INFO     Creating coverage matrix\n"
     ]
    },
    {
     "name": "stdout",
     "output_type": "stream",
     "text": [
      "\u001b[2m\u001b[36m(compute_qc_stats_ray pid=2879334)\u001b[0m 2022-09-14 22:08:04,903 cisTopic     INFO     Computing barcode rank plot for CNA_hydrop_3.15k\n",
      "\u001b[2m\u001b[36m(compute_qc_stats_ray pid=2879334)\u001b[0m 2022-09-14 22:08:04,903 cisTopic     INFO     Counting fragments\n"
     ]
    },
    {
     "name": "stdout",
     "output_type": "stream",
     "text": [
      "\u001b[2m\u001b[36m(compute_qc_stats_ray pid=2879334)\u001b[0m 2022-09-14 22:08:15,468 cisTopic     INFO     Marking barcodes with more than 10\n"
     ]
    },
    {
     "name": "stdout",
     "output_type": "stream",
     "text": [
      "\u001b[2m\u001b[36m(compute_qc_stats_ray pid=2879334)\u001b[0m 2022-09-14 22:08:16,009 cisTopic     INFO     Returning plot data\n"
     ]
    },
    {
     "name": "stdout",
     "output_type": "stream",
     "text": [
      "\u001b[2m\u001b[36m(compute_qc_stats_ray pid=2879334)\u001b[0m 2022-09-14 22:08:16,180 cisTopic     INFO     Returning valid barcodes\n"
     ]
    },
    {
     "name": "stdout",
     "output_type": "stream",
     "text": [
      "\u001b[2m\u001b[36m(compute_qc_stats_ray pid=2879334)\u001b[0m 2022-09-14 22:08:26,184 cisTopic     INFO     Computing duplicate rate plot for CNA_hydrop_3.15k\n"
     ]
    },
    {
     "name": "stdout",
     "output_type": "stream",
     "text": [
      "\u001b[2m\u001b[36m(compute_qc_stats_ray pid=2879327)\u001b[0m 2022-09-14 22:08:32,904 cisTopic     INFO     Computing barcode rank plot for EPF_hydrop_3.15k\n",
      "\u001b[2m\u001b[36m(compute_qc_stats_ray pid=2879327)\u001b[0m 2022-09-14 22:08:32,904 cisTopic     INFO     Counting fragments\n"
     ]
    },
    {
     "name": "stdout",
     "output_type": "stream",
     "text": [
      "\u001b[2m\u001b[36m(compute_qc_stats_ray pid=2879339)\u001b[0m 2022-09-14 22:08:43,218 cisTopic     INFO     Computing barcode rank plot for EPF_hydrop_4.15k\n",
      "\u001b[2m\u001b[36m(compute_qc_stats_ray pid=2879339)\u001b[0m 2022-09-14 22:08:43,218 cisTopic     INFO     Counting fragments\n"
     ]
    },
    {
     "name": "stdout",
     "output_type": "stream",
     "text": [
      "\u001b[2m\u001b[36m(compute_qc_stats_ray pid=2879334)\u001b[0m 2022-09-14 22:08:43,362 cisTopic     INFO     Return plot data\n"
     ]
    },
    {
     "name": "stdout",
     "output_type": "stream",
     "text": [
      "\u001b[2m\u001b[36m(compute_qc_stats_ray pid=2879334)\u001b[0m 2022-09-14 22:08:44,766 cisTopic     INFO     Computing insert size distribution for CNA_hydrop_3.15k\n",
      "\u001b[2m\u001b[36m(compute_qc_stats_ray pid=2879334)\u001b[0m 2022-09-14 22:08:44,766 cisTopic     INFO     Counting fragments\n"
     ]
    },
    {
     "name": "stdout",
     "output_type": "stream",
     "text": [
      "\u001b[2m\u001b[36m(compute_qc_stats_ray pid=2879327)\u001b[0m 2022-09-14 22:08:45,065 cisTopic     INFO     Marking barcodes with more than 10\n"
     ]
    },
    {
     "name": "stdout",
     "output_type": "stream",
     "text": [
      "\u001b[2m\u001b[36m(compute_qc_stats_ray pid=2879327)\u001b[0m 2022-09-14 22:08:45,478 cisTopic     INFO     Returning plot data\n",
      "\u001b[2m\u001b[36m(compute_qc_stats_ray pid=2879327)\u001b[0m 2022-09-14 22:08:45,651 cisTopic     INFO     Returning valid barcodes\n"
     ]
    },
    {
     "name": "stdout",
     "output_type": "stream",
     "text": [
      "\u001b[2m\u001b[36m(compute_qc_stats_ray pid=2879334)\u001b[0m 2022-09-14 22:08:48,394 cisTopic     INFO     Returning plot data\n"
     ]
    },
    {
     "name": "stdout",
     "output_type": "stream",
     "text": [
      "\u001b[2m\u001b[36m(compute_qc_stats_ray pid=2879339)\u001b[0m 2022-09-14 22:08:55,769 cisTopic     INFO     Marking barcodes with more than 10\n"
     ]
    },
    {
     "name": "stdout",
     "output_type": "stream",
     "text": [
      "\u001b[2m\u001b[36m(compute_qc_stats_ray pid=2879339)\u001b[0m 2022-09-14 22:08:56,265 cisTopic     INFO     Returning plot data\n"
     ]
    },
    {
     "name": "stdout",
     "output_type": "stream",
     "text": [
      "\u001b[2m\u001b[36m(compute_qc_stats_ray pid=2879339)\u001b[0m 2022-09-14 22:08:56,446 cisTopic     INFO     Returning valid barcodes\n"
     ]
    },
    {
     "name": "stdout",
     "output_type": "stream",
     "text": [
      "\u001b[2m\u001b[36m(compute_qc_stats_ray pid=2879327)\u001b[0m 2022-09-14 22:08:57,479 cisTopic     INFO     Computing duplicate rate plot for EPF_hydrop_3.15k\n"
     ]
    },
    {
     "name": "stdout",
     "output_type": "stream",
     "text": [
      "\u001b[2m\u001b[36m(compute_qc_stats_ray pid=2879326)\u001b[0m 2022-09-14 22:09:03,136 cisTopic     INFO     Computing barcode rank plot for EPF_hydrop_1.15k\n",
      "\u001b[2m\u001b[36m(compute_qc_stats_ray pid=2879326)\u001b[0m 2022-09-14 22:09:03,137 cisTopic     INFO     Counting fragments\n"
     ]
    },
    {
     "name": "stdout",
     "output_type": "stream",
     "text": [
      "\u001b[2m\u001b[36m(compute_qc_stats_ray pid=2879339)\u001b[0m 2022-09-14 22:09:08,912 cisTopic     INFO     Computing duplicate rate plot for EPF_hydrop_4.15k\n"
     ]
    },
    {
     "name": "stdout",
     "output_type": "stream",
     "text": [
      "\u001b[2m\u001b[36m(compute_qc_stats_ray pid=2879326)\u001b[0m 2022-09-14 22:09:16,363 cisTopic     INFO     Marking barcodes with more than 10\n"
     ]
    },
    {
     "name": "stdout",
     "output_type": "stream",
     "text": [
      "\u001b[2m\u001b[36m(compute_qc_stats_ray pid=2879326)\u001b[0m 2022-09-14 22:09:16,850 cisTopic     INFO     Returning plot data\n",
      "\u001b[2m\u001b[36m(compute_qc_stats_ray pid=2879327)\u001b[0m 2022-09-14 22:09:16,992 cisTopic     INFO     Return plot data\n"
     ]
    },
    {
     "name": "stdout",
     "output_type": "stream",
     "text": [
      "\u001b[2m\u001b[36m(compute_qc_stats_ray pid=2879326)\u001b[0m 2022-09-14 22:09:17,030 cisTopic     INFO     Returning valid barcodes\n"
     ]
    },
    {
     "name": "stdout",
     "output_type": "stream",
     "text": [
      "\u001b[2m\u001b[36m(compute_qc_stats_ray pid=2879327)\u001b[0m 2022-09-14 22:09:18,297 cisTopic     INFO     Computing insert size distribution for EPF_hydrop_3.15k\n",
      "\u001b[2m\u001b[36m(compute_qc_stats_ray pid=2879327)\u001b[0m 2022-09-14 22:09:18,297 cisTopic     INFO     Counting fragments\n"
     ]
    },
    {
     "name": "stdout",
     "output_type": "stream",
     "text": [
      "\u001b[2m\u001b[36m(compute_qc_stats_ray pid=2879327)\u001b[0m 2022-09-14 22:09:22,983 cisTopic     INFO     Returning plot data\n"
     ]
    },
    {
     "name": "stdout",
     "output_type": "stream",
     "text": [
      "\u001b[2m\u001b[36m(compute_qc_stats_ray pid=2879339)\u001b[0m 2022-09-14 22:09:29,285 cisTopic     INFO     Return plot data\n"
     ]
    },
    {
     "name": "stdout",
     "output_type": "stream",
     "text": [
      "\u001b[2m\u001b[36m(compute_qc_stats_ray pid=2879326)\u001b[0m 2022-09-14 22:09:30,085 cisTopic     INFO     Computing duplicate rate plot for EPF_hydrop_1.15k\n"
     ]
    },
    {
     "name": "stdout",
     "output_type": "stream",
     "text": [
      "\u001b[2m\u001b[36m(compute_qc_stats_ray pid=2879339)\u001b[0m 2022-09-14 22:09:30,652 cisTopic     INFO     Computing insert size distribution for EPF_hydrop_4.15k\n",
      "\u001b[2m\u001b[36m(compute_qc_stats_ray pid=2879339)\u001b[0m 2022-09-14 22:09:30,652 cisTopic     INFO     Counting fragments\n"
     ]
    },
    {
     "name": "stdout",
     "output_type": "stream",
     "text": [
      "\u001b[2m\u001b[36m(compute_qc_stats_ray pid=2879339)\u001b[0m 2022-09-14 22:09:35,676 cisTopic     INFO     Returning plot data\n"
     ]
    },
    {
     "name": "stdout",
     "output_type": "stream",
     "text": [
      "\u001b[2m\u001b[36m(compute_qc_stats_ray pid=2879325)\u001b[0m 2022-09-14 22:09:41,445 cisTopic     INFO     Coverage matrix done\n"
     ]
    },
    {
     "name": "stdout",
     "output_type": "stream",
     "text": [
      "\u001b[2m\u001b[36m(compute_qc_stats_ray pid=2879326)\u001b[0m 2022-09-14 22:09:51,175 cisTopic     INFO     Return plot data\n"
     ]
    },
    {
     "name": "stdout",
     "output_type": "stream",
     "text": [
      "\u001b[2m\u001b[36m(compute_qc_stats_ray pid=2879326)\u001b[0m 2022-09-14 22:09:52,435 cisTopic     INFO     Computing insert size distribution for EPF_hydrop_1.15k\n",
      "\u001b[2m\u001b[36m(compute_qc_stats_ray pid=2879326)\u001b[0m 2022-09-14 22:09:52,436 cisTopic     INFO     Counting fragments\n"
     ]
    },
    {
     "name": "stdout",
     "output_type": "stream",
     "text": [
      "\u001b[2m\u001b[36m(compute_qc_stats_ray pid=2879326)\u001b[0m 2022-09-14 22:09:57,622 cisTopic     INFO     Returning plot data\n"
     ]
    },
    {
     "name": "stdout",
     "output_type": "stream",
     "text": [
      "\u001b[2m\u001b[36m(compute_qc_stats_ray pid=2879337)\u001b[0m 2022-09-14 22:10:02,201 cisTopic     INFO     Computing barcode rank plot for CNA_10xv11_2.15k\n",
      "\u001b[2m\u001b[36m(compute_qc_stats_ray pid=2879337)\u001b[0m 2022-09-14 22:10:02,201 cisTopic     INFO     Counting fragments\n"
     ]
    },
    {
     "name": "stdout",
     "output_type": "stream",
     "text": [
      "\u001b[2m\u001b[36m(compute_qc_stats_ray pid=2879334)\u001b[0m 2022-09-14 22:10:03,733 cisTopic     INFO     Computing TSS profile for CNA_hydrop_3.15k\n"
     ]
    },
    {
     "name": "stdout",
     "output_type": "stream",
     "text": [
      "\u001b[2m\u001b[36m(compute_qc_stats_ray pid=2879337)\u001b[0m 2022-09-14 22:10:21,372 cisTopic     INFO     Marking barcodes with more than 10\n"
     ]
    },
    {
     "name": "stdout",
     "output_type": "stream",
     "text": [
      "\u001b[2m\u001b[36m(compute_qc_stats_ray pid=2879337)\u001b[0m 2022-09-14 22:10:22,134 cisTopic     INFO     Returning plot data\n",
      "\u001b[2m\u001b[36m(compute_qc_stats_ray pid=2879337)\u001b[0m 2022-09-14 22:10:22,159 cisTopic     INFO     Returning valid barcodes\n"
     ]
    },
    {
     "name": "stdout",
     "output_type": "stream",
     "text": [
      "\u001b[2m\u001b[36m(compute_qc_stats_ray pid=2879334)\u001b[0m 2022-09-14 22:10:36,042 cisTopic     INFO     Formatting annnotation\n"
     ]
    },
    {
     "name": "stdout",
     "output_type": "stream",
     "text": [
      "\u001b[2m\u001b[36m(compute_qc_stats_ray pid=2879334)\u001b[0m 2022-09-14 22:10:37,048 cisTopic     INFO     Creating coverage matrix\n"
     ]
    },
    {
     "name": "stdout",
     "output_type": "stream",
     "text": [
      "\u001b[2m\u001b[36m(compute_qc_stats_ray pid=2879337)\u001b[0m 2022-09-14 22:10:40,186 cisTopic     INFO     Computing duplicate rate plot for CNA_10xv11_2.15k\n"
     ]
    },
    {
     "name": "stdout",
     "output_type": "stream",
     "text": [
      "\u001b[2m\u001b[36m(compute_qc_stats_ray pid=2879331)\u001b[0m 2022-09-14 22:10:45,148 cisTopic     INFO     Computing barcode rank plot for OHS_s3atac_1.15k\n",
      "\u001b[2m\u001b[36m(compute_qc_stats_ray pid=2879331)\u001b[0m 2022-09-14 22:10:45,149 cisTopic     INFO     Counting fragments\n"
     ]
    },
    {
     "name": "stdout",
     "output_type": "stream",
     "text": [
      "\u001b[2m\u001b[36m(compute_qc_stats_ray pid=2879340)\u001b[0m 2022-09-14 22:10:54,230 cisTopic     INFO     Computing barcode rank plot for VIB_10xv1_1.15k\n",
      "\u001b[2m\u001b[36m(compute_qc_stats_ray pid=2879340)\u001b[0m 2022-09-14 22:10:54,319 cisTopic     INFO     Counting fragments\n"
     ]
    },
    {
     "name": "stdout",
     "output_type": "stream",
     "text": [
      "\u001b[2m\u001b[36m(compute_qc_stats_ray pid=2879327)\u001b[0m 2022-09-14 22:10:54,839 cisTopic     INFO     Computing TSS profile for EPF_hydrop_3.15k\n"
     ]
    },
    {
     "name": "stdout",
     "output_type": "stream",
     "text": [
      "\u001b[2m\u001b[36m(compute_qc_stats_ray pid=2879331)\u001b[0m 2022-09-14 22:10:59,161 cisTopic     INFO     Marking barcodes with more than 10\n",
      "\u001b[2m\u001b[36m(compute_qc_stats_ray pid=2879331)\u001b[0m 2022-09-14 22:10:59,319 cisTopic     INFO     Returning plot data\n",
      "\u001b[2m\u001b[36m(compute_qc_stats_ray pid=2879331)\u001b[0m 2022-09-14 22:10:59,321 cisTopic     INFO     Returning valid barcodes\n"
     ]
    },
    {
     "name": "stdout",
     "output_type": "stream",
     "text": [
      "\u001b[2m\u001b[36m(compute_qc_stats_ray pid=2879337)\u001b[0m 2022-09-14 22:11:13,216 cisTopic     INFO     Return plot data\n"
     ]
    },
    {
     "name": "stdout",
     "output_type": "stream",
     "text": [
      "\u001b[2m\u001b[36m(compute_qc_stats_ray pid=2879339)\u001b[0m 2022-09-14 22:11:13,998 cisTopic     INFO     Computing TSS profile for EPF_hydrop_4.15k\n"
     ]
    },
    {
     "name": "stdout",
     "output_type": "stream",
     "text": [
      "\u001b[2m\u001b[36m(compute_qc_stats_ray pid=2879337)\u001b[0m 2022-09-14 22:11:14,522 cisTopic     INFO     Computing insert size distribution for CNA_10xv11_2.15k\n",
      "\u001b[2m\u001b[36m(compute_qc_stats_ray pid=2879337)\u001b[0m 2022-09-14 22:11:14,523 cisTopic     INFO     Counting fragments\n"
     ]
    },
    {
     "name": "stdout",
     "output_type": "stream",
     "text": [
      "\u001b[2m\u001b[36m(compute_qc_stats_ray pid=2879340)\u001b[0m 2022-09-14 22:11:16,360 cisTopic     INFO     Marking barcodes with more than 10\n"
     ]
    },
    {
     "name": "stdout",
     "output_type": "stream",
     "text": [
      "\u001b[2m\u001b[36m(compute_qc_stats_ray pid=2879340)\u001b[0m 2022-09-14 22:11:17,268 cisTopic     INFO     Returning plot data\n",
      "\u001b[2m\u001b[36m(compute_qc_stats_ray pid=2879340)\u001b[0m 2022-09-14 22:11:17,346 cisTopic     INFO     Returning valid barcodes\n"
     ]
    },
    {
     "name": "stdout",
     "output_type": "stream",
     "text": [
      "\u001b[2m\u001b[36m(compute_qc_stats_ray pid=2879331)\u001b[0m 2022-09-14 22:11:17,997 cisTopic     INFO     Computing duplicate rate plot for OHS_s3atac_1.15k\n"
     ]
    },
    {
     "name": "stdout",
     "output_type": "stream",
     "text": [
      "\u001b[2m\u001b[36m(compute_qc_stats_ray pid=2879337)\u001b[0m 2022-09-14 22:11:22,221 cisTopic     INFO     Returning plot data\n"
     ]
    },
    {
     "name": "stdout",
     "output_type": "stream",
     "text": [
      "\u001b[2m\u001b[36m(compute_qc_stats_ray pid=2879333)\u001b[0m 2022-09-14 22:11:28,623 cisTopic     INFO     Computing barcode rank plot for CNA_10xmultiome_1.15k\n",
      "\u001b[2m\u001b[36m(compute_qc_stats_ray pid=2879333)\u001b[0m 2022-09-14 22:11:28,623 cisTopic     INFO     Counting fragments\n"
     ]
    },
    {
     "name": "stdout",
     "output_type": "stream",
     "text": [
      "\u001b[2m\u001b[36m(compute_qc_stats_ray pid=2879327)\u001b[0m 2022-09-14 22:11:30,674 cisTopic     INFO     Formatting annnotation\n"
     ]
    },
    {
     "name": "stdout",
     "output_type": "stream",
     "text": [
      "\u001b[2m\u001b[36m(compute_qc_stats_ray pid=2879328)\u001b[0m 2022-09-14 22:11:30,911 cisTopic     INFO     Coverage matrix done\n"
     ]
    },
    {
     "name": "stdout",
     "output_type": "stream",
     "text": [
      "\u001b[2m\u001b[36m(compute_qc_stats_ray pid=2879327)\u001b[0m 2022-09-14 22:11:31,658 cisTopic     INFO     Creating coverage matrix\n"
     ]
    },
    {
     "name": "stdout",
     "output_type": "stream",
     "text": [
      "\u001b[2m\u001b[36m(compute_qc_stats_ray pid=2879340)\u001b[0m 2022-09-14 22:11:38,705 cisTopic     INFO     Computing duplicate rate plot for VIB_10xv1_1.15k\n"
     ]
    },
    {
     "name": "stdout",
     "output_type": "stream",
     "text": [
      "\u001b[2m\u001b[36m(compute_qc_stats_ray pid=2879331)\u001b[0m 2022-09-14 22:11:38,901 cisTopic     INFO     Return plot data\n"
     ]
    },
    {
     "name": "stdout",
     "output_type": "stream",
     "text": [
      "\u001b[2m\u001b[36m(compute_qc_stats_ray pid=2879331)\u001b[0m 2022-09-14 22:11:40,171 cisTopic     INFO     Computing insert size distribution for OHS_s3atac_1.15k\n",
      "\u001b[2m\u001b[36m(compute_qc_stats_ray pid=2879331)\u001b[0m 2022-09-14 22:11:40,171 cisTopic     INFO     Counting fragments\n",
      "\u001b[2m\u001b[36m(compute_qc_stats_ray pid=2879326)\u001b[0m 2022-09-14 22:11:40,269 cisTopic     INFO     Computing TSS profile for EPF_hydrop_1.15k\n"
     ]
    },
    {
     "name": "stdout",
     "output_type": "stream",
     "text": [
      "\u001b[2m\u001b[36m(compute_qc_stats_ray pid=2879338)\u001b[0m 2022-09-14 22:11:42,327 cisTopic     INFO     Computing barcode rank plot for CNA_10xv2_1.15k\n",
      "\u001b[2m\u001b[36m(compute_qc_stats_ray pid=2879338)\u001b[0m 2022-09-14 22:11:42,327 cisTopic     INFO     Counting fragments\n"
     ]
    },
    {
     "name": "stdout",
     "output_type": "stream",
     "text": [
      "\u001b[2m\u001b[36m(compute_qc_stats_ray pid=2879331)\u001b[0m 2022-09-14 22:11:49,585 cisTopic     INFO     Returning plot data\n"
     ]
    },
    {
     "name": "stdout",
     "output_type": "stream",
     "text": [
      "\u001b[2m\u001b[36m(compute_qc_stats_ray pid=2879339)\u001b[0m 2022-09-14 22:11:52,185 cisTopic     INFO     Formatting annnotation\n"
     ]
    },
    {
     "name": "stdout",
     "output_type": "stream",
     "text": [
      "\u001b[2m\u001b[36m(compute_qc_stats_ray pid=2879339)\u001b[0m 2022-09-14 22:11:53,125 cisTopic     INFO     Creating coverage matrix\n",
      "\u001b[2m\u001b[36m(compute_qc_stats_ray pid=2879333)\u001b[0m 2022-09-14 22:11:53,213 cisTopic     INFO     Marking barcodes with more than 10\n"
     ]
    },
    {
     "name": "stdout",
     "output_type": "stream",
     "text": [
      "\u001b[2m\u001b[36m(compute_qc_stats_ray pid=2879333)\u001b[0m 2022-09-14 22:11:54,168 cisTopic     INFO     Returning plot data\n",
      "\u001b[2m\u001b[36m(compute_qc_stats_ray pid=2879333)\u001b[0m 2022-09-14 22:11:54,172 cisTopic     INFO     Returning valid barcodes\n"
     ]
    },
    {
     "name": "stdout",
     "output_type": "stream",
     "text": [
      "\u001b[2m\u001b[36m(compute_qc_stats_ray pid=2879338)\u001b[0m 2022-09-14 22:12:05,725 cisTopic     INFO     Marking barcodes with more than 10\n"
     ]
    },
    {
     "name": "stdout",
     "output_type": "stream",
     "text": [
      "\u001b[2m\u001b[36m(compute_qc_stats_ray pid=2879338)\u001b[0m 2022-09-14 22:12:06,554 cisTopic     INFO     Returning plot data\n",
      "\u001b[2m\u001b[36m(compute_qc_stats_ray pid=2879338)\u001b[0m 2022-09-14 22:12:06,556 cisTopic     INFO     Returning valid barcodes\n"
     ]
    },
    {
     "name": "stdout",
     "output_type": "stream",
     "text": [
      "\u001b[2m\u001b[36m(compute_qc_stats_ray pid=2879325)\u001b[0m 2022-09-14 22:12:10,877 cisTopic     INFO     Returning normalized TSS coverage matrix per barcode\n"
     ]
    },
    {
     "name": "stdout",
     "output_type": "stream",
     "text": [
      "\u001b[2m\u001b[36m(compute_qc_stats_ray pid=2879340)\u001b[0m 2022-09-14 22:12:17,992 cisTopic     INFO     Return plot data\n"
     ]
    },
    {
     "name": "stdout",
     "output_type": "stream",
     "text": [
      "\u001b[2m\u001b[36m(compute_qc_stats_ray pid=2879333)\u001b[0m 2022-09-14 22:12:18,866 cisTopic     INFO     Computing duplicate rate plot for CNA_10xmultiome_1.15k\n"
     ]
    },
    {
     "name": "stdout",
     "output_type": "stream",
     "text": [
      "\u001b[2m\u001b[36m(compute_qc_stats_ray pid=2879340)\u001b[0m 2022-09-14 22:12:19,386 cisTopic     INFO     Computing insert size distribution for VIB_10xv1_1.15k\n",
      "\u001b[2m\u001b[36m(compute_qc_stats_ray pid=2879340)\u001b[0m 2022-09-14 22:12:19,387 cisTopic     INFO     Counting fragments\n"
     ]
    },
    {
     "name": "stdout",
     "output_type": "stream",
     "text": [
      "\u001b[2m\u001b[36m(compute_qc_stats_ray pid=2879326)\u001b[0m 2022-09-14 22:12:20,361 cisTopic     INFO     Formatting annnotation\n"
     ]
    },
    {
     "name": "stdout",
     "output_type": "stream",
     "text": [
      "\u001b[2m\u001b[36m(compute_qc_stats_ray pid=2879326)\u001b[0m 2022-09-14 22:12:21,318 cisTopic     INFO     Creating coverage matrix\n"
     ]
    },
    {
     "name": "stdout",
     "output_type": "stream",
     "text": [
      "\u001b[2m\u001b[36m(compute_qc_stats_ray pid=2879340)\u001b[0m 2022-09-14 22:12:28,072 cisTopic     INFO     Returning plot data\n"
     ]
    },
    {
     "name": "stdout",
     "output_type": "stream",
     "text": [
      "\u001b[2m\u001b[36m(compute_qc_stats_ray pid=2879338)\u001b[0m 2022-09-14 22:12:30,279 cisTopic     INFO     Computing duplicate rate plot for CNA_10xv2_1.15k\n"
     ]
    },
    {
     "name": "stdout",
     "output_type": "stream",
     "text": [
      "\u001b[2m\u001b[36m(compute_qc_stats_ray pid=2879333)\u001b[0m 2022-09-14 22:13:02,854 cisTopic     INFO     Return plot data\n"
     ]
    },
    {
     "name": "stdout",
     "output_type": "stream",
     "text": [
      "\u001b[2m\u001b[36m(compute_qc_stats_ray pid=2879333)\u001b[0m 2022-09-14 22:13:04,128 cisTopic     INFO     Computing insert size distribution for CNA_10xmultiome_1.15k\n",
      "\u001b[2m\u001b[36m(compute_qc_stats_ray pid=2879333)\u001b[0m 2022-09-14 22:13:04,128 cisTopic     INFO     Counting fragments\n"
     ]
    },
    {
     "name": "stdout",
     "output_type": "stream",
     "text": [
      "\u001b[2m\u001b[36m(compute_qc_stats_ray pid=2879338)\u001b[0m 2022-09-14 22:13:08,038 cisTopic     INFO     Return plot data\n"
     ]
    },
    {
     "name": "stdout",
     "output_type": "stream",
     "text": [
      "\u001b[2m\u001b[36m(compute_qc_stats_ray pid=2879338)\u001b[0m 2022-09-14 22:13:09,317 cisTopic     INFO     Computing insert size distribution for CNA_10xv2_1.15k\n",
      "\u001b[2m\u001b[36m(compute_qc_stats_ray pid=2879338)\u001b[0m 2022-09-14 22:13:09,317 cisTopic     INFO     Counting fragments\n"
     ]
    },
    {
     "name": "stdout",
     "output_type": "stream",
     "text": [
      "\u001b[2m\u001b[36m(compute_qc_stats_ray pid=2879333)\u001b[0m 2022-09-14 22:13:13,900 cisTopic     INFO     Returning plot data\n"
     ]
    },
    {
     "name": "stdout",
     "output_type": "stream",
     "text": [
      "\u001b[2m\u001b[36m(compute_qc_stats_ray pid=2879338)\u001b[0m 2022-09-14 22:13:20,013 cisTopic     INFO     Returning plot data\n"
     ]
    },
    {
     "name": "stdout",
     "output_type": "stream",
     "text": [
      "\u001b[2m\u001b[36m(compute_qc_stats_ray pid=2879337)\u001b[0m 2022-09-14 22:13:53,326 cisTopic     INFO     Computing TSS profile for CNA_10xv11_2.15k\n"
     ]
    },
    {
     "name": "stdout",
     "output_type": "stream",
     "text": [
      "\u001b[2m\u001b[36m(compute_qc_stats_ray pid=2879325)\u001b[0m 2022-09-14 22:13:57,492 cisTopic     INFO     Returning normalized sample TSS enrichment data\n"
     ]
    },
    {
     "name": "stdout",
     "output_type": "stream",
     "text": [
      "\u001b[2m\u001b[36m(compute_qc_stats_ray pid=2879325)\u001b[0m 2022-09-14 22:13:58,818 cisTopic     INFO     Computing FRIP profile for CNA_10xv11_4.15k\n"
     ]
    },
    {
     "name": "stdout",
     "output_type": "stream",
     "text": [
      "\u001b[2m\u001b[36m(compute_qc_stats_ray pid=2879325)\u001b[0m 2022-09-14 22:14:07,914 cisTopic     INFO     Counting fragments\n"
     ]
    },
    {
     "name": "stdout",
     "output_type": "stream",
     "text": [
      "\u001b[2m\u001b[36m(compute_qc_stats_ray pid=2879325)\u001b[0m 2022-09-14 22:14:16,536 cisTopic     INFO     Intersecting fragments with regions\n"
     ]
    },
    {
     "name": "stdout",
     "output_type": "stream",
     "text": [
      "\u001b[2m\u001b[36m(compute_qc_stats_ray pid=2879334)\u001b[0m 2022-09-14 22:14:18,978 cisTopic     INFO     Coverage matrix done\n"
     ]
    },
    {
     "name": "stdout",
     "output_type": "stream",
     "text": [
      "\u001b[2m\u001b[36m(compute_qc_stats_ray pid=2879337)\u001b[0m 2022-09-14 22:14:30,978 cisTopic     INFO     Formatting annnotation\n"
     ]
    },
    {
     "name": "stdout",
     "output_type": "stream",
     "text": [
      "\u001b[2m\u001b[36m(compute_qc_stats_ray pid=2879337)\u001b[0m 2022-09-14 22:14:31,902 cisTopic     INFO     Creating coverage matrix\n"
     ]
    },
    {
     "name": "stdout",
     "output_type": "stream",
     "text": [
      "\u001b[2m\u001b[36m(compute_qc_stats_ray pid=2879331)\u001b[0m 2022-09-14 22:14:49,758 cisTopic     INFO     Computing TSS profile for OHS_s3atac_1.15k\n"
     ]
    },
    {
     "name": "stdout",
     "output_type": "stream",
     "text": [
      "\u001b[2m\u001b[36m(compute_qc_stats_ray pid=2879325)\u001b[0m 2022-09-14 22:14:50,666 cisTopic     INFO     Sample CNA_10xv11_4.15k done!\n"
     ]
    },
    {
     "name": "stdout",
     "output_type": "stream",
     "text": [
      "\u001b[2m\u001b[36m(compute_qc_stats_ray pid=2879330)\u001b[0m 2022-09-14 22:14:55,195 cisTopic     INFO     Computing barcode rank plot for CNA_10xv2_2.15k\n",
      "\u001b[2m\u001b[36m(compute_qc_stats_ray pid=2879330)\u001b[0m 2022-09-14 22:14:55,195 cisTopic     INFO     Counting fragments\n"
     ]
    },
    {
     "name": "stdout",
     "output_type": "stream",
     "text": [
      "\u001b[2m\u001b[36m(compute_qc_stats_ray pid=2879331)\u001b[0m 2022-09-14 22:15:15,243 cisTopic     INFO     Formatting annnotation\n"
     ]
    },
    {
     "name": "stdout",
     "output_type": "stream",
     "text": [
      "\u001b[2m\u001b[36m(compute_qc_stats_ray pid=2879331)\u001b[0m 2022-09-14 22:15:16,180 cisTopic     INFO     Creating coverage matrix\n"
     ]
    },
    {
     "name": "stdout",
     "output_type": "stream",
     "text": [
      "\u001b[2m\u001b[36m(compute_qc_stats_ray pid=2879340)\u001b[0m 2022-09-14 22:15:22,819 cisTopic     INFO     Computing TSS profile for VIB_10xv1_1.15k\n"
     ]
    },
    {
     "name": "stdout",
     "output_type": "stream",
     "text": [
      "\u001b[2m\u001b[36m(compute_qc_stats_ray pid=2879330)\u001b[0m 2022-09-14 22:15:25,249 cisTopic     INFO     Marking barcodes with more than 10\n"
     ]
    },
    {
     "name": "stdout",
     "output_type": "stream",
     "text": [
      "\u001b[2m\u001b[36m(compute_qc_stats_ray pid=2879330)\u001b[0m 2022-09-14 22:15:26,080 cisTopic     INFO     Returning plot data\n",
      "\u001b[2m\u001b[36m(compute_qc_stats_ray pid=2879330)\u001b[0m 2022-09-14 22:15:26,082 cisTopic     INFO     Returning valid barcodes\n"
     ]
    },
    {
     "name": "stdout",
     "output_type": "stream",
     "text": [
      "\u001b[2m\u001b[36m(compute_qc_stats_ray pid=2879330)\u001b[0m 2022-09-14 22:15:59,609 cisTopic     INFO     Computing duplicate rate plot for CNA_10xv2_2.15k\n"
     ]
    },
    {
     "name": "stdout",
     "output_type": "stream",
     "text": [
      "\u001b[2m\u001b[36m(compute_qc_stats_ray pid=2879340)\u001b[0m 2022-09-14 22:16:04,240 cisTopic     INFO     Formatting annnotation\n"
     ]
    },
    {
     "name": "stdout",
     "output_type": "stream",
     "text": [
      "\u001b[2m\u001b[36m(compute_qc_stats_ray pid=2879340)\u001b[0m 2022-09-14 22:16:05,147 cisTopic     INFO     Creating coverage matrix\n"
     ]
    },
    {
     "name": "stdout",
     "output_type": "stream",
     "text": [
      "\u001b[2m\u001b[36m(compute_qc_stats_ray pid=2879333)\u001b[0m 2022-09-14 22:16:23,948 cisTopic     INFO     Computing TSS profile for CNA_10xmultiome_1.15k\n"
     ]
    },
    {
     "name": "stdout",
     "output_type": "stream",
     "text": [
      "\u001b[2m\u001b[36m(compute_qc_stats_ray pid=2879338)\u001b[0m 2022-09-14 22:16:49,128 cisTopic     INFO     Computing TSS profile for CNA_10xv2_1.15k\n"
     ]
    },
    {
     "name": "stdout",
     "output_type": "stream",
     "text": [
      "\u001b[2m\u001b[36m(compute_qc_stats_ray pid=2879330)\u001b[0m 2022-09-14 22:16:49,469 cisTopic     INFO     Return plot data\n"
     ]
    },
    {
     "name": "stdout",
     "output_type": "stream",
     "text": [
      "\u001b[2m\u001b[36m(compute_qc_stats_ray pid=2879330)\u001b[0m 2022-09-14 22:16:50,702 cisTopic     INFO     Computing insert size distribution for CNA_10xv2_2.15k\n",
      "\u001b[2m\u001b[36m(compute_qc_stats_ray pid=2879330)\u001b[0m 2022-09-14 22:16:50,702 cisTopic     INFO     Counting fragments\n"
     ]
    },
    {
     "name": "stdout",
     "output_type": "stream",
     "text": [
      "\u001b[2m\u001b[36m(compute_qc_stats_ray pid=2879330)\u001b[0m 2022-09-14 22:17:05,157 cisTopic     INFO     Returning plot data\n"
     ]
    },
    {
     "name": "stdout",
     "output_type": "stream",
     "text": [
      "\u001b[2m\u001b[36m(compute_qc_stats_ray pid=2879333)\u001b[0m 2022-09-14 22:17:08,885 cisTopic     INFO     Formatting annnotation\n"
     ]
    },
    {
     "name": "stdout",
     "output_type": "stream",
     "text": [
      "\u001b[2m\u001b[36m(compute_qc_stats_ray pid=2879333)\u001b[0m 2022-09-14 22:17:09,860 cisTopic     INFO     Creating coverage matrix\n"
     ]
    },
    {
     "name": "stdout",
     "output_type": "stream",
     "text": [
      "\u001b[2m\u001b[36m(compute_qc_stats_ray pid=2879338)\u001b[0m 2022-09-14 22:17:21,759 cisTopic     INFO     Formatting annnotation\n"
     ]
    },
    {
     "name": "stdout",
     "output_type": "stream",
     "text": [
      "\u001b[2m\u001b[36m(compute_qc_stats_ray pid=2879338)\u001b[0m 2022-09-14 22:17:22,638 cisTopic     INFO     Creating coverage matrix\n"
     ]
    },
    {
     "name": "stdout",
     "output_type": "stream",
     "text": [
      "\u001b[2m\u001b[36m(compute_qc_stats_ray pid=2879331)\u001b[0m 2022-09-14 22:18:48,984 cisTopic     INFO     Coverage matrix done\n"
     ]
    },
    {
     "name": "stdout",
     "output_type": "stream",
     "text": [
      "\u001b[2m\u001b[36m(compute_qc_stats_ray pid=2879329)\u001b[0m 2022-09-14 22:19:06,010 cisTopic     INFO     Computing barcode rank plot for BIO_ddseq_1.15k\n",
      "\u001b[2m\u001b[36m(compute_qc_stats_ray pid=2879329)\u001b[0m 2022-09-14 22:19:06,010 cisTopic     INFO     Counting fragments\n"
     ]
    },
    {
     "name": "stdout",
     "output_type": "stream",
     "text": [
      "\u001b[2m\u001b[36m(compute_qc_stats_ray pid=2879335)\u001b[0m 2022-09-14 22:19:49,963 cisTopic     INFO     Computing barcode rank plot for HAR_ddseq_2.15k\n",
      "\u001b[2m\u001b[36m(compute_qc_stats_ray pid=2879335)\u001b[0m 2022-09-14 22:19:49,963 cisTopic     INFO     Counting fragments\n"
     ]
    },
    {
     "name": "stdout",
     "output_type": "stream",
     "text": [
      "\u001b[2m\u001b[36m(compute_qc_stats_ray pid=2879332)\u001b[0m 2022-09-14 22:20:35,017 cisTopic     INFO     Computing barcode rank plot for UCS_ddseq_1.15k\n",
      "\u001b[2m\u001b[36m(compute_qc_stats_ray pid=2879332)\u001b[0m 2022-09-14 22:20:35,017 cisTopic     INFO     Counting fragments\n"
     ]
    },
    {
     "name": "stdout",
     "output_type": "stream",
     "text": [
      "\u001b[2m\u001b[36m(compute_qc_stats_ray pid=2879329)\u001b[0m 2022-09-14 22:20:44,229 cisTopic     INFO     Marking barcodes with more than 10\n"
     ]
    },
    {
     "name": "stdout",
     "output_type": "stream",
     "text": [
      "\u001b[2m\u001b[36m(compute_qc_stats_ray pid=2879336)\u001b[0m 2022-09-14 22:20:45,449 cisTopic     INFO     Computing barcode rank plot for MDC_mtscatac_1.15k\n",
      "\u001b[2m\u001b[36m(compute_qc_stats_ray pid=2879336)\u001b[0m 2022-09-14 22:20:45,449 cisTopic     INFO     Counting fragments\n"
     ]
    },
    {
     "name": "stdout",
     "output_type": "stream",
     "text": [
      "\u001b[2m\u001b[36m(compute_qc_stats_ray pid=2879327)\u001b[0m 2022-09-14 22:20:47,782 cisTopic     INFO     Coverage matrix done\n"
     ]
    },
    {
     "name": "stdout",
     "output_type": "stream",
     "text": [
      "\u001b[2m\u001b[36m(compute_qc_stats_ray pid=2879329)\u001b[0m 2022-09-14 22:20:49,333 cisTopic     INFO     Returning plot data\n"
     ]
    },
    {
     "name": "stdout",
     "output_type": "stream",
     "text": [
      "\u001b[2m\u001b[36m(compute_qc_stats_ray pid=2879329)\u001b[0m 2022-09-14 22:20:49,503 cisTopic     INFO     Returning valid barcodes\n"
     ]
    },
    {
     "name": "stdout",
     "output_type": "stream",
     "text": [
      "\u001b[2m\u001b[36m(compute_qc_stats_ray pid=2879337)\u001b[0m 2022-09-14 22:21:17,071 cisTopic     INFO     Coverage matrix done\n"
     ]
    },
    {
     "name": "stdout",
     "output_type": "stream",
     "text": [
      "\u001b[2m\u001b[36m(compute_qc_stats_ray pid=2879329)\u001b[0m 2022-09-14 22:21:27,588 cisTopic     INFO     Computing duplicate rate plot for BIO_ddseq_1.15k\n"
     ]
    },
    {
     "name": "stdout",
     "output_type": "stream",
     "text": [
      "\u001b[2m\u001b[36m(compute_qc_stats_ray pid=2879331)\u001b[0m 2022-09-14 22:21:27,758 cisTopic     INFO     Returning normalized TSS coverage matrix per barcode\n"
     ]
    },
    {
     "name": "stdout",
     "output_type": "stream",
     "text": [
      "\u001b[2m\u001b[36m(compute_qc_stats_ray pid=2879339)\u001b[0m 2022-09-14 22:21:31,935 cisTopic     INFO     Coverage matrix done\n"
     ]
    },
    {
     "name": "stdout",
     "output_type": "stream",
     "text": [
      "\u001b[2m\u001b[36m(compute_qc_stats_ray pid=2879336)\u001b[0m 2022-09-14 22:21:34,980 cisTopic     INFO     Marking barcodes with more than 10\n"
     ]
    },
    {
     "name": "stdout",
     "output_type": "stream",
     "text": [
      "\u001b[2m\u001b[36m(compute_qc_stats_ray pid=2879336)\u001b[0m 2022-09-14 22:21:35,970 cisTopic     INFO     Returning plot data\n",
      "\u001b[2m\u001b[36m(compute_qc_stats_ray pid=2879336)\u001b[0m 2022-09-14 22:21:36,054 cisTopic     INFO     Returning valid barcodes\n"
     ]
    },
    {
     "name": "stdout",
     "output_type": "stream",
     "text": [
      "\u001b[2m\u001b[36m(compute_qc_stats_ray pid=2879332)\u001b[0m 2022-09-14 22:21:52,194 cisTopic     INFO     Marking barcodes with more than 10\n"
     ]
    },
    {
     "name": "stdout",
     "output_type": "stream",
     "text": [
      "\u001b[2m\u001b[36m(compute_qc_stats_ray pid=2879330)\u001b[0m 2022-09-14 22:21:54,359 cisTopic     INFO     Computing TSS profile for CNA_10xv2_2.15k\n"
     ]
    },
    {
     "name": "stdout",
     "output_type": "stream",
     "text": [
      "\u001b[2m\u001b[36m(compute_qc_stats_ray pid=2879332)\u001b[0m 2022-09-14 22:21:56,032 cisTopic     INFO     Returning plot data\n",
      "\u001b[2m\u001b[36m(compute_qc_stats_ray pid=2879332)\u001b[0m 2022-09-14 22:21:56,109 cisTopic     INFO     Returning valid barcodes\n"
     ]
    },
    {
     "name": "stdout",
     "output_type": "stream",
     "text": [
      "\u001b[2m\u001b[36m(compute_qc_stats_ray pid=2879335)\u001b[0m 2022-09-14 22:22:04,567 cisTopic     INFO     Marking barcodes with more than 10\n"
     ]
    },
    {
     "name": "stdout",
     "output_type": "stream",
     "text": [
      "\u001b[2m\u001b[36m(compute_qc_stats_ray pid=2879335)\u001b[0m 2022-09-14 22:22:12,427 cisTopic     INFO     Returning plot data\n",
      "\u001b[2m\u001b[36m(compute_qc_stats_ray pid=2879335)\u001b[0m 2022-09-14 22:22:12,585 cisTopic     INFO     Returning valid barcodes\n"
     ]
    },
    {
     "name": "stdout",
     "output_type": "stream",
     "text": [
      "\u001b[2m\u001b[36m(compute_qc_stats_ray pid=2879336)\u001b[0m 2022-09-14 22:22:26,993 cisTopic     INFO     Computing duplicate rate plot for MDC_mtscatac_1.15k\n"
     ]
    },
    {
     "name": "stdout",
     "output_type": "stream",
     "text": [
      "\u001b[2m\u001b[36m(compute_qc_stats_ray pid=2879332)\u001b[0m 2022-09-14 22:22:35,601 cisTopic     INFO     Computing duplicate rate plot for UCS_ddseq_1.15k\n"
     ]
    },
    {
     "name": "stdout",
     "output_type": "stream",
     "text": [
      "\u001b[2m\u001b[36m(compute_qc_stats_ray pid=2879330)\u001b[0m 2022-09-14 22:22:43,209 cisTopic     INFO     Formatting annnotation\n"
     ]
    },
    {
     "name": "stdout",
     "output_type": "stream",
     "text": [
      "\u001b[2m\u001b[36m(compute_qc_stats_ray pid=2879330)\u001b[0m 2022-09-14 22:22:44,138 cisTopic     INFO     Creating coverage matrix\n"
     ]
    },
    {
     "name": "stdout",
     "output_type": "stream",
     "text": [
      "\u001b[2m\u001b[36m(compute_qc_stats_ray pid=2879335)\u001b[0m 2022-09-14 22:22:45,855 cisTopic     INFO     Computing duplicate rate plot for HAR_ddseq_2.15k\n"
     ]
    },
    {
     "name": "stdout",
     "output_type": "stream",
     "text": [
      "\u001b[2m\u001b[36m(compute_qc_stats_ray pid=2879331)\u001b[0m 2022-09-14 22:23:20,518 cisTopic     INFO     Returning normalized sample TSS enrichment data\n"
     ]
    },
    {
     "name": "stdout",
     "output_type": "stream",
     "text": [
      "\u001b[2m\u001b[36m(compute_qc_stats_ray pid=2879331)\u001b[0m 2022-09-14 22:23:21,745 cisTopic     INFO     Computing FRIP profile for OHS_s3atac_1.15k\n"
     ]
    },
    {
     "name": "stdout",
     "output_type": "stream",
     "text": [
      "\u001b[2m\u001b[36m(compute_qc_stats_ray pid=2879331)\u001b[0m 2022-09-14 22:23:31,283 cisTopic     INFO     Counting fragments\n"
     ]
    },
    {
     "name": "stdout",
     "output_type": "stream",
     "text": [
      "\u001b[2m\u001b[36m(compute_qc_stats_ray pid=2879326)\u001b[0m 2022-09-14 22:23:36,124 cisTopic     INFO     Coverage matrix done\n"
     ]
    },
    {
     "name": "stdout",
     "output_type": "stream",
     "text": [
      "\u001b[2m\u001b[36m(compute_qc_stats_ray pid=2879336)\u001b[0m 2022-09-14 22:23:46,128 cisTopic     INFO     Return plot data\n"
     ]
    },
    {
     "name": "stdout",
     "output_type": "stream",
     "text": [
      "\u001b[2m\u001b[36m(compute_qc_stats_ray pid=2879336)\u001b[0m 2022-09-14 22:23:47,430 cisTopic     INFO     Computing insert size distribution for MDC_mtscatac_1.15k\n",
      "\u001b[2m\u001b[36m(compute_qc_stats_ray pid=2879336)\u001b[0m 2022-09-14 22:23:47,431 cisTopic     INFO     Counting fragments\n"
     ]
    },
    {
     "name": "stdout",
     "output_type": "stream",
     "text": [
      "\u001b[2m\u001b[36m(compute_qc_stats_ray pid=2879331)\u001b[0m 2022-09-14 22:23:59,019 cisTopic     INFO     Intersecting fragments with regions\n"
     ]
    },
    {
     "name": "stdout",
     "output_type": "stream",
     "text": [
      "\u001b[2m\u001b[36m(compute_qc_stats_ray pid=2879336)\u001b[0m 2022-09-14 22:24:10,426 cisTopic     INFO     Returning plot data\n"
     ]
    },
    {
     "name": "stdout",
     "output_type": "stream",
     "text": [
      "\u001b[2m\u001b[36m(compute_qc_stats_ray pid=2879329)\u001b[0m 2022-09-14 22:24:21,277 cisTopic     INFO     Return plot data\n"
     ]
    },
    {
     "name": "stdout",
     "output_type": "stream",
     "text": [
      "\u001b[2m\u001b[36m(compute_qc_stats_ray pid=2879329)\u001b[0m 2022-09-14 22:24:22,761 cisTopic     INFO     Computing insert size distribution for BIO_ddseq_1.15k\n",
      "\u001b[2m\u001b[36m(compute_qc_stats_ray pid=2879329)\u001b[0m 2022-09-14 22:24:22,762 cisTopic     INFO     Counting fragments\n"
     ]
    },
    {
     "name": "stdout",
     "output_type": "stream",
     "text": [
      "\u001b[2m\u001b[36m(compute_qc_stats_ray pid=2879329)\u001b[0m 2022-09-14 22:24:36,647 cisTopic     INFO     Returning plot data\n"
     ]
    },
    {
     "name": "stdout",
     "output_type": "stream",
     "text": [
      "\u001b[2m\u001b[36m(compute_qc_stats_ray pid=2879331)\u001b[0m 2022-09-14 22:24:43,541 cisTopic     INFO     Sample OHS_s3atac_1.15k done!\n"
     ]
    },
    {
     "name": "stdout",
     "output_type": "stream",
     "text": [
      "\u001b[2m\u001b[36m(compute_qc_stats_ray pid=2879340)\u001b[0m 2022-09-14 22:24:48,241 cisTopic     INFO     Coverage matrix done\n"
     ]
    },
    {
     "name": "stdout",
     "output_type": "stream",
     "text": [
      "\u001b[2m\u001b[36m(compute_qc_stats_ray pid=2879332)\u001b[0m 2022-09-14 22:25:03,929 cisTopic     INFO     Return plot data\n"
     ]
    },
    {
     "name": "stdout",
     "output_type": "stream",
     "text": [
      "\u001b[2m\u001b[36m(compute_qc_stats_ray pid=2879332)\u001b[0m 2022-09-14 22:25:05,260 cisTopic     INFO     Computing insert size distribution for UCS_ddseq_1.15k\n",
      "\u001b[2m\u001b[36m(compute_qc_stats_ray pid=2879332)\u001b[0m 2022-09-14 22:25:05,260 cisTopic     INFO     Counting fragments\n"
     ]
    },
    {
     "name": "stdout",
     "output_type": "stream",
     "text": [
      "\u001b[2m\u001b[36m(compute_qc_stats_ray pid=2879332)\u001b[0m 2022-09-14 22:25:21,564 cisTopic     INFO     Returning plot data\n"
     ]
    },
    {
     "name": "stdout",
     "output_type": "stream",
     "text": [
      "\u001b[2m\u001b[36m(compute_qc_stats_ray pid=2879328)\u001b[0m 2022-09-14 22:25:23,957 cisTopic     INFO     Returning normalized TSS coverage matrix per barcode\n"
     ]
    },
    {
     "name": "stdout",
     "output_type": "stream",
     "text": [
      "\u001b[2m\u001b[36m(compute_qc_stats_ray pid=2879335)\u001b[0m 2022-09-14 22:26:50,536 cisTopic     INFO     Return plot data\n"
     ]
    },
    {
     "name": "stdout",
     "output_type": "stream",
     "text": [
      "\u001b[2m\u001b[36m(compute_qc_stats_ray pid=2879335)\u001b[0m 2022-09-14 22:26:52,160 cisTopic     INFO     Computing insert size distribution for HAR_ddseq_2.15k\n",
      "\u001b[2m\u001b[36m(compute_qc_stats_ray pid=2879335)\u001b[0m 2022-09-14 22:26:52,160 cisTopic     INFO     Counting fragments\n"
     ]
    },
    {
     "name": "stdout",
     "output_type": "stream",
     "text": [
      "\u001b[2m\u001b[36m(compute_qc_stats_ray pid=2879335)\u001b[0m 2022-09-14 22:27:03,151 cisTopic     INFO     Returning plot data\n"
     ]
    },
    {
     "name": "stdout",
     "output_type": "stream",
     "text": [
      "\u001b[2m\u001b[36m(compute_qc_stats_ray pid=2879333)\u001b[0m 2022-09-14 22:27:41,829 cisTopic     INFO     Coverage matrix done\n"
     ]
    },
    {
     "name": "stdout",
     "output_type": "stream",
     "text": [
      "\u001b[2m\u001b[36m(compute_qc_stats_ray pid=2879329)\u001b[0m 2022-09-14 22:28:25,353 cisTopic     INFO     Computing TSS profile for BIO_ddseq_1.15k\n"
     ]
    },
    {
     "name": "stdout",
     "output_type": "stream",
     "text": [
      "\u001b[2m\u001b[36m(compute_qc_stats_ray pid=2879332)\u001b[0m 2022-09-14 22:29:38,560 cisTopic     INFO     Computing TSS profile for UCS_ddseq_1.15k\n"
     ]
    },
    {
     "name": "stdout",
     "output_type": "stream",
     "text": [
      "\u001b[2m\u001b[36m(compute_qc_stats_ray pid=2879329)\u001b[0m 2022-09-14 22:29:58,013 cisTopic     INFO     Formatting annnotation\n"
     ]
    },
    {
     "name": "stdout",
     "output_type": "stream",
     "text": [
      "\u001b[2m\u001b[36m(compute_qc_stats_ray pid=2879329)\u001b[0m 2022-09-14 22:29:58,967 cisTopic     INFO     Creating coverage matrix\n"
     ]
    },
    {
     "name": "stdout",
     "output_type": "stream",
     "text": [
      "\u001b[2m\u001b[36m(compute_qc_stats_ray pid=2879337)\u001b[0m 2022-09-14 22:30:23,142 cisTopic     INFO     Returning normalized TSS coverage matrix per barcode\n"
     ]
    },
    {
     "name": "stdout",
     "output_type": "stream",
     "text": [
      "\u001b[2m\u001b[36m(compute_qc_stats_ray pid=2879335)\u001b[0m 2022-09-14 22:30:35,458 cisTopic     INFO     Computing TSS profile for HAR_ddseq_2.15k\n"
     ]
    },
    {
     "name": "stdout",
     "output_type": "stream",
     "text": [
      "\u001b[2m\u001b[36m(compute_qc_stats_ray pid=2879336)\u001b[0m 2022-09-14 22:30:58,020 cisTopic     INFO     Computing TSS profile for MDC_mtscatac_1.15k\n"
     ]
    },
    {
     "name": "stdout",
     "output_type": "stream",
     "text": [
      "\u001b[2m\u001b[36m(compute_qc_stats_ray pid=2879338)\u001b[0m 2022-09-14 22:31:19,861 cisTopic     INFO     Coverage matrix done\n"
     ]
    },
    {
     "name": "stdout",
     "output_type": "stream",
     "text": [
      "\u001b[2m\u001b[36m(compute_qc_stats_ray pid=2879332)\u001b[0m 2022-09-14 22:31:21,091 cisTopic     INFO     Formatting annnotation\n"
     ]
    },
    {
     "name": "stdout",
     "output_type": "stream",
     "text": [
      "\u001b[2m\u001b[36m(compute_qc_stats_ray pid=2879332)\u001b[0m 2022-09-14 22:31:21,955 cisTopic     INFO     Creating coverage matrix\n"
     ]
    },
    {
     "name": "stdout",
     "output_type": "stream",
     "text": [
      "\u001b[2m\u001b[36m(compute_qc_stats_ray pid=2879335)\u001b[0m 2022-09-14 22:32:09,609 cisTopic     INFO     Formatting annnotation\n"
     ]
    },
    {
     "name": "stdout",
     "output_type": "stream",
     "text": [
      "\u001b[2m\u001b[36m(compute_qc_stats_ray pid=2879335)\u001b[0m 2022-09-14 22:32:10,531 cisTopic     INFO     Creating coverage matrix\n"
     ]
    },
    {
     "name": "stdout",
     "output_type": "stream",
     "text": [
      "\u001b[2m\u001b[36m(compute_qc_stats_ray pid=2879336)\u001b[0m 2022-09-14 22:32:17,301 cisTopic     INFO     Formatting annnotation\n"
     ]
    },
    {
     "name": "stdout",
     "output_type": "stream",
     "text": [
      "\u001b[2m\u001b[36m(compute_qc_stats_ray pid=2879336)\u001b[0m 2022-09-14 22:32:18,159 cisTopic     INFO     Creating coverage matrix\n"
     ]
    },
    {
     "name": "stdout",
     "output_type": "stream",
     "text": [
      "\u001b[2m\u001b[36m(compute_qc_stats_ray pid=2879338)\u001b[0m 2022-09-14 22:33:14,755 cisTopic     INFO     Returning normalized TSS coverage matrix per barcode\n"
     ]
    },
    {
     "name": "stdout",
     "output_type": "stream",
     "text": [
      "\u001b[2m\u001b[36m(compute_qc_stats_ray pid=2879334)\u001b[0m 2022-09-14 22:33:19,089 cisTopic     INFO     Returning normalized TSS coverage matrix per barcode\n"
     ]
    },
    {
     "name": "stdout",
     "output_type": "stream",
     "text": [
      "\u001b[2m\u001b[36m(compute_qc_stats_ray pid=2879328)\u001b[0m 2022-09-14 22:34:10,487 cisTopic     INFO     Returning normalized sample TSS enrichment data\n"
     ]
    },
    {
     "name": "stdout",
     "output_type": "stream",
     "text": [
      "\u001b[2m\u001b[36m(compute_qc_stats_ray pid=2879328)\u001b[0m 2022-09-14 22:34:11,752 cisTopic     INFO     Computing FRIP profile for VIB_hydrop_11.15k\n"
     ]
    },
    {
     "name": "stdout",
     "output_type": "stream",
     "text": [
      "\u001b[2m\u001b[36m(compute_qc_stats_ray pid=2879328)\u001b[0m 2022-09-14 22:34:18,192 cisTopic     INFO     Counting fragments\n"
     ]
    },
    {
     "name": "stdout",
     "output_type": "stream",
     "text": [
      "\u001b[2m\u001b[36m(compute_qc_stats_ray pid=2879328)\u001b[0m 2022-09-14 22:34:25,269 cisTopic     INFO     Intersecting fragments with regions\n"
     ]
    },
    {
     "name": "stdout",
     "output_type": "stream",
     "text": [
      "\u001b[2m\u001b[36m(compute_qc_stats_ray pid=2879338)\u001b[0m 2022-09-14 22:34:36,832 cisTopic     INFO     Returning normalized sample TSS enrichment data\n"
     ]
    },
    {
     "name": "stdout",
     "output_type": "stream",
     "text": [
      "\u001b[2m\u001b[36m(compute_qc_stats_ray pid=2879338)\u001b[0m 2022-09-14 22:34:38,014 cisTopic     INFO     Computing FRIP profile for CNA_10xv2_1.15k\n"
     ]
    },
    {
     "name": "stdout",
     "output_type": "stream",
     "text": [
      "\u001b[2m\u001b[36m(compute_qc_stats_ray pid=2879338)\u001b[0m 2022-09-14 22:34:49,187 cisTopic     INFO     Counting fragments\n"
     ]
    },
    {
     "name": "stdout",
     "output_type": "stream",
     "text": [
      "\u001b[2m\u001b[36m(compute_qc_stats_ray pid=2879328)\u001b[0m 2022-09-14 22:34:53,660 cisTopic     INFO     Sample VIB_hydrop_11.15k done!\n"
     ]
    },
    {
     "name": "stdout",
     "output_type": "stream",
     "text": [
      "\u001b[2m\u001b[36m(compute_qc_stats_ray pid=2879340)\u001b[0m 2022-09-14 22:35:12,905 cisTopic     INFO     Returning normalized TSS coverage matrix per barcode\n"
     ]
    },
    {
     "name": "stdout",
     "output_type": "stream",
     "text": [
      "\u001b[2m\u001b[36m(compute_qc_stats_ray pid=2879338)\u001b[0m 2022-09-14 22:35:27,001 cisTopic     INFO     Intersecting fragments with regions\n"
     ]
    },
    {
     "name": "stdout",
     "output_type": "stream",
     "text": [
      "\u001b[2m\u001b[36m(compute_qc_stats_ray pid=2879337)\u001b[0m 2022-09-14 22:36:35,336 cisTopic     INFO     Returning normalized sample TSS enrichment data\n"
     ]
    },
    {
     "name": "stdout",
     "output_type": "stream",
     "text": [
      "\u001b[2m\u001b[36m(compute_qc_stats_ray pid=2879337)\u001b[0m 2022-09-14 22:36:36,512 cisTopic     INFO     Computing FRIP profile for CNA_10xv11_2.15k\n"
     ]
    },
    {
     "name": "stdout",
     "output_type": "stream",
     "text": [
      "\u001b[2m\u001b[36m(compute_qc_stats_ray pid=2879337)\u001b[0m 2022-09-14 22:36:45,136 cisTopic     INFO     Counting fragments\n"
     ]
    },
    {
     "name": "stdout",
     "output_type": "stream",
     "text": [
      "\u001b[2m\u001b[36m(compute_qc_stats_ray pid=2879337)\u001b[0m 2022-09-14 22:37:10,203 cisTopic     INFO     Intersecting fragments with regions\n"
     ]
    },
    {
     "name": "stdout",
     "output_type": "stream",
     "text": [
      "\u001b[2m\u001b[36m(compute_qc_stats_ray pid=2879338)\u001b[0m 2022-09-14 22:37:56,196 cisTopic     INFO     Sample CNA_10xv2_1.15k done!\n"
     ]
    },
    {
     "name": "stdout",
     "output_type": "stream",
     "text": [
      "\u001b[2m\u001b[36m(compute_qc_stats_ray pid=2879333)\u001b[0m 2022-09-14 22:38:03,132 cisTopic     INFO     Returning normalized TSS coverage matrix per barcode\n"
     ]
    },
    {
     "name": "stdout",
     "output_type": "stream",
     "text": [
      "\u001b[2m\u001b[36m(compute_qc_stats_ray pid=2879337)\u001b[0m 2022-09-14 22:38:15,270 cisTopic     INFO     Sample CNA_10xv11_2.15k done!\n"
     ]
    },
    {
     "name": "stdout",
     "output_type": "stream",
     "text": [
      "\u001b[2m\u001b[36m(compute_qc_stats_ray pid=2879327)\u001b[0m 2022-09-14 22:39:18,799 cisTopic     INFO     Returning normalized TSS coverage matrix per barcode\n"
     ]
    },
    {
     "name": "stdout",
     "output_type": "stream",
     "text": [
      "\u001b[2m\u001b[36m(compute_qc_stats_ray pid=2879339)\u001b[0m 2022-09-14 22:39:49,075 cisTopic     INFO     Returning normalized TSS coverage matrix per barcode\n"
     ]
    },
    {
     "name": "stdout",
     "output_type": "stream",
     "text": [
      "\u001b[2m\u001b[36m(compute_qc_stats_ray pid=2879330)\u001b[0m 2022-09-14 22:40:06,769 cisTopic     INFO     Coverage matrix done\n"
     ]
    },
    {
     "name": "stdout",
     "output_type": "stream",
     "text": [
      "\u001b[2m\u001b[36m(compute_qc_stats_ray pid=2879340)\u001b[0m 2022-09-14 22:41:02,081 cisTopic     INFO     Returning normalized sample TSS enrichment data\n"
     ]
    },
    {
     "name": "stdout",
     "output_type": "stream",
     "text": [
      "\u001b[2m\u001b[36m(compute_qc_stats_ray pid=2879340)\u001b[0m 2022-09-14 22:41:02,997 cisTopic     INFO     Computing FRIP profile for VIB_10xv1_1.15k\n"
     ]
    },
    {
     "name": "stdout",
     "output_type": "stream",
     "text": [
      "\u001b[2m\u001b[36m(compute_qc_stats_ray pid=2879340)\u001b[0m 2022-09-14 22:41:08,812 cisTopic     INFO     Counting fragments\n"
     ]
    },
    {
     "name": "stdout",
     "output_type": "stream",
     "text": [
      "\u001b[2m\u001b[36m(compute_qc_stats_ray pid=2879326)\u001b[0m 2022-09-14 22:41:22,042 cisTopic     INFO     Returning normalized TSS coverage matrix per barcode\n"
     ]
    },
    {
     "name": "stdout",
     "output_type": "stream",
     "text": [
      "\u001b[2m\u001b[36m(compute_qc_stats_ray pid=2879340)\u001b[0m 2022-09-14 22:41:30,335 cisTopic     INFO     Intersecting fragments with regions\n"
     ]
    },
    {
     "name": "stdout",
     "output_type": "stream",
     "text": [
      "\u001b[2m\u001b[36m(compute_qc_stats_ray pid=2879330)\u001b[0m 2022-09-14 22:42:18,460 cisTopic     INFO     Returning normalized TSS coverage matrix per barcode\n"
     ]
    },
    {
     "name": "stdout",
     "output_type": "stream",
     "text": [
      "\u001b[2m\u001b[36m(compute_qc_stats_ray pid=2879340)\u001b[0m 2022-09-14 22:42:30,506 cisTopic     INFO     Sample VIB_10xv1_1.15k done!\n"
     ]
    },
    {
     "name": "stdout",
     "output_type": "stream",
     "text": [
      "\u001b[2m\u001b[36m(compute_qc_stats_ray pid=2879333)\u001b[0m 2022-09-14 22:43:42,150 cisTopic     INFO     Returning normalized sample TSS enrichment data\n"
     ]
    },
    {
     "name": "stdout",
     "output_type": "stream",
     "text": [
      "\u001b[2m\u001b[36m(compute_qc_stats_ray pid=2879333)\u001b[0m 2022-09-14 22:43:43,002 cisTopic     INFO     Computing FRIP profile for CNA_10xmultiome_1.15k\n"
     ]
    },
    {
     "name": "stdout",
     "output_type": "stream",
     "text": [
      "\u001b[2m\u001b[36m(compute_qc_stats_ray pid=2879330)\u001b[0m 2022-09-14 22:43:48,210 cisTopic     INFO     Returning normalized sample TSS enrichment data\n"
     ]
    },
    {
     "name": "stdout",
     "output_type": "stream",
     "text": [
      "\u001b[2m\u001b[36m(compute_qc_stats_ray pid=2879330)\u001b[0m 2022-09-14 22:43:49,047 cisTopic     INFO     Computing FRIP profile for CNA_10xv2_2.15k\n"
     ]
    },
    {
     "name": "stdout",
     "output_type": "stream",
     "text": [
      "\u001b[2m\u001b[36m(compute_qc_stats_ray pid=2879333)\u001b[0m 2022-09-14 22:43:49,485 cisTopic     INFO     Counting fragments\n"
     ]
    },
    {
     "name": "stdout",
     "output_type": "stream",
     "text": [
      "\u001b[2m\u001b[36m(compute_qc_stats_ray pid=2879334)\u001b[0m 2022-09-14 22:43:51,761 cisTopic     INFO     Returning normalized sample TSS enrichment data\n"
     ]
    },
    {
     "name": "stdout",
     "output_type": "stream",
     "text": [
      "\u001b[2m\u001b[36m(compute_qc_stats_ray pid=2879334)\u001b[0m 2022-09-14 22:43:52,700 cisTopic     INFO     Computing FRIP profile for CNA_hydrop_3.15k\n"
     ]
    },
    {
     "name": "stdout",
     "output_type": "stream",
     "text": [
      "\u001b[2m\u001b[36m(compute_qc_stats_ray pid=2879334)\u001b[0m 2022-09-14 22:43:55,346 cisTopic     INFO     Counting fragments\n"
     ]
    },
    {
     "name": "stdout",
     "output_type": "stream",
     "text": [
      "\u001b[2m\u001b[36m(compute_qc_stats_ray pid=2879330)\u001b[0m 2022-09-14 22:43:57,818 cisTopic     INFO     Counting fragments\n"
     ]
    },
    {
     "name": "stdout",
     "output_type": "stream",
     "text": [
      "\u001b[2m\u001b[36m(compute_qc_stats_ray pid=2879334)\u001b[0m 2022-09-14 22:44:03,373 cisTopic     INFO     Intersecting fragments with regions\n"
     ]
    },
    {
     "name": "stdout",
     "output_type": "stream",
     "text": [
      "\u001b[2m\u001b[36m(compute_qc_stats_ray pid=2879333)\u001b[0m 2022-09-14 22:44:12,163 cisTopic     INFO     Intersecting fragments with regions\n"
     ]
    },
    {
     "name": "stdout",
     "output_type": "stream",
     "text": [
      "\u001b[2m\u001b[36m(compute_qc_stats_ray pid=2879334)\u001b[0m 2022-09-14 22:44:21,292 cisTopic     INFO     Sample CNA_hydrop_3.15k done!\n"
     ]
    },
    {
     "name": "stdout",
     "output_type": "stream",
     "text": [
      "\u001b[2m\u001b[36m(compute_qc_stats_ray pid=2879332)\u001b[0m 2022-09-14 22:44:27,441 cisTopic     INFO     Coverage matrix done\n"
     ]
    },
    {
     "name": "stdout",
     "output_type": "stream",
     "text": [
      "\u001b[2m\u001b[36m(compute_qc_stats_ray pid=2879330)\u001b[0m 2022-09-14 22:44:31,457 cisTopic     INFO     Intersecting fragments with regions\n"
     ]
    },
    {
     "name": "stdout",
     "output_type": "stream",
     "text": [
      "\u001b[2m\u001b[36m(compute_qc_stats_ray pid=2879333)\u001b[0m 2022-09-14 22:45:20,137 cisTopic     INFO     Sample CNA_10xmultiome_1.15k done!\n"
     ]
    },
    {
     "name": "stdout",
     "output_type": "stream",
     "text": [
      "\u001b[2m\u001b[36m(compute_qc_stats_ray pid=2879330)\u001b[0m 2022-09-14 22:46:47,031 cisTopic     INFO     Sample CNA_10xv2_2.15k done!\n"
     ]
    },
    {
     "name": "stdout",
     "output_type": "stream",
     "text": [
      "\u001b[2m\u001b[36m(compute_qc_stats_ray pid=2879336)\u001b[0m 2022-09-14 22:47:19,054 cisTopic     INFO     Coverage matrix done\n"
     ]
    },
    {
     "name": "stdout",
     "output_type": "stream",
     "text": [
      "\u001b[2m\u001b[36m(compute_qc_stats_ray pid=2879335)\u001b[0m 2022-09-14 22:47:30,805 cisTopic     INFO     Coverage matrix done\n"
     ]
    },
    {
     "name": "stdout",
     "output_type": "stream",
     "text": [
      "\u001b[2m\u001b[36m(compute_qc_stats_ray pid=2879329)\u001b[0m 2022-09-14 22:47:33,590 cisTopic     INFO     Coverage matrix done\n"
     ]
    },
    {
     "name": "stdout",
     "output_type": "stream",
     "text": [
      "\u001b[2m\u001b[36m(compute_qc_stats_ray pid=2879327)\u001b[0m 2022-09-14 22:47:44,063 cisTopic     INFO     Returning normalized sample TSS enrichment data\n"
     ]
    },
    {
     "name": "stdout",
     "output_type": "stream",
     "text": [
      "\u001b[2m\u001b[36m(compute_qc_stats_ray pid=2879327)\u001b[0m 2022-09-14 22:47:44,686 cisTopic     INFO     Computing FRIP profile for EPF_hydrop_3.15k\n"
     ]
    },
    {
     "name": "stdout",
     "output_type": "stream",
     "text": [
      "\u001b[2m\u001b[36m(compute_qc_stats_ray pid=2879327)\u001b[0m 2022-09-14 22:47:47,979 cisTopic     INFO     Counting fragments\n"
     ]
    },
    {
     "name": "stdout",
     "output_type": "stream",
     "text": [
      "\u001b[2m\u001b[36m(compute_qc_stats_ray pid=2879327)\u001b[0m 2022-09-14 22:47:54,098 cisTopic     INFO     Intersecting fragments with regions\n"
     ]
    },
    {
     "name": "stdout",
     "output_type": "stream",
     "text": [
      "\u001b[2m\u001b[36m(compute_qc_stats_ray pid=2879339)\u001b[0m 2022-09-14 22:47:58,596 cisTopic     INFO     Returning normalized sample TSS enrichment data\n"
     ]
    },
    {
     "name": "stdout",
     "output_type": "stream",
     "text": [
      "\u001b[2m\u001b[36m(compute_qc_stats_ray pid=2879339)\u001b[0m 2022-09-14 22:47:59,344 cisTopic     INFO     Computing FRIP profile for EPF_hydrop_4.15k\n"
     ]
    },
    {
     "name": "stdout",
     "output_type": "stream",
     "text": [
      "\u001b[2m\u001b[36m(compute_qc_stats_ray pid=2879339)\u001b[0m 2022-09-14 22:48:01,886 cisTopic     INFO     Counting fragments\n"
     ]
    },
    {
     "name": "stdout",
     "output_type": "stream",
     "text": [
      "\u001b[2m\u001b[36m(compute_qc_stats_ray pid=2879339)\u001b[0m 2022-09-14 22:48:08,229 cisTopic     INFO     Intersecting fragments with regions\n"
     ]
    },
    {
     "name": "stdout",
     "output_type": "stream",
     "text": [
      "\u001b[2m\u001b[36m(compute_qc_stats_ray pid=2879327)\u001b[0m 2022-09-14 22:48:20,913 cisTopic     INFO     Sample EPF_hydrop_3.15k done!\n"
     ]
    },
    {
     "name": "stdout",
     "output_type": "stream",
     "text": [
      "\u001b[2m\u001b[36m(compute_qc_stats_ray pid=2879339)\u001b[0m 2022-09-14 22:48:36,245 cisTopic     INFO     Sample EPF_hydrop_4.15k done!\n"
     ]
    },
    {
     "name": "stdout",
     "output_type": "stream",
     "text": [
      "\u001b[2m\u001b[36m(compute_qc_stats_ray pid=2879326)\u001b[0m 2022-09-14 22:49:01,776 cisTopic     INFO     Returning normalized sample TSS enrichment data\n"
     ]
    },
    {
     "name": "stdout",
     "output_type": "stream",
     "text": [
      "\u001b[2m\u001b[36m(compute_qc_stats_ray pid=2879326)\u001b[0m 2022-09-14 22:49:02,226 cisTopic     INFO     Computing FRIP profile for EPF_hydrop_1.15k\n"
     ]
    },
    {
     "name": "stdout",
     "output_type": "stream",
     "text": [
      "\u001b[2m\u001b[36m(compute_qc_stats_ray pid=2879326)\u001b[0m 2022-09-14 22:49:04,448 cisTopic     INFO     Counting fragments\n"
     ]
    },
    {
     "name": "stdout",
     "output_type": "stream",
     "text": [
      "\u001b[2m\u001b[36m(compute_qc_stats_ray pid=2879326)\u001b[0m 2022-09-14 22:49:09,741 cisTopic     INFO     Intersecting fragments with regions\n"
     ]
    },
    {
     "name": "stdout",
     "output_type": "stream",
     "text": [
      "\u001b[2m\u001b[36m(compute_qc_stats_ray pid=2879326)\u001b[0m 2022-09-14 22:49:31,217 cisTopic     INFO     Sample EPF_hydrop_1.15k done!\n"
     ]
    },
    {
     "name": "stdout",
     "output_type": "stream",
     "text": [
      "\u001b[2m\u001b[36m(compute_qc_stats_ray pid=2879332)\u001b[0m 2022-09-14 22:50:08,322 cisTopic     INFO     Returning normalized TSS coverage matrix per barcode\n"
     ]
    },
    {
     "name": "stdout",
     "output_type": "stream",
     "text": [
      "\u001b[2m\u001b[36m(compute_qc_stats_ray pid=2879336)\u001b[0m 2022-09-14 22:50:16,527 cisTopic     INFO     Returning normalized TSS coverage matrix per barcode\n"
     ]
    },
    {
     "name": "stdout",
     "output_type": "stream",
     "text": [
      "\u001b[2m\u001b[36m(compute_qc_stats_ray pid=2879336)\u001b[0m 2022-09-14 22:51:44,824 cisTopic     INFO     Returning normalized sample TSS enrichment data\n"
     ]
    },
    {
     "name": "stdout",
     "output_type": "stream",
     "text": [
      "\u001b[2m\u001b[36m(compute_qc_stats_ray pid=2879336)\u001b[0m 2022-09-14 22:51:45,144 cisTopic     INFO     Computing FRIP profile for MDC_mtscatac_1.15k\n"
     ]
    },
    {
     "name": "stdout",
     "output_type": "stream",
     "text": [
      "\u001b[2m\u001b[36m(compute_qc_stats_ray pid=2879336)\u001b[0m 2022-09-14 22:51:48,998 cisTopic     INFO     Counting fragments\n"
     ]
    },
    {
     "name": "stdout",
     "output_type": "stream",
     "text": [
      "\u001b[2m\u001b[36m(compute_qc_stats_ray pid=2879336)\u001b[0m 2022-09-14 22:52:08,472 cisTopic     INFO     Intersecting fragments with regions\n"
     ]
    },
    {
     "name": "stdout",
     "output_type": "stream",
     "text": [
      "\u001b[2m\u001b[36m(compute_qc_stats_ray pid=2879332)\u001b[0m 2022-09-14 22:52:28,009 cisTopic     INFO     Returning normalized sample TSS enrichment data\n"
     ]
    },
    {
     "name": "stdout",
     "output_type": "stream",
     "text": [
      "\u001b[2m\u001b[36m(compute_qc_stats_ray pid=2879332)\u001b[0m 2022-09-14 22:52:28,434 cisTopic     INFO     Computing FRIP profile for UCS_ddseq_1.15k\n"
     ]
    },
    {
     "name": "stdout",
     "output_type": "stream",
     "text": [
      "\u001b[2m\u001b[36m(compute_qc_stats_ray pid=2879332)\u001b[0m 2022-09-14 22:52:30,640 cisTopic     INFO     Counting fragments\n"
     ]
    },
    {
     "name": "stdout",
     "output_type": "stream",
     "text": [
      "\u001b[2m\u001b[36m(compute_qc_stats_ray pid=2879332)\u001b[0m 2022-09-14 22:52:52,202 cisTopic     INFO     Intersecting fragments with regions\n"
     ]
    },
    {
     "name": "stdout",
     "output_type": "stream",
     "text": [
      "\u001b[2m\u001b[36m(compute_qc_stats_ray pid=2879329)\u001b[0m 2022-09-14 22:53:20,259 cisTopic     INFO     Returning normalized TSS coverage matrix per barcode\n"
     ]
    },
    {
     "name": "stdout",
     "output_type": "stream",
     "text": [
      "\u001b[2m\u001b[36m(compute_qc_stats_ray pid=2879336)\u001b[0m 2022-09-14 22:53:20,709 cisTopic     INFO     Sample MDC_mtscatac_1.15k done!\n"
     ]
    },
    {
     "name": "stdout",
     "output_type": "stream",
     "text": [
      "\u001b[2m\u001b[36m(compute_qc_stats_ray pid=2879332)\u001b[0m 2022-09-14 22:53:36,065 cisTopic     INFO     Sample UCS_ddseq_1.15k done!\n"
     ]
    },
    {
     "name": "stdout",
     "output_type": "stream",
     "text": [
      "\u001b[2m\u001b[36m(compute_qc_stats_ray pid=2879335)\u001b[0m 2022-09-14 22:53:45,968 cisTopic     INFO     Returning normalized TSS coverage matrix per barcode\n"
     ]
    },
    {
     "name": "stdout",
     "output_type": "stream",
     "text": [
      "\u001b[2m\u001b[36m(compute_qc_stats_ray pid=2879329)\u001b[0m 2022-09-14 22:55:09,417 cisTopic     INFO     Returning normalized sample TSS enrichment data\n"
     ]
    },
    {
     "name": "stdout",
     "output_type": "stream",
     "text": [
      "\u001b[2m\u001b[36m(compute_qc_stats_ray pid=2879329)\u001b[0m 2022-09-14 22:55:09,598 cisTopic     INFO     Computing FRIP profile for BIO_ddseq_1.15k\n"
     ]
    },
    {
     "name": "stdout",
     "output_type": "stream",
     "text": [
      "\u001b[2m\u001b[36m(compute_qc_stats_ray pid=2879329)\u001b[0m 2022-09-14 22:55:10,489 cisTopic     INFO     Counting fragments\n"
     ]
    },
    {
     "name": "stdout",
     "output_type": "stream",
     "text": [
      "\u001b[2m\u001b[36m(compute_qc_stats_ray pid=2879329)\u001b[0m 2022-09-14 22:55:19,724 cisTopic     INFO     Intersecting fragments with regions\n"
     ]
    },
    {
     "name": "stdout",
     "output_type": "stream",
     "text": [
      "\u001b[2m\u001b[36m(compute_qc_stats_ray pid=2879335)\u001b[0m 2022-09-14 22:55:34,541 cisTopic     INFO     Returning normalized sample TSS enrichment data\n"
     ]
    },
    {
     "name": "stdout",
     "output_type": "stream",
     "text": [
      "\u001b[2m\u001b[36m(compute_qc_stats_ray pid=2879335)\u001b[0m 2022-09-14 22:55:34,720 cisTopic     INFO     Computing FRIP profile for HAR_ddseq_2.15k\n"
     ]
    },
    {
     "name": "stdout",
     "output_type": "stream",
     "text": [
      "\u001b[2m\u001b[36m(compute_qc_stats_ray pid=2879335)\u001b[0m 2022-09-14 22:55:35,659 cisTopic     INFO     Counting fragments\n"
     ]
    },
    {
     "name": "stdout",
     "output_type": "stream",
     "text": [
      "\u001b[2m\u001b[36m(compute_qc_stats_ray pid=2879335)\u001b[0m 2022-09-14 22:55:46,852 cisTopic     INFO     Intersecting fragments with regions\n"
     ]
    },
    {
     "name": "stdout",
     "output_type": "stream",
     "text": [
      "\u001b[2m\u001b[36m(compute_qc_stats_ray pid=2879329)\u001b[0m 2022-09-14 22:55:50,976 cisTopic     INFO     Sample BIO_ddseq_1.15k done!\n"
     ]
    },
    {
     "name": "stdout",
     "output_type": "stream",
     "text": [
      "\u001b[2m\u001b[36m(compute_qc_stats_ray pid=2879335)\u001b[0m 2022-09-14 22:56:08,303 cisTopic     INFO     Sample HAR_ddseq_2.15k done!\n"
     ]
    },
    {
     "name": "stdout",
     "output_type": "stream",
     "text": [
      "Dumping files in /dodrio/scratch/projects/starting_2022_023/benchmark/scatac_benchmark/downsample_series/15k/cistopic_qc_out_CONSENSUS...\n"
     ]
    },
    {
     "name": "stdout",
     "output_type": "stream",
     "text": [
      "2022-09-14 22:57:24,988 cisTopic     INFO     n_cpu is larger than the number of samples. Setting n_cpu to the number of samples\n"
     ]
    },
    {
     "name": "stdout",
     "output_type": "stream",
     "text": [
      "2022-09-14 22:57:24,989 cisTopic     INFO     Reading VIB_10xv2_2.15k\n"
     ]
    },
    {
     "name": "stdout",
     "output_type": "stream",
     "text": [
      "2022-09-14 22:57:44,648 cisTopic     INFO     Computing barcode rank plot for VIB_10xv2_2.15k\n"
     ]
    },
    {
     "name": "stdout",
     "output_type": "stream",
     "text": [
      "2022-09-14 22:57:44,649 cisTopic     INFO     Counting fragments\n"
     ]
    },
    {
     "name": "stdout",
     "output_type": "stream",
     "text": [
      "2022-09-14 22:57:45,596 cisTopic     INFO     Marking barcodes with more than 10\n"
     ]
    },
    {
     "name": "stdout",
     "output_type": "stream",
     "text": [
      "2022-09-14 22:57:45,626 cisTopic     INFO     Returning plot data\n"
     ]
    },
    {
     "name": "stdout",
     "output_type": "stream",
     "text": [
      "2022-09-14 22:57:45,628 cisTopic     INFO     Returning valid barcodes\n"
     ]
    },
    {
     "name": "stdout",
     "output_type": "stream",
     "text": [
      "2022-09-14 22:57:46,839 cisTopic     INFO     Computing duplicate rate plot for VIB_10xv2_2.15k\n"
     ]
    },
    {
     "name": "stdout",
     "output_type": "stream",
     "text": [
      "2022-09-14 22:57:48,389 cisTopic     INFO     Return plot data\n"
     ]
    },
    {
     "name": "stdout",
     "output_type": "stream",
     "text": [
      "2022-09-14 22:57:48,471 cisTopic     INFO     Computing insert size distribution for VIB_10xv2_2.15k\n"
     ]
    },
    {
     "name": "stdout",
     "output_type": "stream",
     "text": [
      "2022-09-14 22:57:48,471 cisTopic     INFO     Counting fragments\n"
     ]
    },
    {
     "name": "stdout",
     "output_type": "stream",
     "text": [
      "2022-09-14 22:57:48,940 cisTopic     INFO     Returning plot data\n"
     ]
    },
    {
     "name": "stdout",
     "output_type": "stream",
     "text": [
      "2022-09-14 22:57:58,546 cisTopic     INFO     Computing TSS profile for VIB_10xv2_2.15k\n"
     ]
    },
    {
     "name": "stdout",
     "output_type": "stream",
     "text": [
      "2022-09-14 22:58:01,226 cisTopic     INFO     Formatting annnotation\n"
     ]
    },
    {
     "name": "stdout",
     "output_type": "stream",
     "text": [
      "2022-09-14 22:58:01,325 cisTopic     INFO     Creating coverage matrix\n"
     ]
    },
    {
     "name": "stdout",
     "output_type": "stream",
     "text": [
      "2022-09-14 22:58:43,269 cisTopic     INFO     Coverage matrix done\n"
     ]
    },
    {
     "name": "stdout",
     "output_type": "stream",
     "text": [
      "2022-09-14 22:58:48,435 cisTopic     INFO     Returning normalized TSS coverage matrix per barcode\n"
     ]
    },
    {
     "name": "stdout",
     "output_type": "stream",
     "text": [
      "2022-09-14 22:58:52,284 cisTopic     INFO     Returning normalized sample TSS enrichment data\n"
     ]
    },
    {
     "name": "stdout",
     "output_type": "stream",
     "text": [
      "2022-09-14 22:58:52,367 cisTopic     INFO     Computing FRIP profile for VIB_10xv2_2.15k\n"
     ]
    },
    {
     "name": "stdout",
     "output_type": "stream",
     "text": [
      "2022-09-14 22:58:53,635 cisTopic     INFO     Counting fragments\n"
     ]
    },
    {
     "name": "stdout",
     "output_type": "stream",
     "text": [
      "2022-09-14 22:58:56,425 cisTopic     INFO     Intersecting fragments with regions\n"
     ]
    },
    {
     "name": "stdout",
     "output_type": "stream",
     "text": [
      "2022-09-14 22:59:04,253 cisTopic     INFO     Sample VIB_10xv2_2.15k done!\n"
     ]
    },
    {
     "name": "stdout",
     "output_type": "stream",
     "text": [
      "Dumping files in /dodrio/scratch/projects/starting_2022_023/benchmark/scatac_benchmark/downsample_series/15k/cistopic_qc_out_CONSENSUS...\n"
     ]
    }
   ],
   "source": [
    "n_cores = 16\n",
    "if regions_sub_dict != {}:\n",
    "    samples_sub = list(regions_sub_dict.keys())\n",
    "    blocks = [samples_sub[i : i + n_cores] for i in range(0, len(samples_sub), n_cores)]\n",
    "    for samples_torun_in_block in blocks:\n",
    "        fragments_sub_dict_block = {\n",
    "            key: fragments_sub_dict[key] for key in samples_torun_in_block\n",
    "        }\n",
    "        regions_sub_dict_block = {\n",
    "            key: regions_sub_dict[key] for key in samples_torun_in_block\n",
    "        }\n",
    "\n",
    "        metadata_bc_dict, profile_data_dict = compute_qc_stats(\n",
    "            fragments_dict=fragments_sub_dict_block,\n",
    "            tss_annotation=annotation,\n",
    "            stats=[\n",
    "                \"barcode_rank_plot\",\n",
    "                \"duplicate_rate\",\n",
    "                \"insert_size_distribution\",\n",
    "                \"profile_tss\",\n",
    "                \"frip\",\n",
    "            ],\n",
    "            label_list=None,\n",
    "            path_to_regions=regions_sub_dict_block,\n",
    "            n_cpu=n_cores,\n",
    "            valid_bc=None,\n",
    "            n_frag=10,\n",
    "            n_bc=None,\n",
    "            tss_flank_window=2000,\n",
    "            tss_window=50,\n",
    "            tss_minimum_signal_window=100,\n",
    "            tss_rolling_window=10,\n",
    "            # min_norm=0.2,\n",
    "            remove_duplicates=True,\n",
    "        )\n",
    "\n",
    "        ray.shutdown()\n",
    "        print(f\"Dumping files in {cistopic_qc_out}...\")\n",
    "        for sample in sorted(metadata_bc_dict.keys()):\n",
    "            metadata_bc_dict[sample][\"sample_id\"] = sample\n",
    "            metadata_bc_dict[sample].index = [\n",
    "                x + \"___\" + sample for x in list(metadata_bc_dict[sample].index)\n",
    "            ]\n",
    "            with open(\n",
    "                os.path.join(cistopic_qc_out, f\"{sample}__metadata_bc.pkl\"), \"wb\"\n",
    "            ) as f:\n",
    "                pickle.dump(metadata_bc_dict[sample], f, protocol=4)\n",
    "\n",
    "            with open(\n",
    "                os.path.join(cistopic_qc_out, f\"{sample}__profile_data.pkl\"), \"wb\"\n",
    "            ) as f:\n",
    "                pickle.dump(profile_data_dict[sample], f, protocol=4)\n",
    "else:\n",
    "    print(\"All samples already processed.\")"
   ]
  },
  {
   "cell_type": "markdown",
   "id": "1a1ad8e2",
   "metadata": {
    "papermill": {
     "duration": 0.043657,
     "end_time": "2022-09-14T22:59:09.910643",
     "exception": false,
     "start_time": "2022-09-14T22:59:09.866986",
     "status": "completed"
    },
    "tags": []
   },
   "source": [
    "# Plot"
   ]
  },
  {
   "cell_type": "markdown",
   "id": "76d9a6eb-c74e-41bb-b05b-0c2c36a0a2f9",
   "metadata": {
    "papermill": {
     "duration": 0.036663,
     "end_time": "2022-09-14T22:59:09.985191",
     "exception": false,
     "start_time": "2022-09-14T22:59:09.948528",
     "status": "completed"
    },
    "tags": []
   },
   "source": [
    "Calculating a KDE is simultaneously expensive and scales poorly with increasing n. Therefore, I wrote a multithreaded script that divides the QC array into equal parts (interleaved to avoid biases in the order!) and performs a KDE calculation on each part. Here, Otsu thresholding is used to find the right threshold for minimum fragments and minimum TSS enrichment. ddseq samples have a significantly higher noise floor than the other samples when it comes to fragment distribution. Therefore, the otsu algorithm is performed on all barcodes with a minimum of 300 fragments for the ddseq samples, and a minimum of 100 fragments for all the other samples. I tried to perform this filtering completely independent of sample/technique (e.g. using gaussian mixture modeling, Jenks natural breaks, or multiple step Otsu thresholding) but found that no solution worked perfectly for all samples."
   ]
  },
  {
   "cell_type": "markdown",
   "id": "0332bf6a-0bd8-41d2-9f12-634b2249af11",
   "metadata": {
    "papermill": {
     "duration": 0.037041,
     "end_time": "2022-09-14T22:59:10.059338",
     "exception": false,
     "start_time": "2022-09-14T22:59:10.022297",
     "status": "completed"
    },
    "tags": []
   },
   "source": [
    "This is regulated by the code below in qc_plots.py:\n",
    "```\n",
    "min_otsu_frags_dict = {}\n",
    "for fragments_file in fragments_list:\n",
    "    sample = fragments_file.split(\"/\")[-1].split(\".\")[0]\n",
    "    tech = sample.split('_')[1]\n",
    "    if tech == \"ddseq\":\n",
    "        if sample == \"BIO_ddseq_1\":\n",
    "            min_otsu_frags_dict[sample] = 600\n",
    "        else:\n",
    "            min_otsu_frags_dict[sample] = 300\n",
    "    elif tech == \"hydrop\":\n",
    "        min_otsu_frags_dict[sample] = 300\n",
    "    else:\n",
    "        min_otsu_frags_dict[sample] = 100\n",
    "```"
   ]
  },
  {
   "cell_type": "code",
   "execution_count": 20,
   "id": "0b8bcb35-3db0-4d9c-96d0-c73d04a0d5cf",
   "metadata": {
    "collapsed": true,
    "execution": {
     "iopub.execute_input": "2022-09-14T22:59:10.135334Z",
     "iopub.status.busy": "2022-09-14T22:59:10.135001Z",
     "iopub.status.idle": "2022-09-14T22:59:10.478673Z",
     "shell.execute_reply": "2022-09-14T22:59:10.477836Z"
    },
    "jupyter": {
     "outputs_hidden": true
    },
    "papermill": {
     "duration": 0.383496,
     "end_time": "2022-09-14T22:59:10.480100",
     "exception": false,
     "start_time": "2022-09-14T22:59:10.096604",
     "status": "completed"
    },
    "tags": []
   },
   "outputs": [
    {
     "name": "stdout",
     "output_type": "stream",
     "text": [
      "cat: ../0_resources/scripts/qc_plots.py: No such file or directory\r\n"
     ]
    }
   ],
   "source": [
    "!cat ../0_resources/scripts/qc_plots.py"
   ]
  },
  {
   "cell_type": "markdown",
   "id": "e4019bde",
   "metadata": {
    "execution": {
     "iopub.execute_input": "2022-07-15T09:42:06.802579Z",
     "iopub.status.busy": "2022-07-15T09:42:06.801860Z",
     "iopub.status.idle": "2022-07-15T09:42:06.814527Z",
     "shell.execute_reply": "2022-07-15T09:42:06.813708Z",
     "shell.execute_reply.started": "2022-07-15T09:42:06.802476Z"
    },
    "papermill": {
     "duration": 0.036029,
     "end_time": "2022-09-14T22:59:10.554071",
     "exception": false,
     "start_time": "2022-09-14T22:59:10.518042",
     "status": "completed"
    },
    "tags": []
   },
   "source": [
    "Since multiprocessing does not work with jupyter notebooks, run the following code in terminal:"
   ]
  },
  {
   "cell_type": "markdown",
   "id": "5d53e61b",
   "metadata": {
    "papermill": {
     "duration": 0.036003,
     "end_time": "2022-09-14T22:59:10.626346",
     "exception": false,
     "start_time": "2022-09-14T22:59:10.590343",
     "status": "completed"
    },
    "tags": []
   },
   "source": [
    "```\n",
    "mkdir plots_qc\n",
    "mkdir selected_barcodes\n",
    "SIF=../0_resources/cistopic_image/20220722_pycistopic.sif\n",
    "singularity exec \\\n",
    "    --cleanenv \\\n",
    "    -H $PWD:/home \\\n",
    "    $SIF \\\n",
    "    python ../0_resources/scripts/qc_plots.py\n",
    "```"
   ]
  },
  {
   "cell_type": "markdown",
   "id": "6de4c150-e92a-4060-b992-ae7babd1625a",
   "metadata": {
    "papermill": {
     "duration": 0.036511,
     "end_time": "2022-09-14T22:59:10.699450",
     "exception": false,
     "start_time": "2022-09-14T22:59:10.662939",
     "status": "completed"
    },
    "tags": []
   },
   "source": [
    "And then open the plots:"
   ]
  },
  {
   "cell_type": "code",
   "execution_count": 21,
   "id": "68739afd-bc2c-4fab-ad96-25edf95b163c",
   "metadata": {
    "execution": {
     "iopub.execute_input": "2022-09-14T22:59:10.774038Z",
     "iopub.status.busy": "2022-09-14T22:59:10.773562Z",
     "iopub.status.idle": "2022-09-14T22:59:10.782757Z",
     "shell.execute_reply": "2022-09-14T22:59:10.782154Z"
    },
    "papermill": {
     "duration": 0.047844,
     "end_time": "2022-09-14T22:59:10.783988",
     "exception": false,
     "start_time": "2022-09-14T22:59:10.736144",
     "status": "completed"
    },
    "tags": []
   },
   "outputs": [],
   "source": [
    "metadata_bc_pkl_list = sorted(glob.glob(\"cistopic_qc_out/*metadata_bc.pkl\"))\n",
    "metadata_bc_pkl_path_dict = {}\n",
    "for metadata_bc_pkl_path in metadata_bc_pkl_list:\n",
    "    sample = metadata_bc_pkl_path.split(\"/\")[-1].split(\"__\")[0]\n",
    "    metadata_bc_pkl_path_dict[sample] = metadata_bc_pkl_path\n",
    "\n",
    "for sample in metadata_bc_pkl_path_dict.keys():\n",
    "    if os.path.exists(f\"selected_barcodes/{sample}_bc_passing_filters_otsu.pkl\"):\n",
    "        print(f\"{sample} bc passing filters exists, printing img and skipping\")\n",
    "        display(Image(f\"plots_qc/{sample}_qc_otsu.png\"))\n",
    "    else:\n",
    "        print(\n",
    "            f\"{sample} bc passing filters does not exist yet, generate using qc_plots.py script!\"\n",
    "        )"
   ]
  },
  {
   "cell_type": "markdown",
   "id": "fa5a05ab-0ae5-4804-95d8-b280b86bbedf",
   "metadata": {
    "papermill": {
     "duration": 0.305715,
     "end_time": "2022-09-14T22:59:11.127085",
     "exception": false,
     "start_time": "2022-09-14T22:59:10.821370",
     "status": "completed"
    },
    "tags": []
   },
   "source": [
    "# Write raw barcode file"
   ]
  },
  {
   "cell_type": "markdown",
   "id": "ed437d13-e63c-4fd5-a19b-549c83c3c3f6",
   "metadata": {
    "papermill": {
     "duration": 0.036681,
     "end_time": "2022-09-14T22:59:11.200471",
     "exception": false,
     "start_time": "2022-09-14T22:59:11.163790",
     "status": "completed"
    },
    "tags": []
   },
   "source": [
    "Freemuxlet reads barcodes in the bam file. These barcodes (tag: DB) do not contain the `sample` suffix, which is included in the `*_bc_passing_filters_otsu.txt` files:"
   ]
  },
  {
   "cell_type": "code",
   "execution_count": 22,
   "id": "76c6ae6e-c050-4915-9477-1b567edff53e",
   "metadata": {
    "execution": {
     "iopub.execute_input": "2022-09-14T22:59:11.276681Z",
     "iopub.status.busy": "2022-09-14T22:59:11.276239Z",
     "iopub.status.idle": "2022-09-14T22:59:11.744664Z",
     "shell.execute_reply": "2022-09-14T22:59:11.743904Z"
    },
    "papermill": {
     "duration": 0.532662,
     "end_time": "2022-09-14T22:59:11.769848",
     "exception": false,
     "start_time": "2022-09-14T22:59:11.237186",
     "status": "completed"
    },
    "tags": []
   },
   "outputs": [
    {
     "name": "stdout",
     "output_type": "stream",
     "text": [
      "head: cannot open 'selected_barcodes/BIO_ddseq_1.LIBDS_bc_passing_filters_otsu.txt' for reading: No such file or directory\r\n"
     ]
    }
   ],
   "source": [
    "!head selected_barcodes/BIO_ddseq_1.LIBDS_bc_passing_filters_otsu.txt"
   ]
  },
  {
   "cell_type": "code",
   "execution_count": 23,
   "id": "df7588f2-5917-4e37-98cb-7fd0d2c83590",
   "metadata": {
    "execution": {
     "iopub.execute_input": "2022-09-14T22:59:11.845760Z",
     "iopub.status.busy": "2022-09-14T22:59:11.845282Z",
     "iopub.status.idle": "2022-09-14T22:59:11.856811Z",
     "shell.execute_reply": "2022-09-14T22:59:11.856072Z"
    },
    "papermill": {
     "duration": 0.050409,
     "end_time": "2022-09-14T22:59:11.857868",
     "exception": false,
     "start_time": "2022-09-14T22:59:11.807459",
     "status": "completed"
    },
    "tags": []
   },
   "outputs": [],
   "source": [
    "for file in glob.glob(\"selected_barcodes/*_bc_passing_filters_otsu.txt\"):\n",
    "    print(file)\n",
    "    sample = file.split(\"/\")[-1].split(\"_bc_passing_filters_otsu.txt\")[0]\n",
    "    print(sample)\n",
    "    df = pd.read_csv(file, header=None, index_col=None)\n",
    "\n",
    "    with open(f\"selected_barcodes/{sample}_bc_passing_filters_otsu.RAW.txt\", \"w\") as fp:\n",
    "        for x in df[0]:\n",
    "            # write each item on a new line\n",
    "            fp.write(x.split(\"___\")[0] + \"\\n\")\n",
    "        print(\"Done\")"
   ]
  },
  {
   "cell_type": "code",
   "execution_count": 24,
   "id": "83e00ebf-28af-4f4a-8f2f-d3c073179b2a",
   "metadata": {
    "execution": {
     "iopub.execute_input": "2022-09-14T22:59:11.934152Z",
     "iopub.status.busy": "2022-09-14T22:59:11.933590Z",
     "iopub.status.idle": "2022-09-14T22:59:12.675892Z",
     "shell.execute_reply": "2022-09-14T22:59:12.675124Z"
    },
    "papermill": {
     "duration": 0.781857,
     "end_time": "2022-09-14T22:59:12.677407",
     "exception": false,
     "start_time": "2022-09-14T22:59:11.895550",
     "status": "completed"
    },
    "tags": []
   },
   "outputs": [
    {
     "name": "stdout",
     "output_type": "stream",
     "text": [
      "head: cannot open 'selected_barcodes/BIO_ddseq_1.LIBDS_bc_passing_filters_otsu.RAW.txt' for reading: No such file or directory\r\n"
     ]
    }
   ],
   "source": [
    "!head selected_barcodes/BIO_ddseq_1.LIBDS_bc_passing_filters_otsu.RAW.txt"
   ]
  },
  {
   "cell_type": "code",
   "execution_count": null,
   "id": "1f42804d-a0dd-4797-8573-d1ac4de75f1b",
   "metadata": {
    "papermill": {
     "duration": 0.037118,
     "end_time": "2022-09-14T22:59:12.754639",
     "exception": false,
     "start_time": "2022-09-14T22:59:12.717521",
     "status": "completed"
    },
    "tags": []
   },
   "outputs": [],
   "source": []
  }
 ],
 "metadata": {
  "kernelspec": {
   "display_name": "20220815_pycistopic.sif",
   "language": "python",
   "name": "pycistopic_20220815"
  },
  "language_info": {
   "codemirror_mode": {
    "name": "ipython",
    "version": 3
   },
   "file_extension": ".py",
   "mimetype": "text/x-python",
   "name": "python",
   "nbconvert_exporter": "python",
   "pygments_lexer": "ipython3",
   "version": "3.8.13"
  },
  "papermill": {
   "default_parameters": {},
   "duration": 9802.429623,
   "end_time": "2022-09-14T22:59:16.036197",
   "environment_variables": {},
   "exception": null,
   "input_path": "2_run_qc_consensus.ipynb",
   "output_path": "2_run_qc_consensus.OUT.ipynb",
   "parameters": {},
   "start_time": "2022-09-14T20:15:53.606574",
   "version": "2.3.4"
  }
 },
 "nbformat": 4,
 "nbformat_minor": 5
}
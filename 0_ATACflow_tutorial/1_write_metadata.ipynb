{
 "cells": [
  {
   "cell_type": "markdown",
   "id": "e1b44c5d",
   "metadata": {},
   "source": [
    "# Writing a metadata file"
   ]
  },
  {
   "cell_type": "code",
   "execution_count": 1,
   "id": "dc228dce",
   "metadata": {
    "execution": {
     "iopub.execute_input": "2023-02-22T12:34:05.615727Z",
     "iopub.status.busy": "2023-02-22T12:34:05.614744Z",
     "iopub.status.idle": "2023-02-22T12:34:17.728484Z",
     "shell.execute_reply": "2023-02-22T12:34:17.726649Z",
     "shell.execute_reply.started": "2023-02-22T12:34:05.615556Z"
    },
    "tags": []
   },
   "outputs": [],
   "source": [
    "import os\n",
    "import glob\n",
    "import pandas as pd"
   ]
  },
  {
   "cell_type": "code",
   "execution_count": 2,
   "id": "f2656ac4",
   "metadata": {
    "execution": {
     "iopub.execute_input": "2023-02-22T12:34:17.732670Z",
     "iopub.status.busy": "2023-02-22T12:34:17.731713Z",
     "iopub.status.idle": "2023-02-22T12:34:17.743325Z",
     "shell.execute_reply": "2023-02-22T12:34:17.742125Z",
     "shell.execute_reply.started": "2023-02-22T12:34:17.732618Z"
    },
    "tags": []
   },
   "outputs": [],
   "source": [
    "filepaths = sorted(glob.glob('../1_data_repository/libds_fastq/*'))\n",
    "filenames = [x.split('/')[-1] for x in filepaths]\n",
    "samplenames = sorted(list(set([x.split('__')[0] for x in filenames])))"
   ]
  },
  {
   "cell_type": "code",
   "execution_count": 3,
   "id": "c6be1ef2",
   "metadata": {
    "execution": {
     "iopub.execute_input": "2023-02-22T12:34:17.745690Z",
     "iopub.status.busy": "2023-02-22T12:34:17.744776Z",
     "iopub.status.idle": "2023-02-22T12:34:17.810339Z",
     "shell.execute_reply": "2023-02-22T12:34:17.808798Z",
     "shell.execute_reply.started": "2023-02-22T12:34:17.745652Z"
    },
    "tags": []
   },
   "outputs": [],
   "source": [
    "metadata = pd.DataFrame(samplenames, columns=['sample_name'])\n",
    "metadata.index = metadata['sample_name']"
   ]
  },
  {
   "cell_type": "code",
   "execution_count": 4,
   "id": "d4676bd5",
   "metadata": {
    "execution": {
     "iopub.execute_input": "2023-02-22T12:34:17.815166Z",
     "iopub.status.busy": "2023-02-22T12:34:17.814437Z",
     "iopub.status.idle": "2023-02-22T12:34:17.839346Z",
     "shell.execute_reply": "2023-02-22T12:34:17.838163Z",
     "shell.execute_reply.started": "2023-02-22T12:34:17.815111Z"
    },
    "tags": []
   },
   "outputs": [
    {
     "data": {
      "text/plain": [
       "{'BIO_ddseq_1': 'hydrop_2x384',\n",
       " 'BIO_ddseq_2': 'hydrop_2x384',\n",
       " 'BIO_ddseq_3': 'hydrop_2x384',\n",
       " 'BIO_ddseq_4': 'hydrop_2x384',\n",
       " 'BRO_mtscatac_1': 'hydrop_2x384',\n",
       " 'BRO_mtscatac_2': 'hydrop_2x384',\n",
       " 'CNA_10xmultiome_1': 'hydrop_2x384',\n",
       " 'CNA_10xmultiome_2': 'hydrop_2x384',\n",
       " 'CNA_10xv11_1': 'hydrop_2x384',\n",
       " 'CNA_10xv11_2': 'hydrop_2x384',\n",
       " 'CNA_10xv11_3': 'hydrop_2x384',\n",
       " 'CNA_10xv11_4': 'hydrop_2x384',\n",
       " 'CNA_10xv11_5': 'hydrop_2x384',\n",
       " 'CNA_10xv2_1': 'hydrop_2x384',\n",
       " 'CNA_10xv2_2': 'hydrop_2x384',\n",
       " 'CNA_hydrop_1': 'hydrop_2x384',\n",
       " 'CNA_hydrop_2': 'hydrop_2x384',\n",
       " 'CNA_hydrop_3': 'hydrop_2x384',\n",
       " 'CNA_mtscatac_1': 'hydrop_2x384',\n",
       " 'CNA_mtscatac_2': 'hydrop_2x384',\n",
       " 'EPF_hydrop_1': 'hydrop_2x384',\n",
       " 'EPF_hydrop_2': 'hydrop_2x384',\n",
       " 'EPF_hydrop_3': 'hydrop_2x384',\n",
       " 'EPF_hydrop_4': 'hydrop_2x384',\n",
       " 'HAR_ddseq_1': 'hydrop_2x384',\n",
       " 'HAR_ddseq_2': 'hydrop_2x384',\n",
       " 'MDC_mtscatac_1': 'hydrop_2x384',\n",
       " 'MDC_mtscatac_2': 'hydrop_2x384',\n",
       " 'OHS_s3atac_1': 'hydrop_2x384',\n",
       " 'OHS_s3atac_2': 'hydrop_2x384',\n",
       " 'SAN_10xmultiome_1': 'hydrop_2x384',\n",
       " 'SAN_10xmultiome_2': 'hydrop_2x384',\n",
       " 'STA_10xv11_1': 'hydrop_2x384',\n",
       " 'STA_10xv11_2': 'hydrop_2x384',\n",
       " 'TXG_10xv11_1': 'hydrop_2x384',\n",
       " 'TXG_10xv2_1': 'hydrop_2x384',\n",
       " 'TXG_10xv2_2': 'hydrop_2x384',\n",
       " 'UCS_ddseq_1': 'hydrop_2x384',\n",
       " 'UCS_ddseq_2': 'hydrop_2x384',\n",
       " 'VIB_10xmultiome_1': 'hydrop_2x384',\n",
       " 'VIB_10xmultiome_2': 'hydrop_2x384',\n",
       " 'VIB_10xv1_1': 'hydrop_2x384',\n",
       " 'VIB_10xv1_2': 'hydrop_2x384',\n",
       " 'VIB_10xv2_1': 'hydrop_2x384',\n",
       " 'VIB_10xv2_2': 'hydrop_2x384',\n",
       " 'VIB_hydrop_11': 'hydrop_2x384',\n",
       " 'VIB_hydrop_12': 'hydrop_2x384',\n",
       " 'VIB_hydrop_21': 'hydrop_2x384',\n",
       " 'VIB_hydrop_22': 'hydrop_2x384'}"
      ]
     },
     "execution_count": 4,
     "metadata": {},
     "output_type": "execute_result"
    }
   ],
   "source": [
    "tech_dict_template = {x:'hydrop_2x384' for x in metadata['sample_name']}\n",
    "tech_dict_template"
   ]
  },
  {
   "cell_type": "markdown",
   "id": "fa1b903d",
   "metadata": {
    "execution": {
     "iopub.execute_input": "2022-06-02T18:21:01.866204Z",
     "iopub.status.busy": "2022-06-02T18:21:01.865839Z",
     "iopub.status.idle": "2022-06-02T18:21:01.871502Z",
     "shell.execute_reply": "2022-06-02T18:21:01.870527Z",
     "shell.execute_reply.started": "2022-06-02T18:21:01.866170Z"
    }
   },
   "source": [
    "Copy the dict and change \"atac\" to each sample's method"
   ]
  },
  {
   "cell_type": "code",
   "execution_count": 5,
   "id": "b3e41003",
   "metadata": {
    "execution": {
     "iopub.execute_input": "2023-02-22T12:34:17.840992Z",
     "iopub.status.busy": "2023-02-22T12:34:17.840601Z",
     "iopub.status.idle": "2023-02-22T12:34:17.850818Z",
     "shell.execute_reply": "2023-02-22T12:34:17.849795Z",
     "shell.execute_reply.started": "2023-02-22T12:34:17.840962Z"
    },
    "tags": []
   },
   "outputs": [],
   "source": [
    "tech_dict = {\n",
    "    'BIO_ddseq_1': 'biorad',\n",
    "    'BIO_ddseq_2': 'biorad',\n",
    "    'BIO_ddseq_3': 'biorad',\n",
    "    'BIO_ddseq_4': 'biorad',\n",
    "    'BRO_mtscatac_1': 'atac_revcomp',\n",
    "    'BRO_mtscatac_2': 'atac_revcomp',\n",
    "    'CNA_10xmultiome_1': 'multiome_revcomp',\n",
    "    'CNA_10xmultiome_2': 'multiome_revcomp',\n",
    "    'CNA_10xv11_1': 'atac',\n",
    "    'CNA_10xv11_2': 'atac',\n",
    "    'CNA_10xv11_3': 'atac_revcomp',\n",
    "    'CNA_10xv11_4': 'atac_revcomp',\n",
    "    'CNA_10xv11_5': 'atac_revcomp',\n",
    "    'CNA_10xv2_1': 'atac_revcomp',\n",
    "    'CNA_10xv2_2': 'atac_revcomp',\n",
    "    'CNA_hydrop_1': 'hydrop_2x384',\n",
    "    'CNA_hydrop_2': 'hydrop_2x384',\n",
    "    'CNA_hydrop_3': 'hydrop_2x384',\n",
    "    'CNA_mtscatac_1': 'atac_revcomp',\n",
    "    'CNA_mtscatac_2': 'atac_revcomp',\n",
    "    'EPF_hydrop_1': 'hydrop_2x384',\n",
    "    'EPF_hydrop_2': 'hydrop_2x384',\n",
    "    'EPF_hydrop_3': 'hydrop_2x384',\n",
    "    'EPF_hydrop_4': 'hydrop_2x384',\n",
    "    'HAR_ddseq_1': 'biorad',\n",
    "    'HAR_ddseq_2': 'biorad',\n",
    "    'MDC_mtscatac_1': 'atac_revcomp',\n",
    "    'MDC_mtscatac_2': 'atac_revcomp',\n",
    "    'SAN_10xmultiome_1': 'multiome',\n",
    "    'SAN_10xmultiome_2': 'multiome',\n",
    "    'STA_10xv11_1': 'atac_revcomp',\n",
    "    'STA_10xv11_2': 'atac_revcomp',\n",
    "    'TXG_10xv11_1': 'atac_revcomp',\n",
    "    'TXG_10xv2_1': 'atac_revcomp',\n",
    "    'TXG_10xv2_2': 'atac_revcomp',\n",
    "    'UCS_ddseq_1': 'biorad',\n",
    "    'UCS_ddseq_2': 'biorad',\n",
    "    'VIB_10xmultiome_1': 'multiome_revcomp',\n",
    "    'VIB_10xmultiome_2': 'multiome_revcomp',\n",
    "    'VIB_10xv1_1': 'atac',\n",
    "    'VIB_10xv1_2': 'atac',\n",
    "    'VIB_10xv2_1': 'atac_revcomp',\n",
    "    'VIB_10xv2_2': 'atac_revcomp',\n",
    "    'VIB_hydrop_11': 'hydrop_2x384',\n",
    "    'VIB_hydrop_12': 'hydrop_2x384',\n",
    "    'VIB_hydrop_21': 'hydrop_2x384',\n",
    "    'VIB_hydrop_22': 'hydrop_2x384',\n",
    "    'OHS_s3atac_1': 'OHS_s3atac_1',\n",
    "    'OHS_s3atac_2': 'OHS_s3atac_2'\n",
    "}"
   ]
  },
  {
   "cell_type": "code",
   "execution_count": 6,
   "id": "a54b07b2-3d3d-4bdd-a1ef-dc47e39345d4",
   "metadata": {
    "execution": {
     "iopub.execute_input": "2023-02-22T12:34:17.852214Z",
     "iopub.status.busy": "2023-02-22T12:34:17.851883Z",
     "iopub.status.idle": "2023-02-22T12:34:17.858979Z",
     "shell.execute_reply": "2023-02-22T12:34:17.857936Z",
     "shell.execute_reply.started": "2023-02-22T12:34:17.852189Z"
    },
    "tags": []
   },
   "outputs": [
    {
     "name": "stdout",
     "output_type": "stream",
     "text": [
      "set()\n",
      "set()\n"
     ]
    }
   ],
   "source": [
    "print(set(tech_dict.keys()) - set(tech_dict_template.keys()))\n",
    "print(set(tech_dict_template.keys()) - set(tech_dict.keys()))"
   ]
  },
  {
   "cell_type": "code",
   "execution_count": 7,
   "id": "1986d25f-a36c-49f0-9911-a1c5295d3daa",
   "metadata": {
    "execution": {
     "iopub.execute_input": "2023-02-22T12:34:17.860397Z",
     "iopub.status.busy": "2023-02-22T12:34:17.860068Z",
     "iopub.status.idle": "2023-02-22T12:34:17.865301Z",
     "shell.execute_reply": "2023-02-22T12:34:17.864298Z",
     "shell.execute_reply.started": "2023-02-22T12:34:17.860372Z"
    },
    "tags": []
   },
   "outputs": [],
   "source": [
    "tech_dict_sub = {}\n",
    "for sample in tech_dict_template.keys():\n",
    "    tech_dict_sub[sample] = tech_dict[sample]"
   ]
  },
  {
   "cell_type": "code",
   "execution_count": 8,
   "id": "ade3fa90-8f1d-429b-aa89-ca87386a6eb1",
   "metadata": {
    "execution": {
     "iopub.execute_input": "2023-02-22T12:34:17.866998Z",
     "iopub.status.busy": "2023-02-22T12:34:17.866657Z",
     "iopub.status.idle": "2023-02-22T12:34:17.872080Z",
     "shell.execute_reply": "2023-02-22T12:34:17.870939Z",
     "shell.execute_reply.started": "2023-02-22T12:34:17.866965Z"
    },
    "tags": []
   },
   "outputs": [],
   "source": [
    "tech_dict_sub = tech_dict"
   ]
  },
  {
   "cell_type": "code",
   "execution_count": 9,
   "id": "d82d02d4-9ecd-43ee-8190-a695553c4abd",
   "metadata": {
    "execution": {
     "iopub.execute_input": "2023-02-22T12:34:17.874154Z",
     "iopub.status.busy": "2023-02-22T12:34:17.873412Z",
     "iopub.status.idle": "2023-02-22T12:34:17.881053Z",
     "shell.execute_reply": "2023-02-22T12:34:17.879911Z",
     "shell.execute_reply.started": "2023-02-22T12:34:17.874121Z"
    },
    "tags": []
   },
   "outputs": [
    {
     "data": {
      "text/plain": [
       "dict_keys(['BIO_ddseq_1', 'BIO_ddseq_2', 'BIO_ddseq_3', 'BIO_ddseq_4', 'BRO_mtscatac_1', 'BRO_mtscatac_2', 'CNA_10xmultiome_1', 'CNA_10xmultiome_2', 'CNA_10xv11_1', 'CNA_10xv11_2', 'CNA_10xv11_3', 'CNA_10xv11_4', 'CNA_10xv11_5', 'CNA_10xv2_1', 'CNA_10xv2_2', 'CNA_hydrop_1', 'CNA_hydrop_2', 'CNA_hydrop_3', 'CNA_mtscatac_1', 'CNA_mtscatac_2', 'EPF_hydrop_1', 'EPF_hydrop_2', 'EPF_hydrop_3', 'EPF_hydrop_4', 'HAR_ddseq_1', 'HAR_ddseq_2', 'MDC_mtscatac_1', 'MDC_mtscatac_2', 'SAN_10xmultiome_1', 'SAN_10xmultiome_2', 'STA_10xv11_1', 'STA_10xv11_2', 'TXG_10xv11_1', 'TXG_10xv2_1', 'TXG_10xv2_2', 'UCS_ddseq_1', 'UCS_ddseq_2', 'VIB_10xmultiome_1', 'VIB_10xmultiome_2', 'VIB_10xv1_1', 'VIB_10xv1_2', 'VIB_10xv2_1', 'VIB_10xv2_2', 'VIB_hydrop_11', 'VIB_hydrop_12', 'VIB_hydrop_21', 'VIB_hydrop_22', 'OHS_s3atac_1', 'OHS_s3atac_2'])"
      ]
     },
     "execution_count": 9,
     "metadata": {},
     "output_type": "execute_result"
    }
   ],
   "source": [
    "tech_dict_sub.keys()"
   ]
  },
  {
   "cell_type": "code",
   "execution_count": 12,
   "id": "c7cd750b-5bca-43ef-bd8c-ca6171862fa9",
   "metadata": {
    "execution": {
     "iopub.execute_input": "2023-02-22T12:34:18.582548Z",
     "iopub.status.busy": "2023-02-22T12:34:18.581817Z",
     "iopub.status.idle": "2023-02-22T12:34:19.448053Z",
     "shell.execute_reply": "2023-02-22T12:34:19.446583Z",
     "shell.execute_reply.started": "2023-02-22T12:34:18.582493Z"
    }
   },
   "outputs": [],
   "source": [
    "depth_str = str('35k')\n",
    "fastq_repo_path = f'/lustre1/project/stg_00090/scatac_benchmark/fixedcells_downsample_series/{depth_str}/{depth_str}_fastq'\n",
    "\n",
    "with open(f'metadata.{depth_str}.tsv', 'w') as f:\n",
    "    f.write(f'sample_name\\ttechnology\\tfastq_PE1_path\\tfastq_barcode_path\\tfastq_PE2_path\\n')\n",
    "    for sample in tech_dict_sub.keys():\n",
    "        if tech_dict[sample] != 'biorad':\n",
    "            f.write(f'{sample}.{depth_str}\\t{tech_dict[sample]}\\t{fastq_repo_path}/{sample}__R1.{depth_str}.fastq.gz\\t{fastq_repo_path}/{sample}__R2.{depth_str}.fastq.gz\\t{fastq_repo_path}/{sample}__R3.{depth_str}.fastq.gz\\n')\n",
    "        else:\n",
    "            f.write(f'{sample}.{depth_str}\\t{tech_dict[sample]}\\t{fastq_repo_path}/{sample}__R1.{depth_str}.fastq.gz\\t\\t{fastq_repo_path}/{sample}__R2.{depth_str}.fastq.gz\\n')"
   ]
  },
  {
   "cell_type": "code",
   "execution_count": 14,
   "id": "6924e3a1-75f5-4d2b-bb62-4136d4f83751",
   "metadata": {
    "execution": {
     "iopub.execute_input": "2023-02-22T12:34:27.057244Z",
     "iopub.status.busy": "2023-02-22T12:34:27.056437Z",
     "iopub.status.idle": "2023-02-22T12:34:27.214457Z",
     "shell.execute_reply": "2023-02-22T12:34:27.212669Z",
     "shell.execute_reply.started": "2023-02-22T12:34:27.057184Z"
    },
    "tags": []
   },
   "outputs": [
    {
     "name": "stdout",
     "output_type": "stream",
     "text": [
      "sample_name\ttechnology\tfastq_PE1_path\tfastq_barcode_path\tfastq_PE2_path\n",
      "BIO_ddseq_1.35k\tbiorad\t/lustre1/project/stg_00090/scatac_benchmark/fixedcells_downsample_series/35k/35k_fastq/BIO_ddseq_1__R1.35k.fastq.gz\t\t/lustre1/project/stg_00090/scatac_benchmark/fixedcells_downsample_series/35k/35k_fastq/BIO_ddseq_1__R2.35k.fastq.gz\n",
      "BIO_ddseq_2.35k\tbiorad\t/lustre1/project/stg_00090/scatac_benchmark/fixedcells_downsample_series/35k/35k_fastq/BIO_ddseq_2__R1.35k.fastq.gz\t\t/lustre1/project/stg_00090/scatac_benchmark/fixedcells_downsample_series/35k/35k_fastq/BIO_ddseq_2__R2.35k.fastq.gz\n",
      "BIO_ddseq_3.35k\tbiorad\t/lustre1/project/stg_00090/scatac_benchmark/fixedcells_downsample_series/35k/35k_fastq/BIO_ddseq_3__R1.35k.fastq.gz\t\t/lustre1/project/stg_00090/scatac_benchmark/fixedcells_downsample_series/35k/35k_fastq/BIO_ddseq_3__R2.35k.fastq.gz\n",
      "BIO_ddseq_4.35k\tbiorad\t/lustre1/project/stg_00090/scatac_benchmark/fixedcells_downsample_series/35k/35k_fastq/BIO_ddseq_4__R1.35k.fastq.gz\t\t/lustre1/project/stg_00090/scatac_benchmark/fixedcells_downsample_series/35k/35k_fastq/BIO_ddseq_4__R2.35k.fastq.gz\n",
      "BRO_mtscatac_1.35k\tatac_revcomp\t/lustre1/project/stg_00090/scatac_benchmark/fixedcells_downsample_series/35k/35k_fastq/BRO_mtscatac_1__R1.35k.fastq.gz\t/lustre1/project/stg_00090/scatac_benchmark/fixedcells_downsample_series/35k/35k_fastq/BRO_mtscatac_1__R2.35k.fastq.gz\t/lustre1/project/stg_00090/scatac_benchmark/fixedcells_downsample_series/35k/35k_fastq/BRO_mtscatac_1__R3.35k.fastq.gz\n",
      "BRO_mtscatac_2.35k\tatac_revcomp\t/lustre1/project/stg_00090/scatac_benchmark/fixedcells_downsample_series/35k/35k_fastq/BRO_mtscatac_2__R1.35k.fastq.gz\t/lustre1/project/stg_00090/scatac_benchmark/fixedcells_downsample_series/35k/35k_fastq/BRO_mtscatac_2__R2.35k.fastq.gz\t/lustre1/project/stg_00090/scatac_benchmark/fixedcells_downsample_series/35k/35k_fastq/BRO_mtscatac_2__R3.35k.fastq.gz\n",
      "CNA_10xmultiome_1.35k\tmultiome_revcomp\t/lustre1/project/stg_00090/scatac_benchmark/fixedcells_downsample_series/35k/35k_fastq/CNA_10xmultiome_1__R1.35k.fastq.gz\t/lustre1/project/stg_00090/scatac_benchmark/fixedcells_downsample_series/35k/35k_fastq/CNA_10xmultiome_1__R2.35k.fastq.gz\t/lustre1/project/stg_00090/scatac_benchmark/fixedcells_downsample_series/35k/35k_fastq/CNA_10xmultiome_1__R3.35k.fastq.gz\n",
      "CNA_10xmultiome_2.35k\tmultiome_revcomp\t/lustre1/project/stg_00090/scatac_benchmark/fixedcells_downsample_series/35k/35k_fastq/CNA_10xmultiome_2__R1.35k.fastq.gz\t/lustre1/project/stg_00090/scatac_benchmark/fixedcells_downsample_series/35k/35k_fastq/CNA_10xmultiome_2__R2.35k.fastq.gz\t/lustre1/project/stg_00090/scatac_benchmark/fixedcells_downsample_series/35k/35k_fastq/CNA_10xmultiome_2__R3.35k.fastq.gz\n",
      "CNA_10xv11_1.35k\tatac\t/lustre1/project/stg_00090/scatac_benchmark/fixedcells_downsample_series/35k/35k_fastq/CNA_10xv11_1__R1.35k.fastq.gz\t/lustre1/project/stg_00090/scatac_benchmark/fixedcells_downsample_series/35k/35k_fastq/CNA_10xv11_1__R2.35k.fastq.gz\t/lustre1/project/stg_00090/scatac_benchmark/fixedcells_downsample_series/35k/35k_fastq/CNA_10xv11_1__R3.35k.fastq.gz\n",
      "CNA_10xv11_2.35k\tatac\t/lustre1/project/stg_00090/scatac_benchmark/fixedcells_downsample_series/35k/35k_fastq/CNA_10xv11_2__R1.35k.fastq.gz\t/lustre1/project/stg_00090/scatac_benchmark/fixedcells_downsample_series/35k/35k_fastq/CNA_10xv11_2__R2.35k.fastq.gz\t/lustre1/project/stg_00090/scatac_benchmark/fixedcells_downsample_series/35k/35k_fastq/CNA_10xv11_2__R3.35k.fastq.gz\n",
      "CNA_10xv11_3.35k\tatac_revcomp\t/lustre1/project/stg_00090/scatac_benchmark/fixedcells_downsample_series/35k/35k_fastq/CNA_10xv11_3__R1.35k.fastq.gz\t/lustre1/project/stg_00090/scatac_benchmark/fixedcells_downsample_series/35k/35k_fastq/CNA_10xv11_3__R2.35k.fastq.gz\t/lustre1/project/stg_00090/scatac_benchmark/fixedcells_downsample_series/35k/35k_fastq/CNA_10xv11_3__R3.35k.fastq.gz\n",
      "CNA_10xv11_4.35k\tatac_revcomp\t/lustre1/project/stg_00090/scatac_benchmark/fixedcells_downsample_series/35k/35k_fastq/CNA_10xv11_4__R1.35k.fastq.gz\t/lustre1/project/stg_00090/scatac_benchmark/fixedcells_downsample_series/35k/35k_fastq/CNA_10xv11_4__R2.35k.fastq.gz\t/lustre1/project/stg_00090/scatac_benchmark/fixedcells_downsample_series/35k/35k_fastq/CNA_10xv11_4__R3.35k.fastq.gz\n",
      "CNA_10xv11_5.35k\tatac_revcomp\t/lustre1/project/stg_00090/scatac_benchmark/fixedcells_downsample_series/35k/35k_fastq/CNA_10xv11_5__R1.35k.fastq.gz\t/lustre1/project/stg_00090/scatac_benchmark/fixedcells_downsample_series/35k/35k_fastq/CNA_10xv11_5__R2.35k.fastq.gz\t/lustre1/project/stg_00090/scatac_benchmark/fixedcells_downsample_series/35k/35k_fastq/CNA_10xv11_5__R3.35k.fastq.gz\n",
      "CNA_10xv2_1.35k\tatac_revcomp\t/lustre1/project/stg_00090/scatac_benchmark/fixedcells_downsample_series/35k/35k_fastq/CNA_10xv2_1__R1.35k.fastq.gz\t/lustre1/project/stg_00090/scatac_benchmark/fixedcells_downsample_series/35k/35k_fastq/CNA_10xv2_1__R2.35k.fastq.gz\t/lustre1/project/stg_00090/scatac_benchmark/fixedcells_downsample_series/35k/35k_fastq/CNA_10xv2_1__R3.35k.fastq.gz\n",
      "CNA_10xv2_2.35k\tatac_revcomp\t/lustre1/project/stg_00090/scatac_benchmark/fixedcells_downsample_series/35k/35k_fastq/CNA_10xv2_2__R1.35k.fastq.gz\t/lustre1/project/stg_00090/scatac_benchmark/fixedcells_downsample_series/35k/35k_fastq/CNA_10xv2_2__R2.35k.fastq.gz\t/lustre1/project/stg_00090/scatac_benchmark/fixedcells_downsample_series/35k/35k_fastq/CNA_10xv2_2__R3.35k.fastq.gz\n",
      "CNA_hydrop_1.35k\thydrop_2x384\t/lustre1/project/stg_00090/scatac_benchmark/fixedcells_downsample_series/35k/35k_fastq/CNA_hydrop_1__R1.35k.fastq.gz\t/lustre1/project/stg_00090/scatac_benchmark/fixedcells_downsample_series/35k/35k_fastq/CNA_hydrop_1__R2.35k.fastq.gz\t/lustre1/project/stg_00090/scatac_benchmark/fixedcells_downsample_series/35k/35k_fastq/CNA_hydrop_1__R3.35k.fastq.gz\n",
      "CNA_hydrop_2.35k\thydrop_2x384\t/lustre1/project/stg_00090/scatac_benchmark/fixedcells_downsample_series/35k/35k_fastq/CNA_hydrop_2__R1.35k.fastq.gz\t/lustre1/project/stg_00090/scatac_benchmark/fixedcells_downsample_series/35k/35k_fastq/CNA_hydrop_2__R2.35k.fastq.gz\t/lustre1/project/stg_00090/scatac_benchmark/fixedcells_downsample_series/35k/35k_fastq/CNA_hydrop_2__R3.35k.fastq.gz\n",
      "CNA_hydrop_3.35k\thydrop_2x384\t/lustre1/project/stg_00090/scatac_benchmark/fixedcells_downsample_series/35k/35k_fastq/CNA_hydrop_3__R1.35k.fastq.gz\t/lustre1/project/stg_00090/scatac_benchmark/fixedcells_downsample_series/35k/35k_fastq/CNA_hydrop_3__R2.35k.fastq.gz\t/lustre1/project/stg_00090/scatac_benchmark/fixedcells_downsample_series/35k/35k_fastq/CNA_hydrop_3__R3.35k.fastq.gz\n",
      "CNA_mtscatac_1.35k\tatac_revcomp\t/lustre1/project/stg_00090/scatac_benchmark/fixedcells_downsample_series/35k/35k_fastq/CNA_mtscatac_1__R1.35k.fastq.gz\t/lustre1/project/stg_00090/scatac_benchmark/fixedcells_downsample_series/35k/35k_fastq/CNA_mtscatac_1__R2.35k.fastq.gz\t/lustre1/project/stg_00090/scatac_benchmark/fixedcells_downsample_series/35k/35k_fastq/CNA_mtscatac_1__R3.35k.fastq.gz\n",
      "CNA_mtscatac_2.35k\tatac_revcomp\t/lustre1/project/stg_00090/scatac_benchmark/fixedcells_downsample_series/35k/35k_fastq/CNA_mtscatac_2__R1.35k.fastq.gz\t/lustre1/project/stg_00090/scatac_benchmark/fixedcells_downsample_series/35k/35k_fastq/CNA_mtscatac_2__R2.35k.fastq.gz\t/lustre1/project/stg_00090/scatac_benchmark/fixedcells_downsample_series/35k/35k_fastq/CNA_mtscatac_2__R3.35k.fastq.gz\n",
      "EPF_hydrop_1.35k\thydrop_2x384\t/lustre1/project/stg_00090/scatac_benchmark/fixedcells_downsample_series/35k/35k_fastq/EPF_hydrop_1__R1.35k.fastq.gz\t/lustre1/project/stg_00090/scatac_benchmark/fixedcells_downsample_series/35k/35k_fastq/EPF_hydrop_1__R2.35k.fastq.gz\t/lustre1/project/stg_00090/scatac_benchmark/fixedcells_downsample_series/35k/35k_fastq/EPF_hydrop_1__R3.35k.fastq.gz\n",
      "EPF_hydrop_2.35k\thydrop_2x384\t/lustre1/project/stg_00090/scatac_benchmark/fixedcells_downsample_series/35k/35k_fastq/EPF_hydrop_2__R1.35k.fastq.gz\t/lustre1/project/stg_00090/scatac_benchmark/fixedcells_downsample_series/35k/35k_fastq/EPF_hydrop_2__R2.35k.fastq.gz\t/lustre1/project/stg_00090/scatac_benchmark/fixedcells_downsample_series/35k/35k_fastq/EPF_hydrop_2__R3.35k.fastq.gz\n",
      "EPF_hydrop_3.35k\thydrop_2x384\t/lustre1/project/stg_00090/scatac_benchmark/fixedcells_downsample_series/35k/35k_fastq/EPF_hydrop_3__R1.35k.fastq.gz\t/lustre1/project/stg_00090/scatac_benchmark/fixedcells_downsample_series/35k/35k_fastq/EPF_hydrop_3__R2.35k.fastq.gz\t/lustre1/project/stg_00090/scatac_benchmark/fixedcells_downsample_series/35k/35k_fastq/EPF_hydrop_3__R3.35k.fastq.gz\n",
      "EPF_hydrop_4.35k\thydrop_2x384\t/lustre1/project/stg_00090/scatac_benchmark/fixedcells_downsample_series/35k/35k_fastq/EPF_hydrop_4__R1.35k.fastq.gz\t/lustre1/project/stg_00090/scatac_benchmark/fixedcells_downsample_series/35k/35k_fastq/EPF_hydrop_4__R2.35k.fastq.gz\t/lustre1/project/stg_00090/scatac_benchmark/fixedcells_downsample_series/35k/35k_fastq/EPF_hydrop_4__R3.35k.fastq.gz\n",
      "HAR_ddseq_1.35k\tbiorad\t/lustre1/project/stg_00090/scatac_benchmark/fixedcells_downsample_series/35k/35k_fastq/HAR_ddseq_1__R1.35k.fastq.gz\t\t/lustre1/project/stg_00090/scatac_benchmark/fixedcells_downsample_series/35k/35k_fastq/HAR_ddseq_1__R2.35k.fastq.gz\n",
      "HAR_ddseq_2.35k\tbiorad\t/lustre1/project/stg_00090/scatac_benchmark/fixedcells_downsample_series/35k/35k_fastq/HAR_ddseq_2__R1.35k.fastq.gz\t\t/lustre1/project/stg_00090/scatac_benchmark/fixedcells_downsample_series/35k/35k_fastq/HAR_ddseq_2__R2.35k.fastq.gz\n",
      "MDC_mtscatac_1.35k\tatac_revcomp\t/lustre1/project/stg_00090/scatac_benchmark/fixedcells_downsample_series/35k/35k_fastq/MDC_mtscatac_1__R1.35k.fastq.gz\t/lustre1/project/stg_00090/scatac_benchmark/fixedcells_downsample_series/35k/35k_fastq/MDC_mtscatac_1__R2.35k.fastq.gz\t/lustre1/project/stg_00090/scatac_benchmark/fixedcells_downsample_series/35k/35k_fastq/MDC_mtscatac_1__R3.35k.fastq.gz\n",
      "MDC_mtscatac_2.35k\tatac_revcomp\t/lustre1/project/stg_00090/scatac_benchmark/fixedcells_downsample_series/35k/35k_fastq/MDC_mtscatac_2__R1.35k.fastq.gz\t/lustre1/project/stg_00090/scatac_benchmark/fixedcells_downsample_series/35k/35k_fastq/MDC_mtscatac_2__R2.35k.fastq.gz\t/lustre1/project/stg_00090/scatac_benchmark/fixedcells_downsample_series/35k/35k_fastq/MDC_mtscatac_2__R3.35k.fastq.gz\n",
      "SAN_10xmultiome_1.35k\tmultiome\t/lustre1/project/stg_00090/scatac_benchmark/fixedcells_downsample_series/35k/35k_fastq/SAN_10xmultiome_1__R1.35k.fastq.gz\t/lustre1/project/stg_00090/scatac_benchmark/fixedcells_downsample_series/35k/35k_fastq/SAN_10xmultiome_1__R2.35k.fastq.gz\t/lustre1/project/stg_00090/scatac_benchmark/fixedcells_downsample_series/35k/35k_fastq/SAN_10xmultiome_1__R3.35k.fastq.gz\n",
      "SAN_10xmultiome_2.35k\tmultiome\t/lustre1/project/stg_00090/scatac_benchmark/fixedcells_downsample_series/35k/35k_fastq/SAN_10xmultiome_2__R1.35k.fastq.gz\t/lustre1/project/stg_00090/scatac_benchmark/fixedcells_downsample_series/35k/35k_fastq/SAN_10xmultiome_2__R2.35k.fastq.gz\t/lustre1/project/stg_00090/scatac_benchmark/fixedcells_downsample_series/35k/35k_fastq/SAN_10xmultiome_2__R3.35k.fastq.gz\n",
      "STA_10xv11_1.35k\tatac_revcomp\t/lustre1/project/stg_00090/scatac_benchmark/fixedcells_downsample_series/35k/35k_fastq/STA_10xv11_1__R1.35k.fastq.gz\t/lustre1/project/stg_00090/scatac_benchmark/fixedcells_downsample_series/35k/35k_fastq/STA_10xv11_1__R2.35k.fastq.gz\t/lustre1/project/stg_00090/scatac_benchmark/fixedcells_downsample_series/35k/35k_fastq/STA_10xv11_1__R3.35k.fastq.gz\n",
      "STA_10xv11_2.35k\tatac_revcomp\t/lustre1/project/stg_00090/scatac_benchmark/fixedcells_downsample_series/35k/35k_fastq/STA_10xv11_2__R1.35k.fastq.gz\t/lustre1/project/stg_00090/scatac_benchmark/fixedcells_downsample_series/35k/35k_fastq/STA_10xv11_2__R2.35k.fastq.gz\t/lustre1/project/stg_00090/scatac_benchmark/fixedcells_downsample_series/35k/35k_fastq/STA_10xv11_2__R3.35k.fastq.gz\n",
      "TXG_10xv11_1.35k\tatac_revcomp\t/lustre1/project/stg_00090/scatac_benchmark/fixedcells_downsample_series/35k/35k_fastq/TXG_10xv11_1__R1.35k.fastq.gz\t/lustre1/project/stg_00090/scatac_benchmark/fixedcells_downsample_series/35k/35k_fastq/TXG_10xv11_1__R2.35k.fastq.gz\t/lustre1/project/stg_00090/scatac_benchmark/fixedcells_downsample_series/35k/35k_fastq/TXG_10xv11_1__R3.35k.fastq.gz\n",
      "TXG_10xv2_1.35k\tatac_revcomp\t/lustre1/project/stg_00090/scatac_benchmark/fixedcells_downsample_series/35k/35k_fastq/TXG_10xv2_1__R1.35k.fastq.gz\t/lustre1/project/stg_00090/scatac_benchmark/fixedcells_downsample_series/35k/35k_fastq/TXG_10xv2_1__R2.35k.fastq.gz\t/lustre1/project/stg_00090/scatac_benchmark/fixedcells_downsample_series/35k/35k_fastq/TXG_10xv2_1__R3.35k.fastq.gz\n",
      "TXG_10xv2_2.35k\tatac_revcomp\t/lustre1/project/stg_00090/scatac_benchmark/fixedcells_downsample_series/35k/35k_fastq/TXG_10xv2_2__R1.35k.fastq.gz\t/lustre1/project/stg_00090/scatac_benchmark/fixedcells_downsample_series/35k/35k_fastq/TXG_10xv2_2__R2.35k.fastq.gz\t/lustre1/project/stg_00090/scatac_benchmark/fixedcells_downsample_series/35k/35k_fastq/TXG_10xv2_2__R3.35k.fastq.gz\n",
      "UCS_ddseq_1.35k\tbiorad\t/lustre1/project/stg_00090/scatac_benchmark/fixedcells_downsample_series/35k/35k_fastq/UCS_ddseq_1__R1.35k.fastq.gz\t\t/lustre1/project/stg_00090/scatac_benchmark/fixedcells_downsample_series/35k/35k_fastq/UCS_ddseq_1__R2.35k.fastq.gz\n",
      "UCS_ddseq_2.35k\tbiorad\t/lustre1/project/stg_00090/scatac_benchmark/fixedcells_downsample_series/35k/35k_fastq/UCS_ddseq_2__R1.35k.fastq.gz\t\t/lustre1/project/stg_00090/scatac_benchmark/fixedcells_downsample_series/35k/35k_fastq/UCS_ddseq_2__R2.35k.fastq.gz\n",
      "VIB_10xmultiome_1.35k\tmultiome_revcomp\t/lustre1/project/stg_00090/scatac_benchmark/fixedcells_downsample_series/35k/35k_fastq/VIB_10xmultiome_1__R1.35k.fastq.gz\t/lustre1/project/stg_00090/scatac_benchmark/fixedcells_downsample_series/35k/35k_fastq/VIB_10xmultiome_1__R2.35k.fastq.gz\t/lustre1/project/stg_00090/scatac_benchmark/fixedcells_downsample_series/35k/35k_fastq/VIB_10xmultiome_1__R3.35k.fastq.gz\n",
      "VIB_10xmultiome_2.35k\tmultiome_revcomp\t/lustre1/project/stg_00090/scatac_benchmark/fixedcells_downsample_series/35k/35k_fastq/VIB_10xmultiome_2__R1.35k.fastq.gz\t/lustre1/project/stg_00090/scatac_benchmark/fixedcells_downsample_series/35k/35k_fastq/VIB_10xmultiome_2__R2.35k.fastq.gz\t/lustre1/project/stg_00090/scatac_benchmark/fixedcells_downsample_series/35k/35k_fastq/VIB_10xmultiome_2__R3.35k.fastq.gz\n",
      "VIB_10xv1_1.35k\tatac\t/lustre1/project/stg_00090/scatac_benchmark/fixedcells_downsample_series/35k/35k_fastq/VIB_10xv1_1__R1.35k.fastq.gz\t/lustre1/project/stg_00090/scatac_benchmark/fixedcells_downsample_series/35k/35k_fastq/VIB_10xv1_1__R2.35k.fastq.gz\t/lustre1/project/stg_00090/scatac_benchmark/fixedcells_downsample_series/35k/35k_fastq/VIB_10xv1_1__R3.35k.fastq.gz\n",
      "VIB_10xv1_2.35k\tatac\t/lustre1/project/stg_00090/scatac_benchmark/fixedcells_downsample_series/35k/35k_fastq/VIB_10xv1_2__R1.35k.fastq.gz\t/lustre1/project/stg_00090/scatac_benchmark/fixedcells_downsample_series/35k/35k_fastq/VIB_10xv1_2__R2.35k.fastq.gz\t/lustre1/project/stg_00090/scatac_benchmark/fixedcells_downsample_series/35k/35k_fastq/VIB_10xv1_2__R3.35k.fastq.gz\n",
      "VIB_10xv2_1.35k\tatac_revcomp\t/lustre1/project/stg_00090/scatac_benchmark/fixedcells_downsample_series/35k/35k_fastq/VIB_10xv2_1__R1.35k.fastq.gz\t/lustre1/project/stg_00090/scatac_benchmark/fixedcells_downsample_series/35k/35k_fastq/VIB_10xv2_1__R2.35k.fastq.gz\t/lustre1/project/stg_00090/scatac_benchmark/fixedcells_downsample_series/35k/35k_fastq/VIB_10xv2_1__R3.35k.fastq.gz\n",
      "VIB_10xv2_2.35k\tatac_revcomp\t/lustre1/project/stg_00090/scatac_benchmark/fixedcells_downsample_series/35k/35k_fastq/VIB_10xv2_2__R1.35k.fastq.gz\t/lustre1/project/stg_00090/scatac_benchmark/fixedcells_downsample_series/35k/35k_fastq/VIB_10xv2_2__R2.35k.fastq.gz\t/lustre1/project/stg_00090/scatac_benchmark/fixedcells_downsample_series/35k/35k_fastq/VIB_10xv2_2__R3.35k.fastq.gz\n",
      "VIB_hydrop_11.35k\thydrop_2x384\t/lustre1/project/stg_00090/scatac_benchmark/fixedcells_downsample_series/35k/35k_fastq/VIB_hydrop_11__R1.35k.fastq.gz\t/lustre1/project/stg_00090/scatac_benchmark/fixedcells_downsample_series/35k/35k_fastq/VIB_hydrop_11__R2.35k.fastq.gz\t/lustre1/project/stg_00090/scatac_benchmark/fixedcells_downsample_series/35k/35k_fastq/VIB_hydrop_11__R3.35k.fastq.gz\n",
      "VIB_hydrop_12.35k\thydrop_2x384\t/lustre1/project/stg_00090/scatac_benchmark/fixedcells_downsample_series/35k/35k_fastq/VIB_hydrop_12__R1.35k.fastq.gz\t/lustre1/project/stg_00090/scatac_benchmark/fixedcells_downsample_series/35k/35k_fastq/VIB_hydrop_12__R2.35k.fastq.gz\t/lustre1/project/stg_00090/scatac_benchmark/fixedcells_downsample_series/35k/35k_fastq/VIB_hydrop_12__R3.35k.fastq.gz\n",
      "VIB_hydrop_21.35k\thydrop_2x384\t/lustre1/project/stg_00090/scatac_benchmark/fixedcells_downsample_series/35k/35k_fastq/VIB_hydrop_21__R1.35k.fastq.gz\t/lustre1/project/stg_00090/scatac_benchmark/fixedcells_downsample_series/35k/35k_fastq/VIB_hydrop_21__R2.35k.fastq.gz\t/lustre1/project/stg_00090/scatac_benchmark/fixedcells_downsample_series/35k/35k_fastq/VIB_hydrop_21__R3.35k.fastq.gz\n",
      "VIB_hydrop_22.35k\thydrop_2x384\t/lustre1/project/stg_00090/scatac_benchmark/fixedcells_downsample_series/35k/35k_fastq/VIB_hydrop_22__R1.35k.fastq.gz\t/lustre1/project/stg_00090/scatac_benchmark/fixedcells_downsample_series/35k/35k_fastq/VIB_hydrop_22__R2.35k.fastq.gz\t/lustre1/project/stg_00090/scatac_benchmark/fixedcells_downsample_series/35k/35k_fastq/VIB_hydrop_22__R3.35k.fastq.gz\n",
      "OHS_s3atac_1.35k\tOHS_s3atac_1\t/lustre1/project/stg_00090/scatac_benchmark/fixedcells_downsample_series/35k/35k_fastq/OHS_s3atac_1__R1.35k.fastq.gz\t/lustre1/project/stg_00090/scatac_benchmark/fixedcells_downsample_series/35k/35k_fastq/OHS_s3atac_1__R2.35k.fastq.gz\t/lustre1/project/stg_00090/scatac_benchmark/fixedcells_downsample_series/35k/35k_fastq/OHS_s3atac_1__R3.35k.fastq.gz\n",
      "OHS_s3atac_2.35k\tOHS_s3atac_2\t/lustre1/project/stg_00090/scatac_benchmark/fixedcells_downsample_series/35k/35k_fastq/OHS_s3atac_2__R1.35k.fastq.gz\t/lustre1/project/stg_00090/scatac_benchmark/fixedcells_downsample_series/35k/35k_fastq/OHS_s3atac_2__R2.35k.fastq.gz\t/lustre1/project/stg_00090/scatac_benchmark/fixedcells_downsample_series/35k/35k_fastq/OHS_s3atac_2__R3.35k.fastq.gz\n"
     ]
    }
   ],
   "source": [
    "!cat metadata.35k.tsv"
   ]
  }
 ],
 "metadata": {
  "kernelspec": {
   "display_name": "20220628_pycistopic.sif",
   "language": "python",
   "name": "cistopic_20220628"
  },
  "language_info": {
   "codemirror_mode": {
    "name": "ipython",
    "version": 3
   },
   "file_extension": ".py",
   "mimetype": "text/x-python",
   "name": "python",
   "nbconvert_exporter": "python",
   "pygments_lexer": "ipython3",
   "version": "3.8.13"
  }
 },
 "nbformat": 4,
 "nbformat_minor": 5
}

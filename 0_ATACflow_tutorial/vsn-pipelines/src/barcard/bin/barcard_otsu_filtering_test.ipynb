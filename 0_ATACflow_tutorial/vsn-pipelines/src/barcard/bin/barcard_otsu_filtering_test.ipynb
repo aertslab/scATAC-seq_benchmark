{
 "cells": [
  {
   "cell_type": "code",
   "execution_count": null,
   "id": "7be3b9b5-12dc-4ed5-a80c-bdb8a80facf6",
   "metadata": {},
   "outputs": [],
   "source": []
  }
 ],
 "metadata": {
  "kernelspec": {
   "display_name": "20220609_pycistopic.sif",
   "language": "python",
   "name": "20220609_pycistopic"
  },
  "language_info": {
   "codemirror_mode": {
    "name": "ipython",
    "version": 3
   },
   "file_extension": ".py",
   "mimetype": "text/x-python",
   "name": "python",
   "nbconvert_exporter": "python",
   "pygments_lexer": "ipython3",
   "version": "3.8.13"
  }
 },
 "nbformat": 4,
 "nbformat_minor": 5
}

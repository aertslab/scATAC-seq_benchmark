{
 "cells": [
  {
   "cell_type": "markdown",
   "metadata": {},
   "source": [
    "# Single-Cell Report: Filtering and QC"
   ]
  },
  {
   "cell_type": "code",
   "execution_count": null,
   "metadata": {},
   "outputs": [],
   "source": [
    "import os\n",
    "print(\"Files in use:\")\n",
    "print(f\"FILE1='{os.path.abspath(FILE1)}'\")\n",
    "print(f\"FILE2='{os.path.abspath(FILE2)}'\")"
   ]
  },
  {
   "cell_type": "code",
   "execution_count": null,
   "metadata": {},
   "outputs": [],
   "source": [
    "# Import packages\n",
    "import scanpy as sc\n",
    "import seaborn as sns\n",
    "import matplotlib.pyplot as plt\n",
    "import numpy as np\n",
    "import warnings\n",
    "import pandas as pd\n",
    "from collections import Counter"
   ]
  },
  {
   "cell_type": "markdown",
   "metadata": {},
   "source": [
    "#### Plotting settings and functions"
   ]
  },
  {
   "cell_type": "code",
   "execution_count": null,
   "metadata": {},
   "outputs": [],
   "source": [
    "# plot settings\n",
    "sc.set_figure_params(dpi=150, fontsize=10, dpi_save=600)\n",
    "hist_dims = (10,3)"
   ]
  },
  {
   "cell_type": "code",
   "execution_count": null,
   "metadata": {},
   "outputs": [],
   "source": [
    "def plotSummaryHist(adata, nCellsPerGene, figsize=(10,3), draw_thresholds=False, log_x=[False]*4, log_y=[False]*4):\n",
    "    fig, (ax1, ax2, ax3, ax4) = plt.subplots(1, 4, figsize=figsize, dpi=150, sharey=False)\n",
    "\n",
    "    sns.distplot( adata.obs['n_genes'], ax=ax1, norm_hist=True, bins='fd')\n",
    "    ax1.title.set_text('Genes expressed per cell')\n",
    "\n",
    "    sns.distplot( adata.obs['n_counts'], ax=ax2, norm_hist=True, bins='fd')\n",
    "    ax2.title.set_text('Counts per cell')\n",
    "\n",
    "    if 'percent_mito' in adata.obs.keys():\n",
    "        sns.distplot( adata.obs['percent_mito'], ax=ax3, norm_hist=True, bins='fd')\n",
    "        ax3.title.set_text('Mitochondrial read fraction per cell')\n",
    "        if(draw_thresholds and not adata.uns['sc']['scanpy']['filter']['cellFilterMaxPercentMito'] == -1):\n",
    "            ax3.axvline(x=adata.uns['sc']['scanpy']['filter']['cellFilterMaxPercentMito'], ymin=0,ymax=1, color='red')\n",
    "    else:\n",
    "        warnings.warn(\"Percentage of mitochondrial genes expressed in cells not calculated\")\n",
    "        \n",
    "    nc_cnt = Counter(nCellsPerGene)\n",
    "    nc_cnt_df = pd.DataFrame( [list(nc_cnt.keys()), list(nc_cnt.values())] ).T.sort_values(by=0)\n",
    "    ax4.bar(nc_cnt_df[0], nc_cnt_df[1] )\n",
    "    ax4.margins(x=0.01)\n",
    "    ax4.title.set_text('Cells expressing each gene')\n",
    "    \n",
    "    # set axes to log-scale:\n",
    "    for i,ax in enumerate((ax1,ax2,ax3,ax4)):\n",
    "        ax.tick_params(axis='y', which='major', labelsize=8)\n",
    "        if log_x[i]:\n",
    "            ax.set_xscale('log')\n",
    "        if log_y[i]:\n",
    "            ax.set_yscale('log')\n",
    "\n",
    "    if(draw_thresholds):\n",
    "        if not adata.uns['sc']['scanpy']['filter']['cellFilterMinNGenes'] == -1:\n",
    "            ax1.axvline(x=adata.uns['sc']['scanpy']['filter']['cellFilterMinNGenes'], ymin=0,ymax=1, color='red')\n",
    "        if not adata.uns['sc']['scanpy']['filter']['cellFilterMaxNGenes'] == -1:\n",
    "            ax1.axvline(x=adata.uns['sc']['scanpy']['filter']['cellFilterMaxNGenes'], ymin=0,ymax=1, color='red')\n",
    "        if not adata.uns['sc']['scanpy']['filter']['cellFilterMinNCounts'] == -1:\n",
    "            ax2.axvline(x=adata.uns['sc']['scanpy']['filter']['cellFilterMinNCounts'], ymin=0,ymax=1, color='red')\n",
    "        if not adata.uns['sc']['scanpy']['filter']['cellFilterMaxNCounts'] == -1:\n",
    "            ax2.axvline(x=adata.uns['sc']['scanpy']['filter']['cellFilterMaxNCounts'], ymin=0,ymax=1, color='red')\n",
    "        if not adata.uns['sc']['scanpy']['filter']['geneFilterMinNCells'] == -1:\n",
    "            ax4.axvline(x=adata.uns['sc']['scanpy']['filter']['geneFilterMinNCells']-0.5, ymin=0,ymax=1, color='red')\n",
    "\n",
    "    \n",
    "    fig.text(0.00, 0.5, 'Frequency', ha='center', va='center', rotation='vertical', size='x-large')\n",
    "    fig.tight_layout()"
   ]
  },
  {
   "cell_type": "code",
   "execution_count": null,
   "metadata": {},
   "outputs": [],
   "source": [
    "def plotSingleDiagnosticHist(x, nbins='fd', filter_thr=None, xlab=\"\", log_x=False, log_y=False, kde=True):\n",
    "    \n",
    "    fig, ax = plt.subplots(1, 1, figsize=hist_dims, dpi=150)\n",
    "    \n",
    "    sns.distplot(x, ax=ax, norm_hist=True, kde=kde, bins=nbins)\n",
    "    ax.set_xlabel(\"\")    \n",
    "            \n",
    "    ax.margins(x=0.01)\n",
    "    if type(filter_thr)==list:\n",
    "        if filter_thr[1] > ax.get_xlim()[1]:\n",
    "            ax.set_xlim(right=filter_thr[1])\n",
    "        if filter_thr[0] < ax.get_xlim()[0]:\n",
    "            ax.set_xlim(left=filter_thr[0])        \n",
    "        for i,x in enumerate(filter_thr):\n",
    "            if not x == -1:\n",
    "                ax.axvline(x=x, ymin=0,ymax=1, color='red')\n",
    "    elif filter_thr != -1:\n",
    "        ax.axvline(x=filter_thr, ymin=0,ymax=1, color='red')\n",
    "    \n",
    "    if log_x:\n",
    "        ax.set_xscale('log')\n",
    "    if log_y:\n",
    "        ax.set_yscale('log')\n",
    "    \n",
    "    fig.text(0.00, 0.5, 'Frequency', ha='center', va='center', rotation='vertical', size='x-large')\n",
    "    fig.text(0.5, 0.0, xlab, ha='center', va='center', size='x-large')\n",
    "    \n",
    "    fig.tight_layout()"
   ]
  },
  {
   "cell_type": "code",
   "execution_count": null,
   "metadata": {},
   "outputs": [],
   "source": [
    "def plotSingleDiagnosticBar(x, filter_thr=None, xlab=\"\", log_x=False, log_y=False):\n",
    "\n",
    "    fig, ax = plt.subplots(1, 1, figsize=hist_dims, dpi=150)\n",
    "\n",
    "    nc_cnt = Counter(x+0.1)\n",
    "    nc_cnt_df = pd.DataFrame( [list(nc_cnt.keys()), list(nc_cnt.values())] ).T.sort_values(by=0)\n",
    "    ax.bar(nc_cnt_df[0], nc_cnt_df[1])\n",
    "    ax.set_xlabel(\"\")\n",
    "\n",
    "    #nc_cnt_df_sub = nc_cnt_df[ nc_cnt_df[0]<20 ]\n",
    "    #for i,r in nc_cnt_df_sub.iterrows():\n",
    "    #    plt.text(r[0], r[1], r[0], fontsize='small', ha='center') # display the x value on each bar\n",
    "\n",
    "    ax.margins(x=0.01)\n",
    "    if filter_thr != -1:\n",
    "        ax.axvline(x=filter_thr, ymin=0,ymax=1, color='red')\n",
    "    \n",
    "    if log_x:\n",
    "        ax.set_xscale('log')\n",
    "    if log_y:\n",
    "        ax.set_yscale('log')\n",
    "\n",
    "    fig.text(0.00, 0.5, 'Frequency', ha='center', va='center', rotation='vertical', size='x-large')\n",
    "    fig.text(0.5, 0.0, xlab, ha='center', va='center', size='x-large')\n",
    "    \n",
    "    fig.tight_layout()"
   ]
  },
  {
   "cell_type": "markdown",
   "metadata": {},
   "source": [
    "## Read Data\n",
    "\n",
    "We read in the data pre-filtered, and post-filtered, with the filtering parameters specified in the nextflow config file applied."
   ]
  },
  {
   "cell_type": "code",
   "execution_count": null,
   "metadata": {},
   "outputs": [],
   "source": [
    "adata_pre = sc.read_h5ad(filename=FILE1)\n",
    "adata_post = sc.read_h5ad(filename=FILE2)"
   ]
  },
  {
   "cell_type": "code",
   "execution_count": null,
   "metadata": {},
   "outputs": [],
   "source": [
    "sum(np.isnan(adata_pre.obs[\"percent_mito\"]))"
   ]
  },
  {
   "cell_type": "code",
   "execution_count": null,
   "metadata": {},
   "outputs": [],
   "source": [
    "adata_pre.obs = adata_pre.obs.fillna(\n",
    "    value={\n",
    "        \"percent_mito\":0\n",
    "    }\n",
    ")"
   ]
  },
  {
   "cell_type": "markdown",
   "metadata": {},
   "source": [
    "---\n",
    "# Prefilter diagnostics"
   ]
  },
  {
   "cell_type": "markdown",
   "metadata": {},
   "source": [
    "#### Basic Gene-Level Summary Statistics"
   ]
  },
  {
   "cell_type": "code",
   "execution_count": null,
   "metadata": {},
   "outputs": [],
   "source": [
    "n_counts_per_gene = np.sum(adata_pre.X, axis=0)\n",
    "n_cells_per_gene = np.sum(adata_pre.X>0, axis=0)\n",
    "print(\"Number of counts (in the dataset units) per gene:\", n_counts_per_gene.min(), \" - \" ,n_counts_per_gene.max())\n",
    "print(\"Number of cells in which each gene is detected:\", n_cells_per_gene.min(), \" - \" ,n_cells_per_gene.max())\n",
    "nCellsPerGene_pre = pd.Series( n_cells_per_gene.tolist()[0], index=adata_pre.var_names )"
   ]
  },
  {
   "cell_type": "markdown",
   "metadata": {},
   "source": [
    "## Diagnostic Plots (pre-filtering)"
   ]
  },
  {
   "cell_type": "markdown",
   "metadata": {},
   "source": [
    "#### Highly expressed genes\n",
    "\n",
    "Show the genes with the highest fraction of counts assigned to that gene over all the cells."
   ]
  },
  {
   "cell_type": "code",
   "execution_count": null,
   "metadata": {},
   "outputs": [],
   "source": [
    "sc.pl.highest_expr_genes(adata_pre, n_top=20)"
   ]
  },
  {
   "cell_type": "markdown",
   "metadata": {},
   "source": [
    "#### Summary histograms showing the distributions of number of genes, number of counts, and fraction of mitochondrial genes\n",
    "\n",
    "Please note that the histogram for the number of cells expressing each gene has a log-scale for both the x- and y-axis."
   ]
  },
  {
   "cell_type": "code",
   "execution_count": null,
   "metadata": {},
   "outputs": [],
   "source": [
    "plotSummaryHist(adata_pre, nCellsPerGene_pre, \n",
    "                draw_thresholds=True,\n",
    "                log_x=[False]*3+[True],\n",
    "                log_y=[False]*3+[True])"
   ]
  },
  {
   "cell_type": "markdown",
   "metadata": {},
   "source": [
    "#### Summary violin plots showing the distributions of number of genes, number of counts, and fraction of mitochondrial genes"
   ]
  },
  {
   "cell_type": "code",
   "execution_count": null,
   "metadata": {},
   "outputs": [],
   "source": [
    "metrics = ['n_genes', 'n_counts', 'percent_mito']\n",
    "sc.pl.violin(adata_pre, np.array(metrics)[np.isin(metrics,adata_pre.obs.keys())],\n",
    "    jitter=0.4, multi_panel=True )"
   ]
  },
  {
   "cell_type": "markdown",
   "metadata": {},
   "source": [
    "#### Scatter plot showing the number of genes vs number of counts, colored by mitochondrial read fraction"
   ]
  },
  {
   "cell_type": "code",
   "execution_count": null,
   "metadata": {},
   "outputs": [],
   "source": [
    "if 'percent_mito' in adata_pre.obs.keys():\n",
    "    sc.pl.scatter(adata_pre, x='n_counts', y='n_genes', color='percent_mito', title=\"Fraction of mitochondrial reads per cell\")\n",
    "else:\n",
    "    sc.pl.scatter(adata_pre, x='n_counts', y='n_genes')\n",
    "    warnings.warn(\"Percentage of mitochondrial genes expressed in cells not calculated\")"
   ]
  },
  {
   "cell_type": "markdown",
   "metadata": {},
   "source": [
    "---\n",
    "## Setting the filters"
   ]
  },
  {
   "cell_type": "code",
   "execution_count": null,
   "metadata": {},
   "outputs": [],
   "source": [
    "print(adata_pre.uns['sc']['scanpy']['filter'])"
   ]
  },
  {
   "cell_type": "markdown",
   "metadata": {},
   "source": [
    "### Filter 1: Number of genes expressed per cell\n",
    "\n",
    "**Cell-level filtering**\n",
    "\n",
    "To determine whether the thresholds are set correctly, it's useful to look at a histogram showing the distribution of the number of genes expressed for each cell. Here, the entire range of the data (equivalent to the summary plot above) is shown on a wide x-axis. The current thresholds are show in red lines (it's possible that one or both thresholds are outside the plot limits; in this case the threshold should likely be raised/lowered to better fit the data)."
   ]
  },
  {
   "cell_type": "code",
   "execution_count": null,
   "metadata": {},
   "outputs": [],
   "source": [
    "thr = [ adata_pre.uns['sc']['scanpy']['filter']['cellFilterMinNGenes'],\n",
    "        adata_pre.uns['sc']['scanpy']['filter']['cellFilterMaxNGenes'] ]\n",
    "plotSingleDiagnosticHist(adata_pre.obs['n_genes'],\n",
    "                         xlab='Number of genes expressed per cell',\n",
    "                         filter_thr=thr)\n",
    "print(\"Number of genes expressed per cell threshold is set to {}-{}\".format(thr[0],thr[1]))\n",
    "print(\"Unfiltered data range is {}-{}.\".format(adata_pre.obs['n_genes'].min(),adata_pre.obs['n_genes'].max() ))"
   ]
  },
  {
   "cell_type": "markdown",
   "metadata": {},
   "source": [
    "### Filter 2: Number of counts expressed per cell\n",
    "\n",
    "**Cell-level filtering**\n",
    "\n",
    "To determine whether the thresholds are set correctly, it's useful to look at a histogram showing the distribution of the number of genes expressed for each cell. Here, the entire range of the data (equivalent to the summary plot above) is shown on a wide x-axis. The current thresholds are show in red lines (it's possible that one or both thresholds are outside the plot limits; in this case the threshold should likely be raised/lowered to better fit the data)."
   ]
  },
  {
   "cell_type": "code",
   "execution_count": null,
   "metadata": {},
   "outputs": [],
   "source": [
    "thr = [ adata_pre.uns['sc']['scanpy']['filter']['cellFilterMinNCounts'],\n",
    "        adata_pre.uns['sc']['scanpy']['filter']['cellFilterMaxNCounts'] ]\n",
    "plotSingleDiagnosticHist(adata_pre.obs['n_counts'],\n",
    "                         xlab='Number of counts expressed per cell',\n",
    "                         filter_thr=thr)\n",
    "print(\"Number of counts expressed per cell threshold is set to {}-{}\".format(thr[0],thr[1]))\n",
    "print(\"Unfiltered data range is {}-{}.\".format(adata_pre.obs['n_counts'].min(),adata_pre.obs['n_counts'].max() ))"
   ]
  },
  {
   "cell_type": "markdown",
   "metadata": {},
   "source": [
    "### Filter 3: Fraction of mitochondrial reads per cell\n",
    "\n",
    "**Cell-level filtering**\n",
    "\n",
    "The same approach is used to examine the fraction of mitochondrial reads per cell. In this case, there is only an upper threshold on mitochondrial read fraction (cells with a mitochondrial read fraction above this threshold will be discarded)."
   ]
  },
  {
   "cell_type": "code",
   "execution_count": null,
   "metadata": {},
   "outputs": [],
   "source": [
    "if 'percent_mito' in adata_pre.obs.keys():\n",
    "    thr = adata_pre.uns['sc']['scanpy']['filter']['cellFilterMaxPercentMito']\n",
    "    plotSingleDiagnosticHist(adata_pre.obs['percent_mito'],\n",
    "                         xlab='Fraction of mitochondrial reads per cell',\n",
    "                         filter_thr=thr)\n",
    "    print(\"Fraction of mitochondrial reads per cell threshold limit is set to {}\".format(thr))\n",
    "    print(\"Unfiltered data range is {}-{}.\".format(adata_pre.obs['percent_mito'].min(),adata_pre.obs['percent_mito'].max() ))\n",
    "else:\n",
    "    warnings.warn(\"Percentage of mitochondrial genes expressed in cells not calculated\")"
   ]
  },
  {
   "cell_type": "markdown",
   "metadata": {},
   "source": [
    "### Filter 4: Number of cells expressing each gene\n",
    "\n",
    "**Gene-level filtering**\n",
    "\n",
    "The final filter is applied on a gene-level: For each gene, we count the number of cells in which it is expressed. The distribution here is usually highly skewed, such that there are a large number of genes expressed in only a few cells (with many expressed in 0 or 1 cells). The threshold here can be conservatively set low: requiring a minimum of **3** cells expressing any given gene is a reasonable start, but this will be highly dependent on the data, particularly the total number of cells in the experiment.\n",
    "\n",
    "The same approach is used as above, with the x and y axes displayed in log scale (this causes the bars at the lower end to be very wide, but this is the region of interest anyway). In this case, there is only an upper threshold on number of cells expressing each gene."
   ]
  },
  {
   "cell_type": "code",
   "execution_count": null,
   "metadata": {},
   "outputs": [],
   "source": [
    "thr = adata_pre.uns['sc']['scanpy']['filter']['geneFilterMinNCells']\n",
    "plotSingleDiagnosticBar(nCellsPerGene_pre,\n",
    "                         xlab='Number of cells expressing each gene',\n",
    "                         filter_thr=thr-0.5, log_x=True, log_y=True)\n",
    "\n",
    "print(\"Keeping genes present in at least {} cells\".format(thr))\n",
    "print(\"Unfiltered data range is {}-{}.\".format(nCellsPerGene_pre.min(),nCellsPerGene_pre.max() ))"
   ]
  },
  {
   "cell_type": "markdown",
   "metadata": {},
   "source": [
    "---\n",
    "## Diagnostic Plots (post-filtering)\n",
    "\n",
    "Here, we show repeat the summary plots shown above, this time showing the data **after filting**."
   ]
  },
  {
   "cell_type": "code",
   "execution_count": null,
   "metadata": {},
   "outputs": [],
   "source": [
    "# re-calculate number of cells per gene for post-filter:\n",
    "nCellsPerGene_post = pd.Series( np.sum(adata_post.X>0, axis=0).tolist()[0], index=adata_post.var_names )"
   ]
  },
  {
   "cell_type": "code",
   "execution_count": null,
   "metadata": {},
   "outputs": [],
   "source": [
    "plotSummaryHist(adata_post, nCellsPerGene_post,\n",
    "                draw_thresholds=False,\n",
    "                log_x=[False]*3+[True],\n",
    "                log_y=[False]*3+[True])"
   ]
  },
  {
   "cell_type": "markdown",
   "metadata": {},
   "source": [
    "#### Violin plots of number of genes, number of counts, and percent of mitochondrial genes"
   ]
  },
  {
   "cell_type": "code",
   "execution_count": null,
   "metadata": {},
   "outputs": [],
   "source": [
    "metrics = ['n_genes', 'n_counts', 'percent_mito']\n",
    "sc.pl.violin(adata_post, np.array(['n_genes', 'n_counts', 'percent_mito'])[np.isin(metrics,adata_post.obs.keys())],\n",
    "    jitter=0.4, multi_panel=True )"
   ]
  },
  {
   "cell_type": "markdown",
   "metadata": {},
   "source": [
    "#### Scatter plot number of genes vs number of counts"
   ]
  },
  {
   "cell_type": "code",
   "execution_count": null,
   "metadata": {},
   "outputs": [],
   "source": [
    "if 'percent_mito' in adata_post.obs.keys():\n",
    "    sc.pl.scatter(adata_post, x='n_counts', y='n_genes', color='percent_mito', title=\"Fraction of mitochondrial reads per cell\")\n",
    "else:\n",
    "    sc.pl.scatter(adata_post, x='n_counts', y='n_genes')\n",
    "    warnings.warn(\"Percentage of mitochondrial genes expressed in cells not calculated\")"
   ]
  },
  {
   "cell_type": "markdown",
   "metadata": {},
   "source": [
    "---\n",
    "## Summary"
   ]
  },
  {
   "cell_type": "code",
   "execution_count": null,
   "metadata": {},
   "outputs": [],
   "source": [
    "print(f\"Pre-filtered data: {FILE1}\\n\\t{adata_pre._n_obs} cells\\n\\t{adata_pre._n_vars} genes\")\n",
    "#\n",
    "print(f\"Filters applied:\\n\\tNumber of genes expressed per cell:\")\n",
    "thr = [ adata_pre.uns['sc']['scanpy']['filter']['cellFilterMinNGenes'], adata_pre.uns['sc']['scanpy']['filter']['cellFilterMaxNGenes'] ]\n",
    "print(\"\\t\\tUnfiltered data range is {}-{}.\".format(adata_pre.obs['n_genes'].min(),adata_pre.obs['n_genes'].max() ))\n",
    "print(\"\\t\\tthreshold is set to {}-{}\".format(thr[0],thr[1]))\n",
    "print(\"\\t\\tFiltered data range is {}-{}.\".format(adata_post.obs['n_genes'].min(),adata_post.obs['n_genes'].max() ))\n",
    "#\n",
    "if 'percent_mito' in adata_pre.obs.keys():\n",
    "    print(f\"\\tFraction of mitochondrial reads per cell:\")\n",
    "    thr = adata_pre.uns['sc']['scanpy']['filter']['cellFilterMaxPercentMito']\n",
    "    print(f\"\\t\\tUnfiltered data range is {adata_pre.obs['percent_mito'].min()}-{adata_pre.obs['percent_mito'].max()}.\")\n",
    "    print(f\"\\t\\tthreshold limit is set to {thr}\")\n",
    "    print(f\"\\t\\tFiltered data range is {adata_post.obs['percent_mito'].min()}-{adata_post.obs['percent_mito'].max()}.\")\n",
    "#\n",
    "print(f\"\\tNumber of cells expressing each gene:\")\n",
    "thr = adata_pre.uns['sc']['scanpy']['filter']['geneFilterMinNCells']\n",
    "print(f\"\\t\\tUnfiltered data range is {nCellsPerGene_pre.min()}-{nCellsPerGene_pre.max()}.\")\n",
    "print(f\"\\t\\tthreshold is set to keep genes present in at least {thr} cells\")\n",
    "print(f\"\\t\\tFiltered data range is {nCellsPerGene_post.min()}-{nCellsPerGene_post.max()}.\")\n",
    "#\n",
    "print(f\"Post-filtered data: {FILE2}\")\n",
    "print(f\"\\t{adata_post._n_obs} cells (removed {adata_pre._n_obs - adata_post._n_obs})\")\n",
    "print(f\"\\t{adata_post._n_vars} genes (removed {adata_pre._n_vars - adata_post._n_vars})\")"
   ]
  },
  {
   "cell_type": "code",
   "execution_count": null,
   "metadata": {},
   "outputs": [],
   "source": []
  },
  {
   "cell_type": "code",
   "execution_count": null,
   "metadata": {},
   "outputs": [],
   "source": []
  }
 ],
 "metadata": {
  "kernelspec": {
   "display_name": "Python 3",
   "language": "python",
   "name": "python3"
  },
  "language_info": {
   "codemirror_mode": {
    "name": "ipython",
    "version": 3
   },
   "file_extension": ".py",
   "mimetype": "text/x-python",
   "name": "python",
   "nbconvert_exporter": "python",
   "pygments_lexer": "ipython3",
   "version": "3.6.8"
  }
 },
 "nbformat": 4,
 "nbformat_minor": 4
}

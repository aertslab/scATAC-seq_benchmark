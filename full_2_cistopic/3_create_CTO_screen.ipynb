{
 "cells": [
  {
   "cell_type": "markdown",
   "id": "e4a764b9",
   "metadata": {
    "papermill": {
     "duration": 0.006766,
     "end_time": "2022-09-14T14:35:46.345585",
     "exception": false,
     "start_time": "2022-09-14T14:35:46.338819",
     "status": "completed"
    },
    "tags": []
   },
   "source": [
    "# pycisTopic analysis\n",
    "\n",
    "Full dataset, using SCREEN regions."
   ]
  },
  {
   "cell_type": "code",
   "execution_count": 25,
   "id": "d49f0865",
   "metadata": {
    "execution": {
     "iopub.execute_input": "2022-09-25T09:02:52.189363Z",
     "iopub.status.busy": "2022-09-25T09:02:52.188587Z",
     "iopub.status.idle": "2022-09-25T09:02:52.201614Z",
     "shell.execute_reply": "2022-09-25T09:02:52.201083Z",
     "shell.execute_reply.started": "2022-09-25T09:02:52.189289Z"
    },
    "papermill": {
     "duration": 3.333958,
     "end_time": "2022-09-14T14:35:49.695938",
     "exception": false,
     "start_time": "2022-09-14T14:35:46.361980",
     "status": "completed"
    },
    "tags": []
   },
   "outputs": [
    {
     "name": "stdout",
     "output_type": "stream",
     "text": [
      "The nb_black extension is already loaded. To reload it, use:\n",
      "  %reload_ext nb_black\n"
     ]
    },
    {
     "data": {
      "application/javascript": [
       "\n",
       "            setTimeout(function() {\n",
       "                var nbb_cell_id = 25;\n",
       "                var nbb_unformatted_code = \"import pycisTopic\\npycisTopic.__version__\\n\\nimport warnings\\nwarnings.filterwarnings('ignore')\\nwarnings.simplefilter('ignore')\\n\\nimport pickle\\nimport pandas as pd\\n\\nimport os\\n\\n\\nimport glob\\nfrom collections import OrderedDict\\n%load_ext nb_black\";\n",
       "                var nbb_formatted_code = \"import pycisTopic\\n\\npycisTopic.__version__\\n\\nimport warnings\\n\\nwarnings.filterwarnings(\\\"ignore\\\")\\nwarnings.simplefilter(\\\"ignore\\\")\\n\\nimport pickle\\nimport pandas as pd\\n\\nimport os\\n\\n\\nimport glob\\nfrom collections import OrderedDict\\n\\n%load_ext nb_black\";\n",
       "                var nbb_cells = Jupyter.notebook.get_cells();\n",
       "                for (var i = 0; i < nbb_cells.length; ++i) {\n",
       "                    if (nbb_cells[i].input_prompt_number == nbb_cell_id) {\n",
       "                        if (nbb_cells[i].get_text() == nbb_unformatted_code) {\n",
       "                             nbb_cells[i].set_text(nbb_formatted_code);\n",
       "                        }\n",
       "                        break;\n",
       "                    }\n",
       "                }\n",
       "            }, 500);\n",
       "            "
      ],
      "text/plain": [
       "<IPython.core.display.Javascript object>"
      ]
     },
     "metadata": {},
     "output_type": "display_data"
    }
   ],
   "source": [
    "import pycisTopic\n",
    "pycisTopic.__version__\n",
    "\n",
    "import warnings\n",
    "warnings.filterwarnings('ignore')\n",
    "warnings.simplefilter('ignore')\n",
    "\n",
    "import pickle\n",
    "import pandas as pd\n",
    "\n",
    "import os\n",
    "\n",
    "\n",
    "import glob\n",
    "from collections import OrderedDict\n",
    "%load_ext nb_black"
   ]
  },
  {
   "cell_type": "code",
   "execution_count": 26,
   "id": "03fbca7c",
   "metadata": {
    "execution": {
     "iopub.execute_input": "2022-09-25T09:02:52.203155Z",
     "iopub.status.busy": "2022-09-25T09:02:52.202939Z",
     "iopub.status.idle": "2022-09-25T09:02:53.565302Z",
     "shell.execute_reply": "2022-09-25T09:02:53.564457Z",
     "shell.execute_reply.started": "2022-09-25T09:02:52.203136Z"
    },
    "papermill": {
     "duration": 0.284699,
     "end_time": "2022-09-14T14:35:49.987375",
     "exception": false,
     "start_time": "2022-09-14T14:35:49.702676",
     "status": "completed"
    },
    "tags": []
   },
   "outputs": [
    {
     "name": "stdout",
     "output_type": "stream",
     "text": [
      "/lustre1/project/stg_00090/scatac_benchmark/full_2_cistopic\n"
     ]
    },
    {
     "data": {
      "application/javascript": [
       "\n",
       "            setTimeout(function() {\n",
       "                var nbb_cell_id = 26;\n",
       "                var nbb_unformatted_code = \"!pwd\";\n",
       "                var nbb_formatted_code = \"!pwd\";\n",
       "                var nbb_cells = Jupyter.notebook.get_cells();\n",
       "                for (var i = 0; i < nbb_cells.length; ++i) {\n",
       "                    if (nbb_cells[i].input_prompt_number == nbb_cell_id) {\n",
       "                        if (nbb_cells[i].get_text() == nbb_unformatted_code) {\n",
       "                             nbb_cells[i].set_text(nbb_formatted_code);\n",
       "                        }\n",
       "                        break;\n",
       "                    }\n",
       "                }\n",
       "            }, 500);\n",
       "            "
      ],
      "text/plain": [
       "<IPython.core.display.Javascript object>"
      ]
     },
     "metadata": {},
     "output_type": "display_data"
    }
   ],
   "source": [
    "!pwd"
   ]
  },
  {
   "cell_type": "code",
   "execution_count": 27,
   "id": "753d7148",
   "metadata": {
    "execution": {
     "iopub.execute_input": "2022-09-25T09:02:53.566701Z",
     "iopub.status.busy": "2022-09-25T09:02:53.566469Z",
     "iopub.status.idle": "2022-09-25T09:02:53.573764Z",
     "shell.execute_reply": "2022-09-25T09:02:53.573339Z",
     "shell.execute_reply.started": "2022-09-25T09:02:53.566677Z"
    },
    "papermill": {
     "duration": 0.013794,
     "end_time": "2022-09-14T14:35:50.008853",
     "exception": false,
     "start_time": "2022-09-14T14:35:49.995059",
     "status": "completed"
    },
    "tags": []
   },
   "outputs": [
    {
     "data": {
      "application/javascript": [
       "\n",
       "            setTimeout(function() {\n",
       "                var nbb_cell_id = 27;\n",
       "                var nbb_unformatted_code = \"wdir = '/lustre1/project/stg_00090/scatac_benchmark/full_2_cistopic'\\nos.chdir(wdir)\";\n",
       "                var nbb_formatted_code = \"wdir = \\\"/lustre1/project/stg_00090/scatac_benchmark/full_2_cistopic\\\"\\nos.chdir(wdir)\";\n",
       "                var nbb_cells = Jupyter.notebook.get_cells();\n",
       "                for (var i = 0; i < nbb_cells.length; ++i) {\n",
       "                    if (nbb_cells[i].input_prompt_number == nbb_cell_id) {\n",
       "                        if (nbb_cells[i].get_text() == nbb_unformatted_code) {\n",
       "                             nbb_cells[i].set_text(nbb_formatted_code);\n",
       "                        }\n",
       "                        break;\n",
       "                    }\n",
       "                }\n",
       "            }, 500);\n",
       "            "
      ],
      "text/plain": [
       "<IPython.core.display.Javascript object>"
      ]
     },
     "metadata": {},
     "output_type": "display_data"
    }
   ],
   "source": [
    "wdir = '/lustre1/project/stg_00090/scatac_benchmark/full_2_cistopic'\n",
    "os.chdir(wdir)"
   ]
  },
  {
   "cell_type": "markdown",
   "id": "aeaed407",
   "metadata": {
    "papermill": {
     "duration": 0.00579,
     "end_time": "2022-09-14T14:35:50.020707",
     "exception": false,
     "start_time": "2022-09-14T14:35:50.014917",
     "status": "completed"
    },
    "tags": []
   },
   "source": [
    "## Create the cisTopic objects for each sample"
   ]
  },
  {
   "cell_type": "markdown",
   "id": "e1f9b452",
   "metadata": {
    "papermill": {
     "duration": 0.005721,
     "end_time": "2022-09-14T14:35:50.032268",
     "exception": false,
     "start_time": "2022-09-14T14:35:50.026547",
     "status": "completed"
    },
    "tags": []
   },
   "source": [
    "Make a new output dir"
   ]
  },
  {
   "cell_type": "code",
   "execution_count": 28,
   "id": "620838e4",
   "metadata": {
    "execution": {
     "iopub.execute_input": "2022-09-25T09:02:53.575655Z",
     "iopub.status.busy": "2022-09-25T09:02:53.575336Z",
     "iopub.status.idle": "2022-09-25T09:02:53.587132Z",
     "shell.execute_reply": "2022-09-25T09:02:53.586723Z",
     "shell.execute_reply.started": "2022-09-25T09:02:53.575635Z"
    },
    "papermill": {
     "duration": 0.030107,
     "end_time": "2022-09-14T14:35:50.068844",
     "exception": false,
     "start_time": "2022-09-14T14:35:50.038737",
     "status": "completed"
    },
    "tags": []
   },
   "outputs": [
    {
     "data": {
      "application/javascript": [
       "\n",
       "            setTimeout(function() {\n",
       "                var nbb_cell_id = 28;\n",
       "                var nbb_unformatted_code = \"cistopic_objects_out = 'cistopic_objects'\\nif not os.path.exists(os.path.join(wdir, cistopic_objects_out)):\\n    os.makedirs(os.path.join(wdir, cistopic_objects_out))\";\n",
       "                var nbb_formatted_code = \"cistopic_objects_out = \\\"cistopic_objects\\\"\\nif not os.path.exists(os.path.join(wdir, cistopic_objects_out)):\\n    os.makedirs(os.path.join(wdir, cistopic_objects_out))\";\n",
       "                var nbb_cells = Jupyter.notebook.get_cells();\n",
       "                for (var i = 0; i < nbb_cells.length; ++i) {\n",
       "                    if (nbb_cells[i].input_prompt_number == nbb_cell_id) {\n",
       "                        if (nbb_cells[i].get_text() == nbb_unformatted_code) {\n",
       "                             nbb_cells[i].set_text(nbb_formatted_code);\n",
       "                        }\n",
       "                        break;\n",
       "                    }\n",
       "                }\n",
       "            }, 500);\n",
       "            "
      ],
      "text/plain": [
       "<IPython.core.display.Javascript object>"
      ]
     },
     "metadata": {},
     "output_type": "display_data"
    }
   ],
   "source": [
    "cistopic_objects_out = 'cistopic_objects'\n",
    "if not os.path.exists(os.path.join(wdir, cistopic_objects_out)):\n",
    "    os.makedirs(os.path.join(wdir, cistopic_objects_out))"
   ]
  },
  {
   "cell_type": "markdown",
   "id": "557b12be",
   "metadata": {
    "papermill": {
     "duration": 0.005888,
     "end_time": "2022-09-14T14:35:50.081106",
     "exception": false,
     "start_time": "2022-09-14T14:35:50.075218",
     "status": "completed"
    },
    "tags": []
   },
   "source": [
    "Create a dictionary with fragments files for each sample"
   ]
  },
  {
   "cell_type": "code",
   "execution_count": 29,
   "id": "19d8860c",
   "metadata": {
    "execution": {
     "iopub.execute_input": "2022-09-25T09:02:53.588142Z",
     "iopub.status.busy": "2022-09-25T09:02:53.587869Z",
     "iopub.status.idle": "2022-09-25T09:02:53.603602Z",
     "shell.execute_reply": "2022-09-25T09:02:53.603188Z",
     "shell.execute_reply.started": "2022-09-25T09:02:53.588124Z"
    },
    "papermill": {
     "duration": 0.020131,
     "end_time": "2022-09-14T14:35:50.107130",
     "exception": false,
     "start_time": "2022-09-14T14:35:50.086999",
     "status": "completed"
    },
    "tags": []
   },
   "outputs": [
    {
     "data": {
      "text/plain": [
       "{'BIO_ddseq_1.FULL': '../1_data_repository/full_fragments/BIO_ddseq_1.FULL.fragments.tsv.gz',\n",
       " 'BIO_ddseq_2.FULL': '../1_data_repository/full_fragments/BIO_ddseq_2.FULL.fragments.tsv.gz',\n",
       " 'BIO_ddseq_3.FULL': '../1_data_repository/full_fragments/BIO_ddseq_3.FULL.fragments.tsv.gz',\n",
       " 'BIO_ddseq_4.FULL': '../1_data_repository/full_fragments/BIO_ddseq_4.FULL.fragments.tsv.gz',\n",
       " 'BRO_mtscatac_1.FULL': '../1_data_repository/full_fragments/BRO_mtscatac_1.FULL.fragments.tsv.gz',\n",
       " 'BRO_mtscatac_2.FULL': '../1_data_repository/full_fragments/BRO_mtscatac_2.FULL.fragments.tsv.gz',\n",
       " 'CNA_10xmultiome_1.FULL': '../1_data_repository/full_fragments/CNA_10xmultiome_1.FULL.fragments.tsv.gz',\n",
       " 'CNA_10xmultiome_2.FULL': '../1_data_repository/full_fragments/CNA_10xmultiome_2.FULL.fragments.tsv.gz',\n",
       " 'CNA_10xv11_1.FULL': '../1_data_repository/full_fragments/CNA_10xv11_1.FULL.fragments.tsv.gz',\n",
       " 'CNA_10xv11_2.FULL': '../1_data_repository/full_fragments/CNA_10xv11_2.FULL.fragments.tsv.gz',\n",
       " 'CNA_10xv11_3.FULL': '../1_data_repository/full_fragments/CNA_10xv11_3.FULL.fragments.tsv.gz',\n",
       " 'CNA_10xv11_4.FULL': '../1_data_repository/full_fragments/CNA_10xv11_4.FULL.fragments.tsv.gz',\n",
       " 'CNA_10xv11_5.FULL': '../1_data_repository/full_fragments/CNA_10xv11_5.FULL.fragments.tsv.gz',\n",
       " 'CNA_10xv2_1.FULL': '../1_data_repository/full_fragments/CNA_10xv2_1.FULL.fragments.tsv.gz',\n",
       " 'CNA_10xv2_2.FULL': '../1_data_repository/full_fragments/CNA_10xv2_2.FULL.fragments.tsv.gz',\n",
       " 'CNA_hydrop_1.FULL': '../1_data_repository/full_fragments/CNA_hydrop_1.FULL.fragments.tsv.gz',\n",
       " 'CNA_hydrop_2.FULL': '../1_data_repository/full_fragments/CNA_hydrop_2.FULL.fragments.tsv.gz',\n",
       " 'CNA_hydrop_3.FULL': '../1_data_repository/full_fragments/CNA_hydrop_3.FULL.fragments.tsv.gz',\n",
       " 'CNA_mtscatac_1.FULL': '../1_data_repository/full_fragments/CNA_mtscatac_1.FULL.fragments.tsv.gz',\n",
       " 'CNA_mtscatac_2.FULL': '../1_data_repository/full_fragments/CNA_mtscatac_2.FULL.fragments.tsv.gz',\n",
       " 'EPF_hydrop_1.FULL': '../1_data_repository/full_fragments/EPF_hydrop_1.FULL.fragments.tsv.gz',\n",
       " 'EPF_hydrop_2.FULL': '../1_data_repository/full_fragments/EPF_hydrop_2.FULL.fragments.tsv.gz',\n",
       " 'EPF_hydrop_3.FULL': '../1_data_repository/full_fragments/EPF_hydrop_3.FULL.fragments.tsv.gz',\n",
       " 'EPF_hydrop_4.FULL': '../1_data_repository/full_fragments/EPF_hydrop_4.FULL.fragments.tsv.gz',\n",
       " 'HAR_ddseq_1.FULL': '../1_data_repository/full_fragments/HAR_ddseq_1.FULL.fragments.tsv.gz',\n",
       " 'HAR_ddseq_2.FULL': '../1_data_repository/full_fragments/HAR_ddseq_2.FULL.fragments.tsv.gz',\n",
       " 'MDC_mtscatac_1.FULL': '../1_data_repository/full_fragments/MDC_mtscatac_1.FULL.fragments.tsv.gz',\n",
       " 'MDC_mtscatac_2.FULL': '../1_data_repository/full_fragments/MDC_mtscatac_2.FULL.fragments.tsv.gz',\n",
       " 'OHS_s3atac_1.FULL': '../1_data_repository/full_fragments/OHS_s3atac_1.FULL.fragments.tsv.gz',\n",
       " 'OHS_s3atac_2.FULL': '../1_data_repository/full_fragments/OHS_s3atac_2.FULL.fragments.tsv.gz',\n",
       " 'SAN_10xmultiome_1.FULL': '../1_data_repository/full_fragments/SAN_10xmultiome_1.FULL.fragments.tsv.gz',\n",
       " 'SAN_10xmultiome_2.FULL': '../1_data_repository/full_fragments/SAN_10xmultiome_2.FULL.fragments.tsv.gz',\n",
       " 'STA_10xv11_1.FULL': '../1_data_repository/full_fragments/STA_10xv11_1.FULL.fragments.tsv.gz',\n",
       " 'STA_10xv11_2.FULL': '../1_data_repository/full_fragments/STA_10xv11_2.FULL.fragments.tsv.gz',\n",
       " 'TXG_10xv11_1.FULL': '../1_data_repository/full_fragments/TXG_10xv11_1.FULL.fragments.tsv.gz',\n",
       " 'TXG_10xv2_1.FULL': '../1_data_repository/full_fragments/TXG_10xv2_1.FULL.fragments.tsv.gz',\n",
       " 'TXG_10xv2_2.FULL': '../1_data_repository/full_fragments/TXG_10xv2_2.FULL.fragments.tsv.gz',\n",
       " 'UCS_ddseq_1.FULL': '../1_data_repository/full_fragments/UCS_ddseq_1.FULL.fragments.tsv.gz',\n",
       " 'UCS_ddseq_2.FULL': '../1_data_repository/full_fragments/UCS_ddseq_2.FULL.fragments.tsv.gz',\n",
       " 'VIB_10xmultiome_1.FULL': '../1_data_repository/full_fragments/VIB_10xmultiome_1.FULL.fragments.tsv.gz',\n",
       " 'VIB_10xmultiome_2.FULL': '../1_data_repository/full_fragments/VIB_10xmultiome_2.FULL.fragments.tsv.gz',\n",
       " 'VIB_10xv1_1.FULL': '../1_data_repository/full_fragments/VIB_10xv1_1.FULL.fragments.tsv.gz',\n",
       " 'VIB_10xv1_2.FULL': '../1_data_repository/full_fragments/VIB_10xv1_2.FULL.fragments.tsv.gz',\n",
       " 'VIB_10xv2_1.FULL': '../1_data_repository/full_fragments/VIB_10xv2_1.FULL.fragments.tsv.gz',\n",
       " 'VIB_10xv2_2.FULL': '../1_data_repository/full_fragments/VIB_10xv2_2.FULL.fragments.tsv.gz',\n",
       " 'VIB_hydrop_1.FULL': '../1_data_repository/full_fragments/VIB_hydrop_1.FULL.fragments.tsv.gz',\n",
       " 'VIB_hydrop_11.FULL': '../1_data_repository/full_fragments/VIB_hydrop_11.FULL.fragments.tsv.gz',\n",
       " 'VIB_hydrop_12.FULL': '../1_data_repository/full_fragments/VIB_hydrop_12.FULL.fragments.tsv.gz',\n",
       " 'VIB_hydrop_2.FULL': '../1_data_repository/full_fragments/VIB_hydrop_2.FULL.fragments.tsv.gz',\n",
       " 'VIB_hydrop_21.FULL': '../1_data_repository/full_fragments/VIB_hydrop_21.FULL.fragments.tsv.gz',\n",
       " 'VIB_hydrop_22.FULL': '../1_data_repository/full_fragments/VIB_hydrop_22.FULL.fragments.tsv.gz'}"
      ]
     },
     "execution_count": 29,
     "metadata": {},
     "output_type": "execute_result"
    },
    {
     "data": {
      "application/javascript": [
       "\n",
       "            setTimeout(function() {\n",
       "                var nbb_cell_id = 29;\n",
       "                var nbb_unformatted_code = \"filenames = sorted(glob.glob('../1_data_repository/full_fragments/*.fragments.tsv.gz'))\\nfragments_dict = {}\\nfor filename in filenames:\\n    sample = filename.split('/')[-1].split('.fragments.tsv.gz')[0]\\n    fragments_dict[sample] = filename\\nfragments_dict\";\n",
       "                var nbb_formatted_code = \"filenames = sorted(glob.glob(\\\"../1_data_repository/full_fragments/*.fragments.tsv.gz\\\"))\\nfragments_dict = {}\\nfor filename in filenames:\\n    sample = filename.split(\\\"/\\\")[-1].split(\\\".fragments.tsv.gz\\\")[0]\\n    fragments_dict[sample] = filename\\nfragments_dict\";\n",
       "                var nbb_cells = Jupyter.notebook.get_cells();\n",
       "                for (var i = 0; i < nbb_cells.length; ++i) {\n",
       "                    if (nbb_cells[i].input_prompt_number == nbb_cell_id) {\n",
       "                        if (nbb_cells[i].get_text() == nbb_unformatted_code) {\n",
       "                             nbb_cells[i].set_text(nbb_formatted_code);\n",
       "                        }\n",
       "                        break;\n",
       "                    }\n",
       "                }\n",
       "            }, 500);\n",
       "            "
      ],
      "text/plain": [
       "<IPython.core.display.Javascript object>"
      ]
     },
     "metadata": {},
     "output_type": "display_data"
    }
   ],
   "source": [
    "filenames = sorted(glob.glob('../1_data_repository/full_fragments/*.fragments.tsv.gz'))\n",
    "fragments_dict = {}\n",
    "for filename in filenames:\n",
    "    sample = filename.split('/')[-1].split('.fragments.tsv.gz')[0]\n",
    "    fragments_dict[sample] = filename\n",
    "fragments_dict"
   ]
  },
  {
   "cell_type": "code",
   "execution_count": 30,
   "id": "2eb9f5de",
   "metadata": {
    "execution": {
     "iopub.execute_input": "2022-09-25T09:02:53.604848Z",
     "iopub.status.busy": "2022-09-25T09:02:53.604547Z",
     "iopub.status.idle": "2022-09-25T09:02:53.973599Z",
     "shell.execute_reply": "2022-09-25T09:02:53.972879Z",
     "shell.execute_reply.started": "2022-09-25T09:02:53.604828Z"
    },
    "papermill": {
     "duration": 0.034953,
     "end_time": "2022-09-14T14:35:50.149078",
     "exception": false,
     "start_time": "2022-09-14T14:35:50.114125",
     "status": "completed"
    },
    "tags": []
   },
   "outputs": [
    {
     "name": "stdout",
     "output_type": "stream",
     "text": [
      "Checking if cistopic_objects/BIO_ddseq_1.FULL__cto.pkl exist...\n",
      "\tcistopic_objects/BIO_ddseq_1.FULL__cto.pkl exists! Skipping...\n",
      "Checking if cistopic_objects/BIO_ddseq_2.FULL__cto.pkl exist...\n",
      "\tcistopic_objects/BIO_ddseq_2.FULL__cto.pkl exists! Skipping...\n",
      "Checking if cistopic_objects/BIO_ddseq_3.FULL__cto.pkl exist...\n",
      "\tcistopic_objects/BIO_ddseq_3.FULL__cto.pkl exists! Skipping...\n",
      "Checking if cistopic_objects/BIO_ddseq_4.FULL__cto.pkl exist...\n",
      "\tcistopic_objects/BIO_ddseq_4.FULL__cto.pkl exists! Skipping...\n",
      "Checking if cistopic_objects/BRO_mtscatac_1.FULL__cto.pkl exist...\n",
      "\tcistopic_objects/BRO_mtscatac_1.FULL__cto.pkl exists! Skipping...\n",
      "Checking if cistopic_objects/BRO_mtscatac_2.FULL__cto.pkl exist...\n",
      "\tcistopic_objects/BRO_mtscatac_2.FULL__cto.pkl exists! Skipping...\n",
      "Checking if cistopic_objects/CNA_10xmultiome_1.FULL__cto.pkl exist...\n",
      "\tcistopic_objects/CNA_10xmultiome_1.FULL__cto.pkl exists! Skipping...\n",
      "Checking if cistopic_objects/CNA_10xmultiome_2.FULL__cto.pkl exist...\n",
      "\tcistopic_objects/CNA_10xmultiome_2.FULL__cto.pkl exists! Skipping...\n",
      "Checking if cistopic_objects/CNA_10xv11_1.FULL__cto.pkl exist...\n",
      "\tcistopic_objects/CNA_10xv11_1.FULL__cto.pkl exists! Skipping...\n",
      "Checking if cistopic_objects/CNA_10xv11_2.FULL__cto.pkl exist...\n",
      "\tcistopic_objects/CNA_10xv11_2.FULL__cto.pkl exists! Skipping...\n",
      "Checking if cistopic_objects/CNA_10xv11_3.FULL__cto.pkl exist...\n",
      "\tcistopic_objects/CNA_10xv11_3.FULL__cto.pkl exists! Skipping...\n",
      "Checking if cistopic_objects/CNA_10xv11_4.FULL__cto.pkl exist...\n",
      "\tcistopic_objects/CNA_10xv11_4.FULL__cto.pkl exists! Skipping...\n",
      "Checking if cistopic_objects/CNA_10xv11_5.FULL__cto.pkl exist...\n",
      "\tcistopic_objects/CNA_10xv11_5.FULL__cto.pkl exists! Skipping...\n",
      "Checking if cistopic_objects/CNA_10xv2_1.FULL__cto.pkl exist...\n",
      "\tcistopic_objects/CNA_10xv2_1.FULL__cto.pkl exists! Skipping...\n",
      "Checking if cistopic_objects/CNA_10xv2_2.FULL__cto.pkl exist...\n",
      "\tcistopic_objects/CNA_10xv2_2.FULL__cto.pkl exists! Skipping...\n",
      "Checking if cistopic_objects/CNA_hydrop_1.FULL__cto.pkl exist...\n",
      "\tcistopic_objects/CNA_hydrop_1.FULL__cto.pkl exists! Skipping...\n",
      "Checking if cistopic_objects/CNA_hydrop_2.FULL__cto.pkl exist...\n",
      "\tcistopic_objects/CNA_hydrop_2.FULL__cto.pkl exists! Skipping...\n",
      "Checking if cistopic_objects/CNA_hydrop_3.FULL__cto.pkl exist...\n",
      "\tcistopic_objects/CNA_hydrop_3.FULL__cto.pkl exists! Skipping...\n",
      "Checking if cistopic_objects/CNA_mtscatac_1.FULL__cto.pkl exist...\n",
      "\tcistopic_objects/CNA_mtscatac_1.FULL__cto.pkl exists! Skipping...\n",
      "Checking if cistopic_objects/CNA_mtscatac_2.FULL__cto.pkl exist...\n",
      "\tcistopic_objects/CNA_mtscatac_2.FULL__cto.pkl exists! Skipping...\n",
      "Checking if cistopic_objects/EPF_hydrop_1.FULL__cto.pkl exist...\n",
      "\tcistopic_objects/EPF_hydrop_1.FULL__cto.pkl exists! Skipping...\n",
      "Checking if cistopic_objects/EPF_hydrop_2.FULL__cto.pkl exist...\n",
      "\tcistopic_objects/EPF_hydrop_2.FULL__cto.pkl exists! Skipping...\n",
      "Checking if cistopic_objects/EPF_hydrop_3.FULL__cto.pkl exist...\n",
      "\tcistopic_objects/EPF_hydrop_3.FULL__cto.pkl exists! Skipping...\n",
      "Checking if cistopic_objects/EPF_hydrop_4.FULL__cto.pkl exist...\n",
      "\tcistopic_objects/EPF_hydrop_4.FULL__cto.pkl exists! Skipping...\n",
      "Checking if cistopic_objects/HAR_ddseq_1.FULL__cto.pkl exist...\n",
      "\tcistopic_objects/HAR_ddseq_1.FULL__cto.pkl exists! Skipping...\n",
      "Checking if cistopic_objects/HAR_ddseq_2.FULL__cto.pkl exist...\n",
      "\tcistopic_objects/HAR_ddseq_2.FULL__cto.pkl exists! Skipping...\n",
      "Checking if cistopic_objects/MDC_mtscatac_1.FULL__cto.pkl exist...\n",
      "\tcistopic_objects/MDC_mtscatac_1.FULL__cto.pkl exists! Skipping...\n",
      "Checking if cistopic_objects/MDC_mtscatac_2.FULL__cto.pkl exist...\n",
      "\tcistopic_objects/MDC_mtscatac_2.FULL__cto.pkl exists! Skipping...\n",
      "Checking if cistopic_objects/OHS_s3atac_1.FULL__cto.pkl exist...\n",
      "\tcistopic_objects/OHS_s3atac_1.FULL__cto.pkl exists! Skipping...\n",
      "Checking if cistopic_objects/OHS_s3atac_2.FULL__cto.pkl exist...\n",
      "\tcistopic_objects/OHS_s3atac_2.FULL__cto.pkl exists! Skipping...\n",
      "Checking if cistopic_objects/SAN_10xmultiome_1.FULL__cto.pkl exist...\n",
      "\tcistopic_objects/SAN_10xmultiome_1.FULL__cto.pkl exists! Skipping...\n",
      "Checking if cistopic_objects/SAN_10xmultiome_2.FULL__cto.pkl exist...\n",
      "\tcistopic_objects/SAN_10xmultiome_2.FULL__cto.pkl exists! Skipping...\n",
      "Checking if cistopic_objects/STA_10xv11_1.FULL__cto.pkl exist...\n",
      "\tcistopic_objects/STA_10xv11_1.FULL__cto.pkl exists! Skipping...\n",
      "Checking if cistopic_objects/STA_10xv11_2.FULL__cto.pkl exist...\n",
      "\tcistopic_objects/STA_10xv11_2.FULL__cto.pkl exists! Skipping...\n",
      "Checking if cistopic_objects/TXG_10xv11_1.FULL__cto.pkl exist...\n",
      "\tcistopic_objects/TXG_10xv11_1.FULL__cto.pkl exists! Skipping...\n",
      "Checking if cistopic_objects/TXG_10xv2_1.FULL__cto.pkl exist...\n",
      "\tcistopic_objects/TXG_10xv2_1.FULL__cto.pkl exists! Skipping...\n",
      "Checking if cistopic_objects/TXG_10xv2_2.FULL__cto.pkl exist...\n",
      "\tcistopic_objects/TXG_10xv2_2.FULL__cto.pkl exists! Skipping...\n",
      "Checking if cistopic_objects/UCS_ddseq_1.FULL__cto.pkl exist...\n",
      "\tcistopic_objects/UCS_ddseq_1.FULL__cto.pkl exists! Skipping...\n",
      "Checking if cistopic_objects/UCS_ddseq_2.FULL__cto.pkl exist...\n",
      "\tcistopic_objects/UCS_ddseq_2.FULL__cto.pkl exists! Skipping...\n",
      "Checking if cistopic_objects/VIB_10xmultiome_1.FULL__cto.pkl exist...\n",
      "\tcistopic_objects/VIB_10xmultiome_1.FULL__cto.pkl exists! Skipping...\n",
      "Checking if cistopic_objects/VIB_10xmultiome_2.FULL__cto.pkl exist...\n",
      "\tcistopic_objects/VIB_10xmultiome_2.FULL__cto.pkl exists! Skipping...\n",
      "Checking if cistopic_objects/VIB_10xv1_1.FULL__cto.pkl exist...\n",
      "\tcistopic_objects/VIB_10xv1_1.FULL__cto.pkl exists! Skipping...\n",
      "Checking if cistopic_objects/VIB_10xv1_2.FULL__cto.pkl exist...\n",
      "\tcistopic_objects/VIB_10xv1_2.FULL__cto.pkl exists! Skipping...\n",
      "Checking if cistopic_objects/VIB_10xv2_1.FULL__cto.pkl exist...\n",
      "\tcistopic_objects/VIB_10xv2_1.FULL__cto.pkl exists! Skipping...\n",
      "Checking if cistopic_objects/VIB_10xv2_2.FULL__cto.pkl exist...\n",
      "\tcistopic_objects/VIB_10xv2_2.FULL__cto.pkl exists! Skipping...\n",
      "Checking if cistopic_objects/VIB_hydrop_1.FULL__cto.pkl exist...\n",
      "\tcistopic_objects/VIB_hydrop_1.FULL__cto.pkl exists! Skipping...\n",
      "Checking if cistopic_objects/VIB_hydrop_11.FULL__cto.pkl exist...\n",
      "\tcistopic_objects/VIB_hydrop_11.FULL__cto.pkl exists! Skipping...\n",
      "Checking if cistopic_objects/VIB_hydrop_12.FULL__cto.pkl exist...\n",
      "\tcistopic_objects/VIB_hydrop_12.FULL__cto.pkl exists! Skipping...\n",
      "Checking if cistopic_objects/VIB_hydrop_2.FULL__cto.pkl exist...\n",
      "\tcistopic_objects/VIB_hydrop_2.FULL__cto.pkl exists! Skipping...\n",
      "Checking if cistopic_objects/VIB_hydrop_21.FULL__cto.pkl exist...\n",
      "\tcistopic_objects/VIB_hydrop_21.FULL__cto.pkl exists! Skipping...\n",
      "Checking if cistopic_objects/VIB_hydrop_22.FULL__cto.pkl exist...\n",
      "\tcistopic_objects/VIB_hydrop_22.FULL__cto.pkl exists! Skipping...\n"
     ]
    },
    {
     "data": {
      "application/javascript": [
       "\n",
       "            setTimeout(function() {\n",
       "                var nbb_cell_id = 30;\n",
       "                var nbb_unformatted_code = \"fragments_sub_dict = {}\\n#regions_sub_dict = {}\\nfor sample in fragments_dict:\\n    cto = os.path.join(cistopic_objects_out, sample + \\\"__cto.pkl\\\")\\n    print(f\\\"Checking if {cto} exist...\\\")\\n    if os.path.exists(cto):\\n        print(f\\\"\\\\t{cto} exists! Skipping...\\\")\\n    else:\\n        print(f\\\"\\\\t{cto} does not exist, adding to subdict to generate\\\")\\n        fragments_sub_dict[sample] = fragments_dict[sample]\\n        metadata_bc_sub_dict = {}\\n        bc_passing_filters_sub_dict = {}\\n        for sample in fragments_sub_dict.keys():\\n            metadata_bc_sub_dict[sample] = f\\\"cistopic_qc_out/{sample}__metadata_bc.pkl\\\"\\n            bc_passing_filters_sub_dict[sample] = f\\\"selected_barcodes/{sample}_bc_passing_filters_otsu.pkl\\\"\";\n",
       "                var nbb_formatted_code = \"fragments_sub_dict = {}\\n# regions_sub_dict = {}\\nfor sample in fragments_dict:\\n    cto = os.path.join(cistopic_objects_out, sample + \\\"__cto.pkl\\\")\\n    print(f\\\"Checking if {cto} exist...\\\")\\n    if os.path.exists(cto):\\n        print(f\\\"\\\\t{cto} exists! Skipping...\\\")\\n    else:\\n        print(f\\\"\\\\t{cto} does not exist, adding to subdict to generate\\\")\\n        fragments_sub_dict[sample] = fragments_dict[sample]\\n        metadata_bc_sub_dict = {}\\n        bc_passing_filters_sub_dict = {}\\n        for sample in fragments_sub_dict.keys():\\n            metadata_bc_sub_dict[sample] = f\\\"cistopic_qc_out/{sample}__metadata_bc.pkl\\\"\\n            bc_passing_filters_sub_dict[\\n                sample\\n            ] = f\\\"selected_barcodes/{sample}_bc_passing_filters_otsu.pkl\\\"\";\n",
       "                var nbb_cells = Jupyter.notebook.get_cells();\n",
       "                for (var i = 0; i < nbb_cells.length; ++i) {\n",
       "                    if (nbb_cells[i].input_prompt_number == nbb_cell_id) {\n",
       "                        if (nbb_cells[i].get_text() == nbb_unformatted_code) {\n",
       "                             nbb_cells[i].set_text(nbb_formatted_code);\n",
       "                        }\n",
       "                        break;\n",
       "                    }\n",
       "                }\n",
       "            }, 500);\n",
       "            "
      ],
      "text/plain": [
       "<IPython.core.display.Javascript object>"
      ]
     },
     "metadata": {},
     "output_type": "display_data"
    }
   ],
   "source": [
    "fragments_sub_dict = {}\n",
    "#regions_sub_dict = {}\n",
    "for sample in fragments_dict:\n",
    "    cto = os.path.join(cistopic_objects_out, sample + \"__cto.pkl\")\n",
    "    print(f\"Checking if {cto} exist...\")\n",
    "    if os.path.exists(cto):\n",
    "        print(f\"\\t{cto} exists! Skipping...\")\n",
    "    else:\n",
    "        print(f\"\\t{cto} does not exist, adding to subdict to generate\")\n",
    "        fragments_sub_dict[sample] = fragments_dict[sample]\n",
    "        metadata_bc_sub_dict = {}\n",
    "        bc_passing_filters_sub_dict = {}\n",
    "        for sample in fragments_sub_dict.keys():\n",
    "            metadata_bc_sub_dict[sample] = f\"cistopic_qc_out/{sample}__metadata_bc.pkl\"\n",
    "            bc_passing_filters_sub_dict[sample] = f\"selected_barcodes/{sample}_bc_passing_filters_otsu.pkl\""
   ]
  },
  {
   "cell_type": "markdown",
   "id": "8e864793",
   "metadata": {
    "papermill": {
     "duration": 0.006377,
     "end_time": "2022-09-14T14:35:50.161932",
     "exception": false,
     "start_time": "2022-09-14T14:35:50.155555",
     "status": "completed"
    },
    "tags": []
   },
   "source": [
    "Read bed files for SCREEN regions and blacklist (blacklisted regions in genome where many reads can map)"
   ]
  },
  {
   "cell_type": "code",
   "execution_count": 31,
   "id": "623a7082",
   "metadata": {
    "execution": {
     "iopub.execute_input": "2022-09-25T09:02:53.974815Z",
     "iopub.status.busy": "2022-09-25T09:02:53.974600Z",
     "iopub.status.idle": "2022-09-25T09:02:53.989104Z",
     "shell.execute_reply": "2022-09-25T09:02:53.988698Z",
     "shell.execute_reply.started": "2022-09-25T09:02:53.974796Z"
    },
    "papermill": {
     "duration": 0.012932,
     "end_time": "2022-09-14T14:35:50.181211",
     "exception": false,
     "start_time": "2022-09-14T14:35:50.168279",
     "status": "completed"
    },
    "tags": []
   },
   "outputs": [
    {
     "data": {
      "application/javascript": [
       "\n",
       "            setTimeout(function() {\n",
       "                var nbb_cell_id = 31;\n",
       "                var nbb_unformatted_code = \"path_to_regions = '../0_resources/regions/V2.hg38-rDHS-Unfiltered.blacklisted.bed'\\npath_to_blacklist = '../0_resources/regions/hg38-blacklist.v2.bed'\";\n",
       "                var nbb_formatted_code = \"path_to_regions = \\\"../0_resources/regions/V2.hg38-rDHS-Unfiltered.blacklisted.bed\\\"\\npath_to_blacklist = \\\"../0_resources/regions/hg38-blacklist.v2.bed\\\"\";\n",
       "                var nbb_cells = Jupyter.notebook.get_cells();\n",
       "                for (var i = 0; i < nbb_cells.length; ++i) {\n",
       "                    if (nbb_cells[i].input_prompt_number == nbb_cell_id) {\n",
       "                        if (nbb_cells[i].get_text() == nbb_unformatted_code) {\n",
       "                             nbb_cells[i].set_text(nbb_formatted_code);\n",
       "                        }\n",
       "                        break;\n",
       "                    }\n",
       "                }\n",
       "            }, 500);\n",
       "            "
      ],
      "text/plain": [
       "<IPython.core.display.Javascript object>"
      ]
     },
     "metadata": {},
     "output_type": "display_data"
    }
   ],
   "source": [
    "path_to_regions = '../0_resources/regions/V2.hg38-rDHS-Unfiltered.blacklisted.bed'\n",
    "path_to_blacklist = '../0_resources/regions/hg38-blacklist.v2.bed'"
   ]
  },
  {
   "cell_type": "markdown",
   "id": "b0d1f28b",
   "metadata": {
    "papermill": {
     "duration": 0.006342,
     "end_time": "2022-09-14T14:35:50.194083",
     "exception": false,
     "start_time": "2022-09-14T14:35:50.187741",
     "status": "completed"
    },
    "tags": []
   },
   "source": [
    "Create cistopic objects for each sample. If pandas crashes, increase the number of partitions. This is necessary for the largest files."
   ]
  },
  {
   "cell_type": "markdown",
   "id": "7b95289a",
   "metadata": {
    "papermill": {
     "duration": 0.006298,
     "end_time": "2022-09-14T14:35:50.206665",
     "exception": false,
     "start_time": "2022-09-14T14:35:50.200367",
     "status": "completed"
    },
    "tags": []
   },
   "source": [
    "In the following command, it is important that the barcode syntax matches the fragments, the metadata and the bc_passing filters. That is why the sample name is removed from metadata and bc passing filters."
   ]
  },
  {
   "cell_type": "code",
   "execution_count": 32,
   "id": "4a2173ab",
   "metadata": {
    "execution": {
     "iopub.execute_input": "2022-09-25T09:02:53.990259Z",
     "iopub.status.busy": "2022-09-25T09:02:53.990055Z",
     "iopub.status.idle": "2022-09-25T09:02:54.024630Z",
     "shell.execute_reply": "2022-09-25T09:02:54.024129Z",
     "shell.execute_reply.started": "2022-09-25T09:02:53.990241Z"
    },
    "papermill": {
     "duration": 8.013259,
     "end_time": "2022-09-14T14:35:58.226246",
     "exception": true,
     "start_time": "2022-09-14T14:35:50.212987",
     "status": "failed"
    },
    "tags": []
   },
   "outputs": [
    {
     "name": "stdout",
     "output_type": "stream",
     "text": [
      "All samples already processed.\n"
     ]
    },
    {
     "data": {
      "application/javascript": [
       "\n",
       "            setTimeout(function() {\n",
       "                var nbb_cell_id = 32;\n",
       "                var nbb_unformatted_code = \"if fragments_sub_dict != {}:\\n    from pycisTopic.cistopic_class import create_cistopic_object_from_fragments\\n    n_cores = 20\\n    for sample in fragments_sub_dict.keys():\\n        cto_path = os.path.join(cistopic_objects_out, f\\\"{sample}__cto.pkl\\\")\\n        if not os.path.exists(cto_path):\\n            infile = open(metadata_bc_sub_dict[sample], 'rb')\\n            metadata_bc = pickle.load(infile)\\n            metadata_bc.index = [bc.split(\\\"___\\\")[0] for bc in metadata_bc.index]\\n            infile.close()\\n            infile = open(bc_passing_filters_sub_dict[sample], 'rb')\\n            bc_passing_filters = pickle.load(infile)\\n            infile.close()\\n            bc_passing_filters_fixed = [bc.split(\\\"___\\\")[0] for bc in bc_passing_filters]\\n            cto = create_cistopic_object_from_fragments(path_to_fragments=fragments_sub_dict[sample],\\n                                                            path_to_regions=path_to_regions,\\n                                                            path_to_blacklist=path_to_blacklist,\\n                                                            metrics=metadata_bc,\\n                                                            valid_bc=bc_passing_filters_fixed,\\n                                                            n_cpu=n_cores,\\n                                                            partition=10,\\n                                                            project=sample)\\n\\n            cto_path = os.path.join(cistopic_objects_out, f\\\"{sample}__cto.pkl\\\")\\n            print(f\\\"Writing {sample} cto in {cto_path}...\\\")\\n\\n            with open(\\n                cto_path, \\\"wb\\\"\\n            ) as f:\\n                pickle.dump(cto, f, protocol=4)\\n\\n        else:\\n            print(f\\\"{cto_path} already exists!\\\")\\n\\nelse:\\n    print(\\\"All samples already processed.\\\")\";\n",
       "                var nbb_formatted_code = \"if fragments_sub_dict != {}:\\n    from pycisTopic.cistopic_class import create_cistopic_object_from_fragments\\n\\n    n_cores = 20\\n    for sample in fragments_sub_dict.keys():\\n        cto_path = os.path.join(cistopic_objects_out, f\\\"{sample}__cto.pkl\\\")\\n        if not os.path.exists(cto_path):\\n            infile = open(metadata_bc_sub_dict[sample], \\\"rb\\\")\\n            metadata_bc = pickle.load(infile)\\n            metadata_bc.index = [bc.split(\\\"___\\\")[0] for bc in metadata_bc.index]\\n            infile.close()\\n            infile = open(bc_passing_filters_sub_dict[sample], \\\"rb\\\")\\n            bc_passing_filters = pickle.load(infile)\\n            infile.close()\\n            bc_passing_filters_fixed = [bc.split(\\\"___\\\")[0] for bc in bc_passing_filters]\\n            cto = create_cistopic_object_from_fragments(\\n                path_to_fragments=fragments_sub_dict[sample],\\n                path_to_regions=path_to_regions,\\n                path_to_blacklist=path_to_blacklist,\\n                metrics=metadata_bc,\\n                valid_bc=bc_passing_filters_fixed,\\n                n_cpu=n_cores,\\n                partition=10,\\n                project=sample,\\n            )\\n\\n            cto_path = os.path.join(cistopic_objects_out, f\\\"{sample}__cto.pkl\\\")\\n            print(f\\\"Writing {sample} cto in {cto_path}...\\\")\\n\\n            with open(cto_path, \\\"wb\\\") as f:\\n                pickle.dump(cto, f, protocol=4)\\n\\n        else:\\n            print(f\\\"{cto_path} already exists!\\\")\\n\\nelse:\\n    print(\\\"All samples already processed.\\\")\";\n",
       "                var nbb_cells = Jupyter.notebook.get_cells();\n",
       "                for (var i = 0; i < nbb_cells.length; ++i) {\n",
       "                    if (nbb_cells[i].input_prompt_number == nbb_cell_id) {\n",
       "                        if (nbb_cells[i].get_text() == nbb_unformatted_code) {\n",
       "                             nbb_cells[i].set_text(nbb_formatted_code);\n",
       "                        }\n",
       "                        break;\n",
       "                    }\n",
       "                }\n",
       "            }, 500);\n",
       "            "
      ],
      "text/plain": [
       "<IPython.core.display.Javascript object>"
      ]
     },
     "metadata": {},
     "output_type": "display_data"
    }
   ],
   "source": [
    "if fragments_sub_dict != {}:\n",
    "    from pycisTopic.cistopic_class import create_cistopic_object_from_fragments\n",
    "    n_cores = 20\n",
    "    for sample in fragments_sub_dict.keys():\n",
    "        cto_path = os.path.join(cistopic_objects_out, f\"{sample}__cto.pkl\")\n",
    "        if not os.path.exists(cto_path):\n",
    "            infile = open(metadata_bc_sub_dict[sample], 'rb')\n",
    "            metadata_bc = pickle.load(infile)\n",
    "            metadata_bc.index = [bc.split(\"___\")[0] for bc in metadata_bc.index]\n",
    "            infile.close()\n",
    "            infile = open(bc_passing_filters_sub_dict[sample], 'rb')\n",
    "            bc_passing_filters = pickle.load(infile)\n",
    "            infile.close()\n",
    "            bc_passing_filters_fixed = [bc.split(\"___\")[0] for bc in bc_passing_filters]\n",
    "            cto = create_cistopic_object_from_fragments(path_to_fragments=fragments_sub_dict[sample],\n",
    "                                                            path_to_regions=path_to_regions,\n",
    "                                                            path_to_blacklist=path_to_blacklist,\n",
    "                                                            metrics=metadata_bc,\n",
    "                                                            valid_bc=bc_passing_filters_fixed,\n",
    "                                                            n_cpu=n_cores,\n",
    "                                                            partition=10,\n",
    "                                                            project=sample)\n",
    "\n",
    "            cto_path = os.path.join(cistopic_objects_out, f\"{sample}__cto.pkl\")\n",
    "            print(f\"Writing {sample} cto in {cto_path}...\")\n",
    "\n",
    "            with open(\n",
    "                cto_path, \"wb\"\n",
    "            ) as f:\n",
    "                pickle.dump(cto, f, protocol=4)\n",
    "\n",
    "        else:\n",
    "            print(f\"{cto_path} already exists!\")\n",
    "\n",
    "else:\n",
    "    print(\"All samples already processed.\")"
   ]
  },
  {
   "cell_type": "markdown",
   "id": "e3ea156f",
   "metadata": {
    "papermill": {
     "duration": null,
     "end_time": null,
     "exception": null,
     "start_time": null,
     "status": "pending"
    },
    "tags": []
   },
   "source": [
    "# Run Scrublet"
   ]
  },
  {
   "cell_type": "code",
   "execution_count": 33,
   "id": "d5003eb8",
   "metadata": {
    "execution": {
     "iopub.execute_input": "2022-09-25T09:02:54.025575Z",
     "iopub.status.busy": "2022-09-25T09:02:54.025337Z",
     "iopub.status.idle": "2022-09-25T09:02:54.046830Z",
     "shell.execute_reply": "2022-09-25T09:02:54.046382Z",
     "shell.execute_reply.started": "2022-09-25T09:02:54.025557Z"
    },
    "papermill": {
     "duration": null,
     "end_time": null,
     "exception": null,
     "start_time": null,
     "status": "pending"
    },
    "tags": []
   },
   "outputs": [
    {
     "data": {
      "application/javascript": [
       "\n",
       "            setTimeout(function() {\n",
       "                var nbb_cell_id = 33;\n",
       "                var nbb_unformatted_code = \"import scrublet as scr\\nimport pandas as pd\\nimport matplotlib.pyplot as plt\";\n",
       "                var nbb_formatted_code = \"import scrublet as scr\\nimport pandas as pd\\nimport matplotlib.pyplot as plt\";\n",
       "                var nbb_cells = Jupyter.notebook.get_cells();\n",
       "                for (var i = 0; i < nbb_cells.length; ++i) {\n",
       "                    if (nbb_cells[i].input_prompt_number == nbb_cell_id) {\n",
       "                        if (nbb_cells[i].get_text() == nbb_unformatted_code) {\n",
       "                             nbb_cells[i].set_text(nbb_formatted_code);\n",
       "                        }\n",
       "                        break;\n",
       "                    }\n",
       "                }\n",
       "            }, 500);\n",
       "            "
      ],
      "text/plain": [
       "<IPython.core.display.Javascript object>"
      ]
     },
     "metadata": {},
     "output_type": "display_data"
    }
   ],
   "source": [
    "import scrublet as scr\n",
    "import pandas as pd\n",
    "import matplotlib.pyplot as plt"
   ]
  },
  {
   "cell_type": "code",
   "execution_count": 34,
   "id": "b97db719",
   "metadata": {
    "execution": {
     "iopub.execute_input": "2022-09-25T09:02:54.049504Z",
     "iopub.status.busy": "2022-09-25T09:02:54.049302Z",
     "iopub.status.idle": "2022-09-25T09:02:54.073120Z",
     "shell.execute_reply": "2022-09-25T09:02:54.072685Z",
     "shell.execute_reply.started": "2022-09-25T09:02:54.049486Z"
    },
    "papermill": {
     "duration": null,
     "end_time": null,
     "exception": null,
     "start_time": null,
     "status": "pending"
    },
    "tags": []
   },
   "outputs": [
    {
     "data": {
      "text/plain": [
       "{'BIO_ddseq_1.FULL': 'cistopic_objects/BIO_ddseq_1.FULL__cto.pkl',\n",
       " 'BIO_ddseq_2.FULL': 'cistopic_objects/BIO_ddseq_2.FULL__cto.pkl',\n",
       " 'BIO_ddseq_3.FULL': 'cistopic_objects/BIO_ddseq_3.FULL__cto.pkl',\n",
       " 'BIO_ddseq_4.FULL': 'cistopic_objects/BIO_ddseq_4.FULL__cto.pkl',\n",
       " 'BRO_mtscatac_1.FULL': 'cistopic_objects/BRO_mtscatac_1.FULL__cto.pkl',\n",
       " 'BRO_mtscatac_2.FULL': 'cistopic_objects/BRO_mtscatac_2.FULL__cto.pkl',\n",
       " 'CNA_10xmultiome_1.FULL': 'cistopic_objects/CNA_10xmultiome_1.FULL__cto.pkl',\n",
       " 'CNA_10xmultiome_2.FULL': 'cistopic_objects/CNA_10xmultiome_2.FULL__cto.pkl',\n",
       " 'CNA_10xv11_1.FULL': 'cistopic_objects/CNA_10xv11_1.FULL__cto.pkl',\n",
       " 'CNA_10xv11_2.FULL': 'cistopic_objects/CNA_10xv11_2.FULL__cto.pkl',\n",
       " 'CNA_10xv11_3.FULL': 'cistopic_objects/CNA_10xv11_3.FULL__cto.pkl',\n",
       " 'CNA_10xv11_4.FULL': 'cistopic_objects/CNA_10xv11_4.FULL__cto.pkl',\n",
       " 'CNA_10xv11_5.FULL': 'cistopic_objects/CNA_10xv11_5.FULL__cto.pkl',\n",
       " 'CNA_10xv2_1.FULL': 'cistopic_objects/CNA_10xv2_1.FULL__cto.pkl',\n",
       " 'CNA_10xv2_2.FULL': 'cistopic_objects/CNA_10xv2_2.FULL__cto.pkl',\n",
       " 'CNA_hydrop_1.FULL': 'cistopic_objects/CNA_hydrop_1.FULL__cto.pkl',\n",
       " 'CNA_hydrop_2.FULL': 'cistopic_objects/CNA_hydrop_2.FULL__cto.pkl',\n",
       " 'CNA_hydrop_3.FULL': 'cistopic_objects/CNA_hydrop_3.FULL__cto.pkl',\n",
       " 'CNA_mtscatac_1.FULL': 'cistopic_objects/CNA_mtscatac_1.FULL__cto.pkl',\n",
       " 'CNA_mtscatac_2.FULL': 'cistopic_objects/CNA_mtscatac_2.FULL__cto.pkl',\n",
       " 'EPF_hydrop_1.FULL': 'cistopic_objects/EPF_hydrop_1.FULL__cto.pkl',\n",
       " 'EPF_hydrop_2.FULL': 'cistopic_objects/EPF_hydrop_2.FULL__cto.pkl',\n",
       " 'EPF_hydrop_3.FULL': 'cistopic_objects/EPF_hydrop_3.FULL__cto.pkl',\n",
       " 'EPF_hydrop_4.FULL': 'cistopic_objects/EPF_hydrop_4.FULL__cto.pkl',\n",
       " 'HAR_ddseq_1.FULL': 'cistopic_objects/HAR_ddseq_1.FULL__cto.pkl',\n",
       " 'HAR_ddseq_2.FULL': 'cistopic_objects/HAR_ddseq_2.FULL__cto.pkl',\n",
       " 'MDC_mtscatac_1.FULL': 'cistopic_objects/MDC_mtscatac_1.FULL__cto.pkl',\n",
       " 'MDC_mtscatac_2.FULL': 'cistopic_objects/MDC_mtscatac_2.FULL__cto.pkl',\n",
       " 'OHS_s3atac_1.FULL': 'cistopic_objects/OHS_s3atac_1.FULL__cto.pkl',\n",
       " 'OHS_s3atac_2.FULL': 'cistopic_objects/OHS_s3atac_2.FULL__cto.pkl',\n",
       " 'SAN_10xmultiome_1.FULL': 'cistopic_objects/SAN_10xmultiome_1.FULL__cto.pkl',\n",
       " 'SAN_10xmultiome_2.FULL': 'cistopic_objects/SAN_10xmultiome_2.FULL__cto.pkl',\n",
       " 'STA_10xv11_1.FULL': 'cistopic_objects/STA_10xv11_1.FULL__cto.pkl',\n",
       " 'STA_10xv11_2.FULL': 'cistopic_objects/STA_10xv11_2.FULL__cto.pkl',\n",
       " 'TXG_10xv11_1.FULL': 'cistopic_objects/TXG_10xv11_1.FULL__cto.pkl',\n",
       " 'TXG_10xv2_1.FULL': 'cistopic_objects/TXG_10xv2_1.FULL__cto.pkl',\n",
       " 'TXG_10xv2_2.FULL': 'cistopic_objects/TXG_10xv2_2.FULL__cto.pkl',\n",
       " 'UCS_ddseq_1.FULL': 'cistopic_objects/UCS_ddseq_1.FULL__cto.pkl',\n",
       " 'UCS_ddseq_2.FULL': 'cistopic_objects/UCS_ddseq_2.FULL__cto.pkl',\n",
       " 'VIB_10xmultiome_1.FULL': 'cistopic_objects/VIB_10xmultiome_1.FULL__cto.pkl',\n",
       " 'VIB_10xmultiome_2.FULL': 'cistopic_objects/VIB_10xmultiome_2.FULL__cto.pkl',\n",
       " 'VIB_10xv1_1.FULL': 'cistopic_objects/VIB_10xv1_1.FULL__cto.pkl',\n",
       " 'VIB_10xv1_2.FULL': 'cistopic_objects/VIB_10xv1_2.FULL__cto.pkl',\n",
       " 'VIB_10xv2_1.FULL': 'cistopic_objects/VIB_10xv2_1.FULL__cto.pkl',\n",
       " 'VIB_10xv2_2.FULL': 'cistopic_objects/VIB_10xv2_2.FULL__cto.pkl',\n",
       " 'VIB_hydrop_1.FULL': 'cistopic_objects/VIB_hydrop_1.FULL__cto.pkl',\n",
       " 'VIB_hydrop_11.FULL': 'cistopic_objects/VIB_hydrop_11.FULL__cto.pkl',\n",
       " 'VIB_hydrop_12.FULL': 'cistopic_objects/VIB_hydrop_12.FULL__cto.pkl',\n",
       " 'VIB_hydrop_2.FULL': 'cistopic_objects/VIB_hydrop_2.FULL__cto.pkl',\n",
       " 'VIB_hydrop_21.FULL': 'cistopic_objects/VIB_hydrop_21.FULL__cto.pkl',\n",
       " 'VIB_hydrop_22.FULL': 'cistopic_objects/VIB_hydrop_22.FULL__cto.pkl'}"
      ]
     },
     "execution_count": 34,
     "metadata": {},
     "output_type": "execute_result"
    },
    {
     "data": {
      "application/javascript": [
       "\n",
       "            setTimeout(function() {\n",
       "                var nbb_cell_id = 34;\n",
       "                var nbb_unformatted_code = \"cto_dict = {x.split('/')[-1].split('__cto.pkl')[0]:x for x in sorted(glob.glob('cistopic_objects/*__cto.pkl'))}\\ncto_dict\";\n",
       "                var nbb_formatted_code = \"cto_dict = {\\n    x.split(\\\"/\\\")[-1].split(\\\"__cto.pkl\\\")[0]: x\\n    for x in sorted(glob.glob(\\\"cistopic_objects/*__cto.pkl\\\"))\\n}\\ncto_dict\";\n",
       "                var nbb_cells = Jupyter.notebook.get_cells();\n",
       "                for (var i = 0; i < nbb_cells.length; ++i) {\n",
       "                    if (nbb_cells[i].input_prompt_number == nbb_cell_id) {\n",
       "                        if (nbb_cells[i].get_text() == nbb_unformatted_code) {\n",
       "                             nbb_cells[i].set_text(nbb_formatted_code);\n",
       "                        }\n",
       "                        break;\n",
       "                    }\n",
       "                }\n",
       "            }, 500);\n",
       "            "
      ],
      "text/plain": [
       "<IPython.core.display.Javascript object>"
      ]
     },
     "metadata": {},
     "output_type": "display_data"
    }
   ],
   "source": [
    "cto_dict = {x.split('/')[-1].split('__cto.pkl')[0]:x for x in sorted(glob.glob('cistopic_objects/*__cto.pkl'))}\n",
    "cto_dict"
   ]
  },
  {
   "cell_type": "code",
   "execution_count": 35,
   "id": "dd5ff3a1",
   "metadata": {
    "execution": {
     "iopub.execute_input": "2022-09-25T09:02:54.074469Z",
     "iopub.status.busy": "2022-09-25T09:02:54.074112Z",
     "iopub.status.idle": "2022-09-25T09:02:54.132441Z",
     "shell.execute_reply": "2022-09-25T09:02:54.131586Z",
     "shell.execute_reply.started": "2022-09-25T09:02:54.074449Z"
    },
    "papermill": {
     "duration": null,
     "end_time": null,
     "exception": null,
     "start_time": null,
     "status": "pending"
    },
    "tags": []
   },
   "outputs": [
    {
     "name": "stdout",
     "output_type": "stream",
     "text": [
      "Checking if cistopic_objects/BIO_ddseq_1.FULL__cto.scrublet0-4.pkl exist...\n",
      "\tcistopic_objects/BIO_ddseq_1.FULL__cto.scrublet0-4.pkl exists! Skipping...\n",
      "Checking if cistopic_objects/BIO_ddseq_2.FULL__cto.scrublet0-4.pkl exist...\n",
      "\tcistopic_objects/BIO_ddseq_2.FULL__cto.scrublet0-4.pkl exists! Skipping...\n",
      "Checking if cistopic_objects/BIO_ddseq_3.FULL__cto.scrublet0-4.pkl exist...\n",
      "\tcistopic_objects/BIO_ddseq_3.FULL__cto.scrublet0-4.pkl exists! Skipping...\n",
      "Checking if cistopic_objects/BIO_ddseq_4.FULL__cto.scrublet0-4.pkl exist...\n",
      "\tcistopic_objects/BIO_ddseq_4.FULL__cto.scrublet0-4.pkl exists! Skipping...\n",
      "Checking if cistopic_objects/BRO_mtscatac_1.FULL__cto.scrublet0-4.pkl exist...\n",
      "\tcistopic_objects/BRO_mtscatac_1.FULL__cto.scrublet0-4.pkl exists! Skipping...\n",
      "Checking if cistopic_objects/BRO_mtscatac_2.FULL__cto.scrublet0-4.pkl exist...\n",
      "\tcistopic_objects/BRO_mtscatac_2.FULL__cto.scrublet0-4.pkl exists! Skipping...\n",
      "Checking if cistopic_objects/CNA_10xmultiome_1.FULL__cto.scrublet0-4.pkl exist...\n",
      "\tcistopic_objects/CNA_10xmultiome_1.FULL__cto.scrublet0-4.pkl exists! Skipping...\n",
      "Checking if cistopic_objects/CNA_10xmultiome_2.FULL__cto.scrublet0-4.pkl exist...\n",
      "\tcistopic_objects/CNA_10xmultiome_2.FULL__cto.scrublet0-4.pkl exists! Skipping...\n",
      "Checking if cistopic_objects/CNA_10xv11_1.FULL__cto.scrublet0-4.pkl exist...\n",
      "\tcistopic_objects/CNA_10xv11_1.FULL__cto.scrublet0-4.pkl exists! Skipping...\n",
      "Checking if cistopic_objects/CNA_10xv11_2.FULL__cto.scrublet0-4.pkl exist...\n",
      "\tcistopic_objects/CNA_10xv11_2.FULL__cto.scrublet0-4.pkl exists! Skipping...\n",
      "Checking if cistopic_objects/CNA_10xv11_3.FULL__cto.scrublet0-4.pkl exist...\n",
      "\tcistopic_objects/CNA_10xv11_3.FULL__cto.scrublet0-4.pkl exists! Skipping...\n",
      "Checking if cistopic_objects/CNA_10xv11_4.FULL__cto.scrublet0-4.pkl exist...\n",
      "\tcistopic_objects/CNA_10xv11_4.FULL__cto.scrublet0-4.pkl exists! Skipping...\n",
      "Checking if cistopic_objects/CNA_10xv11_5.FULL__cto.scrublet0-4.pkl exist...\n",
      "\tcistopic_objects/CNA_10xv11_5.FULL__cto.scrublet0-4.pkl exists! Skipping...\n",
      "Checking if cistopic_objects/CNA_10xv2_1.FULL__cto.scrublet0-4.pkl exist...\n",
      "\tcistopic_objects/CNA_10xv2_1.FULL__cto.scrublet0-4.pkl exists! Skipping...\n",
      "Checking if cistopic_objects/CNA_10xv2_2.FULL__cto.scrublet0-4.pkl exist...\n",
      "\tcistopic_objects/CNA_10xv2_2.FULL__cto.scrublet0-4.pkl exists! Skipping...\n",
      "Checking if cistopic_objects/CNA_hydrop_1.FULL__cto.scrublet0-4.pkl exist...\n",
      "\tcistopic_objects/CNA_hydrop_1.FULL__cto.scrublet0-4.pkl exists! Skipping...\n",
      "Checking if cistopic_objects/CNA_hydrop_2.FULL__cto.scrublet0-4.pkl exist...\n",
      "\tcistopic_objects/CNA_hydrop_2.FULL__cto.scrublet0-4.pkl exists! Skipping...\n",
      "Checking if cistopic_objects/CNA_hydrop_3.FULL__cto.scrublet0-4.pkl exist...\n",
      "\tcistopic_objects/CNA_hydrop_3.FULL__cto.scrublet0-4.pkl exists! Skipping...\n",
      "Checking if cistopic_objects/CNA_mtscatac_1.FULL__cto.scrublet0-4.pkl exist...\n",
      "\tcistopic_objects/CNA_mtscatac_1.FULL__cto.scrublet0-4.pkl exists! Skipping...\n",
      "Checking if cistopic_objects/CNA_mtscatac_2.FULL__cto.scrublet0-4.pkl exist...\n",
      "\tcistopic_objects/CNA_mtscatac_2.FULL__cto.scrublet0-4.pkl exists! Skipping...\n",
      "Checking if cistopic_objects/EPF_hydrop_1.FULL__cto.scrublet0-4.pkl exist...\n",
      "\tcistopic_objects/EPF_hydrop_1.FULL__cto.scrublet0-4.pkl exists! Skipping...\n",
      "Checking if cistopic_objects/EPF_hydrop_2.FULL__cto.scrublet0-4.pkl exist...\n",
      "\tcistopic_objects/EPF_hydrop_2.FULL__cto.scrublet0-4.pkl exists! Skipping...\n",
      "Checking if cistopic_objects/EPF_hydrop_3.FULL__cto.scrublet0-4.pkl exist...\n",
      "\tcistopic_objects/EPF_hydrop_3.FULL__cto.scrublet0-4.pkl exists! Skipping...\n",
      "Checking if cistopic_objects/EPF_hydrop_4.FULL__cto.scrublet0-4.pkl exist...\n",
      "\tcistopic_objects/EPF_hydrop_4.FULL__cto.scrublet0-4.pkl exists! Skipping...\n",
      "Checking if cistopic_objects/HAR_ddseq_1.FULL__cto.scrublet0-4.pkl exist...\n",
      "\tcistopic_objects/HAR_ddseq_1.FULL__cto.scrublet0-4.pkl exists! Skipping...\n",
      "Checking if cistopic_objects/HAR_ddseq_2.FULL__cto.scrublet0-4.pkl exist...\n",
      "\tcistopic_objects/HAR_ddseq_2.FULL__cto.scrublet0-4.pkl exists! Skipping...\n",
      "Checking if cistopic_objects/MDC_mtscatac_1.FULL__cto.scrublet0-4.pkl exist...\n",
      "\tcistopic_objects/MDC_mtscatac_1.FULL__cto.scrublet0-4.pkl exists! Skipping...\n",
      "Checking if cistopic_objects/MDC_mtscatac_2.FULL__cto.scrublet0-4.pkl exist...\n",
      "\tcistopic_objects/MDC_mtscatac_2.FULL__cto.scrublet0-4.pkl exists! Skipping...\n",
      "Checking if cistopic_objects/OHS_s3atac_1.FULL__cto.scrublet0-4.pkl exist...\n",
      "\tcistopic_objects/OHS_s3atac_1.FULL__cto.scrublet0-4.pkl exists! Skipping...\n",
      "Checking if cistopic_objects/OHS_s3atac_2.FULL__cto.scrublet0-4.pkl exist...\n",
      "\tcistopic_objects/OHS_s3atac_2.FULL__cto.scrublet0-4.pkl exists! Skipping...\n",
      "Checking if cistopic_objects/SAN_10xmultiome_1.FULL__cto.scrublet0-4.pkl exist...\n",
      "\tcistopic_objects/SAN_10xmultiome_1.FULL__cto.scrublet0-4.pkl exists! Skipping...\n",
      "Checking if cistopic_objects/SAN_10xmultiome_2.FULL__cto.scrublet0-4.pkl exist...\n",
      "\tcistopic_objects/SAN_10xmultiome_2.FULL__cto.scrublet0-4.pkl exists! Skipping...\n",
      "Checking if cistopic_objects/STA_10xv11_1.FULL__cto.scrublet0-4.pkl exist...\n",
      "\tcistopic_objects/STA_10xv11_1.FULL__cto.scrublet0-4.pkl exists! Skipping...\n",
      "Checking if cistopic_objects/STA_10xv11_2.FULL__cto.scrublet0-4.pkl exist...\n",
      "\tcistopic_objects/STA_10xv11_2.FULL__cto.scrublet0-4.pkl exists! Skipping...\n",
      "Checking if cistopic_objects/TXG_10xv11_1.FULL__cto.scrublet0-4.pkl exist...\n",
      "\tcistopic_objects/TXG_10xv11_1.FULL__cto.scrublet0-4.pkl exists! Skipping...\n",
      "Checking if cistopic_objects/TXG_10xv2_1.FULL__cto.scrublet0-4.pkl exist...\n",
      "\tcistopic_objects/TXG_10xv2_1.FULL__cto.scrublet0-4.pkl exists! Skipping...\n",
      "Checking if cistopic_objects/TXG_10xv2_2.FULL__cto.scrublet0-4.pkl exist...\n",
      "\tcistopic_objects/TXG_10xv2_2.FULL__cto.scrublet0-4.pkl exists! Skipping...\n",
      "Checking if cistopic_objects/UCS_ddseq_1.FULL__cto.scrublet0-4.pkl exist...\n",
      "\tcistopic_objects/UCS_ddseq_1.FULL__cto.scrublet0-4.pkl exists! Skipping...\n",
      "Checking if cistopic_objects/UCS_ddseq_2.FULL__cto.scrublet0-4.pkl exist...\n",
      "\tcistopic_objects/UCS_ddseq_2.FULL__cto.scrublet0-4.pkl exists! Skipping...\n",
      "Checking if cistopic_objects/VIB_10xmultiome_1.FULL__cto.scrublet0-4.pkl exist...\n",
      "\tcistopic_objects/VIB_10xmultiome_1.FULL__cto.scrublet0-4.pkl exists! Skipping...\n",
      "Checking if cistopic_objects/VIB_10xmultiome_2.FULL__cto.scrublet0-4.pkl exist...\n",
      "\tcistopic_objects/VIB_10xmultiome_2.FULL__cto.scrublet0-4.pkl exists! Skipping...\n",
      "Checking if cistopic_objects/VIB_10xv1_1.FULL__cto.scrublet0-4.pkl exist...\n",
      "\tcistopic_objects/VIB_10xv1_1.FULL__cto.scrublet0-4.pkl exists! Skipping...\n",
      "Checking if cistopic_objects/VIB_10xv1_2.FULL__cto.scrublet0-4.pkl exist...\n",
      "\tcistopic_objects/VIB_10xv1_2.FULL__cto.scrublet0-4.pkl exists! Skipping...\n",
      "Checking if cistopic_objects/VIB_10xv2_1.FULL__cto.scrublet0-4.pkl exist...\n",
      "\tcistopic_objects/VIB_10xv2_1.FULL__cto.scrublet0-4.pkl exists! Skipping...\n",
      "Checking if cistopic_objects/VIB_10xv2_2.FULL__cto.scrublet0-4.pkl exist...\n",
      "\tcistopic_objects/VIB_10xv2_2.FULL__cto.scrublet0-4.pkl exists! Skipping...\n",
      "Checking if cistopic_objects/VIB_hydrop_1.FULL__cto.scrublet0-4.pkl exist...\n",
      "\tcistopic_objects/VIB_hydrop_1.FULL__cto.scrublet0-4.pkl does not exist, adding to subdict to generate\n",
      "Checking if cistopic_objects/VIB_hydrop_11.FULL__cto.scrublet0-4.pkl exist...\n",
      "\tcistopic_objects/VIB_hydrop_11.FULL__cto.scrublet0-4.pkl exists! Skipping...\n",
      "Checking if cistopic_objects/VIB_hydrop_12.FULL__cto.scrublet0-4.pkl exist...\n",
      "\tcistopic_objects/VIB_hydrop_12.FULL__cto.scrublet0-4.pkl exists! Skipping...\n",
      "Checking if cistopic_objects/VIB_hydrop_2.FULL__cto.scrublet0-4.pkl exist...\n",
      "\tcistopic_objects/VIB_hydrop_2.FULL__cto.scrublet0-4.pkl does not exist, adding to subdict to generate\n",
      "Checking if cistopic_objects/VIB_hydrop_21.FULL__cto.scrublet0-4.pkl exist...\n",
      "\tcistopic_objects/VIB_hydrop_21.FULL__cto.scrublet0-4.pkl exists! Skipping...\n",
      "Checking if cistopic_objects/VIB_hydrop_22.FULL__cto.scrublet0-4.pkl exist...\n",
      "\tcistopic_objects/VIB_hydrop_22.FULL__cto.scrublet0-4.pkl exists! Skipping...\n"
     ]
    },
    {
     "data": {
      "application/javascript": [
       "\n",
       "            setTimeout(function() {\n",
       "                var nbb_cell_id = 35;\n",
       "                var nbb_unformatted_code = \"fragments_sub_dict = {}\\nscrubcto_dict = {}\\nscrub_threshold = 0.4\\nscrub_name_suffix = \\\"0-4\\\"\\n#regions_sub_dict = {}\\nfor sample in cto_dict:\\n    cto = os.path.join('cistopic_objects', sample + f\\\"__cto.scrublet{scrub_name_suffix}.pkl\\\")\\n    print(f\\\"Checking if {cto} exist...\\\")\\n    if os.path.exists(cto):\\n        print(f\\\"\\\\t{cto} exists! Skipping...\\\")\\n    else:\\n        print(f\\\"\\\\t{cto} does not exist, adding to subdict to generate\\\")\\n        scrubcto_dict[sample] = cto\";\n",
       "                var nbb_formatted_code = \"fragments_sub_dict = {}\\nscrubcto_dict = {}\\nscrub_threshold = 0.4\\nscrub_name_suffix = \\\"0-4\\\"\\n# regions_sub_dict = {}\\nfor sample in cto_dict:\\n    cto = os.path.join(\\n        \\\"cistopic_objects\\\", sample + f\\\"__cto.scrublet{scrub_name_suffix}.pkl\\\"\\n    )\\n    print(f\\\"Checking if {cto} exist...\\\")\\n    if os.path.exists(cto):\\n        print(f\\\"\\\\t{cto} exists! Skipping...\\\")\\n    else:\\n        print(f\\\"\\\\t{cto} does not exist, adding to subdict to generate\\\")\\n        scrubcto_dict[sample] = cto\";\n",
       "                var nbb_cells = Jupyter.notebook.get_cells();\n",
       "                for (var i = 0; i < nbb_cells.length; ++i) {\n",
       "                    if (nbb_cells[i].input_prompt_number == nbb_cell_id) {\n",
       "                        if (nbb_cells[i].get_text() == nbb_unformatted_code) {\n",
       "                             nbb_cells[i].set_text(nbb_formatted_code);\n",
       "                        }\n",
       "                        break;\n",
       "                    }\n",
       "                }\n",
       "            }, 500);\n",
       "            "
      ],
      "text/plain": [
       "<IPython.core.display.Javascript object>"
      ]
     },
     "metadata": {},
     "output_type": "display_data"
    }
   ],
   "source": [
    "fragments_sub_dict = {}\n",
    "scrubcto_dict = {}\n",
    "scrub_threshold = 0.4\n",
    "scrub_name_suffix = \"0-4\"\n",
    "#regions_sub_dict = {}\n",
    "for sample in cto_dict:\n",
    "    cto = os.path.join('cistopic_objects', sample + f\"__cto.scrublet{scrub_name_suffix}.pkl\")\n",
    "    print(f\"Checking if {cto} exist...\")\n",
    "    if os.path.exists(cto):\n",
    "        print(f\"\\t{cto} exists! Skipping...\")\n",
    "    else:\n",
    "        print(f\"\\t{cto} does not exist, adding to subdict to generate\")\n",
    "        scrubcto_dict[sample] = cto"
   ]
  },
  {
   "cell_type": "code",
   "execution_count": 36,
   "id": "04160a7c",
   "metadata": {
    "execution": {
     "iopub.execute_input": "2022-09-25T09:02:54.134127Z",
     "iopub.status.busy": "2022-09-25T09:02:54.133706Z",
     "iopub.status.idle": "2022-09-25T09:03:33.332731Z",
     "shell.execute_reply": "2022-09-25T09:03:33.332013Z",
     "shell.execute_reply.started": "2022-09-25T09:02:54.134092Z"
    },
    "papermill": {
     "duration": null,
     "end_time": null,
     "exception": null,
     "start_time": null,
     "status": "pending"
    },
    "tags": []
   },
   "outputs": [
    {
     "name": "stdout",
     "output_type": "stream",
     "text": [
      "Loaded cistopic_objects/VIB_hydrop_1.FULL__cto.pkl\n",
      "Preprocessing...\n",
      "Simulating doublets...\n",
      "Embedding transcriptomes using PCA...\n",
      "Calculating doublet scores...\n",
      "Automatically set threshold at doublet score = 0.27\n",
      "Detected doublet rate = 9.7%\n",
      "Estimated detectable doublet fraction = 45.4%\n",
      "Overall doublet rate:\n",
      "\tExpected   = 10.0%\n",
      "\tEstimated  = 21.5%\n",
      "Elapsed time: 5.8 seconds\n",
      "Detected doublet rate = 2.7%\n",
      "Estimated detectable doublet fraction = 17.5%\n",
      "Overall doublet rate:\n",
      "\tExpected   = 10.0%\n",
      "\tEstimated  = 15.2%\n"
     ]
    },
    {
     "data": {
      "image/png": "[encoded data removed]",
      "text/plain": [
       "<Figure size 576x216 with 2 Axes>"
      ]
     },
     "metadata": {
      "needs_background": "light"
     },
     "output_type": "display_data"
    },
    {
     "name": "stdout",
     "output_type": "stream",
     "text": [
      "Running UMAP...\n"
     ]
    },
    {
     "data": {
      "image/png": "[encoded data removed]",
      "text/plain": [
       "<Figure size 576x288 with 3 Axes>"
      ]
     },
     "metadata": {
      "needs_background": "light"
     },
     "output_type": "display_data"
    },
    {
     "name": "stdout",
     "output_type": "stream",
     "text": [
      "VIB_hydrop_1.FULL: found doublets: \n",
      "\t(2524: Scrublet)\n",
      "\n",
      "\n",
      "Loaded cistopic_objects/VIB_hydrop_2.FULL__cto.pkl\n",
      "Preprocessing...\n",
      "Simulating doublets...\n",
      "Embedding transcriptomes using PCA...\n",
      "Calculating doublet scores...\n",
      "Automatically set threshold at doublet score = 0.67\n",
      "Detected doublet rate = 0.0%\n",
      "Estimated detectable doublet fraction = 0.8%\n",
      "Overall doublet rate:\n",
      "\tExpected   = 10.0%\n",
      "\tEstimated  = 0.0%\n",
      "Elapsed time: 9.2 seconds\n",
      "Detected doublet rate = 2.3%\n",
      "Estimated detectable doublet fraction = 17.9%\n",
      "Overall doublet rate:\n",
      "\tExpected   = 10.0%\n",
      "\tEstimated  = 12.9%\n"
     ]
    },
    {
     "data": {
      "image/png": "[encoded data removed]",
      "text/plain": [
       "<Figure size 576x216 with 2 Axes>"
      ]
     },
     "metadata": {
      "needs_background": "light"
     },
     "output_type": "display_data"
    },
    {
     "name": "stdout",
     "output_type": "stream",
     "text": [
      "Running UMAP...\n"
     ]
    },
    {
     "data": {
      "image/png": "[encoded data removed]",
      "text/plain": [
       "<Figure size 576x288 with 3 Axes>"
      ]
     },
     "metadata": {
      "needs_background": "light"
     },
     "output_type": "display_data"
    },
    {
     "name": "stdout",
     "output_type": "stream",
     "text": [
      "VIB_hydrop_2.FULL: found doublets: \n",
      "\t(3042: Scrublet)\n",
      "\n",
      "\n"
     ]
    },
    {
     "data": {
      "application/javascript": [
       "\n",
       "            setTimeout(function() {\n",
       "                var nbb_cell_id = 36;\n",
       "                var nbb_unformatted_code = \"if cto_dict != {}:\\n    for sample in scrubcto_dict.keys():\\n        with open(cto_dict[sample], 'rb') as f:\\n            cto = pickle.load(f)\\n        print(f\\\"Loaded {cto_dict[sample]}\\\")\\n        scrub = scr.Scrublet(cto.fragment_matrix.T, expected_doublet_rate=0.1)\\n        doublet_scores, predicted_doublets = scrub.scrub_doublets()\\n        # scrub.plot_histogram()\\n        scrub.call_doublets(threshold=scrub_threshold)\\n        a,b = scrub.plot_histogram()\\n        a.suptitle(sample)\\n        plt.savefig(f'plots_qc/{sample}.scrublet_histogram.png', dpi=150, facecolor='white')\\n        plt.show()\\n        plt.close()\\n\\n        print('Running UMAP...')\\n        scrub.set_embedding('UMAP', scr.get_umap(scrub.manifold_obs_, 10, min_dist=0.3))\\n        scrub.plot_embedding('UMAP', order_points=True);\\n        plt.savefig(f'plots_qc/{sample}.scrublet_umap.png', dpi=150, facecolor='white')\\n        plt.show()\\n        plt.close()\\n\\n        scrublet = pd.DataFrame([scrub.doublet_scores_obs_, scrub.predicted_doublets_], \\n            columns=cto.cell_names,\\n            index=['Doublet_scores_fragments', 'Predicted_doublets_fragments']).T\\n        cto.add_cell_data(scrublet)\\n        n_scrublet_doublets = len(cto.cell_data[\\\"Predicted_doublets_fragments\\\"] == True)\\n        print(f\\\"{sample}: found doublets: \\\\n\\\\t({n_scrublet_doublets}: Scrublet)\\\"\\n             )\\n\\n        cto_path_new = scrubcto_dict[sample]\\n\\n        with open(\\n            cto_path_new, \\\"wb\\\"\\n        ) as f:\\n            pickle.dump(cto, f, protocol=4)\\n\\n        print('\\\\n')\\n        \\nelse:\\n    print(\\\"All samples already processed.\\\")\";\n",
       "                var nbb_formatted_code = \"if cto_dict != {}:\\n    for sample in scrubcto_dict.keys():\\n        with open(cto_dict[sample], \\\"rb\\\") as f:\\n            cto = pickle.load(f)\\n        print(f\\\"Loaded {cto_dict[sample]}\\\")\\n        scrub = scr.Scrublet(cto.fragment_matrix.T, expected_doublet_rate=0.1)\\n        doublet_scores, predicted_doublets = scrub.scrub_doublets()\\n        # scrub.plot_histogram()\\n        scrub.call_doublets(threshold=scrub_threshold)\\n        a, b = scrub.plot_histogram()\\n        a.suptitle(sample)\\n        plt.savefig(\\n            f\\\"plots_qc/{sample}.scrublet_histogram.png\\\", dpi=150, facecolor=\\\"white\\\"\\n        )\\n        plt.show()\\n        plt.close()\\n\\n        print(\\\"Running UMAP...\\\")\\n        scrub.set_embedding(\\\"UMAP\\\", scr.get_umap(scrub.manifold_obs_, 10, min_dist=0.3))\\n        scrub.plot_embedding(\\\"UMAP\\\", order_points=True)\\n        plt.savefig(f\\\"plots_qc/{sample}.scrublet_umap.png\\\", dpi=150, facecolor=\\\"white\\\")\\n        plt.show()\\n        plt.close()\\n\\n        scrublet = pd.DataFrame(\\n            [scrub.doublet_scores_obs_, scrub.predicted_doublets_],\\n            columns=cto.cell_names,\\n            index=[\\\"Doublet_scores_fragments\\\", \\\"Predicted_doublets_fragments\\\"],\\n        ).T\\n        cto.add_cell_data(scrublet)\\n        n_scrublet_doublets = len(cto.cell_data[\\\"Predicted_doublets_fragments\\\"] == True)\\n        print(f\\\"{sample}: found doublets: \\\\n\\\\t({n_scrublet_doublets}: Scrublet)\\\")\\n\\n        cto_path_new = scrubcto_dict[sample]\\n\\n        with open(cto_path_new, \\\"wb\\\") as f:\\n            pickle.dump(cto, f, protocol=4)\\n\\n        print(\\\"\\\\n\\\")\\n\\nelse:\\n    print(\\\"All samples already processed.\\\")\";\n",
       "                var nbb_cells = Jupyter.notebook.get_cells();\n",
       "                for (var i = 0; i < nbb_cells.length; ++i) {\n",
       "                    if (nbb_cells[i].input_prompt_number == nbb_cell_id) {\n",
       "                        if (nbb_cells[i].get_text() == nbb_unformatted_code) {\n",
       "                             nbb_cells[i].set_text(nbb_formatted_code);\n",
       "                        }\n",
       "                        break;\n",
       "                    }\n",
       "                }\n",
       "            }, 500);\n",
       "            "
      ],
      "text/plain": [
       "<IPython.core.display.Javascript object>"
      ]
     },
     "metadata": {},
     "output_type": "display_data"
    }
   ],
   "source": [
    "if cto_dict != {}:\n",
    "    for sample in scrubcto_dict.keys():\n",
    "        with open(cto_dict[sample], 'rb') as f:\n",
    "            cto = pickle.load(f)\n",
    "        print(f\"Loaded {cto_dict[sample]}\")\n",
    "        scrub = scr.Scrublet(cto.fragment_matrix.T, expected_doublet_rate=0.1)\n",
    "        doublet_scores, predicted_doublets = scrub.scrub_doublets()\n",
    "        # scrub.plot_histogram()\n",
    "        scrub.call_doublets(threshold=scrub_threshold)\n",
    "        a,b = scrub.plot_histogram()\n",
    "        a.suptitle(sample)\n",
    "        plt.savefig(f'plots_qc/{sample}.scrublet_histogram.png', dpi=150, facecolor='white')\n",
    "        plt.show()\n",
    "        plt.close()\n",
    "\n",
    "        print('Running UMAP...')\n",
    "        scrub.set_embedding('UMAP', scr.get_umap(scrub.manifold_obs_, 10, min_dist=0.3))\n",
    "        scrub.plot_embedding('UMAP', order_points=True);\n",
    "        plt.savefig(f'plots_qc/{sample}.scrublet_umap.png', dpi=150, facecolor='white')\n",
    "        plt.show()\n",
    "        plt.close()\n",
    "\n",
    "        scrublet = pd.DataFrame([scrub.doublet_scores_obs_, scrub.predicted_doublets_], \n",
    "            columns=cto.cell_names,\n",
    "            index=['Doublet_scores_fragments', 'Predicted_doublets_fragments']).T\n",
    "        cto.add_cell_data(scrublet)\n",
    "        n_scrublet_doublets = len(cto.cell_data[\"Predicted_doublets_fragments\"] == True)\n",
    "        print(f\"{sample}: found doublets: \\n\\t({n_scrublet_doublets}: Scrublet)\"\n",
    "             )\n",
    "\n",
    "        cto_path_new = scrubcto_dict[sample]\n",
    "\n",
    "        with open(\n",
    "            cto_path_new, \"wb\"\n",
    "        ) as f:\n",
    "            pickle.dump(cto, f, protocol=4)\n",
    "\n",
    "        print('\\n')\n",
    "        \n",
    "else:\n",
    "    print(\"All samples already processed.\")"
   ]
  },
  {
   "cell_type": "markdown",
   "id": "1bd60950",
   "metadata": {
    "papermill": {
     "duration": null,
     "end_time": null,
     "exception": null,
     "start_time": null,
     "status": "pending"
    },
    "tags": []
   },
   "source": [
    "## Cell filtering"
   ]
  },
  {
   "cell_type": "markdown",
   "id": "11604a39",
   "metadata": {
    "papermill": {
     "duration": null,
     "end_time": null,
     "exception": null,
     "start_time": null,
     "status": "pending"
    },
    "tags": []
   },
   "source": [
    "### Read in Freemuxlet doublet predictions"
   ]
  },
  {
   "cell_type": "code",
   "execution_count": 37,
   "id": "919d6e30",
   "metadata": {
    "execution": {
     "iopub.execute_input": "2022-09-25T09:03:33.334553Z",
     "iopub.status.busy": "2022-09-25T09:03:33.334200Z",
     "iopub.status.idle": "2022-09-25T09:03:33.861301Z",
     "shell.execute_reply": "2022-09-25T09:03:33.860774Z",
     "shell.execute_reply.started": "2022-09-25T09:03:33.334527Z"
    },
    "papermill": {
     "duration": null,
     "end_time": null,
     "exception": null,
     "start_time": null,
     "status": "pending"
    },
    "tags": []
   },
   "outputs": [
    {
     "data": {
      "text/html": [
       "<div>\n",
       "<style scoped>\n",
       "    .dataframe tbody tr th:only-of-type {\n",
       "        vertical-align: middle;\n",
       "    }\n",
       "\n",
       "    .dataframe tbody tr th {\n",
       "        vertical-align: top;\n",
       "    }\n",
       "\n",
       "    .dataframe thead th {\n",
       "        text-align: right;\n",
       "    }\n",
       "</style>\n",
       "<table border=\"1\" class=\"dataframe\">\n",
       "  <thead>\n",
       "    <tr style=\"text-align: right;\">\n",
       "      <th></th>\n",
       "      <th>INT_ID</th>\n",
       "      <th>BARCODE</th>\n",
       "      <th>NUM.SNPS</th>\n",
       "      <th>NUM.READS</th>\n",
       "      <th>DROPLET.TYPE</th>\n",
       "      <th>BEST.GUESS</th>\n",
       "      <th>BEST.LLK</th>\n",
       "      <th>NEXT.GUESS</th>\n",
       "      <th>NEXT.LLK</th>\n",
       "      <th>DIFF.LLK.BEST.NEXT</th>\n",
       "      <th>...</th>\n",
       "      <th>SNG.BEST.LLK</th>\n",
       "      <th>SNG.NEXT.GUESS</th>\n",
       "      <th>SNG.NEXT.LLK</th>\n",
       "      <th>SNG.ONLY.POSTERIOR</th>\n",
       "      <th>DBL.BEST.GUESS</th>\n",
       "      <th>DBL.BEST.LLK</th>\n",
       "      <th>DIFF.LLK.SNG.DBL</th>\n",
       "      <th>ubarcode</th>\n",
       "      <th>replicate</th>\n",
       "      <th>sample</th>\n",
       "    </tr>\n",
       "  </thead>\n",
       "  <tbody>\n",
       "    <tr>\n",
       "      <th>CNA_mtscatac_1.FULL.1</th>\n",
       "      <td>0</td>\n",
       "      <td>GTCCCAGGAAAGGCCA</td>\n",
       "      <td>2339</td>\n",
       "      <td>2339</td>\n",
       "      <td>SNG</td>\n",
       "      <td>1,1</td>\n",
       "      <td>-4102.33</td>\n",
       "      <td>1,0</td>\n",
       "      <td>-4403.45</td>\n",
       "      <td>301.12</td>\n",
       "      <td>...</td>\n",
       "      <td>-4102.33</td>\n",
       "      <td>0</td>\n",
       "      <td>-5006.85</td>\n",
       "      <td>1.00000</td>\n",
       "      <td>1,0</td>\n",
       "      <td>-4403.45</td>\n",
       "      <td>301.12</td>\n",
       "      <td>CNA_mtscatac_1.FULL#GTCCCAGGAAAGGCCA</td>\n",
       "      <td>CNA_mtscatac_1.FULL</td>\n",
       "      <td>sampleA</td>\n",
       "    </tr>\n",
       "    <tr>\n",
       "      <th>CNA_mtscatac_1.FULL.2</th>\n",
       "      <td>1</td>\n",
       "      <td>TGCGAGGCTCTGCCAG</td>\n",
       "      <td>1738</td>\n",
       "      <td>1738</td>\n",
       "      <td>SNG</td>\n",
       "      <td>0,0</td>\n",
       "      <td>-3068.55</td>\n",
       "      <td>1,0</td>\n",
       "      <td>-3307.30</td>\n",
       "      <td>238.75</td>\n",
       "      <td>...</td>\n",
       "      <td>-3068.55</td>\n",
       "      <td>1</td>\n",
       "      <td>-3808.83</td>\n",
       "      <td>1.00000</td>\n",
       "      <td>1,0</td>\n",
       "      <td>-3307.30</td>\n",
       "      <td>238.75</td>\n",
       "      <td>CNA_mtscatac_1.FULL#TGCGAGGCTCTGCCAG</td>\n",
       "      <td>CNA_mtscatac_1.FULL</td>\n",
       "      <td>sampleB</td>\n",
       "    </tr>\n",
       "    <tr>\n",
       "      <th>CNA_mtscatac_1.FULL.3</th>\n",
       "      <td>2</td>\n",
       "      <td>AGCGTATACCAATAGA</td>\n",
       "      <td>5432</td>\n",
       "      <td>5432</td>\n",
       "      <td>SNG</td>\n",
       "      <td>1,1</td>\n",
       "      <td>-9844.04</td>\n",
       "      <td>1,0</td>\n",
       "      <td>-10194.35</td>\n",
       "      <td>350.30</td>\n",
       "      <td>...</td>\n",
       "      <td>-9844.04</td>\n",
       "      <td>0</td>\n",
       "      <td>-11116.48</td>\n",
       "      <td>1.00000</td>\n",
       "      <td>1,0</td>\n",
       "      <td>-10194.35</td>\n",
       "      <td>350.30</td>\n",
       "      <td>CNA_mtscatac_1.FULL#AGCGTATACCAATAGA</td>\n",
       "      <td>CNA_mtscatac_1.FULL</td>\n",
       "      <td>sampleA</td>\n",
       "    </tr>\n",
       "    <tr>\n",
       "      <th>CNA_mtscatac_1.FULL.4</th>\n",
       "      <td>3</td>\n",
       "      <td>TGTCGAAACGACCGAA</td>\n",
       "      <td>1196</td>\n",
       "      <td>1196</td>\n",
       "      <td>SNG</td>\n",
       "      <td>1,1</td>\n",
       "      <td>-2089.42</td>\n",
       "      <td>1,0</td>\n",
       "      <td>-2240.71</td>\n",
       "      <td>151.28</td>\n",
       "      <td>...</td>\n",
       "      <td>-2089.42</td>\n",
       "      <td>0</td>\n",
       "      <td>-2537.00</td>\n",
       "      <td>1.00000</td>\n",
       "      <td>1,0</td>\n",
       "      <td>-2240.71</td>\n",
       "      <td>151.28</td>\n",
       "      <td>CNA_mtscatac_1.FULL#TGTCGAAACGACCGAA</td>\n",
       "      <td>CNA_mtscatac_1.FULL</td>\n",
       "      <td>sampleA</td>\n",
       "    </tr>\n",
       "    <tr>\n",
       "      <th>CNA_mtscatac_1.FULL.5</th>\n",
       "      <td>4</td>\n",
       "      <td>AGGTCAGGACGGTTGC</td>\n",
       "      <td>6424</td>\n",
       "      <td>6424</td>\n",
       "      <td>SNG</td>\n",
       "      <td>1,1</td>\n",
       "      <td>-11307.49</td>\n",
       "      <td>1,0</td>\n",
       "      <td>-12145.77</td>\n",
       "      <td>838.28</td>\n",
       "      <td>...</td>\n",
       "      <td>-11307.49</td>\n",
       "      <td>0</td>\n",
       "      <td>-13886.90</td>\n",
       "      <td>1.00000</td>\n",
       "      <td>1,0</td>\n",
       "      <td>-12145.77</td>\n",
       "      <td>838.28</td>\n",
       "      <td>CNA_mtscatac_1.FULL#AGGTCAGGACGGTTGC</td>\n",
       "      <td>CNA_mtscatac_1.FULL</td>\n",
       "      <td>sampleA</td>\n",
       "    </tr>\n",
       "    <tr>\n",
       "      <th>...</th>\n",
       "      <td>...</td>\n",
       "      <td>...</td>\n",
       "      <td>...</td>\n",
       "      <td>...</td>\n",
       "      <td>...</td>\n",
       "      <td>...</td>\n",
       "      <td>...</td>\n",
       "      <td>...</td>\n",
       "      <td>...</td>\n",
       "      <td>...</td>\n",
       "      <td>...</td>\n",
       "      <td>...</td>\n",
       "      <td>...</td>\n",
       "      <td>...</td>\n",
       "      <td>...</td>\n",
       "      <td>...</td>\n",
       "      <td>...</td>\n",
       "      <td>...</td>\n",
       "      <td>...</td>\n",
       "      <td>...</td>\n",
       "      <td>...</td>\n",
       "    </tr>\n",
       "    <tr>\n",
       "      <th>VIB_hydrop_22.FULL.965</th>\n",
       "      <td>964</td>\n",
       "      <td>TAACCGAATCTCTCGCACGA</td>\n",
       "      <td>227</td>\n",
       "      <td>227</td>\n",
       "      <td>SNG</td>\n",
       "      <td>0,0</td>\n",
       "      <td>-404.03</td>\n",
       "      <td>1,0</td>\n",
       "      <td>-432.16</td>\n",
       "      <td>28.13</td>\n",
       "      <td>...</td>\n",
       "      <td>-404.03</td>\n",
       "      <td>1</td>\n",
       "      <td>-495.29</td>\n",
       "      <td>1.00000</td>\n",
       "      <td>1,0</td>\n",
       "      <td>-432.16</td>\n",
       "      <td>28.13</td>\n",
       "      <td>VIB_hydrop_22.FULL#TAACCGAATCTCTCGCACGA</td>\n",
       "      <td>VIB_hydrop_22.FULL</td>\n",
       "      <td>sampleB</td>\n",
       "    </tr>\n",
       "    <tr>\n",
       "      <th>VIB_hydrop_22.FULL.966</th>\n",
       "      <td>965</td>\n",
       "      <td>AACGATACCATGCTTGCCGT</td>\n",
       "      <td>175</td>\n",
       "      <td>175</td>\n",
       "      <td>SNG</td>\n",
       "      <td>0,0</td>\n",
       "      <td>-315.26</td>\n",
       "      <td>1,0</td>\n",
       "      <td>-335.18</td>\n",
       "      <td>19.92</td>\n",
       "      <td>...</td>\n",
       "      <td>-315.26</td>\n",
       "      <td>1</td>\n",
       "      <td>-385.62</td>\n",
       "      <td>1.00000</td>\n",
       "      <td>1,0</td>\n",
       "      <td>-335.18</td>\n",
       "      <td>19.92</td>\n",
       "      <td>VIB_hydrop_22.FULL#AACGATACCATGCTTGCCGT</td>\n",
       "      <td>VIB_hydrop_22.FULL</td>\n",
       "      <td>sampleB</td>\n",
       "    </tr>\n",
       "    <tr>\n",
       "      <th>VIB_hydrop_22.FULL.967</th>\n",
       "      <td>966</td>\n",
       "      <td>GATTGGCGGTGTCCAGGCTT</td>\n",
       "      <td>274</td>\n",
       "      <td>274</td>\n",
       "      <td>SNG</td>\n",
       "      <td>0,0</td>\n",
       "      <td>-481.27</td>\n",
       "      <td>1,0</td>\n",
       "      <td>-513.34</td>\n",
       "      <td>32.07</td>\n",
       "      <td>...</td>\n",
       "      <td>-481.27</td>\n",
       "      <td>1</td>\n",
       "      <td>-582.89</td>\n",
       "      <td>1.00000</td>\n",
       "      <td>1,0</td>\n",
       "      <td>-513.34</td>\n",
       "      <td>32.07</td>\n",
       "      <td>VIB_hydrop_22.FULL#GATTGGCGGTGTCCAGGCTT</td>\n",
       "      <td>VIB_hydrop_22.FULL</td>\n",
       "      <td>sampleB</td>\n",
       "    </tr>\n",
       "    <tr>\n",
       "      <th>VIB_hydrop_22.FULL.968</th>\n",
       "      <td>967</td>\n",
       "      <td>CGTTGACCACGGTAGGTAGG</td>\n",
       "      <td>172</td>\n",
       "      <td>172</td>\n",
       "      <td>SNG</td>\n",
       "      <td>1,1</td>\n",
       "      <td>-312.80</td>\n",
       "      <td>1,0</td>\n",
       "      <td>-321.39</td>\n",
       "      <td>8.59</td>\n",
       "      <td>...</td>\n",
       "      <td>-312.80</td>\n",
       "      <td>0</td>\n",
       "      <td>-342.76</td>\n",
       "      <td>1.00000</td>\n",
       "      <td>1,0</td>\n",
       "      <td>-321.39</td>\n",
       "      <td>8.59</td>\n",
       "      <td>VIB_hydrop_22.FULL#CGTTGACCACGGTAGGTAGG</td>\n",
       "      <td>VIB_hydrop_22.FULL</td>\n",
       "      <td>sampleA</td>\n",
       "    </tr>\n",
       "    <tr>\n",
       "      <th>VIB_hydrop_22.FULL.969</th>\n",
       "      <td>968</td>\n",
       "      <td>ACGAGTTGCCACGGTGCTCT</td>\n",
       "      <td>196</td>\n",
       "      <td>196</td>\n",
       "      <td>SNG</td>\n",
       "      <td>1,1</td>\n",
       "      <td>-359.42</td>\n",
       "      <td>1,0</td>\n",
       "      <td>-358.65</td>\n",
       "      <td>-0.77</td>\n",
       "      <td>...</td>\n",
       "      <td>-359.42</td>\n",
       "      <td>0</td>\n",
       "      <td>-369.17</td>\n",
       "      <td>0.99994</td>\n",
       "      <td>1,0</td>\n",
       "      <td>-358.65</td>\n",
       "      <td>-0.77</td>\n",
       "      <td>VIB_hydrop_22.FULL#ACGAGTTGCCACGGTGCTCT</td>\n",
       "      <td>VIB_hydrop_22.FULL</td>\n",
       "      <td>sampleA</td>\n",
       "    </tr>\n",
       "  </tbody>\n",
       "</table>\n",
       "<p>116783 rows × 23 columns</p>\n",
       "</div>"
      ],
      "text/plain": [
       "                        INT_ID               BARCODE  NUM.SNPS  NUM.READS  \\\n",
       "CNA_mtscatac_1.FULL.1        0      GTCCCAGGAAAGGCCA      2339       2339   \n",
       "CNA_mtscatac_1.FULL.2        1      TGCGAGGCTCTGCCAG      1738       1738   \n",
       "CNA_mtscatac_1.FULL.3        2      AGCGTATACCAATAGA      5432       5432   \n",
       "CNA_mtscatac_1.FULL.4        3      TGTCGAAACGACCGAA      1196       1196   \n",
       "CNA_mtscatac_1.FULL.5        4      AGGTCAGGACGGTTGC      6424       6424   \n",
       "...                        ...                   ...       ...        ...   \n",
       "VIB_hydrop_22.FULL.965     964  TAACCGAATCTCTCGCACGA       227        227   \n",
       "VIB_hydrop_22.FULL.966     965  AACGATACCATGCTTGCCGT       175        175   \n",
       "VIB_hydrop_22.FULL.967     966  GATTGGCGGTGTCCAGGCTT       274        274   \n",
       "VIB_hydrop_22.FULL.968     967  CGTTGACCACGGTAGGTAGG       172        172   \n",
       "VIB_hydrop_22.FULL.969     968  ACGAGTTGCCACGGTGCTCT       196        196   \n",
       "\n",
       "                       DROPLET.TYPE BEST.GUESS  BEST.LLK NEXT.GUESS  NEXT.LLK  \\\n",
       "CNA_mtscatac_1.FULL.1           SNG        1,1  -4102.33        1,0  -4403.45   \n",
       "CNA_mtscatac_1.FULL.2           SNG        0,0  -3068.55        1,0  -3307.30   \n",
       "CNA_mtscatac_1.FULL.3           SNG        1,1  -9844.04        1,0 -10194.35   \n",
       "CNA_mtscatac_1.FULL.4           SNG        1,1  -2089.42        1,0  -2240.71   \n",
       "CNA_mtscatac_1.FULL.5           SNG        1,1 -11307.49        1,0 -12145.77   \n",
       "...                             ...        ...       ...        ...       ...   \n",
       "VIB_hydrop_22.FULL.965          SNG        0,0   -404.03        1,0   -432.16   \n",
       "VIB_hydrop_22.FULL.966          SNG        0,0   -315.26        1,0   -335.18   \n",
       "VIB_hydrop_22.FULL.967          SNG        0,0   -481.27        1,0   -513.34   \n",
       "VIB_hydrop_22.FULL.968          SNG        1,1   -312.80        1,0   -321.39   \n",
       "VIB_hydrop_22.FULL.969          SNG        1,1   -359.42        1,0   -358.65   \n",
       "\n",
       "                        DIFF.LLK.BEST.NEXT  ...  SNG.BEST.LLK  SNG.NEXT.GUESS  \\\n",
       "CNA_mtscatac_1.FULL.1               301.12  ...      -4102.33               0   \n",
       "CNA_mtscatac_1.FULL.2               238.75  ...      -3068.55               1   \n",
       "CNA_mtscatac_1.FULL.3               350.30  ...      -9844.04               0   \n",
       "CNA_mtscatac_1.FULL.4               151.28  ...      -2089.42               0   \n",
       "CNA_mtscatac_1.FULL.5               838.28  ...     -11307.49               0   \n",
       "...                                    ...  ...           ...             ...   \n",
       "VIB_hydrop_22.FULL.965               28.13  ...       -404.03               1   \n",
       "VIB_hydrop_22.FULL.966               19.92  ...       -315.26               1   \n",
       "VIB_hydrop_22.FULL.967               32.07  ...       -481.27               1   \n",
       "VIB_hydrop_22.FULL.968                8.59  ...       -312.80               0   \n",
       "VIB_hydrop_22.FULL.969               -0.77  ...       -359.42               0   \n",
       "\n",
       "                        SNG.NEXT.LLK  SNG.ONLY.POSTERIOR  DBL.BEST.GUESS  \\\n",
       "CNA_mtscatac_1.FULL.1       -5006.85             1.00000             1,0   \n",
       "CNA_mtscatac_1.FULL.2       -3808.83             1.00000             1,0   \n",
       "CNA_mtscatac_1.FULL.3      -11116.48             1.00000             1,0   \n",
       "CNA_mtscatac_1.FULL.4       -2537.00             1.00000             1,0   \n",
       "CNA_mtscatac_1.FULL.5      -13886.90             1.00000             1,0   \n",
       "...                              ...                 ...             ...   \n",
       "VIB_hydrop_22.FULL.965       -495.29             1.00000             1,0   \n",
       "VIB_hydrop_22.FULL.966       -385.62             1.00000             1,0   \n",
       "VIB_hydrop_22.FULL.967       -582.89             1.00000             1,0   \n",
       "VIB_hydrop_22.FULL.968       -342.76             1.00000             1,0   \n",
       "VIB_hydrop_22.FULL.969       -369.17             0.99994             1,0   \n",
       "\n",
       "                        DBL.BEST.LLK  DIFF.LLK.SNG.DBL  \\\n",
       "CNA_mtscatac_1.FULL.1       -4403.45            301.12   \n",
       "CNA_mtscatac_1.FULL.2       -3307.30            238.75   \n",
       "CNA_mtscatac_1.FULL.3      -10194.35            350.30   \n",
       "CNA_mtscatac_1.FULL.4       -2240.71            151.28   \n",
       "CNA_mtscatac_1.FULL.5      -12145.77            838.28   \n",
       "...                              ...               ...   \n",
       "VIB_hydrop_22.FULL.965       -432.16             28.13   \n",
       "VIB_hydrop_22.FULL.966       -335.18             19.92   \n",
       "VIB_hydrop_22.FULL.967       -513.34             32.07   \n",
       "VIB_hydrop_22.FULL.968       -321.39              8.59   \n",
       "VIB_hydrop_22.FULL.969       -358.65             -0.77   \n",
       "\n",
       "                                                       ubarcode  \\\n",
       "CNA_mtscatac_1.FULL.1      CNA_mtscatac_1.FULL#GTCCCAGGAAAGGCCA   \n",
       "CNA_mtscatac_1.FULL.2      CNA_mtscatac_1.FULL#TGCGAGGCTCTGCCAG   \n",
       "CNA_mtscatac_1.FULL.3      CNA_mtscatac_1.FULL#AGCGTATACCAATAGA   \n",
       "CNA_mtscatac_1.FULL.4      CNA_mtscatac_1.FULL#TGTCGAAACGACCGAA   \n",
       "CNA_mtscatac_1.FULL.5      CNA_mtscatac_1.FULL#AGGTCAGGACGGTTGC   \n",
       "...                                                         ...   \n",
       "VIB_hydrop_22.FULL.965  VIB_hydrop_22.FULL#TAACCGAATCTCTCGCACGA   \n",
       "VIB_hydrop_22.FULL.966  VIB_hydrop_22.FULL#AACGATACCATGCTTGCCGT   \n",
       "VIB_hydrop_22.FULL.967  VIB_hydrop_22.FULL#GATTGGCGGTGTCCAGGCTT   \n",
       "VIB_hydrop_22.FULL.968  VIB_hydrop_22.FULL#CGTTGACCACGGTAGGTAGG   \n",
       "VIB_hydrop_22.FULL.969  VIB_hydrop_22.FULL#ACGAGTTGCCACGGTGCTCT   \n",
       "\n",
       "                                  replicate   sample  \n",
       "CNA_mtscatac_1.FULL.1   CNA_mtscatac_1.FULL  sampleA  \n",
       "CNA_mtscatac_1.FULL.2   CNA_mtscatac_1.FULL  sampleB  \n",
       "CNA_mtscatac_1.FULL.3   CNA_mtscatac_1.FULL  sampleA  \n",
       "CNA_mtscatac_1.FULL.4   CNA_mtscatac_1.FULL  sampleA  \n",
       "CNA_mtscatac_1.FULL.5   CNA_mtscatac_1.FULL  sampleA  \n",
       "...                                     ...      ...  \n",
       "VIB_hydrop_22.FULL.965   VIB_hydrop_22.FULL  sampleB  \n",
       "VIB_hydrop_22.FULL.966   VIB_hydrop_22.FULL  sampleB  \n",
       "VIB_hydrop_22.FULL.967   VIB_hydrop_22.FULL  sampleB  \n",
       "VIB_hydrop_22.FULL.968   VIB_hydrop_22.FULL  sampleA  \n",
       "VIB_hydrop_22.FULL.969   VIB_hydrop_22.FULL  sampleA  \n",
       "\n",
       "[116783 rows x 23 columns]"
      ]
     },
     "execution_count": 37,
     "metadata": {},
     "output_type": "execute_result"
    },
    {
     "data": {
      "application/javascript": [
       "\n",
       "            setTimeout(function() {\n",
       "                var nbb_cell_id = 37;\n",
       "                var nbb_unformatted_code = \"f_fmx = 'out_fmx/genotype_concordance_unified.txt'\\nfmx = pd.read_csv(f_fmx, sep='\\\\t')\\nfmx\";\n",
       "                var nbb_formatted_code = \"f_fmx = \\\"out_fmx/genotype_concordance_unified.txt\\\"\\nfmx = pd.read_csv(f_fmx, sep=\\\"\\\\t\\\")\\nfmx\";\n",
       "                var nbb_cells = Jupyter.notebook.get_cells();\n",
       "                for (var i = 0; i < nbb_cells.length; ++i) {\n",
       "                    if (nbb_cells[i].input_prompt_number == nbb_cell_id) {\n",
       "                        if (nbb_cells[i].get_text() == nbb_unformatted_code) {\n",
       "                             nbb_cells[i].set_text(nbb_formatted_code);\n",
       "                        }\n",
       "                        break;\n",
       "                    }\n",
       "                }\n",
       "            }, 500);\n",
       "            "
      ],
      "text/plain": [
       "<IPython.core.display.Javascript object>"
      ]
     },
     "metadata": {},
     "output_type": "display_data"
    }
   ],
   "source": [
    "f_fmx = 'out_fmx/genotype_concordance_unified.txt'\n",
    "fmx = pd.read_csv(f_fmx, sep='\\t')\n",
    "fmx"
   ]
  },
  {
   "cell_type": "code",
   "execution_count": 38,
   "id": "de6733fd",
   "metadata": {
    "execution": {
     "iopub.execute_input": "2022-09-25T09:03:33.862538Z",
     "iopub.status.busy": "2022-09-25T09:03:33.862308Z",
     "iopub.status.idle": "2022-09-25T09:03:33.872051Z",
     "shell.execute_reply": "2022-09-25T09:03:33.871636Z",
     "shell.execute_reply.started": "2022-09-25T09:03:33.862517Z"
    },
    "papermill": {
     "duration": null,
     "end_time": null,
     "exception": null,
     "start_time": null,
     "status": "pending"
    },
    "tags": []
   },
   "outputs": [
    {
     "data": {
      "text/plain": [
       "array(['SNG', 'DBL'], dtype=object)"
      ]
     },
     "execution_count": 38,
     "metadata": {},
     "output_type": "execute_result"
    },
    {
     "data": {
      "application/javascript": [
       "\n",
       "            setTimeout(function() {\n",
       "                var nbb_cell_id = 38;\n",
       "                var nbb_unformatted_code = \"fmx['DROPLET.TYPE'].unique()\";\n",
       "                var nbb_formatted_code = \"fmx[\\\"DROPLET.TYPE\\\"].unique()\";\n",
       "                var nbb_cells = Jupyter.notebook.get_cells();\n",
       "                for (var i = 0; i < nbb_cells.length; ++i) {\n",
       "                    if (nbb_cells[i].input_prompt_number == nbb_cell_id) {\n",
       "                        if (nbb_cells[i].get_text() == nbb_unformatted_code) {\n",
       "                             nbb_cells[i].set_text(nbb_formatted_code);\n",
       "                        }\n",
       "                        break;\n",
       "                    }\n",
       "                }\n",
       "            }, 500);\n",
       "            "
      ],
      "text/plain": [
       "<IPython.core.display.Javascript object>"
      ]
     },
     "metadata": {},
     "output_type": "display_data"
    }
   ],
   "source": [
    "fmx['DROPLET.TYPE'].unique()"
   ]
  },
  {
   "cell_type": "code",
   "execution_count": 39,
   "id": "675f37ed",
   "metadata": {
    "execution": {
     "iopub.execute_input": "2022-09-25T09:03:33.873156Z",
     "iopub.status.busy": "2022-09-25T09:03:33.872943Z",
     "iopub.status.idle": "2022-09-25T09:03:33.969336Z",
     "shell.execute_reply": "2022-09-25T09:03:33.968656Z",
     "shell.execute_reply.started": "2022-09-25T09:03:33.873136Z"
    },
    "papermill": {
     "duration": null,
     "end_time": null,
     "exception": null,
     "start_time": null,
     "status": "pending"
    },
    "tags": []
   },
   "outputs": [
    {
     "data": {
      "text/html": [
       "<div>\n",
       "<style scoped>\n",
       "    .dataframe tbody tr th:only-of-type {\n",
       "        vertical-align: middle;\n",
       "    }\n",
       "\n",
       "    .dataframe tbody tr th {\n",
       "        vertical-align: top;\n",
       "    }\n",
       "\n",
       "    .dataframe thead th {\n",
       "        text-align: right;\n",
       "    }\n",
       "</style>\n",
       "<table border=\"1\" class=\"dataframe\">\n",
       "  <thead>\n",
       "    <tr style=\"text-align: right;\">\n",
       "      <th></th>\n",
       "      <th>fmx_droplet_type</th>\n",
       "      <th>fmx_sample</th>\n",
       "    </tr>\n",
       "    <tr>\n",
       "      <th>cell_names</th>\n",
       "      <th></th>\n",
       "      <th></th>\n",
       "    </tr>\n",
       "  </thead>\n",
       "  <tbody>\n",
       "    <tr>\n",
       "      <th>GTCCCAGGAAAGGCCA___CNA_mtscatac_1.FULL</th>\n",
       "      <td>SNG</td>\n",
       "      <td>sampleA</td>\n",
       "    </tr>\n",
       "    <tr>\n",
       "      <th>TGCGAGGCTCTGCCAG___CNA_mtscatac_1.FULL</th>\n",
       "      <td>SNG</td>\n",
       "      <td>sampleB</td>\n",
       "    </tr>\n",
       "    <tr>\n",
       "      <th>AGCGTATACCAATAGA___CNA_mtscatac_1.FULL</th>\n",
       "      <td>SNG</td>\n",
       "      <td>sampleA</td>\n",
       "    </tr>\n",
       "    <tr>\n",
       "      <th>TGTCGAAACGACCGAA___CNA_mtscatac_1.FULL</th>\n",
       "      <td>SNG</td>\n",
       "      <td>sampleA</td>\n",
       "    </tr>\n",
       "    <tr>\n",
       "      <th>AGGTCAGGACGGTTGC___CNA_mtscatac_1.FULL</th>\n",
       "      <td>SNG</td>\n",
       "      <td>sampleA</td>\n",
       "    </tr>\n",
       "    <tr>\n",
       "      <th>...</th>\n",
       "      <td>...</td>\n",
       "      <td>...</td>\n",
       "    </tr>\n",
       "    <tr>\n",
       "      <th>TAACCGAATCTCTCGCACGA___VIB_hydrop_22.FULL</th>\n",
       "      <td>SNG</td>\n",
       "      <td>sampleB</td>\n",
       "    </tr>\n",
       "    <tr>\n",
       "      <th>AACGATACCATGCTTGCCGT___VIB_hydrop_22.FULL</th>\n",
       "      <td>SNG</td>\n",
       "      <td>sampleB</td>\n",
       "    </tr>\n",
       "    <tr>\n",
       "      <th>GATTGGCGGTGTCCAGGCTT___VIB_hydrop_22.FULL</th>\n",
       "      <td>SNG</td>\n",
       "      <td>sampleB</td>\n",
       "    </tr>\n",
       "    <tr>\n",
       "      <th>CGTTGACCACGGTAGGTAGG___VIB_hydrop_22.FULL</th>\n",
       "      <td>SNG</td>\n",
       "      <td>sampleA</td>\n",
       "    </tr>\n",
       "    <tr>\n",
       "      <th>ACGAGTTGCCACGGTGCTCT___VIB_hydrop_22.FULL</th>\n",
       "      <td>SNG</td>\n",
       "      <td>sampleA</td>\n",
       "    </tr>\n",
       "  </tbody>\n",
       "</table>\n",
       "<p>116783 rows × 2 columns</p>\n",
       "</div>"
      ],
      "text/plain": [
       "                                          fmx_droplet_type fmx_sample\n",
       "cell_names                                                           \n",
       "GTCCCAGGAAAGGCCA___CNA_mtscatac_1.FULL                 SNG    sampleA\n",
       "TGCGAGGCTCTGCCAG___CNA_mtscatac_1.FULL                 SNG    sampleB\n",
       "AGCGTATACCAATAGA___CNA_mtscatac_1.FULL                 SNG    sampleA\n",
       "TGTCGAAACGACCGAA___CNA_mtscatac_1.FULL                 SNG    sampleA\n",
       "AGGTCAGGACGGTTGC___CNA_mtscatac_1.FULL                 SNG    sampleA\n",
       "...                                                    ...        ...\n",
       "TAACCGAATCTCTCGCACGA___VIB_hydrop_22.FULL              SNG    sampleB\n",
       "AACGATACCATGCTTGCCGT___VIB_hydrop_22.FULL              SNG    sampleB\n",
       "GATTGGCGGTGTCCAGGCTT___VIB_hydrop_22.FULL              SNG    sampleB\n",
       "CGTTGACCACGGTAGGTAGG___VIB_hydrop_22.FULL              SNG    sampleA\n",
       "ACGAGTTGCCACGGTGCTCT___VIB_hydrop_22.FULL              SNG    sampleA\n",
       "\n",
       "[116783 rows x 2 columns]"
      ]
     },
     "execution_count": 39,
     "metadata": {},
     "output_type": "execute_result"
    },
    {
     "data": {
      "application/javascript": [
       "\n",
       "            setTimeout(function() {\n",
       "                var nbb_cell_id = 39;\n",
       "                var nbb_unformatted_code = \"# create an annotation df:\\nfmx['cell_names'] = fmx['BARCODE'] + \\\"___\\\" + fmx['replicate']\\n\\nfmx_annot = fmx[['DROPLET.TYPE','sample','cell_names']].copy().set_index('cell_names')\\nfmx_annot.columns = ['fmx_droplet_type','fmx_sample']\\nfmx_annot\";\n",
       "                var nbb_formatted_code = \"# create an annotation df:\\nfmx[\\\"cell_names\\\"] = fmx[\\\"BARCODE\\\"] + \\\"___\\\" + fmx[\\\"replicate\\\"]\\n\\nfmx_annot = fmx[[\\\"DROPLET.TYPE\\\", \\\"sample\\\", \\\"cell_names\\\"]].copy().set_index(\\\"cell_names\\\")\\nfmx_annot.columns = [\\\"fmx_droplet_type\\\", \\\"fmx_sample\\\"]\\nfmx_annot\";\n",
       "                var nbb_cells = Jupyter.notebook.get_cells();\n",
       "                for (var i = 0; i < nbb_cells.length; ++i) {\n",
       "                    if (nbb_cells[i].input_prompt_number == nbb_cell_id) {\n",
       "                        if (nbb_cells[i].get_text() == nbb_unformatted_code) {\n",
       "                             nbb_cells[i].set_text(nbb_formatted_code);\n",
       "                        }\n",
       "                        break;\n",
       "                    }\n",
       "                }\n",
       "            }, 500);\n",
       "            "
      ],
      "text/plain": [
       "<IPython.core.display.Javascript object>"
      ]
     },
     "metadata": {},
     "output_type": "display_data"
    }
   ],
   "source": [
    "# create an annotation df:\n",
    "fmx['cell_names'] = fmx['BARCODE'] + \"___\" + fmx['replicate']\n",
    "\n",
    "fmx_annot = fmx[['DROPLET.TYPE','sample','cell_names']].copy().set_index('cell_names')\n",
    "fmx_annot.columns = ['fmx_droplet_type','fmx_sample']\n",
    "fmx_annot"
   ]
  },
  {
   "cell_type": "code",
   "execution_count": 40,
   "id": "768a7fcf",
   "metadata": {
    "execution": {
     "iopub.execute_input": "2022-09-25T09:03:33.970404Z",
     "iopub.status.busy": "2022-09-25T09:03:33.970178Z",
     "iopub.status.idle": "2022-09-25T09:03:34.052464Z",
     "shell.execute_reply": "2022-09-25T09:03:34.051998Z",
     "shell.execute_reply.started": "2022-09-25T09:03:33.970383Z"
    },
    "papermill": {
     "duration": null,
     "end_time": null,
     "exception": null,
     "start_time": null,
     "status": "pending"
    },
    "tags": []
   },
   "outputs": [
    {
     "data": {
      "text/plain": [
       "['BRO_mtscatac_1.FULL',\n",
       " 'BRO_mtscatac_2.FULL',\n",
       " 'CNA_10xmultiome_1.FULL',\n",
       " 'CNA_10xmultiome_2.FULL',\n",
       " 'CNA_10xv11_1.FULL',\n",
       " 'CNA_10xv11_2.FULL',\n",
       " 'CNA_10xv11_3.FULL',\n",
       " 'CNA_10xv11_4.FULL',\n",
       " 'CNA_10xv11_5.FULL',\n",
       " 'CNA_10xv2_1.FULL',\n",
       " 'CNA_10xv2_2.FULL',\n",
       " 'CNA_hydrop_1.FULL',\n",
       " 'CNA_hydrop_2.FULL',\n",
       " 'CNA_hydrop_3.FULL',\n",
       " 'CNA_mtscatac_1.FULL',\n",
       " 'CNA_mtscatac_2.FULL',\n",
       " 'EPF_hydrop_1.FULL',\n",
       " 'EPF_hydrop_2.FULL',\n",
       " 'EPF_hydrop_3.FULL',\n",
       " 'EPF_hydrop_4.FULL',\n",
       " 'HAR_ddseq_1.FULL',\n",
       " 'HAR_ddseq_2.FULL',\n",
       " 'MDC_mtscatac_1.FULL',\n",
       " 'MDC_mtscatac_2.FULL',\n",
       " 'SAN_10xmultiome_1.FULL',\n",
       " 'SAN_10xmultiome_2.FULL',\n",
       " 'STA_10xv11_1.FULL',\n",
       " 'STA_10xv11_2.FULL',\n",
       " 'VIB_10xmultiome_1.FULL',\n",
       " 'VIB_10xmultiome_2.FULL',\n",
       " 'VIB_10xv1_1.FULL',\n",
       " 'VIB_10xv1_2.FULL',\n",
       " 'VIB_10xv2_1.FULL',\n",
       " 'VIB_10xv2_2.FULL',\n",
       " 'VIB_hydrop_11.FULL',\n",
       " 'VIB_hydrop_12.FULL',\n",
       " 'VIB_hydrop_21.FULL',\n",
       " 'VIB_hydrop_22.FULL']"
      ]
     },
     "execution_count": 40,
     "metadata": {},
     "output_type": "execute_result"
    },
    {
     "data": {
      "application/javascript": [
       "\n",
       "            setTimeout(function() {\n",
       "                var nbb_cell_id = 40;\n",
       "                var nbb_unformatted_code = \"fmx_samples = sorted(list(set([x.split('.')[0] + '.' + x.split('.')[1] for x in fmx.index])))\\n[x for x in fmx_samples]\";\n",
       "                var nbb_formatted_code = \"fmx_samples = sorted(\\n    list(set([x.split(\\\".\\\")[0] + \\\".\\\" + x.split(\\\".\\\")[1] for x in fmx.index]))\\n)\\n[x for x in fmx_samples]\";\n",
       "                var nbb_cells = Jupyter.notebook.get_cells();\n",
       "                for (var i = 0; i < nbb_cells.length; ++i) {\n",
       "                    if (nbb_cells[i].input_prompt_number == nbb_cell_id) {\n",
       "                        if (nbb_cells[i].get_text() == nbb_unformatted_code) {\n",
       "                             nbb_cells[i].set_text(nbb_formatted_code);\n",
       "                        }\n",
       "                        break;\n",
       "                    }\n",
       "                }\n",
       "            }, 500);\n",
       "            "
      ],
      "text/plain": [
       "<IPython.core.display.Javascript object>"
      ]
     },
     "metadata": {},
     "output_type": "display_data"
    }
   ],
   "source": [
    "fmx_samples = sorted(list(set([x.split('.')[0] + '.' + x.split('.')[1] for x in fmx.index])))\n",
    "[x for x in fmx_samples]"
   ]
  },
  {
   "cell_type": "code",
   "execution_count": 41,
   "id": "b6d4a3b7",
   "metadata": {
    "execution": {
     "iopub.execute_input": "2022-09-25T09:03:34.053655Z",
     "iopub.status.busy": "2022-09-25T09:03:34.053453Z",
     "iopub.status.idle": "2022-09-25T09:03:34.059160Z",
     "shell.execute_reply": "2022-09-25T09:03:34.058743Z",
     "shell.execute_reply.started": "2022-09-25T09:03:34.053636Z"
    },
    "papermill": {
     "duration": null,
     "end_time": null,
     "exception": null,
     "start_time": null,
     "status": "pending"
    },
    "tags": []
   },
   "outputs": [
    {
     "name": "stdout",
     "output_type": "stream",
     "text": [
      "38\n"
     ]
    },
    {
     "data": {
      "application/javascript": [
       "\n",
       "            setTimeout(function() {\n",
       "                var nbb_cell_id = 41;\n",
       "                var nbb_unformatted_code = \"print(len(fmx_samples))\";\n",
       "                var nbb_formatted_code = \"print(len(fmx_samples))\";\n",
       "                var nbb_cells = Jupyter.notebook.get_cells();\n",
       "                for (var i = 0; i < nbb_cells.length; ++i) {\n",
       "                    if (nbb_cells[i].input_prompt_number == nbb_cell_id) {\n",
       "                        if (nbb_cells[i].get_text() == nbb_unformatted_code) {\n",
       "                             nbb_cells[i].set_text(nbb_formatted_code);\n",
       "                        }\n",
       "                        break;\n",
       "                    }\n",
       "                }\n",
       "            }, 500);\n",
       "            "
      ],
      "text/plain": [
       "<IPython.core.display.Javascript object>"
      ]
     },
     "metadata": {},
     "output_type": "display_data"
    }
   ],
   "source": [
    "print(len(fmx_samples))"
   ]
  },
  {
   "cell_type": "markdown",
   "id": "427d2c90",
   "metadata": {
    "papermill": {
     "duration": null,
     "end_time": null,
     "exception": null,
     "start_time": null,
     "status": "pending"
    },
    "tags": []
   },
   "source": [
    "# Read scrublet ctos"
   ]
  },
  {
   "cell_type": "code",
   "execution_count": 42,
   "id": "d4bf77e7",
   "metadata": {
    "execution": {
     "iopub.execute_input": "2022-09-25T09:03:34.060190Z",
     "iopub.status.busy": "2022-09-25T09:03:34.059996Z",
     "iopub.status.idle": "2022-09-25T09:03:34.078399Z",
     "shell.execute_reply": "2022-09-25T09:03:34.077948Z",
     "shell.execute_reply.started": "2022-09-25T09:03:34.060172Z"
    },
    "papermill": {
     "duration": null,
     "end_time": null,
     "exception": null,
     "start_time": null,
     "status": "pending"
    },
    "tags": []
   },
   "outputs": [
    {
     "data": {
      "text/plain": [
       "{'BIO_ddseq_1.FULL': 'cistopic_objects/BIO_ddseq_1.FULL__cto.scrublet0-4.pkl',\n",
       " 'BIO_ddseq_2.FULL': 'cistopic_objects/BIO_ddseq_2.FULL__cto.scrublet0-4.pkl',\n",
       " 'BIO_ddseq_3.FULL': 'cistopic_objects/BIO_ddseq_3.FULL__cto.scrublet0-4.pkl',\n",
       " 'BIO_ddseq_4.FULL': 'cistopic_objects/BIO_ddseq_4.FULL__cto.scrublet0-4.pkl',\n",
       " 'BRO_mtscatac_1.FULL': 'cistopic_objects/BRO_mtscatac_1.FULL__cto.scrublet0-4.pkl',\n",
       " 'BRO_mtscatac_2.FULL': 'cistopic_objects/BRO_mtscatac_2.FULL__cto.scrublet0-4.pkl',\n",
       " 'CNA_10xmultiome_1.FULL': 'cistopic_objects/CNA_10xmultiome_1.FULL__cto.scrublet0-4.pkl',\n",
       " 'CNA_10xmultiome_2.FULL': 'cistopic_objects/CNA_10xmultiome_2.FULL__cto.scrublet0-4.pkl',\n",
       " 'CNA_10xv11_1.FULL': 'cistopic_objects/CNA_10xv11_1.FULL__cto.scrublet0-4.pkl',\n",
       " 'CNA_10xv11_2.FULL': 'cistopic_objects/CNA_10xv11_2.FULL__cto.scrublet0-4.pkl',\n",
       " 'CNA_10xv11_3.FULL': 'cistopic_objects/CNA_10xv11_3.FULL__cto.scrublet0-4.pkl',\n",
       " 'CNA_10xv11_4.FULL': 'cistopic_objects/CNA_10xv11_4.FULL__cto.scrublet0-4.pkl',\n",
       " 'CNA_10xv11_5.FULL': 'cistopic_objects/CNA_10xv11_5.FULL__cto.scrublet0-4.pkl',\n",
       " 'CNA_10xv2_1.FULL': 'cistopic_objects/CNA_10xv2_1.FULL__cto.scrublet0-4.pkl',\n",
       " 'CNA_10xv2_2.FULL': 'cistopic_objects/CNA_10xv2_2.FULL__cto.scrublet0-4.pkl',\n",
       " 'CNA_hydrop_1.FULL': 'cistopic_objects/CNA_hydrop_1.FULL__cto.scrublet0-4.pkl',\n",
       " 'CNA_hydrop_2.FULL': 'cistopic_objects/CNA_hydrop_2.FULL__cto.scrublet0-4.pkl',\n",
       " 'CNA_hydrop_3.FULL': 'cistopic_objects/CNA_hydrop_3.FULL__cto.scrublet0-4.pkl',\n",
       " 'CNA_mtscatac_1.FULL': 'cistopic_objects/CNA_mtscatac_1.FULL__cto.scrublet0-4.pkl',\n",
       " 'CNA_mtscatac_2.FULL': 'cistopic_objects/CNA_mtscatac_2.FULL__cto.scrublet0-4.pkl',\n",
       " 'EPF_hydrop_1.FULL': 'cistopic_objects/EPF_hydrop_1.FULL__cto.scrublet0-4.pkl',\n",
       " 'EPF_hydrop_2.FULL': 'cistopic_objects/EPF_hydrop_2.FULL__cto.scrublet0-4.pkl',\n",
       " 'EPF_hydrop_3.FULL': 'cistopic_objects/EPF_hydrop_3.FULL__cto.scrublet0-4.pkl',\n",
       " 'EPF_hydrop_4.FULL': 'cistopic_objects/EPF_hydrop_4.FULL__cto.scrublet0-4.pkl',\n",
       " 'HAR_ddseq_1.FULL': 'cistopic_objects/HAR_ddseq_1.FULL__cto.scrublet0-4.pkl',\n",
       " 'HAR_ddseq_2.FULL': 'cistopic_objects/HAR_ddseq_2.FULL__cto.scrublet0-4.pkl',\n",
       " 'MDC_mtscatac_1.FULL': 'cistopic_objects/MDC_mtscatac_1.FULL__cto.scrublet0-4.pkl',\n",
       " 'MDC_mtscatac_2.FULL': 'cistopic_objects/MDC_mtscatac_2.FULL__cto.scrublet0-4.pkl',\n",
       " 'OHS_s3atac_1.FULL': 'cistopic_objects/OHS_s3atac_1.FULL__cto.scrublet0-4.pkl',\n",
       " 'OHS_s3atac_2.FULL': 'cistopic_objects/OHS_s3atac_2.FULL__cto.scrublet0-4.pkl',\n",
       " 'SAN_10xmultiome_1.FULL': 'cistopic_objects/SAN_10xmultiome_1.FULL__cto.scrublet0-4.pkl',\n",
       " 'SAN_10xmultiome_2.FULL': 'cistopic_objects/SAN_10xmultiome_2.FULL__cto.scrublet0-4.pkl',\n",
       " 'STA_10xv11_1.FULL': 'cistopic_objects/STA_10xv11_1.FULL__cto.scrublet0-4.pkl',\n",
       " 'STA_10xv11_2.FULL': 'cistopic_objects/STA_10xv11_2.FULL__cto.scrublet0-4.pkl',\n",
       " 'TXG_10xv11_1.FULL': 'cistopic_objects/TXG_10xv11_1.FULL__cto.scrublet0-4.pkl',\n",
       " 'TXG_10xv2_1.FULL': 'cistopic_objects/TXG_10xv2_1.FULL__cto.scrublet0-4.pkl',\n",
       " 'TXG_10xv2_2.FULL': 'cistopic_objects/TXG_10xv2_2.FULL__cto.scrublet0-4.pkl',\n",
       " 'UCS_ddseq_1.FULL': 'cistopic_objects/UCS_ddseq_1.FULL__cto.scrublet0-4.pkl',\n",
       " 'UCS_ddseq_2.FULL': 'cistopic_objects/UCS_ddseq_2.FULL__cto.scrublet0-4.pkl',\n",
       " 'VIB_10xmultiome_1.FULL': 'cistopic_objects/VIB_10xmultiome_1.FULL__cto.scrublet0-4.pkl',\n",
       " 'VIB_10xmultiome_2.FULL': 'cistopic_objects/VIB_10xmultiome_2.FULL__cto.scrublet0-4.pkl',\n",
       " 'VIB_10xv1_1.FULL': 'cistopic_objects/VIB_10xv1_1.FULL__cto.scrublet0-4.pkl',\n",
       " 'VIB_10xv1_2.FULL': 'cistopic_objects/VIB_10xv1_2.FULL__cto.scrublet0-4.pkl',\n",
       " 'VIB_10xv2_1.FULL': 'cistopic_objects/VIB_10xv2_1.FULL__cto.scrublet0-4.pkl',\n",
       " 'VIB_10xv2_2.FULL': 'cistopic_objects/VIB_10xv2_2.FULL__cto.scrublet0-4.pkl',\n",
       " 'VIB_hydrop_1.FULL': 'cistopic_objects/VIB_hydrop_1.FULL__cto.scrublet0-4.pkl',\n",
       " 'VIB_hydrop_11.FULL': 'cistopic_objects/VIB_hydrop_11.FULL__cto.scrublet0-4.pkl',\n",
       " 'VIB_hydrop_12.FULL': 'cistopic_objects/VIB_hydrop_12.FULL__cto.scrublet0-4.pkl',\n",
       " 'VIB_hydrop_2.FULL': 'cistopic_objects/VIB_hydrop_2.FULL__cto.scrublet0-4.pkl',\n",
       " 'VIB_hydrop_21.FULL': 'cistopic_objects/VIB_hydrop_21.FULL__cto.scrublet0-4.pkl',\n",
       " 'VIB_hydrop_22.FULL': 'cistopic_objects/VIB_hydrop_22.FULL__cto.scrublet0-4.pkl'}"
      ]
     },
     "execution_count": 42,
     "metadata": {},
     "output_type": "execute_result"
    },
    {
     "data": {
      "application/javascript": [
       "\n",
       "            setTimeout(function() {\n",
       "                var nbb_cell_id = 42;\n",
       "                var nbb_unformatted_code = \"scrubcto_dict = {x.split('/')[-1].split(f'__cto.scrublet{scrub_name_suffix}.pkl')[0]:x for x in sorted(glob.glob(f'cistopic_objects/*__cto.scrublet{scrub_name_suffix}.pkl'))}\\nscrubcto_dict\";\n",
       "                var nbb_formatted_code = \"scrubcto_dict = {\\n    x.split(\\\"/\\\")[-1].split(f\\\"__cto.scrublet{scrub_name_suffix}.pkl\\\")[0]: x\\n    for x in sorted(\\n        glob.glob(f\\\"cistopic_objects/*__cto.scrublet{scrub_name_suffix}.pkl\\\")\\n    )\\n}\\nscrubcto_dict\";\n",
       "                var nbb_cells = Jupyter.notebook.get_cells();\n",
       "                for (var i = 0; i < nbb_cells.length; ++i) {\n",
       "                    if (nbb_cells[i].input_prompt_number == nbb_cell_id) {\n",
       "                        if (nbb_cells[i].get_text() == nbb_unformatted_code) {\n",
       "                             nbb_cells[i].set_text(nbb_formatted_code);\n",
       "                        }\n",
       "                        break;\n",
       "                    }\n",
       "                }\n",
       "            }, 500);\n",
       "            "
      ],
      "text/plain": [
       "<IPython.core.display.Javascript object>"
      ]
     },
     "metadata": {},
     "output_type": "display_data"
    }
   ],
   "source": [
    "scrubcto_dict = {x.split('/')[-1].split(f'__cto.scrublet{scrub_name_suffix}.pkl')[0]:x for x in sorted(glob.glob(f'cistopic_objects/*__cto.scrublet{scrub_name_suffix}.pkl'))}\n",
    "scrubcto_dict"
   ]
  },
  {
   "cell_type": "code",
   "execution_count": 43,
   "id": "891cf91e",
   "metadata": {
    "execution": {
     "iopub.execute_input": "2022-09-25T09:03:34.079729Z",
     "iopub.status.busy": "2022-09-25T09:03:34.079526Z",
     "iopub.status.idle": "2022-09-25T09:03:34.221398Z",
     "shell.execute_reply": "2022-09-25T09:03:34.220634Z",
     "shell.execute_reply.started": "2022-09-25T09:03:34.079711Z"
    },
    "papermill": {
     "duration": null,
     "end_time": null,
     "exception": null,
     "start_time": null,
     "status": "pending"
    },
    "tags": []
   },
   "outputs": [
    {
     "name": "stdout",
     "output_type": "stream",
     "text": [
      "BIO_ddseq_1.FULL\n",
      "\tcistopic_objects/BIO_ddseq_1.FULL__cto.scrublet0-4.fmx.singlets.pkl exists! Skipping...\n",
      "BIO_ddseq_2.FULL\n",
      "\tcistopic_objects/BIO_ddseq_2.FULL__cto.scrublet0-4.fmx.singlets.pkl exists! Skipping...\n",
      "BIO_ddseq_3.FULL\n",
      "\tcistopic_objects/BIO_ddseq_3.FULL__cto.scrublet0-4.fmx.singlets.pkl exists! Skipping...\n",
      "BIO_ddseq_4.FULL\n",
      "\tcistopic_objects/BIO_ddseq_4.FULL__cto.scrublet0-4.fmx.singlets.pkl exists! Skipping...\n",
      "BRO_mtscatac_1.FULL\n",
      "\tcistopic_objects/BRO_mtscatac_1.FULL__cto.scrublet0-4.fmx.singlets.pkl exists! Skipping...\n",
      "BRO_mtscatac_2.FULL\n",
      "\tcistopic_objects/BRO_mtscatac_2.FULL__cto.scrublet0-4.fmx.singlets.pkl exists! Skipping...\n",
      "CNA_10xmultiome_1.FULL\n",
      "\tcistopic_objects/CNA_10xmultiome_1.FULL__cto.scrublet0-4.fmx.singlets.pkl exists! Skipping...\n",
      "CNA_10xmultiome_2.FULL\n",
      "\tcistopic_objects/CNA_10xmultiome_2.FULL__cto.scrublet0-4.fmx.singlets.pkl exists! Skipping...\n",
      "CNA_10xv11_1.FULL\n",
      "\tcistopic_objects/CNA_10xv11_1.FULL__cto.scrublet0-4.fmx.singlets.pkl exists! Skipping...\n",
      "CNA_10xv11_2.FULL\n",
      "\tcistopic_objects/CNA_10xv11_2.FULL__cto.scrublet0-4.fmx.singlets.pkl exists! Skipping...\n",
      "CNA_10xv11_3.FULL\n",
      "\tcistopic_objects/CNA_10xv11_3.FULL__cto.scrublet0-4.fmx.singlets.pkl exists! Skipping...\n",
      "CNA_10xv11_4.FULL\n",
      "\tcistopic_objects/CNA_10xv11_4.FULL__cto.scrublet0-4.fmx.singlets.pkl exists! Skipping...\n",
      "CNA_10xv11_5.FULL\n",
      "\tcistopic_objects/CNA_10xv11_5.FULL__cto.scrublet0-4.fmx.singlets.pkl exists! Skipping...\n",
      "CNA_10xv2_1.FULL\n",
      "\tcistopic_objects/CNA_10xv2_1.FULL__cto.scrublet0-4.fmx.singlets.pkl exists! Skipping...\n",
      "CNA_10xv2_2.FULL\n",
      "\tcistopic_objects/CNA_10xv2_2.FULL__cto.scrublet0-4.fmx.singlets.pkl exists! Skipping...\n",
      "CNA_hydrop_1.FULL\n",
      "\tcistopic_objects/CNA_hydrop_1.FULL__cto.scrublet0-4.fmx.singlets.pkl exists! Skipping...\n",
      "CNA_hydrop_2.FULL\n",
      "\tcistopic_objects/CNA_hydrop_2.FULL__cto.scrublet0-4.fmx.singlets.pkl exists! Skipping...\n",
      "CNA_hydrop_3.FULL\n",
      "\tcistopic_objects/CNA_hydrop_3.FULL__cto.scrublet0-4.fmx.singlets.pkl exists! Skipping...\n",
      "CNA_mtscatac_1.FULL\n",
      "\tcistopic_objects/CNA_mtscatac_1.FULL__cto.scrublet0-4.fmx.singlets.pkl exists! Skipping...\n",
      "CNA_mtscatac_2.FULL\n",
      "\tcistopic_objects/CNA_mtscatac_2.FULL__cto.scrublet0-4.fmx.singlets.pkl exists! Skipping...\n",
      "EPF_hydrop_1.FULL\n",
      "\tcistopic_objects/EPF_hydrop_1.FULL__cto.scrublet0-4.fmx.singlets.pkl exists! Skipping...\n",
      "EPF_hydrop_2.FULL\n",
      "\tcistopic_objects/EPF_hydrop_2.FULL__cto.scrublet0-4.fmx.singlets.pkl exists! Skipping...\n",
      "EPF_hydrop_3.FULL\n",
      "\tcistopic_objects/EPF_hydrop_3.FULL__cto.scrublet0-4.fmx.singlets.pkl exists! Skipping...\n",
      "EPF_hydrop_4.FULL\n",
      "\tcistopic_objects/EPF_hydrop_4.FULL__cto.scrublet0-4.fmx.singlets.pkl exists! Skipping...\n",
      "HAR_ddseq_1.FULL\n",
      "\tcistopic_objects/HAR_ddseq_1.FULL__cto.scrublet0-4.fmx.singlets.pkl exists! Skipping...\n",
      "HAR_ddseq_2.FULL\n",
      "\tcistopic_objects/HAR_ddseq_2.FULL__cto.scrublet0-4.fmx.singlets.pkl exists! Skipping...\n",
      "MDC_mtscatac_1.FULL\n",
      "\tcistopic_objects/MDC_mtscatac_1.FULL__cto.scrublet0-4.fmx.singlets.pkl exists! Skipping...\n",
      "MDC_mtscatac_2.FULL\n",
      "\tcistopic_objects/MDC_mtscatac_2.FULL__cto.scrublet0-4.fmx.singlets.pkl exists! Skipping...\n",
      "OHS_s3atac_1.FULL\n",
      "\tcistopic_objects/OHS_s3atac_1.FULL__cto.scrublet0-4.fmx.singlets.pkl exists! Skipping...\n",
      "OHS_s3atac_2.FULL\n",
      "\tcistopic_objects/OHS_s3atac_2.FULL__cto.scrublet0-4.fmx.singlets.pkl exists! Skipping...\n",
      "SAN_10xmultiome_1.FULL\n",
      "\tcistopic_objects/SAN_10xmultiome_1.FULL__cto.scrublet0-4.fmx.singlets.pkl exists! Skipping...\n",
      "SAN_10xmultiome_2.FULL\n",
      "\tcistopic_objects/SAN_10xmultiome_2.FULL__cto.scrublet0-4.fmx.singlets.pkl exists! Skipping...\n",
      "STA_10xv11_1.FULL\n",
      "\tcistopic_objects/STA_10xv11_1.FULL__cto.scrublet0-4.fmx.singlets.pkl exists! Skipping...\n",
      "STA_10xv11_2.FULL\n",
      "\tcistopic_objects/STA_10xv11_2.FULL__cto.scrublet0-4.fmx.singlets.pkl exists! Skipping...\n",
      "TXG_10xv11_1.FULL\n",
      "\tcistopic_objects/TXG_10xv11_1.FULL__cto.scrublet0-4.fmx.singlets.pkl exists! Skipping...\n",
      "TXG_10xv2_1.FULL\n",
      "\tcistopic_objects/TXG_10xv2_1.FULL__cto.scrublet0-4.fmx.singlets.pkl exists! Skipping...\n",
      "TXG_10xv2_2.FULL\n",
      "\tcistopic_objects/TXG_10xv2_2.FULL__cto.scrublet0-4.fmx.singlets.pkl exists! Skipping...\n",
      "UCS_ddseq_1.FULL\n",
      "\tcistopic_objects/UCS_ddseq_1.FULL__cto.scrublet0-4.fmx.singlets.pkl exists! Skipping...\n",
      "UCS_ddseq_2.FULL\n",
      "\tcistopic_objects/UCS_ddseq_2.FULL__cto.scrublet0-4.fmx.singlets.pkl exists! Skipping...\n",
      "VIB_10xmultiome_1.FULL\n",
      "\tcistopic_objects/VIB_10xmultiome_1.FULL__cto.scrublet0-4.fmx.singlets.pkl exists! Skipping...\n",
      "VIB_10xmultiome_2.FULL\n",
      "\tcistopic_objects/VIB_10xmultiome_2.FULL__cto.scrublet0-4.fmx.singlets.pkl exists! Skipping...\n",
      "VIB_10xv1_1.FULL\n",
      "\tcistopic_objects/VIB_10xv1_1.FULL__cto.scrublet0-4.fmx.singlets.pkl exists! Skipping...\n",
      "VIB_10xv1_2.FULL\n",
      "\tcistopic_objects/VIB_10xv1_2.FULL__cto.scrublet0-4.fmx.singlets.pkl exists! Skipping...\n",
      "VIB_10xv2_1.FULL\n",
      "\tcistopic_objects/VIB_10xv2_1.FULL__cto.scrublet0-4.fmx.singlets.pkl exists! Skipping...\n",
      "VIB_10xv2_2.FULL\n",
      "\tcistopic_objects/VIB_10xv2_2.FULL__cto.scrublet0-4.fmx.singlets.pkl exists! Skipping...\n",
      "VIB_hydrop_1.FULL\n",
      "\tcistopic_objects/VIB_hydrop_1.FULL__cto.scrublet0-4.fmx.singlets.pkl exists! Skipping...\n",
      "VIB_hydrop_11.FULL\n",
      "\tcistopic_objects/VIB_hydrop_11.FULL__cto.scrublet0-4.fmx.singlets.pkl exists! Skipping...\n",
      "VIB_hydrop_12.FULL\n",
      "\tcistopic_objects/VIB_hydrop_12.FULL__cto.scrublet0-4.fmx.singlets.pkl exists! Skipping...\n",
      "VIB_hydrop_2.FULL\n",
      "\tcistopic_objects/VIB_hydrop_2.FULL__cto.scrublet0-4.fmx.singlets.pkl exists! Skipping...\n",
      "VIB_hydrop_21.FULL\n",
      "\tcistopic_objects/VIB_hydrop_21.FULL__cto.scrublet0-4.fmx.singlets.pkl exists! Skipping...\n",
      "VIB_hydrop_22.FULL\n",
      "\tcistopic_objects/VIB_hydrop_22.FULL__cto.scrublet0-4.fmx.singlets.pkl exists! Skipping...\n"
     ]
    },
    {
     "data": {
      "application/javascript": [
       "\n",
       "            setTimeout(function() {\n",
       "                var nbb_cell_id = 43;\n",
       "                var nbb_unformatted_code = \"fmx_samples = sorted(list(set([x.split('.')[0] + '.' + x.split('.')[1] for x in fmx.index])))\\nremoved_bcs_dict = {}\\n# for sample in [\\\"CNA_10xv11_1.FULL\\\"]:\\n\\nfor sample in scrubcto_dict.keys():\\n    print(f\\\"{sample}\\\")\\n    cto_path = scrubcto_dict[sample]\\n    newcto_path = cto_path.replace(f'__cto.scrublet{scrub_name_suffix}.pkl',f'__cto.scrublet{scrub_name_suffix}.fmx.singlets.pkl')\\n    if os.path.exists(newcto_path):\\n        print(f\\\"\\\\t{newcto_path} exists! Skipping...\\\")\\n        \\n    else:\\n        with open(cto_path, 'rb') as f:\\n            cto = pickle.load(f)\\n\\n        if sample in fmx_samples:\\n            print(f\\\"\\\\tLoaded {cto_path}, adding fmx data and removing fmx + scr doublets\\\")\\n            cto.add_cell_data(fmx_annot.loc[cto.cell_data.index])\\n\\n            removed_bcs_dict[sample] = {\\n                'dbl_scrublet': cto.cell_data.barcode[cto.cell_data.Predicted_doublets_fragments == True].tolist(),\\n                'dbl_fmx': cto.cell_data.barcode[cto.cell_data.fmx_droplet_type == 'DBL'].tolist(),    \\n            }\\n\\n            # Remove doublets \\n            singlets = cto.cell_data[\\n                (cto.cell_data.Predicted_doublets_fragments == False) & \\n                (cto.cell_data.fmx_droplet_type != 'DBL')\\n            ].index.tolist()\\n            print(f\\\"\\\\t{sample}: Removing {len(cto.cell_names)-len(singlets)} cells\\\")\\n\\n            fmx_doublets = set(cto.cell_data[cto.cell_data['fmx_droplet_type'] == 'DBL'].index)\\n            scr_doublets = set(cto.cell_data[cto.cell_data['Predicted_doublets_fragments'] == True].index)\\n\\n            fmx_doublets_unique = fmx_doublets - scr_doublets\\n            scr_doublets_unique = scr_doublets - fmx_doublets\\n            common_doublets = fmx_doublets.intersection(scr_doublets)\\n\\n            print(f\\\"\\\\t\\\\t{len(fmx_doublets_unique)} unique fmx doublets\\\")\\n            print(f\\\"\\\\t\\\\t{len(scr_doublets_unique)} unique scr doublets\\\")\\n            print(f\\\"\\\\t\\\\t{len(common_doublets)} common doublets\\\")\\n\\n            fmx_doublets_unique_path = cto_path.replace(f'__cto.scrublet{scrub_name_suffix}.pkl',f'__cto.scrublet{scrub_name_suffix}.fmx.fmx_doublets_unique.txt')\\n            with open(fmx_doublets_unique_path, 'w') as f:\\n                for x in fmx_doublets_unique:\\n                    f.write(f\\\"{x}\\\\n\\\")\\n\\n            scr_doublets_unique_path = cto_path.replace(f'__cto.scrublet{scrub_name_suffix}.pkl',f'__cto.scrublet{scrub_name_suffix}.fmx.scr_doublets_unique.txt')\\n            with open(scr_doublets_unique_path, 'w') as f:\\n                for x in scr_doublets_unique:\\n                    f.write(f\\\"{x}\\\\n\\\")\\n\\n            common_doublets_path = cto_path.replace(f'__cto.scrublet{scrub_name_suffix}.pkl',f'__cto.scrublet{scrub_name_suffix}.fmx.common_doublets.txt')\\n            with open(common_doublets_path, 'w') as f:\\n                for x in common_doublets:\\n                    f.write(f\\\"{x}\\\\n\\\")\\n\\n\\n        else:\\n            print(f\\\"\\\\tLoaded {cto_path}, removing scr doublets\\\")\\n            removed_bcs_dict[sample] = {\\n                'dbl_scrublet': cto.cell_data.barcode[cto.cell_data.Predicted_doublets_fragments == True].tolist()\\n            }\\n\\n            # Remove doublets \\n            singlets = cto.cell_data[\\n                (cto.cell_data.Predicted_doublets_fragments == False)\\n            ].index.tolist()\\n            print(f\\\"\\\\t{sample}: Removing {len(cto.cell_names)-len(singlets)} cells\\\")\\n\\n            scr_doublets = set(cto.cell_data[cto.cell_data['Predicted_doublets_fragments'] == True].index)\\n            print(f\\\"\\\\t\\\\t{len(scr_doublets)} scr doublets\\\")\\n\\n            \\n            scr_doublets_unique_path = cto_path.replace(f'__cto.scrublet{scrub_name_suffix}.pkl',f'__cto.scrublet{scrub_name_suffix}.fmx.scr_doublets_unique.txt')\\n            with open(scr_doublets_unique_path, 'w') as f:\\n                for x in scr_doublets:\\n                    f.write(f\\\"{x}\\\\n\\\")\\n                    \\n                    \\n        # Subset cisTopic object\\n        cto.subset(singlets)\\n\\n        # save\\n        with open(newcto_path, \\\"wb\\\") as f:\\n            pickle.dump(cto, f, protocol=4)\\n\\n        removed_bcs_path = cto_path.replace(f'__cto.scrublet{scrub_name_suffix}.pkl',f'__cto.scrublet{scrub_name_suffix}.fmx.singlets.removed_bcs.pkl')\\n        with open(removed_bcs_path, \\\"wb\\\") as f:\\n            pickle.dump(removed_bcs_dict[sample], f, protocol=4)\\n\\n        cell_data_path = cto_path.replace(f'__cto.scrublet{scrub_name_suffix}.pkl',f'__cto.scrublet{scrub_name_suffix}.fmx.singlets.cell_data.tsv')\\n        cto.cell_data.to_csv(cell_data_path)\\n\\n        print(f\\\"\\\\tWrote {newcto_path}, doublet lists and {cell_data_path}\\\\n\\\")\";\n",
       "                var nbb_formatted_code = \"fmx_samples = sorted(\\n    list(set([x.split(\\\".\\\")[0] + \\\".\\\" + x.split(\\\".\\\")[1] for x in fmx.index]))\\n)\\nremoved_bcs_dict = {}\\n# for sample in [\\\"CNA_10xv11_1.FULL\\\"]:\\n\\nfor sample in scrubcto_dict.keys():\\n    print(f\\\"{sample}\\\")\\n    cto_path = scrubcto_dict[sample]\\n    newcto_path = cto_path.replace(\\n        f\\\"__cto.scrublet{scrub_name_suffix}.pkl\\\",\\n        f\\\"__cto.scrublet{scrub_name_suffix}.fmx.singlets.pkl\\\",\\n    )\\n    if os.path.exists(newcto_path):\\n        print(f\\\"\\\\t{newcto_path} exists! Skipping...\\\")\\n\\n    else:\\n        with open(cto_path, \\\"rb\\\") as f:\\n            cto = pickle.load(f)\\n\\n        if sample in fmx_samples:\\n            print(\\n                f\\\"\\\\tLoaded {cto_path}, adding fmx data and removing fmx + scr doublets\\\"\\n            )\\n            cto.add_cell_data(fmx_annot.loc[cto.cell_data.index])\\n\\n            removed_bcs_dict[sample] = {\\n                \\\"dbl_scrublet\\\": cto.cell_data.barcode[\\n                    cto.cell_data.Predicted_doublets_fragments == True\\n                ].tolist(),\\n                \\\"dbl_fmx\\\": cto.cell_data.barcode[\\n                    cto.cell_data.fmx_droplet_type == \\\"DBL\\\"\\n                ].tolist(),\\n            }\\n\\n            # Remove doublets\\n            singlets = cto.cell_data[\\n                (cto.cell_data.Predicted_doublets_fragments == False)\\n                & (cto.cell_data.fmx_droplet_type != \\\"DBL\\\")\\n            ].index.tolist()\\n            print(f\\\"\\\\t{sample}: Removing {len(cto.cell_names)-len(singlets)} cells\\\")\\n\\n            fmx_doublets = set(\\n                cto.cell_data[cto.cell_data[\\\"fmx_droplet_type\\\"] == \\\"DBL\\\"].index\\n            )\\n            scr_doublets = set(\\n                cto.cell_data[\\n                    cto.cell_data[\\\"Predicted_doublets_fragments\\\"] == True\\n                ].index\\n            )\\n\\n            fmx_doublets_unique = fmx_doublets - scr_doublets\\n            scr_doublets_unique = scr_doublets - fmx_doublets\\n            common_doublets = fmx_doublets.intersection(scr_doublets)\\n\\n            print(f\\\"\\\\t\\\\t{len(fmx_doublets_unique)} unique fmx doublets\\\")\\n            print(f\\\"\\\\t\\\\t{len(scr_doublets_unique)} unique scr doublets\\\")\\n            print(f\\\"\\\\t\\\\t{len(common_doublets)} common doublets\\\")\\n\\n            fmx_doublets_unique_path = cto_path.replace(\\n                f\\\"__cto.scrublet{scrub_name_suffix}.pkl\\\",\\n                f\\\"__cto.scrublet{scrub_name_suffix}.fmx.fmx_doublets_unique.txt\\\",\\n            )\\n            with open(fmx_doublets_unique_path, \\\"w\\\") as f:\\n                for x in fmx_doublets_unique:\\n                    f.write(f\\\"{x}\\\\n\\\")\\n\\n            scr_doublets_unique_path = cto_path.replace(\\n                f\\\"__cto.scrublet{scrub_name_suffix}.pkl\\\",\\n                f\\\"__cto.scrublet{scrub_name_suffix}.fmx.scr_doublets_unique.txt\\\",\\n            )\\n            with open(scr_doublets_unique_path, \\\"w\\\") as f:\\n                for x in scr_doublets_unique:\\n                    f.write(f\\\"{x}\\\\n\\\")\\n\\n            common_doublets_path = cto_path.replace(\\n                f\\\"__cto.scrublet{scrub_name_suffix}.pkl\\\",\\n                f\\\"__cto.scrublet{scrub_name_suffix}.fmx.common_doublets.txt\\\",\\n            )\\n            with open(common_doublets_path, \\\"w\\\") as f:\\n                for x in common_doublets:\\n                    f.write(f\\\"{x}\\\\n\\\")\\n\\n        else:\\n            print(f\\\"\\\\tLoaded {cto_path}, removing scr doublets\\\")\\n            removed_bcs_dict[sample] = {\\n                \\\"dbl_scrublet\\\": cto.cell_data.barcode[\\n                    cto.cell_data.Predicted_doublets_fragments == True\\n                ].tolist()\\n            }\\n\\n            # Remove doublets\\n            singlets = cto.cell_data[\\n                (cto.cell_data.Predicted_doublets_fragments == False)\\n            ].index.tolist()\\n            print(f\\\"\\\\t{sample}: Removing {len(cto.cell_names)-len(singlets)} cells\\\")\\n\\n            scr_doublets = set(\\n                cto.cell_data[\\n                    cto.cell_data[\\\"Predicted_doublets_fragments\\\"] == True\\n                ].index\\n            )\\n            print(f\\\"\\\\t\\\\t{len(scr_doublets)} scr doublets\\\")\\n\\n            scr_doublets_unique_path = cto_path.replace(\\n                f\\\"__cto.scrublet{scrub_name_suffix}.pkl\\\",\\n                f\\\"__cto.scrublet{scrub_name_suffix}.fmx.scr_doublets_unique.txt\\\",\\n            )\\n            with open(scr_doublets_unique_path, \\\"w\\\") as f:\\n                for x in scr_doublets:\\n                    f.write(f\\\"{x}\\\\n\\\")\\n\\n        # Subset cisTopic object\\n        cto.subset(singlets)\\n\\n        # save\\n        with open(newcto_path, \\\"wb\\\") as f:\\n            pickle.dump(cto, f, protocol=4)\\n\\n        removed_bcs_path = cto_path.replace(\\n            f\\\"__cto.scrublet{scrub_name_suffix}.pkl\\\",\\n            f\\\"__cto.scrublet{scrub_name_suffix}.fmx.singlets.removed_bcs.pkl\\\",\\n        )\\n        with open(removed_bcs_path, \\\"wb\\\") as f:\\n            pickle.dump(removed_bcs_dict[sample], f, protocol=4)\\n\\n        cell_data_path = cto_path.replace(\\n            f\\\"__cto.scrublet{scrub_name_suffix}.pkl\\\",\\n            f\\\"__cto.scrublet{scrub_name_suffix}.fmx.singlets.cell_data.tsv\\\",\\n        )\\n        cto.cell_data.to_csv(cell_data_path)\\n\\n        print(f\\\"\\\\tWrote {newcto_path}, doublet lists and {cell_data_path}\\\\n\\\")\";\n",
       "                var nbb_cells = Jupyter.notebook.get_cells();\n",
       "                for (var i = 0; i < nbb_cells.length; ++i) {\n",
       "                    if (nbb_cells[i].input_prompt_number == nbb_cell_id) {\n",
       "                        if (nbb_cells[i].get_text() == nbb_unformatted_code) {\n",
       "                             nbb_cells[i].set_text(nbb_formatted_code);\n",
       "                        }\n",
       "                        break;\n",
       "                    }\n",
       "                }\n",
       "            }, 500);\n",
       "            "
      ],
      "text/plain": [
       "<IPython.core.display.Javascript object>"
      ]
     },
     "metadata": {},
     "output_type": "display_data"
    }
   ],
   "source": [
    "fmx_samples = sorted(list(set([x.split('.')[0] + '.' + x.split('.')[1] for x in fmx.index])))\n",
    "removed_bcs_dict = {}\n",
    "# for sample in [\"CNA_10xv11_1.FULL\"]:\n",
    "\n",
    "for sample in scrubcto_dict.keys():\n",
    "    print(f\"{sample}\")\n",
    "    cto_path = scrubcto_dict[sample]\n",
    "    newcto_path = cto_path.replace(f'__cto.scrublet{scrub_name_suffix}.pkl',f'__cto.scrublet{scrub_name_suffix}.fmx.singlets.pkl')\n",
    "    if os.path.exists(newcto_path):\n",
    "        print(f\"\\t{newcto_path} exists! Skipping...\")\n",
    "        \n",
    "    else:\n",
    "        with open(cto_path, 'rb') as f:\n",
    "            cto = pickle.load(f)\n",
    "\n",
    "        if sample in fmx_samples:\n",
    "            print(f\"\\tLoaded {cto_path}, adding fmx data and removing fmx + scr doublets\")\n",
    "            cto.add_cell_data(fmx_annot.loc[cto.cell_data.index])\n",
    "\n",
    "            removed_bcs_dict[sample] = {\n",
    "                'dbl_scrublet': cto.cell_data.barcode[cto.cell_data.Predicted_doublets_fragments == True].tolist(),\n",
    "                'dbl_fmx': cto.cell_data.barcode[cto.cell_data.fmx_droplet_type == 'DBL'].tolist(),    \n",
    "            }\n",
    "\n",
    "            # Remove doublets \n",
    "            singlets = cto.cell_data[\n",
    "                (cto.cell_data.Predicted_doublets_fragments == False) & \n",
    "                (cto.cell_data.fmx_droplet_type != 'DBL')\n",
    "            ].index.tolist()\n",
    "            print(f\"\\t{sample}: Removing {len(cto.cell_names)-len(singlets)} cells\")\n",
    "\n",
    "            fmx_doublets = set(cto.cell_data[cto.cell_data['fmx_droplet_type'] == 'DBL'].index)\n",
    "            scr_doublets = set(cto.cell_data[cto.cell_data['Predicted_doublets_fragments'] == True].index)\n",
    "\n",
    "            fmx_doublets_unique = fmx_doublets - scr_doublets\n",
    "            scr_doublets_unique = scr_doublets - fmx_doublets\n",
    "            common_doublets = fmx_doublets.intersection(scr_doublets)\n",
    "\n",
    "            print(f\"\\t\\t{len(fmx_doublets_unique)} unique fmx doublets\")\n",
    "            print(f\"\\t\\t{len(scr_doublets_unique)} unique scr doublets\")\n",
    "            print(f\"\\t\\t{len(common_doublets)} common doublets\")\n",
    "\n",
    "            fmx_doublets_unique_path = cto_path.replace(f'__cto.scrublet{scrub_name_suffix}.pkl',f'__cto.scrublet{scrub_name_suffix}.fmx.fmx_doublets_unique.txt')\n",
    "            with open(fmx_doublets_unique_path, 'w') as f:\n",
    "                for x in fmx_doublets_unique:\n",
    "                    f.write(f\"{x}\\n\")\n",
    "\n",
    "            scr_doublets_unique_path = cto_path.replace(f'__cto.scrublet{scrub_name_suffix}.pkl',f'__cto.scrublet{scrub_name_suffix}.fmx.scr_doublets_unique.txt')\n",
    "            with open(scr_doublets_unique_path, 'w') as f:\n",
    "                for x in scr_doublets_unique:\n",
    "                    f.write(f\"{x}\\n\")\n",
    "\n",
    "            common_doublets_path = cto_path.replace(f'__cto.scrublet{scrub_name_suffix}.pkl',f'__cto.scrublet{scrub_name_suffix}.fmx.common_doublets.txt')\n",
    "            with open(common_doublets_path, 'w') as f:\n",
    "                for x in common_doublets:\n",
    "                    f.write(f\"{x}\\n\")\n",
    "\n",
    "\n",
    "        else:\n",
    "            print(f\"\\tLoaded {cto_path}, removing scr doublets\")\n",
    "            removed_bcs_dict[sample] = {\n",
    "                'dbl_scrublet': cto.cell_data.barcode[cto.cell_data.Predicted_doublets_fragments == True].tolist()\n",
    "            }\n",
    "\n",
    "            # Remove doublets \n",
    "            singlets = cto.cell_data[\n",
    "                (cto.cell_data.Predicted_doublets_fragments == False)\n",
    "            ].index.tolist()\n",
    "            print(f\"\\t{sample}: Removing {len(cto.cell_names)-len(singlets)} cells\")\n",
    "\n",
    "            scr_doublets = set(cto.cell_data[cto.cell_data['Predicted_doublets_fragments'] == True].index)\n",
    "            print(f\"\\t\\t{len(scr_doublets)} scr doublets\")\n",
    "\n",
    "            \n",
    "            scr_doublets_unique_path = cto_path.replace(f'__cto.scrublet{scrub_name_suffix}.pkl',f'__cto.scrublet{scrub_name_suffix}.fmx.scr_doublets_unique.txt')\n",
    "            with open(scr_doublets_unique_path, 'w') as f:\n",
    "                for x in scr_doublets:\n",
    "                    f.write(f\"{x}\\n\")\n",
    "                    \n",
    "                    \n",
    "        # Subset cisTopic object\n",
    "        cto.subset(singlets)\n",
    "\n",
    "        # save\n",
    "        with open(newcto_path, \"wb\") as f:\n",
    "            pickle.dump(cto, f, protocol=4)\n",
    "\n",
    "        removed_bcs_path = cto_path.replace(f'__cto.scrublet{scrub_name_suffix}.pkl',f'__cto.scrublet{scrub_name_suffix}.fmx.singlets.removed_bcs.pkl')\n",
    "        with open(removed_bcs_path, \"wb\") as f:\n",
    "            pickle.dump(removed_bcs_dict[sample], f, protocol=4)\n",
    "\n",
    "        cell_data_path = cto_path.replace(f'__cto.scrublet{scrub_name_suffix}.pkl',f'__cto.scrublet{scrub_name_suffix}.fmx.singlets.cell_data.tsv')\n",
    "        cto.cell_data.to_csv(cell_data_path)\n",
    "\n",
    "        print(f\"\\tWrote {newcto_path}, doublet lists and {cell_data_path}\\n\")"
   ]
  },
  {
   "cell_type": "markdown",
   "id": "9d1e8434",
   "metadata": {
    "papermill": {
     "duration": null,
     "end_time": null,
     "exception": null,
     "start_time": null,
     "status": "pending"
    },
    "tags": []
   },
   "source": [
    "# Merge VIB_hydrop_samples"
   ]
  },
  {
   "cell_type": "code",
   "execution_count": 44,
   "id": "b531e7bb",
   "metadata": {
    "execution": {
     "iopub.execute_input": "2022-09-25T09:03:34.222516Z",
     "iopub.status.busy": "2022-09-25T09:03:34.222304Z",
     "iopub.status.idle": "2022-09-25T09:03:34.227502Z",
     "shell.execute_reply": "2022-09-25T09:03:34.227087Z",
     "shell.execute_reply.started": "2022-09-25T09:03:34.222497Z"
    },
    "papermill": {
     "duration": null,
     "end_time": null,
     "exception": null,
     "start_time": null,
     "status": "pending"
    },
    "tags": []
   },
   "outputs": [
    {
     "data": {
      "application/javascript": [
       "\n",
       "            setTimeout(function() {\n",
       "                var nbb_cell_id = 44;\n",
       "                var nbb_unformatted_code = \"from pycisTopic.cistopic_class import *\";\n",
       "                var nbb_formatted_code = \"from pycisTopic.cistopic_class import *\";\n",
       "                var nbb_cells = Jupyter.notebook.get_cells();\n",
       "                for (var i = 0; i < nbb_cells.length; ++i) {\n",
       "                    if (nbb_cells[i].input_prompt_number == nbb_cell_id) {\n",
       "                        if (nbb_cells[i].get_text() == nbb_unformatted_code) {\n",
       "                             nbb_cells[i].set_text(nbb_formatted_code);\n",
       "                        }\n",
       "                        break;\n",
       "                    }\n",
       "                }\n",
       "            }, 500);\n",
       "            "
      ],
      "text/plain": [
       "<IPython.core.display.Javascript object>"
      ]
     },
     "metadata": {},
     "output_type": "display_data"
    }
   ],
   "source": [
    "from pycisTopic.cistopic_class import *"
   ]
  },
  {
   "cell_type": "code",
   "execution_count": 45,
   "id": "9d5960f1",
   "metadata": {
    "execution": {
     "iopub.execute_input": "2022-09-25T09:03:34.228535Z",
     "iopub.status.busy": "2022-09-25T09:03:34.228338Z",
     "iopub.status.idle": "2022-09-25T09:03:34.261055Z",
     "shell.execute_reply": "2022-09-25T09:03:34.260561Z",
     "shell.execute_reply.started": "2022-09-25T09:03:34.228516Z"
    },
    "papermill": {
     "duration": null,
     "end_time": null,
     "exception": null,
     "start_time": null,
     "status": "pending"
    },
    "tags": []
   },
   "outputs": [
    {
     "name": "stdout",
     "output_type": "stream",
     "text": [
      "cistopic_objects/VIB_hydrop_1.FULL__cto.scrublet0-4.fmx.singlets.pkl exists\n"
     ]
    },
    {
     "data": {
      "application/javascript": [
       "\n",
       "            setTimeout(function() {\n",
       "                var nbb_cell_id = 45;\n",
       "                var nbb_unformatted_code = \"paths_list = ['cistopic_objects/VIB_hydrop_11.FULL__cto.scrublet0-4.fmx.singlets.pkl', 'cistopic_objects/VIB_hydrop_12.FULL__cto.scrublet0-4.fmx.singlets.pkl']\\ncto_path_new = 'cistopic_objects/VIB_hydrop_1.FULL__cto.scrublet0-4.fmx.singlets.pkl'\\ncto_list = []\\nif not os.path.exists(cto_path_new):\\n    for file in paths_list:\\n        print(file)\\n        with open(file, 'rb') as f:\\n            cto = pickle.load(f)\\n\\n        cto_list.append(cto)\\n\\n    cto_merged = merge(cto_list)\\n    with open(\\n        cto_path_new, \\\"wb\\\"\\n    ) as f:\\n        pickle.dump(cto_merged, f, protocol=4)\\nelse:\\n    print(f\\\"{cto_path_new} exists\\\")\";\n",
       "                var nbb_formatted_code = \"paths_list = [\\n    \\\"cistopic_objects/VIB_hydrop_11.FULL__cto.scrublet0-4.fmx.singlets.pkl\\\",\\n    \\\"cistopic_objects/VIB_hydrop_12.FULL__cto.scrublet0-4.fmx.singlets.pkl\\\",\\n]\\ncto_path_new = \\\"cistopic_objects/VIB_hydrop_1.FULL__cto.scrublet0-4.fmx.singlets.pkl\\\"\\ncto_list = []\\nif not os.path.exists(cto_path_new):\\n    for file in paths_list:\\n        print(file)\\n        with open(file, \\\"rb\\\") as f:\\n            cto = pickle.load(f)\\n\\n        cto_list.append(cto)\\n\\n    cto_merged = merge(cto_list)\\n    with open(cto_path_new, \\\"wb\\\") as f:\\n        pickle.dump(cto_merged, f, protocol=4)\\nelse:\\n    print(f\\\"{cto_path_new} exists\\\")\";\n",
       "                var nbb_cells = Jupyter.notebook.get_cells();\n",
       "                for (var i = 0; i < nbb_cells.length; ++i) {\n",
       "                    if (nbb_cells[i].input_prompt_number == nbb_cell_id) {\n",
       "                        if (nbb_cells[i].get_text() == nbb_unformatted_code) {\n",
       "                             nbb_cells[i].set_text(nbb_formatted_code);\n",
       "                        }\n",
       "                        break;\n",
       "                    }\n",
       "                }\n",
       "            }, 500);\n",
       "            "
      ],
      "text/plain": [
       "<IPython.core.display.Javascript object>"
      ]
     },
     "metadata": {},
     "output_type": "display_data"
    }
   ],
   "source": [
    "paths_list = ['cistopic_objects/VIB_hydrop_11.FULL__cto.scrublet0-4.fmx.singlets.pkl', 'cistopic_objects/VIB_hydrop_12.FULL__cto.scrublet0-4.fmx.singlets.pkl']\n",
    "cto_path_new = 'cistopic_objects/VIB_hydrop_1.FULL__cto.scrublet0-4.fmx.singlets.pkl'\n",
    "cto_list = []\n",
    "if not os.path.exists(cto_path_new):\n",
    "    for file in paths_list:\n",
    "        print(file)\n",
    "        with open(file, 'rb') as f:\n",
    "            cto = pickle.load(f)\n",
    "\n",
    "        cto_list.append(cto)\n",
    "\n",
    "    cto_merged = merge(cto_list)\n",
    "    with open(\n",
    "        cto_path_new, \"wb\"\n",
    "    ) as f:\n",
    "        pickle.dump(cto_merged, f, protocol=4)\n",
    "else:\n",
    "    print(f\"{cto_path_new} exists\")"
   ]
  },
  {
   "cell_type": "code",
   "execution_count": 46,
   "id": "99133f68",
   "metadata": {
    "execution": {
     "iopub.execute_input": "2022-09-25T09:03:34.261932Z",
     "iopub.status.busy": "2022-09-25T09:03:34.261743Z",
     "iopub.status.idle": "2022-09-25T09:03:41.121853Z",
     "shell.execute_reply": "2022-09-25T09:03:41.121077Z",
     "shell.execute_reply.started": "2022-09-25T09:03:34.261914Z"
    },
    "papermill": {
     "duration": null,
     "end_time": null,
     "exception": null,
     "start_time": null,
     "status": "pending"
    },
    "tags": []
   },
   "outputs": [
    {
     "data": {
      "application/javascript": [
       "\n",
       "            setTimeout(function() {\n",
       "                var nbb_cell_id = 46;\n",
       "                var nbb_unformatted_code = \"cto_path = 'cistopic_objects/VIB_hydrop_1.FULL__cto.scrublet0-4.fmx.singlets.pkl'\\nwith open(cto_path, 'rb') as f:\\n    cto = pickle.load(f)\\n    \\ncto.cell_names = [ x.split('__')[0] + '-' + x.split('VIB_hydrop_')[-1][1] + \\\"___\\\"  + x.split('__')[1]  for x in cto.cell_names ]\\nwith open(\\n    cto_path, \\\"wb\\\"\\n) as f:\\n    pickle.dump(cto, f, protocol=4)\";\n",
       "                var nbb_formatted_code = \"cto_path = \\\"cistopic_objects/VIB_hydrop_1.FULL__cto.scrublet0-4.fmx.singlets.pkl\\\"\\nwith open(cto_path, \\\"rb\\\") as f:\\n    cto = pickle.load(f)\\n\\ncto.cell_names = [\\n    x.split(\\\"__\\\")[0] + \\\"-\\\" + x.split(\\\"VIB_hydrop_\\\")[-1][1] + \\\"___\\\" + x.split(\\\"__\\\")[1]\\n    for x in cto.cell_names\\n]\\nwith open(cto_path, \\\"wb\\\") as f:\\n    pickle.dump(cto, f, protocol=4)\";\n",
       "                var nbb_cells = Jupyter.notebook.get_cells();\n",
       "                for (var i = 0; i < nbb_cells.length; ++i) {\n",
       "                    if (nbb_cells[i].input_prompt_number == nbb_cell_id) {\n",
       "                        if (nbb_cells[i].get_text() == nbb_unformatted_code) {\n",
       "                             nbb_cells[i].set_text(nbb_formatted_code);\n",
       "                        }\n",
       "                        break;\n",
       "                    }\n",
       "                }\n",
       "            }, 500);\n",
       "            "
      ],
      "text/plain": [
       "<IPython.core.display.Javascript object>"
      ]
     },
     "metadata": {},
     "output_type": "display_data"
    }
   ],
   "source": [
    "cto_path = 'cistopic_objects/VIB_hydrop_1.FULL__cto.scrublet0-4.fmx.singlets.pkl'\n",
    "with open(cto_path, 'rb') as f:\n",
    "    cto = pickle.load(f)\n",
    "    \n",
    "cto.cell_names = [ x.split('__')[0] + '-' + x.split('VIB_hydrop_')[-1][1] + \"___\"  + x.split('__')[1]  for x in cto.cell_names ]\n",
    "with open(\n",
    "    cto_path, \"wb\"\n",
    ") as f:\n",
    "    pickle.dump(cto, f, protocol=4)"
   ]
  },
  {
   "cell_type": "code",
   "execution_count": 47,
   "id": "f79c0107",
   "metadata": {
    "execution": {
     "iopub.execute_input": "2022-09-25T09:03:41.123528Z",
     "iopub.status.busy": "2022-09-25T09:03:41.123279Z",
     "iopub.status.idle": "2022-09-25T09:03:49.100606Z",
     "shell.execute_reply": "2022-09-25T09:03:49.100026Z",
     "shell.execute_reply.started": "2022-09-25T09:03:41.123503Z"
    },
    "papermill": {
     "duration": null,
     "end_time": null,
     "exception": null,
     "start_time": null,
     "status": "pending"
    },
    "tags": []
   },
   "outputs": [
    {
     "data": {
      "application/javascript": [
       "\n",
       "            setTimeout(function() {\n",
       "                var nbb_cell_id = 47;\n",
       "                var nbb_unformatted_code = \"cto_path = 'cistopic_objects/VIB_hydrop_2.FULL__cto.scrublet0-4.fmx.singlets.pkl'\\nwith open(cto_path, 'rb') as f:\\n    cto = pickle.load(f)\\n    \\ncto.cell_names = [ x.split('__')[0] + '-' + x.split('VIB_hydrop_')[-1][1] + \\\"___\\\"  + x.split('__')[1]  for x in cto.cell_names ]\\nwith open(\\n    cto_path, \\\"wb\\\"\\n) as f:\\n    pickle.dump(cto, f, protocol=4)\";\n",
       "                var nbb_formatted_code = \"cto_path = \\\"cistopic_objects/VIB_hydrop_2.FULL__cto.scrublet0-4.fmx.singlets.pkl\\\"\\nwith open(cto_path, \\\"rb\\\") as f:\\n    cto = pickle.load(f)\\n\\ncto.cell_names = [\\n    x.split(\\\"__\\\")[0] + \\\"-\\\" + x.split(\\\"VIB_hydrop_\\\")[-1][1] + \\\"___\\\" + x.split(\\\"__\\\")[1]\\n    for x in cto.cell_names\\n]\\nwith open(cto_path, \\\"wb\\\") as f:\\n    pickle.dump(cto, f, protocol=4)\";\n",
       "                var nbb_cells = Jupyter.notebook.get_cells();\n",
       "                for (var i = 0; i < nbb_cells.length; ++i) {\n",
       "                    if (nbb_cells[i].input_prompt_number == nbb_cell_id) {\n",
       "                        if (nbb_cells[i].get_text() == nbb_unformatted_code) {\n",
       "                             nbb_cells[i].set_text(nbb_formatted_code);\n",
       "                        }\n",
       "                        break;\n",
       "                    }\n",
       "                }\n",
       "            }, 500);\n",
       "            "
      ],
      "text/plain": [
       "<IPython.core.display.Javascript object>"
      ]
     },
     "metadata": {},
     "output_type": "display_data"
    }
   ],
   "source": [
    "cto_path = 'cistopic_objects/VIB_hydrop_2.FULL__cto.scrublet0-4.fmx.singlets.pkl'\n",
    "with open(cto_path, 'rb') as f:\n",
    "    cto = pickle.load(f)\n",
    "    \n",
    "cto.cell_names = [ x.split('__')[0] + '-' + x.split('VIB_hydrop_')[-1][1] + \"___\"  + x.split('__')[1]  for x in cto.cell_names ]\n",
    "with open(\n",
    "    cto_path, \"wb\"\n",
    ") as f:\n",
    "    pickle.dump(cto, f, protocol=4)"
   ]
  },
  {
   "cell_type": "markdown",
   "id": "bf5faa56",
   "metadata": {
    "papermill": {
     "duration": null,
     "end_time": null,
     "exception": null,
     "start_time": null,
     "status": "pending"
    },
    "tags": []
   },
   "source": [
    "# Write looms from these ctos"
   ]
  },
  {
   "cell_type": "code",
   "execution_count": 48,
   "id": "96623af8",
   "metadata": {
    "execution": {
     "iopub.execute_input": "2022-09-25T09:03:49.104357Z",
     "iopub.status.busy": "2022-09-25T09:03:49.102619Z",
     "iopub.status.idle": "2022-09-25T09:03:49.120544Z",
     "shell.execute_reply": "2022-09-25T09:03:49.119876Z",
     "shell.execute_reply.started": "2022-09-25T09:03:49.104287Z"
    },
    "papermill": {
     "duration": null,
     "end_time": null,
     "exception": null,
     "start_time": null,
     "status": "pending"
    },
    "tags": []
   },
   "outputs": [
    {
     "data": {
      "text/plain": [
       "{'BIO_ddseq_1.FULL': 'cistopic_objects/BIO_ddseq_1.FULL__cto.scrublet0-4.fmx.singlets.pkl',\n",
       " 'BIO_ddseq_2.FULL': 'cistopic_objects/BIO_ddseq_2.FULL__cto.scrublet0-4.fmx.singlets.pkl',\n",
       " 'BIO_ddseq_3.FULL': 'cistopic_objects/BIO_ddseq_3.FULL__cto.scrublet0-4.fmx.singlets.pkl',\n",
       " 'BIO_ddseq_4.FULL': 'cistopic_objects/BIO_ddseq_4.FULL__cto.scrublet0-4.fmx.singlets.pkl',\n",
       " 'BRO_mtscatac_1.FULL': 'cistopic_objects/BRO_mtscatac_1.FULL__cto.scrublet0-4.fmx.singlets.pkl',\n",
       " 'BRO_mtscatac_2.FULL': 'cistopic_objects/BRO_mtscatac_2.FULL__cto.scrublet0-4.fmx.singlets.pkl',\n",
       " 'CNA_10xmultiome_1.FULL': 'cistopic_objects/CNA_10xmultiome_1.FULL__cto.scrublet0-4.fmx.singlets.pkl',\n",
       " 'CNA_10xmultiome_2.FULL': 'cistopic_objects/CNA_10xmultiome_2.FULL__cto.scrublet0-4.fmx.singlets.pkl',\n",
       " 'CNA_10xv11_1.FULL': 'cistopic_objects/CNA_10xv11_1.FULL__cto.scrublet0-4.fmx.singlets.pkl',\n",
       " 'CNA_10xv11_2.FULL': 'cistopic_objects/CNA_10xv11_2.FULL__cto.scrublet0-4.fmx.singlets.pkl',\n",
       " 'CNA_10xv11_3.FULL': 'cistopic_objects/CNA_10xv11_3.FULL__cto.scrublet0-4.fmx.singlets.pkl',\n",
       " 'CNA_10xv11_4.FULL': 'cistopic_objects/CNA_10xv11_4.FULL__cto.scrublet0-4.fmx.singlets.pkl',\n",
       " 'CNA_10xv11_5.FULL': 'cistopic_objects/CNA_10xv11_5.FULL__cto.scrublet0-4.fmx.singlets.pkl',\n",
       " 'CNA_10xv2_1.FULL': 'cistopic_objects/CNA_10xv2_1.FULL__cto.scrublet0-4.fmx.singlets.pkl',\n",
       " 'CNA_10xv2_2.FULL': 'cistopic_objects/CNA_10xv2_2.FULL__cto.scrublet0-4.fmx.singlets.pkl',\n",
       " 'CNA_hydrop_1.FULL': 'cistopic_objects/CNA_hydrop_1.FULL__cto.scrublet0-4.fmx.singlets.pkl',\n",
       " 'CNA_hydrop_2.FULL': 'cistopic_objects/CNA_hydrop_2.FULL__cto.scrublet0-4.fmx.singlets.pkl',\n",
       " 'CNA_hydrop_3.FULL': 'cistopic_objects/CNA_hydrop_3.FULL__cto.scrublet0-4.fmx.singlets.pkl',\n",
       " 'CNA_mtscatac_1.FULL': 'cistopic_objects/CNA_mtscatac_1.FULL__cto.scrublet0-4.fmx.singlets.pkl',\n",
       " 'CNA_mtscatac_2.FULL': 'cistopic_objects/CNA_mtscatac_2.FULL__cto.scrublet0-4.fmx.singlets.pkl',\n",
       " 'EPF_hydrop_1.FULL': 'cistopic_objects/EPF_hydrop_1.FULL__cto.scrublet0-4.fmx.singlets.pkl',\n",
       " 'EPF_hydrop_2.FULL': 'cistopic_objects/EPF_hydrop_2.FULL__cto.scrublet0-4.fmx.singlets.pkl',\n",
       " 'EPF_hydrop_3.FULL': 'cistopic_objects/EPF_hydrop_3.FULL__cto.scrublet0-4.fmx.singlets.pkl',\n",
       " 'EPF_hydrop_4.FULL': 'cistopic_objects/EPF_hydrop_4.FULL__cto.scrublet0-4.fmx.singlets.pkl',\n",
       " 'HAR_ddseq_1.FULL': 'cistopic_objects/HAR_ddseq_1.FULL__cto.scrublet0-4.fmx.singlets.pkl',\n",
       " 'HAR_ddseq_2.FULL': 'cistopic_objects/HAR_ddseq_2.FULL__cto.scrublet0-4.fmx.singlets.pkl',\n",
       " 'MDC_mtscatac_1.FULL': 'cistopic_objects/MDC_mtscatac_1.FULL__cto.scrublet0-4.fmx.singlets.pkl',\n",
       " 'MDC_mtscatac_2.FULL': 'cistopic_objects/MDC_mtscatac_2.FULL__cto.scrublet0-4.fmx.singlets.pkl',\n",
       " 'OHS_s3atac_1.FULL': 'cistopic_objects/OHS_s3atac_1.FULL__cto.scrublet0-4.fmx.singlets.pkl',\n",
       " 'OHS_s3atac_2.FULL': 'cistopic_objects/OHS_s3atac_2.FULL__cto.scrublet0-4.fmx.singlets.pkl',\n",
       " 'SAN_10xmultiome_1.FULL': 'cistopic_objects/SAN_10xmultiome_1.FULL__cto.scrublet0-4.fmx.singlets.pkl',\n",
       " 'SAN_10xmultiome_2.FULL': 'cistopic_objects/SAN_10xmultiome_2.FULL__cto.scrublet0-4.fmx.singlets.pkl',\n",
       " 'STA_10xv11_1.FULL': 'cistopic_objects/STA_10xv11_1.FULL__cto.scrublet0-4.fmx.singlets.pkl',\n",
       " 'STA_10xv11_2.FULL': 'cistopic_objects/STA_10xv11_2.FULL__cto.scrublet0-4.fmx.singlets.pkl',\n",
       " 'TXG_10xv11_1.FULL': 'cistopic_objects/TXG_10xv11_1.FULL__cto.scrublet0-4.fmx.singlets.pkl',\n",
       " 'TXG_10xv2_1.FULL': 'cistopic_objects/TXG_10xv2_1.FULL__cto.scrublet0-4.fmx.singlets.pkl',\n",
       " 'TXG_10xv2_2.FULL': 'cistopic_objects/TXG_10xv2_2.FULL__cto.scrublet0-4.fmx.singlets.pkl',\n",
       " 'UCS_ddseq_1.FULL': 'cistopic_objects/UCS_ddseq_1.FULL__cto.scrublet0-4.fmx.singlets.pkl',\n",
       " 'UCS_ddseq_2.FULL': 'cistopic_objects/UCS_ddseq_2.FULL__cto.scrublet0-4.fmx.singlets.pkl',\n",
       " 'VIB_10xmultiome_1.FULL': 'cistopic_objects/VIB_10xmultiome_1.FULL__cto.scrublet0-4.fmx.singlets.pkl',\n",
       " 'VIB_10xmultiome_2.FULL': 'cistopic_objects/VIB_10xmultiome_2.FULL__cto.scrublet0-4.fmx.singlets.pkl',\n",
       " 'VIB_10xv1_1.FULL': 'cistopic_objects/VIB_10xv1_1.FULL__cto.scrublet0-4.fmx.singlets.pkl',\n",
       " 'VIB_10xv1_2.FULL': 'cistopic_objects/VIB_10xv1_2.FULL__cto.scrublet0-4.fmx.singlets.pkl',\n",
       " 'VIB_10xv2_1.FULL': 'cistopic_objects/VIB_10xv2_1.FULL__cto.scrublet0-4.fmx.singlets.pkl',\n",
       " 'VIB_10xv2_2.FULL': 'cistopic_objects/VIB_10xv2_2.FULL__cto.scrublet0-4.fmx.singlets.pkl',\n",
       " 'VIB_hydrop_1.FULL': 'cistopic_objects/VIB_hydrop_1.FULL__cto.scrublet0-4.fmx.singlets.pkl',\n",
       " 'VIB_hydrop_11.FULL': 'cistopic_objects/VIB_hydrop_11.FULL__cto.scrublet0-4.fmx.singlets.pkl',\n",
       " 'VIB_hydrop_12.FULL': 'cistopic_objects/VIB_hydrop_12.FULL__cto.scrublet0-4.fmx.singlets.pkl',\n",
       " 'VIB_hydrop_2.FULL': 'cistopic_objects/VIB_hydrop_2.FULL__cto.scrublet0-4.fmx.singlets.pkl',\n",
       " 'VIB_hydrop_21.FULL': 'cistopic_objects/VIB_hydrop_21.FULL__cto.scrublet0-4.fmx.singlets.pkl',\n",
       " 'VIB_hydrop_22.FULL': 'cistopic_objects/VIB_hydrop_22.FULL__cto.scrublet0-4.fmx.singlets.pkl'}"
      ]
     },
     "execution_count": 48,
     "metadata": {},
     "output_type": "execute_result"
    },
    {
     "data": {
      "application/javascript": [
       "\n",
       "            setTimeout(function() {\n",
       "                var nbb_cell_id = 48;\n",
       "                var nbb_unformatted_code = \"scrub_name_suffix = \\\"0-4\\\"\\nsinglet_cto_dict = {x.split('/')[-1].split(f'__')[0]:x for x in sorted(glob.glob(f'cistopic_objects/*__cto.scrublet{scrub_name_suffix}*singlets.pkl'))}\\nsinglet_cto_dict\";\n",
       "                var nbb_formatted_code = \"scrub_name_suffix = \\\"0-4\\\"\\nsinglet_cto_dict = {\\n    x.split(\\\"/\\\")[-1].split(f\\\"__\\\")[0]: x\\n    for x in sorted(\\n        glob.glob(f\\\"cistopic_objects/*__cto.scrublet{scrub_name_suffix}*singlets.pkl\\\")\\n    )\\n}\\nsinglet_cto_dict\";\n",
       "                var nbb_cells = Jupyter.notebook.get_cells();\n",
       "                for (var i = 0; i < nbb_cells.length; ++i) {\n",
       "                    if (nbb_cells[i].input_prompt_number == nbb_cell_id) {\n",
       "                        if (nbb_cells[i].get_text() == nbb_unformatted_code) {\n",
       "                             nbb_cells[i].set_text(nbb_formatted_code);\n",
       "                        }\n",
       "                        break;\n",
       "                    }\n",
       "                }\n",
       "            }, 500);\n",
       "            "
      ],
      "text/plain": [
       "<IPython.core.display.Javascript object>"
      ]
     },
     "metadata": {},
     "output_type": "display_data"
    }
   ],
   "source": [
    "scrub_name_suffix = \"0-4\"\n",
    "singlet_cto_dict = {x.split('/')[-1].split(f'__')[0]:x for x in sorted(glob.glob(f'cistopic_objects/*__cto.scrublet{scrub_name_suffix}*singlets.pkl'))}\n",
    "singlet_cto_dict"
   ]
  },
  {
   "cell_type": "code",
   "execution_count": 49,
   "id": "fdce1186",
   "metadata": {
    "execution": {
     "iopub.execute_input": "2022-09-25T09:03:49.121708Z",
     "iopub.status.busy": "2022-09-25T09:03:49.121491Z",
     "iopub.status.idle": "2022-09-25T09:03:49.129177Z",
     "shell.execute_reply": "2022-09-25T09:03:49.128567Z",
     "shell.execute_reply.started": "2022-09-25T09:03:49.121688Z"
    },
    "papermill": {
     "duration": null,
     "end_time": null,
     "exception": null,
     "start_time": null,
     "status": "pending"
    },
    "tags": []
   },
   "outputs": [
    {
     "data": {
      "application/javascript": [
       "\n",
       "            setTimeout(function() {\n",
       "                var nbb_cell_id = 49;\n",
       "                var nbb_unformatted_code = \"loom_out = 'cell_region_looms'\\nif not os.path.exists(os.path.join(loom_out)):\\n    os.makedirs(os.path.join(loom_out))\";\n",
       "                var nbb_formatted_code = \"loom_out = \\\"cell_region_looms\\\"\\nif not os.path.exists(os.path.join(loom_out)):\\n    os.makedirs(os.path.join(loom_out))\";\n",
       "                var nbb_cells = Jupyter.notebook.get_cells();\n",
       "                for (var i = 0; i < nbb_cells.length; ++i) {\n",
       "                    if (nbb_cells[i].input_prompt_number == nbb_cell_id) {\n",
       "                        if (nbb_cells[i].get_text() == nbb_unformatted_code) {\n",
       "                             nbb_cells[i].set_text(nbb_formatted_code);\n",
       "                        }\n",
       "                        break;\n",
       "                    }\n",
       "                }\n",
       "            }, 500);\n",
       "            "
      ],
      "text/plain": [
       "<IPython.core.display.Javascript object>"
      ]
     },
     "metadata": {},
     "output_type": "display_data"
    }
   ],
   "source": [
    "loom_out = 'cell_region_looms'\n",
    "if not os.path.exists(os.path.join(loom_out)):\n",
    "    os.makedirs(os.path.join(loom_out))"
   ]
  },
  {
   "cell_type": "code",
   "execution_count": 50,
   "id": "89ece6b1",
   "metadata": {
    "execution": {
     "iopub.execute_input": "2022-09-25T09:03:49.130253Z",
     "iopub.status.busy": "2022-09-25T09:03:49.130045Z",
     "iopub.status.idle": "2022-09-25T09:03:49.197773Z",
     "shell.execute_reply": "2022-09-25T09:03:49.197085Z",
     "shell.execute_reply.started": "2022-09-25T09:03:49.130233Z"
    },
    "papermill": {
     "duration": null,
     "end_time": null,
     "exception": null,
     "start_time": null,
     "status": "pending"
    },
    "tags": []
   },
   "outputs": [
    {
     "name": "stdout",
     "output_type": "stream",
     "text": [
      "cell_region_looms/BIO_ddseq_1.FULL__cto.scrublet0-4.fmx.singlets.loom already exists, skipping...\n",
      "cell_region_looms/BIO_ddseq_2.FULL__cto.scrublet0-4.fmx.singlets.loom already exists, skipping...\n",
      "cell_region_looms/BIO_ddseq_3.FULL__cto.scrublet0-4.fmx.singlets.loom already exists, skipping...\n",
      "cell_region_looms/BIO_ddseq_4.FULL__cto.scrublet0-4.fmx.singlets.loom already exists, skipping...\n",
      "cell_region_looms/BRO_mtscatac_1.FULL__cto.scrublet0-4.fmx.singlets.loom already exists, skipping...\n",
      "cell_region_looms/BRO_mtscatac_2.FULL__cto.scrublet0-4.fmx.singlets.loom already exists, skipping...\n",
      "cell_region_looms/CNA_10xmultiome_1.FULL__cto.scrublet0-4.fmx.singlets.loom already exists, skipping...\n",
      "cell_region_looms/CNA_10xmultiome_2.FULL__cto.scrublet0-4.fmx.singlets.loom already exists, skipping...\n",
      "cell_region_looms/CNA_10xv11_1.FULL__cto.scrublet0-4.fmx.singlets.loom already exists, skipping...\n",
      "cell_region_looms/CNA_10xv11_2.FULL__cto.scrublet0-4.fmx.singlets.loom already exists, skipping...\n",
      "cell_region_looms/CNA_10xv11_3.FULL__cto.scrublet0-4.fmx.singlets.loom already exists, skipping...\n",
      "cell_region_looms/CNA_10xv11_4.FULL__cto.scrublet0-4.fmx.singlets.loom already exists, skipping...\n",
      "cell_region_looms/CNA_10xv11_5.FULL__cto.scrublet0-4.fmx.singlets.loom already exists, skipping...\n",
      "cell_region_looms/CNA_10xv2_1.FULL__cto.scrublet0-4.fmx.singlets.loom already exists, skipping...\n",
      "cell_region_looms/CNA_10xv2_2.FULL__cto.scrublet0-4.fmx.singlets.loom already exists, skipping...\n",
      "cell_region_looms/CNA_hydrop_1.FULL__cto.scrublet0-4.fmx.singlets.loom already exists, skipping...\n",
      "cell_region_looms/CNA_hydrop_2.FULL__cto.scrublet0-4.fmx.singlets.loom already exists, skipping...\n",
      "cell_region_looms/CNA_hydrop_3.FULL__cto.scrublet0-4.fmx.singlets.loom already exists, skipping...\n",
      "cell_region_looms/CNA_mtscatac_1.FULL__cto.scrublet0-4.fmx.singlets.loom already exists, skipping...\n",
      "cell_region_looms/CNA_mtscatac_2.FULL__cto.scrublet0-4.fmx.singlets.loom already exists, skipping...\n",
      "cell_region_looms/EPF_hydrop_1.FULL__cto.scrublet0-4.fmx.singlets.loom already exists, skipping...\n",
      "cell_region_looms/EPF_hydrop_2.FULL__cto.scrublet0-4.fmx.singlets.loom already exists, skipping...\n",
      "cell_region_looms/EPF_hydrop_3.FULL__cto.scrublet0-4.fmx.singlets.loom already exists, skipping...\n",
      "cell_region_looms/EPF_hydrop_4.FULL__cto.scrublet0-4.fmx.singlets.loom already exists, skipping...\n",
      "cell_region_looms/HAR_ddseq_1.FULL__cto.scrublet0-4.fmx.singlets.loom already exists, skipping...\n",
      "cell_region_looms/HAR_ddseq_2.FULL__cto.scrublet0-4.fmx.singlets.loom already exists, skipping...\n",
      "cell_region_looms/MDC_mtscatac_1.FULL__cto.scrublet0-4.fmx.singlets.loom already exists, skipping...\n",
      "cell_region_looms/MDC_mtscatac_2.FULL__cto.scrublet0-4.fmx.singlets.loom already exists, skipping...\n",
      "cell_region_looms/OHS_s3atac_1.FULL__cto.scrublet0-4.fmx.singlets.loom already exists, skipping...\n",
      "cell_region_looms/OHS_s3atac_2.FULL__cto.scrublet0-4.fmx.singlets.loom already exists, skipping...\n",
      "cell_region_looms/SAN_10xmultiome_1.FULL__cto.scrublet0-4.fmx.singlets.loom already exists, skipping...\n",
      "cell_region_looms/SAN_10xmultiome_2.FULL__cto.scrublet0-4.fmx.singlets.loom already exists, skipping...\n",
      "cell_region_looms/STA_10xv11_1.FULL__cto.scrublet0-4.fmx.singlets.loom already exists, skipping...\n",
      "cell_region_looms/STA_10xv11_2.FULL__cto.scrublet0-4.fmx.singlets.loom already exists, skipping...\n",
      "cell_region_looms/TXG_10xv11_1.FULL__cto.scrublet0-4.fmx.singlets.loom already exists, skipping...\n",
      "cell_region_looms/TXG_10xv2_1.FULL__cto.scrublet0-4.fmx.singlets.loom already exists, skipping...\n",
      "cell_region_looms/TXG_10xv2_2.FULL__cto.scrublet0-4.fmx.singlets.loom already exists, skipping...\n",
      "cell_region_looms/UCS_ddseq_1.FULL__cto.scrublet0-4.fmx.singlets.loom already exists, skipping...\n",
      "cell_region_looms/UCS_ddseq_2.FULL__cto.scrublet0-4.fmx.singlets.loom already exists, skipping...\n",
      "cell_region_looms/VIB_10xmultiome_1.FULL__cto.scrublet0-4.fmx.singlets.loom already exists, skipping...\n",
      "cell_region_looms/VIB_10xmultiome_2.FULL__cto.scrublet0-4.fmx.singlets.loom already exists, skipping...\n",
      "cell_region_looms/VIB_10xv1_1.FULL__cto.scrublet0-4.fmx.singlets.loom already exists, skipping...\n",
      "cell_region_looms/VIB_10xv1_2.FULL__cto.scrublet0-4.fmx.singlets.loom already exists, skipping...\n",
      "cell_region_looms/VIB_10xv2_1.FULL__cto.scrublet0-4.fmx.singlets.loom already exists, skipping...\n",
      "cell_region_looms/VIB_10xv2_2.FULL__cto.scrublet0-4.fmx.singlets.loom already exists, skipping...\n",
      "cell_region_looms/VIB_hydrop_1.FULL__cto.scrublet0-4.fmx.singlets.loom already exists, skipping...\n",
      "cell_region_looms/VIB_hydrop_11.FULL__cto.scrublet0-4.fmx.singlets.loom already exists, skipping...\n",
      "cell_region_looms/VIB_hydrop_12.FULL__cto.scrublet0-4.fmx.singlets.loom already exists, skipping...\n",
      "cell_region_looms/VIB_hydrop_2.FULL__cto.scrublet0-4.fmx.singlets.loom already exists, skipping...\n",
      "cell_region_looms/VIB_hydrop_21.FULL__cto.scrublet0-4.fmx.singlets.loom already exists, skipping...\n",
      "cell_region_looms/VIB_hydrop_22.FULL__cto.scrublet0-4.fmx.singlets.loom already exists, skipping...\n"
     ]
    },
    {
     "data": {
      "application/javascript": [
       "\n",
       "            setTimeout(function() {\n",
       "                var nbb_cell_id = 50;\n",
       "                var nbb_unformatted_code = \"import loompy as lp\\ncto_path_sub_dict = {}\\nfor sample in singlet_cto_dict.keys():\\n    cto_path = singlet_cto_dict[sample]\\n    loom_path = os.path.join(loom_out, cto_path.split('/')[-1].replace('.pkl', '.loom'))\\n    if not os.path.exists(loom_path):\\n        with open(cto_path, 'rb') as f:\\n            cto = pickle.load(f)\\n        \\n        print(len(cto.cell_data))\\n\\n        print(f\\\"Loaded filtered cistopic object {cto_path}\\\")        \\n        lp.create(\\n            filename = loom_path,\\n            layers=cto.fragment_matrix,\\n            row_attrs={ 'Gene': cto.region_names }, \\n            col_attrs={ 'CellID': [ x.split('__')[0]  for x in cto.cell_names ] }\\n        )\\n        \\n        print(f\\\"\\\\tFinished {loom_path} loom writing\\\")\\n    else:\\n        print(f'{loom_path} already exists, skipping...')\";\n",
       "                var nbb_formatted_code = \"import loompy as lp\\n\\ncto_path_sub_dict = {}\\nfor sample in singlet_cto_dict.keys():\\n    cto_path = singlet_cto_dict[sample]\\n    loom_path = os.path.join(loom_out, cto_path.split(\\\"/\\\")[-1].replace(\\\".pkl\\\", \\\".loom\\\"))\\n    if not os.path.exists(loom_path):\\n        with open(cto_path, \\\"rb\\\") as f:\\n            cto = pickle.load(f)\\n\\n        print(len(cto.cell_data))\\n\\n        print(f\\\"Loaded filtered cistopic object {cto_path}\\\")\\n        lp.create(\\n            filename=loom_path,\\n            layers=cto.fragment_matrix,\\n            row_attrs={\\\"Gene\\\": cto.region_names},\\n            col_attrs={\\\"CellID\\\": [x.split(\\\"__\\\")[0] for x in cto.cell_names]},\\n        )\\n\\n        print(f\\\"\\\\tFinished {loom_path} loom writing\\\")\\n    else:\\n        print(f\\\"{loom_path} already exists, skipping...\\\")\";\n",
       "                var nbb_cells = Jupyter.notebook.get_cells();\n",
       "                for (var i = 0; i < nbb_cells.length; ++i) {\n",
       "                    if (nbb_cells[i].input_prompt_number == nbb_cell_id) {\n",
       "                        if (nbb_cells[i].get_text() == nbb_unformatted_code) {\n",
       "                             nbb_cells[i].set_text(nbb_formatted_code);\n",
       "                        }\n",
       "                        break;\n",
       "                    }\n",
       "                }\n",
       "            }, 500);\n",
       "            "
      ],
      "text/plain": [
       "<IPython.core.display.Javascript object>"
      ]
     },
     "metadata": {},
     "output_type": "display_data"
    }
   ],
   "source": [
    "import loompy as lp\n",
    "cto_path_sub_dict = {}\n",
    "for sample in singlet_cto_dict.keys():\n",
    "    cto_path = singlet_cto_dict[sample]\n",
    "    loom_path = os.path.join(loom_out, cto_path.split('/')[-1].replace('.pkl', '.loom'))\n",
    "    if not os.path.exists(loom_path):\n",
    "        with open(cto_path, 'rb') as f:\n",
    "            cto = pickle.load(f)\n",
    "        \n",
    "        print(len(cto.cell_data))\n",
    "\n",
    "        print(f\"Loaded filtered cistopic object {cto_path}\")        \n",
    "        lp.create(\n",
    "            filename = loom_path,\n",
    "            layers=cto.fragment_matrix,\n",
    "            row_attrs={ 'Gene': cto.region_names }, \n",
    "            col_attrs={ 'CellID': [ x.split('__')[0]  for x in cto.cell_names ] }\n",
    "        )\n",
    "        \n",
    "        print(f\"\\tFinished {loom_path} loom writing\")\n",
    "    else:\n",
    "        print(f'{loom_path} already exists, skipping...')"
   ]
  },
  {
   "cell_type": "markdown",
   "id": "645e0742",
   "metadata": {
    "papermill": {
     "duration": null,
     "end_time": null,
     "exception": null,
     "start_time": null,
     "status": "pending"
    },
    "tags": []
   },
   "source": [
    "Alternatively, use script:"
   ]
  },
  {
   "cell_type": "code",
   "execution_count": 51,
   "id": "32d33736",
   "metadata": {
    "execution": {
     "iopub.execute_input": "2022-09-25T09:03:49.198934Z",
     "iopub.status.busy": "2022-09-25T09:03:49.198719Z",
     "iopub.status.idle": "2022-09-25T09:03:50.585415Z",
     "shell.execute_reply": "2022-09-25T09:03:50.584371Z",
     "shell.execute_reply.started": "2022-09-25T09:03:49.198914Z"
    },
    "papermill": {
     "duration": null,
     "end_time": null,
     "exception": null,
     "start_time": null,
     "status": "pending"
    },
    "tags": []
   },
   "outputs": [
    {
     "name": "stdout",
     "output_type": "stream",
     "text": [
      "import loompy as lp\n",
      "import pickle\n",
      "import os\n",
      "import argparse\n",
      "\n",
      "def make_argument_parser():\n",
      "    \"\"\"\n",
      "    Creates an ArgumentParser to read the options for this script from\n",
      "    sys.argv\n",
      "    \"\"\"\n",
      "    parser = argparse.ArgumentParser(\n",
      "        description=\"Write loom\",)\n",
      "    parser.add_argument('--input_cto', '-i', type=str, required=True,\n",
      "                        help='Path to cisTopic object pickle file.')\n",
      "\n",
      "    parser.add_argument('--output_loom', '-o', type=str, required=True,\n",
      "                    help='Path to out loom.')\n",
      "\n",
      "    return parser\n",
      "\n",
      "\n",
      "def main():\n",
      "    \"\"\"\n",
      "    The main executable function\n",
      "    \"\"\"\n",
      "\n",
      "    parser = make_argument_parser()\n",
      "    args = parser.parse_args()\n",
      "\n",
      "\n",
      "    cto_path = args.input_cto\n",
      "    print('input file:', cto_path)\n",
      "\n",
      "    loom_path = args.output_loom\n",
      "    print('output file:', loom_path)\n",
      "    \n",
      "    if not os.path.exists(loom_path):\n",
      "        with open(cto_path, 'rb') as f:\n",
      "            cto = pickle.load(f)\n",
      "\n",
      "        print(f\"Loaded filtered cistopic object {cto_path}\")\n",
      "        lp.create(\n",
      "            filename = loom_path,\n",
      "            layers=cto.fragment_matrix,\n",
      "            row_attrs={ 'Gene': cto.region_names },\n",
      "            col_attrs={ 'CellID': [ x.split('__')[0]  for x in cto.cell_names ] }\n",
      "        )\n",
      "\n",
      "        print(f\"\\tFinished {loom_path} loom writing\")\n",
      "        \n",
      "    else:\n",
      "        print(f'{loom_path} already exists, skipping...')\n",
      "\n",
      "\n",
      "if __name__ == \"__main__\":\n",
      "    main()"
     ]
    },
    {
     "data": {
      "application/javascript": [
       "\n",
       "            setTimeout(function() {\n",
       "                var nbb_cell_id = 51;\n",
       "                var nbb_unformatted_code = \"!cat ../0_resources/scripts/create_loom.py\";\n",
       "                var nbb_formatted_code = \"!cat ../0_resources/scripts/create_loom.py\";\n",
       "                var nbb_cells = Jupyter.notebook.get_cells();\n",
       "                for (var i = 0; i < nbb_cells.length; ++i) {\n",
       "                    if (nbb_cells[i].input_prompt_number == nbb_cell_id) {\n",
       "                        if (nbb_cells[i].get_text() == nbb_unformatted_code) {\n",
       "                             nbb_cells[i].set_text(nbb_formatted_code);\n",
       "                        }\n",
       "                        break;\n",
       "                    }\n",
       "                }\n",
       "            }, 500);\n",
       "            "
      ],
      "text/plain": [
       "<IPython.core.display.Javascript object>"
      ]
     },
     "metadata": {},
     "output_type": "display_data"
    }
   ],
   "source": [
    "!cat ../0_resources/scripts/create_loom.py"
   ]
  },
  {
   "cell_type": "code",
   "execution_count": 52,
   "id": "ce6a2b31",
   "metadata": {
    "execution": {
     "iopub.execute_input": "2022-09-25T09:03:50.590476Z",
     "iopub.status.busy": "2022-09-25T09:03:50.590215Z",
     "iopub.status.idle": "2022-09-25T09:03:50.614633Z",
     "shell.execute_reply": "2022-09-25T09:03:50.613652Z",
     "shell.execute_reply.started": "2022-09-25T09:03:50.590452Z"
    },
    "papermill": {
     "duration": null,
     "end_time": null,
     "exception": null,
     "start_time": null,
     "status": "pending"
    },
    "tags": []
   },
   "outputs": [
    {
     "name": "stdout",
     "output_type": "stream",
     "text": [
      "cell_region_looms/BIO_ddseq_1.FULL__cto.scrublet0-4.fmx.singlets.loom already exists!\n",
      "cell_region_looms/BIO_ddseq_2.FULL__cto.scrublet0-4.fmx.singlets.loom already exists!\n",
      "cell_region_looms/BIO_ddseq_3.FULL__cto.scrublet0-4.fmx.singlets.loom already exists!\n",
      "cell_region_looms/BIO_ddseq_4.FULL__cto.scrublet0-4.fmx.singlets.loom already exists!\n",
      "cell_region_looms/BRO_mtscatac_1.FULL__cto.scrublet0-4.fmx.singlets.loom already exists!\n",
      "cell_region_looms/BRO_mtscatac_2.FULL__cto.scrublet0-4.fmx.singlets.loom already exists!\n",
      "cell_region_looms/CNA_10xmultiome_1.FULL__cto.scrublet0-4.fmx.singlets.loom already exists!\n",
      "cell_region_looms/CNA_10xmultiome_2.FULL__cto.scrublet0-4.fmx.singlets.loom already exists!\n",
      "cell_region_looms/CNA_10xv11_1.FULL__cto.scrublet0-4.fmx.singlets.loom already exists!\n",
      "cell_region_looms/CNA_10xv11_2.FULL__cto.scrublet0-4.fmx.singlets.loom already exists!\n",
      "cell_region_looms/CNA_10xv11_3.FULL__cto.scrublet0-4.fmx.singlets.loom already exists!\n",
      "cell_region_looms/CNA_10xv11_4.FULL__cto.scrublet0-4.fmx.singlets.loom already exists!\n",
      "cell_region_looms/CNA_10xv11_5.FULL__cto.scrublet0-4.fmx.singlets.loom already exists!\n",
      "cell_region_looms/CNA_10xv2_1.FULL__cto.scrublet0-4.fmx.singlets.loom already exists!\n",
      "cell_region_looms/CNA_10xv2_2.FULL__cto.scrublet0-4.fmx.singlets.loom already exists!\n",
      "cell_region_looms/CNA_hydrop_1.FULL__cto.scrublet0-4.fmx.singlets.loom already exists!\n",
      "cell_region_looms/CNA_hydrop_2.FULL__cto.scrublet0-4.fmx.singlets.loom already exists!\n",
      "cell_region_looms/CNA_hydrop_3.FULL__cto.scrublet0-4.fmx.singlets.loom already exists!\n",
      "cell_region_looms/CNA_mtscatac_1.FULL__cto.scrublet0-4.fmx.singlets.loom already exists!\n",
      "cell_region_looms/CNA_mtscatac_2.FULL__cto.scrublet0-4.fmx.singlets.loom already exists!\n",
      "cell_region_looms/EPF_hydrop_1.FULL__cto.scrublet0-4.fmx.singlets.loom already exists!\n",
      "cell_region_looms/EPF_hydrop_2.FULL__cto.scrublet0-4.fmx.singlets.loom already exists!\n",
      "cell_region_looms/EPF_hydrop_3.FULL__cto.scrublet0-4.fmx.singlets.loom already exists!\n",
      "cell_region_looms/EPF_hydrop_4.FULL__cto.scrublet0-4.fmx.singlets.loom already exists!\n",
      "cell_region_looms/HAR_ddseq_1.FULL__cto.scrublet0-4.fmx.singlets.loom already exists!\n",
      "cell_region_looms/HAR_ddseq_2.FULL__cto.scrublet0-4.fmx.singlets.loom already exists!\n",
      "cell_region_looms/MDC_mtscatac_1.FULL__cto.scrublet0-4.fmx.singlets.loom already exists!\n",
      "cell_region_looms/MDC_mtscatac_2.FULL__cto.scrublet0-4.fmx.singlets.loom already exists!\n",
      "cell_region_looms/OHS_s3atac_1.FULL__cto.scrublet0-4.fmx.singlets.loom already exists!\n",
      "cell_region_looms/OHS_s3atac_2.FULL__cto.scrublet0-4.fmx.singlets.loom already exists!\n",
      "cell_region_looms/SAN_10xmultiome_1.FULL__cto.scrublet0-4.fmx.singlets.loom already exists!\n",
      "cell_region_looms/SAN_10xmultiome_2.FULL__cto.scrublet0-4.fmx.singlets.loom already exists!\n",
      "cell_region_looms/STA_10xv11_1.FULL__cto.scrublet0-4.fmx.singlets.loom already exists!\n",
      "cell_region_looms/STA_10xv11_2.FULL__cto.scrublet0-4.fmx.singlets.loom already exists!\n",
      "cell_region_looms/TXG_10xv11_1.FULL__cto.scrublet0-4.fmx.singlets.loom already exists!\n",
      "cell_region_looms/TXG_10xv2_1.FULL__cto.scrublet0-4.fmx.singlets.loom already exists!\n",
      "cell_region_looms/TXG_10xv2_2.FULL__cto.scrublet0-4.fmx.singlets.loom already exists!\n",
      "cell_region_looms/UCS_ddseq_1.FULL__cto.scrublet0-4.fmx.singlets.loom already exists!\n",
      "cell_region_looms/UCS_ddseq_2.FULL__cto.scrublet0-4.fmx.singlets.loom already exists!\n",
      "cell_region_looms/VIB_10xmultiome_1.FULL__cto.scrublet0-4.fmx.singlets.loom already exists!\n",
      "cell_region_looms/VIB_10xmultiome_2.FULL__cto.scrublet0-4.fmx.singlets.loom already exists!\n",
      "cell_region_looms/VIB_10xv1_1.FULL__cto.scrublet0-4.fmx.singlets.loom already exists!\n",
      "cell_region_looms/VIB_10xv1_2.FULL__cto.scrublet0-4.fmx.singlets.loom already exists!\n",
      "cell_region_looms/VIB_10xv2_1.FULL__cto.scrublet0-4.fmx.singlets.loom already exists!\n",
      "cell_region_looms/VIB_10xv2_2.FULL__cto.scrublet0-4.fmx.singlets.loom already exists!\n",
      "cell_region_looms/VIB_hydrop_1.FULL__cto.scrublet0-4.fmx.singlets.loom already exists!\n",
      "cell_region_looms/VIB_hydrop_11.FULL__cto.scrublet0-4.fmx.singlets.loom already exists!\n",
      "cell_region_looms/VIB_hydrop_12.FULL__cto.scrublet0-4.fmx.singlets.loom already exists!\n",
      "cell_region_looms/VIB_hydrop_2.FULL__cto.scrublet0-4.fmx.singlets.loom already exists!\n",
      "cell_region_looms/VIB_hydrop_21.FULL__cto.scrublet0-4.fmx.singlets.loom already exists!\n",
      "cell_region_looms/VIB_hydrop_22.FULL__cto.scrublet0-4.fmx.singlets.loom already exists!\n"
     ]
    },
    {
     "data": {
      "application/javascript": [
       "\n",
       "            setTimeout(function() {\n",
       "                var nbb_cell_id = 52;\n",
       "                var nbb_unformatted_code = \"#mounts = \\\"/lustre1,/staging,/data,/vsc-hard-mounts,/scratch\\\"\\nmounts = \\\"/dodrio,/readonly/dodrio,/tmp\\\"\\nsif = \\\"../0_resources/cistopic_image/20220815_pycistopic.sif\\\"\\nscript = \\\"../0_resources/scripts/create_loom.py\\\"\\nloom_dir = \\\"cell_region_looms\\\"\\nparallel_file = 'write_looms.parallel'\\nwith open(parallel_file, 'w') as file:\\n\\n    for sample in singlet_cto_dict.keys():\\n        infile = singlet_cto_dict[sample]\\n        outfile = infile.replace('.pkl', '.loom').replace('cistopic_objects','cell_region_looms')\\n    \\n        if not os.path.exists(outfile):\\n            cmd = f\\\"echo {sample} && cd {wdir} && singularity exec -B {mounts} {sif} python {script} -i {infile} -o {outfile}\\\"\\n\\n            print(cmd)\\n            file.write(cmd + '\\\\n')\\n            \\n        else:\\n            print(f'{outfile} already exists!')\";\n",
       "                var nbb_formatted_code = \"# mounts = \\\"/lustre1,/staging,/data,/vsc-hard-mounts,/scratch\\\"\\nmounts = \\\"/dodrio,/readonly/dodrio,/tmp\\\"\\nsif = \\\"../0_resources/cistopic_image/20220815_pycistopic.sif\\\"\\nscript = \\\"../0_resources/scripts/create_loom.py\\\"\\nloom_dir = \\\"cell_region_looms\\\"\\nparallel_file = \\\"write_looms.parallel\\\"\\nwith open(parallel_file, \\\"w\\\") as file:\\n\\n    for sample in singlet_cto_dict.keys():\\n        infile = singlet_cto_dict[sample]\\n        outfile = infile.replace(\\\".pkl\\\", \\\".loom\\\").replace(\\n            \\\"cistopic_objects\\\", \\\"cell_region_looms\\\"\\n        )\\n\\n        if not os.path.exists(outfile):\\n            cmd = f\\\"echo {sample} && cd {wdir} && singularity exec -B {mounts} {sif} python {script} -i {infile} -o {outfile}\\\"\\n\\n            print(cmd)\\n            file.write(cmd + \\\"\\\\n\\\")\\n\\n        else:\\n            print(f\\\"{outfile} already exists!\\\")\";\n",
       "                var nbb_cells = Jupyter.notebook.get_cells();\n",
       "                for (var i = 0; i < nbb_cells.length; ++i) {\n",
       "                    if (nbb_cells[i].input_prompt_number == nbb_cell_id) {\n",
       "                        if (nbb_cells[i].get_text() == nbb_unformatted_code) {\n",
       "                             nbb_cells[i].set_text(nbb_formatted_code);\n",
       "                        }\n",
       "                        break;\n",
       "                    }\n",
       "                }\n",
       "            }, 500);\n",
       "            "
      ],
      "text/plain": [
       "<IPython.core.display.Javascript object>"
      ]
     },
     "metadata": {},
     "output_type": "display_data"
    }
   ],
   "source": [
    "#mounts = \"/lustre1,/staging,/data,/vsc-hard-mounts,/scratch\"\n",
    "mounts = \"/dodrio,/readonly/dodrio,/tmp\"\n",
    "sif = \"../0_resources/cistopic_image/20220815_pycistopic.sif\"\n",
    "script = \"../0_resources/scripts/create_loom.py\"\n",
    "loom_dir = \"cell_region_looms\"\n",
    "parallel_file = 'write_looms.parallel'\n",
    "with open(parallel_file, 'w') as file:\n",
    "\n",
    "    for sample in singlet_cto_dict.keys():\n",
    "        infile = singlet_cto_dict[sample]\n",
    "        outfile = infile.replace('.pkl', '.loom').replace('cistopic_objects','cell_region_looms')\n",
    "    \n",
    "        if not os.path.exists(outfile):\n",
    "            cmd = f\"echo {sample} && cd {wdir} && singularity exec -B {mounts} {sif} python {script} -i {infile} -o {outfile}\"\n",
    "\n",
    "            print(cmd)\n",
    "            file.write(cmd + '\\n')\n",
    "            \n",
    "        else:\n",
    "            print(f'{outfile} already exists!')"
   ]
  },
  {
   "cell_type": "markdown",
   "id": "4db60b0d-a681-4f49-a1b2-c01023a5fd45",
   "metadata": {
    "execution": {
     "iopub.execute_input": "2022-09-25T09:03:50.615795Z",
     "iopub.status.busy": "2022-09-25T09:03:50.615574Z",
     "iopub.status.idle": "2022-09-25T09:03:50.629283Z",
     "shell.execute_reply": "2022-09-25T09:03:50.628405Z",
     "shell.execute_reply.started": "2022-09-25T09:03:50.615776Z"
    },
    "papermill": {
     "duration": null,
     "end_time": null,
     "exception": null,
     "start_time": null,
     "status": "pending"
    },
    "tags": []
   },
   "source": [
    "```\n",
    "time cat write_looms.parallel | parallel -j 2 --progress\n",
    "```"
   ]
  }
 ],
 "metadata": {
  "kernelspec": {
   "display_name": "20220815_pycistopic.sif",
   "language": "python",
   "name": "cistopic_20220815"
  },
  "language_info": {
   "codemirror_mode": {
    "name": "ipython",
    "version": 3
   },
   "file_extension": ".py",
   "mimetype": "text/x-python",
   "name": "python",
   "nbconvert_exporter": "python",
   "pygments_lexer": "ipython3",
   "version": "3.8.13"
  },
  "papermill": {
   "default_parameters": {},
   "duration": 22.566212,
   "end_time": "2022-09-14T14:35:59.926646",
   "environment_variables": {},
   "exception": true,
   "input_path": "4a_create_CTO_screen.ipynb",
   "output_path": "4a_create_CTO_screen.OUT.ipynb",
   "parameters": {},
   "start_time": "2022-09-14T14:35:37.360434",
   "version": "2.3.4"
  }
 },
 "nbformat": 4,
 "nbformat_minor": 5
}

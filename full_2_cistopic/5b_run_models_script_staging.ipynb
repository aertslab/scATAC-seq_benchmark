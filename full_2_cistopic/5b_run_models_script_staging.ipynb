{
 "cells": [
  {
   "cell_type": "markdown",
   "id": "5802626a",
   "metadata": {
    "papermill": {
     "duration": 0.018858,
     "end_time": "2022-08-20T22:37:21.062275",
     "exception": false,
     "start_time": "2022-08-20T22:37:21.043417",
     "status": "completed"
    },
    "tags": []
   },
   "source": [
    "# pycisTopic analysis\n",
    "\n",
    "Full dataset, using SCREEN regions."
   ]
  },
  {
   "cell_type": "code",
   "execution_count": 48,
   "id": "f5080427",
   "metadata": {
    "execution": {
     "iopub.execute_input": "2022-09-26T09:04:14.695271Z",
     "iopub.status.busy": "2022-09-26T09:04:14.694413Z",
     "iopub.status.idle": "2022-09-26T09:04:14.704944Z",
     "shell.execute_reply": "2022-09-26T09:04:14.704410Z",
     "shell.execute_reply.started": "2022-09-26T09:04:14.695189Z"
    },
    "papermill": {
     "duration": 0.038814,
     "end_time": "2022-08-20T22:37:21.118471",
     "exception": false,
     "start_time": "2022-08-20T22:37:21.079657",
     "status": "completed"
    },
    "tags": []
   },
   "outputs": [
    {
     "data": {
      "text/plain": [
       "'1.0.2.dev0+g6236cef.d20220816'"
      ]
     },
     "execution_count": 48,
     "metadata": {},
     "output_type": "execute_result"
    }
   ],
   "source": [
    "import pycisTopic\n",
    "pycisTopic.__version__"
   ]
  },
  {
   "cell_type": "code",
   "execution_count": 49,
   "id": "7308bf3d",
   "metadata": {
    "execution": {
     "iopub.execute_input": "2022-09-26T09:04:15.026513Z",
     "iopub.status.busy": "2022-09-26T09:04:15.025844Z",
     "iopub.status.idle": "2022-09-26T09:04:15.032011Z",
     "shell.execute_reply": "2022-09-26T09:04:15.031054Z",
     "shell.execute_reply.started": "2022-09-26T09:04:15.026480Z"
    },
    "papermill": {
     "duration": 0.016775,
     "end_time": "2022-08-20T22:37:21.146588",
     "exception": false,
     "start_time": "2022-08-20T22:37:21.129813",
     "status": "completed"
    },
    "tags": []
   },
   "outputs": [],
   "source": [
    "import warnings\n",
    "warnings.filterwarnings('ignore')\n",
    "warnings.simplefilter('ignore')"
   ]
  },
  {
   "cell_type": "code",
   "execution_count": 50,
   "id": "ce39f3e7",
   "metadata": {
    "execution": {
     "iopub.execute_input": "2022-09-26T09:04:15.378126Z",
     "iopub.status.busy": "2022-09-26T09:04:15.376828Z",
     "iopub.status.idle": "2022-09-26T09:04:15.382671Z",
     "shell.execute_reply": "2022-09-26T09:04:15.381970Z",
     "shell.execute_reply.started": "2022-09-26T09:04:15.378062Z"
    },
    "papermill": {
     "duration": 1.451765,
     "end_time": "2022-08-20T22:37:22.608690",
     "exception": false,
     "start_time": "2022-08-20T22:37:21.156925",
     "status": "completed"
    },
    "tags": []
   },
   "outputs": [],
   "source": [
    "import pickle\n",
    "import pandas as pd"
   ]
  },
  {
   "cell_type": "code",
   "execution_count": 51,
   "id": "4e31901f",
   "metadata": {
    "execution": {
     "iopub.execute_input": "2022-09-26T09:04:15.714447Z",
     "iopub.status.busy": "2022-09-26T09:04:15.713716Z",
     "iopub.status.idle": "2022-09-26T09:04:15.722377Z",
     "shell.execute_reply": "2022-09-26T09:04:15.720790Z",
     "shell.execute_reply.started": "2022-09-26T09:04:15.714386Z"
    },
    "papermill": {
     "duration": 0.019766,
     "end_time": "2022-08-20T22:37:22.644014",
     "exception": false,
     "start_time": "2022-08-20T22:37:22.624248",
     "status": "completed"
    },
    "tags": []
   },
   "outputs": [],
   "source": [
    "import glob\n",
    "from collections import OrderedDict\n",
    "import numpy as np"
   ]
  },
  {
   "cell_type": "code",
   "execution_count": 54,
   "id": "8a3335d3",
   "metadata": {
    "execution": {
     "iopub.execute_input": "2022-09-26T09:04:18.322848Z",
     "iopub.status.busy": "2022-09-26T09:04:18.321891Z",
     "iopub.status.idle": "2022-09-26T09:04:18.516607Z",
     "shell.execute_reply": "2022-09-26T09:04:18.514691Z",
     "shell.execute_reply.started": "2022-09-26T09:04:18.322782Z"
    },
    "papermill": {
     "duration": 0.225017,
     "end_time": "2022-08-20T22:37:22.878396",
     "exception": false,
     "start_time": "2022-08-20T22:37:22.653379",
     "status": "completed"
    },
    "tags": []
   },
   "outputs": [
    {
     "name": "stdout",
     "output_type": "stream",
     "text": [
      "/lustre1/project/stg_00090/scatac_benchmark/full_2_cistopic\n"
     ]
    }
   ],
   "source": [
    "!pwd"
   ]
  },
  {
   "cell_type": "code",
   "execution_count": 55,
   "id": "85c1aaff",
   "metadata": {
    "execution": {
     "iopub.execute_input": "2022-09-26T09:04:19.008019Z",
     "iopub.status.busy": "2022-09-26T09:04:19.007260Z",
     "iopub.status.idle": "2022-09-26T09:04:19.017086Z",
     "shell.execute_reply": "2022-09-26T09:04:19.015140Z",
     "shell.execute_reply.started": "2022-09-26T09:04:19.007947Z"
    },
    "papermill": {
     "duration": 0.022023,
     "end_time": "2022-08-20T22:37:22.915276",
     "exception": false,
     "start_time": "2022-08-20T22:37:22.893253",
     "status": "completed"
    },
    "tags": []
   },
   "outputs": [],
   "source": [
    "import os\n",
    "wdir = '/lustre1/project/stg_00090/scatac_benchmark/full_2_cistopic/'\n",
    "os.chdir( wdir )"
   ]
  },
  {
   "cell_type": "code",
   "execution_count": null,
   "id": "bd6ebac6",
   "metadata": {},
   "outputs": [],
   "source": []
  },
  {
   "cell_type": "code",
   "execution_count": 56,
   "id": "62017630",
   "metadata": {
    "execution": {
     "iopub.execute_input": "2022-09-26T09:04:19.709247Z",
     "iopub.status.busy": "2022-09-26T09:04:19.708533Z",
     "iopub.status.idle": "2022-09-26T09:04:19.724860Z",
     "shell.execute_reply": "2022-09-26T09:04:19.724056Z",
     "shell.execute_reply.started": "2022-09-26T09:04:19.709172Z"
    },
    "papermill": {
     "duration": 0.021659,
     "end_time": "2022-08-20T22:37:22.947247",
     "exception": false,
     "start_time": "2022-08-20T22:37:22.925588",
     "status": "completed"
    },
    "tags": []
   },
   "outputs": [
    {
     "data": {
      "text/plain": [
       "{'BIO_ddseq_1.FULL': 'cistopic_objects/BIO_ddseq_1.FULL__cto.scrublet0-4.fmx.singlets.pkl',\n",
       " 'BIO_ddseq_2.FULL': 'cistopic_objects/BIO_ddseq_2.FULL__cto.scrublet0-4.fmx.singlets.pkl',\n",
       " 'BIO_ddseq_3.FULL': 'cistopic_objects/BIO_ddseq_3.FULL__cto.scrublet0-4.fmx.singlets.pkl',\n",
       " 'BIO_ddseq_4.FULL': 'cistopic_objects/BIO_ddseq_4.FULL__cto.scrublet0-4.fmx.singlets.pkl',\n",
       " 'BRO_mtscatac_1.FULL': 'cistopic_objects/BRO_mtscatac_1.FULL__cto.scrublet0-4.fmx.singlets.pkl',\n",
       " 'BRO_mtscatac_2.FULL': 'cistopic_objects/BRO_mtscatac_2.FULL__cto.scrublet0-4.fmx.singlets.pkl',\n",
       " 'CNA_10xmultiome_1.FULL': 'cistopic_objects/CNA_10xmultiome_1.FULL__cto.scrublet0-4.fmx.singlets.pkl',\n",
       " 'CNA_10xmultiome_2.FULL': 'cistopic_objects/CNA_10xmultiome_2.FULL__cto.scrublet0-4.fmx.singlets.pkl',\n",
       " 'CNA_10xv11_1.FULL': 'cistopic_objects/CNA_10xv11_1.FULL__cto.scrublet0-4.fmx.singlets.pkl',\n",
       " 'CNA_10xv11_2.FULL': 'cistopic_objects/CNA_10xv11_2.FULL__cto.scrublet0-4.fmx.singlets.pkl',\n",
       " 'CNA_10xv11_3.FULL': 'cistopic_objects/CNA_10xv11_3.FULL__cto.scrublet0-4.fmx.singlets.pkl',\n",
       " 'CNA_10xv11_4.FULL': 'cistopic_objects/CNA_10xv11_4.FULL__cto.scrublet0-4.fmx.singlets.pkl',\n",
       " 'CNA_10xv11_5.FULL': 'cistopic_objects/CNA_10xv11_5.FULL__cto.scrublet0-4.fmx.singlets.pkl',\n",
       " 'CNA_10xv2_1.FULL': 'cistopic_objects/CNA_10xv2_1.FULL__cto.scrublet0-4.fmx.singlets.pkl',\n",
       " 'CNA_10xv2_2.FULL': 'cistopic_objects/CNA_10xv2_2.FULL__cto.scrublet0-4.fmx.singlets.pkl',\n",
       " 'CNA_hydrop_1.FULL': 'cistopic_objects/CNA_hydrop_1.FULL__cto.scrublet0-4.fmx.singlets.pkl',\n",
       " 'CNA_hydrop_2.FULL': 'cistopic_objects/CNA_hydrop_2.FULL__cto.scrublet0-4.fmx.singlets.pkl',\n",
       " 'CNA_hydrop_3.FULL': 'cistopic_objects/CNA_hydrop_3.FULL__cto.scrublet0-4.fmx.singlets.pkl',\n",
       " 'CNA_mtscatac_1.FULL': 'cistopic_objects/CNA_mtscatac_1.FULL__cto.scrublet0-4.fmx.singlets.pkl',\n",
       " 'CNA_mtscatac_2.FULL': 'cistopic_objects/CNA_mtscatac_2.FULL__cto.scrublet0-4.fmx.singlets.pkl',\n",
       " 'EPF_hydrop_1.FULL': 'cistopic_objects/EPF_hydrop_1.FULL__cto.scrublet0-4.fmx.singlets.pkl',\n",
       " 'EPF_hydrop_2.FULL': 'cistopic_objects/EPF_hydrop_2.FULL__cto.scrublet0-4.fmx.singlets.pkl',\n",
       " 'EPF_hydrop_3.FULL': 'cistopic_objects/EPF_hydrop_3.FULL__cto.scrublet0-4.fmx.singlets.pkl',\n",
       " 'EPF_hydrop_4.FULL': 'cistopic_objects/EPF_hydrop_4.FULL__cto.scrublet0-4.fmx.singlets.pkl',\n",
       " 'HAR_ddseq_1.FULL': 'cistopic_objects/HAR_ddseq_1.FULL__cto.scrublet0-4.fmx.singlets.pkl',\n",
       " 'HAR_ddseq_2.FULL': 'cistopic_objects/HAR_ddseq_2.FULL__cto.scrublet0-4.fmx.singlets.pkl',\n",
       " 'MDC_mtscatac_1.FULL': 'cistopic_objects/MDC_mtscatac_1.FULL__cto.scrublet0-4.fmx.singlets.pkl',\n",
       " 'MDC_mtscatac_2.FULL': 'cistopic_objects/MDC_mtscatac_2.FULL__cto.scrublet0-4.fmx.singlets.pkl',\n",
       " 'OHS_s3atac_1.FULL': 'cistopic_objects/OHS_s3atac_1.FULL__cto.scrublet0-4.fmx.singlets.pkl',\n",
       " 'OHS_s3atac_2.FULL': 'cistopic_objects/OHS_s3atac_2.FULL__cto.scrublet0-4.fmx.singlets.pkl',\n",
       " 'SAN_10xmultiome_1.FULL': 'cistopic_objects/SAN_10xmultiome_1.FULL__cto.scrublet0-4.fmx.singlets.pkl',\n",
       " 'SAN_10xmultiome_2.FULL': 'cistopic_objects/SAN_10xmultiome_2.FULL__cto.scrublet0-4.fmx.singlets.pkl',\n",
       " 'STA_10xv11_1.FULL': 'cistopic_objects/STA_10xv11_1.FULL__cto.scrublet0-4.fmx.singlets.pkl',\n",
       " 'STA_10xv11_2.FULL': 'cistopic_objects/STA_10xv11_2.FULL__cto.scrublet0-4.fmx.singlets.pkl',\n",
       " 'TXG_10xv11_1.FULL': 'cistopic_objects/TXG_10xv11_1.FULL__cto.scrublet0-4.fmx.singlets.pkl',\n",
       " 'TXG_10xv2_1.FULL': 'cistopic_objects/TXG_10xv2_1.FULL__cto.scrublet0-4.fmx.singlets.pkl',\n",
       " 'TXG_10xv2_2.FULL': 'cistopic_objects/TXG_10xv2_2.FULL__cto.scrublet0-4.fmx.singlets.pkl',\n",
       " 'UCS_ddseq_1.FULL': 'cistopic_objects/UCS_ddseq_1.FULL__cto.scrublet0-4.fmx.singlets.pkl',\n",
       " 'UCS_ddseq_2.FULL': 'cistopic_objects/UCS_ddseq_2.FULL__cto.scrublet0-4.fmx.singlets.pkl',\n",
       " 'VIB_10xmultiome_1.FULL': 'cistopic_objects/VIB_10xmultiome_1.FULL__cto.scrublet0-4.fmx.singlets.pkl',\n",
       " 'VIB_10xmultiome_2.FULL': 'cistopic_objects/VIB_10xmultiome_2.FULL__cto.scrublet0-4.fmx.singlets.pkl',\n",
       " 'VIB_10xv1_1.FULL': 'cistopic_objects/VIB_10xv1_1.FULL__cto.scrublet0-4.fmx.singlets.pkl',\n",
       " 'VIB_10xv1_2.FULL': 'cistopic_objects/VIB_10xv1_2.FULL__cto.scrublet0-4.fmx.singlets.pkl',\n",
       " 'VIB_10xv2_1.FULL': 'cistopic_objects/VIB_10xv2_1.FULL__cto.scrublet0-4.fmx.singlets.pkl',\n",
       " 'VIB_10xv2_2.FULL': 'cistopic_objects/VIB_10xv2_2.FULL__cto.scrublet0-4.fmx.singlets.pkl',\n",
       " 'VIB_hydrop_1.FULL': 'cistopic_objects/VIB_hydrop_1.FULL__cto.scrublet0-4.fmx.singlets.pkl',\n",
       " 'VIB_hydrop_11.FULL': 'cistopic_objects/VIB_hydrop_11.FULL__cto.scrublet0-4.fmx.singlets.pkl',\n",
       " 'VIB_hydrop_12.FULL': 'cistopic_objects/VIB_hydrop_12.FULL__cto.scrublet0-4.fmx.singlets.pkl',\n",
       " 'VIB_hydrop_2.FULL': 'cistopic_objects/VIB_hydrop_2.FULL__cto.scrublet0-4.fmx.singlets.pkl',\n",
       " 'VIB_hydrop_21.FULL': 'cistopic_objects/VIB_hydrop_21.FULL__cto.scrublet0-4.fmx.singlets.pkl',\n",
       " 'VIB_hydrop_22.FULL': 'cistopic_objects/VIB_hydrop_22.FULL__cto.scrublet0-4.fmx.singlets.pkl'}"
      ]
     },
     "execution_count": 56,
     "metadata": {},
     "output_type": "execute_result"
    }
   ],
   "source": [
    "scrub_name_suffix = \"0-4\"\n",
    "cto_paths = sorted(glob.glob(f'cistopic_objects/*__cto.scrublet{scrub_name_suffix}.fmx.singlets.pkl'))\n",
    "cistopic_obj_path_dict = {x.split('/')[-1].split(f'__cto.scrublet{scrub_name_suffix}.fmx.singlets.pkl')[0]:x for x in cto_paths}\n",
    "cistopic_obj_path_dict"
   ]
  },
  {
   "cell_type": "code",
   "execution_count": 57,
   "id": "120d89e9",
   "metadata": {
    "execution": {
     "iopub.execute_input": "2022-09-26T09:04:19.870114Z",
     "iopub.status.busy": "2022-09-26T09:04:19.869395Z",
     "iopub.status.idle": "2022-09-26T09:04:19.957605Z",
     "shell.execute_reply": "2022-09-26T09:04:19.956166Z",
     "shell.execute_reply.started": "2022-09-26T09:04:19.870067Z"
    },
    "papermill": {
     "duration": 0.236882,
     "end_time": "2022-08-20T22:37:23.193992",
     "exception": false,
     "start_time": "2022-08-20T22:37:22.957110",
     "status": "completed"
    },
    "tags": []
   },
   "outputs": [
    {
     "name": "stdout",
     "output_type": "stream",
     "text": [
      "models__screen__mallet/model_intermediates/BIO_ddseq_1.FULL_model_intermediates/ already exists!\n",
      "echo BIO_ddseq_1.FULL && cd /lustre1/project/stg_00090/scatac_benchmark/full_2_cistopic/ && singularity exec -B /lustre1,/staging,/data,/vsc-hard-mounts,/scratch ../0_resources/cistopic_image/20220815_pycistopic.sif python ../0_resources/scripts/runModels_lda_mallet.py -i cistopic_objects/BIO_ddseq_1.FULL__cto.scrublet0-4.fmx.singlets.pkl -o models__screen__mallet/BIO_ddseq_1.FULL__models_400_iter.pkl -nt 1,2,3,4,5,6,7,8,9,10,11,12,13,14,15,16,17,18,19,20,21,22,23,24,25,26,27,28,29,30 -c 36 -it 400 -a 50 -abt True -e 0.1 -ebt False -sp models__screen__mallet/model_intermediates/BIO_ddseq_1.FULL_model_intermediates/ -s 555 -td models__screen__mallet/model_tmp/BIO_ddseq_1.FULL_model_tmp/ > models__screen__mallet/BIO_ddseq_1.FULL.models_out_log30.txt\n",
      "\n",
      "\n",
      "models__screen__mallet/model_intermediates/BIO_ddseq_2.FULL_model_intermediates/ already exists!\n",
      "echo BIO_ddseq_2.FULL && cd /lustre1/project/stg_00090/scatac_benchmark/full_2_cistopic/ && singularity exec -B /lustre1,/staging,/data,/vsc-hard-mounts,/scratch ../0_resources/cistopic_image/20220815_pycistopic.sif python ../0_resources/scripts/runModels_lda_mallet.py -i cistopic_objects/BIO_ddseq_2.FULL__cto.scrublet0-4.fmx.singlets.pkl -o models__screen__mallet/BIO_ddseq_2.FULL__models_400_iter.pkl -nt 1,2,3,4,5,6,7,8,9,10,11,12,13,14,15,16,17,18,19,20,21,22,23,24,25,26,27,28,29,30 -c 36 -it 400 -a 50 -abt True -e 0.1 -ebt False -sp models__screen__mallet/model_intermediates/BIO_ddseq_2.FULL_model_intermediates/ -s 555 -td models__screen__mallet/model_tmp/BIO_ddseq_2.FULL_model_tmp/ > models__screen__mallet/BIO_ddseq_2.FULL.models_out_log30.txt\n",
      "\n",
      "\n",
      "models__screen__mallet/BIO_ddseq_3.FULL__models_400_iter.pkl already exists!\n",
      "\n",
      "\n",
      "models__screen__mallet/BIO_ddseq_4.FULL__models_400_iter.pkl already exists!\n",
      "\n",
      "\n",
      "models__screen__mallet/model_intermediates/BRO_mtscatac_1.FULL_model_intermediates/ already exists!\n",
      "echo BRO_mtscatac_1.FULL && cd /lustre1/project/stg_00090/scatac_benchmark/full_2_cistopic/ && singularity exec -B /lustre1,/staging,/data,/vsc-hard-mounts,/scratch ../0_resources/cistopic_image/20220815_pycistopic.sif python ../0_resources/scripts/runModels_lda_mallet.py -i cistopic_objects/BRO_mtscatac_1.FULL__cto.scrublet0-4.fmx.singlets.pkl -o models__screen__mallet/BRO_mtscatac_1.FULL__models_400_iter.pkl -nt 1,2,3,4,5,6,7,8,9,10,11,12,13,14,15,16,17,18,19,20,21,22,23,24,25,26,27,28,29,30 -c 36 -it 400 -a 50 -abt True -e 0.1 -ebt False -sp models__screen__mallet/model_intermediates/BRO_mtscatac_1.FULL_model_intermediates/ -s 555 -td models__screen__mallet/model_tmp/BRO_mtscatac_1.FULL_model_tmp/ > models__screen__mallet/BRO_mtscatac_1.FULL.models_out_log30.txt\n",
      "\n",
      "\n",
      "models__screen__mallet/model_intermediates/BRO_mtscatac_2.FULL_model_intermediates/ already exists!\n",
      "echo BRO_mtscatac_2.FULL && cd /lustre1/project/stg_00090/scatac_benchmark/full_2_cistopic/ && singularity exec -B /lustre1,/staging,/data,/vsc-hard-mounts,/scratch ../0_resources/cistopic_image/20220815_pycistopic.sif python ../0_resources/scripts/runModels_lda_mallet.py -i cistopic_objects/BRO_mtscatac_2.FULL__cto.scrublet0-4.fmx.singlets.pkl -o models__screen__mallet/BRO_mtscatac_2.FULL__models_400_iter.pkl -nt 1,2,3,4,5,6,7,8,9,10,11,12,13,14,15,16,17,18,19,20,21,22,23,24,25,26,27,28,29,30 -c 36 -it 400 -a 50 -abt True -e 0.1 -ebt False -sp models__screen__mallet/model_intermediates/BRO_mtscatac_2.FULL_model_intermediates/ -s 555 -td models__screen__mallet/model_tmp/BRO_mtscatac_2.FULL_model_tmp/ > models__screen__mallet/BRO_mtscatac_2.FULL.models_out_log30.txt\n",
      "\n",
      "\n",
      "models__screen__mallet/model_intermediates/CNA_10xmultiome_1.FULL_model_intermediates/ already exists!\n",
      "echo CNA_10xmultiome_1.FULL && cd /lustre1/project/stg_00090/scatac_benchmark/full_2_cistopic/ && singularity exec -B /lustre1,/staging,/data,/vsc-hard-mounts,/scratch ../0_resources/cistopic_image/20220815_pycistopic.sif python ../0_resources/scripts/runModels_lda_mallet.py -i cistopic_objects/CNA_10xmultiome_1.FULL__cto.scrublet0-4.fmx.singlets.pkl -o models__screen__mallet/CNA_10xmultiome_1.FULL__models_400_iter.pkl -nt 1,2,3,4,5,6,7,8,9,10,11,12,13,14,15,16,17,18,19,20,21,22,23,24,25,26,27,28,29,30 -c 36 -it 400 -a 50 -abt True -e 0.1 -ebt False -sp models__screen__mallet/model_intermediates/CNA_10xmultiome_1.FULL_model_intermediates/ -s 555 -td models__screen__mallet/model_tmp/CNA_10xmultiome_1.FULL_model_tmp/ > models__screen__mallet/CNA_10xmultiome_1.FULL.models_out_log30.txt\n",
      "\n",
      "\n",
      "models__screen__mallet/model_intermediates/CNA_10xmultiome_2.FULL_model_intermediates/ already exists!\n",
      "echo CNA_10xmultiome_2.FULL && cd /lustre1/project/stg_00090/scatac_benchmark/full_2_cistopic/ && singularity exec -B /lustre1,/staging,/data,/vsc-hard-mounts,/scratch ../0_resources/cistopic_image/20220815_pycistopic.sif python ../0_resources/scripts/runModels_lda_mallet.py -i cistopic_objects/CNA_10xmultiome_2.FULL__cto.scrublet0-4.fmx.singlets.pkl -o models__screen__mallet/CNA_10xmultiome_2.FULL__models_400_iter.pkl -nt 1,2,3,4,5,6,7,8,9,10,11,12,13,14,15,16,17,18,19,20,21,22,23,24,25,26,27,28,29,30 -c 36 -it 400 -a 50 -abt True -e 0.1 -ebt False -sp models__screen__mallet/model_intermediates/CNA_10xmultiome_2.FULL_model_intermediates/ -s 555 -td models__screen__mallet/model_tmp/CNA_10xmultiome_2.FULL_model_tmp/ > models__screen__mallet/CNA_10xmultiome_2.FULL.models_out_log30.txt\n",
      "\n",
      "\n",
      "models__screen__mallet/model_intermediates/CNA_10xv11_1.FULL_model_intermediates/ already exists!\n",
      "echo CNA_10xv11_1.FULL && cd /lustre1/project/stg_00090/scatac_benchmark/full_2_cistopic/ && singularity exec -B /lustre1,/staging,/data,/vsc-hard-mounts,/scratch ../0_resources/cistopic_image/20220815_pycistopic.sif python ../0_resources/scripts/runModels_lda_mallet.py -i cistopic_objects/CNA_10xv11_1.FULL__cto.scrublet0-4.fmx.singlets.pkl -o models__screen__mallet/CNA_10xv11_1.FULL__models_400_iter.pkl -nt 1,2,3,4,5,6,7,8,9,10,11,12,13,14,15,16,17,18,19,20,21,22,23,24,25,26,27,28,29,30 -c 36 -it 400 -a 50 -abt True -e 0.1 -ebt False -sp models__screen__mallet/model_intermediates/CNA_10xv11_1.FULL_model_intermediates/ -s 555 -td models__screen__mallet/model_tmp/CNA_10xv11_1.FULL_model_tmp/ > models__screen__mallet/CNA_10xv11_1.FULL.models_out_log30.txt\n",
      "\n",
      "\n",
      "models__screen__mallet/model_intermediates/CNA_10xv11_2.FULL_model_intermediates/ already exists!\n",
      "echo CNA_10xv11_2.FULL && cd /lustre1/project/stg_00090/scatac_benchmark/full_2_cistopic/ && singularity exec -B /lustre1,/staging,/data,/vsc-hard-mounts,/scratch ../0_resources/cistopic_image/20220815_pycistopic.sif python ../0_resources/scripts/runModels_lda_mallet.py -i cistopic_objects/CNA_10xv11_2.FULL__cto.scrublet0-4.fmx.singlets.pkl -o models__screen__mallet/CNA_10xv11_2.FULL__models_400_iter.pkl -nt 1,2,3,4,5,6,7,8,9,10,11,12,13,14,15,16,17,18,19,20,21,22,23,24,25,26,27,28,29,30 -c 36 -it 400 -a 50 -abt True -e 0.1 -ebt False -sp models__screen__mallet/model_intermediates/CNA_10xv11_2.FULL_model_intermediates/ -s 555 -td models__screen__mallet/model_tmp/CNA_10xv11_2.FULL_model_tmp/ > models__screen__mallet/CNA_10xv11_2.FULL.models_out_log30.txt\n",
      "\n",
      "\n",
      "models__screen__mallet/model_intermediates/CNA_10xv11_3.FULL_model_intermediates/ already exists!\n",
      "echo CNA_10xv11_3.FULL && cd /lustre1/project/stg_00090/scatac_benchmark/full_2_cistopic/ && singularity exec -B /lustre1,/staging,/data,/vsc-hard-mounts,/scratch ../0_resources/cistopic_image/20220815_pycistopic.sif python ../0_resources/scripts/runModels_lda_mallet.py -i cistopic_objects/CNA_10xv11_3.FULL__cto.scrublet0-4.fmx.singlets.pkl -o models__screen__mallet/CNA_10xv11_3.FULL__models_400_iter.pkl -nt 1,2,3,4,5,6,7,8,9,10,11,12,13,14,15,16,17,18,19,20,21,22,23,24,25,26,27,28,29,30 -c 36 -it 400 -a 50 -abt True -e 0.1 -ebt False -sp models__screen__mallet/model_intermediates/CNA_10xv11_3.FULL_model_intermediates/ -s 555 -td models__screen__mallet/model_tmp/CNA_10xv11_3.FULL_model_tmp/ > models__screen__mallet/CNA_10xv11_3.FULL.models_out_log30.txt\n",
      "\n",
      "\n",
      "models__screen__mallet/model_intermediates/CNA_10xv11_4.FULL_model_intermediates/ already exists!\n",
      "echo CNA_10xv11_4.FULL && cd /lustre1/project/stg_00090/scatac_benchmark/full_2_cistopic/ && singularity exec -B /lustre1,/staging,/data,/vsc-hard-mounts,/scratch ../0_resources/cistopic_image/20220815_pycistopic.sif python ../0_resources/scripts/runModels_lda_mallet.py -i cistopic_objects/CNA_10xv11_4.FULL__cto.scrublet0-4.fmx.singlets.pkl -o models__screen__mallet/CNA_10xv11_4.FULL__models_400_iter.pkl -nt 1,2,3,4,5,6,7,8,9,10,11,12,13,14,15,16,17,18,19,20,21,22,23,24,25,26,27,28,29,30 -c 36 -it 400 -a 50 -abt True -e 0.1 -ebt False -sp models__screen__mallet/model_intermediates/CNA_10xv11_4.FULL_model_intermediates/ -s 555 -td models__screen__mallet/model_tmp/CNA_10xv11_4.FULL_model_tmp/ > models__screen__mallet/CNA_10xv11_4.FULL.models_out_log30.txt\n",
      "\n",
      "\n",
      "models__screen__mallet/model_intermediates/CNA_10xv11_5.FULL_model_intermediates/ already exists!\n",
      "echo CNA_10xv11_5.FULL && cd /lustre1/project/stg_00090/scatac_benchmark/full_2_cistopic/ && singularity exec -B /lustre1,/staging,/data,/vsc-hard-mounts,/scratch ../0_resources/cistopic_image/20220815_pycistopic.sif python ../0_resources/scripts/runModels_lda_mallet.py -i cistopic_objects/CNA_10xv11_5.FULL__cto.scrublet0-4.fmx.singlets.pkl -o models__screen__mallet/CNA_10xv11_5.FULL__models_400_iter.pkl -nt 1,2,3,4,5,6,7,8,9,10,11,12,13,14,15,16,17,18,19,20,21,22,23,24,25,26,27,28,29,30 -c 36 -it 400 -a 50 -abt True -e 0.1 -ebt False -sp models__screen__mallet/model_intermediates/CNA_10xv11_5.FULL_model_intermediates/ -s 555 -td models__screen__mallet/model_tmp/CNA_10xv11_5.FULL_model_tmp/ > models__screen__mallet/CNA_10xv11_5.FULL.models_out_log30.txt\n",
      "\n",
      "\n",
      "models__screen__mallet/model_intermediates/CNA_10xv2_1.FULL_model_intermediates/ already exists!\n",
      "echo CNA_10xv2_1.FULL && cd /lustre1/project/stg_00090/scatac_benchmark/full_2_cistopic/ && singularity exec -B /lustre1,/staging,/data,/vsc-hard-mounts,/scratch ../0_resources/cistopic_image/20220815_pycistopic.sif python ../0_resources/scripts/runModels_lda_mallet.py -i cistopic_objects/CNA_10xv2_1.FULL__cto.scrublet0-4.fmx.singlets.pkl -o models__screen__mallet/CNA_10xv2_1.FULL__models_400_iter.pkl -nt 1,2,3,4,5,6,7,8,9,10,11,12,13,14,15,16,17,18,19,20,21,22,23,24,25,26,27,28,29,30 -c 36 -it 400 -a 50 -abt True -e 0.1 -ebt False -sp models__screen__mallet/model_intermediates/CNA_10xv2_1.FULL_model_intermediates/ -s 555 -td models__screen__mallet/model_tmp/CNA_10xv2_1.FULL_model_tmp/ > models__screen__mallet/CNA_10xv2_1.FULL.models_out_log30.txt\n",
      "\n",
      "\n",
      "models__screen__mallet/model_intermediates/CNA_10xv2_2.FULL_model_intermediates/ already exists!\n",
      "echo CNA_10xv2_2.FULL && cd /lustre1/project/stg_00090/scatac_benchmark/full_2_cistopic/ && singularity exec -B /lustre1,/staging,/data,/vsc-hard-mounts,/scratch ../0_resources/cistopic_image/20220815_pycistopic.sif python ../0_resources/scripts/runModels_lda_mallet.py -i cistopic_objects/CNA_10xv2_2.FULL__cto.scrublet0-4.fmx.singlets.pkl -o models__screen__mallet/CNA_10xv2_2.FULL__models_400_iter.pkl -nt 1,2,3,4,5,6,7,8,9,10,11,12,13,14,15,16,17,18,19,20,21,22,23,24,25,26,27,28,29,30 -c 36 -it 400 -a 50 -abt True -e 0.1 -ebt False -sp models__screen__mallet/model_intermediates/CNA_10xv2_2.FULL_model_intermediates/ -s 555 -td models__screen__mallet/model_tmp/CNA_10xv2_2.FULL_model_tmp/ > models__screen__mallet/CNA_10xv2_2.FULL.models_out_log30.txt\n",
      "\n",
      "\n",
      "models__screen__mallet/CNA_hydrop_1.FULL__models_400_iter.pkl already exists!\n",
      "\n",
      "\n",
      "models__screen__mallet/CNA_hydrop_2.FULL__models_400_iter.pkl already exists!\n",
      "\n",
      "\n",
      "models__screen__mallet/CNA_hydrop_3.FULL__models_400_iter.pkl already exists!\n",
      "\n",
      "\n",
      "models__screen__mallet/model_intermediates/CNA_mtscatac_1.FULL_model_intermediates/ already exists!\n",
      "echo CNA_mtscatac_1.FULL && cd /lustre1/project/stg_00090/scatac_benchmark/full_2_cistopic/ && singularity exec -B /lustre1,/staging,/data,/vsc-hard-mounts,/scratch ../0_resources/cistopic_image/20220815_pycistopic.sif python ../0_resources/scripts/runModels_lda_mallet.py -i cistopic_objects/CNA_mtscatac_1.FULL__cto.scrublet0-4.fmx.singlets.pkl -o models__screen__mallet/CNA_mtscatac_1.FULL__models_400_iter.pkl -nt 1,2,3,4,5,6,7,8,9,10,11,12,13,14,15,16,17,18,19,20,21,22,23,24,25,26,27,28,29,30 -c 36 -it 400 -a 50 -abt True -e 0.1 -ebt False -sp models__screen__mallet/model_intermediates/CNA_mtscatac_1.FULL_model_intermediates/ -s 555 -td models__screen__mallet/model_tmp/CNA_mtscatac_1.FULL_model_tmp/ > models__screen__mallet/CNA_mtscatac_1.FULL.models_out_log30.txt\n",
      "\n",
      "\n",
      "models__screen__mallet/model_intermediates/CNA_mtscatac_2.FULL_model_intermediates/ already exists!\n",
      "echo CNA_mtscatac_2.FULL && cd /lustre1/project/stg_00090/scatac_benchmark/full_2_cistopic/ && singularity exec -B /lustre1,/staging,/data,/vsc-hard-mounts,/scratch ../0_resources/cistopic_image/20220815_pycistopic.sif python ../0_resources/scripts/runModels_lda_mallet.py -i cistopic_objects/CNA_mtscatac_2.FULL__cto.scrublet0-4.fmx.singlets.pkl -o models__screen__mallet/CNA_mtscatac_2.FULL__models_400_iter.pkl -nt 1,2,3,4,5,6,7,8,9,10,11,12,13,14,15,16,17,18,19,20,21,22,23,24,25,26,27,28,29,30 -c 36 -it 400 -a 50 -abt True -e 0.1 -ebt False -sp models__screen__mallet/model_intermediates/CNA_mtscatac_2.FULL_model_intermediates/ -s 555 -td models__screen__mallet/model_tmp/CNA_mtscatac_2.FULL_model_tmp/ > models__screen__mallet/CNA_mtscatac_2.FULL.models_out_log30.txt\n",
      "\n",
      "\n",
      "models__screen__mallet/EPF_hydrop_1.FULL__models_400_iter.pkl already exists!\n",
      "\n",
      "\n",
      "models__screen__mallet/EPF_hydrop_2.FULL__models_400_iter.pkl already exists!\n",
      "\n",
      "\n",
      "models__screen__mallet/EPF_hydrop_3.FULL__models_400_iter.pkl already exists!\n",
      "\n",
      "\n",
      "models__screen__mallet/EPF_hydrop_4.FULL__models_400_iter.pkl already exists!\n",
      "\n",
      "\n",
      "models__screen__mallet/model_intermediates/HAR_ddseq_1.FULL_model_intermediates/ already exists!\n",
      "echo HAR_ddseq_1.FULL && cd /lustre1/project/stg_00090/scatac_benchmark/full_2_cistopic/ && singularity exec -B /lustre1,/staging,/data,/vsc-hard-mounts,/scratch ../0_resources/cistopic_image/20220815_pycistopic.sif python ../0_resources/scripts/runModels_lda_mallet.py -i cistopic_objects/HAR_ddseq_1.FULL__cto.scrublet0-4.fmx.singlets.pkl -o models__screen__mallet/HAR_ddseq_1.FULL__models_400_iter.pkl -nt 1,2,3,4,5,6,7,8,9,10,11,12,13,14,15,16,17,18,19,20,21,22,23,24,25,26,27,28,29,30 -c 36 -it 400 -a 50 -abt True -e 0.1 -ebt False -sp models__screen__mallet/model_intermediates/HAR_ddseq_1.FULL_model_intermediates/ -s 555 -td models__screen__mallet/model_tmp/HAR_ddseq_1.FULL_model_tmp/ > models__screen__mallet/HAR_ddseq_1.FULL.models_out_log30.txt\n",
      "\n",
      "\n",
      "models__screen__mallet/model_intermediates/HAR_ddseq_2.FULL_model_intermediates/ already exists!\n",
      "echo HAR_ddseq_2.FULL && cd /lustre1/project/stg_00090/scatac_benchmark/full_2_cistopic/ && singularity exec -B /lustre1,/staging,/data,/vsc-hard-mounts,/scratch ../0_resources/cistopic_image/20220815_pycistopic.sif python ../0_resources/scripts/runModels_lda_mallet.py -i cistopic_objects/HAR_ddseq_2.FULL__cto.scrublet0-4.fmx.singlets.pkl -o models__screen__mallet/HAR_ddseq_2.FULL__models_400_iter.pkl -nt 1,2,3,4,5,6,7,8,9,10,11,12,13,14,15,16,17,18,19,20,21,22,23,24,25,26,27,28,29,30 -c 36 -it 400 -a 50 -abt True -e 0.1 -ebt False -sp models__screen__mallet/model_intermediates/HAR_ddseq_2.FULL_model_intermediates/ -s 555 -td models__screen__mallet/model_tmp/HAR_ddseq_2.FULL_model_tmp/ > models__screen__mallet/HAR_ddseq_2.FULL.models_out_log30.txt\n",
      "\n",
      "\n",
      "models__screen__mallet/model_intermediates/MDC_mtscatac_1.FULL_model_intermediates/ already exists!\n",
      "echo MDC_mtscatac_1.FULL && cd /lustre1/project/stg_00090/scatac_benchmark/full_2_cistopic/ && singularity exec -B /lustre1,/staging,/data,/vsc-hard-mounts,/scratch ../0_resources/cistopic_image/20220815_pycistopic.sif python ../0_resources/scripts/runModels_lda_mallet.py -i cistopic_objects/MDC_mtscatac_1.FULL__cto.scrublet0-4.fmx.singlets.pkl -o models__screen__mallet/MDC_mtscatac_1.FULL__models_400_iter.pkl -nt 1,2,3,4,5,6,7,8,9,10,11,12,13,14,15,16,17,18,19,20,21,22,23,24,25,26,27,28,29,30 -c 36 -it 400 -a 50 -abt True -e 0.1 -ebt False -sp models__screen__mallet/model_intermediates/MDC_mtscatac_1.FULL_model_intermediates/ -s 555 -td models__screen__mallet/model_tmp/MDC_mtscatac_1.FULL_model_tmp/ > models__screen__mallet/MDC_mtscatac_1.FULL.models_out_log30.txt\n",
      "\n",
      "\n",
      "models__screen__mallet/model_intermediates/MDC_mtscatac_2.FULL_model_intermediates/ already exists!\n",
      "echo MDC_mtscatac_2.FULL && cd /lustre1/project/stg_00090/scatac_benchmark/full_2_cistopic/ && singularity exec -B /lustre1,/staging,/data,/vsc-hard-mounts,/scratch ../0_resources/cistopic_image/20220815_pycistopic.sif python ../0_resources/scripts/runModels_lda_mallet.py -i cistopic_objects/MDC_mtscatac_2.FULL__cto.scrublet0-4.fmx.singlets.pkl -o models__screen__mallet/MDC_mtscatac_2.FULL__models_400_iter.pkl -nt 1,2,3,4,5,6,7,8,9,10,11,12,13,14,15,16,17,18,19,20,21,22,23,24,25,26,27,28,29,30 -c 36 -it 400 -a 50 -abt True -e 0.1 -ebt False -sp models__screen__mallet/model_intermediates/MDC_mtscatac_2.FULL_model_intermediates/ -s 555 -td models__screen__mallet/model_tmp/MDC_mtscatac_2.FULL_model_tmp/ > models__screen__mallet/MDC_mtscatac_2.FULL.models_out_log30.txt\n",
      "\n",
      "\n",
      "models__screen__mallet/model_intermediates/OHS_s3atac_1.FULL_model_intermediates/ already exists!\n",
      "echo OHS_s3atac_1.FULL && cd /lustre1/project/stg_00090/scatac_benchmark/full_2_cistopic/ && singularity exec -B /lustre1,/staging,/data,/vsc-hard-mounts,/scratch ../0_resources/cistopic_image/20220815_pycistopic.sif python ../0_resources/scripts/runModels_lda_mallet.py -i cistopic_objects/OHS_s3atac_1.FULL__cto.scrublet0-4.fmx.singlets.pkl -o models__screen__mallet/OHS_s3atac_1.FULL__models_400_iter.pkl -nt 1,2,3,4,5,6,7,8,9,10,11,12,13,14,15,16,17,18,19,20,21,22,23,24,25,26,27,28,29,30 -c 36 -it 400 -a 50 -abt True -e 0.1 -ebt False -sp models__screen__mallet/model_intermediates/OHS_s3atac_1.FULL_model_intermediates/ -s 555 -td models__screen__mallet/model_tmp/OHS_s3atac_1.FULL_model_tmp/ > models__screen__mallet/OHS_s3atac_1.FULL.models_out_log30.txt\n",
      "\n",
      "\n",
      "models__screen__mallet/model_intermediates/OHS_s3atac_2.FULL_model_intermediates/ already exists!\n",
      "echo OHS_s3atac_2.FULL && cd /lustre1/project/stg_00090/scatac_benchmark/full_2_cistopic/ && singularity exec -B /lustre1,/staging,/data,/vsc-hard-mounts,/scratch ../0_resources/cistopic_image/20220815_pycistopic.sif python ../0_resources/scripts/runModels_lda_mallet.py -i cistopic_objects/OHS_s3atac_2.FULL__cto.scrublet0-4.fmx.singlets.pkl -o models__screen__mallet/OHS_s3atac_2.FULL__models_400_iter.pkl -nt 1,2,3,4,5,6,7,8,9,10,11,12,13,14,15,16,17,18,19,20,21,22,23,24,25,26,27,28,29,30 -c 36 -it 400 -a 50 -abt True -e 0.1 -ebt False -sp models__screen__mallet/model_intermediates/OHS_s3atac_2.FULL_model_intermediates/ -s 555 -td models__screen__mallet/model_tmp/OHS_s3atac_2.FULL_model_tmp/ > models__screen__mallet/OHS_s3atac_2.FULL.models_out_log30.txt\n",
      "\n",
      "\n",
      "models__screen__mallet/model_intermediates/SAN_10xmultiome_1.FULL_model_intermediates/ already exists!\n",
      "echo SAN_10xmultiome_1.FULL && cd /lustre1/project/stg_00090/scatac_benchmark/full_2_cistopic/ && singularity exec -B /lustre1,/staging,/data,/vsc-hard-mounts,/scratch ../0_resources/cistopic_image/20220815_pycistopic.sif python ../0_resources/scripts/runModels_lda_mallet.py -i cistopic_objects/SAN_10xmultiome_1.FULL__cto.scrublet0-4.fmx.singlets.pkl -o models__screen__mallet/SAN_10xmultiome_1.FULL__models_400_iter.pkl -nt 1,2,3,4,5,6,7,8,9,10,11,12,13,14,15,16,17,18,19,20,21,22,23,24,25,26,27,28,29,30 -c 36 -it 400 -a 50 -abt True -e 0.1 -ebt False -sp models__screen__mallet/model_intermediates/SAN_10xmultiome_1.FULL_model_intermediates/ -s 555 -td models__screen__mallet/model_tmp/SAN_10xmultiome_1.FULL_model_tmp/ > models__screen__mallet/SAN_10xmultiome_1.FULL.models_out_log30.txt\n",
      "\n",
      "\n",
      "models__screen__mallet/model_intermediates/SAN_10xmultiome_2.FULL_model_intermediates/ already exists!\n",
      "echo SAN_10xmultiome_2.FULL && cd /lustre1/project/stg_00090/scatac_benchmark/full_2_cistopic/ && singularity exec -B /lustre1,/staging,/data,/vsc-hard-mounts,/scratch ../0_resources/cistopic_image/20220815_pycistopic.sif python ../0_resources/scripts/runModels_lda_mallet.py -i cistopic_objects/SAN_10xmultiome_2.FULL__cto.scrublet0-4.fmx.singlets.pkl -o models__screen__mallet/SAN_10xmultiome_2.FULL__models_400_iter.pkl -nt 1,2,3,4,5,6,7,8,9,10,11,12,13,14,15,16,17,18,19,20,21,22,23,24,25,26,27,28,29,30 -c 36 -it 400 -a 50 -abt True -e 0.1 -ebt False -sp models__screen__mallet/model_intermediates/SAN_10xmultiome_2.FULL_model_intermediates/ -s 555 -td models__screen__mallet/model_tmp/SAN_10xmultiome_2.FULL_model_tmp/ > models__screen__mallet/SAN_10xmultiome_2.FULL.models_out_log30.txt\n",
      "\n",
      "\n",
      "models__screen__mallet/model_intermediates/STA_10xv11_1.FULL_model_intermediates/ already exists!\n",
      "echo STA_10xv11_1.FULL && cd /lustre1/project/stg_00090/scatac_benchmark/full_2_cistopic/ && singularity exec -B /lustre1,/staging,/data,/vsc-hard-mounts,/scratch ../0_resources/cistopic_image/20220815_pycistopic.sif python ../0_resources/scripts/runModels_lda_mallet.py -i cistopic_objects/STA_10xv11_1.FULL__cto.scrublet0-4.fmx.singlets.pkl -o models__screen__mallet/STA_10xv11_1.FULL__models_400_iter.pkl -nt 1,2,3,4,5,6,7,8,9,10,11,12,13,14,15,16,17,18,19,20,21,22,23,24,25,26,27,28,29,30 -c 36 -it 400 -a 50 -abt True -e 0.1 -ebt False -sp models__screen__mallet/model_intermediates/STA_10xv11_1.FULL_model_intermediates/ -s 555 -td models__screen__mallet/model_tmp/STA_10xv11_1.FULL_model_tmp/ > models__screen__mallet/STA_10xv11_1.FULL.models_out_log30.txt\n",
      "\n",
      "\n",
      "models__screen__mallet/model_intermediates/STA_10xv11_2.FULL_model_intermediates/ already exists!\n",
      "echo STA_10xv11_2.FULL && cd /lustre1/project/stg_00090/scatac_benchmark/full_2_cistopic/ && singularity exec -B /lustre1,/staging,/data,/vsc-hard-mounts,/scratch ../0_resources/cistopic_image/20220815_pycistopic.sif python ../0_resources/scripts/runModels_lda_mallet.py -i cistopic_objects/STA_10xv11_2.FULL__cto.scrublet0-4.fmx.singlets.pkl -o models__screen__mallet/STA_10xv11_2.FULL__models_400_iter.pkl -nt 1,2,3,4,5,6,7,8,9,10,11,12,13,14,15,16,17,18,19,20,21,22,23,24,25,26,27,28,29,30 -c 36 -it 400 -a 50 -abt True -e 0.1 -ebt False -sp models__screen__mallet/model_intermediates/STA_10xv11_2.FULL_model_intermediates/ -s 555 -td models__screen__mallet/model_tmp/STA_10xv11_2.FULL_model_tmp/ > models__screen__mallet/STA_10xv11_2.FULL.models_out_log30.txt\n",
      "\n",
      "\n",
      "models__screen__mallet/model_intermediates/TXG_10xv11_1.FULL_model_intermediates/ already exists!\n",
      "echo TXG_10xv11_1.FULL && cd /lustre1/project/stg_00090/scatac_benchmark/full_2_cistopic/ && singularity exec -B /lustre1,/staging,/data,/vsc-hard-mounts,/scratch ../0_resources/cistopic_image/20220815_pycistopic.sif python ../0_resources/scripts/runModels_lda_mallet.py -i cistopic_objects/TXG_10xv11_1.FULL__cto.scrublet0-4.fmx.singlets.pkl -o models__screen__mallet/TXG_10xv11_1.FULL__models_400_iter.pkl -nt 1,2,3,4,5,6,7,8,9,10,11,12,13,14,15,16,17,18,19,20,21,22,23,24,25,26,27,28,29,30 -c 36 -it 400 -a 50 -abt True -e 0.1 -ebt False -sp models__screen__mallet/model_intermediates/TXG_10xv11_1.FULL_model_intermediates/ -s 555 -td models__screen__mallet/model_tmp/TXG_10xv11_1.FULL_model_tmp/ > models__screen__mallet/TXG_10xv11_1.FULL.models_out_log30.txt\n",
      "\n",
      "\n",
      "models__screen__mallet/model_intermediates/TXG_10xv2_1.FULL_model_intermediates/ already exists!\n",
      "echo TXG_10xv2_1.FULL && cd /lustre1/project/stg_00090/scatac_benchmark/full_2_cistopic/ && singularity exec -B /lustre1,/staging,/data,/vsc-hard-mounts,/scratch ../0_resources/cistopic_image/20220815_pycistopic.sif python ../0_resources/scripts/runModels_lda_mallet.py -i cistopic_objects/TXG_10xv2_1.FULL__cto.scrublet0-4.fmx.singlets.pkl -o models__screen__mallet/TXG_10xv2_1.FULL__models_400_iter.pkl -nt 1,2,3,4,5,6,7,8,9,10,11,12,13,14,15,16,17,18,19,20,21,22,23,24,25,26,27,28,29,30 -c 36 -it 400 -a 50 -abt True -e 0.1 -ebt False -sp models__screen__mallet/model_intermediates/TXG_10xv2_1.FULL_model_intermediates/ -s 555 -td models__screen__mallet/model_tmp/TXG_10xv2_1.FULL_model_tmp/ > models__screen__mallet/TXG_10xv2_1.FULL.models_out_log30.txt\n",
      "\n",
      "\n",
      "models__screen__mallet/model_intermediates/TXG_10xv2_2.FULL_model_intermediates/ already exists!\n",
      "echo TXG_10xv2_2.FULL && cd /lustre1/project/stg_00090/scatac_benchmark/full_2_cistopic/ && singularity exec -B /lustre1,/staging,/data,/vsc-hard-mounts,/scratch ../0_resources/cistopic_image/20220815_pycistopic.sif python ../0_resources/scripts/runModels_lda_mallet.py -i cistopic_objects/TXG_10xv2_2.FULL__cto.scrublet0-4.fmx.singlets.pkl -o models__screen__mallet/TXG_10xv2_2.FULL__models_400_iter.pkl -nt 1,2,3,4,5,6,7,8,9,10,11,12,13,14,15,16,17,18,19,20,21,22,23,24,25,26,27,28,29,30 -c 36 -it 400 -a 50 -abt True -e 0.1 -ebt False -sp models__screen__mallet/model_intermediates/TXG_10xv2_2.FULL_model_intermediates/ -s 555 -td models__screen__mallet/model_tmp/TXG_10xv2_2.FULL_model_tmp/ > models__screen__mallet/TXG_10xv2_2.FULL.models_out_log30.txt\n",
      "\n",
      "\n",
      "models__screen__mallet/UCS_ddseq_1.FULL__models_400_iter.pkl already exists!\n",
      "\n",
      "\n",
      "models__screen__mallet/UCS_ddseq_2.FULL__models_400_iter.pkl already exists!\n",
      "\n",
      "\n",
      "models__screen__mallet/VIB_10xmultiome_1.FULL__models_400_iter.pkl already exists!\n",
      "\n",
      "\n",
      "models__screen__mallet/VIB_10xmultiome_2.FULL__models_400_iter.pkl already exists!\n",
      "\n",
      "\n",
      "models__screen__mallet/model_intermediates/VIB_10xv1_1.FULL_model_intermediates/ already exists!\n",
      "echo VIB_10xv1_1.FULL && cd /lustre1/project/stg_00090/scatac_benchmark/full_2_cistopic/ && singularity exec -B /lustre1,/staging,/data,/vsc-hard-mounts,/scratch ../0_resources/cistopic_image/20220815_pycistopic.sif python ../0_resources/scripts/runModels_lda_mallet.py -i cistopic_objects/VIB_10xv1_1.FULL__cto.scrublet0-4.fmx.singlets.pkl -o models__screen__mallet/VIB_10xv1_1.FULL__models_400_iter.pkl -nt 1,2,3,4,5,6,7,8,9,10,11,12,13,14,15,16,17,18,19,20,21,22,23,24,25,26,27,28,29,30 -c 36 -it 400 -a 50 -abt True -e 0.1 -ebt False -sp models__screen__mallet/model_intermediates/VIB_10xv1_1.FULL_model_intermediates/ -s 555 -td models__screen__mallet/model_tmp/VIB_10xv1_1.FULL_model_tmp/ > models__screen__mallet/VIB_10xv1_1.FULL.models_out_log30.txt\n",
      "\n",
      "\n",
      "models__screen__mallet/model_intermediates/VIB_10xv1_2.FULL_model_intermediates/ already exists!\n",
      "echo VIB_10xv1_2.FULL && cd /lustre1/project/stg_00090/scatac_benchmark/full_2_cistopic/ && singularity exec -B /lustre1,/staging,/data,/vsc-hard-mounts,/scratch ../0_resources/cistopic_image/20220815_pycistopic.sif python ../0_resources/scripts/runModels_lda_mallet.py -i cistopic_objects/VIB_10xv1_2.FULL__cto.scrublet0-4.fmx.singlets.pkl -o models__screen__mallet/VIB_10xv1_2.FULL__models_400_iter.pkl -nt 1,2,3,4,5,6,7,8,9,10,11,12,13,14,15,16,17,18,19,20,21,22,23,24,25,26,27,28,29,30 -c 36 -it 400 -a 50 -abt True -e 0.1 -ebt False -sp models__screen__mallet/model_intermediates/VIB_10xv1_2.FULL_model_intermediates/ -s 555 -td models__screen__mallet/model_tmp/VIB_10xv1_2.FULL_model_tmp/ > models__screen__mallet/VIB_10xv1_2.FULL.models_out_log30.txt\n",
      "\n",
      "\n",
      "models__screen__mallet/model_intermediates/VIB_10xv2_1.FULL_model_intermediates/ already exists!\n",
      "echo VIB_10xv2_1.FULL && cd /lustre1/project/stg_00090/scatac_benchmark/full_2_cistopic/ && singularity exec -B /lustre1,/staging,/data,/vsc-hard-mounts,/scratch ../0_resources/cistopic_image/20220815_pycistopic.sif python ../0_resources/scripts/runModels_lda_mallet.py -i cistopic_objects/VIB_10xv2_1.FULL__cto.scrublet0-4.fmx.singlets.pkl -o models__screen__mallet/VIB_10xv2_1.FULL__models_400_iter.pkl -nt 1,2,3,4,5,6,7,8,9,10,11,12,13,14,15,16,17,18,19,20,21,22,23,24,25,26,27,28,29,30 -c 36 -it 400 -a 50 -abt True -e 0.1 -ebt False -sp models__screen__mallet/model_intermediates/VIB_10xv2_1.FULL_model_intermediates/ -s 555 -td models__screen__mallet/model_tmp/VIB_10xv2_1.FULL_model_tmp/ > models__screen__mallet/VIB_10xv2_1.FULL.models_out_log30.txt\n",
      "\n",
      "\n",
      "models__screen__mallet/model_intermediates/VIB_10xv2_2.FULL_model_intermediates/ already exists!\n",
      "echo VIB_10xv2_2.FULL && cd /lustre1/project/stg_00090/scatac_benchmark/full_2_cistopic/ && singularity exec -B /lustre1,/staging,/data,/vsc-hard-mounts,/scratch ../0_resources/cistopic_image/20220815_pycistopic.sif python ../0_resources/scripts/runModels_lda_mallet.py -i cistopic_objects/VIB_10xv2_2.FULL__cto.scrublet0-4.fmx.singlets.pkl -o models__screen__mallet/VIB_10xv2_2.FULL__models_400_iter.pkl -nt 1,2,3,4,5,6,7,8,9,10,11,12,13,14,15,16,17,18,19,20,21,22,23,24,25,26,27,28,29,30 -c 36 -it 400 -a 50 -abt True -e 0.1 -ebt False -sp models__screen__mallet/model_intermediates/VIB_10xv2_2.FULL_model_intermediates/ -s 555 -td models__screen__mallet/model_tmp/VIB_10xv2_2.FULL_model_tmp/ > models__screen__mallet/VIB_10xv2_2.FULL.models_out_log30.txt\n",
      "\n",
      "\n",
      "models__screen__mallet/model_intermediates/VIB_hydrop_1.FULL_model_intermediates/ already exists!\n",
      "echo VIB_hydrop_1.FULL && cd /lustre1/project/stg_00090/scatac_benchmark/full_2_cistopic/ && singularity exec -B /lustre1,/staging,/data,/vsc-hard-mounts,/scratch ../0_resources/cistopic_image/20220815_pycistopic.sif python ../0_resources/scripts/runModels_lda_mallet.py -i cistopic_objects/VIB_hydrop_1.FULL__cto.scrublet0-4.fmx.singlets.pkl -o models__screen__mallet/VIB_hydrop_1.FULL__models_400_iter.pkl -nt 1,2,3,4,5,6,7,8,9,10,11,12,13,14,15,16,17,18,19,20,21,22,23,24,25,26,27,28,29,30 -c 36 -it 400 -a 50 -abt True -e 0.1 -ebt False -sp models__screen__mallet/model_intermediates/VIB_hydrop_1.FULL_model_intermediates/ -s 555 -td models__screen__mallet/model_tmp/VIB_hydrop_1.FULL_model_tmp/ > models__screen__mallet/VIB_hydrop_1.FULL.models_out_log30.txt\n",
      "\n",
      "\n",
      "models__screen__mallet/VIB_hydrop_11.FULL__models_400_iter.pkl already exists!\n",
      "\n",
      "\n",
      "models__screen__mallet/VIB_hydrop_12.FULL__models_400_iter.pkl already exists!\n",
      "\n",
      "\n",
      "models__screen__mallet/model_intermediates/VIB_hydrop_2.FULL_model_intermediates/ already exists!\n",
      "echo VIB_hydrop_2.FULL && cd /lustre1/project/stg_00090/scatac_benchmark/full_2_cistopic/ && singularity exec -B /lustre1,/staging,/data,/vsc-hard-mounts,/scratch ../0_resources/cistopic_image/20220815_pycistopic.sif python ../0_resources/scripts/runModels_lda_mallet.py -i cistopic_objects/VIB_hydrop_2.FULL__cto.scrublet0-4.fmx.singlets.pkl -o models__screen__mallet/VIB_hydrop_2.FULL__models_400_iter.pkl -nt 1,2,3,4,5,6,7,8,9,10,11,12,13,14,15,16,17,18,19,20,21,22,23,24,25,26,27,28,29,30 -c 36 -it 400 -a 50 -abt True -e 0.1 -ebt False -sp models__screen__mallet/model_intermediates/VIB_hydrop_2.FULL_model_intermediates/ -s 555 -td models__screen__mallet/model_tmp/VIB_hydrop_2.FULL_model_tmp/ > models__screen__mallet/VIB_hydrop_2.FULL.models_out_log30.txt\n",
      "\n",
      "\n",
      "models__screen__mallet/VIB_hydrop_21.FULL__models_400_iter.pkl already exists!\n",
      "\n",
      "\n",
      "models__screen__mallet/VIB_hydrop_22.FULL__models_400_iter.pkl already exists!\n",
      "\n",
      "\n"
     ]
    }
   ],
   "source": [
    "mounts = \"/lustre1,/staging,/data,/vsc-hard-mounts,/scratch\"\n",
    "sif = \"../0_resources/cistopic_image/20220815_pycistopic.sif\"\n",
    "script = \"../0_resources/scripts/runModels_lda_mallet.py\"\n",
    "\n",
    "f_mod_dir = 'models__screen__mallet'\n",
    "if not os.path.exists(os.path.join(wdir, f_mod_dir)):\n",
    "    os.makedirs(os.path.join(wdir, f_mod_dir))\n",
    "\n",
    "n_topics_str = \"2,3,4,5,6,7,8,9,10,11,12,13,14,15,16,17,18,19,20,21,22,23,24,25,26,27,28,29,30\"\n",
    "n_topics = 30\n",
    "\n",
    "ver=n_topics_str[-2] + n_topics_str[-1]\n",
    "\n",
    "n_cores = 36\n",
    "n_iter = \"400\"\n",
    "for sample in cistopic_obj_path_dict.keys():\n",
    "    infile = cistopic_obj_path_dict[sample]\n",
    "    outfile = os.path.join(f_mod_dir, sample + '__models_' + str(n_iter) + '_iter.pkl')\n",
    "    \n",
    "    intermediate_dir = f\"{f_mod_dir}/model_intermediates/{sample}_model_intermediates/\"\n",
    "        \n",
    "    if not os.path.exists(outfile):\n",
    "        if not os.path.exists(os.path.join(wdir, intermediate_dir)):\n",
    "            os.makedirs(os.path.join(wdir, intermediate_dir))\n",
    "        else:\n",
    "            print(f'{intermediate_dir} already exists!')\n",
    "            \n",
    "        n_topics_detected = len(os.listdir(os.path.join(wdir, intermediate_dir)))\n",
    "        if not n_topics_detected == n_topics:\n",
    "            model_tmp_dir = f\"{f_mod_dir}/model_tmp/{sample}_model_tmp/\"\n",
    "            if not os.path.exists(os.path.join(wdir, model_tmp_dir)):\n",
    "                os.makedirs(os.path.join(wdir, model_tmp_dir))\n",
    "\n",
    "            n_topics_todo = str([x+1 for x in list(range(n_topics_detected,n_topics))]).replace(' ','').replace('[','').replace(']','')\n",
    "\n",
    "            out_log = f\"{f_mod_dir}/{sample}.models_out_log{ver}.txt\"\n",
    "            cmd = f\"echo {sample} && cd {wdir} && singularity exec -B {mounts} {sif} python {script} -i {infile} -o {outfile} -nt {n_topics_todo} -c {n_cores} -it {n_iter} -a 50 -abt True -e 0.1 -ebt False -sp {intermediate_dir} -s 555 -td {model_tmp_dir} > {out_log}\"\n",
    "\n",
    "            print(cmd)\n",
    "            sh_path = f\"{f_mod_dir}/{sample}.runmodels{ver}.sh\"\n",
    "            with open(sh_path, 'w') as file:\n",
    "                file.write(cmd)\n",
    "\n",
    "    else:\n",
    "        print(f'{outfile} already exists!')\n",
    "    \n",
    "    print('\\n')"
   ]
  },
  {
   "cell_type": "markdown",
   "id": "dad65b9c",
   "metadata": {
    "execution": {
     "iopub.execute_input": "2022-08-23T14:36:15.572885Z",
     "iopub.status.busy": "2022-08-23T14:36:15.572508Z",
     "iopub.status.idle": "2022-08-23T14:36:15.577548Z",
     "shell.execute_reply": "2022-08-23T14:36:15.576746Z",
     "shell.execute_reply.started": "2022-08-23T14:36:15.572858Z"
    },
    "papermill": {
     "duration": 0.011339,
     "end_time": "2022-08-20T22:37:23.432790",
     "exception": false,
     "start_time": "2022-08-20T22:37:23.421451",
     "status": "completed"
    },
    "tags": []
   },
   "source": [
    "In shell:"
   ]
  },
  {
   "cell_type": "code",
   "execution_count": 58,
   "id": "5ce9a5d0",
   "metadata": {
    "execution": {
     "iopub.execute_input": "2022-09-26T09:04:20.498578Z",
     "iopub.status.busy": "2022-09-26T09:04:20.497828Z",
     "iopub.status.idle": "2022-09-26T09:04:20.510015Z",
     "shell.execute_reply": "2022-09-26T09:04:20.507922Z",
     "shell.execute_reply.started": "2022-09-26T09:04:20.498516Z"
    },
    "papermill": {
     "duration": 0.011323,
     "end_time": "2022-08-20T22:37:23.455675",
     "exception": false,
     "start_time": "2022-08-20T22:37:23.444352",
     "status": "completed"
    },
    "tags": []
   },
   "outputs": [
    {
     "ename": "SyntaxError",
     "evalue": "invalid syntax (1944146239.py, line 1)",
     "output_type": "error",
     "traceback": [
      "\u001b[0;36m  Input \u001b[0;32mIn [58]\u001b[0;36m\u001b[0m\n\u001b[0;31m    for script in models__screen__mallet/*30.sh\u001b[0m\n\u001b[0m                                         ^\u001b[0m\n\u001b[0;31mSyntaxError\u001b[0m\u001b[0;31m:\u001b[0m invalid syntax\n"
     ]
    }
   ],
   "source": [
    "for script in models__screen__mallet/*30.sh\n",
    "do\n",
    "    echo $script\n",
    "    qsub $script -A lp_symbiosys -l nodes=1:ppn=36 -l walltime=24:00:00 -l pmem=2gb\n",
    "done"
   ]
  },
  {
   "cell_type": "markdown",
   "id": "5975a2f0",
   "metadata": {
    "papermill": {
     "duration": 0.011283,
     "end_time": "2022-08-20T22:37:23.478226",
     "exception": false,
     "start_time": "2022-08-20T22:37:23.466943",
     "status": "completed"
    },
    "tags": []
   },
   "source": [
    "Then, combine the models:"
   ]
  },
  {
   "cell_type": "code",
   "execution_count": 59,
   "id": "acdedd78",
   "metadata": {
    "execution": {
     "iopub.execute_input": "2022-09-26T09:04:21.398326Z",
     "iopub.status.busy": "2022-09-26T09:04:21.397590Z",
     "iopub.status.idle": "2022-09-26T09:04:21.408900Z",
     "shell.execute_reply": "2022-09-26T09:04:21.408212Z",
     "shell.execute_reply.started": "2022-09-26T09:04:21.398265Z"
    },
    "papermill": {
     "duration": 0.012049,
     "end_time": "2022-08-20T22:37:23.501705",
     "exception": false,
     "start_time": "2022-08-20T22:37:23.489656",
     "status": "completed"
    },
    "tags": []
   },
   "outputs": [
    {
     "data": {
      "text/plain": [
       "{'BIO_ddseq_1.FULL': 'models__screen__mallet/model_intermediates/BIO_ddseq_1.FULL_model_intermediates',\n",
       " 'BIO_ddseq_2.FULL': 'models__screen__mallet/model_intermediates/BIO_ddseq_2.FULL_model_intermediates',\n",
       " 'BIO_ddseq_3.FULL': 'models__screen__mallet/model_intermediates/BIO_ddseq_3.FULL_model_intermediates',\n",
       " 'BIO_ddseq_4.FULL': 'models__screen__mallet/model_intermediates/BIO_ddseq_4.FULL_model_intermediates',\n",
       " 'BRO_mtscatac_1.FULL': 'models__screen__mallet/model_intermediates/BRO_mtscatac_1.FULL_model_intermediates',\n",
       " 'BRO_mtscatac_2.FULL': 'models__screen__mallet/model_intermediates/BRO_mtscatac_2.FULL_model_intermediates',\n",
       " 'CNA_10xmultiome_1.FULL': 'models__screen__mallet/model_intermediates/CNA_10xmultiome_1.FULL_model_intermediates',\n",
       " 'CNA_10xmultiome_2.FULL': 'models__screen__mallet/model_intermediates/CNA_10xmultiome_2.FULL_model_intermediates',\n",
       " 'CNA_10xv11_1.FULL': 'models__screen__mallet/model_intermediates/CNA_10xv11_1.FULL_model_intermediates',\n",
       " 'CNA_10xv11_2.FULL': 'models__screen__mallet/model_intermediates/CNA_10xv11_2.FULL_model_intermediates',\n",
       " 'CNA_10xv11_3.FULL': 'models__screen__mallet/model_intermediates/CNA_10xv11_3.FULL_model_intermediates',\n",
       " 'CNA_10xv11_4.FULL': 'models__screen__mallet/model_intermediates/CNA_10xv11_4.FULL_model_intermediates',\n",
       " 'CNA_10xv11_5.FULL': 'models__screen__mallet/model_intermediates/CNA_10xv11_5.FULL_model_intermediates',\n",
       " 'CNA_10xv2_1.FULL': 'models__screen__mallet/model_intermediates/CNA_10xv2_1.FULL_model_intermediates',\n",
       " 'CNA_10xv2_2.FULL': 'models__screen__mallet/model_intermediates/CNA_10xv2_2.FULL_model_intermediates',\n",
       " 'CNA_hydrop_1.FULL': 'models__screen__mallet/model_intermediates/CNA_hydrop_1.FULL_model_intermediates',\n",
       " 'CNA_hydrop_2.FULL': 'models__screen__mallet/model_intermediates/CNA_hydrop_2.FULL_model_intermediates',\n",
       " 'CNA_hydrop_3.FULL': 'models__screen__mallet/model_intermediates/CNA_hydrop_3.FULL_model_intermediates',\n",
       " 'CNA_mtscatac_1.FULL': 'models__screen__mallet/model_intermediates/CNA_mtscatac_1.FULL_model_intermediates',\n",
       " 'CNA_mtscatac_2.FULL': 'models__screen__mallet/model_intermediates/CNA_mtscatac_2.FULL_model_intermediates',\n",
       " 'EPF_hydrop_1.FULL': 'models__screen__mallet/model_intermediates/EPF_hydrop_1.FULL_model_intermediates',\n",
       " 'EPF_hydrop_2.FULL': 'models__screen__mallet/model_intermediates/EPF_hydrop_2.FULL_model_intermediates',\n",
       " 'EPF_hydrop_3.FULL': 'models__screen__mallet/model_intermediates/EPF_hydrop_3.FULL_model_intermediates',\n",
       " 'EPF_hydrop_4.FULL': 'models__screen__mallet/model_intermediates/EPF_hydrop_4.FULL_model_intermediates',\n",
       " 'HAR_ddseq_1.FULL': 'models__screen__mallet/model_intermediates/HAR_ddseq_1.FULL_model_intermediates',\n",
       " 'HAR_ddseq_2.FULL': 'models__screen__mallet/model_intermediates/HAR_ddseq_2.FULL_model_intermediates',\n",
       " 'MDC_mtscatac_1.FULL': 'models__screen__mallet/model_intermediates/MDC_mtscatac_1.FULL_model_intermediates',\n",
       " 'MDC_mtscatac_2.FULL': 'models__screen__mallet/model_intermediates/MDC_mtscatac_2.FULL_model_intermediates',\n",
       " 'OHS_s3atac_1.FULL': 'models__screen__mallet/model_intermediates/OHS_s3atac_1.FULL_model_intermediates',\n",
       " 'OHS_s3atac_2.FULL': 'models__screen__mallet/model_intermediates/OHS_s3atac_2.FULL_model_intermediates',\n",
       " 'SAN_10xmultiome_1.FULL': 'models__screen__mallet/model_intermediates/SAN_10xmultiome_1.FULL_model_intermediates',\n",
       " 'SAN_10xmultiome_2.FULL': 'models__screen__mallet/model_intermediates/SAN_10xmultiome_2.FULL_model_intermediates',\n",
       " 'STA_10xv11_1.FULL': 'models__screen__mallet/model_intermediates/STA_10xv11_1.FULL_model_intermediates',\n",
       " 'STA_10xv11_2.FULL': 'models__screen__mallet/model_intermediates/STA_10xv11_2.FULL_model_intermediates',\n",
       " 'TXG_10xv11_1.FULL': 'models__screen__mallet/model_intermediates/TXG_10xv11_1.FULL_model_intermediates',\n",
       " 'TXG_10xv2_1.FULL': 'models__screen__mallet/model_intermediates/TXG_10xv2_1.FULL_model_intermediates',\n",
       " 'TXG_10xv2_2.FULL': 'models__screen__mallet/model_intermediates/TXG_10xv2_2.FULL_model_intermediates',\n",
       " 'UCS_ddseq_1.FULL': 'models__screen__mallet/model_intermediates/UCS_ddseq_1.FULL_model_intermediates',\n",
       " 'UCS_ddseq_2.FULL': 'models__screen__mallet/model_intermediates/UCS_ddseq_2.FULL_model_intermediates',\n",
       " 'VIB_10xmultiome_1.FULL': 'models__screen__mallet/model_intermediates/VIB_10xmultiome_1.FULL_model_intermediates',\n",
       " 'VIB_10xmultiome_2.FULL': 'models__screen__mallet/model_intermediates/VIB_10xmultiome_2.FULL_model_intermediates',\n",
       " 'VIB_10xv1_1.FULL': 'models__screen__mallet/model_intermediates/VIB_10xv1_1.FULL_model_intermediates',\n",
       " 'VIB_10xv1_2.FULL': 'models__screen__mallet/model_intermediates/VIB_10xv1_2.FULL_model_intermediates',\n",
       " 'VIB_10xv2_1.FULL': 'models__screen__mallet/model_intermediates/VIB_10xv2_1.FULL_model_intermediates',\n",
       " 'VIB_10xv2_2.FULL': 'models__screen__mallet/model_intermediates/VIB_10xv2_2.FULL_model_intermediates',\n",
       " 'VIB_hydrop_1.FULL': 'models__screen__mallet/model_intermediates/VIB_hydrop_1.FULL_model_intermediates',\n",
       " 'VIB_hydrop_11.FULL': 'models__screen__mallet/model_intermediates/VIB_hydrop_11.FULL_model_intermediates',\n",
       " 'VIB_hydrop_12.FULL': 'models__screen__mallet/model_intermediates/VIB_hydrop_12.FULL_model_intermediates',\n",
       " 'VIB_hydrop_2.FULL': 'models__screen__mallet/model_intermediates/VIB_hydrop_2.FULL_model_intermediates',\n",
       " 'VIB_hydrop_21.FULL': 'models__screen__mallet/model_intermediates/VIB_hydrop_21.FULL_model_intermediates',\n",
       " 'VIB_hydrop_22.FULL': 'models__screen__mallet/model_intermediates/VIB_hydrop_22.FULL_model_intermediates'}"
      ]
     },
     "execution_count": 59,
     "metadata": {},
     "output_type": "execute_result"
    }
   ],
   "source": [
    "intermediate_dict = {x.split('/')[-1].split('_model_intermediates')[0]: x for x in sorted(glob.glob(f'{f_mod_dir}/model_intermediates/*'))}\n",
    "intermediate_dict"
   ]
  },
  {
   "cell_type": "code",
   "execution_count": 60,
   "id": "4be25f87",
   "metadata": {
    "execution": {
     "iopub.execute_input": "2022-09-26T09:04:22.048712Z",
     "iopub.status.busy": "2022-09-26T09:04:22.047968Z",
     "iopub.status.idle": "2022-09-26T09:04:22.089276Z",
     "shell.execute_reply": "2022-09-26T09:04:22.088423Z",
     "shell.execute_reply.started": "2022-09-26T09:04:22.048649Z"
    },
    "papermill": {
     "duration": 0.011475,
     "end_time": "2022-08-20T22:37:23.524281",
     "exception": false,
     "start_time": "2022-08-20T22:37:23.512806",
     "status": "completed"
    },
    "tags": []
   },
   "outputs": [
    {
     "name": "stdout",
     "output_type": "stream",
     "text": [
      "0 models in models__screen__mallet/model_intermediates/BIO_ddseq_1.FULL_model_intermediates\n",
      "\tn_models < [], 0\n",
      "0 models in models__screen__mallet/model_intermediates/BIO_ddseq_2.FULL_model_intermediates\n",
      "\tn_models < [], 0\n",
      "0 models in models__screen__mallet/model_intermediates/BIO_ddseq_3.FULL_model_intermediates\n",
      "\tmodels__screen__mallet/BIO_ddseq_3.FULL__models_400_iter.pkl exists, skipping\n",
      "0 models in models__screen__mallet/model_intermediates/BIO_ddseq_4.FULL_model_intermediates\n",
      "\tmodels__screen__mallet/BIO_ddseq_4.FULL__models_400_iter.pkl exists, skipping\n",
      "0 models in models__screen__mallet/model_intermediates/BRO_mtscatac_1.FULL_model_intermediates\n",
      "\tn_models < [], 0\n",
      "0 models in models__screen__mallet/model_intermediates/BRO_mtscatac_2.FULL_model_intermediates\n",
      "\tn_models < [], 0\n",
      "0 models in models__screen__mallet/model_intermediates/CNA_10xmultiome_1.FULL_model_intermediates\n",
      "\tn_models < [], 0\n",
      "0 models in models__screen__mallet/model_intermediates/CNA_10xmultiome_2.FULL_model_intermediates\n",
      "\tn_models < [], 0\n",
      "0 models in models__screen__mallet/model_intermediates/CNA_10xv11_1.FULL_model_intermediates\n",
      "\tn_models < [], 0\n",
      "0 models in models__screen__mallet/model_intermediates/CNA_10xv11_2.FULL_model_intermediates\n",
      "\tn_models < [], 0\n",
      "0 models in models__screen__mallet/model_intermediates/CNA_10xv11_3.FULL_model_intermediates\n",
      "\tn_models < [], 0\n",
      "0 models in models__screen__mallet/model_intermediates/CNA_10xv11_4.FULL_model_intermediates\n",
      "\tn_models < [], 0\n",
      "0 models in models__screen__mallet/model_intermediates/CNA_10xv11_5.FULL_model_intermediates\n",
      "\tn_models < [], 0\n",
      "0 models in models__screen__mallet/model_intermediates/CNA_10xv2_1.FULL_model_intermediates\n",
      "\tn_models < [], 0\n",
      "0 models in models__screen__mallet/model_intermediates/CNA_10xv2_2.FULL_model_intermediates\n",
      "\tn_models < [], 0\n",
      "0 models in models__screen__mallet/model_intermediates/CNA_hydrop_1.FULL_model_intermediates\n",
      "\tmodels__screen__mallet/CNA_hydrop_1.FULL__models_400_iter.pkl exists, skipping\n",
      "0 models in models__screen__mallet/model_intermediates/CNA_hydrop_2.FULL_model_intermediates\n",
      "\tmodels__screen__mallet/CNA_hydrop_2.FULL__models_400_iter.pkl exists, skipping\n",
      "0 models in models__screen__mallet/model_intermediates/CNA_hydrop_3.FULL_model_intermediates\n",
      "\tmodels__screen__mallet/CNA_hydrop_3.FULL__models_400_iter.pkl exists, skipping\n",
      "0 models in models__screen__mallet/model_intermediates/CNA_mtscatac_1.FULL_model_intermediates\n",
      "\tn_models < [], 0\n",
      "0 models in models__screen__mallet/model_intermediates/CNA_mtscatac_2.FULL_model_intermediates\n",
      "\tn_models < [], 0\n",
      "0 models in models__screen__mallet/model_intermediates/EPF_hydrop_1.FULL_model_intermediates\n",
      "\tmodels__screen__mallet/EPF_hydrop_1.FULL__models_400_iter.pkl exists, skipping\n",
      "0 models in models__screen__mallet/model_intermediates/EPF_hydrop_2.FULL_model_intermediates\n",
      "\tmodels__screen__mallet/EPF_hydrop_2.FULL__models_400_iter.pkl exists, skipping\n",
      "0 models in models__screen__mallet/model_intermediates/EPF_hydrop_3.FULL_model_intermediates\n",
      "\tmodels__screen__mallet/EPF_hydrop_3.FULL__models_400_iter.pkl exists, skipping\n",
      "0 models in models__screen__mallet/model_intermediates/EPF_hydrop_4.FULL_model_intermediates\n",
      "\tmodels__screen__mallet/EPF_hydrop_4.FULL__models_400_iter.pkl exists, skipping\n",
      "0 models in models__screen__mallet/model_intermediates/HAR_ddseq_1.FULL_model_intermediates\n",
      "\tn_models < [], 0\n",
      "0 models in models__screen__mallet/model_intermediates/HAR_ddseq_2.FULL_model_intermediates\n",
      "\tn_models < [], 0\n",
      "0 models in models__screen__mallet/model_intermediates/MDC_mtscatac_1.FULL_model_intermediates\n",
      "\tn_models < [], 0\n",
      "0 models in models__screen__mallet/model_intermediates/MDC_mtscatac_2.FULL_model_intermediates\n",
      "\tn_models < [], 0\n",
      "0 models in models__screen__mallet/model_intermediates/OHS_s3atac_1.FULL_model_intermediates\n",
      "\tn_models < [], 0\n",
      "0 models in models__screen__mallet/model_intermediates/OHS_s3atac_2.FULL_model_intermediates\n",
      "\tn_models < [], 0\n",
      "0 models in models__screen__mallet/model_intermediates/SAN_10xmultiome_1.FULL_model_intermediates\n",
      "\tn_models < [], 0\n",
      "0 models in models__screen__mallet/model_intermediates/SAN_10xmultiome_2.FULL_model_intermediates\n",
      "\tn_models < [], 0\n",
      "0 models in models__screen__mallet/model_intermediates/STA_10xv11_1.FULL_model_intermediates\n",
      "\tn_models < [], 0\n",
      "0 models in models__screen__mallet/model_intermediates/STA_10xv11_2.FULL_model_intermediates\n",
      "\tn_models < [], 0\n",
      "0 models in models__screen__mallet/model_intermediates/TXG_10xv11_1.FULL_model_intermediates\n",
      "\tn_models < [], 0\n",
      "0 models in models__screen__mallet/model_intermediates/TXG_10xv2_1.FULL_model_intermediates\n",
      "\tn_models < [], 0\n",
      "0 models in models__screen__mallet/model_intermediates/TXG_10xv2_2.FULL_model_intermediates\n",
      "\tn_models < [], 0\n",
      "30 models in models__screen__mallet/model_intermediates/UCS_ddseq_1.FULL_model_intermediates\n",
      "\tmodels__screen__mallet/UCS_ddseq_1.FULL__models_400_iter.pkl exists, skipping\n",
      "30 models in models__screen__mallet/model_intermediates/UCS_ddseq_2.FULL_model_intermediates\n",
      "\tmodels__screen__mallet/UCS_ddseq_2.FULL__models_400_iter.pkl exists, skipping\n",
      "0 models in models__screen__mallet/model_intermediates/VIB_10xmultiome_1.FULL_model_intermediates\n",
      "\tmodels__screen__mallet/VIB_10xmultiome_1.FULL__models_400_iter.pkl exists, skipping\n",
      "0 models in models__screen__mallet/model_intermediates/VIB_10xmultiome_2.FULL_model_intermediates\n",
      "\tmodels__screen__mallet/VIB_10xmultiome_2.FULL__models_400_iter.pkl exists, skipping\n",
      "0 models in models__screen__mallet/model_intermediates/VIB_10xv1_1.FULL_model_intermediates\n",
      "\tn_models < [], 0\n",
      "0 models in models__screen__mallet/model_intermediates/VIB_10xv1_2.FULL_model_intermediates\n",
      "\tn_models < [], 0\n",
      "0 models in models__screen__mallet/model_intermediates/VIB_10xv2_1.FULL_model_intermediates\n",
      "\tn_models < [], 0\n",
      "0 models in models__screen__mallet/model_intermediates/VIB_10xv2_2.FULL_model_intermediates\n",
      "\tn_models < [], 0\n",
      "0 models in models__screen__mallet/model_intermediates/VIB_hydrop_1.FULL_model_intermediates\n",
      "\tn_models < [], 0\n",
      "0 models in models__screen__mallet/model_intermediates/VIB_hydrop_11.FULL_model_intermediates\n",
      "\tmodels__screen__mallet/VIB_hydrop_11.FULL__models_400_iter.pkl exists, skipping\n",
      "0 models in models__screen__mallet/model_intermediates/VIB_hydrop_12.FULL_model_intermediates\n",
      "\tmodels__screen__mallet/VIB_hydrop_12.FULL__models_400_iter.pkl exists, skipping\n",
      "0 models in models__screen__mallet/model_intermediates/VIB_hydrop_2.FULL_model_intermediates\n",
      "\tn_models < [], 0\n",
      "0 models in models__screen__mallet/model_intermediates/VIB_hydrop_21.FULL_model_intermediates\n",
      "\tmodels__screen__mallet/VIB_hydrop_21.FULL__models_400_iter.pkl exists, skipping\n",
      "0 models in models__screen__mallet/model_intermediates/VIB_hydrop_22.FULL_model_intermediates\n",
      "\tmodels__screen__mallet/VIB_hydrop_22.FULL__models_400_iter.pkl exists, skipping\n"
     ]
    }
   ],
   "source": [
    "for sample, directory in intermediate_dict.items():\n",
    "    nmodels = len(os.listdir(directory))\n",
    "    print(f\"{nmodels} models in {directory}\")\n",
    "    save_path = f\"{f_mod_dir}/{sample}__models_{n_iter}_iter.pkl\"\n",
    "    if not os.path.exists(save_path):\n",
    "        file_list = sorted(os.listdir(directory))\n",
    "        n_topics = [int(x.split('Topic')[-1].split('.pkl')[0]) for x in file_list]\n",
    "        file_list_sorted = [file_list[x] for x in np.argsort(n_topics)]\n",
    "        \n",
    "        if len(os.listdir(directory)) == 29:\n",
    "            print(f\"\\tsaving at {save_path}\")\n",
    "\n",
    "            models_merged = [pickle.load(open(f\"{directory}/{file}\", 'rb')) for file in file_list_sorted]\n",
    "\n",
    "            with open(save_path, \"wb\") as f:\n",
    "                    pickle.dump(models_merged, f, protocol=4)\n",
    "                    \n",
    "        else:\n",
    "            print(f'\\tn_models < {n_topics}, {len(sorted(os.listdir(directory)))}')\n",
    "    else:\n",
    "        print(f\"\\t{save_path} exists, skipping\")"
   ]
  },
  {
   "cell_type": "code",
   "execution_count": 61,
   "id": "a0eb6ac1",
   "metadata": {
    "execution": {
     "iopub.execute_input": "2022-09-26T09:04:22.358301Z",
     "iopub.status.busy": "2022-09-26T09:04:22.357584Z",
     "iopub.status.idle": "2022-09-26T09:04:22.364817Z",
     "shell.execute_reply": "2022-09-26T09:04:22.364003Z",
     "shell.execute_reply.started": "2022-09-26T09:04:22.358237Z"
    },
    "papermill": {
     "duration": 3.276807,
     "end_time": "2022-08-20T22:37:26.812513",
     "exception": false,
     "start_time": "2022-08-20T22:37:23.535706",
     "status": "completed"
    },
    "tags": []
   },
   "outputs": [],
   "source": [
    "from pycisTopic.lda_models import evaluate_models\n",
    "import matplotlib.pyplot as plt"
   ]
  },
  {
   "cell_type": "code",
   "execution_count": 62,
   "id": "7468b639",
   "metadata": {
    "execution": {
     "iopub.execute_input": "2022-09-26T09:04:22.679352Z",
     "iopub.status.busy": "2022-09-26T09:04:22.678641Z",
     "iopub.status.idle": "2022-09-26T09:04:22.692195Z",
     "shell.execute_reply": "2022-09-26T09:04:22.691406Z",
     "shell.execute_reply.started": "2022-09-26T09:04:22.679290Z"
    },
    "papermill": {
     "duration": 0.01192,
     "end_time": "2022-08-20T22:37:26.836622",
     "exception": false,
     "start_time": "2022-08-20T22:37:26.824702",
     "status": "completed"
    },
    "tags": []
   },
   "outputs": [
    {
     "data": {
      "text/plain": [
       "{'BIO_ddseq_1.FULL': 'cistopic_objects/BIO_ddseq_1.FULL__cto.scrublet0-4.fmx.singlets.pkl',\n",
       " 'BIO_ddseq_2.FULL': 'cistopic_objects/BIO_ddseq_2.FULL__cto.scrublet0-4.fmx.singlets.pkl',\n",
       " 'BIO_ddseq_3.FULL': 'cistopic_objects/BIO_ddseq_3.FULL__cto.scrublet0-4.fmx.singlets.pkl',\n",
       " 'BIO_ddseq_4.FULL': 'cistopic_objects/BIO_ddseq_4.FULL__cto.scrublet0-4.fmx.singlets.pkl',\n",
       " 'BRO_mtscatac_1.FULL': 'cistopic_objects/BRO_mtscatac_1.FULL__cto.scrublet0-4.fmx.singlets.pkl',\n",
       " 'BRO_mtscatac_2.FULL': 'cistopic_objects/BRO_mtscatac_2.FULL__cto.scrublet0-4.fmx.singlets.pkl',\n",
       " 'CNA_10xmultiome_1.FULL': 'cistopic_objects/CNA_10xmultiome_1.FULL__cto.scrublet0-4.fmx.singlets.pkl',\n",
       " 'CNA_10xmultiome_2.FULL': 'cistopic_objects/CNA_10xmultiome_2.FULL__cto.scrublet0-4.fmx.singlets.pkl',\n",
       " 'CNA_10xv11_1.FULL': 'cistopic_objects/CNA_10xv11_1.FULL__cto.scrublet0-4.fmx.singlets.pkl',\n",
       " 'CNA_10xv11_2.FULL': 'cistopic_objects/CNA_10xv11_2.FULL__cto.scrublet0-4.fmx.singlets.pkl',\n",
       " 'CNA_10xv11_3.FULL': 'cistopic_objects/CNA_10xv11_3.FULL__cto.scrublet0-4.fmx.singlets.pkl',\n",
       " 'CNA_10xv11_4.FULL': 'cistopic_objects/CNA_10xv11_4.FULL__cto.scrublet0-4.fmx.singlets.pkl',\n",
       " 'CNA_10xv11_5.FULL': 'cistopic_objects/CNA_10xv11_5.FULL__cto.scrublet0-4.fmx.singlets.pkl',\n",
       " 'CNA_10xv2_1.FULL': 'cistopic_objects/CNA_10xv2_1.FULL__cto.scrublet0-4.fmx.singlets.pkl',\n",
       " 'CNA_10xv2_2.FULL': 'cistopic_objects/CNA_10xv2_2.FULL__cto.scrublet0-4.fmx.singlets.pkl',\n",
       " 'CNA_hydrop_1.FULL': 'cistopic_objects/CNA_hydrop_1.FULL__cto.scrublet0-4.fmx.singlets.pkl',\n",
       " 'CNA_hydrop_2.FULL': 'cistopic_objects/CNA_hydrop_2.FULL__cto.scrublet0-4.fmx.singlets.pkl',\n",
       " 'CNA_hydrop_3.FULL': 'cistopic_objects/CNA_hydrop_3.FULL__cto.scrublet0-4.fmx.singlets.pkl',\n",
       " 'CNA_mtscatac_1.FULL': 'cistopic_objects/CNA_mtscatac_1.FULL__cto.scrublet0-4.fmx.singlets.pkl',\n",
       " 'CNA_mtscatac_2.FULL': 'cistopic_objects/CNA_mtscatac_2.FULL__cto.scrublet0-4.fmx.singlets.pkl',\n",
       " 'EPF_hydrop_1.FULL': 'cistopic_objects/EPF_hydrop_1.FULL__cto.scrublet0-4.fmx.singlets.pkl',\n",
       " 'EPF_hydrop_2.FULL': 'cistopic_objects/EPF_hydrop_2.FULL__cto.scrublet0-4.fmx.singlets.pkl',\n",
       " 'EPF_hydrop_3.FULL': 'cistopic_objects/EPF_hydrop_3.FULL__cto.scrublet0-4.fmx.singlets.pkl',\n",
       " 'EPF_hydrop_4.FULL': 'cistopic_objects/EPF_hydrop_4.FULL__cto.scrublet0-4.fmx.singlets.pkl',\n",
       " 'HAR_ddseq_1.FULL': 'cistopic_objects/HAR_ddseq_1.FULL__cto.scrublet0-4.fmx.singlets.pkl',\n",
       " 'HAR_ddseq_2.FULL': 'cistopic_objects/HAR_ddseq_2.FULL__cto.scrublet0-4.fmx.singlets.pkl',\n",
       " 'MDC_mtscatac_1.FULL': 'cistopic_objects/MDC_mtscatac_1.FULL__cto.scrublet0-4.fmx.singlets.pkl',\n",
       " 'MDC_mtscatac_2.FULL': 'cistopic_objects/MDC_mtscatac_2.FULL__cto.scrublet0-4.fmx.singlets.pkl',\n",
       " 'OHS_s3atac_1.FULL': 'cistopic_objects/OHS_s3atac_1.FULL__cto.scrublet0-4.fmx.singlets.pkl',\n",
       " 'OHS_s3atac_2.FULL': 'cistopic_objects/OHS_s3atac_2.FULL__cto.scrublet0-4.fmx.singlets.pkl',\n",
       " 'SAN_10xmultiome_1.FULL': 'cistopic_objects/SAN_10xmultiome_1.FULL__cto.scrublet0-4.fmx.singlets.pkl',\n",
       " 'SAN_10xmultiome_2.FULL': 'cistopic_objects/SAN_10xmultiome_2.FULL__cto.scrublet0-4.fmx.singlets.pkl',\n",
       " 'STA_10xv11_1.FULL': 'cistopic_objects/STA_10xv11_1.FULL__cto.scrublet0-4.fmx.singlets.pkl',\n",
       " 'STA_10xv11_2.FULL': 'cistopic_objects/STA_10xv11_2.FULL__cto.scrublet0-4.fmx.singlets.pkl',\n",
       " 'TXG_10xv11_1.FULL': 'cistopic_objects/TXG_10xv11_1.FULL__cto.scrublet0-4.fmx.singlets.pkl',\n",
       " 'TXG_10xv2_1.FULL': 'cistopic_objects/TXG_10xv2_1.FULL__cto.scrublet0-4.fmx.singlets.pkl',\n",
       " 'TXG_10xv2_2.FULL': 'cistopic_objects/TXG_10xv2_2.FULL__cto.scrublet0-4.fmx.singlets.pkl',\n",
       " 'UCS_ddseq_1.FULL': 'cistopic_objects/UCS_ddseq_1.FULL__cto.scrublet0-4.fmx.singlets.pkl',\n",
       " 'UCS_ddseq_2.FULL': 'cistopic_objects/UCS_ddseq_2.FULL__cto.scrublet0-4.fmx.singlets.pkl',\n",
       " 'VIB_10xmultiome_1.FULL': 'cistopic_objects/VIB_10xmultiome_1.FULL__cto.scrublet0-4.fmx.singlets.pkl',\n",
       " 'VIB_10xmultiome_2.FULL': 'cistopic_objects/VIB_10xmultiome_2.FULL__cto.scrublet0-4.fmx.singlets.pkl',\n",
       " 'VIB_10xv1_1.FULL': 'cistopic_objects/VIB_10xv1_1.FULL__cto.scrublet0-4.fmx.singlets.pkl',\n",
       " 'VIB_10xv1_2.FULL': 'cistopic_objects/VIB_10xv1_2.FULL__cto.scrublet0-4.fmx.singlets.pkl',\n",
       " 'VIB_10xv2_1.FULL': 'cistopic_objects/VIB_10xv2_1.FULL__cto.scrublet0-4.fmx.singlets.pkl',\n",
       " 'VIB_10xv2_2.FULL': 'cistopic_objects/VIB_10xv2_2.FULL__cto.scrublet0-4.fmx.singlets.pkl',\n",
       " 'VIB_hydrop_1.FULL': 'cistopic_objects/VIB_hydrop_1.FULL__cto.scrublet0-4.fmx.singlets.pkl',\n",
       " 'VIB_hydrop_11.FULL': 'cistopic_objects/VIB_hydrop_11.FULL__cto.scrublet0-4.fmx.singlets.pkl',\n",
       " 'VIB_hydrop_12.FULL': 'cistopic_objects/VIB_hydrop_12.FULL__cto.scrublet0-4.fmx.singlets.pkl',\n",
       " 'VIB_hydrop_2.FULL': 'cistopic_objects/VIB_hydrop_2.FULL__cto.scrublet0-4.fmx.singlets.pkl',\n",
       " 'VIB_hydrop_21.FULL': 'cistopic_objects/VIB_hydrop_21.FULL__cto.scrublet0-4.fmx.singlets.pkl',\n",
       " 'VIB_hydrop_22.FULL': 'cistopic_objects/VIB_hydrop_22.FULL__cto.scrublet0-4.fmx.singlets.pkl'}"
      ]
     },
     "execution_count": 62,
     "metadata": {},
     "output_type": "execute_result"
    }
   ],
   "source": [
    "scrub_name_suffix = \"0-4\"\n",
    "cto_paths = sorted(glob.glob(f'cistopic_objects/*__cto.scrublet{scrub_name_suffix}.fmx.singlets.pkl'))\n",
    "cto_singlets_path_dict = {x.split('/')[-1].split(f'__cto.scrublet{scrub_name_suffix}.fmx.singlets.pkl')[0]:x for x in cto_paths}\n",
    "cto_singlets_path_dict"
   ]
  },
  {
   "cell_type": "code",
   "execution_count": 63,
   "id": "b6e78e5b",
   "metadata": {
    "execution": {
     "iopub.execute_input": "2022-09-26T09:04:23.799563Z",
     "iopub.status.busy": "2022-09-26T09:04:23.798823Z",
     "iopub.status.idle": "2022-09-26T09:04:23.806037Z",
     "shell.execute_reply": "2022-09-26T09:04:23.805392Z",
     "shell.execute_reply.started": "2022-09-26T09:04:23.799500Z"
    },
    "papermill": {
     "duration": 0.011877,
     "end_time": "2022-08-20T22:37:26.860640",
     "exception": false,
     "start_time": "2022-08-20T22:37:26.848763",
     "status": "completed"
    },
    "tags": []
   },
   "outputs": [],
   "source": [
    "n_iter = 400"
   ]
  },
  {
   "cell_type": "code",
   "execution_count": 64,
   "id": "a09fedca",
   "metadata": {
    "execution": {
     "iopub.execute_input": "2022-09-26T09:04:24.348469Z",
     "iopub.status.busy": "2022-09-26T09:04:24.347714Z",
     "iopub.status.idle": "2022-09-26T09:04:24.356877Z",
     "shell.execute_reply": "2022-09-26T09:04:24.356095Z",
     "shell.execute_reply.started": "2022-09-26T09:04:24.348406Z"
    },
    "papermill": {
     "duration": 0.011336,
     "end_time": "2022-08-20T22:37:26.883287",
     "exception": false,
     "start_time": "2022-08-20T22:37:26.871951",
     "status": "completed"
    },
    "tags": []
   },
   "outputs": [
    {
     "data": {
      "text/plain": [
       "{'BIO_ddseq_3.FULL': 'models__screen__mallet/BIO_ddseq_3.FULL__models_400_iter.pkl',\n",
       " 'BIO_ddseq_4.FULL': 'models__screen__mallet/BIO_ddseq_4.FULL__models_400_iter.pkl',\n",
       " 'CNA_hydrop_1.FULL': 'models__screen__mallet/CNA_hydrop_1.FULL__models_400_iter.pkl',\n",
       " 'CNA_hydrop_2.FULL': 'models__screen__mallet/CNA_hydrop_2.FULL__models_400_iter.pkl',\n",
       " 'CNA_hydrop_3.FULL': 'models__screen__mallet/CNA_hydrop_3.FULL__models_400_iter.pkl',\n",
       " 'EPF_hydrop_1.FULL': 'models__screen__mallet/EPF_hydrop_1.FULL__models_400_iter.pkl',\n",
       " 'EPF_hydrop_2.FULL': 'models__screen__mallet/EPF_hydrop_2.FULL__models_400_iter.pkl',\n",
       " 'EPF_hydrop_3.FULL': 'models__screen__mallet/EPF_hydrop_3.FULL__models_400_iter.pkl',\n",
       " 'EPF_hydrop_4.FULL': 'models__screen__mallet/EPF_hydrop_4.FULL__models_400_iter.pkl',\n",
       " 'UCS_ddseq_1.FULL': 'models__screen__mallet/UCS_ddseq_1.FULL__models_400_iter.pkl',\n",
       " 'UCS_ddseq_2.FULL': 'models__screen__mallet/UCS_ddseq_2.FULL__models_400_iter.pkl',\n",
       " 'VIB_10xmultiome_1.FULL': 'models__screen__mallet/VIB_10xmultiome_1.FULL__models_400_iter.pkl',\n",
       " 'VIB_10xmultiome_2.FULL': 'models__screen__mallet/VIB_10xmultiome_2.FULL__models_400_iter.pkl',\n",
       " 'VIB_hydrop_11.FULL': 'models__screen__mallet/VIB_hydrop_11.FULL__models_400_iter.pkl',\n",
       " 'VIB_hydrop_12.FULL': 'models__screen__mallet/VIB_hydrop_12.FULL__models_400_iter.pkl',\n",
       " 'VIB_hydrop_21.FULL': 'models__screen__mallet/VIB_hydrop_21.FULL__models_400_iter.pkl',\n",
       " 'VIB_hydrop_22.FULL': 'models__screen__mallet/VIB_hydrop_22.FULL__models_400_iter.pkl'}"
      ]
     },
     "execution_count": 64,
     "metadata": {},
     "output_type": "execute_result"
    }
   ],
   "source": [
    "models_path_dict = {x.split('/')[-1].split(f'__models_{n_iter}_iter.pkl')[0]: x for x in sorted(glob.glob(f'{f_mod_dir}/*{n_iter}_iter.pkl'))}\n",
    "models_path_dict"
   ]
  },
  {
   "cell_type": "markdown",
   "id": "4457c935",
   "metadata": {
    "papermill": {
     "duration": 0.017495,
     "end_time": "2022-08-20T22:37:26.913054",
     "exception": false,
     "start_time": "2022-08-20T22:37:26.895559",
     "status": "completed"
    },
    "tags": []
   },
   "source": [
    "We need to minimize Arun, minimize Cao & Juan, maximize Mimno & maximize log likelihood"
   ]
  },
  {
   "cell_type": "code",
   "execution_count": 65,
   "id": "49639b43",
   "metadata": {
    "execution": {
     "iopub.execute_input": "2022-09-26T09:04:25.257893Z",
     "iopub.status.busy": "2022-09-26T09:04:25.257154Z",
     "iopub.status.idle": "2022-09-26T09:04:25.264733Z",
     "shell.execute_reply": "2022-09-26T09:04:25.264048Z",
     "shell.execute_reply.started": "2022-09-26T09:04:25.257832Z"
    },
    "tags": []
   },
   "outputs": [
    {
     "data": {
      "text/plain": [
       "17"
      ]
     },
     "execution_count": 65,
     "metadata": {},
     "output_type": "execute_result"
    }
   ],
   "source": [
    "len(models_path_dict)"
   ]
  },
  {
   "cell_type": "code",
   "execution_count": 78,
   "id": "4ceb4181",
   "metadata": {
    "execution": {
     "iopub.execute_input": "2022-09-26T09:14:44.911624Z",
     "iopub.status.busy": "2022-09-26T09:14:44.910877Z",
     "iopub.status.idle": "2022-09-26T09:14:44.923976Z",
     "shell.execute_reply": "2022-09-26T09:14:44.923120Z",
     "shell.execute_reply.started": "2022-09-26T09:14:44.911561Z"
    },
    "papermill": {
     "duration": 0.011429,
     "end_time": "2022-08-20T22:37:26.941300",
     "exception": false,
     "start_time": "2022-08-20T22:37:26.929871",
     "status": "completed"
    },
    "tags": []
   },
   "outputs": [],
   "source": [
    "optimal_topics_dict = {'BIO_ddseq_1.FULL': 11,\n",
    " 'BIO_ddseq_2.FULL': 9,\n",
    " 'BIO_ddseq_3.FULL': 11,\n",
    " 'BIO_ddseq_4.FULL': 9,\n",
    " 'BRO_mtscatac_1.FULL': 11,\n",
    " 'BRO_mtscatac_2.FULL': 10,\n",
    " 'CNA_10xmultiome_1.FULL': 12,\n",
    " 'CNA_10xmultiome_2.FULL': 10,\n",
    " 'CNA_10xv11_1.FULL': 8,\n",
    " 'CNA_10xv11_2.FULL': 13,\n",
    " 'CNA_10xv11_3.FULL': 12,\n",
    " 'CNA_10xv11_4.FULL': 10,\n",
    " 'CNA_10xv11_5.FULL': 13,\n",
    " 'CNA_10xv2_1.FULL': 13,\n",
    " 'CNA_10xv2_2.FULL': 9,\n",
    " 'CNA_hydrop_1.FULL': 10,\n",
    " 'CNA_hydrop_2.FULL': 9,\n",
    " 'CNA_hydrop_3.FULL': 10,\n",
    " 'CNA_mtscatac_1.FULL': 11,\n",
    " 'CNA_mtscatac_2.FULL': 12,\n",
    " 'EPF_hydrop_1.FULL': 8,\n",
    " 'EPF_hydrop_2.FULL': 8,\n",
    " 'EPF_hydrop_3.FULL': 11,\n",
    " 'EPF_hydrop_4.FULL': 10,\n",
    " 'HAR_ddseq_1.FULL': 8,\n",
    " 'HAR_ddseq_2.FULL': 12,\n",
    " 'MDC_mtscatac_1.FULL': 10,\n",
    " 'MDC_mtscatac_2.FULL': 11,\n",
    " 'SAN_10xmultiome_1.FULL': 12,\n",
    " 'SAN_10xmultiome_2.FULL': 10,\n",
    " 'STA_10xv11_1.FULL': 11,\n",
    " 'STA_10xv11_2.FULL': 12,\n",
    " 'TXG_10xv11_1.FULL': 10,\n",
    " 'TXG_10xv2_1.FULL': 10,\n",
    " 'TXG_10xv2_2.FULL': 10,\n",
    " 'VIB_10xmultiome_1.FULL': 11,\n",
    " 'VIB_10xmultiome_2.FULL': 10,\n",
    " 'VIB_10xv1_1.FULL': 9,\n",
    " 'VIB_10xv1_2.FULL': 8,\n",
    " 'VIB_10xv2_1.FULL': 10,\n",
    " 'VIB_10xv2_2.FULL': 10,\n",
    " 'VIB_hydrop_1.FULL': 10,\n",
    " 'VIB_hydrop_11.FULL': 11,\n",
    " 'VIB_hydrop_12.FULL': 10,\n",
    " 'VIB_hydrop_2.FULL': 10,\n",
    " 'VIB_hydrop_21.FULL': 9,\n",
    " 'VIB_hydrop_22.FULL': 10,\n",
    " 'OHS_s3atac_1.FULL': 10,\n",
    " 'OHS_s3atac_2.FULL': 10,\n",
    " 'UCS_ddseq_1.FULL': 12,\n",
    " 'UCS_ddseq_2.FULL': 17}"
   ]
  },
  {
   "cell_type": "code",
   "execution_count": 79,
   "id": "954080b1",
   "metadata": {
    "execution": {
     "iopub.execute_input": "2022-09-26T09:14:45.113899Z",
     "iopub.status.busy": "2022-09-26T09:14:45.113191Z",
     "iopub.status.idle": "2022-09-26T09:14:45.126578Z",
     "shell.execute_reply": "2022-09-26T09:14:45.125757Z",
     "shell.execute_reply.started": "2022-09-26T09:14:45.113837Z"
    },
    "papermill": {
     "duration": 0.011386,
     "end_time": "2022-08-20T22:37:26.964005",
     "exception": false,
     "start_time": "2022-08-20T22:37:26.952619",
     "status": "completed"
    },
    "tags": []
   },
   "outputs": [
    {
     "name": "stdout",
     "output_type": "stream",
     "text": [
      "BIO_ddseq_1.FULL in optimal_topics_dict\n",
      "BIO_ddseq_2.FULL in optimal_topics_dict\n",
      "BIO_ddseq_3.FULL in optimal_topics_dict\n",
      "BIO_ddseq_4.FULL in optimal_topics_dict\n",
      "BRO_mtscatac_1.FULL in optimal_topics_dict\n",
      "BRO_mtscatac_2.FULL in optimal_topics_dict\n",
      "CNA_10xmultiome_1.FULL in optimal_topics_dict\n",
      "CNA_10xmultiome_2.FULL in optimal_topics_dict\n",
      "CNA_10xv11_1.FULL in optimal_topics_dict\n",
      "CNA_10xv11_2.FULL in optimal_topics_dict\n",
      "CNA_10xv11_3.FULL in optimal_topics_dict\n",
      "CNA_10xv11_4.FULL in optimal_topics_dict\n",
      "CNA_10xv11_5.FULL in optimal_topics_dict\n",
      "CNA_10xv2_1.FULL in optimal_topics_dict\n",
      "CNA_10xv2_2.FULL in optimal_topics_dict\n",
      "CNA_hydrop_1.FULL in optimal_topics_dict\n",
      "CNA_hydrop_2.FULL in optimal_topics_dict\n",
      "CNA_hydrop_3.FULL in optimal_topics_dict\n",
      "CNA_mtscatac_1.FULL in optimal_topics_dict\n",
      "CNA_mtscatac_2.FULL in optimal_topics_dict\n",
      "EPF_hydrop_1.FULL in optimal_topics_dict\n",
      "EPF_hydrop_2.FULL in optimal_topics_dict\n",
      "EPF_hydrop_3.FULL in optimal_topics_dict\n",
      "EPF_hydrop_4.FULL in optimal_topics_dict\n",
      "HAR_ddseq_1.FULL in optimal_topics_dict\n",
      "HAR_ddseq_2.FULL in optimal_topics_dict\n",
      "MDC_mtscatac_1.FULL in optimal_topics_dict\n",
      "MDC_mtscatac_2.FULL in optimal_topics_dict\n",
      "OHS_s3atac_1.FULL in optimal_topics_dict\n",
      "OHS_s3atac_2.FULL in optimal_topics_dict\n",
      "SAN_10xmultiome_1.FULL in optimal_topics_dict\n",
      "SAN_10xmultiome_2.FULL in optimal_topics_dict\n",
      "STA_10xv11_1.FULL in optimal_topics_dict\n",
      "STA_10xv11_2.FULL in optimal_topics_dict\n",
      "TXG_10xv11_1.FULL in optimal_topics_dict\n",
      "TXG_10xv2_1.FULL in optimal_topics_dict\n",
      "TXG_10xv2_2.FULL in optimal_topics_dict\n",
      "UCS_ddseq_1.FULL in optimal_topics_dict\n",
      "UCS_ddseq_2.FULL in optimal_topics_dict\n",
      "VIB_10xmultiome_1.FULL in optimal_topics_dict\n",
      "VIB_10xmultiome_2.FULL in optimal_topics_dict\n",
      "VIB_10xv1_1.FULL in optimal_topics_dict\n",
      "VIB_10xv1_2.FULL in optimal_topics_dict\n",
      "VIB_10xv2_1.FULL in optimal_topics_dict\n",
      "VIB_10xv2_2.FULL in optimal_topics_dict\n",
      "VIB_hydrop_1.FULL in optimal_topics_dict\n",
      "VIB_hydrop_11.FULL in optimal_topics_dict\n",
      "VIB_hydrop_12.FULL in optimal_topics_dict\n",
      "VIB_hydrop_2.FULL in optimal_topics_dict\n",
      "VIB_hydrop_21.FULL in optimal_topics_dict\n",
      "VIB_hydrop_22.FULL in optimal_topics_dict\n"
     ]
    },
    {
     "data": {
      "text/plain": [
       "{'BIO_ddseq_1.FULL': 11,\n",
       " 'BIO_ddseq_2.FULL': 9,\n",
       " 'BIO_ddseq_3.FULL': 11,\n",
       " 'BIO_ddseq_4.FULL': 9,\n",
       " 'BRO_mtscatac_1.FULL': 11,\n",
       " 'BRO_mtscatac_2.FULL': 10,\n",
       " 'CNA_10xmultiome_1.FULL': 12,\n",
       " 'CNA_10xmultiome_2.FULL': 10,\n",
       " 'CNA_10xv11_1.FULL': 8,\n",
       " 'CNA_10xv11_2.FULL': 13,\n",
       " 'CNA_10xv11_3.FULL': 12,\n",
       " 'CNA_10xv11_4.FULL': 10,\n",
       " 'CNA_10xv11_5.FULL': 13,\n",
       " 'CNA_10xv2_1.FULL': 13,\n",
       " 'CNA_10xv2_2.FULL': 9,\n",
       " 'CNA_hydrop_1.FULL': 10,\n",
       " 'CNA_hydrop_2.FULL': 9,\n",
       " 'CNA_hydrop_3.FULL': 10,\n",
       " 'CNA_mtscatac_1.FULL': 11,\n",
       " 'CNA_mtscatac_2.FULL': 12,\n",
       " 'EPF_hydrop_1.FULL': 8,\n",
       " 'EPF_hydrop_2.FULL': 8,\n",
       " 'EPF_hydrop_3.FULL': 11,\n",
       " 'EPF_hydrop_4.FULL': 10,\n",
       " 'HAR_ddseq_1.FULL': 8,\n",
       " 'HAR_ddseq_2.FULL': 12,\n",
       " 'MDC_mtscatac_1.FULL': 10,\n",
       " 'MDC_mtscatac_2.FULL': 11,\n",
       " 'SAN_10xmultiome_1.FULL': 12,\n",
       " 'SAN_10xmultiome_2.FULL': 10,\n",
       " 'STA_10xv11_1.FULL': 11,\n",
       " 'STA_10xv11_2.FULL': 12,\n",
       " 'TXG_10xv11_1.FULL': 10,\n",
       " 'TXG_10xv2_1.FULL': 10,\n",
       " 'TXG_10xv2_2.FULL': 10,\n",
       " 'VIB_10xmultiome_1.FULL': 11,\n",
       " 'VIB_10xmultiome_2.FULL': 10,\n",
       " 'VIB_10xv1_1.FULL': 9,\n",
       " 'VIB_10xv1_2.FULL': 8,\n",
       " 'VIB_10xv2_1.FULL': 10,\n",
       " 'VIB_10xv2_2.FULL': 10,\n",
       " 'VIB_hydrop_1.FULL': 10,\n",
       " 'VIB_hydrop_11.FULL': 11,\n",
       " 'VIB_hydrop_12.FULL': 10,\n",
       " 'VIB_hydrop_2.FULL': 10,\n",
       " 'VIB_hydrop_21.FULL': 9,\n",
       " 'VIB_hydrop_22.FULL': 10,\n",
       " 'OHS_s3atac_1.FULL': 10,\n",
       " 'OHS_s3atac_2.FULL': 10,\n",
       " 'UCS_ddseq_1.FULL': 12,\n",
       " 'UCS_ddseq_2.FULL': 17}"
      ]
     },
     "execution_count": 79,
     "metadata": {},
     "output_type": "execute_result"
    }
   ],
   "source": [
    "for sample in cto_singlets_path_dict.keys():\n",
    "    if sample not in optimal_topics_dict.keys():\n",
    "        print(f\"adding {sample}\")\n",
    "        optimal_topics_dict[sample] = 10\n",
    "    else:\n",
    "        print(f\"{sample} in optimal_topics_dict\")\n",
    "\n",
    "optimal_topics_dict"
   ]
  },
  {
   "cell_type": "code",
   "execution_count": 80,
   "id": "8a039763",
   "metadata": {
    "execution": {
     "iopub.execute_input": "2022-09-26T09:14:45.247751Z",
     "iopub.status.busy": "2022-09-26T09:14:45.247038Z",
     "iopub.status.idle": "2022-09-26T09:14:45.254219Z",
     "shell.execute_reply": "2022-09-26T09:14:45.253374Z",
     "shell.execute_reply.started": "2022-09-26T09:14:45.247689Z"
    },
    "tags": []
   },
   "outputs": [],
   "source": [
    "from pycisTopic.lda_models import evaluate_models\n",
    "import matplotlib.pyplot as plt"
   ]
  },
  {
   "cell_type": "code",
   "execution_count": 81,
   "id": "5c70d6ec",
   "metadata": {
    "execution": {
     "iopub.execute_input": "2022-09-26T09:14:45.607322Z",
     "iopub.status.busy": "2022-09-26T09:14:45.606609Z",
     "iopub.status.idle": "2022-09-26T09:14:45.618733Z",
     "shell.execute_reply": "2022-09-26T09:14:45.617983Z",
     "shell.execute_reply.started": "2022-09-26T09:14:45.607260Z"
    },
    "tags": []
   },
   "outputs": [
    {
     "data": {
      "text/plain": [
       "{'BIO_ddseq_1.FULL': 'cistopic_objects/BIO_ddseq_1.FULL__cto.scrublet0-4.fmx.singlets.pkl',\n",
       " 'BIO_ddseq_2.FULL': 'cistopic_objects/BIO_ddseq_2.FULL__cto.scrublet0-4.fmx.singlets.pkl',\n",
       " 'BIO_ddseq_3.FULL': 'cistopic_objects/BIO_ddseq_3.FULL__cto.scrublet0-4.fmx.singlets.pkl',\n",
       " 'BIO_ddseq_4.FULL': 'cistopic_objects/BIO_ddseq_4.FULL__cto.scrublet0-4.fmx.singlets.pkl',\n",
       " 'BRO_mtscatac_1.FULL': 'cistopic_objects/BRO_mtscatac_1.FULL__cto.scrublet0-4.fmx.singlets.pkl',\n",
       " 'BRO_mtscatac_2.FULL': 'cistopic_objects/BRO_mtscatac_2.FULL__cto.scrublet0-4.fmx.singlets.pkl',\n",
       " 'CNA_10xmultiome_1.FULL': 'cistopic_objects/CNA_10xmultiome_1.FULL__cto.scrublet0-4.fmx.singlets.pkl',\n",
       " 'CNA_10xmultiome_2.FULL': 'cistopic_objects/CNA_10xmultiome_2.FULL__cto.scrublet0-4.fmx.singlets.pkl',\n",
       " 'CNA_10xv11_1.FULL': 'cistopic_objects/CNA_10xv11_1.FULL__cto.scrublet0-4.fmx.singlets.pkl',\n",
       " 'CNA_10xv11_2.FULL': 'cistopic_objects/CNA_10xv11_2.FULL__cto.scrublet0-4.fmx.singlets.pkl',\n",
       " 'CNA_10xv11_3.FULL': 'cistopic_objects/CNA_10xv11_3.FULL__cto.scrublet0-4.fmx.singlets.pkl',\n",
       " 'CNA_10xv11_4.FULL': 'cistopic_objects/CNA_10xv11_4.FULL__cto.scrublet0-4.fmx.singlets.pkl',\n",
       " 'CNA_10xv11_5.FULL': 'cistopic_objects/CNA_10xv11_5.FULL__cto.scrublet0-4.fmx.singlets.pkl',\n",
       " 'CNA_10xv2_1.FULL': 'cistopic_objects/CNA_10xv2_1.FULL__cto.scrublet0-4.fmx.singlets.pkl',\n",
       " 'CNA_10xv2_2.FULL': 'cistopic_objects/CNA_10xv2_2.FULL__cto.scrublet0-4.fmx.singlets.pkl',\n",
       " 'CNA_hydrop_1.FULL': 'cistopic_objects/CNA_hydrop_1.FULL__cto.scrublet0-4.fmx.singlets.pkl',\n",
       " 'CNA_hydrop_2.FULL': 'cistopic_objects/CNA_hydrop_2.FULL__cto.scrublet0-4.fmx.singlets.pkl',\n",
       " 'CNA_hydrop_3.FULL': 'cistopic_objects/CNA_hydrop_3.FULL__cto.scrublet0-4.fmx.singlets.pkl',\n",
       " 'CNA_mtscatac_1.FULL': 'cistopic_objects/CNA_mtscatac_1.FULL__cto.scrublet0-4.fmx.singlets.pkl',\n",
       " 'CNA_mtscatac_2.FULL': 'cistopic_objects/CNA_mtscatac_2.FULL__cto.scrublet0-4.fmx.singlets.pkl',\n",
       " 'EPF_hydrop_1.FULL': 'cistopic_objects/EPF_hydrop_1.FULL__cto.scrublet0-4.fmx.singlets.pkl',\n",
       " 'EPF_hydrop_2.FULL': 'cistopic_objects/EPF_hydrop_2.FULL__cto.scrublet0-4.fmx.singlets.pkl',\n",
       " 'EPF_hydrop_3.FULL': 'cistopic_objects/EPF_hydrop_3.FULL__cto.scrublet0-4.fmx.singlets.pkl',\n",
       " 'EPF_hydrop_4.FULL': 'cistopic_objects/EPF_hydrop_4.FULL__cto.scrublet0-4.fmx.singlets.pkl',\n",
       " 'HAR_ddseq_1.FULL': 'cistopic_objects/HAR_ddseq_1.FULL__cto.scrublet0-4.fmx.singlets.pkl',\n",
       " 'HAR_ddseq_2.FULL': 'cistopic_objects/HAR_ddseq_2.FULL__cto.scrublet0-4.fmx.singlets.pkl',\n",
       " 'MDC_mtscatac_1.FULL': 'cistopic_objects/MDC_mtscatac_1.FULL__cto.scrublet0-4.fmx.singlets.pkl',\n",
       " 'MDC_mtscatac_2.FULL': 'cistopic_objects/MDC_mtscatac_2.FULL__cto.scrublet0-4.fmx.singlets.pkl',\n",
       " 'OHS_s3atac_1.FULL': 'cistopic_objects/OHS_s3atac_1.FULL__cto.scrublet0-4.fmx.singlets.pkl',\n",
       " 'OHS_s3atac_2.FULL': 'cistopic_objects/OHS_s3atac_2.FULL__cto.scrublet0-4.fmx.singlets.pkl',\n",
       " 'SAN_10xmultiome_1.FULL': 'cistopic_objects/SAN_10xmultiome_1.FULL__cto.scrublet0-4.fmx.singlets.pkl',\n",
       " 'SAN_10xmultiome_2.FULL': 'cistopic_objects/SAN_10xmultiome_2.FULL__cto.scrublet0-4.fmx.singlets.pkl',\n",
       " 'STA_10xv11_1.FULL': 'cistopic_objects/STA_10xv11_1.FULL__cto.scrublet0-4.fmx.singlets.pkl',\n",
       " 'STA_10xv11_2.FULL': 'cistopic_objects/STA_10xv11_2.FULL__cto.scrublet0-4.fmx.singlets.pkl',\n",
       " 'TXG_10xv11_1.FULL': 'cistopic_objects/TXG_10xv11_1.FULL__cto.scrublet0-4.fmx.singlets.pkl',\n",
       " 'TXG_10xv2_1.FULL': 'cistopic_objects/TXG_10xv2_1.FULL__cto.scrublet0-4.fmx.singlets.pkl',\n",
       " 'TXG_10xv2_2.FULL': 'cistopic_objects/TXG_10xv2_2.FULL__cto.scrublet0-4.fmx.singlets.pkl',\n",
       " 'UCS_ddseq_1.FULL': 'cistopic_objects/UCS_ddseq_1.FULL__cto.scrublet0-4.fmx.singlets.pkl',\n",
       " 'UCS_ddseq_2.FULL': 'cistopic_objects/UCS_ddseq_2.FULL__cto.scrublet0-4.fmx.singlets.pkl',\n",
       " 'VIB_10xmultiome_1.FULL': 'cistopic_objects/VIB_10xmultiome_1.FULL__cto.scrublet0-4.fmx.singlets.pkl',\n",
       " 'VIB_10xmultiome_2.FULL': 'cistopic_objects/VIB_10xmultiome_2.FULL__cto.scrublet0-4.fmx.singlets.pkl',\n",
       " 'VIB_10xv1_1.FULL': 'cistopic_objects/VIB_10xv1_1.FULL__cto.scrublet0-4.fmx.singlets.pkl',\n",
       " 'VIB_10xv1_2.FULL': 'cistopic_objects/VIB_10xv1_2.FULL__cto.scrublet0-4.fmx.singlets.pkl',\n",
       " 'VIB_10xv2_1.FULL': 'cistopic_objects/VIB_10xv2_1.FULL__cto.scrublet0-4.fmx.singlets.pkl',\n",
       " 'VIB_10xv2_2.FULL': 'cistopic_objects/VIB_10xv2_2.FULL__cto.scrublet0-4.fmx.singlets.pkl',\n",
       " 'VIB_hydrop_1.FULL': 'cistopic_objects/VIB_hydrop_1.FULL__cto.scrublet0-4.fmx.singlets.pkl',\n",
       " 'VIB_hydrop_11.FULL': 'cistopic_objects/VIB_hydrop_11.FULL__cto.scrublet0-4.fmx.singlets.pkl',\n",
       " 'VIB_hydrop_12.FULL': 'cistopic_objects/VIB_hydrop_12.FULL__cto.scrublet0-4.fmx.singlets.pkl',\n",
       " 'VIB_hydrop_2.FULL': 'cistopic_objects/VIB_hydrop_2.FULL__cto.scrublet0-4.fmx.singlets.pkl',\n",
       " 'VIB_hydrop_21.FULL': 'cistopic_objects/VIB_hydrop_21.FULL__cto.scrublet0-4.fmx.singlets.pkl',\n",
       " 'VIB_hydrop_22.FULL': 'cistopic_objects/VIB_hydrop_22.FULL__cto.scrublet0-4.fmx.singlets.pkl'}"
      ]
     },
     "execution_count": 81,
     "metadata": {},
     "output_type": "execute_result"
    }
   ],
   "source": [
    "cto_singlets_path_dict"
   ]
  },
  {
   "cell_type": "code",
   "execution_count": 84,
   "id": "adabdd28",
   "metadata": {
    "execution": {
     "iopub.execute_input": "2022-09-26T09:15:47.778689Z",
     "iopub.status.busy": "2022-09-26T09:15:47.777948Z",
     "iopub.status.idle": "2022-09-26T09:16:06.279806Z",
     "shell.execute_reply": "2022-09-26T09:16:06.278966Z",
     "shell.execute_reply.started": "2022-09-26T09:15:47.778626Z"
    },
    "papermill": {
     "duration": 0.01202,
     "end_time": "2022-08-20T22:37:26.987615",
     "exception": false,
     "start_time": "2022-08-20T22:37:26.975595",
     "status": "completed"
    },
    "tags": []
   },
   "outputs": [
    {
     "name": "stdout",
     "output_type": "stream",
     "text": [
      "BIO_ddseq_1.FULL\n",
      "cistopic_objects/BIO_ddseq_1.FULL__cto.scrublet0-4.fmx.singlets.model_11topics.pkl\n",
      "\tcistopic_objects/BIO_ddseq_1.FULL__cto.scrublet0-4.fmx.singlets.model_11topics.pkl already exists! Skipping...\n",
      "BIO_ddseq_2.FULL\n",
      "cistopic_objects/BIO_ddseq_2.FULL__cto.scrublet0-4.fmx.singlets.model_9topics.pkl\n",
      "\tcistopic_objects/BIO_ddseq_2.FULL__cto.scrublet0-4.fmx.singlets.model_9topics.pkl already exists! Skipping...\n",
      "BIO_ddseq_3.FULL\n",
      "cistopic_objects/BIO_ddseq_3.FULL__cto.scrublet0-4.fmx.singlets.model_11topics.pkl\n",
      "\tcistopic_objects/BIO_ddseq_3.FULL__cto.scrublet0-4.fmx.singlets.model_11topics.pkl already exists! Skipping...\n",
      "BIO_ddseq_4.FULL\n",
      "cistopic_objects/BIO_ddseq_4.FULL__cto.scrublet0-4.fmx.singlets.model_9topics.pkl\n",
      "\tcistopic_objects/BIO_ddseq_4.FULL__cto.scrublet0-4.fmx.singlets.model_9topics.pkl already exists! Skipping...\n",
      "BRO_mtscatac_1.FULL\n",
      "cistopic_objects/BRO_mtscatac_1.FULL__cto.scrublet0-4.fmx.singlets.model_11topics.pkl\n",
      "\tcistopic_objects/BRO_mtscatac_1.FULL__cto.scrublet0-4.fmx.singlets.model_11topics.pkl already exists! Skipping...\n",
      "BRO_mtscatac_2.FULL\n",
      "cistopic_objects/BRO_mtscatac_2.FULL__cto.scrublet0-4.fmx.singlets.model_10topics.pkl\n",
      "\tcistopic_objects/BRO_mtscatac_2.FULL__cto.scrublet0-4.fmx.singlets.model_10topics.pkl already exists! Skipping...\n",
      "CNA_10xmultiome_1.FULL\n",
      "cistopic_objects/CNA_10xmultiome_1.FULL__cto.scrublet0-4.fmx.singlets.model_12topics.pkl\n",
      "\tcistopic_objects/CNA_10xmultiome_1.FULL__cto.scrublet0-4.fmx.singlets.model_12topics.pkl already exists! Skipping...\n",
      "CNA_10xmultiome_2.FULL\n",
      "cistopic_objects/CNA_10xmultiome_2.FULL__cto.scrublet0-4.fmx.singlets.model_10topics.pkl\n",
      "\tcistopic_objects/CNA_10xmultiome_2.FULL__cto.scrublet0-4.fmx.singlets.model_10topics.pkl already exists! Skipping...\n",
      "CNA_10xv11_1.FULL\n",
      "cistopic_objects/CNA_10xv11_1.FULL__cto.scrublet0-4.fmx.singlets.model_8topics.pkl\n",
      "\tcistopic_objects/CNA_10xv11_1.FULL__cto.scrublet0-4.fmx.singlets.model_8topics.pkl already exists! Skipping...\n",
      "CNA_10xv11_2.FULL\n",
      "cistopic_objects/CNA_10xv11_2.FULL__cto.scrublet0-4.fmx.singlets.model_13topics.pkl\n",
      "\tcistopic_objects/CNA_10xv11_2.FULL__cto.scrublet0-4.fmx.singlets.model_13topics.pkl already exists! Skipping...\n",
      "CNA_10xv11_3.FULL\n",
      "cistopic_objects/CNA_10xv11_3.FULL__cto.scrublet0-4.fmx.singlets.model_12topics.pkl\n",
      "\tcistopic_objects/CNA_10xv11_3.FULL__cto.scrublet0-4.fmx.singlets.model_12topics.pkl already exists! Skipping...\n",
      "CNA_10xv11_4.FULL\n",
      "cistopic_objects/CNA_10xv11_4.FULL__cto.scrublet0-4.fmx.singlets.model_10topics.pkl\n",
      "\tcistopic_objects/CNA_10xv11_4.FULL__cto.scrublet0-4.fmx.singlets.model_10topics.pkl already exists! Skipping...\n",
      "CNA_10xv11_5.FULL\n",
      "cistopic_objects/CNA_10xv11_5.FULL__cto.scrublet0-4.fmx.singlets.model_13topics.pkl\n",
      "\tcistopic_objects/CNA_10xv11_5.FULL__cto.scrublet0-4.fmx.singlets.model_13topics.pkl already exists! Skipping...\n",
      "CNA_10xv2_1.FULL\n",
      "cistopic_objects/CNA_10xv2_1.FULL__cto.scrublet0-4.fmx.singlets.model_13topics.pkl\n",
      "\tcistopic_objects/CNA_10xv2_1.FULL__cto.scrublet0-4.fmx.singlets.model_13topics.pkl already exists! Skipping...\n",
      "CNA_10xv2_2.FULL\n",
      "cistopic_objects/CNA_10xv2_2.FULL__cto.scrublet0-4.fmx.singlets.model_9topics.pkl\n",
      "\tcistopic_objects/CNA_10xv2_2.FULL__cto.scrublet0-4.fmx.singlets.model_9topics.pkl already exists! Skipping...\n",
      "CNA_hydrop_1.FULL\n",
      "cistopic_objects/CNA_hydrop_1.FULL__cto.scrublet0-4.fmx.singlets.model_10topics.pkl\n",
      "\tcistopic_objects/CNA_hydrop_1.FULL__cto.scrublet0-4.fmx.singlets.model_10topics.pkl already exists! Skipping...\n",
      "CNA_hydrop_2.FULL\n",
      "cistopic_objects/CNA_hydrop_2.FULL__cto.scrublet0-4.fmx.singlets.model_9topics.pkl\n",
      "\tcistopic_objects/CNA_hydrop_2.FULL__cto.scrublet0-4.fmx.singlets.model_9topics.pkl already exists! Skipping...\n",
      "CNA_hydrop_3.FULL\n",
      "cistopic_objects/CNA_hydrop_3.FULL__cto.scrublet0-4.fmx.singlets.model_10topics.pkl\n",
      "\tcistopic_objects/CNA_hydrop_3.FULL__cto.scrublet0-4.fmx.singlets.model_10topics.pkl already exists! Skipping...\n",
      "CNA_mtscatac_1.FULL\n",
      "cistopic_objects/CNA_mtscatac_1.FULL__cto.scrublet0-4.fmx.singlets.model_11topics.pkl\n",
      "\tcistopic_objects/CNA_mtscatac_1.FULL__cto.scrublet0-4.fmx.singlets.model_11topics.pkl already exists! Skipping...\n",
      "CNA_mtscatac_2.FULL\n",
      "cistopic_objects/CNA_mtscatac_2.FULL__cto.scrublet0-4.fmx.singlets.model_12topics.pkl\n",
      "\tcistopic_objects/CNA_mtscatac_2.FULL__cto.scrublet0-4.fmx.singlets.model_12topics.pkl already exists! Skipping...\n",
      "EPF_hydrop_1.FULL\n",
      "cistopic_objects/EPF_hydrop_1.FULL__cto.scrublet0-4.fmx.singlets.model_8topics.pkl\n",
      "\tcistopic_objects/EPF_hydrop_1.FULL__cto.scrublet0-4.fmx.singlets.model_8topics.pkl already exists! Skipping...\n",
      "EPF_hydrop_2.FULL\n",
      "cistopic_objects/EPF_hydrop_2.FULL__cto.scrublet0-4.fmx.singlets.model_8topics.pkl\n",
      "\tcistopic_objects/EPF_hydrop_2.FULL__cto.scrublet0-4.fmx.singlets.model_8topics.pkl already exists! Skipping...\n",
      "EPF_hydrop_3.FULL\n",
      "cistopic_objects/EPF_hydrop_3.FULL__cto.scrublet0-4.fmx.singlets.model_11topics.pkl\n",
      "\tcistopic_objects/EPF_hydrop_3.FULL__cto.scrublet0-4.fmx.singlets.model_11topics.pkl already exists! Skipping...\n",
      "EPF_hydrop_4.FULL\n",
      "cistopic_objects/EPF_hydrop_4.FULL__cto.scrublet0-4.fmx.singlets.model_10topics.pkl\n",
      "\tcistopic_objects/EPF_hydrop_4.FULL__cto.scrublet0-4.fmx.singlets.model_10topics.pkl already exists! Skipping...\n",
      "HAR_ddseq_1.FULL\n",
      "cistopic_objects/HAR_ddseq_1.FULL__cto.scrublet0-4.fmx.singlets.model_8topics.pkl\n",
      "\tcistopic_objects/HAR_ddseq_1.FULL__cto.scrublet0-4.fmx.singlets.model_8topics.pkl already exists! Skipping...\n",
      "HAR_ddseq_2.FULL\n",
      "cistopic_objects/HAR_ddseq_2.FULL__cto.scrublet0-4.fmx.singlets.model_12topics.pkl\n",
      "\tcistopic_objects/HAR_ddseq_2.FULL__cto.scrublet0-4.fmx.singlets.model_12topics.pkl already exists! Skipping...\n",
      "MDC_mtscatac_1.FULL\n",
      "cistopic_objects/MDC_mtscatac_1.FULL__cto.scrublet0-4.fmx.singlets.model_10topics.pkl\n",
      "\tcistopic_objects/MDC_mtscatac_1.FULL__cto.scrublet0-4.fmx.singlets.model_10topics.pkl already exists! Skipping...\n",
      "MDC_mtscatac_2.FULL\n",
      "cistopic_objects/MDC_mtscatac_2.FULL__cto.scrublet0-4.fmx.singlets.model_11topics.pkl\n",
      "\tcistopic_objects/MDC_mtscatac_2.FULL__cto.scrublet0-4.fmx.singlets.model_11topics.pkl already exists! Skipping...\n",
      "SAN_10xmultiome_1.FULL\n",
      "cistopic_objects/SAN_10xmultiome_1.FULL__cto.scrublet0-4.fmx.singlets.model_12topics.pkl\n",
      "\tcistopic_objects/SAN_10xmultiome_1.FULL__cto.scrublet0-4.fmx.singlets.model_12topics.pkl already exists! Skipping...\n",
      "SAN_10xmultiome_2.FULL\n",
      "cistopic_objects/SAN_10xmultiome_2.FULL__cto.scrublet0-4.fmx.singlets.model_10topics.pkl\n",
      "\tcistopic_objects/SAN_10xmultiome_2.FULL__cto.scrublet0-4.fmx.singlets.model_10topics.pkl already exists! Skipping...\n",
      "STA_10xv11_1.FULL\n",
      "cistopic_objects/STA_10xv11_1.FULL__cto.scrublet0-4.fmx.singlets.model_11topics.pkl\n",
      "\tcistopic_objects/STA_10xv11_1.FULL__cto.scrublet0-4.fmx.singlets.model_11topics.pkl already exists! Skipping...\n",
      "STA_10xv11_2.FULL\n",
      "cistopic_objects/STA_10xv11_2.FULL__cto.scrublet0-4.fmx.singlets.model_12topics.pkl\n",
      "\tcistopic_objects/STA_10xv11_2.FULL__cto.scrublet0-4.fmx.singlets.model_12topics.pkl already exists! Skipping...\n",
      "TXG_10xv11_1.FULL\n",
      "cistopic_objects/TXG_10xv11_1.FULL__cto.scrublet0-4.fmx.singlets.model_10topics.pkl\n",
      "\tTXG_10xv11_1.FULL models does not exist!\n",
      "TXG_10xv2_1.FULL\n",
      "cistopic_objects/TXG_10xv2_1.FULL__cto.scrublet0-4.fmx.singlets.model_10topics.pkl\n",
      "\tTXG_10xv2_1.FULL models does not exist!\n",
      "TXG_10xv2_2.FULL\n",
      "cistopic_objects/TXG_10xv2_2.FULL__cto.scrublet0-4.fmx.singlets.model_10topics.pkl\n",
      "\tTXG_10xv2_2.FULL models does not exist!\n",
      "VIB_10xmultiome_1.FULL\n",
      "cistopic_objects/VIB_10xmultiome_1.FULL__cto.scrublet0-4.fmx.singlets.model_11topics.pkl\n",
      "\tcistopic_objects/VIB_10xmultiome_1.FULL__cto.scrublet0-4.fmx.singlets.model_11topics.pkl already exists! Skipping...\n",
      "VIB_10xmultiome_2.FULL\n",
      "cistopic_objects/VIB_10xmultiome_2.FULL__cto.scrublet0-4.fmx.singlets.model_10topics.pkl\n",
      "\tcistopic_objects/VIB_10xmultiome_2.FULL__cto.scrublet0-4.fmx.singlets.model_10topics.pkl already exists! Skipping...\n",
      "VIB_10xv1_1.FULL\n",
      "cistopic_objects/VIB_10xv1_1.FULL__cto.scrublet0-4.fmx.singlets.model_9topics.pkl\n",
      "\tcistopic_objects/VIB_10xv1_1.FULL__cto.scrublet0-4.fmx.singlets.model_9topics.pkl already exists! Skipping...\n",
      "VIB_10xv1_2.FULL\n",
      "cistopic_objects/VIB_10xv1_2.FULL__cto.scrublet0-4.fmx.singlets.model_8topics.pkl\n",
      "\tcistopic_objects/VIB_10xv1_2.FULL__cto.scrublet0-4.fmx.singlets.model_8topics.pkl already exists! Skipping...\n",
      "VIB_10xv2_1.FULL\n",
      "cistopic_objects/VIB_10xv2_1.FULL__cto.scrublet0-4.fmx.singlets.model_10topics.pkl\n",
      "\tcistopic_objects/VIB_10xv2_1.FULL__cto.scrublet0-4.fmx.singlets.model_10topics.pkl already exists! Skipping...\n",
      "VIB_10xv2_2.FULL\n",
      "cistopic_objects/VIB_10xv2_2.FULL__cto.scrublet0-4.fmx.singlets.model_10topics.pkl\n",
      "\tcistopic_objects/VIB_10xv2_2.FULL__cto.scrublet0-4.fmx.singlets.model_10topics.pkl already exists! Skipping...\n",
      "VIB_hydrop_1.FULL\n",
      "cistopic_objects/VIB_hydrop_1.FULL__cto.scrublet0-4.fmx.singlets.model_10topics.pkl\n",
      "\tcistopic_objects/VIB_hydrop_1.FULL__cto.scrublet0-4.fmx.singlets.model_10topics.pkl already exists! Skipping...\n",
      "VIB_hydrop_11.FULL\n",
      "cistopic_objects/VIB_hydrop_11.FULL__cto.scrublet0-4.fmx.singlets.model_11topics.pkl\n",
      "\tcistopic_objects/VIB_hydrop_11.FULL__cto.scrublet0-4.fmx.singlets.model_11topics.pkl already exists! Skipping...\n",
      "VIB_hydrop_12.FULL\n",
      "cistopic_objects/VIB_hydrop_12.FULL__cto.scrublet0-4.fmx.singlets.model_10topics.pkl\n",
      "\tcistopic_objects/VIB_hydrop_12.FULL__cto.scrublet0-4.fmx.singlets.model_10topics.pkl already exists! Skipping...\n",
      "VIB_hydrop_2.FULL\n",
      "cistopic_objects/VIB_hydrop_2.FULL__cto.scrublet0-4.fmx.singlets.model_10topics.pkl\n",
      "\tcistopic_objects/VIB_hydrop_2.FULL__cto.scrublet0-4.fmx.singlets.model_10topics.pkl already exists! Skipping...\n",
      "VIB_hydrop_21.FULL\n",
      "cistopic_objects/VIB_hydrop_21.FULL__cto.scrublet0-4.fmx.singlets.model_9topics.pkl\n",
      "\tcistopic_objects/VIB_hydrop_21.FULL__cto.scrublet0-4.fmx.singlets.model_9topics.pkl already exists! Skipping...\n",
      "VIB_hydrop_22.FULL\n",
      "cistopic_objects/VIB_hydrop_22.FULL__cto.scrublet0-4.fmx.singlets.model_10topics.pkl\n",
      "\tcistopic_objects/VIB_hydrop_22.FULL__cto.scrublet0-4.fmx.singlets.model_10topics.pkl already exists! Skipping...\n",
      "OHS_s3atac_1.FULL\n",
      "cistopic_objects/OHS_s3atac_1.FULL__cto.scrublet0-4.fmx.singlets.model_10topics.pkl\n",
      "\tOHS_s3atac_1.FULL models does not exist!\n",
      "OHS_s3atac_2.FULL\n",
      "cistopic_objects/OHS_s3atac_2.FULL__cto.scrublet0-4.fmx.singlets.model_10topics.pkl\n",
      "\tOHS_s3atac_2.FULL models does not exist!\n",
      "UCS_ddseq_1.FULL\n",
      "cistopic_objects/UCS_ddseq_1.FULL__cto.scrublet0-4.fmx.singlets.model_12topics.pkl\n",
      "\tcistopic_objects/UCS_ddseq_1.FULL__cto.scrublet0-4.fmx.singlets.model_12topics.pkl already exists! Skipping...\n",
      "UCS_ddseq_2.FULL\n",
      "cistopic_objects/UCS_ddseq_2.FULL__cto.scrublet0-4.fmx.singlets.model_17topics.pkl\n",
      "\tLoaded models__screen__mallet/UCS_ddseq_2.FULL__models_400_iter.pkl, evaluating...\n"
     ]
    },
    {
     "data": {
      "image/png": "[encoded data removed]",
      "text/plain": [
       "<Figure size 460.8x345.6 with 1 Axes>"
      ]
     },
     "metadata": {
      "needs_background": "light"
     },
     "output_type": "display_data"
    },
    {
     "data": {
      "text/plain": [
       "<Figure size 432x288 with 0 Axes>"
      ]
     },
     "metadata": {},
     "output_type": "display_data"
    }
   ],
   "source": [
    "write = True\n",
    "for sample in optimal_topics_dict.keys():\n",
    "    cto_path = cto_singlets_path_dict[sample]\n",
    "    print(sample)\n",
    "    ntopics = optimal_topics_dict[sample]\n",
    "    cto_path_new = cto_path.replace('.pkl', f'.model_{ntopics}topics.pkl')\n",
    "    print(cto_path_new)\n",
    "    if not os.path.isfile(cto_path_new):\n",
    "        if(sample in list(models_path_dict.keys())):\n",
    "            models_path = models_path_dict[sample]\n",
    "            with open(models_path, 'rb') as f:\n",
    "                models = pickle.load(f)\n",
    "\n",
    "            print(f\"\\tLoaded {models_path}, evaluating...\")\n",
    "            model = evaluate_models(models,\n",
    "                         select_model=optimal_topics_dict[sample], \n",
    "                         return_model=True, \n",
    "                         metrics=['Arun_2010','Cao_Juan_2009', 'Minmo_2011', 'loglikelihood'],\n",
    "                         plot=True, # disabled since we only test one model here\n",
    "                         plot_metrics=False\n",
    "                         )\n",
    "            \n",
    "            plt.savefig(f\"plots_qc/{sample}__model_evaluation.png\", facecolor='white')\n",
    "            \n",
    "            if write == True:\n",
    "                with open(cto_path, 'rb') as f:\n",
    "                    cto = pickle.load(f)\n",
    "\n",
    "                cto.add_LDA_model(model)\n",
    "\n",
    "                with open(cto_path_new, \"wb\") as f:\n",
    "                    pickle.dump(cto, f, protocol=4)\n",
    "\n",
    "        else:\n",
    "            print(f\"\\t{sample} models does not exist!\")\n",
    "    else:\n",
    "        print(f\"\\t{cto_path_new} already exists! Skipping...\")\n",
    "        "
   ]
  },
  {
   "cell_type": "code",
   "execution_count": 83,
   "id": "c74f3010",
   "metadata": {
    "execution": {
     "iopub.execute_input": "2022-09-26T09:14:56.436608Z",
     "iopub.status.busy": "2022-09-26T09:14:56.436238Z",
     "iopub.status.idle": "2022-09-26T09:14:56.440978Z",
     "shell.execute_reply": "2022-09-26T09:14:56.440465Z",
     "shell.execute_reply.started": "2022-09-26T09:14:56.436585Z"
    },
    "tags": []
   },
   "outputs": [
    {
     "data": {
      "text/plain": [
       "'models__screen__mallet/UCS_ddseq_2.FULL__models_400_iter.pkl'"
      ]
     },
     "execution_count": 83,
     "metadata": {},
     "output_type": "execute_result"
    }
   ],
   "source": [
    "models_path"
   ]
  },
  {
   "cell_type": "code",
   "execution_count": null,
   "id": "d31b234d",
   "metadata": {},
   "outputs": [],
   "source": []
  },
  {
   "cell_type": "code",
   "execution_count": null,
   "id": "bee8ced1",
   "metadata": {},
   "outputs": [],
   "source": []
  }
 ],
 "metadata": {
  "kernelspec": {
   "display_name": "20220815_pycistopic.sif",
   "language": "python",
   "name": "cistopic_20220815"
  },
  "language_info": {
   "codemirror_mode": {
    "name": "ipython",
    "version": 3
   },
   "file_extension": ".py",
   "mimetype": "text/x-python",
   "name": "python",
   "nbconvert_exporter": "python",
   "pygments_lexer": "ipython3",
   "version": "3.8.13"
  },
  "papermill": {
   "default_parameters": {},
   "duration": 12.353482,
   "end_time": "2022-08-20T22:37:28.628546",
   "environment_variables": {},
   "exception": null,
   "input_path": "6_run_models_script_staging.ipynb",
   "output_path": "6_run_models_script_staging.OUT.ipynb",
   "parameters": {},
   "start_time": "2022-08-20T22:37:16.275064",
   "version": "2.3.3"
  }
 },
 "nbformat": 4,
 "nbformat_minor": 5
}

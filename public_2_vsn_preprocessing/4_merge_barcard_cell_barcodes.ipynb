{
 "cells": [
  {
   "cell_type": "markdown",
   "id": "504d1650",
   "metadata": {},
   "source": [
    "Open the bash container:"
   ]
  },
  {
   "cell_type": "code",
   "execution_count": null,
   "id": "27d84c03",
   "metadata": {},
   "outputs": [],
   "source": [
    "img_path=../0_resources/vsn_cache/vibsinglecellnf-singlecelltoolkit-2022-07-07-0638c1d.img\n",
    "singularity exec --cleanenv -H $PWD -B /dodrio,/readonly/dodrio,/tmp $img_path bash"
   ]
  },
  {
   "cell_type": "code",
   "execution_count": null,
   "id": "ece9b5cf",
   "metadata": {},
   "outputs": [],
   "source": [
    "img_path=../0_resources/vsn_cache/vibsinglecellnf-singlecelltoolkit-2022-07-07-0638c1d.img\n",
    "singularity exec --cleanenv -H $PWD -B /lustre1,/staging,/data,${VSC_SCRATCH},${VSC_SCRATCH}/tmp:/tmp,${HOME}/.nextflow/assets/ $img_path bash"
   ]
  },
  {
   "cell_type": "markdown",
   "id": "33a3c20e",
   "metadata": {},
   "source": [
    "Generate fragments:"
   ]
  },
  {
   "cell_type": "code",
   "execution_count": 4,
   "id": "c9af941c",
   "metadata": {},
   "outputs": [
    {
     "name": "stdout",
     "output_type": "stream",
     "text": [
      "full_preprocessing_out/data/reports/barcard/BIO_ddseq_1.FULL.tomerge.tsv\n",
      "full_preprocessing_out/data/fragments/BIO_ddseq_1.FULL.fragments.tsv.gz exists, skipping\n",
      "full_preprocessing_out/data/reports/barcard/BIO_ddseq_2.FULL.tomerge.tsv\n",
      "full_preprocessing_out/data/fragments/BIO_ddseq_2.FULL.fragments.tsv.gz exists, skipping\n",
      "full_preprocessing_out/data/reports/barcard/BIO_ddseq_3.FULL.tomerge.tsv\n",
      "full_preprocessing_out/data/fragments/BIO_ddseq_3.FULL.fragments.tsv.gz exists, skipping\n",
      "full_preprocessing_out/data/reports/barcard/BIO_ddseq_4.FULL.tomerge.tsv\n",
      "full_preprocessing_out/data/fragments/BIO_ddseq_4.FULL.fragments.tsv.gz exists, skipping\n",
      "full_preprocessing_out/data/reports/barcard/BRO_mtscatac_1.FULL.tomerge.tsv\n",
      "full_preprocessing_out/data/fragments/BRO_mtscatac_1.FULL.fragments.tsv.gz exists, skipping\n",
      "full_preprocessing_out/data/reports/barcard/BRO_mtscatac_2.FULL.tomerge.tsv\n",
      "full_preprocessing_out/data/fragments/BRO_mtscatac_2.FULL.fragments.tsv.gz exists, skipping\n",
      "full_preprocessing_out/data/reports/barcard/CNA_10xmultiome_1.FULL.tomerge.tsv\n",
      "full_preprocessing_out/data/fragments/CNA_10xmultiome_1.FULL.fragments.tsv.gz exists, skipping\n",
      "full_preprocessing_out/data/reports/barcard/CNA_10xmultiome_2.FULL.tomerge.tsv\n",
      "full_preprocessing_out/data/fragments/CNA_10xmultiome_2.FULL.fragments.tsv.gz exists, skipping\n",
      "full_preprocessing_out/data/reports/barcard/CNA_10xv11_1.FULL.tomerge.tsv\n",
      "full_preprocessing_out/data/fragments/CNA_10xv11_1.FULL.fragments.tsv.gz exists, skipping\n",
      "full_preprocessing_out/data/reports/barcard/CNA_10xv11_2.FULL.tomerge.tsv\n",
      "full_preprocessing_out/data/fragments/CNA_10xv11_2.FULL.fragments.tsv.gz exists, skipping\n",
      "full_preprocessing_out/data/reports/barcard/CNA_10xv11_3.FULL.tomerge.tsv\n",
      "full_preprocessing_out/data/fragments/CNA_10xv11_3.FULL.fragments.tsv.gz exists, skipping\n",
      "full_preprocessing_out/data/reports/barcard/CNA_10xv11_4.FULL.tomerge.tsv\n",
      "full_preprocessing_out/data/fragments/CNA_10xv11_4.FULL.fragments.tsv.gz exists, skipping\n",
      "full_preprocessing_out/data/reports/barcard/CNA_10xv11_5.FULL.tomerge.tsv\n",
      "full_preprocessing_out/data/fragments/CNA_10xv11_5.FULL.fragments.tsv.gz exists, skipping\n",
      "full_preprocessing_out/data/reports/barcard/CNA_10xv2_1.FULL.tomerge.tsv\n",
      "full_preprocessing_out/data/fragments/CNA_10xv2_1.FULL.fragments.tsv.gz exists, skipping\n",
      "full_preprocessing_out/data/reports/barcard/CNA_10xv2_2.FULL.tomerge.tsv\n",
      "full_preprocessing_out/data/fragments/CNA_10xv2_2.FULL.fragments.tsv.gz exists, skipping\n",
      "full_preprocessing_out/data/reports/barcard/CNA_ddseq_1.FULL.tomerge.tsv\n",
      "full_preprocessing_out/data/fragments/CNA_ddseq_1.FULL.fragments.tsv.gz exists, skipping\n",
      "full_preprocessing_out/data/reports/barcard/CNA_ddseq_2.FULL.tomerge.tsv\n",
      "full_preprocessing_out/data/fragments/CNA_ddseq_2.FULL.fragments.tsv.gz exists, skipping\n",
      "full_preprocessing_out/data/reports/barcard/CNA_hydrop_1.FULL.tomerge.tsv\n",
      "full_preprocessing_out/data/fragments/CNA_hydrop_1.FULL.fragments.tsv.gz exists, skipping\n",
      "full_preprocessing_out/data/reports/barcard/CNA_hydrop_2.FULL.tomerge.tsv\n",
      "full_preprocessing_out/data/fragments/CNA_hydrop_2.FULL.fragments.tsv.gz exists, skipping\n",
      "full_preprocessing_out/data/reports/barcard/CNA_hydrop_3.FULL.tomerge.tsv\n",
      "full_preprocessing_out/data/fragments/CNA_hydrop_3.FULL.fragments.tsv.gz exists, skipping\n",
      "full_preprocessing_out/data/reports/barcard/CNA_mtscatac_1.FULL.tomerge.tsv\n",
      "full_preprocessing_out/data/fragments/CNA_mtscatac_1.FULL.fragments.tsv.gz exists, skipping\n",
      "full_preprocessing_out/data/reports/barcard/CNA_mtscatac_2.FULL.tomerge.tsv\n",
      "full_preprocessing_out/data/fragments/CNA_mtscatac_2.FULL.fragments.tsv.gz exists, skipping\n",
      "full_preprocessing_out/data/reports/barcard/EPF_hydrop_1.FULL.tomerge.tsv\n",
      "full_preprocessing_out/data/fragments/EPF_hydrop_1.FULL.fragments.tsv.gz exists, skipping\n",
      "full_preprocessing_out/data/reports/barcard/EPF_hydrop_2.FULL.tomerge.tsv\n",
      "full_preprocessing_out/data/fragments/EPF_hydrop_2.FULL.fragments.tsv.gz exists, skipping\n",
      "full_preprocessing_out/data/reports/barcard/EPF_hydrop_3.FULL.tomerge.tsv\n",
      "full_preprocessing_out/data/fragments/EPF_hydrop_3.FULL.fragments.tsv.gz exists, skipping\n",
      "full_preprocessing_out/data/reports/barcard/EPF_hydrop_4.FULL.tomerge.tsv\n",
      "full_preprocessing_out/data/fragments/EPF_hydrop_4.FULL.fragments.tsv.gz exists, skipping\n",
      "full_preprocessing_out/data/reports/barcard/HAR_ddseq_1.FULL.tomerge.tsv\n",
      "full_preprocessing_out/data/fragments/HAR_ddseq_1.FULL.fragments.tsv.gz exists, skipping\n",
      "full_preprocessing_out/data/reports/barcard/HAR_ddseq_2.FULL.tomerge.tsv\n",
      "full_preprocessing_out/data/fragments/HAR_ddseq_2.FULL.fragments.tsv.gz exists, skipping\n",
      "full_preprocessing_out/data/reports/barcard/MDC_mtscatac_1.FULL.tomerge.tsv\n",
      "full_preprocessing_out/data/fragments/MDC_mtscatac_1.FULL.fragments.tsv.gz exists, skipping\n",
      "full_preprocessing_out/data/reports/barcard/MDC_mtscatac_2.FULL.tomerge.tsv\n",
      "full_preprocessing_out/data/fragments/MDC_mtscatac_2.FULL.fragments.tsv.gz exists, skipping\n",
      "full_preprocessing_out/data/reports/barcard/OHS_s3atac_1.FULL.tomerge.tsv\n",
      "full_preprocessing_out/data/fragments/OHS_s3atac_1.FULL.fragments.tsv.gz exists, skipping\n",
      "full_preprocessing_out/data/reports/barcard/OHS_s3atac_2.FULL.tomerge.tsv\n",
      "full_preprocessing_out/data/fragments/OHS_s3atac_2.FULL.fragments.tsv.gz exists, skipping\n",
      "full_preprocessing_out/data/reports/barcard/SAN_10xmultiome_1.FULL.tomerge.tsv\n",
      "full_preprocessing_out/data/fragments/SAN_10xmultiome_1.FULL.fragments.tsv.gz exists, skipping\n",
      "full_preprocessing_out/data/reports/barcard/SAN_10xmultiome_2.FULL.tomerge.tsv\n",
      "full_preprocessing_out/data/fragments/SAN_10xmultiome_2.FULL.fragments.tsv.gz exists, skipping\n",
      "full_preprocessing_out/data/reports/barcard/STA_10xv11_1.FULL.tomerge.tsv\n",
      "full_preprocessing_out/data/fragments/STA_10xv11_1.FULL.fragments.tsv.gz exists, skipping\n",
      "full_preprocessing_out/data/reports/barcard/STA_10xv11_2.FULL.tomerge.tsv\n",
      "full_preprocessing_out/data/fragments/STA_10xv11_2.FULL.fragments.tsv.gz exists, skipping\n",
      "full_preprocessing_out/data/reports/barcard/TXG_10xv11_1.FULL.tomerge.tsv\n",
      "full_preprocessing_out/data/fragments/TXG_10xv11_1.FULL.fragments.tsv.gz exists, skipping\n",
      "full_preprocessing_out/data/reports/barcard/TXG_10xv2_1.FULL.tomerge.tsv\n",
      "full_preprocessing_out/data/fragments/TXG_10xv2_1.FULL.fragments.tsv.gz exists, skipping\n",
      "full_preprocessing_out/data/reports/barcard/TXG_10xv2_2.FULL.tomerge.tsv\n",
      "full_preprocessing_out/data/fragments/TXG_10xv2_2.FULL.fragments.tsv.gz exists, skipping\n",
      "full_preprocessing_out/data/reports/barcard/UCS_ddseq_1.FULL.tomerge.tsv\n",
      "full_preprocessing_out/data/fragments/UCS_ddseq_1.FULL.fragments.tsv does not exist, generating!\n",
      "full_preprocessing_out/data/reports/barcard/UCS_ddseq_2.FULL.tomerge.tsv\n",
      "full_preprocessing_out/data/fragments/UCS_ddseq_2.FULL.fragments.tsv does not exist, generating!\n",
      "full_preprocessing_out/data/reports/barcard/VIB_10xmultiome_1.FULL.tomerge.tsv\n",
      "full_preprocessing_out/data/fragments/VIB_10xmultiome_1.FULL.fragments.tsv.gz exists, skipping\n",
      "full_preprocessing_out/data/reports/barcard/VIB_10xmultiome_2.FULL.tomerge.tsv\n",
      "full_preprocessing_out/data/fragments/VIB_10xmultiome_2.FULL.fragments.tsv.gz exists, skipping\n",
      "full_preprocessing_out/data/reports/barcard/VIB_10xv1_1.FULL.tomerge.tsv\n",
      "full_preprocessing_out/data/fragments/VIB_10xv1_1.FULL.fragments.tsv.gz exists, skipping\n",
      "full_preprocessing_out/data/reports/barcard/VIB_10xv1_2.FULL.tomerge.tsv\n",
      "full_preprocessing_out/data/fragments/VIB_10xv1_2.FULL.fragments.tsv.gz exists, skipping\n",
      "full_preprocessing_out/data/reports/barcard/VIB_10xv2_1.FULL.tomerge.tsv\n",
      "full_preprocessing_out/data/fragments/VIB_10xv2_1.FULL.fragments.tsv.gz exists, skipping\n",
      "full_preprocessing_out/data/reports/barcard/VIB_10xv2_2.FULL.tomerge.tsv\n",
      "full_preprocessing_out/data/fragments/VIB_10xv2_2.FULL.fragments.tsv.gz exists, skipping\n",
      "full_preprocessing_out/data/reports/barcard/VIB_hydrop_11.FULL.tomerge.tsv\n",
      "full_preprocessing_out/data/fragments/VIB_hydrop_11.FULL.fragments.tsv.gz exists, skipping\n",
      "full_preprocessing_out/data/reports/barcard/VIB_hydrop_12.FULL.tomerge.tsv\n",
      "full_preprocessing_out/data/fragments/VIB_hydrop_12.FULL.fragments.tsv.gz exists, skipping\n",
      "full_preprocessing_out/data/reports/barcard/VIB_hydrop_21.FULL.tomerge.tsv\n",
      "full_preprocessing_out/data/fragments/VIB_hydrop_21.FULL.fragments.tsv.gz exists, skipping\n",
      "full_preprocessing_out/data/reports/barcard/VIB_hydrop_22.FULL.tomerge.tsv\n",
      "full_preprocessing_out/data/fragments/VIB_hydrop_22.FULL.fragments.tsv.gz exists, skipping\n"
     ]
    }
   ],
   "source": [
    "export POLARS_MAX_THREADS=8\n",
    "export OMP_NUM_THREADS=8\n",
    "\n",
    "subset=\n",
    "for file in public_preprocessing_output/data/reports/barcard/*$subset*tomerge.tsv\n",
    "do\n",
    "    echo $file\n",
    "    sample=(`basename $file`)\n",
    "    sample=${sample%.tomerge.tsv}\n",
    "    # echo $sample\n",
    "    jaccardfile=$file\n",
    "    infile=public_preprocessing_output/data/fragments/$sample.fragments.raw.tsv.gz\n",
    "    outfile=public_preprocessing_output/data/fragments/$sample.fragments.tsv\n",
    "    outfile2=$outfile.gz\n",
    "\n",
    "    if [ -f \"$outfile\" ]; then\n",
    "        echo \"$outfile exists, skipping\"\n",
    "    elif [ -f \"$outfile2\" ]; then\n",
    "        echo \"$outfile2 exists, skipping\"\n",
    "    else \n",
    "        echo \"$outfile does not exist, generating!\"\n",
    "        merge_cbs_over_jaccard_index_threshold.py -j $jaccardfile -i $infile -o $outfile &\n",
    "    fi\n",
    "done"
   ]
  },
  {
   "cell_type": "markdown",
   "id": "9a77b518",
   "metadata": {},
   "source": [
    "Then bgzip the output:"
   ]
  },
  {
   "cell_type": "code",
   "execution_count": 2,
   "id": "c35049dc",
   "metadata": {},
   "outputs": [
    {
     "name": "stdout",
     "output_type": "stream",
     "text": [
      "full_preprocessing_out/data/fragments/OHS_s3atac_1.FULL.fragments.tsv\n",
      "exists\n",
      "full_preprocessing_out/data/fragments/OHS_s3atac_2.FULL.fragments.tsv\n",
      "exists\n"
     ]
    }
   ],
   "source": [
    "module load HTSlib\n",
    "subset=\n",
    "for file in public_preprocessing_output/data/fragments/*$subset*.fragments.tsv\n",
    "do\n",
    "    echo $file\n",
    "    if [ -f \"$file.gz\" ]; then\n",
    "        echo exists\n",
    "    else\n",
    "        bgzip -@ 8 $file &\n",
    "    fi\n",
    "done"
   ]
  },
  {
   "cell_type": "markdown",
   "id": "62f5c338",
   "metadata": {},
   "source": [
    "and tabix index"
   ]
  },
  {
   "cell_type": "code",
   "execution_count": null,
   "id": "9a7b084e",
   "metadata": {},
   "outputs": [],
   "source": [
    "module load HTSlib\n",
    "subset=\n",
    "for file in public_preprocessing_output/data/fragments/*$subset*.fragments.tsv.gz\n",
    "do\n",
    "    echo $file\n",
    "    if [ -f \"$file.gz.tbi\" ]; then\n",
    "        echo exists\n",
    "    else\n",
    "        tabix -p bed $file &\n",
    "    fi\n",
    "done"
   ]
  }
 ],
 "metadata": {
  "kernelspec": {
   "display_name": "Bash",
   "language": "bash",
   "name": "bash"
  },
  "language_info": {
   "codemirror_mode": "shell",
   "file_extension": ".sh",
   "mimetype": "text/x-sh",
   "name": "bash"
  }
 },
 "nbformat": 4,
 "nbformat_minor": 5
}

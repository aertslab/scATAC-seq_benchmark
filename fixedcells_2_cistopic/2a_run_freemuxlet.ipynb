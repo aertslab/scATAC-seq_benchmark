{
 "cells": [
  {
   "cell_type": "markdown",
   "metadata": {},
   "source": [
    "We now run freemuxlet on all samples. We need freemuxlet results for the QC."
   ]
  },
  {
   "cell_type": "code",
   "execution_count": 3,
   "metadata": {},
   "outputs": [],
   "source": [
    "NXF=/dodrio/scratch/projects/starting_2022_023/software/nextflow/nextflow-21.04.3/nextflow\n",
    "VSN=../0_resources/vsn-pipelines_github/main.nf"
   ]
  },
  {
   "cell_type": "code",
   "execution_count": null,
   "metadata": {},
   "outputs": [],
   "source": [
    "$NXF config $VSN \\\n",
    "    -profile bam,tsv,popscle,vsc \\\n",
    "    > vsn_freemuxlet.config"
   ]
  },
  {
   "cell_type": "markdown",
   "metadata": {},
   "source": [
    "* change out directory to `out_fmx`\n",
    "* EXTREMELY IMPORTANT: Change the `barcode_tag = DB`! Otherwise you won't use multiplet merged cell barcodes!\n",
    "* change vcf to `vcf = '/dodrio/scratch/projects/starting_2022_023/benchmark/scatac_benchmark/0_resources/regions/1000Genomes.wgs.GRCH38.sites.minAF-0.1.freemuxlet-scATAC.vcf.gz'`\n",
    "* change tsv paths to `file_paths = 'selected_barcodes/*_bc_passing_filters_otsu.txt'`\n",
    "* change tsv suffix to `suffix = '_bc_passing_filters_otsu.txt'`\n",
    "* change bam paths to `file_paths = '../1_data_repository/full_bams/*.bam'`\n",
    "* change bam suffix to `suffix = '_____R1.bwa.out.possorted.bam'`"
   ]
  },
  {
   "cell_type": "markdown",
   "metadata": {},
   "source": [
    "I generate a config for all the hydrop samples. You can also run all samples together."
   ]
  },
  {
   "cell_type": "code",
   "execution_count": 2,
   "metadata": {},
   "outputs": [
    {
     "name": "stdout",
     "output_type": "stream",
     "text": [
      "manifest {\n",
      "   name = 'vib-singlecell-nf/vsn-pipelines'\n",
      "   description = 'A repository of pipelines for single-cell data in Nextflow DSL2'\n",
      "   homePage = 'https://github.com/vib-singlecell-nf/vsn-pipelines'\n",
      "   version = '0.27.0'\n",
      "   mainScript = 'main.nf'\n",
      "   defaultBranch = 'master'\n",
      "   nextflowVersion = '!21.04.3'\n",
      "}\n",
      "\n",
      "params {\n",
      "   global {\n",
      "      project_name = '10x_PBMC'\n",
      "      outdir = 'out'\n",
      "   }\n",
      "   misc {\n",
      "      test {\n",
      "         enabled = false\n",
      "      }\n",
      "   }\n",
      "   utils {\n",
      "      container = 'vibsinglecellnf/utils:0.4.0'\n",
      "      file_converter {\n",
      "         off = 'h5ad'\n",
      "         tagCellWithSampleId = true\n",
      "         remove10xGEMWell = false\n",
      "         useFilteredMatrix = true\n",
      "         makeVarIndexUnique = false\n",
      "      }\n",
      "      publish {\n",
      "         compressionLevel = 6\n",
      "         annotateWithBatchVariableName = false\n",
      "         mode = 'copy'\n",
      "      }\n",
      "   }\n",
      "   tools {\n",
      "      popscle {\n",
      "         container = 'vibsinglecellnf/popscle:2021-05-05-da70fc7'\n",
      "         vcf = '/path/to/vcf_file'\n",
      "         barcode_tag = 'CB'\n",
      "         freemuxlet {\n",
      "            nSamples = 2\n",
      "         }\n",
      "         demuxlet {\n",
      "            field = 'GT'\n",
      "         }\n",
      "      }\n",
      "      file_converter {\n",
      "         iff = 'bam'\n",
      "      }\n",
      "   }\n",
      "   data {\n",
      "      tsv {\n",
      "         file_paths = ''\n",
      "         suffix = '.tsv'\n",
      "      }\n",
      "      bam {\n",
      "         file_paths = ''\n",
      "         suffix = '.bam'\n",
      "         index_extension = '.bai'\n",
      "      }\n",
      "   }\n",
      "}\n",
      "\n",
      "process {\n",
      "   executor = 'local'\n",
      "   cpus = 2\n",
      "   memory = '60 GB'\n",
      "   clusterOptions = '-A cluster_account'\n",
      "   withLabel:compute_resources__default {\n",
      "      time = '1h'\n",
      "   }\n",
      "   withLabel:compute_resources__minimal {\n",
      "      cpus = 1\n",
      "      memory = '1 GB'\n",
      "   }\n",
      "   withLabel:compute_resources__mem {\n",
      "      cpus = 4\n",
      "      memory = '160 GB'\n",
      "   }\n",
      "   withLabel:compute_resources__cpu {\n",
      "      cpus = 20\n",
      "      memory = '80 GB'\n",
      "   }\n",
      "   withLabel:compute_resources__report {\n",
      "      maxForks = 2\n",
      "      cpus = 1\n",
      "      memory = '160 GB'\n",
      "   }\n",
      "   withLabel:compute_resources__24hqueue {\n",
      "      time = '24h'\n",
      "   }\n",
      "}\n",
      "\n",
      "timeline {\n",
      "   enabled = true\n",
      "   file = 'out/nextflow_reports/execution_timeline.html'\n",
      "}\n",
      "\n",
      "report {\n",
      "   enabled = true\n",
      "   file = 'out/nextflow_reports/execution_report.html'\n",
      "}\n",
      "\n",
      "trace {\n",
      "   enabled = true\n",
      "   file = 'out/nextflow_reports/execution_trace.txt'\n",
      "}\n",
      "\n",
      "dag {\n",
      "   enabled = true\n",
      "   file = 'out/nextflow_reports/pipeline_dag.svg'\n",
      "}\n",
      "\n",
      "min {\n",
      "   enabled = false\n",
      "}\n",
      "\n",
      "vsc {\n",
      "   enabled = true\n",
      "}\n",
      "\n",
      "singularity {\n",
      "   enabled = true\n",
      "   autoMounts = true\n",
      "   runOptions = '--cleanenv -H $PWD -B /lustre1,/staging,/data,${VSC_SCRATCH},${VSC_SCRATCH}/tmp:/tmp,${HOME}/.nextflow/assets/'\n",
      "   cacheDir = '/staging/leuven/res_00001/software/vsn_containers/'\n",
      "}\n"
     ]
    }
   ],
   "source": [
    "cat vsn_freemuxlet.config"
   ]
  },
  {
   "cell_type": "markdown",
   "metadata": {},
   "source": [
    "then, run the pipeline (in tmux):"
   ]
  },
  {
   "cell_type": "code",
   "execution_count": null,
   "metadata": {},
   "outputs": [],
   "source": [
    "NXF=/dodrio/scratch/projects/starting_2022_023/software/nextflow/nextflow-21.04.3/nextflow\n",
    "VSN=../0_resources/vsn-pipelines/main.nf\n",
    "$NXF -C vsn_freemuxlet.config run $VSN -entry freemuxlet"
   ]
  }
 ],
 "metadata": {
  "kernelspec": {
   "display_name": "Bash",
   "language": "bash",
   "name": "bash"
  },
  "language_info": {
   "codemirror_mode": "shell",
   "file_extension": ".sh",
   "mimetype": "text/x-sh",
   "name": "bash"
  }
 },
 "nbformat": 4,
 "nbformat_minor": 4
}

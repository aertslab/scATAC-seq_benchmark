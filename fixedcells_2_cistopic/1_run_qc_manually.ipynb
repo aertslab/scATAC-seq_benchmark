{
 "cells": [
  {
   "cell_type": "code",
   "execution_count": 1,
   "id": "6399b538",
   "metadata": {
    "execution": {
     "iopub.execute_input": "2022-11-17T14:46:26.398264Z",
     "iopub.status.busy": "2022-11-17T14:46:26.397858Z",
     "iopub.status.idle": "2022-11-17T14:46:44.813908Z",
     "shell.execute_reply": "2022-11-17T14:46:44.812387Z",
     "shell.execute_reply.started": "2022-11-17T14:46:26.398206Z"
    },
    "papermill": {
     "duration": 10.585558,
     "end_time": "2022-09-09T15:00:14.619879",
     "exception": false,
     "start_time": "2022-09-09T15:00:04.034321",
     "status": "completed"
    },
    "tags": []
   },
   "outputs": [],
   "source": [
    "import pycisTopic\n",
    "import glob\n",
    "import os\n",
    "import pybiomart as pbm\n",
    "import pandas as pd\n",
    "import pickle\n",
    "from pycisTopic.qc import *\n",
    "from IPython.display import Image, display\n",
    "import matplotlib.pyplot as plt\n",
    "import numpy as np\n",
    "import seaborn as sns\n",
    "\n",
    "import multiprocess as mp  # for kde multithreading calculation\n",
    "from multiprocess import Pool\n",
    "\n",
    "%matplotlib inline\n",
    "%load_ext lab_black"
   ]
  },
  {
   "cell_type": "markdown",
   "id": "8b355736",
   "metadata": {
    "papermill": {
     "duration": 0.004148,
     "end_time": "2022-09-09T15:00:14.630557",
     "exception": false,
     "start_time": "2022-09-09T15:00:14.626409",
     "status": "completed"
    },
    "tags": []
   },
   "source": [
    "# Download annotation"
   ]
  },
  {
   "cell_type": "code",
   "execution_count": 2,
   "id": "4b41efa1",
   "metadata": {
    "execution": {
     "iopub.execute_input": "2022-11-17T14:46:44.816453Z",
     "iopub.status.busy": "2022-11-17T14:46:44.816006Z",
     "iopub.status.idle": "2022-11-17T14:46:45.083636Z",
     "shell.execute_reply": "2022-11-17T14:46:45.081374Z",
     "shell.execute_reply.started": "2022-11-17T14:46:44.816429Z"
    },
    "papermill": {
     "duration": 0.241489,
     "end_time": "2022-09-09T15:00:14.876180",
     "exception": false,
     "start_time": "2022-09-09T15:00:14.634691",
     "status": "completed"
    },
    "tags": []
   },
   "outputs": [
    {
     "name": "stdout",
     "output_type": "stream",
     "text": [
      "/lustre1/project/stg_00090/scatac_benchmark/fixedcells_2_cistopic\n"
     ]
    }
   ],
   "source": [
    "!pwd"
   ]
  },
  {
   "cell_type": "code",
   "execution_count": 4,
   "id": "3bcf5aae",
   "metadata": {
    "execution": {
     "iopub.execute_input": "2022-11-17T14:46:57.649403Z",
     "iopub.status.busy": "2022-11-17T14:46:57.648866Z",
     "iopub.status.idle": "2022-11-17T14:46:57.657878Z",
     "shell.execute_reply": "2022-11-17T14:46:57.656733Z",
     "shell.execute_reply.started": "2022-11-17T14:46:57.649362Z"
    },
    "papermill": {
     "duration": 0.010627,
     "end_time": "2022-09-09T15:00:14.890963",
     "exception": false,
     "start_time": "2022-09-09T15:00:14.880336",
     "status": "completed"
    },
    "tags": []
   },
   "outputs": [],
   "source": [
    "wdir = \"/lustre1/project/stg_00090/scatac_benchmark/fixedcells_2_cistopic\"\n",
    "os.chdir(wdir)"
   ]
  },
  {
   "cell_type": "code",
   "execution_count": 5,
   "id": "33879f53",
   "metadata": {
    "execution": {
     "iopub.execute_input": "2022-11-17T14:46:59.444406Z",
     "iopub.status.busy": "2022-11-17T14:46:59.443714Z",
     "iopub.status.idle": "2022-11-17T14:46:59.613863Z",
     "shell.execute_reply": "2022-11-17T14:46:59.612860Z",
     "shell.execute_reply.started": "2022-11-17T14:46:59.444341Z"
    },
    "papermill": {
     "duration": 0.087595,
     "end_time": "2022-09-09T15:00:14.982537",
     "exception": false,
     "start_time": "2022-09-09T15:00:14.894942",
     "status": "completed"
    },
    "tags": []
   },
   "outputs": [
    {
     "name": "stdout",
     "output_type": "stream",
     "text": [
      "Loading cached genome annotation...\n"
     ]
    }
   ],
   "source": [
    "genome = \"hg38\"\n",
    "\n",
    "pbm_genome_name_dict = {\n",
    "    \"hg38\": \"hsapiens_gene_ensembl\",\n",
    "    \"hg37\": \"hsapiens_gene_ensembl\",\n",
    "    \"mm10\": \"mmusculus_gene_ensembl\",\n",
    "    \"dm6\": \"dmelanogaster_gene_ensembl\",\n",
    "}\n",
    "\n",
    "pbm_host_dict = {\n",
    "    \"hg38\": \"http://www.ensembl.org\",\n",
    "    \"hg37\": \"http://grch37.ensembl.org/\",\n",
    "    \"mm10\": \"http://nov2020.archive.ensembl.org/\",\n",
    "    \"dm6\": \"http://www.ensembl.org\",\n",
    "}\n",
    "\n",
    "if os.path.exists(f\"annotation.tsv\"):\n",
    "    print(f\"Loading cached genome annotation...\")\n",
    "    annotation = pd.read_csv(\"annotation.tsv\", sep=\"\\t\", header=0, index_col=0)\n",
    "else:\n",
    "    dataset = pbm.Dataset(name=pbm_genome_name_dict[genome], host=pbm_host_dict[genome])\n",
    "\n",
    "    annot = dataset.query(\n",
    "        attributes=[\n",
    "            \"chromosome_name\",\n",
    "            \"transcription_start_site\",\n",
    "            \"strand\",\n",
    "            \"external_gene_name\",\n",
    "            \"transcript_biotype\",\n",
    "        ]\n",
    "    )\n",
    "    filter = annot[\"Chromosome/scaffold name\"].str.contains(\"CHR|GL|JH|MT\")\n",
    "    annot = annot[~filter]\n",
    "    annot[\"Chromosome/scaffold name\"] = annot[\"Chromosome/scaffold name\"].str.replace(\n",
    "        r\"(\\b\\S)\", r\"chr\\1\"\n",
    "    )\n",
    "    annot.columns = [\"Chromosome\", \"Start\", \"Strand\", \"Gene\", \"Transcript_type\"]\n",
    "    annot = annot[annot.Transcript_type == \"protein_coding\"]\n",
    "    annot.to_csv(\"annotation.tsv\", sep=\"\\t\")"
   ]
  },
  {
   "cell_type": "code",
   "execution_count": 6,
   "id": "f34b87b4",
   "metadata": {
    "execution": {
     "iopub.execute_input": "2022-11-17T14:47:01.906646Z",
     "iopub.status.busy": "2022-11-17T14:47:01.905652Z",
     "iopub.status.idle": "2022-11-17T14:47:01.935280Z",
     "shell.execute_reply": "2022-11-17T14:47:01.934436Z",
     "shell.execute_reply.started": "2022-11-17T14:47:01.906579Z"
    },
    "papermill": {
     "duration": 0.02069,
     "end_time": "2022-09-09T15:00:15.007399",
     "exception": false,
     "start_time": "2022-09-09T15:00:14.986709",
     "status": "completed"
    },
    "tags": []
   },
   "outputs": [
    {
     "data": {
      "text/html": [
       "<div>\n",
       "<style scoped>\n",
       "    .dataframe tbody tr th:only-of-type {\n",
       "        vertical-align: middle;\n",
       "    }\n",
       "\n",
       "    .dataframe tbody tr th {\n",
       "        vertical-align: top;\n",
       "    }\n",
       "\n",
       "    .dataframe thead th {\n",
       "        text-align: right;\n",
       "    }\n",
       "</style>\n",
       "<table border=\"1\" class=\"dataframe\">\n",
       "  <thead>\n",
       "    <tr style=\"text-align: right;\">\n",
       "      <th></th>\n",
       "      <th>Chromosome</th>\n",
       "      <th>Start</th>\n",
       "      <th>Strand</th>\n",
       "      <th>Gene</th>\n",
       "      <th>Transcript_type</th>\n",
       "    </tr>\n",
       "  </thead>\n",
       "  <tbody>\n",
       "    <tr>\n",
       "      <th>57</th>\n",
       "      <td>chrKI270711chr.chr1</td>\n",
       "      <td>24650</td>\n",
       "      <td>-1</td>\n",
       "      <td>NaN</td>\n",
       "      <td>protein_coding</td>\n",
       "    </tr>\n",
       "    <tr>\n",
       "      <th>58</th>\n",
       "      <td>chrKI270711chr.chr1</td>\n",
       "      <td>29626</td>\n",
       "      <td>-1</td>\n",
       "      <td>NaN</td>\n",
       "      <td>protein_coding</td>\n",
       "    </tr>\n",
       "    <tr>\n",
       "      <th>628</th>\n",
       "      <td>chrKI270734chr.chr1</td>\n",
       "      <td>161852</td>\n",
       "      <td>-1</td>\n",
       "      <td>NaN</td>\n",
       "      <td>protein_coding</td>\n",
       "    </tr>\n",
       "    <tr>\n",
       "      <th>629</th>\n",
       "      <td>chrKI270734chr.chr1</td>\n",
       "      <td>161750</td>\n",
       "      <td>-1</td>\n",
       "      <td>NaN</td>\n",
       "      <td>protein_coding</td>\n",
       "    </tr>\n",
       "    <tr>\n",
       "      <th>713</th>\n",
       "      <td>chrKI270734chr.chr1</td>\n",
       "      <td>131494</td>\n",
       "      <td>1</td>\n",
       "      <td>NaN</td>\n",
       "      <td>protein_coding</td>\n",
       "    </tr>\n",
       "    <tr>\n",
       "      <th>...</th>\n",
       "      <td>...</td>\n",
       "      <td>...</td>\n",
       "      <td>...</td>\n",
       "      <td>...</td>\n",
       "      <td>...</td>\n",
       "    </tr>\n",
       "    <tr>\n",
       "      <th>242597</th>\n",
       "      <td>chr1</td>\n",
       "      <td>154257071</td>\n",
       "      <td>1</td>\n",
       "      <td>UBAP2L</td>\n",
       "      <td>protein_coding</td>\n",
       "    </tr>\n",
       "    <tr>\n",
       "      <th>242604</th>\n",
       "      <td>chr1</td>\n",
       "      <td>154272589</td>\n",
       "      <td>1</td>\n",
       "      <td>HAX1</td>\n",
       "      <td>protein_coding</td>\n",
       "    </tr>\n",
       "    <tr>\n",
       "      <th>242605</th>\n",
       "      <td>chr1</td>\n",
       "      <td>154272609</td>\n",
       "      <td>1</td>\n",
       "      <td>HAX1</td>\n",
       "      <td>protein_coding</td>\n",
       "    </tr>\n",
       "    <tr>\n",
       "      <th>242607</th>\n",
       "      <td>chr1</td>\n",
       "      <td>154272629</td>\n",
       "      <td>1</td>\n",
       "      <td>HAX1</td>\n",
       "      <td>protein_coding</td>\n",
       "    </tr>\n",
       "    <tr>\n",
       "      <th>242610</th>\n",
       "      <td>chr1</td>\n",
       "      <td>154272668</td>\n",
       "      <td>1</td>\n",
       "      <td>HAX1</td>\n",
       "      <td>protein_coding</td>\n",
       "    </tr>\n",
       "  </tbody>\n",
       "</table>\n",
       "<p>77891 rows × 5 columns</p>\n",
       "</div>"
      ],
      "text/plain": [
       "                 Chromosome      Start  Strand    Gene Transcript_type\n",
       "57      chrKI270711chr.chr1      24650      -1     NaN  protein_coding\n",
       "58      chrKI270711chr.chr1      29626      -1     NaN  protein_coding\n",
       "628     chrKI270734chr.chr1     161852      -1     NaN  protein_coding\n",
       "629     chrKI270734chr.chr1     161750      -1     NaN  protein_coding\n",
       "713     chrKI270734chr.chr1     131494       1     NaN  protein_coding\n",
       "...                     ...        ...     ...     ...             ...\n",
       "242597                 chr1  154257071       1  UBAP2L  protein_coding\n",
       "242604                 chr1  154272589       1    HAX1  protein_coding\n",
       "242605                 chr1  154272609       1    HAX1  protein_coding\n",
       "242607                 chr1  154272629       1    HAX1  protein_coding\n",
       "242610                 chr1  154272668       1    HAX1  protein_coding\n",
       "\n",
       "[77891 rows x 5 columns]"
      ]
     },
     "execution_count": 6,
     "metadata": {},
     "output_type": "execute_result"
    }
   ],
   "source": [
    "annotation"
   ]
  },
  {
   "cell_type": "code",
   "execution_count": 11,
   "id": "12be2e56",
   "metadata": {
    "execution": {
     "iopub.execute_input": "2022-11-17T14:49:25.561371Z",
     "iopub.status.busy": "2022-11-17T14:49:25.560560Z",
     "iopub.status.idle": "2022-11-17T14:49:25.572425Z",
     "shell.execute_reply": "2022-11-17T14:49:25.570511Z",
     "shell.execute_reply.started": "2022-11-17T14:49:25.561302Z"
    },
    "papermill": {
     "duration": 0.012001,
     "end_time": "2022-09-09T15:00:15.023588",
     "exception": false,
     "start_time": "2022-09-09T15:00:15.011587",
     "status": "completed"
    },
    "tags": []
   },
   "outputs": [],
   "source": [
    "fragments_list = sorted(glob.glob(\"../1_data_repository/fixedcells_fragments/*.tsv.gz\"))\n",
    "fragments_dict = {}\n",
    "for fragments_file in fragments_list:\n",
    "    sample = fragments_file.split(\"/\")[-1].split(\".fragments.tsv.gz\")[0]\n",
    "    fragments_dict[sample] = fragments_file"
   ]
  },
  {
   "cell_type": "code",
   "execution_count": 12,
   "id": "1c47d8ad",
   "metadata": {
    "execution": {
     "iopub.execute_input": "2022-11-17T14:49:26.165817Z",
     "iopub.status.busy": "2022-11-17T14:49:26.165154Z",
     "iopub.status.idle": "2022-11-17T14:49:26.175519Z",
     "shell.execute_reply": "2022-11-17T14:49:26.173824Z",
     "shell.execute_reply.started": "2022-11-17T14:49:26.165755Z"
    },
    "papermill": {
     "duration": 0.011694,
     "end_time": "2022-09-09T15:00:15.039424",
     "exception": false,
     "start_time": "2022-09-09T15:00:15.027730",
     "status": "completed"
    },
    "tags": []
   },
   "outputs": [
    {
     "data": {
      "text/plain": [
       "{'BIO_ddseq_1.FIXEDCELLS': '../1_data_repository/fixedcells_fragments/BIO_ddseq_1.FIXEDCELLS.fragments.tsv.gz',\n",
       " 'BIO_ddseq_2.FIXEDCELLS': '../1_data_repository/fixedcells_fragments/BIO_ddseq_2.FIXEDCELLS.fragments.tsv.gz',\n",
       " 'BIO_ddseq_3.FIXEDCELLS': '../1_data_repository/fixedcells_fragments/BIO_ddseq_3.FIXEDCELLS.fragments.tsv.gz',\n",
       " 'BIO_ddseq_4.FIXEDCELLS': '../1_data_repository/fixedcells_fragments/BIO_ddseq_4.FIXEDCELLS.fragments.tsv.gz',\n",
       " 'BRO_mtscatac_1.FIXEDCELLS': '../1_data_repository/fixedcells_fragments/BRO_mtscatac_1.FIXEDCELLS.fragments.tsv.gz',\n",
       " 'BRO_mtscatac_2.FIXEDCELLS': '../1_data_repository/fixedcells_fragments/BRO_mtscatac_2.FIXEDCELLS.fragments.tsv.gz',\n",
       " 'CNA_10xmultiome_1.FIXEDCELLS': '../1_data_repository/fixedcells_fragments/CNA_10xmultiome_1.FIXEDCELLS.fragments.tsv.gz',\n",
       " 'CNA_10xmultiome_2.FIXEDCELLS': '../1_data_repository/fixedcells_fragments/CNA_10xmultiome_2.FIXEDCELLS.fragments.tsv.gz',\n",
       " 'CNA_10xv11_1.FIXEDCELLS': '../1_data_repository/fixedcells_fragments/CNA_10xv11_1.FIXEDCELLS.fragments.tsv.gz',\n",
       " 'CNA_10xv11_2.FIXEDCELLS': '../1_data_repository/fixedcells_fragments/CNA_10xv11_2.FIXEDCELLS.fragments.tsv.gz',\n",
       " 'CNA_10xv11_3.FIXEDCELLS': '../1_data_repository/fixedcells_fragments/CNA_10xv11_3.FIXEDCELLS.fragments.tsv.gz',\n",
       " 'CNA_10xv11_4.FIXEDCELLS': '../1_data_repository/fixedcells_fragments/CNA_10xv11_4.FIXEDCELLS.fragments.tsv.gz',\n",
       " 'CNA_10xv11_5.FIXEDCELLS': '../1_data_repository/fixedcells_fragments/CNA_10xv11_5.FIXEDCELLS.fragments.tsv.gz',\n",
       " 'CNA_10xv2_1.FIXEDCELLS': '../1_data_repository/fixedcells_fragments/CNA_10xv2_1.FIXEDCELLS.fragments.tsv.gz',\n",
       " 'CNA_10xv2_2.FIXEDCELLS': '../1_data_repository/fixedcells_fragments/CNA_10xv2_2.FIXEDCELLS.fragments.tsv.gz',\n",
       " 'CNA_hydrop_1.FIXEDCELLS': '../1_data_repository/fixedcells_fragments/CNA_hydrop_1.FIXEDCELLS.fragments.tsv.gz',\n",
       " 'CNA_hydrop_2.FIXEDCELLS': '../1_data_repository/fixedcells_fragments/CNA_hydrop_2.FIXEDCELLS.fragments.tsv.gz',\n",
       " 'CNA_hydrop_3.FIXEDCELLS': '../1_data_repository/fixedcells_fragments/CNA_hydrop_3.FIXEDCELLS.fragments.tsv.gz',\n",
       " 'CNA_mtscatac_1.FIXEDCELLS': '../1_data_repository/fixedcells_fragments/CNA_mtscatac_1.FIXEDCELLS.fragments.tsv.gz',\n",
       " 'CNA_mtscatac_2.FIXEDCELLS': '../1_data_repository/fixedcells_fragments/CNA_mtscatac_2.FIXEDCELLS.fragments.tsv.gz',\n",
       " 'EPF_hydrop_1.FIXEDCELLS': '../1_data_repository/fixedcells_fragments/EPF_hydrop_1.FIXEDCELLS.fragments.tsv.gz',\n",
       " 'EPF_hydrop_2.FIXEDCELLS': '../1_data_repository/fixedcells_fragments/EPF_hydrop_2.FIXEDCELLS.fragments.tsv.gz',\n",
       " 'EPF_hydrop_3.FIXEDCELLS': '../1_data_repository/fixedcells_fragments/EPF_hydrop_3.FIXEDCELLS.fragments.tsv.gz',\n",
       " 'EPF_hydrop_4.FIXEDCELLS': '../1_data_repository/fixedcells_fragments/EPF_hydrop_4.FIXEDCELLS.fragments.tsv.gz',\n",
       " 'HAR_ddseq_1.FIXEDCELLS': '../1_data_repository/fixedcells_fragments/HAR_ddseq_1.FIXEDCELLS.fragments.tsv.gz',\n",
       " 'HAR_ddseq_2.FIXEDCELLS': '../1_data_repository/fixedcells_fragments/HAR_ddseq_2.FIXEDCELLS.fragments.tsv.gz',\n",
       " 'MDC_mtscatac_1.FIXEDCELLS': '../1_data_repository/fixedcells_fragments/MDC_mtscatac_1.FIXEDCELLS.fragments.tsv.gz',\n",
       " 'MDC_mtscatac_2.FIXEDCELLS': '../1_data_repository/fixedcells_fragments/MDC_mtscatac_2.FIXEDCELLS.fragments.tsv.gz',\n",
       " 'OHS_s3atac_1.FIXEDCELLS': '../1_data_repository/fixedcells_fragments/OHS_s3atac_1.FIXEDCELLS.fragments.tsv.gz',\n",
       " 'OHS_s3atac_2.FIXEDCELLS': '../1_data_repository/fixedcells_fragments/OHS_s3atac_2.FIXEDCELLS.fragments.tsv.gz',\n",
       " 'SAN_10xmultiome_1.FIXEDCELLS': '../1_data_repository/fixedcells_fragments/SAN_10xmultiome_1.FIXEDCELLS.fragments.tsv.gz',\n",
       " 'SAN_10xmultiome_2.FIXEDCELLS': '../1_data_repository/fixedcells_fragments/SAN_10xmultiome_2.FIXEDCELLS.fragments.tsv.gz',\n",
       " 'STA_10xv11_1.FIXEDCELLS': '../1_data_repository/fixedcells_fragments/STA_10xv11_1.FIXEDCELLS.fragments.tsv.gz',\n",
       " 'STA_10xv11_2.FIXEDCELLS': '../1_data_repository/fixedcells_fragments/STA_10xv11_2.FIXEDCELLS.fragments.tsv.gz',\n",
       " 'TXG_10xv11_1.FIXEDCELLS': '../1_data_repository/fixedcells_fragments/TXG_10xv11_1.FIXEDCELLS.fragments.tsv.gz',\n",
       " 'TXG_10xv2_1.FIXEDCELLS': '../1_data_repository/fixedcells_fragments/TXG_10xv2_1.FIXEDCELLS.fragments.tsv.gz',\n",
       " 'TXG_10xv2_2.FIXEDCELLS': '../1_data_repository/fixedcells_fragments/TXG_10xv2_2.FIXEDCELLS.fragments.tsv.gz',\n",
       " 'UCS_ddseq_1.FIXEDCELLS': '../1_data_repository/fixedcells_fragments/UCS_ddseq_1.FIXEDCELLS.fragments.tsv.gz',\n",
       " 'UCS_ddseq_2.FIXEDCELLS': '../1_data_repository/fixedcells_fragments/UCS_ddseq_2.FIXEDCELLS.fragments.tsv.gz',\n",
       " 'VIB_10xmultiome_1.FIXEDCELLS': '../1_data_repository/fixedcells_fragments/VIB_10xmultiome_1.FIXEDCELLS.fragments.tsv.gz',\n",
       " 'VIB_10xmultiome_2.FIXEDCELLS': '../1_data_repository/fixedcells_fragments/VIB_10xmultiome_2.FIXEDCELLS.fragments.tsv.gz',\n",
       " 'VIB_10xv1_1.FIXEDCELLS': '../1_data_repository/fixedcells_fragments/VIB_10xv1_1.FIXEDCELLS.fragments.tsv.gz',\n",
       " 'VIB_10xv1_2.FIXEDCELLS': '../1_data_repository/fixedcells_fragments/VIB_10xv1_2.FIXEDCELLS.fragments.tsv.gz',\n",
       " 'VIB_10xv2_1.FIXEDCELLS': '../1_data_repository/fixedcells_fragments/VIB_10xv2_1.FIXEDCELLS.fragments.tsv.gz',\n",
       " 'VIB_10xv2_2.FIXEDCELLS': '../1_data_repository/fixedcells_fragments/VIB_10xv2_2.FIXEDCELLS.fragments.tsv.gz',\n",
       " 'VIB_hydrop_1.FIXEDCELLS': '../1_data_repository/fixedcells_fragments/VIB_hydrop_1.FIXEDCELLS.fragments.tsv.gz',\n",
       " 'VIB_hydrop_11.FIXEDCELLS': '../1_data_repository/fixedcells_fragments/VIB_hydrop_11.FIXEDCELLS.fragments.tsv.gz',\n",
       " 'VIB_hydrop_12.FIXEDCELLS': '../1_data_repository/fixedcells_fragments/VIB_hydrop_12.FIXEDCELLS.fragments.tsv.gz',\n",
       " 'VIB_hydrop_2.FIXEDCELLS': '../1_data_repository/fixedcells_fragments/VIB_hydrop_2.FIXEDCELLS.fragments.tsv.gz',\n",
       " 'VIB_hydrop_21.FIXEDCELLS': '../1_data_repository/fixedcells_fragments/VIB_hydrop_21.FIXEDCELLS.fragments.tsv.gz',\n",
       " 'VIB_hydrop_22.FIXEDCELLS': '../1_data_repository/fixedcells_fragments/VIB_hydrop_22.FIXEDCELLS.fragments.tsv.gz'}"
      ]
     },
     "execution_count": 12,
     "metadata": {},
     "output_type": "execute_result"
    }
   ],
   "source": [
    "fragments_dict"
   ]
  },
  {
   "cell_type": "markdown",
   "id": "e4a43d72",
   "metadata": {
    "papermill": {
     "duration": 0.004197,
     "end_time": "2022-09-09T15:00:15.047894",
     "exception": false,
     "start_time": "2022-09-09T15:00:15.043697",
     "status": "completed"
    },
    "tags": []
   },
   "source": [
    "The regions we will count in. Here, I count everything in the human ENCODE SCREEN regions. You can also add a sample-specific region set, e.g. sample-specific peaks called on the sample's bams."
   ]
  },
  {
   "cell_type": "code",
   "execution_count": 10,
   "id": "5ee9be21",
   "metadata": {
    "execution": {
     "iopub.execute_input": "2022-11-17T14:48:01.256908Z",
     "iopub.status.busy": "2022-11-17T14:48:01.256099Z",
     "iopub.status.idle": "2022-11-17T14:48:01.266330Z",
     "shell.execute_reply": "2022-11-17T14:48:01.265253Z",
     "shell.execute_reply.started": "2022-11-17T14:48:01.256839Z"
    },
    "papermill": {
     "duration": 0.009458,
     "end_time": "2022-09-09T15:00:15.061562",
     "exception": false,
     "start_time": "2022-09-09T15:00:15.052104",
     "status": "completed"
    },
    "tags": []
   },
   "outputs": [],
   "source": [
    "region = \"../0_resources/regions/V2.hg38-rDHS-Unfiltered.blacklisted.bed\""
   ]
  },
  {
   "cell_type": "markdown",
   "id": "968e7b7c",
   "metadata": {
    "papermill": {
     "duration": 0.004163,
     "end_time": "2022-09-09T15:00:15.070012",
     "exception": false,
     "start_time": "2022-09-09T15:00:15.065849",
     "status": "completed"
    },
    "tags": []
   },
   "source": [
    "Now, make a sub dictionary of all samples within the fragments dict that have not been run yet (good for resuming a stopped cistopic run):"
   ]
  },
  {
   "cell_type": "code",
   "execution_count": 9,
   "id": "364b6e75",
   "metadata": {
    "papermill": {
     "duration": 0.010008,
     "end_time": "2022-09-09T15:00:15.084251",
     "exception": false,
     "start_time": "2022-09-09T15:00:15.074243",
     "status": "completed"
    },
    "tags": []
   },
   "outputs": [],
   "source": [
    "cistopic_qc_out = os.path.join(wdir, \"cistopic_qc_out\")\n",
    "if not os.path.exists(cistopic_qc_out):\n",
    "    os.makedirs(cistopic_qc_out)"
   ]
  },
  {
   "cell_type": "code",
   "execution_count": 10,
   "id": "46e4f2cc",
   "metadata": {
    "papermill": {
     "duration": 0.023925,
     "end_time": "2022-09-09T15:00:15.112591",
     "exception": false,
     "start_time": "2022-09-09T15:00:15.088666",
     "status": "completed"
    },
    "tags": []
   },
   "outputs": [
    {
     "name": "stdout",
     "output_type": "stream",
     "text": [
      "Checking if /dodrio/scratch/projects/starting_2022_023/benchmark/scatac_benchmark/fixedcells_2_cistopic/cistopic_qc_out/BIO_ddseq_1.FIXEDCELLS__metadata_bc.pkl exist...\n",
      "\tMetadata exists! Skipping...\n",
      "Checking if /dodrio/scratch/projects/starting_2022_023/benchmark/scatac_benchmark/fixedcells_2_cistopic/cistopic_qc_out/BIO_ddseq_2.FIXEDCELLS__metadata_bc.pkl exist...\n",
      "\tMetadata exists! Skipping...\n",
      "Checking if /dodrio/scratch/projects/starting_2022_023/benchmark/scatac_benchmark/fixedcells_2_cistopic/cistopic_qc_out/BIO_ddseq_3.FIXEDCELLS__metadata_bc.pkl exist...\n",
      "\tMetadata exists! Skipping...\n",
      "Checking if /dodrio/scratch/projects/starting_2022_023/benchmark/scatac_benchmark/fixedcells_2_cistopic/cistopic_qc_out/BIO_ddseq_4.FIXEDCELLS__metadata_bc.pkl exist...\n",
      "\tMetadata exists! Skipping...\n",
      "Checking if /dodrio/scratch/projects/starting_2022_023/benchmark/scatac_benchmark/fixedcells_2_cistopic/cistopic_qc_out/BRO_mtscatac_1.FIXEDCELLS__metadata_bc.pkl exist...\n",
      "\tMetadata exists! Skipping...\n",
      "Checking if /dodrio/scratch/projects/starting_2022_023/benchmark/scatac_benchmark/fixedcells_2_cistopic/cistopic_qc_out/BRO_mtscatac_2.FIXEDCELLS__metadata_bc.pkl exist...\n",
      "\tMetadata exists! Skipping...\n",
      "Checking if /dodrio/scratch/projects/starting_2022_023/benchmark/scatac_benchmark/fixedcells_2_cistopic/cistopic_qc_out/CNA_10xmultiome_1.FIXEDCELLS__metadata_bc.pkl exist...\n",
      "\tMetadata exists! Skipping...\n",
      "Checking if /dodrio/scratch/projects/starting_2022_023/benchmark/scatac_benchmark/fixedcells_2_cistopic/cistopic_qc_out/CNA_10xmultiome_2.FIXEDCELLS__metadata_bc.pkl exist...\n",
      "\tMetadata exists! Skipping...\n",
      "Checking if /dodrio/scratch/projects/starting_2022_023/benchmark/scatac_benchmark/fixedcells_2_cistopic/cistopic_qc_out/CNA_10xv11_1.FIXEDCELLS__metadata_bc.pkl exist...\n",
      "\tMetadata exists! Skipping...\n",
      "Checking if /dodrio/scratch/projects/starting_2022_023/benchmark/scatac_benchmark/fixedcells_2_cistopic/cistopic_qc_out/CNA_10xv11_2.FIXEDCELLS__metadata_bc.pkl exist...\n",
      "\tMetadata exists! Skipping...\n",
      "Checking if /dodrio/scratch/projects/starting_2022_023/benchmark/scatac_benchmark/fixedcells_2_cistopic/cistopic_qc_out/CNA_10xv11_3.FIXEDCELLS__metadata_bc.pkl exist...\n",
      "\tMetadata exists! Skipping...\n",
      "Checking if /dodrio/scratch/projects/starting_2022_023/benchmark/scatac_benchmark/fixedcells_2_cistopic/cistopic_qc_out/CNA_10xv11_4.FIXEDCELLS__metadata_bc.pkl exist...\n",
      "\tMetadata exists! Skipping...\n",
      "Checking if /dodrio/scratch/projects/starting_2022_023/benchmark/scatac_benchmark/fixedcells_2_cistopic/cistopic_qc_out/CNA_10xv11_5.FIXEDCELLS__metadata_bc.pkl exist...\n",
      "\tMetadata exists! Skipping...\n",
      "Checking if /dodrio/scratch/projects/starting_2022_023/benchmark/scatac_benchmark/fixedcells_2_cistopic/cistopic_qc_out/CNA_10xv2_1.FIXEDCELLS__metadata_bc.pkl exist...\n",
      "\tMetadata exists! Skipping...\n",
      "Checking if /dodrio/scratch/projects/starting_2022_023/benchmark/scatac_benchmark/fixedcells_2_cistopic/cistopic_qc_out/CNA_10xv2_2.FIXEDCELLS__metadata_bc.pkl exist...\n",
      "\tMetadata exists! Skipping...\n",
      "Checking if /dodrio/scratch/projects/starting_2022_023/benchmark/scatac_benchmark/fixedcells_2_cistopic/cistopic_qc_out/CNA_hydrop_1.FIXEDCELLS__metadata_bc.pkl exist...\n",
      "\tMetadata exists! Skipping...\n",
      "Checking if /dodrio/scratch/projects/starting_2022_023/benchmark/scatac_benchmark/fixedcells_2_cistopic/cistopic_qc_out/CNA_hydrop_2.FIXEDCELLS__metadata_bc.pkl exist...\n",
      "\tMetadata exists! Skipping...\n",
      "Checking if /dodrio/scratch/projects/starting_2022_023/benchmark/scatac_benchmark/fixedcells_2_cistopic/cistopic_qc_out/CNA_hydrop_3.FIXEDCELLS__metadata_bc.pkl exist...\n",
      "\tMetadata exists! Skipping...\n",
      "Checking if /dodrio/scratch/projects/starting_2022_023/benchmark/scatac_benchmark/fixedcells_2_cistopic/cistopic_qc_out/CNA_mtscatac_1.FIXEDCELLS__metadata_bc.pkl exist...\n",
      "\tMetadata exists! Skipping...\n",
      "Checking if /dodrio/scratch/projects/starting_2022_023/benchmark/scatac_benchmark/fixedcells_2_cistopic/cistopic_qc_out/CNA_mtscatac_2.FIXEDCELLS__metadata_bc.pkl exist...\n",
      "\tMetadata exists! Skipping...\n",
      "Checking if /dodrio/scratch/projects/starting_2022_023/benchmark/scatac_benchmark/fixedcells_2_cistopic/cistopic_qc_out/EPF_hydrop_1.FIXEDCELLS__metadata_bc.pkl exist...\n",
      "\tMetadata exists! Skipping...\n",
      "Checking if /dodrio/scratch/projects/starting_2022_023/benchmark/scatac_benchmark/fixedcells_2_cistopic/cistopic_qc_out/EPF_hydrop_2.FIXEDCELLS__metadata_bc.pkl exist...\n",
      "\tMetadata exists! Skipping...\n",
      "Checking if /dodrio/scratch/projects/starting_2022_023/benchmark/scatac_benchmark/fixedcells_2_cistopic/cistopic_qc_out/EPF_hydrop_3.FIXEDCELLS__metadata_bc.pkl exist...\n",
      "\tMetadata exists! Skipping...\n",
      "Checking if /dodrio/scratch/projects/starting_2022_023/benchmark/scatac_benchmark/fixedcells_2_cistopic/cistopic_qc_out/EPF_hydrop_4.FIXEDCELLS__metadata_bc.pkl exist...\n",
      "\tMetadata exists! Skipping...\n",
      "Checking if /dodrio/scratch/projects/starting_2022_023/benchmark/scatac_benchmark/fixedcells_2_cistopic/cistopic_qc_out/HAR_ddseq_1.FIXEDCELLS__metadata_bc.pkl exist...\n",
      "\tMetadata exists! Skipping...\n",
      "Checking if /dodrio/scratch/projects/starting_2022_023/benchmark/scatac_benchmark/fixedcells_2_cistopic/cistopic_qc_out/HAR_ddseq_2.FIXEDCELLS__metadata_bc.pkl exist...\n",
      "\tMetadata exists! Skipping...\n",
      "Checking if /dodrio/scratch/projects/starting_2022_023/benchmark/scatac_benchmark/fixedcells_2_cistopic/cistopic_qc_out/MDC_mtscatac_1.FIXEDCELLS__metadata_bc.pkl exist...\n",
      "\tMetadata exists! Skipping...\n",
      "Checking if /dodrio/scratch/projects/starting_2022_023/benchmark/scatac_benchmark/fixedcells_2_cistopic/cistopic_qc_out/MDC_mtscatac_2.FIXEDCELLS__metadata_bc.pkl exist...\n",
      "\tMetadata exists! Skipping...\n",
      "Checking if /dodrio/scratch/projects/starting_2022_023/benchmark/scatac_benchmark/fixedcells_2_cistopic/cistopic_qc_out/OHS_s3atac_1.FIXEDCELLS__metadata_bc.pkl exist...\n",
      "\tMetadata exists! Skipping...\n",
      "Checking if /dodrio/scratch/projects/starting_2022_023/benchmark/scatac_benchmark/fixedcells_2_cistopic/cistopic_qc_out/OHS_s3atac_2.FIXEDCELLS__metadata_bc.pkl exist...\n",
      "\tMetadata exists! Skipping...\n",
      "Checking if /dodrio/scratch/projects/starting_2022_023/benchmark/scatac_benchmark/fixedcells_2_cistopic/cistopic_qc_out/SAN_10xmultiome_1.FIXEDCELLS__metadata_bc.pkl exist...\n",
      "\tMetadata exists! Skipping...\n",
      "Checking if /dodrio/scratch/projects/starting_2022_023/benchmark/scatac_benchmark/fixedcells_2_cistopic/cistopic_qc_out/SAN_10xmultiome_2.FIXEDCELLS__metadata_bc.pkl exist...\n",
      "\tMetadata exists! Skipping...\n",
      "Checking if /dodrio/scratch/projects/starting_2022_023/benchmark/scatac_benchmark/fixedcells_2_cistopic/cistopic_qc_out/STA_10xv11_1.FIXEDCELLS__metadata_bc.pkl exist...\n",
      "\tMetadata exists! Skipping...\n",
      "Checking if /dodrio/scratch/projects/starting_2022_023/benchmark/scatac_benchmark/fixedcells_2_cistopic/cistopic_qc_out/STA_10xv11_2.FIXEDCELLS__metadata_bc.pkl exist...\n",
      "\tMetadata exists! Skipping...\n",
      "Checking if /dodrio/scratch/projects/starting_2022_023/benchmark/scatac_benchmark/fixedcells_2_cistopic/cistopic_qc_out/TXG_10xv11_1.FIXEDCELLS__metadata_bc.pkl exist...\n",
      "\tMetadata exists! Skipping...\n",
      "Checking if /dodrio/scratch/projects/starting_2022_023/benchmark/scatac_benchmark/fixedcells_2_cistopic/cistopic_qc_out/TXG_10xv2_1.FIXEDCELLS__metadata_bc.pkl exist...\n",
      "\tMetadata exists! Skipping...\n",
      "Checking if /dodrio/scratch/projects/starting_2022_023/benchmark/scatac_benchmark/fixedcells_2_cistopic/cistopic_qc_out/TXG_10xv2_2.FIXEDCELLS__metadata_bc.pkl exist...\n",
      "\tMetadata exists! Skipping...\n",
      "Checking if /dodrio/scratch/projects/starting_2022_023/benchmark/scatac_benchmark/fixedcells_2_cistopic/cistopic_qc_out/UCS_ddseq_1.FIXEDCELLS__metadata_bc.pkl exist...\n",
      "\tMetadata exists! Skipping...\n",
      "Checking if /dodrio/scratch/projects/starting_2022_023/benchmark/scatac_benchmark/fixedcells_2_cistopic/cistopic_qc_out/UCS_ddseq_2.FIXEDCELLS__metadata_bc.pkl exist...\n",
      "\tMetadata exists! Skipping...\n",
      "Checking if /dodrio/scratch/projects/starting_2022_023/benchmark/scatac_benchmark/fixedcells_2_cistopic/cistopic_qc_out/VIB_10xmultiome_1.FIXEDCELLS__metadata_bc.pkl exist...\n",
      "\tMetadata exists! Skipping...\n",
      "Checking if /dodrio/scratch/projects/starting_2022_023/benchmark/scatac_benchmark/fixedcells_2_cistopic/cistopic_qc_out/VIB_10xmultiome_2.FIXEDCELLS__metadata_bc.pkl exist...\n",
      "\tMetadata exists! Skipping...\n",
      "Checking if /dodrio/scratch/projects/starting_2022_023/benchmark/scatac_benchmark/fixedcells_2_cistopic/cistopic_qc_out/VIB_10xv1_1.FIXEDCELLS__metadata_bc.pkl exist...\n",
      "\tMetadata exists! Skipping...\n",
      "Checking if /dodrio/scratch/projects/starting_2022_023/benchmark/scatac_benchmark/fixedcells_2_cistopic/cistopic_qc_out/VIB_10xv1_2.FIXEDCELLS__metadata_bc.pkl exist...\n",
      "\tMetadata exists! Skipping...\n",
      "Checking if /dodrio/scratch/projects/starting_2022_023/benchmark/scatac_benchmark/fixedcells_2_cistopic/cistopic_qc_out/VIB_10xv2_1.FIXEDCELLS__metadata_bc.pkl exist...\n",
      "\tMetadata exists! Skipping...\n",
      "Checking if /dodrio/scratch/projects/starting_2022_023/benchmark/scatac_benchmark/fixedcells_2_cistopic/cistopic_qc_out/VIB_10xv2_2.FIXEDCELLS__metadata_bc.pkl exist...\n",
      "\tMetadata exists! Skipping...\n",
      "Checking if /dodrio/scratch/projects/starting_2022_023/benchmark/scatac_benchmark/fixedcells_2_cistopic/cistopic_qc_out/VIB_hydrop_1.FIXEDCELLS__metadata_bc.pkl exist...\n",
      "\tMetadata exists! Skipping...\n",
      "Checking if /dodrio/scratch/projects/starting_2022_023/benchmark/scatac_benchmark/fixedcells_2_cistopic/cistopic_qc_out/VIB_hydrop_11.FIXEDCELLS__metadata_bc.pkl exist...\n",
      "\tMetadata exists! Skipping...\n",
      "Checking if /dodrio/scratch/projects/starting_2022_023/benchmark/scatac_benchmark/fixedcells_2_cistopic/cistopic_qc_out/VIB_hydrop_12.FIXEDCELLS__metadata_bc.pkl exist...\n",
      "\tMetadata exists! Skipping...\n",
      "Checking if /dodrio/scratch/projects/starting_2022_023/benchmark/scatac_benchmark/fixedcells_2_cistopic/cistopic_qc_out/VIB_hydrop_2.FIXEDCELLS__metadata_bc.pkl exist...\n",
      "\tMetadata exists! Skipping...\n",
      "Checking if /dodrio/scratch/projects/starting_2022_023/benchmark/scatac_benchmark/fixedcells_2_cistopic/cistopic_qc_out/VIB_hydrop_21.FIXEDCELLS__metadata_bc.pkl exist...\n",
      "\tMetadata exists! Skipping...\n",
      "Checking if /dodrio/scratch/projects/starting_2022_023/benchmark/scatac_benchmark/fixedcells_2_cistopic/cistopic_qc_out/VIB_hydrop_22.FIXEDCELLS__metadata_bc.pkl exist...\n",
      "\tMetadata exists! Skipping...\n"
     ]
    }
   ],
   "source": [
    "fragments_sub_dict = {}\n",
    "regions_sub_dict = {}\n",
    "for sample in fragments_dict:\n",
    "    metadata_file = os.path.join(cistopic_qc_out, sample + \"__metadata_bc.pkl\")\n",
    "    print(f\"Checking if {metadata_file} exist...\")\n",
    "    if os.path.exists(metadata_file):\n",
    "        print(\"\\tMetadata exists! Skipping...\")\n",
    "    else:\n",
    "        fragments_sub_dict[sample] = fragments_dict[sample]\n",
    "        print(\"\\tMetadata does not exist, adding to subdict to generate\")\n",
    "        regions_sub_dict = {x: region for x in sorted(fragments_sub_dict.keys())}"
   ]
  },
  {
   "cell_type": "code",
   "execution_count": 11,
   "id": "cc7dd29b",
   "metadata": {
    "papermill": {
     "duration": 0.009346,
     "end_time": "2022-09-09T15:00:15.126626",
     "exception": false,
     "start_time": "2022-09-09T15:00:15.117280",
     "status": "completed"
    },
    "tags": []
   },
   "outputs": [],
   "source": [
    "ray.shutdown()"
   ]
  },
  {
   "cell_type": "code",
   "execution_count": 12,
   "id": "a7b0f1e0",
   "metadata": {
    "papermill": {
     "duration": 821.396907,
     "end_time": "2022-09-09T15:13:56.528092",
     "exception": false,
     "start_time": "2022-09-09T15:00:15.131185",
     "status": "completed"
    },
    "tags": []
   },
   "outputs": [
    {
     "name": "stdout",
     "output_type": "stream",
     "text": [
      "All samples already processed.\n"
     ]
    }
   ],
   "source": [
    "n_cores = 16\n",
    "if fragments_sub_dict != {}:\n",
    "    samples_sub = list(fragments_sub_dict.keys())\n",
    "    blocks = [samples_sub[i : i + n_cores] for i in range(0, len(samples_sub), n_cores)]\n",
    "    for samples_torun_in_block in blocks:\n",
    "        fragments_sub_dict_block = {\n",
    "            key: fragments_sub_dict[key] for key in samples_torun_in_block\n",
    "        }\n",
    "        regions_sub_dict_block = {\n",
    "            key: regions_sub_dict[key] for key in samples_torun_in_block\n",
    "        }\n",
    "\n",
    "        metadata_bc_dict, profile_data_dict = compute_qc_stats(\n",
    "            fragments_dict=fragments_sub_dict_block,\n",
    "            tss_annotation=annotation,\n",
    "            stats=[\n",
    "                \"barcode_rank_plot\",\n",
    "                \"duplicate_rate\",\n",
    "                \"insert_size_distribution\",\n",
    "                \"profile_tss\",\n",
    "                \"frip\",\n",
    "            ],\n",
    "            label_list=None,\n",
    "            path_to_regions=regions_sub_dict_block,\n",
    "            n_cpu=n_cores,\n",
    "            valid_bc=None,\n",
    "            n_frag=10,\n",
    "            n_bc=None,\n",
    "            tss_flank_window=2000,\n",
    "            tss_window=50,\n",
    "            tss_minimum_signal_window=100,\n",
    "            tss_rolling_window=10,\n",
    "            # min_norm=0.2,\n",
    "            remove_duplicates=True,\n",
    "        )\n",
    "\n",
    "        ray.shutdown()\n",
    "        print(f\"Dumping files in {cistopic_qc_out}...\")\n",
    "        for sample in sorted(metadata_bc_dict.keys()):\n",
    "            metadata_bc_dict[sample][\"sample_id\"] = sample\n",
    "            metadata_bc_dict[sample].index = [\n",
    "                x + \"___\" + sample for x in list(metadata_bc_dict[sample].index)\n",
    "            ]\n",
    "            with open(\n",
    "                os.path.join(cistopic_qc_out, f\"{sample}__metadata_bc.pkl\"), \"wb\"\n",
    "            ) as f:\n",
    "                pickle.dump(metadata_bc_dict[sample], f, protocol=4)\n",
    "\n",
    "            with open(\n",
    "                os.path.join(cistopic_qc_out, f\"{sample}__profile_data.pkl\"), \"wb\"\n",
    "            ) as f:\n",
    "                pickle.dump(profile_data_dict[sample], f, protocol=4)\n",
    "else:\n",
    "    print(\"All samples already processed.\")"
   ]
  },
  {
   "cell_type": "markdown",
   "id": "78e8414b",
   "metadata": {
    "papermill": {
     "duration": 0.007405,
     "end_time": "2022-09-09T15:13:56.594689",
     "exception": false,
     "start_time": "2022-09-09T15:13:56.587284",
     "status": "completed"
    },
    "tags": []
   },
   "source": [
    "# Plot"
   ]
  },
  {
   "cell_type": "markdown",
   "id": "82529160",
   "metadata": {
    "papermill": {
     "duration": 0.005781,
     "end_time": "2022-09-09T15:13:56.606613",
     "exception": false,
     "start_time": "2022-09-09T15:13:56.600832",
     "status": "completed"
    },
    "tags": []
   },
   "source": [
    "Here, Otsu thresholding is used to find the right threshold for minimum fragments and minimum TSS enrichment. ddseq samples have a significantly higher noise floor than the other samples when it comes to fragment distribution. Therefore, the otsu algorithm is performed on all barcodes with a minimum of 300 fragments for the ddseq samples, and a minimum of 100 fragments for all the other samples. I tried to perform this filtering completely independent of sample/technique (e.g. using gaussian mixture modeling, Jenks natural breaks, or multiple step Otsu thresholding) but found that no solution worked perfectly for all samples."
   ]
  },
  {
   "cell_type": "markdown",
   "id": "4030480b",
   "metadata": {
    "papermill": {
     "duration": 0.005819,
     "end_time": "2022-09-09T15:13:56.618268",
     "exception": false,
     "start_time": "2022-09-09T15:13:56.612449",
     "status": "completed"
    },
    "tags": []
   },
   "source": [
    "This is regulated by the code below in qc_plots.py:\n",
    "```\n",
    "min_otsu_frags_dict = {}\n",
    "for fragments_file in fragments_list:\n",
    "    sample = fragments_file.split(\"/\")[-1].split(\".\")[0]\n",
    "    tech = sample.split('_')[1]\n",
    "    if tech == \"ddseq\":\n",
    "        if sample == \"BIO_ddseq_1\":\n",
    "            min_otsu_frags_dict[sample] = 600\n",
    "        else:\n",
    "            min_otsu_frags_dict[sample] = 300\n",
    "    elif tech == \"hydrop\":\n",
    "        min_otsu_frags_dict[sample] = 300\n",
    "    else:\n",
    "        min_otsu_frags_dict[sample] = 100\n",
    "```"
   ]
  },
  {
   "cell_type": "code",
   "execution_count": 14,
   "id": "a1184183",
   "metadata": {
    "execution": {
     "iopub.execute_input": "2022-11-17T15:01:15.937085Z",
     "iopub.status.busy": "2022-11-17T15:01:15.936278Z",
     "iopub.status.idle": "2022-11-17T15:01:16.120653Z",
     "shell.execute_reply": "2022-11-17T15:01:16.117896Z",
     "shell.execute_reply.started": "2022-11-17T15:01:15.937016Z"
    },
    "papermill": {
     "duration": 0.255246,
     "end_time": "2022-09-09T15:13:56.879283",
     "exception": false,
     "start_time": "2022-09-09T15:13:56.624037",
     "status": "completed"
    },
    "tags": []
   },
   "outputs": [
    {
     "name": "stdout",
     "output_type": "stream",
     "text": [
      "import kde\n",
      "import pycisTopic\n",
      "import glob\n",
      "import os\n",
      "import pandas as pd\n",
      "import pickle\n",
      "import matplotlib.pyplot as plt\n",
      "import numpy as np\n",
      "import seaborn as sns\n",
      "import multiprocess as mp\n",
      "from multiprocess import Pool\n",
      "import pprint as pp\n",
      "\n",
      "def histogram(array, nbins=100):\n",
      "    \"\"\"\n",
      "    Draw histogram from distribution and identify centers.\n",
      "    Parameters\n",
      "    ---------\n",
      "    array: `class::np.array`\n",
      "            Scores distribution\n",
      "    nbins: int\n",
      "            Number of bins to use in the histogram\n",
      "    Return\n",
      "    ---------\n",
      "    float\n",
      "            Histogram values and bin centers.\n",
      "    \"\"\"\n",
      "    array = array.ravel().flatten()\n",
      "    hist, bin_edges = np.histogram(array, bins=nbins, range=None)\n",
      "    bin_centers = (bin_edges[:-1] + bin_edges[1:]) / 2.0\n",
      "    return hist, bin_centers\n",
      "\n",
      "\n",
      "def threshold_otsu(array, nbins=100, min_value=100):\n",
      "    \"\"\"\n",
      "    Apply Otsu threshold on topic-region distributions [Otsu, 1979].\n",
      "    Parameters\n",
      "    ---------\n",
      "    array: `class::np.array`\n",
      "            Array containing the region values for the topic to be binarized.\n",
      "    nbins: int\n",
      "            Number of bins to use in the binarization histogram\n",
      "    Return\n",
      "    ---------\n",
      "    float\n",
      "            Binarization threshold.\n",
      "    Reference\n",
      "    ---------\n",
      "    Otsu, N., 1979. A threshold selection method from gray-level histograms. IEEE transactions on systems, man, and\n",
      "    cybernetics, 9(1), pp.62-66.\n",
      "    \"\"\"\n",
      "    array = array[(array >= min_value)]\n",
      "    hist, bin_centers = histogram(array, nbins)\n",
      "    hist = hist.astype(float)\n",
      "    # Class probabilities for all possible thresholds\n",
      "    weight1 = np.cumsum(hist)\n",
      "    weight2 = np.cumsum(hist[::-1])[::-1]\n",
      "    # Class means for all possible thresholds\n",
      "    mean1 = np.cumsum(hist * bin_centers) / weight1\n",
      "    mean2 = (np.cumsum((hist * bin_centers)[::-1]) / weight2[::-1])[::-1]\n",
      "    # Clip ends to align class 1 and class 2 variables:\n",
      "    # The last value of ``weight1``/``mean1`` should pair with zero values in\n",
      "    # ``weight2``/``mean2``, which do not exist.\n",
      "    variance12 = weight1[:-1] * weight2[1:] * (mean1[:-1] - mean2[1:]) ** 2\n",
      "    idx = np.argmax(variance12)\n",
      "    threshold = bin_centers[:-1][idx]\n",
      "    return threshold\n",
      "\n",
      "\n",
      "# def calc_kde(xy):\n",
      "#     return gaussian_kde(xy)(xy)\n",
      "\n",
      "\n",
      "def plot_frag_qc(\n",
      "    x,\n",
      "    y,\n",
      "    ax,\n",
      "    x_thr_min=None,\n",
      "    x_thr_max=None,\n",
      "    y_thr_min=None,\n",
      "    y_thr_max=None,\n",
      "    ylab=None,\n",
      "    xlab=\"Number of (unique) fragments\",\n",
      "    cmap=\"viridis\",\n",
      "    density_overlay=False,\n",
      "    s=10,\n",
      "    marker=\"+\",\n",
      "    c=\"#343434\",\n",
      "    xlim=None,\n",
      "    ylim=None,\n",
      "    **kwargs\n",
      "):\n",
      "    from scipy.stats import gaussian_kde\n",
      "\n",
      "    assert all(x.index == y.index)\n",
      "    barcodes = x.index.values\n",
      "\n",
      "    if density_overlay:\n",
      "        cores = 8\n",
      "\n",
      "        x_log = np.log(x)\n",
      "\n",
      "        # Split input array for KDE [log(x), y] array in\n",
      "        # equaly spaced parts (start_offset + n * nbr_cores).\n",
      "        kde_parts = [np.vstack([x_log[i::cores], y[i::cores]]) for i in range(cores)]\n",
      "\n",
      "        # Get nultiprocess context object to spawn processes.\n",
      "        # mp_ctx = mp.get_context(\"spawn\")\n",
      "\n",
      "        # Calculate KDE in parallel.\n",
      "        with Pool(processes=cores) as pool:\n",
      "            results = pool.map(kde.calc_kde, kde_parts)\n",
      "\n",
      "        z = np.concatenate(results)\n",
      "\n",
      "        # now order x and y in the same way that z was ordered, otherwise random z value is assigned to barcode:\n",
      "        x_ordered = np.concatenate([x[i::cores] for i in range(cores)])\n",
      "        y_ordered = np.concatenate([y[i::cores] for i in range(cores)])\n",
      "\n",
      "        idx = (\n",
      "            z.argsort()\n",
      "        )  # order based on z value so that highest value is plotted on top, and not hidden by lower values\n",
      "        x, y, z, barcodes = x_ordered[idx], y_ordered[idx], z[idx], barcodes[idx]\n",
      "    else:\n",
      "        z = c\n",
      "\n",
      "    sp = ax.scatter(x, y, c=z, s=s, edgecolors=None, marker=marker, cmap=cmap, **kwargs)\n",
      "    if ylim is not None:\n",
      "        ax.set_ylim(ylim[0], ylim[1])\n",
      "    if xlim is not None:\n",
      "        ax.set_xlim(xlim[0], xlim[1])\n",
      "\n",
      "    # Start with keeping all barcodes.\n",
      "    barcodes_to_keep = np.full(x.shape[0], True)\n",
      "\n",
      "    # Filter barcodes out if needed based on thresholds:\n",
      "    if x_thr_min is not None:\n",
      "        ax.axvline(x=x_thr_min, color=\"r\", linestyle=\"--\")\n",
      "\n",
      "    if x_thr_max is not None:\n",
      "        ax.axvline(x=x_thr_max, color=\"r\", linestyle=\"--\")\n",
      "\n",
      "    if y_thr_min is not None:\n",
      "        ax.axhline(y=y_thr_min, color=\"r\", linestyle=\"--\")\n",
      "\n",
      "    if y_thr_max is not None:\n",
      "        ax.axhline(y=y_thr_max, color=\"r\", linestyle=\"--\")\n",
      "\n",
      "    ax.set_xscale(\"log\")\n",
      "    ax.set_xmargin(0.01)\n",
      "    ax.set_ymargin(0.01)\n",
      "    ax.set_xlabel(xlab, fontsize=10)\n",
      "    ax.set_ylabel(ylab, fontsize=10)\n",
      "\n",
      "def plot_qc(\n",
      "    sample,\n",
      "    min_dict,\n",
      "    max_dict,\n",
      "    metadata_bc_df,\n",
      "    include_kde=False,\n",
      "    detailed_title=True,\n",
      "    s=4,\n",
      "    min_x_val=100,\n",
      "    min_y_val=1\n",
      "):\n",
      "    fig, (ax1, ax2, ax3) = plt.subplots(1, 3, figsize=(12, 4), dpi=150)\n",
      "\n",
      "    # calculate thresholds using a double otsu strategy:\n",
      "    # first we calculate an otsu threshold using a minimum of 10 fragments\n",
      "    # then, this otsu threshold is used as the minimum for the second iteration\n",
      "\n",
      "    x_arr = np.log10(metadata_bc_df[\"Unique_nr_frag\"])\n",
      "    x_threshold_log = threshold_otsu(x_arr, nbins=5000, min_value=np.log10(min_x_val))\n",
      "    x_threshold = 10**x_threshold_log\n",
      "\n",
      "    y_arr = metadata_bc_df[\"TSS_enrichment\"]\n",
      "    y_threshold = threshold_otsu(y_arr, nbins=5000, min_value=min_y_val)\n",
      "\n",
      "    # calculate cells passing filter\n",
      "    metadata_bc_df_passing_filters = metadata_bc_df.loc[\n",
      "        (metadata_bc_df.Unique_nr_frag > x_threshold)\n",
      "        & (metadata_bc_df.TSS_enrichment > y_threshold)\n",
      "    ]\n",
      "    bc_passing_filters = metadata_bc_df_passing_filters.index\n",
      "\n",
      "    # plot everything\n",
      "    plot_frag_qc(\n",
      "        x=metadata_bc_df[\"Unique_nr_frag\"],\n",
      "        y=metadata_bc_df[\"TSS_enrichment\"],\n",
      "        ylab=\"TSS Enrichment\",\n",
      "        s=s,\n",
      "        x_thr_min=x_threshold,\n",
      "        y_thr_min=y_threshold,\n",
      "        xlim=[10, max_dict[\"Unique_nr_frag\"]],\n",
      "        ylim=[0, max_dict[\"TSS_enrichment\"]],\n",
      "        density_overlay=include_kde,\n",
      "        ax=ax1,\n",
      "    )\n",
      "    plot_frag_qc(\n",
      "        x=metadata_bc_df[\"Unique_nr_frag\"],\n",
      "        y=metadata_bc_df[\"FRIP\"],\n",
      "        x_thr_min=x_threshold,\n",
      "        ylab=\"FRIP\",\n",
      "        s=s,\n",
      "        xlim=[10, max_dict[\"Unique_nr_frag\"]],\n",
      "        ylim=[0, 1],\n",
      "        density_overlay=include_kde,\n",
      "        ax=ax2,\n",
      "    )\n",
      "    plot_frag_qc(\n",
      "        x=metadata_bc_df[\"Unique_nr_frag\"],\n",
      "        y=metadata_bc_df[\"Dupl_rate\"],\n",
      "        x_thr_min=x_threshold,\n",
      "        ylab=\"Duplicate rate per cell\",\n",
      "        s=s,\n",
      "        xlim=[10, max_dict[\"Unique_nr_frag\"]],\n",
      "        ylim=[0, 1],\n",
      "        density_overlay=include_kde,\n",
      "        ax=ax3,\n",
      "    )\n",
      "\n",
      "    if detailed_title:\n",
      "        med_nf = round(\n",
      "            metadata_bc_df.loc[bc_passing_filters, \"Unique_nr_frag\"].median(), 2\n",
      "        )\n",
      "        med_tss = round(\n",
      "            metadata_bc_df.loc[bc_passing_filters, \"TSS_enrichment\"].median(), 2\n",
      "        )\n",
      "        med_frip = round(metadata_bc_df.loc[bc_passing_filters, \"FRIP\"].median(), 2)\n",
      "        title = f\"{sample}: Kept {len(bc_passing_filters)} cells using Otsu filtering. Median Unique Fragments: {med_nf:.0f}. Median TSS Enrichment: {med_tss:.2f}. Median FRIP: {med_frip:.2f}\\nUsed a minimum of {x_threshold:.2f} fragments and TSS enrichment of {y_threshold:.2f})\"\n",
      "    else:\n",
      "        title = sample\n",
      "\n",
      "    fig.suptitle(title, x=0.5, y=0.95, fontsize=10)\n",
      "    return bc_passing_filters, fig\n",
      "\n",
      "\n",
      "###################\n",
      "# Run the loop here\n",
      "###################\n",
      "\n",
      "metadata_bc_pkl_list = sorted(glob.glob(\"cistopic_qc_out/*metadata_bc.pkl\"))\n",
      "metadata_bc_pkl_path_dict = {}\n",
      "for metadata_bc_pkl_path in metadata_bc_pkl_list:\n",
      "    sample = metadata_bc_pkl_path.split(\"/\")[-1].split(\"__metadata_bc.pkl\")[0]\n",
      "    metadata_bc_pkl_path_dict[sample] = metadata_bc_pkl_path\n",
      "\n",
      "# calculate global maxima to make nice equal plots:\n",
      "metadata_bc_df_all = pd.DataFrame()\n",
      "for sample in metadata_bc_pkl_path_dict.keys():\n",
      "    with open(metadata_bc_pkl_path_dict[sample], \"rb\") as fh:\n",
      "        metadata_bc_df = pickle.load(fh)\n",
      "        metadata_bc_df_all = pd.concat([metadata_bc_df_all, metadata_bc_df])\n",
      "        print(f\"added {sample} metadata_bc_df\")\n",
      "\n",
      "max_dict = {}\n",
      "min_dict = {}\n",
      "for stat in metadata_bc_df_all.columns:\n",
      "    max_dict[stat] = metadata_bc_df_all[stat].max()\n",
      "    min_dict[stat] = metadata_bc_df_all[stat].min()\n",
      "\n",
      "pp.pprint(min_dict)\n",
      "pp.pprint(max_dict)\n",
      "\n",
      "standard_min_x_val = 100\n",
      "standard_min_y_val = 1\n",
      "min_otsu_frags_dict = {}\n",
      "min_otsu_tss_dict = {}\n",
      "for metadata_bc_pkl_path in sorted(metadata_bc_pkl_path_dict.keys()):\n",
      "    sample = metadata_bc_pkl_path.split(\"/\")[-1].split(\"__metadata_bc.pkl\")[0]\n",
      "    tech = sample.split('_')[1]\n",
      "    if tech == \"ddseq\":\n",
      "        if \"BIO_ddseq_1.FULL\" in sample:\n",
      "            min_otsu_frags_dict[sample] = 600\n",
      "        else:\n",
      "            min_otsu_frags_dict[sample] = 300\n",
      "    elif tech == \"hydrop\":\n",
      "        min_otsu_frags_dict[sample] = 300\n",
      "    else:\n",
      "        min_otsu_frags_dict[sample] = standard_min_x_val\n",
      "\n",
      "    if tech == \"s3atac\":\n",
      "        min_otsu_tss_dict[sample] = 0\n",
      "    else:\n",
      "        min_otsu_tss_dict[sample] = standard_min_y_val\n",
      "\n",
      "pp.pprint(min_otsu_frags_dict)\n",
      "\n",
      "for sample in metadata_bc_pkl_path_dict.keys():\n",
      "    pkl_path = f\"selected_barcodes/{sample}_bc_passing_filters_otsu.pkl\"\n",
      "    if os.path.exists(pkl_path):\n",
      "        print(f\"{pkl_path} bc passing filters exists, skipping...\")\n",
      "    else:\n",
      "        print(f\"{pkl_path} bc passing filters does not exist yet, generating...\")\n",
      "        print(f\"\\tLoading {metadata_bc_pkl_path_dict[sample]}\")\n",
      "        with open(metadata_bc_pkl_path_dict[sample], \"rb\") as fh:\n",
      "            metadata_bc_df = pickle.load(fh)\n",
      "\n",
      "        print(f\"\\tFiltering cells and generating QC plots.\")\n",
      "        if not sample in min_otsu_frags_dict.keys():\n",
      "            print(f\"\\t{sample} not in minimum dict! Using standard value of {standard_min_x_val}\")\n",
      "            min_x_val = standard_min_x_val\n",
      "            min_y_val = standard_min_y_val\n",
      "        else:\n",
      "            min_x_val = min_otsu_frags_dict[sample]\n",
      "            min_y_val = min_otsu_tss_dict[sample]\n",
      "\n",
      "        bc_passing_filters, fig = plot_qc(sample=sample, min_dict=min_dict, max_dict=max_dict, metadata_bc_df=metadata_bc_df, include_kde=kde, min_x_val=min_x_val, min_y_val=min_y_val)\n",
      "\n",
      "        plt.tight_layout()\n",
      "        plt.savefig(f\"plots_qc/{sample}_qc_otsu.png\", dpi=300, facecolor=\"white\")\n",
      "        plt.show()\n",
      "        plt.close()\n",
      "\n",
      "        print(f\"\\tSaving...\")\n",
      "        with open(\n",
      "            f\"selected_barcodes/{sample}_bc_passing_filters_otsu.pkl\", \"wb\"\n",
      "        ) as fh:\n",
      "            pickle.dump(bc_passing_filters, fh)\n",
      "        fh.close()\n",
      "\n",
      "        fh = open(f\"selected_barcodes/{sample}_bc_passing_filters_otsu.txt\", \"w\")\n",
      "        for bc in list(bc_passing_filters):\n",
      "            fh.write(bc + \"\\n\")\n",
      "        fh.close()\n",
      "\n",
      "        metadata_bc_df.loc[bc_passing_filters].to_csv(f'selected_barcodes/{sample}_metadata_bc_df.tsv', sep='\\t')\n"
     ]
    }
   ],
   "source": [
    "!cat ../0_resources/scripts/qc_plots.py"
   ]
  },
  {
   "cell_type": "markdown",
   "id": "69c4d089",
   "metadata": {
    "execution": {
     "iopub.execute_input": "2022-07-15T09:42:06.802579Z",
     "iopub.status.busy": "2022-07-15T09:42:06.801860Z",
     "iopub.status.idle": "2022-07-15T09:42:06.814527Z",
     "shell.execute_reply": "2022-07-15T09:42:06.813708Z",
     "shell.execute_reply.started": "2022-07-15T09:42:06.802476Z"
    },
    "papermill": {
     "duration": 0.006148,
     "end_time": "2022-09-09T15:13:56.892331",
     "exception": false,
     "start_time": "2022-09-09T15:13:56.886183",
     "status": "completed"
    },
    "tags": []
   },
   "source": [
    "  \n",
    "Since multiprocessing does not work with jupyter notebooks, run the following code in terminal:"
   ]
  },
  {
   "cell_type": "markdown",
   "id": "fb7549fe",
   "metadata": {},
   "source": [
    "```\n",
    "mkdir plots_qc\n",
    "mkdir selected_barcodes\n",
    "SIF=../0_resources/cistopic_image/20220722_pycistopic.sif\n",
    "singularity exec \\\n",
    "    --cleanenv \\\n",
    "    -H $PWD:/home \\\n",
    "    $SIF \\\n",
    "    python ../0_resources/scripts/qc_plots.py\n",
    "```"
   ]
  },
  {
   "cell_type": "markdown",
   "id": "f9e05f67",
   "metadata": {
    "papermill": {
     "duration": 0.006075,
     "end_time": "2022-09-09T15:13:57.143390",
     "exception": false,
     "start_time": "2022-09-09T15:13:57.137315",
     "status": "completed"
    },
    "tags": []
   },
   "source": [
    "And then open the plots"
   ]
  },
  {
   "cell_type": "code",
   "execution_count": null,
   "id": "91019679",
   "metadata": {
    "papermill": {
     "duration": 3.781391,
     "end_time": "2022-09-09T15:14:00.931864",
     "exception": false,
     "start_time": "2022-09-09T15:13:57.150473",
     "status": "completed"
    },
    "tags": []
   },
   "outputs": [],
   "source": [
    "metadata_bc_pkl_list = sorted(glob.glob(\"cistopic_qc_out/*metadata_bc.pkl\"))\n",
    "metadata_bc_pkl_path_dict = {}\n",
    "for metadata_bc_pkl_path in metadata_bc_pkl_list:\n",
    "    sample = metadata_bc_pkl_path.split(\"/\")[-1].split(\"__metadata_bc.pkl\")[0]\n",
    "    metadata_bc_pkl_path_dict[sample] = metadata_bc_pkl_path\n",
    "\n",
    "for sample in metadata_bc_pkl_path_dict.keys():\n",
    "    if os.path.exists(f\"selected_barcodes/{sample}_bc_passing_filters_otsu.pkl\"):\n",
    "        print(f\"{sample} bc passing filters exists, printing img and skipping\")\n",
    "        display(Image(f\"plots_qc/{sample}_qc_otsu.png\"))\n",
    "    else:\n",
    "        print(\n",
    "            f\"{sample} bc passing filters does not exist yet, generate using qc_plots.py script!\"\n",
    "        )"
   ]
  },
  {
   "cell_type": "markdown",
   "id": "a6b93d98",
   "metadata": {
    "papermill": {
     "duration": 0.019287,
     "end_time": "2022-09-09T15:14:00.969606",
     "exception": false,
     "start_time": "2022-09-09T15:14:00.950319",
     "status": "completed"
    },
    "tags": []
   },
   "source": [
    "# Write raw barcode file"
   ]
  },
  {
   "cell_type": "markdown",
   "id": "1b4bbd8f",
   "metadata": {
    "papermill": {
     "duration": 0.016759,
     "end_time": "2022-09-09T15:14:01.005941",
     "exception": false,
     "start_time": "2022-09-09T15:14:00.989182",
     "status": "completed"
    },
    "tags": []
   },
   "source": [
    "Freemuxlet reads barcodes in the bam file. These barcodes (tag: DB) do not contain the `sample` suffix, which is included in the `*_bc_passing_filters_otsu.txt` files:"
   ]
  },
  {
   "cell_type": "code",
   "execution_count": 5,
   "id": "27eea380",
   "metadata": {
    "papermill": {
     "duration": 0.277005,
     "end_time": "2022-09-09T15:14:01.299953",
     "exception": false,
     "start_time": "2022-09-09T15:14:01.022948",
     "status": "completed"
    },
    "tags": []
   },
   "outputs": [
    {
     "name": "stdout",
     "output_type": "stream",
     "text": [
      "head: cannot open 'selected_barcodes/BIO_ddseq_1.FULL_bc_passing_filters_otsu.txt' for reading: No such file or directory\n"
     ]
    }
   ],
   "source": [
    "!head selected_barcodes/BIO_ddseq_1.FULL_bc_passing_filters_otsu.txt"
   ]
  },
  {
   "cell_type": "code",
   "execution_count": 6,
   "id": "6117247c",
   "metadata": {
    "papermill": {
     "duration": 0.031113,
     "end_time": "2022-09-09T15:14:01.348184",
     "exception": false,
     "start_time": "2022-09-09T15:14:01.317071",
     "status": "completed"
    },
    "tags": []
   },
   "outputs": [
    {
     "name": "stdout",
     "output_type": "stream",
     "text": [
      "selected_barcodes/UCS_ddseq_1.LIBDS_bc_passing_filters_otsu.txt\n",
      "UCS_ddseq_1.LIBDS\n",
      "Done\n",
      "selected_barcodes/UCS_ddseq_2.LIBDS_bc_passing_filters_otsu.txt\n",
      "UCS_ddseq_2.LIBDS\n",
      "Done\n"
     ]
    }
   ],
   "source": [
    "for file in sorted(glob.glob(\"selected_barcodes/UCS*bc_passing_filters_otsu.txt\")):\n",
    "    print(file)\n",
    "    sample = file.split(\"/\")[-1].split(\"_bc_passing_filters_otsu.txt\")[0]\n",
    "    print(sample)\n",
    "    df = pd.read_csv(file, header=None, index_col=None)\n",
    "\n",
    "    with open(f\"selected_barcodes/{sample}_bc_passing_filters_otsu.RAW.txt\", \"w\") as fp:\n",
    "        for x in df[0]:\n",
    "            # write each item on a new line\n",
    "            fp.write(x.split(\"___\")[0] + \"\\n\")\n",
    "        print(\"Done\")"
   ]
  },
  {
   "cell_type": "code",
   "execution_count": 7,
   "id": "fad741b7",
   "metadata": {
    "papermill": {
     "duration": 0.240348,
     "end_time": "2022-09-09T15:14:01.605202",
     "exception": false,
     "start_time": "2022-09-09T15:14:01.364854",
     "status": "completed"
    },
    "tags": []
   },
   "outputs": [
    {
     "name": "stdout",
     "output_type": "stream",
     "text": [
      "head: cannot open 'selected_barcodes/BIO_ddseq_1.FULL_bc_passing_filters_otsu.RAW.txt' for reading: No such file or directory\n"
     ]
    }
   ],
   "source": [
    "!head selected_barcodes/BIO_ddseq_1.FULL_bc_passing_filters_otsu.RAW.txt"
   ]
  },
  {
   "cell_type": "code",
   "execution_count": null,
   "id": "6ca32ebd",
   "metadata": {
    "papermill": {
     "duration": 0.016671,
     "end_time": "2022-09-09T15:14:01.638849",
     "exception": false,
     "start_time": "2022-09-09T15:14:01.622178",
     "status": "completed"
    },
    "tags": []
   },
   "outputs": [],
   "source": []
  }
 ],
 "metadata": {
  "kernelspec": {
   "display_name": "20221014_pycistopic.sif",
   "language": "python",
   "name": "cistopic_20221014"
  },
  "language_info": {
   "codemirror_mode": {
    "name": "ipython",
    "version": 3
   },
   "file_extension": ".py",
   "mimetype": "text/x-python",
   "name": "python",
   "nbconvert_exporter": "python",
   "pygments_lexer": "ipython3",
   "version": "3.8.15"
  },
  "papermill": {
   "default_parameters": {},
   "duration": 852.353027,
   "end_time": "2022-09-09T15:14:05.886275",
   "environment_variables": {},
   "exception": null,
   "input_path": "1_run_qc_manually.ipynb",
   "output_path": "1_run_qc_manually.OUT.ipynb",
   "parameters": {},
   "start_time": "2022-09-09T14:59:53.533248",
   "version": "2.3.4"
  }
 },
 "nbformat": 4,
 "nbformat_minor": 5
}

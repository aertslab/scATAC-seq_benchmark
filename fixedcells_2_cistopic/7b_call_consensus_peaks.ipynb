{
 "cells": [
  {
   "cell_type": "code",
   "execution_count": 15,
   "id": "fc5cbb19",
   "metadata": {
    "papermill": {
     "duration": 12.616183,
     "end_time": "2022-09-14T14:35:59.261257",
     "exception": false,
     "start_time": "2022-09-14T14:35:46.645074",
     "status": "completed"
    },
    "tags": []
   },
   "outputs": [],
   "source": [
    "from pycisTopic.pseudobulk_peak_calling import export_pseudobulk, peak_calling\n",
    "import pyranges as pr\n",
    "import requests\n",
    "import os\n",
    "import pandas as pd\n",
    "import glob\n",
    "import pickle"
   ]
  },
  {
   "cell_type": "code",
   "execution_count": 16,
   "id": "2bd2159f",
   "metadata": {
    "papermill": {
     "duration": 0.331143,
     "end_time": "2022-09-14T14:35:59.609144",
     "exception": false,
     "start_time": "2022-09-14T14:35:59.278001",
     "status": "completed"
    },
    "tags": []
   },
   "outputs": [
    {
     "name": "stdout",
     "output_type": "stream",
     "text": [
      "The lab_black extension is already loaded. To reload it, use:\n",
      "  %reload_ext lab_black\n"
     ]
    }
   ],
   "source": [
    "%load_ext lab_black"
   ]
  },
  {
   "cell_type": "code",
   "execution_count": 17,
   "id": "a141c417",
   "metadata": {
    "papermill": {
     "duration": 0.02446,
     "end_time": "2022-09-14T14:35:59.637258",
     "exception": false,
     "start_time": "2022-09-14T14:35:59.612798",
     "status": "completed"
    },
    "tags": []
   },
   "outputs": [],
   "source": [
    "# get chromosome sizes (hg38)\n",
    "if not os.path.exists(\"chromsizes.txt\"):\n",
    "    target_url = (\n",
    "        \"http://hgdownload.cse.ucsc.edu/goldenPath/hg38/bigZips/hg38.chrom.sizes\"\n",
    "    )\n",
    "    chromsizes = pd.read_csv(target_url, sep=\"\\t\", header=None)\n",
    "    chromsizes.columns = [\"Chromosome\", \"End\"]\n",
    "    chromsizes[\"Start\"] = [0] * chromsizes.shape[0]\n",
    "    chromsizes = chromsizes.loc[:, [\"Chromosome\", \"Start\", \"End\"]]\n",
    "    chromsizes = pr.PyRanges(chromsizes)\n",
    "    chromsizes.to_csv(\"chromsizes.txt\")\n",
    "    chromsizes\n",
    "else:\n",
    "    chromsizes = pd.read_csv(\"chromsizes.txt\")"
   ]
  },
  {
   "cell_type": "markdown",
   "id": "e14e3a04",
   "metadata": {
    "papermill": {
     "duration": 0.003259,
     "end_time": "2022-09-14T14:35:59.643970",
     "exception": false,
     "start_time": "2022-09-14T14:35:59.640711",
     "status": "completed"
    },
    "tags": []
   },
   "source": [
    "# write cell data"
   ]
  },
  {
   "cell_type": "code",
   "execution_count": 18,
   "id": "394f6318",
   "metadata": {
    "papermill": {
     "duration": 0.026396,
     "end_time": "2022-09-14T14:35:59.673568",
     "exception": false,
     "start_time": "2022-09-14T14:35:59.647172",
     "status": "completed"
    },
    "tags": []
   },
   "outputs": [
    {
     "data": {
      "text/plain": [
       "{'BIO_ddseq_1.FIXEDCELLS': 'cistopic_objects/BIO_ddseq_1.FIXEDCELLS__cto.scrublet0-4.fmx.singlets.model_9topics.dimreduc.consensus.pkl',\n",
       " 'BIO_ddseq_2.FIXEDCELLS': 'cistopic_objects/BIO_ddseq_2.FIXEDCELLS__cto.scrublet0-4.fmx.singlets.model_14topics.dimreduc.consensus.pkl',\n",
       " 'BIO_ddseq_3.FIXEDCELLS': 'cistopic_objects/BIO_ddseq_3.FIXEDCELLS__cto.scrublet0-4.fmx.singlets.model_11topics.dimreduc.consensus.pkl',\n",
       " 'BIO_ddseq_4.FIXEDCELLS': 'cistopic_objects/BIO_ddseq_4.FIXEDCELLS__cto.scrublet0-4.fmx.singlets.model_7topics.dimreduc.consensus.pkl',\n",
       " 'BRO_mtscatac_1.FIXEDCELLS': 'cistopic_objects/BRO_mtscatac_1.FIXEDCELLS__cto.scrublet0-4.fmx.singlets.model_12topics.dimreduc.consensus.pkl',\n",
       " 'BRO_mtscatac_2.FIXEDCELLS': 'cistopic_objects/BRO_mtscatac_2.FIXEDCELLS__cto.scrublet0-4.fmx.singlets.model_10topics.dimreduc.consensus.pkl',\n",
       " 'CNA_10xmultiome_1.FIXEDCELLS': 'cistopic_objects/CNA_10xmultiome_1.FIXEDCELLS__cto.scrublet0-4.fmx.singlets.model_12topics.dimreduc.consensus.pkl',\n",
       " 'CNA_10xmultiome_2.FIXEDCELLS': 'cistopic_objects/CNA_10xmultiome_2.FIXEDCELLS__cto.scrublet0-4.fmx.singlets.model_11topics.dimreduc.consensus.pkl',\n",
       " 'CNA_10xv11_1.FIXEDCELLS': 'cistopic_objects/CNA_10xv11_1.FIXEDCELLS__cto.scrublet0-4.fmx.singlets.model_11topics.dimreduc.consensus.pkl',\n",
       " 'CNA_10xv11_2.FIXEDCELLS': 'cistopic_objects/CNA_10xv11_2.FIXEDCELLS__cto.scrublet0-4.fmx.singlets.model_15topics.dimreduc.consensus.pkl',\n",
       " 'CNA_10xv11_3.FIXEDCELLS': 'cistopic_objects/CNA_10xv11_3.FIXEDCELLS__cto.scrublet0-4.fmx.singlets.model_9topics.dimreduc.consensus.pkl',\n",
       " 'CNA_10xv11_4.FIXEDCELLS': 'cistopic_objects/CNA_10xv11_4.FIXEDCELLS__cto.scrublet0-4.fmx.singlets.model_10topics.dimreduc.consensus.pkl',\n",
       " 'CNA_10xv11_5.FIXEDCELLS': 'cistopic_objects/CNA_10xv11_5.FIXEDCELLS__cto.scrublet0-4.fmx.singlets.model_12topics.dimreduc.consensus.pkl',\n",
       " 'CNA_10xv2_1.FIXEDCELLS': 'cistopic_objects/CNA_10xv2_1.FIXEDCELLS__cto.scrublet0-4.fmx.singlets.model_11topics.dimreduc.consensus.pkl',\n",
       " 'CNA_10xv2_2.FIXEDCELLS': 'cistopic_objects/CNA_10xv2_2.FIXEDCELLS__cto.scrublet0-4.fmx.singlets.model_8topics.dimreduc.consensus.pkl',\n",
       " 'CNA_hydrop_1.FIXEDCELLS': 'cistopic_objects/CNA_hydrop_1.FIXEDCELLS__cto.scrublet0-4.fmx.singlets.model_11topics.dimreduc.consensus.pkl',\n",
       " 'CNA_hydrop_2.FIXEDCELLS': 'cistopic_objects/CNA_hydrop_2.FIXEDCELLS__cto.scrublet0-4.fmx.singlets.model_10topics.dimreduc.consensus.pkl',\n",
       " 'CNA_hydrop_3.FIXEDCELLS': 'cistopic_objects/CNA_hydrop_3.FIXEDCELLS__cto.scrublet0-4.fmx.singlets.model_15topics.dimreduc.consensus.pkl',\n",
       " 'CNA_mtscatac_1.FIXEDCELLS': 'cistopic_objects/CNA_mtscatac_1.FIXEDCELLS__cto.scrublet0-4.fmx.singlets.model_11topics.dimreduc.consensus.pkl',\n",
       " 'CNA_mtscatac_2.FIXEDCELLS': 'cistopic_objects/CNA_mtscatac_2.FIXEDCELLS__cto.scrublet0-4.fmx.singlets.model_14topics.dimreduc.consensus.pkl',\n",
       " 'EPF_hydrop_1.FIXEDCELLS': 'cistopic_objects/EPF_hydrop_1.FIXEDCELLS__cto.scrublet0-4.fmx.singlets.model_9topics.dimreduc.consensus.pkl',\n",
       " 'EPF_hydrop_2.FIXEDCELLS': 'cistopic_objects/EPF_hydrop_2.FIXEDCELLS__cto.scrublet0-4.fmx.singlets.model_7topics.dimreduc.consensus.pkl',\n",
       " 'EPF_hydrop_3.FIXEDCELLS': 'cistopic_objects/EPF_hydrop_3.FIXEDCELLS__cto.scrublet0-4.fmx.singlets.model_9topics.dimreduc.consensus.pkl',\n",
       " 'EPF_hydrop_4.FIXEDCELLS': 'cistopic_objects/EPF_hydrop_4.FIXEDCELLS__cto.scrublet0-4.fmx.singlets.model_15topics.dimreduc.consensus.pkl',\n",
       " 'HAR_ddseq_1.FIXEDCELLS': 'cistopic_objects/HAR_ddseq_1.FIXEDCELLS__cto.scrublet0-4.fmx.singlets.model_17topics.dimreduc.consensus.pkl',\n",
       " 'HAR_ddseq_2.FIXEDCELLS': 'cistopic_objects/HAR_ddseq_2.FIXEDCELLS__cto.scrublet0-4.fmx.singlets.model_9topics.dimreduc.consensus.pkl',\n",
       " 'MDC_mtscatac_1.FIXEDCELLS': 'cistopic_objects/MDC_mtscatac_1.FIXEDCELLS__cto.scrublet0-4.fmx.singlets.model_9topics.dimreduc.consensus.pkl',\n",
       " 'MDC_mtscatac_2.FIXEDCELLS': 'cistopic_objects/MDC_mtscatac_2.FIXEDCELLS__cto.scrublet0-4.fmx.singlets.model_10topics.dimreduc.consensus.pkl',\n",
       " 'OHS_s3atac_1.FIXEDCELLS': 'cistopic_objects/OHS_s3atac_1.FIXEDCELLS__cto.scrublet0-4.fmx.singlets.model_8topics.dimreduc.consensus.pkl',\n",
       " 'OHS_s3atac_2.FIXEDCELLS': 'cistopic_objects/OHS_s3atac_2.FIXEDCELLS__cto.scrublet0-4.fmx.singlets.model_12topics.dimreduc.consensus.pkl',\n",
       " 'SAN_10xmultiome_1.FIXEDCELLS': 'cistopic_objects/SAN_10xmultiome_1.FIXEDCELLS__cto.scrublet0-4.fmx.singlets.model_9topics.dimreduc.consensus.pkl',\n",
       " 'SAN_10xmultiome_2.FIXEDCELLS': 'cistopic_objects/SAN_10xmultiome_2.FIXEDCELLS__cto.scrublet0-4.fmx.singlets.model_10topics.dimreduc.consensus.pkl',\n",
       " 'STA_10xv11_1.FIXEDCELLS': 'cistopic_objects/STA_10xv11_1.FIXEDCELLS__cto.scrublet0-4.fmx.singlets.model_8topics.dimreduc.consensus.pkl',\n",
       " 'STA_10xv11_2.FIXEDCELLS': 'cistopic_objects/STA_10xv11_2.FIXEDCELLS__cto.scrublet0-4.fmx.singlets.model_12topics.dimreduc.consensus.pkl',\n",
       " 'TXG_10xv11_1.FIXEDCELLS': 'cistopic_objects/TXG_10xv11_1.FIXEDCELLS__cto.scrublet0-4.fmx.singlets.model_15topics.dimreduc.consensus.pkl',\n",
       " 'TXG_10xv2_1.FIXEDCELLS': 'cistopic_objects/TXG_10xv2_1.FIXEDCELLS__cto.scrublet0-4.fmx.singlets.model_15topics.dimreduc.consensus.pkl',\n",
       " 'TXG_10xv2_2.FIXEDCELLS': 'cistopic_objects/TXG_10xv2_2.FIXEDCELLS__cto.scrublet0-4.fmx.singlets.model_19topics.dimreduc.consensus.pkl',\n",
       " 'UCS_ddseq_1.FIXEDCELLS': 'cistopic_objects/UCS_ddseq_1.FIXEDCELLS__cto.scrublet0-4.fmx.singlets.model_10topics.dimreduc.consensus.pkl',\n",
       " 'UCS_ddseq_2.FIXEDCELLS': 'cistopic_objects/UCS_ddseq_2.FIXEDCELLS__cto.scrublet0-4.fmx.singlets.model_10topics.dimreduc.consensus.pkl',\n",
       " 'VIB_10xmultiome_1.FIXEDCELLS': 'cistopic_objects/VIB_10xmultiome_1.FIXEDCELLS__cto.scrublet0-4.fmx.singlets.model_11topics.dimreduc.consensus.pkl',\n",
       " 'VIB_10xmultiome_2.FIXEDCELLS': 'cistopic_objects/VIB_10xmultiome_2.FIXEDCELLS__cto.scrublet0-4.fmx.singlets.model_12topics.dimreduc.consensus.pkl',\n",
       " 'VIB_10xv1_1.FIXEDCELLS': 'cistopic_objects/VIB_10xv1_1.FIXEDCELLS__cto.scrublet0-4.fmx.singlets.model_7topics.dimreduc.consensus.pkl',\n",
       " 'VIB_10xv1_2.FIXEDCELLS': 'cistopic_objects/VIB_10xv1_2.FIXEDCELLS__cto.scrublet0-4.fmx.singlets.model_9topics.dimreduc.consensus.pkl',\n",
       " 'VIB_10xv2_1.FIXEDCELLS': 'cistopic_objects/VIB_10xv2_1.FIXEDCELLS__cto.scrublet0-4.fmx.singlets.model_10topics.dimreduc.consensus.pkl',\n",
       " 'VIB_10xv2_2.FIXEDCELLS': 'cistopic_objects/VIB_10xv2_2.FIXEDCELLS__cto.scrublet0-4.fmx.singlets.model_11topics.dimreduc.consensus.pkl',\n",
       " 'VIB_hydrop_1.FIXEDCELLS': 'cistopic_objects/VIB_hydrop_1.FIXEDCELLS__cto.scrublet0-4.fmx.singlets.model_11topics.dimreduc.consensus.pkl',\n",
       " 'VIB_hydrop_11.FIXEDCELLS': 'cistopic_objects/VIB_hydrop_11.FIXEDCELLS__cto.scrublet0-4.fmx.singlets.model_10topics.dimreduc.consensus.pkl',\n",
       " 'VIB_hydrop_12.FIXEDCELLS': 'cistopic_objects/VIB_hydrop_12.FIXEDCELLS__cto.scrublet0-4.fmx.singlets.model_10topics.dimreduc.consensus.pkl',\n",
       " 'VIB_hydrop_2.FIXEDCELLS': 'cistopic_objects/VIB_hydrop_2.FIXEDCELLS__cto.scrublet0-4.fmx.singlets.model_8topics.dimreduc.consensus.pkl',\n",
       " 'VIB_hydrop_21.FIXEDCELLS': 'cistopic_objects/VIB_hydrop_21.FIXEDCELLS__cto.scrublet0-4.fmx.singlets.model_12topics.dimreduc.consensus.pkl',\n",
       " 'VIB_hydrop_22.FIXEDCELLS': 'cistopic_objects/VIB_hydrop_22.FIXEDCELLS__cto.scrublet0-4.fmx.singlets.model_9topics.dimreduc.consensus.pkl'}"
      ]
     },
     "execution_count": 18,
     "metadata": {},
     "output_type": "execute_result"
    }
   ],
   "source": [
    "cto_consensus_path_dict = {\n",
    "    x.split(\"/\")[-1].split(f\"__\")[0]: x\n",
    "    for x in sorted(glob.glob(\"cistopic_objects/*singlets.model*consensus.pkl\"))\n",
    "}\n",
    "cto_consensus_path_dict"
   ]
  },
  {
   "cell_type": "code",
   "execution_count": 19,
   "id": "45ae93ab",
   "metadata": {
    "papermill": {
     "duration": 0.024652,
     "end_time": "2022-09-14T14:35:59.701717",
     "exception": false,
     "start_time": "2022-09-14T14:35:59.677065",
     "status": "completed"
    },
    "tags": []
   },
   "outputs": [
    {
     "name": "stdout",
     "output_type": "stream",
     "text": [
      "cistopic_objects/BIO_ddseq_1.FIXEDCELLS__cto.scrublet0-4.fmx.singlets.model_9topics.dimreduc.consensus.cell_data.csv already exists, skipping...\n",
      "cistopic_objects/BIO_ddseq_2.FIXEDCELLS__cto.scrublet0-4.fmx.singlets.model_14topics.dimreduc.consensus.cell_data.csv already exists, skipping...\n",
      "cistopic_objects/BIO_ddseq_3.FIXEDCELLS__cto.scrublet0-4.fmx.singlets.model_11topics.dimreduc.consensus.cell_data.csv already exists, skipping...\n",
      "cistopic_objects/BIO_ddseq_4.FIXEDCELLS__cto.scrublet0-4.fmx.singlets.model_7topics.dimreduc.consensus.cell_data.csv already exists, skipping...\n",
      "cistopic_objects/BRO_mtscatac_1.FIXEDCELLS__cto.scrublet0-4.fmx.singlets.model_12topics.dimreduc.consensus.cell_data.csv already exists, skipping...\n",
      "cistopic_objects/BRO_mtscatac_2.FIXEDCELLS__cto.scrublet0-4.fmx.singlets.model_10topics.dimreduc.consensus.cell_data.csv already exists, skipping...\n",
      "cistopic_objects/CNA_10xmultiome_1.FIXEDCELLS__cto.scrublet0-4.fmx.singlets.model_12topics.dimreduc.consensus.cell_data.csv already exists, skipping...\n",
      "cistopic_objects/CNA_10xmultiome_2.FIXEDCELLS__cto.scrublet0-4.fmx.singlets.model_11topics.dimreduc.consensus.cell_data.csv already exists, skipping...\n",
      "cistopic_objects/CNA_10xv11_1.FIXEDCELLS__cto.scrublet0-4.fmx.singlets.model_11topics.dimreduc.consensus.cell_data.csv already exists, skipping...\n",
      "cistopic_objects/CNA_10xv11_2.FIXEDCELLS__cto.scrublet0-4.fmx.singlets.model_15topics.dimreduc.consensus.cell_data.csv already exists, skipping...\n",
      "cistopic_objects/CNA_10xv11_3.FIXEDCELLS__cto.scrublet0-4.fmx.singlets.model_9topics.dimreduc.consensus.cell_data.csv already exists, skipping...\n",
      "cistopic_objects/CNA_10xv11_4.FIXEDCELLS__cto.scrublet0-4.fmx.singlets.model_10topics.dimreduc.consensus.cell_data.csv already exists, skipping...\n",
      "cistopic_objects/CNA_10xv11_5.FIXEDCELLS__cto.scrublet0-4.fmx.singlets.model_12topics.dimreduc.consensus.cell_data.csv already exists, skipping...\n",
      "cistopic_objects/CNA_10xv2_1.FIXEDCELLS__cto.scrublet0-4.fmx.singlets.model_11topics.dimreduc.consensus.cell_data.csv already exists, skipping...\n",
      "cistopic_objects/CNA_10xv2_2.FIXEDCELLS__cto.scrublet0-4.fmx.singlets.model_8topics.dimreduc.consensus.cell_data.csv already exists, skipping...\n",
      "cistopic_objects/CNA_hydrop_1.FIXEDCELLS__cto.scrublet0-4.fmx.singlets.model_11topics.dimreduc.consensus.cell_data.csv already exists, skipping...\n",
      "cistopic_objects/CNA_hydrop_2.FIXEDCELLS__cto.scrublet0-4.fmx.singlets.model_10topics.dimreduc.consensus.cell_data.csv already exists, skipping...\n",
      "cistopic_objects/CNA_hydrop_3.FIXEDCELLS__cto.scrublet0-4.fmx.singlets.model_15topics.dimreduc.consensus.cell_data.csv already exists, skipping...\n",
      "cistopic_objects/CNA_mtscatac_1.FIXEDCELLS__cto.scrublet0-4.fmx.singlets.model_11topics.dimreduc.consensus.cell_data.csv already exists, skipping...\n",
      "cistopic_objects/CNA_mtscatac_2.FIXEDCELLS__cto.scrublet0-4.fmx.singlets.model_14topics.dimreduc.consensus.cell_data.csv already exists, skipping...\n",
      "cistopic_objects/EPF_hydrop_1.FIXEDCELLS__cto.scrublet0-4.fmx.singlets.model_9topics.dimreduc.consensus.cell_data.csv already exists, skipping...\n",
      "cistopic_objects/EPF_hydrop_2.FIXEDCELLS__cto.scrublet0-4.fmx.singlets.model_7topics.dimreduc.consensus.cell_data.csv already exists, skipping...\n",
      "cistopic_objects/EPF_hydrop_3.FIXEDCELLS__cto.scrublet0-4.fmx.singlets.model_9topics.dimreduc.consensus.cell_data.csv already exists, skipping...\n",
      "cistopic_objects/EPF_hydrop_4.FIXEDCELLS__cto.scrublet0-4.fmx.singlets.model_15topics.dimreduc.consensus.cell_data.csv already exists, skipping...\n",
      "cistopic_objects/HAR_ddseq_1.FIXEDCELLS__cto.scrublet0-4.fmx.singlets.model_17topics.dimreduc.consensus.cell_data.csv already exists, skipping...\n",
      "cistopic_objects/HAR_ddseq_2.FIXEDCELLS__cto.scrublet0-4.fmx.singlets.model_9topics.dimreduc.consensus.cell_data.csv already exists, skipping...\n",
      "cistopic_objects/MDC_mtscatac_1.FIXEDCELLS__cto.scrublet0-4.fmx.singlets.model_9topics.dimreduc.consensus.cell_data.csv already exists, skipping...\n",
      "cistopic_objects/MDC_mtscatac_2.FIXEDCELLS__cto.scrublet0-4.fmx.singlets.model_10topics.dimreduc.consensus.cell_data.csv already exists, skipping...\n",
      "cistopic_objects/OHS_s3atac_1.FIXEDCELLS__cto.scrublet0-4.fmx.singlets.model_8topics.dimreduc.consensus.cell_data.csv already exists, skipping...\n",
      "cistopic_objects/OHS_s3atac_2.FIXEDCELLS__cto.scrublet0-4.fmx.singlets.model_12topics.dimreduc.consensus.cell_data.csv already exists, skipping...\n",
      "cistopic_objects/SAN_10xmultiome_1.FIXEDCELLS__cto.scrublet0-4.fmx.singlets.model_9topics.dimreduc.consensus.cell_data.csv already exists, skipping...\n",
      "cistopic_objects/SAN_10xmultiome_2.FIXEDCELLS__cto.scrublet0-4.fmx.singlets.model_10topics.dimreduc.consensus.cell_data.csv already exists, skipping...\n",
      "cistopic_objects/STA_10xv11_1.FIXEDCELLS__cto.scrublet0-4.fmx.singlets.model_8topics.dimreduc.consensus.cell_data.csv already exists, skipping...\n",
      "cistopic_objects/STA_10xv11_2.FIXEDCELLS__cto.scrublet0-4.fmx.singlets.model_12topics.dimreduc.consensus.cell_data.csv already exists, skipping...\n",
      "cistopic_objects/TXG_10xv11_1.FIXEDCELLS__cto.scrublet0-4.fmx.singlets.model_15topics.dimreduc.consensus.cell_data.csv already exists, skipping...\n",
      "cistopic_objects/TXG_10xv2_1.FIXEDCELLS__cto.scrublet0-4.fmx.singlets.model_15topics.dimreduc.consensus.cell_data.csv already exists, skipping...\n",
      "cistopic_objects/TXG_10xv2_2.FIXEDCELLS__cto.scrublet0-4.fmx.singlets.model_19topics.dimreduc.consensus.cell_data.csv already exists, skipping...\n",
      "cistopic_objects/UCS_ddseq_1.FIXEDCELLS__cto.scrublet0-4.fmx.singlets.model_10topics.dimreduc.consensus.cell_data.csv already exists, skipping...\n",
      "cistopic_objects/UCS_ddseq_2.FIXEDCELLS__cto.scrublet0-4.fmx.singlets.model_10topics.dimreduc.consensus.cell_data.csv already exists, skipping...\n",
      "cistopic_objects/VIB_10xmultiome_1.FIXEDCELLS__cto.scrublet0-4.fmx.singlets.model_11topics.dimreduc.consensus.cell_data.csv already exists, skipping...\n",
      "cistopic_objects/VIB_10xmultiome_2.FIXEDCELLS__cto.scrublet0-4.fmx.singlets.model_12topics.dimreduc.consensus.cell_data.csv already exists, skipping...\n",
      "cistopic_objects/VIB_10xv1_1.FIXEDCELLS__cto.scrublet0-4.fmx.singlets.model_7topics.dimreduc.consensus.cell_data.csv already exists, skipping...\n",
      "cistopic_objects/VIB_10xv1_2.FIXEDCELLS__cto.scrublet0-4.fmx.singlets.model_9topics.dimreduc.consensus.cell_data.csv already exists, skipping...\n",
      "cistopic_objects/VIB_10xv2_1.FIXEDCELLS__cto.scrublet0-4.fmx.singlets.model_10topics.dimreduc.consensus.cell_data.csv already exists, skipping...\n",
      "cistopic_objects/VIB_10xv2_2.FIXEDCELLS__cto.scrublet0-4.fmx.singlets.model_11topics.dimreduc.consensus.cell_data.csv already exists, skipping...\n",
      "cistopic_objects/VIB_hydrop_1.FIXEDCELLS__cto.scrublet0-4.fmx.singlets.model_11topics.dimreduc.consensus.cell_data.csv already exists, skipping...\n",
      "cistopic_objects/VIB_hydrop_11.FIXEDCELLS__cto.scrublet0-4.fmx.singlets.model_10topics.dimreduc.consensus.cell_data.csv already exists, skipping...\n",
      "cistopic_objects/VIB_hydrop_12.FIXEDCELLS__cto.scrublet0-4.fmx.singlets.model_10topics.dimreduc.consensus.cell_data.csv already exists, skipping...\n",
      "cistopic_objects/VIB_hydrop_2.FIXEDCELLS__cto.scrublet0-4.fmx.singlets.model_8topics.dimreduc.consensus.cell_data.csv already exists, skipping...\n",
      "cistopic_objects/VIB_hydrop_21.FIXEDCELLS__cto.scrublet0-4.fmx.singlets.model_12topics.dimreduc.consensus.cell_data.csv already exists, skipping...\n",
      "cistopic_objects/VIB_hydrop_22.FIXEDCELLS__cto.scrublet0-4.fmx.singlets.model_9topics.dimreduc.consensus.cell_data.csv already exists, skipping...\n"
     ]
    }
   ],
   "source": [
    "for sample in cto_consensus_path_dict.keys():\n",
    "    cto_path = cto_consensus_path_dict[sample]\n",
    "    cell_data_path = cto_path.replace(\".pkl\", \".cell_data.csv\")\n",
    "    if not os.path.exists(cell_data_path):\n",
    "        with open(cto_path, \"rb\") as f:\n",
    "            cto = pickle.load(f)\n",
    "\n",
    "        cto.cell_data.to_csv(cell_data_path)\n",
    "        print(f\"written {cell_data_path}\")\n",
    "    else:\n",
    "        print(f\"{cell_data_path} already exists, skipping...\")"
   ]
  },
  {
   "cell_type": "markdown",
   "id": "86349ce4",
   "metadata": {
    "papermill": {
     "duration": 0.003392,
     "end_time": "2022-09-14T14:35:59.708696",
     "exception": false,
     "start_time": "2022-09-14T14:35:59.705304",
     "status": "completed"
    },
    "tags": []
   },
   "source": [
    "# consensus"
   ]
  },
  {
   "cell_type": "code",
   "execution_count": 20,
   "id": "5ac0faf6",
   "metadata": {
    "papermill": {
     "duration": 0.013503,
     "end_time": "2022-09-14T14:35:59.725504",
     "exception": false,
     "start_time": "2022-09-14T14:35:59.712001",
     "status": "completed"
    },
    "tags": []
   },
   "outputs": [
    {
     "data": {
      "text/plain": [
       "{'BIO_ddseq_1.FIXEDCELLS': 'cistopic_objects/BIO_ddseq_1.FIXEDCELLS__cto.scrublet0-4.fmx.singlets.model_9topics.dimreduc.consensus.cell_data.csv',\n",
       " 'BIO_ddseq_2.FIXEDCELLS': 'cistopic_objects/BIO_ddseq_2.FIXEDCELLS__cto.scrublet0-4.fmx.singlets.model_14topics.dimreduc.consensus.cell_data.csv',\n",
       " 'BIO_ddseq_3.FIXEDCELLS': 'cistopic_objects/BIO_ddseq_3.FIXEDCELLS__cto.scrublet0-4.fmx.singlets.model_11topics.dimreduc.consensus.cell_data.csv',\n",
       " 'BIO_ddseq_4.FIXEDCELLS': 'cistopic_objects/BIO_ddseq_4.FIXEDCELLS__cto.scrublet0-4.fmx.singlets.model_7topics.dimreduc.consensus.cell_data.csv',\n",
       " 'BRO_mtscatac_1.FIXEDCELLS': 'cistopic_objects/BRO_mtscatac_1.FIXEDCELLS__cto.scrublet0-4.fmx.singlets.model_12topics.dimreduc.consensus.cell_data.csv',\n",
       " 'BRO_mtscatac_2.FIXEDCELLS': 'cistopic_objects/BRO_mtscatac_2.FIXEDCELLS__cto.scrublet0-4.fmx.singlets.model_10topics.dimreduc.consensus.cell_data.csv',\n",
       " 'CNA_10xmultiome_1.FIXEDCELLS': 'cistopic_objects/CNA_10xmultiome_1.FIXEDCELLS__cto.scrublet0-4.fmx.singlets.model_12topics.dimreduc.consensus.cell_data.csv',\n",
       " 'CNA_10xmultiome_2.FIXEDCELLS': 'cistopic_objects/CNA_10xmultiome_2.FIXEDCELLS__cto.scrublet0-4.fmx.singlets.model_11topics.dimreduc.consensus.cell_data.csv',\n",
       " 'CNA_10xv11_1.FIXEDCELLS': 'cistopic_objects/CNA_10xv11_1.FIXEDCELLS__cto.scrublet0-4.fmx.singlets.model_11topics.dimreduc.consensus.cell_data.csv',\n",
       " 'CNA_10xv11_2.FIXEDCELLS': 'cistopic_objects/CNA_10xv11_2.FIXEDCELLS__cto.scrublet0-4.fmx.singlets.model_15topics.dimreduc.consensus.cell_data.csv',\n",
       " 'CNA_10xv11_3.FIXEDCELLS': 'cistopic_objects/CNA_10xv11_3.FIXEDCELLS__cto.scrublet0-4.fmx.singlets.model_9topics.dimreduc.consensus.cell_data.csv',\n",
       " 'CNA_10xv11_4.FIXEDCELLS': 'cistopic_objects/CNA_10xv11_4.FIXEDCELLS__cto.scrublet0-4.fmx.singlets.model_10topics.dimreduc.consensus.cell_data.csv',\n",
       " 'CNA_10xv11_5.FIXEDCELLS': 'cistopic_objects/CNA_10xv11_5.FIXEDCELLS__cto.scrublet0-4.fmx.singlets.model_12topics.dimreduc.consensus.cell_data.csv',\n",
       " 'CNA_10xv2_1.FIXEDCELLS': 'cistopic_objects/CNA_10xv2_1.FIXEDCELLS__cto.scrublet0-4.fmx.singlets.model_11topics.dimreduc.consensus.cell_data.csv',\n",
       " 'CNA_10xv2_2.FIXEDCELLS': 'cistopic_objects/CNA_10xv2_2.FIXEDCELLS__cto.scrublet0-4.fmx.singlets.model_8topics.dimreduc.consensus.cell_data.csv',\n",
       " 'CNA_hydrop_1.FIXEDCELLS': 'cistopic_objects/CNA_hydrop_1.FIXEDCELLS__cto.scrublet0-4.fmx.singlets.model_11topics.dimreduc.consensus.cell_data.csv',\n",
       " 'CNA_hydrop_2.FIXEDCELLS': 'cistopic_objects/CNA_hydrop_2.FIXEDCELLS__cto.scrublet0-4.fmx.singlets.model_10topics.dimreduc.consensus.cell_data.csv',\n",
       " 'CNA_hydrop_3.FIXEDCELLS': 'cistopic_objects/CNA_hydrop_3.FIXEDCELLS__cto.scrublet0-4.fmx.singlets.model_15topics.dimreduc.consensus.cell_data.csv',\n",
       " 'CNA_mtscatac_1.FIXEDCELLS': 'cistopic_objects/CNA_mtscatac_1.FIXEDCELLS__cto.scrublet0-4.fmx.singlets.model_11topics.dimreduc.consensus.cell_data.csv',\n",
       " 'CNA_mtscatac_2.FIXEDCELLS': 'cistopic_objects/CNA_mtscatac_2.FIXEDCELLS__cto.scrublet0-4.fmx.singlets.model_14topics.dimreduc.consensus.cell_data.csv',\n",
       " 'EPF_hydrop_1.FIXEDCELLS': 'cistopic_objects/EPF_hydrop_1.FIXEDCELLS__cto.scrublet0-4.fmx.singlets.model_9topics.dimreduc.consensus.cell_data.csv',\n",
       " 'EPF_hydrop_2.FIXEDCELLS': 'cistopic_objects/EPF_hydrop_2.FIXEDCELLS__cto.scrublet0-4.fmx.singlets.model_7topics.dimreduc.consensus.cell_data.csv',\n",
       " 'EPF_hydrop_3.FIXEDCELLS': 'cistopic_objects/EPF_hydrop_3.FIXEDCELLS__cto.scrublet0-4.fmx.singlets.model_9topics.dimreduc.consensus.cell_data.csv',\n",
       " 'EPF_hydrop_4.FIXEDCELLS': 'cistopic_objects/EPF_hydrop_4.FIXEDCELLS__cto.scrublet0-4.fmx.singlets.model_15topics.dimreduc.consensus.cell_data.csv',\n",
       " 'HAR_ddseq_1.FIXEDCELLS': 'cistopic_objects/HAR_ddseq_1.FIXEDCELLS__cto.scrublet0-4.fmx.singlets.model_17topics.dimreduc.consensus.cell_data.csv',\n",
       " 'HAR_ddseq_2.FIXEDCELLS': 'cistopic_objects/HAR_ddseq_2.FIXEDCELLS__cto.scrublet0-4.fmx.singlets.model_9topics.dimreduc.consensus.cell_data.csv',\n",
       " 'MDC_mtscatac_1.FIXEDCELLS': 'cistopic_objects/MDC_mtscatac_1.FIXEDCELLS__cto.scrublet0-4.fmx.singlets.model_9topics.dimreduc.consensus.cell_data.csv',\n",
       " 'MDC_mtscatac_2.FIXEDCELLS': 'cistopic_objects/MDC_mtscatac_2.FIXEDCELLS__cto.scrublet0-4.fmx.singlets.model_10topics.dimreduc.consensus.cell_data.csv',\n",
       " 'OHS_s3atac_1.FIXEDCELLS': 'cistopic_objects/OHS_s3atac_1.FIXEDCELLS__cto.scrublet0-4.fmx.singlets.model_8topics.dimreduc.consensus.cell_data.csv',\n",
       " 'OHS_s3atac_2.FIXEDCELLS': 'cistopic_objects/OHS_s3atac_2.FIXEDCELLS__cto.scrublet0-4.fmx.singlets.model_12topics.dimreduc.consensus.cell_data.csv',\n",
       " 'SAN_10xmultiome_1.FIXEDCELLS': 'cistopic_objects/SAN_10xmultiome_1.FIXEDCELLS__cto.scrublet0-4.fmx.singlets.model_9topics.dimreduc.consensus.cell_data.csv',\n",
       " 'SAN_10xmultiome_2.FIXEDCELLS': 'cistopic_objects/SAN_10xmultiome_2.FIXEDCELLS__cto.scrublet0-4.fmx.singlets.model_10topics.dimreduc.consensus.cell_data.csv',\n",
       " 'STA_10xv11_1.FIXEDCELLS': 'cistopic_objects/STA_10xv11_1.FIXEDCELLS__cto.scrublet0-4.fmx.singlets.model_8topics.dimreduc.consensus.cell_data.csv',\n",
       " 'STA_10xv11_2.FIXEDCELLS': 'cistopic_objects/STA_10xv11_2.FIXEDCELLS__cto.scrublet0-4.fmx.singlets.model_12topics.dimreduc.consensus.cell_data.csv',\n",
       " 'TXG_10xv11_1.FIXEDCELLS': 'cistopic_objects/TXG_10xv11_1.FIXEDCELLS__cto.scrublet0-4.fmx.singlets.model_15topics.dimreduc.consensus.cell_data.csv',\n",
       " 'TXG_10xv2_1.FIXEDCELLS': 'cistopic_objects/TXG_10xv2_1.FIXEDCELLS__cto.scrublet0-4.fmx.singlets.model_15topics.dimreduc.consensus.cell_data.csv',\n",
       " 'TXG_10xv2_2.FIXEDCELLS': 'cistopic_objects/TXG_10xv2_2.FIXEDCELLS__cto.scrublet0-4.fmx.singlets.model_19topics.dimreduc.consensus.cell_data.csv',\n",
       " 'UCS_ddseq_1.FIXEDCELLS': 'cistopic_objects/UCS_ddseq_1.FIXEDCELLS__cto.scrublet0-4.fmx.singlets.model_10topics.dimreduc.consensus.cell_data.csv',\n",
       " 'UCS_ddseq_2.FIXEDCELLS': 'cistopic_objects/UCS_ddseq_2.FIXEDCELLS__cto.scrublet0-4.fmx.singlets.model_10topics.dimreduc.consensus.cell_data.csv',\n",
       " 'VIB_10xmultiome_1.FIXEDCELLS': 'cistopic_objects/VIB_10xmultiome_1.FIXEDCELLS__cto.scrublet0-4.fmx.singlets.model_11topics.dimreduc.consensus.cell_data.csv',\n",
       " 'VIB_10xmultiome_2.FIXEDCELLS': 'cistopic_objects/VIB_10xmultiome_2.FIXEDCELLS__cto.scrublet0-4.fmx.singlets.model_12topics.dimreduc.consensus.cell_data.csv',\n",
       " 'VIB_10xv1_1.FIXEDCELLS': 'cistopic_objects/VIB_10xv1_1.FIXEDCELLS__cto.scrublet0-4.fmx.singlets.model_7topics.dimreduc.consensus.cell_data.csv',\n",
       " 'VIB_10xv1_2.FIXEDCELLS': 'cistopic_objects/VIB_10xv1_2.FIXEDCELLS__cto.scrublet0-4.fmx.singlets.model_9topics.dimreduc.consensus.cell_data.csv',\n",
       " 'VIB_10xv2_1.FIXEDCELLS': 'cistopic_objects/VIB_10xv2_1.FIXEDCELLS__cto.scrublet0-4.fmx.singlets.model_10topics.dimreduc.consensus.cell_data.csv',\n",
       " 'VIB_10xv2_2.FIXEDCELLS': 'cistopic_objects/VIB_10xv2_2.FIXEDCELLS__cto.scrublet0-4.fmx.singlets.model_11topics.dimreduc.consensus.cell_data.csv',\n",
       " 'VIB_hydrop_1.FIXEDCELLS': 'cistopic_objects/VIB_hydrop_1.FIXEDCELLS__cto.scrublet0-4.fmx.singlets.model_11topics.dimreduc.consensus.cell_data.csv',\n",
       " 'VIB_hydrop_11.FIXEDCELLS': 'cistopic_objects/VIB_hydrop_11.FIXEDCELLS__cto.scrublet0-4.fmx.singlets.model_10topics.dimreduc.consensus.cell_data.csv',\n",
       " 'VIB_hydrop_12.FIXEDCELLS': 'cistopic_objects/VIB_hydrop_12.FIXEDCELLS__cto.scrublet0-4.fmx.singlets.model_10topics.dimreduc.consensus.cell_data.csv',\n",
       " 'VIB_hydrop_2.FIXEDCELLS': 'cistopic_objects/VIB_hydrop_2.FIXEDCELLS__cto.scrublet0-4.fmx.singlets.model_8topics.dimreduc.consensus.cell_data.csv',\n",
       " 'VIB_hydrop_21.FIXEDCELLS': 'cistopic_objects/VIB_hydrop_21.FIXEDCELLS__cto.scrublet0-4.fmx.singlets.model_12topics.dimreduc.consensus.cell_data.csv',\n",
       " 'VIB_hydrop_22.FIXEDCELLS': 'cistopic_objects/VIB_hydrop_22.FIXEDCELLS__cto.scrublet0-4.fmx.singlets.model_9topics.dimreduc.consensus.cell_data.csv'}"
      ]
     },
     "execution_count": 20,
     "metadata": {},
     "output_type": "execute_result"
    }
   ],
   "source": [
    "cell_data_path_dict = {\n",
    "    x.split(\"/\")[-1].split(f\"__\")[0]: x\n",
    "    for x in sorted(glob.glob(\"cistopic_objects/*.cell_data.csv\"))\n",
    "}\n",
    "cell_data_path_dict"
   ]
  },
  {
   "cell_type": "code",
   "execution_count": 21,
   "id": "5a6f3277",
   "metadata": {
    "papermill": {
     "duration": 0.013705,
     "end_time": "2022-09-14T14:35:59.742870",
     "exception": false,
     "start_time": "2022-09-14T14:35:59.729165",
     "status": "completed"
    },
    "tags": []
   },
   "outputs": [
    {
     "data": {
      "text/plain": [
       "{'BIO_ddseq_1.FIXEDCELLS': 'SCREEN_peaks/BIO_ddseq_1.FIXEDCELLS__SCREEN_pseudobulk_bw_files',\n",
       " 'BIO_ddseq_2.FIXEDCELLS': 'SCREEN_peaks/BIO_ddseq_2.FIXEDCELLS__SCREEN_pseudobulk_bw_files',\n",
       " 'BIO_ddseq_3.FIXEDCELLS': 'SCREEN_peaks/BIO_ddseq_3.FIXEDCELLS__SCREEN_pseudobulk_bw_files',\n",
       " 'BIO_ddseq_4.FIXEDCELLS': 'SCREEN_peaks/BIO_ddseq_4.FIXEDCELLS__SCREEN_pseudobulk_bw_files',\n",
       " 'BRO_mtscatac_1.FIXEDCELLS': 'SCREEN_peaks/BRO_mtscatac_1.FIXEDCELLS__SCREEN_pseudobulk_bw_files',\n",
       " 'BRO_mtscatac_2.FIXEDCELLS': 'SCREEN_peaks/BRO_mtscatac_2.FIXEDCELLS__SCREEN_pseudobulk_bw_files',\n",
       " 'CNA_10xmultiome_1.FIXEDCELLS': 'SCREEN_peaks/CNA_10xmultiome_1.FIXEDCELLS__SCREEN_pseudobulk_bw_files',\n",
       " 'CNA_10xmultiome_2.FIXEDCELLS': 'SCREEN_peaks/CNA_10xmultiome_2.FIXEDCELLS__SCREEN_pseudobulk_bw_files',\n",
       " 'CNA_10xv11_1.FIXEDCELLS': 'SCREEN_peaks/CNA_10xv11_1.FIXEDCELLS__SCREEN_pseudobulk_bw_files',\n",
       " 'CNA_10xv11_2.FIXEDCELLS': 'SCREEN_peaks/CNA_10xv11_2.FIXEDCELLS__SCREEN_pseudobulk_bw_files',\n",
       " 'CNA_10xv11_3.FIXEDCELLS': 'SCREEN_peaks/CNA_10xv11_3.FIXEDCELLS__SCREEN_pseudobulk_bw_files',\n",
       " 'CNA_10xv11_4.FIXEDCELLS': 'SCREEN_peaks/CNA_10xv11_4.FIXEDCELLS__SCREEN_pseudobulk_bw_files',\n",
       " 'CNA_10xv11_5.FIXEDCELLS': 'SCREEN_peaks/CNA_10xv11_5.FIXEDCELLS__SCREEN_pseudobulk_bw_files',\n",
       " 'CNA_10xv2_1.FIXEDCELLS': 'SCREEN_peaks/CNA_10xv2_1.FIXEDCELLS__SCREEN_pseudobulk_bw_files',\n",
       " 'CNA_10xv2_2.FIXEDCELLS': 'SCREEN_peaks/CNA_10xv2_2.FIXEDCELLS__SCREEN_pseudobulk_bw_files',\n",
       " 'CNA_hydrop_1.FIXEDCELLS': 'SCREEN_peaks/CNA_hydrop_1.FIXEDCELLS__SCREEN_pseudobulk_bw_files',\n",
       " 'CNA_hydrop_2.FIXEDCELLS': 'SCREEN_peaks/CNA_hydrop_2.FIXEDCELLS__SCREEN_pseudobulk_bw_files',\n",
       " 'CNA_hydrop_3.FIXEDCELLS': 'SCREEN_peaks/CNA_hydrop_3.FIXEDCELLS__SCREEN_pseudobulk_bw_files',\n",
       " 'CNA_mtscatac_1.FIXEDCELLS': 'SCREEN_peaks/CNA_mtscatac_1.FIXEDCELLS__SCREEN_pseudobulk_bw_files',\n",
       " 'CNA_mtscatac_2.FIXEDCELLS': 'SCREEN_peaks/CNA_mtscatac_2.FIXEDCELLS__SCREEN_pseudobulk_bw_files',\n",
       " 'EPF_hydrop_1.FIXEDCELLS': 'SCREEN_peaks/EPF_hydrop_1.FIXEDCELLS__SCREEN_pseudobulk_bw_files',\n",
       " 'EPF_hydrop_2.FIXEDCELLS': 'SCREEN_peaks/EPF_hydrop_2.FIXEDCELLS__SCREEN_pseudobulk_bw_files',\n",
       " 'EPF_hydrop_3.FIXEDCELLS': 'SCREEN_peaks/EPF_hydrop_3.FIXEDCELLS__SCREEN_pseudobulk_bw_files',\n",
       " 'EPF_hydrop_4.FIXEDCELLS': 'SCREEN_peaks/EPF_hydrop_4.FIXEDCELLS__SCREEN_pseudobulk_bw_files',\n",
       " 'HAR_ddseq_1.FIXEDCELLS': 'SCREEN_peaks/HAR_ddseq_1.FIXEDCELLS__SCREEN_pseudobulk_bw_files',\n",
       " 'HAR_ddseq_2.FIXEDCELLS': 'SCREEN_peaks/HAR_ddseq_2.FIXEDCELLS__SCREEN_pseudobulk_bw_files',\n",
       " 'MDC_mtscatac_1.FIXEDCELLS': 'SCREEN_peaks/MDC_mtscatac_1.FIXEDCELLS__SCREEN_pseudobulk_bw_files',\n",
       " 'MDC_mtscatac_2.FIXEDCELLS': 'SCREEN_peaks/MDC_mtscatac_2.FIXEDCELLS__SCREEN_pseudobulk_bw_files',\n",
       " 'OHS_s3atac_1.FIXEDCELLS': 'SCREEN_peaks/OHS_s3atac_1.FIXEDCELLS__SCREEN_pseudobulk_bw_files',\n",
       " 'OHS_s3atac_2.FIXEDCELLS': 'SCREEN_peaks/OHS_s3atac_2.FIXEDCELLS__SCREEN_pseudobulk_bw_files',\n",
       " 'SAN_10xmultiome_1.FIXEDCELLS': 'SCREEN_peaks/SAN_10xmultiome_1.FIXEDCELLS__SCREEN_pseudobulk_bw_files',\n",
       " 'SAN_10xmultiome_2.FIXEDCELLS': 'SCREEN_peaks/SAN_10xmultiome_2.FIXEDCELLS__SCREEN_pseudobulk_bw_files',\n",
       " 'STA_10xv11_1.FIXEDCELLS': 'SCREEN_peaks/STA_10xv11_1.FIXEDCELLS__SCREEN_pseudobulk_bw_files',\n",
       " 'STA_10xv11_2.FIXEDCELLS': 'SCREEN_peaks/STA_10xv11_2.FIXEDCELLS__SCREEN_pseudobulk_bw_files',\n",
       " 'TXG_10xv11_1.FIXEDCELLS': 'SCREEN_peaks/TXG_10xv11_1.FIXEDCELLS__SCREEN_pseudobulk_bw_files',\n",
       " 'TXG_10xv2_1.FIXEDCELLS': 'SCREEN_peaks/TXG_10xv2_1.FIXEDCELLS__SCREEN_pseudobulk_bw_files',\n",
       " 'TXG_10xv2_2.FIXEDCELLS': 'SCREEN_peaks/TXG_10xv2_2.FIXEDCELLS__SCREEN_pseudobulk_bw_files',\n",
       " 'UCS_ddseq_1.FIXEDCELLS': 'SCREEN_peaks/UCS_ddseq_1.FIXEDCELLS__SCREEN_pseudobulk_bw_files',\n",
       " 'UCS_ddseq_2.FIXEDCELLS': 'SCREEN_peaks/UCS_ddseq_2.FIXEDCELLS__SCREEN_pseudobulk_bw_files',\n",
       " 'VIB_10xmultiome_1.FIXEDCELLS': 'SCREEN_peaks/VIB_10xmultiome_1.FIXEDCELLS__SCREEN_pseudobulk_bw_files',\n",
       " 'VIB_10xmultiome_2.FIXEDCELLS': 'SCREEN_peaks/VIB_10xmultiome_2.FIXEDCELLS__SCREEN_pseudobulk_bw_files',\n",
       " 'VIB_10xv1_1.FIXEDCELLS': 'SCREEN_peaks/VIB_10xv1_1.FIXEDCELLS__SCREEN_pseudobulk_bw_files',\n",
       " 'VIB_10xv1_2.FIXEDCELLS': 'SCREEN_peaks/VIB_10xv1_2.FIXEDCELLS__SCREEN_pseudobulk_bw_files',\n",
       " 'VIB_10xv2_1.FIXEDCELLS': 'SCREEN_peaks/VIB_10xv2_1.FIXEDCELLS__SCREEN_pseudobulk_bw_files',\n",
       " 'VIB_10xv2_2.FIXEDCELLS': 'SCREEN_peaks/VIB_10xv2_2.FIXEDCELLS__SCREEN_pseudobulk_bw_files',\n",
       " 'VIB_hydrop_1.FIXEDCELLS': 'SCREEN_peaks/VIB_hydrop_1.FIXEDCELLS__SCREEN_pseudobulk_bw_files',\n",
       " 'VIB_hydrop_11.FIXEDCELLS': 'SCREEN_peaks/VIB_hydrop_11.FIXEDCELLS__SCREEN_pseudobulk_bw_files',\n",
       " 'VIB_hydrop_12.FIXEDCELLS': 'SCREEN_peaks/VIB_hydrop_12.FIXEDCELLS__SCREEN_pseudobulk_bw_files',\n",
       " 'VIB_hydrop_2.FIXEDCELLS': 'SCREEN_peaks/VIB_hydrop_2.FIXEDCELLS__SCREEN_pseudobulk_bw_files',\n",
       " 'VIB_hydrop_21.FIXEDCELLS': 'SCREEN_peaks/VIB_hydrop_21.FIXEDCELLS__SCREEN_pseudobulk_bw_files',\n",
       " 'VIB_hydrop_22.FIXEDCELLS': 'SCREEN_peaks/VIB_hydrop_22.FIXEDCELLS__SCREEN_pseudobulk_bw_files'}"
      ]
     },
     "execution_count": 21,
     "metadata": {},
     "output_type": "execute_result"
    }
   ],
   "source": [
    "bw_path_dict = {\n",
    "    x.split(\"/\")[-1].split(f\"__\")[0]: x\n",
    "    for x in sorted(glob.glob(\"SCREEN_peaks/*_pseudobulk_bw_files\"))\n",
    "}\n",
    "bw_path_dict"
   ]
  },
  {
   "cell_type": "code",
   "execution_count": 22,
   "id": "2e609a67",
   "metadata": {
    "papermill": {
     "duration": 0.012907,
     "end_time": "2022-09-14T14:35:59.759620",
     "exception": false,
     "start_time": "2022-09-14T14:35:59.746713",
     "status": "completed"
    },
    "tags": []
   },
   "outputs": [
    {
     "data": {
      "text/plain": [
       "{'BIO_ddseq_1.FIXEDCELLS': 'SCREEN_peaks/BIO_ddseq_1.FIXEDCELLS__SCREEN_pseudobulk_bed_files',\n",
       " 'BIO_ddseq_2.FIXEDCELLS': 'SCREEN_peaks/BIO_ddseq_2.FIXEDCELLS__SCREEN_pseudobulk_bed_files',\n",
       " 'BIO_ddseq_3.FIXEDCELLS': 'SCREEN_peaks/BIO_ddseq_3.FIXEDCELLS__SCREEN_pseudobulk_bed_files',\n",
       " 'BIO_ddseq_4.FIXEDCELLS': 'SCREEN_peaks/BIO_ddseq_4.FIXEDCELLS__SCREEN_pseudobulk_bed_files',\n",
       " 'BRO_mtscatac_1.FIXEDCELLS': 'SCREEN_peaks/BRO_mtscatac_1.FIXEDCELLS__SCREEN_pseudobulk_bed_files',\n",
       " 'BRO_mtscatac_2.FIXEDCELLS': 'SCREEN_peaks/BRO_mtscatac_2.FIXEDCELLS__SCREEN_pseudobulk_bed_files',\n",
       " 'CNA_10xmultiome_1.FIXEDCELLS': 'SCREEN_peaks/CNA_10xmultiome_1.FIXEDCELLS__SCREEN_pseudobulk_bed_files',\n",
       " 'CNA_10xmultiome_2.FIXEDCELLS': 'SCREEN_peaks/CNA_10xmultiome_2.FIXEDCELLS__SCREEN_pseudobulk_bed_files',\n",
       " 'CNA_10xv11_1.FIXEDCELLS': 'SCREEN_peaks/CNA_10xv11_1.FIXEDCELLS__SCREEN_pseudobulk_bed_files',\n",
       " 'CNA_10xv11_2.FIXEDCELLS': 'SCREEN_peaks/CNA_10xv11_2.FIXEDCELLS__SCREEN_pseudobulk_bed_files',\n",
       " 'CNA_10xv11_3.FIXEDCELLS': 'SCREEN_peaks/CNA_10xv11_3.FIXEDCELLS__SCREEN_pseudobulk_bed_files',\n",
       " 'CNA_10xv11_4.FIXEDCELLS': 'SCREEN_peaks/CNA_10xv11_4.FIXEDCELLS__SCREEN_pseudobulk_bed_files',\n",
       " 'CNA_10xv11_5.FIXEDCELLS': 'SCREEN_peaks/CNA_10xv11_5.FIXEDCELLS__SCREEN_pseudobulk_bed_files',\n",
       " 'CNA_10xv2_1.FIXEDCELLS': 'SCREEN_peaks/CNA_10xv2_1.FIXEDCELLS__SCREEN_pseudobulk_bed_files',\n",
       " 'CNA_10xv2_2.FIXEDCELLS': 'SCREEN_peaks/CNA_10xv2_2.FIXEDCELLS__SCREEN_pseudobulk_bed_files',\n",
       " 'CNA_hydrop_1.FIXEDCELLS': 'SCREEN_peaks/CNA_hydrop_1.FIXEDCELLS__SCREEN_pseudobulk_bed_files',\n",
       " 'CNA_hydrop_2.FIXEDCELLS': 'SCREEN_peaks/CNA_hydrop_2.FIXEDCELLS__SCREEN_pseudobulk_bed_files',\n",
       " 'CNA_hydrop_3.FIXEDCELLS': 'SCREEN_peaks/CNA_hydrop_3.FIXEDCELLS__SCREEN_pseudobulk_bed_files',\n",
       " 'CNA_mtscatac_1.FIXEDCELLS': 'SCREEN_peaks/CNA_mtscatac_1.FIXEDCELLS__SCREEN_pseudobulk_bed_files',\n",
       " 'CNA_mtscatac_2.FIXEDCELLS': 'SCREEN_peaks/CNA_mtscatac_2.FIXEDCELLS__SCREEN_pseudobulk_bed_files',\n",
       " 'EPF_hydrop_1.FIXEDCELLS': 'SCREEN_peaks/EPF_hydrop_1.FIXEDCELLS__SCREEN_pseudobulk_bed_files',\n",
       " 'EPF_hydrop_2.FIXEDCELLS': 'SCREEN_peaks/EPF_hydrop_2.FIXEDCELLS__SCREEN_pseudobulk_bed_files',\n",
       " 'EPF_hydrop_3.FIXEDCELLS': 'SCREEN_peaks/EPF_hydrop_3.FIXEDCELLS__SCREEN_pseudobulk_bed_files',\n",
       " 'EPF_hydrop_4.FIXEDCELLS': 'SCREEN_peaks/EPF_hydrop_4.FIXEDCELLS__SCREEN_pseudobulk_bed_files',\n",
       " 'HAR_ddseq_1.FIXEDCELLS': 'SCREEN_peaks/HAR_ddseq_1.FIXEDCELLS__SCREEN_pseudobulk_bed_files',\n",
       " 'HAR_ddseq_2.FIXEDCELLS': 'SCREEN_peaks/HAR_ddseq_2.FIXEDCELLS__SCREEN_pseudobulk_bed_files',\n",
       " 'MDC_mtscatac_1.FIXEDCELLS': 'SCREEN_peaks/MDC_mtscatac_1.FIXEDCELLS__SCREEN_pseudobulk_bed_files',\n",
       " 'MDC_mtscatac_2.FIXEDCELLS': 'SCREEN_peaks/MDC_mtscatac_2.FIXEDCELLS__SCREEN_pseudobulk_bed_files',\n",
       " 'OHS_s3atac_1.FIXEDCELLS': 'SCREEN_peaks/OHS_s3atac_1.FIXEDCELLS__SCREEN_pseudobulk_bed_files',\n",
       " 'OHS_s3atac_2.FIXEDCELLS': 'SCREEN_peaks/OHS_s3atac_2.FIXEDCELLS__SCREEN_pseudobulk_bed_files',\n",
       " 'SAN_10xmultiome_1.FIXEDCELLS': 'SCREEN_peaks/SAN_10xmultiome_1.FIXEDCELLS__SCREEN_pseudobulk_bed_files',\n",
       " 'SAN_10xmultiome_2.FIXEDCELLS': 'SCREEN_peaks/SAN_10xmultiome_2.FIXEDCELLS__SCREEN_pseudobulk_bed_files',\n",
       " 'STA_10xv11_1.FIXEDCELLS': 'SCREEN_peaks/STA_10xv11_1.FIXEDCELLS__SCREEN_pseudobulk_bed_files',\n",
       " 'STA_10xv11_2.FIXEDCELLS': 'SCREEN_peaks/STA_10xv11_2.FIXEDCELLS__SCREEN_pseudobulk_bed_files',\n",
       " 'TXG_10xv11_1.FIXEDCELLS': 'SCREEN_peaks/TXG_10xv11_1.FIXEDCELLS__SCREEN_pseudobulk_bed_files',\n",
       " 'TXG_10xv2_1.FIXEDCELLS': 'SCREEN_peaks/TXG_10xv2_1.FIXEDCELLS__SCREEN_pseudobulk_bed_files',\n",
       " 'TXG_10xv2_2.FIXEDCELLS': 'SCREEN_peaks/TXG_10xv2_2.FIXEDCELLS__SCREEN_pseudobulk_bed_files',\n",
       " 'UCS_ddseq_1.FIXEDCELLS': 'SCREEN_peaks/UCS_ddseq_1.FIXEDCELLS__SCREEN_pseudobulk_bed_files',\n",
       " 'UCS_ddseq_2.FIXEDCELLS': 'SCREEN_peaks/UCS_ddseq_2.FIXEDCELLS__SCREEN_pseudobulk_bed_files',\n",
       " 'VIB_10xmultiome_1.FIXEDCELLS': 'SCREEN_peaks/VIB_10xmultiome_1.FIXEDCELLS__SCREEN_pseudobulk_bed_files',\n",
       " 'VIB_10xmultiome_2.FIXEDCELLS': 'SCREEN_peaks/VIB_10xmultiome_2.FIXEDCELLS__SCREEN_pseudobulk_bed_files',\n",
       " 'VIB_10xv1_1.FIXEDCELLS': 'SCREEN_peaks/VIB_10xv1_1.FIXEDCELLS__SCREEN_pseudobulk_bed_files',\n",
       " 'VIB_10xv1_2.FIXEDCELLS': 'SCREEN_peaks/VIB_10xv1_2.FIXEDCELLS__SCREEN_pseudobulk_bed_files',\n",
       " 'VIB_10xv2_1.FIXEDCELLS': 'SCREEN_peaks/VIB_10xv2_1.FIXEDCELLS__SCREEN_pseudobulk_bed_files',\n",
       " 'VIB_10xv2_2.FIXEDCELLS': 'SCREEN_peaks/VIB_10xv2_2.FIXEDCELLS__SCREEN_pseudobulk_bed_files',\n",
       " 'VIB_hydrop_1.FIXEDCELLS': 'SCREEN_peaks/VIB_hydrop_1.FIXEDCELLS__SCREEN_pseudobulk_bed_files',\n",
       " 'VIB_hydrop_11.FIXEDCELLS': 'SCREEN_peaks/VIB_hydrop_11.FIXEDCELLS__SCREEN_pseudobulk_bed_files',\n",
       " 'VIB_hydrop_12.FIXEDCELLS': 'SCREEN_peaks/VIB_hydrop_12.FIXEDCELLS__SCREEN_pseudobulk_bed_files',\n",
       " 'VIB_hydrop_2.FIXEDCELLS': 'SCREEN_peaks/VIB_hydrop_2.FIXEDCELLS__SCREEN_pseudobulk_bed_files',\n",
       " 'VIB_hydrop_21.FIXEDCELLS': 'SCREEN_peaks/VIB_hydrop_21.FIXEDCELLS__SCREEN_pseudobulk_bed_files',\n",
       " 'VIB_hydrop_22.FIXEDCELLS': 'SCREEN_peaks/VIB_hydrop_22.FIXEDCELLS__SCREEN_pseudobulk_bed_files'}"
      ]
     },
     "execution_count": 22,
     "metadata": {},
     "output_type": "execute_result"
    }
   ],
   "source": [
    "bed_path_dict = {\n",
    "    x.split(\"/\")[-1].split(f\"__\")[0]: x\n",
    "    for x in sorted(glob.glob(\"SCREEN_peaks/*_pseudobulk_bed_files\"))\n",
    "}\n",
    "bed_path_dict"
   ]
  },
  {
   "cell_type": "code",
   "execution_count": 23,
   "id": "11eab7b8",
   "metadata": {
    "papermill": {
     "duration": 0.040825,
     "end_time": "2022-09-14T14:35:59.804223",
     "exception": false,
     "start_time": "2022-09-14T14:35:59.763398",
     "status": "completed"
    },
    "tags": []
   },
   "outputs": [],
   "source": [
    "for sample in bed_path_dict.keys():\n",
    "    bed_paths = {\n",
    "        x.split(\"/\")[-1].split(\"__\")[0].split(\".bed.gz\")[0]: x\n",
    "        for x in glob.glob(bed_path_dict[sample] + \"/*\")\n",
    "    }"
   ]
  },
  {
   "cell_type": "code",
   "execution_count": 24,
   "id": "a3274247",
   "metadata": {
    "papermill": {
     "duration": 0.008698,
     "end_time": "2022-09-14T14:35:59.816821",
     "exception": false,
     "start_time": "2022-09-14T14:35:59.808123",
     "status": "completed"
    },
    "tags": []
   },
   "outputs": [],
   "source": [
    "from pycisTopic.pseudobulk_peak_calling import *"
   ]
  },
  {
   "cell_type": "code",
   "execution_count": 25,
   "id": "de79cc51",
   "metadata": {
    "papermill": {
     "duration": 0.008668,
     "end_time": "2022-09-14T14:35:59.829303",
     "exception": false,
     "start_time": "2022-09-14T14:35:59.820635",
     "status": "completed"
    },
    "tags": []
   },
   "outputs": [],
   "source": [
    "import ray"
   ]
  },
  {
   "cell_type": "code",
   "execution_count": 26,
   "id": "f044101d",
   "metadata": {
    "papermill": {
     "duration": 0.234595,
     "end_time": "2022-09-14T14:36:00.067763",
     "exception": false,
     "start_time": "2022-09-14T14:35:59.833168",
     "status": "completed"
    },
    "tags": []
   },
   "outputs": [
    {
     "name": "stdout",
     "output_type": "stream",
     "text": [
      "SCREEN_peaks/BIO_ddseq_1.FIXEDCELLS__SCREEN_narrow_peaks_dict.pkl already exists\n",
      "SCREEN_peaks/BIO_ddseq_2.FIXEDCELLS__SCREEN_narrow_peaks_dict.pkl already exists\n",
      "SCREEN_peaks/BIO_ddseq_3.FIXEDCELLS__SCREEN_narrow_peaks_dict.pkl already exists\n",
      "SCREEN_peaks/BIO_ddseq_4.FIXEDCELLS__SCREEN_narrow_peaks_dict.pkl already exists\n",
      "SCREEN_peaks/BRO_mtscatac_1.FIXEDCELLS__SCREEN_narrow_peaks_dict.pkl already exists\n",
      "SCREEN_peaks/BRO_mtscatac_2.FIXEDCELLS__SCREEN_narrow_peaks_dict.pkl already exists\n",
      "SCREEN_peaks/CNA_10xmultiome_1.FIXEDCELLS__SCREEN_narrow_peaks_dict.pkl already exists\n",
      "SCREEN_peaks/CNA_10xmultiome_2.FIXEDCELLS__SCREEN_narrow_peaks_dict.pkl already exists\n",
      "SCREEN_peaks/CNA_10xv11_1.FIXEDCELLS__SCREEN_narrow_peaks_dict.pkl already exists\n",
      "SCREEN_peaks/CNA_10xv11_2.FIXEDCELLS__SCREEN_narrow_peaks_dict.pkl already exists\n",
      "SCREEN_peaks/CNA_10xv11_3.FIXEDCELLS__SCREEN_narrow_peaks_dict.pkl already exists\n",
      "SCREEN_peaks/CNA_10xv11_4.FIXEDCELLS__SCREEN_narrow_peaks_dict.pkl already exists\n",
      "SCREEN_peaks/CNA_10xv11_5.FIXEDCELLS__SCREEN_narrow_peaks_dict.pkl already exists\n",
      "SCREEN_peaks/CNA_10xv2_1.FIXEDCELLS__SCREEN_narrow_peaks_dict.pkl already exists\n",
      "SCREEN_peaks/CNA_10xv2_2.FIXEDCELLS__SCREEN_narrow_peaks_dict.pkl already exists\n",
      "SCREEN_peaks/CNA_hydrop_1.FIXEDCELLS__SCREEN_narrow_peaks_dict.pkl already exists\n",
      "SCREEN_peaks/CNA_hydrop_2.FIXEDCELLS__SCREEN_narrow_peaks_dict.pkl already exists\n",
      "SCREEN_peaks/CNA_hydrop_3.FIXEDCELLS__SCREEN_narrow_peaks_dict.pkl already exists\n",
      "SCREEN_peaks/CNA_mtscatac_1.FIXEDCELLS__SCREEN_narrow_peaks_dict.pkl already exists\n",
      "SCREEN_peaks/CNA_mtscatac_2.FIXEDCELLS__SCREEN_narrow_peaks_dict.pkl already exists\n",
      "SCREEN_peaks/EPF_hydrop_1.FIXEDCELLS__SCREEN_narrow_peaks_dict.pkl already exists\n",
      "SCREEN_peaks/EPF_hydrop_2.FIXEDCELLS__SCREEN_narrow_peaks_dict.pkl already exists\n",
      "SCREEN_peaks/EPF_hydrop_3.FIXEDCELLS__SCREEN_narrow_peaks_dict.pkl already exists\n",
      "SCREEN_peaks/EPF_hydrop_4.FIXEDCELLS__SCREEN_narrow_peaks_dict.pkl already exists\n",
      "SCREEN_peaks/HAR_ddseq_1.FIXEDCELLS__SCREEN_narrow_peaks_dict.pkl already exists\n",
      "SCREEN_peaks/HAR_ddseq_2.FIXEDCELLS__SCREEN_narrow_peaks_dict.pkl already exists\n",
      "SCREEN_peaks/MDC_mtscatac_1.FIXEDCELLS__SCREEN_narrow_peaks_dict.pkl already exists\n",
      "SCREEN_peaks/MDC_mtscatac_2.FIXEDCELLS__SCREEN_narrow_peaks_dict.pkl already exists\n",
      "SCREEN_peaks/OHS_s3atac_1.FIXEDCELLS__SCREEN_narrow_peaks_dict.pkl already exists\n",
      "SCREEN_peaks/OHS_s3atac_2.FIXEDCELLS__SCREEN_narrow_peaks_dict.pkl already exists\n",
      "SCREEN_peaks/SAN_10xmultiome_1.FIXEDCELLS__SCREEN_narrow_peaks_dict.pkl already exists\n",
      "SCREEN_peaks/SAN_10xmultiome_2.FIXEDCELLS__SCREEN_narrow_peaks_dict.pkl already exists\n",
      "SCREEN_peaks/STA_10xv11_1.FIXEDCELLS__SCREEN_narrow_peaks_dict.pkl already exists\n",
      "SCREEN_peaks/STA_10xv11_2.FIXEDCELLS__SCREEN_narrow_peaks_dict.pkl already exists\n",
      "SCREEN_peaks/TXG_10xv11_1.FIXEDCELLS__SCREEN_narrow_peaks_dict.pkl already exists\n",
      "SCREEN_peaks/TXG_10xv2_1.FIXEDCELLS__SCREEN_narrow_peaks_dict.pkl already exists\n",
      "SCREEN_peaks/TXG_10xv2_2.FIXEDCELLS__SCREEN_narrow_peaks_dict.pkl already exists\n",
      "SCREEN_peaks/UCS_ddseq_1.FIXEDCELLS__SCREEN_narrow_peaks_dict.pkl already exists\n",
      "SCREEN_peaks/UCS_ddseq_2.FIXEDCELLS__SCREEN_narrow_peaks_dict.pkl already exists\n",
      "SCREEN_peaks/VIB_10xmultiome_1.FIXEDCELLS__SCREEN_narrow_peaks_dict.pkl already exists\n",
      "SCREEN_peaks/VIB_10xmultiome_2.FIXEDCELLS__SCREEN_narrow_peaks_dict.pkl already exists\n",
      "SCREEN_peaks/VIB_10xv1_1.FIXEDCELLS__SCREEN_narrow_peaks_dict.pkl already exists\n",
      "SCREEN_peaks/VIB_10xv1_2.FIXEDCELLS__SCREEN_narrow_peaks_dict.pkl already exists\n",
      "SCREEN_peaks/VIB_10xv2_1.FIXEDCELLS__SCREEN_narrow_peaks_dict.pkl already exists\n",
      "SCREEN_peaks/VIB_10xv2_2.FIXEDCELLS__SCREEN_narrow_peaks_dict.pkl already exists\n",
      "SCREEN_peaks/VIB_hydrop_1.FIXEDCELLS__SCREEN_narrow_peaks_dict.pkl already exists\n",
      "SCREEN_peaks/VIB_hydrop_11.FIXEDCELLS__SCREEN_narrow_peaks_dict.pkl already exists\n",
      "SCREEN_peaks/VIB_hydrop_12.FIXEDCELLS__SCREEN_narrow_peaks_dict.pkl already exists\n",
      "SCREEN_peaks/VIB_hydrop_2.FIXEDCELLS__SCREEN_narrow_peaks_dict.pkl already exists\n",
      "SCREEN_peaks/VIB_hydrop_21.FIXEDCELLS__SCREEN_narrow_peaks_dict.pkl already exists\n",
      "SCREEN_peaks/VIB_hydrop_22.FIXEDCELLS__SCREEN_narrow_peaks_dict.pkl already exists\n"
     ]
    }
   ],
   "source": [
    "narrow_peaks_dict = {}\n",
    "ray.shutdown()\n",
    "for sample in bed_path_dict.keys():\n",
    "    narrow_peaks_dict_path = bed_path_dict[sample].replace(\n",
    "        \"_pseudobulk_bed_files\", \"_narrow_peaks_dict.pkl\"\n",
    "    )\n",
    "    peak_path = os.path.join(\"SCREEN_peaks\", f\"{sample}__SCREEN_consensus_peaks\")\n",
    "    if not os.path.exists(peak_path):\n",
    "        os.mkdir(peak_path)\n",
    "\n",
    "    if not os.path.exists(narrow_peaks_dict_path):\n",
    "        cell_data = pd.read_csv(cell_data_path_dict[sample])\n",
    "        cto_celltypes = set(\n",
    "            [\n",
    "                x.replace(\" \", \"\").replace(\"+\", \"\").replace(\"_\", \"\")\n",
    "                for x in set(cell_data[\"consensus_cell_type\"].unique())\n",
    "            ]\n",
    "        )\n",
    "\n",
    "        bed_celltypes = set(\n",
    "            [\n",
    "                x.split(\".\")[0].replace(\"+\", \"\").replace(\"_\", \"\")\n",
    "                for x in os.listdir(bed_path_dict[sample])\n",
    "            ]\n",
    "        )\n",
    "\n",
    "        if cto_celltypes == bed_celltypes:\n",
    "            print(f\"Starting {narrow_peaks_dict_path}\")\n",
    "            bed_paths = {\n",
    "                x.split(\"/\")[-1].split(\"__\")[0].split(\".bed.gz\")[0]: x\n",
    "                for x in glob.glob(bed_path_dict[sample] + \"/*\")\n",
    "            }\n",
    "            narrow_peaks_dict = peak_calling(\n",
    "                macs_path=\"macs2\",\n",
    "                bed_paths=bed_paths,\n",
    "                outdir=peak_path,\n",
    "                genome_size=\"hs\",\n",
    "                n_cpu=20,\n",
    "                input_format=\"BEDPE\",\n",
    "                shift=73,\n",
    "                ext_size=146,\n",
    "                keep_dup=\"all\",\n",
    "                q_value=0.05,\n",
    "            )\n",
    "            with open(narrow_peaks_dict_path, \"wb\") as f:\n",
    "                pickle.dump(narrow_peaks_dict, f)\n",
    "        else:\n",
    "            print(f\"{sample} cell types not matching!! Rerun bed file writing.\")\n",
    "            print(f\"\\t{bed_celltypes}\")\n",
    "            print(f\"\\t{cto_celltypes}\")\n",
    "    else:\n",
    "        print(f\"{narrow_peaks_dict_path} already exists\")"
   ]
  },
  {
   "cell_type": "code",
   "execution_count": 27,
   "id": "6b0f1b62",
   "metadata": {
    "papermill": {
     "duration": 0.010619,
     "end_time": "2022-09-14T14:36:00.082336",
     "exception": false,
     "start_time": "2022-09-14T14:36:00.071717",
     "status": "completed"
    },
    "tags": []
   },
   "outputs": [
    {
     "data": {
      "text/plain": [
       "'VIB_hydrop_22.FIXEDCELLS'"
      ]
     },
     "execution_count": 27,
     "metadata": {},
     "output_type": "execute_result"
    }
   ],
   "source": [
    "sample"
   ]
  },
  {
   "cell_type": "code",
   "execution_count": 28,
   "id": "30a5f222",
   "metadata": {
    "papermill": {
     "duration": 0.011214,
     "end_time": "2022-09-14T14:36:00.097519",
     "exception": false,
     "start_time": "2022-09-14T14:36:00.086305",
     "status": "completed"
    },
    "tags": []
   },
   "outputs": [
    {
     "data": {
      "text/plain": [
       "array(['B cell', 'CD14+ monocyte', 'CD4+ T cell', 'Cytotoxic T cell'],\n",
       "      dtype=object)"
      ]
     },
     "execution_count": 28,
     "metadata": {},
     "output_type": "execute_result"
    }
   ],
   "source": [
    "cell_data[\"consensus_cell_type\"].unique()"
   ]
  },
  {
   "cell_type": "code",
   "execution_count": null,
   "id": "2f22cf75",
   "metadata": {
    "papermill": {
     "duration": 0.003986,
     "end_time": "2022-09-14T14:36:00.105569",
     "exception": false,
     "start_time": "2022-09-14T14:36:00.101583",
     "status": "completed"
    },
    "tags": []
   },
   "outputs": [],
   "source": []
  },
  {
   "cell_type": "code",
   "execution_count": null,
   "id": "d94a8b1e",
   "metadata": {
    "papermill": {
     "duration": 0.003926,
     "end_time": "2022-09-14T14:36:00.113587",
     "exception": false,
     "start_time": "2022-09-14T14:36:00.109661",
     "status": "completed"
    },
    "tags": []
   },
   "outputs": [],
   "source": []
  }
 ],
 "metadata": {
  "kernelspec": {
   "display_name": "20220815_pycistopic.sif",
   "language": "python",
   "name": "pycistopic_20220815"
  },
  "language_info": {
   "codemirror_mode": {
    "name": "ipython",
    "version": 3
   },
   "file_extension": ".py",
   "mimetype": "text/x-python",
   "name": "python",
   "nbconvert_exporter": "python",
   "pygments_lexer": "ipython3",
   "version": "3.8.13"
  },
  "papermill": {
   "default_parameters": {},
   "duration": 24.568493,
   "end_time": "2022-09-14T14:36:01.928928",
   "environment_variables": {},
   "exception": null,
   "input_path": "6c_call_consensus_peaks.ipynb",
   "output_path": "6c_call_consensus_peaks.OUT.ipynb",
   "parameters": {},
   "start_time": "2022-09-14T14:35:37.360435",
   "version": "2.3.4"
  }
 },
 "nbformat": 4,
 "nbformat_minor": 5
}

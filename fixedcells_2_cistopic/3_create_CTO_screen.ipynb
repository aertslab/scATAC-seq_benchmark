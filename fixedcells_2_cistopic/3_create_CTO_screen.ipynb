{
 "cells": [
  {
   "cell_type": "markdown",
   "id": "0fc62a77",
   "metadata": {
    "papermill": {
     "duration": 0.007249,
     "end_time": "2022-08-27T21:55:24.397142",
     "exception": false,
     "start_time": "2022-08-27T21:55:24.389893",
     "status": "completed"
    },
    "tags": []
   },
   "source": [
    "# pycisTopic analysis\n",
    "\n",
    "Full dataset, using SCREEN regions."
   ]
  },
  {
   "cell_type": "code",
   "execution_count": 54,
   "id": "dccbdcef",
   "metadata": {
    "papermill": {
     "duration": 3.318412,
     "end_time": "2022-08-27T21:55:27.721988",
     "exception": false,
     "start_time": "2022-08-27T21:55:24.403576",
     "status": "completed"
    },
    "tags": []
   },
   "outputs": [
    {
     "name": "stdout",
     "output_type": "stream",
     "text": [
      "The nb_black extension is already loaded. To reload it, use:\n",
      "  %reload_ext nb_black\n"
     ]
    },
    {
     "data": {
      "application/javascript": [
       "\n",
       "            setTimeout(function() {\n",
       "                var nbb_cell_id = 54;\n",
       "                var nbb_unformatted_code = \"import pycisTopic\\npycisTopic.__version__\\n\\nimport warnings\\nwarnings.filterwarnings('ignore')\\nwarnings.simplefilter('ignore')\\n\\nimport pickle\\nimport pandas as pd\\n\\nimport os\\n\\n\\nimport glob\\nfrom collections import OrderedDict\\n%load_ext nb_black\";\n",
       "                var nbb_formatted_code = \"import pycisTopic\\n\\npycisTopic.__version__\\n\\nimport warnings\\n\\nwarnings.filterwarnings(\\\"ignore\\\")\\nwarnings.simplefilter(\\\"ignore\\\")\\n\\nimport pickle\\nimport pandas as pd\\n\\nimport os\\n\\n\\nimport glob\\nfrom collections import OrderedDict\\n\\n%load_ext nb_black\";\n",
       "                var nbb_cells = Jupyter.notebook.get_cells();\n",
       "                for (var i = 0; i < nbb_cells.length; ++i) {\n",
       "                    if (nbb_cells[i].input_prompt_number == nbb_cell_id) {\n",
       "                        if (nbb_cells[i].get_text() == nbb_unformatted_code) {\n",
       "                             nbb_cells[i].set_text(nbb_formatted_code);\n",
       "                        }\n",
       "                        break;\n",
       "                    }\n",
       "                }\n",
       "            }, 500);\n",
       "            "
      ],
      "text/plain": [
       "<IPython.core.display.Javascript object>"
      ]
     },
     "metadata": {},
     "output_type": "display_data"
    }
   ],
   "source": [
    "import pycisTopic\n",
    "pycisTopic.__version__\n",
    "\n",
    "import warnings\n",
    "warnings.filterwarnings('ignore')\n",
    "warnings.simplefilter('ignore')\n",
    "\n",
    "import pickle\n",
    "import pandas as pd\n",
    "\n",
    "import os\n",
    "\n",
    "\n",
    "import glob\n",
    "from collections import OrderedDict\n",
    "%load_ext nb_black"
   ]
  },
  {
   "cell_type": "code",
   "execution_count": 59,
   "id": "3bac247c",
   "metadata": {
    "papermill": {
     "duration": 0.294886,
     "end_time": "2022-08-27T21:55:28.022813",
     "exception": false,
     "start_time": "2022-08-27T21:55:27.727927",
     "status": "completed"
    },
    "tags": []
   },
   "outputs": [
    {
     "name": "stdout",
     "output_type": "stream",
     "text": [
      "/dodrio/scratch/projects/starting_2022_023/benchmark/scatac_benchmark/fixedcells_2_cistopic\n"
     ]
    },
    {
     "data": {
      "application/javascript": [
       "\n",
       "            setTimeout(function() {\n",
       "                var nbb_cell_id = 59;\n",
       "                var nbb_unformatted_code = \"!pwd\";\n",
       "                var nbb_formatted_code = \"!pwd\";\n",
       "                var nbb_cells = Jupyter.notebook.get_cells();\n",
       "                for (var i = 0; i < nbb_cells.length; ++i) {\n",
       "                    if (nbb_cells[i].input_prompt_number == nbb_cell_id) {\n",
       "                        if (nbb_cells[i].get_text() == nbb_unformatted_code) {\n",
       "                             nbb_cells[i].set_text(nbb_formatted_code);\n",
       "                        }\n",
       "                        break;\n",
       "                    }\n",
       "                }\n",
       "            }, 500);\n",
       "            "
      ],
      "text/plain": [
       "<IPython.core.display.Javascript object>"
      ]
     },
     "metadata": {},
     "output_type": "display_data"
    }
   ],
   "source": [
    "!pwd"
   ]
  },
  {
   "cell_type": "code",
   "execution_count": 60,
   "id": "cb87f5bf",
   "metadata": {
    "papermill": {
     "duration": 0.013242,
     "end_time": "2022-08-27T21:55:28.042047",
     "exception": false,
     "start_time": "2022-08-27T21:55:28.028805",
     "status": "completed"
    },
    "tags": []
   },
   "outputs": [
    {
     "data": {
      "application/javascript": [
       "\n",
       "            setTimeout(function() {\n",
       "                var nbb_cell_id = 60;\n",
       "                var nbb_unformatted_code = \"wdir = '/dodrio/scratch/projects/starting_2022_023/benchmark/scatac_benchmark/fixedcells_2_cistopic'\\nos.chdir(wdir)\";\n",
       "                var nbb_formatted_code = \"wdir = \\\"/dodrio/scratch/projects/starting_2022_023/benchmark/scatac_benchmark/fixedcells_2_cistopic\\\"\\nos.chdir(wdir)\";\n",
       "                var nbb_cells = Jupyter.notebook.get_cells();\n",
       "                for (var i = 0; i < nbb_cells.length; ++i) {\n",
       "                    if (nbb_cells[i].input_prompt_number == nbb_cell_id) {\n",
       "                        if (nbb_cells[i].get_text() == nbb_unformatted_code) {\n",
       "                             nbb_cells[i].set_text(nbb_formatted_code);\n",
       "                        }\n",
       "                        break;\n",
       "                    }\n",
       "                }\n",
       "            }, 500);\n",
       "            "
      ],
      "text/plain": [
       "<IPython.core.display.Javascript object>"
      ]
     },
     "metadata": {},
     "output_type": "display_data"
    }
   ],
   "source": [
    "wdir = '/dodrio/scratch/projects/starting_2022_023/benchmark/scatac_benchmark/fixedcells_2_cistopic'\n",
    "os.chdir(wdir)"
   ]
  },
  {
   "cell_type": "markdown",
   "id": "90d52445",
   "metadata": {
    "papermill": {
     "duration": 0.005237,
     "end_time": "2022-08-27T21:55:28.052754",
     "exception": false,
     "start_time": "2022-08-27T21:55:28.047517",
     "status": "completed"
    },
    "tags": []
   },
   "source": [
    "## Create the cisTopic objects for each sample"
   ]
  },
  {
   "cell_type": "markdown",
   "id": "9e5f748d",
   "metadata": {
    "papermill": {
     "duration": 0.005219,
     "end_time": "2022-08-27T21:55:28.063218",
     "exception": false,
     "start_time": "2022-08-27T21:55:28.057999",
     "status": "completed"
    },
    "tags": []
   },
   "source": [
    "Make a new output dir"
   ]
  },
  {
   "cell_type": "code",
   "execution_count": null,
   "id": "a162dd02",
   "metadata": {
    "papermill": {
     "duration": 0.014158,
     "end_time": "2022-08-27T21:55:28.082792",
     "exception": false,
     "start_time": "2022-08-27T21:55:28.068634",
     "status": "completed"
    },
    "tags": []
   },
   "outputs": [],
   "source": [
    "cistopic_objects_out = 'cistopic_objects'\n",
    "if not os.path.exists(os.path.join(wdir, cistopic_objects_out)):\n",
    "    os.makedirs(os.path.join(wdir, cistopic_objects_out))"
   ]
  },
  {
   "cell_type": "markdown",
   "id": "34eb27ac",
   "metadata": {
    "papermill": {
     "duration": 0.00544,
     "end_time": "2022-08-27T21:55:28.093869",
     "exception": false,
     "start_time": "2022-08-27T21:55:28.088429",
     "status": "completed"
    },
    "tags": []
   },
   "source": [
    "Create a dictionary with fragments files for each sample"
   ]
  },
  {
   "cell_type": "code",
   "execution_count": null,
   "id": "4b7111fa",
   "metadata": {
    "papermill": {
     "duration": 0.01965,
     "end_time": "2022-08-27T21:55:28.118912",
     "exception": false,
     "start_time": "2022-08-27T21:55:28.099262",
     "status": "completed"
    },
    "tags": []
   },
   "outputs": [],
   "source": [
    "filenames = sorted(glob.glob('../1_data_repository/fixedcells_fragments/*.fragments.tsv.gz'))\n",
    "fragments_dict = {}\n",
    "for filename in filenames:\n",
    "    sample = filename.split('/')[-1].split('.fragments.tsv.gz')[0]\n",
    "    fragments_dict[sample] = filename\n",
    "fragments_dict"
   ]
  },
  {
   "cell_type": "code",
   "execution_count": null,
   "id": "1b20085a",
   "metadata": {
    "tags": []
   },
   "outputs": [],
   "source": [
    "len(fragments_dict)"
   ]
  },
  {
   "cell_type": "code",
   "execution_count": null,
   "id": "67047b43",
   "metadata": {
    "papermill": {
     "duration": 0.026056,
     "end_time": "2022-08-27T21:55:28.150938",
     "exception": false,
     "start_time": "2022-08-27T21:55:28.124882",
     "status": "completed"
    },
    "tags": []
   },
   "outputs": [],
   "source": [
    "fragments_sub_dict = {}\n",
    "#regions_sub_dict = {}\n",
    "for sample in fragments_dict:\n",
    "    cto = os.path.join(cistopic_objects_out, sample + \"__cto.pkl\")\n",
    "    print(f\"Checking if {cto} exist...\")\n",
    "    if os.path.exists(cto):\n",
    "        print(f\"\\t{cto} exists! Skipping...\")\n",
    "    else:\n",
    "        print(f\"\\t{cto} does not exist, adding to subdict to generate\")\n",
    "        fragments_sub_dict[sample] = fragments_dict[sample]\n",
    "        metadata_bc_sub_dict = {}\n",
    "        bc_passing_filters_sub_dict = {}\n",
    "        for sample in fragments_sub_dict.keys():\n",
    "            metadata_bc_sub_dict[sample] = f\"cistopic_qc_out/{sample}__metadata_bc.pkl\"\n",
    "            bc_passing_filters_sub_dict[sample] = f\"selected_barcodes/{sample}_bc_passing_filters_otsu.pkl\""
   ]
  },
  {
   "cell_type": "markdown",
   "id": "09e5b9d2",
   "metadata": {
    "papermill": {
     "duration": 0.006066,
     "end_time": "2022-08-27T21:55:28.165478",
     "exception": false,
     "start_time": "2022-08-27T21:55:28.159412",
     "status": "completed"
    },
    "tags": []
   },
   "source": [
    "Read bed files for SCREEN regions and blacklist (blacklisted regions in genome where many reads can map)"
   ]
  },
  {
   "cell_type": "code",
   "execution_count": 9,
   "id": "bfebea11",
   "metadata": {
    "execution": {
     "iopub.execute_input": "2022-09-13T15:54:39.002261Z",
     "iopub.status.busy": "2022-09-13T15:54:39.002062Z",
     "iopub.status.idle": "2022-09-13T15:54:39.007506Z",
     "shell.execute_reply": "2022-09-13T15:54:39.007114Z",
     "shell.execute_reply.started": "2022-09-13T15:54:39.002244Z"
    },
    "papermill": {
     "duration": 0.013102,
     "end_time": "2022-08-27T21:55:28.184635",
     "exception": false,
     "start_time": "2022-08-27T21:55:28.171533",
     "status": "completed"
    },
    "tags": []
   },
   "outputs": [
    {
     "data": {
      "application/javascript": [
       "\n",
       "            setTimeout(function() {\n",
       "                var nbb_cell_id = 9;\n",
       "                var nbb_unformatted_code = \"path_to_regions = '../0_resources/regions/V2.hg38-rDHS-Unfiltered.blacklisted.bed'\\npath_to_blacklist = '../0_resources/regions/hg38-blacklist.v2.bed'\";\n",
       "                var nbb_formatted_code = \"path_to_regions = \\\"../0_resources/regions/V2.hg38-rDHS-Unfiltered.blacklisted.bed\\\"\\npath_to_blacklist = \\\"../0_resources/regions/hg38-blacklist.v2.bed\\\"\";\n",
       "                var nbb_cells = Jupyter.notebook.get_cells();\n",
       "                for (var i = 0; i < nbb_cells.length; ++i) {\n",
       "                    if (nbb_cells[i].input_prompt_number == nbb_cell_id) {\n",
       "                        if (nbb_cells[i].get_text() == nbb_unformatted_code) {\n",
       "                             nbb_cells[i].set_text(nbb_formatted_code);\n",
       "                        }\n",
       "                        break;\n",
       "                    }\n",
       "                }\n",
       "            }, 500);\n",
       "            "
      ],
      "text/plain": [
       "<IPython.core.display.Javascript object>"
      ]
     },
     "metadata": {},
     "output_type": "display_data"
    }
   ],
   "source": [
    "path_to_regions = '../0_resources/regions/V2.hg38-rDHS-Unfiltered.blacklisted.bed'\n",
    "path_to_blacklist = '../0_resources/regions/hg38-blacklist.v2.bed'"
   ]
  },
  {
   "cell_type": "markdown",
   "id": "420b431a",
   "metadata": {
    "papermill": {
     "duration": 0.005942,
     "end_time": "2022-08-27T21:55:28.196689",
     "exception": false,
     "start_time": "2022-08-27T21:55:28.190747",
     "status": "completed"
    },
    "tags": []
   },
   "source": [
    "Create cistopic objects for each sample. If pandas crashes, increase the number of partitions. This is necessary for the largest files."
   ]
  },
  {
   "cell_type": "markdown",
   "id": "054dd3e6",
   "metadata": {
    "papermill": {
     "duration": 0.006062,
     "end_time": "2022-08-27T21:55:28.208805",
     "exception": false,
     "start_time": "2022-08-27T21:55:28.202743",
     "status": "completed"
    },
    "tags": []
   },
   "source": [
    "In the following command, it is important that the barcode syntax matches the fragments, the metadata and the bc_passing filters. That is why the sample name is removed from metadata and bc passing filters."
   ]
  },
  {
   "cell_type": "code",
   "execution_count": 10,
   "id": "c7808074",
   "metadata": {
    "execution": {
     "iopub.execute_input": "2022-09-13T15:54:39.008564Z",
     "iopub.status.busy": "2022-09-13T15:54:39.008371Z",
     "iopub.status.idle": "2022-09-13T15:54:39.036963Z",
     "shell.execute_reply": "2022-09-13T15:54:39.036528Z",
     "shell.execute_reply.started": "2022-09-13T15:54:39.008547Z"
    },
    "papermill": {
     "duration": 12759.296944,
     "end_time": "2022-08-28T01:28:07.511909",
     "exception": false,
     "start_time": "2022-08-27T21:55:28.214965",
     "status": "completed"
    },
    "tags": []
   },
   "outputs": [
    {
     "name": "stdout",
     "output_type": "stream",
     "text": [
      "All samples already processed.\n"
     ]
    },
    {
     "data": {
      "application/javascript": [
       "\n",
       "            setTimeout(function() {\n",
       "                var nbb_cell_id = 10;\n",
       "                var nbb_unformatted_code = \"if fragments_sub_dict != {}:\\n    from pycisTopic.cistopic_class import create_cistopic_object_from_fragments\\n    n_cores = 20\\n    for sample in fragments_sub_dict.keys():\\n        infile = open(metadata_bc_sub_dict[sample], 'rb')\\n        metadata_bc = pickle.load(infile)\\n        metadata_bc.index = [bc.split(\\\"___\\\")[0] for bc in metadata_bc.index]\\n        infile.close()\\n        infile = open(bc_passing_filters_sub_dict[sample], 'rb')\\n        bc_passing_filters = pickle.load(infile)\\n        infile.close()\\n        bc_passing_filters_fixed = [bc.split(\\\"___\\\")[0] for bc in bc_passing_filters]\\n        cto = create_cistopic_object_from_fragments(path_to_fragments=fragments_sub_dict[sample],\\n                                                        path_to_regions=path_to_regions,\\n                                                        path_to_blacklist=path_to_blacklist,\\n                                                        metrics=metadata_bc,\\n                                                        valid_bc=bc_passing_filters_fixed,\\n                                                        n_cpu=n_cores,\\n                                                        partition=10,\\n                                                        project=sample)\\n\\n        cto_path = os.path.join(cistopic_objects_out, f\\\"{sample}__cto.pkl\\\")\\n        print(f\\\"Writing {sample} cto in {cto_path}...\\\")\\n\\n        with open(\\n            cto_path, \\\"wb\\\"\\n        ) as f:\\n            pickle.dump(cto, f, protocol=4)\\n\\nelse:\\n    print(\\\"All samples already processed.\\\")\";\n",
       "                var nbb_formatted_code = \"if fragments_sub_dict != {}:\\n    from pycisTopic.cistopic_class import create_cistopic_object_from_fragments\\n\\n    n_cores = 20\\n    for sample in fragments_sub_dict.keys():\\n        infile = open(metadata_bc_sub_dict[sample], \\\"rb\\\")\\n        metadata_bc = pickle.load(infile)\\n        metadata_bc.index = [bc.split(\\\"___\\\")[0] for bc in metadata_bc.index]\\n        infile.close()\\n        infile = open(bc_passing_filters_sub_dict[sample], \\\"rb\\\")\\n        bc_passing_filters = pickle.load(infile)\\n        infile.close()\\n        bc_passing_filters_fixed = [bc.split(\\\"___\\\")[0] for bc in bc_passing_filters]\\n        cto = create_cistopic_object_from_fragments(\\n            path_to_fragments=fragments_sub_dict[sample],\\n            path_to_regions=path_to_regions,\\n            path_to_blacklist=path_to_blacklist,\\n            metrics=metadata_bc,\\n            valid_bc=bc_passing_filters_fixed,\\n            n_cpu=n_cores,\\n            partition=10,\\n            project=sample,\\n        )\\n\\n        cto_path = os.path.join(cistopic_objects_out, f\\\"{sample}__cto.pkl\\\")\\n        print(f\\\"Writing {sample} cto in {cto_path}...\\\")\\n\\n        with open(cto_path, \\\"wb\\\") as f:\\n            pickle.dump(cto, f, protocol=4)\\n\\nelse:\\n    print(\\\"All samples already processed.\\\")\";\n",
       "                var nbb_cells = Jupyter.notebook.get_cells();\n",
       "                for (var i = 0; i < nbb_cells.length; ++i) {\n",
       "                    if (nbb_cells[i].input_prompt_number == nbb_cell_id) {\n",
       "                        if (nbb_cells[i].get_text() == nbb_unformatted_code) {\n",
       "                             nbb_cells[i].set_text(nbb_formatted_code);\n",
       "                        }\n",
       "                        break;\n",
       "                    }\n",
       "                }\n",
       "            }, 500);\n",
       "            "
      ],
      "text/plain": [
       "<IPython.core.display.Javascript object>"
      ]
     },
     "metadata": {},
     "output_type": "display_data"
    }
   ],
   "source": [
    "if fragments_sub_dict != {}:\n",
    "    from pycisTopic.cistopic_class import create_cistopic_object_from_fragments\n",
    "    n_cores = 20\n",
    "    for sample in fragments_sub_dict.keys():\n",
    "        infile = open(metadata_bc_sub_dict[sample], 'rb')\n",
    "        metadata_bc = pickle.load(infile)\n",
    "        metadata_bc.index = [bc.split(\"___\")[0] for bc in metadata_bc.index]\n",
    "        infile.close()\n",
    "        infile = open(bc_passing_filters_sub_dict[sample], 'rb')\n",
    "        bc_passing_filters = pickle.load(infile)\n",
    "        infile.close()\n",
    "        bc_passing_filters_fixed = [bc.split(\"___\")[0] for bc in bc_passing_filters]\n",
    "        cto = create_cistopic_object_from_fragments(path_to_fragments=fragments_sub_dict[sample],\n",
    "                                                        path_to_regions=path_to_regions,\n",
    "                                                        path_to_blacklist=path_to_blacklist,\n",
    "                                                        metrics=metadata_bc,\n",
    "                                                        valid_bc=bc_passing_filters_fixed,\n",
    "                                                        n_cpu=n_cores,\n",
    "                                                        partition=10,\n",
    "                                                        project=sample)\n",
    "\n",
    "        cto_path = os.path.join(cistopic_objects_out, f\"{sample}__cto.pkl\")\n",
    "        print(f\"Writing {sample} cto in {cto_path}...\")\n",
    "\n",
    "        with open(\n",
    "            cto_path, \"wb\"\n",
    "        ) as f:\n",
    "            pickle.dump(cto, f, protocol=4)\n",
    "\n",
    "else:\n",
    "    print(\"All samples already processed.\")"
   ]
  },
  {
   "cell_type": "markdown",
   "id": "7e5b96f1",
   "metadata": {
    "papermill": {
     "duration": 0.028404,
     "end_time": "2022-08-28T01:28:07.607685",
     "exception": false,
     "start_time": "2022-08-28T01:28:07.579281",
     "status": "completed"
    },
    "tags": []
   },
   "source": [
    "# Run Scrublet"
   ]
  },
  {
   "cell_type": "code",
   "execution_count": 61,
   "id": "8cca6d94",
   "metadata": {
    "papermill": {
     "duration": 0.025132,
     "end_time": "2022-08-28T01:28:07.657787",
     "exception": false,
     "start_time": "2022-08-28T01:28:07.632655",
     "status": "completed"
    },
    "tags": []
   },
   "outputs": [
    {
     "data": {
      "application/javascript": [
       "\n",
       "            setTimeout(function() {\n",
       "                var nbb_cell_id = 61;\n",
       "                var nbb_unformatted_code = \"import scrublet as scr\\nimport pandas as pd\\nimport matplotlib.pyplot as plt\";\n",
       "                var nbb_formatted_code = \"import scrublet as scr\\nimport pandas as pd\\nimport matplotlib.pyplot as plt\";\n",
       "                var nbb_cells = Jupyter.notebook.get_cells();\n",
       "                for (var i = 0; i < nbb_cells.length; ++i) {\n",
       "                    if (nbb_cells[i].input_prompt_number == nbb_cell_id) {\n",
       "                        if (nbb_cells[i].get_text() == nbb_unformatted_code) {\n",
       "                             nbb_cells[i].set_text(nbb_formatted_code);\n",
       "                        }\n",
       "                        break;\n",
       "                    }\n",
       "                }\n",
       "            }, 500);\n",
       "            "
      ],
      "text/plain": [
       "<IPython.core.display.Javascript object>"
      ]
     },
     "metadata": {},
     "output_type": "display_data"
    }
   ],
   "source": [
    "import scrublet as scr\n",
    "import pandas as pd\n",
    "import matplotlib.pyplot as plt"
   ]
  },
  {
   "cell_type": "code",
   "execution_count": 62,
   "id": "d080bc3e",
   "metadata": {
    "papermill": {
     "duration": 0.025179,
     "end_time": "2022-08-28T01:28:07.708038",
     "exception": false,
     "start_time": "2022-08-28T01:28:07.682859",
     "status": "completed"
    },
    "tags": []
   },
   "outputs": [
    {
     "data": {
      "text/plain": [
       "{'BIO_ddseq_1.FIXEDCELLS': 'cistopic_objects/BIO_ddseq_1.FIXEDCELLS__cto.pkl',\n",
       " 'BIO_ddseq_2.FIXEDCELLS': 'cistopic_objects/BIO_ddseq_2.FIXEDCELLS__cto.pkl',\n",
       " 'BIO_ddseq_3.FIXEDCELLS': 'cistopic_objects/BIO_ddseq_3.FIXEDCELLS__cto.pkl',\n",
       " 'BIO_ddseq_4.FIXEDCELLS': 'cistopic_objects/BIO_ddseq_4.FIXEDCELLS__cto.pkl',\n",
       " 'BRO_mtscatac_1.FIXEDCELLS': 'cistopic_objects/BRO_mtscatac_1.FIXEDCELLS__cto.pkl',\n",
       " 'BRO_mtscatac_2.FIXEDCELLS': 'cistopic_objects/BRO_mtscatac_2.FIXEDCELLS__cto.pkl',\n",
       " 'CNA_10xmultiome_1.FIXEDCELLS': 'cistopic_objects/CNA_10xmultiome_1.FIXEDCELLS__cto.pkl',\n",
       " 'CNA_10xmultiome_2.FIXEDCELLS': 'cistopic_objects/CNA_10xmultiome_2.FIXEDCELLS__cto.pkl',\n",
       " 'CNA_10xv11_1.FIXEDCELLS': 'cistopic_objects/CNA_10xv11_1.FIXEDCELLS__cto.pkl',\n",
       " 'CNA_10xv11_2.FIXEDCELLS': 'cistopic_objects/CNA_10xv11_2.FIXEDCELLS__cto.pkl',\n",
       " 'CNA_10xv11_3.FIXEDCELLS': 'cistopic_objects/CNA_10xv11_3.FIXEDCELLS__cto.pkl',\n",
       " 'CNA_10xv11_4.FIXEDCELLS': 'cistopic_objects/CNA_10xv11_4.FIXEDCELLS__cto.pkl',\n",
       " 'CNA_10xv11_5.FIXEDCELLS': 'cistopic_objects/CNA_10xv11_5.FIXEDCELLS__cto.pkl',\n",
       " 'CNA_10xv2_1.FIXEDCELLS': 'cistopic_objects/CNA_10xv2_1.FIXEDCELLS__cto.pkl',\n",
       " 'CNA_10xv2_2.FIXEDCELLS': 'cistopic_objects/CNA_10xv2_2.FIXEDCELLS__cto.pkl',\n",
       " 'CNA_hydrop_1.FIXEDCELLS': 'cistopic_objects/CNA_hydrop_1.FIXEDCELLS__cto.pkl',\n",
       " 'CNA_hydrop_2.FIXEDCELLS': 'cistopic_objects/CNA_hydrop_2.FIXEDCELLS__cto.pkl',\n",
       " 'CNA_hydrop_3.FIXEDCELLS': 'cistopic_objects/CNA_hydrop_3.FIXEDCELLS__cto.pkl',\n",
       " 'CNA_mtscatac_1.FIXEDCELLS': 'cistopic_objects/CNA_mtscatac_1.FIXEDCELLS__cto.pkl',\n",
       " 'CNA_mtscatac_2.FIXEDCELLS': 'cistopic_objects/CNA_mtscatac_2.FIXEDCELLS__cto.pkl',\n",
       " 'EPF_hydrop_1.FIXEDCELLS': 'cistopic_objects/EPF_hydrop_1.FIXEDCELLS__cto.pkl',\n",
       " 'EPF_hydrop_2.FIXEDCELLS': 'cistopic_objects/EPF_hydrop_2.FIXEDCELLS__cto.pkl',\n",
       " 'EPF_hydrop_3.FIXEDCELLS': 'cistopic_objects/EPF_hydrop_3.FIXEDCELLS__cto.pkl',\n",
       " 'EPF_hydrop_4.FIXEDCELLS': 'cistopic_objects/EPF_hydrop_4.FIXEDCELLS__cto.pkl',\n",
       " 'HAR_ddseq_1.FIXEDCELLS': 'cistopic_objects/HAR_ddseq_1.FIXEDCELLS__cto.pkl',\n",
       " 'HAR_ddseq_2.FIXEDCELLS': 'cistopic_objects/HAR_ddseq_2.FIXEDCELLS__cto.pkl',\n",
       " 'MDC_mtscatac_1.FIXEDCELLS': 'cistopic_objects/MDC_mtscatac_1.FIXEDCELLS__cto.pkl',\n",
       " 'MDC_mtscatac_2.FIXEDCELLS': 'cistopic_objects/MDC_mtscatac_2.FIXEDCELLS__cto.pkl',\n",
       " 'OHS_s3atac_1.FIXEDCELLS': 'cistopic_objects/OHS_s3atac_1.FIXEDCELLS__cto.pkl',\n",
       " 'OHS_s3atac_2.FIXEDCELLS': 'cistopic_objects/OHS_s3atac_2.FIXEDCELLS__cto.pkl',\n",
       " 'SAN_10xmultiome_1.FIXEDCELLS': 'cistopic_objects/SAN_10xmultiome_1.FIXEDCELLS__cto.pkl',\n",
       " 'SAN_10xmultiome_2.FIXEDCELLS': 'cistopic_objects/SAN_10xmultiome_2.FIXEDCELLS__cto.pkl',\n",
       " 'STA_10xv11_1.FIXEDCELLS': 'cistopic_objects/STA_10xv11_1.FIXEDCELLS__cto.pkl',\n",
       " 'STA_10xv11_2.FIXEDCELLS': 'cistopic_objects/STA_10xv11_2.FIXEDCELLS__cto.pkl',\n",
       " 'TXG_10xv11_1.FIXEDCELLS': 'cistopic_objects/TXG_10xv11_1.FIXEDCELLS__cto.pkl',\n",
       " 'TXG_10xv2_1.FIXEDCELLS': 'cistopic_objects/TXG_10xv2_1.FIXEDCELLS__cto.pkl',\n",
       " 'TXG_10xv2_2.FIXEDCELLS': 'cistopic_objects/TXG_10xv2_2.FIXEDCELLS__cto.pkl',\n",
       " 'UCS_ddseq_1.FIXEDCELLS': 'cistopic_objects/UCS_ddseq_1.FIXEDCELLS__cto.pkl',\n",
       " 'UCS_ddseq_2.FIXEDCELLS': 'cistopic_objects/UCS_ddseq_2.FIXEDCELLS__cto.pkl',\n",
       " 'VIB_10xmultiome_1.FIXEDCELLS': 'cistopic_objects/VIB_10xmultiome_1.FIXEDCELLS__cto.pkl',\n",
       " 'VIB_10xmultiome_2.FIXEDCELLS': 'cistopic_objects/VIB_10xmultiome_2.FIXEDCELLS__cto.pkl',\n",
       " 'VIB_10xv1_1.FIXEDCELLS': 'cistopic_objects/VIB_10xv1_1.FIXEDCELLS__cto.pkl',\n",
       " 'VIB_10xv1_2.FIXEDCELLS': 'cistopic_objects/VIB_10xv1_2.FIXEDCELLS__cto.pkl',\n",
       " 'VIB_10xv2_1.FIXEDCELLS': 'cistopic_objects/VIB_10xv2_1.FIXEDCELLS__cto.pkl',\n",
       " 'VIB_10xv2_2.FIXEDCELLS': 'cistopic_objects/VIB_10xv2_2.FIXEDCELLS__cto.pkl',\n",
       " 'VIB_hydrop_1.FIXEDCELLS': 'cistopic_objects/VIB_hydrop_1.FIXEDCELLS__cto.pkl',\n",
       " 'VIB_hydrop_11.FIXEDCELLS': 'cistopic_objects/VIB_hydrop_11.FIXEDCELLS__cto.pkl',\n",
       " 'VIB_hydrop_12.FIXEDCELLS': 'cistopic_objects/VIB_hydrop_12.FIXEDCELLS__cto.pkl',\n",
       " 'VIB_hydrop_2.FIXEDCELLS': 'cistopic_objects/VIB_hydrop_2.FIXEDCELLS__cto.pkl',\n",
       " 'VIB_hydrop_21.FIXEDCELLS': 'cistopic_objects/VIB_hydrop_21.FIXEDCELLS__cto.pkl',\n",
       " 'VIB_hydrop_22.FIXEDCELLS': 'cistopic_objects/VIB_hydrop_22.FIXEDCELLS__cto.pkl'}"
      ]
     },
     "execution_count": 62,
     "metadata": {},
     "output_type": "execute_result"
    },
    {
     "data": {
      "application/javascript": [
       "\n",
       "            setTimeout(function() {\n",
       "                var nbb_cell_id = 62;\n",
       "                var nbb_unformatted_code = \"cto_dict = {x.split('/')[-1].split('__cto.pkl')[0]:x for x in sorted(glob.glob('cistopic_objects/*__cto.pkl'))}\\ncto_dict\";\n",
       "                var nbb_formatted_code = \"cto_dict = {\\n    x.split(\\\"/\\\")[-1].split(\\\"__cto.pkl\\\")[0]: x\\n    for x in sorted(glob.glob(\\\"cistopic_objects/*__cto.pkl\\\"))\\n}\\ncto_dict\";\n",
       "                var nbb_cells = Jupyter.notebook.get_cells();\n",
       "                for (var i = 0; i < nbb_cells.length; ++i) {\n",
       "                    if (nbb_cells[i].input_prompt_number == nbb_cell_id) {\n",
       "                        if (nbb_cells[i].get_text() == nbb_unformatted_code) {\n",
       "                             nbb_cells[i].set_text(nbb_formatted_code);\n",
       "                        }\n",
       "                        break;\n",
       "                    }\n",
       "                }\n",
       "            }, 500);\n",
       "            "
      ],
      "text/plain": [
       "<IPython.core.display.Javascript object>"
      ]
     },
     "metadata": {},
     "output_type": "display_data"
    }
   ],
   "source": [
    "cto_dict = {x.split('/')[-1].split('__cto.pkl')[0]:x for x in sorted(glob.glob('cistopic_objects/*__cto.pkl'))}\n",
    "cto_dict"
   ]
  },
  {
   "cell_type": "code",
   "execution_count": 63,
   "id": "fd8da6b8",
   "metadata": {
    "papermill": {
     "duration": 0.024601,
     "end_time": "2022-08-28T01:28:07.757880",
     "exception": false,
     "start_time": "2022-08-28T01:28:07.733279",
     "status": "completed"
    },
    "tags": []
   },
   "outputs": [
    {
     "name": "stdout",
     "output_type": "stream",
     "text": [
      "Checking if cistopic_objects/BIO_ddseq_1.FIXEDCELLS__cto.scrublet0-4.pkl exist...\n",
      "\tcistopic_objects/BIO_ddseq_1.FIXEDCELLS__cto.scrublet0-4.pkl exists! Skipping...\n",
      "Checking if cistopic_objects/BIO_ddseq_2.FIXEDCELLS__cto.scrublet0-4.pkl exist...\n",
      "\tcistopic_objects/BIO_ddseq_2.FIXEDCELLS__cto.scrublet0-4.pkl exists! Skipping...\n",
      "Checking if cistopic_objects/BIO_ddseq_3.FIXEDCELLS__cto.scrublet0-4.pkl exist...\n",
      "\tcistopic_objects/BIO_ddseq_3.FIXEDCELLS__cto.scrublet0-4.pkl exists! Skipping...\n",
      "Checking if cistopic_objects/BIO_ddseq_4.FIXEDCELLS__cto.scrublet0-4.pkl exist...\n",
      "\tcistopic_objects/BIO_ddseq_4.FIXEDCELLS__cto.scrublet0-4.pkl exists! Skipping...\n",
      "Checking if cistopic_objects/BRO_mtscatac_1.FIXEDCELLS__cto.scrublet0-4.pkl exist...\n",
      "\tcistopic_objects/BRO_mtscatac_1.FIXEDCELLS__cto.scrublet0-4.pkl exists! Skipping...\n",
      "Checking if cistopic_objects/BRO_mtscatac_2.FIXEDCELLS__cto.scrublet0-4.pkl exist...\n",
      "\tcistopic_objects/BRO_mtscatac_2.FIXEDCELLS__cto.scrublet0-4.pkl exists! Skipping...\n",
      "Checking if cistopic_objects/CNA_10xmultiome_1.FIXEDCELLS__cto.scrublet0-4.pkl exist...\n",
      "\tcistopic_objects/CNA_10xmultiome_1.FIXEDCELLS__cto.scrublet0-4.pkl exists! Skipping...\n",
      "Checking if cistopic_objects/CNA_10xmultiome_2.FIXEDCELLS__cto.scrublet0-4.pkl exist...\n",
      "\tcistopic_objects/CNA_10xmultiome_2.FIXEDCELLS__cto.scrublet0-4.pkl exists! Skipping...\n",
      "Checking if cistopic_objects/CNA_10xv11_1.FIXEDCELLS__cto.scrublet0-4.pkl exist...\n",
      "\tcistopic_objects/CNA_10xv11_1.FIXEDCELLS__cto.scrublet0-4.pkl exists! Skipping...\n",
      "Checking if cistopic_objects/CNA_10xv11_2.FIXEDCELLS__cto.scrublet0-4.pkl exist...\n",
      "\tcistopic_objects/CNA_10xv11_2.FIXEDCELLS__cto.scrublet0-4.pkl exists! Skipping...\n",
      "Checking if cistopic_objects/CNA_10xv11_3.FIXEDCELLS__cto.scrublet0-4.pkl exist...\n",
      "\tcistopic_objects/CNA_10xv11_3.FIXEDCELLS__cto.scrublet0-4.pkl exists! Skipping...\n",
      "Checking if cistopic_objects/CNA_10xv11_4.FIXEDCELLS__cto.scrublet0-4.pkl exist...\n",
      "\tcistopic_objects/CNA_10xv11_4.FIXEDCELLS__cto.scrublet0-4.pkl exists! Skipping...\n",
      "Checking if cistopic_objects/CNA_10xv11_5.FIXEDCELLS__cto.scrublet0-4.pkl exist...\n",
      "\tcistopic_objects/CNA_10xv11_5.FIXEDCELLS__cto.scrublet0-4.pkl exists! Skipping...\n",
      "Checking if cistopic_objects/CNA_10xv2_1.FIXEDCELLS__cto.scrublet0-4.pkl exist...\n",
      "\tcistopic_objects/CNA_10xv2_1.FIXEDCELLS__cto.scrublet0-4.pkl exists! Skipping...\n",
      "Checking if cistopic_objects/CNA_10xv2_2.FIXEDCELLS__cto.scrublet0-4.pkl exist...\n",
      "\tcistopic_objects/CNA_10xv2_2.FIXEDCELLS__cto.scrublet0-4.pkl exists! Skipping...\n",
      "Checking if cistopic_objects/CNA_hydrop_1.FIXEDCELLS__cto.scrublet0-4.pkl exist...\n",
      "\tcistopic_objects/CNA_hydrop_1.FIXEDCELLS__cto.scrublet0-4.pkl exists! Skipping...\n",
      "Checking if cistopic_objects/CNA_hydrop_2.FIXEDCELLS__cto.scrublet0-4.pkl exist...\n",
      "\tcistopic_objects/CNA_hydrop_2.FIXEDCELLS__cto.scrublet0-4.pkl exists! Skipping...\n",
      "Checking if cistopic_objects/CNA_hydrop_3.FIXEDCELLS__cto.scrublet0-4.pkl exist...\n",
      "\tcistopic_objects/CNA_hydrop_3.FIXEDCELLS__cto.scrublet0-4.pkl exists! Skipping...\n",
      "Checking if cistopic_objects/CNA_mtscatac_1.FIXEDCELLS__cto.scrublet0-4.pkl exist...\n",
      "\tcistopic_objects/CNA_mtscatac_1.FIXEDCELLS__cto.scrublet0-4.pkl exists! Skipping...\n",
      "Checking if cistopic_objects/CNA_mtscatac_2.FIXEDCELLS__cto.scrublet0-4.pkl exist...\n",
      "\tcistopic_objects/CNA_mtscatac_2.FIXEDCELLS__cto.scrublet0-4.pkl exists! Skipping...\n",
      "Checking if cistopic_objects/EPF_hydrop_1.FIXEDCELLS__cto.scrublet0-4.pkl exist...\n",
      "\tcistopic_objects/EPF_hydrop_1.FIXEDCELLS__cto.scrublet0-4.pkl exists! Skipping...\n",
      "Checking if cistopic_objects/EPF_hydrop_2.FIXEDCELLS__cto.scrublet0-4.pkl exist...\n",
      "\tcistopic_objects/EPF_hydrop_2.FIXEDCELLS__cto.scrublet0-4.pkl exists! Skipping...\n",
      "Checking if cistopic_objects/EPF_hydrop_3.FIXEDCELLS__cto.scrublet0-4.pkl exist...\n",
      "\tcistopic_objects/EPF_hydrop_3.FIXEDCELLS__cto.scrublet0-4.pkl exists! Skipping...\n",
      "Checking if cistopic_objects/EPF_hydrop_4.FIXEDCELLS__cto.scrublet0-4.pkl exist...\n",
      "\tcistopic_objects/EPF_hydrop_4.FIXEDCELLS__cto.scrublet0-4.pkl exists! Skipping...\n",
      "Checking if cistopic_objects/HAR_ddseq_1.FIXEDCELLS__cto.scrublet0-4.pkl exist...\n",
      "\tcistopic_objects/HAR_ddseq_1.FIXEDCELLS__cto.scrublet0-4.pkl exists! Skipping...\n",
      "Checking if cistopic_objects/HAR_ddseq_2.FIXEDCELLS__cto.scrublet0-4.pkl exist...\n",
      "\tcistopic_objects/HAR_ddseq_2.FIXEDCELLS__cto.scrublet0-4.pkl exists! Skipping...\n",
      "Checking if cistopic_objects/MDC_mtscatac_1.FIXEDCELLS__cto.scrublet0-4.pkl exist...\n",
      "\tcistopic_objects/MDC_mtscatac_1.FIXEDCELLS__cto.scrublet0-4.pkl exists! Skipping...\n",
      "Checking if cistopic_objects/MDC_mtscatac_2.FIXEDCELLS__cto.scrublet0-4.pkl exist...\n",
      "\tcistopic_objects/MDC_mtscatac_2.FIXEDCELLS__cto.scrublet0-4.pkl exists! Skipping...\n",
      "Checking if cistopic_objects/OHS_s3atac_1.FIXEDCELLS__cto.scrublet0-4.pkl exist...\n",
      "\tcistopic_objects/OHS_s3atac_1.FIXEDCELLS__cto.scrublet0-4.pkl exists! Skipping...\n",
      "Checking if cistopic_objects/OHS_s3atac_2.FIXEDCELLS__cto.scrublet0-4.pkl exist...\n",
      "\tcistopic_objects/OHS_s3atac_2.FIXEDCELLS__cto.scrublet0-4.pkl exists! Skipping...\n",
      "Checking if cistopic_objects/SAN_10xmultiome_1.FIXEDCELLS__cto.scrublet0-4.pkl exist...\n",
      "\tcistopic_objects/SAN_10xmultiome_1.FIXEDCELLS__cto.scrublet0-4.pkl exists! Skipping...\n",
      "Checking if cistopic_objects/SAN_10xmultiome_2.FIXEDCELLS__cto.scrublet0-4.pkl exist...\n",
      "\tcistopic_objects/SAN_10xmultiome_2.FIXEDCELLS__cto.scrublet0-4.pkl exists! Skipping...\n",
      "Checking if cistopic_objects/STA_10xv11_1.FIXEDCELLS__cto.scrublet0-4.pkl exist...\n",
      "\tcistopic_objects/STA_10xv11_1.FIXEDCELLS__cto.scrublet0-4.pkl exists! Skipping...\n",
      "Checking if cistopic_objects/STA_10xv11_2.FIXEDCELLS__cto.scrublet0-4.pkl exist...\n",
      "\tcistopic_objects/STA_10xv11_2.FIXEDCELLS__cto.scrublet0-4.pkl exists! Skipping...\n",
      "Checking if cistopic_objects/TXG_10xv11_1.FIXEDCELLS__cto.scrublet0-4.pkl exist...\n",
      "\tcistopic_objects/TXG_10xv11_1.FIXEDCELLS__cto.scrublet0-4.pkl exists! Skipping...\n",
      "Checking if cistopic_objects/TXG_10xv2_1.FIXEDCELLS__cto.scrublet0-4.pkl exist...\n",
      "\tcistopic_objects/TXG_10xv2_1.FIXEDCELLS__cto.scrublet0-4.pkl exists! Skipping...\n",
      "Checking if cistopic_objects/TXG_10xv2_2.FIXEDCELLS__cto.scrublet0-4.pkl exist...\n",
      "\tcistopic_objects/TXG_10xv2_2.FIXEDCELLS__cto.scrublet0-4.pkl exists! Skipping...\n",
      "Checking if cistopic_objects/UCS_ddseq_1.FIXEDCELLS__cto.scrublet0-4.pkl exist...\n",
      "\tcistopic_objects/UCS_ddseq_1.FIXEDCELLS__cto.scrublet0-4.pkl exists! Skipping...\n",
      "Checking if cistopic_objects/UCS_ddseq_2.FIXEDCELLS__cto.scrublet0-4.pkl exist...\n",
      "\tcistopic_objects/UCS_ddseq_2.FIXEDCELLS__cto.scrublet0-4.pkl exists! Skipping...\n",
      "Checking if cistopic_objects/VIB_10xmultiome_1.FIXEDCELLS__cto.scrublet0-4.pkl exist...\n",
      "\tcistopic_objects/VIB_10xmultiome_1.FIXEDCELLS__cto.scrublet0-4.pkl exists! Skipping...\n",
      "Checking if cistopic_objects/VIB_10xmultiome_2.FIXEDCELLS__cto.scrublet0-4.pkl exist...\n",
      "\tcistopic_objects/VIB_10xmultiome_2.FIXEDCELLS__cto.scrublet0-4.pkl exists! Skipping...\n",
      "Checking if cistopic_objects/VIB_10xv1_1.FIXEDCELLS__cto.scrublet0-4.pkl exist...\n",
      "\tcistopic_objects/VIB_10xv1_1.FIXEDCELLS__cto.scrublet0-4.pkl exists! Skipping...\n",
      "Checking if cistopic_objects/VIB_10xv1_2.FIXEDCELLS__cto.scrublet0-4.pkl exist...\n",
      "\tcistopic_objects/VIB_10xv1_2.FIXEDCELLS__cto.scrublet0-4.pkl exists! Skipping...\n",
      "Checking if cistopic_objects/VIB_10xv2_1.FIXEDCELLS__cto.scrublet0-4.pkl exist...\n",
      "\tcistopic_objects/VIB_10xv2_1.FIXEDCELLS__cto.scrublet0-4.pkl exists! Skipping...\n",
      "Checking if cistopic_objects/VIB_10xv2_2.FIXEDCELLS__cto.scrublet0-4.pkl exist...\n",
      "\tcistopic_objects/VIB_10xv2_2.FIXEDCELLS__cto.scrublet0-4.pkl exists! Skipping...\n",
      "Checking if cistopic_objects/VIB_hydrop_1.FIXEDCELLS__cto.scrublet0-4.pkl exist...\n",
      "\tcistopic_objects/VIB_hydrop_1.FIXEDCELLS__cto.scrublet0-4.pkl exists! Skipping...\n",
      "Checking if cistopic_objects/VIB_hydrop_11.FIXEDCELLS__cto.scrublet0-4.pkl exist...\n",
      "\tcistopic_objects/VIB_hydrop_11.FIXEDCELLS__cto.scrublet0-4.pkl exists! Skipping...\n",
      "Checking if cistopic_objects/VIB_hydrop_12.FIXEDCELLS__cto.scrublet0-4.pkl exist...\n",
      "\tcistopic_objects/VIB_hydrop_12.FIXEDCELLS__cto.scrublet0-4.pkl exists! Skipping...\n",
      "Checking if cistopic_objects/VIB_hydrop_2.FIXEDCELLS__cto.scrublet0-4.pkl exist...\n",
      "\tcistopic_objects/VIB_hydrop_2.FIXEDCELLS__cto.scrublet0-4.pkl exists! Skipping...\n",
      "Checking if cistopic_objects/VIB_hydrop_21.FIXEDCELLS__cto.scrublet0-4.pkl exist...\n",
      "\tcistopic_objects/VIB_hydrop_21.FIXEDCELLS__cto.scrublet0-4.pkl exists! Skipping...\n",
      "Checking if cistopic_objects/VIB_hydrop_22.FIXEDCELLS__cto.scrublet0-4.pkl exist...\n",
      "\tcistopic_objects/VIB_hydrop_22.FIXEDCELLS__cto.scrublet0-4.pkl exists! Skipping...\n"
     ]
    },
    {
     "data": {
      "application/javascript": [
       "\n",
       "            setTimeout(function() {\n",
       "                var nbb_cell_id = 63;\n",
       "                var nbb_unformatted_code = \"fragments_sub_dict = {}\\nscrubcto_dict = {}\\nscrub_threshold = 0.4\\nscrub_name_suffix = \\\"0-4\\\"\\n#regions_sub_dict = {}\\nfor sample in cto_dict:\\n    cto = os.path.join('cistopic_objects', sample + f\\\"__cto.scrublet{scrub_name_suffix}.pkl\\\")\\n    print(f\\\"Checking if {cto} exist...\\\")\\n    if os.path.exists(cto):\\n        print(f\\\"\\\\t{cto} exists! Skipping...\\\")\\n    else:\\n        print(f\\\"\\\\t{cto} does not exist, adding to subdict to generate\\\")\\n        scrubcto_dict[sample] = cto\";\n",
       "                var nbb_formatted_code = \"fragments_sub_dict = {}\\nscrubcto_dict = {}\\nscrub_threshold = 0.4\\nscrub_name_suffix = \\\"0-4\\\"\\n# regions_sub_dict = {}\\nfor sample in cto_dict:\\n    cto = os.path.join(\\n        \\\"cistopic_objects\\\", sample + f\\\"__cto.scrublet{scrub_name_suffix}.pkl\\\"\\n    )\\n    print(f\\\"Checking if {cto} exist...\\\")\\n    if os.path.exists(cto):\\n        print(f\\\"\\\\t{cto} exists! Skipping...\\\")\\n    else:\\n        print(f\\\"\\\\t{cto} does not exist, adding to subdict to generate\\\")\\n        scrubcto_dict[sample] = cto\";\n",
       "                var nbb_cells = Jupyter.notebook.get_cells();\n",
       "                for (var i = 0; i < nbb_cells.length; ++i) {\n",
       "                    if (nbb_cells[i].input_prompt_number == nbb_cell_id) {\n",
       "                        if (nbb_cells[i].get_text() == nbb_unformatted_code) {\n",
       "                             nbb_cells[i].set_text(nbb_formatted_code);\n",
       "                        }\n",
       "                        break;\n",
       "                    }\n",
       "                }\n",
       "            }, 500);\n",
       "            "
      ],
      "text/plain": [
       "<IPython.core.display.Javascript object>"
      ]
     },
     "metadata": {},
     "output_type": "display_data"
    }
   ],
   "source": [
    "fragments_sub_dict = {}\n",
    "scrubcto_dict = {}\n",
    "scrub_threshold = 0.4\n",
    "scrub_name_suffix = \"0-4\"\n",
    "#regions_sub_dict = {}\n",
    "for sample in cto_dict:\n",
    "    cto = os.path.join('cistopic_objects', sample + f\"__cto.scrublet{scrub_name_suffix}.pkl\")\n",
    "    print(f\"Checking if {cto} exist...\")\n",
    "    if os.path.exists(cto):\n",
    "        print(f\"\\t{cto} exists! Skipping...\")\n",
    "    else:\n",
    "        print(f\"\\t{cto} does not exist, adding to subdict to generate\")\n",
    "        scrubcto_dict[sample] = cto"
   ]
  },
  {
   "cell_type": "code",
   "execution_count": 64,
   "id": "9e20341a",
   "metadata": {
    "papermill": {
     "duration": 0.024994,
     "end_time": "2022-08-28T01:28:07.807684",
     "exception": false,
     "start_time": "2022-08-28T01:28:07.782690",
     "status": "completed"
    },
    "tags": []
   },
   "outputs": [
    {
     "data": {
      "application/javascript": [
       "\n",
       "            setTimeout(function() {\n",
       "                var nbb_cell_id = 64;\n",
       "                var nbb_unformatted_code = \"if cto_dict != {}:\\n    for sample in scrubcto_dict.keys():\\n        with open(cto_dict[sample], 'rb') as f:\\n            cto = pickle.load(f)\\n        print(f\\\"Loaded {cto_dict[sample]}\\\")\\n        scrub = scr.Scrublet(cto.fragment_matrix.T, expected_doublet_rate=0.1)\\n        doublet_scores, predicted_doublets = scrub.scrub_doublets()\\n        # scrub.plot_histogram()\\n        scrub.call_doublets(threshold=scrub_threshold)\\n        a,b = scrub.plot_histogram()\\n        a.suptitle(sample)\\n        plt.savefig(f'plots_qc/{sample}.scrublet_histogram.png', dpi=150, facecolor='white')\\n        plt.show()\\n        plt.close()\\n        \\n        scrublet = pd.DataFrame([scrub.doublet_scores_obs_, scrub.predicted_doublets_], \\n            columns=cto.cell_names,\\n            index=['Doublet_scores_fragments', 'Predicted_doublets_fragments']).T\\n        cto.add_cell_data(scrublet)\\n        n_scrublet_doublets = len(cto.cell_data[cto.cell_data[\\\"Predicted_doublets_fragments\\\"] == True])\\n        print(f\\\"{sample}: found doublets: \\\\n\\\\t({n_scrublet_doublets}: Scrublet)\\\"\\n             )\\n\\n        cto_path_new = scrubcto_dict[sample]\\n\\n        with open(\\n            cto_path_new, \\\"wb\\\"\\n        ) as f:\\n            pickle.dump(cto, f, protocol=4)\\n            \\n        print('Running UMAP...')\\n        # scrub.set_embedding('UMAP', scr.get_umap(scrub.manifold_obs_, 10, min_dist=0.3))\\n        # scrub.plot_embedding('UMAP', order_points=True);\\n        # plt.savefig(f'plots_qc/{sample}.scrublet_umap.png', dpi=150, facecolor='white')\\n        # plt.show()\\n        # plt.close()\\n\\n\\n\\n        print('\\\\n')\\n        \\nelse:\\n    print(\\\"All samples already processed.\\\")\";\n",
       "                var nbb_formatted_code = \"if cto_dict != {}:\\n    for sample in scrubcto_dict.keys():\\n        with open(cto_dict[sample], \\\"rb\\\") as f:\\n            cto = pickle.load(f)\\n        print(f\\\"Loaded {cto_dict[sample]}\\\")\\n        scrub = scr.Scrublet(cto.fragment_matrix.T, expected_doublet_rate=0.1)\\n        doublet_scores, predicted_doublets = scrub.scrub_doublets()\\n        # scrub.plot_histogram()\\n        scrub.call_doublets(threshold=scrub_threshold)\\n        a, b = scrub.plot_histogram()\\n        a.suptitle(sample)\\n        plt.savefig(\\n            f\\\"plots_qc/{sample}.scrublet_histogram.png\\\", dpi=150, facecolor=\\\"white\\\"\\n        )\\n        plt.show()\\n        plt.close()\\n\\n        scrublet = pd.DataFrame(\\n            [scrub.doublet_scores_obs_, scrub.predicted_doublets_],\\n            columns=cto.cell_names,\\n            index=[\\\"Doublet_scores_fragments\\\", \\\"Predicted_doublets_fragments\\\"],\\n        ).T\\n        cto.add_cell_data(scrublet)\\n        n_scrublet_doublets = len(\\n            cto.cell_data[cto.cell_data[\\\"Predicted_doublets_fragments\\\"] == True]\\n        )\\n        print(f\\\"{sample}: found doublets: \\\\n\\\\t({n_scrublet_doublets}: Scrublet)\\\")\\n\\n        cto_path_new = scrubcto_dict[sample]\\n\\n        with open(cto_path_new, \\\"wb\\\") as f:\\n            pickle.dump(cto, f, protocol=4)\\n\\n        print(\\\"Running UMAP...\\\")\\n        # scrub.set_embedding('UMAP', scr.get_umap(scrub.manifold_obs_, 10, min_dist=0.3))\\n        # scrub.plot_embedding('UMAP', order_points=True);\\n        # plt.savefig(f'plots_qc/{sample}.scrublet_umap.png', dpi=150, facecolor='white')\\n        # plt.show()\\n        # plt.close()\\n\\n        print(\\\"\\\\n\\\")\\n\\nelse:\\n    print(\\\"All samples already processed.\\\")\";\n",
       "                var nbb_cells = Jupyter.notebook.get_cells();\n",
       "                for (var i = 0; i < nbb_cells.length; ++i) {\n",
       "                    if (nbb_cells[i].input_prompt_number == nbb_cell_id) {\n",
       "                        if (nbb_cells[i].get_text() == nbb_unformatted_code) {\n",
       "                             nbb_cells[i].set_text(nbb_formatted_code);\n",
       "                        }\n",
       "                        break;\n",
       "                    }\n",
       "                }\n",
       "            }, 500);\n",
       "            "
      ],
      "text/plain": [
       "<IPython.core.display.Javascript object>"
      ]
     },
     "metadata": {},
     "output_type": "display_data"
    }
   ],
   "source": [
    "if cto_dict != {}:\n",
    "    for sample in scrubcto_dict.keys():\n",
    "        with open(cto_dict[sample], 'rb') as f:\n",
    "            cto = pickle.load(f)\n",
    "        print(f\"Loaded {cto_dict[sample]}\")\n",
    "        scrub = scr.Scrublet(cto.fragment_matrix.T, expected_doublet_rate=0.1)\n",
    "        doublet_scores, predicted_doublets = scrub.scrub_doublets()\n",
    "        # scrub.plot_histogram()\n",
    "        scrub.call_doublets(threshold=scrub_threshold)\n",
    "        a,b = scrub.plot_histogram()\n",
    "        a.suptitle(sample)\n",
    "        plt.savefig(f'plots_qc/{sample}.scrublet_histogram.png', dpi=150, facecolor='white')\n",
    "        plt.show()\n",
    "        plt.close()\n",
    "        \n",
    "        scrublet = pd.DataFrame([scrub.doublet_scores_obs_, scrub.predicted_doublets_], \n",
    "            columns=cto.cell_names,\n",
    "            index=['Doublet_scores_fragments', 'Predicted_doublets_fragments']).T\n",
    "        cto.add_cell_data(scrublet)\n",
    "        n_scrublet_doublets = len(cto.cell_data[cto.cell_data[\"Predicted_doublets_fragments\"] == True])\n",
    "        print(f\"{sample}: found doublets: \\n\\t({n_scrublet_doublets}: Scrublet)\"\n",
    "             )\n",
    "\n",
    "        cto_path_new = scrubcto_dict[sample]\n",
    "\n",
    "        with open(\n",
    "            cto_path_new, \"wb\"\n",
    "        ) as f:\n",
    "            pickle.dump(cto, f, protocol=4)\n",
    "            \n",
    "        print('Running UMAP...')\n",
    "        # scrub.set_embedding('UMAP', scr.get_umap(scrub.manifold_obs_, 10, min_dist=0.3))\n",
    "        # scrub.plot_embedding('UMAP', order_points=True);\n",
    "        # plt.savefig(f'plots_qc/{sample}.scrublet_umap.png', dpi=150, facecolor='white')\n",
    "        # plt.show()\n",
    "        # plt.close()\n",
    "\n",
    "\n",
    "\n",
    "        print('\\n')\n",
    "        \n",
    "else:\n",
    "    print(\"All samples already processed.\")"
   ]
  },
  {
   "cell_type": "markdown",
   "id": "e896e536",
   "metadata": {
    "papermill": {
     "duration": 0.024439,
     "end_time": "2022-08-28T01:28:07.857606",
     "exception": false,
     "start_time": "2022-08-28T01:28:07.833167",
     "status": "completed"
    },
    "tags": []
   },
   "source": [
    "## Cell filtering"
   ]
  },
  {
   "cell_type": "markdown",
   "id": "73cc7104",
   "metadata": {
    "papermill": {
     "duration": 0.024918,
     "end_time": "2022-08-28T01:28:07.907138",
     "exception": false,
     "start_time": "2022-08-28T01:28:07.882220",
     "status": "completed"
    },
    "tags": []
   },
   "source": [
    "### Read in Freemuxlet doublet predictions"
   ]
  },
  {
   "cell_type": "code",
   "execution_count": 65,
   "id": "87b5b037",
   "metadata": {
    "papermill": {
     "duration": 0.024726,
     "end_time": "2022-08-28T01:28:07.956521",
     "exception": false,
     "start_time": "2022-08-28T01:28:07.931795",
     "status": "completed"
    },
    "tags": []
   },
   "outputs": [
    {
     "data": {
      "text/html": [
       "<div>\n",
       "<style scoped>\n",
       "    .dataframe tbody tr th:only-of-type {\n",
       "        vertical-align: middle;\n",
       "    }\n",
       "\n",
       "    .dataframe tbody tr th {\n",
       "        vertical-align: top;\n",
       "    }\n",
       "\n",
       "    .dataframe thead th {\n",
       "        text-align: right;\n",
       "    }\n",
       "</style>\n",
       "<table border=\"1\" class=\"dataframe\">\n",
       "  <thead>\n",
       "    <tr style=\"text-align: right;\">\n",
       "      <th></th>\n",
       "      <th>INT_ID</th>\n",
       "      <th>BARCODE</th>\n",
       "      <th>NUM.SNPS</th>\n",
       "      <th>NUM.READS</th>\n",
       "      <th>DROPLET.TYPE</th>\n",
       "      <th>BEST.GUESS</th>\n",
       "      <th>BEST.LLK</th>\n",
       "      <th>NEXT.GUESS</th>\n",
       "      <th>NEXT.LLK</th>\n",
       "      <th>DIFF.LLK.BEST.NEXT</th>\n",
       "      <th>...</th>\n",
       "      <th>SNG.BEST.LLK</th>\n",
       "      <th>SNG.NEXT.GUESS</th>\n",
       "      <th>SNG.NEXT.LLK</th>\n",
       "      <th>SNG.ONLY.POSTERIOR</th>\n",
       "      <th>DBL.BEST.GUESS</th>\n",
       "      <th>DBL.BEST.LLK</th>\n",
       "      <th>DIFF.LLK.SNG.DBL</th>\n",
       "      <th>ubarcode</th>\n",
       "      <th>replicate</th>\n",
       "      <th>sample</th>\n",
       "    </tr>\n",
       "  </thead>\n",
       "  <tbody>\n",
       "    <tr>\n",
       "      <th>CNA_hydrop_2.FIXEDCELLS.1</th>\n",
       "      <td>0</td>\n",
       "      <td>CGACATTACATAGGAGTCAA</td>\n",
       "      <td>182</td>\n",
       "      <td>182</td>\n",
       "      <td>SNG</td>\n",
       "      <td>1,1</td>\n",
       "      <td>-324.11</td>\n",
       "      <td>1,0</td>\n",
       "      <td>-343.05</td>\n",
       "      <td>18.94</td>\n",
       "      <td>...</td>\n",
       "      <td>-324.11</td>\n",
       "      <td>0</td>\n",
       "      <td>-373.28</td>\n",
       "      <td>1.0</td>\n",
       "      <td>1,0</td>\n",
       "      <td>-343.05</td>\n",
       "      <td>18.94</td>\n",
       "      <td>CNA_hydrop_2.FIXEDCELLS#CGACATTACATAGGAGTCAA</td>\n",
       "      <td>CNA_hydrop_2.FIXEDCELLS</td>\n",
       "      <td>sampleB</td>\n",
       "    </tr>\n",
       "    <tr>\n",
       "      <th>CNA_hydrop_2.FIXEDCELLS.2</th>\n",
       "      <td>1</td>\n",
       "      <td>GGCAACCTCTGAGCTAGTAA</td>\n",
       "      <td>209</td>\n",
       "      <td>209</td>\n",
       "      <td>SNG</td>\n",
       "      <td>0,0</td>\n",
       "      <td>-369.10</td>\n",
       "      <td>1,0</td>\n",
       "      <td>-390.29</td>\n",
       "      <td>21.19</td>\n",
       "      <td>...</td>\n",
       "      <td>-369.10</td>\n",
       "      <td>1</td>\n",
       "      <td>-426.11</td>\n",
       "      <td>1.0</td>\n",
       "      <td>1,0</td>\n",
       "      <td>-390.29</td>\n",
       "      <td>21.19</td>\n",
       "      <td>CNA_hydrop_2.FIXEDCELLS#GGCAACCTCTGAGCTAGTAA</td>\n",
       "      <td>CNA_hydrop_2.FIXEDCELLS</td>\n",
       "      <td>sampleA</td>\n",
       "    </tr>\n",
       "    <tr>\n",
       "      <th>CNA_hydrop_2.FIXEDCELLS.3</th>\n",
       "      <td>2</td>\n",
       "      <td>CAACACCATTTCTCGCACGA</td>\n",
       "      <td>273</td>\n",
       "      <td>273</td>\n",
       "      <td>SNG</td>\n",
       "      <td>0,0</td>\n",
       "      <td>-492.20</td>\n",
       "      <td>1,0</td>\n",
       "      <td>-520.48</td>\n",
       "      <td>28.28</td>\n",
       "      <td>...</td>\n",
       "      <td>-492.20</td>\n",
       "      <td>1</td>\n",
       "      <td>-576.63</td>\n",
       "      <td>1.0</td>\n",
       "      <td>1,0</td>\n",
       "      <td>-520.48</td>\n",
       "      <td>28.28</td>\n",
       "      <td>CNA_hydrop_2.FIXEDCELLS#CAACACCATTTCTCGCACGA</td>\n",
       "      <td>CNA_hydrop_2.FIXEDCELLS</td>\n",
       "      <td>sampleA</td>\n",
       "    </tr>\n",
       "    <tr>\n",
       "      <th>CNA_hydrop_2.FIXEDCELLS.4</th>\n",
       "      <td>3</td>\n",
       "      <td>TGCATGAGGTTACGGACGGT</td>\n",
       "      <td>354</td>\n",
       "      <td>354</td>\n",
       "      <td>SNG</td>\n",
       "      <td>1,1</td>\n",
       "      <td>-636.69</td>\n",
       "      <td>1,0</td>\n",
       "      <td>-669.83</td>\n",
       "      <td>33.14</td>\n",
       "      <td>...</td>\n",
       "      <td>-636.69</td>\n",
       "      <td>0</td>\n",
       "      <td>-734.25</td>\n",
       "      <td>1.0</td>\n",
       "      <td>1,0</td>\n",
       "      <td>-669.83</td>\n",
       "      <td>33.14</td>\n",
       "      <td>CNA_hydrop_2.FIXEDCELLS#TGCATGAGGTTACGGACGGT</td>\n",
       "      <td>CNA_hydrop_2.FIXEDCELLS</td>\n",
       "      <td>sampleB</td>\n",
       "    </tr>\n",
       "    <tr>\n",
       "      <th>CNA_hydrop_2.FIXEDCELLS.5</th>\n",
       "      <td>4</td>\n",
       "      <td>ACAGTGAAGATCCAGTGTTC</td>\n",
       "      <td>577</td>\n",
       "      <td>577</td>\n",
       "      <td>SNG</td>\n",
       "      <td>0,0</td>\n",
       "      <td>-1069.99</td>\n",
       "      <td>1,0</td>\n",
       "      <td>-1093.26</td>\n",
       "      <td>23.27</td>\n",
       "      <td>...</td>\n",
       "      <td>-1069.99</td>\n",
       "      <td>1</td>\n",
       "      <td>-1173.29</td>\n",
       "      <td>1.0</td>\n",
       "      <td>1,0</td>\n",
       "      <td>-1093.26</td>\n",
       "      <td>23.27</td>\n",
       "      <td>CNA_hydrop_2.FIXEDCELLS#ACAGTGAAGATCCAGTGTTC</td>\n",
       "      <td>CNA_hydrop_2.FIXEDCELLS</td>\n",
       "      <td>sampleA</td>\n",
       "    </tr>\n",
       "    <tr>\n",
       "      <th>...</th>\n",
       "      <td>...</td>\n",
       "      <td>...</td>\n",
       "      <td>...</td>\n",
       "      <td>...</td>\n",
       "      <td>...</td>\n",
       "      <td>...</td>\n",
       "      <td>...</td>\n",
       "      <td>...</td>\n",
       "      <td>...</td>\n",
       "      <td>...</td>\n",
       "      <td>...</td>\n",
       "      <td>...</td>\n",
       "      <td>...</td>\n",
       "      <td>...</td>\n",
       "      <td>...</td>\n",
       "      <td>...</td>\n",
       "      <td>...</td>\n",
       "      <td>...</td>\n",
       "      <td>...</td>\n",
       "      <td>...</td>\n",
       "      <td>...</td>\n",
       "    </tr>\n",
       "    <tr>\n",
       "      <th>VIB_hydrop_12.FIXEDCELLS.1417</th>\n",
       "      <td>1416</td>\n",
       "      <td>GTCGTTGAGAGTGACCAGTA</td>\n",
       "      <td>126</td>\n",
       "      <td>126</td>\n",
       "      <td>SNG</td>\n",
       "      <td>1,1</td>\n",
       "      <td>-221.86</td>\n",
       "      <td>1,0</td>\n",
       "      <td>-240.94</td>\n",
       "      <td>19.08</td>\n",
       "      <td>...</td>\n",
       "      <td>-221.86</td>\n",
       "      <td>0</td>\n",
       "      <td>-283.50</td>\n",
       "      <td>1.0</td>\n",
       "      <td>1,0</td>\n",
       "      <td>-240.94</td>\n",
       "      <td>19.08</td>\n",
       "      <td>VIB_hydrop_12.FIXEDCELLS#GTCGTTGAGAGTGACCAGTA</td>\n",
       "      <td>VIB_hydrop_12.FIXEDCELLS</td>\n",
       "      <td>sampleB</td>\n",
       "    </tr>\n",
       "    <tr>\n",
       "      <th>VIB_hydrop_12.FIXEDCELLS.1418</th>\n",
       "      <td>1417</td>\n",
       "      <td>ACCGAAGGCTTTGCAGTTCT</td>\n",
       "      <td>103</td>\n",
       "      <td>103</td>\n",
       "      <td>SNG</td>\n",
       "      <td>1,1</td>\n",
       "      <td>-185.75</td>\n",
       "      <td>1,0</td>\n",
       "      <td>-198.81</td>\n",
       "      <td>13.06</td>\n",
       "      <td>...</td>\n",
       "      <td>-185.75</td>\n",
       "      <td>0</td>\n",
       "      <td>-226.20</td>\n",
       "      <td>1.0</td>\n",
       "      <td>1,0</td>\n",
       "      <td>-198.81</td>\n",
       "      <td>13.06</td>\n",
       "      <td>VIB_hydrop_12.FIXEDCELLS#ACCGAAGGCTTTGCAGTTCT</td>\n",
       "      <td>VIB_hydrop_12.FIXEDCELLS</td>\n",
       "      <td>sampleB</td>\n",
       "    </tr>\n",
       "    <tr>\n",
       "      <th>VIB_hydrop_12.FIXEDCELLS.1419</th>\n",
       "      <td>1418</td>\n",
       "      <td>TAGAGCCTGATTGTGTAGGA</td>\n",
       "      <td>115</td>\n",
       "      <td>115</td>\n",
       "      <td>SNG</td>\n",
       "      <td>1,1</td>\n",
       "      <td>-207.21</td>\n",
       "      <td>1,0</td>\n",
       "      <td>-219.27</td>\n",
       "      <td>12.06</td>\n",
       "      <td>...</td>\n",
       "      <td>-207.21</td>\n",
       "      <td>0</td>\n",
       "      <td>-244.26</td>\n",
       "      <td>1.0</td>\n",
       "      <td>1,0</td>\n",
       "      <td>-219.27</td>\n",
       "      <td>12.06</td>\n",
       "      <td>VIB_hydrop_12.FIXEDCELLS#TAGAGCCTGATTGTGTAGGA</td>\n",
       "      <td>VIB_hydrop_12.FIXEDCELLS</td>\n",
       "      <td>sampleB</td>\n",
       "    </tr>\n",
       "    <tr>\n",
       "      <th>VIB_hydrop_12.FIXEDCELLS.1420</th>\n",
       "      <td>1419</td>\n",
       "      <td>CAATTGGAGACCACACGGAT</td>\n",
       "      <td>101</td>\n",
       "      <td>101</td>\n",
       "      <td>SNG</td>\n",
       "      <td>1,1</td>\n",
       "      <td>-177.98</td>\n",
       "      <td>1,0</td>\n",
       "      <td>-188.29</td>\n",
       "      <td>10.31</td>\n",
       "      <td>...</td>\n",
       "      <td>-177.98</td>\n",
       "      <td>0</td>\n",
       "      <td>-214.34</td>\n",
       "      <td>1.0</td>\n",
       "      <td>1,0</td>\n",
       "      <td>-188.29</td>\n",
       "      <td>10.31</td>\n",
       "      <td>VIB_hydrop_12.FIXEDCELLS#CAATTGGAGACCACACGGAT</td>\n",
       "      <td>VIB_hydrop_12.FIXEDCELLS</td>\n",
       "      <td>sampleB</td>\n",
       "    </tr>\n",
       "    <tr>\n",
       "      <th>VIB_hydrop_12.FIXEDCELLS.1421</th>\n",
       "      <td>1420</td>\n",
       "      <td>TCGTCACAAGATCCAGCGCA</td>\n",
       "      <td>96</td>\n",
       "      <td>96</td>\n",
       "      <td>SNG</td>\n",
       "      <td>0,0</td>\n",
       "      <td>-165.04</td>\n",
       "      <td>1,0</td>\n",
       "      <td>-177.31</td>\n",
       "      <td>12.28</td>\n",
       "      <td>...</td>\n",
       "      <td>-165.04</td>\n",
       "      <td>1</td>\n",
       "      <td>-201.88</td>\n",
       "      <td>1.0</td>\n",
       "      <td>1,0</td>\n",
       "      <td>-177.31</td>\n",
       "      <td>12.28</td>\n",
       "      <td>VIB_hydrop_12.FIXEDCELLS#TCGTCACAAGATCCAGCGCA</td>\n",
       "      <td>VIB_hydrop_12.FIXEDCELLS</td>\n",
       "      <td>sampleA</td>\n",
       "    </tr>\n",
       "  </tbody>\n",
       "</table>\n",
       "<p>119904 rows × 23 columns</p>\n",
       "</div>"
      ],
      "text/plain": [
       "                               INT_ID               BARCODE  NUM.SNPS  \\\n",
       "CNA_hydrop_2.FIXEDCELLS.1           0  CGACATTACATAGGAGTCAA       182   \n",
       "CNA_hydrop_2.FIXEDCELLS.2           1  GGCAACCTCTGAGCTAGTAA       209   \n",
       "CNA_hydrop_2.FIXEDCELLS.3           2  CAACACCATTTCTCGCACGA       273   \n",
       "CNA_hydrop_2.FIXEDCELLS.4           3  TGCATGAGGTTACGGACGGT       354   \n",
       "CNA_hydrop_2.FIXEDCELLS.5           4  ACAGTGAAGATCCAGTGTTC       577   \n",
       "...                               ...                   ...       ...   \n",
       "VIB_hydrop_12.FIXEDCELLS.1417    1416  GTCGTTGAGAGTGACCAGTA       126   \n",
       "VIB_hydrop_12.FIXEDCELLS.1418    1417  ACCGAAGGCTTTGCAGTTCT       103   \n",
       "VIB_hydrop_12.FIXEDCELLS.1419    1418  TAGAGCCTGATTGTGTAGGA       115   \n",
       "VIB_hydrop_12.FIXEDCELLS.1420    1419  CAATTGGAGACCACACGGAT       101   \n",
       "VIB_hydrop_12.FIXEDCELLS.1421    1420  TCGTCACAAGATCCAGCGCA        96   \n",
       "\n",
       "                               NUM.READS DROPLET.TYPE BEST.GUESS  BEST.LLK  \\\n",
       "CNA_hydrop_2.FIXEDCELLS.1            182          SNG        1,1   -324.11   \n",
       "CNA_hydrop_2.FIXEDCELLS.2            209          SNG        0,0   -369.10   \n",
       "CNA_hydrop_2.FIXEDCELLS.3            273          SNG        0,0   -492.20   \n",
       "CNA_hydrop_2.FIXEDCELLS.4            354          SNG        1,1   -636.69   \n",
       "CNA_hydrop_2.FIXEDCELLS.5            577          SNG        0,0  -1069.99   \n",
       "...                                  ...          ...        ...       ...   \n",
       "VIB_hydrop_12.FIXEDCELLS.1417        126          SNG        1,1   -221.86   \n",
       "VIB_hydrop_12.FIXEDCELLS.1418        103          SNG        1,1   -185.75   \n",
       "VIB_hydrop_12.FIXEDCELLS.1419        115          SNG        1,1   -207.21   \n",
       "VIB_hydrop_12.FIXEDCELLS.1420        101          SNG        1,1   -177.98   \n",
       "VIB_hydrop_12.FIXEDCELLS.1421         96          SNG        0,0   -165.04   \n",
       "\n",
       "                              NEXT.GUESS  NEXT.LLK  DIFF.LLK.BEST.NEXT  ...  \\\n",
       "CNA_hydrop_2.FIXEDCELLS.1            1,0   -343.05               18.94  ...   \n",
       "CNA_hydrop_2.FIXEDCELLS.2            1,0   -390.29               21.19  ...   \n",
       "CNA_hydrop_2.FIXEDCELLS.3            1,0   -520.48               28.28  ...   \n",
       "CNA_hydrop_2.FIXEDCELLS.4            1,0   -669.83               33.14  ...   \n",
       "CNA_hydrop_2.FIXEDCELLS.5            1,0  -1093.26               23.27  ...   \n",
       "...                                  ...       ...                 ...  ...   \n",
       "VIB_hydrop_12.FIXEDCELLS.1417        1,0   -240.94               19.08  ...   \n",
       "VIB_hydrop_12.FIXEDCELLS.1418        1,0   -198.81               13.06  ...   \n",
       "VIB_hydrop_12.FIXEDCELLS.1419        1,0   -219.27               12.06  ...   \n",
       "VIB_hydrop_12.FIXEDCELLS.1420        1,0   -188.29               10.31  ...   \n",
       "VIB_hydrop_12.FIXEDCELLS.1421        1,0   -177.31               12.28  ...   \n",
       "\n",
       "                               SNG.BEST.LLK  SNG.NEXT.GUESS  SNG.NEXT.LLK  \\\n",
       "CNA_hydrop_2.FIXEDCELLS.1           -324.11               0       -373.28   \n",
       "CNA_hydrop_2.FIXEDCELLS.2           -369.10               1       -426.11   \n",
       "CNA_hydrop_2.FIXEDCELLS.3           -492.20               1       -576.63   \n",
       "CNA_hydrop_2.FIXEDCELLS.4           -636.69               0       -734.25   \n",
       "CNA_hydrop_2.FIXEDCELLS.5          -1069.99               1      -1173.29   \n",
       "...                                     ...             ...           ...   \n",
       "VIB_hydrop_12.FIXEDCELLS.1417       -221.86               0       -283.50   \n",
       "VIB_hydrop_12.FIXEDCELLS.1418       -185.75               0       -226.20   \n",
       "VIB_hydrop_12.FIXEDCELLS.1419       -207.21               0       -244.26   \n",
       "VIB_hydrop_12.FIXEDCELLS.1420       -177.98               0       -214.34   \n",
       "VIB_hydrop_12.FIXEDCELLS.1421       -165.04               1       -201.88   \n",
       "\n",
       "                               SNG.ONLY.POSTERIOR  DBL.BEST.GUESS  \\\n",
       "CNA_hydrop_2.FIXEDCELLS.1                     1.0             1,0   \n",
       "CNA_hydrop_2.FIXEDCELLS.2                     1.0             1,0   \n",
       "CNA_hydrop_2.FIXEDCELLS.3                     1.0             1,0   \n",
       "CNA_hydrop_2.FIXEDCELLS.4                     1.0             1,0   \n",
       "CNA_hydrop_2.FIXEDCELLS.5                     1.0             1,0   \n",
       "...                                           ...             ...   \n",
       "VIB_hydrop_12.FIXEDCELLS.1417                 1.0             1,0   \n",
       "VIB_hydrop_12.FIXEDCELLS.1418                 1.0             1,0   \n",
       "VIB_hydrop_12.FIXEDCELLS.1419                 1.0             1,0   \n",
       "VIB_hydrop_12.FIXEDCELLS.1420                 1.0             1,0   \n",
       "VIB_hydrop_12.FIXEDCELLS.1421                 1.0             1,0   \n",
       "\n",
       "                               DBL.BEST.LLK  DIFF.LLK.SNG.DBL  \\\n",
       "CNA_hydrop_2.FIXEDCELLS.1           -343.05             18.94   \n",
       "CNA_hydrop_2.FIXEDCELLS.2           -390.29             21.19   \n",
       "CNA_hydrop_2.FIXEDCELLS.3           -520.48             28.28   \n",
       "CNA_hydrop_2.FIXEDCELLS.4           -669.83             33.14   \n",
       "CNA_hydrop_2.FIXEDCELLS.5          -1093.26             23.27   \n",
       "...                                     ...               ...   \n",
       "VIB_hydrop_12.FIXEDCELLS.1417       -240.94             19.08   \n",
       "VIB_hydrop_12.FIXEDCELLS.1418       -198.81             13.06   \n",
       "VIB_hydrop_12.FIXEDCELLS.1419       -219.27             12.06   \n",
       "VIB_hydrop_12.FIXEDCELLS.1420       -188.29             10.31   \n",
       "VIB_hydrop_12.FIXEDCELLS.1421       -177.31             12.28   \n",
       "\n",
       "                                                                    ubarcode  \\\n",
       "CNA_hydrop_2.FIXEDCELLS.1       CNA_hydrop_2.FIXEDCELLS#CGACATTACATAGGAGTCAA   \n",
       "CNA_hydrop_2.FIXEDCELLS.2       CNA_hydrop_2.FIXEDCELLS#GGCAACCTCTGAGCTAGTAA   \n",
       "CNA_hydrop_2.FIXEDCELLS.3       CNA_hydrop_2.FIXEDCELLS#CAACACCATTTCTCGCACGA   \n",
       "CNA_hydrop_2.FIXEDCELLS.4       CNA_hydrop_2.FIXEDCELLS#TGCATGAGGTTACGGACGGT   \n",
       "CNA_hydrop_2.FIXEDCELLS.5       CNA_hydrop_2.FIXEDCELLS#ACAGTGAAGATCCAGTGTTC   \n",
       "...                                                                      ...   \n",
       "VIB_hydrop_12.FIXEDCELLS.1417  VIB_hydrop_12.FIXEDCELLS#GTCGTTGAGAGTGACCAGTA   \n",
       "VIB_hydrop_12.FIXEDCELLS.1418  VIB_hydrop_12.FIXEDCELLS#ACCGAAGGCTTTGCAGTTCT   \n",
       "VIB_hydrop_12.FIXEDCELLS.1419  VIB_hydrop_12.FIXEDCELLS#TAGAGCCTGATTGTGTAGGA   \n",
       "VIB_hydrop_12.FIXEDCELLS.1420  VIB_hydrop_12.FIXEDCELLS#CAATTGGAGACCACACGGAT   \n",
       "VIB_hydrop_12.FIXEDCELLS.1421  VIB_hydrop_12.FIXEDCELLS#TCGTCACAAGATCCAGCGCA   \n",
       "\n",
       "                                              replicate   sample  \n",
       "CNA_hydrop_2.FIXEDCELLS.1       CNA_hydrop_2.FIXEDCELLS  sampleB  \n",
       "CNA_hydrop_2.FIXEDCELLS.2       CNA_hydrop_2.FIXEDCELLS  sampleA  \n",
       "CNA_hydrop_2.FIXEDCELLS.3       CNA_hydrop_2.FIXEDCELLS  sampleA  \n",
       "CNA_hydrop_2.FIXEDCELLS.4       CNA_hydrop_2.FIXEDCELLS  sampleB  \n",
       "CNA_hydrop_2.FIXEDCELLS.5       CNA_hydrop_2.FIXEDCELLS  sampleA  \n",
       "...                                                 ...      ...  \n",
       "VIB_hydrop_12.FIXEDCELLS.1417  VIB_hydrop_12.FIXEDCELLS  sampleB  \n",
       "VIB_hydrop_12.FIXEDCELLS.1418  VIB_hydrop_12.FIXEDCELLS  sampleB  \n",
       "VIB_hydrop_12.FIXEDCELLS.1419  VIB_hydrop_12.FIXEDCELLS  sampleB  \n",
       "VIB_hydrop_12.FIXEDCELLS.1420  VIB_hydrop_12.FIXEDCELLS  sampleB  \n",
       "VIB_hydrop_12.FIXEDCELLS.1421  VIB_hydrop_12.FIXEDCELLS  sampleA  \n",
       "\n",
       "[119904 rows x 23 columns]"
      ]
     },
     "execution_count": 65,
     "metadata": {},
     "output_type": "execute_result"
    },
    {
     "data": {
      "application/javascript": [
       "\n",
       "            setTimeout(function() {\n",
       "                var nbb_cell_id = 65;\n",
       "                var nbb_unformatted_code = \"f_fmx = 'out_fmx/genotype_concordance_unified.txt'\\nfmx = pd.read_csv(f_fmx, sep='\\\\t')\\nfmx\";\n",
       "                var nbb_formatted_code = \"f_fmx = \\\"out_fmx/genotype_concordance_unified.txt\\\"\\nfmx = pd.read_csv(f_fmx, sep=\\\"\\\\t\\\")\\nfmx\";\n",
       "                var nbb_cells = Jupyter.notebook.get_cells();\n",
       "                for (var i = 0; i < nbb_cells.length; ++i) {\n",
       "                    if (nbb_cells[i].input_prompt_number == nbb_cell_id) {\n",
       "                        if (nbb_cells[i].get_text() == nbb_unformatted_code) {\n",
       "                             nbb_cells[i].set_text(nbb_formatted_code);\n",
       "                        }\n",
       "                        break;\n",
       "                    }\n",
       "                }\n",
       "            }, 500);\n",
       "            "
      ],
      "text/plain": [
       "<IPython.core.display.Javascript object>"
      ]
     },
     "metadata": {},
     "output_type": "display_data"
    }
   ],
   "source": [
    "f_fmx = 'out_fmx/genotype_concordance_unified.txt'\n",
    "fmx = pd.read_csv(f_fmx, sep='\\t')\n",
    "fmx"
   ]
  },
  {
   "cell_type": "code",
   "execution_count": 66,
   "id": "739f48f0",
   "metadata": {
    "papermill": {
     "duration": 0.0247,
     "end_time": "2022-08-28T01:28:08.005901",
     "exception": false,
     "start_time": "2022-08-28T01:28:07.981201",
     "status": "completed"
    },
    "tags": []
   },
   "outputs": [
    {
     "data": {
      "text/plain": [
       "array(['SNG', 'DBL', 'AMB'], dtype=object)"
      ]
     },
     "execution_count": 66,
     "metadata": {},
     "output_type": "execute_result"
    },
    {
     "data": {
      "application/javascript": [
       "\n",
       "            setTimeout(function() {\n",
       "                var nbb_cell_id = 66;\n",
       "                var nbb_unformatted_code = \"fmx['DROPLET.TYPE'].unique()\";\n",
       "                var nbb_formatted_code = \"fmx[\\\"DROPLET.TYPE\\\"].unique()\";\n",
       "                var nbb_cells = Jupyter.notebook.get_cells();\n",
       "                for (var i = 0; i < nbb_cells.length; ++i) {\n",
       "                    if (nbb_cells[i].input_prompt_number == nbb_cell_id) {\n",
       "                        if (nbb_cells[i].get_text() == nbb_unformatted_code) {\n",
       "                             nbb_cells[i].set_text(nbb_formatted_code);\n",
       "                        }\n",
       "                        break;\n",
       "                    }\n",
       "                }\n",
       "            }, 500);\n",
       "            "
      ],
      "text/plain": [
       "<IPython.core.display.Javascript object>"
      ]
     },
     "metadata": {},
     "output_type": "display_data"
    }
   ],
   "source": [
    "fmx['DROPLET.TYPE'].unique()"
   ]
  },
  {
   "cell_type": "code",
   "execution_count": 67,
   "id": "558abdb0",
   "metadata": {
    "papermill": {
     "duration": 0.025055,
     "end_time": "2022-08-28T01:28:08.056170",
     "exception": false,
     "start_time": "2022-08-28T01:28:08.031115",
     "status": "completed"
    },
    "tags": []
   },
   "outputs": [
    {
     "data": {
      "text/html": [
       "<div>\n",
       "<style scoped>\n",
       "    .dataframe tbody tr th:only-of-type {\n",
       "        vertical-align: middle;\n",
       "    }\n",
       "\n",
       "    .dataframe tbody tr th {\n",
       "        vertical-align: top;\n",
       "    }\n",
       "\n",
       "    .dataframe thead th {\n",
       "        text-align: right;\n",
       "    }\n",
       "</style>\n",
       "<table border=\"1\" class=\"dataframe\">\n",
       "  <thead>\n",
       "    <tr style=\"text-align: right;\">\n",
       "      <th></th>\n",
       "      <th>fmx_droplet_type</th>\n",
       "      <th>fmx_sample</th>\n",
       "    </tr>\n",
       "    <tr>\n",
       "      <th>cell_names</th>\n",
       "      <th></th>\n",
       "      <th></th>\n",
       "    </tr>\n",
       "  </thead>\n",
       "  <tbody>\n",
       "    <tr>\n",
       "      <th>CGACATTACATAGGAGTCAA___CNA_hydrop_2.FIXEDCELLS</th>\n",
       "      <td>SNG</td>\n",
       "      <td>sampleB</td>\n",
       "    </tr>\n",
       "    <tr>\n",
       "      <th>GGCAACCTCTGAGCTAGTAA___CNA_hydrop_2.FIXEDCELLS</th>\n",
       "      <td>SNG</td>\n",
       "      <td>sampleA</td>\n",
       "    </tr>\n",
       "    <tr>\n",
       "      <th>CAACACCATTTCTCGCACGA___CNA_hydrop_2.FIXEDCELLS</th>\n",
       "      <td>SNG</td>\n",
       "      <td>sampleA</td>\n",
       "    </tr>\n",
       "    <tr>\n",
       "      <th>TGCATGAGGTTACGGACGGT___CNA_hydrop_2.FIXEDCELLS</th>\n",
       "      <td>SNG</td>\n",
       "      <td>sampleB</td>\n",
       "    </tr>\n",
       "    <tr>\n",
       "      <th>ACAGTGAAGATCCAGTGTTC___CNA_hydrop_2.FIXEDCELLS</th>\n",
       "      <td>SNG</td>\n",
       "      <td>sampleA</td>\n",
       "    </tr>\n",
       "    <tr>\n",
       "      <th>...</th>\n",
       "      <td>...</td>\n",
       "      <td>...</td>\n",
       "    </tr>\n",
       "    <tr>\n",
       "      <th>GTCGTTGAGAGTGACCAGTA___VIB_hydrop_12.FIXEDCELLS</th>\n",
       "      <td>SNG</td>\n",
       "      <td>sampleB</td>\n",
       "    </tr>\n",
       "    <tr>\n",
       "      <th>ACCGAAGGCTTTGCAGTTCT___VIB_hydrop_12.FIXEDCELLS</th>\n",
       "      <td>SNG</td>\n",
       "      <td>sampleB</td>\n",
       "    </tr>\n",
       "    <tr>\n",
       "      <th>TAGAGCCTGATTGTGTAGGA___VIB_hydrop_12.FIXEDCELLS</th>\n",
       "      <td>SNG</td>\n",
       "      <td>sampleB</td>\n",
       "    </tr>\n",
       "    <tr>\n",
       "      <th>CAATTGGAGACCACACGGAT___VIB_hydrop_12.FIXEDCELLS</th>\n",
       "      <td>SNG</td>\n",
       "      <td>sampleB</td>\n",
       "    </tr>\n",
       "    <tr>\n",
       "      <th>TCGTCACAAGATCCAGCGCA___VIB_hydrop_12.FIXEDCELLS</th>\n",
       "      <td>SNG</td>\n",
       "      <td>sampleA</td>\n",
       "    </tr>\n",
       "  </tbody>\n",
       "</table>\n",
       "<p>119904 rows × 2 columns</p>\n",
       "</div>"
      ],
      "text/plain": [
       "                                                fmx_droplet_type fmx_sample\n",
       "cell_names                                                                 \n",
       "CGACATTACATAGGAGTCAA___CNA_hydrop_2.FIXEDCELLS               SNG    sampleB\n",
       "GGCAACCTCTGAGCTAGTAA___CNA_hydrop_2.FIXEDCELLS               SNG    sampleA\n",
       "CAACACCATTTCTCGCACGA___CNA_hydrop_2.FIXEDCELLS               SNG    sampleA\n",
       "TGCATGAGGTTACGGACGGT___CNA_hydrop_2.FIXEDCELLS               SNG    sampleB\n",
       "ACAGTGAAGATCCAGTGTTC___CNA_hydrop_2.FIXEDCELLS               SNG    sampleA\n",
       "...                                                          ...        ...\n",
       "GTCGTTGAGAGTGACCAGTA___VIB_hydrop_12.FIXEDCELLS              SNG    sampleB\n",
       "ACCGAAGGCTTTGCAGTTCT___VIB_hydrop_12.FIXEDCELLS              SNG    sampleB\n",
       "TAGAGCCTGATTGTGTAGGA___VIB_hydrop_12.FIXEDCELLS              SNG    sampleB\n",
       "CAATTGGAGACCACACGGAT___VIB_hydrop_12.FIXEDCELLS              SNG    sampleB\n",
       "TCGTCACAAGATCCAGCGCA___VIB_hydrop_12.FIXEDCELLS              SNG    sampleA\n",
       "\n",
       "[119904 rows x 2 columns]"
      ]
     },
     "execution_count": 67,
     "metadata": {},
     "output_type": "execute_result"
    },
    {
     "data": {
      "application/javascript": [
       "\n",
       "            setTimeout(function() {\n",
       "                var nbb_cell_id = 67;\n",
       "                var nbb_unformatted_code = \"# create an annotation df:\\nfmx['cell_names'] = fmx['BARCODE'] + \\\"___\\\" + fmx['replicate']\\n\\nfmx_annot = fmx[['DROPLET.TYPE','sample','cell_names']].copy().set_index('cell_names')\\nfmx_annot.columns = ['fmx_droplet_type','fmx_sample']\\nfmx_annot\";\n",
       "                var nbb_formatted_code = \"# create an annotation df:\\nfmx[\\\"cell_names\\\"] = fmx[\\\"BARCODE\\\"] + \\\"___\\\" + fmx[\\\"replicate\\\"]\\n\\nfmx_annot = fmx[[\\\"DROPLET.TYPE\\\", \\\"sample\\\", \\\"cell_names\\\"]].copy().set_index(\\\"cell_names\\\")\\nfmx_annot.columns = [\\\"fmx_droplet_type\\\", \\\"fmx_sample\\\"]\\nfmx_annot\";\n",
       "                var nbb_cells = Jupyter.notebook.get_cells();\n",
       "                for (var i = 0; i < nbb_cells.length; ++i) {\n",
       "                    if (nbb_cells[i].input_prompt_number == nbb_cell_id) {\n",
       "                        if (nbb_cells[i].get_text() == nbb_unformatted_code) {\n",
       "                             nbb_cells[i].set_text(nbb_formatted_code);\n",
       "                        }\n",
       "                        break;\n",
       "                    }\n",
       "                }\n",
       "            }, 500);\n",
       "            "
      ],
      "text/plain": [
       "<IPython.core.display.Javascript object>"
      ]
     },
     "metadata": {},
     "output_type": "display_data"
    }
   ],
   "source": [
    "# create an annotation df:\n",
    "fmx['cell_names'] = fmx['BARCODE'] + \"___\" + fmx['replicate']\n",
    "\n",
    "fmx_annot = fmx[['DROPLET.TYPE','sample','cell_names']].copy().set_index('cell_names')\n",
    "fmx_annot.columns = ['fmx_droplet_type','fmx_sample']\n",
    "fmx_annot"
   ]
  },
  {
   "cell_type": "code",
   "execution_count": 68,
   "id": "94bc307d",
   "metadata": {
    "tags": []
   },
   "outputs": [
    {
     "data": {
      "text/plain": [
       "39"
      ]
     },
     "execution_count": 68,
     "metadata": {},
     "output_type": "execute_result"
    },
    {
     "data": {
      "application/javascript": [
       "\n",
       "            setTimeout(function() {\n",
       "                var nbb_cell_id = 68;\n",
       "                var nbb_unformatted_code = \"fmx_samples = sorted(list(set([x.split('.')[0] + '.' + x.split('.')[1] for x in fmx.index])))\\nlen(fmx_samples)\";\n",
       "                var nbb_formatted_code = \"fmx_samples = sorted(\\n    list(set([x.split(\\\".\\\")[0] + \\\".\\\" + x.split(\\\".\\\")[1] for x in fmx.index]))\\n)\\nlen(fmx_samples)\";\n",
       "                var nbb_cells = Jupyter.notebook.get_cells();\n",
       "                for (var i = 0; i < nbb_cells.length; ++i) {\n",
       "                    if (nbb_cells[i].input_prompt_number == nbb_cell_id) {\n",
       "                        if (nbb_cells[i].get_text() == nbb_unformatted_code) {\n",
       "                             nbb_cells[i].set_text(nbb_formatted_code);\n",
       "                        }\n",
       "                        break;\n",
       "                    }\n",
       "                }\n",
       "            }, 500);\n",
       "            "
      ],
      "text/plain": [
       "<IPython.core.display.Javascript object>"
      ]
     },
     "metadata": {},
     "output_type": "display_data"
    }
   ],
   "source": [
    "fmx_samples = sorted(list(set([x.split('.')[0] + '.' + x.split('.')[1] for x in fmx.index])))\n",
    "len(fmx_samples)"
   ]
  },
  {
   "cell_type": "code",
   "execution_count": 69,
   "id": "fa0a211b",
   "metadata": {
    "tags": []
   },
   "outputs": [
    {
     "data": {
      "text/plain": [
       "['BRO_mtscatac_1.FIXEDCELLS',\n",
       " 'BRO_mtscatac_2.FIXEDCELLS',\n",
       " 'CNA_10xmultiome_1.FIXEDCELLS',\n",
       " 'CNA_10xmultiome_2.FIXEDCELLS',\n",
       " 'CNA_10xv11_1.FIXEDCELLS',\n",
       " 'CNA_10xv11_2.FIXEDCELLS',\n",
       " 'CNA_10xv11_3.FIXEDCELLS',\n",
       " 'CNA_10xv11_4.FIXEDCELLS',\n",
       " 'CNA_10xv11_5.FIXEDCELLS',\n",
       " 'CNA_10xv2_1.FIXEDCELLS',\n",
       " 'CNA_10xv2_2.FIXEDCELLS',\n",
       " 'CNA_hydrop_1.FIXEDCELLS',\n",
       " 'CNA_hydrop_2.FIXEDCELLS',\n",
       " 'CNA_hydrop_3.FIXEDCELLS',\n",
       " 'CNA_mtscatac_1.FIXEDCELLS',\n",
       " 'CNA_mtscatac_2.FIXEDCELLS',\n",
       " 'EPF_hydrop_1.FIXEDCELLS',\n",
       " 'EPF_hydrop_2.FIXEDCELLS',\n",
       " 'EPF_hydrop_3.FIXEDCELLS',\n",
       " 'EPF_hydrop_4.FIXEDCELLS',\n",
       " 'HAR_ddseq_1.FIXEDCELLS',\n",
       " 'HAR_ddseq_2.FIXEDCELLS',\n",
       " 'MDC_mtscatac_1.FIXEDCELLS',\n",
       " 'MDC_mtscatac_2.FIXEDCELLS',\n",
       " 'OHS_s3atac_1.FIXEDCELLS',\n",
       " 'SAN_10xmultiome_1.FIXEDCELLS',\n",
       " 'SAN_10xmultiome_2.FIXEDCELLS',\n",
       " 'STA_10xv11_1.FIXEDCELLS',\n",
       " 'STA_10xv11_2.FIXEDCELLS',\n",
       " 'VIB_10xmultiome_1.FIXEDCELLS',\n",
       " 'VIB_10xmultiome_2.FIXEDCELLS',\n",
       " 'VIB_10xv1_1.FIXEDCELLS',\n",
       " 'VIB_10xv1_2.FIXEDCELLS',\n",
       " 'VIB_10xv2_1.FIXEDCELLS',\n",
       " 'VIB_10xv2_2.FIXEDCELLS',\n",
       " 'VIB_hydrop_11.FIXEDCELLS',\n",
       " 'VIB_hydrop_12.FIXEDCELLS',\n",
       " 'VIB_hydrop_21.FIXEDCELLS',\n",
       " 'VIB_hydrop_22.FIXEDCELLS']"
      ]
     },
     "execution_count": 69,
     "metadata": {},
     "output_type": "execute_result"
    },
    {
     "data": {
      "application/javascript": [
       "\n",
       "            setTimeout(function() {\n",
       "                var nbb_cell_id = 69;\n",
       "                var nbb_unformatted_code = \"fmx_samples\";\n",
       "                var nbb_formatted_code = \"fmx_samples\";\n",
       "                var nbb_cells = Jupyter.notebook.get_cells();\n",
       "                for (var i = 0; i < nbb_cells.length; ++i) {\n",
       "                    if (nbb_cells[i].input_prompt_number == nbb_cell_id) {\n",
       "                        if (nbb_cells[i].get_text() == nbb_unformatted_code) {\n",
       "                             nbb_cells[i].set_text(nbb_formatted_code);\n",
       "                        }\n",
       "                        break;\n",
       "                    }\n",
       "                }\n",
       "            }, 500);\n",
       "            "
      ],
      "text/plain": [
       "<IPython.core.display.Javascript object>"
      ]
     },
     "metadata": {},
     "output_type": "display_data"
    }
   ],
   "source": [
    "fmx_samples"
   ]
  },
  {
   "cell_type": "markdown",
   "id": "164f8031",
   "metadata": {
    "papermill": {
     "duration": 0.024837,
     "end_time": "2022-08-28T01:28:08.106243",
     "exception": false,
     "start_time": "2022-08-28T01:28:08.081406",
     "status": "completed"
    },
    "tags": []
   },
   "source": [
    "# Read scrublet ctos"
   ]
  },
  {
   "cell_type": "code",
   "execution_count": 70,
   "id": "c0cad650",
   "metadata": {
    "papermill": {
     "duration": 0.025515,
     "end_time": "2022-08-28T01:28:08.156943",
     "exception": false,
     "start_time": "2022-08-28T01:28:08.131428",
     "status": "completed"
    },
    "tags": []
   },
   "outputs": [
    {
     "data": {
      "text/plain": [
       "{'BIO_ddseq_1.FIXEDCELLS': 'cistopic_objects/BIO_ddseq_1.FIXEDCELLS__cto.scrublet0-4.pkl',\n",
       " 'BIO_ddseq_2.FIXEDCELLS': 'cistopic_objects/BIO_ddseq_2.FIXEDCELLS__cto.scrublet0-4.pkl',\n",
       " 'BIO_ddseq_3.FIXEDCELLS': 'cistopic_objects/BIO_ddseq_3.FIXEDCELLS__cto.scrublet0-4.pkl',\n",
       " 'BIO_ddseq_4.FIXEDCELLS': 'cistopic_objects/BIO_ddseq_4.FIXEDCELLS__cto.scrublet0-4.pkl',\n",
       " 'BRO_mtscatac_1.FIXEDCELLS': 'cistopic_objects/BRO_mtscatac_1.FIXEDCELLS__cto.scrublet0-4.pkl',\n",
       " 'BRO_mtscatac_2.FIXEDCELLS': 'cistopic_objects/BRO_mtscatac_2.FIXEDCELLS__cto.scrublet0-4.pkl',\n",
       " 'CNA_10xmultiome_1.FIXEDCELLS': 'cistopic_objects/CNA_10xmultiome_1.FIXEDCELLS__cto.scrublet0-4.pkl',\n",
       " 'CNA_10xmultiome_2.FIXEDCELLS': 'cistopic_objects/CNA_10xmultiome_2.FIXEDCELLS__cto.scrublet0-4.pkl',\n",
       " 'CNA_10xv11_1.FIXEDCELLS': 'cistopic_objects/CNA_10xv11_1.FIXEDCELLS__cto.scrublet0-4.pkl',\n",
       " 'CNA_10xv11_2.FIXEDCELLS': 'cistopic_objects/CNA_10xv11_2.FIXEDCELLS__cto.scrublet0-4.pkl',\n",
       " 'CNA_10xv11_3.FIXEDCELLS': 'cistopic_objects/CNA_10xv11_3.FIXEDCELLS__cto.scrublet0-4.pkl',\n",
       " 'CNA_10xv11_4.FIXEDCELLS': 'cistopic_objects/CNA_10xv11_4.FIXEDCELLS__cto.scrublet0-4.pkl',\n",
       " 'CNA_10xv11_5.FIXEDCELLS': 'cistopic_objects/CNA_10xv11_5.FIXEDCELLS__cto.scrublet0-4.pkl',\n",
       " 'CNA_10xv2_1.FIXEDCELLS': 'cistopic_objects/CNA_10xv2_1.FIXEDCELLS__cto.scrublet0-4.pkl',\n",
       " 'CNA_10xv2_2.FIXEDCELLS': 'cistopic_objects/CNA_10xv2_2.FIXEDCELLS__cto.scrublet0-4.pkl',\n",
       " 'CNA_hydrop_1.FIXEDCELLS': 'cistopic_objects/CNA_hydrop_1.FIXEDCELLS__cto.scrublet0-4.pkl',\n",
       " 'CNA_hydrop_2.FIXEDCELLS': 'cistopic_objects/CNA_hydrop_2.FIXEDCELLS__cto.scrublet0-4.pkl',\n",
       " 'CNA_hydrop_3.FIXEDCELLS': 'cistopic_objects/CNA_hydrop_3.FIXEDCELLS__cto.scrublet0-4.pkl',\n",
       " 'CNA_mtscatac_1.FIXEDCELLS': 'cistopic_objects/CNA_mtscatac_1.FIXEDCELLS__cto.scrublet0-4.pkl',\n",
       " 'CNA_mtscatac_2.FIXEDCELLS': 'cistopic_objects/CNA_mtscatac_2.FIXEDCELLS__cto.scrublet0-4.pkl',\n",
       " 'EPF_hydrop_1.FIXEDCELLS': 'cistopic_objects/EPF_hydrop_1.FIXEDCELLS__cto.scrublet0-4.pkl',\n",
       " 'EPF_hydrop_2.FIXEDCELLS': 'cistopic_objects/EPF_hydrop_2.FIXEDCELLS__cto.scrublet0-4.pkl',\n",
       " 'EPF_hydrop_3.FIXEDCELLS': 'cistopic_objects/EPF_hydrop_3.FIXEDCELLS__cto.scrublet0-4.pkl',\n",
       " 'EPF_hydrop_4.FIXEDCELLS': 'cistopic_objects/EPF_hydrop_4.FIXEDCELLS__cto.scrublet0-4.pkl',\n",
       " 'HAR_ddseq_1.FIXEDCELLS': 'cistopic_objects/HAR_ddseq_1.FIXEDCELLS__cto.scrublet0-4.pkl',\n",
       " 'HAR_ddseq_2.FIXEDCELLS': 'cistopic_objects/HAR_ddseq_2.FIXEDCELLS__cto.scrublet0-4.pkl',\n",
       " 'MDC_mtscatac_1.FIXEDCELLS': 'cistopic_objects/MDC_mtscatac_1.FIXEDCELLS__cto.scrublet0-4.pkl',\n",
       " 'MDC_mtscatac_2.FIXEDCELLS': 'cistopic_objects/MDC_mtscatac_2.FIXEDCELLS__cto.scrublet0-4.pkl',\n",
       " 'OHS_s3atac_1.FIXEDCELLS': 'cistopic_objects/OHS_s3atac_1.FIXEDCELLS__cto.scrublet0-4.pkl',\n",
       " 'OHS_s3atac_2.FIXEDCELLS': 'cistopic_objects/OHS_s3atac_2.FIXEDCELLS__cto.scrublet0-4.pkl',\n",
       " 'SAN_10xmultiome_1.FIXEDCELLS': 'cistopic_objects/SAN_10xmultiome_1.FIXEDCELLS__cto.scrublet0-4.pkl',\n",
       " 'SAN_10xmultiome_2.FIXEDCELLS': 'cistopic_objects/SAN_10xmultiome_2.FIXEDCELLS__cto.scrublet0-4.pkl',\n",
       " 'STA_10xv11_1.FIXEDCELLS': 'cistopic_objects/STA_10xv11_1.FIXEDCELLS__cto.scrublet0-4.pkl',\n",
       " 'STA_10xv11_2.FIXEDCELLS': 'cistopic_objects/STA_10xv11_2.FIXEDCELLS__cto.scrublet0-4.pkl',\n",
       " 'TXG_10xv11_1.FIXEDCELLS': 'cistopic_objects/TXG_10xv11_1.FIXEDCELLS__cto.scrublet0-4.pkl',\n",
       " 'TXG_10xv2_1.FIXEDCELLS': 'cistopic_objects/TXG_10xv2_1.FIXEDCELLS__cto.scrublet0-4.pkl',\n",
       " 'TXG_10xv2_2.FIXEDCELLS': 'cistopic_objects/TXG_10xv2_2.FIXEDCELLS__cto.scrublet0-4.pkl',\n",
       " 'UCS_ddseq_1.FIXEDCELLS': 'cistopic_objects/UCS_ddseq_1.FIXEDCELLS__cto.scrublet0-4.pkl',\n",
       " 'UCS_ddseq_2.FIXEDCELLS': 'cistopic_objects/UCS_ddseq_2.FIXEDCELLS__cto.scrublet0-4.pkl',\n",
       " 'VIB_10xmultiome_1.FIXEDCELLS': 'cistopic_objects/VIB_10xmultiome_1.FIXEDCELLS__cto.scrublet0-4.pkl',\n",
       " 'VIB_10xmultiome_2.FIXEDCELLS': 'cistopic_objects/VIB_10xmultiome_2.FIXEDCELLS__cto.scrublet0-4.pkl',\n",
       " 'VIB_10xv1_1.FIXEDCELLS': 'cistopic_objects/VIB_10xv1_1.FIXEDCELLS__cto.scrublet0-4.pkl',\n",
       " 'VIB_10xv1_2.FIXEDCELLS': 'cistopic_objects/VIB_10xv1_2.FIXEDCELLS__cto.scrublet0-4.pkl',\n",
       " 'VIB_10xv2_1.FIXEDCELLS': 'cistopic_objects/VIB_10xv2_1.FIXEDCELLS__cto.scrublet0-4.pkl',\n",
       " 'VIB_10xv2_2.FIXEDCELLS': 'cistopic_objects/VIB_10xv2_2.FIXEDCELLS__cto.scrublet0-4.pkl',\n",
       " 'VIB_hydrop_1.FIXEDCELLS': 'cistopic_objects/VIB_hydrop_1.FIXEDCELLS__cto.scrublet0-4.pkl',\n",
       " 'VIB_hydrop_11.FIXEDCELLS': 'cistopic_objects/VIB_hydrop_11.FIXEDCELLS__cto.scrublet0-4.pkl',\n",
       " 'VIB_hydrop_12.FIXEDCELLS': 'cistopic_objects/VIB_hydrop_12.FIXEDCELLS__cto.scrublet0-4.pkl',\n",
       " 'VIB_hydrop_2.FIXEDCELLS': 'cistopic_objects/VIB_hydrop_2.FIXEDCELLS__cto.scrublet0-4.pkl',\n",
       " 'VIB_hydrop_21.FIXEDCELLS': 'cistopic_objects/VIB_hydrop_21.FIXEDCELLS__cto.scrublet0-4.pkl',\n",
       " 'VIB_hydrop_22.FIXEDCELLS': 'cistopic_objects/VIB_hydrop_22.FIXEDCELLS__cto.scrublet0-4.pkl'}"
      ]
     },
     "execution_count": 70,
     "metadata": {},
     "output_type": "execute_result"
    },
    {
     "data": {
      "application/javascript": [
       "\n",
       "            setTimeout(function() {\n",
       "                var nbb_cell_id = 70;\n",
       "                var nbb_unformatted_code = \"scrubcto_dict = {x.split('/')[-1].split(f'__cto.scrublet{scrub_name_suffix}.pkl')[0]:x for x in sorted(glob.glob(f'cistopic_objects/*__cto.scrublet{scrub_name_suffix}.pkl'))}\\nscrubcto_dict\";\n",
       "                var nbb_formatted_code = \"scrubcto_dict = {\\n    x.split(\\\"/\\\")[-1].split(f\\\"__cto.scrublet{scrub_name_suffix}.pkl\\\")[0]: x\\n    for x in sorted(\\n        glob.glob(f\\\"cistopic_objects/*__cto.scrublet{scrub_name_suffix}.pkl\\\")\\n    )\\n}\\nscrubcto_dict\";\n",
       "                var nbb_cells = Jupyter.notebook.get_cells();\n",
       "                for (var i = 0; i < nbb_cells.length; ++i) {\n",
       "                    if (nbb_cells[i].input_prompt_number == nbb_cell_id) {\n",
       "                        if (nbb_cells[i].get_text() == nbb_unformatted_code) {\n",
       "                             nbb_cells[i].set_text(nbb_formatted_code);\n",
       "                        }\n",
       "                        break;\n",
       "                    }\n",
       "                }\n",
       "            }, 500);\n",
       "            "
      ],
      "text/plain": [
       "<IPython.core.display.Javascript object>"
      ]
     },
     "metadata": {},
     "output_type": "display_data"
    }
   ],
   "source": [
    "scrubcto_dict = {x.split('/')[-1].split(f'__cto.scrublet{scrub_name_suffix}.pkl')[0]:x for x in sorted(glob.glob(f'cistopic_objects/*__cto.scrublet{scrub_name_suffix}.pkl'))}\n",
    "scrubcto_dict"
   ]
  },
  {
   "cell_type": "code",
   "execution_count": null,
   "id": "76846edf",
   "metadata": {
    "papermill": {
     "duration": 0.024976,
     "end_time": "2022-08-28T01:28:08.207542",
     "exception": false,
     "start_time": "2022-08-28T01:28:08.182566",
     "status": "completed"
    },
    "tags": []
   },
   "outputs": [
    {
     "name": "stdout",
     "output_type": "stream",
     "text": [
      "BIO_ddseq_1.FIXEDCELLS\n",
      "\tcistopic_objects/BIO_ddseq_1.FIXEDCELLS__cto.scrublet0-4.fmx.singlets.pkl exists! Skipping...\n",
      "BIO_ddseq_2.FIXEDCELLS\n",
      "\tcistopic_objects/BIO_ddseq_2.FIXEDCELLS__cto.scrublet0-4.fmx.singlets.pkl exists! Skipping...\n",
      "BIO_ddseq_3.FIXEDCELLS\n",
      "\tcistopic_objects/BIO_ddseq_3.FIXEDCELLS__cto.scrublet0-4.fmx.singlets.pkl exists! Skipping...\n",
      "BIO_ddseq_4.FIXEDCELLS\n",
      "\tcistopic_objects/BIO_ddseq_4.FIXEDCELLS__cto.scrublet0-4.fmx.singlets.pkl exists! Skipping...\n",
      "BRO_mtscatac_1.FIXEDCELLS\n",
      "\tcistopic_objects/BRO_mtscatac_1.FIXEDCELLS__cto.scrublet0-4.fmx.singlets.pkl exists! Skipping...\n",
      "BRO_mtscatac_2.FIXEDCELLS\n",
      "\tcistopic_objects/BRO_mtscatac_2.FIXEDCELLS__cto.scrublet0-4.fmx.singlets.pkl exists! Skipping...\n",
      "CNA_10xmultiome_1.FIXEDCELLS\n",
      "\tcistopic_objects/CNA_10xmultiome_1.FIXEDCELLS__cto.scrublet0-4.fmx.singlets.pkl exists! Skipping...\n",
      "CNA_10xmultiome_2.FIXEDCELLS\n",
      "\tcistopic_objects/CNA_10xmultiome_2.FIXEDCELLS__cto.scrublet0-4.fmx.singlets.pkl exists! Skipping...\n",
      "CNA_10xv11_1.FIXEDCELLS\n",
      "\tcistopic_objects/CNA_10xv11_1.FIXEDCELLS__cto.scrublet0-4.fmx.singlets.pkl exists! Skipping...\n",
      "CNA_10xv11_2.FIXEDCELLS\n",
      "\tcistopic_objects/CNA_10xv11_2.FIXEDCELLS__cto.scrublet0-4.fmx.singlets.pkl exists! Skipping...\n",
      "CNA_10xv11_3.FIXEDCELLS\n",
      "\tcistopic_objects/CNA_10xv11_3.FIXEDCELLS__cto.scrublet0-4.fmx.singlets.pkl exists! Skipping...\n",
      "CNA_10xv11_4.FIXEDCELLS\n",
      "\tcistopic_objects/CNA_10xv11_4.FIXEDCELLS__cto.scrublet0-4.fmx.singlets.pkl exists! Skipping...\n",
      "CNA_10xv11_5.FIXEDCELLS\n",
      "\tcistopic_objects/CNA_10xv11_5.FIXEDCELLS__cto.scrublet0-4.fmx.singlets.pkl exists! Skipping...\n",
      "CNA_10xv2_1.FIXEDCELLS\n",
      "\tcistopic_objects/CNA_10xv2_1.FIXEDCELLS__cto.scrublet0-4.fmx.singlets.pkl exists! Skipping...\n",
      "CNA_10xv2_2.FIXEDCELLS\n",
      "\tcistopic_objects/CNA_10xv2_2.FIXEDCELLS__cto.scrublet0-4.fmx.singlets.pkl exists! Skipping...\n",
      "CNA_hydrop_1.FIXEDCELLS\n",
      "\tcistopic_objects/CNA_hydrop_1.FIXEDCELLS__cto.scrublet0-4.fmx.singlets.pkl exists! Skipping...\n",
      "CNA_hydrop_2.FIXEDCELLS\n",
      "\tcistopic_objects/CNA_hydrop_2.FIXEDCELLS__cto.scrublet0-4.fmx.singlets.pkl exists! Skipping...\n",
      "CNA_hydrop_3.FIXEDCELLS\n",
      "\tcistopic_objects/CNA_hydrop_3.FIXEDCELLS__cto.scrublet0-4.fmx.singlets.pkl exists! Skipping...\n",
      "CNA_mtscatac_1.FIXEDCELLS\n",
      "\tcistopic_objects/CNA_mtscatac_1.FIXEDCELLS__cto.scrublet0-4.fmx.singlets.pkl exists! Skipping...\n",
      "CNA_mtscatac_2.FIXEDCELLS\n",
      "\tcistopic_objects/CNA_mtscatac_2.FIXEDCELLS__cto.scrublet0-4.fmx.singlets.pkl exists! Skipping...\n",
      "EPF_hydrop_1.FIXEDCELLS\n",
      "\tcistopic_objects/EPF_hydrop_1.FIXEDCELLS__cto.scrublet0-4.fmx.singlets.pkl exists! Skipping...\n",
      "EPF_hydrop_2.FIXEDCELLS\n",
      "\tcistopic_objects/EPF_hydrop_2.FIXEDCELLS__cto.scrublet0-4.fmx.singlets.pkl exists! Skipping...\n",
      "EPF_hydrop_3.FIXEDCELLS\n",
      "\tcistopic_objects/EPF_hydrop_3.FIXEDCELLS__cto.scrublet0-4.fmx.singlets.pkl exists! Skipping...\n",
      "EPF_hydrop_4.FIXEDCELLS\n",
      "\tcistopic_objects/EPF_hydrop_4.FIXEDCELLS__cto.scrublet0-4.fmx.singlets.pkl exists! Skipping...\n",
      "HAR_ddseq_1.FIXEDCELLS\n",
      "\tcistopic_objects/HAR_ddseq_1.FIXEDCELLS__cto.scrublet0-4.fmx.singlets.pkl exists! Skipping...\n",
      "HAR_ddseq_2.FIXEDCELLS\n",
      "\tcistopic_objects/HAR_ddseq_2.FIXEDCELLS__cto.scrublet0-4.fmx.singlets.pkl exists! Skipping...\n",
      "MDC_mtscatac_1.FIXEDCELLS\n",
      "\tcistopic_objects/MDC_mtscatac_1.FIXEDCELLS__cto.scrublet0-4.fmx.singlets.pkl exists! Skipping...\n",
      "MDC_mtscatac_2.FIXEDCELLS\n",
      "\tcistopic_objects/MDC_mtscatac_2.FIXEDCELLS__cto.scrublet0-4.fmx.singlets.pkl exists! Skipping...\n",
      "OHS_s3atac_1.FIXEDCELLS\n",
      "\tcistopic_objects/OHS_s3atac_1.FIXEDCELLS__cto.scrublet0-4.fmx.singlets.pkl exists! Skipping...\n",
      "OHS_s3atac_2.FIXEDCELLS\n",
      "\tcistopic_objects/OHS_s3atac_2.FIXEDCELLS__cto.scrublet0-4.fmx.singlets.pkl exists! Skipping...\n",
      "SAN_10xmultiome_1.FIXEDCELLS\n",
      "\tcistopic_objects/SAN_10xmultiome_1.FIXEDCELLS__cto.scrublet0-4.fmx.singlets.pkl exists! Skipping...\n",
      "SAN_10xmultiome_2.FIXEDCELLS\n",
      "\tcistopic_objects/SAN_10xmultiome_2.FIXEDCELLS__cto.scrublet0-4.fmx.singlets.pkl exists! Skipping...\n",
      "STA_10xv11_1.FIXEDCELLS\n",
      "\tcistopic_objects/STA_10xv11_1.FIXEDCELLS__cto.scrublet0-4.fmx.singlets.pkl exists! Skipping...\n",
      "STA_10xv11_2.FIXEDCELLS\n",
      "\tcistopic_objects/STA_10xv11_2.FIXEDCELLS__cto.scrublet0-4.fmx.singlets.pkl exists! Skipping...\n",
      "TXG_10xv11_1.FIXEDCELLS\n",
      "\tcistopic_objects/TXG_10xv11_1.FIXEDCELLS__cto.scrublet0-4.fmx.singlets.pkl exists! Skipping...\n",
      "TXG_10xv2_1.FIXEDCELLS\n",
      "\tcistopic_objects/TXG_10xv2_1.FIXEDCELLS__cto.scrublet0-4.fmx.singlets.pkl exists! Skipping...\n",
      "TXG_10xv2_2.FIXEDCELLS\n",
      "\tcistopic_objects/TXG_10xv2_2.FIXEDCELLS__cto.scrublet0-4.fmx.singlets.pkl exists! Skipping...\n",
      "UCS_ddseq_1.FIXEDCELLS\n",
      "\tcistopic_objects/UCS_ddseq_1.FIXEDCELLS__cto.scrublet0-4.fmx.singlets.pkl exists! Skipping...\n",
      "UCS_ddseq_2.FIXEDCELLS\n",
      "\tcistopic_objects/UCS_ddseq_2.FIXEDCELLS__cto.scrublet0-4.fmx.singlets.pkl exists! Skipping...\n",
      "VIB_10xmultiome_1.FIXEDCELLS\n",
      "\tcistopic_objects/VIB_10xmultiome_1.FIXEDCELLS__cto.scrublet0-4.fmx.singlets.pkl exists! Skipping...\n",
      "VIB_10xmultiome_2.FIXEDCELLS\n",
      "\tcistopic_objects/VIB_10xmultiome_2.FIXEDCELLS__cto.scrublet0-4.fmx.singlets.pkl exists! Skipping...\n",
      "VIB_10xv1_1.FIXEDCELLS\n",
      "\tcistopic_objects/VIB_10xv1_1.FIXEDCELLS__cto.scrublet0-4.fmx.singlets.pkl exists! Skipping...\n",
      "VIB_10xv1_2.FIXEDCELLS\n",
      "\tcistopic_objects/VIB_10xv1_2.FIXEDCELLS__cto.scrublet0-4.fmx.singlets.pkl exists! Skipping...\n",
      "VIB_10xv2_1.FIXEDCELLS\n",
      "\tcistopic_objects/VIB_10xv2_1.FIXEDCELLS__cto.scrublet0-4.fmx.singlets.pkl exists! Skipping...\n",
      "VIB_10xv2_2.FIXEDCELLS\n",
      "\tcistopic_objects/VIB_10xv2_2.FIXEDCELLS__cto.scrublet0-4.fmx.singlets.pkl exists! Skipping...\n",
      "VIB_hydrop_1.FIXEDCELLS\n",
      "\tcistopic_objects/VIB_hydrop_1.FIXEDCELLS__cto.scrublet0-4.fmx.singlets.pkl exists! Skipping...\n",
      "VIB_hydrop_11.FIXEDCELLS\n",
      "\tcistopic_objects/VIB_hydrop_11.FIXEDCELLS__cto.scrublet0-4.fmx.singlets.pkl exists! Skipping...\n",
      "VIB_hydrop_12.FIXEDCELLS\n",
      "\tcistopic_objects/VIB_hydrop_12.FIXEDCELLS__cto.scrublet0-4.fmx.singlets.pkl exists! Skipping...\n",
      "VIB_hydrop_2.FIXEDCELLS\n",
      "\tcistopic_objects/VIB_hydrop_2.FIXEDCELLS__cto.scrublet0-4.fmx.singlets.pkl exists! Skipping...\n",
      "VIB_hydrop_21.FIXEDCELLS\n",
      "\tcistopic_objects/VIB_hydrop_21.FIXEDCELLS__cto.scrublet0-4.fmx.singlets.pkl exists! Skipping...\n",
      "VIB_hydrop_22.FIXEDCELLS\n",
      "\tcistopic_objects/VIB_hydrop_22.FIXEDCELLS__cto.scrublet0-4.fmx.singlets.pkl exists! Skipping...\n"
     ]
    },
    {
     "data": {
      "application/javascript": [
       "\n",
       "            setTimeout(function() {\n",
       "                var nbb_cell_id = 71;\n",
       "                var nbb_unformatted_code = \"fmx_samples = sorted(list(set([x.split('.')[0] + '.' + x.split('.')[1] for x in fmx.index])))\\nremoved_bcs_dict = {}\\n# for sample in [\\\"CNA_10xv11_1.FULL\\\"]:\\n\\nfor sample in scrubcto_dict.keys():\\n    print(f\\\"{sample}\\\")\\n    cto_path = scrubcto_dict[sample]\\n    newcto_path = cto_path.replace(f'__cto.scrublet{scrub_name_suffix}.pkl',f'__cto.scrublet{scrub_name_suffix}.fmx.singlets.pkl')\\n    if os.path.exists(newcto_path):\\n        print(f\\\"\\\\t{newcto_path} exists! Skipping...\\\")\\n        \\n    else:\\n        with open(cto_path, 'rb') as f:\\n            cto = pickle.load(f)\\n\\n        if sample in fmx_samples:\\n            print(f\\\"\\\\tLoaded {cto_path}, adding fmx data and removing fmx + scr doublets\\\")\\n            cto.add_cell_data(fmx_annot.loc[cto.cell_data.index])\\n\\n            removed_bcs_dict[sample] = {\\n                'dbl_scrublet': cto.cell_data.barcode[cto.cell_data.Predicted_doublets_fragments == True].tolist(),\\n                'dbl_fmx': cto.cell_data.barcode[cto.cell_data.fmx_droplet_type == 'DBL'].tolist(),    \\n            }\\n\\n            # Remove doublets \\n            singlets = cto.cell_data[\\n                (cto.cell_data.Predicted_doublets_fragments == False) & \\n                (cto.cell_data.fmx_droplet_type != 'DBL')\\n            ].index.tolist()\\n            print(f\\\"\\\\t{sample}: Removing {len(cto.cell_names)-len(singlets)} cells\\\")\\n\\n            fmx_doublets = set(cto.cell_data[cto.cell_data['fmx_droplet_type'] == 'DBL'].index)\\n            scr_doublets = set(cto.cell_data[cto.cell_data['Predicted_doublets_fragments'] == True].index)\\n\\n            fmx_doublets_unique = fmx_doublets - scr_doublets\\n            scr_doublets_unique = scr_doublets - fmx_doublets\\n            common_doublets = fmx_doublets.intersection(scr_doublets)\\n\\n            print(f\\\"\\\\t\\\\t{len(fmx_doublets_unique)} unique fmx doublets\\\")\\n            print(f\\\"\\\\t\\\\t{len(scr_doublets_unique)} unique scr doublets\\\")\\n            print(f\\\"\\\\t\\\\t{len(common_doublets)} common doublets\\\")\\n\\n            fmx_doublets_unique_path = cto_path.replace(f'__cto.scrublet{scrub_name_suffix}.pkl',f'__cto.scrublet{scrub_name_suffix}.fmx.fmx_doublets_unique.txt')\\n            with open(fmx_doublets_unique_path, 'w') as f:\\n                for x in fmx_doublets_unique:\\n                    f.write(f\\\"{x}\\\\n\\\")\\n\\n            scr_doublets_unique_path = cto_path.replace(f'__cto.scrublet{scrub_name_suffix}.pkl',f'__cto.scrublet{scrub_name_suffix}.fmx.scr_doublets_unique.txt')\\n            with open(scr_doublets_unique_path, 'w') as f:\\n                for x in scr_doublets_unique:\\n                    f.write(f\\\"{x}\\\\n\\\")\\n\\n            common_doublets_path = cto_path.replace(f'__cto.scrublet{scrub_name_suffix}.pkl',f'__cto.scrublet{scrub_name_suffix}.fmx.common_doublets.txt')\\n            with open(common_doublets_path, 'w') as f:\\n                for x in common_doublets:\\n                    f.write(f\\\"{x}\\\\n\\\")\\n\\n\\n        else:\\n            print(f\\\"\\\\tLoaded {cto_path}, removing scr doublets\\\")\\n            removed_bcs_dict[sample] = {\\n                'dbl_scrublet': cto.cell_data.barcode[cto.cell_data.Predicted_doublets_fragments == True].tolist()\\n            }\\n\\n            # Remove doublets \\n            singlets = cto.cell_data[\\n                (cto.cell_data.Predicted_doublets_fragments == False)\\n            ].index.tolist()\\n            print(f\\\"\\\\t{sample}: Removing {len(cto.cell_names)-len(singlets)} cells\\\")\\n\\n            scr_doublets = set(cto.cell_data[cto.cell_data['Predicted_doublets_fragments'] == True].index)\\n            print(f\\\"\\\\t\\\\t{len(scr_doublets)} scr doublets\\\")\\n\\n            \\n            scr_doublets_unique_path = cto_path.replace(f'__cto.scrublet{scrub_name_suffix}.pkl',f'__cto.scrublet{scrub_name_suffix}.fmx.scr_doublets_unique.txt')\\n            with open(scr_doublets_unique_path, 'w') as f:\\n                for x in scr_doublets:\\n                    f.write(f\\\"{x}\\\\n\\\")\\n                    \\n                    \\n        # Subset cisTopic object\\n        cto.subset(singlets)\\n\\n        # save\\n        with open(newcto_path, \\\"wb\\\") as f:\\n            pickle.dump(cto, f, protocol=4)\\n\\n        removed_bcs_path = cto_path.replace(f'__cto.scrublet{scrub_name_suffix}.pkl',f'__cto.scrublet{scrub_name_suffix}.fmx.singlets.removed_bcs.pkl')\\n        with open(removed_bcs_path, \\\"wb\\\") as f:\\n            pickle.dump(removed_bcs_dict[sample], f, protocol=4)\\n\\n        cell_data_path = cto_path.replace(f'__cto.scrublet{scrub_name_suffix}.pkl',f'__cto.scrublet{scrub_name_suffix}.fmx.singlets.cell_data.tsv')\\n        cto.cell_data.to_csv(cell_data_path)\\n\\n        print(f\\\"\\\\tWrote {newcto_path}, doublet lists and {cell_data_path}\\\\n\\\")\";\n",
       "                var nbb_formatted_code = \"fmx_samples = sorted(\\n    list(set([x.split(\\\".\\\")[0] + \\\".\\\" + x.split(\\\".\\\")[1] for x in fmx.index]))\\n)\\nremoved_bcs_dict = {}\\n# for sample in [\\\"CNA_10xv11_1.FULL\\\"]:\\n\\nfor sample in scrubcto_dict.keys():\\n    print(f\\\"{sample}\\\")\\n    cto_path = scrubcto_dict[sample]\\n    newcto_path = cto_path.replace(\\n        f\\\"__cto.scrublet{scrub_name_suffix}.pkl\\\",\\n        f\\\"__cto.scrublet{scrub_name_suffix}.fmx.singlets.pkl\\\",\\n    )\\n    if os.path.exists(newcto_path):\\n        print(f\\\"\\\\t{newcto_path} exists! Skipping...\\\")\\n\\n    else:\\n        with open(cto_path, \\\"rb\\\") as f:\\n            cto = pickle.load(f)\\n\\n        if sample in fmx_samples:\\n            print(\\n                f\\\"\\\\tLoaded {cto_path}, adding fmx data and removing fmx + scr doublets\\\"\\n            )\\n            cto.add_cell_data(fmx_annot.loc[cto.cell_data.index])\\n\\n            removed_bcs_dict[sample] = {\\n                \\\"dbl_scrublet\\\": cto.cell_data.barcode[\\n                    cto.cell_data.Predicted_doublets_fragments == True\\n                ].tolist(),\\n                \\\"dbl_fmx\\\": cto.cell_data.barcode[\\n                    cto.cell_data.fmx_droplet_type == \\\"DBL\\\"\\n                ].tolist(),\\n            }\\n\\n            # Remove doublets\\n            singlets = cto.cell_data[\\n                (cto.cell_data.Predicted_doublets_fragments == False)\\n                & (cto.cell_data.fmx_droplet_type != \\\"DBL\\\")\\n            ].index.tolist()\\n            print(f\\\"\\\\t{sample}: Removing {len(cto.cell_names)-len(singlets)} cells\\\")\\n\\n            fmx_doublets = set(\\n                cto.cell_data[cto.cell_data[\\\"fmx_droplet_type\\\"] == \\\"DBL\\\"].index\\n            )\\n            scr_doublets = set(\\n                cto.cell_data[\\n                    cto.cell_data[\\\"Predicted_doublets_fragments\\\"] == True\\n                ].index\\n            )\\n\\n            fmx_doublets_unique = fmx_doublets - scr_doublets\\n            scr_doublets_unique = scr_doublets - fmx_doublets\\n            common_doublets = fmx_doublets.intersection(scr_doublets)\\n\\n            print(f\\\"\\\\t\\\\t{len(fmx_doublets_unique)} unique fmx doublets\\\")\\n            print(f\\\"\\\\t\\\\t{len(scr_doublets_unique)} unique scr doublets\\\")\\n            print(f\\\"\\\\t\\\\t{len(common_doublets)} common doublets\\\")\\n\\n            fmx_doublets_unique_path = cto_path.replace(\\n                f\\\"__cto.scrublet{scrub_name_suffix}.pkl\\\",\\n                f\\\"__cto.scrublet{scrub_name_suffix}.fmx.fmx_doublets_unique.txt\\\",\\n            )\\n            with open(fmx_doublets_unique_path, \\\"w\\\") as f:\\n                for x in fmx_doublets_unique:\\n                    f.write(f\\\"{x}\\\\n\\\")\\n\\n            scr_doublets_unique_path = cto_path.replace(\\n                f\\\"__cto.scrublet{scrub_name_suffix}.pkl\\\",\\n                f\\\"__cto.scrublet{scrub_name_suffix}.fmx.scr_doublets_unique.txt\\\",\\n            )\\n            with open(scr_doublets_unique_path, \\\"w\\\") as f:\\n                for x in scr_doublets_unique:\\n                    f.write(f\\\"{x}\\\\n\\\")\\n\\n            common_doublets_path = cto_path.replace(\\n                f\\\"__cto.scrublet{scrub_name_suffix}.pkl\\\",\\n                f\\\"__cto.scrublet{scrub_name_suffix}.fmx.common_doublets.txt\\\",\\n            )\\n            with open(common_doublets_path, \\\"w\\\") as f:\\n                for x in common_doublets:\\n                    f.write(f\\\"{x}\\\\n\\\")\\n\\n        else:\\n            print(f\\\"\\\\tLoaded {cto_path}, removing scr doublets\\\")\\n            removed_bcs_dict[sample] = {\\n                \\\"dbl_scrublet\\\": cto.cell_data.barcode[\\n                    cto.cell_data.Predicted_doublets_fragments == True\\n                ].tolist()\\n            }\\n\\n            # Remove doublets\\n            singlets = cto.cell_data[\\n                (cto.cell_data.Predicted_doublets_fragments == False)\\n            ].index.tolist()\\n            print(f\\\"\\\\t{sample}: Removing {len(cto.cell_names)-len(singlets)} cells\\\")\\n\\n            scr_doublets = set(\\n                cto.cell_data[\\n                    cto.cell_data[\\\"Predicted_doublets_fragments\\\"] == True\\n                ].index\\n            )\\n            print(f\\\"\\\\t\\\\t{len(scr_doublets)} scr doublets\\\")\\n\\n            scr_doublets_unique_path = cto_path.replace(\\n                f\\\"__cto.scrublet{scrub_name_suffix}.pkl\\\",\\n                f\\\"__cto.scrublet{scrub_name_suffix}.fmx.scr_doublets_unique.txt\\\",\\n            )\\n            with open(scr_doublets_unique_path, \\\"w\\\") as f:\\n                for x in scr_doublets:\\n                    f.write(f\\\"{x}\\\\n\\\")\\n\\n        # Subset cisTopic object\\n        cto.subset(singlets)\\n\\n        # save\\n        with open(newcto_path, \\\"wb\\\") as f:\\n            pickle.dump(cto, f, protocol=4)\\n\\n        removed_bcs_path = cto_path.replace(\\n            f\\\"__cto.scrublet{scrub_name_suffix}.pkl\\\",\\n            f\\\"__cto.scrublet{scrub_name_suffix}.fmx.singlets.removed_bcs.pkl\\\",\\n        )\\n        with open(removed_bcs_path, \\\"wb\\\") as f:\\n            pickle.dump(removed_bcs_dict[sample], f, protocol=4)\\n\\n        cell_data_path = cto_path.replace(\\n            f\\\"__cto.scrublet{scrub_name_suffix}.pkl\\\",\\n            f\\\"__cto.scrublet{scrub_name_suffix}.fmx.singlets.cell_data.tsv\\\",\\n        )\\n        cto.cell_data.to_csv(cell_data_path)\\n\\n        print(f\\\"\\\\tWrote {newcto_path}, doublet lists and {cell_data_path}\\\\n\\\")\";\n",
       "                var nbb_cells = Jupyter.notebook.get_cells();\n",
       "                for (var i = 0; i < nbb_cells.length; ++i) {\n",
       "                    if (nbb_cells[i].input_prompt_number == nbb_cell_id) {\n",
       "                        if (nbb_cells[i].get_text() == nbb_unformatted_code) {\n",
       "                             nbb_cells[i].set_text(nbb_formatted_code);\n",
       "                        }\n",
       "                        break;\n",
       "                    }\n",
       "                }\n",
       "            }, 500);\n",
       "            "
      ],
      "text/plain": [
       "<IPython.core.display.Javascript object>"
      ]
     },
     "metadata": {},
     "output_type": "display_data"
    }
   ],
   "source": [
    "fmx_samples = sorted(list(set([x.split('.')[0] + '.' + x.split('.')[1] for x in fmx.index])))\n",
    "removed_bcs_dict = {}\n",
    "# for sample in [\"CNA_10xv11_1.FULL\"]:\n",
    "\n",
    "for sample in scrubcto_dict.keys():\n",
    "    print(f\"{sample}\")\n",
    "    cto_path = scrubcto_dict[sample]\n",
    "    newcto_path = cto_path.replace(f'__cto.scrublet{scrub_name_suffix}.pkl',f'__cto.scrublet{scrub_name_suffix}.fmx.singlets.pkl')\n",
    "    if os.path.exists(newcto_path):\n",
    "        print(f\"\\t{newcto_path} exists! Skipping...\")\n",
    "        \n",
    "    else:\n",
    "        with open(cto_path, 'rb') as f:\n",
    "            cto = pickle.load(f)\n",
    "\n",
    "        if sample in fmx_samples:\n",
    "            print(f\"\\tLoaded {cto_path}, adding fmx data and removing fmx + scr doublets\")\n",
    "            cto.add_cell_data(fmx_annot.loc[cto.cell_data.index])\n",
    "\n",
    "            removed_bcs_dict[sample] = {\n",
    "                'dbl_scrublet': cto.cell_data.barcode[cto.cell_data.Predicted_doublets_fragments == True].tolist(),\n",
    "                'dbl_fmx': cto.cell_data.barcode[cto.cell_data.fmx_droplet_type == 'DBL'].tolist(),    \n",
    "            }\n",
    "\n",
    "            # Remove doublets \n",
    "            singlets = cto.cell_data[\n",
    "                (cto.cell_data.Predicted_doublets_fragments == False) & \n",
    "                (cto.cell_data.fmx_droplet_type != 'DBL')\n",
    "            ].index.tolist()\n",
    "            print(f\"\\t{sample}: Removing {len(cto.cell_names)-len(singlets)} cells\")\n",
    "\n",
    "            fmx_doublets = set(cto.cell_data[cto.cell_data['fmx_droplet_type'] == 'DBL'].index)\n",
    "            scr_doublets = set(cto.cell_data[cto.cell_data['Predicted_doublets_fragments'] == True].index)\n",
    "\n",
    "            fmx_doublets_unique = fmx_doublets - scr_doublets\n",
    "            scr_doublets_unique = scr_doublets - fmx_doublets\n",
    "            common_doublets = fmx_doublets.intersection(scr_doublets)\n",
    "\n",
    "            print(f\"\\t\\t{len(fmx_doublets_unique)} unique fmx doublets\")\n",
    "            print(f\"\\t\\t{len(scr_doublets_unique)} unique scr doublets\")\n",
    "            print(f\"\\t\\t{len(common_doublets)} common doublets\")\n",
    "\n",
    "            fmx_doublets_unique_path = cto_path.replace(f'__cto.scrublet{scrub_name_suffix}.pkl',f'__cto.scrublet{scrub_name_suffix}.fmx.fmx_doublets_unique.txt')\n",
    "            with open(fmx_doublets_unique_path, 'w') as f:\n",
    "                for x in fmx_doublets_unique:\n",
    "                    f.write(f\"{x}\\n\")\n",
    "\n",
    "            scr_doublets_unique_path = cto_path.replace(f'__cto.scrublet{scrub_name_suffix}.pkl',f'__cto.scrublet{scrub_name_suffix}.fmx.scr_doublets_unique.txt')\n",
    "            with open(scr_doublets_unique_path, 'w') as f:\n",
    "                for x in scr_doublets_unique:\n",
    "                    f.write(f\"{x}\\n\")\n",
    "\n",
    "            common_doublets_path = cto_path.replace(f'__cto.scrublet{scrub_name_suffix}.pkl',f'__cto.scrublet{scrub_name_suffix}.fmx.common_doublets.txt')\n",
    "            with open(common_doublets_path, 'w') as f:\n",
    "                for x in common_doublets:\n",
    "                    f.write(f\"{x}\\n\")\n",
    "\n",
    "\n",
    "        else:\n",
    "            print(f\"\\tLoaded {cto_path}, removing scr doublets\")\n",
    "            removed_bcs_dict[sample] = {\n",
    "                'dbl_scrublet': cto.cell_data.barcode[cto.cell_data.Predicted_doublets_fragments == True].tolist()\n",
    "            }\n",
    "\n",
    "            # Remove doublets \n",
    "            singlets = cto.cell_data[\n",
    "                (cto.cell_data.Predicted_doublets_fragments == False)\n",
    "            ].index.tolist()\n",
    "            print(f\"\\t{sample}: Removing {len(cto.cell_names)-len(singlets)} cells\")\n",
    "\n",
    "            scr_doublets = set(cto.cell_data[cto.cell_data['Predicted_doublets_fragments'] == True].index)\n",
    "            print(f\"\\t\\t{len(scr_doublets)} scr doublets\")\n",
    "\n",
    "            \n",
    "            scr_doublets_unique_path = cto_path.replace(f'__cto.scrublet{scrub_name_suffix}.pkl',f'__cto.scrublet{scrub_name_suffix}.fmx.scr_doublets_unique.txt')\n",
    "            with open(scr_doublets_unique_path, 'w') as f:\n",
    "                for x in scr_doublets:\n",
    "                    f.write(f\"{x}\\n\")\n",
    "                    \n",
    "                    \n",
    "        # Subset cisTopic object\n",
    "        cto.subset(singlets)\n",
    "\n",
    "        # save\n",
    "        with open(newcto_path, \"wb\") as f:\n",
    "            pickle.dump(cto, f, protocol=4)\n",
    "\n",
    "        removed_bcs_path = cto_path.replace(f'__cto.scrublet{scrub_name_suffix}.pkl',f'__cto.scrublet{scrub_name_suffix}.fmx.singlets.removed_bcs.pkl')\n",
    "        with open(removed_bcs_path, \"wb\") as f:\n",
    "            pickle.dump(removed_bcs_dict[sample], f, protocol=4)\n",
    "\n",
    "        cell_data_path = cto_path.replace(f'__cto.scrublet{scrub_name_suffix}.pkl',f'__cto.scrublet{scrub_name_suffix}.fmx.singlets.cell_data.tsv')\n",
    "        cto.cell_data.to_csv(cell_data_path)\n",
    "\n",
    "        print(f\"\\tWrote {newcto_path}, doublet lists and {cell_data_path}\\n\")"
   ]
  },
  {
   "cell_type": "markdown",
   "id": "60dbb746",
   "metadata": {
    "papermill": {
     "duration": 0.025073,
     "end_time": "2022-08-28T01:28:08.308935",
     "exception": false,
     "start_time": "2022-08-28T01:28:08.283862",
     "status": "completed"
    },
    "tags": []
   },
   "source": [
    "# Merge VIB_hydrop_samples"
   ]
  },
  {
   "cell_type": "code",
   "execution_count": null,
   "id": "28cd340c",
   "metadata": {
    "papermill": {
     "duration": 0.025386,
     "end_time": "2022-08-28T01:28:08.359381",
     "exception": false,
     "start_time": "2022-08-28T01:28:08.333995",
     "status": "completed"
    },
    "tags": []
   },
   "outputs": [
    {
     "data": {
      "application/javascript": [
       "\n",
       "            setTimeout(function() {\n",
       "                var nbb_cell_id = 72;\n",
       "                var nbb_unformatted_code = \"from pycisTopic.cistopic_class import *\";\n",
       "                var nbb_formatted_code = \"from pycisTopic.cistopic_class import *\";\n",
       "                var nbb_cells = Jupyter.notebook.get_cells();\n",
       "                for (var i = 0; i < nbb_cells.length; ++i) {\n",
       "                    if (nbb_cells[i].input_prompt_number == nbb_cell_id) {\n",
       "                        if (nbb_cells[i].get_text() == nbb_unformatted_code) {\n",
       "                             nbb_cells[i].set_text(nbb_formatted_code);\n",
       "                        }\n",
       "                        break;\n",
       "                    }\n",
       "                }\n",
       "            }, 500);\n",
       "            "
      ],
      "text/plain": [
       "<IPython.core.display.Javascript object>"
      ]
     },
     "metadata": {},
     "output_type": "display_data"
    }
   ],
   "source": [
    "from pycisTopic.cistopic_class import *"
   ]
  },
  {
   "cell_type": "code",
   "execution_count": 23,
   "id": "c278330e",
   "metadata": {
    "execution": {
     "iopub.execute_input": "2022-09-13T15:56:14.591501Z",
     "iopub.status.busy": "2022-09-13T15:56:14.591290Z",
     "iopub.status.idle": "2022-09-13T15:56:59.075062Z",
     "shell.execute_reply": "2022-09-13T15:56:59.002672Z",
     "shell.execute_reply.started": "2022-09-13T15:56:14.591482Z"
    },
    "papermill": {
     "duration": 0.025686,
     "end_time": "2022-08-28T01:28:08.410710",
     "exception": false,
     "start_time": "2022-08-28T01:28:08.385024",
     "status": "completed"
    },
    "tags": []
   },
   "outputs": [
    {
     "name": "stdout",
     "output_type": "stream",
     "text": [
      "cistopic_objects/VIB_hydrop_21.FIXEDCELLS__cto.scrublet0-4.fmx.singlets.pkl\n",
      "cistopic_objects/VIB_hydrop_22.FIXEDCELLS__cto.scrublet0-4.fmx.singlets.pkl\n",
      "2022-09-13 17:56:36,546 cisTopic     INFO     cisTopic object 1 merged\n"
     ]
    },
    {
     "data": {
      "application/javascript": [
       "\n",
       "            setTimeout(function() {\n",
       "                var nbb_cell_id = 23;\n",
       "                var nbb_unformatted_code = \"paths_list = ['cistopic_objects/VIB_hydrop_21.FIXEDCELLS__cto.scrublet0-4.fmx.singlets.pkl', 'cistopic_objects/VIB_hydrop_22.FIXEDCELLS__cto.scrublet0-4.fmx.singlets.pkl']\\ncto_path_new = 'cistopic_objects/VIB_hydrop_2.FIXEDCELLS__cto.scrublet0-4.fmx.singlets.pkl'\\ncto_list = []\\nfor file in paths_list:\\n    print(file)\\n    with open(file, 'rb') as f:\\n        cto = pickle.load(f)\\n    \\n    cto_list.append(cto)\\n    \\ncto_merged = merge(cto_list)\\nwith open(\\n    cto_path_new, \\\"wb\\\"\\n) as f:\\n    pickle.dump(cto_merged, f, protocol=4)\";\n",
       "                var nbb_formatted_code = \"paths_list = [\\n    \\\"cistopic_objects/VIB_hydrop_21.FIXEDCELLS__cto.scrublet0-4.fmx.singlets.pkl\\\",\\n    \\\"cistopic_objects/VIB_hydrop_22.FIXEDCELLS__cto.scrublet0-4.fmx.singlets.pkl\\\",\\n]\\ncto_path_new = (\\n    \\\"cistopic_objects/VIB_hydrop_2.FIXEDCELLS__cto.scrublet0-4.fmx.singlets.pkl\\\"\\n)\\ncto_list = []\\nfor file in paths_list:\\n    print(file)\\n    with open(file, \\\"rb\\\") as f:\\n        cto = pickle.load(f)\\n\\n    cto_list.append(cto)\\n\\ncto_merged = merge(cto_list)\\nwith open(cto_path_new, \\\"wb\\\") as f:\\n    pickle.dump(cto_merged, f, protocol=4)\";\n",
       "                var nbb_cells = Jupyter.notebook.get_cells();\n",
       "                for (var i = 0; i < nbb_cells.length; ++i) {\n",
       "                    if (nbb_cells[i].input_prompt_number == nbb_cell_id) {\n",
       "                        if (nbb_cells[i].get_text() == nbb_unformatted_code) {\n",
       "                             nbb_cells[i].set_text(nbb_formatted_code);\n",
       "                        }\n",
       "                        break;\n",
       "                    }\n",
       "                }\n",
       "            }, 500);\n",
       "            "
      ],
      "text/plain": [
       "<IPython.core.display.Javascript object>"
      ]
     },
     "metadata": {},
     "output_type": "display_data"
    }
   ],
   "source": [
    "paths_list = ['cistopic_objects/VIB_hydrop_21.FIXEDCELLS__cto.scrublet0-4.fmx.singlets.pkl', 'cistopic_objects/VIB_hydrop_22.FIXEDCELLS__cto.scrublet0-4.fmx.singlets.pkl']\n",
    "cto_path_new = 'cistopic_objects/VIB_hydrop_2.FIXEDCELLS__cto.scrublet0-4.fmx.singlets.pkl'\n",
    "cto_list = []\n",
    "for file in paths_list:\n",
    "    print(file)\n",
    "    with open(file, 'rb') as f:\n",
    "        cto = pickle.load(f)\n",
    "    \n",
    "    cto_list.append(cto)\n",
    "    \n",
    "cto_merged = merge(cto_list)\n",
    "with open(\n",
    "    cto_path_new, \"wb\"\n",
    ") as f:\n",
    "    pickle.dump(cto_merged, f, protocol=4)"
   ]
  },
  {
   "cell_type": "code",
   "execution_count": 24,
   "id": "bea5b69d",
   "metadata": {
    "execution": {
     "iopub.execute_input": "2022-09-13T15:56:59.391436Z",
     "iopub.status.busy": "2022-09-13T15:56:59.382623Z",
     "iopub.status.idle": "2022-09-13T15:57:37.888111Z",
     "shell.execute_reply": "2022-09-13T15:57:37.875845Z",
     "shell.execute_reply.started": "2022-09-13T15:56:59.387018Z"
    },
    "tags": []
   },
   "outputs": [
    {
     "name": "stdout",
     "output_type": "stream",
     "text": [
      "cistopic_objects/VIB_hydrop_11.FIXEDCELLS__cto.scrublet0-4.fmx.singlets.pkl\n",
      "cistopic_objects/VIB_hydrop_12.FIXEDCELLS__cto.scrublet0-4.fmx.singlets.pkl\n",
      "2022-09-13 17:57:19,272 cisTopic     INFO     cisTopic object 1 merged\n"
     ]
    },
    {
     "data": {
      "application/javascript": [
       "\n",
       "            setTimeout(function() {\n",
       "                var nbb_cell_id = 24;\n",
       "                var nbb_unformatted_code = \"paths_list = ['cistopic_objects/VIB_hydrop_11.FIXEDCELLS__cto.scrublet0-4.fmx.singlets.pkl', 'cistopic_objects/VIB_hydrop_12.FIXEDCELLS__cto.scrublet0-4.fmx.singlets.pkl']\\ncto_path_new = 'cistopic_objects/VIB_hydrop_1.FIXEDCELLS__cto.scrublet0-4.fmx.singlets.pkl'\\ncto_list = []\\nfor file in paths_list:\\n    print(file)\\n    with open(file, 'rb') as f:\\n        cto = pickle.load(f)\\n    \\n    cto_list.append(cto)\\n    \\ncto_merged = merge(cto_list)\\nwith open(\\n    cto_path_new, \\\"wb\\\"\\n) as f:\\n    pickle.dump(cto_merged, f, protocol=4)\";\n",
       "                var nbb_formatted_code = \"paths_list = [\\n    \\\"cistopic_objects/VIB_hydrop_11.FIXEDCELLS__cto.scrublet0-4.fmx.singlets.pkl\\\",\\n    \\\"cistopic_objects/VIB_hydrop_12.FIXEDCELLS__cto.scrublet0-4.fmx.singlets.pkl\\\",\\n]\\ncto_path_new = (\\n    \\\"cistopic_objects/VIB_hydrop_1.FIXEDCELLS__cto.scrublet0-4.fmx.singlets.pkl\\\"\\n)\\ncto_list = []\\nfor file in paths_list:\\n    print(file)\\n    with open(file, \\\"rb\\\") as f:\\n        cto = pickle.load(f)\\n\\n    cto_list.append(cto)\\n\\ncto_merged = merge(cto_list)\\nwith open(cto_path_new, \\\"wb\\\") as f:\\n    pickle.dump(cto_merged, f, protocol=4)\";\n",
       "                var nbb_cells = Jupyter.notebook.get_cells();\n",
       "                for (var i = 0; i < nbb_cells.length; ++i) {\n",
       "                    if (nbb_cells[i].input_prompt_number == nbb_cell_id) {\n",
       "                        if (nbb_cells[i].get_text() == nbb_unformatted_code) {\n",
       "                             nbb_cells[i].set_text(nbb_formatted_code);\n",
       "                        }\n",
       "                        break;\n",
       "                    }\n",
       "                }\n",
       "            }, 500);\n",
       "            "
      ],
      "text/plain": [
       "<IPython.core.display.Javascript object>"
      ]
     },
     "metadata": {},
     "output_type": "display_data"
    }
   ],
   "source": [
    "paths_list = ['cistopic_objects/VIB_hydrop_11.FIXEDCELLS__cto.scrublet0-4.fmx.singlets.pkl', 'cistopic_objects/VIB_hydrop_12.FIXEDCELLS__cto.scrublet0-4.fmx.singlets.pkl']\n",
    "cto_path_new = 'cistopic_objects/VIB_hydrop_1.FIXEDCELLS__cto.scrublet0-4.fmx.singlets.pkl'\n",
    "cto_list = []\n",
    "for file in paths_list:\n",
    "    print(file)\n",
    "    with open(file, 'rb') as f:\n",
    "        cto = pickle.load(f)\n",
    "    \n",
    "    cto_list.append(cto)\n",
    "    \n",
    "cto_merged = merge(cto_list)\n",
    "with open(\n",
    "    cto_path_new, \"wb\"\n",
    ") as f:\n",
    "    pickle.dump(cto_merged, f, protocol=4)"
   ]
  },
  {
   "cell_type": "code",
   "execution_count": 25,
   "id": "5d2f239e",
   "metadata": {
    "execution": {
     "iopub.execute_input": "2022-09-13T15:57:38.006926Z",
     "iopub.status.busy": "2022-09-13T15:57:37.993661Z",
     "iopub.status.idle": "2022-09-13T15:57:53.984147Z",
     "shell.execute_reply": "2022-09-13T15:57:53.674459Z",
     "shell.execute_reply.started": "2022-09-13T15:57:38.006901Z"
    },
    "papermill": {
     "duration": 0.024893,
     "end_time": "2022-08-28T01:28:08.461300",
     "exception": false,
     "start_time": "2022-08-28T01:28:08.436407",
     "status": "completed"
    },
    "tags": []
   },
   "outputs": [
    {
     "data": {
      "application/javascript": [
       "\n",
       "            setTimeout(function() {\n",
       "                var nbb_cell_id = 25;\n",
       "                var nbb_unformatted_code = \"cto_path = 'cistopic_objects/VIB_hydrop_1.FIXEDCELLS__cto.scrublet0-4.fmx.singlets.pkl'\\nwith open(cto_path, 'rb') as f:\\n    cto = pickle.load(f)\\n    \\ncto.cell_names = [ x.split('__')[0] + '-' + x.split('VIB_hydrop_')[-1][1] + \\\"___\\\"  + x.split('__')[1]  for x in cto.cell_names ]\\nwith open(\\n    cto_path, \\\"wb\\\"\\n) as f:\\n    pickle.dump(cto, f, protocol=4)\";\n",
       "                var nbb_formatted_code = \"cto_path = \\\"cistopic_objects/VIB_hydrop_1.FIXEDCELLS__cto.scrublet0-4.fmx.singlets.pkl\\\"\\nwith open(cto_path, \\\"rb\\\") as f:\\n    cto = pickle.load(f)\\n\\ncto.cell_names = [\\n    x.split(\\\"__\\\")[0] + \\\"-\\\" + x.split(\\\"VIB_hydrop_\\\")[-1][1] + \\\"___\\\" + x.split(\\\"__\\\")[1]\\n    for x in cto.cell_names\\n]\\nwith open(cto_path, \\\"wb\\\") as f:\\n    pickle.dump(cto, f, protocol=4)\";\n",
       "                var nbb_cells = Jupyter.notebook.get_cells();\n",
       "                for (var i = 0; i < nbb_cells.length; ++i) {\n",
       "                    if (nbb_cells[i].input_prompt_number == nbb_cell_id) {\n",
       "                        if (nbb_cells[i].get_text() == nbb_unformatted_code) {\n",
       "                             nbb_cells[i].set_text(nbb_formatted_code);\n",
       "                        }\n",
       "                        break;\n",
       "                    }\n",
       "                }\n",
       "            }, 500);\n",
       "            "
      ],
      "text/plain": [
       "<IPython.core.display.Javascript object>"
      ]
     },
     "metadata": {},
     "output_type": "display_data"
    }
   ],
   "source": [
    "cto_path = 'cistopic_objects/VIB_hydrop_1.FIXEDCELLS__cto.scrublet0-4.fmx.singlets.pkl'\n",
    "with open(cto_path, 'rb') as f:\n",
    "    cto = pickle.load(f)\n",
    "    \n",
    "cto.cell_names = [ x.split('__')[0] + '-' + x.split('VIB_hydrop_')[-1][1] + \"___\"  + x.split('__')[1]  for x in cto.cell_names ]\n",
    "with open(\n",
    "    cto_path, \"wb\"\n",
    ") as f:\n",
    "    pickle.dump(cto, f, protocol=4)"
   ]
  },
  {
   "cell_type": "code",
   "execution_count": null,
   "id": "7db59728",
   "metadata": {
    "execution": {
     "iopub.execute_input": "2022-09-13T15:57:54.161904Z",
     "iopub.status.busy": "2022-09-13T15:57:54.159288Z"
    },
    "papermill": {
     "duration": 0.025348,
     "end_time": "2022-08-28T01:28:08.511658",
     "exception": false,
     "start_time": "2022-08-28T01:28:08.486310",
     "status": "completed"
    },
    "tags": []
   },
   "outputs": [],
   "source": [
    "cto_path = 'cistopic_objects/VIB_hydrop_2.FIXEDCELLS__cto.scrublet0-4.fmx.singlets.pkl'\n",
    "with open(cto_path, 'rb') as f:\n",
    "    cto = pickle.load(f)\n",
    "    \n",
    "cto.cell_names = [ x.split('__')[0] + '-' + x.split('VIB_hydrop_')[-1][1] + \"___\"  + x.split('__')[1]  for x in cto.cell_names ]\n",
    "with open(\n",
    "    cto_path, \"wb\"\n",
    ") as f:\n",
    "    pickle.dump(cto, f, protocol=4)"
   ]
  },
  {
   "cell_type": "markdown",
   "id": "674c2879",
   "metadata": {
    "papermill": {
     "duration": 0.024958,
     "end_time": "2022-08-28T01:28:08.561685",
     "exception": false,
     "start_time": "2022-08-28T01:28:08.536727",
     "status": "completed"
    },
    "tags": []
   },
   "source": [
    "# Write looms from these ctos"
   ]
  },
  {
   "cell_type": "code",
   "execution_count": null,
   "id": "aba4b0db",
   "metadata": {
    "papermill": {
     "duration": 0.025631,
     "end_time": "2022-08-28T01:28:08.612547",
     "exception": false,
     "start_time": "2022-08-28T01:28:08.586916",
     "status": "completed"
    },
    "tags": []
   },
   "outputs": [
    {
     "data": {
      "application/javascript": [
       "\n",
       "            setTimeout(function() {\n",
       "                var nbb_cell_id = 73;\n",
       "                var nbb_unformatted_code = \"import loompy as lp\";\n",
       "                var nbb_formatted_code = \"import loompy as lp\";\n",
       "                var nbb_cells = Jupyter.notebook.get_cells();\n",
       "                for (var i = 0; i < nbb_cells.length; ++i) {\n",
       "                    if (nbb_cells[i].input_prompt_number == nbb_cell_id) {\n",
       "                        if (nbb_cells[i].get_text() == nbb_unformatted_code) {\n",
       "                             nbb_cells[i].set_text(nbb_formatted_code);\n",
       "                        }\n",
       "                        break;\n",
       "                    }\n",
       "                }\n",
       "            }, 500);\n",
       "            "
      ],
      "text/plain": [
       "<IPython.core.display.Javascript object>"
      ]
     },
     "metadata": {},
     "output_type": "display_data"
    }
   ],
   "source": [
    "import loompy as lp"
   ]
  },
  {
   "cell_type": "code",
   "execution_count": null,
   "id": "e3409fc9",
   "metadata": {
    "papermill": {
     "duration": 0.024893,
     "end_time": "2022-08-28T01:28:08.662476",
     "exception": false,
     "start_time": "2022-08-28T01:28:08.637583",
     "status": "completed"
    },
    "tags": []
   },
   "outputs": [
    {
     "data": {
      "text/plain": [
       "{'BIO_ddseq_1.FIXEDCELLS': 'cistopic_objects/BIO_ddseq_1.FIXEDCELLS__cto.scrublet0-4.fmx.singlets.pkl',\n",
       " 'BIO_ddseq_2.FIXEDCELLS': 'cistopic_objects/BIO_ddseq_2.FIXEDCELLS__cto.scrublet0-4.fmx.singlets.pkl',\n",
       " 'BIO_ddseq_3.FIXEDCELLS': 'cistopic_objects/BIO_ddseq_3.FIXEDCELLS__cto.scrublet0-4.fmx.singlets.pkl',\n",
       " 'BIO_ddseq_4.FIXEDCELLS': 'cistopic_objects/BIO_ddseq_4.FIXEDCELLS__cto.scrublet0-4.fmx.singlets.pkl',\n",
       " 'BRO_mtscatac_1.FIXEDCELLS': 'cistopic_objects/BRO_mtscatac_1.FIXEDCELLS__cto.scrublet0-4.fmx.singlets.pkl',\n",
       " 'BRO_mtscatac_2.FIXEDCELLS': 'cistopic_objects/BRO_mtscatac_2.FIXEDCELLS__cto.scrublet0-4.fmx.singlets.pkl',\n",
       " 'CNA_10xmultiome_1.FIXEDCELLS': 'cistopic_objects/CNA_10xmultiome_1.FIXEDCELLS__cto.scrublet0-4.fmx.singlets.pkl',\n",
       " 'CNA_10xmultiome_2.FIXEDCELLS': 'cistopic_objects/CNA_10xmultiome_2.FIXEDCELLS__cto.scrublet0-4.fmx.singlets.pkl',\n",
       " 'CNA_10xv11_1.FIXEDCELLS': 'cistopic_objects/CNA_10xv11_1.FIXEDCELLS__cto.scrublet0-4.fmx.singlets.pkl',\n",
       " 'CNA_10xv11_2.FIXEDCELLS': 'cistopic_objects/CNA_10xv11_2.FIXEDCELLS__cto.scrublet0-4.fmx.singlets.pkl',\n",
       " 'CNA_10xv11_3.FIXEDCELLS': 'cistopic_objects/CNA_10xv11_3.FIXEDCELLS__cto.scrublet0-4.fmx.singlets.pkl',\n",
       " 'CNA_10xv11_4.FIXEDCELLS': 'cistopic_objects/CNA_10xv11_4.FIXEDCELLS__cto.scrublet0-4.fmx.singlets.pkl',\n",
       " 'CNA_10xv11_5.FIXEDCELLS': 'cistopic_objects/CNA_10xv11_5.FIXEDCELLS__cto.scrublet0-4.fmx.singlets.pkl',\n",
       " 'CNA_10xv2_1.FIXEDCELLS': 'cistopic_objects/CNA_10xv2_1.FIXEDCELLS__cto.scrublet0-4.fmx.singlets.pkl',\n",
       " 'CNA_10xv2_2.FIXEDCELLS': 'cistopic_objects/CNA_10xv2_2.FIXEDCELLS__cto.scrublet0-4.fmx.singlets.pkl',\n",
       " 'CNA_hydrop_1.FIXEDCELLS': 'cistopic_objects/CNA_hydrop_1.FIXEDCELLS__cto.scrublet0-4.fmx.singlets.pkl',\n",
       " 'CNA_hydrop_2.FIXEDCELLS': 'cistopic_objects/CNA_hydrop_2.FIXEDCELLS__cto.scrublet0-4.fmx.singlets.pkl',\n",
       " 'CNA_hydrop_3.FIXEDCELLS': 'cistopic_objects/CNA_hydrop_3.FIXEDCELLS__cto.scrublet0-4.fmx.singlets.pkl',\n",
       " 'CNA_mtscatac_1.FIXEDCELLS': 'cistopic_objects/CNA_mtscatac_1.FIXEDCELLS__cto.scrublet0-4.fmx.singlets.pkl',\n",
       " 'CNA_mtscatac_2.FIXEDCELLS': 'cistopic_objects/CNA_mtscatac_2.FIXEDCELLS__cto.scrublet0-4.fmx.singlets.pkl',\n",
       " 'EPF_hydrop_1.FIXEDCELLS': 'cistopic_objects/EPF_hydrop_1.FIXEDCELLS__cto.scrublet0-4.fmx.singlets.pkl',\n",
       " 'EPF_hydrop_2.FIXEDCELLS': 'cistopic_objects/EPF_hydrop_2.FIXEDCELLS__cto.scrublet0-4.fmx.singlets.pkl',\n",
       " 'EPF_hydrop_3.FIXEDCELLS': 'cistopic_objects/EPF_hydrop_3.FIXEDCELLS__cto.scrublet0-4.fmx.singlets.pkl',\n",
       " 'EPF_hydrop_4.FIXEDCELLS': 'cistopic_objects/EPF_hydrop_4.FIXEDCELLS__cto.scrublet0-4.fmx.singlets.pkl',\n",
       " 'HAR_ddseq_1.FIXEDCELLS': 'cistopic_objects/HAR_ddseq_1.FIXEDCELLS__cto.scrublet0-4.fmx.singlets.pkl',\n",
       " 'HAR_ddseq_2.FIXEDCELLS': 'cistopic_objects/HAR_ddseq_2.FIXEDCELLS__cto.scrublet0-4.fmx.singlets.pkl',\n",
       " 'MDC_mtscatac_1.FIXEDCELLS': 'cistopic_objects/MDC_mtscatac_1.FIXEDCELLS__cto.scrublet0-4.fmx.singlets.pkl',\n",
       " 'MDC_mtscatac_2.FIXEDCELLS': 'cistopic_objects/MDC_mtscatac_2.FIXEDCELLS__cto.scrublet0-4.fmx.singlets.pkl',\n",
       " 'OHS_s3atac_1.FIXEDCELLS': 'cistopic_objects/OHS_s3atac_1.FIXEDCELLS__cto.scrublet0-4.fmx.singlets.pkl',\n",
       " 'OHS_s3atac_2.FIXEDCELLS': 'cistopic_objects/OHS_s3atac_2.FIXEDCELLS__cto.scrublet0-4.fmx.singlets.pkl',\n",
       " 'SAN_10xmultiome_1.FIXEDCELLS': 'cistopic_objects/SAN_10xmultiome_1.FIXEDCELLS__cto.scrublet0-4.fmx.singlets.pkl',\n",
       " 'SAN_10xmultiome_2.FIXEDCELLS': 'cistopic_objects/SAN_10xmultiome_2.FIXEDCELLS__cto.scrublet0-4.fmx.singlets.pkl',\n",
       " 'STA_10xv11_1.FIXEDCELLS': 'cistopic_objects/STA_10xv11_1.FIXEDCELLS__cto.scrublet0-4.fmx.singlets.pkl',\n",
       " 'STA_10xv11_2.FIXEDCELLS': 'cistopic_objects/STA_10xv11_2.FIXEDCELLS__cto.scrublet0-4.fmx.singlets.pkl',\n",
       " 'TXG_10xv11_1.FIXEDCELLS': 'cistopic_objects/TXG_10xv11_1.FIXEDCELLS__cto.scrublet0-4.fmx.singlets.pkl',\n",
       " 'TXG_10xv2_1.FIXEDCELLS': 'cistopic_objects/TXG_10xv2_1.FIXEDCELLS__cto.scrublet0-4.fmx.singlets.pkl',\n",
       " 'TXG_10xv2_2.FIXEDCELLS': 'cistopic_objects/TXG_10xv2_2.FIXEDCELLS__cto.scrublet0-4.fmx.singlets.pkl',\n",
       " 'UCS_ddseq_1.FIXEDCELLS': 'cistopic_objects/UCS_ddseq_1.FIXEDCELLS__cto.scrublet0-4.fmx.singlets.pkl',\n",
       " 'UCS_ddseq_2.FIXEDCELLS': 'cistopic_objects/UCS_ddseq_2.FIXEDCELLS__cto.scrublet0-4.fmx.singlets.pkl',\n",
       " 'VIB_10xmultiome_1.FIXEDCELLS': 'cistopic_objects/VIB_10xmultiome_1.FIXEDCELLS__cto.scrublet0-4.fmx.singlets.pkl',\n",
       " 'VIB_10xmultiome_2.FIXEDCELLS': 'cistopic_objects/VIB_10xmultiome_2.FIXEDCELLS__cto.scrublet0-4.fmx.singlets.pkl',\n",
       " 'VIB_10xv1_1.FIXEDCELLS': 'cistopic_objects/VIB_10xv1_1.FIXEDCELLS__cto.scrublet0-4.fmx.singlets.pkl',\n",
       " 'VIB_10xv1_2.FIXEDCELLS': 'cistopic_objects/VIB_10xv1_2.FIXEDCELLS__cto.scrublet0-4.fmx.singlets.pkl',\n",
       " 'VIB_10xv2_1.FIXEDCELLS': 'cistopic_objects/VIB_10xv2_1.FIXEDCELLS__cto.scrublet0-4.fmx.singlets.pkl',\n",
       " 'VIB_10xv2_2.FIXEDCELLS': 'cistopic_objects/VIB_10xv2_2.FIXEDCELLS__cto.scrublet0-4.fmx.singlets.pkl',\n",
       " 'VIB_hydrop_1.FIXEDCELLS': 'cistopic_objects/VIB_hydrop_1.FIXEDCELLS__cto.scrublet0-4.fmx.singlets.pkl',\n",
       " 'VIB_hydrop_11.FIXEDCELLS': 'cistopic_objects/VIB_hydrop_11.FIXEDCELLS__cto.scrublet0-4.fmx.singlets.pkl',\n",
       " 'VIB_hydrop_12.FIXEDCELLS': 'cistopic_objects/VIB_hydrop_12.FIXEDCELLS__cto.scrublet0-4.fmx.singlets.pkl',\n",
       " 'VIB_hydrop_2.FIXEDCELLS': 'cistopic_objects/VIB_hydrop_2.FIXEDCELLS__cto.scrublet0-4.fmx.singlets.pkl',\n",
       " 'VIB_hydrop_21.FIXEDCELLS': 'cistopic_objects/VIB_hydrop_21.FIXEDCELLS__cto.scrublet0-4.fmx.singlets.pkl',\n",
       " 'VIB_hydrop_22.FIXEDCELLS': 'cistopic_objects/VIB_hydrop_22.FIXEDCELLS__cto.scrublet0-4.fmx.singlets.pkl'}"
      ]
     },
     "execution_count": 74,
     "metadata": {},
     "output_type": "execute_result"
    },
    {
     "data": {
      "application/javascript": [
       "\n",
       "            setTimeout(function() {\n",
       "                var nbb_cell_id = 74;\n",
       "                var nbb_unformatted_code = \"scrub_name_suffix = \\\"0-4\\\"\\nsinglet_cto_dict = {x.split('/')[-1].split(f'__')[0]:x for x in sorted(glob.glob(f'cistopic_objects/*__cto.scrublet{scrub_name_suffix}*singlets.pkl'))}\\nsinglet_cto_dict\";\n",
       "                var nbb_formatted_code = \"scrub_name_suffix = \\\"0-4\\\"\\nsinglet_cto_dict = {\\n    x.split(\\\"/\\\")[-1].split(f\\\"__\\\")[0]: x\\n    for x in sorted(\\n        glob.glob(f\\\"cistopic_objects/*__cto.scrublet{scrub_name_suffix}*singlets.pkl\\\")\\n    )\\n}\\nsinglet_cto_dict\";\n",
       "                var nbb_cells = Jupyter.notebook.get_cells();\n",
       "                for (var i = 0; i < nbb_cells.length; ++i) {\n",
       "                    if (nbb_cells[i].input_prompt_number == nbb_cell_id) {\n",
       "                        if (nbb_cells[i].get_text() == nbb_unformatted_code) {\n",
       "                             nbb_cells[i].set_text(nbb_formatted_code);\n",
       "                        }\n",
       "                        break;\n",
       "                    }\n",
       "                }\n",
       "            }, 500);\n",
       "            "
      ],
      "text/plain": [
       "<IPython.core.display.Javascript object>"
      ]
     },
     "metadata": {},
     "output_type": "display_data"
    }
   ],
   "source": [
    "scrub_name_suffix = \"0-4\"\n",
    "singlet_cto_dict = {x.split('/')[-1].split(f'__')[0]:x for x in sorted(glob.glob(f'cistopic_objects/*__cto.scrublet{scrub_name_suffix}*singlets.pkl'))}\n",
    "singlet_cto_dict"
   ]
  },
  {
   "cell_type": "code",
   "execution_count": null,
   "id": "9e829f5a",
   "metadata": {
    "tags": []
   },
   "outputs": [
    {
     "data": {
      "text/plain": [
       "51"
      ]
     },
     "execution_count": 75,
     "metadata": {},
     "output_type": "execute_result"
    },
    {
     "data": {
      "application/javascript": [
       "\n",
       "            setTimeout(function() {\n",
       "                var nbb_cell_id = 75;\n",
       "                var nbb_unformatted_code = \"len(singlet_cto_dict)\";\n",
       "                var nbb_formatted_code = \"len(singlet_cto_dict)\";\n",
       "                var nbb_cells = Jupyter.notebook.get_cells();\n",
       "                for (var i = 0; i < nbb_cells.length; ++i) {\n",
       "                    if (nbb_cells[i].input_prompt_number == nbb_cell_id) {\n",
       "                        if (nbb_cells[i].get_text() == nbb_unformatted_code) {\n",
       "                             nbb_cells[i].set_text(nbb_formatted_code);\n",
       "                        }\n",
       "                        break;\n",
       "                    }\n",
       "                }\n",
       "            }, 500);\n",
       "            "
      ],
      "text/plain": [
       "<IPython.core.display.Javascript object>"
      ]
     },
     "metadata": {},
     "output_type": "display_data"
    }
   ],
   "source": [
    "len(singlet_cto_dict)"
   ]
  },
  {
   "cell_type": "code",
   "execution_count": null,
   "id": "d28eb780",
   "metadata": {
    "papermill": {
     "duration": 0.025137,
     "end_time": "2022-08-28T01:28:08.712948",
     "exception": false,
     "start_time": "2022-08-28T01:28:08.687811",
     "status": "completed"
    },
    "tags": []
   },
   "outputs": [
    {
     "data": {
      "application/javascript": [
       "\n",
       "            setTimeout(function() {\n",
       "                var nbb_cell_id = 76;\n",
       "                var nbb_unformatted_code = \"loom_out = 'cell_region_looms'\\nif not os.path.exists(os.path.join(wdir, loom_out)):\\n    os.makedirs(os.path.join(wdir, loom_out))\";\n",
       "                var nbb_formatted_code = \"loom_out = \\\"cell_region_looms\\\"\\nif not os.path.exists(os.path.join(wdir, loom_out)):\\n    os.makedirs(os.path.join(wdir, loom_out))\";\n",
       "                var nbb_cells = Jupyter.notebook.get_cells();\n",
       "                for (var i = 0; i < nbb_cells.length; ++i) {\n",
       "                    if (nbb_cells[i].input_prompt_number == nbb_cell_id) {\n",
       "                        if (nbb_cells[i].get_text() == nbb_unformatted_code) {\n",
       "                             nbb_cells[i].set_text(nbb_formatted_code);\n",
       "                        }\n",
       "                        break;\n",
       "                    }\n",
       "                }\n",
       "            }, 500);\n",
       "            "
      ],
      "text/plain": [
       "<IPython.core.display.Javascript object>"
      ]
     },
     "metadata": {},
     "output_type": "display_data"
    }
   ],
   "source": [
    "loom_out = 'cell_region_looms'\n",
    "if not os.path.exists(os.path.join(wdir, loom_out)):\n",
    "    os.makedirs(os.path.join(wdir, loom_out))"
   ]
  },
  {
   "cell_type": "code",
   "execution_count": null,
   "id": "f27d221f",
   "metadata": {
    "papermill": {
     "duration": 0.026056,
     "end_time": "2022-08-28T01:28:08.764220",
     "exception": false,
     "start_time": "2022-08-28T01:28:08.738164",
     "status": "completed"
    },
    "tags": []
   },
   "outputs": [
    {
     "name": "stdout",
     "output_type": "stream",
     "text": [
      "cell_region_looms/BIO_ddseq_1.FIXEDCELLS__cto.scrublet0-4.fmx.singlets.loom already exists!\n",
      "cell_region_looms/BIO_ddseq_2.FIXEDCELLS__cto.scrublet0-4.fmx.singlets.loom already exists!\n",
      "cell_region_looms/BIO_ddseq_3.FIXEDCELLS__cto.scrublet0-4.fmx.singlets.loom already exists!\n",
      "cell_region_looms/BIO_ddseq_4.FIXEDCELLS__cto.scrublet0-4.fmx.singlets.loom already exists!\n",
      "cell_region_looms/BRO_mtscatac_1.FIXEDCELLS__cto.scrublet0-4.fmx.singlets.loom already exists!\n",
      "cell_region_looms/BRO_mtscatac_2.FIXEDCELLS__cto.scrublet0-4.fmx.singlets.loom already exists!\n",
      "cell_region_looms/CNA_10xmultiome_1.FIXEDCELLS__cto.scrublet0-4.fmx.singlets.loom already exists!\n",
      "cell_region_looms/CNA_10xmultiome_2.FIXEDCELLS__cto.scrublet0-4.fmx.singlets.loom already exists!\n",
      "cell_region_looms/CNA_10xv11_1.FIXEDCELLS__cto.scrublet0-4.fmx.singlets.loom already exists!\n",
      "cell_region_looms/CNA_10xv11_2.FIXEDCELLS__cto.scrublet0-4.fmx.singlets.loom already exists!\n",
      "cell_region_looms/CNA_10xv11_3.FIXEDCELLS__cto.scrublet0-4.fmx.singlets.loom already exists!\n",
      "cell_region_looms/CNA_10xv11_4.FIXEDCELLS__cto.scrublet0-4.fmx.singlets.loom already exists!\n",
      "cell_region_looms/CNA_10xv11_5.FIXEDCELLS__cto.scrublet0-4.fmx.singlets.loom already exists!\n",
      "cell_region_looms/CNA_10xv2_1.FIXEDCELLS__cto.scrublet0-4.fmx.singlets.loom already exists!\n",
      "cell_region_looms/CNA_10xv2_2.FIXEDCELLS__cto.scrublet0-4.fmx.singlets.loom already exists!\n",
      "cell_region_looms/CNA_hydrop_1.FIXEDCELLS__cto.scrublet0-4.fmx.singlets.loom already exists!\n",
      "cell_region_looms/CNA_hydrop_2.FIXEDCELLS__cto.scrublet0-4.fmx.singlets.loom already exists!\n",
      "cell_region_looms/CNA_hydrop_3.FIXEDCELLS__cto.scrublet0-4.fmx.singlets.loom already exists!\n",
      "cell_region_looms/CNA_mtscatac_1.FIXEDCELLS__cto.scrublet0-4.fmx.singlets.loom already exists!\n",
      "cell_region_looms/CNA_mtscatac_2.FIXEDCELLS__cto.scrublet0-4.fmx.singlets.loom already exists!\n",
      "cell_region_looms/EPF_hydrop_1.FIXEDCELLS__cto.scrublet0-4.fmx.singlets.loom already exists!\n",
      "cell_region_looms/EPF_hydrop_2.FIXEDCELLS__cto.scrublet0-4.fmx.singlets.loom already exists!\n",
      "cell_region_looms/EPF_hydrop_3.FIXEDCELLS__cto.scrublet0-4.fmx.singlets.loom already exists!\n",
      "cell_region_looms/EPF_hydrop_4.FIXEDCELLS__cto.scrublet0-4.fmx.singlets.loom already exists!\n",
      "cell_region_looms/HAR_ddseq_1.FIXEDCELLS__cto.scrublet0-4.fmx.singlets.loom already exists!\n",
      "cell_region_looms/HAR_ddseq_2.FIXEDCELLS__cto.scrublet0-4.fmx.singlets.loom already exists!\n",
      "cell_region_looms/MDC_mtscatac_1.FIXEDCELLS__cto.scrublet0-4.fmx.singlets.loom already exists!\n",
      "cell_region_looms/MDC_mtscatac_2.FIXEDCELLS__cto.scrublet0-4.fmx.singlets.loom already exists!\n",
      "cell_region_looms/OHS_s3atac_1.FIXEDCELLS__cto.scrublet0-4.fmx.singlets.loom already exists!\n",
      "cell_region_looms/OHS_s3atac_2.FIXEDCELLS__cto.scrublet0-4.fmx.singlets.loom already exists!\n",
      "cell_region_looms/SAN_10xmultiome_1.FIXEDCELLS__cto.scrublet0-4.fmx.singlets.loom already exists!\n",
      "cell_region_looms/SAN_10xmultiome_2.FIXEDCELLS__cto.scrublet0-4.fmx.singlets.loom already exists!\n",
      "cell_region_looms/STA_10xv11_1.FIXEDCELLS__cto.scrublet0-4.fmx.singlets.loom already exists!\n",
      "cell_region_looms/STA_10xv11_2.FIXEDCELLS__cto.scrublet0-4.fmx.singlets.loom already exists!\n",
      "cell_region_looms/TXG_10xv11_1.FIXEDCELLS__cto.scrublet0-4.fmx.singlets.loom already exists!\n",
      "cell_region_looms/TXG_10xv2_1.FIXEDCELLS__cto.scrublet0-4.fmx.singlets.loom already exists!\n",
      "cell_region_looms/TXG_10xv2_2.FIXEDCELLS__cto.scrublet0-4.fmx.singlets.loom already exists!\n",
      "echo UCS_ddseq_1.FIXEDCELLS && cd /dodrio/scratch/projects/starting_2022_023/benchmark/scatac_benchmark/fixedcells_2_cistopic && singularity exec -B /lustre1,/staging,/data,/vsc-hard-mounts,/scratch ../0_resources/cistopic_image/20220815_pycistopic.sif python ../0_resources/scripts/create_loom.py -i cistopic_objects/UCS_ddseq_1.FIXEDCELLS__cto.scrublet0-4.fmx.singlets.pkl -o cell_region_looms/UCS_ddseq_1.FIXEDCELLS__cto.scrublet0-4.fmx.singlets.loom\n",
      "echo UCS_ddseq_2.FIXEDCELLS && cd /dodrio/scratch/projects/starting_2022_023/benchmark/scatac_benchmark/fixedcells_2_cistopic && singularity exec -B /lustre1,/staging,/data,/vsc-hard-mounts,/scratch ../0_resources/cistopic_image/20220815_pycistopic.sif python ../0_resources/scripts/create_loom.py -i cistopic_objects/UCS_ddseq_2.FIXEDCELLS__cto.scrublet0-4.fmx.singlets.pkl -o cell_region_looms/UCS_ddseq_2.FIXEDCELLS__cto.scrublet0-4.fmx.singlets.loom\n",
      "cell_region_looms/VIB_10xmultiome_1.FIXEDCELLS__cto.scrublet0-4.fmx.singlets.loom already exists!\n",
      "cell_region_looms/VIB_10xmultiome_2.FIXEDCELLS__cto.scrublet0-4.fmx.singlets.loom already exists!\n",
      "cell_region_looms/VIB_10xv1_1.FIXEDCELLS__cto.scrublet0-4.fmx.singlets.loom already exists!\n",
      "cell_region_looms/VIB_10xv1_2.FIXEDCELLS__cto.scrublet0-4.fmx.singlets.loom already exists!\n",
      "cell_region_looms/VIB_10xv2_1.FIXEDCELLS__cto.scrublet0-4.fmx.singlets.loom already exists!\n",
      "cell_region_looms/VIB_10xv2_2.FIXEDCELLS__cto.scrublet0-4.fmx.singlets.loom already exists!\n",
      "cell_region_looms/VIB_hydrop_1.FIXEDCELLS__cto.scrublet0-4.fmx.singlets.loom already exists!\n",
      "cell_region_looms/VIB_hydrop_11.FIXEDCELLS__cto.scrublet0-4.fmx.singlets.loom already exists!\n",
      "cell_region_looms/VIB_hydrop_12.FIXEDCELLS__cto.scrublet0-4.fmx.singlets.loom already exists!\n",
      "cell_region_looms/VIB_hydrop_2.FIXEDCELLS__cto.scrublet0-4.fmx.singlets.loom already exists!\n",
      "cell_region_looms/VIB_hydrop_21.FIXEDCELLS__cto.scrublet0-4.fmx.singlets.loom already exists!\n",
      "cell_region_looms/VIB_hydrop_22.FIXEDCELLS__cto.scrublet0-4.fmx.singlets.loom already exists!\n"
     ]
    },
    {
     "data": {
      "application/javascript": [
       "\n",
       "            setTimeout(function() {\n",
       "                var nbb_cell_id = 77;\n",
       "                var nbb_unformatted_code = \"mounts = \\\"/lustre1,/staging,/data,/vsc-hard-mounts,/scratch\\\"\\n# mounts = \\\"/dodrio,/readonly/dodrio,/tmp\\\"\\nsif = \\\"../0_resources/cistopic_image/20220815_pycistopic.sif\\\"\\nscript = \\\"../0_resources/scripts/create_loom.py\\\"\\nloom_dir = \\\"cell_region_looms\\\"\\nparallel_file = 'write_looms.parallel'\\nwith open(parallel_file, 'w') as file:\\n\\n    for sample in singlet_cto_dict.keys():\\n        infile = singlet_cto_dict[sample]\\n        outfile = infile.replace('.pkl', '.loom').replace('cistopic_objects','cell_region_looms')\\n    \\n        if not os.path.exists(outfile):\\n            cmd = f\\\"echo {sample} && cd {wdir} && singularity exec -B {mounts} {sif} python {script} -i {infile} -o {outfile}\\\"\\n\\n            print(cmd)\\n            file.write(cmd + '\\\\n')\\n            \\n        else:\\n            print(f'{outfile} already exists!')\";\n",
       "                var nbb_formatted_code = \"mounts = \\\"/lustre1,/staging,/data,/vsc-hard-mounts,/scratch\\\"\\n# mounts = \\\"/dodrio,/readonly/dodrio,/tmp\\\"\\nsif = \\\"../0_resources/cistopic_image/20220815_pycistopic.sif\\\"\\nscript = \\\"../0_resources/scripts/create_loom.py\\\"\\nloom_dir = \\\"cell_region_looms\\\"\\nparallel_file = \\\"write_looms.parallel\\\"\\nwith open(parallel_file, \\\"w\\\") as file:\\n\\n    for sample in singlet_cto_dict.keys():\\n        infile = singlet_cto_dict[sample]\\n        outfile = infile.replace(\\\".pkl\\\", \\\".loom\\\").replace(\\n            \\\"cistopic_objects\\\", \\\"cell_region_looms\\\"\\n        )\\n\\n        if not os.path.exists(outfile):\\n            cmd = f\\\"echo {sample} && cd {wdir} && singularity exec -B {mounts} {sif} python {script} -i {infile} -o {outfile}\\\"\\n\\n            print(cmd)\\n            file.write(cmd + \\\"\\\\n\\\")\\n\\n        else:\\n            print(f\\\"{outfile} already exists!\\\")\";\n",
       "                var nbb_cells = Jupyter.notebook.get_cells();\n",
       "                for (var i = 0; i < nbb_cells.length; ++i) {\n",
       "                    if (nbb_cells[i].input_prompt_number == nbb_cell_id) {\n",
       "                        if (nbb_cells[i].get_text() == nbb_unformatted_code) {\n",
       "                             nbb_cells[i].set_text(nbb_formatted_code);\n",
       "                        }\n",
       "                        break;\n",
       "                    }\n",
       "                }\n",
       "            }, 500);\n",
       "            "
      ],
      "text/plain": [
       "<IPython.core.display.Javascript object>"
      ]
     },
     "metadata": {},
     "output_type": "display_data"
    }
   ],
   "source": [
    "mounts = \"/lustre1,/staging,/data,/vsc-hard-mounts,/scratch\"\n",
    "# mounts = \"/dodrio,/readonly/dodrio,/tmp\"\n",
    "sif = \"../0_resources/cistopic_image/20220815_pycistopic.sif\"\n",
    "script = \"../0_resources/scripts/create_loom.py\"\n",
    "loom_dir = \"cell_region_looms\"\n",
    "parallel_file = 'write_looms.parallel'\n",
    "with open(parallel_file, 'w') as file:\n",
    "\n",
    "    for sample in singlet_cto_dict.keys():\n",
    "        infile = singlet_cto_dict[sample]\n",
    "        outfile = infile.replace('.pkl', '.loom').replace('cistopic_objects','cell_region_looms')\n",
    "    \n",
    "        if not os.path.exists(outfile):\n",
    "            cmd = f\"echo {sample} && cd {wdir} && singularity exec -B {mounts} {sif} python {script} -i {infile} -o {outfile}\"\n",
    "\n",
    "            print(cmd)\n",
    "            file.write(cmd + '\\n')\n",
    "            \n",
    "        else:\n",
    "            print(f'{outfile} already exists!')"
   ]
  },
  {
   "cell_type": "code",
   "execution_count": null,
   "id": "2a4613bf",
   "metadata": {
    "tags": []
   },
   "outputs": [
    {
     "data": {
      "application/javascript": [
       "\n",
       "            setTimeout(function() {\n",
       "                var nbb_cell_id = 78;\n",
       "                var nbb_unformatted_code = \"loom_out = 'cell_region_looms'\\nif not os.path.exists(os.path.join(loom_out)):\\n    os.makedirs(os.path.join(loom_out))\";\n",
       "                var nbb_formatted_code = \"loom_out = \\\"cell_region_looms\\\"\\nif not os.path.exists(os.path.join(loom_out)):\\n    os.makedirs(os.path.join(loom_out))\";\n",
       "                var nbb_cells = Jupyter.notebook.get_cells();\n",
       "                for (var i = 0; i < nbb_cells.length; ++i) {\n",
       "                    if (nbb_cells[i].input_prompt_number == nbb_cell_id) {\n",
       "                        if (nbb_cells[i].get_text() == nbb_unformatted_code) {\n",
       "                             nbb_cells[i].set_text(nbb_formatted_code);\n",
       "                        }\n",
       "                        break;\n",
       "                    }\n",
       "                }\n",
       "            }, 500);\n",
       "            "
      ],
      "text/plain": [
       "<IPython.core.display.Javascript object>"
      ]
     },
     "metadata": {},
     "output_type": "display_data"
    }
   ],
   "source": [
    "loom_out = 'cell_region_looms'\n",
    "if not os.path.exists(os.path.join(loom_out)):\n",
    "    os.makedirs(os.path.join(loom_out))"
   ]
  },
  {
   "cell_type": "code",
   "execution_count": 79,
   "id": "2619e53a",
   "metadata": {
    "tags": []
   },
   "outputs": [
    {
     "name": "stdout",
     "output_type": "stream",
     "text": [
      "cell_region_looms/BIO_ddseq_1.FIXEDCELLS__cto.scrublet0-4.fmx.singlets.loom already exists, skipping...\n",
      "cell_region_looms/BIO_ddseq_2.FIXEDCELLS__cto.scrublet0-4.fmx.singlets.loom already exists, skipping...\n",
      "cell_region_looms/BIO_ddseq_3.FIXEDCELLS__cto.scrublet0-4.fmx.singlets.loom already exists, skipping...\n",
      "cell_region_looms/BIO_ddseq_4.FIXEDCELLS__cto.scrublet0-4.fmx.singlets.loom already exists, skipping...\n",
      "cell_region_looms/BRO_mtscatac_1.FIXEDCELLS__cto.scrublet0-4.fmx.singlets.loom already exists, skipping...\n",
      "cell_region_looms/BRO_mtscatac_2.FIXEDCELLS__cto.scrublet0-4.fmx.singlets.loom already exists, skipping...\n",
      "cell_region_looms/CNA_10xmultiome_1.FIXEDCELLS__cto.scrublet0-4.fmx.singlets.loom already exists, skipping...\n",
      "cell_region_looms/CNA_10xmultiome_2.FIXEDCELLS__cto.scrublet0-4.fmx.singlets.loom already exists, skipping...\n",
      "cell_region_looms/CNA_10xv11_1.FIXEDCELLS__cto.scrublet0-4.fmx.singlets.loom already exists, skipping...\n",
      "cell_region_looms/CNA_10xv11_2.FIXEDCELLS__cto.scrublet0-4.fmx.singlets.loom already exists, skipping...\n",
      "cell_region_looms/CNA_10xv11_3.FIXEDCELLS__cto.scrublet0-4.fmx.singlets.loom already exists, skipping...\n",
      "cell_region_looms/CNA_10xv11_4.FIXEDCELLS__cto.scrublet0-4.fmx.singlets.loom already exists, skipping...\n",
      "cell_region_looms/CNA_10xv11_5.FIXEDCELLS__cto.scrublet0-4.fmx.singlets.loom already exists, skipping...\n",
      "cell_region_looms/CNA_10xv2_1.FIXEDCELLS__cto.scrublet0-4.fmx.singlets.loom already exists, skipping...\n",
      "cell_region_looms/CNA_10xv2_2.FIXEDCELLS__cto.scrublet0-4.fmx.singlets.loom already exists, skipping...\n",
      "cell_region_looms/CNA_hydrop_1.FIXEDCELLS__cto.scrublet0-4.fmx.singlets.loom already exists, skipping...\n",
      "cell_region_looms/CNA_hydrop_2.FIXEDCELLS__cto.scrublet0-4.fmx.singlets.loom already exists, skipping...\n",
      "cell_region_looms/CNA_hydrop_3.FIXEDCELLS__cto.scrublet0-4.fmx.singlets.loom already exists, skipping...\n",
      "cell_region_looms/CNA_mtscatac_1.FIXEDCELLS__cto.scrublet0-4.fmx.singlets.loom already exists, skipping...\n",
      "cell_region_looms/CNA_mtscatac_2.FIXEDCELLS__cto.scrublet0-4.fmx.singlets.loom already exists, skipping...\n",
      "cell_region_looms/EPF_hydrop_1.FIXEDCELLS__cto.scrublet0-4.fmx.singlets.loom already exists, skipping...\n",
      "cell_region_looms/EPF_hydrop_2.FIXEDCELLS__cto.scrublet0-4.fmx.singlets.loom already exists, skipping...\n",
      "cell_region_looms/EPF_hydrop_3.FIXEDCELLS__cto.scrublet0-4.fmx.singlets.loom already exists, skipping...\n",
      "cell_region_looms/EPF_hydrop_4.FIXEDCELLS__cto.scrublet0-4.fmx.singlets.loom already exists, skipping...\n",
      "cell_region_looms/HAR_ddseq_1.FIXEDCELLS__cto.scrublet0-4.fmx.singlets.loom already exists, skipping...\n",
      "cell_region_looms/HAR_ddseq_2.FIXEDCELLS__cto.scrublet0-4.fmx.singlets.loom already exists, skipping...\n",
      "cell_region_looms/MDC_mtscatac_1.FIXEDCELLS__cto.scrublet0-4.fmx.singlets.loom already exists, skipping...\n",
      "cell_region_looms/MDC_mtscatac_2.FIXEDCELLS__cto.scrublet0-4.fmx.singlets.loom already exists, skipping...\n",
      "cell_region_looms/OHS_s3atac_1.FIXEDCELLS__cto.scrublet0-4.fmx.singlets.loom already exists, skipping...\n",
      "cell_region_looms/OHS_s3atac_2.FIXEDCELLS__cto.scrublet0-4.fmx.singlets.loom already exists, skipping...\n",
      "cell_region_looms/SAN_10xmultiome_1.FIXEDCELLS__cto.scrublet0-4.fmx.singlets.loom already exists, skipping...\n",
      "cell_region_looms/SAN_10xmultiome_2.FIXEDCELLS__cto.scrublet0-4.fmx.singlets.loom already exists, skipping...\n",
      "cell_region_looms/STA_10xv11_1.FIXEDCELLS__cto.scrublet0-4.fmx.singlets.loom already exists, skipping...\n",
      "cell_region_looms/STA_10xv11_2.FIXEDCELLS__cto.scrublet0-4.fmx.singlets.loom already exists, skipping...\n",
      "cell_region_looms/TXG_10xv11_1.FIXEDCELLS__cto.scrublet0-4.fmx.singlets.loom already exists, skipping...\n",
      "cell_region_looms/TXG_10xv2_1.FIXEDCELLS__cto.scrublet0-4.fmx.singlets.loom already exists, skipping...\n",
      "cell_region_looms/TXG_10xv2_2.FIXEDCELLS__cto.scrublet0-4.fmx.singlets.loom already exists, skipping...\n",
      "Loaded filtered cistopic object cistopic_objects/UCS_ddseq_1.FIXEDCELLS__cto.scrublet0-4.fmx.singlets.pkl\n",
      "\tFinished cell_region_looms/UCS_ddseq_1.FIXEDCELLS__cto.scrublet0-4.fmx.singlets.loom loom writing\n",
      "Loaded filtered cistopic object cistopic_objects/UCS_ddseq_2.FIXEDCELLS__cto.scrublet0-4.fmx.singlets.pkl\n",
      "\tFinished cell_region_looms/UCS_ddseq_2.FIXEDCELLS__cto.scrublet0-4.fmx.singlets.loom loom writing\n",
      "cell_region_looms/VIB_10xmultiome_1.FIXEDCELLS__cto.scrublet0-4.fmx.singlets.loom already exists, skipping...\n",
      "cell_region_looms/VIB_10xmultiome_2.FIXEDCELLS__cto.scrublet0-4.fmx.singlets.loom already exists, skipping...\n",
      "cell_region_looms/VIB_10xv1_1.FIXEDCELLS__cto.scrublet0-4.fmx.singlets.loom already exists, skipping...\n",
      "cell_region_looms/VIB_10xv1_2.FIXEDCELLS__cto.scrublet0-4.fmx.singlets.loom already exists, skipping...\n",
      "cell_region_looms/VIB_10xv2_1.FIXEDCELLS__cto.scrublet0-4.fmx.singlets.loom already exists, skipping...\n",
      "cell_region_looms/VIB_10xv2_2.FIXEDCELLS__cto.scrublet0-4.fmx.singlets.loom already exists, skipping...\n",
      "cell_region_looms/VIB_hydrop_1.FIXEDCELLS__cto.scrublet0-4.fmx.singlets.loom already exists, skipping...\n",
      "cell_region_looms/VIB_hydrop_11.FIXEDCELLS__cto.scrublet0-4.fmx.singlets.loom already exists, skipping...\n",
      "cell_region_looms/VIB_hydrop_12.FIXEDCELLS__cto.scrublet0-4.fmx.singlets.loom already exists, skipping...\n",
      "cell_region_looms/VIB_hydrop_2.FIXEDCELLS__cto.scrublet0-4.fmx.singlets.loom already exists, skipping...\n",
      "cell_region_looms/VIB_hydrop_21.FIXEDCELLS__cto.scrublet0-4.fmx.singlets.loom already exists, skipping...\n",
      "cell_region_looms/VIB_hydrop_22.FIXEDCELLS__cto.scrublet0-4.fmx.singlets.loom already exists, skipping...\n"
     ]
    },
    {
     "data": {
      "application/javascript": [
       "\n",
       "            setTimeout(function() {\n",
       "                var nbb_cell_id = 79;\n",
       "                var nbb_unformatted_code = \"import loompy as lp\\ncto_path_sub_dict = {}\\nfor sample in singlet_cto_dict.keys():\\n    cto_path = singlet_cto_dict[sample]\\n    loom_path = os.path.join(loom_out, cto_path.split('/')[-1].replace('.pkl', '.loom'))\\n    if not os.path.exists(loom_path):\\n        with open(cto_path, 'rb') as f:\\n            cto = pickle.load(f)\\n\\n        print(f\\\"Loaded filtered cistopic object {cto_path}\\\")        \\n        lp.create(\\n            filename = loom_path,\\n            layers=cto.fragment_matrix,\\n            row_attrs={ 'Gene': cto.region_names }, \\n            col_attrs={ 'CellID': [ x.split('__')[0]  for x in cto.cell_names ] }\\n        )\\n        \\n        print(f\\\"\\\\tFinished {loom_path} loom writing\\\")\\n    else:\\n        print(f'{loom_path} already exists, skipping...')\";\n",
       "                var nbb_formatted_code = \"import loompy as lp\\n\\ncto_path_sub_dict = {}\\nfor sample in singlet_cto_dict.keys():\\n    cto_path = singlet_cto_dict[sample]\\n    loom_path = os.path.join(loom_out, cto_path.split(\\\"/\\\")[-1].replace(\\\".pkl\\\", \\\".loom\\\"))\\n    if not os.path.exists(loom_path):\\n        with open(cto_path, \\\"rb\\\") as f:\\n            cto = pickle.load(f)\\n\\n        print(f\\\"Loaded filtered cistopic object {cto_path}\\\")\\n        lp.create(\\n            filename=loom_path,\\n            layers=cto.fragment_matrix,\\n            row_attrs={\\\"Gene\\\": cto.region_names},\\n            col_attrs={\\\"CellID\\\": [x.split(\\\"__\\\")[0] for x in cto.cell_names]},\\n        )\\n\\n        print(f\\\"\\\\tFinished {loom_path} loom writing\\\")\\n    else:\\n        print(f\\\"{loom_path} already exists, skipping...\\\")\";\n",
       "                var nbb_cells = Jupyter.notebook.get_cells();\n",
       "                for (var i = 0; i < nbb_cells.length; ++i) {\n",
       "                    if (nbb_cells[i].input_prompt_number == nbb_cell_id) {\n",
       "                        if (nbb_cells[i].get_text() == nbb_unformatted_code) {\n",
       "                             nbb_cells[i].set_text(nbb_formatted_code);\n",
       "                        }\n",
       "                        break;\n",
       "                    }\n",
       "                }\n",
       "            }, 500);\n",
       "            "
      ],
      "text/plain": [
       "<IPython.core.display.Javascript object>"
      ]
     },
     "metadata": {},
     "output_type": "display_data"
    }
   ],
   "source": [
    "import loompy as lp\n",
    "cto_path_sub_dict = {}\n",
    "for sample in singlet_cto_dict.keys():\n",
    "    cto_path = singlet_cto_dict[sample]\n",
    "    loom_path = os.path.join(loom_out, cto_path.split('/')[-1].replace('.pkl', '.loom'))\n",
    "    if not os.path.exists(loom_path):\n",
    "        with open(cto_path, 'rb') as f:\n",
    "            cto = pickle.load(f)\n",
    "\n",
    "        print(f\"Loaded filtered cistopic object {cto_path}\")        \n",
    "        lp.create(\n",
    "            filename = loom_path,\n",
    "            layers=cto.fragment_matrix,\n",
    "            row_attrs={ 'Gene': cto.region_names }, \n",
    "            col_attrs={ 'CellID': [ x.split('__')[0]  for x in cto.cell_names ] }\n",
    "        )\n",
    "        \n",
    "        print(f\"\\tFinished {loom_path} loom writing\")\n",
    "    else:\n",
    "        print(f'{loom_path} already exists, skipping...')"
   ]
  },
  {
   "cell_type": "code",
   "execution_count": 80,
   "id": "f0424436",
   "metadata": {
    "papermill": {
     "duration": 0.024927,
     "end_time": "2022-08-28T01:28:08.815059",
     "exception": false,
     "start_time": "2022-08-28T01:28:08.790132",
     "status": "completed"
    },
    "tags": []
   },
   "outputs": [
    {
     "name": "stdout",
     "output_type": "stream",
     "text": [
      "import loompy as lp\n",
      "import pickle\n",
      "import os\n",
      "import argparse\n",
      "\n",
      "def make_argument_parser():\n",
      "    \"\"\"\n",
      "    Creates an ArgumentParser to read the options for this script from\n",
      "    sys.argv\n",
      "    \"\"\"\n",
      "    parser = argparse.ArgumentParser(\n",
      "        description=\"Write loom\",)\n",
      "    parser.add_argument('--input_cto', '-i', type=str, required=True,\n",
      "                        help='Path to cisTopic object pickle file.')\n",
      "\n",
      "    parser.add_argument('--output_loom', '-o', type=str, required=True,\n",
      "                    help='Path to out loom.')\n",
      "\n",
      "    return parser\n",
      "\n",
      "\n",
      "def main():\n",
      "    \"\"\"\n",
      "    The main executable function\n",
      "    \"\"\"\n",
      "\n",
      "    parser = make_argument_parser()\n",
      "    args = parser.parse_args()\n",
      "\n",
      "\n",
      "    cto_path = args.input_cto\n",
      "    print('input file:', cto_path)\n",
      "\n",
      "    loom_path = args.output_loom\n",
      "    print('output file:', loom_path)\n",
      "    \n",
      "    if not os.path.exists(loom_path):\n",
      "        with open(cto_path, 'rb') as f:\n",
      "            cto = pickle.load(f)\n",
      "\n",
      "        print(f\"Loaded filtered cistopic object {cto_path}\")\n",
      "        lp.create(\n",
      "            filename = loom_path,\n",
      "            layers=cto.fragment_matrix,\n",
      "            row_attrs={ 'Gene': cto.region_names },\n",
      "            col_attrs={ 'CellID': [ x.split('__')[0]  for x in cto.cell_names ] }\n",
      "        )\n",
      "\n",
      "        print(f\"\\tFinished {loom_path} loom writing\")\n",
      "        \n",
      "    else:\n",
      "        print(f'{loom_path} already exists, skipping...')\n",
      "\n",
      "\n",
      "if __name__ == \"__main__\":\n",
      "    main()"
     ]
    },
    {
     "data": {
      "application/javascript": [
       "\n",
       "            setTimeout(function() {\n",
       "                var nbb_cell_id = 80;\n",
       "                var nbb_unformatted_code = \"!cat ../0_resources/scripts/create_loom.py\";\n",
       "                var nbb_formatted_code = \"!cat ../0_resources/scripts/create_loom.py\";\n",
       "                var nbb_cells = Jupyter.notebook.get_cells();\n",
       "                for (var i = 0; i < nbb_cells.length; ++i) {\n",
       "                    if (nbb_cells[i].input_prompt_number == nbb_cell_id) {\n",
       "                        if (nbb_cells[i].get_text() == nbb_unformatted_code) {\n",
       "                             nbb_cells[i].set_text(nbb_formatted_code);\n",
       "                        }\n",
       "                        break;\n",
       "                    }\n",
       "                }\n",
       "            }, 500);\n",
       "            "
      ],
      "text/plain": [
       "<IPython.core.display.Javascript object>"
      ]
     },
     "metadata": {},
     "output_type": "display_data"
    }
   ],
   "source": [
    "!cat ../0_resources/scripts/create_loom.py"
   ]
  },
  {
   "cell_type": "markdown",
   "id": "99258149",
   "metadata": {
    "papermill": {
     "duration": 0.025674,
     "end_time": "2022-08-28T01:28:08.866105",
     "exception": false,
     "start_time": "2022-08-28T01:28:08.840431",
     "status": "completed"
    },
    "tags": []
   },
   "source": []
  },
  {
   "cell_type": "code",
   "execution_count": null,
   "id": "6a96af23-c011-4670-b2e1-721bb824bca0",
   "metadata": {},
   "outputs": [],
   "source": []
  }
 ],
 "metadata": {
  "kernelspec": {
   "display_name": "20220815_pycistopic.sif",
   "language": "python",
   "name": "pycistopic_20220815"
  },
  "language_info": {
   "codemirror_mode": {
    "name": "ipython",
    "version": 3
   },
   "file_extension": ".py",
   "mimetype": "text/x-python",
   "name": "python",
   "nbconvert_exporter": "python",
   "pygments_lexer": "ipython3",
   "version": "3.8.13"
  },
  "papermill": {
   "default_parameters": {},
   "duration": 12777.728719,
   "end_time": "2022-08-28T01:28:12.669699",
   "environment_variables": {},
   "exception": null,
   "input_path": "4a_create_CTO_screen.ipynb",
   "output_path": "4a_create_CTO_screen.OUT.ipynb",
   "parameters": {},
   "start_time": "2022-08-27T21:55:14.940980",
   "version": "2.3.4"
  }
 },
 "nbformat": 4,
 "nbformat_minor": 5
}

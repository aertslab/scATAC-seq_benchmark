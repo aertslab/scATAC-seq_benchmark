{
 "cells": [
  {
   "cell_type": "markdown",
   "id": "2716a1ed-40a1-4980-a7d0-be98a41bf511",
   "metadata": {
    "execution": {
     "iopub.execute_input": "2022-06-14T11:53:52.692256Z",
     "iopub.status.busy": "2022-06-14T11:53:52.691795Z",
     "iopub.status.idle": "2022-06-14T11:53:53.439919Z"
    }
   },
   "source": [
    "# Download public mouse cortex data\n",
    "Let's download some public data."
   ]
  },
  {
   "cell_type": "markdown",
   "id": "3c464377-745b-44c8-b601-f7ae3791edb3",
   "metadata": {},
   "source": [
    "```\n",
    "HyDrop: flash-frozen mouse cortex\n",
    "S3-atac: Mouse whole brain\n",
    "10x v2: Fresh 8k mouse cortex cells, both on chromium as chromium X\n",
    "10x v1.1: Fresh 8k mouse cortex on chromium X\n",
    "10x v1.0: mouse cortex, both flash frozen and fresh\n",
    "10x multiome: fresh embryonic mouse brain\n",
    "Biorad: mouse whole brain (from Lareau paper)\n",
    "```"
   ]
  },
  {
   "cell_type": "code",
   "execution_count": null,
   "id": "6f40a181-8afa-4865-885e-1eb4554ba9d9",
   "metadata": {
    "execution": {
     "iopub.execute_input": "2022-06-14T11:57:03.522257Z",
     "iopub.status.busy": "2022-06-14T11:57:03.521928Z"
    },
    "tags": []
   },
   "outputs": [
    {
     "name": "stdout",
     "output_type": "stream",
     "text": [
      "bash: cd: fastq_publicdata: No such file or directory\n",
      "  % Total    % Received % Xferd  Average Speed   Time    Time     Time  Current\n",
      "                                 Dload  Upload   Total   Spent    Left  Speed\n"
     ]
    }
   ],
   "source": [
    "# 10x genomics v1.0 on chromium controller https://www.10xgenomics.com/resources/datasets/fresh-cortex-from-adult-mouse-brain-p-50-1-standard-1-2-0\n",
    "cd publicdata); curl -O https://s3-us-west-2.amazonaws.com/10x.files/samples/cell-atac/1.2.0/atac_v1_adult_brain_fresh_5k/atac_v1_adult_brain_fresh_5k_fastqs.tar; cd .."
   ]
  },
  {
   "cell_type": "code",
   "execution_count": 1,
   "id": "17a99404-396c-4e6e-94ec-a3cfbe24d2ec",
   "metadata": {
    "execution": {
     "iopub.execute_input": "2022-06-14T12:19:39.280574Z",
     "iopub.status.busy": "2022-06-14T12:19:39.280264Z",
     "iopub.status.idle": "2022-06-14T13:00:15.219331Z",
     "shell.execute_reply": "2022-06-14T13:00:15.217654Z",
     "shell.execute_reply.started": "2022-06-14T12:19:39.280534Z"
    }
   },
   "outputs": [
    {
     "name": "stdout",
     "output_type": "stream",
     "text": [
      "--2022-06-14 14:19:40--  https://s3-us-west-2.amazonaws.com/10x.files/samples/cell-atac/2.1.0/8k_mouse_cortex_ATACv2_nextgem_Chromium_X/8k_mouse_cortex_ATACv2_nextgem_Chromium_X_fastqs.tar\n",
      "Resolving s3-us-west-2.amazonaws.com (s3-us-west-2.amazonaws.com)... 52.218.241.96\n",
      "Connecting to s3-us-west-2.amazonaws.com (s3-us-west-2.amazonaws.com)|52.218.241.96|:443... connected.\n",
      "HTTP request sent, awaiting response... 200 OK\n",
      "Length: 39832268800 (37G) [application/x-tar]\n",
      "Saving to: ‘fastq_publicdata/8k_mouse_cortex_ATACv2_nextgem_Chromium_X_fastqs.tar’\n",
      "\n",
      "8k_mouse_cortex_ATA 100%[===================>]  37.10G  17.8MB/s    in 40m 34s \n",
      "\n",
      "2022-06-14 15:00:14 (15.6 MB/s) - ‘fastq_publicdata/8k_mouse_cortex_ATACv2_nextgem_Chromium_X_fastqs.tar’ saved [39832268800/39832268800]\n",
      "\n"
     ]
    }
   ],
   "source": [
    "# 10x genomics v2.o on chromium X controller\n",
    "wget -P publicdata_fastq https://s3-us-west-2.amazonaws.com/10x.files/samples/cell-atac/2.1.0/8k_mouse_cortex_ATACv2_nextgem_Chromium_X/8k_mouse_cortex_ATACv2_nextgem_Chromium_X_fastqs.tar"
   ]
  },
  {
   "cell_type": "code",
   "execution_count": 14,
   "id": "d05cd68b-d3e3-4821-af72-6f0e41e10fd8",
   "metadata": {
    "execution": {
     "iopub.execute_input": "2022-06-14T13:18:16.907049Z",
     "iopub.status.busy": "2022-06-14T13:18:16.906733Z",
     "iopub.status.idle": "2022-06-14T13:18:17.067918Z",
     "shell.execute_reply": "2022-06-14T13:18:17.065303Z",
     "shell.execute_reply.started": "2022-06-14T13:18:16.907013Z"
    },
    "tags": []
   },
   "outputs": [
    {
     "name": "stdout",
     "output_type": "stream",
     "text": [
      "[1] 41401\n"
     ]
    }
   ],
   "source": [
    "# 10x genomics v2.0 on chromium controller\n",
    "wget -qO - publicdata_fastq https://s3-us-west-2.amazonaws.com/10x.files/samples/cell-atac/2.1.0/8k_mouse_cortex_ATACv2_nextgem_Chromium_Controller/8k_mouse_cortex_ATACv2_nextgem_Chromium_Controller_fastqs.tar | tar xv -C publicdata_fastq &"
   ]
  },
  {
   "cell_type": "code",
   "execution_count": 16,
   "id": "8c059d46-0c7b-4f95-9ee4-f69094b86a24",
   "metadata": {
    "execution": {
     "iopub.execute_input": "2022-06-14T13:18:24.737886Z",
     "iopub.status.busy": "2022-06-14T13:18:24.737581Z",
     "iopub.status.idle": "2022-06-14T13:18:24.897601Z",
     "shell.execute_reply": "2022-06-14T13:18:24.895862Z",
     "shell.execute_reply.started": "2022-06-14T13:18:24.737850Z"
    },
    "tags": []
   },
   "outputs": [
    {
     "name": "stdout",
     "output_type": "stream",
     "text": [
      "[2] 41548\n"
     ]
    }
   ],
   "source": [
    "# 10x genomics v1.1 on chromium X\n",
    "wget -qO- https://s3-us-west-2.amazonaws.com/10x.files/samples/cell-atac/2.1.0/8k_mouse_cortex_ATACv1p1_nextgem_Chromium_X/8k_mouse_cortex_ATACv1p1_nextgem_Chromium_X_fastqs.tar | tar xv -C publicdata_fastq &"
   ]
  },
  {
   "cell_type": "code",
   "execution_count": 21,
   "id": "0af70d1e-6c76-4a9e-ace4-24dd1a6cb676",
   "metadata": {
    "execution": {
     "iopub.execute_input": "2022-06-14T13:20:31.707883Z",
     "iopub.status.busy": "2022-06-14T13:20:31.707438Z",
     "iopub.status.idle": "2022-06-14T13:20:31.866924Z",
     "shell.execute_reply": "2022-06-14T13:20:31.865211Z",
     "shell.execute_reply.started": "2022-06-14T13:20:31.707724Z"
    },
    "tags": []
   },
   "outputs": [
    {
     "name": "stdout",
     "output_type": "stream",
     "text": [
      "[3] 45097\n"
     ]
    }
   ],
   "source": [
    "url=https://s3-us-west-2.amazonaws.com/10x.files/samples/cell-arc/1.0.0/e18_mouse_brain_fresh_5k/e18_mouse_brain_fresh_5k_fastqs.tar\n",
    "wget -qO- $url | tar xv -C publicdata_fastq &"
   ]
  },
  {
   "cell_type": "code",
   "execution_count": 26,
   "id": "0f418439-18a0-49aa-93bb-84afc8137423",
   "metadata": {
    "execution": {
     "iopub.execute_input": "2022-06-14T13:30:18.879824Z",
     "iopub.status.busy": "2022-06-14T13:30:18.879408Z",
     "iopub.status.idle": "2022-06-14T13:38:13.934852Z",
     "shell.execute_reply": "2022-06-14T13:38:13.932106Z",
     "shell.execute_reply.started": "2022-06-14T13:30:18.879691Z"
    },
    "tags": []
   },
   "outputs": [
    {
     "name": "stdout",
     "output_type": "stream",
     "text": [
      "8k_mouse_cortex_ATACv1-1_nextgem_Chromium_X_fastqs/8k_mouse_cortex_ATACv1-1_nextgem_Chromium_X_S4_L004_R3_001.fastq.gz\n",
      "8k_mouse_cortex_ATACv2_nextgem_Chromium_Controller_fastqs/8k_mouse_cortex_ATACv2_nextgem_Chromium_Controller_S6_L004_R2_001.fastq.gz\n",
      "--2022-06-14 15:30:19--  https://cf.10xgenomics.com/samples/cell-atac/2.1.0/8k_mouse_cortex_ATACv2_nextgem_Chromium_Controller/8k_mouse_cortex_ATACv2_nextgem_Chromium_Controller_fragments.tsv.gz\n",
      "Resolving cf.10xgenomics.com (cf.10xgenomics.com)... 104.18.0.173, 104.18.1.173, 2606:4700::6812:ad, ...\n",
      "Connecting to cf.10xgenomics.com (cf.10xgenomics.com)|104.18.0.173|:443... connected.\n",
      "HTTP request sent, awaiting response... 200 OK\n",
      "Length: 2294110014 (2.1G) [text/tab-separated-values]\n",
      "Saving to: ‘fragments_publicdata/8k_mouse_cortex_ATACv2_nextgem_Chromium_Controller_fragments.tsv.gz’\n",
      "\n",
      "e_cortex_ATACv2_nex  17%[==>                 ] 372.07M  19.3MB/s    eta 2m 0s  8k_mouse_cortex_ATACv1-1_nextgem_Chromium_X_fastqs/8k_mouse_cortex_ATACv1-1_nextgem_Chromium_X_S4_L004_R1_001.fastq.gz\n",
      "_Controller_fragmen  23%[===>                ] 522.41M  16.0MB/s    eta 1m 40s 8k_mouse_cortex_ATACv2_nextgem_Chromium_Controller_fastqs/8k_mouse_cortex_ATACv2_nextgem_Chromium_Controller_S6_L004_R1_001.fastq.gz\n",
      "8k_mouse_cortex_ATA 100%[===================>]   2.14G   168MB/s    in 1m 52s  \n",
      "\n",
      "2022-06-14 15:32:12 (19.5 MB/s) - ‘fragments_publicdata/8k_mouse_cortex_ATACv2_nextgem_Chromium_Controller_fragments.tsv.gz’ saved [2294110014/2294110014]\n",
      "\n",
      "--2022-06-14 15:32:12--  https://cf.10xgenomics.com/samples/cell-atac/2.1.0/8k_mouse_cortex_ATACv2_nextgem_Chromium_Controller/8k_mouse_cortex_ATACv2_nextgem_Chromium_Controller_fragments.tsv.gz.tbi\n",
      "Resolving cf.10xgenomics.com (cf.10xgenomics.com)... 104.18.1.173, 104.18.0.173, 2606:4700::6812:1ad, ...\n",
      "Connecting to cf.10xgenomics.com (cf.10xgenomics.com)|104.18.1.173|:443... connected.\n",
      "HTTP request sent, awaiting response... 200 OK\n",
      "Length: 1033570 (1009K) [binary/octet-stream]\n",
      "Saving to: ‘fragments_publicdata/8k_mouse_cortex_ATACv2_nextgem_Chromium_Controller_fragments.tsv.gz.tbi’\n",
      "\n",
      "8k_mouse_cortex_ATA 100%[===================>]   1009K  1.46MB/s    in 0.7s    \n",
      "\n",
      "2022-06-14 15:32:14 (1.46 MB/s) - ‘fragments_publicdata/8k_mouse_cortex_ATACv2_nextgem_Chromium_Controller_fragments.tsv.gz.tbi’ saved [1033570/1033570]\n",
      "\n",
      "--2022-06-14 15:32:14--  https://cf.10xgenomics.com/samples/cell-atac/2.1.0/8k_mouse_cortex_ATACv2_nextgem_Chromium_X/8k_mouse_cortex_ATACv2_nextgem_Chromium_X_fragments.tsv.gz\n",
      "Resolving cf.10xgenomics.com (cf.10xgenomics.com)... 104.18.1.173, 104.18.0.173, 2606:4700::6812:1ad, ...\n",
      "Connecting to cf.10xgenomics.com (cf.10xgenomics.com)|104.18.1.173|:443... connected.\n",
      "HTTP request sent, awaiting response... 200 OK\n",
      "Length: 2302490356 (2.1G) [text/tab-separated-values]\n",
      "Saving to: ‘fragments_publicdata/8k_mouse_cortex_ATACv2_nextgem_Chromium_X_fragments.tsv.gz’\n",
      "\n",
      "8k_mouse_cortex_ATA 100%[===================>]   2.14G  91.1MB/s    in 1m 42s  \n",
      "\n",
      "2022-06-14 15:33:57 (21.5 MB/s) - ‘fragments_publicdata/8k_mouse_cortex_ATACv2_nextgem_Chromium_X_fragments.tsv.gz’ saved [2302490356/2302490356]\n",
      "\n",
      "--2022-06-14 15:33:57--  https://cf.10xgenomics.com/samples/cell-atac/2.1.0/8k_mouse_cortex_ATACv2_nextgem_Chromium_X/8k_mouse_cortex_ATACv2_nextgem_Chromium_X_fragments.tsv.gz.tbi\n",
      "Resolving cf.10xgenomics.com (cf.10xgenomics.com)... 104.18.1.173, 104.18.0.173, 2606:4700::6812:1ad, ...\n",
      "Connecting to cf.10xgenomics.com (cf.10xgenomics.com)|104.18.1.173|:443... connected.\n",
      "HTTP request sent, awaiting response... 200 OK\n",
      "Length: 1036923 (1013K) [binary/octet-stream]\n",
      "Saving to: ‘fragments_publicdata/8k_mouse_cortex_ATACv2_nextgem_Chromium_X_fragments.tsv.gz.tbi’\n",
      "\n",
      "8k_mouse_cortex_ATA 100%[===================>]   1013K  1.53MB/s    in 0.6s    \n",
      "\n",
      "2022-06-14 15:33:58 (1.53 MB/s) - ‘fragments_publicdata/8k_mouse_cortex_ATACv2_nextgem_Chromium_X_fragments.tsv.gz.tbi’ saved [1036923/1036923]\n",
      "\n",
      "--2022-06-14 15:33:58--  https://cf.10xgenomics.com/samples/cell-atac/2.1.0/8k_mouse_cortex_ATACv1p1_nextgem_Chromium_X/8k_mouse_cortex_ATACv1p1_nextgem_Chromium_X_fragments.tsv.gz\n",
      "Resolving cf.10xgenomics.com (cf.10xgenomics.com)... 104.18.1.173, 104.18.0.173, 2606:4700::6812:1ad, ...\n",
      "Connecting to cf.10xgenomics.com (cf.10xgenomics.com)|104.18.1.173|:443... connected.\n",
      "HTTP request sent, awaiting response... 200 OK\n",
      "Length: 2414703310 (2.2G) [text/tab-separated-values]\n",
      "Saving to: ‘fragments_publicdata/8k_mouse_cortex_ATACv1p1_nextgem_Chromium_X_fragments.tsv.gz’\n",
      "\n",
      "nextgem_Chromium_X_  38%[======>             ] 877.63M  9.13MB/s    eta 1m 49s e18_mouse_brain_fresh_5k/gex/e18_mouse_brain_fresh_5k_S1_L002_I2_001.fastq.gz\n",
      "8k_mouse_cortex_ATA 100%[===================>]   2.25G  90.1MB/s    in 1m 57s  \n",
      "\n",
      "2022-06-14 15:35:56 (19.7 MB/s) - ‘fragments_publicdata/8k_mouse_cortex_ATACv1p1_nextgem_Chromium_X_fragments.tsv.gz’ saved [2414703310/2414703310]\n",
      "\n",
      "--2022-06-14 15:35:57--  https://cf.10xgenomics.com/samples/cell-atac/2.1.0/8k_mouse_cortex_ATACv1p1_nextgem_Chromium_X/8k_mouse_cortex_ATACv1p1_nextgem_Chromium_X_fragments.tsv.gz.tbi\n",
      "Resolving cf.10xgenomics.com (cf.10xgenomics.com)... 104.18.0.173, 104.18.1.173, 2606:4700::6812:ad, ...\n",
      "Connecting to cf.10xgenomics.com (cf.10xgenomics.com)|104.18.0.173|:443... connected.\n",
      "HTTP request sent, awaiting response... 200 OK\n",
      "Length: 1075858 (1.0M) [binary/octet-stream]\n",
      "Saving to: ‘fragments_publicdata/8k_mouse_cortex_ATACv1p1_nextgem_Chromium_X_fragments.tsv.gz.tbi’\n",
      "\n",
      "8k_mouse_cortex_ATA 100%[===================>]   1.03M  1.52MB/s    in 0.7s    \n",
      "\n",
      "2022-06-14 15:35:58 (1.52 MB/s) - ‘fragments_publicdata/8k_mouse_cortex_ATACv1p1_nextgem_Chromium_X_fragments.tsv.gz.tbi’ saved [1075858/1075858]\n",
      "\n",
      "--2022-06-14 15:35:58--  https://cf.10xgenomics.com/samples/cell-atac/1.2.0/atac_v1_adult_brain_fresh_5k/atac_v1_adult_brain_fresh_5k_fragments.tsv.gz\n",
      "Resolving cf.10xgenomics.com (cf.10xgenomics.com)... 104.18.1.173, 104.18.0.173, 2606:4700::6812:1ad, ...\n",
      "Connecting to cf.10xgenomics.com (cf.10xgenomics.com)|104.18.1.173|:443... connected.\n",
      "HTTP request sent, awaiting response... 200 OK\n",
      "Length: 1048625268 (1000M) [text/tab-separated-values]\n",
      "Saving to: ‘fragments_publicdata/atac_v1_adult_brain_fresh_5k_fragments.tsv.gz’\n",
      "\n",
      "         atac_v1_ad  52%[=========>          ] 527.84M  14.8MB/s    eta 38s    e18_mouse_brain_fresh_5k/gex/e18_mouse_brain_fresh_5k_S1_L001_R1_001.fastq.gz\n",
      "atac_v1_adult_brain 100%[===================>]   1000M  67.9MB/s    in 66s     \n",
      "\n",
      "2022-06-14 15:37:05 (15.2 MB/s) - ‘fragments_publicdata/atac_v1_adult_brain_fresh_5k_fragments.tsv.gz’ saved [1048625268/1048625268]\n",
      "\n",
      "--2022-06-14 15:37:05--  https://cf.10xgenomics.com/samples/cell-atac/1.2.0/atac_v1_adult_brain_fresh_5k/atac_v1_adult_brain_fresh_5k_fragments.tsv.gz.tbi\n",
      "Resolving cf.10xgenomics.com (cf.10xgenomics.com)... 104.18.1.173, 104.18.0.173, 2606:4700::6812:1ad, ...\n",
      "Connecting to cf.10xgenomics.com (cf.10xgenomics.com)|104.18.1.173|:443... connected.\n",
      "HTTP request sent, awaiting response... 200 OK\n",
      "Length: 718719 (702K) [binary/octet-stream]\n",
      "Saving to: ‘fragments_publicdata/atac_v1_adult_brain_fresh_5k_fragments.tsv.gz.tbi’\n",
      "\n",
      "atac_v1_adult_brain 100%[===================>] 701.87K  1.07MB/s    in 0.6s    \n",
      "\n",
      "2022-06-14 15:37:07 (1.07 MB/s) - ‘fragments_publicdata/atac_v1_adult_brain_fresh_5k_fragments.tsv.gz.tbi’ saved [718719/718719]\n",
      "\n",
      "--2022-06-14 15:37:07--  https://cf.10xgenomics.com/samples/cell-arc/2.0.0/e18_mouse_brain_fresh_5k/e18_mouse_brain_fresh_5k_atac_fragments.tsv.gz\n",
      "Resolving cf.10xgenomics.com (cf.10xgenomics.com)... 104.18.1.173, 104.18.0.173, 2606:4700::6812:1ad, ...\n",
      "Connecting to cf.10xgenomics.com (cf.10xgenomics.com)|104.18.1.173|:443... connected.\n",
      "HTTP request sent, awaiting response... 200 OK\n",
      "Length: 1092778283 (1.0G) [text/tab-separated-values]\n",
      "Saving to: ‘fragments_publicdata/e18_mouse_brain_fresh_5k_atac_fragments.tsv.gz’\n",
      "\n",
      "fresh_5k_atac_fragm   7%[>                   ]  78.88M  16.3MB/s    eta 84s    8k_mouse_cortex_ATACv1-1_nextgem_Chromium_X_fastqs/8k_mouse_cortex_ATACv1-1_nextgem_Chromium_X_S4_L003_R2_001.fastq.gz\n",
      "_fragments.tsv.gz    10%[=>                  ] 113.95M  12.4MB/s    eta 78s    8k_mouse_cortex_ATACv2_nextgem_Chromium_Controller_fastqs/8k_mouse_cortex_ATACv2_nextgem_Chromium_Controller_S6_L003_R3_001.fastq.gz\n",
      "e18_mouse_brain_fre 100%[===================>]   1.02G  90.5MB/s    in 64s     \n",
      "\n",
      "2022-06-14 15:38:12 (16.3 MB/s) - ‘fragments_publicdata/e18_mouse_brain_fresh_5k_atac_fragments.tsv.gz’ saved [1092778283/1092778283]\n",
      "\n",
      "--2022-06-14 15:38:12--  https://cf.10xgenomics.com/samples/cell-arc/2.0.0/e18_mouse_brain_fresh_5k/e18_mouse_brain_fresh_5k_atac_fragments.tsv.gz.tbi\n",
      "Resolving cf.10xgenomics.com (cf.10xgenomics.com)... 104.18.1.173, 104.18.0.173, 2606:4700::6812:1ad, ...\n",
      "Connecting to cf.10xgenomics.com (cf.10xgenomics.com)|104.18.1.173|:443... connected.\n",
      "HTTP request sent, awaiting response... 200 OK\n",
      "Length: 744003 (727K) [binary/octet-stream]\n",
      "Saving to: ‘fragments_publicdata/e18_mouse_brain_fresh_5k_atac_fragments.tsv.gz.tbi’\n",
      "\n",
      "e18_mouse_brain_fre 100%[===================>] 726.57K  1.07MB/s    in 0.7s    \n",
      "\n",
      "2022-06-14 15:38:13 (1.07 MB/s) - ‘fragments_publicdata/e18_mouse_brain_fresh_5k_atac_fragments.tsv.gz.tbi’ saved [744003/744003]\n",
      "\n"
     ]
    }
   ],
   "source": [
    "wget -P publicdata_fragments https://cf.10xgenomics.com/samples/cell-atac/2.1.0/8k_mouse_cortex_ATACv2_nextgem_Chromium_Controller/8k_mouse_cortex_ATACv2_nextgem_Chromium_Controller_fragments.tsv.gz\n",
    "wget -P publicdata_fragments https://cf.10xgenomics.com/samples/cell-atac/2.1.0/8k_mouse_cortex_ATACv2_nextgem_Chromium_Controller/8k_mouse_cortex_ATACv2_nextgem_Chromium_Controller_fragments.tsv.gz.tbi\n",
    "wget -P publicdata_fragments https://cf.10xgenomics.com/samples/cell-atac/2.1.0/8k_mouse_cortex_ATACv2_nextgem_Chromium_X/8k_mouse_cortex_ATACv2_nextgem_Chromium_X_fragments.tsv.gz\n",
    "wget -P publicdata_fragments https://cf.10xgenomics.com/samples/cell-atac/2.1.0/8k_mouse_cortex_ATACv2_nextgem_Chromium_X/8k_mouse_cortex_ATACv2_nextgem_Chromium_X_fragments.tsv.gz.tbi\n",
    "wget -P publicdata_fragments https://cf.10xgenomics.com/samples/cell-atac/2.1.0/8k_mouse_cortex_ATACv1p1_nextgem_Chromium_X/8k_mouse_cortex_ATACv1p1_nextgem_Chromium_X_fragments.tsv.gz\n",
    "wget -P publicdata_fragments https://cf.10xgenomics.com/samples/cell-atac/2.1.0/8k_mouse_cortex_ATACv1p1_nextgem_Chromium_X/8k_mouse_cortex_ATACv1p1_nextgem_Chromium_X_fragments.tsv.gz.tbi\n",
    "wget -P publicdata_fragments https://cf.10xgenomics.com/samples/cell-atac/1.2.0/atac_v1_adult_brain_fresh_5k/atac_v1_adult_brain_fresh_5k_fragments.tsv.gz\n",
    "wget -P publicdata_fragments https://cf.10xgenomics.com/samples/cell-atac/1.2.0/atac_v1_adult_brain_fresh_5k/atac_v1_adult_brain_fresh_5k_fragments.tsv.gz.tbi\n",
    "wget -P publicdata_fragments https://cf.10xgenomics.com/samples/cell-arc/2.0.0/e18_mouse_brain_fresh_5k/e18_mouse_brain_fresh_5k_atac_fragments.tsv.gz\n",
    "wget -P publicdata_fragments https://cf.10xgenomics.com/samples/cell-arc/2.0.0/e18_mouse_brain_fresh_5k/e18_mouse_brain_fresh_5k_atac_fragments.tsv.gz.tbi"
   ]
  },
  {
   "cell_type": "code",
   "execution_count": null,
   "id": "15a8a671-ac0a-4bc6-85bc-bc0831514d38",
   "metadata": {
    "execution": {
     "iopub.execute_input": "2022-06-14T13:47:08.451068Z",
     "iopub.status.busy": "2022-06-14T13:47:08.450664Z"
    },
    "tags": []
   },
   "outputs": [
    {
     "name": "stdout",
     "output_type": "stream",
     "text": [
      "8k_mouse_cortex_ATACv1-1_nextgem_Chromium_X_fastqs/8k_mouse_cortex_ATACv1-1_nextgem_Chromium_X_S4_L003_R1_001.fastq.gz\n",
      "--2022-06-14 15:47:08--  https://cf.10xgenomics.com/samples/cell-atac/2.1.0/8k_mouse_cortex_ATACv2_nextgem_Chromium_Controller/8k_mouse_cortex_ATACv2_nextgem_Chromium_Controller_possorted_bam.bam\n",
      "Resolving cf.10xgenomics.com (cf.10xgenomics.com)... 104.18.0.173, 104.18.1.173, 2606:4700::6812:ad, ...\n",
      "Connecting to cf.10xgenomics.com (cf.10xgenomics.com)|104.18.0.173|:443... connected.\n",
      "HTTP request sent, awaiting response... 200 OK\n",
      "Length: 41073140061 (38G) [binary/octet-stream]\n",
      "Saving to: ‘bam_publicdata/8k_mouse_cortex_ATACv2_nextgem_Chromium_Controller_possorted_bam.bam’\n",
      "\n",
      "ATACv2_nextgem_Chro   1%[                    ] 563.76M  13.2MB/s    eta 33m 9s 8k_mouse_cortex_ATACv2_nextgem_Chromium_Controller_fastqs/8k_mouse_cortex_ATACv2_nextgem_Chromium_Controller_S6_L003_R1_001.fastq.gz\n",
      "mouse_cortex_ATACv2   2%[                    ] 787.52M  13.6MB/s    eta 36m 55se18_mouse_brain_fresh_5k/gex/e18_mouse_brain_fresh_5k_S1_L001_I1_001.fastq.gz\n",
      "8k_mouse_cortex_ATA   6%[>                   ]   2.56G  15.0MB/s    eta 30m 19se18_mouse_brain_fresh_5k/gex/e18_mouse_brain_fresh_5k_S1_L002_R2_001.fastq.gz\n",
      "d_bam.bam            20%[===>                ]   7.66G  19.4MB/s    eta 25m 55s8k_mouse_cortex_ATACv1-1_nextgem_Chromium_X_fastqs/8k_mouse_cortex_ATACv1-1_nextgem_Chromium_X_S4_L003_I1_001.fastq.gz\n",
      "              8k_mo  20%[===>                ]   7.94G  11.4MB/s    eta 26m 10s8k_mouse_cortex_ATACv2_nextgem_Chromium_Controller_fastqs/8k_mouse_cortex_ATACv2_nextgem_Chromium_Controller_S6_L003_I1_001.fastq.gz\n",
      "r_possorted_bam.bam  41%[=======>            ]  15.72G  25.7MB/s    eta 19m 24se18_mouse_brain_fresh_5k/atac/\n",
      "e18_mouse_brain_fresh_5k/atac/e18_mouse_brain_fresh_5k_S1_L002_R1_001.fastq.gz\n",
      "extgem_Chromium_Con  49%[========>           ]  19.00G  21.3MB/s    eta 16m 26se18_mouse_brain_fresh_5k/atac/e18_mouse_brain_fresh_5k_S1_L002_R3_001.fastq.gz\n",
      "troller_possorted_b  59%[==========>         ]  22.82G  20.9MB/s    eta 12m 52se18_mouse_brain_fresh_5k/atac/e18_mouse_brain_fresh_5k_S1_L001_I1_001.fastq.gz\n",
      "cortex_ATACv2_nextg  61%[===========>        ]  23.60G  12.6MB/s    eta 12m 10se18_mouse_brain_fresh_5k/atac/e18_mouse_brain_fresh_5k_S1_L002_R2_001.fastq.gz\n",
      "xtgem_Chromium_Cont  66%[============>       ]  25.39G  21.5MB/s    eta 10m 40se18_mouse_brain_fresh_5k/atac/e18_mouse_brain_fresh_5k_S1_L001_R3_001.fastq.gz\n",
      "se_cortex_ATACv2_ne  74%[=============>      ]  28.63G  14.1MB/s    eta 7m 58s e18_mouse_brain_fresh_5k/atac/e18_mouse_brain_fresh_5k_S1_L002_I1_001.fastq.gz\n",
      "         8k_mouse_c  76%[==============>     ]  29.32G  14.7MB/s    eta 7m 24s e18_mouse_brain_fresh_5k/atac/e18_mouse_brain_fresh_5k_S1_L001_R2_001.fastq.gz\n",
      "Chromium_Controller  80%[===============>    ]  30.88G  14.1MB/s    eta 6m 9s  e18_mouse_brain_fresh_5k/atac/e18_mouse_brain_fresh_5k_S1_L001_R1_001.fastq.gz\n",
      "8k_mouse_cortex_ATA 100%[===================>]  38.25G  19.5MB/s    in 32m 15s \n",
      "\n",
      "2022-06-14 16:19:24 (20.2 MB/s) - ‘bam_publicdata/8k_mouse_cortex_ATACv2_nextgem_Chromium_Controller_possorted_bam.bam’ saved [41073140061/41073140061]\n",
      "\n",
      "[1]   Done                    wget -qO - fastq_publicdata https://s3-us-west-2.amazonaws.com/10x.files/samples/cell-atac/2.1.0/8k_mouse_cortex_ATACv2_nextgem_Chromium_Controller/8k_mouse_cortex_ATACv2_nextgem_Chromium_Controller_fastqs.tar | tar xv -C fastq_publicdata\n",
      "[2]-  Done                    wget -qO- https://s3-us-west-2.amazonaws.com/10x.files/samples/cell-atac/2.1.0/8k_mouse_cortex_ATACv1p1_nextgem_Chromium_X/8k_mouse_cortex_ATACv1p1_nextgem_Chromium_X_fastqs.tar | tar xv -C fastq_publicdata\n",
      "[3]+  Done                    wget -qO- $url | tar xv -C fastq_publicdata\n",
      "--2022-06-14 16:19:24--  https://cf.10xgenomics.com/samples/cell-atac/2.1.0/8k_mouse_cortex_ATACv2_nextgem_Chromium_Controller/8k_mouse_cortex_ATACv2_nextgem_Chromium_Controller_possorted_bam.bai\n",
      "Resolving cf.10xgenomics.com (cf.10xgenomics.com)... 104.18.0.173, 104.18.1.173, 2606:4700::6812:1ad, ...\n",
      "Connecting to cf.10xgenomics.com (cf.10xgenomics.com)|104.18.0.173|:443... connected.\n",
      "HTTP request sent, awaiting response... 403 Forbidden\n",
      "2022-06-14 16:19:25 ERROR 403: Forbidden.\n",
      "\n",
      "--2022-06-14 16:19:25--  https://cf.10xgenomics.com/samples/cell-atac/2.1.0/8k_mouse_cortex_ATACv2_nextgem_Chromium_X/8k_mouse_cortex_ATACv2_nextgem_Chromium_X_possorted_bam.bam\n",
      "Resolving cf.10xgenomics.com (cf.10xgenomics.com)... 104.18.1.173, 104.18.0.173, 2606:4700::6812:ad, ...\n",
      "Connecting to cf.10xgenomics.com (cf.10xgenomics.com)|104.18.1.173|:443... connected.\n",
      "HTTP request sent, awaiting response... 200 OK\n",
      "Length: 40653674073 (38G) [binary/octet-stream]\n",
      "Saving to: ‘bam_publicdata/8k_mouse_cortex_ATACv2_nextgem_Chromium_X_possorted_bam.bam’\n",
      "\n",
      "8k_mouse_cortex_ATA 100%[===================>]  37.86G  19.3MB/s    in 29m 48s \n",
      "\n",
      "2022-06-14 16:49:15 (21.7 MB/s) - ‘bam_publicdata/8k_mouse_cortex_ATACv2_nextgem_Chromium_X_possorted_bam.bam’ saved [40653674073/40653674073]\n",
      "\n",
      "--2022-06-14 16:49:16--  https://cf.10xgenomics.com/samples/cell-atac/2.1.0/8k_mouse_cortex_ATACv2_nextgem_Chromium_X/8k_mouse_cortex_ATACv2_nextgem_Chromium_X_possorted_bam.bai\n",
      "Resolving cf.10xgenomics.com (cf.10xgenomics.com)... 104.18.1.173, 104.18.0.173, 2606:4700::6812:ad, ...\n",
      "Connecting to cf.10xgenomics.com (cf.10xgenomics.com)|104.18.1.173|:443... connected.\n",
      "HTTP request sent, awaiting response... 403 Forbidden\n",
      "2022-06-14 16:49:17 ERROR 403: Forbidden.\n",
      "\n",
      "--2022-06-14 16:49:17--  https://cf.10xgenomics.com/samples/cell-atac/2.1.0/8k_mouse_cortex_ATACv1p1_nextgem_Chromium_X/8k_mouse_cortex_ATACv1p1_nextgem_Chromium_X_possorted_bam.bam\n",
      "Resolving cf.10xgenomics.com (cf.10xgenomics.com)... 104.18.0.173, 104.18.1.173, 2606:4700::6812:1ad, ...\n",
      "Connecting to cf.10xgenomics.com (cf.10xgenomics.com)|104.18.0.173|:443... connected.\n",
      "HTTP request sent, awaiting response... 200 OK\n",
      "Length: 43447524228 (40G) [binary/octet-stream]\n",
      "Saving to: ‘bam_publicdata/8k_mouse_cortex_ATACv1p1_nextgem_Chromium_X_possorted_bam.bam’\n",
      "\n",
      "8k_mouse_cortex_ATA 100%[===================>]  40.46G  24.8MB/s    in 39m 50s \n",
      "\n",
      "2022-06-14 17:29:08 (17.3 MB/s) - ‘bam_publicdata/8k_mouse_cortex_ATACv1p1_nextgem_Chromium_X_possorted_bam.bam’ saved [43447524228/43447524228]\n",
      "\n",
      "--2022-06-14 17:29:08--  https://cf.10xgenomics.com/samples/cell-atac/2.1.0/8k_mouse_cortex_ATACv1p1_nextgem_Chromium_X/8k_mouse_cortex_ATACv1p1_nextgem_Chromium_X_possorted_bam.bai\n",
      "Resolving cf.10xgenomics.com (cf.10xgenomics.com)... 104.18.1.173, 104.18.0.173, 2606:4700::6812:ad, ...\n",
      "Connecting to cf.10xgenomics.com (cf.10xgenomics.com)|104.18.1.173|:443... connected.\n",
      "HTTP request sent, awaiting response... 403 Forbidden\n",
      "2022-06-14 17:29:09 ERROR 403: Forbidden.\n",
      "\n",
      "--2022-06-14 17:29:09--  https://cf.10xgenomics.com/samples/cell-atac/1.2.0/atac_v1_adult_brain_fresh_5k/atac_v1_adult_brain_fresh_5k_possorted_bam.bam\n",
      "Resolving cf.10xgenomics.com (cf.10xgenomics.com)... 104.18.0.173, 104.18.1.173, 2606:4700::6812:1ad, ...\n",
      "Connecting to cf.10xgenomics.com (cf.10xgenomics.com)|104.18.0.173|:443... connected.\n",
      "HTTP request sent, awaiting response... 200 OK\n",
      "Length: 22207694176 (21G) [binary/octet-stream]\n",
      "Saving to: ‘bam_publicdata/atac_v1_adult_brain_fresh_5k_possorted_bam.bam’\n",
      "\n",
      "atac_v1_adult_brain 100%[===================>]  20.68G  10.4MB/s    in 24m 39s \n",
      "\n",
      "2022-06-14 17:53:48 (14.3 MB/s) - ‘bam_publicdata/atac_v1_adult_brain_fresh_5k_possorted_bam.bam’ saved [22207694176/22207694176]\n",
      "\n",
      "--2022-06-14 17:53:49--  https://cf.10xgenomics.com/samples/cell-atac/1.2.0/atac_v1_adult_brain_fresh_5k/atac_v1_adult_brain_fresh_5k_possorted_bam.bai\n",
      "Resolving cf.10xgenomics.com (cf.10xgenomics.com)... 104.18.0.173, 104.18.1.173, 2606:4700::6812:ad, ...\n",
      "Connecting to cf.10xgenomics.com (cf.10xgenomics.com)|104.18.0.173|:443... connected.\n",
      "HTTP request sent, awaiting response... 403 Forbidden\n",
      "2022-06-14 17:53:49 ERROR 403: Forbidden.\n",
      "\n",
      "--2022-06-14 17:53:49--  https://cf.10xgenomics.com/samples/cell-arc/2.0.0/e18_mouse_brain_fresh_5k/e18_mouse_brain_fresh_5k_atac_possorted_bam.bam\n",
      "Resolving cf.10xgenomics.com (cf.10xgenomics.com)... 104.18.1.173, 104.18.0.173, 2606:4700::6812:1ad, ...\n",
      "Connecting to cf.10xgenomics.com (cf.10xgenomics.com)|104.18.1.173|:443... connected.\n",
      "HTTP request sent, awaiting response... 200 OK\n",
      "Length: 17575184181 (16G) [binary/octet-stream]\n",
      "Saving to: ‘bam_publicdata/e18_mouse_brain_fresh_5k_atac_possorted_bam.bam’\n",
      "\n"
     ]
    }
   ],
   "source": [
    "wget -P publicdata_bam https://cf.10xgenomics.com/samples/cell-atac/2.1.0/8k_mouse_cortex_ATACv2_nextgem_Chromium_Controller/8k_mouse_cortex_ATACv2_nextgem_Chromium_Controller_possorted_bam.bam\n",
    "wget -P publicdata_bam https://cf.10xgenomics.com/samples/cell-atac/2.1.0/8k_mouse_cortex_ATACv2_nextgem_Chromium_X/8k_mouse_cortex_ATACv2_nextgem_Chromium_X_possorted_bam.bam\n",
    "wget -P publicdata_bam https://cf.10xgenomics.com/samples/cell-atac/2.1.0/8k_mouse_cortex_ATACv1p1_nextgem_Chromium_X/8k_mouse_cortex_ATACv1p1_nextgem_Chromium_X_possorted_bam.bam\n",
    "wget -P publicdata_bam https://cf.10xgenomics.com/samples/cell-atac/1.2.0/atac_v1_adult_brain_fresh_5k/atac_v1_adult_brain_fresh_5k_possorted_bam.bam\n",
    "wget -P publicdata_bam https://cf.10xgenomics.com/samples/cell-arc/2.0.0/e18_mouse_brain_fresh_5k/e18_mouse_brain_fresh_5k_atac_possorted_bam.bam"
   ]
  },
  {
   "cell_type": "code",
   "execution_count": 3,
   "id": "ad816e16-1093-4cd9-8002-a0f2036b9a9b",
   "metadata": {
    "execution": {
     "iopub.execute_input": "2022-06-16T14:08:27.950930Z",
     "iopub.status.busy": "2022-06-16T14:08:27.950604Z",
     "iopub.status.idle": "2022-06-16T14:08:28.061191Z",
     "shell.execute_reply": "2022-06-16T14:08:28.058589Z",
     "shell.execute_reply.started": "2022-06-16T14:08:27.950894Z"
    },
    "tags": []
   },
   "outputs": [],
   "source": [
    "export PATH=/media/data/stg_00002/lcb/fderop/data/hca_atac_benchmark/0_resources/sratoolkit.3.0.0-centos_linux64/bin:$PATH"
   ]
  },
  {
   "cell_type": "code",
   "execution_count": 12,
   "id": "3bddf471-5436-4759-84e5-448b4ea2f24d",
   "metadata": {
    "execution": {
     "iopub.execute_input": "2022-06-16T16:12:21.572830Z",
     "iopub.status.busy": "2022-06-16T16:12:21.572520Z",
     "iopub.status.idle": "2022-06-16T16:12:21.687535Z",
     "shell.execute_reply": "2022-06-16T16:12:21.684803Z",
     "shell.execute_reply.started": "2022-06-16T16:12:21.572795Z"
    }
   },
   "outputs": [
    {
     "name": "stdout",
     "output_type": "stream",
     "text": [
      "/media/data/stg_00002/lcb/fderop/data/hca_atac_benchmark/0_resources/scitools:/media/data/stg_00002/lcb/fderop/data/hca_atac_benchmark/0_resources/sratoolkit.3.0.0-centos_linux64/bin:/staging/leuven/stg_00002/lcb/fderop/software/anaconda3/bin:/staging/leuven/stg_00002/lcb/fderop/software/anaconda3/condabin:/home/luna.kuleuven.be/u0117999/.local/bin:/home/luna.kuleuven.be/u0117999/.cargo/bin:/usr/local/sbin:/usr/local/bin:/usr/sbin:/usr/bin:/sbin:/bin:/usr/games:/usr/local/games:/snap/bin:/opt/puppetlabs/bin\n"
     ]
    }
   ],
   "source": [
    "echo $PATH"
   ]
  },
  {
   "cell_type": "code",
   "execution_count": 15,
   "id": "56c0c8dc-7e24-494e-bde2-2fd56a38701c",
   "metadata": {
    "execution": {
     "iopub.execute_input": "2022-06-16T16:13:30.358077Z",
     "iopub.status.busy": "2022-06-16T16:13:30.357677Z",
     "iopub.status.idle": "2022-06-16T16:13:30.465998Z",
     "shell.execute_reply": "2022-06-16T16:13:30.463338Z",
     "shell.execute_reply.started": "2022-06-16T16:13:30.357945Z"
    },
    "tags": []
   },
   "outputs": [],
   "source": [
    "export PATH=/media/data/stg_00002/lcb/fderop/data/hca_atac_benchmark/0_resources/scitools-dev:/media/data/stg_00002/lcb/fderop/data/hca_atac_benchmark/0_resources/sratoolkit.3.0.0-centos_linux64/bin:/staging/leuven/stg_00002/lcb/fderop/software/anaconda3/bin:/staging/leuven/stg_00002/lcb/fderop/software/anaconda3/condabin:/home/luna.kuleuven.be/u0117999/.local/bin:/home/luna.kuleuven.be/u0117999/.cargo/bin:/usr/local/sbin:/usr/local/bin:/usr/sbin:/usr/bin:/sbin:/bin:/usr/games:/usr/local/games:/snap/bin:/opt/puppetlabs/bin"
   ]
  },
  {
   "cell_type": "code",
   "execution_count": 16,
   "id": "8d816b98-759d-470a-b825-eb6616fd33a9",
   "metadata": {
    "execution": {
     "iopub.execute_input": "2022-06-16T16:13:31.256076Z",
     "iopub.status.busy": "2022-06-16T16:13:31.255783Z",
     "iopub.status.idle": "2022-06-16T16:13:31.886288Z",
     "shell.execute_reply": "2022-06-16T16:13:31.883743Z",
     "shell.execute_reply.started": "2022-06-16T16:13:31.256040Z"
    },
    "tags": []
   },
   "outputs": [
    {
     "name": "stdout",
     "output_type": "stream",
     "text": [
      "SRR14494477\n",
      "\n",
      "\n",
      "##############################################################################\n",
      "#                                                                            #\n",
      "# WARNING: scitools fastq-dump commands are deprecated!                      #\n",
      "#          These functions have been replaced by the new tool 'unidex',      #\n",
      "#          a universal demultiplexing tool that has all of the funcitonality #\n",
      "#          of all of the fastq-dump commands and many additional features.   #\n",
      "#                                                                            #\n",
      "##############################################################################\n",
      "\t\t \n",
      "mkdir: cannot create directory ‘/home/groups/oroaklab/demultiplex/SRR14494477’: No such file or directory\n",
      "sh: 1: cannot create /home/groups/oroaklab/demultiplex/SRR14494477/SRR14494477.1.fq.gz: Directory nonexistent\n",
      "sh: 1: cannot create /home/groups/oroaklab/demultiplex/SRR14494477/SRR14494477.2.fq.gz: Directory nonexistent\n",
      "sh: 1: cannot create /home/groups/oroaklab/demultiplex/SRR14494477/SRR14494477.fail.1.fq.gz: Directory nonexistent\n",
      "sh: 1: cannot create /home/groups/oroaklab/demultiplex/SRR14494477/SRR14494477.fail.2.fq.gz: Directory nonexistent\n",
      "sh: 1: cannot create /home/groups/oroaklab/demultiplex/SRR14494477/SRR14494477.fail.I1.fq.gz: Directory nonexistent\n",
      "sh: 1: cannot create /home/groups/oroaklab/demultiplex/SRR14494477/SRR14494477.fail.I2.fq.gz: Directory nonexistent\n",
      "gzip: compressed data not read from a terminal. Use -f to force decompression.\n",
      "For help, type: gzip -h\n",
      "gzip: compressed data not read from a terminal. Use -f to force decompression.\n",
      "For help, type: gzip -h\n",
      "gzip: compressed data not read from a terminal. Use -f to force decompression.\n",
      "For help, type: gzip -h\n",
      "gzip: compressed data not read from a terminal. Use -f to force decompression.\n",
      "For help, type: gzip -h\n"
     ]
    }
   ],
   "source": [
    "numbers=(SRR14494477)\n",
    "outdir=publicdata_fastq\n",
    "for sra in ${numbers[@]}\n",
    "do\n",
    "    echo $sra\n",
    "    scitools fastq-dump-sci-stdchem -R $sra\n",
    "done"
   ]
  },
  {
   "cell_type": "code",
   "execution_count": 20,
   "id": "54968818-05d7-4bc5-a0d0-897340ba35ff",
   "metadata": {
    "execution": {
     "iopub.execute_input": "2022-06-16T16:17:25.417925Z",
     "iopub.status.busy": "2022-06-16T16:17:25.417580Z",
     "iopub.status.idle": "2022-06-16T16:17:26.745440Z",
     "shell.execute_reply": "2022-06-16T16:17:26.742563Z",
     "shell.execute_reply.started": "2022-06-16T16:17:25.417882Z"
    },
    "tags": []
   },
   "outputs": [
    {
     "name": "stdout",
     "output_type": "stream",
     "text": [
      "\n",
      "scitools [command] [options] [arguments]\n",
      "\n",
      "Version: 0.1.2 (180608, modulization)\n",
      "    adeylab.org & github.com/adeylab\n",
      "\n",
      "scitools is a set of commands for general processing of single-\n",
      "cell combinatorial indexing data. It is predominantly a wrapper\n",
      "for generating R or other scripts that will be stored and executed.\n",
      "\n",
      "scitools commands are typically in the form of [class]-[operation].\n",
      "\n",
      "run 'scitools list' to print out a list of commands and descriptions.\n",
      "To list a subset of commands include an additional argument with the\n",
      "search term, e.g. 'scitools list fastq'\n",
      "\n",
      "   Command:             Description:\n",
      "\n",
      "   aggregate-cells      Aggregate cells in proximity with one another\n",
      "   annot-collapse       Collapse annotations, or rename them\n",
      "   annot-compare        WARNING: No description listed.\n",
      "   annot-make           Make annotation file\n",
      "   annot-merge          Merge annotation files\n",
      "   annot-proportions    Proportions of cells by annot\n",
      "   annot-rename         Rename annotations using a mapping file\n",
      "   ascii2triplet        WARNING: No description listed.\n",
      "   atac-callpeak        Call peaks on bam file using macs2\n",
      "   atac-chromvar        Run chromVAR wrapper on sci-ATAC-seq data\n",
      "   atac-classify        WARNING: No description listed.\n",
      "   atac-count           Bam and peak file to a counts matrix\n",
      "   atac-deviation       Deviation and variability for a feature set\n",
      "   atac-enrich          Test for the enrichment of one feature set in another\n",
      "   atac-genehancer      Overlap peaks bed file with Genehancer database\n",
      "   atac-mergepeak       Merge ATAC_seq peak files\n",
      "   atac-refcount        Generate Counts Matrix with bbrd bam and reference bed file\n",
      "   atac-signac-da       WARNING: No description listed.\n",
      "   bam2sra              Unfilterd bam files to SRA / GEO fastq files\n",
      "   bam-addrg            Add RG lines to bam\n",
      "   bam-aggregate        Aggregate cells in bam by annotation file\n",
      "   bam-bulk2sci         Merge multiple bulk bam files to one SCI bam\n",
      "   bam-coverage         WARNING: No description listed.\n",
      "   bam-filter           Filter bam based on a variety of options\n",
      "   bam-frip             WARNING: No description listed.\n",
      "   bam-isize            Plot insert size distribution of bam\n",
      "   bam-iswitch          Detect and remove possibe index switch reads\n",
      "   bam-merge            Merges one or more bam files\n",
      "   bam-normbigwig       WARNING: No description listed.\n",
      "   bam-project          Use complexity to project additional sequence\n",
      "   bam-rmdup            Barcode-based duplicate removal\n",
      "   bam-split            Split bam by annotation file\n",
      "   bam-tabix            WARNING: No description listed.\n",
      "   bam-tssenrich        WARNING: No description listed.\n",
      "   barnyard-compare     WARNING: No description listed.\n",
      "   cds-cicero           Cicero Call for CCAN analysis on sci-ATAC-seq data\n",
      "   cds-cistopicmatrix   WARNING: No description listed.\n",
      "   cds-monocle          Monocle3 Call for branch analysis on sci-ATAC-seq data\n",
      "   check-vars           Debugging tool to test vars passed to a command\n",
      "   cicero-plot          WARNING: No description listed.\n",
      "   complexity2log10     Complexity to log10 unique reads values file\n",
      "   counts2tsne          Process a counts matrix to dims by: tfidf->irlba->tSNE\n",
      "   da-enrichment        Analyze Diff Accessible Peaks with HOMER and LOLA\n",
      "   data-combine         Combine matrixes, annotations, dims to a table\n",
      "   data-split           Breaks a combined data file into component files\n",
      "   defaults             Print out the defaults that are detected / specified\n",
      "   dependencies         Check dependencies\n",
      "   dims-dbscan          Density-base (dbscan) clustering on dims file\n",
      "   dims-kmeans          Kmeans clustering on dims file\n",
      "   dims-moran           Spectral Statistics for ChromVar enrichment across clustered cells\n",
      "   dims-pcurve          Project a principle curve through dims file\n",
      "   fastq-align          Align fastq files and sort resulting bam file\n",
      "   fastq-barcode-collapse Collapse barcodes in a fastq set -> sci format\n",
      "   fastq-dump           Go from illumina fastqs to SCI fastq format\n",
      "   fastq-dump-10x       Go from illumina fastqs to SCI fastq format for 10X ATAC\n",
      "   fastq-dump-10x-atac  WARNING: No description listed.\n",
      "   fastq-dump-10x-std   WARNING: No description listed.\n",
      "   fastq-dump-ddscale   WARNING: No description listed.\n",
      "   fastq-dump-multi     WARNING: No description listed.\n",
      "   fastq-dump-sci-stdchem Go from illumina fastqs to SCI fastq format for sci standard chemistry runs\n",
      "   fastq-from-geo       Convert GEO or SRA fqs w/ barcodes to scitools fq\n",
      "   fastq-merge          Merge fastq files that have the same barcodes\n",
      "   fastq-sci2geo        Convert scitools fq to GEO/SRA fastq 1, 2, and ix\n",
      "   fastq-simulate       WARNING: No description listed.\n",
      "   fastq-split          Split SCI fastq files using annotation file\n",
      "   filter-values        WARNING: No description listed.\n",
      "   gas-seurat           WARNING: No description listed.\n",
      "   gradients-print      Print out the default gradients\n",
      "   group-specific       WARNING: No description listed.\n",
      "   index-performance    Index performance on fastq or bam\n",
      "   matrix-DA            Differential accessibility on counts matrix\n",
      "   matrix-DA-R          WARNING: No description listed.\n",
      "   matrix-aggregate     Aggregate cells in counts matrix by annotation\n",
      "   matrix-anova         WARNING: No description listed.\n",
      "   matrix-bicluster     Bicluster and plot a heatmap\n",
      "   matrix-binarize      WARNING: No description listed.\n",
      "   matrix-chromvar      WARNING: No description listed.\n",
      "   matrix-cistopic      cisTopic on matrix\n",
      "   matrix-cistopic3     WARNING: No description listed.\n",
      "   matrix-correlate     Correlate columns/rows of a matrix\n",
      "   matrix-ddrtree       WARNING: No description listed.\n",
      "   matrix-factors       Calculates reconstruction error for NMF and SWNE\n",
      "   matrix-filter        Filter a sci-ATAC-seq counts matrix\n",
      "   matrix-irlba         IRLBA on matrix - good for big matrices\n",
      "   matrix-irlba-py      WARNING: No description listed.\n",
      "   matrix-lsi           Perform Latent Semantic Indexing on matrix\n",
      "   matrix-mad           WARNING: No description listed.\n",
      "   matrix-makeMM        WARNING: No description listed.\n",
      "   matrix-make-cds      Convert scitools files into CDS format for Monocle3\n",
      "   matrix-match         WARNING: No description listed.\n",
      "   matrix-merge-sparse  WARNING: No description listed.\n",
      "   matrix-naomit        Filter out rows with NA values\n",
      "   matrix-pca           PCA on matrix\n",
      "   matrix-pg            WARNING: No description listed.\n",
      "   matrix-pull          Pull entries from a matrix and print them\n",
      "   matrix-scrublet      Perform scrublet on a matrix\n",
      "   matrix-sparse        WARNING: No description listed.\n",
      "   matrix-subsample     WARNING: No description listed.\n",
      "   matrix-summarize     Generate a summary and plots on matrix properties\n",
      "   matrix-swne          SWNE on matrix\n",
      "   matrix-tf            Normalize only by term frequency\n",
      "   matrix-tfidf         Perform tf-idf on counts matrix\n",
      "   matrix-transpose     WARNING: No description listed.\n",
      "   matrix-tsne          tSNE on matrix or dims file\n",
      "   matrix-umap          UMAP on matrix\n",
      "   matrix-unsparse      WARNING: No description listed.\n",
      "   matrix-zscore        Z-scores matrix by rows, columns, or globally\n",
      "   merge-sparse         WARNING: No description listed.\n",
      "   met-NOMeextract      Extract NOMe seq methylation data\n",
      "   met-fastqtrim        WARNING: No description listed.\n",
      "   met-metextract       Extract methylaiton data from sci-MET\n",
      "   met-metfilter        Filter extracted methylaiton data\n",
      "   met-probesummary     Summarize methylaiton over regions\n",
      "   met-probeview        Visualize methylaiton over regions\n",
      "   pcurve-center        Centers and normalizes a pcurve lambda\n",
      "   pcurve-prune         Prunes cells distant from the pcurve\n",
      "   plot-3ddims          Plot a dimensions file in 3d, uses a monocle CDS.rds file\n",
      "   plot-barnyard        Plot barnyard data\n",
      "   plot-complexity      Plot complexity data\n",
      "   plot-dims            Plot tSNE or other dimensions file\n",
      "   plot-factors         Generates factor vs reconstruction error plot\n",
      "   plot-pcurve          Genrate multiple princurve plots\n",
      "   plot-plotly          WARNING: No description listed.\n",
      "   plot-project-dims    WARNING: No description listed.\n",
      "   plot-projection      Plot complexity projections after bam-project\n",
      "   plot-reads           Plot reads as points in genomic window\n",
      "   plot-signal          Plot windowed signal views\n",
      "   plot-values          Plot values file\n",
      "   rename-cells         Rename cells\n",
      "   rna-align            Use the STAR aligner to align RNA reads\n",
      "   rna-count            WARNING: No description listed.\n",
      "   signal-make          Generate windowed signal over features from bam\n",
      "   triplet2ascii        WARNING: No description listed.\n",
      "   values-split         Split a values file or other tab delimited file by annotation\n",
      "\n"
     ]
    },
    {
     "ename": "",
     "evalue": "255",
     "output_type": "error",
     "traceback": []
    }
   ],
   "source": [
    "scitools list"
   ]
  }
 ],
 "metadata": {
  "kernelspec": {
   "display_name": "Bash",
   "language": "bash",
   "name": "bash"
  },
  "language_info": {
   "codemirror_mode": "shell",
   "file_extension": ".sh",
   "mimetype": "text/x-sh",
   "name": "bash"
  }
 },
 "nbformat": 4,
 "nbformat_minor": 5
}

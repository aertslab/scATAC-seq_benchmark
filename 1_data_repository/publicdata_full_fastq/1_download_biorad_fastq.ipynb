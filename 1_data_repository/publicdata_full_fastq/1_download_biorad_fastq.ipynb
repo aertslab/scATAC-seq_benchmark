{
 "cells": [
  {
   "cell_type": "code",
   "execution_count": 1,
   "id": "d2127f7a",
   "metadata": {
    "execution": {
     "iopub.execute_input": "2022-10-26T15:30:20.018071Z",
     "iopub.status.busy": "2022-10-26T15:30:20.016996Z",
     "iopub.status.idle": "2022-10-26T15:30:23.688953Z",
     "shell.execute_reply": "2022-10-26T15:30:23.687448Z",
     "shell.execute_reply.started": "2022-10-26T15:30:20.017935Z"
    }
   },
   "outputs": [],
   "source": [
    "import pandas as pd"
   ]
  },
  {
   "cell_type": "code",
   "execution_count": 2,
   "id": "6871c02a",
   "metadata": {
    "execution": {
     "iopub.execute_input": "2022-10-26T15:30:23.693027Z",
     "iopub.status.busy": "2022-10-26T15:30:23.692245Z",
     "iopub.status.idle": "2022-10-26T15:30:23.736461Z",
     "shell.execute_reply": "2022-10-26T15:30:23.734985Z",
     "shell.execute_reply.started": "2022-10-26T15:30:23.692980Z"
    }
   },
   "outputs": [],
   "source": [
    "df = pd.read_csv('SraRunTable.txt')"
   ]
  },
  {
   "cell_type": "code",
   "execution_count": 3,
   "id": "8f43c041",
   "metadata": {
    "execution": {
     "iopub.execute_input": "2022-10-26T15:30:23.743812Z",
     "iopub.status.busy": "2022-10-26T15:30:23.742650Z",
     "iopub.status.idle": "2022-10-26T15:30:23.765666Z",
     "shell.execute_reply": "2022-10-26T15:30:23.764180Z",
     "shell.execute_reply.started": "2022-10-26T15:30:23.743748Z"
    }
   },
   "outputs": [
    {
     "data": {
      "text/plain": [
       "Index(['Run', 'Assay Type', 'AvgSpotLen', 'Bases', 'bead_concentration',\n",
       "       'BioProject', 'BioSample', 'Bytes', 'Center Name', 'Consent',\n",
       "       'DATASTORE filetype', 'DATASTORE provider', 'DATASTORE region',\n",
       "       'Experiment', 'Instrument', 'LibraryLayout', 'LibrarySelection',\n",
       "       'LibrarySource', 'Mouse_ID', 'Organism', 'Platform', 'ReleaseDate',\n",
       "       'Sample Name', 'source_name', 'SRA Study', 'GEO_Accession (exp)',\n",
       "       'Tissue', 'celltype'],\n",
       "      dtype='object')"
      ]
     },
     "execution_count": 3,
     "metadata": {},
     "output_type": "execute_result"
    }
   ],
   "source": [
    "df.columns"
   ]
  },
  {
   "cell_type": "code",
   "execution_count": 4,
   "id": "83a099e2",
   "metadata": {
    "execution": {
     "iopub.execute_input": "2022-10-26T15:30:23.768403Z",
     "iopub.status.busy": "2022-10-26T15:30:23.767627Z",
     "iopub.status.idle": "2022-10-26T15:30:23.805164Z",
     "shell.execute_reply": "2022-10-26T15:30:23.803225Z",
     "shell.execute_reply.started": "2022-10-26T15:30:23.768349Z"
    }
   },
   "outputs": [
    {
     "name": "stdout",
     "output_type": "stream",
     "text": [
      "[SRR8994079 SRR8994080 SRR8994081 SRR8994082 SRR8994083 SRR8994084 SRR8994085 SRR8994086 SRR8310661 SRR8310662 SRR8310663 SRR8310664 SRR8310665 SRR8310666 SRR8310667 SRR8310668 SRR8310669 SRR8310670 SRR8310671 SRR8310672 SRR8310673 SRR8310674 SRR8310675 SRR8310676 SRR8310677 SRR8310678 SRR8310679 SRR8310680 SRR8310681 SRR8310682 SRR8310683 SRR8310684 SRR8310685 SRR8310686 SRR8310687 SRR8310688 SRR8310689 SRR8310690 SRR8310691 SRR8310692 SRR8310693 SRR8310694 SRR8310695 SRR8310696 SRR8310697 SRR8310698 SRR8310699 SRR8310700 SRR8310701 SRR8310702 SRR8310703 SRR8310704 SRR8310705 SRR8310706 SRR8310707 SRR8310708 SRR8310709 SRR8310710 SRR8310711 SRR8310712 SRR8310713 SRR8310714 SRR8310715 SRR8310716 SRR8310717 SRR8310718 SRR8310719 SRR8310720 SRR8310721 SRR8310722 SRR8310723 SRR8310724 SRR8310725 SRR8310726 SRR8310727 SRR8310728 SRR8310729 SRR8310730 SRR8310731 SRR8310732]\n"
     ]
    }
   ],
   "source": [
    "print(str(list(df['Run'])).replace(\"'\",\"\").replace(',',''))"
   ]
  },
  {
   "cell_type": "code",
   "execution_count": null,
   "id": "7fa1eab9",
   "metadata": {},
   "outputs": [],
   "source": [
    "module load SRA-Toolkit/2.11.3-centos_linux64\n",
    "numbers=(SRR8994079 SRR8994080 SRR8994081 SRR8994082 SRR8994083 SRR8994084 SRR8994085 SRR8994086 SRR8310661 SRR8310662 SRR8310663 SRR8310664 SRR8310665 SRR8310666 SRR8310667 SRR8310668 SRR8310669 SRR8310670 SRR8310671 SRR8310672 SRR8310673 SRR8310674 SRR8310675 SRR8310676 SRR8310677 SRR8310678 SRR8310679 SRR8310680 SRR8310681 SRR8310682 SRR8310683 SRR8310684 SRR8310685 SRR8310686 SRR8310687 SRR8310688 SRR8310689 SRR8310690 SRR8310691 SRR8310692 SRR8310693 SRR8310694 SRR8310695 SRR8310696 SRR8310697 SRR8310698 SRR8310699 SRR8310700 SRR8310701 SRR8310702 SRR8310703 SRR8310704 SRR8310705 SRR8310706 SRR8310707 SRR8310708 SRR8310709 SRR8310710 SRR8310711 SRR8310712 SRR8310713 SRR8310714 SRR8310715 SRR8310716 SRR8310717 SRR8310718 SRR8310719 SRR8310720 SRR8310721 SRR8310722 SRR8310723 SRR8310724 SRR8310725 SRR8310726 SRR8310727 SRR8310728 SRR8310729 SRR8310730 SRR8310731 SRR8310732)\n",
    "\n",
    "outdir=biorad\n",
    "mkdir $outdir\n",
    "for sra in ${numbers[@]}\n",
    "do\n",
    "    echo $sra\n",
    "    fasterq-dump -S -e 16 -m 10GB -c 1GB -b 100MB -p -x -O $outdir $sra\n",
    "    gzip $outdir/*.fastq &\n",
    "done"
   ]
  },
  {
   "cell_type": "markdown",
   "id": "e33ddbf0",
   "metadata": {
    "execution": {
     "iopub.execute_input": "2022-10-26T15:30:29.478055Z",
     "iopub.status.busy": "2022-10-26T15:30:29.477189Z",
     "iopub.status.idle": "2022-10-26T15:30:29.484800Z",
     "shell.execute_reply": "2022-10-26T15:30:29.483204Z",
     "shell.execute_reply.started": "2022-10-26T15:30:29.477998Z"
    },
    "tags": []
   },
   "source": [
    "# merge the  fastqs correctly"
   ]
  },
  {
   "cell_type": "code",
   "execution_count": 1,
   "id": "cc18f11a",
   "metadata": {
    "execution": {
     "iopub.execute_input": "2022-10-13T13:38:51.641079Z",
     "iopub.status.busy": "2022-10-13T13:38:51.640130Z",
     "iopub.status.idle": "2022-10-13T13:38:51.666828Z",
     "shell.execute_reply": "2022-10-13T13:38:51.665732Z",
     "shell.execute_reply.started": "2022-10-13T13:38:51.640911Z"
    }
   },
   "outputs": [],
   "source": [
    "alias_dict_rev = {\n",
    "    \"BIO_ddseq_m1c1.FULL\": [\n",
    "        \"SRR8310661\",\n",
    "        \"SRR8310662\",\n",
    "        \"SRR8310663\",\n",
    "        \"SRR8310664\",\n",
    "        \"SRR8310665\",\n",
    "        \"SRR8310666\",\n",
    "        \"SRR8310667\",\n",
    "        \"SRR8310668\",\n",
    "    ],\n",
    "    \"BIO_ddseq_m1c2.FULL\": [\n",
    "        \"SRR8310669\",\n",
    "        \"SRR8310670\",\n",
    "        \"SRR8310671\",\n",
    "        \"SRR8310672\",\n",
    "        \"SRR8310673\",\n",
    "        \"SRR8310674\",\n",
    "        \"SRR8310675\",\n",
    "        \"SRR8310676\",\n",
    "    ],\n",
    "    \"BIO_ddseq_m1c3.FULL\": [\n",
    "        \"SRR8310677\",\n",
    "        \"SRR8310678\",\n",
    "        \"SRR8310679\",\n",
    "        \"SRR8310680\",\n",
    "        \"SRR8310681\",\n",
    "        \"SRR8310682\",\n",
    "        \"SRR8310683\",\n",
    "        \"SRR8310684\",\n",
    "    ],\n",
    "    \"BIO_ddseq_m1c4.FULL\": [\n",
    "        \"SRR8310685\",\n",
    "        \"SRR8310686\",\n",
    "        \"SRR8310687\",\n",
    "        \"SRR8310688\",\n",
    "        \"SRR8310689\",\n",
    "        \"SRR8310690\",\n",
    "        \"SRR8310691\",\n",
    "        \"SRR8310692\",\n",
    "    ],\n",
    "    \"BIO_ddseq_m1c5.FULL\": [\n",
    "        \"SRR8310693\",\n",
    "        \"SRR8310694\",\n",
    "        \"SRR8310695\",\n",
    "        \"SRR8310696\",\n",
    "        \"SRR8310697\",\n",
    "        \"SRR8310698\",\n",
    "        \"SRR8310699\",\n",
    "        \"SRR8310700\",\n",
    "    ],\n",
    "    \"BIO_ddseq_m1c6.FULL\": [\n",
    "        \"SRR8310701\",\n",
    "        \"SRR8310702\",\n",
    "        \"SRR8310703\",\n",
    "        \"SRR8310704\",\n",
    "        \"SRR8310705\",\n",
    "        \"SRR8310706\",\n",
    "        \"SRR8310707\",\n",
    "        \"SRR8310708\",\n",
    "    ],\n",
    "    \"BIO_ddseq_m1c7.FULL\": [\n",
    "        \"SRR8310709\",\n",
    "        \"SRR8310710\",\n",
    "        \"SRR8310711\",\n",
    "        \"SRR8310712\",\n",
    "        \"SRR8310713\",\n",
    "        \"SRR8310714\",\n",
    "        \"SRR8310715\",\n",
    "        \"SRR8310716\",\n",
    "    ],\n",
    "    \"BIO_ddseq_m2c1.FULL\": [\n",
    "        \"SRR8310717\",\n",
    "        \"SRR8310718\",\n",
    "        \"SRR8310719\",\n",
    "        \"SRR8310720\",\n",
    "    ],\n",
    "    \"BIO_ddseq_m2c2.FULL\": [\n",
    "        \"SRR8310721\",\n",
    "        \"SRR8310722\",\n",
    "        \"SRR8310723\",\n",
    "        \"SRR8310724\",\n",
    "    ],\n",
    "    \"BIO_ddseq_m2c3.FULL\": [\n",
    "        \"SRR8310725\",\n",
    "        \"SRR8310726\",\n",
    "        \"SRR8310727\",\n",
    "        \"SRR8310728\",\n",
    "    ],\n",
    "    \"BIO_ddseq_m2c4.FULL\": [\n",
    "        \"SRR8310729\",\n",
    "        \"SRR8310730\",\n",
    "        \"SRR8310731\",\n",
    "        \"SRR8310732\",\n",
    "    ],\n",
    "    \"BIO_ddseq_m1c8.FULL\": [\n",
    "        \"SRR8994079\",\n",
    "        \"SRR8994080\",\n",
    "        \"SRR8994081\",\n",
    "        \"SRR8994082\",\n",
    "        \"SRR8994083\",\n",
    "        \"SRR8994084\",\n",
    "        \"SRR8994085\",\n",
    "        \"SRR8994086\",\n",
    "    ],\n",
    "}"
   ]
  },
  {
   "cell_type": "code",
   "execution_count": 20,
   "id": "26923249",
   "metadata": {
    "execution": {
     "iopub.execute_input": "2022-10-13T13:45:20.084018Z",
     "iopub.status.busy": "2022-10-13T13:45:20.083098Z",
     "iopub.status.idle": "2022-10-13T13:45:20.096348Z",
     "shell.execute_reply": "2022-10-13T13:45:20.094858Z",
     "shell.execute_reply.started": "2022-10-13T13:45:20.083954Z"
    },
    "tags": []
   },
   "outputs": [
    {
     "name": "stdout",
     "output_type": "stream",
     "text": [
      "cat BIO_ddseq_SRR8310661__R1.FULL.fastq.gz BIO_ddseq_SRR8310662__R1.FULL.fastq.gz BIO_ddseq_SRR8310663__R1.FULL.fastq.gz BIO_ddseq_SRR8310664__R1.FULL.fastq.gz BIO_ddseq_SRR8310665__R1.FULL.fastq.gz BIO_ddseq_SRR8310666__R1.FULL.fastq.gz BIO_ddseq_SRR8310667__R1.FULL.fastq.gz BIO_ddseq_SRR8310668__R1.FULL.fastq.gz > BIO_ddseq_m1c1.FULL__R1.fastq.gz &\n",
      "cat BIO_ddseq_SRR8310661__R2.FULL.fastq.gz BIO_ddseq_SRR8310662__R2.FULL.fastq.gz BIO_ddseq_SRR8310663__R2.FULL.fastq.gz BIO_ddseq_SRR8310664__R2.FULL.fastq.gz BIO_ddseq_SRR8310665__R2.FULL.fastq.gz BIO_ddseq_SRR8310666__R2.FULL.fastq.gz BIO_ddseq_SRR8310667__R2.FULL.fastq.gz BIO_ddseq_SRR8310668__R2.FULL.fastq.gz > BIO_ddseq_m1c1.FULL__R2.fastq.gz &\n",
      "\n",
      "\n",
      "cat BIO_ddseq_SRR8310669__R1.FULL.fastq.gz BIO_ddseq_SRR8310670__R1.FULL.fastq.gz BIO_ddseq_SRR8310671__R1.FULL.fastq.gz BIO_ddseq_SRR8310672__R1.FULL.fastq.gz BIO_ddseq_SRR8310673__R1.FULL.fastq.gz BIO_ddseq_SRR8310674__R1.FULL.fastq.gz BIO_ddseq_SRR8310675__R1.FULL.fastq.gz BIO_ddseq_SRR8310676__R1.FULL.fastq.gz > BIO_ddseq_m1c2.FULL__R1.fastq.gz &\n",
      "cat BIO_ddseq_SRR8310669__R2.FULL.fastq.gz BIO_ddseq_SRR8310670__R2.FULL.fastq.gz BIO_ddseq_SRR8310671__R2.FULL.fastq.gz BIO_ddseq_SRR8310672__R2.FULL.fastq.gz BIO_ddseq_SRR8310673__R2.FULL.fastq.gz BIO_ddseq_SRR8310674__R2.FULL.fastq.gz BIO_ddseq_SRR8310675__R2.FULL.fastq.gz BIO_ddseq_SRR8310676__R2.FULL.fastq.gz > BIO_ddseq_m1c2.FULL__R2.fastq.gz &\n",
      "\n",
      "\n",
      "cat BIO_ddseq_SRR8310677__R1.FULL.fastq.gz BIO_ddseq_SRR8310678__R1.FULL.fastq.gz BIO_ddseq_SRR8310679__R1.FULL.fastq.gz BIO_ddseq_SRR8310680__R1.FULL.fastq.gz BIO_ddseq_SRR8310681__R1.FULL.fastq.gz BIO_ddseq_SRR8310682__R1.FULL.fastq.gz BIO_ddseq_SRR8310683__R1.FULL.fastq.gz BIO_ddseq_SRR8310684__R1.FULL.fastq.gz > BIO_ddseq_m1c3.FULL__R1.fastq.gz &\n",
      "cat BIO_ddseq_SRR8310677__R2.FULL.fastq.gz BIO_ddseq_SRR8310678__R2.FULL.fastq.gz BIO_ddseq_SRR8310679__R2.FULL.fastq.gz BIO_ddseq_SRR8310680__R2.FULL.fastq.gz BIO_ddseq_SRR8310681__R2.FULL.fastq.gz BIO_ddseq_SRR8310682__R2.FULL.fastq.gz BIO_ddseq_SRR8310683__R2.FULL.fastq.gz BIO_ddseq_SRR8310684__R2.FULL.fastq.gz > BIO_ddseq_m1c3.FULL__R2.fastq.gz &\n",
      "\n",
      "\n",
      "cat BIO_ddseq_SRR8310685__R1.FULL.fastq.gz BIO_ddseq_SRR8310686__R1.FULL.fastq.gz BIO_ddseq_SRR8310687__R1.FULL.fastq.gz BIO_ddseq_SRR8310688__R1.FULL.fastq.gz BIO_ddseq_SRR8310689__R1.FULL.fastq.gz BIO_ddseq_SRR8310690__R1.FULL.fastq.gz BIO_ddseq_SRR8310691__R1.FULL.fastq.gz BIO_ddseq_SRR8310692__R1.FULL.fastq.gz > BIO_ddseq_m1c4.FULL__R1.fastq.gz &\n",
      "cat BIO_ddseq_SRR8310685__R2.FULL.fastq.gz BIO_ddseq_SRR8310686__R2.FULL.fastq.gz BIO_ddseq_SRR8310687__R2.FULL.fastq.gz BIO_ddseq_SRR8310688__R2.FULL.fastq.gz BIO_ddseq_SRR8310689__R2.FULL.fastq.gz BIO_ddseq_SRR8310690__R2.FULL.fastq.gz BIO_ddseq_SRR8310691__R2.FULL.fastq.gz BIO_ddseq_SRR8310692__R2.FULL.fastq.gz > BIO_ddseq_m1c4.FULL__R2.fastq.gz &\n",
      "\n",
      "\n",
      "cat BIO_ddseq_SRR8310693__R1.FULL.fastq.gz BIO_ddseq_SRR8310694__R1.FULL.fastq.gz BIO_ddseq_SRR8310695__R1.FULL.fastq.gz BIO_ddseq_SRR8310696__R1.FULL.fastq.gz BIO_ddseq_SRR8310697__R1.FULL.fastq.gz BIO_ddseq_SRR8310698__R1.FULL.fastq.gz BIO_ddseq_SRR8310699__R1.FULL.fastq.gz BIO_ddseq_SRR8310700__R1.FULL.fastq.gz > BIO_ddseq_m1c5.FULL__R1.fastq.gz &\n",
      "cat BIO_ddseq_SRR8310693__R2.FULL.fastq.gz BIO_ddseq_SRR8310694__R2.FULL.fastq.gz BIO_ddseq_SRR8310695__R2.FULL.fastq.gz BIO_ddseq_SRR8310696__R2.FULL.fastq.gz BIO_ddseq_SRR8310697__R2.FULL.fastq.gz BIO_ddseq_SRR8310698__R2.FULL.fastq.gz BIO_ddseq_SRR8310699__R2.FULL.fastq.gz BIO_ddseq_SRR8310700__R2.FULL.fastq.gz > BIO_ddseq_m1c5.FULL__R2.fastq.gz &\n",
      "\n",
      "\n",
      "cat BIO_ddseq_SRR8310701__R1.FULL.fastq.gz BIO_ddseq_SRR8310702__R1.FULL.fastq.gz BIO_ddseq_SRR8310703__R1.FULL.fastq.gz BIO_ddseq_SRR8310704__R1.FULL.fastq.gz BIO_ddseq_SRR8310705__R1.FULL.fastq.gz BIO_ddseq_SRR8310706__R1.FULL.fastq.gz BIO_ddseq_SRR8310707__R1.FULL.fastq.gz BIO_ddseq_SRR8310708__R1.FULL.fastq.gz > BIO_ddseq_m1c6.FULL__R1.fastq.gz &\n",
      "cat BIO_ddseq_SRR8310701__R2.FULL.fastq.gz BIO_ddseq_SRR8310702__R2.FULL.fastq.gz BIO_ddseq_SRR8310703__R2.FULL.fastq.gz BIO_ddseq_SRR8310704__R2.FULL.fastq.gz BIO_ddseq_SRR8310705__R2.FULL.fastq.gz BIO_ddseq_SRR8310706__R2.FULL.fastq.gz BIO_ddseq_SRR8310707__R2.FULL.fastq.gz BIO_ddseq_SRR8310708__R2.FULL.fastq.gz > BIO_ddseq_m1c6.FULL__R2.fastq.gz &\n",
      "\n",
      "\n",
      "cat BIO_ddseq_SRR8310709__R1.FULL.fastq.gz BIO_ddseq_SRR8310710__R1.FULL.fastq.gz BIO_ddseq_SRR8310711__R1.FULL.fastq.gz BIO_ddseq_SRR8310712__R1.FULL.fastq.gz BIO_ddseq_SRR8310713__R1.FULL.fastq.gz BIO_ddseq_SRR8310714__R1.FULL.fastq.gz BIO_ddseq_SRR8310715__R1.FULL.fastq.gz BIO_ddseq_SRR8310716__R1.FULL.fastq.gz > BIO_ddseq_m1c7.FULL__R1.fastq.gz &\n",
      "cat BIO_ddseq_SRR8310709__R2.FULL.fastq.gz BIO_ddseq_SRR8310710__R2.FULL.fastq.gz BIO_ddseq_SRR8310711__R2.FULL.fastq.gz BIO_ddseq_SRR8310712__R2.FULL.fastq.gz BIO_ddseq_SRR8310713__R2.FULL.fastq.gz BIO_ddseq_SRR8310714__R2.FULL.fastq.gz BIO_ddseq_SRR8310715__R2.FULL.fastq.gz BIO_ddseq_SRR8310716__R2.FULL.fastq.gz > BIO_ddseq_m1c7.FULL__R2.fastq.gz &\n",
      "\n",
      "\n",
      "cat BIO_ddseq_SRR8310717__R1.FULL.fastq.gz BIO_ddseq_SRR8310718__R1.FULL.fastq.gz BIO_ddseq_SRR8310719__R1.FULL.fastq.gz BIO_ddseq_SRR8310720__R1.FULL.fastq.gz > BIO_ddseq_m2c1.FULL__R1.fastq.gz &\n",
      "cat BIO_ddseq_SRR8310717__R2.FULL.fastq.gz BIO_ddseq_SRR8310718__R2.FULL.fastq.gz BIO_ddseq_SRR8310719__R2.FULL.fastq.gz BIO_ddseq_SRR8310720__R2.FULL.fastq.gz > BIO_ddseq_m2c1.FULL__R2.fastq.gz &\n",
      "\n",
      "\n",
      "cat BIO_ddseq_SRR8310721__R1.FULL.fastq.gz BIO_ddseq_SRR8310722__R1.FULL.fastq.gz BIO_ddseq_SRR8310723__R1.FULL.fastq.gz BIO_ddseq_SRR8310724__R1.FULL.fastq.gz > BIO_ddseq_m2c2.FULL__R1.fastq.gz &\n",
      "cat BIO_ddseq_SRR8310721__R2.FULL.fastq.gz BIO_ddseq_SRR8310722__R2.FULL.fastq.gz BIO_ddseq_SRR8310723__R2.FULL.fastq.gz BIO_ddseq_SRR8310724__R2.FULL.fastq.gz > BIO_ddseq_m2c2.FULL__R2.fastq.gz &\n",
      "\n",
      "\n",
      "cat BIO_ddseq_SRR8310725__R1.FULL.fastq.gz BIO_ddseq_SRR8310726__R1.FULL.fastq.gz BIO_ddseq_SRR8310727__R1.FULL.fastq.gz BIO_ddseq_SRR8310728__R1.FULL.fastq.gz > BIO_ddseq_m2c3.FULL__R1.fastq.gz &\n",
      "cat BIO_ddseq_SRR8310725__R2.FULL.fastq.gz BIO_ddseq_SRR8310726__R2.FULL.fastq.gz BIO_ddseq_SRR8310727__R2.FULL.fastq.gz BIO_ddseq_SRR8310728__R2.FULL.fastq.gz > BIO_ddseq_m2c3.FULL__R2.fastq.gz &\n",
      "\n",
      "\n",
      "cat BIO_ddseq_SRR8310729__R1.FULL.fastq.gz BIO_ddseq_SRR8310730__R1.FULL.fastq.gz BIO_ddseq_SRR8310731__R1.FULL.fastq.gz BIO_ddseq_SRR8310732__R1.FULL.fastq.gz > BIO_ddseq_m2c4.FULL__R1.fastq.gz &\n",
      "cat BIO_ddseq_SRR8310729__R2.FULL.fastq.gz BIO_ddseq_SRR8310730__R2.FULL.fastq.gz BIO_ddseq_SRR8310731__R2.FULL.fastq.gz BIO_ddseq_SRR8310732__R2.FULL.fastq.gz > BIO_ddseq_m2c4.FULL__R2.fastq.gz &\n",
      "\n",
      "\n",
      "cat BIO_ddseq_SRR8994079__R1.FULL.fastq.gz BIO_ddseq_SRR8994080__R1.FULL.fastq.gz BIO_ddseq_SRR8994081__R1.FULL.fastq.gz BIO_ddseq_SRR8994082__R1.FULL.fastq.gz BIO_ddseq_SRR8994083__R1.FULL.fastq.gz BIO_ddseq_SRR8994084__R1.FULL.fastq.gz BIO_ddseq_SRR8994085__R1.FULL.fastq.gz BIO_ddseq_SRR8994086__R1.FULL.fastq.gz > BIO_ddseq_m1c8.FULL__R1.fastq.gz &\n",
      "cat BIO_ddseq_SRR8994079__R2.FULL.fastq.gz BIO_ddseq_SRR8994080__R2.FULL.fastq.gz BIO_ddseq_SRR8994081__R2.FULL.fastq.gz BIO_ddseq_SRR8994082__R2.FULL.fastq.gz BIO_ddseq_SRR8994083__R2.FULL.fastq.gz BIO_ddseq_SRR8994084__R2.FULL.fastq.gz BIO_ddseq_SRR8994085__R2.FULL.fastq.gz BIO_ddseq_SRR8994086__R2.FULL.fastq.gz > BIO_ddseq_m1c8.FULL__R2.fastq.gz &\n",
      "\n",
      "\n"
     ]
    }
   ],
   "source": [
    "for sample in alias_dict_rev.keys():\n",
    "    r1_list = []\n",
    "    r2_list = []\n",
    "    for subsample in alias_dict_rev[sample]:\n",
    "        r1_file = f\"BIO_ddseq_{subsample}__R1.FULL.fastq.gz\"\n",
    "        r1_list.append(r1_file)\n",
    "        r2_file = f\"BIO_ddseq_{subsample}__R2.FULL.fastq.gz\"\n",
    "        r2_list.append(r2_file)\n",
    "    \n",
    "    print(f\"cat {' '.join(r1_list)} > {sample}__R1.fastq.gz &\")\n",
    "    print(f\"cat {' '.join(r2_list)} > {sample}__R2.fastq.gz &\")\n",
    "\n",
    "    print(\"\\n\")"
   ]
  },
  {
   "cell_type": "code",
   "execution_count": 7,
   "id": "b2af836d",
   "metadata": {
    "execution": {
     "iopub.execute_input": "2022-10-13T13:41:15.260264Z",
     "iopub.status.busy": "2022-10-13T13:41:15.259399Z",
     "iopub.status.idle": "2022-10-13T13:41:15.282615Z",
     "shell.execute_reply": "2022-10-13T13:41:15.281488Z",
     "shell.execute_reply.started": "2022-10-13T13:41:15.260206Z"
    }
   },
   "outputs": [
    {
     "data": {
      "text/plain": [
       "['BIO_ddseq_SRR8994079__R1.FULL.fastq.gz',\n",
       " 'BIO_ddseq_SRR8994080__R1.FULL.fastq.gz',\n",
       " 'BIO_ddseq_SRR8994081__R1.FULL.fastq.gz',\n",
       " 'BIO_ddseq_SRR8994082__R1.FULL.fastq.gz',\n",
       " 'BIO_ddseq_SRR8994083__R1.FULL.fastq.gz',\n",
       " 'BIO_ddseq_SRR8994084__R1.FULL.fastq.gz',\n",
       " 'BIO_ddseq_SRR8994085__R1.FULL.fastq.gz',\n",
       " 'BIO_ddseq_SRR8994086__R1.FULL.fastq.gz']"
      ]
     },
     "execution_count": 7,
     "metadata": {},
     "output_type": "execute_result"
    }
   ],
   "source": [
    "r1_list"
   ]
  },
  {
   "cell_type": "code",
   "execution_count": 12,
   "id": "b00ec1bf",
   "metadata": {
    "execution": {
     "iopub.execute_input": "2022-10-13T13:42:28.552236Z",
     "iopub.status.busy": "2022-10-13T13:42:28.551358Z",
     "iopub.status.idle": "2022-10-13T13:42:28.561742Z",
     "shell.execute_reply": "2022-10-13T13:42:28.560389Z",
     "shell.execute_reply.started": "2022-10-13T13:42:28.552175Z"
    },
    "tags": []
   },
   "outputs": [
    {
     "data": {
      "text/plain": [
       "'BIO_ddseq_SRR8994079__R1.FULL.fastq.gz BIO_ddseq_SRR8994080__R1.FULL.fastq.gz BIO_ddseq_SRR8994081__R1.FULL.fastq.gz BIO_ddseq_SRR8994082__R1.FULL.fastq.gz BIO_ddseq_SRR8994083__R1.FULL.fastq.gz BIO_ddseq_SRR8994084__R1.FULL.fastq.gz BIO_ddseq_SRR8994085__R1.FULL.fastq.gz BIO_ddseq_SRR8994086__R1.FULL.fastq.gz'"
      ]
     },
     "execution_count": 12,
     "metadata": {},
     "output_type": "execute_result"
    }
   ],
   "source": [
    "' '.join(r2_list)"
   ]
  },
  {
   "cell_type": "code",
   "execution_count": null,
   "id": "52061a4d",
   "metadata": {},
   "outputs": [],
   "source": []
  }
 ],
 "metadata": {
  "kernelspec": {
   "display_name": "20220628_pycistopic.sif",
   "language": "python",
   "name": "cistopic_20220628"
  },
  "language_info": {
   "codemirror_mode": {
    "name": "ipython",
    "version": 3
   },
   "file_extension": ".py",
   "mimetype": "text/x-python",
   "name": "python",
   "nbconvert_exporter": "python",
   "pygments_lexer": "ipython3",
   "version": "3.8.13"
  }
 },
 "nbformat": 4,
 "nbformat_minor": 5
}

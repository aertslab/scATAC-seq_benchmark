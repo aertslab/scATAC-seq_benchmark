{
 "cells": [
  {
   "cell_type": "markdown",
   "id": "f8bb8f1e-8843-4d09-9e1e-cff899c37d0b",
   "metadata": {},
   "source": [
    "# Generate tables for GEO metadata"
   ]
  },
  {
   "cell_type": "code",
   "execution_count": 306,
   "id": "5bc5fa4a-4773-4690-9d07-29adecbd23ba",
   "metadata": {
    "execution": {
     "iopub.execute_input": "2023-03-16T17:16:43.746539Z",
     "iopub.status.busy": "2023-03-16T17:16:43.745736Z",
     "iopub.status.idle": "2023-03-16T17:16:43.758207Z",
     "shell.execute_reply": "2023-03-16T17:16:43.756722Z",
     "shell.execute_reply.started": "2023-03-16T17:16:43.746483Z"
    },
    "tags": []
   },
   "outputs": [
    {
     "name": "stdout",
     "output_type": "stream",
     "text": [
      "The lab_black extension is already loaded. To reload it, use:\n",
      "  %reload_ext lab_black\n"
     ]
    }
   ],
   "source": [
    "import os\n",
    "import glob\n",
    "import pandas as pd\n",
    "\n",
    "%load_ext lab_black"
   ]
  },
  {
   "cell_type": "code",
   "execution_count": 418,
   "id": "733eea5b-ebcb-4915-bb7f-e3f30f071be4",
   "metadata": {
    "execution": {
     "iopub.execute_input": "2023-03-16T18:22:24.625769Z",
     "iopub.status.busy": "2023-03-16T18:22:24.625015Z",
     "iopub.status.idle": "2023-03-16T18:22:24.658471Z",
     "shell.execute_reply": "2023-03-16T18:22:24.657386Z",
     "shell.execute_reply.started": "2023-03-16T18:22:24.625715Z"
    },
    "tags": []
   },
   "outputs": [],
   "source": [
    "sample_id_short_alias_dict = {\n",
    "    \"BIO_ddseq_1\": \"ddSEQ Bi1\",\n",
    "    \"BIO_ddseq_2\": \"ddSEQ Bi2\",\n",
    "    \"BIO_ddseq_3\": \"ddSEQ Bi3\",\n",
    "    \"BIO_ddseq_4\": \"ddSEQ Bi4\",\n",
    "    \"BRO_mtscatac_1\": \"mtscATAC Br1\",\n",
    "    \"BRO_mtscatac_2\": \"mtscATAC Br2\",\n",
    "    \"CNA_10xmultiome_1\": \"MO C1\",\n",
    "    \"CNA_10xmultiome_2\": \"MO C2\",\n",
    "    \"CNA_10xv11_1\": \"v1.1 C1\",\n",
    "    \"CNA_10xv11_2\": \"v1.1 C2\",\n",
    "    \"CNA_10xv11_3\": \"v1.1 C3\",\n",
    "    \"CNA_10xv11_4\": \"v1.1 C4\",\n",
    "    \"CNA_10xv11_5\": \"v1.1 C5\",\n",
    "    \"CNA_10xv2_1\": \"v2 C1\",\n",
    "    \"CNA_ddseq_1\": \"DONOTUSE\",\n",
    "    \"CNA_ddseq_2\": \"DONOTUSE\",\n",
    "    \"CNA_10xv2_1\": \"v2 C1\",\n",
    "    \"CNA_10xv2_2\": \"v2 C2\",\n",
    "    \"CNA_hydrop_1\": \"HyDrop C1\",\n",
    "    \"CNA_hydrop_2\": \"HyDrop C2\",\n",
    "    \"CNA_hydrop_3\": \"HyDrop C3\",\n",
    "    \"CNA_mtscatac_1\": \"mtscATAC C1\",\n",
    "    \"CNA_mtscatac_2\": \"mtscATAC C2\",\n",
    "    \"EPF_hydrop_1\": \"HyDrop E1\",\n",
    "    \"EPF_hydrop_2\": \"HyDrop E2\",\n",
    "    \"EPF_hydrop_3\": \"HyDrop E3\",\n",
    "    \"EPF_hydrop_4\": \"HyDrop E4\",\n",
    "    \"HAR_ddseq_1\": \"ddSEQ H1\",\n",
    "    \"HAR_ddseq_2\": \"ddSEQ H2\",\n",
    "    \"MDC_mtscatac_1\": \"mtscATAC M1\",\n",
    "    \"MDC_mtscatac_2\": \"mtscATAC M2\",\n",
    "    \"OHS_s3atac_1\": \"s3 O1\",\n",
    "    \"OHS_s3atac_2\": \"s3 O2\",\n",
    "    \"SAN_10xmultiome_1\": \"MO Sa1\",\n",
    "    \"SAN_10xmultiome_2\": \"MO Sa2\",\n",
    "    \"STA_10xv11_1\": \"v1.1 St1\",\n",
    "    \"STA_10xv11_2\": \"v1.1 St2\",\n",
    "    \"TXG_10xv11_1\": \"v1.1 T1\",\n",
    "    \"TXG_10xv2_1\": \"v2 T1\",\n",
    "    \"TXG_10xv2_2\": \"v2 T2\",\n",
    "    \"UCS_ddseq_1\": \"ddSEQ U1\",\n",
    "    \"UCS_ddseq_2\": \"ddSEQ U2\",\n",
    "    \"VIB_10xmultiome_1\": \"MO V1\",\n",
    "    \"VIB_10xmultiome_2\": \"MO V2\",\n",
    "    \"VIB_10xv1_1\": \"v1 V1\",\n",
    "    \"VIB_10xv1_2\": \"v1 V2\",\n",
    "    \"VIB_10xv2_1\": \"v2 V1\",\n",
    "    \"VIB_10xv2_2\": \"v2 V2\",\n",
    "    \"VIB_hydrop_1\": \"HyDrop V1\",\n",
    "    \"VIB_hydrop_2\": \"HyDrop V2\",\n",
    "    \"VIB_hydrop_11\": \"HyDrop V1\",\n",
    "    \"VIB_hydrop_12\": \"HyDrop V1\",\n",
    "    \"VIB_hydrop_21\": \"HyDrop V2\",\n",
    "    \"VIB_hydrop_22\": \"HyDrop V2\",\n",
    "}"
   ]
  },
  {
   "cell_type": "code",
   "execution_count": 419,
   "id": "c6d8c016-c976-49fc-aa6c-49c561a90478",
   "metadata": {
    "execution": {
     "iopub.execute_input": "2023-03-16T18:22:24.807278Z",
     "iopub.status.busy": "2023-03-16T18:22:24.806522Z",
     "iopub.status.idle": "2023-03-16T18:22:24.842772Z",
     "shell.execute_reply": "2023-03-16T18:22:24.841804Z",
     "shell.execute_reply.started": "2023-03-16T18:22:24.807222Z"
    },
    "tags": []
   },
   "outputs": [],
   "source": [
    "filepaths = sorted(glob.glob(\"full_fastq/*.fastq.gz\"))\n",
    "\n",
    "techs = set([x.split(\"/\")[-1].split(\"_\")[1] for x in filepaths])\n",
    "\n",
    "df = pd.DataFrame(filepaths, columns=[\"path\"])\n",
    "df[\"path\"] = [x.split(\"/\")[1] for x in df[\"path\"]]\n",
    "\n",
    "df[\"sample\"] = [x.split(\"/\")[-1].split(\"__\")[0] for x in df[\"path\"]]\n",
    "df[\"read\"] = [x.split(\"/\")[-1].split(\"__\")[1].split(\".\")[0] for x in df[\"path\"]]\n",
    "\n",
    "df_pivot = df.pivot(index=\"sample\", columns=\"read\")\n",
    "\n",
    "df_pivot[\"tech\"] = [x.split(\"_\")[1] for x in df_pivot.index]"
   ]
  },
  {
   "cell_type": "code",
   "execution_count": 420,
   "id": "a187ff56-0015-474c-a6e1-010266203f49",
   "metadata": {
    "execution": {
     "iopub.execute_input": "2023-03-16T18:22:25.151382Z",
     "iopub.status.busy": "2023-03-16T18:22:25.150595Z",
     "iopub.status.idle": "2023-03-16T18:22:25.162494Z",
     "shell.execute_reply": "2023-03-16T18:22:25.161034Z",
     "shell.execute_reply.started": "2023-03-16T18:22:25.151327Z"
    },
    "tags": []
   },
   "outputs": [],
   "source": [
    "df_pivot = df_pivot.drop([\"CNA_ddseq_1\", \"CNA_ddseq_2\"], axis=0)"
   ]
  },
  {
   "cell_type": "code",
   "execution_count": 421,
   "id": "c073b216-f7e3-4f75-9d1d-6aa846a60f30",
   "metadata": {
    "execution": {
     "iopub.execute_input": "2023-03-16T18:22:25.495501Z",
     "iopub.status.busy": "2023-03-16T18:22:25.494763Z",
     "iopub.status.idle": "2023-03-16T18:22:25.506253Z",
     "shell.execute_reply": "2023-03-16T18:22:25.504748Z",
     "shell.execute_reply.started": "2023-03-16T18:22:25.495448Z"
    },
    "tags": []
   },
   "outputs": [],
   "source": [
    "df_pivot = df_pivot.drop([\"VIB_mtscatac_1\", \"VIB_mtscatac_2\"], axis=0)"
   ]
  },
  {
   "cell_type": "code",
   "execution_count": 422,
   "id": "26dd5a98-0aad-475f-9947-88443fa0c328",
   "metadata": {
    "execution": {
     "iopub.execute_input": "2023-03-16T18:22:25.777572Z",
     "iopub.status.busy": "2023-03-16T18:22:25.776831Z",
     "iopub.status.idle": "2023-03-16T18:22:25.828561Z",
     "shell.execute_reply": "2023-03-16T18:22:25.827088Z",
     "shell.execute_reply.started": "2023-03-16T18:22:25.777519Z"
    },
    "tags": []
   },
   "outputs": [],
   "source": [
    "filepaths = sorted(glob.glob(\"full_fragments/*.tsv.gz\"))\n",
    "\n",
    "techs = set([x.split(\"/\")[-1].split(\"_\")[1] for x in filepaths])\n",
    "\n",
    "df_fixedcells = pd.DataFrame(filepaths, columns=[\"path\"])\n",
    "df_fixedcells[\"path\"] = [x.split(\"/\")[1] for x in df_fixedcells[\"path\"]]\n",
    "\n",
    "df_fixedcells[\"sample\"] = [\n",
    "    x.split(\"/\")[-1].split(\".\")[0] for x in df_fixedcells[\"path\"]\n",
    "]\n",
    "df_fixedcells.index = df_fixedcells[\"sample\"]\n",
    "df_fixedcells = df_fixedcells.drop(\"sample\", axis=1)\n",
    "df = df_fixedcells.copy()\n",
    "\n",
    "filepaths = sorted(glob.glob(\"full_fragments/*tbi\"))\n",
    "df_fixedcells = pd.DataFrame(filepaths, columns=[\"path\"])\n",
    "df_fixedcells[\"path\"] = [x.split(\"/\")[1] for x in df_fixedcells[\"path\"]]\n",
    "\n",
    "df_fixedcells[\"sample\"] = [\n",
    "    x.split(\"/\")[-1].split(\".\")[0] for x in df_fixedcells[\"path\"]\n",
    "]\n",
    "df_fixedcells.index = df_fixedcells[\"sample\"]\n",
    "\n",
    "\n",
    "df[\"tbi\"] = df_fixedcells[\"path\"]\n",
    "\n",
    "filepaths = sorted(glob.glob(\"fixedcells_fragments/*fragments.tsv.gz\"))\n",
    "df_fixedcells = pd.DataFrame(filepaths, columns=[\"path\"])\n",
    "df_fixedcells[\"path\"] = [x.split(\"/\")[1] for x in df_fixedcells[\"path\"]]\n",
    "\n",
    "df_fixedcells[\"sample\"] = [\n",
    "    x.split(\"/\")[-1].split(\".\")[0] for x in df_fixedcells[\"path\"]\n",
    "]\n",
    "df_fixedcells.index = df_fixedcells[\"sample\"]\n",
    "df[\"fragments_fixedcells\"] = df_fixedcells[\"path\"]\n",
    "filepaths = sorted(glob.glob(\"fixedcells_fragments/*tbi\"))\n",
    "df_fixedcells = pd.DataFrame(filepaths, columns=[\"path\"])\n",
    "df_fixedcells[\"path\"] = [x.split(\"/\")[1] for x in df_fixedcells[\"path\"]]\n",
    "\n",
    "df_fixedcells[\"sample\"] = [\n",
    "    x.split(\"/\")[-1].split(\".\")[0] for x in df_fixedcells[\"path\"]\n",
    "]\n",
    "df_fixedcells.index = df_fixedcells[\"sample\"]\n",
    "\n",
    "\n",
    "df[\"tbi_fixedcells\"] = df_fixedcells[\"path\"]"
   ]
  },
  {
   "cell_type": "code",
   "execution_count": 423,
   "id": "3b9d67d8-3123-4469-964c-1a60fa0f908b",
   "metadata": {
    "execution": {
     "iopub.execute_input": "2023-03-16T18:22:26.182078Z",
     "iopub.status.busy": "2023-03-16T18:22:26.181322Z",
     "iopub.status.idle": "2023-03-16T18:22:26.193024Z",
     "shell.execute_reply": "2023-03-16T18:22:26.191647Z",
     "shell.execute_reply.started": "2023-03-16T18:22:26.182026Z"
    },
    "tags": []
   },
   "outputs": [],
   "source": [
    "df = df.drop([\"CNA_ddseq_1\", \"CNA_ddseq_2\"], axis=0)"
   ]
  },
  {
   "cell_type": "markdown",
   "id": "23e24b86-a751-4e58-a87f-b4a6ac22eb41",
   "metadata": {
    "execution": {
     "iopub.execute_input": "2023-03-16T15:55:55.608940Z",
     "iopub.status.busy": "2023-03-16T15:55:55.608072Z",
     "iopub.status.idle": "2023-03-16T15:55:55.616345Z",
     "shell.execute_reply": "2023-03-16T15:55:55.614901Z",
     "shell.execute_reply.started": "2023-03-16T15:55:55.608881Z"
    }
   },
   "source": [
    "# check for individual techs"
   ]
  },
  {
   "cell_type": "code",
   "execution_count": 407,
   "id": "9d77c60f-2a4f-4e14-a51f-6d9b1f7aa0f3",
   "metadata": {
    "execution": {
     "iopub.execute_input": "2023-03-16T18:21:48.560362Z",
     "iopub.status.busy": "2023-03-16T18:21:48.559496Z",
     "iopub.status.idle": "2023-03-16T18:21:48.568469Z",
     "shell.execute_reply": "2023-03-16T18:21:48.567003Z",
     "shell.execute_reply.started": "2023-03-16T18:21:48.560304Z"
    },
    "tags": []
   },
   "outputs": [],
   "source": [
    "tech = \"s3atac\""
   ]
  },
  {
   "cell_type": "code",
   "execution_count": 408,
   "id": "d8e425b5-f33a-4a59-bc6b-b6d15204a003",
   "metadata": {
    "execution": {
     "iopub.execute_input": "2023-03-16T18:21:48.712314Z",
     "iopub.status.busy": "2023-03-16T18:21:48.711554Z",
     "iopub.status.idle": "2023-03-16T18:21:48.725790Z",
     "shell.execute_reply": "2023-03-16T18:21:48.724405Z",
     "shell.execute_reply.started": "2023-03-16T18:21:48.712259Z"
    },
    "tags": []
   },
   "outputs": [
    {
     "name": "stdout",
     "output_type": "stream",
     "text": [
      "OHS_s3atac_1\n",
      "OHS_s3atac_2\n"
     ]
    }
   ],
   "source": [
    "for x in df_pivot[df_pivot[\"tech\"] == tech].index:\n",
    "    print(x)"
   ]
  },
  {
   "cell_type": "code",
   "execution_count": 409,
   "id": "38f96b9b-e8cc-486d-955c-882b2e24d84d",
   "metadata": {
    "execution": {
     "iopub.execute_input": "2023-03-16T18:21:49.199230Z",
     "iopub.status.busy": "2023-03-16T18:21:49.198482Z",
     "iopub.status.idle": "2023-03-16T18:21:49.213390Z",
     "shell.execute_reply": "2023-03-16T18:21:49.211836Z",
     "shell.execute_reply.started": "2023-03-16T18:21:49.199175Z"
    },
    "tags": []
   },
   "outputs": [
    {
     "name": "stdout",
     "output_type": "stream",
     "text": [
      "OHS s3atac 1 (s3 O1)\n",
      "OHS s3atac 2 (s3 O2)\n"
     ]
    }
   ],
   "source": [
    "for x in df_pivot[df_pivot[\"tech\"] == tech].index:\n",
    "    print(f'{\" \".join(x.split(\"_\")) + \" (\" + sample_id_short_alias_dict[x] + \")\"}')"
   ]
  },
  {
   "cell_type": "code",
   "execution_count": 410,
   "id": "59d629f7-a614-418f-9ee0-ec4146bb017d",
   "metadata": {
    "execution": {
     "iopub.execute_input": "2023-03-16T18:21:49.231942Z",
     "iopub.status.busy": "2023-03-16T18:21:49.231191Z",
     "iopub.status.idle": "2023-03-16T18:21:49.243352Z",
     "shell.execute_reply": "2023-03-16T18:21:49.241891Z",
     "shell.execute_reply.started": "2023-03-16T18:21:49.231887Z"
    },
    "tags": []
   },
   "outputs": [
    {
     "data": {
      "text/plain": [
       "[('path', 'R1'), ('path', 'R2'), ('path', 'R3'), ('tech', '')]"
      ]
     },
     "execution_count": 410,
     "metadata": {},
     "output_type": "execute_result"
    }
   ],
   "source": [
    "list(df_test.columns)"
   ]
  },
  {
   "cell_type": "code",
   "execution_count": 411,
   "id": "0e179c05-d4c9-46c6-b4ce-a03eee922902",
   "metadata": {
    "execution": {
     "iopub.execute_input": "2023-03-16T18:21:49.289252Z",
     "iopub.status.busy": "2023-03-16T18:21:49.288495Z",
     "iopub.status.idle": "2023-03-16T18:21:49.317172Z",
     "shell.execute_reply": "2023-03-16T18:21:49.315883Z",
     "shell.execute_reply.started": "2023-03-16T18:21:49.289198Z"
    },
    "tags": []
   },
   "outputs": [
    {
     "data": {
      "text/html": [
       "<div>\n",
       "<style scoped>\n",
       "    .dataframe tbody tr th:only-of-type {\n",
       "        vertical-align: middle;\n",
       "    }\n",
       "\n",
       "    .dataframe tbody tr th {\n",
       "        vertical-align: top;\n",
       "    }\n",
       "\n",
       "    .dataframe thead tr th {\n",
       "        text-align: left;\n",
       "    }\n",
       "\n",
       "    .dataframe thead tr:last-of-type th {\n",
       "        text-align: right;\n",
       "    }\n",
       "</style>\n",
       "<table border=\"1\" class=\"dataframe\">\n",
       "  <thead>\n",
       "    <tr>\n",
       "      <th></th>\n",
       "      <th colspan=\"3\" halign=\"left\">path</th>\n",
       "    </tr>\n",
       "    <tr>\n",
       "      <th>read</th>\n",
       "      <th>R1</th>\n",
       "      <th>R2</th>\n",
       "      <th>R3</th>\n",
       "    </tr>\n",
       "    <tr>\n",
       "      <th>sample</th>\n",
       "      <th></th>\n",
       "      <th></th>\n",
       "      <th></th>\n",
       "    </tr>\n",
       "  </thead>\n",
       "  <tbody>\n",
       "    <tr>\n",
       "      <th>OHS_s3atac_1</th>\n",
       "      <td>OHS_s3atac_1__R1.FULL.fastq.gz</td>\n",
       "      <td>OHS_s3atac_1__R2.FULL.fastq.gz</td>\n",
       "      <td>OHS_s3atac_1__R3.FULL.fastq.gz</td>\n",
       "    </tr>\n",
       "    <tr>\n",
       "      <th>OHS_s3atac_2</th>\n",
       "      <td>OHS_s3atac_2__R1.FULL.fastq.gz</td>\n",
       "      <td>OHS_s3atac_2__R2.FULL.fastq.gz</td>\n",
       "      <td>OHS_s3atac_2__R3.FULL.fastq.gz</td>\n",
       "    </tr>\n",
       "  </tbody>\n",
       "</table>\n",
       "</div>"
      ],
      "text/plain": [
       "                                        path                                  \\\n",
       "read                                      R1                              R2   \n",
       "sample                                                                         \n",
       "OHS_s3atac_1  OHS_s3atac_1__R1.FULL.fastq.gz  OHS_s3atac_1__R2.FULL.fastq.gz   \n",
       "OHS_s3atac_2  OHS_s3atac_2__R1.FULL.fastq.gz  OHS_s3atac_2__R2.FULL.fastq.gz   \n",
       "\n",
       "                                              \n",
       "read                                      R3  \n",
       "sample                                        \n",
       "OHS_s3atac_1  OHS_s3atac_1__R3.FULL.fastq.gz  \n",
       "OHS_s3atac_2  OHS_s3atac_2__R3.FULL.fastq.gz  "
      ]
     },
     "execution_count": 411,
     "metadata": {},
     "output_type": "execute_result"
    }
   ],
   "source": [
    "df_test = df_pivot[df_pivot[\"tech\"] == tech]\n",
    "df_test[[(\"path\", \"R1\"), (\"path\", \"R2\"), (\"path\", \"R3\")]]"
   ]
  },
  {
   "cell_type": "markdown",
   "id": "83c65bb6-b885-4ee4-a379-1fa16544df96",
   "metadata": {},
   "source": [
    "# now fragments files"
   ]
  },
  {
   "cell_type": "code",
   "execution_count": 424,
   "id": "daeb4267-44dc-4552-94db-8bcc89f2bd71",
   "metadata": {
    "execution": {
     "iopub.execute_input": "2023-03-16T18:22:29.117265Z",
     "iopub.status.busy": "2023-03-16T18:22:29.116508Z",
     "iopub.status.idle": "2023-03-16T18:22:29.128487Z",
     "shell.execute_reply": "2023-03-16T18:22:29.127012Z",
     "shell.execute_reply.started": "2023-03-16T18:22:29.117210Z"
    },
    "tags": []
   },
   "outputs": [],
   "source": [
    "df[\"tech\"] = [x.split(\"_\")[1] for x in df.index]"
   ]
  },
  {
   "cell_type": "code",
   "execution_count": 425,
   "id": "e9391fc7-a9f1-476a-a413-338117eeca1d",
   "metadata": {
    "execution": {
     "iopub.execute_input": "2023-03-16T18:22:29.746655Z",
     "iopub.status.busy": "2023-03-16T18:22:29.745912Z",
     "iopub.status.idle": "2023-03-16T18:22:29.773095Z",
     "shell.execute_reply": "2023-03-16T18:22:29.771527Z",
     "shell.execute_reply.started": "2023-03-16T18:22:29.746600Z"
    },
    "tags": []
   },
   "outputs": [
    {
     "data": {
      "text/html": [
       "<div>\n",
       "<style scoped>\n",
       "    .dataframe tbody tr th:only-of-type {\n",
       "        vertical-align: middle;\n",
       "    }\n",
       "\n",
       "    .dataframe tbody tr th {\n",
       "        vertical-align: top;\n",
       "    }\n",
       "\n",
       "    .dataframe thead th {\n",
       "        text-align: right;\n",
       "    }\n",
       "</style>\n",
       "<table border=\"1\" class=\"dataframe\">\n",
       "  <thead>\n",
       "    <tr style=\"text-align: right;\">\n",
       "      <th></th>\n",
       "      <th>path</th>\n",
       "      <th>tbi</th>\n",
       "      <th>fragments_fixedcells</th>\n",
       "      <th>tbi_fixedcells</th>\n",
       "    </tr>\n",
       "    <tr>\n",
       "      <th>sample</th>\n",
       "      <th></th>\n",
       "      <th></th>\n",
       "      <th></th>\n",
       "      <th></th>\n",
       "    </tr>\n",
       "  </thead>\n",
       "  <tbody>\n",
       "    <tr>\n",
       "      <th>OHS_s3atac_1</th>\n",
       "      <td>OHS_s3atac_1.FULL.fragments.tsv.gz</td>\n",
       "      <td>OHS_s3atac_1.FULL.fragments.tsv.gz.tbi</td>\n",
       "      <td>OHS_s3atac_1.FIXEDCELLS.fragments.tsv.gz</td>\n",
       "      <td>OHS_s3atac_1.FIXEDCELLS.fragments.tsv.gz.tbi</td>\n",
       "    </tr>\n",
       "    <tr>\n",
       "      <th>OHS_s3atac_2</th>\n",
       "      <td>OHS_s3atac_2.FULL.fragments.tsv.gz</td>\n",
       "      <td>OHS_s3atac_2.FULL.fragments.tsv.gz.tbi</td>\n",
       "      <td>OHS_s3atac_2.FIXEDCELLS.fragments.tsv.gz</td>\n",
       "      <td>OHS_s3atac_2.FIXEDCELLS.fragments.tsv.gz.tbi</td>\n",
       "    </tr>\n",
       "  </tbody>\n",
       "</table>\n",
       "</div>"
      ],
      "text/plain": [
       "                                            path  \\\n",
       "sample                                             \n",
       "OHS_s3atac_1  OHS_s3atac_1.FULL.fragments.tsv.gz   \n",
       "OHS_s3atac_2  OHS_s3atac_2.FULL.fragments.tsv.gz   \n",
       "\n",
       "                                                 tbi  \\\n",
       "sample                                                 \n",
       "OHS_s3atac_1  OHS_s3atac_1.FULL.fragments.tsv.gz.tbi   \n",
       "OHS_s3atac_2  OHS_s3atac_2.FULL.fragments.tsv.gz.tbi   \n",
       "\n",
       "                                  fragments_fixedcells  \\\n",
       "sample                                                   \n",
       "OHS_s3atac_1  OHS_s3atac_1.FIXEDCELLS.fragments.tsv.gz   \n",
       "OHS_s3atac_2  OHS_s3atac_2.FIXEDCELLS.fragments.tsv.gz   \n",
       "\n",
       "                                            tbi_fixedcells  \n",
       "sample                                                      \n",
       "OHS_s3atac_1  OHS_s3atac_1.FIXEDCELLS.fragments.tsv.gz.tbi  \n",
       "OHS_s3atac_2  OHS_s3atac_2.FIXEDCELLS.fragments.tsv.gz.tbi  "
      ]
     },
     "execution_count": 425,
     "metadata": {},
     "output_type": "execute_result"
    }
   ],
   "source": [
    "df[[\"path\", \"tbi\", \"fragments_fixedcells\", \"tbi_fixedcells\"]][df[\"tech\"] == tech]"
   ]
  },
  {
   "cell_type": "code",
   "execution_count": 426,
   "id": "763975f3-6d29-4307-ab4c-2fb69b63f786",
   "metadata": {
    "execution": {
     "iopub.execute_input": "2023-03-16T18:22:32.368259Z",
     "iopub.status.busy": "2023-03-16T18:22:32.367374Z",
     "iopub.status.idle": "2023-03-16T18:22:32.403968Z",
     "shell.execute_reply": "2023-03-16T18:22:32.402898Z",
     "shell.execute_reply.started": "2023-03-16T18:22:32.368201Z"
    },
    "tags": []
   },
   "outputs": [
    {
     "name": "stdout",
     "output_type": "stream",
     "text": [
      "path\n",
      "OHS_s3atac_1__R1.FULL.fastq.gz    d2fc826e2621c4b221903abb82ef4890\n",
      "OHS_s3atac_1__R2.FULL.fastq.gz    3226e16c646774acbde3045640326272\n",
      "OHS_s3atac_1__R3.FULL.fastq.gz    a78c7807e3340f1735a81b7c500b3f43\n",
      "OHS_s3atac_2__R1.FULL.fastq.gz    de7cc81883f0751c8cd8ad8b67b8225c\n",
      "OHS_s3atac_2__R2.FULL.fastq.gz    c7bb005955487aa4f10fa73660e70beb\n",
      "OHS_s3atac_2__R3.FULL.fastq.gz    c87bfd628b28de1e670032517a9e89d8\n",
      "Name: md5sum, dtype: object\n"
     ]
    },
    {
     "name": "stderr",
     "output_type": "stream",
     "text": [
      "/tmp/ipykernel_2788635/1756635566.py:1: ParserWarning: Falling back to the 'python' engine because the 'c' engine does not support regex separators (separators > 1 char and different from '\\s+' are interpreted as regex); you can avoid this warning by specifying engine='python'.\n",
      "  md5sums_df = pd.read_csv(\n"
     ]
    }
   ],
   "source": [
    "md5sums_df = pd.read_csv(\n",
    "    \"full_fastq/md5sum.txt\",\n",
    "    sep=\"  \",\n",
    "    header=None,\n",
    ")\n",
    "md5sums_df.columns = [\"md5sum\", \"path\"]\n",
    "md5sums_df[\"path\"] = [x.split(\"/\")[-1] for x in md5sums_df[\"path\"]]\n",
    "md5sums_df.index = md5sums_df[\"path\"]\n",
    "\n",
    "md5sums_df.columns = [\"md5sum\", \"path_original\"]\n",
    "\n",
    "md5sums_df = md5sums_df.sort_values(by=\"path_original\")\n",
    "with pd.option_context(\n",
    "    \"display.max_rows\",\n",
    "    None,\n",
    "):\n",
    "    print(md5sums_df.loc[[x for x in md5sums_df.index if tech in x]][\"md5sum\"])"
   ]
  },
  {
   "cell_type": "code",
   "execution_count": 427,
   "id": "ebbac0c3-7ca6-4cae-a823-ae14779d6949",
   "metadata": {
    "execution": {
     "iopub.execute_input": "2023-03-16T18:22:32.527039Z",
     "iopub.status.busy": "2023-03-16T18:22:32.526275Z",
     "iopub.status.idle": "2023-03-16T18:22:32.569314Z",
     "shell.execute_reply": "2023-03-16T18:22:32.568324Z",
     "shell.execute_reply.started": "2023-03-16T18:22:32.526984Z"
    },
    "tags": []
   },
   "outputs": [
    {
     "name": "stdout",
     "output_type": "stream",
     "text": [
      "path\n",
      "OHS_s3atac_1.FULL.fragments.tsv.gz        c3ca12f129dd1049caef383634f42311\n",
      "OHS_s3atac_1.FULL.fragments.tsv.gz.tbi    59d784f0796b23c8c283952b54eb0fcf\n",
      "OHS_s3atac_2.FULL.fragments.tsv.gz        90d92d65a4c2a1e7b98cd00e76df54a5\n",
      "OHS_s3atac_2.FULL.fragments.tsv.gz.tbi    6c39dd1550d4543943fc084cab5340aa\n",
      "Name: md5sum, dtype: object\n",
      "path\n",
      "OHS_s3atac_1.FIXEDCELLS.fragments.tsv.gz        56517410cbac8ec591532992280641b2\n",
      "OHS_s3atac_1.FIXEDCELLS.fragments.tsv.gz.tbi    94a6fcf608ced24123bf6b6f82d5f44e\n",
      "OHS_s3atac_2.FIXEDCELLS.fragments.tsv.gz        fa23ef9afd26197186481601727b6623\n",
      "OHS_s3atac_2.FIXEDCELLS.fragments.tsv.gz.tbi    f1609bf0408a5993234d0a68eabb3de3\n",
      "Name: md5sum, dtype: object\n"
     ]
    },
    {
     "name": "stderr",
     "output_type": "stream",
     "text": [
      "/tmp/ipykernel_2788635/3517813475.py:1: ParserWarning: Falling back to the 'python' engine because the 'c' engine does not support regex separators (separators > 1 char and different from '\\s+' are interpreted as regex); you can avoid this warning by specifying engine='python'.\n",
      "  md5sums_df = pd.read_csv(\n",
      "/tmp/ipykernel_2788635/3517813475.py:19: ParserWarning: Falling back to the 'python' engine because the 'c' engine does not support regex separators (separators > 1 char and different from '\\s+' are interpreted as regex); you can avoid this warning by specifying engine='python'.\n",
      "  md5sums_df = pd.read_csv(\n"
     ]
    }
   ],
   "source": [
    "md5sums_df = pd.read_csv(\n",
    "    \"full_fragments/md5sum.txt\",\n",
    "    sep=\"  \",\n",
    "    header=None,\n",
    ")\n",
    "md5sums_df.columns = [\"md5sum\", \"path\"]\n",
    "md5sums_df[\"path\"] = [x.split(\"/\")[-1] for x in md5sums_df[\"path\"]]\n",
    "md5sums_df.index = md5sums_df[\"path\"]\n",
    "\n",
    "md5sums_df.columns = [\"md5sum\", \"path_original\"]\n",
    "\n",
    "md5sums_df = md5sums_df.sort_values(by=\"path_original\")\n",
    "with pd.option_context(\n",
    "    \"display.max_rows\",\n",
    "    None,\n",
    "):\n",
    "    print(md5sums_df.loc[[x for x in md5sums_df.index if tech in x]][\"md5sum\"])\n",
    "\n",
    "md5sums_df = pd.read_csv(\n",
    "    \"fixedcells_fragments/md5sum.txt\",\n",
    "    sep=\"  \",\n",
    "    header=None,\n",
    ")\n",
    "md5sums_df.columns = [\"md5sum\", \"path\"]\n",
    "md5sums_df[\"path\"] = [x.split(\"/\")[-1] for x in md5sums_df[\"path\"]]\n",
    "md5sums_df.index = md5sums_df[\"path\"]\n",
    "\n",
    "md5sums_df.columns = [\"md5sum\", \"path_original\"]\n",
    "\n",
    "md5sums_df = md5sums_df.sort_values(by=\"path_original\")\n",
    "with pd.option_context(\n",
    "    \"display.max_rows\",\n",
    "    None,\n",
    "):\n",
    "    print(md5sums_df.loc[[x for x in md5sums_df.index if tech in x]][\"md5sum\"])"
   ]
  }
 ],
 "metadata": {
  "kernelspec": {
   "display_name": "20221014_pycistopic.sif",
   "language": "python",
   "name": "cistopic_20221014"
  },
  "language_info": {
   "codemirror_mode": {
    "name": "ipython",
    "version": 3
   },
   "file_extension": ".py",
   "mimetype": "text/x-python",
   "name": "python",
   "nbconvert_exporter": "python",
   "pygments_lexer": "ipython3",
   "version": "3.8.15"
  }
 },
 "nbformat": 4,
 "nbformat_minor": 5
}

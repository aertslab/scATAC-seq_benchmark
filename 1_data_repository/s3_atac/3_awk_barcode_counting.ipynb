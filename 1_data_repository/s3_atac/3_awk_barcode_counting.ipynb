{
 "cells": [
  {
   "cell_type": "code",
   "execution_count": 1,
   "metadata": {
    "tags": []
   },
   "outputs": [],
   "source": [
    "\n",
    "# module load mawk\n",
    "bc_count_raw () {\n",
    "    local fastq_R2_path=\"${1}\";\n",
    "    local fastq_R2_name=\"${fastq_R2_path#fastq/}\";\n",
    "    sample=(`basename $fastq_R2_path`);\n",
    "    zcat ${fastq_R2_path} \\\n",
    "      | mawk -F '\\t' -v sample=$sample\\\n",
    "        '\n",
    "        {\n",
    "            if (NR % 4 == 2) {\n",
    "                full_barcode[$1]++;\n",
    "            }\n",
    "        } END {\n",
    "            for (bc in full_barcode) {\n",
    "                print bc \"\\t\" full_barcode[bc] > \"bc_count_raw/\"sample\".bc_raw.tsv\";\n",
    "            }\n",
    "        }'\n",
    "\n",
    "\n",
    "sort -k 2,2nr bc_count_raw/$sample.bc_raw.tsv > bc_count_raw/$sample.bc_raw.sorted.tsv;\n",
    "rm bc_count_raw/$sample.bc_raw.tsv;\n",
    "}"
   ]
  },
  {
   "cell_type": "code",
   "execution_count": 2,
   "metadata": {},
   "outputs": [],
   "source": [
    "bc_count_raw s3atac_publicdata/s3ATAC_Mouse.2.fq.gz"
   ]
  },
  {
   "cell_type": "code",
   "execution_count": 19,
   "metadata": {},
   "outputs": [],
   "source": [
    "bc_count_raw () {\n",
    "    local fastq_R2_path=\"${1}\";\n",
    "    local fastq_R2_name=\"${fastq_R2_path#fastq/}\";\n",
    "    sample=(`basename $fastq_R2_path`);\n",
    "    zcat ${fastq_R2_path} \\\n",
    "      | mawk -F '\\t' -v sample=$sample\\\n",
    "        '\n",
    "        {\n",
    "            if (NR % 4 == 2) {\n",
    "                full_barcode[substr($1, 11, 10)]++;\n",
    "            }\n",
    "        } END {\n",
    "            for (bc in full_barcode) {\n",
    "                print bc \"\\t\" full_barcode[bc] > \"bc_count_raw/\"sample\".bc_raw.tsv\";\n",
    "            }\n",
    "        }'\n",
    "\n",
    "sort -k 2,2nr bc_count_raw/$sample.bc_raw.tsv > bc_count_raw/$sample.bc_raw.sorted.tsv;\n",
    "rm bc_count_raw/$sample.bc_raw.tsv;\n",
    "}"
   ]
  },
  {
   "cell_type": "code",
   "execution_count": 20,
   "metadata": {},
   "outputs": [],
   "source": [
    "bc_count_raw /dodrio/scratch/projects/starting_2022_023/benchmark/scatac_benchmark/1_data_repository/s3_atac/fastq/OHS_s3atac_1__R2.fastq.bgzipped.readfixed.gz"
   ]
  },
  {
   "cell_type": "code",
   "execution_count": null,
   "metadata": {},
   "outputs": [],
   "source": []
  }
 ],
 "metadata": {
  "kernelspec": {
   "display_name": "Bash",
   "language": "bash",
   "name": "bash"
  },
  "language_info": {
   "codemirror_mode": "shell",
   "file_extension": ".sh",
   "mimetype": "text/x-sh",
   "name": "bash"
  }
 },
 "nbformat": 4,
 "nbformat_minor": 4
}

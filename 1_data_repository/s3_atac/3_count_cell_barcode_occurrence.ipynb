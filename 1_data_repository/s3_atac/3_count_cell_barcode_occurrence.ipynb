{
 "cells": [
  {
   "cell_type": "code",
   "execution_count": 2,
   "id": "a7961a2b",
   "metadata": {},
   "outputs": [],
   "source": [
    "module load mawk\n",
    "bc_count_raw () {\n",
    "    local fastq_R2_path=\"${1}\";\n",
    "    local fastq_R2_name=\"${fastq_R2_path#fastq/}\";\n",
    "    sample=(`basename $fastq_R2_path`);\n",
    "    zcat ${fastq_R2_path} \\\n",
    "      | mawk -F '\\t' -v sample=$sample\\\n",
    "        '\n",
    "        {\n",
    "            if (NR % 4 == 2) {\n",
    "                full_barcode[substr($1, 1, 16)]++;\n",
    "            }\n",
    "        } END {\n",
    "            for (bc in full_barcode) {\n",
    "                print bc \"\\t\" full_barcode[bc] > \"bc_count_raw/\"sample\".bc_raw.tsv\";\n",
    "            }\n",
    "        }'\n",
    "\n",
    "sort -k 2,2nr bc_count_raw/$sample.bc_raw.tsv > bc_count_raw/$sample.bc_raw.sorted.tsv;\n",
    "rm bc_count_raw/$sample.bc_raw.tsv;\n",
    "}"
   ]
  },
  {
   "cell_type": "code",
   "execution_count": 4,
   "id": "07300c6d",
   "metadata": {},
   "outputs": [
    {
     "name": "stdout",
     "output_type": "stream",
     "text": [
      "mkdir: cannot create directory ‘bc_count_raw’: File exists\n",
      "[1] 8616\n",
      "[2] 8617\n",
      "[3] 8618\n",
      "[4] 8620\n",
      "[5] 8621\n",
      "[6] 8622\n",
      "[7] 8624\n",
      "[8] 8625\n",
      "[9] 8627\n",
      "[10] 8628\n",
      "[11] 8629\n",
      "[12] 8630\n",
      "[13] 8632\n",
      "[14] 8633\n",
      "[15] 8635\n",
      "[16] 8636\n",
      "[17] 8639\n",
      "[18] 8640\n",
      "[19] 8641\n",
      "[20] 8644\n",
      "[21] 8645\n",
      "[22] 8649\n",
      "[23] 8652\n",
      "[24] 8653\n"
     ]
    }
   ],
   "source": [
    "mkdir bc_count_raw\n",
    "for R2_fastq in fastq_split_2/*-a-*R2.fastq.gz\n",
    "do\n",
    "    bc_count_raw $R2_fastq &\n",
    "done"
   ]
  },
  {
   "cell_type": "code",
   "execution_count": 7,
   "id": "f287608f",
   "metadata": {},
   "outputs": [
    {
     "name": "stdout",
     "output_type": "stream",
     "text": [
      "mkdir: cannot create directory ‘bc_count_raw’: File exists\n",
      "[1] 13613\n",
      "[2] 13614\n",
      "[3] 13616\n",
      "[4] 13617\n",
      "[5] 13618\n",
      "[6] 13620\n",
      "[7] 13622\n",
      "[8] 13623\n",
      "[9] 13625\n",
      "[10] 13626\n",
      "[11] 13628\n",
      "[12] 13631\n",
      "[13] 13632\n",
      "[14] 13633\n",
      "[15] 13634\n",
      "[16] 13635\n",
      "[17] 13638\n",
      "[18] 13639\n",
      "[19] 13641\n",
      "[20] 13643\n",
      "[21] 13644\n",
      "[22] 13646\n",
      "[23] 13647\n",
      "[24] 13648\n"
     ]
    }
   ],
   "source": [
    "mkdir bc_count_raw\n",
    "for R2_fastq in fastq_split_2/*-b-*R2.fastq.gz\n",
    "do\n",
    "    bc_count_raw $R2_fastq &\n",
    "done"
   ]
  },
  {
   "cell_type": "code",
   "execution_count": null,
   "id": "d0292ebd",
   "metadata": {},
   "outputs": [],
   "source": [
    "mkdir bc_count_raw\n",
    "for R2_fastq in fastq_split_2/*-c-*R2.fastq.gz\n",
    "do\n",
    "    bc_count_raw $R2_fastq &\n",
    "done"
   ]
  },
  {
   "cell_type": "code",
   "execution_count": null,
   "id": "b8db8e71",
   "metadata": {},
   "outputs": [],
   "source": [
    "mkdir bc_count_raw\n",
    "for R2_fastq in fastq_split_2/*-d-*R2.fastq.gz\n",
    "do\n",
    "    bc_count_raw $R2_fastq &\n",
    "done"
   ]
  },
  {
   "cell_type": "code",
   "execution_count": null,
   "id": "92d1b495",
   "metadata": {},
   "outputs": [],
   "source": []
  }
 ],
 "metadata": {
  "kernelspec": {
   "display_name": "Bash",
   "language": "bash",
   "name": "bash"
  },
  "language_info": {
   "codemirror_mode": "shell",
   "file_extension": ".sh",
   "mimetype": "text/x-sh",
   "name": "bash"
  }
 },
 "nbformat": 4,
 "nbformat_minor": 5
}

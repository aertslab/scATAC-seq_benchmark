{
 "cells": [
  {
   "cell_type": "code",
   "execution_count": 1,
   "metadata": {
    "execution": {
     "iopub.execute_input": "2022-07-18T10:22:59.437912Z",
     "iopub.status.busy": "2022-07-18T10:22:59.432853Z",
     "iopub.status.idle": "2022-07-18T10:23:30.554702Z",
     "shell.execute_reply": "2022-07-18T10:23:30.538088Z",
     "shell.execute_reply.started": "2022-07-18T10:22:59.437812Z"
    },
    "tags": []
   },
   "outputs": [],
   "source": [
    "import matplotlib.pyplot as plt\n",
    "import numpy as np\n",
    "import pandas as pd\n",
    "import scanpy as sc\n",
    "import seaborn as sns\n",
    "import os\n",
    "import glob"
   ]
  },
  {
   "cell_type": "code",
   "execution_count": 2,
   "metadata": {
    "execution": {
     "iopub.execute_input": "2022-07-18T10:23:30.598412Z",
     "iopub.status.busy": "2022-07-18T10:23:30.598083Z",
     "iopub.status.idle": "2022-07-18T10:23:51.274462Z",
     "shell.execute_reply": "2022-07-18T10:23:51.262462Z",
     "shell.execute_reply.started": "2022-07-18T10:23:30.598387Z"
    }
   },
   "outputs": [
    {
     "name": "stderr",
     "output_type": "stream",
     "text": [
      "\n",
      "KeyboardInterrupt\n",
      "\n"
     ]
    }
   ],
   "source": [
    "sc.settings.verbosity = 3  # verbosity: errors (0), warnings (1), info (2), hints (3)\n",
    "sc.logging.print_header()\n",
    "sc.settings.set_figure_params(dpi=150, facecolor=\"white\", vector_friendly=False)"
   ]
  },
  {
   "cell_type": "markdown",
   "metadata": {},
   "source": [
    "Make sure that the packages that you have match the ones below IF you want to verify our results and obtain exactly the same results as described below. If you want to simply analyse your own dataset, then most likely later versions will also be fine."
   ]
  },
  {
   "cell_type": "code",
   "execution_count": null,
   "metadata": {
    "execution": {
     "iopub.status.busy": "2022-07-18T10:23:51.335570Z",
     "iopub.status.idle": "2022-07-18T10:23:51.336230Z",
     "shell.execute_reply": "2022-07-18T10:23:51.336013Z",
     "shell.execute_reply.started": "2022-07-18T10:23:51.335990Z"
    },
    "tags": []
   },
   "outputs": [],
   "source": [
    "pip list"
   ]
  },
  {
   "cell_type": "markdown",
   "metadata": {},
   "source": [
    "# barcode rank plot from fastq"
   ]
  },
  {
   "cell_type": "code",
   "execution_count": 3,
   "metadata": {
    "execution": {
     "iopub.execute_input": "2022-07-18T10:23:53.942322Z",
     "iopub.status.busy": "2022-07-18T10:23:53.928211Z",
     "iopub.status.idle": "2022-07-18T10:23:59.090197Z",
     "shell.execute_reply": "2022-07-18T10:23:59.069243Z",
     "shell.execute_reply.started": "2022-07-18T10:23:53.942262Z"
    },
    "tags": []
   },
   "outputs": [
    {
     "data": {
      "image/png": "[encoded data removed]",
      "text/plain": [
       "<Figure size 432x288 with 1 Axes>"
      ]
     },
     "metadata": {
      "needs_background": "light"
     },
     "output_type": "display_data"
    }
   ],
   "source": [
    "for file in sorted(glob.glob(\"bc_count_raw/*.bc_raw.sorted.tsv\")):\n",
    "    sample = file.split('/')[-1].split('.')[0]\n",
    "    df_bccount = pd.read_csv(\n",
    "        file,\n",
    "        sep=\"\\t\",\n",
    "        header=None,\n",
    "    )\n",
    "    df_bccount.columns = [\"bc\", \"count\"]\n",
    "    sns.lineplot(data=df_bccount, x=df_bccount.index, y=\"count\")\n",
    "    plt.xscale(\"log\")\n",
    "    plt.yscale(\"log\")\n",
    "    plt.title(sample)\n",
    "    plt.tight_layout()\n",
    "    plt.savefig(f\"plts_bc_count/{sample}.raw_kneeplot.png\", facecolor=\"white\", dpi=300)\n",
    "    plt.show()\n",
    "    plt.close()"
   ]
  },
  {
   "cell_type": "code",
   "execution_count": null,
   "metadata": {},
   "outputs": [],
   "source": []
  },
  {
   "cell_type": "code",
   "execution_count": null,
   "metadata": {},
   "outputs": [],
   "source": []
  }
 ],
 "metadata": {
  "kernelspec": {
   "display_name": "20220628_pycistopic.sif",
   "language": "python",
   "name": "cistopic_20220628"
  },
  "language_info": {
   "codemirror_mode": {
    "name": "ipython",
    "version": 3
   },
   "file_extension": ".py",
   "mimetype": "text/x-python",
   "name": "python",
   "nbconvert_exporter": "python",
   "pygments_lexer": "ipython3",
   "version": "3.8.13"
  }
 },
 "nbformat": 4,
 "nbformat_minor": 4
}

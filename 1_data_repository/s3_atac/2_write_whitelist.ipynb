{
 "cells": [
  {
   "cell_type": "markdown",
   "id": "6416a020",
   "metadata": {},
   "source": [
    "for braun"
   ]
  },
  {
   "cell_type": "code",
   "execution_count": null,
   "id": "603d7264",
   "metadata": {
    "execution": {
     "iopub.execute_input": "2022-07-17T22:16:07.504038Z",
     "iopub.status.busy": "2022-07-17T22:16:07.503379Z",
     "iopub.status.idle": "2022-07-17T22:16:07.649669Z",
     "shell.execute_reply": "2022-07-17T22:16:07.648736Z",
     "shell.execute_reply.started": "2022-07-17T22:16:07.503990Z"
    }
   },
   "outputs": [
    {
     "name": "stdout",
     "output_type": "stream",
     "text": [
      "\n",
      "gzip: stdout: Broken pipe\n"
     ]
    }
   ],
   "source": [
    "zcat fastq/220709_braun_s3ATAC.barcode.fastq.gz | head -n 100000 > braun.txt"
   ]
  },
  {
   "cell_type": "markdown",
   "id": "09608036",
   "metadata": {},
   "source": [
    "I have index files:"
   ]
  },
  {
   "cell_type": "code",
   "execution_count": 8,
   "id": "4af3eb84",
   "metadata": {
    "execution": {
     "iopub.execute_input": "2022-07-17T22:26:45.722935Z",
     "iopub.status.busy": "2022-07-17T22:26:45.722310Z",
     "iopub.status.idle": "2022-07-17T22:26:46.059373Z",
     "shell.execute_reply": "2022-07-17T22:26:46.058165Z",
     "shell.execute_reply.started": "2022-07-17T22:26:45.722889Z"
    },
    "tags": []
   },
   "outputs": [
    {
     "name": "stdout",
     "output_type": "stream",
     "text": [
      "TAAGGCGA\n",
      "CGTACTAG\n",
      "AGGCAGAA\n",
      "TCCTGAGC\n",
      "GGACTCCT\n",
      "TAGGCATG\n",
      "CTCTCTAC\n",
      "CAGAGAGG\n",
      "GAAGAGTA\n",
      "GGTTAGTT\n",
      "\n",
      "GATCATGATA\n",
      "CCATATGCTC\n",
      "TGGATCGTTA\n",
      "AGTTACGCCG\n",
      "GGCTGCGACG\n",
      "ATGGAGCTAC\n",
      "GCCAAGGCAA\n",
      "AGAATTAGCA\n",
      "CAAGTAGGAC\n",
      "CTAACCTACC\n",
      "\n",
      "GAACCGCG\n",
      "AGGTTATA\n",
      "TCATCCTT\n",
      "CTGCTTCC\n",
      "GGTCACGA\n",
      "AACTGTAG\n",
      "GTGAATAT\n",
      "ACAGGCGC\n",
      "CATAGAGT\n",
      "TGCGAGAC\n"
     ]
    }
   ],
   "source": [
    "head whitelist/220521_ted_index1.txt\n",
    "printf \"\\n\"\n",
    "head whitelist/220709_braun_s3ATAC.index2.txt\n",
    "printf \"\\n\"\n",
    "head whitelist/s3_Tn5_8bp.BCONLY.txt"
   ]
  },
  {
   "cell_type": "markdown",
   "id": "98cb6aa9",
   "metadata": {},
   "source": [
    "Within braun.txt, I try to find `GATCATGATA`, an example of index 2. It's in the middle. I try to find `TAAGGCGA`, an example of index 1. It's at the front. Finally, I try to find `GAACCGCG`, an example of the plate well barcode. It's at the back. So the order of indices within the barcode is Index 1 - index 2 - well barcode, which makes sense. A full cell barcode whitelist is thus obtained as follows:"
   ]
  },
  {
   "cell_type": "code",
   "execution_count": 9,
   "id": "08a4c76c",
   "metadata": {
    "tags": []
   },
   "outputs": [
    {
     "name": "stdout",
     "output_type": "stream",
     "text": [
      "\u001b[1;31mLmod has detected the following error: \u001b[0m The following module(s) are\n",
      "unknown: \"mawk\"\n",
      "\n",
      "Please check the spelling or version number. Also try \"module spider ...\"\n",
      "It is also possible your cache file is out-of-date; it may help to try:\n",
      "  $ module --ignore_cache load \"mawk\"\n",
      "\n",
      "Also make sure that all modulefiles written in TCL start with the string\n",
      "#%Module\n",
      "\n",
      "If you don't understand the warning or error, contact the helpdesk at\n",
      "hpc@ugent.be \n",
      "\n",
      "\n"
     ]
    }
   ],
   "source": [
    "module load mawk\n",
    "cartesian(){\n",
    "awk -F '\\t' \\\n",
    "    -v \"bc1_list=$1\" \\\n",
    "    -v \"bc2_list=$2\" \\\n",
    "    -v \"bc3_list=$3\" '\n",
    "    {\n",
    "        if ( FILENAME == bc1_list ) {\n",
    "            BC1[$0];\n",
    "        }\n",
    "        else if ( FILENAME == bc2_list ) {\n",
    "             BC2[$0];\n",
    "        } else if ( FILENAME == bc3_list ) {\n",
    "             BC3[$0];\n",
    "        }\n",
    "    } END {\n",
    "        for (bc1 in BC1) {\n",
    "           for (bc2 in BC2) {\n",
    "               for (bc3 in BC3) {\n",
    "                   print bc1 bc2 bc3\n",
    "               }\n",
    "           }\n",
    "        }\n",
    "     } ' $1 $2 $3 > $4\n",
    "}\n"
   ]
  },
  {
   "cell_type": "code",
   "execution_count": 3,
   "id": "139305f8",
   "metadata": {
    "execution": {
     "iopub.execute_input": "2022-07-17T22:20:57.004162Z",
     "iopub.status.busy": "2022-07-17T22:20:57.003532Z",
     "iopub.status.idle": "2022-07-17T22:20:57.131894Z",
     "shell.execute_reply": "2022-07-17T22:20:57.131179Z",
     "shell.execute_reply.started": "2022-07-17T22:20:57.004117Z"
    }
   },
   "outputs": [],
   "source": [
    "cartesian whitelist/220521_ted_index1.txt whitelist/220709_braun_s3ATAC.index2.txt whitelist/s3_Tn5_8bp.BCONLY.txt braun_whitelist.txt"
   ]
  },
  {
   "cell_type": "code",
   "execution_count": 4,
   "id": "e1dfd111",
   "metadata": {
    "execution": {
     "iopub.execute_input": "2022-07-17T22:25:42.173233Z",
     "iopub.status.busy": "2022-07-17T22:25:42.172962Z",
     "iopub.status.idle": "2022-07-17T22:25:42.301913Z",
     "shell.execute_reply": "2022-07-17T22:25:42.301291Z",
     "shell.execute_reply.started": "2022-07-17T22:25:42.173217Z"
    }
   },
   "outputs": [
    {
     "name": "stdout",
     "output_type": "stream",
     "text": [
      "TCCTGAGCATAGCATCAATGGATCGA\n",
      "TCCTGAGCATAGCATCAATTGGACTC\n",
      "TCCTGAGCATAGCATCAACGTCTGCG\n",
      "TCCTGAGCATAGCATCAATTCCTGTT\n",
      "TCCTGAGCATAGCATCAACGGAACTG\n",
      "TCCTGAGCATAGCATCAACAATTAAC\n",
      "TCCTGAGCATAGCATCAAGCAATGCA\n",
      "TCCTGAGCATAGCATCAAAGTTCAGG\n",
      "TCCTGAGCATAGCATCAACTTATCGG\n",
      "TCCTGAGCATAGCATCAAACCTTGGC\n"
     ]
    }
   ],
   "source": [
    "head braun_whitelist.txt"
   ]
  },
  {
   "cell_type": "code",
   "execution_count": 9,
   "id": "893256e0",
   "metadata": {
    "execution": {
     "iopub.execute_input": "2022-07-17T22:27:36.363217Z",
     "iopub.status.busy": "2022-07-17T22:27:36.362593Z",
     "iopub.status.idle": "2022-07-17T22:27:36.478716Z",
     "shell.execute_reply": "2022-07-17T22:27:36.477352Z",
     "shell.execute_reply.started": "2022-07-17T22:27:36.363171Z"
    }
   },
   "outputs": [
    {
     "name": "stdout",
     "output_type": "stream",
     "text": [
      "27648 braun_whitelist.txt\n"
     ]
    }
   ],
   "source": [
    "wc -l braun_whitelist.txt"
   ]
  },
  {
   "cell_type": "markdown",
   "id": "b5bbcac7",
   "metadata": {},
   "source": [
    "which indeed corresponds to the cartesian product."
   ]
  },
  {
   "cell_type": "markdown",
   "id": "b5997ac1-79be-4484-aeec-f824c5489961",
   "metadata": {},
   "source": [
    "We can compose a whitelist for sample 1 as well:"
   ]
  },
  {
   "cell_type": "markdown",
   "id": "ee99b64a-f0fb-4183-a457-6b3959220897",
   "metadata": {},
   "source": [
    "!! note i5 here is wrong! needs to be taken from the bccount instead of the metadata."
   ]
  },
  {
   "cell_type": "code",
   "execution_count": 1,
   "id": "eaac5a9e",
   "metadata": {},
   "outputs": [],
   "source": [
    "cat cell.metadata.tsv | cut -d $'\\t' -f 1 | sort -u > s1_i5.txt"
   ]
  },
  {
   "cell_type": "code",
   "execution_count": 2,
   "id": "bd50cd82-c689-4ebb-88be-704e947cfff1",
   "metadata": {},
   "outputs": [],
   "source": [
    "cat cell.metadata.tsv | cut -d $'\\t' -f 2 | sort -u > s1_tn5.txt"
   ]
  },
  {
   "cell_type": "code",
   "execution_count": 3,
   "id": "83263c34-f7af-4c6a-972d-c046ecd3e42a",
   "metadata": {},
   "outputs": [],
   "source": [
    "cat cell.metadata.tsv | cut -d $'\\t' -f 3 | sort -u > s1_i7.txt"
   ]
  },
  {
   "cell_type": "code",
   "execution_count": null,
   "id": "9a217f43-d1ff-414d-8d25-0dd7a4bb615e",
   "metadata": {},
   "outputs": [],
   "source": []
  },
  {
   "cell_type": "code",
   "execution_count": 7,
   "id": "8703e3cb-b3d4-42db-9e39-c0ac9267e4e8",
   "metadata": {},
   "outputs": [
    {
     "name": "stdout",
     "output_type": "stream",
     "text": [
      "GGACTTATGG\n",
      "ACCGGAAGAA\n",
      "TATTGCAGCT\n",
      "ATCCGAACGG\n",
      "CTCAGAATAA\n",
      "CAATTCGTTA\n",
      "TGCATGGCCA\n",
      "AGAGGACTGG\n",
      "AGGCCGGCCA\n",
      "GGCATAACCG\n",
      "TCTCATTGCC\n",
      "TTGGTTCTCA\n",
      "CCGAACTATG\n",
      "TCTCCTCCTG\n",
      "CTGCATTACG\n",
      "ACCATAATAA\n",
      "GTACTGGTTG\n",
      "TGGCTCATAT\n",
      "CAGCCATGAT\n",
      "CGGAGCGTCA\n",
      "GAACTTGCGG\n",
      "AACCTATAGT\n",
      "AATTGAGTTA\n",
      "CTAACCTACC\n",
      "TAGTCGGATG\n",
      "CGCCGATATC\n",
      "CAAGTAGGAC\n",
      "GTTCTCTCCT\n",
      "AATGATGCTC\n",
      "GCCGGAGCGG\n",
      "CAATGAGAAG\n",
      "GGCAGCAGTT\n",
      "AACGTTCC\n",
      "AACTGTAG\n",
      "AAGATACT\n",
      "AAGTCCAA\n",
      "AATCCGGA\n",
      "AATGCCTC\n",
      "ACACTAAG\n",
      "ACAGGCGC\n",
      "ACCTTGGC\n",
      "ACGCACCT\n",
      "ACTAAGAT\n",
      "AGCCTCAT\n",
      "AGCTCGCT\n",
      "AGGTTATA\n",
      "AGTACTCC\n",
      "AGTTCAGG\n",
      "ATAATGTG\n",
      "ATATGGAT\n",
      "ATCCACTG\n",
      "ATCTGCCA\n",
      "ATGAGGCC\n",
      "ATGGCATG\n",
      "ATGTAAGT\n",
      "ATTGTGAA\n",
      "CAAGCTAG\n",
      "CAATTAAC\n",
      "CACGAGCG\n",
      "CAGTAGGC\n",
      "CATAGAGT\n",
      "CCAAGTCT\n",
      "CCATTCGA\n",
      "CCGCGGTT\n",
      "CCGTGAAG\n",
      "CCTTCACC\n",
      "CGCCGATC\n",
      "CGCTATGT\n",
      "CGGAACTG\n",
      "CGGACAAC\n",
      "CGGCGTGA\n",
      "CGTCTGCG\n",
      "CGTTAGAA\n",
      "CTACGACA\n",
      "CTAGCGCT\n",
      "CTCACCAA\n",
      "CTCTCGTC\n",
      "CTGCTTCC\n",
      "CTTATCGG\n",
      "CTTGGTAT\n",
      "GAACCGCG\n",
      "GACCTGAA\n",
      "GACGTCTT\n",
      "GATCTATC\n",
      "GATTCTGC\n",
      "GCAATGCA\n",
      "GCACGGAC\n",
      "GCAGAATT\n",
      "GCCACAGG\n",
      "GCGCAAGC\n",
      "GCGGCACA\n",
      "GCTCATTG\n",
      "GCTTGTCA\n",
      "GGACTTGG\n",
      "GGAGCGTC\n",
      "GGCATTCT\n",
      "GGCTTAAG\n",
      "GGTACCTT\n",
      "GGTCACGA\n",
      "GTATGTTC\n",
      "GTCGGAGC\n",
      "GTGAATAT\n",
      "GTGTCGGA\n",
      "GTTCCAAT\n",
      "TAAGGTCA\n",
      "TAAGTGGT\n",
      "TAATACAG\n",
      "TACCGAGG\n",
      "TACTCATA\n",
      "TATCGCAC\n",
      "TATTAGCT\n",
      "TCATCCTT\n",
      "TCCAACGC\n",
      "TCCGCTAA\n",
      "TCGATATC\n",
      "TCGTAGTG\n",
      "TCTCTACT\n",
      "TCTGTTGG\n",
      "TGACGAAT\n",
      "TGCGAGAC\n",
      "TGGATCGA\n",
      "TGGCCGGT\n",
      "TGTAGATA\n",
      "TTACAGGA\n",
      "TTATAACC\n",
      "TTCCTGTT\n",
      "TTGCCTAG\n",
      "TTGGACTC\n",
      "tn5_idx_seq\n",
      "AACTTAATAC\n",
      "ACGCGACGGC\n",
      "ACTAGACGTT\n",
      "AGAGAAGCGT\n",
      "ATCTACCAGT\n",
      "ATTGAGGATA\n",
      "CGGCATCTTG\n",
      "CTCTGGAGAC\n",
      "GAAGAGTATT\n",
      "GAAGCAGCGG\n",
      "GACTAGCATT\n",
      "GAGTCAATCC\n",
      "GATAGTACTA\n",
      "GATGGCATAT\n",
      "GATTCGGTCA\n",
      "GCAGGTCGTC\n",
      "GCGAGATTAT\n",
      "GCGGATCGCT\n",
      "GGAGCCGACT\n",
      "GGAGGCCTCC\n",
      "GGCCGAATAG\n",
      "GGCGCAGCAA\n",
      "GGCGTACTAA\n",
      "GGCTGGCTCT\n",
      "GGTCCGATGG\n",
      "GGTCGATCAG\n",
      "GGTTAGTTGG\n",
      "TAACGGAATA\n",
      "TCCAGAAGCC\n",
      "TCCAGGATCG\n",
      "TCCATACCTG\n",
      "TGCGGCCTGG\n",
      "TGCGTCGTCC\n",
      "TTAAGGCTAT\n",
      "i7_idx_seq\n"
     ]
    }
   ],
   "source": [
    "cat s1_i5.txt\n",
    "cat s1_tn5.txt\n",
    "cat s1_i7.txt"
   ]
  },
  {
   "cell_type": "code",
   "execution_count": 11,
   "id": "0578b9ce-28db-4c1f-93d1-5b8b76399ec0",
   "metadata": {},
   "outputs": [],
   "source": [
    "cartesian whitelist/OHS_s3atac_1.s1_i7.txt whitelist/OHS_s3atac_1.s1_i5.txt whitelist/OHS_s3atac_1.s1_tn5.txt whitelist/OHS_s3atac_1.whitelist.txt"
   ]
  },
  {
   "cell_type": "code",
   "execution_count": null,
   "id": "cba038e1-171b-4023-98dc-e96f42ce4ef6",
   "metadata": {},
   "outputs": [],
   "source": []
  }
 ],
 "metadata": {
  "kernelspec": {
   "display_name": "Bash",
   "language": "bash",
   "name": "bash"
  },
  "language_info": {
   "codemirror_mode": "shell",
   "file_extension": ".sh",
   "mimetype": "text/x-sh",
   "name": "bash"
  }
 },
 "nbformat": 4,
 "nbformat_minor": 5
}

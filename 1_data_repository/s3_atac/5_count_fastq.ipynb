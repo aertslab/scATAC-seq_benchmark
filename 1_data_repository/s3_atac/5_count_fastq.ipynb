{
 "cells": [
  {
   "cell_type": "code",
   "execution_count": 10,
   "id": "d6071cf1-468d-4778-bc86-5943314e0604",
   "metadata": {},
   "outputs": [],
   "source": [
    "./../../0_resources/single_cell_toolkit_rust/target/release/fastq_count fastq/* > s3atac_fastq_count.txt"
   ]
  },
  {
   "cell_type": "code",
   "execution_count": 9,
   "id": "006cd16e-7c7a-4889-8315-b5ccb81442f3",
   "metadata": {},
   "outputs": [
    {
     "name": "stdout",
     "output_type": "stream",
     "text": [
      "fastq/OHS_s3atac_1__R1.fastq.bgzipped.gz\n",
      "fastq/OHS_s3atac_1__R1.fastq.fastq.bgzipped.readfixed.gz\n",
      "fastq/OHS_s3atac_1__R2.fastq.bgzipped.gz\n",
      "fastq/OHS_s3atac_1__R2.fastq.fastq.bgzipped.readfixed.gz\n",
      "fastq/OHS_s3atac_1__R3.fastq.bgzipped.gz\n",
      "fastq/OHS_s3atac_1__R3.fastq.fastq.bgzipped.readfixed.gz\n",
      "fastq/OHS_s3atac_2__R1.fastq.bgzipped.gz\n",
      "fastq/OHS_s3atac_2__R1.fastq.fastq.bgzipped.readfixed.gz\n",
      "fastq/OHS_s3atac_2__R2.fastq.bgzipped.gz\n",
      "fastq/OHS_s3atac_2__R2.fastq.fastq.bgzipped.readfixed.gz\n",
      "fastq/OHS_s3atac_2__R3.fastq.bgzipped.gz\n",
      "fastq/OHS_s3atac_2__R3.fastq.fastq.bgzipped.readfixed.gz\n"
     ]
    }
   ],
   "source": [
    "ls fastq/*"
   ]
  },
  {
   "cell_type": "code",
   "execution_count": 12,
   "id": "5dbfb039-9993-4f9c-bc45-ed6eab3e5727",
   "metadata": {},
   "outputs": [],
   "source": [
    " ./../../0_resources/single_cell_toolkit_rust/target/release/fastq_count fastq/OHS_s3atac_1__R1.fastq.bgzipped.gz"
   ]
  },
  {
   "cell_type": "code",
   "execution_count": 26,
   "id": "c72318a2-33a9-4398-8fc3-deb8f53c679c",
   "metadata": {},
   "outputs": [
    {
     "name": "stdout",
     "output_type": "stream",
     "text": [
      "fastq/OHS_s3atac_1__R1.fastq.bgzipped.gz\n",
      "[24] 2638637\n",
      "fastq/OHS_s3atac_1__R1.fastq.fastq.bgzipped.readfixed.gz\n",
      "[25] 2638639\n",
      "fastq/OHS_s3atac_1__R2.fastq.bgzipped.gz\n",
      "[26] 2638641\n",
      "fastq/OHS_s3atac_1__R2.fastq.fastq.bgzipped.readfixed.gz\n",
      "[27] 2638643\n",
      "fastq/OHS_s3atac_1__R3.fastq.bgzipped.gz\n",
      "[28] 2638645\n",
      "fastq/OHS_s3atac_1__R3.fastq.fastq.bgzipped.readfixed.gz\n",
      "[29] 2638647\n",
      "fastq/OHS_s3atac_2__R1.fastq.bgzipped.gz\n",
      "[30] 2638649\n",
      "fastq/OHS_s3atac_2__R1.fastq.fastq.bgzipped.readfixed.gz\n",
      "[31] 2638651\n",
      "fastq/OHS_s3atac_2__R2.fastq.bgzipped.gz\n",
      "[32] 2638653\n",
      "fastq/OHS_s3atac_2__R2.fastq.fastq.bgzipped.readfixed.gz\n",
      "[33] 2638655\n",
      "fastq/OHS_s3atac_2__R3.fastq.bgzipped.gz\n",
      "[34] 2638657\n",
      "fastq/OHS_s3atac_2__R3.fastq.fastq.bgzipped.readfixed.gz\n",
      "[35] 2638659\n"
     ]
    }
   ],
   "source": [
    "for file in fastq/*\n",
    "do\n",
    "    echo $file\n",
    "    zcat $file | wc -l >> $file.readcounts.txt &\n",
    "done"
   ]
  },
  {
   "cell_type": "code",
   "execution_count": 20,
   "id": "57050b79-8c42-40e2-8790-a7b7079493e6",
   "metadata": {},
   "outputs": [
    {
     "ename": "",
     "evalue": "1",
     "output_type": "error",
     "traceback": []
    }
   ],
   "source": [
    "kill $(jobs -p)"
   ]
  },
  {
   "cell_type": "code",
   "execution_count": 23,
   "id": "ddc4744f-4336-42b2-a7ce-8f0ff1b2e681",
   "metadata": {},
   "outputs": [],
   "source": [
    "jobs"
   ]
  },
  {
   "cell_type": "code",
   "execution_count": null,
   "id": "a02b7173-95a3-45e6-9ea3-11ec8a07a879",
   "metadata": {},
   "outputs": [],
   "source": []
  }
 ],
 "metadata": {
  "kernelspec": {
   "display_name": "Bash",
   "language": "bash",
   "name": "bash"
  },
  "language_info": {
   "codemirror_mode": "shell",
   "file_extension": ".sh",
   "mimetype": "text/x-sh",
   "name": "bash"
  }
 },
 "nbformat": 4,
 "nbformat_minor": 5
}

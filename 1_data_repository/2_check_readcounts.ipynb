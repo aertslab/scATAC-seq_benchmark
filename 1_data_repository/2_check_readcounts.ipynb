{
 "cells": [
  {
   "cell_type": "markdown",
   "id": "1eb33f71-5d86-4a84-9610-1cee52d4b5a7",
   "metadata": {},
   "source": [
    "# Count number of reads in each file\n",
    "Named all these files \"lengths\", should be \"counts\" instead."
   ]
  },
  {
   "cell_type": "code",
   "execution_count": 1,
   "id": "40809305-181e-4cd7-8a39-d443e1eb95f9",
   "metadata": {
    "execution": {
     "iopub.execute_input": "2023-03-31T08:17:23.482168Z",
     "iopub.status.busy": "2023-03-31T08:17:23.481571Z",
     "iopub.status.idle": "2023-03-31T08:17:23.594400Z",
     "shell.execute_reply": "2023-03-31T08:17:23.593098Z",
     "shell.execute_reply.started": "2023-03-31T08:17:23.482122Z"
    }
   },
   "outputs": [
    {
     "name": "stdout",
     "output_type": "stream",
     "text": [
      "../0_resources/single_cell_toolkit_rust/target/release/fastq_count full_fastq/*R1*fastq.gz > R1_lengths.FULL.txt &\n",
      "../0_resources/single_cell_toolkit_rust/target/release/fastq_count full_fastq/*R2*fastq.gz > R2_lengths.FULL.txt &\n",
      "../0_resources/single_cell_toolkit_rust/target/release/fastq_count full_fastq/*R3*fastq.gz > R3_lengths.FULL.txt &\n",
      "sort R1_lengths.FULL.txt > R1_lengths.FULL.sorted.txt\n",
      "sort R2_lengths.FULL.txt > R2_lengths.FULL.sorted.txt\n",
      "sort R3_lengths.FULL.txt > R3_lengths.FULL.sorted.txt\n"
     ]
    }
   ],
   "source": [
    "cat count.FULL.sh"
   ]
  },
  {
   "cell_type": "code",
   "execution_count": 2,
   "id": "3e8f7c0b",
   "metadata": {
    "tags": []
   },
   "outputs": [
    {
     "name": "stdout",
     "output_type": "stream",
     "text": [
      "[1] 2147\n",
      "[2] 2164\n",
      "[3] 2173\n"
     ]
    }
   ],
   "source": [
    "../0_resources/single_cell_toolkit_rust/target/release/fastq_count full_fastq/*R1*fastq.gz > R1_lengths.txt &\n",
    "../0_resources/single_cell_toolkit_rust/target/release/fastq_count full_fastq/*R2*fastq.gz > R2_lengths.txt &\n",
    "../0_resources/single_cell_toolkit_rust/target/release/fastq_count full_fastq/*R3*fastq.gz > R3_lengths.txt &"
   ]
  },
  {
   "cell_type": "code",
   "execution_count": 4,
   "id": "11544eec",
   "metadata": {},
   "outputs": [
    {
     "name": "stdout",
     "output_type": "stream",
     "text": [
      "R1_lengths.txt\n",
      "R2_lengths.txt\n",
      "R3_lengths.txt\n"
     ]
    }
   ],
   "source": [
    "for file in R*.txt\n",
    "do\n",
    "    echo $file\n",
    "    sort $file > ${file%.txt}.sorted.txt\n",
    "done"
   ]
  },
  {
   "cell_type": "code",
   "execution_count": null,
   "id": "d95b5380",
   "metadata": {},
   "outputs": [],
   "source": [
    "../0_resources/single_cell_toolkit_rust/target/release/fastq_count full_fastq_multiome/rna/*R1*fastq.gz > full_fastq_multiome/R1_lengths.txt &\n",
    "../0_resources/single_cell_toolkit_rust/target/release/fastq_count full_fastq_multiome/rna/*R2*fastq.gz > full_fastq_multiomeR2_lengths.txt &\n",
    "../0_resources/single_cell_toolkit_rust/target/release/fastq_count full_fastq_multiome/rna/*R3*fastq.gz > full_fastq_multiome/R3_lengths.txt\n",
    "\n",
    "for file in full_fastq_multiome/R*.txt\n",
    "do\n",
    "    echo $file\n",
    "    sort $file > ${file%.txt}.sorted.txt\n",
    "done"
   ]
  },
  {
   "cell_type": "code",
   "execution_count": null,
   "id": "d51c54f3",
   "metadata": {},
   "outputs": [],
   "source": [
    "../0_resources/single_cell_toolkit_rust/target/release/fastq_count /lustre1/project/stg_00090/scatac_benchmark/1_data_repository/publicdata_full_fastq/all_merged/*R1*fastq.gz > /lustre1/project/stg_00090/scatac_benchmark/1_data_repository/publicdata_full_fastq/R1_lengths.txt &\n",
    "../0_resources/single_cell_toolkit_rust/target/release/fastq_count /lustre1/project/stg_00090/scatac_benchmark/1_data_repository/publicdata_full_fastq/all_merged/*R2*fastq.gz > /lustre1/project/stg_00090/scatac_benchmark/1_data_repository/publicdata_full_fastq/R2_lengths.txt &\n",
    "../0_resources/single_cell_toolkit_rust/target/release/fastq_count /lustre1/project/stg_00090/scatac_benchmark/1_data_repository/publicdata_full_fastq/all_merged/*R3*fastq.gz > /lustre1/project/stg_00090/scatac_benchmark/1_data_repository/publicdata_full_fastq/R3_lengths.txt\n",
    "\n",
    "for file in /lustre1/project/stg_00090/scatac_benchmark/1_data_repository/publicdata_full_fastq/R*.txt\n",
    "do\n",
    "    echo $file\n",
    "    sort $file > ${file%.txt}.sorted.txt\n",
    "done"
   ]
  }
 ],
 "metadata": {
  "kernelspec": {
   "display_name": "Bash",
   "language": "bash",
   "name": "bash"
  },
  "language_info": {
   "codemirror_mode": "shell",
   "file_extension": ".sh",
   "mimetype": "text/x-sh",
   "name": "bash"
  }
 },
 "nbformat": 4,
 "nbformat_minor": 5
}

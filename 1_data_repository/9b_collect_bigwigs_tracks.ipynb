{
 "cells": [
  {
   "cell_type": "markdown",
   "id": "19170851-20f0-4c63-9f98-292deb866072",
   "metadata": {},
   "source": [
    "# Collect all the bigwig tracks in same location"
   ]
  },
  {
   "cell_type": "code",
   "execution_count": 2,
   "id": "1f917005-4ea6-4db1-b972-b99e1155b5da",
   "metadata": {
    "execution": {
     "iopub.execute_input": "2023-03-27T13:05:10.003103Z",
     "iopub.status.busy": "2023-03-27T13:05:10.002495Z",
     "iopub.status.idle": "2023-03-27T13:05:12.658317Z",
     "shell.execute_reply": "2023-03-27T13:05:12.657006Z",
     "shell.execute_reply.started": "2023-03-27T13:05:10.003057Z"
    },
    "tags": []
   },
   "outputs": [
    {
     "name": "stdout",
     "output_type": "stream",
     "text": [
      "/lustre1/project/stg_00090/scatac_benchmark/fixedcells_8_individual_tech_cistopic_objects/downstream_analysis/DARs/10xmultiome_celltypefair_1.FIXEDCELLS/10xmultiome_celltypefair_1.FIXEDCELLS__B_cell__DARs.unique.bed\n",
      "/lustre1/project/stg_00090/scatac_benchmark/fixedcells_8_individual_tech_cistopic_objects/downstream_analysis/DARs/10xmultiome_celltypefair_1.FIXEDCELLS/10xmultiome_celltypefair_1.FIXEDCELLS__CD14+_monocyte__DARs.unique.bed\n",
      "/lustre1/project/stg_00090/scatac_benchmark/fixedcells_8_individual_tech_cistopic_objects/downstream_analysis/DARs/10xmultiome_celltypefair_1.FIXEDCELLS/10xmultiome_celltypefair_1.FIXEDCELLS__CD16+_monocyte__DARs.unique.bed\n",
      "/lustre1/project/stg_00090/scatac_benchmark/fixedcells_8_individual_tech_cistopic_objects/downstream_analysis/DARs/10xmultiome_celltypefair_1.FIXEDCELLS/10xmultiome_celltypefair_1.FIXEDCELLS__CD4+_T_cell__DARs.unique.bed\n",
      "/lustre1/project/stg_00090/scatac_benchmark/fixedcells_8_individual_tech_cistopic_objects/downstream_analysis/DARs/10xmultiome_celltypefair_1.FIXEDCELLS/10xmultiome_celltypefair_1.FIXEDCELLS__Cytotoxic_T_cell__DARs.unique.bed\n",
      "/lustre1/project/stg_00090/scatac_benchmark/fixedcells_8_individual_tech_cistopic_objects/downstream_analysis/DARs/10xmultiome_celltypefair_1.FIXEDCELLS/10xmultiome_celltypefair_1.FIXEDCELLS__Dendritic_cell__DARs.unique.bed\n",
      "/lustre1/project/stg_00090/scatac_benchmark/fixedcells_8_individual_tech_cistopic_objects/downstream_analysis/DARs/10xmultiome_celltypefair_1.FIXEDCELLS/10xmultiome_celltypefair_1.FIXEDCELLS__Natural_killer_cell__DARs.unique.bed\n",
      "/lustre1/project/stg_00090/scatac_benchmark/fixedcells_8_individual_tech_cistopic_objects/downstream_analysis/DARs/10xv11_celltypefair_1.FIXEDCELLS/10xv11_celltypefair_1.FIXEDCELLS__B_cell__DARs.unique.bed\n",
      "/lustre1/project/stg_00090/scatac_benchmark/fixedcells_8_individual_tech_cistopic_objects/downstream_analysis/DARs/10xv11_celltypefair_1.FIXEDCELLS/10xv11_celltypefair_1.FIXEDCELLS__CD14+_monocyte__DARs.unique.bed\n",
      "/lustre1/project/stg_00090/scatac_benchmark/fixedcells_8_individual_tech_cistopic_objects/downstream_analysis/DARs/10xv11_celltypefair_1.FIXEDCELLS/10xv11_celltypefair_1.FIXEDCELLS__CD16+_monocyte__DARs.unique.bed\n",
      "/lustre1/project/stg_00090/scatac_benchmark/fixedcells_8_individual_tech_cistopic_objects/downstream_analysis/DARs/10xv11_celltypefair_1.FIXEDCELLS/10xv11_celltypefair_1.FIXEDCELLS__CD4+_T_cell__DARs.unique.bed\n",
      "/lustre1/project/stg_00090/scatac_benchmark/fixedcells_8_individual_tech_cistopic_objects/downstream_analysis/DARs/10xv11_celltypefair_1.FIXEDCELLS/10xv11_celltypefair_1.FIXEDCELLS__Cytotoxic_T_cell__DARs.unique.bed\n",
      "/lustre1/project/stg_00090/scatac_benchmark/fixedcells_8_individual_tech_cistopic_objects/downstream_analysis/DARs/10xv11_celltypefair_1.FIXEDCELLS/10xv11_celltypefair_1.FIXEDCELLS__Dendritic_cell__DARs.unique.bed\n",
      "/lustre1/project/stg_00090/scatac_benchmark/fixedcells_8_individual_tech_cistopic_objects/downstream_analysis/DARs/10xv11_celltypefair_1.FIXEDCELLS/10xv11_celltypefair_1.FIXEDCELLS__Natural_killer_cell__DARs.unique.bed\n",
      "/lustre1/project/stg_00090/scatac_benchmark/fixedcells_8_individual_tech_cistopic_objects/downstream_analysis/DARs/10xv1_celltypefair_1.FIXEDCELLS/10xv1_celltypefair_1.FIXEDCELLS__B_cell__DARs.unique.bed\n",
      "/lustre1/project/stg_00090/scatac_benchmark/fixedcells_8_individual_tech_cistopic_objects/downstream_analysis/DARs/10xv1_celltypefair_1.FIXEDCELLS/10xv1_celltypefair_1.FIXEDCELLS__CD14+_monocyte__DARs.unique.bed\n",
      "/lustre1/project/stg_00090/scatac_benchmark/fixedcells_8_individual_tech_cistopic_objects/downstream_analysis/DARs/10xv1_celltypefair_1.FIXEDCELLS/10xv1_celltypefair_1.FIXEDCELLS__CD16+_monocyte__DARs.unique.bed\n",
      "/lustre1/project/stg_00090/scatac_benchmark/fixedcells_8_individual_tech_cistopic_objects/downstream_analysis/DARs/10xv1_celltypefair_1.FIXEDCELLS/10xv1_celltypefair_1.FIXEDCELLS__CD4+_T_cell__DARs.unique.bed\n",
      "/lustre1/project/stg_00090/scatac_benchmark/fixedcells_8_individual_tech_cistopic_objects/downstream_analysis/DARs/10xv1_celltypefair_1.FIXEDCELLS/10xv1_celltypefair_1.FIXEDCELLS__Cytotoxic_T_cell__DARs.unique.bed\n",
      "/lustre1/project/stg_00090/scatac_benchmark/fixedcells_8_individual_tech_cistopic_objects/downstream_analysis/DARs/10xv1_celltypefair_1.FIXEDCELLS/10xv1_celltypefair_1.FIXEDCELLS__Dendritic_cell__DARs.unique.bed\n",
      "/lustre1/project/stg_00090/scatac_benchmark/fixedcells_8_individual_tech_cistopic_objects/downstream_analysis/DARs/10xv1_celltypefair_1.FIXEDCELLS/10xv1_celltypefair_1.FIXEDCELLS__Natural_killer_cell__DARs.unique.bed\n",
      "/lustre1/project/stg_00090/scatac_benchmark/fixedcells_8_individual_tech_cistopic_objects/downstream_analysis/DARs/10xv2_celltypefair_1.FIXEDCELLS/10xv2_celltypefair_1.FIXEDCELLS__B_cell__DARs.unique.bed\n",
      "/lustre1/project/stg_00090/scatac_benchmark/fixedcells_8_individual_tech_cistopic_objects/downstream_analysis/DARs/10xv2_celltypefair_1.FIXEDCELLS/10xv2_celltypefair_1.FIXEDCELLS__CD14+_monocyte__DARs.unique.bed\n",
      "/lustre1/project/stg_00090/scatac_benchmark/fixedcells_8_individual_tech_cistopic_objects/downstream_analysis/DARs/10xv2_celltypefair_1.FIXEDCELLS/10xv2_celltypefair_1.FIXEDCELLS__CD16+_monocyte__DARs.unique.bed\n",
      "/lustre1/project/stg_00090/scatac_benchmark/fixedcells_8_individual_tech_cistopic_objects/downstream_analysis/DARs/10xv2_celltypefair_1.FIXEDCELLS/10xv2_celltypefair_1.FIXEDCELLS__CD4+_T_cell__DARs.unique.bed\n",
      "/lustre1/project/stg_00090/scatac_benchmark/fixedcells_8_individual_tech_cistopic_objects/downstream_analysis/DARs/10xv2_celltypefair_1.FIXEDCELLS/10xv2_celltypefair_1.FIXEDCELLS__Cytotoxic_T_cell__DARs.unique.bed\n",
      "/lustre1/project/stg_00090/scatac_benchmark/fixedcells_8_individual_tech_cistopic_objects/downstream_analysis/DARs/10xv2_celltypefair_1.FIXEDCELLS/10xv2_celltypefair_1.FIXEDCELLS__Dendritic_cell__DARs.unique.bed\n",
      "/lustre1/project/stg_00090/scatac_benchmark/fixedcells_8_individual_tech_cistopic_objects/downstream_analysis/DARs/10xv2_celltypefair_1.FIXEDCELLS/10xv2_celltypefair_1.FIXEDCELLS__Natural_killer_cell__DARs.unique.bed\n",
      "/lustre1/project/stg_00090/scatac_benchmark/fixedcells_8_individual_tech_cistopic_objects/downstream_analysis/DARs/ddseq_celltypefair_1.FIXEDCELLS/ddseq_celltypefair_1.FIXEDCELLS__B_cell__DARs.unique.bed\n",
      "/lustre1/project/stg_00090/scatac_benchmark/fixedcells_8_individual_tech_cistopic_objects/downstream_analysis/DARs/ddseq_celltypefair_1.FIXEDCELLS/ddseq_celltypefair_1.FIXEDCELLS__CD14+_monocyte__DARs.unique.bed\n",
      "/lustre1/project/stg_00090/scatac_benchmark/fixedcells_8_individual_tech_cistopic_objects/downstream_analysis/DARs/ddseq_celltypefair_1.FIXEDCELLS/ddseq_celltypefair_1.FIXEDCELLS__CD16+_monocyte__DARs.unique.bed\n",
      "/lustre1/project/stg_00090/scatac_benchmark/fixedcells_8_individual_tech_cistopic_objects/downstream_analysis/DARs/ddseq_celltypefair_1.FIXEDCELLS/ddseq_celltypefair_1.FIXEDCELLS__CD4+_T_cell__DARs.unique.bed\n",
      "/lustre1/project/stg_00090/scatac_benchmark/fixedcells_8_individual_tech_cistopic_objects/downstream_analysis/DARs/ddseq_celltypefair_1.FIXEDCELLS/ddseq_celltypefair_1.FIXEDCELLS__Cytotoxic_T_cell__DARs.unique.bed\n",
      "/lustre1/project/stg_00090/scatac_benchmark/fixedcells_8_individual_tech_cistopic_objects/downstream_analysis/DARs/ddseq_celltypefair_1.FIXEDCELLS/ddseq_celltypefair_1.FIXEDCELLS__Dendritic_cell__DARs.unique.bed\n",
      "/lustre1/project/stg_00090/scatac_benchmark/fixedcells_8_individual_tech_cistopic_objects/downstream_analysis/DARs/ddseq_celltypefair_1.FIXEDCELLS/ddseq_celltypefair_1.FIXEDCELLS__Natural_killer_cell__DARs.unique.bed\n",
      "/lustre1/project/stg_00090/scatac_benchmark/fixedcells_8_individual_tech_cistopic_objects/downstream_analysis/DARs/hydrop_celltypefair_1.FIXEDCELLS/hydrop_celltypefair_1.FIXEDCELLS__B_cell__DARs.unique.bed\n",
      "/lustre1/project/stg_00090/scatac_benchmark/fixedcells_8_individual_tech_cistopic_objects/downstream_analysis/DARs/hydrop_celltypefair_1.FIXEDCELLS/hydrop_celltypefair_1.FIXEDCELLS__CD14+_monocyte__DARs.unique.bed\n",
      "/lustre1/project/stg_00090/scatac_benchmark/fixedcells_8_individual_tech_cistopic_objects/downstream_analysis/DARs/hydrop_celltypefair_1.FIXEDCELLS/hydrop_celltypefair_1.FIXEDCELLS__CD16+_monocyte__DARs.unique.bed\n",
      "/lustre1/project/stg_00090/scatac_benchmark/fixedcells_8_individual_tech_cistopic_objects/downstream_analysis/DARs/hydrop_celltypefair_1.FIXEDCELLS/hydrop_celltypefair_1.FIXEDCELLS__CD4+_T_cell__DARs.unique.bed\n",
      "/lustre1/project/stg_00090/scatac_benchmark/fixedcells_8_individual_tech_cistopic_objects/downstream_analysis/DARs/hydrop_celltypefair_1.FIXEDCELLS/hydrop_celltypefair_1.FIXEDCELLS__Cytotoxic_T_cell__DARs.unique.bed\n",
      "/lustre1/project/stg_00090/scatac_benchmark/fixedcells_8_individual_tech_cistopic_objects/downstream_analysis/DARs/hydrop_celltypefair_1.FIXEDCELLS/hydrop_celltypefair_1.FIXEDCELLS__Dendritic_cell__DARs.unique.bed\n",
      "/lustre1/project/stg_00090/scatac_benchmark/fixedcells_8_individual_tech_cistopic_objects/downstream_analysis/DARs/hydrop_celltypefair_1.FIXEDCELLS/hydrop_celltypefair_1.FIXEDCELLS__Natural_killer_cell__DARs.unique.bed\n",
      "/lustre1/project/stg_00090/scatac_benchmark/fixedcells_8_individual_tech_cistopic_objects/downstream_analysis/DARs/mtscatac_celltypefair_1.FIXEDCELLS/mtscatac_celltypefair_1.FIXEDCELLS__B_cell__DARs.unique.bed\n",
      "/lustre1/project/stg_00090/scatac_benchmark/fixedcells_8_individual_tech_cistopic_objects/downstream_analysis/DARs/mtscatac_celltypefair_1.FIXEDCELLS/mtscatac_celltypefair_1.FIXEDCELLS__CD14+_monocyte__DARs.unique.bed\n",
      "/lustre1/project/stg_00090/scatac_benchmark/fixedcells_8_individual_tech_cistopic_objects/downstream_analysis/DARs/mtscatac_celltypefair_1.FIXEDCELLS/mtscatac_celltypefair_1.FIXEDCELLS__CD16+_monocyte__DARs.unique.bed\n",
      "/lustre1/project/stg_00090/scatac_benchmark/fixedcells_8_individual_tech_cistopic_objects/downstream_analysis/DARs/mtscatac_celltypefair_1.FIXEDCELLS/mtscatac_celltypefair_1.FIXEDCELLS__CD4+_T_cell__DARs.unique.bed\n",
      "/lustre1/project/stg_00090/scatac_benchmark/fixedcells_8_individual_tech_cistopic_objects/downstream_analysis/DARs/mtscatac_celltypefair_1.FIXEDCELLS/mtscatac_celltypefair_1.FIXEDCELLS__Cytotoxic_T_cell__DARs.unique.bed\n",
      "/lustre1/project/stg_00090/scatac_benchmark/fixedcells_8_individual_tech_cistopic_objects/downstream_analysis/DARs/mtscatac_celltypefair_1.FIXEDCELLS/mtscatac_celltypefair_1.FIXEDCELLS__Dendritic_cell__DARs.unique.bed\n",
      "/lustre1/project/stg_00090/scatac_benchmark/fixedcells_8_individual_tech_cistopic_objects/downstream_analysis/DARs/mtscatac_celltypefair_1.FIXEDCELLS/mtscatac_celltypefair_1.FIXEDCELLS__Natural_killer_cell__DARs.unique.bed\n",
      "/lustre1/project/stg_00090/scatac_benchmark/fixedcells_8_individual_tech_cistopic_objects/downstream_analysis/DARs/s3atac_celltypefair_1.FIXEDCELLS/s3atac_celltypefair_1.FIXEDCELLS__B_cell__DARs.unique.bed\n",
      "/lustre1/project/stg_00090/scatac_benchmark/fixedcells_8_individual_tech_cistopic_objects/downstream_analysis/DARs/s3atac_celltypefair_1.FIXEDCELLS/s3atac_celltypefair_1.FIXEDCELLS__CD14+_monocyte__DARs.unique.bed\n",
      "/lustre1/project/stg_00090/scatac_benchmark/fixedcells_8_individual_tech_cistopic_objects/downstream_analysis/DARs/s3atac_celltypefair_1.FIXEDCELLS/s3atac_celltypefair_1.FIXEDCELLS__CD16+_monocyte__DARs.unique.bed\n",
      "/lustre1/project/stg_00090/scatac_benchmark/fixedcells_8_individual_tech_cistopic_objects/downstream_analysis/DARs/s3atac_celltypefair_1.FIXEDCELLS/s3atac_celltypefair_1.FIXEDCELLS__CD4+_T_cell__DARs.unique.bed\n",
      "/lustre1/project/stg_00090/scatac_benchmark/fixedcells_8_individual_tech_cistopic_objects/downstream_analysis/DARs/s3atac_celltypefair_1.FIXEDCELLS/s3atac_celltypefair_1.FIXEDCELLS__Cytotoxic_T_cell__DARs.unique.bed\n",
      "/lustre1/project/stg_00090/scatac_benchmark/fixedcells_8_individual_tech_cistopic_objects/downstream_analysis/DARs/s3atac_celltypefair_1.FIXEDCELLS/s3atac_celltypefair_1.FIXEDCELLS__Dendritic_cell__DARs.unique.bed\n",
      "/lustre1/project/stg_00090/scatac_benchmark/fixedcells_8_individual_tech_cistopic_objects/downstream_analysis/DARs/s3atac_celltypefair_1.FIXEDCELLS/s3atac_celltypefair_1.FIXEDCELLS__Natural_killer_cell__DARs.unique.bed\n"
     ]
    }
   ],
   "source": [
    "ls /lustre1/project/stg_00090/scatac_benchmark/fixedcells_8_individual_tech_cistopic_objects/downstream_analysis/DARs/*.FIXEDCELLS/*__DARs.unique.bed"
   ]
  },
  {
   "cell_type": "code",
   "execution_count": 10,
   "id": "e97732ea-5728-4083-b210-754143cdc779",
   "metadata": {
    "execution": {
     "iopub.execute_input": "2023-03-27T13:07:06.584658Z",
     "iopub.status.busy": "2023-03-27T13:07:06.584026Z",
     "iopub.status.idle": "2023-03-27T13:07:23.260146Z",
     "shell.execute_reply": "2023-03-27T13:07:23.258805Z",
     "shell.execute_reply.started": "2023-03-27T13:07:06.584610Z"
    },
    "tags": []
   },
   "outputs": [
    {
     "name": "stdout",
     "output_type": "stream",
     "text": [
      "10xmultiome_celltypefair_1.FIXEDCELLS__B_cell__DARs.unique.bed\n",
      "10xmultiome_celltypefair_1.FIXEDCELLS__CD14+_monocyte__DARs.unique.bed\n",
      "10xmultiome_celltypefair_1.FIXEDCELLS__CD16+_monocyte__DARs.unique.bed\n",
      "10xmultiome_celltypefair_1.FIXEDCELLS__CD4+_T_cell__DARs.unique.bed\n",
      "10xmultiome_celltypefair_1.FIXEDCELLS__Cytotoxic_T_cell__DARs.unique.bed\n",
      "10xmultiome_celltypefair_1.FIXEDCELLS__Dendritic_cell__DARs.unique.bed\n",
      "10xmultiome_celltypefair_1.FIXEDCELLS__Natural_killer_cell__DARs.unique.bed\n",
      "10xv11_celltypefair_1.FIXEDCELLS__B_cell__DARs.unique.bed\n",
      "10xv11_celltypefair_1.FIXEDCELLS__CD14+_monocyte__DARs.unique.bed\n",
      "10xv11_celltypefair_1.FIXEDCELLS__CD16+_monocyte__DARs.unique.bed\n",
      "10xv11_celltypefair_1.FIXEDCELLS__CD4+_T_cell__DARs.unique.bed\n",
      "10xv11_celltypefair_1.FIXEDCELLS__Cytotoxic_T_cell__DARs.unique.bed\n",
      "10xv11_celltypefair_1.FIXEDCELLS__Dendritic_cell__DARs.unique.bed\n",
      "10xv11_celltypefair_1.FIXEDCELLS__Natural_killer_cell__DARs.unique.bed\n",
      "10xv1_celltypefair_1.FIXEDCELLS__B_cell__DARs.unique.bed\n",
      "10xv1_celltypefair_1.FIXEDCELLS__CD14+_monocyte__DARs.unique.bed\n",
      "10xv1_celltypefair_1.FIXEDCELLS__CD16+_monocyte__DARs.unique.bed\n",
      "10xv1_celltypefair_1.FIXEDCELLS__CD4+_T_cell__DARs.unique.bed\n",
      "10xv1_celltypefair_1.FIXEDCELLS__Cytotoxic_T_cell__DARs.unique.bed\n",
      "10xv1_celltypefair_1.FIXEDCELLS__Dendritic_cell__DARs.unique.bed\n",
      "10xv1_celltypefair_1.FIXEDCELLS__Natural_killer_cell__DARs.unique.bed\n",
      "10xv2_celltypefair_1.FIXEDCELLS__B_cell__DARs.unique.bed\n",
      "10xv2_celltypefair_1.FIXEDCELLS__CD14+_monocyte__DARs.unique.bed\n",
      "10xv2_celltypefair_1.FIXEDCELLS__CD16+_monocyte__DARs.unique.bed\n",
      "10xv2_celltypefair_1.FIXEDCELLS__CD4+_T_cell__DARs.unique.bed\n",
      "10xv2_celltypefair_1.FIXEDCELLS__Cytotoxic_T_cell__DARs.unique.bed\n",
      "10xv2_celltypefair_1.FIXEDCELLS__Dendritic_cell__DARs.unique.bed\n",
      "10xv2_celltypefair_1.FIXEDCELLS__Natural_killer_cell__DARs.unique.bed\n",
      "ddseq_celltypefair_1.FIXEDCELLS__B_cell__DARs.unique.bed\n",
      "ddseq_celltypefair_1.FIXEDCELLS__CD14+_monocyte__DARs.unique.bed\n",
      "ddseq_celltypefair_1.FIXEDCELLS__CD16+_monocyte__DARs.unique.bed\n",
      "ddseq_celltypefair_1.FIXEDCELLS__CD4+_T_cell__DARs.unique.bed\n",
      "ddseq_celltypefair_1.FIXEDCELLS__Cytotoxic_T_cell__DARs.unique.bed\n",
      "ddseq_celltypefair_1.FIXEDCELLS__Dendritic_cell__DARs.unique.bed\n",
      "ddseq_celltypefair_1.FIXEDCELLS__Natural_killer_cell__DARs.unique.bed\n",
      "hydrop_celltypefair_1.FIXEDCELLS__B_cell__DARs.unique.bed\n",
      "hydrop_celltypefair_1.FIXEDCELLS__CD14+_monocyte__DARs.unique.bed\n",
      "hydrop_celltypefair_1.FIXEDCELLS__CD16+_monocyte__DARs.unique.bed\n",
      "hydrop_celltypefair_1.FIXEDCELLS__CD4+_T_cell__DARs.unique.bed\n",
      "hydrop_celltypefair_1.FIXEDCELLS__Cytotoxic_T_cell__DARs.unique.bed\n",
      "hydrop_celltypefair_1.FIXEDCELLS__Dendritic_cell__DARs.unique.bed\n",
      "hydrop_celltypefair_1.FIXEDCELLS__Natural_killer_cell__DARs.unique.bed\n",
      "mtscatac_celltypefair_1.FIXEDCELLS__B_cell__DARs.unique.bed\n",
      "mtscatac_celltypefair_1.FIXEDCELLS__CD14+_monocyte__DARs.unique.bed\n",
      "mtscatac_celltypefair_1.FIXEDCELLS__CD16+_monocyte__DARs.unique.bed\n",
      "mtscatac_celltypefair_1.FIXEDCELLS__CD4+_T_cell__DARs.unique.bed\n",
      "mtscatac_celltypefair_1.FIXEDCELLS__Cytotoxic_T_cell__DARs.unique.bed\n",
      "mtscatac_celltypefair_1.FIXEDCELLS__Dendritic_cell__DARs.unique.bed\n",
      "mtscatac_celltypefair_1.FIXEDCELLS__Natural_killer_cell__DARs.unique.bed\n",
      "s3atac_celltypefair_1.FIXEDCELLS__B_cell__DARs.unique.bed\n",
      "s3atac_celltypefair_1.FIXEDCELLS__CD14+_monocyte__DARs.unique.bed\n",
      "s3atac_celltypefair_1.FIXEDCELLS__CD16+_monocyte__DARs.unique.bed\n",
      "s3atac_celltypefair_1.FIXEDCELLS__CD4+_T_cell__DARs.unique.bed\n",
      "s3atac_celltypefair_1.FIXEDCELLS__Cytotoxic_T_cell__DARs.unique.bed\n",
      "s3atac_celltypefair_1.FIXEDCELLS__Dendritic_cell__DARs.unique.bed\n",
      "s3atac_celltypefair_1.FIXEDCELLS__Natural_killer_cell__DARs.unique.bed\n"
     ]
    }
   ],
   "source": [
    "for filepath in /lustre1/project/stg_00090/scatac_benchmark/fixedcells_8_individual_tech_cistopic_objects/downstream_analysis/DARs/*.FIXEDCELLS/*__DARs.unique.bed\n",
    "do\n",
    "    # echo $filepath\n",
    "    echo `basename $filepath`\n",
    "    newname=(`basename $filepath`)\n",
    "    cp $filepath shared_bigwigs_tracks/$newname\n",
    "done"
   ]
  },
  {
   "cell_type": "code",
   "execution_count": 11,
   "id": "a60d3c00-830e-4be6-9ba8-c0a64338c92e",
   "metadata": {
    "execution": {
     "iopub.execute_input": "2023-03-27T13:08:28.578332Z",
     "iopub.status.busy": "2023-03-27T13:08:28.577696Z",
     "iopub.status.idle": "2023-03-27T13:08:28.694307Z",
     "shell.execute_reply": "2023-03-27T13:08:28.693001Z",
     "shell.execute_reply.started": "2023-03-27T13:08:28.578284Z"
    }
   },
   "outputs": [
    {
     "name": "stdout",
     "output_type": "stream",
     "text": [
      "/lustre1/project/stg_00090/scatac_benchmark/fixedcells_7_merged_equalcells_celltypefair/downstream_analysis/DARs/master_celltypefair_1.FIXEDCELLS/master_celltypefair_1.FIXEDCELLS__B_cell__DARs.unique.bed\n",
      "/lustre1/project/stg_00090/scatac_benchmark/fixedcells_7_merged_equalcells_celltypefair/downstream_analysis/DARs/master_celltypefair_1.FIXEDCELLS/master_celltypefair_1.FIXEDCELLS__CD14+_monocyte__DARs.unique.bed\n",
      "/lustre1/project/stg_00090/scatac_benchmark/fixedcells_7_merged_equalcells_celltypefair/downstream_analysis/DARs/master_celltypefair_1.FIXEDCELLS/master_celltypefair_1.FIXEDCELLS__CD16+_monocyte__DARs.unique.bed\n",
      "/lustre1/project/stg_00090/scatac_benchmark/fixedcells_7_merged_equalcells_celltypefair/downstream_analysis/DARs/master_celltypefair_1.FIXEDCELLS/master_celltypefair_1.FIXEDCELLS__CD4+_T_cell__DARs.unique.bed\n",
      "/lustre1/project/stg_00090/scatac_benchmark/fixedcells_7_merged_equalcells_celltypefair/downstream_analysis/DARs/master_celltypefair_1.FIXEDCELLS/master_celltypefair_1.FIXEDCELLS__Cytotoxic_T_cell__DARs.unique.bed\n",
      "/lustre1/project/stg_00090/scatac_benchmark/fixedcells_7_merged_equalcells_celltypefair/downstream_analysis/DARs/master_celltypefair_1.FIXEDCELLS/master_celltypefair_1.FIXEDCELLS__Dendritic_cell__DARs.unique.bed\n",
      "/lustre1/project/stg_00090/scatac_benchmark/fixedcells_7_merged_equalcells_celltypefair/downstream_analysis/DARs/master_celltypefair_1.FIXEDCELLS/master_celltypefair_1.FIXEDCELLS__Natural_killer_cell__DARs.unique.bed\n"
     ]
    }
   ],
   "source": [
    "ls /lustre1/project/stg_00090/scatac_benchmark/fixedcells_7_merged_equalcells_celltypefair/downstream_analysis/DARs/master_celltypefair_1.FIXEDCELLS/master_celltypefair_1.FIXEDCELLS__*__DARs.unique.bed"
   ]
  },
  {
   "cell_type": "code",
   "execution_count": 12,
   "id": "87eeb979-b0af-442b-8939-a2ba5e1b2ffa",
   "metadata": {
    "execution": {
     "iopub.execute_input": "2023-03-27T13:08:45.034341Z",
     "iopub.status.busy": "2023-03-27T13:08:45.033712Z",
     "iopub.status.idle": "2023-03-27T13:08:56.149162Z",
     "shell.execute_reply": "2023-03-27T13:08:56.147812Z",
     "shell.execute_reply.started": "2023-03-27T13:08:45.034296Z"
    }
   },
   "outputs": [
    {
     "name": "stdout",
     "output_type": "stream",
     "text": [
      "master_celltypefair_1.FIXEDCELLS__B_cell__DARs.unique.bed\n",
      "master_celltypefair_1.FIXEDCELLS__CD14+_monocyte__DARs.unique.bed\n",
      "master_celltypefair_1.FIXEDCELLS__CD16+_monocyte__DARs.unique.bed\n",
      "master_celltypefair_1.FIXEDCELLS__CD4+_T_cell__DARs.unique.bed\n",
      "master_celltypefair_1.FIXEDCELLS__Cytotoxic_T_cell__DARs.unique.bed\n",
      "master_celltypefair_1.FIXEDCELLS__Dendritic_cell__DARs.unique.bed\n",
      "master_celltypefair_1.FIXEDCELLS__Natural_killer_cell__DARs.unique.bed\n"
     ]
    }
   ],
   "source": [
    "for filepath in /lustre1/project/stg_00090/scatac_benchmark/fixedcells_7_merged_equalcells_celltypefair/downstream_analysis/DARs/master_celltypefair_1.FIXEDCELLS/master_celltypefair_1.FIXEDCELLS__*__DARs.unique.bed\n",
    "do\n",
    "    # echo $filepath\n",
    "    echo `basename $filepath`\n",
    "    newname=(`basename $filepath`)\n",
    "    cp $filepath shared_bigwigs_tracks/$newname\n",
    "done"
   ]
  },
  {
   "cell_type": "code",
   "execution_count": 31,
   "id": "49a6e876-7530-4ddc-899e-5e12826bdd79",
   "metadata": {
    "execution": {
     "iopub.execute_input": "2023-03-27T13:25:36.364378Z",
     "iopub.status.busy": "2023-03-27T13:25:36.363746Z",
     "iopub.status.idle": "2023-03-27T13:26:30.026524Z",
     "shell.execute_reply": "2023-03-27T13:26:30.025162Z",
     "shell.execute_reply.started": "2023-03-27T13:25:36.364329Z"
    },
    "tags": []
   },
   "outputs": [
    {
     "name": "stdout",
     "output_type": "stream",
     "text": [
      "master_celltypefair_1.FIXEDCELLS__Bcell.bw\n",
      "master_celltypefair_1.FIXEDCELLS__CD14_monocyte.bw\n",
      "master_celltypefair_1.FIXEDCELLS__CD16_monocyte.bw\n",
      "master_celltypefair_1.FIXEDCELLS__CD4_Tcell.bw\n",
      "master_celltypefair_1.FIXEDCELLS__CytotoxicTcell.bw\n",
      "master_celltypefair_1.FIXEDCELLS__Dendriticcell.bw\n",
      "master_celltypefair_1.FIXEDCELLS__Naturalkillercell.bw\n"
     ]
    }
   ],
   "source": [
    "for filepath in /lustre1/project/stg_00090/scatac_benchmark/fixedcells_7_merged_equalcells_celltypefair/final_consensus_peaks/master_celltypefair_1.FIXEDCELLS__SCREEN_pseudobulk_bw_files/*.bw\n",
    "do\n",
    "    # echo $filepath\n",
    "    # echo `basename $filepath`\n",
    "    newname=(`basename $filepath`)\n",
    "    newname=master_celltypefair_1.FIXEDCELLS__$newname\n",
    "    echo $newname\n",
    "    cp $filepath shared_bigwigs_tracks/$newname\n",
    "    \n",
    "done"
   ]
  },
  {
   "cell_type": "code",
   "execution_count": 47,
   "id": "291b9ebf-64e6-4a34-adef-cf64b080c682",
   "metadata": {
    "execution": {
     "iopub.execute_input": "2023-03-27T13:31:14.518198Z",
     "iopub.status.busy": "2023-03-27T13:31:14.517557Z",
     "iopub.status.idle": "2023-03-27T13:33:21.366854Z",
     "shell.execute_reply": "2023-03-27T13:33:21.365502Z",
     "shell.execute_reply.started": "2023-03-27T13:31:14.518149Z"
    },
    "tags": []
   },
   "outputs": [
    {
     "name": "stdout",
     "output_type": "stream",
     "text": [
      "10xmultiome_celltypefair_1.FIXEDCELLS\n",
      "10xmultiome_celltypefair_1.FIXEDCELLS__Bcell.bw\n",
      "10xmultiome_celltypefair_1.FIXEDCELLS__CD14_monocyte.bw\n",
      "10xmultiome_celltypefair_1.FIXEDCELLS__CD16_monocyte.bw\n",
      "10xmultiome_celltypefair_1.FIXEDCELLS__CD4_Tcell.bw\n",
      "10xmultiome_celltypefair_1.FIXEDCELLS__CytotoxicTcell.bw\n",
      "10xmultiome_celltypefair_1.FIXEDCELLS__Dendriticcell.bw\n",
      "10xmultiome_celltypefair_1.FIXEDCELLS__Naturalkillercell.bw\n",
      "10xv11_celltypefair_1.FIXEDCELLS\n",
      "10xv11_celltypefair_1.FIXEDCELLS__Bcell.bw\n",
      "10xv11_celltypefair_1.FIXEDCELLS__CD14_monocyte.bw\n",
      "10xv11_celltypefair_1.FIXEDCELLS__CD16_monocyte.bw\n",
      "10xv11_celltypefair_1.FIXEDCELLS__CD4_Tcell.bw\n",
      "10xv11_celltypefair_1.FIXEDCELLS__CytotoxicTcell.bw\n",
      "10xv11_celltypefair_1.FIXEDCELLS__Dendriticcell.bw\n",
      "10xv11_celltypefair_1.FIXEDCELLS__Naturalkillercell.bw\n",
      "10xv1_celltypefair_1.FIXEDCELLS\n",
      "10xv1_celltypefair_1.FIXEDCELLS__Bcell.bw\n",
      "10xv1_celltypefair_1.FIXEDCELLS__CD14_monocyte.bw\n",
      "10xv1_celltypefair_1.FIXEDCELLS__CD16_monocyte.bw\n",
      "10xv1_celltypefair_1.FIXEDCELLS__CD4_Tcell.bw\n",
      "10xv1_celltypefair_1.FIXEDCELLS__CytotoxicTcell.bw\n",
      "10xv1_celltypefair_1.FIXEDCELLS__Dendriticcell.bw\n",
      "10xv1_celltypefair_1.FIXEDCELLS__Naturalkillercell.bw\n",
      "10xv2_celltypefair_1.FIXEDCELLS\n",
      "10xv2_celltypefair_1.FIXEDCELLS__Bcell.bw\n",
      "10xv2_celltypefair_1.FIXEDCELLS__CD14_monocyte.bw\n",
      "10xv2_celltypefair_1.FIXEDCELLS__CD16_monocyte.bw\n",
      "10xv2_celltypefair_1.FIXEDCELLS__CD4_Tcell.bw\n",
      "10xv2_celltypefair_1.FIXEDCELLS__CytotoxicTcell.bw\n",
      "10xv2_celltypefair_1.FIXEDCELLS__Dendriticcell.bw\n",
      "10xv2_celltypefair_1.FIXEDCELLS__Naturalkillercell.bw\n",
      "ddseq_celltypefair_1.FIXEDCELLS\n",
      "ddseq_celltypefair_1.FIXEDCELLS__Bcell.bw\n",
      "ddseq_celltypefair_1.FIXEDCELLS__CD14_monocyte.bw\n",
      "ddseq_celltypefair_1.FIXEDCELLS__CD16_monocyte.bw\n",
      "ddseq_celltypefair_1.FIXEDCELLS__CD4_Tcell.bw\n",
      "ddseq_celltypefair_1.FIXEDCELLS__CytotoxicTcell.bw\n",
      "ddseq_celltypefair_1.FIXEDCELLS__Dendriticcell.bw\n",
      "ddseq_celltypefair_1.FIXEDCELLS__Naturalkillercell.bw\n",
      "hydrop_celltypefair_1.FIXEDCELLS\n",
      "hydrop_celltypefair_1.FIXEDCELLS__Bcell.bw\n",
      "hydrop_celltypefair_1.FIXEDCELLS__CD14_monocyte.bw\n",
      "hydrop_celltypefair_1.FIXEDCELLS__CD16_monocyte.bw\n",
      "hydrop_celltypefair_1.FIXEDCELLS__CD4_Tcell.bw\n",
      "hydrop_celltypefair_1.FIXEDCELLS__CytotoxicTcell.bw\n",
      "hydrop_celltypefair_1.FIXEDCELLS__Dendriticcell.bw\n",
      "hydrop_celltypefair_1.FIXEDCELLS__Naturalkillercell.bw\n",
      "mtscatac_celltypefair_1.FIXEDCELLS\n",
      "mtscatac_celltypefair_1.FIXEDCELLS__Bcell.bw\n",
      "mtscatac_celltypefair_1.FIXEDCELLS__CD14_monocyte.bw\n",
      "mtscatac_celltypefair_1.FIXEDCELLS__CD16_monocyte.bw\n",
      "mtscatac_celltypefair_1.FIXEDCELLS__CD4_Tcell.bw\n",
      "mtscatac_celltypefair_1.FIXEDCELLS__CytotoxicTcell.bw\n",
      "mtscatac_celltypefair_1.FIXEDCELLS__Dendriticcell.bw\n",
      "mtscatac_celltypefair_1.FIXEDCELLS__Naturalkillercell.bw\n",
      "s3atac_celltypefair_1.FIXEDCELLS\n",
      "s3atac_celltypefair_1.FIXEDCELLS__Bcell.bw\n",
      "s3atac_celltypefair_1.FIXEDCELLS__CD14_monocyte.bw\n",
      "s3atac_celltypefair_1.FIXEDCELLS__CD16_monocyte.bw\n",
      "s3atac_celltypefair_1.FIXEDCELLS__CD4_Tcell.bw\n",
      "s3atac_celltypefair_1.FIXEDCELLS__CytotoxicTcell.bw\n",
      "s3atac_celltypefair_1.FIXEDCELLS__Dendriticcell.bw\n",
      "s3atac_celltypefair_1.FIXEDCELLS__Naturalkillercell.bw\n"
     ]
    }
   ],
   "source": [
    "for filedir in /lustre1/project/stg_00090/scatac_benchmark/fixedcells_8_individual_tech_cistopic_objects/final_consensus_peaks/*_pseudobulk_bw_files\n",
    "do\n",
    "    sample=(`basename $filedir`)\n",
    "    sample=${sample%__SCREEN_pseudobulk_bw_files}\n",
    "    echo $sample\n",
    "    for filepath in /lustre1/project/stg_00090/scatac_benchmark/fixedcells_8_individual_tech_cistopic_objects/final_consensus_peaks/${sample}*bw*/*\n",
    "    do\n",
    "        newname=`basename $filepath`\n",
    "        newname=${sample}__$newname\n",
    "        echo $newname\n",
    "        cp $filepath shared_bigwigs_tracks/$newname\n",
    "\n",
    "    done \n",
    "done"
   ]
  },
  {
   "cell_type": "code",
   "execution_count": 55,
   "id": "d9a0513c-32c2-4876-b92d-d9f14918ef27",
   "metadata": {
    "execution": {
     "iopub.execute_input": "2023-03-27T13:42:50.113428Z",
     "iopub.status.busy": "2023-03-27T13:42:50.112791Z",
     "iopub.status.idle": "2023-03-27T13:44:17.654520Z",
     "shell.execute_reply": "2023-03-27T13:44:17.653149Z",
     "shell.execute_reply.started": "2023-03-27T13:42:50.113381Z"
    },
    "tags": []
   },
   "outputs": [
    {
     "name": "stdout",
     "output_type": "stream",
     "text": [
      "master_all_1.FIXEDCELLS__SCREEN_consensus_peaks\n",
      "/lustre1/project/stg_00090/scatac_benchmark/fixedcells_4_merged/final_consensus_peaks/master_all_1.FIXEDCELLS__SCREEN_pseudobulk_bw_files/Bcell.bw\n",
      "master_all_1.FIXEDCELLS__SCREEN_consensus_peaks__Bcell.bw\n",
      "/lustre1/project/stg_00090/scatac_benchmark/fixedcells_4_merged/final_consensus_peaks/master_all_1.FIXEDCELLS__SCREEN_pseudobulk_bw_files/CD14_monocyte.bw\n",
      "master_all_1.FIXEDCELLS__SCREEN_consensus_peaks__CD14_monocyte.bw\n",
      "/lustre1/project/stg_00090/scatac_benchmark/fixedcells_4_merged/final_consensus_peaks/master_all_1.FIXEDCELLS__SCREEN_pseudobulk_bw_files/CD16_monocyte.bw\n",
      "master_all_1.FIXEDCELLS__SCREEN_consensus_peaks__CD16_monocyte.bw\n",
      "/lustre1/project/stg_00090/scatac_benchmark/fixedcells_4_merged/final_consensus_peaks/master_all_1.FIXEDCELLS__SCREEN_pseudobulk_bw_files/CD4_Tcell.bw\n",
      "master_all_1.FIXEDCELLS__SCREEN_consensus_peaks__CD4_Tcell.bw\n",
      "/lustre1/project/stg_00090/scatac_benchmark/fixedcells_4_merged/final_consensus_peaks/master_all_1.FIXEDCELLS__SCREEN_pseudobulk_bw_files/CytotoxicTcell.bw\n",
      "master_all_1.FIXEDCELLS__SCREEN_consensus_peaks__CytotoxicTcell.bw\n",
      "/lustre1/project/stg_00090/scatac_benchmark/fixedcells_4_merged/final_consensus_peaks/master_all_1.FIXEDCELLS__SCREEN_pseudobulk_bw_files/Dendriticcell.bw\n",
      "master_all_1.FIXEDCELLS__SCREEN_consensus_peaks__Dendriticcell.bw\n",
      "/lustre1/project/stg_00090/scatac_benchmark/fixedcells_4_merged/final_consensus_peaks/master_all_1.FIXEDCELLS__SCREEN_pseudobulk_bw_files/Naturalkillercell.bw\n",
      "master_all_1.FIXEDCELLS__SCREEN_consensus_peaks__Naturalkillercell.bw\n",
      "master_all_1.FIXEDCELLS__SCREEN_pseudobulk_bed_files\n",
      "/lustre1/project/stg_00090/scatac_benchmark/fixedcells_4_merged/final_consensus_peaks/master_all_1.FIXEDCELLS__SCREEN_pseudobulk_bw_files/Bcell.bw\n",
      "master_all_1.FIXEDCELLS__SCREEN_pseudobulk_bed_files__Bcell.bw\n",
      "/lustre1/project/stg_00090/scatac_benchmark/fixedcells_4_merged/final_consensus_peaks/master_all_1.FIXEDCELLS__SCREEN_pseudobulk_bw_files/CD14_monocyte.bw\n",
      "master_all_1.FIXEDCELLS__SCREEN_pseudobulk_bed_files__CD14_monocyte.bw\n",
      "/lustre1/project/stg_00090/scatac_benchmark/fixedcells_4_merged/final_consensus_peaks/master_all_1.FIXEDCELLS__SCREEN_pseudobulk_bw_files/CD16_monocyte.bw\n",
      "master_all_1.FIXEDCELLS__SCREEN_pseudobulk_bed_files__CD16_monocyte.bw\n",
      "/lustre1/project/stg_00090/scatac_benchmark/fixedcells_4_merged/final_consensus_peaks/master_all_1.FIXEDCELLS__SCREEN_pseudobulk_bw_files/CD4_Tcell.bw\n",
      "master_all_1.FIXEDCELLS__SCREEN_pseudobulk_bed_files__CD4_Tcell.bw\n",
      "/lustre1/project/stg_00090/scatac_benchmark/fixedcells_4_merged/final_consensus_peaks/master_all_1.FIXEDCELLS__SCREEN_pseudobulk_bw_files/CytotoxicTcell.bw\n",
      "master_all_1.FIXEDCELLS__SCREEN_pseudobulk_bed_files__CytotoxicTcell.bw\n",
      "/lustre1/project/stg_00090/scatac_benchmark/fixedcells_4_merged/final_consensus_peaks/master_all_1.FIXEDCELLS__SCREEN_pseudobulk_bw_files/Dendriticcell.bw\n",
      "master_all_1.FIXEDCELLS__SCREEN_pseudobulk_bed_files__Dendriticcell.bw\n",
      "/lustre1/project/stg_00090/scatac_benchmark/fixedcells_4_merged/final_consensus_peaks/master_all_1.FIXEDCELLS__SCREEN_pseudobulk_bw_files/Naturalkillercell.bw\n",
      "master_all_1.FIXEDCELLS__SCREEN_pseudobulk_bed_files__Naturalkillercell.bw\n",
      "master_all_1.FIXEDCELLS\n",
      "/lustre1/project/stg_00090/scatac_benchmark/fixedcells_4_merged/final_consensus_peaks/master_all_1.FIXEDCELLS__SCREEN_pseudobulk_bw_files/Bcell.bw\n",
      "master_all_1.FIXEDCELLS__Bcell.bw\n",
      "/lustre1/project/stg_00090/scatac_benchmark/fixedcells_4_merged/final_consensus_peaks/master_all_1.FIXEDCELLS__SCREEN_pseudobulk_bw_files/CD14_monocyte.bw\n",
      "master_all_1.FIXEDCELLS__CD14_monocyte.bw\n",
      "/lustre1/project/stg_00090/scatac_benchmark/fixedcells_4_merged/final_consensus_peaks/master_all_1.FIXEDCELLS__SCREEN_pseudobulk_bw_files/CD16_monocyte.bw\n",
      "master_all_1.FIXEDCELLS__CD16_monocyte.bw\n",
      "/lustre1/project/stg_00090/scatac_benchmark/fixedcells_4_merged/final_consensus_peaks/master_all_1.FIXEDCELLS__SCREEN_pseudobulk_bw_files/CD4_Tcell.bw\n",
      "master_all_1.FIXEDCELLS__CD4_Tcell.bw\n",
      "/lustre1/project/stg_00090/scatac_benchmark/fixedcells_4_merged/final_consensus_peaks/master_all_1.FIXEDCELLS__SCREEN_pseudobulk_bw_files/CytotoxicTcell.bw\n",
      "master_all_1.FIXEDCELLS__CytotoxicTcell.bw\n",
      "/lustre1/project/stg_00090/scatac_benchmark/fixedcells_4_merged/final_consensus_peaks/master_all_1.FIXEDCELLS__SCREEN_pseudobulk_bw_files/Dendriticcell.bw\n",
      "master_all_1.FIXEDCELLS__Dendriticcell.bw\n",
      "/lustre1/project/stg_00090/scatac_benchmark/fixedcells_4_merged/final_consensus_peaks/master_all_1.FIXEDCELLS__SCREEN_pseudobulk_bw_files/Naturalkillercell.bw\n",
      "master_all_1.FIXEDCELLS__Naturalkillercell.bw\n"
     ]
    }
   ],
   "source": [
    "for filedir in /lustre1/project/stg_00090/scatac_benchmark/fixedcells_4_merged/final_consensus_peaks/*/\n",
    "do\n",
    "    sample=(`basename $filedir`)\n",
    "    sample=${sample%__SCREEN_pseudobulk_bw_files}\n",
    "    echo $sample\n",
    "    for filepath in /lustre1/project/stg_00090/scatac_benchmark/fixedcells_4_merged/final_consensus_peaks/*bw*/*\n",
    "    do\n",
    "        echo $filepath\n",
    "        newname=`basename $filepath`\n",
    "        newname=${sample}__$newname\n",
    "        echo $newname\n",
    "        cp $filepath shared_bigwigs_tracks/$newname\n",
    "\n",
    "    done \n",
    "done"
   ]
  },
  {
   "cell_type": "code",
   "execution_count": null,
   "id": "c128ae17-12ef-445d-a30f-a23639e839cc",
   "metadata": {},
   "outputs": [],
   "source": []
  }
 ],
 "metadata": {
  "kernelspec": {
   "display_name": "Bash",
   "language": "bash",
   "name": "bash"
  },
  "language_info": {
   "codemirror_mode": "shell",
   "file_extension": ".sh",
   "mimetype": "text/x-sh",
   "name": "bash"
  }
 },
 "nbformat": 4,
 "nbformat_minor": 5
}

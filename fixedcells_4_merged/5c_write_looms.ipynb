{
 "cells": [
  {
   "cell_type": "code",
   "execution_count": 1,
   "id": "c9320460-5b37-4362-bf33-65c5d283735a",
   "metadata": {
    "execution": {
     "iopub.execute_input": "2023-05-30T16:27:56.667640Z",
     "iopub.status.busy": "2023-05-30T16:27:56.667415Z",
     "iopub.status.idle": "2023-05-30T16:28:00.690108Z",
     "shell.execute_reply": "2023-05-30T16:28:00.689433Z",
     "shell.execute_reply.started": "2023-05-30T16:27:56.667590Z"
    },
    "tags": []
   },
   "outputs": [],
   "source": [
    "import pycisTopic\n",
    "import pickle\n",
    "import pandas as pd\n",
    "\n",
    "\n",
    "import os\n",
    "\n",
    "import glob\n",
    "import loompy as lp\n",
    "import numpy as np\n",
    "\n",
    "%load_ext lab_black"
   ]
  },
  {
   "cell_type": "code",
   "execution_count": 2,
   "id": "fe5ed425-2679-492d-a2b6-a99039adaa75",
   "metadata": {
    "execution": {
     "iopub.execute_input": "2023-05-30T16:28:00.692241Z",
     "iopub.status.busy": "2023-05-30T16:28:00.691799Z",
     "iopub.status.idle": "2023-05-30T16:28:01.932422Z",
     "shell.execute_reply": "2023-05-30T16:28:01.931658Z",
     "shell.execute_reply.started": "2023-05-30T16:28:00.692217Z"
    },
    "tags": []
   },
   "outputs": [],
   "source": [
    "# Load class\n",
    "class loom_file_creation:\n",
    "    import os\n",
    "    import matplotlib as mpl\n",
    "    import matplotlib.pyplot as plt\n",
    "    import pandas as pd\n",
    "    import numpy as np\n",
    "    import seaborn as sns\n",
    "    import scanpy as sc\n",
    "\n",
    "    def __init__(self, dgem, meta):\n",
    "        import numpy as np\n",
    "        import pandas as pd\n",
    "\n",
    "        self.dgem = dgem\n",
    "        self.meta = meta\n",
    "        self.CPM = self.dgem / self.dgem.sum() * 1e6\n",
    "        self.logCPM = np.log1p(self.CPM)\n",
    "        self.metaJson = {}\n",
    "        self.metaJson[\"metrics\"] = []\n",
    "        self.metaJson[\"annotations\"] = []\n",
    "        # initialize counters\n",
    "        self.default_embedding_counter = 0\n",
    "        self.embeddings_id = 1\n",
    "        self.clusterings_id = 0\n",
    "        self.col_attrs_counter = 0\n",
    "        self.row_attrs_counter = 0\n",
    "        self.attrs_counter = 0\n",
    "        # add other embeddings\n",
    "        self.Embeddings_X = pd.DataFrame()\n",
    "        self.Embeddings_Y = pd.DataFrame()\n",
    "        # add clusterings\n",
    "        self.clusterings = pd.DataFrame(index=self.meta.index)\n",
    "\n",
    "    def add_default_embedding(self, x, y, name=\"default\"):\n",
    "        self.main_dr = self.meta[[x, y]]\n",
    "        self.main_dr.columns = [\"_X\", \"_Y\"]\n",
    "        self.metaJson[\"embeddings\"] = [{\"id\": -1, \"name\": name}]\n",
    "        self.default_embedding_counter = 1\n",
    "\n",
    "    def add_other_embedding(self, x, y, name):\n",
    "        # every extra embedding is put in these dataframes as columns\n",
    "        self.Embeddings_X[str(self.embeddings_id)] = self.meta[x]\n",
    "        self.Embeddings_Y[str(self.embeddings_id)] = self.meta[y]\n",
    "        self.metaJson[\"embeddings\"].append({\"id\": self.embeddings_id, \"name\": name})\n",
    "        self.embeddings_id += 1\n",
    "\n",
    "    # here you can add description of the cluster\n",
    "    def add_numeric_clustering(self, res, group, name, annotated=None):\n",
    "        # add all cluster IDs to meta\n",
    "        if self.clusterings_id == 0:\n",
    "            self.metaJson[\"clusterings\"] = [\n",
    "                {\n",
    "                    \"id\": self.clusterings_id,\n",
    "                    \"group\": group,\n",
    "                    \"name\": name,\n",
    "                    \"clusters\": [],\n",
    "                }\n",
    "            ]\n",
    "        if self.clusterings_id > 0:\n",
    "            # add all cluster IDs to meta\n",
    "            self.metaJson[\"clusterings\"].append(\n",
    "                {\n",
    "                    \"id\": self.clusterings_id,\n",
    "                    \"group\": group,\n",
    "                    \"name\": name,\n",
    "                    \"clusters\": [],\n",
    "                }\n",
    "            )\n",
    "        # get annotation for numeric values (count annotation for each numeric value, take the annotation that occurs the most)\n",
    "        if annotated in self.meta.columns:\n",
    "            annotation_dataframe = pd.DataFrame(\n",
    "                meta.groupby(res)[annotated].value_counts().groupby(res).head(n=1)\n",
    "            )\n",
    "            annotation_dataframe.columns = [\"test\"]\n",
    "            annotation_dataframe = annotation_dataframe.reset_index()\n",
    "            annotation_dataframe.index = annotation_dataframe[res]\n",
    "            annotation_dataframe.drop(res, axis=1, inplace=True)\n",
    "            annotation_dataframe.drop(\"test\", axis=1, inplace=True)\n",
    "            for i in range(max(set([int(x) for x in self.meta[res]])) + 1):\n",
    "                clustDict = {}\n",
    "                clustDict[\"id\"] = i\n",
    "                clustDict[\"description\"] = annotation_dataframe.loc[i, annotated]\n",
    "                self.metaJson[\"clusterings\"][self.clusterings_id][\"clusters\"].append(\n",
    "                    clustDict\n",
    "                )\n",
    "        else:\n",
    "            for i in range(max(set([int(x) for x in self.meta[res]])) + 1):\n",
    "                clustDict = {}\n",
    "                clustDict[\"id\"] = i\n",
    "                clustDict[\"description\"] = f\"Unannotated Cluster {i}\"\n",
    "                self.metaJson[\"clusterings\"][self.clusterings_id][\"clusters\"].append(\n",
    "                    clustDict\n",
    "                )\n",
    "        # add cluster IDs for every cell to dataframe\n",
    "        self.clusterings[str(self.clusterings_id)] = self.meta[res].values.astype(\n",
    "            np.int64\n",
    "        )\n",
    "        # increase counter\n",
    "        self.clusterings_id += 1\n",
    "\n",
    "    def dfToNamedMatrix(df):\n",
    "        arr_ip = [tuple(i) for i in df.values]\n",
    "        dtyp = np.dtype(list(zip(df.dtypes.index, df.dtypes)))\n",
    "        arr = np.array(arr_ip, dtype=dtyp)\n",
    "        return arr\n",
    "\n",
    "    def make_col_attributes(self):\n",
    "        # define col attributes\n",
    "        if self.embeddings_id > 1:\n",
    "            if self.clusterings_id > 0:\n",
    "                self.col_attrs = {\n",
    "                    \"CellID\": np.array(self.meta.index),\n",
    "                    \"Embedding\": dfToNamedMatrix(self.main_dr),\n",
    "                    \"Embeddings_X\": dfToNamedMatrix(self.Embeddings_X),\n",
    "                    \"Embeddings_Y\": dfToNamedMatrix(self.Embeddings_Y),\n",
    "                    \"Clusterings\": dfToNamedMatrix(self.clusterings),\n",
    "                    \"ClusterID\": np.array(\n",
    "                        self.clusterings[str(self.clusterings_id - 1)].values\n",
    "                    ),\n",
    "                }\n",
    "            else:\n",
    "                self.col_attrs = {\n",
    "                    \"CellID\": np.array(self.meta.index),\n",
    "                    \"Embedding\": dfToNamedMatrix(self.main_dr),\n",
    "                    \"Embeddings_X\": dfToNamedMatrix(self.Embeddings_X),\n",
    "                    \"Embeddings_Y\": dfToNamedMatrix(self.Embeddings_Y),\n",
    "                }\n",
    "        elif self.clusterings_id > 0:\n",
    "            self.col_attrs = {\n",
    "                \"CellID\": np.array(self.meta.index),\n",
    "                \"Embedding\": dfToNamedMatrix(self.main_dr),\n",
    "                \"Clusterings\": dfToNamedMatrix(self.clusterings),\n",
    "                \"ClusterID\": np.array(\n",
    "                    self.clusterings[str(self.clusterings_id - 1)].values\n",
    "                ),\n",
    "            }\n",
    "        else:\n",
    "            self.col_attrs = {\n",
    "                \"CellID\": np.array(self.meta.index),\n",
    "                \"Embedding\": dfToNamedMatrix(self.main_dr),\n",
    "            }\n",
    "        self.col_attrs_counter = 1\n",
    "\n",
    "    def add_annotation(self, annotation):\n",
    "        if self.col_attrs_counter < 1:\n",
    "            print(\"first run make_col_attributes\")\n",
    "        self.metaJson[\"annotations\"].append(\n",
    "            {\"name\": annotation, \"values\": list(set(self.meta[annotation].values))}\n",
    "        )\n",
    "        self.col_attrs[annotation] = np.array(self.meta[annotation].values)\n",
    "\n",
    "    def add_metric(self, metric):\n",
    "        if self.col_attrs_counter < 1:\n",
    "            print(\"first run make_col_attributes\")\n",
    "        self.metaJson[\"metrics\"].append({\"name\": metric})\n",
    "        self.col_attrs[metric] = np.array(self.meta[metric].values)\n",
    "\n",
    "    def make_row_attributes(self):\n",
    "        self.row_attrs = {\"Gene\": np.array(self.dgem.index)}\n",
    "        self.row_attrs_counter = 1\n",
    "\n",
    "    def make_attributes(self):\n",
    "        import json\n",
    "        import base64\n",
    "        import zlib\n",
    "\n",
    "        self.attrs = {\"MetaData\": json.dumps(self.metaJson)}\n",
    "        self.attrs[\"MetaData\"] = base64.b64encode(\n",
    "            zlib.compress(json.dumps(self.metaJson).encode(\"ascii\"))\n",
    "        ).decode(\"ascii\")\n",
    "        self.attrs_counter = 1\n",
    "\n",
    "    #     def add_attrs(self):\n",
    "    #         import json\n",
    "    #         import base64\n",
    "    #         import zlib\n",
    "\n",
    "    #         self.attrs = {\"MetaData\": json.dumps(self.metaJson)}\n",
    "    #         self.attrs[\"MetaData\"] = base64.b64encode(\n",
    "    #             zlib.compress(json.dumps(self.metaJson).encode(\"ascii\"))\n",
    "    #         ).decode(\"ascii\")\n",
    "    #         self.attrs_counter = 1\n",
    "\n",
    "    def create_loomfile(self, path):\n",
    "        import loompy as lp\n",
    "\n",
    "        if (\n",
    "            self.col_attrs_counter == 1\n",
    "            and self.row_attrs_counter == 1\n",
    "            and self.default_embedding_counter == 1\n",
    "            and self.attrs_counter == 1\n",
    "        ):\n",
    "            lp.create(\n",
    "                filename=path,\n",
    "                layers=(self.dgem).values,\n",
    "                row_attrs=self.row_attrs,\n",
    "                col_attrs=self.col_attrs,\n",
    "                file_attrs=self.attrs,\n",
    "            )\n",
    "        else:\n",
    "            print(\n",
    "                \"Make sure that col_attr, row_attrs, attrs and embedding have been run\"\n",
    "            )"
   ]
  },
  {
   "cell_type": "code",
   "execution_count": 3,
   "id": "2d2a1564-29a5-4125-bc53-820ce23a031b",
   "metadata": {
    "execution": {
     "iopub.execute_input": "2023-05-30T16:28:01.933558Z",
     "iopub.status.busy": "2023-05-30T16:28:01.933263Z",
     "iopub.status.idle": "2023-05-30T16:28:01.940312Z",
     "shell.execute_reply": "2023-05-30T16:28:01.938918Z",
     "shell.execute_reply.started": "2023-05-30T16:28:01.933536Z"
    },
    "tags": []
   },
   "outputs": [],
   "source": [
    "def dfToNamedMatrix(df):\n",
    "    arr_ip = [tuple(i) for i in df.values]\n",
    "    dtyp = np.dtype(list(zip(df.dtypes.index, df.dtypes)))\n",
    "    arr = np.array(arr_ip, dtype=dtyp)\n",
    "    return arr"
   ]
  },
  {
   "cell_type": "code",
   "execution_count": 4,
   "id": "684aad8c-c003-4311-aa6e-8cceec0f76aa",
   "metadata": {
    "execution": {
     "iopub.execute_input": "2023-05-30T16:28:01.941612Z",
     "iopub.status.busy": "2023-05-30T16:28:01.941135Z",
     "iopub.status.idle": "2023-05-30T16:28:01.957958Z",
     "shell.execute_reply": "2023-05-30T16:28:01.957052Z",
     "shell.execute_reply.started": "2023-05-30T16:28:01.941592Z"
    },
    "tags": []
   },
   "outputs": [
    {
     "data": {
      "text/plain": [
       "{'master_all_1.FIXEDCELLS': 'cistopic_objects_master/master_all_1.FIXEDCELLS__cto.scrublet0-4.fmx.singlets.model_24topics.dimreduc.consensus_harmony.pkl'}"
      ]
     },
     "execution_count": 4,
     "metadata": {},
     "output_type": "execute_result"
    }
   ],
   "source": [
    "cto_path_dict = {\n",
    "    x.split(\"/\")[-1].split(\".\")[0] + \".FIXEDCELLS\": x\n",
    "    for x in sorted(\n",
    "        glob.glob(\n",
    "            \"cistopic_objects_master/*.FIXEDCELLS__cto.scrublet0-4.fmx.singlets.*.dimreduc.consensus_harmony.pkl\"\n",
    "        )\n",
    "    )\n",
    "}\n",
    "cto_path_dict"
   ]
  },
  {
   "cell_type": "code",
   "execution_count": 5,
   "id": "3c87bb27-c90e-4519-9101-057f74977fb6",
   "metadata": {
    "execution": {
     "iopub.execute_input": "2023-05-30T16:28:01.959123Z",
     "iopub.status.busy": "2023-05-30T16:28:01.958680Z",
     "iopub.status.idle": "2023-05-30T16:28:01.962218Z",
     "shell.execute_reply": "2023-05-30T16:28:01.961649Z",
     "shell.execute_reply.started": "2023-05-30T16:28:01.959103Z"
    },
    "tags": []
   },
   "outputs": [],
   "source": [
    "import numpy as np"
   ]
  },
  {
   "cell_type": "code",
   "execution_count": 6,
   "id": "ac0f26de-fadb-48bb-b503-265ae8dc80a8",
   "metadata": {
    "execution": {
     "iopub.execute_input": "2023-05-30T16:28:01.963258Z",
     "iopub.status.busy": "2023-05-30T16:28:01.962926Z",
     "iopub.status.idle": "2023-05-30T16:28:01.970203Z",
     "shell.execute_reply": "2023-05-30T16:28:01.969626Z",
     "shell.execute_reply.started": "2023-05-30T16:28:01.963237Z"
    },
    "tags": []
   },
   "outputs": [],
   "source": [
    "sex_dict = {\"sampleA\": \"male\", \"sampleB\": \"female\", \"unknown\": \"unknown\"}"
   ]
  },
  {
   "cell_type": "code",
   "execution_count": 7,
   "id": "0bea92f3-fad2-4d2a-893b-b18243f6ae61",
   "metadata": {
    "execution": {
     "iopub.execute_input": "2023-05-30T16:28:01.972248Z",
     "iopub.status.busy": "2023-05-30T16:28:01.971992Z",
     "iopub.status.idle": "2023-05-30T16:38:16.057530Z",
     "shell.execute_reply": "2023-05-30T16:38:16.056278Z",
     "shell.execute_reply.started": "2023-05-30T16:28:01.972228Z"
    },
    "tags": []
   },
   "outputs": [
    {
     "name": "stdout",
     "output_type": "stream",
     "text": [
      "master_all_1.FIXEDCELLS\n"
     ]
    }
   ],
   "source": [
    "for sample, path in cto_path_dict.items():\n",
    "    print(sample)\n",
    "    with open(path, \"rb\") as f:\n",
    "        cto = pickle.load(f)\n",
    "\n",
    "    df = pd.DataFrame(\n",
    "        cto.fragment_matrix.toarray(), columns=cto.cell_names, index=cto.region_names\n",
    "    )\n",
    "\n",
    "    loomfile = loom_file_creation(df, cto.cell_data)\n",
    "    cto.cell_data[\"tSNE_X\"] = cto.projections[\"cell\"][\"tSNE\"][\"tSNE_1\"]\n",
    "    cto.cell_data[\"tSNE_Y\"] = cto.projections[\"cell\"][\"tSNE\"][\"tSNE_2\"]\n",
    "    cto.cell_data[\"harmony_tSNE_X\"] = cto.projections[\"cell\"][\"tSNE_harmony\"][\"tSNE_1\"]\n",
    "    cto.cell_data[\"harmony_tSNE_Y\"] = cto.projections[\"cell\"][\"tSNE_harmony\"][\"tSNE_2\"]\n",
    "    loomfile.add_default_embedding(x=\"harmony_tSNE_X\", y=\"harmony_tSNE_Y\")\n",
    "    # loomfile.add_numeric_clustering(res=\"pycisTopic_leiden_10_0.9\",group=\"pycisTopic_leiden_10_0.9\",name=\"pycisTopic_leiden_10_0.9\",annotated='cell_type')\n",
    "    # loomfile.add_numeric_clustering(res=\"integrated_snn_res.2\",group=\"Louvain\",name=\"Unannotated\")\n",
    "    loomfile.make_col_attributes()\n",
    "    loomfile.make_row_attributes()\n",
    "    loomfile.add_annotation(annotation=\"harmony_consensus_cell_type__mega\")\n",
    "    # loomfile.add_annotation(annotation=\"seurat_cell_type\")\n",
    "    loomfile.add_annotation(annotation=\"harmony_pycisTopic_leiden_10_3.0\")\n",
    "    if \"fmx_sample\" in cto.cell_data.columns:\n",
    "        cto.cell_data[\"fmx_sample\"] = cto.cell_data[\"fmx_sample\"].fillna(\"unknown\")\n",
    "        cto.cell_data[\"sex\"] = [sex_dict[x] for x in cto.cell_data[\"fmx_sample\"]]\n",
    "\n",
    "    loomfile.add_metric(metric=\"Unique_nr_frag_in_regions\")\n",
    "    loomfile.add_metric(metric=\"Dupl_rate\")\n",
    "    loomfile.add_metric(metric=\"FRIP\")\n",
    "    loomfile.add_metric(metric=\"TSS_enrichment\")\n",
    "    loomfile.add_metric(metric=\"seurat_cell_type_pred_score__mega\")\n",
    "    cto.cell_data[\"Scrublet_doublet_score\"] = cto.cell_data[\"Doublet_scores_fragments\"]\n",
    "    loomfile.add_metric(metric=\"Scrublet_doublet_score\")\n",
    "    # loomfile.add_metric(metric=\"n_genes\")\n",
    "    loomfile.make_attributes()\n",
    "    loomfile.create_loomfile(f\"scope_looms/{sample}__count_matrix_in_own_peaks.loom\")"
   ]
  },
  {
   "cell_type": "code",
   "execution_count": 8,
   "id": "8af6acc0-4fe6-40ac-b3ca-faaeb8a3f1df",
   "metadata": {
    "execution": {
     "iopub.execute_input": "2023-05-30T16:38:16.059904Z",
     "iopub.status.busy": "2023-05-30T16:38:16.058688Z",
     "iopub.status.idle": "2023-05-30T16:38:16.065722Z",
     "shell.execute_reply": "2023-05-30T16:38:16.065153Z",
     "shell.execute_reply.started": "2023-05-30T16:38:16.059877Z"
    },
    "tags": []
   },
   "outputs": [
    {
     "data": {
      "text/plain": [
       "Index(['cisTopic_log_nr_frag', 'cisTopic_nr_frag', 'cisTopic_log_nr_acc',\n",
       "       'cisTopic_nr_acc', 'Log_total_nr_frag', 'Log_unique_nr_frag',\n",
       "       'Total_nr_frag', 'Unique_nr_frag', 'Dupl_nr_frag', 'Dupl_rate',\n",
       "       'Total_nr_frag_in_regions', 'Unique_nr_frag_in_regions', 'FRIP',\n",
       "       'TSS_enrichment', 'sample_id', 'barcode', 'Doublet_scores_fragments',\n",
       "       'Predicted_doublets_fragments', 'fmx_droplet_type', 'fmx_sample',\n",
       "       'pycisTopic_leiden_10_3.0', 'tech', 'centre_tech',\n",
       "       'Log_unique_nr_frag_in_regions', 'consensus_cell_type_individual',\n",
       "       'seurat_cell_type_pred_score', 'cell_type__mega',\n",
       "       'seurat_cell_type_pred_score__mega', 'consensus_cell_type__mega',\n",
       "       'seurat_cell_type__mega', 'harmony_pycisTopic_leiden_10_3.0',\n",
       "       'harmony_consensus_cell_type__mega', 'tSNE_X', 'tSNE_Y',\n",
       "       'harmony_tSNE_X', 'harmony_tSNE_Y', 'sex', 'Scrublet_doublet_score'],\n",
       "      dtype='object')"
      ]
     },
     "execution_count": 8,
     "metadata": {},
     "output_type": "execute_result"
    }
   ],
   "source": [
    "cto.cell_data.columns"
   ]
  },
  {
   "cell_type": "code",
   "execution_count": 9,
   "id": "b39b1b2b-33c0-4916-9422-15c2e060a4b2",
   "metadata": {
    "execution": {
     "iopub.execute_input": "2023-05-30T16:38:16.066774Z",
     "iopub.status.busy": "2023-05-30T16:38:16.066521Z",
     "iopub.status.idle": "2023-05-30T16:38:16.085735Z",
     "shell.execute_reply": "2023-05-30T16:38:16.084762Z",
     "shell.execute_reply.started": "2023-05-30T16:38:16.066754Z"
    },
    "tags": []
   },
   "outputs": [
    {
     "name": "stdout",
     "output_type": "stream",
     "text": [
      "scope_looms/master_all_1.FIXEDCELLS__count_matrix_in_own_peaks.loom\n"
     ]
    }
   ],
   "source": [
    "for loom_file in glob.glob(\"scope_looms/*.loom\"):\n",
    "    print(loom_file)\n",
    "    with lp.connect(loom_file, \"r+\", validate=False) as ds:\n",
    "        ds.attrs[\"SCopeTreeL1\"] = \"scATAC_seq\"\n",
    "        ds.attrs[\"SCopeTreeL2\"] = \"Downsampled_data_merged\"\n",
    "        ds.attrs[\"SCopeTreeL3\"] = \"Count_matrix_in_all_samples_consensus_peaks\""
   ]
  }
 ],
 "metadata": {
  "kernelspec": {
   "display_name": "20221014_pycistopic.sif",
   "language": "python",
   "name": "cistopic_20221014"
  },
  "language_info": {
   "codemirror_mode": {
    "name": "ipython",
    "version": 3
   },
   "file_extension": ".py",
   "mimetype": "text/x-python",
   "name": "python",
   "nbconvert_exporter": "python",
   "pygments_lexer": "ipython3",
   "version": "3.8.15"
  }
 },
 "nbformat": 4,
 "nbformat_minor": 5
}

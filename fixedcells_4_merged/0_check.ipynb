{
 "cells": [
  {
   "cell_type": "code",
   "execution_count": 10,
   "id": "13a204db",
   "metadata": {
    "execution": {
     "iopub.execute_input": "2022-12-05T13:40:51.059639Z",
     "iopub.status.busy": "2022-12-05T13:40:51.058822Z",
     "iopub.status.idle": "2022-12-05T13:40:51.265430Z",
     "shell.execute_reply": "2022-12-05T13:40:51.263917Z",
     "shell.execute_reply.started": "2022-12-05T13:40:51.059579Z"
    },
    "tags": []
   },
   "outputs": [],
   "source": [
    "import glob\n",
    "import pickle\n",
    "import pandas as pd\n",
    "import os\n",
    "\n",
    "%load_ext lab_black"
   ]
  },
  {
   "cell_type": "code",
   "execution_count": 2,
   "id": "ca05809a",
   "metadata": {
    "execution": {
     "iopub.execute_input": "2022-12-05T12:43:47.603365Z",
     "iopub.status.busy": "2022-12-05T12:43:47.602737Z",
     "iopub.status.idle": "2022-12-05T12:43:47.623313Z",
     "shell.execute_reply": "2022-12-05T12:43:47.622183Z",
     "shell.execute_reply.started": "2022-12-05T12:43:47.603331Z"
    },
    "tags": []
   },
   "outputs": [
    {
     "data": {
      "text/plain": [
       "{'BIO_ddseq_1.FIXEDCELLS__cto.pkl': 'cistopic_objects/BIO_ddseq_1.FIXEDCELLS__cto.pkl',\n",
       " 'BIO_ddseq_2.FIXEDCELLS__cto.pkl': 'cistopic_objects/BIO_ddseq_2.FIXEDCELLS__cto.pkl',\n",
       " 'BIO_ddseq_3.FIXEDCELLS__cto.pkl': 'cistopic_objects/BIO_ddseq_3.FIXEDCELLS__cto.pkl',\n",
       " 'BIO_ddseq_4.FIXEDCELLS__cto.pkl': 'cistopic_objects/BIO_ddseq_4.FIXEDCELLS__cto.pkl',\n",
       " 'BRO_mtscatac_1.FIXEDCELLS__cto.pkl': 'cistopic_objects/BRO_mtscatac_1.FIXEDCELLS__cto.pkl',\n",
       " 'BRO_mtscatac_2.FIXEDCELLS__cto.pkl': 'cistopic_objects/BRO_mtscatac_2.FIXEDCELLS__cto.pkl',\n",
       " 'CNA_10xmultiome_1.FIXEDCELLS__cto.pkl': 'cistopic_objects/CNA_10xmultiome_1.FIXEDCELLS__cto.pkl',\n",
       " 'CNA_10xmultiome_2.FIXEDCELLS__cto.pkl': 'cistopic_objects/CNA_10xmultiome_2.FIXEDCELLS__cto.pkl',\n",
       " 'CNA_10xv11_1.FIXEDCELLS__cto.pkl': 'cistopic_objects/CNA_10xv11_1.FIXEDCELLS__cto.pkl',\n",
       " 'CNA_10xv11_2.FIXEDCELLS__cto.pkl': 'cistopic_objects/CNA_10xv11_2.FIXEDCELLS__cto.pkl',\n",
       " 'CNA_10xv11_3.FIXEDCELLS__cto.pkl': 'cistopic_objects/CNA_10xv11_3.FIXEDCELLS__cto.pkl',\n",
       " 'CNA_10xv11_4.FIXEDCELLS__cto.pkl': 'cistopic_objects/CNA_10xv11_4.FIXEDCELLS__cto.pkl',\n",
       " 'CNA_10xv11_5.FIXEDCELLS__cto.pkl': 'cistopic_objects/CNA_10xv11_5.FIXEDCELLS__cto.pkl',\n",
       " 'CNA_10xv2_1.FIXEDCELLS__cto.pkl': 'cistopic_objects/CNA_10xv2_1.FIXEDCELLS__cto.pkl',\n",
       " 'CNA_10xv2_2.FIXEDCELLS__cto.pkl': 'cistopic_objects/CNA_10xv2_2.FIXEDCELLS__cto.pkl',\n",
       " 'CNA_hydrop_1.FIXEDCELLS__cto.pkl': 'cistopic_objects/CNA_hydrop_1.FIXEDCELLS__cto.pkl',\n",
       " 'CNA_hydrop_2.FIXEDCELLS__cto.pkl': 'cistopic_objects/CNA_hydrop_2.FIXEDCELLS__cto.pkl',\n",
       " 'CNA_hydrop_3.FIXEDCELLS__cto.pkl': 'cistopic_objects/CNA_hydrop_3.FIXEDCELLS__cto.pkl',\n",
       " 'CNA_mtscatac_1.FIXEDCELLS__cto.pkl': 'cistopic_objects/CNA_mtscatac_1.FIXEDCELLS__cto.pkl',\n",
       " 'CNA_mtscatac_2.FIXEDCELLS__cto.pkl': 'cistopic_objects/CNA_mtscatac_2.FIXEDCELLS__cto.pkl',\n",
       " 'EPF_hydrop_1.FIXEDCELLS__cto.pkl': 'cistopic_objects/EPF_hydrop_1.FIXEDCELLS__cto.pkl',\n",
       " 'EPF_hydrop_2.FIXEDCELLS__cto.pkl': 'cistopic_objects/EPF_hydrop_2.FIXEDCELLS__cto.pkl',\n",
       " 'EPF_hydrop_3.FIXEDCELLS__cto.pkl': 'cistopic_objects/EPF_hydrop_3.FIXEDCELLS__cto.pkl',\n",
       " 'EPF_hydrop_4.FIXEDCELLS__cto.pkl': 'cistopic_objects/EPF_hydrop_4.FIXEDCELLS__cto.pkl',\n",
       " 'HAR_ddseq_1.FIXEDCELLS__cto.pkl': 'cistopic_objects/HAR_ddseq_1.FIXEDCELLS__cto.pkl',\n",
       " 'HAR_ddseq_2.FIXEDCELLS__cto.pkl': 'cistopic_objects/HAR_ddseq_2.FIXEDCELLS__cto.pkl',\n",
       " 'MDC_mtscatac_1.FIXEDCELLS__cto.pkl': 'cistopic_objects/MDC_mtscatac_1.FIXEDCELLS__cto.pkl',\n",
       " 'MDC_mtscatac_2.FIXEDCELLS__cto.pkl': 'cistopic_objects/MDC_mtscatac_2.FIXEDCELLS__cto.pkl',\n",
       " 'OHS_s3atac_1.FIXEDCELLS__cto.pkl': 'cistopic_objects/OHS_s3atac_1.FIXEDCELLS__cto.pkl',\n",
       " 'OHS_s3atac_2.FIXEDCELLS__cto.pkl': 'cistopic_objects/OHS_s3atac_2.FIXEDCELLS__cto.pkl',\n",
       " 'SAN_10xmultiome_1.FIXEDCELLS__cto.pkl': 'cistopic_objects/SAN_10xmultiome_1.FIXEDCELLS__cto.pkl',\n",
       " 'SAN_10xmultiome_2.FIXEDCELLS__cto.pkl': 'cistopic_objects/SAN_10xmultiome_2.FIXEDCELLS__cto.pkl',\n",
       " 'STA_10xv11_1.FIXEDCELLS__cto.pkl': 'cistopic_objects/STA_10xv11_1.FIXEDCELLS__cto.pkl',\n",
       " 'STA_10xv11_2.FIXEDCELLS__cto.pkl': 'cistopic_objects/STA_10xv11_2.FIXEDCELLS__cto.pkl',\n",
       " 'TXG_10xv11_1.FIXEDCELLS__cto.pkl': 'cistopic_objects/TXG_10xv11_1.FIXEDCELLS__cto.pkl',\n",
       " 'TXG_10xv2_1.FIXEDCELLS__cto.pkl': 'cistopic_objects/TXG_10xv2_1.FIXEDCELLS__cto.pkl',\n",
       " 'TXG_10xv2_2.FIXEDCELLS__cto.pkl': 'cistopic_objects/TXG_10xv2_2.FIXEDCELLS__cto.pkl',\n",
       " 'UCS_ddseq_1.FIXEDCELLS__cto.pkl': 'cistopic_objects/UCS_ddseq_1.FIXEDCELLS__cto.pkl',\n",
       " 'UCS_ddseq_2.FIXEDCELLS__cto.pkl': 'cistopic_objects/UCS_ddseq_2.FIXEDCELLS__cto.pkl',\n",
       " 'VIB_10xmultiome_1.FIXEDCELLS__cto.pkl': 'cistopic_objects/VIB_10xmultiome_1.FIXEDCELLS__cto.pkl',\n",
       " 'VIB_10xmultiome_2.FIXEDCELLS__cto.pkl': 'cistopic_objects/VIB_10xmultiome_2.FIXEDCELLS__cto.pkl',\n",
       " 'VIB_10xv1_1.FIXEDCELLS__cto.pkl': 'cistopic_objects/VIB_10xv1_1.FIXEDCELLS__cto.pkl',\n",
       " 'VIB_10xv1_2.FIXEDCELLS__cto.pkl': 'cistopic_objects/VIB_10xv1_2.FIXEDCELLS__cto.pkl',\n",
       " 'VIB_10xv2_1.FIXEDCELLS__cto.pkl': 'cistopic_objects/VIB_10xv2_1.FIXEDCELLS__cto.pkl',\n",
       " 'VIB_10xv2_2.FIXEDCELLS__cto.pkl': 'cistopic_objects/VIB_10xv2_2.FIXEDCELLS__cto.pkl',\n",
       " 'VIB_hydrop_1.FIXEDCELLS__cto.pkl': 'cistopic_objects/VIB_hydrop_1.FIXEDCELLS__cto.pkl',\n",
       " 'VIB_hydrop_2.FIXEDCELLS__cto.pkl': 'cistopic_objects/VIB_hydrop_2.FIXEDCELLS__cto.pkl'}"
      ]
     },
     "execution_count": 2,
     "metadata": {},
     "output_type": "execute_result"
    }
   ],
   "source": [
    "cto_path_dict = {x.split('/')[-1]: x for x in sorted(glob.glob('cistopic_objects/*.pkl'))}\n",
    "badkeys = []\n",
    "\n",
    "for key in cto_path_dict.keys():\n",
    "    if \"removed_bcs\" in key:\n",
    "        badkeys.append(key)\n",
    "        \n",
    "for key in badkeys:\n",
    "    cto_path_dict.pop(key)\n",
    "cto_path_dict"
   ]
  },
  {
   "cell_type": "code",
   "execution_count": null,
   "id": "c2e4cc5c",
   "metadata": {},
   "outputs": [],
   "source": [
    "cto_path_dict = {x.split('/')[-1]: x for x in sorted(glob.glob('cistopic_objects_master/*.pkl'))}\n",
    "badkeys = []\n",
    "\n",
    "for key in cto_path_dict.keys():\n",
    "    if \"removed_bcs\" in key:\n",
    "        badkeys.append(key)\n",
    "        \n",
    "for key in badkeys:\n",
    "    cto_path_dict.pop(key)\n",
    "cto_path_dict"
   ]
  },
  {
   "cell_type": "code",
   "execution_count": null,
   "id": "6ad56322",
   "metadata": {},
   "outputs": [
    {
     "name": "stdout",
     "output_type": "stream",
     "text": [
      "cistopic_objects/BIO_ddseq_1.FIXEDCELLS__cto.pkl\n",
      "cistopic_objects/BIO_ddseq_2.FIXEDCELLS__cto.pkl\n",
      "cistopic_objects/BIO_ddseq_3.FIXEDCELLS__cto.pkl\n",
      "cistopic_objects/BIO_ddseq_4.FIXEDCELLS__cto.pkl\n",
      "cistopic_objects/BRO_mtscatac_1.FIXEDCELLS__cto.pkl\n",
      "cistopic_objects/BRO_mtscatac_2.FIXEDCELLS__cto.pkl\n",
      "cistopic_objects/CNA_10xmultiome_1.FIXEDCELLS__cto.pkl\n",
      "cistopic_objects/CNA_10xmultiome_2.FIXEDCELLS__cto.pkl\n",
      "cistopic_objects/CNA_10xv11_1.FIXEDCELLS__cto.pkl\n",
      "cistopic_objects/CNA_10xv11_2.FIXEDCELLS__cto.pkl\n",
      "cistopic_objects/CNA_10xv11_3.FIXEDCELLS__cto.pkl\n",
      "cistopic_objects/CNA_10xv11_4.FIXEDCELLS__cto.pkl\n",
      "cistopic_objects/CNA_10xv11_5.FIXEDCELLS__cto.pkl\n",
      "cistopic_objects/CNA_10xv2_1.FIXEDCELLS__cto.pkl\n",
      "cistopic_objects/CNA_10xv2_2.FIXEDCELLS__cto.pkl\n",
      "cistopic_objects/CNA_hydrop_1.FIXEDCELLS__cto.pkl\n",
      "cistopic_objects/CNA_hydrop_2.FIXEDCELLS__cto.pkl\n",
      "cistopic_objects/CNA_hydrop_3.FIXEDCELLS__cto.pkl\n",
      "cistopic_objects/CNA_mtscatac_1.FIXEDCELLS__cto.pkl\n",
      "cistopic_objects/CNA_mtscatac_2.FIXEDCELLS__cto.pkl\n",
      "cistopic_objects/EPF_hydrop_1.FIXEDCELLS__cto.pkl\n",
      "cistopic_objects/EPF_hydrop_2.FIXEDCELLS__cto.pkl\n",
      "cistopic_objects/EPF_hydrop_3.FIXEDCELLS__cto.pkl\n",
      "cistopic_objects/EPF_hydrop_4.FIXEDCELLS__cto.pkl\n",
      "cistopic_objects/HAR_ddseq_1.FIXEDCELLS__cto.pkl\n",
      "cistopic_objects/HAR_ddseq_2.FIXEDCELLS__cto.pkl\n",
      "cistopic_objects/MDC_mtscatac_1.FIXEDCELLS__cto.pkl\n",
      "cistopic_objects/MDC_mtscatac_2.FIXEDCELLS__cto.pkl\n",
      "cistopic_objects/OHS_s3atac_1.FIXEDCELLS__cto.pkl\n",
      "cistopic_objects/OHS_s3atac_2.FIXEDCELLS__cto.pkl\n",
      "cistopic_objects/SAN_10xmultiome_1.FIXEDCELLS__cto.pkl\n",
      "cistopic_objects/SAN_10xmultiome_2.FIXEDCELLS__cto.pkl\n",
      "cistopic_objects/STA_10xv11_1.FIXEDCELLS__cto.pkl\n",
      "cistopic_objects/STA_10xv11_2.FIXEDCELLS__cto.pkl\n",
      "cistopic_objects/TXG_10xv11_1.FIXEDCELLS__cto.pkl\n"
     ]
    }
   ],
   "source": [
    "for sample in cto_path_dict.keys():\n",
    "    cto_path = cto_path_dict[sample]\n",
    "    cell_data_path = cto_path.replace(f'.pkl',f'.cell_data.tsv')\n",
    "    if not os.path.exists(cell_data_path):\n",
    "        print(cto_path)\n",
    "\n",
    "        with open(cto_path, 'rb') as f:\n",
    "            cto = pickle.load(f)\n",
    "        \n",
    "        cto.cell_data.to_csv(cell_data_path)\n",
    "    else:\n",
    "        print(f\"{cell_data_path} exists\")"
   ]
  },
  {
   "cell_type": "code",
   "execution_count": null,
   "id": "3a93a92e",
   "metadata": {
    "tags": []
   },
   "outputs": [],
   "source": [
    "cell_data_paths = sorted(glob.glob('cistopic_objects/*.cell_data.tsv'))"
   ]
  },
  {
   "cell_type": "code",
   "execution_count": null,
   "id": "349f4019",
   "metadata": {
    "tags": []
   },
   "outputs": [],
   "source": [
    "samples = sorted(list(set([x.split('/')[-1].split('__')[0] for x in cell_data_paths])))\n",
    "samples"
   ]
  },
  {
   "cell_type": "code",
   "execution_count": null,
   "id": "f77a8a47",
   "metadata": {},
   "outputs": [],
   "source": [
    "fmx_list = []\n",
    "for sample in samples:\n",
    "    print(sample)\n",
    "    cell_data_paths = sorted(glob.glob(f'cistopic_objects/{sample}*cto*cell_data.tsv'))\n",
    "    for file in cell_data_paths:\n",
    "        with open(file, 'rb') as f:\n",
    "            df = pd.read_csv(file)\n",
    "            print(f\"\\t{len(df)}: {file}\")\n",
    "\n",
    "        if not 'fmx_droplet_type' in df.columns:\n",
    "            print(f\"\\t\\tno fmx doublets!\")"
   ]
  }
 ],
 "metadata": {
  "kernelspec": {
   "display_name": "20221014_pycistopic.sif",
   "language": "python",
   "name": "cistopic_20221014"
  },
  "language_info": {
   "codemirror_mode": {
    "name": "ipython",
    "version": 3
   },
   "file_extension": ".py",
   "mimetype": "text/x-python",
   "name": "python",
   "nbconvert_exporter": "python",
   "pygments_lexer": "ipython3",
   "version": "3.8.15"
  }
 },
 "nbformat": 4,
 "nbformat_minor": 5
}

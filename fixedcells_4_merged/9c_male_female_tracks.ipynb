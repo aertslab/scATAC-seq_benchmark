{
 "cells": [
  {
   "cell_type": "code",
   "execution_count": 2,
   "id": "b324373a",
   "metadata": {
    "execution": {
     "iopub.execute_input": "2023-03-07T17:41:37.050729Z",
     "iopub.status.busy": "2023-03-07T17:41:37.050102Z",
     "iopub.status.idle": "2023-03-07T17:44:25.700529Z",
     "shell.execute_reply": "2023-03-07T17:44:25.698683Z",
     "shell.execute_reply.started": "2023-03-07T17:41:37.050667Z"
    },
    "papermill": {
     "duration": 9.289086,
     "end_time": "2022-09-18T16:28:06.123108",
     "exception": false,
     "start_time": "2022-09-18T16:27:56.834022",
     "status": "completed"
    },
    "tags": []
   },
   "outputs": [],
   "source": [
    "# from pycisTopic.pseudobulk_peak_calling import export_pseudobulk, peak_calling\n",
    "import pyranges as pr\n",
    "import requests\n",
    "import os\n",
    "import pandas as pd\n",
    "import glob\n",
    "import pickle"
   ]
  },
  {
   "cell_type": "code",
   "execution_count": 3,
   "id": "5c7a63b8",
   "metadata": {
    "execution": {
     "iopub.execute_input": "2023-03-07T17:44:25.708042Z",
     "iopub.status.busy": "2023-03-07T17:44:25.707319Z",
     "iopub.status.idle": "2023-03-07T17:44:30.171828Z",
     "shell.execute_reply": "2023-03-07T17:44:30.170393Z",
     "shell.execute_reply.started": "2023-03-07T17:44:25.707982Z"
    },
    "papermill": {
     "duration": 0.302426,
     "end_time": "2022-09-18T16:28:06.459310",
     "exception": false,
     "start_time": "2022-09-18T16:28:06.156884",
     "status": "completed"
    },
    "tags": []
   },
   "outputs": [],
   "source": [
    "%load_ext lab_black"
   ]
  },
  {
   "cell_type": "code",
   "execution_count": 6,
   "id": "7c2ab493",
   "metadata": {
    "collapsed": true,
    "execution": {
     "iopub.execute_input": "2023-03-06T16:06:40.798602Z",
     "iopub.status.busy": "2023-03-06T16:06:40.797479Z",
     "iopub.status.idle": "2023-03-06T16:06:40.823539Z",
     "shell.execute_reply": "2023-03-06T16:06:40.822095Z",
     "shell.execute_reply.started": "2023-03-06T16:06:40.798548Z"
    },
    "jupyter": {
     "outputs_hidden": true
    },
    "papermill": {
     "duration": 0.031625,
     "end_time": "2022-09-18T16:28:06.495930",
     "exception": false,
     "start_time": "2022-09-18T16:28:06.464305",
     "status": "completed"
    },
    "tags": []
   },
   "outputs": [],
   "source": [
    "# get chromosome sizes (hg38)\n",
    "if not os.path.exists(\"chromsizes.txt\"):\n",
    "    target_url = (\n",
    "        \"http://hgdownload.cse.ucsc.edu/goldenPath/hg38/bigZips/hg38.chrom.sizes\"\n",
    "    )\n",
    "    chromsizes = pd.read_csv(target_url, sep=\"\\t\", header=None)\n",
    "    chromsizes.columns = [\"Chromosome\", \"End\"]\n",
    "    chromsizes[\"Start\"] = [0] * chromsizes.shape[0]\n",
    "    chromsizes = chromsizes.loc[:, [\"Chromosome\", \"Start\", \"End\"]]\n",
    "    chromsizes = pr.PyRanges(chromsizes)\n",
    "    chromsizes.to_csv(\"chromsizes.txt\")\n",
    "    chromsizes\n",
    "else:\n",
    "    chromsizes = pd.read_csv(\"chromsizes.txt\")"
   ]
  },
  {
   "cell_type": "code",
   "execution_count": 7,
   "id": "0724339f",
   "metadata": {
    "collapsed": true,
    "execution": {
     "iopub.execute_input": "2023-03-06T16:06:40.826089Z",
     "iopub.status.busy": "2023-03-06T16:06:40.825647Z",
     "iopub.status.idle": "2023-03-06T16:06:40.843343Z",
     "shell.execute_reply": "2023-03-06T16:06:40.842017Z",
     "shell.execute_reply.started": "2023-03-06T16:06:40.826063Z"
    },
    "jupyter": {
     "outputs_hidden": true
    },
    "papermill": {
     "duration": 0.020844,
     "end_time": "2022-09-18T16:28:06.520860",
     "exception": false,
     "start_time": "2022-09-18T16:28:06.500016",
     "status": "completed"
    },
    "tags": []
   },
   "outputs": [
    {
     "data": {
      "text/plain": [
       "{'cto_malefemale_celltypefair': 'cistopic_objects_master/cto_malefemale_celltypefair.pkl'}"
      ]
     },
     "execution_count": 7,
     "metadata": {},
     "output_type": "execute_result"
    }
   ],
   "source": [
    "cto_consensus_path_dict = {\n",
    "    x.split(\"/\")[-1].split(f\".\")[0]: x\n",
    "    for x in sorted(\n",
    "        glob.glob(\"cistopic_objects_master/cto_malefemale_celltypefair.pkl\")\n",
    "    )\n",
    "}\n",
    "cto_consensus_path_dict"
   ]
  },
  {
   "cell_type": "code",
   "execution_count": 8,
   "id": "ec49919c",
   "metadata": {
    "collapsed": true,
    "execution": {
     "iopub.execute_input": "2023-03-06T16:06:40.844484Z",
     "iopub.status.busy": "2023-03-06T16:06:40.844263Z",
     "iopub.status.idle": "2023-03-06T16:06:40.929012Z",
     "shell.execute_reply": "2023-03-06T16:06:40.927244Z",
     "shell.execute_reply.started": "2023-03-06T16:06:40.844466Z"
    },
    "jupyter": {
     "outputs_hidden": true
    },
    "papermill": {
     "duration": 0.197783,
     "end_time": "2022-09-18T16:28:06.740933",
     "exception": false,
     "start_time": "2022-09-18T16:28:06.543150",
     "status": "completed"
    },
    "tags": []
   },
   "outputs": [],
   "source": [
    "import gc\n",
    "import logging\n",
    "import os\n",
    "import re\n",
    "import subprocess\n",
    "import sys\n",
    "from typing import Dict, List, Optional, Union\n",
    "\n",
    "import numpy as np\n",
    "import pandas as pd\n",
    "import pyBigWig\n",
    "import pyranges as pr\n",
    "import ray\n",
    "\n",
    "from pycisTopic.cistopic_class import *\n",
    "from pycisTopic.utils import *\n",
    "\n",
    "\n",
    "def export_pseudobulk(\n",
    "    input_data: Union[\"CistopicObject\", pd.DataFrame, Dict[str, pd.DataFrame]],\n",
    "    variable: str,\n",
    "    chromsizes: Union[pd.DataFrame, pr.PyRanges],\n",
    "    bed_path: str,\n",
    "    bigwig_path: str,\n",
    "    path_to_fragments: Optional[Dict[str, str]] = None,\n",
    "    sample_id_col: Optional[str] = \"sample_id\",\n",
    "    n_cpu: Optional[int] = 1,\n",
    "    normalize_bigwig: Optional[bool] = True,\n",
    "    remove_duplicates: Optional[bool] = True,\n",
    "    split_pattern: Optional[str] = \"___\",\n",
    "    use_polars: Optional[bool] = True,\n",
    "    **kwargs\n",
    "):\n",
    "    \"\"\"\n",
    "    Create pseudobulks as bed and bigwig from single cell fragments file given a barcode annotation.\n",
    "    Parameters\n",
    "    ---------\n",
    "    input_data: CistopicObject or pd.DataFrame\n",
    "            A :class:`CistopicObject` containing the specified `variable` as a column in :class:`CistopicObject.cell_data` or a cell metadata\n",
    "            :class:`pd.DataFrame` containing barcode as rows, containing the specified `variable` as a column (additional columns are\n",
    "            possible) and a `sample_id` column. Index names must contain the BARCODE (e.g. ATGTCGTC-1), additional tags are possible separating with -\n",
    "            (e.g. ATGCTGTGCG-1-Sample_1). The levels in the sample_id column must agree with the keys in the path_to_fragments dictionary.\n",
    "            Alternatively, if the cell metadata contains a column named barcode it will be used instead of the index names.\n",
    "    variable: str\n",
    "            A character string indicating the column that will be used to create the different group pseudobulk. It must be included in\n",
    "            the cell metadata provided as input_data.\n",
    "    chromsizes: pd.DataFrame or pr.PyRanges\n",
    "            A data frame or :class:`pr.PyRanges` containing size of each chromosome, containing 'Chromosome', 'Start' and 'End' columns.\n",
    "    bed_path: str\n",
    "            Path to folder where the fragments bed files per group will be saved. If None, files will not be generated.\n",
    "    bigwig_path: str\n",
    "            Path to folder where the bigwig files per group will be saved. If None, files will not be generated.\n",
    "    path_to_fragments: str or dict, optional\n",
    "            A dictionary of character strings, with sample name as names indicating the path to the fragments file/s from which pseudobulk profiles have to\n",
    "            be created. If a :class:`CistopicObject` is provided as input it will be ignored, but if a cell metadata :class:`pd.DataFrame` is provided it\n",
    "            is necessary to provide it. The keys of the dictionary need to match with the sample_id tag added to the index names of the input data frame.\n",
    "    sample_id_col: str, optional\n",
    "            Name of the column containing the sample name per barcode in the input :class:`CistopicObject.cell_data` or class:`pd.DataFrame`. Default: 'sample_id'.\n",
    "    n_cpu: int, optional\n",
    "            Number of cores to use. Default: 1.\n",
    "    normalize_bigwig: bool, optional\n",
    "            Whether bigwig files should be CPM normalized. Default: True.\n",
    "    remove_duplicates: bool, optional\n",
    "            Whether duplicates should be removed before converting the data to bigwig.\n",
    "    split_pattern: str, optional\n",
    "            Pattern to split cell barcode from sample id. Default: ___ .\n",
    "    use_polars: bool, optional\n",
    "            Whether to use polars to read fragments files. Default: True.\n",
    "    **kwargs\n",
    "            Additional parameters for ray.init()\n",
    "    Return\n",
    "    ------\n",
    "    dict\n",
    "            A dictionary containing the paths to the newly created bed fragments files per group a dictionary containing the paths to the\n",
    "            newly created bigwig files per group.\n",
    "    \"\"\"\n",
    "    # Create logger\n",
    "    level = logging.INFO\n",
    "    log_format = \"%(asctime)s %(name)-12s %(levelname)-8s %(message)s\"\n",
    "    handlers = [logging.StreamHandler(stream=sys.stdout)]\n",
    "    logging.basicConfig(level=level, format=log_format, handlers=handlers)\n",
    "    log = logging.getLogger(\"cisTopic\")\n",
    "\n",
    "    # Get fragments file\n",
    "    if isinstance(input_data, CistopicObject):\n",
    "        path_to_fragments = input_data.path_to_fragments\n",
    "        if path_to_fragments is None:\n",
    "            log.error(\"No path_to_fragments in this cisTopic object.\")\n",
    "        cell_data = input_data.cell_data\n",
    "    elif isinstance(input_data, pd.DataFrame):\n",
    "        if path_to_fragments is None:\n",
    "            log.error(\"Please, provide path_to_fragments.\")\n",
    "        cell_data = input_data\n",
    "    # Check for sample_id column\n",
    "    try:\n",
    "        sample_ids = list(set(cell_data[sample_id_col]))\n",
    "    except ValueError:\n",
    "        print(\n",
    "            'Please, include a sample identification column (e.g. \"sample_id\") in your cell metadata!'\n",
    "        )\n",
    "\n",
    "    # Get fragments\n",
    "    fragments_df_dict = {}\n",
    "    for sample_id in path_to_fragments.keys():\n",
    "        if sample_id not in sample_ids:\n",
    "            log.info(\n",
    "                \"The following path_to_fragments entry is not found in the cell metadata sample_id_col: \",\n",
    "                sample_id,\n",
    "                \". It will be ignored.\",\n",
    "            )\n",
    "        else:\n",
    "            log.info(\"Reading fragments from \" + path_to_fragments[sample_id])\n",
    "            fragments_df = read_fragments_from_file(\n",
    "                path_to_fragments[sample_id], use_polars=use_polars\n",
    "            ).df\n",
    "            # Convert to int32 for memory efficiency\n",
    "            fragments_df.Start = np.int32(fragments_df.Start)\n",
    "            fragments_df.End = np.int32(fragments_df.End)\n",
    "            if \"Score\" in fragments_df:\n",
    "                fragments_df.Score = np.int32(fragments_df.Score)\n",
    "            if \"barcode\" in cell_data:\n",
    "                fragments_df = fragments_df.loc[\n",
    "                    fragments_df[\"Name\"].isin(cell_data[\"barcode\"].tolist())\n",
    "                ]\n",
    "            else:\n",
    "                fragments_df = fragments_df.loc[\n",
    "                    fragments_df[\"Name\"].isin(\n",
    "                        prepare_tag_cells(cell_data.index.tolist(), split_pattern)\n",
    "                    )\n",
    "                ]\n",
    "            fragments_df_dict[sample_id] = fragments_df\n",
    "\n",
    "    # Set groups\n",
    "    if \"barcode\" in cell_data:\n",
    "        cell_data = cell_data.loc[:, [variable, sample_id_col, \"barcode\"]]\n",
    "    else:\n",
    "        cell_data = cell_data.loc[:, [variable, sample_id_col]]\n",
    "    cell_data[variable] = cell_data[variable].replace(\" \", \"\", regex=True)\n",
    "    cell_data[variable] = cell_data[variable].replace(\"[^A-Za-z0-9]+\", \"_\", regex=True)\n",
    "    groups = sorted(list(set(cell_data[variable])))\n",
    "    # Check chromosome sizes\n",
    "    if isinstance(chromsizes, pd.DataFrame):\n",
    "        chromsizes = chromsizes.loc[:, [\"Chromosome\", \"Start\", \"End\"]]\n",
    "        chromsizes = pr.PyRanges(chromsizes)\n",
    "    # Check that output dir exist and generate output paths\n",
    "    if isinstance(bed_path, str):\n",
    "        if not os.path.exists(bed_path):\n",
    "            os.makedirs(bed_path)\n",
    "        bed_paths = {\n",
    "            group: os.path.join(bed_path, str(group) + \".bed.gz\") for group in groups\n",
    "        }\n",
    "    else:\n",
    "        bed_paths = {}\n",
    "    if isinstance(bigwig_path, str):\n",
    "        if not os.path.exists(bigwig_path):\n",
    "            os.makedirs(bigwig_path)\n",
    "        bw_paths = {\n",
    "            group: os.path.join(bigwig_path, str(group) + \".bw\") for group in groups\n",
    "        }\n",
    "    else:\n",
    "        bw_paths = {}\n",
    "    # Create pseudobulks\n",
    "    if n_cpu > 1:\n",
    "        ray.init(num_cpus=n_cpu, **kwargs)\n",
    "        ray_handle = ray.wait(\n",
    "            [\n",
    "                export_pseudobulk_ray.remote(\n",
    "                    cell_data,\n",
    "                    group,\n",
    "                    fragments_df_dict,\n",
    "                    chromsizes,\n",
    "                    bigwig_path,\n",
    "                    bed_path,\n",
    "                    sample_id_col,\n",
    "                    normalize_bigwig,\n",
    "                    remove_duplicates,\n",
    "                    split_pattern,\n",
    "                )\n",
    "                for group in groups\n",
    "            ],\n",
    "            num_returns=len(groups),\n",
    "        )\n",
    "        ray.shutdown()\n",
    "    else:\n",
    "        [\n",
    "            export_pseudobulk_one_sample(\n",
    "                cell_data,\n",
    "                group,\n",
    "                fragments_df_dict,\n",
    "                chromsizes,\n",
    "                bigwig_path,\n",
    "                bed_path,\n",
    "                sample_id_col,\n",
    "                normalize_bigwig,\n",
    "                remove_duplicates,\n",
    "                split_pattern,\n",
    "            )\n",
    "            for group in groups\n",
    "        ]\n",
    "\n",
    "    return bw_paths, bed_paths\n",
    "\n",
    "\n",
    "def export_pseudobulk_one_sample(\n",
    "    cell_data: pd.DataFrame,\n",
    "    group: str,\n",
    "    fragments_df_dict: Dict[str, pd.DataFrame],\n",
    "    chromsizes: pr.PyRanges,\n",
    "    bigwig_path: str,\n",
    "    bed_path: str,\n",
    "    sample_id_col: Optional[str] = \"sample_id\",\n",
    "    normalize_bigwig: Optional[bool] = True,\n",
    "    remove_duplicates: Optional[bool] = True,\n",
    "    split_pattern: Optional[str] = \"___\",\n",
    "):\n",
    "    \"\"\"\n",
    "    Create pseudobulk as bed and bigwig from single cell fragments file given a barcode annotation and a group.\n",
    "    Parameters\n",
    "    ---------\n",
    "    cell_data: pd.DataFrame\n",
    "            A cell metadata :class:`pd.Dataframe` containing barcodes, their annotation and their sample of origin.\n",
    "    group: str\n",
    "            A character string indicating the group for which pseudobulks will be created.\n",
    "    fragments_df_dict: dict\n",
    "            A dictionary containing data frames as values with 'Chromosome', 'Start', 'End', 'Name', and 'Score' as columns; and sample label\n",
    "            as keys. 'Score' indicates the number of times that a fragments is found assigned to that barcode.\n",
    "    chromsizes: pr.PyRanges\n",
    "            A :class:`pr.PyRanges` containing size of each column, containing 'Chromosome', 'Start' and 'End' columns.\n",
    "    bigwig_path: str\n",
    "            Path to folder where the bigwig file will be saved.\n",
    "    bed_path: str\n",
    "            Path to folder where the fragments bed file will be saved.\n",
    "    sample_id_col: str, optional\n",
    "            Name of the column containing the sample name per barcode in the input :class:`CistopicObject.cell_data` or class:`pd.DataFrame`. Default: 'sample_id'.\n",
    "    normalize_bigwig: bool, optional\n",
    "            Whether bigwig files should be CPM normalized. Default: True.\n",
    "    remove_duplicates: bool, optional\n",
    "            Whether duplicates should be removed before converting the data to bigwig.\n",
    "    split_pattern: str\n",
    "            Pattern to split cell barcode from sample id. Default: ___ .\n",
    "    \"\"\"\n",
    "    # Create logger\n",
    "    level = logging.INFO\n",
    "    log_format = \"%(asctime)s %(name)-12s %(levelname)-8s %(message)s\"\n",
    "    handlers = [logging.StreamHandler(stream=sys.stdout)]\n",
    "    logging.basicConfig(level=level, format=log_format, handlers=handlers)\n",
    "    log = logging.getLogger(\"cisTopic\")\n",
    "\n",
    "    log.info(\"Creating pseudobulk for \" + str(group))\n",
    "    group_fragments_list = []\n",
    "    group_fragments_dict = {}\n",
    "    for sample_id in fragments_df_dict:\n",
    "        sample_data = cell_data[cell_data.loc[:, sample_id_col].isin([sample_id])]\n",
    "        if \"barcode\" in sample_data:\n",
    "            sample_data.index = sample_data[\"barcode\"].tolist()\n",
    "        else:\n",
    "            sample_data.index = prepare_tag_cells(\n",
    "                sample_data.index.tolist(), split_pattern\n",
    "            )\n",
    "        group_var = sample_data.iloc[:, 0]\n",
    "        barcodes = group_var[group_var.isin([group])].index.tolist()\n",
    "        fragments_df = fragments_df_dict[sample_id]\n",
    "        group_fragments = fragments_df.loc[fragments_df[\"Name\"].isin(barcodes)]\n",
    "        if len(fragments_df_dict) > 1:\n",
    "            group_fragments_dict[sample_id] = group_fragments\n",
    "\n",
    "    if len(fragments_df_dict) > 1:\n",
    "        group_fragments_list = [\n",
    "            group_fragments_dict[list(group_fragments_dict.keys())[x]]\n",
    "            for x in range(len(fragments_df_dict))\n",
    "        ]\n",
    "        group_fragments = group_fragments_list[0].append(group_fragments_list[1:])\n",
    "\n",
    "    group_fragments = group_fragments[\n",
    "        group_fragments[\"Chromosome\"].isin(chromsizes.Chromosome)\n",
    "    ]\n",
    "\n",
    "    del group_fragments_dict\n",
    "    del group_fragments_list\n",
    "    del fragments_df\n",
    "    gc.collect()\n",
    "\n",
    "    group_pr = pr.PyRanges(group_fragments)\n",
    "    if isinstance(bigwig_path, str):\n",
    "        bigwig_path_group = os.path.join(bigwig_path, str(group) + \".bw\")\n",
    "        if remove_duplicates:\n",
    "            group_pr.to_bigwig(\n",
    "                path=bigwig_path_group,\n",
    "                chromosome_sizes=chromsizes,\n",
    "                rpm=normalize_bigwig,\n",
    "            )\n",
    "        else:\n",
    "            group_pr.to_bigwig(\n",
    "                path=bigwig_path_group,\n",
    "                chromosome_sizes=chromsizes,\n",
    "                rpm=normalize_bigwig,\n",
    "                value_col=\"Score\",\n",
    "            )\n",
    "    if isinstance(bed_path, str):\n",
    "        bed_path_group = os.path.join(bed_path, str(group) + \".bed.gz\")\n",
    "        group_pr.to_bed(\n",
    "            path=bed_path_group, keep=False, compression=\"infer\", chain=False\n",
    "        )\n",
    "\n",
    "    log.info(str(group) + \" done!\")\n",
    "\n",
    "\n",
    "@ray.remote\n",
    "def export_pseudobulk_ray(\n",
    "    cell_data: pd.DataFrame,\n",
    "    group: str,\n",
    "    fragments_df_dict: Dict[str, pd.DataFrame],\n",
    "    chromsizes: pr.PyRanges,\n",
    "    bigwig_path: str,\n",
    "    bed_path: str,\n",
    "    sample_id_col: Optional[str] = \"sample_id\",\n",
    "    normalize_bigwig: Optional[bool] = True,\n",
    "    remove_duplicates: Optional[bool] = True,\n",
    "    split_pattern: Optional[str] = \"___\",\n",
    "):\n",
    "    \"\"\"\n",
    "    Create pseudobulk as bed and bigwig from single cell fragments file given a barcode annotation and a group.\n",
    "    Parameters\n",
    "    ---------\n",
    "    cell_data: pd.DataFrame\n",
    "            A cell metadata :class:`pd.Dataframe` containing barcodes, their annotation and their sample of origin.\n",
    "    group: str\n",
    "            A character string indicating the group for which pseudobulks will be created.\n",
    "    fragments_df_dict: dict\n",
    "            A dictionary containing data frames as values with 'Chromosome', 'Start', 'End', 'Name', and 'Score' as columns; and sample label\n",
    "            as keys. 'Score' indicates the number of times that a fragments is found assigned to that barcode.\n",
    "    chromsizes: pr.PyRanges\n",
    "            A :class:`pr.PyRanges` containing size of each column, containing 'Chromosome', 'Start' and 'End' columns.\n",
    "    bed_path: str\n",
    "            Path to folder where the fragments bed file will be saved.\n",
    "    bigwig_path: str\n",
    "            Path to folder where the bigwig file will be saved.\n",
    "    sample_id_col: str, optional\n",
    "            Name of the column containing the sample name per barcode in the input :class:`CistopicObject.cell_data` or class:`pd.DataFrame`. Default: 'sample_id'.\n",
    "    normalize_bigwig: bool, optional\n",
    "            Whether bigwig files should be CPM normalized. Default: True.\n",
    "    remove_duplicates: bool, optional\n",
    "            Whether duplicates should be removed before converting the data to bigwig.\n",
    "    split_pattern: str\n",
    "            Pattern to split cell barcode from sample id. Default: ___ .\n",
    "    \"\"\"\n",
    "    export_pseudobulk_one_sample(\n",
    "        cell_data,\n",
    "        group,\n",
    "        fragments_df_dict,\n",
    "        chromsizes,\n",
    "        bigwig_path,\n",
    "        bed_path,\n",
    "        sample_id_col,\n",
    "        normalize_bigwig,\n",
    "        remove_duplicates,\n",
    "        split_pattern,\n",
    "    )"
   ]
  },
  {
   "cell_type": "code",
   "execution_count": 9,
   "id": "76efffdc-cd08-4bcd-a3fb-4e6d1cea7256",
   "metadata": {
    "collapsed": true,
    "execution": {
     "iopub.execute_input": "2023-03-06T16:06:40.930039Z",
     "iopub.status.busy": "2023-03-06T16:06:40.929843Z",
     "iopub.status.idle": "2023-03-06T16:06:40.935548Z",
     "shell.execute_reply": "2023-03-06T16:06:40.934090Z",
     "shell.execute_reply.started": "2023-03-06T16:06:40.930021Z"
    },
    "jupyter": {
     "outputs_hidden": true
    },
    "tags": []
   },
   "outputs": [],
   "source": [
    "sample = \"cto_malefemale_celltypefair\""
   ]
  },
  {
   "cell_type": "code",
   "execution_count": 10,
   "id": "7aa069a8-b245-4ed5-9406-795e57b4f3a6",
   "metadata": {
    "collapsed": true,
    "execution": {
     "iopub.execute_input": "2023-03-06T16:06:40.936778Z",
     "iopub.status.busy": "2023-03-06T16:06:40.936491Z",
     "iopub.status.idle": "2023-03-06T16:06:49.433824Z",
     "shell.execute_reply": "2023-03-06T16:06:49.432709Z",
     "shell.execute_reply.started": "2023-03-06T16:06:40.936760Z"
    },
    "jupyter": {
     "outputs_hidden": true
    },
    "tags": []
   },
   "outputs": [],
   "source": [
    "cto_path = cto_consensus_path_dict[sample]\n",
    "with open(cto_path, \"rb\") as f:\n",
    "    cto = pickle.load(f)"
   ]
  },
  {
   "cell_type": "code",
   "execution_count": 11,
   "id": "1a8bf1b5-d47f-4eee-a986-7c48846fd117",
   "metadata": {
    "collapsed": true,
    "execution": {
     "iopub.execute_input": "2023-03-06T16:06:49.435347Z",
     "iopub.status.busy": "2023-03-06T16:06:49.434922Z",
     "iopub.status.idle": "2023-03-06T16:06:49.539186Z",
     "shell.execute_reply": "2023-03-06T16:06:49.537822Z",
     "shell.execute_reply.started": "2023-03-06T16:06:49.435321Z"
    },
    "jupyter": {
     "outputs_hidden": true
    },
    "tags": []
   },
   "outputs": [
    {
     "data": {
      "text/html": [
       "<div>\n",
       "<style scoped>\n",
       "    .dataframe tbody tr th:only-of-type {\n",
       "        vertical-align: middle;\n",
       "    }\n",
       "\n",
       "    .dataframe tbody tr th {\n",
       "        vertical-align: top;\n",
       "    }\n",
       "\n",
       "    .dataframe thead th {\n",
       "        text-align: right;\n",
       "    }\n",
       "</style>\n",
       "<table border=\"1\" class=\"dataframe\">\n",
       "  <thead>\n",
       "    <tr style=\"text-align: right;\">\n",
       "      <th></th>\n",
       "      <th>cisTopic_log_nr_frag</th>\n",
       "      <th>cisTopic_nr_frag</th>\n",
       "      <th>cisTopic_log_nr_acc</th>\n",
       "      <th>cisTopic_nr_acc</th>\n",
       "      <th>Log_total_nr_frag</th>\n",
       "      <th>Log_unique_nr_frag</th>\n",
       "      <th>Total_nr_frag</th>\n",
       "      <th>Unique_nr_frag</th>\n",
       "      <th>Dupl_nr_frag</th>\n",
       "      <th>Dupl_rate</th>\n",
       "      <th>...</th>\n",
       "      <th>Log_unique_nr_frag_in_regions</th>\n",
       "      <th>consensus_cell_type_individual</th>\n",
       "      <th>seurat_cell_type_pred_score</th>\n",
       "      <th>cell_type__mega</th>\n",
       "      <th>seurat_cell_type_pred_score__mega</th>\n",
       "      <th>consensus_cell_type__mega</th>\n",
       "      <th>seurat_cell_type__mega</th>\n",
       "      <th>harmony_pycisTopic_leiden_10_3.0</th>\n",
       "      <th>harmony_consensus_cell_type__mega</th>\n",
       "      <th>tech_fmx_sample</th>\n",
       "    </tr>\n",
       "  </thead>\n",
       "  <tbody>\n",
       "    <tr>\n",
       "      <th>CTTGTAACTTCCTGAG___VIB_10xmultiome_2.FIXEDCELLS</th>\n",
       "      <td>2.784617</td>\n",
       "      <td>609</td>\n",
       "      <td>2.774517</td>\n",
       "      <td>595</td>\n",
       "      <td>3.088490</td>\n",
       "      <td>2.856124</td>\n",
       "      <td>1226</td>\n",
       "      <td>718</td>\n",
       "      <td>508</td>\n",
       "      <td>0.414356</td>\n",
       "      <td>...</td>\n",
       "      <td>6.282267</td>\n",
       "      <td>Cytotoxic T cell</td>\n",
       "      <td>0.581713</td>\n",
       "      <td>Cytotoxic T cell</td>\n",
       "      <td>0.516572</td>\n",
       "      <td>Cytotoxic T cell</td>\n",
       "      <td>Cytotoxic T cell</td>\n",
       "      <td>8</td>\n",
       "      <td>Cytotoxic T cell</td>\n",
       "      <td>10xmultiome_sampleB</td>\n",
       "    </tr>\n",
       "    <tr>\n",
       "      <th>CCTAACCGACCAGGAC___CNA_10xmultiome_2.FIXEDCELLS</th>\n",
       "      <td>4.043244</td>\n",
       "      <td>11047</td>\n",
       "      <td>3.972527</td>\n",
       "      <td>9387</td>\n",
       "      <td>4.594238</td>\n",
       "      <td>4.456837</td>\n",
       "      <td>39286</td>\n",
       "      <td>28631</td>\n",
       "      <td>10655</td>\n",
       "      <td>0.271216</td>\n",
       "      <td>...</td>\n",
       "      <td>9.164192</td>\n",
       "      <td>CD14+ monocyte</td>\n",
       "      <td>0.755111</td>\n",
       "      <td>CD14+ monocyte</td>\n",
       "      <td>0.587581</td>\n",
       "      <td>CD14+ monocyte</td>\n",
       "      <td>CD14+ monocyte</td>\n",
       "      <td>21</td>\n",
       "      <td>Cytotoxic T cell</td>\n",
       "      <td>10xmultiome_sampleB</td>\n",
       "    </tr>\n",
       "    <tr>\n",
       "      <th>CGATTGCCTCACTTGG___CNA_10xmultiome_1.FIXEDCELLS</th>\n",
       "      <td>4.051924</td>\n",
       "      <td>11270</td>\n",
       "      <td>3.958564</td>\n",
       "      <td>9090</td>\n",
       "      <td>4.461544</td>\n",
       "      <td>4.185315</td>\n",
       "      <td>28943</td>\n",
       "      <td>15322</td>\n",
       "      <td>13621</td>\n",
       "      <td>0.470615</td>\n",
       "      <td>...</td>\n",
       "      <td>9.166075</td>\n",
       "      <td>Cytotoxic T cell</td>\n",
       "      <td>0.759118</td>\n",
       "      <td>Cytotoxic T cell</td>\n",
       "      <td>0.374029</td>\n",
       "      <td>Cytotoxic T cell</td>\n",
       "      <td>Cytotoxic T cell</td>\n",
       "      <td>8</td>\n",
       "      <td>Cytotoxic T cell</td>\n",
       "      <td>10xmultiome_sampleB</td>\n",
       "    </tr>\n",
       "    <tr>\n",
       "      <th>GACTAGGCTGCCACAC___CNA_10xmultiome_2.FIXEDCELLS</th>\n",
       "      <td>3.751587</td>\n",
       "      <td>5644</td>\n",
       "      <td>3.689131</td>\n",
       "      <td>4888</td>\n",
       "      <td>3.988425</td>\n",
       "      <td>3.831614</td>\n",
       "      <td>9737</td>\n",
       "      <td>6786</td>\n",
       "      <td>2951</td>\n",
       "      <td>0.303071</td>\n",
       "      <td>...</td>\n",
       "      <td>8.427050</td>\n",
       "      <td>Cytotoxic T cell</td>\n",
       "      <td>0.549625</td>\n",
       "      <td>Cytotoxic T cell</td>\n",
       "      <td>0.538963</td>\n",
       "      <td>Natural killer cell</td>\n",
       "      <td>Cytotoxic T cell</td>\n",
       "      <td>17</td>\n",
       "      <td>Cytotoxic T cell</td>\n",
       "      <td>10xmultiome_sampleB</td>\n",
       "    </tr>\n",
       "    <tr>\n",
       "      <th>GGCTAAGCTTGATGTT___VIB_10xmultiome_1.FIXEDCELLS</th>\n",
       "      <td>3.65782</td>\n",
       "      <td>4548</td>\n",
       "      <td>3.596817</td>\n",
       "      <td>3952</td>\n",
       "      <td>3.920436</td>\n",
       "      <td>3.720077</td>\n",
       "      <td>8326</td>\n",
       "      <td>5249</td>\n",
       "      <td>3077</td>\n",
       "      <td>0.369565</td>\n",
       "      <td>...</td>\n",
       "      <td>8.303257</td>\n",
       "      <td>Natural killer cell</td>\n",
       "      <td>0.555911</td>\n",
       "      <td>Natural killer cell</td>\n",
       "      <td>0.503232</td>\n",
       "      <td>Natural killer cell</td>\n",
       "      <td>Natural killer cell</td>\n",
       "      <td>17</td>\n",
       "      <td>Cytotoxic T cell</td>\n",
       "      <td>10xmultiome_sampleB</td>\n",
       "    </tr>\n",
       "    <tr>\n",
       "      <th>...</th>\n",
       "      <td>...</td>\n",
       "      <td>...</td>\n",
       "      <td>...</td>\n",
       "      <td>...</td>\n",
       "      <td>...</td>\n",
       "      <td>...</td>\n",
       "      <td>...</td>\n",
       "      <td>...</td>\n",
       "      <td>...</td>\n",
       "      <td>...</td>\n",
       "      <td>...</td>\n",
       "      <td>...</td>\n",
       "      <td>...</td>\n",
       "      <td>...</td>\n",
       "      <td>...</td>\n",
       "      <td>...</td>\n",
       "      <td>...</td>\n",
       "      <td>...</td>\n",
       "      <td>...</td>\n",
       "      <td>...</td>\n",
       "      <td>...</td>\n",
       "    </tr>\n",
       "    <tr>\n",
       "      <th>AACCTTTGTGCTGAAG___VIB_10xv1_1.FIXEDCELLS</th>\n",
       "      <td>4.031408</td>\n",
       "      <td>10750</td>\n",
       "      <td>3.975156</td>\n",
       "      <td>9444</td>\n",
       "      <td>4.280738</td>\n",
       "      <td>4.159898</td>\n",
       "      <td>19087</td>\n",
       "      <td>14451</td>\n",
       "      <td>4636</td>\n",
       "      <td>0.242888</td>\n",
       "      <td>...</td>\n",
       "      <td>9.231710</td>\n",
       "      <td>CD14+ monocyte</td>\n",
       "      <td>0.497591</td>\n",
       "      <td>CD14+ monocyte</td>\n",
       "      <td>0.428762</td>\n",
       "      <td>Dendritic cell</td>\n",
       "      <td>CD14+ monocyte</td>\n",
       "      <td>28</td>\n",
       "      <td>Dendritic cell</td>\n",
       "      <td>10xv1_sampleB</td>\n",
       "    </tr>\n",
       "    <tr>\n",
       "      <th>TGAGCCGGTTTGACCA___VIB_10xv1_2.FIXEDCELLS</th>\n",
       "      <td>4.034749</td>\n",
       "      <td>10833</td>\n",
       "      <td>3.980912</td>\n",
       "      <td>9570</td>\n",
       "      <td>4.289634</td>\n",
       "      <td>4.211388</td>\n",
       "      <td>19482</td>\n",
       "      <td>16270</td>\n",
       "      <td>3212</td>\n",
       "      <td>0.164870</td>\n",
       "      <td>...</td>\n",
       "      <td>9.048997</td>\n",
       "      <td>Dendritic cell</td>\n",
       "      <td>0.614861</td>\n",
       "      <td>Dendritic cell</td>\n",
       "      <td>0.769490</td>\n",
       "      <td>Dendritic cell</td>\n",
       "      <td>Dendritic cell</td>\n",
       "      <td>28</td>\n",
       "      <td>Dendritic cell</td>\n",
       "      <td>10xv1_sampleB</td>\n",
       "    </tr>\n",
       "    <tr>\n",
       "      <th>GACTAACGTAACATAG___VIB_10xv1_2.FIXEDCELLS</th>\n",
       "      <td>3.884739</td>\n",
       "      <td>7669</td>\n",
       "      <td>3.842172</td>\n",
       "      <td>6953</td>\n",
       "      <td>4.156761</td>\n",
       "      <td>4.071587</td>\n",
       "      <td>14347</td>\n",
       "      <td>11792</td>\n",
       "      <td>2555</td>\n",
       "      <td>0.178086</td>\n",
       "      <td>...</td>\n",
       "      <td>8.752740</td>\n",
       "      <td>CD14+ monocyte</td>\n",
       "      <td>0.660317</td>\n",
       "      <td>CD14+ monocyte</td>\n",
       "      <td>0.488022</td>\n",
       "      <td>Dendritic cell</td>\n",
       "      <td>CD14+ monocyte</td>\n",
       "      <td>28</td>\n",
       "      <td>Dendritic cell</td>\n",
       "      <td>10xv1_sampleB</td>\n",
       "    </tr>\n",
       "    <tr>\n",
       "      <th>TACGGATCATCACAGT___VIB_10xv1_1.FIXEDCELLS</th>\n",
       "      <td>4.411973</td>\n",
       "      <td>25821</td>\n",
       "      <td>4.288495</td>\n",
       "      <td>19431</td>\n",
       "      <td>4.708183</td>\n",
       "      <td>4.510143</td>\n",
       "      <td>51072</td>\n",
       "      <td>32370</td>\n",
       "      <td>18702</td>\n",
       "      <td>0.366189</td>\n",
       "      <td>...</td>\n",
       "      <td>10.014671</td>\n",
       "      <td>CD14+ monocyte</td>\n",
       "      <td>0.604183</td>\n",
       "      <td>Dendritic cell</td>\n",
       "      <td>0.775639</td>\n",
       "      <td>Dendritic cell</td>\n",
       "      <td>Dendritic cell</td>\n",
       "      <td>28</td>\n",
       "      <td>Dendritic cell</td>\n",
       "      <td>10xv1_sampleB</td>\n",
       "    </tr>\n",
       "    <tr>\n",
       "      <th>CTAGGATGTAAACGGC___VIB_10xv1_2.FIXEDCELLS</th>\n",
       "      <td>3.97044</td>\n",
       "      <td>9342</td>\n",
       "      <td>3.925157</td>\n",
       "      <td>8417</td>\n",
       "      <td>4.213066</td>\n",
       "      <td>4.150849</td>\n",
       "      <td>16333</td>\n",
       "      <td>14153</td>\n",
       "      <td>2180</td>\n",
       "      <td>0.133472</td>\n",
       "      <td>...</td>\n",
       "      <td>8.990317</td>\n",
       "      <td>Dendritic cell</td>\n",
       "      <td>0.588456</td>\n",
       "      <td>Dendritic cell</td>\n",
       "      <td>0.698028</td>\n",
       "      <td>Dendritic cell</td>\n",
       "      <td>Dendritic cell</td>\n",
       "      <td>28</td>\n",
       "      <td>Dendritic cell</td>\n",
       "      <td>10xv1_sampleB</td>\n",
       "    </tr>\n",
       "  </tbody>\n",
       "</table>\n",
       "<p>60487 rows × 33 columns</p>\n",
       "</div>"
      ],
      "text/plain": [
       "                                                cisTopic_log_nr_frag  \\\n",
       "CTTGTAACTTCCTGAG___VIB_10xmultiome_2.FIXEDCELLS             2.784617   \n",
       "CCTAACCGACCAGGAC___CNA_10xmultiome_2.FIXEDCELLS             4.043244   \n",
       "CGATTGCCTCACTTGG___CNA_10xmultiome_1.FIXEDCELLS             4.051924   \n",
       "GACTAGGCTGCCACAC___CNA_10xmultiome_2.FIXEDCELLS             3.751587   \n",
       "GGCTAAGCTTGATGTT___VIB_10xmultiome_1.FIXEDCELLS              3.65782   \n",
       "...                                                              ...   \n",
       "AACCTTTGTGCTGAAG___VIB_10xv1_1.FIXEDCELLS                   4.031408   \n",
       "TGAGCCGGTTTGACCA___VIB_10xv1_2.FIXEDCELLS                   4.034749   \n",
       "GACTAACGTAACATAG___VIB_10xv1_2.FIXEDCELLS                   3.884739   \n",
       "TACGGATCATCACAGT___VIB_10xv1_1.FIXEDCELLS                   4.411973   \n",
       "CTAGGATGTAAACGGC___VIB_10xv1_2.FIXEDCELLS                    3.97044   \n",
       "\n",
       "                                                cisTopic_nr_frag  \\\n",
       "CTTGTAACTTCCTGAG___VIB_10xmultiome_2.FIXEDCELLS              609   \n",
       "CCTAACCGACCAGGAC___CNA_10xmultiome_2.FIXEDCELLS            11047   \n",
       "CGATTGCCTCACTTGG___CNA_10xmultiome_1.FIXEDCELLS            11270   \n",
       "GACTAGGCTGCCACAC___CNA_10xmultiome_2.FIXEDCELLS             5644   \n",
       "GGCTAAGCTTGATGTT___VIB_10xmultiome_1.FIXEDCELLS             4548   \n",
       "...                                                          ...   \n",
       "AACCTTTGTGCTGAAG___VIB_10xv1_1.FIXEDCELLS                  10750   \n",
       "TGAGCCGGTTTGACCA___VIB_10xv1_2.FIXEDCELLS                  10833   \n",
       "GACTAACGTAACATAG___VIB_10xv1_2.FIXEDCELLS                   7669   \n",
       "TACGGATCATCACAGT___VIB_10xv1_1.FIXEDCELLS                  25821   \n",
       "CTAGGATGTAAACGGC___VIB_10xv1_2.FIXEDCELLS                   9342   \n",
       "\n",
       "                                                cisTopic_log_nr_acc  \\\n",
       "CTTGTAACTTCCTGAG___VIB_10xmultiome_2.FIXEDCELLS            2.774517   \n",
       "CCTAACCGACCAGGAC___CNA_10xmultiome_2.FIXEDCELLS            3.972527   \n",
       "CGATTGCCTCACTTGG___CNA_10xmultiome_1.FIXEDCELLS            3.958564   \n",
       "GACTAGGCTGCCACAC___CNA_10xmultiome_2.FIXEDCELLS            3.689131   \n",
       "GGCTAAGCTTGATGTT___VIB_10xmultiome_1.FIXEDCELLS            3.596817   \n",
       "...                                                             ...   \n",
       "AACCTTTGTGCTGAAG___VIB_10xv1_1.FIXEDCELLS                  3.975156   \n",
       "TGAGCCGGTTTGACCA___VIB_10xv1_2.FIXEDCELLS                  3.980912   \n",
       "GACTAACGTAACATAG___VIB_10xv1_2.FIXEDCELLS                  3.842172   \n",
       "TACGGATCATCACAGT___VIB_10xv1_1.FIXEDCELLS                  4.288495   \n",
       "CTAGGATGTAAACGGC___VIB_10xv1_2.FIXEDCELLS                  3.925157   \n",
       "\n",
       "                                                cisTopic_nr_acc  \\\n",
       "CTTGTAACTTCCTGAG___VIB_10xmultiome_2.FIXEDCELLS             595   \n",
       "CCTAACCGACCAGGAC___CNA_10xmultiome_2.FIXEDCELLS            9387   \n",
       "CGATTGCCTCACTTGG___CNA_10xmultiome_1.FIXEDCELLS            9090   \n",
       "GACTAGGCTGCCACAC___CNA_10xmultiome_2.FIXEDCELLS            4888   \n",
       "GGCTAAGCTTGATGTT___VIB_10xmultiome_1.FIXEDCELLS            3952   \n",
       "...                                                         ...   \n",
       "AACCTTTGTGCTGAAG___VIB_10xv1_1.FIXEDCELLS                  9444   \n",
       "TGAGCCGGTTTGACCA___VIB_10xv1_2.FIXEDCELLS                  9570   \n",
       "GACTAACGTAACATAG___VIB_10xv1_2.FIXEDCELLS                  6953   \n",
       "TACGGATCATCACAGT___VIB_10xv1_1.FIXEDCELLS                 19431   \n",
       "CTAGGATGTAAACGGC___VIB_10xv1_2.FIXEDCELLS                  8417   \n",
       "\n",
       "                                                 Log_total_nr_frag  \\\n",
       "CTTGTAACTTCCTGAG___VIB_10xmultiome_2.FIXEDCELLS           3.088490   \n",
       "CCTAACCGACCAGGAC___CNA_10xmultiome_2.FIXEDCELLS           4.594238   \n",
       "CGATTGCCTCACTTGG___CNA_10xmultiome_1.FIXEDCELLS           4.461544   \n",
       "GACTAGGCTGCCACAC___CNA_10xmultiome_2.FIXEDCELLS           3.988425   \n",
       "GGCTAAGCTTGATGTT___VIB_10xmultiome_1.FIXEDCELLS           3.920436   \n",
       "...                                                            ...   \n",
       "AACCTTTGTGCTGAAG___VIB_10xv1_1.FIXEDCELLS                 4.280738   \n",
       "TGAGCCGGTTTGACCA___VIB_10xv1_2.FIXEDCELLS                 4.289634   \n",
       "GACTAACGTAACATAG___VIB_10xv1_2.FIXEDCELLS                 4.156761   \n",
       "TACGGATCATCACAGT___VIB_10xv1_1.FIXEDCELLS                 4.708183   \n",
       "CTAGGATGTAAACGGC___VIB_10xv1_2.FIXEDCELLS                 4.213066   \n",
       "\n",
       "                                                 Log_unique_nr_frag  \\\n",
       "CTTGTAACTTCCTGAG___VIB_10xmultiome_2.FIXEDCELLS            2.856124   \n",
       "CCTAACCGACCAGGAC___CNA_10xmultiome_2.FIXEDCELLS            4.456837   \n",
       "CGATTGCCTCACTTGG___CNA_10xmultiome_1.FIXEDCELLS            4.185315   \n",
       "GACTAGGCTGCCACAC___CNA_10xmultiome_2.FIXEDCELLS            3.831614   \n",
       "GGCTAAGCTTGATGTT___VIB_10xmultiome_1.FIXEDCELLS            3.720077   \n",
       "...                                                             ...   \n",
       "AACCTTTGTGCTGAAG___VIB_10xv1_1.FIXEDCELLS                  4.159898   \n",
       "TGAGCCGGTTTGACCA___VIB_10xv1_2.FIXEDCELLS                  4.211388   \n",
       "GACTAACGTAACATAG___VIB_10xv1_2.FIXEDCELLS                  4.071587   \n",
       "TACGGATCATCACAGT___VIB_10xv1_1.FIXEDCELLS                  4.510143   \n",
       "CTAGGATGTAAACGGC___VIB_10xv1_2.FIXEDCELLS                  4.150849   \n",
       "\n",
       "                                                 Total_nr_frag  \\\n",
       "CTTGTAACTTCCTGAG___VIB_10xmultiome_2.FIXEDCELLS           1226   \n",
       "CCTAACCGACCAGGAC___CNA_10xmultiome_2.FIXEDCELLS          39286   \n",
       "CGATTGCCTCACTTGG___CNA_10xmultiome_1.FIXEDCELLS          28943   \n",
       "GACTAGGCTGCCACAC___CNA_10xmultiome_2.FIXEDCELLS           9737   \n",
       "GGCTAAGCTTGATGTT___VIB_10xmultiome_1.FIXEDCELLS           8326   \n",
       "...                                                        ...   \n",
       "AACCTTTGTGCTGAAG___VIB_10xv1_1.FIXEDCELLS                19087   \n",
       "TGAGCCGGTTTGACCA___VIB_10xv1_2.FIXEDCELLS                19482   \n",
       "GACTAACGTAACATAG___VIB_10xv1_2.FIXEDCELLS                14347   \n",
       "TACGGATCATCACAGT___VIB_10xv1_1.FIXEDCELLS                51072   \n",
       "CTAGGATGTAAACGGC___VIB_10xv1_2.FIXEDCELLS                16333   \n",
       "\n",
       "                                                 Unique_nr_frag  Dupl_nr_frag  \\\n",
       "CTTGTAACTTCCTGAG___VIB_10xmultiome_2.FIXEDCELLS             718           508   \n",
       "CCTAACCGACCAGGAC___CNA_10xmultiome_2.FIXEDCELLS           28631         10655   \n",
       "CGATTGCCTCACTTGG___CNA_10xmultiome_1.FIXEDCELLS           15322         13621   \n",
       "GACTAGGCTGCCACAC___CNA_10xmultiome_2.FIXEDCELLS            6786          2951   \n",
       "GGCTAAGCTTGATGTT___VIB_10xmultiome_1.FIXEDCELLS            5249          3077   \n",
       "...                                                         ...           ...   \n",
       "AACCTTTGTGCTGAAG___VIB_10xv1_1.FIXEDCELLS                 14451          4636   \n",
       "TGAGCCGGTTTGACCA___VIB_10xv1_2.FIXEDCELLS                 16270          3212   \n",
       "GACTAACGTAACATAG___VIB_10xv1_2.FIXEDCELLS                 11792          2555   \n",
       "TACGGATCATCACAGT___VIB_10xv1_1.FIXEDCELLS                 32370         18702   \n",
       "CTAGGATGTAAACGGC___VIB_10xv1_2.FIXEDCELLS                 14153          2180   \n",
       "\n",
       "                                                 Dupl_rate  ...  \\\n",
       "CTTGTAACTTCCTGAG___VIB_10xmultiome_2.FIXEDCELLS   0.414356  ...   \n",
       "CCTAACCGACCAGGAC___CNA_10xmultiome_2.FIXEDCELLS   0.271216  ...   \n",
       "CGATTGCCTCACTTGG___CNA_10xmultiome_1.FIXEDCELLS   0.470615  ...   \n",
       "GACTAGGCTGCCACAC___CNA_10xmultiome_2.FIXEDCELLS   0.303071  ...   \n",
       "GGCTAAGCTTGATGTT___VIB_10xmultiome_1.FIXEDCELLS   0.369565  ...   \n",
       "...                                                    ...  ...   \n",
       "AACCTTTGTGCTGAAG___VIB_10xv1_1.FIXEDCELLS         0.242888  ...   \n",
       "TGAGCCGGTTTGACCA___VIB_10xv1_2.FIXEDCELLS         0.164870  ...   \n",
       "GACTAACGTAACATAG___VIB_10xv1_2.FIXEDCELLS         0.178086  ...   \n",
       "TACGGATCATCACAGT___VIB_10xv1_1.FIXEDCELLS         0.366189  ...   \n",
       "CTAGGATGTAAACGGC___VIB_10xv1_2.FIXEDCELLS         0.133472  ...   \n",
       "\n",
       "                                                 Log_unique_nr_frag_in_regions  \\\n",
       "CTTGTAACTTCCTGAG___VIB_10xmultiome_2.FIXEDCELLS                       6.282267   \n",
       "CCTAACCGACCAGGAC___CNA_10xmultiome_2.FIXEDCELLS                       9.164192   \n",
       "CGATTGCCTCACTTGG___CNA_10xmultiome_1.FIXEDCELLS                       9.166075   \n",
       "GACTAGGCTGCCACAC___CNA_10xmultiome_2.FIXEDCELLS                       8.427050   \n",
       "GGCTAAGCTTGATGTT___VIB_10xmultiome_1.FIXEDCELLS                       8.303257   \n",
       "...                                                                        ...   \n",
       "AACCTTTGTGCTGAAG___VIB_10xv1_1.FIXEDCELLS                             9.231710   \n",
       "TGAGCCGGTTTGACCA___VIB_10xv1_2.FIXEDCELLS                             9.048997   \n",
       "GACTAACGTAACATAG___VIB_10xv1_2.FIXEDCELLS                             8.752740   \n",
       "TACGGATCATCACAGT___VIB_10xv1_1.FIXEDCELLS                            10.014671   \n",
       "CTAGGATGTAAACGGC___VIB_10xv1_2.FIXEDCELLS                             8.990317   \n",
       "\n",
       "                                                 consensus_cell_type_individual  \\\n",
       "CTTGTAACTTCCTGAG___VIB_10xmultiome_2.FIXEDCELLS                Cytotoxic T cell   \n",
       "CCTAACCGACCAGGAC___CNA_10xmultiome_2.FIXEDCELLS                  CD14+ monocyte   \n",
       "CGATTGCCTCACTTGG___CNA_10xmultiome_1.FIXEDCELLS                Cytotoxic T cell   \n",
       "GACTAGGCTGCCACAC___CNA_10xmultiome_2.FIXEDCELLS                Cytotoxic T cell   \n",
       "GGCTAAGCTTGATGTT___VIB_10xmultiome_1.FIXEDCELLS             Natural killer cell   \n",
       "...                                                                         ...   \n",
       "AACCTTTGTGCTGAAG___VIB_10xv1_1.FIXEDCELLS                        CD14+ monocyte   \n",
       "TGAGCCGGTTTGACCA___VIB_10xv1_2.FIXEDCELLS                        Dendritic cell   \n",
       "GACTAACGTAACATAG___VIB_10xv1_2.FIXEDCELLS                        CD14+ monocyte   \n",
       "TACGGATCATCACAGT___VIB_10xv1_1.FIXEDCELLS                        CD14+ monocyte   \n",
       "CTAGGATGTAAACGGC___VIB_10xv1_2.FIXEDCELLS                        Dendritic cell   \n",
       "\n",
       "                                                 seurat_cell_type_pred_score  \\\n",
       "CTTGTAACTTCCTGAG___VIB_10xmultiome_2.FIXEDCELLS                     0.581713   \n",
       "CCTAACCGACCAGGAC___CNA_10xmultiome_2.FIXEDCELLS                     0.755111   \n",
       "CGATTGCCTCACTTGG___CNA_10xmultiome_1.FIXEDCELLS                     0.759118   \n",
       "GACTAGGCTGCCACAC___CNA_10xmultiome_2.FIXEDCELLS                     0.549625   \n",
       "GGCTAAGCTTGATGTT___VIB_10xmultiome_1.FIXEDCELLS                     0.555911   \n",
       "...                                                                      ...   \n",
       "AACCTTTGTGCTGAAG___VIB_10xv1_1.FIXEDCELLS                           0.497591   \n",
       "TGAGCCGGTTTGACCA___VIB_10xv1_2.FIXEDCELLS                           0.614861   \n",
       "GACTAACGTAACATAG___VIB_10xv1_2.FIXEDCELLS                           0.660317   \n",
       "TACGGATCATCACAGT___VIB_10xv1_1.FIXEDCELLS                           0.604183   \n",
       "CTAGGATGTAAACGGC___VIB_10xv1_2.FIXEDCELLS                           0.588456   \n",
       "\n",
       "                                                     cell_type__mega  \\\n",
       "CTTGTAACTTCCTGAG___VIB_10xmultiome_2.FIXEDCELLS     Cytotoxic T cell   \n",
       "CCTAACCGACCAGGAC___CNA_10xmultiome_2.FIXEDCELLS       CD14+ monocyte   \n",
       "CGATTGCCTCACTTGG___CNA_10xmultiome_1.FIXEDCELLS     Cytotoxic T cell   \n",
       "GACTAGGCTGCCACAC___CNA_10xmultiome_2.FIXEDCELLS     Cytotoxic T cell   \n",
       "GGCTAAGCTTGATGTT___VIB_10xmultiome_1.FIXEDCELLS  Natural killer cell   \n",
       "...                                                              ...   \n",
       "AACCTTTGTGCTGAAG___VIB_10xv1_1.FIXEDCELLS             CD14+ monocyte   \n",
       "TGAGCCGGTTTGACCA___VIB_10xv1_2.FIXEDCELLS             Dendritic cell   \n",
       "GACTAACGTAACATAG___VIB_10xv1_2.FIXEDCELLS             CD14+ monocyte   \n",
       "TACGGATCATCACAGT___VIB_10xv1_1.FIXEDCELLS             Dendritic cell   \n",
       "CTAGGATGTAAACGGC___VIB_10xv1_2.FIXEDCELLS             Dendritic cell   \n",
       "\n",
       "                                                seurat_cell_type_pred_score__mega  \\\n",
       "CTTGTAACTTCCTGAG___VIB_10xmultiome_2.FIXEDCELLS                          0.516572   \n",
       "CCTAACCGACCAGGAC___CNA_10xmultiome_2.FIXEDCELLS                          0.587581   \n",
       "CGATTGCCTCACTTGG___CNA_10xmultiome_1.FIXEDCELLS                          0.374029   \n",
       "GACTAGGCTGCCACAC___CNA_10xmultiome_2.FIXEDCELLS                          0.538963   \n",
       "GGCTAAGCTTGATGTT___VIB_10xmultiome_1.FIXEDCELLS                          0.503232   \n",
       "...                                                                           ...   \n",
       "AACCTTTGTGCTGAAG___VIB_10xv1_1.FIXEDCELLS                                0.428762   \n",
       "TGAGCCGGTTTGACCA___VIB_10xv1_2.FIXEDCELLS                                0.769490   \n",
       "GACTAACGTAACATAG___VIB_10xv1_2.FIXEDCELLS                                0.488022   \n",
       "TACGGATCATCACAGT___VIB_10xv1_1.FIXEDCELLS                                0.775639   \n",
       "CTAGGATGTAAACGGC___VIB_10xv1_2.FIXEDCELLS                                0.698028   \n",
       "\n",
       "                                                consensus_cell_type__mega  \\\n",
       "CTTGTAACTTCCTGAG___VIB_10xmultiome_2.FIXEDCELLS          Cytotoxic T cell   \n",
       "CCTAACCGACCAGGAC___CNA_10xmultiome_2.FIXEDCELLS            CD14+ monocyte   \n",
       "CGATTGCCTCACTTGG___CNA_10xmultiome_1.FIXEDCELLS          Cytotoxic T cell   \n",
       "GACTAGGCTGCCACAC___CNA_10xmultiome_2.FIXEDCELLS       Natural killer cell   \n",
       "GGCTAAGCTTGATGTT___VIB_10xmultiome_1.FIXEDCELLS       Natural killer cell   \n",
       "...                                                                   ...   \n",
       "AACCTTTGTGCTGAAG___VIB_10xv1_1.FIXEDCELLS                  Dendritic cell   \n",
       "TGAGCCGGTTTGACCA___VIB_10xv1_2.FIXEDCELLS                  Dendritic cell   \n",
       "GACTAACGTAACATAG___VIB_10xv1_2.FIXEDCELLS                  Dendritic cell   \n",
       "TACGGATCATCACAGT___VIB_10xv1_1.FIXEDCELLS                  Dendritic cell   \n",
       "CTAGGATGTAAACGGC___VIB_10xv1_2.FIXEDCELLS                  Dendritic cell   \n",
       "\n",
       "                                                seurat_cell_type__mega  \\\n",
       "CTTGTAACTTCCTGAG___VIB_10xmultiome_2.FIXEDCELLS       Cytotoxic T cell   \n",
       "CCTAACCGACCAGGAC___CNA_10xmultiome_2.FIXEDCELLS         CD14+ monocyte   \n",
       "CGATTGCCTCACTTGG___CNA_10xmultiome_1.FIXEDCELLS       Cytotoxic T cell   \n",
       "GACTAGGCTGCCACAC___CNA_10xmultiome_2.FIXEDCELLS       Cytotoxic T cell   \n",
       "GGCTAAGCTTGATGTT___VIB_10xmultiome_1.FIXEDCELLS    Natural killer cell   \n",
       "...                                                                ...   \n",
       "AACCTTTGTGCTGAAG___VIB_10xv1_1.FIXEDCELLS               CD14+ monocyte   \n",
       "TGAGCCGGTTTGACCA___VIB_10xv1_2.FIXEDCELLS               Dendritic cell   \n",
       "GACTAACGTAACATAG___VIB_10xv1_2.FIXEDCELLS               CD14+ monocyte   \n",
       "TACGGATCATCACAGT___VIB_10xv1_1.FIXEDCELLS               Dendritic cell   \n",
       "CTAGGATGTAAACGGC___VIB_10xv1_2.FIXEDCELLS               Dendritic cell   \n",
       "\n",
       "                                                harmony_pycisTopic_leiden_10_3.0  \\\n",
       "CTTGTAACTTCCTGAG___VIB_10xmultiome_2.FIXEDCELLS                                8   \n",
       "CCTAACCGACCAGGAC___CNA_10xmultiome_2.FIXEDCELLS                               21   \n",
       "CGATTGCCTCACTTGG___CNA_10xmultiome_1.FIXEDCELLS                                8   \n",
       "GACTAGGCTGCCACAC___CNA_10xmultiome_2.FIXEDCELLS                               17   \n",
       "GGCTAAGCTTGATGTT___VIB_10xmultiome_1.FIXEDCELLS                               17   \n",
       "...                                                                          ...   \n",
       "AACCTTTGTGCTGAAG___VIB_10xv1_1.FIXEDCELLS                                     28   \n",
       "TGAGCCGGTTTGACCA___VIB_10xv1_2.FIXEDCELLS                                     28   \n",
       "GACTAACGTAACATAG___VIB_10xv1_2.FIXEDCELLS                                     28   \n",
       "TACGGATCATCACAGT___VIB_10xv1_1.FIXEDCELLS                                     28   \n",
       "CTAGGATGTAAACGGC___VIB_10xv1_2.FIXEDCELLS                                     28   \n",
       "\n",
       "                                                harmony_consensus_cell_type__mega  \\\n",
       "CTTGTAACTTCCTGAG___VIB_10xmultiome_2.FIXEDCELLS                  Cytotoxic T cell   \n",
       "CCTAACCGACCAGGAC___CNA_10xmultiome_2.FIXEDCELLS                  Cytotoxic T cell   \n",
       "CGATTGCCTCACTTGG___CNA_10xmultiome_1.FIXEDCELLS                  Cytotoxic T cell   \n",
       "GACTAGGCTGCCACAC___CNA_10xmultiome_2.FIXEDCELLS                  Cytotoxic T cell   \n",
       "GGCTAAGCTTGATGTT___VIB_10xmultiome_1.FIXEDCELLS                  Cytotoxic T cell   \n",
       "...                                                                           ...   \n",
       "AACCTTTGTGCTGAAG___VIB_10xv1_1.FIXEDCELLS                          Dendritic cell   \n",
       "TGAGCCGGTTTGACCA___VIB_10xv1_2.FIXEDCELLS                          Dendritic cell   \n",
       "GACTAACGTAACATAG___VIB_10xv1_2.FIXEDCELLS                          Dendritic cell   \n",
       "TACGGATCATCACAGT___VIB_10xv1_1.FIXEDCELLS                          Dendritic cell   \n",
       "CTAGGATGTAAACGGC___VIB_10xv1_2.FIXEDCELLS                          Dendritic cell   \n",
       "\n",
       "                                                     tech_fmx_sample  \n",
       "CTTGTAACTTCCTGAG___VIB_10xmultiome_2.FIXEDCELLS  10xmultiome_sampleB  \n",
       "CCTAACCGACCAGGAC___CNA_10xmultiome_2.FIXEDCELLS  10xmultiome_sampleB  \n",
       "CGATTGCCTCACTTGG___CNA_10xmultiome_1.FIXEDCELLS  10xmultiome_sampleB  \n",
       "GACTAGGCTGCCACAC___CNA_10xmultiome_2.FIXEDCELLS  10xmultiome_sampleB  \n",
       "GGCTAAGCTTGATGTT___VIB_10xmultiome_1.FIXEDCELLS  10xmultiome_sampleB  \n",
       "...                                                              ...  \n",
       "AACCTTTGTGCTGAAG___VIB_10xv1_1.FIXEDCELLS              10xv1_sampleB  \n",
       "TGAGCCGGTTTGACCA___VIB_10xv1_2.FIXEDCELLS              10xv1_sampleB  \n",
       "GACTAACGTAACATAG___VIB_10xv1_2.FIXEDCELLS              10xv1_sampleB  \n",
       "TACGGATCATCACAGT___VIB_10xv1_1.FIXEDCELLS              10xv1_sampleB  \n",
       "CTAGGATGTAAACGGC___VIB_10xv1_2.FIXEDCELLS              10xv1_sampleB  \n",
       "\n",
       "[60487 rows x 33 columns]"
      ]
     },
     "execution_count": 11,
     "metadata": {},
     "output_type": "execute_result"
    }
   ],
   "source": [
    "cto.cell_data"
   ]
  },
  {
   "cell_type": "code",
   "execution_count": 12,
   "id": "624a110b-4c63-4949-b9e7-d630ce6c3378",
   "metadata": {
    "collapsed": true,
    "execution": {
     "iopub.execute_input": "2023-03-06T16:06:49.540191Z",
     "iopub.status.busy": "2023-03-06T16:06:49.539983Z",
     "iopub.status.idle": "2023-03-06T16:06:49.554535Z",
     "shell.execute_reply": "2023-03-06T16:06:49.553557Z",
     "shell.execute_reply.started": "2023-03-06T16:06:49.540173Z"
    },
    "jupyter": {
     "outputs_hidden": true
    },
    "tags": []
   },
   "outputs": [
    {
     "data": {
      "text/plain": [
       "CTTGTAACTTCCTGAG___VIB_10xmultiome_2.FIXEDCELLS    CTTGTAACTTCCTGAG\n",
       "CCTAACCGACCAGGAC___CNA_10xmultiome_2.FIXEDCELLS    CCTAACCGACCAGGAC\n",
       "CGATTGCCTCACTTGG___CNA_10xmultiome_1.FIXEDCELLS    CGATTGCCTCACTTGG\n",
       "GACTAGGCTGCCACAC___CNA_10xmultiome_2.FIXEDCELLS    GACTAGGCTGCCACAC\n",
       "GGCTAAGCTTGATGTT___VIB_10xmultiome_1.FIXEDCELLS    GGCTAAGCTTGATGTT\n",
       "                                                         ...       \n",
       "AACCTTTGTGCTGAAG___VIB_10xv1_1.FIXEDCELLS          AACCTTTGTGCTGAAG\n",
       "TGAGCCGGTTTGACCA___VIB_10xv1_2.FIXEDCELLS          TGAGCCGGTTTGACCA\n",
       "GACTAACGTAACATAG___VIB_10xv1_2.FIXEDCELLS          GACTAACGTAACATAG\n",
       "TACGGATCATCACAGT___VIB_10xv1_1.FIXEDCELLS          TACGGATCATCACAGT\n",
       "CTAGGATGTAAACGGC___VIB_10xv1_2.FIXEDCELLS          CTAGGATGTAAACGGC\n",
       "Name: barcode, Length: 60487, dtype: object"
      ]
     },
     "execution_count": 12,
     "metadata": {},
     "output_type": "execute_result"
    }
   ],
   "source": [
    "cto.cell_data[\"barcode\"]"
   ]
  },
  {
   "cell_type": "code",
   "execution_count": 13,
   "id": "0616821c-9025-4feb-b81e-d91b02496baf",
   "metadata": {
    "collapsed": true,
    "execution": {
     "iopub.execute_input": "2023-03-06T16:06:49.556864Z",
     "iopub.status.busy": "2023-03-06T16:06:49.556562Z",
     "iopub.status.idle": "2023-03-06T16:06:49.594509Z",
     "shell.execute_reply": "2023-03-06T16:06:49.593461Z",
     "shell.execute_reply.started": "2023-03-06T16:06:49.556844Z"
    },
    "jupyter": {
     "outputs_hidden": true
    },
    "tags": []
   },
   "outputs": [
    {
     "name": "stdout",
     "output_type": "stream",
     "text": [
      "harmony_consensus_cell_type__mega  tech_fmx_sample    \n",
      "B cell                             10xmultiome_sampleA     442\n",
      "                                   10xmultiome_sampleB     442\n",
      "                                   10xv11_sampleA          442\n",
      "                                   10xv11_sampleB          442\n",
      "                                   10xv1_sampleA           442\n",
      "                                   10xv1_sampleB           442\n",
      "                                   10xv2_sampleA           442\n",
      "                                   10xv2_sampleB           442\n",
      "                                   ddseq_sampleA           442\n",
      "                                   ddseq_sampleB           442\n",
      "                                   hydrop_sampleA          442\n",
      "                                   hydrop_sampleB          442\n",
      "                                   mtscatac_sampleA        442\n",
      "                                   mtscatac_sampleB        442\n",
      "                                   s3atac_sampleA          254\n",
      "                                   s3atac_sampleB          146\n",
      "CD14+ monocyte                     10xmultiome_sampleA     972\n",
      "                                   10xmultiome_sampleB     972\n",
      "                                   10xv11_sampleA          972\n",
      "                                   10xv11_sampleB          972\n",
      "                                   10xv1_sampleA           972\n",
      "                                   10xv1_sampleB           972\n",
      "                                   10xv2_sampleA           972\n",
      "                                   10xv2_sampleB           972\n",
      "                                   hydrop_sampleA          972\n",
      "                                   hydrop_sampleB          972\n",
      "                                   mtscatac_sampleA        972\n",
      "                                   mtscatac_sampleB        972\n",
      "                                   ddseq_sampleB           688\n",
      "                                   ddseq_sampleA           671\n",
      "                                   s3atac_sampleA          309\n",
      "                                   s3atac_sampleB          299\n",
      "CD16+ monocyte                     10xmultiome_sampleA      54\n",
      "                                   10xmultiome_sampleB      54\n",
      "                                   10xv11_sampleA           54\n",
      "                                   10xv11_sampleB           54\n",
      "                                   10xv1_sampleA            54\n",
      "                                   10xv1_sampleB            54\n",
      "                                   10xv2_sampleA            54\n",
      "                                   10xv2_sampleB            54\n",
      "                                   ddseq_sampleA            54\n",
      "                                   ddseq_sampleB            54\n",
      "                                   hydrop_sampleA           54\n",
      "                                   hydrop_sampleB           54\n",
      "                                   mtscatac_sampleA         54\n",
      "                                   mtscatac_sampleB         54\n",
      "                                   s3atac_sampleA           54\n",
      "                                   s3atac_sampleB           32\n",
      "CD4+ T cell                        10xmultiome_sampleA    1591\n",
      "                                   10xmultiome_sampleB    1591\n",
      "                                   10xv11_sampleA         1591\n",
      "                                   10xv11_sampleB         1591\n",
      "                                   10xv1_sampleB          1591\n",
      "                                   10xv2_sampleA          1591\n",
      "                                   10xv2_sampleB          1591\n",
      "                                   ddseq_sampleA          1591\n",
      "                                   ddseq_sampleB          1591\n",
      "                                   hydrop_sampleA         1591\n",
      "                                   hydrop_sampleB         1591\n",
      "                                   mtscatac_sampleA       1591\n",
      "                                   mtscatac_sampleB       1591\n",
      "                                   10xv1_sampleA          1301\n",
      "                                   s3atac_sampleB          230\n",
      "                                   s3atac_sampleA          228\n",
      "Cytotoxic T cell                   10xmultiome_sampleA     857\n",
      "                                   10xmultiome_sampleB     857\n",
      "                                   10xv11_sampleA          857\n",
      "                                   10xv11_sampleB          857\n",
      "                                   10xv1_sampleA           857\n",
      "                                   10xv2_sampleA           857\n",
      "                                   10xv2_sampleB           857\n",
      "                                   ddseq_sampleA           857\n",
      "                                   ddseq_sampleB           857\n",
      "                                   hydrop_sampleA          857\n",
      "                                   hydrop_sampleB          857\n",
      "                                   mtscatac_sampleA        857\n",
      "                                   mtscatac_sampleB        857\n",
      "                                   s3atac_sampleA          719\n",
      "                                   10xv1_sampleB           635\n",
      "                                   s3atac_sampleB          449\n",
      "Dendritic cell                     10xmultiome_sampleA      71\n",
      "                                   10xmultiome_sampleB      71\n",
      "                                   10xv11_sampleA           71\n",
      "                                   10xv11_sampleB           71\n",
      "                                   10xv1_sampleA            71\n",
      "                                   10xv1_sampleB            71\n",
      "                                   10xv2_sampleA            71\n",
      "                                   10xv2_sampleB            71\n",
      "                                   hydrop_sampleA           71\n",
      "                                   hydrop_sampleB           71\n",
      "                                   mtscatac_sampleA         71\n",
      "                                   mtscatac_sampleB         71\n",
      "                                   ddseq_sampleA            55\n",
      "                                   s3atac_sampleA           44\n",
      "                                   s3atac_sampleB           20\n",
      "                                   ddseq_sampleB            11\n",
      "Natural killer cell                10xmultiome_sampleA     232\n",
      "                                   10xmultiome_sampleB     232\n",
      "                                   10xv11_sampleA          232\n",
      "                                   10xv11_sampleB          232\n",
      "                                   10xv1_sampleA           232\n",
      "                                   10xv1_sampleB           232\n",
      "                                   10xv2_sampleA           232\n",
      "                                   10xv2_sampleB           232\n",
      "                                   hydrop_sampleA          232\n",
      "                                   hydrop_sampleB          232\n",
      "                                   mtscatac_sampleA        232\n",
      "                                   mtscatac_sampleB        232\n",
      "                                   s3atac_sampleA          131\n",
      "                                   s3atac_sampleB          123\n",
      "                                   ddseq_sampleA            13\n",
      "                                   ddseq_sampleB             7\n",
      "Name: tech_fmx_sample, dtype: int64\n"
     ]
    }
   ],
   "source": [
    "with pd.option_context(\n",
    "    \"display.max_rows\",\n",
    "    None,\n",
    "    \"display.max_columns\",\n",
    "    None,\n",
    "    \"display.precision\",\n",
    "    3,\n",
    "):\n",
    "    print(\n",
    "        cto.cell_data.groupby([\"harmony_consensus_cell_type__mega\"])[\n",
    "            \"tech_fmx_sample\"\n",
    "        ].value_counts()\n",
    "    )"
   ]
  },
  {
   "cell_type": "code",
   "execution_count": 19,
   "id": "3128205c-3954-4faa-9cd9-1c33e4daa813",
   "metadata": {
    "collapsed": true,
    "execution": {
     "iopub.execute_input": "2023-03-06T17:36:28.621947Z",
     "iopub.status.busy": "2023-03-06T17:36:28.620164Z",
     "iopub.status.idle": "2023-03-06T17:36:28.662585Z",
     "shell.execute_reply": "2023-03-06T17:36:28.661505Z",
     "shell.execute_reply.started": "2023-03-06T17:36:28.621875Z"
    },
    "jupyter": {
     "outputs_hidden": true
    },
    "tags": []
   },
   "outputs": [],
   "source": [
    "cto.cell_data[\"tech_fmx_sample__harmony_consensus_cell_type__mega\"] = (\n",
    "    cto.cell_data[\"tech_fmx_sample\"]\n",
    "    + \"__\"\n",
    "    + cto.cell_data[\"harmony_consensus_cell_type__mega\"]\n",
    ")"
   ]
  },
  {
   "cell_type": "code",
   "execution_count": null,
   "id": "c39285ac",
   "metadata": {
    "collapsed": true,
    "execution": {
     "iopub.execute_input": "2023-03-06T17:36:34.375137Z",
     "iopub.status.busy": "2023-03-06T17:36:34.374326Z",
     "iopub.status.idle": "2023-03-06T22:46:18.165051Z",
     "shell.execute_reply": "2023-03-06T22:46:18.163865Z",
     "shell.execute_reply.started": "2023-03-06T17:36:34.375079Z"
    },
    "jupyter": {
     "outputs_hidden": true
    },
    "papermill": {
     "duration": 0.029556,
     "end_time": "2022-09-18T16:28:06.775195",
     "exception": false,
     "start_time": "2022-09-18T16:28:06.745639",
     "status": "completed"
    },
    "tags": []
   },
   "outputs": [
    {
     "name": "stdout",
     "output_type": "stream",
     "text": [
      "2023-03-06 18:36:34,399 cisTopic     INFO     Reading fragments from ../1_data_repository/fixedcells_fragments/SAN_10xmultiome_2.FIXEDCELLS.fragments.tsv.gz\n"
     ]
    },
    {
     "name": "stderr",
     "output_type": "stream",
     "text": [
      "--- Logging error ---\n",
      "Traceback (most recent call last):\n",
      "  File \"/usr/local/lib/python3.8/logging/__init__.py\", line 1085, in emit\n",
      "    msg = self.format(record)\n",
      "  File \"/usr/local/lib/python3.8/logging/__init__.py\", line 929, in format\n",
      "    return fmt.format(record)\n",
      "  File \"/usr/local/lib/python3.8/logging/__init__.py\", line 668, in format\n",
      "    record.message = record.getMessage()\n",
      "  File \"/usr/local/lib/python3.8/logging/__init__.py\", line 373, in getMessage\n",
      "    msg = msg % self.args\n",
      "TypeError: not all arguments converted during string formatting\n",
      "Call stack:\n",
      "  File \"/opt/venv/bin/ipython\", line 8, in <module>\n",
      "    sys.exit(start_ipython())\n",
      "  File \"/opt/venv/lib/python3.8/site-packages/IPython/__init__.py\", line 124, in start_ipython\n",
      "    return launch_new_instance(argv=argv, **kwargs)\n",
      "  File \"/opt/venv/lib/python3.8/site-packages/traitlets/config/application.py\", line 978, in launch_instance\n",
      "    app.start()\n",
      "  File \"/opt/venv/lib/python3.8/site-packages/IPython/terminal/ipapp.py\", line 314, in start\n",
      "    return self.subapp.start()\n",
      "  File \"/opt/venv/lib/python3.8/site-packages/ipykernel/kernelapp.py\", line 712, in start\n",
      "    self.io_loop.start()\n",
      "  File \"/opt/venv/lib/python3.8/site-packages/tornado/platform/asyncio.py\", line 215, in start\n",
      "    self.asyncio_loop.run_forever()\n",
      "  File \"/usr/local/lib/python3.8/asyncio/base_events.py\", line 570, in run_forever\n",
      "    self._run_once()\n",
      "  File \"/usr/local/lib/python3.8/asyncio/base_events.py\", line 1859, in _run_once\n",
      "    handle._run()\n",
      "  File \"/usr/local/lib/python3.8/asyncio/events.py\", line 81, in _run\n",
      "    self._context.run(self._callback, *self._args)\n",
      "  File \"/opt/venv/lib/python3.8/site-packages/ipykernel/kernelbase.py\", line 510, in dispatch_queue\n",
      "    await self.process_one()\n",
      "  File \"/opt/venv/lib/python3.8/site-packages/ipykernel/kernelbase.py\", line 499, in process_one\n",
      "    await dispatch(*args)\n",
      "  File \"/opt/venv/lib/python3.8/site-packages/ipykernel/kernelbase.py\", line 406, in dispatch_shell\n",
      "    await result\n",
      "  File \"/opt/venv/lib/python3.8/site-packages/ipykernel/kernelbase.py\", line 730, in execute_request\n",
      "    reply_content = await reply_content\n",
      "  File \"/opt/venv/lib/python3.8/site-packages/ipykernel/ipkernel.py\", line 383, in do_execute\n",
      "    res = shell.run_cell(\n",
      "  File \"/opt/venv/lib/python3.8/site-packages/ipykernel/zmqshell.py\", line 528, in run_cell\n",
      "    return super().run_cell(*args, **kwargs)\n",
      "  File \"/opt/venv/lib/python3.8/site-packages/IPython/core/interactiveshell.py\", line 2885, in run_cell\n",
      "    result = self._run_cell(\n",
      "  File \"/opt/venv/lib/python3.8/site-packages/IPython/core/interactiveshell.py\", line 2940, in _run_cell\n",
      "    return runner(coro)\n",
      "  File \"/opt/venv/lib/python3.8/site-packages/IPython/core/async_helpers.py\", line 129, in _pseudo_sync_runner\n",
      "    coro.send(None)\n",
      "  File \"/opt/venv/lib/python3.8/site-packages/IPython/core/interactiveshell.py\", line 3139, in run_cell_async\n",
      "    has_raised = await self.run_ast_nodes(code_ast.body, cell_name,\n",
      "  File \"/opt/venv/lib/python3.8/site-packages/IPython/core/interactiveshell.py\", line 3318, in run_ast_nodes\n",
      "    if await self.run_code(code, result, async_=asy):\n",
      "  File \"/opt/venv/lib/python3.8/site-packages/IPython/core/interactiveshell.py\", line 3378, in run_code\n",
      "    exec(code_obj, self.user_global_ns, self.user_ns)\n",
      "  File \"/tmp/ipykernel_3615626/3796376857.py\", line 24, in <module>\n",
      "    bw_paths, bed_paths = export_pseudobulk(\n",
      "  File \"/tmp/ipykernel_3615626/2558041373.py\", line 106, in export_pseudobulk\n",
      "    log.info(\n",
      "Message: 'The following path_to_fragments entry is not found in the cell metadata sample_id_col: '\n",
      "Arguments: ('OHS_s3atac_2.FIXEDCELLS', '. It will be ignored.')\n"
     ]
    },
    {
     "name": "stdout",
     "output_type": "stream",
     "text": [
      "2023-03-06 18:38:15,337 cisTopic     INFO     Reading fragments from ../1_data_repository/fixedcells_fragments/OHS_s3atac_1.FIXEDCELLS.fragments.tsv.gz\n",
      "2023-03-06 18:39:23,026 cisTopic     INFO     Reading fragments from ../1_data_repository/fixedcells_fragments/CNA_10xv11_5.FIXEDCELLS.fragments.tsv.gz\n"
     ]
    },
    {
     "name": "stderr",
     "output_type": "stream",
     "text": [
      "--- Logging error ---\n",
      "Traceback (most recent call last):\n",
      "  File \"/usr/local/lib/python3.8/logging/__init__.py\", line 1085, in emit\n",
      "    msg = self.format(record)\n",
      "  File \"/usr/local/lib/python3.8/logging/__init__.py\", line 929, in format\n",
      "    return fmt.format(record)\n",
      "  File \"/usr/local/lib/python3.8/logging/__init__.py\", line 668, in format\n",
      "    record.message = record.getMessage()\n",
      "  File \"/usr/local/lib/python3.8/logging/__init__.py\", line 373, in getMessage\n",
      "    msg = msg % self.args\n",
      "TypeError: not all arguments converted during string formatting\n",
      "Call stack:\n",
      "  File \"/opt/venv/bin/ipython\", line 8, in <module>\n",
      "    sys.exit(start_ipython())\n",
      "  File \"/opt/venv/lib/python3.8/site-packages/IPython/__init__.py\", line 124, in start_ipython\n",
      "    return launch_new_instance(argv=argv, **kwargs)\n",
      "  File \"/opt/venv/lib/python3.8/site-packages/traitlets/config/application.py\", line 978, in launch_instance\n",
      "    app.start()\n",
      "  File \"/opt/venv/lib/python3.8/site-packages/IPython/terminal/ipapp.py\", line 314, in start\n",
      "    return self.subapp.start()\n",
      "  File \"/opt/venv/lib/python3.8/site-packages/ipykernel/kernelapp.py\", line 712, in start\n",
      "    self.io_loop.start()\n",
      "  File \"/opt/venv/lib/python3.8/site-packages/tornado/platform/asyncio.py\", line 215, in start\n",
      "    self.asyncio_loop.run_forever()\n",
      "  File \"/usr/local/lib/python3.8/asyncio/base_events.py\", line 570, in run_forever\n",
      "    self._run_once()\n",
      "  File \"/usr/local/lib/python3.8/asyncio/base_events.py\", line 1859, in _run_once\n",
      "    handle._run()\n",
      "  File \"/usr/local/lib/python3.8/asyncio/events.py\", line 81, in _run\n",
      "    self._context.run(self._callback, *self._args)\n",
      "  File \"/opt/venv/lib/python3.8/site-packages/ipykernel/kernelbase.py\", line 510, in dispatch_queue\n",
      "    await self.process_one()\n",
      "  File \"/opt/venv/lib/python3.8/site-packages/ipykernel/kernelbase.py\", line 499, in process_one\n",
      "    await dispatch(*args)\n",
      "  File \"/opt/venv/lib/python3.8/site-packages/ipykernel/kernelbase.py\", line 406, in dispatch_shell\n",
      "    await result\n",
      "  File \"/opt/venv/lib/python3.8/site-packages/ipykernel/kernelbase.py\", line 730, in execute_request\n",
      "    reply_content = await reply_content\n",
      "  File \"/opt/venv/lib/python3.8/site-packages/ipykernel/ipkernel.py\", line 383, in do_execute\n",
      "    res = shell.run_cell(\n",
      "  File \"/opt/venv/lib/python3.8/site-packages/ipykernel/zmqshell.py\", line 528, in run_cell\n",
      "    return super().run_cell(*args, **kwargs)\n",
      "  File \"/opt/venv/lib/python3.8/site-packages/IPython/core/interactiveshell.py\", line 2885, in run_cell\n",
      "    result = self._run_cell(\n",
      "  File \"/opt/venv/lib/python3.8/site-packages/IPython/core/interactiveshell.py\", line 2940, in _run_cell\n",
      "    return runner(coro)\n",
      "  File \"/opt/venv/lib/python3.8/site-packages/IPython/core/async_helpers.py\", line 129, in _pseudo_sync_runner\n",
      "    coro.send(None)\n",
      "  File \"/opt/venv/lib/python3.8/site-packages/IPython/core/interactiveshell.py\", line 3139, in run_cell_async\n",
      "    has_raised = await self.run_ast_nodes(code_ast.body, cell_name,\n",
      "  File \"/opt/venv/lib/python3.8/site-packages/IPython/core/interactiveshell.py\", line 3318, in run_ast_nodes\n",
      "    if await self.run_code(code, result, async_=asy):\n",
      "  File \"/opt/venv/lib/python3.8/site-packages/IPython/core/interactiveshell.py\", line 3378, in run_code\n",
      "    exec(code_obj, self.user_global_ns, self.user_ns)\n",
      "  File \"/tmp/ipykernel_3615626/3796376857.py\", line 24, in <module>\n",
      "    bw_paths, bed_paths = export_pseudobulk(\n",
      "  File \"/tmp/ipykernel_3615626/2558041373.py\", line 106, in export_pseudobulk\n",
      "    log.info(\n",
      "Message: 'The following path_to_fragments entry is not found in the cell metadata sample_id_col: '\n",
      "Arguments: ('TXG_10xv11_1.FIXEDCELLS', '. It will be ignored.')\n"
     ]
    },
    {
     "name": "stdout",
     "output_type": "stream",
     "text": [
      "2023-03-06 18:39:42,566 cisTopic     INFO     Reading fragments from ../1_data_repository/fixedcells_fragments/STA_10xv11_1.FIXEDCELLS.fragments.tsv.gz\n",
      "2023-03-06 18:40:03,329 cisTopic     INFO     Reading fragments from ../1_data_repository/fixedcells_fragments/CNA_hydrop_2.FIXEDCELLS.fragments.tsv.gz\n",
      "2023-03-06 18:40:32,851 cisTopic     INFO     Reading fragments from ../1_data_repository/fixedcells_fragments/CNA_10xv2_2.FIXEDCELLS.fragments.tsv.gz\n",
      "2023-03-06 18:41:54,432 cisTopic     INFO     Reading fragments from ../1_data_repository/fixedcells_fragments/VIB_hydrop_2.FIXEDCELLS.fragments.tsv.gz\n",
      "2023-03-06 18:42:28,325 cisTopic     INFO     Reading fragments from ../1_data_repository/fixedcells_fragments/STA_10xv11_2.FIXEDCELLS.fragments.tsv.gz\n",
      "2023-03-06 18:42:58,903 cisTopic     INFO     Reading fragments from ../1_data_repository/fixedcells_fragments/VIB_10xmultiome_1.FIXEDCELLS.fragments.tsv.gz\n",
      "2023-03-06 18:43:19,584 cisTopic     INFO     Reading fragments from ../1_data_repository/fixedcells_fragments/VIB_hydrop_1.FIXEDCELLS.fragments.tsv.gz\n",
      "2023-03-06 18:43:45,734 cisTopic     INFO     Reading fragments from ../1_data_repository/fixedcells_fragments/EPF_hydrop_3.FIXEDCELLS.fragments.tsv.gz\n",
      "2023-03-06 18:44:11,192 cisTopic     INFO     Reading fragments from ../1_data_repository/fixedcells_fragments/VIB_10xv2_1.FIXEDCELLS.fragments.tsv.gz\n",
      "2023-03-06 18:45:05,544 cisTopic     INFO     Reading fragments from ../1_data_repository/fixedcells_fragments/HAR_ddseq_1.FIXEDCELLS.fragments.tsv.gz\n"
     ]
    },
    {
     "name": "stderr",
     "output_type": "stream",
     "text": [
      "--- Logging error ---\n",
      "Traceback (most recent call last):\n",
      "  File \"/usr/local/lib/python3.8/logging/__init__.py\", line 1085, in emit\n",
      "    msg = self.format(record)\n",
      "  File \"/usr/local/lib/python3.8/logging/__init__.py\", line 929, in format\n",
      "    return fmt.format(record)\n",
      "  File \"/usr/local/lib/python3.8/logging/__init__.py\", line 668, in format\n",
      "    record.message = record.getMessage()\n",
      "  File \"/usr/local/lib/python3.8/logging/__init__.py\", line 373, in getMessage\n",
      "    msg = msg % self.args\n",
      "TypeError: not all arguments converted during string formatting\n",
      "Call stack:\n",
      "  File \"/opt/venv/bin/ipython\", line 8, in <module>\n",
      "    sys.exit(start_ipython())\n",
      "  File \"/opt/venv/lib/python3.8/site-packages/IPython/__init__.py\", line 124, in start_ipython\n",
      "    return launch_new_instance(argv=argv, **kwargs)\n",
      "  File \"/opt/venv/lib/python3.8/site-packages/traitlets/config/application.py\", line 978, in launch_instance\n",
      "    app.start()\n",
      "  File \"/opt/venv/lib/python3.8/site-packages/IPython/terminal/ipapp.py\", line 314, in start\n",
      "    return self.subapp.start()\n",
      "  File \"/opt/venv/lib/python3.8/site-packages/ipykernel/kernelapp.py\", line 712, in start\n",
      "    self.io_loop.start()\n",
      "  File \"/opt/venv/lib/python3.8/site-packages/tornado/platform/asyncio.py\", line 215, in start\n",
      "    self.asyncio_loop.run_forever()\n",
      "  File \"/usr/local/lib/python3.8/asyncio/base_events.py\", line 570, in run_forever\n",
      "    self._run_once()\n",
      "  File \"/usr/local/lib/python3.8/asyncio/base_events.py\", line 1859, in _run_once\n",
      "    handle._run()\n",
      "  File \"/usr/local/lib/python3.8/asyncio/events.py\", line 81, in _run\n",
      "    self._context.run(self._callback, *self._args)\n",
      "  File \"/opt/venv/lib/python3.8/site-packages/ipykernel/kernelbase.py\", line 510, in dispatch_queue\n",
      "    await self.process_one()\n",
      "  File \"/opt/venv/lib/python3.8/site-packages/ipykernel/kernelbase.py\", line 499, in process_one\n",
      "    await dispatch(*args)\n",
      "  File \"/opt/venv/lib/python3.8/site-packages/ipykernel/kernelbase.py\", line 406, in dispatch_shell\n",
      "    await result\n",
      "  File \"/opt/venv/lib/python3.8/site-packages/ipykernel/kernelbase.py\", line 730, in execute_request\n",
      "    reply_content = await reply_content\n",
      "  File \"/opt/venv/lib/python3.8/site-packages/ipykernel/ipkernel.py\", line 383, in do_execute\n",
      "    res = shell.run_cell(\n",
      "  File \"/opt/venv/lib/python3.8/site-packages/ipykernel/zmqshell.py\", line 528, in run_cell\n",
      "    return super().run_cell(*args, **kwargs)\n",
      "  File \"/opt/venv/lib/python3.8/site-packages/IPython/core/interactiveshell.py\", line 2885, in run_cell\n",
      "    result = self._run_cell(\n",
      "  File \"/opt/venv/lib/python3.8/site-packages/IPython/core/interactiveshell.py\", line 2940, in _run_cell\n",
      "    return runner(coro)\n",
      "  File \"/opt/venv/lib/python3.8/site-packages/IPython/core/async_helpers.py\", line 129, in _pseudo_sync_runner\n",
      "    coro.send(None)\n",
      "  File \"/opt/venv/lib/python3.8/site-packages/IPython/core/interactiveshell.py\", line 3139, in run_cell_async\n",
      "    has_raised = await self.run_ast_nodes(code_ast.body, cell_name,\n",
      "  File \"/opt/venv/lib/python3.8/site-packages/IPython/core/interactiveshell.py\", line 3318, in run_ast_nodes\n",
      "    if await self.run_code(code, result, async_=asy):\n",
      "  File \"/opt/venv/lib/python3.8/site-packages/IPython/core/interactiveshell.py\", line 3378, in run_code\n",
      "    exec(code_obj, self.user_global_ns, self.user_ns)\n",
      "  File \"/tmp/ipykernel_3615626/3796376857.py\", line 24, in <module>\n",
      "    bw_paths, bed_paths = export_pseudobulk(\n",
      "  File \"/tmp/ipykernel_3615626/2558041373.py\", line 106, in export_pseudobulk\n",
      "    log.info(\n",
      "Message: 'The following path_to_fragments entry is not found in the cell metadata sample_id_col: '\n",
      "Arguments: ('UCS_ddseq_2.FIXEDCELLS', '. It will be ignored.')\n"
     ]
    },
    {
     "name": "stdout",
     "output_type": "stream",
     "text": [
      "2023-03-06 18:46:40,698 cisTopic     INFO     Reading fragments from ../1_data_repository/fixedcells_fragments/CNA_10xv11_2.FIXEDCELLS.fragments.tsv.gz\n",
      "2023-03-06 18:47:24,088 cisTopic     INFO     Reading fragments from ../1_data_repository/fixedcells_fragments/CNA_10xmultiome_2.FIXEDCELLS.fragments.tsv.gz\n"
     ]
    },
    {
     "name": "stderr",
     "output_type": "stream",
     "text": [
      "--- Logging error ---\n",
      "Traceback (most recent call last):\n",
      "  File \"/usr/local/lib/python3.8/logging/__init__.py\", line 1085, in emit\n",
      "    msg = self.format(record)\n",
      "  File \"/usr/local/lib/python3.8/logging/__init__.py\", line 929, in format\n",
      "    return fmt.format(record)\n",
      "  File \"/usr/local/lib/python3.8/logging/__init__.py\", line 668, in format\n",
      "    record.message = record.getMessage()\n",
      "  File \"/usr/local/lib/python3.8/logging/__init__.py\", line 373, in getMessage\n",
      "    msg = msg % self.args\n",
      "TypeError: not all arguments converted during string formatting\n",
      "Call stack:\n",
      "  File \"/opt/venv/bin/ipython\", line 8, in <module>\n",
      "    sys.exit(start_ipython())\n",
      "  File \"/opt/venv/lib/python3.8/site-packages/IPython/__init__.py\", line 124, in start_ipython\n",
      "    return launch_new_instance(argv=argv, **kwargs)\n",
      "  File \"/opt/venv/lib/python3.8/site-packages/traitlets/config/application.py\", line 978, in launch_instance\n",
      "    app.start()\n",
      "  File \"/opt/venv/lib/python3.8/site-packages/IPython/terminal/ipapp.py\", line 314, in start\n",
      "    return self.subapp.start()\n",
      "  File \"/opt/venv/lib/python3.8/site-packages/ipykernel/kernelapp.py\", line 712, in start\n",
      "    self.io_loop.start()\n",
      "  File \"/opt/venv/lib/python3.8/site-packages/tornado/platform/asyncio.py\", line 215, in start\n",
      "    self.asyncio_loop.run_forever()\n",
      "  File \"/usr/local/lib/python3.8/asyncio/base_events.py\", line 570, in run_forever\n",
      "    self._run_once()\n",
      "  File \"/usr/local/lib/python3.8/asyncio/base_events.py\", line 1859, in _run_once\n",
      "    handle._run()\n",
      "  File \"/usr/local/lib/python3.8/asyncio/events.py\", line 81, in _run\n",
      "    self._context.run(self._callback, *self._args)\n",
      "  File \"/opt/venv/lib/python3.8/site-packages/ipykernel/kernelbase.py\", line 510, in dispatch_queue\n",
      "    await self.process_one()\n",
      "  File \"/opt/venv/lib/python3.8/site-packages/ipykernel/kernelbase.py\", line 499, in process_one\n",
      "    await dispatch(*args)\n",
      "  File \"/opt/venv/lib/python3.8/site-packages/ipykernel/kernelbase.py\", line 406, in dispatch_shell\n",
      "    await result\n",
      "  File \"/opt/venv/lib/python3.8/site-packages/ipykernel/kernelbase.py\", line 730, in execute_request\n",
      "    reply_content = await reply_content\n",
      "  File \"/opt/venv/lib/python3.8/site-packages/ipykernel/ipkernel.py\", line 383, in do_execute\n",
      "    res = shell.run_cell(\n",
      "  File \"/opt/venv/lib/python3.8/site-packages/ipykernel/zmqshell.py\", line 528, in run_cell\n",
      "    return super().run_cell(*args, **kwargs)\n",
      "  File \"/opt/venv/lib/python3.8/site-packages/IPython/core/interactiveshell.py\", line 2885, in run_cell\n",
      "    result = self._run_cell(\n",
      "  File \"/opt/venv/lib/python3.8/site-packages/IPython/core/interactiveshell.py\", line 2940, in _run_cell\n",
      "    return runner(coro)\n",
      "  File \"/opt/venv/lib/python3.8/site-packages/IPython/core/async_helpers.py\", line 129, in _pseudo_sync_runner\n",
      "    coro.send(None)\n",
      "  File \"/opt/venv/lib/python3.8/site-packages/IPython/core/interactiveshell.py\", line 3139, in run_cell_async\n",
      "    has_raised = await self.run_ast_nodes(code_ast.body, cell_name,\n",
      "  File \"/opt/venv/lib/python3.8/site-packages/IPython/core/interactiveshell.py\", line 3318, in run_ast_nodes\n",
      "    if await self.run_code(code, result, async_=asy):\n",
      "  File \"/opt/venv/lib/python3.8/site-packages/IPython/core/interactiveshell.py\", line 3378, in run_code\n",
      "    exec(code_obj, self.user_global_ns, self.user_ns)\n",
      "  File \"/tmp/ipykernel_3615626/3796376857.py\", line 24, in <module>\n",
      "    bw_paths, bed_paths = export_pseudobulk(\n",
      "  File \"/tmp/ipykernel_3615626/2558041373.py\", line 106, in export_pseudobulk\n",
      "    log.info(\n",
      "Message: 'The following path_to_fragments entry is not found in the cell metadata sample_id_col: '\n",
      "Arguments: ('UCS_ddseq_1.FIXEDCELLS', '. It will be ignored.')\n"
     ]
    },
    {
     "name": "stdout",
     "output_type": "stream",
     "text": [
      "2023-03-06 18:48:25,733 cisTopic     INFO     Reading fragments from ../1_data_repository/fixedcells_fragments/VIB_10xmultiome_2.FIXEDCELLS.fragments.tsv.gz\n"
     ]
    },
    {
     "name": "stderr",
     "output_type": "stream",
     "text": [
      "--- Logging error ---\n",
      "Traceback (most recent call last):\n",
      "  File \"/usr/local/lib/python3.8/logging/__init__.py\", line 1085, in emit\n",
      "    msg = self.format(record)\n",
      "  File \"/usr/local/lib/python3.8/logging/__init__.py\", line 929, in format\n",
      "    return fmt.format(record)\n",
      "  File \"/usr/local/lib/python3.8/logging/__init__.py\", line 668, in format\n",
      "    record.message = record.getMessage()\n",
      "  File \"/usr/local/lib/python3.8/logging/__init__.py\", line 373, in getMessage\n",
      "    msg = msg % self.args\n",
      "TypeError: not all arguments converted during string formatting\n",
      "Call stack:\n",
      "  File \"/opt/venv/bin/ipython\", line 8, in <module>\n",
      "    sys.exit(start_ipython())\n",
      "  File \"/opt/venv/lib/python3.8/site-packages/IPython/__init__.py\", line 124, in start_ipython\n",
      "    return launch_new_instance(argv=argv, **kwargs)\n",
      "  File \"/opt/venv/lib/python3.8/site-packages/traitlets/config/application.py\", line 978, in launch_instance\n",
      "    app.start()\n",
      "  File \"/opt/venv/lib/python3.8/site-packages/IPython/terminal/ipapp.py\", line 314, in start\n",
      "    return self.subapp.start()\n",
      "  File \"/opt/venv/lib/python3.8/site-packages/ipykernel/kernelapp.py\", line 712, in start\n",
      "    self.io_loop.start()\n",
      "  File \"/opt/venv/lib/python3.8/site-packages/tornado/platform/asyncio.py\", line 215, in start\n",
      "    self.asyncio_loop.run_forever()\n",
      "  File \"/usr/local/lib/python3.8/asyncio/base_events.py\", line 570, in run_forever\n",
      "    self._run_once()\n",
      "  File \"/usr/local/lib/python3.8/asyncio/base_events.py\", line 1859, in _run_once\n",
      "    handle._run()\n",
      "  File \"/usr/local/lib/python3.8/asyncio/events.py\", line 81, in _run\n",
      "    self._context.run(self._callback, *self._args)\n",
      "  File \"/opt/venv/lib/python3.8/site-packages/ipykernel/kernelbase.py\", line 510, in dispatch_queue\n",
      "    await self.process_one()\n",
      "  File \"/opt/venv/lib/python3.8/site-packages/ipykernel/kernelbase.py\", line 499, in process_one\n",
      "    await dispatch(*args)\n",
      "  File \"/opt/venv/lib/python3.8/site-packages/ipykernel/kernelbase.py\", line 406, in dispatch_shell\n",
      "    await result\n",
      "  File \"/opt/venv/lib/python3.8/site-packages/ipykernel/kernelbase.py\", line 730, in execute_request\n",
      "    reply_content = await reply_content\n",
      "  File \"/opt/venv/lib/python3.8/site-packages/ipykernel/ipkernel.py\", line 383, in do_execute\n",
      "    res = shell.run_cell(\n",
      "  File \"/opt/venv/lib/python3.8/site-packages/ipykernel/zmqshell.py\", line 528, in run_cell\n",
      "    return super().run_cell(*args, **kwargs)\n",
      "  File \"/opt/venv/lib/python3.8/site-packages/IPython/core/interactiveshell.py\", line 2885, in run_cell\n",
      "    result = self._run_cell(\n",
      "  File \"/opt/venv/lib/python3.8/site-packages/IPython/core/interactiveshell.py\", line 2940, in _run_cell\n",
      "    return runner(coro)\n",
      "  File \"/opt/venv/lib/python3.8/site-packages/IPython/core/async_helpers.py\", line 129, in _pseudo_sync_runner\n",
      "    coro.send(None)\n",
      "  File \"/opt/venv/lib/python3.8/site-packages/IPython/core/interactiveshell.py\", line 3139, in run_cell_async\n",
      "    has_raised = await self.run_ast_nodes(code_ast.body, cell_name,\n",
      "  File \"/opt/venv/lib/python3.8/site-packages/IPython/core/interactiveshell.py\", line 3318, in run_ast_nodes\n",
      "    if await self.run_code(code, result, async_=asy):\n",
      "  File \"/opt/venv/lib/python3.8/site-packages/IPython/core/interactiveshell.py\", line 3378, in run_code\n",
      "    exec(code_obj, self.user_global_ns, self.user_ns)\n",
      "  File \"/tmp/ipykernel_3615626/3796376857.py\", line 24, in <module>\n",
      "    bw_paths, bed_paths = export_pseudobulk(\n",
      "  File \"/tmp/ipykernel_3615626/2558041373.py\", line 106, in export_pseudobulk\n",
      "    log.info(\n",
      "Message: 'The following path_to_fragments entry is not found in the cell metadata sample_id_col: '\n",
      "Arguments: ('TXG_10xv2_2.FIXEDCELLS', '. It will be ignored.')\n"
     ]
    },
    {
     "name": "stdout",
     "output_type": "stream",
     "text": [
      "2023-03-06 18:48:58,743 cisTopic     INFO     Reading fragments from ../1_data_repository/fixedcells_fragments/VIB_10xv2_2.FIXEDCELLS.fragments.tsv.gz\n"
     ]
    },
    {
     "name": "stderr",
     "output_type": "stream",
     "text": [
      "--- Logging error ---\n",
      "Traceback (most recent call last):\n",
      "  File \"/usr/local/lib/python3.8/logging/__init__.py\", line 1085, in emit\n",
      "    msg = self.format(record)\n",
      "  File \"/usr/local/lib/python3.8/logging/__init__.py\", line 929, in format\n",
      "    return fmt.format(record)\n",
      "  File \"/usr/local/lib/python3.8/logging/__init__.py\", line 668, in format\n",
      "    record.message = record.getMessage()\n",
      "  File \"/usr/local/lib/python3.8/logging/__init__.py\", line 373, in getMessage\n",
      "    msg = msg % self.args\n",
      "TypeError: not all arguments converted during string formatting\n",
      "Call stack:\n",
      "  File \"/opt/venv/bin/ipython\", line 8, in <module>\n",
      "    sys.exit(start_ipython())\n",
      "  File \"/opt/venv/lib/python3.8/site-packages/IPython/__init__.py\", line 124, in start_ipython\n",
      "    return launch_new_instance(argv=argv, **kwargs)\n",
      "  File \"/opt/venv/lib/python3.8/site-packages/traitlets/config/application.py\", line 978, in launch_instance\n",
      "    app.start()\n",
      "  File \"/opt/venv/lib/python3.8/site-packages/IPython/terminal/ipapp.py\", line 314, in start\n",
      "    return self.subapp.start()\n",
      "  File \"/opt/venv/lib/python3.8/site-packages/ipykernel/kernelapp.py\", line 712, in start\n",
      "    self.io_loop.start()\n",
      "  File \"/opt/venv/lib/python3.8/site-packages/tornado/platform/asyncio.py\", line 215, in start\n",
      "    self.asyncio_loop.run_forever()\n",
      "  File \"/usr/local/lib/python3.8/asyncio/base_events.py\", line 570, in run_forever\n",
      "    self._run_once()\n",
      "  File \"/usr/local/lib/python3.8/asyncio/base_events.py\", line 1859, in _run_once\n",
      "    handle._run()\n",
      "  File \"/usr/local/lib/python3.8/asyncio/events.py\", line 81, in _run\n",
      "    self._context.run(self._callback, *self._args)\n",
      "  File \"/opt/venv/lib/python3.8/site-packages/ipykernel/kernelbase.py\", line 510, in dispatch_queue\n",
      "    await self.process_one()\n",
      "  File \"/opt/venv/lib/python3.8/site-packages/ipykernel/kernelbase.py\", line 499, in process_one\n",
      "    await dispatch(*args)\n",
      "  File \"/opt/venv/lib/python3.8/site-packages/ipykernel/kernelbase.py\", line 406, in dispatch_shell\n",
      "    await result\n",
      "  File \"/opt/venv/lib/python3.8/site-packages/ipykernel/kernelbase.py\", line 730, in execute_request\n",
      "    reply_content = await reply_content\n",
      "  File \"/opt/venv/lib/python3.8/site-packages/ipykernel/ipkernel.py\", line 383, in do_execute\n",
      "    res = shell.run_cell(\n",
      "  File \"/opt/venv/lib/python3.8/site-packages/ipykernel/zmqshell.py\", line 528, in run_cell\n",
      "    return super().run_cell(*args, **kwargs)\n",
      "  File \"/opt/venv/lib/python3.8/site-packages/IPython/core/interactiveshell.py\", line 2885, in run_cell\n",
      "    result = self._run_cell(\n",
      "  File \"/opt/venv/lib/python3.8/site-packages/IPython/core/interactiveshell.py\", line 2940, in _run_cell\n",
      "    return runner(coro)\n",
      "  File \"/opt/venv/lib/python3.8/site-packages/IPython/core/async_helpers.py\", line 129, in _pseudo_sync_runner\n",
      "    coro.send(None)\n",
      "  File \"/opt/venv/lib/python3.8/site-packages/IPython/core/interactiveshell.py\", line 3139, in run_cell_async\n",
      "    has_raised = await self.run_ast_nodes(code_ast.body, cell_name,\n",
      "  File \"/opt/venv/lib/python3.8/site-packages/IPython/core/interactiveshell.py\", line 3318, in run_ast_nodes\n",
      "    if await self.run_code(code, result, async_=asy):\n",
      "  File \"/opt/venv/lib/python3.8/site-packages/IPython/core/interactiveshell.py\", line 3378, in run_code\n",
      "    exec(code_obj, self.user_global_ns, self.user_ns)\n",
      "  File \"/tmp/ipykernel_3615626/3796376857.py\", line 24, in <module>\n",
      "    bw_paths, bed_paths = export_pseudobulk(\n",
      "  File \"/tmp/ipykernel_3615626/2558041373.py\", line 106, in export_pseudobulk\n",
      "    log.info(\n",
      "Message: 'The following path_to_fragments entry is not found in the cell metadata sample_id_col: '\n",
      "Arguments: ('BIO_ddseq_1.FIXEDCELLS', '. It will be ignored.')\n"
     ]
    },
    {
     "name": "stdout",
     "output_type": "stream",
     "text": [
      "2023-03-06 18:49:54,651 cisTopic     INFO     Reading fragments from ../1_data_repository/fixedcells_fragments/CNA_10xv11_4.FIXEDCELLS.fragments.tsv.gz\n"
     ]
    },
    {
     "name": "stderr",
     "output_type": "stream",
     "text": [
      "--- Logging error ---\n",
      "Traceback (most recent call last):\n",
      "  File \"/usr/local/lib/python3.8/logging/__init__.py\", line 1085, in emit\n",
      "    msg = self.format(record)\n",
      "  File \"/usr/local/lib/python3.8/logging/__init__.py\", line 929, in format\n",
      "    return fmt.format(record)\n",
      "  File \"/usr/local/lib/python3.8/logging/__init__.py\", line 668, in format\n",
      "    record.message = record.getMessage()\n",
      "  File \"/usr/local/lib/python3.8/logging/__init__.py\", line 373, in getMessage\n",
      "    msg = msg % self.args\n",
      "TypeError: not all arguments converted during string formatting\n",
      "Call stack:\n",
      "  File \"/opt/venv/bin/ipython\", line 8, in <module>\n",
      "    sys.exit(start_ipython())\n",
      "  File \"/opt/venv/lib/python3.8/site-packages/IPython/__init__.py\", line 124, in start_ipython\n",
      "    return launch_new_instance(argv=argv, **kwargs)\n",
      "  File \"/opt/venv/lib/python3.8/site-packages/traitlets/config/application.py\", line 978, in launch_instance\n",
      "    app.start()\n",
      "  File \"/opt/venv/lib/python3.8/site-packages/IPython/terminal/ipapp.py\", line 314, in start\n",
      "    return self.subapp.start()\n",
      "  File \"/opt/venv/lib/python3.8/site-packages/ipykernel/kernelapp.py\", line 712, in start\n",
      "    self.io_loop.start()\n",
      "  File \"/opt/venv/lib/python3.8/site-packages/tornado/platform/asyncio.py\", line 215, in start\n",
      "    self.asyncio_loop.run_forever()\n",
      "  File \"/usr/local/lib/python3.8/asyncio/base_events.py\", line 570, in run_forever\n",
      "    self._run_once()\n",
      "  File \"/usr/local/lib/python3.8/asyncio/base_events.py\", line 1859, in _run_once\n",
      "    handle._run()\n",
      "  File \"/usr/local/lib/python3.8/asyncio/events.py\", line 81, in _run\n",
      "    self._context.run(self._callback, *self._args)\n",
      "  File \"/opt/venv/lib/python3.8/site-packages/ipykernel/kernelbase.py\", line 510, in dispatch_queue\n",
      "    await self.process_one()\n",
      "  File \"/opt/venv/lib/python3.8/site-packages/ipykernel/kernelbase.py\", line 499, in process_one\n",
      "    await dispatch(*args)\n",
      "  File \"/opt/venv/lib/python3.8/site-packages/ipykernel/kernelbase.py\", line 406, in dispatch_shell\n",
      "    await result\n",
      "  File \"/opt/venv/lib/python3.8/site-packages/ipykernel/kernelbase.py\", line 730, in execute_request\n",
      "    reply_content = await reply_content\n",
      "  File \"/opt/venv/lib/python3.8/site-packages/ipykernel/ipkernel.py\", line 383, in do_execute\n",
      "    res = shell.run_cell(\n",
      "  File \"/opt/venv/lib/python3.8/site-packages/ipykernel/zmqshell.py\", line 528, in run_cell\n",
      "    return super().run_cell(*args, **kwargs)\n",
      "  File \"/opt/venv/lib/python3.8/site-packages/IPython/core/interactiveshell.py\", line 2885, in run_cell\n",
      "    result = self._run_cell(\n",
      "  File \"/opt/venv/lib/python3.8/site-packages/IPython/core/interactiveshell.py\", line 2940, in _run_cell\n",
      "    return runner(coro)\n",
      "  File \"/opt/venv/lib/python3.8/site-packages/IPython/core/async_helpers.py\", line 129, in _pseudo_sync_runner\n",
      "    coro.send(None)\n",
      "  File \"/opt/venv/lib/python3.8/site-packages/IPython/core/interactiveshell.py\", line 3139, in run_cell_async\n",
      "    has_raised = await self.run_ast_nodes(code_ast.body, cell_name,\n",
      "  File \"/opt/venv/lib/python3.8/site-packages/IPython/core/interactiveshell.py\", line 3318, in run_ast_nodes\n",
      "    if await self.run_code(code, result, async_=asy):\n",
      "  File \"/opt/venv/lib/python3.8/site-packages/IPython/core/interactiveshell.py\", line 3378, in run_code\n",
      "    exec(code_obj, self.user_global_ns, self.user_ns)\n",
      "  File \"/tmp/ipykernel_3615626/3796376857.py\", line 24, in <module>\n",
      "    bw_paths, bed_paths = export_pseudobulk(\n",
      "  File \"/tmp/ipykernel_3615626/2558041373.py\", line 106, in export_pseudobulk\n",
      "    log.info(\n",
      "Message: 'The following path_to_fragments entry is not found in the cell metadata sample_id_col: '\n",
      "Arguments: ('BIO_ddseq_4.FIXEDCELLS', '. It will be ignored.')\n",
      "--- Logging error ---\n",
      "Traceback (most recent call last):\n",
      "  File \"/usr/local/lib/python3.8/logging/__init__.py\", line 1085, in emit\n",
      "    msg = self.format(record)\n",
      "  File \"/usr/local/lib/python3.8/logging/__init__.py\", line 929, in format\n",
      "    return fmt.format(record)\n",
      "  File \"/usr/local/lib/python3.8/logging/__init__.py\", line 668, in format\n",
      "    record.message = record.getMessage()\n",
      "  File \"/usr/local/lib/python3.8/logging/__init__.py\", line 373, in getMessage\n",
      "    msg = msg % self.args\n",
      "TypeError: not all arguments converted during string formatting\n",
      "Call stack:\n",
      "  File \"/opt/venv/bin/ipython\", line 8, in <module>\n",
      "    sys.exit(start_ipython())\n",
      "  File \"/opt/venv/lib/python3.8/site-packages/IPython/__init__.py\", line 124, in start_ipython\n",
      "    return launch_new_instance(argv=argv, **kwargs)\n",
      "  File \"/opt/venv/lib/python3.8/site-packages/traitlets/config/application.py\", line 978, in launch_instance\n",
      "    app.start()\n",
      "  File \"/opt/venv/lib/python3.8/site-packages/IPython/terminal/ipapp.py\", line 314, in start\n",
      "    return self.subapp.start()\n",
      "  File \"/opt/venv/lib/python3.8/site-packages/ipykernel/kernelapp.py\", line 712, in start\n",
      "    self.io_loop.start()\n",
      "  File \"/opt/venv/lib/python3.8/site-packages/tornado/platform/asyncio.py\", line 215, in start\n",
      "    self.asyncio_loop.run_forever()\n",
      "  File \"/usr/local/lib/python3.8/asyncio/base_events.py\", line 570, in run_forever\n",
      "    self._run_once()\n",
      "  File \"/usr/local/lib/python3.8/asyncio/base_events.py\", line 1859, in _run_once\n",
      "    handle._run()\n",
      "  File \"/usr/local/lib/python3.8/asyncio/events.py\", line 81, in _run\n",
      "    self._context.run(self._callback, *self._args)\n",
      "  File \"/opt/venv/lib/python3.8/site-packages/ipykernel/kernelbase.py\", line 510, in dispatch_queue\n",
      "    await self.process_one()\n",
      "  File \"/opt/venv/lib/python3.8/site-packages/ipykernel/kernelbase.py\", line 499, in process_one\n",
      "    await dispatch(*args)\n",
      "  File \"/opt/venv/lib/python3.8/site-packages/ipykernel/kernelbase.py\", line 406, in dispatch_shell\n",
      "    await result\n",
      "  File \"/opt/venv/lib/python3.8/site-packages/ipykernel/kernelbase.py\", line 730, in execute_request\n",
      "    reply_content = await reply_content\n",
      "  File \"/opt/venv/lib/python3.8/site-packages/ipykernel/ipkernel.py\", line 383, in do_execute\n",
      "    res = shell.run_cell(\n",
      "  File \"/opt/venv/lib/python3.8/site-packages/ipykernel/zmqshell.py\", line 528, in run_cell\n",
      "    return super().run_cell(*args, **kwargs)\n",
      "  File \"/opt/venv/lib/python3.8/site-packages/IPython/core/interactiveshell.py\", line 2885, in run_cell\n",
      "    result = self._run_cell(\n",
      "  File \"/opt/venv/lib/python3.8/site-packages/IPython/core/interactiveshell.py\", line 2940, in _run_cell\n",
      "    return runner(coro)\n",
      "  File \"/opt/venv/lib/python3.8/site-packages/IPython/core/async_helpers.py\", line 129, in _pseudo_sync_runner\n",
      "    coro.send(None)\n",
      "  File \"/opt/venv/lib/python3.8/site-packages/IPython/core/interactiveshell.py\", line 3139, in run_cell_async\n",
      "    has_raised = await self.run_ast_nodes(code_ast.body, cell_name,\n",
      "  File \"/opt/venv/lib/python3.8/site-packages/IPython/core/interactiveshell.py\", line 3318, in run_ast_nodes\n",
      "    if await self.run_code(code, result, async_=asy):\n",
      "  File \"/opt/venv/lib/python3.8/site-packages/IPython/core/interactiveshell.py\", line 3378, in run_code\n",
      "    exec(code_obj, self.user_global_ns, self.user_ns)\n",
      "  File \"/tmp/ipykernel_3615626/3796376857.py\", line 24, in <module>\n",
      "    bw_paths, bed_paths = export_pseudobulk(\n",
      "  File \"/tmp/ipykernel_3615626/2558041373.py\", line 106, in export_pseudobulk\n",
      "    log.info(\n",
      "Message: 'The following path_to_fragments entry is not found in the cell metadata sample_id_col: '\n",
      "Arguments: ('BIO_ddseq_3.FIXEDCELLS', '. It will be ignored.')\n"
     ]
    },
    {
     "name": "stdout",
     "output_type": "stream",
     "text": [
      "2023-03-06 18:50:08,702 cisTopic     INFO     Reading fragments from ../1_data_repository/fixedcells_fragments/MDC_mtscatac_2.FIXEDCELLS.fragments.tsv.gz\n",
      "2023-03-06 18:51:37,740 cisTopic     INFO     Reading fragments from ../1_data_repository/fixedcells_fragments/CNA_hydrop_3.FIXEDCELLS.fragments.tsv.gz\n",
      "2023-03-06 18:52:03,568 cisTopic     INFO     Reading fragments from ../1_data_repository/fixedcells_fragments/BRO_mtscatac_2.FIXEDCELLS.fragments.tsv.gz\n",
      "2023-03-06 18:52:52,693 cisTopic     INFO     Reading fragments from ../1_data_repository/fixedcells_fragments/BRO_mtscatac_1.FIXEDCELLS.fragments.tsv.gz\n",
      "2023-03-06 18:53:45,833 cisTopic     INFO     Reading fragments from ../1_data_repository/fixedcells_fragments/CNA_10xmultiome_1.FIXEDCELLS.fragments.tsv.gz\n",
      "2023-03-06 18:54:39,103 cisTopic     INFO     Reading fragments from ../1_data_repository/fixedcells_fragments/VIB_10xv1_2.FIXEDCELLS.fragments.tsv.gz\n",
      "2023-03-06 18:57:48,158 cisTopic     INFO     Reading fragments from ../1_data_repository/fixedcells_fragments/CNA_10xv11_3.FIXEDCELLS.fragments.tsv.gz\n",
      "2023-03-06 18:59:09,948 cisTopic     INFO     Reading fragments from ../1_data_repository/fixedcells_fragments/VIB_10xv1_1.FIXEDCELLS.fragments.tsv.gz\n",
      "2023-03-06 19:00:08,929 cisTopic     INFO     Reading fragments from ../1_data_repository/fixedcells_fragments/EPF_hydrop_4.FIXEDCELLS.fragments.tsv.gz\n",
      "2023-03-06 19:00:36,073 cisTopic     INFO     Reading fragments from ../1_data_repository/fixedcells_fragments/EPF_hydrop_1.FIXEDCELLS.fragments.tsv.gz\n",
      "2023-03-06 19:01:02,477 cisTopic     INFO     Reading fragments from ../1_data_repository/fixedcells_fragments/CNA_10xv11_1.FIXEDCELLS.fragments.tsv.gz\n",
      "2023-03-06 19:01:45,122 cisTopic     INFO     Reading fragments from ../1_data_repository/fixedcells_fragments/CNA_mtscatac_1.FIXEDCELLS.fragments.tsv.gz\n",
      "2023-03-06 19:02:34,760 cisTopic     INFO     Reading fragments from ../1_data_repository/fixedcells_fragments/CNA_hydrop_1.FIXEDCELLS.fragments.tsv.gz\n"
     ]
    },
    {
     "name": "stderr",
     "output_type": "stream",
     "text": [
      "--- Logging error ---\n",
      "Traceback (most recent call last):\n",
      "  File \"/usr/local/lib/python3.8/logging/__init__.py\", line 1085, in emit\n",
      "    msg = self.format(record)\n",
      "  File \"/usr/local/lib/python3.8/logging/__init__.py\", line 929, in format\n",
      "    return fmt.format(record)\n",
      "  File \"/usr/local/lib/python3.8/logging/__init__.py\", line 668, in format\n",
      "    record.message = record.getMessage()\n",
      "  File \"/usr/local/lib/python3.8/logging/__init__.py\", line 373, in getMessage\n",
      "    msg = msg % self.args\n",
      "TypeError: not all arguments converted during string formatting\n",
      "Call stack:\n",
      "  File \"/opt/venv/bin/ipython\", line 8, in <module>\n",
      "    sys.exit(start_ipython())\n",
      "  File \"/opt/venv/lib/python3.8/site-packages/IPython/__init__.py\", line 124, in start_ipython\n",
      "    return launch_new_instance(argv=argv, **kwargs)\n",
      "  File \"/opt/venv/lib/python3.8/site-packages/traitlets/config/application.py\", line 978, in launch_instance\n",
      "    app.start()\n",
      "  File \"/opt/venv/lib/python3.8/site-packages/IPython/terminal/ipapp.py\", line 314, in start\n",
      "    return self.subapp.start()\n",
      "  File \"/opt/venv/lib/python3.8/site-packages/ipykernel/kernelapp.py\", line 712, in start\n",
      "    self.io_loop.start()\n",
      "  File \"/opt/venv/lib/python3.8/site-packages/tornado/platform/asyncio.py\", line 215, in start\n",
      "    self.asyncio_loop.run_forever()\n",
      "  File \"/usr/local/lib/python3.8/asyncio/base_events.py\", line 570, in run_forever\n",
      "    self._run_once()\n",
      "  File \"/usr/local/lib/python3.8/asyncio/base_events.py\", line 1859, in _run_once\n",
      "    handle._run()\n",
      "  File \"/usr/local/lib/python3.8/asyncio/events.py\", line 81, in _run\n",
      "    self._context.run(self._callback, *self._args)\n",
      "  File \"/opt/venv/lib/python3.8/site-packages/ipykernel/kernelbase.py\", line 510, in dispatch_queue\n",
      "    await self.process_one()\n",
      "  File \"/opt/venv/lib/python3.8/site-packages/ipykernel/kernelbase.py\", line 499, in process_one\n",
      "    await dispatch(*args)\n",
      "  File \"/opt/venv/lib/python3.8/site-packages/ipykernel/kernelbase.py\", line 406, in dispatch_shell\n",
      "    await result\n",
      "  File \"/opt/venv/lib/python3.8/site-packages/ipykernel/kernelbase.py\", line 730, in execute_request\n",
      "    reply_content = await reply_content\n",
      "  File \"/opt/venv/lib/python3.8/site-packages/ipykernel/ipkernel.py\", line 383, in do_execute\n",
      "    res = shell.run_cell(\n",
      "  File \"/opt/venv/lib/python3.8/site-packages/ipykernel/zmqshell.py\", line 528, in run_cell\n",
      "    return super().run_cell(*args, **kwargs)\n",
      "  File \"/opt/venv/lib/python3.8/site-packages/IPython/core/interactiveshell.py\", line 2885, in run_cell\n",
      "    result = self._run_cell(\n",
      "  File \"/opt/venv/lib/python3.8/site-packages/IPython/core/interactiveshell.py\", line 2940, in _run_cell\n",
      "    return runner(coro)\n",
      "  File \"/opt/venv/lib/python3.8/site-packages/IPython/core/async_helpers.py\", line 129, in _pseudo_sync_runner\n",
      "    coro.send(None)\n",
      "  File \"/opt/venv/lib/python3.8/site-packages/IPython/core/interactiveshell.py\", line 3139, in run_cell_async\n",
      "    has_raised = await self.run_ast_nodes(code_ast.body, cell_name,\n",
      "  File \"/opt/venv/lib/python3.8/site-packages/IPython/core/interactiveshell.py\", line 3318, in run_ast_nodes\n",
      "    if await self.run_code(code, result, async_=asy):\n",
      "  File \"/opt/venv/lib/python3.8/site-packages/IPython/core/interactiveshell.py\", line 3378, in run_code\n",
      "    exec(code_obj, self.user_global_ns, self.user_ns)\n",
      "  File \"/tmp/ipykernel_3615626/3796376857.py\", line 24, in <module>\n",
      "    bw_paths, bed_paths = export_pseudobulk(\n",
      "  File \"/tmp/ipykernel_3615626/2558041373.py\", line 106, in export_pseudobulk\n",
      "    log.info(\n",
      "Message: 'The following path_to_fragments entry is not found in the cell metadata sample_id_col: '\n",
      "Arguments: ('BIO_ddseq_2.FIXEDCELLS', '. It will be ignored.')\n"
     ]
    },
    {
     "name": "stdout",
     "output_type": "stream",
     "text": [
      "2023-03-06 19:03:00,273 cisTopic     INFO     Reading fragments from ../1_data_repository/fixedcells_fragments/CNA_mtscatac_2.FIXEDCELLS.fragments.tsv.gz\n",
      "2023-03-06 19:03:22,911 cisTopic     INFO     Reading fragments from ../1_data_repository/fixedcells_fragments/SAN_10xmultiome_1.FIXEDCELLS.fragments.tsv.gz\n"
     ]
    },
    {
     "name": "stderr",
     "output_type": "stream",
     "text": [
      "--- Logging error ---\n",
      "Traceback (most recent call last):\n",
      "  File \"/usr/local/lib/python3.8/logging/__init__.py\", line 1085, in emit\n",
      "    msg = self.format(record)\n",
      "  File \"/usr/local/lib/python3.8/logging/__init__.py\", line 929, in format\n",
      "    return fmt.format(record)\n",
      "  File \"/usr/local/lib/python3.8/logging/__init__.py\", line 668, in format\n",
      "    record.message = record.getMessage()\n",
      "  File \"/usr/local/lib/python3.8/logging/__init__.py\", line 373, in getMessage\n",
      "    msg = msg % self.args\n",
      "TypeError: not all arguments converted during string formatting\n",
      "Call stack:\n",
      "  File \"/opt/venv/bin/ipython\", line 8, in <module>\n",
      "    sys.exit(start_ipython())\n",
      "  File \"/opt/venv/lib/python3.8/site-packages/IPython/__init__.py\", line 124, in start_ipython\n",
      "    return launch_new_instance(argv=argv, **kwargs)\n",
      "  File \"/opt/venv/lib/python3.8/site-packages/traitlets/config/application.py\", line 978, in launch_instance\n",
      "    app.start()\n",
      "  File \"/opt/venv/lib/python3.8/site-packages/IPython/terminal/ipapp.py\", line 314, in start\n",
      "    return self.subapp.start()\n",
      "  File \"/opt/venv/lib/python3.8/site-packages/ipykernel/kernelapp.py\", line 712, in start\n",
      "    self.io_loop.start()\n",
      "  File \"/opt/venv/lib/python3.8/site-packages/tornado/platform/asyncio.py\", line 215, in start\n",
      "    self.asyncio_loop.run_forever()\n",
      "  File \"/usr/local/lib/python3.8/asyncio/base_events.py\", line 570, in run_forever\n",
      "    self._run_once()\n",
      "  File \"/usr/local/lib/python3.8/asyncio/base_events.py\", line 1859, in _run_once\n",
      "    handle._run()\n",
      "  File \"/usr/local/lib/python3.8/asyncio/events.py\", line 81, in _run\n",
      "    self._context.run(self._callback, *self._args)\n",
      "  File \"/opt/venv/lib/python3.8/site-packages/ipykernel/kernelbase.py\", line 510, in dispatch_queue\n",
      "    await self.process_one()\n",
      "  File \"/opt/venv/lib/python3.8/site-packages/ipykernel/kernelbase.py\", line 499, in process_one\n",
      "    await dispatch(*args)\n",
      "  File \"/opt/venv/lib/python3.8/site-packages/ipykernel/kernelbase.py\", line 406, in dispatch_shell\n",
      "    await result\n",
      "  File \"/opt/venv/lib/python3.8/site-packages/ipykernel/kernelbase.py\", line 730, in execute_request\n",
      "    reply_content = await reply_content\n",
      "  File \"/opt/venv/lib/python3.8/site-packages/ipykernel/ipkernel.py\", line 383, in do_execute\n",
      "    res = shell.run_cell(\n",
      "  File \"/opt/venv/lib/python3.8/site-packages/ipykernel/zmqshell.py\", line 528, in run_cell\n",
      "    return super().run_cell(*args, **kwargs)\n",
      "  File \"/opt/venv/lib/python3.8/site-packages/IPython/core/interactiveshell.py\", line 2885, in run_cell\n",
      "    result = self._run_cell(\n",
      "  File \"/opt/venv/lib/python3.8/site-packages/IPython/core/interactiveshell.py\", line 2940, in _run_cell\n",
      "    return runner(coro)\n",
      "  File \"/opt/venv/lib/python3.8/site-packages/IPython/core/async_helpers.py\", line 129, in _pseudo_sync_runner\n",
      "    coro.send(None)\n",
      "  File \"/opt/venv/lib/python3.8/site-packages/IPython/core/interactiveshell.py\", line 3139, in run_cell_async\n",
      "    has_raised = await self.run_ast_nodes(code_ast.body, cell_name,\n",
      "  File \"/opt/venv/lib/python3.8/site-packages/IPython/core/interactiveshell.py\", line 3318, in run_ast_nodes\n",
      "    if await self.run_code(code, result, async_=asy):\n",
      "  File \"/opt/venv/lib/python3.8/site-packages/IPython/core/interactiveshell.py\", line 3378, in run_code\n",
      "    exec(code_obj, self.user_global_ns, self.user_ns)\n",
      "  File \"/tmp/ipykernel_3615626/3796376857.py\", line 24, in <module>\n",
      "    bw_paths, bed_paths = export_pseudobulk(\n",
      "  File \"/tmp/ipykernel_3615626/2558041373.py\", line 106, in export_pseudobulk\n",
      "    log.info(\n",
      "Message: 'The following path_to_fragments entry is not found in the cell metadata sample_id_col: '\n",
      "Arguments: ('TXG_10xv2_1.FIXEDCELLS', '. It will be ignored.')\n"
     ]
    },
    {
     "name": "stdout",
     "output_type": "stream",
     "text": [
      "2023-03-06 19:04:43,260 cisTopic     INFO     Reading fragments from ../1_data_repository/fixedcells_fragments/HAR_ddseq_2.FIXEDCELLS.fragments.tsv.gz\n",
      "2023-03-06 19:06:20,938 cisTopic     INFO     Reading fragments from ../1_data_repository/fixedcells_fragments/CNA_10xv2_1.FIXEDCELLS.fragments.tsv.gz\n",
      "2023-03-06 19:07:17,817 cisTopic     INFO     Reading fragments from ../1_data_repository/fixedcells_fragments/EPF_hydrop_2.FIXEDCELLS.fragments.tsv.gz\n",
      "2023-03-06 19:07:43,511 cisTopic     INFO     Reading fragments from ../1_data_repository/fixedcells_fragments/MDC_mtscatac_1.FIXEDCELLS.fragments.tsv.gz\n"
     ]
    },
    {
     "name": "stderr",
     "output_type": "stream",
     "text": [
      "2023-03-06 19:10:05,710\tINFO worker.py:1509 -- Started a local Ray instance. View the dashboard at \u001b[1m\u001b[32mhttp://127.0.0.1:8265 \u001b[39m\u001b[22m\n"
     ]
    },
    {
     "name": "stdout",
     "output_type": "stream",
     "text": [
      "\u001b[2m\u001b[36m(export_pseudobulk_ray pid=3625796)\u001b[0m 2023-03-06 19:10:25,016 cisTopic     INFO     Creating pseudobulk for 10xmultiome_sampleA_Bcell\n"
     ]
    },
    {
     "name": "stderr",
     "output_type": "stream",
     "text": [
      "\u001b[2m\u001b[36m(export_pseudobulk_ray pid=3625796)\u001b[0m /tmp/ipykernel_3615626/2558041373.py:272: FutureWarning: The frame.append method is deprecated and will be removed from pandas in a future version. Use pandas.concat instead.\n"
     ]
    },
    {
     "name": "stdout",
     "output_type": "stream",
     "text": [
      "\u001b[2m\u001b[36m(export_pseudobulk_ray pid=3625762)\u001b[0m 2023-03-06 19:10:37,597 cisTopic     INFO     Creating pseudobulk for 10xmultiome_sampleA_CD14_monocyte\n"
     ]
    },
    {
     "name": "stderr",
     "output_type": "stream",
     "text": [
      "\u001b[2m\u001b[36m(export_pseudobulk_ray pid=3625762)\u001b[0m /tmp/ipykernel_3615626/2558041373.py:272: FutureWarning: The frame.append method is deprecated and will be removed from pandas in a future version. Use pandas.concat instead.\n"
     ]
    },
    {
     "name": "stdout",
     "output_type": "stream",
     "text": [
      "\u001b[2m\u001b[36m(export_pseudobulk_ray pid=3625800)\u001b[0m 2023-03-06 19:10:48,954 cisTopic     INFO     Creating pseudobulk for 10xmultiome_sampleA_CD16_monocyte\n"
     ]
    },
    {
     "name": "stderr",
     "output_type": "stream",
     "text": [
      "\u001b[2m\u001b[36m(export_pseudobulk_ray pid=3625800)\u001b[0m /tmp/ipykernel_3615626/2558041373.py:272: FutureWarning: The frame.append method is deprecated and will be removed from pandas in a future version. Use pandas.concat instead.\n"
     ]
    },
    {
     "name": "stdout",
     "output_type": "stream",
     "text": [
      "\u001b[2m\u001b[36m(export_pseudobulk_ray pid=3625804)\u001b[0m 2023-03-06 19:11:00,373 cisTopic     INFO     Creating pseudobulk for 10xmultiome_sampleA_CD4_Tcell\n",
      "\u001b[2m\u001b[36m(export_pseudobulk_ray pid=3625800)\u001b[0m 2023-03-06 19:11:07,734 cisTopic     INFO     10xmultiome_sampleA_CD16_monocyte done!\n"
     ]
    },
    {
     "name": "stderr",
     "output_type": "stream",
     "text": [
      "\u001b[2m\u001b[36m(export_pseudobulk_ray pid=3625804)\u001b[0m /tmp/ipykernel_3615626/2558041373.py:272: FutureWarning: The frame.append method is deprecated and will be removed from pandas in a future version. Use pandas.concat instead.\n"
     ]
    },
    {
     "name": "stdout",
     "output_type": "stream",
     "text": [
      "\u001b[2m\u001b[36m(export_pseudobulk_ray pid=3625800)\u001b[0m 2023-03-06 19:11:11,163 cisTopic     INFO     Creating pseudobulk for 10xmultiome_sampleA_CytotoxicTcell\n"
     ]
    },
    {
     "name": "stderr",
     "output_type": "stream",
     "text": [
      "\u001b[2m\u001b[36m(export_pseudobulk_ray pid=3625800)\u001b[0m /tmp/ipykernel_3615626/2558041373.py:272: FutureWarning: The frame.append method is deprecated and will be removed from pandas in a future version. Use pandas.concat instead.\n"
     ]
    },
    {
     "name": "stdout",
     "output_type": "stream",
     "text": [
      "\u001b[2m\u001b[36m(export_pseudobulk_ray pid=3625797)\u001b[0m 2023-03-06 19:11:24,500 cisTopic     INFO     Creating pseudobulk for 10xmultiome_sampleA_Dendriticcell\n",
      "\u001b[2m\u001b[36m(export_pseudobulk_ray pid=3625796)\u001b[0m 2023-03-06 19:11:30,707 cisTopic     INFO     10xmultiome_sampleA_Bcell done!\n"
     ]
    },
    {
     "name": "stderr",
     "output_type": "stream",
     "text": [
      "\u001b[2m\u001b[36m(export_pseudobulk_ray pid=3625797)\u001b[0m /tmp/ipykernel_3615626/2558041373.py:272: FutureWarning: The frame.append method is deprecated and will be removed from pandas in a future version. Use pandas.concat instead.\n"
     ]
    },
    {
     "name": "stdout",
     "output_type": "stream",
     "text": [
      "\u001b[2m\u001b[36m(export_pseudobulk_ray pid=3625796)\u001b[0m 2023-03-06 19:11:35,838 cisTopic     INFO     Creating pseudobulk for 10xmultiome_sampleA_Naturalkillercell\n"
     ]
    },
    {
     "name": "stderr",
     "output_type": "stream",
     "text": [
      "\u001b[2m\u001b[36m(export_pseudobulk_ray pid=3625796)\u001b[0m /tmp/ipykernel_3615626/2558041373.py:272: FutureWarning: The frame.append method is deprecated and will be removed from pandas in a future version. Use pandas.concat instead.\n"
     ]
    },
    {
     "name": "stdout",
     "output_type": "stream",
     "text": [
      "\u001b[2m\u001b[36m(export_pseudobulk_ray pid=3625797)\u001b[0m 2023-03-06 19:11:46,881 cisTopic     INFO     10xmultiome_sampleA_Dendriticcell done!\n",
      "\u001b[2m\u001b[36m(export_pseudobulk_ray pid=3625780)\u001b[0m 2023-03-06 19:11:48,882 cisTopic     INFO     Creating pseudobulk for 10xmultiome_sampleB_Bcell\n"
     ]
    },
    {
     "name": "stderr",
     "output_type": "stream",
     "text": [
      "\u001b[2m\u001b[36m(export_pseudobulk_ray pid=3625780)\u001b[0m /tmp/ipykernel_3615626/2558041373.py:272: FutureWarning: The frame.append method is deprecated and will be removed from pandas in a future version. Use pandas.concat instead.\n"
     ]
    },
    {
     "name": "stdout",
     "output_type": "stream",
     "text": [
      "\u001b[2m\u001b[36m(export_pseudobulk_ray pid=3625797)\u001b[0m 2023-03-06 19:12:00,803 cisTopic     INFO     Creating pseudobulk for 10xmultiome_sampleB_CD14_monocyte\n"
     ]
    },
    {
     "name": "stderr",
     "output_type": "stream",
     "text": [
      "\u001b[2m\u001b[36m(export_pseudobulk_ray pid=3625797)\u001b[0m /tmp/ipykernel_3615626/2558041373.py:272: FutureWarning: The frame.append method is deprecated and will be removed from pandas in a future version. Use pandas.concat instead.\n"
     ]
    },
    {
     "name": "stdout",
     "output_type": "stream",
     "text": [
      "\u001b[2m\u001b[36m(export_pseudobulk_ray pid=3625786)\u001b[0m 2023-03-06 19:12:15,024 cisTopic     INFO     Creating pseudobulk for 10xmultiome_sampleB_CD16_monocyte\n"
     ]
    },
    {
     "name": "stderr",
     "output_type": "stream",
     "text": [
      "\u001b[2m\u001b[36m(raylet)\u001b[0m Spilled 17811 MiB, 2 objects, write throughput 830 MiB/s. Set RAY_verbose_spill_logs=0 to disable this message.\n"
     ]
    },
    {
     "name": "stdout",
     "output_type": "stream",
     "text": [
      "\u001b[2m\u001b[36m(export_pseudobulk_ray pid=3625796)\u001b[0m 2023-03-06 19:12:19,630 cisTopic     INFO     10xmultiome_sampleA_Naturalkillercell done!\n"
     ]
    },
    {
     "name": "stderr",
     "output_type": "stream",
     "text": [
      "\u001b[2m\u001b[36m(export_pseudobulk_ray pid=3625786)\u001b[0m /tmp/ipykernel_3615626/2558041373.py:272: FutureWarning: The frame.append method is deprecated and will be removed from pandas in a future version. Use pandas.concat instead.\n",
      "\u001b[2m\u001b[36m(raylet)\u001b[0m Spilled 35623 MiB, 4 objects, write throughput 1045 MiB/s.\n"
     ]
    },
    {
     "name": "stdout",
     "output_type": "stream",
     "text": [
      "\u001b[2m\u001b[36m(export_pseudobulk_ray pid=3625786)\u001b[0m 2023-03-06 19:12:34,511 cisTopic     INFO     10xmultiome_sampleB_CD16_monocyte done!\n",
      "\u001b[2m\u001b[36m(export_pseudobulk_ray pid=3625780)\u001b[0m 2023-03-06 19:13:02,002 cisTopic     INFO     10xmultiome_sampleB_Bcell done!\n",
      "\u001b[2m\u001b[36m(export_pseudobulk_ray pid=3625762)\u001b[0m 2023-03-06 19:13:09,026 cisTopic     INFO     10xmultiome_sampleA_CD14_monocyte done!\n",
      "\u001b[2m\u001b[36m(export_pseudobulk_ray pid=3625800)\u001b[0m 2023-03-06 19:13:23,684 cisTopic     INFO     10xmultiome_sampleA_CytotoxicTcell done!\n",
      "\u001b[2m\u001b[36m(export_pseudobulk_ray pid=3625804)\u001b[0m 2023-03-06 19:14:02,991 cisTopic     INFO     10xmultiome_sampleA_CD4_Tcell done!\n",
      "\u001b[2m\u001b[36m(export_pseudobulk_ray pid=3625804)\u001b[0m 2023-03-06 19:14:45,860 cisTopic     INFO     Creating pseudobulk for 10xmultiome_sampleB_CD4_Tcell\n",
      "\u001b[2m\u001b[36m(export_pseudobulk_ray pid=3625797)\u001b[0m 2023-03-06 19:14:46,256 cisTopic     INFO     10xmultiome_sampleB_CD14_monocyte done!\n"
     ]
    },
    {
     "name": "stderr",
     "output_type": "stream",
     "text": [
      "\u001b[2m\u001b[36m(export_pseudobulk_ray pid=3625804)\u001b[0m /tmp/ipykernel_3615626/2558041373.py:272: FutureWarning: The frame.append method is deprecated and will be removed from pandas in a future version. Use pandas.concat instead.\n",
      "\u001b[2m\u001b[36m(raylet)\u001b[0m Spilled 53434 MiB, 6 objects, write throughput 915 MiB/s.\n"
     ]
    },
    {
     "name": "stdout",
     "output_type": "stream",
     "text": [
      "\u001b[2m\u001b[36m(export_pseudobulk_ray pid=3625797)\u001b[0m 2023-03-06 19:17:20,726 cisTopic     INFO     Creating pseudobulk for 10xmultiome_sampleB_CytotoxicTcell\n"
     ]
    },
    {
     "name": "stderr",
     "output_type": "stream",
     "text": [
      "\u001b[2m\u001b[36m(export_pseudobulk_ray pid=3625797)\u001b[0m /tmp/ipykernel_3615626/2558041373.py:272: FutureWarning: The frame.append method is deprecated and will be removed from pandas in a future version. Use pandas.concat instead.\n",
      "\u001b[2m\u001b[36m(raylet)\u001b[0m Spilled 71246 MiB, 8 objects, write throughput 855 MiB/s.\n"
     ]
    },
    {
     "name": "stdout",
     "output_type": "stream",
     "text": [
      "\u001b[2m\u001b[36m(export_pseudobulk_ray pid=3625804)\u001b[0m 2023-03-06 19:18:02,449 cisTopic     INFO     10xmultiome_sampleB_CD4_Tcell done!\n",
      "\u001b[2m\u001b[36m(export_pseudobulk_ray pid=3625804)\u001b[0m 2023-03-06 19:19:58,429 cisTopic     INFO     Creating pseudobulk for 10xmultiome_sampleB_Dendriticcell\n"
     ]
    },
    {
     "name": "stderr",
     "output_type": "stream",
     "text": [
      "\u001b[2m\u001b[36m(export_pseudobulk_ray pid=3625804)\u001b[0m /tmp/ipykernel_3615626/2558041373.py:272: FutureWarning: The frame.append method is deprecated and will be removed from pandas in a future version. Use pandas.concat instead.\n",
      "\u001b[2m\u001b[36m(raylet)\u001b[0m Spilled 89058 MiB, 10 objects, write throughput 825 MiB/s.\n"
     ]
    },
    {
     "name": "stdout",
     "output_type": "stream",
     "text": [
      "\u001b[2m\u001b[36m(export_pseudobulk_ray pid=3625804)\u001b[0m 2023-03-06 19:20:23,336 cisTopic     INFO     10xmultiome_sampleB_Dendriticcell done!\n",
      "\u001b[2m\u001b[36m(export_pseudobulk_ray pid=3625797)\u001b[0m 2023-03-06 19:21:01,421 cisTopic     INFO     10xmultiome_sampleB_CytotoxicTcell done!\n",
      "\u001b[2m\u001b[36m(export_pseudobulk_ray pid=3625797)\u001b[0m 2023-03-06 19:22:30,294 cisTopic     INFO     Creating pseudobulk for 10xmultiome_sampleB_Naturalkillercell\n"
     ]
    },
    {
     "name": "stderr",
     "output_type": "stream",
     "text": [
      "\u001b[2m\u001b[36m(export_pseudobulk_ray pid=3625797)\u001b[0m /tmp/ipykernel_3615626/2558041373.py:272: FutureWarning: The frame.append method is deprecated and will be removed from pandas in a future version. Use pandas.concat instead.\n",
      "\u001b[2m\u001b[36m(raylet)\u001b[0m Spilled 106869 MiB, 12 objects, write throughput 810 MiB/s.\n"
     ]
    },
    {
     "name": "stdout",
     "output_type": "stream",
     "text": [
      "\u001b[2m\u001b[36m(export_pseudobulk_ray pid=3625797)\u001b[0m 2023-03-06 19:23:13,243 cisTopic     INFO     10xmultiome_sampleB_Naturalkillercell done!\n",
      "\u001b[2m\u001b[36m(export_pseudobulk_ray pid=3625797)\u001b[0m 2023-03-06 19:25:05,913 cisTopic     INFO     Creating pseudobulk for 10xv11_sampleA_Bcell\n"
     ]
    },
    {
     "name": "stderr",
     "output_type": "stream",
     "text": [
      "\u001b[2m\u001b[36m(export_pseudobulk_ray pid=3625797)\u001b[0m /tmp/ipykernel_3615626/2558041373.py:272: FutureWarning: The frame.append method is deprecated and will be removed from pandas in a future version. Use pandas.concat instead.\n"
     ]
    },
    {
     "name": "stdout",
     "output_type": "stream",
     "text": [
      "\u001b[2m\u001b[36m(export_pseudobulk_ray pid=3625797)\u001b[0m 2023-03-06 19:26:19,242 cisTopic     INFO     10xv11_sampleA_Bcell done!\n",
      "\u001b[2m\u001b[36m(export_pseudobulk_ray pid=3625797)\u001b[0m 2023-03-06 19:27:38,515 cisTopic     INFO     Creating pseudobulk for 10xv11_sampleA_CD14_monocyte\n"
     ]
    },
    {
     "name": "stderr",
     "output_type": "stream",
     "text": [
      "\u001b[2m\u001b[36m(export_pseudobulk_ray pid=3625797)\u001b[0m /tmp/ipykernel_3615626/2558041373.py:272: FutureWarning: The frame.append method is deprecated and will be removed from pandas in a future version. Use pandas.concat instead.\n",
      "\u001b[2m\u001b[36m(raylet)\u001b[0m Spilled 142493 MiB, 16 objects, write throughput 790 MiB/s.\n"
     ]
    },
    {
     "name": "stdout",
     "output_type": "stream",
     "text": [
      "\u001b[2m\u001b[36m(export_pseudobulk_ray pid=3625797)\u001b[0m 2023-03-06 19:29:53,470 cisTopic     INFO     10xv11_sampleA_CD14_monocyte done!\n",
      "\u001b[2m\u001b[36m(export_pseudobulk_ray pid=3625797)\u001b[0m 2023-03-06 19:30:15,977 cisTopic     INFO     Creating pseudobulk for 10xv11_sampleA_CD16_monocyte\n"
     ]
    },
    {
     "name": "stderr",
     "output_type": "stream",
     "text": [
      "\u001b[2m\u001b[36m(export_pseudobulk_ray pid=3625797)\u001b[0m /tmp/ipykernel_3615626/2558041373.py:272: FutureWarning: The frame.append method is deprecated and will be removed from pandas in a future version. Use pandas.concat instead.\n"
     ]
    },
    {
     "name": "stdout",
     "output_type": "stream",
     "text": [
      "\u001b[2m\u001b[36m(export_pseudobulk_ray pid=3625797)\u001b[0m 2023-03-06 19:30:36,575 cisTopic     INFO     10xv11_sampleA_CD16_monocyte done!\n",
      "\u001b[2m\u001b[36m(export_pseudobulk_ray pid=3625797)\u001b[0m 2023-03-06 19:32:51,329 cisTopic     INFO     Creating pseudobulk for 10xv11_sampleA_CD4_Tcell\n"
     ]
    },
    {
     "name": "stderr",
     "output_type": "stream",
     "text": [
      "\u001b[2m\u001b[36m(export_pseudobulk_ray pid=3625797)\u001b[0m /tmp/ipykernel_3615626/2558041373.py:272: FutureWarning: The frame.append method is deprecated and will be removed from pandas in a future version. Use pandas.concat instead.\n"
     ]
    },
    {
     "name": "stdout",
     "output_type": "stream",
     "text": [
      "\u001b[2m\u001b[36m(export_pseudobulk_ray pid=3625804)\u001b[0m 2023-03-06 19:35:26,903 cisTopic     INFO     Creating pseudobulk for 10xv11_sampleA_CytotoxicTcell\n"
     ]
    },
    {
     "name": "stderr",
     "output_type": "stream",
     "text": [
      "\u001b[2m\u001b[36m(export_pseudobulk_ray pid=3625804)\u001b[0m /tmp/ipykernel_3615626/2558041373.py:272: FutureWarning: The frame.append method is deprecated and will be removed from pandas in a future version. Use pandas.concat instead.\n"
     ]
    },
    {
     "name": "stdout",
     "output_type": "stream",
     "text": [
      "\u001b[2m\u001b[36m(export_pseudobulk_ray pid=3625797)\u001b[0m 2023-03-06 19:36:25,031 cisTopic     INFO     10xv11_sampleA_CD4_Tcell done!\n",
      "\u001b[2m\u001b[36m(export_pseudobulk_ray pid=3625804)\u001b[0m 2023-03-06 19:37:39,414 cisTopic     INFO     10xv11_sampleA_CytotoxicTcell done!\n",
      "\u001b[2m\u001b[36m(export_pseudobulk_ray pid=3625804)\u001b[0m 2023-03-06 19:37:59,404 cisTopic     INFO     Creating pseudobulk for 10xv11_sampleA_Dendriticcell\n"
     ]
    },
    {
     "name": "stderr",
     "output_type": "stream",
     "text": [
      "\u001b[2m\u001b[36m(export_pseudobulk_ray pid=3625804)\u001b[0m /tmp/ipykernel_3615626/2558041373.py:272: FutureWarning: The frame.append method is deprecated and will be removed from pandas in a future version. Use pandas.concat instead.\n"
     ]
    },
    {
     "name": "stdout",
     "output_type": "stream",
     "text": [
      "\u001b[2m\u001b[36m(export_pseudobulk_ray pid=3625804)\u001b[0m 2023-03-06 19:38:25,413 cisTopic     INFO     10xv11_sampleA_Dendriticcell done!\n",
      "\u001b[2m\u001b[36m(export_pseudobulk_ray pid=3625804)\u001b[0m 2023-03-06 19:40:35,684 cisTopic     INFO     Creating pseudobulk for 10xv11_sampleA_Naturalkillercell\n"
     ]
    },
    {
     "name": "stderr",
     "output_type": "stream",
     "text": [
      "\u001b[2m\u001b[36m(export_pseudobulk_ray pid=3625804)\u001b[0m /tmp/ipykernel_3615626/2558041373.py:272: FutureWarning: The frame.append method is deprecated and will be removed from pandas in a future version. Use pandas.concat instead.\n"
     ]
    },
    {
     "name": "stdout",
     "output_type": "stream",
     "text": [
      "\u001b[2m\u001b[36m(export_pseudobulk_ray pid=3625804)\u001b[0m 2023-03-06 19:41:17,610 cisTopic     INFO     10xv11_sampleA_Naturalkillercell done!\n",
      "\u001b[2m\u001b[36m(export_pseudobulk_ray pid=3625804)\u001b[0m 2023-03-06 19:43:09,569 cisTopic     INFO     Creating pseudobulk for 10xv11_sampleB_Bcell\n"
     ]
    },
    {
     "name": "stderr",
     "output_type": "stream",
     "text": [
      "\u001b[2m\u001b[36m(export_pseudobulk_ray pid=3625804)\u001b[0m /tmp/ipykernel_3615626/2558041373.py:272: FutureWarning: The frame.append method is deprecated and will be removed from pandas in a future version. Use pandas.concat instead.\n"
     ]
    },
    {
     "name": "stdout",
     "output_type": "stream",
     "text": [
      "\u001b[2m\u001b[36m(export_pseudobulk_ray pid=3625804)\u001b[0m 2023-03-06 19:44:32,688 cisTopic     INFO     10xv11_sampleB_Bcell done!\n",
      "\u001b[2m\u001b[36m(export_pseudobulk_ray pid=3625804)\u001b[0m 2023-03-06 19:45:49,335 cisTopic     INFO     Creating pseudobulk for 10xv11_sampleB_CD14_monocyte\n"
     ]
    },
    {
     "name": "stderr",
     "output_type": "stream",
     "text": [
      "\u001b[2m\u001b[36m(export_pseudobulk_ray pid=3625804)\u001b[0m /tmp/ipykernel_3615626/2558041373.py:272: FutureWarning: The frame.append method is deprecated and will be removed from pandas in a future version. Use pandas.concat instead.\n",
      "\u001b[2m\u001b[36m(raylet)\u001b[0m Spilled 267174 MiB, 30 objects, write throughput 752 MiB/s.\n"
     ]
    },
    {
     "name": "stdout",
     "output_type": "stream",
     "text": [
      "\u001b[2m\u001b[36m(export_pseudobulk_ray pid=3625804)\u001b[0m 2023-03-06 19:48:00,078 cisTopic     INFO     10xv11_sampleB_CD14_monocyte done!\n",
      "\u001b[2m\u001b[36m(export_pseudobulk_ray pid=3625804)\u001b[0m 2023-03-06 19:48:27,952 cisTopic     INFO     Creating pseudobulk for 10xv11_sampleB_CD16_monocyte\n"
     ]
    },
    {
     "name": "stderr",
     "output_type": "stream",
     "text": [
      "\u001b[2m\u001b[36m(export_pseudobulk_ray pid=3625804)\u001b[0m /tmp/ipykernel_3615626/2558041373.py:272: FutureWarning: The frame.append method is deprecated and will be removed from pandas in a future version. Use pandas.concat instead.\n"
     ]
    },
    {
     "name": "stdout",
     "output_type": "stream",
     "text": [
      "\u001b[2m\u001b[36m(export_pseudobulk_ray pid=3625804)\u001b[0m 2023-03-06 19:48:49,143 cisTopic     INFO     10xv11_sampleB_CD16_monocyte done!\n",
      "\u001b[2m\u001b[36m(export_pseudobulk_ray pid=3625804)\u001b[0m 2023-03-06 19:51:04,725 cisTopic     INFO     Creating pseudobulk for 10xv11_sampleB_CD4_Tcell\n"
     ]
    },
    {
     "name": "stderr",
     "output_type": "stream",
     "text": [
      "\u001b[2m\u001b[36m(export_pseudobulk_ray pid=3625804)\u001b[0m /tmp/ipykernel_3615626/2558041373.py:272: FutureWarning: The frame.append method is deprecated and will be removed from pandas in a future version. Use pandas.concat instead.\n"
     ]
    },
    {
     "name": "stdout",
     "output_type": "stream",
     "text": [
      "\u001b[2m\u001b[36m(export_pseudobulk_ray pid=3625797)\u001b[0m 2023-03-06 19:53:42,058 cisTopic     INFO     Creating pseudobulk for 10xv11_sampleB_CytotoxicTcell\n"
     ]
    },
    {
     "name": "stderr",
     "output_type": "stream",
     "text": [
      "\u001b[2m\u001b[36m(export_pseudobulk_ray pid=3625797)\u001b[0m /tmp/ipykernel_3615626/2558041373.py:272: FutureWarning: The frame.append method is deprecated and will be removed from pandas in a future version. Use pandas.concat instead.\n"
     ]
    },
    {
     "name": "stdout",
     "output_type": "stream",
     "text": [
      "\u001b[2m\u001b[36m(export_pseudobulk_ray pid=3625804)\u001b[0m 2023-03-06 19:55:12,506 cisTopic     INFO     10xv11_sampleB_CD4_Tcell done!\n",
      "\u001b[2m\u001b[36m(export_pseudobulk_ray pid=3625804)\u001b[0m 2023-03-06 19:56:16,284 cisTopic     INFO     Creating pseudobulk for 10xv11_sampleB_Dendriticcell\n"
     ]
    },
    {
     "name": "stderr",
     "output_type": "stream",
     "text": [
      "\u001b[2m\u001b[36m(export_pseudobulk_ray pid=3625804)\u001b[0m /tmp/ipykernel_3615626/2558041373.py:272: FutureWarning: The frame.append method is deprecated and will be removed from pandas in a future version. Use pandas.concat instead.\n"
     ]
    },
    {
     "name": "stdout",
     "output_type": "stream",
     "text": [
      "\u001b[2m\u001b[36m(export_pseudobulk_ray pid=3625797)\u001b[0m 2023-03-06 19:56:36,864 cisTopic     INFO     10xv11_sampleB_CytotoxicTcell done!\n",
      "\u001b[2m\u001b[36m(export_pseudobulk_ray pid=3625804)\u001b[0m 2023-03-06 19:56:40,603 cisTopic     INFO     10xv11_sampleB_Dendriticcell done!\n",
      "\u001b[2m\u001b[36m(export_pseudobulk_ray pid=3625804)\u001b[0m 2023-03-06 19:58:50,098 cisTopic     INFO     Creating pseudobulk for 10xv11_sampleB_Naturalkillercell\n"
     ]
    },
    {
     "name": "stderr",
     "output_type": "stream",
     "text": [
      "\u001b[2m\u001b[36m(export_pseudobulk_ray pid=3625804)\u001b[0m /tmp/ipykernel_3615626/2558041373.py:272: FutureWarning: The frame.append method is deprecated and will be removed from pandas in a future version. Use pandas.concat instead.\n"
     ]
    },
    {
     "name": "stdout",
     "output_type": "stream",
     "text": [
      "\u001b[2m\u001b[36m(export_pseudobulk_ray pid=3625804)\u001b[0m 2023-03-06 19:59:42,152 cisTopic     INFO     10xv11_sampleB_Naturalkillercell done!\n",
      "\u001b[2m\u001b[36m(export_pseudobulk_ray pid=3625804)\u001b[0m 2023-03-06 20:01:25,154 cisTopic     INFO     Creating pseudobulk for 10xv1_sampleA_Bcell\n"
     ]
    },
    {
     "name": "stderr",
     "output_type": "stream",
     "text": [
      "\u001b[2m\u001b[36m(export_pseudobulk_ray pid=3625804)\u001b[0m /tmp/ipykernel_3615626/2558041373.py:272: FutureWarning: The frame.append method is deprecated and will be removed from pandas in a future version. Use pandas.concat instead.\n"
     ]
    },
    {
     "name": "stdout",
     "output_type": "stream",
     "text": [
      "\u001b[2m\u001b[36m(export_pseudobulk_ray pid=3625804)\u001b[0m 2023-03-06 20:02:43,969 cisTopic     INFO     10xv1_sampleA_Bcell done!\n",
      "\u001b[2m\u001b[36m(export_pseudobulk_ray pid=3625804)\u001b[0m 2023-03-06 20:03:58,681 cisTopic     INFO     Creating pseudobulk for 10xv1_sampleA_CD14_monocyte\n"
     ]
    },
    {
     "name": "stderr",
     "output_type": "stream",
     "text": [
      "\u001b[2m\u001b[36m(export_pseudobulk_ray pid=3625804)\u001b[0m /tmp/ipykernel_3615626/2558041373.py:272: FutureWarning: The frame.append method is deprecated and will be removed from pandas in a future version. Use pandas.concat instead.\n"
     ]
    },
    {
     "name": "stdout",
     "output_type": "stream",
     "text": [
      "\u001b[2m\u001b[36m(export_pseudobulk_ray pid=3625804)\u001b[0m 2023-03-06 20:06:21,752 cisTopic     INFO     10xv1_sampleA_CD14_monocyte done!\n",
      "\u001b[2m\u001b[36m(export_pseudobulk_ray pid=3625804)\u001b[0m 2023-03-06 20:06:38,094 cisTopic     INFO     Creating pseudobulk for 10xv1_sampleA_CD16_monocyte\n"
     ]
    },
    {
     "name": "stderr",
     "output_type": "stream",
     "text": [
      "\u001b[2m\u001b[36m(export_pseudobulk_ray pid=3625804)\u001b[0m /tmp/ipykernel_3615626/2558041373.py:272: FutureWarning: The frame.append method is deprecated and will be removed from pandas in a future version. Use pandas.concat instead.\n"
     ]
    },
    {
     "name": "stdout",
     "output_type": "stream",
     "text": [
      "\u001b[2m\u001b[36m(export_pseudobulk_ray pid=3625804)\u001b[0m 2023-03-06 20:07:00,752 cisTopic     INFO     10xv1_sampleA_CD16_monocyte done!\n",
      "\u001b[2m\u001b[36m(export_pseudobulk_ray pid=3625804)\u001b[0m 2023-03-06 20:09:20,020 cisTopic     INFO     Creating pseudobulk for 10xv1_sampleA_CD4_Tcell\n"
     ]
    },
    {
     "name": "stderr",
     "output_type": "stream",
     "text": [
      "\u001b[2m\u001b[36m(export_pseudobulk_ray pid=3625804)\u001b[0m /tmp/ipykernel_3615626/2558041373.py:272: FutureWarning: The frame.append method is deprecated and will be removed from pandas in a future version. Use pandas.concat instead.\n"
     ]
    },
    {
     "name": "stdout",
     "output_type": "stream",
     "text": [
      "\u001b[2m\u001b[36m(export_pseudobulk_ray pid=3625797)\u001b[0m 2023-03-06 20:11:55,699 cisTopic     INFO     Creating pseudobulk for 10xv1_sampleA_CytotoxicTcell\n"
     ]
    },
    {
     "name": "stderr",
     "output_type": "stream",
     "text": [
      "\u001b[2m\u001b[36m(export_pseudobulk_ray pid=3625797)\u001b[0m /tmp/ipykernel_3615626/2558041373.py:272: FutureWarning: The frame.append method is deprecated and will be removed from pandas in a future version. Use pandas.concat instead.\n"
     ]
    },
    {
     "name": "stdout",
     "output_type": "stream",
     "text": [
      "\u001b[2m\u001b[36m(export_pseudobulk_ray pid=3625804)\u001b[0m 2023-03-06 20:12:38,320 cisTopic     INFO     10xv1_sampleA_CD4_Tcell done!\n",
      "\u001b[2m\u001b[36m(export_pseudobulk_ray pid=3625797)\u001b[0m 2023-03-06 20:14:09,313 cisTopic     INFO     10xv1_sampleA_CytotoxicTcell done!\n",
      "\u001b[2m\u001b[36m(export_pseudobulk_ray pid=3625797)\u001b[0m 2023-03-06 20:14:28,384 cisTopic     INFO     Creating pseudobulk for 10xv1_sampleA_Dendriticcell\n"
     ]
    },
    {
     "name": "stderr",
     "output_type": "stream",
     "text": [
      "\u001b[2m\u001b[36m(export_pseudobulk_ray pid=3625797)\u001b[0m /tmp/ipykernel_3615626/2558041373.py:272: FutureWarning: The frame.append method is deprecated and will be removed from pandas in a future version. Use pandas.concat instead.\n"
     ]
    },
    {
     "name": "stdout",
     "output_type": "stream",
     "text": [
      "\u001b[2m\u001b[36m(export_pseudobulk_ray pid=3625797)\u001b[0m 2023-03-06 20:14:54,674 cisTopic     INFO     10xv1_sampleA_Dendriticcell done!\n",
      "\u001b[2m\u001b[36m(export_pseudobulk_ray pid=3625797)\u001b[0m 2023-03-06 20:17:07,018 cisTopic     INFO     Creating pseudobulk for 10xv1_sampleA_Naturalkillercell\n"
     ]
    },
    {
     "name": "stderr",
     "output_type": "stream",
     "text": [
      "\u001b[2m\u001b[36m(export_pseudobulk_ray pid=3625797)\u001b[0m /tmp/ipykernel_3615626/2558041373.py:272: FutureWarning: The frame.append method is deprecated and will be removed from pandas in a future version. Use pandas.concat instead.\n"
     ]
    },
    {
     "name": "stdout",
     "output_type": "stream",
     "text": [
      "\u001b[2m\u001b[36m(export_pseudobulk_ray pid=3625797)\u001b[0m 2023-03-06 20:17:54,086 cisTopic     INFO     10xv1_sampleA_Naturalkillercell done!\n",
      "\u001b[2m\u001b[36m(export_pseudobulk_ray pid=3625797)\u001b[0m 2023-03-06 20:19:45,722 cisTopic     INFO     Creating pseudobulk for 10xv1_sampleB_Bcell\n"
     ]
    },
    {
     "name": "stderr",
     "output_type": "stream",
     "text": [
      "\u001b[2m\u001b[36m(export_pseudobulk_ray pid=3625797)\u001b[0m /tmp/ipykernel_3615626/2558041373.py:272: FutureWarning: The frame.append method is deprecated and will be removed from pandas in a future version. Use pandas.concat instead.\n"
     ]
    },
    {
     "name": "stdout",
     "output_type": "stream",
     "text": [
      "\u001b[2m\u001b[36m(export_pseudobulk_ray pid=3625797)\u001b[0m 2023-03-06 20:21:22,799 cisTopic     INFO     10xv1_sampleB_Bcell done!\n",
      "\u001b[2m\u001b[36m(export_pseudobulk_ray pid=3625797)\u001b[0m 2023-03-06 20:22:30,346 cisTopic     INFO     Creating pseudobulk for 10xv1_sampleB_CD14_monocyte\n"
     ]
    },
    {
     "name": "stderr",
     "output_type": "stream",
     "text": [
      "\u001b[2m\u001b[36m(export_pseudobulk_ray pid=3625797)\u001b[0m /tmp/ipykernel_3615626/2558041373.py:272: FutureWarning: The frame.append method is deprecated and will be removed from pandas in a future version. Use pandas.concat instead.\n"
     ]
    },
    {
     "name": "stdout",
     "output_type": "stream",
     "text": [
      "\u001b[2m\u001b[36m(export_pseudobulk_ray pid=3625804)\u001b[0m 2023-03-06 20:25:12,262 cisTopic     INFO     Creating pseudobulk for 10xv1_sampleB_CD16_monocyte\n"
     ]
    },
    {
     "name": "stderr",
     "output_type": "stream",
     "text": [
      "\u001b[2m\u001b[36m(export_pseudobulk_ray pid=3625804)\u001b[0m /tmp/ipykernel_3615626/2558041373.py:272: FutureWarning: The frame.append method is deprecated and will be removed from pandas in a future version. Use pandas.concat instead.\n"
     ]
    },
    {
     "name": "stdout",
     "output_type": "stream",
     "text": [
      "\u001b[2m\u001b[36m(export_pseudobulk_ray pid=3625804)\u001b[0m 2023-03-06 20:25:36,543 cisTopic     INFO     10xv1_sampleB_CD16_monocyte done!\n",
      "\u001b[2m\u001b[36m(export_pseudobulk_ray pid=3625797)\u001b[0m 2023-03-06 20:25:37,624 cisTopic     INFO     10xv1_sampleB_CD14_monocyte done!\n"
     ]
    },
    {
     "name": "stderr",
     "output_type": "stream",
     "text": [
      "\u001b[2m\u001b[36m(raylet)\u001b[0m Spilled 534348 MiB, 60 objects, write throughput 714 MiB/s.\n"
     ]
    },
    {
     "name": "stdout",
     "output_type": "stream",
     "text": [
      "\u001b[2m\u001b[36m(export_pseudobulk_ray pid=3625797)\u001b[0m 2023-03-06 20:27:54,563 cisTopic     INFO     Creating pseudobulk for 10xv1_sampleB_CD4_Tcell\n"
     ]
    },
    {
     "name": "stderr",
     "output_type": "stream",
     "text": [
      "\u001b[2m\u001b[36m(export_pseudobulk_ray pid=3625797)\u001b[0m /tmp/ipykernel_3615626/2558041373.py:272: FutureWarning: The frame.append method is deprecated and will be removed from pandas in a future version. Use pandas.concat instead.\n"
     ]
    },
    {
     "name": "stdout",
     "output_type": "stream",
     "text": [
      "\u001b[2m\u001b[36m(export_pseudobulk_ray pid=3625804)\u001b[0m 2023-03-06 20:30:29,613 cisTopic     INFO     Creating pseudobulk for 10xv1_sampleB_CytotoxicTcell\n"
     ]
    },
    {
     "name": "stderr",
     "output_type": "stream",
     "text": [
      "\u001b[2m\u001b[36m(export_pseudobulk_ray pid=3625804)\u001b[0m /tmp/ipykernel_3615626/2558041373.py:272: FutureWarning: The frame.append method is deprecated and will be removed from pandas in a future version. Use pandas.concat instead.\n"
     ]
    },
    {
     "name": "stdout",
     "output_type": "stream",
     "text": [
      "\u001b[2m\u001b[36m(export_pseudobulk_ray pid=3625804)\u001b[0m 2023-03-06 20:32:25,140 cisTopic     INFO     10xv1_sampleB_CytotoxicTcell done!\n",
      "\u001b[2m\u001b[36m(export_pseudobulk_ray pid=3625797)\u001b[0m 2023-03-06 20:32:51,126 cisTopic     INFO     10xv1_sampleB_CD4_Tcell done!\n",
      "\u001b[2m\u001b[36m(export_pseudobulk_ray pid=3625797)\u001b[0m 2023-03-06 20:33:09,254 cisTopic     INFO     Creating pseudobulk for 10xv1_sampleB_Dendriticcell\n"
     ]
    },
    {
     "name": "stderr",
     "output_type": "stream",
     "text": [
      "\u001b[2m\u001b[36m(export_pseudobulk_ray pid=3625797)\u001b[0m /tmp/ipykernel_3615626/2558041373.py:272: FutureWarning: The frame.append method is deprecated and will be removed from pandas in a future version. Use pandas.concat instead.\n"
     ]
    },
    {
     "name": "stdout",
     "output_type": "stream",
     "text": [
      "\u001b[2m\u001b[36m(export_pseudobulk_ray pid=3625797)\u001b[0m 2023-03-06 20:33:40,405 cisTopic     INFO     10xv1_sampleB_Dendriticcell done!\n",
      "\u001b[2m\u001b[36m(export_pseudobulk_ray pid=3625797)\u001b[0m 2023-03-06 20:35:45,410 cisTopic     INFO     Creating pseudobulk for 10xv1_sampleB_Naturalkillercell\n"
     ]
    },
    {
     "name": "stderr",
     "output_type": "stream",
     "text": [
      "\u001b[2m\u001b[36m(export_pseudobulk_ray pid=3625797)\u001b[0m /tmp/ipykernel_3615626/2558041373.py:272: FutureWarning: The frame.append method is deprecated and will be removed from pandas in a future version. Use pandas.concat instead.\n"
     ]
    },
    {
     "name": "stdout",
     "output_type": "stream",
     "text": [
      "\u001b[2m\u001b[36m(export_pseudobulk_ray pid=3625797)\u001b[0m 2023-03-06 20:36:40,321 cisTopic     INFO     10xv1_sampleB_Naturalkillercell done!\n",
      "\u001b[2m\u001b[36m(export_pseudobulk_ray pid=3625797)\u001b[0m 2023-03-06 20:38:28,787 cisTopic     INFO     Creating pseudobulk for 10xv2_sampleA_Bcell\n"
     ]
    },
    {
     "name": "stderr",
     "output_type": "stream",
     "text": [
      "\u001b[2m\u001b[36m(export_pseudobulk_ray pid=3625797)\u001b[0m /tmp/ipykernel_3615626/2558041373.py:272: FutureWarning: The frame.append method is deprecated and will be removed from pandas in a future version. Use pandas.concat instead.\n"
     ]
    },
    {
     "name": "stdout",
     "output_type": "stream",
     "text": [
      "\u001b[2m\u001b[36m(export_pseudobulk_ray pid=3625797)\u001b[0m 2023-03-06 20:40:14,091 cisTopic     INFO     10xv2_sampleA_Bcell done!\n",
      "\u001b[2m\u001b[36m(export_pseudobulk_ray pid=3625797)\u001b[0m 2023-03-06 20:41:05,129 cisTopic     INFO     Creating pseudobulk for 10xv2_sampleA_CD14_monocyte\n"
     ]
    },
    {
     "name": "stderr",
     "output_type": "stream",
     "text": [
      "\u001b[2m\u001b[36m(export_pseudobulk_ray pid=3625797)\u001b[0m /tmp/ipykernel_3615626/2558041373.py:272: FutureWarning: The frame.append method is deprecated and will be removed from pandas in a future version. Use pandas.concat instead.\n"
     ]
    },
    {
     "name": "stdout",
     "output_type": "stream",
     "text": [
      "\u001b[2m\u001b[36m(export_pseudobulk_ray pid=3625804)\u001b[0m 2023-03-06 20:43:53,685 cisTopic     INFO     Creating pseudobulk for 10xv2_sampleA_CD16_monocyte\n"
     ]
    },
    {
     "name": "stderr",
     "output_type": "stream",
     "text": [
      "\u001b[2m\u001b[36m(export_pseudobulk_ray pid=3625804)\u001b[0m /tmp/ipykernel_3615626/2558041373.py:272: FutureWarning: The frame.append method is deprecated and will be removed from pandas in a future version. Use pandas.concat instead.\n"
     ]
    },
    {
     "name": "stdout",
     "output_type": "stream",
     "text": [
      "\u001b[2m\u001b[36m(export_pseudobulk_ray pid=3625804)\u001b[0m 2023-03-06 20:44:17,180 cisTopic     INFO     10xv2_sampleA_CD16_monocyte done!\n",
      "\u001b[2m\u001b[36m(export_pseudobulk_ray pid=3625797)\u001b[0m 2023-03-06 20:45:44,277 cisTopic     INFO     10xv2_sampleA_CD14_monocyte done!\n",
      "\u001b[2m\u001b[36m(export_pseudobulk_ray pid=3625797)\u001b[0m 2023-03-06 20:46:39,245 cisTopic     INFO     Creating pseudobulk for 10xv2_sampleA_CD4_Tcell\n"
     ]
    },
    {
     "name": "stderr",
     "output_type": "stream",
     "text": [
      "\u001b[2m\u001b[36m(export_pseudobulk_ray pid=3625797)\u001b[0m /tmp/ipykernel_3615626/2558041373.py:272: FutureWarning: The frame.append method is deprecated and will be removed from pandas in a future version. Use pandas.concat instead.\n"
     ]
    },
    {
     "name": "stdout",
     "output_type": "stream",
     "text": [
      "\u001b[2m\u001b[36m(export_pseudobulk_ray pid=3625804)\u001b[0m 2023-03-06 20:49:23,015 cisTopic     INFO     Creating pseudobulk for 10xv2_sampleA_CytotoxicTcell\n"
     ]
    },
    {
     "name": "stderr",
     "output_type": "stream",
     "text": [
      "\u001b[2m\u001b[36m(export_pseudobulk_ray pid=3625804)\u001b[0m /tmp/ipykernel_3615626/2558041373.py:272: FutureWarning: The frame.append method is deprecated and will be removed from pandas in a future version. Use pandas.concat instead.\n"
     ]
    },
    {
     "name": "stdout",
     "output_type": "stream",
     "text": [
      "\u001b[2m\u001b[36m(export_pseudobulk_ray pid=3625800)\u001b[0m 2023-03-06 20:51:59,327 cisTopic     INFO     Creating pseudobulk for 10xv2_sampleA_Dendriticcell\n"
     ]
    },
    {
     "name": "stderr",
     "output_type": "stream",
     "text": [
      "\u001b[2m\u001b[36m(export_pseudobulk_ray pid=3625800)\u001b[0m /tmp/ipykernel_3615626/2558041373.py:272: FutureWarning: The frame.append method is deprecated and will be removed from pandas in a future version. Use pandas.concat instead.\n"
     ]
    },
    {
     "name": "stdout",
     "output_type": "stream",
     "text": [
      "\u001b[2m\u001b[36m(export_pseudobulk_ray pid=3625797)\u001b[0m 2023-03-06 20:52:10,775 cisTopic     INFO     10xv2_sampleA_CD4_Tcell done!\n",
      "\u001b[2m\u001b[36m(export_pseudobulk_ray pid=3625804)\u001b[0m 2023-03-06 20:52:11,414 cisTopic     INFO     10xv2_sampleA_CytotoxicTcell done!\n",
      "\u001b[2m\u001b[36m(export_pseudobulk_ray pid=3625800)\u001b[0m 2023-03-06 20:52:30,200 cisTopic     INFO     10xv2_sampleA_Dendriticcell done!\n",
      "\u001b[2m\u001b[36m(export_pseudobulk_ray pid=3625800)\u001b[0m 2023-03-06 20:54:38,129 cisTopic     INFO     Creating pseudobulk for 10xv2_sampleA_Naturalkillercell\n"
     ]
    },
    {
     "name": "stderr",
     "output_type": "stream",
     "text": [
      "\u001b[2m\u001b[36m(export_pseudobulk_ray pid=3625800)\u001b[0m /tmp/ipykernel_3615626/2558041373.py:272: FutureWarning: The frame.append method is deprecated and will be removed from pandas in a future version. Use pandas.concat instead.\n"
     ]
    },
    {
     "name": "stdout",
     "output_type": "stream",
     "text": [
      "\u001b[2m\u001b[36m(export_pseudobulk_ray pid=3625800)\u001b[0m 2023-03-06 20:55:37,974 cisTopic     INFO     10xv2_sampleA_Naturalkillercell done!\n",
      "\u001b[2m\u001b[36m(export_pseudobulk_ray pid=3625800)\u001b[0m 2023-03-06 20:57:16,315 cisTopic     INFO     Creating pseudobulk for 10xv2_sampleB_Bcell\n"
     ]
    },
    {
     "name": "stderr",
     "output_type": "stream",
     "text": [
      "\u001b[2m\u001b[36m(export_pseudobulk_ray pid=3625800)\u001b[0m /tmp/ipykernel_3615626/2558041373.py:272: FutureWarning: The frame.append method is deprecated and will be removed from pandas in a future version. Use pandas.concat instead.\n"
     ]
    },
    {
     "name": "stdout",
     "output_type": "stream",
     "text": [
      "\u001b[2m\u001b[36m(export_pseudobulk_ray pid=3625800)\u001b[0m 2023-03-06 20:59:06,699 cisTopic     INFO     10xv2_sampleB_Bcell done!\n",
      "\u001b[2m\u001b[36m(export_pseudobulk_ray pid=3625800)\u001b[0m 2023-03-06 20:59:58,075 cisTopic     INFO     Creating pseudobulk for 10xv2_sampleB_CD14_monocyte\n"
     ]
    },
    {
     "name": "stderr",
     "output_type": "stream",
     "text": [
      "\u001b[2m\u001b[36m(export_pseudobulk_ray pid=3625800)\u001b[0m /tmp/ipykernel_3615626/2558041373.py:272: FutureWarning: The frame.append method is deprecated and will be removed from pandas in a future version. Use pandas.concat instead.\n"
     ]
    },
    {
     "name": "stdout",
     "output_type": "stream",
     "text": [
      "\u001b[2m\u001b[36m(export_pseudobulk_ray pid=3625804)\u001b[0m 2023-03-06 21:02:46,082 cisTopic     INFO     Creating pseudobulk for 10xv2_sampleB_CD16_monocyte\n"
     ]
    },
    {
     "name": "stderr",
     "output_type": "stream",
     "text": [
      "\u001b[2m\u001b[36m(export_pseudobulk_ray pid=3625804)\u001b[0m /tmp/ipykernel_3615626/2558041373.py:272: FutureWarning: The frame.append method is deprecated and will be removed from pandas in a future version. Use pandas.concat instead.\n"
     ]
    },
    {
     "name": "stdout",
     "output_type": "stream",
     "text": [
      "\u001b[2m\u001b[36m(export_pseudobulk_ray pid=3625804)\u001b[0m 2023-03-06 21:03:12,905 cisTopic     INFO     10xv2_sampleB_CD16_monocyte done!\n",
      "\u001b[2m\u001b[36m(export_pseudobulk_ray pid=3625800)\u001b[0m 2023-03-06 21:04:36,758 cisTopic     INFO     10xv2_sampleB_CD14_monocyte done!\n",
      "\u001b[2m\u001b[36m(export_pseudobulk_ray pid=3625800)\u001b[0m 2023-03-06 21:05:18,878 cisTopic     INFO     Creating pseudobulk for 10xv2_sampleB_CD4_Tcell\n"
     ]
    },
    {
     "name": "stderr",
     "output_type": "stream",
     "text": [
      "\u001b[2m\u001b[36m(export_pseudobulk_ray pid=3625800)\u001b[0m /tmp/ipykernel_3615626/2558041373.py:272: FutureWarning: The frame.append method is deprecated and will be removed from pandas in a future version. Use pandas.concat instead.\n"
     ]
    },
    {
     "name": "stdout",
     "output_type": "stream",
     "text": [
      "\u001b[2m\u001b[36m(export_pseudobulk_ray pid=3625804)\u001b[0m 2023-03-06 21:07:57,163 cisTopic     INFO     Creating pseudobulk for 10xv2_sampleB_CytotoxicTcell\n"
     ]
    },
    {
     "name": "stderr",
     "output_type": "stream",
     "text": [
      "\u001b[2m\u001b[36m(export_pseudobulk_ray pid=3625804)\u001b[0m /tmp/ipykernel_3615626/2558041373.py:272: FutureWarning: The frame.append method is deprecated and will be removed from pandas in a future version. Use pandas.concat instead.\n"
     ]
    },
    {
     "name": "stdout",
     "output_type": "stream",
     "text": [
      "\u001b[2m\u001b[36m(export_pseudobulk_ray pid=3625797)\u001b[0m 2023-03-06 21:10:37,977 cisTopic     INFO     Creating pseudobulk for 10xv2_sampleB_Dendriticcell\n"
     ]
    },
    {
     "name": "stderr",
     "output_type": "stream",
     "text": [
      "\u001b[2m\u001b[36m(export_pseudobulk_ray pid=3625797)\u001b[0m /tmp/ipykernel_3615626/2558041373.py:272: FutureWarning: The frame.append method is deprecated and will be removed from pandas in a future version. Use pandas.concat instead.\n"
     ]
    },
    {
     "name": "stdout",
     "output_type": "stream",
     "text": [
      "\u001b[2m\u001b[36m(export_pseudobulk_ray pid=3625804)\u001b[0m 2023-03-06 21:10:50,028 cisTopic     INFO     10xv2_sampleB_CytotoxicTcell done!\n",
      "\u001b[2m\u001b[36m(export_pseudobulk_ray pid=3625800)\u001b[0m 2023-03-06 21:10:58,013 cisTopic     INFO     10xv2_sampleB_CD4_Tcell done!\n",
      "\u001b[2m\u001b[36m(export_pseudobulk_ray pid=3625797)\u001b[0m 2023-03-06 21:11:11,438 cisTopic     INFO     10xv2_sampleB_Dendriticcell done!\n",
      "\u001b[2m\u001b[36m(export_pseudobulk_ray pid=3625797)\u001b[0m 2023-03-06 21:13:16,768 cisTopic     INFO     Creating pseudobulk for 10xv2_sampleB_Naturalkillercell\n"
     ]
    },
    {
     "name": "stderr",
     "output_type": "stream",
     "text": [
      "\u001b[2m\u001b[36m(export_pseudobulk_ray pid=3625797)\u001b[0m /tmp/ipykernel_3615626/2558041373.py:272: FutureWarning: The frame.append method is deprecated and will be removed from pandas in a future version. Use pandas.concat instead.\n"
     ]
    },
    {
     "name": "stdout",
     "output_type": "stream",
     "text": [
      "\u001b[2m\u001b[36m(export_pseudobulk_ray pid=3625797)\u001b[0m 2023-03-06 21:14:21,278 cisTopic     INFO     10xv2_sampleB_Naturalkillercell done!\n",
      "\u001b[2m\u001b[36m(export_pseudobulk_ray pid=3625797)\u001b[0m 2023-03-06 21:15:55,585 cisTopic     INFO     Creating pseudobulk for ddseq_sampleA_Bcell\n"
     ]
    },
    {
     "name": "stderr",
     "output_type": "stream",
     "text": [
      "\u001b[2m\u001b[36m(export_pseudobulk_ray pid=3625797)\u001b[0m /tmp/ipykernel_3615626/2558041373.py:272: FutureWarning: The frame.append method is deprecated and will be removed from pandas in a future version. Use pandas.concat instead.\n"
     ]
    },
    {
     "name": "stdout",
     "output_type": "stream",
     "text": [
      "\u001b[2m\u001b[36m(export_pseudobulk_ray pid=3625797)\u001b[0m 2023-03-06 21:17:27,579 cisTopic     INFO     ddseq_sampleA_Bcell done!\n",
      "\u001b[2m\u001b[36m(export_pseudobulk_ray pid=3625797)\u001b[0m 2023-03-06 21:18:36,735 cisTopic     INFO     Creating pseudobulk for ddseq_sampleA_CD14_monocyte\n"
     ]
    },
    {
     "name": "stderr",
     "output_type": "stream",
     "text": [
      "\u001b[2m\u001b[36m(export_pseudobulk_ray pid=3625797)\u001b[0m /tmp/ipykernel_3615626/2558041373.py:272: FutureWarning: The frame.append method is deprecated and will be removed from pandas in a future version. Use pandas.concat instead.\n"
     ]
    },
    {
     "name": "stdout",
     "output_type": "stream",
     "text": [
      "\u001b[2m\u001b[36m(export_pseudobulk_ray pid=3625797)\u001b[0m 2023-03-06 21:21:04,422 cisTopic     INFO     ddseq_sampleA_CD14_monocyte done!\n",
      "\u001b[2m\u001b[36m(export_pseudobulk_ray pid=3625797)\u001b[0m 2023-03-06 21:21:13,574 cisTopic     INFO     Creating pseudobulk for ddseq_sampleA_CD16_monocyte\n"
     ]
    },
    {
     "name": "stderr",
     "output_type": "stream",
     "text": [
      "\u001b[2m\u001b[36m(export_pseudobulk_ray pid=3625797)\u001b[0m /tmp/ipykernel_3615626/2558041373.py:272: FutureWarning: The frame.append method is deprecated and will be removed from pandas in a future version. Use pandas.concat instead.\n"
     ]
    },
    {
     "name": "stdout",
     "output_type": "stream",
     "text": [
      "\u001b[2m\u001b[36m(export_pseudobulk_ray pid=3625797)\u001b[0m 2023-03-06 21:21:36,466 cisTopic     INFO     ddseq_sampleA_CD16_monocyte done!\n",
      "\u001b[2m\u001b[36m(export_pseudobulk_ray pid=3625797)\u001b[0m 2023-03-06 21:23:52,290 cisTopic     INFO     Creating pseudobulk for ddseq_sampleA_CD4_Tcell\n"
     ]
    },
    {
     "name": "stderr",
     "output_type": "stream",
     "text": [
      "\u001b[2m\u001b[36m(export_pseudobulk_ray pid=3625797)\u001b[0m /tmp/ipykernel_3615626/2558041373.py:272: FutureWarning: The frame.append method is deprecated and will be removed from pandas in a future version. Use pandas.concat instead.\n"
     ]
    },
    {
     "name": "stdout",
     "output_type": "stream",
     "text": [
      "\u001b[2m\u001b[36m(export_pseudobulk_ray pid=3625800)\u001b[0m 2023-03-06 21:26:41,880 cisTopic     INFO     Creating pseudobulk for ddseq_sampleA_CytotoxicTcell\n"
     ]
    },
    {
     "name": "stderr",
     "output_type": "stream",
     "text": [
      "\u001b[2m\u001b[36m(export_pseudobulk_ray pid=3625800)\u001b[0m /tmp/ipykernel_3615626/2558041373.py:272: FutureWarning: The frame.append method is deprecated and will be removed from pandas in a future version. Use pandas.concat instead.\n"
     ]
    },
    {
     "name": "stdout",
     "output_type": "stream",
     "text": [
      "\u001b[2m\u001b[36m(export_pseudobulk_ray pid=3625800)\u001b[0m 2023-03-06 21:29:19,827 cisTopic     INFO     ddseq_sampleA_CytotoxicTcell done!\n",
      "\u001b[2m\u001b[36m(export_pseudobulk_ray pid=3625800)\u001b[0m 2023-03-06 21:29:27,218 cisTopic     INFO     Creating pseudobulk for ddseq_sampleA_Dendriticcell\n",
      "\u001b[2m\u001b[36m(export_pseudobulk_ray pid=3625797)\u001b[0m 2023-03-06 21:29:33,878 cisTopic     INFO     ddseq_sampleA_CD4_Tcell done!\n"
     ]
    },
    {
     "name": "stderr",
     "output_type": "stream",
     "text": [
      "\u001b[2m\u001b[36m(export_pseudobulk_ray pid=3625800)\u001b[0m /tmp/ipykernel_3615626/2558041373.py:272: FutureWarning: The frame.append method is deprecated and will be removed from pandas in a future version. Use pandas.concat instead.\n"
     ]
    },
    {
     "name": "stdout",
     "output_type": "stream",
     "text": [
      "\u001b[2m\u001b[36m(export_pseudobulk_ray pid=3625800)\u001b[0m 2023-03-06 21:29:51,988 cisTopic     INFO     ddseq_sampleA_Dendriticcell done!\n",
      "\u001b[2m\u001b[36m(export_pseudobulk_ray pid=3625800)\u001b[0m 2023-03-06 21:32:06,637 cisTopic     INFO     Creating pseudobulk for ddseq_sampleA_Naturalkillercell\n"
     ]
    },
    {
     "name": "stderr",
     "output_type": "stream",
     "text": [
      "\u001b[2m\u001b[36m(export_pseudobulk_ray pid=3625800)\u001b[0m /tmp/ipykernel_3615626/2558041373.py:272: FutureWarning: The frame.append method is deprecated and will be removed from pandas in a future version. Use pandas.concat instead.\n"
     ]
    },
    {
     "name": "stdout",
     "output_type": "stream",
     "text": [
      "\u001b[2m\u001b[36m(export_pseudobulk_ray pid=3625800)\u001b[0m 2023-03-06 21:32:24,168 cisTopic     INFO     ddseq_sampleA_Naturalkillercell done!\n",
      "\u001b[2m\u001b[36m(export_pseudobulk_ray pid=3625800)\u001b[0m 2023-03-06 21:34:42,046 cisTopic     INFO     Creating pseudobulk for ddseq_sampleB_Bcell\n"
     ]
    },
    {
     "name": "stderr",
     "output_type": "stream",
     "text": [
      "\u001b[2m\u001b[36m(export_pseudobulk_ray pid=3625800)\u001b[0m /tmp/ipykernel_3615626/2558041373.py:272: FutureWarning: The frame.append method is deprecated and will be removed from pandas in a future version. Use pandas.concat instead.\n"
     ]
    },
    {
     "name": "stdout",
     "output_type": "stream",
     "text": [
      "\u001b[2m\u001b[36m(export_pseudobulk_ray pid=3625800)\u001b[0m 2023-03-06 21:36:15,674 cisTopic     INFO     ddseq_sampleB_Bcell done!\n",
      "\u001b[2m\u001b[36m(export_pseudobulk_ray pid=3625800)\u001b[0m 2023-03-06 21:37:20,036 cisTopic     INFO     Creating pseudobulk for ddseq_sampleB_CD14_monocyte\n"
     ]
    },
    {
     "name": "stderr",
     "output_type": "stream",
     "text": [
      "\u001b[2m\u001b[36m(export_pseudobulk_ray pid=3625800)\u001b[0m /tmp/ipykernel_3615626/2558041373.py:272: FutureWarning: The frame.append method is deprecated and will be removed from pandas in a future version. Use pandas.concat instead.\n"
     ]
    },
    {
     "name": "stdout",
     "output_type": "stream",
     "text": [
      "\u001b[2m\u001b[36m(export_pseudobulk_ray pid=3625800)\u001b[0m 2023-03-06 21:39:56,308 cisTopic     INFO     ddseq_sampleB_CD14_monocyte done!\n",
      "\u001b[2m\u001b[36m(export_pseudobulk_ray pid=3625800)\u001b[0m 2023-03-06 21:40:05,032 cisTopic     INFO     Creating pseudobulk for ddseq_sampleB_CD16_monocyte\n"
     ]
    },
    {
     "name": "stderr",
     "output_type": "stream",
     "text": [
      "\u001b[2m\u001b[36m(export_pseudobulk_ray pid=3625800)\u001b[0m /tmp/ipykernel_3615626/2558041373.py:272: FutureWarning: The frame.append method is deprecated and will be removed from pandas in a future version. Use pandas.concat instead.\n"
     ]
    },
    {
     "name": "stdout",
     "output_type": "stream",
     "text": [
      "\u001b[2m\u001b[36m(export_pseudobulk_ray pid=3625800)\u001b[0m 2023-03-06 21:40:31,096 cisTopic     INFO     ddseq_sampleB_CD16_monocyte done!\n",
      "\u001b[2m\u001b[36m(export_pseudobulk_ray pid=3625800)\u001b[0m 2023-03-06 21:42:40,515 cisTopic     INFO     Creating pseudobulk for ddseq_sampleB_CD4_Tcell\n"
     ]
    },
    {
     "name": "stderr",
     "output_type": "stream",
     "text": [
      "\u001b[2m\u001b[36m(export_pseudobulk_ray pid=3625800)\u001b[0m /tmp/ipykernel_3615626/2558041373.py:272: FutureWarning: The frame.append method is deprecated and will be removed from pandas in a future version. Use pandas.concat instead.\n",
      "\u001b[2m\u001b[36m(raylet)\u001b[0m Spilled 1050885 MiB, 118 objects, write throughput 696 MiB/s.\n"
     ]
    },
    {
     "name": "stdout",
     "output_type": "stream",
     "text": [
      "\u001b[2m\u001b[36m(export_pseudobulk_ray pid=3625797)\u001b[0m 2023-03-06 21:45:26,628 cisTopic     INFO     Creating pseudobulk for ddseq_sampleB_CytotoxicTcell\n"
     ]
    },
    {
     "name": "stderr",
     "output_type": "stream",
     "text": [
      "\u001b[2m\u001b[36m(export_pseudobulk_ray pid=3625797)\u001b[0m /tmp/ipykernel_3615626/2558041373.py:272: FutureWarning: The frame.append method is deprecated and will be removed from pandas in a future version. Use pandas.concat instead.\n"
     ]
    },
    {
     "name": "stdout",
     "output_type": "stream",
     "text": [
      "\u001b[2m\u001b[36m(export_pseudobulk_ray pid=3625804)\u001b[0m 2023-03-06 21:47:58,282 cisTopic     INFO     Creating pseudobulk for ddseq_sampleB_Dendriticcell\n"
     ]
    },
    {
     "name": "stderr",
     "output_type": "stream",
     "text": [
      "\u001b[2m\u001b[36m(export_pseudobulk_ray pid=3625804)\u001b[0m /tmp/ipykernel_3615626/2558041373.py:272: FutureWarning: The frame.append method is deprecated and will be removed from pandas in a future version. Use pandas.concat instead.\n"
     ]
    },
    {
     "name": "stdout",
     "output_type": "stream",
     "text": [
      "\u001b[2m\u001b[36m(export_pseudobulk_ray pid=3625797)\u001b[0m 2023-03-06 21:48:09,341 cisTopic     INFO     ddseq_sampleB_CytotoxicTcell done!\n",
      "\u001b[2m\u001b[36m(export_pseudobulk_ray pid=3625804)\u001b[0m 2023-03-06 21:48:15,801 cisTopic     INFO     ddseq_sampleB_Dendriticcell done!\n",
      "\u001b[2m\u001b[36m(export_pseudobulk_ray pid=3625800)\u001b[0m 2023-03-06 21:48:24,300 cisTopic     INFO     ddseq_sampleB_CD4_Tcell done!\n",
      "\u001b[2m\u001b[36m(export_pseudobulk_ray pid=3625800)\u001b[0m 2023-03-06 21:50:37,876 cisTopic     INFO     Creating pseudobulk for ddseq_sampleB_Naturalkillercell\n"
     ]
    },
    {
     "name": "stderr",
     "output_type": "stream",
     "text": [
      "\u001b[2m\u001b[36m(export_pseudobulk_ray pid=3625800)\u001b[0m /tmp/ipykernel_3615626/2558041373.py:272: FutureWarning: The frame.append method is deprecated and will be removed from pandas in a future version. Use pandas.concat instead.\n"
     ]
    },
    {
     "name": "stdout",
     "output_type": "stream",
     "text": [
      "\u001b[2m\u001b[36m(export_pseudobulk_ray pid=3625800)\u001b[0m 2023-03-06 21:50:54,926 cisTopic     INFO     ddseq_sampleB_Naturalkillercell done!\n",
      "\u001b[2m\u001b[36m(export_pseudobulk_ray pid=3625800)\u001b[0m 2023-03-06 21:53:14,773 cisTopic     INFO     Creating pseudobulk for hydrop_sampleA_Bcell\n"
     ]
    },
    {
     "name": "stderr",
     "output_type": "stream",
     "text": [
      "\u001b[2m\u001b[36m(export_pseudobulk_ray pid=3625800)\u001b[0m /tmp/ipykernel_3615626/2558041373.py:272: FutureWarning: The frame.append method is deprecated and will be removed from pandas in a future version. Use pandas.concat instead.\n"
     ]
    },
    {
     "name": "stdout",
     "output_type": "stream",
     "text": [
      "\u001b[2m\u001b[36m(export_pseudobulk_ray pid=3625800)\u001b[0m 2023-03-06 21:53:49,515 cisTopic     INFO     hydrop_sampleA_Bcell done!\n",
      "\u001b[2m\u001b[36m(export_pseudobulk_ray pid=3625800)\u001b[0m 2023-03-06 21:55:58,894 cisTopic     INFO     Creating pseudobulk for hydrop_sampleA_CD14_monocyte\n"
     ]
    },
    {
     "name": "stderr",
     "output_type": "stream",
     "text": [
      "\u001b[2m\u001b[36m(export_pseudobulk_ray pid=3625800)\u001b[0m /tmp/ipykernel_3615626/2558041373.py:272: FutureWarning: The frame.append method is deprecated and will be removed from pandas in a future version. Use pandas.concat instead.\n"
     ]
    },
    {
     "name": "stdout",
     "output_type": "stream",
     "text": [
      "\u001b[2m\u001b[36m(export_pseudobulk_ray pid=3625800)\u001b[0m 2023-03-06 21:57:22,519 cisTopic     INFO     hydrop_sampleA_CD14_monocyte done!\n",
      "\u001b[2m\u001b[36m(export_pseudobulk_ray pid=3625800)\u001b[0m 2023-03-06 21:58:45,848 cisTopic     INFO     Creating pseudobulk for hydrop_sampleA_CD16_monocyte\n"
     ]
    },
    {
     "name": "stderr",
     "output_type": "stream",
     "text": [
      "\u001b[2m\u001b[36m(export_pseudobulk_ray pid=3625800)\u001b[0m /tmp/ipykernel_3615626/2558041373.py:272: FutureWarning: The frame.append method is deprecated and will be removed from pandas in a future version. Use pandas.concat instead.\n"
     ]
    },
    {
     "name": "stdout",
     "output_type": "stream",
     "text": [
      "\u001b[2m\u001b[36m(export_pseudobulk_ray pid=3625800)\u001b[0m 2023-03-06 21:59:01,390 cisTopic     INFO     hydrop_sampleA_CD16_monocyte done!\n",
      "\u001b[2m\u001b[36m(export_pseudobulk_ray pid=3625800)\u001b[0m 2023-03-06 22:01:22,213 cisTopic     INFO     Creating pseudobulk for hydrop_sampleA_CD4_Tcell\n"
     ]
    },
    {
     "name": "stderr",
     "output_type": "stream",
     "text": [
      "\u001b[2m\u001b[36m(export_pseudobulk_ray pid=3625800)\u001b[0m /tmp/ipykernel_3615626/2558041373.py:272: FutureWarning: The frame.append method is deprecated and will be removed from pandas in a future version. Use pandas.concat instead.\n"
     ]
    },
    {
     "name": "stdout",
     "output_type": "stream",
     "text": [
      "\u001b[2m\u001b[36m(export_pseudobulk_ray pid=3625800)\u001b[0m 2023-03-06 22:03:00,110 cisTopic     INFO     hydrop_sampleA_CD4_Tcell done!\n",
      "\u001b[2m\u001b[36m(export_pseudobulk_ray pid=3625800)\u001b[0m 2023-03-06 22:04:03,940 cisTopic     INFO     Creating pseudobulk for hydrop_sampleA_CytotoxicTcell\n"
     ]
    },
    {
     "name": "stderr",
     "output_type": "stream",
     "text": [
      "\u001b[2m\u001b[36m(export_pseudobulk_ray pid=3625800)\u001b[0m /tmp/ipykernel_3615626/2558041373.py:272: FutureWarning: The frame.append method is deprecated and will be removed from pandas in a future version. Use pandas.concat instead.\n"
     ]
    },
    {
     "name": "stdout",
     "output_type": "stream",
     "text": [
      "\u001b[2m\u001b[36m(export_pseudobulk_ray pid=3625800)\u001b[0m 2023-03-06 22:04:45,883 cisTopic     INFO     hydrop_sampleA_CytotoxicTcell done!\n",
      "\u001b[2m\u001b[36m(export_pseudobulk_ray pid=3625800)\u001b[0m 2023-03-06 22:06:48,705 cisTopic     INFO     Creating pseudobulk for hydrop_sampleA_Dendriticcell\n"
     ]
    },
    {
     "name": "stderr",
     "output_type": "stream",
     "text": [
      "\u001b[2m\u001b[36m(export_pseudobulk_ray pid=3625800)\u001b[0m /tmp/ipykernel_3615626/2558041373.py:272: FutureWarning: The frame.append method is deprecated and will be removed from pandas in a future version. Use pandas.concat instead.\n"
     ]
    },
    {
     "name": "stdout",
     "output_type": "stream",
     "text": [
      "\u001b[2m\u001b[36m(export_pseudobulk_ray pid=3625800)\u001b[0m 2023-03-06 22:07:05,565 cisTopic     INFO     hydrop_sampleA_Dendriticcell done!\n",
      "\u001b[2m\u001b[36m(export_pseudobulk_ray pid=3625800)\u001b[0m 2023-03-06 22:10:09,547 cisTopic     INFO     Creating pseudobulk for hydrop_sampleA_Naturalkillercell\n"
     ]
    },
    {
     "name": "stderr",
     "output_type": "stream",
     "text": [
      "\u001b[2m\u001b[36m(export_pseudobulk_ray pid=3625800)\u001b[0m /tmp/ipykernel_3615626/2558041373.py:272: FutureWarning: The frame.append method is deprecated and will be removed from pandas in a future version. Use pandas.concat instead.\n"
     ]
    },
    {
     "name": "stdout",
     "output_type": "stream",
     "text": [
      "\u001b[2m\u001b[36m(export_pseudobulk_ray pid=3625800)\u001b[0m 2023-03-06 22:10:31,091 cisTopic     INFO     hydrop_sampleA_Naturalkillercell done!\n",
      "\u001b[2m\u001b[36m(export_pseudobulk_ray pid=3625800)\u001b[0m 2023-03-06 22:12:52,157 cisTopic     INFO     Creating pseudobulk for hydrop_sampleB_Bcell\n"
     ]
    },
    {
     "name": "stderr",
     "output_type": "stream",
     "text": [
      "\u001b[2m\u001b[36m(export_pseudobulk_ray pid=3625800)\u001b[0m /tmp/ipykernel_3615626/2558041373.py:272: FutureWarning: The frame.append method is deprecated and will be removed from pandas in a future version. Use pandas.concat instead.\n"
     ]
    },
    {
     "name": "stdout",
     "output_type": "stream",
     "text": [
      "\u001b[2m\u001b[36m(export_pseudobulk_ray pid=3625800)\u001b[0m 2023-03-06 22:13:25,834 cisTopic     INFO     hydrop_sampleB_Bcell done!\n",
      "\u001b[2m\u001b[36m(export_pseudobulk_ray pid=3625800)\u001b[0m 2023-03-06 22:15:33,650 cisTopic     INFO     Creating pseudobulk for hydrop_sampleB_CD14_monocyte\n"
     ]
    },
    {
     "name": "stderr",
     "output_type": "stream",
     "text": [
      "\u001b[2m\u001b[36m(export_pseudobulk_ray pid=3625800)\u001b[0m /tmp/ipykernel_3615626/2558041373.py:272: FutureWarning: The frame.append method is deprecated and will be removed from pandas in a future version. Use pandas.concat instead.\n"
     ]
    },
    {
     "name": "stdout",
     "output_type": "stream",
     "text": [
      "\u001b[2m\u001b[36m(export_pseudobulk_ray pid=3625800)\u001b[0m 2023-03-06 22:16:58,107 cisTopic     INFO     hydrop_sampleB_CD14_monocyte done!\n",
      "\u001b[2m\u001b[36m(export_pseudobulk_ray pid=3625800)\u001b[0m 2023-03-06 22:18:17,198 cisTopic     INFO     Creating pseudobulk for hydrop_sampleB_CD16_monocyte\n"
     ]
    },
    {
     "name": "stderr",
     "output_type": "stream",
     "text": [
      "\u001b[2m\u001b[36m(export_pseudobulk_ray pid=3625800)\u001b[0m /tmp/ipykernel_3615626/2558041373.py:272: FutureWarning: The frame.append method is deprecated and will be removed from pandas in a future version. Use pandas.concat instead.\n"
     ]
    },
    {
     "name": "stdout",
     "output_type": "stream",
     "text": [
      "\u001b[2m\u001b[36m(export_pseudobulk_ray pid=3625800)\u001b[0m 2023-03-06 22:18:32,296 cisTopic     INFO     hydrop_sampleB_CD16_monocyte done!\n",
      "\u001b[2m\u001b[36m(export_pseudobulk_ray pid=3625800)\u001b[0m 2023-03-06 22:20:58,590 cisTopic     INFO     Creating pseudobulk for hydrop_sampleB_CD4_Tcell\n"
     ]
    },
    {
     "name": "stderr",
     "output_type": "stream",
     "text": [
      "\u001b[2m\u001b[36m(export_pseudobulk_ray pid=3625800)\u001b[0m /tmp/ipykernel_3615626/2558041373.py:272: FutureWarning: The frame.append method is deprecated and will be removed from pandas in a future version. Use pandas.concat instead.\n"
     ]
    },
    {
     "name": "stdout",
     "output_type": "stream",
     "text": [
      "\u001b[2m\u001b[36m(export_pseudobulk_ray pid=3625800)\u001b[0m 2023-03-06 22:22:35,873 cisTopic     INFO     hydrop_sampleB_CD4_Tcell done!\n",
      "\u001b[2m\u001b[36m(export_pseudobulk_ray pid=3625800)\u001b[0m 2023-03-06 22:23:40,415 cisTopic     INFO     Creating pseudobulk for hydrop_sampleB_CytotoxicTcell\n"
     ]
    },
    {
     "name": "stderr",
     "output_type": "stream",
     "text": [
      "\u001b[2m\u001b[36m(export_pseudobulk_ray pid=3625800)\u001b[0m /tmp/ipykernel_3615626/2558041373.py:272: FutureWarning: The frame.append method is deprecated and will be removed from pandas in a future version. Use pandas.concat instead.\n"
     ]
    },
    {
     "name": "stdout",
     "output_type": "stream",
     "text": [
      "\u001b[2m\u001b[36m(export_pseudobulk_ray pid=3625800)\u001b[0m 2023-03-06 22:24:29,713 cisTopic     INFO     hydrop_sampleB_CytotoxicTcell done!\n",
      "\u001b[2m\u001b[36m(export_pseudobulk_ray pid=3625800)\u001b[0m 2023-03-06 22:26:15,731 cisTopic     INFO     Creating pseudobulk for hydrop_sampleB_Dendriticcell\n"
     ]
    },
    {
     "name": "stderr",
     "output_type": "stream",
     "text": [
      "\u001b[2m\u001b[36m(export_pseudobulk_ray pid=3625800)\u001b[0m /tmp/ipykernel_3615626/2558041373.py:272: FutureWarning: The frame.append method is deprecated and will be removed from pandas in a future version. Use pandas.concat instead.\n"
     ]
    },
    {
     "name": "stdout",
     "output_type": "stream",
     "text": [
      "\u001b[2m\u001b[36m(export_pseudobulk_ray pid=3625800)\u001b[0m 2023-03-06 22:26:32,848 cisTopic     INFO     hydrop_sampleB_Dendriticcell done!\n",
      "\u001b[2m\u001b[36m(export_pseudobulk_ray pid=3625800)\u001b[0m 2023-03-06 22:28:52,632 cisTopic     INFO     Creating pseudobulk for hydrop_sampleB_Naturalkillercell\n"
     ]
    },
    {
     "name": "stderr",
     "output_type": "stream",
     "text": [
      "\u001b[2m\u001b[36m(export_pseudobulk_ray pid=3625800)\u001b[0m /tmp/ipykernel_3615626/2558041373.py:272: FutureWarning: The frame.append method is deprecated and will be removed from pandas in a future version. Use pandas.concat instead.\n"
     ]
    },
    {
     "name": "stdout",
     "output_type": "stream",
     "text": [
      "\u001b[2m\u001b[36m(export_pseudobulk_ray pid=3625800)\u001b[0m 2023-03-06 22:29:14,739 cisTopic     INFO     hydrop_sampleB_Naturalkillercell done!\n",
      "\u001b[2m\u001b[36m(export_pseudobulk_ray pid=3625800)\u001b[0m 2023-03-06 22:31:37,006 cisTopic     INFO     Creating pseudobulk for mtscatac_sampleA_Bcell\n"
     ]
    },
    {
     "name": "stderr",
     "output_type": "stream",
     "text": [
      "\u001b[2m\u001b[36m(export_pseudobulk_ray pid=3625800)\u001b[0m /tmp/ipykernel_3615626/2558041373.py:272: FutureWarning: The frame.append method is deprecated and will be removed from pandas in a future version. Use pandas.concat instead.\n"
     ]
    },
    {
     "name": "stdout",
     "output_type": "stream",
     "text": [
      "\u001b[2m\u001b[36m(export_pseudobulk_ray pid=3625800)\u001b[0m 2023-03-06 22:33:32,453 cisTopic     INFO     mtscatac_sampleA_Bcell done!\n",
      "\u001b[2m\u001b[36m(export_pseudobulk_ray pid=3625800)\u001b[0m 2023-03-06 22:34:12,545 cisTopic     INFO     Creating pseudobulk for mtscatac_sampleA_CD14_monocyte\n"
     ]
    },
    {
     "name": "stderr",
     "output_type": "stream",
     "text": [
      "\u001b[2m\u001b[36m(export_pseudobulk_ray pid=3625800)\u001b[0m /tmp/ipykernel_3615626/2558041373.py:272: FutureWarning: The frame.append method is deprecated and will be removed from pandas in a future version. Use pandas.concat instead.\n"
     ]
    },
    {
     "name": "stdout",
     "output_type": "stream",
     "text": [
      "\u001b[2m\u001b[36m(export_pseudobulk_ray pid=3625804)\u001b[0m 2023-03-06 22:37:02,087 cisTopic     INFO     Creating pseudobulk for mtscatac_sampleA_CD16_monocyte\n"
     ]
    },
    {
     "name": "stderr",
     "output_type": "stream",
     "text": [
      "\u001b[2m\u001b[36m(export_pseudobulk_ray pid=3625804)\u001b[0m /tmp/ipykernel_3615626/2558041373.py:272: FutureWarning: The frame.append method is deprecated and will be removed from pandas in a future version. Use pandas.concat instead.\n"
     ]
    },
    {
     "name": "stdout",
     "output_type": "stream",
     "text": [
      "\u001b[2m\u001b[36m(export_pseudobulk_ray pid=3625804)\u001b[0m 2023-03-06 22:37:26,424 cisTopic     INFO     mtscatac_sampleA_CD16_monocyte done!\n",
      "\u001b[2m\u001b[36m(export_pseudobulk_ray pid=3625800)\u001b[0m 2023-03-06 22:38:59,278 cisTopic     INFO     mtscatac_sampleA_CD14_monocyte done!\n",
      "\u001b[2m\u001b[36m(export_pseudobulk_ray pid=3625800)\u001b[0m 2023-03-06 22:39:42,338 cisTopic     INFO     Creating pseudobulk for mtscatac_sampleA_CD4_Tcell\n"
     ]
    },
    {
     "name": "stderr",
     "output_type": "stream",
     "text": [
      "\u001b[2m\u001b[36m(export_pseudobulk_ray pid=3625800)\u001b[0m /tmp/ipykernel_3615626/2558041373.py:272: FutureWarning: The frame.append method is deprecated and will be removed from pandas in a future version. Use pandas.concat instead.\n"
     ]
    },
    {
     "name": "stdout",
     "output_type": "stream",
     "text": [
      "\u001b[2m\u001b[36m(export_pseudobulk_ray pid=3625804)\u001b[0m 2023-03-06 22:42:16,916 cisTopic     INFO     Creating pseudobulk for mtscatac_sampleA_CytotoxicTcell\n"
     ]
    },
    {
     "name": "stderr",
     "output_type": "stream",
     "text": [
      "\u001b[2m\u001b[36m(export_pseudobulk_ray pid=3625804)\u001b[0m /tmp/ipykernel_3615626/2558041373.py:272: FutureWarning: The frame.append method is deprecated and will be removed from pandas in a future version. Use pandas.concat instead.\n"
     ]
    },
    {
     "name": "stdout",
     "output_type": "stream",
     "text": [
      "\u001b[2m\u001b[36m(export_pseudobulk_ray pid=3625800)\u001b[0m 2023-03-06 22:44:11,022 cisTopic     INFO     mtscatac_sampleA_CD4_Tcell done!\n",
      "\u001b[2m\u001b[36m(export_pseudobulk_ray pid=3625804)\u001b[0m 2023-03-06 22:44:38,927 cisTopic     INFO     mtscatac_sampleA_CytotoxicTcell done!\n",
      "\u001b[2m\u001b[36m(export_pseudobulk_ray pid=3625804)\u001b[0m 2023-03-06 22:44:53,178 cisTopic     INFO     Creating pseudobulk for mtscatac_sampleA_Dendriticcell\n"
     ]
    },
    {
     "name": "stderr",
     "output_type": "stream",
     "text": [
      "\u001b[2m\u001b[36m(export_pseudobulk_ray pid=3625804)\u001b[0m /tmp/ipykernel_3615626/2558041373.py:272: FutureWarning: The frame.append method is deprecated and will be removed from pandas in a future version. Use pandas.concat instead.\n"
     ]
    },
    {
     "name": "stdout",
     "output_type": "stream",
     "text": [
      "\u001b[2m\u001b[36m(export_pseudobulk_ray pid=3625804)\u001b[0m 2023-03-06 22:45:24,965 cisTopic     INFO     mtscatac_sampleA_Dendriticcell done!\n",
      "\u001b[2m\u001b[36m(export_pseudobulk_ray pid=3625804)\u001b[0m 2023-03-06 22:47:34,362 cisTopic     INFO     Creating pseudobulk for mtscatac_sampleA_Naturalkillercell\n"
     ]
    },
    {
     "name": "stderr",
     "output_type": "stream",
     "text": [
      "\u001b[2m\u001b[36m(export_pseudobulk_ray pid=3625804)\u001b[0m /tmp/ipykernel_3615626/2558041373.py:272: FutureWarning: The frame.append method is deprecated and will be removed from pandas in a future version. Use pandas.concat instead.\n"
     ]
    },
    {
     "name": "stdout",
     "output_type": "stream",
     "text": [
      "\u001b[2m\u001b[36m(export_pseudobulk_ray pid=3625804)\u001b[0m 2023-03-06 22:48:27,393 cisTopic     INFO     mtscatac_sampleA_Naturalkillercell done!\n",
      "\u001b[2m\u001b[36m(export_pseudobulk_ray pid=3625804)\u001b[0m 2023-03-06 22:50:13,772 cisTopic     INFO     Creating pseudobulk for mtscatac_sampleB_Bcell\n"
     ]
    },
    {
     "name": "stderr",
     "output_type": "stream",
     "text": [
      "\u001b[2m\u001b[36m(export_pseudobulk_ray pid=3625804)\u001b[0m /tmp/ipykernel_3615626/2558041373.py:272: FutureWarning: The frame.append method is deprecated and will be removed from pandas in a future version. Use pandas.concat instead.\n"
     ]
    },
    {
     "name": "stdout",
     "output_type": "stream",
     "text": [
      "\u001b[2m\u001b[36m(export_pseudobulk_ray pid=3625804)\u001b[0m 2023-03-06 22:52:04,433 cisTopic     INFO     mtscatac_sampleB_Bcell done!\n",
      "\u001b[2m\u001b[36m(export_pseudobulk_ray pid=3625804)\u001b[0m 2023-03-06 22:52:57,061 cisTopic     INFO     Creating pseudobulk for mtscatac_sampleB_CD14_monocyte\n"
     ]
    },
    {
     "name": "stderr",
     "output_type": "stream",
     "text": [
      "\u001b[2m\u001b[36m(export_pseudobulk_ray pid=3625804)\u001b[0m /tmp/ipykernel_3615626/2558041373.py:272: FutureWarning: The frame.append method is deprecated and will be removed from pandas in a future version. Use pandas.concat instead.\n"
     ]
    },
    {
     "name": "stdout",
     "output_type": "stream",
     "text": [
      "\u001b[2m\u001b[36m(export_pseudobulk_ray pid=3625800)\u001b[0m 2023-03-06 22:55:37,558 cisTopic     INFO     Creating pseudobulk for mtscatac_sampleB_CD16_monocyte\n"
     ]
    },
    {
     "name": "stderr",
     "output_type": "stream",
     "text": [
      "\u001b[2m\u001b[36m(export_pseudobulk_ray pid=3625800)\u001b[0m /tmp/ipykernel_3615626/2558041373.py:272: FutureWarning: The frame.append method is deprecated and will be removed from pandas in a future version. Use pandas.concat instead.\n"
     ]
    },
    {
     "name": "stdout",
     "output_type": "stream",
     "text": [
      "\u001b[2m\u001b[36m(export_pseudobulk_ray pid=3625800)\u001b[0m 2023-03-06 22:56:06,315 cisTopic     INFO     mtscatac_sampleB_CD16_monocyte done!\n",
      "\u001b[2m\u001b[36m(export_pseudobulk_ray pid=3625800)\u001b[0m 2023-03-06 22:58:17,658 cisTopic     INFO     Creating pseudobulk for mtscatac_sampleB_CD4_Tcell\n",
      "\u001b[2m\u001b[36m(export_pseudobulk_ray pid=3625804)\u001b[0m 2023-03-06 22:58:23,473 cisTopic     INFO     mtscatac_sampleB_CD14_monocyte done!\n"
     ]
    },
    {
     "name": "stderr",
     "output_type": "stream",
     "text": [
      "\u001b[2m\u001b[36m(export_pseudobulk_ray pid=3625800)\u001b[0m /tmp/ipykernel_3615626/2558041373.py:272: FutureWarning: The frame.append method is deprecated and will be removed from pandas in a future version. Use pandas.concat instead.\n"
     ]
    },
    {
     "name": "stdout",
     "output_type": "stream",
     "text": [
      "\u001b[2m\u001b[36m(export_pseudobulk_ray pid=3625804)\u001b[0m 2023-03-06 23:00:56,721 cisTopic     INFO     Creating pseudobulk for mtscatac_sampleB_CytotoxicTcell\n"
     ]
    },
    {
     "name": "stderr",
     "output_type": "stream",
     "text": [
      "\u001b[2m\u001b[36m(export_pseudobulk_ray pid=3625804)\u001b[0m /tmp/ipykernel_3615626/2558041373.py:272: FutureWarning: The frame.append method is deprecated and will be removed from pandas in a future version. Use pandas.concat instead.\n"
     ]
    },
    {
     "name": "stdout",
     "output_type": "stream",
     "text": [
      "\u001b[2m\u001b[36m(export_pseudobulk_ray pid=3625800)\u001b[0m 2023-03-06 23:03:07,982 cisTopic     INFO     mtscatac_sampleB_CD4_Tcell done!\n",
      "\u001b[2m\u001b[36m(export_pseudobulk_ray pid=3625800)\u001b[0m 2023-03-06 23:03:39,991 cisTopic     INFO     Creating pseudobulk for mtscatac_sampleB_Dendriticcell\n",
      "\u001b[2m\u001b[36m(export_pseudobulk_ray pid=3625804)\u001b[0m 2023-03-06 23:03:48,058 cisTopic     INFO     mtscatac_sampleB_CytotoxicTcell done!\n"
     ]
    },
    {
     "name": "stderr",
     "output_type": "stream",
     "text": [
      "\u001b[2m\u001b[36m(export_pseudobulk_ray pid=3625800)\u001b[0m /tmp/ipykernel_3615626/2558041373.py:272: FutureWarning: The frame.append method is deprecated and will be removed from pandas in a future version. Use pandas.concat instead.\n"
     ]
    },
    {
     "name": "stdout",
     "output_type": "stream",
     "text": [
      "\u001b[2m\u001b[36m(export_pseudobulk_ray pid=3625800)\u001b[0m 2023-03-06 23:04:13,837 cisTopic     INFO     mtscatac_sampleB_Dendriticcell done!\n",
      "\u001b[2m\u001b[36m(export_pseudobulk_ray pid=3625800)\u001b[0m 2023-03-06 23:06:27,726 cisTopic     INFO     Creating pseudobulk for mtscatac_sampleB_Naturalkillercell\n"
     ]
    },
    {
     "name": "stderr",
     "output_type": "stream",
     "text": [
      "\u001b[2m\u001b[36m(export_pseudobulk_ray pid=3625800)\u001b[0m /tmp/ipykernel_3615626/2558041373.py:272: FutureWarning: The frame.append method is deprecated and will be removed from pandas in a future version. Use pandas.concat instead.\n"
     ]
    },
    {
     "name": "stdout",
     "output_type": "stream",
     "text": [
      "\u001b[2m\u001b[36m(export_pseudobulk_ray pid=3625800)\u001b[0m 2023-03-06 23:07:19,873 cisTopic     INFO     mtscatac_sampleB_Naturalkillercell done!\n",
      "\u001b[2m\u001b[36m(export_pseudobulk_ray pid=3625800)\u001b[0m 2023-03-06 23:09:13,058 cisTopic     INFO     Creating pseudobulk for s3atac_sampleA_Bcell\n"
     ]
    },
    {
     "name": "stderr",
     "output_type": "stream",
     "text": [
      "\u001b[2m\u001b[36m(export_pseudobulk_ray pid=3625800)\u001b[0m /tmp/ipykernel_3615626/2558041373.py:272: FutureWarning: The frame.append method is deprecated and will be removed from pandas in a future version. Use pandas.concat instead.\n"
     ]
    },
    {
     "name": "stdout",
     "output_type": "stream",
     "text": [
      "\u001b[2m\u001b[36m(export_pseudobulk_ray pid=3625800)\u001b[0m 2023-03-06 23:10:01,333 cisTopic     INFO     s3atac_sampleA_Bcell done!\n",
      "\u001b[2m\u001b[36m(export_pseudobulk_ray pid=3625800)\u001b[0m 2023-03-06 23:11:54,843 cisTopic     INFO     Creating pseudobulk for s3atac_sampleA_CD14_monocyte\n"
     ]
    },
    {
     "name": "stderr",
     "output_type": "stream",
     "text": [
      "\u001b[2m\u001b[36m(export_pseudobulk_ray pid=3625800)\u001b[0m /tmp/ipykernel_3615626/2558041373.py:272: FutureWarning: The frame.append method is deprecated and will be removed from pandas in a future version. Use pandas.concat instead.\n"
     ]
    },
    {
     "name": "stdout",
     "output_type": "stream",
     "text": [
      "\u001b[2m\u001b[36m(export_pseudobulk_ray pid=3625800)\u001b[0m 2023-03-06 23:13:23,505 cisTopic     INFO     s3atac_sampleA_CD14_monocyte done!\n",
      "\u001b[2m\u001b[36m(export_pseudobulk_ray pid=3625800)\u001b[0m 2023-03-06 23:14:39,694 cisTopic     INFO     Creating pseudobulk for s3atac_sampleA_CD16_monocyte\n"
     ]
    },
    {
     "name": "stderr",
     "output_type": "stream",
     "text": [
      "\u001b[2m\u001b[36m(export_pseudobulk_ray pid=3625800)\u001b[0m /tmp/ipykernel_3615626/2558041373.py:272: FutureWarning: The frame.append method is deprecated and will be removed from pandas in a future version. Use pandas.concat instead.\n"
     ]
    },
    {
     "name": "stdout",
     "output_type": "stream",
     "text": [
      "\u001b[2m\u001b[36m(export_pseudobulk_ray pid=3625800)\u001b[0m 2023-03-06 23:15:03,034 cisTopic     INFO     s3atac_sampleA_CD16_monocyte done!\n",
      "\u001b[2m\u001b[36m(export_pseudobulk_ray pid=3625800)\u001b[0m 2023-03-06 23:17:30,492 cisTopic     INFO     Creating pseudobulk for s3atac_sampleA_CD4_Tcell\n"
     ]
    },
    {
     "name": "stderr",
     "output_type": "stream",
     "text": [
      "\u001b[2m\u001b[36m(export_pseudobulk_ray pid=3625800)\u001b[0m /tmp/ipykernel_3615626/2558041373.py:272: FutureWarning: The frame.append method is deprecated and will be removed from pandas in a future version. Use pandas.concat instead.\n"
     ]
    },
    {
     "name": "stdout",
     "output_type": "stream",
     "text": [
      "\u001b[2m\u001b[36m(export_pseudobulk_ray pid=3625800)\u001b[0m 2023-03-06 23:18:00,893 cisTopic     INFO     s3atac_sampleA_CD4_Tcell done!\n",
      "\u001b[2m\u001b[36m(export_pseudobulk_ray pid=3625800)\u001b[0m 2023-03-06 23:20:14,908 cisTopic     INFO     Creating pseudobulk for s3atac_sampleA_CytotoxicTcell\n"
     ]
    },
    {
     "name": "stderr",
     "output_type": "stream",
     "text": [
      "\u001b[2m\u001b[36m(export_pseudobulk_ray pid=3625800)\u001b[0m /tmp/ipykernel_3615626/2558041373.py:272: FutureWarning: The frame.append method is deprecated and will be removed from pandas in a future version. Use pandas.concat instead.\n"
     ]
    },
    {
     "name": "stdout",
     "output_type": "stream",
     "text": [
      "\u001b[2m\u001b[36m(export_pseudobulk_ray pid=3625800)\u001b[0m 2023-03-06 23:22:12,075 cisTopic     INFO     s3atac_sampleA_CytotoxicTcell done!\n",
      "\u001b[2m\u001b[36m(export_pseudobulk_ray pid=3625800)\u001b[0m 2023-03-06 23:22:53,873 cisTopic     INFO     Creating pseudobulk for s3atac_sampleA_Dendriticcell\n"
     ]
    },
    {
     "name": "stderr",
     "output_type": "stream",
     "text": [
      "\u001b[2m\u001b[36m(export_pseudobulk_ray pid=3625800)\u001b[0m /tmp/ipykernel_3615626/2558041373.py:272: FutureWarning: The frame.append method is deprecated and will be removed from pandas in a future version. Use pandas.concat instead.\n"
     ]
    },
    {
     "name": "stdout",
     "output_type": "stream",
     "text": [
      "\u001b[2m\u001b[36m(export_pseudobulk_ray pid=3625800)\u001b[0m 2023-03-06 23:23:15,312 cisTopic     INFO     s3atac_sampleA_Dendriticcell done!\n",
      "\u001b[2m\u001b[36m(export_pseudobulk_ray pid=3625800)\u001b[0m 2023-03-06 23:25:37,795 cisTopic     INFO     Creating pseudobulk for s3atac_sampleA_Naturalkillercell\n"
     ]
    },
    {
     "name": "stderr",
     "output_type": "stream",
     "text": [
      "\u001b[2m\u001b[36m(export_pseudobulk_ray pid=3625800)\u001b[0m /tmp/ipykernel_3615626/2558041373.py:272: FutureWarning: The frame.append method is deprecated and will be removed from pandas in a future version. Use pandas.concat instead.\n"
     ]
    },
    {
     "name": "stdout",
     "output_type": "stream",
     "text": [
      "\u001b[2m\u001b[36m(export_pseudobulk_ray pid=3625800)\u001b[0m 2023-03-06 23:26:13,343 cisTopic     INFO     s3atac_sampleA_Naturalkillercell done!\n",
      "\u001b[2m\u001b[36m(export_pseudobulk_ray pid=3625800)\u001b[0m 2023-03-06 23:28:18,101 cisTopic     INFO     Creating pseudobulk for s3atac_sampleB_Bcell\n"
     ]
    },
    {
     "name": "stderr",
     "output_type": "stream",
     "text": [
      "\u001b[2m\u001b[36m(export_pseudobulk_ray pid=3625800)\u001b[0m /tmp/ipykernel_3615626/2558041373.py:272: FutureWarning: The frame.append method is deprecated and will be removed from pandas in a future version. Use pandas.concat instead.\n"
     ]
    },
    {
     "name": "stdout",
     "output_type": "stream",
     "text": [
      "\u001b[2m\u001b[36m(export_pseudobulk_ray pid=3625800)\u001b[0m 2023-03-06 23:28:56,124 cisTopic     INFO     s3atac_sampleB_Bcell done!\n",
      "\u001b[2m\u001b[36m(export_pseudobulk_ray pid=3625800)\u001b[0m 2023-03-06 23:31:01,753 cisTopic     INFO     Creating pseudobulk for s3atac_sampleB_CD14_monocyte\n"
     ]
    },
    {
     "name": "stderr",
     "output_type": "stream",
     "text": [
      "\u001b[2m\u001b[36m(export_pseudobulk_ray pid=3625800)\u001b[0m /tmp/ipykernel_3615626/2558041373.py:272: FutureWarning: The frame.append method is deprecated and will be removed from pandas in a future version. Use pandas.concat instead.\n"
     ]
    },
    {
     "name": "stdout",
     "output_type": "stream",
     "text": [
      "\u001b[2m\u001b[36m(export_pseudobulk_ray pid=3625800)\u001b[0m 2023-03-06 23:32:40,912 cisTopic     INFO     s3atac_sampleB_CD14_monocyte done!\n",
      "\u001b[2m\u001b[36m(export_pseudobulk_ray pid=3625800)\u001b[0m 2023-03-06 23:33:45,907 cisTopic     INFO     Creating pseudobulk for s3atac_sampleB_CD16_monocyte\n"
     ]
    },
    {
     "name": "stderr",
     "output_type": "stream",
     "text": [
      "\u001b[2m\u001b[36m(export_pseudobulk_ray pid=3625800)\u001b[0m /tmp/ipykernel_3615626/2558041373.py:272: FutureWarning: The frame.append method is deprecated and will be removed from pandas in a future version. Use pandas.concat instead.\n"
     ]
    },
    {
     "name": "stdout",
     "output_type": "stream",
     "text": [
      "\u001b[2m\u001b[36m(export_pseudobulk_ray pid=3625800)\u001b[0m 2023-03-06 23:34:05,573 cisTopic     INFO     s3atac_sampleB_CD16_monocyte done!\n",
      "\u001b[2m\u001b[36m(export_pseudobulk_ray pid=3625800)\u001b[0m 2023-03-06 23:36:21,743 cisTopic     INFO     Creating pseudobulk for s3atac_sampleB_CD4_Tcell\n"
     ]
    },
    {
     "name": "stderr",
     "output_type": "stream",
     "text": [
      "\u001b[2m\u001b[36m(export_pseudobulk_ray pid=3625800)\u001b[0m /tmp/ipykernel_3615626/2558041373.py:272: FutureWarning: The frame.append method is deprecated and will be removed from pandas in a future version. Use pandas.concat instead.\n"
     ]
    },
    {
     "name": "stdout",
     "output_type": "stream",
     "text": [
      "\u001b[2m\u001b[36m(export_pseudobulk_ray pid=3625800)\u001b[0m 2023-03-06 23:36:54,599 cisTopic     INFO     s3atac_sampleB_CD4_Tcell done!\n",
      "\u001b[2m\u001b[36m(export_pseudobulk_ray pid=3625800)\u001b[0m 2023-03-06 23:39:00,910 cisTopic     INFO     Creating pseudobulk for s3atac_sampleB_CytotoxicTcell\n"
     ]
    },
    {
     "name": "stderr",
     "output_type": "stream",
     "text": [
      "\u001b[2m\u001b[36m(export_pseudobulk_ray pid=3625800)\u001b[0m /tmp/ipykernel_3615626/2558041373.py:272: FutureWarning: The frame.append method is deprecated and will be removed from pandas in a future version. Use pandas.concat instead.\n"
     ]
    },
    {
     "name": "stdout",
     "output_type": "stream",
     "text": [
      "\u001b[2m\u001b[36m(export_pseudobulk_ray pid=3625800)\u001b[0m 2023-03-06 23:40:25,545 cisTopic     INFO     s3atac_sampleB_CytotoxicTcell done!\n",
      "\u001b[2m\u001b[36m(export_pseudobulk_ray pid=3625800)\u001b[0m 2023-03-06 23:41:43,338 cisTopic     INFO     Creating pseudobulk for s3atac_sampleB_Dendriticcell\n"
     ]
    },
    {
     "name": "stderr",
     "output_type": "stream",
     "text": [
      "\u001b[2m\u001b[36m(export_pseudobulk_ray pid=3625800)\u001b[0m /tmp/ipykernel_3615626/2558041373.py:272: FutureWarning: The frame.append method is deprecated and will be removed from pandas in a future version. Use pandas.concat instead.\n"
     ]
    },
    {
     "name": "stdout",
     "output_type": "stream",
     "text": [
      "\u001b[2m\u001b[36m(export_pseudobulk_ray pid=3625800)\u001b[0m 2023-03-06 23:42:28,966 cisTopic     INFO     s3atac_sampleB_Dendriticcell done!\n",
      "\u001b[2m\u001b[36m(export_pseudobulk_ray pid=3625800)\u001b[0m 2023-03-06 23:45:23,065 cisTopic     INFO     Creating pseudobulk for s3atac_sampleB_Naturalkillercell\n"
     ]
    },
    {
     "name": "stderr",
     "output_type": "stream",
     "text": [
      "\u001b[2m\u001b[36m(export_pseudobulk_ray pid=3625800)\u001b[0m /tmp/ipykernel_3615626/2558041373.py:272: FutureWarning: The frame.append method is deprecated and will be removed from pandas in a future version. Use pandas.concat instead.\n"
     ]
    }
   ],
   "source": [
    "# for sample in [\"BRO_mtscatac_1.LIBDS\"]:\n",
    "bw_paths_dict = {}\n",
    "bed_paths_dict = {}\n",
    "\n",
    "import ray\n",
    "\n",
    "if ray.is_initialized():\n",
    "    print(\"Shutting down Ray\")\n",
    "    ray.shutdown()\n",
    "\n",
    "for sample in cto_consensus_path_dict.keys():\n",
    "    # for sample in [\"BRO_mtscatac_1.LIBDS\"]:\n",
    "    bed_path = os.path.join(\n",
    "        \"male_female_coverage\", f\"{sample}__SCREEN_pseudobulk_bed_files\"\n",
    "    )\n",
    "    bw_path = os.path.join(\n",
    "        \"male_female_coverage\", f\"{sample}__SCREEN_pseudobulk_bw_files\"\n",
    "    )\n",
    "    if not os.path.exists(bed_path):\n",
    "        # cto_path = cto_consensus_path_dict[sample]\n",
    "        # with open(cto_path, \"rb\") as f:\n",
    "        #     cto = pickle.load(f)\n",
    "\n",
    "        bw_paths, bed_paths = export_pseudobulk(\n",
    "            input_data=cto,\n",
    "            variable=\"tech_fmx_sample__harmony_consensus_cell_type__mega\",\n",
    "            sample_id_col=\"sample_id\",\n",
    "            chromsizes=chromsizes,\n",
    "            bed_path=bed_path,\n",
    "            bigwig_path=bw_path,\n",
    "            path_to_fragments=fragments_path_dict,\n",
    "            n_cpu=72,\n",
    "            normalize_bigwig=False,\n",
    "            remove_duplicates=True,\n",
    "        )\n",
    "\n",
    "        if ray.is_initialized():\n",
    "            print(\"Shutting down Ray\")\n",
    "            ray.shutdown()\n",
    "    else:\n",
    "        print(f\"{bed_path} exists, skipping...\")"
   ]
  },
  {
   "cell_type": "code",
   "execution_count": null,
   "id": "36436abd-b414-47f8-b4de-a99564d9fc70",
   "metadata": {},
   "outputs": [],
   "source": []
  },
  {
   "cell_type": "markdown",
   "id": "38254f4d-7ec1-44ed-9910-9f50b79d1a98",
   "metadata": {},
   "source": [
    "# Plot"
   ]
  },
  {
   "cell_type": "code",
   "execution_count": 4,
   "id": "57453bf0-9a32-490c-a2e3-0b3b533e6513",
   "metadata": {
    "execution": {
     "iopub.execute_input": "2023-03-07T17:44:30.173525Z",
     "iopub.status.busy": "2023-03-07T17:44:30.173296Z",
     "iopub.status.idle": "2023-03-07T17:46:45.800955Z",
     "shell.execute_reply": "2023-03-07T17:46:45.799515Z",
     "shell.execute_reply.started": "2023-03-07T17:44:30.173502Z"
    },
    "tags": []
   },
   "outputs": [
    {
     "name": "stdout",
     "output_type": "stream",
     "text": [
      "The lab_black extension is already loaded. To reload it, use:\n",
      "  %reload_ext lab_black\n"
     ]
    }
   ],
   "source": [
    "import matplotlib as mpl\n",
    "import matplotlib.gridspec as gridspec\n",
    "import matplotlib.pyplot as plt\n",
    "import matplotlib.patches as mpatches\n",
    "import numpy as np\n",
    "import pyBigWig\n",
    "import seaborn as sns\n",
    "from pybedtools import BedTool\n",
    "import re\n",
    "\n",
    "import glob as glob\n",
    "import pandas as pd\n",
    "import matplotlib.pyplot as plt\n",
    "from collections import OrderedDict\n",
    "\n",
    "%load_ext lab_black"
   ]
  },
  {
   "cell_type": "code",
   "execution_count": 7,
   "id": "fd649244-b2ad-4e07-9813-d2efb0cd8b92",
   "metadata": {
    "execution": {
     "iopub.execute_input": "2023-03-07T17:47:03.086372Z",
     "iopub.status.busy": "2023-03-07T17:47:03.085717Z",
     "iopub.status.idle": "2023-03-07T17:47:03.093645Z",
     "shell.execute_reply": "2023-03-07T17:47:03.092258Z",
     "shell.execute_reply.started": "2023-03-07T17:47:03.086310Z"
    },
    "tags": []
   },
   "outputs": [],
   "source": [
    "import pybedtools"
   ]
  },
  {
   "cell_type": "code",
   "execution_count": 8,
   "id": "08294e81-c815-4b7d-8c54-cddb695b1640",
   "metadata": {
    "execution": {
     "iopub.execute_input": "2023-03-07T17:47:03.395823Z",
     "iopub.status.busy": "2023-03-07T17:47:03.395202Z",
     "iopub.status.idle": "2023-03-07T17:47:03.405737Z",
     "shell.execute_reply": "2023-03-07T17:47:03.404378Z",
     "shell.execute_reply.started": "2023-03-07T17:47:03.395761Z"
    },
    "tags": []
   },
   "outputs": [
    {
     "data": {
      "text/plain": [
       "'0.8.1'"
      ]
     },
     "execution_count": 8,
     "metadata": {},
     "output_type": "execute_result"
    }
   ],
   "source": [
    "pybedtools.__version__"
   ]
  },
  {
   "cell_type": "code",
   "execution_count": 47,
   "id": "24a7adf8-9e1c-4003-b605-ea6fc60effaf",
   "metadata": {
    "execution": {
     "iopub.execute_input": "2023-03-07T17:53:40.565753Z",
     "iopub.status.busy": "2023-03-07T17:53:40.565081Z",
     "iopub.status.idle": "2023-03-07T17:53:40.590363Z",
     "shell.execute_reply": "2023-03-07T17:53:40.589187Z",
     "shell.execute_reply.started": "2023-03-07T17:53:40.565691Z"
    },
    "tags": []
   },
   "outputs": [
    {
     "data": {
      "text/plain": [
       "{'hydrop_sampleB_Cytotoxic_T_cell': 'downstream_analysis_male_female_countfair/DARs/merged_male_female_cellcountfair__hydrop_sampleB_Cytotoxic_T_cell_VS_hydrop_sampleA_Cytotoxic_T_cell__DARs_1-0xfc.bed',\n",
       " 's3atac_sampleB_Cytotoxic_T_cell': 'downstream_analysis_male_female_countfair/DARs/merged_male_female_cellcountfair__s3atac_sampleB_Cytotoxic_T_cell_VS_s3atac_sampleA_Cytotoxic_T_cell__DARs_1-0xfc.bed',\n",
       " '10xv2_sampleB_Cytotoxic_T_cell': 'downstream_analysis_male_female_countfair/DARs/merged_male_female_cellcountfair__10xv2_sampleB_Cytotoxic_T_cell_VS_10xv2_sampleA_Cytotoxic_T_cell__DARs_1-0xfc.bed',\n",
       " 'mtscatac_sampleA_Cytotoxic_T_cell': 'downstream_analysis_male_female_countfair/DARs/merged_male_female_cellcountfair__mtscatac_sampleA_Cytotoxic_T_cell_VS_mtscatac_sampleB_Cytotoxic_T_cell__DARs_1-0xfc.bed',\n",
       " 's3atac_sampleA_Cytotoxic_T_cell': 'downstream_analysis_male_female_countfair/DARs/merged_male_female_cellcountfair__s3atac_sampleA_Cytotoxic_T_cell_VS_s3atac_sampleB_Cytotoxic_T_cell__DARs_1-0xfc.bed',\n",
       " 'ddseq_sampleA_Cytotoxic_T_cell': 'downstream_analysis_male_female_countfair/DARs/merged_male_female_cellcountfair__ddseq_sampleA_Cytotoxic_T_cell_VS_ddseq_sampleB_Cytotoxic_T_cell__DARs_1-0xfc.bed',\n",
       " '10xmultiome_sampleA_Cytotoxic_T_cell': 'downstream_analysis_male_female_countfair/DARs/merged_male_female_cellcountfair__10xmultiome_sampleA_Cytotoxic_T_cell_VS_10xmultiome_sampleB_Cytotoxic_T_cell__DARs_1-0xfc.bed',\n",
       " '10xv2_sampleA_Cytotoxic_T_cell': 'downstream_analysis_male_female_countfair/DARs/merged_male_female_cellcountfair__10xv2_sampleA_Cytotoxic_T_cell_VS_10xv2_sampleB_Cytotoxic_T_cell__DARs_1-0xfc.bed',\n",
       " '10xv1_sampleB_Cytotoxic_T_cell': 'downstream_analysis_male_female_countfair/DARs/merged_male_female_cellcountfair__10xv1_sampleB_Cytotoxic_T_cell_VS_10xv1_sampleA_Cytotoxic_T_cell__DARs_1-0xfc.bed',\n",
       " '10xv1_sampleA_Cytotoxic_T_cell': 'downstream_analysis_male_female_countfair/DARs/merged_male_female_cellcountfair__10xv1_sampleA_Cytotoxic_T_cell_VS_10xv1_sampleB_Cytotoxic_T_cell__DARs_1-0xfc.bed',\n",
       " '10xmultiome_sampleB_Cytotoxic_T_cell': 'downstream_analysis_male_female_countfair/DARs/merged_male_female_cellcountfair__10xmultiome_sampleB_Cytotoxic_T_cell_VS_10xmultiome_sampleA_Cytotoxic_T_cell__DARs_1-0xfc.bed',\n",
       " 'ddseq_sampleB_Cytotoxic_T_cell': 'downstream_analysis_male_female_countfair/DARs/merged_male_female_cellcountfair__ddseq_sampleB_Cytotoxic_T_cell_VS_ddseq_sampleA_Cytotoxic_T_cell__DARs_1-0xfc.bed',\n",
       " '10xv11_sampleA_Cytotoxic_T_cell': 'downstream_analysis_male_female_countfair/DARs/merged_male_female_cellcountfair__10xv11_sampleA_Cytotoxic_T_cell_VS_10xv11_sampleB_Cytotoxic_T_cell__DARs_1-0xfc.bed',\n",
       " 'mtscatac_sampleB_Cytotoxic_T_cell': 'downstream_analysis_male_female_countfair/DARs/merged_male_female_cellcountfair__mtscatac_sampleB_Cytotoxic_T_cell_VS_mtscatac_sampleA_Cytotoxic_T_cell__DARs_1-0xfc.bed',\n",
       " 'hydrop_sampleA_Cytotoxic_T_cell': 'downstream_analysis_male_female_countfair/DARs/merged_male_female_cellcountfair__hydrop_sampleA_Cytotoxic_T_cell_VS_hydrop_sampleB_Cytotoxic_T_cell__DARs_1-0xfc.bed',\n",
       " '10xv11_sampleB_Cytotoxic_T_cell': 'downstream_analysis_male_female_countfair/DARs/merged_male_female_cellcountfair__10xv11_sampleB_Cytotoxic_T_cell_VS_10xv11_sampleA_Cytotoxic_T_cell__DARs_1-0xfc.bed'}"
      ]
     },
     "execution_count": 47,
     "metadata": {},
     "output_type": "execute_result"
    }
   ],
   "source": [
    "merged_dar_path_dict = {\n",
    "    x.split(\"/\")[-1].split(\"__\")[1].split(\"_VS\")[0]: x\n",
    "    for x in glob.glob(\n",
    "        \"downstream_analysis_male_female_countfair/DARs/*Cytotoxic_T_cell*fc.bed\"\n",
    "    )\n",
    "}\n",
    "merged_dar_path_dict"
   ]
  },
  {
   "cell_type": "code",
   "execution_count": 48,
   "id": "abe52a2a-00c4-4154-b1d4-42a81890b111",
   "metadata": {
    "execution": {
     "iopub.execute_input": "2023-03-07T17:53:42.114633Z",
     "iopub.status.busy": "2023-03-07T17:53:42.113997Z",
     "iopub.status.idle": "2023-03-07T17:53:42.574908Z",
     "shell.execute_reply": "2023-03-07T17:53:42.574081Z",
     "shell.execute_reply.started": "2023-03-07T17:53:42.114569Z"
    },
    "tags": []
   },
   "outputs": [
    {
     "name": "stdout",
     "output_type": "stream",
     "text": [
      "hydrop_sampleB_Cytotoxic_T_cell\n",
      "s3atac_sampleB_Cytotoxic_T_cell\n",
      "10xv2_sampleB_Cytotoxic_T_cell\n",
      "mtscatac_sampleA_Cytotoxic_T_cell\n",
      "s3atac_sampleA_Cytotoxic_T_cell\n",
      "ddseq_sampleA_Cytotoxic_T_cell\n",
      "10xmultiome_sampleA_Cytotoxic_T_cell\n",
      "10xv2_sampleA_Cytotoxic_T_cell\n",
      "10xv1_sampleB_Cytotoxic_T_cell\n",
      "10xv1_sampleA_Cytotoxic_T_cell\n",
      "10xmultiome_sampleB_Cytotoxic_T_cell\n",
      "ddseq_sampleB_Cytotoxic_T_cell\n",
      "10xv11_sampleA_Cytotoxic_T_cell\n",
      "mtscatac_sampleB_Cytotoxic_T_cell\n",
      "hydrop_sampleA_Cytotoxic_T_cell\n",
      "10xv11_sampleB_Cytotoxic_T_cell\n"
     ]
    },
    {
     "data": {
      "text/plain": [
       "OrderedDict([('hydrop_sampleB_Cytotoxic_T_cell',\n",
       "              'chr14_GL000225v1_random:133488-133988'),\n",
       "             ('s3atac_sampleB_Cytotoxic_T_cell', 'chr5:158234412-158234912'),\n",
       "             ('10xv2_sampleB_Cytotoxic_T_cell', 'chr20:16158577-16159077'),\n",
       "             ('mtscatac_sampleA_Cytotoxic_T_cell', 'chr8:47644134-47644634'),\n",
       "             ('s3atac_sampleA_Cytotoxic_T_cell', 'chr5:155767413-155767913'),\n",
       "             ('ddseq_sampleA_Cytotoxic_T_cell', 'chr9:104780066-104780566'),\n",
       "             ('10xmultiome_sampleA_Cytotoxic_T_cell',\n",
       "              'chr6:45584034-45584534'),\n",
       "             ('10xv2_sampleA_Cytotoxic_T_cell', 'chr7:102408438-102408938'),\n",
       "             ('10xv1_sampleB_Cytotoxic_T_cell', 'chr5:135246846-135247346'),\n",
       "             ('10xv1_sampleA_Cytotoxic_T_cell', 'chr8:47644134-47644634'),\n",
       "             ('10xmultiome_sampleB_Cytotoxic_T_cell',\n",
       "              'chr12:124664587-124665087'),\n",
       "             ('ddseq_sampleB_Cytotoxic_T_cell', 'chr2:238003558-238004058'),\n",
       "             ('10xv11_sampleA_Cytotoxic_T_cell', 'chr7:102408438-102408938'),\n",
       "             ('mtscatac_sampleB_Cytotoxic_T_cell', 'chr1:203295753-203296253'),\n",
       "             ('hydrop_sampleA_Cytotoxic_T_cell', 'chr8:47644134-47644634'),\n",
       "             ('10xv11_sampleB_Cytotoxic_T_cell', 'chr5:149062347-149062847')])"
      ]
     },
     "execution_count": 48,
     "metadata": {},
     "output_type": "execute_result"
    }
   ],
   "source": [
    "regions_dict = OrderedDict({})\n",
    "regions_maxstr_dict = {}\n",
    "for supersample, path in merged_dar_path_dict.items():\n",
    "    print(supersample)\n",
    "    df = pd.read_csv(path, sep=\"\\t\", header=None)\n",
    "    df.columns = \"chrom start end cell_type log2fc strand p_val\".split()\n",
    "    # print(df.iloc[0])\n",
    "\n",
    "    cell_type = supersample.split(\"__\")[-1]\n",
    "    region = f\"{df.iloc[0]['chrom']}:{df.iloc[0]['start']}-{df.iloc[0]['end']}\"\n",
    "    regions_dict[cell_type] = region\n",
    "    regions_maxstr_dict[cell_type] = df.iloc[0][\"log2fc\"]\n",
    "\n",
    "regions_dict"
   ]
  },
  {
   "cell_type": "code",
   "execution_count": 49,
   "id": "6d4ef62e-6bc1-428f-9d74-c89781c0153a",
   "metadata": {
    "execution": {
     "iopub.execute_input": "2023-03-07T17:53:51.306072Z",
     "iopub.status.busy": "2023-03-07T17:53:51.305440Z",
     "iopub.status.idle": "2023-03-07T17:53:51.317366Z",
     "shell.execute_reply": "2023-03-07T17:53:51.315966Z",
     "shell.execute_reply.started": "2023-03-07T17:53:51.306010Z"
    },
    "tags": []
   },
   "outputs": [
    {
     "data": {
      "text/plain": [
       "{'hydrop_sampleB_Cytotoxic_T_cell': 0.9843927099531742,\n",
       " 's3atac_sampleB_Cytotoxic_T_cell': 0.6487396903079914,\n",
       " '10xv2_sampleB_Cytotoxic_T_cell': 1.814721837658971,\n",
       " 'mtscatac_sampleA_Cytotoxic_T_cell': 0.8400013306157175,\n",
       " 's3atac_sampleA_Cytotoxic_T_cell': 0.8902853527602216,\n",
       " 'ddseq_sampleA_Cytotoxic_T_cell': 2.855163762621557,\n",
       " '10xmultiome_sampleA_Cytotoxic_T_cell': 0.7467226122848554,\n",
       " '10xv2_sampleA_Cytotoxic_T_cell': 0.7943653074414415,\n",
       " '10xv1_sampleB_Cytotoxic_T_cell': 2.2134068579806008,\n",
       " '10xv1_sampleA_Cytotoxic_T_cell': 0.8152837713690407,\n",
       " '10xmultiome_sampleB_Cytotoxic_T_cell': 1.3906592169707173,\n",
       " 'ddseq_sampleB_Cytotoxic_T_cell': 1.1098011738501738,\n",
       " '10xv11_sampleA_Cytotoxic_T_cell': 0.7635289003973285,\n",
       " 'mtscatac_sampleB_Cytotoxic_T_cell': 0.8979345101622968,\n",
       " 'hydrop_sampleA_Cytotoxic_T_cell': 0.9492210488928268,\n",
       " '10xv11_sampleB_Cytotoxic_T_cell': 1.489580484219768}"
      ]
     },
     "execution_count": 49,
     "metadata": {},
     "output_type": "execute_result"
    }
   ],
   "source": [
    "regions_maxstr_dict"
   ]
  },
  {
   "cell_type": "code",
   "execution_count": 51,
   "id": "961d7176-b99d-435c-ac2a-46953470dcc2",
   "metadata": {
    "execution": {
     "iopub.execute_input": "2023-03-07T17:53:55.547533Z",
     "iopub.status.busy": "2023-03-07T17:53:55.546898Z",
     "iopub.status.idle": "2023-03-07T17:53:55.553790Z",
     "shell.execute_reply": "2023-03-07T17:53:55.552398Z",
     "shell.execute_reply.started": "2023-03-07T17:53:55.547471Z"
    },
    "tags": []
   },
   "outputs": [],
   "source": [
    "# use --> ddseq_sampleA_Cytotoxic_T_cell and 10xv1_sampleB_Cytotoxic_T_cell"
   ]
  },
  {
   "cell_type": "code",
   "execution_count": 52,
   "id": "f91710b3-06d1-43c0-99b5-b2baf94c1d82",
   "metadata": {
    "execution": {
     "iopub.execute_input": "2023-03-07T17:53:56.664182Z",
     "iopub.status.busy": "2023-03-07T17:53:56.663553Z",
     "iopub.status.idle": "2023-03-07T17:53:56.708933Z",
     "shell.execute_reply": "2023-03-07T17:53:56.708042Z",
     "shell.execute_reply.started": "2023-03-07T17:53:56.664120Z"
    },
    "tags": []
   },
   "outputs": [],
   "source": [
    "tech_color_palette = {\n",
    "    \"10xv2\": \"#1b9e77\",\n",
    "    \"10xv1\": \"#d95f02\",\n",
    "    \"10xv11\": \"#7570b3\",\n",
    "    \"10xmultiome\": \"#e7298a\",\n",
    "    \"mtscatac\": \"#66a61e\",\n",
    "    \"ddseq\": \"#e6ab02\",\n",
    "    \"s3atac\": \"#a6761d\",\n",
    "    \"hydrop\": \"#666666\",\n",
    "}\n",
    "\n",
    "tech_order = [\n",
    "    \"10xv1\",\n",
    "    \"10xv11\",\n",
    "    \"10xv2\",\n",
    "    \"10xmultiome\",\n",
    "    \"mtscatac\",\n",
    "    \"ddseq\",\n",
    "    \"s3atac\",\n",
    "    \"hydrop\",\n",
    "]\n",
    "\n",
    "tech_alias_dict = {\n",
    "    \"10xmultiome\": \"10x Multiome\",\n",
    "    \"10xv1\": \"10x v1\",\n",
    "    \"10xv11\": \"10x v1.1\",\n",
    "    \"10xv2\": \"10x v2\",\n",
    "    \"ddseq\": \"ddSEQ SureCell\",\n",
    "    \"hydrop\": \"HyDrop\",\n",
    "    \"mtscatac\": \"mtscATAC-seq\",\n",
    "    \"s3atac\": \"s3-ATAC\",\n",
    "}\n",
    "\n",
    "cell_type_order = [\n",
    "    \"B_cell\",\n",
    "    \"CD14_monocyte\",\n",
    "    \"CD4_T_cell\",\n",
    "    \"Cytotoxic_T_cell\",\n",
    "    \"Dendritic_cell\",\n",
    "    \"Natural_killer_cell\",\n",
    "    \"CD16_monocyte\",\n",
    "]\n",
    "\n",
    "cell_type_alias_dict = {\n",
    "    \"B_cell\": \"B cells\",\n",
    "    \"CD14_monocyte\": \"CD14+\\nmonocytes\",\n",
    "    \"CD4_T_cell\": \"CD4+\\nT cells\",\n",
    "    \"Cytotoxic_T_cell\": \"CD8+\\nT cells\",\n",
    "    \"Dendritic_cell\": \"Dendritic\\ncells\",\n",
    "    \"Natural_killer_cell\": \"NK cells\",\n",
    "    \"CD16_monocyte\": \"CD16+\\nmonocytes\",\n",
    "}\n",
    "\n",
    "cell_type_color_dict = {\n",
    "    \"B_cell\": \"#88CCEE\",\n",
    "    \"CD14_monocyte\": \"#CC6677\",\n",
    "    \"CD4_T_cell\": \"#DDCC77\",\n",
    "    \"Cytotoxic_T_cell\": \"#117733\",\n",
    "    \"Dendritic_cell\": \"#332288\",\n",
    "    \"Natural_killer_cell\": \"#AA4499\",\n",
    "    \"CD16_monocyte\": \"#44AA99\",\n",
    "}"
   ]
  },
  {
   "cell_type": "markdown",
   "id": "7906461c-818c-4ef9-8798-6972b7e03a32",
   "metadata": {},
   "source": [
    "# Select regions"
   ]
  },
  {
   "cell_type": "code",
   "execution_count": 53,
   "id": "1da4bf71-b6fb-420f-b927-7fa5b20a6b3e",
   "metadata": {
    "execution": {
     "iopub.execute_input": "2023-03-07T17:53:58.554248Z",
     "iopub.status.busy": "2023-03-07T17:53:58.553616Z",
     "iopub.status.idle": "2023-03-07T17:53:58.565898Z",
     "shell.execute_reply": "2023-03-07T17:53:58.564531Z",
     "shell.execute_reply.started": "2023-03-07T17:53:58.554186Z"
    },
    "tags": []
   },
   "outputs": [
    {
     "data": {
      "text/plain": [
       "OrderedDict([('hydrop_sampleB_Cytotoxic_T_cell',\n",
       "              'chr14_GL000225v1_random:133488-133988'),\n",
       "             ('s3atac_sampleB_Cytotoxic_T_cell', 'chr5:158234412-158234912'),\n",
       "             ('10xv2_sampleB_Cytotoxic_T_cell', 'chr20:16158577-16159077'),\n",
       "             ('mtscatac_sampleA_Cytotoxic_T_cell', 'chr8:47644134-47644634'),\n",
       "             ('s3atac_sampleA_Cytotoxic_T_cell', 'chr5:155767413-155767913'),\n",
       "             ('ddseq_sampleA_Cytotoxic_T_cell', 'chr9:104780066-104780566'),\n",
       "             ('10xmultiome_sampleA_Cytotoxic_T_cell',\n",
       "              'chr6:45584034-45584534'),\n",
       "             ('10xv2_sampleA_Cytotoxic_T_cell', 'chr7:102408438-102408938'),\n",
       "             ('10xv1_sampleB_Cytotoxic_T_cell', 'chr5:135246846-135247346'),\n",
       "             ('10xv1_sampleA_Cytotoxic_T_cell', 'chr8:47644134-47644634'),\n",
       "             ('10xmultiome_sampleB_Cytotoxic_T_cell',\n",
       "              'chr12:124664587-124665087'),\n",
       "             ('ddseq_sampleB_Cytotoxic_T_cell', 'chr2:238003558-238004058'),\n",
       "             ('10xv11_sampleA_Cytotoxic_T_cell', 'chr7:102408438-102408938'),\n",
       "             ('mtscatac_sampleB_Cytotoxic_T_cell', 'chr1:203295753-203296253'),\n",
       "             ('hydrop_sampleA_Cytotoxic_T_cell', 'chr8:47644134-47644634'),\n",
       "             ('10xv11_sampleB_Cytotoxic_T_cell', 'chr5:149062347-149062847')])"
      ]
     },
     "execution_count": 53,
     "metadata": {},
     "output_type": "execute_result"
    }
   ],
   "source": [
    "regions_dict"
   ]
  },
  {
   "cell_type": "code",
   "execution_count": 54,
   "id": "99a39a81-2f2f-408f-99bd-84f69c609c40",
   "metadata": {
    "execution": {
     "iopub.execute_input": "2023-03-07T17:54:00.769346Z",
     "iopub.status.busy": "2023-03-07T17:54:00.768707Z",
     "iopub.status.idle": "2023-03-07T17:54:00.847657Z",
     "shell.execute_reply": "2023-03-07T17:54:00.846267Z",
     "shell.execute_reply.started": "2023-03-07T17:54:00.769283Z"
    },
    "tags": []
   },
   "outputs": [
    {
     "data": {
      "text/html": [
       "<div>\n",
       "<style scoped>\n",
       "    .dataframe tbody tr th:only-of-type {\n",
       "        vertical-align: middle;\n",
       "    }\n",
       "\n",
       "    .dataframe tbody tr th {\n",
       "        vertical-align: top;\n",
       "    }\n",
       "\n",
       "    .dataframe thead th {\n",
       "        text-align: right;\n",
       "    }\n",
       "</style>\n",
       "<table border=\"1\" class=\"dataframe\">\n",
       "  <thead>\n",
       "    <tr style=\"text-align: right;\">\n",
       "      <th></th>\n",
       "      <th>chrom</th>\n",
       "      <th>start</th>\n",
       "      <th>end</th>\n",
       "    </tr>\n",
       "  </thead>\n",
       "  <tbody>\n",
       "    <tr>\n",
       "      <th>hydrop_sampleB_Cytotoxic_T_cell</th>\n",
       "      <td>chr14_GL000225v1_random</td>\n",
       "      <td>133488</td>\n",
       "      <td>133988</td>\n",
       "    </tr>\n",
       "    <tr>\n",
       "      <th>s3atac_sampleB_Cytotoxic_T_cell</th>\n",
       "      <td>chr5</td>\n",
       "      <td>158234412</td>\n",
       "      <td>158234912</td>\n",
       "    </tr>\n",
       "    <tr>\n",
       "      <th>10xv2_sampleB_Cytotoxic_T_cell</th>\n",
       "      <td>chr20</td>\n",
       "      <td>16158577</td>\n",
       "      <td>16159077</td>\n",
       "    </tr>\n",
       "    <tr>\n",
       "      <th>mtscatac_sampleA_Cytotoxic_T_cell</th>\n",
       "      <td>chr8</td>\n",
       "      <td>47644134</td>\n",
       "      <td>47644634</td>\n",
       "    </tr>\n",
       "    <tr>\n",
       "      <th>s3atac_sampleA_Cytotoxic_T_cell</th>\n",
       "      <td>chr5</td>\n",
       "      <td>155767413</td>\n",
       "      <td>155767913</td>\n",
       "    </tr>\n",
       "    <tr>\n",
       "      <th>ddseq_sampleA_Cytotoxic_T_cell</th>\n",
       "      <td>chr9</td>\n",
       "      <td>104780066</td>\n",
       "      <td>104780566</td>\n",
       "    </tr>\n",
       "    <tr>\n",
       "      <th>10xmultiome_sampleA_Cytotoxic_T_cell</th>\n",
       "      <td>chr6</td>\n",
       "      <td>45584034</td>\n",
       "      <td>45584534</td>\n",
       "    </tr>\n",
       "    <tr>\n",
       "      <th>10xv2_sampleA_Cytotoxic_T_cell</th>\n",
       "      <td>chr7</td>\n",
       "      <td>102408438</td>\n",
       "      <td>102408938</td>\n",
       "    </tr>\n",
       "    <tr>\n",
       "      <th>10xv1_sampleB_Cytotoxic_T_cell</th>\n",
       "      <td>chr5</td>\n",
       "      <td>135246846</td>\n",
       "      <td>135247346</td>\n",
       "    </tr>\n",
       "    <tr>\n",
       "      <th>10xv1_sampleA_Cytotoxic_T_cell</th>\n",
       "      <td>chr8</td>\n",
       "      <td>47644134</td>\n",
       "      <td>47644634</td>\n",
       "    </tr>\n",
       "    <tr>\n",
       "      <th>10xmultiome_sampleB_Cytotoxic_T_cell</th>\n",
       "      <td>chr12</td>\n",
       "      <td>124664587</td>\n",
       "      <td>124665087</td>\n",
       "    </tr>\n",
       "    <tr>\n",
       "      <th>ddseq_sampleB_Cytotoxic_T_cell</th>\n",
       "      <td>chr2</td>\n",
       "      <td>238003558</td>\n",
       "      <td>238004058</td>\n",
       "    </tr>\n",
       "    <tr>\n",
       "      <th>10xv11_sampleA_Cytotoxic_T_cell</th>\n",
       "      <td>chr7</td>\n",
       "      <td>102408438</td>\n",
       "      <td>102408938</td>\n",
       "    </tr>\n",
       "    <tr>\n",
       "      <th>mtscatac_sampleB_Cytotoxic_T_cell</th>\n",
       "      <td>chr1</td>\n",
       "      <td>203295753</td>\n",
       "      <td>203296253</td>\n",
       "    </tr>\n",
       "    <tr>\n",
       "      <th>hydrop_sampleA_Cytotoxic_T_cell</th>\n",
       "      <td>chr8</td>\n",
       "      <td>47644134</td>\n",
       "      <td>47644634</td>\n",
       "    </tr>\n",
       "    <tr>\n",
       "      <th>10xv11_sampleB_Cytotoxic_T_cell</th>\n",
       "      <td>chr5</td>\n",
       "      <td>149062347</td>\n",
       "      <td>149062847</td>\n",
       "    </tr>\n",
       "  </tbody>\n",
       "</table>\n",
       "</div>"
      ],
      "text/plain": [
       "                                                        chrom      start  \\\n",
       "hydrop_sampleB_Cytotoxic_T_cell       chr14_GL000225v1_random     133488   \n",
       "s3atac_sampleB_Cytotoxic_T_cell                          chr5  158234412   \n",
       "10xv2_sampleB_Cytotoxic_T_cell                          chr20   16158577   \n",
       "mtscatac_sampleA_Cytotoxic_T_cell                        chr8   47644134   \n",
       "s3atac_sampleA_Cytotoxic_T_cell                          chr5  155767413   \n",
       "ddseq_sampleA_Cytotoxic_T_cell                           chr9  104780066   \n",
       "10xmultiome_sampleA_Cytotoxic_T_cell                     chr6   45584034   \n",
       "10xv2_sampleA_Cytotoxic_T_cell                           chr7  102408438   \n",
       "10xv1_sampleB_Cytotoxic_T_cell                           chr5  135246846   \n",
       "10xv1_sampleA_Cytotoxic_T_cell                           chr8   47644134   \n",
       "10xmultiome_sampleB_Cytotoxic_T_cell                    chr12  124664587   \n",
       "ddseq_sampleB_Cytotoxic_T_cell                           chr2  238003558   \n",
       "10xv11_sampleA_Cytotoxic_T_cell                          chr7  102408438   \n",
       "mtscatac_sampleB_Cytotoxic_T_cell                        chr1  203295753   \n",
       "hydrop_sampleA_Cytotoxic_T_cell                          chr8   47644134   \n",
       "10xv11_sampleB_Cytotoxic_T_cell                          chr5  149062347   \n",
       "\n",
       "                                            end  \n",
       "hydrop_sampleB_Cytotoxic_T_cell          133988  \n",
       "s3atac_sampleB_Cytotoxic_T_cell       158234912  \n",
       "10xv2_sampleB_Cytotoxic_T_cell         16159077  \n",
       "mtscatac_sampleA_Cytotoxic_T_cell      47644634  \n",
       "s3atac_sampleA_Cytotoxic_T_cell       155767913  \n",
       "ddseq_sampleA_Cytotoxic_T_cell        104780566  \n",
       "10xmultiome_sampleA_Cytotoxic_T_cell   45584534  \n",
       "10xv2_sampleA_Cytotoxic_T_cell        102408938  \n",
       "10xv1_sampleB_Cytotoxic_T_cell        135247346  \n",
       "10xv1_sampleA_Cytotoxic_T_cell         47644634  \n",
       "10xmultiome_sampleB_Cytotoxic_T_cell  124665087  \n",
       "ddseq_sampleB_Cytotoxic_T_cell        238004058  \n",
       "10xv11_sampleA_Cytotoxic_T_cell       102408938  \n",
       "mtscatac_sampleB_Cytotoxic_T_cell     203296253  \n",
       "hydrop_sampleA_Cytotoxic_T_cell        47644634  \n",
       "10xv11_sampleB_Cytotoxic_T_cell       149062847  "
      ]
     },
     "execution_count": 54,
     "metadata": {},
     "output_type": "execute_result"
    }
   ],
   "source": [
    "regions_df = pd.DataFrame(columns=[\"chrom\", \"start\", \"end\"])\n",
    "for key in regions_dict.keys():\n",
    "    row = list(regions_dict.keys()).index(key)\n",
    "    chrom, start, end = re.split(\":|-\", regions_dict[key])\n",
    "    start = int(re.sub(\",\", \"\", start))\n",
    "    end = int(re.sub(\",\", \"\", end))\n",
    "\n",
    "    region = pd.DataFrame(columns=[\"chrom\", \"start\", \"end\"], index=[key])\n",
    "    region[\"chrom\"] = chrom\n",
    "    region[\"start\"] = start\n",
    "    region[\"end\"] = end\n",
    "    regions_df = pd.concat([regions_df, region], axis=0)\n",
    "\n",
    "bedtool_obj = BedTool.from_dataframe(df=regions_df)\n",
    "\n",
    "regions_df"
   ]
  },
  {
   "cell_type": "code",
   "execution_count": 55,
   "id": "858c7c07-5957-4c24-97e5-5875d2494ff9",
   "metadata": {
    "execution": {
     "iopub.execute_input": "2023-03-07T17:54:04.606320Z",
     "iopub.status.busy": "2023-03-07T17:54:04.605647Z",
     "iopub.status.idle": "2023-03-07T17:54:04.620081Z",
     "shell.execute_reply": "2023-03-07T17:54:04.618676Z",
     "shell.execute_reply.started": "2023-03-07T17:54:04.606257Z"
    },
    "tags": []
   },
   "outputs": [],
   "source": [
    "regions_df = regions_df.loc[\n",
    "    [\"ddseq_sampleA_Cytotoxic_T_cell\", \"10xv1_sampleB_Cytotoxic_T_cell\"]\n",
    "]"
   ]
  },
  {
   "cell_type": "code",
   "execution_count": 56,
   "id": "ea4c28ac-ea1b-4e5a-9719-53bb2bcd1898",
   "metadata": {
    "execution": {
     "iopub.execute_input": "2023-03-07T17:54:06.077276Z",
     "iopub.status.busy": "2023-03-07T17:54:06.076638Z",
     "iopub.status.idle": "2023-03-07T17:54:06.094931Z",
     "shell.execute_reply": "2023-03-07T17:54:06.093751Z",
     "shell.execute_reply.started": "2023-03-07T17:54:06.077213Z"
    },
    "tags": []
   },
   "outputs": [
    {
     "data": {
      "text/html": [
       "<div>\n",
       "<style scoped>\n",
       "    .dataframe tbody tr th:only-of-type {\n",
       "        vertical-align: middle;\n",
       "    }\n",
       "\n",
       "    .dataframe tbody tr th {\n",
       "        vertical-align: top;\n",
       "    }\n",
       "\n",
       "    .dataframe thead th {\n",
       "        text-align: right;\n",
       "    }\n",
       "</style>\n",
       "<table border=\"1\" class=\"dataframe\">\n",
       "  <thead>\n",
       "    <tr style=\"text-align: right;\">\n",
       "      <th></th>\n",
       "      <th>chrom</th>\n",
       "      <th>start</th>\n",
       "      <th>end</th>\n",
       "    </tr>\n",
       "  </thead>\n",
       "  <tbody>\n",
       "    <tr>\n",
       "      <th>ddseq_sampleA_Cytotoxic_T_cell</th>\n",
       "      <td>chr9</td>\n",
       "      <td>104780066</td>\n",
       "      <td>104780566</td>\n",
       "    </tr>\n",
       "    <tr>\n",
       "      <th>10xv1_sampleB_Cytotoxic_T_cell</th>\n",
       "      <td>chr5</td>\n",
       "      <td>135246846</td>\n",
       "      <td>135247346</td>\n",
       "    </tr>\n",
       "  </tbody>\n",
       "</table>\n",
       "</div>"
      ],
      "text/plain": [
       "                               chrom      start        end\n",
       "ddseq_sampleA_Cytotoxic_T_cell  chr9  104780066  104780566\n",
       "10xv1_sampleB_Cytotoxic_T_cell  chr5  135246846  135247346"
      ]
     },
     "execution_count": 56,
     "metadata": {},
     "output_type": "execute_result"
    }
   ],
   "source": [
    "regions_df"
   ]
  },
  {
   "cell_type": "markdown",
   "id": "d917a1e0-84a5-4032-9607-4848d31da49a",
   "metadata": {},
   "source": [
    "genes to plot"
   ]
  },
  {
   "cell_type": "code",
   "execution_count": 57,
   "id": "207fb5bd-33c1-41fa-a5ed-602e38896bce",
   "metadata": {
    "execution": {
     "iopub.execute_input": "2023-03-07T17:54:08.013897Z",
     "iopub.status.busy": "2023-03-07T17:54:08.013275Z",
     "iopub.status.idle": "2023-03-07T17:54:08.037671Z",
     "shell.execute_reply": "2023-03-07T17:54:08.036447Z",
     "shell.execute_reply.started": "2023-03-07T17:54:08.013835Z"
    },
    "tags": []
   },
   "outputs": [],
   "source": [
    "genes_dict = {\n",
    "    \"Cytotoxic_T_cell\": [],\n",
    "    \"CD14+_monocyte\": [],\n",
    "    \"B_cell\": [],\n",
    "    \"CD16+_monocyte\": [],\n",
    "    \"Dendritic_cell\": [],\n",
    "    \"Natural_killer_cell\": [],\n",
    "    \"CD4+_T_cell\": [],\n",
    "}\n",
    "max_genes = max([len((genes_dict[key])) for key in genes_dict.keys()])\n",
    "\n",
    "gtf_file = \"/lustre1/project/stg_00090/scatac_benchmark/0_resources/genomes/hg38_cflerin_cellranger_arc/genes.ucsc.gtf\""
   ]
  },
  {
   "cell_type": "code",
   "execution_count": 58,
   "id": "4ba9f67b-b44d-49e5-aebd-3a997580d2a6",
   "metadata": {
    "execution": {
     "iopub.execute_input": "2023-03-07T17:54:11.104014Z",
     "iopub.status.busy": "2023-03-07T17:54:11.103396Z",
     "iopub.status.idle": "2023-03-07T17:54:11.141762Z",
     "shell.execute_reply": "2023-03-07T17:54:11.140283Z",
     "shell.execute_reply.started": "2023-03-07T17:54:11.103953Z"
    },
    "tags": []
   },
   "outputs": [
    {
     "data": {
      "text/plain": [
       "{'sampleA_CytotoxicTcell': {'10xv2': 'male_female_coverage/cto_malefemale_celltypefair__SCREEN_pseudobulk_bw_files/10xv2_sampleA_CytotoxicTcell.bw',\n",
       "  '10xv11': 'male_female_coverage/cto_malefemale_celltypefair__SCREEN_pseudobulk_bw_files/10xv11_sampleA_CytotoxicTcell.bw',\n",
       "  '10xmultiome': 'male_female_coverage/cto_malefemale_celltypefair__SCREEN_pseudobulk_bw_files/10xmultiome_sampleA_CytotoxicTcell.bw',\n",
       "  'mtscatac': 'male_female_coverage/cto_malefemale_celltypefair__SCREEN_pseudobulk_bw_files/mtscatac_sampleA_CytotoxicTcell.bw',\n",
       "  'hydrop': 'male_female_coverage/cto_malefemale_celltypefair__SCREEN_pseudobulk_bw_files/hydrop_sampleA_CytotoxicTcell.bw',\n",
       "  's3atac': 'male_female_coverage/cto_malefemale_celltypefair__SCREEN_pseudobulk_bw_files/s3atac_sampleA_CytotoxicTcell.bw',\n",
       "  '10xv1': 'male_female_coverage/cto_malefemale_celltypefair__SCREEN_pseudobulk_bw_files/10xv1_sampleA_CytotoxicTcell.bw',\n",
       "  'ddseq': 'male_female_coverage/cto_malefemale_celltypefair__SCREEN_pseudobulk_bw_files/ddseq_sampleA_CytotoxicTcell.bw'},\n",
       " 'sampleB_CytotoxicTcell': {'10xv1': 'male_female_coverage/cto_malefemale_celltypefair__SCREEN_pseudobulk_bw_files/10xv1_sampleB_CytotoxicTcell.bw',\n",
       "  'mtscatac': 'male_female_coverage/cto_malefemale_celltypefair__SCREEN_pseudobulk_bw_files/mtscatac_sampleB_CytotoxicTcell.bw',\n",
       "  '10xmultiome': 'male_female_coverage/cto_malefemale_celltypefair__SCREEN_pseudobulk_bw_files/10xmultiome_sampleB_CytotoxicTcell.bw',\n",
       "  '10xv2': 'male_female_coverage/cto_malefemale_celltypefair__SCREEN_pseudobulk_bw_files/10xv2_sampleB_CytotoxicTcell.bw',\n",
       "  'hydrop': 'male_female_coverage/cto_malefemale_celltypefair__SCREEN_pseudobulk_bw_files/hydrop_sampleB_CytotoxicTcell.bw',\n",
       "  'ddseq': 'male_female_coverage/cto_malefemale_celltypefair__SCREEN_pseudobulk_bw_files/ddseq_sampleB_CytotoxicTcell.bw',\n",
       "  '10xv11': 'male_female_coverage/cto_malefemale_celltypefair__SCREEN_pseudobulk_bw_files/10xv11_sampleB_CytotoxicTcell.bw',\n",
       "  's3atac': 'male_female_coverage/cto_malefemale_celltypefair__SCREEN_pseudobulk_bw_files/s3atac_sampleB_CytotoxicTcell.bw'}}"
      ]
     },
     "execution_count": 58,
     "metadata": {},
     "output_type": "execute_result"
    }
   ],
   "source": [
    "cell_types = list(\n",
    "    set(\n",
    "        [\n",
    "            \"_\".join(x.split(\"/\")[-1].split(\"_\")[1:]).split(\".\")[0]\n",
    "            for x in glob.glob(\n",
    "                \"male_female_coverage/cto_malefemale_celltypefair__SCREEN_pseudobulk_bw_files/*\"\n",
    "            )\n",
    "        ]\n",
    "    )\n",
    ")\n",
    "\n",
    "cell_types = [\"sampleA_CytotoxicTcell\", \"sampleB_CytotoxicTcell\"]\n",
    "bw_path_dict_dict = {}\n",
    "for cell_type in cell_types:\n",
    "    # print(cell_type)\n",
    "    bw_path_dict_dict[cell_type] = {\n",
    "        x.split(\"/\")[-1].split(\"_\")[0]: x\n",
    "        for x in glob.glob(\n",
    "            f\"male_female_coverage/cto_malefemale_celltypefair__SCREEN_pseudobulk_bw_files/*{cell_type}*\"\n",
    "        )\n",
    "    }\n",
    "bw_path_dict_dict"
   ]
  },
  {
   "cell_type": "code",
   "execution_count": 59,
   "id": "3c70fdc7-6c82-4cc2-8f05-bcc8f151b4cd",
   "metadata": {
    "execution": {
     "iopub.execute_input": "2023-03-07T17:54:14.351852Z",
     "iopub.status.busy": "2023-03-07T17:54:14.351230Z",
     "iopub.status.idle": "2023-03-07T17:54:14.368039Z",
     "shell.execute_reply": "2023-03-07T17:54:14.366785Z",
     "shell.execute_reply.started": "2023-03-07T17:54:14.351790Z"
    },
    "tags": []
   },
   "outputs": [],
   "source": [
    "dar_color = \"b\"\n",
    "peak_color = \"k\"\n",
    "gene_height = 3\n",
    "gene_bottom = -gene_height / 2\n",
    "exon_height = 6\n",
    "exon_bottom = -exon_height / 2\n",
    "\n",
    "figsize = (6, 8)"
   ]
  },
  {
   "cell_type": "code",
   "execution_count": 60,
   "id": "65befe8a-3c4a-4bab-8429-e8eb125a246c",
   "metadata": {
    "execution": {
     "iopub.execute_input": "2023-03-07T17:54:16.014401Z",
     "iopub.status.busy": "2023-03-07T17:54:16.013741Z",
     "iopub.status.idle": "2023-03-07T17:54:16.037037Z",
     "shell.execute_reply": "2023-03-07T17:54:16.035863Z",
     "shell.execute_reply.started": "2023-03-07T17:54:16.014338Z"
    },
    "tags": []
   },
   "outputs": [],
   "source": [
    "def addax():\n",
    "    ax.set_xlim([x.min(), x.max()])\n",
    "    sns.despine(top=True, right=True, left=True, bottom=True, ax=ax)\n",
    "    ax.set_xticks([])\n",
    "    ax.set_yticks([])\n",
    "    ax.patch.set_alpha(\n",
    "        0\n",
    "    )  # make sure that each individual subplot is transparent! otherwise the underlying plots won't be shown. this is important e.g. for the dar/peak visualisaton, since the DARs are drawn directly on top of the peaks. if the DAR plot is not transparent, no peaks will be visible!!\n",
    "\n",
    "    fig.add_subplot(ax)"
   ]
  },
  {
   "cell_type": "code",
   "execution_count": 61,
   "id": "92e2cafe-5976-4790-97be-4c4ddcbee5ff",
   "metadata": {
    "execution": {
     "iopub.execute_input": "2023-03-07T17:54:16.286549Z",
     "iopub.status.busy": "2023-03-07T17:54:16.285920Z",
     "iopub.status.idle": "2023-03-07T17:54:16.294700Z",
     "shell.execute_reply": "2023-03-07T17:54:16.293263Z",
     "shell.execute_reply.started": "2023-03-07T17:54:16.286487Z"
    },
    "tags": []
   },
   "outputs": [],
   "source": [
    "max_genes = 1"
   ]
  },
  {
   "cell_type": "code",
   "execution_count": 62,
   "id": "344107d6-934f-4ca8-a3f4-ad2bf430ae8c",
   "metadata": {
    "execution": {
     "iopub.execute_input": "2023-03-07T17:54:17.569516Z",
     "iopub.status.busy": "2023-03-07T17:54:17.568892Z",
     "iopub.status.idle": "2023-03-07T17:54:17.578427Z",
     "shell.execute_reply": "2023-03-07T17:54:17.576989Z",
     "shell.execute_reply.started": "2023-03-07T17:54:17.569454Z"
    },
    "tags": []
   },
   "outputs": [],
   "source": [
    "plot_genes = False\n",
    "verbose = True"
   ]
  },
  {
   "cell_type": "code",
   "execution_count": 63,
   "id": "a49c3c30-aef9-40c4-b055-dacc57ebde95",
   "metadata": {
    "execution": {
     "iopub.execute_input": "2023-03-07T17:54:18.193902Z",
     "iopub.status.busy": "2023-03-07T17:54:18.193286Z",
     "iopub.status.idle": "2023-03-07T17:54:18.226302Z",
     "shell.execute_reply": "2023-03-07T17:54:18.225281Z",
     "shell.execute_reply.started": "2023-03-07T17:54:18.193840Z"
    },
    "tags": []
   },
   "outputs": [],
   "source": [
    "region_forced_length = 2000\n",
    "\n",
    "regions_df_padded = regions_df.copy()\n",
    "\n",
    "regions_df_padded[\"region_center\"] = (\n",
    "    regions_df_padded[\"start\"]\n",
    "    + (regions_df_padded[\"end\"] - regions_df_padded[\"start\"]) / 2\n",
    ")\n",
    "\n",
    "\n",
    "regions_df_padded[\"start\"] = (\n",
    "    regions_df_padded[\"region_center\"] - region_forced_length / 2\n",
    ")\n",
    "regions_df_padded[\"start\"] = [int(x) for x in regions_df_padded[\"start\"]]\n",
    "regions_df_padded[\"end\"] = regions_df_padded[\"region_center\"] + region_forced_length / 2\n",
    "regions_df_padded[\"end\"] = [int(x) for x in regions_df_padded[\"end\"]]"
   ]
  },
  {
   "cell_type": "code",
   "execution_count": 64,
   "id": "3ab7cf50-f4de-493e-abb7-9a7688555ecf",
   "metadata": {
    "execution": {
     "iopub.execute_input": "2023-03-07T17:54:19.669857Z",
     "iopub.status.busy": "2023-03-07T17:54:19.669244Z",
     "iopub.status.idle": "2023-03-07T17:54:19.686447Z",
     "shell.execute_reply": "2023-03-07T17:54:19.685287Z",
     "shell.execute_reply.started": "2023-03-07T17:54:19.669796Z"
    },
    "tags": []
   },
   "outputs": [
    {
     "data": {
      "text/html": [
       "<div>\n",
       "<style scoped>\n",
       "    .dataframe tbody tr th:only-of-type {\n",
       "        vertical-align: middle;\n",
       "    }\n",
       "\n",
       "    .dataframe tbody tr th {\n",
       "        vertical-align: top;\n",
       "    }\n",
       "\n",
       "    .dataframe thead th {\n",
       "        text-align: right;\n",
       "    }\n",
       "</style>\n",
       "<table border=\"1\" class=\"dataframe\">\n",
       "  <thead>\n",
       "    <tr style=\"text-align: right;\">\n",
       "      <th></th>\n",
       "      <th>chrom</th>\n",
       "      <th>start</th>\n",
       "      <th>end</th>\n",
       "      <th>region_center</th>\n",
       "    </tr>\n",
       "  </thead>\n",
       "  <tbody>\n",
       "    <tr>\n",
       "      <th>ddseq_sampleA_Cytotoxic_T_cell</th>\n",
       "      <td>chr9</td>\n",
       "      <td>104779316</td>\n",
       "      <td>104781316</td>\n",
       "      <td>104780316.0</td>\n",
       "    </tr>\n",
       "    <tr>\n",
       "      <th>10xv1_sampleB_Cytotoxic_T_cell</th>\n",
       "      <td>chr5</td>\n",
       "      <td>135246096</td>\n",
       "      <td>135248096</td>\n",
       "      <td>135247096.0</td>\n",
       "    </tr>\n",
       "  </tbody>\n",
       "</table>\n",
       "</div>"
      ],
      "text/plain": [
       "                               chrom      start        end region_center\n",
       "ddseq_sampleA_Cytotoxic_T_cell  chr9  104779316  104781316   104780316.0\n",
       "10xv1_sampleB_Cytotoxic_T_cell  chr5  135246096  135248096   135247096.0"
      ]
     },
     "execution_count": 64,
     "metadata": {},
     "output_type": "execute_result"
    }
   ],
   "source": [
    "regions_df_padded"
   ]
  },
  {
   "cell_type": "code",
   "execution_count": 26,
   "id": "db819297-8003-486c-aab6-026e9dfe0048",
   "metadata": {
    "execution": {
     "iopub.execute_input": "2023-03-07T17:47:07.571126Z",
     "iopub.status.busy": "2023-03-07T17:47:07.570921Z",
     "iopub.status.idle": "2023-03-07T17:47:07.695509Z",
     "shell.execute_reply": "2023-03-07T17:47:07.694260Z",
     "shell.execute_reply.started": "2023-03-07T17:47:07.571099Z"
    },
    "tags": []
   },
   "outputs": [
    {
     "name": "stdout",
     "output_type": "stream",
     "text": [
      "calculated max values within region ddseq_sampleA_Cytotoxic_T_cell\n",
      "calculated max values within region 10xv1_sampleB_Cytotoxic_T_cell\n"
     ]
    },
    {
     "data": {
      "text/plain": [
       "{'ddseq_sampleA_Cytotoxic_T_cell': 10.0,\n",
       " '10xv1_sampleB_Cytotoxic_T_cell': 10.0}"
      ]
     },
     "execution_count": 26,
     "metadata": {},
     "output_type": "execute_result"
    }
   ],
   "source": [
    "## calculate bw_ymax per col\n",
    "region_max_dict_padded = {}\n",
    "for region_name in regions_df_padded.index:\n",
    "    chrom = regions_df_padded.loc[region_name][\"chrom\"]\n",
    "    start = int(regions_df_padded.loc[region_name][\"start\"])\n",
    "    end = int(regions_df_padded.loc[region_name][\"end\"])\n",
    "\n",
    "    bw_ymax_dict_dict = {}\n",
    "    for cell_type in bw_path_dict_dict.keys():\n",
    "        bw_ymax_dict = {}\n",
    "\n",
    "        for tech in bw_path_dict_dict[cell_type].keys():\n",
    "            bw_file = bw_path_dict_dict[cell_type][tech]\n",
    "\n",
    "            # calculate max value of the bigwig within our region\n",
    "            bw = pyBigWig.open(bw_file)\n",
    "            y = bw.values(chrom, start, end)\n",
    "            y = np.nan_to_num(y)\n",
    "\n",
    "            bw_ymax_dict[tech] = y.max()\n",
    "\n",
    "        bw_ymax_dict_dict[cell_type] = max(bw_ymax_dict.values())\n",
    "\n",
    "    region_max_dict_padded[region_name] = bw_ymax_dict_dict[\n",
    "        max(bw_ymax_dict_dict, key=bw_ymax_dict_dict.get)\n",
    "    ]\n",
    "    print(f\"calculated max values within region {region_name}\")\n",
    "\n",
    "region_max_dict_padded"
   ]
  },
  {
   "cell_type": "code",
   "execution_count": 65,
   "id": "afaf5559-5f41-48ed-831a-508b1e0f1ff0",
   "metadata": {
    "execution": {
     "iopub.execute_input": "2023-03-07T17:54:53.908804Z",
     "iopub.status.busy": "2023-03-07T17:54:53.908149Z",
     "iopub.status.idle": "2023-03-07T17:54:53.921322Z",
     "shell.execute_reply": "2023-03-07T17:54:53.919933Z",
     "shell.execute_reply.started": "2023-03-07T17:54:53.908742Z"
    },
    "tags": []
   },
   "outputs": [],
   "source": [
    "regions_df_padded.index = [x.replace(\"+\", \"\") for x in regions_df_padded.index]"
   ]
  },
  {
   "cell_type": "code",
   "execution_count": 66,
   "id": "7e68a2f2-0b66-4c5d-8d62-66c3ad48dba5",
   "metadata": {
    "execution": {
     "iopub.execute_input": "2023-03-07T17:54:54.109139Z",
     "iopub.status.busy": "2023-03-07T17:54:54.108510Z",
     "iopub.status.idle": "2023-03-07T17:54:54.126657Z",
     "shell.execute_reply": "2023-03-07T17:54:54.125530Z",
     "shell.execute_reply.started": "2023-03-07T17:54:54.109065Z"
    },
    "tags": []
   },
   "outputs": [
    {
     "data": {
      "text/html": [
       "<div>\n",
       "<style scoped>\n",
       "    .dataframe tbody tr th:only-of-type {\n",
       "        vertical-align: middle;\n",
       "    }\n",
       "\n",
       "    .dataframe tbody tr th {\n",
       "        vertical-align: top;\n",
       "    }\n",
       "\n",
       "    .dataframe thead th {\n",
       "        text-align: right;\n",
       "    }\n",
       "</style>\n",
       "<table border=\"1\" class=\"dataframe\">\n",
       "  <thead>\n",
       "    <tr style=\"text-align: right;\">\n",
       "      <th></th>\n",
       "      <th>chrom</th>\n",
       "      <th>start</th>\n",
       "      <th>end</th>\n",
       "      <th>region_center</th>\n",
       "    </tr>\n",
       "  </thead>\n",
       "  <tbody>\n",
       "    <tr>\n",
       "      <th>ddseq_sampleA_Cytotoxic_T_cell</th>\n",
       "      <td>chr9</td>\n",
       "      <td>104779316</td>\n",
       "      <td>104781316</td>\n",
       "      <td>104780316.0</td>\n",
       "    </tr>\n",
       "    <tr>\n",
       "      <th>10xv1_sampleB_Cytotoxic_T_cell</th>\n",
       "      <td>chr5</td>\n",
       "      <td>135246096</td>\n",
       "      <td>135248096</td>\n",
       "      <td>135247096.0</td>\n",
       "    </tr>\n",
       "  </tbody>\n",
       "</table>\n",
       "</div>"
      ],
      "text/plain": [
       "                               chrom      start        end region_center\n",
       "ddseq_sampleA_Cytotoxic_T_cell  chr9  104779316  104781316   104780316.0\n",
       "10xv1_sampleB_Cytotoxic_T_cell  chr5  135246096  135248096   135247096.0"
      ]
     },
     "execution_count": 66,
     "metadata": {},
     "output_type": "execute_result"
    }
   ],
   "source": [
    "regions_df_padded"
   ]
  },
  {
   "cell_type": "code",
   "execution_count": 67,
   "id": "05993442-1c5d-49cf-a2f1-ab3db4b38ff7",
   "metadata": {
    "execution": {
     "iopub.execute_input": "2023-03-07T17:54:55.375991Z",
     "iopub.status.busy": "2023-03-07T17:54:55.375382Z",
     "iopub.status.idle": "2023-03-07T17:54:55.390843Z",
     "shell.execute_reply": "2023-03-07T17:54:55.389263Z",
     "shell.execute_reply.started": "2023-03-07T17:54:55.375931Z"
    },
    "tags": []
   },
   "outputs": [],
   "source": [
    "regions_df_padded = regions_df_padded.loc[\n",
    "    [x for x in regions_df_padded.index if \"Cytotoxic_T_cell\" in x]\n",
    "]"
   ]
  },
  {
   "cell_type": "code",
   "execution_count": 68,
   "id": "e3e36927-96a1-48dc-b39b-9c75aac1a506",
   "metadata": {
    "execution": {
     "iopub.execute_input": "2023-03-07T17:54:55.537980Z",
     "iopub.status.busy": "2023-03-07T17:54:55.537362Z",
     "iopub.status.idle": "2023-03-07T17:54:55.557344Z",
     "shell.execute_reply": "2023-03-07T17:54:55.555979Z",
     "shell.execute_reply.started": "2023-03-07T17:54:55.537919Z"
    },
    "tags": []
   },
   "outputs": [
    {
     "data": {
      "text/plain": [
       "{'hydrop_sampleB_Cytotoxic_T_cell': 'final_consensus_peaks/master_celltypefair_1.FIXEDCELLS__SCREEN_consensus_peaks.bed',\n",
       " 's3atac_sampleB_Cytotoxic_T_cell': 'final_consensus_peaks/master_celltypefair_1.FIXEDCELLS__SCREEN_consensus_peaks.bed',\n",
       " '10xv2_sampleB_Cytotoxic_T_cell': 'final_consensus_peaks/master_celltypefair_1.FIXEDCELLS__SCREEN_consensus_peaks.bed',\n",
       " 'mtscatac_sampleA_Cytotoxic_T_cell': 'final_consensus_peaks/master_celltypefair_1.FIXEDCELLS__SCREEN_consensus_peaks.bed',\n",
       " 's3atac_sampleA_Cytotoxic_T_cell': 'final_consensus_peaks/master_celltypefair_1.FIXEDCELLS__SCREEN_consensus_peaks.bed',\n",
       " 'ddseq_sampleA_Cytotoxic_T_cell': 'final_consensus_peaks/master_celltypefair_1.FIXEDCELLS__SCREEN_consensus_peaks.bed',\n",
       " '10xmultiome_sampleA_Cytotoxic_T_cell': 'final_consensus_peaks/master_celltypefair_1.FIXEDCELLS__SCREEN_consensus_peaks.bed',\n",
       " '10xv2_sampleA_Cytotoxic_T_cell': 'final_consensus_peaks/master_celltypefair_1.FIXEDCELLS__SCREEN_consensus_peaks.bed',\n",
       " '10xv1_sampleB_Cytotoxic_T_cell': 'final_consensus_peaks/master_celltypefair_1.FIXEDCELLS__SCREEN_consensus_peaks.bed',\n",
       " '10xv1_sampleA_Cytotoxic_T_cell': 'final_consensus_peaks/master_celltypefair_1.FIXEDCELLS__SCREEN_consensus_peaks.bed',\n",
       " '10xmultiome_sampleB_Cytotoxic_T_cell': 'final_consensus_peaks/master_celltypefair_1.FIXEDCELLS__SCREEN_consensus_peaks.bed',\n",
       " 'ddseq_sampleB_Cytotoxic_T_cell': 'final_consensus_peaks/master_celltypefair_1.FIXEDCELLS__SCREEN_consensus_peaks.bed',\n",
       " '10xv11_sampleA_Cytotoxic_T_cell': 'final_consensus_peaks/master_celltypefair_1.FIXEDCELLS__SCREEN_consensus_peaks.bed',\n",
       " 'mtscatac_sampleB_Cytotoxic_T_cell': 'final_consensus_peaks/master_celltypefair_1.FIXEDCELLS__SCREEN_consensus_peaks.bed',\n",
       " 'hydrop_sampleA_Cytotoxic_T_cell': 'final_consensus_peaks/master_celltypefair_1.FIXEDCELLS__SCREEN_consensus_peaks.bed',\n",
       " '10xv11_sampleB_Cytotoxic_T_cell': 'final_consensus_peaks/master_celltypefair_1.FIXEDCELLS__SCREEN_consensus_peaks.bed'}"
      ]
     },
     "execution_count": 68,
     "metadata": {},
     "output_type": "execute_result"
    }
   ],
   "source": [
    "peak_path_dict = {\n",
    "    x.replace(\n",
    "        \"+\", \"\"\n",
    "    ): \"final_consensus_peaks/master_celltypefair_1.FIXEDCELLS__SCREEN_consensus_peaks.bed\"\n",
    "    for x in regions_dict.keys()\n",
    "}\n",
    "peak_path_dict"
   ]
  },
  {
   "cell_type": "code",
   "execution_count": 74,
   "id": "1e2b792c-cf3a-4976-b357-4f8f79b1e235",
   "metadata": {
    "execution": {
     "iopub.execute_input": "2023-03-07T17:55:02.586383Z",
     "iopub.status.busy": "2023-03-07T17:55:02.585746Z",
     "iopub.status.idle": "2023-03-07T17:55:02.592555Z",
     "shell.execute_reply": "2023-03-07T17:55:02.591191Z",
     "shell.execute_reply.started": "2023-03-07T17:55:02.586322Z"
    },
    "tags": []
   },
   "outputs": [],
   "source": [
    "# set(regions_df_padded.index) == set(regions_dict_padded.keys()) == set(\n",
    "#     bw_path_dict_dict.keys()\n",
    "# ) == set(peak_path_dict.keys())"
   ]
  },
  {
   "cell_type": "code",
   "execution_count": 79,
   "id": "72267c00-e5e8-4a40-a83e-0eadcea22c6f",
   "metadata": {
    "execution": {
     "iopub.execute_input": "2023-03-07T17:55:07.753286Z",
     "iopub.status.busy": "2023-03-07T17:55:07.752646Z",
     "iopub.status.idle": "2023-03-07T17:55:07.778664Z",
     "shell.execute_reply": "2023-03-07T17:55:07.777363Z",
     "shell.execute_reply.started": "2023-03-07T17:55:07.753222Z"
    },
    "tags": []
   },
   "outputs": [
    {
     "data": {
      "text/html": [
       "<div>\n",
       "<style scoped>\n",
       "    .dataframe tbody tr th:only-of-type {\n",
       "        vertical-align: middle;\n",
       "    }\n",
       "\n",
       "    .dataframe tbody tr th {\n",
       "        vertical-align: top;\n",
       "    }\n",
       "\n",
       "    .dataframe thead th {\n",
       "        text-align: right;\n",
       "    }\n",
       "</style>\n",
       "<table border=\"1\" class=\"dataframe\">\n",
       "  <thead>\n",
       "    <tr style=\"text-align: right;\">\n",
       "      <th></th>\n",
       "      <th>chrom</th>\n",
       "      <th>start</th>\n",
       "      <th>end</th>\n",
       "      <th>region_center</th>\n",
       "    </tr>\n",
       "  </thead>\n",
       "  <tbody>\n",
       "    <tr>\n",
       "      <th>CytotoxicTcell</th>\n",
       "      <td>chr9</td>\n",
       "      <td>104779316</td>\n",
       "      <td>104781316</td>\n",
       "      <td>104780316.0</td>\n",
       "    </tr>\n",
       "    <tr>\n",
       "      <th>CytotoxicTcell</th>\n",
       "      <td>chr5</td>\n",
       "      <td>135246096</td>\n",
       "      <td>135248096</td>\n",
       "      <td>135247096.0</td>\n",
       "    </tr>\n",
       "  </tbody>\n",
       "</table>\n",
       "</div>"
      ],
      "text/plain": [
       "               chrom      start        end region_center\n",
       "CytotoxicTcell  chr9  104779316  104781316   104780316.0\n",
       "CytotoxicTcell  chr5  135246096  135248096   135247096.0"
      ]
     },
     "execution_count": 79,
     "metadata": {},
     "output_type": "execute_result"
    }
   ],
   "source": [
    "regions_df_padded.index = [\"_\".join(x.split(\"_\")[1:]) for x in regions_df_padded.index]\n",
    "regions_df_padded"
   ]
  },
  {
   "cell_type": "code",
   "execution_count": 80,
   "id": "82f45fab-735b-40b3-be7e-d4f987fbd448",
   "metadata": {
    "execution": {
     "iopub.execute_input": "2023-03-07T17:55:08.650335Z",
     "iopub.status.busy": "2023-03-07T17:55:08.649679Z",
     "iopub.status.idle": "2023-03-07T17:55:08.660550Z",
     "shell.execute_reply": "2023-03-07T17:55:08.659132Z",
     "shell.execute_reply.started": "2023-03-07T17:55:08.650273Z"
    },
    "tags": []
   },
   "outputs": [],
   "source": [
    "regions_df_padded.index = [\"sampleA_CytotoxicTcell\", \"sampleB_CytotoxicTcell\"]"
   ]
  },
  {
   "cell_type": "code",
   "execution_count": 81,
   "id": "4ac5955d-8ba1-4801-a12a-ec37e4d00d8c",
   "metadata": {
    "execution": {
     "iopub.execute_input": "2023-03-07T17:55:08.859711Z",
     "iopub.status.busy": "2023-03-07T17:55:08.859025Z",
     "iopub.status.idle": "2023-03-07T17:55:08.870767Z",
     "shell.execute_reply": "2023-03-07T17:55:08.869579Z",
     "shell.execute_reply.started": "2023-03-07T17:55:08.859647Z"
    },
    "tags": []
   },
   "outputs": [
    {
     "data": {
      "text/plain": [
       "{'sampleA_CytotoxicTcell': {'10xv2': 'male_female_coverage/cto_malefemale_celltypefair__SCREEN_pseudobulk_bw_files/10xv2_sampleA_CytotoxicTcell.bw',\n",
       "  '10xv11': 'male_female_coverage/cto_malefemale_celltypefair__SCREEN_pseudobulk_bw_files/10xv11_sampleA_CytotoxicTcell.bw',\n",
       "  '10xmultiome': 'male_female_coverage/cto_malefemale_celltypefair__SCREEN_pseudobulk_bw_files/10xmultiome_sampleA_CytotoxicTcell.bw',\n",
       "  'mtscatac': 'male_female_coverage/cto_malefemale_celltypefair__SCREEN_pseudobulk_bw_files/mtscatac_sampleA_CytotoxicTcell.bw',\n",
       "  'hydrop': 'male_female_coverage/cto_malefemale_celltypefair__SCREEN_pseudobulk_bw_files/hydrop_sampleA_CytotoxicTcell.bw',\n",
       "  's3atac': 'male_female_coverage/cto_malefemale_celltypefair__SCREEN_pseudobulk_bw_files/s3atac_sampleA_CytotoxicTcell.bw',\n",
       "  '10xv1': 'male_female_coverage/cto_malefemale_celltypefair__SCREEN_pseudobulk_bw_files/10xv1_sampleA_CytotoxicTcell.bw',\n",
       "  'ddseq': 'male_female_coverage/cto_malefemale_celltypefair__SCREEN_pseudobulk_bw_files/ddseq_sampleA_CytotoxicTcell.bw'},\n",
       " 'sampleB_CytotoxicTcell': {'10xv1': 'male_female_coverage/cto_malefemale_celltypefair__SCREEN_pseudobulk_bw_files/10xv1_sampleB_CytotoxicTcell.bw',\n",
       "  'mtscatac': 'male_female_coverage/cto_malefemale_celltypefair__SCREEN_pseudobulk_bw_files/mtscatac_sampleB_CytotoxicTcell.bw',\n",
       "  '10xmultiome': 'male_female_coverage/cto_malefemale_celltypefair__SCREEN_pseudobulk_bw_files/10xmultiome_sampleB_CytotoxicTcell.bw',\n",
       "  '10xv2': 'male_female_coverage/cto_malefemale_celltypefair__SCREEN_pseudobulk_bw_files/10xv2_sampleB_CytotoxicTcell.bw',\n",
       "  'hydrop': 'male_female_coverage/cto_malefemale_celltypefair__SCREEN_pseudobulk_bw_files/hydrop_sampleB_CytotoxicTcell.bw',\n",
       "  'ddseq': 'male_female_coverage/cto_malefemale_celltypefair__SCREEN_pseudobulk_bw_files/ddseq_sampleB_CytotoxicTcell.bw',\n",
       "  '10xv11': 'male_female_coverage/cto_malefemale_celltypefair__SCREEN_pseudobulk_bw_files/10xv11_sampleB_CytotoxicTcell.bw',\n",
       "  's3atac': 'male_female_coverage/cto_malefemale_celltypefair__SCREEN_pseudobulk_bw_files/s3atac_sampleB_CytotoxicTcell.bw'}}"
      ]
     },
     "execution_count": 81,
     "metadata": {},
     "output_type": "execute_result"
    }
   ],
   "source": [
    "bw_path_dict_dict"
   ]
  },
  {
   "cell_type": "code",
   "execution_count": 82,
   "id": "c507fac2-5f47-4177-82e2-b58f6d334128",
   "metadata": {
    "execution": {
     "iopub.execute_input": "2023-03-07T17:55:09.046264Z",
     "iopub.status.busy": "2023-03-07T17:55:09.045629Z",
     "iopub.status.idle": "2023-03-07T17:55:09.055220Z",
     "shell.execute_reply": "2023-03-07T17:55:09.053817Z",
     "shell.execute_reply.started": "2023-03-07T17:55:09.046201Z"
    },
    "tags": []
   },
   "outputs": [],
   "source": [
    "cell_type_order = list(regions_df_padded.index)"
   ]
  },
  {
   "cell_type": "code",
   "execution_count": 83,
   "id": "ad01c6d3-a3d0-4642-80e0-ae0dc573da33",
   "metadata": {
    "execution": {
     "iopub.execute_input": "2023-03-07T17:55:09.242809Z",
     "iopub.status.busy": "2023-03-07T17:55:09.242196Z",
     "iopub.status.idle": "2023-03-07T17:55:09.252998Z",
     "shell.execute_reply": "2023-03-07T17:55:09.251715Z",
     "shell.execute_reply.started": "2023-03-07T17:55:09.242748Z"
    },
    "tags": []
   },
   "outputs": [],
   "source": [
    "regions_dict_padded = {x: x for x in cell_type_order}"
   ]
  },
  {
   "cell_type": "code",
   "execution_count": 84,
   "id": "9f3f7b81-beb8-454c-a199-ad103969bf05",
   "metadata": {
    "execution": {
     "iopub.execute_input": "2023-03-07T17:55:09.630331Z",
     "iopub.status.busy": "2023-03-07T17:55:09.629705Z",
     "iopub.status.idle": "2023-03-07T17:55:09.639905Z",
     "shell.execute_reply": "2023-03-07T17:55:09.638521Z",
     "shell.execute_reply.started": "2023-03-07T17:55:09.630269Z"
    },
    "tags": []
   },
   "outputs": [],
   "source": [
    "cell_type_alias_dict = {x: x for x in cell_type_order}"
   ]
  },
  {
   "cell_type": "code",
   "execution_count": 85,
   "id": "4339f2b4-03d4-4295-a31f-b92dda4ac496",
   "metadata": {
    "execution": {
     "iopub.execute_input": "2023-03-07T17:55:10.073779Z",
     "iopub.status.busy": "2023-03-07T17:55:10.073159Z",
     "iopub.status.idle": "2023-03-07T17:55:10.085725Z",
     "shell.execute_reply": "2023-03-07T17:55:10.084331Z",
     "shell.execute_reply.started": "2023-03-07T17:55:10.073718Z"
    },
    "tags": []
   },
   "outputs": [],
   "source": [
    "peak_path_dict = {\n",
    "    \"sampleA_CytotoxicTcell\": \"final_consensus_peaks/master_all_1.FIXEDCELLS__SCREEN_consensus_peaks/CD4_Tcell_summits.bed\",\n",
    "    \"sampleB_CytotoxicTcell\": \"final_consensus_peaks/master_all_1.FIXEDCELLS__SCREEN_consensus_peaks/CD4_Tcell_summits.bed\",\n",
    "}"
   ]
  },
  {
   "cell_type": "code",
   "execution_count": 86,
   "id": "f88c7095-8ff7-44e5-8870-6f8b646867d3",
   "metadata": {
    "execution": {
     "iopub.execute_input": "2023-03-07T17:55:11.208949Z",
     "iopub.status.busy": "2023-03-07T17:55:11.208326Z",
     "iopub.status.idle": "2023-03-07T17:55:15.997058Z",
     "shell.execute_reply": "2023-03-07T17:55:15.995616Z",
     "shell.execute_reply.started": "2023-03-07T17:55:11.208888Z"
    },
    "tags": []
   },
   "outputs": [
    {
     "name": "stdout",
     "output_type": "stream",
     "text": [
      "drawing column for region sampleA_CytotoxicTcell\n",
      "\t10xv1: alias 10x v1\n",
      "\t\tbw: male_female_coverage/cto_malefemale_celltypefair__SCREEN_pseudobulk_bw_files/10xv1_sampleA_CytotoxicTcell.bw\n",
      "\t10xv11: alias 10x v1.1\n",
      "\t\tbw: male_female_coverage/cto_malefemale_celltypefair__SCREEN_pseudobulk_bw_files/10xv11_sampleA_CytotoxicTcell.bw\n",
      "\t10xv2: alias 10x v2\n",
      "\t\tbw: male_female_coverage/cto_malefemale_celltypefair__SCREEN_pseudobulk_bw_files/10xv2_sampleA_CytotoxicTcell.bw\n",
      "\t10xmultiome: alias 10x Multiome\n",
      "\t\tbw: male_female_coverage/cto_malefemale_celltypefair__SCREEN_pseudobulk_bw_files/10xmultiome_sampleA_CytotoxicTcell.bw\n",
      "\tmtscatac: alias mtscATAC-seq\n",
      "\t\tbw: male_female_coverage/cto_malefemale_celltypefair__SCREEN_pseudobulk_bw_files/mtscatac_sampleA_CytotoxicTcell.bw\n",
      "\tddseq: alias ddSEQ SureCell\n",
      "\t\tbw: male_female_coverage/cto_malefemale_celltypefair__SCREEN_pseudobulk_bw_files/ddseq_sampleA_CytotoxicTcell.bw\n",
      "\ts3atac: alias s3-ATAC\n",
      "\t\tbw: male_female_coverage/cto_malefemale_celltypefair__SCREEN_pseudobulk_bw_files/s3atac_sampleA_CytotoxicTcell.bw\n",
      "\thydrop: alias HyDrop\n",
      "\t\tbw: male_female_coverage/cto_malefemale_celltypefair__SCREEN_pseudobulk_bw_files/hydrop_sampleA_CytotoxicTcell.bw\n",
      "drawing column for region sampleB_CytotoxicTcell\n",
      "\t10xv1: alias 10x v1\n",
      "\t\tbw: male_female_coverage/cto_malefemale_celltypefair__SCREEN_pseudobulk_bw_files/10xv1_sampleB_CytotoxicTcell.bw\n",
      "\t10xv11: alias 10x v1.1\n",
      "\t\tbw: male_female_coverage/cto_malefemale_celltypefair__SCREEN_pseudobulk_bw_files/10xv11_sampleB_CytotoxicTcell.bw\n",
      "\t10xv2: alias 10x v2\n",
      "\t\tbw: male_female_coverage/cto_malefemale_celltypefair__SCREEN_pseudobulk_bw_files/10xv2_sampleB_CytotoxicTcell.bw\n",
      "\t10xmultiome: alias 10x Multiome\n",
      "\t\tbw: male_female_coverage/cto_malefemale_celltypefair__SCREEN_pseudobulk_bw_files/10xmultiome_sampleB_CytotoxicTcell.bw\n",
      "\tmtscatac: alias mtscATAC-seq\n",
      "\t\tbw: male_female_coverage/cto_malefemale_celltypefair__SCREEN_pseudobulk_bw_files/mtscatac_sampleB_CytotoxicTcell.bw\n",
      "\tddseq: alias ddSEQ SureCell\n",
      "\t\tbw: male_female_coverage/cto_malefemale_celltypefair__SCREEN_pseudobulk_bw_files/ddseq_sampleB_CytotoxicTcell.bw\n",
      "\ts3atac: alias s3-ATAC\n",
      "\t\tbw: male_female_coverage/cto_malefemale_celltypefair__SCREEN_pseudobulk_bw_files/s3atac_sampleB_CytotoxicTcell.bw\n",
      "\thydrop: alias HyDrop\n",
      "\t\tbw: male_female_coverage/cto_malefemale_celltypefair__SCREEN_pseudobulk_bw_files/hydrop_sampleB_CytotoxicTcell.bw\n"
     ]
    },
    {
     "data": {
      "image/png": "[encoded data removed]",
      "text/plain": [
       "<Figure size 432x576 with 32 Axes>"
      ]
     },
     "execution_count": 86,
     "metadata": {},
     "output_type": "execute_result"
    },
    {
     "data": {
      "image/png": "[encoded data removed]",
      "text/plain": [
       "<Figure size 432x576 with 32 Axes>"
      ]
     },
     "metadata": {},
     "output_type": "display_data"
    }
   ],
   "source": [
    "## create the gridspec\n",
    "fig = plt.figure(figsize=figsize, facecolor=\"white\")\n",
    "\n",
    "# define ratios between all elements in the graphic\n",
    "height_ratios = [0.2]  # for gtf\n",
    "height_ratios.append(len(bw_path_dict_dict))  # for bws\n",
    "height_ratios.append(0.1)  # for text box\n",
    "\n",
    "# create a global frame for the 3 modalities shown (bigwigs, gtf, and text)\n",
    "frame = gridspec.GridSpec(3, 1, wspace=0.25, hspace=0.17, height_ratios=height_ratios)\n",
    "\n",
    "# create a gridspec for each modality within the frame\n",
    "n_cols = len(regions_dict)\n",
    "n_rows = len(tech_order)\n",
    "\n",
    "text_grid = gridspec.GridSpecFromSubplotSpec(\n",
    "    1, n_cols, wspace=0.2, hspace=0, subplot_spec=frame[0, 0]\n",
    ")\n",
    "bw_dar_grid = gridspec.GridSpecFromSubplotSpec(\n",
    "    n_rows, n_cols, wspace=0.2, hspace=-0.6, subplot_spec=frame[1, 0]\n",
    ")\n",
    "gtf_grid = gridspec.GridSpecFromSubplotSpec(\n",
    "    max_genes, n_cols, wspace=0.2, hspace=0, subplot_spec=frame[2, 0]\n",
    ")\n",
    "\n",
    "## iterate over all regions (=columns in final figure)\n",
    "for region_name in cell_type_order:\n",
    "    if verbose == True:\n",
    "        print(f\"drawing column for region {region_name}\")\n",
    "    region_index = cell_type_order.index(\n",
    "        region_name\n",
    "    )  # get the region index for column indexing\n",
    "\n",
    "    # the genome coordinates over which we will be plotting:\n",
    "    chrom = regions_df_padded.loc[region_name][\"chrom\"]\n",
    "    start = int(regions_df_padded.loc[region_name][\"start\"])\n",
    "    end = int(regions_df_padded.loc[region_name][\"end\"])\n",
    "    x = np.array(range(start, end, 1))\n",
    "\n",
    "    # set ymax according to region\n",
    "    # bw_ymax = region_max_dict[region_name]\n",
    "\n",
    "    # you can also set global ymax:\n",
    "    bw_ymax = region_max_dict_padded[\n",
    "        max(region_max_dict_padded, key=region_max_dict_padded.get)\n",
    "    ]\n",
    "\n",
    "    ## iterate over all bigwigs (=rows in final figure)\n",
    "    for key in tech_order:\n",
    "        if verbose == True:\n",
    "            print(f\"\\t{key}: alias {tech_alias_dict[key]}\")\n",
    "\n",
    "        bw_index = tech_order.index(key)  # get the bw index for row indexing\n",
    "\n",
    "        # create a new gridspec for bw + dar\n",
    "        if \"regions_dict_padded\" in locals() or \"peak_path_dict\" in locals():\n",
    "            bw_dar_subgrid = gridspec.GridSpecFromSubplotSpec(\n",
    "                2,\n",
    "                1,\n",
    "                wspace=0.05,\n",
    "                hspace=0,\n",
    "                subplot_spec=bw_dar_grid[bw_index, region_index],\n",
    "                height_ratios=[20, 0.5],\n",
    "            )\n",
    "        else:\n",
    "            bw_dar_subgrid = gridspec.GridSpecFromSubplotSpec(\n",
    "                1,\n",
    "                1,\n",
    "                wspace=0.05,\n",
    "                hspace=0.2,\n",
    "                subplot_spec=bw_dar_grid[bw_index, region_index],\n",
    "            )\n",
    "\n",
    "        # open the bigwig\n",
    "        bw_file = bw_path_dict_dict[region_name][key]\n",
    "        if verbose == True:\n",
    "            print(f\"\\t\\tbw: {bw_file}\")\n",
    "\n",
    "        bw = pyBigWig.open(bw_file)\n",
    "        y = bw.values(chrom, start, end)\n",
    "        y = np.nan_to_num(y)\n",
    "\n",
    "        # now plot the bigwig in the gridspec\n",
    "        ax = plt.Subplot(fig, bw_dar_subgrid[0, 0])\n",
    "        ax.fill_between(\n",
    "            x, y1=y, y2=0, step=\"mid\", linewidth=0, color=tech_color_palette[key]\n",
    "        )\n",
    "        ax.patch.set_alpha(0)\n",
    "\n",
    "        # figure settings\n",
    "        ax.set_xlim([x.min(), x.max()])\n",
    "        ax.set_ylim([0, bw_ymax])\n",
    "        ax.set_xticks([])\n",
    "        ax.set_yticks([])\n",
    "\n",
    "        # add a ylabel only if it's the last column\n",
    "        if region_name == cell_type_order[-1]:\n",
    "            ax.yaxis.set_label_position(\"right\")\n",
    "            ax.set_ylabel(\n",
    "                tech_alias_dict[key],\n",
    "                rotation=0,\n",
    "                horizontalalignment=\"left\",\n",
    "                verticalalignment=\"bottom\",\n",
    "                color=tech_color_palette[key],\n",
    "            )\n",
    "            ax.yaxis.set_label_coords(1.05, 0.05)\n",
    "\n",
    "        # add a title only if it's the first row\n",
    "        if tech_order.index(key) == 0:\n",
    "            region = regions_dict_padded[region_name]\n",
    "            length = round((end - start) / 1000)\n",
    "            label = f\"{cell_type_alias_dict[region_name]}\"\n",
    "\n",
    "            ax.set_title(label, fontsize=8, y=0.45)\n",
    "\n",
    "        sns.despine(top=True, right=True, left=True, bottom=False, ax=ax)\n",
    "        for spine in ax.spines.values():\n",
    "            spine.set_edgecolor(tech_color_palette[key])\n",
    "\n",
    "        # add to the fig\n",
    "        fig.add_subplot(ax, transparent=True)\n",
    "\n",
    "        # first draw peaks if they are defined\n",
    "        if \"peak_path_dict\" in locals():\n",
    "            # get peaks that overlap the region to be plotted\n",
    "            peak = BedTool(peak_path_dict[region_name])\n",
    "            peak_region_intersection = peak.intersect(\n",
    "                BedTool.from_dataframe(df=regions_df_padded), wa=True, wb=True\n",
    "            )\n",
    "            peak_region_intersection = peak_region_intersection.to_dataframe(\n",
    "                header=None\n",
    "            )\n",
    "            peak_region_intersection = peak_region_intersection.iloc[:, :4]\n",
    "            peak_region_intersection.columns = \"chr start end name\".split()\n",
    "\n",
    "            # now plot the dars in the gridspec\n",
    "            ax = plt.Subplot(fig, bw_dar_subgrid[1, 0])\n",
    "            for element in peak_region_intersection.index:\n",
    "                part = peak_region_intersection.loc[element]\n",
    "                peak_start = part[\"start\"]\n",
    "                peak_end = part[\"end\"]\n",
    "\n",
    "                # plot a thin line, with beginning and ending as x coordinates, and bw_ymin as y coordinates\n",
    "                # NOTE: linewidth won't do much here, it is more determined by the 'space' you give to this part of the plot in height_ratios!\n",
    "                ax.plot([peak_start, peak_end], [0, 0], linewidth=4, c=peak_color)\n",
    "\n",
    "            # figure settings\n",
    "            ax.set_ylim([-1, +1])\n",
    "            addax()\n",
    "\n",
    "        # then draw dars if they are defined\n",
    "        if \"regions_path_dict\" in locals():\n",
    "            # get DARs that overlap the region to be plotted\n",
    "            dar = BedTool(regions_path_dict[region_name])\n",
    "            if verbose == True:\n",
    "                print(f\"\\t\\tdar: {regions_path_dict[region_name]}\")\n",
    "\n",
    "            dar_region_intersection = dar.intersect(\n",
    "                BedTool.from_dataframe(df=regions_df_padded), wa=True, wb=True\n",
    "            )\n",
    "            dar_region_intersection = dar_region_intersection.to_dataframe(header=None)\n",
    "            dar_region_intersection = dar_region_intersection.iloc[:, :4]\n",
    "            dar_region_intersection.columns = \"chr start end name\".split()\n",
    "\n",
    "            # now plot the dars in the gridspec\n",
    "            ax = plt.Subplot(fig, bw_dar_subgrid[1, 0])\n",
    "            for element in dar_region_intersection.index:\n",
    "                part = dar_region_intersection.loc[element]\n",
    "                dar_start = part[\"start\"]\n",
    "                dar_end = part[\"end\"]\n",
    "\n",
    "                # plot a thin line, with beginning and ending as x coordinates, and bw_ymin as y coordinates\n",
    "                # NOTE: linewidth won't do much here, it is more determined by the 'space' you give to this part of the plot in height_ratios!\n",
    "                ax.plot([dar_start, dar_end], [0, 0], linewidth=4, c=dar_color)\n",
    "\n",
    "            # figure settings\n",
    "            ax.set_ylim([-1, +1])\n",
    "            addax()\n",
    "\n",
    "    ## draw the genes of interest, from our gtf\n",
    "    # intersect genes gtf with the region of interest\n",
    "    if plot_genes == True:\n",
    "        gtf = BedTool(gtf_file)\n",
    "        gtf_region_intersection = gtf.intersect(\n",
    "            BedTool.from_dataframe(df=regions_df_padded), wa=True, wb=True\n",
    "        )\n",
    "        gtf_region_intersection = gtf_region_intersection.to_dataframe(header=None)\n",
    "        gtf_region_intersection = gtf_region_intersection.iloc[:, :9]\n",
    "        gtf_region_intersection.columns = (\n",
    "            \"chr db feature start end score strand frame attribute\".split()\n",
    "        )\n",
    "\n",
    "        ## iterate over all genes of interest in genes_dict\n",
    "        for gene in genes_dict[region_name]:\n",
    "            gene_index = genes_dict[region_name].index(\n",
    "                gene\n",
    "            )  # get gene index for row indexing\n",
    "\n",
    "            # get gtf intersection with only gene body and exons of this particular gene\n",
    "            gtf_region_intersection_gene = gtf_region_intersection[\n",
    "                gtf_region_intersection[\"attribute\"].str.contains(gene)\n",
    "            ]\n",
    "            gtf_region_intersection_gene = gtf_region_intersection_gene[\n",
    "                gtf_region_intersection_gene[\"feature\"].str.contains(\"gene|exon\")\n",
    "            ]\n",
    "\n",
    "            # now plot the gene parts (gene body and gene exon)\n",
    "            ax = plt.Subplot(fig, gtf_grid[gene_index, region_index])\n",
    "\n",
    "            # iterate over all parts to plot them\n",
    "            for element in gtf_region_intersection_gene.index:\n",
    "                part = gtf_region_intersection_gene.loc[element]\n",
    "\n",
    "                # make exons thick\n",
    "                if part[\"feature\"] == \"exon\":\n",
    "                    exon_start = part[\"start\"]\n",
    "                    exon_end = part[\"end\"]\n",
    "                    # draw rectangle for exon\n",
    "                    rect = mpatches.Rectangle(\n",
    "                        (exon_start, exon_bottom),\n",
    "                        exon_end - exon_start,\n",
    "                        exon_height,\n",
    "                        fill=True,\n",
    "                        color=\"k\",\n",
    "                        linewidth=0,\n",
    "                    )\n",
    "                    ax.add_patch(rect)\n",
    "\n",
    "                # make the gene body a thin line, drawn at the end so it will always display on top\n",
    "                elif part[\"feature\"] == \"gene\":\n",
    "                    gene_start = part[\"start\"]\n",
    "                    gene_end = part[\"end\"]\n",
    "                    rect = mpatches.Rectangle(\n",
    "                        (gene_start, gene_bottom),\n",
    "                        gene_end - gene_start,\n",
    "                        gene_height,\n",
    "                        fill=True,\n",
    "                        color=\"k\",\n",
    "                        linewidth=0,\n",
    "                    )\n",
    "                    ax.add_patch(rect)\n",
    "\n",
    "        if verbose == True:\n",
    "            print(\n",
    "                f\"\\tfor region {region_name}, drew gene {gene}, {len(gtf_region_intersection_gene.index)} individual items drawn\\n\"\n",
    "            )\n",
    "\n",
    "        # figure settings\n",
    "        ax.set_ylim([exon_bottom, -exon_bottom])\n",
    "        ax.set_xlabel(gene, fontsize=10)\n",
    "        addax()\n",
    "\n",
    "# fig.savefig(\n",
    "#     \"plts_track/dar_best_track__per_tech_harmony_cell_type_bigwigs_nonnorm.png\",\n",
    "#     dpi=350,\n",
    "#     bbox_inches=\"tight\",\n",
    "#     pad_inches=0,\n",
    "#     transparent=False,\n",
    "#     facecolor=\"white\",\n",
    "# )\n",
    "# fig.savefig(\n",
    "#     \"plts_track/dar_best_track__per_tech_harmony_cell_type_bigwigs_nonnorm.svg\",\n",
    "#     dpi=350,\n",
    "#     bbox_inches=\"tight\",\n",
    "#     pad_inches=0,\n",
    "#     transparent=False,\n",
    "#     facecolor=\"white\",\n",
    "# )\n",
    "\n",
    "fig"
   ]
  },
  {
   "cell_type": "code",
   "execution_count": null,
   "id": "4422bd44-cf79-4163-8c34-77b903701226",
   "metadata": {},
   "outputs": [],
   "source": []
  },
  {
   "cell_type": "code",
   "execution_count": null,
   "id": "3677d533-8f69-4fc3-bace-8fc126e869da",
   "metadata": {},
   "outputs": [],
   "source": []
  },
  {
   "cell_type": "code",
   "execution_count": null,
   "id": "7a9a34e5-e626-4e64-bfd1-e3cc4c09b363",
   "metadata": {},
   "outputs": [],
   "source": []
  }
 ],
 "metadata": {
  "kernelspec": {
   "display_name": "Python 3 (ipykernel)",
   "language": "python",
   "name": "python3"
  },
  "language_info": {
   "codemirror_mode": {
    "name": "ipython",
    "version": 3
   },
   "file_extension": ".py",
   "mimetype": "text/x-python",
   "name": "python",
   "nbconvert_exporter": "python",
   "pygments_lexer": "ipython3",
   "version": "3.7.7"
  },
  "papermill": {
   "default_parameters": {},
   "duration": 33.135392,
   "end_time": "2022-09-18T16:28:23.816937",
   "environment_variables": {},
   "exception": null,
   "input_path": "8_consensus_peaks.ipynb",
   "output_path": "8_consensus_peaks.OUT.ipynb",
   "parameters": {},
   "start_time": "2022-09-18T16:27:50.681545",
   "version": "2.3.4"
  }
 },
 "nbformat": 4,
 "nbformat_minor": 5
}

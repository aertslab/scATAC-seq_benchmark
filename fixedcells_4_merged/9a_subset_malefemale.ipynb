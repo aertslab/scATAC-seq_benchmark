{
 "cells": [
  {
   "cell_type": "markdown",
   "id": "5c333756-e895-4939-9ad4-2337267d4e51",
   "metadata": {
    "papermill": {
     "duration": 0.863588,
     "end_time": "2022-11-01T17:11:53.635985",
     "exception": false,
     "start_time": "2022-11-01T17:11:52.772397",
     "status": "completed"
    },
    "pycharm": {
     "name": "#%% md\n"
    },
    "tags": []
   },
   "source": [
    "# pycisTopic analysis\n",
    "\n",
    "Full dataset, using consensus peak regions."
   ]
  },
  {
   "cell_type": "code",
   "execution_count": 45,
   "id": "0bed79c4-0902-4814-ad01-b2e3f02c11e9",
   "metadata": {
    "execution": {
     "iopub.execute_input": "2023-03-07T17:57:07.084095Z",
     "iopub.status.busy": "2023-03-07T17:57:07.083185Z",
     "iopub.status.idle": "2023-03-07T17:57:07.116893Z",
     "shell.execute_reply": "2023-03-07T17:57:07.115849Z",
     "shell.execute_reply.started": "2023-03-07T17:57:07.084038Z"
    },
    "papermill": {
     "duration": 5.79857,
     "end_time": "2022-11-01T17:11:59.477180",
     "exception": false,
     "start_time": "2022-11-01T17:11:53.678610",
     "status": "completed"
    },
    "pycharm": {
     "name": "#%%\n"
    },
    "tags": []
   },
   "outputs": [
    {
     "name": "stdout",
     "output_type": "stream",
     "text": [
      "The nb_black extension is already loaded. To reload it, use:\n",
      "  %reload_ext nb_black\n"
     ]
    },
    {
     "data": {
      "application/javascript": [
       "\n",
       "            setTimeout(function() {\n",
       "                var nbb_cell_id = 45;\n",
       "                var nbb_unformatted_code = \"import pycisTopic\\n%load_ext nb_black\\nimport warnings\\nwarnings.filterwarnings('ignore')\\nwarnings.simplefilter('ignore')\\nimport pickle\\nimport pandas as pd\\nimport os\";\n",
       "                var nbb_formatted_code = \"import pycisTopic\\n\\n%load_ext nb_black\\nimport warnings\\n\\nwarnings.filterwarnings(\\\"ignore\\\")\\nwarnings.simplefilter(\\\"ignore\\\")\\nimport pickle\\nimport pandas as pd\\nimport os\";\n",
       "                var nbb_cells = Jupyter.notebook.get_cells();\n",
       "                for (var i = 0; i < nbb_cells.length; ++i) {\n",
       "                    if (nbb_cells[i].input_prompt_number == nbb_cell_id) {\n",
       "                        if (nbb_cells[i].get_text() == nbb_unformatted_code) {\n",
       "                             nbb_cells[i].set_text(nbb_formatted_code);\n",
       "                        }\n",
       "                        break;\n",
       "                    }\n",
       "                }\n",
       "            }, 500);\n",
       "            "
      ],
      "text/plain": [
       "<IPython.core.display.Javascript object>"
      ]
     },
     "metadata": {},
     "output_type": "display_data"
    }
   ],
   "source": [
    "import pycisTopic\n",
    "%load_ext nb_black\n",
    "import warnings\n",
    "warnings.filterwarnings('ignore')\n",
    "warnings.simplefilter('ignore')\n",
    "import pickle\n",
    "import pandas as pd\n",
    "import os"
   ]
  },
  {
   "cell_type": "code",
   "execution_count": 46,
   "id": "b164ba20-ba1b-48e4-8e0d-5dabedf7dcce",
   "metadata": {
    "execution": {
     "iopub.execute_input": "2023-03-07T17:57:07.252338Z",
     "iopub.status.busy": "2023-03-07T17:57:07.251579Z",
     "iopub.status.idle": "2023-03-07T17:57:07.516216Z",
     "shell.execute_reply": "2023-03-07T17:57:07.514406Z",
     "shell.execute_reply.started": "2023-03-07T17:57:07.252281Z"
    },
    "papermill": {
     "duration": 0.422939,
     "end_time": "2022-11-01T17:11:59.939496",
     "exception": false,
     "start_time": "2022-11-01T17:11:59.516557",
     "status": "completed"
    },
    "tags": []
   },
   "outputs": [
    {
     "name": "stdout",
     "output_type": "stream",
     "text": [
      "/lustre1/project/stg_00090/scatac_benchmark/fixedcells_4_merged\n"
     ]
    },
    {
     "data": {
      "application/javascript": [
       "\n",
       "            setTimeout(function() {\n",
       "                var nbb_cell_id = 46;\n",
       "                var nbb_unformatted_code = \"!pwd\";\n",
       "                var nbb_formatted_code = \"!pwd\";\n",
       "                var nbb_cells = Jupyter.notebook.get_cells();\n",
       "                for (var i = 0; i < nbb_cells.length; ++i) {\n",
       "                    if (nbb_cells[i].input_prompt_number == nbb_cell_id) {\n",
       "                        if (nbb_cells[i].get_text() == nbb_unformatted_code) {\n",
       "                             nbb_cells[i].set_text(nbb_formatted_code);\n",
       "                        }\n",
       "                        break;\n",
       "                    }\n",
       "                }\n",
       "            }, 500);\n",
       "            "
      ],
      "text/plain": [
       "<IPython.core.display.Javascript object>"
      ]
     },
     "metadata": {},
     "output_type": "display_data"
    }
   ],
   "source": [
    "!pwd"
   ]
  },
  {
   "cell_type": "markdown",
   "id": "bfb76957-d770-4364-a5e6-a77b977d573a",
   "metadata": {},
   "source": [
    "# Subset"
   ]
  },
  {
   "cell_type": "code",
   "execution_count": 3,
   "id": "6c27a87c-3bb7-448e-94c4-989498e01433",
   "metadata": {
    "execution": {
     "iopub.execute_input": "2023-03-06T15:49:34.442318Z",
     "iopub.status.busy": "2023-03-06T15:49:34.441536Z",
     "iopub.status.idle": "2023-03-06T15:49:34.455133Z",
     "shell.execute_reply": "2023-03-06T15:49:34.453829Z",
     "shell.execute_reply.started": "2023-03-06T15:49:34.442257Z"
    },
    "papermill": {
     "duration": 0.045103,
     "end_time": "2022-11-01T17:12:00.026717",
     "exception": false,
     "start_time": "2022-11-01T17:11:59.981614",
     "status": "completed"
    },
    "pycharm": {
     "name": "#%%\n"
    },
    "tags": []
   },
   "outputs": [
    {
     "data": {
      "application/javascript": [
       "\n",
       "            setTimeout(function() {\n",
       "                var nbb_cell_id = 3;\n",
       "                var nbb_unformatted_code = \"wdir = '/lustre1/project/stg_00090/scatac_benchmark/fixedcells_4_merged'\\nos.chdir( wdir )\";\n",
       "                var nbb_formatted_code = \"wdir = \\\"/lustre1/project/stg_00090/scatac_benchmark/fixedcells_4_merged\\\"\\nos.chdir(wdir)\";\n",
       "                var nbb_cells = Jupyter.notebook.get_cells();\n",
       "                for (var i = 0; i < nbb_cells.length; ++i) {\n",
       "                    if (nbb_cells[i].input_prompt_number == nbb_cell_id) {\n",
       "                        if (nbb_cells[i].get_text() == nbb_unformatted_code) {\n",
       "                             nbb_cells[i].set_text(nbb_formatted_code);\n",
       "                        }\n",
       "                        break;\n",
       "                    }\n",
       "                }\n",
       "            }, 500);\n",
       "            "
      ],
      "text/plain": [
       "<IPython.core.display.Javascript object>"
      ]
     },
     "metadata": {},
     "output_type": "display_data"
    }
   ],
   "source": [
    "wdir = '/lustre1/project/stg_00090/scatac_benchmark/fixedcells_4_merged'\n",
    "os.chdir( wdir )"
   ]
  },
  {
   "cell_type": "code",
   "execution_count": 4,
   "id": "9a148d94-c857-44ca-826f-570d54b3a8bc",
   "metadata": {
    "execution": {
     "iopub.execute_input": "2023-03-06T15:49:34.459714Z",
     "iopub.status.busy": "2023-03-06T15:49:34.458889Z",
     "iopub.status.idle": "2023-03-06T15:49:34.468878Z",
     "shell.execute_reply": "2023-03-06T15:49:34.467689Z",
     "shell.execute_reply.started": "2023-03-06T15:49:34.459669Z"
    },
    "tags": []
   },
   "outputs": [
    {
     "data": {
      "application/javascript": [
       "\n",
       "            setTimeout(function() {\n",
       "                var nbb_cell_id = 4;\n",
       "                var nbb_unformatted_code = \"path = \\\"cistopic_objects_master/master_all_1.FIXEDCELLS__cto.scrublet0-4.fmx.singlets.model_24topics.dimreduc.consensus_harmony.pkl\\\"\";\n",
       "                var nbb_formatted_code = \"path = \\\"cistopic_objects_master/master_all_1.FIXEDCELLS__cto.scrublet0-4.fmx.singlets.model_24topics.dimreduc.consensus_harmony.pkl\\\"\";\n",
       "                var nbb_cells = Jupyter.notebook.get_cells();\n",
       "                for (var i = 0; i < nbb_cells.length; ++i) {\n",
       "                    if (nbb_cells[i].input_prompt_number == nbb_cell_id) {\n",
       "                        if (nbb_cells[i].get_text() == nbb_unformatted_code) {\n",
       "                             nbb_cells[i].set_text(nbb_formatted_code);\n",
       "                        }\n",
       "                        break;\n",
       "                    }\n",
       "                }\n",
       "            }, 500);\n",
       "            "
      ],
      "text/plain": [
       "<IPython.core.display.Javascript object>"
      ]
     },
     "metadata": {},
     "output_type": "display_data"
    }
   ],
   "source": [
    "path = \"cistopic_objects_master/master_all_1.FIXEDCELLS__cto.scrublet0-4.fmx.singlets.model_24topics.dimreduc.consensus_harmony.pkl\""
   ]
  },
  {
   "cell_type": "code",
   "execution_count": 5,
   "id": "99b46c00-8ad1-4868-98cb-a57afc3ab905",
   "metadata": {
    "execution": {
     "iopub.execute_input": "2023-03-06T15:49:34.470666Z",
     "iopub.status.busy": "2023-03-06T15:49:34.470269Z",
     "iopub.status.idle": "2023-03-06T15:49:44.093647Z",
     "shell.execute_reply": "2023-03-06T15:49:44.092689Z",
     "shell.execute_reply.started": "2023-03-06T15:49:34.470627Z"
    },
    "tags": []
   },
   "outputs": [
    {
     "data": {
      "application/javascript": [
       "\n",
       "            setTimeout(function() {\n",
       "                var nbb_cell_id = 5;\n",
       "                var nbb_unformatted_code = \"with open(path, 'rb') as f:\\n    cto = pickle.load(f)\";\n",
       "                var nbb_formatted_code = \"with open(path, \\\"rb\\\") as f:\\n    cto = pickle.load(f)\";\n",
       "                var nbb_cells = Jupyter.notebook.get_cells();\n",
       "                for (var i = 0; i < nbb_cells.length; ++i) {\n",
       "                    if (nbb_cells[i].input_prompt_number == nbb_cell_id) {\n",
       "                        if (nbb_cells[i].get_text() == nbb_unformatted_code) {\n",
       "                             nbb_cells[i].set_text(nbb_formatted_code);\n",
       "                        }\n",
       "                        break;\n",
       "                    }\n",
       "                }\n",
       "            }, 500);\n",
       "            "
      ],
      "text/plain": [
       "<IPython.core.display.Javascript object>"
      ]
     },
     "metadata": {},
     "output_type": "display_data"
    }
   ],
   "source": [
    "with open(path, 'rb') as f:\n",
    "    cto = pickle.load(f)"
   ]
  },
  {
   "cell_type": "code",
   "execution_count": 6,
   "id": "cdaaeb9d-fa90-40f4-8a7e-a704d48e397b",
   "metadata": {
    "execution": {
     "iopub.execute_input": "2023-03-06T15:49:44.094848Z",
     "iopub.status.busy": "2023-03-06T15:49:44.094495Z",
     "iopub.status.idle": "2023-03-06T15:49:44.216056Z",
     "shell.execute_reply": "2023-03-06T15:49:44.215125Z",
     "shell.execute_reply.started": "2023-03-06T15:49:44.094827Z"
    },
    "tags": []
   },
   "outputs": [
    {
     "name": "stdout",
     "output_type": "stream",
     "text": [
      "harmony_consensus_cell_type__mega  tech         fmx_sample\n",
      "B cell                             10xmultiome  sampleA       1097\n",
      "                                                sampleB        706\n",
      "                                   10xv1        sampleA        552\n",
      "                                                sampleB        463\n",
      "                                   10xv11       sampleA        905\n",
      "                                                sampleB        655\n",
      "                                   10xv2        sampleA       1097\n",
      "                                                sampleB        652\n",
      "                                   ddseq        sampleA        766\n",
      "                                                sampleB        442\n",
      "                                   hydrop       sampleB        617\n",
      "                                                sampleA        561\n",
      "                                   mtscatac     sampleA       1295\n",
      "                                                sampleB        847\n",
      "                                   s3atac       sampleA        254\n",
      "                                                sampleB        146\n",
      "CD14+ monocyte                     10xmultiome  sampleB       1994\n",
      "                                                sampleA       1604\n",
      "                                   10xv1        sampleB       2097\n",
      "                                                sampleA        972\n",
      "                                   10xv11       sampleB       1896\n",
      "                                                sampleA       1273\n",
      "                                   10xv2        sampleB       1766\n",
      "                                                sampleA       1264\n",
      "                                   ddseq        sampleB        688\n",
      "                                                sampleA        671\n",
      "                                   hydrop       sampleB       2262\n",
      "                                                sampleA       1664\n",
      "                                   mtscatac     sampleB       2220\n",
      "                                                sampleA       1669\n",
      "                                   s3atac       sampleA        309\n",
      "                                                sampleB        299\n",
      "CD16+ monocyte                     10xmultiome  sampleA        758\n",
      "                                                sampleB        301\n",
      "                                   10xv1        sampleA        340\n",
      "                                                sampleB        228\n",
      "                                   10xv11       sampleA        618\n",
      "                                                sampleB        293\n",
      "                                   10xv2        sampleA        681\n",
      "                                                sampleB        280\n",
      "                                   ddseq        sampleA        206\n",
      "                                                sampleB         54\n",
      "                                   hydrop       sampleA        114\n",
      "                                                sampleB         48\n",
      "                                   mtscatac     sampleA        395\n",
      "                                                sampleB        120\n",
      "                                   s3atac       sampleA         83\n",
      "                                                sampleB         32\n",
      "CD4+ T cell                        10xmultiome  sampleB       2148\n",
      "                                                sampleA       2058\n",
      "                                   10xv1        sampleB       1793\n",
      "                                                sampleA       1301\n",
      "                                   10xv11       sampleB       2262\n",
      "                                                sampleA       1591\n",
      "                                   10xv2        sampleB       2642\n",
      "                                                sampleA       1907\n",
      "                                   ddseq        sampleA       1843\n",
      "                                                sampleB       1727\n",
      "                                   hydrop       sampleB       2319\n",
      "                                                sampleA       1248\n",
      "                                   mtscatac     sampleB       4124\n",
      "                                                sampleA       2715\n",
      "                                   s3atac       sampleB        230\n",
      "                                                sampleA        228\n",
      "Cytotoxic T cell                   10xmultiome  sampleA       2336\n",
      "                                                sampleB       1218\n",
      "                                   10xv1        sampleA       1134\n",
      "                                                sampleB        635\n",
      "                                   10xv11       sampleA       1671\n",
      "                                                sampleB        931\n",
      "                                   10xv2        sampleA       1927\n",
      "                                                sampleB       1006\n",
      "                                   ddseq        sampleA       1919\n",
      "                                                sampleB        857\n",
      "                                   hydrop       sampleA       3509\n",
      "                                                sampleB       3067\n",
      "                                   mtscatac     sampleA       4175\n",
      "                                                sampleB       3019\n",
      "                                   s3atac       sampleA        719\n",
      "                                                sampleB        449\n",
      "Dendritic cell                     10xmultiome  sampleA        283\n",
      "                                                sampleB        139\n",
      "                                   10xv1        sampleA        154\n",
      "                                                sampleB         71\n",
      "                                   10xv11       sampleA        306\n",
      "                                                sampleB        126\n",
      "                                   10xv2        sampleA        301\n",
      "                                                sampleB        111\n",
      "                                   ddseq        sampleA         55\n",
      "                                                sampleB         11\n",
      "                                   hydrop       sampleA        156\n",
      "                                                sampleB         91\n",
      "                                   mtscatac     sampleA        398\n",
      "                                                sampleB        156\n",
      "                                   s3atac       sampleA         44\n",
      "                                                sampleB         20\n",
      "Natural killer cell                10xmultiome  sampleB        796\n",
      "                                                sampleA        572\n",
      "                                   10xv1        sampleB        382\n",
      "                                                sampleA        232\n",
      "                                   10xv11       sampleB        860\n",
      "                                                sampleA        609\n",
      "                                   10xv2        sampleB        943\n",
      "                                                sampleA        593\n",
      "                                   ddseq        sampleA         13\n",
      "                                                sampleB          7\n",
      "                                   hydrop       sampleB        399\n",
      "                                                sampleA        258\n",
      "                                   mtscatac     sampleB       1152\n",
      "                                                sampleA        722\n",
      "                                   s3atac       sampleA        131\n",
      "                                                sampleB        123\n",
      "Name: fmx_sample, dtype: int64\n"
     ]
    },
    {
     "data": {
      "application/javascript": [
       "\n",
       "            setTimeout(function() {\n",
       "                var nbb_cell_id = 6;\n",
       "                var nbb_unformatted_code = \"with pd.option_context('display.max_rows', None,\\n                       'display.max_columns', None,\\n                       'display.precision', 3,\\n                       ):\\n    print(cto.cell_data.groupby([\\\"harmony_consensus_cell_type__mega\\\",\\\"tech\\\"])[\\\"fmx_sample\\\"].value_counts())\";\n",
       "                var nbb_formatted_code = \"with pd.option_context(\\n    \\\"display.max_rows\\\",\\n    None,\\n    \\\"display.max_columns\\\",\\n    None,\\n    \\\"display.precision\\\",\\n    3,\\n):\\n    print(\\n        cto.cell_data.groupby([\\\"harmony_consensus_cell_type__mega\\\", \\\"tech\\\"])[\\n            \\\"fmx_sample\\\"\\n        ].value_counts()\\n    )\";\n",
       "                var nbb_cells = Jupyter.notebook.get_cells();\n",
       "                for (var i = 0; i < nbb_cells.length; ++i) {\n",
       "                    if (nbb_cells[i].input_prompt_number == nbb_cell_id) {\n",
       "                        if (nbb_cells[i].get_text() == nbb_unformatted_code) {\n",
       "                             nbb_cells[i].set_text(nbb_formatted_code);\n",
       "                        }\n",
       "                        break;\n",
       "                    }\n",
       "                }\n",
       "            }, 500);\n",
       "            "
      ],
      "text/plain": [
       "<IPython.core.display.Javascript object>"
      ]
     },
     "metadata": {},
     "output_type": "display_data"
    }
   ],
   "source": [
    "with pd.option_context('display.max_rows', None,\n",
    "                       'display.max_columns', None,\n",
    "                       'display.precision', 3,\n",
    "                       ):\n",
    "    print(cto.cell_data.groupby([\"harmony_consensus_cell_type__mega\",\"tech\"])[\"fmx_sample\"].value_counts())"
   ]
  },
  {
   "cell_type": "code",
   "execution_count": 7,
   "id": "11cc778f-dac6-4e66-8b93-480ecea991ff",
   "metadata": {
    "execution": {
     "iopub.execute_input": "2023-03-06T15:49:44.217090Z",
     "iopub.status.busy": "2023-03-06T15:49:44.216894Z",
     "iopub.status.idle": "2023-03-06T15:49:44.706163Z",
     "shell.execute_reply": "2023-03-06T15:49:44.705215Z",
     "shell.execute_reply.started": "2023-03-06T15:49:44.217072Z"
    },
    "papermill": {
     "duration": 0.475425,
     "end_time": "2022-09-28T14:39:15.431088",
     "exception": false,
     "start_time": "2022-09-28T14:39:14.955663",
     "status": "completed"
    },
    "pycharm": {
     "name": "#%%\n"
    },
    "tags": []
   },
   "outputs": [
    {
     "data": {
      "text/html": [
       "<div>\n",
       "<style scoped>\n",
       "    .dataframe tbody tr th:only-of-type {\n",
       "        vertical-align: middle;\n",
       "    }\n",
       "\n",
       "    .dataframe tbody tr th {\n",
       "        vertical-align: top;\n",
       "    }\n",
       "\n",
       "    .dataframe thead th {\n",
       "        text-align: right;\n",
       "    }\n",
       "</style>\n",
       "<table border=\"1\" class=\"dataframe\">\n",
       "  <thead>\n",
       "    <tr style=\"text-align: right;\">\n",
       "      <th></th>\n",
       "      <th>INT_ID</th>\n",
       "      <th>BARCODE</th>\n",
       "      <th>NUM.SNPS</th>\n",
       "      <th>NUM.READS</th>\n",
       "      <th>DROPLET.TYPE</th>\n",
       "      <th>BEST.GUESS</th>\n",
       "      <th>BEST.LLK</th>\n",
       "      <th>NEXT.GUESS</th>\n",
       "      <th>NEXT.LLK</th>\n",
       "      <th>DIFF.LLK.BEST.NEXT</th>\n",
       "      <th>...</th>\n",
       "      <th>SNG.BEST.LLK</th>\n",
       "      <th>SNG.NEXT.GUESS</th>\n",
       "      <th>SNG.NEXT.LLK</th>\n",
       "      <th>SNG.ONLY.POSTERIOR</th>\n",
       "      <th>DBL.BEST.GUESS</th>\n",
       "      <th>DBL.BEST.LLK</th>\n",
       "      <th>DIFF.LLK.SNG.DBL</th>\n",
       "      <th>ubarcode</th>\n",
       "      <th>replicate</th>\n",
       "      <th>sample</th>\n",
       "    </tr>\n",
       "  </thead>\n",
       "  <tbody>\n",
       "    <tr>\n",
       "      <th>CNA_hydrop_2.FIXEDCELLS.1</th>\n",
       "      <td>0</td>\n",
       "      <td>CGACATTACATAGGAGTCAA</td>\n",
       "      <td>182</td>\n",
       "      <td>182</td>\n",
       "      <td>SNG</td>\n",
       "      <td>1,1</td>\n",
       "      <td>-324.11</td>\n",
       "      <td>1,0</td>\n",
       "      <td>-343.05</td>\n",
       "      <td>18.94</td>\n",
       "      <td>...</td>\n",
       "      <td>-324.11</td>\n",
       "      <td>0</td>\n",
       "      <td>-373.28</td>\n",
       "      <td>1.0</td>\n",
       "      <td>1,0</td>\n",
       "      <td>-343.05</td>\n",
       "      <td>18.94</td>\n",
       "      <td>CNA_hydrop_2.FIXEDCELLS#CGACATTACATAGGAGTCAA</td>\n",
       "      <td>CNA_hydrop_2.FIXEDCELLS</td>\n",
       "      <td>sampleB</td>\n",
       "    </tr>\n",
       "    <tr>\n",
       "      <th>CNA_hydrop_2.FIXEDCELLS.2</th>\n",
       "      <td>1</td>\n",
       "      <td>GGCAACCTCTGAGCTAGTAA</td>\n",
       "      <td>209</td>\n",
       "      <td>209</td>\n",
       "      <td>SNG</td>\n",
       "      <td>0,0</td>\n",
       "      <td>-369.10</td>\n",
       "      <td>1,0</td>\n",
       "      <td>-390.29</td>\n",
       "      <td>21.19</td>\n",
       "      <td>...</td>\n",
       "      <td>-369.10</td>\n",
       "      <td>1</td>\n",
       "      <td>-426.11</td>\n",
       "      <td>1.0</td>\n",
       "      <td>1,0</td>\n",
       "      <td>-390.29</td>\n",
       "      <td>21.19</td>\n",
       "      <td>CNA_hydrop_2.FIXEDCELLS#GGCAACCTCTGAGCTAGTAA</td>\n",
       "      <td>CNA_hydrop_2.FIXEDCELLS</td>\n",
       "      <td>sampleA</td>\n",
       "    </tr>\n",
       "    <tr>\n",
       "      <th>CNA_hydrop_2.FIXEDCELLS.3</th>\n",
       "      <td>2</td>\n",
       "      <td>CAACACCATTTCTCGCACGA</td>\n",
       "      <td>273</td>\n",
       "      <td>273</td>\n",
       "      <td>SNG</td>\n",
       "      <td>0,0</td>\n",
       "      <td>-492.20</td>\n",
       "      <td>1,0</td>\n",
       "      <td>-520.48</td>\n",
       "      <td>28.28</td>\n",
       "      <td>...</td>\n",
       "      <td>-492.20</td>\n",
       "      <td>1</td>\n",
       "      <td>-576.63</td>\n",
       "      <td>1.0</td>\n",
       "      <td>1,0</td>\n",
       "      <td>-520.48</td>\n",
       "      <td>28.28</td>\n",
       "      <td>CNA_hydrop_2.FIXEDCELLS#CAACACCATTTCTCGCACGA</td>\n",
       "      <td>CNA_hydrop_2.FIXEDCELLS</td>\n",
       "      <td>sampleA</td>\n",
       "    </tr>\n",
       "    <tr>\n",
       "      <th>CNA_hydrop_2.FIXEDCELLS.4</th>\n",
       "      <td>3</td>\n",
       "      <td>TGCATGAGGTTACGGACGGT</td>\n",
       "      <td>354</td>\n",
       "      <td>354</td>\n",
       "      <td>SNG</td>\n",
       "      <td>1,1</td>\n",
       "      <td>-636.69</td>\n",
       "      <td>1,0</td>\n",
       "      <td>-669.83</td>\n",
       "      <td>33.14</td>\n",
       "      <td>...</td>\n",
       "      <td>-636.69</td>\n",
       "      <td>0</td>\n",
       "      <td>-734.25</td>\n",
       "      <td>1.0</td>\n",
       "      <td>1,0</td>\n",
       "      <td>-669.83</td>\n",
       "      <td>33.14</td>\n",
       "      <td>CNA_hydrop_2.FIXEDCELLS#TGCATGAGGTTACGGACGGT</td>\n",
       "      <td>CNA_hydrop_2.FIXEDCELLS</td>\n",
       "      <td>sampleB</td>\n",
       "    </tr>\n",
       "    <tr>\n",
       "      <th>CNA_hydrop_2.FIXEDCELLS.5</th>\n",
       "      <td>4</td>\n",
       "      <td>ACAGTGAAGATCCAGTGTTC</td>\n",
       "      <td>577</td>\n",
       "      <td>577</td>\n",
       "      <td>SNG</td>\n",
       "      <td>0,0</td>\n",
       "      <td>-1069.99</td>\n",
       "      <td>1,0</td>\n",
       "      <td>-1093.26</td>\n",
       "      <td>23.27</td>\n",
       "      <td>...</td>\n",
       "      <td>-1069.99</td>\n",
       "      <td>1</td>\n",
       "      <td>-1173.29</td>\n",
       "      <td>1.0</td>\n",
       "      <td>1,0</td>\n",
       "      <td>-1093.26</td>\n",
       "      <td>23.27</td>\n",
       "      <td>CNA_hydrop_2.FIXEDCELLS#ACAGTGAAGATCCAGTGTTC</td>\n",
       "      <td>CNA_hydrop_2.FIXEDCELLS</td>\n",
       "      <td>sampleA</td>\n",
       "    </tr>\n",
       "    <tr>\n",
       "      <th>...</th>\n",
       "      <td>...</td>\n",
       "      <td>...</td>\n",
       "      <td>...</td>\n",
       "      <td>...</td>\n",
       "      <td>...</td>\n",
       "      <td>...</td>\n",
       "      <td>...</td>\n",
       "      <td>...</td>\n",
       "      <td>...</td>\n",
       "      <td>...</td>\n",
       "      <td>...</td>\n",
       "      <td>...</td>\n",
       "      <td>...</td>\n",
       "      <td>...</td>\n",
       "      <td>...</td>\n",
       "      <td>...</td>\n",
       "      <td>...</td>\n",
       "      <td>...</td>\n",
       "      <td>...</td>\n",
       "      <td>...</td>\n",
       "      <td>...</td>\n",
       "    </tr>\n",
       "    <tr>\n",
       "      <th>VIB_hydrop_12.FIXEDCELLS.1417</th>\n",
       "      <td>1416</td>\n",
       "      <td>GTCGTTGAGAGTGACCAGTA</td>\n",
       "      <td>126</td>\n",
       "      <td>126</td>\n",
       "      <td>SNG</td>\n",
       "      <td>1,1</td>\n",
       "      <td>-221.86</td>\n",
       "      <td>1,0</td>\n",
       "      <td>-240.94</td>\n",
       "      <td>19.08</td>\n",
       "      <td>...</td>\n",
       "      <td>-221.86</td>\n",
       "      <td>0</td>\n",
       "      <td>-283.50</td>\n",
       "      <td>1.0</td>\n",
       "      <td>1,0</td>\n",
       "      <td>-240.94</td>\n",
       "      <td>19.08</td>\n",
       "      <td>VIB_hydrop_12.FIXEDCELLS#GTCGTTGAGAGTGACCAGTA</td>\n",
       "      <td>VIB_hydrop_12.FIXEDCELLS</td>\n",
       "      <td>sampleB</td>\n",
       "    </tr>\n",
       "    <tr>\n",
       "      <th>VIB_hydrop_12.FIXEDCELLS.1418</th>\n",
       "      <td>1417</td>\n",
       "      <td>ACCGAAGGCTTTGCAGTTCT</td>\n",
       "      <td>103</td>\n",
       "      <td>103</td>\n",
       "      <td>SNG</td>\n",
       "      <td>1,1</td>\n",
       "      <td>-185.75</td>\n",
       "      <td>1,0</td>\n",
       "      <td>-198.81</td>\n",
       "      <td>13.06</td>\n",
       "      <td>...</td>\n",
       "      <td>-185.75</td>\n",
       "      <td>0</td>\n",
       "      <td>-226.20</td>\n",
       "      <td>1.0</td>\n",
       "      <td>1,0</td>\n",
       "      <td>-198.81</td>\n",
       "      <td>13.06</td>\n",
       "      <td>VIB_hydrop_12.FIXEDCELLS#ACCGAAGGCTTTGCAGTTCT</td>\n",
       "      <td>VIB_hydrop_12.FIXEDCELLS</td>\n",
       "      <td>sampleB</td>\n",
       "    </tr>\n",
       "    <tr>\n",
       "      <th>VIB_hydrop_12.FIXEDCELLS.1419</th>\n",
       "      <td>1418</td>\n",
       "      <td>TAGAGCCTGATTGTGTAGGA</td>\n",
       "      <td>115</td>\n",
       "      <td>115</td>\n",
       "      <td>SNG</td>\n",
       "      <td>1,1</td>\n",
       "      <td>-207.21</td>\n",
       "      <td>1,0</td>\n",
       "      <td>-219.27</td>\n",
       "      <td>12.06</td>\n",
       "      <td>...</td>\n",
       "      <td>-207.21</td>\n",
       "      <td>0</td>\n",
       "      <td>-244.26</td>\n",
       "      <td>1.0</td>\n",
       "      <td>1,0</td>\n",
       "      <td>-219.27</td>\n",
       "      <td>12.06</td>\n",
       "      <td>VIB_hydrop_12.FIXEDCELLS#TAGAGCCTGATTGTGTAGGA</td>\n",
       "      <td>VIB_hydrop_12.FIXEDCELLS</td>\n",
       "      <td>sampleB</td>\n",
       "    </tr>\n",
       "    <tr>\n",
       "      <th>VIB_hydrop_12.FIXEDCELLS.1420</th>\n",
       "      <td>1419</td>\n",
       "      <td>CAATTGGAGACCACACGGAT</td>\n",
       "      <td>101</td>\n",
       "      <td>101</td>\n",
       "      <td>SNG</td>\n",
       "      <td>1,1</td>\n",
       "      <td>-177.98</td>\n",
       "      <td>1,0</td>\n",
       "      <td>-188.29</td>\n",
       "      <td>10.31</td>\n",
       "      <td>...</td>\n",
       "      <td>-177.98</td>\n",
       "      <td>0</td>\n",
       "      <td>-214.34</td>\n",
       "      <td>1.0</td>\n",
       "      <td>1,0</td>\n",
       "      <td>-188.29</td>\n",
       "      <td>10.31</td>\n",
       "      <td>VIB_hydrop_12.FIXEDCELLS#CAATTGGAGACCACACGGAT</td>\n",
       "      <td>VIB_hydrop_12.FIXEDCELLS</td>\n",
       "      <td>sampleB</td>\n",
       "    </tr>\n",
       "    <tr>\n",
       "      <th>VIB_hydrop_12.FIXEDCELLS.1421</th>\n",
       "      <td>1420</td>\n",
       "      <td>TCGTCACAAGATCCAGCGCA</td>\n",
       "      <td>96</td>\n",
       "      <td>96</td>\n",
       "      <td>SNG</td>\n",
       "      <td>0,0</td>\n",
       "      <td>-165.04</td>\n",
       "      <td>1,0</td>\n",
       "      <td>-177.31</td>\n",
       "      <td>12.28</td>\n",
       "      <td>...</td>\n",
       "      <td>-165.04</td>\n",
       "      <td>1</td>\n",
       "      <td>-201.88</td>\n",
       "      <td>1.0</td>\n",
       "      <td>1,0</td>\n",
       "      <td>-177.31</td>\n",
       "      <td>12.28</td>\n",
       "      <td>VIB_hydrop_12.FIXEDCELLS#TCGTCACAAGATCCAGCGCA</td>\n",
       "      <td>VIB_hydrop_12.FIXEDCELLS</td>\n",
       "      <td>sampleA</td>\n",
       "    </tr>\n",
       "  </tbody>\n",
       "</table>\n",
       "<p>119904 rows × 23 columns</p>\n",
       "</div>"
      ],
      "text/plain": [
       "                               INT_ID               BARCODE  NUM.SNPS  \\\n",
       "CNA_hydrop_2.FIXEDCELLS.1           0  CGACATTACATAGGAGTCAA       182   \n",
       "CNA_hydrop_2.FIXEDCELLS.2           1  GGCAACCTCTGAGCTAGTAA       209   \n",
       "CNA_hydrop_2.FIXEDCELLS.3           2  CAACACCATTTCTCGCACGA       273   \n",
       "CNA_hydrop_2.FIXEDCELLS.4           3  TGCATGAGGTTACGGACGGT       354   \n",
       "CNA_hydrop_2.FIXEDCELLS.5           4  ACAGTGAAGATCCAGTGTTC       577   \n",
       "...                               ...                   ...       ...   \n",
       "VIB_hydrop_12.FIXEDCELLS.1417    1416  GTCGTTGAGAGTGACCAGTA       126   \n",
       "VIB_hydrop_12.FIXEDCELLS.1418    1417  ACCGAAGGCTTTGCAGTTCT       103   \n",
       "VIB_hydrop_12.FIXEDCELLS.1419    1418  TAGAGCCTGATTGTGTAGGA       115   \n",
       "VIB_hydrop_12.FIXEDCELLS.1420    1419  CAATTGGAGACCACACGGAT       101   \n",
       "VIB_hydrop_12.FIXEDCELLS.1421    1420  TCGTCACAAGATCCAGCGCA        96   \n",
       "\n",
       "                               NUM.READS DROPLET.TYPE BEST.GUESS  BEST.LLK  \\\n",
       "CNA_hydrop_2.FIXEDCELLS.1            182          SNG        1,1   -324.11   \n",
       "CNA_hydrop_2.FIXEDCELLS.2            209          SNG        0,0   -369.10   \n",
       "CNA_hydrop_2.FIXEDCELLS.3            273          SNG        0,0   -492.20   \n",
       "CNA_hydrop_2.FIXEDCELLS.4            354          SNG        1,1   -636.69   \n",
       "CNA_hydrop_2.FIXEDCELLS.5            577          SNG        0,0  -1069.99   \n",
       "...                                  ...          ...        ...       ...   \n",
       "VIB_hydrop_12.FIXEDCELLS.1417        126          SNG        1,1   -221.86   \n",
       "VIB_hydrop_12.FIXEDCELLS.1418        103          SNG        1,1   -185.75   \n",
       "VIB_hydrop_12.FIXEDCELLS.1419        115          SNG        1,1   -207.21   \n",
       "VIB_hydrop_12.FIXEDCELLS.1420        101          SNG        1,1   -177.98   \n",
       "VIB_hydrop_12.FIXEDCELLS.1421         96          SNG        0,0   -165.04   \n",
       "\n",
       "                              NEXT.GUESS  NEXT.LLK  DIFF.LLK.BEST.NEXT  ...  \\\n",
       "CNA_hydrop_2.FIXEDCELLS.1            1,0   -343.05               18.94  ...   \n",
       "CNA_hydrop_2.FIXEDCELLS.2            1,0   -390.29               21.19  ...   \n",
       "CNA_hydrop_2.FIXEDCELLS.3            1,0   -520.48               28.28  ...   \n",
       "CNA_hydrop_2.FIXEDCELLS.4            1,0   -669.83               33.14  ...   \n",
       "CNA_hydrop_2.FIXEDCELLS.5            1,0  -1093.26               23.27  ...   \n",
       "...                                  ...       ...                 ...  ...   \n",
       "VIB_hydrop_12.FIXEDCELLS.1417        1,0   -240.94               19.08  ...   \n",
       "VIB_hydrop_12.FIXEDCELLS.1418        1,0   -198.81               13.06  ...   \n",
       "VIB_hydrop_12.FIXEDCELLS.1419        1,0   -219.27               12.06  ...   \n",
       "VIB_hydrop_12.FIXEDCELLS.1420        1,0   -188.29               10.31  ...   \n",
       "VIB_hydrop_12.FIXEDCELLS.1421        1,0   -177.31               12.28  ...   \n",
       "\n",
       "                               SNG.BEST.LLK  SNG.NEXT.GUESS  SNG.NEXT.LLK  \\\n",
       "CNA_hydrop_2.FIXEDCELLS.1           -324.11               0       -373.28   \n",
       "CNA_hydrop_2.FIXEDCELLS.2           -369.10               1       -426.11   \n",
       "CNA_hydrop_2.FIXEDCELLS.3           -492.20               1       -576.63   \n",
       "CNA_hydrop_2.FIXEDCELLS.4           -636.69               0       -734.25   \n",
       "CNA_hydrop_2.FIXEDCELLS.5          -1069.99               1      -1173.29   \n",
       "...                                     ...             ...           ...   \n",
       "VIB_hydrop_12.FIXEDCELLS.1417       -221.86               0       -283.50   \n",
       "VIB_hydrop_12.FIXEDCELLS.1418       -185.75               0       -226.20   \n",
       "VIB_hydrop_12.FIXEDCELLS.1419       -207.21               0       -244.26   \n",
       "VIB_hydrop_12.FIXEDCELLS.1420       -177.98               0       -214.34   \n",
       "VIB_hydrop_12.FIXEDCELLS.1421       -165.04               1       -201.88   \n",
       "\n",
       "                               SNG.ONLY.POSTERIOR  DBL.BEST.GUESS  \\\n",
       "CNA_hydrop_2.FIXEDCELLS.1                     1.0             1,0   \n",
       "CNA_hydrop_2.FIXEDCELLS.2                     1.0             1,0   \n",
       "CNA_hydrop_2.FIXEDCELLS.3                     1.0             1,0   \n",
       "CNA_hydrop_2.FIXEDCELLS.4                     1.0             1,0   \n",
       "CNA_hydrop_2.FIXEDCELLS.5                     1.0             1,0   \n",
       "...                                           ...             ...   \n",
       "VIB_hydrop_12.FIXEDCELLS.1417                 1.0             1,0   \n",
       "VIB_hydrop_12.FIXEDCELLS.1418                 1.0             1,0   \n",
       "VIB_hydrop_12.FIXEDCELLS.1419                 1.0             1,0   \n",
       "VIB_hydrop_12.FIXEDCELLS.1420                 1.0             1,0   \n",
       "VIB_hydrop_12.FIXEDCELLS.1421                 1.0             1,0   \n",
       "\n",
       "                               DBL.BEST.LLK  DIFF.LLK.SNG.DBL  \\\n",
       "CNA_hydrop_2.FIXEDCELLS.1           -343.05             18.94   \n",
       "CNA_hydrop_2.FIXEDCELLS.2           -390.29             21.19   \n",
       "CNA_hydrop_2.FIXEDCELLS.3           -520.48             28.28   \n",
       "CNA_hydrop_2.FIXEDCELLS.4           -669.83             33.14   \n",
       "CNA_hydrop_2.FIXEDCELLS.5          -1093.26             23.27   \n",
       "...                                     ...               ...   \n",
       "VIB_hydrop_12.FIXEDCELLS.1417       -240.94             19.08   \n",
       "VIB_hydrop_12.FIXEDCELLS.1418       -198.81             13.06   \n",
       "VIB_hydrop_12.FIXEDCELLS.1419       -219.27             12.06   \n",
       "VIB_hydrop_12.FIXEDCELLS.1420       -188.29             10.31   \n",
       "VIB_hydrop_12.FIXEDCELLS.1421       -177.31             12.28   \n",
       "\n",
       "                                                                    ubarcode  \\\n",
       "CNA_hydrop_2.FIXEDCELLS.1       CNA_hydrop_2.FIXEDCELLS#CGACATTACATAGGAGTCAA   \n",
       "CNA_hydrop_2.FIXEDCELLS.2       CNA_hydrop_2.FIXEDCELLS#GGCAACCTCTGAGCTAGTAA   \n",
       "CNA_hydrop_2.FIXEDCELLS.3       CNA_hydrop_2.FIXEDCELLS#CAACACCATTTCTCGCACGA   \n",
       "CNA_hydrop_2.FIXEDCELLS.4       CNA_hydrop_2.FIXEDCELLS#TGCATGAGGTTACGGACGGT   \n",
       "CNA_hydrop_2.FIXEDCELLS.5       CNA_hydrop_2.FIXEDCELLS#ACAGTGAAGATCCAGTGTTC   \n",
       "...                                                                      ...   \n",
       "VIB_hydrop_12.FIXEDCELLS.1417  VIB_hydrop_12.FIXEDCELLS#GTCGTTGAGAGTGACCAGTA   \n",
       "VIB_hydrop_12.FIXEDCELLS.1418  VIB_hydrop_12.FIXEDCELLS#ACCGAAGGCTTTGCAGTTCT   \n",
       "VIB_hydrop_12.FIXEDCELLS.1419  VIB_hydrop_12.FIXEDCELLS#TAGAGCCTGATTGTGTAGGA   \n",
       "VIB_hydrop_12.FIXEDCELLS.1420  VIB_hydrop_12.FIXEDCELLS#CAATTGGAGACCACACGGAT   \n",
       "VIB_hydrop_12.FIXEDCELLS.1421  VIB_hydrop_12.FIXEDCELLS#TCGTCACAAGATCCAGCGCA   \n",
       "\n",
       "                                              replicate   sample  \n",
       "CNA_hydrop_2.FIXEDCELLS.1       CNA_hydrop_2.FIXEDCELLS  sampleB  \n",
       "CNA_hydrop_2.FIXEDCELLS.2       CNA_hydrop_2.FIXEDCELLS  sampleA  \n",
       "CNA_hydrop_2.FIXEDCELLS.3       CNA_hydrop_2.FIXEDCELLS  sampleA  \n",
       "CNA_hydrop_2.FIXEDCELLS.4       CNA_hydrop_2.FIXEDCELLS  sampleB  \n",
       "CNA_hydrop_2.FIXEDCELLS.5       CNA_hydrop_2.FIXEDCELLS  sampleA  \n",
       "...                                                 ...      ...  \n",
       "VIB_hydrop_12.FIXEDCELLS.1417  VIB_hydrop_12.FIXEDCELLS  sampleB  \n",
       "VIB_hydrop_12.FIXEDCELLS.1418  VIB_hydrop_12.FIXEDCELLS  sampleB  \n",
       "VIB_hydrop_12.FIXEDCELLS.1419  VIB_hydrop_12.FIXEDCELLS  sampleB  \n",
       "VIB_hydrop_12.FIXEDCELLS.1420  VIB_hydrop_12.FIXEDCELLS  sampleB  \n",
       "VIB_hydrop_12.FIXEDCELLS.1421  VIB_hydrop_12.FIXEDCELLS  sampleA  \n",
       "\n",
       "[119904 rows x 23 columns]"
      ]
     },
     "execution_count": 7,
     "metadata": {},
     "output_type": "execute_result"
    },
    {
     "data": {
      "application/javascript": [
       "\n",
       "            setTimeout(function() {\n",
       "                var nbb_cell_id = 7;\n",
       "                var nbb_unformatted_code = \"f_fmx = 'out_fmx/genotype_concordance_unified.txt'\\nfmx = pd.read_csv(f_fmx, sep='\\\\t')\\nfmx\";\n",
       "                var nbb_formatted_code = \"f_fmx = \\\"out_fmx/genotype_concordance_unified.txt\\\"\\nfmx = pd.read_csv(f_fmx, sep=\\\"\\\\t\\\")\\nfmx\";\n",
       "                var nbb_cells = Jupyter.notebook.get_cells();\n",
       "                for (var i = 0; i < nbb_cells.length; ++i) {\n",
       "                    if (nbb_cells[i].input_prompt_number == nbb_cell_id) {\n",
       "                        if (nbb_cells[i].get_text() == nbb_unformatted_code) {\n",
       "                             nbb_cells[i].set_text(nbb_formatted_code);\n",
       "                        }\n",
       "                        break;\n",
       "                    }\n",
       "                }\n",
       "            }, 500);\n",
       "            "
      ],
      "text/plain": [
       "<IPython.core.display.Javascript object>"
      ]
     },
     "metadata": {},
     "output_type": "display_data"
    }
   ],
   "source": [
    "f_fmx = 'out_fmx/genotype_concordance_unified.txt'\n",
    "fmx = pd.read_csv(f_fmx, sep='\\t')\n",
    "fmx"
   ]
  },
  {
   "cell_type": "code",
   "execution_count": 8,
   "id": "b9f553d2-0ddd-4b99-b48a-0dea3f79682d",
   "metadata": {
    "execution": {
     "iopub.execute_input": "2023-03-06T15:49:44.707380Z",
     "iopub.status.busy": "2023-03-06T15:49:44.707155Z",
     "iopub.status.idle": "2023-03-06T15:49:44.760269Z",
     "shell.execute_reply": "2023-03-06T15:49:44.759304Z",
     "shell.execute_reply.started": "2023-03-06T15:49:44.707360Z"
    },
    "papermill": {
     "duration": 0.067835,
     "end_time": "2022-09-28T14:39:15.540756",
     "exception": false,
     "start_time": "2022-09-28T14:39:15.472921",
     "status": "completed"
    },
    "pycharm": {
     "name": "#%%\n"
    },
    "tags": []
   },
   "outputs": [
    {
     "data": {
      "text/html": [
       "<div>\n",
       "<style scoped>\n",
       "    .dataframe tbody tr th:only-of-type {\n",
       "        vertical-align: middle;\n",
       "    }\n",
       "\n",
       "    .dataframe tbody tr th {\n",
       "        vertical-align: top;\n",
       "    }\n",
       "\n",
       "    .dataframe thead th {\n",
       "        text-align: right;\n",
       "    }\n",
       "</style>\n",
       "<table border=\"1\" class=\"dataframe\">\n",
       "  <thead>\n",
       "    <tr style=\"text-align: right;\">\n",
       "      <th></th>\n",
       "      <th>fmx_droplet_type</th>\n",
       "      <th>fmx_sample</th>\n",
       "    </tr>\n",
       "    <tr>\n",
       "      <th>cell_names</th>\n",
       "      <th></th>\n",
       "      <th></th>\n",
       "    </tr>\n",
       "  </thead>\n",
       "  <tbody>\n",
       "    <tr>\n",
       "      <th>CGACATTACATAGGAGTCAA___CNA_hydrop_2.FIXEDCELLS</th>\n",
       "      <td>SNG</td>\n",
       "      <td>sampleB</td>\n",
       "    </tr>\n",
       "    <tr>\n",
       "      <th>GGCAACCTCTGAGCTAGTAA___CNA_hydrop_2.FIXEDCELLS</th>\n",
       "      <td>SNG</td>\n",
       "      <td>sampleA</td>\n",
       "    </tr>\n",
       "    <tr>\n",
       "      <th>CAACACCATTTCTCGCACGA___CNA_hydrop_2.FIXEDCELLS</th>\n",
       "      <td>SNG</td>\n",
       "      <td>sampleA</td>\n",
       "    </tr>\n",
       "    <tr>\n",
       "      <th>TGCATGAGGTTACGGACGGT___CNA_hydrop_2.FIXEDCELLS</th>\n",
       "      <td>SNG</td>\n",
       "      <td>sampleB</td>\n",
       "    </tr>\n",
       "    <tr>\n",
       "      <th>ACAGTGAAGATCCAGTGTTC___CNA_hydrop_2.FIXEDCELLS</th>\n",
       "      <td>SNG</td>\n",
       "      <td>sampleA</td>\n",
       "    </tr>\n",
       "    <tr>\n",
       "      <th>...</th>\n",
       "      <td>...</td>\n",
       "      <td>...</td>\n",
       "    </tr>\n",
       "    <tr>\n",
       "      <th>GTCGTTGAGAGTGACCAGTA___VIB_hydrop_12.FIXEDCELLS</th>\n",
       "      <td>SNG</td>\n",
       "      <td>sampleB</td>\n",
       "    </tr>\n",
       "    <tr>\n",
       "      <th>ACCGAAGGCTTTGCAGTTCT___VIB_hydrop_12.FIXEDCELLS</th>\n",
       "      <td>SNG</td>\n",
       "      <td>sampleB</td>\n",
       "    </tr>\n",
       "    <tr>\n",
       "      <th>TAGAGCCTGATTGTGTAGGA___VIB_hydrop_12.FIXEDCELLS</th>\n",
       "      <td>SNG</td>\n",
       "      <td>sampleB</td>\n",
       "    </tr>\n",
       "    <tr>\n",
       "      <th>CAATTGGAGACCACACGGAT___VIB_hydrop_12.FIXEDCELLS</th>\n",
       "      <td>SNG</td>\n",
       "      <td>sampleB</td>\n",
       "    </tr>\n",
       "    <tr>\n",
       "      <th>TCGTCACAAGATCCAGCGCA___VIB_hydrop_12.FIXEDCELLS</th>\n",
       "      <td>SNG</td>\n",
       "      <td>sampleA</td>\n",
       "    </tr>\n",
       "  </tbody>\n",
       "</table>\n",
       "<p>119904 rows × 2 columns</p>\n",
       "</div>"
      ],
      "text/plain": [
       "                                                fmx_droplet_type fmx_sample\n",
       "cell_names                                                                 \n",
       "CGACATTACATAGGAGTCAA___CNA_hydrop_2.FIXEDCELLS               SNG    sampleB\n",
       "GGCAACCTCTGAGCTAGTAA___CNA_hydrop_2.FIXEDCELLS               SNG    sampleA\n",
       "CAACACCATTTCTCGCACGA___CNA_hydrop_2.FIXEDCELLS               SNG    sampleA\n",
       "TGCATGAGGTTACGGACGGT___CNA_hydrop_2.FIXEDCELLS               SNG    sampleB\n",
       "ACAGTGAAGATCCAGTGTTC___CNA_hydrop_2.FIXEDCELLS               SNG    sampleA\n",
       "...                                                          ...        ...\n",
       "GTCGTTGAGAGTGACCAGTA___VIB_hydrop_12.FIXEDCELLS              SNG    sampleB\n",
       "ACCGAAGGCTTTGCAGTTCT___VIB_hydrop_12.FIXEDCELLS              SNG    sampleB\n",
       "TAGAGCCTGATTGTGTAGGA___VIB_hydrop_12.FIXEDCELLS              SNG    sampleB\n",
       "CAATTGGAGACCACACGGAT___VIB_hydrop_12.FIXEDCELLS              SNG    sampleB\n",
       "TCGTCACAAGATCCAGCGCA___VIB_hydrop_12.FIXEDCELLS              SNG    sampleA\n",
       "\n",
       "[119904 rows x 2 columns]"
      ]
     },
     "execution_count": 8,
     "metadata": {},
     "output_type": "execute_result"
    },
    {
     "data": {
      "application/javascript": [
       "\n",
       "            setTimeout(function() {\n",
       "                var nbb_cell_id = 8;\n",
       "                var nbb_unformatted_code = \"# create an annotation df:\\nfmx['cell_names'] = fmx['BARCODE'] + \\\"___\\\" + fmx['replicate']\\n\\nfmx_annot = fmx[['DROPLET.TYPE','sample','cell_names']].copy().set_index('cell_names')\\nfmx_annot.columns = ['fmx_droplet_type','fmx_sample']\\nfmx_annot\";\n",
       "                var nbb_formatted_code = \"# create an annotation df:\\nfmx[\\\"cell_names\\\"] = fmx[\\\"BARCODE\\\"] + \\\"___\\\" + fmx[\\\"replicate\\\"]\\n\\nfmx_annot = fmx[[\\\"DROPLET.TYPE\\\", \\\"sample\\\", \\\"cell_names\\\"]].copy().set_index(\\\"cell_names\\\")\\nfmx_annot.columns = [\\\"fmx_droplet_type\\\", \\\"fmx_sample\\\"]\\nfmx_annot\";\n",
       "                var nbb_cells = Jupyter.notebook.get_cells();\n",
       "                for (var i = 0; i < nbb_cells.length; ++i) {\n",
       "                    if (nbb_cells[i].input_prompt_number == nbb_cell_id) {\n",
       "                        if (nbb_cells[i].get_text() == nbb_unformatted_code) {\n",
       "                             nbb_cells[i].set_text(nbb_formatted_code);\n",
       "                        }\n",
       "                        break;\n",
       "                    }\n",
       "                }\n",
       "            }, 500);\n",
       "            "
      ],
      "text/plain": [
       "<IPython.core.display.Javascript object>"
      ]
     },
     "metadata": {},
     "output_type": "display_data"
    }
   ],
   "source": [
    "# create an annotation df:\n",
    "fmx['cell_names'] = fmx['BARCODE'] + \"___\" + fmx['replicate']\n",
    "\n",
    "fmx_annot = fmx[['DROPLET.TYPE','sample','cell_names']].copy().set_index('cell_names')\n",
    "fmx_annot.columns = ['fmx_droplet_type','fmx_sample']\n",
    "fmx_annot"
   ]
  },
  {
   "cell_type": "code",
   "execution_count": 9,
   "id": "7fb6413a-a1ee-4a97-bb9e-d724dc272933",
   "metadata": {
    "execution": {
     "iopub.execute_input": "2023-03-06T15:49:44.761468Z",
     "iopub.status.busy": "2023-03-06T15:49:44.761255Z",
     "iopub.status.idle": "2023-03-06T15:49:44.807595Z",
     "shell.execute_reply": "2023-03-06T15:49:44.806699Z",
     "shell.execute_reply.started": "2023-03-06T15:49:44.761450Z"
    },
    "tags": []
   },
   "outputs": [
    {
     "data": {
      "application/javascript": [
       "\n",
       "            setTimeout(function() {\n",
       "                var nbb_cell_id = 9;\n",
       "                var nbb_unformatted_code = \"fmx_annot = fmx_annot.loc[[x for x in fmx_annot.index if \\\"VIB_hydrop\\\" in x]]\\nfmx_annot.index = [x.replace(\\\"___VIB_hydrop_11\\\", \\\"-1___VIB_hydrop_1\\\").replace(\\\"___VIB_hydrop_12\\\",\\\"-2___VIB_hydrop_1\\\").replace(\\\"___VIB_hydrop_21\\\", \\\"-1___VIB_hydrop_2\\\").replace(\\\"___VIB_hydrop_22\\\", \\\"-2___VIB_hydrop_2\\\") for x in fmx_annot.index]\";\n",
       "                var nbb_formatted_code = \"fmx_annot = fmx_annot.loc[[x for x in fmx_annot.index if \\\"VIB_hydrop\\\" in x]]\\nfmx_annot.index = [\\n    x.replace(\\\"___VIB_hydrop_11\\\", \\\"-1___VIB_hydrop_1\\\")\\n    .replace(\\\"___VIB_hydrop_12\\\", \\\"-2___VIB_hydrop_1\\\")\\n    .replace(\\\"___VIB_hydrop_21\\\", \\\"-1___VIB_hydrop_2\\\")\\n    .replace(\\\"___VIB_hydrop_22\\\", \\\"-2___VIB_hydrop_2\\\")\\n    for x in fmx_annot.index\\n]\";\n",
       "                var nbb_cells = Jupyter.notebook.get_cells();\n",
       "                for (var i = 0; i < nbb_cells.length; ++i) {\n",
       "                    if (nbb_cells[i].input_prompt_number == nbb_cell_id) {\n",
       "                        if (nbb_cells[i].get_text() == nbb_unformatted_code) {\n",
       "                             nbb_cells[i].set_text(nbb_formatted_code);\n",
       "                        }\n",
       "                        break;\n",
       "                    }\n",
       "                }\n",
       "            }, 500);\n",
       "            "
      ],
      "text/plain": [
       "<IPython.core.display.Javascript object>"
      ]
     },
     "metadata": {},
     "output_type": "display_data"
    }
   ],
   "source": [
    "fmx_annot = fmx_annot.loc[[x for x in fmx_annot.index if \"VIB_hydrop\" in x]]\n",
    "fmx_annot.index = [x.replace(\"___VIB_hydrop_11\", \"-1___VIB_hydrop_1\").replace(\"___VIB_hydrop_12\",\"-2___VIB_hydrop_1\").replace(\"___VIB_hydrop_21\", \"-1___VIB_hydrop_2\").replace(\"___VIB_hydrop_22\", \"-2___VIB_hydrop_2\") for x in fmx_annot.index]"
   ]
  },
  {
   "cell_type": "code",
   "execution_count": 10,
   "id": "db00017b-a2bb-4beb-aa04-a379eda4b9cf",
   "metadata": {
    "execution": {
     "iopub.execute_input": "2023-03-06T15:49:44.810769Z",
     "iopub.status.busy": "2023-03-06T15:49:44.810560Z",
     "iopub.status.idle": "2023-03-06T15:49:44.818915Z",
     "shell.execute_reply": "2023-03-06T15:49:44.818047Z",
     "shell.execute_reply.started": "2023-03-06T15:49:44.810750Z"
    },
    "tags": []
   },
   "outputs": [
    {
     "data": {
      "application/javascript": [
       "\n",
       "            setTimeout(function() {\n",
       "                var nbb_cell_id = 10;\n",
       "                var nbb_unformatted_code = \"fmx_annot = fmx_annot[fmx_annot[\\\"fmx_droplet_type\\\"] == \\\"SNG\\\"]\";\n",
       "                var nbb_formatted_code = \"fmx_annot = fmx_annot[fmx_annot[\\\"fmx_droplet_type\\\"] == \\\"SNG\\\"]\";\n",
       "                var nbb_cells = Jupyter.notebook.get_cells();\n",
       "                for (var i = 0; i < nbb_cells.length; ++i) {\n",
       "                    if (nbb_cells[i].input_prompt_number == nbb_cell_id) {\n",
       "                        if (nbb_cells[i].get_text() == nbb_unformatted_code) {\n",
       "                             nbb_cells[i].set_text(nbb_formatted_code);\n",
       "                        }\n",
       "                        break;\n",
       "                    }\n",
       "                }\n",
       "            }, 500);\n",
       "            "
      ],
      "text/plain": [
       "<IPython.core.display.Javascript object>"
      ]
     },
     "metadata": {},
     "output_type": "display_data"
    }
   ],
   "source": [
    "fmx_annot = fmx_annot[fmx_annot[\"fmx_droplet_type\"] == \"SNG\"]"
   ]
  },
  {
   "cell_type": "code",
   "execution_count": 11,
   "id": "82f6176a-a386-48ca-8296-b46348de1039",
   "metadata": {
    "execution": {
     "iopub.execute_input": "2023-03-06T15:49:44.819684Z",
     "iopub.status.busy": "2023-03-06T15:49:44.819496Z",
     "iopub.status.idle": "2023-03-06T15:49:47.730982Z",
     "shell.execute_reply": "2023-03-06T15:49:47.730084Z",
     "shell.execute_reply.started": "2023-03-06T15:49:44.819667Z"
    },
    "tags": []
   },
   "outputs": [
    {
     "data": {
      "application/javascript": [
       "\n",
       "            setTimeout(function() {\n",
       "                var nbb_cell_id = 11;\n",
       "                var nbb_unformatted_code = \"for idx in fmx_annot.index:\\n    if idx in cto.cell_data.index:\\n        cto.cell_data.at[idx, \\\"fmx_sample\\\"] = fmx_annot.at[idx, \\\"fmx_sample\\\"]\";\n",
       "                var nbb_formatted_code = \"for idx in fmx_annot.index:\\n    if idx in cto.cell_data.index:\\n        cto.cell_data.at[idx, \\\"fmx_sample\\\"] = fmx_annot.at[idx, \\\"fmx_sample\\\"]\";\n",
       "                var nbb_cells = Jupyter.notebook.get_cells();\n",
       "                for (var i = 0; i < nbb_cells.length; ++i) {\n",
       "                    if (nbb_cells[i].input_prompt_number == nbb_cell_id) {\n",
       "                        if (nbb_cells[i].get_text() == nbb_unformatted_code) {\n",
       "                             nbb_cells[i].set_text(nbb_formatted_code);\n",
       "                        }\n",
       "                        break;\n",
       "                    }\n",
       "                }\n",
       "            }, 500);\n",
       "            "
      ],
      "text/plain": [
       "<IPython.core.display.Javascript object>"
      ]
     },
     "metadata": {},
     "output_type": "display_data"
    }
   ],
   "source": [
    "for idx in fmx_annot.index:\n",
    "    if idx in cto.cell_data.index:\n",
    "        cto.cell_data.at[idx, \"fmx_sample\"] = fmx_annot.at[idx, \"fmx_sample\"]"
   ]
  },
  {
   "cell_type": "code",
   "execution_count": 12,
   "id": "5b889085-53ed-4715-a294-df7a2545c466",
   "metadata": {
    "execution": {
     "iopub.execute_input": "2023-03-06T15:49:47.732094Z",
     "iopub.status.busy": "2023-03-06T15:49:47.731894Z",
     "iopub.status.idle": "2023-03-06T15:49:47.741517Z",
     "shell.execute_reply": "2023-03-06T15:49:47.740630Z",
     "shell.execute_reply.started": "2023-03-06T15:49:47.732076Z"
    },
    "tags": []
   },
   "outputs": [
    {
     "data": {
      "text/plain": [
       "TCCTGAGCGAACGTCAGGGAACCGCG___OHS_s3atac_2.FIXEDCELLS        NaN\n",
       "ACGCGACGACCGGAAGAAGCACGGAC___OHS_s3atac_2.FIXEDCELLS        NaN\n",
       "GGTTAGTTCAAGTAGGACTATCGCAC___OHS_s3atac_2.FIXEDCELLS        NaN\n",
       "CTCTCTACTGAACGGCGTCTGCTTCC___OHS_s3atac_2.FIXEDCELLS        NaN\n",
       "ATTGAGGAAATGATGCTCCTGCTTCC___OHS_s3atac_2.FIXEDCELLS        NaN\n",
       "                                                         ...   \n",
       "TTCTTAGACTTCTGAG___MDC_mtscatac_1.FIXEDCELLS            sampleB\n",
       "CATCAGAACCCGGACT___MDC_mtscatac_1.FIXEDCELLS            sampleA\n",
       "GAACCATACTACACTG___MDC_mtscatac_1.FIXEDCELLS            sampleA\n",
       "CAGTTGATGGCACGCT___MDC_mtscatac_1.FIXEDCELLS            sampleA\n",
       "ACCTCGTTGAGTTGAA___MDC_mtscatac_1.FIXEDCELLS            sampleA\n",
       "Name: fmx_sample, Length: 169227, dtype: object"
      ]
     },
     "execution_count": 12,
     "metadata": {},
     "output_type": "execute_result"
    },
    {
     "data": {
      "application/javascript": [
       "\n",
       "            setTimeout(function() {\n",
       "                var nbb_cell_id = 12;\n",
       "                var nbb_unformatted_code = \"cto.cell_data[\\\"fmx_sample\\\"]\";\n",
       "                var nbb_formatted_code = \"cto.cell_data[\\\"fmx_sample\\\"]\";\n",
       "                var nbb_cells = Jupyter.notebook.get_cells();\n",
       "                for (var i = 0; i < nbb_cells.length; ++i) {\n",
       "                    if (nbb_cells[i].input_prompt_number == nbb_cell_id) {\n",
       "                        if (nbb_cells[i].get_text() == nbb_unformatted_code) {\n",
       "                             nbb_cells[i].set_text(nbb_formatted_code);\n",
       "                        }\n",
       "                        break;\n",
       "                    }\n",
       "                }\n",
       "            }, 500);\n",
       "            "
      ],
      "text/plain": [
       "<IPython.core.display.Javascript object>"
      ]
     },
     "metadata": {},
     "output_type": "display_data"
    }
   ],
   "source": [
    "cto.cell_data[\"fmx_sample\"]"
   ]
  },
  {
   "cell_type": "code",
   "execution_count": 13,
   "id": "84e1e76a-6981-4ca7-bfc2-eac98101f7ae",
   "metadata": {
    "execution": {
     "iopub.execute_input": "2023-03-06T15:49:47.742577Z",
     "iopub.status.busy": "2023-03-06T15:49:47.742377Z",
     "iopub.status.idle": "2023-03-06T15:49:47.822836Z",
     "shell.execute_reply": "2023-03-06T15:49:47.821950Z",
     "shell.execute_reply.started": "2023-03-06T15:49:47.742559Z"
    },
    "tags": []
   },
   "outputs": [
    {
     "data": {
      "text/plain": [
       "tech         harmony_consensus_cell_type__mega  fmx_sample\n",
       "10xmultiome  B cell                             sampleA       1097\n",
       "                                                sampleB        706\n",
       "             CD14+ monocyte                     sampleB       1994\n",
       "                                                sampleA       1604\n",
       "             CD16+ monocyte                     sampleA        758\n",
       "                                                              ... \n",
       "s3atac       Cytotoxic T cell                   sampleB        449\n",
       "             Dendritic cell                     sampleA         44\n",
       "                                                sampleB         20\n",
       "             Natural killer cell                sampleA        131\n",
       "                                                sampleB        123\n",
       "Name: fmx_sample, Length: 112, dtype: int64"
      ]
     },
     "execution_count": 13,
     "metadata": {},
     "output_type": "execute_result"
    },
    {
     "data": {
      "application/javascript": [
       "\n",
       "            setTimeout(function() {\n",
       "                var nbb_cell_id = 13;\n",
       "                var nbb_unformatted_code = \"cto.cell_data.groupby([\\\"tech\\\",\\\"harmony_consensus_cell_type__mega\\\"])[\\\"fmx_sample\\\"].value_counts()\";\n",
       "                var nbb_formatted_code = \"cto.cell_data.groupby([\\\"tech\\\", \\\"harmony_consensus_cell_type__mega\\\"])[\\n    \\\"fmx_sample\\\"\\n].value_counts()\";\n",
       "                var nbb_cells = Jupyter.notebook.get_cells();\n",
       "                for (var i = 0; i < nbb_cells.length; ++i) {\n",
       "                    if (nbb_cells[i].input_prompt_number == nbb_cell_id) {\n",
       "                        if (nbb_cells[i].get_text() == nbb_unformatted_code) {\n",
       "                             nbb_cells[i].set_text(nbb_formatted_code);\n",
       "                        }\n",
       "                        break;\n",
       "                    }\n",
       "                }\n",
       "            }, 500);\n",
       "            "
      ],
      "text/plain": [
       "<IPython.core.display.Javascript object>"
      ]
     },
     "metadata": {},
     "output_type": "display_data"
    }
   ],
   "source": [
    "cto.cell_data.groupby([\"tech\",\"harmony_consensus_cell_type__mega\"])[\"fmx_sample\"].value_counts()"
   ]
  },
  {
   "cell_type": "code",
   "execution_count": 14,
   "id": "9fa95898-8eac-49f4-9cbd-c09ed90b0b2b",
   "metadata": {
    "execution": {
     "iopub.execute_input": "2023-03-06T15:49:47.823853Z",
     "iopub.status.busy": "2023-03-06T15:49:47.823662Z",
     "iopub.status.idle": "2023-03-06T15:49:47.901546Z",
     "shell.execute_reply": "2023-03-06T15:49:47.900639Z",
     "shell.execute_reply.started": "2023-03-06T15:49:47.823836Z"
    },
    "tags": []
   },
   "outputs": [
    {
     "data": {
      "text/html": [
       "<div>\n",
       "<style scoped>\n",
       "    .dataframe tbody tr th:only-of-type {\n",
       "        vertical-align: middle;\n",
       "    }\n",
       "\n",
       "    .dataframe tbody tr th {\n",
       "        vertical-align: top;\n",
       "    }\n",
       "\n",
       "    .dataframe thead th {\n",
       "        text-align: right;\n",
       "    }\n",
       "</style>\n",
       "<table border=\"1\" class=\"dataframe\">\n",
       "  <thead>\n",
       "    <tr style=\"text-align: right;\">\n",
       "      <th></th>\n",
       "      <th>tech</th>\n",
       "      <th>harmony_consensus_cell_type__mega</th>\n",
       "      <th>fmx_sample</th>\n",
       "      <th>counts</th>\n",
       "    </tr>\n",
       "  </thead>\n",
       "  <tbody>\n",
       "    <tr>\n",
       "      <th>0</th>\n",
       "      <td>10xmultiome</td>\n",
       "      <td>B cell</td>\n",
       "      <td>sampleA</td>\n",
       "      <td>1097</td>\n",
       "    </tr>\n",
       "    <tr>\n",
       "      <th>1</th>\n",
       "      <td>10xmultiome</td>\n",
       "      <td>B cell</td>\n",
       "      <td>sampleB</td>\n",
       "      <td>706</td>\n",
       "    </tr>\n",
       "    <tr>\n",
       "      <th>2</th>\n",
       "      <td>10xmultiome</td>\n",
       "      <td>CD14+ monocyte</td>\n",
       "      <td>sampleB</td>\n",
       "      <td>1994</td>\n",
       "    </tr>\n",
       "    <tr>\n",
       "      <th>3</th>\n",
       "      <td>10xmultiome</td>\n",
       "      <td>CD14+ monocyte</td>\n",
       "      <td>sampleA</td>\n",
       "      <td>1604</td>\n",
       "    </tr>\n",
       "    <tr>\n",
       "      <th>4</th>\n",
       "      <td>10xmultiome</td>\n",
       "      <td>CD16+ monocyte</td>\n",
       "      <td>sampleA</td>\n",
       "      <td>758</td>\n",
       "    </tr>\n",
       "    <tr>\n",
       "      <th>...</th>\n",
       "      <td>...</td>\n",
       "      <td>...</td>\n",
       "      <td>...</td>\n",
       "      <td>...</td>\n",
       "    </tr>\n",
       "    <tr>\n",
       "      <th>107</th>\n",
       "      <td>s3atac</td>\n",
       "      <td>Cytotoxic T cell</td>\n",
       "      <td>sampleB</td>\n",
       "      <td>449</td>\n",
       "    </tr>\n",
       "    <tr>\n",
       "      <th>108</th>\n",
       "      <td>s3atac</td>\n",
       "      <td>Dendritic cell</td>\n",
       "      <td>sampleA</td>\n",
       "      <td>44</td>\n",
       "    </tr>\n",
       "    <tr>\n",
       "      <th>109</th>\n",
       "      <td>s3atac</td>\n",
       "      <td>Dendritic cell</td>\n",
       "      <td>sampleB</td>\n",
       "      <td>20</td>\n",
       "    </tr>\n",
       "    <tr>\n",
       "      <th>110</th>\n",
       "      <td>s3atac</td>\n",
       "      <td>Natural killer cell</td>\n",
       "      <td>sampleA</td>\n",
       "      <td>131</td>\n",
       "    </tr>\n",
       "    <tr>\n",
       "      <th>111</th>\n",
       "      <td>s3atac</td>\n",
       "      <td>Natural killer cell</td>\n",
       "      <td>sampleB</td>\n",
       "      <td>123</td>\n",
       "    </tr>\n",
       "  </tbody>\n",
       "</table>\n",
       "<p>112 rows × 4 columns</p>\n",
       "</div>"
      ],
      "text/plain": [
       "            tech harmony_consensus_cell_type__mega fmx_sample  counts\n",
       "0    10xmultiome                            B cell    sampleA    1097\n",
       "1    10xmultiome                            B cell    sampleB     706\n",
       "2    10xmultiome                    CD14+ monocyte    sampleB    1994\n",
       "3    10xmultiome                    CD14+ monocyte    sampleA    1604\n",
       "4    10xmultiome                    CD16+ monocyte    sampleA     758\n",
       "..           ...                               ...        ...     ...\n",
       "107       s3atac                  Cytotoxic T cell    sampleB     449\n",
       "108       s3atac                    Dendritic cell    sampleA      44\n",
       "109       s3atac                    Dendritic cell    sampleB      20\n",
       "110       s3atac               Natural killer cell    sampleA     131\n",
       "111       s3atac               Natural killer cell    sampleB     123\n",
       "\n",
       "[112 rows x 4 columns]"
      ]
     },
     "execution_count": 14,
     "metadata": {},
     "output_type": "execute_result"
    },
    {
     "data": {
      "application/javascript": [
       "\n",
       "            setTimeout(function() {\n",
       "                var nbb_cell_id = 14;\n",
       "                var nbb_unformatted_code = \"df = pd.DataFrame(cto.cell_data.groupby([\\\"tech\\\",\\\"harmony_consensus_cell_type__mega\\\"])[\\\"fmx_sample\\\"].value_counts())\\ndf.columns = [\\\"counts\\\"]\\ndf = df.reset_index()\\ndf\";\n",
       "                var nbb_formatted_code = \"df = pd.DataFrame(\\n    cto.cell_data.groupby([\\\"tech\\\", \\\"harmony_consensus_cell_type__mega\\\"])[\\n        \\\"fmx_sample\\\"\\n    ].value_counts()\\n)\\ndf.columns = [\\\"counts\\\"]\\ndf = df.reset_index()\\ndf\";\n",
       "                var nbb_cells = Jupyter.notebook.get_cells();\n",
       "                for (var i = 0; i < nbb_cells.length; ++i) {\n",
       "                    if (nbb_cells[i].input_prompt_number == nbb_cell_id) {\n",
       "                        if (nbb_cells[i].get_text() == nbb_unformatted_code) {\n",
       "                             nbb_cells[i].set_text(nbb_formatted_code);\n",
       "                        }\n",
       "                        break;\n",
       "                    }\n",
       "                }\n",
       "            }, 500);\n",
       "            "
      ],
      "text/plain": [
       "<IPython.core.display.Javascript object>"
      ]
     },
     "metadata": {},
     "output_type": "display_data"
    }
   ],
   "source": [
    "df = pd.DataFrame(cto.cell_data.groupby([\"tech\",\"harmony_consensus_cell_type__mega\"])[\"fmx_sample\"].value_counts())\n",
    "df.columns = [\"counts\"]\n",
    "df = df.reset_index()\n",
    "df"
   ]
  },
  {
   "cell_type": "code",
   "execution_count": 15,
   "id": "cb975036-42ba-4221-9448-a1b0c961488f",
   "metadata": {
    "execution": {
     "iopub.execute_input": "2023-03-06T15:49:47.902558Z",
     "iopub.status.busy": "2023-03-06T15:49:47.902363Z",
     "iopub.status.idle": "2023-03-06T15:49:47.925503Z",
     "shell.execute_reply": "2023-03-06T15:49:47.924260Z",
     "shell.execute_reply.started": "2023-03-06T15:49:47.902540Z"
    },
    "tags": []
   },
   "outputs": [
    {
     "data": {
      "text/plain": [
       "harmony_consensus_cell_type__mega  fmx_sample\n",
       "B cell                             sampleA       254\n",
       "                                   sampleB       146\n",
       "CD14+ monocyte                     sampleA       309\n",
       "                                   sampleB       299\n",
       "CD16+ monocyte                     sampleA        83\n",
       "                                   sampleB        32\n",
       "CD4+ T cell                        sampleA       228\n",
       "                                   sampleB       230\n",
       "Cytotoxic T cell                   sampleA       719\n",
       "                                   sampleB       449\n",
       "Dendritic cell                     sampleA        44\n",
       "                                   sampleB        11\n",
       "Natural killer cell                sampleA        13\n",
       "                                   sampleB         7\n",
       "Name: counts, dtype: int64"
      ]
     },
     "execution_count": 15,
     "metadata": {},
     "output_type": "execute_result"
    },
    {
     "data": {
      "application/javascript": [
       "\n",
       "            setTimeout(function() {\n",
       "                var nbb_cell_id = 15;\n",
       "                var nbb_unformatted_code = \"df.groupby([\\\"harmony_consensus_cell_type__mega\\\", \\\"fmx_sample\\\"])[\\\"counts\\\"].min()\";\n",
       "                var nbb_formatted_code = \"df.groupby([\\\"harmony_consensus_cell_type__mega\\\", \\\"fmx_sample\\\"])[\\\"counts\\\"].min()\";\n",
       "                var nbb_cells = Jupyter.notebook.get_cells();\n",
       "                for (var i = 0; i < nbb_cells.length; ++i) {\n",
       "                    if (nbb_cells[i].input_prompt_number == nbb_cell_id) {\n",
       "                        if (nbb_cells[i].get_text() == nbb_unformatted_code) {\n",
       "                             nbb_cells[i].set_text(nbb_formatted_code);\n",
       "                        }\n",
       "                        break;\n",
       "                    }\n",
       "                }\n",
       "            }, 500);\n",
       "            "
      ],
      "text/plain": [
       "<IPython.core.display.Javascript object>"
      ]
     },
     "metadata": {},
     "output_type": "display_data"
    }
   ],
   "source": [
    "df.groupby([\"harmony_consensus_cell_type__mega\", \"fmx_sample\"])[\"counts\"].min()"
   ]
  },
  {
   "cell_type": "markdown",
   "id": "ebdcba79-dcc5-4421-9fb5-3d1cb9444bd3",
   "metadata": {},
   "source": [
    "# omit the technique with least cells in each category\n",
    "otherwise some cell types only have ~10 cells each while most techs have hundreds of cells available"
   ]
  },
  {
   "cell_type": "code",
   "execution_count": 16,
   "id": "fde2304e-8fa1-4261-a2d3-4677c618f446",
   "metadata": {
    "execution": {
     "iopub.execute_input": "2023-03-06T15:49:47.927668Z",
     "iopub.status.busy": "2023-03-06T15:49:47.926853Z",
     "iopub.status.idle": "2023-03-06T15:49:47.987977Z",
     "shell.execute_reply": "2023-03-06T15:49:47.987086Z",
     "shell.execute_reply.started": "2023-03-06T15:49:47.927635Z"
    },
    "tags": []
   },
   "outputs": [
    {
     "name": "stdout",
     "output_type": "stream",
     "text": [
      "B cell\n",
      "CD14+ monocyte\n",
      "CD16+ monocyte\n",
      "CD4+ T cell\n",
      "Cytotoxic T cell\n",
      "Dendritic cell\n",
      "Natural killer cell\n"
     ]
    },
    {
     "data": {
      "application/javascript": [
       "\n",
       "            setTimeout(function() {\n",
       "                var nbb_cell_id = 16;\n",
       "                var nbb_unformatted_code = \"min_dict = {}\\nmin_tech_dict = {}\\nfor cell_type in df[\\\"harmony_consensus_cell_type__mega\\\"].unique():\\n    print(cell_type)\\n    df_sub = df[df[\\\"harmony_consensus_cell_type__mega\\\"] == cell_type]\\n    \\n    \\n    df_sub_sub = pd.DataFrame(df_sub.groupby([\\\"tech\\\"])[\\\"counts\\\"].sum()) #sum total counts across male/female\\n    df_sub_sub[\\\"rank\\\"] = df_sub_sub[\\\"counts\\\"].rank() # rank techs by total count\\n    df_sub_sub_least_tech = df_sub_sub[\\\"counts\\\"].idxmin() # find tech that has least total count\\n\\n    df_sub = df_sub[df_sub[\\\"tech\\\"] != df_sub_sub_least_tech] # remove that tech now\\n    min_dict[cell_type] = df_sub[\\\"counts\\\"].min() # get minimum count out of techs that are left\\n    min_tech_dict[cell_type] = df_sub_sub_least_tech\";\n",
       "                var nbb_formatted_code = \"min_dict = {}\\nmin_tech_dict = {}\\nfor cell_type in df[\\\"harmony_consensus_cell_type__mega\\\"].unique():\\n    print(cell_type)\\n    df_sub = df[df[\\\"harmony_consensus_cell_type__mega\\\"] == cell_type]\\n\\n    df_sub_sub = pd.DataFrame(\\n        df_sub.groupby([\\\"tech\\\"])[\\\"counts\\\"].sum()\\n    )  # sum total counts across male/female\\n    df_sub_sub[\\\"rank\\\"] = df_sub_sub[\\\"counts\\\"].rank()  # rank techs by total count\\n    df_sub_sub_least_tech = df_sub_sub[\\n        \\\"counts\\\"\\n    ].idxmin()  # find tech that has least total count\\n\\n    df_sub = df_sub[df_sub[\\\"tech\\\"] != df_sub_sub_least_tech]  # remove that tech now\\n    min_dict[cell_type] = df_sub[\\n        \\\"counts\\\"\\n    ].min()  # get minimum count out of techs that are left\\n    min_tech_dict[cell_type] = df_sub_sub_least_tech\";\n",
       "                var nbb_cells = Jupyter.notebook.get_cells();\n",
       "                for (var i = 0; i < nbb_cells.length; ++i) {\n",
       "                    if (nbb_cells[i].input_prompt_number == nbb_cell_id) {\n",
       "                        if (nbb_cells[i].get_text() == nbb_unformatted_code) {\n",
       "                             nbb_cells[i].set_text(nbb_formatted_code);\n",
       "                        }\n",
       "                        break;\n",
       "                    }\n",
       "                }\n",
       "            }, 500);\n",
       "            "
      ],
      "text/plain": [
       "<IPython.core.display.Javascript object>"
      ]
     },
     "metadata": {},
     "output_type": "display_data"
    }
   ],
   "source": [
    "min_dict = {}\n",
    "min_tech_dict = {}\n",
    "for cell_type in df[\"harmony_consensus_cell_type__mega\"].unique():\n",
    "    print(cell_type)\n",
    "    df_sub = df[df[\"harmony_consensus_cell_type__mega\"] == cell_type]\n",
    "    \n",
    "    \n",
    "    df_sub_sub = pd.DataFrame(df_sub.groupby([\"tech\"])[\"counts\"].sum()) #sum total counts across male/female\n",
    "    df_sub_sub[\"rank\"] = df_sub_sub[\"counts\"].rank() # rank techs by total count\n",
    "    df_sub_sub_least_tech = df_sub_sub[\"counts\"].idxmin() # find tech that has least total count\n",
    "\n",
    "    df_sub = df_sub[df_sub[\"tech\"] != df_sub_sub_least_tech] # remove that tech now\n",
    "    min_dict[cell_type] = df_sub[\"counts\"].min() # get minimum count out of techs that are left\n",
    "    min_tech_dict[cell_type] = df_sub_sub_least_tech"
   ]
  },
  {
   "cell_type": "code",
   "execution_count": 17,
   "id": "a6d8fe8a-8e1d-4f02-ba2c-2345af79e304",
   "metadata": {
    "execution": {
     "iopub.execute_input": "2023-03-06T15:49:47.989147Z",
     "iopub.status.busy": "2023-03-06T15:49:47.988859Z",
     "iopub.status.idle": "2023-03-06T15:49:47.997069Z",
     "shell.execute_reply": "2023-03-06T15:49:47.996128Z",
     "shell.execute_reply.started": "2023-03-06T15:49:47.989128Z"
    },
    "tags": []
   },
   "outputs": [
    {
     "data": {
      "text/plain": [
       "{'B cell': 442,\n",
       " 'CD14+ monocyte': 671,\n",
       " 'CD16+ monocyte': 54,\n",
       " 'CD4+ T cell': 1301,\n",
       " 'Cytotoxic T cell': 635,\n",
       " 'Dendritic cell': 11,\n",
       " 'Natural killer cell': 123}"
      ]
     },
     "execution_count": 17,
     "metadata": {},
     "output_type": "execute_result"
    },
    {
     "data": {
      "application/javascript": [
       "\n",
       "            setTimeout(function() {\n",
       "                var nbb_cell_id = 17;\n",
       "                var nbb_unformatted_code = \"min_dict\";\n",
       "                var nbb_formatted_code = \"min_dict\";\n",
       "                var nbb_cells = Jupyter.notebook.get_cells();\n",
       "                for (var i = 0; i < nbb_cells.length; ++i) {\n",
       "                    if (nbb_cells[i].input_prompt_number == nbb_cell_id) {\n",
       "                        if (nbb_cells[i].get_text() == nbb_unformatted_code) {\n",
       "                             nbb_cells[i].set_text(nbb_formatted_code);\n",
       "                        }\n",
       "                        break;\n",
       "                    }\n",
       "                }\n",
       "            }, 500);\n",
       "            "
      ],
      "text/plain": [
       "<IPython.core.display.Javascript object>"
      ]
     },
     "metadata": {},
     "output_type": "display_data"
    }
   ],
   "source": [
    "min_dict"
   ]
  },
  {
   "cell_type": "code",
   "execution_count": 18,
   "id": "fcb1698a-703a-47e4-a6f5-cef032ecda83",
   "metadata": {
    "execution": {
     "iopub.execute_input": "2023-03-06T15:49:47.998214Z",
     "iopub.status.busy": "2023-03-06T15:49:47.997972Z",
     "iopub.status.idle": "2023-03-06T15:49:48.006951Z",
     "shell.execute_reply": "2023-03-06T15:49:48.005914Z",
     "shell.execute_reply.started": "2023-03-06T15:49:47.998191Z"
    },
    "tags": []
   },
   "outputs": [
    {
     "data": {
      "text/plain": [
       "{'B cell': 's3atac',\n",
       " 'CD14+ monocyte': 's3atac',\n",
       " 'CD16+ monocyte': 's3atac',\n",
       " 'CD4+ T cell': 's3atac',\n",
       " 'Cytotoxic T cell': 's3atac',\n",
       " 'Dendritic cell': 's3atac',\n",
       " 'Natural killer cell': 'ddseq'}"
      ]
     },
     "execution_count": 18,
     "metadata": {},
     "output_type": "execute_result"
    },
    {
     "data": {
      "application/javascript": [
       "\n",
       "            setTimeout(function() {\n",
       "                var nbb_cell_id = 18;\n",
       "                var nbb_unformatted_code = \"min_tech_dict\";\n",
       "                var nbb_formatted_code = \"min_tech_dict\";\n",
       "                var nbb_cells = Jupyter.notebook.get_cells();\n",
       "                for (var i = 0; i < nbb_cells.length; ++i) {\n",
       "                    if (nbb_cells[i].input_prompt_number == nbb_cell_id) {\n",
       "                        if (nbb_cells[i].get_text() == nbb_unformatted_code) {\n",
       "                             nbb_cells[i].set_text(nbb_formatted_code);\n",
       "                        }\n",
       "                        break;\n",
       "                    }\n",
       "                }\n",
       "            }, 500);\n",
       "            "
      ],
      "text/plain": [
       "<IPython.core.display.Javascript object>"
      ]
     },
     "metadata": {},
     "output_type": "display_data"
    }
   ],
   "source": [
    "min_tech_dict"
   ]
  },
  {
   "cell_type": "markdown",
   "id": "8a062e09-825f-4ccc-8034-985ad3322ea9",
   "metadata": {},
   "source": [
    "## Ok, this is too biased towards s3-atac (and makes sense because only 2 samples)"
   ]
  },
  {
   "cell_type": "code",
   "execution_count": 19,
   "id": "d3217345-3e0d-432c-b861-7e9c105101b0",
   "metadata": {
    "execution": {
     "iopub.execute_input": "2023-03-06T15:49:48.008575Z",
     "iopub.status.busy": "2023-03-06T15:49:48.008276Z",
     "iopub.status.idle": "2023-03-06T15:49:48.024237Z",
     "shell.execute_reply": "2023-03-06T15:49:48.023243Z",
     "shell.execute_reply.started": "2023-03-06T15:49:48.008547Z"
    }
   },
   "outputs": [
    {
     "data": {
      "text/html": [
       "<div>\n",
       "<style scoped>\n",
       "    .dataframe tbody tr th:only-of-type {\n",
       "        vertical-align: middle;\n",
       "    }\n",
       "\n",
       "    .dataframe tbody tr th {\n",
       "        vertical-align: top;\n",
       "    }\n",
       "\n",
       "    .dataframe thead th {\n",
       "        text-align: right;\n",
       "    }\n",
       "</style>\n",
       "<table border=\"1\" class=\"dataframe\">\n",
       "  <thead>\n",
       "    <tr style=\"text-align: right;\">\n",
       "      <th></th>\n",
       "      <th>tech</th>\n",
       "      <th>harmony_consensus_cell_type__mega</th>\n",
       "      <th>fmx_sample</th>\n",
       "      <th>counts</th>\n",
       "    </tr>\n",
       "  </thead>\n",
       "  <tbody>\n",
       "    <tr>\n",
       "      <th>0</th>\n",
       "      <td>10xmultiome</td>\n",
       "      <td>B cell</td>\n",
       "      <td>sampleA</td>\n",
       "      <td>1097</td>\n",
       "    </tr>\n",
       "    <tr>\n",
       "      <th>1</th>\n",
       "      <td>10xmultiome</td>\n",
       "      <td>B cell</td>\n",
       "      <td>sampleB</td>\n",
       "      <td>706</td>\n",
       "    </tr>\n",
       "    <tr>\n",
       "      <th>2</th>\n",
       "      <td>10xmultiome</td>\n",
       "      <td>CD14+ monocyte</td>\n",
       "      <td>sampleB</td>\n",
       "      <td>1994</td>\n",
       "    </tr>\n",
       "    <tr>\n",
       "      <th>3</th>\n",
       "      <td>10xmultiome</td>\n",
       "      <td>CD14+ monocyte</td>\n",
       "      <td>sampleA</td>\n",
       "      <td>1604</td>\n",
       "    </tr>\n",
       "    <tr>\n",
       "      <th>4</th>\n",
       "      <td>10xmultiome</td>\n",
       "      <td>CD16+ monocyte</td>\n",
       "      <td>sampleA</td>\n",
       "      <td>758</td>\n",
       "    </tr>\n",
       "    <tr>\n",
       "      <th>...</th>\n",
       "      <td>...</td>\n",
       "      <td>...</td>\n",
       "      <td>...</td>\n",
       "      <td>...</td>\n",
       "    </tr>\n",
       "    <tr>\n",
       "      <th>107</th>\n",
       "      <td>s3atac</td>\n",
       "      <td>Cytotoxic T cell</td>\n",
       "      <td>sampleB</td>\n",
       "      <td>449</td>\n",
       "    </tr>\n",
       "    <tr>\n",
       "      <th>108</th>\n",
       "      <td>s3atac</td>\n",
       "      <td>Dendritic cell</td>\n",
       "      <td>sampleA</td>\n",
       "      <td>44</td>\n",
       "    </tr>\n",
       "    <tr>\n",
       "      <th>109</th>\n",
       "      <td>s3atac</td>\n",
       "      <td>Dendritic cell</td>\n",
       "      <td>sampleB</td>\n",
       "      <td>20</td>\n",
       "    </tr>\n",
       "    <tr>\n",
       "      <th>110</th>\n",
       "      <td>s3atac</td>\n",
       "      <td>Natural killer cell</td>\n",
       "      <td>sampleA</td>\n",
       "      <td>131</td>\n",
       "    </tr>\n",
       "    <tr>\n",
       "      <th>111</th>\n",
       "      <td>s3atac</td>\n",
       "      <td>Natural killer cell</td>\n",
       "      <td>sampleB</td>\n",
       "      <td>123</td>\n",
       "    </tr>\n",
       "  </tbody>\n",
       "</table>\n",
       "<p>112 rows × 4 columns</p>\n",
       "</div>"
      ],
      "text/plain": [
       "            tech harmony_consensus_cell_type__mega fmx_sample  counts\n",
       "0    10xmultiome                            B cell    sampleA    1097\n",
       "1    10xmultiome                            B cell    sampleB     706\n",
       "2    10xmultiome                    CD14+ monocyte    sampleB    1994\n",
       "3    10xmultiome                    CD14+ monocyte    sampleA    1604\n",
       "4    10xmultiome                    CD16+ monocyte    sampleA     758\n",
       "..           ...                               ...        ...     ...\n",
       "107       s3atac                  Cytotoxic T cell    sampleB     449\n",
       "108       s3atac                    Dendritic cell    sampleA      44\n",
       "109       s3atac                    Dendritic cell    sampleB      20\n",
       "110       s3atac               Natural killer cell    sampleA     131\n",
       "111       s3atac               Natural killer cell    sampleB     123\n",
       "\n",
       "[112 rows x 4 columns]"
      ]
     },
     "execution_count": 19,
     "metadata": {},
     "output_type": "execute_result"
    },
    {
     "data": {
      "application/javascript": [
       "\n",
       "            setTimeout(function() {\n",
       "                var nbb_cell_id = 19;\n",
       "                var nbb_unformatted_code = \"df\";\n",
       "                var nbb_formatted_code = \"df\";\n",
       "                var nbb_cells = Jupyter.notebook.get_cells();\n",
       "                for (var i = 0; i < nbb_cells.length; ++i) {\n",
       "                    if (nbb_cells[i].input_prompt_number == nbb_cell_id) {\n",
       "                        if (nbb_cells[i].get_text() == nbb_unformatted_code) {\n",
       "                             nbb_cells[i].set_text(nbb_formatted_code);\n",
       "                        }\n",
       "                        break;\n",
       "                    }\n",
       "                }\n",
       "            }, 500);\n",
       "            "
      ],
      "text/plain": [
       "<IPython.core.display.Javascript object>"
      ]
     },
     "metadata": {},
     "output_type": "display_data"
    }
   ],
   "source": [
    "df"
   ]
  },
  {
   "cell_type": "code",
   "execution_count": 20,
   "id": "9e0005d4-46d7-4891-8978-37a34a03121f",
   "metadata": {
    "execution": {
     "iopub.execute_input": "2023-03-06T15:49:48.025618Z",
     "iopub.status.busy": "2023-03-06T15:49:48.025357Z",
     "iopub.status.idle": "2023-03-06T15:49:48.039119Z",
     "shell.execute_reply": "2023-03-06T15:49:48.038016Z",
     "shell.execute_reply.started": "2023-03-06T15:49:48.025590Z"
    },
    "tags": []
   },
   "outputs": [
    {
     "data": {
      "text/plain": [
       "harmony_consensus_cell_type__mega  fmx_sample\n",
       "B cell                             sampleA       254\n",
       "                                   sampleB       146\n",
       "CD14+ monocyte                     sampleA       309\n",
       "                                   sampleB       299\n",
       "CD16+ monocyte                     sampleA        83\n",
       "                                   sampleB        32\n",
       "CD4+ T cell                        sampleA       228\n",
       "                                   sampleB       230\n",
       "Cytotoxic T cell                   sampleA       719\n",
       "                                   sampleB       449\n",
       "Dendritic cell                     sampleA        44\n",
       "                                   sampleB        11\n",
       "Natural killer cell                sampleA        13\n",
       "                                   sampleB         7\n",
       "Name: counts, dtype: int64"
      ]
     },
     "execution_count": 20,
     "metadata": {},
     "output_type": "execute_result"
    },
    {
     "data": {
      "application/javascript": [
       "\n",
       "            setTimeout(function() {\n",
       "                var nbb_cell_id = 20;\n",
       "                var nbb_unformatted_code = \"df.groupby([\\\"harmony_consensus_cell_type__mega\\\", \\\"fmx_sample\\\"])[\\\"counts\\\"].min()\";\n",
       "                var nbb_formatted_code = \"df.groupby([\\\"harmony_consensus_cell_type__mega\\\", \\\"fmx_sample\\\"])[\\\"counts\\\"].min()\";\n",
       "                var nbb_cells = Jupyter.notebook.get_cells();\n",
       "                for (var i = 0; i < nbb_cells.length; ++i) {\n",
       "                    if (nbb_cells[i].input_prompt_number == nbb_cell_id) {\n",
       "                        if (nbb_cells[i].get_text() == nbb_unformatted_code) {\n",
       "                             nbb_cells[i].set_text(nbb_formatted_code);\n",
       "                        }\n",
       "                        break;\n",
       "                    }\n",
       "                }\n",
       "            }, 500);\n",
       "            "
      ],
      "text/plain": [
       "<IPython.core.display.Javascript object>"
      ]
     },
     "metadata": {},
     "output_type": "display_data"
    }
   ],
   "source": [
    "df.groupby([\"harmony_consensus_cell_type__mega\", \"fmx_sample\"])[\"counts\"].min()"
   ]
  },
  {
   "cell_type": "markdown",
   "id": "fa51321a-26b9-4591-b142-9708e51c5de2",
   "metadata": {},
   "source": [
    "let's do this: we cap the maxim number of cells to the 3rd lowest rank number. all techs that do not attain this amount just use the amount they have instead."
   ]
  },
  {
   "cell_type": "code",
   "execution_count": 21,
   "id": "e15478ce-caa2-4143-9253-b68113aa4ad1",
   "metadata": {
    "execution": {
     "iopub.execute_input": "2023-03-06T15:49:48.040342Z",
     "iopub.status.busy": "2023-03-06T15:49:48.040089Z",
     "iopub.status.idle": "2023-03-06T15:49:48.092777Z",
     "shell.execute_reply": "2023-03-06T15:49:48.091882Z",
     "shell.execute_reply.started": "2023-03-06T15:49:48.040319Z"
    },
    "tags": []
   },
   "outputs": [
    {
     "name": "stdout",
     "output_type": "stream",
     "text": [
      "B cell\n",
      "             counts  rank\n",
      "tech                     \n",
      "10xmultiome    1803   7.0\n",
      "10xv11         1560   4.0\n",
      "10xv2          1749   6.0\n",
      "ddseq          1208   3.0\n",
      "hydrop         1696   5.0\n",
      "mtscatac       2142   8.0\n",
      "CD14+ monocyte\n",
      "             counts  rank\n",
      "tech                     \n",
      "10xmultiome    3598   6.0\n",
      "10xv1          3069   4.0\n",
      "10xv11         3169   5.0\n",
      "10xv2          3030   3.0\n",
      "hydrop         6080   8.0\n",
      "mtscatac       3889   7.0\n",
      "CD16+ monocyte\n",
      "             counts  rank\n",
      "tech                     \n",
      "10xmultiome    1059   8.0\n",
      "10xv1           568   5.0\n",
      "10xv11          911   6.0\n",
      "10xv2           961   7.0\n",
      "ddseq           260   3.0\n",
      "mtscatac        515   4.0\n",
      "CD4+ T cell\n",
      "             counts  rank\n",
      "tech                     \n",
      "10xmultiome    4206   5.0\n",
      "10xv11         3853   4.0\n",
      "10xv2          4549   7.0\n",
      "ddseq          3570   3.0\n",
      "hydrop         4542   6.0\n",
      "mtscatac       6839   8.0\n",
      "Cytotoxic T cell\n",
      "             counts  rank\n",
      "tech                     \n",
      "10xmultiome    3554   6.0\n",
      "10xv11         2602   3.0\n",
      "10xv2          2933   5.0\n",
      "ddseq          2776   4.0\n",
      "hydrop         7832   8.0\n",
      "mtscatac       7194   7.0\n",
      "Dendritic cell\n",
      "             counts  rank\n",
      "tech                     \n",
      "10xmultiome     422   6.0\n",
      "10xv1           225   3.0\n",
      "10xv11          432   7.0\n",
      "10xv2           412   5.0\n",
      "hydrop          358   4.0\n",
      "mtscatac        554   8.0\n",
      "Natural killer cell\n",
      "             counts  rank\n",
      "tech                     \n",
      "10xmultiome    1368   5.0\n",
      "10xv1           614   3.0\n",
      "10xv11         1469   6.0\n",
      "10xv2          1536   7.0\n",
      "hydrop          840   4.0\n",
      "mtscatac       1874   8.0\n"
     ]
    },
    {
     "data": {
      "application/javascript": [
       "\n",
       "            setTimeout(function() {\n",
       "                var nbb_cell_id = 21;\n",
       "                var nbb_unformatted_code = \"min_dict = {}\\nmin_tech_dict = {}\\nfor cell_type in df[\\\"harmony_consensus_cell_type__mega\\\"].unique():\\n    print(cell_type)\\n    df_sub = df[df[\\\"harmony_consensus_cell_type__mega\\\"] == cell_type]\\n    \\n    \\n    df_sub_sub = pd.DataFrame(df_sub.groupby([\\\"tech\\\"])[\\\"counts\\\"].sum()) #sum total counts across male/female\\n    df_sub_sub[\\\"rank\\\"] = df_sub_sub[\\\"counts\\\"].rank() # rank techs by total count\\n    df_sub_sub_least_tech = df_sub_sub[df_sub_sub[\\\"rank\\\"] >=3] # take only rank #6 or better\\n    techs_allowed = df_sub_sub_least_tech.index\\n\\n    print(df_sub_sub_least_tech)\\n    min_tech_dict[cell_type] = df_sub_sub_least_tech[\\\"rank\\\"].idxmin() # find tech that has least amount in there\\n    min_dict[cell_type] = df_sub[df_sub[\\\"tech\\\"].isin(techs_allowed)][\\\"counts\\\"].min() # get minimum count out of techs that are left\";\n",
       "                var nbb_formatted_code = \"min_dict = {}\\nmin_tech_dict = {}\\nfor cell_type in df[\\\"harmony_consensus_cell_type__mega\\\"].unique():\\n    print(cell_type)\\n    df_sub = df[df[\\\"harmony_consensus_cell_type__mega\\\"] == cell_type]\\n\\n    df_sub_sub = pd.DataFrame(\\n        df_sub.groupby([\\\"tech\\\"])[\\\"counts\\\"].sum()\\n    )  # sum total counts across male/female\\n    df_sub_sub[\\\"rank\\\"] = df_sub_sub[\\\"counts\\\"].rank()  # rank techs by total count\\n    df_sub_sub_least_tech = df_sub_sub[\\n        df_sub_sub[\\\"rank\\\"] >= 3\\n    ]  # take only rank #6 or better\\n    techs_allowed = df_sub_sub_least_tech.index\\n\\n    print(df_sub_sub_least_tech)\\n    min_tech_dict[cell_type] = df_sub_sub_least_tech[\\n        \\\"rank\\\"\\n    ].idxmin()  # find tech that has least amount in there\\n    min_dict[cell_type] = df_sub[df_sub[\\\"tech\\\"].isin(techs_allowed)][\\n        \\\"counts\\\"\\n    ].min()  # get minimum count out of techs that are left\";\n",
       "                var nbb_cells = Jupyter.notebook.get_cells();\n",
       "                for (var i = 0; i < nbb_cells.length; ++i) {\n",
       "                    if (nbb_cells[i].input_prompt_number == nbb_cell_id) {\n",
       "                        if (nbb_cells[i].get_text() == nbb_unformatted_code) {\n",
       "                             nbb_cells[i].set_text(nbb_formatted_code);\n",
       "                        }\n",
       "                        break;\n",
       "                    }\n",
       "                }\n",
       "            }, 500);\n",
       "            "
      ],
      "text/plain": [
       "<IPython.core.display.Javascript object>"
      ]
     },
     "metadata": {},
     "output_type": "display_data"
    }
   ],
   "source": [
    "min_dict = {}\n",
    "min_tech_dict = {}\n",
    "for cell_type in df[\"harmony_consensus_cell_type__mega\"].unique():\n",
    "    print(cell_type)\n",
    "    df_sub = df[df[\"harmony_consensus_cell_type__mega\"] == cell_type]\n",
    "    \n",
    "    \n",
    "    df_sub_sub = pd.DataFrame(df_sub.groupby([\"tech\"])[\"counts\"].sum()) #sum total counts across male/female\n",
    "    df_sub_sub[\"rank\"] = df_sub_sub[\"counts\"].rank() # rank techs by total count\n",
    "    df_sub_sub_least_tech = df_sub_sub[df_sub_sub[\"rank\"] >=3] # take only rank #6 or better\n",
    "    techs_allowed = df_sub_sub_least_tech.index\n",
    "\n",
    "    print(df_sub_sub_least_tech)\n",
    "    min_tech_dict[cell_type] = df_sub_sub_least_tech[\"rank\"].idxmin() # find tech that has least amount in there\n",
    "    min_dict[cell_type] = df_sub[df_sub[\"tech\"].isin(techs_allowed)][\"counts\"].min() # get minimum count out of techs that are left\n"
   ]
  },
  {
   "cell_type": "markdown",
   "id": "2b866ee4-5699-4d54-bac0-c5825d4f7c20",
   "metadata": {
    "execution": {
     "iopub.execute_input": "2023-03-02T15:25:11.329717Z",
     "iopub.status.busy": "2023-03-02T15:25:11.328926Z",
     "iopub.status.idle": "2023-03-02T15:25:11.343263Z",
     "shell.execute_reply": "2023-03-02T15:25:11.341845Z",
     "shell.execute_reply.started": "2023-03-02T15:25:11.329659Z"
    },
    "tags": []
   },
   "source": [
    "# ok that seems quite reasonable.\n",
    "Now, subset"
   ]
  },
  {
   "cell_type": "code",
   "execution_count": 22,
   "id": "d6bf479d-9d99-4e5b-b837-7f591144956e",
   "metadata": {
    "execution": {
     "iopub.execute_input": "2023-03-06T15:49:48.093849Z",
     "iopub.status.busy": "2023-03-06T15:49:48.093649Z",
     "iopub.status.idle": "2023-03-06T15:49:48.099907Z",
     "shell.execute_reply": "2023-03-06T15:49:48.098984Z",
     "shell.execute_reply.started": "2023-03-06T15:49:48.093831Z"
    },
    "tags": []
   },
   "outputs": [
    {
     "data": {
      "application/javascript": [
       "\n",
       "            setTimeout(function() {\n",
       "                var nbb_cell_id = 22;\n",
       "                var nbb_unformatted_code = \"import random\";\n",
       "                var nbb_formatted_code = \"import random\";\n",
       "                var nbb_cells = Jupyter.notebook.get_cells();\n",
       "                for (var i = 0; i < nbb_cells.length; ++i) {\n",
       "                    if (nbb_cells[i].input_prompt_number == nbb_cell_id) {\n",
       "                        if (nbb_cells[i].get_text() == nbb_unformatted_code) {\n",
       "                             nbb_cells[i].set_text(nbb_formatted_code);\n",
       "                        }\n",
       "                        break;\n",
       "                    }\n",
       "                }\n",
       "            }, 500);\n",
       "            "
      ],
      "text/plain": [
       "<IPython.core.display.Javascript object>"
      ]
     },
     "metadata": {},
     "output_type": "display_data"
    }
   ],
   "source": [
    "import random\n"
   ]
  },
  {
   "cell_type": "code",
   "execution_count": 51,
   "id": "2bd89297-5f00-4508-94b8-adf8140e69b9",
   "metadata": {
    "execution": {
     "iopub.execute_input": "2023-03-07T18:00:59.424957Z",
     "iopub.status.busy": "2023-03-07T18:00:59.424085Z",
     "iopub.status.idle": "2023-03-07T18:01:00.417871Z",
     "shell.execute_reply": "2023-03-07T18:01:00.416908Z",
     "shell.execute_reply.started": "2023-03-07T18:00:59.424896Z"
    },
    "tags": []
   },
   "outputs": [
    {
     "name": "stdout",
     "output_type": "stream",
     "text": [
      "857\n",
      "1591\n",
      "232\n",
      "972\n",
      "442\n",
      "54\n",
      "71\n",
      "857\n",
      "1591\n",
      "232\n",
      "972\n",
      "442\n",
      "54\n",
      "71\n",
      "fewer than 857 cells for Cytotoxic T cell in s3atac_sampleA, only 719\n",
      "fewer than 1591 cells for CD4+ T cell in s3atac_sampleA, only 228\n",
      "fewer than 232 cells for Natural killer cell in s3atac_sampleA, only 131\n",
      "fewer than 972 cells for CD14+ monocyte in s3atac_sampleA, only 309\n",
      "fewer than 442 cells for B cell in s3atac_sampleA, only 254\n",
      "54\n",
      "fewer than 71 cells for Dendritic cell in s3atac_sampleA, only 44\n",
      "fewer than 857 cells for Cytotoxic T cell in s3atac_sampleB, only 449\n",
      "fewer than 1591 cells for CD4+ T cell in s3atac_sampleB, only 230\n",
      "fewer than 232 cells for Natural killer cell in s3atac_sampleB, only 123\n",
      "fewer than 972 cells for CD14+ monocyte in s3atac_sampleB, only 299\n",
      "fewer than 442 cells for B cell in s3atac_sampleB, only 146\n",
      "fewer than 54 cells for CD16+ monocyte in s3atac_sampleB, only 32\n",
      "fewer than 71 cells for Dendritic cell in s3atac_sampleB, only 20\n",
      "857\n",
      "1591\n",
      "232\n",
      "972\n",
      "442\n",
      "54\n",
      "71\n",
      "857\n",
      "1591\n",
      "232\n",
      "972\n",
      "442\n",
      "54\n",
      "71\n",
      "857\n",
      "1591\n",
      "232\n",
      "972\n",
      "442\n",
      "54\n",
      "71\n",
      "857\n",
      "1591\n",
      "232\n",
      "972\n",
      "442\n",
      "54\n",
      "71\n",
      "857\n",
      "1591\n",
      "232\n",
      "972\n",
      "442\n",
      "54\n",
      "71\n",
      "857\n",
      "1591\n",
      "232\n",
      "972\n",
      "442\n",
      "54\n",
      "71\n",
      "857\n",
      "1591\n",
      "fewer than 232 cells for Natural killer cell in ddseq_sampleA, only 13\n",
      "fewer than 972 cells for CD14+ monocyte in ddseq_sampleA, only 671\n",
      "442\n",
      "54\n",
      "fewer than 71 cells for Dendritic cell in ddseq_sampleA, only 55\n",
      "857\n",
      "1591\n",
      "fewer than 232 cells for Natural killer cell in ddseq_sampleB, only 7\n",
      "fewer than 972 cells for CD14+ monocyte in ddseq_sampleB, only 688\n",
      "442\n",
      "54\n",
      "fewer than 71 cells for Dendritic cell in ddseq_sampleB, only 11\n",
      "857\n",
      "1591\n",
      "232\n",
      "972\n",
      "442\n",
      "54\n",
      "71\n",
      "857\n",
      "1591\n",
      "232\n",
      "972\n",
      "442\n",
      "54\n",
      "71\n",
      "857\n",
      "fewer than 1591 cells for CD4+ T cell in 10xv1_sampleA, only 1301\n",
      "232\n",
      "972\n",
      "442\n",
      "54\n",
      "71\n",
      "fewer than 857 cells for Cytotoxic T cell in 10xv1_sampleB, only 635\n",
      "1591\n",
      "232\n",
      "972\n",
      "442\n",
      "54\n",
      "71\n"
     ]
    },
    {
     "data": {
      "application/javascript": [
       "\n",
       "            setTimeout(function() {\n",
       "                var nbb_cell_id = 51;\n",
       "                var nbb_unformatted_code = \"bcs_merged = []\\nbcs_dict = {}\\ncto.cell_data[\\\"tech_fmx_sample\\\"] = cto.cell_data[\\\"tech\\\"] + \\\"_\\\"+ cto.cell_data[\\\"fmx_sample\\\"]\\n# df_cell_data = cto.cell_data.loc[cto.cell_data[\\\"tech_fmx_sample\\\"].dropna().index]\\ndf_cell_data = cto.cell_data\\ndf_cell_data[\\\"tech_fmx_sample\\\"] = df_cell_data[\\\"tech_fmx_sample\\\"].fillna(\\\"SKIP\\\")\\nfor tech in df_cell_data[\\\"tech_fmx_sample\\\"].unique():\\n    bcs_tech = []\\n    for cell_type in df_cell_data[\\\"harmony_consensus_cell_type__mega\\\"].unique():\\n        if tech != \\\"SKIP\\\":\\n            df_tmp = df_cell_data[\\n                (df_cell_data[\\\"tech_fmx_sample\\\"] == tech)\\n                & (df_cell_data[\\\"harmony_consensus_cell_type__mega\\\"] == cell_type)\\n            ]\\n            if len(df_tmp) >= min_dict[cell_type]:\\n                bcs = random.sample(list(df_tmp.index), min_dict[cell_type])\\n                print(len(bcs))\\n            elif len(df_tmp) == 0:\\n                print(f\\\"no bc for {cell_type} in {tech}\\\")\\n                \\n            else:\\n                print(f\\\"fewer than {min_dict[cell_type]} cells for {cell_type} in {tech}, only {len(df_tmp)}\\\")\\n                bcs = list(df_tmp.index)\\n                \\n            bcs_merged = bcs_merged + bcs\\n            bcs_tech = bcs_tech + bcs\\n        bcs_dict[tech] = bcs_tech\";\n",
       "                var nbb_formatted_code = \"bcs_merged = []\\nbcs_dict = {}\\ncto.cell_data[\\\"tech_fmx_sample\\\"] = (\\n    cto.cell_data[\\\"tech\\\"] + \\\"_\\\" + cto.cell_data[\\\"fmx_sample\\\"]\\n)\\n# df_cell_data = cto.cell_data.loc[cto.cell_data[\\\"tech_fmx_sample\\\"].dropna().index]\\ndf_cell_data = cto.cell_data\\ndf_cell_data[\\\"tech_fmx_sample\\\"] = df_cell_data[\\\"tech_fmx_sample\\\"].fillna(\\\"SKIP\\\")\\nfor tech in df_cell_data[\\\"tech_fmx_sample\\\"].unique():\\n    bcs_tech = []\\n    for cell_type in df_cell_data[\\\"harmony_consensus_cell_type__mega\\\"].unique():\\n        if tech != \\\"SKIP\\\":\\n            df_tmp = df_cell_data[\\n                (df_cell_data[\\\"tech_fmx_sample\\\"] == tech)\\n                & (df_cell_data[\\\"harmony_consensus_cell_type__mega\\\"] == cell_type)\\n            ]\\n            if len(df_tmp) >= min_dict[cell_type]:\\n                bcs = random.sample(list(df_tmp.index), min_dict[cell_type])\\n                print(len(bcs))\\n            elif len(df_tmp) == 0:\\n                print(f\\\"no bc for {cell_type} in {tech}\\\")\\n\\n            else:\\n                print(\\n                    f\\\"fewer than {min_dict[cell_type]} cells for {cell_type} in {tech}, only {len(df_tmp)}\\\"\\n                )\\n                bcs = list(df_tmp.index)\\n\\n            bcs_merged = bcs_merged + bcs\\n            bcs_tech = bcs_tech + bcs\\n        bcs_dict[tech] = bcs_tech\";\n",
       "                var nbb_cells = Jupyter.notebook.get_cells();\n",
       "                for (var i = 0; i < nbb_cells.length; ++i) {\n",
       "                    if (nbb_cells[i].input_prompt_number == nbb_cell_id) {\n",
       "                        if (nbb_cells[i].get_text() == nbb_unformatted_code) {\n",
       "                             nbb_cells[i].set_text(nbb_formatted_code);\n",
       "                        }\n",
       "                        break;\n",
       "                    }\n",
       "                }\n",
       "            }, 500);\n",
       "            "
      ],
      "text/plain": [
       "<IPython.core.display.Javascript object>"
      ]
     },
     "metadata": {},
     "output_type": "display_data"
    }
   ],
   "source": [
    "bcs_merged = []\n",
    "bcs_dict = {}\n",
    "cto.cell_data[\"tech_fmx_sample\"] = cto.cell_data[\"tech\"] + \"_\"+ cto.cell_data[\"fmx_sample\"]\n",
    "# df_cell_data = cto.cell_data.loc[cto.cell_data[\"tech_fmx_sample\"].dropna().index]\n",
    "df_cell_data = cto.cell_data\n",
    "df_cell_data[\"tech_fmx_sample\"] = df_cell_data[\"tech_fmx_sample\"].fillna(\"SKIP\")\n",
    "for tech in df_cell_data[\"tech_fmx_sample\"].unique():\n",
    "    bcs_tech = []\n",
    "    for cell_type in df_cell_data[\"harmony_consensus_cell_type__mega\"].unique():\n",
    "        if tech != \"SKIP\":\n",
    "            df_tmp = df_cell_data[\n",
    "                (df_cell_data[\"tech_fmx_sample\"] == tech)\n",
    "                & (df_cell_data[\"harmony_consensus_cell_type__mega\"] == cell_type)\n",
    "            ]\n",
    "            if len(df_tmp) >= min_dict[cell_type]:\n",
    "                bcs = random.sample(list(df_tmp.index), min_dict[cell_type])\n",
    "                print(len(bcs))\n",
    "            elif len(df_tmp) == 0:\n",
    "                print(f\"no bc for {cell_type} in {tech}\")\n",
    "                \n",
    "            else:\n",
    "                print(f\"fewer than {min_dict[cell_type]} cells for {cell_type} in {tech}, only {len(df_tmp)}\")\n",
    "                bcs = list(df_tmp.index)\n",
    "                \n",
    "            bcs_merged = bcs_merged + bcs\n",
    "            bcs_tech = bcs_tech + bcs\n",
    "        bcs_dict[tech] = bcs_tech"
   ]
  },
  {
   "cell_type": "code",
   "execution_count": 63,
   "id": "98341baa-db38-4a7d-9d6a-892cb7de786d",
   "metadata": {
    "execution": {
     "iopub.execute_input": "2023-03-07T18:07:26.510127Z",
     "iopub.status.busy": "2023-03-07T18:07:26.509190Z",
     "iopub.status.idle": "2023-03-07T18:07:50.511637Z",
     "shell.execute_reply": "2023-03-07T18:07:50.510090Z",
     "shell.execute_reply.started": "2023-03-07T18:07:26.510049Z"
    },
    "tags": []
   },
   "outputs": [
    {
     "name": "stdout",
     "output_type": "stream",
     "text": [
      "10xmultiome\n",
      "8438\n",
      "s3atac\n",
      "3038\n",
      "10xv11\n",
      "8438\n",
      "hydrop\n",
      "8438\n",
      "10xv2\n",
      "8438\n",
      "ddseq\n",
      "7333\n",
      "mtscatac\n",
      "8438\n",
      "10xv1\n",
      "7926\n"
     ]
    },
    {
     "data": {
      "application/javascript": [
       "\n",
       "            setTimeout(function() {\n",
       "                var nbb_cell_id = 63;\n",
       "                var nbb_unformatted_code = \"for tech in cto.cell_data[\\\"tech\\\"].unique():\\n    print(tech)\\n    bc_tech = []\\n    for sample in [\\\"sampleA\\\", \\\"sampleB\\\"]:\\n        bcs = bcs_dict[tech + \\\"_\\\" + sample]\\n        bc_tech = bc_tech + bcs\\n    print(len(bc_tech))\\n    cto_subset = cto.subset(cells=bc_tech, copy=True)\\n    \\n    with open(\\n            f\\\"male_female_celltypefaircto/{tech}_malefemalecelltypefair.pkl\\\",'wb'\\n    ) as f:\\n        pickle.dump(cto_subset, f, protocol=4)\";\n",
       "                var nbb_formatted_code = \"for tech in cto.cell_data[\\\"tech\\\"].unique():\\n    print(tech)\\n    bc_tech = []\\n    for sample in [\\\"sampleA\\\", \\\"sampleB\\\"]:\\n        bcs = bcs_dict[tech + \\\"_\\\" + sample]\\n        bc_tech = bc_tech + bcs\\n    print(len(bc_tech))\\n    cto_subset = cto.subset(cells=bc_tech, copy=True)\\n\\n    with open(\\n        f\\\"male_female_celltypefaircto/{tech}_malefemalecelltypefair.pkl\\\", \\\"wb\\\"\\n    ) as f:\\n        pickle.dump(cto_subset, f, protocol=4)\";\n",
       "                var nbb_cells = Jupyter.notebook.get_cells();\n",
       "                for (var i = 0; i < nbb_cells.length; ++i) {\n",
       "                    if (nbb_cells[i].input_prompt_number == nbb_cell_id) {\n",
       "                        if (nbb_cells[i].get_text() == nbb_unformatted_code) {\n",
       "                             nbb_cells[i].set_text(nbb_formatted_code);\n",
       "                        }\n",
       "                        break;\n",
       "                    }\n",
       "                }\n",
       "            }, 500);\n",
       "            "
      ],
      "text/plain": [
       "<IPython.core.display.Javascript object>"
      ]
     },
     "metadata": {},
     "output_type": "display_data"
    }
   ],
   "source": [
    "for tech in cto.cell_data[\"tech\"].unique():\n",
    "    print(tech)\n",
    "    bc_tech = []\n",
    "    for sample in [\"sampleA\", \"sampleB\"]:\n",
    "        bcs = bcs_dict[tech + \"_\" + sample]\n",
    "        bc_tech = bc_tech + bcs\n",
    "    print(len(bc_tech))\n",
    "    cto_subset = cto.subset(cells=bc_tech, copy=True)\n",
    "    \n",
    "    with open(\n",
    "            f\"male_female_celltypefaircto/{tech}_malefemalecelltypefair.pkl\",'wb'\n",
    "    ) as f:\n",
    "        pickle.dump(cto_subset, f, protocol=4)"
   ]
  },
  {
   "cell_type": "code",
   "execution_count": null,
   "id": "6a011404-dbc6-4a4e-88c8-ab918e25a95c",
   "metadata": {},
   "outputs": [],
   "source": []
  },
  {
   "cell_type": "code",
   "execution_count": null,
   "id": "c5bf4d60-0290-4f3d-8713-b22f9daa70e0",
   "metadata": {},
   "outputs": [],
   "source": []
  },
  {
   "cell_type": "code",
   "execution_count": null,
   "id": "f86e2f03-1aa4-496d-a4b6-3e6447d041dd",
   "metadata": {},
   "outputs": [],
   "source": []
  },
  {
   "cell_type": "markdown",
   "id": "d9709c2c-ae8c-404c-8420-4b1c16da6935",
   "metadata": {},
   "source": [
    "# or, subset with imputed acc"
   ]
  },
  {
   "cell_type": "code",
   "execution_count": 23,
   "id": "daebe7a9-4dc6-457b-97c3-4e4108785915",
   "metadata": {
    "execution": {
     "iopub.execute_input": "2023-03-06T15:49:48.101079Z",
     "iopub.status.busy": "2023-03-06T15:49:48.100866Z",
     "iopub.status.idle": "2023-03-06T15:49:50.550469Z",
     "shell.execute_reply": "2023-03-06T15:49:50.549523Z",
     "shell.execute_reply.started": "2023-03-06T15:49:48.101060Z"
    },
    "tags": []
   },
   "outputs": [
    {
     "name": "stdout",
     "output_type": "stream",
     "text": [
      "857\n",
      "857\n",
      "fewer than 857 cells for Cytotoxic T cell in s3atac_sampleA, only 719\n",
      "fewer than 857 cells for Cytotoxic T cell in s3atac_sampleB, only 449\n",
      "857\n",
      "857\n",
      "857\n",
      "857\n",
      "857\n",
      "857\n",
      "857\n",
      "857\n",
      "857\n",
      "857\n",
      "857\n",
      "fewer than 857 cells for Cytotoxic T cell in 10xv1_sampleB, only 635\n",
      "1591\n",
      "1591\n",
      "fewer than 1591 cells for CD4+ T cell in s3atac_sampleA, only 228\n",
      "fewer than 1591 cells for CD4+ T cell in s3atac_sampleB, only 230\n",
      "1591\n",
      "1591\n",
      "1591\n",
      "1591\n",
      "1591\n",
      "1591\n",
      "1591\n",
      "1591\n",
      "1591\n",
      "1591\n",
      "fewer than 1591 cells for CD4+ T cell in 10xv1_sampleA, only 1301\n",
      "1591\n",
      "232\n",
      "232\n",
      "fewer than 232 cells for Natural killer cell in s3atac_sampleA, only 131\n",
      "fewer than 232 cells for Natural killer cell in s3atac_sampleB, only 123\n",
      "232\n",
      "232\n",
      "232\n",
      "232\n",
      "232\n",
      "232\n",
      "fewer than 232 cells for Natural killer cell in ddseq_sampleA, only 13\n",
      "fewer than 232 cells for Natural killer cell in ddseq_sampleB, only 7\n",
      "232\n",
      "232\n",
      "232\n",
      "232\n",
      "972\n",
      "972\n",
      "fewer than 972 cells for CD14+ monocyte in s3atac_sampleA, only 309\n",
      "fewer than 972 cells for CD14+ monocyte in s3atac_sampleB, only 299\n",
      "972\n",
      "972\n",
      "972\n",
      "972\n",
      "972\n",
      "972\n",
      "fewer than 972 cells for CD14+ monocyte in ddseq_sampleA, only 671\n",
      "fewer than 972 cells for CD14+ monocyte in ddseq_sampleB, only 688\n",
      "972\n",
      "972\n",
      "972\n",
      "972\n",
      "442\n",
      "442\n",
      "fewer than 442 cells for B cell in s3atac_sampleA, only 254\n",
      "fewer than 442 cells for B cell in s3atac_sampleB, only 146\n",
      "442\n",
      "442\n",
      "442\n",
      "442\n",
      "442\n",
      "442\n",
      "442\n",
      "442\n",
      "442\n",
      "442\n",
      "442\n",
      "442\n",
      "54\n",
      "54\n",
      "54\n",
      "fewer than 54 cells for CD16+ monocyte in s3atac_sampleB, only 32\n",
      "54\n",
      "54\n",
      "54\n",
      "54\n",
      "54\n",
      "54\n",
      "54\n",
      "54\n",
      "54\n",
      "54\n",
      "54\n",
      "54\n",
      "71\n",
      "71\n",
      "fewer than 71 cells for Dendritic cell in s3atac_sampleA, only 44\n",
      "fewer than 71 cells for Dendritic cell in s3atac_sampleB, only 20\n",
      "71\n",
      "71\n",
      "71\n",
      "71\n",
      "71\n",
      "71\n",
      "fewer than 71 cells for Dendritic cell in ddseq_sampleA, only 55\n",
      "fewer than 71 cells for Dendritic cell in ddseq_sampleB, only 11\n",
      "71\n",
      "71\n",
      "71\n",
      "71\n"
     ]
    },
    {
     "data": {
      "application/javascript": [
       "\n",
       "            setTimeout(function() {\n",
       "                var nbb_cell_id = 23;\n",
       "                var nbb_unformatted_code = \"bcs_merged = []\\ncto.cell_data[\\\"tech_fmx_sample\\\"] = cto.cell_data[\\\"tech\\\"] + \\\"_\\\"+ cto.cell_data[\\\"fmx_sample\\\"]\\n# df_cell_data = cto.cell_data.loc[cto.cell_data[\\\"tech_fmx_sample\\\"].dropna().index]\\ndf_cell_data = cto.cell_data\\ndf_cell_data[\\\"tech_fmx_sample\\\"] = df_cell_data[\\\"tech_fmx_sample\\\"].fillna(\\\"SKIP\\\")\\nfor cell_type in df_cell_data[\\\"harmony_consensus_cell_type__mega\\\"].unique():\\n    for tech in df_cell_data[\\\"tech_fmx_sample\\\"].unique():\\n        if tech != \\\"SKIP\\\":\\n            df_tmp = df_cell_data[\\n                (df_cell_data[\\\"tech_fmx_sample\\\"] == tech)\\n                & (df_cell_data[\\\"harmony_consensus_cell_type__mega\\\"] == cell_type)\\n            ]\\n            if len(df_tmp) >= min_dict[cell_type]:\\n                bcs = random.sample(list(df_tmp.index), min_dict[cell_type])\\n                print(len(bcs))\\n            elif len(df_tmp) == 0:\\n                print(f\\\"no bc for {cell_type} in {tech}\\\")\\n                \\n            else:\\n                print(f\\\"fewer than {min_dict[cell_type]} cells for {cell_type} in {tech}, only {len(df_tmp)}\\\")\\n                bcs = list(df_tmp.index)\\n                \\n            bcs_merged = bcs_merged + bcs\";\n",
       "                var nbb_formatted_code = \"bcs_merged = []\\ncto.cell_data[\\\"tech_fmx_sample\\\"] = (\\n    cto.cell_data[\\\"tech\\\"] + \\\"_\\\" + cto.cell_data[\\\"fmx_sample\\\"]\\n)\\n# df_cell_data = cto.cell_data.loc[cto.cell_data[\\\"tech_fmx_sample\\\"].dropna().index]\\ndf_cell_data = cto.cell_data\\ndf_cell_data[\\\"tech_fmx_sample\\\"] = df_cell_data[\\\"tech_fmx_sample\\\"].fillna(\\\"SKIP\\\")\\nfor cell_type in df_cell_data[\\\"harmony_consensus_cell_type__mega\\\"].unique():\\n    for tech in df_cell_data[\\\"tech_fmx_sample\\\"].unique():\\n        if tech != \\\"SKIP\\\":\\n            df_tmp = df_cell_data[\\n                (df_cell_data[\\\"tech_fmx_sample\\\"] == tech)\\n                & (df_cell_data[\\\"harmony_consensus_cell_type__mega\\\"] == cell_type)\\n            ]\\n            if len(df_tmp) >= min_dict[cell_type]:\\n                bcs = random.sample(list(df_tmp.index), min_dict[cell_type])\\n                print(len(bcs))\\n            elif len(df_tmp) == 0:\\n                print(f\\\"no bc for {cell_type} in {tech}\\\")\\n\\n            else:\\n                print(\\n                    f\\\"fewer than {min_dict[cell_type]} cells for {cell_type} in {tech}, only {len(df_tmp)}\\\"\\n                )\\n                bcs = list(df_tmp.index)\\n\\n            bcs_merged = bcs_merged + bcs\";\n",
       "                var nbb_cells = Jupyter.notebook.get_cells();\n",
       "                for (var i = 0; i < nbb_cells.length; ++i) {\n",
       "                    if (nbb_cells[i].input_prompt_number == nbb_cell_id) {\n",
       "                        if (nbb_cells[i].get_text() == nbb_unformatted_code) {\n",
       "                             nbb_cells[i].set_text(nbb_formatted_code);\n",
       "                        }\n",
       "                        break;\n",
       "                    }\n",
       "                }\n",
       "            }, 500);\n",
       "            "
      ],
      "text/plain": [
       "<IPython.core.display.Javascript object>"
      ]
     },
     "metadata": {},
     "output_type": "display_data"
    }
   ],
   "source": [
    "bcs_merged = []\n",
    "bcs_dict = {}\n",
    "cto.cell_data[\"tech_fmx_sample\"] = cto.cell_data[\"tech\"] + \"_\"+ cto.cell_data[\"fmx_sample\"]\n",
    "# df_cell_data = cto.cell_data.loc[cto.cell_data[\"tech_fmx_sample\"].dropna().index]\n",
    "df_cell_data = cto.cell_data\n",
    "df_cell_data[\"tech_fmx_sample\"] = df_cell_data[\"tech_fmx_sample\"].fillna(\"SKIP\")\n",
    "for cell_type in df_cell_data[\"harmony_consensus_cell_type__mega\"].unique():\n",
    "    for tech in df_cell_data[\"tech_fmx_sample\"].unique():\n",
    "        if tech != \"SKIP\":\n",
    "            df_tmp = df_cell_data[\n",
    "                (df_cell_data[\"tech_fmx_sample\"] == tech)\n",
    "                & (df_cell_data[\"harmony_consensus_cell_type__mega\"] == cell_type)\n",
    "            ]\n",
    "            if len(df_tmp) >= min_dict[cell_type]:\n",
    "                bcs = random.sample(list(df_tmp.index), min_dict[cell_type])\n",
    "                print(len(bcs))\n",
    "            elif len(df_tmp) == 0:\n",
    "                print(f\"no bc for {cell_type} in {tech}\")\n",
    "                \n",
    "            else:\n",
    "                print(f\"fewer than {min_dict[cell_type]} cells for {cell_type} in {tech}, only {len(df_tmp)}\")\n",
    "                bcs = list(df_tmp.index)\n",
    "                \n",
    "            bcs_merged = bcs_merged + bcs\n",
    "            \n",
    "        bcs_dict[sample]"
   ]
  },
  {
   "cell_type": "markdown",
   "id": "03c8fb8b-50a2-4490-97ff-853c8b7ef37f",
   "metadata": {
    "execution": {
     "iopub.execute_input": "2023-03-02T15:33:49.673224Z",
     "iopub.status.busy": "2023-03-02T15:33:49.672388Z",
     "iopub.status.idle": "2023-03-02T15:33:49.687411Z",
     "shell.execute_reply": "2023-03-02T15:33:49.685848Z",
     "shell.execute_reply.started": "2023-03-02T15:33:49.673165Z"
    }
   },
   "source": [
    "## Seems quite reasonable. Proceed with DAR calculation"
   ]
  },
  {
   "cell_type": "code",
   "execution_count": 24,
   "id": "d848cc69-4db6-46e7-8f63-cab52abf88b8",
   "metadata": {
    "execution": {
     "iopub.execute_input": "2023-03-06T15:49:50.551645Z",
     "iopub.status.busy": "2023-03-06T15:49:50.551436Z",
     "iopub.status.idle": "2023-03-06T15:50:07.216486Z",
     "shell.execute_reply": "2023-03-06T15:50:07.215550Z",
     "shell.execute_reply.started": "2023-03-06T15:49:50.551625Z"
    },
    "tags": []
   },
   "outputs": [
    {
     "data": {
      "application/javascript": [
       "\n",
       "            setTimeout(function() {\n",
       "                var nbb_cell_id = 24;\n",
       "                var nbb_unformatted_code = \"cto_subset = cto.subset(cells=bcs_merged, copy=True)\";\n",
       "                var nbb_formatted_code = \"cto_subset = cto.subset(cells=bcs_merged, copy=True)\";\n",
       "                var nbb_cells = Jupyter.notebook.get_cells();\n",
       "                for (var i = 0; i < nbb_cells.length; ++i) {\n",
       "                    if (nbb_cells[i].input_prompt_number == nbb_cell_id) {\n",
       "                        if (nbb_cells[i].get_text() == nbb_unformatted_code) {\n",
       "                             nbb_cells[i].set_text(nbb_formatted_code);\n",
       "                        }\n",
       "                        break;\n",
       "                    }\n",
       "                }\n",
       "            }, 500);\n",
       "            "
      ],
      "text/plain": [
       "<IPython.core.display.Javascript object>"
      ]
     },
     "metadata": {},
     "output_type": "display_data"
    }
   ],
   "source": [
    "cto_subset = cto.subset(cells=bcs_merged, copy=True)"
   ]
  },
  {
   "cell_type": "code",
   "execution_count": null,
   "id": "8f1313da-843e-41a8-a342-499b4fa413e0",
   "metadata": {},
   "outputs": [],
   "source": []
  },
  {
   "cell_type": "code",
   "execution_count": 25,
   "id": "482bd6a1-c932-4ab2-b642-465f1553528c",
   "metadata": {
    "execution": {
     "iopub.execute_input": "2023-03-06T15:50:07.217689Z",
     "iopub.status.busy": "2023-03-06T15:50:07.217465Z",
     "iopub.status.idle": "2023-03-06T15:50:07.255887Z",
     "shell.execute_reply": "2023-03-06T15:50:07.254982Z",
     "shell.execute_reply.started": "2023-03-06T15:50:07.217669Z"
    },
    "tags": []
   },
   "outputs": [
    {
     "name": "stdout",
     "output_type": "stream",
     "text": [
      "harmony_consensus_cell_type__mega  fmx_sample  tech       \n",
      "B cell                             sampleA     10xmultiome     442\n",
      "                                               10xv1           442\n",
      "                                               10xv11          442\n",
      "                                               10xv2           442\n",
      "                                               ddseq           442\n",
      "                                               hydrop          442\n",
      "                                               mtscatac        442\n",
      "                                               s3atac          254\n",
      "                                   sampleB     10xmultiome     442\n",
      "                                               10xv1           442\n",
      "                                               10xv11          442\n",
      "                                               10xv2           442\n",
      "                                               ddseq           442\n",
      "                                               hydrop          442\n",
      "                                               mtscatac        442\n",
      "                                               s3atac          146\n",
      "CD14+ monocyte                     sampleA     10xmultiome     972\n",
      "                                               10xv1           972\n",
      "                                               10xv11          972\n",
      "                                               10xv2           972\n",
      "                                               hydrop          972\n",
      "                                               mtscatac        972\n",
      "                                               ddseq           671\n",
      "                                               s3atac          309\n",
      "                                   sampleB     10xmultiome     972\n",
      "                                               10xv1           972\n",
      "                                               10xv11          972\n",
      "                                               10xv2           972\n",
      "                                               hydrop          972\n",
      "                                               mtscatac        972\n",
      "                                               ddseq           688\n",
      "                                               s3atac          299\n",
      "CD16+ monocyte                     sampleA     10xmultiome      54\n",
      "                                               10xv1            54\n",
      "                                               10xv11           54\n",
      "                                               10xv2            54\n",
      "                                               ddseq            54\n",
      "                                               hydrop           54\n",
      "                                               mtscatac         54\n",
      "                                               s3atac           54\n",
      "                                   sampleB     10xmultiome      54\n",
      "                                               10xv1            54\n",
      "                                               10xv11           54\n",
      "                                               10xv2            54\n",
      "                                               ddseq            54\n",
      "                                               hydrop           54\n",
      "                                               mtscatac         54\n",
      "                                               s3atac           32\n",
      "CD4+ T cell                        sampleA     10xmultiome    1591\n",
      "                                               10xv11         1591\n",
      "                                               10xv2          1591\n",
      "                                               ddseq          1591\n",
      "                                               hydrop         1591\n",
      "                                               mtscatac       1591\n",
      "                                               10xv1          1301\n",
      "                                               s3atac          228\n",
      "                                   sampleB     10xmultiome    1591\n",
      "                                               10xv1          1591\n",
      "                                               10xv11         1591\n",
      "                                               10xv2          1591\n",
      "                                               ddseq          1591\n",
      "                                               hydrop         1591\n",
      "                                               mtscatac       1591\n",
      "                                               s3atac          230\n",
      "Cytotoxic T cell                   sampleA     10xmultiome     857\n",
      "                                               10xv1           857\n",
      "                                               10xv11          857\n",
      "                                               10xv2           857\n",
      "                                               ddseq           857\n",
      "                                               hydrop          857\n",
      "                                               mtscatac        857\n",
      "                                               s3atac          719\n",
      "                                   sampleB     10xmultiome     857\n",
      "                                               10xv11          857\n",
      "                                               10xv2           857\n",
      "                                               ddseq           857\n",
      "                                               hydrop          857\n",
      "                                               mtscatac        857\n",
      "                                               10xv1           635\n",
      "                                               s3atac          449\n",
      "Dendritic cell                     sampleA     10xmultiome      71\n",
      "                                               10xv1            71\n",
      "                                               10xv11           71\n",
      "                                               10xv2            71\n",
      "                                               hydrop           71\n",
      "                                               mtscatac         71\n",
      "                                               ddseq            55\n",
      "                                               s3atac           44\n",
      "                                   sampleB     10xmultiome      71\n",
      "                                               10xv1            71\n",
      "                                               10xv11           71\n",
      "                                               10xv2            71\n",
      "                                               hydrop           71\n",
      "                                               mtscatac         71\n",
      "                                               s3atac           20\n",
      "                                               ddseq            11\n",
      "Natural killer cell                sampleA     10xmultiome     232\n",
      "                                               10xv1           232\n",
      "                                               10xv11          232\n",
      "                                               10xv2           232\n",
      "                                               hydrop          232\n",
      "                                               mtscatac        232\n",
      "                                               s3atac          131\n",
      "                                               ddseq            13\n",
      "                                   sampleB     10xmultiome     232\n",
      "                                               10xv1           232\n",
      "                                               10xv11          232\n",
      "                                               10xv2           232\n",
      "                                               hydrop          232\n",
      "                                               mtscatac        232\n",
      "                                               s3atac          123\n",
      "                                               ddseq             7\n",
      "Name: tech, dtype: int64\n"
     ]
    },
    {
     "data": {
      "application/javascript": [
       "\n",
       "            setTimeout(function() {\n",
       "                var nbb_cell_id = 25;\n",
       "                var nbb_unformatted_code = \"with pd.option_context('display.max_rows', None,\\n                       'display.max_columns', None,\\n                       'display.precision', 3,\\n                       ):\\n\\n    print(cto_subset.cell_data.groupby([\\\"harmony_consensus_cell_type__mega\\\", \\\"fmx_sample\\\"])[\\n        \\\"tech\\\"\\n    ].value_counts())\";\n",
       "                var nbb_formatted_code = \"with pd.option_context(\\n    \\\"display.max_rows\\\",\\n    None,\\n    \\\"display.max_columns\\\",\\n    None,\\n    \\\"display.precision\\\",\\n    3,\\n):\\n\\n    print(\\n        cto_subset.cell_data.groupby(\\n            [\\\"harmony_consensus_cell_type__mega\\\", \\\"fmx_sample\\\"]\\n        )[\\\"tech\\\"].value_counts()\\n    )\";\n",
       "                var nbb_cells = Jupyter.notebook.get_cells();\n",
       "                for (var i = 0; i < nbb_cells.length; ++i) {\n",
       "                    if (nbb_cells[i].input_prompt_number == nbb_cell_id) {\n",
       "                        if (nbb_cells[i].get_text() == nbb_unformatted_code) {\n",
       "                             nbb_cells[i].set_text(nbb_formatted_code);\n",
       "                        }\n",
       "                        break;\n",
       "                    }\n",
       "                }\n",
       "            }, 500);\n",
       "            "
      ],
      "text/plain": [
       "<IPython.core.display.Javascript object>"
      ]
     },
     "metadata": {},
     "output_type": "display_data"
    }
   ],
   "source": [
    "with pd.option_context('display.max_rows', None,\n",
    "                       'display.max_columns', None,\n",
    "                       'display.precision', 3,\n",
    "                       ):\n",
    "\n",
    "    print(cto_subset.cell_data.groupby([\"harmony_consensus_cell_type__mega\", \"fmx_sample\"])[\n",
    "        \"tech\"\n",
    "    ].value_counts())"
   ]
  },
  {
   "cell_type": "code",
   "execution_count": 26,
   "id": "ae7043b5-2fcf-42b1-8078-657995e660b5",
   "metadata": {
    "execution": {
     "iopub.execute_input": "2023-03-06T15:50:07.257022Z",
     "iopub.status.busy": "2023-03-06T15:50:07.256820Z",
     "iopub.status.idle": "2023-03-06T15:50:14.019791Z",
     "shell.execute_reply": "2023-03-06T15:50:14.018883Z",
     "shell.execute_reply.started": "2023-03-06T15:50:07.257003Z"
    },
    "tags": []
   },
   "outputs": [
    {
     "data": {
      "application/javascript": [
       "\n",
       "            setTimeout(function() {\n",
       "                var nbb_cell_id = 26;\n",
       "                var nbb_unformatted_code = \"with open(\\n        \\\"cistopic_objects_master/cto_malefemale_celltypefair.pkl\\\",'wb'\\n) as f:\\n    pickle.dump(cto_subset, f, protocol=4)\";\n",
       "                var nbb_formatted_code = \"with open(\\\"cistopic_objects_master/cto_malefemale_celltypefair.pkl\\\", \\\"wb\\\") as f:\\n    pickle.dump(cto_subset, f, protocol=4)\";\n",
       "                var nbb_cells = Jupyter.notebook.get_cells();\n",
       "                for (var i = 0; i < nbb_cells.length; ++i) {\n",
       "                    if (nbb_cells[i].input_prompt_number == nbb_cell_id) {\n",
       "                        if (nbb_cells[i].get_text() == nbb_unformatted_code) {\n",
       "                             nbb_cells[i].set_text(nbb_formatted_code);\n",
       "                        }\n",
       "                        break;\n",
       "                    }\n",
       "                }\n",
       "            }, 500);\n",
       "            "
      ],
      "text/plain": [
       "<IPython.core.display.Javascript object>"
      ]
     },
     "metadata": {},
     "output_type": "display_data"
    }
   ],
   "source": [
    "with open(\n",
    "        \"cistopic_objects_master/cto_malefemale_celltypefair.pkl\",'wb'\n",
    ") as f:\n",
    "    pickle.dump(cto_subset, f, protocol=4)"
   ]
  },
  {
   "cell_type": "markdown",
   "id": "9e9a9eda-6f46-452c-8f46-8453b9af36ab",
   "metadata": {},
   "source": [
    "## looks pretty good!"
   ]
  },
  {
   "cell_type": "code",
   "execution_count": 27,
   "id": "61a6e2db-1cf2-4974-af29-05ce58388b70",
   "metadata": {
    "execution": {
     "iopub.execute_input": "2023-03-06T15:50:14.020987Z",
     "iopub.status.busy": "2023-03-06T15:50:14.020775Z",
     "iopub.status.idle": "2023-03-06T15:50:14.032894Z",
     "shell.execute_reply": "2023-03-06T15:50:14.031959Z",
     "shell.execute_reply.started": "2023-03-06T15:50:14.020967Z"
    },
    "papermill": {
     "duration": 0.056399,
     "end_time": "2022-11-01T17:12:00.116899",
     "exception": false,
     "start_time": "2022-11-01T17:12:00.060500",
     "status": "completed"
    },
    "pycharm": {
     "name": "#%%\n"
    },
    "tags": []
   },
   "outputs": [
    {
     "data": {
      "application/javascript": [
       "\n",
       "            setTimeout(function() {\n",
       "                var nbb_cell_id = 27;\n",
       "                var nbb_unformatted_code = \"# create output directory:\\nf_final_dir = os.path.join(wdir, 'downstream_analysis_male_female_countfair')\\nif not os.path.exists(f_final_dir):\\n    os.makedirs(f_final_dir)\\n    \\n# create output directory:\\nfor tmpdir in [\\\"binarized_topics\\\", \\\"DARs\\\", \\\"HVRs\\\", \\\"imputed_acc_objs\\\"]:\\n    tomake = os.path.join(f_final_dir, tmpdir)\\n    if not os.path.exists(tomake):\\n        os.makedirs(tomake)\\n    \";\n",
       "                var nbb_formatted_code = \"# create output directory:\\nf_final_dir = os.path.join(wdir, \\\"downstream_analysis_male_female_countfair\\\")\\nif not os.path.exists(f_final_dir):\\n    os.makedirs(f_final_dir)\\n\\n# create output directory:\\nfor tmpdir in [\\\"binarized_topics\\\", \\\"DARs\\\", \\\"HVRs\\\", \\\"imputed_acc_objs\\\"]:\\n    tomake = os.path.join(f_final_dir, tmpdir)\\n    if not os.path.exists(tomake):\\n        os.makedirs(tomake)\";\n",
       "                var nbb_cells = Jupyter.notebook.get_cells();\n",
       "                for (var i = 0; i < nbb_cells.length; ++i) {\n",
       "                    if (nbb_cells[i].input_prompt_number == nbb_cell_id) {\n",
       "                        if (nbb_cells[i].get_text() == nbb_unformatted_code) {\n",
       "                             nbb_cells[i].set_text(nbb_formatted_code);\n",
       "                        }\n",
       "                        break;\n",
       "                    }\n",
       "                }\n",
       "            }, 500);\n",
       "            "
      ],
      "text/plain": [
       "<IPython.core.display.Javascript object>"
      ]
     },
     "metadata": {},
     "output_type": "display_data"
    }
   ],
   "source": [
    "# create output directory:\n",
    "f_final_dir = os.path.join(wdir, 'downstream_analysis_male_female_countfair')\n",
    "if not os.path.exists(f_final_dir):\n",
    "    os.makedirs(f_final_dir)\n",
    "    \n",
    "# create output directory:\n",
    "for tmpdir in [\"binarized_topics\", \"DARs\", \"HVRs\", \"imputed_acc_objs\"]:\n",
    "    tomake = os.path.join(f_final_dir, tmpdir)\n",
    "    if not os.path.exists(tomake):\n",
    "        os.makedirs(tomake)\n",
    "    \n"
   ]
  },
  {
   "cell_type": "markdown",
   "id": "62830e8e-acc0-4c8c-bf28-3e596ad93959",
   "metadata": {
    "papermill": {
     "duration": 0.028715,
     "end_time": "2022-11-01T17:12:00.615637",
     "exception": false,
     "start_time": "2022-11-01T17:12:00.586922",
     "status": "completed"
    },
    "pycharm": {
     "name": "#%% md\n"
    },
    "tags": []
   },
   "source": [
    "# Load imputed acc obj"
   ]
  },
  {
   "cell_type": "code",
   "execution_count": 28,
   "id": "9c076e12-acba-45a8-b920-68fa6561db51",
   "metadata": {
    "execution": {
     "iopub.execute_input": "2023-03-06T15:50:14.037058Z",
     "iopub.status.busy": "2023-03-06T15:50:14.036857Z",
     "iopub.status.idle": "2023-03-06T15:50:22.230369Z",
     "shell.execute_reply": "2023-03-06T15:50:22.229243Z",
     "shell.execute_reply.started": "2023-03-06T15:50:14.037040Z"
    },
    "papermill": {
     "duration": 21.554216,
     "end_time": "2022-11-01T17:12:22.198341",
     "exception": false,
     "start_time": "2022-11-01T17:12:00.644125",
     "status": "completed"
    },
    "pycharm": {
     "name": "#%%\n"
    },
    "tags": []
   },
   "outputs": [
    {
     "data": {
      "application/javascript": [
       "\n",
       "            setTimeout(function() {\n",
       "                var nbb_cell_id = 28;\n",
       "                var nbb_unformatted_code = \"from pycisTopic.topic_binarization import binarize_topics\\nfrom pycisTopic.topic_qc import compute_topic_metrics, plot_topic_qc\\nfrom pycisTopic.utils import fig2img\\nimport matplotlib.pyplot as plt\\nfrom pycisTopic.topic_qc import topic_annotation\\nfrom pycisTopic.diff_features import *\\nfrom pycisTopic.clust_vis import plot_imputed_features\\nimport numpy as np\\nimport copy\";\n",
       "                var nbb_formatted_code = \"from pycisTopic.topic_binarization import binarize_topics\\nfrom pycisTopic.topic_qc import compute_topic_metrics, plot_topic_qc\\nfrom pycisTopic.utils import fig2img\\nimport matplotlib.pyplot as plt\\nfrom pycisTopic.topic_qc import topic_annotation\\nfrom pycisTopic.diff_features import *\\nfrom pycisTopic.clust_vis import plot_imputed_features\\nimport numpy as np\\nimport copy\";\n",
       "                var nbb_cells = Jupyter.notebook.get_cells();\n",
       "                for (var i = 0; i < nbb_cells.length; ++i) {\n",
       "                    if (nbb_cells[i].input_prompt_number == nbb_cell_id) {\n",
       "                        if (nbb_cells[i].get_text() == nbb_unformatted_code) {\n",
       "                             nbb_cells[i].set_text(nbb_formatted_code);\n",
       "                        }\n",
       "                        break;\n",
       "                    }\n",
       "                }\n",
       "            }, 500);\n",
       "            "
      ],
      "text/plain": [
       "<IPython.core.display.Javascript object>"
      ]
     },
     "metadata": {},
     "output_type": "display_data"
    }
   ],
   "source": [
    "from pycisTopic.topic_binarization import binarize_topics\n",
    "from pycisTopic.topic_qc import compute_topic_metrics, plot_topic_qc\n",
    "from pycisTopic.utils import fig2img\n",
    "import matplotlib.pyplot as plt\n",
    "from pycisTopic.topic_qc import topic_annotation\n",
    "from pycisTopic.diff_features import *\n",
    "from pycisTopic.clust_vis import plot_imputed_features\n",
    "import numpy as np\n",
    "import copy"
   ]
  },
  {
   "cell_type": "code",
   "execution_count": 29,
   "id": "8a3e40d8-7d65-4c82-b21f-1408efaa8a08",
   "metadata": {
    "execution": {
     "iopub.execute_input": "2023-03-06T15:50:22.232074Z",
     "iopub.status.busy": "2023-03-06T15:50:22.231716Z",
     "iopub.status.idle": "2023-03-06T15:50:22.291002Z",
     "shell.execute_reply": "2023-03-06T15:50:22.290091Z",
     "shell.execute_reply.started": "2023-03-06T15:50:22.232041Z"
    },
    "tags": []
   },
   "outputs": [
    {
     "data": {
      "application/javascript": [
       "\n",
       "            setTimeout(function() {\n",
       "                var nbb_cell_id = 29;\n",
       "                var nbb_unformatted_code = \"cto = cto_subset\";\n",
       "                var nbb_formatted_code = \"cto = cto_subset\";\n",
       "                var nbb_cells = Jupyter.notebook.get_cells();\n",
       "                for (var i = 0; i < nbb_cells.length; ++i) {\n",
       "                    if (nbb_cells[i].input_prompt_number == nbb_cell_id) {\n",
       "                        if (nbb_cells[i].get_text() == nbb_unformatted_code) {\n",
       "                             nbb_cells[i].set_text(nbb_formatted_code);\n",
       "                        }\n",
       "                        break;\n",
       "                    }\n",
       "                }\n",
       "            }, 500);\n",
       "            "
      ],
      "text/plain": [
       "<IPython.core.display.Javascript object>"
      ]
     },
     "metadata": {},
     "output_type": "display_data"
    }
   ],
   "source": [
    "cto = cto_subset"
   ]
  },
  {
   "cell_type": "code",
   "execution_count": 30,
   "id": "c1a55668-2519-4f04-b0ea-2b89ac8ba57b",
   "metadata": {
    "execution": {
     "iopub.execute_input": "2023-03-06T15:50:22.292337Z",
     "iopub.status.busy": "2023-03-06T15:50:22.292121Z",
     "iopub.status.idle": "2023-03-06T15:50:22.308088Z",
     "shell.execute_reply": "2023-03-06T15:50:22.307188Z",
     "shell.execute_reply.started": "2023-03-06T15:50:22.292316Z"
    },
    "tags": []
   },
   "outputs": [
    {
     "data": {
      "text/plain": [
       "CTTGTAACTTCCTGAG___VIB_10xmultiome_2.FIXEDCELLS    Cytotoxic T cell\n",
       "CCTAACCGACCAGGAC___CNA_10xmultiome_2.FIXEDCELLS    Cytotoxic T cell\n",
       "CGATTGCCTCACTTGG___CNA_10xmultiome_1.FIXEDCELLS    Cytotoxic T cell\n",
       "GACTAGGCTGCCACAC___CNA_10xmultiome_2.FIXEDCELLS    Cytotoxic T cell\n",
       "GGCTAAGCTTGATGTT___VIB_10xmultiome_1.FIXEDCELLS    Cytotoxic T cell\n",
       "                                                         ...       \n",
       "AACCTTTGTGCTGAAG___VIB_10xv1_1.FIXEDCELLS            Dendritic cell\n",
       "TGAGCCGGTTTGACCA___VIB_10xv1_2.FIXEDCELLS            Dendritic cell\n",
       "GACTAACGTAACATAG___VIB_10xv1_2.FIXEDCELLS            Dendritic cell\n",
       "TACGGATCATCACAGT___VIB_10xv1_1.FIXEDCELLS            Dendritic cell\n",
       "CTAGGATGTAAACGGC___VIB_10xv1_2.FIXEDCELLS            Dendritic cell\n",
       "Name: harmony_consensus_cell_type__mega, Length: 60487, dtype: object"
      ]
     },
     "execution_count": 30,
     "metadata": {},
     "output_type": "execute_result"
    },
    {
     "data": {
      "application/javascript": [
       "\n",
       "            setTimeout(function() {\n",
       "                var nbb_cell_id = 30;\n",
       "                var nbb_unformatted_code = \"cto.cell_data[\\\"harmony_consensus_cell_type__mega\\\"]\";\n",
       "                var nbb_formatted_code = \"cto.cell_data[\\\"harmony_consensus_cell_type__mega\\\"]\";\n",
       "                var nbb_cells = Jupyter.notebook.get_cells();\n",
       "                for (var i = 0; i < nbb_cells.length; ++i) {\n",
       "                    if (nbb_cells[i].input_prompt_number == nbb_cell_id) {\n",
       "                        if (nbb_cells[i].get_text() == nbb_unformatted_code) {\n",
       "                             nbb_cells[i].set_text(nbb_formatted_code);\n",
       "                        }\n",
       "                        break;\n",
       "                    }\n",
       "                }\n",
       "            }, 500);\n",
       "            "
      ],
      "text/plain": [
       "<IPython.core.display.Javascript object>"
      ]
     },
     "metadata": {},
     "output_type": "display_data"
    }
   ],
   "source": [
    "cto.cell_data[\"harmony_consensus_cell_type__mega\"]"
   ]
  },
  {
   "cell_type": "code",
   "execution_count": 31,
   "id": "1da19c09-5190-4066-ac9c-3c1f84ca4634",
   "metadata": {
    "execution": {
     "iopub.execute_input": "2023-03-06T15:50:22.309085Z",
     "iopub.status.busy": "2023-03-06T15:50:22.308871Z",
     "iopub.status.idle": "2023-03-06T15:50:22.370038Z",
     "shell.execute_reply": "2023-03-06T15:50:22.369124Z",
     "shell.execute_reply.started": "2023-03-06T15:50:22.309065Z"
    },
    "tags": []
   },
   "outputs": [
    {
     "name": "stdout",
     "output_type": "stream",
     "text": [
      "Cytotoxic T cell\n",
      "CD4+ T cell\n",
      "Natural killer cell\n",
      "CD14+ monocyte\n",
      "B cell\n",
      "CD16+ monocyte\n",
      "Dendritic cell\n",
      "Cytotoxic T cell\n",
      "CD4+ T cell\n",
      "Natural killer cell\n",
      "CD14+ monocyte\n",
      "B cell\n",
      "CD16+ monocyte\n",
      "Dendritic cell\n",
      "Cytotoxic T cell\n",
      "CD4+ T cell\n",
      "Natural killer cell\n",
      "CD14+ monocyte\n",
      "B cell\n",
      "CD16+ monocyte\n",
      "Dendritic cell\n",
      "Cytotoxic T cell\n",
      "CD4+ T cell\n",
      "Natural killer cell\n",
      "CD14+ monocyte\n",
      "B cell\n",
      "CD16+ monocyte\n",
      "Dendritic cell\n",
      "Cytotoxic T cell\n",
      "CD4+ T cell\n",
      "Natural killer cell\n",
      "CD14+ monocyte\n",
      "B cell\n",
      "CD16+ monocyte\n",
      "Dendritic cell\n",
      "Cytotoxic T cell\n",
      "CD4+ T cell\n",
      "Natural killer cell\n",
      "CD14+ monocyte\n",
      "B cell\n",
      "CD16+ monocyte\n",
      "Dendritic cell\n",
      "Cytotoxic T cell\n",
      "CD4+ T cell\n",
      "Natural killer cell\n",
      "CD14+ monocyte\n",
      "B cell\n",
      "CD16+ monocyte\n",
      "Dendritic cell\n",
      "Cytotoxic T cell\n",
      "CD4+ T cell\n",
      "Natural killer cell\n",
      "CD14+ monocyte\n",
      "B cell\n",
      "CD16+ monocyte\n",
      "Dendritic cell\n"
     ]
    },
    {
     "data": {
      "application/javascript": [
       "\n",
       "            setTimeout(function() {\n",
       "                var nbb_cell_id = 31;\n",
       "                var nbb_unformatted_code = \"cto.cell_data[\\\"tech_fmx_sample_harmony_consensus_cell_type__mega\\\"] = (\\n     cto.cell_data[\\\"tech\\\"] + \\\"_\\\" + cto.cell_data[\\\"fmx_sample\\\"] + \\\"_\\\" + cto.cell_data[\\\"harmony_consensus_cell_type__mega\\\"]\\n)\\n\\ncontrasts = []\\nfor tech in cto.cell_data[\\\"tech\\\"].unique():\\n    for cell_type in cto.cell_data[\\\"harmony_consensus_cell_type__mega\\\"].unique():\\n        print(cell_type)\\n        ct_a = tech + \\\"_sampleA_\\\" + cell_type\\n        ct_b = tech + \\\"_sampleB_\\\" + cell_type\\n        contrast = [[[ct_a], [ct_b]], [[ct_b], [ct_a]]]\\n        contrasts = contrasts + contrast\";\n",
       "                var nbb_formatted_code = \"cto.cell_data[\\\"tech_fmx_sample_harmony_consensus_cell_type__mega\\\"] = (\\n    cto.cell_data[\\\"tech\\\"]\\n    + \\\"_\\\"\\n    + cto.cell_data[\\\"fmx_sample\\\"]\\n    + \\\"_\\\"\\n    + cto.cell_data[\\\"harmony_consensus_cell_type__mega\\\"]\\n)\\n\\ncontrasts = []\\nfor tech in cto.cell_data[\\\"tech\\\"].unique():\\n    for cell_type in cto.cell_data[\\\"harmony_consensus_cell_type__mega\\\"].unique():\\n        print(cell_type)\\n        ct_a = tech + \\\"_sampleA_\\\" + cell_type\\n        ct_b = tech + \\\"_sampleB_\\\" + cell_type\\n        contrast = [[[ct_a], [ct_b]], [[ct_b], [ct_a]]]\\n        contrasts = contrasts + contrast\";\n",
       "                var nbb_cells = Jupyter.notebook.get_cells();\n",
       "                for (var i = 0; i < nbb_cells.length; ++i) {\n",
       "                    if (nbb_cells[i].input_prompt_number == nbb_cell_id) {\n",
       "                        if (nbb_cells[i].get_text() == nbb_unformatted_code) {\n",
       "                             nbb_cells[i].set_text(nbb_formatted_code);\n",
       "                        }\n",
       "                        break;\n",
       "                    }\n",
       "                }\n",
       "            }, 500);\n",
       "            "
      ],
      "text/plain": [
       "<IPython.core.display.Javascript object>"
      ]
     },
     "metadata": {},
     "output_type": "display_data"
    }
   ],
   "source": [
    "cto.cell_data[\"tech_fmx_sample_harmony_consensus_cell_type__mega\"] = (\n",
    "     cto.cell_data[\"tech\"] + \"_\" + cto.cell_data[\"fmx_sample\"] + \"_\" + cto.cell_data[\"harmony_consensus_cell_type__mega\"]\n",
    ")\n",
    "\n",
    "contrasts = []\n",
    "for tech in cto.cell_data[\"tech\"].unique():\n",
    "    for cell_type in cto.cell_data[\"harmony_consensus_cell_type__mega\"].unique():\n",
    "        print(cell_type)\n",
    "        ct_a = tech + \"_sampleA_\" + cell_type\n",
    "        ct_b = tech + \"_sampleB_\" + cell_type\n",
    "        contrast = [[[ct_a], [ct_b]], [[ct_b], [ct_a]]]\n",
    "        contrasts = contrasts + contrast"
   ]
  },
  {
   "cell_type": "code",
   "execution_count": 32,
   "id": "1ec0c1cb-ffe1-4808-a968-858e270bd889",
   "metadata": {
    "execution": {
     "iopub.execute_input": "2023-03-06T15:50:22.371123Z",
     "iopub.status.busy": "2023-03-06T15:50:22.370921Z",
     "iopub.status.idle": "2023-03-06T15:50:22.377287Z",
     "shell.execute_reply": "2023-03-06T15:50:22.376379Z",
     "shell.execute_reply.started": "2023-03-06T15:50:22.371097Z"
    },
    "tags": []
   },
   "outputs": [
    {
     "data": {
      "application/javascript": [
       "\n",
       "            setTimeout(function() {\n",
       "                var nbb_cell_id = 32;\n",
       "                var nbb_unformatted_code = \"sample = \\\"merged_male_female_cellcountfair\\\"\";\n",
       "                var nbb_formatted_code = \"sample = \\\"merged_male_female_cellcountfair\\\"\";\n",
       "                var nbb_cells = Jupyter.notebook.get_cells();\n",
       "                for (var i = 0; i < nbb_cells.length; ++i) {\n",
       "                    if (nbb_cells[i].input_prompt_number == nbb_cell_id) {\n",
       "                        if (nbb_cells[i].get_text() == nbb_unformatted_code) {\n",
       "                             nbb_cells[i].set_text(nbb_formatted_code);\n",
       "                        }\n",
       "                        break;\n",
       "                    }\n",
       "                }\n",
       "            }, 500);\n",
       "            "
      ],
      "text/plain": [
       "<IPython.core.display.Javascript object>"
      ]
     },
     "metadata": {},
     "output_type": "display_data"
    }
   ],
   "source": [
    "sample = \"merged_male_female_cellcountfair\""
   ]
  },
  {
   "cell_type": "code",
   "execution_count": 33,
   "id": "be0c19f6-afb2-43d6-9490-73bb7db02753",
   "metadata": {
    "execution": {
     "iopub.execute_input": "2023-03-06T15:50:22.378356Z",
     "iopub.status.busy": "2023-03-06T15:50:22.378160Z",
     "iopub.status.idle": "2023-03-06T15:54:40.507759Z",
     "shell.execute_reply": "2023-03-06T15:54:40.506623Z",
     "shell.execute_reply.started": "2023-03-06T15:50:22.378338Z"
    },
    "papermill": {
     "duration": 11821.037071,
     "end_time": "2022-11-01T20:29:23.458042",
     "exception": false,
     "start_time": "2022-11-01T17:12:22.420971",
     "status": "completed"
    },
    "pycharm": {
     "name": "#%%\n"
    },
    "tags": []
   },
   "outputs": [
    {
     "data": {
      "application/javascript": [
       "\n",
       "            setTimeout(function() {\n",
       "                var nbb_cell_id = 33;\n",
       "                var nbb_unformatted_code = \"outpath=f\\\"downstream_analysis/imputed_acc_objs/master_all_1.FIXEDCELLS__normalized_imputed_acc_obs.pkl\\\"\\n# if os.path.exists(outpath):\\nwith open(outpath, 'rb') as f:\\n    normalized_imputed_acc_obj = pickle.load(f)\\n# else:\\n#     print(\\\"normalize_scores\\\")\\n#     normalized_imputed_acc_obj = normalize_scores(\\n#         imputed_acc_obj,\\n#         scale_factor=10**4\\n#     )\\n\\n#     with open(\\n#         f\\\"downstream_analysis/imputed_acc_objs/{sample}__normalized_imputed_acc_obs.pkl\\\",'wb'\\n#     ) as f:\\n#         pickle.dump(normalized_imputed_acc_obj, f, protocol=4)\";\n",
       "                var nbb_formatted_code = \"outpath = f\\\"downstream_analysis/imputed_acc_objs/master_all_1.FIXEDCELLS__normalized_imputed_acc_obs.pkl\\\"\\n# if os.path.exists(outpath):\\nwith open(outpath, \\\"rb\\\") as f:\\n    normalized_imputed_acc_obj = pickle.load(f)\\n# else:\\n#     print(\\\"normalize_scores\\\")\\n#     normalized_imputed_acc_obj = normalize_scores(\\n#         imputed_acc_obj,\\n#         scale_factor=10**4\\n#     )\\n\\n#     with open(\\n#         f\\\"downstream_analysis/imputed_acc_objs/{sample}__normalized_imputed_acc_obs.pkl\\\",'wb'\\n#     ) as f:\\n#         pickle.dump(normalized_imputed_acc_obj, f, protocol=4)\";\n",
       "                var nbb_cells = Jupyter.notebook.get_cells();\n",
       "                for (var i = 0; i < nbb_cells.length; ++i) {\n",
       "                    if (nbb_cells[i].input_prompt_number == nbb_cell_id) {\n",
       "                        if (nbb_cells[i].get_text() == nbb_unformatted_code) {\n",
       "                             nbb_cells[i].set_text(nbb_formatted_code);\n",
       "                        }\n",
       "                        break;\n",
       "                    }\n",
       "                }\n",
       "            }, 500);\n",
       "            "
      ],
      "text/plain": [
       "<IPython.core.display.Javascript object>"
      ]
     },
     "metadata": {},
     "output_type": "display_data"
    }
   ],
   "source": [
    "outpath=f\"downstream_analysis/imputed_acc_objs/master_all_1.FIXEDCELLS__normalized_imputed_acc_obs.pkl\"\n",
    "# if os.path.exists(outpath):\n",
    "with open(outpath, 'rb') as f:\n",
    "    normalized_imputed_acc_obj = pickle.load(f)\n",
    "# else:\n",
    "#     print(\"normalize_scores\")\n",
    "#     normalized_imputed_acc_obj = normalize_scores(\n",
    "#         imputed_acc_obj,\n",
    "#         scale_factor=10**4\n",
    "#     )\n",
    "\n",
    "#     with open(\n",
    "#         f\"downstream_analysis/imputed_acc_objs/{sample}__normalized_imputed_acc_obs.pkl\",'wb'\n",
    "#     ) as f:\n",
    "#         pickle.dump(normalized_imputed_acc_obj, f, protocol=4)"
   ]
  },
  {
   "cell_type": "markdown",
   "id": "8385eea4-bbcb-4bc7-98cd-e41581cb89af",
   "metadata": {},
   "source": [
    "# subset normalized_imputed_acc_obj"
   ]
  },
  {
   "cell_type": "code",
   "execution_count": 34,
   "id": "633b2b36-d61c-418b-af76-5e8fc0410f4c",
   "metadata": {
    "execution": {
     "iopub.execute_input": "2023-03-06T15:54:40.509299Z",
     "iopub.status.busy": "2023-03-06T15:54:40.509036Z",
     "iopub.status.idle": "2023-03-06T15:56:04.299021Z",
     "shell.execute_reply": "2023-03-06T15:56:04.298105Z",
     "shell.execute_reply.started": "2023-03-06T15:54:40.509276Z"
    },
    "tags": []
   },
   "outputs": [
    {
     "data": {
      "text/plain": [
       "198345"
      ]
     },
     "execution_count": 34,
     "metadata": {},
     "output_type": "execute_result"
    },
    {
     "data": {
      "application/javascript": [
       "\n",
       "            setTimeout(function() {\n",
       "                var nbb_cell_id = 34;\n",
       "                var nbb_unformatted_code = \"len(normalized_imputed_acc_obj.mtx[:, normalized_imputed_acc_obj.cell_names.isin(bcs_merged)])\";\n",
       "                var nbb_formatted_code = \"len(\\n    normalized_imputed_acc_obj.mtx[\\n        :, normalized_imputed_acc_obj.cell_names.isin(bcs_merged)\\n    ]\\n)\";\n",
       "                var nbb_cells = Jupyter.notebook.get_cells();\n",
       "                for (var i = 0; i < nbb_cells.length; ++i) {\n",
       "                    if (nbb_cells[i].input_prompt_number == nbb_cell_id) {\n",
       "                        if (nbb_cells[i].get_text() == nbb_unformatted_code) {\n",
       "                             nbb_cells[i].set_text(nbb_formatted_code);\n",
       "                        }\n",
       "                        break;\n",
       "                    }\n",
       "                }\n",
       "            }, 500);\n",
       "            "
      ],
      "text/plain": [
       "<IPython.core.display.Javascript object>"
      ]
     },
     "metadata": {},
     "output_type": "display_data"
    }
   ],
   "source": [
    "len(normalized_imputed_acc_obj.mtx[:, normalized_imputed_acc_obj.cell_names.isin(bcs_merged)])"
   ]
  },
  {
   "cell_type": "code",
   "execution_count": 35,
   "id": "79449cfa-f673-4f43-b70e-6f5822607a56",
   "metadata": {
    "execution": {
     "iopub.execute_input": "2023-03-06T15:56:04.300199Z",
     "iopub.status.busy": "2023-03-06T15:56:04.299980Z",
     "iopub.status.idle": "2023-03-06T15:57:52.370447Z",
     "shell.execute_reply": "2023-03-06T15:57:52.369158Z",
     "shell.execute_reply.started": "2023-03-06T15:56:04.300180Z"
    },
    "tags": []
   },
   "outputs": [
    {
     "data": {
      "application/javascript": [
       "\n",
       "            setTimeout(function() {\n",
       "                var nbb_cell_id = 35;\n",
       "                var nbb_unformatted_code = \"test = normalized_imputed_acc_obj.mtx[:, normalized_imputed_acc_obj.cell_names.isin(bcs_merged)]\";\n",
       "                var nbb_formatted_code = \"test = normalized_imputed_acc_obj.mtx[\\n    :, normalized_imputed_acc_obj.cell_names.isin(bcs_merged)\\n]\";\n",
       "                var nbb_cells = Jupyter.notebook.get_cells();\n",
       "                for (var i = 0; i < nbb_cells.length; ++i) {\n",
       "                    if (nbb_cells[i].input_prompt_number == nbb_cell_id) {\n",
       "                        if (nbb_cells[i].get_text() == nbb_unformatted_code) {\n",
       "                             nbb_cells[i].set_text(nbb_formatted_code);\n",
       "                        }\n",
       "                        break;\n",
       "                    }\n",
       "                }\n",
       "            }, 500);\n",
       "            "
      ],
      "text/plain": [
       "<IPython.core.display.Javascript object>"
      ]
     },
     "metadata": {},
     "output_type": "display_data"
    }
   ],
   "source": [
    "test = normalized_imputed_acc_obj.mtx[:, normalized_imputed_acc_obj.cell_names.isin(bcs_merged)]"
   ]
  },
  {
   "cell_type": "code",
   "execution_count": 36,
   "id": "7b26699f-3979-423f-82bf-90fb4dc2c3a8",
   "metadata": {
    "execution": {
     "iopub.execute_input": "2023-03-06T15:57:52.371912Z",
     "iopub.status.busy": "2023-03-06T15:57:52.371663Z",
     "iopub.status.idle": "2023-03-06T15:57:52.414233Z",
     "shell.execute_reply": "2023-03-06T15:57:52.413023Z",
     "shell.execute_reply.started": "2023-03-06T15:57:52.371890Z"
    },
    "tags": []
   },
   "outputs": [
    {
     "data": {
      "application/javascript": [
       "\n",
       "            setTimeout(function() {\n",
       "                var nbb_cell_id = 36;\n",
       "                var nbb_unformatted_code = \"test_names = normalized_imputed_acc_obj.cell_names[normalized_imputed_acc_obj.cell_names.isin(bcs_merged)]\";\n",
       "                var nbb_formatted_code = \"test_names = normalized_imputed_acc_obj.cell_names[\\n    normalized_imputed_acc_obj.cell_names.isin(bcs_merged)\\n]\";\n",
       "                var nbb_cells = Jupyter.notebook.get_cells();\n",
       "                for (var i = 0; i < nbb_cells.length; ++i) {\n",
       "                    if (nbb_cells[i].input_prompt_number == nbb_cell_id) {\n",
       "                        if (nbb_cells[i].get_text() == nbb_unformatted_code) {\n",
       "                             nbb_cells[i].set_text(nbb_formatted_code);\n",
       "                        }\n",
       "                        break;\n",
       "                    }\n",
       "                }\n",
       "            }, 500);\n",
       "            "
      ],
      "text/plain": [
       "<IPython.core.display.Javascript object>"
      ]
     },
     "metadata": {},
     "output_type": "display_data"
    }
   ],
   "source": [
    "test_names = normalized_imputed_acc_obj.cell_names[normalized_imputed_acc_obj.cell_names.isin(bcs_merged)]"
   ]
  },
  {
   "cell_type": "code",
   "execution_count": 37,
   "id": "2bb227b8-35a3-43de-aeb4-6caef984b82e",
   "metadata": {
    "execution": {
     "iopub.execute_input": "2023-03-06T15:57:52.415575Z",
     "iopub.status.busy": "2023-03-06T15:57:52.415336Z",
     "iopub.status.idle": "2023-03-06T15:57:52.426856Z",
     "shell.execute_reply": "2023-03-06T15:57:52.425720Z",
     "shell.execute_reply.started": "2023-03-06T15:57:52.415554Z"
    },
    "tags": []
   },
   "outputs": [
    {
     "data": {
      "text/plain": [
       "Index(['ATAGGCGTCAAACATG___SAN_10xmultiome_2.FIXEDCELLS',\n",
       "       'TGTGCAACACTCGCAC___SAN_10xmultiome_2.FIXEDCELLS',\n",
       "       'AGCTAGTAGGCTAAAC___SAN_10xmultiome_2.FIXEDCELLS',\n",
       "       'GCTTTAAGTCATTACA___SAN_10xmultiome_2.FIXEDCELLS',\n",
       "       'TTGTCATAGCGTGCTT___SAN_10xmultiome_2.FIXEDCELLS',\n",
       "       'CTGTTAAGTTAGGCGG___SAN_10xmultiome_2.FIXEDCELLS',\n",
       "       'TTGAACAAGAATCACA___SAN_10xmultiome_2.FIXEDCELLS',\n",
       "       'TACGGATAGCGGTTCT___SAN_10xmultiome_2.FIXEDCELLS',\n",
       "       'TAATCACTCACCCTCC___SAN_10xmultiome_2.FIXEDCELLS',\n",
       "       'AGGTTAGGTTGAAGCA___SAN_10xmultiome_2.FIXEDCELLS',\n",
       "       ...\n",
       "       'GCAAATCTGTGGCATT___MDC_mtscatac_1.FIXEDCELLS',\n",
       "       'TGGTTAGACTGGCATT___MDC_mtscatac_1.FIXEDCELLS',\n",
       "       'TTGACGTGAACAGGTG___MDC_mtscatac_1.FIXEDCELLS',\n",
       "       'ACTCGCTACCGCCACA___MDC_mtscatac_1.FIXEDCELLS',\n",
       "       'CTACCTCGAGGCAGTA___MDC_mtscatac_1.FIXEDCELLS',\n",
       "       'GAGGTTGGAAACGCAG___MDC_mtscatac_1.FIXEDCELLS',\n",
       "       'TTGCGGTCTTAACGAA___MDC_mtscatac_1.FIXEDCELLS',\n",
       "       'GGTATTGACATCCTAG___MDC_mtscatac_1.FIXEDCELLS',\n",
       "       'AGATGGGTGAAATCGA___MDC_mtscatac_1.FIXEDCELLS',\n",
       "       'TTCTTAGACTTCTGAG___MDC_mtscatac_1.FIXEDCELLS'],\n",
       "      dtype='object', length=60487)"
      ]
     },
     "execution_count": 37,
     "metadata": {},
     "output_type": "execute_result"
    },
    {
     "data": {
      "application/javascript": [
       "\n",
       "            setTimeout(function() {\n",
       "                var nbb_cell_id = 37;\n",
       "                var nbb_unformatted_code = \"test_names\";\n",
       "                var nbb_formatted_code = \"test_names\";\n",
       "                var nbb_cells = Jupyter.notebook.get_cells();\n",
       "                for (var i = 0; i < nbb_cells.length; ++i) {\n",
       "                    if (nbb_cells[i].input_prompt_number == nbb_cell_id) {\n",
       "                        if (nbb_cells[i].get_text() == nbb_unformatted_code) {\n",
       "                             nbb_cells[i].set_text(nbb_formatted_code);\n",
       "                        }\n",
       "                        break;\n",
       "                    }\n",
       "                }\n",
       "            }, 500);\n",
       "            "
      ],
      "text/plain": [
       "<IPython.core.display.Javascript object>"
      ]
     },
     "metadata": {},
     "output_type": "display_data"
    }
   ],
   "source": [
    "test_names"
   ]
  },
  {
   "cell_type": "code",
   "execution_count": 38,
   "id": "624ca51f-a80d-4c1f-bce7-ae0057195931",
   "metadata": {
    "execution": {
     "iopub.execute_input": "2023-03-06T15:57:52.428091Z",
     "iopub.status.busy": "2023-03-06T15:57:52.427882Z",
     "iopub.status.idle": "2023-03-06T15:57:52.435049Z",
     "shell.execute_reply": "2023-03-06T15:57:52.433631Z",
     "shell.execute_reply.started": "2023-03-06T15:57:52.428071Z"
    },
    "tags": []
   },
   "outputs": [
    {
     "data": {
      "application/javascript": [
       "\n",
       "            setTimeout(function() {\n",
       "                var nbb_cell_id = 38;\n",
       "                var nbb_unformatted_code = \"test_peaks = normalized_imputed_acc_obj.feature_names\";\n",
       "                var nbb_formatted_code = \"test_peaks = normalized_imputed_acc_obj.feature_names\";\n",
       "                var nbb_cells = Jupyter.notebook.get_cells();\n",
       "                for (var i = 0; i < nbb_cells.length; ++i) {\n",
       "                    if (nbb_cells[i].input_prompt_number == nbb_cell_id) {\n",
       "                        if (nbb_cells[i].get_text() == nbb_unformatted_code) {\n",
       "                             nbb_cells[i].set_text(nbb_formatted_code);\n",
       "                        }\n",
       "                        break;\n",
       "                    }\n",
       "                }\n",
       "            }, 500);\n",
       "            "
      ],
      "text/plain": [
       "<IPython.core.display.Javascript object>"
      ]
     },
     "metadata": {},
     "output_type": "display_data"
    }
   ],
   "source": [
    "test_peaks = normalized_imputed_acc_obj.feature_names"
   ]
  },
  {
   "cell_type": "code",
   "execution_count": 39,
   "id": "397d78e2-93a6-406f-b9b0-5edcdad09ba1",
   "metadata": {
    "execution": {
     "iopub.execute_input": "2023-03-06T15:57:52.436349Z",
     "iopub.status.busy": "2023-03-06T15:57:52.436126Z",
     "iopub.status.idle": "2023-03-06T15:57:53.016005Z",
     "shell.execute_reply": "2023-03-06T15:57:53.014509Z",
     "shell.execute_reply.started": "2023-03-06T15:57:52.436329Z"
    },
    "tags": []
   },
   "outputs": [
    {
     "data": {
      "application/javascript": [
       "\n",
       "            setTimeout(function() {\n",
       "                var nbb_cell_id = 39;\n",
       "                var nbb_unformatted_code = \"normalized_imputed_acc_obj.mtx = test\";\n",
       "                var nbb_formatted_code = \"normalized_imputed_acc_obj.mtx = test\";\n",
       "                var nbb_cells = Jupyter.notebook.get_cells();\n",
       "                for (var i = 0; i < nbb_cells.length; ++i) {\n",
       "                    if (nbb_cells[i].input_prompt_number == nbb_cell_id) {\n",
       "                        if (nbb_cells[i].get_text() == nbb_unformatted_code) {\n",
       "                             nbb_cells[i].set_text(nbb_formatted_code);\n",
       "                        }\n",
       "                        break;\n",
       "                    }\n",
       "                }\n",
       "            }, 500);\n",
       "            "
      ],
      "text/plain": [
       "<IPython.core.display.Javascript object>"
      ]
     },
     "metadata": {},
     "output_type": "display_data"
    }
   ],
   "source": [
    "normalized_imputed_acc_obj.mtx = test"
   ]
  },
  {
   "cell_type": "code",
   "execution_count": 40,
   "id": "670b8439-8fbb-416b-ad50-8a4a6dc9dd35",
   "metadata": {
    "execution": {
     "iopub.execute_input": "2023-03-06T15:57:53.017398Z",
     "iopub.status.busy": "2023-03-06T15:57:53.017159Z",
     "iopub.status.idle": "2023-03-06T15:57:53.034570Z",
     "shell.execute_reply": "2023-03-06T15:57:53.033586Z",
     "shell.execute_reply.started": "2023-03-06T15:57:53.017377Z"
    },
    "tags": []
   },
   "outputs": [
    {
     "data": {
      "application/javascript": [
       "\n",
       "            setTimeout(function() {\n",
       "                var nbb_cell_id = 40;\n",
       "                var nbb_unformatted_code = \"normalized_imputed_acc_obj.cell_names = test_names\";\n",
       "                var nbb_formatted_code = \"normalized_imputed_acc_obj.cell_names = test_names\";\n",
       "                var nbb_cells = Jupyter.notebook.get_cells();\n",
       "                for (var i = 0; i < nbb_cells.length; ++i) {\n",
       "                    if (nbb_cells[i].input_prompt_number == nbb_cell_id) {\n",
       "                        if (nbb_cells[i].get_text() == nbb_unformatted_code) {\n",
       "                             nbb_cells[i].set_text(nbb_formatted_code);\n",
       "                        }\n",
       "                        break;\n",
       "                    }\n",
       "                }\n",
       "            }, 500);\n",
       "            "
      ],
      "text/plain": [
       "<IPython.core.display.Javascript object>"
      ]
     },
     "metadata": {},
     "output_type": "display_data"
    }
   ],
   "source": [
    "normalized_imputed_acc_obj.cell_names = test_names"
   ]
  },
  {
   "cell_type": "code",
   "execution_count": 41,
   "id": "0afbb7dc-285e-40a6-8ea7-7d03300368e8",
   "metadata": {
    "execution": {
     "iopub.execute_input": "2023-03-06T15:57:53.035881Z",
     "iopub.status.busy": "2023-03-06T15:57:53.035671Z",
     "iopub.status.idle": "2023-03-06T15:59:13.320078Z",
     "shell.execute_reply": "2023-03-06T15:59:13.318785Z",
     "shell.execute_reply.started": "2023-03-06T15:57:53.035862Z"
    },
    "papermill": {
     "duration": 11821.037071,
     "end_time": "2022-11-01T20:29:23.458042",
     "exception": false,
     "start_time": "2022-11-01T17:12:22.420971",
     "status": "completed"
    },
    "pycharm": {
     "name": "#%%\n"
    },
    "tags": []
   },
   "outputs": [
    {
     "name": "stdout",
     "output_type": "stream",
     "text": [
      "find_highly_variable_features\n",
      "2023-03-06 16:57:53,039 cisTopic     INFO     Calculating mean\n",
      "2023-03-06 16:58:04,107 cisTopic     INFO     Calculating variance\n"
     ]
    },
    {
     "data": {
      "image/png": "[encoded data removed]",
      "text/plain": [
       "<Figure size 640x480 with 1 Axes>"
      ]
     },
     "metadata": {},
     "output_type": "display_data"
    },
    {
     "name": "stdout",
     "output_type": "stream",
     "text": [
      "2023-03-06 16:59:12,669 cisTopic     INFO     Done!\n",
      "Found 52690 variable regions\n"
     ]
    },
    {
     "ename": "FileExistsError",
     "evalue": "[Errno 17] File exists: 'downstream_analysis/DARs/merged_male_female_cellcountfair'",
     "output_type": "error",
     "traceback": [
      "\u001b[0;31m---------------------------------------------------------------------------\u001b[0m",
      "\u001b[0;31mFileExistsError\u001b[0m                           Traceback (most recent call last)",
      "Cell \u001b[0;32mIn [41], line 19\u001b[0m\n\u001b[1;32m     14\u001b[0m \u001b[38;5;28mprint\u001b[39m(\u001b[38;5;124mf\u001b[39m\u001b[38;5;124m\"\u001b[39m\u001b[38;5;124mFound \u001b[39m\u001b[38;5;132;01m{\u001b[39;00m\u001b[38;5;28mlen\u001b[39m(variable_regions)\u001b[38;5;132;01m}\u001b[39;00m\u001b[38;5;124m variable regions\u001b[39m\u001b[38;5;124m\"\u001b[39m)\n\u001b[1;32m     15\u001b[0m \u001b[38;5;66;03m# with open(f'downstream_analysis/HVRs/{sample}__HVRs.bed', 'w') as f:\u001b[39;00m\n\u001b[1;32m     16\u001b[0m \u001b[38;5;66;03m#     for line in [x.replace(':','\\t').replace('-','\\t') for x in variable_regions]:\u001b[39;00m\n\u001b[1;32m     17\u001b[0m \u001b[38;5;66;03m#         f.write(f\"{line}\\t\")\u001b[39;00m\n\u001b[0;32m---> 19\u001b[0m \u001b[43mos\u001b[49m\u001b[38;5;241;43m.\u001b[39;49m\u001b[43mmkdir\u001b[49m\u001b[43m(\u001b[49m\u001b[38;5;124;43mf\u001b[39;49m\u001b[38;5;124;43m'\u001b[39;49m\u001b[38;5;124;43mdownstream_analysis/DARs/\u001b[39;49m\u001b[38;5;132;43;01m{\u001b[39;49;00m\u001b[43msample\u001b[49m\u001b[38;5;132;43;01m}\u001b[39;49;00m\u001b[38;5;124;43m'\u001b[39;49m\u001b[43m)\u001b[49m\n",
      "\u001b[0;31mFileExistsError\u001b[0m: [Errno 17] File exists: 'downstream_analysis/DARs/merged_male_female_cellcountfair'"
     ]
    },
    {
     "data": {
      "application/javascript": [
       "\n",
       "            setTimeout(function() {\n",
       "                var nbb_cell_id = 41;\n",
       "                var nbb_unformatted_code = \"print(\\\"find_highly_variable_features\\\")\\nvariable_regions = find_highly_variable_features(\\n    normalized_imputed_acc_obj,\\n    min_disp = 0.05,\\n    min_mean = 0.0125,\\n    max_mean = 3,\\n    max_disp = np.inf,\\n    n_bins=20,\\n    n_top_features=None,\\n    plot=True,\\n    # save=f'plots_qc/{sample}__HVR.png'\\n)\\n\\nprint(f\\\"Found {len(variable_regions)} variable regions\\\")\\n# with open(f'downstream_analysis/HVRs/{sample}__HVRs.bed', 'w') as f:\\n#     for line in [x.replace(':','\\\\t').replace('-','\\\\t') for x in variable_regions]:\\n#         f.write(f\\\"{line}\\\\t\\\")\\n\\nos.mkdir(f'downstream_analysis/DARs/{sample}')\";\n",
       "                var nbb_formatted_code = \"print(\\\"find_highly_variable_features\\\")\\nvariable_regions = find_highly_variable_features(\\n    normalized_imputed_acc_obj,\\n    min_disp=0.05,\\n    min_mean=0.0125,\\n    max_mean=3,\\n    max_disp=np.inf,\\n    n_bins=20,\\n    n_top_features=None,\\n    plot=True,\\n    # save=f'plots_qc/{sample}__HVR.png'\\n)\\n\\nprint(f\\\"Found {len(variable_regions)} variable regions\\\")\\n# with open(f'downstream_analysis/HVRs/{sample}__HVRs.bed', 'w') as f:\\n#     for line in [x.replace(':','\\\\t').replace('-','\\\\t') for x in variable_regions]:\\n#         f.write(f\\\"{line}\\\\t\\\")\\n\\nos.mkdir(f\\\"downstream_analysis/DARs/{sample}\\\")\";\n",
       "                var nbb_cells = Jupyter.notebook.get_cells();\n",
       "                for (var i = 0; i < nbb_cells.length; ++i) {\n",
       "                    if (nbb_cells[i].input_prompt_number == nbb_cell_id) {\n",
       "                        if (nbb_cells[i].get_text() == nbb_unformatted_code) {\n",
       "                             nbb_cells[i].set_text(nbb_formatted_code);\n",
       "                        }\n",
       "                        break;\n",
       "                    }\n",
       "                }\n",
       "            }, 500);\n",
       "            "
      ],
      "text/plain": [
       "<IPython.core.display.Javascript object>"
      ]
     },
     "metadata": {},
     "output_type": "display_data"
    }
   ],
   "source": [
    "print(\"find_highly_variable_features\")\n",
    "variable_regions = find_highly_variable_features(\n",
    "    normalized_imputed_acc_obj,\n",
    "    min_disp = 0.05,\n",
    "    min_mean = 0.0125,\n",
    "    max_mean = 3,\n",
    "    max_disp = np.inf,\n",
    "    n_bins=20,\n",
    "    n_top_features=None,\n",
    "    plot=True,\n",
    "    # save=f'plots_qc/{sample}__HVR.png'\n",
    ")\n",
    "\n",
    "print(f\"Found {len(variable_regions)} variable regions\")\n",
    "# with open(f'downstream_analysis/HVRs/{sample}__HVRs.bed', 'w') as f:\n",
    "#     for line in [x.replace(':','\\t').replace('-','\\t') for x in variable_regions]:\n",
    "#         f.write(f\"{line}\\t\")\n",
    "\n",
    "os.mkdir(f'downstream_analysis/DARs/{sample}')"
   ]
  },
  {
   "cell_type": "code",
   "execution_count": 42,
   "id": "7b6be132-0ab2-4c3c-ac20-a5bf789d7e5f",
   "metadata": {
    "execution": {
     "iopub.execute_input": "2023-03-06T15:59:37.408866Z",
     "iopub.status.busy": "2023-03-06T15:59:37.407224Z",
     "iopub.status.idle": "2023-03-06T15:59:37.437693Z",
     "shell.execute_reply": "2023-03-06T15:59:37.436542Z",
     "shell.execute_reply.started": "2023-03-06T15:59:37.408804Z"
    },
    "tags": []
   },
   "outputs": [
    {
     "data": {
      "text/plain": [
       "[[['10xmultiome_sampleA_Cytotoxic T cell'],\n",
       "  ['10xmultiome_sampleB_Cytotoxic T cell']],\n",
       " [['10xmultiome_sampleB_Cytotoxic T cell'],\n",
       "  ['10xmultiome_sampleA_Cytotoxic T cell']],\n",
       " [['10xmultiome_sampleA_CD4+ T cell'], ['10xmultiome_sampleB_CD4+ T cell']],\n",
       " [['10xmultiome_sampleB_CD4+ T cell'], ['10xmultiome_sampleA_CD4+ T cell']],\n",
       " [['10xmultiome_sampleA_Natural killer cell'],\n",
       "  ['10xmultiome_sampleB_Natural killer cell']],\n",
       " [['10xmultiome_sampleB_Natural killer cell'],\n",
       "  ['10xmultiome_sampleA_Natural killer cell']],\n",
       " [['10xmultiome_sampleA_CD14+ monocyte'],\n",
       "  ['10xmultiome_sampleB_CD14+ monocyte']],\n",
       " [['10xmultiome_sampleB_CD14+ monocyte'],\n",
       "  ['10xmultiome_sampleA_CD14+ monocyte']],\n",
       " [['10xmultiome_sampleA_B cell'], ['10xmultiome_sampleB_B cell']],\n",
       " [['10xmultiome_sampleB_B cell'], ['10xmultiome_sampleA_B cell']],\n",
       " [['10xmultiome_sampleA_CD16+ monocyte'],\n",
       "  ['10xmultiome_sampleB_CD16+ monocyte']],\n",
       " [['10xmultiome_sampleB_CD16+ monocyte'],\n",
       "  ['10xmultiome_sampleA_CD16+ monocyte']],\n",
       " [['10xmultiome_sampleA_Dendritic cell'],\n",
       "  ['10xmultiome_sampleB_Dendritic cell']],\n",
       " [['10xmultiome_sampleB_Dendritic cell'],\n",
       "  ['10xmultiome_sampleA_Dendritic cell']],\n",
       " [['s3atac_sampleA_Cytotoxic T cell'], ['s3atac_sampleB_Cytotoxic T cell']],\n",
       " [['s3atac_sampleB_Cytotoxic T cell'], ['s3atac_sampleA_Cytotoxic T cell']],\n",
       " [['s3atac_sampleA_CD4+ T cell'], ['s3atac_sampleB_CD4+ T cell']],\n",
       " [['s3atac_sampleB_CD4+ T cell'], ['s3atac_sampleA_CD4+ T cell']],\n",
       " [['s3atac_sampleA_Natural killer cell'],\n",
       "  ['s3atac_sampleB_Natural killer cell']],\n",
       " [['s3atac_sampleB_Natural killer cell'],\n",
       "  ['s3atac_sampleA_Natural killer cell']],\n",
       " [['s3atac_sampleA_CD14+ monocyte'], ['s3atac_sampleB_CD14+ monocyte']],\n",
       " [['s3atac_sampleB_CD14+ monocyte'], ['s3atac_sampleA_CD14+ monocyte']],\n",
       " [['s3atac_sampleA_B cell'], ['s3atac_sampleB_B cell']],\n",
       " [['s3atac_sampleB_B cell'], ['s3atac_sampleA_B cell']],\n",
       " [['s3atac_sampleA_CD16+ monocyte'], ['s3atac_sampleB_CD16+ monocyte']],\n",
       " [['s3atac_sampleB_CD16+ monocyte'], ['s3atac_sampleA_CD16+ monocyte']],\n",
       " [['s3atac_sampleA_Dendritic cell'], ['s3atac_sampleB_Dendritic cell']],\n",
       " [['s3atac_sampleB_Dendritic cell'], ['s3atac_sampleA_Dendritic cell']],\n",
       " [['10xv11_sampleA_Cytotoxic T cell'], ['10xv11_sampleB_Cytotoxic T cell']],\n",
       " [['10xv11_sampleB_Cytotoxic T cell'], ['10xv11_sampleA_Cytotoxic T cell']],\n",
       " [['10xv11_sampleA_CD4+ T cell'], ['10xv11_sampleB_CD4+ T cell']],\n",
       " [['10xv11_sampleB_CD4+ T cell'], ['10xv11_sampleA_CD4+ T cell']],\n",
       " [['10xv11_sampleA_Natural killer cell'],\n",
       "  ['10xv11_sampleB_Natural killer cell']],\n",
       " [['10xv11_sampleB_Natural killer cell'],\n",
       "  ['10xv11_sampleA_Natural killer cell']],\n",
       " [['10xv11_sampleA_CD14+ monocyte'], ['10xv11_sampleB_CD14+ monocyte']],\n",
       " [['10xv11_sampleB_CD14+ monocyte'], ['10xv11_sampleA_CD14+ monocyte']],\n",
       " [['10xv11_sampleA_B cell'], ['10xv11_sampleB_B cell']],\n",
       " [['10xv11_sampleB_B cell'], ['10xv11_sampleA_B cell']],\n",
       " [['10xv11_sampleA_CD16+ monocyte'], ['10xv11_sampleB_CD16+ monocyte']],\n",
       " [['10xv11_sampleB_CD16+ monocyte'], ['10xv11_sampleA_CD16+ monocyte']],\n",
       " [['10xv11_sampleA_Dendritic cell'], ['10xv11_sampleB_Dendritic cell']],\n",
       " [['10xv11_sampleB_Dendritic cell'], ['10xv11_sampleA_Dendritic cell']],\n",
       " [['hydrop_sampleA_Cytotoxic T cell'], ['hydrop_sampleB_Cytotoxic T cell']],\n",
       " [['hydrop_sampleB_Cytotoxic T cell'], ['hydrop_sampleA_Cytotoxic T cell']],\n",
       " [['hydrop_sampleA_CD4+ T cell'], ['hydrop_sampleB_CD4+ T cell']],\n",
       " [['hydrop_sampleB_CD4+ T cell'], ['hydrop_sampleA_CD4+ T cell']],\n",
       " [['hydrop_sampleA_Natural killer cell'],\n",
       "  ['hydrop_sampleB_Natural killer cell']],\n",
       " [['hydrop_sampleB_Natural killer cell'],\n",
       "  ['hydrop_sampleA_Natural killer cell']],\n",
       " [['hydrop_sampleA_CD14+ monocyte'], ['hydrop_sampleB_CD14+ monocyte']],\n",
       " [['hydrop_sampleB_CD14+ monocyte'], ['hydrop_sampleA_CD14+ monocyte']],\n",
       " [['hydrop_sampleA_B cell'], ['hydrop_sampleB_B cell']],\n",
       " [['hydrop_sampleB_B cell'], ['hydrop_sampleA_B cell']],\n",
       " [['hydrop_sampleA_CD16+ monocyte'], ['hydrop_sampleB_CD16+ monocyte']],\n",
       " [['hydrop_sampleB_CD16+ monocyte'], ['hydrop_sampleA_CD16+ monocyte']],\n",
       " [['hydrop_sampleA_Dendritic cell'], ['hydrop_sampleB_Dendritic cell']],\n",
       " [['hydrop_sampleB_Dendritic cell'], ['hydrop_sampleA_Dendritic cell']],\n",
       " [['10xv2_sampleA_Cytotoxic T cell'], ['10xv2_sampleB_Cytotoxic T cell']],\n",
       " [['10xv2_sampleB_Cytotoxic T cell'], ['10xv2_sampleA_Cytotoxic T cell']],\n",
       " [['10xv2_sampleA_CD4+ T cell'], ['10xv2_sampleB_CD4+ T cell']],\n",
       " [['10xv2_sampleB_CD4+ T cell'], ['10xv2_sampleA_CD4+ T cell']],\n",
       " [['10xv2_sampleA_Natural killer cell'],\n",
       "  ['10xv2_sampleB_Natural killer cell']],\n",
       " [['10xv2_sampleB_Natural killer cell'],\n",
       "  ['10xv2_sampleA_Natural killer cell']],\n",
       " [['10xv2_sampleA_CD14+ monocyte'], ['10xv2_sampleB_CD14+ monocyte']],\n",
       " [['10xv2_sampleB_CD14+ monocyte'], ['10xv2_sampleA_CD14+ monocyte']],\n",
       " [['10xv2_sampleA_B cell'], ['10xv2_sampleB_B cell']],\n",
       " [['10xv2_sampleB_B cell'], ['10xv2_sampleA_B cell']],\n",
       " [['10xv2_sampleA_CD16+ monocyte'], ['10xv2_sampleB_CD16+ monocyte']],\n",
       " [['10xv2_sampleB_CD16+ monocyte'], ['10xv2_sampleA_CD16+ monocyte']],\n",
       " [['10xv2_sampleA_Dendritic cell'], ['10xv2_sampleB_Dendritic cell']],\n",
       " [['10xv2_sampleB_Dendritic cell'], ['10xv2_sampleA_Dendritic cell']],\n",
       " [['ddseq_sampleA_Cytotoxic T cell'], ['ddseq_sampleB_Cytotoxic T cell']],\n",
       " [['ddseq_sampleB_Cytotoxic T cell'], ['ddseq_sampleA_Cytotoxic T cell']],\n",
       " [['ddseq_sampleA_CD4+ T cell'], ['ddseq_sampleB_CD4+ T cell']],\n",
       " [['ddseq_sampleB_CD4+ T cell'], ['ddseq_sampleA_CD4+ T cell']],\n",
       " [['ddseq_sampleA_Natural killer cell'],\n",
       "  ['ddseq_sampleB_Natural killer cell']],\n",
       " [['ddseq_sampleB_Natural killer cell'],\n",
       "  ['ddseq_sampleA_Natural killer cell']],\n",
       " [['ddseq_sampleA_CD14+ monocyte'], ['ddseq_sampleB_CD14+ monocyte']],\n",
       " [['ddseq_sampleB_CD14+ monocyte'], ['ddseq_sampleA_CD14+ monocyte']],\n",
       " [['ddseq_sampleA_B cell'], ['ddseq_sampleB_B cell']],\n",
       " [['ddseq_sampleB_B cell'], ['ddseq_sampleA_B cell']],\n",
       " [['ddseq_sampleA_CD16+ monocyte'], ['ddseq_sampleB_CD16+ monocyte']],\n",
       " [['ddseq_sampleB_CD16+ monocyte'], ['ddseq_sampleA_CD16+ monocyte']],\n",
       " [['ddseq_sampleA_Dendritic cell'], ['ddseq_sampleB_Dendritic cell']],\n",
       " [['ddseq_sampleB_Dendritic cell'], ['ddseq_sampleA_Dendritic cell']],\n",
       " [['mtscatac_sampleA_Cytotoxic T cell'],\n",
       "  ['mtscatac_sampleB_Cytotoxic T cell']],\n",
       " [['mtscatac_sampleB_Cytotoxic T cell'],\n",
       "  ['mtscatac_sampleA_Cytotoxic T cell']],\n",
       " [['mtscatac_sampleA_CD4+ T cell'], ['mtscatac_sampleB_CD4+ T cell']],\n",
       " [['mtscatac_sampleB_CD4+ T cell'], ['mtscatac_sampleA_CD4+ T cell']],\n",
       " [['mtscatac_sampleA_Natural killer cell'],\n",
       "  ['mtscatac_sampleB_Natural killer cell']],\n",
       " [['mtscatac_sampleB_Natural killer cell'],\n",
       "  ['mtscatac_sampleA_Natural killer cell']],\n",
       " [['mtscatac_sampleA_CD14+ monocyte'], ['mtscatac_sampleB_CD14+ monocyte']],\n",
       " [['mtscatac_sampleB_CD14+ monocyte'], ['mtscatac_sampleA_CD14+ monocyte']],\n",
       " [['mtscatac_sampleA_B cell'], ['mtscatac_sampleB_B cell']],\n",
       " [['mtscatac_sampleB_B cell'], ['mtscatac_sampleA_B cell']],\n",
       " [['mtscatac_sampleA_CD16+ monocyte'], ['mtscatac_sampleB_CD16+ monocyte']],\n",
       " [['mtscatac_sampleB_CD16+ monocyte'], ['mtscatac_sampleA_CD16+ monocyte']],\n",
       " [['mtscatac_sampleA_Dendritic cell'], ['mtscatac_sampleB_Dendritic cell']],\n",
       " [['mtscatac_sampleB_Dendritic cell'], ['mtscatac_sampleA_Dendritic cell']],\n",
       " [['10xv1_sampleA_Cytotoxic T cell'], ['10xv1_sampleB_Cytotoxic T cell']],\n",
       " [['10xv1_sampleB_Cytotoxic T cell'], ['10xv1_sampleA_Cytotoxic T cell']],\n",
       " [['10xv1_sampleA_CD4+ T cell'], ['10xv1_sampleB_CD4+ T cell']],\n",
       " [['10xv1_sampleB_CD4+ T cell'], ['10xv1_sampleA_CD4+ T cell']],\n",
       " [['10xv1_sampleA_Natural killer cell'],\n",
       "  ['10xv1_sampleB_Natural killer cell']],\n",
       " [['10xv1_sampleB_Natural killer cell'],\n",
       "  ['10xv1_sampleA_Natural killer cell']],\n",
       " [['10xv1_sampleA_CD14+ monocyte'], ['10xv1_sampleB_CD14+ monocyte']],\n",
       " [['10xv1_sampleB_CD14+ monocyte'], ['10xv1_sampleA_CD14+ monocyte']],\n",
       " [['10xv1_sampleA_B cell'], ['10xv1_sampleB_B cell']],\n",
       " [['10xv1_sampleB_B cell'], ['10xv1_sampleA_B cell']],\n",
       " [['10xv1_sampleA_CD16+ monocyte'], ['10xv1_sampleB_CD16+ monocyte']],\n",
       " [['10xv1_sampleB_CD16+ monocyte'], ['10xv1_sampleA_CD16+ monocyte']],\n",
       " [['10xv1_sampleA_Dendritic cell'], ['10xv1_sampleB_Dendritic cell']],\n",
       " [['10xv1_sampleB_Dendritic cell'], ['10xv1_sampleA_Dendritic cell']]]"
      ]
     },
     "execution_count": 42,
     "metadata": {},
     "output_type": "execute_result"
    },
    {
     "data": {
      "application/javascript": [
       "\n",
       "            setTimeout(function() {\n",
       "                var nbb_cell_id = 42;\n",
       "                var nbb_unformatted_code = \"contrasts\";\n",
       "                var nbb_formatted_code = \"contrasts\";\n",
       "                var nbb_cells = Jupyter.notebook.get_cells();\n",
       "                for (var i = 0; i < nbb_cells.length; ++i) {\n",
       "                    if (nbb_cells[i].input_prompt_number == nbb_cell_id) {\n",
       "                        if (nbb_cells[i].get_text() == nbb_unformatted_code) {\n",
       "                             nbb_cells[i].set_text(nbb_formatted_code);\n",
       "                        }\n",
       "                        break;\n",
       "                    }\n",
       "                }\n",
       "            }, 500);\n",
       "            "
      ],
      "text/plain": [
       "<IPython.core.display.Javascript object>"
      ]
     },
     "metadata": {},
     "output_type": "display_data"
    }
   ],
   "source": [
    "contrasts"
   ]
  },
  {
   "cell_type": "code",
   "execution_count": null,
   "id": "0b6342ba-a2e6-4e4f-9f49-e4e7f5b6d5a0",
   "metadata": {
    "execution": {
     "iopub.execute_input": "2023-03-06T15:59:37.672615Z",
     "iopub.status.busy": "2023-03-06T15:59:37.671270Z"
    },
    "tags": []
   },
   "outputs": [
    {
     "name": "stderr",
     "output_type": "stream",
     "text": [
      "2023-03-06 17:00:18,943\tINFO worker.py:1509 -- Started a local Ray instance. View the dashboard at \u001b[1m\u001b[32mhttp://127.0.0.1:8265 \u001b[39m\u001b[22m\n"
     ]
    },
    {
     "name": "stdout",
     "output_type": "stream",
     "text": [
      "\u001b[2m\u001b[36m(markers_ray pid=36719)\u001b[0m 2023-03-06 17:00:28,000 cisTopic     INFO     Formatting data for 10xmultiome_sampleA_Cytotoxic T cell_VS_10xmultiome_sampleB_Cytotoxic T cell\n",
      "\u001b[2m\u001b[36m(markers_ray pid=36719)\u001b[0m 2023-03-06 17:00:31,506 cisTopic     INFO     Computing p-value for 10xmultiome_sampleA_Cytotoxic T cell_VS_10xmultiome_sampleB_Cytotoxic T cell\n",
      "\u001b[2m\u001b[36m(markers_ray pid=36713)\u001b[0m 2023-03-06 17:00:33,722 cisTopic     INFO     Formatting data for 10xmultiome_sampleB_Cytotoxic T cell_VS_10xmultiome_sampleA_Cytotoxic T cell\n",
      "\u001b[2m\u001b[36m(markers_ray pid=36713)\u001b[0m 2023-03-06 17:00:36,826 cisTopic     INFO     Computing p-value for 10xmultiome_sampleB_Cytotoxic T cell_VS_10xmultiome_sampleA_Cytotoxic T cell\n",
      "\u001b[2m\u001b[36m(markers_ray pid=36712)\u001b[0m 2023-03-06 17:00:39,030 cisTopic     INFO     Formatting data for 10xmultiome_sampleA_CD4+ T cell_VS_10xmultiome_sampleB_CD4+ T cell\n",
      "\u001b[2m\u001b[36m(markers_ray pid=36712)\u001b[0m 2023-03-06 17:00:43,864 cisTopic     INFO     Computing p-value for 10xmultiome_sampleA_CD4+ T cell_VS_10xmultiome_sampleB_CD4+ T cell\n",
      "\u001b[2m\u001b[36m(markers_ray pid=36709)\u001b[0m 2023-03-06 17:00:44,238 cisTopic     INFO     Formatting data for 10xmultiome_sampleB_CD4+ T cell_VS_10xmultiome_sampleA_CD4+ T cell\n",
      "\u001b[2m\u001b[36m(markers_ray pid=36717)\u001b[0m 2023-03-06 17:00:49,308 cisTopic     INFO     Formatting data for 10xmultiome_sampleA_Natural killer cell_VS_10xmultiome_sampleB_Natural killer cell\n",
      "\u001b[2m\u001b[36m(markers_ray pid=36709)\u001b[0m 2023-03-06 17:00:49,370 cisTopic     INFO     Computing p-value for 10xmultiome_sampleB_CD4+ T cell_VS_10xmultiome_sampleA_CD4+ T cell\n",
      "\u001b[2m\u001b[36m(markers_ray pid=36717)\u001b[0m 2023-03-06 17:00:50,908 cisTopic     INFO     Computing p-value for 10xmultiome_sampleA_Natural killer cell_VS_10xmultiome_sampleB_Natural killer cell\n",
      "\u001b[2m\u001b[36m(markers_ray pid=36719)\u001b[0m 2023-03-06 17:01:05,855 cisTopic     INFO     Computing log2FC for 10xmultiome_sampleA_Cytotoxic T cell_VS_10xmultiome_sampleB_Cytotoxic T cell\n",
      "\u001b[2m\u001b[36m(markers_ray pid=36719)\u001b[0m 2023-03-06 17:01:07,027 cisTopic     INFO     10xmultiome_sampleA_Cytotoxic T cell_VS_10xmultiome_sampleB_Cytotoxic T cell done!\n",
      "\u001b[2m\u001b[36m(markers_ray pid=36713)\u001b[0m 2023-03-06 17:01:11,303 cisTopic     INFO     Computing log2FC for 10xmultiome_sampleB_Cytotoxic T cell_VS_10xmultiome_sampleA_Cytotoxic T cell\n",
      "\u001b[2m\u001b[36m(markers_ray pid=36713)\u001b[0m 2023-03-06 17:01:12,571 cisTopic     INFO     10xmultiome_sampleB_Cytotoxic T cell_VS_10xmultiome_sampleA_Cytotoxic T cell done!\n",
      "\u001b[2m\u001b[36m(markers_ray pid=36717)\u001b[0m 2023-03-06 17:01:18,616 cisTopic     INFO     Computing log2FC for 10xmultiome_sampleA_Natural killer cell_VS_10xmultiome_sampleB_Natural killer cell\n",
      "\u001b[2m\u001b[36m(markers_ray pid=36717)\u001b[0m 2023-03-06 17:01:19,866 cisTopic     INFO     10xmultiome_sampleA_Natural killer cell_VS_10xmultiome_sampleB_Natural killer cell done!\n"
     ]
    },
    {
     "name": "stderr",
     "output_type": "stream",
     "text": [
      "\u001b[2m\u001b[36m(raylet)\u001b[0m Spilled 24319 MiB, 1 objects, write throughput 828 MiB/s. Set RAY_verbose_spill_logs=0 to disable this message.\n",
      "\u001b[2m\u001b[36m(raylet)\u001b[0m Spilled 48639 MiB, 2 objects, write throughput 1522 MiB/s.\n"
     ]
    },
    {
     "name": "stdout",
     "output_type": "stream",
     "text": [
      "\u001b[2m\u001b[36m(markers_ray pid=36712)\u001b[0m 2023-03-06 17:01:25,009 cisTopic     INFO     Computing log2FC for 10xmultiome_sampleA_CD4+ T cell_VS_10xmultiome_sampleB_CD4+ T cell\n",
      "\u001b[2m\u001b[36m(markers_ray pid=36712)\u001b[0m 2023-03-06 17:01:26,200 cisTopic     INFO     10xmultiome_sampleA_CD4+ T cell_VS_10xmultiome_sampleB_CD4+ T cell done!\n",
      "\u001b[2m\u001b[36m(markers_ray pid=36712)\u001b[0m 2023-03-06 17:01:26,945 cisTopic     INFO     Formatting data for 10xmultiome_sampleA_CD14+ monocyte_VS_10xmultiome_sampleB_CD14+ monocyte\n",
      "\u001b[2m\u001b[36m(markers_ray pid=36717)\u001b[0m 2023-03-06 17:01:26,947 cisTopic     INFO     Formatting data for 10xmultiome_sampleB_Natural killer cell_VS_10xmultiome_sampleA_Natural killer cell\n",
      "\u001b[2m\u001b[36m(markers_ray pid=36717)\u001b[0m 2023-03-06 17:01:28,455 cisTopic     INFO     Computing p-value for 10xmultiome_sampleB_Natural killer cell_VS_10xmultiome_sampleA_Natural killer cell\n",
      "\u001b[2m\u001b[36m(markers_ray pid=36712)\u001b[0m 2023-03-06 17:01:30,449 cisTopic     INFO     Computing p-value for 10xmultiome_sampleA_CD14+ monocyte_VS_10xmultiome_sampleB_CD14+ monocyte\n",
      "\u001b[2m\u001b[36m(markers_ray pid=36709)\u001b[0m 2023-03-06 17:01:31,530 cisTopic     INFO     Computing log2FC for 10xmultiome_sampleB_CD4+ T cell_VS_10xmultiome_sampleA_CD4+ T cell\n",
      "\u001b[2m\u001b[36m(markers_ray pid=36709)\u001b[0m 2023-03-06 17:01:32,719 cisTopic     INFO     10xmultiome_sampleB_CD4+ T cell_VS_10xmultiome_sampleA_CD4+ T cell done!\n"
     ]
    },
    {
     "name": "stderr",
     "output_type": "stream",
     "text": [
      "\u001b[2m\u001b[36m(raylet)\u001b[0m Spilled 48642 MiB, 7 objects, write throughput 1521 MiB/s.\n"
     ]
    },
    {
     "name": "stdout",
     "output_type": "stream",
     "text": [
      "\u001b[2m\u001b[36m(markers_ray pid=36717)\u001b[0m 2023-03-06 17:01:55,871 cisTopic     INFO     Computing log2FC for 10xmultiome_sampleB_Natural killer cell_VS_10xmultiome_sampleA_Natural killer cell\n",
      "\u001b[2m\u001b[36m(markers_ray pid=36717)\u001b[0m 2023-03-06 17:01:57,211 cisTopic     INFO     10xmultiome_sampleB_Natural killer cell_VS_10xmultiome_sampleA_Natural killer cell done!\n",
      "\u001b[2m\u001b[36m(markers_ray pid=36712)\u001b[0m 2023-03-06 17:02:09,627 cisTopic     INFO     Computing log2FC for 10xmultiome_sampleA_CD14+ monocyte_VS_10xmultiome_sampleB_CD14+ monocyte\n",
      "\u001b[2m\u001b[36m(markers_ray pid=36712)\u001b[0m 2023-03-06 17:02:11,133 cisTopic     INFO     10xmultiome_sampleA_CD14+ monocyte_VS_10xmultiome_sampleB_CD14+ monocyte done!\n"
     ]
    },
    {
     "name": "stderr",
     "output_type": "stream",
     "text": [
      "\u001b[2m\u001b[36m(raylet)\u001b[0m Spilled 48643 MiB, 9 objects, write throughput 1521 MiB/s.\n",
      "\u001b[2m\u001b[36m(raylet)\u001b[0m Spilled 48643 MiB, 10 objects, write throughput 1521 MiB/s.\n"
     ]
    },
    {
     "name": "stdout",
     "output_type": "stream",
     "text": [
      "\u001b[2m\u001b[36m(markers_ray pid=36712)\u001b[0m 2023-03-06 17:04:19,550 cisTopic     INFO     Formatting data for 10xmultiome_sampleB_CD14+ monocyte_VS_10xmultiome_sampleA_CD14+ monocyte\n",
      "\u001b[2m\u001b[36m(markers_ray pid=36712)\u001b[0m 2023-03-06 17:04:28,629 cisTopic     INFO     Computing p-value for 10xmultiome_sampleB_CD14+ monocyte_VS_10xmultiome_sampleA_CD14+ monocyte\n",
      "\u001b[2m\u001b[36m(markers_ray pid=36712)\u001b[0m 2023-03-06 17:05:05,091 cisTopic     INFO     Computing log2FC for 10xmultiome_sampleB_CD14+ monocyte_VS_10xmultiome_sampleA_CD14+ monocyte\n",
      "\u001b[2m\u001b[36m(markers_ray pid=36712)\u001b[0m 2023-03-06 17:05:06,277 cisTopic     INFO     10xmultiome_sampleB_CD14+ monocyte_VS_10xmultiome_sampleA_CD14+ monocyte done!\n",
      "\u001b[2m\u001b[36m(markers_ray pid=36712)\u001b[0m 2023-03-06 17:07:14,694 cisTopic     INFO     Formatting data for 10xmultiome_sampleA_B cell_VS_10xmultiome_sampleB_B cell\n",
      "\u001b[2m\u001b[36m(markers_ray pid=36712)\u001b[0m 2023-03-06 17:07:17,772 cisTopic     INFO     Computing p-value for 10xmultiome_sampleA_B cell_VS_10xmultiome_sampleB_B cell\n",
      "\u001b[2m\u001b[36m(markers_ray pid=36712)\u001b[0m 2023-03-06 17:07:47,332 cisTopic     INFO     Computing log2FC for 10xmultiome_sampleA_B cell_VS_10xmultiome_sampleB_B cell\n",
      "\u001b[2m\u001b[36m(markers_ray pid=36712)\u001b[0m 2023-03-06 17:07:48,456 cisTopic     INFO     10xmultiome_sampleA_B cell_VS_10xmultiome_sampleB_B cell done!\n",
      "\u001b[2m\u001b[36m(markers_ray pid=36712)\u001b[0m 2023-03-06 17:10:12,368 cisTopic     INFO     Formatting data for 10xmultiome_sampleB_B cell_VS_10xmultiome_sampleA_B cell\n",
      "\u001b[2m\u001b[36m(markers_ray pid=36712)\u001b[0m 2023-03-06 17:10:16,603 cisTopic     INFO     Computing p-value for 10xmultiome_sampleB_B cell_VS_10xmultiome_sampleA_B cell\n",
      "\u001b[2m\u001b[36m(markers_ray pid=36712)\u001b[0m 2023-03-06 17:10:46,585 cisTopic     INFO     Computing log2FC for 10xmultiome_sampleB_B cell_VS_10xmultiome_sampleA_B cell\n",
      "\u001b[2m\u001b[36m(markers_ray pid=36712)\u001b[0m 2023-03-06 17:10:47,691 cisTopic     INFO     10xmultiome_sampleB_B cell_VS_10xmultiome_sampleA_B cell done!\n",
      "\u001b[2m\u001b[36m(markers_ray pid=36712)\u001b[0m 2023-03-06 17:13:09,206 cisTopic     INFO     Formatting data for 10xmultiome_sampleA_CD16+ monocyte_VS_10xmultiome_sampleB_CD16+ monocyte\n",
      "\u001b[2m\u001b[36m(markers_ray pid=36712)\u001b[0m 2023-03-06 17:13:11,412 cisTopic     INFO     Computing p-value for 10xmultiome_sampleA_CD16+ monocyte_VS_10xmultiome_sampleB_CD16+ monocyte\n",
      "\u001b[2m\u001b[36m(markers_ray pid=36712)\u001b[0m 2023-03-06 17:13:38,735 cisTopic     INFO     Computing log2FC for 10xmultiome_sampleA_CD16+ monocyte_VS_10xmultiome_sampleB_CD16+ monocyte\n",
      "\u001b[2m\u001b[36m(markers_ray pid=36712)\u001b[0m 2023-03-06 17:13:40,277 cisTopic     INFO     10xmultiome_sampleA_CD16+ monocyte_VS_10xmultiome_sampleB_CD16+ monocyte done!\n",
      "\u001b[2m\u001b[36m(markers_ray pid=36712)\u001b[0m 2023-03-06 17:16:06,649 cisTopic     INFO     Formatting data for 10xmultiome_sampleB_CD16+ monocyte_VS_10xmultiome_sampleA_CD16+ monocyte\n",
      "\u001b[2m\u001b[36m(markers_ray pid=36712)\u001b[0m 2023-03-06 17:16:08,391 cisTopic     INFO     Computing p-value for 10xmultiome_sampleB_CD16+ monocyte_VS_10xmultiome_sampleA_CD16+ monocyte\n",
      "\u001b[2m\u001b[36m(markers_ray pid=36712)\u001b[0m 2023-03-06 17:16:35,383 cisTopic     INFO     Computing log2FC for 10xmultiome_sampleB_CD16+ monocyte_VS_10xmultiome_sampleA_CD16+ monocyte\n",
      "\u001b[2m\u001b[36m(markers_ray pid=36712)\u001b[0m 2023-03-06 17:16:36,967 cisTopic     INFO     10xmultiome_sampleB_CD16+ monocyte_VS_10xmultiome_sampleA_CD16+ monocyte done!\n",
      "\u001b[2m\u001b[36m(markers_ray pid=36712)\u001b[0m 2023-03-06 17:19:03,871 cisTopic     INFO     Formatting data for 10xmultiome_sampleA_Dendritic cell_VS_10xmultiome_sampleB_Dendritic cell\n",
      "\u001b[2m\u001b[36m(markers_ray pid=36712)\u001b[0m 2023-03-06 17:19:05,920 cisTopic     INFO     Computing p-value for 10xmultiome_sampleA_Dendritic cell_VS_10xmultiome_sampleB_Dendritic cell\n",
      "\u001b[2m\u001b[36m(markers_ray pid=36712)\u001b[0m 2023-03-06 17:19:32,793 cisTopic     INFO     Computing log2FC for 10xmultiome_sampleA_Dendritic cell_VS_10xmultiome_sampleB_Dendritic cell\n",
      "\u001b[2m\u001b[36m(markers_ray pid=36712)\u001b[0m 2023-03-06 17:19:33,866 cisTopic     INFO     10xmultiome_sampleA_Dendritic cell_VS_10xmultiome_sampleB_Dendritic cell done!\n",
      "\u001b[2m\u001b[36m(markers_ray pid=36712)\u001b[0m 2023-03-06 17:22:01,780 cisTopic     INFO     Formatting data for 10xmultiome_sampleB_Dendritic cell_VS_10xmultiome_sampleA_Dendritic cell\n",
      "\u001b[2m\u001b[36m(markers_ray pid=36712)\u001b[0m 2023-03-06 17:22:03,681 cisTopic     INFO     Computing p-value for 10xmultiome_sampleB_Dendritic cell_VS_10xmultiome_sampleA_Dendritic cell\n",
      "\u001b[2m\u001b[36m(markers_ray pid=36712)\u001b[0m 2023-03-06 17:22:31,813 cisTopic     INFO     Computing log2FC for 10xmultiome_sampleB_Dendritic cell_VS_10xmultiome_sampleA_Dendritic cell\n",
      "\u001b[2m\u001b[36m(markers_ray pid=36712)\u001b[0m 2023-03-06 17:22:32,912 cisTopic     INFO     10xmultiome_sampleB_Dendritic cell_VS_10xmultiome_sampleA_Dendritic cell done!\n",
      "\u001b[2m\u001b[36m(markers_ray pid=36712)\u001b[0m 2023-03-06 17:24:56,336 cisTopic     INFO     Formatting data for s3atac_sampleA_Cytotoxic T cell_VS_s3atac_sampleB_Cytotoxic T cell\n",
      "\u001b[2m\u001b[36m(markers_ray pid=36712)\u001b[0m 2023-03-06 17:24:58,066 cisTopic     INFO     Computing p-value for s3atac_sampleA_Cytotoxic T cell_VS_s3atac_sampleB_Cytotoxic T cell\n",
      "\u001b[2m\u001b[36m(markers_ray pid=36712)\u001b[0m 2023-03-06 17:25:31,599 cisTopic     INFO     Computing log2FC for s3atac_sampleA_Cytotoxic T cell_VS_s3atac_sampleB_Cytotoxic T cell\n",
      "\u001b[2m\u001b[36m(markers_ray pid=36712)\u001b[0m 2023-03-06 17:25:32,723 cisTopic     INFO     s3atac_sampleA_Cytotoxic T cell_VS_s3atac_sampleB_Cytotoxic T cell done!\n",
      "\u001b[2m\u001b[36m(markers_ray pid=36712)\u001b[0m 2023-03-06 17:27:50,381 cisTopic     INFO     Formatting data for s3atac_sampleB_Cytotoxic T cell_VS_s3atac_sampleA_Cytotoxic T cell\n",
      "\u001b[2m\u001b[36m(markers_ray pid=36712)\u001b[0m 2023-03-06 17:27:52,270 cisTopic     INFO     Computing p-value for s3atac_sampleB_Cytotoxic T cell_VS_s3atac_sampleA_Cytotoxic T cell\n",
      "\u001b[2m\u001b[36m(markers_ray pid=36712)\u001b[0m 2023-03-06 17:28:25,662 cisTopic     INFO     Computing log2FC for s3atac_sampleB_Cytotoxic T cell_VS_s3atac_sampleA_Cytotoxic T cell\n",
      "\u001b[2m\u001b[36m(markers_ray pid=36712)\u001b[0m 2023-03-06 17:28:27,388 cisTopic     INFO     s3atac_sampleB_Cytotoxic T cell_VS_s3atac_sampleA_Cytotoxic T cell done!\n",
      "\u001b[2m\u001b[36m(markers_ray pid=36712)\u001b[0m 2023-03-06 17:30:41,884 cisTopic     INFO     Formatting data for s3atac_sampleA_CD4+ T cell_VS_s3atac_sampleB_CD4+ T cell\n",
      "\u001b[2m\u001b[36m(markers_ray pid=36712)\u001b[0m 2023-03-06 17:30:42,981 cisTopic     INFO     Computing p-value for s3atac_sampleA_CD4+ T cell_VS_s3atac_sampleB_CD4+ T cell\n",
      "\u001b[2m\u001b[36m(markers_ray pid=36712)\u001b[0m 2023-03-06 17:31:11,109 cisTopic     INFO     Computing log2FC for s3atac_sampleA_CD4+ T cell_VS_s3atac_sampleB_CD4+ T cell\n",
      "\u001b[2m\u001b[36m(markers_ray pid=36712)\u001b[0m 2023-03-06 17:31:12,194 cisTopic     INFO     s3atac_sampleA_CD4+ T cell_VS_s3atac_sampleB_CD4+ T cell done!\n",
      "\u001b[2m\u001b[36m(markers_ray pid=36712)\u001b[0m 2023-03-06 17:33:38,036 cisTopic     INFO     Formatting data for s3atac_sampleB_CD4+ T cell_VS_s3atac_sampleA_CD4+ T cell\n",
      "\u001b[2m\u001b[36m(markers_ray pid=36712)\u001b[0m 2023-03-06 17:33:39,086 cisTopic     INFO     Computing p-value for s3atac_sampleB_CD4+ T cell_VS_s3atac_sampleA_CD4+ T cell\n",
      "\u001b[2m\u001b[36m(markers_ray pid=36712)\u001b[0m 2023-03-06 17:34:06,547 cisTopic     INFO     Computing log2FC for s3atac_sampleB_CD4+ T cell_VS_s3atac_sampleA_CD4+ T cell\n",
      "\u001b[2m\u001b[36m(markers_ray pid=36712)\u001b[0m 2023-03-06 17:34:07,928 cisTopic     INFO     s3atac_sampleB_CD4+ T cell_VS_s3atac_sampleA_CD4+ T cell done!\n",
      "\u001b[2m\u001b[36m(markers_ray pid=36712)\u001b[0m 2023-03-06 17:36:32,038 cisTopic     INFO     Formatting data for s3atac_sampleA_Natural killer cell_VS_s3atac_sampleB_Natural killer cell\n",
      "\u001b[2m\u001b[36m(markers_ray pid=36712)\u001b[0m 2023-03-06 17:36:32,858 cisTopic     INFO     Computing p-value for s3atac_sampleA_Natural killer cell_VS_s3atac_sampleB_Natural killer cell\n",
      "\u001b[2m\u001b[36m(markers_ray pid=36712)\u001b[0m 2023-03-06 17:36:59,843 cisTopic     INFO     Computing log2FC for s3atac_sampleA_Natural killer cell_VS_s3atac_sampleB_Natural killer cell\n",
      "\u001b[2m\u001b[36m(markers_ray pid=36712)\u001b[0m 2023-03-06 17:37:01,549 cisTopic     INFO     s3atac_sampleA_Natural killer cell_VS_s3atac_sampleB_Natural killer cell done!\n",
      "\u001b[2m\u001b[36m(markers_ray pid=36712)\u001b[0m 2023-03-06 17:39:29,202 cisTopic     INFO     Formatting data for s3atac_sampleB_Natural killer cell_VS_s3atac_sampleA_Natural killer cell\n",
      "\u001b[2m\u001b[36m(markers_ray pid=36712)\u001b[0m 2023-03-06 17:39:30,011 cisTopic     INFO     Computing p-value for s3atac_sampleB_Natural killer cell_VS_s3atac_sampleA_Natural killer cell\n",
      "\u001b[2m\u001b[36m(markers_ray pid=36712)\u001b[0m 2023-03-06 17:39:57,623 cisTopic     INFO     Computing log2FC for s3atac_sampleB_Natural killer cell_VS_s3atac_sampleA_Natural killer cell\n",
      "\u001b[2m\u001b[36m(markers_ray pid=36712)\u001b[0m 2023-03-06 17:39:58,945 cisTopic     INFO     s3atac_sampleB_Natural killer cell_VS_s3atac_sampleA_Natural killer cell done!\n",
      "\u001b[2m\u001b[36m(markers_ray pid=36712)\u001b[0m 2023-03-06 17:42:26,660 cisTopic     INFO     Formatting data for s3atac_sampleA_CD14+ monocyte_VS_s3atac_sampleB_CD14+ monocyte\n",
      "\u001b[2m\u001b[36m(markers_ray pid=36712)\u001b[0m 2023-03-06 17:42:27,853 cisTopic     INFO     Computing p-value for s3atac_sampleA_CD14+ monocyte_VS_s3atac_sampleB_CD14+ monocyte\n",
      "\u001b[2m\u001b[36m(markers_ray pid=36712)\u001b[0m 2023-03-06 17:42:58,960 cisTopic     INFO     Computing log2FC for s3atac_sampleA_CD14+ monocyte_VS_s3atac_sampleB_CD14+ monocyte\n",
      "\u001b[2m\u001b[36m(markers_ray pid=36712)\u001b[0m 2023-03-06 17:43:00,532 cisTopic     INFO     s3atac_sampleA_CD14+ monocyte_VS_s3atac_sampleB_CD14+ monocyte done!\n",
      "\u001b[2m\u001b[36m(markers_ray pid=36712)\u001b[0m 2023-03-06 17:45:19,639 cisTopic     INFO     Formatting data for s3atac_sampleB_CD14+ monocyte_VS_s3atac_sampleA_CD14+ monocyte\n",
      "\u001b[2m\u001b[36m(markers_ray pid=36712)\u001b[0m 2023-03-06 17:45:20,878 cisTopic     INFO     Computing p-value for s3atac_sampleB_CD14+ monocyte_VS_s3atac_sampleA_CD14+ monocyte\n",
      "\u001b[2m\u001b[36m(markers_ray pid=36712)\u001b[0m 2023-03-06 17:45:50,787 cisTopic     INFO     Computing log2FC for s3atac_sampleB_CD14+ monocyte_VS_s3atac_sampleA_CD14+ monocyte\n",
      "\u001b[2m\u001b[36m(markers_ray pid=36712)\u001b[0m 2023-03-06 17:45:51,892 cisTopic     INFO     s3atac_sampleB_CD14+ monocyte_VS_s3atac_sampleA_CD14+ monocyte done!\n",
      "\u001b[2m\u001b[36m(markers_ray pid=36712)\u001b[0m 2023-03-06 17:48:11,328 cisTopic     INFO     Formatting data for s3atac_sampleA_B cell_VS_s3atac_sampleB_B cell\n",
      "\u001b[2m\u001b[36m(markers_ray pid=36712)\u001b[0m 2023-03-06 17:48:12,339 cisTopic     INFO     Computing p-value for s3atac_sampleA_B cell_VS_s3atac_sampleB_B cell\n",
      "\u001b[2m\u001b[36m(markers_ray pid=36712)\u001b[0m 2023-03-06 17:48:40,590 cisTopic     INFO     Computing log2FC for s3atac_sampleA_B cell_VS_s3atac_sampleB_B cell\n",
      "\u001b[2m\u001b[36m(markers_ray pid=36712)\u001b[0m 2023-03-06 17:48:42,290 cisTopic     INFO     s3atac_sampleA_B cell_VS_s3atac_sampleB_B cell done!\n",
      "\u001b[2m\u001b[36m(markers_ray pid=36712)\u001b[0m 2023-03-06 17:51:07,227 cisTopic     INFO     Formatting data for s3atac_sampleB_B cell_VS_s3atac_sampleA_B cell\n",
      "\u001b[2m\u001b[36m(markers_ray pid=36712)\u001b[0m 2023-03-06 17:51:08,903 cisTopic     INFO     Computing p-value for s3atac_sampleB_B cell_VS_s3atac_sampleA_B cell\n",
      "\u001b[2m\u001b[36m(markers_ray pid=36712)\u001b[0m 2023-03-06 17:51:37,135 cisTopic     INFO     Computing log2FC for s3atac_sampleB_B cell_VS_s3atac_sampleA_B cell\n",
      "\u001b[2m\u001b[36m(markers_ray pid=36712)\u001b[0m 2023-03-06 17:51:38,227 cisTopic     INFO     s3atac_sampleB_B cell_VS_s3atac_sampleA_B cell done!\n",
      "\u001b[2m\u001b[36m(markers_ray pid=36712)\u001b[0m 2023-03-06 17:54:03,710 cisTopic     INFO     Formatting data for s3atac_sampleA_CD16+ monocyte_VS_s3atac_sampleB_CD16+ monocyte\n",
      "\u001b[2m\u001b[36m(markers_ray pid=36712)\u001b[0m 2023-03-06 17:54:04,382 cisTopic     INFO     Computing p-value for s3atac_sampleA_CD16+ monocyte_VS_s3atac_sampleB_CD16+ monocyte\n",
      "\u001b[2m\u001b[36m(markers_ray pid=36712)\u001b[0m 2023-03-06 17:54:31,463 cisTopic     INFO     Computing log2FC for s3atac_sampleA_CD16+ monocyte_VS_s3atac_sampleB_CD16+ monocyte\n",
      "\u001b[2m\u001b[36m(markers_ray pid=36712)\u001b[0m 2023-03-06 17:54:32,531 cisTopic     INFO     s3atac_sampleA_CD16+ monocyte_VS_s3atac_sampleB_CD16+ monocyte done!\n",
      "\u001b[2m\u001b[36m(markers_ray pid=36712)\u001b[0m 2023-03-06 17:57:02,448 cisTopic     INFO     Formatting data for s3atac_sampleB_CD16+ monocyte_VS_s3atac_sampleA_CD16+ monocyte\n",
      "\u001b[2m\u001b[36m(markers_ray pid=36712)\u001b[0m 2023-03-06 17:57:03,115 cisTopic     INFO     Computing p-value for s3atac_sampleB_CD16+ monocyte_VS_s3atac_sampleA_CD16+ monocyte\n",
      "\u001b[2m\u001b[36m(markers_ray pid=36712)\u001b[0m 2023-03-06 17:57:30,464 cisTopic     INFO     Computing log2FC for s3atac_sampleB_CD16+ monocyte_VS_s3atac_sampleA_CD16+ monocyte\n",
      "\u001b[2m\u001b[36m(markers_ray pid=36712)\u001b[0m 2023-03-06 17:57:31,532 cisTopic     INFO     s3atac_sampleB_CD16+ monocyte_VS_s3atac_sampleA_CD16+ monocyte done!\n",
      "\u001b[2m\u001b[36m(markers_ray pid=36712)\u001b[0m 2023-03-06 18:00:06,064 cisTopic     INFO     Formatting data for s3atac_sampleA_Dendritic cell_VS_s3atac_sampleB_Dendritic cell\n",
      "\u001b[2m\u001b[36m(markers_ray pid=36712)\u001b[0m 2023-03-06 18:00:06,680 cisTopic     INFO     Computing p-value for s3atac_sampleA_Dendritic cell_VS_s3atac_sampleB_Dendritic cell\n",
      "\u001b[2m\u001b[36m(markers_ray pid=36712)\u001b[0m 2023-03-06 18:00:34,253 cisTopic     INFO     Computing log2FC for s3atac_sampleA_Dendritic cell_VS_s3atac_sampleB_Dendritic cell\n",
      "\u001b[2m\u001b[36m(markers_ray pid=36712)\u001b[0m 2023-03-06 18:00:35,306 cisTopic     INFO     s3atac_sampleA_Dendritic cell_VS_s3atac_sampleB_Dendritic cell done!\n",
      "\u001b[2m\u001b[36m(markers_ray pid=36712)\u001b[0m 2023-03-06 18:03:01,995 cisTopic     INFO     Formatting data for s3atac_sampleB_Dendritic cell_VS_s3atac_sampleA_Dendritic cell\n",
      "\u001b[2m\u001b[36m(markers_ray pid=36712)\u001b[0m 2023-03-06 18:03:02,613 cisTopic     INFO     Computing p-value for s3atac_sampleB_Dendritic cell_VS_s3atac_sampleA_Dendritic cell\n",
      "\u001b[2m\u001b[36m(markers_ray pid=36712)\u001b[0m 2023-03-06 18:03:30,965 cisTopic     INFO     Computing log2FC for s3atac_sampleB_Dendritic cell_VS_s3atac_sampleA_Dendritic cell\n",
      "\u001b[2m\u001b[36m(markers_ray pid=36712)\u001b[0m 2023-03-06 18:03:32,021 cisTopic     INFO     s3atac_sampleB_Dendritic cell_VS_s3atac_sampleA_Dendritic cell done!\n",
      "\u001b[2m\u001b[36m(markers_ray pid=36712)\u001b[0m 2023-03-06 18:06:03,730 cisTopic     INFO     Formatting data for 10xv11_sampleA_Cytotoxic T cell_VS_10xv11_sampleB_Cytotoxic T cell\n",
      "\u001b[2m\u001b[36m(markers_ray pid=36712)\u001b[0m 2023-03-06 18:06:08,692 cisTopic     INFO     Computing p-value for 10xv11_sampleA_Cytotoxic T cell_VS_10xv11_sampleB_Cytotoxic T cell\n",
      "\u001b[2m\u001b[36m(markers_ray pid=36712)\u001b[0m 2023-03-06 18:06:45,806 cisTopic     INFO     Computing log2FC for 10xv11_sampleA_Cytotoxic T cell_VS_10xv11_sampleB_Cytotoxic T cell\n",
      "\u001b[2m\u001b[36m(markers_ray pid=36712)\u001b[0m 2023-03-06 18:06:46,987 cisTopic     INFO     10xv11_sampleA_Cytotoxic T cell_VS_10xv11_sampleB_Cytotoxic T cell done!\n",
      "\u001b[2m\u001b[36m(markers_ray pid=36712)\u001b[0m 2023-03-06 18:09:07,033 cisTopic     INFO     Formatting data for 10xv11_sampleB_Cytotoxic T cell_VS_10xv11_sampleA_Cytotoxic T cell\n",
      "\u001b[2m\u001b[36m(markers_ray pid=36712)\u001b[0m 2023-03-06 18:09:11,773 cisTopic     INFO     Computing p-value for 10xv11_sampleB_Cytotoxic T cell_VS_10xv11_sampleA_Cytotoxic T cell\n",
      "\u001b[2m\u001b[36m(markers_ray pid=36712)\u001b[0m 2023-03-06 18:09:48,138 cisTopic     INFO     Computing log2FC for 10xv11_sampleB_Cytotoxic T cell_VS_10xv11_sampleA_Cytotoxic T cell\n",
      "\u001b[2m\u001b[36m(markers_ray pid=36712)\u001b[0m 2023-03-06 18:09:49,699 cisTopic     INFO     10xv11_sampleB_Cytotoxic T cell_VS_10xv11_sampleA_Cytotoxic T cell done!\n",
      "\u001b[2m\u001b[36m(markers_ray pid=36712)\u001b[0m 2023-03-06 18:12:20,175 cisTopic     INFO     Formatting data for 10xv11_sampleA_CD4+ T cell_VS_10xv11_sampleB_CD4+ T cell\n",
      "\u001b[2m\u001b[36m(markers_ray pid=36712)\u001b[0m 2023-03-06 18:12:27,812 cisTopic     INFO     Computing p-value for 10xv11_sampleA_CD4+ T cell_VS_10xv11_sampleB_CD4+ T cell\n"
     ]
    },
    {
     "name": "stderr",
     "output_type": "stream",
     "text": [
      "\u001b[2m\u001b[36m(raylet)\u001b[0m Spilled 72972 MiB, 22 objects, write throughput 1125 MiB/s.\n"
     ]
    },
    {
     "name": "stdout",
     "output_type": "stream",
     "text": [
      "\u001b[2m\u001b[36m(markers_ray pid=36712)\u001b[0m 2023-03-06 18:13:11,216 cisTopic     INFO     Computing log2FC for 10xv11_sampleA_CD4+ T cell_VS_10xv11_sampleB_CD4+ T cell\n",
      "\u001b[2m\u001b[36m(markers_ray pid=36712)\u001b[0m 2023-03-06 18:13:12,453 cisTopic     INFO     10xv11_sampleA_CD4+ T cell_VS_10xv11_sampleB_CD4+ T cell done!\n",
      "\u001b[2m\u001b[36m(markers_ray pid=36712)\u001b[0m 2023-03-06 18:15:58,501 cisTopic     INFO     Formatting data for 10xv11_sampleB_CD4+ T cell_VS_10xv11_sampleA_CD4+ T cell\n",
      "\u001b[2m\u001b[36m(markers_ray pid=36712)\u001b[0m 2023-03-06 18:16:04,348 cisTopic     INFO     Computing p-value for 10xv11_sampleB_CD4+ T cell_VS_10xv11_sampleA_CD4+ T cell\n",
      "\u001b[2m\u001b[36m(markers_ray pid=36712)\u001b[0m 2023-03-06 18:16:47,519 cisTopic     INFO     Computing log2FC for 10xv11_sampleB_CD4+ T cell_VS_10xv11_sampleA_CD4+ T cell\n",
      "\u001b[2m\u001b[36m(markers_ray pid=36712)\u001b[0m 2023-03-06 18:16:48,728 cisTopic     INFO     10xv11_sampleB_CD4+ T cell_VS_10xv11_sampleA_CD4+ T cell done!\n",
      "\u001b[2m\u001b[36m(markers_ray pid=36712)\u001b[0m 2023-03-06 18:19:26,401 cisTopic     INFO     Formatting data for 10xv11_sampleA_Natural killer cell_VS_10xv11_sampleB_Natural killer cell\n",
      "\u001b[2m\u001b[36m(markers_ray pid=36712)\u001b[0m 2023-03-06 18:19:28,922 cisTopic     INFO     Computing p-value for 10xv11_sampleA_Natural killer cell_VS_10xv11_sampleB_Natural killer cell\n",
      "\u001b[2m\u001b[36m(markers_ray pid=36712)\u001b[0m 2023-03-06 18:19:57,979 cisTopic     INFO     Computing log2FC for 10xv11_sampleA_Natural killer cell_VS_10xv11_sampleB_Natural killer cell\n",
      "\u001b[2m\u001b[36m(markers_ray pid=36712)\u001b[0m 2023-03-06 18:20:00,074 cisTopic     INFO     10xv11_sampleA_Natural killer cell_VS_10xv11_sampleB_Natural killer cell done!\n",
      "\u001b[2m\u001b[36m(markers_ray pid=36712)\u001b[0m 2023-03-06 18:22:28,319 cisTopic     INFO     Formatting data for 10xv11_sampleB_Natural killer cell_VS_10xv11_sampleA_Natural killer cell\n",
      "\u001b[2m\u001b[36m(markers_ray pid=36712)\u001b[0m 2023-03-06 18:22:30,682 cisTopic     INFO     Computing p-value for 10xv11_sampleB_Natural killer cell_VS_10xv11_sampleA_Natural killer cell\n",
      "\u001b[2m\u001b[36m(markers_ray pid=36712)\u001b[0m 2023-03-06 18:23:01,581 cisTopic     INFO     Computing log2FC for 10xv11_sampleB_Natural killer cell_VS_10xv11_sampleA_Natural killer cell\n",
      "\u001b[2m\u001b[36m(markers_ray pid=36712)\u001b[0m 2023-03-06 18:23:03,511 cisTopic     INFO     10xv11_sampleB_Natural killer cell_VS_10xv11_sampleA_Natural killer cell done!\n",
      "\u001b[2m\u001b[36m(markers_ray pid=36712)\u001b[0m 2023-03-06 18:25:24,921 cisTopic     INFO     Formatting data for 10xv11_sampleA_CD14+ monocyte_VS_10xv11_sampleB_CD14+ monocyte\n",
      "\u001b[2m\u001b[36m(markers_ray pid=36712)\u001b[0m 2023-03-06 18:25:29,348 cisTopic     INFO     Computing p-value for 10xv11_sampleA_CD14+ monocyte_VS_10xv11_sampleB_CD14+ monocyte\n",
      "\u001b[2m\u001b[36m(markers_ray pid=36712)\u001b[0m 2023-03-06 18:26:08,670 cisTopic     INFO     Computing log2FC for 10xv11_sampleA_CD14+ monocyte_VS_10xv11_sampleB_CD14+ monocyte\n",
      "\u001b[2m\u001b[36m(markers_ray pid=36712)\u001b[0m 2023-03-06 18:26:09,865 cisTopic     INFO     10xv11_sampleA_CD14+ monocyte_VS_10xv11_sampleB_CD14+ monocyte done!\n",
      "\u001b[2m\u001b[36m(markers_ray pid=36712)\u001b[0m 2023-03-06 18:28:20,755 cisTopic     INFO     Formatting data for 10xv11_sampleB_CD14+ monocyte_VS_10xv11_sampleA_CD14+ monocyte\n",
      "\u001b[2m\u001b[36m(markers_ray pid=36712)\u001b[0m 2023-03-06 18:28:25,168 cisTopic     INFO     Computing p-value for 10xv11_sampleB_CD14+ monocyte_VS_10xv11_sampleA_CD14+ monocyte\n",
      "\u001b[2m\u001b[36m(markers_ray pid=36712)\u001b[0m 2023-03-06 18:29:04,436 cisTopic     INFO     Computing log2FC for 10xv11_sampleB_CD14+ monocyte_VS_10xv11_sampleA_CD14+ monocyte\n",
      "\u001b[2m\u001b[36m(markers_ray pid=36712)\u001b[0m 2023-03-06 18:29:05,605 cisTopic     INFO     10xv11_sampleB_CD14+ monocyte_VS_10xv11_sampleA_CD14+ monocyte done!\n",
      "\u001b[2m\u001b[36m(markers_ray pid=36712)\u001b[0m 2023-03-06 18:31:17,300 cisTopic     INFO     Formatting data for 10xv11_sampleA_B cell_VS_10xv11_sampleB_B cell\n",
      "\u001b[2m\u001b[36m(markers_ray pid=36712)\u001b[0m 2023-03-06 18:31:20,211 cisTopic     INFO     Computing p-value for 10xv11_sampleA_B cell_VS_10xv11_sampleB_B cell\n",
      "\u001b[2m\u001b[36m(markers_ray pid=36712)\u001b[0m 2023-03-06 18:31:55,403 cisTopic     INFO     Computing log2FC for 10xv11_sampleA_B cell_VS_10xv11_sampleB_B cell\n",
      "\u001b[2m\u001b[36m(markers_ray pid=36712)\u001b[0m 2023-03-06 18:31:56,544 cisTopic     INFO     10xv11_sampleA_B cell_VS_10xv11_sampleB_B cell done!\n",
      "\u001b[2m\u001b[36m(markers_ray pid=36712)\u001b[0m 2023-03-06 18:34:11,160 cisTopic     INFO     Formatting data for 10xv11_sampleB_B cell_VS_10xv11_sampleA_B cell\n",
      "\u001b[2m\u001b[36m(markers_ray pid=36712)\u001b[0m 2023-03-06 18:34:14,025 cisTopic     INFO     Computing p-value for 10xv11_sampleB_B cell_VS_10xv11_sampleA_B cell\n",
      "\u001b[2m\u001b[36m(markers_ray pid=36712)\u001b[0m 2023-03-06 18:34:48,465 cisTopic     INFO     Computing log2FC for 10xv11_sampleB_B cell_VS_10xv11_sampleA_B cell\n",
      "\u001b[2m\u001b[36m(markers_ray pid=36712)\u001b[0m 2023-03-06 18:34:50,441 cisTopic     INFO     10xv11_sampleB_B cell_VS_10xv11_sampleA_B cell done!\n",
      "\u001b[2m\u001b[36m(markers_ray pid=36712)\u001b[0m 2023-03-06 18:37:07,017 cisTopic     INFO     Formatting data for 10xv11_sampleA_CD16+ monocyte_VS_10xv11_sampleB_CD16+ monocyte\n",
      "\u001b[2m\u001b[36m(markers_ray pid=36712)\u001b[0m 2023-03-06 18:37:08,819 cisTopic     INFO     Computing p-value for 10xv11_sampleA_CD16+ monocyte_VS_10xv11_sampleB_CD16+ monocyte\n",
      "\u001b[2m\u001b[36m(markers_ray pid=36712)\u001b[0m 2023-03-06 18:37:38,081 cisTopic     INFO     Computing log2FC for 10xv11_sampleA_CD16+ monocyte_VS_10xv11_sampleB_CD16+ monocyte\n",
      "\u001b[2m\u001b[36m(markers_ray pid=36712)\u001b[0m 2023-03-06 18:37:40,580 cisTopic     INFO     10xv11_sampleA_CD16+ monocyte_VS_10xv11_sampleB_CD16+ monocyte done!\n",
      "\u001b[2m\u001b[36m(markers_ray pid=36712)\u001b[0m 2023-03-06 18:40:01,723 cisTopic     INFO     Formatting data for 10xv11_sampleB_CD16+ monocyte_VS_10xv11_sampleA_CD16+ monocyte\n",
      "\u001b[2m\u001b[36m(markers_ray pid=36712)\u001b[0m 2023-03-06 18:40:03,725 cisTopic     INFO     Computing p-value for 10xv11_sampleB_CD16+ monocyte_VS_10xv11_sampleA_CD16+ monocyte\n",
      "\u001b[2m\u001b[36m(markers_ray pid=36712)\u001b[0m 2023-03-06 18:40:32,182 cisTopic     INFO     Computing log2FC for 10xv11_sampleB_CD16+ monocyte_VS_10xv11_sampleA_CD16+ monocyte\n",
      "\u001b[2m\u001b[36m(markers_ray pid=36712)\u001b[0m 2023-03-06 18:40:34,375 cisTopic     INFO     10xv11_sampleB_CD16+ monocyte_VS_10xv11_sampleA_CD16+ monocyte done!\n",
      "\u001b[2m\u001b[36m(markers_ray pid=36712)\u001b[0m 2023-03-06 18:42:58,782 cisTopic     INFO     Formatting data for 10xv11_sampleA_Dendritic cell_VS_10xv11_sampleB_Dendritic cell\n",
      "\u001b[2m\u001b[36m(markers_ray pid=36712)\u001b[0m 2023-03-06 18:43:01,509 cisTopic     INFO     Computing p-value for 10xv11_sampleA_Dendritic cell_VS_10xv11_sampleB_Dendritic cell\n",
      "\u001b[2m\u001b[36m(markers_ray pid=36712)\u001b[0m 2023-03-06 18:43:31,208 cisTopic     INFO     Computing log2FC for 10xv11_sampleA_Dendritic cell_VS_10xv11_sampleB_Dendritic cell\n",
      "\u001b[2m\u001b[36m(markers_ray pid=36712)\u001b[0m 2023-03-06 18:43:32,315 cisTopic     INFO     10xv11_sampleA_Dendritic cell_VS_10xv11_sampleB_Dendritic cell done!\n",
      "\u001b[2m\u001b[36m(markers_ray pid=36712)\u001b[0m 2023-03-06 18:45:53,324 cisTopic     INFO     Formatting data for 10xv11_sampleB_Dendritic cell_VS_10xv11_sampleA_Dendritic cell\n",
      "\u001b[2m\u001b[36m(markers_ray pid=36712)\u001b[0m 2023-03-06 18:45:55,247 cisTopic     INFO     Computing p-value for 10xv11_sampleB_Dendritic cell_VS_10xv11_sampleA_Dendritic cell\n",
      "\u001b[2m\u001b[36m(markers_ray pid=36712)\u001b[0m 2023-03-06 18:46:26,406 cisTopic     INFO     Computing log2FC for 10xv11_sampleB_Dendritic cell_VS_10xv11_sampleA_Dendritic cell\n",
      "\u001b[2m\u001b[36m(markers_ray pid=36712)\u001b[0m 2023-03-06 18:46:27,482 cisTopic     INFO     10xv11_sampleB_Dendritic cell_VS_10xv11_sampleA_Dendritic cell done!\n",
      "\u001b[2m\u001b[36m(markers_ray pid=36712)\u001b[0m 2023-03-06 18:48:46,382 cisTopic     INFO     Formatting data for hydrop_sampleA_Cytotoxic T cell_VS_hydrop_sampleB_Cytotoxic T cell\n",
      "\u001b[2m\u001b[36m(markers_ray pid=36712)\u001b[0m 2023-03-06 18:48:50,576 cisTopic     INFO     Computing p-value for hydrop_sampleA_Cytotoxic T cell_VS_hydrop_sampleB_Cytotoxic T cell\n",
      "\u001b[2m\u001b[36m(markers_ray pid=36712)\u001b[0m 2023-03-06 18:49:28,783 cisTopic     INFO     Computing log2FC for hydrop_sampleA_Cytotoxic T cell_VS_hydrop_sampleB_Cytotoxic T cell\n",
      "\u001b[2m\u001b[36m(markers_ray pid=36712)\u001b[0m 2023-03-06 18:49:29,937 cisTopic     INFO     hydrop_sampleA_Cytotoxic T cell_VS_hydrop_sampleB_Cytotoxic T cell done!\n",
      "\u001b[2m\u001b[36m(markers_ray pid=36712)\u001b[0m 2023-03-06 18:51:41,814 cisTopic     INFO     Formatting data for hydrop_sampleB_Cytotoxic T cell_VS_hydrop_sampleA_Cytotoxic T cell\n",
      "\u001b[2m\u001b[36m(markers_ray pid=36712)\u001b[0m 2023-03-06 18:51:47,342 cisTopic     INFO     Computing p-value for hydrop_sampleB_Cytotoxic T cell_VS_hydrop_sampleA_Cytotoxic T cell\n",
      "\u001b[2m\u001b[36m(markers_ray pid=36712)\u001b[0m 2023-03-06 18:52:25,395 cisTopic     INFO     Computing log2FC for hydrop_sampleB_Cytotoxic T cell_VS_hydrop_sampleA_Cytotoxic T cell\n",
      "\u001b[2m\u001b[36m(markers_ray pid=36712)\u001b[0m 2023-03-06 18:52:28,040 cisTopic     INFO     hydrop_sampleB_Cytotoxic T cell_VS_hydrop_sampleA_Cytotoxic T cell done!\n",
      "\u001b[2m\u001b[36m(markers_ray pid=36712)\u001b[0m 2023-03-06 18:54:36,167 cisTopic     INFO     Formatting data for hydrop_sampleA_CD4+ T cell_VS_hydrop_sampleB_CD4+ T cell\n",
      "\u001b[2m\u001b[36m(markers_ray pid=36712)\u001b[0m 2023-03-06 18:54:42,811 cisTopic     INFO     Computing p-value for hydrop_sampleA_CD4+ T cell_VS_hydrop_sampleB_CD4+ T cell\n"
     ]
    },
    {
     "name": "stderr",
     "output_type": "stream",
     "text": [
      "\u001b[2m\u001b[36m(raylet)\u001b[0m Spilled 145937 MiB, 37 objects, write throughput 878 MiB/s.\n"
     ]
    },
    {
     "name": "stdout",
     "output_type": "stream",
     "text": [
      "\u001b[2m\u001b[36m(markers_ray pid=36712)\u001b[0m 2023-03-06 18:55:33,732 cisTopic     INFO     Computing log2FC for hydrop_sampleA_CD4+ T cell_VS_hydrop_sampleB_CD4+ T cell\n",
      "\u001b[2m\u001b[36m(markers_ray pid=36712)\u001b[0m 2023-03-06 18:55:34,997 cisTopic     INFO     hydrop_sampleA_CD4+ T cell_VS_hydrop_sampleB_CD4+ T cell done!\n",
      "\u001b[2m\u001b[36m(markers_ray pid=36712)\u001b[0m 2023-03-06 18:58:04,901 cisTopic     INFO     Formatting data for hydrop_sampleB_CD4+ T cell_VS_hydrop_sampleA_CD4+ T cell\n",
      "\u001b[2m\u001b[36m(markers_ray pid=36712)\u001b[0m 2023-03-06 18:58:10,515 cisTopic     INFO     Computing p-value for hydrop_sampleB_CD4+ T cell_VS_hydrop_sampleA_CD4+ T cell\n",
      "\u001b[2m\u001b[36m(markers_ray pid=36712)\u001b[0m 2023-03-06 18:59:01,137 cisTopic     INFO     Computing log2FC for hydrop_sampleB_CD4+ T cell_VS_hydrop_sampleA_CD4+ T cell\n",
      "\u001b[2m\u001b[36m(markers_ray pid=36712)\u001b[0m 2023-03-06 18:59:02,376 cisTopic     INFO     hydrop_sampleB_CD4+ T cell_VS_hydrop_sampleA_CD4+ T cell done!\n",
      "\u001b[2m\u001b[36m(markers_ray pid=36712)\u001b[0m 2023-03-06 19:00:59,638 cisTopic     INFO     Formatting data for hydrop_sampleA_Natural killer cell_VS_hydrop_sampleB_Natural killer cell\n",
      "\u001b[2m\u001b[36m(markers_ray pid=36712)\u001b[0m 2023-03-06 19:01:01,887 cisTopic     INFO     Computing p-value for hydrop_sampleA_Natural killer cell_VS_hydrop_sampleB_Natural killer cell\n",
      "\u001b[2m\u001b[36m(markers_ray pid=36712)\u001b[0m 2023-03-06 19:01:33,379 cisTopic     INFO     Computing log2FC for hydrop_sampleA_Natural killer cell_VS_hydrop_sampleB_Natural killer cell\n",
      "\u001b[2m\u001b[36m(markers_ray pid=36712)\u001b[0m 2023-03-06 19:01:34,479 cisTopic     INFO     hydrop_sampleA_Natural killer cell_VS_hydrop_sampleB_Natural killer cell done!\n",
      "\u001b[2m\u001b[36m(markers_ray pid=36712)\u001b[0m 2023-03-06 19:03:53,506 cisTopic     INFO     Formatting data for hydrop_sampleB_Natural killer cell_VS_hydrop_sampleA_Natural killer cell\n",
      "\u001b[2m\u001b[36m(markers_ray pid=36712)\u001b[0m 2023-03-06 19:03:57,065 cisTopic     INFO     Computing p-value for hydrop_sampleB_Natural killer cell_VS_hydrop_sampleA_Natural killer cell\n",
      "\u001b[2m\u001b[36m(markers_ray pid=36712)\u001b[0m 2023-03-06 19:04:27,511 cisTopic     INFO     Computing log2FC for hydrop_sampleB_Natural killer cell_VS_hydrop_sampleA_Natural killer cell\n",
      "\u001b[2m\u001b[36m(markers_ray pid=36712)\u001b[0m 2023-03-06 19:04:30,073 cisTopic     INFO     hydrop_sampleB_Natural killer cell_VS_hydrop_sampleA_Natural killer cell done!\n",
      "\u001b[2m\u001b[36m(markers_ray pid=36712)\u001b[0m 2023-03-06 19:06:48,366 cisTopic     INFO     Formatting data for hydrop_sampleA_CD14+ monocyte_VS_hydrop_sampleB_CD14+ monocyte\n",
      "\u001b[2m\u001b[36m(markers_ray pid=36712)\u001b[0m 2023-03-06 19:06:52,561 cisTopic     INFO     Computing p-value for hydrop_sampleA_CD14+ monocyte_VS_hydrop_sampleB_CD14+ monocyte\n",
      "\u001b[2m\u001b[36m(markers_ray pid=36712)\u001b[0m 2023-03-06 19:07:34,354 cisTopic     INFO     Computing log2FC for hydrop_sampleA_CD14+ monocyte_VS_hydrop_sampleB_CD14+ monocyte\n",
      "\u001b[2m\u001b[36m(markers_ray pid=36712)\u001b[0m 2023-03-06 19:07:37,507 cisTopic     INFO     hydrop_sampleA_CD14+ monocyte_VS_hydrop_sampleB_CD14+ monocyte done!\n",
      "\u001b[2m\u001b[36m(markers_ray pid=36712)\u001b[0m 2023-03-06 19:09:44,112 cisTopic     INFO     Formatting data for hydrop_sampleB_CD14+ monocyte_VS_hydrop_sampleA_CD14+ monocyte\n",
      "\u001b[2m\u001b[36m(markers_ray pid=36712)\u001b[0m 2023-03-06 19:09:49,226 cisTopic     INFO     Computing p-value for hydrop_sampleB_CD14+ monocyte_VS_hydrop_sampleA_CD14+ monocyte\n",
      "\u001b[2m\u001b[36m(markers_ray pid=36712)\u001b[0m 2023-03-06 19:10:32,571 cisTopic     INFO     Computing log2FC for hydrop_sampleB_CD14+ monocyte_VS_hydrop_sampleA_CD14+ monocyte\n",
      "\u001b[2m\u001b[36m(markers_ray pid=36712)\u001b[0m 2023-03-06 19:10:33,802 cisTopic     INFO     hydrop_sampleB_CD14+ monocyte_VS_hydrop_sampleA_CD14+ monocyte done!\n",
      "\u001b[2m\u001b[36m(markers_ray pid=36712)\u001b[0m 2023-03-06 19:13:12,528 cisTopic     INFO     Formatting data for hydrop_sampleA_B cell_VS_hydrop_sampleB_B cell\n",
      "\u001b[2m\u001b[36m(markers_ray pid=36712)\u001b[0m 2023-03-06 19:13:15,591 cisTopic     INFO     Computing p-value for hydrop_sampleA_B cell_VS_hydrop_sampleB_B cell\n",
      "\u001b[2m\u001b[36m(markers_ray pid=36712)\u001b[0m 2023-03-06 19:13:49,085 cisTopic     INFO     Computing log2FC for hydrop_sampleA_B cell_VS_hydrop_sampleB_B cell\n",
      "\u001b[2m\u001b[36m(markers_ray pid=36712)\u001b[0m 2023-03-06 19:13:50,219 cisTopic     INFO     hydrop_sampleA_B cell_VS_hydrop_sampleB_B cell done!\n",
      "\u001b[2m\u001b[36m(markers_ray pid=36712)\u001b[0m 2023-03-06 19:16:09,146 cisTopic     INFO     Formatting data for hydrop_sampleB_B cell_VS_hydrop_sampleA_B cell\n",
      "\u001b[2m\u001b[36m(markers_ray pid=36712)\u001b[0m 2023-03-06 19:16:13,256 cisTopic     INFO     Computing p-value for hydrop_sampleB_B cell_VS_hydrop_sampleA_B cell\n",
      "\u001b[2m\u001b[36m(markers_ray pid=36712)\u001b[0m 2023-03-06 19:16:52,666 cisTopic     INFO     Computing log2FC for hydrop_sampleB_B cell_VS_hydrop_sampleA_B cell\n",
      "\u001b[2m\u001b[36m(markers_ray pid=36712)\u001b[0m 2023-03-06 19:16:53,782 cisTopic     INFO     hydrop_sampleB_B cell_VS_hydrop_sampleA_B cell done!\n",
      "\u001b[2m\u001b[36m(markers_ray pid=36712)\u001b[0m 2023-03-06 19:19:06,044 cisTopic     INFO     Formatting data for hydrop_sampleA_CD16+ monocyte_VS_hydrop_sampleB_CD16+ monocyte\n",
      "\u001b[2m\u001b[36m(markers_ray pid=36712)\u001b[0m 2023-03-06 19:19:08,878 cisTopic     INFO     Computing p-value for hydrop_sampleA_CD16+ monocyte_VS_hydrop_sampleB_CD16+ monocyte\n",
      "\u001b[2m\u001b[36m(markers_ray pid=36712)\u001b[0m 2023-03-06 19:19:42,852 cisTopic     INFO     Computing log2FC for hydrop_sampleA_CD16+ monocyte_VS_hydrop_sampleB_CD16+ monocyte\n",
      "\u001b[2m\u001b[36m(markers_ray pid=36712)\u001b[0m 2023-03-06 19:19:45,729 cisTopic     INFO     hydrop_sampleA_CD16+ monocyte_VS_hydrop_sampleB_CD16+ monocyte done!\n",
      "\u001b[2m\u001b[36m(markers_ray pid=36712)\u001b[0m 2023-03-06 19:22:11,480 cisTopic     INFO     Formatting data for hydrop_sampleB_CD16+ monocyte_VS_hydrop_sampleA_CD16+ monocyte\n",
      "\u001b[2m\u001b[36m(markers_ray pid=36712)\u001b[0m 2023-03-06 19:22:13,382 cisTopic     INFO     Computing p-value for hydrop_sampleB_CD16+ monocyte_VS_hydrop_sampleA_CD16+ monocyte\n",
      "\u001b[2m\u001b[36m(markers_ray pid=36712)\u001b[0m 2023-03-06 19:22:44,511 cisTopic     INFO     Computing log2FC for hydrop_sampleB_CD16+ monocyte_VS_hydrop_sampleA_CD16+ monocyte\n",
      "\u001b[2m\u001b[36m(markers_ray pid=36712)\u001b[0m 2023-03-06 19:22:45,585 cisTopic     INFO     hydrop_sampleB_CD16+ monocyte_VS_hydrop_sampleA_CD16+ monocyte done!\n",
      "\u001b[2m\u001b[36m(markers_ray pid=36712)\u001b[0m 2023-03-06 19:25:12,307 cisTopic     INFO     Formatting data for hydrop_sampleA_Dendritic cell_VS_hydrop_sampleB_Dendritic cell\n",
      "\u001b[2m\u001b[36m(markers_ray pid=36712)\u001b[0m 2023-03-06 19:25:16,811 cisTopic     INFO     Computing p-value for hydrop_sampleA_Dendritic cell_VS_hydrop_sampleB_Dendritic cell\n",
      "\u001b[2m\u001b[36m(markers_ray pid=36712)\u001b[0m 2023-03-06 19:25:50,175 cisTopic     INFO     Computing log2FC for hydrop_sampleA_Dendritic cell_VS_hydrop_sampleB_Dendritic cell\n",
      "\u001b[2m\u001b[36m(markers_ray pid=36712)\u001b[0m 2023-03-06 19:25:53,451 cisTopic     INFO     hydrop_sampleA_Dendritic cell_VS_hydrop_sampleB_Dendritic cell done!\n",
      "\u001b[2m\u001b[36m(markers_ray pid=36712)\u001b[0m 2023-03-06 19:28:40,884 cisTopic     INFO     Formatting data for hydrop_sampleB_Dendritic cell_VS_hydrop_sampleA_Dendritic cell\n",
      "\u001b[2m\u001b[36m(markers_ray pid=36712)\u001b[0m 2023-03-06 19:28:42,973 cisTopic     INFO     Computing p-value for hydrop_sampleB_Dendritic cell_VS_hydrop_sampleA_Dendritic cell\n",
      "\u001b[2m\u001b[36m(markers_ray pid=36712)\u001b[0m 2023-03-06 19:29:14,137 cisTopic     INFO     Computing log2FC for hydrop_sampleB_Dendritic cell_VS_hydrop_sampleA_Dendritic cell\n",
      "\u001b[2m\u001b[36m(markers_ray pid=36712)\u001b[0m 2023-03-06 19:29:16,986 cisTopic     INFO     hydrop_sampleB_Dendritic cell_VS_hydrop_sampleA_Dendritic cell done!\n",
      "\u001b[2m\u001b[36m(markers_ray pid=36712)\u001b[0m 2023-03-06 19:31:36,801 cisTopic     INFO     Formatting data for 10xv2_sampleA_Cytotoxic T cell_VS_10xv2_sampleB_Cytotoxic T cell\n",
      "\u001b[2m\u001b[36m(markers_ray pid=36712)\u001b[0m 2023-03-06 19:31:40,459 cisTopic     INFO     Computing p-value for 10xv2_sampleA_Cytotoxic T cell_VS_10xv2_sampleB_Cytotoxic T cell\n",
      "\u001b[2m\u001b[36m(markers_ray pid=36712)\u001b[0m 2023-03-06 19:32:19,212 cisTopic     INFO     Computing log2FC for 10xv2_sampleA_Cytotoxic T cell_VS_10xv2_sampleB_Cytotoxic T cell\n",
      "\u001b[2m\u001b[36m(markers_ray pid=36712)\u001b[0m 2023-03-06 19:32:22,246 cisTopic     INFO     10xv2_sampleA_Cytotoxic T cell_VS_10xv2_sampleB_Cytotoxic T cell done!\n"
     ]
    }
   ],
   "source": [
    "outpath=f\"downstream_analysis_male_female_countfair/DARs/{sample}__DARs_dict_1-0xfc.pkl\"\n",
    "markers_dict = find_diff_features(\n",
    "    cto,\n",
    "    normalized_imputed_acc_obj,\n",
    "    variable='tech_fmx_sample_harmony_consensus_cell_type__mega',\n",
    "    var_features=variable_regions,\n",
    "    contrasts=contrasts,\n",
    "    adjpval_thr=0.05,\n",
    "    log2fc_thr=np.log2(1),\n",
    "    n_cpu=16,\n",
    ")\n",
    "with open(\n",
    "        outpath,'wb'\n",
    ") as f:\n",
    "    pickle.dump(markers_dict, f, protocol=4)\n",
    "\n",
    "for cell_type in markers_dict.keys():\n",
    "    markers = markers_dict[cell_type].index.tolist()\n",
    "    df = pd.DataFrame(markers)\n",
    "    if len(df) == 0:\n",
    "        print(f\"no DARs found for {cell_type} in {sample}\")\n",
    "    else:\n",
    "        df[[0,1]] = df[0].str.split(':',expand=True)\n",
    "        df[[1,2]] = df[1].str.split('-',expand=True)\n",
    "        df[3] = markers_dict[cell_type].index.tolist()\n",
    "        df[3] = cell_type.replace(' ', '_')# + '_' + df[3].astype(str)\n",
    "        score = markers_dict[cell_type]['Log2FC']\n",
    "        score = score.reset_index(drop=True)\n",
    "        df[4] = score\n",
    "        df[5] = '.'\n",
    "        pval = markers_dict[cell_type]['Adjusted_pval']\n",
    "        pval = pval.reset_index(drop=True)\n",
    "        df[6] = pval\n",
    "        name = cell_type.replace(' ', '_')\n",
    "        # name = name.replace('/', '-')\n",
    "        if not os.path.exists(f'downstream_analysis_male_female_countfair/DARs/'):\n",
    "            os.mkdir(f'downstream_analysis_male_female_countfair/DARs/')\n",
    "\n",
    "        df.to_csv(f'downstream_analysis_male_female_countfair/DARs/{sample}__{cell_type.replace(\" \", \"_\")}__DARs_1-0xfc.bed', sep='\\t', header=False, index=False)\n",
    "        df[0:2000].to_csv(f'downstream_analysis_male_female_countfair/DARs/{sample}__{cell_type.replace(\" \", \"_\")}__DARs_1-0xfc.TOP2k.bed', sep='\\t', header=False, index=False)"
   ]
  },
  {
   "cell_type": "code",
   "execution_count": null,
   "id": "ee3ed413-ddb1-4b9b-9908-267eca261915",
   "metadata": {
    "tags": []
   },
   "outputs": [],
   "source": [
    "with open(\n",
    "        \"downstream_analysis_male_female_countfair/cto_male_female_cellcountfair.pkl\",'wb'\n",
    ") as f:\n",
    "    pickle.dump(cto, f, protocol=4)"
   ]
  },
  {
   "cell_type": "code",
   "execution_count": null,
   "id": "1072815d-70c1-469b-b319-f0888c8a7a18",
   "metadata": {},
   "outputs": [],
   "source": []
  }
 ],
 "metadata": {
  "kernelspec": {
   "display_name": "20221014_pycistopic.sif",
   "language": "python",
   "name": "cistopic_20221014"
  },
  "language_info": {
   "codemirror_mode": {
    "name": "ipython",
    "version": 3
   },
   "file_extension": ".py",
   "mimetype": "text/x-python",
   "name": "python",
   "nbconvert_exporter": "python",
   "pygments_lexer": "ipython3",
   "version": "3.8.15"
  }
 },
 "nbformat": 4,
 "nbformat_minor": 5
}

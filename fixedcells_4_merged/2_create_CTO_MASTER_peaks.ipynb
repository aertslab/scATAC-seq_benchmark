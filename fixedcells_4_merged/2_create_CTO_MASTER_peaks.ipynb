{
 "cells": [
  {
   "cell_type": "markdown",
   "id": "d3b4cf61",
   "metadata": {
    "papermill": {
     "duration": 0.008024,
     "end_time": "2022-09-28T14:39:02.971567",
     "exception": false,
     "start_time": "2022-09-28T14:39:02.963543",
     "status": "completed"
    },
    "pycharm": {
     "name": "#%% md\n"
    },
    "tags": []
   },
   "source": [
    "# pycisTopic analysis\n",
    "\n",
    "Downsampled dataset, using MASTER peaks."
   ]
  },
  {
   "cell_type": "code",
   "execution_count": 2,
   "id": "b40b9d19",
   "metadata": {
    "execution": {
     "iopub.execute_input": "2022-12-20T10:50:01.633561Z",
     "iopub.status.busy": "2022-12-20T10:50:01.632675Z",
     "iopub.status.idle": "2022-12-20T10:50:01.995294Z",
     "shell.execute_reply": "2022-12-20T10:50:01.993217Z",
     "shell.execute_reply.started": "2022-12-20T10:50:01.633502Z"
    },
    "papermill": {
     "duration": 0.340281,
     "end_time": "2022-09-28T14:39:03.318526",
     "exception": false,
     "start_time": "2022-09-28T14:39:02.978245",
     "status": "completed"
    },
    "pycharm": {
     "name": "#%%\n"
    },
    "tags": []
   },
   "outputs": [
    {
     "data": {
      "application/javascript": [
       "\n",
       "            setTimeout(function() {\n",
       "                var nbb_cell_id = 2;\n",
       "                var nbb_unformatted_code = \"import warnings\\nwarnings.filterwarnings('ignore')\\nwarnings.simplefilter('ignore')\\n\\nimport pickle\\nimport os\\nimport glob\\n%load_ext nb_black\";\n",
       "                var nbb_formatted_code = \"import warnings\\n\\nwarnings.filterwarnings(\\\"ignore\\\")\\nwarnings.simplefilter(\\\"ignore\\\")\\n\\nimport pickle\\nimport os\\nimport glob\\n\\n%load_ext nb_black\";\n",
       "                var nbb_cells = Jupyter.notebook.get_cells();\n",
       "                for (var i = 0; i < nbb_cells.length; ++i) {\n",
       "                    if (nbb_cells[i].input_prompt_number == nbb_cell_id) {\n",
       "                        if (nbb_cells[i].get_text() == nbb_unformatted_code) {\n",
       "                             nbb_cells[i].set_text(nbb_formatted_code);\n",
       "                        }\n",
       "                        break;\n",
       "                    }\n",
       "                }\n",
       "            }, 500);\n",
       "            "
      ],
      "text/plain": [
       "<IPython.core.display.Javascript object>"
      ]
     },
     "metadata": {},
     "output_type": "display_data"
    }
   ],
   "source": [
    "import warnings\n",
    "warnings.filterwarnings('ignore')\n",
    "warnings.simplefilter('ignore')\n",
    "\n",
    "import pickle\n",
    "import os\n",
    "import glob\n",
    "%load_ext nb_black"
   ]
  },
  {
   "cell_type": "code",
   "execution_count": 2,
   "id": "75a47a77",
   "metadata": {
    "execution": {
     "iopub.execute_input": "2022-09-28T14:39:03.333811Z",
     "iopub.status.busy": "2022-09-28T14:39:03.333332Z",
     "iopub.status.idle": "2022-09-28T14:39:03.606151Z",
     "shell.execute_reply": "2022-09-28T14:39:03.605382Z"
    },
    "papermill": {
     "duration": 0.280803,
     "end_time": "2022-09-28T14:39:03.607153",
     "exception": false,
     "start_time": "2022-09-28T14:39:03.326350",
     "status": "completed"
    },
    "pycharm": {
     "name": "#%%\n"
    },
    "tags": []
   },
   "outputs": [
    {
     "name": "stdout",
     "output_type": "stream",
     "text": [
      "/dodrio/scratch/projects/starting_2022_023/benchmark/scatac_benchmark/fixedcells_4_merged\n"
     ]
    },
    {
     "data": {
      "application/javascript": [
       "\n",
       "            setTimeout(function() {\n",
       "                var nbb_cell_id = 2;\n",
       "                var nbb_unformatted_code = \"!pwd\";\n",
       "                var nbb_formatted_code = \"!pwd\";\n",
       "                var nbb_cells = Jupyter.notebook.get_cells();\n",
       "                for (var i = 0; i < nbb_cells.length; ++i) {\n",
       "                    if (nbb_cells[i].input_prompt_number == nbb_cell_id) {\n",
       "                        if (nbb_cells[i].get_text() == nbb_unformatted_code) {\n",
       "                             nbb_cells[i].set_text(nbb_formatted_code);\n",
       "                        }\n",
       "                        break;\n",
       "                    }\n",
       "                }\n",
       "            }, 500);\n",
       "            "
      ],
      "text/plain": [
       "<IPython.core.display.Javascript object>"
      ]
     },
     "metadata": {},
     "output_type": "display_data"
    }
   ],
   "source": [
    "!pwd"
   ]
  },
  {
   "cell_type": "code",
   "execution_count": 3,
   "id": "3c99fd5e",
   "metadata": {
    "execution": {
     "iopub.execute_input": "2022-09-28T14:39:03.621744Z",
     "iopub.status.busy": "2022-09-28T14:39:03.621546Z",
     "iopub.status.idle": "2022-09-28T14:39:03.627431Z",
     "shell.execute_reply": "2022-09-28T14:39:03.626787Z"
    },
    "papermill": {
     "duration": 0.014273,
     "end_time": "2022-09-28T14:39:03.628457",
     "exception": false,
     "start_time": "2022-09-28T14:39:03.614184",
     "status": "completed"
    },
    "pycharm": {
     "name": "#%%\n"
    },
    "tags": []
   },
   "outputs": [
    {
     "data": {
      "application/javascript": [
       "\n",
       "            setTimeout(function() {\n",
       "                var nbb_cell_id = 3;\n",
       "                var nbb_unformatted_code = \"wdir = '/dodrio/scratch/projects/starting_2022_023/benchmark/scatac_benchmark/fixedcells_4_merged'\\nos.chdir(wdir)\";\n",
       "                var nbb_formatted_code = \"wdir = \\\"/dodrio/scratch/projects/starting_2022_023/benchmark/scatac_benchmark/fixedcells_4_merged\\\"\\nos.chdir(wdir)\";\n",
       "                var nbb_cells = Jupyter.notebook.get_cells();\n",
       "                for (var i = 0; i < nbb_cells.length; ++i) {\n",
       "                    if (nbb_cells[i].input_prompt_number == nbb_cell_id) {\n",
       "                        if (nbb_cells[i].get_text() == nbb_unformatted_code) {\n",
       "                             nbb_cells[i].set_text(nbb_formatted_code);\n",
       "                        }\n",
       "                        break;\n",
       "                    }\n",
       "                }\n",
       "            }, 500);\n",
       "            "
      ],
      "text/plain": [
       "<IPython.core.display.Javascript object>"
      ]
     },
     "metadata": {},
     "output_type": "display_data"
    }
   ],
   "source": [
    "wdir = f'/dodrio/scratch/projects/starting_2022_023/benchmark/scatac_benchmark/fixedcells_4_merged'\n",
    "os.chdir(wdir)"
   ]
  },
  {
   "cell_type": "markdown",
   "id": "b6b38e0a",
   "metadata": {
    "papermill": {
     "duration": 0.006386,
     "end_time": "2022-09-28T14:39:03.641437",
     "exception": false,
     "start_time": "2022-09-28T14:39:03.635051",
     "status": "completed"
    },
    "pycharm": {
     "name": "#%% md\n"
    },
    "tags": []
   },
   "source": [
    "## Create the cisTopic objects for each sample"
   ]
  },
  {
   "cell_type": "markdown",
   "id": "023fac9d",
   "metadata": {
    "papermill": {
     "duration": 0.006405,
     "end_time": "2022-09-28T14:39:03.654303",
     "exception": false,
     "start_time": "2022-09-28T14:39:03.647898",
     "status": "completed"
    },
    "pycharm": {
     "name": "#%% md\n"
    },
    "tags": []
   },
   "source": [
    "Make a new output dir"
   ]
  },
  {
   "cell_type": "code",
   "execution_count": 4,
   "id": "c2708136",
   "metadata": {
    "execution": {
     "iopub.execute_input": "2022-09-28T14:39:03.668559Z",
     "iopub.status.busy": "2022-09-28T14:39:03.667999Z",
     "iopub.status.idle": "2022-09-28T14:39:03.675092Z",
     "shell.execute_reply": "2022-09-28T14:39:03.674499Z"
    },
    "papermill": {
     "duration": 0.015168,
     "end_time": "2022-09-28T14:39:03.676096",
     "exception": false,
     "start_time": "2022-09-28T14:39:03.660928",
     "status": "completed"
    },
    "pycharm": {
     "name": "#%%\n"
    },
    "tags": []
   },
   "outputs": [
    {
     "data": {
      "application/javascript": [
       "\n",
       "            setTimeout(function() {\n",
       "                var nbb_cell_id = 4;\n",
       "                var nbb_unformatted_code = \"cistopic_objects_out = 'cistopic_objects'\\nif not os.path.exists(os.path.join(wdir, cistopic_objects_out)):\\n    os.makedirs(os.path.join(wdir, cistopic_objects_out))\";\n",
       "                var nbb_formatted_code = \"cistopic_objects_out = \\\"cistopic_objects\\\"\\nif not os.path.exists(os.path.join(wdir, cistopic_objects_out)):\\n    os.makedirs(os.path.join(wdir, cistopic_objects_out))\";\n",
       "                var nbb_cells = Jupyter.notebook.get_cells();\n",
       "                for (var i = 0; i < nbb_cells.length; ++i) {\n",
       "                    if (nbb_cells[i].input_prompt_number == nbb_cell_id) {\n",
       "                        if (nbb_cells[i].get_text() == nbb_unformatted_code) {\n",
       "                             nbb_cells[i].set_text(nbb_formatted_code);\n",
       "                        }\n",
       "                        break;\n",
       "                    }\n",
       "                }\n",
       "            }, 500);\n",
       "            "
      ],
      "text/plain": [
       "<IPython.core.display.Javascript object>"
      ]
     },
     "metadata": {},
     "output_type": "display_data"
    }
   ],
   "source": [
    "cistopic_objects_out = 'cistopic_objects'\n",
    "if not os.path.exists(os.path.join(wdir, cistopic_objects_out)):\n",
    "    os.makedirs(os.path.join(wdir, cistopic_objects_out))"
   ]
  },
  {
   "cell_type": "markdown",
   "id": "8d2a55b2",
   "metadata": {
    "papermill": {
     "duration": 0.007263,
     "end_time": "2022-09-28T14:39:03.690338",
     "exception": false,
     "start_time": "2022-09-28T14:39:03.683075",
     "status": "completed"
    },
    "pycharm": {
     "name": "#%% md\n"
    },
    "tags": []
   },
   "source": [
    "Create a dictionary with fragments files for each sample"
   ]
  },
  {
   "cell_type": "code",
   "execution_count": 5,
   "id": "200e1b3f",
   "metadata": {
    "execution": {
     "iopub.execute_input": "2022-09-28T14:39:03.704906Z",
     "iopub.status.busy": "2022-09-28T14:39:03.704465Z",
     "iopub.status.idle": "2022-09-28T14:39:03.716748Z",
     "shell.execute_reply": "2022-09-28T14:39:03.716133Z"
    },
    "papermill": {
     "duration": 0.020657,
     "end_time": "2022-09-28T14:39:03.717760",
     "exception": false,
     "start_time": "2022-09-28T14:39:03.697103",
     "status": "completed"
    },
    "pycharm": {
     "name": "#%%\n"
    },
    "tags": []
   },
   "outputs": [
    {
     "data": {
      "text/plain": [
       "{'BIO_ddseq_1.FIXEDCELLS': '../1_data_repository/fixedcells_fragments/BIO_ddseq_1.FIXEDCELLS.fragments.tsv.gz',\n",
       " 'BIO_ddseq_2.FIXEDCELLS': '../1_data_repository/fixedcells_fragments/BIO_ddseq_2.FIXEDCELLS.fragments.tsv.gz',\n",
       " 'BIO_ddseq_3.FIXEDCELLS': '../1_data_repository/fixedcells_fragments/BIO_ddseq_3.FIXEDCELLS.fragments.tsv.gz',\n",
       " 'BIO_ddseq_4.FIXEDCELLS': '../1_data_repository/fixedcells_fragments/BIO_ddseq_4.FIXEDCELLS.fragments.tsv.gz',\n",
       " 'BRO_mtscatac_1.FIXEDCELLS': '../1_data_repository/fixedcells_fragments/BRO_mtscatac_1.FIXEDCELLS.fragments.tsv.gz',\n",
       " 'BRO_mtscatac_2.FIXEDCELLS': '../1_data_repository/fixedcells_fragments/BRO_mtscatac_2.FIXEDCELLS.fragments.tsv.gz',\n",
       " 'CNA_10xmultiome_1.FIXEDCELLS': '../1_data_repository/fixedcells_fragments/CNA_10xmultiome_1.FIXEDCELLS.fragments.tsv.gz',\n",
       " 'CNA_10xmultiome_2.FIXEDCELLS': '../1_data_repository/fixedcells_fragments/CNA_10xmultiome_2.FIXEDCELLS.fragments.tsv.gz',\n",
       " 'CNA_10xv11_1.FIXEDCELLS': '../1_data_repository/fixedcells_fragments/CNA_10xv11_1.FIXEDCELLS.fragments.tsv.gz',\n",
       " 'CNA_10xv11_2.FIXEDCELLS': '../1_data_repository/fixedcells_fragments/CNA_10xv11_2.FIXEDCELLS.fragments.tsv.gz',\n",
       " 'CNA_10xv11_3.FIXEDCELLS': '../1_data_repository/fixedcells_fragments/CNA_10xv11_3.FIXEDCELLS.fragments.tsv.gz',\n",
       " 'CNA_10xv11_4.FIXEDCELLS': '../1_data_repository/fixedcells_fragments/CNA_10xv11_4.FIXEDCELLS.fragments.tsv.gz',\n",
       " 'CNA_10xv11_5.FIXEDCELLS': '../1_data_repository/fixedcells_fragments/CNA_10xv11_5.FIXEDCELLS.fragments.tsv.gz',\n",
       " 'CNA_10xv2_1.FIXEDCELLS': '../1_data_repository/fixedcells_fragments/CNA_10xv2_1.FIXEDCELLS.fragments.tsv.gz',\n",
       " 'CNA_10xv2_2.FIXEDCELLS': '../1_data_repository/fixedcells_fragments/CNA_10xv2_2.FIXEDCELLS.fragments.tsv.gz',\n",
       " 'CNA_hydrop_1.FIXEDCELLS': '../1_data_repository/fixedcells_fragments/CNA_hydrop_1.FIXEDCELLS.fragments.tsv.gz',\n",
       " 'CNA_hydrop_2.FIXEDCELLS': '../1_data_repository/fixedcells_fragments/CNA_hydrop_2.FIXEDCELLS.fragments.tsv.gz',\n",
       " 'CNA_hydrop_3.FIXEDCELLS': '../1_data_repository/fixedcells_fragments/CNA_hydrop_3.FIXEDCELLS.fragments.tsv.gz',\n",
       " 'CNA_mtscatac_1.FIXEDCELLS': '../1_data_repository/fixedcells_fragments/CNA_mtscatac_1.FIXEDCELLS.fragments.tsv.gz',\n",
       " 'CNA_mtscatac_2.FIXEDCELLS': '../1_data_repository/fixedcells_fragments/CNA_mtscatac_2.FIXEDCELLS.fragments.tsv.gz',\n",
       " 'EPF_hydrop_1.FIXEDCELLS': '../1_data_repository/fixedcells_fragments/EPF_hydrop_1.FIXEDCELLS.fragments.tsv.gz',\n",
       " 'EPF_hydrop_2.FIXEDCELLS': '../1_data_repository/fixedcells_fragments/EPF_hydrop_2.FIXEDCELLS.fragments.tsv.gz',\n",
       " 'EPF_hydrop_3.FIXEDCELLS': '../1_data_repository/fixedcells_fragments/EPF_hydrop_3.FIXEDCELLS.fragments.tsv.gz',\n",
       " 'EPF_hydrop_4.FIXEDCELLS': '../1_data_repository/fixedcells_fragments/EPF_hydrop_4.FIXEDCELLS.fragments.tsv.gz',\n",
       " 'HAR_ddseq_1.FIXEDCELLS': '../1_data_repository/fixedcells_fragments/HAR_ddseq_1.FIXEDCELLS.fragments.tsv.gz',\n",
       " 'HAR_ddseq_2.FIXEDCELLS': '../1_data_repository/fixedcells_fragments/HAR_ddseq_2.FIXEDCELLS.fragments.tsv.gz',\n",
       " 'MDC_mtscatac_1.FIXEDCELLS': '../1_data_repository/fixedcells_fragments/MDC_mtscatac_1.FIXEDCELLS.fragments.tsv.gz',\n",
       " 'MDC_mtscatac_2.FIXEDCELLS': '../1_data_repository/fixedcells_fragments/MDC_mtscatac_2.FIXEDCELLS.fragments.tsv.gz',\n",
       " 'OHS_s3atac_1.FIXEDCELLS': '../1_data_repository/fixedcells_fragments/OHS_s3atac_1.FIXEDCELLS.fragments.tsv.gz',\n",
       " 'OHS_s3atac_2.FIXEDCELLS': '../1_data_repository/fixedcells_fragments/OHS_s3atac_2.FIXEDCELLS.fragments.tsv.gz',\n",
       " 'SAN_10xmultiome_1.FIXEDCELLS': '../1_data_repository/fixedcells_fragments/SAN_10xmultiome_1.FIXEDCELLS.fragments.tsv.gz',\n",
       " 'SAN_10xmultiome_2.FIXEDCELLS': '../1_data_repository/fixedcells_fragments/SAN_10xmultiome_2.FIXEDCELLS.fragments.tsv.gz',\n",
       " 'STA_10xv11_1.FIXEDCELLS': '../1_data_repository/fixedcells_fragments/STA_10xv11_1.FIXEDCELLS.fragments.tsv.gz',\n",
       " 'STA_10xv11_2.FIXEDCELLS': '../1_data_repository/fixedcells_fragments/STA_10xv11_2.FIXEDCELLS.fragments.tsv.gz',\n",
       " 'TXG_10xv11_1.FIXEDCELLS': '../1_data_repository/fixedcells_fragments/TXG_10xv11_1.FIXEDCELLS.fragments.tsv.gz',\n",
       " 'TXG_10xv2_1.FIXEDCELLS': '../1_data_repository/fixedcells_fragments/TXG_10xv2_1.FIXEDCELLS.fragments.tsv.gz',\n",
       " 'TXG_10xv2_2.FIXEDCELLS': '../1_data_repository/fixedcells_fragments/TXG_10xv2_2.FIXEDCELLS.fragments.tsv.gz',\n",
       " 'UCS_ddseq_1.FIXEDCELLS': '../1_data_repository/fixedcells_fragments/UCS_ddseq_1.FIXEDCELLS.fragments.tsv.gz',\n",
       " 'UCS_ddseq_2.FIXEDCELLS': '../1_data_repository/fixedcells_fragments/UCS_ddseq_2.FIXEDCELLS.fragments.tsv.gz',\n",
       " 'VIB_10xmultiome_1.FIXEDCELLS': '../1_data_repository/fixedcells_fragments/VIB_10xmultiome_1.FIXEDCELLS.fragments.tsv.gz',\n",
       " 'VIB_10xmultiome_2.FIXEDCELLS': '../1_data_repository/fixedcells_fragments/VIB_10xmultiome_2.FIXEDCELLS.fragments.tsv.gz',\n",
       " 'VIB_10xv1_1.FIXEDCELLS': '../1_data_repository/fixedcells_fragments/VIB_10xv1_1.FIXEDCELLS.fragments.tsv.gz',\n",
       " 'VIB_10xv1_2.FIXEDCELLS': '../1_data_repository/fixedcells_fragments/VIB_10xv1_2.FIXEDCELLS.fragments.tsv.gz',\n",
       " 'VIB_10xv2_1.FIXEDCELLS': '../1_data_repository/fixedcells_fragments/VIB_10xv2_1.FIXEDCELLS.fragments.tsv.gz',\n",
       " 'VIB_10xv2_2.FIXEDCELLS': '../1_data_repository/fixedcells_fragments/VIB_10xv2_2.FIXEDCELLS.fragments.tsv.gz',\n",
       " 'VIB_hydrop_1.FIXEDCELLS': '../1_data_repository/fixedcells_fragments/VIB_hydrop_1.FIXEDCELLS.fragments.tsv.gz',\n",
       " 'VIB_hydrop_11.FIXEDCELLS': '../1_data_repository/fixedcells_fragments/VIB_hydrop_11.FIXEDCELLS.fragments.tsv.gz',\n",
       " 'VIB_hydrop_12.FIXEDCELLS': '../1_data_repository/fixedcells_fragments/VIB_hydrop_12.FIXEDCELLS.fragments.tsv.gz',\n",
       " 'VIB_hydrop_2.FIXEDCELLS': '../1_data_repository/fixedcells_fragments/VIB_hydrop_2.FIXEDCELLS.fragments.tsv.gz',\n",
       " 'VIB_hydrop_21.FIXEDCELLS': '../1_data_repository/fixedcells_fragments/VIB_hydrop_21.FIXEDCELLS.fragments.tsv.gz',\n",
       " 'VIB_hydrop_22.FIXEDCELLS': '../1_data_repository/fixedcells_fragments/VIB_hydrop_22.FIXEDCELLS.fragments.tsv.gz'}"
      ]
     },
     "execution_count": 5,
     "metadata": {},
     "output_type": "execute_result"
    },
    {
     "data": {
      "application/javascript": [
       "\n",
       "            setTimeout(function() {\n",
       "                var nbb_cell_id = 5;\n",
       "                var nbb_unformatted_code = \"filenames = sorted(glob.glob('../1_data_repository/fixedcells_fragments/*.fragments.tsv.gz'))\\nfragments_dict = {}\\nfor filename in filenames:\\n    sample = filename.split('/')[-1].split('.fragments.tsv.gz')[0]\\n    fragments_dict[sample] = filename\\nfragments_dict\";\n",
       "                var nbb_formatted_code = \"filenames = sorted(\\n    glob.glob(\\\"../1_data_repository/fixedcells_fragments/*.fragments.tsv.gz\\\")\\n)\\nfragments_dict = {}\\nfor filename in filenames:\\n    sample = filename.split(\\\"/\\\")[-1].split(\\\".fragments.tsv.gz\\\")[0]\\n    fragments_dict[sample] = filename\\nfragments_dict\";\n",
       "                var nbb_cells = Jupyter.notebook.get_cells();\n",
       "                for (var i = 0; i < nbb_cells.length; ++i) {\n",
       "                    if (nbb_cells[i].input_prompt_number == nbb_cell_id) {\n",
       "                        if (nbb_cells[i].get_text() == nbb_unformatted_code) {\n",
       "                             nbb_cells[i].set_text(nbb_formatted_code);\n",
       "                        }\n",
       "                        break;\n",
       "                    }\n",
       "                }\n",
       "            }, 500);\n",
       "            "
      ],
      "text/plain": [
       "<IPython.core.display.Javascript object>"
      ]
     },
     "metadata": {},
     "output_type": "display_data"
    }
   ],
   "source": [
    "filenames = sorted(glob.glob('../1_data_repository/fixedcells_fragments/*.fragments.tsv.gz'))\n",
    "fragments_dict = {}\n",
    "for filename in filenames:\n",
    "    sample = filename.split('/')[-1].split('.fragments.tsv.gz')[0]\n",
    "    fragments_dict[sample] = filename\n",
    "fragments_dict"
   ]
  },
  {
   "cell_type": "code",
   "execution_count": 6,
   "id": "439c19de",
   "metadata": {
    "execution": {
     "iopub.execute_input": "2022-09-28T14:39:03.733352Z",
     "iopub.status.busy": "2022-09-28T14:39:03.732861Z",
     "iopub.status.idle": "2022-09-28T14:39:03.743864Z",
     "shell.execute_reply": "2022-09-28T14:39:03.743278Z"
    },
    "papermill": {
     "duration": 0.019539,
     "end_time": "2022-09-28T14:39:03.744782",
     "exception": false,
     "start_time": "2022-09-28T14:39:03.725243",
     "status": "completed"
    },
    "pycharm": {
     "name": "#%%\n"
    },
    "tags": []
   },
   "outputs": [
    {
     "data": {
      "text/plain": [
       "{'BIO_ddseq_1.FIXEDCELLS': 'cistopic_qc_out_MASTER/BIO_ddseq_1.FIXEDCELLS__metadata_bc.pkl',\n",
       " 'BIO_ddseq_2.FIXEDCELLS': 'cistopic_qc_out_MASTER/BIO_ddseq_2.FIXEDCELLS__metadata_bc.pkl',\n",
       " 'BIO_ddseq_3.FIXEDCELLS': 'cistopic_qc_out_MASTER/BIO_ddseq_3.FIXEDCELLS__metadata_bc.pkl',\n",
       " 'BIO_ddseq_4.FIXEDCELLS': 'cistopic_qc_out_MASTER/BIO_ddseq_4.FIXEDCELLS__metadata_bc.pkl',\n",
       " 'BRO_mtscatac_1.FIXEDCELLS': 'cistopic_qc_out_MASTER/BRO_mtscatac_1.FIXEDCELLS__metadata_bc.pkl',\n",
       " 'BRO_mtscatac_2.FIXEDCELLS': 'cistopic_qc_out_MASTER/BRO_mtscatac_2.FIXEDCELLS__metadata_bc.pkl',\n",
       " 'CNA_10xmultiome_1.FIXEDCELLS': 'cistopic_qc_out_MASTER/CNA_10xmultiome_1.FIXEDCELLS__metadata_bc.pkl',\n",
       " 'CNA_10xmultiome_2.FIXEDCELLS': 'cistopic_qc_out_MASTER/CNA_10xmultiome_2.FIXEDCELLS__metadata_bc.pkl',\n",
       " 'CNA_10xv11_1.FIXEDCELLS': 'cistopic_qc_out_MASTER/CNA_10xv11_1.FIXEDCELLS__metadata_bc.pkl',\n",
       " 'CNA_10xv11_2.FIXEDCELLS': 'cistopic_qc_out_MASTER/CNA_10xv11_2.FIXEDCELLS__metadata_bc.pkl',\n",
       " 'CNA_10xv11_3.FIXEDCELLS': 'cistopic_qc_out_MASTER/CNA_10xv11_3.FIXEDCELLS__metadata_bc.pkl',\n",
       " 'CNA_10xv11_4.FIXEDCELLS': 'cistopic_qc_out_MASTER/CNA_10xv11_4.FIXEDCELLS__metadata_bc.pkl',\n",
       " 'CNA_10xv11_5.FIXEDCELLS': 'cistopic_qc_out_MASTER/CNA_10xv11_5.FIXEDCELLS__metadata_bc.pkl',\n",
       " 'CNA_10xv2_1.FIXEDCELLS': 'cistopic_qc_out_MASTER/CNA_10xv2_1.FIXEDCELLS__metadata_bc.pkl',\n",
       " 'CNA_10xv2_2.FIXEDCELLS': 'cistopic_qc_out_MASTER/CNA_10xv2_2.FIXEDCELLS__metadata_bc.pkl',\n",
       " 'CNA_hydrop_1.FIXEDCELLS': 'cistopic_qc_out_MASTER/CNA_hydrop_1.FIXEDCELLS__metadata_bc.pkl',\n",
       " 'CNA_hydrop_2.FIXEDCELLS': 'cistopic_qc_out_MASTER/CNA_hydrop_2.FIXEDCELLS__metadata_bc.pkl',\n",
       " 'CNA_hydrop_3.FIXEDCELLS': 'cistopic_qc_out_MASTER/CNA_hydrop_3.FIXEDCELLS__metadata_bc.pkl',\n",
       " 'CNA_mtscatac_1.FIXEDCELLS': 'cistopic_qc_out_MASTER/CNA_mtscatac_1.FIXEDCELLS__metadata_bc.pkl',\n",
       " 'CNA_mtscatac_2.FIXEDCELLS': 'cistopic_qc_out_MASTER/CNA_mtscatac_2.FIXEDCELLS__metadata_bc.pkl',\n",
       " 'EPF_hydrop_1.FIXEDCELLS': 'cistopic_qc_out_MASTER/EPF_hydrop_1.FIXEDCELLS__metadata_bc.pkl',\n",
       " 'EPF_hydrop_2.FIXEDCELLS': 'cistopic_qc_out_MASTER/EPF_hydrop_2.FIXEDCELLS__metadata_bc.pkl',\n",
       " 'EPF_hydrop_3.FIXEDCELLS': 'cistopic_qc_out_MASTER/EPF_hydrop_3.FIXEDCELLS__metadata_bc.pkl',\n",
       " 'EPF_hydrop_4.FIXEDCELLS': 'cistopic_qc_out_MASTER/EPF_hydrop_4.FIXEDCELLS__metadata_bc.pkl',\n",
       " 'HAR_ddseq_1.FIXEDCELLS': 'cistopic_qc_out_MASTER/HAR_ddseq_1.FIXEDCELLS__metadata_bc.pkl',\n",
       " 'HAR_ddseq_2.FIXEDCELLS': 'cistopic_qc_out_MASTER/HAR_ddseq_2.FIXEDCELLS__metadata_bc.pkl',\n",
       " 'MDC_mtscatac_1.FIXEDCELLS': 'cistopic_qc_out_MASTER/MDC_mtscatac_1.FIXEDCELLS__metadata_bc.pkl',\n",
       " 'MDC_mtscatac_2.FIXEDCELLS': 'cistopic_qc_out_MASTER/MDC_mtscatac_2.FIXEDCELLS__metadata_bc.pkl',\n",
       " 'OHS_s3atac_1.FIXEDCELLS': 'cistopic_qc_out_MASTER/OHS_s3atac_1.FIXEDCELLS__metadata_bc.pkl',\n",
       " 'OHS_s3atac_2.FIXEDCELLS': 'cistopic_qc_out_MASTER/OHS_s3atac_2.FIXEDCELLS__metadata_bc.pkl',\n",
       " 'SAN_10xmultiome_1.FIXEDCELLS': 'cistopic_qc_out_MASTER/SAN_10xmultiome_1.FIXEDCELLS__metadata_bc.pkl',\n",
       " 'SAN_10xmultiome_2.FIXEDCELLS': 'cistopic_qc_out_MASTER/SAN_10xmultiome_2.FIXEDCELLS__metadata_bc.pkl',\n",
       " 'STA_10xv11_1.FIXEDCELLS': 'cistopic_qc_out_MASTER/STA_10xv11_1.FIXEDCELLS__metadata_bc.pkl',\n",
       " 'STA_10xv11_2.FIXEDCELLS': 'cistopic_qc_out_MASTER/STA_10xv11_2.FIXEDCELLS__metadata_bc.pkl',\n",
       " 'TXG_10xv11_1.FIXEDCELLS': 'cistopic_qc_out_MASTER/TXG_10xv11_1.FIXEDCELLS__metadata_bc.pkl',\n",
       " 'TXG_10xv2_1.FIXEDCELLS': 'cistopic_qc_out_MASTER/TXG_10xv2_1.FIXEDCELLS__metadata_bc.pkl',\n",
       " 'TXG_10xv2_2.FIXEDCELLS': 'cistopic_qc_out_MASTER/TXG_10xv2_2.FIXEDCELLS__metadata_bc.pkl',\n",
       " 'UCS_ddseq_1.FIXEDCELLS': 'cistopic_qc_out_MASTER/UCS_ddseq_1.FIXEDCELLS__metadata_bc.pkl',\n",
       " 'UCS_ddseq_2.FIXEDCELLS': 'cistopic_qc_out_MASTER/UCS_ddseq_2.FIXEDCELLS__metadata_bc.pkl',\n",
       " 'VIB_10xmultiome_1.FIXEDCELLS': 'cistopic_qc_out_MASTER/VIB_10xmultiome_1.FIXEDCELLS__metadata_bc.pkl',\n",
       " 'VIB_10xmultiome_2.FIXEDCELLS': 'cistopic_qc_out_MASTER/VIB_10xmultiome_2.FIXEDCELLS__metadata_bc.pkl',\n",
       " 'VIB_10xv1_1.FIXEDCELLS': 'cistopic_qc_out_MASTER/VIB_10xv1_1.FIXEDCELLS__metadata_bc.pkl',\n",
       " 'VIB_10xv1_2.FIXEDCELLS': 'cistopic_qc_out_MASTER/VIB_10xv1_2.FIXEDCELLS__metadata_bc.pkl',\n",
       " 'VIB_10xv2_1.FIXEDCELLS': 'cistopic_qc_out_MASTER/VIB_10xv2_1.FIXEDCELLS__metadata_bc.pkl',\n",
       " 'VIB_10xv2_2.FIXEDCELLS': 'cistopic_qc_out_MASTER/VIB_10xv2_2.FIXEDCELLS__metadata_bc.pkl',\n",
       " 'VIB_hydrop_1.FIXEDCELLS': 'cistopic_qc_out_MASTER/VIB_hydrop_1.FIXEDCELLS__metadata_bc.pkl',\n",
       " 'VIB_hydrop_2.FIXEDCELLS': 'cistopic_qc_out_MASTER/VIB_hydrop_2.FIXEDCELLS__metadata_bc.pkl'}"
      ]
     },
     "execution_count": 6,
     "metadata": {},
     "output_type": "execute_result"
    },
    {
     "data": {
      "application/javascript": [
       "\n",
       "            setTimeout(function() {\n",
       "                var nbb_cell_id = 6;\n",
       "                var nbb_unformatted_code = \"metadata_bc_sub_dict = {x.split('/')[-1].split(f'__')[0]: x for x in sorted(glob.glob(\\\"cistopic_qc_out_MASTER/*metadata_bc.pkl\\\"))}\\nmetadata_bc_sub_dict\";\n",
       "                var nbb_formatted_code = \"metadata_bc_sub_dict = {\\n    x.split(\\\"/\\\")[-1].split(f\\\"__\\\")[0]: x\\n    for x in sorted(glob.glob(\\\"cistopic_qc_out_MASTER/*metadata_bc.pkl\\\"))\\n}\\nmetadata_bc_sub_dict\";\n",
       "                var nbb_cells = Jupyter.notebook.get_cells();\n",
       "                for (var i = 0; i < nbb_cells.length; ++i) {\n",
       "                    if (nbb_cells[i].input_prompt_number == nbb_cell_id) {\n",
       "                        if (nbb_cells[i].get_text() == nbb_unformatted_code) {\n",
       "                             nbb_cells[i].set_text(nbb_formatted_code);\n",
       "                        }\n",
       "                        break;\n",
       "                    }\n",
       "                }\n",
       "            }, 500);\n",
       "            "
      ],
      "text/plain": [
       "<IPython.core.display.Javascript object>"
      ]
     },
     "metadata": {},
     "output_type": "display_data"
    }
   ],
   "source": [
    "metadata_bc_sub_dict = {x.split('/')[-1].split(f'__')[0]: x for x in sorted(glob.glob(\"cistopic_qc_out_MASTER/*metadata_bc.pkl\"))}\n",
    "metadata_bc_sub_dict"
   ]
  },
  {
   "cell_type": "markdown",
   "id": "532c25fb",
   "metadata": {
    "papermill": {
     "duration": 0.007056,
     "end_time": "2022-09-28T14:39:03.759050",
     "exception": false,
     "start_time": "2022-09-28T14:39:03.751994",
     "status": "completed"
    },
    "tags": []
   },
   "source": [
    "metadata_bc_sub_dict.pop('VIB_hydrop_1.FIXEDCELLS')\n",
    "metadata_bc_sub_dict.pop('VIB_hydrop_2.FIXEDCELLS')"
   ]
  },
  {
   "cell_type": "code",
   "execution_count": 7,
   "id": "dadcc88c",
   "metadata": {
    "execution": {
     "iopub.execute_input": "2022-09-28T14:39:03.774334Z",
     "iopub.status.busy": "2022-09-28T14:39:03.773811Z",
     "iopub.status.idle": "2022-09-28T14:39:03.784673Z",
     "shell.execute_reply": "2022-09-28T14:39:03.784071Z"
    },
    "papermill": {
     "duration": 0.019505,
     "end_time": "2022-09-28T14:39:03.785661",
     "exception": false,
     "start_time": "2022-09-28T14:39:03.766156",
     "status": "completed"
    },
    "pycharm": {
     "name": "#%%\n"
    },
    "tags": []
   },
   "outputs": [
    {
     "data": {
      "text/plain": [
       "{'BIO_ddseq_1.FIXEDCELLS': 'selected_barcodes/BIO_ddseq_1.FIXEDCELLS_bc_passing_filters_otsu.pkl',\n",
       " 'BIO_ddseq_2.FIXEDCELLS': 'selected_barcodes/BIO_ddseq_2.FIXEDCELLS_bc_passing_filters_otsu.pkl',\n",
       " 'BIO_ddseq_3.FIXEDCELLS': 'selected_barcodes/BIO_ddseq_3.FIXEDCELLS_bc_passing_filters_otsu.pkl',\n",
       " 'BIO_ddseq_4.FIXEDCELLS': 'selected_barcodes/BIO_ddseq_4.FIXEDCELLS_bc_passing_filters_otsu.pkl',\n",
       " 'BRO_mtscatac_1.FIXEDCELLS': 'selected_barcodes/BRO_mtscatac_1.FIXEDCELLS_bc_passing_filters_otsu.pkl',\n",
       " 'BRO_mtscatac_2.FIXEDCELLS': 'selected_barcodes/BRO_mtscatac_2.FIXEDCELLS_bc_passing_filters_otsu.pkl',\n",
       " 'CNA_10xmultiome_1.FIXEDCELLS': 'selected_barcodes/CNA_10xmultiome_1.FIXEDCELLS_bc_passing_filters_otsu.pkl',\n",
       " 'CNA_10xmultiome_2.FIXEDCELLS': 'selected_barcodes/CNA_10xmultiome_2.FIXEDCELLS_bc_passing_filters_otsu.pkl',\n",
       " 'CNA_10xv11_1.FIXEDCELLS': 'selected_barcodes/CNA_10xv11_1.FIXEDCELLS_bc_passing_filters_otsu.pkl',\n",
       " 'CNA_10xv11_2.FIXEDCELLS': 'selected_barcodes/CNA_10xv11_2.FIXEDCELLS_bc_passing_filters_otsu.pkl',\n",
       " 'CNA_10xv11_3.FIXEDCELLS': 'selected_barcodes/CNA_10xv11_3.FIXEDCELLS_bc_passing_filters_otsu.pkl',\n",
       " 'CNA_10xv11_4.FIXEDCELLS': 'selected_barcodes/CNA_10xv11_4.FIXEDCELLS_bc_passing_filters_otsu.pkl',\n",
       " 'CNA_10xv11_5.FIXEDCELLS': 'selected_barcodes/CNA_10xv11_5.FIXEDCELLS_bc_passing_filters_otsu.pkl',\n",
       " 'CNA_10xv2_1.FIXEDCELLS': 'selected_barcodes/CNA_10xv2_1.FIXEDCELLS_bc_passing_filters_otsu.pkl',\n",
       " 'CNA_10xv2_2.FIXEDCELLS': 'selected_barcodes/CNA_10xv2_2.FIXEDCELLS_bc_passing_filters_otsu.pkl',\n",
       " 'CNA_ddseq_1.FIXEDCELLS': 'selected_barcodes/CNA_ddseq_1.FIXEDCELLS_bc_passing_filters_otsu.pkl',\n",
       " 'CNA_ddseq_2.FIXEDCELLS': 'selected_barcodes/CNA_ddseq_2.FIXEDCELLS_bc_passing_filters_otsu.pkl',\n",
       " 'CNA_hydrop_1.FIXEDCELLS': 'selected_barcodes/CNA_hydrop_1.FIXEDCELLS_bc_passing_filters_otsu.pkl',\n",
       " 'CNA_hydrop_2.FIXEDCELLS': 'selected_barcodes/CNA_hydrop_2.FIXEDCELLS_bc_passing_filters_otsu.pkl',\n",
       " 'CNA_hydrop_3.FIXEDCELLS': 'selected_barcodes/CNA_hydrop_3.FIXEDCELLS_bc_passing_filters_otsu.pkl',\n",
       " 'CNA_mtscatac_1.FIXEDCELLS': 'selected_barcodes/CNA_mtscatac_1.FIXEDCELLS_bc_passing_filters_otsu.pkl',\n",
       " 'CNA_mtscatac_2.FIXEDCELLS': 'selected_barcodes/CNA_mtscatac_2.FIXEDCELLS_bc_passing_filters_otsu.pkl',\n",
       " 'EPF_hydrop_1.FIXEDCELLS': 'selected_barcodes/EPF_hydrop_1.FIXEDCELLS_bc_passing_filters_otsu.pkl',\n",
       " 'EPF_hydrop_2.FIXEDCELLS': 'selected_barcodes/EPF_hydrop_2.FIXEDCELLS_bc_passing_filters_otsu.pkl',\n",
       " 'EPF_hydrop_3.FIXEDCELLS': 'selected_barcodes/EPF_hydrop_3.FIXEDCELLS_bc_passing_filters_otsu.pkl',\n",
       " 'EPF_hydrop_4.FIXEDCELLS': 'selected_barcodes/EPF_hydrop_4.FIXEDCELLS_bc_passing_filters_otsu.pkl',\n",
       " 'HAR_ddseq_1.FIXEDCELLS': 'selected_barcodes/HAR_ddseq_1.FIXEDCELLS_bc_passing_filters_otsu.pkl',\n",
       " 'HAR_ddseq_2.FIXEDCELLS': 'selected_barcodes/HAR_ddseq_2.FIXEDCELLS_bc_passing_filters_otsu.pkl',\n",
       " 'MDC_mtscatac_1.FIXEDCELLS': 'selected_barcodes/MDC_mtscatac_1.FIXEDCELLS_bc_passing_filters_otsu.pkl',\n",
       " 'MDC_mtscatac_2.FIXEDCELLS': 'selected_barcodes/MDC_mtscatac_2.FIXEDCELLS_bc_passing_filters_otsu.pkl',\n",
       " 'OHS_s3atac_1.FIXEDCELLS': 'selected_barcodes/OHS_s3atac_1.FIXEDCELLS_bc_passing_filters_otsu.pkl',\n",
       " 'OHS_s3atac_2.FIXEDCELLS': 'selected_barcodes/OHS_s3atac_2.FIXEDCELLS_bc_passing_filters_otsu.pkl',\n",
       " 'SAN_10xmultiome_1.FIXEDCELLS': 'selected_barcodes/SAN_10xmultiome_1.FIXEDCELLS_bc_passing_filters_otsu.pkl',\n",
       " 'SAN_10xmultiome_2.FIXEDCELLS': 'selected_barcodes/SAN_10xmultiome_2.FIXEDCELLS_bc_passing_filters_otsu.pkl',\n",
       " 'STA_10xv11_1.FIXEDCELLS': 'selected_barcodes/STA_10xv11_1.FIXEDCELLS_bc_passing_filters_otsu.pkl',\n",
       " 'STA_10xv11_2.FIXEDCELLS': 'selected_barcodes/STA_10xv11_2.FIXEDCELLS_bc_passing_filters_otsu.pkl',\n",
       " 'TXG_10xv11_1.FIXEDCELLS': 'selected_barcodes/TXG_10xv11_1.FIXEDCELLS_bc_passing_filters_otsu.pkl',\n",
       " 'TXG_10xv2_1.FIXEDCELLS': 'selected_barcodes/TXG_10xv2_1.FIXEDCELLS_bc_passing_filters_otsu.pkl',\n",
       " 'TXG_10xv2_2.FIXEDCELLS': 'selected_barcodes/TXG_10xv2_2.FIXEDCELLS_bc_passing_filters_otsu.pkl',\n",
       " 'UCS_ddseq_1.FIXEDCELLS': 'selected_barcodes/UCS_ddseq_1.FIXEDCELLS_bc_passing_filters_otsu.pkl',\n",
       " 'UCS_ddseq_2.FIXEDCELLS': 'selected_barcodes/UCS_ddseq_2.FIXEDCELLS_bc_passing_filters_otsu.pkl',\n",
       " 'VIB_10xmultiome_1.FIXEDCELLS': 'selected_barcodes/VIB_10xmultiome_1.FIXEDCELLS_bc_passing_filters_otsu.pkl',\n",
       " 'VIB_10xmultiome_2.FIXEDCELLS': 'selected_barcodes/VIB_10xmultiome_2.FIXEDCELLS_bc_passing_filters_otsu.pkl',\n",
       " 'VIB_10xv1_1.FIXEDCELLS': 'selected_barcodes/VIB_10xv1_1.FIXEDCELLS_bc_passing_filters_otsu.pkl',\n",
       " 'VIB_10xv1_2.FIXEDCELLS': 'selected_barcodes/VIB_10xv1_2.FIXEDCELLS_bc_passing_filters_otsu.pkl',\n",
       " 'VIB_10xv2_1.FIXEDCELLS': 'selected_barcodes/VIB_10xv2_1.FIXEDCELLS_bc_passing_filters_otsu.pkl',\n",
       " 'VIB_10xv2_2.FIXEDCELLS': 'selected_barcodes/VIB_10xv2_2.FIXEDCELLS_bc_passing_filters_otsu.pkl',\n",
       " 'VIB_hydrop_1.FIXEDCELLS': 'selected_barcodes/VIB_hydrop_1.FIXEDCELLS_bc_passing_filters_otsu.pkl',\n",
       " 'VIB_hydrop_11.FIXEDCELLS': 'selected_barcodes/VIB_hydrop_11.FIXEDCELLS_bc_passing_filters_otsu.pkl',\n",
       " 'VIB_hydrop_12.FIXEDCELLS': 'selected_barcodes/VIB_hydrop_12.FIXEDCELLS_bc_passing_filters_otsu.pkl',\n",
       " 'VIB_hydrop_2.FIXEDCELLS': 'selected_barcodes/VIB_hydrop_2.FIXEDCELLS_bc_passing_filters_otsu.pkl',\n",
       " 'VIB_hydrop_21.FIXEDCELLS': 'selected_barcodes/VIB_hydrop_21.FIXEDCELLS_bc_passing_filters_otsu.pkl',\n",
       " 'VIB_hydrop_22.FIXEDCELLS': 'selected_barcodes/VIB_hydrop_22.FIXEDCELLS_bc_passing_filters_otsu.pkl',\n",
       " 'VIB_mtscatac_1.FIXEDCELLS': 'selected_barcodes/VIB_mtscatac_1.FIXEDCELLS_bc_passing_filters_otsu.pkl',\n",
       " 'VIB_mtscatac_2.FIXEDCELLS': 'selected_barcodes/VIB_mtscatac_2.FIXEDCELLS_bc_passing_filters_otsu.pkl'}"
      ]
     },
     "execution_count": 7,
     "metadata": {},
     "output_type": "execute_result"
    },
    {
     "data": {
      "application/javascript": [
       "\n",
       "            setTimeout(function() {\n",
       "                var nbb_cell_id = 7;\n",
       "                var nbb_unformatted_code = \"bc_passing_filters_sub_dict = {x.split('/')[-1].split(f'_bc_passing_filters_otsu.pkl')[0]: x for x in sorted(glob.glob(\\\"selected_barcodes/*otsu.pkl\\\"))}\\nbc_passing_filters_sub_dict\";\n",
       "                var nbb_formatted_code = \"bc_passing_filters_sub_dict = {\\n    x.split(\\\"/\\\")[-1].split(f\\\"_bc_passing_filters_otsu.pkl\\\")[0]: x\\n    for x in sorted(glob.glob(\\\"selected_barcodes/*otsu.pkl\\\"))\\n}\\nbc_passing_filters_sub_dict\";\n",
       "                var nbb_cells = Jupyter.notebook.get_cells();\n",
       "                for (var i = 0; i < nbb_cells.length; ++i) {\n",
       "                    if (nbb_cells[i].input_prompt_number == nbb_cell_id) {\n",
       "                        if (nbb_cells[i].get_text() == nbb_unformatted_code) {\n",
       "                             nbb_cells[i].set_text(nbb_formatted_code);\n",
       "                        }\n",
       "                        break;\n",
       "                    }\n",
       "                }\n",
       "            }, 500);\n",
       "            "
      ],
      "text/plain": [
       "<IPython.core.display.Javascript object>"
      ]
     },
     "metadata": {},
     "output_type": "display_data"
    }
   ],
   "source": [
    "bc_passing_filters_sub_dict = {x.split('/')[-1].split(f'_bc_passing_filters_otsu.pkl')[0]: x for x in sorted(glob.glob(\"selected_barcodes/*otsu.pkl\"))}\n",
    "bc_passing_filters_sub_dict"
   ]
  },
  {
   "cell_type": "markdown",
   "id": "64ed6a0c",
   "metadata": {
    "papermill": {
     "duration": 0.007625,
     "end_time": "2022-09-28T14:39:03.800750",
     "exception": false,
     "start_time": "2022-09-28T14:39:03.793125",
     "status": "completed"
    },
    "pycharm": {
     "name": "#%% md\n"
    },
    "tags": []
   },
   "source": [
    "Read bed files for SCREEN regions and blacklist (blacklisted regions in genome where many reads can map)"
   ]
  },
  {
   "cell_type": "code",
   "execution_count": 8,
   "id": "4aa30cdc",
   "metadata": {
    "execution": {
     "iopub.execute_input": "2022-09-28T14:39:03.816265Z",
     "iopub.status.busy": "2022-09-28T14:39:03.815834Z",
     "iopub.status.idle": "2022-09-28T14:39:03.820360Z",
     "shell.execute_reply": "2022-09-28T14:39:03.819778Z"
    },
    "papermill": {
     "duration": 0.013372,
     "end_time": "2022-09-28T14:39:03.821395",
     "exception": false,
     "start_time": "2022-09-28T14:39:03.808023",
     "status": "completed"
    },
    "pycharm": {
     "name": "#%%\n"
    },
    "tags": []
   },
   "outputs": [
    {
     "data": {
      "application/javascript": [
       "\n",
       "            setTimeout(function() {\n",
       "                var nbb_cell_id = 8;\n",
       "                var nbb_unformatted_code = \"regions = \\\"../fixedcells_3_cistopic_consensus/master_peaks/all.FIXEDCELLS.master_peaks.occurrence_filtered9.bed\\\"\";\n",
       "                var nbb_formatted_code = \"regions = \\\"../fixedcells_3_cistopic_consensus/master_peaks/all.FIXEDCELLS.master_peaks.occurrence_filtered9.bed\\\"\";\n",
       "                var nbb_cells = Jupyter.notebook.get_cells();\n",
       "                for (var i = 0; i < nbb_cells.length; ++i) {\n",
       "                    if (nbb_cells[i].input_prompt_number == nbb_cell_id) {\n",
       "                        if (nbb_cells[i].get_text() == nbb_unformatted_code) {\n",
       "                             nbb_cells[i].set_text(nbb_formatted_code);\n",
       "                        }\n",
       "                        break;\n",
       "                    }\n",
       "                }\n",
       "            }, 500);\n",
       "            "
      ],
      "text/plain": [
       "<IPython.core.display.Javascript object>"
      ]
     },
     "metadata": {},
     "output_type": "display_data"
    }
   ],
   "source": [
    "regions = \"../fixedcells_3_cistopic_consensus/master_peaks/all.FIXEDCELLS.master_peaks.occurrence_filtered9.bed\""
   ]
  },
  {
   "cell_type": "code",
   "execution_count": 9,
   "id": "283a433e",
   "metadata": {
    "execution": {
     "iopub.execute_input": "2022-09-28T14:39:04.041440Z",
     "iopub.status.busy": "2022-09-28T14:39:04.041002Z",
     "iopub.status.idle": "2022-09-28T14:39:04.046100Z",
     "shell.execute_reply": "2022-09-28T14:39:04.045504Z"
    },
    "papermill": {
     "duration": 0.014985,
     "end_time": "2022-09-28T14:39:04.047154",
     "exception": false,
     "start_time": "2022-09-28T14:39:04.032169",
     "status": "completed"
    },
    "pycharm": {
     "name": "#%%\n"
    },
    "tags": []
   },
   "outputs": [
    {
     "data": {
      "application/javascript": [
       "\n",
       "            setTimeout(function() {\n",
       "                var nbb_cell_id = 9;\n",
       "                var nbb_unformatted_code = \"# path_to_regions = '../0_resources/regions/V2.hg38-rDHS-Unfiltered.blacklisted.bed'\\npath_to_blacklist = '../0_resources/regions/hg38-blacklist.v2.bed'\";\n",
       "                var nbb_formatted_code = \"# path_to_regions = '../0_resources/regions/V2.hg38-rDHS-Unfiltered.blacklisted.bed'\\npath_to_blacklist = \\\"../0_resources/regions/hg38-blacklist.v2.bed\\\"\";\n",
       "                var nbb_cells = Jupyter.notebook.get_cells();\n",
       "                for (var i = 0; i < nbb_cells.length; ++i) {\n",
       "                    if (nbb_cells[i].input_prompt_number == nbb_cell_id) {\n",
       "                        if (nbb_cells[i].get_text() == nbb_unformatted_code) {\n",
       "                             nbb_cells[i].set_text(nbb_formatted_code);\n",
       "                        }\n",
       "                        break;\n",
       "                    }\n",
       "                }\n",
       "            }, 500);\n",
       "            "
      ],
      "text/plain": [
       "<IPython.core.display.Javascript object>"
      ]
     },
     "metadata": {},
     "output_type": "display_data"
    }
   ],
   "source": [
    "# path_to_regions = '../0_resources/regions/V2.hg38-rDHS-Unfiltered.blacklisted.bed'\n",
    "path_to_blacklist = '../0_resources/regions/hg38-blacklist.v2.bed'"
   ]
  },
  {
   "cell_type": "markdown",
   "id": "e5ba36c0",
   "metadata": {
    "papermill": {
     "duration": 0.007451,
     "end_time": "2022-09-28T14:39:04.062114",
     "exception": false,
     "start_time": "2022-09-28T14:39:04.054663",
     "status": "completed"
    },
    "pycharm": {
     "name": "#%% md\n"
    },
    "tags": []
   },
   "source": [
    "Create cistopic objects for each sample. If pandas crashes, increase the number of partitions. This is necessary for the largest files."
   ]
  },
  {
   "cell_type": "markdown",
   "id": "f0f0279a",
   "metadata": {
    "papermill": {
     "duration": 0.007394,
     "end_time": "2022-09-28T14:39:04.076936",
     "exception": false,
     "start_time": "2022-09-28T14:39:04.069542",
     "status": "completed"
    },
    "pycharm": {
     "name": "#%% md\n"
    },
    "tags": []
   },
   "source": [
    "In the following command, it is important that the barcode syntax matches the fragments, the metadata and the bc_passing filters. That is why the sample name is removed from metadata and bc passing filters."
   ]
  },
  {
   "cell_type": "code",
   "execution_count": 10,
   "id": "48903418",
   "metadata": {
    "collapsed": false,
    "execution": {
     "iopub.execute_input": "2022-09-28T14:39:04.092957Z",
     "iopub.status.busy": "2022-09-28T14:39:04.092532Z",
     "iopub.status.idle": "2022-09-28T14:39:13.385914Z",
     "shell.execute_reply": "2022-09-28T14:39:13.385186Z"
    },
    "jupyter": {
     "outputs_hidden": false
    },
    "papermill": {
     "duration": 9.307235,
     "end_time": "2022-09-28T14:39:13.391618",
     "exception": false,
     "start_time": "2022-09-28T14:39:04.084383",
     "status": "completed"
    },
    "pycharm": {
     "name": "#%%\n"
    },
    "tags": []
   },
   "outputs": [
    {
     "data": {
      "application/javascript": [
       "\n",
       "            setTimeout(function() {\n",
       "                var nbb_cell_id = 10;\n",
       "                var nbb_unformatted_code = \"from pycisTopic.cistopic_class import create_cistopic_object_from_fragments\";\n",
       "                var nbb_formatted_code = \"from pycisTopic.cistopic_class import create_cistopic_object_from_fragments\";\n",
       "                var nbb_cells = Jupyter.notebook.get_cells();\n",
       "                for (var i = 0; i < nbb_cells.length; ++i) {\n",
       "                    if (nbb_cells[i].input_prompt_number == nbb_cell_id) {\n",
       "                        if (nbb_cells[i].get_text() == nbb_unformatted_code) {\n",
       "                             nbb_cells[i].set_text(nbb_formatted_code);\n",
       "                        }\n",
       "                        break;\n",
       "                    }\n",
       "                }\n",
       "            }, 500);\n",
       "            "
      ],
      "text/plain": [
       "<IPython.core.display.Javascript object>"
      ]
     },
     "metadata": {},
     "output_type": "display_data"
    }
   ],
   "source": [
    "from pycisTopic.cistopic_class import create_cistopic_object_from_fragments"
   ]
  },
  {
   "cell_type": "code",
   "execution_count": 11,
   "id": "ac5a055e",
   "metadata": {
    "execution": {
     "iopub.execute_input": "2022-09-28T14:39:13.426366Z",
     "iopub.status.busy": "2022-09-28T14:39:13.425785Z",
     "iopub.status.idle": "2022-09-28T14:39:13.432627Z",
     "shell.execute_reply": "2022-09-28T14:39:13.432045Z"
    },
    "papermill": {
     "duration": 0.032873,
     "end_time": "2022-09-28T14:39:13.433631",
     "exception": false,
     "start_time": "2022-09-28T14:39:13.400758",
     "status": "completed"
    },
    "tags": []
   },
   "outputs": [
    {
     "data": {
      "application/javascript": [
       "\n",
       "            setTimeout(function() {\n",
       "                var nbb_cell_id = 11;\n",
       "                var nbb_unformatted_code = \"import ray\\nray.shutdown()\";\n",
       "                var nbb_formatted_code = \"import ray\\n\\nray.shutdown()\";\n",
       "                var nbb_cells = Jupyter.notebook.get_cells();\n",
       "                for (var i = 0; i < nbb_cells.length; ++i) {\n",
       "                    if (nbb_cells[i].input_prompt_number == nbb_cell_id) {\n",
       "                        if (nbb_cells[i].get_text() == nbb_unformatted_code) {\n",
       "                             nbb_cells[i].set_text(nbb_formatted_code);\n",
       "                        }\n",
       "                        break;\n",
       "                    }\n",
       "                }\n",
       "            }, 500);\n",
       "            "
      ],
      "text/plain": [
       "<IPython.core.display.Javascript object>"
      ]
     },
     "metadata": {},
     "output_type": "display_data"
    }
   ],
   "source": [
    "import ray\n",
    "ray.shutdown()"
   ]
  },
  {
   "cell_type": "code",
   "execution_count": 12,
   "id": "2ab559d6",
   "metadata": {
    "execution": {
     "iopub.execute_input": "2022-09-28T14:39:13.450374Z",
     "iopub.status.busy": "2022-09-28T14:39:13.449870Z",
     "iopub.status.idle": "2022-09-28T14:39:13.609362Z",
     "shell.execute_reply": "2022-09-28T14:39:13.608642Z"
    },
    "papermill": {
     "duration": 0.210258,
     "end_time": "2022-09-28T14:39:13.651851",
     "exception": false,
     "start_time": "2022-09-28T14:39:13.441593",
     "status": "completed"
    },
    "pycharm": {
     "name": "#%%\n"
    },
    "tags": []
   },
   "outputs": [
    {
     "name": "stdout",
     "output_type": "stream",
     "text": [
      "cistopic_objects/BIO_ddseq_1.FIXEDCELLS__cto.pkl already exists, skipping...\n",
      "cistopic_objects/BIO_ddseq_2.FIXEDCELLS__cto.pkl already exists, skipping...\n",
      "cistopic_objects/BIO_ddseq_3.FIXEDCELLS__cto.pkl already exists, skipping...\n",
      "cistopic_objects/BIO_ddseq_4.FIXEDCELLS__cto.pkl already exists, skipping...\n",
      "cistopic_objects/BRO_mtscatac_1.FIXEDCELLS__cto.pkl already exists, skipping...\n",
      "cistopic_objects/BRO_mtscatac_2.FIXEDCELLS__cto.pkl already exists, skipping...\n",
      "cistopic_objects/CNA_10xmultiome_1.FIXEDCELLS__cto.pkl already exists, skipping...\n",
      "cistopic_objects/CNA_10xmultiome_2.FIXEDCELLS__cto.pkl already exists, skipping...\n",
      "cistopic_objects/CNA_10xv11_1.FIXEDCELLS__cto.pkl already exists, skipping...\n",
      "cistopic_objects/CNA_10xv11_2.FIXEDCELLS__cto.pkl already exists, skipping...\n",
      "cistopic_objects/CNA_10xv11_3.FIXEDCELLS__cto.pkl already exists, skipping...\n",
      "cistopic_objects/CNA_10xv11_4.FIXEDCELLS__cto.pkl already exists, skipping...\n",
      "cistopic_objects/CNA_10xv11_5.FIXEDCELLS__cto.pkl already exists, skipping...\n",
      "cistopic_objects/CNA_10xv2_1.FIXEDCELLS__cto.pkl already exists, skipping...\n",
      "cistopic_objects/CNA_10xv2_2.FIXEDCELLS__cto.pkl already exists, skipping...\n",
      "cistopic_objects/CNA_hydrop_1.FIXEDCELLS__cto.pkl already exists, skipping...\n",
      "cistopic_objects/CNA_hydrop_2.FIXEDCELLS__cto.pkl already exists, skipping...\n",
      "cistopic_objects/CNA_hydrop_3.FIXEDCELLS__cto.pkl already exists, skipping...\n",
      "cistopic_objects/CNA_mtscatac_1.FIXEDCELLS__cto.pkl already exists, skipping...\n",
      "cistopic_objects/CNA_mtscatac_2.FIXEDCELLS__cto.pkl already exists, skipping...\n",
      "cistopic_objects/EPF_hydrop_1.FIXEDCELLS__cto.pkl already exists, skipping...\n",
      "cistopic_objects/EPF_hydrop_2.FIXEDCELLS__cto.pkl already exists, skipping...\n",
      "cistopic_objects/EPF_hydrop_3.FIXEDCELLS__cto.pkl already exists, skipping...\n",
      "cistopic_objects/EPF_hydrop_4.FIXEDCELLS__cto.pkl already exists, skipping...\n",
      "cistopic_objects/HAR_ddseq_1.FIXEDCELLS__cto.pkl already exists, skipping...\n",
      "cistopic_objects/HAR_ddseq_2.FIXEDCELLS__cto.pkl already exists, skipping...\n",
      "cistopic_objects/MDC_mtscatac_1.FIXEDCELLS__cto.pkl already exists, skipping...\n",
      "cistopic_objects/MDC_mtscatac_2.FIXEDCELLS__cto.pkl already exists, skipping...\n",
      "cistopic_objects/OHS_s3atac_1.FIXEDCELLS__cto.pkl already exists, skipping...\n",
      "cistopic_objects/OHS_s3atac_2.FIXEDCELLS__cto.pkl already exists, skipping...\n",
      "cistopic_objects/SAN_10xmultiome_1.FIXEDCELLS__cto.pkl already exists, skipping...\n",
      "cistopic_objects/SAN_10xmultiome_2.FIXEDCELLS__cto.pkl already exists, skipping...\n",
      "cistopic_objects/STA_10xv11_1.FIXEDCELLS__cto.pkl already exists, skipping...\n",
      "cistopic_objects/STA_10xv11_2.FIXEDCELLS__cto.pkl already exists, skipping...\n",
      "cistopic_objects/TXG_10xv11_1.FIXEDCELLS__cto.pkl already exists, skipping...\n",
      "cistopic_objects/TXG_10xv2_1.FIXEDCELLS__cto.pkl already exists, skipping...\n",
      "cistopic_objects/TXG_10xv2_2.FIXEDCELLS__cto.pkl already exists, skipping...\n",
      "cistopic_objects/UCS_ddseq_1.FIXEDCELLS__cto.pkl already exists, skipping...\n",
      "cistopic_objects/UCS_ddseq_2.FIXEDCELLS__cto.pkl already exists, skipping...\n",
      "cistopic_objects/VIB_10xmultiome_1.FIXEDCELLS__cto.pkl already exists, skipping...\n",
      "cistopic_objects/VIB_10xmultiome_2.FIXEDCELLS__cto.pkl already exists, skipping...\n",
      "cistopic_objects/VIB_10xv1_1.FIXEDCELLS__cto.pkl already exists, skipping...\n",
      "cistopic_objects/VIB_10xv1_2.FIXEDCELLS__cto.pkl already exists, skipping...\n",
      "cistopic_objects/VIB_10xv2_1.FIXEDCELLS__cto.pkl already exists, skipping...\n",
      "cistopic_objects/VIB_10xv2_2.FIXEDCELLS__cto.pkl already exists, skipping...\n",
      "cistopic_objects/VIB_hydrop_1.FIXEDCELLS__cto.pkl already exists, skipping...\n",
      "cistopic_objects/VIB_hydrop_2.FIXEDCELLS__cto.pkl already exists, skipping...\n"
     ]
    },
    {
     "data": {
      "application/javascript": [
       "\n",
       "            setTimeout(function() {\n",
       "                var nbb_cell_id = 12;\n",
       "                var nbb_unformatted_code = \"n_cores = 1\\nfor sample in metadata_bc_sub_dict.keys():\\n    cto_path = os.path.join(cistopic_objects_out, f\\\"{sample}__cto.pkl\\\")\\n    if not os.path.exists(cto_path):\\n        print(f\\\"{cto_path} does not exist, generating...\\\")\\n\\n        infile = open(metadata_bc_sub_dict[sample], 'rb')\\n        metadata_bc = pickle.load(infile)\\n        metadata_bc.index = [bc.split(\\\"___\\\")[0] for bc in metadata_bc.index]\\n        infile.close()\\n        infile = open(bc_passing_filters_sub_dict[sample], 'rb')\\n        bc_passing_filters = pickle.load(infile)\\n        infile.close()\\n        bc_passing_filters_fixed = [bc.split(\\\"___\\\")[0] for bc in bc_passing_filters]\\n\\n        cto = create_cistopic_object_from_fragments(path_to_fragments=fragments_dict[sample],\\n                                                        path_to_regions=regions,\\n                                                        path_to_blacklist=path_to_blacklist,\\n                                                        metrics=metadata_bc,\\n                                                        valid_bc=bc_passing_filters_fixed,\\n                                                        n_cpu=n_cores,\\n                                                        partition=10,\\n                                                        project=sample)\\n\\n        cto_path = os.path.join(cistopic_objects_out, f\\\"{sample}__cto.pkl\\\")\\n        print(f\\\"Writing {sample} cto in {cto_path}...\\\")\\n\\n        with open(\\n            cto_path, \\\"wb\\\"\\n        ) as f:\\n            pickle.dump(cto, f, protocol=4)\\n    else:\\n        print(f\\\"{cto_path} already exists, skipping...\\\")\";\n",
       "                var nbb_formatted_code = \"n_cores = 1\\nfor sample in metadata_bc_sub_dict.keys():\\n    cto_path = os.path.join(cistopic_objects_out, f\\\"{sample}__cto.pkl\\\")\\n    if not os.path.exists(cto_path):\\n        print(f\\\"{cto_path} does not exist, generating...\\\")\\n\\n        infile = open(metadata_bc_sub_dict[sample], \\\"rb\\\")\\n        metadata_bc = pickle.load(infile)\\n        metadata_bc.index = [bc.split(\\\"___\\\")[0] for bc in metadata_bc.index]\\n        infile.close()\\n        infile = open(bc_passing_filters_sub_dict[sample], \\\"rb\\\")\\n        bc_passing_filters = pickle.load(infile)\\n        infile.close()\\n        bc_passing_filters_fixed = [bc.split(\\\"___\\\")[0] for bc in bc_passing_filters]\\n\\n        cto = create_cistopic_object_from_fragments(\\n            path_to_fragments=fragments_dict[sample],\\n            path_to_regions=regions,\\n            path_to_blacklist=path_to_blacklist,\\n            metrics=metadata_bc,\\n            valid_bc=bc_passing_filters_fixed,\\n            n_cpu=n_cores,\\n            partition=10,\\n            project=sample,\\n        )\\n\\n        cto_path = os.path.join(cistopic_objects_out, f\\\"{sample}__cto.pkl\\\")\\n        print(f\\\"Writing {sample} cto in {cto_path}...\\\")\\n\\n        with open(cto_path, \\\"wb\\\") as f:\\n            pickle.dump(cto, f, protocol=4)\\n    else:\\n        print(f\\\"{cto_path} already exists, skipping...\\\")\";\n",
       "                var nbb_cells = Jupyter.notebook.get_cells();\n",
       "                for (var i = 0; i < nbb_cells.length; ++i) {\n",
       "                    if (nbb_cells[i].input_prompt_number == nbb_cell_id) {\n",
       "                        if (nbb_cells[i].get_text() == nbb_unformatted_code) {\n",
       "                             nbb_cells[i].set_text(nbb_formatted_code);\n",
       "                        }\n",
       "                        break;\n",
       "                    }\n",
       "                }\n",
       "            }, 500);\n",
       "            "
      ],
      "text/plain": [
       "<IPython.core.display.Javascript object>"
      ]
     },
     "metadata": {},
     "output_type": "display_data"
    }
   ],
   "source": [
    "n_cores = 1\n",
    "for sample in metadata_bc_sub_dict.keys():\n",
    "    cto_path = os.path.join(cistopic_objects_out, f\"{sample}__cto.pkl\")\n",
    "    if not os.path.exists(cto_path):\n",
    "        print(f\"{cto_path} does not exist, generating...\")\n",
    "\n",
    "        infile = open(metadata_bc_sub_dict[sample], 'rb')\n",
    "        metadata_bc = pickle.load(infile)\n",
    "        metadata_bc.index = [bc.split(\"___\")[0] for bc in metadata_bc.index]\n",
    "        infile.close()\n",
    "        infile = open(bc_passing_filters_sub_dict[sample], 'rb')\n",
    "        bc_passing_filters = pickle.load(infile)\n",
    "        infile.close()\n",
    "        bc_passing_filters_fixed = [bc.split(\"___\")[0] for bc in bc_passing_filters]\n",
    "\n",
    "        cto = create_cistopic_object_from_fragments(path_to_fragments=fragments_dict[sample],\n",
    "                                                        path_to_regions=regions,\n",
    "                                                        path_to_blacklist=path_to_blacklist,\n",
    "                                                        metrics=metadata_bc,\n",
    "                                                        valid_bc=bc_passing_filters_fixed,\n",
    "                                                        n_cpu=n_cores,\n",
    "                                                        partition=10,\n",
    "                                                        project=sample)\n",
    "\n",
    "        cto_path = os.path.join(cistopic_objects_out, f\"{sample}__cto.pkl\")\n",
    "        print(f\"Writing {sample} cto in {cto_path}...\")\n",
    "\n",
    "        with open(\n",
    "            cto_path, \"wb\"\n",
    "        ) as f:\n",
    "            pickle.dump(cto, f, protocol=4)\n",
    "    else:\n",
    "        print(f\"{cto_path} already exists, skipping...\")"
   ]
  },
  {
   "cell_type": "markdown",
   "id": "bc02c77e",
   "metadata": {
    "papermill": {
     "duration": 0.008682,
     "end_time": "2022-09-28T14:39:13.674459",
     "exception": false,
     "start_time": "2022-09-28T14:39:13.665777",
     "status": "completed"
    },
    "tags": []
   },
   "source": [
    "# Merge"
   ]
  },
  {
   "cell_type": "code",
   "execution_count": 13,
   "id": "f06e5560",
   "metadata": {
    "execution": {
     "iopub.execute_input": "2022-09-28T14:39:13.691815Z",
     "iopub.status.busy": "2022-09-28T14:39:13.691286Z",
     "iopub.status.idle": "2022-09-28T14:39:13.696047Z",
     "shell.execute_reply": "2022-09-28T14:39:13.695433Z"
    },
    "papermill": {
     "duration": 0.014608,
     "end_time": "2022-09-28T14:39:13.697048",
     "exception": false,
     "start_time": "2022-09-28T14:39:13.682440",
     "status": "completed"
    },
    "tags": []
   },
   "outputs": [
    {
     "data": {
      "application/javascript": [
       "\n",
       "            setTimeout(function() {\n",
       "                var nbb_cell_id = 13;\n",
       "                var nbb_unformatted_code = \"from pycisTopic.cistopic_class import *\";\n",
       "                var nbb_formatted_code = \"from pycisTopic.cistopic_class import *\";\n",
       "                var nbb_cells = Jupyter.notebook.get_cells();\n",
       "                for (var i = 0; i < nbb_cells.length; ++i) {\n",
       "                    if (nbb_cells[i].input_prompt_number == nbb_cell_id) {\n",
       "                        if (nbb_cells[i].get_text() == nbb_unformatted_code) {\n",
       "                             nbb_cells[i].set_text(nbb_formatted_code);\n",
       "                        }\n",
       "                        break;\n",
       "                    }\n",
       "                }\n",
       "            }, 500);\n",
       "            "
      ],
      "text/plain": [
       "<IPython.core.display.Javascript object>"
      ]
     },
     "metadata": {},
     "output_type": "display_data"
    }
   ],
   "source": [
    "from pycisTopic.cistopic_class import *"
   ]
  },
  {
   "cell_type": "code",
   "execution_count": 14,
   "id": "eda4b377",
   "metadata": {
    "execution": {
     "iopub.execute_input": "2022-09-28T14:39:13.714493Z",
     "iopub.status.busy": "2022-09-28T14:39:13.714218Z",
     "iopub.status.idle": "2022-09-28T14:39:13.720309Z",
     "shell.execute_reply": "2022-09-28T14:39:13.719725Z"
    },
    "papermill": {
     "duration": 0.015888,
     "end_time": "2022-09-28T14:39:13.721313",
     "exception": false,
     "start_time": "2022-09-28T14:39:13.705425",
     "status": "completed"
    },
    "tags": []
   },
   "outputs": [
    {
     "data": {
      "application/javascript": [
       "\n",
       "            setTimeout(function() {\n",
       "                var nbb_cell_id = 14;\n",
       "                var nbb_unformatted_code = \"cto_paths_list = glob.glob('cistopic_objects/*_cto.pkl')\";\n",
       "                var nbb_formatted_code = \"cto_paths_list = glob.glob(\\\"cistopic_objects/*_cto.pkl\\\")\";\n",
       "                var nbb_cells = Jupyter.notebook.get_cells();\n",
       "                for (var i = 0; i < nbb_cells.length; ++i) {\n",
       "                    if (nbb_cells[i].input_prompt_number == nbb_cell_id) {\n",
       "                        if (nbb_cells[i].get_text() == nbb_unformatted_code) {\n",
       "                             nbb_cells[i].set_text(nbb_formatted_code);\n",
       "                        }\n",
       "                        break;\n",
       "                    }\n",
       "                }\n",
       "            }, 500);\n",
       "            "
      ],
      "text/plain": [
       "<IPython.core.display.Javascript object>"
      ]
     },
     "metadata": {},
     "output_type": "display_data"
    }
   ],
   "source": [
    "cto_paths_list = glob.glob('cistopic_objects/*_cto.pkl')"
   ]
  },
  {
   "cell_type": "code",
   "execution_count": 15,
   "id": "0529785f",
   "metadata": {
    "execution": {
     "iopub.execute_input": "2022-09-28T14:39:13.738666Z",
     "iopub.status.busy": "2022-09-28T14:39:13.738485Z",
     "iopub.status.idle": "2022-09-28T14:39:13.750530Z",
     "shell.execute_reply": "2022-09-28T14:39:13.749938Z"
    },
    "papermill": {
     "duration": 0.021719,
     "end_time": "2022-09-28T14:39:13.751453",
     "exception": false,
     "start_time": "2022-09-28T14:39:13.729734",
     "status": "completed"
    },
    "tags": []
   },
   "outputs": [
    {
     "name": "stdout",
     "output_type": "stream",
     "text": [
      "cistopic_objects/VIB_hydrop_2.FIXEDCELLS__cto.pkl exists\n"
     ]
    },
    {
     "data": {
      "application/javascript": [
       "\n",
       "            setTimeout(function() {\n",
       "                var nbb_cell_id = 15;\n",
       "                var nbb_unformatted_code = \"cto_path_new = 'master/master_all_1.FIXEDCELLS.cto.pkl'\\nif not os.path.exists(cto_path_new):\\n    cto_list = []\\n    for file in cto_paths_list:\\n        print(file)\\n        with open(file, 'rb') as f:\\n            cto = pickle.load(f)\\n\\n        cto_list.append(cto)\\n\\n    cto_merged = merge(cto_list)\\n    with open(\\n        cto_path_new, \\\"wb\\\"\\n    ) as f:\\n        pickle.dump(cto_merged, f, protocol=4)\\nelse:\\n    print(cto_path + ' exists')\";\n",
       "                var nbb_formatted_code = \"cto_path_new = \\\"master/master_all_1.FIXEDCELLS.cto.pkl\\\"\\nif not os.path.exists(cto_path_new):\\n    cto_list = []\\n    for file in cto_paths_list:\\n        print(file)\\n        with open(file, \\\"rb\\\") as f:\\n            cto = pickle.load(f)\\n\\n        cto_list.append(cto)\\n\\n    cto_merged = merge(cto_list)\\n    with open(cto_path_new, \\\"wb\\\") as f:\\n        pickle.dump(cto_merged, f, protocol=4)\\nelse:\\n    print(cto_path + \\\" exists\\\")\";\n",
       "                var nbb_cells = Jupyter.notebook.get_cells();\n",
       "                for (var i = 0; i < nbb_cells.length; ++i) {\n",
       "                    if (nbb_cells[i].input_prompt_number == nbb_cell_id) {\n",
       "                        if (nbb_cells[i].get_text() == nbb_unformatted_code) {\n",
       "                             nbb_cells[i].set_text(nbb_formatted_code);\n",
       "                        }\n",
       "                        break;\n",
       "                    }\n",
       "                }\n",
       "            }, 500);\n",
       "            "
      ],
      "text/plain": [
       "<IPython.core.display.Javascript object>"
      ]
     },
     "metadata": {},
     "output_type": "display_data"
    }
   ],
   "source": [
    "cto_path_new = 'master/master_all_1.FIXEDCELLS.cto.pkl'\n",
    "if not os.path.exists(cto_path_new):\n",
    "    cto_list = []\n",
    "    for file in cto_paths_list:\n",
    "        print(file)\n",
    "        with open(file, 'rb') as f:\n",
    "            cto = pickle.load(f)\n",
    "\n",
    "        cto_list.append(cto)\n",
    "\n",
    "    cto_merged = merge(cto_list)\n",
    "    with open(\n",
    "        cto_path_new, \"wb\"\n",
    "    ) as f:\n",
    "        pickle.dump(cto_merged, f, protocol=4)\n",
    "else:\n",
    "    print(cto_path + ' exists')"
   ]
  },
  {
   "cell_type": "markdown",
   "id": "4693a3cc",
   "metadata": {
    "papermill": {
     "duration": 0.008583,
     "end_time": "2022-09-28T14:39:13.768702",
     "exception": false,
     "start_time": "2022-09-28T14:39:13.760119",
     "status": "completed"
    },
    "pycharm": {
     "name": "#%% md\n"
    },
    "tags": []
   },
   "source": [
    "# Run Scrublet"
   ]
  },
  {
   "cell_type": "code",
   "execution_count": 16,
   "id": "05b1bfed",
   "metadata": {
    "execution": {
     "iopub.execute_input": "2022-09-28T14:39:13.786677Z",
     "iopub.status.busy": "2022-09-28T14:39:13.786132Z",
     "iopub.status.idle": "2022-09-28T14:39:14.800004Z",
     "shell.execute_reply": "2022-09-28T14:39:14.799300Z"
    },
    "papermill": {
     "duration": 1.024279,
     "end_time": "2022-09-28T14:39:14.801475",
     "exception": false,
     "start_time": "2022-09-28T14:39:13.777196",
     "status": "completed"
    },
    "pycharm": {
     "name": "#%%\n"
    },
    "tags": []
   },
   "outputs": [
    {
     "data": {
      "application/javascript": [
       "\n",
       "            setTimeout(function() {\n",
       "                var nbb_cell_id = 16;\n",
       "                var nbb_unformatted_code = \"import scrublet as scr\\nimport pandas as pd\\nimport matplotlib.pyplot as plt\";\n",
       "                var nbb_formatted_code = \"import scrublet as scr\\nimport pandas as pd\\nimport matplotlib.pyplot as plt\";\n",
       "                var nbb_cells = Jupyter.notebook.get_cells();\n",
       "                for (var i = 0; i < nbb_cells.length; ++i) {\n",
       "                    if (nbb_cells[i].input_prompt_number == nbb_cell_id) {\n",
       "                        if (nbb_cells[i].get_text() == nbb_unformatted_code) {\n",
       "                             nbb_cells[i].set_text(nbb_formatted_code);\n",
       "                        }\n",
       "                        break;\n",
       "                    }\n",
       "                }\n",
       "            }, 500);\n",
       "            "
      ],
      "text/plain": [
       "<IPython.core.display.Javascript object>"
      ]
     },
     "metadata": {},
     "output_type": "display_data"
    }
   ],
   "source": [
    "import scrublet as scr\n",
    "import pandas as pd\n",
    "import matplotlib.pyplot as plt"
   ]
  },
  {
   "cell_type": "code",
   "execution_count": 17,
   "id": "51e5d578",
   "metadata": {
    "execution": {
     "iopub.execute_input": "2022-09-28T14:39:14.822510Z",
     "iopub.status.busy": "2022-09-28T14:39:14.821958Z",
     "iopub.status.idle": "2022-09-28T14:39:14.831742Z",
     "shell.execute_reply": "2022-09-28T14:39:14.831153Z"
    },
    "papermill": {
     "duration": 0.021816,
     "end_time": "2022-09-28T14:39:14.832743",
     "exception": false,
     "start_time": "2022-09-28T14:39:14.810927",
     "status": "completed"
    },
    "pycharm": {
     "name": "#%%\n"
    },
    "tags": []
   },
   "outputs": [
    {
     "data": {
      "text/plain": [
       "{'master_all_1.FIXEDCELLS': 'cistopic_objects_master/master_all_1.FIXEDCELLS__cto.pkl'}"
      ]
     },
     "execution_count": 17,
     "metadata": {},
     "output_type": "execute_result"
    },
    {
     "data": {
      "application/javascript": [
       "\n",
       "            setTimeout(function() {\n",
       "                var nbb_cell_id = 17;\n",
       "                var nbb_unformatted_code = \"cto_dict = {x.split('/')[-1].split('__cto.pkl')[0]:x for x in sorted(glob.glob('cistopic_objects_master/*cto.pkl'))}\\ncto_dict\";\n",
       "                var nbb_formatted_code = \"cto_dict = {\\n    x.split(\\\"/\\\")[-1].split(\\\"__cto.pkl\\\")[0]: x\\n    for x in sorted(glob.glob(\\\"cistopic_objects_master/*cto.pkl\\\"))\\n}\\ncto_dict\";\n",
       "                var nbb_cells = Jupyter.notebook.get_cells();\n",
       "                for (var i = 0; i < nbb_cells.length; ++i) {\n",
       "                    if (nbb_cells[i].input_prompt_number == nbb_cell_id) {\n",
       "                        if (nbb_cells[i].get_text() == nbb_unformatted_code) {\n",
       "                             nbb_cells[i].set_text(nbb_formatted_code);\n",
       "                        }\n",
       "                        break;\n",
       "                    }\n",
       "                }\n",
       "            }, 500);\n",
       "            "
      ],
      "text/plain": [
       "<IPython.core.display.Javascript object>"
      ]
     },
     "metadata": {},
     "output_type": "display_data"
    }
   ],
   "source": [
    "cto_dict = {x.split('/')[-1].split('__cto.pkl')[0]:x for x in sorted(glob.glob('cistopic_objects_master/*cto.pkl'))}\n",
    "cto_dict"
   ]
  },
  {
   "cell_type": "code",
   "execution_count": 18,
   "id": "026a3469",
   "metadata": {
    "execution": {
     "iopub.execute_input": "2022-09-28T14:39:14.851404Z",
     "iopub.status.busy": "2022-09-28T14:39:14.850899Z",
     "iopub.status.idle": "2022-09-28T14:39:14.863119Z",
     "shell.execute_reply": "2022-09-28T14:39:14.862518Z"
    },
    "papermill": {
     "duration": 0.022565,
     "end_time": "2022-09-28T14:39:14.864039",
     "exception": false,
     "start_time": "2022-09-28T14:39:14.841474",
     "status": "completed"
    },
    "pycharm": {
     "name": "#%%\n"
    },
    "tags": []
   },
   "outputs": [
    {
     "name": "stdout",
     "output_type": "stream",
     "text": [
      "Checking if cistopic_objects_master/master_all_1.FIXEDCELLS__cto.scrublet0-4.pkl exist...\n",
      "\tcistopic_objects_master/master_all_1.FIXEDCELLS__cto.scrublet0-4.pkl exists! Skipping...\n"
     ]
    },
    {
     "data": {
      "application/javascript": [
       "\n",
       "            setTimeout(function() {\n",
       "                var nbb_cell_id = 18;\n",
       "                var nbb_unformatted_code = \"fragments_sub_dict = {}\\nscrubcto_dict = {}\\nscrub_threshold = 0.4\\nscrub_name_suffix = \\\"0-4\\\"\\n#regions_sub_dict = {}\\nfor sample in cto_dict:\\n    cto = os.path.join('cistopic_objects_master', sample + f\\\"__cto.scrublet{scrub_name_suffix}.pkl\\\")\\n    print(f\\\"Checking if {cto} exist...\\\")\\n    if os.path.exists(cto):\\n        print(f\\\"\\\\t{cto} exists! Skipping...\\\")\\n    else:\\n        print(f\\\"\\\\t{cto} does not exist, adding to subdict to generate\\\")\\n        scrubcto_dict[sample] = cto\";\n",
       "                var nbb_formatted_code = \"fragments_sub_dict = {}\\nscrubcto_dict = {}\\nscrub_threshold = 0.4\\nscrub_name_suffix = \\\"0-4\\\"\\n# regions_sub_dict = {}\\nfor sample in cto_dict:\\n    cto = os.path.join(\\n        \\\"cistopic_objects_master\\\", sample + f\\\"__cto.scrublet{scrub_name_suffix}.pkl\\\"\\n    )\\n    print(f\\\"Checking if {cto} exist...\\\")\\n    if os.path.exists(cto):\\n        print(f\\\"\\\\t{cto} exists! Skipping...\\\")\\n    else:\\n        print(f\\\"\\\\t{cto} does not exist, adding to subdict to generate\\\")\\n        scrubcto_dict[sample] = cto\";\n",
       "                var nbb_cells = Jupyter.notebook.get_cells();\n",
       "                for (var i = 0; i < nbb_cells.length; ++i) {\n",
       "                    if (nbb_cells[i].input_prompt_number == nbb_cell_id) {\n",
       "                        if (nbb_cells[i].get_text() == nbb_unformatted_code) {\n",
       "                             nbb_cells[i].set_text(nbb_formatted_code);\n",
       "                        }\n",
       "                        break;\n",
       "                    }\n",
       "                }\n",
       "            }, 500);\n",
       "            "
      ],
      "text/plain": [
       "<IPython.core.display.Javascript object>"
      ]
     },
     "metadata": {},
     "output_type": "display_data"
    }
   ],
   "source": [
    "fragments_sub_dict = {}\n",
    "scrubcto_dict = {}\n",
    "scrub_threshold = 0.4\n",
    "scrub_name_suffix = \"0-4\"\n",
    "#regions_sub_dict = {}\n",
    "for sample in cto_dict:\n",
    "    cto = os.path.join('cistopic_objects_master', sample + f\"__cto.scrublet{scrub_name_suffix}.pkl\")\n",
    "    print(f\"Checking if {cto} exist...\")\n",
    "    if os.path.exists(cto):\n",
    "        print(f\"\\t{cto} exists! Skipping...\")\n",
    "    else:\n",
    "        print(f\"\\t{cto} does not exist, adding to subdict to generate\")\n",
    "        scrubcto_dict[sample] = cto"
   ]
  },
  {
   "cell_type": "code",
   "execution_count": 19,
   "id": "a7982740",
   "metadata": {
    "execution": {
     "iopub.execute_input": "2022-09-28T14:39:14.885224Z",
     "iopub.status.busy": "2022-09-28T14:39:14.884776Z",
     "iopub.status.idle": "2022-09-28T14:39:14.909699Z",
     "shell.execute_reply": "2022-09-28T14:39:14.909105Z"
    },
    "papermill": {
     "duration": 0.035461,
     "end_time": "2022-09-28T14:39:14.910608",
     "exception": false,
     "start_time": "2022-09-28T14:39:14.875147",
     "status": "completed"
    },
    "pycharm": {
     "name": "#%%\n"
    },
    "tags": []
   },
   "outputs": [
    {
     "data": {
      "application/javascript": [
       "\n",
       "            setTimeout(function() {\n",
       "                var nbb_cell_id = 19;\n",
       "                var nbb_unformatted_code = \"if cto_dict != {}:\\n    for sample in scrubcto_dict.keys():\\n        with open(cto_dict[sample], 'rb') as f:\\n            cto = pickle.load(f)\\n        print(f\\\"Loaded {cto_dict[sample]}\\\")\\n        scrub = scr.Scrublet(cto.fragment_matrix.T, expected_doublet_rate=0.1)\\n        doublet_scores, predicted_doublets = scrub.scrub_doublets()\\n        # scrub.plot_histogram()\\n        scrub.call_doublets(threshold=scrub_threshold)\\n        a,b = scrub.plot_histogram()\\n        a.suptitle(sample)\\n        plt.savefig(f'plots_qc/{sample}.scrublet_histogram.png', dpi=150, facecolor='white')\\n        plt.show()\\n        plt.close()\\n\\n        print('Running UMAP...')\\n        scrub.set_embedding('UMAP', scr.get_umap(scrub.manifold_obs_, 10, min_dist=0.3))\\n        scrub.plot_embedding('UMAP', order_points=True);\\n        plt.savefig(f'plots_qc/{sample}.scrublet_umap.png', dpi=150, facecolor='white')\\n        plt.show()\\n        plt.close()\\n\\n        scrublet = pd.DataFrame([scrub.doublet_scores_obs_, scrub.predicted_doublets_], \\n            columns=cto.cell_names,\\n            index=['Doublet_scores_fragments', 'Predicted_doublets_fragments']).T\\n        cto.add_cell_data(scrublet)\\n        n_scrublet_doublets = len(cto.cell_data[\\\"Predicted_doublets_fragments\\\"] == True)\\n        print(f\\\"{sample}: found doublets: \\\\n\\\\t({n_scrublet_doublets}: Scrublet)\\\"\\n             )\\n\\n        cto_path_new = scrubcto_dict[sample]\\n\\n        with open(\\n            cto_path_new, \\\"wb\\\"\\n        ) as f:\\n            pickle.dump(cto, f, protocol=4)\\n\\n        print('\\\\n')\\n        \\nelse:\\n    print(\\\"All samples already processed.\\\")\";\n",
       "                var nbb_formatted_code = \"if cto_dict != {}:\\n    for sample in scrubcto_dict.keys():\\n        with open(cto_dict[sample], \\\"rb\\\") as f:\\n            cto = pickle.load(f)\\n        print(f\\\"Loaded {cto_dict[sample]}\\\")\\n        scrub = scr.Scrublet(cto.fragment_matrix.T, expected_doublet_rate=0.1)\\n        doublet_scores, predicted_doublets = scrub.scrub_doublets()\\n        # scrub.plot_histogram()\\n        scrub.call_doublets(threshold=scrub_threshold)\\n        a, b = scrub.plot_histogram()\\n        a.suptitle(sample)\\n        plt.savefig(\\n            f\\\"plots_qc/{sample}.scrublet_histogram.png\\\", dpi=150, facecolor=\\\"white\\\"\\n        )\\n        plt.show()\\n        plt.close()\\n\\n        print(\\\"Running UMAP...\\\")\\n        scrub.set_embedding(\\\"UMAP\\\", scr.get_umap(scrub.manifold_obs_, 10, min_dist=0.3))\\n        scrub.plot_embedding(\\\"UMAP\\\", order_points=True)\\n        plt.savefig(f\\\"plots_qc/{sample}.scrublet_umap.png\\\", dpi=150, facecolor=\\\"white\\\")\\n        plt.show()\\n        plt.close()\\n\\n        scrublet = pd.DataFrame(\\n            [scrub.doublet_scores_obs_, scrub.predicted_doublets_],\\n            columns=cto.cell_names,\\n            index=[\\\"Doublet_scores_fragments\\\", \\\"Predicted_doublets_fragments\\\"],\\n        ).T\\n        cto.add_cell_data(scrublet)\\n        n_scrublet_doublets = len(cto.cell_data[\\\"Predicted_doublets_fragments\\\"] == True)\\n        print(f\\\"{sample}: found doublets: \\\\n\\\\t({n_scrublet_doublets}: Scrublet)\\\")\\n\\n        cto_path_new = scrubcto_dict[sample]\\n\\n        with open(cto_path_new, \\\"wb\\\") as f:\\n            pickle.dump(cto, f, protocol=4)\\n\\n        print(\\\"\\\\n\\\")\\n\\nelse:\\n    print(\\\"All samples already processed.\\\")\";\n",
       "                var nbb_cells = Jupyter.notebook.get_cells();\n",
       "                for (var i = 0; i < nbb_cells.length; ++i) {\n",
       "                    if (nbb_cells[i].input_prompt_number == nbb_cell_id) {\n",
       "                        if (nbb_cells[i].get_text() == nbb_unformatted_code) {\n",
       "                             nbb_cells[i].set_text(nbb_formatted_code);\n",
       "                        }\n",
       "                        break;\n",
       "                    }\n",
       "                }\n",
       "            }, 500);\n",
       "            "
      ],
      "text/plain": [
       "<IPython.core.display.Javascript object>"
      ]
     },
     "metadata": {},
     "output_type": "display_data"
    }
   ],
   "source": [
    "if cto_dict != {}:\n",
    "    for sample in scrubcto_dict.keys():\n",
    "        with open(cto_dict[sample], 'rb') as f:\n",
    "            cto = pickle.load(f)\n",
    "        print(f\"Loaded {cto_dict[sample]}\")\n",
    "        scrub = scr.Scrublet(cto.fragment_matrix.T, expected_doublet_rate=0.1)\n",
    "        doublet_scores, predicted_doublets = scrub.scrub_doublets()\n",
    "        # scrub.plot_histogram()\n",
    "        scrub.call_doublets(threshold=scrub_threshold)\n",
    "        a,b = scrub.plot_histogram()\n",
    "        a.suptitle(sample)\n",
    "        plt.savefig(f'plots_qc/{sample}.scrublet_histogram.png', dpi=150, facecolor='white')\n",
    "        plt.show()\n",
    "        plt.close()\n",
    "\n",
    "        print('Running UMAP...')\n",
    "        scrub.set_embedding('UMAP', scr.get_umap(scrub.manifold_obs_, 10, min_dist=0.3))\n",
    "        scrub.plot_embedding('UMAP', order_points=True);\n",
    "        plt.savefig(f'plots_qc/{sample}.scrublet_umap.png', dpi=150, facecolor='white')\n",
    "        plt.show()\n",
    "        plt.close()\n",
    "\n",
    "        scrublet = pd.DataFrame([scrub.doublet_scores_obs_, scrub.predicted_doublets_], \n",
    "            columns=cto.cell_names,\n",
    "            index=['Doublet_scores_fragments', 'Predicted_doublets_fragments']).T\n",
    "        cto.add_cell_data(scrublet)\n",
    "        n_scrublet_doublets = len(cto.cell_data[\"Predicted_doublets_fragments\"] == True)\n",
    "        print(f\"{sample}: found doublets: \\n\\t({n_scrublet_doublets}: Scrublet)\"\n",
    "             )\n",
    "\n",
    "        cto_path_new = scrubcto_dict[sample]\n",
    "\n",
    "        with open(\n",
    "            cto_path_new, \"wb\"\n",
    "        ) as f:\n",
    "            pickle.dump(cto, f, protocol=4)\n",
    "\n",
    "        print('\\n')\n",
    "        \n",
    "else:\n",
    "    print(\"All samples already processed.\")"
   ]
  },
  {
   "cell_type": "markdown",
   "id": "c133fbea",
   "metadata": {
    "papermill": {
     "duration": 0.008932,
     "end_time": "2022-09-28T14:39:14.928731",
     "exception": false,
     "start_time": "2022-09-28T14:39:14.919799",
     "status": "completed"
    },
    "pycharm": {
     "name": "#%% md\n"
    },
    "tags": []
   },
   "source": [
    "## Cell filtering"
   ]
  },
  {
   "cell_type": "markdown",
   "id": "9da2c69c",
   "metadata": {
    "papermill": {
     "duration": 0.008952,
     "end_time": "2022-09-28T14:39:14.946697",
     "exception": false,
     "start_time": "2022-09-28T14:39:14.937745",
     "status": "completed"
    },
    "pycharm": {
     "name": "#%% md\n"
    },
    "tags": []
   },
   "source": [
    "### Read in Freemuxlet doublet predictions"
   ]
  },
  {
   "cell_type": "code",
   "execution_count": 20,
   "id": "6cf96b25",
   "metadata": {
    "execution": {
     "iopub.execute_input": "2022-09-28T14:39:14.965518Z",
     "iopub.status.busy": "2022-09-28T14:39:14.965236Z",
     "iopub.status.idle": "2022-09-28T14:39:15.430052Z",
     "shell.execute_reply": "2022-09-28T14:39:15.429312Z"
    },
    "papermill": {
     "duration": 0.475425,
     "end_time": "2022-09-28T14:39:15.431088",
     "exception": false,
     "start_time": "2022-09-28T14:39:14.955663",
     "status": "completed"
    },
    "pycharm": {
     "name": "#%%\n"
    },
    "tags": []
   },
   "outputs": [
    {
     "data": {
      "text/html": [
       "<div>\n",
       "<style scoped>\n",
       "    .dataframe tbody tr th:only-of-type {\n",
       "        vertical-align: middle;\n",
       "    }\n",
       "\n",
       "    .dataframe tbody tr th {\n",
       "        vertical-align: top;\n",
       "    }\n",
       "\n",
       "    .dataframe thead th {\n",
       "        text-align: right;\n",
       "    }\n",
       "</style>\n",
       "<table border=\"1\" class=\"dataframe\">\n",
       "  <thead>\n",
       "    <tr style=\"text-align: right;\">\n",
       "      <th></th>\n",
       "      <th>INT_ID</th>\n",
       "      <th>BARCODE</th>\n",
       "      <th>NUM.SNPS</th>\n",
       "      <th>NUM.READS</th>\n",
       "      <th>DROPLET.TYPE</th>\n",
       "      <th>BEST.GUESS</th>\n",
       "      <th>BEST.LLK</th>\n",
       "      <th>NEXT.GUESS</th>\n",
       "      <th>NEXT.LLK</th>\n",
       "      <th>DIFF.LLK.BEST.NEXT</th>\n",
       "      <th>...</th>\n",
       "      <th>SNG.BEST.LLK</th>\n",
       "      <th>SNG.NEXT.GUESS</th>\n",
       "      <th>SNG.NEXT.LLK</th>\n",
       "      <th>SNG.ONLY.POSTERIOR</th>\n",
       "      <th>DBL.BEST.GUESS</th>\n",
       "      <th>DBL.BEST.LLK</th>\n",
       "      <th>DIFF.LLK.SNG.DBL</th>\n",
       "      <th>ubarcode</th>\n",
       "      <th>replicate</th>\n",
       "      <th>sample</th>\n",
       "    </tr>\n",
       "  </thead>\n",
       "  <tbody>\n",
       "    <tr>\n",
       "      <th>CNA_hydrop_2.FIXEDCELLS.1</th>\n",
       "      <td>0</td>\n",
       "      <td>CGACATTACATAGGAGTCAA</td>\n",
       "      <td>182</td>\n",
       "      <td>182</td>\n",
       "      <td>SNG</td>\n",
       "      <td>1,1</td>\n",
       "      <td>-324.11</td>\n",
       "      <td>1,0</td>\n",
       "      <td>-343.05</td>\n",
       "      <td>18.94</td>\n",
       "      <td>...</td>\n",
       "      <td>-324.11</td>\n",
       "      <td>0</td>\n",
       "      <td>-373.28</td>\n",
       "      <td>1.0</td>\n",
       "      <td>1,0</td>\n",
       "      <td>-343.05</td>\n",
       "      <td>18.94</td>\n",
       "      <td>CNA_hydrop_2.FIXEDCELLS#CGACATTACATAGGAGTCAA</td>\n",
       "      <td>CNA_hydrop_2.FIXEDCELLS</td>\n",
       "      <td>sampleB</td>\n",
       "    </tr>\n",
       "    <tr>\n",
       "      <th>CNA_hydrop_2.FIXEDCELLS.2</th>\n",
       "      <td>1</td>\n",
       "      <td>GGCAACCTCTGAGCTAGTAA</td>\n",
       "      <td>209</td>\n",
       "      <td>209</td>\n",
       "      <td>SNG</td>\n",
       "      <td>0,0</td>\n",
       "      <td>-369.10</td>\n",
       "      <td>1,0</td>\n",
       "      <td>-390.29</td>\n",
       "      <td>21.19</td>\n",
       "      <td>...</td>\n",
       "      <td>-369.10</td>\n",
       "      <td>1</td>\n",
       "      <td>-426.11</td>\n",
       "      <td>1.0</td>\n",
       "      <td>1,0</td>\n",
       "      <td>-390.29</td>\n",
       "      <td>21.19</td>\n",
       "      <td>CNA_hydrop_2.FIXEDCELLS#GGCAACCTCTGAGCTAGTAA</td>\n",
       "      <td>CNA_hydrop_2.FIXEDCELLS</td>\n",
       "      <td>sampleA</td>\n",
       "    </tr>\n",
       "    <tr>\n",
       "      <th>CNA_hydrop_2.FIXEDCELLS.3</th>\n",
       "      <td>2</td>\n",
       "      <td>CAACACCATTTCTCGCACGA</td>\n",
       "      <td>273</td>\n",
       "      <td>273</td>\n",
       "      <td>SNG</td>\n",
       "      <td>0,0</td>\n",
       "      <td>-492.20</td>\n",
       "      <td>1,0</td>\n",
       "      <td>-520.48</td>\n",
       "      <td>28.28</td>\n",
       "      <td>...</td>\n",
       "      <td>-492.20</td>\n",
       "      <td>1</td>\n",
       "      <td>-576.63</td>\n",
       "      <td>1.0</td>\n",
       "      <td>1,0</td>\n",
       "      <td>-520.48</td>\n",
       "      <td>28.28</td>\n",
       "      <td>CNA_hydrop_2.FIXEDCELLS#CAACACCATTTCTCGCACGA</td>\n",
       "      <td>CNA_hydrop_2.FIXEDCELLS</td>\n",
       "      <td>sampleA</td>\n",
       "    </tr>\n",
       "    <tr>\n",
       "      <th>CNA_hydrop_2.FIXEDCELLS.4</th>\n",
       "      <td>3</td>\n",
       "      <td>TGCATGAGGTTACGGACGGT</td>\n",
       "      <td>354</td>\n",
       "      <td>354</td>\n",
       "      <td>SNG</td>\n",
       "      <td>1,1</td>\n",
       "      <td>-636.69</td>\n",
       "      <td>1,0</td>\n",
       "      <td>-669.83</td>\n",
       "      <td>33.14</td>\n",
       "      <td>...</td>\n",
       "      <td>-636.69</td>\n",
       "      <td>0</td>\n",
       "      <td>-734.25</td>\n",
       "      <td>1.0</td>\n",
       "      <td>1,0</td>\n",
       "      <td>-669.83</td>\n",
       "      <td>33.14</td>\n",
       "      <td>CNA_hydrop_2.FIXEDCELLS#TGCATGAGGTTACGGACGGT</td>\n",
       "      <td>CNA_hydrop_2.FIXEDCELLS</td>\n",
       "      <td>sampleB</td>\n",
       "    </tr>\n",
       "    <tr>\n",
       "      <th>CNA_hydrop_2.FIXEDCELLS.5</th>\n",
       "      <td>4</td>\n",
       "      <td>ACAGTGAAGATCCAGTGTTC</td>\n",
       "      <td>577</td>\n",
       "      <td>577</td>\n",
       "      <td>SNG</td>\n",
       "      <td>0,0</td>\n",
       "      <td>-1069.99</td>\n",
       "      <td>1,0</td>\n",
       "      <td>-1093.26</td>\n",
       "      <td>23.27</td>\n",
       "      <td>...</td>\n",
       "      <td>-1069.99</td>\n",
       "      <td>1</td>\n",
       "      <td>-1173.29</td>\n",
       "      <td>1.0</td>\n",
       "      <td>1,0</td>\n",
       "      <td>-1093.26</td>\n",
       "      <td>23.27</td>\n",
       "      <td>CNA_hydrop_2.FIXEDCELLS#ACAGTGAAGATCCAGTGTTC</td>\n",
       "      <td>CNA_hydrop_2.FIXEDCELLS</td>\n",
       "      <td>sampleA</td>\n",
       "    </tr>\n",
       "    <tr>\n",
       "      <th>...</th>\n",
       "      <td>...</td>\n",
       "      <td>...</td>\n",
       "      <td>...</td>\n",
       "      <td>...</td>\n",
       "      <td>...</td>\n",
       "      <td>...</td>\n",
       "      <td>...</td>\n",
       "      <td>...</td>\n",
       "      <td>...</td>\n",
       "      <td>...</td>\n",
       "      <td>...</td>\n",
       "      <td>...</td>\n",
       "      <td>...</td>\n",
       "      <td>...</td>\n",
       "      <td>...</td>\n",
       "      <td>...</td>\n",
       "      <td>...</td>\n",
       "      <td>...</td>\n",
       "      <td>...</td>\n",
       "      <td>...</td>\n",
       "      <td>...</td>\n",
       "    </tr>\n",
       "    <tr>\n",
       "      <th>VIB_hydrop_12.FIXEDCELLS.1417</th>\n",
       "      <td>1416</td>\n",
       "      <td>GTCGTTGAGAGTGACCAGTA</td>\n",
       "      <td>126</td>\n",
       "      <td>126</td>\n",
       "      <td>SNG</td>\n",
       "      <td>1,1</td>\n",
       "      <td>-221.86</td>\n",
       "      <td>1,0</td>\n",
       "      <td>-240.94</td>\n",
       "      <td>19.08</td>\n",
       "      <td>...</td>\n",
       "      <td>-221.86</td>\n",
       "      <td>0</td>\n",
       "      <td>-283.50</td>\n",
       "      <td>1.0</td>\n",
       "      <td>1,0</td>\n",
       "      <td>-240.94</td>\n",
       "      <td>19.08</td>\n",
       "      <td>VIB_hydrop_12.FIXEDCELLS#GTCGTTGAGAGTGACCAGTA</td>\n",
       "      <td>VIB_hydrop_12.FIXEDCELLS</td>\n",
       "      <td>sampleB</td>\n",
       "    </tr>\n",
       "    <tr>\n",
       "      <th>VIB_hydrop_12.FIXEDCELLS.1418</th>\n",
       "      <td>1417</td>\n",
       "      <td>ACCGAAGGCTTTGCAGTTCT</td>\n",
       "      <td>103</td>\n",
       "      <td>103</td>\n",
       "      <td>SNG</td>\n",
       "      <td>1,1</td>\n",
       "      <td>-185.75</td>\n",
       "      <td>1,0</td>\n",
       "      <td>-198.81</td>\n",
       "      <td>13.06</td>\n",
       "      <td>...</td>\n",
       "      <td>-185.75</td>\n",
       "      <td>0</td>\n",
       "      <td>-226.20</td>\n",
       "      <td>1.0</td>\n",
       "      <td>1,0</td>\n",
       "      <td>-198.81</td>\n",
       "      <td>13.06</td>\n",
       "      <td>VIB_hydrop_12.FIXEDCELLS#ACCGAAGGCTTTGCAGTTCT</td>\n",
       "      <td>VIB_hydrop_12.FIXEDCELLS</td>\n",
       "      <td>sampleB</td>\n",
       "    </tr>\n",
       "    <tr>\n",
       "      <th>VIB_hydrop_12.FIXEDCELLS.1419</th>\n",
       "      <td>1418</td>\n",
       "      <td>TAGAGCCTGATTGTGTAGGA</td>\n",
       "      <td>115</td>\n",
       "      <td>115</td>\n",
       "      <td>SNG</td>\n",
       "      <td>1,1</td>\n",
       "      <td>-207.21</td>\n",
       "      <td>1,0</td>\n",
       "      <td>-219.27</td>\n",
       "      <td>12.06</td>\n",
       "      <td>...</td>\n",
       "      <td>-207.21</td>\n",
       "      <td>0</td>\n",
       "      <td>-244.26</td>\n",
       "      <td>1.0</td>\n",
       "      <td>1,0</td>\n",
       "      <td>-219.27</td>\n",
       "      <td>12.06</td>\n",
       "      <td>VIB_hydrop_12.FIXEDCELLS#TAGAGCCTGATTGTGTAGGA</td>\n",
       "      <td>VIB_hydrop_12.FIXEDCELLS</td>\n",
       "      <td>sampleB</td>\n",
       "    </tr>\n",
       "    <tr>\n",
       "      <th>VIB_hydrop_12.FIXEDCELLS.1420</th>\n",
       "      <td>1419</td>\n",
       "      <td>CAATTGGAGACCACACGGAT</td>\n",
       "      <td>101</td>\n",
       "      <td>101</td>\n",
       "      <td>SNG</td>\n",
       "      <td>1,1</td>\n",
       "      <td>-177.98</td>\n",
       "      <td>1,0</td>\n",
       "      <td>-188.29</td>\n",
       "      <td>10.31</td>\n",
       "      <td>...</td>\n",
       "      <td>-177.98</td>\n",
       "      <td>0</td>\n",
       "      <td>-214.34</td>\n",
       "      <td>1.0</td>\n",
       "      <td>1,0</td>\n",
       "      <td>-188.29</td>\n",
       "      <td>10.31</td>\n",
       "      <td>VIB_hydrop_12.FIXEDCELLS#CAATTGGAGACCACACGGAT</td>\n",
       "      <td>VIB_hydrop_12.FIXEDCELLS</td>\n",
       "      <td>sampleB</td>\n",
       "    </tr>\n",
       "    <tr>\n",
       "      <th>VIB_hydrop_12.FIXEDCELLS.1421</th>\n",
       "      <td>1420</td>\n",
       "      <td>TCGTCACAAGATCCAGCGCA</td>\n",
       "      <td>96</td>\n",
       "      <td>96</td>\n",
       "      <td>SNG</td>\n",
       "      <td>0,0</td>\n",
       "      <td>-165.04</td>\n",
       "      <td>1,0</td>\n",
       "      <td>-177.31</td>\n",
       "      <td>12.28</td>\n",
       "      <td>...</td>\n",
       "      <td>-165.04</td>\n",
       "      <td>1</td>\n",
       "      <td>-201.88</td>\n",
       "      <td>1.0</td>\n",
       "      <td>1,0</td>\n",
       "      <td>-177.31</td>\n",
       "      <td>12.28</td>\n",
       "      <td>VIB_hydrop_12.FIXEDCELLS#TCGTCACAAGATCCAGCGCA</td>\n",
       "      <td>VIB_hydrop_12.FIXEDCELLS</td>\n",
       "      <td>sampleA</td>\n",
       "    </tr>\n",
       "  </tbody>\n",
       "</table>\n",
       "<p>119904 rows × 23 columns</p>\n",
       "</div>"
      ],
      "text/plain": [
       "                               INT_ID               BARCODE  NUM.SNPS  \\\n",
       "CNA_hydrop_2.FIXEDCELLS.1           0  CGACATTACATAGGAGTCAA       182   \n",
       "CNA_hydrop_2.FIXEDCELLS.2           1  GGCAACCTCTGAGCTAGTAA       209   \n",
       "CNA_hydrop_2.FIXEDCELLS.3           2  CAACACCATTTCTCGCACGA       273   \n",
       "CNA_hydrop_2.FIXEDCELLS.4           3  TGCATGAGGTTACGGACGGT       354   \n",
       "CNA_hydrop_2.FIXEDCELLS.5           4  ACAGTGAAGATCCAGTGTTC       577   \n",
       "...                               ...                   ...       ...   \n",
       "VIB_hydrop_12.FIXEDCELLS.1417    1416  GTCGTTGAGAGTGACCAGTA       126   \n",
       "VIB_hydrop_12.FIXEDCELLS.1418    1417  ACCGAAGGCTTTGCAGTTCT       103   \n",
       "VIB_hydrop_12.FIXEDCELLS.1419    1418  TAGAGCCTGATTGTGTAGGA       115   \n",
       "VIB_hydrop_12.FIXEDCELLS.1420    1419  CAATTGGAGACCACACGGAT       101   \n",
       "VIB_hydrop_12.FIXEDCELLS.1421    1420  TCGTCACAAGATCCAGCGCA        96   \n",
       "\n",
       "                               NUM.READS DROPLET.TYPE BEST.GUESS  BEST.LLK  \\\n",
       "CNA_hydrop_2.FIXEDCELLS.1            182          SNG        1,1   -324.11   \n",
       "CNA_hydrop_2.FIXEDCELLS.2            209          SNG        0,0   -369.10   \n",
       "CNA_hydrop_2.FIXEDCELLS.3            273          SNG        0,0   -492.20   \n",
       "CNA_hydrop_2.FIXEDCELLS.4            354          SNG        1,1   -636.69   \n",
       "CNA_hydrop_2.FIXEDCELLS.5            577          SNG        0,0  -1069.99   \n",
       "...                                  ...          ...        ...       ...   \n",
       "VIB_hydrop_12.FIXEDCELLS.1417        126          SNG        1,1   -221.86   \n",
       "VIB_hydrop_12.FIXEDCELLS.1418        103          SNG        1,1   -185.75   \n",
       "VIB_hydrop_12.FIXEDCELLS.1419        115          SNG        1,1   -207.21   \n",
       "VIB_hydrop_12.FIXEDCELLS.1420        101          SNG        1,1   -177.98   \n",
       "VIB_hydrop_12.FIXEDCELLS.1421         96          SNG        0,0   -165.04   \n",
       "\n",
       "                              NEXT.GUESS  NEXT.LLK  DIFF.LLK.BEST.NEXT  ...  \\\n",
       "CNA_hydrop_2.FIXEDCELLS.1            1,0   -343.05               18.94  ...   \n",
       "CNA_hydrop_2.FIXEDCELLS.2            1,0   -390.29               21.19  ...   \n",
       "CNA_hydrop_2.FIXEDCELLS.3            1,0   -520.48               28.28  ...   \n",
       "CNA_hydrop_2.FIXEDCELLS.4            1,0   -669.83               33.14  ...   \n",
       "CNA_hydrop_2.FIXEDCELLS.5            1,0  -1093.26               23.27  ...   \n",
       "...                                  ...       ...                 ...  ...   \n",
       "VIB_hydrop_12.FIXEDCELLS.1417        1,0   -240.94               19.08  ...   \n",
       "VIB_hydrop_12.FIXEDCELLS.1418        1,0   -198.81               13.06  ...   \n",
       "VIB_hydrop_12.FIXEDCELLS.1419        1,0   -219.27               12.06  ...   \n",
       "VIB_hydrop_12.FIXEDCELLS.1420        1,0   -188.29               10.31  ...   \n",
       "VIB_hydrop_12.FIXEDCELLS.1421        1,0   -177.31               12.28  ...   \n",
       "\n",
       "                               SNG.BEST.LLK  SNG.NEXT.GUESS  SNG.NEXT.LLK  \\\n",
       "CNA_hydrop_2.FIXEDCELLS.1           -324.11               0       -373.28   \n",
       "CNA_hydrop_2.FIXEDCELLS.2           -369.10               1       -426.11   \n",
       "CNA_hydrop_2.FIXEDCELLS.3           -492.20               1       -576.63   \n",
       "CNA_hydrop_2.FIXEDCELLS.4           -636.69               0       -734.25   \n",
       "CNA_hydrop_2.FIXEDCELLS.5          -1069.99               1      -1173.29   \n",
       "...                                     ...             ...           ...   \n",
       "VIB_hydrop_12.FIXEDCELLS.1417       -221.86               0       -283.50   \n",
       "VIB_hydrop_12.FIXEDCELLS.1418       -185.75               0       -226.20   \n",
       "VIB_hydrop_12.FIXEDCELLS.1419       -207.21               0       -244.26   \n",
       "VIB_hydrop_12.FIXEDCELLS.1420       -177.98               0       -214.34   \n",
       "VIB_hydrop_12.FIXEDCELLS.1421       -165.04               1       -201.88   \n",
       "\n",
       "                               SNG.ONLY.POSTERIOR  DBL.BEST.GUESS  \\\n",
       "CNA_hydrop_2.FIXEDCELLS.1                     1.0             1,0   \n",
       "CNA_hydrop_2.FIXEDCELLS.2                     1.0             1,0   \n",
       "CNA_hydrop_2.FIXEDCELLS.3                     1.0             1,0   \n",
       "CNA_hydrop_2.FIXEDCELLS.4                     1.0             1,0   \n",
       "CNA_hydrop_2.FIXEDCELLS.5                     1.0             1,0   \n",
       "...                                           ...             ...   \n",
       "VIB_hydrop_12.FIXEDCELLS.1417                 1.0             1,0   \n",
       "VIB_hydrop_12.FIXEDCELLS.1418                 1.0             1,0   \n",
       "VIB_hydrop_12.FIXEDCELLS.1419                 1.0             1,0   \n",
       "VIB_hydrop_12.FIXEDCELLS.1420                 1.0             1,0   \n",
       "VIB_hydrop_12.FIXEDCELLS.1421                 1.0             1,0   \n",
       "\n",
       "                               DBL.BEST.LLK  DIFF.LLK.SNG.DBL  \\\n",
       "CNA_hydrop_2.FIXEDCELLS.1           -343.05             18.94   \n",
       "CNA_hydrop_2.FIXEDCELLS.2           -390.29             21.19   \n",
       "CNA_hydrop_2.FIXEDCELLS.3           -520.48             28.28   \n",
       "CNA_hydrop_2.FIXEDCELLS.4           -669.83             33.14   \n",
       "CNA_hydrop_2.FIXEDCELLS.5          -1093.26             23.27   \n",
       "...                                     ...               ...   \n",
       "VIB_hydrop_12.FIXEDCELLS.1417       -240.94             19.08   \n",
       "VIB_hydrop_12.FIXEDCELLS.1418       -198.81             13.06   \n",
       "VIB_hydrop_12.FIXEDCELLS.1419       -219.27             12.06   \n",
       "VIB_hydrop_12.FIXEDCELLS.1420       -188.29             10.31   \n",
       "VIB_hydrop_12.FIXEDCELLS.1421       -177.31             12.28   \n",
       "\n",
       "                                                                    ubarcode  \\\n",
       "CNA_hydrop_2.FIXEDCELLS.1       CNA_hydrop_2.FIXEDCELLS#CGACATTACATAGGAGTCAA   \n",
       "CNA_hydrop_2.FIXEDCELLS.2       CNA_hydrop_2.FIXEDCELLS#GGCAACCTCTGAGCTAGTAA   \n",
       "CNA_hydrop_2.FIXEDCELLS.3       CNA_hydrop_2.FIXEDCELLS#CAACACCATTTCTCGCACGA   \n",
       "CNA_hydrop_2.FIXEDCELLS.4       CNA_hydrop_2.FIXEDCELLS#TGCATGAGGTTACGGACGGT   \n",
       "CNA_hydrop_2.FIXEDCELLS.5       CNA_hydrop_2.FIXEDCELLS#ACAGTGAAGATCCAGTGTTC   \n",
       "...                                                                      ...   \n",
       "VIB_hydrop_12.FIXEDCELLS.1417  VIB_hydrop_12.FIXEDCELLS#GTCGTTGAGAGTGACCAGTA   \n",
       "VIB_hydrop_12.FIXEDCELLS.1418  VIB_hydrop_12.FIXEDCELLS#ACCGAAGGCTTTGCAGTTCT   \n",
       "VIB_hydrop_12.FIXEDCELLS.1419  VIB_hydrop_12.FIXEDCELLS#TAGAGCCTGATTGTGTAGGA   \n",
       "VIB_hydrop_12.FIXEDCELLS.1420  VIB_hydrop_12.FIXEDCELLS#CAATTGGAGACCACACGGAT   \n",
       "VIB_hydrop_12.FIXEDCELLS.1421  VIB_hydrop_12.FIXEDCELLS#TCGTCACAAGATCCAGCGCA   \n",
       "\n",
       "                                              replicate   sample  \n",
       "CNA_hydrop_2.FIXEDCELLS.1       CNA_hydrop_2.FIXEDCELLS  sampleB  \n",
       "CNA_hydrop_2.FIXEDCELLS.2       CNA_hydrop_2.FIXEDCELLS  sampleA  \n",
       "CNA_hydrop_2.FIXEDCELLS.3       CNA_hydrop_2.FIXEDCELLS  sampleA  \n",
       "CNA_hydrop_2.FIXEDCELLS.4       CNA_hydrop_2.FIXEDCELLS  sampleB  \n",
       "CNA_hydrop_2.FIXEDCELLS.5       CNA_hydrop_2.FIXEDCELLS  sampleA  \n",
       "...                                                 ...      ...  \n",
       "VIB_hydrop_12.FIXEDCELLS.1417  VIB_hydrop_12.FIXEDCELLS  sampleB  \n",
       "VIB_hydrop_12.FIXEDCELLS.1418  VIB_hydrop_12.FIXEDCELLS  sampleB  \n",
       "VIB_hydrop_12.FIXEDCELLS.1419  VIB_hydrop_12.FIXEDCELLS  sampleB  \n",
       "VIB_hydrop_12.FIXEDCELLS.1420  VIB_hydrop_12.FIXEDCELLS  sampleB  \n",
       "VIB_hydrop_12.FIXEDCELLS.1421  VIB_hydrop_12.FIXEDCELLS  sampleA  \n",
       "\n",
       "[119904 rows x 23 columns]"
      ]
     },
     "execution_count": 20,
     "metadata": {},
     "output_type": "execute_result"
    },
    {
     "data": {
      "application/javascript": [
       "\n",
       "            setTimeout(function() {\n",
       "                var nbb_cell_id = 20;\n",
       "                var nbb_unformatted_code = \"f_fmx = 'out_fmx/genotype_concordance_unified.txt'\\nfmx = pd.read_csv(f_fmx, sep='\\\\t')\\nfmx\";\n",
       "                var nbb_formatted_code = \"f_fmx = \\\"out_fmx/genotype_concordance_unified.txt\\\"\\nfmx = pd.read_csv(f_fmx, sep=\\\"\\\\t\\\")\\nfmx\";\n",
       "                var nbb_cells = Jupyter.notebook.get_cells();\n",
       "                for (var i = 0; i < nbb_cells.length; ++i) {\n",
       "                    if (nbb_cells[i].input_prompt_number == nbb_cell_id) {\n",
       "                        if (nbb_cells[i].get_text() == nbb_unformatted_code) {\n",
       "                             nbb_cells[i].set_text(nbb_formatted_code);\n",
       "                        }\n",
       "                        break;\n",
       "                    }\n",
       "                }\n",
       "            }, 500);\n",
       "            "
      ],
      "text/plain": [
       "<IPython.core.display.Javascript object>"
      ]
     },
     "metadata": {},
     "output_type": "display_data"
    }
   ],
   "source": [
    "f_fmx = 'out_fmx/genotype_concordance_unified.txt'\n",
    "fmx = pd.read_csv(f_fmx, sep='\\t')\n",
    "fmx"
   ]
  },
  {
   "cell_type": "code",
   "execution_count": 21,
   "id": "da72b91a",
   "metadata": {
    "execution": {
     "iopub.execute_input": "2022-09-28T14:39:15.452572Z",
     "iopub.status.busy": "2022-09-28T14:39:15.452280Z",
     "iopub.status.idle": "2022-09-28T14:39:15.461812Z",
     "shell.execute_reply": "2022-09-28T14:39:15.461218Z"
    },
    "papermill": {
     "duration": 0.021193,
     "end_time": "2022-09-28T14:39:15.462812",
     "exception": false,
     "start_time": "2022-09-28T14:39:15.441619",
     "status": "completed"
    },
    "pycharm": {
     "name": "#%%\n"
    },
    "tags": []
   },
   "outputs": [
    {
     "data": {
      "text/plain": [
       "array(['SNG', 'DBL', 'AMB'], dtype=object)"
      ]
     },
     "execution_count": 21,
     "metadata": {},
     "output_type": "execute_result"
    },
    {
     "data": {
      "application/javascript": [
       "\n",
       "            setTimeout(function() {\n",
       "                var nbb_cell_id = 21;\n",
       "                var nbb_unformatted_code = \"fmx['DROPLET.TYPE'].unique()\";\n",
       "                var nbb_formatted_code = \"fmx[\\\"DROPLET.TYPE\\\"].unique()\";\n",
       "                var nbb_cells = Jupyter.notebook.get_cells();\n",
       "                for (var i = 0; i < nbb_cells.length; ++i) {\n",
       "                    if (nbb_cells[i].input_prompt_number == nbb_cell_id) {\n",
       "                        if (nbb_cells[i].get_text() == nbb_unformatted_code) {\n",
       "                             nbb_cells[i].set_text(nbb_formatted_code);\n",
       "                        }\n",
       "                        break;\n",
       "                    }\n",
       "                }\n",
       "            }, 500);\n",
       "            "
      ],
      "text/plain": [
       "<IPython.core.display.Javascript object>"
      ]
     },
     "metadata": {},
     "output_type": "display_data"
    }
   ],
   "source": [
    "fmx['DROPLET.TYPE'].unique()"
   ]
  },
  {
   "cell_type": "code",
   "execution_count": 22,
   "id": "d351110d",
   "metadata": {
    "execution": {
     "iopub.execute_input": "2022-09-28T14:39:15.483678Z",
     "iopub.status.busy": "2022-09-28T14:39:15.483120Z",
     "iopub.status.idle": "2022-09-28T14:39:15.539757Z",
     "shell.execute_reply": "2022-09-28T14:39:15.539070Z"
    },
    "papermill": {
     "duration": 0.067835,
     "end_time": "2022-09-28T14:39:15.540756",
     "exception": false,
     "start_time": "2022-09-28T14:39:15.472921",
     "status": "completed"
    },
    "pycharm": {
     "name": "#%%\n"
    },
    "tags": []
   },
   "outputs": [
    {
     "data": {
      "text/html": [
       "<div>\n",
       "<style scoped>\n",
       "    .dataframe tbody tr th:only-of-type {\n",
       "        vertical-align: middle;\n",
       "    }\n",
       "\n",
       "    .dataframe tbody tr th {\n",
       "        vertical-align: top;\n",
       "    }\n",
       "\n",
       "    .dataframe thead th {\n",
       "        text-align: right;\n",
       "    }\n",
       "</style>\n",
       "<table border=\"1\" class=\"dataframe\">\n",
       "  <thead>\n",
       "    <tr style=\"text-align: right;\">\n",
       "      <th></th>\n",
       "      <th>fmx_droplet_type</th>\n",
       "      <th>fmx_sample</th>\n",
       "    </tr>\n",
       "    <tr>\n",
       "      <th>cell_names</th>\n",
       "      <th></th>\n",
       "      <th></th>\n",
       "    </tr>\n",
       "  </thead>\n",
       "  <tbody>\n",
       "    <tr>\n",
       "      <th>CGACATTACATAGGAGTCAA___CNA_hydrop_2.FIXEDCELLS</th>\n",
       "      <td>SNG</td>\n",
       "      <td>sampleB</td>\n",
       "    </tr>\n",
       "    <tr>\n",
       "      <th>GGCAACCTCTGAGCTAGTAA___CNA_hydrop_2.FIXEDCELLS</th>\n",
       "      <td>SNG</td>\n",
       "      <td>sampleA</td>\n",
       "    </tr>\n",
       "    <tr>\n",
       "      <th>CAACACCATTTCTCGCACGA___CNA_hydrop_2.FIXEDCELLS</th>\n",
       "      <td>SNG</td>\n",
       "      <td>sampleA</td>\n",
       "    </tr>\n",
       "    <tr>\n",
       "      <th>TGCATGAGGTTACGGACGGT___CNA_hydrop_2.FIXEDCELLS</th>\n",
       "      <td>SNG</td>\n",
       "      <td>sampleB</td>\n",
       "    </tr>\n",
       "    <tr>\n",
       "      <th>ACAGTGAAGATCCAGTGTTC___CNA_hydrop_2.FIXEDCELLS</th>\n",
       "      <td>SNG</td>\n",
       "      <td>sampleA</td>\n",
       "    </tr>\n",
       "    <tr>\n",
       "      <th>...</th>\n",
       "      <td>...</td>\n",
       "      <td>...</td>\n",
       "    </tr>\n",
       "    <tr>\n",
       "      <th>GTCGTTGAGAGTGACCAGTA___VIB_hydrop_12.FIXEDCELLS</th>\n",
       "      <td>SNG</td>\n",
       "      <td>sampleB</td>\n",
       "    </tr>\n",
       "    <tr>\n",
       "      <th>ACCGAAGGCTTTGCAGTTCT___VIB_hydrop_12.FIXEDCELLS</th>\n",
       "      <td>SNG</td>\n",
       "      <td>sampleB</td>\n",
       "    </tr>\n",
       "    <tr>\n",
       "      <th>TAGAGCCTGATTGTGTAGGA___VIB_hydrop_12.FIXEDCELLS</th>\n",
       "      <td>SNG</td>\n",
       "      <td>sampleB</td>\n",
       "    </tr>\n",
       "    <tr>\n",
       "      <th>CAATTGGAGACCACACGGAT___VIB_hydrop_12.FIXEDCELLS</th>\n",
       "      <td>SNG</td>\n",
       "      <td>sampleB</td>\n",
       "    </tr>\n",
       "    <tr>\n",
       "      <th>TCGTCACAAGATCCAGCGCA___VIB_hydrop_12.FIXEDCELLS</th>\n",
       "      <td>SNG</td>\n",
       "      <td>sampleA</td>\n",
       "    </tr>\n",
       "  </tbody>\n",
       "</table>\n",
       "<p>119904 rows × 2 columns</p>\n",
       "</div>"
      ],
      "text/plain": [
       "                                                fmx_droplet_type fmx_sample\n",
       "cell_names                                                                 \n",
       "CGACATTACATAGGAGTCAA___CNA_hydrop_2.FIXEDCELLS               SNG    sampleB\n",
       "GGCAACCTCTGAGCTAGTAA___CNA_hydrop_2.FIXEDCELLS               SNG    sampleA\n",
       "CAACACCATTTCTCGCACGA___CNA_hydrop_2.FIXEDCELLS               SNG    sampleA\n",
       "TGCATGAGGTTACGGACGGT___CNA_hydrop_2.FIXEDCELLS               SNG    sampleB\n",
       "ACAGTGAAGATCCAGTGTTC___CNA_hydrop_2.FIXEDCELLS               SNG    sampleA\n",
       "...                                                          ...        ...\n",
       "GTCGTTGAGAGTGACCAGTA___VIB_hydrop_12.FIXEDCELLS              SNG    sampleB\n",
       "ACCGAAGGCTTTGCAGTTCT___VIB_hydrop_12.FIXEDCELLS              SNG    sampleB\n",
       "TAGAGCCTGATTGTGTAGGA___VIB_hydrop_12.FIXEDCELLS              SNG    sampleB\n",
       "CAATTGGAGACCACACGGAT___VIB_hydrop_12.FIXEDCELLS              SNG    sampleB\n",
       "TCGTCACAAGATCCAGCGCA___VIB_hydrop_12.FIXEDCELLS              SNG    sampleA\n",
       "\n",
       "[119904 rows x 2 columns]"
      ]
     },
     "execution_count": 22,
     "metadata": {},
     "output_type": "execute_result"
    },
    {
     "data": {
      "application/javascript": [
       "\n",
       "            setTimeout(function() {\n",
       "                var nbb_cell_id = 22;\n",
       "                var nbb_unformatted_code = \"# create an annotation df:\\nfmx['cell_names'] = fmx['BARCODE'] + \\\"___\\\" + fmx['replicate']\\n\\nfmx_annot = fmx[['DROPLET.TYPE','sample','cell_names']].copy().set_index('cell_names')\\nfmx_annot.columns = ['fmx_droplet_type','fmx_sample']\\nfmx_annot\";\n",
       "                var nbb_formatted_code = \"# create an annotation df:\\nfmx[\\\"cell_names\\\"] = fmx[\\\"BARCODE\\\"] + \\\"___\\\" + fmx[\\\"replicate\\\"]\\n\\nfmx_annot = fmx[[\\\"DROPLET.TYPE\\\", \\\"sample\\\", \\\"cell_names\\\"]].copy().set_index(\\\"cell_names\\\")\\nfmx_annot.columns = [\\\"fmx_droplet_type\\\", \\\"fmx_sample\\\"]\\nfmx_annot\";\n",
       "                var nbb_cells = Jupyter.notebook.get_cells();\n",
       "                for (var i = 0; i < nbb_cells.length; ++i) {\n",
       "                    if (nbb_cells[i].input_prompt_number == nbb_cell_id) {\n",
       "                        if (nbb_cells[i].get_text() == nbb_unformatted_code) {\n",
       "                             nbb_cells[i].set_text(nbb_formatted_code);\n",
       "                        }\n",
       "                        break;\n",
       "                    }\n",
       "                }\n",
       "            }, 500);\n",
       "            "
      ],
      "text/plain": [
       "<IPython.core.display.Javascript object>"
      ]
     },
     "metadata": {},
     "output_type": "display_data"
    }
   ],
   "source": [
    "# create an annotation df:\n",
    "fmx['cell_names'] = fmx['BARCODE'] + \"___\" + fmx['replicate']\n",
    "\n",
    "fmx_annot = fmx[['DROPLET.TYPE','sample','cell_names']].copy().set_index('cell_names')\n",
    "fmx_annot.columns = ['fmx_droplet_type','fmx_sample']\n",
    "fmx_annot"
   ]
  },
  {
   "cell_type": "markdown",
   "id": "c98f1ab4",
   "metadata": {
    "papermill": {
     "duration": 0.010124,
     "end_time": "2022-09-28T14:39:15.561399",
     "exception": false,
     "start_time": "2022-09-28T14:39:15.551275",
     "status": "completed"
    },
    "pycharm": {
     "name": "#%% md\n"
    },
    "tags": []
   },
   "source": [
    "# Read scrublet ctos"
   ]
  },
  {
   "cell_type": "code",
   "execution_count": 23,
   "id": "b6809914",
   "metadata": {
    "execution": {
     "iopub.execute_input": "2022-09-28T14:39:15.582473Z",
     "iopub.status.busy": "2022-09-28T14:39:15.581896Z",
     "iopub.status.idle": "2022-09-28T14:39:15.591426Z",
     "shell.execute_reply": "2022-09-28T14:39:15.590842Z"
    },
    "papermill": {
     "duration": 0.021226,
     "end_time": "2022-09-28T14:39:15.592417",
     "exception": false,
     "start_time": "2022-09-28T14:39:15.571191",
     "status": "completed"
    },
    "pycharm": {
     "name": "#%%\n"
    },
    "tags": []
   },
   "outputs": [
    {
     "data": {
      "text/plain": [
       "{'master_all_1.FIXEDCELLS': 'cistopic_objects_master/master_all_1.FIXEDCELLS__cto.scrublet0-4.pkl'}"
      ]
     },
     "execution_count": 23,
     "metadata": {},
     "output_type": "execute_result"
    },
    {
     "data": {
      "application/javascript": [
       "\n",
       "            setTimeout(function() {\n",
       "                var nbb_cell_id = 23;\n",
       "                var nbb_unformatted_code = \"scrubcto_dict = {x.split('/')[-1].split(f'__cto.scrublet{scrub_name_suffix}.pkl')[0]:x for x in sorted(glob.glob(f'cistopic_objects_master/*__cto.scrublet{scrub_name_suffix}.pkl'))}\\nscrubcto_dict\";\n",
       "                var nbb_formatted_code = \"scrubcto_dict = {\\n    x.split(\\\"/\\\")[-1].split(f\\\"__cto.scrublet{scrub_name_suffix}.pkl\\\")[0]: x\\n    for x in sorted(\\n        glob.glob(f\\\"cistopic_objects_master/*__cto.scrublet{scrub_name_suffix}.pkl\\\")\\n    )\\n}\\nscrubcto_dict\";\n",
       "                var nbb_cells = Jupyter.notebook.get_cells();\n",
       "                for (var i = 0; i < nbb_cells.length; ++i) {\n",
       "                    if (nbb_cells[i].input_prompt_number == nbb_cell_id) {\n",
       "                        if (nbb_cells[i].get_text() == nbb_unformatted_code) {\n",
       "                             nbb_cells[i].set_text(nbb_formatted_code);\n",
       "                        }\n",
       "                        break;\n",
       "                    }\n",
       "                }\n",
       "            }, 500);\n",
       "            "
      ],
      "text/plain": [
       "<IPython.core.display.Javascript object>"
      ]
     },
     "metadata": {},
     "output_type": "display_data"
    }
   ],
   "source": [
    "scrubcto_dict = {x.split('/')[-1].split(f'__cto.scrublet{scrub_name_suffix}.pkl')[0]:x for x in sorted(glob.glob(f'cistopic_objects_master/*__cto.scrublet{scrub_name_suffix}.pkl'))}\n",
    "scrubcto_dict"
   ]
  },
  {
   "cell_type": "code",
   "execution_count": 24,
   "id": "2ae5ae7c",
   "metadata": {
    "execution": {
     "iopub.execute_input": "2022-09-28T14:39:15.613964Z",
     "iopub.status.busy": "2022-09-28T14:39:15.613524Z",
     "iopub.status.idle": "2022-09-28T14:39:15.618945Z",
     "shell.execute_reply": "2022-09-28T14:39:15.618358Z"
    },
    "papermill": {
     "duration": 0.017036,
     "end_time": "2022-09-28T14:39:15.619953",
     "exception": false,
     "start_time": "2022-09-28T14:39:15.602917",
     "status": "completed"
    },
    "tags": []
   },
   "outputs": [
    {
     "data": {
      "text/plain": [
       "1"
      ]
     },
     "execution_count": 24,
     "metadata": {},
     "output_type": "execute_result"
    },
    {
     "data": {
      "application/javascript": [
       "\n",
       "            setTimeout(function() {\n",
       "                var nbb_cell_id = 24;\n",
       "                var nbb_unformatted_code = \"len(scrubcto_dict)\";\n",
       "                var nbb_formatted_code = \"len(scrubcto_dict)\";\n",
       "                var nbb_cells = Jupyter.notebook.get_cells();\n",
       "                for (var i = 0; i < nbb_cells.length; ++i) {\n",
       "                    if (nbb_cells[i].input_prompt_number == nbb_cell_id) {\n",
       "                        if (nbb_cells[i].get_text() == nbb_unformatted_code) {\n",
       "                             nbb_cells[i].set_text(nbb_formatted_code);\n",
       "                        }\n",
       "                        break;\n",
       "                    }\n",
       "                }\n",
       "            }, 500);\n",
       "            "
      ],
      "text/plain": [
       "<IPython.core.display.Javascript object>"
      ]
     },
     "metadata": {},
     "output_type": "display_data"
    }
   ],
   "source": [
    "len(scrubcto_dict)"
   ]
  },
  {
   "cell_type": "code",
   "execution_count": 25,
   "id": "4316b997",
   "metadata": {
    "execution": {
     "iopub.execute_input": "2022-09-28T14:39:15.641526Z",
     "iopub.status.busy": "2022-09-28T14:39:15.641084Z",
     "iopub.status.idle": "2022-09-28T14:39:15.648982Z",
     "shell.execute_reply": "2022-09-28T14:39:15.648359Z"
    },
    "papermill": {
     "duration": 0.019677,
     "end_time": "2022-09-28T14:39:15.649985",
     "exception": false,
     "start_time": "2022-09-28T14:39:15.630308",
     "status": "completed"
    },
    "tags": []
   },
   "outputs": [
    {
     "data": {
      "application/javascript": [
       "\n",
       "            setTimeout(function() {\n",
       "                var nbb_cell_id = 25;\n",
       "                var nbb_unformatted_code = \"non_fmx_samples = ['BIO_ddseq_1.FIXEDCELLS',\\n'BIO_ddseq_2.FIXEDCELLS',\\n'BIO_ddseq_3.FIXEDCELLS',\\n'BIO_ddseq_4.FIXEDCELLS',\\n'OHS_s3atac_2.FIXEDCELLS',\\n'TXG_10xv11_1.FIXEDCELLS',\\n'TXG_10xv2_1.FIXEDCELLS',\\n'TXG_10xv2_2.FIXEDCELLS',\\n'UCS_ddseq_1.FIXEDCELLS',\\n'UCS_ddseq_2.FIXEDCELLS']\";\n",
       "                var nbb_formatted_code = \"non_fmx_samples = [\\n    \\\"BIO_ddseq_1.FIXEDCELLS\\\",\\n    \\\"BIO_ddseq_2.FIXEDCELLS\\\",\\n    \\\"BIO_ddseq_3.FIXEDCELLS\\\",\\n    \\\"BIO_ddseq_4.FIXEDCELLS\\\",\\n    \\\"OHS_s3atac_2.FIXEDCELLS\\\",\\n    \\\"TXG_10xv11_1.FIXEDCELLS\\\",\\n    \\\"TXG_10xv2_1.FIXEDCELLS\\\",\\n    \\\"TXG_10xv2_2.FIXEDCELLS\\\",\\n    \\\"UCS_ddseq_1.FIXEDCELLS\\\",\\n    \\\"UCS_ddseq_2.FIXEDCELLS\\\",\\n]\";\n",
       "                var nbb_cells = Jupyter.notebook.get_cells();\n",
       "                for (var i = 0; i < nbb_cells.length; ++i) {\n",
       "                    if (nbb_cells[i].input_prompt_number == nbb_cell_id) {\n",
       "                        if (nbb_cells[i].get_text() == nbb_unformatted_code) {\n",
       "                             nbb_cells[i].set_text(nbb_formatted_code);\n",
       "                        }\n",
       "                        break;\n",
       "                    }\n",
       "                }\n",
       "            }, 500);\n",
       "            "
      ],
      "text/plain": [
       "<IPython.core.display.Javascript object>"
      ]
     },
     "metadata": {},
     "output_type": "display_data"
    }
   ],
   "source": [
    "non_fmx_samples = ['BIO_ddseq_1.FIXEDCELLS',\n",
    "'BIO_ddseq_2.FIXEDCELLS',\n",
    "'BIO_ddseq_3.FIXEDCELLS',\n",
    "'BIO_ddseq_4.FIXEDCELLS',\n",
    "'OHS_s3atac_2.FIXEDCELLS',\n",
    "'TXG_10xv11_1.FIXEDCELLS',\n",
    "'TXG_10xv2_1.FIXEDCELLS',\n",
    "'TXG_10xv2_2.FIXEDCELLS',\n",
    "'UCS_ddseq_1.FIXEDCELLS',\n",
    "'UCS_ddseq_2.FIXEDCELLS']"
   ]
  },
  {
   "cell_type": "code",
   "execution_count": 26,
   "id": "f6cabbc8",
   "metadata": {
    "execution": {
     "iopub.execute_input": "2022-09-28T14:39:15.672031Z",
     "iopub.status.busy": "2022-09-28T14:39:15.671541Z",
     "iopub.status.idle": "2022-09-28T14:39:15.729120Z",
     "shell.execute_reply": "2022-09-28T14:39:15.728403Z"
    },
    "papermill": {
     "duration": 0.069556,
     "end_time": "2022-09-28T14:39:15.730117",
     "exception": false,
     "start_time": "2022-09-28T14:39:15.660561",
     "status": "completed"
    },
    "tags": []
   },
   "outputs": [
    {
     "data": {
      "text/plain": [
       "{'BRO_mtscatac_1.FIXEDCELLS',\n",
       " 'BRO_mtscatac_2.FIXEDCELLS',\n",
       " 'CNA_10xmultiome_1.FIXEDCELLS',\n",
       " 'CNA_10xmultiome_2.FIXEDCELLS',\n",
       " 'CNA_10xv11_1.FIXEDCELLS',\n",
       " 'CNA_10xv11_2.FIXEDCELLS',\n",
       " 'CNA_10xv11_3.FIXEDCELLS',\n",
       " 'CNA_10xv11_4.FIXEDCELLS',\n",
       " 'CNA_10xv11_5.FIXEDCELLS',\n",
       " 'CNA_10xv2_1.FIXEDCELLS',\n",
       " 'CNA_10xv2_2.FIXEDCELLS',\n",
       " 'CNA_hydrop_1.FIXEDCELLS',\n",
       " 'CNA_hydrop_2.FIXEDCELLS',\n",
       " 'CNA_hydrop_3.FIXEDCELLS',\n",
       " 'CNA_mtscatac_1.FIXEDCELLS',\n",
       " 'CNA_mtscatac_2.FIXEDCELLS',\n",
       " 'EPF_hydrop_1.FIXEDCELLS',\n",
       " 'EPF_hydrop_2.FIXEDCELLS',\n",
       " 'EPF_hydrop_3.FIXEDCELLS',\n",
       " 'EPF_hydrop_4.FIXEDCELLS',\n",
       " 'HAR_ddseq_1.FIXEDCELLS',\n",
       " 'HAR_ddseq_2.FIXEDCELLS',\n",
       " 'MDC_mtscatac_1.FIXEDCELLS',\n",
       " 'MDC_mtscatac_2.FIXEDCELLS',\n",
       " 'OHS_s3atac_1.FIXEDCELLS',\n",
       " 'SAN_10xmultiome_1.FIXEDCELLS',\n",
       " 'SAN_10xmultiome_2.FIXEDCELLS',\n",
       " 'STA_10xv11_1.FIXEDCELLS',\n",
       " 'STA_10xv11_2.FIXEDCELLS',\n",
       " 'VIB_10xmultiome_1.FIXEDCELLS',\n",
       " 'VIB_10xmultiome_2.FIXEDCELLS',\n",
       " 'VIB_10xv1_1.FIXEDCELLS',\n",
       " 'VIB_10xv1_2.FIXEDCELLS',\n",
       " 'VIB_10xv2_1.FIXEDCELLS',\n",
       " 'VIB_10xv2_2.FIXEDCELLS',\n",
       " 'VIB_hydrop_11.FIXEDCELLS',\n",
       " 'VIB_hydrop_12.FIXEDCELLS',\n",
       " 'VIB_hydrop_21.FIXEDCELLS',\n",
       " 'VIB_hydrop_22.FIXEDCELLS'}"
      ]
     },
     "execution_count": 26,
     "metadata": {},
     "output_type": "execute_result"
    },
    {
     "data": {
      "application/javascript": [
       "\n",
       "            setTimeout(function() {\n",
       "                var nbb_cell_id = 26;\n",
       "                var nbb_unformatted_code = \"fmx_samples_run = set([x.split('___')[-1] for x in fmx_annot.index])\\nfmx_samples_run\";\n",
       "                var nbb_formatted_code = \"fmx_samples_run = set([x.split(\\\"___\\\")[-1] for x in fmx_annot.index])\\nfmx_samples_run\";\n",
       "                var nbb_cells = Jupyter.notebook.get_cells();\n",
       "                for (var i = 0; i < nbb_cells.length; ++i) {\n",
       "                    if (nbb_cells[i].input_prompt_number == nbb_cell_id) {\n",
       "                        if (nbb_cells[i].get_text() == nbb_unformatted_code) {\n",
       "                             nbb_cells[i].set_text(nbb_formatted_code);\n",
       "                        }\n",
       "                        break;\n",
       "                    }\n",
       "                }\n",
       "            }, 500);\n",
       "            "
      ],
      "text/plain": [
       "<IPython.core.display.Javascript object>"
      ]
     },
     "metadata": {},
     "output_type": "display_data"
    }
   ],
   "source": [
    "fmx_samples_run = set([x.split('___')[-1] for x in fmx_annot.index])\n",
    "fmx_samples_run"
   ]
  },
  {
   "cell_type": "code",
   "execution_count": 27,
   "id": "5768c621",
   "metadata": {
    "execution": {
     "iopub.execute_input": "2022-09-28T14:39:15.753089Z",
     "iopub.status.busy": "2022-09-28T14:39:15.752523Z",
     "iopub.status.idle": "2022-09-28T14:39:15.761873Z",
     "shell.execute_reply": "2022-09-28T14:39:15.761277Z"
    },
    "papermill": {
     "duration": 0.021922,
     "end_time": "2022-09-28T14:39:15.762873",
     "exception": false,
     "start_time": "2022-09-28T14:39:15.740951",
     "status": "completed"
    },
    "tags": []
   },
   "outputs": [
    {
     "data": {
      "text/html": [
       "<div>\n",
       "<style scoped>\n",
       "    .dataframe tbody tr th:only-of-type {\n",
       "        vertical-align: middle;\n",
       "    }\n",
       "\n",
       "    .dataframe tbody tr th {\n",
       "        vertical-align: top;\n",
       "    }\n",
       "\n",
       "    .dataframe thead th {\n",
       "        text-align: right;\n",
       "    }\n",
       "</style>\n",
       "<table border=\"1\" class=\"dataframe\">\n",
       "  <thead>\n",
       "    <tr style=\"text-align: right;\">\n",
       "      <th></th>\n",
       "      <th>fmx_droplet_type</th>\n",
       "      <th>fmx_sample</th>\n",
       "    </tr>\n",
       "    <tr>\n",
       "      <th>cell_names</th>\n",
       "      <th></th>\n",
       "      <th></th>\n",
       "    </tr>\n",
       "  </thead>\n",
       "  <tbody>\n",
       "    <tr>\n",
       "      <th>CGACATTACATAGGAGTCAA___CNA_hydrop_2.FIXEDCELLS</th>\n",
       "      <td>SNG</td>\n",
       "      <td>sampleB</td>\n",
       "    </tr>\n",
       "    <tr>\n",
       "      <th>GGCAACCTCTGAGCTAGTAA___CNA_hydrop_2.FIXEDCELLS</th>\n",
       "      <td>SNG</td>\n",
       "      <td>sampleA</td>\n",
       "    </tr>\n",
       "    <tr>\n",
       "      <th>CAACACCATTTCTCGCACGA___CNA_hydrop_2.FIXEDCELLS</th>\n",
       "      <td>SNG</td>\n",
       "      <td>sampleA</td>\n",
       "    </tr>\n",
       "    <tr>\n",
       "      <th>TGCATGAGGTTACGGACGGT___CNA_hydrop_2.FIXEDCELLS</th>\n",
       "      <td>SNG</td>\n",
       "      <td>sampleB</td>\n",
       "    </tr>\n",
       "    <tr>\n",
       "      <th>ACAGTGAAGATCCAGTGTTC___CNA_hydrop_2.FIXEDCELLS</th>\n",
       "      <td>SNG</td>\n",
       "      <td>sampleA</td>\n",
       "    </tr>\n",
       "    <tr>\n",
       "      <th>...</th>\n",
       "      <td>...</td>\n",
       "      <td>...</td>\n",
       "    </tr>\n",
       "    <tr>\n",
       "      <th>GTCGTTGAGAGTGACCAGTA___VIB_hydrop_12.FIXEDCELLS</th>\n",
       "      <td>SNG</td>\n",
       "      <td>sampleB</td>\n",
       "    </tr>\n",
       "    <tr>\n",
       "      <th>ACCGAAGGCTTTGCAGTTCT___VIB_hydrop_12.FIXEDCELLS</th>\n",
       "      <td>SNG</td>\n",
       "      <td>sampleB</td>\n",
       "    </tr>\n",
       "    <tr>\n",
       "      <th>TAGAGCCTGATTGTGTAGGA___VIB_hydrop_12.FIXEDCELLS</th>\n",
       "      <td>SNG</td>\n",
       "      <td>sampleB</td>\n",
       "    </tr>\n",
       "    <tr>\n",
       "      <th>CAATTGGAGACCACACGGAT___VIB_hydrop_12.FIXEDCELLS</th>\n",
       "      <td>SNG</td>\n",
       "      <td>sampleB</td>\n",
       "    </tr>\n",
       "    <tr>\n",
       "      <th>TCGTCACAAGATCCAGCGCA___VIB_hydrop_12.FIXEDCELLS</th>\n",
       "      <td>SNG</td>\n",
       "      <td>sampleA</td>\n",
       "    </tr>\n",
       "  </tbody>\n",
       "</table>\n",
       "<p>119904 rows × 2 columns</p>\n",
       "</div>"
      ],
      "text/plain": [
       "                                                fmx_droplet_type fmx_sample\n",
       "cell_names                                                                 \n",
       "CGACATTACATAGGAGTCAA___CNA_hydrop_2.FIXEDCELLS               SNG    sampleB\n",
       "GGCAACCTCTGAGCTAGTAA___CNA_hydrop_2.FIXEDCELLS               SNG    sampleA\n",
       "CAACACCATTTCTCGCACGA___CNA_hydrop_2.FIXEDCELLS               SNG    sampleA\n",
       "TGCATGAGGTTACGGACGGT___CNA_hydrop_2.FIXEDCELLS               SNG    sampleB\n",
       "ACAGTGAAGATCCAGTGTTC___CNA_hydrop_2.FIXEDCELLS               SNG    sampleA\n",
       "...                                                          ...        ...\n",
       "GTCGTTGAGAGTGACCAGTA___VIB_hydrop_12.FIXEDCELLS              SNG    sampleB\n",
       "ACCGAAGGCTTTGCAGTTCT___VIB_hydrop_12.FIXEDCELLS              SNG    sampleB\n",
       "TAGAGCCTGATTGTGTAGGA___VIB_hydrop_12.FIXEDCELLS              SNG    sampleB\n",
       "CAATTGGAGACCACACGGAT___VIB_hydrop_12.FIXEDCELLS              SNG    sampleB\n",
       "TCGTCACAAGATCCAGCGCA___VIB_hydrop_12.FIXEDCELLS              SNG    sampleA\n",
       "\n",
       "[119904 rows x 2 columns]"
      ]
     },
     "execution_count": 27,
     "metadata": {},
     "output_type": "execute_result"
    },
    {
     "data": {
      "application/javascript": [
       "\n",
       "            setTimeout(function() {\n",
       "                var nbb_cell_id = 27;\n",
       "                var nbb_unformatted_code = \"fmx_annot\";\n",
       "                var nbb_formatted_code = \"fmx_annot\";\n",
       "                var nbb_cells = Jupyter.notebook.get_cells();\n",
       "                for (var i = 0; i < nbb_cells.length; ++i) {\n",
       "                    if (nbb_cells[i].input_prompt_number == nbb_cell_id) {\n",
       "                        if (nbb_cells[i].get_text() == nbb_unformatted_code) {\n",
       "                             nbb_cells[i].set_text(nbb_formatted_code);\n",
       "                        }\n",
       "                        break;\n",
       "                    }\n",
       "                }\n",
       "            }, 500);\n",
       "            "
      ],
      "text/plain": [
       "<IPython.core.display.Javascript object>"
      ]
     },
     "metadata": {},
     "output_type": "display_data"
    }
   ],
   "source": [
    "fmx_annot"
   ]
  },
  {
   "cell_type": "code",
   "execution_count": 28,
   "id": "3aace553",
   "metadata": {
    "execution": {
     "iopub.execute_input": "2022-09-28T14:39:15.785665Z",
     "iopub.status.busy": "2022-09-28T14:39:15.785163Z",
     "iopub.status.idle": "2022-09-28T14:39:15.915800Z",
     "shell.execute_reply": "2022-09-28T14:39:15.915042Z"
    },
    "papermill": {
     "duration": 0.142926,
     "end_time": "2022-09-28T14:39:15.916833",
     "exception": false,
     "start_time": "2022-09-28T14:39:15.773907",
     "status": "completed"
    },
    "pycharm": {
     "name": "#%%\n"
    },
    "tags": []
   },
   "outputs": [
    {
     "name": "stdout",
     "output_type": "stream",
     "text": [
      "master_all_1.FIXEDCELLS\n",
      "\tcistopic_objects_master/master_all_1.FIXEDCELLS__cto.scrublet0-4.fmx.singlets.pkl exists! Skipping...\n"
     ]
    },
    {
     "data": {
      "application/javascript": [
       "\n",
       "            setTimeout(function() {\n",
       "                var nbb_cell_id = 28;\n",
       "                var nbb_unformatted_code = \"fmx_samples = sorted(list(set([x.split('.')[0] + '.' + x.split('.')[1] for x in fmx.index])))\\nremoved_bcs_dict = {}\\n# for sample in [\\\"CNA_10xv11_1.FULL\\\"]:\\n\\nfor sample in scrubcto_dict.keys():\\n    print(f\\\"{sample}\\\")\\n    cto_path = scrubcto_dict[sample]\\n    newcto_path = cto_path.replace(f'__cto.scrublet{scrub_name_suffix}.pkl',f'__cto.scrublet{scrub_name_suffix}.fmx.singlets.pkl')\\n    if os.path.exists(newcto_path):\\n        print(f\\\"\\\\t{newcto_path} exists! Skipping...\\\")\\n        \\n    else:\\n        with open(cto_path, 'rb') as f:\\n            cto = pickle.load(f)\\n\\n            print(f\\\"\\\\tLoaded {cto_path}, adding fmx data and removing fmx + scr doublets\\\")\\n            cto.cell_data['fmx_droplet_type'] = fmx_annot['fmx_droplet_type']\\n            cto.cell_data['fmx_sample'] = fmx_annot['fmx_sample']\\n            \\n            removed_bcs_dict[sample] = {\\n                'dbl_scrublet': cto.cell_data.barcode[cto.cell_data.Predicted_doublets_fragments == True].tolist(),\\n                'dbl_fmx': cto.cell_data.barcode[cto.cell_data.fmx_droplet_type == 'DBL'].tolist(),    \\n            }\\n\\n            # Remove doublets \\n            singlets = cto.cell_data[\\n                (cto.cell_data.Predicted_doublets_fragments == False) & \\n                (cto.cell_data.fmx_droplet_type != 'DBL')\\n            ].index.tolist()\\n            print(f\\\"\\\\t{sample}: Removing {len(cto.cell_names)-len(singlets)} cells\\\")\\n\\n            fmx_doublets = set(cto.cell_data[cto.cell_data['fmx_droplet_type'] == 'DBL'].index)\\n            scr_doublets = set(cto.cell_data[cto.cell_data['Predicted_doublets_fragments'] == True].index)\\n\\n            fmx_doublets_unique = fmx_doublets - scr_doublets\\n            scr_doublets_unique = scr_doublets - fmx_doublets\\n            common_doublets = fmx_doublets.intersection(scr_doublets)\\n\\n            print(f\\\"\\\\t\\\\t{len(fmx_doublets_unique)} unique fmx doublets\\\")\\n            print(f\\\"\\\\t\\\\t{len(scr_doublets_unique)} unique scr doublets\\\")\\n            print(f\\\"\\\\t\\\\t{len(common_doublets)} common doublets\\\")\\n\\n            fmx_doublets_unique_path = cto_path.replace(f'__cto.scrublet{scrub_name_suffix}.pkl',f'__cto.scrublet{scrub_name_suffix}.fmx.fmx_doublets_unique.txt')\\n            with open(fmx_doublets_unique_path, 'w') as f:\\n                for x in fmx_doublets_unique:\\n                    f.write(f\\\"{x}\\\\n\\\")\\n\\n            scr_doublets_unique_path = cto_path.replace(f'__cto.scrublet{scrub_name_suffix}.pkl',f'__cto.scrublet{scrub_name_suffix}.fmx.scr_doublets_unique.txt')\\n            with open(scr_doublets_unique_path, 'w') as f:\\n                for x in scr_doublets_unique:\\n                    f.write(f\\\"{x}\\\\n\\\")\\n\\n            common_doublets_path = cto_path.replace(f'__cto.scrublet{scrub_name_suffix}.pkl',f'__cto.scrublet{scrub_name_suffix}.fmx.common_doublets.txt')\\n            with open(common_doublets_path, 'w') as f:\\n                for x in common_doublets:\\n                    f.write(f\\\"{x}\\\\n\\\")\\n\\n            # Subset cisTopic object\\n            cto.subset(singlets)\\n\\n            # save\\n            with open(newcto_path, \\\"wb\\\") as f:\\n                pickle.dump(cto, f, protocol=4)\\n\\n            removed_bcs_path = cto_path.replace(f'__cto.scrublet{scrub_name_suffix}.pkl',f'__cto.scrublet{scrub_name_suffix}.fmx.singlets.removed_bcs.pkl')\\n            with open(removed_bcs_path, \\\"wb\\\") as f:\\n                pickle.dump(removed_bcs_path, f, protocol=4)\\n\\n            cell_data_path = cto_path.replace(f'__cto.scrublet{scrub_name_suffix}.pkl',f'__cto.scrublet{scrub_name_suffix}.fmx.singlets.cell_data.tsv')\\n            cto.cell_data.to_csv(cell_data_path)\\n\\n            print(f\\\"\\\\tWrote {newcto_path}, doublet lists and {cell_data_path}\\\\n\\\")\";\n",
       "                var nbb_formatted_code = \"fmx_samples = sorted(\\n    list(set([x.split(\\\".\\\")[0] + \\\".\\\" + x.split(\\\".\\\")[1] for x in fmx.index]))\\n)\\nremoved_bcs_dict = {}\\n# for sample in [\\\"CNA_10xv11_1.FULL\\\"]:\\n\\nfor sample in scrubcto_dict.keys():\\n    print(f\\\"{sample}\\\")\\n    cto_path = scrubcto_dict[sample]\\n    newcto_path = cto_path.replace(\\n        f\\\"__cto.scrublet{scrub_name_suffix}.pkl\\\",\\n        f\\\"__cto.scrublet{scrub_name_suffix}.fmx.singlets.pkl\\\",\\n    )\\n    if os.path.exists(newcto_path):\\n        print(f\\\"\\\\t{newcto_path} exists! Skipping...\\\")\\n\\n    else:\\n        with open(cto_path, \\\"rb\\\") as f:\\n            cto = pickle.load(f)\\n\\n            print(\\n                f\\\"\\\\tLoaded {cto_path}, adding fmx data and removing fmx + scr doublets\\\"\\n            )\\n            cto.cell_data[\\\"fmx_droplet_type\\\"] = fmx_annot[\\\"fmx_droplet_type\\\"]\\n            cto.cell_data[\\\"fmx_sample\\\"] = fmx_annot[\\\"fmx_sample\\\"]\\n\\n            removed_bcs_dict[sample] = {\\n                \\\"dbl_scrublet\\\": cto.cell_data.barcode[\\n                    cto.cell_data.Predicted_doublets_fragments == True\\n                ].tolist(),\\n                \\\"dbl_fmx\\\": cto.cell_data.barcode[\\n                    cto.cell_data.fmx_droplet_type == \\\"DBL\\\"\\n                ].tolist(),\\n            }\\n\\n            # Remove doublets\\n            singlets = cto.cell_data[\\n                (cto.cell_data.Predicted_doublets_fragments == False)\\n                & (cto.cell_data.fmx_droplet_type != \\\"DBL\\\")\\n            ].index.tolist()\\n            print(f\\\"\\\\t{sample}: Removing {len(cto.cell_names)-len(singlets)} cells\\\")\\n\\n            fmx_doublets = set(\\n                cto.cell_data[cto.cell_data[\\\"fmx_droplet_type\\\"] == \\\"DBL\\\"].index\\n            )\\n            scr_doublets = set(\\n                cto.cell_data[\\n                    cto.cell_data[\\\"Predicted_doublets_fragments\\\"] == True\\n                ].index\\n            )\\n\\n            fmx_doublets_unique = fmx_doublets - scr_doublets\\n            scr_doublets_unique = scr_doublets - fmx_doublets\\n            common_doublets = fmx_doublets.intersection(scr_doublets)\\n\\n            print(f\\\"\\\\t\\\\t{len(fmx_doublets_unique)} unique fmx doublets\\\")\\n            print(f\\\"\\\\t\\\\t{len(scr_doublets_unique)} unique scr doublets\\\")\\n            print(f\\\"\\\\t\\\\t{len(common_doublets)} common doublets\\\")\\n\\n            fmx_doublets_unique_path = cto_path.replace(\\n                f\\\"__cto.scrublet{scrub_name_suffix}.pkl\\\",\\n                f\\\"__cto.scrublet{scrub_name_suffix}.fmx.fmx_doublets_unique.txt\\\",\\n            )\\n            with open(fmx_doublets_unique_path, \\\"w\\\") as f:\\n                for x in fmx_doublets_unique:\\n                    f.write(f\\\"{x}\\\\n\\\")\\n\\n            scr_doublets_unique_path = cto_path.replace(\\n                f\\\"__cto.scrublet{scrub_name_suffix}.pkl\\\",\\n                f\\\"__cto.scrublet{scrub_name_suffix}.fmx.scr_doublets_unique.txt\\\",\\n            )\\n            with open(scr_doublets_unique_path, \\\"w\\\") as f:\\n                for x in scr_doublets_unique:\\n                    f.write(f\\\"{x}\\\\n\\\")\\n\\n            common_doublets_path = cto_path.replace(\\n                f\\\"__cto.scrublet{scrub_name_suffix}.pkl\\\",\\n                f\\\"__cto.scrublet{scrub_name_suffix}.fmx.common_doublets.txt\\\",\\n            )\\n            with open(common_doublets_path, \\\"w\\\") as f:\\n                for x in common_doublets:\\n                    f.write(f\\\"{x}\\\\n\\\")\\n\\n            # Subset cisTopic object\\n            cto.subset(singlets)\\n\\n            # save\\n            with open(newcto_path, \\\"wb\\\") as f:\\n                pickle.dump(cto, f, protocol=4)\\n\\n            removed_bcs_path = cto_path.replace(\\n                f\\\"__cto.scrublet{scrub_name_suffix}.pkl\\\",\\n                f\\\"__cto.scrublet{scrub_name_suffix}.fmx.singlets.removed_bcs.pkl\\\",\\n            )\\n            with open(removed_bcs_path, \\\"wb\\\") as f:\\n                pickle.dump(removed_bcs_path, f, protocol=4)\\n\\n            cell_data_path = cto_path.replace(\\n                f\\\"__cto.scrublet{scrub_name_suffix}.pkl\\\",\\n                f\\\"__cto.scrublet{scrub_name_suffix}.fmx.singlets.cell_data.tsv\\\",\\n            )\\n            cto.cell_data.to_csv(cell_data_path)\\n\\n            print(f\\\"\\\\tWrote {newcto_path}, doublet lists and {cell_data_path}\\\\n\\\")\";\n",
       "                var nbb_cells = Jupyter.notebook.get_cells();\n",
       "                for (var i = 0; i < nbb_cells.length; ++i) {\n",
       "                    if (nbb_cells[i].input_prompt_number == nbb_cell_id) {\n",
       "                        if (nbb_cells[i].get_text() == nbb_unformatted_code) {\n",
       "                             nbb_cells[i].set_text(nbb_formatted_code);\n",
       "                        }\n",
       "                        break;\n",
       "                    }\n",
       "                }\n",
       "            }, 500);\n",
       "            "
      ],
      "text/plain": [
       "<IPython.core.display.Javascript object>"
      ]
     },
     "metadata": {},
     "output_type": "display_data"
    }
   ],
   "source": [
    "fmx_samples = sorted(list(set([x.split('.')[0] + '.' + x.split('.')[1] for x in fmx.index])))\n",
    "removed_bcs_dict = {}\n",
    "# for sample in [\"CNA_10xv11_1.FULL\"]:\n",
    "\n",
    "for sample in scrubcto_dict.keys():\n",
    "    print(f\"{sample}\")\n",
    "    cto_path = scrubcto_dict[sample]\n",
    "    newcto_path = cto_path.replace(f'__cto.scrublet{scrub_name_suffix}.pkl',f'__cto.scrublet{scrub_name_suffix}.fmx.singlets.pkl')\n",
    "    if os.path.exists(newcto_path):\n",
    "        print(f\"\\t{newcto_path} exists! Skipping...\")\n",
    "        \n",
    "    else:\n",
    "        with open(cto_path, 'rb') as f:\n",
    "            cto = pickle.load(f)\n",
    "\n",
    "            print(f\"\\tLoaded {cto_path}, adding fmx data and removing fmx + scr doublets\")\n",
    "            cto.cell_data['fmx_droplet_type'] = fmx_annot['fmx_droplet_type']\n",
    "            cto.cell_data['fmx_sample'] = fmx_annot['fmx_sample']\n",
    "            \n",
    "            removed_bcs_dict[sample] = {\n",
    "                'dbl_scrublet': cto.cell_data.barcode[cto.cell_data.Predicted_doublets_fragments == True].tolist(),\n",
    "                'dbl_fmx': cto.cell_data.barcode[cto.cell_data.fmx_droplet_type == 'DBL'].tolist(),    \n",
    "            }\n",
    "\n",
    "            # Remove doublets \n",
    "            singlets = cto.cell_data[\n",
    "                (cto.cell_data.Predicted_doublets_fragments == False) & \n",
    "                (cto.cell_data.fmx_droplet_type != 'DBL')\n",
    "            ].index.tolist()\n",
    "            print(f\"\\t{sample}: Removing {len(cto.cell_names)-len(singlets)} cells\")\n",
    "\n",
    "            fmx_doublets = set(cto.cell_data[cto.cell_data['fmx_droplet_type'] == 'DBL'].index)\n",
    "            scr_doublets = set(cto.cell_data[cto.cell_data['Predicted_doublets_fragments'] == True].index)\n",
    "\n",
    "            fmx_doublets_unique = fmx_doublets - scr_doublets\n",
    "            scr_doublets_unique = scr_doublets - fmx_doublets\n",
    "            common_doublets = fmx_doublets.intersection(scr_doublets)\n",
    "\n",
    "            print(f\"\\t\\t{len(fmx_doublets_unique)} unique fmx doublets\")\n",
    "            print(f\"\\t\\t{len(scr_doublets_unique)} unique scr doublets\")\n",
    "            print(f\"\\t\\t{len(common_doublets)} common doublets\")\n",
    "\n",
    "            fmx_doublets_unique_path = cto_path.replace(f'__cto.scrublet{scrub_name_suffix}.pkl',f'__cto.scrublet{scrub_name_suffix}.fmx.fmx_doublets_unique.txt')\n",
    "            with open(fmx_doublets_unique_path, 'w') as f:\n",
    "                for x in fmx_doublets_unique:\n",
    "                    f.write(f\"{x}\\n\")\n",
    "\n",
    "            scr_doublets_unique_path = cto_path.replace(f'__cto.scrublet{scrub_name_suffix}.pkl',f'__cto.scrublet{scrub_name_suffix}.fmx.scr_doublets_unique.txt')\n",
    "            with open(scr_doublets_unique_path, 'w') as f:\n",
    "                for x in scr_doublets_unique:\n",
    "                    f.write(f\"{x}\\n\")\n",
    "\n",
    "            common_doublets_path = cto_path.replace(f'__cto.scrublet{scrub_name_suffix}.pkl',f'__cto.scrublet{scrub_name_suffix}.fmx.common_doublets.txt')\n",
    "            with open(common_doublets_path, 'w') as f:\n",
    "                for x in common_doublets:\n",
    "                    f.write(f\"{x}\\n\")\n",
    "\n",
    "            # Subset cisTopic object\n",
    "            cto.subset(singlets)\n",
    "\n",
    "            # save\n",
    "            with open(newcto_path, \"wb\") as f:\n",
    "                pickle.dump(cto, f, protocol=4)\n",
    "\n",
    "            removed_bcs_path = cto_path.replace(f'__cto.scrublet{scrub_name_suffix}.pkl',f'__cto.scrublet{scrub_name_suffix}.fmx.singlets.removed_bcs.pkl')\n",
    "            with open(removed_bcs_path, \"wb\") as f:\n",
    "                pickle.dump(removed_bcs_path, f, protocol=4)\n",
    "\n",
    "            cell_data_path = cto_path.replace(f'__cto.scrublet{scrub_name_suffix}.pkl',f'__cto.scrublet{scrub_name_suffix}.fmx.singlets.cell_data.tsv')\n",
    "            cto.cell_data.to_csv(cell_data_path)\n",
    "\n",
    "            print(f\"\\tWrote {newcto_path}, doublet lists and {cell_data_path}\\n\")"
   ]
  },
  {
   "cell_type": "markdown",
   "id": "d30cb63b",
   "metadata": {
    "papermill": {
     "duration": 0.010881,
     "end_time": "2022-09-28T14:39:15.939224",
     "exception": false,
     "start_time": "2022-09-28T14:39:15.928343",
     "status": "completed"
    },
    "pycharm": {
     "name": "#%% md\n"
    },
    "tags": []
   },
   "source": [
    "# Write looms from these ctos"
   ]
  },
  {
   "cell_type": "code",
   "execution_count": 3,
   "id": "4f3ab048",
   "metadata": {
    "execution": {
     "iopub.execute_input": "2022-12-20T10:50:07.276511Z",
     "iopub.status.busy": "2022-12-20T10:50:07.275516Z",
     "iopub.status.idle": "2022-12-20T10:50:20.359788Z",
     "shell.execute_reply": "2022-12-20T10:50:20.358096Z",
     "shell.execute_reply.started": "2022-12-20T10:50:07.276446Z"
    },
    "papermill": {
     "duration": 4.033736,
     "end_time": "2022-09-28T14:39:19.983884",
     "exception": false,
     "start_time": "2022-09-28T14:39:15.950148",
     "status": "completed"
    },
    "pycharm": {
     "name": "#%%\n"
    },
    "tags": []
   },
   "outputs": [
    {
     "data": {
      "application/javascript": [
       "\n",
       "            setTimeout(function() {\n",
       "                var nbb_cell_id = 3;\n",
       "                var nbb_unformatted_code = \"import loompy as lp\\nimport glob\\nimport os\\nimport pickle\";\n",
       "                var nbb_formatted_code = \"import loompy as lp\\nimport glob\\nimport os\\nimport pickle\";\n",
       "                var nbb_cells = Jupyter.notebook.get_cells();\n",
       "                for (var i = 0; i < nbb_cells.length; ++i) {\n",
       "                    if (nbb_cells[i].input_prompt_number == nbb_cell_id) {\n",
       "                        if (nbb_cells[i].get_text() == nbb_unformatted_code) {\n",
       "                             nbb_cells[i].set_text(nbb_formatted_code);\n",
       "                        }\n",
       "                        break;\n",
       "                    }\n",
       "                }\n",
       "            }, 500);\n",
       "            "
      ],
      "text/plain": [
       "<IPython.core.display.Javascript object>"
      ]
     },
     "metadata": {},
     "output_type": "display_data"
    }
   ],
   "source": [
    "import loompy as lp\n",
    "import glob\n",
    "import os\n",
    "import pickle"
   ]
  },
  {
   "cell_type": "code",
   "execution_count": 4,
   "id": "187ec00d",
   "metadata": {
    "execution": {
     "iopub.execute_input": "2022-12-20T10:50:20.364003Z",
     "iopub.status.busy": "2022-12-20T10:50:20.362938Z",
     "iopub.status.idle": "2022-12-20T10:50:20.388362Z",
     "shell.execute_reply": "2022-12-20T10:50:20.387379Z",
     "shell.execute_reply.started": "2022-12-20T10:50:20.363944Z"
    },
    "papermill": {
     "duration": 0.024273,
     "end_time": "2022-09-28T14:39:20.021210",
     "exception": false,
     "start_time": "2022-09-28T14:39:19.996937",
     "status": "completed"
    },
    "pycharm": {
     "name": "#%%\n"
    },
    "tags": []
   },
   "outputs": [
    {
     "data": {
      "text/plain": [
       "{'master_all_1.FIXEDCELLS__cto.scrublet0-4.fmx.singlets.pkl': 'cistopic_objects_master/master_all_1.FIXEDCELLS__cto.scrublet0-4.fmx.singlets.pkl'}"
      ]
     },
     "execution_count": 4,
     "metadata": {},
     "output_type": "execute_result"
    },
    {
     "data": {
      "application/javascript": [
       "\n",
       "            setTimeout(function() {\n",
       "                var nbb_cell_id = 4;\n",
       "                var nbb_unformatted_code = \"scrub_name_suffix = \\\"0-4\\\"\\nscrubcto_dict = {x.split('/')[-1].split(f'__cto.scrublet{scrub_name_suffix}.pkl')[0]:x for x in sorted(glob.glob(f'cistopic_objects_master/*__cto.scrublet{scrub_name_suffix}.*singlets.pkl'))}\\nscrubcto_dict\";\n",
       "                var nbb_formatted_code = \"scrub_name_suffix = \\\"0-4\\\"\\nscrubcto_dict = {\\n    x.split(\\\"/\\\")[-1].split(f\\\"__cto.scrublet{scrub_name_suffix}.pkl\\\")[0]: x\\n    for x in sorted(\\n        glob.glob(\\n            f\\\"cistopic_objects_master/*__cto.scrublet{scrub_name_suffix}.*singlets.pkl\\\"\\n        )\\n    )\\n}\\nscrubcto_dict\";\n",
       "                var nbb_cells = Jupyter.notebook.get_cells();\n",
       "                for (var i = 0; i < nbb_cells.length; ++i) {\n",
       "                    if (nbb_cells[i].input_prompt_number == nbb_cell_id) {\n",
       "                        if (nbb_cells[i].get_text() == nbb_unformatted_code) {\n",
       "                             nbb_cells[i].set_text(nbb_formatted_code);\n",
       "                        }\n",
       "                        break;\n",
       "                    }\n",
       "                }\n",
       "            }, 500);\n",
       "            "
      ],
      "text/plain": [
       "<IPython.core.display.Javascript object>"
      ]
     },
     "metadata": {},
     "output_type": "display_data"
    }
   ],
   "source": [
    "scrub_name_suffix = \"0-4\"\n",
    "scrubcto_dict = {x.split('/')[-1].split(f'__cto.scrublet{scrub_name_suffix}.pkl')[0]:x for x in sorted(glob.glob(f'cistopic_objects_master/*__cto.scrublet{scrub_name_suffix}.*singlets.pkl'))}\n",
    "scrubcto_dict"
   ]
  },
  {
   "cell_type": "code",
   "execution_count": 5,
   "id": "69e6c59c",
   "metadata": {
    "execution": {
     "iopub.execute_input": "2022-12-20T10:50:20.390102Z",
     "iopub.status.busy": "2022-12-20T10:50:20.389601Z",
     "iopub.status.idle": "2022-12-20T10:50:20.400982Z",
     "shell.execute_reply": "2022-12-20T10:50:20.399542Z",
     "shell.execute_reply.started": "2022-12-20T10:50:20.390071Z"
    },
    "papermill": {
     "duration": 0.01824,
     "end_time": "2022-09-28T14:39:20.051059",
     "exception": false,
     "start_time": "2022-09-28T14:39:20.032819",
     "status": "completed"
    },
    "pycharm": {
     "name": "#%%\n"
    },
    "tags": []
   },
   "outputs": [
    {
     "data": {
      "text/plain": [
       "1"
      ]
     },
     "execution_count": 5,
     "metadata": {},
     "output_type": "execute_result"
    },
    {
     "data": {
      "application/javascript": [
       "\n",
       "            setTimeout(function() {\n",
       "                var nbb_cell_id = 5;\n",
       "                var nbb_unformatted_code = \"len(scrubcto_dict)\";\n",
       "                var nbb_formatted_code = \"len(scrubcto_dict)\";\n",
       "                var nbb_cells = Jupyter.notebook.get_cells();\n",
       "                for (var i = 0; i < nbb_cells.length; ++i) {\n",
       "                    if (nbb_cells[i].input_prompt_number == nbb_cell_id) {\n",
       "                        if (nbb_cells[i].get_text() == nbb_unformatted_code) {\n",
       "                             nbb_cells[i].set_text(nbb_formatted_code);\n",
       "                        }\n",
       "                        break;\n",
       "                    }\n",
       "                }\n",
       "            }, 500);\n",
       "            "
      ],
      "text/plain": [
       "<IPython.core.display.Javascript object>"
      ]
     },
     "metadata": {},
     "output_type": "display_data"
    }
   ],
   "source": [
    "len(scrubcto_dict)"
   ]
  },
  {
   "cell_type": "code",
   "execution_count": 6,
   "id": "d3ff446c",
   "metadata": {
    "execution": {
     "iopub.execute_input": "2022-12-20T10:50:20.405317Z",
     "iopub.status.busy": "2022-12-20T10:50:20.404568Z",
     "iopub.status.idle": "2022-12-20T10:50:20.421857Z",
     "shell.execute_reply": "2022-12-20T10:50:20.420617Z",
     "shell.execute_reply.started": "2022-12-20T10:50:20.405264Z"
    },
    "papermill": {
     "duration": 0.019631,
     "end_time": "2022-09-28T14:39:20.082302",
     "exception": false,
     "start_time": "2022-09-28T14:39:20.062671",
     "status": "completed"
    },
    "pycharm": {
     "name": "#%%\n"
    },
    "tags": []
   },
   "outputs": [
    {
     "data": {
      "application/javascript": [
       "\n",
       "            setTimeout(function() {\n",
       "                var nbb_cell_id = 6;\n",
       "                var nbb_unformatted_code = \"loom_out = 'cell_region_looms'\\nif not os.path.exists(os.path.join(loom_out)):\\n    os.makedirs(os.path.join(loom_out))\";\n",
       "                var nbb_formatted_code = \"loom_out = \\\"cell_region_looms\\\"\\nif not os.path.exists(os.path.join(loom_out)):\\n    os.makedirs(os.path.join(loom_out))\";\n",
       "                var nbb_cells = Jupyter.notebook.get_cells();\n",
       "                for (var i = 0; i < nbb_cells.length; ++i) {\n",
       "                    if (nbb_cells[i].input_prompt_number == nbb_cell_id) {\n",
       "                        if (nbb_cells[i].get_text() == nbb_unformatted_code) {\n",
       "                             nbb_cells[i].set_text(nbb_formatted_code);\n",
       "                        }\n",
       "                        break;\n",
       "                    }\n",
       "                }\n",
       "            }, 500);\n",
       "            "
      ],
      "text/plain": [
       "<IPython.core.display.Javascript object>"
      ]
     },
     "metadata": {},
     "output_type": "display_data"
    }
   ],
   "source": [
    "loom_out = 'cell_region_looms'\n",
    "if not os.path.exists(os.path.join(loom_out)):\n",
    "    os.makedirs(os.path.join(loom_out))"
   ]
  },
  {
   "cell_type": "code",
   "execution_count": 16,
   "id": "15662c38-ec50-4918-8581-6cf7c6b9312e",
   "metadata": {
    "execution": {
     "iopub.execute_input": "2022-12-20T10:56:14.417351Z",
     "iopub.status.busy": "2022-12-20T10:56:14.416476Z",
     "iopub.status.idle": "2022-12-20T11:07:34.165741Z",
     "shell.execute_reply": "2022-12-20T11:07:34.164540Z",
     "shell.execute_reply.started": "2022-12-20T10:56:14.417295Z"
    },
    "papermill": {
     "duration": 0.024585,
     "end_time": "2022-09-28T14:39:20.184773",
     "exception": false,
     "start_time": "2022-09-28T14:39:20.160188",
     "status": "completed"
    },
    "pycharm": {
     "name": "#%%\n"
    },
    "tags": []
   },
   "outputs": [
    {
     "name": "stdout",
     "output_type": "stream",
     "text": [
      "Finished cell_region_looms/master_all_1.FIXEDCELLS_cto.scrublet0-4.singlets.ID.loom2 loom writing\n"
     ]
    },
    {
     "data": {
      "application/javascript": [
       "\n",
       "            setTimeout(function() {\n",
       "                var nbb_cell_id = 16;\n",
       "                var nbb_unformatted_code = \"loom_path = 'cell_region_looms/master_all_1.FIXEDCELLS_cto.scrublet0-4.singlets.ID.loom2'\\nif not os.path.exists(loom_path):\\n    cto_path = 'cistopic_objects_master/master_all_1.FIXEDCELLS__cto.scrublet0-4.fmx.singlets.pkl'\\n    with open(cto_path, 'rb') as f:\\n        cto = pickle.load(f)\\n\\n    lp.create(\\n        filename = loom_path,\\n        layers=cto.fragment_matrix,\\n        row_attrs={ 'Gene': cto.region_names }, \\n        col_attrs={ 'CellID': [x.replace('___', '__').split('.')[0] for x in cto.cell_names] }\\n    )\\n    print(f\\\"Finished {loom_path} loom writing\\\")\";\n",
       "                var nbb_formatted_code = \"loom_path = (\\n    \\\"cell_region_looms/master_all_1.FIXEDCELLS_cto.scrublet0-4.singlets.ID.loom2\\\"\\n)\\nif not os.path.exists(loom_path):\\n    cto_path = \\\"cistopic_objects_master/master_all_1.FIXEDCELLS__cto.scrublet0-4.fmx.singlets.pkl\\\"\\n    with open(cto_path, \\\"rb\\\") as f:\\n        cto = pickle.load(f)\\n\\n    lp.create(\\n        filename=loom_path,\\n        layers=cto.fragment_matrix,\\n        row_attrs={\\\"Gene\\\": cto.region_names},\\n        col_attrs={\\n            \\\"CellID\\\": [x.replace(\\\"___\\\", \\\"__\\\").split(\\\".\\\")[0] for x in cto.cell_names]\\n        },\\n    )\\n    print(f\\\"Finished {loom_path} loom writing\\\")\";\n",
       "                var nbb_cells = Jupyter.notebook.get_cells();\n",
       "                for (var i = 0; i < nbb_cells.length; ++i) {\n",
       "                    if (nbb_cells[i].input_prompt_number == nbb_cell_id) {\n",
       "                        if (nbb_cells[i].get_text() == nbb_unformatted_code) {\n",
       "                             nbb_cells[i].set_text(nbb_formatted_code);\n",
       "                        }\n",
       "                        break;\n",
       "                    }\n",
       "                }\n",
       "            }, 500);\n",
       "            "
      ],
      "text/plain": [
       "<IPython.core.display.Javascript object>"
      ]
     },
     "metadata": {},
     "output_type": "display_data"
    }
   ],
   "source": [
    "loom_path = 'cell_region_looms/master_all_1.FIXEDCELLS_cto.scrublet0-4.singlets.ID.loom'\n",
    "if not os.path.exists(loom_path):\n",
    "    cto_path = 'cistopic_objects_master/master_all_1.FIXEDCELLS__cto.scrublet0-4.fmx.singlets.pkl'\n",
    "    with open(cto_path, 'rb') as f:\n",
    "        cto = pickle.load(f)\n",
    "\n",
    "    lp.create(\n",
    "        filename = loom_path,\n",
    "        layers=cto.fragment_matrix,\n",
    "        row_attrs={ 'Gene': cto.region_names }, \n",
    "        col_attrs={ 'CellID': [x.replace('___', '__').split('.')[0] for x in cto.cell_names] }\n",
    "    )\n",
    "    print(f\"Finished {loom_path} loom writing\")"
   ]
  }
 ],
 "metadata": {
  "kernelspec": {
   "display_name": "20221014_pycistopic.sif",
   "language": "python",
   "name": "cistopic_20221014"
  },
  "language_info": {
   "codemirror_mode": {
    "name": "ipython",
    "version": 3
   },
   "file_extension": ".py",
   "mimetype": "text/x-python",
   "name": "python",
   "nbconvert_exporter": "python",
   "pygments_lexer": "ipython3",
   "version": "3.8.15"
  },
  "papermill": {
   "default_parameters": {},
   "duration": 29.454171,
   "end_time": "2022-09-28T14:39:22.043852",
   "environment_variables": {},
   "exception": null,
   "input_path": "2_create_CTO_MASTER_peaks.ipynb",
   "output_path": "2_create_CTO_MASTER_peaks.OUT.ipynb",
   "parameters": {},
   "start_time": "2022-09-28T14:38:52.589681",
   "version": "2.3.4"
  }
 },
 "nbformat": 4,
 "nbformat_minor": 5
}

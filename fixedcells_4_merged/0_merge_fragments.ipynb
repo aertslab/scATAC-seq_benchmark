{
 "cells": [
  {
   "cell_type": "code",
   "execution_count": 29,
   "id": "043796c2",
   "metadata": {
    "execution": {
     "iopub.execute_input": "2022-12-05T14:14:12.075862Z",
     "iopub.status.busy": "2022-12-05T14:14:12.075237Z",
     "iopub.status.idle": "2022-12-05T14:14:28.671987Z",
     "shell.execute_reply": "2022-12-05T14:14:28.671229Z",
     "shell.execute_reply.started": "2022-12-05T14:14:12.075815Z"
    },
    "tags": []
   },
   "outputs": [],
   "source": [
    "module load mawk\n",
    "\n",
    "for FRAG_PATH in /lustre1/project/stg_00090/scatac_benchmark/1_data_repository/fixedcells_fragments/*.FIXEDCELLS.fragments.tsv.gz\n",
    "do\n",
    "    SAMPLE=(`basename $FRAG_PATH`)\n",
    "    SAMPLE=(${SAMPLE//./ })\n",
    "    SAMPLE=${SAMPLE[0]}\n",
    "    echo $SAMPLE\n",
    "    zcat $FRAG_PATH | mawk -v sample=$SAMPLE -v 'OFS=\\t' '{ print $1, $2, $3, $4 \"__\" sample, $5}' | bgzip -@ 2 > merged_fragments/$SAMPLE.fragments.ID.tsv.gz &\n",
    "done"
   ]
  },
  {
   "cell_type": "code",
   "execution_count": 32,
   "id": "d1096eb3",
   "metadata": {
    "execution": {
     "iopub.execute_input": "2022-12-05T14:19:34.110387Z",
     "iopub.status.busy": "2022-12-05T14:19:34.109766Z",
     "iopub.status.idle": "2022-12-05T14:21:13.461693Z",
     "shell.execute_reply": "2022-12-05T14:21:13.460343Z",
     "shell.execute_reply.started": "2022-12-05T14:19:34.110340Z"
    },
    "tags": []
   },
   "outputs": [],
   "source": [
    "cat merged_fragments/*.fragments.ID.tsv.gz > merged_all_1.fragments.ID.tsv.gz"
   ]
  },
  {
   "cell_type": "code",
   "execution_count": 37,
   "id": "50727e96",
   "metadata": {
    "execution": {
     "iopub.execute_input": "2022-12-05T14:25:49.776663Z",
     "iopub.status.busy": "2022-12-05T14:25:49.776090Z",
     "iopub.status.idle": "2022-12-05T14:28:01.069300Z",
     "shell.execute_reply": "2022-12-05T14:28:01.068049Z",
     "shell.execute_reply.started": "2022-12-05T14:25:49.776616Z"
    },
    "tags": []
   },
   "outputs": [],
   "source": [
    "module load ISA-L\n",
    "\n",
    "LC_ALL=C\n",
    "igzip -T 16 -cd merged_all_1.fragments.ID.tsv.gz | sort --parallel=36 -S 8G -k 1,1 -k 2,2n -k 3,3n | bgzip -@ 36 > merged_all_1.fragments.ID.sorted.tsv.gz"
   ]
  }
 ],
 "metadata": {
  "kernelspec": {
   "display_name": "Bash",
   "language": "bash",
   "name": "bash"
  },
  "language_info": {
   "codemirror_mode": "shell",
   "file_extension": ".sh",
   "mimetype": "text/x-sh",
   "name": "bash"
  }
 },
 "nbformat": 4,
 "nbformat_minor": 5
}

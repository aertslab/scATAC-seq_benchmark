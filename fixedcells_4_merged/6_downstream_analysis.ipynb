{
 "cells": [
  {
   "cell_type": "markdown",
   "id": "d1cc5848",
   "metadata": {
    "papermill": {
     "duration": 0.863588,
     "end_time": "2022-11-01T17:11:53.635985",
     "exception": false,
     "start_time": "2022-11-01T17:11:52.772397",
     "status": "completed"
    },
    "pycharm": {
     "name": "#%% md\n"
    },
    "tags": []
   },
   "source": [
    "# pycisTopic analysis\n",
    "\n",
    "Full dataset, using consensus peak regions."
   ]
  },
  {
   "cell_type": "code",
   "execution_count": 1,
   "id": "603cbae3",
   "metadata": {
    "execution": {
     "iopub.execute_input": "2023-03-08T15:58:18.936828Z",
     "iopub.status.busy": "2023-03-08T15:58:18.935839Z",
     "iopub.status.idle": "2023-03-08T15:58:32.156069Z",
     "shell.execute_reply": "2023-03-08T15:58:32.154930Z",
     "shell.execute_reply.started": "2023-03-08T15:58:18.936647Z"
    },
    "papermill": {
     "duration": 5.79857,
     "end_time": "2022-11-01T17:11:59.477180",
     "exception": false,
     "start_time": "2022-11-01T17:11:53.678610",
     "status": "completed"
    },
    "pycharm": {
     "name": "#%%\n"
    },
    "tags": []
   },
   "outputs": [
    {
     "data": {
      "application/javascript": [
       "\n",
       "            setTimeout(function() {\n",
       "                var nbb_cell_id = 1;\n",
       "                var nbb_unformatted_code = \"import pycisTopic\\n%load_ext nb_black\\nimport warnings\\nwarnings.filterwarnings('ignore')\\nwarnings.simplefilter('ignore')\\nimport pickle\\nimport pandas as pd\\nimport os\";\n",
       "                var nbb_formatted_code = \"import pycisTopic\\n\\n%load_ext nb_black\\nimport warnings\\n\\nwarnings.filterwarnings(\\\"ignore\\\")\\nwarnings.simplefilter(\\\"ignore\\\")\\nimport pickle\\nimport pandas as pd\\nimport os\";\n",
       "                var nbb_cells = Jupyter.notebook.get_cells();\n",
       "                for (var i = 0; i < nbb_cells.length; ++i) {\n",
       "                    if (nbb_cells[i].input_prompt_number == nbb_cell_id) {\n",
       "                        if (nbb_cells[i].get_text() == nbb_unformatted_code) {\n",
       "                             nbb_cells[i].set_text(nbb_formatted_code);\n",
       "                        }\n",
       "                        break;\n",
       "                    }\n",
       "                }\n",
       "            }, 500);\n",
       "            "
      ],
      "text/plain": [
       "<IPython.core.display.Javascript object>"
      ]
     },
     "metadata": {},
     "output_type": "display_data"
    }
   ],
   "source": [
    "import pycisTopic\n",
    "%load_ext nb_black\n",
    "import warnings\n",
    "warnings.filterwarnings('ignore')\n",
    "warnings.simplefilter('ignore')\n",
    "import pickle\n",
    "import pandas as pd\n",
    "import os"
   ]
  },
  {
   "cell_type": "code",
   "execution_count": 2,
   "id": "c129f0aa",
   "metadata": {
    "execution": {
     "iopub.execute_input": "2023-03-08T15:58:32.158520Z",
     "iopub.status.busy": "2023-03-08T15:58:32.157915Z",
     "iopub.status.idle": "2023-03-08T15:58:33.225073Z",
     "shell.execute_reply": "2023-03-08T15:58:33.223415Z",
     "shell.execute_reply.started": "2023-03-08T15:58:32.158490Z"
    },
    "papermill": {
     "duration": 0.422939,
     "end_time": "2022-11-01T17:11:59.939496",
     "exception": false,
     "start_time": "2022-11-01T17:11:59.516557",
     "status": "completed"
    },
    "tags": []
   },
   "outputs": [
    {
     "name": "stdout",
     "output_type": "stream",
     "text": [
      "/lustre1/project/stg_00090/scatac_benchmark/fixedcells_4_merged\n"
     ]
    },
    {
     "data": {
      "application/javascript": [
       "\n",
       "            setTimeout(function() {\n",
       "                var nbb_cell_id = 2;\n",
       "                var nbb_unformatted_code = \"!pwd\";\n",
       "                var nbb_formatted_code = \"!pwd\";\n",
       "                var nbb_cells = Jupyter.notebook.get_cells();\n",
       "                for (var i = 0; i < nbb_cells.length; ++i) {\n",
       "                    if (nbb_cells[i].input_prompt_number == nbb_cell_id) {\n",
       "                        if (nbb_cells[i].get_text() == nbb_unformatted_code) {\n",
       "                             nbb_cells[i].set_text(nbb_formatted_code);\n",
       "                        }\n",
       "                        break;\n",
       "                    }\n",
       "                }\n",
       "            }, 500);\n",
       "            "
      ],
      "text/plain": [
       "<IPython.core.display.Javascript object>"
      ]
     },
     "metadata": {},
     "output_type": "display_data"
    }
   ],
   "source": [
    "!pwd"
   ]
  },
  {
   "cell_type": "code",
   "execution_count": 3,
   "id": "e8c87ed7",
   "metadata": {
    "collapsed": false,
    "execution": {
     "iopub.execute_input": "2023-03-08T15:58:33.228414Z",
     "iopub.status.busy": "2023-03-08T15:58:33.227595Z",
     "iopub.status.idle": "2023-03-08T15:58:33.241663Z",
     "shell.execute_reply": "2023-03-08T15:58:33.240393Z",
     "shell.execute_reply.started": "2023-03-08T15:58:33.228348Z"
    },
    "jupyter": {
     "outputs_hidden": false
    },
    "papermill": {
     "duration": 0.045103,
     "end_time": "2022-11-01T17:12:00.026717",
     "exception": false,
     "start_time": "2022-11-01T17:11:59.981614",
     "status": "completed"
    },
    "pycharm": {
     "name": "#%%\n"
    },
    "tags": []
   },
   "outputs": [
    {
     "data": {
      "application/javascript": [
       "\n",
       "            setTimeout(function() {\n",
       "                var nbb_cell_id = 3;\n",
       "                var nbb_unformatted_code = \"wdir = '/lustre1/project/stg_00090/scatac_benchmark/fixedcells_4_merged'\\nos.chdir( wdir )\";\n",
       "                var nbb_formatted_code = \"wdir = \\\"/lustre1/project/stg_00090/scatac_benchmark/fixedcells_4_merged\\\"\\nos.chdir(wdir)\";\n",
       "                var nbb_cells = Jupyter.notebook.get_cells();\n",
       "                for (var i = 0; i < nbb_cells.length; ++i) {\n",
       "                    if (nbb_cells[i].input_prompt_number == nbb_cell_id) {\n",
       "                        if (nbb_cells[i].get_text() == nbb_unformatted_code) {\n",
       "                             nbb_cells[i].set_text(nbb_formatted_code);\n",
       "                        }\n",
       "                        break;\n",
       "                    }\n",
       "                }\n",
       "            }, 500);\n",
       "            "
      ],
      "text/plain": [
       "<IPython.core.display.Javascript object>"
      ]
     },
     "metadata": {},
     "output_type": "display_data"
    }
   ],
   "source": [
    "wdir = '/lustre1/project/stg_00090/scatac_benchmark/fixedcells_4_merged'\n",
    "os.chdir( wdir )"
   ]
  },
  {
   "cell_type": "code",
   "execution_count": 4,
   "id": "4f8ba01b",
   "metadata": {
    "execution": {
     "iopub.execute_input": "2023-03-08T15:58:33.246105Z",
     "iopub.status.busy": "2023-03-08T15:58:33.245049Z",
     "iopub.status.idle": "2023-03-08T15:58:33.267047Z",
     "shell.execute_reply": "2023-03-08T15:58:33.265936Z",
     "shell.execute_reply.started": "2023-03-08T15:58:33.246062Z"
    },
    "papermill": {
     "duration": 0.056399,
     "end_time": "2022-11-01T17:12:00.116899",
     "exception": false,
     "start_time": "2022-11-01T17:12:00.060500",
     "status": "completed"
    },
    "pycharm": {
     "name": "#%%\n"
    },
    "tags": []
   },
   "outputs": [
    {
     "data": {
      "application/javascript": [
       "\n",
       "            setTimeout(function() {\n",
       "                var nbb_cell_id = 4;\n",
       "                var nbb_unformatted_code = \"# create output directory:\\nf_final_dir = os.path.join(wdir, 'downstream_analysis')\\nif not os.path.exists(f_final_dir):\\n    os.makedirs(f_final_dir)\\n    \\n# create output directory:\\nfor tmpdir in [\\\"binarized_topics\\\", \\\"DARs\\\", \\\"HVRs\\\", \\\"imputed_acc_objs\\\"]:\\n    tomake = os.path.join(f_final_dir, tmpdir)\\n    if not os.path.exists(tomake):\\n        os.makedirs(tomake)\\n    \";\n",
       "                var nbb_formatted_code = \"# create output directory:\\nf_final_dir = os.path.join(wdir, \\\"downstream_analysis\\\")\\nif not os.path.exists(f_final_dir):\\n    os.makedirs(f_final_dir)\\n\\n# create output directory:\\nfor tmpdir in [\\\"binarized_topics\\\", \\\"DARs\\\", \\\"HVRs\\\", \\\"imputed_acc_objs\\\"]:\\n    tomake = os.path.join(f_final_dir, tmpdir)\\n    if not os.path.exists(tomake):\\n        os.makedirs(tomake)\";\n",
       "                var nbb_cells = Jupyter.notebook.get_cells();\n",
       "                for (var i = 0; i < nbb_cells.length; ++i) {\n",
       "                    if (nbb_cells[i].input_prompt_number == nbb_cell_id) {\n",
       "                        if (nbb_cells[i].get_text() == nbb_unformatted_code) {\n",
       "                             nbb_cells[i].set_text(nbb_formatted_code);\n",
       "                        }\n",
       "                        break;\n",
       "                    }\n",
       "                }\n",
       "            }, 500);\n",
       "            "
      ],
      "text/plain": [
       "<IPython.core.display.Javascript object>"
      ]
     },
     "metadata": {},
     "output_type": "display_data"
    }
   ],
   "source": [
    "# create output directory:\n",
    "f_final_dir = os.path.join(wdir, 'downstream_analysis')\n",
    "if not os.path.exists(f_final_dir):\n",
    "    os.makedirs(f_final_dir)\n",
    "    \n",
    "# create output directory:\n",
    "for tmpdir in [\"binarized_topics\", \"DARs\", \"HVRs\", \"imputed_acc_objs\"]:\n",
    "    tomake = os.path.join(f_final_dir, tmpdir)\n",
    "    if not os.path.exists(tomake):\n",
    "        os.makedirs(tomake)\n",
    "    \n"
   ]
  },
  {
   "cell_type": "code",
   "execution_count": 5,
   "id": "03150819",
   "metadata": {
    "execution": {
     "iopub.execute_input": "2023-03-08T15:58:33.268653Z",
     "iopub.status.busy": "2023-03-08T15:58:33.268215Z",
     "iopub.status.idle": "2023-03-08T15:58:33.275702Z",
     "shell.execute_reply": "2023-03-08T15:58:33.274681Z",
     "shell.execute_reply.started": "2023-03-08T15:58:33.268628Z"
    },
    "papermill": {
     "duration": 0.041812,
     "end_time": "2022-11-01T17:12:00.198006",
     "exception": false,
     "start_time": "2022-11-01T17:12:00.156194",
     "status": "completed"
    },
    "pycharm": {
     "name": "#%%\n"
    },
    "tags": []
   },
   "outputs": [
    {
     "data": {
      "application/javascript": [
       "\n",
       "            setTimeout(function() {\n",
       "                var nbb_cell_id = 5;\n",
       "                var nbb_unformatted_code = \"import glob\";\n",
       "                var nbb_formatted_code = \"import glob\";\n",
       "                var nbb_cells = Jupyter.notebook.get_cells();\n",
       "                for (var i = 0; i < nbb_cells.length; ++i) {\n",
       "                    if (nbb_cells[i].input_prompt_number == nbb_cell_id) {\n",
       "                        if (nbb_cells[i].get_text() == nbb_unformatted_code) {\n",
       "                             nbb_cells[i].set_text(nbb_formatted_code);\n",
       "                        }\n",
       "                        break;\n",
       "                    }\n",
       "                }\n",
       "            }, 500);\n",
       "            "
      ],
      "text/plain": [
       "<IPython.core.display.Javascript object>"
      ]
     },
     "metadata": {},
     "output_type": "display_data"
    }
   ],
   "source": [
    "import glob"
   ]
  },
  {
   "cell_type": "markdown",
   "id": "e0e663c6",
   "metadata": {
    "papermill": {
     "duration": 0.027989,
     "end_time": "2022-11-01T17:12:00.461970",
     "exception": false,
     "start_time": "2022-11-01T17:12:00.433981",
     "status": "completed"
    },
    "pycharm": {
     "name": "#%% md\n"
    },
    "tags": []
   },
   "source": [
    "## Save/load cisTopic objects"
   ]
  },
  {
   "cell_type": "code",
   "execution_count": 6,
   "id": "459e1359",
   "metadata": {
    "execution": {
     "iopub.execute_input": "2023-03-08T15:58:33.277350Z",
     "iopub.status.busy": "2023-03-08T15:58:33.276936Z",
     "iopub.status.idle": "2023-03-08T15:58:33.294088Z",
     "shell.execute_reply": "2023-03-08T15:58:33.293075Z",
     "shell.execute_reply.started": "2023-03-08T15:58:33.277320Z"
    },
    "papermill": {
     "duration": 0.05771,
     "end_time": "2022-11-01T17:12:00.547743",
     "exception": false,
     "start_time": "2022-11-01T17:12:00.490033",
     "status": "completed"
    },
    "pycharm": {
     "name": "#%%\n"
    },
    "tags": []
   },
   "outputs": [
    {
     "data": {
      "text/plain": [
       "{'master_all_1.FIXEDCELLS': 'cistopic_objects_master/master_all_1.FIXEDCELLS__cto.scrublet0-4.fmx.singlets.model_24topics.dimreduc.consensus.pkl'}"
      ]
     },
     "execution_count": 6,
     "metadata": {},
     "output_type": "execute_result"
    },
    {
     "data": {
      "application/javascript": [
       "\n",
       "            setTimeout(function() {\n",
       "                var nbb_cell_id = 6;\n",
       "                var nbb_unformatted_code = \"cto_consensus_paths = sorted(glob.glob(f'cistopic_objects_master/*dimreduc.consensus.pkl'))\\ncistopic_obj_path_dict = {x.split('/')[-1].split(f'__')[0]:x for x in cto_consensus_paths}\\ncistopic_obj_path_dict\";\n",
       "                var nbb_formatted_code = \"cto_consensus_paths = sorted(\\n    glob.glob(f\\\"cistopic_objects_master/*dimreduc.consensus.pkl\\\")\\n)\\ncistopic_obj_path_dict = {\\n    x.split(\\\"/\\\")[-1].split(f\\\"__\\\")[0]: x for x in cto_consensus_paths\\n}\\ncistopic_obj_path_dict\";\n",
       "                var nbb_cells = Jupyter.notebook.get_cells();\n",
       "                for (var i = 0; i < nbb_cells.length; ++i) {\n",
       "                    if (nbb_cells[i].input_prompt_number == nbb_cell_id) {\n",
       "                        if (nbb_cells[i].get_text() == nbb_unformatted_code) {\n",
       "                             nbb_cells[i].set_text(nbb_formatted_code);\n",
       "                        }\n",
       "                        break;\n",
       "                    }\n",
       "                }\n",
       "            }, 500);\n",
       "            "
      ],
      "text/plain": [
       "<IPython.core.display.Javascript object>"
      ]
     },
     "metadata": {},
     "output_type": "display_data"
    }
   ],
   "source": [
    "cto_consensus_paths = sorted(glob.glob(f'cistopic_objects_master/*dimreduc.consensus.pkl'))\n",
    "cistopic_obj_path_dict = {x.split('/')[-1].split(f'__')[0]:x for x in cto_consensus_paths}\n",
    "cistopic_obj_path_dict"
   ]
  },
  {
   "cell_type": "markdown",
   "id": "8a1f0453",
   "metadata": {
    "papermill": {
     "duration": 0.028715,
     "end_time": "2022-11-01T17:12:00.615637",
     "exception": false,
     "start_time": "2022-11-01T17:12:00.586922",
     "status": "completed"
    },
    "pycharm": {
     "name": "#%% md\n"
    },
    "tags": []
   },
   "source": [
    "## Topic binarization & QC"
   ]
  },
  {
   "cell_type": "code",
   "execution_count": 7,
   "id": "d6ecfcbc",
   "metadata": {
    "execution": {
     "iopub.execute_input": "2023-03-08T15:58:33.295506Z",
     "iopub.status.busy": "2023-03-08T15:58:33.295229Z",
     "iopub.status.idle": "2023-03-08T15:59:28.618161Z",
     "shell.execute_reply": "2023-03-08T15:59:28.616960Z",
     "shell.execute_reply.started": "2023-03-08T15:58:33.295480Z"
    },
    "papermill": {
     "duration": 21.554216,
     "end_time": "2022-11-01T17:12:22.198341",
     "exception": false,
     "start_time": "2022-11-01T17:12:00.644125",
     "status": "completed"
    },
    "pycharm": {
     "name": "#%%\n"
    },
    "tags": []
   },
   "outputs": [
    {
     "data": {
      "application/javascript": [
       "\n",
       "            setTimeout(function() {\n",
       "                var nbb_cell_id = 7;\n",
       "                var nbb_unformatted_code = \"from pycisTopic.topic_binarization import binarize_topics\\nfrom pycisTopic.topic_qc import compute_topic_metrics, plot_topic_qc\\nfrom pycisTopic.utils import fig2img\\nimport matplotlib.pyplot as plt\\nfrom pycisTopic.topic_qc import topic_annotation\\nfrom pycisTopic.diff_features import *\\nfrom pycisTopic.clust_vis import plot_imputed_features\\nimport numpy as np\\nimport copy\";\n",
       "                var nbb_formatted_code = \"from pycisTopic.topic_binarization import binarize_topics\\nfrom pycisTopic.topic_qc import compute_topic_metrics, plot_topic_qc\\nfrom pycisTopic.utils import fig2img\\nimport matplotlib.pyplot as plt\\nfrom pycisTopic.topic_qc import topic_annotation\\nfrom pycisTopic.diff_features import *\\nfrom pycisTopic.clust_vis import plot_imputed_features\\nimport numpy as np\\nimport copy\";\n",
       "                var nbb_cells = Jupyter.notebook.get_cells();\n",
       "                for (var i = 0; i < nbb_cells.length; ++i) {\n",
       "                    if (nbb_cells[i].input_prompt_number == nbb_cell_id) {\n",
       "                        if (nbb_cells[i].get_text() == nbb_unformatted_code) {\n",
       "                             nbb_cells[i].set_text(nbb_formatted_code);\n",
       "                        }\n",
       "                        break;\n",
       "                    }\n",
       "                }\n",
       "            }, 500);\n",
       "            "
      ],
      "text/plain": [
       "<IPython.core.display.Javascript object>"
      ]
     },
     "metadata": {},
     "output_type": "display_data"
    }
   ],
   "source": [
    "from pycisTopic.topic_binarization import binarize_topics\n",
    "from pycisTopic.topic_qc import compute_topic_metrics, plot_topic_qc\n",
    "from pycisTopic.utils import fig2img\n",
    "import matplotlib.pyplot as plt\n",
    "from pycisTopic.topic_qc import topic_annotation\n",
    "from pycisTopic.diff_features import *\n",
    "from pycisTopic.clust_vis import plot_imputed_features\n",
    "import numpy as np\n",
    "import copy"
   ]
  },
  {
   "cell_type": "markdown",
   "id": "79e3d3f1",
   "metadata": {
    "papermill": {
     "duration": 0.029391,
     "end_time": "2022-11-01T17:12:22.274649",
     "exception": false,
     "start_time": "2022-11-01T17:12:22.245258",
     "status": "completed"
    },
    "pycharm": {
     "name": "#%% md\n"
    },
    "tags": []
   },
   "source": [
    "### Binarize the topic-region distributions"
   ]
  },
  {
   "cell_type": "markdown",
   "id": "4ab62d81",
   "metadata": {
    "execution": {
     "iopub.execute_input": "2022-11-01T16:38:48.621584Z",
     "iopub.status.busy": "2022-11-01T16:38:48.621158Z",
     "iopub.status.idle": "2022-11-01T16:40:49.391998Z",
     "shell.execute_reply": "2022-11-01T16:40:49.390990Z",
     "shell.execute_reply.started": "2022-11-01T16:38:48.621560Z"
    },
    "papermill": {
     "duration": 0.029181,
     "end_time": "2022-11-01T17:12:22.333175",
     "exception": false,
     "start_time": "2022-11-01T17:12:22.303994",
     "status": "completed"
    },
    "tags": []
   },
   "source": [
    "for sample in cistopic_obj_path_dict.keys():\n",
    "    path = cistopic_obj_path_dict[sample]\n",
    "    if not os.path.exists(f'downstream_analysis/DARs/{sample}'):\n",
    "        if os.path.isfile(path):\n",
    "            print(f\"Loading {path}\")\n",
    "            with open(path, 'rb') as f:\n",
    "                cto = pickle.load(f)"
   ]
  },
  {
   "cell_type": "markdown",
   "id": "05e39fd1",
   "metadata": {
    "execution": {
     "iopub.execute_input": "2022-11-01T16:40:49.395840Z",
     "iopub.status.busy": "2022-11-01T16:40:49.395606Z",
     "iopub.status.idle": "2022-11-01T16:41:14.077696Z",
     "shell.execute_reply": "2022-11-01T16:41:14.076274Z",
     "shell.execute_reply.started": "2022-11-01T16:40:49.395819Z"
    },
    "papermill": {
     "duration": 0.029214,
     "end_time": "2022-11-01T17:12:22.391804",
     "exception": false,
     "start_time": "2022-11-01T17:12:22.362590",
     "status": "completed"
    },
    "tags": []
   },
   "source": [
    "outpath=f\"downstream_analysis/imputed_acc_objs/{sample}__imputed_acc_obs.pkl\"\n",
    "if os.path.exists(outpath):\n",
    "    with open(outpath, 'rb') as f:\n",
    "        imputed_acc_obj = pickle.load(f)\n",
    "else:\n",
    "    print(\"impute_accessibility\")\n",
    "    imputed_acc_obj = impute_accessibility(\n",
    "        cto,\n",
    "        selected_cells=None,\n",
    "        selected_regions=None,\n",
    "        scale_factor=10**6\n",
    "    )\n",
    "\n",
    "    with open(\n",
    "        outpath,'wb'\n",
    "    ) as f:\n",
    "        pickle.dump(imputed_acc_obj, f, protocol=4)"
   ]
  },
  {
   "cell_type": "code",
   "execution_count": 9,
   "id": "2dc331f0",
   "metadata": {
    "execution": {
     "iopub.execute_input": "2022-12-22T13:29:04.417699Z",
     "iopub.status.busy": "2022-12-22T13:29:04.416275Z",
     "iopub.status.idle": "2022-12-22T13:29:04.545269Z",
     "shell.execute_reply": "2022-12-22T13:29:04.544251Z",
     "shell.execute_reply.started": "2022-12-22T13:29:04.417655Z"
    },
    "papermill": {
     "duration": 11821.037071,
     "end_time": "2022-11-01T20:29:23.458042",
     "exception": false,
     "start_time": "2022-11-01T17:12:22.420971",
     "status": "completed"
    },
    "pycharm": {
     "name": "#%%\n"
    },
    "tags": []
   },
   "outputs": [
    {
     "name": "stdout",
     "output_type": "stream",
     "text": [
      "downstream_analysis/DARs/master_all_1.FIXEDCELLS already exists!\n"
     ]
    },
    {
     "data": {
      "application/javascript": [
       "\n",
       "            setTimeout(function() {\n",
       "                var nbb_cell_id = 9;\n",
       "                var nbb_unformatted_code = \"for sample in cistopic_obj_path_dict.keys():\\n    path = cistopic_obj_path_dict[sample]\\n    if not os.path.exists(f'downstream_analysis/DARs/{sample}'):\\n        if os.path.isfile(path):\\n            print(f\\\"Loading {path}\\\")\\n            with open(path, 'rb') as f:\\n                cto = pickle.load(f)\\n                \\n            cto.cell_names = cto.cell_data.index\\n            if [x.split('-')[0] for x in cto.selected_model.cell_topic.columns] == [x.split('___')[0] for x in list(cto.cell_names)]:\\n                cto.selected_model.cell_topic.columns =  list(cto.cell_names)\\n                \\n            outpath=f\\\"downstream_analysis/binarized_topics/{sample}__topic_region_binarized.pkl\\\"\\n            if os.path.exists(outpath):\\n                with open(outpath, 'rb') as f:\\n                    region_bin_topics = pickle.load(f)\\n            else:\\n                region_bin_topics = binarize_topics(\\n                    cto,\\n                    method='otsu',\\n                    ntop=3000,\\n                    plot=True,\\n                    num_columns=6,\\n                    save=f'plots_qc/{sample}__topic_region_binarized.png'\\n                )\\n\\n                with open(\\n                        outpath,'wb'\\n                ) as f:\\n                    pickle.dump(region_bin_topics, f, protocol=4)\\n                    \\n            outpath=f\\\"downstream_analysis/binarized_topics/{sample}__cells_topic_binarized.pkl\\\"\\n            if os.path.exists(outpath):\\n                with open(outpath, 'rb') as f:\\n                    binarized_cell_topics = pickle.load(f)\\n            else:\\n                binarized_cell_topics = binarize_topics(\\n                    cto,\\n                    target='cell',\\n                    method='li',\\n                    plot=True,\\n                    num_columns=5,\\n                    nbins=100,\\n                    save=f'plots_qc/{sample}__cells_topic_binarized.png'\\n                )\\n\\n                with open(\\n                        outpath,'wb'\\n                ) as f:\\n                    pickle.dump(binarized_cell_topics, f, protocol=4)\\n\\n            outpath=f\\\"downstream_analysis/binarized_topics/{sample}__topic_qc.pkl\\\"\\n            if os.path.exists(outpath):\\n                with open(outpath, 'rb') as f:\\n                    topic_qc_metrics = pickle.load(f)\\n            else:\\n                topic_qc_metrics = compute_topic_metrics(cto)\\n                with open(\\n                        outpath,'wb'\\n                ) as f:\\n                    pickle.dump(topic_qc_metrics, f, protocol=4)\\n\\n            fig_dict= {\\n                'CoherenceVSAssignments': plot_topic_qc(topic_qc_metrics, var_x='Coherence', var_y='Log10_Assignments',\\n                                                        var_color='Gini_index', plot=False, return_fig=True),\\n                'AssignmentsVSCells_in_bin': plot_topic_qc(topic_qc_metrics, var_x='Log10_Assignments',\\n                                                           var_y='Cells_in_binarized_topic', var_color='Gini_index',\\n                                                           plot=False, return_fig=True),\\n                'CoherenceVSCells_in_bin': plot_topic_qc(topic_qc_metrics, var_x='Coherence',\\n                                                         var_y='Cells_in_binarized_topic', var_color='Gini_index',\\n                                                         plot=False, return_fig=True),\\n                'CoherenceVSRegions_in_bin': plot_topic_qc(topic_qc_metrics, var_x='Coherence',\\n                                                           var_y='Regions_in_binarized_topic', var_color='Gini_index',\\n                                                           plot=False, return_fig=True),\\n                'CoherenceVSMarginal_dist': plot_topic_qc(topic_qc_metrics, var_x='Coherence',\\n                                                          var_y='Marginal_topic_dist', var_color='Gini_index',\\n                                                          plot=False, return_fig=True),\\n                'CoherenceVSGini_index': plot_topic_qc(topic_qc_metrics, var_x='Coherence', var_y='Gini_index',\\n                                                       var_color='Gini_index', plot=False, return_fig=True)}\\n\\n            fig=plt.figure(figsize=(40, 43))\\n            i = 1\\n            for fig_ in fig_dict.keys():\\n                plt.subplot(2, 3, i)\\n                img = fig2img(fig_dict[fig_]) #To convert figures to png to plot together, see .utils.py. This converts the figure to png.\\n                plt.imshow(img)\\n                plt.axis('off')\\n                i += 1\\n            plt.subplots_adjust(wspace=0, hspace=-0.70)\\n            #plt.tight_layout()\\n            plt.show()\\n            plt.savefig(f'plots_qc/{sample}__topic_qc_metrics.png', facecolor='white', dpi=150)\\n            \\n            print(\\\"topic annotation\\\")\\n            topic_annot = topic_annotation(\\n                cto,\\n                annot_var='consensus_cell_type',\\n                binarized_cell_topic=binarized_cell_topics,\\n                general_topic_thr = 0.2\\n            )\\n            \\n            print(\\\"topic_qc_metrics\\\")\\n            topic_qc_metrics = pd.concat(\\n                [\\n                    topic_annot[['consensus_cell_type', 'Ratio_cells_in_topic', 'Ratio_group_in_population']],\\n                    topic_qc_metrics\\n                ],\\n                axis=1\\n            )\\n            \\n            outpath=f\\\"downstream_analysis/imputed_acc_objs/{sample}__imputed_acc_obs.pkl\\\"\\n            if os.path.exists(outpath):\\n                with open(outpath, 'rb') as f:\\n                    imputed_acc_obj = pickle.load(f)\\n            else:\\n                print(\\\"impute_accessibility\\\")\\n                imputed_acc_obj = impute_accessibility(\\n                    cto,\\n                    selected_cells=None,\\n                    selected_regions=None,\\n                    scale_factor=10**6\\n                )\\n\\n                with open(\\n                    outpath,'wb'\\n                ) as f:\\n                    pickle.dump(imputed_acc_obj, f, protocol=4)\\n                    \\n            outpath=f\\\"downstream_analysis/imputed_acc_objs/{sample}__normalized_imputed_acc_obs.pkl\\\"\\n            if os.path.exists(outpath):\\n                with open(path, 'rb') as f:\\n                    normalized_imputed_acc_obj = pickle.load(f)\\n            else:\\n                print(\\\"normalize_scores\\\")\\n                normalized_imputed_acc_obj = normalize_scores(\\n                    imputed_acc_obj,\\n                    scale_factor=10**4\\n                )\\n\\n                with open(\\n                    f\\\"downstream_analysis/imputed_acc_objs/{sample}__normalized_imputed_acc_obs.pkl\\\",'wb'\\n                ) as f:\\n                    pickle.dump(normalized_imputed_acc_obj, f, protocol=4)\\n                \\n            print(\\\"find_highly_variable_features\\\")\\n            variable_regions = find_highly_variable_features(\\n                normalized_imputed_acc_obj,\\n                min_disp = 0.05,\\n                min_mean = 0.0125,\\n                max_mean = 3,\\n                max_disp = np.inf,\\n                n_bins=20,\\n                n_top_features=None,\\n                plot=True,\\n                save=f'plots_qc/{sample}__HVR.png'\\n            )\\n\\n            print(f\\\"Found {len(variable_regions)} variable regions\\\")\\n            with open(f'downstream_analysis/HVRs/{sample}__HVRs.bed', 'w') as f:\\n                for line in [x.replace(':','\\\\t').replace('-','\\\\t') for x in variable_regions]:\\n                    f.write(f\\\"{line}\\\\t\\\")\\n\\n            os.mkdir(f'downstream_analysis/DARs/{sample}')\\n            \\n            \\n            outpath=f\\\"downstream_analysis/DARs/{sample}/{sample}__DARs_dict.pkl\\\"\\n            if os.path.exists(outpath):\\n                with open(outpath, 'rb') as f:\\n                    markers_dict = pickle.load(f)\\n            else:\\n                markers_dict = find_diff_features(\\n                    cto,\\n                    normalized_imputed_acc_obj,\\n                    variable='consensus_cell_type',\\n                    var_features=variable_regions,\\n                    contrasts=None,\\n                    adjpval_thr=0.05,\\n                    log2fc_thr=np.log2(1.5),\\n                    n_cpu=5,\\n                )\\n                with open(\\n                        outpath,'wb'\\n                ) as f:\\n                    pickle.dump(markers_dict, f, protocol=4)\\n\\n                for cell_type in markers_dict.keys():\\n                    markers = markers_dict[cell_type].index.tolist()\\n                    df = pd.DataFrame(markers)\\n                    if len(df) == 0:\\n                        print(f\\\"no DARs found for {cell_type} in {sample}\\\")\\n                    else:\\n                        df[[0,1]] = df[0].str.split(':',expand=True)\\n                        df[[1,2]] = df[1].str.split('-',expand=True)\\n                        df[3] = markers_dict[cell_type].index.tolist()\\n                        df[3] = cell_type.replace(' ', '_')# + '_' + df[3].astype(str)\\n                        score = markers_dict[cell_type]['Log2FC']\\n                        score = score.reset_index(drop=True)\\n                        df[4] = score\\n                        df[5] = '.'\\n                        pval = markers_dict[cell_type]['Adjusted_pval']\\n                        pval = pval.reset_index(drop=True)\\n                        df[6] = pval\\n                        name = cell_type.replace(' ', '_')\\n                        # name = name.replace('/', '-')\\n                        if not os.path.exists(f'downstream_analysis/DARs/{sample}'):\\n                            os.mkdir(f'downstream_analysis/DARs/{sample}')\\n\\n                        df.to_csv(f'downstream_analysis/DARs/{sample}/{sample}__{cell_type.replace(\\\" \\\", \\\"_\\\")}__DARs.bed', sep='\\\\t', header=False, index=False)\\n                        df[0:2000].to_csv(f'downstream_analysis/DARs/{sample}/{sample}__{cell_type.replace(\\\" \\\", \\\"_\\\")}__DARs.TOP2k.bed', sep='\\\\t', header=False, index=False)\\n\\n        else:\\n            print(f'{path} does not exist!')\\n    else:\\n        print(f\\\"downstream_analysis/DARs/{sample} already exists!\\\")\";\n",
       "                var nbb_formatted_code = \"for sample in cistopic_obj_path_dict.keys():\\n    path = cistopic_obj_path_dict[sample]\\n    if not os.path.exists(f\\\"downstream_analysis/DARs/{sample}\\\"):\\n        if os.path.isfile(path):\\n            print(f\\\"Loading {path}\\\")\\n            with open(path, \\\"rb\\\") as f:\\n                cto = pickle.load(f)\\n\\n            cto.cell_names = cto.cell_data.index\\n            if [x.split(\\\"-\\\")[0] for x in cto.selected_model.cell_topic.columns] == [\\n                x.split(\\\"___\\\")[0] for x in list(cto.cell_names)\\n            ]:\\n                cto.selected_model.cell_topic.columns = list(cto.cell_names)\\n\\n            outpath = f\\\"downstream_analysis/binarized_topics/{sample}__topic_region_binarized.pkl\\\"\\n            if os.path.exists(outpath):\\n                with open(outpath, \\\"rb\\\") as f:\\n                    region_bin_topics = pickle.load(f)\\n            else:\\n                region_bin_topics = binarize_topics(\\n                    cto,\\n                    method=\\\"otsu\\\",\\n                    ntop=3000,\\n                    plot=True,\\n                    num_columns=6,\\n                    save=f\\\"plots_qc/{sample}__topic_region_binarized.png\\\",\\n                )\\n\\n                with open(outpath, \\\"wb\\\") as f:\\n                    pickle.dump(region_bin_topics, f, protocol=4)\\n\\n            outpath = f\\\"downstream_analysis/binarized_topics/{sample}__cells_topic_binarized.pkl\\\"\\n            if os.path.exists(outpath):\\n                with open(outpath, \\\"rb\\\") as f:\\n                    binarized_cell_topics = pickle.load(f)\\n            else:\\n                binarized_cell_topics = binarize_topics(\\n                    cto,\\n                    target=\\\"cell\\\",\\n                    method=\\\"li\\\",\\n                    plot=True,\\n                    num_columns=5,\\n                    nbins=100,\\n                    save=f\\\"plots_qc/{sample}__cells_topic_binarized.png\\\",\\n                )\\n\\n                with open(outpath, \\\"wb\\\") as f:\\n                    pickle.dump(binarized_cell_topics, f, protocol=4)\\n\\n            outpath = f\\\"downstream_analysis/binarized_topics/{sample}__topic_qc.pkl\\\"\\n            if os.path.exists(outpath):\\n                with open(outpath, \\\"rb\\\") as f:\\n                    topic_qc_metrics = pickle.load(f)\\n            else:\\n                topic_qc_metrics = compute_topic_metrics(cto)\\n                with open(outpath, \\\"wb\\\") as f:\\n                    pickle.dump(topic_qc_metrics, f, protocol=4)\\n\\n            fig_dict = {\\n                \\\"CoherenceVSAssignments\\\": plot_topic_qc(\\n                    topic_qc_metrics,\\n                    var_x=\\\"Coherence\\\",\\n                    var_y=\\\"Log10_Assignments\\\",\\n                    var_color=\\\"Gini_index\\\",\\n                    plot=False,\\n                    return_fig=True,\\n                ),\\n                \\\"AssignmentsVSCells_in_bin\\\": plot_topic_qc(\\n                    topic_qc_metrics,\\n                    var_x=\\\"Log10_Assignments\\\",\\n                    var_y=\\\"Cells_in_binarized_topic\\\",\\n                    var_color=\\\"Gini_index\\\",\\n                    plot=False,\\n                    return_fig=True,\\n                ),\\n                \\\"CoherenceVSCells_in_bin\\\": plot_topic_qc(\\n                    topic_qc_metrics,\\n                    var_x=\\\"Coherence\\\",\\n                    var_y=\\\"Cells_in_binarized_topic\\\",\\n                    var_color=\\\"Gini_index\\\",\\n                    plot=False,\\n                    return_fig=True,\\n                ),\\n                \\\"CoherenceVSRegions_in_bin\\\": plot_topic_qc(\\n                    topic_qc_metrics,\\n                    var_x=\\\"Coherence\\\",\\n                    var_y=\\\"Regions_in_binarized_topic\\\",\\n                    var_color=\\\"Gini_index\\\",\\n                    plot=False,\\n                    return_fig=True,\\n                ),\\n                \\\"CoherenceVSMarginal_dist\\\": plot_topic_qc(\\n                    topic_qc_metrics,\\n                    var_x=\\\"Coherence\\\",\\n                    var_y=\\\"Marginal_topic_dist\\\",\\n                    var_color=\\\"Gini_index\\\",\\n                    plot=False,\\n                    return_fig=True,\\n                ),\\n                \\\"CoherenceVSGini_index\\\": plot_topic_qc(\\n                    topic_qc_metrics,\\n                    var_x=\\\"Coherence\\\",\\n                    var_y=\\\"Gini_index\\\",\\n                    var_color=\\\"Gini_index\\\",\\n                    plot=False,\\n                    return_fig=True,\\n                ),\\n            }\\n\\n            fig = plt.figure(figsize=(40, 43))\\n            i = 1\\n            for fig_ in fig_dict.keys():\\n                plt.subplot(2, 3, i)\\n                img = fig2img(\\n                    fig_dict[fig_]\\n                )  # To convert figures to png to plot together, see .utils.py. This converts the figure to png.\\n                plt.imshow(img)\\n                plt.axis(\\\"off\\\")\\n                i += 1\\n            plt.subplots_adjust(wspace=0, hspace=-0.70)\\n            # plt.tight_layout()\\n            plt.show()\\n            plt.savefig(\\n                f\\\"plots_qc/{sample}__topic_qc_metrics.png\\\", facecolor=\\\"white\\\", dpi=150\\n            )\\n\\n            print(\\\"topic annotation\\\")\\n            topic_annot = topic_annotation(\\n                cto,\\n                annot_var=\\\"consensus_cell_type\\\",\\n                binarized_cell_topic=binarized_cell_topics,\\n                general_topic_thr=0.2,\\n            )\\n\\n            print(\\\"topic_qc_metrics\\\")\\n            topic_qc_metrics = pd.concat(\\n                [\\n                    topic_annot[\\n                        [\\n                            \\\"consensus_cell_type\\\",\\n                            \\\"Ratio_cells_in_topic\\\",\\n                            \\\"Ratio_group_in_population\\\",\\n                        ]\\n                    ],\\n                    topic_qc_metrics,\\n                ],\\n                axis=1,\\n            )\\n\\n            outpath = (\\n                f\\\"downstream_analysis/imputed_acc_objs/{sample}__imputed_acc_obs.pkl\\\"\\n            )\\n            if os.path.exists(outpath):\\n                with open(outpath, \\\"rb\\\") as f:\\n                    imputed_acc_obj = pickle.load(f)\\n            else:\\n                print(\\\"impute_accessibility\\\")\\n                imputed_acc_obj = impute_accessibility(\\n                    cto,\\n                    selected_cells=None,\\n                    selected_regions=None,\\n                    scale_factor=10**6,\\n                )\\n\\n                with open(outpath, \\\"wb\\\") as f:\\n                    pickle.dump(imputed_acc_obj, f, protocol=4)\\n\\n            outpath = f\\\"downstream_analysis/imputed_acc_objs/{sample}__normalized_imputed_acc_obs.pkl\\\"\\n            if os.path.exists(outpath):\\n                with open(path, \\\"rb\\\") as f:\\n                    normalized_imputed_acc_obj = pickle.load(f)\\n            else:\\n                print(\\\"normalize_scores\\\")\\n                normalized_imputed_acc_obj = normalize_scores(\\n                    imputed_acc_obj, scale_factor=10**4\\n                )\\n\\n                with open(\\n                    f\\\"downstream_analysis/imputed_acc_objs/{sample}__normalized_imputed_acc_obs.pkl\\\",\\n                    \\\"wb\\\",\\n                ) as f:\\n                    pickle.dump(normalized_imputed_acc_obj, f, protocol=4)\\n\\n            print(\\\"find_highly_variable_features\\\")\\n            variable_regions = find_highly_variable_features(\\n                normalized_imputed_acc_obj,\\n                min_disp=0.05,\\n                min_mean=0.0125,\\n                max_mean=3,\\n                max_disp=np.inf,\\n                n_bins=20,\\n                n_top_features=None,\\n                plot=True,\\n                save=f\\\"plots_qc/{sample}__HVR.png\\\",\\n            )\\n\\n            print(f\\\"Found {len(variable_regions)} variable regions\\\")\\n            with open(f\\\"downstream_analysis/HVRs/{sample}__HVRs.bed\\\", \\\"w\\\") as f:\\n                for line in [\\n                    x.replace(\\\":\\\", \\\"\\\\t\\\").replace(\\\"-\\\", \\\"\\\\t\\\") for x in variable_regions\\n                ]:\\n                    f.write(f\\\"{line}\\\\t\\\")\\n\\n            os.mkdir(f\\\"downstream_analysis/DARs/{sample}\\\")\\n\\n            outpath = f\\\"downstream_analysis/DARs/{sample}/{sample}__DARs_dict.pkl\\\"\\n            if os.path.exists(outpath):\\n                with open(outpath, \\\"rb\\\") as f:\\n                    markers_dict = pickle.load(f)\\n            else:\\n                markers_dict = find_diff_features(\\n                    cto,\\n                    normalized_imputed_acc_obj,\\n                    variable=\\\"consensus_cell_type\\\",\\n                    var_features=variable_regions,\\n                    contrasts=None,\\n                    adjpval_thr=0.05,\\n                    log2fc_thr=np.log2(1.5),\\n                    n_cpu=5,\\n                )\\n                with open(outpath, \\\"wb\\\") as f:\\n                    pickle.dump(markers_dict, f, protocol=4)\\n\\n                for cell_type in markers_dict.keys():\\n                    markers = markers_dict[cell_type].index.tolist()\\n                    df = pd.DataFrame(markers)\\n                    if len(df) == 0:\\n                        print(f\\\"no DARs found for {cell_type} in {sample}\\\")\\n                    else:\\n                        df[[0, 1]] = df[0].str.split(\\\":\\\", expand=True)\\n                        df[[1, 2]] = df[1].str.split(\\\"-\\\", expand=True)\\n                        df[3] = markers_dict[cell_type].index.tolist()\\n                        df[3] = cell_type.replace(\\\" \\\", \\\"_\\\")  # + '_' + df[3].astype(str)\\n                        score = markers_dict[cell_type][\\\"Log2FC\\\"]\\n                        score = score.reset_index(drop=True)\\n                        df[4] = score\\n                        df[5] = \\\".\\\"\\n                        pval = markers_dict[cell_type][\\\"Adjusted_pval\\\"]\\n                        pval = pval.reset_index(drop=True)\\n                        df[6] = pval\\n                        name = cell_type.replace(\\\" \\\", \\\"_\\\")\\n                        # name = name.replace('/', '-')\\n                        if not os.path.exists(f\\\"downstream_analysis/DARs/{sample}\\\"):\\n                            os.mkdir(f\\\"downstream_analysis/DARs/{sample}\\\")\\n\\n                        df.to_csv(\\n                            f'downstream_analysis/DARs/{sample}/{sample}__{cell_type.replace(\\\" \\\", \\\"_\\\")}__DARs.bed',\\n                            sep=\\\"\\\\t\\\",\\n                            header=False,\\n                            index=False,\\n                        )\\n                        df[0:2000].to_csv(\\n                            f'downstream_analysis/DARs/{sample}/{sample}__{cell_type.replace(\\\" \\\", \\\"_\\\")}__DARs.TOP2k.bed',\\n                            sep=\\\"\\\\t\\\",\\n                            header=False,\\n                            index=False,\\n                        )\\n\\n        else:\\n            print(f\\\"{path} does not exist!\\\")\\n    else:\\n        print(f\\\"downstream_analysis/DARs/{sample} already exists!\\\")\";\n",
       "                var nbb_cells = Jupyter.notebook.get_cells();\n",
       "                for (var i = 0; i < nbb_cells.length; ++i) {\n",
       "                    if (nbb_cells[i].input_prompt_number == nbb_cell_id) {\n",
       "                        if (nbb_cells[i].get_text() == nbb_unformatted_code) {\n",
       "                             nbb_cells[i].set_text(nbb_formatted_code);\n",
       "                        }\n",
       "                        break;\n",
       "                    }\n",
       "                }\n",
       "            }, 500);\n",
       "            "
      ],
      "text/plain": [
       "<IPython.core.display.Javascript object>"
      ]
     },
     "metadata": {},
     "output_type": "display_data"
    }
   ],
   "source": [
    "for sample in cistopic_obj_path_dict.keys():\n",
    "    path = cistopic_obj_path_dict[sample]\n",
    "    if not os.path.exists(f'downstream_analysis/DARs/{sample}'):\n",
    "        if os.path.isfile(path):\n",
    "            print(f\"Loading {path}\")\n",
    "            with open(path, 'rb') as f:\n",
    "                cto = pickle.load(f)\n",
    "                \n",
    "            cto.cell_names = cto.cell_data.index\n",
    "            if [x.split('-')[0] for x in cto.selected_model.cell_topic.columns] == [x.split('___')[0] for x in list(cto.cell_names)]:\n",
    "                cto.selected_model.cell_topic.columns =  list(cto.cell_names)\n",
    "                \n",
    "            outpath=f\"downstream_analysis/binarized_topics/{sample}__topic_region_binarized.pkl\"\n",
    "            if os.path.exists(outpath):\n",
    "                with open(outpath, 'rb') as f:\n",
    "                    region_bin_topics = pickle.load(f)\n",
    "            else:\n",
    "                region_bin_topics = binarize_topics(\n",
    "                    cto,\n",
    "                    method='otsu',\n",
    "                    ntop=3000,\n",
    "                    plot=True,\n",
    "                    num_columns=6,\n",
    "                    save=f'plots_qc/{sample}__topic_region_binarized.png'\n",
    "                )\n",
    "\n",
    "                with open(\n",
    "                        outpath,'wb'\n",
    "                ) as f:\n",
    "                    pickle.dump(region_bin_topics, f, protocol=4)\n",
    "                    \n",
    "            outpath=f\"downstream_analysis/binarized_topics/{sample}__cells_topic_binarized.pkl\"\n",
    "            if os.path.exists(outpath):\n",
    "                with open(outpath, 'rb') as f:\n",
    "                    binarized_cell_topics = pickle.load(f)\n",
    "            else:\n",
    "                binarized_cell_topics = binarize_topics(\n",
    "                    cto,\n",
    "                    target='cell',\n",
    "                    method='li',\n",
    "                    plot=True,\n",
    "                    num_columns=5,\n",
    "                    nbins=100,\n",
    "                    save=f'plots_qc/{sample}__cells_topic_binarized.png'\n",
    "                )\n",
    "\n",
    "                with open(\n",
    "                        outpath,'wb'\n",
    "                ) as f:\n",
    "                    pickle.dump(binarized_cell_topics, f, protocol=4)\n",
    "\n",
    "            outpath=f\"downstream_analysis/binarized_topics/{sample}__topic_qc.pkl\"\n",
    "            if os.path.exists(outpath):\n",
    "                with open(outpath, 'rb') as f:\n",
    "                    topic_qc_metrics = pickle.load(f)\n",
    "            else:\n",
    "                topic_qc_metrics = compute_topic_metrics(cto)\n",
    "                with open(\n",
    "                        outpath,'wb'\n",
    "                ) as f:\n",
    "                    pickle.dump(topic_qc_metrics, f, protocol=4)\n",
    "\n",
    "            fig_dict= {\n",
    "                'CoherenceVSAssignments': plot_topic_qc(topic_qc_metrics, var_x='Coherence', var_y='Log10_Assignments',\n",
    "                                                        var_color='Gini_index', plot=False, return_fig=True),\n",
    "                'AssignmentsVSCells_in_bin': plot_topic_qc(topic_qc_metrics, var_x='Log10_Assignments',\n",
    "                                                           var_y='Cells_in_binarized_topic', var_color='Gini_index',\n",
    "                                                           plot=False, return_fig=True),\n",
    "                'CoherenceVSCells_in_bin': plot_topic_qc(topic_qc_metrics, var_x='Coherence',\n",
    "                                                         var_y='Cells_in_binarized_topic', var_color='Gini_index',\n",
    "                                                         plot=False, return_fig=True),\n",
    "                'CoherenceVSRegions_in_bin': plot_topic_qc(topic_qc_metrics, var_x='Coherence',\n",
    "                                                           var_y='Regions_in_binarized_topic', var_color='Gini_index',\n",
    "                                                           plot=False, return_fig=True),\n",
    "                'CoherenceVSMarginal_dist': plot_topic_qc(topic_qc_metrics, var_x='Coherence',\n",
    "                                                          var_y='Marginal_topic_dist', var_color='Gini_index',\n",
    "                                                          plot=False, return_fig=True),\n",
    "                'CoherenceVSGini_index': plot_topic_qc(topic_qc_metrics, var_x='Coherence', var_y='Gini_index',\n",
    "                                                       var_color='Gini_index', plot=False, return_fig=True)}\n",
    "\n",
    "            fig=plt.figure(figsize=(40, 43))\n",
    "            i = 1\n",
    "            for fig_ in fig_dict.keys():\n",
    "                plt.subplot(2, 3, i)\n",
    "                img = fig2img(fig_dict[fig_]) #To convert figures to png to plot together, see .utils.py. This converts the figure to png.\n",
    "                plt.imshow(img)\n",
    "                plt.axis('off')\n",
    "                i += 1\n",
    "            plt.subplots_adjust(wspace=0, hspace=-0.70)\n",
    "            #plt.tight_layout()\n",
    "            plt.show()\n",
    "            plt.savefig(f'plots_qc/{sample}__topic_qc_metrics.png', facecolor='white', dpi=150)\n",
    "            \n",
    "            print(\"topic annotation\")\n",
    "            topic_annot = topic_annotation(\n",
    "                cto,\n",
    "                annot_var='consensus_cell_type',\n",
    "                binarized_cell_topic=binarized_cell_topics,\n",
    "                general_topic_thr = 0.2\n",
    "            )\n",
    "            \n",
    "            print(\"topic_qc_metrics\")\n",
    "            topic_qc_metrics = pd.concat(\n",
    "                [\n",
    "                    topic_annot[['consensus_cell_type', 'Ratio_cells_in_topic', 'Ratio_group_in_population']],\n",
    "                    topic_qc_metrics\n",
    "                ],\n",
    "                axis=1\n",
    "            )\n",
    "            \n",
    "            outpath=f\"downstream_analysis/imputed_acc_objs/{sample}__imputed_acc_obs.pkl\"\n",
    "            if os.path.exists(outpath):\n",
    "                with open(outpath, 'rb') as f:\n",
    "                    imputed_acc_obj = pickle.load(f)\n",
    "            else:\n",
    "                print(\"impute_accessibility\")\n",
    "                imputed_acc_obj = impute_accessibility(\n",
    "                    cto,\n",
    "                    selected_cells=None,\n",
    "                    selected_regions=None,\n",
    "                    scale_factor=10**6\n",
    "                )\n",
    "\n",
    "                with open(\n",
    "                    outpath,'wb'\n",
    "                ) as f:\n",
    "                    pickle.dump(imputed_acc_obj, f, protocol=4)\n",
    "                    \n",
    "            outpath=f\"downstream_analysis/imputed_acc_objs/{sample}__normalized_imputed_acc_obs.pkl\"\n",
    "            if os.path.exists(outpath):\n",
    "                with open(path, 'rb') as f:\n",
    "                    normalized_imputed_acc_obj = pickle.load(f)\n",
    "            else:\n",
    "                print(\"normalize_scores\")\n",
    "                normalized_imputed_acc_obj = normalize_scores(\n",
    "                    imputed_acc_obj,\n",
    "                    scale_factor=10**4\n",
    "                )\n",
    "\n",
    "                with open(\n",
    "                    f\"downstream_analysis/imputed_acc_objs/{sample}__normalized_imputed_acc_obs.pkl\",'wb'\n",
    "                ) as f:\n",
    "                    pickle.dump(normalized_imputed_acc_obj, f, protocol=4)\n",
    "                \n",
    "            print(\"find_highly_variable_features\")\n",
    "            variable_regions = find_highly_variable_features(\n",
    "                normalized_imputed_acc_obj,\n",
    "                min_disp = 0.05,\n",
    "                min_mean = 0.0125,\n",
    "                max_mean = 3,\n",
    "                max_disp = np.inf,\n",
    "                n_bins=20,\n",
    "                n_top_features=None,\n",
    "                plot=True,\n",
    "                save=f'plots_qc/{sample}__HVR.png'\n",
    "            )\n",
    "\n",
    "            print(f\"Found {len(variable_regions)} variable regions\")\n",
    "            with open(f'downstream_analysis/HVRs/{sample}__HVRs.bed', 'w') as f:\n",
    "                for line in [x.replace(':','\\t').replace('-','\\t') for x in variable_regions]:\n",
    "                    f.write(f\"{line}\\t\")\n",
    "\n",
    "            os.mkdir(f'downstream_analysis/DARs/{sample}')\n",
    "            \n",
    "            \n",
    "            outpath=f\"downstream_analysis/DARs/{sample}/{sample}__DARs_dict.pkl\"\n",
    "            if os.path.exists(outpath):\n",
    "                with open(outpath, 'rb') as f:\n",
    "                    markers_dict = pickle.load(f)\n",
    "            else:\n",
    "                markers_dict = find_diff_features(\n",
    "                    cto,\n",
    "                    normalized_imputed_acc_obj,\n",
    "                    variable='consensus_cell_type',\n",
    "                    var_features=variable_regions,\n",
    "                    contrasts=None,\n",
    "                    adjpval_thr=0.05,\n",
    "                    log2fc_thr=np.log2(1.5),\n",
    "                    n_cpu=5,\n",
    "                )\n",
    "                with open(\n",
    "                        outpath,'wb'\n",
    "                ) as f:\n",
    "                    pickle.dump(markers_dict, f, protocol=4)\n",
    "\n",
    "                for cell_type in markers_dict.keys():\n",
    "                    markers = markers_dict[cell_type].index.tolist()\n",
    "                    df = pd.DataFrame(markers)\n",
    "                    if len(df) == 0:\n",
    "                        print(f\"no DARs found for {cell_type} in {sample}\")\n",
    "                    else:\n",
    "                        df[[0,1]] = df[0].str.split(':',expand=True)\n",
    "                        df[[1,2]] = df[1].str.split('-',expand=True)\n",
    "                        df[3] = markers_dict[cell_type].index.tolist()\n",
    "                        df[3] = cell_type.replace(' ', '_')# + '_' + df[3].astype(str)\n",
    "                        score = markers_dict[cell_type]['Log2FC']\n",
    "                        score = score.reset_index(drop=True)\n",
    "                        df[4] = score\n",
    "                        df[5] = '.'\n",
    "                        pval = markers_dict[cell_type]['Adjusted_pval']\n",
    "                        pval = pval.reset_index(drop=True)\n",
    "                        df[6] = pval\n",
    "                        name = cell_type.replace(' ', '_')\n",
    "                        # name = name.replace('/', '-')\n",
    "                        if not os.path.exists(f'downstream_analysis/DARs/{sample}'):\n",
    "                            os.mkdir(f'downstream_analysis/DARs/{sample}')\n",
    "\n",
    "                        df.to_csv(f'downstream_analysis/DARs/{sample}/{sample}__{cell_type.replace(\" \", \"_\")}__DARs.bed', sep='\\t', header=False, index=False)\n",
    "                        df[0:2000].to_csv(f'downstream_analysis/DARs/{sample}/{sample}__{cell_type.replace(\" \", \"_\")}__DARs.TOP2k.bed', sep='\\t', header=False, index=False)\n",
    "\n",
    "        else:\n",
    "            print(f'{path} does not exist!')\n",
    "    else:\n",
    "        print(f\"downstream_analysis/DARs/{sample} already exists!\")"
   ]
  },
  {
   "cell_type": "markdown",
   "id": "4e3df809",
   "metadata": {
    "execution": {
     "iopub.execute_input": "2022-11-01T20:29:24.589534Z",
     "iopub.status.busy": "2022-11-01T20:29:24.584484Z",
     "iopub.status.idle": "2022-11-01T21:06:07.999870Z",
     "shell.execute_reply": "2022-11-01T21:06:07.998531Z",
     "shell.execute_reply.started": "2022-11-01T16:41:14.088627Z"
    },
    "papermill": {
     "duration": 2203.496966,
     "end_time": "2022-11-01T21:06:08.015258",
     "exception": false,
     "start_time": "2022-11-01T20:29:24.518292",
     "status": "completed"
    },
    "pycharm": {
     "name": "#%%\n"
    },
    "tags": []
   },
   "source": [
    "# visualise dars\n",
    "\n",
    "markers_path_dict = {x.split('/')[-1].split(f'__')[0]:x for x in sorted(glob.glob(f'downstream_analysis/DARs/*/*.pkl'))}\n",
    "markers_path_dict\n",
    "\n",
    "imputed_acc_obj_dict = {x.split('/')[-1].split(f'__')[0]:x for x in sorted(glob.glob(f'downstream_analysis/imputed_acc_objs/*.pkl'))}\n",
    "imputed_acc_obj_dict\n",
    "\n",
    "for sample in markers_path_dict.keys():\n",
    "    print(sample)\n",
    "    fig_path = f'plots_qc/{sample}_DAR_umap.png'\n",
    "    if not os.path.exists(fig_path):\n",
    "        with open(cistopic_obj_path_dict[sample], 'rb') as f:\n",
    "            cto = pickle.load(f)\n",
    "\n",
    "        with open(imputed_acc_obj_dict[sample], 'rb') as f:\n",
    "            imputed_acc_obj = pickle.load(f)\n",
    "\n",
    "        with open(markers_path_dict[sample], 'rb') as f:\n",
    "            markers_dict = pickle.load(f)\n",
    "\n",
    "        [ print(x + ': '+ str(len(markers_dict[x]))) for x in markers_dict.keys() ]\n",
    "        plot_imputed_features(\n",
    "            cto,\n",
    "            reduction_name='UMAP',\n",
    "            imputed_data=imputed_acc_obj,\n",
    "            features=[markers_dict[x].index.tolist()[0] for x in markers_dict.keys() if len(markers_dict[x])> 0],\n",
    "            scale=False,\n",
    "            num_columns=3,\n",
    "            selected_cells = cto.projections['cell']['UMAP'].index.tolist(),\n",
    "            save=fig_path\n",
    "        )\n",
    "    else:\n",
    "        print(f\"\\t{fig_path} already exists\")"
   ]
  },
  {
   "cell_type": "markdown",
   "id": "cdcf5704",
   "metadata": {},
   "source": [
    "# calculate DARs within cell types between techniques"
   ]
  },
  {
   "cell_type": "markdown",
   "id": "63af2aed",
   "metadata": {
    "execution": {
     "iopub.execute_input": "2022-11-17T18:07:22.774913Z",
     "iopub.status.busy": "2022-11-17T18:07:22.774085Z",
     "iopub.status.idle": "2022-11-17T18:07:22.783713Z",
     "shell.execute_reply": "2022-11-17T18:07:22.783044Z",
     "shell.execute_reply.started": "2022-11-17T18:07:22.774849Z"
    },
    "tags": []
   },
   "source": [
    "import seaborn as sns"
   ]
  },
  {
   "cell_type": "markdown",
   "id": "c312bc90",
   "metadata": {
    "execution": {
     "iopub.execute_input": "2022-11-17T18:10:36.974649Z",
     "iopub.status.busy": "2022-11-17T18:10:36.973928Z",
     "iopub.status.idle": "2022-11-17T18:10:37.762945Z",
     "shell.execute_reply": "2022-11-17T18:10:37.762419Z",
     "shell.execute_reply.started": "2022-11-17T18:10:36.974604Z"
    },
    "tags": []
   },
   "source": [
    "test_df = df.groupby('seurat_cell_type')['consensus_cell_type'].value_counts().unstack().fillna(0)\n",
    "test_df_normalized = test_df.div(test_df.sum(axis=1), axis=0)\n",
    "\n",
    "sns.heatmap(test_df_normalized)\n",
    "plt.tight_layout()\n",
    "plt.savefig('plots_pub/cell_origin_heatmap.png', dpi=600, facecolor='white')"
   ]
  },
  {
   "cell_type": "code",
   "execution_count": 10,
   "id": "4db41683",
   "metadata": {
    "execution": {
     "iopub.execute_input": "2022-12-22T13:29:04.546501Z",
     "iopub.status.busy": "2022-12-22T13:29:04.546285Z",
     "iopub.status.idle": "2022-12-22T13:29:24.878617Z",
     "shell.execute_reply": "2022-12-22T13:29:24.877656Z",
     "shell.execute_reply.started": "2022-12-22T13:29:04.546482Z"
    },
    "tags": []
   },
   "outputs": [
    {
     "data": {
      "application/javascript": [
       "\n",
       "            setTimeout(function() {\n",
       "                var nbb_cell_id = 10;\n",
       "                var nbb_unformatted_code = \"with open(\\\"cistopic_objects_master/master_all_1.FIXEDCELLS__cto.scrublet0-4.fmx.singlets.model_24topics.dimreduc.consensus.pkl\\\", 'rb') as f:\\n    cto = pickle.load(f)\";\n",
       "                var nbb_formatted_code = \"with open(\\n    \\\"cistopic_objects_master/master_all_1.FIXEDCELLS__cto.scrublet0-4.fmx.singlets.model_24topics.dimreduc.consensus.pkl\\\",\\n    \\\"rb\\\",\\n) as f:\\n    cto = pickle.load(f)\";\n",
       "                var nbb_cells = Jupyter.notebook.get_cells();\n",
       "                for (var i = 0; i < nbb_cells.length; ++i) {\n",
       "                    if (nbb_cells[i].input_prompt_number == nbb_cell_id) {\n",
       "                        if (nbb_cells[i].get_text() == nbb_unformatted_code) {\n",
       "                             nbb_cells[i].set_text(nbb_formatted_code);\n",
       "                        }\n",
       "                        break;\n",
       "                    }\n",
       "                }\n",
       "            }, 500);\n",
       "            "
      ],
      "text/plain": [
       "<IPython.core.display.Javascript object>"
      ]
     },
     "metadata": {},
     "output_type": "display_data"
    }
   ],
   "source": [
    "with open(\"cistopic_objects_master/master_all_1.FIXEDCELLS__cto.scrublet0-4.fmx.singlets.model_24topics.dimreduc.consensus.pkl\", 'rb') as f:\n",
    "    cto = pickle.load(f)"
   ]
  },
  {
   "cell_type": "code",
   "execution_count": 11,
   "id": "3cdaa130",
   "metadata": {
    "execution": {
     "iopub.execute_input": "2022-12-22T13:29:24.880274Z",
     "iopub.status.busy": "2022-12-22T13:29:24.879650Z",
     "iopub.status.idle": "2022-12-22T13:35:03.962463Z",
     "shell.execute_reply": "2022-12-22T13:35:03.961130Z",
     "shell.execute_reply.started": "2022-12-22T13:29:24.880254Z"
    },
    "tags": []
   },
   "outputs": [
    {
     "data": {
      "application/javascript": [
       "\n",
       "            setTimeout(function() {\n",
       "                var nbb_cell_id = 11;\n",
       "                var nbb_unformatted_code = \"with open(\\\"downstream_analysis/imputed_acc_objs/master_all_1.FIXEDCELLS__normalized_imputed_acc_obs.pkl\\\", 'rb') as f:\\n    normalized_imputed_acc_obj = pickle.load(f)\";\n",
       "                var nbb_formatted_code = \"with open(\\n    \\\"downstream_analysis/imputed_acc_objs/master_all_1.FIXEDCELLS__normalized_imputed_acc_obs.pkl\\\",\\n    \\\"rb\\\",\\n) as f:\\n    normalized_imputed_acc_obj = pickle.load(f)\";\n",
       "                var nbb_cells = Jupyter.notebook.get_cells();\n",
       "                for (var i = 0; i < nbb_cells.length; ++i) {\n",
       "                    if (nbb_cells[i].input_prompt_number == nbb_cell_id) {\n",
       "                        if (nbb_cells[i].get_text() == nbb_unformatted_code) {\n",
       "                             nbb_cells[i].set_text(nbb_formatted_code);\n",
       "                        }\n",
       "                        break;\n",
       "                    }\n",
       "                }\n",
       "            }, 500);\n",
       "            "
      ],
      "text/plain": [
       "<IPython.core.display.Javascript object>"
      ]
     },
     "metadata": {},
     "output_type": "display_data"
    }
   ],
   "source": [
    "with open(\"downstream_analysis/imputed_acc_objs/master_all_1.FIXEDCELLS__normalized_imputed_acc_obs.pkl\", 'rb') as f:\n",
    "    normalized_imputed_acc_obj = pickle.load(f)"
   ]
  },
  {
   "cell_type": "code",
   "execution_count": 12,
   "id": "6edb3ec9",
   "metadata": {
    "execution": {
     "iopub.execute_input": "2022-12-22T13:35:03.964367Z",
     "iopub.status.busy": "2022-12-22T13:35:03.964082Z",
     "iopub.status.idle": "2022-12-22T13:39:11.268447Z",
     "shell.execute_reply": "2022-12-22T13:39:11.267187Z",
     "shell.execute_reply.started": "2022-12-22T13:35:03.964342Z"
    },
    "tags": []
   },
   "outputs": [
    {
     "name": "stdout",
     "output_type": "stream",
     "text": [
      "find_highly_variable_features\n",
      "2022-12-22 14:35:03,967 cisTopic     INFO     Calculating mean\n",
      "2022-12-22 14:35:43,346 cisTopic     INFO     Calculating variance\n"
     ]
    },
    {
     "data": {
      "image/png": "[encoded data removed]",
      "text/plain": [
       "<Figure size 432x288 with 1 Axes>"
      ]
     },
     "metadata": {
      "needs_background": "light"
     },
     "output_type": "display_data"
    },
    {
     "name": "stdout",
     "output_type": "stream",
     "text": [
      "2022-12-22 14:39:11,238 cisTopic     INFO     Done!\n"
     ]
    },
    {
     "data": {
      "application/javascript": [
       "\n",
       "            setTimeout(function() {\n",
       "                var nbb_cell_id = 12;\n",
       "                var nbb_unformatted_code = \"print(\\\"find_highly_variable_features\\\")\\nvariable_regions = find_highly_variable_features(\\n    normalized_imputed_acc_obj,\\n    min_disp = 0.05,\\n    min_mean = 0.0125,\\n    max_mean = 3,\\n    max_disp = np.inf,\\n    n_bins=20,\\n    n_top_features=None,\\n    plot=True,\\n    save=f'plots_qc/{sample}__HVR.png'\\n)\";\n",
       "                var nbb_formatted_code = \"print(\\\"find_highly_variable_features\\\")\\nvariable_regions = find_highly_variable_features(\\n    normalized_imputed_acc_obj,\\n    min_disp=0.05,\\n    min_mean=0.0125,\\n    max_mean=3,\\n    max_disp=np.inf,\\n    n_bins=20,\\n    n_top_features=None,\\n    plot=True,\\n    save=f\\\"plots_qc/{sample}__HVR.png\\\",\\n)\";\n",
       "                var nbb_cells = Jupyter.notebook.get_cells();\n",
       "                for (var i = 0; i < nbb_cells.length; ++i) {\n",
       "                    if (nbb_cells[i].input_prompt_number == nbb_cell_id) {\n",
       "                        if (nbb_cells[i].get_text() == nbb_unformatted_code) {\n",
       "                             nbb_cells[i].set_text(nbb_formatted_code);\n",
       "                        }\n",
       "                        break;\n",
       "                    }\n",
       "                }\n",
       "            }, 500);\n",
       "            "
      ],
      "text/plain": [
       "<IPython.core.display.Javascript object>"
      ]
     },
     "metadata": {},
     "output_type": "display_data"
    }
   ],
   "source": [
    "print(\"find_highly_variable_features\")\n",
    "variable_regions = find_highly_variable_features(\n",
    "    normalized_imputed_acc_obj,\n",
    "    min_disp = 0.05,\n",
    "    min_mean = 0.0125,\n",
    "    max_mean = 3,\n",
    "    max_disp = np.inf,\n",
    "    n_bins=20,\n",
    "    n_top_features=None,\n",
    "    plot=True,\n",
    "    save=f'plots_qc/{sample}__HVR.png'\n",
    ")"
   ]
  },
  {
   "cell_type": "code",
   "execution_count": 13,
   "id": "b4a38cd1",
   "metadata": {
    "execution": {
     "iopub.execute_input": "2022-12-22T13:39:11.270345Z",
     "iopub.status.busy": "2022-12-22T13:39:11.270004Z",
     "iopub.status.idle": "2022-12-22T15:34:02.501026Z",
     "shell.execute_reply": "2022-12-22T15:34:02.499801Z",
     "shell.execute_reply.started": "2022-12-22T13:39:11.270304Z"
    },
    "tags": []
   },
   "outputs": [
    {
     "name": "stdout",
     "output_type": "stream",
     "text": [
      "Cytotoxic T cell\n",
      "\ts3atac\n",
      "\t10xmultiome\n",
      "consensus_cell_type__mega  contrast                       \n",
      "B cell                     ignore                             15339\n",
      "CD14+ monocyte             ignore                             38490\n",
      "CD16+ monocyte             ignore                              4402\n",
      "CD4+ T cell                ignore                             49336\n",
      "Cytotoxic T cell           background                         46563\n",
      "                           Cytotoxic_T_cell_in_10xmultiome     2740\n",
      "Dendritic cell             ignore                              2624\n",
      "Natural killer cell        ignore                              9733\n",
      "Name: contrast, dtype: int64\n"
     ]
    },
    {
     "name": "stderr",
     "output_type": "stream",
     "text": [
      "2022-12-22 14:40:34,562\tINFO services.py:1470 -- View the Ray dashboard at \u001b[1m\u001b[32mhttp://127.0.0.1:8265\u001b[39m\u001b[22m\n"
     ]
    },
    {
     "name": "stdout",
     "output_type": "stream",
     "text": [
      "\u001b[2m\u001b[36m(markers_ray pid=2059155)\u001b[0m 2022-12-22 14:40:56,086 cisTopic     INFO     Formatting data for Cytotoxic_T_cell_in_10xmultiome_VS_Cytotoxic_T_cell_in_othertechs\n"
     ]
    },
    {
     "name": "stderr",
     "output_type": "stream",
     "text": [
      "\u001b[2m\u001b[36m(markers_ray pid=2059155)\u001b[0m /opt/venv/lib/python3.8/site-packages/scipy/stats/_stats_py.py:8162: RuntimeWarning: invalid value encountered in double_scalars\n",
      "\u001b[2m\u001b[36m(markers_ray pid=2059155)\u001b[0m   z = (s - expected) / np.sqrt(n1*n2*(n1+n2+1)/12.0)\n"
     ]
    },
    {
     "name": "stdout",
     "output_type": "stream",
     "text": [
      "\u001b[2m\u001b[36m(markers_ray pid=2059155)\u001b[0m 2022-12-22 14:41:01,482 cisTopic     INFO     Computing p-value for Cytotoxic_T_cell_in_10xmultiome_VS_Cytotoxic_T_cell_in_othertechs\n",
      "\u001b[2m\u001b[36m(markers_ray pid=2059155)\u001b[0m 2022-12-22 14:41:39,773 cisTopic     INFO     Computing log2FC for Cytotoxic_T_cell_in_10xmultiome_VS_Cytotoxic_T_cell_in_othertechs\n"
     ]
    },
    {
     "name": "stderr",
     "output_type": "stream",
     "text": [
      "\u001b[2m\u001b[36m(markers_ray pid=2059155)\u001b[0m /opt/venv/lib/python3.8/site-packages/numpy/core/fromnumeric.py:3474: RuntimeWarning: Mean of empty slice.\n",
      "\u001b[2m\u001b[36m(markers_ray pid=2059155)\u001b[0m   return _methods._mean(a, axis=axis, dtype=dtype,\n",
      "\u001b[2m\u001b[36m(markers_ray pid=2059155)\u001b[0m /opt/venv/lib/python3.8/site-packages/numpy/core/_methods.py:181: RuntimeWarning: invalid value encountered in true_divide\n",
      "\u001b[2m\u001b[36m(markers_ray pid=2059155)\u001b[0m   ret = um.true_divide(\n"
     ]
    },
    {
     "name": "stdout",
     "output_type": "stream",
     "text": [
      "\u001b[2m\u001b[36m(markers_ray pid=2059155)\u001b[0m 2022-12-22 14:41:41,362 cisTopic     INFO     Cytotoxic_T_cell_in_10xmultiome_VS_Cytotoxic_T_cell_in_othertechs done!\n",
      "\t\tno DARs found for Cytotoxic_T_cell_in_10xmultiome_VS_Cytotoxic_T_cell_in_othertechs in master_all_1.FIXEDCELLS\n",
      "\t10xv11\n",
      "consensus_cell_type__mega  contrast                  \n",
      "B cell                     ignore                        15339\n",
      "CD14+ monocyte             ignore                        38490\n",
      "CD16+ monocyte             ignore                         4402\n",
      "CD4+ T cell                ignore                        49336\n",
      "Cytotoxic T cell           background                    44812\n",
      "                           Cytotoxic_T_cell_in_10xv11     4491\n",
      "Dendritic cell             ignore                         2624\n",
      "Natural killer cell        ignore                         9733\n",
      "Name: contrast, dtype: int64\n"
     ]
    },
    {
     "name": "stderr",
     "output_type": "stream",
     "text": [
      "2022-12-22 14:42:51,742\tINFO services.py:1470 -- View the Ray dashboard at \u001b[1m\u001b[32mhttp://127.0.0.1:8265\u001b[39m\u001b[22m\n"
     ]
    },
    {
     "name": "stdout",
     "output_type": "stream",
     "text": [
      "\u001b[2m\u001b[36m(markers_ray pid=2065613)\u001b[0m 2022-12-22 14:43:11,487 cisTopic     INFO     Formatting data for Cytotoxic_T_cell_in_10xv11_VS_Cytotoxic_T_cell_in_othertechs\n"
     ]
    },
    {
     "name": "stderr",
     "output_type": "stream",
     "text": [
      "\u001b[2m\u001b[36m(markers_ray pid=2065613)\u001b[0m /opt/venv/lib/python3.8/site-packages/scipy/stats/_stats_py.py:8162: RuntimeWarning: invalid value encountered in double_scalars\n",
      "\u001b[2m\u001b[36m(markers_ray pid=2065613)\u001b[0m   z = (s - expected) / np.sqrt(n1*n2*(n1+n2+1)/12.0)\n"
     ]
    },
    {
     "name": "stdout",
     "output_type": "stream",
     "text": [
      "\u001b[2m\u001b[36m(markers_ray pid=2065613)\u001b[0m 2022-12-22 14:43:20,383 cisTopic     INFO     Computing p-value for Cytotoxic_T_cell_in_10xv11_VS_Cytotoxic_T_cell_in_othertechs\n",
      "\u001b[2m\u001b[36m(markers_ray pid=2065613)\u001b[0m 2022-12-22 14:44:08,516 cisTopic     INFO     Computing log2FC for Cytotoxic_T_cell_in_10xv11_VS_Cytotoxic_T_cell_in_othertechs\n"
     ]
    },
    {
     "name": "stderr",
     "output_type": "stream",
     "text": [
      "\u001b[2m\u001b[36m(markers_ray pid=2065613)\u001b[0m /opt/venv/lib/python3.8/site-packages/numpy/core/fromnumeric.py:3474: RuntimeWarning: Mean of empty slice.\n",
      "\u001b[2m\u001b[36m(markers_ray pid=2065613)\u001b[0m   return _methods._mean(a, axis=axis, dtype=dtype,\n",
      "\u001b[2m\u001b[36m(markers_ray pid=2065613)\u001b[0m /opt/venv/lib/python3.8/site-packages/numpy/core/_methods.py:181: RuntimeWarning: invalid value encountered in true_divide\n",
      "\u001b[2m\u001b[36m(markers_ray pid=2065613)\u001b[0m   ret = um.true_divide(\n"
     ]
    },
    {
     "name": "stdout",
     "output_type": "stream",
     "text": [
      "\u001b[2m\u001b[36m(markers_ray pid=2065613)\u001b[0m 2022-12-22 14:44:10,161 cisTopic     INFO     Cytotoxic_T_cell_in_10xv11_VS_Cytotoxic_T_cell_in_othertechs done!\n",
      "\t\tno DARs found for Cytotoxic_T_cell_in_10xv11_VS_Cytotoxic_T_cell_in_othertechs in master_all_1.FIXEDCELLS\n",
      "\thydrop\n",
      "consensus_cell_type__mega  contrast                  \n",
      "B cell                     ignore                        15339\n",
      "CD14+ monocyte             ignore                        38490\n",
      "CD16+ monocyte             ignore                         4402\n",
      "CD4+ T cell                ignore                        49336\n",
      "Cytotoxic T cell           background                    39560\n",
      "                           Cytotoxic_T_cell_in_hydrop     9743\n",
      "Dendritic cell             ignore                         2624\n",
      "Natural killer cell        ignore                         9733\n",
      "Name: contrast, dtype: int64\n"
     ]
    },
    {
     "name": "stderr",
     "output_type": "stream",
     "text": [
      "2022-12-22 14:45:33,714\tINFO services.py:1470 -- View the Ray dashboard at \u001b[1m\u001b[32mhttp://127.0.0.1:8265\u001b[39m\u001b[22m\n"
     ]
    },
    {
     "name": "stdout",
     "output_type": "stream",
     "text": [
      "\u001b[2m\u001b[36m(markers_ray pid=2075614)\u001b[0m 2022-12-22 14:45:53,370 cisTopic     INFO     Formatting data for Cytotoxic_T_cell_in_hydrop_VS_Cytotoxic_T_cell_in_othertechs\n",
      "\u001b[2m\u001b[36m(markers_ray pid=2075614)\u001b[0m 2022-12-22 14:46:11,664 cisTopic     INFO     Computing p-value for Cytotoxic_T_cell_in_hydrop_VS_Cytotoxic_T_cell_in_othertechs\n"
     ]
    },
    {
     "name": "stderr",
     "output_type": "stream",
     "text": [
      "\u001b[2m\u001b[36m(markers_ray pid=2075614)\u001b[0m /opt/venv/lib/python3.8/site-packages/scipy/stats/_stats_py.py:8162: RuntimeWarning: invalid value encountered in double_scalars\n",
      "\u001b[2m\u001b[36m(markers_ray pid=2075614)\u001b[0m   z = (s - expected) / np.sqrt(n1*n2*(n1+n2+1)/12.0)\n"
     ]
    },
    {
     "name": "stdout",
     "output_type": "stream",
     "text": [
      "\u001b[2m\u001b[36m(markers_ray pid=2075614)\u001b[0m 2022-12-22 14:47:28,445 cisTopic     INFO     Computing log2FC for Cytotoxic_T_cell_in_hydrop_VS_Cytotoxic_T_cell_in_othertechs\n"
     ]
    },
    {
     "name": "stderr",
     "output_type": "stream",
     "text": [
      "\u001b[2m\u001b[36m(markers_ray pid=2075614)\u001b[0m /opt/venv/lib/python3.8/site-packages/numpy/core/fromnumeric.py:3474: RuntimeWarning: Mean of empty slice.\n",
      "\u001b[2m\u001b[36m(markers_ray pid=2075614)\u001b[0m   return _methods._mean(a, axis=axis, dtype=dtype,\n",
      "\u001b[2m\u001b[36m(markers_ray pid=2075614)\u001b[0m /opt/venv/lib/python3.8/site-packages/numpy/core/_methods.py:181: RuntimeWarning: invalid value encountered in true_divide\n",
      "\u001b[2m\u001b[36m(markers_ray pid=2075614)\u001b[0m   ret = um.true_divide(\n"
     ]
    },
    {
     "name": "stdout",
     "output_type": "stream",
     "text": [
      "\t\tno DARs found for Cytotoxic_T_cell_in_hydrop_VS_Cytotoxic_T_cell_in_othertechs in master_all_1.FIXEDCELLS\n",
      "\t10xv2\n",
      "consensus_cell_type__mega  contrast                 \n",
      "B cell                     ignore                       15339\n",
      "CD14+ monocyte             ignore                       38490\n",
      "CD16+ monocyte             ignore                        4402\n",
      "CD4+ T cell                ignore                       49336\n",
      "Cytotoxic T cell           background                   42795\n",
      "                           Cytotoxic_T_cell_in_10xv2     6508\n",
      "Dendritic cell             ignore                        2624\n",
      "Natural killer cell        ignore                        9733\n",
      "Name: contrast, dtype: int64\n"
     ]
    },
    {
     "name": "stderr",
     "output_type": "stream",
     "text": [
      "2022-12-22 14:48:41,600\tINFO services.py:1470 -- View the Ray dashboard at \u001b[1m\u001b[32mhttp://127.0.0.1:8265\u001b[39m\u001b[22m\n"
     ]
    },
    {
     "name": "stdout",
     "output_type": "stream",
     "text": [
      "\u001b[2m\u001b[36m(markers_ray pid=2084586)\u001b[0m 2022-12-22 14:49:01,025 cisTopic     INFO     Formatting data for Cytotoxic_T_cell_in_10xv2_VS_Cytotoxic_T_cell_in_othertechs\n"
     ]
    },
    {
     "name": "stderr",
     "output_type": "stream",
     "text": [
      "\u001b[2m\u001b[36m(markers_ray pid=2084586)\u001b[0m /opt/venv/lib/python3.8/site-packages/scipy/stats/_stats_py.py:8162: RuntimeWarning: invalid value encountered in double_scalars\n",
      "\u001b[2m\u001b[36m(markers_ray pid=2084586)\u001b[0m   z = (s - expected) / np.sqrt(n1*n2*(n1+n2+1)/12.0)\n"
     ]
    },
    {
     "name": "stdout",
     "output_type": "stream",
     "text": [
      "\u001b[2m\u001b[36m(markers_ray pid=2084586)\u001b[0m 2022-12-22 14:49:12,076 cisTopic     INFO     Computing p-value for Cytotoxic_T_cell_in_10xv2_VS_Cytotoxic_T_cell_in_othertechs\n",
      "\u001b[2m\u001b[36m(markers_ray pid=2084586)\u001b[0m 2022-12-22 14:50:09,250 cisTopic     INFO     Computing log2FC for Cytotoxic_T_cell_in_10xv2_VS_Cytotoxic_T_cell_in_othertechs\n"
     ]
    },
    {
     "name": "stderr",
     "output_type": "stream",
     "text": [
      "\u001b[2m\u001b[36m(markers_ray pid=2084586)\u001b[0m /opt/venv/lib/python3.8/site-packages/numpy/core/fromnumeric.py:3474: RuntimeWarning: Mean of empty slice.\n",
      "\u001b[2m\u001b[36m(markers_ray pid=2084586)\u001b[0m   return _methods._mean(a, axis=axis, dtype=dtype,\n",
      "\u001b[2m\u001b[36m(markers_ray pid=2084586)\u001b[0m /opt/venv/lib/python3.8/site-packages/numpy/core/_methods.py:181: RuntimeWarning: invalid value encountered in true_divide\n",
      "\u001b[2m\u001b[36m(markers_ray pid=2084586)\u001b[0m   ret = um.true_divide(\n"
     ]
    },
    {
     "name": "stdout",
     "output_type": "stream",
     "text": [
      "\t\tno DARs found for Cytotoxic_T_cell_in_10xv2_VS_Cytotoxic_T_cell_in_othertechs in master_all_1.FIXEDCELLS\n",
      "\tddseq\n",
      "consensus_cell_type__mega  contrast                 \n",
      "B cell                     ignore                       15339\n",
      "CD14+ monocyte             ignore                       38490\n",
      "CD16+ monocyte             ignore                        4402\n",
      "CD4+ T cell                ignore                       49336\n",
      "Cytotoxic T cell           background                   39011\n",
      "                           Cytotoxic_T_cell_in_ddseq    10292\n",
      "Dendritic cell             ignore                        2624\n",
      "Natural killer cell        ignore                        9733\n",
      "Name: contrast, dtype: int64\n"
     ]
    },
    {
     "name": "stderr",
     "output_type": "stream",
     "text": [
      "2022-12-22 14:51:28,888\tINFO services.py:1470 -- View the Ray dashboard at \u001b[1m\u001b[32mhttp://127.0.0.1:8265\u001b[39m\u001b[22m\n"
     ]
    },
    {
     "name": "stdout",
     "output_type": "stream",
     "text": [
      "\u001b[2m\u001b[36m(markers_ray pid=2089367)\u001b[0m 2022-12-22 14:51:48,503 cisTopic     INFO     Formatting data for Cytotoxic_T_cell_in_ddseq_VS_Cytotoxic_T_cell_in_othertechs\n"
     ]
    },
    {
     "name": "stderr",
     "output_type": "stream",
     "text": [
      "\u001b[2m\u001b[36m(markers_ray pid=2089367)\u001b[0m /opt/venv/lib/python3.8/site-packages/scipy/stats/_stats_py.py:8162: RuntimeWarning: invalid value encountered in double_scalars\n",
      "\u001b[2m\u001b[36m(markers_ray pid=2089367)\u001b[0m   z = (s - expected) / np.sqrt(n1*n2*(n1+n2+1)/12.0)\n"
     ]
    },
    {
     "name": "stdout",
     "output_type": "stream",
     "text": [
      "\u001b[2m\u001b[36m(markers_ray pid=2089367)\u001b[0m 2022-12-22 14:52:05,253 cisTopic     INFO     Computing p-value for Cytotoxic_T_cell_in_ddseq_VS_Cytotoxic_T_cell_in_othertechs\n",
      "\u001b[2m\u001b[36m(markers_ray pid=2089367)\u001b[0m 2022-12-22 14:53:20,628 cisTopic     INFO     Computing log2FC for Cytotoxic_T_cell_in_ddseq_VS_Cytotoxic_T_cell_in_othertechs\n"
     ]
    },
    {
     "name": "stderr",
     "output_type": "stream",
     "text": [
      "\u001b[2m\u001b[36m(markers_ray pid=2089367)\u001b[0m /opt/venv/lib/python3.8/site-packages/numpy/core/fromnumeric.py:3474: RuntimeWarning: Mean of empty slice.\n",
      "\u001b[2m\u001b[36m(markers_ray pid=2089367)\u001b[0m   return _methods._mean(a, axis=axis, dtype=dtype,\n",
      "\u001b[2m\u001b[36m(markers_ray pid=2089367)\u001b[0m /opt/venv/lib/python3.8/site-packages/numpy/core/_methods.py:181: RuntimeWarning: invalid value encountered in true_divide\n",
      "\u001b[2m\u001b[36m(markers_ray pid=2089367)\u001b[0m   ret = um.true_divide(\n"
     ]
    },
    {
     "name": "stdout",
     "output_type": "stream",
     "text": [
      "\u001b[2m\u001b[36m(markers_ray pid=2089367)\u001b[0m 2022-12-22 14:53:22,435 cisTopic     INFO     Cytotoxic_T_cell_in_ddseq_VS_Cytotoxic_T_cell_in_othertechs done!\n",
      "\t\tno DARs found for Cytotoxic_T_cell_in_ddseq_VS_Cytotoxic_T_cell_in_othertechs in master_all_1.FIXEDCELLS\n",
      "\tmtscatac\n",
      "consensus_cell_type__mega  contrast                    \n",
      "B cell                     ignore                          15339\n",
      "CD14+ monocyte             ignore                          38490\n",
      "CD16+ monocyte             ignore                           4402\n",
      "CD4+ T cell                ignore                          49336\n",
      "Cytotoxic T cell           background                      39469\n",
      "                           Cytotoxic_T_cell_in_mtscatac     9834\n",
      "Dendritic cell             ignore                           2624\n",
      "Natural killer cell        ignore                           9733\n",
      "Name: contrast, dtype: int64\n"
     ]
    },
    {
     "name": "stderr",
     "output_type": "stream",
     "text": [
      "2022-12-22 14:54:29,791\tINFO services.py:1470 -- View the Ray dashboard at \u001b[1m\u001b[32mhttp://127.0.0.1:8265\u001b[39m\u001b[22m\n"
     ]
    },
    {
     "name": "stdout",
     "output_type": "stream",
     "text": [
      "\u001b[2m\u001b[36m(markers_ray pid=2090870)\u001b[0m 2022-12-22 14:54:49,312 cisTopic     INFO     Formatting data for Cytotoxic_T_cell_in_mtscatac_VS_Cytotoxic_T_cell_in_othertechs\n",
      "\u001b[2m\u001b[36m(markers_ray pid=2090870)\u001b[0m 2022-12-22 14:55:04,145 cisTopic     INFO     Computing p-value for Cytotoxic_T_cell_in_mtscatac_VS_Cytotoxic_T_cell_in_othertechs\n"
     ]
    },
    {
     "name": "stderr",
     "output_type": "stream",
     "text": [
      "\u001b[2m\u001b[36m(markers_ray pid=2090870)\u001b[0m /opt/venv/lib/python3.8/site-packages/scipy/stats/_stats_py.py:8162: RuntimeWarning: invalid value encountered in double_scalars\n",
      "\u001b[2m\u001b[36m(markers_ray pid=2090870)\u001b[0m   z = (s - expected) / np.sqrt(n1*n2*(n1+n2+1)/12.0)\n"
     ]
    },
    {
     "name": "stdout",
     "output_type": "stream",
     "text": [
      "\u001b[2m\u001b[36m(markers_ray pid=2090870)\u001b[0m 2022-12-22 14:56:20,040 cisTopic     INFO     Computing log2FC for Cytotoxic_T_cell_in_mtscatac_VS_Cytotoxic_T_cell_in_othertechs\n"
     ]
    },
    {
     "name": "stderr",
     "output_type": "stream",
     "text": [
      "\u001b[2m\u001b[36m(markers_ray pid=2090870)\u001b[0m /opt/venv/lib/python3.8/site-packages/numpy/core/fromnumeric.py:3474: RuntimeWarning: Mean of empty slice.\n",
      "\u001b[2m\u001b[36m(markers_ray pid=2090870)\u001b[0m   return _methods._mean(a, axis=axis, dtype=dtype,\n",
      "\u001b[2m\u001b[36m(markers_ray pid=2090870)\u001b[0m /opt/venv/lib/python3.8/site-packages/numpy/core/_methods.py:181: RuntimeWarning: invalid value encountered in true_divide\n",
      "\u001b[2m\u001b[36m(markers_ray pid=2090870)\u001b[0m   ret = um.true_divide(\n"
     ]
    },
    {
     "name": "stdout",
     "output_type": "stream",
     "text": [
      "\t\tno DARs found for Cytotoxic_T_cell_in_mtscatac_VS_Cytotoxic_T_cell_in_othertechs in master_all_1.FIXEDCELLS\n",
      "\t10xv1\n",
      "consensus_cell_type__mega  contrast                 \n",
      "B cell                     ignore                       15339\n",
      "CD14+ monocyte             ignore                       38490\n",
      "CD16+ monocyte             ignore                        4402\n",
      "CD4+ T cell                ignore                       49336\n",
      "Cytotoxic T cell           background                   47728\n",
      "                           Cytotoxic_T_cell_in_10xv1     1575\n",
      "Dendritic cell             ignore                        2624\n",
      "Natural killer cell        ignore                        9733\n",
      "Name: contrast, dtype: int64\n"
     ]
    },
    {
     "name": "stderr",
     "output_type": "stream",
     "text": [
      "2022-12-22 14:57:32,772\tINFO services.py:1470 -- View the Ray dashboard at \u001b[1m\u001b[32mhttp://127.0.0.1:8265\u001b[39m\u001b[22m\n"
     ]
    },
    {
     "name": "stdout",
     "output_type": "stream",
     "text": [
      "\u001b[2m\u001b[36m(markers_ray pid=2201514)\u001b[0m 2022-12-22 14:57:52,525 cisTopic     INFO     Formatting data for Cytotoxic_T_cell_in_10xv1_VS_Cytotoxic_T_cell_in_othertechs\n"
     ]
    },
    {
     "name": "stderr",
     "output_type": "stream",
     "text": [
      "\u001b[2m\u001b[36m(markers_ray pid=2201514)\u001b[0m /opt/venv/lib/python3.8/site-packages/scipy/stats/_stats_py.py:8162: RuntimeWarning: invalid value encountered in double_scalars\n",
      "\u001b[2m\u001b[36m(markers_ray pid=2201514)\u001b[0m   z = (s - expected) / np.sqrt(n1*n2*(n1+n2+1)/12.0)\n"
     ]
    },
    {
     "name": "stdout",
     "output_type": "stream",
     "text": [
      "\u001b[2m\u001b[36m(markers_ray pid=2201514)\u001b[0m 2022-12-22 14:57:54,836 cisTopic     INFO     Computing p-value for Cytotoxic_T_cell_in_10xv1_VS_Cytotoxic_T_cell_in_othertechs\n"
     ]
    },
    {
     "name": "stderr",
     "output_type": "stream",
     "text": [
      "\u001b[2m\u001b[36m(markers_ray pid=2201514)\u001b[0m /opt/venv/lib/python3.8/site-packages/numpy/core/fromnumeric.py:3474: RuntimeWarning: Mean of empty slice.\n",
      "\u001b[2m\u001b[36m(markers_ray pid=2201514)\u001b[0m   return _methods._mean(a, axis=axis, dtype=dtype,\n",
      "\u001b[2m\u001b[36m(markers_ray pid=2201514)\u001b[0m /opt/venv/lib/python3.8/site-packages/numpy/core/_methods.py:181: RuntimeWarning: invalid value encountered in true_divide\n",
      "\u001b[2m\u001b[36m(markers_ray pid=2201514)\u001b[0m   ret = um.true_divide(\n"
     ]
    },
    {
     "name": "stdout",
     "output_type": "stream",
     "text": [
      "\u001b[2m\u001b[36m(markers_ray pid=2201514)\u001b[0m 2022-12-22 14:58:28,027 cisTopic     INFO     Computing log2FC for Cytotoxic_T_cell_in_10xv1_VS_Cytotoxic_T_cell_in_othertechs\n",
      "\t\tno DARs found for Cytotoxic_T_cell_in_10xv1_VS_Cytotoxic_T_cell_in_othertechs in master_all_1.FIXEDCELLS\n",
      "B cell\n",
      "\ts3atac\n",
      "\t10xmultiome\n",
      "consensus_cell_type__mega  contrast             \n",
      "B cell                     background               13560\n",
      "                           B_cell_in_10xmultiome     1779\n",
      "CD14+ monocyte             ignore                   38490\n",
      "CD16+ monocyte             ignore                    4402\n",
      "CD4+ T cell                ignore                   49336\n",
      "Cytotoxic T cell           ignore                   49303\n",
      "Dendritic cell             ignore                    2624\n",
      "Natural killer cell        ignore                    9733\n",
      "Name: contrast, dtype: int64\n"
     ]
    },
    {
     "name": "stderr",
     "output_type": "stream",
     "text": [
      "2022-12-22 14:59:42,455\tINFO services.py:1470 -- View the Ray dashboard at \u001b[1m\u001b[32mhttp://127.0.0.1:8265\u001b[39m\u001b[22m\n"
     ]
    },
    {
     "name": "stdout",
     "output_type": "stream",
     "text": [
      "\u001b[2m\u001b[36m(markers_ray pid=2202363)\u001b[0m 2022-12-22 15:00:01,966 cisTopic     INFO     Formatting data for B_cell_in_10xmultiome_VS_B_cell_in_othertechs\n",
      "\u001b[2m\u001b[36m(markers_ray pid=2202363)\u001b[0m 2022-12-22 15:00:07,131 cisTopic     INFO     Computing p-value for B_cell_in_10xmultiome_VS_B_cell_in_othertechs\n"
     ]
    },
    {
     "name": "stderr",
     "output_type": "stream",
     "text": [
      "\u001b[2m\u001b[36m(markers_ray pid=2202363)\u001b[0m /opt/venv/lib/python3.8/site-packages/scipy/stats/_stats_py.py:8162: RuntimeWarning: invalid value encountered in double_scalars\n",
      "\u001b[2m\u001b[36m(markers_ray pid=2202363)\u001b[0m   z = (s - expected) / np.sqrt(n1*n2*(n1+n2+1)/12.0)\n"
     ]
    },
    {
     "name": "stdout",
     "output_type": "stream",
     "text": [
      "\u001b[2m\u001b[36m(markers_ray pid=2202363)\u001b[0m 2022-12-22 15:00:40,933 cisTopic     INFO     Computing log2FC for B_cell_in_10xmultiome_VS_B_cell_in_othertechs\n"
     ]
    },
    {
     "name": "stderr",
     "output_type": "stream",
     "text": [
      "\u001b[2m\u001b[36m(markers_ray pid=2202363)\u001b[0m /opt/venv/lib/python3.8/site-packages/numpy/core/fromnumeric.py:3474: RuntimeWarning: Mean of empty slice.\n",
      "\u001b[2m\u001b[36m(markers_ray pid=2202363)\u001b[0m   return _methods._mean(a, axis=axis, dtype=dtype,\n",
      "\u001b[2m\u001b[36m(markers_ray pid=2202363)\u001b[0m /opt/venv/lib/python3.8/site-packages/numpy/core/_methods.py:181: RuntimeWarning: invalid value encountered in true_divide\n",
      "\u001b[2m\u001b[36m(markers_ray pid=2202363)\u001b[0m   ret = um.true_divide(\n"
     ]
    },
    {
     "name": "stdout",
     "output_type": "stream",
     "text": [
      "\t\tno DARs found for B_cell_in_10xmultiome_VS_B_cell_in_othertechs in master_all_1.FIXEDCELLS\n",
      "\t10xv11\n",
      "consensus_cell_type__mega  contrast        \n",
      "B cell                     background          13268\n",
      "                           B_cell_in_10xv11     2071\n",
      "CD14+ monocyte             ignore              38490\n",
      "CD16+ monocyte             ignore               4402\n",
      "CD4+ T cell                ignore              49336\n",
      "Cytotoxic T cell           ignore              49303\n",
      "Dendritic cell             ignore               2624\n",
      "Natural killer cell        ignore               9733\n",
      "Name: contrast, dtype: int64\n"
     ]
    },
    {
     "name": "stderr",
     "output_type": "stream",
     "text": [
      "2022-12-22 15:01:57,475\tINFO services.py:1470 -- View the Ray dashboard at \u001b[1m\u001b[32mhttp://127.0.0.1:8265\u001b[39m\u001b[22m\n"
     ]
    },
    {
     "name": "stdout",
     "output_type": "stream",
     "text": [
      "\u001b[2m\u001b[36m(markers_ray pid=2312398)\u001b[0m 2022-12-22 15:02:18,366 cisTopic     INFO     Formatting data for B_cell_in_10xv11_VS_B_cell_in_othertechs\n"
     ]
    },
    {
     "name": "stderr",
     "output_type": "stream",
     "text": [
      "\u001b[2m\u001b[36m(markers_ray pid=2312398)\u001b[0m /opt/venv/lib/python3.8/site-packages/scipy/stats/_stats_py.py:8162: RuntimeWarning: invalid value encountered in double_scalars\n",
      "\u001b[2m\u001b[36m(markers_ray pid=2312398)\u001b[0m   z = (s - expected) / np.sqrt(n1*n2*(n1+n2+1)/12.0)\n"
     ]
    },
    {
     "name": "stdout",
     "output_type": "stream",
     "text": [
      "\u001b[2m\u001b[36m(markers_ray pid=2312398)\u001b[0m 2022-12-22 15:02:24,628 cisTopic     INFO     Computing p-value for B_cell_in_10xv11_VS_B_cell_in_othertechs\n",
      "\u001b[2m\u001b[36m(markers_ray pid=2312398)\u001b[0m 2022-12-22 15:03:00,516 cisTopic     INFO     Computing log2FC for B_cell_in_10xv11_VS_B_cell_in_othertechs\n"
     ]
    },
    {
     "name": "stderr",
     "output_type": "stream",
     "text": [
      "\u001b[2m\u001b[36m(markers_ray pid=2312398)\u001b[0m /opt/venv/lib/python3.8/site-packages/numpy/core/fromnumeric.py:3474: RuntimeWarning: Mean of empty slice.\n",
      "\u001b[2m\u001b[36m(markers_ray pid=2312398)\u001b[0m   return _methods._mean(a, axis=axis, dtype=dtype,\n",
      "\u001b[2m\u001b[36m(markers_ray pid=2312398)\u001b[0m /opt/venv/lib/python3.8/site-packages/numpy/core/_methods.py:181: RuntimeWarning: invalid value encountered in true_divide\n",
      "\u001b[2m\u001b[36m(markers_ray pid=2312398)\u001b[0m   ret = um.true_divide(\n"
     ]
    },
    {
     "name": "stdout",
     "output_type": "stream",
     "text": [
      "\t\tno DARs found for B_cell_in_10xv11_VS_B_cell_in_othertechs in master_all_1.FIXEDCELLS\n",
      "\thydrop\n",
      "consensus_cell_type__mega  contrast        \n",
      "B cell                     background          13580\n",
      "                           B_cell_in_hydrop     1759\n",
      "CD14+ monocyte             ignore              38490\n",
      "CD16+ monocyte             ignore               4402\n",
      "CD4+ T cell                ignore              49336\n",
      "Cytotoxic T cell           ignore              49303\n",
      "Dendritic cell             ignore               2624\n",
      "Natural killer cell        ignore               9733\n",
      "Name: contrast, dtype: int64\n"
     ]
    },
    {
     "name": "stderr",
     "output_type": "stream",
     "text": [
      "2022-12-22 15:04:17,079\tINFO services.py:1470 -- View the Ray dashboard at \u001b[1m\u001b[32mhttp://127.0.0.1:8265\u001b[39m\u001b[22m\n"
     ]
    },
    {
     "name": "stdout",
     "output_type": "stream",
     "text": [
      "\u001b[2m\u001b[36m(markers_ray pid=2422483)\u001b[0m 2022-12-22 15:04:34,473 cisTopic     INFO     Formatting data for B_cell_in_hydrop_VS_B_cell_in_othertechs\n",
      "\u001b[2m\u001b[36m(markers_ray pid=2422483)\u001b[0m 2022-12-22 15:04:39,835 cisTopic     INFO     Computing p-value for B_cell_in_hydrop_VS_B_cell_in_othertechs\n"
     ]
    },
    {
     "name": "stderr",
     "output_type": "stream",
     "text": [
      "\u001b[2m\u001b[36m(markers_ray pid=2422483)\u001b[0m /opt/venv/lib/python3.8/site-packages/scipy/stats/_stats_py.py:8162: RuntimeWarning: invalid value encountered in double_scalars\n",
      "\u001b[2m\u001b[36m(markers_ray pid=2422483)\u001b[0m   z = (s - expected) / np.sqrt(n1*n2*(n1+n2+1)/12.0)\n"
     ]
    },
    {
     "name": "stdout",
     "output_type": "stream",
     "text": [
      "\u001b[2m\u001b[36m(markers_ray pid=2422483)\u001b[0m 2022-12-22 15:05:13,260 cisTopic     INFO     Computing log2FC for B_cell_in_hydrop_VS_B_cell_in_othertechs\n"
     ]
    },
    {
     "name": "stderr",
     "output_type": "stream",
     "text": [
      "\u001b[2m\u001b[36m(markers_ray pid=2422483)\u001b[0m /opt/venv/lib/python3.8/site-packages/numpy/core/fromnumeric.py:3474: RuntimeWarning: Mean of empty slice.\n",
      "\u001b[2m\u001b[36m(markers_ray pid=2422483)\u001b[0m   return _methods._mean(a, axis=axis, dtype=dtype,\n",
      "\u001b[2m\u001b[36m(markers_ray pid=2422483)\u001b[0m /opt/venv/lib/python3.8/site-packages/numpy/core/_methods.py:181: RuntimeWarning: invalid value encountered in true_divide\n",
      "\u001b[2m\u001b[36m(markers_ray pid=2422483)\u001b[0m   ret = um.true_divide(\n"
     ]
    },
    {
     "name": "stdout",
     "output_type": "stream",
     "text": [
      "\t\tno DARs found for B_cell_in_hydrop_VS_B_cell_in_othertechs in master_all_1.FIXEDCELLS\n",
      "\t10xv2\n",
      "consensus_cell_type__mega  contrast       \n",
      "B cell                     background         12588\n",
      "                           B_cell_in_10xv2     2751\n",
      "CD14+ monocyte             ignore             38490\n",
      "CD16+ monocyte             ignore              4402\n",
      "CD4+ T cell                ignore             49336\n",
      "Cytotoxic T cell           ignore             49303\n",
      "Dendritic cell             ignore              2624\n",
      "Natural killer cell        ignore              9733\n",
      "Name: contrast, dtype: int64\n"
     ]
    },
    {
     "name": "stderr",
     "output_type": "stream",
     "text": [
      "2022-12-22 15:06:31,534\tINFO services.py:1470 -- View the Ray dashboard at \u001b[1m\u001b[32mhttp://127.0.0.1:8265\u001b[39m\u001b[22m\n"
     ]
    },
    {
     "name": "stdout",
     "output_type": "stream",
     "text": [
      "\u001b[2m\u001b[36m(markers_ray pid=2423233)\u001b[0m 2022-12-22 15:06:52,444 cisTopic     INFO     Formatting data for B_cell_in_10xv2_VS_B_cell_in_othertechs\n"
     ]
    },
    {
     "name": "stderr",
     "output_type": "stream",
     "text": [
      "\u001b[2m\u001b[36m(markers_ray pid=2423233)\u001b[0m /opt/venv/lib/python3.8/site-packages/scipy/stats/_stats_py.py:8162: RuntimeWarning: invalid value encountered in double_scalars\n",
      "\u001b[2m\u001b[36m(markers_ray pid=2423233)\u001b[0m   z = (s - expected) / np.sqrt(n1*n2*(n1+n2+1)/12.0)\n"
     ]
    },
    {
     "name": "stdout",
     "output_type": "stream",
     "text": [
      "\u001b[2m\u001b[36m(markers_ray pid=2423233)\u001b[0m 2022-12-22 15:07:00,179 cisTopic     INFO     Computing p-value for B_cell_in_10xv2_VS_B_cell_in_othertechs\n",
      "\u001b[2m\u001b[36m(markers_ray pid=2423233)\u001b[0m 2022-12-22 15:07:39,224 cisTopic     INFO     Computing log2FC for B_cell_in_10xv2_VS_B_cell_in_othertechs\n"
     ]
    },
    {
     "name": "stderr",
     "output_type": "stream",
     "text": [
      "\u001b[2m\u001b[36m(markers_ray pid=2423233)\u001b[0m /opt/venv/lib/python3.8/site-packages/numpy/core/fromnumeric.py:3474: RuntimeWarning: Mean of empty slice.\n",
      "\u001b[2m\u001b[36m(markers_ray pid=2423233)\u001b[0m   return _methods._mean(a, axis=axis, dtype=dtype,\n",
      "\u001b[2m\u001b[36m(markers_ray pid=2423233)\u001b[0m /opt/venv/lib/python3.8/site-packages/numpy/core/_methods.py:181: RuntimeWarning: invalid value encountered in true_divide\n",
      "\u001b[2m\u001b[36m(markers_ray pid=2423233)\u001b[0m   ret = um.true_divide(\n"
     ]
    },
    {
     "name": "stdout",
     "output_type": "stream",
     "text": [
      "\u001b[2m\u001b[36m(markers_ray pid=2423233)\u001b[0m 2022-12-22 15:07:40,873 cisTopic     INFO     B_cell_in_10xv2_VS_B_cell_in_othertechs done!\n",
      "\t\tno DARs found for B_cell_in_10xv2_VS_B_cell_in_othertechs in master_all_1.FIXEDCELLS\n",
      "\tddseq\n",
      "consensus_cell_type__mega  contrast       \n",
      "B cell                     background         12076\n",
      "                           B_cell_in_ddseq     3263\n",
      "CD14+ monocyte             ignore             38490\n",
      "CD16+ monocyte             ignore              4402\n",
      "CD4+ T cell                ignore             49336\n",
      "Cytotoxic T cell           ignore             49303\n",
      "Dendritic cell             ignore              2624\n",
      "Natural killer cell        ignore              9733\n",
      "Name: contrast, dtype: int64\n"
     ]
    },
    {
     "name": "stderr",
     "output_type": "stream",
     "text": [
      "2022-12-22 15:08:49,703\tINFO services.py:1470 -- View the Ray dashboard at \u001b[1m\u001b[32mhttp://127.0.0.1:8265\u001b[39m\u001b[22m\n"
     ]
    },
    {
     "name": "stdout",
     "output_type": "stream",
     "text": [
      "\u001b[2m\u001b[36m(markers_ray pid=2423980)\u001b[0m 2022-12-22 15:09:08,029 cisTopic     INFO     Formatting data for B_cell_in_ddseq_VS_B_cell_in_othertechs\n",
      "\u001b[2m\u001b[36m(markers_ray pid=2423980)\u001b[0m 2022-12-22 15:09:17,026 cisTopic     INFO     Computing p-value for B_cell_in_ddseq_VS_B_cell_in_othertechs\n"
     ]
    },
    {
     "name": "stderr",
     "output_type": "stream",
     "text": [
      "\u001b[2m\u001b[36m(markers_ray pid=2423980)\u001b[0m /opt/venv/lib/python3.8/site-packages/scipy/stats/_stats_py.py:8162: RuntimeWarning: invalid value encountered in double_scalars\n",
      "\u001b[2m\u001b[36m(markers_ray pid=2423980)\u001b[0m   z = (s - expected) / np.sqrt(n1*n2*(n1+n2+1)/12.0)\n"
     ]
    },
    {
     "name": "stdout",
     "output_type": "stream",
     "text": [
      "\u001b[2m\u001b[36m(markers_ray pid=2423980)\u001b[0m 2022-12-22 15:09:57,352 cisTopic     INFO     Computing log2FC for B_cell_in_ddseq_VS_B_cell_in_othertechs\n"
     ]
    },
    {
     "name": "stderr",
     "output_type": "stream",
     "text": [
      "\u001b[2m\u001b[36m(markers_ray pid=2423980)\u001b[0m /opt/venv/lib/python3.8/site-packages/numpy/core/fromnumeric.py:3474: RuntimeWarning: Mean of empty slice.\n",
      "\u001b[2m\u001b[36m(markers_ray pid=2423980)\u001b[0m   return _methods._mean(a, axis=axis, dtype=dtype,\n",
      "\u001b[2m\u001b[36m(markers_ray pid=2423980)\u001b[0m /opt/venv/lib/python3.8/site-packages/numpy/core/_methods.py:181: RuntimeWarning: invalid value encountered in true_divide\n",
      "\u001b[2m\u001b[36m(markers_ray pid=2423980)\u001b[0m   ret = um.true_divide(\n"
     ]
    },
    {
     "name": "stdout",
     "output_type": "stream",
     "text": [
      "\t\tno DARs found for B_cell_in_ddseq_VS_B_cell_in_othertechs in master_all_1.FIXEDCELLS\n",
      "\tmtscatac\n",
      "consensus_cell_type__mega  contrast          \n",
      "B cell                     background            13185\n",
      "                           B_cell_in_mtscatac     2154\n",
      "CD14+ monocyte             ignore                38490\n",
      "CD16+ monocyte             ignore                 4402\n",
      "CD4+ T cell                ignore                49336\n",
      "Cytotoxic T cell           ignore                49303\n",
      "Dendritic cell             ignore                 2624\n",
      "Natural killer cell        ignore                 9733\n",
      "Name: contrast, dtype: int64\n"
     ]
    },
    {
     "name": "stderr",
     "output_type": "stream",
     "text": [
      "2022-12-22 15:11:08,957\tINFO services.py:1470 -- View the Ray dashboard at \u001b[1m\u001b[32mhttp://127.0.0.1:8265\u001b[39m\u001b[22m\n"
     ]
    },
    {
     "name": "stdout",
     "output_type": "stream",
     "text": [
      "\u001b[2m\u001b[36m(markers_ray pid=2424628)\u001b[0m 2022-12-22 15:11:26,980 cisTopic     INFO     Formatting data for B_cell_in_mtscatac_VS_B_cell_in_othertechs\n",
      "\u001b[2m\u001b[36m(markers_ray pid=2424628)\u001b[0m 2022-12-22 15:11:33,917 cisTopic     INFO     Computing p-value for B_cell_in_mtscatac_VS_B_cell_in_othertechs\n"
     ]
    },
    {
     "name": "stderr",
     "output_type": "stream",
     "text": [
      "\u001b[2m\u001b[36m(markers_ray pid=2424628)\u001b[0m /opt/venv/lib/python3.8/site-packages/scipy/stats/_stats_py.py:8162: RuntimeWarning: invalid value encountered in double_scalars\n",
      "\u001b[2m\u001b[36m(markers_ray pid=2424628)\u001b[0m   z = (s - expected) / np.sqrt(n1*n2*(n1+n2+1)/12.0)\n"
     ]
    },
    {
     "name": "stdout",
     "output_type": "stream",
     "text": [
      "\u001b[2m\u001b[36m(markers_ray pid=2424628)\u001b[0m 2022-12-22 15:12:09,534 cisTopic     INFO     Computing log2FC for B_cell_in_mtscatac_VS_B_cell_in_othertechs\n"
     ]
    },
    {
     "name": "stderr",
     "output_type": "stream",
     "text": [
      "\u001b[2m\u001b[36m(markers_ray pid=2424628)\u001b[0m /opt/venv/lib/python3.8/site-packages/numpy/core/fromnumeric.py:3474: RuntimeWarning: Mean of empty slice.\n",
      "\u001b[2m\u001b[36m(markers_ray pid=2424628)\u001b[0m   return _methods._mean(a, axis=axis, dtype=dtype,\n",
      "\u001b[2m\u001b[36m(markers_ray pid=2424628)\u001b[0m /opt/venv/lib/python3.8/site-packages/numpy/core/_methods.py:181: RuntimeWarning: invalid value encountered in true_divide\n",
      "\u001b[2m\u001b[36m(markers_ray pid=2424628)\u001b[0m   ret = um.true_divide(\n"
     ]
    },
    {
     "name": "stdout",
     "output_type": "stream",
     "text": [
      "\u001b[2m\u001b[36m(markers_ray pid=2424628)\u001b[0m 2022-12-22 15:12:11,159 cisTopic     INFO     B_cell_in_mtscatac_VS_B_cell_in_othertechs done!\n",
      "\t\tno DARs found for B_cell_in_mtscatac_VS_B_cell_in_othertechs in master_all_1.FIXEDCELLS\n",
      "\t10xv1\n",
      "consensus_cell_type__mega  contrast       \n",
      "B cell                     background         14328\n",
      "                           B_cell_in_10xv1     1011\n",
      "CD14+ monocyte             ignore             38490\n",
      "CD16+ monocyte             ignore              4402\n",
      "CD4+ T cell                ignore             49336\n",
      "Cytotoxic T cell           ignore             49303\n",
      "Dendritic cell             ignore              2624\n",
      "Natural killer cell        ignore              9733\n",
      "Name: contrast, dtype: int64\n"
     ]
    },
    {
     "name": "stderr",
     "output_type": "stream",
     "text": [
      "2022-12-22 15:13:25,740\tINFO services.py:1470 -- View the Ray dashboard at \u001b[1m\u001b[32mhttp://127.0.0.1:8265\u001b[39m\u001b[22m\n"
     ]
    },
    {
     "name": "stdout",
     "output_type": "stream",
     "text": [
      "\u001b[2m\u001b[36m(markers_ray pid=2425594)\u001b[0m 2022-12-22 15:13:42,910 cisTopic     INFO     Formatting data for B_cell_in_10xv1_VS_B_cell_in_othertechs\n",
      "\u001b[2m\u001b[36m(markers_ray pid=2425594)\u001b[0m 2022-12-22 15:13:45,542 cisTopic     INFO     Computing p-value for B_cell_in_10xv1_VS_B_cell_in_othertechs\n"
     ]
    },
    {
     "name": "stderr",
     "output_type": "stream",
     "text": [
      "\u001b[2m\u001b[36m(markers_ray pid=2425594)\u001b[0m /opt/venv/lib/python3.8/site-packages/scipy/stats/_stats_py.py:8162: RuntimeWarning: invalid value encountered in double_scalars\n",
      "\u001b[2m\u001b[36m(markers_ray pid=2425594)\u001b[0m   z = (s - expected) / np.sqrt(n1*n2*(n1+n2+1)/12.0)\n"
     ]
    },
    {
     "name": "stdout",
     "output_type": "stream",
     "text": [
      "\u001b[2m\u001b[36m(markers_ray pid=2425594)\u001b[0m 2022-12-22 15:14:15,236 cisTopic     INFO     Computing log2FC for B_cell_in_10xv1_VS_B_cell_in_othertechs\n"
     ]
    },
    {
     "name": "stderr",
     "output_type": "stream",
     "text": [
      "\u001b[2m\u001b[36m(markers_ray pid=2425594)\u001b[0m /opt/venv/lib/python3.8/site-packages/numpy/core/fromnumeric.py:3474: RuntimeWarning: Mean of empty slice.\n",
      "\u001b[2m\u001b[36m(markers_ray pid=2425594)\u001b[0m   return _methods._mean(a, axis=axis, dtype=dtype,\n",
      "\u001b[2m\u001b[36m(markers_ray pid=2425594)\u001b[0m /opt/venv/lib/python3.8/site-packages/numpy/core/_methods.py:181: RuntimeWarning: invalid value encountered in true_divide\n",
      "\u001b[2m\u001b[36m(markers_ray pid=2425594)\u001b[0m   ret = um.true_divide(\n"
     ]
    },
    {
     "name": "stdout",
     "output_type": "stream",
     "text": [
      "\t\tno DARs found for B_cell_in_10xv1_VS_B_cell_in_othertechs in master_all_1.FIXEDCELLS\n",
      "CD14+ monocyte\n",
      "\ts3atac\n",
      "\t10xmultiome\n",
      "consensus_cell_type__mega  contrast                     \n",
      "B cell                     ignore                           15339\n",
      "CD14+ monocyte             background                       34854\n",
      "                           CD14+_monocyte_in_10xmultiome     3636\n",
      "CD16+ monocyte             ignore                            4402\n",
      "CD4+ T cell                ignore                           49336\n",
      "Cytotoxic T cell           ignore                           49303\n",
      "Dendritic cell             ignore                            2624\n",
      "Natural killer cell        ignore                            9733\n",
      "Name: contrast, dtype: int64\n"
     ]
    },
    {
     "name": "stderr",
     "output_type": "stream",
     "text": [
      "2022-12-22 15:15:29,463\tINFO services.py:1470 -- View the Ray dashboard at \u001b[1m\u001b[32mhttp://127.0.0.1:8265\u001b[39m\u001b[22m\n"
     ]
    },
    {
     "name": "stdout",
     "output_type": "stream",
     "text": [
      "\u001b[2m\u001b[36m(markers_ray pid=2426509)\u001b[0m 2022-12-22 15:15:47,726 cisTopic     INFO     Formatting data for CD14+_monocyte_in_10xmultiome_VS_CD14+_monocyte_in_othertechs\n",
      "\u001b[2m\u001b[36m(markers_ray pid=2426509)\u001b[0m 2022-12-22 15:15:56,035 cisTopic     INFO     Computing p-value for CD14+_monocyte_in_10xmultiome_VS_CD14+_monocyte_in_othertechs\n"
     ]
    },
    {
     "name": "stderr",
     "output_type": "stream",
     "text": [
      "\u001b[2m\u001b[36m(markers_ray pid=2426509)\u001b[0m /opt/venv/lib/python3.8/site-packages/scipy/stats/_stats_py.py:8162: RuntimeWarning: invalid value encountered in double_scalars\n",
      "\u001b[2m\u001b[36m(markers_ray pid=2426509)\u001b[0m   z = (s - expected) / np.sqrt(n1*n2*(n1+n2+1)/12.0)\n"
     ]
    },
    {
     "name": "stdout",
     "output_type": "stream",
     "text": [
      "\u001b[2m\u001b[36m(markers_ray pid=2426509)\u001b[0m 2022-12-22 15:16:40,648 cisTopic     INFO     Computing log2FC for CD14+_monocyte_in_10xmultiome_VS_CD14+_monocyte_in_othertechs\n"
     ]
    },
    {
     "name": "stderr",
     "output_type": "stream",
     "text": [
      "\u001b[2m\u001b[36m(markers_ray pid=2426509)\u001b[0m /opt/venv/lib/python3.8/site-packages/numpy/core/fromnumeric.py:3474: RuntimeWarning: Mean of empty slice.\n",
      "\u001b[2m\u001b[36m(markers_ray pid=2426509)\u001b[0m   return _methods._mean(a, axis=axis, dtype=dtype,\n",
      "\u001b[2m\u001b[36m(markers_ray pid=2426509)\u001b[0m /opt/venv/lib/python3.8/site-packages/numpy/core/_methods.py:181: RuntimeWarning: invalid value encountered in true_divide\n",
      "\u001b[2m\u001b[36m(markers_ray pid=2426509)\u001b[0m   ret = um.true_divide(\n"
     ]
    },
    {
     "name": "stdout",
     "output_type": "stream",
     "text": [
      "\u001b[2m\u001b[36m(markers_ray pid=2426509)\u001b[0m 2022-12-22 15:16:42,334 cisTopic     INFO     CD14+_monocyte_in_10xmultiome_VS_CD14+_monocyte_in_othertechs done!\n",
      "\t\tno DARs found for CD14+_monocyte_in_10xmultiome_VS_CD14+_monocyte_in_othertechs in master_all_1.FIXEDCELLS\n",
      "\t10xv11\n",
      "consensus_cell_type__mega  contrast                \n",
      "B cell                     ignore                      15339\n",
      "CD14+ monocyte             background                  32616\n",
      "                           CD14+_monocyte_in_10xv11     5874\n",
      "CD16+ monocyte             ignore                       4402\n",
      "CD4+ T cell                ignore                      49336\n",
      "Cytotoxic T cell           ignore                      49303\n",
      "Dendritic cell             ignore                       2624\n",
      "Natural killer cell        ignore                       9733\n",
      "Name: contrast, dtype: int64\n"
     ]
    },
    {
     "name": "stderr",
     "output_type": "stream",
     "text": [
      "2022-12-22 15:17:47,668\tINFO services.py:1470 -- View the Ray dashboard at \u001b[1m\u001b[32mhttp://127.0.0.1:8265\u001b[39m\u001b[22m\n"
     ]
    },
    {
     "name": "stdout",
     "output_type": "stream",
     "text": [
      "\u001b[2m\u001b[36m(markers_ray pid=2427222)\u001b[0m 2022-12-22 15:18:06,893 cisTopic     INFO     Formatting data for CD14+_monocyte_in_10xv11_VS_CD14+_monocyte_in_othertechs\n",
      "\u001b[2m\u001b[36m(markers_ray pid=2427222)\u001b[0m 2022-12-22 15:18:17,273 cisTopic     INFO     Computing p-value for CD14+_monocyte_in_10xv11_VS_CD14+_monocyte_in_othertechs\n"
     ]
    },
    {
     "name": "stderr",
     "output_type": "stream",
     "text": [
      "\u001b[2m\u001b[36m(markers_ray pid=2427222)\u001b[0m /opt/venv/lib/python3.8/site-packages/scipy/stats/_stats_py.py:8162: RuntimeWarning: invalid value encountered in double_scalars\n",
      "\u001b[2m\u001b[36m(markers_ray pid=2427222)\u001b[0m   z = (s - expected) / np.sqrt(n1*n2*(n1+n2+1)/12.0)\n"
     ]
    },
    {
     "name": "stdout",
     "output_type": "stream",
     "text": [
      "\u001b[2m\u001b[36m(markers_ray pid=2427222)\u001b[0m 2022-12-22 15:19:15,936 cisTopic     INFO     Computing log2FC for CD14+_monocyte_in_10xv11_VS_CD14+_monocyte_in_othertechs\n"
     ]
    },
    {
     "name": "stderr",
     "output_type": "stream",
     "text": [
      "\u001b[2m\u001b[36m(markers_ray pid=2427222)\u001b[0m /opt/venv/lib/python3.8/site-packages/numpy/core/fromnumeric.py:3474: RuntimeWarning: Mean of empty slice.\n",
      "\u001b[2m\u001b[36m(markers_ray pid=2427222)\u001b[0m   return _methods._mean(a, axis=axis, dtype=dtype,\n",
      "\u001b[2m\u001b[36m(markers_ray pid=2427222)\u001b[0m /opt/venv/lib/python3.8/site-packages/numpy/core/_methods.py:181: RuntimeWarning: invalid value encountered in true_divide\n",
      "\u001b[2m\u001b[36m(markers_ray pid=2427222)\u001b[0m   ret = um.true_divide(\n"
     ]
    },
    {
     "name": "stdout",
     "output_type": "stream",
     "text": [
      "\t\tno DARs found for CD14+_monocyte_in_10xv11_VS_CD14+_monocyte_in_othertechs in master_all_1.FIXEDCELLS\n",
      "\thydrop\n",
      "consensus_cell_type__mega  contrast                \n",
      "B cell                     ignore                      15339\n",
      "CD14+ monocyte             background                  31210\n",
      "                           CD14+_monocyte_in_hydrop     7280\n",
      "CD16+ monocyte             ignore                       4402\n",
      "CD4+ T cell                ignore                      49336\n",
      "Cytotoxic T cell           ignore                      49303\n",
      "Dendritic cell             ignore                       2624\n",
      "Natural killer cell        ignore                       9733\n",
      "Name: contrast, dtype: int64\n"
     ]
    },
    {
     "name": "stderr",
     "output_type": "stream",
     "text": [
      "2022-12-22 15:20:23,644\tINFO services.py:1470 -- View the Ray dashboard at \u001b[1m\u001b[32mhttp://127.0.0.1:8265\u001b[39m\u001b[22m\n"
     ]
    },
    {
     "name": "stdout",
     "output_type": "stream",
     "text": [
      "\u001b[2m\u001b[36m(markers_ray pid=2428051)\u001b[0m 2022-12-22 15:20:43,091 cisTopic     INFO     Formatting data for CD14+_monocyte_in_hydrop_VS_CD14+_monocyte_in_othertechs\n",
      "\u001b[2m\u001b[36m(markers_ray pid=2428051)\u001b[0m 2022-12-22 15:20:54,353 cisTopic     INFO     Computing p-value for CD14+_monocyte_in_hydrop_VS_CD14+_monocyte_in_othertechs\n"
     ]
    },
    {
     "name": "stderr",
     "output_type": "stream",
     "text": [
      "\u001b[2m\u001b[36m(markers_ray pid=2428051)\u001b[0m /opt/venv/lib/python3.8/site-packages/scipy/stats/_stats_py.py:8162: RuntimeWarning: invalid value encountered in double_scalars\n",
      "\u001b[2m\u001b[36m(markers_ray pid=2428051)\u001b[0m   z = (s - expected) / np.sqrt(n1*n2*(n1+n2+1)/12.0)\n"
     ]
    },
    {
     "name": "stdout",
     "output_type": "stream",
     "text": [
      "\u001b[2m\u001b[36m(markers_ray pid=2428051)\u001b[0m 2022-12-22 15:22:02,786 cisTopic     INFO     Computing log2FC for CD14+_monocyte_in_hydrop_VS_CD14+_monocyte_in_othertechs\n"
     ]
    },
    {
     "name": "stderr",
     "output_type": "stream",
     "text": [
      "\u001b[2m\u001b[36m(markers_ray pid=2428051)\u001b[0m /opt/venv/lib/python3.8/site-packages/numpy/core/fromnumeric.py:3474: RuntimeWarning: Mean of empty slice.\n",
      "\u001b[2m\u001b[36m(markers_ray pid=2428051)\u001b[0m   return _methods._mean(a, axis=axis, dtype=dtype,\n",
      "\u001b[2m\u001b[36m(markers_ray pid=2428051)\u001b[0m /opt/venv/lib/python3.8/site-packages/numpy/core/_methods.py:181: RuntimeWarning: invalid value encountered in true_divide\n",
      "\u001b[2m\u001b[36m(markers_ray pid=2428051)\u001b[0m   ret = um.true_divide(\n"
     ]
    },
    {
     "name": "stdout",
     "output_type": "stream",
     "text": [
      "\t\tno DARs found for CD14+_monocyte_in_hydrop_VS_CD14+_monocyte_in_othertechs in master_all_1.FIXEDCELLS\n",
      "\t10xv2\n",
      "consensus_cell_type__mega  contrast               \n",
      "B cell                     ignore                     15339\n",
      "CD14+ monocyte             background                 30414\n",
      "                           CD14+_monocyte_in_10xv2     8076\n",
      "CD16+ monocyte             ignore                      4402\n",
      "CD4+ T cell                ignore                     49336\n",
      "Cytotoxic T cell           ignore                     49303\n",
      "Dendritic cell             ignore                      2624\n",
      "Natural killer cell        ignore                      9733\n",
      "Name: contrast, dtype: int64\n"
     ]
    },
    {
     "name": "stderr",
     "output_type": "stream",
     "text": [
      "2022-12-22 15:23:10,018\tINFO services.py:1470 -- View the Ray dashboard at \u001b[1m\u001b[32mhttp://127.0.0.1:8265\u001b[39m\u001b[22m\n"
     ]
    },
    {
     "name": "stdout",
     "output_type": "stream",
     "text": [
      "\u001b[2m\u001b[36m(markers_ray pid=2428848)\u001b[0m 2022-12-22 15:23:29,575 cisTopic     INFO     Formatting data for CD14+_monocyte_in_10xv2_VS_CD14+_monocyte_in_othertechs\n",
      "\u001b[2m\u001b[36m(markers_ray pid=2428848)\u001b[0m 2022-12-22 15:23:42,827 cisTopic     INFO     Computing p-value for CD14+_monocyte_in_10xv2_VS_CD14+_monocyte_in_othertechs\n"
     ]
    },
    {
     "name": "stderr",
     "output_type": "stream",
     "text": [
      "\u001b[2m\u001b[36m(markers_ray pid=2428848)\u001b[0m /opt/venv/lib/python3.8/site-packages/scipy/stats/_stats_py.py:8162: RuntimeWarning: invalid value encountered in double_scalars\n",
      "\u001b[2m\u001b[36m(markers_ray pid=2428848)\u001b[0m   z = (s - expected) / np.sqrt(n1*n2*(n1+n2+1)/12.0)\n"
     ]
    },
    {
     "name": "stdout",
     "output_type": "stream",
     "text": [
      "\u001b[2m\u001b[36m(markers_ray pid=2428848)\u001b[0m 2022-12-22 15:24:53,782 cisTopic     INFO     Computing log2FC for CD14+_monocyte_in_10xv2_VS_CD14+_monocyte_in_othertechs\n"
     ]
    },
    {
     "name": "stderr",
     "output_type": "stream",
     "text": [
      "\u001b[2m\u001b[36m(markers_ray pid=2428848)\u001b[0m /opt/venv/lib/python3.8/site-packages/numpy/core/fromnumeric.py:3474: RuntimeWarning: Mean of empty slice.\n",
      "\u001b[2m\u001b[36m(markers_ray pid=2428848)\u001b[0m   return _methods._mean(a, axis=axis, dtype=dtype,\n",
      "\u001b[2m\u001b[36m(markers_ray pid=2428848)\u001b[0m /opt/venv/lib/python3.8/site-packages/numpy/core/_methods.py:181: RuntimeWarning: invalid value encountered in true_divide\n",
      "\u001b[2m\u001b[36m(markers_ray pid=2428848)\u001b[0m   ret = um.true_divide(\n"
     ]
    },
    {
     "name": "stdout",
     "output_type": "stream",
     "text": [
      "\t\tno DARs found for CD14+_monocyte_in_10xv2_VS_CD14+_monocyte_in_othertechs in master_all_1.FIXEDCELLS\n",
      "\tddseq\n",
      "consensus_cell_type__mega  contrast               \n",
      "B cell                     ignore                     15339\n",
      "CD14+ monocyte             background                 31660\n",
      "                           CD14+_monocyte_in_ddseq     6830\n",
      "CD16+ monocyte             ignore                      4402\n",
      "CD4+ T cell                ignore                     49336\n",
      "Cytotoxic T cell           ignore                     49303\n",
      "Dendritic cell             ignore                      2624\n",
      "Natural killer cell        ignore                      9733\n",
      "Name: contrast, dtype: int64\n"
     ]
    },
    {
     "name": "stderr",
     "output_type": "stream",
     "text": [
      "2022-12-22 15:26:11,570\tINFO services.py:1470 -- View the Ray dashboard at \u001b[1m\u001b[32mhttp://127.0.0.1:8265\u001b[39m\u001b[22m\n"
     ]
    },
    {
     "name": "stdout",
     "output_type": "stream",
     "text": [
      "\u001b[2m\u001b[36m(markers_ray pid=2429586)\u001b[0m 2022-12-22 15:26:31,245 cisTopic     INFO     Formatting data for CD14+_monocyte_in_ddseq_VS_CD14+_monocyte_in_othertechs\n",
      "\u001b[2m\u001b[36m(markers_ray pid=2429586)\u001b[0m 2022-12-22 15:26:45,545 cisTopic     INFO     Computing p-value for CD14+_monocyte_in_ddseq_VS_CD14+_monocyte_in_othertechs\n"
     ]
    },
    {
     "name": "stderr",
     "output_type": "stream",
     "text": [
      "\u001b[2m\u001b[36m(markers_ray pid=2429586)\u001b[0m /opt/venv/lib/python3.8/site-packages/scipy/stats/_stats_py.py:8162: RuntimeWarning: invalid value encountered in double_scalars\n",
      "\u001b[2m\u001b[36m(markers_ray pid=2429586)\u001b[0m   z = (s - expected) / np.sqrt(n1*n2*(n1+n2+1)/12.0)\n"
     ]
    },
    {
     "name": "stdout",
     "output_type": "stream",
     "text": [
      "\u001b[2m\u001b[36m(markers_ray pid=2429586)\u001b[0m 2022-12-22 15:27:47,923 cisTopic     INFO     Computing log2FC for CD14+_monocyte_in_ddseq_VS_CD14+_monocyte_in_othertechs\n"
     ]
    },
    {
     "name": "stderr",
     "output_type": "stream",
     "text": [
      "\u001b[2m\u001b[36m(markers_ray pid=2429586)\u001b[0m /opt/venv/lib/python3.8/site-packages/numpy/core/fromnumeric.py:3474: RuntimeWarning: Mean of empty slice.\n",
      "\u001b[2m\u001b[36m(markers_ray pid=2429586)\u001b[0m   return _methods._mean(a, axis=axis, dtype=dtype,\n",
      "\u001b[2m\u001b[36m(markers_ray pid=2429586)\u001b[0m /opt/venv/lib/python3.8/site-packages/numpy/core/_methods.py:181: RuntimeWarning: invalid value encountered in true_divide\n",
      "\u001b[2m\u001b[36m(markers_ray pid=2429586)\u001b[0m   ret = um.true_divide(\n"
     ]
    },
    {
     "name": "stdout",
     "output_type": "stream",
     "text": [
      "\t\tno DARs found for CD14+_monocyte_in_ddseq_VS_CD14+_monocyte_in_othertechs in master_all_1.FIXEDCELLS\n",
      "\tmtscatac\n",
      "consensus_cell_type__mega  contrast                  \n",
      "B cell                     ignore                        15339\n",
      "CD14+ monocyte             background                    34779\n",
      "                           CD14+_monocyte_in_mtscatac     3711\n",
      "CD16+ monocyte             ignore                         4402\n",
      "CD4+ T cell                ignore                        49336\n",
      "Cytotoxic T cell           ignore                        49303\n",
      "Dendritic cell             ignore                         2624\n",
      "Natural killer cell        ignore                         9733\n",
      "Name: contrast, dtype: int64\n"
     ]
    },
    {
     "name": "stderr",
     "output_type": "stream",
     "text": [
      "2022-12-22 15:28:56,175\tINFO services.py:1470 -- View the Ray dashboard at \u001b[1m\u001b[32mhttp://127.0.0.1:8265\u001b[39m\u001b[22m\n"
     ]
    },
    {
     "name": "stdout",
     "output_type": "stream",
     "text": [
      "\u001b[2m\u001b[36m(markers_ray pid=2430375)\u001b[0m 2022-12-22 15:29:15,740 cisTopic     INFO     Formatting data for CD14+_monocyte_in_mtscatac_VS_CD14+_monocyte_in_othertechs\n"
     ]
    },
    {
     "name": "stderr",
     "output_type": "stream",
     "text": [
      "\u001b[2m\u001b[36m(markers_ray pid=2430375)\u001b[0m /opt/venv/lib/python3.8/site-packages/scipy/stats/_stats_py.py:8162: RuntimeWarning: invalid value encountered in double_scalars\n",
      "\u001b[2m\u001b[36m(markers_ray pid=2430375)\u001b[0m   z = (s - expected) / np.sqrt(n1*n2*(n1+n2+1)/12.0)\n"
     ]
    },
    {
     "name": "stdout",
     "output_type": "stream",
     "text": [
      "\u001b[2m\u001b[36m(markers_ray pid=2430375)\u001b[0m 2022-12-22 15:29:21,351 cisTopic     INFO     Computing p-value for CD14+_monocyte_in_mtscatac_VS_CD14+_monocyte_in_othertechs\n",
      "\u001b[2m\u001b[36m(markers_ray pid=2430375)\u001b[0m 2022-12-22 15:30:07,231 cisTopic     INFO     Computing log2FC for CD14+_monocyte_in_mtscatac_VS_CD14+_monocyte_in_othertechs\n"
     ]
    },
    {
     "name": "stderr",
     "output_type": "stream",
     "text": [
      "\u001b[2m\u001b[36m(markers_ray pid=2430375)\u001b[0m /opt/venv/lib/python3.8/site-packages/numpy/core/fromnumeric.py:3474: RuntimeWarning: Mean of empty slice.\n",
      "\u001b[2m\u001b[36m(markers_ray pid=2430375)\u001b[0m   return _methods._mean(a, axis=axis, dtype=dtype,\n",
      "\u001b[2m\u001b[36m(markers_ray pid=2430375)\u001b[0m /opt/venv/lib/python3.8/site-packages/numpy/core/_methods.py:181: RuntimeWarning: invalid value encountered in true_divide\n",
      "\u001b[2m\u001b[36m(markers_ray pid=2430375)\u001b[0m   ret = um.true_divide(\n"
     ]
    },
    {
     "name": "stdout",
     "output_type": "stream",
     "text": [
      "\t\tno DARs found for CD14+_monocyte_in_mtscatac_VS_CD14+_monocyte_in_othertechs in master_all_1.FIXEDCELLS\n",
      "\t10xv1\n",
      "consensus_cell_type__mega  contrast               \n",
      "B cell                     ignore                     15339\n",
      "CD14+ monocyte             background                 35443\n",
      "                           CD14+_monocyte_in_10xv1     3047\n",
      "CD16+ monocyte             ignore                      4402\n",
      "CD4+ T cell                ignore                     49336\n",
      "Cytotoxic T cell           ignore                     49303\n",
      "Dendritic cell             ignore                      2624\n",
      "Natural killer cell        ignore                      9733\n",
      "Name: contrast, dtype: int64\n"
     ]
    },
    {
     "name": "stderr",
     "output_type": "stream",
     "text": [
      "2022-12-22 15:31:28,203\tINFO services.py:1470 -- View the Ray dashboard at \u001b[1m\u001b[32mhttp://127.0.0.1:8265\u001b[39m\u001b[22m\n"
     ]
    },
    {
     "name": "stdout",
     "output_type": "stream",
     "text": [
      "\u001b[2m\u001b[36m(markers_ray pid=2431089)\u001b[0m 2022-12-22 15:31:47,835 cisTopic     INFO     Formatting data for CD14+_monocyte_in_10xv1_VS_CD14+_monocyte_in_othertechs\n",
      "\u001b[2m\u001b[36m(markers_ray pid=2431089)\u001b[0m 2022-12-22 15:31:51,805 cisTopic     INFO     Computing p-value for CD14+_monocyte_in_10xv1_VS_CD14+_monocyte_in_othertechs\n"
     ]
    },
    {
     "name": "stderr",
     "output_type": "stream",
     "text": [
      "\u001b[2m\u001b[36m(markers_ray pid=2431089)\u001b[0m /opt/venv/lib/python3.8/site-packages/scipy/stats/_stats_py.py:8162: RuntimeWarning: invalid value encountered in double_scalars\n",
      "\u001b[2m\u001b[36m(markers_ray pid=2431089)\u001b[0m   z = (s - expected) / np.sqrt(n1*n2*(n1+n2+1)/12.0)\n"
     ]
    },
    {
     "name": "stdout",
     "output_type": "stream",
     "text": [
      "\u001b[2m\u001b[36m(markers_ray pid=2431089)\u001b[0m 2022-12-22 15:32:35,185 cisTopic     INFO     Computing log2FC for CD14+_monocyte_in_10xv1_VS_CD14+_monocyte_in_othertechs\n"
     ]
    },
    {
     "name": "stderr",
     "output_type": "stream",
     "text": [
      "\u001b[2m\u001b[36m(markers_ray pid=2431089)\u001b[0m /opt/venv/lib/python3.8/site-packages/numpy/core/fromnumeric.py:3474: RuntimeWarning: Mean of empty slice.\n",
      "\u001b[2m\u001b[36m(markers_ray pid=2431089)\u001b[0m   return _methods._mean(a, axis=axis, dtype=dtype,\n",
      "\u001b[2m\u001b[36m(markers_ray pid=2431089)\u001b[0m /opt/venv/lib/python3.8/site-packages/numpy/core/_methods.py:181: RuntimeWarning: invalid value encountered in true_divide\n",
      "\u001b[2m\u001b[36m(markers_ray pid=2431089)\u001b[0m   ret = um.true_divide(\n"
     ]
    },
    {
     "name": "stdout",
     "output_type": "stream",
     "text": [
      "\t\tno DARs found for CD14+_monocyte_in_10xv1_VS_CD14+_monocyte_in_othertechs in master_all_1.FIXEDCELLS\n",
      "CD4+ T cell\n",
      "\ts3atac\n",
      "\t10xmultiome\n",
      "consensus_cell_type__mega  contrast                  \n",
      "B cell                     ignore                        15339\n",
      "CD14+ monocyte             ignore                        38490\n",
      "CD16+ monocyte             ignore                         4402\n",
      "CD4+ T cell                background                    44943\n",
      "                           CD4+_T_cell_in_10xmultiome     4393\n",
      "Cytotoxic T cell           ignore                        49303\n",
      "Dendritic cell             ignore                         2624\n",
      "Natural killer cell        ignore                         9733\n",
      "Name: contrast, dtype: int64\n"
     ]
    },
    {
     "name": "stderr",
     "output_type": "stream",
     "text": [
      "2022-12-22 15:33:44,980\tINFO services.py:1470 -- View the Ray dashboard at \u001b[1m\u001b[32mhttp://127.0.0.1:8265\u001b[39m\u001b[22m\n"
     ]
    },
    {
     "name": "stdout",
     "output_type": "stream",
     "text": [
      "\u001b[2m\u001b[36m(markers_ray pid=2431876)\u001b[0m 2022-12-22 15:34:05,137 cisTopic     INFO     Formatting data for CD4+_T_cell_in_10xmultiome_VS_CD4+_T_cell_in_othertechs\n",
      "\u001b[2m\u001b[36m(markers_ray pid=2431876)\u001b[0m 2022-12-22 15:34:11,976 cisTopic     INFO     Computing p-value for CD4+_T_cell_in_10xmultiome_VS_CD4+_T_cell_in_othertechs\n"
     ]
    },
    {
     "name": "stderr",
     "output_type": "stream",
     "text": [
      "\u001b[2m\u001b[36m(markers_ray pid=2431876)\u001b[0m /opt/venv/lib/python3.8/site-packages/scipy/stats/_stats_py.py:8162: RuntimeWarning: invalid value encountered in double_scalars\n",
      "\u001b[2m\u001b[36m(markers_ray pid=2431876)\u001b[0m   z = (s - expected) / np.sqrt(n1*n2*(n1+n2+1)/12.0)\n"
     ]
    },
    {
     "name": "stdout",
     "output_type": "stream",
     "text": [
      "\u001b[2m\u001b[36m(markers_ray pid=2431876)\u001b[0m 2022-12-22 15:34:58,156 cisTopic     INFO     Computing log2FC for CD4+_T_cell_in_10xmultiome_VS_CD4+_T_cell_in_othertechs\n"
     ]
    },
    {
     "name": "stderr",
     "output_type": "stream",
     "text": [
      "\u001b[2m\u001b[36m(markers_ray pid=2431876)\u001b[0m /opt/venv/lib/python3.8/site-packages/numpy/core/fromnumeric.py:3474: RuntimeWarning: Mean of empty slice.\n",
      "\u001b[2m\u001b[36m(markers_ray pid=2431876)\u001b[0m   return _methods._mean(a, axis=axis, dtype=dtype,\n",
      "\u001b[2m\u001b[36m(markers_ray pid=2431876)\u001b[0m /opt/venv/lib/python3.8/site-packages/numpy/core/_methods.py:181: RuntimeWarning: invalid value encountered in true_divide\n",
      "\u001b[2m\u001b[36m(markers_ray pid=2431876)\u001b[0m   ret = um.true_divide(\n"
     ]
    },
    {
     "name": "stdout",
     "output_type": "stream",
     "text": [
      "\u001b[2m\u001b[36m(markers_ray pid=2431876)\u001b[0m 2022-12-22 15:34:59,837 cisTopic     INFO     CD4+_T_cell_in_10xmultiome_VS_CD4+_T_cell_in_othertechs done!\n",
      "\t\tno DARs found for CD4+_T_cell_in_10xmultiome_VS_CD4+_T_cell_in_othertechs in master_all_1.FIXEDCELLS\n",
      "\t10xv11\n",
      "consensus_cell_type__mega  contrast             \n",
      "B cell                     ignore                   15339\n",
      "CD14+ monocyte             ignore                   38490\n",
      "CD16+ monocyte             ignore                    4402\n",
      "CD4+ T cell                background               42000\n",
      "                           CD4+_T_cell_in_10xv11     7336\n",
      "Cytotoxic T cell           ignore                   49303\n",
      "Dendritic cell             ignore                    2624\n",
      "Natural killer cell        ignore                    9733\n",
      "Name: contrast, dtype: int64\n"
     ]
    },
    {
     "name": "stderr",
     "output_type": "stream",
     "text": [
      "2022-12-22 15:36:07,061\tINFO services.py:1470 -- View the Ray dashboard at \u001b[1m\u001b[32mhttp://127.0.0.1:8265\u001b[39m\u001b[22m\n"
     ]
    },
    {
     "name": "stdout",
     "output_type": "stream",
     "text": [
      "\u001b[2m\u001b[36m(markers_ray pid=2432589)\u001b[0m 2022-12-22 15:36:26,933 cisTopic     INFO     Formatting data for CD4+_T_cell_in_10xv11_VS_CD4+_T_cell_in_othertechs\n",
      "\u001b[2m\u001b[36m(markers_ray pid=2432589)\u001b[0m 2022-12-22 15:36:38,719 cisTopic     INFO     Computing p-value for CD4+_T_cell_in_10xv11_VS_CD4+_T_cell_in_othertechs\n"
     ]
    },
    {
     "name": "stderr",
     "output_type": "stream",
     "text": [
      "\u001b[2m\u001b[36m(markers_ray pid=2432589)\u001b[0m /opt/venv/lib/python3.8/site-packages/scipy/stats/_stats_py.py:8162: RuntimeWarning: invalid value encountered in double_scalars\n",
      "\u001b[2m\u001b[36m(markers_ray pid=2432589)\u001b[0m   z = (s - expected) / np.sqrt(n1*n2*(n1+n2+1)/12.0)\n"
     ]
    },
    {
     "name": "stdout",
     "output_type": "stream",
     "text": [
      "\u001b[2m\u001b[36m(markers_ray pid=2432589)\u001b[0m 2022-12-22 15:37:39,450 cisTopic     INFO     Computing log2FC for CD4+_T_cell_in_10xv11_VS_CD4+_T_cell_in_othertechs\n"
     ]
    },
    {
     "name": "stderr",
     "output_type": "stream",
     "text": [
      "\u001b[2m\u001b[36m(markers_ray pid=2432589)\u001b[0m /opt/venv/lib/python3.8/site-packages/numpy/core/fromnumeric.py:3474: RuntimeWarning: Mean of empty slice.\n",
      "\u001b[2m\u001b[36m(markers_ray pid=2432589)\u001b[0m   return _methods._mean(a, axis=axis, dtype=dtype,\n",
      "\u001b[2m\u001b[36m(markers_ray pid=2432589)\u001b[0m /opt/venv/lib/python3.8/site-packages/numpy/core/_methods.py:181: RuntimeWarning: invalid value encountered in true_divide\n",
      "\u001b[2m\u001b[36m(markers_ray pid=2432589)\u001b[0m   ret = um.true_divide(\n"
     ]
    },
    {
     "name": "stdout",
     "output_type": "stream",
     "text": [
      "\t\tno DARs found for CD4+_T_cell_in_10xv11_VS_CD4+_T_cell_in_othertechs in master_all_1.FIXEDCELLS\n",
      "\thydrop\n",
      "consensus_cell_type__mega  contrast             \n",
      "B cell                     ignore                   15339\n",
      "CD14+ monocyte             ignore                   38490\n",
      "CD16+ monocyte             ignore                    4402\n",
      "CD4+ T cell                background               46591\n",
      "                           CD4+_T_cell_in_hydrop     2745\n",
      "Cytotoxic T cell           ignore                   49303\n",
      "Dendritic cell             ignore                    2624\n",
      "Natural killer cell        ignore                    9733\n",
      "Name: contrast, dtype: int64\n"
     ]
    },
    {
     "name": "stderr",
     "output_type": "stream",
     "text": [
      "2022-12-22 15:38:55,132\tINFO services.py:1470 -- View the Ray dashboard at \u001b[1m\u001b[32mhttp://127.0.0.1:8265\u001b[39m\u001b[22m\n"
     ]
    },
    {
     "name": "stdout",
     "output_type": "stream",
     "text": [
      "\u001b[2m\u001b[36m(markers_ray pid=2433408)\u001b[0m 2022-12-22 15:39:16,665 cisTopic     INFO     Formatting data for CD4+_T_cell_in_hydrop_VS_CD4+_T_cell_in_othertechs\n"
     ]
    },
    {
     "name": "stderr",
     "output_type": "stream",
     "text": [
      "\u001b[2m\u001b[36m(markers_ray pid=2433408)\u001b[0m /opt/venv/lib/python3.8/site-packages/scipy/stats/_stats_py.py:8162: RuntimeWarning: invalid value encountered in double_scalars\n",
      "\u001b[2m\u001b[36m(markers_ray pid=2433408)\u001b[0m   z = (s - expected) / np.sqrt(n1*n2*(n1+n2+1)/12.0)\n"
     ]
    },
    {
     "name": "stdout",
     "output_type": "stream",
     "text": [
      "\u001b[2m\u001b[36m(markers_ray pid=2433408)\u001b[0m 2022-12-22 15:39:21,564 cisTopic     INFO     Computing p-value for CD4+_T_cell_in_hydrop_VS_CD4+_T_cell_in_othertechs\n",
      "\u001b[2m\u001b[36m(markers_ray pid=2433408)\u001b[0m 2022-12-22 15:39:59,119 cisTopic     INFO     Computing log2FC for CD4+_T_cell_in_hydrop_VS_CD4+_T_cell_in_othertechs\n"
     ]
    },
    {
     "name": "stderr",
     "output_type": "stream",
     "text": [
      "\u001b[2m\u001b[36m(markers_ray pid=2433408)\u001b[0m /opt/venv/lib/python3.8/site-packages/numpy/core/fromnumeric.py:3474: RuntimeWarning: Mean of empty slice.\n",
      "\u001b[2m\u001b[36m(markers_ray pid=2433408)\u001b[0m   return _methods._mean(a, axis=axis, dtype=dtype,\n",
      "\u001b[2m\u001b[36m(markers_ray pid=2433408)\u001b[0m /opt/venv/lib/python3.8/site-packages/numpy/core/_methods.py:181: RuntimeWarning: invalid value encountered in true_divide\n",
      "\u001b[2m\u001b[36m(markers_ray pid=2433408)\u001b[0m   ret = um.true_divide(\n"
     ]
    },
    {
     "name": "stdout",
     "output_type": "stream",
     "text": [
      "\t\tno DARs found for CD4+_T_cell_in_hydrop_VS_CD4+_T_cell_in_othertechs in master_all_1.FIXEDCELLS\n",
      "\t10xv2\n",
      "consensus_cell_type__mega  contrast            \n",
      "B cell                     ignore                  15339\n",
      "CD14+ monocyte             ignore                  38490\n",
      "CD16+ monocyte             ignore                   4402\n",
      "CD4+ T cell                background              37201\n",
      "                           CD4+_T_cell_in_10xv2    12135\n",
      "Cytotoxic T cell           ignore                  49303\n",
      "Dendritic cell             ignore                   2624\n",
      "Natural killer cell        ignore                   9733\n",
      "Name: contrast, dtype: int64\n"
     ]
    },
    {
     "name": "stderr",
     "output_type": "stream",
     "text": [
      "2022-12-22 15:41:34,576\tINFO services.py:1470 -- View the Ray dashboard at \u001b[1m\u001b[32mhttp://127.0.0.1:8265\u001b[39m\u001b[22m\n"
     ]
    },
    {
     "name": "stdout",
     "output_type": "stream",
     "text": [
      "\u001b[2m\u001b[36m(markers_ray pid=2434130)\u001b[0m 2022-12-22 15:41:57,736 cisTopic     INFO     Formatting data for CD4+_T_cell_in_10xv2_VS_CD4+_T_cell_in_othertechs\n"
     ]
    },
    {
     "name": "stderr",
     "output_type": "stream",
     "text": [
      "\u001b[2m\u001b[36m(markers_ray pid=2434130)\u001b[0m /opt/venv/lib/python3.8/site-packages/scipy/stats/_stats_py.py:8162: RuntimeWarning: invalid value encountered in double_scalars\n",
      "\u001b[2m\u001b[36m(markers_ray pid=2434130)\u001b[0m   z = (s - expected) / np.sqrt(n1*n2*(n1+n2+1)/12.0)\n"
     ]
    },
    {
     "name": "stdout",
     "output_type": "stream",
     "text": [
      "\u001b[2m\u001b[36m(markers_ray pid=2434130)\u001b[0m 2022-12-22 15:42:17,138 cisTopic     INFO     Computing p-value for CD4+_T_cell_in_10xv2_VS_CD4+_T_cell_in_othertechs\n",
      "\u001b[2m\u001b[36m(markers_ray pid=2434130)\u001b[0m 2022-12-22 15:43:40,222 cisTopic     INFO     Computing log2FC for CD4+_T_cell_in_10xv2_VS_CD4+_T_cell_in_othertechs\n"
     ]
    },
    {
     "name": "stderr",
     "output_type": "stream",
     "text": [
      "\u001b[2m\u001b[36m(markers_ray pid=2434130)\u001b[0m /opt/venv/lib/python3.8/site-packages/numpy/core/fromnumeric.py:3474: RuntimeWarning: Mean of empty slice.\n",
      "\u001b[2m\u001b[36m(markers_ray pid=2434130)\u001b[0m   return _methods._mean(a, axis=axis, dtype=dtype,\n",
      "\u001b[2m\u001b[36m(markers_ray pid=2434130)\u001b[0m /opt/venv/lib/python3.8/site-packages/numpy/core/_methods.py:181: RuntimeWarning: invalid value encountered in true_divide\n",
      "\u001b[2m\u001b[36m(markers_ray pid=2434130)\u001b[0m   ret = um.true_divide(\n"
     ]
    },
    {
     "name": "stdout",
     "output_type": "stream",
     "text": [
      "\t\tno DARs found for CD4+_T_cell_in_10xv2_VS_CD4+_T_cell_in_othertechs in master_all_1.FIXEDCELLS\n",
      "\tddseq\n",
      "consensus_cell_type__mega  contrast            \n",
      "B cell                     ignore                  15339\n",
      "CD14+ monocyte             ignore                  38490\n",
      "CD16+ monocyte             ignore                   4402\n",
      "CD4+ T cell                background              34586\n",
      "                           CD4+_T_cell_in_ddseq    14750\n",
      "Cytotoxic T cell           ignore                  49303\n",
      "Dendritic cell             ignore                   2624\n",
      "Natural killer cell        ignore                   9733\n",
      "Name: contrast, dtype: int64\n"
     ]
    },
    {
     "name": "stderr",
     "output_type": "stream",
     "text": [
      "2022-12-22 15:44:50,034\tINFO services.py:1470 -- View the Ray dashboard at \u001b[1m\u001b[32mhttp://127.0.0.1:8265\u001b[39m\u001b[22m\n"
     ]
    },
    {
     "name": "stdout",
     "output_type": "stream",
     "text": [
      "\u001b[2m\u001b[36m(markers_ray pid=2435376)\u001b[0m 2022-12-22 15:45:09,795 cisTopic     INFO     Formatting data for CD4+_T_cell_in_ddseq_VS_CD4+_T_cell_in_othertechs\n",
      "\u001b[2m\u001b[36m(markers_ray pid=2435376)\u001b[0m 2022-12-22 15:45:32,925 cisTopic     INFO     Computing p-value for CD4+_T_cell_in_ddseq_VS_CD4+_T_cell_in_othertechs\n"
     ]
    },
    {
     "name": "stderr",
     "output_type": "stream",
     "text": [
      "\u001b[2m\u001b[36m(markers_ray pid=2435376)\u001b[0m /opt/venv/lib/python3.8/site-packages/scipy/stats/_stats_py.py:8162: RuntimeWarning: invalid value encountered in double_scalars\n",
      "\u001b[2m\u001b[36m(markers_ray pid=2435376)\u001b[0m   z = (s - expected) / np.sqrt(n1*n2*(n1+n2+1)/12.0)\n"
     ]
    },
    {
     "name": "stdout",
     "output_type": "stream",
     "text": [
      "\u001b[2m\u001b[36m(markers_ray pid=2435376)\u001b[0m 2022-12-22 15:47:04,758 cisTopic     INFO     Computing log2FC for CD4+_T_cell_in_ddseq_VS_CD4+_T_cell_in_othertechs\n"
     ]
    },
    {
     "name": "stderr",
     "output_type": "stream",
     "text": [
      "\u001b[2m\u001b[36m(markers_ray pid=2435376)\u001b[0m /opt/venv/lib/python3.8/site-packages/numpy/core/fromnumeric.py:3474: RuntimeWarning: Mean of empty slice.\n",
      "\u001b[2m\u001b[36m(markers_ray pid=2435376)\u001b[0m   return _methods._mean(a, axis=axis, dtype=dtype,\n",
      "\u001b[2m\u001b[36m(markers_ray pid=2435376)\u001b[0m /opt/venv/lib/python3.8/site-packages/numpy/core/_methods.py:181: RuntimeWarning: invalid value encountered in true_divide\n",
      "\u001b[2m\u001b[36m(markers_ray pid=2435376)\u001b[0m   ret = um.true_divide(\n"
     ]
    },
    {
     "name": "stdout",
     "output_type": "stream",
     "text": [
      "\u001b[2m\u001b[36m(markers_ray pid=2435376)\u001b[0m 2022-12-22 15:47:06,691 cisTopic     INFO     CD4+_T_cell_in_ddseq_VS_CD4+_T_cell_in_othertechs done!\n",
      "\t\tno DARs found for CD4+_T_cell_in_ddseq_VS_CD4+_T_cell_in_othertechs in master_all_1.FIXEDCELLS\n",
      "\tmtscatac\n",
      "consensus_cell_type__mega  contrast               \n",
      "B cell                     ignore                     15339\n",
      "CD14+ monocyte             ignore                     38490\n",
      "CD16+ monocyte             ignore                      4402\n",
      "CD4+ T cell                background                 44434\n",
      "                           CD4+_T_cell_in_mtscatac     4902\n",
      "Cytotoxic T cell           ignore                     49303\n",
      "Dendritic cell             ignore                      2624\n",
      "Natural killer cell        ignore                      9733\n",
      "Name: contrast, dtype: int64\n"
     ]
    },
    {
     "name": "stderr",
     "output_type": "stream",
     "text": [
      "2022-12-22 15:48:15,519\tINFO services.py:1470 -- View the Ray dashboard at \u001b[1m\u001b[32mhttp://127.0.0.1:8265\u001b[39m\u001b[22m\n"
     ]
    },
    {
     "name": "stdout",
     "output_type": "stream",
     "text": [
      "\u001b[2m\u001b[36m(markers_ray pid=2436363)\u001b[0m 2022-12-22 15:48:35,349 cisTopic     INFO     Formatting data for CD4+_T_cell_in_mtscatac_VS_CD4+_T_cell_in_othertechs\n",
      "\u001b[2m\u001b[36m(markers_ray pid=2436363)\u001b[0m 2022-12-22 15:48:42,431 cisTopic     INFO     Computing p-value for CD4+_T_cell_in_mtscatac_VS_CD4+_T_cell_in_othertechs\n"
     ]
    },
    {
     "name": "stderr",
     "output_type": "stream",
     "text": [
      "\u001b[2m\u001b[36m(markers_ray pid=2436363)\u001b[0m /opt/venv/lib/python3.8/site-packages/scipy/stats/_stats_py.py:8162: RuntimeWarning: invalid value encountered in double_scalars\n",
      "\u001b[2m\u001b[36m(markers_ray pid=2436363)\u001b[0m   z = (s - expected) / np.sqrt(n1*n2*(n1+n2+1)/12.0)\n"
     ]
    },
    {
     "name": "stdout",
     "output_type": "stream",
     "text": [
      "\u001b[2m\u001b[36m(markers_ray pid=2436363)\u001b[0m 2022-12-22 15:49:31,083 cisTopic     INFO     Computing log2FC for CD4+_T_cell_in_mtscatac_VS_CD4+_T_cell_in_othertechs\n"
     ]
    },
    {
     "name": "stderr",
     "output_type": "stream",
     "text": [
      "\u001b[2m\u001b[36m(markers_ray pid=2436363)\u001b[0m /opt/venv/lib/python3.8/site-packages/numpy/core/fromnumeric.py:3474: RuntimeWarning: Mean of empty slice.\n",
      "\u001b[2m\u001b[36m(markers_ray pid=2436363)\u001b[0m   return _methods._mean(a, axis=axis, dtype=dtype,\n",
      "\u001b[2m\u001b[36m(markers_ray pid=2436363)\u001b[0m /opt/venv/lib/python3.8/site-packages/numpy/core/_methods.py:181: RuntimeWarning: invalid value encountered in true_divide\n",
      "\u001b[2m\u001b[36m(markers_ray pid=2436363)\u001b[0m   ret = um.true_divide(\n"
     ]
    },
    {
     "name": "stdout",
     "output_type": "stream",
     "text": [
      "\u001b[2m\u001b[36m(markers_ray pid=2436363)\u001b[0m 2022-12-22 15:49:32,727 cisTopic     INFO     CD4+_T_cell_in_mtscatac_VS_CD4+_T_cell_in_othertechs done!\n",
      "\t\tno DARs found for CD4+_T_cell_in_mtscatac_VS_CD4+_T_cell_in_othertechs in master_all_1.FIXEDCELLS\n",
      "\t10xv1\n",
      "consensus_cell_type__mega  contrast            \n",
      "B cell                     ignore                  15339\n",
      "CD14+ monocyte             ignore                  38490\n",
      "CD16+ monocyte             ignore                   4402\n",
      "CD4+ T cell                background              46320\n",
      "                           CD4+_T_cell_in_10xv1     3016\n",
      "Cytotoxic T cell           ignore                  49303\n",
      "Dendritic cell             ignore                   2624\n",
      "Natural killer cell        ignore                   9733\n",
      "Name: contrast, dtype: int64\n"
     ]
    },
    {
     "name": "stderr",
     "output_type": "stream",
     "text": [
      "2022-12-22 15:50:45,097\tINFO services.py:1470 -- View the Ray dashboard at \u001b[1m\u001b[32mhttp://127.0.0.1:8265\u001b[39m\u001b[22m\n"
     ]
    },
    {
     "name": "stdout",
     "output_type": "stream",
     "text": [
      "\u001b[2m\u001b[36m(markers_ray pid=2437147)\u001b[0m 2022-12-22 15:51:05,035 cisTopic     INFO     Formatting data for CD4+_T_cell_in_10xv1_VS_CD4+_T_cell_in_othertechs\n"
     ]
    },
    {
     "name": "stderr",
     "output_type": "stream",
     "text": [
      "\u001b[2m\u001b[36m(markers_ray pid=2437147)\u001b[0m /opt/venv/lib/python3.8/site-packages/scipy/stats/_stats_py.py:8162: RuntimeWarning: invalid value encountered in double_scalars\n",
      "\u001b[2m\u001b[36m(markers_ray pid=2437147)\u001b[0m   z = (s - expected) / np.sqrt(n1*n2*(n1+n2+1)/12.0)\n"
     ]
    },
    {
     "name": "stdout",
     "output_type": "stream",
     "text": [
      "\u001b[2m\u001b[36m(markers_ray pid=2437147)\u001b[0m 2022-12-22 15:51:08,969 cisTopic     INFO     Computing p-value for CD4+_T_cell_in_10xv1_VS_CD4+_T_cell_in_othertechs\n",
      "\u001b[2m\u001b[36m(markers_ray pid=2437147)\u001b[0m 2022-12-22 15:51:48,306 cisTopic     INFO     Computing log2FC for CD4+_T_cell_in_10xv1_VS_CD4+_T_cell_in_othertechs\n"
     ]
    },
    {
     "name": "stderr",
     "output_type": "stream",
     "text": [
      "\u001b[2m\u001b[36m(markers_ray pid=2437147)\u001b[0m /opt/venv/lib/python3.8/site-packages/numpy/core/fromnumeric.py:3474: RuntimeWarning: Mean of empty slice.\n",
      "\u001b[2m\u001b[36m(markers_ray pid=2437147)\u001b[0m   return _methods._mean(a, axis=axis, dtype=dtype,\n",
      "\u001b[2m\u001b[36m(markers_ray pid=2437147)\u001b[0m /opt/venv/lib/python3.8/site-packages/numpy/core/_methods.py:181: RuntimeWarning: invalid value encountered in true_divide\n",
      "\u001b[2m\u001b[36m(markers_ray pid=2437147)\u001b[0m   ret = um.true_divide(\n"
     ]
    },
    {
     "name": "stdout",
     "output_type": "stream",
     "text": [
      "\t\tno DARs found for CD4+_T_cell_in_10xv1_VS_CD4+_T_cell_in_othertechs in master_all_1.FIXEDCELLS\n",
      "Natural killer cell\n",
      "\ts3atac\n",
      "\t10xmultiome\n",
      "consensus_cell_type__mega  contrast                          \n",
      "B cell                     ignore                                15339\n",
      "CD14+ monocyte             ignore                                38490\n",
      "CD16+ monocyte             ignore                                 4402\n",
      "CD4+ T cell                ignore                                49336\n",
      "Cytotoxic T cell           ignore                                49303\n",
      "Dendritic cell             ignore                                 2624\n",
      "Natural killer cell        background                             7634\n",
      "                           Natural_killer_cell_in_10xmultiome     2099\n",
      "Name: contrast, dtype: int64\n"
     ]
    },
    {
     "name": "stderr",
     "output_type": "stream",
     "text": [
      "2022-12-22 15:52:59,283\tINFO services.py:1470 -- View the Ray dashboard at \u001b[1m\u001b[32mhttp://127.0.0.1:8265\u001b[39m\u001b[22m\n"
     ]
    },
    {
     "name": "stdout",
     "output_type": "stream",
     "text": [
      "\u001b[2m\u001b[36m(markers_ray pid=2437898)\u001b[0m 2022-12-22 15:53:19,334 cisTopic     INFO     Formatting data for Natural_killer_cell_in_10xmultiome_VS_Natural_killer_cell_in_othertechs\n"
     ]
    },
    {
     "name": "stderr",
     "output_type": "stream",
     "text": [
      "\u001b[2m\u001b[36m(markers_ray pid=2437898)\u001b[0m /opt/venv/lib/python3.8/site-packages/scipy/stats/_stats_py.py:8162: RuntimeWarning: invalid value encountered in double_scalars\n",
      "\u001b[2m\u001b[36m(markers_ray pid=2437898)\u001b[0m   z = (s - expected) / np.sqrt(n1*n2*(n1+n2+1)/12.0)\n"
     ]
    },
    {
     "name": "stdout",
     "output_type": "stream",
     "text": [
      "\u001b[2m\u001b[36m(markers_ray pid=2437898)\u001b[0m 2022-12-22 15:53:23,279 cisTopic     INFO     Computing p-value for Natural_killer_cell_in_10xmultiome_VS_Natural_killer_cell_in_othertechs\n",
      "\u001b[2m\u001b[36m(markers_ray pid=2437898)\u001b[0m 2022-12-22 15:53:57,491 cisTopic     INFO     Computing log2FC for Natural_killer_cell_in_10xmultiome_VS_Natural_killer_cell_in_othertechs\n"
     ]
    },
    {
     "name": "stderr",
     "output_type": "stream",
     "text": [
      "\u001b[2m\u001b[36m(markers_ray pid=2437898)\u001b[0m /opt/venv/lib/python3.8/site-packages/numpy/core/fromnumeric.py:3474: RuntimeWarning: Mean of empty slice.\n",
      "\u001b[2m\u001b[36m(markers_ray pid=2437898)\u001b[0m   return _methods._mean(a, axis=axis, dtype=dtype,\n",
      "\u001b[2m\u001b[36m(markers_ray pid=2437898)\u001b[0m /opt/venv/lib/python3.8/site-packages/numpy/core/_methods.py:181: RuntimeWarning: invalid value encountered in true_divide\n",
      "\u001b[2m\u001b[36m(markers_ray pid=2437898)\u001b[0m   ret = um.true_divide(\n"
     ]
    },
    {
     "name": "stdout",
     "output_type": "stream",
     "text": [
      "\t\tno DARs found for Natural_killer_cell_in_10xmultiome_VS_Natural_killer_cell_in_othertechs in master_all_1.FIXEDCELLS\n",
      "\t10xv11\n",
      "consensus_cell_type__mega  contrast                     \n",
      "B cell                     ignore                           15339\n",
      "CD14+ monocyte             ignore                           38490\n",
      "CD16+ monocyte             ignore                            4402\n",
      "CD4+ T cell                ignore                           49336\n",
      "Cytotoxic T cell           ignore                           49303\n",
      "Dendritic cell             ignore                            2624\n",
      "Natural killer cell        background                        7222\n",
      "                           Natural_killer_cell_in_10xv11     2511\n",
      "Name: contrast, dtype: int64\n"
     ]
    },
    {
     "name": "stderr",
     "output_type": "stream",
     "text": [
      "2022-12-22 15:55:10,046\tINFO services.py:1470 -- View the Ray dashboard at \u001b[1m\u001b[32mhttp://127.0.0.1:8265\u001b[39m\u001b[22m\n"
     ]
    },
    {
     "name": "stdout",
     "output_type": "stream",
     "text": [
      "\u001b[2m\u001b[36m(markers_ray pid=2438545)\u001b[0m 2022-12-22 15:55:29,071 cisTopic     INFO     Formatting data for Natural_killer_cell_in_10xv11_VS_Natural_killer_cell_in_othertechs\n"
     ]
    },
    {
     "name": "stderr",
     "output_type": "stream",
     "text": [
      "\u001b[2m\u001b[36m(markers_ray pid=2438545)\u001b[0m /opt/venv/lib/python3.8/site-packages/scipy/stats/_stats_py.py:8162: RuntimeWarning: invalid value encountered in double_scalars\n",
      "\u001b[2m\u001b[36m(markers_ray pid=2438545)\u001b[0m   z = (s - expected) / np.sqrt(n1*n2*(n1+n2+1)/12.0)\n"
     ]
    },
    {
     "name": "stdout",
     "output_type": "stream",
     "text": [
      "\u001b[2m\u001b[36m(markers_ray pid=2438545)\u001b[0m 2022-12-22 15:55:33,773 cisTopic     INFO     Computing p-value for Natural_killer_cell_in_10xv11_VS_Natural_killer_cell_in_othertechs\n"
     ]
    },
    {
     "name": "stderr",
     "output_type": "stream",
     "text": [
      "\u001b[2m\u001b[36m(markers_ray pid=2438545)\u001b[0m /opt/venv/lib/python3.8/site-packages/numpy/core/fromnumeric.py:3474: RuntimeWarning: Mean of empty slice.\n",
      "\u001b[2m\u001b[36m(markers_ray pid=2438545)\u001b[0m   return _methods._mean(a, axis=axis, dtype=dtype,\n",
      "\u001b[2m\u001b[36m(markers_ray pid=2438545)\u001b[0m /opt/venv/lib/python3.8/site-packages/numpy/core/_methods.py:181: RuntimeWarning: invalid value encountered in true_divide\n",
      "\u001b[2m\u001b[36m(markers_ray pid=2438545)\u001b[0m   ret = um.true_divide(\n"
     ]
    },
    {
     "name": "stdout",
     "output_type": "stream",
     "text": [
      "\u001b[2m\u001b[36m(markers_ray pid=2438545)\u001b[0m 2022-12-22 15:56:11,706 cisTopic     INFO     Computing log2FC for Natural_killer_cell_in_10xv11_VS_Natural_killer_cell_in_othertechs\n",
      "\t\tno DARs found for Natural_killer_cell_in_10xv11_VS_Natural_killer_cell_in_othertechs in master_all_1.FIXEDCELLS\n",
      "\t10xv2\n",
      "consensus_cell_type__mega  contrast                    \n",
      "B cell                     ignore                          15339\n",
      "CD14+ monocyte             ignore                          38490\n",
      "CD16+ monocyte             ignore                           4402\n",
      "CD4+ T cell                ignore                          49336\n",
      "Cytotoxic T cell           ignore                          49303\n",
      "Dendritic cell             ignore                           2624\n",
      "Natural killer cell        background                       6375\n",
      "                           Natural_killer_cell_in_10xv2     3358\n",
      "Name: contrast, dtype: int64\n"
     ]
    },
    {
     "name": "stderr",
     "output_type": "stream",
     "text": [
      "2022-12-22 15:57:19,092\tINFO services.py:1470 -- View the Ray dashboard at \u001b[1m\u001b[32mhttp://127.0.0.1:8265\u001b[39m\u001b[22m\n"
     ]
    },
    {
     "name": "stdout",
     "output_type": "stream",
     "text": [
      "\u001b[2m\u001b[36m(markers_ray pid=2439347)\u001b[0m 2022-12-22 15:57:39,581 cisTopic     INFO     Formatting data for Natural_killer_cell_in_10xv2_VS_Natural_killer_cell_in_othertechs\n"
     ]
    },
    {
     "name": "stderr",
     "output_type": "stream",
     "text": [
      "\u001b[2m\u001b[36m(markers_ray pid=2439347)\u001b[0m /opt/venv/lib/python3.8/site-packages/scipy/stats/_stats_py.py:8162: RuntimeWarning: invalid value encountered in double_scalars\n",
      "\u001b[2m\u001b[36m(markers_ray pid=2439347)\u001b[0m   z = (s - expected) / np.sqrt(n1*n2*(n1+n2+1)/12.0)\n"
     ]
    },
    {
     "name": "stdout",
     "output_type": "stream",
     "text": [
      "\u001b[2m\u001b[36m(markers_ray pid=2439347)\u001b[0m 2022-12-22 15:57:46,388 cisTopic     INFO     Computing p-value for Natural_killer_cell_in_10xv2_VS_Natural_killer_cell_in_othertechs\n",
      "\u001b[2m\u001b[36m(markers_ray pid=2439347)\u001b[0m 2022-12-22 15:58:27,482 cisTopic     INFO     Computing log2FC for Natural_killer_cell_in_10xv2_VS_Natural_killer_cell_in_othertechs\n"
     ]
    },
    {
     "name": "stderr",
     "output_type": "stream",
     "text": [
      "\u001b[2m\u001b[36m(markers_ray pid=2439347)\u001b[0m /opt/venv/lib/python3.8/site-packages/numpy/core/fromnumeric.py:3474: RuntimeWarning: Mean of empty slice.\n",
      "\u001b[2m\u001b[36m(markers_ray pid=2439347)\u001b[0m   return _methods._mean(a, axis=axis, dtype=dtype,\n",
      "\u001b[2m\u001b[36m(markers_ray pid=2439347)\u001b[0m /opt/venv/lib/python3.8/site-packages/numpy/core/_methods.py:181: RuntimeWarning: invalid value encountered in true_divide\n",
      "\u001b[2m\u001b[36m(markers_ray pid=2439347)\u001b[0m   ret = um.true_divide(\n"
     ]
    },
    {
     "name": "stdout",
     "output_type": "stream",
     "text": [
      "\t\tno DARs found for Natural_killer_cell_in_10xv2_VS_Natural_killer_cell_in_othertechs in master_all_1.FIXEDCELLS\n",
      "\thydrop\n",
      "consensus_cell_type__mega  contrast                     \n",
      "B cell                     ignore                           15339\n",
      "CD14+ monocyte             ignore                           38490\n",
      "CD16+ monocyte             ignore                            4402\n",
      "CD4+ T cell                ignore                           49336\n",
      "Cytotoxic T cell           ignore                           49303\n",
      "Dendritic cell             ignore                            2624\n",
      "Natural killer cell        background                        9722\n",
      "                           Natural_killer_cell_in_hydrop       11\n",
      "Name: contrast, dtype: int64\n"
     ]
    },
    {
     "name": "stderr",
     "output_type": "stream",
     "text": [
      "2022-12-22 15:59:38,071\tINFO services.py:1470 -- View the Ray dashboard at \u001b[1m\u001b[32mhttp://127.0.0.1:8265\u001b[39m\u001b[22m\n"
     ]
    },
    {
     "name": "stdout",
     "output_type": "stream",
     "text": [
      "\u001b[2m\u001b[36m(markers_ray pid=2440226)\u001b[0m 2022-12-22 15:59:55,873 cisTopic     INFO     Formatting data for Natural_killer_cell_in_hydrop_VS_Natural_killer_cell_in_othertechs\n"
     ]
    },
    {
     "name": "stderr",
     "output_type": "stream",
     "text": [
      "\u001b[2m\u001b[36m(markers_ray pid=2440226)\u001b[0m /opt/venv/lib/python3.8/site-packages/scipy/stats/_stats_py.py:8162: RuntimeWarning: invalid value encountered in double_scalars\n",
      "\u001b[2m\u001b[36m(markers_ray pid=2440226)\u001b[0m   z = (s - expected) / np.sqrt(n1*n2*(n1+n2+1)/12.0)\n"
     ]
    },
    {
     "name": "stdout",
     "output_type": "stream",
     "text": [
      "\u001b[2m\u001b[36m(markers_ray pid=2440226)\u001b[0m 2022-12-22 15:59:56,799 cisTopic     INFO     Computing p-value for Natural_killer_cell_in_hydrop_VS_Natural_killer_cell_in_othertechs\n"
     ]
    },
    {
     "name": "stderr",
     "output_type": "stream",
     "text": [
      "\u001b[2m\u001b[36m(markers_ray pid=2440226)\u001b[0m /opt/venv/lib/python3.8/site-packages/numpy/core/fromnumeric.py:3474: RuntimeWarning: Mean of empty slice.\n",
      "\u001b[2m\u001b[36m(markers_ray pid=2440226)\u001b[0m   return _methods._mean(a, axis=axis, dtype=dtype,\n",
      "\u001b[2m\u001b[36m(markers_ray pid=2440226)\u001b[0m /opt/venv/lib/python3.8/site-packages/numpy/core/_methods.py:181: RuntimeWarning: invalid value encountered in true_divide\n",
      "\u001b[2m\u001b[36m(markers_ray pid=2440226)\u001b[0m   ret = um.true_divide(\n"
     ]
    },
    {
     "name": "stdout",
     "output_type": "stream",
     "text": [
      "\u001b[2m\u001b[36m(markers_ray pid=2440226)\u001b[0m 2022-12-22 16:00:20,351 cisTopic     INFO     Computing log2FC for Natural_killer_cell_in_hydrop_VS_Natural_killer_cell_in_othertechs\n",
      "\t\tno DARs found for Natural_killer_cell_in_hydrop_VS_Natural_killer_cell_in_othertechs in master_all_1.FIXEDCELLS\n",
      "\tddseq\n",
      "consensus_cell_type__mega  contrast                    \n",
      "B cell                     ignore                          15339\n",
      "CD14+ monocyte             ignore                          38490\n",
      "CD16+ monocyte             ignore                           4402\n",
      "CD4+ T cell                ignore                          49336\n",
      "Cytotoxic T cell           ignore                          49303\n",
      "Dendritic cell             ignore                           2624\n",
      "Natural killer cell        background                       9715\n",
      "                           Natural_killer_cell_in_ddseq       18\n",
      "Name: contrast, dtype: int64\n"
     ]
    },
    {
     "name": "stderr",
     "output_type": "stream",
     "text": [
      "2022-12-22 16:01:32,049\tINFO services.py:1470 -- View the Ray dashboard at \u001b[1m\u001b[32mhttp://127.0.0.1:8265\u001b[39m\u001b[22m\n"
     ]
    },
    {
     "name": "stdout",
     "output_type": "stream",
     "text": [
      "\u001b[2m\u001b[36m(markers_ray pid=2440946)\u001b[0m 2022-12-22 16:01:48,189 cisTopic     INFO     Formatting data for Natural_killer_cell_in_ddseq_VS_Natural_killer_cell_in_othertechs\n",
      "\u001b[2m\u001b[36m(markers_ray pid=2440946)\u001b[0m 2022-12-22 16:01:49,415 cisTopic     INFO     Computing p-value for Natural_killer_cell_in_ddseq_VS_Natural_killer_cell_in_othertechs\n"
     ]
    },
    {
     "name": "stderr",
     "output_type": "stream",
     "text": [
      "\u001b[2m\u001b[36m(markers_ray pid=2440946)\u001b[0m /opt/venv/lib/python3.8/site-packages/scipy/stats/_stats_py.py:8162: RuntimeWarning: invalid value encountered in double_scalars\n",
      "\u001b[2m\u001b[36m(markers_ray pid=2440946)\u001b[0m   z = (s - expected) / np.sqrt(n1*n2*(n1+n2+1)/12.0)\n"
     ]
    },
    {
     "name": "stdout",
     "output_type": "stream",
     "text": [
      "\u001b[2m\u001b[36m(markers_ray pid=2440946)\u001b[0m 2022-12-22 16:02:13,105 cisTopic     INFO     Computing log2FC for Natural_killer_cell_in_ddseq_VS_Natural_killer_cell_in_othertechs\n"
     ]
    },
    {
     "name": "stderr",
     "output_type": "stream",
     "text": [
      "\u001b[2m\u001b[36m(markers_ray pid=2440946)\u001b[0m /opt/venv/lib/python3.8/site-packages/numpy/core/fromnumeric.py:3474: RuntimeWarning: Mean of empty slice.\n",
      "\u001b[2m\u001b[36m(markers_ray pid=2440946)\u001b[0m   return _methods._mean(a, axis=axis, dtype=dtype,\n",
      "\u001b[2m\u001b[36m(markers_ray pid=2440946)\u001b[0m /opt/venv/lib/python3.8/site-packages/numpy/core/_methods.py:181: RuntimeWarning: invalid value encountered in true_divide\n",
      "\u001b[2m\u001b[36m(markers_ray pid=2440946)\u001b[0m   ret = um.true_divide(\n"
     ]
    },
    {
     "name": "stdout",
     "output_type": "stream",
     "text": [
      "\t\tno DARs found for Natural_killer_cell_in_ddseq_VS_Natural_killer_cell_in_othertechs in master_all_1.FIXEDCELLS\n",
      "\tmtscatac\n",
      "consensus_cell_type__mega  contrast                       \n",
      "B cell                     ignore                             15339\n",
      "CD14+ monocyte             ignore                             38490\n",
      "CD16+ monocyte             ignore                              4402\n",
      "CD4+ T cell                ignore                             49336\n",
      "Cytotoxic T cell           ignore                             49303\n",
      "Dendritic cell             ignore                              2624\n",
      "Natural killer cell        background                          9014\n",
      "                           Natural_killer_cell_in_mtscatac      719\n",
      "Name: contrast, dtype: int64\n"
     ]
    },
    {
     "name": "stderr",
     "output_type": "stream",
     "text": [
      "2022-12-22 16:03:28,934\tINFO services.py:1470 -- View the Ray dashboard at \u001b[1m\u001b[32mhttp://127.0.0.1:8265\u001b[39m\u001b[22m\n"
     ]
    },
    {
     "name": "stdout",
     "output_type": "stream",
     "text": [
      "\u001b[2m\u001b[36m(markers_ray pid=2441650)\u001b[0m 2022-12-22 16:03:49,009 cisTopic     INFO     Formatting data for Natural_killer_cell_in_mtscatac_VS_Natural_killer_cell_in_othertechs\n",
      "\u001b[2m\u001b[36m(markers_ray pid=2441650)\u001b[0m 2022-12-22 16:03:51,434 cisTopic     INFO     Computing p-value for Natural_killer_cell_in_mtscatac_VS_Natural_killer_cell_in_othertechs\n"
     ]
    },
    {
     "name": "stderr",
     "output_type": "stream",
     "text": [
      "\u001b[2m\u001b[36m(markers_ray pid=2441650)\u001b[0m /opt/venv/lib/python3.8/site-packages/scipy/stats/_stats_py.py:8162: RuntimeWarning: invalid value encountered in double_scalars\n",
      "\u001b[2m\u001b[36m(markers_ray pid=2441650)\u001b[0m   z = (s - expected) / np.sqrt(n1*n2*(n1+n2+1)/12.0)\n"
     ]
    },
    {
     "name": "stdout",
     "output_type": "stream",
     "text": [
      "\u001b[2m\u001b[36m(markers_ray pid=2441650)\u001b[0m 2022-12-22 16:04:19,590 cisTopic     INFO     Computing log2FC for Natural_killer_cell_in_mtscatac_VS_Natural_killer_cell_in_othertechs\n"
     ]
    },
    {
     "name": "stderr",
     "output_type": "stream",
     "text": [
      "\u001b[2m\u001b[36m(markers_ray pid=2441650)\u001b[0m /opt/venv/lib/python3.8/site-packages/numpy/core/fromnumeric.py:3474: RuntimeWarning: Mean of empty slice.\n",
      "\u001b[2m\u001b[36m(markers_ray pid=2441650)\u001b[0m   return _methods._mean(a, axis=axis, dtype=dtype,\n",
      "\u001b[2m\u001b[36m(markers_ray pid=2441650)\u001b[0m /opt/venv/lib/python3.8/site-packages/numpy/core/_methods.py:181: RuntimeWarning: invalid value encountered in true_divide\n",
      "\u001b[2m\u001b[36m(markers_ray pid=2441650)\u001b[0m   ret = um.true_divide(\n"
     ]
    },
    {
     "name": "stdout",
     "output_type": "stream",
     "text": [
      "\u001b[2m\u001b[36m(markers_ray pid=2441650)\u001b[0m 2022-12-22 16:04:21,146 cisTopic     INFO     Natural_killer_cell_in_mtscatac_VS_Natural_killer_cell_in_othertechs done!\n",
      "\t\tno DARs found for Natural_killer_cell_in_mtscatac_VS_Natural_killer_cell_in_othertechs in master_all_1.FIXEDCELLS\n",
      "\t10xv1\n",
      "consensus_cell_type__mega  contrast                    \n",
      "B cell                     ignore                          15339\n",
      "CD14+ monocyte             ignore                          38490\n",
      "CD16+ monocyte             ignore                           4402\n",
      "CD4+ T cell                ignore                          49336\n",
      "Cytotoxic T cell           ignore                          49303\n",
      "Dendritic cell             ignore                           2624\n",
      "Natural killer cell        background                       8733\n",
      "                           Natural_killer_cell_in_10xv1     1000\n",
      "Name: contrast, dtype: int64\n"
     ]
    },
    {
     "name": "stderr",
     "output_type": "stream",
     "text": [
      "2022-12-22 16:05:36,422\tINFO services.py:1470 -- View the Ray dashboard at \u001b[1m\u001b[32mhttp://127.0.0.1:8265\u001b[39m\u001b[22m\n"
     ]
    },
    {
     "name": "stdout",
     "output_type": "stream",
     "text": [
      "\u001b[2m\u001b[36m(markers_ray pid=2442370)\u001b[0m 2022-12-22 16:05:55,629 cisTopic     INFO     Formatting data for Natural_killer_cell_in_10xv1_VS_Natural_killer_cell_in_othertechs\n",
      "\u001b[2m\u001b[36m(markers_ray pid=2442370)\u001b[0m 2022-12-22 16:05:58,632 cisTopic     INFO     Computing p-value for Natural_killer_cell_in_10xv1_VS_Natural_killer_cell_in_othertechs\n"
     ]
    },
    {
     "name": "stderr",
     "output_type": "stream",
     "text": [
      "\u001b[2m\u001b[36m(markers_ray pid=2442370)\u001b[0m /opt/venv/lib/python3.8/site-packages/scipy/stats/_stats_py.py:8162: RuntimeWarning: invalid value encountered in double_scalars\n",
      "\u001b[2m\u001b[36m(markers_ray pid=2442370)\u001b[0m   z = (s - expected) / np.sqrt(n1*n2*(n1+n2+1)/12.0)\n"
     ]
    },
    {
     "name": "stdout",
     "output_type": "stream",
     "text": [
      "\u001b[2m\u001b[36m(markers_ray pid=2442370)\u001b[0m 2022-12-22 16:06:27,616 cisTopic     INFO     Computing log2FC for Natural_killer_cell_in_10xv1_VS_Natural_killer_cell_in_othertechs\n"
     ]
    },
    {
     "name": "stderr",
     "output_type": "stream",
     "text": [
      "\u001b[2m\u001b[36m(markers_ray pid=2442370)\u001b[0m /opt/venv/lib/python3.8/site-packages/numpy/core/fromnumeric.py:3474: RuntimeWarning: Mean of empty slice.\n",
      "\u001b[2m\u001b[36m(markers_ray pid=2442370)\u001b[0m   return _methods._mean(a, axis=axis, dtype=dtype,\n",
      "\u001b[2m\u001b[36m(markers_ray pid=2442370)\u001b[0m /opt/venv/lib/python3.8/site-packages/numpy/core/_methods.py:181: RuntimeWarning: invalid value encountered in true_divide\n",
      "\u001b[2m\u001b[36m(markers_ray pid=2442370)\u001b[0m   ret = um.true_divide(\n"
     ]
    },
    {
     "name": "stdout",
     "output_type": "stream",
     "text": [
      "\t\tno DARs found for Natural_killer_cell_in_10xv1_VS_Natural_killer_cell_in_othertechs in master_all_1.FIXEDCELLS\n",
      "CD16+ monocyte\n",
      "\ts3atac\n",
      "\t10xmultiome\n",
      "consensus_cell_type__mega  contrast                     \n",
      "B cell                     ignore                           15339\n",
      "CD14+ monocyte             ignore                           38490\n",
      "CD16+ monocyte             background                        3418\n",
      "                           CD16+_monocyte_in_10xmultiome      984\n",
      "CD4+ T cell                ignore                           49336\n",
      "Cytotoxic T cell           ignore                           49303\n",
      "Dendritic cell             ignore                            2624\n",
      "Natural killer cell        ignore                            9733\n",
      "Name: contrast, dtype: int64\n"
     ]
    },
    {
     "name": "stderr",
     "output_type": "stream",
     "text": [
      "2022-12-22 16:07:39,052\tINFO services.py:1470 -- View the Ray dashboard at \u001b[1m\u001b[32mhttp://127.0.0.1:8265\u001b[39m\u001b[22m\n"
     ]
    },
    {
     "name": "stdout",
     "output_type": "stream",
     "text": [
      "\u001b[2m\u001b[36m(markers_ray pid=2443095)\u001b[0m 2022-12-22 16:07:57,577 cisTopic     INFO     Formatting data for CD16+_monocyte_in_10xmultiome_VS_CD16+_monocyte_in_othertechs\n",
      "\u001b[2m\u001b[36m(markers_ray pid=2443095)\u001b[0m 2022-12-22 16:08:01,110 cisTopic     INFO     Computing p-value for CD16+_monocyte_in_10xmultiome_VS_CD16+_monocyte_in_othertechs\n"
     ]
    },
    {
     "name": "stderr",
     "output_type": "stream",
     "text": [
      "\u001b[2m\u001b[36m(markers_ray pid=2443095)\u001b[0m /opt/venv/lib/python3.8/site-packages/scipy/stats/_stats_py.py:8162: RuntimeWarning: invalid value encountered in double_scalars\n",
      "\u001b[2m\u001b[36m(markers_ray pid=2443095)\u001b[0m   z = (s - expected) / np.sqrt(n1*n2*(n1+n2+1)/12.0)\n"
     ]
    },
    {
     "name": "stdout",
     "output_type": "stream",
     "text": [
      "\u001b[2m\u001b[36m(markers_ray pid=2443095)\u001b[0m 2022-12-22 16:08:30,855 cisTopic     INFO     Computing log2FC for CD16+_monocyte_in_10xmultiome_VS_CD16+_monocyte_in_othertechs\n"
     ]
    },
    {
     "name": "stderr",
     "output_type": "stream",
     "text": [
      "\u001b[2m\u001b[36m(markers_ray pid=2443095)\u001b[0m /opt/venv/lib/python3.8/site-packages/numpy/core/fromnumeric.py:3474: RuntimeWarning: Mean of empty slice.\n",
      "\u001b[2m\u001b[36m(markers_ray pid=2443095)\u001b[0m   return _methods._mean(a, axis=axis, dtype=dtype,\n",
      "\u001b[2m\u001b[36m(markers_ray pid=2443095)\u001b[0m /opt/venv/lib/python3.8/site-packages/numpy/core/_methods.py:181: RuntimeWarning: invalid value encountered in true_divide\n",
      "\u001b[2m\u001b[36m(markers_ray pid=2443095)\u001b[0m   ret = um.true_divide(\n"
     ]
    },
    {
     "name": "stdout",
     "output_type": "stream",
     "text": [
      "\u001b[2m\u001b[36m(markers_ray pid=2443095)\u001b[0m 2022-12-22 16:08:32,400 cisTopic     INFO     CD16+_monocyte_in_10xmultiome_VS_CD16+_monocyte_in_othertechs done!\n",
      "\t\tno DARs found for CD16+_monocyte_in_10xmultiome_VS_CD16+_monocyte_in_othertechs in master_all_1.FIXEDCELLS\n",
      "\t10xv11\n",
      "consensus_cell_type__mega  contrast                \n",
      "B cell                     ignore                      15339\n",
      "CD14+ monocyte             ignore                      38490\n",
      "CD16+ monocyte             background                   3611\n",
      "                           CD16+_monocyte_in_10xv11      791\n",
      "CD4+ T cell                ignore                      49336\n",
      "Cytotoxic T cell           ignore                      49303\n",
      "Dendritic cell             ignore                       2624\n",
      "Natural killer cell        ignore                       9733\n",
      "Name: contrast, dtype: int64\n"
     ]
    },
    {
     "name": "stderr",
     "output_type": "stream",
     "text": [
      "2022-12-22 16:09:42,545\tINFO services.py:1470 -- View the Ray dashboard at \u001b[1m\u001b[32mhttp://127.0.0.1:8265\u001b[39m\u001b[22m\n"
     ]
    },
    {
     "name": "stdout",
     "output_type": "stream",
     "text": [
      "\u001b[2m\u001b[36m(markers_ray pid=2443794)\u001b[0m 2022-12-22 16:10:02,440 cisTopic     INFO     Formatting data for CD16+_monocyte_in_10xv11_VS_CD16+_monocyte_in_othertechs\n"
     ]
    },
    {
     "name": "stderr",
     "output_type": "stream",
     "text": [
      "\u001b[2m\u001b[36m(markers_ray pid=2443794)\u001b[0m /opt/venv/lib/python3.8/site-packages/scipy/stats/_stats_py.py:8162: RuntimeWarning: invalid value encountered in double_scalars\n",
      "\u001b[2m\u001b[36m(markers_ray pid=2443794)\u001b[0m   z = (s - expected) / np.sqrt(n1*n2*(n1+n2+1)/12.0)\n"
     ]
    },
    {
     "name": "stdout",
     "output_type": "stream",
     "text": [
      "\u001b[2m\u001b[36m(markers_ray pid=2443794)\u001b[0m 2022-12-22 16:10:04,840 cisTopic     INFO     Computing p-value for CD16+_monocyte_in_10xv11_VS_CD16+_monocyte_in_othertechs\n"
     ]
    },
    {
     "name": "stderr",
     "output_type": "stream",
     "text": [
      "\u001b[2m\u001b[36m(markers_ray pid=2443794)\u001b[0m /opt/venv/lib/python3.8/site-packages/numpy/core/fromnumeric.py:3474: RuntimeWarning: Mean of empty slice.\n",
      "\u001b[2m\u001b[36m(markers_ray pid=2443794)\u001b[0m   return _methods._mean(a, axis=axis, dtype=dtype,\n",
      "\u001b[2m\u001b[36m(markers_ray pid=2443794)\u001b[0m /opt/venv/lib/python3.8/site-packages/numpy/core/_methods.py:181: RuntimeWarning: invalid value encountered in true_divide\n",
      "\u001b[2m\u001b[36m(markers_ray pid=2443794)\u001b[0m   ret = um.true_divide(\n"
     ]
    },
    {
     "name": "stdout",
     "output_type": "stream",
     "text": [
      "\u001b[2m\u001b[36m(markers_ray pid=2443794)\u001b[0m 2022-12-22 16:10:33,301 cisTopic     INFO     Computing log2FC for CD16+_monocyte_in_10xv11_VS_CD16+_monocyte_in_othertechs\n",
      "\t\tno DARs found for CD16+_monocyte_in_10xv11_VS_CD16+_monocyte_in_othertechs in master_all_1.FIXEDCELLS\n",
      "\thydrop\n",
      "consensus_cell_type__mega  contrast                \n",
      "B cell                     ignore                      15339\n",
      "CD14+ monocyte             ignore                      38490\n",
      "CD16+ monocyte             background                   4388\n",
      "                           CD16+_monocyte_in_hydrop       14\n",
      "CD4+ T cell                ignore                      49336\n",
      "Cytotoxic T cell           ignore                      49303\n",
      "Dendritic cell             ignore                       2624\n",
      "Natural killer cell        ignore                       9733\n",
      "Name: contrast, dtype: int64\n"
     ]
    },
    {
     "name": "stderr",
     "output_type": "stream",
     "text": [
      "2022-12-22 16:11:43,642\tINFO services.py:1470 -- View the Ray dashboard at \u001b[1m\u001b[32mhttp://127.0.0.1:8265\u001b[39m\u001b[22m\n"
     ]
    },
    {
     "name": "stdout",
     "output_type": "stream",
     "text": [
      "\u001b[2m\u001b[36m(markers_ray pid=2444510)\u001b[0m 2022-12-22 16:12:03,326 cisTopic     INFO     Formatting data for CD16+_monocyte_in_hydrop_VS_CD16+_monocyte_in_othertechs\n",
      "\u001b[2m\u001b[36m(markers_ray pid=2444510)\u001b[0m 2022-12-22 16:12:04,305 cisTopic     INFO     Computing p-value for CD16+_monocyte_in_hydrop_VS_CD16+_monocyte_in_othertechs\n"
     ]
    },
    {
     "name": "stderr",
     "output_type": "stream",
     "text": [
      "\u001b[2m\u001b[36m(markers_ray pid=2444510)\u001b[0m /opt/venv/lib/python3.8/site-packages/scipy/stats/_stats_py.py:8162: RuntimeWarning: invalid value encountered in double_scalars\n",
      "\u001b[2m\u001b[36m(markers_ray pid=2444510)\u001b[0m   z = (s - expected) / np.sqrt(n1*n2*(n1+n2+1)/12.0)\n"
     ]
    },
    {
     "name": "stdout",
     "output_type": "stream",
     "text": [
      "\u001b[2m\u001b[36m(markers_ray pid=2444510)\u001b[0m 2022-12-22 16:12:27,673 cisTopic     INFO     Computing log2FC for CD16+_monocyte_in_hydrop_VS_CD16+_monocyte_in_othertechs\n"
     ]
    },
    {
     "name": "stderr",
     "output_type": "stream",
     "text": [
      "\u001b[2m\u001b[36m(markers_ray pid=2444510)\u001b[0m /opt/venv/lib/python3.8/site-packages/numpy/core/fromnumeric.py:3474: RuntimeWarning: Mean of empty slice.\n",
      "\u001b[2m\u001b[36m(markers_ray pid=2444510)\u001b[0m   return _methods._mean(a, axis=axis, dtype=dtype,\n",
      "\u001b[2m\u001b[36m(markers_ray pid=2444510)\u001b[0m /opt/venv/lib/python3.8/site-packages/numpy/core/_methods.py:181: RuntimeWarning: invalid value encountered in true_divide\n",
      "\u001b[2m\u001b[36m(markers_ray pid=2444510)\u001b[0m   ret = um.true_divide(\n"
     ]
    },
    {
     "name": "stdout",
     "output_type": "stream",
     "text": [
      "\u001b[2m\u001b[36m(markers_ray pid=2444510)\u001b[0m 2022-12-22 16:12:29,178 cisTopic     INFO     CD16+_monocyte_in_hydrop_VS_CD16+_monocyte_in_othertechs done!\n",
      "\t\tno DARs found for CD16+_monocyte_in_hydrop_VS_CD16+_monocyte_in_othertechs in master_all_1.FIXEDCELLS\n",
      "\t10xv2\n",
      "consensus_cell_type__mega  contrast               \n",
      "B cell                     ignore                     15339\n",
      "CD14+ monocyte             ignore                     38490\n",
      "CD16+ monocyte             background                  3451\n",
      "                           CD16+_monocyte_in_10xv2      951\n",
      "CD4+ T cell                ignore                     49336\n",
      "Cytotoxic T cell           ignore                     49303\n",
      "Dendritic cell             ignore                      2624\n",
      "Natural killer cell        ignore                      9733\n",
      "Name: contrast, dtype: int64\n"
     ]
    },
    {
     "name": "stderr",
     "output_type": "stream",
     "text": [
      "2022-12-22 16:13:35,617\tINFO services.py:1470 -- View the Ray dashboard at \u001b[1m\u001b[32mhttp://127.0.0.1:8265\u001b[39m\u001b[22m\n"
     ]
    },
    {
     "name": "stdout",
     "output_type": "stream",
     "text": [
      "\u001b[2m\u001b[36m(markers_ray pid=2445231)\u001b[0m 2022-12-22 16:13:55,269 cisTopic     INFO     Formatting data for CD16+_monocyte_in_10xv2_VS_CD16+_monocyte_in_othertechs\n"
     ]
    },
    {
     "name": "stderr",
     "output_type": "stream",
     "text": [
      "\u001b[2m\u001b[36m(markers_ray pid=2445231)\u001b[0m /opt/venv/lib/python3.8/site-packages/scipy/stats/_stats_py.py:8162: RuntimeWarning: invalid value encountered in double_scalars\n",
      "\u001b[2m\u001b[36m(markers_ray pid=2445231)\u001b[0m   z = (s - expected) / np.sqrt(n1*n2*(n1+n2+1)/12.0)\n"
     ]
    },
    {
     "name": "stdout",
     "output_type": "stream",
     "text": [
      "\u001b[2m\u001b[36m(markers_ray pid=2445231)\u001b[0m 2022-12-22 16:13:57,956 cisTopic     INFO     Computing p-value for CD16+_monocyte_in_10xv2_VS_CD16+_monocyte_in_othertechs\n"
     ]
    },
    {
     "name": "stderr",
     "output_type": "stream",
     "text": [
      "\u001b[2m\u001b[36m(markers_ray pid=2445231)\u001b[0m /opt/venv/lib/python3.8/site-packages/numpy/core/fromnumeric.py:3474: RuntimeWarning: Mean of empty slice.\n",
      "\u001b[2m\u001b[36m(markers_ray pid=2445231)\u001b[0m   return _methods._mean(a, axis=axis, dtype=dtype,\n",
      "\u001b[2m\u001b[36m(markers_ray pid=2445231)\u001b[0m /opt/venv/lib/python3.8/site-packages/numpy/core/_methods.py:181: RuntimeWarning: invalid value encountered in true_divide\n",
      "\u001b[2m\u001b[36m(markers_ray pid=2445231)\u001b[0m   ret = um.true_divide(\n"
     ]
    },
    {
     "name": "stdout",
     "output_type": "stream",
     "text": [
      "\u001b[2m\u001b[36m(markers_ray pid=2445231)\u001b[0m 2022-12-22 16:14:27,237 cisTopic     INFO     Computing log2FC for CD16+_monocyte_in_10xv2_VS_CD16+_monocyte_in_othertechs\n",
      "\t\tno DARs found for CD16+_monocyte_in_10xv2_VS_CD16+_monocyte_in_othertechs in master_all_1.FIXEDCELLS\n",
      "\tddseq\n",
      "consensus_cell_type__mega  contrast               \n",
      "B cell                     ignore                     15339\n",
      "CD14+ monocyte             ignore                     38490\n",
      "CD16+ monocyte             background                  4399\n",
      "                           CD16+_monocyte_in_ddseq        3\n",
      "CD4+ T cell                ignore                     49336\n",
      "Cytotoxic T cell           ignore                     49303\n",
      "Dendritic cell             ignore                      2624\n",
      "Natural killer cell        ignore                      9733\n",
      "Name: contrast, dtype: int64\n"
     ]
    },
    {
     "name": "stderr",
     "output_type": "stream",
     "text": [
      "2022-12-22 16:15:36,465\tINFO services.py:1470 -- View the Ray dashboard at \u001b[1m\u001b[32mhttp://127.0.0.1:8265\u001b[39m\u001b[22m\n"
     ]
    },
    {
     "name": "stdout",
     "output_type": "stream",
     "text": [
      "\u001b[2m\u001b[36m(markers_ray pid=2445866)\u001b[0m 2022-12-22 16:15:56,315 cisTopic     INFO     Formatting data for CD16+_monocyte_in_ddseq_VS_CD16+_monocyte_in_othertechs\n",
      "\u001b[2m\u001b[36m(markers_ray pid=2445866)\u001b[0m 2022-12-22 16:15:56,552 cisTopic     INFO     Computing p-value for CD16+_monocyte_in_ddseq_VS_CD16+_monocyte_in_othertechs\n"
     ]
    },
    {
     "name": "stderr",
     "output_type": "stream",
     "text": [
      "\u001b[2m\u001b[36m(markers_ray pid=2445866)\u001b[0m /opt/venv/lib/python3.8/site-packages/scipy/stats/_stats_py.py:8162: RuntimeWarning: invalid value encountered in double_scalars\n",
      "\u001b[2m\u001b[36m(markers_ray pid=2445866)\u001b[0m   z = (s - expected) / np.sqrt(n1*n2*(n1+n2+1)/12.0)\n"
     ]
    },
    {
     "name": "stdout",
     "output_type": "stream",
     "text": [
      "\u001b[2m\u001b[36m(markers_ray pid=2445866)\u001b[0m 2022-12-22 16:16:19,876 cisTopic     INFO     Computing log2FC for CD16+_monocyte_in_ddseq_VS_CD16+_monocyte_in_othertechs\n"
     ]
    },
    {
     "name": "stderr",
     "output_type": "stream",
     "text": [
      "\u001b[2m\u001b[36m(markers_ray pid=2445866)\u001b[0m /opt/venv/lib/python3.8/site-packages/numpy/core/fromnumeric.py:3474: RuntimeWarning: Mean of empty slice.\n",
      "\u001b[2m\u001b[36m(markers_ray pid=2445866)\u001b[0m   return _methods._mean(a, axis=axis, dtype=dtype,\n",
      "\u001b[2m\u001b[36m(markers_ray pid=2445866)\u001b[0m /opt/venv/lib/python3.8/site-packages/numpy/core/_methods.py:181: RuntimeWarning: invalid value encountered in true_divide\n",
      "\u001b[2m\u001b[36m(markers_ray pid=2445866)\u001b[0m   ret = um.true_divide(\n"
     ]
    },
    {
     "name": "stdout",
     "output_type": "stream",
     "text": [
      "\t\tno DARs found for CD16+_monocyte_in_ddseq_VS_CD16+_monocyte_in_othertechs in master_all_1.FIXEDCELLS\n",
      "\tmtscatac\n",
      "consensus_cell_type__mega  contrast                  \n",
      "B cell                     ignore                        15339\n",
      "CD14+ monocyte             ignore                        38490\n",
      "CD16+ monocyte             background                     3217\n",
      "                           CD16+_monocyte_in_mtscatac     1185\n",
      "CD4+ T cell                ignore                        49336\n",
      "Cytotoxic T cell           ignore                        49303\n",
      "Dendritic cell             ignore                         2624\n",
      "Natural killer cell        ignore                         9733\n",
      "Name: contrast, dtype: int64\n"
     ]
    },
    {
     "name": "stderr",
     "output_type": "stream",
     "text": [
      "2022-12-22 16:17:34,931\tINFO services.py:1470 -- View the Ray dashboard at \u001b[1m\u001b[32mhttp://127.0.0.1:8265\u001b[39m\u001b[22m\n"
     ]
    },
    {
     "name": "stdout",
     "output_type": "stream",
     "text": [
      "\u001b[2m\u001b[36m(markers_ray pid=2446579)\u001b[0m 2022-12-22 16:17:54,849 cisTopic     INFO     Formatting data for CD16+_monocyte_in_mtscatac_VS_CD16+_monocyte_in_othertechs\n",
      "\u001b[2m\u001b[36m(markers_ray pid=2446579)\u001b[0m 2022-12-22 16:17:57,503 cisTopic     INFO     Computing p-value for CD16+_monocyte_in_mtscatac_VS_CD16+_monocyte_in_othertechs\n"
     ]
    },
    {
     "name": "stderr",
     "output_type": "stream",
     "text": [
      "\u001b[2m\u001b[36m(markers_ray pid=2446579)\u001b[0m /opt/venv/lib/python3.8/site-packages/scipy/stats/_stats_py.py:8162: RuntimeWarning: invalid value encountered in double_scalars\n",
      "\u001b[2m\u001b[36m(markers_ray pid=2446579)\u001b[0m   z = (s - expected) / np.sqrt(n1*n2*(n1+n2+1)/12.0)\n"
     ]
    },
    {
     "name": "stdout",
     "output_type": "stream",
     "text": [
      "\u001b[2m\u001b[36m(markers_ray pid=2446579)\u001b[0m 2022-12-22 16:18:28,089 cisTopic     INFO     Computing log2FC for CD16+_monocyte_in_mtscatac_VS_CD16+_monocyte_in_othertechs\n"
     ]
    },
    {
     "name": "stderr",
     "output_type": "stream",
     "text": [
      "\u001b[2m\u001b[36m(markers_ray pid=2446579)\u001b[0m /opt/venv/lib/python3.8/site-packages/numpy/core/fromnumeric.py:3474: RuntimeWarning: Mean of empty slice.\n",
      "\u001b[2m\u001b[36m(markers_ray pid=2446579)\u001b[0m   return _methods._mean(a, axis=axis, dtype=dtype,\n",
      "\u001b[2m\u001b[36m(markers_ray pid=2446579)\u001b[0m /opt/venv/lib/python3.8/site-packages/numpy/core/_methods.py:181: RuntimeWarning: invalid value encountered in true_divide\n",
      "\u001b[2m\u001b[36m(markers_ray pid=2446579)\u001b[0m   ret = um.true_divide(\n"
     ]
    },
    {
     "name": "stdout",
     "output_type": "stream",
     "text": [
      "\u001b[2m\u001b[36m(markers_ray pid=2446579)\u001b[0m 2022-12-22 16:18:29,631 cisTopic     INFO     CD16+_monocyte_in_mtscatac_VS_CD16+_monocyte_in_othertechs done!\n",
      "\t\tno DARs found for CD16+_monocyte_in_mtscatac_VS_CD16+_monocyte_in_othertechs in master_all_1.FIXEDCELLS\n",
      "\t10xv1\n",
      "consensus_cell_type__mega  contrast               \n",
      "B cell                     ignore                     15339\n",
      "CD14+ monocyte             ignore                     38490\n",
      "CD16+ monocyte             background                  3938\n",
      "                           CD16+_monocyte_in_10xv1      464\n",
      "CD4+ T cell                ignore                     49336\n",
      "Cytotoxic T cell           ignore                     49303\n",
      "Dendritic cell             ignore                      2624\n",
      "Natural killer cell        ignore                      9733\n",
      "Name: contrast, dtype: int64\n"
     ]
    },
    {
     "name": "stderr",
     "output_type": "stream",
     "text": [
      "2022-12-22 16:19:37,073\tINFO services.py:1470 -- View the Ray dashboard at \u001b[1m\u001b[32mhttp://127.0.0.1:8265\u001b[39m\u001b[22m\n"
     ]
    },
    {
     "name": "stdout",
     "output_type": "stream",
     "text": [
      "\u001b[2m\u001b[36m(markers_ray pid=2447326)\u001b[0m 2022-12-22 16:19:56,602 cisTopic     INFO     Formatting data for CD16+_monocyte_in_10xv1_VS_CD16+_monocyte_in_othertechs\n"
     ]
    },
    {
     "name": "stderr",
     "output_type": "stream",
     "text": [
      "\u001b[2m\u001b[36m(markers_ray pid=2447326)\u001b[0m /opt/venv/lib/python3.8/site-packages/scipy/stats/_stats_py.py:8162: RuntimeWarning: invalid value encountered in double_scalars\n",
      "\u001b[2m\u001b[36m(markers_ray pid=2447326)\u001b[0m   z = (s - expected) / np.sqrt(n1*n2*(n1+n2+1)/12.0)\n"
     ]
    },
    {
     "name": "stdout",
     "output_type": "stream",
     "text": [
      "\u001b[2m\u001b[36m(markers_ray pid=2447326)\u001b[0m 2022-12-22 16:19:57,569 cisTopic     INFO     Computing p-value for CD16+_monocyte_in_10xv1_VS_CD16+_monocyte_in_othertechs\n"
     ]
    },
    {
     "name": "stderr",
     "output_type": "stream",
     "text": [
      "\u001b[2m\u001b[36m(markers_ray pid=2447326)\u001b[0m /opt/venv/lib/python3.8/site-packages/numpy/core/fromnumeric.py:3474: RuntimeWarning: Mean of empty slice.\n",
      "\u001b[2m\u001b[36m(markers_ray pid=2447326)\u001b[0m   return _methods._mean(a, axis=axis, dtype=dtype,\n",
      "\u001b[2m\u001b[36m(markers_ray pid=2447326)\u001b[0m /opt/venv/lib/python3.8/site-packages/numpy/core/_methods.py:181: RuntimeWarning: invalid value encountered in true_divide\n",
      "\u001b[2m\u001b[36m(markers_ray pid=2447326)\u001b[0m   ret = um.true_divide(\n"
     ]
    },
    {
     "name": "stdout",
     "output_type": "stream",
     "text": [
      "\u001b[2m\u001b[36m(markers_ray pid=2447326)\u001b[0m 2022-12-22 16:20:24,302 cisTopic     INFO     Computing log2FC for CD16+_monocyte_in_10xv1_VS_CD16+_monocyte_in_othertechs\n",
      "\u001b[2m\u001b[36m(markers_ray pid=2447326)\u001b[0m 2022-12-22 16:20:25,799 cisTopic     INFO     CD16+_monocyte_in_10xv1_VS_CD16+_monocyte_in_othertechs done!\n",
      "\t\tno DARs found for CD16+_monocyte_in_10xv1_VS_CD16+_monocyte_in_othertechs in master_all_1.FIXEDCELLS\n",
      "Dendritic cell\n",
      "\ts3atac\n",
      "\t10xmultiome\n",
      "consensus_cell_type__mega  contrast                     \n",
      "B cell                     ignore                           15339\n",
      "CD14+ monocyte             ignore                           38490\n",
      "CD16+ monocyte             ignore                            4402\n",
      "CD4+ T cell                ignore                           49336\n",
      "Cytotoxic T cell           ignore                           49303\n",
      "Dendritic cell             background                        2245\n",
      "                           Dendritic_cell_in_10xmultiome      379\n",
      "Natural killer cell        ignore                            9733\n",
      "Name: contrast, dtype: int64\n"
     ]
    },
    {
     "name": "stderr",
     "output_type": "stream",
     "text": [
      "2022-12-22 16:21:32,794\tINFO services.py:1470 -- View the Ray dashboard at \u001b[1m\u001b[32mhttp://127.0.0.1:8265\u001b[39m\u001b[22m\n"
     ]
    },
    {
     "name": "stdout",
     "output_type": "stream",
     "text": [
      "\u001b[2m\u001b[36m(markers_ray pid=2448000)\u001b[0m 2022-12-22 16:21:51,687 cisTopic     INFO     Formatting data for Dendritic_cell_in_10xmultiome_VS_Dendritic_cell_in_othertechs\n"
     ]
    },
    {
     "name": "stderr",
     "output_type": "stream",
     "text": [
      "\u001b[2m\u001b[36m(markers_ray pid=2448000)\u001b[0m /opt/venv/lib/python3.8/site-packages/scipy/stats/_stats_py.py:8162: RuntimeWarning: invalid value encountered in double_scalars\n",
      "\u001b[2m\u001b[36m(markers_ray pid=2448000)\u001b[0m   z = (s - expected) / np.sqrt(n1*n2*(n1+n2+1)/12.0)\n"
     ]
    },
    {
     "name": "stdout",
     "output_type": "stream",
     "text": [
      "\u001b[2m\u001b[36m(markers_ray pid=2448000)\u001b[0m 2022-12-22 16:21:53,362 cisTopic     INFO     Computing p-value for Dendritic_cell_in_10xmultiome_VS_Dendritic_cell_in_othertechs\n"
     ]
    },
    {
     "name": "stderr",
     "output_type": "stream",
     "text": [
      "\u001b[2m\u001b[36m(markers_ray pid=2448000)\u001b[0m /opt/venv/lib/python3.8/site-packages/numpy/core/fromnumeric.py:3474: RuntimeWarning: Mean of empty slice.\n",
      "\u001b[2m\u001b[36m(markers_ray pid=2448000)\u001b[0m   return _methods._mean(a, axis=axis, dtype=dtype,\n",
      "\u001b[2m\u001b[36m(markers_ray pid=2448000)\u001b[0m /opt/venv/lib/python3.8/site-packages/numpy/core/_methods.py:181: RuntimeWarning: invalid value encountered in true_divide\n",
      "\u001b[2m\u001b[36m(markers_ray pid=2448000)\u001b[0m   ret = um.true_divide(\n"
     ]
    },
    {
     "name": "stdout",
     "output_type": "stream",
     "text": [
      "\u001b[2m\u001b[36m(markers_ray pid=2448000)\u001b[0m 2022-12-22 16:22:19,223 cisTopic     INFO     Computing log2FC for Dendritic_cell_in_10xmultiome_VS_Dendritic_cell_in_othertechs\n",
      "\t\tno DARs found for Dendritic_cell_in_10xmultiome_VS_Dendritic_cell_in_othertechs in master_all_1.FIXEDCELLS\n",
      "\t10xv11\n",
      "consensus_cell_type__mega  contrast                \n",
      "B cell                     ignore                      15339\n",
      "CD14+ monocyte             ignore                      38490\n",
      "CD16+ monocyte             ignore                       4402\n",
      "CD4+ T cell                ignore                      49336\n",
      "Cytotoxic T cell           ignore                      49303\n",
      "Dendritic cell             background                   2085\n",
      "                           Dendritic_cell_in_10xv11      539\n",
      "Natural killer cell        ignore                       9733\n",
      "Name: contrast, dtype: int64\n"
     ]
    },
    {
     "name": "stderr",
     "output_type": "stream",
     "text": [
      "2022-12-22 16:23:27,821\tINFO services.py:1470 -- View the Ray dashboard at \u001b[1m\u001b[32mhttp://127.0.0.1:8265\u001b[39m\u001b[22m\n"
     ]
    },
    {
     "name": "stdout",
     "output_type": "stream",
     "text": [
      "\u001b[2m\u001b[36m(markers_ray pid=2448773)\u001b[0m 2022-12-22 16:23:47,556 cisTopic     INFO     Formatting data for Dendritic_cell_in_10xv11_VS_Dendritic_cell_in_othertechs\n"
     ]
    },
    {
     "name": "stderr",
     "output_type": "stream",
     "text": [
      "\u001b[2m\u001b[36m(markers_ray pid=2448773)\u001b[0m /opt/venv/lib/python3.8/site-packages/scipy/stats/_stats_py.py:8162: RuntimeWarning: invalid value encountered in double_scalars\n",
      "\u001b[2m\u001b[36m(markers_ray pid=2448773)\u001b[0m   z = (s - expected) / np.sqrt(n1*n2*(n1+n2+1)/12.0)\n"
     ]
    },
    {
     "name": "stdout",
     "output_type": "stream",
     "text": [
      "\u001b[2m\u001b[36m(markers_ray pid=2448773)\u001b[0m 2022-12-22 16:23:49,572 cisTopic     INFO     Computing p-value for Dendritic_cell_in_10xv11_VS_Dendritic_cell_in_othertechs\n"
     ]
    },
    {
     "name": "stderr",
     "output_type": "stream",
     "text": [
      "\u001b[2m\u001b[36m(markers_ray pid=2448773)\u001b[0m /opt/venv/lib/python3.8/site-packages/numpy/core/fromnumeric.py:3474: RuntimeWarning: Mean of empty slice.\n",
      "\u001b[2m\u001b[36m(markers_ray pid=2448773)\u001b[0m   return _methods._mean(a, axis=axis, dtype=dtype,\n",
      "\u001b[2m\u001b[36m(markers_ray pid=2448773)\u001b[0m /opt/venv/lib/python3.8/site-packages/numpy/core/_methods.py:181: RuntimeWarning: invalid value encountered in true_divide\n",
      "\u001b[2m\u001b[36m(markers_ray pid=2448773)\u001b[0m   ret = um.true_divide(\n"
     ]
    },
    {
     "name": "stdout",
     "output_type": "stream",
     "text": [
      "\u001b[2m\u001b[36m(markers_ray pid=2448773)\u001b[0m 2022-12-22 16:24:16,597 cisTopic     INFO     Computing log2FC for Dendritic_cell_in_10xv11_VS_Dendritic_cell_in_othertechs\n",
      "\u001b[2m\u001b[36m(markers_ray pid=2448773)\u001b[0m 2022-12-22 16:24:18,131 cisTopic     INFO     Dendritic_cell_in_10xv11_VS_Dendritic_cell_in_othertechs done!\n",
      "\t\tno DARs found for Dendritic_cell_in_10xv11_VS_Dendritic_cell_in_othertechs in master_all_1.FIXEDCELLS\n",
      "\thydrop\n",
      "consensus_cell_type__mega  contrast                \n",
      "B cell                     ignore                      15339\n",
      "CD14+ monocyte             ignore                      38490\n",
      "CD16+ monocyte             ignore                       4402\n",
      "CD4+ T cell                ignore                      49336\n",
      "Cytotoxic T cell           ignore                      49303\n",
      "Dendritic cell             background                   2542\n",
      "                           Dendritic_cell_in_hydrop       82\n",
      "Natural killer cell        ignore                       9733\n",
      "Name: contrast, dtype: int64\n"
     ]
    },
    {
     "name": "stderr",
     "output_type": "stream",
     "text": [
      "2022-12-22 16:25:24,453\tINFO services.py:1470 -- View the Ray dashboard at \u001b[1m\u001b[32mhttp://127.0.0.1:8265\u001b[39m\u001b[22m\n"
     ]
    },
    {
     "name": "stdout",
     "output_type": "stream",
     "text": [
      "\u001b[2m\u001b[36m(markers_ray pid=2449441)\u001b[0m 2022-12-22 16:25:44,160 cisTopic     INFO     Formatting data for Dendritic_cell_in_hydrop_VS_Dendritic_cell_in_othertechs\n"
     ]
    },
    {
     "name": "stderr",
     "output_type": "stream",
     "text": [
      "\u001b[2m\u001b[36m(markers_ray pid=2449441)\u001b[0m /opt/venv/lib/python3.8/site-packages/scipy/stats/_stats_py.py:8162: RuntimeWarning: invalid value encountered in double_scalars\n",
      "\u001b[2m\u001b[36m(markers_ray pid=2449441)\u001b[0m   z = (s - expected) / np.sqrt(n1*n2*(n1+n2+1)/12.0)\n"
     ]
    },
    {
     "name": "stdout",
     "output_type": "stream",
     "text": [
      "\u001b[2m\u001b[36m(markers_ray pid=2449441)\u001b[0m 2022-12-22 16:25:45,565 cisTopic     INFO     Computing p-value for Dendritic_cell_in_hydrop_VS_Dendritic_cell_in_othertechs\n"
     ]
    },
    {
     "name": "stderr",
     "output_type": "stream",
     "text": [
      "\u001b[2m\u001b[36m(markers_ray pid=2449441)\u001b[0m /opt/venv/lib/python3.8/site-packages/numpy/core/fromnumeric.py:3474: RuntimeWarning: Mean of empty slice.\n",
      "\u001b[2m\u001b[36m(markers_ray pid=2449441)\u001b[0m   return _methods._mean(a, axis=axis, dtype=dtype,\n",
      "\u001b[2m\u001b[36m(markers_ray pid=2449441)\u001b[0m /opt/venv/lib/python3.8/site-packages/numpy/core/_methods.py:181: RuntimeWarning: invalid value encountered in true_divide\n",
      "\u001b[2m\u001b[36m(markers_ray pid=2449441)\u001b[0m   ret = um.true_divide(\n"
     ]
    },
    {
     "name": "stdout",
     "output_type": "stream",
     "text": [
      "\u001b[2m\u001b[36m(markers_ray pid=2449441)\u001b[0m 2022-12-22 16:26:09,347 cisTopic     INFO     Computing log2FC for Dendritic_cell_in_hydrop_VS_Dendritic_cell_in_othertechs\n",
      "\t\tno DARs found for Dendritic_cell_in_hydrop_VS_Dendritic_cell_in_othertechs in master_all_1.FIXEDCELLS\n",
      "\t10xv2\n",
      "consensus_cell_type__mega  contrast               \n",
      "B cell                     ignore                     15339\n",
      "CD14+ monocyte             ignore                     38490\n",
      "CD16+ monocyte             ignore                      4402\n",
      "CD4+ T cell                ignore                     49336\n",
      "Cytotoxic T cell           ignore                     49303\n",
      "Dendritic cell             background                  2006\n",
      "                           Dendritic_cell_in_10xv2      618\n",
      "Natural killer cell        ignore                      9733\n",
      "Name: contrast, dtype: int64\n"
     ]
    },
    {
     "name": "stderr",
     "output_type": "stream",
     "text": [
      "2022-12-22 16:27:17,407\tINFO services.py:1470 -- View the Ray dashboard at \u001b[1m\u001b[32mhttp://127.0.0.1:8265\u001b[39m\u001b[22m\n"
     ]
    },
    {
     "name": "stdout",
     "output_type": "stream",
     "text": [
      "\u001b[2m\u001b[36m(markers_ray pid=2450167)\u001b[0m 2022-12-22 16:27:36,493 cisTopic     INFO     Formatting data for Dendritic_cell_in_10xv2_VS_Dendritic_cell_in_othertechs\n"
     ]
    },
    {
     "name": "stderr",
     "output_type": "stream",
     "text": [
      "\u001b[2m\u001b[36m(markers_ray pid=2450167)\u001b[0m /opt/venv/lib/python3.8/site-packages/scipy/stats/_stats_py.py:8162: RuntimeWarning: invalid value encountered in double_scalars\n",
      "\u001b[2m\u001b[36m(markers_ray pid=2450167)\u001b[0m   z = (s - expected) / np.sqrt(n1*n2*(n1+n2+1)/12.0)\n"
     ]
    },
    {
     "name": "stdout",
     "output_type": "stream",
     "text": [
      "\u001b[2m\u001b[36m(markers_ray pid=2450167)\u001b[0m 2022-12-22 16:27:38,855 cisTopic     INFO     Computing p-value for Dendritic_cell_in_10xv2_VS_Dendritic_cell_in_othertechs\n"
     ]
    },
    {
     "name": "stderr",
     "output_type": "stream",
     "text": [
      "\u001b[2m\u001b[36m(markers_ray pid=2450167)\u001b[0m /opt/venv/lib/python3.8/site-packages/numpy/core/fromnumeric.py:3474: RuntimeWarning: Mean of empty slice.\n",
      "\u001b[2m\u001b[36m(markers_ray pid=2450167)\u001b[0m   return _methods._mean(a, axis=axis, dtype=dtype,\n",
      "\u001b[2m\u001b[36m(markers_ray pid=2450167)\u001b[0m /opt/venv/lib/python3.8/site-packages/numpy/core/_methods.py:181: RuntimeWarning: invalid value encountered in true_divide\n",
      "\u001b[2m\u001b[36m(markers_ray pid=2450167)\u001b[0m   ret = um.true_divide(\n"
     ]
    },
    {
     "name": "stdout",
     "output_type": "stream",
     "text": [
      "\u001b[2m\u001b[36m(markers_ray pid=2450167)\u001b[0m 2022-12-22 16:28:06,498 cisTopic     INFO     Computing log2FC for Dendritic_cell_in_10xv2_VS_Dendritic_cell_in_othertechs\n",
      "\u001b[2m\u001b[36m(markers_ray pid=2450167)\u001b[0m 2022-12-22 16:28:07,995 cisTopic     INFO     Dendritic_cell_in_10xv2_VS_Dendritic_cell_in_othertechs done!\n",
      "\t\tno DARs found for Dendritic_cell_in_10xv2_VS_Dendritic_cell_in_othertechs in master_all_1.FIXEDCELLS\n",
      "\tddseq\n",
      "consensus_cell_type__mega  contrast               \n",
      "B cell                     ignore                     15339\n",
      "CD14+ monocyte             ignore                     38490\n",
      "CD16+ monocyte             ignore                      4402\n",
      "CD4+ T cell                ignore                     49336\n",
      "Cytotoxic T cell           ignore                     49303\n",
      "Dendritic cell             background                  2399\n",
      "                           Dendritic_cell_in_ddseq      225\n",
      "Natural killer cell        ignore                      9733\n",
      "Name: contrast, dtype: int64\n"
     ]
    },
    {
     "name": "stderr",
     "output_type": "stream",
     "text": [
      "2022-12-22 16:29:22,041\tINFO services.py:1470 -- View the Ray dashboard at \u001b[1m\u001b[32mhttp://127.0.0.1:8265\u001b[39m\u001b[22m\n"
     ]
    },
    {
     "name": "stdout",
     "output_type": "stream",
     "text": [
      "\u001b[2m\u001b[36m(markers_ray pid=2450869)\u001b[0m 2022-12-22 16:29:41,784 cisTopic     INFO     Formatting data for Dendritic_cell_in_ddseq_VS_Dendritic_cell_in_othertechs\n"
     ]
    },
    {
     "name": "stderr",
     "output_type": "stream",
     "text": [
      "\u001b[2m\u001b[36m(markers_ray pid=2450869)\u001b[0m /opt/venv/lib/python3.8/site-packages/scipy/stats/_stats_py.py:8162: RuntimeWarning: invalid value encountered in double_scalars\n",
      "\u001b[2m\u001b[36m(markers_ray pid=2450869)\u001b[0m   z = (s - expected) / np.sqrt(n1*n2*(n1+n2+1)/12.0)\n"
     ]
    },
    {
     "name": "stdout",
     "output_type": "stream",
     "text": [
      "\u001b[2m\u001b[36m(markers_ray pid=2450869)\u001b[0m 2022-12-22 16:29:43,405 cisTopic     INFO     Computing p-value for Dendritic_cell_in_ddseq_VS_Dendritic_cell_in_othertechs\n"
     ]
    },
    {
     "name": "stderr",
     "output_type": "stream",
     "text": [
      "\u001b[2m\u001b[36m(markers_ray pid=2450869)\u001b[0m /opt/venv/lib/python3.8/site-packages/numpy/core/fromnumeric.py:3474: RuntimeWarning: Mean of empty slice.\n",
      "\u001b[2m\u001b[36m(markers_ray pid=2450869)\u001b[0m   return _methods._mean(a, axis=axis, dtype=dtype,\n",
      "\u001b[2m\u001b[36m(markers_ray pid=2450869)\u001b[0m /opt/venv/lib/python3.8/site-packages/numpy/core/_methods.py:181: RuntimeWarning: invalid value encountered in true_divide\n",
      "\u001b[2m\u001b[36m(markers_ray pid=2450869)\u001b[0m   ret = um.true_divide(\n"
     ]
    },
    {
     "name": "stdout",
     "output_type": "stream",
     "text": [
      "\u001b[2m\u001b[36m(markers_ray pid=2450869)\u001b[0m 2022-12-22 16:30:08,288 cisTopic     INFO     Computing log2FC for Dendritic_cell_in_ddseq_VS_Dendritic_cell_in_othertechs\n",
      "\t\tno DARs found for Dendritic_cell_in_ddseq_VS_Dendritic_cell_in_othertechs in master_all_1.FIXEDCELLS\n",
      "\tmtscatac\n",
      "consensus_cell_type__mega  contrast                  \n",
      "B cell                     ignore                        15339\n",
      "CD14+ monocyte             ignore                        38490\n",
      "CD16+ monocyte             ignore                         4402\n",
      "CD4+ T cell                ignore                        49336\n",
      "Cytotoxic T cell           ignore                        49303\n",
      "Dendritic cell             background                     2122\n",
      "                           Dendritic_cell_in_mtscatac      502\n",
      "Natural killer cell        ignore                         9733\n",
      "Name: contrast, dtype: int64\n"
     ]
    },
    {
     "name": "stderr",
     "output_type": "stream",
     "text": [
      "2022-12-22 16:31:15,800\tINFO services.py:1470 -- View the Ray dashboard at \u001b[1m\u001b[32mhttp://127.0.0.1:8265\u001b[39m\u001b[22m\n"
     ]
    },
    {
     "name": "stdout",
     "output_type": "stream",
     "text": [
      "\u001b[2m\u001b[36m(markers_ray pid=2451494)\u001b[0m 2022-12-22 16:31:35,142 cisTopic     INFO     Formatting data for Dendritic_cell_in_mtscatac_VS_Dendritic_cell_in_othertechs\n"
     ]
    },
    {
     "name": "stderr",
     "output_type": "stream",
     "text": [
      "\u001b[2m\u001b[36m(markers_ray pid=2451494)\u001b[0m /opt/venv/lib/python3.8/site-packages/scipy/stats/_stats_py.py:8162: RuntimeWarning: invalid value encountered in double_scalars\n",
      "\u001b[2m\u001b[36m(markers_ray pid=2451494)\u001b[0m   z = (s - expected) / np.sqrt(n1*n2*(n1+n2+1)/12.0)\n"
     ]
    },
    {
     "name": "stdout",
     "output_type": "stream",
     "text": [
      "\u001b[2m\u001b[36m(markers_ray pid=2451494)\u001b[0m 2022-12-22 16:31:36,872 cisTopic     INFO     Computing p-value for Dendritic_cell_in_mtscatac_VS_Dendritic_cell_in_othertechs\n"
     ]
    },
    {
     "name": "stderr",
     "output_type": "stream",
     "text": [
      "\u001b[2m\u001b[36m(markers_ray pid=2451494)\u001b[0m /opt/venv/lib/python3.8/site-packages/numpy/core/fromnumeric.py:3474: RuntimeWarning: Mean of empty slice.\n",
      "\u001b[2m\u001b[36m(markers_ray pid=2451494)\u001b[0m   return _methods._mean(a, axis=axis, dtype=dtype,\n",
      "\u001b[2m\u001b[36m(markers_ray pid=2451494)\u001b[0m /opt/venv/lib/python3.8/site-packages/numpy/core/_methods.py:181: RuntimeWarning: invalid value encountered in true_divide\n",
      "\u001b[2m\u001b[36m(markers_ray pid=2451494)\u001b[0m   ret = um.true_divide(\n"
     ]
    },
    {
     "name": "stdout",
     "output_type": "stream",
     "text": [
      "\u001b[2m\u001b[36m(markers_ray pid=2451494)\u001b[0m 2022-12-22 16:32:03,662 cisTopic     INFO     Computing log2FC for Dendritic_cell_in_mtscatac_VS_Dendritic_cell_in_othertechs\n",
      "\u001b[2m\u001b[36m(markers_ray pid=2451494)\u001b[0m 2022-12-22 16:32:05,183 cisTopic     INFO     Dendritic_cell_in_mtscatac_VS_Dendritic_cell_in_othertechs done!\n",
      "\t\tno DARs found for Dendritic_cell_in_mtscatac_VS_Dendritic_cell_in_othertechs in master_all_1.FIXEDCELLS\n",
      "\t10xv1\n",
      "consensus_cell_type__mega  contrast               \n",
      "B cell                     ignore                     15339\n",
      "CD14+ monocyte             ignore                     38490\n",
      "CD16+ monocyte             ignore                      4402\n",
      "CD4+ T cell                ignore                     49336\n",
      "Cytotoxic T cell           ignore                     49303\n",
      "Dendritic cell             background                  2383\n",
      "                           Dendritic_cell_in_10xv1      241\n",
      "Natural killer cell        ignore                      9733\n",
      "Name: contrast, dtype: int64\n"
     ]
    },
    {
     "name": "stderr",
     "output_type": "stream",
     "text": [
      "2022-12-22 16:33:11,298\tINFO services.py:1470 -- View the Ray dashboard at \u001b[1m\u001b[32mhttp://127.0.0.1:8265\u001b[39m\u001b[22m\n"
     ]
    },
    {
     "name": "stdout",
     "output_type": "stream",
     "text": [
      "\u001b[2m\u001b[36m(markers_ray pid=2452277)\u001b[0m 2022-12-22 16:33:30,684 cisTopic     INFO     Formatting data for Dendritic_cell_in_10xv1_VS_Dendritic_cell_in_othertechs\n",
      "\u001b[2m\u001b[36m(markers_ray pid=2452277)\u001b[0m 2022-12-22 16:33:31,428 cisTopic     INFO     Computing p-value for Dendritic_cell_in_10xv1_VS_Dendritic_cell_in_othertechs\n"
     ]
    },
    {
     "name": "stderr",
     "output_type": "stream",
     "text": [
      "\u001b[2m\u001b[36m(markers_ray pid=2452277)\u001b[0m /opt/venv/lib/python3.8/site-packages/scipy/stats/_stats_py.py:8162: RuntimeWarning: invalid value encountered in double_scalars\n",
      "\u001b[2m\u001b[36m(markers_ray pid=2452277)\u001b[0m   z = (s - expected) / np.sqrt(n1*n2*(n1+n2+1)/12.0)\n"
     ]
    },
    {
     "name": "stdout",
     "output_type": "stream",
     "text": [
      "\u001b[2m\u001b[36m(markers_ray pid=2452277)\u001b[0m 2022-12-22 16:33:56,464 cisTopic     INFO     Computing log2FC for Dendritic_cell_in_10xv1_VS_Dendritic_cell_in_othertechs\n"
     ]
    },
    {
     "name": "stderr",
     "output_type": "stream",
     "text": [
      "\u001b[2m\u001b[36m(markers_ray pid=2452277)\u001b[0m /opt/venv/lib/python3.8/site-packages/numpy/core/fromnumeric.py:3474: RuntimeWarning: Mean of empty slice.\n",
      "\u001b[2m\u001b[36m(markers_ray pid=2452277)\u001b[0m   return _methods._mean(a, axis=axis, dtype=dtype,\n",
      "\u001b[2m\u001b[36m(markers_ray pid=2452277)\u001b[0m /opt/venv/lib/python3.8/site-packages/numpy/core/_methods.py:181: RuntimeWarning: invalid value encountered in true_divide\n",
      "\u001b[2m\u001b[36m(markers_ray pid=2452277)\u001b[0m   ret = um.true_divide(\n"
     ]
    },
    {
     "name": "stdout",
     "output_type": "stream",
     "text": [
      "\t\tno DARs found for Dendritic_cell_in_10xv1_VS_Dendritic_cell_in_othertechs in master_all_1.FIXEDCELLS\n"
     ]
    },
    {
     "data": {
      "application/javascript": [
       "\n",
       "            setTimeout(function() {\n",
       "                var nbb_cell_id = 13;\n",
       "                var nbb_unformatted_code = \"for cell_type in cto.cell_data['consensus_cell_type__mega'].unique():\\n    print(cell_type)\\n    # df_sub = df[df['consensus_cell_type'] == cell_type]\\n    cto.cell_data[\\\"contrast\\\"] = \\\"ignore\\\"\\n    cto.cell_data.loc[cto.cell_data['consensus_cell_type__mega'] == cell_type, 'contrast'] = f\\\"{cell_type.replace(' ', '_')}_in_othertechs\\\"\\n    \\n    for tech in cto.cell_data.loc[cto.cell_data['consensus_cell_type__mega'] == cell_type]['tech'].unique():\\n        print(f\\\"\\\\t{tech}\\\")\\n        outpath = f\\\"celltype_tech_DARs/{tech}__{cell_type.replace(' ','_')}__1-2xfoldchange_DARs.bed\\\"\\n        \\n        if not os.path.exists(outpath):\\n            cto.cell_data.loc[(cto.cell_data['tech'] == tech) & (cto.cell_data['consensus_cell_type__mega'] == cell_type), 'contrast'] = f\\\"{cell_type.replace(' ', '_')}_in_{tech}\\\"\\n            \\n            print(cto.cell_data.groupby(\\\"consensus_cell_type__mega\\\")['contrast'].value_counts())\\n            \\n            contrast = [[[f\\\"{cell_type.replace(' ', '_')}_in_{tech}\\\"], [f\\\"{cell_type.replace(' ', '_')}_in_othertechs\\\"]]]\\n            markers_dict = find_diff_features(\\n                cto,\\n                normalized_imputed_acc_obj,\\n                variable='contrast',\\n                var_features=variable_regions,\\n                contrasts=contrast,\\n                adjpval_thr=0.05,\\n                log2fc_thr=np.log2(1.2),\\n                n_cpu=10,\\n            )\\n\\n            for contrast in markers_dict.keys():\\n                markers = markers_dict[contrast].index.tolist()\\n                df = pd.DataFrame(markers)\\n\\n                if len(df) == 0:\\n                    print(f\\\"\\\\t\\\\tno DARs found for {contrast} in {sample}\\\")\\n\\n                else:\\n                    df[[0,1]] = df[0].str.split(':',expand=True)\\n                    df[[1,2]] = df[1].str.split('-',expand=True)\\n                    df[3] = markers_dict[contrast].index.tolist()\\n                    df[3] = contrast.replace(' ', '_')# + '_' + df[3].astype(str)\\n                    score = markers_dict[contrast]['Log2FC']\\n                    score = score.reset_index(drop=True)\\n                    df[4] = score\\n                    df[5] = '.'\\n                    pval = markers_dict[contrast]['Adjusted_pval']\\n                    pval = pval.reset_index(drop=True)\\n                    df[6] = pval\\n                    name = contrast.replace(' ', '_')\\n\\n                    df.to_csv(outpath, sep='\\\\t', header=False, index=False)\\n                    \\n        cto.cell_data.loc[cto.cell_data['consensus_cell_type__mega'] == cell_type, 'contrast'] = \\\"background\\\"\";\n",
       "                var nbb_formatted_code = \"for cell_type in cto.cell_data[\\\"consensus_cell_type__mega\\\"].unique():\\n    print(cell_type)\\n    # df_sub = df[df['consensus_cell_type'] == cell_type]\\n    cto.cell_data[\\\"contrast\\\"] = \\\"ignore\\\"\\n    cto.cell_data.loc[\\n        cto.cell_data[\\\"consensus_cell_type__mega\\\"] == cell_type, \\\"contrast\\\"\\n    ] = f\\\"{cell_type.replace(' ', '_')}_in_othertechs\\\"\\n\\n    for tech in cto.cell_data.loc[\\n        cto.cell_data[\\\"consensus_cell_type__mega\\\"] == cell_type\\n    ][\\\"tech\\\"].unique():\\n        print(f\\\"\\\\t{tech}\\\")\\n        outpath = f\\\"celltype_tech_DARs/{tech}__{cell_type.replace(' ','_')}__1-2xfoldchange_DARs.bed\\\"\\n\\n        if not os.path.exists(outpath):\\n            cto.cell_data.loc[\\n                (cto.cell_data[\\\"tech\\\"] == tech)\\n                & (cto.cell_data[\\\"consensus_cell_type__mega\\\"] == cell_type),\\n                \\\"contrast\\\",\\n            ] = f\\\"{cell_type.replace(' ', '_')}_in_{tech}\\\"\\n\\n            print(\\n                cto.cell_data.groupby(\\\"consensus_cell_type__mega\\\")[\\n                    \\\"contrast\\\"\\n                ].value_counts()\\n            )\\n\\n            contrast = [\\n                [\\n                    [f\\\"{cell_type.replace(' ', '_')}_in_{tech}\\\"],\\n                    [f\\\"{cell_type.replace(' ', '_')}_in_othertechs\\\"],\\n                ]\\n            ]\\n            markers_dict = find_diff_features(\\n                cto,\\n                normalized_imputed_acc_obj,\\n                variable=\\\"contrast\\\",\\n                var_features=variable_regions,\\n                contrasts=contrast,\\n                adjpval_thr=0.05,\\n                log2fc_thr=np.log2(1.2),\\n                n_cpu=10,\\n            )\\n\\n            for contrast in markers_dict.keys():\\n                markers = markers_dict[contrast].index.tolist()\\n                df = pd.DataFrame(markers)\\n\\n                if len(df) == 0:\\n                    print(f\\\"\\\\t\\\\tno DARs found for {contrast} in {sample}\\\")\\n\\n                else:\\n                    df[[0, 1]] = df[0].str.split(\\\":\\\", expand=True)\\n                    df[[1, 2]] = df[1].str.split(\\\"-\\\", expand=True)\\n                    df[3] = markers_dict[contrast].index.tolist()\\n                    df[3] = contrast.replace(\\\" \\\", \\\"_\\\")  # + '_' + df[3].astype(str)\\n                    score = markers_dict[contrast][\\\"Log2FC\\\"]\\n                    score = score.reset_index(drop=True)\\n                    df[4] = score\\n                    df[5] = \\\".\\\"\\n                    pval = markers_dict[contrast][\\\"Adjusted_pval\\\"]\\n                    pval = pval.reset_index(drop=True)\\n                    df[6] = pval\\n                    name = contrast.replace(\\\" \\\", \\\"_\\\")\\n\\n                    df.to_csv(outpath, sep=\\\"\\\\t\\\", header=False, index=False)\\n\\n        cto.cell_data.loc[\\n            cto.cell_data[\\\"consensus_cell_type__mega\\\"] == cell_type, \\\"contrast\\\"\\n        ] = \\\"background\\\"\";\n",
       "                var nbb_cells = Jupyter.notebook.get_cells();\n",
       "                for (var i = 0; i < nbb_cells.length; ++i) {\n",
       "                    if (nbb_cells[i].input_prompt_number == nbb_cell_id) {\n",
       "                        if (nbb_cells[i].get_text() == nbb_unformatted_code) {\n",
       "                             nbb_cells[i].set_text(nbb_formatted_code);\n",
       "                        }\n",
       "                        break;\n",
       "                    }\n",
       "                }\n",
       "            }, 500);\n",
       "            "
      ],
      "text/plain": [
       "<IPython.core.display.Javascript object>"
      ]
     },
     "metadata": {},
     "output_type": "display_data"
    }
   ],
   "source": [
    "for cell_type in cto.cell_data['consensus_cell_type__mega'].unique():\n",
    "    print(cell_type)\n",
    "    # df_sub = df[df['consensus_cell_type'] == cell_type]\n",
    "    cto.cell_data[\"contrast\"] = \"ignore\"\n",
    "    cto.cell_data.loc[cto.cell_data['consensus_cell_type__mega'] == cell_type, 'contrast'] = f\"{cell_type.replace(' ', '_')}_in_othertechs\"\n",
    "    \n",
    "    for tech in cto.cell_data.loc[cto.cell_data['consensus_cell_type__mega'] == cell_type]['tech'].unique():\n",
    "        print(f\"\\t{tech}\")\n",
    "        outpath = f\"celltype_tech_DARs/{tech}__{cell_type.replace(' ','_')}__1-2xfoldchange_DARs.bed\"\n",
    "        \n",
    "        if not os.path.exists(outpath):\n",
    "            cto.cell_data.loc[(cto.cell_data['tech'] == tech) & (cto.cell_data['consensus_cell_type__mega'] == cell_type), 'contrast'] = f\"{cell_type.replace(' ', '_')}_in_{tech}\"\n",
    "            \n",
    "            print(cto.cell_data.groupby(\"consensus_cell_type__mega\")['contrast'].value_counts())\n",
    "            \n",
    "            contrast = [[[f\"{cell_type.replace(' ', '_')}_in_{tech}\"], [f\"{cell_type.replace(' ', '_')}_in_othertechs\"]]]\n",
    "            markers_dict = find_diff_features(\n",
    "                cto,\n",
    "                normalized_imputed_acc_obj,\n",
    "                variable='contrast',\n",
    "                var_features=variable_regions,\n",
    "                contrasts=contrast,\n",
    "                adjpval_thr=0.05,\n",
    "                log2fc_thr=np.log2(1.2),\n",
    "                n_cpu=10,\n",
    "            )\n",
    "\n",
    "            for contrast in markers_dict.keys():\n",
    "                markers = markers_dict[contrast].index.tolist()\n",
    "                df = pd.DataFrame(markers)\n",
    "\n",
    "                if len(df) == 0:\n",
    "                    print(f\"\\t\\tno DARs found for {contrast} in {sample}\")\n",
    "\n",
    "                else:\n",
    "                    df[[0,1]] = df[0].str.split(':',expand=True)\n",
    "                    df[[1,2]] = df[1].str.split('-',expand=True)\n",
    "                    df[3] = markers_dict[contrast].index.tolist()\n",
    "                    df[3] = contrast.replace(' ', '_')# + '_' + df[3].astype(str)\n",
    "                    score = markers_dict[contrast]['Log2FC']\n",
    "                    score = score.reset_index(drop=True)\n",
    "                    df[4] = score\n",
    "                    df[5] = '.'\n",
    "                    pval = markers_dict[contrast]['Adjusted_pval']\n",
    "                    pval = pval.reset_index(drop=True)\n",
    "                    df[6] = pval\n",
    "                    name = contrast.replace(' ', '_')\n",
    "\n",
    "                    df.to_csv(outpath, sep='\\t', header=False, index=False)\n",
    "                    \n",
    "        cto.cell_data.loc[cto.cell_data['consensus_cell_type__mega'] == cell_type, 'contrast'] = \"background\""
   ]
  },
  {
   "cell_type": "markdown",
   "id": "35d430f9-9547-4db2-816d-a6e2c7e30ffe",
   "metadata": {},
   "source": [
    "# calculate male/female DARs"
   ]
  },
  {
   "cell_type": "markdown",
   "id": "933f22b1-785f-44bd-856b-0ebe05baa40d",
   "metadata": {
    "execution": {
     "iopub.execute_input": "2022-11-17T18:07:22.774913Z",
     "iopub.status.busy": "2022-11-17T18:07:22.774085Z",
     "iopub.status.idle": "2022-11-17T18:07:22.783713Z",
     "shell.execute_reply": "2022-11-17T18:07:22.783044Z",
     "shell.execute_reply.started": "2022-11-17T18:07:22.774849Z"
    },
    "tags": []
   },
   "source": [
    "import seaborn as sns"
   ]
  },
  {
   "cell_type": "markdown",
   "id": "d4166322-9b74-4e69-a3e0-58c6717527b4",
   "metadata": {
    "execution": {
     "iopub.execute_input": "2022-11-17T18:10:36.974649Z",
     "iopub.status.busy": "2022-11-17T18:10:36.973928Z",
     "iopub.status.idle": "2022-11-17T18:10:37.762945Z",
     "shell.execute_reply": "2022-11-17T18:10:37.762419Z",
     "shell.execute_reply.started": "2022-11-17T18:10:36.974604Z"
    },
    "tags": []
   },
   "source": [
    "test_df = df.groupby('seurat_cell_type')['consensus_cell_type'].value_counts().unstack().fillna(0)\n",
    "test_df_normalized = test_df.div(test_df.sum(axis=1), axis=0)\n",
    "\n",
    "sns.heatmap(test_df_normalized)\n",
    "plt.tight_layout()\n",
    "plt.savefig('plots_pub/cell_origin_heatmap.png', dpi=600, facecolor='white')"
   ]
  },
  {
   "cell_type": "code",
   "execution_count": 16,
   "id": "333fac5a-077d-4569-a457-01c8971ab2ac",
   "metadata": {
    "execution": {
     "iopub.execute_input": "2023-03-08T16:17:51.794367Z",
     "iopub.status.busy": "2023-03-08T16:17:51.792675Z",
     "iopub.status.idle": "2023-03-08T16:18:17.092885Z",
     "shell.execute_reply": "2023-03-08T16:18:17.091788Z",
     "shell.execute_reply.started": "2023-03-08T16:17:51.794304Z"
    },
    "tags": []
   },
   "outputs": [
    {
     "data": {
      "application/javascript": [
       "\n",
       "            setTimeout(function() {\n",
       "                var nbb_cell_id = 16;\n",
       "                var nbb_unformatted_code = \"with open(\\\"cistopic_objects_master/master_all_1.FIXEDCELLS__cto.scrublet0-4.fmx.singlets.model_24topics.dimreduc.consensus_harmony.pkl\\\", 'rb') as f:\\n    cto = pickle.load(f)\";\n",
       "                var nbb_formatted_code = \"with open(\\n    \\\"cistopic_objects_master/master_all_1.FIXEDCELLS__cto.scrublet0-4.fmx.singlets.model_24topics.dimreduc.consensus_harmony.pkl\\\",\\n    \\\"rb\\\",\\n) as f:\\n    cto = pickle.load(f)\";\n",
       "                var nbb_cells = Jupyter.notebook.get_cells();\n",
       "                for (var i = 0; i < nbb_cells.length; ++i) {\n",
       "                    if (nbb_cells[i].input_prompt_number == nbb_cell_id) {\n",
       "                        if (nbb_cells[i].get_text() == nbb_unformatted_code) {\n",
       "                             nbb_cells[i].set_text(nbb_formatted_code);\n",
       "                        }\n",
       "                        break;\n",
       "                    }\n",
       "                }\n",
       "            }, 500);\n",
       "            "
      ],
      "text/plain": [
       "<IPython.core.display.Javascript object>"
      ]
     },
     "metadata": {},
     "output_type": "display_data"
    }
   ],
   "source": [
    "with open(\"cistopic_objects_master/master_all_1.FIXEDCELLS__cto.scrublet0-4.fmx.singlets.model_24topics.dimreduc.consensus_harmony.pkl\", 'rb') as f:\n",
    "    cto = pickle.load(f)"
   ]
  },
  {
   "cell_type": "code",
   "execution_count": 9,
   "id": "dd7bf808-d40c-4117-81f4-c2d62a7062d8",
   "metadata": {
    "execution": {
     "iopub.execute_input": "2023-03-08T15:59:50.774672Z",
     "iopub.status.busy": "2023-03-08T15:59:50.774451Z",
     "iopub.status.idle": "2023-03-08T16:06:43.531875Z",
     "shell.execute_reply": "2023-03-08T16:06:43.530560Z",
     "shell.execute_reply.started": "2023-03-08T15:59:50.774653Z"
    },
    "tags": []
   },
   "outputs": [
    {
     "data": {
      "application/javascript": [
       "\n",
       "            setTimeout(function() {\n",
       "                var nbb_cell_id = 9;\n",
       "                var nbb_unformatted_code = \"with open(\\\"downstream_analysis/imputed_acc_objs/master_all_1.FIXEDCELLS__normalized_imputed_acc_obs.pkl\\\", 'rb') as f:\\n    normalized_imputed_acc_obj = pickle.load(f)\";\n",
       "                var nbb_formatted_code = \"with open(\\n    \\\"downstream_analysis/imputed_acc_objs/master_all_1.FIXEDCELLS__normalized_imputed_acc_obs.pkl\\\",\\n    \\\"rb\\\",\\n) as f:\\n    normalized_imputed_acc_obj = pickle.load(f)\";\n",
       "                var nbb_cells = Jupyter.notebook.get_cells();\n",
       "                for (var i = 0; i < nbb_cells.length; ++i) {\n",
       "                    if (nbb_cells[i].input_prompt_number == nbb_cell_id) {\n",
       "                        if (nbb_cells[i].get_text() == nbb_unformatted_code) {\n",
       "                             nbb_cells[i].set_text(nbb_formatted_code);\n",
       "                        }\n",
       "                        break;\n",
       "                    }\n",
       "                }\n",
       "            }, 500);\n",
       "            "
      ],
      "text/plain": [
       "<IPython.core.display.Javascript object>"
      ]
     },
     "metadata": {},
     "output_type": "display_data"
    }
   ],
   "source": [
    "with open(\"downstream_analysis/imputed_acc_objs/master_all_1.FIXEDCELLS__normalized_imputed_acc_obs.pkl\", 'rb') as f:\n",
    "    normalized_imputed_acc_obj = pickle.load(f)"
   ]
  },
  {
   "cell_type": "code",
   "execution_count": 11,
   "id": "09e73469-25d0-462d-bab2-154e38e27946",
   "metadata": {
    "execution": {
     "iopub.execute_input": "2023-03-08T16:07:40.239984Z",
     "iopub.status.busy": "2023-03-08T16:07:40.239073Z",
     "iopub.status.idle": "2023-03-08T16:11:42.822775Z",
     "shell.execute_reply": "2023-03-08T16:11:42.821485Z",
     "shell.execute_reply.started": "2023-03-08T16:07:40.239925Z"
    },
    "tags": []
   },
   "outputs": [
    {
     "name": "stdout",
     "output_type": "stream",
     "text": [
      "find_highly_variable_features\n",
      "2023-03-08 17:07:40,247 cisTopic     INFO     Calculating mean\n",
      "2023-03-08 17:08:14,743 cisTopic     INFO     Calculating variance\n"
     ]
    },
    {
     "data": {
      "image/png": "[encoded data removed]",
      "text/plain": [
       "<Figure size 432x288 with 1 Axes>"
      ]
     },
     "metadata": {
      "needs_background": "light"
     },
     "output_type": "display_data"
    },
    {
     "name": "stdout",
     "output_type": "stream",
     "text": [
      "2023-03-08 17:11:42,795 cisTopic     INFO     Done!\n"
     ]
    },
    {
     "data": {
      "application/javascript": [
       "\n",
       "            setTimeout(function() {\n",
       "                var nbb_cell_id = 11;\n",
       "                var nbb_unformatted_code = \"print(\\\"find_highly_variable_features\\\")\\nvariable_regions = find_highly_variable_features(\\n    normalized_imputed_acc_obj,\\n    min_disp = 0.05,\\n    min_mean = 0.0125,\\n    max_mean = 3,\\n    max_disp = np.inf,\\n    n_bins=20,\\n    n_top_features=None,\\n    plot=True,\\n    save=f'plots_qc/test__HVR.png'\\n)\";\n",
       "                var nbb_formatted_code = \"print(\\\"find_highly_variable_features\\\")\\nvariable_regions = find_highly_variable_features(\\n    normalized_imputed_acc_obj,\\n    min_disp=0.05,\\n    min_mean=0.0125,\\n    max_mean=3,\\n    max_disp=np.inf,\\n    n_bins=20,\\n    n_top_features=None,\\n    plot=True,\\n    save=f\\\"plots_qc/test__HVR.png\\\",\\n)\";\n",
       "                var nbb_cells = Jupyter.notebook.get_cells();\n",
       "                for (var i = 0; i < nbb_cells.length; ++i) {\n",
       "                    if (nbb_cells[i].input_prompt_number == nbb_cell_id) {\n",
       "                        if (nbb_cells[i].get_text() == nbb_unformatted_code) {\n",
       "                             nbb_cells[i].set_text(nbb_formatted_code);\n",
       "                        }\n",
       "                        break;\n",
       "                    }\n",
       "                }\n",
       "            }, 500);\n",
       "            "
      ],
      "text/plain": [
       "<IPython.core.display.Javascript object>"
      ]
     },
     "metadata": {},
     "output_type": "display_data"
    }
   ],
   "source": [
    "print(\"find_highly_variable_features\")\n",
    "variable_regions = find_highly_variable_features(\n",
    "    normalized_imputed_acc_obj,\n",
    "    min_disp = 0.05,\n",
    "    min_mean = 0.0125,\n",
    "    max_mean = 3,\n",
    "    max_disp = np.inf,\n",
    "    n_bins=20,\n",
    "    n_top_features=None,\n",
    "    plot=True,\n",
    "    save=f'plots_qc/test__HVR.png'\n",
    ")"
   ]
  },
  {
   "cell_type": "code",
   "execution_count": 50,
   "id": "7d6ae4b7-6e1d-4eb0-8347-67765b6a2e45",
   "metadata": {
    "execution": {
     "iopub.execute_input": "2023-03-08T16:50:04.997073Z",
     "iopub.status.busy": "2023-03-08T16:50:04.996172Z",
     "iopub.status.idle": "2023-03-08T16:50:05.036538Z",
     "shell.execute_reply": "2023-03-08T16:50:05.035570Z",
     "shell.execute_reply.started": "2023-03-08T16:50:04.997013Z"
    },
    "tags": []
   },
   "outputs": [
    {
     "name": "stdout",
     "output_type": "stream",
     "text": [
      "Cytotoxic T cell\n",
      "CD4+ T cell\n",
      "Natural killer cell\n",
      "CD14+ monocyte\n",
      "B cell\n",
      "CD16+ monocyte\n",
      "Dendritic cell\n"
     ]
    },
    {
     "data": {
      "application/javascript": [
       "\n",
       "            setTimeout(function() {\n",
       "                var nbb_cell_id = 50;\n",
       "                var nbb_unformatted_code = \"contrasts = []\\nfor cell_type in cto.cell_data[\\\"harmony_consensus_cell_type__mega\\\"].unique():\\n    print(cell_type)\\n    ct_a = \\\"sampleA_\\\" + cell_type.replace(\\\" \\\", \\\"_\\\")\\n    ct_b = \\\"sampleB_\\\" + cell_type.replace(\\\" \\\", \\\"_\\\")\\n    contrast = [[[ct_a], [ct_b]], [[ct_b], [ct_a]]]\\n    contrasts = contrasts + contrast\";\n",
       "                var nbb_formatted_code = \"contrasts = []\\nfor cell_type in cto.cell_data[\\\"harmony_consensus_cell_type__mega\\\"].unique():\\n    print(cell_type)\\n    ct_a = \\\"sampleA_\\\" + cell_type.replace(\\\" \\\", \\\"_\\\")\\n    ct_b = \\\"sampleB_\\\" + cell_type.replace(\\\" \\\", \\\"_\\\")\\n    contrast = [[[ct_a], [ct_b]], [[ct_b], [ct_a]]]\\n    contrasts = contrasts + contrast\";\n",
       "                var nbb_cells = Jupyter.notebook.get_cells();\n",
       "                for (var i = 0; i < nbb_cells.length; ++i) {\n",
       "                    if (nbb_cells[i].input_prompt_number == nbb_cell_id) {\n",
       "                        if (nbb_cells[i].get_text() == nbb_unformatted_code) {\n",
       "                             nbb_cells[i].set_text(nbb_formatted_code);\n",
       "                        }\n",
       "                        break;\n",
       "                    }\n",
       "                }\n",
       "            }, 500);\n",
       "            "
      ],
      "text/plain": [
       "<IPython.core.display.Javascript object>"
      ]
     },
     "metadata": {},
     "output_type": "display_data"
    }
   ],
   "source": [
    "contrasts = []\n",
    "for cell_type in cto.cell_data[\"harmony_consensus_cell_type__mega\"].unique():\n",
    "    print(cell_type)\n",
    "    ct_a = \"sampleA_\" + cell_type.replace(\" \", \"_\")\n",
    "    ct_b = \"sampleB_\" + cell_type.replace(\" \", \"_\")\n",
    "    contrast = [[[ct_a], [ct_b]], [[ct_b], [ct_a]]]\n",
    "    contrasts = contrasts + contrast"
   ]
  },
  {
   "cell_type": "code",
   "execution_count": 51,
   "id": "522ac91f-61c4-4afc-915b-a6e5ee2cdd18",
   "metadata": {
    "execution": {
     "iopub.execute_input": "2023-03-08T16:50:07.327057Z",
     "iopub.status.busy": "2023-03-08T16:50:07.326169Z",
     "iopub.status.idle": "2023-03-08T16:50:07.343999Z",
     "shell.execute_reply": "2023-03-08T16:50:07.342292Z",
     "shell.execute_reply.started": "2023-03-08T16:50:07.326996Z"
    },
    "tags": []
   },
   "outputs": [
    {
     "data": {
      "text/plain": [
       "[[['sampleA_Cytotoxic_T_cell'], ['sampleB_Cytotoxic_T_cell']],\n",
       " [['sampleB_Cytotoxic_T_cell'], ['sampleA_Cytotoxic_T_cell']],\n",
       " [['sampleA_CD4+_T_cell'], ['sampleB_CD4+_T_cell']],\n",
       " [['sampleB_CD4+_T_cell'], ['sampleA_CD4+_T_cell']],\n",
       " [['sampleA_Natural_killer_cell'], ['sampleB_Natural_killer_cell']],\n",
       " [['sampleB_Natural_killer_cell'], ['sampleA_Natural_killer_cell']],\n",
       " [['sampleA_CD14+_monocyte'], ['sampleB_CD14+_monocyte']],\n",
       " [['sampleB_CD14+_monocyte'], ['sampleA_CD14+_monocyte']],\n",
       " [['sampleA_B_cell'], ['sampleB_B_cell']],\n",
       " [['sampleB_B_cell'], ['sampleA_B_cell']],\n",
       " [['sampleA_CD16+_monocyte'], ['sampleB_CD16+_monocyte']],\n",
       " [['sampleB_CD16+_monocyte'], ['sampleA_CD16+_monocyte']],\n",
       " [['sampleA_Dendritic_cell'], ['sampleB_Dendritic_cell']],\n",
       " [['sampleB_Dendritic_cell'], ['sampleA_Dendritic_cell']]]"
      ]
     },
     "execution_count": 51,
     "metadata": {},
     "output_type": "execute_result"
    },
    {
     "data": {
      "application/javascript": [
       "\n",
       "            setTimeout(function() {\n",
       "                var nbb_cell_id = 51;\n",
       "                var nbb_unformatted_code = \"contrasts\";\n",
       "                var nbb_formatted_code = \"contrasts\";\n",
       "                var nbb_cells = Jupyter.notebook.get_cells();\n",
       "                for (var i = 0; i < nbb_cells.length; ++i) {\n",
       "                    if (nbb_cells[i].input_prompt_number == nbb_cell_id) {\n",
       "                        if (nbb_cells[i].get_text() == nbb_unformatted_code) {\n",
       "                             nbb_cells[i].set_text(nbb_formatted_code);\n",
       "                        }\n",
       "                        break;\n",
       "                    }\n",
       "                }\n",
       "            }, 500);\n",
       "            "
      ],
      "text/plain": [
       "<IPython.core.display.Javascript object>"
      ]
     },
     "metadata": {},
     "output_type": "display_data"
    }
   ],
   "source": [
    "contrasts"
   ]
  },
  {
   "cell_type": "code",
   "execution_count": 58,
   "id": "01fab5a3-3445-4809-ba3c-562289c022dd",
   "metadata": {
    "execution": {
     "iopub.execute_input": "2023-03-08T16:51:05.602561Z",
     "iopub.status.busy": "2023-03-08T16:51:05.601019Z",
     "iopub.status.idle": "2023-03-08T16:51:05.712273Z",
     "shell.execute_reply": "2023-03-08T16:51:05.711228Z",
     "shell.execute_reply.started": "2023-03-08T16:51:05.602501Z"
    },
    "tags": []
   },
   "outputs": [
    {
     "data": {
      "application/javascript": [
       "\n",
       "            setTimeout(function() {\n",
       "                var nbb_cell_id = 58;\n",
       "                var nbb_unformatted_code = \"cto.cell_data[\\\"harmony_consensus_cell_type__mega\\\"]  = [x.replace(\\\" \\\", \\\"_\\\") for x in cto.cell_data[\\\"harmony_consensus_cell_type__mega\\\"]]\";\n",
       "                var nbb_formatted_code = \"cto.cell_data[\\\"harmony_consensus_cell_type__mega\\\"] = [\\n    x.replace(\\\" \\\", \\\"_\\\") for x in cto.cell_data[\\\"harmony_consensus_cell_type__mega\\\"]\\n]\";\n",
       "                var nbb_cells = Jupyter.notebook.get_cells();\n",
       "                for (var i = 0; i < nbb_cells.length; ++i) {\n",
       "                    if (nbb_cells[i].input_prompt_number == nbb_cell_id) {\n",
       "                        if (nbb_cells[i].get_text() == nbb_unformatted_code) {\n",
       "                             nbb_cells[i].set_text(nbb_formatted_code);\n",
       "                        }\n",
       "                        break;\n",
       "                    }\n",
       "                }\n",
       "            }, 500);\n",
       "            "
      ],
      "text/plain": [
       "<IPython.core.display.Javascript object>"
      ]
     },
     "metadata": {},
     "output_type": "display_data"
    }
   ],
   "source": [
    "cto.cell_data[\"harmony_consensus_cell_type__mega\"]  = [x.replace(\" \", \"_\") for x in cto.cell_data[\"harmony_consensus_cell_type__mega\"]]"
   ]
  },
  {
   "cell_type": "code",
   "execution_count": 59,
   "id": "5e6a0394-44ed-4b3f-a955-52546408d74d",
   "metadata": {
    "execution": {
     "iopub.execute_input": "2023-03-08T16:51:12.570725Z",
     "iopub.status.busy": "2023-03-08T16:51:12.569181Z",
     "iopub.status.idle": "2023-03-08T16:51:12.637835Z",
     "shell.execute_reply": "2023-03-08T16:51:12.636834Z",
     "shell.execute_reply.started": "2023-03-08T16:51:12.570663Z"
    },
    "tags": []
   },
   "outputs": [
    {
     "data": {
      "application/javascript": [
       "\n",
       "            setTimeout(function() {\n",
       "                var nbb_cell_id = 59;\n",
       "                var nbb_unformatted_code = \"cto.cell_data[\\\"fmx_sample__harmony_consensus_cell_type__mega\\\"] = cto.cell_data[\\\"fmx_sample\\\"] + \\\"_\\\" + cto.cell_data[\\\"harmony_consensus_cell_type__mega\\\"]\";\n",
       "                var nbb_formatted_code = \"cto.cell_data[\\\"fmx_sample__harmony_consensus_cell_type__mega\\\"] = (\\n    cto.cell_data[\\\"fmx_sample\\\"]\\n    + \\\"_\\\"\\n    + cto.cell_data[\\\"harmony_consensus_cell_type__mega\\\"]\\n)\";\n",
       "                var nbb_cells = Jupyter.notebook.get_cells();\n",
       "                for (var i = 0; i < nbb_cells.length; ++i) {\n",
       "                    if (nbb_cells[i].input_prompt_number == nbb_cell_id) {\n",
       "                        if (nbb_cells[i].get_text() == nbb_unformatted_code) {\n",
       "                             nbb_cells[i].set_text(nbb_formatted_code);\n",
       "                        }\n",
       "                        break;\n",
       "                    }\n",
       "                }\n",
       "            }, 500);\n",
       "            "
      ],
      "text/plain": [
       "<IPython.core.display.Javascript object>"
      ]
     },
     "metadata": {},
     "output_type": "display_data"
    }
   ],
   "source": [
    "cto.cell_data[\"fmx_sample__harmony_consensus_cell_type__mega\"] = cto.cell_data[\"fmx_sample\"] + \"_\" + cto.cell_data[\"harmony_consensus_cell_type__mega\"]"
   ]
  },
  {
   "cell_type": "code",
   "execution_count": 60,
   "id": "8c09e96b-38a9-4121-865b-d679bada65de",
   "metadata": {
    "execution": {
     "iopub.execute_input": "2023-03-08T16:51:13.737989Z",
     "iopub.status.busy": "2023-03-08T16:51:13.736501Z",
     "iopub.status.idle": "2023-03-08T16:51:13.756611Z",
     "shell.execute_reply": "2023-03-08T16:51:13.755284Z",
     "shell.execute_reply.started": "2023-03-08T16:51:13.737928Z"
    },
    "tags": []
   },
   "outputs": [
    {
     "data": {
      "text/plain": [
       "TCCTGAGCGAACGTCAGGGAACCGCG___OHS_s3atac_2.FIXEDCELLS                         NaN\n",
       "ACGCGACGACCGGAAGAAGCACGGAC___OHS_s3atac_2.FIXEDCELLS                         NaN\n",
       "GGTTAGTTCAAGTAGGACTATCGCAC___OHS_s3atac_2.FIXEDCELLS                         NaN\n",
       "CTCTCTACTGAACGGCGTCTGCTTCC___OHS_s3atac_2.FIXEDCELLS                         NaN\n",
       "ATTGAGGAAATGATGCTCCTGCTTCC___OHS_s3atac_2.FIXEDCELLS                         NaN\n",
       "                                                                  ...           \n",
       "TTCTTAGACTTCTGAG___MDC_mtscatac_1.FIXEDCELLS                 sampleB_CD4+_T_cell\n",
       "CATCAGAACCCGGACT___MDC_mtscatac_1.FIXEDCELLS            sampleA_Cytotoxic_T_cell\n",
       "GAACCATACTACACTG___MDC_mtscatac_1.FIXEDCELLS            sampleA_Cytotoxic_T_cell\n",
       "CAGTTGATGGCACGCT___MDC_mtscatac_1.FIXEDCELLS            sampleA_Cytotoxic_T_cell\n",
       "ACCTCGTTGAGTTGAA___MDC_mtscatac_1.FIXEDCELLS            sampleA_Cytotoxic_T_cell\n",
       "Name: fmx_sample__harmony_consensus_cell_type__mega, Length: 169227, dtype: object"
      ]
     },
     "execution_count": 60,
     "metadata": {},
     "output_type": "execute_result"
    },
    {
     "data": {
      "application/javascript": [
       "\n",
       "            setTimeout(function() {\n",
       "                var nbb_cell_id = 60;\n",
       "                var nbb_unformatted_code = \"cto.cell_data[\\\"fmx_sample__harmony_consensus_cell_type__mega\\\"]\";\n",
       "                var nbb_formatted_code = \"cto.cell_data[\\\"fmx_sample__harmony_consensus_cell_type__mega\\\"]\";\n",
       "                var nbb_cells = Jupyter.notebook.get_cells();\n",
       "                for (var i = 0; i < nbb_cells.length; ++i) {\n",
       "                    if (nbb_cells[i].input_prompt_number == nbb_cell_id) {\n",
       "                        if (nbb_cells[i].get_text() == nbb_unformatted_code) {\n",
       "                             nbb_cells[i].set_text(nbb_formatted_code);\n",
       "                        }\n",
       "                        break;\n",
       "                    }\n",
       "                }\n",
       "            }, 500);\n",
       "            "
      ],
      "text/plain": [
       "<IPython.core.display.Javascript object>"
      ]
     },
     "metadata": {},
     "output_type": "display_data"
    }
   ],
   "source": [
    "cto.cell_data[\"fmx_sample__harmony_consensus_cell_type__mega\"]"
   ]
  },
  {
   "cell_type": "code",
   "execution_count": 61,
   "id": "a2c01b13-5097-4603-90d0-3a14a92ecd19",
   "metadata": {
    "execution": {
     "iopub.execute_input": "2023-03-08T16:51:15.017827Z",
     "iopub.status.busy": "2023-03-08T16:51:15.016362Z",
     "iopub.status.idle": "2023-03-08T16:51:15.028764Z",
     "shell.execute_reply": "2023-03-08T16:51:15.027279Z",
     "shell.execute_reply.started": "2023-03-08T16:51:15.017766Z"
    },
    "tags": []
   },
   "outputs": [
    {
     "data": {
      "application/javascript": [
       "\n",
       "            setTimeout(function() {\n",
       "                var nbb_cell_id = 61;\n",
       "                var nbb_unformatted_code = \"outpath = \\\"merged_male_female_DARs/\\\"\";\n",
       "                var nbb_formatted_code = \"outpath = \\\"merged_male_female_DARs/\\\"\";\n",
       "                var nbb_cells = Jupyter.notebook.get_cells();\n",
       "                for (var i = 0; i < nbb_cells.length; ++i) {\n",
       "                    if (nbb_cells[i].input_prompt_number == nbb_cell_id) {\n",
       "                        if (nbb_cells[i].get_text() == nbb_unformatted_code) {\n",
       "                             nbb_cells[i].set_text(nbb_formatted_code);\n",
       "                        }\n",
       "                        break;\n",
       "                    }\n",
       "                }\n",
       "            }, 500);\n",
       "            "
      ],
      "text/plain": [
       "<IPython.core.display.Javascript object>"
      ]
     },
     "metadata": {},
     "output_type": "display_data"
    }
   ],
   "source": [
    "outpath = \"merged_male_female_DARs/\""
   ]
  },
  {
   "cell_type": "code",
   "execution_count": 62,
   "id": "a7bf852c-0bb9-43df-81b1-9f235b1a2cb0",
   "metadata": {
    "execution": {
     "iopub.execute_input": "2023-03-08T16:51:15.335139Z",
     "iopub.status.busy": "2023-03-08T16:51:15.333720Z",
     "iopub.status.idle": "2023-03-08T16:51:15.483605Z",
     "shell.execute_reply": "2023-03-08T16:51:15.482271Z",
     "shell.execute_reply.started": "2023-03-08T16:51:15.335069Z"
    },
    "tags": []
   },
   "outputs": [
    {
     "data": {
      "application/javascript": [
       "\n",
       "            setTimeout(function() {\n",
       "                var nbb_cell_id = 62;\n",
       "                var nbb_unformatted_code = \"bcs = list(cto.cell_data[~cto.cell_data[\\\"fmx_sample__harmony_consensus_cell_type__mega\\\"].isna()].index)\";\n",
       "                var nbb_formatted_code = \"bcs = list(\\n    cto.cell_data[\\n        ~cto.cell_data[\\\"fmx_sample__harmony_consensus_cell_type__mega\\\"].isna()\\n    ].index\\n)\";\n",
       "                var nbb_cells = Jupyter.notebook.get_cells();\n",
       "                for (var i = 0; i < nbb_cells.length; ++i) {\n",
       "                    if (nbb_cells[i].input_prompt_number == nbb_cell_id) {\n",
       "                        if (nbb_cells[i].get_text() == nbb_unformatted_code) {\n",
       "                             nbb_cells[i].set_text(nbb_formatted_code);\n",
       "                        }\n",
       "                        break;\n",
       "                    }\n",
       "                }\n",
       "            }, 500);\n",
       "            "
      ],
      "text/plain": [
       "<IPython.core.display.Javascript object>"
      ]
     },
     "metadata": {},
     "output_type": "display_data"
    }
   ],
   "source": [
    "bcs = list(cto.cell_data[~cto.cell_data[\"fmx_sample__harmony_consensus_cell_type__mega\"].isna()].index)"
   ]
  },
  {
   "cell_type": "code",
   "execution_count": 63,
   "id": "dc5048ac-0467-4344-a34d-161a946fb644",
   "metadata": {
    "execution": {
     "iopub.execute_input": "2023-03-08T16:51:16.385312Z",
     "iopub.status.busy": "2023-03-08T16:51:16.383819Z",
     "iopub.status.idle": "2023-03-08T16:51:30.444011Z",
     "shell.execute_reply": "2023-03-08T16:51:30.442960Z",
     "shell.execute_reply.started": "2023-03-08T16:51:16.385250Z"
    },
    "tags": []
   },
   "outputs": [
    {
     "data": {
      "application/javascript": [
       "\n",
       "            setTimeout(function() {\n",
       "                var nbb_cell_id = 63;\n",
       "                var nbb_unformatted_code = \"cto_subset = cto.subset(cells=bcs, copy=True)\";\n",
       "                var nbb_formatted_code = \"cto_subset = cto.subset(cells=bcs, copy=True)\";\n",
       "                var nbb_cells = Jupyter.notebook.get_cells();\n",
       "                for (var i = 0; i < nbb_cells.length; ++i) {\n",
       "                    if (nbb_cells[i].input_prompt_number == nbb_cell_id) {\n",
       "                        if (nbb_cells[i].get_text() == nbb_unformatted_code) {\n",
       "                             nbb_cells[i].set_text(nbb_formatted_code);\n",
       "                        }\n",
       "                        break;\n",
       "                    }\n",
       "                }\n",
       "            }, 500);\n",
       "            "
      ],
      "text/plain": [
       "<IPython.core.display.Javascript object>"
      ]
     },
     "metadata": {},
     "output_type": "display_data"
    }
   ],
   "source": [
    "cto_subset = cto.subset(cells=bcs, copy=True)"
   ]
  },
  {
   "cell_type": "code",
   "execution_count": 64,
   "id": "bd85db85-3895-4e4b-af74-0beeaf5eea4d",
   "metadata": {
    "execution": {
     "iopub.execute_input": "2023-03-08T16:51:30.445784Z",
     "iopub.status.busy": "2023-03-08T16:51:30.445551Z",
     "iopub.status.idle": "2023-03-08T17:37:59.500997Z",
     "shell.execute_reply": "2023-03-08T17:37:59.499865Z",
     "shell.execute_reply.started": "2023-03-08T16:51:30.445764Z"
    },
    "tags": []
   },
   "outputs": [
    {
     "name": "stderr",
     "output_type": "stream",
     "text": [
      "2023-03-08 17:52:33,345\tINFO services.py:1470 -- View the Ray dashboard at \u001b[1m\u001b[32mhttp://127.0.0.1:8265\u001b[39m\u001b[22m\n"
     ]
    },
    {
     "name": "stdout",
     "output_type": "stream",
     "text": [
      "\u001b[2m\u001b[36m(markers_ray pid=1239774)\u001b[0m 2023-03-08 17:52:53,276 cisTopic     INFO     Formatting data for sampleA_Cytotoxic_T_cell_VS_sampleB_Cytotoxic_T_cell\n",
      "\u001b[2m\u001b[36m(markers_ray pid=1239774)\u001b[0m 2023-03-08 17:53:54,445 cisTopic     INFO     Computing p-value for sampleA_Cytotoxic_T_cell_VS_sampleB_Cytotoxic_T_cell\n"
     ]
    },
    {
     "name": "stderr",
     "output_type": "stream",
     "text": [
      "\u001b[2m\u001b[36m(raylet)\u001b[0m Spilled 68663 MiB, 2 objects, write throughput 849 MiB/s. Set RAY_verbose_spill_logs=0 to disable this message.\n"
     ]
    },
    {
     "name": "stdout",
     "output_type": "stream",
     "text": [
      "\u001b[2m\u001b[36m(markers_ray pid=1239774)\u001b[0m 2023-03-08 17:56:55,563 cisTopic     INFO     Computing log2FC for sampleA_Cytotoxic_T_cell_VS_sampleB_Cytotoxic_T_cell\n",
      "\u001b[2m\u001b[36m(markers_ray pid=1239774)\u001b[0m 2023-03-08 17:56:57,978 cisTopic     INFO     sampleA_Cytotoxic_T_cell_VS_sampleB_Cytotoxic_T_cell done!\n",
      "\u001b[2m\u001b[36m(markers_ray pid=1239774)\u001b[0m 2023-03-08 17:56:58,268 cisTopic     INFO     Formatting data for sampleB_Cytotoxic_T_cell_VS_sampleA_Cytotoxic_T_cell\n",
      "\u001b[2m\u001b[36m(markers_ray pid=1239774)\u001b[0m 2023-03-08 17:57:57,396 cisTopic     INFO     Computing p-value for sampleB_Cytotoxic_T_cell_VS_sampleA_Cytotoxic_T_cell\n",
      "\u001b[2m\u001b[36m(markers_ray pid=1239774)\u001b[0m 2023-03-08 18:00:58,247 cisTopic     INFO     Computing log2FC for sampleB_Cytotoxic_T_cell_VS_sampleA_Cytotoxic_T_cell\n",
      "\u001b[2m\u001b[36m(markers_ray pid=1239774)\u001b[0m 2023-03-08 18:01:00,602 cisTopic     INFO     sampleB_Cytotoxic_T_cell_VS_sampleA_Cytotoxic_T_cell done!\n"
     ]
    },
    {
     "name": "stderr",
     "output_type": "stream",
     "text": [
      "\u001b[2m\u001b[36m(raylet)\u001b[0m Spilled 137327 MiB, 5 objects, write throughput 843 MiB/s.\n"
     ]
    },
    {
     "name": "stdout",
     "output_type": "stream",
     "text": [
      "\u001b[2m\u001b[36m(markers_ray pid=1239774)\u001b[0m 2023-03-08 18:02:32,615 cisTopic     INFO     Formatting data for sampleA_CD4+_T_cell_VS_sampleB_CD4+_T_cell\n"
     ]
    },
    {
     "name": "stderr",
     "output_type": "stream",
     "text": [
      "\u001b[2m\u001b[36m(raylet)\u001b[0m Spilled 205988 MiB, 6 objects, write throughput 764 MiB/s.\n",
      "\u001b[2m\u001b[36m(raylet)\u001b[0m Spilled 343315 MiB, 10 objects, write throughput 1176 MiB/s.\n",
      "\u001b[2m\u001b[36m(raylet)\u001b[0m Spilled 411977 MiB, 12 objects, write throughput 1165 MiB/s.\n"
     ]
    },
    {
     "name": "stdout",
     "output_type": "stream",
     "text": [
      "\u001b[2m\u001b[36m(markers_ray pid=1239774)\u001b[0m 2023-03-08 18:06:52,714 cisTopic     INFO     Computing p-value for sampleA_CD4+_T_cell_VS_sampleB_CD4+_T_cell\n"
     ]
    },
    {
     "name": "stderr",
     "output_type": "stream",
     "text": [
      "\u001b[2m\u001b[36m(raylet)\u001b[0m Spilled 480639 MiB, 14 objects, write throughput 1115 MiB/s.\n",
      "\u001b[2m\u001b[36m(raylet)\u001b[0m Spilled 549302 MiB, 16 objects, write throughput 1079 MiB/s.\n",
      "\u001b[2m\u001b[36m(raylet)\u001b[0m Spilled 617965 MiB, 18 objects, write throughput 1054 MiB/s.\n"
     ]
    },
    {
     "name": "stdout",
     "output_type": "stream",
     "text": [
      "\u001b[2m\u001b[36m(markers_ray pid=1239774)\u001b[0m 2023-03-08 18:09:49,487 cisTopic     INFO     Computing log2FC for sampleA_CD4+_T_cell_VS_sampleB_CD4+_T_cell\n",
      "\u001b[2m\u001b[36m(markers_ray pid=1239774)\u001b[0m 2023-03-08 18:09:51,878 cisTopic     INFO     sampleA_CD4+_T_cell_VS_sampleB_CD4+_T_cell done!\n"
     ]
    },
    {
     "name": "stderr",
     "output_type": "stream",
     "text": [
      "\u001b[2m\u001b[36m(raylet)\u001b[0m Spilled 686627 MiB, 20 objects, write throughput 1037 MiB/s.\n"
     ]
    },
    {
     "name": "stdout",
     "output_type": "stream",
     "text": [
      "\u001b[2m\u001b[36m(markers_ray pid=1239774)\u001b[0m 2023-03-08 18:11:01,358 cisTopic     INFO     Formatting data for sampleB_CD4+_T_cell_VS_sampleA_CD4+_T_cell\n",
      "\u001b[2m\u001b[36m(markers_ray pid=1239774)\u001b[0m 2023-03-08 18:12:29,402 cisTopic     INFO     Computing p-value for sampleB_CD4+_T_cell_VS_sampleA_CD4+_T_cell\n",
      "\u001b[2m\u001b[36m(markers_ray pid=1239774)\u001b[0m 2023-03-08 18:15:29,825 cisTopic     INFO     Computing log2FC for sampleB_CD4+_T_cell_VS_sampleA_CD4+_T_cell\n",
      "\u001b[2m\u001b[36m(markers_ray pid=1239774)\u001b[0m 2023-03-08 18:15:32,262 cisTopic     INFO     sampleB_CD4+_T_cell_VS_sampleA_CD4+_T_cell done!\n",
      "\u001b[2m\u001b[36m(markers_ray pid=1239774)\u001b[0m 2023-03-08 18:15:32,656 cisTopic     INFO     Formatting data for sampleA_Natural_killer_cell_VS_sampleB_Natural_killer_cell\n",
      "\u001b[2m\u001b[36m(markers_ray pid=1239774)\u001b[0m 2023-03-08 18:15:56,790 cisTopic     INFO     Computing p-value for sampleA_Natural_killer_cell_VS_sampleB_Natural_killer_cell\n",
      "\u001b[2m\u001b[36m(markers_ray pid=1239774)\u001b[0m 2023-03-08 18:17:03,412 cisTopic     INFO     Computing log2FC for sampleA_Natural_killer_cell_VS_sampleB_Natural_killer_cell\n",
      "\u001b[2m\u001b[36m(markers_ray pid=1239774)\u001b[0m 2023-03-08 18:17:05,077 cisTopic     INFO     sampleA_Natural_killer_cell_VS_sampleB_Natural_killer_cell done!\n",
      "\u001b[2m\u001b[36m(markers_ray pid=1239774)\u001b[0m 2023-03-08 18:17:05,311 cisTopic     INFO     Formatting data for sampleB_Natural_killer_cell_VS_sampleA_Natural_killer_cell\n",
      "\u001b[2m\u001b[36m(markers_ray pid=1239774)\u001b[0m 2023-03-08 18:17:30,256 cisTopic     INFO     Computing p-value for sampleB_Natural_killer_cell_VS_sampleA_Natural_killer_cell\n",
      "\u001b[2m\u001b[36m(markers_ray pid=1239774)\u001b[0m 2023-03-08 18:18:36,968 cisTopic     INFO     Computing log2FC for sampleB_Natural_killer_cell_VS_sampleA_Natural_killer_cell\n",
      "\u001b[2m\u001b[36m(markers_ray pid=1239774)\u001b[0m 2023-03-08 18:18:38,867 cisTopic     INFO     sampleB_Natural_killer_cell_VS_sampleA_Natural_killer_cell done!\n",
      "\u001b[2m\u001b[36m(markers_ray pid=1239774)\u001b[0m 2023-03-08 18:18:39,256 cisTopic     INFO     Formatting data for sampleA_CD14+_monocyte_VS_sampleB_CD14+_monocyte\n",
      "\u001b[2m\u001b[36m(markers_ray pid=1239774)\u001b[0m 2023-03-08 18:19:46,090 cisTopic     INFO     Computing p-value for sampleA_CD14+_monocyte_VS_sampleB_CD14+_monocyte\n",
      "\u001b[2m\u001b[36m(markers_ray pid=1239774)\u001b[0m 2023-03-08 18:22:31,332 cisTopic     INFO     Computing log2FC for sampleA_CD14+_monocyte_VS_sampleB_CD14+_monocyte\n",
      "\u001b[2m\u001b[36m(markers_ray pid=1239774)\u001b[0m 2023-03-08 18:22:33,489 cisTopic     INFO     sampleA_CD14+_monocyte_VS_sampleB_CD14+_monocyte done!\n",
      "\u001b[2m\u001b[36m(markers_ray pid=1239774)\u001b[0m 2023-03-08 18:24:18,394 cisTopic     INFO     Formatting data for sampleB_CD14+_monocyte_VS_sampleA_CD14+_monocyte\n",
      "\u001b[2m\u001b[36m(markers_ray pid=1239774)\u001b[0m 2023-03-08 18:25:22,524 cisTopic     INFO     Computing p-value for sampleB_CD14+_monocyte_VS_sampleA_CD14+_monocyte\n",
      "\u001b[2m\u001b[36m(markers_ray pid=1239774)\u001b[0m 2023-03-08 18:28:07,429 cisTopic     INFO     Computing log2FC for sampleB_CD14+_monocyte_VS_sampleA_CD14+_monocyte\n",
      "\u001b[2m\u001b[36m(markers_ray pid=1239774)\u001b[0m 2023-03-08 18:28:09,595 cisTopic     INFO     sampleB_CD14+_monocyte_VS_sampleA_CD14+_monocyte done!\n",
      "\u001b[2m\u001b[36m(markers_ray pid=1239774)\u001b[0m 2023-03-08 18:28:09,880 cisTopic     INFO     Formatting data for sampleA_B_cell_VS_sampleB_B_cell\n",
      "\u001b[2m\u001b[36m(markers_ray pid=1239774)\u001b[0m 2023-03-08 18:28:35,048 cisTopic     INFO     Computing p-value for sampleA_B_cell_VS_sampleB_B_cell\n",
      "\u001b[2m\u001b[36m(markers_ray pid=1239774)\u001b[0m 2023-03-08 18:30:00,448 cisTopic     INFO     Computing log2FC for sampleA_B_cell_VS_sampleB_B_cell\n",
      "\u001b[2m\u001b[36m(markers_ray pid=1239774)\u001b[0m 2023-03-08 18:30:02,277 cisTopic     INFO     sampleA_B_cell_VS_sampleB_B_cell done!\n",
      "\u001b[2m\u001b[36m(markers_ray pid=1239774)\u001b[0m 2023-03-08 18:30:02,519 cisTopic     INFO     Formatting data for sampleB_B_cell_VS_sampleA_B_cell\n",
      "\u001b[2m\u001b[36m(markers_ray pid=1239774)\u001b[0m 2023-03-08 18:30:23,733 cisTopic     INFO     Computing p-value for sampleB_B_cell_VS_sampleA_B_cell\n",
      "\u001b[2m\u001b[36m(markers_ray pid=1239774)\u001b[0m 2023-03-08 18:31:49,101 cisTopic     INFO     Computing log2FC for sampleB_B_cell_VS_sampleA_B_cell\n",
      "\u001b[2m\u001b[36m(markers_ray pid=1239774)\u001b[0m 2023-03-08 18:31:50,964 cisTopic     INFO     sampleB_B_cell_VS_sampleA_B_cell done!\n",
      "\u001b[2m\u001b[36m(markers_ray pid=1239774)\u001b[0m 2023-03-08 18:31:51,161 cisTopic     INFO     Formatting data for sampleA_CD16+_monocyte_VS_sampleB_CD16+_monocyte\n",
      "\u001b[2m\u001b[36m(markers_ray pid=1239774)\u001b[0m 2023-03-08 18:32:00,500 cisTopic     INFO     Computing p-value for sampleA_CD16+_monocyte_VS_sampleB_CD16+_monocyte\n",
      "\u001b[2m\u001b[36m(markers_ray pid=1239774)\u001b[0m 2023-03-08 18:32:53,749 cisTopic     INFO     Computing log2FC for sampleA_CD16+_monocyte_VS_sampleB_CD16+_monocyte\n",
      "\u001b[2m\u001b[36m(markers_ray pid=1239774)\u001b[0m 2023-03-08 18:32:55,385 cisTopic     INFO     sampleA_CD16+_monocyte_VS_sampleB_CD16+_monocyte done!\n",
      "\u001b[2m\u001b[36m(markers_ray pid=1239774)\u001b[0m 2023-03-08 18:32:55,644 cisTopic     INFO     Formatting data for sampleB_CD16+_monocyte_VS_sampleA_CD16+_monocyte\n",
      "\u001b[2m\u001b[36m(markers_ray pid=1239774)\u001b[0m 2023-03-08 18:33:04,108 cisTopic     INFO     Computing p-value for sampleB_CD16+_monocyte_VS_sampleA_CD16+_monocyte\n",
      "\u001b[2m\u001b[36m(markers_ray pid=1239774)\u001b[0m 2023-03-08 18:33:57,441 cisTopic     INFO     Computing log2FC for sampleB_CD16+_monocyte_VS_sampleA_CD16+_monocyte\n",
      "\u001b[2m\u001b[36m(markers_ray pid=1239774)\u001b[0m 2023-03-08 18:33:59,001 cisTopic     INFO     sampleB_CD16+_monocyte_VS_sampleA_CD16+_monocyte done!\n",
      "\u001b[2m\u001b[36m(markers_ray pid=1239774)\u001b[0m 2023-03-08 18:33:59,254 cisTopic     INFO     Formatting data for sampleA_Dendritic_cell_VS_sampleB_Dendritic_cell\n",
      "\u001b[2m\u001b[36m(markers_ray pid=1239774)\u001b[0m 2023-03-08 18:34:03,956 cisTopic     INFO     Computing p-value for sampleA_Dendritic_cell_VS_sampleB_Dendritic_cell\n",
      "\u001b[2m\u001b[36m(markers_ray pid=1239774)\u001b[0m 2023-03-08 18:34:45,735 cisTopic     INFO     Computing log2FC for sampleA_Dendritic_cell_VS_sampleB_Dendritic_cell\n",
      "\u001b[2m\u001b[36m(markers_ray pid=1239774)\u001b[0m 2023-03-08 18:34:47,268 cisTopic     INFO     sampleA_Dendritic_cell_VS_sampleB_Dendritic_cell done!\n",
      "\u001b[2m\u001b[36m(markers_ray pid=1239774)\u001b[0m 2023-03-08 18:34:47,424 cisTopic     INFO     Formatting data for sampleB_Dendritic_cell_VS_sampleA_Dendritic_cell\n",
      "\u001b[2m\u001b[36m(markers_ray pid=1239774)\u001b[0m 2023-03-08 18:35:25,225 cisTopic     INFO     Computing p-value for sampleB_Dendritic_cell_VS_sampleA_Dendritic_cell\n",
      "\u001b[2m\u001b[36m(markers_ray pid=1239774)\u001b[0m 2023-03-08 18:36:07,208 cisTopic     INFO     Computing log2FC for sampleB_Dendritic_cell_VS_sampleA_Dendritic_cell\n",
      "\u001b[2m\u001b[36m(markers_ray pid=1239774)\u001b[0m 2023-03-08 18:36:08,813 cisTopic     INFO     sampleB_Dendritic_cell_VS_sampleA_Dendritic_cell done!\n"
     ]
    },
    {
     "data": {
      "application/javascript": [
       "\n",
       "            setTimeout(function() {\n",
       "                var nbb_cell_id = 64;\n",
       "                var nbb_unformatted_code = \"markers_dict = find_diff_features(\\n    cto_subset,\\n    normalized_imputed_acc_obj,\\n    variable='fmx_sample__harmony_consensus_cell_type__mega',\\n    var_features=variable_regions,\\n    contrasts=contrasts,\\n    adjpval_thr=0.05,\\n    log2fc_thr=np.log2(1),\\n    n_cpu=24,\\n)\";\n",
       "                var nbb_formatted_code = \"markers_dict = find_diff_features(\\n    cto_subset,\\n    normalized_imputed_acc_obj,\\n    variable=\\\"fmx_sample__harmony_consensus_cell_type__mega\\\",\\n    var_features=variable_regions,\\n    contrasts=contrasts,\\n    adjpval_thr=0.05,\\n    log2fc_thr=np.log2(1),\\n    n_cpu=24,\\n)\";\n",
       "                var nbb_cells = Jupyter.notebook.get_cells();\n",
       "                for (var i = 0; i < nbb_cells.length; ++i) {\n",
       "                    if (nbb_cells[i].input_prompt_number == nbb_cell_id) {\n",
       "                        if (nbb_cells[i].get_text() == nbb_unformatted_code) {\n",
       "                             nbb_cells[i].set_text(nbb_formatted_code);\n",
       "                        }\n",
       "                        break;\n",
       "                    }\n",
       "                }\n",
       "            }, 500);\n",
       "            "
      ],
      "text/plain": [
       "<IPython.core.display.Javascript object>"
      ]
     },
     "metadata": {},
     "output_type": "display_data"
    }
   ],
   "source": [
    "markers_dict = find_diff_features(\n",
    "    cto_subset,\n",
    "    normalized_imputed_acc_obj,\n",
    "    variable='fmx_sample__harmony_consensus_cell_type__mega',\n",
    "    var_features=variable_regions,\n",
    "    contrasts=contrasts,\n",
    "    adjpval_thr=0.05,\n",
    "    log2fc_thr=np.log2(1),\n",
    "    n_cpu=24,\n",
    ")"
   ]
  },
  {
   "cell_type": "code",
   "execution_count": 66,
   "id": "0d22c4f6-7568-4b6a-b5e4-51ead995507e",
   "metadata": {
    "execution": {
     "iopub.execute_input": "2023-03-08T17:37:59.542356Z",
     "iopub.status.busy": "2023-03-08T17:37:59.542102Z",
     "iopub.status.idle": "2023-03-08T17:38:02.189995Z",
     "shell.execute_reply": "2023-03-08T17:38:02.188850Z",
     "shell.execute_reply.started": "2023-03-08T17:37:59.542335Z"
    },
    "tags": []
   },
   "outputs": [
    {
     "name": "stdout",
     "output_type": "stream",
     "text": [
      "printed DARs\n",
      "printed DARs\n",
      "printed DARs\n",
      "printed DARs\n",
      "printed DARs\n",
      "printed DARs\n",
      "printed DARs\n",
      "printed DARs\n",
      "printed DARs\n",
      "printed DARs\n",
      "printed DARs\n",
      "printed DARs\n",
      "printed DARs\n",
      "printed DARs\n"
     ]
    },
    {
     "data": {
      "application/javascript": [
       "\n",
       "            setTimeout(function() {\n",
       "                var nbb_cell_id = 66;\n",
       "                var nbb_unformatted_code = \"for contrast in markers_dict.keys():\\n    markers = markers_dict[contrast].index.tolist()\\n    df = pd.DataFrame(markers)\\n\\n    if len(df) == 0:\\n        print(f\\\"\\\\t\\\\tno DARs found for {contrast}\\\")\\n\\n    else:\\n        df[[0,1]] = df[0].str.split(':',expand=True)\\n        df[[1,2]] = df[1].str.split('-',expand=True)\\n        df[3] = markers_dict[contrast].index.tolist()\\n        df[3] = contrast.replace(' ', '_')# + '_' + df[3].astype(str)\\n        score = markers_dict[contrast]['Log2FC']\\n        score = score.reset_index(drop=True)\\n        df[4] = score\\n        df[5] = '.'\\n        pval = markers_dict[contrast]['Adjusted_pval']\\n        pval = pval.reset_index(drop=True)\\n        df[6] = pval\\n        name = contrast.replace(' ', '_')\\n\\n        outpath = f\\\"merged_male_female_DARs/{name}__1-0xfoldchange_DARs.bed\\\"\\n\\n        df.to_csv(outpath, sep='\\\\t', header=False, index=False)\\n        print(\\\"printed DARs\\\")\";\n",
       "                var nbb_formatted_code = \"for contrast in markers_dict.keys():\\n    markers = markers_dict[contrast].index.tolist()\\n    df = pd.DataFrame(markers)\\n\\n    if len(df) == 0:\\n        print(f\\\"\\\\t\\\\tno DARs found for {contrast}\\\")\\n\\n    else:\\n        df[[0, 1]] = df[0].str.split(\\\":\\\", expand=True)\\n        df[[1, 2]] = df[1].str.split(\\\"-\\\", expand=True)\\n        df[3] = markers_dict[contrast].index.tolist()\\n        df[3] = contrast.replace(\\\" \\\", \\\"_\\\")  # + '_' + df[3].astype(str)\\n        score = markers_dict[contrast][\\\"Log2FC\\\"]\\n        score = score.reset_index(drop=True)\\n        df[4] = score\\n        df[5] = \\\".\\\"\\n        pval = markers_dict[contrast][\\\"Adjusted_pval\\\"]\\n        pval = pval.reset_index(drop=True)\\n        df[6] = pval\\n        name = contrast.replace(\\\" \\\", \\\"_\\\")\\n\\n        outpath = f\\\"merged_male_female_DARs/{name}__1-0xfoldchange_DARs.bed\\\"\\n\\n        df.to_csv(outpath, sep=\\\"\\\\t\\\", header=False, index=False)\\n        print(\\\"printed DARs\\\")\";\n",
       "                var nbb_cells = Jupyter.notebook.get_cells();\n",
       "                for (var i = 0; i < nbb_cells.length; ++i) {\n",
       "                    if (nbb_cells[i].input_prompt_number == nbb_cell_id) {\n",
       "                        if (nbb_cells[i].get_text() == nbb_unformatted_code) {\n",
       "                             nbb_cells[i].set_text(nbb_formatted_code);\n",
       "                        }\n",
       "                        break;\n",
       "                    }\n",
       "                }\n",
       "            }, 500);\n",
       "            "
      ],
      "text/plain": [
       "<IPython.core.display.Javascript object>"
      ]
     },
     "metadata": {},
     "output_type": "display_data"
    }
   ],
   "source": [
    "for contrast in markers_dict.keys():\n",
    "    markers = markers_dict[contrast].index.tolist()\n",
    "    df = pd.DataFrame(markers)\n",
    "\n",
    "    if len(df) == 0:\n",
    "        print(f\"\\t\\tno DARs found for {contrast}\")\n",
    "\n",
    "    else:\n",
    "        df[[0,1]] = df[0].str.split(':',expand=True)\n",
    "        df[[1,2]] = df[1].str.split('-',expand=True)\n",
    "        df[3] = markers_dict[contrast].index.tolist()\n",
    "        df[3] = contrast.replace(' ', '_')# + '_' + df[3].astype(str)\n",
    "        score = markers_dict[contrast]['Log2FC']\n",
    "        score = score.reset_index(drop=True)\n",
    "        df[4] = score\n",
    "        df[5] = '.'\n",
    "        pval = markers_dict[contrast]['Adjusted_pval']\n",
    "        pval = pval.reset_index(drop=True)\n",
    "        df[6] = pval\n",
    "        name = contrast.replace(' ', '_')\n",
    "\n",
    "        outpath = f\"merged_male_female_DARs/{name}__1-0xfoldchange_DARs.bed\"\n",
    "\n",
    "        df.to_csv(outpath, sep='\\t', header=False, index=False)\n",
    "        print(\"printed DARs\")"
   ]
  },
  {
   "cell_type": "code",
   "execution_count": 78,
   "id": "015305a3-8c86-4b42-a514-2277919d9f1c",
   "metadata": {
    "execution": {
     "iopub.execute_input": "2023-03-09T12:55:17.918591Z",
     "iopub.status.busy": "2023-03-09T12:55:17.917757Z",
     "iopub.status.idle": "2023-03-09T12:55:17.956878Z",
     "shell.execute_reply": "2023-03-09T12:55:17.955478Z",
     "shell.execute_reply.started": "2023-03-09T12:55:17.918532Z"
    },
    "tags": []
   },
   "outputs": [
    {
     "data": {
      "text/html": [
       "<div>\n",
       "<style scoped>\n",
       "    .dataframe tbody tr th:only-of-type {\n",
       "        vertical-align: middle;\n",
       "    }\n",
       "\n",
       "    .dataframe tbody tr th {\n",
       "        vertical-align: top;\n",
       "    }\n",
       "\n",
       "    .dataframe thead th {\n",
       "        text-align: right;\n",
       "    }\n",
       "</style>\n",
       "<table border=\"1\" class=\"dataframe\">\n",
       "  <thead>\n",
       "    <tr style=\"text-align: right;\">\n",
       "      <th></th>\n",
       "      <th>0</th>\n",
       "      <th>1</th>\n",
       "      <th>2</th>\n",
       "      <th>3</th>\n",
       "      <th>4</th>\n",
       "      <th>5</th>\n",
       "      <th>6</th>\n",
       "    </tr>\n",
       "  </thead>\n",
       "  <tbody>\n",
       "    <tr>\n",
       "      <th>0</th>\n",
       "      <td>chr15</td>\n",
       "      <td>40746390</td>\n",
       "      <td>40746890</td>\n",
       "      <td>sampleB_CD4+_T_cell_VS_sampleA_CD4+_T_cell</td>\n",
       "      <td>0.543617</td>\n",
       "      <td>.</td>\n",
       "      <td>8.138161e-10</td>\n",
       "    </tr>\n",
       "    <tr>\n",
       "      <th>1</th>\n",
       "      <td>chrX</td>\n",
       "      <td>115940714</td>\n",
       "      <td>115941214</td>\n",
       "      <td>sampleB_CD4+_T_cell_VS_sampleA_CD4+_T_cell</td>\n",
       "      <td>0.510418</td>\n",
       "      <td>.</td>\n",
       "      <td>3.776709e-05</td>\n",
       "    </tr>\n",
       "    <tr>\n",
       "      <th>2</th>\n",
       "      <td>chr1</td>\n",
       "      <td>244160334</td>\n",
       "      <td>244160834</td>\n",
       "      <td>sampleB_CD4+_T_cell_VS_sampleA_CD4+_T_cell</td>\n",
       "      <td>0.484846</td>\n",
       "      <td>.</td>\n",
       "      <td>1.518125e-08</td>\n",
       "    </tr>\n",
       "    <tr>\n",
       "      <th>3</th>\n",
       "      <td>chrX</td>\n",
       "      <td>65679108</td>\n",
       "      <td>65679608</td>\n",
       "      <td>sampleB_CD4+_T_cell_VS_sampleA_CD4+_T_cell</td>\n",
       "      <td>0.430949</td>\n",
       "      <td>.</td>\n",
       "      <td>1.215283e-04</td>\n",
       "    </tr>\n",
       "    <tr>\n",
       "      <th>4</th>\n",
       "      <td>chr12</td>\n",
       "      <td>120892182</td>\n",
       "      <td>120892682</td>\n",
       "      <td>sampleB_CD4+_T_cell_VS_sampleA_CD4+_T_cell</td>\n",
       "      <td>0.427286</td>\n",
       "      <td>.</td>\n",
       "      <td>2.159299e-03</td>\n",
       "    </tr>\n",
       "    <tr>\n",
       "      <th>...</th>\n",
       "      <td>...</td>\n",
       "      <td>...</td>\n",
       "      <td>...</td>\n",
       "      <td>...</td>\n",
       "      <td>...</td>\n",
       "      <td>...</td>\n",
       "      <td>...</td>\n",
       "    </tr>\n",
       "    <tr>\n",
       "      <th>15984</th>\n",
       "      <td>chr19</td>\n",
       "      <td>6110445</td>\n",
       "      <td>6110945</td>\n",
       "      <td>sampleB_CD4+_T_cell_VS_sampleA_CD4+_T_cell</td>\n",
       "      <td>0.000110</td>\n",
       "      <td>.</td>\n",
       "      <td>4.325729e-03</td>\n",
       "    </tr>\n",
       "    <tr>\n",
       "      <th>15985</th>\n",
       "      <td>chr2</td>\n",
       "      <td>176852531</td>\n",
       "      <td>176853031</td>\n",
       "      <td>sampleB_CD4+_T_cell_VS_sampleA_CD4+_T_cell</td>\n",
       "      <td>0.000062</td>\n",
       "      <td>.</td>\n",
       "      <td>2.185071e-05</td>\n",
       "    </tr>\n",
       "    <tr>\n",
       "      <th>15986</th>\n",
       "      <td>chr8</td>\n",
       "      <td>103414964</td>\n",
       "      <td>103415464</td>\n",
       "      <td>sampleB_CD4+_T_cell_VS_sampleA_CD4+_T_cell</td>\n",
       "      <td>0.000031</td>\n",
       "      <td>.</td>\n",
       "      <td>5.488424e-04</td>\n",
       "    </tr>\n",
       "    <tr>\n",
       "      <th>15987</th>\n",
       "      <td>chr17</td>\n",
       "      <td>3915983</td>\n",
       "      <td>3916483</td>\n",
       "      <td>sampleB_CD4+_T_cell_VS_sampleA_CD4+_T_cell</td>\n",
       "      <td>0.000023</td>\n",
       "      <td>.</td>\n",
       "      <td>2.722187e-02</td>\n",
       "    </tr>\n",
       "    <tr>\n",
       "      <th>15988</th>\n",
       "      <td>chr17</td>\n",
       "      <td>2336272</td>\n",
       "      <td>2336772</td>\n",
       "      <td>sampleB_CD4+_T_cell_VS_sampleA_CD4+_T_cell</td>\n",
       "      <td>0.000020</td>\n",
       "      <td>.</td>\n",
       "      <td>8.753197e-04</td>\n",
       "    </tr>\n",
       "  </tbody>\n",
       "</table>\n",
       "<p>15989 rows × 7 columns</p>\n",
       "</div>"
      ],
      "text/plain": [
       "           0          1          2  \\\n",
       "0      chr15   40746390   40746890   \n",
       "1       chrX  115940714  115941214   \n",
       "2       chr1  244160334  244160834   \n",
       "3       chrX   65679108   65679608   \n",
       "4      chr12  120892182  120892682   \n",
       "...      ...        ...        ...   \n",
       "15984  chr19    6110445    6110945   \n",
       "15985   chr2  176852531  176853031   \n",
       "15986   chr8  103414964  103415464   \n",
       "15987  chr17    3915983    3916483   \n",
       "15988  chr17    2336272    2336772   \n",
       "\n",
       "                                                3         4  5             6  \n",
       "0      sampleB_CD4+_T_cell_VS_sampleA_CD4+_T_cell  0.543617  .  8.138161e-10  \n",
       "1      sampleB_CD4+_T_cell_VS_sampleA_CD4+_T_cell  0.510418  .  3.776709e-05  \n",
       "2      sampleB_CD4+_T_cell_VS_sampleA_CD4+_T_cell  0.484846  .  1.518125e-08  \n",
       "3      sampleB_CD4+_T_cell_VS_sampleA_CD4+_T_cell  0.430949  .  1.215283e-04  \n",
       "4      sampleB_CD4+_T_cell_VS_sampleA_CD4+_T_cell  0.427286  .  2.159299e-03  \n",
       "...                                           ...       ... ..           ...  \n",
       "15984  sampleB_CD4+_T_cell_VS_sampleA_CD4+_T_cell  0.000110  .  4.325729e-03  \n",
       "15985  sampleB_CD4+_T_cell_VS_sampleA_CD4+_T_cell  0.000062  .  2.185071e-05  \n",
       "15986  sampleB_CD4+_T_cell_VS_sampleA_CD4+_T_cell  0.000031  .  5.488424e-04  \n",
       "15987  sampleB_CD4+_T_cell_VS_sampleA_CD4+_T_cell  0.000023  .  2.722187e-02  \n",
       "15988  sampleB_CD4+_T_cell_VS_sampleA_CD4+_T_cell  0.000020  .  8.753197e-04  \n",
       "\n",
       "[15989 rows x 7 columns]"
      ]
     },
     "execution_count": 78,
     "metadata": {},
     "output_type": "execute_result"
    },
    {
     "data": {
      "application/javascript": [
       "\n",
       "            setTimeout(function() {\n",
       "                var nbb_cell_id = 78;\n",
       "                var nbb_unformatted_code = \"df\";\n",
       "                var nbb_formatted_code = \"df\";\n",
       "                var nbb_cells = Jupyter.notebook.get_cells();\n",
       "                for (var i = 0; i < nbb_cells.length; ++i) {\n",
       "                    if (nbb_cells[i].input_prompt_number == nbb_cell_id) {\n",
       "                        if (nbb_cells[i].get_text() == nbb_unformatted_code) {\n",
       "                             nbb_cells[i].set_text(nbb_formatted_code);\n",
       "                        }\n",
       "                        break;\n",
       "                    }\n",
       "                }\n",
       "            }, 500);\n",
       "            "
      ],
      "text/plain": [
       "<IPython.core.display.Javascript object>"
      ]
     },
     "metadata": {},
     "output_type": "display_data"
    }
   ],
   "source": [
    "df"
   ]
  },
  {
   "cell_type": "code",
   "execution_count": 77,
   "id": "2be9fd0c-03db-483c-b0e0-10f601cb9f3f",
   "metadata": {
    "execution": {
     "iopub.execute_input": "2023-03-09T12:55:16.806815Z",
     "iopub.status.busy": "2023-03-09T12:55:16.805902Z",
     "iopub.status.idle": "2023-03-09T12:55:17.481414Z",
     "shell.execute_reply": "2023-03-09T12:55:17.480385Z",
     "shell.execute_reply.started": "2023-03-09T12:55:16.806756Z"
    },
    "tags": []
   },
   "outputs": [
    {
     "name": "stdout",
     "output_type": "stream",
     "text": [
      "merged_male_female_DARs/sampleA_CD14+_monocyte_VS_sampleB_CD14+_monocyte__1-0xfoldchange_DARs.bed\n",
      "merged_male_female_DARs/sampleA_CD4+_T_cell_VS_sampleB_CD4+_T_cell__1-0xfoldchange_DARs.bed\n",
      "merged_male_female_DARs/sampleA_Cytotoxic_T_cell_VS_sampleB_Cytotoxic_T_cell__1-0xfoldchange_DARs.bed\n",
      "merged_male_female_DARs/sampleB_Natural_killer_cell_VS_sampleA_Natural_killer_cell__1-0xfoldchange_DARs.bed\n",
      "merged_male_female_DARs/sampleA_Natural_killer_cell_VS_sampleB_Natural_killer_cell__1-0xfoldchange_DARs.bed\n",
      "merged_male_female_DARs/sampleB_CD14+_monocyte_VS_sampleA_CD14+_monocyte__1-0xfoldchange_DARs.bed\n",
      "merged_male_female_DARs/sampleB_Dendritic_cell_VS_sampleA_Dendritic_cell__1-0xfoldchange_DARs.bed\n",
      "merged_male_female_DARs/sampleA_CD16+_monocyte_VS_sampleB_CD16+_monocyte__1-0xfoldchange_DARs.bed\n",
      "merged_male_female_DARs/sampleA_B_cell_VS_sampleB_B_cell__1-0xfoldchange_DARs.bed\n",
      "merged_male_female_DARs/sampleB_Cytotoxic_T_cell_VS_sampleA_Cytotoxic_T_cell__1-0xfoldchange_DARs.bed\n",
      "merged_male_female_DARs/sampleB_B_cell_VS_sampleA_B_cell__1-0xfoldchange_DARs.bed\n",
      "merged_male_female_DARs/sampleB_CD16+_monocyte_VS_sampleA_CD16+_monocyte__1-0xfoldchange_DARs.bed\n",
      "merged_male_female_DARs/sampleA_Dendritic_cell_VS_sampleB_Dendritic_cell__1-0xfoldchange_DARs.bed\n",
      "merged_male_female_DARs/sampleB_CD4+_T_cell_VS_sampleA_CD4+_T_cell__1-0xfoldchange_DARs.bed\n"
     ]
    },
    {
     "data": {
      "application/javascript": [
       "\n",
       "            setTimeout(function() {\n",
       "                var nbb_cell_id = 77;\n",
       "                var nbb_unformatted_code = \"for path in glob.glob(\\\"merged_male_female_DARs/*1-0*DARs.bed\\\"):\\n    print(path)\\n    df = pd.read_csv(path, sep='\\\\t', header=None, index_col=None)\\n    df.iloc[0:200].to_csv(path.replace('.bed', '.top200.bed'), sep='\\\\t', index=False, header=False)\";\n",
       "                var nbb_formatted_code = \"for path in glob.glob(\\\"merged_male_female_DARs/*1-0*DARs.bed\\\"):\\n    print(path)\\n    df = pd.read_csv(path, sep=\\\"\\\\t\\\", header=None, index_col=None)\\n    df.iloc[0:200].to_csv(\\n        path.replace(\\\".bed\\\", \\\".top200.bed\\\"), sep=\\\"\\\\t\\\", index=False, header=False\\n    )\";\n",
       "                var nbb_cells = Jupyter.notebook.get_cells();\n",
       "                for (var i = 0; i < nbb_cells.length; ++i) {\n",
       "                    if (nbb_cells[i].input_prompt_number == nbb_cell_id) {\n",
       "                        if (nbb_cells[i].get_text() == nbb_unformatted_code) {\n",
       "                             nbb_cells[i].set_text(nbb_formatted_code);\n",
       "                        }\n",
       "                        break;\n",
       "                    }\n",
       "                }\n",
       "            }, 500);\n",
       "            "
      ],
      "text/plain": [
       "<IPython.core.display.Javascript object>"
      ]
     },
     "metadata": {},
     "output_type": "display_data"
    }
   ],
   "source": [
    "for path in glob.glob(\"merged_male_female_DARs/*1-0*DARs.bed\"):\n",
    "    print(path)\n",
    "    df = pd.read_csv(path, sep='\\t', header=None, index_col=None)\n",
    "    df.iloc[0:200].to_csv(path.replace('.bed', '.top200.bed'), sep='\\t', index=False, header=False)"
   ]
  },
  {
   "cell_type": "code",
   "execution_count": null,
   "id": "4e19b6f9-597e-4680-9af8-c547cd84accd",
   "metadata": {},
   "outputs": [],
   "source": []
  }
 ],
 "metadata": {
  "kernelspec": {
   "display_name": "20220815_pycistopic.sif",
   "language": "python",
   "name": "cistopic_20220815"
  },
  "language_info": {
   "codemirror_mode": {
    "name": "ipython",
    "version": 3
   },
   "file_extension": ".py",
   "mimetype": "text/x-python",
   "name": "python",
   "nbconvert_exporter": "python",
   "pygments_lexer": "ipython3",
   "version": "3.8.13"
  },
  "papermill": {
   "default_parameters": {},
   "duration": 14109.849582,
   "end_time": "2022-11-01T21:06:51.466210",
   "environment_variables": {},
   "exception": true,
   "input_path": "7b_downstream_analysis.ipynb",
   "output_path": "7b_downstream_analysis.OUT.ipynb",
   "parameters": {},
   "start_time": "2022-11-01T17:11:41.616628",
   "version": "2.3.3"
  }
 },
 "nbformat": 4,
 "nbformat_minor": 5
}

{
 "cells": [
  {
   "cell_type": "markdown",
   "metadata": {},
   "source": [
    "# Python"
   ]
  },
  {
   "cell_type": "code",
   "execution_count": 39,
   "metadata": {
    "execution": {
     "iopub.execute_input": "2022-12-19T15:54:10.332631Z",
     "iopub.status.busy": "2022-12-19T15:54:10.331751Z",
     "iopub.status.idle": "2022-12-19T15:54:10.339389Z",
     "shell.execute_reply": "2022-12-19T15:54:10.337949Z",
     "shell.execute_reply.started": "2022-12-19T15:54:10.332572Z"
    },
    "tags": []
   },
   "outputs": [],
   "source": [
    "import glob\n",
    "import os"
   ]
  },
  {
   "cell_type": "code",
   "execution_count": 40,
   "metadata": {
    "execution": {
     "iopub.execute_input": "2022-12-19T15:54:10.356120Z",
     "iopub.status.busy": "2022-12-19T15:54:10.355126Z",
     "iopub.status.idle": "2022-12-19T15:54:10.481839Z",
     "shell.execute_reply": "2022-12-19T15:54:10.480036Z",
     "shell.execute_reply.started": "2022-12-19T15:54:10.356062Z"
    },
    "tags": []
   },
   "outputs": [
    {
     "name": "stdout",
     "output_type": "stream",
     "text": [
      "/lustre1/project/stg_00090/scatac_benchmark/fixedcells_4_merged\n"
     ]
    }
   ],
   "source": [
    "!pwd"
   ]
  },
  {
   "cell_type": "code",
   "execution_count": 41,
   "metadata": {
    "execution": {
     "iopub.execute_input": "2022-12-19T15:54:10.486592Z",
     "iopub.status.busy": "2022-12-19T15:54:10.485784Z",
     "iopub.status.idle": "2022-12-19T15:54:10.499315Z",
     "shell.execute_reply": "2022-12-19T15:54:10.497986Z",
     "shell.execute_reply.started": "2022-12-19T15:54:10.486529Z"
    },
    "tags": []
   },
   "outputs": [
    {
     "data": {
      "text/plain": [
       "{'master_all_1.FIXEDCELLS': 'cell_region_looms/master_all_1.FIXEDCELLS_cto.scrublet0-4.singlets.ID.loom'}"
      ]
     },
     "execution_count": 41,
     "metadata": {},
     "output_type": "execute_result"
    }
   ],
   "source": [
    "scrub_name_suffix = \"0-4\"\n",
    "loom_path_dict  = {x.split('/')[-1].split(f'_cto')[0]:x for x in sorted(glob.glob(f'cell_region_looms/*singlets.ID.loom'))}\n",
    "loom_path_dict"
   ]
  },
  {
   "cell_type": "code",
   "execution_count": 42,
   "metadata": {
    "execution": {
     "iopub.execute_input": "2022-12-19T15:54:10.501767Z",
     "iopub.status.busy": "2022-12-19T15:54:10.501239Z",
     "iopub.status.idle": "2022-12-19T15:54:10.508216Z",
     "shell.execute_reply": "2022-12-19T15:54:10.506956Z",
     "shell.execute_reply.started": "2022-12-19T15:54:10.501720Z"
    },
    "tags": []
   },
   "outputs": [],
   "source": [
    "frags_path_dict = {'master_all_1.FIXEDCELLS': '/lustre1/project/stg_00090/scatac_benchmark/fixedcells_4_merged/merged_all_1.fragments.ID.sorted.tsv.gz'}"
   ]
  },
  {
   "cell_type": "code",
   "execution_count": 43,
   "metadata": {
    "execution": {
     "iopub.execute_input": "2022-12-19T15:54:10.510690Z",
     "iopub.status.busy": "2022-12-19T15:54:10.509780Z",
     "iopub.status.idle": "2022-12-19T15:54:10.650755Z",
     "shell.execute_reply": "2022-12-19T15:54:10.648862Z",
     "shell.execute_reply.started": "2022-12-19T15:54:10.510650Z"
    },
    "tags": []
   },
   "outputs": [
    {
     "name": "stdout",
     "output_type": "stream",
     "text": [
      "#!/usr/bin/env Rscript\n",
      "library(Seurat)\n",
      "library(SeuratDisk)\n",
      "library(Signac)\n",
      "# library(EnsDb.Hsapiens.v86)\n",
      "library(ggplot2)\n",
      "library(stringr)\n",
      "\n",
      "args = commandArgs(trailingOnly=TRUE)\n",
      "sample_id = args[1]\n",
      "f_loom = args[2]\n",
      "f_frag = args[3]\n",
      "f_reference = args[4]\n",
      "f_annotation = args[5]\n",
      "f_out = args[6]\n",
      "\n",
      "print(paste0(\"Processing sample \", args[1]))\n",
      "\n",
      "# load pbmc object\n",
      "# pbmc.rna <- readRDS(\"../0_resources/seurat_references/pbmc_integrated.RDS\")\n",
      "#pbmc.rna <- readRDS('/lustre1/project/stg_00090/scatac_benchmark/0_resources/seurat_references/pbmc_ssc_mat__integrated.rds')\n",
      "\n",
      "################################################################################\n",
      "# ATAC\n",
      "################################################################################\n",
      "\n",
      "### get data from loom:\n",
      "atacloomcon <- Connect(filename = f_loom, mode = \"r\")\n",
      "atacloomcon\n",
      "atac_tmp <- as.Seurat(atacloomcon, assay='ATAC')\n",
      "atacloomcon$close_all()\n",
      "\n",
      "# subset by removing contig chromosomes\n",
      "rawregions = rownames(GetAssayData(atac_tmp, slot = \"counts\", assay='ATAC'))\n",
      "standard_regions = rawregions[!grepl('random|KI|Un', rawregions)]\n",
      "\n",
      "atac_tmp_data_subset = GetAssayData(atac_tmp[standard_regions], slot = \"counts\", assay='ATAC')\n",
      "atac_tmp <- CreateSeuratObject(atac_tmp_data_subset, assay='ATAC')\n",
      "\n",
      "\n",
      "# subset by removing contig chromosomes\n",
      "rawregions = rownames(GetAssayData(atac_tmp, slot = \"counts\", assay='ATAC'))\n",
      "# standard_regions = rawregions[!grepl('random|KIe\n",
      "pbmc.rna <- readRDS('../0_resources/seurat_references/pbmc_ssc_mat__integrated.rds')\n",
      "\n",
      "\n",
      "\n",
      "# correctly parse regions (default delims are '-','-')\n",
      "regions = StringToGRanges(\n",
      "    rownames(GetAssayData(atac_tmp, slot = \"counts\", assay='ATAC')),\n",
      "    sep=c(':','-')\n",
      "    )\n",
      "\n",
      "# create chromatin assay\n",
      "chromatinassay = CreateChromatinAssay(\n",
      "    counts=GetAssayData(atac_tmp, slot = \"counts\", assay='ATAC'),\n",
      "    # genome='hg38',\n",
      "    fragments = f_frag,\n",
      "    ranges=regions\n",
      "    )\n",
      "    #annotation=annotation)\n",
      "\n",
      "atac <- CreateSeuratObject(counts = chromatinassay, assay='ATAC')\n",
      "\n",
      "annotations <- readRDS(f_annotation)\n",
      "Annotation(atac) <- annotations\n",
      "\n",
      "# We exclude the first dimension as this is typically correlated with sequencing depth\n",
      "atac <- RunTFIDF(atac)\n",
      "atac <- FindTopFeatures(atac, min.cutoff = \"q0\")\n",
      "atac <- RunSVD(atac)\n",
      "atac <- RunUMAP(atac, reduction = \"lsi\", dims = 2:30, reduction.name = \"umap.atac\", reduction.key = \"atacUMAP_\")\n",
      "\n",
      "##################################################\n",
      "# Identify RNA-ATAC anchors\n",
      "\n",
      "# quantify gene activity\n",
      "gene.activities <- GeneActivity(atac, features = VariableFeatures(pbmc.rna))\n",
      "# gene.activities <- gene.activities[rownames(gene.activities)!=\"\",]\n",
      "\n",
      "# add gene activities as a new assay\n",
      "atac[[\"ACTIVITY\"]] <- CreateAssayObject(counts = gene.activities)\n",
      "\n",
      "# normalize gene activities\n",
      "DefaultAssay(atac) <- \"ACTIVITY\"\n",
      "atac <- NormalizeData(atac)\n",
      "atac <- ScaleData(atac, features = rownames(atac))\n",
      "\n",
      "# Identify anchors\n",
      "transfer.anchors <- FindTransferAnchors(reference = pbmc.rna,\n",
      "    query = atac,\n",
      "    features = VariableFeatures(object = pbmc.rna),\n",
      "    reference.assay = \"RNA\",\n",
      "    query.assay = \"ACTIVITY\",\n",
      "    reduction = \"cca\")\n",
      "\n",
      "# predict celltype\n",
      "celltype.predictions <- TransferData(\n",
      "    anchorset = transfer.anchors,\n",
      "    refdata = pbmc.rna$CellType,\n",
      "    weight.reduction = atac[[\"lsi\"]],\n",
      "    dims = 2:30)\n",
      "\n",
      "pbmc.atac <- AddMetaData(atac, metadata = celltype.predictions)\n",
      "\n",
      "md = celltype.predictions\n",
      "pred_thr = 0.7\n",
      "\n",
      "tmp = data.frame(\n",
      "      composite_sample_id = paste0(rownames(md),'-',sample_id),\n",
      "      barcode = rownames(md),\n",
      "      sample_id = sample_id,\n",
      "      cell_type = md$predicted.id,\n",
      "      cell_type_pred_score = md$prediction.score.max\n",
      "      )\n",
      "\n",
      "tmp$cell_type_hiconf_70 = tmp$cell_type\n",
      "tmp$cell_type_hiconf_70[tmp$cell_type_pred_score<pred_thr] = 'Unknown'\n",
      "\n",
      "table(tmp$cell_type)\n",
      "table(tmp$cell_type_hiconf_70)\n",
      "\n",
      "write.table(tmp, file=f_out, sep='\\t', row.names=FALSE, quote=FALSE)\n",
      "print(paste0('Wrote file ', f_out))\n"
     ]
    }
   ],
   "source": [
    "!cat ../0_resources/scripts/seurat_label_transfer_consensus.R"
   ]
  },
  {
   "cell_type": "code",
   "execution_count": 44,
   "metadata": {
    "execution": {
     "iopub.execute_input": "2022-12-19T15:54:10.656632Z",
     "iopub.status.busy": "2022-12-19T15:54:10.655811Z",
     "iopub.status.idle": "2022-12-19T15:54:10.691639Z",
     "shell.execute_reply": "2022-12-19T15:54:10.690117Z",
     "shell.execute_reply.started": "2022-12-19T15:54:10.656565Z"
    },
    "tags": []
   },
   "outputs": [
    {
     "name": "stdout",
     "output_type": "stream",
     "text": [
      "img_path=../0_resources/vsn_cache/cflerin-seurat-4.0.3-plus.sif && singularity exec --cleanenv -H $PWD -B /dodrio,/readonly/dodrio,/tmp $img_path Rscript ../0_resources/scripts/seurat_label_transfer_consensus.R master_all_1.FIXEDCELLS cell_region_looms/master_all_1.FIXEDCELLS_cto.scrublet0-4.singlets.ID.loom /lustre1/project/stg_00090/scatac_benchmark/fixedcells_4_merged/merged_all_1.fragments.ID.sorted.tsv.gz ../0_resources/seurat_references/pbmc_ref.rds ../0_resources/seurat_references/granges_annotation.rds cell_type_classification/master_all_1.FIXEDCELLS__cell_type_seurat.txt\n"
     ]
    }
   ],
   "source": [
    "parallel_filename = \"seurat_label_transfer.parallel\"\n",
    "script_path = \"../0_resources/scripts/seurat_label_transfer_consensus.R\"\n",
    "img_path = \"../0_resources/vsn_cache/cflerin-seurat-4.0.3-plus.sif\"\n",
    "reference_path = \"../0_resources/seurat_references/pbmc_ref.rds\"\n",
    "annotation_path = \"../0_resources/seurat_references/granges_annotation.rds\"\n",
    "bind_mounts = \"/dodrio,/readonly/dodrio,/tmp\"\n",
    "#bind_mounts = \"/lustre1,/staging,${VSC_SCRATCH}/tmp:/tmp\"\n",
    "\n",
    "with open(parallel_filename, 'w') as f:\n",
    "    for sample in loom_path_dict.keys():\n",
    "        outfile = f\"cell_type_classification/{sample}__cell_type_seurat.txt\"\n",
    "        if not os.path.exists(outfile):\n",
    "            loomfile = loom_path_dict[sample]\n",
    "            fragfile = frags_path_dict[sample]\n",
    "            command=f\"img_path={img_path} && singularity exec --cleanenv -H $PWD -B {bind_mounts} $img_path Rscript {script_path} {sample} {loomfile} {fragfile} {reference_path} {annotation_path} {outfile}\"\n",
    "            f.write(f\"{command}\\n\")\n",
    "            print(command)\n",
    "\n",
    "        else:\n",
    "            f.write(f\"#{outfile} already exists!\\n\")\n",
    "            print(f\"#{outfile} already exists!\")"
   ]
  },
  {
   "cell_type": "code",
   "execution_count": 45,
   "metadata": {
    "execution": {
     "iopub.execute_input": "2022-12-19T15:54:10.694455Z",
     "iopub.status.busy": "2022-12-19T15:54:10.693718Z",
     "iopub.status.idle": "2022-12-19T15:54:10.708815Z",
     "shell.execute_reply": "2022-12-19T15:54:10.707433Z",
     "shell.execute_reply.started": "2022-12-19T15:54:10.694400Z"
    },
    "tags": []
   },
   "outputs": [
    {
     "name": "stdout",
     "output_type": "stream",
     "text": [
      "Rscript ../0_resources/scripts/seurat_label_transfer_consensus.R master_all_1.FIXEDCELLS cell_region_looms/master_all_1.FIXEDCELLS_cto.scrublet0-4.singlets.ID.loom /lustre1/project/stg_00090/scatac_benchmark/fixedcells_4_merged/merged_all_1.fragments.ID.sorted.tsv.gz ../0_resources/seurat_references/pbmc_ref.rds ../0_resources/seurat_references/granges_annotation.rds cell_type_classification/master_all_1.FIXEDCELLS__cell_type_seurat.txt\n"
     ]
    }
   ],
   "source": [
    "parallel_filename = \"seurat_label_transfer.parallel\"\n",
    "script_path = \"../0_resources/scripts/seurat_label_transfer_consensus.R\"\n",
    "img_path = \"../0_resources/vsn_cache/cflerin-seurat-4.0.3-plus.sif\"\n",
    "reference_path = \"../0_resources/seurat_references/pbmc_ref.rds\"\n",
    "annotation_path = \"../0_resources/seurat_references/granges_annotation.rds\"\n",
    "bind_mounts = \"/dodrio,/readonly/dodrio,/tmp\"\n",
    "#bind_mounts = \"/lustre1,/staging,${VSC_SCRATCH}/tmp:/tmp\"\n",
    "\n",
    "with open(parallel_filename, 'w') as f:\n",
    "    for sample in loom_path_dict.keys():\n",
    "        outfile = f\"cell_type_classification/{sample}__cell_type_seurat.txt\"\n",
    "        if not os.path.exists(outfile):\n",
    "            loomfile = loom_path_dict[sample]\n",
    "            fragfile = frags_path_dict[sample]\n",
    "            command=f\"Rscript {script_path} {sample} {loomfile} {fragfile} {reference_path} {annotation_path} {outfile}\"\n",
    "            f.write(f\"{command}\\n\")\n",
    "            print(command)\n",
    "\n",
    "        else:\n",
    "            f.write(f\"#{outfile} already exists!\\n\")\n",
    "            print(f\"#{outfile} already exists!\")"
   ]
  },
  {
   "cell_type": "code",
   "execution_count": 46,
   "metadata": {
    "execution": {
     "iopub.execute_input": "2022-12-19T15:54:10.711728Z",
     "iopub.status.busy": "2022-12-19T15:54:10.710710Z",
     "iopub.status.idle": "2022-12-19T15:54:10.843007Z",
     "shell.execute_reply": "2022-12-19T15:54:10.841150Z",
     "shell.execute_reply.started": "2022-12-19T15:54:10.711685Z"
    },
    "tags": []
   },
   "outputs": [
    {
     "name": "stdout",
     "output_type": "stream",
     "text": [
      "/lustre1/project/stg_00090/scatac_benchmark/fixedcells_4_merged\n"
     ]
    }
   ],
   "source": [
    "!pwd"
   ]
  },
  {
   "cell_type": "code",
   "execution_count": 47,
   "metadata": {
    "execution": {
     "iopub.execute_input": "2022-12-19T15:54:10.846559Z",
     "iopub.status.busy": "2022-12-19T15:54:10.845746Z",
     "iopub.status.idle": "2022-12-19T15:54:10.862653Z",
     "shell.execute_reply": "2022-12-19T15:54:10.861266Z",
     "shell.execute_reply.started": "2022-12-19T15:54:10.846495Z"
    },
    "tags": []
   },
   "outputs": [
    {
     "name": "stdout",
     "output_type": "stream",
     "text": [
      "Rscript /lustre1/project/stg_00090/scatac_benchmark/0_resources/scripts/seurat_label_transfer_consensus.R master_all_1.FIXEDCELLS cell_region_looms/master_all_1.FIXEDCELLS_cto.scrublet0-4.singlets.ID.loom /lustre1/project/stg_00090/scatac_benchmark/fixedcells_4_merged/merged_all_1.fragments.ID.sorted.tsv.gz /lustre1/project/stg_00090/scatac_benchmark/0_resources/seurat_references/pbmc_ref.rds /lustre1/project/stg_00090/scatac_benchmark/0_resources/seurat_references/granges_annotation.rds $HOME/master_all_1.FIXEDCELLS__cell_type_seurat.txt\n"
     ]
    }
   ],
   "source": [
    "parallel_filename = \"seurat_label_transfer.parallel\"\n",
    "script_path = \"/lustre1/project/stg_00090/scatac_benchmark/0_resources/scripts/seurat_label_transfer_consensus.R\"\n",
    "img_path = \"/lustre1/project/stg_00090/scatac_benchmark/0_resources/vsn_cache/cflerin-seurat-4.0.3-plus.sif\"\n",
    "reference_path = \"/lustre1/project/stg_00090/scatac_benchmark/0_resources/seurat_references/pbmc_ref.rds\"\n",
    "annotation_path = \"/lustre1/project/stg_00090/scatac_benchmark/0_resources/seurat_references/granges_annotation.rds\"\n",
    "# bind_mounts = \"/dodrio,/readonly/dodrio,/tmp\"\n",
    "bind_mounts = \"/lustre1,/staging,${VSC_SCRATCH}/tmp:/tmp\"\n",
    "\n",
    "with open(parallel_filename, 'w') as f:\n",
    "    for sample in loom_path_dict.keys():\n",
    "        outfile = f\"$HOME/{sample}__cell_type_seurat.txt\"\n",
    "        if not os.path.exists(outfile):\n",
    "            loomfile = loom_path_dict[sample]\n",
    "            fragfile = frags_path_dict[sample]\n",
    "            command=f\"Rscript {script_path} {sample} {loomfile} {fragfile} {reference_path} {annotation_path} {outfile}\"\n",
    "            f.write(f\"{command}\\n\")\n",
    "            print(command)\n",
    "\n",
    "        else:\n",
    "            f.write(f\"#{outfile} already exists!\\n\")\n",
    "            print(f\"#{outfile} already exists!\")"
   ]
  },
  {
   "cell_type": "markdown",
   "metadata": {},
   "source": [
    "# Run the Rscript"
   ]
  },
  {
   "cell_type": "markdown",
   "metadata": {},
   "source": [
    "```\n",
    "mkdir cell_type_classification\n",
    "export OMP_THREAD_LIMIT=80\n",
    "cat seurat_label_transfer.parallel | parallel -j 2 --progress\n",
    "```"
   ]
  }
 ],
 "metadata": {
  "kernelspec": {
   "display_name": "20220628_pycistopic.sif",
   "language": "python",
   "name": "cistopic_20220628"
  },
  "language_info": {
   "codemirror_mode": {
    "name": "ipython",
    "version": 3
   },
   "file_extension": ".py",
   "mimetype": "text/x-python",
   "name": "python",
   "nbconvert_exporter": "python",
   "pygments_lexer": "ipython3",
   "version": "3.8.13"
  }
 },
 "nbformat": 4,
 "nbformat_minor": 4
}

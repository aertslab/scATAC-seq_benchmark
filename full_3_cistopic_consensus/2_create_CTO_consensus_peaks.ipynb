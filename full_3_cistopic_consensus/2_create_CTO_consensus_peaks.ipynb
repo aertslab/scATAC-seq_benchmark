{
 "cells": [
  {
   "cell_type": "markdown",
   "id": "1377b618",
   "metadata": {
    "papermill": {
     "duration": 0.007499,
     "end_time": "2022-09-19T22:13:33.756044",
     "exception": false,
     "start_time": "2022-09-19T22:13:33.748545",
     "status": "completed"
    },
    "tags": []
   },
   "source": [
    "# pycisTopic analysis\n",
    "\n",
    "Full dataset, using CONSENSUS peaks."
   ]
  },
  {
   "cell_type": "code",
   "execution_count": 144,
   "id": "ea56010a",
   "metadata": {
    "execution": {
     "iopub.execute_input": "2022-09-26T16:07:35.361616Z",
     "iopub.status.busy": "2022-09-26T16:07:35.360955Z",
     "iopub.status.idle": "2022-09-26T16:07:35.375281Z",
     "shell.execute_reply": "2022-09-26T16:07:35.374615Z",
     "shell.execute_reply.started": "2022-09-26T16:07:35.361573Z"
    },
    "papermill": {
     "duration": 3.137768,
     "end_time": "2022-09-19T22:13:36.907154",
     "exception": false,
     "start_time": "2022-09-19T22:13:33.769386",
     "status": "completed"
    },
    "tags": []
   },
   "outputs": [
    {
     "name": "stdout",
     "output_type": "stream",
     "text": [
      "The nb_black extension is already loaded. To reload it, use:\n",
      "  %reload_ext nb_black\n"
     ]
    },
    {
     "data": {
      "application/javascript": [
       "\n",
       "            setTimeout(function() {\n",
       "                var nbb_cell_id = 144;\n",
       "                var nbb_unformatted_code = \"import pycisTopic\\npycisTopic.__version__\\n\\nimport warnings\\nwarnings.filterwarnings('ignore')\\nwarnings.simplefilter('ignore')\\n\\nimport pickle\\nimport pandas as pd\\n\\nimport os\\n\\n\\nimport glob\\nfrom collections import OrderedDict\\n%load_ext nb_black\";\n",
       "                var nbb_formatted_code = \"import pycisTopic\\n\\npycisTopic.__version__\\n\\nimport warnings\\n\\nwarnings.filterwarnings(\\\"ignore\\\")\\nwarnings.simplefilter(\\\"ignore\\\")\\n\\nimport pickle\\nimport pandas as pd\\n\\nimport os\\n\\n\\nimport glob\\nfrom collections import OrderedDict\\n\\n%load_ext nb_black\";\n",
       "                var nbb_cells = Jupyter.notebook.get_cells();\n",
       "                for (var i = 0; i < nbb_cells.length; ++i) {\n",
       "                    if (nbb_cells[i].input_prompt_number == nbb_cell_id) {\n",
       "                        if (nbb_cells[i].get_text() == nbb_unformatted_code) {\n",
       "                             nbb_cells[i].set_text(nbb_formatted_code);\n",
       "                        }\n",
       "                        break;\n",
       "                    }\n",
       "                }\n",
       "            }, 500);\n",
       "            "
      ],
      "text/plain": [
       "<IPython.core.display.Javascript object>"
      ]
     },
     "metadata": {},
     "output_type": "display_data"
    }
   ],
   "source": [
    "import pycisTopic\n",
    "pycisTopic.__version__\n",
    "\n",
    "import warnings\n",
    "warnings.filterwarnings('ignore')\n",
    "warnings.simplefilter('ignore')\n",
    "\n",
    "import pickle\n",
    "import pandas as pd\n",
    "\n",
    "import os\n",
    "\n",
    "\n",
    "import glob\n",
    "from collections import OrderedDict\n",
    "%load_ext nb_black"
   ]
  },
  {
   "cell_type": "code",
   "execution_count": 145,
   "id": "e88951e0",
   "metadata": {
    "execution": {
     "iopub.execute_input": "2022-09-26T16:07:35.377324Z",
     "iopub.status.busy": "2022-09-26T16:07:35.377011Z",
     "iopub.status.idle": "2022-09-26T16:07:35.799805Z",
     "shell.execute_reply": "2022-09-26T16:07:35.798748Z",
     "shell.execute_reply.started": "2022-09-26T16:07:35.377305Z"
    },
    "papermill": {
     "duration": 0.299204,
     "end_time": "2022-09-19T22:13:37.212750",
     "exception": false,
     "start_time": "2022-09-19T22:13:36.913546",
     "status": "completed"
    },
    "tags": []
   },
   "outputs": [
    {
     "name": "stdout",
     "output_type": "stream",
     "text": [
      "/lustre1/project/stg_00090/scatac_benchmark/full_3_cistopic_consensus\n"
     ]
    },
    {
     "data": {
      "application/javascript": [
       "\n",
       "            setTimeout(function() {\n",
       "                var nbb_cell_id = 145;\n",
       "                var nbb_unformatted_code = \"!pwd\";\n",
       "                var nbb_formatted_code = \"!pwd\";\n",
       "                var nbb_cells = Jupyter.notebook.get_cells();\n",
       "                for (var i = 0; i < nbb_cells.length; ++i) {\n",
       "                    if (nbb_cells[i].input_prompt_number == nbb_cell_id) {\n",
       "                        if (nbb_cells[i].get_text() == nbb_unformatted_code) {\n",
       "                             nbb_cells[i].set_text(nbb_formatted_code);\n",
       "                        }\n",
       "                        break;\n",
       "                    }\n",
       "                }\n",
       "            }, 500);\n",
       "            "
      ],
      "text/plain": [
       "<IPython.core.display.Javascript object>"
      ]
     },
     "metadata": {},
     "output_type": "display_data"
    }
   ],
   "source": [
    "!pwd"
   ]
  },
  {
   "cell_type": "code",
   "execution_count": 146,
   "id": "181dd3be",
   "metadata": {
    "execution": {
     "iopub.execute_input": "2022-09-26T16:07:35.801199Z",
     "iopub.status.busy": "2022-09-26T16:07:35.800966Z",
     "iopub.status.idle": "2022-09-26T16:07:35.807064Z",
     "shell.execute_reply": "2022-09-26T16:07:35.806654Z",
     "shell.execute_reply.started": "2022-09-26T16:07:35.801176Z"
    },
    "papermill": {
     "duration": 0.014372,
     "end_time": "2022-09-19T22:13:37.233525",
     "exception": false,
     "start_time": "2022-09-19T22:13:37.219153",
     "status": "completed"
    },
    "tags": []
   },
   "outputs": [
    {
     "data": {
      "application/javascript": [
       "\n",
       "            setTimeout(function() {\n",
       "                var nbb_cell_id = 146;\n",
       "                var nbb_unformatted_code = \"wdir = '/lustre1/project/stg_00090/scatac_benchmark/full_3_cistopic_consensus'\\nos.chdir(wdir)\";\n",
       "                var nbb_formatted_code = \"wdir = \\\"/lustre1/project/stg_00090/scatac_benchmark/full_3_cistopic_consensus\\\"\\nos.chdir(wdir)\";\n",
       "                var nbb_cells = Jupyter.notebook.get_cells();\n",
       "                for (var i = 0; i < nbb_cells.length; ++i) {\n",
       "                    if (nbb_cells[i].input_prompt_number == nbb_cell_id) {\n",
       "                        if (nbb_cells[i].get_text() == nbb_unformatted_code) {\n",
       "                             nbb_cells[i].set_text(nbb_formatted_code);\n",
       "                        }\n",
       "                        break;\n",
       "                    }\n",
       "                }\n",
       "            }, 500);\n",
       "            "
      ],
      "text/plain": [
       "<IPython.core.display.Javascript object>"
      ]
     },
     "metadata": {},
     "output_type": "display_data"
    }
   ],
   "source": [
    "wdir = '/lustre1/project/stg_00090/scatac_benchmark/full_3_cistopic_consensus'\n",
    "os.chdir(wdir)"
   ]
  },
  {
   "cell_type": "markdown",
   "id": "5e674ebb",
   "metadata": {
    "papermill": {
     "duration": 0.00566,
     "end_time": "2022-09-19T22:13:37.244978",
     "exception": false,
     "start_time": "2022-09-19T22:13:37.239318",
     "status": "completed"
    },
    "tags": []
   },
   "source": [
    "## Create the cisTopic objects for each sample"
   ]
  },
  {
   "cell_type": "markdown",
   "id": "39d0d0ee",
   "metadata": {
    "papermill": {
     "duration": 0.006573,
     "end_time": "2022-09-19T22:13:37.257163",
     "exception": false,
     "start_time": "2022-09-19T22:13:37.250590",
     "status": "completed"
    },
    "tags": []
   },
   "source": [
    "Make a new output dir"
   ]
  },
  {
   "cell_type": "code",
   "execution_count": 147,
   "id": "520d222e",
   "metadata": {
    "execution": {
     "iopub.execute_input": "2022-09-26T16:07:35.808121Z",
     "iopub.status.busy": "2022-09-26T16:07:35.807926Z",
     "iopub.status.idle": "2022-09-26T16:07:35.828683Z",
     "shell.execute_reply": "2022-09-26T16:07:35.828236Z",
     "shell.execute_reply.started": "2022-09-26T16:07:35.808103Z"
    },
    "papermill": {
     "duration": 0.014849,
     "end_time": "2022-09-19T22:13:37.277782",
     "exception": false,
     "start_time": "2022-09-19T22:13:37.262933",
     "status": "completed"
    },
    "tags": []
   },
   "outputs": [
    {
     "data": {
      "application/javascript": [
       "\n",
       "            setTimeout(function() {\n",
       "                var nbb_cell_id = 147;\n",
       "                var nbb_unformatted_code = \"cistopic_objects_out = 'cistopic_objects'\\nif not os.path.exists(os.path.join(wdir, cistopic_objects_out)):\\n    os.makedirs(os.path.join(wdir, cistopic_objects_out))\";\n",
       "                var nbb_formatted_code = \"cistopic_objects_out = \\\"cistopic_objects\\\"\\nif not os.path.exists(os.path.join(wdir, cistopic_objects_out)):\\n    os.makedirs(os.path.join(wdir, cistopic_objects_out))\";\n",
       "                var nbb_cells = Jupyter.notebook.get_cells();\n",
       "                for (var i = 0; i < nbb_cells.length; ++i) {\n",
       "                    if (nbb_cells[i].input_prompt_number == nbb_cell_id) {\n",
       "                        if (nbb_cells[i].get_text() == nbb_unformatted_code) {\n",
       "                             nbb_cells[i].set_text(nbb_formatted_code);\n",
       "                        }\n",
       "                        break;\n",
       "                    }\n",
       "                }\n",
       "            }, 500);\n",
       "            "
      ],
      "text/plain": [
       "<IPython.core.display.Javascript object>"
      ]
     },
     "metadata": {},
     "output_type": "display_data"
    }
   ],
   "source": [
    "cistopic_objects_out = 'cistopic_objects'\n",
    "if not os.path.exists(os.path.join(wdir, cistopic_objects_out)):\n",
    "    os.makedirs(os.path.join(wdir, cistopic_objects_out))"
   ]
  },
  {
   "cell_type": "markdown",
   "id": "0855b5b3",
   "metadata": {
    "papermill": {
     "duration": 0.005687,
     "end_time": "2022-09-19T22:13:37.289380",
     "exception": false,
     "start_time": "2022-09-19T22:13:37.283693",
     "status": "completed"
    },
    "tags": []
   },
   "source": [
    "Create a dictionary with fragments files for each sample"
   ]
  },
  {
   "cell_type": "code",
   "execution_count": 148,
   "id": "234c1d9f",
   "metadata": {
    "execution": {
     "iopub.execute_input": "2022-09-26T16:07:35.830892Z",
     "iopub.status.busy": "2022-09-26T16:07:35.830558Z",
     "iopub.status.idle": "2022-09-26T16:07:35.850594Z",
     "shell.execute_reply": "2022-09-26T16:07:35.850182Z",
     "shell.execute_reply.started": "2022-09-26T16:07:35.830874Z"
    },
    "papermill": {
     "duration": 0.020125,
     "end_time": "2022-09-19T22:13:37.315337",
     "exception": false,
     "start_time": "2022-09-19T22:13:37.295212",
     "status": "completed"
    },
    "tags": []
   },
   "outputs": [
    {
     "data": {
      "text/plain": [
       "{'BIO_ddseq_1.FULL': '../1_data_repository/full_fragments/BIO_ddseq_1.FULL.fragments.tsv.gz',\n",
       " 'BIO_ddseq_2.FULL': '../1_data_repository/full_fragments/BIO_ddseq_2.FULL.fragments.tsv.gz',\n",
       " 'BIO_ddseq_3.FULL': '../1_data_repository/full_fragments/BIO_ddseq_3.FULL.fragments.tsv.gz',\n",
       " 'BIO_ddseq_4.FULL': '../1_data_repository/full_fragments/BIO_ddseq_4.FULL.fragments.tsv.gz',\n",
       " 'BRO_mtscatac_1.FULL': '../1_data_repository/full_fragments/BRO_mtscatac_1.FULL.fragments.tsv.gz',\n",
       " 'BRO_mtscatac_2.FULL': '../1_data_repository/full_fragments/BRO_mtscatac_2.FULL.fragments.tsv.gz',\n",
       " 'CNA_10xmultiome_1.FULL': '../1_data_repository/full_fragments/CNA_10xmultiome_1.FULL.fragments.tsv.gz',\n",
       " 'CNA_10xmultiome_2.FULL': '../1_data_repository/full_fragments/CNA_10xmultiome_2.FULL.fragments.tsv.gz',\n",
       " 'CNA_10xv11_1.FULL': '../1_data_repository/full_fragments/CNA_10xv11_1.FULL.fragments.tsv.gz',\n",
       " 'CNA_10xv11_2.FULL': '../1_data_repository/full_fragments/CNA_10xv11_2.FULL.fragments.tsv.gz',\n",
       " 'CNA_10xv11_3.FULL': '../1_data_repository/full_fragments/CNA_10xv11_3.FULL.fragments.tsv.gz',\n",
       " 'CNA_10xv11_4.FULL': '../1_data_repository/full_fragments/CNA_10xv11_4.FULL.fragments.tsv.gz',\n",
       " 'CNA_10xv11_5.FULL': '../1_data_repository/full_fragments/CNA_10xv11_5.FULL.fragments.tsv.gz',\n",
       " 'CNA_10xv2_1.FULL': '../1_data_repository/full_fragments/CNA_10xv2_1.FULL.fragments.tsv.gz',\n",
       " 'CNA_10xv2_2.FULL': '../1_data_repository/full_fragments/CNA_10xv2_2.FULL.fragments.tsv.gz',\n",
       " 'CNA_hydrop_1.FULL': '../1_data_repository/full_fragments/CNA_hydrop_1.FULL.fragments.tsv.gz',\n",
       " 'CNA_hydrop_2.FULL': '../1_data_repository/full_fragments/CNA_hydrop_2.FULL.fragments.tsv.gz',\n",
       " 'CNA_hydrop_3.FULL': '../1_data_repository/full_fragments/CNA_hydrop_3.FULL.fragments.tsv.gz',\n",
       " 'CNA_mtscatac_1.FULL': '../1_data_repository/full_fragments/CNA_mtscatac_1.FULL.fragments.tsv.gz',\n",
       " 'CNA_mtscatac_2.FULL': '../1_data_repository/full_fragments/CNA_mtscatac_2.FULL.fragments.tsv.gz',\n",
       " 'EPF_hydrop_1.FULL': '../1_data_repository/full_fragments/EPF_hydrop_1.FULL.fragments.tsv.gz',\n",
       " 'EPF_hydrop_2.FULL': '../1_data_repository/full_fragments/EPF_hydrop_2.FULL.fragments.tsv.gz',\n",
       " 'EPF_hydrop_3.FULL': '../1_data_repository/full_fragments/EPF_hydrop_3.FULL.fragments.tsv.gz',\n",
       " 'EPF_hydrop_4.FULL': '../1_data_repository/full_fragments/EPF_hydrop_4.FULL.fragments.tsv.gz',\n",
       " 'HAR_ddseq_1.FULL': '../1_data_repository/full_fragments/HAR_ddseq_1.FULL.fragments.tsv.gz',\n",
       " 'HAR_ddseq_2.FULL': '../1_data_repository/full_fragments/HAR_ddseq_2.FULL.fragments.tsv.gz',\n",
       " 'MDC_mtscatac_1.FULL': '../1_data_repository/full_fragments/MDC_mtscatac_1.FULL.fragments.tsv.gz',\n",
       " 'MDC_mtscatac_2.FULL': '../1_data_repository/full_fragments/MDC_mtscatac_2.FULL.fragments.tsv.gz',\n",
       " 'OHS_s3atac_1.FULL': '../1_data_repository/full_fragments/OHS_s3atac_1.FULL.fragments.tsv.gz',\n",
       " 'OHS_s3atac_2.FULL': '../1_data_repository/full_fragments/OHS_s3atac_2.FULL.fragments.tsv.gz',\n",
       " 'SAN_10xmultiome_1.FULL': '../1_data_repository/full_fragments/SAN_10xmultiome_1.FULL.fragments.tsv.gz',\n",
       " 'SAN_10xmultiome_2.FULL': '../1_data_repository/full_fragments/SAN_10xmultiome_2.FULL.fragments.tsv.gz',\n",
       " 'STA_10xv11_1.FULL': '../1_data_repository/full_fragments/STA_10xv11_1.FULL.fragments.tsv.gz',\n",
       " 'STA_10xv11_2.FULL': '../1_data_repository/full_fragments/STA_10xv11_2.FULL.fragments.tsv.gz',\n",
       " 'TXG_10xv11_1.FULL': '../1_data_repository/full_fragments/TXG_10xv11_1.FULL.fragments.tsv.gz',\n",
       " 'TXG_10xv2_1.FULL': '../1_data_repository/full_fragments/TXG_10xv2_1.FULL.fragments.tsv.gz',\n",
       " 'TXG_10xv2_2.FULL': '../1_data_repository/full_fragments/TXG_10xv2_2.FULL.fragments.tsv.gz',\n",
       " 'UCS_ddseq_1.FULL': '../1_data_repository/full_fragments/UCS_ddseq_1.FULL.fragments.tsv.gz',\n",
       " 'UCS_ddseq_2.FULL': '../1_data_repository/full_fragments/UCS_ddseq_2.FULL.fragments.tsv.gz',\n",
       " 'VIB_10xmultiome_1.FULL': '../1_data_repository/full_fragments/VIB_10xmultiome_1.FULL.fragments.tsv.gz',\n",
       " 'VIB_10xmultiome_2.FULL': '../1_data_repository/full_fragments/VIB_10xmultiome_2.FULL.fragments.tsv.gz',\n",
       " 'VIB_10xv1_1.FULL': '../1_data_repository/full_fragments/VIB_10xv1_1.FULL.fragments.tsv.gz',\n",
       " 'VIB_10xv1_2.FULL': '../1_data_repository/full_fragments/VIB_10xv1_2.FULL.fragments.tsv.gz',\n",
       " 'VIB_10xv2_1.FULL': '../1_data_repository/full_fragments/VIB_10xv2_1.FULL.fragments.tsv.gz',\n",
       " 'VIB_10xv2_2.FULL': '../1_data_repository/full_fragments/VIB_10xv2_2.FULL.fragments.tsv.gz',\n",
       " 'VIB_hydrop_1.FULL': '../1_data_repository/full_fragments/VIB_hydrop_1.FULL.fragments.tsv.gz',\n",
       " 'VIB_hydrop_11.FULL': '../1_data_repository/full_fragments/VIB_hydrop_11.FULL.fragments.tsv.gz',\n",
       " 'VIB_hydrop_12.FULL': '../1_data_repository/full_fragments/VIB_hydrop_12.FULL.fragments.tsv.gz',\n",
       " 'VIB_hydrop_2.FULL': '../1_data_repository/full_fragments/VIB_hydrop_2.FULL.fragments.tsv.gz',\n",
       " 'VIB_hydrop_21.FULL': '../1_data_repository/full_fragments/VIB_hydrop_21.FULL.fragments.tsv.gz',\n",
       " 'VIB_hydrop_22.FULL': '../1_data_repository/full_fragments/VIB_hydrop_22.FULL.fragments.tsv.gz'}"
      ]
     },
     "execution_count": 148,
     "metadata": {},
     "output_type": "execute_result"
    },
    {
     "data": {
      "application/javascript": [
       "\n",
       "            setTimeout(function() {\n",
       "                var nbb_cell_id = 148;\n",
       "                var nbb_unformatted_code = \"filenames = sorted(glob.glob('../1_data_repository/full_fragments/*.fragments.tsv.gz'))\\nfragments_dict = {}\\nfor filename in filenames:\\n    sample = filename.split('/')[-1].split('.fragments.tsv.gz')[0]\\n    fragments_dict[sample] = filename\\nfragments_dict\";\n",
       "                var nbb_formatted_code = \"filenames = sorted(glob.glob(\\\"../1_data_repository/full_fragments/*.fragments.tsv.gz\\\"))\\nfragments_dict = {}\\nfor filename in filenames:\\n    sample = filename.split(\\\"/\\\")[-1].split(\\\".fragments.tsv.gz\\\")[0]\\n    fragments_dict[sample] = filename\\nfragments_dict\";\n",
       "                var nbb_cells = Jupyter.notebook.get_cells();\n",
       "                for (var i = 0; i < nbb_cells.length; ++i) {\n",
       "                    if (nbb_cells[i].input_prompt_number == nbb_cell_id) {\n",
       "                        if (nbb_cells[i].get_text() == nbb_unformatted_code) {\n",
       "                             nbb_cells[i].set_text(nbb_formatted_code);\n",
       "                        }\n",
       "                        break;\n",
       "                    }\n",
       "                }\n",
       "            }, 500);\n",
       "            "
      ],
      "text/plain": [
       "<IPython.core.display.Javascript object>"
      ]
     },
     "metadata": {},
     "output_type": "display_data"
    }
   ],
   "source": [
    "filenames = sorted(glob.glob('../1_data_repository/full_fragments/*.fragments.tsv.gz'))\n",
    "fragments_dict = {}\n",
    "for filename in filenames:\n",
    "    sample = filename.split('/')[-1].split('.fragments.tsv.gz')[0]\n",
    "    fragments_dict[sample] = filename\n",
    "fragments_dict"
   ]
  },
  {
   "cell_type": "code",
   "execution_count": 149,
   "id": "8ae67046",
   "metadata": {
    "execution": {
     "iopub.execute_input": "2022-09-26T16:07:35.851576Z",
     "iopub.status.busy": "2022-09-26T16:07:35.851342Z",
     "iopub.status.idle": "2022-09-26T16:07:35.867767Z",
     "shell.execute_reply": "2022-09-26T16:07:35.867308Z",
     "shell.execute_reply.started": "2022-09-26T16:07:35.851558Z"
    },
    "papermill": {
     "duration": 0.019323,
     "end_time": "2022-09-19T22:13:37.341717",
     "exception": false,
     "start_time": "2022-09-19T22:13:37.322394",
     "status": "completed"
    },
    "tags": []
   },
   "outputs": [
    {
     "data": {
      "text/plain": [
       "{'BIO_ddseq_1.FULL': 'cistopic_qc_out_CONSENSUS/BIO_ddseq_1.FULL__metadata_bc.pkl',\n",
       " 'BIO_ddseq_2.FULL': 'cistopic_qc_out_CONSENSUS/BIO_ddseq_2.FULL__metadata_bc.pkl',\n",
       " 'BIO_ddseq_3.FULL': 'cistopic_qc_out_CONSENSUS/BIO_ddseq_3.FULL__metadata_bc.pkl',\n",
       " 'BIO_ddseq_4.FULL': 'cistopic_qc_out_CONSENSUS/BIO_ddseq_4.FULL__metadata_bc.pkl',\n",
       " 'BRO_mtscatac_1.FULL': 'cistopic_qc_out_CONSENSUS/BRO_mtscatac_1.FULL__metadata_bc.pkl',\n",
       " 'BRO_mtscatac_2.FULL': 'cistopic_qc_out_CONSENSUS/BRO_mtscatac_2.FULL__metadata_bc.pkl',\n",
       " 'CNA_10xv11_1.FULL': 'cistopic_qc_out_CONSENSUS/CNA_10xv11_1.FULL__metadata_bc.pkl',\n",
       " 'CNA_10xv11_2.FULL': 'cistopic_qc_out_CONSENSUS/CNA_10xv11_2.FULL__metadata_bc.pkl',\n",
       " 'CNA_10xv11_3.FULL': 'cistopic_qc_out_CONSENSUS/CNA_10xv11_3.FULL__metadata_bc.pkl',\n",
       " 'CNA_10xv11_4.FULL': 'cistopic_qc_out_CONSENSUS/CNA_10xv11_4.FULL__metadata_bc.pkl',\n",
       " 'CNA_10xv11_5.FULL': 'cistopic_qc_out_CONSENSUS/CNA_10xv11_5.FULL__metadata_bc.pkl',\n",
       " 'CNA_10xv2_1.FULL': 'cistopic_qc_out_CONSENSUS/CNA_10xv2_1.FULL__metadata_bc.pkl',\n",
       " 'CNA_10xv2_2.FULL': 'cistopic_qc_out_CONSENSUS/CNA_10xv2_2.FULL__metadata_bc.pkl',\n",
       " 'CNA_hydrop_1.FULL': 'cistopic_qc_out_CONSENSUS/CNA_hydrop_1.FULL__metadata_bc.pkl',\n",
       " 'CNA_hydrop_2.FULL': 'cistopic_qc_out_CONSENSUS/CNA_hydrop_2.FULL__metadata_bc.pkl',\n",
       " 'CNA_hydrop_3.FULL': 'cistopic_qc_out_CONSENSUS/CNA_hydrop_3.FULL__metadata_bc.pkl',\n",
       " 'CNA_mtscatac_1.FULL': 'cistopic_qc_out_CONSENSUS/CNA_mtscatac_1.FULL__metadata_bc.pkl',\n",
       " 'CNA_mtscatac_2.FULL': 'cistopic_qc_out_CONSENSUS/CNA_mtscatac_2.FULL__metadata_bc.pkl',\n",
       " 'EPF_hydrop_1.FULL': 'cistopic_qc_out_CONSENSUS/EPF_hydrop_1.FULL__metadata_bc.pkl',\n",
       " 'EPF_hydrop_2.FULL': 'cistopic_qc_out_CONSENSUS/EPF_hydrop_2.FULL__metadata_bc.pkl',\n",
       " 'EPF_hydrop_3.FULL': 'cistopic_qc_out_CONSENSUS/EPF_hydrop_3.FULL__metadata_bc.pkl',\n",
       " 'EPF_hydrop_4.FULL': 'cistopic_qc_out_CONSENSUS/EPF_hydrop_4.FULL__metadata_bc.pkl',\n",
       " 'HAR_ddseq_1.FULL': 'cistopic_qc_out_CONSENSUS/HAR_ddseq_1.FULL__metadata_bc.pkl',\n",
       " 'HAR_ddseq_2.FULL': 'cistopic_qc_out_CONSENSUS/HAR_ddseq_2.FULL__metadata_bc.pkl',\n",
       " 'MDC_mtscatac_1.FULL': 'cistopic_qc_out_CONSENSUS/MDC_mtscatac_1.FULL__metadata_bc.pkl',\n",
       " 'MDC_mtscatac_2.FULL': 'cistopic_qc_out_CONSENSUS/MDC_mtscatac_2.FULL__metadata_bc.pkl',\n",
       " 'SAN_10xmultiome_1.FULL': 'cistopic_qc_out_CONSENSUS/SAN_10xmultiome_1.FULL__metadata_bc.pkl',\n",
       " 'SAN_10xmultiome_2.FULL': 'cistopic_qc_out_CONSENSUS/SAN_10xmultiome_2.FULL__metadata_bc.pkl',\n",
       " 'STA_10xv11_1.FULL': 'cistopic_qc_out_CONSENSUS/STA_10xv11_1.FULL__metadata_bc.pkl',\n",
       " 'STA_10xv11_2.FULL': 'cistopic_qc_out_CONSENSUS/STA_10xv11_2.FULL__metadata_bc.pkl',\n",
       " 'TXG_10xv11_1.FULL': 'cistopic_qc_out_CONSENSUS/TXG_10xv11_1.FULL__metadata_bc.pkl',\n",
       " 'TXG_10xv2_1.FULL': 'cistopic_qc_out_CONSENSUS/TXG_10xv2_1.FULL__metadata_bc.pkl',\n",
       " 'TXG_10xv2_2.FULL': 'cistopic_qc_out_CONSENSUS/TXG_10xv2_2.FULL__metadata_bc.pkl',\n",
       " 'VIB_10xmultiome_1.FULL': 'cistopic_qc_out_CONSENSUS/VIB_10xmultiome_1.FULL__metadata_bc.pkl',\n",
       " 'VIB_10xmultiome_2.FULL': 'cistopic_qc_out_CONSENSUS/VIB_10xmultiome_2.FULL__metadata_bc.pkl',\n",
       " 'VIB_10xv1_1.FULL': 'cistopic_qc_out_CONSENSUS/VIB_10xv1_1.FULL__metadata_bc.pkl',\n",
       " 'VIB_10xv1_2.FULL': 'cistopic_qc_out_CONSENSUS/VIB_10xv1_2.FULL__metadata_bc.pkl',\n",
       " 'VIB_10xv2_1.FULL': 'cistopic_qc_out_CONSENSUS/VIB_10xv2_1.FULL__metadata_bc.pkl',\n",
       " 'VIB_10xv2_2.FULL': 'cistopic_qc_out_CONSENSUS/VIB_10xv2_2.FULL__metadata_bc.pkl',\n",
       " 'VIB_hydrop_1.FULL': 'cistopic_qc_out_CONSENSUS/VIB_hydrop_1.FULL__metadata_bc.pkl',\n",
       " 'VIB_hydrop_11.FULL': 'cistopic_qc_out_CONSENSUS/VIB_hydrop_11.FULL__metadata_bc.pkl',\n",
       " 'VIB_hydrop_12.FULL': 'cistopic_qc_out_CONSENSUS/VIB_hydrop_12.FULL__metadata_bc.pkl',\n",
       " 'VIB_hydrop_2.FULL': 'cistopic_qc_out_CONSENSUS/VIB_hydrop_2.FULL__metadata_bc.pkl',\n",
       " 'VIB_hydrop_21.FULL': 'cistopic_qc_out_CONSENSUS/VIB_hydrop_21.FULL__metadata_bc.pkl',\n",
       " 'VIB_hydrop_22.FULL': 'cistopic_qc_out_CONSENSUS/VIB_hydrop_22.FULL__metadata_bc.pkl'}"
      ]
     },
     "execution_count": 149,
     "metadata": {},
     "output_type": "execute_result"
    },
    {
     "data": {
      "application/javascript": [
       "\n",
       "            setTimeout(function() {\n",
       "                var nbb_cell_id = 149;\n",
       "                var nbb_unformatted_code = \"metadata_bc_sub_dict = {x.split('/')[-1].split(f'__')[0]: x for x in sorted(glob.glob(\\\"cistopic_qc_out_CONSENSUS/*metadata_bc.pkl\\\"))}\\nmetadata_bc_sub_dict\";\n",
       "                var nbb_formatted_code = \"metadata_bc_sub_dict = {\\n    x.split(\\\"/\\\")[-1].split(f\\\"__\\\")[0]: x\\n    for x in sorted(glob.glob(\\\"cistopic_qc_out_CONSENSUS/*metadata_bc.pkl\\\"))\\n}\\nmetadata_bc_sub_dict\";\n",
       "                var nbb_cells = Jupyter.notebook.get_cells();\n",
       "                for (var i = 0; i < nbb_cells.length; ++i) {\n",
       "                    if (nbb_cells[i].input_prompt_number == nbb_cell_id) {\n",
       "                        if (nbb_cells[i].get_text() == nbb_unformatted_code) {\n",
       "                             nbb_cells[i].set_text(nbb_formatted_code);\n",
       "                        }\n",
       "                        break;\n",
       "                    }\n",
       "                }\n",
       "            }, 500);\n",
       "            "
      ],
      "text/plain": [
       "<IPython.core.display.Javascript object>"
      ]
     },
     "metadata": {},
     "output_type": "display_data"
    }
   ],
   "source": [
    "metadata_bc_sub_dict = {x.split('/')[-1].split(f'__')[0]: x for x in sorted(glob.glob(\"cistopic_qc_out_CONSENSUS/*metadata_bc.pkl\"))}\n",
    "metadata_bc_sub_dict"
   ]
  },
  {
   "cell_type": "code",
   "execution_count": 150,
   "id": "dc9c96cf",
   "metadata": {
    "execution": {
     "iopub.execute_input": "2022-09-26T16:07:35.868848Z",
     "iopub.status.busy": "2022-09-26T16:07:35.868653Z",
     "iopub.status.idle": "2022-09-26T16:07:35.885475Z",
     "shell.execute_reply": "2022-09-26T16:07:35.885029Z",
     "shell.execute_reply.started": "2022-09-26T16:07:35.868830Z"
    },
    "papermill": {
     "duration": 0.020157,
     "end_time": "2022-09-19T22:13:37.368436",
     "exception": false,
     "start_time": "2022-09-19T22:13:37.348279",
     "status": "completed"
    },
    "tags": []
   },
   "outputs": [
    {
     "data": {
      "text/plain": [
       "{'BIO_ddseq_1.FULL': 'selected_barcodes/BIO_ddseq_1.FULL_bc_passing_filters_otsu.pkl',\n",
       " 'BIO_ddseq_2.FULL': 'selected_barcodes/BIO_ddseq_2.FULL_bc_passing_filters_otsu.pkl',\n",
       " 'BIO_ddseq_3.FULL': 'selected_barcodes/BIO_ddseq_3.FULL_bc_passing_filters_otsu.pkl',\n",
       " 'BIO_ddseq_4.FULL': 'selected_barcodes/BIO_ddseq_4.FULL_bc_passing_filters_otsu.pkl',\n",
       " 'BRO_mtscatac_1.FULL': 'selected_barcodes/BRO_mtscatac_1.FULL_bc_passing_filters_otsu.pkl',\n",
       " 'BRO_mtscatac_2.FULL': 'selected_barcodes/BRO_mtscatac_2.FULL_bc_passing_filters_otsu.pkl',\n",
       " 'CNA_10xmultiome_1.FULL': 'selected_barcodes/CNA_10xmultiome_1.FULL_bc_passing_filters_otsu.pkl',\n",
       " 'CNA_10xmultiome_2.FULL': 'selected_barcodes/CNA_10xmultiome_2.FULL_bc_passing_filters_otsu.pkl',\n",
       " 'CNA_10xv11_1.FULL': 'selected_barcodes/CNA_10xv11_1.FULL_bc_passing_filters_otsu.pkl',\n",
       " 'CNA_10xv11_2.FULL': 'selected_barcodes/CNA_10xv11_2.FULL_bc_passing_filters_otsu.pkl',\n",
       " 'CNA_10xv11_3.FULL': 'selected_barcodes/CNA_10xv11_3.FULL_bc_passing_filters_otsu.pkl',\n",
       " 'CNA_10xv11_4.FULL': 'selected_barcodes/CNA_10xv11_4.FULL_bc_passing_filters_otsu.pkl',\n",
       " 'CNA_10xv11_5.FULL': 'selected_barcodes/CNA_10xv11_5.FULL_bc_passing_filters_otsu.pkl',\n",
       " 'CNA_10xv2_1.FULL': 'selected_barcodes/CNA_10xv2_1.FULL_bc_passing_filters_otsu.pkl',\n",
       " 'CNA_10xv2_2.FULL': 'selected_barcodes/CNA_10xv2_2.FULL_bc_passing_filters_otsu.pkl',\n",
       " 'CNA_ddseq_1.FULL': 'selected_barcodes/CNA_ddseq_1.FULL_bc_passing_filters_otsu.pkl',\n",
       " 'CNA_ddseq_2.FULL': 'selected_barcodes/CNA_ddseq_2.FULL_bc_passing_filters_otsu.pkl',\n",
       " 'CNA_hydrop_1.FULL': 'selected_barcodes/CNA_hydrop_1.FULL_bc_passing_filters_otsu.pkl',\n",
       " 'CNA_hydrop_2.FULL': 'selected_barcodes/CNA_hydrop_2.FULL_bc_passing_filters_otsu.pkl',\n",
       " 'CNA_hydrop_3.FULL': 'selected_barcodes/CNA_hydrop_3.FULL_bc_passing_filters_otsu.pkl',\n",
       " 'CNA_mtscatac_1.FULL': 'selected_barcodes/CNA_mtscatac_1.FULL_bc_passing_filters_otsu.pkl',\n",
       " 'CNA_mtscatac_2.FULL': 'selected_barcodes/CNA_mtscatac_2.FULL_bc_passing_filters_otsu.pkl',\n",
       " 'EPF_hydrop_1.FULL': 'selected_barcodes/EPF_hydrop_1.FULL_bc_passing_filters_otsu.pkl',\n",
       " 'EPF_hydrop_2.FULL': 'selected_barcodes/EPF_hydrop_2.FULL_bc_passing_filters_otsu.pkl',\n",
       " 'EPF_hydrop_3.FULL': 'selected_barcodes/EPF_hydrop_3.FULL_bc_passing_filters_otsu.pkl',\n",
       " 'EPF_hydrop_4.FULL': 'selected_barcodes/EPF_hydrop_4.FULL_bc_passing_filters_otsu.pkl',\n",
       " 'HAR_ddseq_1.FULL': 'selected_barcodes/HAR_ddseq_1.FULL_bc_passing_filters_otsu.pkl',\n",
       " 'HAR_ddseq_2.FULL': 'selected_barcodes/HAR_ddseq_2.FULL_bc_passing_filters_otsu.pkl',\n",
       " 'MDC_mtscatac_1.FULL': 'selected_barcodes/MDC_mtscatac_1.FULL_bc_passing_filters_otsu.pkl',\n",
       " 'MDC_mtscatac_2.FULL': 'selected_barcodes/MDC_mtscatac_2.FULL_bc_passing_filters_otsu.pkl',\n",
       " 'OHS_s3atac_1.FULL': 'selected_barcodes/OHS_s3atac_1.FULL_bc_passing_filters_otsu.pkl',\n",
       " 'OHS_s3atac_2.FULL': 'selected_barcodes/OHS_s3atac_2.FULL_bc_passing_filters_otsu.pkl',\n",
       " 'SAN_10xmultiome_1.FULL': 'selected_barcodes/SAN_10xmultiome_1.FULL_bc_passing_filters_otsu.pkl',\n",
       " 'SAN_10xmultiome_2.FULL': 'selected_barcodes/SAN_10xmultiome_2.FULL_bc_passing_filters_otsu.pkl',\n",
       " 'STA_10xv11_1.FULL': 'selected_barcodes/STA_10xv11_1.FULL_bc_passing_filters_otsu.pkl',\n",
       " 'STA_10xv11_2.FULL': 'selected_barcodes/STA_10xv11_2.FULL_bc_passing_filters_otsu.pkl',\n",
       " 'TXG_10xv11_1.FULL': 'selected_barcodes/TXG_10xv11_1.FULL_bc_passing_filters_otsu.pkl',\n",
       " 'TXG_10xv2_1.FULL': 'selected_barcodes/TXG_10xv2_1.FULL_bc_passing_filters_otsu.pkl',\n",
       " 'TXG_10xv2_2.FULL': 'selected_barcodes/TXG_10xv2_2.FULL_bc_passing_filters_otsu.pkl',\n",
       " 'UCS_ddseq_1.FULL': 'selected_barcodes/UCS_ddseq_1.FULL_bc_passing_filters_otsu.pkl',\n",
       " 'UCS_ddseq_2.FULL': 'selected_barcodes/UCS_ddseq_2.FULL_bc_passing_filters_otsu.pkl',\n",
       " 'VIB_10xmultiome_1.FULL': 'selected_barcodes/VIB_10xmultiome_1.FULL_bc_passing_filters_otsu.pkl',\n",
       " 'VIB_10xmultiome_2.FULL': 'selected_barcodes/VIB_10xmultiome_2.FULL_bc_passing_filters_otsu.pkl',\n",
       " 'VIB_10xv1_1.FULL': 'selected_barcodes/VIB_10xv1_1.FULL_bc_passing_filters_otsu.pkl',\n",
       " 'VIB_10xv1_2.FULL': 'selected_barcodes/VIB_10xv1_2.FULL_bc_passing_filters_otsu.pkl',\n",
       " 'VIB_10xv2_1.FULL': 'selected_barcodes/VIB_10xv2_1.FULL_bc_passing_filters_otsu.pkl',\n",
       " 'VIB_10xv2_2.FULL': 'selected_barcodes/VIB_10xv2_2.FULL_bc_passing_filters_otsu.pkl',\n",
       " 'VIB_hydrop_1.FULL': 'selected_barcodes/VIB_hydrop_1.FULL_bc_passing_filters_otsu.pkl',\n",
       " 'VIB_hydrop_11.FULL': 'selected_barcodes/VIB_hydrop_11.FULL_bc_passing_filters_otsu.pkl',\n",
       " 'VIB_hydrop_12.FULL': 'selected_barcodes/VIB_hydrop_12.FULL_bc_passing_filters_otsu.pkl',\n",
       " 'VIB_hydrop_2.FULL': 'selected_barcodes/VIB_hydrop_2.FULL_bc_passing_filters_otsu.pkl',\n",
       " 'VIB_hydrop_21.FULL': 'selected_barcodes/VIB_hydrop_21.FULL_bc_passing_filters_otsu.pkl',\n",
       " 'VIB_hydrop_22.FULL': 'selected_barcodes/VIB_hydrop_22.FULL_bc_passing_filters_otsu.pkl',\n",
       " 'VIB_mtscatac_1.FULL': 'selected_barcodes/VIB_mtscatac_1.FULL_bc_passing_filters_otsu.pkl',\n",
       " 'VIB_mtscatac_2.FULL': 'selected_barcodes/VIB_mtscatac_2.FULL_bc_passing_filters_otsu.pkl'}"
      ]
     },
     "execution_count": 150,
     "metadata": {},
     "output_type": "execute_result"
    },
    {
     "data": {
      "application/javascript": [
       "\n",
       "            setTimeout(function() {\n",
       "                var nbb_cell_id = 150;\n",
       "                var nbb_unformatted_code = \"bc_passing_filters_sub_dict = {x.split('/')[-1].split(f'_bc_passing_filters_otsu.pkl')[0]: x for x in sorted(glob.glob(\\\"selected_barcodes/*otsu.pkl\\\"))}\\nbc_passing_filters_sub_dict\";\n",
       "                var nbb_formatted_code = \"bc_passing_filters_sub_dict = {\\n    x.split(\\\"/\\\")[-1].split(f\\\"_bc_passing_filters_otsu.pkl\\\")[0]: x\\n    for x in sorted(glob.glob(\\\"selected_barcodes/*otsu.pkl\\\"))\\n}\\nbc_passing_filters_sub_dict\";\n",
       "                var nbb_cells = Jupyter.notebook.get_cells();\n",
       "                for (var i = 0; i < nbb_cells.length; ++i) {\n",
       "                    if (nbb_cells[i].input_prompt_number == nbb_cell_id) {\n",
       "                        if (nbb_cells[i].get_text() == nbb_unformatted_code) {\n",
       "                             nbb_cells[i].set_text(nbb_formatted_code);\n",
       "                        }\n",
       "                        break;\n",
       "                    }\n",
       "                }\n",
       "            }, 500);\n",
       "            "
      ],
      "text/plain": [
       "<IPython.core.display.Javascript object>"
      ]
     },
     "metadata": {},
     "output_type": "display_data"
    }
   ],
   "source": [
    "bc_passing_filters_sub_dict = {x.split('/')[-1].split(f'_bc_passing_filters_otsu.pkl')[0]: x for x in sorted(glob.glob(\"selected_barcodes/*otsu.pkl\"))}\n",
    "bc_passing_filters_sub_dict"
   ]
  },
  {
   "cell_type": "markdown",
   "id": "ca9ef726",
   "metadata": {
    "papermill": {
     "duration": 0.006342,
     "end_time": "2022-09-19T22:13:37.381402",
     "exception": false,
     "start_time": "2022-09-19T22:13:37.375060",
     "status": "completed"
    },
    "tags": []
   },
   "source": [
    "Read bed files for SCREEN regions and blacklist (blacklisted regions in genome where many reads can map)"
   ]
  },
  {
   "cell_type": "code",
   "execution_count": 151,
   "id": "0a0d423d",
   "metadata": {
    "execution": {
     "iopub.execute_input": "2022-09-26T16:07:35.886794Z",
     "iopub.status.busy": "2022-09-26T16:07:35.886457Z",
     "iopub.status.idle": "2022-09-26T16:07:35.905093Z",
     "shell.execute_reply": "2022-09-26T16:07:35.904651Z",
     "shell.execute_reply.started": "2022-09-26T16:07:35.886775Z"
    },
    "papermill": {
     "duration": 0.018254,
     "end_time": "2022-09-19T22:13:37.406063",
     "exception": false,
     "start_time": "2022-09-19T22:13:37.387809",
     "status": "completed"
    },
    "tags": []
   },
   "outputs": [
    {
     "data": {
      "text/plain": [
       "{'BIO_ddseq_1.FULL': 'SCREEN_peaks/BIO_ddseq_1.FULL__SCREEN_consensus_peaks.bed',\n",
       " 'BIO_ddseq_2.FULL': 'SCREEN_peaks/BIO_ddseq_2.FULL__SCREEN_consensus_peaks.bed',\n",
       " 'BIO_ddseq_3.FULL': 'SCREEN_peaks/BIO_ddseq_3.FULL__SCREEN_consensus_peaks.bed',\n",
       " 'BIO_ddseq_4.FULL': 'SCREEN_peaks/BIO_ddseq_4.FULL__SCREEN_consensus_peaks.bed',\n",
       " 'BRO_mtscatac_1.FULL': 'SCREEN_peaks/BRO_mtscatac_1.FULL__SCREEN_consensus_peaks.bed',\n",
       " 'BRO_mtscatac_2.FULL': 'SCREEN_peaks/BRO_mtscatac_2.FULL__SCREEN_consensus_peaks.bed',\n",
       " 'CNA_10xmultiome_1.FULL': 'SCREEN_peaks/CNA_10xmultiome_1.FULL__SCREEN_consensus_peaks.bed',\n",
       " 'CNA_10xmultiome_2.FULL': 'SCREEN_peaks/CNA_10xmultiome_2.FULL__SCREEN_consensus_peaks.bed',\n",
       " 'CNA_10xv11_1.FULL': 'SCREEN_peaks/CNA_10xv11_1.FULL__SCREEN_consensus_peaks.bed',\n",
       " 'CNA_10xv11_2.FULL': 'SCREEN_peaks/CNA_10xv11_2.FULL__SCREEN_consensus_peaks.bed',\n",
       " 'CNA_10xv11_3.FULL': 'SCREEN_peaks/CNA_10xv11_3.FULL__SCREEN_consensus_peaks.bed',\n",
       " 'CNA_10xv11_4.FULL': 'SCREEN_peaks/CNA_10xv11_4.FULL__SCREEN_consensus_peaks.bed',\n",
       " 'CNA_10xv11_5.FULL': 'SCREEN_peaks/CNA_10xv11_5.FULL__SCREEN_consensus_peaks.bed',\n",
       " 'CNA_10xv2_1.FULL': 'SCREEN_peaks/CNA_10xv2_1.FULL__SCREEN_consensus_peaks.bed',\n",
       " 'CNA_10xv2_2.FULL': 'SCREEN_peaks/CNA_10xv2_2.FULL__SCREEN_consensus_peaks.bed',\n",
       " 'CNA_hydrop_1.FULL': 'SCREEN_peaks/CNA_hydrop_1.FULL__SCREEN_consensus_peaks.bed',\n",
       " 'CNA_hydrop_2.FULL': 'SCREEN_peaks/CNA_hydrop_2.FULL__SCREEN_consensus_peaks.bed',\n",
       " 'CNA_hydrop_3.FULL': 'SCREEN_peaks/CNA_hydrop_3.FULL__SCREEN_consensus_peaks.bed',\n",
       " 'CNA_mtscatac_1.FULL': 'SCREEN_peaks/CNA_mtscatac_1.FULL__SCREEN_consensus_peaks.bed',\n",
       " 'CNA_mtscatac_2.FULL': 'SCREEN_peaks/CNA_mtscatac_2.FULL__SCREEN_consensus_peaks.bed',\n",
       " 'EPF_hydrop_1.FULL': 'SCREEN_peaks/EPF_hydrop_1.FULL__SCREEN_consensus_peaks.bed',\n",
       " 'EPF_hydrop_2.FULL': 'SCREEN_peaks/EPF_hydrop_2.FULL__SCREEN_consensus_peaks.bed',\n",
       " 'EPF_hydrop_3.FULL': 'SCREEN_peaks/EPF_hydrop_3.FULL__SCREEN_consensus_peaks.bed',\n",
       " 'EPF_hydrop_4.FULL': 'SCREEN_peaks/EPF_hydrop_4.FULL__SCREEN_consensus_peaks.bed',\n",
       " 'HAR_ddseq_1.FULL': 'SCREEN_peaks/HAR_ddseq_1.FULL__SCREEN_consensus_peaks.bed',\n",
       " 'HAR_ddseq_2.FULL': 'SCREEN_peaks/HAR_ddseq_2.FULL__SCREEN_consensus_peaks.bed',\n",
       " 'MDC_mtscatac_1.FULL': 'SCREEN_peaks/MDC_mtscatac_1.FULL__SCREEN_consensus_peaks.bed',\n",
       " 'MDC_mtscatac_2.FULL': 'SCREEN_peaks/MDC_mtscatac_2.FULL__SCREEN_consensus_peaks.bed',\n",
       " 'SAN_10xmultiome_1.FULL': 'SCREEN_peaks/SAN_10xmultiome_1.FULL__SCREEN_consensus_peaks.bed',\n",
       " 'SAN_10xmultiome_2.FULL': 'SCREEN_peaks/SAN_10xmultiome_2.FULL__SCREEN_consensus_peaks.bed',\n",
       " 'STA_10xv11_1.FULL': 'SCREEN_peaks/STA_10xv11_1.FULL__SCREEN_consensus_peaks.bed',\n",
       " 'STA_10xv11_2.FULL': 'SCREEN_peaks/STA_10xv11_2.FULL__SCREEN_consensus_peaks.bed',\n",
       " 'TXG_10xv11_1.FULL': 'SCREEN_peaks/TXG_10xv11_1.FULL__SCREEN_consensus_peaks.bed',\n",
       " 'TXG_10xv2_1.FULL': 'SCREEN_peaks/TXG_10xv2_1.FULL__SCREEN_consensus_peaks.bed',\n",
       " 'TXG_10xv2_2.FULL': 'SCREEN_peaks/TXG_10xv2_2.FULL__SCREEN_consensus_peaks.bed',\n",
       " 'VIB_10xmultiome_1.FULL': 'SCREEN_peaks/VIB_10xmultiome_1.FULL__SCREEN_consensus_peaks.bed',\n",
       " 'VIB_10xmultiome_2.FULL': 'SCREEN_peaks/VIB_10xmultiome_2.FULL__SCREEN_consensus_peaks.bed',\n",
       " 'VIB_10xv1_1.FULL': 'SCREEN_peaks/VIB_10xv1_1.FULL__SCREEN_consensus_peaks.bed',\n",
       " 'VIB_10xv1_2.FULL': 'SCREEN_peaks/VIB_10xv1_2.FULL__SCREEN_consensus_peaks.bed',\n",
       " 'VIB_10xv2_1.FULL': 'SCREEN_peaks/VIB_10xv2_1.FULL__SCREEN_consensus_peaks.bed',\n",
       " 'VIB_10xv2_2.FULL': 'SCREEN_peaks/VIB_10xv2_2.FULL__SCREEN_consensus_peaks.bed',\n",
       " 'VIB_hydrop_1.FULL': 'SCREEN_peaks/VIB_hydrop_1.FULL__SCREEN_consensus_peaks.bed',\n",
       " 'VIB_hydrop_2.FULL': 'SCREEN_peaks/VIB_hydrop_2.FULL__SCREEN_consensus_peaks.bed'}"
      ]
     },
     "execution_count": 151,
     "metadata": {},
     "output_type": "execute_result"
    },
    {
     "data": {
      "application/javascript": [
       "\n",
       "            setTimeout(function() {\n",
       "                var nbb_cell_id = 151;\n",
       "                var nbb_unformatted_code = \"regions_paths_dict = {\\n    x.split(\\\"/\\\")[-1].split(f\\\"__\\\")[0]: x\\n    for x in sorted(glob.glob(\\\"SCREEN_peaks/*consensus_peaks.bed\\\"))\\n}\\nregions_paths_dict\";\n",
       "                var nbb_formatted_code = \"regions_paths_dict = {\\n    x.split(\\\"/\\\")[-1].split(f\\\"__\\\")[0]: x\\n    for x in sorted(glob.glob(\\\"SCREEN_peaks/*consensus_peaks.bed\\\"))\\n}\\nregions_paths_dict\";\n",
       "                var nbb_cells = Jupyter.notebook.get_cells();\n",
       "                for (var i = 0; i < nbb_cells.length; ++i) {\n",
       "                    if (nbb_cells[i].input_prompt_number == nbb_cell_id) {\n",
       "                        if (nbb_cells[i].get_text() == nbb_unformatted_code) {\n",
       "                             nbb_cells[i].set_text(nbb_formatted_code);\n",
       "                        }\n",
       "                        break;\n",
       "                    }\n",
       "                }\n",
       "            }, 500);\n",
       "            "
      ],
      "text/plain": [
       "<IPython.core.display.Javascript object>"
      ]
     },
     "metadata": {},
     "output_type": "display_data"
    }
   ],
   "source": [
    "regions_paths_dict = {\n",
    "    x.split(\"/\")[-1].split(f\"__\")[0]: x\n",
    "    for x in sorted(glob.glob(\"SCREEN_peaks/*consensus_peaks.bed\"))\n",
    "}\n",
    "regions_paths_dict"
   ]
  },
  {
   "cell_type": "code",
   "execution_count": 152,
   "id": "8b68cd63",
   "metadata": {
    "execution": {
     "iopub.execute_input": "2022-09-26T16:07:35.906169Z",
     "iopub.status.busy": "2022-09-26T16:07:35.905974Z",
     "iopub.status.idle": "2022-09-26T16:07:35.920405Z",
     "shell.execute_reply": "2022-09-26T16:07:35.919922Z",
     "shell.execute_reply.started": "2022-09-26T16:07:35.906151Z"
    },
    "papermill": {
     "duration": 0.013303,
     "end_time": "2022-09-19T22:13:37.426148",
     "exception": false,
     "start_time": "2022-09-19T22:13:37.412845",
     "status": "completed"
    },
    "tags": []
   },
   "outputs": [
    {
     "data": {
      "application/javascript": [
       "\n",
       "            setTimeout(function() {\n",
       "                var nbb_cell_id = 152;\n",
       "                var nbb_unformatted_code = \"# path_to_regions = '../0_resources/regions/V2.hg38-rDHS-Unfiltered.blacklisted.bed'\\npath_to_blacklist = '../0_resources/regions/hg38-blacklist.v2.bed'\";\n",
       "                var nbb_formatted_code = \"# path_to_regions = '../0_resources/regions/V2.hg38-rDHS-Unfiltered.blacklisted.bed'\\npath_to_blacklist = \\\"../0_resources/regions/hg38-blacklist.v2.bed\\\"\";\n",
       "                var nbb_cells = Jupyter.notebook.get_cells();\n",
       "                for (var i = 0; i < nbb_cells.length; ++i) {\n",
       "                    if (nbb_cells[i].input_prompt_number == nbb_cell_id) {\n",
       "                        if (nbb_cells[i].get_text() == nbb_unformatted_code) {\n",
       "                             nbb_cells[i].set_text(nbb_formatted_code);\n",
       "                        }\n",
       "                        break;\n",
       "                    }\n",
       "                }\n",
       "            }, 500);\n",
       "            "
      ],
      "text/plain": [
       "<IPython.core.display.Javascript object>"
      ]
     },
     "metadata": {},
     "output_type": "display_data"
    }
   ],
   "source": [
    "# path_to_regions = '../0_resources/regions/V2.hg38-rDHS-Unfiltered.blacklisted.bed'\n",
    "path_to_blacklist = '../0_resources/regions/hg38-blacklist.v2.bed'"
   ]
  },
  {
   "cell_type": "markdown",
   "id": "c7c749e8",
   "metadata": {
    "papermill": {
     "duration": 0.006708,
     "end_time": "2022-09-19T22:13:37.439906",
     "exception": false,
     "start_time": "2022-09-19T22:13:37.433198",
     "status": "completed"
    },
    "tags": []
   },
   "source": [
    "Create cistopic objects for each sample. If pandas crashes, increase the number of partitions. This is necessary for the largest files."
   ]
  },
  {
   "cell_type": "markdown",
   "id": "134e742a",
   "metadata": {
    "papermill": {
     "duration": 0.006686,
     "end_time": "2022-09-19T22:13:37.453292",
     "exception": false,
     "start_time": "2022-09-19T22:13:37.446606",
     "status": "completed"
    },
    "tags": []
   },
   "source": [
    "In the following command, it is important that the barcode syntax matches the fragments, the metadata and the bc_passing filters. That is why the sample name is removed from metadata and bc passing filters."
   ]
  },
  {
   "cell_type": "code",
   "execution_count": 153,
   "id": "18f6552c",
   "metadata": {
    "execution": {
     "iopub.execute_input": "2022-09-26T16:07:35.921504Z",
     "iopub.status.busy": "2022-09-26T16:07:35.921278Z",
     "iopub.status.idle": "2022-09-26T16:07:35.938494Z",
     "shell.execute_reply": "2022-09-26T16:07:35.938088Z",
     "shell.execute_reply.started": "2022-09-26T16:07:35.921474Z"
    },
    "papermill": {
     "duration": 6.54337,
     "end_time": "2022-09-19T22:13:44.003689",
     "exception": false,
     "start_time": "2022-09-19T22:13:37.460319",
     "status": "completed"
    },
    "tags": []
   },
   "outputs": [
    {
     "data": {
      "application/javascript": [
       "\n",
       "            setTimeout(function() {\n",
       "                var nbb_cell_id = 153;\n",
       "                var nbb_unformatted_code = \"from pycisTopic.cistopic_class import create_cistopic_object_from_fragments\";\n",
       "                var nbb_formatted_code = \"from pycisTopic.cistopic_class import create_cistopic_object_from_fragments\";\n",
       "                var nbb_cells = Jupyter.notebook.get_cells();\n",
       "                for (var i = 0; i < nbb_cells.length; ++i) {\n",
       "                    if (nbb_cells[i].input_prompt_number == nbb_cell_id) {\n",
       "                        if (nbb_cells[i].get_text() == nbb_unformatted_code) {\n",
       "                             nbb_cells[i].set_text(nbb_formatted_code);\n",
       "                        }\n",
       "                        break;\n",
       "                    }\n",
       "                }\n",
       "            }, 500);\n",
       "            "
      ],
      "text/plain": [
       "<IPython.core.display.Javascript object>"
      ]
     },
     "metadata": {},
     "output_type": "display_data"
    }
   ],
   "source": [
    "from pycisTopic.cistopic_class import create_cistopic_object_from_fragments"
   ]
  },
  {
   "cell_type": "code",
   "execution_count": 154,
   "id": "4bb7a5be",
   "metadata": {
    "execution": {
     "iopub.execute_input": "2022-09-26T16:07:35.939537Z",
     "iopub.status.busy": "2022-09-26T16:07:35.939340Z",
     "iopub.status.idle": "2022-09-26T16:07:35.977347Z",
     "shell.execute_reply": "2022-09-26T16:07:35.976861Z",
     "shell.execute_reply.started": "2022-09-26T16:07:35.939519Z"
    },
    "papermill": {
     "duration": 0.18455,
     "end_time": "2022-09-19T22:13:44.195725",
     "exception": false,
     "start_time": "2022-09-19T22:13:44.011175",
     "status": "completed"
    },
    "tags": []
   },
   "outputs": [
    {
     "name": "stdout",
     "output_type": "stream",
     "text": [
      "cistopic_objects/BIO_ddseq_1.FULL__cto.pkl already exists, skipping...\n",
      "cistopic_objects/BIO_ddseq_2.FULL__cto.pkl already exists, skipping...\n",
      "cistopic_objects/BIO_ddseq_3.FULL__cto.pkl already exists, skipping...\n",
      "cistopic_objects/BIO_ddseq_4.FULL__cto.pkl already exists, skipping...\n",
      "cistopic_objects/BRO_mtscatac_1.FULL__cto.pkl already exists, skipping...\n",
      "cistopic_objects/BRO_mtscatac_2.FULL__cto.pkl already exists, skipping...\n",
      "cistopic_objects/CNA_10xv11_1.FULL__cto.pkl already exists, skipping...\n",
      "cistopic_objects/CNA_10xv11_2.FULL__cto.pkl already exists, skipping...\n",
      "cistopic_objects/CNA_10xv11_3.FULL__cto.pkl already exists, skipping...\n",
      "cistopic_objects/CNA_10xv11_4.FULL__cto.pkl already exists, skipping...\n",
      "cistopic_objects/CNA_10xv11_5.FULL__cto.pkl already exists, skipping...\n",
      "cistopic_objects/CNA_10xv2_1.FULL__cto.pkl already exists, skipping...\n",
      "cistopic_objects/CNA_10xv2_2.FULL__cto.pkl already exists, skipping...\n",
      "cistopic_objects/CNA_hydrop_1.FULL__cto.pkl already exists, skipping...\n",
      "cistopic_objects/CNA_hydrop_2.FULL__cto.pkl already exists, skipping...\n",
      "cistopic_objects/CNA_hydrop_3.FULL__cto.pkl already exists, skipping...\n",
      "cistopic_objects/CNA_mtscatac_1.FULL__cto.pkl already exists, skipping...\n",
      "cistopic_objects/CNA_mtscatac_2.FULL__cto.pkl already exists, skipping...\n",
      "cistopic_objects/EPF_hydrop_1.FULL__cto.pkl already exists, skipping...\n",
      "cistopic_objects/EPF_hydrop_2.FULL__cto.pkl already exists, skipping...\n",
      "cistopic_objects/EPF_hydrop_3.FULL__cto.pkl already exists, skipping...\n",
      "cistopic_objects/EPF_hydrop_4.FULL__cto.pkl already exists, skipping...\n",
      "cistopic_objects/HAR_ddseq_1.FULL__cto.pkl already exists, skipping...\n",
      "cistopic_objects/HAR_ddseq_2.FULL__cto.pkl already exists, skipping...\n",
      "cistopic_objects/MDC_mtscatac_1.FULL__cto.pkl already exists, skipping...\n",
      "cistopic_objects/MDC_mtscatac_2.FULL__cto.pkl already exists, skipping...\n",
      "cistopic_objects/SAN_10xmultiome_1.FULL__cto.pkl already exists, skipping...\n",
      "cistopic_objects/SAN_10xmultiome_2.FULL__cto.pkl already exists, skipping...\n",
      "cistopic_objects/STA_10xv11_1.FULL__cto.pkl already exists, skipping...\n",
      "cistopic_objects/STA_10xv11_2.FULL__cto.pkl already exists, skipping...\n",
      "cistopic_objects/TXG_10xv11_1.FULL__cto.pkl already exists, skipping...\n",
      "cistopic_objects/TXG_10xv2_1.FULL__cto.pkl already exists, skipping...\n",
      "cistopic_objects/TXG_10xv2_2.FULL__cto.pkl already exists, skipping...\n",
      "cistopic_objects/VIB_10xmultiome_1.FULL__cto.pkl already exists, skipping...\n",
      "cistopic_objects/VIB_10xmultiome_2.FULL__cto.pkl already exists, skipping...\n",
      "cistopic_objects/VIB_10xv1_1.FULL__cto.pkl already exists, skipping...\n",
      "cistopic_objects/VIB_10xv1_2.FULL__cto.pkl already exists, skipping...\n",
      "cistopic_objects/VIB_10xv2_1.FULL__cto.pkl already exists, skipping...\n",
      "cistopic_objects/VIB_10xv2_2.FULL__cto.pkl already exists, skipping...\n",
      "cistopic_objects/VIB_hydrop_1.FULL__cto.pkl already exists, skipping...\n",
      "cistopic_objects/VIB_hydrop_11.FULL__cto.pkl already exists, skipping...\n",
      "cistopic_objects/VIB_hydrop_12.FULL__cto.pkl already exists, skipping...\n",
      "cistopic_objects/VIB_hydrop_2.FULL__cto.pkl already exists, skipping...\n",
      "cistopic_objects/VIB_hydrop_21.FULL__cto.pkl already exists, skipping...\n",
      "cistopic_objects/VIB_hydrop_22.FULL__cto.pkl already exists, skipping...\n"
     ]
    },
    {
     "data": {
      "application/javascript": [
       "\n",
       "            setTimeout(function() {\n",
       "                var nbb_cell_id = 154;\n",
       "                var nbb_unformatted_code = \"if regions_paths_dict != {}:\\n    n_cores = 4\\n    for sample in metadata_bc_sub_dict.keys():\\n        cto_path = os.path.join(cistopic_objects_out, f\\\"{sample}__cto.pkl\\\")\\n        if not os.path.exists(cto_path):\\n            print(f\\\"{cto_path} does not exist, generating...\\\")\\n\\n            infile = open(metadata_bc_sub_dict[sample], 'rb')\\n            metadata_bc = pickle.load(infile)\\n            metadata_bc.index = [bc.split(\\\"___\\\")[0] for bc in metadata_bc.index]\\n            infile.close()\\n            infile = open(bc_passing_filters_sub_dict[sample], 'rb')\\n            bc_passing_filters = pickle.load(infile)\\n            infile.close()\\n            bc_passing_filters_fixed = [bc.split(\\\"___\\\")[0] for bc in bc_passing_filters]\\n\\n            cto = create_cistopic_object_from_fragments(path_to_fragments=fragments_dict[sample],\\n                                                            path_to_regions=regions_paths_dict[sample],\\n                                                            path_to_blacklist=path_to_blacklist,\\n                                                            metrics=metadata_bc,\\n                                                            valid_bc=bc_passing_filters_fixed,\\n                                                            n_cpu=n_cores,\\n                                                            partition=10,\\n                                                            project=sample)\\n\\n            cto_path = os.path.join(cistopic_objects_out, f\\\"{sample}__cto.pkl\\\")\\n            print(f\\\"Writing {sample} cto in {cto_path}...\\\")\\n\\n            with open(\\n                cto_path, \\\"wb\\\"\\n            ) as f:\\n                pickle.dump(cto, f, protocol=4)\\n        else:\\n            print(f\\\"{cto_path} already exists, skipping...\\\")\\n\\nelse:\\n    print(\\\"All samples already processed.\\\")\";\n",
       "                var nbb_formatted_code = \"if regions_paths_dict != {}:\\n    n_cores = 4\\n    for sample in metadata_bc_sub_dict.keys():\\n        cto_path = os.path.join(cistopic_objects_out, f\\\"{sample}__cto.pkl\\\")\\n        if not os.path.exists(cto_path):\\n            print(f\\\"{cto_path} does not exist, generating...\\\")\\n\\n            infile = open(metadata_bc_sub_dict[sample], \\\"rb\\\")\\n            metadata_bc = pickle.load(infile)\\n            metadata_bc.index = [bc.split(\\\"___\\\")[0] for bc in metadata_bc.index]\\n            infile.close()\\n            infile = open(bc_passing_filters_sub_dict[sample], \\\"rb\\\")\\n            bc_passing_filters = pickle.load(infile)\\n            infile.close()\\n            bc_passing_filters_fixed = [bc.split(\\\"___\\\")[0] for bc in bc_passing_filters]\\n\\n            cto = create_cistopic_object_from_fragments(\\n                path_to_fragments=fragments_dict[sample],\\n                path_to_regions=regions_paths_dict[sample],\\n                path_to_blacklist=path_to_blacklist,\\n                metrics=metadata_bc,\\n                valid_bc=bc_passing_filters_fixed,\\n                n_cpu=n_cores,\\n                partition=10,\\n                project=sample,\\n            )\\n\\n            cto_path = os.path.join(cistopic_objects_out, f\\\"{sample}__cto.pkl\\\")\\n            print(f\\\"Writing {sample} cto in {cto_path}...\\\")\\n\\n            with open(cto_path, \\\"wb\\\") as f:\\n                pickle.dump(cto, f, protocol=4)\\n        else:\\n            print(f\\\"{cto_path} already exists, skipping...\\\")\\n\\nelse:\\n    print(\\\"All samples already processed.\\\")\";\n",
       "                var nbb_cells = Jupyter.notebook.get_cells();\n",
       "                for (var i = 0; i < nbb_cells.length; ++i) {\n",
       "                    if (nbb_cells[i].input_prompt_number == nbb_cell_id) {\n",
       "                        if (nbb_cells[i].get_text() == nbb_unformatted_code) {\n",
       "                             nbb_cells[i].set_text(nbb_formatted_code);\n",
       "                        }\n",
       "                        break;\n",
       "                    }\n",
       "                }\n",
       "            }, 500);\n",
       "            "
      ],
      "text/plain": [
       "<IPython.core.display.Javascript object>"
      ]
     },
     "metadata": {},
     "output_type": "display_data"
    }
   ],
   "source": [
    "if regions_paths_dict != {}:\n",
    "    n_cores = 4\n",
    "    for sample in metadata_bc_sub_dict.keys():\n",
    "        cto_path = os.path.join(cistopic_objects_out, f\"{sample}__cto.pkl\")\n",
    "        if not os.path.exists(cto_path):\n",
    "            print(f\"{cto_path} does not exist, generating...\")\n",
    "\n",
    "            infile = open(metadata_bc_sub_dict[sample], 'rb')\n",
    "            metadata_bc = pickle.load(infile)\n",
    "            metadata_bc.index = [bc.split(\"___\")[0] for bc in metadata_bc.index]\n",
    "            infile.close()\n",
    "            infile = open(bc_passing_filters_sub_dict[sample], 'rb')\n",
    "            bc_passing_filters = pickle.load(infile)\n",
    "            infile.close()\n",
    "            bc_passing_filters_fixed = [bc.split(\"___\")[0] for bc in bc_passing_filters]\n",
    "\n",
    "            cto = create_cistopic_object_from_fragments(path_to_fragments=fragments_dict[sample],\n",
    "                                                            path_to_regions=regions_paths_dict[sample],\n",
    "                                                            path_to_blacklist=path_to_blacklist,\n",
    "                                                            metrics=metadata_bc,\n",
    "                                                            valid_bc=bc_passing_filters_fixed,\n",
    "                                                            n_cpu=n_cores,\n",
    "                                                            partition=10,\n",
    "                                                            project=sample)\n",
    "\n",
    "            cto_path = os.path.join(cistopic_objects_out, f\"{sample}__cto.pkl\")\n",
    "            print(f\"Writing {sample} cto in {cto_path}...\")\n",
    "\n",
    "            with open(\n",
    "                cto_path, \"wb\"\n",
    "            ) as f:\n",
    "                pickle.dump(cto, f, protocol=4)\n",
    "        else:\n",
    "            print(f\"{cto_path} already exists, skipping...\")\n",
    "\n",
    "else:\n",
    "    print(\"All samples already processed.\")"
   ]
  },
  {
   "cell_type": "markdown",
   "id": "1bcccb9d",
   "metadata": {
    "papermill": {
     "duration": 0.007222,
     "end_time": "2022-09-19T22:13:44.228936",
     "exception": false,
     "start_time": "2022-09-19T22:13:44.221714",
     "status": "completed"
    },
    "tags": []
   },
   "source": [
    "# Run Scrublet"
   ]
  },
  {
   "cell_type": "code",
   "execution_count": 155,
   "id": "3a287500",
   "metadata": {
    "execution": {
     "iopub.execute_input": "2022-09-26T16:07:35.978305Z",
     "iopub.status.busy": "2022-09-26T16:07:35.978064Z",
     "iopub.status.idle": "2022-09-26T16:07:35.985673Z",
     "shell.execute_reply": "2022-09-26T16:07:35.985204Z",
     "shell.execute_reply.started": "2022-09-26T16:07:35.978287Z"
    },
    "papermill": {
     "duration": 0.815157,
     "end_time": "2022-09-19T22:13:45.051226",
     "exception": false,
     "start_time": "2022-09-19T22:13:44.236069",
     "status": "completed"
    },
    "tags": []
   },
   "outputs": [
    {
     "data": {
      "application/javascript": [
       "\n",
       "            setTimeout(function() {\n",
       "                var nbb_cell_id = 155;\n",
       "                var nbb_unformatted_code = \"import scrublet as scr\\nimport pandas as pd\\nimport matplotlib.pyplot as plt\";\n",
       "                var nbb_formatted_code = \"import scrublet as scr\\nimport pandas as pd\\nimport matplotlib.pyplot as plt\";\n",
       "                var nbb_cells = Jupyter.notebook.get_cells();\n",
       "                for (var i = 0; i < nbb_cells.length; ++i) {\n",
       "                    if (nbb_cells[i].input_prompt_number == nbb_cell_id) {\n",
       "                        if (nbb_cells[i].get_text() == nbb_unformatted_code) {\n",
       "                             nbb_cells[i].set_text(nbb_formatted_code);\n",
       "                        }\n",
       "                        break;\n",
       "                    }\n",
       "                }\n",
       "            }, 500);\n",
       "            "
      ],
      "text/plain": [
       "<IPython.core.display.Javascript object>"
      ]
     },
     "metadata": {},
     "output_type": "display_data"
    }
   ],
   "source": [
    "import scrublet as scr\n",
    "import pandas as pd\n",
    "import matplotlib.pyplot as plt"
   ]
  },
  {
   "cell_type": "code",
   "execution_count": 156,
   "id": "abd0c00f",
   "metadata": {
    "execution": {
     "iopub.execute_input": "2022-09-26T16:07:35.986939Z",
     "iopub.status.busy": "2022-09-26T16:07:35.986656Z",
     "iopub.status.idle": "2022-09-26T16:07:36.008918Z",
     "shell.execute_reply": "2022-09-26T16:07:36.008467Z",
     "shell.execute_reply.started": "2022-09-26T16:07:35.986920Z"
    },
    "papermill": {
     "duration": 0.020949,
     "end_time": "2022-09-19T22:13:45.079729",
     "exception": false,
     "start_time": "2022-09-19T22:13:45.058780",
     "status": "completed"
    },
    "tags": []
   },
   "outputs": [
    {
     "data": {
      "text/plain": [
       "{'BIO_ddseq_1.FULL': 'cistopic_objects/BIO_ddseq_1.FULL__cto.pkl',\n",
       " 'BIO_ddseq_2.FULL': 'cistopic_objects/BIO_ddseq_2.FULL__cto.pkl',\n",
       " 'BIO_ddseq_3.FULL': 'cistopic_objects/BIO_ddseq_3.FULL__cto.pkl',\n",
       " 'BIO_ddseq_4.FULL': 'cistopic_objects/BIO_ddseq_4.FULL__cto.pkl',\n",
       " 'BRO_mtscatac_1.FULL': 'cistopic_objects/BRO_mtscatac_1.FULL__cto.pkl',\n",
       " 'BRO_mtscatac_2.FULL': 'cistopic_objects/BRO_mtscatac_2.FULL__cto.pkl',\n",
       " 'CNA_10xmultiome_1.FULL': 'cistopic_objects/CNA_10xmultiome_1.FULL__cto.pkl',\n",
       " 'CNA_10xmultiome_2.FULL': 'cistopic_objects/CNA_10xmultiome_2.FULL__cto.pkl',\n",
       " 'CNA_10xv11_1.FULL': 'cistopic_objects/CNA_10xv11_1.FULL__cto.pkl',\n",
       " 'CNA_10xv11_2.FULL': 'cistopic_objects/CNA_10xv11_2.FULL__cto.pkl',\n",
       " 'CNA_10xv11_3.FULL': 'cistopic_objects/CNA_10xv11_3.FULL__cto.pkl',\n",
       " 'CNA_10xv11_4.FULL': 'cistopic_objects/CNA_10xv11_4.FULL__cto.pkl',\n",
       " 'CNA_10xv11_5.FULL': 'cistopic_objects/CNA_10xv11_5.FULL__cto.pkl',\n",
       " 'CNA_10xv2_1.FULL': 'cistopic_objects/CNA_10xv2_1.FULL__cto.pkl',\n",
       " 'CNA_10xv2_2.FULL': 'cistopic_objects/CNA_10xv2_2.FULL__cto.pkl',\n",
       " 'CNA_hydrop_1.FULL': 'cistopic_objects/CNA_hydrop_1.FULL__cto.pkl',\n",
       " 'CNA_hydrop_2.FULL': 'cistopic_objects/CNA_hydrop_2.FULL__cto.pkl',\n",
       " 'CNA_hydrop_3.FULL': 'cistopic_objects/CNA_hydrop_3.FULL__cto.pkl',\n",
       " 'CNA_mtscatac_1.FULL': 'cistopic_objects/CNA_mtscatac_1.FULL__cto.pkl',\n",
       " 'CNA_mtscatac_2.FULL': 'cistopic_objects/CNA_mtscatac_2.FULL__cto.pkl',\n",
       " 'EPF_hydrop_1.FULL': 'cistopic_objects/EPF_hydrop_1.FULL__cto.pkl',\n",
       " 'EPF_hydrop_2.FULL': 'cistopic_objects/EPF_hydrop_2.FULL__cto.pkl',\n",
       " 'EPF_hydrop_3.FULL': 'cistopic_objects/EPF_hydrop_3.FULL__cto.pkl',\n",
       " 'EPF_hydrop_4.FULL': 'cistopic_objects/EPF_hydrop_4.FULL__cto.pkl',\n",
       " 'HAR_ddseq_1.FULL': 'cistopic_objects/HAR_ddseq_1.FULL__cto.pkl',\n",
       " 'HAR_ddseq_2.FULL': 'cistopic_objects/HAR_ddseq_2.FULL__cto.pkl',\n",
       " 'MDC_mtscatac_1.FULL': 'cistopic_objects/MDC_mtscatac_1.FULL__cto.pkl',\n",
       " 'MDC_mtscatac_2.FULL': 'cistopic_objects/MDC_mtscatac_2.FULL__cto.pkl',\n",
       " 'OHS_s3atac_1.FULL': 'cistopic_objects/OHS_s3atac_1.FULL__cto.pkl',\n",
       " 'OHS_s3atac_2.FULL': 'cistopic_objects/OHS_s3atac_2.FULL__cto.pkl',\n",
       " 'SAN_10xmultiome_1.FULL': 'cistopic_objects/SAN_10xmultiome_1.FULL__cto.pkl',\n",
       " 'SAN_10xmultiome_2.FULL': 'cistopic_objects/SAN_10xmultiome_2.FULL__cto.pkl',\n",
       " 'STA_10xv11_1.FULL': 'cistopic_objects/STA_10xv11_1.FULL__cto.pkl',\n",
       " 'STA_10xv11_2.FULL': 'cistopic_objects/STA_10xv11_2.FULL__cto.pkl',\n",
       " 'TXG_10xv11_1.FULL': 'cistopic_objects/TXG_10xv11_1.FULL__cto.pkl',\n",
       " 'TXG_10xv2_1.FULL': 'cistopic_objects/TXG_10xv2_1.FULL__cto.pkl',\n",
       " 'TXG_10xv2_2.FULL': 'cistopic_objects/TXG_10xv2_2.FULL__cto.pkl',\n",
       " 'UCS_ddseq_1.FULL': 'cistopic_objects/UCS_ddseq_1.FULL__cto.pkl',\n",
       " 'UCS_ddseq_2.FULL': 'cistopic_objects/UCS_ddseq_2.FULL__cto.pkl',\n",
       " 'VIB_10xmultiome_1.FULL': 'cistopic_objects/VIB_10xmultiome_1.FULL__cto.pkl',\n",
       " 'VIB_10xmultiome_2.FULL': 'cistopic_objects/VIB_10xmultiome_2.FULL__cto.pkl',\n",
       " 'VIB_10xv1_1.FULL': 'cistopic_objects/VIB_10xv1_1.FULL__cto.pkl',\n",
       " 'VIB_10xv1_2.FULL': 'cistopic_objects/VIB_10xv1_2.FULL__cto.pkl',\n",
       " 'VIB_10xv2_1.FULL': 'cistopic_objects/VIB_10xv2_1.FULL__cto.pkl',\n",
       " 'VIB_10xv2_2.FULL': 'cistopic_objects/VIB_10xv2_2.FULL__cto.pkl',\n",
       " 'VIB_hydrop_1.FULL': 'cistopic_objects/VIB_hydrop_1.FULL__cto.pkl',\n",
       " 'VIB_hydrop_11.FULL': 'cistopic_objects/VIB_hydrop_11.FULL__cto.pkl',\n",
       " 'VIB_hydrop_12.FULL': 'cistopic_objects/VIB_hydrop_12.FULL__cto.pkl',\n",
       " 'VIB_hydrop_2.FULL': 'cistopic_objects/VIB_hydrop_2.FULL__cto.pkl',\n",
       " 'VIB_hydrop_21.FULL': 'cistopic_objects/VIB_hydrop_21.FULL__cto.pkl',\n",
       " 'VIB_hydrop_22.FULL': 'cistopic_objects/VIB_hydrop_22.FULL__cto.pkl'}"
      ]
     },
     "execution_count": 156,
     "metadata": {},
     "output_type": "execute_result"
    },
    {
     "data": {
      "application/javascript": [
       "\n",
       "            setTimeout(function() {\n",
       "                var nbb_cell_id = 156;\n",
       "                var nbb_unformatted_code = \"cto_dict = {x.split('/')[-1].split('__cto.pkl')[0]:x for x in sorted(glob.glob('cistopic_objects/*__cto.pkl'))}\\ncto_dict\";\n",
       "                var nbb_formatted_code = \"cto_dict = {\\n    x.split(\\\"/\\\")[-1].split(\\\"__cto.pkl\\\")[0]: x\\n    for x in sorted(glob.glob(\\\"cistopic_objects/*__cto.pkl\\\"))\\n}\\ncto_dict\";\n",
       "                var nbb_cells = Jupyter.notebook.get_cells();\n",
       "                for (var i = 0; i < nbb_cells.length; ++i) {\n",
       "                    if (nbb_cells[i].input_prompt_number == nbb_cell_id) {\n",
       "                        if (nbb_cells[i].get_text() == nbb_unformatted_code) {\n",
       "                             nbb_cells[i].set_text(nbb_formatted_code);\n",
       "                        }\n",
       "                        break;\n",
       "                    }\n",
       "                }\n",
       "            }, 500);\n",
       "            "
      ],
      "text/plain": [
       "<IPython.core.display.Javascript object>"
      ]
     },
     "metadata": {},
     "output_type": "display_data"
    }
   ],
   "source": [
    "cto_dict = {x.split('/')[-1].split('__cto.pkl')[0]:x for x in sorted(glob.glob('cistopic_objects/*__cto.pkl'))}\n",
    "cto_dict"
   ]
  },
  {
   "cell_type": "code",
   "execution_count": 157,
   "id": "fb59ee07",
   "metadata": {
    "execution": {
     "iopub.execute_input": "2022-09-26T16:07:36.011740Z",
     "iopub.status.busy": "2022-09-26T16:07:36.011402Z",
     "iopub.status.idle": "2022-09-26T16:07:36.053384Z",
     "shell.execute_reply": "2022-09-26T16:07:36.052854Z",
     "shell.execute_reply.started": "2022-09-26T16:07:36.011722Z"
    },
    "papermill": {
     "duration": 0.030792,
     "end_time": "2022-09-19T22:13:45.118218",
     "exception": false,
     "start_time": "2022-09-19T22:13:45.087426",
     "status": "completed"
    },
    "tags": []
   },
   "outputs": [
    {
     "name": "stdout",
     "output_type": "stream",
     "text": [
      "Checking if cistopic_objects/BIO_ddseq_1.FULL__cto.scrublet0-4.pkl exist...\n",
      "\tcistopic_objects/BIO_ddseq_1.FULL__cto.scrublet0-4.pkl exists! Skipping...\n",
      "Checking if cistopic_objects/BIO_ddseq_2.FULL__cto.scrublet0-4.pkl exist...\n",
      "\tcistopic_objects/BIO_ddseq_2.FULL__cto.scrublet0-4.pkl exists! Skipping...\n",
      "Checking if cistopic_objects/BIO_ddseq_3.FULL__cto.scrublet0-4.pkl exist...\n",
      "\tcistopic_objects/BIO_ddseq_3.FULL__cto.scrublet0-4.pkl exists! Skipping...\n",
      "Checking if cistopic_objects/BIO_ddseq_4.FULL__cto.scrublet0-4.pkl exist...\n",
      "\tcistopic_objects/BIO_ddseq_4.FULL__cto.scrublet0-4.pkl exists! Skipping...\n",
      "Checking if cistopic_objects/BRO_mtscatac_1.FULL__cto.scrublet0-4.pkl exist...\n",
      "\tcistopic_objects/BRO_mtscatac_1.FULL__cto.scrublet0-4.pkl exists! Skipping...\n",
      "Checking if cistopic_objects/BRO_mtscatac_2.FULL__cto.scrublet0-4.pkl exist...\n",
      "\tcistopic_objects/BRO_mtscatac_2.FULL__cto.scrublet0-4.pkl exists! Skipping...\n",
      "Checking if cistopic_objects/CNA_10xmultiome_1.FULL__cto.scrublet0-4.pkl exist...\n",
      "\tcistopic_objects/CNA_10xmultiome_1.FULL__cto.scrublet0-4.pkl exists! Skipping...\n",
      "Checking if cistopic_objects/CNA_10xmultiome_2.FULL__cto.scrublet0-4.pkl exist...\n",
      "\tcistopic_objects/CNA_10xmultiome_2.FULL__cto.scrublet0-4.pkl exists! Skipping...\n",
      "Checking if cistopic_objects/CNA_10xv11_1.FULL__cto.scrublet0-4.pkl exist...\n",
      "\tcistopic_objects/CNA_10xv11_1.FULL__cto.scrublet0-4.pkl exists! Skipping...\n",
      "Checking if cistopic_objects/CNA_10xv11_2.FULL__cto.scrublet0-4.pkl exist...\n",
      "\tcistopic_objects/CNA_10xv11_2.FULL__cto.scrublet0-4.pkl exists! Skipping...\n",
      "Checking if cistopic_objects/CNA_10xv11_3.FULL__cto.scrublet0-4.pkl exist...\n",
      "\tcistopic_objects/CNA_10xv11_3.FULL__cto.scrublet0-4.pkl exists! Skipping...\n",
      "Checking if cistopic_objects/CNA_10xv11_4.FULL__cto.scrublet0-4.pkl exist...\n",
      "\tcistopic_objects/CNA_10xv11_4.FULL__cto.scrublet0-4.pkl exists! Skipping...\n",
      "Checking if cistopic_objects/CNA_10xv11_5.FULL__cto.scrublet0-4.pkl exist...\n",
      "\tcistopic_objects/CNA_10xv11_5.FULL__cto.scrublet0-4.pkl exists! Skipping...\n",
      "Checking if cistopic_objects/CNA_10xv2_1.FULL__cto.scrublet0-4.pkl exist...\n",
      "\tcistopic_objects/CNA_10xv2_1.FULL__cto.scrublet0-4.pkl exists! Skipping...\n",
      "Checking if cistopic_objects/CNA_10xv2_2.FULL__cto.scrublet0-4.pkl exist...\n",
      "\tcistopic_objects/CNA_10xv2_2.FULL__cto.scrublet0-4.pkl exists! Skipping...\n",
      "Checking if cistopic_objects/CNA_hydrop_1.FULL__cto.scrublet0-4.pkl exist...\n",
      "\tcistopic_objects/CNA_hydrop_1.FULL__cto.scrublet0-4.pkl exists! Skipping...\n",
      "Checking if cistopic_objects/CNA_hydrop_2.FULL__cto.scrublet0-4.pkl exist...\n",
      "\tcistopic_objects/CNA_hydrop_2.FULL__cto.scrublet0-4.pkl exists! Skipping...\n",
      "Checking if cistopic_objects/CNA_hydrop_3.FULL__cto.scrublet0-4.pkl exist...\n",
      "\tcistopic_objects/CNA_hydrop_3.FULL__cto.scrublet0-4.pkl exists! Skipping...\n",
      "Checking if cistopic_objects/CNA_mtscatac_1.FULL__cto.scrublet0-4.pkl exist...\n",
      "\tcistopic_objects/CNA_mtscatac_1.FULL__cto.scrublet0-4.pkl exists! Skipping...\n",
      "Checking if cistopic_objects/CNA_mtscatac_2.FULL__cto.scrublet0-4.pkl exist...\n",
      "\tcistopic_objects/CNA_mtscatac_2.FULL__cto.scrublet0-4.pkl exists! Skipping...\n",
      "Checking if cistopic_objects/EPF_hydrop_1.FULL__cto.scrublet0-4.pkl exist...\n",
      "\tcistopic_objects/EPF_hydrop_1.FULL__cto.scrublet0-4.pkl exists! Skipping...\n",
      "Checking if cistopic_objects/EPF_hydrop_2.FULL__cto.scrublet0-4.pkl exist...\n",
      "\tcistopic_objects/EPF_hydrop_2.FULL__cto.scrublet0-4.pkl exists! Skipping...\n",
      "Checking if cistopic_objects/EPF_hydrop_3.FULL__cto.scrublet0-4.pkl exist...\n",
      "\tcistopic_objects/EPF_hydrop_3.FULL__cto.scrublet0-4.pkl exists! Skipping...\n",
      "Checking if cistopic_objects/EPF_hydrop_4.FULL__cto.scrublet0-4.pkl exist...\n",
      "\tcistopic_objects/EPF_hydrop_4.FULL__cto.scrublet0-4.pkl exists! Skipping...\n",
      "Checking if cistopic_objects/HAR_ddseq_1.FULL__cto.scrublet0-4.pkl exist...\n",
      "\tcistopic_objects/HAR_ddseq_1.FULL__cto.scrublet0-4.pkl exists! Skipping...\n",
      "Checking if cistopic_objects/HAR_ddseq_2.FULL__cto.scrublet0-4.pkl exist...\n",
      "\tcistopic_objects/HAR_ddseq_2.FULL__cto.scrublet0-4.pkl exists! Skipping...\n",
      "Checking if cistopic_objects/MDC_mtscatac_1.FULL__cto.scrublet0-4.pkl exist...\n",
      "\tcistopic_objects/MDC_mtscatac_1.FULL__cto.scrublet0-4.pkl exists! Skipping...\n",
      "Checking if cistopic_objects/MDC_mtscatac_2.FULL__cto.scrublet0-4.pkl exist...\n",
      "\tcistopic_objects/MDC_mtscatac_2.FULL__cto.scrublet0-4.pkl exists! Skipping...\n",
      "Checking if cistopic_objects/OHS_s3atac_1.FULL__cto.scrublet0-4.pkl exist...\n",
      "\tcistopic_objects/OHS_s3atac_1.FULL__cto.scrublet0-4.pkl exists! Skipping...\n",
      "Checking if cistopic_objects/OHS_s3atac_2.FULL__cto.scrublet0-4.pkl exist...\n",
      "\tcistopic_objects/OHS_s3atac_2.FULL__cto.scrublet0-4.pkl exists! Skipping...\n",
      "Checking if cistopic_objects/SAN_10xmultiome_1.FULL__cto.scrublet0-4.pkl exist...\n",
      "\tcistopic_objects/SAN_10xmultiome_1.FULL__cto.scrublet0-4.pkl exists! Skipping...\n",
      "Checking if cistopic_objects/SAN_10xmultiome_2.FULL__cto.scrublet0-4.pkl exist...\n",
      "\tcistopic_objects/SAN_10xmultiome_2.FULL__cto.scrublet0-4.pkl exists! Skipping...\n",
      "Checking if cistopic_objects/STA_10xv11_1.FULL__cto.scrublet0-4.pkl exist...\n",
      "\tcistopic_objects/STA_10xv11_1.FULL__cto.scrublet0-4.pkl exists! Skipping...\n",
      "Checking if cistopic_objects/STA_10xv11_2.FULL__cto.scrublet0-4.pkl exist...\n",
      "\tcistopic_objects/STA_10xv11_2.FULL__cto.scrublet0-4.pkl exists! Skipping...\n",
      "Checking if cistopic_objects/TXG_10xv11_1.FULL__cto.scrublet0-4.pkl exist...\n",
      "\tcistopic_objects/TXG_10xv11_1.FULL__cto.scrublet0-4.pkl exists! Skipping...\n",
      "Checking if cistopic_objects/TXG_10xv2_1.FULL__cto.scrublet0-4.pkl exist...\n",
      "\tcistopic_objects/TXG_10xv2_1.FULL__cto.scrublet0-4.pkl exists! Skipping...\n",
      "Checking if cistopic_objects/TXG_10xv2_2.FULL__cto.scrublet0-4.pkl exist...\n",
      "\tcistopic_objects/TXG_10xv2_2.FULL__cto.scrublet0-4.pkl exists! Skipping...\n",
      "Checking if cistopic_objects/UCS_ddseq_1.FULL__cto.scrublet0-4.pkl exist...\n",
      "\tcistopic_objects/UCS_ddseq_1.FULL__cto.scrublet0-4.pkl exists! Skipping...\n",
      "Checking if cistopic_objects/UCS_ddseq_2.FULL__cto.scrublet0-4.pkl exist...\n",
      "\tcistopic_objects/UCS_ddseq_2.FULL__cto.scrublet0-4.pkl exists! Skipping...\n",
      "Checking if cistopic_objects/VIB_10xmultiome_1.FULL__cto.scrublet0-4.pkl exist...\n",
      "\tcistopic_objects/VIB_10xmultiome_1.FULL__cto.scrublet0-4.pkl exists! Skipping...\n",
      "Checking if cistopic_objects/VIB_10xmultiome_2.FULL__cto.scrublet0-4.pkl exist...\n",
      "\tcistopic_objects/VIB_10xmultiome_2.FULL__cto.scrublet0-4.pkl exists! Skipping...\n",
      "Checking if cistopic_objects/VIB_10xv1_1.FULL__cto.scrublet0-4.pkl exist...\n",
      "\tcistopic_objects/VIB_10xv1_1.FULL__cto.scrublet0-4.pkl exists! Skipping...\n",
      "Checking if cistopic_objects/VIB_10xv1_2.FULL__cto.scrublet0-4.pkl exist...\n",
      "\tcistopic_objects/VIB_10xv1_2.FULL__cto.scrublet0-4.pkl exists! Skipping...\n",
      "Checking if cistopic_objects/VIB_10xv2_1.FULL__cto.scrublet0-4.pkl exist...\n",
      "\tcistopic_objects/VIB_10xv2_1.FULL__cto.scrublet0-4.pkl exists! Skipping...\n",
      "Checking if cistopic_objects/VIB_10xv2_2.FULL__cto.scrublet0-4.pkl exist...\n",
      "\tcistopic_objects/VIB_10xv2_2.FULL__cto.scrublet0-4.pkl exists! Skipping...\n",
      "Checking if cistopic_objects/VIB_hydrop_1.FULL__cto.scrublet0-4.pkl exist...\n",
      "\tcistopic_objects/VIB_hydrop_1.FULL__cto.scrublet0-4.pkl exists! Skipping...\n",
      "Checking if cistopic_objects/VIB_hydrop_11.FULL__cto.scrublet0-4.pkl exist...\n",
      "\tcistopic_objects/VIB_hydrop_11.FULL__cto.scrublet0-4.pkl exists! Skipping...\n",
      "Checking if cistopic_objects/VIB_hydrop_12.FULL__cto.scrublet0-4.pkl exist...\n",
      "\tcistopic_objects/VIB_hydrop_12.FULL__cto.scrublet0-4.pkl exists! Skipping...\n",
      "Checking if cistopic_objects/VIB_hydrop_2.FULL__cto.scrublet0-4.pkl exist...\n",
      "\tcistopic_objects/VIB_hydrop_2.FULL__cto.scrublet0-4.pkl exists! Skipping...\n",
      "Checking if cistopic_objects/VIB_hydrop_21.FULL__cto.scrublet0-4.pkl exist...\n",
      "\tcistopic_objects/VIB_hydrop_21.FULL__cto.scrublet0-4.pkl exists! Skipping...\n",
      "Checking if cistopic_objects/VIB_hydrop_22.FULL__cto.scrublet0-4.pkl exist...\n",
      "\tcistopic_objects/VIB_hydrop_22.FULL__cto.scrublet0-4.pkl exists! Skipping...\n"
     ]
    },
    {
     "data": {
      "application/javascript": [
       "\n",
       "            setTimeout(function() {\n",
       "                var nbb_cell_id = 157;\n",
       "                var nbb_unformatted_code = \"fragments_sub_dict = {}\\nscrubcto_dict = {}\\nscrub_threshold = 0.4\\nscrub_name_suffix = \\\"0-4\\\"\\n#regions_sub_dict = {}\\nfor sample in cto_dict:\\n    cto = os.path.join('cistopic_objects', sample + f\\\"__cto.scrublet{scrub_name_suffix}.pkl\\\")\\n    print(f\\\"Checking if {cto} exist...\\\")\\n    if os.path.exists(cto):\\n        print(f\\\"\\\\t{cto} exists! Skipping...\\\")\\n    else:\\n        print(f\\\"\\\\t{cto} does not exist, adding to subdict to generate\\\")\\n        scrubcto_dict[sample] = cto\";\n",
       "                var nbb_formatted_code = \"fragments_sub_dict = {}\\nscrubcto_dict = {}\\nscrub_threshold = 0.4\\nscrub_name_suffix = \\\"0-4\\\"\\n# regions_sub_dict = {}\\nfor sample in cto_dict:\\n    cto = os.path.join(\\n        \\\"cistopic_objects\\\", sample + f\\\"__cto.scrublet{scrub_name_suffix}.pkl\\\"\\n    )\\n    print(f\\\"Checking if {cto} exist...\\\")\\n    if os.path.exists(cto):\\n        print(f\\\"\\\\t{cto} exists! Skipping...\\\")\\n    else:\\n        print(f\\\"\\\\t{cto} does not exist, adding to subdict to generate\\\")\\n        scrubcto_dict[sample] = cto\";\n",
       "                var nbb_cells = Jupyter.notebook.get_cells();\n",
       "                for (var i = 0; i < nbb_cells.length; ++i) {\n",
       "                    if (nbb_cells[i].input_prompt_number == nbb_cell_id) {\n",
       "                        if (nbb_cells[i].get_text() == nbb_unformatted_code) {\n",
       "                             nbb_cells[i].set_text(nbb_formatted_code);\n",
       "                        }\n",
       "                        break;\n",
       "                    }\n",
       "                }\n",
       "            }, 500);\n",
       "            "
      ],
      "text/plain": [
       "<IPython.core.display.Javascript object>"
      ]
     },
     "metadata": {},
     "output_type": "display_data"
    }
   ],
   "source": [
    "fragments_sub_dict = {}\n",
    "scrubcto_dict = {}\n",
    "scrub_threshold = 0.4\n",
    "scrub_name_suffix = \"0-4\"\n",
    "#regions_sub_dict = {}\n",
    "for sample in cto_dict:\n",
    "    cto = os.path.join('cistopic_objects', sample + f\"__cto.scrublet{scrub_name_suffix}.pkl\")\n",
    "    print(f\"Checking if {cto} exist...\")\n",
    "    if os.path.exists(cto):\n",
    "        print(f\"\\t{cto} exists! Skipping...\")\n",
    "    else:\n",
    "        print(f\"\\t{cto} does not exist, adding to subdict to generate\")\n",
    "        scrubcto_dict[sample] = cto"
   ]
  },
  {
   "cell_type": "code",
   "execution_count": 158,
   "id": "5935da70",
   "metadata": {
    "execution": {
     "iopub.execute_input": "2022-09-26T16:07:36.054524Z",
     "iopub.status.busy": "2022-09-26T16:07:36.054316Z",
     "iopub.status.idle": "2022-09-26T16:07:36.076974Z",
     "shell.execute_reply": "2022-09-26T16:07:36.076521Z",
     "shell.execute_reply.started": "2022-09-26T16:07:36.054506Z"
    },
    "papermill": {
     "duration": 73.634816,
     "end_time": "2022-09-19T22:14:58.761160",
     "exception": false,
     "start_time": "2022-09-19T22:13:45.126344",
     "status": "completed"
    },
    "tags": []
   },
   "outputs": [
    {
     "data": {
      "application/javascript": [
       "\n",
       "            setTimeout(function() {\n",
       "                var nbb_cell_id = 158;\n",
       "                var nbb_unformatted_code = \"if cto_dict != {}:\\n    for sample in scrubcto_dict.keys():\\n        with open(cto_dict[sample], 'rb') as f:\\n            cto = pickle.load(f)\\n        print(f\\\"Loaded {cto_dict[sample]}\\\")\\n        scrub = scr.Scrublet(cto.fragment_matrix.T, expected_doublet_rate=0.1)\\n        doublet_scores, predicted_doublets = scrub.scrub_doublets()\\n        # scrub.plot_histogram()\\n        scrub.call_doublets(threshold=scrub_threshold)\\n        a,b = scrub.plot_histogram()\\n        a.suptitle(sample)\\n        plt.savefig(f'plots_qc/{sample}.scrublet_histogram.png', dpi=150, facecolor='white')\\n        plt.show()\\n        plt.close()\\n\\n        print('Running UMAP...')\\n        scrub.set_embedding('UMAP', scr.get_umap(scrub.manifold_obs_, 10, min_dist=0.3))\\n        scrub.plot_embedding('UMAP', order_points=True);\\n        plt.savefig(f'plots_qc/{sample}.scrublet_umap.png', dpi=150, facecolor='white')\\n        plt.show()\\n        plt.close()\\n\\n        scrublet = pd.DataFrame([scrub.doublet_scores_obs_, scrub.predicted_doublets_], \\n            columns=cto.cell_names,\\n            index=['Doublet_scores_fragments', 'Predicted_doublets_fragments']).T\\n        cto.add_cell_data(scrublet)\\n        n_scrublet_doublets = len(cto.cell_data[\\\"Predicted_doublets_fragments\\\"] == True)\\n        print(f\\\"{sample}: found doublets: \\\\n\\\\t({n_scrublet_doublets}: Scrublet)\\\"\\n             )\\n\\n        cto_path_new = scrubcto_dict[sample]\\n\\n        with open(\\n            cto_path_new, \\\"wb\\\"\\n        ) as f:\\n            pickle.dump(cto, f, protocol=4)\\n\\n        print('\\\\n')\\n        \\nelse:\\n    print(\\\"All samples already processed.\\\")\";\n",
       "                var nbb_formatted_code = \"if cto_dict != {}:\\n    for sample in scrubcto_dict.keys():\\n        with open(cto_dict[sample], \\\"rb\\\") as f:\\n            cto = pickle.load(f)\\n        print(f\\\"Loaded {cto_dict[sample]}\\\")\\n        scrub = scr.Scrublet(cto.fragment_matrix.T, expected_doublet_rate=0.1)\\n        doublet_scores, predicted_doublets = scrub.scrub_doublets()\\n        # scrub.plot_histogram()\\n        scrub.call_doublets(threshold=scrub_threshold)\\n        a, b = scrub.plot_histogram()\\n        a.suptitle(sample)\\n        plt.savefig(\\n            f\\\"plots_qc/{sample}.scrublet_histogram.png\\\", dpi=150, facecolor=\\\"white\\\"\\n        )\\n        plt.show()\\n        plt.close()\\n\\n        print(\\\"Running UMAP...\\\")\\n        scrub.set_embedding(\\\"UMAP\\\", scr.get_umap(scrub.manifold_obs_, 10, min_dist=0.3))\\n        scrub.plot_embedding(\\\"UMAP\\\", order_points=True)\\n        plt.savefig(f\\\"plots_qc/{sample}.scrublet_umap.png\\\", dpi=150, facecolor=\\\"white\\\")\\n        plt.show()\\n        plt.close()\\n\\n        scrublet = pd.DataFrame(\\n            [scrub.doublet_scores_obs_, scrub.predicted_doublets_],\\n            columns=cto.cell_names,\\n            index=[\\\"Doublet_scores_fragments\\\", \\\"Predicted_doublets_fragments\\\"],\\n        ).T\\n        cto.add_cell_data(scrublet)\\n        n_scrublet_doublets = len(cto.cell_data[\\\"Predicted_doublets_fragments\\\"] == True)\\n        print(f\\\"{sample}: found doublets: \\\\n\\\\t({n_scrublet_doublets}: Scrublet)\\\")\\n\\n        cto_path_new = scrubcto_dict[sample]\\n\\n        with open(cto_path_new, \\\"wb\\\") as f:\\n            pickle.dump(cto, f, protocol=4)\\n\\n        print(\\\"\\\\n\\\")\\n\\nelse:\\n    print(\\\"All samples already processed.\\\")\";\n",
       "                var nbb_cells = Jupyter.notebook.get_cells();\n",
       "                for (var i = 0; i < nbb_cells.length; ++i) {\n",
       "                    if (nbb_cells[i].input_prompt_number == nbb_cell_id) {\n",
       "                        if (nbb_cells[i].get_text() == nbb_unformatted_code) {\n",
       "                             nbb_cells[i].set_text(nbb_formatted_code);\n",
       "                        }\n",
       "                        break;\n",
       "                    }\n",
       "                }\n",
       "            }, 500);\n",
       "            "
      ],
      "text/plain": [
       "<IPython.core.display.Javascript object>"
      ]
     },
     "metadata": {},
     "output_type": "display_data"
    }
   ],
   "source": [
    "if cto_dict != {}:\n",
    "    for sample in scrubcto_dict.keys():\n",
    "        with open(cto_dict[sample], 'rb') as f:\n",
    "            cto = pickle.load(f)\n",
    "        print(f\"Loaded {cto_dict[sample]}\")\n",
    "        scrub = scr.Scrublet(cto.fragment_matrix.T, expected_doublet_rate=0.1)\n",
    "        doublet_scores, predicted_doublets = scrub.scrub_doublets()\n",
    "        # scrub.plot_histogram()\n",
    "        scrub.call_doublets(threshold=scrub_threshold)\n",
    "        a,b = scrub.plot_histogram()\n",
    "        a.suptitle(sample)\n",
    "        plt.savefig(f'plots_qc/{sample}.scrublet_histogram.png', dpi=150, facecolor='white')\n",
    "        plt.show()\n",
    "        plt.close()\n",
    "\n",
    "        print('Running UMAP...')\n",
    "        scrub.set_embedding('UMAP', scr.get_umap(scrub.manifold_obs_, 10, min_dist=0.3))\n",
    "        scrub.plot_embedding('UMAP', order_points=True);\n",
    "        plt.savefig(f'plots_qc/{sample}.scrublet_umap.png', dpi=150, facecolor='white')\n",
    "        plt.show()\n",
    "        plt.close()\n",
    "\n",
    "        scrublet = pd.DataFrame([scrub.doublet_scores_obs_, scrub.predicted_doublets_], \n",
    "            columns=cto.cell_names,\n",
    "            index=['Doublet_scores_fragments', 'Predicted_doublets_fragments']).T\n",
    "        cto.add_cell_data(scrublet)\n",
    "        n_scrublet_doublets = len(cto.cell_data[\"Predicted_doublets_fragments\"] == True)\n",
    "        print(f\"{sample}: found doublets: \\n\\t({n_scrublet_doublets}: Scrublet)\"\n",
    "             )\n",
    "\n",
    "        cto_path_new = scrubcto_dict[sample]\n",
    "\n",
    "        with open(\n",
    "            cto_path_new, \"wb\"\n",
    "        ) as f:\n",
    "            pickle.dump(cto, f, protocol=4)\n",
    "\n",
    "        print('\\n')\n",
    "        \n",
    "else:\n",
    "    print(\"All samples already processed.\")"
   ]
  },
  {
   "cell_type": "markdown",
   "id": "a8fd7140",
   "metadata": {
    "papermill": {
     "duration": null,
     "end_time": null,
     "exception": null,
     "start_time": null,
     "status": "completed"
    },
    "tags": []
   },
   "source": [
    "## Cell filtering"
   ]
  },
  {
   "cell_type": "markdown",
   "id": "8832bd17",
   "metadata": {
    "papermill": {
     "duration": null,
     "end_time": null,
     "exception": null,
     "start_time": null,
     "status": "completed"
    },
    "tags": []
   },
   "source": [
    "### Read in Freemuxlet doublet predictions"
   ]
  },
  {
   "cell_type": "code",
   "execution_count": 159,
   "id": "3840e6e2",
   "metadata": {
    "execution": {
     "iopub.execute_input": "2022-09-26T16:07:36.078242Z",
     "iopub.status.busy": "2022-09-26T16:07:36.078030Z",
     "iopub.status.idle": "2022-09-26T16:07:36.575052Z",
     "shell.execute_reply": "2022-09-26T16:07:36.574348Z",
     "shell.execute_reply.started": "2022-09-26T16:07:36.078224Z"
    },
    "papermill": {
     "duration": null,
     "end_time": null,
     "exception": null,
     "start_time": null,
     "status": "completed"
    },
    "tags": []
   },
   "outputs": [
    {
     "data": {
      "text/html": [
       "<div>\n",
       "<style scoped>\n",
       "    .dataframe tbody tr th:only-of-type {\n",
       "        vertical-align: middle;\n",
       "    }\n",
       "\n",
       "    .dataframe tbody tr th {\n",
       "        vertical-align: top;\n",
       "    }\n",
       "\n",
       "    .dataframe thead th {\n",
       "        text-align: right;\n",
       "    }\n",
       "</style>\n",
       "<table border=\"1\" class=\"dataframe\">\n",
       "  <thead>\n",
       "    <tr style=\"text-align: right;\">\n",
       "      <th></th>\n",
       "      <th>INT_ID</th>\n",
       "      <th>BARCODE</th>\n",
       "      <th>NUM.SNPS</th>\n",
       "      <th>NUM.READS</th>\n",
       "      <th>DROPLET.TYPE</th>\n",
       "      <th>BEST.GUESS</th>\n",
       "      <th>BEST.LLK</th>\n",
       "      <th>NEXT.GUESS</th>\n",
       "      <th>NEXT.LLK</th>\n",
       "      <th>DIFF.LLK.BEST.NEXT</th>\n",
       "      <th>...</th>\n",
       "      <th>SNG.BEST.LLK</th>\n",
       "      <th>SNG.NEXT.GUESS</th>\n",
       "      <th>SNG.NEXT.LLK</th>\n",
       "      <th>SNG.ONLY.POSTERIOR</th>\n",
       "      <th>DBL.BEST.GUESS</th>\n",
       "      <th>DBL.BEST.LLK</th>\n",
       "      <th>DIFF.LLK.SNG.DBL</th>\n",
       "      <th>ubarcode</th>\n",
       "      <th>replicate</th>\n",
       "      <th>sample</th>\n",
       "    </tr>\n",
       "  </thead>\n",
       "  <tbody>\n",
       "    <tr>\n",
       "      <th>CNA_mtscatac_1.FULL.1</th>\n",
       "      <td>0</td>\n",
       "      <td>GTCCCAGGAAAGGCCA</td>\n",
       "      <td>2339</td>\n",
       "      <td>2339</td>\n",
       "      <td>SNG</td>\n",
       "      <td>1,1</td>\n",
       "      <td>-4102.33</td>\n",
       "      <td>1,0</td>\n",
       "      <td>-4403.45</td>\n",
       "      <td>301.12</td>\n",
       "      <td>...</td>\n",
       "      <td>-4102.33</td>\n",
       "      <td>0</td>\n",
       "      <td>-5006.85</td>\n",
       "      <td>1.00000</td>\n",
       "      <td>1,0</td>\n",
       "      <td>-4403.45</td>\n",
       "      <td>301.12</td>\n",
       "      <td>CNA_mtscatac_1.FULL#GTCCCAGGAAAGGCCA</td>\n",
       "      <td>CNA_mtscatac_1.FULL</td>\n",
       "      <td>sampleA</td>\n",
       "    </tr>\n",
       "    <tr>\n",
       "      <th>CNA_mtscatac_1.FULL.2</th>\n",
       "      <td>1</td>\n",
       "      <td>TGCGAGGCTCTGCCAG</td>\n",
       "      <td>1738</td>\n",
       "      <td>1738</td>\n",
       "      <td>SNG</td>\n",
       "      <td>0,0</td>\n",
       "      <td>-3068.55</td>\n",
       "      <td>1,0</td>\n",
       "      <td>-3307.30</td>\n",
       "      <td>238.75</td>\n",
       "      <td>...</td>\n",
       "      <td>-3068.55</td>\n",
       "      <td>1</td>\n",
       "      <td>-3808.83</td>\n",
       "      <td>1.00000</td>\n",
       "      <td>1,0</td>\n",
       "      <td>-3307.30</td>\n",
       "      <td>238.75</td>\n",
       "      <td>CNA_mtscatac_1.FULL#TGCGAGGCTCTGCCAG</td>\n",
       "      <td>CNA_mtscatac_1.FULL</td>\n",
       "      <td>sampleB</td>\n",
       "    </tr>\n",
       "    <tr>\n",
       "      <th>CNA_mtscatac_1.FULL.3</th>\n",
       "      <td>2</td>\n",
       "      <td>AGCGTATACCAATAGA</td>\n",
       "      <td>5432</td>\n",
       "      <td>5432</td>\n",
       "      <td>SNG</td>\n",
       "      <td>1,1</td>\n",
       "      <td>-9844.04</td>\n",
       "      <td>1,0</td>\n",
       "      <td>-10194.35</td>\n",
       "      <td>350.30</td>\n",
       "      <td>...</td>\n",
       "      <td>-9844.04</td>\n",
       "      <td>0</td>\n",
       "      <td>-11116.48</td>\n",
       "      <td>1.00000</td>\n",
       "      <td>1,0</td>\n",
       "      <td>-10194.35</td>\n",
       "      <td>350.30</td>\n",
       "      <td>CNA_mtscatac_1.FULL#AGCGTATACCAATAGA</td>\n",
       "      <td>CNA_mtscatac_1.FULL</td>\n",
       "      <td>sampleA</td>\n",
       "    </tr>\n",
       "    <tr>\n",
       "      <th>CNA_mtscatac_1.FULL.4</th>\n",
       "      <td>3</td>\n",
       "      <td>TGTCGAAACGACCGAA</td>\n",
       "      <td>1196</td>\n",
       "      <td>1196</td>\n",
       "      <td>SNG</td>\n",
       "      <td>1,1</td>\n",
       "      <td>-2089.42</td>\n",
       "      <td>1,0</td>\n",
       "      <td>-2240.71</td>\n",
       "      <td>151.28</td>\n",
       "      <td>...</td>\n",
       "      <td>-2089.42</td>\n",
       "      <td>0</td>\n",
       "      <td>-2537.00</td>\n",
       "      <td>1.00000</td>\n",
       "      <td>1,0</td>\n",
       "      <td>-2240.71</td>\n",
       "      <td>151.28</td>\n",
       "      <td>CNA_mtscatac_1.FULL#TGTCGAAACGACCGAA</td>\n",
       "      <td>CNA_mtscatac_1.FULL</td>\n",
       "      <td>sampleA</td>\n",
       "    </tr>\n",
       "    <tr>\n",
       "      <th>CNA_mtscatac_1.FULL.5</th>\n",
       "      <td>4</td>\n",
       "      <td>AGGTCAGGACGGTTGC</td>\n",
       "      <td>6424</td>\n",
       "      <td>6424</td>\n",
       "      <td>SNG</td>\n",
       "      <td>1,1</td>\n",
       "      <td>-11307.49</td>\n",
       "      <td>1,0</td>\n",
       "      <td>-12145.77</td>\n",
       "      <td>838.28</td>\n",
       "      <td>...</td>\n",
       "      <td>-11307.49</td>\n",
       "      <td>0</td>\n",
       "      <td>-13886.90</td>\n",
       "      <td>1.00000</td>\n",
       "      <td>1,0</td>\n",
       "      <td>-12145.77</td>\n",
       "      <td>838.28</td>\n",
       "      <td>CNA_mtscatac_1.FULL#AGGTCAGGACGGTTGC</td>\n",
       "      <td>CNA_mtscatac_1.FULL</td>\n",
       "      <td>sampleA</td>\n",
       "    </tr>\n",
       "    <tr>\n",
       "      <th>...</th>\n",
       "      <td>...</td>\n",
       "      <td>...</td>\n",
       "      <td>...</td>\n",
       "      <td>...</td>\n",
       "      <td>...</td>\n",
       "      <td>...</td>\n",
       "      <td>...</td>\n",
       "      <td>...</td>\n",
       "      <td>...</td>\n",
       "      <td>...</td>\n",
       "      <td>...</td>\n",
       "      <td>...</td>\n",
       "      <td>...</td>\n",
       "      <td>...</td>\n",
       "      <td>...</td>\n",
       "      <td>...</td>\n",
       "      <td>...</td>\n",
       "      <td>...</td>\n",
       "      <td>...</td>\n",
       "      <td>...</td>\n",
       "      <td>...</td>\n",
       "    </tr>\n",
       "    <tr>\n",
       "      <th>VIB_hydrop_22.FULL.965</th>\n",
       "      <td>964</td>\n",
       "      <td>TAACCGAATCTCTCGCACGA</td>\n",
       "      <td>227</td>\n",
       "      <td>227</td>\n",
       "      <td>SNG</td>\n",
       "      <td>0,0</td>\n",
       "      <td>-404.03</td>\n",
       "      <td>1,0</td>\n",
       "      <td>-432.16</td>\n",
       "      <td>28.13</td>\n",
       "      <td>...</td>\n",
       "      <td>-404.03</td>\n",
       "      <td>1</td>\n",
       "      <td>-495.29</td>\n",
       "      <td>1.00000</td>\n",
       "      <td>1,0</td>\n",
       "      <td>-432.16</td>\n",
       "      <td>28.13</td>\n",
       "      <td>VIB_hydrop_22.FULL#TAACCGAATCTCTCGCACGA</td>\n",
       "      <td>VIB_hydrop_22.FULL</td>\n",
       "      <td>sampleB</td>\n",
       "    </tr>\n",
       "    <tr>\n",
       "      <th>VIB_hydrop_22.FULL.966</th>\n",
       "      <td>965</td>\n",
       "      <td>AACGATACCATGCTTGCCGT</td>\n",
       "      <td>175</td>\n",
       "      <td>175</td>\n",
       "      <td>SNG</td>\n",
       "      <td>0,0</td>\n",
       "      <td>-315.26</td>\n",
       "      <td>1,0</td>\n",
       "      <td>-335.18</td>\n",
       "      <td>19.92</td>\n",
       "      <td>...</td>\n",
       "      <td>-315.26</td>\n",
       "      <td>1</td>\n",
       "      <td>-385.62</td>\n",
       "      <td>1.00000</td>\n",
       "      <td>1,0</td>\n",
       "      <td>-335.18</td>\n",
       "      <td>19.92</td>\n",
       "      <td>VIB_hydrop_22.FULL#AACGATACCATGCTTGCCGT</td>\n",
       "      <td>VIB_hydrop_22.FULL</td>\n",
       "      <td>sampleB</td>\n",
       "    </tr>\n",
       "    <tr>\n",
       "      <th>VIB_hydrop_22.FULL.967</th>\n",
       "      <td>966</td>\n",
       "      <td>GATTGGCGGTGTCCAGGCTT</td>\n",
       "      <td>274</td>\n",
       "      <td>274</td>\n",
       "      <td>SNG</td>\n",
       "      <td>0,0</td>\n",
       "      <td>-481.27</td>\n",
       "      <td>1,0</td>\n",
       "      <td>-513.34</td>\n",
       "      <td>32.07</td>\n",
       "      <td>...</td>\n",
       "      <td>-481.27</td>\n",
       "      <td>1</td>\n",
       "      <td>-582.89</td>\n",
       "      <td>1.00000</td>\n",
       "      <td>1,0</td>\n",
       "      <td>-513.34</td>\n",
       "      <td>32.07</td>\n",
       "      <td>VIB_hydrop_22.FULL#GATTGGCGGTGTCCAGGCTT</td>\n",
       "      <td>VIB_hydrop_22.FULL</td>\n",
       "      <td>sampleB</td>\n",
       "    </tr>\n",
       "    <tr>\n",
       "      <th>VIB_hydrop_22.FULL.968</th>\n",
       "      <td>967</td>\n",
       "      <td>CGTTGACCACGGTAGGTAGG</td>\n",
       "      <td>172</td>\n",
       "      <td>172</td>\n",
       "      <td>SNG</td>\n",
       "      <td>1,1</td>\n",
       "      <td>-312.80</td>\n",
       "      <td>1,0</td>\n",
       "      <td>-321.39</td>\n",
       "      <td>8.59</td>\n",
       "      <td>...</td>\n",
       "      <td>-312.80</td>\n",
       "      <td>0</td>\n",
       "      <td>-342.76</td>\n",
       "      <td>1.00000</td>\n",
       "      <td>1,0</td>\n",
       "      <td>-321.39</td>\n",
       "      <td>8.59</td>\n",
       "      <td>VIB_hydrop_22.FULL#CGTTGACCACGGTAGGTAGG</td>\n",
       "      <td>VIB_hydrop_22.FULL</td>\n",
       "      <td>sampleA</td>\n",
       "    </tr>\n",
       "    <tr>\n",
       "      <th>VIB_hydrop_22.FULL.969</th>\n",
       "      <td>968</td>\n",
       "      <td>ACGAGTTGCCACGGTGCTCT</td>\n",
       "      <td>196</td>\n",
       "      <td>196</td>\n",
       "      <td>SNG</td>\n",
       "      <td>1,1</td>\n",
       "      <td>-359.42</td>\n",
       "      <td>1,0</td>\n",
       "      <td>-358.65</td>\n",
       "      <td>-0.77</td>\n",
       "      <td>...</td>\n",
       "      <td>-359.42</td>\n",
       "      <td>0</td>\n",
       "      <td>-369.17</td>\n",
       "      <td>0.99994</td>\n",
       "      <td>1,0</td>\n",
       "      <td>-358.65</td>\n",
       "      <td>-0.77</td>\n",
       "      <td>VIB_hydrop_22.FULL#ACGAGTTGCCACGGTGCTCT</td>\n",
       "      <td>VIB_hydrop_22.FULL</td>\n",
       "      <td>sampleA</td>\n",
       "    </tr>\n",
       "  </tbody>\n",
       "</table>\n",
       "<p>116783 rows × 23 columns</p>\n",
       "</div>"
      ],
      "text/plain": [
       "                        INT_ID               BARCODE  NUM.SNPS  NUM.READS  \\\n",
       "CNA_mtscatac_1.FULL.1        0      GTCCCAGGAAAGGCCA      2339       2339   \n",
       "CNA_mtscatac_1.FULL.2        1      TGCGAGGCTCTGCCAG      1738       1738   \n",
       "CNA_mtscatac_1.FULL.3        2      AGCGTATACCAATAGA      5432       5432   \n",
       "CNA_mtscatac_1.FULL.4        3      TGTCGAAACGACCGAA      1196       1196   \n",
       "CNA_mtscatac_1.FULL.5        4      AGGTCAGGACGGTTGC      6424       6424   \n",
       "...                        ...                   ...       ...        ...   \n",
       "VIB_hydrop_22.FULL.965     964  TAACCGAATCTCTCGCACGA       227        227   \n",
       "VIB_hydrop_22.FULL.966     965  AACGATACCATGCTTGCCGT       175        175   \n",
       "VIB_hydrop_22.FULL.967     966  GATTGGCGGTGTCCAGGCTT       274        274   \n",
       "VIB_hydrop_22.FULL.968     967  CGTTGACCACGGTAGGTAGG       172        172   \n",
       "VIB_hydrop_22.FULL.969     968  ACGAGTTGCCACGGTGCTCT       196        196   \n",
       "\n",
       "                       DROPLET.TYPE BEST.GUESS  BEST.LLK NEXT.GUESS  NEXT.LLK  \\\n",
       "CNA_mtscatac_1.FULL.1           SNG        1,1  -4102.33        1,0  -4403.45   \n",
       "CNA_mtscatac_1.FULL.2           SNG        0,0  -3068.55        1,0  -3307.30   \n",
       "CNA_mtscatac_1.FULL.3           SNG        1,1  -9844.04        1,0 -10194.35   \n",
       "CNA_mtscatac_1.FULL.4           SNG        1,1  -2089.42        1,0  -2240.71   \n",
       "CNA_mtscatac_1.FULL.5           SNG        1,1 -11307.49        1,0 -12145.77   \n",
       "...                             ...        ...       ...        ...       ...   \n",
       "VIB_hydrop_22.FULL.965          SNG        0,0   -404.03        1,0   -432.16   \n",
       "VIB_hydrop_22.FULL.966          SNG        0,0   -315.26        1,0   -335.18   \n",
       "VIB_hydrop_22.FULL.967          SNG        0,0   -481.27        1,0   -513.34   \n",
       "VIB_hydrop_22.FULL.968          SNG        1,1   -312.80        1,0   -321.39   \n",
       "VIB_hydrop_22.FULL.969          SNG        1,1   -359.42        1,0   -358.65   \n",
       "\n",
       "                        DIFF.LLK.BEST.NEXT  ...  SNG.BEST.LLK  SNG.NEXT.GUESS  \\\n",
       "CNA_mtscatac_1.FULL.1               301.12  ...      -4102.33               0   \n",
       "CNA_mtscatac_1.FULL.2               238.75  ...      -3068.55               1   \n",
       "CNA_mtscatac_1.FULL.3               350.30  ...      -9844.04               0   \n",
       "CNA_mtscatac_1.FULL.4               151.28  ...      -2089.42               0   \n",
       "CNA_mtscatac_1.FULL.5               838.28  ...     -11307.49               0   \n",
       "...                                    ...  ...           ...             ...   \n",
       "VIB_hydrop_22.FULL.965               28.13  ...       -404.03               1   \n",
       "VIB_hydrop_22.FULL.966               19.92  ...       -315.26               1   \n",
       "VIB_hydrop_22.FULL.967               32.07  ...       -481.27               1   \n",
       "VIB_hydrop_22.FULL.968                8.59  ...       -312.80               0   \n",
       "VIB_hydrop_22.FULL.969               -0.77  ...       -359.42               0   \n",
       "\n",
       "                        SNG.NEXT.LLK  SNG.ONLY.POSTERIOR  DBL.BEST.GUESS  \\\n",
       "CNA_mtscatac_1.FULL.1       -5006.85             1.00000             1,0   \n",
       "CNA_mtscatac_1.FULL.2       -3808.83             1.00000             1,0   \n",
       "CNA_mtscatac_1.FULL.3      -11116.48             1.00000             1,0   \n",
       "CNA_mtscatac_1.FULL.4       -2537.00             1.00000             1,0   \n",
       "CNA_mtscatac_1.FULL.5      -13886.90             1.00000             1,0   \n",
       "...                              ...                 ...             ...   \n",
       "VIB_hydrop_22.FULL.965       -495.29             1.00000             1,0   \n",
       "VIB_hydrop_22.FULL.966       -385.62             1.00000             1,0   \n",
       "VIB_hydrop_22.FULL.967       -582.89             1.00000             1,0   \n",
       "VIB_hydrop_22.FULL.968       -342.76             1.00000             1,0   \n",
       "VIB_hydrop_22.FULL.969       -369.17             0.99994             1,0   \n",
       "\n",
       "                        DBL.BEST.LLK  DIFF.LLK.SNG.DBL  \\\n",
       "CNA_mtscatac_1.FULL.1       -4403.45            301.12   \n",
       "CNA_mtscatac_1.FULL.2       -3307.30            238.75   \n",
       "CNA_mtscatac_1.FULL.3      -10194.35            350.30   \n",
       "CNA_mtscatac_1.FULL.4       -2240.71            151.28   \n",
       "CNA_mtscatac_1.FULL.5      -12145.77            838.28   \n",
       "...                              ...               ...   \n",
       "VIB_hydrop_22.FULL.965       -432.16             28.13   \n",
       "VIB_hydrop_22.FULL.966       -335.18             19.92   \n",
       "VIB_hydrop_22.FULL.967       -513.34             32.07   \n",
       "VIB_hydrop_22.FULL.968       -321.39              8.59   \n",
       "VIB_hydrop_22.FULL.969       -358.65             -0.77   \n",
       "\n",
       "                                                       ubarcode  \\\n",
       "CNA_mtscatac_1.FULL.1      CNA_mtscatac_1.FULL#GTCCCAGGAAAGGCCA   \n",
       "CNA_mtscatac_1.FULL.2      CNA_mtscatac_1.FULL#TGCGAGGCTCTGCCAG   \n",
       "CNA_mtscatac_1.FULL.3      CNA_mtscatac_1.FULL#AGCGTATACCAATAGA   \n",
       "CNA_mtscatac_1.FULL.4      CNA_mtscatac_1.FULL#TGTCGAAACGACCGAA   \n",
       "CNA_mtscatac_1.FULL.5      CNA_mtscatac_1.FULL#AGGTCAGGACGGTTGC   \n",
       "...                                                         ...   \n",
       "VIB_hydrop_22.FULL.965  VIB_hydrop_22.FULL#TAACCGAATCTCTCGCACGA   \n",
       "VIB_hydrop_22.FULL.966  VIB_hydrop_22.FULL#AACGATACCATGCTTGCCGT   \n",
       "VIB_hydrop_22.FULL.967  VIB_hydrop_22.FULL#GATTGGCGGTGTCCAGGCTT   \n",
       "VIB_hydrop_22.FULL.968  VIB_hydrop_22.FULL#CGTTGACCACGGTAGGTAGG   \n",
       "VIB_hydrop_22.FULL.969  VIB_hydrop_22.FULL#ACGAGTTGCCACGGTGCTCT   \n",
       "\n",
       "                                  replicate   sample  \n",
       "CNA_mtscatac_1.FULL.1   CNA_mtscatac_1.FULL  sampleA  \n",
       "CNA_mtscatac_1.FULL.2   CNA_mtscatac_1.FULL  sampleB  \n",
       "CNA_mtscatac_1.FULL.3   CNA_mtscatac_1.FULL  sampleA  \n",
       "CNA_mtscatac_1.FULL.4   CNA_mtscatac_1.FULL  sampleA  \n",
       "CNA_mtscatac_1.FULL.5   CNA_mtscatac_1.FULL  sampleA  \n",
       "...                                     ...      ...  \n",
       "VIB_hydrop_22.FULL.965   VIB_hydrop_22.FULL  sampleB  \n",
       "VIB_hydrop_22.FULL.966   VIB_hydrop_22.FULL  sampleB  \n",
       "VIB_hydrop_22.FULL.967   VIB_hydrop_22.FULL  sampleB  \n",
       "VIB_hydrop_22.FULL.968   VIB_hydrop_22.FULL  sampleA  \n",
       "VIB_hydrop_22.FULL.969   VIB_hydrop_22.FULL  sampleA  \n",
       "\n",
       "[116783 rows x 23 columns]"
      ]
     },
     "execution_count": 159,
     "metadata": {},
     "output_type": "execute_result"
    },
    {
     "data": {
      "application/javascript": [
       "\n",
       "            setTimeout(function() {\n",
       "                var nbb_cell_id = 159;\n",
       "                var nbb_unformatted_code = \"f_fmx = 'out_fmx/genotype_concordance_unified.txt'\\nfmx = pd.read_csv(f_fmx, sep='\\\\t')\\nfmx\";\n",
       "                var nbb_formatted_code = \"f_fmx = \\\"out_fmx/genotype_concordance_unified.txt\\\"\\nfmx = pd.read_csv(f_fmx, sep=\\\"\\\\t\\\")\\nfmx\";\n",
       "                var nbb_cells = Jupyter.notebook.get_cells();\n",
       "                for (var i = 0; i < nbb_cells.length; ++i) {\n",
       "                    if (nbb_cells[i].input_prompt_number == nbb_cell_id) {\n",
       "                        if (nbb_cells[i].get_text() == nbb_unformatted_code) {\n",
       "                             nbb_cells[i].set_text(nbb_formatted_code);\n",
       "                        }\n",
       "                        break;\n",
       "                    }\n",
       "                }\n",
       "            }, 500);\n",
       "            "
      ],
      "text/plain": [
       "<IPython.core.display.Javascript object>"
      ]
     },
     "metadata": {},
     "output_type": "display_data"
    }
   ],
   "source": [
    "f_fmx = 'out_fmx/genotype_concordance_unified.txt'\n",
    "fmx = pd.read_csv(f_fmx, sep='\\t')\n",
    "fmx"
   ]
  },
  {
   "cell_type": "code",
   "execution_count": 160,
   "id": "a534af40",
   "metadata": {
    "execution": {
     "iopub.execute_input": "2022-09-26T16:07:36.576138Z",
     "iopub.status.busy": "2022-09-26T16:07:36.575913Z",
     "iopub.status.idle": "2022-09-26T16:07:36.585971Z",
     "shell.execute_reply": "2022-09-26T16:07:36.585505Z",
     "shell.execute_reply.started": "2022-09-26T16:07:36.576118Z"
    },
    "papermill": {
     "duration": null,
     "end_time": null,
     "exception": null,
     "start_time": null,
     "status": "completed"
    },
    "tags": []
   },
   "outputs": [
    {
     "data": {
      "text/plain": [
       "array(['SNG', 'DBL'], dtype=object)"
      ]
     },
     "execution_count": 160,
     "metadata": {},
     "output_type": "execute_result"
    },
    {
     "data": {
      "application/javascript": [
       "\n",
       "            setTimeout(function() {\n",
       "                var nbb_cell_id = 160;\n",
       "                var nbb_unformatted_code = \"fmx['DROPLET.TYPE'].unique()\";\n",
       "                var nbb_formatted_code = \"fmx[\\\"DROPLET.TYPE\\\"].unique()\";\n",
       "                var nbb_cells = Jupyter.notebook.get_cells();\n",
       "                for (var i = 0; i < nbb_cells.length; ++i) {\n",
       "                    if (nbb_cells[i].input_prompt_number == nbb_cell_id) {\n",
       "                        if (nbb_cells[i].get_text() == nbb_unformatted_code) {\n",
       "                             nbb_cells[i].set_text(nbb_formatted_code);\n",
       "                        }\n",
       "                        break;\n",
       "                    }\n",
       "                }\n",
       "            }, 500);\n",
       "            "
      ],
      "text/plain": [
       "<IPython.core.display.Javascript object>"
      ]
     },
     "metadata": {},
     "output_type": "display_data"
    }
   ],
   "source": [
    "fmx['DROPLET.TYPE'].unique()"
   ]
  },
  {
   "cell_type": "code",
   "execution_count": 161,
   "id": "3b77fdc1",
   "metadata": {
    "execution": {
     "iopub.execute_input": "2022-09-26T16:07:36.586929Z",
     "iopub.status.busy": "2022-09-26T16:07:36.586733Z",
     "iopub.status.idle": "2022-09-26T16:07:36.668204Z",
     "shell.execute_reply": "2022-09-26T16:07:36.667690Z",
     "shell.execute_reply.started": "2022-09-26T16:07:36.586910Z"
    },
    "papermill": {
     "duration": null,
     "end_time": null,
     "exception": null,
     "start_time": null,
     "status": "completed"
    },
    "tags": []
   },
   "outputs": [
    {
     "data": {
      "text/html": [
       "<div>\n",
       "<style scoped>\n",
       "    .dataframe tbody tr th:only-of-type {\n",
       "        vertical-align: middle;\n",
       "    }\n",
       "\n",
       "    .dataframe tbody tr th {\n",
       "        vertical-align: top;\n",
       "    }\n",
       "\n",
       "    .dataframe thead th {\n",
       "        text-align: right;\n",
       "    }\n",
       "</style>\n",
       "<table border=\"1\" class=\"dataframe\">\n",
       "  <thead>\n",
       "    <tr style=\"text-align: right;\">\n",
       "      <th></th>\n",
       "      <th>fmx_droplet_type</th>\n",
       "      <th>fmx_sample</th>\n",
       "    </tr>\n",
       "    <tr>\n",
       "      <th>cell_names</th>\n",
       "      <th></th>\n",
       "      <th></th>\n",
       "    </tr>\n",
       "  </thead>\n",
       "  <tbody>\n",
       "    <tr>\n",
       "      <th>GTCCCAGGAAAGGCCA___CNA_mtscatac_1.FULL</th>\n",
       "      <td>SNG</td>\n",
       "      <td>sampleA</td>\n",
       "    </tr>\n",
       "    <tr>\n",
       "      <th>TGCGAGGCTCTGCCAG___CNA_mtscatac_1.FULL</th>\n",
       "      <td>SNG</td>\n",
       "      <td>sampleB</td>\n",
       "    </tr>\n",
       "    <tr>\n",
       "      <th>AGCGTATACCAATAGA___CNA_mtscatac_1.FULL</th>\n",
       "      <td>SNG</td>\n",
       "      <td>sampleA</td>\n",
       "    </tr>\n",
       "    <tr>\n",
       "      <th>TGTCGAAACGACCGAA___CNA_mtscatac_1.FULL</th>\n",
       "      <td>SNG</td>\n",
       "      <td>sampleA</td>\n",
       "    </tr>\n",
       "    <tr>\n",
       "      <th>AGGTCAGGACGGTTGC___CNA_mtscatac_1.FULL</th>\n",
       "      <td>SNG</td>\n",
       "      <td>sampleA</td>\n",
       "    </tr>\n",
       "    <tr>\n",
       "      <th>...</th>\n",
       "      <td>...</td>\n",
       "      <td>...</td>\n",
       "    </tr>\n",
       "    <tr>\n",
       "      <th>TAACCGAATCTCTCGCACGA___VIB_hydrop_22.FULL</th>\n",
       "      <td>SNG</td>\n",
       "      <td>sampleB</td>\n",
       "    </tr>\n",
       "    <tr>\n",
       "      <th>AACGATACCATGCTTGCCGT___VIB_hydrop_22.FULL</th>\n",
       "      <td>SNG</td>\n",
       "      <td>sampleB</td>\n",
       "    </tr>\n",
       "    <tr>\n",
       "      <th>GATTGGCGGTGTCCAGGCTT___VIB_hydrop_22.FULL</th>\n",
       "      <td>SNG</td>\n",
       "      <td>sampleB</td>\n",
       "    </tr>\n",
       "    <tr>\n",
       "      <th>CGTTGACCACGGTAGGTAGG___VIB_hydrop_22.FULL</th>\n",
       "      <td>SNG</td>\n",
       "      <td>sampleA</td>\n",
       "    </tr>\n",
       "    <tr>\n",
       "      <th>ACGAGTTGCCACGGTGCTCT___VIB_hydrop_22.FULL</th>\n",
       "      <td>SNG</td>\n",
       "      <td>sampleA</td>\n",
       "    </tr>\n",
       "  </tbody>\n",
       "</table>\n",
       "<p>116783 rows × 2 columns</p>\n",
       "</div>"
      ],
      "text/plain": [
       "                                          fmx_droplet_type fmx_sample\n",
       "cell_names                                                           \n",
       "GTCCCAGGAAAGGCCA___CNA_mtscatac_1.FULL                 SNG    sampleA\n",
       "TGCGAGGCTCTGCCAG___CNA_mtscatac_1.FULL                 SNG    sampleB\n",
       "AGCGTATACCAATAGA___CNA_mtscatac_1.FULL                 SNG    sampleA\n",
       "TGTCGAAACGACCGAA___CNA_mtscatac_1.FULL                 SNG    sampleA\n",
       "AGGTCAGGACGGTTGC___CNA_mtscatac_1.FULL                 SNG    sampleA\n",
       "...                                                    ...        ...\n",
       "TAACCGAATCTCTCGCACGA___VIB_hydrop_22.FULL              SNG    sampleB\n",
       "AACGATACCATGCTTGCCGT___VIB_hydrop_22.FULL              SNG    sampleB\n",
       "GATTGGCGGTGTCCAGGCTT___VIB_hydrop_22.FULL              SNG    sampleB\n",
       "CGTTGACCACGGTAGGTAGG___VIB_hydrop_22.FULL              SNG    sampleA\n",
       "ACGAGTTGCCACGGTGCTCT___VIB_hydrop_22.FULL              SNG    sampleA\n",
       "\n",
       "[116783 rows x 2 columns]"
      ]
     },
     "execution_count": 161,
     "metadata": {},
     "output_type": "execute_result"
    },
    {
     "data": {
      "application/javascript": [
       "\n",
       "            setTimeout(function() {\n",
       "                var nbb_cell_id = 161;\n",
       "                var nbb_unformatted_code = \"# create an annotation df:\\nfmx['cell_names'] = fmx['BARCODE'] + \\\"___\\\" + fmx['replicate']\\n\\nfmx_annot = fmx[['DROPLET.TYPE','sample','cell_names']].copy().set_index('cell_names')\\nfmx_annot.columns = ['fmx_droplet_type','fmx_sample']\\nfmx_annot\";\n",
       "                var nbb_formatted_code = \"# create an annotation df:\\nfmx[\\\"cell_names\\\"] = fmx[\\\"BARCODE\\\"] + \\\"___\\\" + fmx[\\\"replicate\\\"]\\n\\nfmx_annot = fmx[[\\\"DROPLET.TYPE\\\", \\\"sample\\\", \\\"cell_names\\\"]].copy().set_index(\\\"cell_names\\\")\\nfmx_annot.columns = [\\\"fmx_droplet_type\\\", \\\"fmx_sample\\\"]\\nfmx_annot\";\n",
       "                var nbb_cells = Jupyter.notebook.get_cells();\n",
       "                for (var i = 0; i < nbb_cells.length; ++i) {\n",
       "                    if (nbb_cells[i].input_prompt_number == nbb_cell_id) {\n",
       "                        if (nbb_cells[i].get_text() == nbb_unformatted_code) {\n",
       "                             nbb_cells[i].set_text(nbb_formatted_code);\n",
       "                        }\n",
       "                        break;\n",
       "                    }\n",
       "                }\n",
       "            }, 500);\n",
       "            "
      ],
      "text/plain": [
       "<IPython.core.display.Javascript object>"
      ]
     },
     "metadata": {},
     "output_type": "display_data"
    }
   ],
   "source": [
    "# create an annotation df:\n",
    "fmx['cell_names'] = fmx['BARCODE'] + \"___\" + fmx['replicate']\n",
    "\n",
    "fmx_annot = fmx[['DROPLET.TYPE','sample','cell_names']].copy().set_index('cell_names')\n",
    "fmx_annot.columns = ['fmx_droplet_type','fmx_sample']\n",
    "fmx_annot"
   ]
  },
  {
   "cell_type": "markdown",
   "id": "17eef5a8",
   "metadata": {
    "papermill": {
     "duration": null,
     "end_time": null,
     "exception": null,
     "start_time": null,
     "status": "completed"
    },
    "tags": []
   },
   "source": [
    "# Read scrublet ctos"
   ]
  },
  {
   "cell_type": "code",
   "execution_count": 162,
   "id": "3259bad4",
   "metadata": {
    "execution": {
     "iopub.execute_input": "2022-09-26T16:07:36.669377Z",
     "iopub.status.busy": "2022-09-26T16:07:36.669146Z",
     "iopub.status.idle": "2022-09-26T16:07:36.681353Z",
     "shell.execute_reply": "2022-09-26T16:07:36.680929Z",
     "shell.execute_reply.started": "2022-09-26T16:07:36.669358Z"
    },
    "papermill": {
     "duration": null,
     "end_time": null,
     "exception": null,
     "start_time": null,
     "status": "completed"
    },
    "tags": []
   },
   "outputs": [
    {
     "data": {
      "text/plain": [
       "{'BIO_ddseq_1.FULL': 'cistopic_objects/BIO_ddseq_1.FULL__cto.scrublet0-4.pkl',\n",
       " 'BIO_ddseq_2.FULL': 'cistopic_objects/BIO_ddseq_2.FULL__cto.scrublet0-4.pkl',\n",
       " 'BIO_ddseq_3.FULL': 'cistopic_objects/BIO_ddseq_3.FULL__cto.scrublet0-4.pkl',\n",
       " 'BIO_ddseq_4.FULL': 'cistopic_objects/BIO_ddseq_4.FULL__cto.scrublet0-4.pkl',\n",
       " 'BRO_mtscatac_1.FULL': 'cistopic_objects/BRO_mtscatac_1.FULL__cto.scrublet0-4.pkl',\n",
       " 'BRO_mtscatac_2.FULL': 'cistopic_objects/BRO_mtscatac_2.FULL__cto.scrublet0-4.pkl',\n",
       " 'CNA_10xmultiome_1.FULL': 'cistopic_objects/CNA_10xmultiome_1.FULL__cto.scrublet0-4.pkl',\n",
       " 'CNA_10xmultiome_2.FULL': 'cistopic_objects/CNA_10xmultiome_2.FULL__cto.scrublet0-4.pkl',\n",
       " 'CNA_10xv11_1.FULL': 'cistopic_objects/CNA_10xv11_1.FULL__cto.scrublet0-4.pkl',\n",
       " 'CNA_10xv11_2.FULL': 'cistopic_objects/CNA_10xv11_2.FULL__cto.scrublet0-4.pkl',\n",
       " 'CNA_10xv11_3.FULL': 'cistopic_objects/CNA_10xv11_3.FULL__cto.scrublet0-4.pkl',\n",
       " 'CNA_10xv11_4.FULL': 'cistopic_objects/CNA_10xv11_4.FULL__cto.scrublet0-4.pkl',\n",
       " 'CNA_10xv11_5.FULL': 'cistopic_objects/CNA_10xv11_5.FULL__cto.scrublet0-4.pkl',\n",
       " 'CNA_10xv2_1.FULL': 'cistopic_objects/CNA_10xv2_1.FULL__cto.scrublet0-4.pkl',\n",
       " 'CNA_10xv2_2.FULL': 'cistopic_objects/CNA_10xv2_2.FULL__cto.scrublet0-4.pkl',\n",
       " 'CNA_hydrop_1.FULL': 'cistopic_objects/CNA_hydrop_1.FULL__cto.scrublet0-4.pkl',\n",
       " 'CNA_hydrop_2.FULL': 'cistopic_objects/CNA_hydrop_2.FULL__cto.scrublet0-4.pkl',\n",
       " 'CNA_hydrop_3.FULL': 'cistopic_objects/CNA_hydrop_3.FULL__cto.scrublet0-4.pkl',\n",
       " 'CNA_mtscatac_1.FULL': 'cistopic_objects/CNA_mtscatac_1.FULL__cto.scrublet0-4.pkl',\n",
       " 'CNA_mtscatac_2.FULL': 'cistopic_objects/CNA_mtscatac_2.FULL__cto.scrublet0-4.pkl',\n",
       " 'EPF_hydrop_1.FULL': 'cistopic_objects/EPF_hydrop_1.FULL__cto.scrublet0-4.pkl',\n",
       " 'EPF_hydrop_2.FULL': 'cistopic_objects/EPF_hydrop_2.FULL__cto.scrublet0-4.pkl',\n",
       " 'EPF_hydrop_3.FULL': 'cistopic_objects/EPF_hydrop_3.FULL__cto.scrublet0-4.pkl',\n",
       " 'EPF_hydrop_4.FULL': 'cistopic_objects/EPF_hydrop_4.FULL__cto.scrublet0-4.pkl',\n",
       " 'HAR_ddseq_1.FULL': 'cistopic_objects/HAR_ddseq_1.FULL__cto.scrublet0-4.pkl',\n",
       " 'HAR_ddseq_2.FULL': 'cistopic_objects/HAR_ddseq_2.FULL__cto.scrublet0-4.pkl',\n",
       " 'MDC_mtscatac_1.FULL': 'cistopic_objects/MDC_mtscatac_1.FULL__cto.scrublet0-4.pkl',\n",
       " 'MDC_mtscatac_2.FULL': 'cistopic_objects/MDC_mtscatac_2.FULL__cto.scrublet0-4.pkl',\n",
       " 'OHS_s3atac_1.FULL': 'cistopic_objects/OHS_s3atac_1.FULL__cto.scrublet0-4.pkl',\n",
       " 'OHS_s3atac_2.FULL': 'cistopic_objects/OHS_s3atac_2.FULL__cto.scrublet0-4.pkl',\n",
       " 'SAN_10xmultiome_1.FULL': 'cistopic_objects/SAN_10xmultiome_1.FULL__cto.scrublet0-4.pkl',\n",
       " 'SAN_10xmultiome_2.FULL': 'cistopic_objects/SAN_10xmultiome_2.FULL__cto.scrublet0-4.pkl',\n",
       " 'STA_10xv11_1.FULL': 'cistopic_objects/STA_10xv11_1.FULL__cto.scrublet0-4.pkl',\n",
       " 'STA_10xv11_2.FULL': 'cistopic_objects/STA_10xv11_2.FULL__cto.scrublet0-4.pkl',\n",
       " 'TXG_10xv11_1.FULL': 'cistopic_objects/TXG_10xv11_1.FULL__cto.scrublet0-4.pkl',\n",
       " 'TXG_10xv2_1.FULL': 'cistopic_objects/TXG_10xv2_1.FULL__cto.scrublet0-4.pkl',\n",
       " 'TXG_10xv2_2.FULL': 'cistopic_objects/TXG_10xv2_2.FULL__cto.scrublet0-4.pkl',\n",
       " 'UCS_ddseq_1.FULL': 'cistopic_objects/UCS_ddseq_1.FULL__cto.scrublet0-4.pkl',\n",
       " 'UCS_ddseq_2.FULL': 'cistopic_objects/UCS_ddseq_2.FULL__cto.scrublet0-4.pkl',\n",
       " 'VIB_10xmultiome_1.FULL': 'cistopic_objects/VIB_10xmultiome_1.FULL__cto.scrublet0-4.pkl',\n",
       " 'VIB_10xmultiome_2.FULL': 'cistopic_objects/VIB_10xmultiome_2.FULL__cto.scrublet0-4.pkl',\n",
       " 'VIB_10xv1_1.FULL': 'cistopic_objects/VIB_10xv1_1.FULL__cto.scrublet0-4.pkl',\n",
       " 'VIB_10xv1_2.FULL': 'cistopic_objects/VIB_10xv1_2.FULL__cto.scrublet0-4.pkl',\n",
       " 'VIB_10xv2_1.FULL': 'cistopic_objects/VIB_10xv2_1.FULL__cto.scrublet0-4.pkl',\n",
       " 'VIB_10xv2_2.FULL': 'cistopic_objects/VIB_10xv2_2.FULL__cto.scrublet0-4.pkl',\n",
       " 'VIB_hydrop_1.FULL': 'cistopic_objects/VIB_hydrop_1.FULL__cto.scrublet0-4.pkl',\n",
       " 'VIB_hydrop_11.FULL': 'cistopic_objects/VIB_hydrop_11.FULL__cto.scrublet0-4.pkl',\n",
       " 'VIB_hydrop_12.FULL': 'cistopic_objects/VIB_hydrop_12.FULL__cto.scrublet0-4.pkl',\n",
       " 'VIB_hydrop_2.FULL': 'cistopic_objects/VIB_hydrop_2.FULL__cto.scrublet0-4.pkl',\n",
       " 'VIB_hydrop_21.FULL': 'cistopic_objects/VIB_hydrop_21.FULL__cto.scrublet0-4.pkl',\n",
       " 'VIB_hydrop_22.FULL': 'cistopic_objects/VIB_hydrop_22.FULL__cto.scrublet0-4.pkl'}"
      ]
     },
     "execution_count": 162,
     "metadata": {},
     "output_type": "execute_result"
    },
    {
     "data": {
      "application/javascript": [
       "\n",
       "            setTimeout(function() {\n",
       "                var nbb_cell_id = 162;\n",
       "                var nbb_unformatted_code = \"scrubcto_dict = {x.split('/')[-1].split(f'__cto.scrublet{scrub_name_suffix}.pkl')[0]:x for x in sorted(glob.glob(f'cistopic_objects/*__cto.scrublet{scrub_name_suffix}.pkl'))}\\nscrubcto_dict\";\n",
       "                var nbb_formatted_code = \"scrubcto_dict = {\\n    x.split(\\\"/\\\")[-1].split(f\\\"__cto.scrublet{scrub_name_suffix}.pkl\\\")[0]: x\\n    for x in sorted(\\n        glob.glob(f\\\"cistopic_objects/*__cto.scrublet{scrub_name_suffix}.pkl\\\")\\n    )\\n}\\nscrubcto_dict\";\n",
       "                var nbb_cells = Jupyter.notebook.get_cells();\n",
       "                for (var i = 0; i < nbb_cells.length; ++i) {\n",
       "                    if (nbb_cells[i].input_prompt_number == nbb_cell_id) {\n",
       "                        if (nbb_cells[i].get_text() == nbb_unformatted_code) {\n",
       "                             nbb_cells[i].set_text(nbb_formatted_code);\n",
       "                        }\n",
       "                        break;\n",
       "                    }\n",
       "                }\n",
       "            }, 500);\n",
       "            "
      ],
      "text/plain": [
       "<IPython.core.display.Javascript object>"
      ]
     },
     "metadata": {},
     "output_type": "display_data"
    }
   ],
   "source": [
    "scrubcto_dict = {x.split('/')[-1].split(f'__cto.scrublet{scrub_name_suffix}.pkl')[0]:x for x in sorted(glob.glob(f'cistopic_objects/*__cto.scrublet{scrub_name_suffix}.pkl'))}\n",
    "scrubcto_dict"
   ]
  },
  {
   "cell_type": "code",
   "execution_count": 163,
   "id": "cf66a086",
   "metadata": {
    "execution": {
     "iopub.execute_input": "2022-09-26T16:07:36.682678Z",
     "iopub.status.busy": "2022-09-26T16:07:36.682460Z",
     "iopub.status.idle": "2022-09-26T16:07:36.901195Z",
     "shell.execute_reply": "2022-09-26T16:07:36.900649Z",
     "shell.execute_reply.started": "2022-09-26T16:07:36.682659Z"
    },
    "papermill": {
     "duration": null,
     "end_time": null,
     "exception": null,
     "start_time": null,
     "status": "completed"
    },
    "tags": []
   },
   "outputs": [
    {
     "name": "stdout",
     "output_type": "stream",
     "text": [
      "BIO_ddseq_1.FULL\n",
      "\tcistopic_objects/BIO_ddseq_1.FULL__cto.scrublet0-4.fmx.singlets.pkl exists! Skipping...\n",
      "BIO_ddseq_2.FULL\n",
      "\tcistopic_objects/BIO_ddseq_2.FULL__cto.scrublet0-4.fmx.singlets.pkl exists! Skipping...\n",
      "BIO_ddseq_3.FULL\n",
      "\tcistopic_objects/BIO_ddseq_3.FULL__cto.scrublet0-4.fmx.singlets.pkl exists! Skipping...\n",
      "BIO_ddseq_4.FULL\n",
      "\tcistopic_objects/BIO_ddseq_4.FULL__cto.scrublet0-4.fmx.singlets.pkl exists! Skipping...\n",
      "BRO_mtscatac_1.FULL\n",
      "\tcistopic_objects/BRO_mtscatac_1.FULL__cto.scrublet0-4.fmx.singlets.pkl exists! Skipping...\n",
      "BRO_mtscatac_2.FULL\n",
      "\tcistopic_objects/BRO_mtscatac_2.FULL__cto.scrublet0-4.fmx.singlets.pkl exists! Skipping...\n",
      "CNA_10xmultiome_1.FULL\n",
      "\tcistopic_objects/CNA_10xmultiome_1.FULL__cto.scrublet0-4.fmx.singlets.pkl exists! Skipping...\n",
      "CNA_10xmultiome_2.FULL\n",
      "\tcistopic_objects/CNA_10xmultiome_2.FULL__cto.scrublet0-4.fmx.singlets.pkl exists! Skipping...\n",
      "CNA_10xv11_1.FULL\n",
      "\tcistopic_objects/CNA_10xv11_1.FULL__cto.scrublet0-4.fmx.singlets.pkl exists! Skipping...\n",
      "CNA_10xv11_2.FULL\n",
      "\tcistopic_objects/CNA_10xv11_2.FULL__cto.scrublet0-4.fmx.singlets.pkl exists! Skipping...\n",
      "CNA_10xv11_3.FULL\n",
      "\tcistopic_objects/CNA_10xv11_3.FULL__cto.scrublet0-4.fmx.singlets.pkl exists! Skipping...\n",
      "CNA_10xv11_4.FULL\n",
      "\tcistopic_objects/CNA_10xv11_4.FULL__cto.scrublet0-4.fmx.singlets.pkl exists! Skipping...\n",
      "CNA_10xv11_5.FULL\n",
      "\tcistopic_objects/CNA_10xv11_5.FULL__cto.scrublet0-4.fmx.singlets.pkl exists! Skipping...\n",
      "CNA_10xv2_1.FULL\n",
      "\tcistopic_objects/CNA_10xv2_1.FULL__cto.scrublet0-4.fmx.singlets.pkl exists! Skipping...\n",
      "CNA_10xv2_2.FULL\n",
      "\tcistopic_objects/CNA_10xv2_2.FULL__cto.scrublet0-4.fmx.singlets.pkl exists! Skipping...\n",
      "CNA_hydrop_1.FULL\n",
      "\tcistopic_objects/CNA_hydrop_1.FULL__cto.scrublet0-4.fmx.singlets.pkl exists! Skipping...\n",
      "CNA_hydrop_2.FULL\n",
      "\tcistopic_objects/CNA_hydrop_2.FULL__cto.scrublet0-4.fmx.singlets.pkl exists! Skipping...\n",
      "CNA_hydrop_3.FULL\n",
      "\tcistopic_objects/CNA_hydrop_3.FULL__cto.scrublet0-4.fmx.singlets.pkl exists! Skipping...\n",
      "CNA_mtscatac_1.FULL\n",
      "\tcistopic_objects/CNA_mtscatac_1.FULL__cto.scrublet0-4.fmx.singlets.pkl exists! Skipping...\n",
      "CNA_mtscatac_2.FULL\n",
      "\tcistopic_objects/CNA_mtscatac_2.FULL__cto.scrublet0-4.fmx.singlets.pkl exists! Skipping...\n",
      "EPF_hydrop_1.FULL\n",
      "\tcistopic_objects/EPF_hydrop_1.FULL__cto.scrublet0-4.fmx.singlets.pkl exists! Skipping...\n",
      "EPF_hydrop_2.FULL\n",
      "\tcistopic_objects/EPF_hydrop_2.FULL__cto.scrublet0-4.fmx.singlets.pkl exists! Skipping...\n",
      "EPF_hydrop_3.FULL\n",
      "\tcistopic_objects/EPF_hydrop_3.FULL__cto.scrublet0-4.fmx.singlets.pkl exists! Skipping...\n",
      "EPF_hydrop_4.FULL\n",
      "\tcistopic_objects/EPF_hydrop_4.FULL__cto.scrublet0-4.fmx.singlets.pkl exists! Skipping...\n",
      "HAR_ddseq_1.FULL\n",
      "\tcistopic_objects/HAR_ddseq_1.FULL__cto.scrublet0-4.fmx.singlets.pkl exists! Skipping...\n",
      "HAR_ddseq_2.FULL\n",
      "\tcistopic_objects/HAR_ddseq_2.FULL__cto.scrublet0-4.fmx.singlets.pkl exists! Skipping...\n",
      "MDC_mtscatac_1.FULL\n",
      "\tcistopic_objects/MDC_mtscatac_1.FULL__cto.scrublet0-4.fmx.singlets.pkl exists! Skipping...\n",
      "MDC_mtscatac_2.FULL\n",
      "\tcistopic_objects/MDC_mtscatac_2.FULL__cto.scrublet0-4.fmx.singlets.pkl exists! Skipping...\n",
      "OHS_s3atac_1.FULL\n",
      "\tcistopic_objects/OHS_s3atac_1.FULL__cto.scrublet0-4.fmx.singlets.pkl exists! Skipping...\n",
      "OHS_s3atac_2.FULL\n",
      "\tcistopic_objects/OHS_s3atac_2.FULL__cto.scrublet0-4.fmx.singlets.pkl exists! Skipping...\n",
      "SAN_10xmultiome_1.FULL\n",
      "\tcistopic_objects/SAN_10xmultiome_1.FULL__cto.scrublet0-4.fmx.singlets.pkl exists! Skipping...\n",
      "SAN_10xmultiome_2.FULL\n",
      "\tcistopic_objects/SAN_10xmultiome_2.FULL__cto.scrublet0-4.fmx.singlets.pkl exists! Skipping...\n",
      "STA_10xv11_1.FULL\n",
      "\tcistopic_objects/STA_10xv11_1.FULL__cto.scrublet0-4.fmx.singlets.pkl exists! Skipping...\n",
      "STA_10xv11_2.FULL\n",
      "\tcistopic_objects/STA_10xv11_2.FULL__cto.scrublet0-4.fmx.singlets.pkl exists! Skipping...\n",
      "TXG_10xv11_1.FULL\n",
      "\tcistopic_objects/TXG_10xv11_1.FULL__cto.scrublet0-4.fmx.singlets.pkl exists! Skipping...\n",
      "TXG_10xv2_1.FULL\n",
      "\tcistopic_objects/TXG_10xv2_1.FULL__cto.scrublet0-4.fmx.singlets.pkl exists! Skipping...\n",
      "TXG_10xv2_2.FULL\n",
      "\tcistopic_objects/TXG_10xv2_2.FULL__cto.scrublet0-4.fmx.singlets.pkl exists! Skipping...\n",
      "UCS_ddseq_1.FULL\n",
      "\tcistopic_objects/UCS_ddseq_1.FULL__cto.scrublet0-4.fmx.singlets.pkl exists! Skipping...\n",
      "UCS_ddseq_2.FULL\n",
      "\tcistopic_objects/UCS_ddseq_2.FULL__cto.scrublet0-4.fmx.singlets.pkl exists! Skipping...\n",
      "VIB_10xmultiome_1.FULL\n",
      "\tcistopic_objects/VIB_10xmultiome_1.FULL__cto.scrublet0-4.fmx.singlets.pkl exists! Skipping...\n",
      "VIB_10xmultiome_2.FULL\n",
      "\tcistopic_objects/VIB_10xmultiome_2.FULL__cto.scrublet0-4.fmx.singlets.pkl exists! Skipping...\n",
      "VIB_10xv1_1.FULL\n",
      "\tcistopic_objects/VIB_10xv1_1.FULL__cto.scrublet0-4.fmx.singlets.pkl exists! Skipping...\n",
      "VIB_10xv1_2.FULL\n",
      "\tcistopic_objects/VIB_10xv1_2.FULL__cto.scrublet0-4.fmx.singlets.pkl exists! Skipping...\n",
      "VIB_10xv2_1.FULL\n",
      "\tcistopic_objects/VIB_10xv2_1.FULL__cto.scrublet0-4.fmx.singlets.pkl exists! Skipping...\n",
      "VIB_10xv2_2.FULL\n",
      "\tcistopic_objects/VIB_10xv2_2.FULL__cto.scrublet0-4.fmx.singlets.pkl exists! Skipping...\n",
      "VIB_hydrop_1.FULL\n",
      "\tcistopic_objects/VIB_hydrop_1.FULL__cto.scrublet0-4.fmx.singlets.pkl exists! Skipping...\n",
      "VIB_hydrop_11.FULL\n",
      "\tcistopic_objects/VIB_hydrop_11.FULL__cto.scrublet0-4.fmx.singlets.pkl exists! Skipping...\n",
      "VIB_hydrop_12.FULL\n",
      "\tcistopic_objects/VIB_hydrop_12.FULL__cto.scrublet0-4.fmx.singlets.pkl exists! Skipping...\n",
      "VIB_hydrop_2.FULL\n",
      "\tcistopic_objects/VIB_hydrop_2.FULL__cto.scrublet0-4.fmx.singlets.pkl exists! Skipping...\n",
      "VIB_hydrop_21.FULL\n",
      "\tcistopic_objects/VIB_hydrop_21.FULL__cto.scrublet0-4.fmx.singlets.pkl exists! Skipping...\n",
      "VIB_hydrop_22.FULL\n",
      "\tcistopic_objects/VIB_hydrop_22.FULL__cto.scrublet0-4.fmx.singlets.pkl exists! Skipping...\n"
     ]
    },
    {
     "data": {
      "application/javascript": [
       "\n",
       "            setTimeout(function() {\n",
       "                var nbb_cell_id = 163;\n",
       "                var nbb_unformatted_code = \"fmx_samples = sorted(list(set([x.split('.')[0] + '.' + x.split('.')[1] for x in fmx.index])))\\nremoved_bcs_dict = {}\\n# for sample in [\\\"CNA_10xv11_1.FULL\\\"]:\\n\\nfor sample in scrubcto_dict.keys():\\n    print(f\\\"{sample}\\\")\\n    cto_path = scrubcto_dict[sample]\\n    newcto_path = cto_path.replace(f'__cto.scrublet{scrub_name_suffix}.pkl',f'__cto.scrublet{scrub_name_suffix}.fmx.singlets.pkl')\\n    if os.path.exists(newcto_path):\\n        print(f\\\"\\\\t{newcto_path} exists! Skipping...\\\")\\n        \\n    else:\\n        with open(cto_path, 'rb') as f:\\n            cto = pickle.load(f)\\n\\n        if sample in fmx_samples:\\n            print(f\\\"\\\\tLoaded {cto_path}, adding fmx data and removing fmx + scr doublets\\\")\\n            cto.add_cell_data(fmx_annot.loc[cto.cell_data.index])\\n\\n            removed_bcs_dict[sample] = {\\n                'dbl_scrublet': cto.cell_data.barcode[cto.cell_data.Predicted_doublets_fragments == True].tolist(),\\n                'dbl_fmx': cto.cell_data.barcode[cto.cell_data.fmx_droplet_type == 'DBL'].tolist(),    \\n            }\\n\\n            # Remove doublets \\n            singlets = cto.cell_data[\\n                (cto.cell_data.Predicted_doublets_fragments == False) & \\n                (cto.cell_data.fmx_droplet_type != 'DBL')\\n            ].index.tolist()\\n            print(f\\\"\\\\t{sample}: Removing {len(cto.cell_names)-len(singlets)} cells\\\")\\n\\n            fmx_doublets = set(cto.cell_data[cto.cell_data['fmx_droplet_type'] == 'DBL'].index)\\n            scr_doublets = set(cto.cell_data[cto.cell_data['Predicted_doublets_fragments'] == True].index)\\n\\n            fmx_doublets_unique = fmx_doublets - scr_doublets\\n            scr_doublets_unique = scr_doublets - fmx_doublets\\n            common_doublets = fmx_doublets.intersection(scr_doublets)\\n\\n            print(f\\\"\\\\t\\\\t{len(fmx_doublets_unique)} unique fmx doublets\\\")\\n            print(f\\\"\\\\t\\\\t{len(scr_doublets_unique)} unique scr doublets\\\")\\n            print(f\\\"\\\\t\\\\t{len(common_doublets)} common doublets\\\")\\n\\n            fmx_doublets_unique_path = cto_path.replace(f'__cto.scrublet{scrub_name_suffix}.pkl',f'__cto.scrublet{scrub_name_suffix}.fmx.fmx_doublets_unique.txt')\\n            with open(fmx_doublets_unique_path, 'w') as f:\\n                for x in fmx_doublets_unique:\\n                    f.write(f\\\"{x}\\\\n\\\")\\n\\n            scr_doublets_unique_path = cto_path.replace(f'__cto.scrublet{scrub_name_suffix}.pkl',f'__cto.scrublet{scrub_name_suffix}.fmx.scr_doublets_unique.txt')\\n            with open(scr_doublets_unique_path, 'w') as f:\\n                for x in scr_doublets_unique:\\n                    f.write(f\\\"{x}\\\\n\\\")\\n\\n            common_doublets_path = cto_path.replace(f'__cto.scrublet{scrub_name_suffix}.pkl',f'__cto.scrublet{scrub_name_suffix}.fmx.common_doublets.txt')\\n            with open(common_doublets_path, 'w') as f:\\n                for x in common_doublets:\\n                    f.write(f\\\"{x}\\\\n\\\")\\n\\n\\n        else:\\n            print(f\\\"\\\\tLoaded {cto_path}, removing scr doublets\\\")\\n            removed_bcs_dict[sample] = {\\n                'dbl_scrublet': cto.cell_data.barcode[cto.cell_data.Predicted_doublets_fragments == True].tolist()\\n            }\\n\\n            # Remove doublets \\n            singlets = cto.cell_data[\\n                (cto.cell_data.Predicted_doublets_fragments == False)\\n            ].index.tolist()\\n            print(f\\\"\\\\t{sample}: Removing {len(cto.cell_names)-len(singlets)} cells\\\")\\n\\n            scr_doublets = set(cto.cell_data[cto.cell_data['Predicted_doublets_fragments'] == True].index)\\n            print(f\\\"\\\\t\\\\t{len(scr_doublets)} scr doublets\\\")\\n\\n            \\n            scr_doublets_unique_path = cto_path.replace(f'__cto.scrublet{scrub_name_suffix}.pkl',f'__cto.scrublet{scrub_name_suffix}.fmx.scr_doublets_unique.txt')\\n            with open(scr_doublets_unique_path, 'w') as f:\\n                for x in scr_doublets:\\n                    f.write(f\\\"{x}\\\\n\\\")\\n                    \\n                    \\n        # Subset cisTopic object\\n        cto.subset(singlets)\\n\\n        # save\\n        with open(newcto_path, \\\"wb\\\") as f:\\n            pickle.dump(cto, f, protocol=4)\\n\\n        removed_bcs_path = cto_path.replace(f'__cto.scrublet{scrub_name_suffix}.pkl',f'__cto.scrublet{scrub_name_suffix}.fmx.singlets.removed_bcs.pkl')\\n        with open(removed_bcs_path, \\\"wb\\\") as f:\\n            pickle.dump(removed_bcs_dict[sample], f, protocol=4)\\n\\n        cell_data_path = cto_path.replace(f'__cto.scrublet{scrub_name_suffix}.pkl',f'__cto.scrublet{scrub_name_suffix}.fmx.singlets.cell_data.tsv')\\n        cto.cell_data.to_csv(cell_data_path)\\n\\n        print(f\\\"\\\\tWrote {newcto_path}, doublet lists and {cell_data_path}\\\\n\\\")\";\n",
       "                var nbb_formatted_code = \"fmx_samples = sorted(\\n    list(set([x.split(\\\".\\\")[0] + \\\".\\\" + x.split(\\\".\\\")[1] for x in fmx.index]))\\n)\\nremoved_bcs_dict = {}\\n# for sample in [\\\"CNA_10xv11_1.FULL\\\"]:\\n\\nfor sample in scrubcto_dict.keys():\\n    print(f\\\"{sample}\\\")\\n    cto_path = scrubcto_dict[sample]\\n    newcto_path = cto_path.replace(\\n        f\\\"__cto.scrublet{scrub_name_suffix}.pkl\\\",\\n        f\\\"__cto.scrublet{scrub_name_suffix}.fmx.singlets.pkl\\\",\\n    )\\n    if os.path.exists(newcto_path):\\n        print(f\\\"\\\\t{newcto_path} exists! Skipping...\\\")\\n\\n    else:\\n        with open(cto_path, \\\"rb\\\") as f:\\n            cto = pickle.load(f)\\n\\n        if sample in fmx_samples:\\n            print(\\n                f\\\"\\\\tLoaded {cto_path}, adding fmx data and removing fmx + scr doublets\\\"\\n            )\\n            cto.add_cell_data(fmx_annot.loc[cto.cell_data.index])\\n\\n            removed_bcs_dict[sample] = {\\n                \\\"dbl_scrublet\\\": cto.cell_data.barcode[\\n                    cto.cell_data.Predicted_doublets_fragments == True\\n                ].tolist(),\\n                \\\"dbl_fmx\\\": cto.cell_data.barcode[\\n                    cto.cell_data.fmx_droplet_type == \\\"DBL\\\"\\n                ].tolist(),\\n            }\\n\\n            # Remove doublets\\n            singlets = cto.cell_data[\\n                (cto.cell_data.Predicted_doublets_fragments == False)\\n                & (cto.cell_data.fmx_droplet_type != \\\"DBL\\\")\\n            ].index.tolist()\\n            print(f\\\"\\\\t{sample}: Removing {len(cto.cell_names)-len(singlets)} cells\\\")\\n\\n            fmx_doublets = set(\\n                cto.cell_data[cto.cell_data[\\\"fmx_droplet_type\\\"] == \\\"DBL\\\"].index\\n            )\\n            scr_doublets = set(\\n                cto.cell_data[\\n                    cto.cell_data[\\\"Predicted_doublets_fragments\\\"] == True\\n                ].index\\n            )\\n\\n            fmx_doublets_unique = fmx_doublets - scr_doublets\\n            scr_doublets_unique = scr_doublets - fmx_doublets\\n            common_doublets = fmx_doublets.intersection(scr_doublets)\\n\\n            print(f\\\"\\\\t\\\\t{len(fmx_doublets_unique)} unique fmx doublets\\\")\\n            print(f\\\"\\\\t\\\\t{len(scr_doublets_unique)} unique scr doublets\\\")\\n            print(f\\\"\\\\t\\\\t{len(common_doublets)} common doublets\\\")\\n\\n            fmx_doublets_unique_path = cto_path.replace(\\n                f\\\"__cto.scrublet{scrub_name_suffix}.pkl\\\",\\n                f\\\"__cto.scrublet{scrub_name_suffix}.fmx.fmx_doublets_unique.txt\\\",\\n            )\\n            with open(fmx_doublets_unique_path, \\\"w\\\") as f:\\n                for x in fmx_doublets_unique:\\n                    f.write(f\\\"{x}\\\\n\\\")\\n\\n            scr_doublets_unique_path = cto_path.replace(\\n                f\\\"__cto.scrublet{scrub_name_suffix}.pkl\\\",\\n                f\\\"__cto.scrublet{scrub_name_suffix}.fmx.scr_doublets_unique.txt\\\",\\n            )\\n            with open(scr_doublets_unique_path, \\\"w\\\") as f:\\n                for x in scr_doublets_unique:\\n                    f.write(f\\\"{x}\\\\n\\\")\\n\\n            common_doublets_path = cto_path.replace(\\n                f\\\"__cto.scrublet{scrub_name_suffix}.pkl\\\",\\n                f\\\"__cto.scrublet{scrub_name_suffix}.fmx.common_doublets.txt\\\",\\n            )\\n            with open(common_doublets_path, \\\"w\\\") as f:\\n                for x in common_doublets:\\n                    f.write(f\\\"{x}\\\\n\\\")\\n\\n        else:\\n            print(f\\\"\\\\tLoaded {cto_path}, removing scr doublets\\\")\\n            removed_bcs_dict[sample] = {\\n                \\\"dbl_scrublet\\\": cto.cell_data.barcode[\\n                    cto.cell_data.Predicted_doublets_fragments == True\\n                ].tolist()\\n            }\\n\\n            # Remove doublets\\n            singlets = cto.cell_data[\\n                (cto.cell_data.Predicted_doublets_fragments == False)\\n            ].index.tolist()\\n            print(f\\\"\\\\t{sample}: Removing {len(cto.cell_names)-len(singlets)} cells\\\")\\n\\n            scr_doublets = set(\\n                cto.cell_data[\\n                    cto.cell_data[\\\"Predicted_doublets_fragments\\\"] == True\\n                ].index\\n            )\\n            print(f\\\"\\\\t\\\\t{len(scr_doublets)} scr doublets\\\")\\n\\n            scr_doublets_unique_path = cto_path.replace(\\n                f\\\"__cto.scrublet{scrub_name_suffix}.pkl\\\",\\n                f\\\"__cto.scrublet{scrub_name_suffix}.fmx.scr_doublets_unique.txt\\\",\\n            )\\n            with open(scr_doublets_unique_path, \\\"w\\\") as f:\\n                for x in scr_doublets:\\n                    f.write(f\\\"{x}\\\\n\\\")\\n\\n        # Subset cisTopic object\\n        cto.subset(singlets)\\n\\n        # save\\n        with open(newcto_path, \\\"wb\\\") as f:\\n            pickle.dump(cto, f, protocol=4)\\n\\n        removed_bcs_path = cto_path.replace(\\n            f\\\"__cto.scrublet{scrub_name_suffix}.pkl\\\",\\n            f\\\"__cto.scrublet{scrub_name_suffix}.fmx.singlets.removed_bcs.pkl\\\",\\n        )\\n        with open(removed_bcs_path, \\\"wb\\\") as f:\\n            pickle.dump(removed_bcs_dict[sample], f, protocol=4)\\n\\n        cell_data_path = cto_path.replace(\\n            f\\\"__cto.scrublet{scrub_name_suffix}.pkl\\\",\\n            f\\\"__cto.scrublet{scrub_name_suffix}.fmx.singlets.cell_data.tsv\\\",\\n        )\\n        cto.cell_data.to_csv(cell_data_path)\\n\\n        print(f\\\"\\\\tWrote {newcto_path}, doublet lists and {cell_data_path}\\\\n\\\")\";\n",
       "                var nbb_cells = Jupyter.notebook.get_cells();\n",
       "                for (var i = 0; i < nbb_cells.length; ++i) {\n",
       "                    if (nbb_cells[i].input_prompt_number == nbb_cell_id) {\n",
       "                        if (nbb_cells[i].get_text() == nbb_unformatted_code) {\n",
       "                             nbb_cells[i].set_text(nbb_formatted_code);\n",
       "                        }\n",
       "                        break;\n",
       "                    }\n",
       "                }\n",
       "            }, 500);\n",
       "            "
      ],
      "text/plain": [
       "<IPython.core.display.Javascript object>"
      ]
     },
     "metadata": {},
     "output_type": "display_data"
    }
   ],
   "source": [
    "fmx_samples = sorted(list(set([x.split('.')[0] + '.' + x.split('.')[1] for x in fmx.index])))\n",
    "removed_bcs_dict = {}\n",
    "# for sample in [\"CNA_10xv11_1.FULL\"]:\n",
    "\n",
    "for sample in scrubcto_dict.keys():\n",
    "    print(f\"{sample}\")\n",
    "    cto_path = scrubcto_dict[sample]\n",
    "    newcto_path = cto_path.replace(f'__cto.scrublet{scrub_name_suffix}.pkl',f'__cto.scrublet{scrub_name_suffix}.fmx.singlets.pkl')\n",
    "    if os.path.exists(newcto_path):\n",
    "        print(f\"\\t{newcto_path} exists! Skipping...\")\n",
    "        \n",
    "    else:\n",
    "        with open(cto_path, 'rb') as f:\n",
    "            cto = pickle.load(f)\n",
    "\n",
    "        if sample in fmx_samples:\n",
    "            print(f\"\\tLoaded {cto_path}, adding fmx data and removing fmx + scr doublets\")\n",
    "            cto.add_cell_data(fmx_annot.loc[cto.cell_data.index])\n",
    "\n",
    "            removed_bcs_dict[sample] = {\n",
    "                'dbl_scrublet': cto.cell_data.barcode[cto.cell_data.Predicted_doublets_fragments == True].tolist(),\n",
    "                'dbl_fmx': cto.cell_data.barcode[cto.cell_data.fmx_droplet_type == 'DBL'].tolist(),    \n",
    "            }\n",
    "\n",
    "            # Remove doublets \n",
    "            singlets = cto.cell_data[\n",
    "                (cto.cell_data.Predicted_doublets_fragments == False) & \n",
    "                (cto.cell_data.fmx_droplet_type != 'DBL')\n",
    "            ].index.tolist()\n",
    "            print(f\"\\t{sample}: Removing {len(cto.cell_names)-len(singlets)} cells\")\n",
    "\n",
    "            fmx_doublets = set(cto.cell_data[cto.cell_data['fmx_droplet_type'] == 'DBL'].index)\n",
    "            scr_doublets = set(cto.cell_data[cto.cell_data['Predicted_doublets_fragments'] == True].index)\n",
    "\n",
    "            fmx_doublets_unique = fmx_doublets - scr_doublets\n",
    "            scr_doublets_unique = scr_doublets - fmx_doublets\n",
    "            common_doublets = fmx_doublets.intersection(scr_doublets)\n",
    "\n",
    "            print(f\"\\t\\t{len(fmx_doublets_unique)} unique fmx doublets\")\n",
    "            print(f\"\\t\\t{len(scr_doublets_unique)} unique scr doublets\")\n",
    "            print(f\"\\t\\t{len(common_doublets)} common doublets\")\n",
    "\n",
    "            fmx_doublets_unique_path = cto_path.replace(f'__cto.scrublet{scrub_name_suffix}.pkl',f'__cto.scrublet{scrub_name_suffix}.fmx.fmx_doublets_unique.txt')\n",
    "            with open(fmx_doublets_unique_path, 'w') as f:\n",
    "                for x in fmx_doublets_unique:\n",
    "                    f.write(f\"{x}\\n\")\n",
    "\n",
    "            scr_doublets_unique_path = cto_path.replace(f'__cto.scrublet{scrub_name_suffix}.pkl',f'__cto.scrublet{scrub_name_suffix}.fmx.scr_doublets_unique.txt')\n",
    "            with open(scr_doublets_unique_path, 'w') as f:\n",
    "                for x in scr_doublets_unique:\n",
    "                    f.write(f\"{x}\\n\")\n",
    "\n",
    "            common_doublets_path = cto_path.replace(f'__cto.scrublet{scrub_name_suffix}.pkl',f'__cto.scrublet{scrub_name_suffix}.fmx.common_doublets.txt')\n",
    "            with open(common_doublets_path, 'w') as f:\n",
    "                for x in common_doublets:\n",
    "                    f.write(f\"{x}\\n\")\n",
    "\n",
    "\n",
    "        else:\n",
    "            print(f\"\\tLoaded {cto_path}, removing scr doublets\")\n",
    "            removed_bcs_dict[sample] = {\n",
    "                'dbl_scrublet': cto.cell_data.barcode[cto.cell_data.Predicted_doublets_fragments == True].tolist()\n",
    "            }\n",
    "\n",
    "            # Remove doublets \n",
    "            singlets = cto.cell_data[\n",
    "                (cto.cell_data.Predicted_doublets_fragments == False)\n",
    "            ].index.tolist()\n",
    "            print(f\"\\t{sample}: Removing {len(cto.cell_names)-len(singlets)} cells\")\n",
    "\n",
    "            scr_doublets = set(cto.cell_data[cto.cell_data['Predicted_doublets_fragments'] == True].index)\n",
    "            print(f\"\\t\\t{len(scr_doublets)} scr doublets\")\n",
    "\n",
    "            \n",
    "            scr_doublets_unique_path = cto_path.replace(f'__cto.scrublet{scrub_name_suffix}.pkl',f'__cto.scrublet{scrub_name_suffix}.fmx.scr_doublets_unique.txt')\n",
    "            with open(scr_doublets_unique_path, 'w') as f:\n",
    "                for x in scr_doublets:\n",
    "                    f.write(f\"{x}\\n\")\n",
    "                    \n",
    "                    \n",
    "        # Subset cisTopic object\n",
    "        cto.subset(singlets)\n",
    "\n",
    "        # save\n",
    "        with open(newcto_path, \"wb\") as f:\n",
    "            pickle.dump(cto, f, protocol=4)\n",
    "\n",
    "        removed_bcs_path = cto_path.replace(f'__cto.scrublet{scrub_name_suffix}.pkl',f'__cto.scrublet{scrub_name_suffix}.fmx.singlets.removed_bcs.pkl')\n",
    "        with open(removed_bcs_path, \"wb\") as f:\n",
    "            pickle.dump(removed_bcs_dict[sample], f, protocol=4)\n",
    "\n",
    "        cell_data_path = cto_path.replace(f'__cto.scrublet{scrub_name_suffix}.pkl',f'__cto.scrublet{scrub_name_suffix}.fmx.singlets.cell_data.tsv')\n",
    "        cto.cell_data.to_csv(cell_data_path)\n",
    "\n",
    "        print(f\"\\tWrote {newcto_path}, doublet lists and {cell_data_path}\\n\")"
   ]
  },
  {
   "cell_type": "markdown",
   "id": "ba9533ad",
   "metadata": {
    "papermill": {
     "duration": null,
     "end_time": null,
     "exception": null,
     "start_time": null,
     "status": "completed"
    },
    "tags": []
   },
   "source": [
    "# Write looms from these ctos"
   ]
  },
  {
   "cell_type": "code",
   "execution_count": 164,
   "id": "844e2636",
   "metadata": {
    "execution": {
     "iopub.execute_input": "2022-09-26T16:07:36.902453Z",
     "iopub.status.busy": "2022-09-26T16:07:36.902242Z",
     "iopub.status.idle": "2022-09-26T16:07:36.907701Z",
     "shell.execute_reply": "2022-09-26T16:07:36.906934Z",
     "shell.execute_reply.started": "2022-09-26T16:07:36.902434Z"
    },
    "papermill": {
     "duration": null,
     "end_time": null,
     "exception": null,
     "start_time": null,
     "status": "completed"
    },
    "tags": []
   },
   "outputs": [
    {
     "data": {
      "application/javascript": [
       "\n",
       "            setTimeout(function() {\n",
       "                var nbb_cell_id = 164;\n",
       "                var nbb_unformatted_code = \"import loompy as lp\";\n",
       "                var nbb_formatted_code = \"import loompy as lp\";\n",
       "                var nbb_cells = Jupyter.notebook.get_cells();\n",
       "                for (var i = 0; i < nbb_cells.length; ++i) {\n",
       "                    if (nbb_cells[i].input_prompt_number == nbb_cell_id) {\n",
       "                        if (nbb_cells[i].get_text() == nbb_unformatted_code) {\n",
       "                             nbb_cells[i].set_text(nbb_formatted_code);\n",
       "                        }\n",
       "                        break;\n",
       "                    }\n",
       "                }\n",
       "            }, 500);\n",
       "            "
      ],
      "text/plain": [
       "<IPython.core.display.Javascript object>"
      ]
     },
     "metadata": {},
     "output_type": "display_data"
    }
   ],
   "source": [
    "import loompy as lp"
   ]
  },
  {
   "cell_type": "code",
   "execution_count": 170,
   "id": "2dcf424f",
   "metadata": {
    "execution": {
     "iopub.execute_input": "2022-09-26T16:08:11.712789Z",
     "iopub.status.busy": "2022-09-26T16:08:11.712057Z",
     "iopub.status.idle": "2022-09-26T16:08:11.730970Z",
     "shell.execute_reply": "2022-09-26T16:08:11.730521Z",
     "shell.execute_reply.started": "2022-09-26T16:08:11.712727Z"
    },
    "papermill": {
     "duration": null,
     "end_time": null,
     "exception": null,
     "start_time": null,
     "status": "completed"
    },
    "tags": []
   },
   "outputs": [
    {
     "data": {
      "text/plain": [
       "{'BIO_ddseq_1.FULL': 'cistopic_objects/BIO_ddseq_1.FULL__cto.scrublet0-4.fmx.singlets.pkl',\n",
       " 'BIO_ddseq_2.FULL': 'cistopic_objects/BIO_ddseq_2.FULL__cto.scrublet0-4.fmx.singlets.pkl',\n",
       " 'BIO_ddseq_3.FULL': 'cistopic_objects/BIO_ddseq_3.FULL__cto.scrublet0-4.fmx.singlets.pkl',\n",
       " 'BIO_ddseq_4.FULL': 'cistopic_objects/BIO_ddseq_4.FULL__cto.scrublet0-4.fmx.singlets.pkl',\n",
       " 'BRO_mtscatac_1.FULL': 'cistopic_objects/BRO_mtscatac_1.FULL__cto.scrublet0-4.fmx.singlets.pkl',\n",
       " 'BRO_mtscatac_2.FULL': 'cistopic_objects/BRO_mtscatac_2.FULL__cto.scrublet0-4.fmx.singlets.pkl',\n",
       " 'CNA_10xmultiome_1.FULL': 'cistopic_objects/CNA_10xmultiome_1.FULL__cto.scrublet0-4.fmx.singlets.pkl',\n",
       " 'CNA_10xmultiome_2.FULL': 'cistopic_objects/CNA_10xmultiome_2.FULL__cto.scrublet0-4.fmx.singlets.pkl',\n",
       " 'CNA_10xv11_1.FULL': 'cistopic_objects/CNA_10xv11_1.FULL__cto.scrublet0-4.fmx.singlets.pkl',\n",
       " 'CNA_10xv11_2.FULL': 'cistopic_objects/CNA_10xv11_2.FULL__cto.scrublet0-4.fmx.singlets.pkl',\n",
       " 'CNA_10xv11_3.FULL': 'cistopic_objects/CNA_10xv11_3.FULL__cto.scrublet0-4.fmx.singlets.pkl',\n",
       " 'CNA_10xv11_4.FULL': 'cistopic_objects/CNA_10xv11_4.FULL__cto.scrublet0-4.fmx.singlets.pkl',\n",
       " 'CNA_10xv11_5.FULL': 'cistopic_objects/CNA_10xv11_5.FULL__cto.scrublet0-4.fmx.singlets.pkl',\n",
       " 'CNA_10xv2_1.FULL': 'cistopic_objects/CNA_10xv2_1.FULL__cto.scrublet0-4.fmx.singlets.pkl',\n",
       " 'CNA_10xv2_2.FULL': 'cistopic_objects/CNA_10xv2_2.FULL__cto.scrublet0-4.fmx.singlets.pkl',\n",
       " 'CNA_hydrop_1.FULL': 'cistopic_objects/CNA_hydrop_1.FULL__cto.scrublet0-4.fmx.singlets.pkl',\n",
       " 'CNA_hydrop_2.FULL': 'cistopic_objects/CNA_hydrop_2.FULL__cto.scrublet0-4.fmx.singlets.pkl',\n",
       " 'CNA_hydrop_3.FULL': 'cistopic_objects/CNA_hydrop_3.FULL__cto.scrublet0-4.fmx.singlets.pkl',\n",
       " 'CNA_mtscatac_1.FULL': 'cistopic_objects/CNA_mtscatac_1.FULL__cto.scrublet0-4.fmx.singlets.pkl',\n",
       " 'CNA_mtscatac_2.FULL': 'cistopic_objects/CNA_mtscatac_2.FULL__cto.scrublet0-4.fmx.singlets.pkl',\n",
       " 'EPF_hydrop_1.FULL': 'cistopic_objects/EPF_hydrop_1.FULL__cto.scrublet0-4.fmx.singlets.pkl',\n",
       " 'EPF_hydrop_2.FULL': 'cistopic_objects/EPF_hydrop_2.FULL__cto.scrublet0-4.fmx.singlets.pkl',\n",
       " 'EPF_hydrop_3.FULL': 'cistopic_objects/EPF_hydrop_3.FULL__cto.scrublet0-4.fmx.singlets.pkl',\n",
       " 'EPF_hydrop_4.FULL': 'cistopic_objects/EPF_hydrop_4.FULL__cto.scrublet0-4.fmx.singlets.pkl',\n",
       " 'HAR_ddseq_1.FULL': 'cistopic_objects/HAR_ddseq_1.FULL__cto.scrublet0-4.fmx.singlets.pkl',\n",
       " 'HAR_ddseq_2.FULL': 'cistopic_objects/HAR_ddseq_2.FULL__cto.scrublet0-4.fmx.singlets.pkl',\n",
       " 'MDC_mtscatac_1.FULL': 'cistopic_objects/MDC_mtscatac_1.FULL__cto.scrublet0-4.fmx.singlets.pkl',\n",
       " 'MDC_mtscatac_2.FULL': 'cistopic_objects/MDC_mtscatac_2.FULL__cto.scrublet0-4.fmx.singlets.pkl',\n",
       " 'OHS_s3atac_1.FULL': 'cistopic_objects/OHS_s3atac_1.FULL__cto.scrublet0-4.fmx.singlets.pkl',\n",
       " 'OHS_s3atac_2.FULL': 'cistopic_objects/OHS_s3atac_2.FULL__cto.scrublet0-4.fmx.singlets.pkl',\n",
       " 'SAN_10xmultiome_1.FULL': 'cistopic_objects/SAN_10xmultiome_1.FULL__cto.scrublet0-4.fmx.singlets.pkl',\n",
       " 'SAN_10xmultiome_2.FULL': 'cistopic_objects/SAN_10xmultiome_2.FULL__cto.scrublet0-4.fmx.singlets.pkl',\n",
       " 'STA_10xv11_1.FULL': 'cistopic_objects/STA_10xv11_1.FULL__cto.scrublet0-4.fmx.singlets.pkl',\n",
       " 'STA_10xv11_2.FULL': 'cistopic_objects/STA_10xv11_2.FULL__cto.scrublet0-4.fmx.singlets.pkl',\n",
       " 'TXG_10xv11_1.FULL': 'cistopic_objects/TXG_10xv11_1.FULL__cto.scrublet0-4.fmx.singlets.pkl',\n",
       " 'TXG_10xv2_1.FULL': 'cistopic_objects/TXG_10xv2_1.FULL__cto.scrublet0-4.fmx.singlets.pkl',\n",
       " 'TXG_10xv2_2.FULL': 'cistopic_objects/TXG_10xv2_2.FULL__cto.scrublet0-4.fmx.singlets.pkl',\n",
       " 'UCS_ddseq_1.FULL': 'cistopic_objects/UCS_ddseq_1.FULL__cto.scrublet0-4.fmx.singlets.pkl',\n",
       " 'UCS_ddseq_2.FULL': 'cistopic_objects/UCS_ddseq_2.FULL__cto.scrublet0-4.fmx.singlets.pkl',\n",
       " 'VIB_10xmultiome_1.FULL': 'cistopic_objects/VIB_10xmultiome_1.FULL__cto.scrublet0-4.fmx.singlets.pkl',\n",
       " 'VIB_10xmultiome_2.FULL': 'cistopic_objects/VIB_10xmultiome_2.FULL__cto.scrublet0-4.fmx.singlets.pkl',\n",
       " 'VIB_10xv1_1.FULL': 'cistopic_objects/VIB_10xv1_1.FULL__cto.scrublet0-4.fmx.singlets.pkl',\n",
       " 'VIB_10xv1_2.FULL': 'cistopic_objects/VIB_10xv1_2.FULL__cto.scrublet0-4.fmx.singlets.pkl',\n",
       " 'VIB_10xv2_1.FULL': 'cistopic_objects/VIB_10xv2_1.FULL__cto.scrublet0-4.fmx.singlets.pkl',\n",
       " 'VIB_10xv2_2.FULL': 'cistopic_objects/VIB_10xv2_2.FULL__cto.scrublet0-4.fmx.singlets.pkl',\n",
       " 'VIB_hydrop_1.FULL': 'cistopic_objects/VIB_hydrop_1.FULL__cto.scrublet0-4.fmx.singlets.pkl',\n",
       " 'VIB_hydrop_11.FULL': 'cistopic_objects/VIB_hydrop_11.FULL__cto.scrublet0-4.fmx.singlets.pkl',\n",
       " 'VIB_hydrop_12.FULL': 'cistopic_objects/VIB_hydrop_12.FULL__cto.scrublet0-4.fmx.singlets.pkl',\n",
       " 'VIB_hydrop_2.FULL': 'cistopic_objects/VIB_hydrop_2.FULL__cto.scrublet0-4.fmx.singlets.pkl',\n",
       " 'VIB_hydrop_21.FULL': 'cistopic_objects/VIB_hydrop_21.FULL__cto.scrublet0-4.fmx.singlets.pkl',\n",
       " 'VIB_hydrop_22.FULL': 'cistopic_objects/VIB_hydrop_22.FULL__cto.scrublet0-4.fmx.singlets.pkl'}"
      ]
     },
     "execution_count": 170,
     "metadata": {},
     "output_type": "execute_result"
    },
    {
     "data": {
      "application/javascript": [
       "\n",
       "            setTimeout(function() {\n",
       "                var nbb_cell_id = 170;\n",
       "                var nbb_unformatted_code = \"scrub_name_suffix = \\\"0-4\\\"\\nscrubcto_dict = {x.split('/')[-1].split(f'__')[0]:x for x in sorted(glob.glob(f'cistopic_objects/*singlets.pkl'))}\\nscrubcto_dict\";\n",
       "                var nbb_formatted_code = \"scrub_name_suffix = \\\"0-4\\\"\\nscrubcto_dict = {\\n    x.split(\\\"/\\\")[-1].split(f\\\"__\\\")[0]: x\\n    for x in sorted(glob.glob(f\\\"cistopic_objects/*singlets.pkl\\\"))\\n}\\nscrubcto_dict\";\n",
       "                var nbb_cells = Jupyter.notebook.get_cells();\n",
       "                for (var i = 0; i < nbb_cells.length; ++i) {\n",
       "                    if (nbb_cells[i].input_prompt_number == nbb_cell_id) {\n",
       "                        if (nbb_cells[i].get_text() == nbb_unformatted_code) {\n",
       "                             nbb_cells[i].set_text(nbb_formatted_code);\n",
       "                        }\n",
       "                        break;\n",
       "                    }\n",
       "                }\n",
       "            }, 500);\n",
       "            "
      ],
      "text/plain": [
       "<IPython.core.display.Javascript object>"
      ]
     },
     "metadata": {},
     "output_type": "display_data"
    }
   ],
   "source": [
    "scrub_name_suffix = \"0-4\"\n",
    "scrubcto_dict = {x.split('/')[-1].split(f'__')[0]:x for x in sorted(glob.glob(f'cistopic_objects/*singlets.pkl'))}\n",
    "scrubcto_dict"
   ]
  },
  {
   "cell_type": "code",
   "execution_count": 171,
   "id": "b30480d8",
   "metadata": {
    "execution": {
     "iopub.execute_input": "2022-09-26T16:08:14.096971Z",
     "iopub.status.busy": "2022-09-26T16:08:14.096252Z",
     "iopub.status.idle": "2022-09-26T16:08:14.106104Z",
     "shell.execute_reply": "2022-09-26T16:08:14.105416Z",
     "shell.execute_reply.started": "2022-09-26T16:08:14.096910Z"
    },
    "papermill": {
     "duration": null,
     "end_time": null,
     "exception": null,
     "start_time": null,
     "status": "completed"
    },
    "tags": []
   },
   "outputs": [
    {
     "data": {
      "application/javascript": [
       "\n",
       "            setTimeout(function() {\n",
       "                var nbb_cell_id = 171;\n",
       "                var nbb_unformatted_code = \"loom_out = 'cell_region_looms'\\nif not os.path.exists(os.path.join(wdir, loom_out)):\\n    os.makedirs(os.path.join(wdir, loom_out))\";\n",
       "                var nbb_formatted_code = \"loom_out = \\\"cell_region_looms\\\"\\nif not os.path.exists(os.path.join(wdir, loom_out)):\\n    os.makedirs(os.path.join(wdir, loom_out))\";\n",
       "                var nbb_cells = Jupyter.notebook.get_cells();\n",
       "                for (var i = 0; i < nbb_cells.length; ++i) {\n",
       "                    if (nbb_cells[i].input_prompt_number == nbb_cell_id) {\n",
       "                        if (nbb_cells[i].get_text() == nbb_unformatted_code) {\n",
       "                             nbb_cells[i].set_text(nbb_formatted_code);\n",
       "                        }\n",
       "                        break;\n",
       "                    }\n",
       "                }\n",
       "            }, 500);\n",
       "            "
      ],
      "text/plain": [
       "<IPython.core.display.Javascript object>"
      ]
     },
     "metadata": {},
     "output_type": "display_data"
    }
   ],
   "source": [
    "loom_out = 'cell_region_looms'\n",
    "if not os.path.exists(os.path.join(wdir, loom_out)):\n",
    "    os.makedirs(os.path.join(wdir, loom_out))"
   ]
  },
  {
   "cell_type": "code",
   "execution_count": 172,
   "id": "52534efa",
   "metadata": {
    "execution": {
     "iopub.execute_input": "2022-09-26T16:08:14.308982Z",
     "iopub.status.busy": "2022-09-26T16:08:14.308318Z",
     "iopub.status.idle": "2022-09-26T16:08:14.325965Z",
     "shell.execute_reply": "2022-09-26T16:08:14.325448Z",
     "shell.execute_reply.started": "2022-09-26T16:08:14.308926Z"
    },
    "papermill": {
     "duration": null,
     "end_time": null,
     "exception": null,
     "start_time": null,
     "status": "completed"
    },
    "tags": []
   },
   "outputs": [
    {
     "name": "stdout",
     "output_type": "stream",
     "text": [
      "Checking if cell_region_looms/BIO_ddseq_1.FULL__cto.scrublet0-4.fmx.singlets.loom exist...\n",
      "\tcell_region_looms/BIO_ddseq_1.FULL__cto.scrublet0-4.fmx.singlets.loom exists! Skipping...\n",
      "Checking if cell_region_looms/BIO_ddseq_2.FULL__cto.scrublet0-4.fmx.singlets.loom exist...\n",
      "\tcell_region_looms/BIO_ddseq_2.FULL__cto.scrublet0-4.fmx.singlets.loom exists! Skipping...\n",
      "Checking if cell_region_looms/BIO_ddseq_3.FULL__cto.scrublet0-4.fmx.singlets.loom exist...\n",
      "\tcell_region_looms/BIO_ddseq_3.FULL__cto.scrublet0-4.fmx.singlets.loom exists! Skipping...\n",
      "Checking if cell_region_looms/BIO_ddseq_4.FULL__cto.scrublet0-4.fmx.singlets.loom exist...\n",
      "\tcell_region_looms/BIO_ddseq_4.FULL__cto.scrublet0-4.fmx.singlets.loom exists! Skipping...\n",
      "Checking if cell_region_looms/BRO_mtscatac_1.FULL__cto.scrublet0-4.fmx.singlets.loom exist...\n",
      "\tcell_region_looms/BRO_mtscatac_1.FULL__cto.scrublet0-4.fmx.singlets.loom exists! Skipping...\n",
      "Checking if cell_region_looms/BRO_mtscatac_2.FULL__cto.scrublet0-4.fmx.singlets.loom exist...\n",
      "\tcell_region_looms/BRO_mtscatac_2.FULL__cto.scrublet0-4.fmx.singlets.loom exists! Skipping...\n",
      "Checking if cell_region_looms/CNA_10xmultiome_1.FULL__cto.scrublet0-4.fmx.singlets.loom exist...\n",
      "\tcell_region_looms/CNA_10xmultiome_1.FULL__cto.scrublet0-4.fmx.singlets.loom does not exist, adding to subdict to generate\n",
      "Checking if cell_region_looms/CNA_10xmultiome_2.FULL__cto.scrublet0-4.fmx.singlets.loom exist...\n",
      "\tcell_region_looms/CNA_10xmultiome_2.FULL__cto.scrublet0-4.fmx.singlets.loom does not exist, adding to subdict to generate\n",
      "Checking if cell_region_looms/CNA_10xv11_1.FULL__cto.scrublet0-4.fmx.singlets.loom exist...\n",
      "\tcell_region_looms/CNA_10xv11_1.FULL__cto.scrublet0-4.fmx.singlets.loom exists! Skipping...\n",
      "Checking if cell_region_looms/CNA_10xv11_2.FULL__cto.scrublet0-4.fmx.singlets.loom exist...\n",
      "\tcell_region_looms/CNA_10xv11_2.FULL__cto.scrublet0-4.fmx.singlets.loom exists! Skipping...\n",
      "Checking if cell_region_looms/CNA_10xv11_3.FULL__cto.scrublet0-4.fmx.singlets.loom exist...\n",
      "\tcell_region_looms/CNA_10xv11_3.FULL__cto.scrublet0-4.fmx.singlets.loom exists! Skipping...\n",
      "Checking if cell_region_looms/CNA_10xv11_4.FULL__cto.scrublet0-4.fmx.singlets.loom exist...\n",
      "\tcell_region_looms/CNA_10xv11_4.FULL__cto.scrublet0-4.fmx.singlets.loom exists! Skipping...\n",
      "Checking if cell_region_looms/CNA_10xv11_5.FULL__cto.scrublet0-4.fmx.singlets.loom exist...\n",
      "\tcell_region_looms/CNA_10xv11_5.FULL__cto.scrublet0-4.fmx.singlets.loom exists! Skipping...\n",
      "Checking if cell_region_looms/CNA_10xv2_1.FULL__cto.scrublet0-4.fmx.singlets.loom exist...\n",
      "\tcell_region_looms/CNA_10xv2_1.FULL__cto.scrublet0-4.fmx.singlets.loom exists! Skipping...\n",
      "Checking if cell_region_looms/CNA_10xv2_2.FULL__cto.scrublet0-4.fmx.singlets.loom exist...\n",
      "\tcell_region_looms/CNA_10xv2_2.FULL__cto.scrublet0-4.fmx.singlets.loom exists! Skipping...\n",
      "Checking if cell_region_looms/CNA_hydrop_1.FULL__cto.scrublet0-4.fmx.singlets.loom exist...\n",
      "\tcell_region_looms/CNA_hydrop_1.FULL__cto.scrublet0-4.fmx.singlets.loom exists! Skipping...\n",
      "Checking if cell_region_looms/CNA_hydrop_2.FULL__cto.scrublet0-4.fmx.singlets.loom exist...\n",
      "\tcell_region_looms/CNA_hydrop_2.FULL__cto.scrublet0-4.fmx.singlets.loom exists! Skipping...\n",
      "Checking if cell_region_looms/CNA_hydrop_3.FULL__cto.scrublet0-4.fmx.singlets.loom exist...\n",
      "\tcell_region_looms/CNA_hydrop_3.FULL__cto.scrublet0-4.fmx.singlets.loom exists! Skipping...\n",
      "Checking if cell_region_looms/CNA_mtscatac_1.FULL__cto.scrublet0-4.fmx.singlets.loom exist...\n",
      "\tcell_region_looms/CNA_mtscatac_1.FULL__cto.scrublet0-4.fmx.singlets.loom exists! Skipping...\n",
      "Checking if cell_region_looms/CNA_mtscatac_2.FULL__cto.scrublet0-4.fmx.singlets.loom exist...\n",
      "\tcell_region_looms/CNA_mtscatac_2.FULL__cto.scrublet0-4.fmx.singlets.loom exists! Skipping...\n",
      "Checking if cell_region_looms/EPF_hydrop_1.FULL__cto.scrublet0-4.fmx.singlets.loom exist...\n",
      "\tcell_region_looms/EPF_hydrop_1.FULL__cto.scrublet0-4.fmx.singlets.loom exists! Skipping...\n",
      "Checking if cell_region_looms/EPF_hydrop_2.FULL__cto.scrublet0-4.fmx.singlets.loom exist...\n",
      "\tcell_region_looms/EPF_hydrop_2.FULL__cto.scrublet0-4.fmx.singlets.loom exists! Skipping...\n",
      "Checking if cell_region_looms/EPF_hydrop_3.FULL__cto.scrublet0-4.fmx.singlets.loom exist...\n",
      "\tcell_region_looms/EPF_hydrop_3.FULL__cto.scrublet0-4.fmx.singlets.loom exists! Skipping...\n",
      "Checking if cell_region_looms/EPF_hydrop_4.FULL__cto.scrublet0-4.fmx.singlets.loom exist...\n",
      "\tcell_region_looms/EPF_hydrop_4.FULL__cto.scrublet0-4.fmx.singlets.loom exists! Skipping...\n",
      "Checking if cell_region_looms/HAR_ddseq_1.FULL__cto.scrublet0-4.fmx.singlets.loom exist...\n",
      "\tcell_region_looms/HAR_ddseq_1.FULL__cto.scrublet0-4.fmx.singlets.loom exists! Skipping...\n",
      "Checking if cell_region_looms/HAR_ddseq_2.FULL__cto.scrublet0-4.fmx.singlets.loom exist...\n",
      "\tcell_region_looms/HAR_ddseq_2.FULL__cto.scrublet0-4.fmx.singlets.loom exists! Skipping...\n",
      "Checking if cell_region_looms/MDC_mtscatac_1.FULL__cto.scrublet0-4.fmx.singlets.loom exist...\n",
      "\tcell_region_looms/MDC_mtscatac_1.FULL__cto.scrublet0-4.fmx.singlets.loom exists! Skipping...\n",
      "Checking if cell_region_looms/MDC_mtscatac_2.FULL__cto.scrublet0-4.fmx.singlets.loom exist...\n",
      "\tcell_region_looms/MDC_mtscatac_2.FULL__cto.scrublet0-4.fmx.singlets.loom exists! Skipping...\n",
      "Checking if cell_region_looms/OHS_s3atac_1.FULL__cto.scrublet0-4.fmx.singlets.loom exist...\n",
      "\tcell_region_looms/OHS_s3atac_1.FULL__cto.scrublet0-4.fmx.singlets.loom does not exist, adding to subdict to generate\n",
      "Checking if cell_region_looms/OHS_s3atac_2.FULL__cto.scrublet0-4.fmx.singlets.loom exist...\n",
      "\tcell_region_looms/OHS_s3atac_2.FULL__cto.scrublet0-4.fmx.singlets.loom does not exist, adding to subdict to generate\n",
      "Checking if cell_region_looms/SAN_10xmultiome_1.FULL__cto.scrublet0-4.fmx.singlets.loom exist...\n",
      "\tcell_region_looms/SAN_10xmultiome_1.FULL__cto.scrublet0-4.fmx.singlets.loom exists! Skipping...\n",
      "Checking if cell_region_looms/SAN_10xmultiome_2.FULL__cto.scrublet0-4.fmx.singlets.loom exist...\n",
      "\tcell_region_looms/SAN_10xmultiome_2.FULL__cto.scrublet0-4.fmx.singlets.loom exists! Skipping...\n",
      "Checking if cell_region_looms/STA_10xv11_1.FULL__cto.scrublet0-4.fmx.singlets.loom exist...\n",
      "\tcell_region_looms/STA_10xv11_1.FULL__cto.scrublet0-4.fmx.singlets.loom exists! Skipping...\n",
      "Checking if cell_region_looms/STA_10xv11_2.FULL__cto.scrublet0-4.fmx.singlets.loom exist...\n",
      "\tcell_region_looms/STA_10xv11_2.FULL__cto.scrublet0-4.fmx.singlets.loom exists! Skipping...\n",
      "Checking if cell_region_looms/TXG_10xv11_1.FULL__cto.scrublet0-4.fmx.singlets.loom exist...\n",
      "\tcell_region_looms/TXG_10xv11_1.FULL__cto.scrublet0-4.fmx.singlets.loom does not exist, adding to subdict to generate\n",
      "Checking if cell_region_looms/TXG_10xv2_1.FULL__cto.scrublet0-4.fmx.singlets.loom exist...\n",
      "\tcell_region_looms/TXG_10xv2_1.FULL__cto.scrublet0-4.fmx.singlets.loom does not exist, adding to subdict to generate\n",
      "Checking if cell_region_looms/TXG_10xv2_2.FULL__cto.scrublet0-4.fmx.singlets.loom exist...\n",
      "\tcell_region_looms/TXG_10xv2_2.FULL__cto.scrublet0-4.fmx.singlets.loom does not exist, adding to subdict to generate\n",
      "Checking if cell_region_looms/UCS_ddseq_1.FULL__cto.scrublet0-4.fmx.singlets.loom exist...\n",
      "\tcell_region_looms/UCS_ddseq_1.FULL__cto.scrublet0-4.fmx.singlets.loom does not exist, adding to subdict to generate\n",
      "Checking if cell_region_looms/UCS_ddseq_2.FULL__cto.scrublet0-4.fmx.singlets.loom exist...\n",
      "\tcell_region_looms/UCS_ddseq_2.FULL__cto.scrublet0-4.fmx.singlets.loom does not exist, adding to subdict to generate\n",
      "Checking if cell_region_looms/VIB_10xmultiome_1.FULL__cto.scrublet0-4.fmx.singlets.loom exist...\n",
      "\tcell_region_looms/VIB_10xmultiome_1.FULL__cto.scrublet0-4.fmx.singlets.loom exists! Skipping...\n",
      "Checking if cell_region_looms/VIB_10xmultiome_2.FULL__cto.scrublet0-4.fmx.singlets.loom exist...\n",
      "\tcell_region_looms/VIB_10xmultiome_2.FULL__cto.scrublet0-4.fmx.singlets.loom exists! Skipping...\n",
      "Checking if cell_region_looms/VIB_10xv1_1.FULL__cto.scrublet0-4.fmx.singlets.loom exist...\n",
      "\tcell_region_looms/VIB_10xv1_1.FULL__cto.scrublet0-4.fmx.singlets.loom exists! Skipping...\n",
      "Checking if cell_region_looms/VIB_10xv1_2.FULL__cto.scrublet0-4.fmx.singlets.loom exist...\n",
      "\tcell_region_looms/VIB_10xv1_2.FULL__cto.scrublet0-4.fmx.singlets.loom exists! Skipping...\n",
      "Checking if cell_region_looms/VIB_10xv2_1.FULL__cto.scrublet0-4.fmx.singlets.loom exist...\n",
      "\tcell_region_looms/VIB_10xv2_1.FULL__cto.scrublet0-4.fmx.singlets.loom exists! Skipping...\n",
      "Checking if cell_region_looms/VIB_10xv2_2.FULL__cto.scrublet0-4.fmx.singlets.loom exist...\n",
      "\tcell_region_looms/VIB_10xv2_2.FULL__cto.scrublet0-4.fmx.singlets.loom exists! Skipping...\n",
      "Checking if cell_region_looms/VIB_hydrop_1.FULL__cto.scrublet0-4.fmx.singlets.loom exist...\n",
      "\tcell_region_looms/VIB_hydrop_1.FULL__cto.scrublet0-4.fmx.singlets.loom exists! Skipping...\n",
      "Checking if cell_region_looms/VIB_hydrop_11.FULL__cto.scrublet0-4.fmx.singlets.loom exist...\n",
      "\tcell_region_looms/VIB_hydrop_11.FULL__cto.scrublet0-4.fmx.singlets.loom does not exist, adding to subdict to generate\n",
      "Checking if cell_region_looms/VIB_hydrop_12.FULL__cto.scrublet0-4.fmx.singlets.loom exist...\n",
      "\tcell_region_looms/VIB_hydrop_12.FULL__cto.scrublet0-4.fmx.singlets.loom does not exist, adding to subdict to generate\n",
      "Checking if cell_region_looms/VIB_hydrop_2.FULL__cto.scrublet0-4.fmx.singlets.loom exist...\n",
      "\tcell_region_looms/VIB_hydrop_2.FULL__cto.scrublet0-4.fmx.singlets.loom exists! Skipping...\n",
      "Checking if cell_region_looms/VIB_hydrop_21.FULL__cto.scrublet0-4.fmx.singlets.loom exist...\n",
      "\tcell_region_looms/VIB_hydrop_21.FULL__cto.scrublet0-4.fmx.singlets.loom does not exist, adding to subdict to generate\n",
      "Checking if cell_region_looms/VIB_hydrop_22.FULL__cto.scrublet0-4.fmx.singlets.loom exist...\n",
      "\tcell_region_looms/VIB_hydrop_22.FULL__cto.scrublet0-4.fmx.singlets.loom does not exist, adding to subdict to generate\n"
     ]
    },
    {
     "data": {
      "application/javascript": [
       "\n",
       "            setTimeout(function() {\n",
       "                var nbb_cell_id = 172;\n",
       "                var nbb_unformatted_code = \"cto_path_sub_dict = {}\\nfor sample in scrubcto_dict.keys():\\n    cto_path = scrubcto_dict[sample]\\n    loom_path = os.path.join(loom_out, cto_path.split('/')[-1].replace('.pkl', '.loom'))\\n    print(f\\\"Checking if {loom_path} exist...\\\")\\n    if os.path.exists(loom_path):\\n        print(f\\\"\\\\t{loom_path} exists! Skipping...\\\")\\n    else:\\n        print(f\\\"\\\\t{loom_path} does not exist, adding to subdict to generate\\\")\\n        cto_path_sub_dict[sample] = scrubcto_dict[sample]\";\n",
       "                var nbb_formatted_code = \"cto_path_sub_dict = {}\\nfor sample in scrubcto_dict.keys():\\n    cto_path = scrubcto_dict[sample]\\n    loom_path = os.path.join(loom_out, cto_path.split(\\\"/\\\")[-1].replace(\\\".pkl\\\", \\\".loom\\\"))\\n    print(f\\\"Checking if {loom_path} exist...\\\")\\n    if os.path.exists(loom_path):\\n        print(f\\\"\\\\t{loom_path} exists! Skipping...\\\")\\n    else:\\n        print(f\\\"\\\\t{loom_path} does not exist, adding to subdict to generate\\\")\\n        cto_path_sub_dict[sample] = scrubcto_dict[sample]\";\n",
       "                var nbb_cells = Jupyter.notebook.get_cells();\n",
       "                for (var i = 0; i < nbb_cells.length; ++i) {\n",
       "                    if (nbb_cells[i].input_prompt_number == nbb_cell_id) {\n",
       "                        if (nbb_cells[i].get_text() == nbb_unformatted_code) {\n",
       "                             nbb_cells[i].set_text(nbb_formatted_code);\n",
       "                        }\n",
       "                        break;\n",
       "                    }\n",
       "                }\n",
       "            }, 500);\n",
       "            "
      ],
      "text/plain": [
       "<IPython.core.display.Javascript object>"
      ]
     },
     "metadata": {},
     "output_type": "display_data"
    }
   ],
   "source": [
    "cto_path_sub_dict = {}\n",
    "for sample in scrubcto_dict.keys():\n",
    "    cto_path = scrubcto_dict[sample]\n",
    "    loom_path = os.path.join(loom_out, cto_path.split('/')[-1].replace('.pkl', '.loom'))\n",
    "    print(f\"Checking if {loom_path} exist...\")\n",
    "    if os.path.exists(loom_path):\n",
    "        print(f\"\\t{loom_path} exists! Skipping...\")\n",
    "    else:\n",
    "        print(f\"\\t{loom_path} does not exist, adding to subdict to generate\")\n",
    "        cto_path_sub_dict[sample] = scrubcto_dict[sample]"
   ]
  },
  {
   "cell_type": "code",
   "execution_count": 173,
   "id": "aff6dc4b",
   "metadata": {
    "execution": {
     "iopub.execute_input": "2022-09-26T16:08:14.512861Z",
     "iopub.status.busy": "2022-09-26T16:08:14.512119Z",
     "iopub.status.idle": "2022-09-26T16:16:15.890679Z",
     "shell.execute_reply": "2022-09-26T16:16:15.889797Z",
     "shell.execute_reply.started": "2022-09-26T16:08:14.512799Z"
    },
    "papermill": {
     "duration": null,
     "end_time": null,
     "exception": null,
     "start_time": null,
     "status": "completed"
    },
    "tags": []
   },
   "outputs": [
    {
     "name": "stdout",
     "output_type": "stream",
     "text": [
      "Loaded filtered cistopic object CNA_10xmultiome_1.FULL\n",
      "Finished cell_region_looms/CNA_10xmultiome_1.FULL__cto.scrublet0-4.fmx.singlets.loom loom writing\n",
      "Loaded filtered cistopic object CNA_10xmultiome_2.FULL\n",
      "Finished cell_region_looms/CNA_10xmultiome_2.FULL__cto.scrublet0-4.fmx.singlets.loom loom writing\n",
      "Loaded filtered cistopic object OHS_s3atac_1.FULL\n",
      "Finished cell_region_looms/OHS_s3atac_1.FULL__cto.scrublet0-4.fmx.singlets.loom loom writing\n",
      "Loaded filtered cistopic object OHS_s3atac_2.FULL\n",
      "Finished cell_region_looms/OHS_s3atac_2.FULL__cto.scrublet0-4.fmx.singlets.loom loom writing\n",
      "Loaded filtered cistopic object TXG_10xv11_1.FULL\n",
      "Finished cell_region_looms/TXG_10xv11_1.FULL__cto.scrublet0-4.fmx.singlets.loom loom writing\n",
      "Loaded filtered cistopic object TXG_10xv2_1.FULL\n",
      "Finished cell_region_looms/TXG_10xv2_1.FULL__cto.scrublet0-4.fmx.singlets.loom loom writing\n",
      "Loaded filtered cistopic object TXG_10xv2_2.FULL\n",
      "Finished cell_region_looms/TXG_10xv2_2.FULL__cto.scrublet0-4.fmx.singlets.loom loom writing\n",
      "Loaded filtered cistopic object UCS_ddseq_1.FULL\n",
      "Finished cell_region_looms/UCS_ddseq_1.FULL__cto.scrublet0-4.fmx.singlets.loom loom writing\n",
      "Loaded filtered cistopic object UCS_ddseq_2.FULL\n",
      "Finished cell_region_looms/UCS_ddseq_2.FULL__cto.scrublet0-4.fmx.singlets.loom loom writing\n",
      "Loaded filtered cistopic object VIB_hydrop_11.FULL\n",
      "Finished cell_region_looms/VIB_hydrop_11.FULL__cto.scrublet0-4.fmx.singlets.loom loom writing\n",
      "Loaded filtered cistopic object VIB_hydrop_12.FULL\n",
      "Finished cell_region_looms/VIB_hydrop_12.FULL__cto.scrublet0-4.fmx.singlets.loom loom writing\n",
      "Loaded filtered cistopic object VIB_hydrop_21.FULL\n",
      "Finished cell_region_looms/VIB_hydrop_21.FULL__cto.scrublet0-4.fmx.singlets.loom loom writing\n",
      "Loaded filtered cistopic object VIB_hydrop_22.FULL\n",
      "Finished cell_region_looms/VIB_hydrop_22.FULL__cto.scrublet0-4.fmx.singlets.loom loom writing\n"
     ]
    },
    {
     "data": {
      "application/javascript": [
       "\n",
       "            setTimeout(function() {\n",
       "                var nbb_cell_id = 173;\n",
       "                var nbb_unformatted_code = \"for sample in cto_path_sub_dict.keys():\\n    cto_path = cto_path_sub_dict[sample]\\n    with open(cto_path, 'rb') as f:\\n        cto = pickle.load(f)\\n        \\n    print(f\\\"Loaded filtered cistopic object {sample}\\\")\\n    loom_path = os.path.join(loom_out, cto_path.split('/')[-1].replace('.pkl', '.loom'))\\n    lp.create(\\n        filename = loom_path,\\n        layers=cto.fragment_matrix,\\n        row_attrs={ 'Gene': cto.region_names }, \\n        col_attrs={ 'CellID': [ x.split('__')[0]  for x in cto.cell_names ] }\\n    )\\n    print(f\\\"Finished {loom_path} loom writing\\\")\";\n",
       "                var nbb_formatted_code = \"for sample in cto_path_sub_dict.keys():\\n    cto_path = cto_path_sub_dict[sample]\\n    with open(cto_path, \\\"rb\\\") as f:\\n        cto = pickle.load(f)\\n\\n    print(f\\\"Loaded filtered cistopic object {sample}\\\")\\n    loom_path = os.path.join(loom_out, cto_path.split(\\\"/\\\")[-1].replace(\\\".pkl\\\", \\\".loom\\\"))\\n    lp.create(\\n        filename=loom_path,\\n        layers=cto.fragment_matrix,\\n        row_attrs={\\\"Gene\\\": cto.region_names},\\n        col_attrs={\\\"CellID\\\": [x.split(\\\"__\\\")[0] for x in cto.cell_names]},\\n    )\\n    print(f\\\"Finished {loom_path} loom writing\\\")\";\n",
       "                var nbb_cells = Jupyter.notebook.get_cells();\n",
       "                for (var i = 0; i < nbb_cells.length; ++i) {\n",
       "                    if (nbb_cells[i].input_prompt_number == nbb_cell_id) {\n",
       "                        if (nbb_cells[i].get_text() == nbb_unformatted_code) {\n",
       "                             nbb_cells[i].set_text(nbb_formatted_code);\n",
       "                        }\n",
       "                        break;\n",
       "                    }\n",
       "                }\n",
       "            }, 500);\n",
       "            "
      ],
      "text/plain": [
       "<IPython.core.display.Javascript object>"
      ]
     },
     "metadata": {},
     "output_type": "display_data"
    }
   ],
   "source": [
    "for sample in cto_path_sub_dict.keys():\n",
    "    cto_path = cto_path_sub_dict[sample]\n",
    "    with open(cto_path, 'rb') as f:\n",
    "        cto = pickle.load(f)\n",
    "        \n",
    "    print(f\"Loaded filtered cistopic object {sample}\")\n",
    "    loom_path = os.path.join(loom_out, cto_path.split('/')[-1].replace('.pkl', '.loom'))\n",
    "    lp.create(\n",
    "        filename = loom_path,\n",
    "        layers=cto.fragment_matrix,\n",
    "        row_attrs={ 'Gene': cto.region_names }, \n",
    "        col_attrs={ 'CellID': [ x.split('__')[0]  for x in cto.cell_names ] }\n",
    "    )\n",
    "    print(f\"Finished {loom_path} loom writing\")"
   ]
  }
 ],
 "metadata": {
  "kernelspec": {
   "display_name": "20220815_pycistopic.sif",
   "language": "python",
   "name": "cistopic_20220815"
  },
  "language_info": {
   "codemirror_mode": {
    "name": "ipython",
    "version": 3
   },
   "file_extension": ".py",
   "mimetype": "text/x-python",
   "name": "python",
   "nbconvert_exporter": "python",
   "pygments_lexer": "ipython3",
   "version": "3.8.13"
  },
  "papermill": {
   "default_parameters": {},
   "duration": 95.919084,
   "end_time": "2022-09-19T22:14:59.873309",
   "environment_variables": {},
   "exception": null,
   "input_path": "2_create_CTO_consensus_peaks.ipynb",
   "output_path": "2_create_CTO_consensus_peaks.OUT.ipynb",
   "parameters": {},
   "start_time": "2022-09-19T22:13:23.954225",
   "version": "2.3.4"
  }
 },
 "nbformat": 4,
 "nbformat_minor": 5
}

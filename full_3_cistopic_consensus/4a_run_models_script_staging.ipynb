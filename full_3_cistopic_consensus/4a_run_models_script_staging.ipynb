{
 "cells": [
  {
   "cell_type": "markdown",
   "id": "113e33aa",
   "metadata": {
    "papermill": {
     "duration": 0.018858,
     "end_time": "2022-08-20T22:37:21.062275",
     "exception": false,
     "start_time": "2022-08-20T22:37:21.043417",
     "status": "completed"
    },
    "tags": []
   },
   "source": [
    "# pycisTopic analysis\n",
    "\n",
    "Full dataset, using Consensus regions."
   ]
  },
  {
   "cell_type": "code",
   "execution_count": 120,
   "id": "166d09e1",
   "metadata": {
    "execution": {
     "iopub.execute_input": "2022-09-19T11:40:26.167296Z",
     "iopub.status.busy": "2022-09-19T11:40:26.167029Z",
     "iopub.status.idle": "2022-09-19T11:40:26.172706Z",
     "shell.execute_reply": "2022-09-19T11:40:26.171910Z",
     "shell.execute_reply.started": "2022-09-19T11:40:26.167274Z"
    },
    "papermill": {
     "duration": 0.038814,
     "end_time": "2022-08-20T22:37:21.118471",
     "exception": false,
     "start_time": "2022-08-20T22:37:21.079657",
     "status": "completed"
    },
    "tags": []
   },
   "outputs": [
    {
     "data": {
      "text/plain": [
       "'1.0.2.dev0+g6236cef.d20220816'"
      ]
     },
     "execution_count": 120,
     "metadata": {},
     "output_type": "execute_result"
    }
   ],
   "source": [
    "import pycisTopic\n",
    "pycisTopic.__version__"
   ]
  },
  {
   "cell_type": "code",
   "execution_count": 121,
   "id": "1c9bf3c7",
   "metadata": {
    "execution": {
     "iopub.execute_input": "2022-09-19T11:40:26.175124Z",
     "iopub.status.busy": "2022-09-19T11:40:26.174286Z",
     "iopub.status.idle": "2022-09-19T11:40:26.193938Z",
     "shell.execute_reply": "2022-09-19T11:40:26.193435Z",
     "shell.execute_reply.started": "2022-09-19T11:40:26.175053Z"
    },
    "papermill": {
     "duration": 0.016775,
     "end_time": "2022-08-20T22:37:21.146588",
     "exception": false,
     "start_time": "2022-08-20T22:37:21.129813",
     "status": "completed"
    },
    "tags": []
   },
   "outputs": [],
   "source": [
    "import warnings\n",
    "warnings.filterwarnings('ignore')\n",
    "warnings.simplefilter('ignore')"
   ]
  },
  {
   "cell_type": "code",
   "execution_count": 122,
   "id": "a34d847f",
   "metadata": {
    "execution": {
     "iopub.execute_input": "2022-09-19T11:40:26.195252Z",
     "iopub.status.busy": "2022-09-19T11:40:26.194950Z",
     "iopub.status.idle": "2022-09-19T11:40:26.201529Z",
     "shell.execute_reply": "2022-09-19T11:40:26.201043Z",
     "shell.execute_reply.started": "2022-09-19T11:40:26.195231Z"
    },
    "papermill": {
     "duration": 1.451765,
     "end_time": "2022-08-20T22:37:22.608690",
     "exception": false,
     "start_time": "2022-08-20T22:37:21.156925",
     "status": "completed"
    },
    "tags": []
   },
   "outputs": [],
   "source": [
    "import pickle\n",
    "import pandas as pd"
   ]
  },
  {
   "cell_type": "code",
   "execution_count": 123,
   "id": "83033511",
   "metadata": {
    "execution": {
     "iopub.execute_input": "2022-09-19T11:40:26.202810Z",
     "iopub.status.busy": "2022-09-19T11:40:26.202494Z",
     "iopub.status.idle": "2022-09-19T11:40:26.209066Z",
     "shell.execute_reply": "2022-09-19T11:40:26.208529Z",
     "shell.execute_reply.started": "2022-09-19T11:40:26.202789Z"
    },
    "papermill": {
     "duration": 0.019766,
     "end_time": "2022-08-20T22:37:22.644014",
     "exception": false,
     "start_time": "2022-08-20T22:37:22.624248",
     "status": "completed"
    },
    "tags": []
   },
   "outputs": [],
   "source": [
    "import glob\n",
    "from collections import OrderedDict\n",
    "import numpy as np"
   ]
  },
  {
   "cell_type": "code",
   "execution_count": 124,
   "id": "c7858c6d",
   "metadata": {
    "execution": {
     "iopub.execute_input": "2022-09-19T11:40:26.210074Z",
     "iopub.status.busy": "2022-09-19T11:40:26.209812Z",
     "iopub.status.idle": "2022-09-19T11:40:26.531365Z",
     "shell.execute_reply": "2022-09-19T11:40:26.530318Z",
     "shell.execute_reply.started": "2022-09-19T11:40:26.210054Z"
    },
    "papermill": {
     "duration": 0.225017,
     "end_time": "2022-08-20T22:37:22.878396",
     "exception": false,
     "start_time": "2022-08-20T22:37:22.653379",
     "status": "completed"
    },
    "tags": []
   },
   "outputs": [
    {
     "name": "stdout",
     "output_type": "stream",
     "text": [
      "/lustre1/project/stg_00090/scatac_benchmark/full_3_cistopic_consensus\n"
     ]
    }
   ],
   "source": [
    "!pwd"
   ]
  },
  {
   "cell_type": "code",
   "execution_count": 125,
   "id": "1871327d",
   "metadata": {
    "execution": {
     "iopub.execute_input": "2022-09-19T11:40:26.533217Z",
     "iopub.status.busy": "2022-09-19T11:40:26.532925Z",
     "iopub.status.idle": "2022-09-19T11:40:26.537794Z",
     "shell.execute_reply": "2022-09-19T11:40:26.537295Z",
     "shell.execute_reply.started": "2022-09-19T11:40:26.533190Z"
    },
    "papermill": {
     "duration": 0.022023,
     "end_time": "2022-08-20T22:37:22.915276",
     "exception": false,
     "start_time": "2022-08-20T22:37:22.893253",
     "status": "completed"
    },
    "tags": []
   },
   "outputs": [],
   "source": [
    "import os\n",
    "wdir = '/lustre1/project/stg_00090/scatac_benchmark/full_3_cistopic_consensus/'\n",
    "os.chdir( wdir )"
   ]
  },
  {
   "cell_type": "code",
   "execution_count": 126,
   "id": "ac2b43a8",
   "metadata": {
    "execution": {
     "iopub.execute_input": "2022-09-19T11:40:26.538808Z",
     "iopub.status.busy": "2022-09-19T11:40:26.538597Z",
     "iopub.status.idle": "2022-09-19T11:40:26.551319Z",
     "shell.execute_reply": "2022-09-19T11:40:26.550877Z",
     "shell.execute_reply.started": "2022-09-19T11:40:26.538788Z"
    },
    "papermill": {
     "duration": 0.021659,
     "end_time": "2022-08-20T22:37:22.947247",
     "exception": false,
     "start_time": "2022-08-20T22:37:22.925588",
     "status": "completed"
    },
    "tags": []
   },
   "outputs": [
    {
     "data": {
      "text/plain": [
       "{'BIO_ddseq_1.FULL': 'cistopic_objects/BIO_ddseq_1.FULL__cto.scrublet0-4.fmx.singlets.pkl',\n",
       " 'BIO_ddseq_2.FULL': 'cistopic_objects/BIO_ddseq_2.FULL__cto.scrublet0-4.fmx.singlets.pkl',\n",
       " 'BIO_ddseq_3.FULL': 'cistopic_objects/BIO_ddseq_3.FULL__cto.scrublet0-4.fmx.singlets.pkl',\n",
       " 'BIO_ddseq_4.FULL': 'cistopic_objects/BIO_ddseq_4.FULL__cto.scrublet0-4.fmx.singlets.pkl',\n",
       " 'BRO_mtscatac_1.FULL': 'cistopic_objects/BRO_mtscatac_1.FULL__cto.scrublet0-4.fmx.singlets.pkl',\n",
       " 'BRO_mtscatac_2.FULL': 'cistopic_objects/BRO_mtscatac_2.FULL__cto.scrublet0-4.fmx.singlets.pkl',\n",
       " 'CNA_10xv11_1.FULL': 'cistopic_objects/CNA_10xv11_1.FULL__cto.scrublet0-4.fmx.singlets.pkl',\n",
       " 'CNA_10xv11_2.FULL': 'cistopic_objects/CNA_10xv11_2.FULL__cto.scrublet0-4.fmx.singlets.pkl',\n",
       " 'CNA_10xv11_3.FULL': 'cistopic_objects/CNA_10xv11_3.FULL__cto.scrublet0-4.fmx.singlets.pkl',\n",
       " 'CNA_10xv11_4.FULL': 'cistopic_objects/CNA_10xv11_4.FULL__cto.scrublet0-4.fmx.singlets.pkl',\n",
       " 'CNA_10xv11_5.FULL': 'cistopic_objects/CNA_10xv11_5.FULL__cto.scrublet0-4.fmx.singlets.pkl',\n",
       " 'CNA_10xv2_1.FULL': 'cistopic_objects/CNA_10xv2_1.FULL__cto.scrublet0-4.fmx.singlets.pkl',\n",
       " 'CNA_10xv2_2.FULL': 'cistopic_objects/CNA_10xv2_2.FULL__cto.scrublet0-4.fmx.singlets.pkl',\n",
       " 'CNA_hydrop_1.FULL': 'cistopic_objects/CNA_hydrop_1.FULL__cto.scrublet0-4.fmx.singlets.pkl',\n",
       " 'CNA_hydrop_2.FULL': 'cistopic_objects/CNA_hydrop_2.FULL__cto.scrublet0-4.fmx.singlets.pkl',\n",
       " 'CNA_hydrop_3.FULL': 'cistopic_objects/CNA_hydrop_3.FULL__cto.scrublet0-4.fmx.singlets.pkl',\n",
       " 'CNA_mtscatac_1.FULL': 'cistopic_objects/CNA_mtscatac_1.FULL__cto.scrublet0-4.fmx.singlets.pkl',\n",
       " 'CNA_mtscatac_2.FULL': 'cistopic_objects/CNA_mtscatac_2.FULL__cto.scrublet0-4.fmx.singlets.pkl',\n",
       " 'EPF_hydrop_1.FULL': 'cistopic_objects/EPF_hydrop_1.FULL__cto.scrublet0-4.fmx.singlets.pkl',\n",
       " 'EPF_hydrop_2.FULL': 'cistopic_objects/EPF_hydrop_2.FULL__cto.scrublet0-4.fmx.singlets.pkl',\n",
       " 'EPF_hydrop_3.FULL': 'cistopic_objects/EPF_hydrop_3.FULL__cto.scrublet0-4.fmx.singlets.pkl',\n",
       " 'EPF_hydrop_4.FULL': 'cistopic_objects/EPF_hydrop_4.FULL__cto.scrublet0-4.fmx.singlets.pkl',\n",
       " 'HAR_ddseq_1.FULL': 'cistopic_objects/HAR_ddseq_1.FULL__cto.scrublet0-4.fmx.singlets.pkl',\n",
       " 'HAR_ddseq_2.FULL': 'cistopic_objects/HAR_ddseq_2.FULL__cto.scrublet0-4.fmx.singlets.pkl',\n",
       " 'MDC_mtscatac_1.FULL': 'cistopic_objects/MDC_mtscatac_1.FULL__cto.scrublet0-4.fmx.singlets.pkl',\n",
       " 'MDC_mtscatac_2.FULL': 'cistopic_objects/MDC_mtscatac_2.FULL__cto.scrublet0-4.fmx.singlets.pkl',\n",
       " 'SAN_10xmultiome_1.FULL': 'cistopic_objects/SAN_10xmultiome_1.FULL__cto.scrublet0-4.fmx.singlets.pkl',\n",
       " 'SAN_10xmultiome_2.FULL': 'cistopic_objects/SAN_10xmultiome_2.FULL__cto.scrublet0-4.fmx.singlets.pkl',\n",
       " 'STA_10xv11_1.FULL': 'cistopic_objects/STA_10xv11_1.FULL__cto.scrublet0-4.fmx.singlets.pkl',\n",
       " 'STA_10xv11_2.FULL': 'cistopic_objects/STA_10xv11_2.FULL__cto.scrublet0-4.fmx.singlets.pkl',\n",
       " 'VIB_10xmultiome_1.FULL': 'cistopic_objects/VIB_10xmultiome_1.FULL__cto.scrublet0-4.fmx.singlets.pkl',\n",
       " 'VIB_10xmultiome_2.FULL': 'cistopic_objects/VIB_10xmultiome_2.FULL__cto.scrublet0-4.fmx.singlets.pkl',\n",
       " 'VIB_10xv1_1.FULL': 'cistopic_objects/VIB_10xv1_1.FULL__cto.scrublet0-4.fmx.singlets.pkl',\n",
       " 'VIB_10xv1_2.FULL': 'cistopic_objects/VIB_10xv1_2.FULL__cto.scrublet0-4.fmx.singlets.pkl',\n",
       " 'VIB_10xv2_1.FULL': 'cistopic_objects/VIB_10xv2_1.FULL__cto.scrublet0-4.fmx.singlets.pkl',\n",
       " 'VIB_10xv2_2.FULL': 'cistopic_objects/VIB_10xv2_2.FULL__cto.scrublet0-4.fmx.singlets.pkl',\n",
       " 'VIB_hydrop_1.FULL': 'cistopic_objects/VIB_hydrop_1.FULL__cto.scrublet0-4.fmx.singlets.pkl',\n",
       " 'VIB_hydrop_11.FULL': 'cistopic_objects/VIB_hydrop_11.FULL__cto.scrublet0-4.fmx.singlets.pkl',\n",
       " 'VIB_hydrop_12.FULL': 'cistopic_objects/VIB_hydrop_12.FULL__cto.scrublet0-4.fmx.singlets.pkl',\n",
       " 'VIB_hydrop_2.FULL': 'cistopic_objects/VIB_hydrop_2.FULL__cto.scrublet0-4.fmx.singlets.pkl',\n",
       " 'VIB_hydrop_21.FULL': 'cistopic_objects/VIB_hydrop_21.FULL__cto.scrublet0-4.fmx.singlets.pkl',\n",
       " 'VIB_hydrop_22.FULL': 'cistopic_objects/VIB_hydrop_22.FULL__cto.scrublet0-4.fmx.singlets.pkl'}"
      ]
     },
     "execution_count": 126,
     "metadata": {},
     "output_type": "execute_result"
    }
   ],
   "source": [
    "scrub_name_suffix = \"0-4\"\n",
    "cto_paths = sorted(glob.glob(f'cistopic_objects/*__cto.scrublet{scrub_name_suffix}.fmx.singlets.pkl'))\n",
    "cistopic_obj_path_dict = {x.split('/')[-1].split(f'__cto.scrublet{scrub_name_suffix}.fmx.singlets.pkl')[0]:x for x in cto_paths}\n",
    "cistopic_obj_path_dict"
   ]
  },
  {
   "cell_type": "code",
   "execution_count": 127,
   "id": "03b15dc5",
   "metadata": {
    "execution": {
     "iopub.execute_input": "2022-09-19T11:40:28.862771Z",
     "iopub.status.busy": "2022-09-19T11:40:28.861708Z",
     "iopub.status.idle": "2022-09-19T11:40:28.954901Z",
     "shell.execute_reply": "2022-09-19T11:40:28.954022Z",
     "shell.execute_reply.started": "2022-09-19T11:40:28.862707Z"
    },
    "papermill": {
     "duration": 0.236882,
     "end_time": "2022-08-20T22:37:23.193992",
     "exception": false,
     "start_time": "2022-08-20T22:37:22.957110",
     "status": "completed"
    },
    "tags": []
   },
   "outputs": [
    {
     "name": "stdout",
     "output_type": "stream",
     "text": [
      "models__screen__mallet/BIO_ddseq_1.FULL__models_400_iter.pkl already exists!\n",
      "\n",
      "\n",
      "models__screen__mallet/BIO_ddseq_2.FULL__models_400_iter.pkl already exists!\n",
      "\n",
      "\n",
      "models__screen__mallet/BIO_ddseq_3.FULL__models_400_iter.pkl already exists!\n",
      "\n",
      "\n",
      "models__screen__mallet/BIO_ddseq_4.FULL__models_400_iter.pkl already exists!\n",
      "\n",
      "\n",
      "models__screen__mallet/BRO_mtscatac_1.FULL__models_400_iter.pkl already exists!\n",
      "\n",
      "\n",
      "models__screen__mallet/BRO_mtscatac_2.FULL__models_400_iter.pkl already exists!\n",
      "\n",
      "\n",
      "models__screen__mallet/CNA_10xv11_1.FULL__models_400_iter.pkl already exists!\n",
      "\n",
      "\n",
      "models__screen__mallet/CNA_10xv11_2.FULL__models_400_iter.pkl already exists!\n",
      "\n",
      "\n",
      "models__screen__mallet/CNA_10xv11_3.FULL__models_400_iter.pkl already exists!\n",
      "\n",
      "\n",
      "models__screen__mallet/CNA_10xv11_4.FULL__models_400_iter.pkl already exists!\n",
      "\n",
      "\n",
      "models__screen__mallet/CNA_10xv11_5.FULL__models_400_iter.pkl already exists!\n",
      "\n",
      "\n",
      "models__screen__mallet/CNA_10xv2_1.FULL__models_400_iter.pkl already exists!\n",
      "\n",
      "\n",
      "models__screen__mallet/CNA_10xv2_2.FULL__models_400_iter.pkl already exists!\n",
      "\n",
      "\n",
      "models__screen__mallet/CNA_hydrop_1.FULL__models_400_iter.pkl already exists!\n",
      "\n",
      "\n",
      "models__screen__mallet/CNA_hydrop_2.FULL__models_400_iter.pkl already exists!\n",
      "\n",
      "\n",
      "models__screen__mallet/CNA_hydrop_3.FULL__models_400_iter.pkl already exists!\n",
      "\n",
      "\n",
      "models__screen__mallet/CNA_mtscatac_1.FULL__models_400_iter.pkl already exists!\n",
      "\n",
      "\n",
      "models__screen__mallet/CNA_mtscatac_2.FULL__models_400_iter.pkl already exists!\n",
      "\n",
      "\n",
      "models__screen__mallet/EPF_hydrop_1.FULL__models_400_iter.pkl already exists!\n",
      "\n",
      "\n",
      "models__screen__mallet/EPF_hydrop_2.FULL__models_400_iter.pkl already exists!\n",
      "\n",
      "\n",
      "models__screen__mallet/EPF_hydrop_3.FULL__models_400_iter.pkl already exists!\n",
      "\n",
      "\n",
      "models__screen__mallet/EPF_hydrop_4.FULL__models_400_iter.pkl already exists!\n",
      "\n",
      "\n",
      "models__screen__mallet/HAR_ddseq_1.FULL__models_400_iter.pkl already exists!\n",
      "\n",
      "\n",
      "models__screen__mallet/HAR_ddseq_2.FULL__models_400_iter.pkl already exists!\n",
      "\n",
      "\n",
      "models__screen__mallet/MDC_mtscatac_1.FULL__models_400_iter.pkl already exists!\n",
      "\n",
      "\n",
      "models__screen__mallet/MDC_mtscatac_2.FULL__models_400_iter.pkl already exists!\n",
      "\n",
      "\n",
      "models__screen__mallet/SAN_10xmultiome_1.FULL__models_400_iter.pkl already exists!\n",
      "\n",
      "\n",
      "models__screen__mallet/SAN_10xmultiome_2.FULL__models_400_iter.pkl already exists!\n",
      "\n",
      "\n",
      "models__screen__mallet/STA_10xv11_1.FULL__models_400_iter.pkl already exists!\n",
      "\n",
      "\n",
      "models__screen__mallet/STA_10xv11_2.FULL__models_400_iter.pkl already exists!\n",
      "\n",
      "\n",
      "models__screen__mallet/VIB_10xmultiome_1.FULL__models_400_iter.pkl already exists!\n",
      "\n",
      "\n",
      "models__screen__mallet/VIB_10xmultiome_2.FULL__models_400_iter.pkl already exists!\n",
      "\n",
      "\n",
      "models__screen__mallet/VIB_10xv1_1.FULL__models_400_iter.pkl already exists!\n",
      "\n",
      "\n",
      "models__screen__mallet/VIB_10xv1_2.FULL__models_400_iter.pkl already exists!\n",
      "\n",
      "\n",
      "models__screen__mallet/VIB_10xv2_1.FULL__models_400_iter.pkl already exists!\n",
      "\n",
      "\n",
      "models__screen__mallet/VIB_10xv2_2.FULL__models_400_iter.pkl already exists!\n",
      "\n",
      "\n",
      "models__screen__mallet/VIB_hydrop_1.FULL__models_400_iter.pkl already exists!\n",
      "\n",
      "\n",
      "models__screen__mallet/VIB_hydrop_11.FULL__models_400_iter.pkl already exists!\n",
      "\n",
      "\n",
      "models__screen__mallet/VIB_hydrop_12.FULL__models_400_iter.pkl already exists!\n",
      "\n",
      "\n",
      "models__screen__mallet/VIB_hydrop_2.FULL__models_400_iter.pkl already exists!\n",
      "\n",
      "\n",
      "models__screen__mallet/VIB_hydrop_21.FULL__models_400_iter.pkl already exists!\n",
      "\n",
      "\n",
      "models__screen__mallet/VIB_hydrop_22.FULL__models_400_iter.pkl already exists!\n",
      "\n",
      "\n"
     ]
    }
   ],
   "source": [
    "mounts = \"/lustre1,/staging,/data,/vsc-hard-mounts,/scratch\"\n",
    "sif = \"../0_resources/cistopic_image/20220815_pycistopic.sif\"\n",
    "script = \"../0_resources/scripts/runModels_lda_mallet.py\"\n",
    "\n",
    "f_mod_dir = 'models__screen__mallet'\n",
    "if not os.path.exists(os.path.join(wdir, f_mod_dir)):\n",
    "    os.makedirs(os.path.join(wdir, f_mod_dir))\n",
    "\n",
    "n_topics_str = \"2,3,4,5,6,7,8,9,10,11,12,13,14,15,16,17,18,19,20,21,22,23,24,25,26,27,28,29,30\"\n",
    "n_topics = 30\n",
    "\n",
    "ver=n_topics_str[-2] + n_topics_str[-1]\n",
    "\n",
    "n_cores = 36\n",
    "n_iter = \"400\"\n",
    "for sample in cistopic_obj_path_dict.keys():\n",
    "    infile = cistopic_obj_path_dict[sample]\n",
    "    outfile = os.path.join(f_mod_dir, sample + '__models_' + str(n_iter) + '_iter.pkl')\n",
    "    \n",
    "    intermediate_dir = f\"{f_mod_dir}/model_intermediates/{sample}_model_intermediates/\"\n",
    "        \n",
    "    if not os.path.exists(outfile):\n",
    "        if not os.path.exists(os.path.join(wdir, intermediate_dir)):\n",
    "            os.makedirs(os.path.join(wdir, intermediate_dir))\n",
    "        else:\n",
    "            print(f'{intermediate_dir} already exists!')\n",
    "            \n",
    "        n_topics_detected = len(os.listdir(os.path.join(wdir, intermediate_dir)))\n",
    "        if not n_topics_detected == n_topics:\n",
    "            model_tmp_dir = f\"{f_mod_dir}/model_tmp/{sample}_model_tmp/\"\n",
    "            if not os.path.exists(os.path.join(wdir, model_tmp_dir)):\n",
    "                os.makedirs(os.path.join(wdir, model_tmp_dir))\n",
    "\n",
    "            n_topics_todo = str([x+1 for x in list(range(n_topics_detected,n_topics))]).replace(' ','').replace('[','').replace(']','')\n",
    "\n",
    "            out_log = f\"{f_mod_dir}/{sample}.models_out_log{ver}.txt\"\n",
    "            cmd = f\"echo {sample} && cd {wdir} && singularity exec -B {mounts} {sif} python {script} -i {infile} -o {outfile} -nt {n_topics_todo} -c {n_cores} -it {n_iter} -a 50 -abt True -e 0.1 -ebt False -sp {intermediate_dir} -s 555 -td {model_tmp_dir} > {out_log}\"\n",
    "\n",
    "            print(cmd)\n",
    "            sh_path = f\"{f_mod_dir}/{sample}.runmodels{ver}.sh\"\n",
    "            with open(sh_path, 'w') as file:\n",
    "                file.write(cmd)\n",
    "\n",
    "    else:\n",
    "        print(f'{outfile} already exists!')\n",
    "    \n",
    "    print('\\n')"
   ]
  },
  {
   "cell_type": "markdown",
   "id": "72bb10cb",
   "metadata": {
    "execution": {
     "iopub.execute_input": "2022-08-23T14:36:15.572885Z",
     "iopub.status.busy": "2022-08-23T14:36:15.572508Z",
     "iopub.status.idle": "2022-08-23T14:36:15.577548Z",
     "shell.execute_reply": "2022-08-23T14:36:15.576746Z",
     "shell.execute_reply.started": "2022-08-23T14:36:15.572858Z"
    },
    "papermill": {
     "duration": 0.011339,
     "end_time": "2022-08-20T22:37:23.432790",
     "exception": false,
     "start_time": "2022-08-20T22:37:23.421451",
     "status": "completed"
    },
    "tags": []
   },
   "source": [
    "In shell:"
   ]
  },
  {
   "cell_type": "code",
   "execution_count": 128,
   "id": "dc70a13b",
   "metadata": {
    "execution": {
     "iopub.execute_input": "2022-09-19T11:40:29.809421Z",
     "iopub.status.busy": "2022-09-19T11:40:29.808176Z",
     "iopub.status.idle": "2022-09-19T11:40:29.814351Z",
     "shell.execute_reply": "2022-09-19T11:40:29.813522Z",
     "shell.execute_reply.started": "2022-09-19T11:40:29.809354Z"
    },
    "papermill": {
     "duration": 0.011323,
     "end_time": "2022-08-20T22:37:23.455675",
     "exception": false,
     "start_time": "2022-08-20T22:37:23.444352",
     "status": "completed"
    },
    "tags": []
   },
   "outputs": [
    {
     "ename": "SyntaxError",
     "evalue": "invalid syntax (1944146239.py, line 1)",
     "output_type": "error",
     "traceback": [
      "\u001b[0;36m  Input \u001b[0;32mIn [128]\u001b[0;36m\u001b[0m\n\u001b[0;31m    for script in models__screen__mallet/*30.sh\u001b[0m\n\u001b[0m                                         ^\u001b[0m\n\u001b[0;31mSyntaxError\u001b[0m\u001b[0;31m:\u001b[0m invalid syntax\n"
     ]
    }
   ],
   "source": [
    "for script in models__screen__mallet/*30.sh\n",
    "do\n",
    "    echo $script\n",
    "    qsub $script -A lp_symbiosys -l nodes=1:ppn=36 -l walltime=24:00:00 -l pmem=2gb\n",
    "done"
   ]
  },
  {
   "cell_type": "markdown",
   "id": "2ea322f4",
   "metadata": {
    "papermill": {
     "duration": 0.011283,
     "end_time": "2022-08-20T22:37:23.478226",
     "exception": false,
     "start_time": "2022-08-20T22:37:23.466943",
     "status": "completed"
    },
    "tags": []
   },
   "source": [
    "Then, combine the models:"
   ]
  },
  {
   "cell_type": "code",
   "execution_count": 135,
   "id": "cffec943",
   "metadata": {
    "execution": {
     "iopub.execute_input": "2022-09-19T11:41:25.025864Z",
     "iopub.status.busy": "2022-09-19T11:41:25.025351Z",
     "iopub.status.idle": "2022-09-19T11:41:25.036941Z",
     "shell.execute_reply": "2022-09-19T11:41:25.036018Z",
     "shell.execute_reply.started": "2022-09-19T11:41:25.025840Z"
    },
    "papermill": {
     "duration": 0.012049,
     "end_time": "2022-08-20T22:37:23.501705",
     "exception": false,
     "start_time": "2022-08-20T22:37:23.489656",
     "status": "completed"
    },
    "tags": []
   },
   "outputs": [
    {
     "data": {
      "text/plain": [
       "{'BIO_ddseq_1.FULL': 'models__screen__mallet/model_intermediates/BIO_ddseq_1.FULL_model_intermediates',\n",
       " 'BIO_ddseq_2.FULL': 'models__screen__mallet/model_intermediates/BIO_ddseq_2.FULL_model_intermediates',\n",
       " 'BIO_ddseq_3.FULL': 'models__screen__mallet/model_intermediates/BIO_ddseq_3.FULL_model_intermediates',\n",
       " 'BIO_ddseq_4.FULL': 'models__screen__mallet/model_intermediates/BIO_ddseq_4.FULL_model_intermediates',\n",
       " 'BRO_mtscatac_1.FULL': 'models__screen__mallet/model_intermediates/BRO_mtscatac_1.FULL_model_intermediates',\n",
       " 'BRO_mtscatac_2.FULL': 'models__screen__mallet/model_intermediates/BRO_mtscatac_2.FULL_model_intermediates',\n",
       " 'CNA_10xv11_1.FULL': 'models__screen__mallet/model_intermediates/CNA_10xv11_1.FULL_model_intermediates',\n",
       " 'CNA_10xv11_2.FULL': 'models__screen__mallet/model_intermediates/CNA_10xv11_2.FULL_model_intermediates',\n",
       " 'CNA_10xv11_3.FULL': 'models__screen__mallet/model_intermediates/CNA_10xv11_3.FULL_model_intermediates',\n",
       " 'CNA_10xv11_4.FULL': 'models__screen__mallet/model_intermediates/CNA_10xv11_4.FULL_model_intermediates',\n",
       " 'CNA_10xv11_5.FULL': 'models__screen__mallet/model_intermediates/CNA_10xv11_5.FULL_model_intermediates',\n",
       " 'CNA_10xv2_1.FULL': 'models__screen__mallet/model_intermediates/CNA_10xv2_1.FULL_model_intermediates',\n",
       " 'CNA_10xv2_2.FULL': 'models__screen__mallet/model_intermediates/CNA_10xv2_2.FULL_model_intermediates',\n",
       " 'CNA_hydrop_1.FULL': 'models__screen__mallet/model_intermediates/CNA_hydrop_1.FULL_model_intermediates',\n",
       " 'CNA_hydrop_2.FULL': 'models__screen__mallet/model_intermediates/CNA_hydrop_2.FULL_model_intermediates',\n",
       " 'CNA_hydrop_3.FULL': 'models__screen__mallet/model_intermediates/CNA_hydrop_3.FULL_model_intermediates',\n",
       " 'CNA_mtscatac_1.FULL': 'models__screen__mallet/model_intermediates/CNA_mtscatac_1.FULL_model_intermediates',\n",
       " 'CNA_mtscatac_2.FULL': 'models__screen__mallet/model_intermediates/CNA_mtscatac_2.FULL_model_intermediates',\n",
       " 'EPF_hydrop_1.FULL': 'models__screen__mallet/model_intermediates/EPF_hydrop_1.FULL_model_intermediates',\n",
       " 'EPF_hydrop_2.FULL': 'models__screen__mallet/model_intermediates/EPF_hydrop_2.FULL_model_intermediates',\n",
       " 'EPF_hydrop_3.FULL': 'models__screen__mallet/model_intermediates/EPF_hydrop_3.FULL_model_intermediates',\n",
       " 'EPF_hydrop_4.FULL': 'models__screen__mallet/model_intermediates/EPF_hydrop_4.FULL_model_intermediates',\n",
       " 'HAR_ddseq_1.FULL': 'models__screen__mallet/model_intermediates/HAR_ddseq_1.FULL_model_intermediates',\n",
       " 'HAR_ddseq_2.FULL': 'models__screen__mallet/model_intermediates/HAR_ddseq_2.FULL_model_intermediates',\n",
       " 'MDC_mtscatac_1.FULL': 'models__screen__mallet/model_intermediates/MDC_mtscatac_1.FULL_model_intermediates',\n",
       " 'MDC_mtscatac_2.FULL': 'models__screen__mallet/model_intermediates/MDC_mtscatac_2.FULL_model_intermediates',\n",
       " 'SAN_10xmultiome_1.FULL': 'models__screen__mallet/model_intermediates/SAN_10xmultiome_1.FULL_model_intermediates',\n",
       " 'SAN_10xmultiome_2.FULL': 'models__screen__mallet/model_intermediates/SAN_10xmultiome_2.FULL_model_intermediates',\n",
       " 'STA_10xv11_1.FULL': 'models__screen__mallet/model_intermediates/STA_10xv11_1.FULL_model_intermediates',\n",
       " 'STA_10xv11_2.FULL': 'models__screen__mallet/model_intermediates/STA_10xv11_2.FULL_model_intermediates',\n",
       " 'VIB_10xmultiome_1.FULL': 'models__screen__mallet/model_intermediates/VIB_10xmultiome_1.FULL_model_intermediates',\n",
       " 'VIB_10xmultiome_2.FULL': 'models__screen__mallet/model_intermediates/VIB_10xmultiome_2.FULL_model_intermediates',\n",
       " 'VIB_10xv1_1.FULL': 'models__screen__mallet/model_intermediates/VIB_10xv1_1.FULL_model_intermediates',\n",
       " 'VIB_10xv1_2.FULL': 'models__screen__mallet/model_intermediates/VIB_10xv1_2.FULL_model_intermediates',\n",
       " 'VIB_10xv2_1.FULL': 'models__screen__mallet/model_intermediates/VIB_10xv2_1.FULL_model_intermediates',\n",
       " 'VIB_10xv2_2.FULL': 'models__screen__mallet/model_intermediates/VIB_10xv2_2.FULL_model_intermediates',\n",
       " 'VIB_hydrop_1.FULL': 'models__screen__mallet/model_intermediates/VIB_hydrop_1.FULL_model_intermediates',\n",
       " 'VIB_hydrop_11.FULL': 'models__screen__mallet/model_intermediates/VIB_hydrop_11.FULL_model_intermediates',\n",
       " 'VIB_hydrop_12.FULL': 'models__screen__mallet/model_intermediates/VIB_hydrop_12.FULL_model_intermediates',\n",
       " 'VIB_hydrop_2.FULL': 'models__screen__mallet/model_intermediates/VIB_hydrop_2.FULL_model_intermediates',\n",
       " 'VIB_hydrop_21.FULL': 'models__screen__mallet/model_intermediates/VIB_hydrop_21.FULL_model_intermediates',\n",
       " 'VIB_hydrop_22.FULL': 'models__screen__mallet/model_intermediates/VIB_hydrop_22.FULL_model_intermediates'}"
      ]
     },
     "execution_count": 135,
     "metadata": {},
     "output_type": "execute_result"
    }
   ],
   "source": [
    "intermediate_dict = {x.split('/')[-1].split('_model_intermediates')[0]: x for x in sorted(glob.glob(f'{f_mod_dir}/model_intermediates/*'))}\n",
    "intermediate_dict"
   ]
  },
  {
   "cell_type": "code",
   "execution_count": 136,
   "id": "0baf3426",
   "metadata": {
    "execution": {
     "iopub.execute_input": "2022-09-19T11:41:25.263391Z",
     "iopub.status.busy": "2022-09-19T11:41:25.262789Z",
     "iopub.status.idle": "2022-09-19T11:45:38.307823Z",
     "shell.execute_reply": "2022-09-19T11:45:38.306243Z",
     "shell.execute_reply.started": "2022-09-19T11:41:25.263351Z"
    },
    "papermill": {
     "duration": 0.011475,
     "end_time": "2022-08-20T22:37:23.524281",
     "exception": false,
     "start_time": "2022-08-20T22:37:23.512806",
     "status": "completed"
    },
    "tags": []
   },
   "outputs": [
    {
     "name": "stdout",
     "output_type": "stream",
     "text": [
      "29 models in models__screen__mallet/model_intermediates/BIO_ddseq_1.FULL_model_intermediates\n",
      "\tmodels__screen__mallet/BIO_ddseq_1.FULL__models_400_iter.pkl exists, skipping\n",
      "29 models in models__screen__mallet/model_intermediates/BIO_ddseq_2.FULL_model_intermediates\n",
      "\tmodels__screen__mallet/BIO_ddseq_2.FULL__models_400_iter.pkl exists, skipping\n",
      "29 models in models__screen__mallet/model_intermediates/BIO_ddseq_3.FULL_model_intermediates\n",
      "\tmodels__screen__mallet/BIO_ddseq_3.FULL__models_400_iter.pkl exists, skipping\n",
      "29 models in models__screen__mallet/model_intermediates/BIO_ddseq_4.FULL_model_intermediates\n",
      "\tmodels__screen__mallet/BIO_ddseq_4.FULL__models_400_iter.pkl exists, skipping\n",
      "29 models in models__screen__mallet/model_intermediates/BRO_mtscatac_1.FULL_model_intermediates\n",
      "\tmodels__screen__mallet/BRO_mtscatac_1.FULL__models_400_iter.pkl exists, skipping\n",
      "29 models in models__screen__mallet/model_intermediates/BRO_mtscatac_2.FULL_model_intermediates\n",
      "\tmodels__screen__mallet/BRO_mtscatac_2.FULL__models_400_iter.pkl exists, skipping\n",
      "29 models in models__screen__mallet/model_intermediates/CNA_10xv11_1.FULL_model_intermediates\n",
      "\tmodels__screen__mallet/CNA_10xv11_1.FULL__models_400_iter.pkl exists, skipping\n",
      "29 models in models__screen__mallet/model_intermediates/CNA_10xv11_2.FULL_model_intermediates\n",
      "\tmodels__screen__mallet/CNA_10xv11_2.FULL__models_400_iter.pkl exists, skipping\n",
      "29 models in models__screen__mallet/model_intermediates/CNA_10xv11_3.FULL_model_intermediates\n",
      "\tmodels__screen__mallet/CNA_10xv11_3.FULL__models_400_iter.pkl exists, skipping\n",
      "29 models in models__screen__mallet/model_intermediates/CNA_10xv11_4.FULL_model_intermediates\n",
      "\tmodels__screen__mallet/CNA_10xv11_4.FULL__models_400_iter.pkl exists, skipping\n",
      "29 models in models__screen__mallet/model_intermediates/CNA_10xv11_5.FULL_model_intermediates\n",
      "\tmodels__screen__mallet/CNA_10xv11_5.FULL__models_400_iter.pkl exists, skipping\n",
      "29 models in models__screen__mallet/model_intermediates/CNA_10xv2_1.FULL_model_intermediates\n",
      "\tmodels__screen__mallet/CNA_10xv2_1.FULL__models_400_iter.pkl exists, skipping\n",
      "29 models in models__screen__mallet/model_intermediates/CNA_10xv2_2.FULL_model_intermediates\n",
      "\tmodels__screen__mallet/CNA_10xv2_2.FULL__models_400_iter.pkl exists, skipping\n",
      "29 models in models__screen__mallet/model_intermediates/CNA_hydrop_1.FULL_model_intermediates\n",
      "\tmodels__screen__mallet/CNA_hydrop_1.FULL__models_400_iter.pkl exists, skipping\n",
      "29 models in models__screen__mallet/model_intermediates/CNA_hydrop_2.FULL_model_intermediates\n",
      "\tmodels__screen__mallet/CNA_hydrop_2.FULL__models_400_iter.pkl exists, skipping\n",
      "29 models in models__screen__mallet/model_intermediates/CNA_hydrop_3.FULL_model_intermediates\n",
      "\tmodels__screen__mallet/CNA_hydrop_3.FULL__models_400_iter.pkl exists, skipping\n",
      "29 models in models__screen__mallet/model_intermediates/CNA_mtscatac_1.FULL_model_intermediates\n",
      "\tmodels__screen__mallet/CNA_mtscatac_1.FULL__models_400_iter.pkl exists, skipping\n",
      "29 models in models__screen__mallet/model_intermediates/CNA_mtscatac_2.FULL_model_intermediates\n",
      "\tmodels__screen__mallet/CNA_mtscatac_2.FULL__models_400_iter.pkl exists, skipping\n",
      "29 models in models__screen__mallet/model_intermediates/EPF_hydrop_1.FULL_model_intermediates\n",
      "\tmodels__screen__mallet/EPF_hydrop_1.FULL__models_400_iter.pkl exists, skipping\n",
      "29 models in models__screen__mallet/model_intermediates/EPF_hydrop_2.FULL_model_intermediates\n",
      "\tmodels__screen__mallet/EPF_hydrop_2.FULL__models_400_iter.pkl exists, skipping\n",
      "29 models in models__screen__mallet/model_intermediates/EPF_hydrop_3.FULL_model_intermediates\n",
      "\tmodels__screen__mallet/EPF_hydrop_3.FULL__models_400_iter.pkl exists, skipping\n",
      "29 models in models__screen__mallet/model_intermediates/EPF_hydrop_4.FULL_model_intermediates\n",
      "\tmodels__screen__mallet/EPF_hydrop_4.FULL__models_400_iter.pkl exists, skipping\n",
      "29 models in models__screen__mallet/model_intermediates/HAR_ddseq_1.FULL_model_intermediates\n",
      "\tmodels__screen__mallet/HAR_ddseq_1.FULL__models_400_iter.pkl exists, skipping\n",
      "29 models in models__screen__mallet/model_intermediates/HAR_ddseq_2.FULL_model_intermediates\n",
      "\tmodels__screen__mallet/HAR_ddseq_2.FULL__models_400_iter.pkl exists, skipping\n",
      "29 models in models__screen__mallet/model_intermediates/MDC_mtscatac_1.FULL_model_intermediates\n",
      "\tmodels__screen__mallet/MDC_mtscatac_1.FULL__models_400_iter.pkl exists, skipping\n",
      "29 models in models__screen__mallet/model_intermediates/MDC_mtscatac_2.FULL_model_intermediates\n",
      "\tmodels__screen__mallet/MDC_mtscatac_2.FULL__models_400_iter.pkl exists, skipping\n",
      "29 models in models__screen__mallet/model_intermediates/SAN_10xmultiome_1.FULL_model_intermediates\n",
      "\tsaving at models__screen__mallet/SAN_10xmultiome_1.FULL__models_400_iter.pkl\n",
      "29 models in models__screen__mallet/model_intermediates/SAN_10xmultiome_2.FULL_model_intermediates\n",
      "\tsaving at models__screen__mallet/SAN_10xmultiome_2.FULL__models_400_iter.pkl\n",
      "29 models in models__screen__mallet/model_intermediates/STA_10xv11_1.FULL_model_intermediates\n",
      "\tsaving at models__screen__mallet/STA_10xv11_1.FULL__models_400_iter.pkl\n",
      "29 models in models__screen__mallet/model_intermediates/STA_10xv11_2.FULL_model_intermediates\n",
      "\tsaving at models__screen__mallet/STA_10xv11_2.FULL__models_400_iter.pkl\n",
      "29 models in models__screen__mallet/model_intermediates/VIB_10xmultiome_1.FULL_model_intermediates\n",
      "\tsaving at models__screen__mallet/VIB_10xmultiome_1.FULL__models_400_iter.pkl\n",
      "29 models in models__screen__mallet/model_intermediates/VIB_10xmultiome_2.FULL_model_intermediates\n",
      "\tsaving at models__screen__mallet/VIB_10xmultiome_2.FULL__models_400_iter.pkl\n",
      "29 models in models__screen__mallet/model_intermediates/VIB_10xv1_1.FULL_model_intermediates\n",
      "\tsaving at models__screen__mallet/VIB_10xv1_1.FULL__models_400_iter.pkl\n",
      "29 models in models__screen__mallet/model_intermediates/VIB_10xv1_2.FULL_model_intermediates\n",
      "\tsaving at models__screen__mallet/VIB_10xv1_2.FULL__models_400_iter.pkl\n",
      "29 models in models__screen__mallet/model_intermediates/VIB_10xv2_1.FULL_model_intermediates\n",
      "\tsaving at models__screen__mallet/VIB_10xv2_1.FULL__models_400_iter.pkl\n",
      "29 models in models__screen__mallet/model_intermediates/VIB_10xv2_2.FULL_model_intermediates\n",
      "\tsaving at models__screen__mallet/VIB_10xv2_2.FULL__models_400_iter.pkl\n",
      "29 models in models__screen__mallet/model_intermediates/VIB_hydrop_1.FULL_model_intermediates\n",
      "\tsaving at models__screen__mallet/VIB_hydrop_1.FULL__models_400_iter.pkl\n",
      "29 models in models__screen__mallet/model_intermediates/VIB_hydrop_11.FULL_model_intermediates\n",
      "\tsaving at models__screen__mallet/VIB_hydrop_11.FULL__models_400_iter.pkl\n",
      "29 models in models__screen__mallet/model_intermediates/VIB_hydrop_12.FULL_model_intermediates\n",
      "\tsaving at models__screen__mallet/VIB_hydrop_12.FULL__models_400_iter.pkl\n",
      "29 models in models__screen__mallet/model_intermediates/VIB_hydrop_2.FULL_model_intermediates\n",
      "\tsaving at models__screen__mallet/VIB_hydrop_2.FULL__models_400_iter.pkl\n",
      "29 models in models__screen__mallet/model_intermediates/VIB_hydrop_21.FULL_model_intermediates\n",
      "\tsaving at models__screen__mallet/VIB_hydrop_21.FULL__models_400_iter.pkl\n",
      "29 models in models__screen__mallet/model_intermediates/VIB_hydrop_22.FULL_model_intermediates\n",
      "\tsaving at models__screen__mallet/VIB_hydrop_22.FULL__models_400_iter.pkl\n"
     ]
    }
   ],
   "source": [
    "for sample, directory in intermediate_dict.items():\n",
    "    nmodels = len(os.listdir(directory))\n",
    "    print(f\"{nmodels} models in {directory}\")\n",
    "    save_path = f\"{f_mod_dir}/{sample}__models_{n_iter}_iter.pkl\"\n",
    "    if not os.path.exists(save_path):\n",
    "        file_list = sorted(os.listdir(directory))\n",
    "        n_topics = [int(x.split('Topic')[-1].split('.pkl')[0]) for x in file_list]\n",
    "        file_list_sorted = [file_list[x] for x in np.argsort(n_topics)]\n",
    "        \n",
    "        if len(os.listdir(directory)) == 29:\n",
    "            print(f\"\\tsaving at {save_path}\")\n",
    "\n",
    "            models_merged = [pickle.load(open(f\"{directory}/{file}\", 'rb')) for file in file_list_sorted]\n",
    "\n",
    "            with open(save_path, \"wb\") as f:\n",
    "                    pickle.dump(models_merged, f, protocol=4)\n",
    "                    \n",
    "        else:\n",
    "            print(f'\\tn_models < {n_models}, {len(sorted(os.listdir(directory)))}')\n",
    "    else:\n",
    "        print(f\"\\t{save_path} exists, skipping\")"
   ]
  },
  {
   "cell_type": "code",
   "execution_count": 137,
   "id": "31c6e736",
   "metadata": {
    "execution": {
     "iopub.execute_input": "2022-09-19T11:45:38.310982Z",
     "iopub.status.busy": "2022-09-19T11:45:38.310694Z",
     "iopub.status.idle": "2022-09-19T11:45:38.317928Z",
     "shell.execute_reply": "2022-09-19T11:45:38.316586Z",
     "shell.execute_reply.started": "2022-09-19T11:45:38.310956Z"
    },
    "papermill": {
     "duration": 3.276807,
     "end_time": "2022-08-20T22:37:26.812513",
     "exception": false,
     "start_time": "2022-08-20T22:37:23.535706",
     "status": "completed"
    },
    "tags": []
   },
   "outputs": [],
   "source": [
    "from pycisTopic.lda_models import evaluate_models\n",
    "import matplotlib.pyplot as plt"
   ]
  },
  {
   "cell_type": "code",
   "execution_count": 138,
   "id": "1e2bf926",
   "metadata": {
    "execution": {
     "iopub.execute_input": "2022-09-19T11:45:38.319016Z",
     "iopub.status.busy": "2022-09-19T11:45:38.318814Z",
     "iopub.status.idle": "2022-09-19T11:45:38.331681Z",
     "shell.execute_reply": "2022-09-19T11:45:38.331260Z",
     "shell.execute_reply.started": "2022-09-19T11:45:38.318997Z"
    },
    "papermill": {
     "duration": 0.01192,
     "end_time": "2022-08-20T22:37:26.836622",
     "exception": false,
     "start_time": "2022-08-20T22:37:26.824702",
     "status": "completed"
    },
    "tags": []
   },
   "outputs": [
    {
     "data": {
      "text/plain": [
       "{'BIO_ddseq_1.FULL': 'cistopic_objects/BIO_ddseq_1.FULL__cto.scrublet0-4.fmx.singlets.pkl',\n",
       " 'BIO_ddseq_2.FULL': 'cistopic_objects/BIO_ddseq_2.FULL__cto.scrublet0-4.fmx.singlets.pkl',\n",
       " 'BIO_ddseq_3.FULL': 'cistopic_objects/BIO_ddseq_3.FULL__cto.scrublet0-4.fmx.singlets.pkl',\n",
       " 'BIO_ddseq_4.FULL': 'cistopic_objects/BIO_ddseq_4.FULL__cto.scrublet0-4.fmx.singlets.pkl',\n",
       " 'BRO_mtscatac_1.FULL': 'cistopic_objects/BRO_mtscatac_1.FULL__cto.scrublet0-4.fmx.singlets.pkl',\n",
       " 'BRO_mtscatac_2.FULL': 'cistopic_objects/BRO_mtscatac_2.FULL__cto.scrublet0-4.fmx.singlets.pkl',\n",
       " 'CNA_10xv11_1.FULL': 'cistopic_objects/CNA_10xv11_1.FULL__cto.scrublet0-4.fmx.singlets.pkl',\n",
       " 'CNA_10xv11_2.FULL': 'cistopic_objects/CNA_10xv11_2.FULL__cto.scrublet0-4.fmx.singlets.pkl',\n",
       " 'CNA_10xv11_3.FULL': 'cistopic_objects/CNA_10xv11_3.FULL__cto.scrublet0-4.fmx.singlets.pkl',\n",
       " 'CNA_10xv11_4.FULL': 'cistopic_objects/CNA_10xv11_4.FULL__cto.scrublet0-4.fmx.singlets.pkl',\n",
       " 'CNA_10xv11_5.FULL': 'cistopic_objects/CNA_10xv11_5.FULL__cto.scrublet0-4.fmx.singlets.pkl',\n",
       " 'CNA_10xv2_1.FULL': 'cistopic_objects/CNA_10xv2_1.FULL__cto.scrublet0-4.fmx.singlets.pkl',\n",
       " 'CNA_10xv2_2.FULL': 'cistopic_objects/CNA_10xv2_2.FULL__cto.scrublet0-4.fmx.singlets.pkl',\n",
       " 'CNA_hydrop_1.FULL': 'cistopic_objects/CNA_hydrop_1.FULL__cto.scrublet0-4.fmx.singlets.pkl',\n",
       " 'CNA_hydrop_2.FULL': 'cistopic_objects/CNA_hydrop_2.FULL__cto.scrublet0-4.fmx.singlets.pkl',\n",
       " 'CNA_hydrop_3.FULL': 'cistopic_objects/CNA_hydrop_3.FULL__cto.scrublet0-4.fmx.singlets.pkl',\n",
       " 'CNA_mtscatac_1.FULL': 'cistopic_objects/CNA_mtscatac_1.FULL__cto.scrublet0-4.fmx.singlets.pkl',\n",
       " 'CNA_mtscatac_2.FULL': 'cistopic_objects/CNA_mtscatac_2.FULL__cto.scrublet0-4.fmx.singlets.pkl',\n",
       " 'EPF_hydrop_1.FULL': 'cistopic_objects/EPF_hydrop_1.FULL__cto.scrublet0-4.fmx.singlets.pkl',\n",
       " 'EPF_hydrop_2.FULL': 'cistopic_objects/EPF_hydrop_2.FULL__cto.scrublet0-4.fmx.singlets.pkl',\n",
       " 'EPF_hydrop_3.FULL': 'cistopic_objects/EPF_hydrop_3.FULL__cto.scrublet0-4.fmx.singlets.pkl',\n",
       " 'EPF_hydrop_4.FULL': 'cistopic_objects/EPF_hydrop_4.FULL__cto.scrublet0-4.fmx.singlets.pkl',\n",
       " 'HAR_ddseq_1.FULL': 'cistopic_objects/HAR_ddseq_1.FULL__cto.scrublet0-4.fmx.singlets.pkl',\n",
       " 'HAR_ddseq_2.FULL': 'cistopic_objects/HAR_ddseq_2.FULL__cto.scrublet0-4.fmx.singlets.pkl',\n",
       " 'MDC_mtscatac_1.FULL': 'cistopic_objects/MDC_mtscatac_1.FULL__cto.scrublet0-4.fmx.singlets.pkl',\n",
       " 'MDC_mtscatac_2.FULL': 'cistopic_objects/MDC_mtscatac_2.FULL__cto.scrublet0-4.fmx.singlets.pkl',\n",
       " 'SAN_10xmultiome_1.FULL': 'cistopic_objects/SAN_10xmultiome_1.FULL__cto.scrublet0-4.fmx.singlets.pkl',\n",
       " 'SAN_10xmultiome_2.FULL': 'cistopic_objects/SAN_10xmultiome_2.FULL__cto.scrublet0-4.fmx.singlets.pkl',\n",
       " 'STA_10xv11_1.FULL': 'cistopic_objects/STA_10xv11_1.FULL__cto.scrublet0-4.fmx.singlets.pkl',\n",
       " 'STA_10xv11_2.FULL': 'cistopic_objects/STA_10xv11_2.FULL__cto.scrublet0-4.fmx.singlets.pkl',\n",
       " 'VIB_10xmultiome_1.FULL': 'cistopic_objects/VIB_10xmultiome_1.FULL__cto.scrublet0-4.fmx.singlets.pkl',\n",
       " 'VIB_10xmultiome_2.FULL': 'cistopic_objects/VIB_10xmultiome_2.FULL__cto.scrublet0-4.fmx.singlets.pkl',\n",
       " 'VIB_10xv1_1.FULL': 'cistopic_objects/VIB_10xv1_1.FULL__cto.scrublet0-4.fmx.singlets.pkl',\n",
       " 'VIB_10xv1_2.FULL': 'cistopic_objects/VIB_10xv1_2.FULL__cto.scrublet0-4.fmx.singlets.pkl',\n",
       " 'VIB_10xv2_1.FULL': 'cistopic_objects/VIB_10xv2_1.FULL__cto.scrublet0-4.fmx.singlets.pkl',\n",
       " 'VIB_10xv2_2.FULL': 'cistopic_objects/VIB_10xv2_2.FULL__cto.scrublet0-4.fmx.singlets.pkl',\n",
       " 'VIB_hydrop_1.FULL': 'cistopic_objects/VIB_hydrop_1.FULL__cto.scrublet0-4.fmx.singlets.pkl',\n",
       " 'VIB_hydrop_11.FULL': 'cistopic_objects/VIB_hydrop_11.FULL__cto.scrublet0-4.fmx.singlets.pkl',\n",
       " 'VIB_hydrop_12.FULL': 'cistopic_objects/VIB_hydrop_12.FULL__cto.scrublet0-4.fmx.singlets.pkl',\n",
       " 'VIB_hydrop_2.FULL': 'cistopic_objects/VIB_hydrop_2.FULL__cto.scrublet0-4.fmx.singlets.pkl',\n",
       " 'VIB_hydrop_21.FULL': 'cistopic_objects/VIB_hydrop_21.FULL__cto.scrublet0-4.fmx.singlets.pkl',\n",
       " 'VIB_hydrop_22.FULL': 'cistopic_objects/VIB_hydrop_22.FULL__cto.scrublet0-4.fmx.singlets.pkl'}"
      ]
     },
     "execution_count": 138,
     "metadata": {},
     "output_type": "execute_result"
    }
   ],
   "source": [
    "scrub_name_suffix = \"0-4\"\n",
    "cto_paths = sorted(glob.glob(f'cistopic_objects/*__cto.scrublet{scrub_name_suffix}.fmx.singlets.pkl'))\n",
    "cto_singlets_path_dict = {x.split('/')[-1].split(f'__cto.scrublet{scrub_name_suffix}.fmx.singlets.pkl')[0]:x for x in cto_paths}\n",
    "cto_singlets_path_dict"
   ]
  },
  {
   "cell_type": "code",
   "execution_count": 139,
   "id": "865a5d14",
   "metadata": {
    "execution": {
     "iopub.execute_input": "2022-09-19T11:45:38.333480Z",
     "iopub.status.busy": "2022-09-19T11:45:38.333153Z",
     "iopub.status.idle": "2022-09-19T11:45:38.336590Z",
     "shell.execute_reply": "2022-09-19T11:45:38.336109Z",
     "shell.execute_reply.started": "2022-09-19T11:45:38.333461Z"
    },
    "papermill": {
     "duration": 0.011877,
     "end_time": "2022-08-20T22:37:26.860640",
     "exception": false,
     "start_time": "2022-08-20T22:37:26.848763",
     "status": "completed"
    },
    "tags": []
   },
   "outputs": [],
   "source": [
    "n_iter = 400"
   ]
  },
  {
   "cell_type": "code",
   "execution_count": 140,
   "id": "b85f0b5c",
   "metadata": {
    "execution": {
     "iopub.execute_input": "2022-09-19T11:45:38.337692Z",
     "iopub.status.busy": "2022-09-19T11:45:38.337388Z",
     "iopub.status.idle": "2022-09-19T11:45:38.362250Z",
     "shell.execute_reply": "2022-09-19T11:45:38.361765Z",
     "shell.execute_reply.started": "2022-09-19T11:45:38.337672Z"
    },
    "papermill": {
     "duration": 0.011336,
     "end_time": "2022-08-20T22:37:26.883287",
     "exception": false,
     "start_time": "2022-08-20T22:37:26.871951",
     "status": "completed"
    },
    "tags": []
   },
   "outputs": [
    {
     "data": {
      "text/plain": [
       "{'BIO_ddseq_1.FULL': 'models__screen__mallet/BIO_ddseq_1.FULL__models_400_iter.pkl',\n",
       " 'BIO_ddseq_2.FULL': 'models__screen__mallet/BIO_ddseq_2.FULL__models_400_iter.pkl',\n",
       " 'BIO_ddseq_3.FULL': 'models__screen__mallet/BIO_ddseq_3.FULL__models_400_iter.pkl',\n",
       " 'BIO_ddseq_4.FULL': 'models__screen__mallet/BIO_ddseq_4.FULL__models_400_iter.pkl',\n",
       " 'BRO_mtscatac_1.FULL': 'models__screen__mallet/BRO_mtscatac_1.FULL__models_400_iter.pkl',\n",
       " 'BRO_mtscatac_2.FULL': 'models__screen__mallet/BRO_mtscatac_2.FULL__models_400_iter.pkl',\n",
       " 'CNA_10xv11_1.FULL': 'models__screen__mallet/CNA_10xv11_1.FULL__models_400_iter.pkl',\n",
       " 'CNA_10xv11_2.FULL': 'models__screen__mallet/CNA_10xv11_2.FULL__models_400_iter.pkl',\n",
       " 'CNA_10xv11_3.FULL': 'models__screen__mallet/CNA_10xv11_3.FULL__models_400_iter.pkl',\n",
       " 'CNA_10xv11_4.FULL': 'models__screen__mallet/CNA_10xv11_4.FULL__models_400_iter.pkl',\n",
       " 'CNA_10xv11_5.FULL': 'models__screen__mallet/CNA_10xv11_5.FULL__models_400_iter.pkl',\n",
       " 'CNA_10xv2_1.FULL': 'models__screen__mallet/CNA_10xv2_1.FULL__models_400_iter.pkl',\n",
       " 'CNA_10xv2_2.FULL': 'models__screen__mallet/CNA_10xv2_2.FULL__models_400_iter.pkl',\n",
       " 'CNA_hydrop_1.FULL': 'models__screen__mallet/CNA_hydrop_1.FULL__models_400_iter.pkl',\n",
       " 'CNA_hydrop_2.FULL': 'models__screen__mallet/CNA_hydrop_2.FULL__models_400_iter.pkl',\n",
       " 'CNA_hydrop_3.FULL': 'models__screen__mallet/CNA_hydrop_3.FULL__models_400_iter.pkl',\n",
       " 'CNA_mtscatac_1.FULL': 'models__screen__mallet/CNA_mtscatac_1.FULL__models_400_iter.pkl',\n",
       " 'CNA_mtscatac_2.FULL': 'models__screen__mallet/CNA_mtscatac_2.FULL__models_400_iter.pkl',\n",
       " 'EPF_hydrop_1.FULL': 'models__screen__mallet/EPF_hydrop_1.FULL__models_400_iter.pkl',\n",
       " 'EPF_hydrop_2.FULL': 'models__screen__mallet/EPF_hydrop_2.FULL__models_400_iter.pkl',\n",
       " 'EPF_hydrop_3.FULL': 'models__screen__mallet/EPF_hydrop_3.FULL__models_400_iter.pkl',\n",
       " 'EPF_hydrop_4.FULL': 'models__screen__mallet/EPF_hydrop_4.FULL__models_400_iter.pkl',\n",
       " 'HAR_ddseq_1.FULL': 'models__screen__mallet/HAR_ddseq_1.FULL__models_400_iter.pkl',\n",
       " 'HAR_ddseq_2.FULL': 'models__screen__mallet/HAR_ddseq_2.FULL__models_400_iter.pkl',\n",
       " 'MDC_mtscatac_1.FULL': 'models__screen__mallet/MDC_mtscatac_1.FULL__models_400_iter.pkl',\n",
       " 'MDC_mtscatac_2.FULL': 'models__screen__mallet/MDC_mtscatac_2.FULL__models_400_iter.pkl',\n",
       " 'SAN_10xmultiome_1.FULL': 'models__screen__mallet/SAN_10xmultiome_1.FULL__models_400_iter.pkl',\n",
       " 'SAN_10xmultiome_2.FULL': 'models__screen__mallet/SAN_10xmultiome_2.FULL__models_400_iter.pkl',\n",
       " 'STA_10xv11_1.FULL': 'models__screen__mallet/STA_10xv11_1.FULL__models_400_iter.pkl',\n",
       " 'STA_10xv11_2.FULL': 'models__screen__mallet/STA_10xv11_2.FULL__models_400_iter.pkl',\n",
       " 'VIB_10xmultiome_1.FULL': 'models__screen__mallet/VIB_10xmultiome_1.FULL__models_400_iter.pkl',\n",
       " 'VIB_10xmultiome_2.FULL': 'models__screen__mallet/VIB_10xmultiome_2.FULL__models_400_iter.pkl',\n",
       " 'VIB_10xv1_1.FULL': 'models__screen__mallet/VIB_10xv1_1.FULL__models_400_iter.pkl',\n",
       " 'VIB_10xv1_2.FULL': 'models__screen__mallet/VIB_10xv1_2.FULL__models_400_iter.pkl',\n",
       " 'VIB_10xv2_1.FULL': 'models__screen__mallet/VIB_10xv2_1.FULL__models_400_iter.pkl',\n",
       " 'VIB_10xv2_2.FULL': 'models__screen__mallet/VIB_10xv2_2.FULL__models_400_iter.pkl',\n",
       " 'VIB_hydrop_1.FULL': 'models__screen__mallet/VIB_hydrop_1.FULL__models_400_iter.pkl',\n",
       " 'VIB_hydrop_11.FULL': 'models__screen__mallet/VIB_hydrop_11.FULL__models_400_iter.pkl',\n",
       " 'VIB_hydrop_12.FULL': 'models__screen__mallet/VIB_hydrop_12.FULL__models_400_iter.pkl',\n",
       " 'VIB_hydrop_2.FULL': 'models__screen__mallet/VIB_hydrop_2.FULL__models_400_iter.pkl',\n",
       " 'VIB_hydrop_21.FULL': 'models__screen__mallet/VIB_hydrop_21.FULL__models_400_iter.pkl',\n",
       " 'VIB_hydrop_22.FULL': 'models__screen__mallet/VIB_hydrop_22.FULL__models_400_iter.pkl'}"
      ]
     },
     "execution_count": 140,
     "metadata": {},
     "output_type": "execute_result"
    }
   ],
   "source": [
    "models_path_dict = {x.split('/')[-1].split(f'__models_{n_iter}_iter.pkl')[0]: x for x in sorted(glob.glob(f'{f_mod_dir}/*{n_iter}_iter.pkl'))}\n",
    "models_path_dict"
   ]
  },
  {
   "cell_type": "markdown",
   "id": "4018582b",
   "metadata": {
    "papermill": {
     "duration": 0.017495,
     "end_time": "2022-08-20T22:37:26.913054",
     "exception": false,
     "start_time": "2022-08-20T22:37:26.895559",
     "status": "completed"
    },
    "tags": []
   },
   "source": [
    "We need to minimize Arun, minimize Cao & Juan, maximize Mimno & maximize log likelihood"
   ]
  },
  {
   "cell_type": "code",
   "execution_count": 141,
   "id": "47637914",
   "metadata": {
    "execution": {
     "iopub.execute_input": "2022-09-19T11:45:38.363413Z",
     "iopub.status.busy": "2022-09-19T11:45:38.363217Z",
     "iopub.status.idle": "2022-09-19T11:45:38.367292Z",
     "shell.execute_reply": "2022-09-19T11:45:38.366675Z",
     "shell.execute_reply.started": "2022-09-19T11:45:38.363396Z"
    },
    "tags": []
   },
   "outputs": [
    {
     "data": {
      "text/plain": [
       "42"
      ]
     },
     "execution_count": 141,
     "metadata": {},
     "output_type": "execute_result"
    }
   ],
   "source": [
    "len(models_path_dict)"
   ]
  },
  {
   "cell_type": "code",
   "execution_count": 152,
   "id": "1f7b7329",
   "metadata": {
    "execution": {
     "iopub.execute_input": "2022-09-19T11:56:02.221784Z",
     "iopub.status.busy": "2022-09-19T11:56:02.221057Z",
     "iopub.status.idle": "2022-09-19T11:56:02.231854Z",
     "shell.execute_reply": "2022-09-19T11:56:02.231053Z",
     "shell.execute_reply.started": "2022-09-19T11:56:02.221723Z"
    },
    "papermill": {
     "duration": 0.011429,
     "end_time": "2022-08-20T22:37:26.941300",
     "exception": false,
     "start_time": "2022-08-20T22:37:26.929871",
     "status": "completed"
    },
    "tags": []
   },
   "outputs": [],
   "source": [
    "optimal_topics_dict = {'BIO_ddseq_1.FULL': 20,\n",
    " 'BIO_ddseq_2.FULL': 20,\n",
    " 'BIO_ddseq_3.FULL': 21,\n",
    " 'BIO_ddseq_4.FULL': 19,\n",
    " 'BRO_mtscatac_1.FULL': 18,\n",
    " 'BRO_mtscatac_2.FULL': 16,\n",
    " 'CNA_10xv11_1.FULL': 21,\n",
    " 'CNA_10xv11_2.FULL': 16,\n",
    " 'CNA_10xv11_3.FULL': 22,\n",
    " 'CNA_10xv11_4.FULL': 14,\n",
    " 'CNA_10xv11_5.FULL': 11,\n",
    " 'CNA_10xv2_1.FULL': 11,\n",
    " 'CNA_10xv2_2.FULL': 11,\n",
    " 'CNA_hydrop_1.FULL': 18,\n",
    " 'CNA_hydrop_2.FULL': 10,\n",
    " 'CNA_hydrop_3.FULL': 14,\n",
    " 'CNA_mtscatac_1.FULL': 11,\n",
    " 'CNA_mtscatac_2.FULL': 11,\n",
    " 'EPF_hydrop_1.FULL': 13,\n",
    " 'EPF_hydrop_2.FULL': 14,\n",
    " 'EPF_hydrop_3.FULL': 15,\n",
    " 'EPF_hydrop_4.FULL': 16,\n",
    " 'HAR_ddseq_1.FULL': 15,\n",
    " 'HAR_ddseq_2.FULL': 14,\n",
    " 'MDC_mtscatac_1.FULL': 14,\n",
    " 'MDC_mtscatac_2.FULL': 23,\n",
    " 'SAN_10xmultiome_1.FULL': 16,\n",
    " 'SAN_10xmultiome_2.FULL': 10,\n",
    " 'STA_10xv11_1.FULL': 13,\n",
    " 'STA_10xv11_2.FULL': 14,\n",
    " 'VIB_10xmultiome_1.FULL': 15,\n",
    " 'VIB_10xmultiome_2.FULL': 20,\n",
    " 'VIB_10xv1_1.FULL': 15,\n",
    " 'VIB_10xv1_2.FULL': 25,\n",
    " 'VIB_10xv2_1.FULL': 19,\n",
    " 'VIB_10xv2_2.FULL': 21,\n",
    " 'VIB_hydrop_1.FULL': 26,\n",
    " 'VIB_hydrop_2.FULL': 23}"
   ]
  },
  {
   "cell_type": "code",
   "execution_count": 143,
   "id": "d27617ff",
   "metadata": {
    "execution": {
     "iopub.execute_input": "2022-09-19T11:45:38.374285Z",
     "iopub.status.busy": "2022-09-19T11:45:38.373712Z",
     "iopub.status.idle": "2022-09-19T11:45:38.381986Z",
     "shell.execute_reply": "2022-09-19T11:45:38.381459Z",
     "shell.execute_reply.started": "2022-09-19T11:45:38.374265Z"
    },
    "papermill": {
     "duration": 0.011386,
     "end_time": "2022-08-20T22:37:26.964005",
     "exception": false,
     "start_time": "2022-08-20T22:37:26.952619",
     "status": "completed"
    },
    "tags": []
   },
   "outputs": [
    {
     "name": "stdout",
     "output_type": "stream",
     "text": [
      "BIO_ddseq_1.FULL in optimal_topics_dict\n",
      "BIO_ddseq_2.FULL in optimal_topics_dict\n",
      "BIO_ddseq_3.FULL in optimal_topics_dict\n",
      "BIO_ddseq_4.FULL in optimal_topics_dict\n",
      "BRO_mtscatac_1.FULL in optimal_topics_dict\n",
      "BRO_mtscatac_2.FULL in optimal_topics_dict\n",
      "CNA_10xv11_1.FULL in optimal_topics_dict\n",
      "CNA_10xv11_2.FULL in optimal_topics_dict\n",
      "CNA_10xv11_3.FULL in optimal_topics_dict\n",
      "CNA_10xv11_4.FULL in optimal_topics_dict\n",
      "CNA_10xv11_5.FULL in optimal_topics_dict\n",
      "CNA_10xv2_1.FULL in optimal_topics_dict\n",
      "CNA_10xv2_2.FULL in optimal_topics_dict\n",
      "CNA_hydrop_1.FULL in optimal_topics_dict\n",
      "CNA_hydrop_2.FULL in optimal_topics_dict\n",
      "CNA_hydrop_3.FULL in optimal_topics_dict\n",
      "CNA_mtscatac_1.FULL in optimal_topics_dict\n",
      "CNA_mtscatac_2.FULL in optimal_topics_dict\n",
      "EPF_hydrop_1.FULL in optimal_topics_dict\n",
      "EPF_hydrop_2.FULL in optimal_topics_dict\n",
      "EPF_hydrop_3.FULL in optimal_topics_dict\n",
      "EPF_hydrop_4.FULL in optimal_topics_dict\n",
      "HAR_ddseq_1.FULL in optimal_topics_dict\n",
      "HAR_ddseq_2.FULL in optimal_topics_dict\n",
      "MDC_mtscatac_1.FULL in optimal_topics_dict\n",
      "MDC_mtscatac_2.FULL in optimal_topics_dict\n",
      "adding SAN_10xmultiome_1.FULL\n",
      "adding SAN_10xmultiome_2.FULL\n",
      "adding STA_10xv11_1.FULL\n",
      "adding STA_10xv11_2.FULL\n",
      "adding VIB_10xmultiome_1.FULL\n",
      "adding VIB_10xmultiome_2.FULL\n",
      "adding VIB_10xv1_1.FULL\n",
      "adding VIB_10xv1_2.FULL\n",
      "adding VIB_10xv2_1.FULL\n",
      "adding VIB_10xv2_2.FULL\n",
      "adding VIB_hydrop_1.FULL\n",
      "adding VIB_hydrop_11.FULL\n",
      "adding VIB_hydrop_12.FULL\n",
      "adding VIB_hydrop_2.FULL\n",
      "adding VIB_hydrop_21.FULL\n",
      "adding VIB_hydrop_22.FULL\n"
     ]
    },
    {
     "data": {
      "text/plain": [
       "{'BIO_ddseq_1.FULL': 20,\n",
       " 'BIO_ddseq_2.FULL': 20,\n",
       " 'BIO_ddseq_3.FULL': 21,\n",
       " 'BIO_ddseq_4.FULL': 19,\n",
       " 'BRO_mtscatac_1.FULL': 18,\n",
       " 'BRO_mtscatac_2.FULL': 16,\n",
       " 'CNA_10xv11_1.FULL': 21,\n",
       " 'CNA_10xv11_2.FULL': 16,\n",
       " 'CNA_10xv11_3.FULL': 22,\n",
       " 'CNA_10xv11_4.FULL': 14,\n",
       " 'CNA_10xv11_5.FULL': 11,\n",
       " 'CNA_10xv2_1.FULL': 11,\n",
       " 'CNA_10xv2_2.FULL': 11,\n",
       " 'CNA_hydrop_1.FULL': 18,\n",
       " 'CNA_hydrop_2.FULL': 10,\n",
       " 'CNA_hydrop_3.FULL': 14,\n",
       " 'CNA_mtscatac_1.FULL': 11,\n",
       " 'CNA_mtscatac_2.FULL': 11,\n",
       " 'EPF_hydrop_1.FULL': 13,\n",
       " 'EPF_hydrop_2.FULL': 14,\n",
       " 'EPF_hydrop_3.FULL': 15,\n",
       " 'EPF_hydrop_4.FULL': 16,\n",
       " 'HAR_ddseq_1.FULL': 15,\n",
       " 'HAR_ddseq_2.FULL': 14,\n",
       " 'MDC_mtscatac_1.FULL': 14,\n",
       " 'MDC_mtscatac_2.FULL': 23,\n",
       " 'SAN_10xmultiome_1.FULL': 10,\n",
       " 'SAN_10xmultiome_2.FULL': 10,\n",
       " 'STA_10xv11_1.FULL': 10,\n",
       " 'STA_10xv11_2.FULL': 10,\n",
       " 'VIB_10xmultiome_1.FULL': 10,\n",
       " 'VIB_10xmultiome_2.FULL': 10,\n",
       " 'VIB_10xv1_1.FULL': 10,\n",
       " 'VIB_10xv1_2.FULL': 10,\n",
       " 'VIB_10xv2_1.FULL': 10,\n",
       " 'VIB_10xv2_2.FULL': 10,\n",
       " 'VIB_hydrop_1.FULL': 10,\n",
       " 'VIB_hydrop_11.FULL': 10,\n",
       " 'VIB_hydrop_12.FULL': 10,\n",
       " 'VIB_hydrop_2.FULL': 10,\n",
       " 'VIB_hydrop_21.FULL': 10,\n",
       " 'VIB_hydrop_22.FULL': 10}"
      ]
     },
     "execution_count": 143,
     "metadata": {},
     "output_type": "execute_result"
    }
   ],
   "source": [
    "for sample in cto_singlets_path_dict.keys():\n",
    "    if sample not in optimal_topics_dict.keys():\n",
    "        print(f\"adding {sample}\")\n",
    "        optimal_topics_dict[sample] = 10\n",
    "    else:\n",
    "        print(f\"{sample} in optimal_topics_dict\")\n",
    "\n",
    "optimal_topics_dict"
   ]
  },
  {
   "cell_type": "code",
   "execution_count": 144,
   "id": "79b2648b",
   "metadata": {
    "execution": {
     "iopub.execute_input": "2022-09-19T11:45:38.383024Z",
     "iopub.status.busy": "2022-09-19T11:45:38.382740Z",
     "iopub.status.idle": "2022-09-19T11:45:38.387080Z",
     "shell.execute_reply": "2022-09-19T11:45:38.386556Z",
     "shell.execute_reply.started": "2022-09-19T11:45:38.383005Z"
    },
    "tags": []
   },
   "outputs": [],
   "source": [
    "from pycisTopic.lda_models import evaluate_models\n",
    "import matplotlib.pyplot as plt"
   ]
  },
  {
   "cell_type": "code",
   "execution_count": 145,
   "id": "bff7e699",
   "metadata": {
    "execution": {
     "iopub.execute_input": "2022-09-19T11:45:38.389024Z",
     "iopub.status.busy": "2022-09-19T11:45:38.388746Z",
     "iopub.status.idle": "2022-09-19T11:45:38.394426Z",
     "shell.execute_reply": "2022-09-19T11:45:38.393917Z",
     "shell.execute_reply.started": "2022-09-19T11:45:38.389005Z"
    },
    "tags": []
   },
   "outputs": [
    {
     "data": {
      "text/plain": [
       "{'BIO_ddseq_1.FULL': 'cistopic_objects/BIO_ddseq_1.FULL__cto.scrublet0-4.fmx.singlets.pkl',\n",
       " 'BIO_ddseq_2.FULL': 'cistopic_objects/BIO_ddseq_2.FULL__cto.scrublet0-4.fmx.singlets.pkl',\n",
       " 'BIO_ddseq_3.FULL': 'cistopic_objects/BIO_ddseq_3.FULL__cto.scrublet0-4.fmx.singlets.pkl',\n",
       " 'BIO_ddseq_4.FULL': 'cistopic_objects/BIO_ddseq_4.FULL__cto.scrublet0-4.fmx.singlets.pkl',\n",
       " 'BRO_mtscatac_1.FULL': 'cistopic_objects/BRO_mtscatac_1.FULL__cto.scrublet0-4.fmx.singlets.pkl',\n",
       " 'BRO_mtscatac_2.FULL': 'cistopic_objects/BRO_mtscatac_2.FULL__cto.scrublet0-4.fmx.singlets.pkl',\n",
       " 'CNA_10xv11_1.FULL': 'cistopic_objects/CNA_10xv11_1.FULL__cto.scrublet0-4.fmx.singlets.pkl',\n",
       " 'CNA_10xv11_2.FULL': 'cistopic_objects/CNA_10xv11_2.FULL__cto.scrublet0-4.fmx.singlets.pkl',\n",
       " 'CNA_10xv11_3.FULL': 'cistopic_objects/CNA_10xv11_3.FULL__cto.scrublet0-4.fmx.singlets.pkl',\n",
       " 'CNA_10xv11_4.FULL': 'cistopic_objects/CNA_10xv11_4.FULL__cto.scrublet0-4.fmx.singlets.pkl',\n",
       " 'CNA_10xv11_5.FULL': 'cistopic_objects/CNA_10xv11_5.FULL__cto.scrublet0-4.fmx.singlets.pkl',\n",
       " 'CNA_10xv2_1.FULL': 'cistopic_objects/CNA_10xv2_1.FULL__cto.scrublet0-4.fmx.singlets.pkl',\n",
       " 'CNA_10xv2_2.FULL': 'cistopic_objects/CNA_10xv2_2.FULL__cto.scrublet0-4.fmx.singlets.pkl',\n",
       " 'CNA_hydrop_1.FULL': 'cistopic_objects/CNA_hydrop_1.FULL__cto.scrublet0-4.fmx.singlets.pkl',\n",
       " 'CNA_hydrop_2.FULL': 'cistopic_objects/CNA_hydrop_2.FULL__cto.scrublet0-4.fmx.singlets.pkl',\n",
       " 'CNA_hydrop_3.FULL': 'cistopic_objects/CNA_hydrop_3.FULL__cto.scrublet0-4.fmx.singlets.pkl',\n",
       " 'CNA_mtscatac_1.FULL': 'cistopic_objects/CNA_mtscatac_1.FULL__cto.scrublet0-4.fmx.singlets.pkl',\n",
       " 'CNA_mtscatac_2.FULL': 'cistopic_objects/CNA_mtscatac_2.FULL__cto.scrublet0-4.fmx.singlets.pkl',\n",
       " 'EPF_hydrop_1.FULL': 'cistopic_objects/EPF_hydrop_1.FULL__cto.scrublet0-4.fmx.singlets.pkl',\n",
       " 'EPF_hydrop_2.FULL': 'cistopic_objects/EPF_hydrop_2.FULL__cto.scrublet0-4.fmx.singlets.pkl',\n",
       " 'EPF_hydrop_3.FULL': 'cistopic_objects/EPF_hydrop_3.FULL__cto.scrublet0-4.fmx.singlets.pkl',\n",
       " 'EPF_hydrop_4.FULL': 'cistopic_objects/EPF_hydrop_4.FULL__cto.scrublet0-4.fmx.singlets.pkl',\n",
       " 'HAR_ddseq_1.FULL': 'cistopic_objects/HAR_ddseq_1.FULL__cto.scrublet0-4.fmx.singlets.pkl',\n",
       " 'HAR_ddseq_2.FULL': 'cistopic_objects/HAR_ddseq_2.FULL__cto.scrublet0-4.fmx.singlets.pkl',\n",
       " 'MDC_mtscatac_1.FULL': 'cistopic_objects/MDC_mtscatac_1.FULL__cto.scrublet0-4.fmx.singlets.pkl',\n",
       " 'MDC_mtscatac_2.FULL': 'cistopic_objects/MDC_mtscatac_2.FULL__cto.scrublet0-4.fmx.singlets.pkl',\n",
       " 'SAN_10xmultiome_1.FULL': 'cistopic_objects/SAN_10xmultiome_1.FULL__cto.scrublet0-4.fmx.singlets.pkl',\n",
       " 'SAN_10xmultiome_2.FULL': 'cistopic_objects/SAN_10xmultiome_2.FULL__cto.scrublet0-4.fmx.singlets.pkl',\n",
       " 'STA_10xv11_1.FULL': 'cistopic_objects/STA_10xv11_1.FULL__cto.scrublet0-4.fmx.singlets.pkl',\n",
       " 'STA_10xv11_2.FULL': 'cistopic_objects/STA_10xv11_2.FULL__cto.scrublet0-4.fmx.singlets.pkl',\n",
       " 'VIB_10xmultiome_1.FULL': 'cistopic_objects/VIB_10xmultiome_1.FULL__cto.scrublet0-4.fmx.singlets.pkl',\n",
       " 'VIB_10xmultiome_2.FULL': 'cistopic_objects/VIB_10xmultiome_2.FULL__cto.scrublet0-4.fmx.singlets.pkl',\n",
       " 'VIB_10xv1_1.FULL': 'cistopic_objects/VIB_10xv1_1.FULL__cto.scrublet0-4.fmx.singlets.pkl',\n",
       " 'VIB_10xv1_2.FULL': 'cistopic_objects/VIB_10xv1_2.FULL__cto.scrublet0-4.fmx.singlets.pkl',\n",
       " 'VIB_10xv2_1.FULL': 'cistopic_objects/VIB_10xv2_1.FULL__cto.scrublet0-4.fmx.singlets.pkl',\n",
       " 'VIB_10xv2_2.FULL': 'cistopic_objects/VIB_10xv2_2.FULL__cto.scrublet0-4.fmx.singlets.pkl',\n",
       " 'VIB_hydrop_1.FULL': 'cistopic_objects/VIB_hydrop_1.FULL__cto.scrublet0-4.fmx.singlets.pkl',\n",
       " 'VIB_hydrop_11.FULL': 'cistopic_objects/VIB_hydrop_11.FULL__cto.scrublet0-4.fmx.singlets.pkl',\n",
       " 'VIB_hydrop_12.FULL': 'cistopic_objects/VIB_hydrop_12.FULL__cto.scrublet0-4.fmx.singlets.pkl',\n",
       " 'VIB_hydrop_2.FULL': 'cistopic_objects/VIB_hydrop_2.FULL__cto.scrublet0-4.fmx.singlets.pkl',\n",
       " 'VIB_hydrop_21.FULL': 'cistopic_objects/VIB_hydrop_21.FULL__cto.scrublet0-4.fmx.singlets.pkl',\n",
       " 'VIB_hydrop_22.FULL': 'cistopic_objects/VIB_hydrop_22.FULL__cto.scrublet0-4.fmx.singlets.pkl'}"
      ]
     },
     "execution_count": 145,
     "metadata": {},
     "output_type": "execute_result"
    }
   ],
   "source": [
    "cto_singlets_path_dict"
   ]
  },
  {
   "cell_type": "code",
   "execution_count": 155,
   "id": "816e48d9",
   "metadata": {
    "execution": {
     "iopub.execute_input": "2022-09-19T13:26:49.813810Z",
     "iopub.status.busy": "2022-09-19T13:26:49.813315Z",
     "iopub.status.idle": "2022-09-19T13:26:49.845157Z",
     "shell.execute_reply": "2022-09-19T13:26:49.844100Z",
     "shell.execute_reply.started": "2022-09-19T13:26:49.813779Z"
    },
    "papermill": {
     "duration": 0.01202,
     "end_time": "2022-08-20T22:37:26.987615",
     "exception": false,
     "start_time": "2022-08-20T22:37:26.975595",
     "status": "completed"
    },
    "tags": []
   },
   "outputs": [
    {
     "name": "stdout",
     "output_type": "stream",
     "text": [
      "BIO_ddseq_1.FULL\n",
      "cistopic_objects/BIO_ddseq_1.FULL__cto.scrublet0-4.fmx.singlets.model_20topics.pkl\n",
      "\tcistopic_objects/BIO_ddseq_1.FULL__cto.scrublet0-4.fmx.singlets.model_20topics.pkl already exists! Skipping...\n",
      "BIO_ddseq_2.FULL\n",
      "cistopic_objects/BIO_ddseq_2.FULL__cto.scrublet0-4.fmx.singlets.model_20topics.pkl\n",
      "\tcistopic_objects/BIO_ddseq_2.FULL__cto.scrublet0-4.fmx.singlets.model_20topics.pkl already exists! Skipping...\n",
      "BIO_ddseq_3.FULL\n",
      "cistopic_objects/BIO_ddseq_3.FULL__cto.scrublet0-4.fmx.singlets.model_21topics.pkl\n",
      "\tcistopic_objects/BIO_ddseq_3.FULL__cto.scrublet0-4.fmx.singlets.model_21topics.pkl already exists! Skipping...\n",
      "BIO_ddseq_4.FULL\n",
      "cistopic_objects/BIO_ddseq_4.FULL__cto.scrublet0-4.fmx.singlets.model_19topics.pkl\n",
      "\tcistopic_objects/BIO_ddseq_4.FULL__cto.scrublet0-4.fmx.singlets.model_19topics.pkl already exists! Skipping...\n",
      "BRO_mtscatac_1.FULL\n",
      "cistopic_objects/BRO_mtscatac_1.FULL__cto.scrublet0-4.fmx.singlets.model_18topics.pkl\n",
      "\tcistopic_objects/BRO_mtscatac_1.FULL__cto.scrublet0-4.fmx.singlets.model_18topics.pkl already exists! Skipping...\n",
      "BRO_mtscatac_2.FULL\n",
      "cistopic_objects/BRO_mtscatac_2.FULL__cto.scrublet0-4.fmx.singlets.model_16topics.pkl\n",
      "\tcistopic_objects/BRO_mtscatac_2.FULL__cto.scrublet0-4.fmx.singlets.model_16topics.pkl already exists! Skipping...\n",
      "CNA_10xv11_1.FULL\n",
      "cistopic_objects/CNA_10xv11_1.FULL__cto.scrublet0-4.fmx.singlets.model_21topics.pkl\n",
      "\tcistopic_objects/CNA_10xv11_1.FULL__cto.scrublet0-4.fmx.singlets.model_21topics.pkl already exists! Skipping...\n",
      "CNA_10xv11_2.FULL\n",
      "cistopic_objects/CNA_10xv11_2.FULL__cto.scrublet0-4.fmx.singlets.model_16topics.pkl\n",
      "\tcistopic_objects/CNA_10xv11_2.FULL__cto.scrublet0-4.fmx.singlets.model_16topics.pkl already exists! Skipping...\n",
      "CNA_10xv11_3.FULL\n",
      "cistopic_objects/CNA_10xv11_3.FULL__cto.scrublet0-4.fmx.singlets.model_22topics.pkl\n",
      "\tcistopic_objects/CNA_10xv11_3.FULL__cto.scrublet0-4.fmx.singlets.model_22topics.pkl already exists! Skipping...\n",
      "CNA_10xv11_4.FULL\n",
      "cistopic_objects/CNA_10xv11_4.FULL__cto.scrublet0-4.fmx.singlets.model_14topics.pkl\n",
      "\tcistopic_objects/CNA_10xv11_4.FULL__cto.scrublet0-4.fmx.singlets.model_14topics.pkl already exists! Skipping...\n",
      "CNA_10xv11_5.FULL\n",
      "cistopic_objects/CNA_10xv11_5.FULL__cto.scrublet0-4.fmx.singlets.model_11topics.pkl\n",
      "\tcistopic_objects/CNA_10xv11_5.FULL__cto.scrublet0-4.fmx.singlets.model_11topics.pkl already exists! Skipping...\n",
      "CNA_10xv2_1.FULL\n",
      "cistopic_objects/CNA_10xv2_1.FULL__cto.scrublet0-4.fmx.singlets.model_11topics.pkl\n",
      "\tcistopic_objects/CNA_10xv2_1.FULL__cto.scrublet0-4.fmx.singlets.model_11topics.pkl already exists! Skipping...\n",
      "CNA_10xv2_2.FULL\n",
      "cistopic_objects/CNA_10xv2_2.FULL__cto.scrublet0-4.fmx.singlets.model_11topics.pkl\n",
      "\tcistopic_objects/CNA_10xv2_2.FULL__cto.scrublet0-4.fmx.singlets.model_11topics.pkl already exists! Skipping...\n",
      "CNA_hydrop_1.FULL\n",
      "cistopic_objects/CNA_hydrop_1.FULL__cto.scrublet0-4.fmx.singlets.model_18topics.pkl\n",
      "\tcistopic_objects/CNA_hydrop_1.FULL__cto.scrublet0-4.fmx.singlets.model_18topics.pkl already exists! Skipping...\n",
      "CNA_hydrop_2.FULL\n",
      "cistopic_objects/CNA_hydrop_2.FULL__cto.scrublet0-4.fmx.singlets.model_10topics.pkl\n",
      "\tcistopic_objects/CNA_hydrop_2.FULL__cto.scrublet0-4.fmx.singlets.model_10topics.pkl already exists! Skipping...\n",
      "CNA_hydrop_3.FULL\n",
      "cistopic_objects/CNA_hydrop_3.FULL__cto.scrublet0-4.fmx.singlets.model_14topics.pkl\n",
      "\tcistopic_objects/CNA_hydrop_3.FULL__cto.scrublet0-4.fmx.singlets.model_14topics.pkl already exists! Skipping...\n",
      "CNA_mtscatac_1.FULL\n",
      "cistopic_objects/CNA_mtscatac_1.FULL__cto.scrublet0-4.fmx.singlets.model_11topics.pkl\n",
      "\tcistopic_objects/CNA_mtscatac_1.FULL__cto.scrublet0-4.fmx.singlets.model_11topics.pkl already exists! Skipping...\n",
      "CNA_mtscatac_2.FULL\n",
      "cistopic_objects/CNA_mtscatac_2.FULL__cto.scrublet0-4.fmx.singlets.model_11topics.pkl\n",
      "\tcistopic_objects/CNA_mtscatac_2.FULL__cto.scrublet0-4.fmx.singlets.model_11topics.pkl already exists! Skipping...\n",
      "EPF_hydrop_1.FULL\n",
      "cistopic_objects/EPF_hydrop_1.FULL__cto.scrublet0-4.fmx.singlets.model_13topics.pkl\n",
      "\tcistopic_objects/EPF_hydrop_1.FULL__cto.scrublet0-4.fmx.singlets.model_13topics.pkl already exists! Skipping...\n",
      "EPF_hydrop_2.FULL\n",
      "cistopic_objects/EPF_hydrop_2.FULL__cto.scrublet0-4.fmx.singlets.model_14topics.pkl\n",
      "\tcistopic_objects/EPF_hydrop_2.FULL__cto.scrublet0-4.fmx.singlets.model_14topics.pkl already exists! Skipping...\n",
      "EPF_hydrop_3.FULL\n",
      "cistopic_objects/EPF_hydrop_3.FULL__cto.scrublet0-4.fmx.singlets.model_15topics.pkl\n",
      "\tcistopic_objects/EPF_hydrop_3.FULL__cto.scrublet0-4.fmx.singlets.model_15topics.pkl already exists! Skipping...\n",
      "EPF_hydrop_4.FULL\n",
      "cistopic_objects/EPF_hydrop_4.FULL__cto.scrublet0-4.fmx.singlets.model_16topics.pkl\n",
      "\tcistopic_objects/EPF_hydrop_4.FULL__cto.scrublet0-4.fmx.singlets.model_16topics.pkl already exists! Skipping...\n",
      "HAR_ddseq_1.FULL\n",
      "cistopic_objects/HAR_ddseq_1.FULL__cto.scrublet0-4.fmx.singlets.model_15topics.pkl\n",
      "\tcistopic_objects/HAR_ddseq_1.FULL__cto.scrublet0-4.fmx.singlets.model_15topics.pkl already exists! Skipping...\n",
      "HAR_ddseq_2.FULL\n",
      "cistopic_objects/HAR_ddseq_2.FULL__cto.scrublet0-4.fmx.singlets.model_14topics.pkl\n",
      "\tcistopic_objects/HAR_ddseq_2.FULL__cto.scrublet0-4.fmx.singlets.model_14topics.pkl already exists! Skipping...\n",
      "MDC_mtscatac_1.FULL\n",
      "cistopic_objects/MDC_mtscatac_1.FULL__cto.scrublet0-4.fmx.singlets.model_14topics.pkl\n",
      "\tcistopic_objects/MDC_mtscatac_1.FULL__cto.scrublet0-4.fmx.singlets.model_14topics.pkl already exists! Skipping...\n",
      "MDC_mtscatac_2.FULL\n",
      "cistopic_objects/MDC_mtscatac_2.FULL__cto.scrublet0-4.fmx.singlets.model_23topics.pkl\n",
      "\tcistopic_objects/MDC_mtscatac_2.FULL__cto.scrublet0-4.fmx.singlets.model_23topics.pkl already exists! Skipping...\n",
      "SAN_10xmultiome_1.FULL\n",
      "cistopic_objects/SAN_10xmultiome_1.FULL__cto.scrublet0-4.fmx.singlets.model_16topics.pkl\n",
      "\tcistopic_objects/SAN_10xmultiome_1.FULL__cto.scrublet0-4.fmx.singlets.model_16topics.pkl already exists! Skipping...\n",
      "SAN_10xmultiome_2.FULL\n",
      "cistopic_objects/SAN_10xmultiome_2.FULL__cto.scrublet0-4.fmx.singlets.model_10topics.pkl\n",
      "\tcistopic_objects/SAN_10xmultiome_2.FULL__cto.scrublet0-4.fmx.singlets.model_10topics.pkl already exists! Skipping...\n",
      "STA_10xv11_1.FULL\n",
      "cistopic_objects/STA_10xv11_1.FULL__cto.scrublet0-4.fmx.singlets.model_13topics.pkl\n",
      "\tcistopic_objects/STA_10xv11_1.FULL__cto.scrublet0-4.fmx.singlets.model_13topics.pkl already exists! Skipping...\n",
      "STA_10xv11_2.FULL\n",
      "cistopic_objects/STA_10xv11_2.FULL__cto.scrublet0-4.fmx.singlets.model_14topics.pkl\n",
      "\tcistopic_objects/STA_10xv11_2.FULL__cto.scrublet0-4.fmx.singlets.model_14topics.pkl already exists! Skipping...\n",
      "VIB_10xmultiome_1.FULL\n",
      "cistopic_objects/VIB_10xmultiome_1.FULL__cto.scrublet0-4.fmx.singlets.model_15topics.pkl\n",
      "\tcistopic_objects/VIB_10xmultiome_1.FULL__cto.scrublet0-4.fmx.singlets.model_15topics.pkl already exists! Skipping...\n",
      "VIB_10xmultiome_2.FULL\n",
      "cistopic_objects/VIB_10xmultiome_2.FULL__cto.scrublet0-4.fmx.singlets.model_20topics.pkl\n",
      "\tcistopic_objects/VIB_10xmultiome_2.FULL__cto.scrublet0-4.fmx.singlets.model_20topics.pkl already exists! Skipping...\n",
      "VIB_10xv1_1.FULL\n",
      "cistopic_objects/VIB_10xv1_1.FULL__cto.scrublet0-4.fmx.singlets.model_15topics.pkl\n",
      "\tcistopic_objects/VIB_10xv1_1.FULL__cto.scrublet0-4.fmx.singlets.model_15topics.pkl already exists! Skipping...\n",
      "VIB_10xv1_2.FULL\n",
      "cistopic_objects/VIB_10xv1_2.FULL__cto.scrublet0-4.fmx.singlets.model_25topics.pkl\n",
      "\tcistopic_objects/VIB_10xv1_2.FULL__cto.scrublet0-4.fmx.singlets.model_25topics.pkl already exists! Skipping...\n",
      "VIB_10xv2_1.FULL\n",
      "cistopic_objects/VIB_10xv2_1.FULL__cto.scrublet0-4.fmx.singlets.model_19topics.pkl\n",
      "\tcistopic_objects/VIB_10xv2_1.FULL__cto.scrublet0-4.fmx.singlets.model_19topics.pkl already exists! Skipping...\n",
      "VIB_10xv2_2.FULL\n",
      "cistopic_objects/VIB_10xv2_2.FULL__cto.scrublet0-4.fmx.singlets.model_21topics.pkl\n",
      "\tcistopic_objects/VIB_10xv2_2.FULL__cto.scrublet0-4.fmx.singlets.model_21topics.pkl already exists! Skipping...\n",
      "VIB_hydrop_1.FULL\n",
      "cistopic_objects/VIB_hydrop_1.FULL__cto.scrublet0-4.fmx.singlets.model_26topics.pkl\n",
      "\tcistopic_objects/VIB_hydrop_1.FULL__cto.scrublet0-4.fmx.singlets.model_26topics.pkl already exists! Skipping...\n",
      "VIB_hydrop_2.FULL\n",
      "cistopic_objects/VIB_hydrop_2.FULL__cto.scrublet0-4.fmx.singlets.model_23topics.pkl\n",
      "\tcistopic_objects/VIB_hydrop_2.FULL__cto.scrublet0-4.fmx.singlets.model_23topics.pkl already exists! Skipping...\n"
     ]
    }
   ],
   "source": [
    "write = False\n",
    "for sample in optimal_topics_dict.keys():\n",
    "    cto_path = cto_singlets_path_dict[sample]\n",
    "    print(sample)\n",
    "    ntopics = optimal_topics_dict[sample]\n",
    "    cto_path_new = cto_path.replace('.pkl', f'.model_{ntopics}topics.pkl')\n",
    "    print(cto_path_new)\n",
    "    if not os.path.isfile(cto_path_new):\n",
    "        if(sample in list(models_path_dict.keys())):\n",
    "            models_path = models_path_dict[sample]\n",
    "            with open(models_path, 'rb') as f:\n",
    "                models = pickle.load(f)\n",
    "\n",
    "            print(f\"\\tLoaded {models_path}, evaluating...\")\n",
    "            model = evaluate_models(models,\n",
    "                         select_model=optimal_topics_dict[sample], \n",
    "                         return_model=True, \n",
    "                         metrics=['Arun_2010','Cao_Juan_2009', 'Minmo_2011', 'loglikelihood'],\n",
    "                         plot=True, # disabled since we only test one model here\n",
    "                         plot_metrics=False\n",
    "                         )\n",
    "            \n",
    "            plt.savefig(f\"plots_qc/{sample}__model_evaluation.png\", facecolor='white')\n",
    "            \n",
    "            if write == True:\n",
    "                with open(cto_path, 'rb') as f:\n",
    "                    cto = pickle.load(f)\n",
    "\n",
    "                cto.add_LDA_model(model)\n",
    "\n",
    "                with open(cto_path_new, \"wb\") as f:\n",
    "                    pickle.dump(cto, f, protocol=4)\n",
    "\n",
    "        else:\n",
    "            print(f\"\\t{sample} models does not exist!\")\n",
    "    else:\n",
    "        print(f\"\\t{cto_path_new} already exists! Skipping...\")\n",
    "        "
   ]
  },
  {
   "cell_type": "code",
   "execution_count": 147,
   "id": "ce9e4c18",
   "metadata": {
    "execution": {
     "iopub.execute_input": "2022-09-19T11:46:04.212323Z",
     "iopub.status.busy": "2022-09-19T11:46:04.212072Z",
     "iopub.status.idle": "2022-09-19T11:46:04.218723Z",
     "shell.execute_reply": "2022-09-19T11:46:04.217959Z",
     "shell.execute_reply.started": "2022-09-19T11:46:04.212302Z"
    },
    "tags": []
   },
   "outputs": [
    {
     "data": {
      "text/plain": [
       "'models__screen__mallet/VIB_hydrop_22.FULL__models_400_iter.pkl'"
      ]
     },
     "execution_count": 147,
     "metadata": {},
     "output_type": "execute_result"
    }
   ],
   "source": [
    "models_path"
   ]
  },
  {
   "cell_type": "code",
   "execution_count": null,
   "id": "8b326f67",
   "metadata": {},
   "outputs": [],
   "source": []
  },
  {
   "cell_type": "code",
   "execution_count": null,
   "id": "c92d615a",
   "metadata": {},
   "outputs": [],
   "source": []
  }
 ],
 "metadata": {
  "kernelspec": {
   "display_name": "20220628_pycistopic.sif",
   "language": "python",
   "name": "cistopic_20220628"
  },
  "language_info": {
   "codemirror_mode": {
    "name": "ipython",
    "version": 3
   },
   "file_extension": ".py",
   "mimetype": "text/x-python",
   "name": "python",
   "nbconvert_exporter": "python",
   "pygments_lexer": "ipython3",
   "version": "3.8.13"
  },
  "papermill": {
   "default_parameters": {},
   "duration": 12.353482,
   "end_time": "2022-08-20T22:37:28.628546",
   "environment_variables": {},
   "exception": null,
   "input_path": "6_run_models_script_staging.ipynb",
   "output_path": "6_run_models_script_staging.OUT.ipynb",
   "parameters": {},
   "start_time": "2022-08-20T22:37:16.275064",
   "version": "2.3.3"
  }
 },
 "nbformat": 4,
 "nbformat_minor": 5
}

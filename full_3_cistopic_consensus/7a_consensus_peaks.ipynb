{
 "cells": [
  {
   "cell_type": "code",
   "execution_count": 1,
   "id": "d72f1205",
   "metadata": {
    "execution": {
     "iopub.execute_input": "2022-09-29T13:44:47.393148Z",
     "iopub.status.busy": "2022-09-29T13:44:47.392749Z",
     "iopub.status.idle": "2022-09-29T13:44:58.616180Z",
     "shell.execute_reply": "2022-09-29T13:44:58.615385Z"
    },
    "papermill": {
     "duration": 11.261378,
     "end_time": "2022-09-29T13:44:58.648959",
     "exception": false,
     "start_time": "2022-09-29T13:44:47.387581",
     "status": "completed"
    },
    "tags": []
   },
   "outputs": [],
   "source": [
    "from pycisTopic.pseudobulk_peak_calling import export_pseudobulk, peak_calling\n",
    "import pyranges as pr\n",
    "import requests\n",
    "import os\n",
    "import pandas as pd\n",
    "import glob\n",
    "import pickle"
   ]
  },
  {
   "cell_type": "code",
   "execution_count": 2,
   "id": "e38440ab",
   "metadata": {
    "execution": {
     "iopub.execute_input": "2022-09-29T13:44:58.664035Z",
     "iopub.status.busy": "2022-09-29T13:44:58.663548Z",
     "iopub.status.idle": "2022-09-29T13:44:58.961431Z",
     "shell.execute_reply": "2022-09-29T13:44:58.960672Z"
    },
    "papermill": {
     "duration": 0.304007,
     "end_time": "2022-09-29T13:44:58.962468",
     "exception": false,
     "start_time": "2022-09-29T13:44:58.658461",
     "status": "completed"
    },
    "tags": []
   },
   "outputs": [],
   "source": [
    "%load_ext lab_black"
   ]
  },
  {
   "cell_type": "code",
   "execution_count": 3,
   "id": "938a7dbe",
   "metadata": {
    "execution": {
     "iopub.execute_input": "2022-09-29T13:44:58.971090Z",
     "iopub.status.busy": "2022-09-29T13:44:58.970482Z",
     "iopub.status.idle": "2022-09-29T13:44:58.993724Z",
     "shell.execute_reply": "2022-09-29T13:44:58.993101Z"
    },
    "papermill": {
     "duration": 0.028416,
     "end_time": "2022-09-29T13:44:58.994714",
     "exception": false,
     "start_time": "2022-09-29T13:44:58.966298",
     "status": "completed"
    },
    "tags": []
   },
   "outputs": [],
   "source": [
    "# get chromosome sizes (hg38)\n",
    "if not os.path.exists(\"chromsizes.txt\"):\n",
    "    target_url = (\n",
    "        \"http://hgdownload.cse.ucsc.edu/goldenPath/hg38/bigZips/hg38.chrom.sizes\"\n",
    "    )\n",
    "    chromsizes = pd.read_csv(target_url, sep=\"\\t\", header=None)\n",
    "    chromsizes.columns = [\"Chromosome\", \"End\"]\n",
    "    chromsizes[\"Start\"] = [0] * chromsizes.shape[0]\n",
    "    chromsizes = chromsizes.loc[:, [\"Chromosome\", \"Start\", \"End\"]]\n",
    "    chromsizes = pr.PyRanges(chromsizes)\n",
    "    chromsizes.to_csv(\"chromsizes.txt\")\n",
    "    chromsizes\n",
    "else:\n",
    "    chromsizes = pd.read_csv(\"chromsizes.txt\")"
   ]
  },
  {
   "cell_type": "code",
   "execution_count": 4,
   "id": "6dd8a2fc",
   "metadata": {
    "execution": {
     "iopub.execute_input": "2022-09-29T13:44:59.002996Z",
     "iopub.status.busy": "2022-09-29T13:44:59.002555Z",
     "iopub.status.idle": "2022-09-29T13:44:59.017890Z",
     "shell.execute_reply": "2022-09-29T13:44:59.017285Z"
    },
    "papermill": {
     "duration": 0.021259,
     "end_time": "2022-09-29T13:44:59.019679",
     "exception": false,
     "start_time": "2022-09-29T13:44:58.998420",
     "status": "completed"
    },
    "tags": []
   },
   "outputs": [
    {
     "data": {
      "text/plain": [
       "{'BIO_ddseq_1.FULL': 'cistopic_objects/BIO_ddseq_1.FULL__cto.scrublet0-4.fmx.singlets.model_20topics.dimreduc.consensus.pkl',\n",
       " 'BIO_ddseq_2.FULL': 'cistopic_objects/BIO_ddseq_2.FULL__cto.scrublet0-4.fmx.singlets.model_20topics.dimreduc.consensus.pkl',\n",
       " 'BIO_ddseq_3.FULL': 'cistopic_objects/BIO_ddseq_3.FULL__cto.scrublet0-4.fmx.singlets.model_21topics.dimreduc.consensus.pkl',\n",
       " 'BIO_ddseq_4.FULL': 'cistopic_objects/BIO_ddseq_4.FULL__cto.scrublet0-4.fmx.singlets.model_19topics.dimreduc.consensus.pkl',\n",
       " 'BRO_mtscatac_1.FULL': 'cistopic_objects/BRO_mtscatac_1.FULL__cto.scrublet0-4.fmx.singlets.model_18topics.dimreduc.consensus.pkl',\n",
       " 'BRO_mtscatac_2.FULL': 'cistopic_objects/BRO_mtscatac_2.FULL__cto.scrublet0-4.fmx.singlets.model_16topics.dimreduc.consensus.pkl',\n",
       " 'CNA_10xmultiome_1.FULL': 'cistopic_objects/CNA_10xmultiome_1.FULL__cto.scrublet0-4.fmx.singlets.model_12topics.dimreduc.consensus.pkl',\n",
       " 'CNA_10xmultiome_2.FULL': 'cistopic_objects/CNA_10xmultiome_2.FULL__cto.scrublet0-4.fmx.singlets.model_16topics.dimreduc.consensus.pkl',\n",
       " 'CNA_10xv11_1.FULL': 'cistopic_objects/CNA_10xv11_1.FULL__cto.scrublet0-4.fmx.singlets.model_21topics.dimreduc.consensus.pkl',\n",
       " 'CNA_10xv11_2.FULL': 'cistopic_objects/CNA_10xv11_2.FULL__cto.scrublet0-4.fmx.singlets.model_16topics.dimreduc.consensus.pkl',\n",
       " 'CNA_10xv11_3.FULL': 'cistopic_objects/CNA_10xv11_3.FULL__cto.scrublet0-4.fmx.singlets.model_22topics.dimreduc.consensus.pkl',\n",
       " 'CNA_10xv11_4.FULL': 'cistopic_objects/CNA_10xv11_4.FULL__cto.scrublet0-4.fmx.singlets.model_14topics.dimreduc.consensus.pkl',\n",
       " 'CNA_10xv11_5.FULL': 'cistopic_objects/CNA_10xv11_5.FULL__cto.scrublet0-4.fmx.singlets.model_11topics.dimreduc.consensus.pkl',\n",
       " 'CNA_10xv2_1.FULL': 'cistopic_objects/CNA_10xv2_1.FULL__cto.scrublet0-4.fmx.singlets.model_11topics.dimreduc.consensus.pkl',\n",
       " 'CNA_10xv2_2.FULL': 'cistopic_objects/CNA_10xv2_2.FULL__cto.scrublet0-4.fmx.singlets.model_11topics.dimreduc.consensus.pkl',\n",
       " 'CNA_hydrop_1.FULL': 'cistopic_objects/CNA_hydrop_1.FULL__cto.scrublet0-4.fmx.singlets.model_18topics.dimreduc.consensus.pkl',\n",
       " 'CNA_hydrop_2.FULL': 'cistopic_objects/CNA_hydrop_2.FULL__cto.scrublet0-4.fmx.singlets.model_10topics.dimreduc.consensus.pkl',\n",
       " 'CNA_hydrop_3.FULL': 'cistopic_objects/CNA_hydrop_3.FULL__cto.scrublet0-4.fmx.singlets.model_14topics.dimreduc.consensus.pkl',\n",
       " 'CNA_mtscatac_1.FULL': 'cistopic_objects/CNA_mtscatac_1.FULL__cto.scrublet0-4.fmx.singlets.model_11topics.dimreduc.consensus.pkl',\n",
       " 'CNA_mtscatac_2.FULL': 'cistopic_objects/CNA_mtscatac_2.FULL__cto.scrublet0-4.fmx.singlets.model_11topics.dimreduc.consensus.pkl',\n",
       " 'EPF_hydrop_1.FULL': 'cistopic_objects/EPF_hydrop_1.FULL__cto.scrublet0-4.fmx.singlets.model_13topics.dimreduc.consensus.pkl',\n",
       " 'EPF_hydrop_2.FULL': 'cistopic_objects/EPF_hydrop_2.FULL__cto.scrublet0-4.fmx.singlets.model_14topics.dimreduc.consensus.pkl',\n",
       " 'EPF_hydrop_3.FULL': 'cistopic_objects/EPF_hydrop_3.FULL__cto.scrublet0-4.fmx.singlets.model_15topics.dimreduc.consensus.pkl',\n",
       " 'EPF_hydrop_4.FULL': 'cistopic_objects/EPF_hydrop_4.FULL__cto.scrublet0-4.fmx.singlets.model_16topics.dimreduc.consensus.pkl',\n",
       " 'HAR_ddseq_1.FULL': 'cistopic_objects/HAR_ddseq_1.FULL__cto.scrublet0-4.fmx.singlets.model_15topics.dimreduc.consensus.pkl',\n",
       " 'HAR_ddseq_2.FULL': 'cistopic_objects/HAR_ddseq_2.FULL__cto.scrublet0-4.fmx.singlets.model_14topics.dimreduc.consensus.pkl',\n",
       " 'MDC_mtscatac_1.FULL': 'cistopic_objects/MDC_mtscatac_1.FULL__cto.scrublet0-4.fmx.singlets.model_14topics.dimreduc.consensus.pkl',\n",
       " 'MDC_mtscatac_2.FULL': 'cistopic_objects/MDC_mtscatac_2.FULL__cto.scrublet0-4.fmx.singlets.model_23topics.dimreduc.consensus.pkl',\n",
       " 'OHS_s3atac_1.FULL': 'cistopic_objects/OHS_s3atac_1.FULL__cto.scrublet0-4.fmx.singlets.model_14topics.dimreduc.consensus.pkl',\n",
       " 'OHS_s3atac_2.FULL': 'cistopic_objects/OHS_s3atac_2.FULL__cto.scrublet0-4.fmx.singlets.model_19topics.dimreduc.consensus.pkl',\n",
       " 'SAN_10xmultiome_1.FULL': 'cistopic_objects/SAN_10xmultiome_1.FULL__cto.scrublet0-4.fmx.singlets.model_16topics.dimreduc.consensus.pkl',\n",
       " 'SAN_10xmultiome_2.FULL': 'cistopic_objects/SAN_10xmultiome_2.FULL__cto.scrublet0-4.fmx.singlets.model_10topics.dimreduc.consensus.pkl',\n",
       " 'STA_10xv11_1.FULL': 'cistopic_objects/STA_10xv11_1.FULL__cto.scrublet0-4.fmx.singlets.model_13topics.dimreduc.consensus.pkl',\n",
       " 'STA_10xv11_2.FULL': 'cistopic_objects/STA_10xv11_2.FULL__cto.scrublet0-4.fmx.singlets.model_14topics.dimreduc.consensus.pkl',\n",
       " 'TXG_10xv11_1.FULL': 'cistopic_objects/TXG_10xv11_1.FULL__cto.scrublet0-4.fmx.singlets.model_13topics.dimreduc.consensus.pkl',\n",
       " 'TXG_10xv2_1.FULL': 'cistopic_objects/TXG_10xv2_1.FULL__cto.scrublet0-4.fmx.singlets.model_21topics.dimreduc.consensus.pkl',\n",
       " 'TXG_10xv2_2.FULL': 'cistopic_objects/TXG_10xv2_2.FULL__cto.scrublet0-4.fmx.singlets.model_22topics.dimreduc.consensus.pkl',\n",
       " 'UCS_ddseq_1.FULL': 'cistopic_objects/UCS_ddseq_1.FULL__cto.scrublet0-4.fmx.singlets.model_18topics.dimreduc.consensus.pkl',\n",
       " 'UCS_ddseq_2.FULL': 'cistopic_objects/UCS_ddseq_2.FULL__cto.scrublet0-4.fmx.singlets.model_14topics.dimreduc.consensus.pkl',\n",
       " 'VIB_10xmultiome_1.FULL': 'cistopic_objects/VIB_10xmultiome_1.FULL__cto.scrublet0-4.fmx.singlets.model_15topics.dimreduc.consensus.pkl',\n",
       " 'VIB_10xmultiome_2.FULL': 'cistopic_objects/VIB_10xmultiome_2.FULL__cto.scrublet0-4.fmx.singlets.model_20topics.dimreduc.consensus.pkl',\n",
       " 'VIB_10xv1_1.FULL': 'cistopic_objects/VIB_10xv1_1.FULL__cto.scrublet0-4.fmx.singlets.model_15topics.dimreduc.consensus.pkl',\n",
       " 'VIB_10xv1_2.FULL': 'cistopic_objects/VIB_10xv1_2.FULL__cto.scrublet0-4.fmx.singlets.model_25topics.dimreduc.consensus.pkl',\n",
       " 'VIB_10xv2_1.FULL': 'cistopic_objects/VIB_10xv2_1.FULL__cto.scrublet0-4.fmx.singlets.model_19topics.dimreduc.consensus.pkl',\n",
       " 'VIB_10xv2_2.FULL': 'cistopic_objects/VIB_10xv2_2.FULL__cto.scrublet0-4.fmx.singlets.model_21topics.dimreduc.consensus.pkl',\n",
       " 'VIB_hydrop_1.FULL': 'cistopic_objects/VIB_hydrop_1.FULL__cto.scrublet0-4.fmx.singlets.model_26topics.dimreduc.consensus.pkl',\n",
       " 'VIB_hydrop_2.FULL': 'cistopic_objects/VIB_hydrop_2.FULL__cto.scrublet0-4.fmx.singlets.model_23topics.dimreduc.consensus.pkl'}"
      ]
     },
     "execution_count": 4,
     "metadata": {},
     "output_type": "execute_result"
    }
   ],
   "source": [
    "cto_consensus_path_dict = {\n",
    "    x.split(\"/\")[-1].split(f\"__\")[0]: x\n",
    "    for x in sorted(glob.glob(\"cistopic_objects/*singlets.model*consensus.pkl\"))\n",
    "}\n",
    "cto_consensus_path_dict"
   ]
  },
  {
   "cell_type": "code",
   "execution_count": 5,
   "id": "770b87a2",
   "metadata": {
    "execution": {
     "iopub.execute_input": "2022-09-29T13:44:59.028312Z",
     "iopub.status.busy": "2022-09-29T13:44:59.027787Z",
     "iopub.status.idle": "2022-09-29T13:44:59.036293Z",
     "shell.execute_reply": "2022-09-29T13:44:59.035627Z"
    },
    "papermill": {
     "duration": 0.013767,
     "end_time": "2022-09-29T13:44:59.037256",
     "exception": false,
     "start_time": "2022-09-29T13:44:59.023489",
     "status": "completed"
    },
    "tags": []
   },
   "outputs": [
    {
     "data": {
      "text/plain": [
       "{'BIO_ddseq_1.FULL': '../1_data_repository/full_fragments/BIO_ddseq_1.FULL.fragments.tsv.gz',\n",
       " 'BIO_ddseq_2.FULL': '../1_data_repository/full_fragments/BIO_ddseq_2.FULL.fragments.tsv.gz',\n",
       " 'BIO_ddseq_3.FULL': '../1_data_repository/full_fragments/BIO_ddseq_3.FULL.fragments.tsv.gz',\n",
       " 'BIO_ddseq_4.FULL': '../1_data_repository/full_fragments/BIO_ddseq_4.FULL.fragments.tsv.gz',\n",
       " 'BRO_mtscatac_1.FULL': '../1_data_repository/full_fragments/BRO_mtscatac_1.FULL.fragments.tsv.gz',\n",
       " 'BRO_mtscatac_2.FULL': '../1_data_repository/full_fragments/BRO_mtscatac_2.FULL.fragments.tsv.gz',\n",
       " 'CNA_10xmultiome_1.FULL': '../1_data_repository/full_fragments/CNA_10xmultiome_1.FULL.fragments.tsv.gz',\n",
       " 'CNA_10xmultiome_2.FULL': '../1_data_repository/full_fragments/CNA_10xmultiome_2.FULL.fragments.tsv.gz',\n",
       " 'CNA_10xv11_1.FULL': '../1_data_repository/full_fragments/CNA_10xv11_1.FULL.fragments.tsv.gz',\n",
       " 'CNA_10xv11_2.FULL': '../1_data_repository/full_fragments/CNA_10xv11_2.FULL.fragments.tsv.gz',\n",
       " 'CNA_10xv11_3.FULL': '../1_data_repository/full_fragments/CNA_10xv11_3.FULL.fragments.tsv.gz',\n",
       " 'CNA_10xv11_4.FULL': '../1_data_repository/full_fragments/CNA_10xv11_4.FULL.fragments.tsv.gz',\n",
       " 'CNA_10xv11_5.FULL': '../1_data_repository/full_fragments/CNA_10xv11_5.FULL.fragments.tsv.gz',\n",
       " 'CNA_10xv2_1.FULL': '../1_data_repository/full_fragments/CNA_10xv2_1.FULL.fragments.tsv.gz',\n",
       " 'CNA_10xv2_2.FULL': '../1_data_repository/full_fragments/CNA_10xv2_2.FULL.fragments.tsv.gz',\n",
       " 'CNA_hydrop_1.FULL': '../1_data_repository/full_fragments/CNA_hydrop_1.FULL.fragments.tsv.gz',\n",
       " 'CNA_hydrop_2.FULL': '../1_data_repository/full_fragments/CNA_hydrop_2.FULL.fragments.tsv.gz',\n",
       " 'CNA_hydrop_3.FULL': '../1_data_repository/full_fragments/CNA_hydrop_3.FULL.fragments.tsv.gz',\n",
       " 'CNA_mtscatac_1.FULL': '../1_data_repository/full_fragments/CNA_mtscatac_1.FULL.fragments.tsv.gz',\n",
       " 'CNA_mtscatac_2.FULL': '../1_data_repository/full_fragments/CNA_mtscatac_2.FULL.fragments.tsv.gz',\n",
       " 'EPF_hydrop_1.FULL': '../1_data_repository/full_fragments/EPF_hydrop_1.FULL.fragments.tsv.gz',\n",
       " 'EPF_hydrop_2.FULL': '../1_data_repository/full_fragments/EPF_hydrop_2.FULL.fragments.tsv.gz',\n",
       " 'EPF_hydrop_3.FULL': '../1_data_repository/full_fragments/EPF_hydrop_3.FULL.fragments.tsv.gz',\n",
       " 'EPF_hydrop_4.FULL': '../1_data_repository/full_fragments/EPF_hydrop_4.FULL.fragments.tsv.gz',\n",
       " 'HAR_ddseq_1.FULL': '../1_data_repository/full_fragments/HAR_ddseq_1.FULL.fragments.tsv.gz',\n",
       " 'HAR_ddseq_2.FULL': '../1_data_repository/full_fragments/HAR_ddseq_2.FULL.fragments.tsv.gz',\n",
       " 'MDC_mtscatac_1.FULL': '../1_data_repository/full_fragments/MDC_mtscatac_1.FULL.fragments.tsv.gz',\n",
       " 'MDC_mtscatac_2.FULL': '../1_data_repository/full_fragments/MDC_mtscatac_2.FULL.fragments.tsv.gz',\n",
       " 'OHS_s3atac_1.FULL': '../1_data_repository/full_fragments/OHS_s3atac_1.FULL.fragments.tsv.gz',\n",
       " 'OHS_s3atac_2.FULL': '../1_data_repository/full_fragments/OHS_s3atac_2.FULL.fragments.tsv.gz',\n",
       " 'SAN_10xmultiome_1.FULL': '../1_data_repository/full_fragments/SAN_10xmultiome_1.FULL.fragments.tsv.gz',\n",
       " 'SAN_10xmultiome_2.FULL': '../1_data_repository/full_fragments/SAN_10xmultiome_2.FULL.fragments.tsv.gz',\n",
       " 'STA_10xv11_1.FULL': '../1_data_repository/full_fragments/STA_10xv11_1.FULL.fragments.tsv.gz',\n",
       " 'STA_10xv11_2.FULL': '../1_data_repository/full_fragments/STA_10xv11_2.FULL.fragments.tsv.gz',\n",
       " 'TXG_10xv11_1.FULL': '../1_data_repository/full_fragments/TXG_10xv11_1.FULL.fragments.tsv.gz',\n",
       " 'TXG_10xv2_1.FULL': '../1_data_repository/full_fragments/TXG_10xv2_1.FULL.fragments.tsv.gz',\n",
       " 'TXG_10xv2_2.FULL': '../1_data_repository/full_fragments/TXG_10xv2_2.FULL.fragments.tsv.gz',\n",
       " 'UCS_ddseq_1.FULL': '../1_data_repository/full_fragments/UCS_ddseq_1.FULL.fragments.tsv.gz',\n",
       " 'UCS_ddseq_2.FULL': '../1_data_repository/full_fragments/UCS_ddseq_2.FULL.fragments.tsv.gz',\n",
       " 'VIB_10xmultiome_1.FULL': '../1_data_repository/full_fragments/VIB_10xmultiome_1.FULL.fragments.tsv.gz',\n",
       " 'VIB_10xmultiome_2.FULL': '../1_data_repository/full_fragments/VIB_10xmultiome_2.FULL.fragments.tsv.gz',\n",
       " 'VIB_10xv1_1.FULL': '../1_data_repository/full_fragments/VIB_10xv1_1.FULL.fragments.tsv.gz',\n",
       " 'VIB_10xv1_2.FULL': '../1_data_repository/full_fragments/VIB_10xv1_2.FULL.fragments.tsv.gz',\n",
       " 'VIB_10xv2_1.FULL': '../1_data_repository/full_fragments/VIB_10xv2_1.FULL.fragments.tsv.gz',\n",
       " 'VIB_10xv2_2.FULL': '../1_data_repository/full_fragments/VIB_10xv2_2.FULL.fragments.tsv.gz',\n",
       " 'VIB_hydrop_1.FULL': '../1_data_repository/full_fragments/VIB_hydrop_1.FULL.fragments.tsv.gz',\n",
       " 'VIB_hydrop_11.FULL': '../1_data_repository/full_fragments/VIB_hydrop_11.FULL.fragments.tsv.gz',\n",
       " 'VIB_hydrop_12.FULL': '../1_data_repository/full_fragments/VIB_hydrop_12.FULL.fragments.tsv.gz',\n",
       " 'VIB_hydrop_2.FULL': '../1_data_repository/full_fragments/VIB_hydrop_2.FULL.fragments.tsv.gz',\n",
       " 'VIB_hydrop_21.FULL': '../1_data_repository/full_fragments/VIB_hydrop_21.FULL.fragments.tsv.gz',\n",
       " 'VIB_hydrop_22.FULL': '../1_data_repository/full_fragments/VIB_hydrop_22.FULL.fragments.tsv.gz'}"
      ]
     },
     "execution_count": 5,
     "metadata": {},
     "output_type": "execute_result"
    }
   ],
   "source": [
    "fragments_path_dict = {\n",
    "    x.split(\"/\")[-1].split(f\".fragments.tsv.gz\")[0]: x\n",
    "    for x in sorted(glob.glob(\"../1_data_repository/full_fragments/*.tsv.gz\"))\n",
    "}\n",
    "fragments_path_dict"
   ]
  },
  {
   "cell_type": "code",
   "execution_count": 6,
   "id": "1832cf0e",
   "metadata": {
    "execution": {
     "iopub.execute_input": "2022-09-29T13:44:59.046189Z",
     "iopub.status.busy": "2022-09-29T13:44:59.045933Z",
     "iopub.status.idle": "2022-09-29T13:44:59.236500Z",
     "shell.execute_reply": "2022-09-29T13:44:59.235590Z"
    },
    "papermill": {
     "duration": 0.196325,
     "end_time": "2022-09-29T13:44:59.237563",
     "exception": false,
     "start_time": "2022-09-29T13:44:59.041238",
     "status": "completed"
    },
    "tags": []
   },
   "outputs": [],
   "source": [
    "import gc\n",
    "import logging\n",
    "import os\n",
    "import re\n",
    "import subprocess\n",
    "import sys\n",
    "from typing import Dict, List, Optional, Union\n",
    "\n",
    "import numpy as np\n",
    "import pandas as pd\n",
    "import pyBigWig\n",
    "import pyranges as pr\n",
    "import ray\n",
    "\n",
    "from pycisTopic.cistopic_class import *\n",
    "from pycisTopic.utils import *\n",
    "\n",
    "\n",
    "def export_pseudobulk(\n",
    "    input_data: Union[\"CistopicObject\", pd.DataFrame, Dict[str, pd.DataFrame]],\n",
    "    variable: str,\n",
    "    chromsizes: Union[pd.DataFrame, pr.PyRanges],\n",
    "    bed_path: str,\n",
    "    bigwig_path: str,\n",
    "    path_to_fragments: Optional[Dict[str, str]] = None,\n",
    "    sample_id_col: Optional[str] = \"sample_id\",\n",
    "    n_cpu: Optional[int] = 1,\n",
    "    normalize_bigwig: Optional[bool] = True,\n",
    "    remove_duplicates: Optional[bool] = True,\n",
    "    split_pattern: Optional[str] = \"___\",\n",
    "    use_polars: Optional[bool] = True,\n",
    "    **kwargs\n",
    "):\n",
    "    \"\"\"\n",
    "    Create pseudobulks as bed and bigwig from single cell fragments file given a barcode annotation.\n",
    "    Parameters\n",
    "    ---------\n",
    "    input_data: CistopicObject or pd.DataFrame\n",
    "            A :class:`CistopicObject` containing the specified `variable` as a column in :class:`CistopicObject.cell_data` or a cell metadata\n",
    "            :class:`pd.DataFrame` containing barcode as rows, containing the specified `variable` as a column (additional columns are\n",
    "            possible) and a `sample_id` column. Index names must contain the BARCODE (e.g. ATGTCGTC-1), additional tags are possible separating with -\n",
    "            (e.g. ATGCTGTGCG-1-Sample_1). The levels in the sample_id column must agree with the keys in the path_to_fragments dictionary.\n",
    "            Alternatively, if the cell metadata contains a column named barcode it will be used instead of the index names.\n",
    "    variable: str\n",
    "            A character string indicating the column that will be used to create the different group pseudobulk. It must be included in\n",
    "            the cell metadata provided as input_data.\n",
    "    chromsizes: pd.DataFrame or pr.PyRanges\n",
    "            A data frame or :class:`pr.PyRanges` containing size of each chromosome, containing 'Chromosome', 'Start' and 'End' columns.\n",
    "    bed_path: str\n",
    "            Path to folder where the fragments bed files per group will be saved. If None, files will not be generated.\n",
    "    bigwig_path: str\n",
    "            Path to folder where the bigwig files per group will be saved. If None, files will not be generated.\n",
    "    path_to_fragments: str or dict, optional\n",
    "            A dictionary of character strings, with sample name as names indicating the path to the fragments file/s from which pseudobulk profiles have to\n",
    "            be created. If a :class:`CistopicObject` is provided as input it will be ignored, but if a cell metadata :class:`pd.DataFrame` is provided it\n",
    "            is necessary to provide it. The keys of the dictionary need to match with the sample_id tag added to the index names of the input data frame.\n",
    "    sample_id_col: str, optional\n",
    "            Name of the column containing the sample name per barcode in the input :class:`CistopicObject.cell_data` or class:`pd.DataFrame`. Default: 'sample_id'.\n",
    "    n_cpu: int, optional\n",
    "            Number of cores to use. Default: 1.\n",
    "    normalize_bigwig: bool, optional\n",
    "            Whether bigwig files should be CPM normalized. Default: True.\n",
    "    remove_duplicates: bool, optional\n",
    "            Whether duplicates should be removed before converting the data to bigwig.\n",
    "    split_pattern: str, optional\n",
    "            Pattern to split cell barcode from sample id. Default: ___ .\n",
    "    use_polars: bool, optional\n",
    "            Whether to use polars to read fragments files. Default: True.\n",
    "    **kwargs\n",
    "            Additional parameters for ray.init()\n",
    "    Return\n",
    "    ------\n",
    "    dict\n",
    "            A dictionary containing the paths to the newly created bed fragments files per group a dictionary containing the paths to the\n",
    "            newly created bigwig files per group.\n",
    "    \"\"\"\n",
    "    # Create logger\n",
    "    level = logging.INFO\n",
    "    log_format = \"%(asctime)s %(name)-12s %(levelname)-8s %(message)s\"\n",
    "    handlers = [logging.StreamHandler(stream=sys.stdout)]\n",
    "    logging.basicConfig(level=level, format=log_format, handlers=handlers)\n",
    "    log = logging.getLogger(\"cisTopic\")\n",
    "\n",
    "    # Get fragments file\n",
    "    if isinstance(input_data, CistopicObject):\n",
    "        path_to_fragments = input_data.path_to_fragments\n",
    "        if path_to_fragments is None:\n",
    "            log.error(\"No path_to_fragments in this cisTopic object.\")\n",
    "        cell_data = input_data.cell_data\n",
    "    elif isinstance(input_data, pd.DataFrame):\n",
    "        if path_to_fragments is None:\n",
    "            log.error(\"Please, provide path_to_fragments.\")\n",
    "        cell_data = input_data\n",
    "    # Check for sample_id column\n",
    "    try:\n",
    "        sample_ids = list(set(cell_data[sample_id_col]))\n",
    "    except ValueError:\n",
    "        print(\n",
    "            'Please, include a sample identification column (e.g. \"sample_id\") in your cell metadata!'\n",
    "        )\n",
    "\n",
    "    # Get fragments\n",
    "    fragments_df_dict = {}\n",
    "    for sample_id in path_to_fragments.keys():\n",
    "        if sample_id not in sample_ids:\n",
    "            log.info(\n",
    "                \"The following path_to_fragments entry is not found in the cell metadata sample_id_col: \",\n",
    "                sample_id,\n",
    "                \". It will be ignored.\",\n",
    "            )\n",
    "        else:\n",
    "            log.info(\"Reading fragments from \" + path_to_fragments[sample_id])\n",
    "            fragments_df = read_fragments_from_file(\n",
    "                path_to_fragments[sample_id], use_polars=use_polars\n",
    "            ).df\n",
    "            # Convert to int32 for memory efficiency\n",
    "            fragments_df.Start = np.int32(fragments_df.Start)\n",
    "            fragments_df.End = np.int32(fragments_df.End)\n",
    "            if \"Score\" in fragments_df:\n",
    "                fragments_df.Score = np.int32(fragments_df.Score)\n",
    "            if \"barcode\" in cell_data:\n",
    "                fragments_df = fragments_df.loc[\n",
    "                    fragments_df[\"Name\"].isin(cell_data[\"barcode\"].tolist())\n",
    "                ]\n",
    "            else:\n",
    "                fragments_df = fragments_df.loc[\n",
    "                    fragments_df[\"Name\"].isin(\n",
    "                        prepare_tag_cells(cell_data.index.tolist(), split_pattern)\n",
    "                    )\n",
    "                ]\n",
    "            fragments_df_dict[sample_id] = fragments_df\n",
    "\n",
    "    # Set groups\n",
    "    if \"barcode\" in cell_data:\n",
    "        cell_data = cell_data.loc[:, [variable, sample_id_col, \"barcode\"]]\n",
    "    else:\n",
    "        cell_data = cell_data.loc[:, [variable, sample_id_col]]\n",
    "    cell_data[variable] = cell_data[variable].replace(\" \", \"\", regex=True)\n",
    "    cell_data[variable] = cell_data[variable].replace(\"[^A-Za-z0-9]+\", \"_\", regex=True)\n",
    "    groups = sorted(list(set(cell_data[variable])))\n",
    "    # Check chromosome sizes\n",
    "    if isinstance(chromsizes, pd.DataFrame):\n",
    "        chromsizes = chromsizes.loc[:, [\"Chromosome\", \"Start\", \"End\"]]\n",
    "        chromsizes = pr.PyRanges(chromsizes)\n",
    "    # Check that output dir exist and generate output paths\n",
    "    if isinstance(bed_path, str):\n",
    "        if not os.path.exists(bed_path):\n",
    "            os.makedirs(bed_path)\n",
    "        bed_paths = {\n",
    "            group: os.path.join(bed_path, str(group) + \".bed.gz\") for group in groups\n",
    "        }\n",
    "    else:\n",
    "        bed_paths = {}\n",
    "    if isinstance(bigwig_path, str):\n",
    "        if not os.path.exists(bigwig_path):\n",
    "            os.makedirs(bigwig_path)\n",
    "        bw_paths = {\n",
    "            group: os.path.join(bigwig_path, str(group) + \".bw\") for group in groups\n",
    "        }\n",
    "    else:\n",
    "        bw_paths = {}\n",
    "    # Create pseudobulks\n",
    "    if n_cpu > 1:\n",
    "        ray.init(num_cpus=n_cpu, **kwargs)\n",
    "        ray_handle = ray.wait(\n",
    "            [\n",
    "                export_pseudobulk_ray.remote(\n",
    "                    cell_data,\n",
    "                    group,\n",
    "                    fragments_df_dict,\n",
    "                    chromsizes,\n",
    "                    bigwig_path,\n",
    "                    bed_path,\n",
    "                    sample_id_col,\n",
    "                    normalize_bigwig,\n",
    "                    remove_duplicates,\n",
    "                    split_pattern,\n",
    "                )\n",
    "                for group in groups\n",
    "            ],\n",
    "            num_returns=len(groups),\n",
    "        )\n",
    "        ray.shutdown()\n",
    "    else:\n",
    "        [\n",
    "            export_pseudobulk_one_sample(\n",
    "                cell_data,\n",
    "                group,\n",
    "                fragments_df_dict,\n",
    "                chromsizes,\n",
    "                bigwig_path,\n",
    "                bed_path,\n",
    "                sample_id_col,\n",
    "                normalize_bigwig,\n",
    "                remove_duplicates,\n",
    "                split_pattern,\n",
    "            )\n",
    "            for group in groups\n",
    "        ]\n",
    "\n",
    "    return bw_paths, bed_paths\n",
    "\n",
    "\n",
    "def export_pseudobulk_one_sample(\n",
    "    cell_data: pd.DataFrame,\n",
    "    group: str,\n",
    "    fragments_df_dict: Dict[str, pd.DataFrame],\n",
    "    chromsizes: pr.PyRanges,\n",
    "    bigwig_path: str,\n",
    "    bed_path: str,\n",
    "    sample_id_col: Optional[str] = \"sample_id\",\n",
    "    normalize_bigwig: Optional[bool] = True,\n",
    "    remove_duplicates: Optional[bool] = True,\n",
    "    split_pattern: Optional[str] = \"___\",\n",
    "):\n",
    "    \"\"\"\n",
    "    Create pseudobulk as bed and bigwig from single cell fragments file given a barcode annotation and a group.\n",
    "    Parameters\n",
    "    ---------\n",
    "    cell_data: pd.DataFrame\n",
    "            A cell metadata :class:`pd.Dataframe` containing barcodes, their annotation and their sample of origin.\n",
    "    group: str\n",
    "            A character string indicating the group for which pseudobulks will be created.\n",
    "    fragments_df_dict: dict\n",
    "            A dictionary containing data frames as values with 'Chromosome', 'Start', 'End', 'Name', and 'Score' as columns; and sample label\n",
    "            as keys. 'Score' indicates the number of times that a fragments is found assigned to that barcode.\n",
    "    chromsizes: pr.PyRanges\n",
    "            A :class:`pr.PyRanges` containing size of each column, containing 'Chromosome', 'Start' and 'End' columns.\n",
    "    bigwig_path: str\n",
    "            Path to folder where the bigwig file will be saved.\n",
    "    bed_path: str\n",
    "            Path to folder where the fragments bed file will be saved.\n",
    "    sample_id_col: str, optional\n",
    "            Name of the column containing the sample name per barcode in the input :class:`CistopicObject.cell_data` or class:`pd.DataFrame`. Default: 'sample_id'.\n",
    "    normalize_bigwig: bool, optional\n",
    "            Whether bigwig files should be CPM normalized. Default: True.\n",
    "    remove_duplicates: bool, optional\n",
    "            Whether duplicates should be removed before converting the data to bigwig.\n",
    "    split_pattern: str\n",
    "            Pattern to split cell barcode from sample id. Default: ___ .\n",
    "    \"\"\"\n",
    "    # Create logger\n",
    "    level = logging.INFO\n",
    "    log_format = \"%(asctime)s %(name)-12s %(levelname)-8s %(message)s\"\n",
    "    handlers = [logging.StreamHandler(stream=sys.stdout)]\n",
    "    logging.basicConfig(level=level, format=log_format, handlers=handlers)\n",
    "    log = logging.getLogger(\"cisTopic\")\n",
    "\n",
    "    log.info(\"Creating pseudobulk for \" + str(group))\n",
    "    group_fragments_list = []\n",
    "    group_fragments_dict = {}\n",
    "    for sample_id in fragments_df_dict:\n",
    "        sample_data = cell_data[cell_data.loc[:, sample_id_col].isin([sample_id])]\n",
    "        if \"barcode\" in sample_data:\n",
    "            sample_data.index = sample_data[\"barcode\"].tolist()\n",
    "        else:\n",
    "            sample_data.index = prepare_tag_cells(\n",
    "                sample_data.index.tolist(), split_pattern\n",
    "            )\n",
    "        group_var = sample_data.iloc[:, 0]\n",
    "        barcodes = group_var[group_var.isin([group])].index.tolist()\n",
    "        fragments_df = fragments_df_dict[sample_id]\n",
    "        group_fragments = fragments_df.loc[fragments_df[\"Name\"].isin(barcodes)]\n",
    "        if len(fragments_df_dict) > 1:\n",
    "            group_fragments_dict[sample_id] = group_fragments\n",
    "\n",
    "    if len(fragments_df_dict) > 1:\n",
    "        group_fragments_list = [\n",
    "            group_fragments_dict[list(group_fragments_dict.keys())[x]]\n",
    "            for x in range(len(fragments_df_dict))\n",
    "        ]\n",
    "        group_fragments = group_fragments_list[0].append(group_fragments_list[1:])\n",
    "\n",
    "    group_fragments = group_fragments[\n",
    "        group_fragments[\"Chromosome\"].isin(chromsizes.Chromosome)\n",
    "    ]\n",
    "\n",
    "    del group_fragments_dict\n",
    "    del group_fragments_list\n",
    "    del fragments_df\n",
    "    gc.collect()\n",
    "\n",
    "    group_pr = pr.PyRanges(group_fragments)\n",
    "    if isinstance(bigwig_path, str):\n",
    "        bigwig_path_group = os.path.join(bigwig_path, str(group) + \".bw\")\n",
    "        if remove_duplicates:\n",
    "            group_pr.to_bigwig(\n",
    "                path=bigwig_path_group,\n",
    "                chromosome_sizes=chromsizes,\n",
    "                rpm=normalize_bigwig,\n",
    "            )\n",
    "        else:\n",
    "            group_pr.to_bigwig(\n",
    "                path=bigwig_path_group,\n",
    "                chromosome_sizes=chromsizes,\n",
    "                rpm=normalize_bigwig,\n",
    "                value_col=\"Score\",\n",
    "            )\n",
    "    if isinstance(bed_path, str):\n",
    "        bed_path_group = os.path.join(bed_path, str(group) + \".bed.gz\")\n",
    "        group_pr.to_bed(\n",
    "            path=bed_path_group, keep=False, compression=\"infer\", chain=False\n",
    "        )\n",
    "\n",
    "    log.info(str(group) + \" done!\")\n",
    "\n",
    "\n",
    "@ray.remote\n",
    "def export_pseudobulk_ray(\n",
    "    cell_data: pd.DataFrame,\n",
    "    group: str,\n",
    "    fragments_df_dict: Dict[str, pd.DataFrame],\n",
    "    chromsizes: pr.PyRanges,\n",
    "    bigwig_path: str,\n",
    "    bed_path: str,\n",
    "    sample_id_col: Optional[str] = \"sample_id\",\n",
    "    normalize_bigwig: Optional[bool] = True,\n",
    "    remove_duplicates: Optional[bool] = True,\n",
    "    split_pattern: Optional[str] = \"___\",\n",
    "):\n",
    "    \"\"\"\n",
    "    Create pseudobulk as bed and bigwig from single cell fragments file given a barcode annotation and a group.\n",
    "    Parameters\n",
    "    ---------\n",
    "    cell_data: pd.DataFrame\n",
    "            A cell metadata :class:`pd.Dataframe` containing barcodes, their annotation and their sample of origin.\n",
    "    group: str\n",
    "            A character string indicating the group for which pseudobulks will be created.\n",
    "    fragments_df_dict: dict\n",
    "            A dictionary containing data frames as values with 'Chromosome', 'Start', 'End', 'Name', and 'Score' as columns; and sample label\n",
    "            as keys. 'Score' indicates the number of times that a fragments is found assigned to that barcode.\n",
    "    chromsizes: pr.PyRanges\n",
    "            A :class:`pr.PyRanges` containing size of each column, containing 'Chromosome', 'Start' and 'End' columns.\n",
    "    bed_path: str\n",
    "            Path to folder where the fragments bed file will be saved.\n",
    "    bigwig_path: str\n",
    "            Path to folder where the bigwig file will be saved.\n",
    "    sample_id_col: str, optional\n",
    "            Name of the column containing the sample name per barcode in the input :class:`CistopicObject.cell_data` or class:`pd.DataFrame`. Default: 'sample_id'.\n",
    "    normalize_bigwig: bool, optional\n",
    "            Whether bigwig files should be CPM normalized. Default: True.\n",
    "    remove_duplicates: bool, optional\n",
    "            Whether duplicates should be removed before converting the data to bigwig.\n",
    "    split_pattern: str\n",
    "            Pattern to split cell barcode from sample id. Default: ___ .\n",
    "    \"\"\"\n",
    "    export_pseudobulk_one_sample(\n",
    "        cell_data,\n",
    "        group,\n",
    "        fragments_df_dict,\n",
    "        chromsizes,\n",
    "        bigwig_path,\n",
    "        bed_path,\n",
    "        sample_id_col,\n",
    "        normalize_bigwig,\n",
    "        remove_duplicates,\n",
    "        split_pattern,\n",
    "    )"
   ]
  },
  {
   "cell_type": "code",
   "execution_count": 7,
   "id": "15d0893a",
   "metadata": {
    "execution": {
     "iopub.execute_input": "2022-09-29T13:44:59.246250Z",
     "iopub.status.busy": "2022-09-29T13:44:59.246061Z",
     "iopub.status.idle": "2022-09-29T13:44:59.263478Z",
     "shell.execute_reply": "2022-09-29T13:44:59.262847Z"
    },
    "papermill": {
     "duration": 0.022853,
     "end_time": "2022-09-29T13:44:59.264456",
     "exception": false,
     "start_time": "2022-09-29T13:44:59.241603",
     "status": "completed"
    },
    "tags": []
   },
   "outputs": [
    {
     "name": "stdout",
     "output_type": "stream",
     "text": [
      "final_consensus_peaks/BIO_ddseq_1.FULL__SCREEN_pseudobulk_bed_files exists, skipping...\n",
      "final_consensus_peaks/BIO_ddseq_2.FULL__SCREEN_pseudobulk_bed_files exists, skipping...\n",
      "final_consensus_peaks/BIO_ddseq_3.FULL__SCREEN_pseudobulk_bed_files exists, skipping...\n",
      "final_consensus_peaks/BIO_ddseq_4.FULL__SCREEN_pseudobulk_bed_files exists, skipping...\n",
      "final_consensus_peaks/BRO_mtscatac_1.FULL__SCREEN_pseudobulk_bed_files exists, skipping...\n",
      "final_consensus_peaks/BRO_mtscatac_2.FULL__SCREEN_pseudobulk_bed_files exists, skipping...\n",
      "final_consensus_peaks/CNA_10xmultiome_1.FULL__SCREEN_pseudobulk_bed_files exists, skipping...\n",
      "final_consensus_peaks/CNA_10xmultiome_2.FULL__SCREEN_pseudobulk_bed_files exists, skipping...\n",
      "final_consensus_peaks/CNA_10xv11_1.FULL__SCREEN_pseudobulk_bed_files exists, skipping...\n",
      "final_consensus_peaks/CNA_10xv11_2.FULL__SCREEN_pseudobulk_bed_files exists, skipping...\n",
      "final_consensus_peaks/CNA_10xv11_3.FULL__SCREEN_pseudobulk_bed_files exists, skipping...\n",
      "final_consensus_peaks/CNA_10xv11_4.FULL__SCREEN_pseudobulk_bed_files exists, skipping...\n",
      "final_consensus_peaks/CNA_10xv11_5.FULL__SCREEN_pseudobulk_bed_files exists, skipping...\n",
      "final_consensus_peaks/CNA_10xv2_1.FULL__SCREEN_pseudobulk_bed_files exists, skipping...\n",
      "final_consensus_peaks/CNA_10xv2_2.FULL__SCREEN_pseudobulk_bed_files exists, skipping...\n",
      "final_consensus_peaks/CNA_hydrop_1.FULL__SCREEN_pseudobulk_bed_files exists, skipping...\n",
      "final_consensus_peaks/CNA_hydrop_2.FULL__SCREEN_pseudobulk_bed_files exists, skipping...\n",
      "final_consensus_peaks/CNA_hydrop_3.FULL__SCREEN_pseudobulk_bed_files exists, skipping...\n",
      "final_consensus_peaks/CNA_mtscatac_1.FULL__SCREEN_pseudobulk_bed_files exists, skipping...\n",
      "final_consensus_peaks/CNA_mtscatac_2.FULL__SCREEN_pseudobulk_bed_files exists, skipping...\n",
      "final_consensus_peaks/EPF_hydrop_1.FULL__SCREEN_pseudobulk_bed_files exists, skipping...\n",
      "final_consensus_peaks/EPF_hydrop_2.FULL__SCREEN_pseudobulk_bed_files exists, skipping...\n",
      "final_consensus_peaks/EPF_hydrop_3.FULL__SCREEN_pseudobulk_bed_files exists, skipping...\n",
      "final_consensus_peaks/EPF_hydrop_4.FULL__SCREEN_pseudobulk_bed_files exists, skipping...\n",
      "final_consensus_peaks/HAR_ddseq_1.FULL__SCREEN_pseudobulk_bed_files exists, skipping...\n",
      "final_consensus_peaks/HAR_ddseq_2.FULL__SCREEN_pseudobulk_bed_files exists, skipping...\n",
      "final_consensus_peaks/MDC_mtscatac_1.FULL__SCREEN_pseudobulk_bed_files exists, skipping...\n",
      "final_consensus_peaks/MDC_mtscatac_2.FULL__SCREEN_pseudobulk_bed_files exists, skipping...\n",
      "final_consensus_peaks/OHS_s3atac_1.FULL__SCREEN_pseudobulk_bed_files exists, skipping...\n",
      "final_consensus_peaks/OHS_s3atac_2.FULL__SCREEN_pseudobulk_bed_files exists, skipping...\n",
      "final_consensus_peaks/SAN_10xmultiome_1.FULL__SCREEN_pseudobulk_bed_files exists, skipping...\n",
      "final_consensus_peaks/SAN_10xmultiome_2.FULL__SCREEN_pseudobulk_bed_files exists, skipping...\n",
      "final_consensus_peaks/STA_10xv11_1.FULL__SCREEN_pseudobulk_bed_files exists, skipping...\n",
      "final_consensus_peaks/STA_10xv11_2.FULL__SCREEN_pseudobulk_bed_files exists, skipping...\n",
      "final_consensus_peaks/TXG_10xv11_1.FULL__SCREEN_pseudobulk_bed_files exists, skipping...\n",
      "final_consensus_peaks/TXG_10xv2_1.FULL__SCREEN_pseudobulk_bed_files exists, skipping...\n",
      "final_consensus_peaks/TXG_10xv2_2.FULL__SCREEN_pseudobulk_bed_files exists, skipping...\n",
      "final_consensus_peaks/UCS_ddseq_1.FULL__SCREEN_pseudobulk_bed_files exists, skipping...\n",
      "final_consensus_peaks/UCS_ddseq_2.FULL__SCREEN_pseudobulk_bed_files exists, skipping...\n",
      "final_consensus_peaks/VIB_10xmultiome_1.FULL__SCREEN_pseudobulk_bed_files exists, skipping...\n",
      "final_consensus_peaks/VIB_10xmultiome_2.FULL__SCREEN_pseudobulk_bed_files exists, skipping...\n",
      "final_consensus_peaks/VIB_10xv1_1.FULL__SCREEN_pseudobulk_bed_files exists, skipping...\n",
      "final_consensus_peaks/VIB_10xv1_2.FULL__SCREEN_pseudobulk_bed_files exists, skipping...\n",
      "final_consensus_peaks/VIB_10xv2_1.FULL__SCREEN_pseudobulk_bed_files exists, skipping...\n",
      "final_consensus_peaks/VIB_10xv2_2.FULL__SCREEN_pseudobulk_bed_files exists, skipping...\n",
      "final_consensus_peaks/VIB_hydrop_1.FULL__SCREEN_pseudobulk_bed_files exists, skipping...\n",
      "final_consensus_peaks/VIB_hydrop_2.FULL__SCREEN_pseudobulk_bed_files exists, skipping...\n"
     ]
    }
   ],
   "source": [
    "# for sample in [\"BRO_mtscatac_1.LIBDS\"]:\n",
    "bw_paths_dict = {}\n",
    "bed_paths_dict = {}\n",
    "\n",
    "import ray\n",
    "\n",
    "if ray.is_initialized():\n",
    "    print(\"Shutting down Ray\")\n",
    "    ray.shutdown()\n",
    "\n",
    "for sample in cto_consensus_path_dict.keys():\n",
    "    # for sample in [\"BRO_mtscatac_1.LIBDS\"]:\n",
    "    bed_path = os.path.join(\n",
    "        \"final_consensus_peaks\", f\"{sample}__SCREEN_pseudobulk_bed_files\"\n",
    "    )\n",
    "    bw_path = os.path.join(\n",
    "        \"final_consensus_peaks\", f\"{sample}__SCREEN_pseudobulk_bw_files\"\n",
    "    )\n",
    "    if not os.path.exists(bed_path):\n",
    "        cto_path = cto_consensus_path_dict[sample]\n",
    "        with open(cto_path, \"rb\") as f:\n",
    "            cto = pickle.load(f)\n",
    "\n",
    "            bw_paths, bed_paths = export_pseudobulk(\n",
    "                input_data=cto,\n",
    "                variable=\"consensus_cell_type\",\n",
    "                sample_id_col=\"sample_id\",\n",
    "                chromsizes=chromsizes,\n",
    "                bed_path=bed_path,\n",
    "                bigwig_path=bw_path,\n",
    "                path_to_fragments=fragments_path_dict[sample],\n",
    "                n_cpu=16,\n",
    "                normalize_bigwig=True,\n",
    "                remove_duplicates=True,\n",
    "            )\n",
    "\n",
    "            if ray.is_initialized():\n",
    "                print(\"Shutting down Ray\")\n",
    "                ray.shutdown()\n",
    "    else:\n",
    "        print(f\"{bed_path} exists, skipping...\")"
   ]
  },
  {
   "cell_type": "markdown",
   "id": "e20c3bc6",
   "metadata": {
    "papermill": {
     "duration": 0.003844,
     "end_time": "2022-09-29T13:44:59.272330",
     "exception": false,
     "start_time": "2022-09-29T13:44:59.268486",
     "status": "completed"
    },
    "tags": []
   },
   "source": [
    "# consensus"
   ]
  },
  {
   "cell_type": "code",
   "execution_count": 8,
   "id": "941734a4",
   "metadata": {
    "execution": {
     "iopub.execute_input": "2022-09-29T13:44:59.281084Z",
     "iopub.status.busy": "2022-09-29T13:44:59.280717Z",
     "iopub.status.idle": "2022-09-29T13:44:59.289404Z",
     "shell.execute_reply": "2022-09-29T13:44:59.288736Z"
    },
    "papermill": {
     "duration": 0.014072,
     "end_time": "2022-09-29T13:44:59.290366",
     "exception": false,
     "start_time": "2022-09-29T13:44:59.276294",
     "status": "completed"
    },
    "tags": []
   },
   "outputs": [
    {
     "data": {
      "text/plain": [
       "{'BIO_ddseq_1.FULL': 'cistopic_objects/BIO_ddseq_1.FULL__cto.scrublet0-4.fmx.singlets.model_20topics.dimreduc.consensus.cell_data.tsv',\n",
       " 'BIO_ddseq_2.FULL': 'cistopic_objects/BIO_ddseq_2.FULL__cto.scrublet0-4.fmx.singlets.model_20topics.dimreduc.consensus.cell_data.tsv',\n",
       " 'BIO_ddseq_3.FULL': 'cistopic_objects/BIO_ddseq_3.FULL__cto.scrublet0-4.fmx.singlets.model_21topics.dimreduc.consensus.cell_data.tsv',\n",
       " 'BIO_ddseq_4.FULL': 'cistopic_objects/BIO_ddseq_4.FULL__cto.scrublet0-4.fmx.singlets.model_19topics.dimreduc.consensus.cell_data.tsv',\n",
       " 'BRO_mtscatac_1.FULL': 'cistopic_objects/BRO_mtscatac_1.FULL__cto.scrublet0-4.fmx.singlets.model_18topics.dimreduc.consensus.cell_data.tsv',\n",
       " 'BRO_mtscatac_2.FULL': 'cistopic_objects/BRO_mtscatac_2.FULL__cto.scrublet0-4.fmx.singlets.model_16topics.dimreduc.consensus.cell_data.tsv',\n",
       " 'CNA_10xmultiome_1.FULL': 'cistopic_objects/CNA_10xmultiome_1.FULL__cto.scrublet0-4.fmx.singlets.model_12topics.dimreduc.consensus.cell_data.tsv',\n",
       " 'CNA_10xmultiome_2.FULL': 'cistopic_objects/CNA_10xmultiome_2.FULL__cto.scrublet0-4.fmx.singlets.model_16topics.dimreduc.consensus.cell_data.tsv',\n",
       " 'CNA_10xv11_1.FULL': 'cistopic_objects/CNA_10xv11_1.FULL__cto.scrublet0-4.fmx.singlets.model_21topics.dimreduc.consensus.cell_data.tsv',\n",
       " 'CNA_10xv11_2.FULL': 'cistopic_objects/CNA_10xv11_2.FULL__cto.scrublet0-4.fmx.singlets.model_16topics.dimreduc.consensus.cell_data.tsv',\n",
       " 'CNA_10xv11_3.FULL': 'cistopic_objects/CNA_10xv11_3.FULL__cto.scrublet0-4.fmx.singlets.model_22topics.dimreduc.consensus.cell_data.tsv',\n",
       " 'CNA_10xv11_4.FULL': 'cistopic_objects/CNA_10xv11_4.FULL__cto.scrublet0-4.fmx.singlets.model_14topics.dimreduc.consensus.cell_data.tsv',\n",
       " 'CNA_10xv11_5.FULL': 'cistopic_objects/CNA_10xv11_5.FULL__cto.scrublet0-4.fmx.singlets.model_11topics.dimreduc.consensus.cell_data.tsv',\n",
       " 'CNA_10xv2_1.FULL': 'cistopic_objects/CNA_10xv2_1.FULL__cto.scrublet0-4.fmx.singlets.model_11topics.dimreduc.consensus.cell_data.tsv',\n",
       " 'CNA_10xv2_2.FULL': 'cistopic_objects/CNA_10xv2_2.FULL__cto.scrublet0-4.fmx.singlets.model_11topics.dimreduc.consensus.cell_data.tsv',\n",
       " 'CNA_hydrop_1.FULL': 'cistopic_objects/CNA_hydrop_1.FULL__cto.scrublet0-4.fmx.singlets.model_18topics.dimreduc.consensus.cell_data.tsv',\n",
       " 'CNA_hydrop_2.FULL': 'cistopic_objects/CNA_hydrop_2.FULL__cto.scrublet0-4.fmx.singlets.model_10topics.dimreduc.consensus.cell_data.tsv',\n",
       " 'CNA_hydrop_3.FULL': 'cistopic_objects/CNA_hydrop_3.FULL__cto.scrublet0-4.fmx.singlets.model_14topics.dimreduc.consensus.cell_data.tsv',\n",
       " 'CNA_mtscatac_1.FULL': 'cistopic_objects/CNA_mtscatac_1.FULL__cto.scrublet0-4.fmx.singlets.model_11topics.dimreduc.consensus.cell_data.tsv',\n",
       " 'CNA_mtscatac_2.FULL': 'cistopic_objects/CNA_mtscatac_2.FULL__cto.scrublet0-4.fmx.singlets.model_11topics.dimreduc.consensus.cell_data.tsv',\n",
       " 'EPF_hydrop_1.FULL': 'cistopic_objects/EPF_hydrop_1.FULL__cto.scrublet0-4.fmx.singlets.model_13topics.dimreduc.consensus.cell_data.tsv',\n",
       " 'EPF_hydrop_2.FULL': 'cistopic_objects/EPF_hydrop_2.FULL__cto.scrublet0-4.fmx.singlets.model_14topics.dimreduc.consensus.cell_data.tsv',\n",
       " 'EPF_hydrop_3.FULL': 'cistopic_objects/EPF_hydrop_3.FULL__cto.scrublet0-4.fmx.singlets.model_15topics.dimreduc.consensus.cell_data.tsv',\n",
       " 'EPF_hydrop_4.FULL': 'cistopic_objects/EPF_hydrop_4.FULL__cto.scrublet0-4.fmx.singlets.model_16topics.dimreduc.consensus.cell_data.tsv',\n",
       " 'HAR_ddseq_1.FULL': 'cistopic_objects/HAR_ddseq_1.FULL__cto.scrublet0-4.fmx.singlets.model_15topics.dimreduc.consensus.cell_data.tsv',\n",
       " 'HAR_ddseq_2.FULL': 'cistopic_objects/HAR_ddseq_2.FULL__cto.scrublet0-4.fmx.singlets.model_14topics.dimreduc.consensus.cell_data.tsv',\n",
       " 'MDC_mtscatac_1.FULL': 'cistopic_objects/MDC_mtscatac_1.FULL__cto.scrublet0-4.fmx.singlets.model_14topics.dimreduc.consensus.cell_data.tsv',\n",
       " 'MDC_mtscatac_2.FULL': 'cistopic_objects/MDC_mtscatac_2.FULL__cto.scrublet0-4.fmx.singlets.model_23topics.dimreduc.consensus.cell_data.tsv',\n",
       " 'OHS_s3atac_1.FULL': 'cistopic_objects/OHS_s3atac_1.FULL__cto.scrublet0-4.fmx.singlets.model_14topics.dimreduc.consensus.cell_data.tsv',\n",
       " 'OHS_s3atac_2.FULL': 'cistopic_objects/OHS_s3atac_2.FULL__cto.scrublet0-4.fmx.singlets.model_19topics.dimreduc.consensus.cell_data.tsv',\n",
       " 'SAN_10xmultiome_1.FULL': 'cistopic_objects/SAN_10xmultiome_1.FULL__cto.scrublet0-4.fmx.singlets.model_16topics.dimreduc.consensus.cell_data.tsv',\n",
       " 'SAN_10xmultiome_2.FULL': 'cistopic_objects/SAN_10xmultiome_2.FULL__cto.scrublet0-4.fmx.singlets.model_10topics.dimreduc.consensus.cell_data.tsv',\n",
       " 'STA_10xv11_1.FULL': 'cistopic_objects/STA_10xv11_1.FULL__cto.scrublet0-4.fmx.singlets.model_13topics.dimreduc.consensus.cell_data.tsv',\n",
       " 'STA_10xv11_2.FULL': 'cistopic_objects/STA_10xv11_2.FULL__cto.scrublet0-4.fmx.singlets.model_14topics.dimreduc.consensus.cell_data.tsv',\n",
       " 'TXG_10xv11_1.FULL': 'cistopic_objects/TXG_10xv11_1.FULL__cto.scrublet0-4.fmx.singlets.model_13topics.dimreduc.consensus.cell_data.tsv',\n",
       " 'TXG_10xv2_1.FULL': 'cistopic_objects/TXG_10xv2_1.FULL__cto.scrublet0-4.fmx.singlets.model_21topics.dimreduc.consensus.cell_data.tsv',\n",
       " 'TXG_10xv2_2.FULL': 'cistopic_objects/TXG_10xv2_2.FULL__cto.scrublet0-4.fmx.singlets.model_22topics.dimreduc.consensus.cell_data.tsv',\n",
       " 'UCS_ddseq_1.FULL': 'cistopic_objects/UCS_ddseq_1.FULL__cto.scrublet0-4.fmx.singlets.model_18topics.dimreduc.consensus.cell_data.tsv',\n",
       " 'UCS_ddseq_2.FULL': 'cistopic_objects/UCS_ddseq_2.FULL__cto.scrublet0-4.fmx.singlets.model_14topics.dimreduc.consensus.cell_data.tsv',\n",
       " 'VIB_10xmultiome_1.FULL': 'cistopic_objects/VIB_10xmultiome_1.FULL__cto.scrublet0-4.fmx.singlets.model_15topics.dimreduc.consensus.cell_data.tsv',\n",
       " 'VIB_10xmultiome_2.FULL': 'cistopic_objects/VIB_10xmultiome_2.FULL__cto.scrublet0-4.fmx.singlets.model_20topics.dimreduc.consensus.cell_data.tsv',\n",
       " 'VIB_10xv1_1.FULL': 'cistopic_objects/VIB_10xv1_1.FULL__cto.scrublet0-4.fmx.singlets.model_15topics.dimreduc.consensus.cell_data.tsv',\n",
       " 'VIB_10xv1_2.FULL': 'cistopic_objects/VIB_10xv1_2.FULL__cto.scrublet0-4.fmx.singlets.model_25topics.dimreduc.consensus.cell_data.tsv',\n",
       " 'VIB_10xv2_1.FULL': 'cistopic_objects/VIB_10xv2_1.FULL__cto.scrublet0-4.fmx.singlets.model_19topics.dimreduc.consensus.cell_data.tsv',\n",
       " 'VIB_10xv2_2.FULL': 'cistopic_objects/VIB_10xv2_2.FULL__cto.scrublet0-4.fmx.singlets.model_21topics.dimreduc.consensus.cell_data.tsv',\n",
       " 'VIB_hydrop_1.FULL': 'cistopic_objects/VIB_hydrop_1.FULL__cto.scrublet0-4.fmx.singlets.model_26topics.dimreduc.consensus.cell_data.tsv',\n",
       " 'VIB_hydrop_2.FULL': 'cistopic_objects/VIB_hydrop_2.FULL__cto.scrublet0-4.fmx.singlets.model_23topics.dimreduc.consensus.cell_data.tsv'}"
      ]
     },
     "execution_count": 8,
     "metadata": {},
     "output_type": "execute_result"
    }
   ],
   "source": [
    "cell_data_path_dict = {\n",
    "    x.split(\"/\")[-1].split(f\"__\")[0]: x\n",
    "    for x in sorted(glob.glob(\"cistopic_objects/*consensus.cell_data.tsv\"))\n",
    "}\n",
    "cell_data_path_dict"
   ]
  },
  {
   "cell_type": "code",
   "execution_count": 9,
   "id": "9dd390ee",
   "metadata": {
    "execution": {
     "iopub.execute_input": "2022-09-29T13:44:59.299391Z",
     "iopub.status.busy": "2022-09-29T13:44:59.299216Z",
     "iopub.status.idle": "2022-09-29T13:44:59.307269Z",
     "shell.execute_reply": "2022-09-29T13:44:59.306672Z"
    },
    "papermill": {
     "duration": 0.013606,
     "end_time": "2022-09-29T13:44:59.308231",
     "exception": false,
     "start_time": "2022-09-29T13:44:59.294625",
     "status": "completed"
    },
    "tags": []
   },
   "outputs": [
    {
     "data": {
      "text/plain": [
       "{'BIO_ddseq_1.FULL': 'final_consensus_peaks/BIO_ddseq_1.FULL__SCREEN_pseudobulk_bw_files',\n",
       " 'BIO_ddseq_2.FULL': 'final_consensus_peaks/BIO_ddseq_2.FULL__SCREEN_pseudobulk_bw_files',\n",
       " 'BIO_ddseq_3.FULL': 'final_consensus_peaks/BIO_ddseq_3.FULL__SCREEN_pseudobulk_bw_files',\n",
       " 'BIO_ddseq_4.FULL': 'final_consensus_peaks/BIO_ddseq_4.FULL__SCREEN_pseudobulk_bw_files',\n",
       " 'BRO_mtscatac_1.FULL': 'final_consensus_peaks/BRO_mtscatac_1.FULL__SCREEN_pseudobulk_bw_files',\n",
       " 'BRO_mtscatac_2.FULL': 'final_consensus_peaks/BRO_mtscatac_2.FULL__SCREEN_pseudobulk_bw_files',\n",
       " 'CNA_10xmultiome_1.FULL': 'final_consensus_peaks/CNA_10xmultiome_1.FULL__SCREEN_pseudobulk_bw_files',\n",
       " 'CNA_10xmultiome_2.FULL': 'final_consensus_peaks/CNA_10xmultiome_2.FULL__SCREEN_pseudobulk_bw_files',\n",
       " 'CNA_10xv11_1.FULL': 'final_consensus_peaks/CNA_10xv11_1.FULL__SCREEN_pseudobulk_bw_files',\n",
       " 'CNA_10xv11_2.FULL': 'final_consensus_peaks/CNA_10xv11_2.FULL__SCREEN_pseudobulk_bw_files',\n",
       " 'CNA_10xv11_3.FULL': 'final_consensus_peaks/CNA_10xv11_3.FULL__SCREEN_pseudobulk_bw_files',\n",
       " 'CNA_10xv11_4.FULL': 'final_consensus_peaks/CNA_10xv11_4.FULL__SCREEN_pseudobulk_bw_files',\n",
       " 'CNA_10xv11_5.FULL': 'final_consensus_peaks/CNA_10xv11_5.FULL__SCREEN_pseudobulk_bw_files',\n",
       " 'CNA_10xv2_1.FULL': 'final_consensus_peaks/CNA_10xv2_1.FULL__SCREEN_pseudobulk_bw_files',\n",
       " 'CNA_10xv2_2.FULL': 'final_consensus_peaks/CNA_10xv2_2.FULL__SCREEN_pseudobulk_bw_files',\n",
       " 'CNA_hydrop_1.FULL': 'final_consensus_peaks/CNA_hydrop_1.FULL__SCREEN_pseudobulk_bw_files',\n",
       " 'CNA_hydrop_2.FULL': 'final_consensus_peaks/CNA_hydrop_2.FULL__SCREEN_pseudobulk_bw_files',\n",
       " 'CNA_hydrop_3.FULL': 'final_consensus_peaks/CNA_hydrop_3.FULL__SCREEN_pseudobulk_bw_files',\n",
       " 'CNA_mtscatac_1.FULL': 'final_consensus_peaks/CNA_mtscatac_1.FULL__SCREEN_pseudobulk_bw_files',\n",
       " 'CNA_mtscatac_2.FULL': 'final_consensus_peaks/CNA_mtscatac_2.FULL__SCREEN_pseudobulk_bw_files',\n",
       " 'EPF_hydrop_1.FULL': 'final_consensus_peaks/EPF_hydrop_1.FULL__SCREEN_pseudobulk_bw_files',\n",
       " 'EPF_hydrop_2.FULL': 'final_consensus_peaks/EPF_hydrop_2.FULL__SCREEN_pseudobulk_bw_files',\n",
       " 'EPF_hydrop_3.FULL': 'final_consensus_peaks/EPF_hydrop_3.FULL__SCREEN_pseudobulk_bw_files',\n",
       " 'EPF_hydrop_4.FULL': 'final_consensus_peaks/EPF_hydrop_4.FULL__SCREEN_pseudobulk_bw_files',\n",
       " 'HAR_ddseq_1.FULL': 'final_consensus_peaks/HAR_ddseq_1.FULL__SCREEN_pseudobulk_bw_files',\n",
       " 'HAR_ddseq_2.FULL': 'final_consensus_peaks/HAR_ddseq_2.FULL__SCREEN_pseudobulk_bw_files',\n",
       " 'MDC_mtscatac_1.FULL': 'final_consensus_peaks/MDC_mtscatac_1.FULL__SCREEN_pseudobulk_bw_files',\n",
       " 'MDC_mtscatac_2.FULL': 'final_consensus_peaks/MDC_mtscatac_2.FULL__SCREEN_pseudobulk_bw_files',\n",
       " 'OHS_s3atac_1.FULL': 'final_consensus_peaks/OHS_s3atac_1.FULL__SCREEN_pseudobulk_bw_files',\n",
       " 'OHS_s3atac_2.FULL': 'final_consensus_peaks/OHS_s3atac_2.FULL__SCREEN_pseudobulk_bw_files',\n",
       " 'SAN_10xmultiome_1.FULL': 'final_consensus_peaks/SAN_10xmultiome_1.FULL__SCREEN_pseudobulk_bw_files',\n",
       " 'SAN_10xmultiome_2.FULL': 'final_consensus_peaks/SAN_10xmultiome_2.FULL__SCREEN_pseudobulk_bw_files',\n",
       " 'STA_10xv11_1.FULL': 'final_consensus_peaks/STA_10xv11_1.FULL__SCREEN_pseudobulk_bw_files',\n",
       " 'STA_10xv11_2.FULL': 'final_consensus_peaks/STA_10xv11_2.FULL__SCREEN_pseudobulk_bw_files',\n",
       " 'TXG_10xv11_1.FULL': 'final_consensus_peaks/TXG_10xv11_1.FULL__SCREEN_pseudobulk_bw_files',\n",
       " 'TXG_10xv2_1.FULL': 'final_consensus_peaks/TXG_10xv2_1.FULL__SCREEN_pseudobulk_bw_files',\n",
       " 'TXG_10xv2_2.FULL': 'final_consensus_peaks/TXG_10xv2_2.FULL__SCREEN_pseudobulk_bw_files',\n",
       " 'UCS_ddseq_1.FULL': 'final_consensus_peaks/UCS_ddseq_1.FULL__SCREEN_pseudobulk_bw_files',\n",
       " 'UCS_ddseq_2.FULL': 'final_consensus_peaks/UCS_ddseq_2.FULL__SCREEN_pseudobulk_bw_files',\n",
       " 'VIB_10xmultiome_1.FULL': 'final_consensus_peaks/VIB_10xmultiome_1.FULL__SCREEN_pseudobulk_bw_files',\n",
       " 'VIB_10xmultiome_2.FULL': 'final_consensus_peaks/VIB_10xmultiome_2.FULL__SCREEN_pseudobulk_bw_files',\n",
       " 'VIB_10xv1_1.FULL': 'final_consensus_peaks/VIB_10xv1_1.FULL__SCREEN_pseudobulk_bw_files',\n",
       " 'VIB_10xv1_2.FULL': 'final_consensus_peaks/VIB_10xv1_2.FULL__SCREEN_pseudobulk_bw_files',\n",
       " 'VIB_10xv2_1.FULL': 'final_consensus_peaks/VIB_10xv2_1.FULL__SCREEN_pseudobulk_bw_files',\n",
       " 'VIB_10xv2_2.FULL': 'final_consensus_peaks/VIB_10xv2_2.FULL__SCREEN_pseudobulk_bw_files',\n",
       " 'VIB_hydrop_1.FULL': 'final_consensus_peaks/VIB_hydrop_1.FULL__SCREEN_pseudobulk_bw_files',\n",
       " 'VIB_hydrop_2.FULL': 'final_consensus_peaks/VIB_hydrop_2.FULL__SCREEN_pseudobulk_bw_files'}"
      ]
     },
     "execution_count": 9,
     "metadata": {},
     "output_type": "execute_result"
    }
   ],
   "source": [
    "bw_path_dict = {\n",
    "    x.split(\"/\")[-1].split(f\"__\")[0]: x\n",
    "    for x in sorted(glob.glob(\"final_consensus_peaks/*_pseudobulk_bw_files\"))\n",
    "}\n",
    "bw_path_dict"
   ]
  },
  {
   "cell_type": "code",
   "execution_count": 10,
   "id": "d57ef8d8",
   "metadata": {
    "execution": {
     "iopub.execute_input": "2022-09-29T13:44:59.317504Z",
     "iopub.status.busy": "2022-09-29T13:44:59.317333Z",
     "iopub.status.idle": "2022-09-29T13:44:59.325182Z",
     "shell.execute_reply": "2022-09-29T13:44:59.324502Z"
    },
    "papermill": {
     "duration": 0.013527,
     "end_time": "2022-09-29T13:44:59.326142",
     "exception": false,
     "start_time": "2022-09-29T13:44:59.312615",
     "status": "completed"
    },
    "tags": []
   },
   "outputs": [
    {
     "data": {
      "text/plain": [
       "{'BIO_ddseq_1.FULL': 'final_consensus_peaks/BIO_ddseq_1.FULL__SCREEN_pseudobulk_bed_files',\n",
       " 'BIO_ddseq_2.FULL': 'final_consensus_peaks/BIO_ddseq_2.FULL__SCREEN_pseudobulk_bed_files',\n",
       " 'BIO_ddseq_3.FULL': 'final_consensus_peaks/BIO_ddseq_3.FULL__SCREEN_pseudobulk_bed_files',\n",
       " 'BIO_ddseq_4.FULL': 'final_consensus_peaks/BIO_ddseq_4.FULL__SCREEN_pseudobulk_bed_files',\n",
       " 'BRO_mtscatac_1.FULL': 'final_consensus_peaks/BRO_mtscatac_1.FULL__SCREEN_pseudobulk_bed_files',\n",
       " 'BRO_mtscatac_2.FULL': 'final_consensus_peaks/BRO_mtscatac_2.FULL__SCREEN_pseudobulk_bed_files',\n",
       " 'CNA_10xmultiome_1.FULL': 'final_consensus_peaks/CNA_10xmultiome_1.FULL__SCREEN_pseudobulk_bed_files',\n",
       " 'CNA_10xmultiome_2.FULL': 'final_consensus_peaks/CNA_10xmultiome_2.FULL__SCREEN_pseudobulk_bed_files',\n",
       " 'CNA_10xv11_1.FULL': 'final_consensus_peaks/CNA_10xv11_1.FULL__SCREEN_pseudobulk_bed_files',\n",
       " 'CNA_10xv11_2.FULL': 'final_consensus_peaks/CNA_10xv11_2.FULL__SCREEN_pseudobulk_bed_files',\n",
       " 'CNA_10xv11_3.FULL': 'final_consensus_peaks/CNA_10xv11_3.FULL__SCREEN_pseudobulk_bed_files',\n",
       " 'CNA_10xv11_4.FULL': 'final_consensus_peaks/CNA_10xv11_4.FULL__SCREEN_pseudobulk_bed_files',\n",
       " 'CNA_10xv11_5.FULL': 'final_consensus_peaks/CNA_10xv11_5.FULL__SCREEN_pseudobulk_bed_files',\n",
       " 'CNA_10xv2_1.FULL': 'final_consensus_peaks/CNA_10xv2_1.FULL__SCREEN_pseudobulk_bed_files',\n",
       " 'CNA_10xv2_2.FULL': 'final_consensus_peaks/CNA_10xv2_2.FULL__SCREEN_pseudobulk_bed_files',\n",
       " 'CNA_hydrop_1.FULL': 'final_consensus_peaks/CNA_hydrop_1.FULL__SCREEN_pseudobulk_bed_files',\n",
       " 'CNA_hydrop_2.FULL': 'final_consensus_peaks/CNA_hydrop_2.FULL__SCREEN_pseudobulk_bed_files',\n",
       " 'CNA_hydrop_3.FULL': 'final_consensus_peaks/CNA_hydrop_3.FULL__SCREEN_pseudobulk_bed_files',\n",
       " 'CNA_mtscatac_1.FULL': 'final_consensus_peaks/CNA_mtscatac_1.FULL__SCREEN_pseudobulk_bed_files',\n",
       " 'CNA_mtscatac_2.FULL': 'final_consensus_peaks/CNA_mtscatac_2.FULL__SCREEN_pseudobulk_bed_files',\n",
       " 'EPF_hydrop_1.FULL': 'final_consensus_peaks/EPF_hydrop_1.FULL__SCREEN_pseudobulk_bed_files',\n",
       " 'EPF_hydrop_2.FULL': 'final_consensus_peaks/EPF_hydrop_2.FULL__SCREEN_pseudobulk_bed_files',\n",
       " 'EPF_hydrop_3.FULL': 'final_consensus_peaks/EPF_hydrop_3.FULL__SCREEN_pseudobulk_bed_files',\n",
       " 'EPF_hydrop_4.FULL': 'final_consensus_peaks/EPF_hydrop_4.FULL__SCREEN_pseudobulk_bed_files',\n",
       " 'HAR_ddseq_1.FULL': 'final_consensus_peaks/HAR_ddseq_1.FULL__SCREEN_pseudobulk_bed_files',\n",
       " 'HAR_ddseq_2.FULL': 'final_consensus_peaks/HAR_ddseq_2.FULL__SCREEN_pseudobulk_bed_files',\n",
       " 'MDC_mtscatac_1.FULL': 'final_consensus_peaks/MDC_mtscatac_1.FULL__SCREEN_pseudobulk_bed_files',\n",
       " 'MDC_mtscatac_2.FULL': 'final_consensus_peaks/MDC_mtscatac_2.FULL__SCREEN_pseudobulk_bed_files',\n",
       " 'OHS_s3atac_1.FULL': 'final_consensus_peaks/OHS_s3atac_1.FULL__SCREEN_pseudobulk_bed_files',\n",
       " 'OHS_s3atac_2.FULL': 'final_consensus_peaks/OHS_s3atac_2.FULL__SCREEN_pseudobulk_bed_files',\n",
       " 'SAN_10xmultiome_1.FULL': 'final_consensus_peaks/SAN_10xmultiome_1.FULL__SCREEN_pseudobulk_bed_files',\n",
       " 'SAN_10xmultiome_2.FULL': 'final_consensus_peaks/SAN_10xmultiome_2.FULL__SCREEN_pseudobulk_bed_files',\n",
       " 'STA_10xv11_1.FULL': 'final_consensus_peaks/STA_10xv11_1.FULL__SCREEN_pseudobulk_bed_files',\n",
       " 'STA_10xv11_2.FULL': 'final_consensus_peaks/STA_10xv11_2.FULL__SCREEN_pseudobulk_bed_files',\n",
       " 'TXG_10xv11_1.FULL': 'final_consensus_peaks/TXG_10xv11_1.FULL__SCREEN_pseudobulk_bed_files',\n",
       " 'TXG_10xv2_1.FULL': 'final_consensus_peaks/TXG_10xv2_1.FULL__SCREEN_pseudobulk_bed_files',\n",
       " 'TXG_10xv2_2.FULL': 'final_consensus_peaks/TXG_10xv2_2.FULL__SCREEN_pseudobulk_bed_files',\n",
       " 'UCS_ddseq_1.FULL': 'final_consensus_peaks/UCS_ddseq_1.FULL__SCREEN_pseudobulk_bed_files',\n",
       " 'UCS_ddseq_2.FULL': 'final_consensus_peaks/UCS_ddseq_2.FULL__SCREEN_pseudobulk_bed_files',\n",
       " 'VIB_10xmultiome_1.FULL': 'final_consensus_peaks/VIB_10xmultiome_1.FULL__SCREEN_pseudobulk_bed_files',\n",
       " 'VIB_10xmultiome_2.FULL': 'final_consensus_peaks/VIB_10xmultiome_2.FULL__SCREEN_pseudobulk_bed_files',\n",
       " 'VIB_10xv1_1.FULL': 'final_consensus_peaks/VIB_10xv1_1.FULL__SCREEN_pseudobulk_bed_files',\n",
       " 'VIB_10xv1_2.FULL': 'final_consensus_peaks/VIB_10xv1_2.FULL__SCREEN_pseudobulk_bed_files',\n",
       " 'VIB_10xv2_1.FULL': 'final_consensus_peaks/VIB_10xv2_1.FULL__SCREEN_pseudobulk_bed_files',\n",
       " 'VIB_10xv2_2.FULL': 'final_consensus_peaks/VIB_10xv2_2.FULL__SCREEN_pseudobulk_bed_files',\n",
       " 'VIB_hydrop_1.FULL': 'final_consensus_peaks/VIB_hydrop_1.FULL__SCREEN_pseudobulk_bed_files',\n",
       " 'VIB_hydrop_2.FULL': 'final_consensus_peaks/VIB_hydrop_2.FULL__SCREEN_pseudobulk_bed_files'}"
      ]
     },
     "execution_count": 10,
     "metadata": {},
     "output_type": "execute_result"
    }
   ],
   "source": [
    "bed_path_dict = {\n",
    "    x.split(\"/\")[-1].split(f\"__\")[0]: x\n",
    "    for x in sorted(glob.glob(\"final_consensus_peaks/*_pseudobulk_bed_files\"))\n",
    "}\n",
    "bed_path_dict"
   ]
  },
  {
   "cell_type": "code",
   "execution_count": 11,
   "id": "40d98405",
   "metadata": {
    "execution": {
     "iopub.execute_input": "2022-09-29T13:44:59.335805Z",
     "iopub.status.busy": "2022-09-29T13:44:59.335379Z",
     "iopub.status.idle": "2022-09-29T13:44:59.366415Z",
     "shell.execute_reply": "2022-09-29T13:44:59.365801Z"
    },
    "papermill": {
     "duration": 0.03679,
     "end_time": "2022-09-29T13:44:59.367367",
     "exception": false,
     "start_time": "2022-09-29T13:44:59.330577",
     "status": "completed"
    },
    "tags": []
   },
   "outputs": [],
   "source": [
    "for sample in bed_path_dict.keys():\n",
    "    bed_paths = {\n",
    "        x.split(\"/\")[-1].split(\"__\")[0].split(\".bed.gz\")[0]: x\n",
    "        for x in glob.glob(bed_path_dict[sample] + \"/*\")\n",
    "    }"
   ]
  },
  {
   "cell_type": "code",
   "execution_count": 12,
   "id": "211a165d",
   "metadata": {
    "execution": {
     "iopub.execute_input": "2022-09-29T13:44:59.377369Z",
     "iopub.status.busy": "2022-09-29T13:44:59.376822Z",
     "iopub.status.idle": "2022-09-29T13:44:59.380376Z",
     "shell.execute_reply": "2022-09-29T13:44:59.379767Z"
    },
    "papermill": {
     "duration": 0.009409,
     "end_time": "2022-09-29T13:44:59.381354",
     "exception": false,
     "start_time": "2022-09-29T13:44:59.371945",
     "status": "completed"
    },
    "tags": []
   },
   "outputs": [],
   "source": [
    "from pycisTopic.pseudobulk_peak_calling import *"
   ]
  },
  {
   "cell_type": "code",
   "execution_count": 13,
   "id": "5100f7a1",
   "metadata": {
    "execution": {
     "iopub.execute_input": "2022-09-29T13:44:59.391153Z",
     "iopub.status.busy": "2022-09-29T13:44:59.390790Z",
     "iopub.status.idle": "2022-09-29T13:44:59.394013Z",
     "shell.execute_reply": "2022-09-29T13:44:59.393387Z"
    },
    "papermill": {
     "duration": 0.009207,
     "end_time": "2022-09-29T13:44:59.394975",
     "exception": false,
     "start_time": "2022-09-29T13:44:59.385768",
     "status": "completed"
    },
    "tags": []
   },
   "outputs": [],
   "source": [
    "import ray"
   ]
  },
  {
   "cell_type": "code",
   "execution_count": 14,
   "id": "ff106404",
   "metadata": {
    "execution": {
     "iopub.execute_input": "2022-09-29T13:44:59.404947Z",
     "iopub.status.busy": "2022-09-29T13:44:59.404464Z"
    },
    "papermill": {
     "duration": null,
     "end_time": null,
     "exception": false,
     "start_time": "2022-09-29T13:44:59.399469",
     "status": "running"
    },
    "tags": []
   },
   "outputs": [
    {
     "name": "stdout",
     "output_type": "stream",
     "text": [
      "Starting final_consensus_peaks/BIO_ddseq_1.FULL__SCREEN_narrow_peaks_dict.pkl\n"
     ]
    },
    {
     "name": "stderr",
     "output_type": "stream",
     "text": [
      "2022-09-29 13:45:03,706\tINFO services.py:1470 -- View the Ray dashboard at \u001b[1m\u001b[32mhttp://127.0.0.1:8265\u001b[39m\u001b[22m\n"
     ]
    },
    {
     "name": "stdout",
     "output_type": "stream",
     "text": [
      "\u001b[2m\u001b[36m(macs_call_peak_ray pid=4034740)\u001b[0m 2022-09-29 13:45:34,144 cisTopic     INFO     Calling peaks for CytotoxicTcell with macs2 callpeak --treatment final_consensus_peaks/BIO_ddseq_1.FULL__SCREEN_pseudobulk_bed_files/CytotoxicTcell.bed.gz --name CytotoxicTcell  --outdir final_consensus_peaks/BIO_ddseq_1.FULL__SCREEN_consensus_peaks --format BEDPE --gsize hs --qvalue 0.05 --nomodel --shift 73 --extsize 146 --keep-dup all --call-summits --nolambda\n",
      "\u001b[2m\u001b[36m(macs_call_peak_ray pid=4034741)\u001b[0m 2022-09-29 13:45:34,134 cisTopic     INFO     Calling peaks for Dendriticcell with macs2 callpeak --treatment final_consensus_peaks/BIO_ddseq_1.FULL__SCREEN_pseudobulk_bed_files/Dendriticcell.bed.gz --name Dendriticcell  --outdir final_consensus_peaks/BIO_ddseq_1.FULL__SCREEN_consensus_peaks --format BEDPE --gsize hs --qvalue 0.05 --nomodel --shift 73 --extsize 146 --keep-dup all --call-summits --nolambda\n",
      "\u001b[2m\u001b[36m(macs_call_peak_ray pid=4034743)\u001b[0m 2022-09-29 13:45:34,191 cisTopic     INFO     Calling peaks for Naturalkillercell with macs2 callpeak --treatment final_consensus_peaks/BIO_ddseq_1.FULL__SCREEN_pseudobulk_bed_files/Naturalkillercell.bed.gz --name Naturalkillercell  --outdir final_consensus_peaks/BIO_ddseq_1.FULL__SCREEN_consensus_peaks --format BEDPE --gsize hs --qvalue 0.05 --nomodel --shift 73 --extsize 146 --keep-dup all --call-summits --nolambda\n",
      "\u001b[2m\u001b[36m(macs_call_peak_ray pid=4034742)\u001b[0m 2022-09-29 13:45:34,130 cisTopic     INFO     Calling peaks for CD14_monocyte with macs2 callpeak --treatment final_consensus_peaks/BIO_ddseq_1.FULL__SCREEN_pseudobulk_bed_files/CD14_monocyte.bed.gz --name CD14_monocyte  --outdir final_consensus_peaks/BIO_ddseq_1.FULL__SCREEN_consensus_peaks --format BEDPE --gsize hs --qvalue 0.05 --nomodel --shift 73 --extsize 146 --keep-dup all --call-summits --nolambda\n",
      "\u001b[2m\u001b[36m(macs_call_peak_ray pid=4034745)\u001b[0m 2022-09-29 13:45:34,150 cisTopic     INFO     Calling peaks for CD4_Tcell with macs2 callpeak --treatment final_consensus_peaks/BIO_ddseq_1.FULL__SCREEN_pseudobulk_bed_files/CD4_Tcell.bed.gz --name CD4_Tcell  --outdir final_consensus_peaks/BIO_ddseq_1.FULL__SCREEN_consensus_peaks --format BEDPE --gsize hs --qvalue 0.05 --nomodel --shift 73 --extsize 146 --keep-dup all --call-summits --nolambda\n",
      "\u001b[2m\u001b[36m(macs_call_peak_ray pid=4034744)\u001b[0m 2022-09-29 13:45:34,163 cisTopic     INFO     Calling peaks for Bcell with macs2 callpeak --treatment final_consensus_peaks/BIO_ddseq_1.FULL__SCREEN_pseudobulk_bed_files/Bcell.bed.gz --name Bcell  --outdir final_consensus_peaks/BIO_ddseq_1.FULL__SCREEN_consensus_peaks --format BEDPE --gsize hs --qvalue 0.05 --nomodel --shift 73 --extsize 146 --keep-dup all --call-summits --nolambda\n",
      "\u001b[2m\u001b[36m(macs_call_peak_ray pid=4034744)\u001b[0m 2022-09-29 13:49:42,866 cisTopic     INFO     Bcell done!\n",
      "\u001b[2m\u001b[36m(macs_call_peak_ray pid=4034743)\u001b[0m 2022-09-29 13:49:47,971 cisTopic     INFO     Naturalkillercell done!\n",
      "\u001b[2m\u001b[36m(macs_call_peak_ray pid=4034741)\u001b[0m 2022-09-29 13:49:52,626 cisTopic     INFO     Dendriticcell done!\n",
      "\u001b[2m\u001b[36m(macs_call_peak_ray pid=4034740)\u001b[0m 2022-09-29 13:51:28,411 cisTopic     INFO     CytotoxicTcell done!\n",
      "\u001b[2m\u001b[36m(macs_call_peak_ray pid=4034742)\u001b[0m 2022-09-29 13:51:55,964 cisTopic     INFO     CD14_monocyte done!\n",
      "\u001b[2m\u001b[36m(macs_call_peak_ray pid=4034745)\u001b[0m 2022-09-29 13:52:49,727 cisTopic     INFO     CD4_Tcell done!\n",
      "Starting final_consensus_peaks/BIO_ddseq_2.FULL__SCREEN_narrow_peaks_dict.pkl\n"
     ]
    },
    {
     "name": "stderr",
     "output_type": "stream",
     "text": [
      "2022-09-29 13:52:57,694\tINFO services.py:1470 -- View the Ray dashboard at \u001b[1m\u001b[32mhttp://127.0.0.1:8265\u001b[39m\u001b[22m\n"
     ]
    },
    {
     "name": "stdout",
     "output_type": "stream",
     "text": [
      "\u001b[2m\u001b[36m(macs_call_peak_ray pid=4037570)\u001b[0m 2022-09-29 13:53:27,717 cisTopic     INFO     Calling peaks for CD4_Tcell with macs2 callpeak --treatment final_consensus_peaks/BIO_ddseq_2.FULL__SCREEN_pseudobulk_bed_files/CD4_Tcell.bed.gz --name CD4_Tcell  --outdir final_consensus_peaks/BIO_ddseq_2.FULL__SCREEN_consensus_peaks --format BEDPE --gsize hs --qvalue 0.05 --nomodel --shift 73 --extsize 146 --keep-dup all --call-summits --nolambda\n",
      "\u001b[2m\u001b[36m(macs_call_peak_ray pid=4037569)\u001b[0m 2022-09-29 13:53:27,735 cisTopic     INFO     Calling peaks for Naturalkillercell with macs2 callpeak --treatment final_consensus_peaks/BIO_ddseq_2.FULL__SCREEN_pseudobulk_bed_files/Naturalkillercell.bed.gz --name Naturalkillercell  --outdir final_consensus_peaks/BIO_ddseq_2.FULL__SCREEN_consensus_peaks --format BEDPE --gsize hs --qvalue 0.05 --nomodel --shift 73 --extsize 146 --keep-dup all --call-summits --nolambda\n",
      "\u001b[2m\u001b[36m(macs_call_peak_ray pid=4037563)\u001b[0m 2022-09-29 13:53:27,773 cisTopic     INFO     Calling peaks for Dendriticcell with macs2 callpeak --treatment final_consensus_peaks/BIO_ddseq_2.FULL__SCREEN_pseudobulk_bed_files/Dendriticcell.bed.gz --name Dendriticcell  --outdir final_consensus_peaks/BIO_ddseq_2.FULL__SCREEN_consensus_peaks --format BEDPE --gsize hs --qvalue 0.05 --nomodel --shift 73 --extsize 146 --keep-dup all --call-summits --nolambda\n",
      "\u001b[2m\u001b[36m(macs_call_peak_ray pid=4037568)\u001b[0m 2022-09-29 13:53:27,783 cisTopic     INFO     Calling peaks for Bcell with macs2 callpeak --treatment final_consensus_peaks/BIO_ddseq_2.FULL__SCREEN_pseudobulk_bed_files/Bcell.bed.gz --name Bcell  --outdir final_consensus_peaks/BIO_ddseq_2.FULL__SCREEN_consensus_peaks --format BEDPE --gsize hs --qvalue 0.05 --nomodel --shift 73 --extsize 146 --keep-dup all --call-summits --nolambda\n",
      "\u001b[2m\u001b[36m(macs_call_peak_ray pid=4037567)\u001b[0m 2022-09-29 13:53:27,749 cisTopic     INFO     Calling peaks for CD14_monocyte with macs2 callpeak --treatment final_consensus_peaks/BIO_ddseq_2.FULL__SCREEN_pseudobulk_bed_files/CD14_monocyte.bed.gz --name CD14_monocyte  --outdir final_consensus_peaks/BIO_ddseq_2.FULL__SCREEN_consensus_peaks --format BEDPE --gsize hs --qvalue 0.05 --nomodel --shift 73 --extsize 146 --keep-dup all --call-summits --nolambda\n",
      "\u001b[2m\u001b[36m(macs_call_peak_ray pid=4037566)\u001b[0m 2022-09-29 13:53:27,837 cisTopic     INFO     Calling peaks for CytotoxicTcell with macs2 callpeak --treatment final_consensus_peaks/BIO_ddseq_2.FULL__SCREEN_pseudobulk_bed_files/CytotoxicTcell.bed.gz --name CytotoxicTcell  --outdir final_consensus_peaks/BIO_ddseq_2.FULL__SCREEN_consensus_peaks --format BEDPE --gsize hs --qvalue 0.05 --nomodel --shift 73 --extsize 146 --keep-dup all --call-summits --nolambda\n",
      "\u001b[2m\u001b[36m(macs_call_peak_ray pid=4037563)\u001b[0m 2022-09-29 13:54:57,594 cisTopic     INFO     Dendriticcell done!\n",
      "\u001b[2m\u001b[36m(macs_call_peak_ray pid=4037569)\u001b[0m 2022-09-29 13:56:41,378 cisTopic     INFO     Naturalkillercell done!\n",
      "\u001b[2m\u001b[36m(macs_call_peak_ray pid=4037568)\u001b[0m 2022-09-29 13:57:00,675 cisTopic     INFO     Bcell done!\n",
      "\u001b[2m\u001b[36m(macs_call_peak_ray pid=4037566)\u001b[0m 2022-09-29 13:57:56,077 cisTopic     INFO     CytotoxicTcell done!\n",
      "\u001b[2m\u001b[36m(macs_call_peak_ray pid=4037567)\u001b[0m 2022-09-29 13:58:08,603 cisTopic     INFO     CD14_monocyte done!\n",
      "\u001b[2m\u001b[36m(macs_call_peak_ray pid=4037570)\u001b[0m 2022-09-29 13:58:51,465 cisTopic     INFO     CD4_Tcell done!\n",
      "Starting final_consensus_peaks/BIO_ddseq_3.FULL__SCREEN_narrow_peaks_dict.pkl\n"
     ]
    },
    {
     "name": "stderr",
     "output_type": "stream",
     "text": [
      "2022-09-29 13:58:59,345\tINFO services.py:1470 -- View the Ray dashboard at \u001b[1m\u001b[32mhttp://127.0.0.1:8265\u001b[39m\u001b[22m\n"
     ]
    },
    {
     "name": "stdout",
     "output_type": "stream",
     "text": [
      "\u001b[2m\u001b[36m(macs_call_peak_ray pid=4038610)\u001b[0m 2022-09-29 13:59:30,973 cisTopic     INFO     Calling peaks for Naturalkillercell with macs2 callpeak --treatment final_consensus_peaks/BIO_ddseq_3.FULL__SCREEN_pseudobulk_bed_files/Naturalkillercell.bed.gz --name Naturalkillercell  --outdir final_consensus_peaks/BIO_ddseq_3.FULL__SCREEN_consensus_peaks --format BEDPE --gsize hs --qvalue 0.05 --nomodel --shift 73 --extsize 146 --keep-dup all --call-summits --nolambda\n",
      "\u001b[2m\u001b[36m(macs_call_peak_ray pid=4038612)\u001b[0m 2022-09-29 13:59:30,978 cisTopic     INFO     Calling peaks for Bcell with macs2 callpeak --treatment final_consensus_peaks/BIO_ddseq_3.FULL__SCREEN_pseudobulk_bed_files/Bcell.bed.gz --name Bcell  --outdir final_consensus_peaks/BIO_ddseq_3.FULL__SCREEN_consensus_peaks --format BEDPE --gsize hs --qvalue 0.05 --nomodel --shift 73 --extsize 146 --keep-dup all --call-summits --nolambda\n",
      "\u001b[2m\u001b[36m(macs_call_peak_ray pid=4038609)\u001b[0m 2022-09-29 13:59:30,992 cisTopic     INFO     Calling peaks for CD14_monocyte with macs2 callpeak --treatment final_consensus_peaks/BIO_ddseq_3.FULL__SCREEN_pseudobulk_bed_files/CD14_monocyte.bed.gz --name CD14_monocyte  --outdir final_consensus_peaks/BIO_ddseq_3.FULL__SCREEN_consensus_peaks --format BEDPE --gsize hs --qvalue 0.05 --nomodel --shift 73 --extsize 146 --keep-dup all --call-summits --nolambda\n",
      "\u001b[2m\u001b[36m(macs_call_peak_ray pid=4038606)\u001b[0m 2022-09-29 13:59:31,011 cisTopic     INFO     Calling peaks for Dendriticcell with macs2 callpeak --treatment final_consensus_peaks/BIO_ddseq_3.FULL__SCREEN_pseudobulk_bed_files/Dendriticcell.bed.gz --name Dendriticcell  --outdir final_consensus_peaks/BIO_ddseq_3.FULL__SCREEN_consensus_peaks --format BEDPE --gsize hs --qvalue 0.05 --nomodel --shift 73 --extsize 146 --keep-dup all --call-summits --nolambda\n",
      "\u001b[2m\u001b[36m(macs_call_peak_ray pid=4038608)\u001b[0m 2022-09-29 13:59:31,034 cisTopic     INFO     Calling peaks for CD16_monocyte with macs2 callpeak --treatment final_consensus_peaks/BIO_ddseq_3.FULL__SCREEN_pseudobulk_bed_files/CD16_monocyte.bed.gz --name CD16_monocyte  --outdir final_consensus_peaks/BIO_ddseq_3.FULL__SCREEN_consensus_peaks --format BEDPE --gsize hs --qvalue 0.05 --nomodel --shift 73 --extsize 146 --keep-dup all --call-summits --nolambda\n",
      "\u001b[2m\u001b[36m(macs_call_peak_ray pid=4038611)\u001b[0m 2022-09-29 13:59:31,020 cisTopic     INFO     Calling peaks for CD4_Tcell with macs2 callpeak --treatment final_consensus_peaks/BIO_ddseq_3.FULL__SCREEN_pseudobulk_bed_files/CD4_Tcell.bed.gz --name CD4_Tcell  --outdir final_consensus_peaks/BIO_ddseq_3.FULL__SCREEN_consensus_peaks --format BEDPE --gsize hs --qvalue 0.05 --nomodel --shift 73 --extsize 146 --keep-dup all --call-summits --nolambda\n",
      "\u001b[2m\u001b[36m(macs_call_peak_ray pid=4038607)\u001b[0m 2022-09-29 13:59:31,003 cisTopic     INFO     Calling peaks for CytotoxicTcell with macs2 callpeak --treatment final_consensus_peaks/BIO_ddseq_3.FULL__SCREEN_pseudobulk_bed_files/CytotoxicTcell.bed.gz --name CytotoxicTcell  --outdir final_consensus_peaks/BIO_ddseq_3.FULL__SCREEN_consensus_peaks --format BEDPE --gsize hs --qvalue 0.05 --nomodel --shift 73 --extsize 146 --keep-dup all --call-summits --nolambda\n",
      "\u001b[2m\u001b[36m(macs_call_peak_ray pid=4038606)\u001b[0m 2022-09-29 14:00:37,058 cisTopic     INFO     Dendriticcell done!\n",
      "\u001b[2m\u001b[36m(macs_call_peak_ray pid=4038610)\u001b[0m 2022-09-29 14:01:02,346 cisTopic     INFO     Naturalkillercell done!\n",
      "\u001b[2m\u001b[36m(macs_call_peak_ray pid=4038608)\u001b[0m 2022-09-29 14:01:10,015 cisTopic     INFO     CD16_monocyte done!\n",
      "\u001b[2m\u001b[36m(macs_call_peak_ray pid=4038607)\u001b[0m 2022-09-29 14:01:52,406 cisTopic     INFO     CytotoxicTcell done!\n",
      "\u001b[2m\u001b[36m(macs_call_peak_ray pid=4038612)\u001b[0m 2022-09-29 14:01:57,496 cisTopic     INFO     Bcell done!\n",
      "\u001b[2m\u001b[36m(macs_call_peak_ray pid=4038611)\u001b[0m 2022-09-29 14:02:36,251 cisTopic     INFO     CD4_Tcell done!\n",
      "\u001b[2m\u001b[36m(macs_call_peak_ray pid=4038609)\u001b[0m 2022-09-29 14:02:53,392 cisTopic     INFO     CD14_monocyte done!\n",
      "Starting final_consensus_peaks/BIO_ddseq_4.FULL__SCREEN_narrow_peaks_dict.pkl\n"
     ]
    },
    {
     "name": "stderr",
     "output_type": "stream",
     "text": [
      "2022-09-29 14:02:59,810\tINFO services.py:1470 -- View the Ray dashboard at \u001b[1m\u001b[32mhttp://127.0.0.1:8265\u001b[39m\u001b[22m\n"
     ]
    },
    {
     "name": "stdout",
     "output_type": "stream",
     "text": [
      "\u001b[2m\u001b[36m(macs_call_peak_ray pid=4047354)\u001b[0m 2022-09-29 14:03:29,858 cisTopic     INFO     Calling peaks for CD16_monocyte with macs2 callpeak --treatment final_consensus_peaks/BIO_ddseq_4.FULL__SCREEN_pseudobulk_bed_files/CD16_monocyte.bed.gz --name CD16_monocyte  --outdir final_consensus_peaks/BIO_ddseq_4.FULL__SCREEN_consensus_peaks --format BEDPE --gsize hs --qvalue 0.05 --nomodel --shift 73 --extsize 146 --keep-dup all --call-summits --nolambda\n",
      "\u001b[2m\u001b[36m(macs_call_peak_ray pid=4047357)\u001b[0m 2022-09-29 14:03:29,845 cisTopic     INFO     Calling peaks for CD4_Tcell with macs2 callpeak --treatment final_consensus_peaks/BIO_ddseq_4.FULL__SCREEN_pseudobulk_bed_files/CD4_Tcell.bed.gz --name CD4_Tcell  --outdir final_consensus_peaks/BIO_ddseq_4.FULL__SCREEN_consensus_peaks --format BEDPE --gsize hs --qvalue 0.05 --nomodel --shift 73 --extsize 146 --keep-dup all --call-summits --nolambda\n",
      "\u001b[2m\u001b[36m(macs_call_peak_ray pid=4047353)\u001b[0m 2022-09-29 14:03:29,888 cisTopic     INFO     Calling peaks for CytotoxicTcell with macs2 callpeak --treatment final_consensus_peaks/BIO_ddseq_4.FULL__SCREEN_pseudobulk_bed_files/CytotoxicTcell.bed.gz --name CytotoxicTcell  --outdir final_consensus_peaks/BIO_ddseq_4.FULL__SCREEN_consensus_peaks --format BEDPE --gsize hs --qvalue 0.05 --nomodel --shift 73 --extsize 146 --keep-dup all --call-summits --nolambda\n",
      "\u001b[2m\u001b[36m(macs_call_peak_ray pid=4047356)\u001b[0m 2022-09-29 14:03:29,955 cisTopic     INFO     Calling peaks for Naturalkillercell with macs2 callpeak --treatment final_consensus_peaks/BIO_ddseq_4.FULL__SCREEN_pseudobulk_bed_files/Naturalkillercell.bed.gz --name Naturalkillercell  --outdir final_consensus_peaks/BIO_ddseq_4.FULL__SCREEN_consensus_peaks --format BEDPE --gsize hs --qvalue 0.05 --nomodel --shift 73 --extsize 146 --keep-dup all --call-summits --nolambda\n",
      "\u001b[2m\u001b[36m(macs_call_peak_ray pid=4047355)\u001b[0m 2022-09-29 14:03:29,937 cisTopic     INFO     Calling peaks for CD14_monocyte with macs2 callpeak --treatment final_consensus_peaks/BIO_ddseq_4.FULL__SCREEN_pseudobulk_bed_files/CD14_monocyte.bed.gz --name CD14_monocyte  --outdir final_consensus_peaks/BIO_ddseq_4.FULL__SCREEN_consensus_peaks --format BEDPE --gsize hs --qvalue 0.05 --nomodel --shift 73 --extsize 146 --keep-dup all --call-summits --nolambda\n",
      "\u001b[2m\u001b[36m(macs_call_peak_ray pid=4047358)\u001b[0m 2022-09-29 14:03:29,917 cisTopic     INFO     Calling peaks for Bcell with macs2 callpeak --treatment final_consensus_peaks/BIO_ddseq_4.FULL__SCREEN_pseudobulk_bed_files/Bcell.bed.gz --name Bcell  --outdir final_consensus_peaks/BIO_ddseq_4.FULL__SCREEN_consensus_peaks --format BEDPE --gsize hs --qvalue 0.05 --nomodel --shift 73 --extsize 146 --keep-dup all --call-summits --nolambda\n",
      "\u001b[2m\u001b[36m(macs_call_peak_ray pid=4047356)\u001b[0m 2022-09-29 14:05:11,865 cisTopic     INFO     Naturalkillercell done!\n",
      "\u001b[2m\u001b[36m(macs_call_peak_ray pid=4047353)\u001b[0m 2022-09-29 14:05:53,939 cisTopic     INFO     CytotoxicTcell done!\n",
      "\u001b[2m\u001b[36m(macs_call_peak_ray pid=4047358)\u001b[0m 2022-09-29 14:06:21,771 cisTopic     INFO     Bcell done!\n",
      "\u001b[2m\u001b[36m(macs_call_peak_ray pid=4047354)\u001b[0m 2022-09-29 14:06:28,207 cisTopic     INFO     CD16_monocyte done!\n",
      "\u001b[2m\u001b[36m(macs_call_peak_ray pid=4047357)\u001b[0m 2022-09-29 14:06:55,687 cisTopic     INFO     CD4_Tcell done!\n",
      "\u001b[2m\u001b[36m(macs_call_peak_ray pid=4047355)\u001b[0m 2022-09-29 14:07:05,154 cisTopic     INFO     CD14_monocyte done!\n",
      "Starting final_consensus_peaks/BRO_mtscatac_1.FULL__SCREEN_narrow_peaks_dict.pkl\n"
     ]
    },
    {
     "name": "stderr",
     "output_type": "stream",
     "text": [
      "2022-09-29 14:07:11,612\tINFO services.py:1470 -- View the Ray dashboard at \u001b[1m\u001b[32mhttp://127.0.0.1:8265\u001b[39m\u001b[22m\n"
     ]
    },
    {
     "name": "stdout",
     "output_type": "stream",
     "text": [
      "\u001b[2m\u001b[36m(macs_call_peak_ray pid=4057192)\u001b[0m 2022-09-29 14:07:43,422 cisTopic     INFO     Calling peaks for CytotoxicTcell with macs2 callpeak --treatment final_consensus_peaks/BRO_mtscatac_1.FULL__SCREEN_pseudobulk_bed_files/CytotoxicTcell.bed.gz --name CytotoxicTcell  --outdir final_consensus_peaks/BRO_mtscatac_1.FULL__SCREEN_consensus_peaks --format BEDPE --gsize hs --qvalue 0.05 --nomodel --shift 73 --extsize 146 --keep-dup all --call-summits --nolambda\n",
      "\u001b[2m\u001b[36m(macs_call_peak_ray pid=4057195)\u001b[0m 2022-09-29 14:07:43,424 cisTopic     INFO     Calling peaks for CD16_monocyte with macs2 callpeak --treatment final_consensus_peaks/BRO_mtscatac_1.FULL__SCREEN_pseudobulk_bed_files/CD16_monocyte.bed.gz --name CD16_monocyte  --outdir final_consensus_peaks/BRO_mtscatac_1.FULL__SCREEN_consensus_peaks --format BEDPE --gsize hs --qvalue 0.05 --nomodel --shift 73 --extsize 146 --keep-dup all --call-summits --nolambda\n",
      "\u001b[2m\u001b[36m(macs_call_peak_ray pid=4057197)\u001b[0m 2022-09-29 14:07:43,418 cisTopic     INFO     Calling peaks for CD4_Tcell with macs2 callpeak --treatment final_consensus_peaks/BRO_mtscatac_1.FULL__SCREEN_pseudobulk_bed_files/CD4_Tcell.bed.gz --name CD4_Tcell  --outdir final_consensus_peaks/BRO_mtscatac_1.FULL__SCREEN_consensus_peaks --format BEDPE --gsize hs --qvalue 0.05 --nomodel --shift 73 --extsize 146 --keep-dup all --call-summits --nolambda\n",
      "\u001b[2m\u001b[36m(macs_call_peak_ray pid=4057196)\u001b[0m 2022-09-29 14:07:43,412 cisTopic     INFO     Calling peaks for Naturalkillercell with macs2 callpeak --treatment final_consensus_peaks/BRO_mtscatac_1.FULL__SCREEN_pseudobulk_bed_files/Naturalkillercell.bed.gz --name Naturalkillercell  --outdir final_consensus_peaks/BRO_mtscatac_1.FULL__SCREEN_consensus_peaks --format BEDPE --gsize hs --qvalue 0.05 --nomodel --shift 73 --extsize 146 --keep-dup all --call-summits --nolambda\n",
      "\u001b[2m\u001b[36m(macs_call_peak_ray pid=4057194)\u001b[0m 2022-09-29 14:07:43,430 cisTopic     INFO     Calling peaks for CD14_monocyte with macs2 callpeak --treatment final_consensus_peaks/BRO_mtscatac_1.FULL__SCREEN_pseudobulk_bed_files/CD14_monocyte.bed.gz --name CD14_monocyte  --outdir final_consensus_peaks/BRO_mtscatac_1.FULL__SCREEN_consensus_peaks --format BEDPE --gsize hs --qvalue 0.05 --nomodel --shift 73 --extsize 146 --keep-dup all --call-summits --nolambda\n",
      "\u001b[2m\u001b[36m(macs_call_peak_ray pid=4057193)\u001b[0m 2022-09-29 14:07:43,481 cisTopic     INFO     Calling peaks for Dendriticcell with macs2 callpeak --treatment final_consensus_peaks/BRO_mtscatac_1.FULL__SCREEN_pseudobulk_bed_files/Dendriticcell.bed.gz --name Dendriticcell  --outdir final_consensus_peaks/BRO_mtscatac_1.FULL__SCREEN_consensus_peaks --format BEDPE --gsize hs --qvalue 0.05 --nomodel --shift 73 --extsize 146 --keep-dup all --call-summits --nolambda\n",
      "\u001b[2m\u001b[36m(macs_call_peak_ray pid=4057198)\u001b[0m 2022-09-29 14:07:43,456 cisTopic     INFO     Calling peaks for Bcell with macs2 callpeak --treatment final_consensus_peaks/BRO_mtscatac_1.FULL__SCREEN_pseudobulk_bed_files/Bcell.bed.gz --name Bcell  --outdir final_consensus_peaks/BRO_mtscatac_1.FULL__SCREEN_consensus_peaks --format BEDPE --gsize hs --qvalue 0.05 --nomodel --shift 73 --extsize 146 --keep-dup all --call-summits --nolambda\n",
      "\u001b[2m\u001b[36m(macs_call_peak_ray pid=4057193)\u001b[0m 2022-09-29 14:11:18,778 cisTopic     INFO     Dendriticcell done!\n",
      "\u001b[2m\u001b[36m(macs_call_peak_ray pid=4057198)\u001b[0m 2022-09-29 14:12:11,917 cisTopic     INFO     Bcell done!\n",
      "\u001b[2m\u001b[36m(macs_call_peak_ray pid=4057192)\u001b[0m 2022-09-29 14:12:15,231 cisTopic     INFO     CytotoxicTcell done!\n",
      "\u001b[2m\u001b[36m(macs_call_peak_ray pid=4057195)\u001b[0m 2022-09-29 14:12:15,919 cisTopic     INFO     CD16_monocyte done!\n",
      "\u001b[2m\u001b[36m(macs_call_peak_ray pid=4057196)\u001b[0m 2022-09-29 14:12:22,688 cisTopic     INFO     Naturalkillercell done!\n",
      "\u001b[2m\u001b[36m(macs_call_peak_ray pid=4057197)\u001b[0m 2022-09-29 14:13:35,344 cisTopic     INFO     CD4_Tcell done!\n",
      "\u001b[2m\u001b[36m(macs_call_peak_ray pid=4057194)\u001b[0m 2022-09-29 14:14:25,120 cisTopic     INFO     CD14_monocyte done!\n",
      "Starting final_consensus_peaks/BRO_mtscatac_2.FULL__SCREEN_narrow_peaks_dict.pkl\n"
     ]
    },
    {
     "name": "stderr",
     "output_type": "stream",
     "text": [
      "2022-09-29 14:14:33,375\tINFO services.py:1470 -- View the Ray dashboard at \u001b[1m\u001b[32mhttp://127.0.0.1:8265\u001b[39m\u001b[22m\n"
     ]
    },
    {
     "name": "stdout",
     "output_type": "stream",
     "text": [
      "\u001b[2m\u001b[36m(macs_call_peak_ray pid=4058282)\u001b[0m 2022-09-29 14:15:04,869 cisTopic     INFO     Calling peaks for Naturalkillercell with macs2 callpeak --treatment final_consensus_peaks/BRO_mtscatac_2.FULL__SCREEN_pseudobulk_bed_files/Naturalkillercell.bed.gz --name Naturalkillercell  --outdir final_consensus_peaks/BRO_mtscatac_2.FULL__SCREEN_consensus_peaks --format BEDPE --gsize hs --qvalue 0.05 --nomodel --shift 73 --extsize 146 --keep-dup all --call-summits --nolambda\n",
      "\u001b[2m\u001b[36m(macs_call_peak_ray pid=4058280)\u001b[0m 2022-09-29 14:15:04,931 cisTopic     INFO     Calling peaks for CD16_monocyte with macs2 callpeak --treatment final_consensus_peaks/BRO_mtscatac_2.FULL__SCREEN_pseudobulk_bed_files/CD16_monocyte.bed.gz --name CD16_monocyte  --outdir final_consensus_peaks/BRO_mtscatac_2.FULL__SCREEN_consensus_peaks --format BEDPE --gsize hs --qvalue 0.05 --nomodel --shift 73 --extsize 146 --keep-dup all --call-summits --nolambda\n",
      "\u001b[2m\u001b[36m(macs_call_peak_ray pid=4058278)\u001b[0m 2022-09-29 14:15:04,940 cisTopic     INFO     Calling peaks for Dendriticcell with macs2 callpeak --treatment final_consensus_peaks/BRO_mtscatac_2.FULL__SCREEN_pseudobulk_bed_files/Dendriticcell.bed.gz --name Dendriticcell  --outdir final_consensus_peaks/BRO_mtscatac_2.FULL__SCREEN_consensus_peaks --format BEDPE --gsize hs --qvalue 0.05 --nomodel --shift 73 --extsize 146 --keep-dup all --call-summits --nolambda\n",
      "\u001b[2m\u001b[36m(macs_call_peak_ray pid=4058281)\u001b[0m 2022-09-29 14:15:04,947 cisTopic     INFO     Calling peaks for CD14_monocyte with macs2 callpeak --treatment final_consensus_peaks/BRO_mtscatac_2.FULL__SCREEN_pseudobulk_bed_files/CD14_monocyte.bed.gz --name CD14_monocyte  --outdir final_consensus_peaks/BRO_mtscatac_2.FULL__SCREEN_consensus_peaks --format BEDPE --gsize hs --qvalue 0.05 --nomodel --shift 73 --extsize 146 --keep-dup all --call-summits --nolambda\n",
      "\u001b[2m\u001b[36m(macs_call_peak_ray pid=4058279)\u001b[0m 2022-09-29 14:15:04,926 cisTopic     INFO     Calling peaks for CytotoxicTcell with macs2 callpeak --treatment final_consensus_peaks/BRO_mtscatac_2.FULL__SCREEN_pseudobulk_bed_files/CytotoxicTcell.bed.gz --name CytotoxicTcell  --outdir final_consensus_peaks/BRO_mtscatac_2.FULL__SCREEN_consensus_peaks --format BEDPE --gsize hs --qvalue 0.05 --nomodel --shift 73 --extsize 146 --keep-dup all --call-summits --nolambda\n",
      "\u001b[2m\u001b[36m(macs_call_peak_ray pid=4058283)\u001b[0m 2022-09-29 14:15:04,957 cisTopic     INFO     Calling peaks for Bcell with macs2 callpeak --treatment final_consensus_peaks/BRO_mtscatac_2.FULL__SCREEN_pseudobulk_bed_files/Bcell.bed.gz --name Bcell  --outdir final_consensus_peaks/BRO_mtscatac_2.FULL__SCREEN_consensus_peaks --format BEDPE --gsize hs --qvalue 0.05 --nomodel --shift 73 --extsize 146 --keep-dup all --call-summits --nolambda\n",
      "\u001b[2m\u001b[36m(macs_call_peak_ray pid=4058284)\u001b[0m 2022-09-29 14:15:04,889 cisTopic     INFO     Calling peaks for CD4_Tcell with macs2 callpeak --treatment final_consensus_peaks/BRO_mtscatac_2.FULL__SCREEN_pseudobulk_bed_files/CD4_Tcell.bed.gz --name CD4_Tcell  --outdir final_consensus_peaks/BRO_mtscatac_2.FULL__SCREEN_consensus_peaks --format BEDPE --gsize hs --qvalue 0.05 --nomodel --shift 73 --extsize 146 --keep-dup all --call-summits --nolambda\n",
      "\u001b[2m\u001b[36m(macs_call_peak_ray pid=4058278)\u001b[0m 2022-09-29 14:18:34,069 cisTopic     INFO     Dendriticcell done!\n",
      "\u001b[2m\u001b[36m(macs_call_peak_ray pid=4058283)\u001b[0m 2022-09-29 14:18:46,100 cisTopic     INFO     Bcell done!\n",
      "\u001b[2m\u001b[36m(macs_call_peak_ray pid=4058280)\u001b[0m 2022-09-29 14:19:24,848 cisTopic     INFO     CD16_monocyte done!\n",
      "\u001b[2m\u001b[36m(macs_call_peak_ray pid=4058282)\u001b[0m 2022-09-29 14:19:34,434 cisTopic     INFO     Naturalkillercell done!\n",
      "\u001b[2m\u001b[36m(macs_call_peak_ray pid=4058279)\u001b[0m 2022-09-29 14:19:50,648 cisTopic     INFO     CytotoxicTcell done!\n",
      "\u001b[2m\u001b[36m(macs_call_peak_ray pid=4058284)\u001b[0m 2022-09-29 14:21:07,569 cisTopic     INFO     CD4_Tcell done!\n",
      "\u001b[2m\u001b[36m(macs_call_peak_ray pid=4058281)\u001b[0m 2022-09-29 14:21:56,055 cisTopic     INFO     CD14_monocyte done!\n",
      "Starting final_consensus_peaks/CNA_10xmultiome_1.FULL__SCREEN_narrow_peaks_dict.pkl\n"
     ]
    },
    {
     "name": "stderr",
     "output_type": "stream",
     "text": [
      "2022-09-29 14:22:04,317\tINFO services.py:1470 -- View the Ray dashboard at \u001b[1m\u001b[32mhttp://127.0.0.1:8265\u001b[39m\u001b[22m\n"
     ]
    },
    {
     "name": "stdout",
     "output_type": "stream",
     "text": [
      "\u001b[2m\u001b[36m(macs_call_peak_ray pid=4059349)\u001b[0m 2022-09-29 14:22:35,807 cisTopic     INFO     Calling peaks for CytotoxicTcell with macs2 callpeak --treatment final_consensus_peaks/CNA_10xmultiome_1.FULL__SCREEN_pseudobulk_bed_files/CytotoxicTcell.bed.gz --name CytotoxicTcell  --outdir final_consensus_peaks/CNA_10xmultiome_1.FULL__SCREEN_consensus_peaks --format BEDPE --gsize hs --qvalue 0.05 --nomodel --shift 73 --extsize 146 --keep-dup all --call-summits --nolambda\n",
      "\u001b[2m\u001b[36m(macs_call_peak_ray pid=4059354)\u001b[0m 2022-09-29 14:22:35,818 cisTopic     INFO     Calling peaks for CD4_Tcell with macs2 callpeak --treatment final_consensus_peaks/CNA_10xmultiome_1.FULL__SCREEN_pseudobulk_bed_files/CD4_Tcell.bed.gz --name CD4_Tcell  --outdir final_consensus_peaks/CNA_10xmultiome_1.FULL__SCREEN_consensus_peaks --format BEDPE --gsize hs --qvalue 0.05 --nomodel --shift 73 --extsize 146 --keep-dup all --call-summits --nolambda\n",
      "\u001b[2m\u001b[36m(macs_call_peak_ray pid=4059352)\u001b[0m 2022-09-29 14:22:35,859 cisTopic     INFO     Calling peaks for Naturalkillercell with macs2 callpeak --treatment final_consensus_peaks/CNA_10xmultiome_1.FULL__SCREEN_pseudobulk_bed_files/Naturalkillercell.bed.gz --name Naturalkillercell  --outdir final_consensus_peaks/CNA_10xmultiome_1.FULL__SCREEN_consensus_peaks --format BEDPE --gsize hs --qvalue 0.05 --nomodel --shift 73 --extsize 146 --keep-dup all --call-summits --nolambda\n",
      "\u001b[2m\u001b[36m(macs_call_peak_ray pid=4059351)\u001b[0m 2022-09-29 14:22:35,843 cisTopic     INFO     Calling peaks for CD14_monocyte with macs2 callpeak --treatment final_consensus_peaks/CNA_10xmultiome_1.FULL__SCREEN_pseudobulk_bed_files/CD14_monocyte.bed.gz --name CD14_monocyte  --outdir final_consensus_peaks/CNA_10xmultiome_1.FULL__SCREEN_consensus_peaks --format BEDPE --gsize hs --qvalue 0.05 --nomodel --shift 73 --extsize 146 --keep-dup all --call-summits --nolambda\n",
      "\u001b[2m\u001b[36m(macs_call_peak_ray pid=4059348)\u001b[0m 2022-09-29 14:22:35,915 cisTopic     INFO     Calling peaks for Dendriticcell with macs2 callpeak --treatment final_consensus_peaks/CNA_10xmultiome_1.FULL__SCREEN_pseudobulk_bed_files/Dendriticcell.bed.gz --name Dendriticcell  --outdir final_consensus_peaks/CNA_10xmultiome_1.FULL__SCREEN_consensus_peaks --format BEDPE --gsize hs --qvalue 0.05 --nomodel --shift 73 --extsize 146 --keep-dup all --call-summits --nolambda\n",
      "\u001b[2m\u001b[36m(macs_call_peak_ray pid=4059350)\u001b[0m 2022-09-29 14:22:35,834 cisTopic     INFO     Calling peaks for CD16_monocyte with macs2 callpeak --treatment final_consensus_peaks/CNA_10xmultiome_1.FULL__SCREEN_pseudobulk_bed_files/CD16_monocyte.bed.gz --name CD16_monocyte  --outdir final_consensus_peaks/CNA_10xmultiome_1.FULL__SCREEN_consensus_peaks --format BEDPE --gsize hs --qvalue 0.05 --nomodel --shift 73 --extsize 146 --keep-dup all --call-summits --nolambda\n",
      "\u001b[2m\u001b[36m(macs_call_peak_ray pid=4059353)\u001b[0m 2022-09-29 14:22:35,859 cisTopic     INFO     Calling peaks for Bcell with macs2 callpeak --treatment final_consensus_peaks/CNA_10xmultiome_1.FULL__SCREEN_pseudobulk_bed_files/Bcell.bed.gz --name Bcell  --outdir final_consensus_peaks/CNA_10xmultiome_1.FULL__SCREEN_consensus_peaks --format BEDPE --gsize hs --qvalue 0.05 --nomodel --shift 73 --extsize 146 --keep-dup all --call-summits --nolambda\n",
      "\u001b[2m\u001b[36m(macs_call_peak_ray pid=4059350)\u001b[0m 2022-09-29 14:26:21,027 cisTopic     INFO     CD16_monocyte done!\n",
      "\u001b[2m\u001b[36m(macs_call_peak_ray pid=4059348)\u001b[0m 2022-09-29 14:26:34,607 cisTopic     INFO     Dendriticcell done!\n",
      "\u001b[2m\u001b[36m(macs_call_peak_ray pid=4059352)\u001b[0m 2022-09-29 14:26:47,516 cisTopic     INFO     Naturalkillercell done!\n",
      "\u001b[2m\u001b[36m(macs_call_peak_ray pid=4059353)\u001b[0m 2022-09-29 14:27:19,245 cisTopic     INFO     Bcell done!\n",
      "\u001b[2m\u001b[36m(macs_call_peak_ray pid=4059349)\u001b[0m 2022-09-29 14:27:44,898 cisTopic     INFO     CytotoxicTcell done!\n",
      "\u001b[2m\u001b[36m(macs_call_peak_ray pid=4059351)\u001b[0m 2022-09-29 14:28:14,647 cisTopic     INFO     CD14_monocyte done!\n",
      "\u001b[2m\u001b[36m(macs_call_peak_ray pid=4059354)\u001b[0m 2022-09-29 14:28:23,203 cisTopic     INFO     CD4_Tcell done!\n",
      "Starting final_consensus_peaks/CNA_10xmultiome_2.FULL__SCREEN_narrow_peaks_dict.pkl\n"
     ]
    },
    {
     "name": "stderr",
     "output_type": "stream",
     "text": [
      "2022-09-29 14:28:31,584\tINFO services.py:1470 -- View the Ray dashboard at \u001b[1m\u001b[32mhttp://127.0.0.1:8265\u001b[39m\u001b[22m\n"
     ]
    },
    {
     "name": "stdout",
     "output_type": "stream",
     "text": [
      "\u001b[2m\u001b[36m(macs_call_peak_ray pid=4060397)\u001b[0m 2022-09-29 14:29:01,614 cisTopic     INFO     Calling peaks for CytotoxicTcell with macs2 callpeak --treatment final_consensus_peaks/CNA_10xmultiome_2.FULL__SCREEN_pseudobulk_bed_files/CytotoxicTcell.bed.gz --name CytotoxicTcell  --outdir final_consensus_peaks/CNA_10xmultiome_2.FULL__SCREEN_consensus_peaks --format BEDPE --gsize hs --qvalue 0.05 --nomodel --shift 73 --extsize 146 --keep-dup all --call-summits --nolambda\n",
      "\u001b[2m\u001b[36m(macs_call_peak_ray pid=4060396)\u001b[0m 2022-09-29 14:29:01,595 cisTopic     INFO     Calling peaks for CD14_monocyte with macs2 callpeak --treatment final_consensus_peaks/CNA_10xmultiome_2.FULL__SCREEN_pseudobulk_bed_files/CD14_monocyte.bed.gz --name CD14_monocyte  --outdir final_consensus_peaks/CNA_10xmultiome_2.FULL__SCREEN_consensus_peaks --format BEDPE --gsize hs --qvalue 0.05 --nomodel --shift 73 --extsize 146 --keep-dup all --call-summits --nolambda\n",
      "\u001b[2m\u001b[36m(macs_call_peak_ray pid=4060399)\u001b[0m 2022-09-29 14:29:01,634 cisTopic     INFO     Calling peaks for CD4_Tcell with macs2 callpeak --treatment final_consensus_peaks/CNA_10xmultiome_2.FULL__SCREEN_pseudobulk_bed_files/CD4_Tcell.bed.gz --name CD4_Tcell  --outdir final_consensus_peaks/CNA_10xmultiome_2.FULL__SCREEN_consensus_peaks --format BEDPE --gsize hs --qvalue 0.05 --nomodel --shift 73 --extsize 146 --keep-dup all --call-summits --nolambda\n",
      "\u001b[2m\u001b[36m(macs_call_peak_ray pid=4060398)\u001b[0m 2022-09-29 14:29:01,624 cisTopic     INFO     Calling peaks for Naturalkillercell with macs2 callpeak --treatment final_consensus_peaks/CNA_10xmultiome_2.FULL__SCREEN_pseudobulk_bed_files/Naturalkillercell.bed.gz --name Naturalkillercell  --outdir final_consensus_peaks/CNA_10xmultiome_2.FULL__SCREEN_consensus_peaks --format BEDPE --gsize hs --qvalue 0.05 --nomodel --shift 73 --extsize 146 --keep-dup all --call-summits --nolambda\n",
      "\u001b[2m\u001b[36m(macs_call_peak_ray pid=4060400)\u001b[0m 2022-09-29 14:29:01,649 cisTopic     INFO     Calling peaks for Bcell with macs2 callpeak --treatment final_consensus_peaks/CNA_10xmultiome_2.FULL__SCREEN_pseudobulk_bed_files/Bcell.bed.gz --name Bcell  --outdir final_consensus_peaks/CNA_10xmultiome_2.FULL__SCREEN_consensus_peaks --format BEDPE --gsize hs --qvalue 0.05 --nomodel --shift 73 --extsize 146 --keep-dup all --call-summits --nolambda\n",
      "\u001b[2m\u001b[36m(macs_call_peak_ray pid=4060394)\u001b[0m 2022-09-29 14:29:01,791 cisTopic     INFO     Calling peaks for Dendriticcell with macs2 callpeak --treatment final_consensus_peaks/CNA_10xmultiome_2.FULL__SCREEN_pseudobulk_bed_files/Dendriticcell.bed.gz --name Dendriticcell  --outdir final_consensus_peaks/CNA_10xmultiome_2.FULL__SCREEN_consensus_peaks --format BEDPE --gsize hs --qvalue 0.05 --nomodel --shift 73 --extsize 146 --keep-dup all --call-summits --nolambda\n",
      "\u001b[2m\u001b[36m(macs_call_peak_ray pid=4060394)\u001b[0m 2022-09-29 14:30:59,063 cisTopic     INFO     Dendriticcell done!\n",
      "\u001b[2m\u001b[36m(macs_call_peak_ray pid=4060398)\u001b[0m 2022-09-29 14:32:14,691 cisTopic     INFO     Naturalkillercell done!\n",
      "\u001b[2m\u001b[36m(macs_call_peak_ray pid=4060400)\u001b[0m 2022-09-29 14:32:19,398 cisTopic     INFO     Bcell done!\n",
      "\u001b[2m\u001b[36m(macs_call_peak_ray pid=4060397)\u001b[0m 2022-09-29 14:32:58,551 cisTopic     INFO     CytotoxicTcell done!\n",
      "\u001b[2m\u001b[36m(macs_call_peak_ray pid=4060396)\u001b[0m 2022-09-29 14:33:23,157 cisTopic     INFO     CD14_monocyte done!\n",
      "\u001b[2m\u001b[36m(macs_call_peak_ray pid=4060399)\u001b[0m 2022-09-29 14:34:27,550 cisTopic     INFO     CD4_Tcell done!\n",
      "Starting final_consensus_peaks/CNA_10xv11_1.FULL__SCREEN_narrow_peaks_dict.pkl\n"
     ]
    },
    {
     "name": "stderr",
     "output_type": "stream",
     "text": [
      "2022-09-29 14:34:35,579\tINFO services.py:1470 -- View the Ray dashboard at \u001b[1m\u001b[32mhttp://127.0.0.1:8265\u001b[39m\u001b[22m\n"
     ]
    },
    {
     "name": "stdout",
     "output_type": "stream",
     "text": [
      "\u001b[2m\u001b[36m(macs_call_peak_ray pid=4061429)\u001b[0m 2022-09-29 14:35:07,139 cisTopic     INFO     Calling peaks for Dendriticcell with macs2 callpeak --treatment final_consensus_peaks/CNA_10xv11_1.FULL__SCREEN_pseudobulk_bed_files/Dendriticcell.bed.gz --name Dendriticcell  --outdir final_consensus_peaks/CNA_10xv11_1.FULL__SCREEN_consensus_peaks --format BEDPE --gsize hs --qvalue 0.05 --nomodel --shift 73 --extsize 146 --keep-dup all --call-summits --nolambda\n",
      "\u001b[2m\u001b[36m(macs_call_peak_ray pid=4061430)\u001b[0m 2022-09-29 14:35:07,144 cisTopic     INFO     Calling peaks for CytotoxicTcell with macs2 callpeak --treatment final_consensus_peaks/CNA_10xv11_1.FULL__SCREEN_pseudobulk_bed_files/CytotoxicTcell.bed.gz --name CytotoxicTcell  --outdir final_consensus_peaks/CNA_10xv11_1.FULL__SCREEN_consensus_peaks --format BEDPE --gsize hs --qvalue 0.05 --nomodel --shift 73 --extsize 146 --keep-dup all --call-summits --nolambda\n",
      "\u001b[2m\u001b[36m(macs_call_peak_ray pid=4061432)\u001b[0m 2022-09-29 14:35:07,123 cisTopic     INFO     Calling peaks for CD14_monocyte with macs2 callpeak --treatment final_consensus_peaks/CNA_10xv11_1.FULL__SCREEN_pseudobulk_bed_files/CD14_monocyte.bed.gz --name CD14_monocyte  --outdir final_consensus_peaks/CNA_10xv11_1.FULL__SCREEN_consensus_peaks --format BEDPE --gsize hs --qvalue 0.05 --nomodel --shift 73 --extsize 146 --keep-dup all --call-summits --nolambda\n",
      "\u001b[2m\u001b[36m(macs_call_peak_ray pid=4061435)\u001b[0m 2022-09-29 14:35:07,157 cisTopic     INFO     Calling peaks for CD4_Tcell with macs2 callpeak --treatment final_consensus_peaks/CNA_10xv11_1.FULL__SCREEN_pseudobulk_bed_files/CD4_Tcell.bed.gz --name CD4_Tcell  --outdir final_consensus_peaks/CNA_10xv11_1.FULL__SCREEN_consensus_peaks --format BEDPE --gsize hs --qvalue 0.05 --nomodel --shift 73 --extsize 146 --keep-dup all --call-summits --nolambda\n",
      "\u001b[2m\u001b[36m(macs_call_peak_ray pid=4061431)\u001b[0m 2022-09-29 14:35:07,185 cisTopic     INFO     Calling peaks for CD16_monocyte with macs2 callpeak --treatment final_consensus_peaks/CNA_10xv11_1.FULL__SCREEN_pseudobulk_bed_files/CD16_monocyte.bed.gz --name CD16_monocyte  --outdir final_consensus_peaks/CNA_10xv11_1.FULL__SCREEN_consensus_peaks --format BEDPE --gsize hs --qvalue 0.05 --nomodel --shift 73 --extsize 146 --keep-dup all --call-summits --nolambda\n",
      "\u001b[2m\u001b[36m(macs_call_peak_ray pid=4061433)\u001b[0m 2022-09-29 14:35:07,253 cisTopic     INFO     Calling peaks for Naturalkillercell with macs2 callpeak --treatment final_consensus_peaks/CNA_10xv11_1.FULL__SCREEN_pseudobulk_bed_files/Naturalkillercell.bed.gz --name Naturalkillercell  --outdir final_consensus_peaks/CNA_10xv11_1.FULL__SCREEN_consensus_peaks --format BEDPE --gsize hs --qvalue 0.05 --nomodel --shift 73 --extsize 146 --keep-dup all --call-summits --nolambda\n",
      "\u001b[2m\u001b[36m(macs_call_peak_ray pid=4061434)\u001b[0m 2022-09-29 14:35:07,215 cisTopic     INFO     Calling peaks for Bcell with macs2 callpeak --treatment final_consensus_peaks/CNA_10xv11_1.FULL__SCREEN_pseudobulk_bed_files/Bcell.bed.gz --name Bcell  --outdir final_consensus_peaks/CNA_10xv11_1.FULL__SCREEN_consensus_peaks --format BEDPE --gsize hs --qvalue 0.05 --nomodel --shift 73 --extsize 146 --keep-dup all --call-summits --nolambda\n",
      "\u001b[2m\u001b[36m(macs_call_peak_ray pid=4061429)\u001b[0m 2022-09-29 14:36:38,564 cisTopic     INFO     Dendriticcell done!\n",
      "\u001b[2m\u001b[36m(macs_call_peak_ray pid=4061431)\u001b[0m 2022-09-29 14:37:11,720 cisTopic     INFO     CD16_monocyte done!\n",
      "\u001b[2m\u001b[36m(macs_call_peak_ray pid=4061433)\u001b[0m 2022-09-29 14:38:16,121 cisTopic     INFO     Naturalkillercell done!\n",
      "\u001b[2m\u001b[36m(macs_call_peak_ray pid=4061434)\u001b[0m 2022-09-29 14:38:28,710 cisTopic     INFO     Bcell done!\n",
      "\u001b[2m\u001b[36m(macs_call_peak_ray pid=4061430)\u001b[0m 2022-09-29 14:38:35,302 cisTopic     INFO     CytotoxicTcell done!\n",
      "\u001b[2m\u001b[36m(macs_call_peak_ray pid=4061435)\u001b[0m 2022-09-29 14:39:23,871 cisTopic     INFO     CD4_Tcell done!\n",
      "\u001b[2m\u001b[36m(macs_call_peak_ray pid=4061432)\u001b[0m 2022-09-29 14:39:26,196 cisTopic     INFO     CD14_monocyte done!\n",
      "Starting final_consensus_peaks/CNA_10xv11_2.FULL__SCREEN_narrow_peaks_dict.pkl\n"
     ]
    },
    {
     "name": "stderr",
     "output_type": "stream",
     "text": [
      "2022-09-29 14:39:34,447\tINFO services.py:1470 -- View the Ray dashboard at \u001b[1m\u001b[32mhttp://127.0.0.1:8265\u001b[39m\u001b[22m\n"
     ]
    },
    {
     "name": "stdout",
     "output_type": "stream",
     "text": [
      "\u001b[2m\u001b[36m(macs_call_peak_ray pid=4062448)\u001b[0m 2022-09-29 14:40:04,787 cisTopic     INFO     Calling peaks for CD14_monocyte with macs2 callpeak --treatment final_consensus_peaks/CNA_10xv11_2.FULL__SCREEN_pseudobulk_bed_files/CD14_monocyte.bed.gz --name CD14_monocyte  --outdir final_consensus_peaks/CNA_10xv11_2.FULL__SCREEN_consensus_peaks --format BEDPE --gsize hs --qvalue 0.05 --nomodel --shift 73 --extsize 146 --keep-dup all --call-summits --nolambda\n",
      "\u001b[2m\u001b[36m(macs_call_peak_ray pid=4062446)\u001b[0m 2022-09-29 14:40:04,807 cisTopic     INFO     Calling peaks for Dendriticcell with macs2 callpeak --treatment final_consensus_peaks/CNA_10xv11_2.FULL__SCREEN_pseudobulk_bed_files/Dendriticcell.bed.gz --name Dendriticcell  --outdir final_consensus_peaks/CNA_10xv11_2.FULL__SCREEN_consensus_peaks --format BEDPE --gsize hs --qvalue 0.05 --nomodel --shift 73 --extsize 146 --keep-dup all --call-summits --nolambda\n",
      "\u001b[2m\u001b[36m(macs_call_peak_ray pid=4062445)\u001b[0m 2022-09-29 14:40:04,797 cisTopic     INFO     Calling peaks for CytotoxicTcell with macs2 callpeak --treatment final_consensus_peaks/CNA_10xv11_2.FULL__SCREEN_pseudobulk_bed_files/CytotoxicTcell.bed.gz --name CytotoxicTcell  --outdir final_consensus_peaks/CNA_10xv11_2.FULL__SCREEN_consensus_peaks --format BEDPE --gsize hs --qvalue 0.05 --nomodel --shift 73 --extsize 146 --keep-dup all --call-summits --nolambda\n",
      "\u001b[2m\u001b[36m(macs_call_peak_ray pid=4062447)\u001b[0m 2022-09-29 14:40:04,814 cisTopic     INFO     Calling peaks for Naturalkillercell with macs2 callpeak --treatment final_consensus_peaks/CNA_10xv11_2.FULL__SCREEN_pseudobulk_bed_files/Naturalkillercell.bed.gz --name Naturalkillercell  --outdir final_consensus_peaks/CNA_10xv11_2.FULL__SCREEN_consensus_peaks --format BEDPE --gsize hs --qvalue 0.05 --nomodel --shift 73 --extsize 146 --keep-dup all --call-summits --nolambda\n",
      "\u001b[2m\u001b[36m(macs_call_peak_ray pid=4062449)\u001b[0m 2022-09-29 14:40:04,813 cisTopic     INFO     Calling peaks for CD4_Tcell with macs2 callpeak --treatment final_consensus_peaks/CNA_10xv11_2.FULL__SCREEN_pseudobulk_bed_files/CD4_Tcell.bed.gz --name CD4_Tcell  --outdir final_consensus_peaks/CNA_10xv11_2.FULL__SCREEN_consensus_peaks --format BEDPE --gsize hs --qvalue 0.05 --nomodel --shift 73 --extsize 146 --keep-dup all --call-summits --nolambda\n",
      "\u001b[2m\u001b[36m(macs_call_peak_ray pid=4062450)\u001b[0m 2022-09-29 14:40:04,803 cisTopic     INFO     Calling peaks for Bcell with macs2 callpeak --treatment final_consensus_peaks/CNA_10xv11_2.FULL__SCREEN_pseudobulk_bed_files/Bcell.bed.gz --name Bcell  --outdir final_consensus_peaks/CNA_10xv11_2.FULL__SCREEN_consensus_peaks --format BEDPE --gsize hs --qvalue 0.05 --nomodel --shift 73 --extsize 146 --keep-dup all --call-summits --nolambda\n",
      "\u001b[2m\u001b[36m(macs_call_peak_ray pid=4062446)\u001b[0m 2022-09-29 14:42:25,230 cisTopic     INFO     Dendriticcell done!\n",
      "\u001b[2m\u001b[36m(macs_call_peak_ray pid=4062450)\u001b[0m 2022-09-29 14:43:12,281 cisTopic     INFO     Bcell done!\n",
      "\u001b[2m\u001b[36m(macs_call_peak_ray pid=4062447)\u001b[0m 2022-09-29 14:43:17,177 cisTopic     INFO     Naturalkillercell done!\n",
      "\u001b[2m\u001b[36m(macs_call_peak_ray pid=4062445)\u001b[0m 2022-09-29 14:43:32,433 cisTopic     INFO     CytotoxicTcell done!\n",
      "\u001b[2m\u001b[36m(macs_call_peak_ray pid=4062448)\u001b[0m 2022-09-29 14:44:22,318 cisTopic     INFO     CD14_monocyte done!\n",
      "\u001b[2m\u001b[36m(macs_call_peak_ray pid=4062449)\u001b[0m 2022-09-29 14:44:27,646 cisTopic     INFO     CD4_Tcell done!\n",
      "Starting final_consensus_peaks/CNA_10xv11_3.FULL__SCREEN_narrow_peaks_dict.pkl\n"
     ]
    },
    {
     "name": "stderr",
     "output_type": "stream",
     "text": [
      "2022-09-29 14:44:35,629\tINFO services.py:1470 -- View the Ray dashboard at \u001b[1m\u001b[32mhttp://127.0.0.1:8265\u001b[39m\u001b[22m\n"
     ]
    },
    {
     "name": "stdout",
     "output_type": "stream",
     "text": [
      "\u001b[2m\u001b[36m(macs_call_peak_ray pid=4071914)\u001b[0m 2022-09-29 14:45:07,241 cisTopic     INFO     Calling peaks for Dendriticcell with macs2 callpeak --treatment final_consensus_peaks/CNA_10xv11_3.FULL__SCREEN_pseudobulk_bed_files/Dendriticcell.bed.gz --name Dendriticcell  --outdir final_consensus_peaks/CNA_10xv11_3.FULL__SCREEN_consensus_peaks --format BEDPE --gsize hs --qvalue 0.05 --nomodel --shift 73 --extsize 146 --keep-dup all --call-summits --nolambda\n",
      "\u001b[2m\u001b[36m(macs_call_peak_ray pid=4071918)\u001b[0m 2022-09-29 14:45:07,239 cisTopic     INFO     Calling peaks for CD4_Tcell with macs2 callpeak --treatment final_consensus_peaks/CNA_10xv11_3.FULL__SCREEN_pseudobulk_bed_files/CD4_Tcell.bed.gz --name CD4_Tcell  --outdir final_consensus_peaks/CNA_10xv11_3.FULL__SCREEN_consensus_peaks --format BEDPE --gsize hs --qvalue 0.05 --nomodel --shift 73 --extsize 146 --keep-dup all --call-summits --nolambda\n",
      "\u001b[2m\u001b[36m(macs_call_peak_ray pid=4071916)\u001b[0m 2022-09-29 14:45:07,245 cisTopic     INFO     Calling peaks for CD16_monocyte with macs2 callpeak --treatment final_consensus_peaks/CNA_10xv11_3.FULL__SCREEN_pseudobulk_bed_files/CD16_monocyte.bed.gz --name CD16_monocyte  --outdir final_consensus_peaks/CNA_10xv11_3.FULL__SCREEN_consensus_peaks --format BEDPE --gsize hs --qvalue 0.05 --nomodel --shift 73 --extsize 146 --keep-dup all --call-summits --nolambda\n",
      "\u001b[2m\u001b[36m(macs_call_peak_ray pid=4071919)\u001b[0m 2022-09-29 14:45:07,236 cisTopic     INFO     Calling peaks for CD14_monocyte with macs2 callpeak --treatment final_consensus_peaks/CNA_10xv11_3.FULL__SCREEN_pseudobulk_bed_files/CD14_monocyte.bed.gz --name CD14_monocyte  --outdir final_consensus_peaks/CNA_10xv11_3.FULL__SCREEN_consensus_peaks --format BEDPE --gsize hs --qvalue 0.05 --nomodel --shift 73 --extsize 146 --keep-dup all --call-summits --nolambda\n",
      "\u001b[2m\u001b[36m(macs_call_peak_ray pid=4071917)\u001b[0m 2022-09-29 14:45:07,267 cisTopic     INFO     Calling peaks for Naturalkillercell with macs2 callpeak --treatment final_consensus_peaks/CNA_10xv11_3.FULL__SCREEN_pseudobulk_bed_files/Naturalkillercell.bed.gz --name Naturalkillercell  --outdir final_consensus_peaks/CNA_10xv11_3.FULL__SCREEN_consensus_peaks --format BEDPE --gsize hs --qvalue 0.05 --nomodel --shift 73 --extsize 146 --keep-dup all --call-summits --nolambda\n",
      "\u001b[2m\u001b[36m(macs_call_peak_ray pid=4071915)\u001b[0m 2022-09-29 14:45:07,274 cisTopic     INFO     Calling peaks for CytotoxicTcell with macs2 callpeak --treatment final_consensus_peaks/CNA_10xv11_3.FULL__SCREEN_pseudobulk_bed_files/CytotoxicTcell.bed.gz --name CytotoxicTcell  --outdir final_consensus_peaks/CNA_10xv11_3.FULL__SCREEN_consensus_peaks --format BEDPE --gsize hs --qvalue 0.05 --nomodel --shift 73 --extsize 146 --keep-dup all --call-summits --nolambda\n",
      "\u001b[2m\u001b[36m(macs_call_peak_ray pid=4071920)\u001b[0m 2022-09-29 14:45:07,266 cisTopic     INFO     Calling peaks for Bcell with macs2 callpeak --treatment final_consensus_peaks/CNA_10xv11_3.FULL__SCREEN_pseudobulk_bed_files/Bcell.bed.gz --name Bcell  --outdir final_consensus_peaks/CNA_10xv11_3.FULL__SCREEN_consensus_peaks --format BEDPE --gsize hs --qvalue 0.05 --nomodel --shift 73 --extsize 146 --keep-dup all --call-summits --nolambda\n",
      "\u001b[2m\u001b[36m(macs_call_peak_ray pid=4071914)\u001b[0m 2022-09-29 14:45:59,622 cisTopic     INFO     Dendriticcell done!\n",
      "\u001b[2m\u001b[36m(macs_call_peak_ray pid=4071916)\u001b[0m 2022-09-29 14:49:09,720 cisTopic     INFO     CD16_monocyte done!\n",
      "\u001b[2m\u001b[36m(macs_call_peak_ray pid=4071917)\u001b[0m 2022-09-29 14:51:03,870 cisTopic     INFO     Naturalkillercell done!\n",
      "\u001b[2m\u001b[36m(macs_call_peak_ray pid=4071920)\u001b[0m 2022-09-29 14:51:07,431 cisTopic     INFO     Bcell done!\n",
      "\u001b[2m\u001b[36m(macs_call_peak_ray pid=4071915)\u001b[0m 2022-09-29 14:51:43,064 cisTopic     INFO     CytotoxicTcell done!\n",
      "\u001b[2m\u001b[36m(macs_call_peak_ray pid=4071918)\u001b[0m 2022-09-29 14:52:13,727 cisTopic     INFO     CD4_Tcell done!\n",
      "\u001b[2m\u001b[36m(macs_call_peak_ray pid=4071919)\u001b[0m 2022-09-29 14:52:20,008 cisTopic     INFO     CD14_monocyte done!\n",
      "Starting final_consensus_peaks/CNA_10xv11_4.FULL__SCREEN_narrow_peaks_dict.pkl\n"
     ]
    },
    {
     "name": "stderr",
     "output_type": "stream",
     "text": [
      "2022-09-29 14:52:28,432\tINFO services.py:1470 -- View the Ray dashboard at \u001b[1m\u001b[32mhttp://127.0.0.1:8265\u001b[39m\u001b[22m\n"
     ]
    },
    {
     "name": "stdout",
     "output_type": "stream",
     "text": [
      "\u001b[2m\u001b[36m(macs_call_peak_ray pid=4072989)\u001b[0m 2022-09-29 14:52:58,415 cisTopic     INFO     Calling peaks for Bcell with macs2 callpeak --treatment final_consensus_peaks/CNA_10xv11_4.FULL__SCREEN_pseudobulk_bed_files/Bcell.bed.gz --name Bcell  --outdir final_consensus_peaks/CNA_10xv11_4.FULL__SCREEN_consensus_peaks --format BEDPE --gsize hs --qvalue 0.05 --nomodel --shift 73 --extsize 146 --keep-dup all --call-summits --nolambda\n",
      "\u001b[2m\u001b[36m(macs_call_peak_ray pid=4072986)\u001b[0m 2022-09-29 14:52:58,454 cisTopic     INFO     Calling peaks for CD14_monocyte with macs2 callpeak --treatment final_consensus_peaks/CNA_10xv11_4.FULL__SCREEN_pseudobulk_bed_files/CD14_monocyte.bed.gz --name CD14_monocyte  --outdir final_consensus_peaks/CNA_10xv11_4.FULL__SCREEN_consensus_peaks --format BEDPE --gsize hs --qvalue 0.05 --nomodel --shift 73 --extsize 146 --keep-dup all --call-summits --nolambda\n",
      "\u001b[2m\u001b[36m(macs_call_peak_ray pid=4072985)\u001b[0m 2022-09-29 14:52:58,445 cisTopic     INFO     Calling peaks for CytotoxicTcell with macs2 callpeak --treatment final_consensus_peaks/CNA_10xv11_4.FULL__SCREEN_pseudobulk_bed_files/CytotoxicTcell.bed.gz --name CytotoxicTcell  --outdir final_consensus_peaks/CNA_10xv11_4.FULL__SCREEN_consensus_peaks --format BEDPE --gsize hs --qvalue 0.05 --nomodel --shift 73 --extsize 146 --keep-dup all --call-summits --nolambda\n",
      "\u001b[2m\u001b[36m(macs_call_peak_ray pid=4072982)\u001b[0m 2022-09-29 14:52:58,442 cisTopic     INFO     Calling peaks for Dendriticcell with macs2 callpeak --treatment final_consensus_peaks/CNA_10xv11_4.FULL__SCREEN_pseudobulk_bed_files/Dendriticcell.bed.gz --name Dendriticcell  --outdir final_consensus_peaks/CNA_10xv11_4.FULL__SCREEN_consensus_peaks --format BEDPE --gsize hs --qvalue 0.05 --nomodel --shift 73 --extsize 146 --keep-dup all --call-summits --nolambda\n",
      "\u001b[2m\u001b[36m(macs_call_peak_ray pid=4072987)\u001b[0m 2022-09-29 14:52:58,482 cisTopic     INFO     Calling peaks for Naturalkillercell with macs2 callpeak --treatment final_consensus_peaks/CNA_10xv11_4.FULL__SCREEN_pseudobulk_bed_files/Naturalkillercell.bed.gz --name Naturalkillercell  --outdir final_consensus_peaks/CNA_10xv11_4.FULL__SCREEN_consensus_peaks --format BEDPE --gsize hs --qvalue 0.05 --nomodel --shift 73 --extsize 146 --keep-dup all --call-summits --nolambda\n",
      "\u001b[2m\u001b[36m(macs_call_peak_ray pid=4072988)\u001b[0m 2022-09-29 14:52:58,462 cisTopic     INFO     Calling peaks for CD4_Tcell with macs2 callpeak --treatment final_consensus_peaks/CNA_10xv11_4.FULL__SCREEN_pseudobulk_bed_files/CD4_Tcell.bed.gz --name CD4_Tcell  --outdir final_consensus_peaks/CNA_10xv11_4.FULL__SCREEN_consensus_peaks --format BEDPE --gsize hs --qvalue 0.05 --nomodel --shift 73 --extsize 146 --keep-dup all --call-summits --nolambda\n"
     ]
    }
   ],
   "source": [
    "narrow_peaks_dict = {}\n",
    "ray.shutdown()\n",
    "for sample in bed_path_dict.keys():\n",
    "    narrow_peaks_dict_path = bed_path_dict[sample].replace(\n",
    "        \"_pseudobulk_bed_files\", \"_narrow_peaks_dict.pkl\"\n",
    "    )\n",
    "    peak_path = os.path.join(\"final_consensus_peaks\", f\"{sample}__SCREEN_consensus_peaks\")\n",
    "    if not os.path.exists(peak_path):\n",
    "        os.mkdir(peak_path)\n",
    "\n",
    "    if not os.path.exists(narrow_peaks_dict_path):\n",
    "        cell_data = pd.read_csv(cell_data_path_dict[sample])\n",
    "        cto_celltypes = set(\n",
    "            [\n",
    "                x.replace(\" \", \"\").replace(\"+\", \"\").replace(\"_\", \"\")\n",
    "                for x in set(cell_data[\"consensus_cell_type\"].unique())\n",
    "            ]\n",
    "        )\n",
    "\n",
    "        bed_celltypes = set(\n",
    "            [\n",
    "                x.split(\".\")[0].replace(\"+\", \"\").replace(\"_\", \"\")\n",
    "                for x in os.listdir(bed_path_dict[sample])\n",
    "            ]\n",
    "        )\n",
    "\n",
    "        if cto_celltypes == bed_celltypes:\n",
    "            print(f\"Starting {narrow_peaks_dict_path}\")\n",
    "            bed_paths = {\n",
    "                x.split(\"/\")[-1].split(\"__\")[0].split(\".bed.gz\")[0]: x\n",
    "                for x in glob.glob(bed_path_dict[sample] + \"/*\")\n",
    "            }\n",
    "            narrow_peaks_dict = peak_calling(\n",
    "                macs_path=\"macs2\",\n",
    "                bed_paths=bed_paths,\n",
    "                outdir=peak_path,\n",
    "                genome_size=\"hs\",\n",
    "                n_cpu=20,\n",
    "                input_format=\"BEDPE\",\n",
    "                shift=73,\n",
    "                ext_size=146,\n",
    "                keep_dup=\"all\",\n",
    "                q_value=0.05,\n",
    "            )\n",
    "            with open(narrow_peaks_dict_path, \"wb\") as f:\n",
    "                pickle.dump(narrow_peaks_dict, f)\n",
    "        else:\n",
    "            print(f\"{sample} cell types not matching!! Rerun bed file writing.\")\n",
    "            print(f\"\\t{bed_celltypes}\")\n",
    "            print(f\"\\t{cto_celltypes}\")\n",
    "    else:\n",
    "        print(f\"{narrow_peaks_dict_path} already exists\")"
   ]
  },
  {
   "cell_type": "markdown",
   "id": "e120de6d",
   "metadata": {
    "papermill": {
     "duration": null,
     "end_time": null,
     "exception": null,
     "start_time": null,
     "status": "pending"
    },
    "tags": []
   },
   "source": [
    "# call consensus peaks"
   ]
  },
  {
   "cell_type": "code",
   "execution_count": null,
   "id": "fd8faf97",
   "metadata": {
    "papermill": {
     "duration": null,
     "end_time": null,
     "exception": null,
     "start_time": null,
     "status": "pending"
    },
    "tags": []
   },
   "outputs": [],
   "source": [
    "from pycisTopic.iterative_peak_calling import get_consensus_peaks"
   ]
  },
  {
   "cell_type": "code",
   "execution_count": null,
   "id": "dfbd901f",
   "metadata": {
    "papermill": {
     "duration": null,
     "end_time": null,
     "exception": null,
     "start_time": null,
     "status": "pending"
    },
    "tags": []
   },
   "outputs": [],
   "source": [
    "narrow_peaks_path_dict = {x.split('/')[-1].split(f'__')[0]: x for x in sorted(glob.glob(\"final_consensus_peaks/*_narrow_peaks_dict.pkl\"))}\n",
    "narrow_peaks_path_dict"
   ]
  },
  {
   "cell_type": "code",
   "execution_count": null,
   "id": "4a65d294",
   "metadata": {
    "papermill": {
     "duration": null,
     "end_time": null,
     "exception": null,
     "start_time": null,
     "status": "pending"
    },
    "tags": []
   },
   "outputs": [],
   "source": [
    "path_to_blacklist = '../0_resources/regions/hg38-blacklist.v2.bed'"
   ]
  },
  {
   "cell_type": "code",
   "execution_count": null,
   "id": "7817628d",
   "metadata": {
    "papermill": {
     "duration": null,
     "end_time": null,
     "exception": null,
     "start_time": null,
     "status": "pending"
    },
    "tags": []
   },
   "outputs": [],
   "source": [
    "peak_half_width = 250\n",
    "\n",
    "# Get consensus peaks\n",
    "consensus_peaks_dict = {}\n",
    "for sample in narrow_peaks_path_dict.keys():\n",
    "    print(sample)\n",
    "    consensus_out_path = narrow_peaks_path_dict[sample].replace('_narrow_peaks_dict.pkl', '_consensus_peaks.bed')\n",
    "    if not os.path.exists(consensus_out_path):\n",
    "        cell_data = pd.read_csv(cell_data_path_dict[sample])\n",
    "        cto_celltypes = set([x.replace(' ', '').replace('+', '').replace('_', '') for x in set(cell_data['consensus_cell_type'].unique())])\n",
    "        \n",
    "        with open(narrow_peaks_path_dict[sample], 'rb') as f:\n",
    "            narrow_peaks_dict = pickle.load(f)\n",
    "        peaks_celltypes = set([x.replace(' ', '').replace('+', '').replace('_', '') for x in set(narrow_peaks_dict.keys())])\n",
    "    \n",
    "        if cto_celltypes == peaks_celltypes:\n",
    "            consensus_peaks = get_consensus_peaks(\n",
    "                narrow_peaks_dict,\n",
    "                peak_half_width,\n",
    "                chromsizes = chromsizes,\n",
    "                path_to_blacklist = path_to_blacklist\n",
    "            )\n",
    "\n",
    "            consensus_peaks.to_bed(\n",
    "                path=consensus_out_path,\n",
    "                keep=True,\n",
    "                compression='infer',\n",
    "                chain=False\n",
    "            )\n",
    "        else:\n",
    "            print('CELL TYPE SETS NOT MATCHING! Rerun peak calling.')\n",
    "            print(peaks_celltypes - cto_celltypes)\n",
    "            print(cto_celltypes - peaks_celltypes)\n",
    "    else:\n",
    "        print(f\"{consensus_out_path} already exists, skipping...\")"
   ]
  },
  {
   "cell_type": "markdown",
   "id": "8c91ef55",
   "metadata": {
    "papermill": {
     "duration": null,
     "end_time": null,
     "exception": null,
     "start_time": null,
     "status": "pending"
    },
    "tags": []
   },
   "source": [
    "# Check % chrM in consensus peaks"
   ]
  },
  {
   "cell_type": "code",
   "execution_count": null,
   "id": "86b9e268",
   "metadata": {
    "papermill": {
     "duration": null,
     "end_time": null,
     "exception": null,
     "start_time": null,
     "status": "pending"
    },
    "tags": []
   },
   "outputs": [],
   "source": [
    "consensus_peaks_path_dict = {x.split('/')[-1].split(f'__')[0]: x for x in sorted(glob.glob(\"final_consensus_peaks/*consensus_peaks.bed\"))}\n",
    "consensus_peaks_path_dict"
   ]
  },
  {
   "cell_type": "code",
   "execution_count": null,
   "id": "51d41a9e",
   "metadata": {
    "papermill": {
     "duration": null,
     "end_time": null,
     "exception": null,
     "start_time": null,
     "status": "pending"
    },
    "tags": []
   },
   "outputs": [],
   "source": [
    "for sample, path in consensus_peaks_path_dict.items():\n",
    "    print(sample)\n",
    "    peaks_df = pd.read_csv(path, sep='\\t', header=None)\n",
    "    \n",
    "    chroms_in_df = list(sorted(peaks_df[0].unique()))\n",
    "    chroms_standard = [\"chr\" + str(x + 1) for x in range(22)] + ['chrX']\n",
    "    chroms_nonstandard = list(set(chroms_in_df ) - set(chroms_standard) -  set(['chrM']))\n",
    "    \n",
    "    n_standard = peaks_df[0].value_counts()[chroms_standard].sum()\n",
    "    n_contigs = peaks_df[0].value_counts()[chroms_nonstandard].sum()\n",
    "    n_chrm = peaks_df[0].value_counts()['chrM'].sum()\n",
    "    pct_nonstandard = (n_contigs + n_chrm)/len(peaks_df)*100\n",
    "        \n",
    "    print(f\"\\tpeaks on standard chromosomes: {n_standard}\")\n",
    "    print(f\"\\tpeaks on contigs: {n_contigs}\")\n",
    "    print(f\"\\tpeaks on chrM: {n_chrm}\")\n",
    "    print(f\"\\t% peaks non standard chromosomes: {pct_nonstandard}%\")\n",
    "    if 'chrY' in chroms_in_df:\n",
    "        n_chrY = peaks_df[0].value_counts()['chrY'].sum()\n",
    "        print(f\"\\tpeaks on chrY: {n_chrY}\")\n",
    "    else:\n",
    "        print(f\"\\tpeaks on chrY: 0\")"
   ]
  },
  {
   "cell_type": "code",
   "execution_count": null,
   "id": "51ab9f8d",
   "metadata": {
    "papermill": {
     "duration": null,
     "end_time": null,
     "exception": null,
     "start_time": null,
     "status": "pending"
    },
    "tags": []
   },
   "outputs": [],
   "source": []
  },
  {
   "cell_type": "code",
   "execution_count": null,
   "id": "b9b9503a",
   "metadata": {
    "papermill": {
     "duration": null,
     "end_time": null,
     "exception": null,
     "start_time": null,
     "status": "pending"
    },
    "tags": []
   },
   "outputs": [],
   "source": []
  },
  {
   "cell_type": "code",
   "execution_count": null,
   "id": "a5d8c51e",
   "metadata": {
    "papermill": {
     "duration": null,
     "end_time": null,
     "exception": null,
     "start_time": null,
     "status": "pending"
    },
    "tags": []
   },
   "outputs": [],
   "source": []
  }
 ],
 "metadata": {
  "kernelspec": {
   "display_name": "20220628_pycistopic.sif",
   "language": "python",
   "name": "cistopic_20220628"
  },
  "language_info": {
   "codemirror_mode": {
    "name": "ipython",
    "version": 3
   },
   "file_extension": ".py",
   "mimetype": "text/x-python",
   "name": "python",
   "nbconvert_exporter": "python",
   "pygments_lexer": "ipython3",
   "version": "3.8.13"
  },
  "papermill": {
   "default_parameters": {},
   "duration": null,
   "end_time": null,
   "environment_variables": {},
   "exception": null,
   "input_path": "8_consensus_peaks.ipynb",
   "output_path": "8_consensus_peaks.OUT.ipynb",
   "parameters": {},
   "start_time": "2022-09-29T13:44:40.536795",
   "version": "2.3.4"
  }
 },
 "nbformat": 4,
 "nbformat_minor": 5
}

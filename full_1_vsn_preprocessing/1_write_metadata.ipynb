{
 "cells": [
  {
   "cell_type": "markdown",
   "id": "e1b44c5d",
   "metadata": {},
   "source": [
    "Writing a metadata file for the vsn preprocessing pipeline (https://vsn-pipelines.readthedocs.io/en/latest/scatac-seq.html)"
   ]
  },
  {
   "cell_type": "code",
   "execution_count": 1,
   "id": "dc228dce",
   "metadata": {
    "execution": {
     "iopub.execute_input": "2023-04-13T15:30:54.727991Z",
     "iopub.status.busy": "2023-04-13T15:30:54.727666Z",
     "iopub.status.idle": "2023-04-13T15:30:55.372554Z",
     "shell.execute_reply": "2023-04-13T15:30:55.371944Z",
     "shell.execute_reply.started": "2023-04-13T15:30:54.727922Z"
    },
    "tags": []
   },
   "outputs": [],
   "source": [
    "import os\n",
    "import glob\n",
    "import pandas as pd"
   ]
  },
  {
   "cell_type": "code",
   "execution_count": 2,
   "id": "f2656ac4",
   "metadata": {
    "execution": {
     "iopub.execute_input": "2023-04-13T15:30:55.374015Z",
     "iopub.status.busy": "2023-04-13T15:30:55.373664Z",
     "iopub.status.idle": "2023-04-13T15:30:55.377690Z",
     "shell.execute_reply": "2023-04-13T15:30:55.377166Z",
     "shell.execute_reply.started": "2023-04-13T15:30:55.373992Z"
    },
    "tags": []
   },
   "outputs": [],
   "source": [
    "filepaths = sorted(glob.glob('../1_data_repository/full_fastq/*'))"
   ]
  },
  {
   "cell_type": "code",
   "execution_count": 3,
   "id": "8848ecf9",
   "metadata": {
    "execution": {
     "iopub.execute_input": "2023-04-13T15:30:55.378783Z",
     "iopub.status.busy": "2023-04-13T15:30:55.378384Z",
     "iopub.status.idle": "2023-04-13T15:30:55.385874Z",
     "shell.execute_reply": "2023-04-13T15:30:55.385363Z",
     "shell.execute_reply.started": "2023-04-13T15:30:55.378764Z"
    },
    "tags": []
   },
   "outputs": [],
   "source": [
    "filenames = [x.split('/')[-1] for x in filepaths]"
   ]
  },
  {
   "cell_type": "code",
   "execution_count": 4,
   "id": "9d19ab2e",
   "metadata": {
    "execution": {
     "iopub.execute_input": "2023-04-13T15:30:55.387389Z",
     "iopub.status.busy": "2023-04-13T15:30:55.386997Z",
     "iopub.status.idle": "2023-04-13T15:30:55.394796Z",
     "shell.execute_reply": "2023-04-13T15:30:55.394276Z",
     "shell.execute_reply.started": "2023-04-13T15:30:55.387371Z"
    },
    "tags": []
   },
   "outputs": [],
   "source": [
    "samplenames = sorted(list(set([x.split('__')[0] for x in filenames])))"
   ]
  },
  {
   "cell_type": "code",
   "execution_count": 5,
   "id": "c6be1ef2",
   "metadata": {
    "execution": {
     "iopub.execute_input": "2023-04-13T15:30:55.431802Z",
     "iopub.status.busy": "2023-04-13T15:30:55.431524Z",
     "iopub.status.idle": "2023-04-13T15:30:55.440040Z",
     "shell.execute_reply": "2023-04-13T15:30:55.439496Z",
     "shell.execute_reply.started": "2023-04-13T15:30:55.431783Z"
    },
    "tags": []
   },
   "outputs": [],
   "source": [
    "metadata = pd.DataFrame(samplenames, columns=['sample_name'])\n",
    "metadata.index = metadata['sample_name']"
   ]
  },
  {
   "cell_type": "code",
   "execution_count": 6,
   "id": "d4676bd5",
   "metadata": {
    "execution": {
     "iopub.execute_input": "2023-04-13T15:30:55.596088Z",
     "iopub.status.busy": "2023-04-13T15:30:55.595804Z",
     "iopub.status.idle": "2023-04-13T15:30:55.606684Z",
     "shell.execute_reply": "2023-04-13T15:30:55.606173Z",
     "shell.execute_reply.started": "2023-04-13T15:30:55.596068Z"
    },
    "tags": []
   },
   "outputs": [
    {
     "data": {
      "text/plain": [
       "{'BIO_ddseq_1': 'hydrop_2x384',\n",
       " 'BIO_ddseq_2': 'hydrop_2x384',\n",
       " 'BIO_ddseq_3': 'hydrop_2x384',\n",
       " 'BIO_ddseq_4': 'hydrop_2x384',\n",
       " 'BRO_mtscatac_1': 'hydrop_2x384',\n",
       " 'BRO_mtscatac_2': 'hydrop_2x384',\n",
       " 'CNA_10xmultiome_1': 'hydrop_2x384',\n",
       " 'CNA_10xmultiome_2': 'hydrop_2x384',\n",
       " 'CNA_10xv11_1': 'hydrop_2x384',\n",
       " 'CNA_10xv11_2': 'hydrop_2x384',\n",
       " 'CNA_10xv11_3': 'hydrop_2x384',\n",
       " 'CNA_10xv11_4': 'hydrop_2x384',\n",
       " 'CNA_10xv11_5': 'hydrop_2x384',\n",
       " 'CNA_10xv2_1': 'hydrop_2x384',\n",
       " 'CNA_10xv2_2': 'hydrop_2x384',\n",
       " 'CNA_ddseq_1': 'hydrop_2x384',\n",
       " 'CNA_ddseq_2': 'hydrop_2x384',\n",
       " 'CNA_hydrop_1': 'hydrop_2x384',\n",
       " 'CNA_hydrop_2': 'hydrop_2x384',\n",
       " 'CNA_hydrop_3': 'hydrop_2x384',\n",
       " 'CNA_hydrop_41': 'hydrop_2x384',\n",
       " 'CNA_hydrop_42': 'hydrop_2x384',\n",
       " 'CNA_hydrop_51': 'hydrop_2x384',\n",
       " 'CNA_hydrop_52': 'hydrop_2x384',\n",
       " 'CNA_hydrop_61': 'hydrop_2x384',\n",
       " 'CNA_hydrop_62': 'hydrop_2x384',\n",
       " 'CNA_mtscatac_1': 'hydrop_2x384',\n",
       " 'CNA_mtscatac_2': 'hydrop_2x384',\n",
       " 'EPF_hydrop_1': 'hydrop_2x384',\n",
       " 'EPF_hydrop_2': 'hydrop_2x384',\n",
       " 'EPF_hydrop_21': 'hydrop_2x384',\n",
       " 'EPF_hydrop_22': 'hydrop_2x384',\n",
       " 'EPF_hydrop_23': 'hydrop_2x384',\n",
       " 'EPF_hydrop_24': 'hydrop_2x384',\n",
       " 'EPF_hydrop_3': 'hydrop_2x384',\n",
       " 'EPF_hydrop_31': 'hydrop_2x384',\n",
       " 'EPF_hydrop_32': 'hydrop_2x384',\n",
       " 'EPF_hydrop_33': 'hydrop_2x384',\n",
       " 'EPF_hydrop_34': 'hydrop_2x384',\n",
       " 'EPF_hydrop_4': 'hydrop_2x384',\n",
       " 'HAR_ddseq_1': 'hydrop_2x384',\n",
       " 'HAR_ddseq_2': 'hydrop_2x384',\n",
       " 'MDC_mtscatac_1': 'hydrop_2x384',\n",
       " 'MDC_mtscatac_2': 'hydrop_2x384',\n",
       " 'OHS_s3atac_1': 'hydrop_2x384',\n",
       " 'OHS_s3atac_2': 'hydrop_2x384',\n",
       " 'SAN_10xmultiome_1': 'hydrop_2x384',\n",
       " 'SAN_10xmultiome_2': 'hydrop_2x384',\n",
       " 'STA_10xv11_1': 'hydrop_2x384',\n",
       " 'STA_10xv11_2': 'hydrop_2x384',\n",
       " 'TXG_10xv11_1': 'hydrop_2x384',\n",
       " 'TXG_10xv2_1': 'hydrop_2x384',\n",
       " 'TXG_10xv2_2': 'hydrop_2x384',\n",
       " 'UCS_ddseq_1': 'hydrop_2x384',\n",
       " 'UCS_ddseq_2': 'hydrop_2x384',\n",
       " 'VIB_10xmultiome_1': 'hydrop_2x384',\n",
       " 'VIB_10xmultiome_2': 'hydrop_2x384',\n",
       " 'VIB_10xv11_1': 'hydrop_2x384',\n",
       " 'VIB_10xv1_1': 'hydrop_2x384',\n",
       " 'VIB_10xv1_2': 'hydrop_2x384',\n",
       " 'VIB_10xv2_1': 'hydrop_2x384',\n",
       " 'VIB_10xv2_2': 'hydrop_2x384',\n",
       " 'VIB_hydrop_11': 'hydrop_2x384',\n",
       " 'VIB_hydrop_12': 'hydrop_2x384',\n",
       " 'VIB_hydrop_21': 'hydrop_2x384',\n",
       " 'VIB_hydrop_22': 'hydrop_2x384',\n",
       " 'VIB_mtscatac_1': 'hydrop_2x384',\n",
       " 'VIB_mtscatac_2': 'hydrop_2x384',\n",
       " 'md5sum.txt': 'hydrop_2x384'}"
      ]
     },
     "execution_count": 6,
     "metadata": {},
     "output_type": "execute_result"
    }
   ],
   "source": [
    "tech_dict_template = {x:'hydrop_2x384' for x in metadata['sample_name']}\n",
    "tech_dict_template"
   ]
  },
  {
   "cell_type": "markdown",
   "id": "fa1b903d",
   "metadata": {
    "execution": {
     "iopub.execute_input": "2022-06-02T18:21:01.866204Z",
     "iopub.status.busy": "2022-06-02T18:21:01.865839Z",
     "iopub.status.idle": "2022-06-02T18:21:01.871502Z",
     "shell.execute_reply": "2022-06-02T18:21:01.870527Z",
     "shell.execute_reply.started": "2022-06-02T18:21:01.866170Z"
    }
   },
   "source": [
    "Copy the dict and change \"atac\" to each sample's method"
   ]
  },
  {
   "cell_type": "code",
   "execution_count": 7,
   "id": "b3e41003",
   "metadata": {
    "execution": {
     "iopub.execute_input": "2023-04-13T15:30:57.467441Z",
     "iopub.status.busy": "2023-04-13T15:30:57.467154Z",
     "iopub.status.idle": "2023-04-13T15:30:57.474707Z",
     "shell.execute_reply": "2023-04-13T15:30:57.473842Z",
     "shell.execute_reply.started": "2023-04-13T15:30:57.467421Z"
    },
    "tags": []
   },
   "outputs": [],
   "source": [
    "tech_dict = {\n",
    "    'BIO_ddseq_1': 'biorad',\n",
    "    'BIO_ddseq_2': 'biorad',\n",
    "    'BIO_ddseq_3': 'biorad',\n",
    "    'BIO_ddseq_4': 'biorad',\n",
    "    'BRO_mtscatac_1': 'atac_revcomp',\n",
    "    'BRO_mtscatac_2': 'atac_revcomp',\n",
    "    'CNA_10xmultiome_1': 'multiome_revcomp',\n",
    "    'CNA_10xmultiome_2': 'multiome_revcomp',\n",
    "    'CNA_10xv11_1': 'atac',\n",
    "    'CNA_10xv11_2': 'atac',\n",
    "    'CNA_10xv11_3': 'atac_revcomp',\n",
    "    'CNA_10xv11_4': 'atac_revcomp',\n",
    "    'CNA_10xv11_5': 'atac_revcomp',\n",
    "    'CNA_10xv2_1': 'atac_revcomp',\n",
    "    'CNA_10xv2_2': 'atac_revcomp',\n",
    "    'CNA_ddseq_1': 'biorad',\n",
    "    'CNA_ddseq_2': 'biorad',\n",
    "    'CNA_hydrop_1': 'hydrop_2x384',\n",
    "    'CNA_hydrop_2': 'hydrop_2x384',\n",
    "    'CNA_hydrop_3': 'hydrop_2x384',\n",
    "    'CNA_mtscatac_1': 'atac_revcomp',\n",
    "    'CNA_mtscatac_2': 'atac_revcomp',\n",
    "    'EPF_hydrop_1': 'hydrop_2x384',\n",
    "    'EPF_hydrop_2': 'hydrop_2x384',\n",
    "    'EPF_hydrop_3': 'hydrop_2x384',\n",
    "    'EPF_hydrop_4': 'hydrop_2x384',\n",
    "    'HAR_ddseq_1': 'biorad',\n",
    "    'HAR_ddseq_2': 'biorad',\n",
    "    'MDC_mtscatac_1': 'atac_revcomp',\n",
    "    'MDC_mtscatac_2': 'atac_revcomp',\n",
    "    'SAN_10xmultiome_1': 'multiome',\n",
    "    'SAN_10xmultiome_2': 'multiome',\n",
    "    'STA_10xv11_1': 'atac_revcomp',\n",
    "    'STA_10xv11_2': 'atac_revcomp',\n",
    "    'TXG_10xv11_1': 'atac_revcomp',\n",
    "    'TXG_10xv2_1': 'atac_revcomp',\n",
    "    'TXG_10xv2_2': 'atac_revcomp',\n",
    "    'UCS_ddseq_1': 'biorad',\n",
    "    'UCS_ddseq_2': 'biorad',\n",
    "    'VIB_10xmultiome_1': 'multiome_revcomp',\n",
    "    'VIB_10xmultiome_2': 'multiome_revcomp',\n",
    "    'VIB_10xv11_1': 'atac',\n",
    "    'VIB_10xv11_2': 'atac',\n",
    "    'VIB_10xv1_1': 'atac',\n",
    "    'VIB_10xv1_2': 'atac',\n",
    "    'VIB_10xv2_1': 'atac_revcomp',\n",
    "    'VIB_10xv2_2': 'atac_revcomp',\n",
    "    'VIB_hydrop_11': 'hydrop_2x384',\n",
    "    'VIB_hydrop_12': 'hydrop_2x384',\n",
    "    'VIB_hydrop_21': 'hydrop_2x384',\n",
    "    'VIB_hydrop_22': 'hydrop_2x384',\n",
    "    'VIB_mtscatac_1': 'atac_revcomp',\n",
    "    'VIB_mtscatac_2': 'atac_revcomp',\n",
    "    'OHS_s3atac_1': 'OHS_s3atac_1',\n",
    "    'OHS_s3atac_2': 'OHS_s3atac_2'\n",
    "}"
   ]
  },
  {
   "cell_type": "code",
   "execution_count": 8,
   "id": "e601e101-cd52-4221-891c-61b7ca6226da",
   "metadata": {
    "execution": {
     "iopub.execute_input": "2023-04-13T15:30:58.526223Z",
     "iopub.status.busy": "2023-04-13T15:30:58.525932Z",
     "iopub.status.idle": "2023-04-13T15:30:58.531154Z",
     "shell.execute_reply": "2023-04-13T15:30:58.530650Z",
     "shell.execute_reply.started": "2023-04-13T15:30:58.526204Z"
    }
   },
   "outputs": [
    {
     "data": {
      "text/plain": [
       "{'BIO_ddseq_1': 'biorad',\n",
       " 'BIO_ddseq_2': 'biorad',\n",
       " 'BIO_ddseq_3': 'biorad',\n",
       " 'BIO_ddseq_4': 'biorad',\n",
       " 'BRO_mtscatac_1': 'atac_revcomp',\n",
       " 'BRO_mtscatac_2': 'atac_revcomp',\n",
       " 'CNA_10xmultiome_1': 'multiome_revcomp',\n",
       " 'CNA_10xmultiome_2': 'multiome_revcomp',\n",
       " 'CNA_10xv11_1': 'atac',\n",
       " 'CNA_10xv11_2': 'atac',\n",
       " 'CNA_10xv11_3': 'atac_revcomp',\n",
       " 'CNA_10xv11_4': 'atac_revcomp',\n",
       " 'CNA_10xv11_5': 'atac_revcomp',\n",
       " 'CNA_10xv2_1': 'atac_revcomp',\n",
       " 'CNA_10xv2_2': 'atac_revcomp',\n",
       " 'CNA_ddseq_1': 'biorad',\n",
       " 'CNA_ddseq_2': 'biorad',\n",
       " 'CNA_hydrop_1': 'hydrop_2x384',\n",
       " 'CNA_hydrop_2': 'hydrop_2x384',\n",
       " 'CNA_hydrop_3': 'hydrop_2x384',\n",
       " 'CNA_mtscatac_1': 'atac_revcomp',\n",
       " 'CNA_mtscatac_2': 'atac_revcomp',\n",
       " 'EPF_hydrop_1': 'hydrop_2x384',\n",
       " 'EPF_hydrop_2': 'hydrop_2x384',\n",
       " 'EPF_hydrop_3': 'hydrop_2x384',\n",
       " 'EPF_hydrop_4': 'hydrop_2x384',\n",
       " 'HAR_ddseq_1': 'biorad',\n",
       " 'HAR_ddseq_2': 'biorad',\n",
       " 'MDC_mtscatac_1': 'atac_revcomp',\n",
       " 'MDC_mtscatac_2': 'atac_revcomp',\n",
       " 'SAN_10xmultiome_1': 'multiome',\n",
       " 'SAN_10xmultiome_2': 'multiome',\n",
       " 'STA_10xv11_1': 'atac_revcomp',\n",
       " 'STA_10xv11_2': 'atac_revcomp',\n",
       " 'TXG_10xv11_1': 'atac_revcomp',\n",
       " 'TXG_10xv2_1': 'atac_revcomp',\n",
       " 'TXG_10xv2_2': 'atac_revcomp',\n",
       " 'UCS_ddseq_1': 'biorad',\n",
       " 'UCS_ddseq_2': 'biorad',\n",
       " 'VIB_10xmultiome_1': 'multiome_revcomp',\n",
       " 'VIB_10xmultiome_2': 'multiome_revcomp',\n",
       " 'VIB_10xv11_1': 'atac',\n",
       " 'VIB_10xv11_2': 'atac',\n",
       " 'VIB_10xv1_1': 'atac',\n",
       " 'VIB_10xv1_2': 'atac',\n",
       " 'VIB_10xv2_1': 'atac_revcomp',\n",
       " 'VIB_10xv2_2': 'atac_revcomp',\n",
       " 'VIB_hydrop_11': 'hydrop_2x384',\n",
       " 'VIB_hydrop_12': 'hydrop_2x384',\n",
       " 'VIB_hydrop_21': 'hydrop_2x384',\n",
       " 'VIB_hydrop_22': 'hydrop_2x384',\n",
       " 'VIB_mtscatac_1': 'atac_revcomp',\n",
       " 'VIB_mtscatac_2': 'atac_revcomp',\n",
       " 'OHS_s3atac_1': 'OHS_s3atac_1',\n",
       " 'OHS_s3atac_2': 'OHS_s3atac_2'}"
      ]
     },
     "execution_count": 8,
     "metadata": {},
     "output_type": "execute_result"
    }
   ],
   "source": [
    "tech_dict"
   ]
  },
  {
   "cell_type": "code",
   "execution_count": 21,
   "id": "09adaaa6-ee9d-4ed6-8cba-ed9fa853c7d6",
   "metadata": {},
   "outputs": [],
   "source": [
    "stragglers_list = sorted(['UCS_ddseq_1', 'UCS_ddseq_2'])"
   ]
  },
  {
   "cell_type": "code",
   "execution_count": 22,
   "id": "4ca96401-78cd-439e-907b-56a9dfafd3b0",
   "metadata": {},
   "outputs": [],
   "source": [
    "tech_dict_sub = {}\n",
    "for sample in stragglers_list:\n",
    "    tech_dict_sub[sample] = tech_dict[sample]"
   ]
  },
  {
   "cell_type": "code",
   "execution_count": 23,
   "id": "a54b07b2-3d3d-4bdd-a1ef-dc47e39345d4",
   "metadata": {},
   "outputs": [
    {
     "name": "stdout",
     "output_type": "stream",
     "text": [
      "{'VIB_10xv11_1', 'VIB_mtscatac_2', 'CNA_ddseq_2', 'CNA_ddseq_1', 'VIB_10xv11_2', 'VIB_mtscatac_1'}\n",
      "set()\n"
     ]
    }
   ],
   "source": [
    "print(set(tech_dict.keys()) - set(tech_dict_template.keys()))\n",
    "print(set(tech_dict_template.keys()) - set(tech_dict.keys()))"
   ]
  },
  {
   "cell_type": "code",
   "execution_count": 9,
   "id": "f830e195-c71f-4f06-86db-fb9fae3af88d",
   "metadata": {
    "execution": {
     "iopub.execute_input": "2023-04-13T15:31:04.029891Z",
     "iopub.status.busy": "2023-04-13T15:31:04.029602Z",
     "iopub.status.idle": "2023-04-13T15:31:04.032588Z",
     "shell.execute_reply": "2023-04-13T15:31:04.032065Z",
     "shell.execute_reply.started": "2023-04-13T15:31:04.029872Z"
    }
   },
   "outputs": [],
   "source": [
    "tech_dict_sub=tech_dict"
   ]
  },
  {
   "cell_type": "code",
   "execution_count": 10,
   "id": "05355abf",
   "metadata": {
    "execution": {
     "iopub.execute_input": "2023-04-13T15:31:04.725200Z",
     "iopub.status.busy": "2023-04-13T15:31:04.724909Z",
     "iopub.status.idle": "2023-04-13T15:31:04.744609Z",
     "shell.execute_reply": "2023-04-13T15:31:04.743751Z",
     "shell.execute_reply.started": "2023-04-13T15:31:04.725180Z"
    },
    "tags": []
   },
   "outputs": [],
   "source": [
    "fastq_repo_path = '/dodrio/scratch/projects/starting_2022_023/benchmark/scatac_benchmark/1_data_repository/full_fastq'\n",
    "\n",
    "with open('metadata.tsv', 'w') as f:\n",
    "    f.write(f'sample_name\\ttechnology\\tfastq_PE1_path\\tfastq_barcode_path\\tfastq_PE2_path\\n')\n",
    "    for sample in tech_dict_sub.keys():\n",
    "        if tech_dict[sample] != 'biorad':\n",
    "            f.write(f'{sample}\\t{tech_dict[sample]}\\t{fastq_repo_path}/{sample}__R1.FULL.fastq.gz\\t{fastq_repo_path}/{sample}__R2.FULL.fastq.gz\\t{fastq_repo_path}/{sample}__R3.FULL.fastq.gz\\n')\n",
    "        else:\n",
    "            f.write(f'{sample}\\t{tech_dict[sample]}\\t{fastq_repo_path}/{sample}__R1.FULL.fastq.gz\\t\\t{fastq_repo_path}/{sample}__R2.FULL.fastq.gz\\n')"
   ]
  },
  {
   "cell_type": "code",
   "execution_count": 11,
   "id": "f6be669a-fc00-455f-89aa-3e3b437eb6be",
   "metadata": {
    "execution": {
     "iopub.execute_input": "2023-04-13T15:31:05.397052Z",
     "iopub.status.busy": "2023-04-13T15:31:05.396763Z",
     "iopub.status.idle": "2023-04-13T15:31:05.553231Z",
     "shell.execute_reply": "2023-04-13T15:31:05.552151Z",
     "shell.execute_reply.started": "2023-04-13T15:31:05.397032Z"
    }
   },
   "outputs": [
    {
     "name": "stdout",
     "output_type": "stream",
     "text": [
      "sample_name\ttechnology\tfastq_PE1_path\tfastq_barcode_path\tfastq_PE2_path\n",
      "BIO_ddseq_1\tbiorad\t/dodrio/scratch/projects/starting_2022_023/benchmark/scatac_benchmark/1_data_repository/full_fastq/BIO_ddseq_1__R1.FULL.fastq.gz\t\t/dodrio/scratch/projects/starting_2022_023/benchmark/scatac_benchmark/1_data_repository/full_fastq/BIO_ddseq_1__R2.FULL.fastq.gz\n",
      "BIO_ddseq_2\tbiorad\t/dodrio/scratch/projects/starting_2022_023/benchmark/scatac_benchmark/1_data_repository/full_fastq/BIO_ddseq_2__R1.FULL.fastq.gz\t\t/dodrio/scratch/projects/starting_2022_023/benchmark/scatac_benchmark/1_data_repository/full_fastq/BIO_ddseq_2__R2.FULL.fastq.gz\n",
      "BIO_ddseq_3\tbiorad\t/dodrio/scratch/projects/starting_2022_023/benchmark/scatac_benchmark/1_data_repository/full_fastq/BIO_ddseq_3__R1.FULL.fastq.gz\t\t/dodrio/scratch/projects/starting_2022_023/benchmark/scatac_benchmark/1_data_repository/full_fastq/BIO_ddseq_3__R2.FULL.fastq.gz\n",
      "BIO_ddseq_4\tbiorad\t/dodrio/scratch/projects/starting_2022_023/benchmark/scatac_benchmark/1_data_repository/full_fastq/BIO_ddseq_4__R1.FULL.fastq.gz\t\t/dodrio/scratch/projects/starting_2022_023/benchmark/scatac_benchmark/1_data_repository/full_fastq/BIO_ddseq_4__R2.FULL.fastq.gz\n",
      "BRO_mtscatac_1\tatac_revcomp\t/dodrio/scratch/projects/starting_2022_023/benchmark/scatac_benchmark/1_data_repository/full_fastq/BRO_mtscatac_1__R1.FULL.fastq.gz\t/dodrio/scratch/projects/starting_2022_023/benchmark/scatac_benchmark/1_data_repository/full_fastq/BRO_mtscatac_1__R2.FULL.fastq.gz\t/dodrio/scratch/projects/starting_2022_023/benchmark/scatac_benchmark/1_data_repository/full_fastq/BRO_mtscatac_1__R3.FULL.fastq.gz\n",
      "BRO_mtscatac_2\tatac_revcomp\t/dodrio/scratch/projects/starting_2022_023/benchmark/scatac_benchmark/1_data_repository/full_fastq/BRO_mtscatac_2__R1.FULL.fastq.gz\t/dodrio/scratch/projects/starting_2022_023/benchmark/scatac_benchmark/1_data_repository/full_fastq/BRO_mtscatac_2__R2.FULL.fastq.gz\t/dodrio/scratch/projects/starting_2022_023/benchmark/scatac_benchmark/1_data_repository/full_fastq/BRO_mtscatac_2__R3.FULL.fastq.gz\n",
      "CNA_10xmultiome_1\tmultiome_revcomp\t/dodrio/scratch/projects/starting_2022_023/benchmark/scatac_benchmark/1_data_repository/full_fastq/CNA_10xmultiome_1__R1.FULL.fastq.gz\t/dodrio/scratch/projects/starting_2022_023/benchmark/scatac_benchmark/1_data_repository/full_fastq/CNA_10xmultiome_1__R2.FULL.fastq.gz\t/dodrio/scratch/projects/starting_2022_023/benchmark/scatac_benchmark/1_data_repository/full_fastq/CNA_10xmultiome_1__R3.FULL.fastq.gz\n",
      "CNA_10xmultiome_2\tmultiome_revcomp\t/dodrio/scratch/projects/starting_2022_023/benchmark/scatac_benchmark/1_data_repository/full_fastq/CNA_10xmultiome_2__R1.FULL.fastq.gz\t/dodrio/scratch/projects/starting_2022_023/benchmark/scatac_benchmark/1_data_repository/full_fastq/CNA_10xmultiome_2__R2.FULL.fastq.gz\t/dodrio/scratch/projects/starting_2022_023/benchmark/scatac_benchmark/1_data_repository/full_fastq/CNA_10xmultiome_2__R3.FULL.fastq.gz\n",
      "CNA_10xv11_1\tatac\t/dodrio/scratch/projects/starting_2022_023/benchmark/scatac_benchmark/1_data_repository/full_fastq/CNA_10xv11_1__R1.FULL.fastq.gz\t/dodrio/scratch/projects/starting_2022_023/benchmark/scatac_benchmark/1_data_repository/full_fastq/CNA_10xv11_1__R2.FULL.fastq.gz\t/dodrio/scratch/projects/starting_2022_023/benchmark/scatac_benchmark/1_data_repository/full_fastq/CNA_10xv11_1__R3.FULL.fastq.gz\n",
      "CNA_10xv11_2\tatac\t/dodrio/scratch/projects/starting_2022_023/benchmark/scatac_benchmark/1_data_repository/full_fastq/CNA_10xv11_2__R1.FULL.fastq.gz\t/dodrio/scratch/projects/starting_2022_023/benchmark/scatac_benchmark/1_data_repository/full_fastq/CNA_10xv11_2__R2.FULL.fastq.gz\t/dodrio/scratch/projects/starting_2022_023/benchmark/scatac_benchmark/1_data_repository/full_fastq/CNA_10xv11_2__R3.FULL.fastq.gz\n",
      "CNA_10xv11_3\tatac_revcomp\t/dodrio/scratch/projects/starting_2022_023/benchmark/scatac_benchmark/1_data_repository/full_fastq/CNA_10xv11_3__R1.FULL.fastq.gz\t/dodrio/scratch/projects/starting_2022_023/benchmark/scatac_benchmark/1_data_repository/full_fastq/CNA_10xv11_3__R2.FULL.fastq.gz\t/dodrio/scratch/projects/starting_2022_023/benchmark/scatac_benchmark/1_data_repository/full_fastq/CNA_10xv11_3__R3.FULL.fastq.gz\n",
      "CNA_10xv11_4\tatac_revcomp\t/dodrio/scratch/projects/starting_2022_023/benchmark/scatac_benchmark/1_data_repository/full_fastq/CNA_10xv11_4__R1.FULL.fastq.gz\t/dodrio/scratch/projects/starting_2022_023/benchmark/scatac_benchmark/1_data_repository/full_fastq/CNA_10xv11_4__R2.FULL.fastq.gz\t/dodrio/scratch/projects/starting_2022_023/benchmark/scatac_benchmark/1_data_repository/full_fastq/CNA_10xv11_4__R3.FULL.fastq.gz\n",
      "CNA_10xv11_5\tatac_revcomp\t/dodrio/scratch/projects/starting_2022_023/benchmark/scatac_benchmark/1_data_repository/full_fastq/CNA_10xv11_5__R1.FULL.fastq.gz\t/dodrio/scratch/projects/starting_2022_023/benchmark/scatac_benchmark/1_data_repository/full_fastq/CNA_10xv11_5__R2.FULL.fastq.gz\t/dodrio/scratch/projects/starting_2022_023/benchmark/scatac_benchmark/1_data_repository/full_fastq/CNA_10xv11_5__R3.FULL.fastq.gz\n",
      "CNA_10xv2_1\tatac_revcomp\t/dodrio/scratch/projects/starting_2022_023/benchmark/scatac_benchmark/1_data_repository/full_fastq/CNA_10xv2_1__R1.FULL.fastq.gz\t/dodrio/scratch/projects/starting_2022_023/benchmark/scatac_benchmark/1_data_repository/full_fastq/CNA_10xv2_1__R2.FULL.fastq.gz\t/dodrio/scratch/projects/starting_2022_023/benchmark/scatac_benchmark/1_data_repository/full_fastq/CNA_10xv2_1__R3.FULL.fastq.gz\n",
      "CNA_10xv2_2\tatac_revcomp\t/dodrio/scratch/projects/starting_2022_023/benchmark/scatac_benchmark/1_data_repository/full_fastq/CNA_10xv2_2__R1.FULL.fastq.gz\t/dodrio/scratch/projects/starting_2022_023/benchmark/scatac_benchmark/1_data_repository/full_fastq/CNA_10xv2_2__R2.FULL.fastq.gz\t/dodrio/scratch/projects/starting_2022_023/benchmark/scatac_benchmark/1_data_repository/full_fastq/CNA_10xv2_2__R3.FULL.fastq.gz\n",
      "CNA_ddseq_1\tbiorad\t/dodrio/scratch/projects/starting_2022_023/benchmark/scatac_benchmark/1_data_repository/full_fastq/CNA_ddseq_1__R1.FULL.fastq.gz\t\t/dodrio/scratch/projects/starting_2022_023/benchmark/scatac_benchmark/1_data_repository/full_fastq/CNA_ddseq_1__R2.FULL.fastq.gz\n",
      "CNA_ddseq_2\tbiorad\t/dodrio/scratch/projects/starting_2022_023/benchmark/scatac_benchmark/1_data_repository/full_fastq/CNA_ddseq_2__R1.FULL.fastq.gz\t\t/dodrio/scratch/projects/starting_2022_023/benchmark/scatac_benchmark/1_data_repository/full_fastq/CNA_ddseq_2__R2.FULL.fastq.gz\n",
      "CNA_hydrop_1\thydrop_2x384\t/dodrio/scratch/projects/starting_2022_023/benchmark/scatac_benchmark/1_data_repository/full_fastq/CNA_hydrop_1__R1.FULL.fastq.gz\t/dodrio/scratch/projects/starting_2022_023/benchmark/scatac_benchmark/1_data_repository/full_fastq/CNA_hydrop_1__R2.FULL.fastq.gz\t/dodrio/scratch/projects/starting_2022_023/benchmark/scatac_benchmark/1_data_repository/full_fastq/CNA_hydrop_1__R3.FULL.fastq.gz\n",
      "CNA_hydrop_2\thydrop_2x384\t/dodrio/scratch/projects/starting_2022_023/benchmark/scatac_benchmark/1_data_repository/full_fastq/CNA_hydrop_2__R1.FULL.fastq.gz\t/dodrio/scratch/projects/starting_2022_023/benchmark/scatac_benchmark/1_data_repository/full_fastq/CNA_hydrop_2__R2.FULL.fastq.gz\t/dodrio/scratch/projects/starting_2022_023/benchmark/scatac_benchmark/1_data_repository/full_fastq/CNA_hydrop_2__R3.FULL.fastq.gz\n",
      "CNA_hydrop_3\thydrop_2x384\t/dodrio/scratch/projects/starting_2022_023/benchmark/scatac_benchmark/1_data_repository/full_fastq/CNA_hydrop_3__R1.FULL.fastq.gz\t/dodrio/scratch/projects/starting_2022_023/benchmark/scatac_benchmark/1_data_repository/full_fastq/CNA_hydrop_3__R2.FULL.fastq.gz\t/dodrio/scratch/projects/starting_2022_023/benchmark/scatac_benchmark/1_data_repository/full_fastq/CNA_hydrop_3__R3.FULL.fastq.gz\n",
      "CNA_mtscatac_1\tatac_revcomp\t/dodrio/scratch/projects/starting_2022_023/benchmark/scatac_benchmark/1_data_repository/full_fastq/CNA_mtscatac_1__R1.FULL.fastq.gz\t/dodrio/scratch/projects/starting_2022_023/benchmark/scatac_benchmark/1_data_repository/full_fastq/CNA_mtscatac_1__R2.FULL.fastq.gz\t/dodrio/scratch/projects/starting_2022_023/benchmark/scatac_benchmark/1_data_repository/full_fastq/CNA_mtscatac_1__R3.FULL.fastq.gz\n",
      "CNA_mtscatac_2\tatac_revcomp\t/dodrio/scratch/projects/starting_2022_023/benchmark/scatac_benchmark/1_data_repository/full_fastq/CNA_mtscatac_2__R1.FULL.fastq.gz\t/dodrio/scratch/projects/starting_2022_023/benchmark/scatac_benchmark/1_data_repository/full_fastq/CNA_mtscatac_2__R2.FULL.fastq.gz\t/dodrio/scratch/projects/starting_2022_023/benchmark/scatac_benchmark/1_data_repository/full_fastq/CNA_mtscatac_2__R3.FULL.fastq.gz\n",
      "EPF_hydrop_1\thydrop_2x384\t/dodrio/scratch/projects/starting_2022_023/benchmark/scatac_benchmark/1_data_repository/full_fastq/EPF_hydrop_1__R1.FULL.fastq.gz\t/dodrio/scratch/projects/starting_2022_023/benchmark/scatac_benchmark/1_data_repository/full_fastq/EPF_hydrop_1__R2.FULL.fastq.gz\t/dodrio/scratch/projects/starting_2022_023/benchmark/scatac_benchmark/1_data_repository/full_fastq/EPF_hydrop_1__R3.FULL.fastq.gz\n",
      "EPF_hydrop_2\thydrop_2x384\t/dodrio/scratch/projects/starting_2022_023/benchmark/scatac_benchmark/1_data_repository/full_fastq/EPF_hydrop_2__R1.FULL.fastq.gz\t/dodrio/scratch/projects/starting_2022_023/benchmark/scatac_benchmark/1_data_repository/full_fastq/EPF_hydrop_2__R2.FULL.fastq.gz\t/dodrio/scratch/projects/starting_2022_023/benchmark/scatac_benchmark/1_data_repository/full_fastq/EPF_hydrop_2__R3.FULL.fastq.gz\n",
      "EPF_hydrop_3\thydrop_2x384\t/dodrio/scratch/projects/starting_2022_023/benchmark/scatac_benchmark/1_data_repository/full_fastq/EPF_hydrop_3__R1.FULL.fastq.gz\t/dodrio/scratch/projects/starting_2022_023/benchmark/scatac_benchmark/1_data_repository/full_fastq/EPF_hydrop_3__R2.FULL.fastq.gz\t/dodrio/scratch/projects/starting_2022_023/benchmark/scatac_benchmark/1_data_repository/full_fastq/EPF_hydrop_3__R3.FULL.fastq.gz\n",
      "EPF_hydrop_4\thydrop_2x384\t/dodrio/scratch/projects/starting_2022_023/benchmark/scatac_benchmark/1_data_repository/full_fastq/EPF_hydrop_4__R1.FULL.fastq.gz\t/dodrio/scratch/projects/starting_2022_023/benchmark/scatac_benchmark/1_data_repository/full_fastq/EPF_hydrop_4__R2.FULL.fastq.gz\t/dodrio/scratch/projects/starting_2022_023/benchmark/scatac_benchmark/1_data_repository/full_fastq/EPF_hydrop_4__R3.FULL.fastq.gz\n",
      "HAR_ddseq_1\tbiorad\t/dodrio/scratch/projects/starting_2022_023/benchmark/scatac_benchmark/1_data_repository/full_fastq/HAR_ddseq_1__R1.FULL.fastq.gz\t\t/dodrio/scratch/projects/starting_2022_023/benchmark/scatac_benchmark/1_data_repository/full_fastq/HAR_ddseq_1__R2.FULL.fastq.gz\n",
      "HAR_ddseq_2\tbiorad\t/dodrio/scratch/projects/starting_2022_023/benchmark/scatac_benchmark/1_data_repository/full_fastq/HAR_ddseq_2__R1.FULL.fastq.gz\t\t/dodrio/scratch/projects/starting_2022_023/benchmark/scatac_benchmark/1_data_repository/full_fastq/HAR_ddseq_2__R2.FULL.fastq.gz\n",
      "MDC_mtscatac_1\tatac_revcomp\t/dodrio/scratch/projects/starting_2022_023/benchmark/scatac_benchmark/1_data_repository/full_fastq/MDC_mtscatac_1__R1.FULL.fastq.gz\t/dodrio/scratch/projects/starting_2022_023/benchmark/scatac_benchmark/1_data_repository/full_fastq/MDC_mtscatac_1__R2.FULL.fastq.gz\t/dodrio/scratch/projects/starting_2022_023/benchmark/scatac_benchmark/1_data_repository/full_fastq/MDC_mtscatac_1__R3.FULL.fastq.gz\n",
      "MDC_mtscatac_2\tatac_revcomp\t/dodrio/scratch/projects/starting_2022_023/benchmark/scatac_benchmark/1_data_repository/full_fastq/MDC_mtscatac_2__R1.FULL.fastq.gz\t/dodrio/scratch/projects/starting_2022_023/benchmark/scatac_benchmark/1_data_repository/full_fastq/MDC_mtscatac_2__R2.FULL.fastq.gz\t/dodrio/scratch/projects/starting_2022_023/benchmark/scatac_benchmark/1_data_repository/full_fastq/MDC_mtscatac_2__R3.FULL.fastq.gz\n",
      "SAN_10xmultiome_1\tmultiome\t/dodrio/scratch/projects/starting_2022_023/benchmark/scatac_benchmark/1_data_repository/full_fastq/SAN_10xmultiome_1__R1.FULL.fastq.gz\t/dodrio/scratch/projects/starting_2022_023/benchmark/scatac_benchmark/1_data_repository/full_fastq/SAN_10xmultiome_1__R2.FULL.fastq.gz\t/dodrio/scratch/projects/starting_2022_023/benchmark/scatac_benchmark/1_data_repository/full_fastq/SAN_10xmultiome_1__R3.FULL.fastq.gz\n",
      "SAN_10xmultiome_2\tmultiome\t/dodrio/scratch/projects/starting_2022_023/benchmark/scatac_benchmark/1_data_repository/full_fastq/SAN_10xmultiome_2__R1.FULL.fastq.gz\t/dodrio/scratch/projects/starting_2022_023/benchmark/scatac_benchmark/1_data_repository/full_fastq/SAN_10xmultiome_2__R2.FULL.fastq.gz\t/dodrio/scratch/projects/starting_2022_023/benchmark/scatac_benchmark/1_data_repository/full_fastq/SAN_10xmultiome_2__R3.FULL.fastq.gz\n",
      "STA_10xv11_1\tatac_revcomp\t/dodrio/scratch/projects/starting_2022_023/benchmark/scatac_benchmark/1_data_repository/full_fastq/STA_10xv11_1__R1.FULL.fastq.gz\t/dodrio/scratch/projects/starting_2022_023/benchmark/scatac_benchmark/1_data_repository/full_fastq/STA_10xv11_1__R2.FULL.fastq.gz\t/dodrio/scratch/projects/starting_2022_023/benchmark/scatac_benchmark/1_data_repository/full_fastq/STA_10xv11_1__R3.FULL.fastq.gz\n",
      "STA_10xv11_2\tatac_revcomp\t/dodrio/scratch/projects/starting_2022_023/benchmark/scatac_benchmark/1_data_repository/full_fastq/STA_10xv11_2__R1.FULL.fastq.gz\t/dodrio/scratch/projects/starting_2022_023/benchmark/scatac_benchmark/1_data_repository/full_fastq/STA_10xv11_2__R2.FULL.fastq.gz\t/dodrio/scratch/projects/starting_2022_023/benchmark/scatac_benchmark/1_data_repository/full_fastq/STA_10xv11_2__R3.FULL.fastq.gz\n",
      "TXG_10xv11_1\tatac_revcomp\t/dodrio/scratch/projects/starting_2022_023/benchmark/scatac_benchmark/1_data_repository/full_fastq/TXG_10xv11_1__R1.FULL.fastq.gz\t/dodrio/scratch/projects/starting_2022_023/benchmark/scatac_benchmark/1_data_repository/full_fastq/TXG_10xv11_1__R2.FULL.fastq.gz\t/dodrio/scratch/projects/starting_2022_023/benchmark/scatac_benchmark/1_data_repository/full_fastq/TXG_10xv11_1__R3.FULL.fastq.gz\n",
      "TXG_10xv2_1\tatac_revcomp\t/dodrio/scratch/projects/starting_2022_023/benchmark/scatac_benchmark/1_data_repository/full_fastq/TXG_10xv2_1__R1.FULL.fastq.gz\t/dodrio/scratch/projects/starting_2022_023/benchmark/scatac_benchmark/1_data_repository/full_fastq/TXG_10xv2_1__R2.FULL.fastq.gz\t/dodrio/scratch/projects/starting_2022_023/benchmark/scatac_benchmark/1_data_repository/full_fastq/TXG_10xv2_1__R3.FULL.fastq.gz\n",
      "TXG_10xv2_2\tatac_revcomp\t/dodrio/scratch/projects/starting_2022_023/benchmark/scatac_benchmark/1_data_repository/full_fastq/TXG_10xv2_2__R1.FULL.fastq.gz\t/dodrio/scratch/projects/starting_2022_023/benchmark/scatac_benchmark/1_data_repository/full_fastq/TXG_10xv2_2__R2.FULL.fastq.gz\t/dodrio/scratch/projects/starting_2022_023/benchmark/scatac_benchmark/1_data_repository/full_fastq/TXG_10xv2_2__R3.FULL.fastq.gz\n",
      "UCS_ddseq_1\tbiorad\t/dodrio/scratch/projects/starting_2022_023/benchmark/scatac_benchmark/1_data_repository/full_fastq/UCS_ddseq_1__R1.FULL.fastq.gz\t\t/dodrio/scratch/projects/starting_2022_023/benchmark/scatac_benchmark/1_data_repository/full_fastq/UCS_ddseq_1__R2.FULL.fastq.gz\n",
      "UCS_ddseq_2\tbiorad\t/dodrio/scratch/projects/starting_2022_023/benchmark/scatac_benchmark/1_data_repository/full_fastq/UCS_ddseq_2__R1.FULL.fastq.gz\t\t/dodrio/scratch/projects/starting_2022_023/benchmark/scatac_benchmark/1_data_repository/full_fastq/UCS_ddseq_2__R2.FULL.fastq.gz\n",
      "VIB_10xmultiome_1\tmultiome_revcomp\t/dodrio/scratch/projects/starting_2022_023/benchmark/scatac_benchmark/1_data_repository/full_fastq/VIB_10xmultiome_1__R1.FULL.fastq.gz\t/dodrio/scratch/projects/starting_2022_023/benchmark/scatac_benchmark/1_data_repository/full_fastq/VIB_10xmultiome_1__R2.FULL.fastq.gz\t/dodrio/scratch/projects/starting_2022_023/benchmark/scatac_benchmark/1_data_repository/full_fastq/VIB_10xmultiome_1__R3.FULL.fastq.gz\n",
      "VIB_10xmultiome_2\tmultiome_revcomp\t/dodrio/scratch/projects/starting_2022_023/benchmark/scatac_benchmark/1_data_repository/full_fastq/VIB_10xmultiome_2__R1.FULL.fastq.gz\t/dodrio/scratch/projects/starting_2022_023/benchmark/scatac_benchmark/1_data_repository/full_fastq/VIB_10xmultiome_2__R2.FULL.fastq.gz\t/dodrio/scratch/projects/starting_2022_023/benchmark/scatac_benchmark/1_data_repository/full_fastq/VIB_10xmultiome_2__R3.FULL.fastq.gz\n",
      "VIB_10xv11_1\tatac\t/dodrio/scratch/projects/starting_2022_023/benchmark/scatac_benchmark/1_data_repository/full_fastq/VIB_10xv11_1__R1.FULL.fastq.gz\t/dodrio/scratch/projects/starting_2022_023/benchmark/scatac_benchmark/1_data_repository/full_fastq/VIB_10xv11_1__R2.FULL.fastq.gz\t/dodrio/scratch/projects/starting_2022_023/benchmark/scatac_benchmark/1_data_repository/full_fastq/VIB_10xv11_1__R3.FULL.fastq.gz\n",
      "VIB_10xv11_2\tatac\t/dodrio/scratch/projects/starting_2022_023/benchmark/scatac_benchmark/1_data_repository/full_fastq/VIB_10xv11_2__R1.FULL.fastq.gz\t/dodrio/scratch/projects/starting_2022_023/benchmark/scatac_benchmark/1_data_repository/full_fastq/VIB_10xv11_2__R2.FULL.fastq.gz\t/dodrio/scratch/projects/starting_2022_023/benchmark/scatac_benchmark/1_data_repository/full_fastq/VIB_10xv11_2__R3.FULL.fastq.gz\n",
      "VIB_10xv1_1\tatac\t/dodrio/scratch/projects/starting_2022_023/benchmark/scatac_benchmark/1_data_repository/full_fastq/VIB_10xv1_1__R1.FULL.fastq.gz\t/dodrio/scratch/projects/starting_2022_023/benchmark/scatac_benchmark/1_data_repository/full_fastq/VIB_10xv1_1__R2.FULL.fastq.gz\t/dodrio/scratch/projects/starting_2022_023/benchmark/scatac_benchmark/1_data_repository/full_fastq/VIB_10xv1_1__R3.FULL.fastq.gz\n",
      "VIB_10xv1_2\tatac\t/dodrio/scratch/projects/starting_2022_023/benchmark/scatac_benchmark/1_data_repository/full_fastq/VIB_10xv1_2__R1.FULL.fastq.gz\t/dodrio/scratch/projects/starting_2022_023/benchmark/scatac_benchmark/1_data_repository/full_fastq/VIB_10xv1_2__R2.FULL.fastq.gz\t/dodrio/scratch/projects/starting_2022_023/benchmark/scatac_benchmark/1_data_repository/full_fastq/VIB_10xv1_2__R3.FULL.fastq.gz\n",
      "VIB_10xv2_1\tatac_revcomp\t/dodrio/scratch/projects/starting_2022_023/benchmark/scatac_benchmark/1_data_repository/full_fastq/VIB_10xv2_1__R1.FULL.fastq.gz\t/dodrio/scratch/projects/starting_2022_023/benchmark/scatac_benchmark/1_data_repository/full_fastq/VIB_10xv2_1__R2.FULL.fastq.gz\t/dodrio/scratch/projects/starting_2022_023/benchmark/scatac_benchmark/1_data_repository/full_fastq/VIB_10xv2_1__R3.FULL.fastq.gz\n",
      "VIB_10xv2_2\tatac_revcomp\t/dodrio/scratch/projects/starting_2022_023/benchmark/scatac_benchmark/1_data_repository/full_fastq/VIB_10xv2_2__R1.FULL.fastq.gz\t/dodrio/scratch/projects/starting_2022_023/benchmark/scatac_benchmark/1_data_repository/full_fastq/VIB_10xv2_2__R2.FULL.fastq.gz\t/dodrio/scratch/projects/starting_2022_023/benchmark/scatac_benchmark/1_data_repository/full_fastq/VIB_10xv2_2__R3.FULL.fastq.gz\n",
      "VIB_hydrop_11\thydrop_2x384\t/dodrio/scratch/projects/starting_2022_023/benchmark/scatac_benchmark/1_data_repository/full_fastq/VIB_hydrop_11__R1.FULL.fastq.gz\t/dodrio/scratch/projects/starting_2022_023/benchmark/scatac_benchmark/1_data_repository/full_fastq/VIB_hydrop_11__R2.FULL.fastq.gz\t/dodrio/scratch/projects/starting_2022_023/benchmark/scatac_benchmark/1_data_repository/full_fastq/VIB_hydrop_11__R3.FULL.fastq.gz\n",
      "VIB_hydrop_12\thydrop_2x384\t/dodrio/scratch/projects/starting_2022_023/benchmark/scatac_benchmark/1_data_repository/full_fastq/VIB_hydrop_12__R1.FULL.fastq.gz\t/dodrio/scratch/projects/starting_2022_023/benchmark/scatac_benchmark/1_data_repository/full_fastq/VIB_hydrop_12__R2.FULL.fastq.gz\t/dodrio/scratch/projects/starting_2022_023/benchmark/scatac_benchmark/1_data_repository/full_fastq/VIB_hydrop_12__R3.FULL.fastq.gz\n",
      "VIB_hydrop_21\thydrop_2x384\t/dodrio/scratch/projects/starting_2022_023/benchmark/scatac_benchmark/1_data_repository/full_fastq/VIB_hydrop_21__R1.FULL.fastq.gz\t/dodrio/scratch/projects/starting_2022_023/benchmark/scatac_benchmark/1_data_repository/full_fastq/VIB_hydrop_21__R2.FULL.fastq.gz\t/dodrio/scratch/projects/starting_2022_023/benchmark/scatac_benchmark/1_data_repository/full_fastq/VIB_hydrop_21__R3.FULL.fastq.gz\n",
      "VIB_hydrop_22\thydrop_2x384\t/dodrio/scratch/projects/starting_2022_023/benchmark/scatac_benchmark/1_data_repository/full_fastq/VIB_hydrop_22__R1.FULL.fastq.gz\t/dodrio/scratch/projects/starting_2022_023/benchmark/scatac_benchmark/1_data_repository/full_fastq/VIB_hydrop_22__R2.FULL.fastq.gz\t/dodrio/scratch/projects/starting_2022_023/benchmark/scatac_benchmark/1_data_repository/full_fastq/VIB_hydrop_22__R3.FULL.fastq.gz\n",
      "VIB_mtscatac_1\tatac_revcomp\t/dodrio/scratch/projects/starting_2022_023/benchmark/scatac_benchmark/1_data_repository/full_fastq/VIB_mtscatac_1__R1.FULL.fastq.gz\t/dodrio/scratch/projects/starting_2022_023/benchmark/scatac_benchmark/1_data_repository/full_fastq/VIB_mtscatac_1__R2.FULL.fastq.gz\t/dodrio/scratch/projects/starting_2022_023/benchmark/scatac_benchmark/1_data_repository/full_fastq/VIB_mtscatac_1__R3.FULL.fastq.gz\n",
      "VIB_mtscatac_2\tatac_revcomp\t/dodrio/scratch/projects/starting_2022_023/benchmark/scatac_benchmark/1_data_repository/full_fastq/VIB_mtscatac_2__R1.FULL.fastq.gz\t/dodrio/scratch/projects/starting_2022_023/benchmark/scatac_benchmark/1_data_repository/full_fastq/VIB_mtscatac_2__R2.FULL.fastq.gz\t/dodrio/scratch/projects/starting_2022_023/benchmark/scatac_benchmark/1_data_repository/full_fastq/VIB_mtscatac_2__R3.FULL.fastq.gz\n",
      "OHS_s3atac_1\tOHS_s3atac_1\t/dodrio/scratch/projects/starting_2022_023/benchmark/scatac_benchmark/1_data_repository/full_fastq/OHS_s3atac_1__R1.FULL.fastq.gz\t/dodrio/scratch/projects/starting_2022_023/benchmark/scatac_benchmark/1_data_repository/full_fastq/OHS_s3atac_1__R2.FULL.fastq.gz\t/dodrio/scratch/projects/starting_2022_023/benchmark/scatac_benchmark/1_data_repository/full_fastq/OHS_s3atac_1__R3.FULL.fastq.gz\n",
      "OHS_s3atac_2\tOHS_s3atac_2\t/dodrio/scratch/projects/starting_2022_023/benchmark/scatac_benchmark/1_data_repository/full_fastq/OHS_s3atac_2__R1.FULL.fastq.gz\t/dodrio/scratch/projects/starting_2022_023/benchmark/scatac_benchmark/1_data_repository/full_fastq/OHS_s3atac_2__R2.FULL.fastq.gz\t/dodrio/scratch/projects/starting_2022_023/benchmark/scatac_benchmark/1_data_repository/full_fastq/OHS_s3atac_2__R3.FULL.fastq.gz\n"
     ]
    }
   ],
   "source": [
    "!cat metadata.tsv"
   ]
  },
  {
   "cell_type": "code",
   "execution_count": null,
   "id": "c5234cc4-f34c-47c6-a532-c8465439da30",
   "metadata": {},
   "outputs": [],
   "source": []
  }
 ],
 "metadata": {
  "kernelspec": {
   "display_name": "20220628_pycistopic.sif",
   "language": "python",
   "name": "cistopic_20220628"
  },
  "language_info": {
   "codemirror_mode": {
    "name": "ipython",
    "version": 3
   },
   "file_extension": ".py",
   "mimetype": "text/x-python",
   "name": "python",
   "nbconvert_exporter": "python",
   "pygments_lexer": "ipython3",
   "version": "3.8.13"
  }
 },
 "nbformat": 4,
 "nbformat_minor": 5
}

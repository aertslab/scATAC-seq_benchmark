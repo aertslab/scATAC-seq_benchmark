{
 "cells": [
  {
   "cell_type": "markdown",
   "metadata": {},
   "source": [
    "HyDrop produces a steady stream of cell/bead emulsion. The user can pick the volume of emulsion for droplet PCR and downstream processing. A large emulsion volume will lead to fewer steps downstream, and thus less work to do. However, if the number of cells is too high relative to the barcode complexity (total number of barcodes available to index cells), the odds of barcode collisions (two different cells receiving the same barcode by chance) increases according to a poisson distribution.  \n",
    "\n",
    "For each replicate, we created an emulsion containing the equivalent of 3000 recovered cells. We split each of this emulsion into two parts, and indexed them separately to avoid these barcode collisions. We do this only with the 384x384 version of hydrop, as the barcode complexity is only ~140k compared to the 96x96x96 complexity of ~880k.\n",
    "\n",
    "These aliquots are manifested as such:"
   ]
  },
  {
   "cell_type": "code",
   "execution_count": 1,
   "metadata": {},
   "outputs": [
    {
     "name": "stdout",
     "output_type": "stream",
     "text": [
      "full_preprocessing_out/data/fragments/CNA_hydrop_1.FULL.fragments.raw.tsv.gz\n",
      "full_preprocessing_out/data/fragments/CNA_hydrop_1.FULL.fragments.tsv.gz\n",
      "full_preprocessing_out/data/fragments/CNA_hydrop_2.FULL.fragments.raw.tsv.gz\n",
      "full_preprocessing_out/data/fragments/CNA_hydrop_2.FULL.fragments.tsv.gz\n",
      "full_preprocessing_out/data/fragments/CNA_hydrop_3.FULL.fragments.raw.tsv.gz\n",
      "full_preprocessing_out/data/fragments/CNA_hydrop_3.FULL.fragments.tsv.gz\n",
      "full_preprocessing_out/data/fragments/EPF_hydrop_1.FULL.fragments.raw.tsv.gz\n",
      "full_preprocessing_out/data/fragments/EPF_hydrop_1.FULL.fragments.tsv.gz\n",
      "full_preprocessing_out/data/fragments/EPF_hydrop_2.FULL.fragments.raw.tsv.gz\n",
      "full_preprocessing_out/data/fragments/EPF_hydrop_2.FULL.fragments.tsv.gz\n",
      "full_preprocessing_out/data/fragments/EPF_hydrop_3.FULL.fragments.raw.tsv.gz\n",
      "full_preprocessing_out/data/fragments/EPF_hydrop_3.FULL.fragments.tsv.gz\n",
      "full_preprocessing_out/data/fragments/EPF_hydrop_4.FULL.fragments.raw.tsv.gz\n",
      "full_preprocessing_out/data/fragments/EPF_hydrop_4.FULL.fragments.tsv.gz\n",
      "full_preprocessing_out/data/fragments/VIB_hydrop_11.FULL.fragments.raw.tsv.gz\n",
      "full_preprocessing_out/data/fragments/VIB_hydrop_11.FULL.fragments.tsv.gz\n",
      "full_preprocessing_out/data/fragments/VIB_hydrop_12.FULL.fragments.raw.tsv.gz\n",
      "full_preprocessing_out/data/fragments/VIB_hydrop_12.FULL.fragments.tsv.gz\n",
      "full_preprocessing_out/data/fragments/VIB_hydrop_21.FULL.fragments.raw.tsv.gz\n",
      "full_preprocessing_out/data/fragments/VIB_hydrop_21.FULL.fragments.tsv.gz\n",
      "full_preprocessing_out/data/fragments/VIB_hydrop_22.FULL.fragments.raw.tsv.gz\n",
      "full_preprocessing_out/data/fragments/VIB_hydrop_22.FULL.fragments.tsv.gz\n"
     ]
    }
   ],
   "source": [
    "!ls full_preprocessing_out/data/fragments/*hydrop*.tsv.gz"
   ]
  },
  {
   "cell_type": "markdown",
   "metadata": {},
   "source": [
    "These aliquot fragments files each bear a number denoting replicate-aliquot. e.g. `VIB_hydrop_21` corresponds to aliquot 1 from replicate 2. It is clear that the two fragments file originating from the same emulsion can be merged into a single fragments file. In order to do this however, we must append the aliquot number to each aliquot's barcodes. If we did not do this, then we would not be able to distinguish different cells which by chance were indexed with the same barcode, but in different aliquots. This is done below."
   ]
  },
  {
   "cell_type": "markdown",
   "metadata": {},
   "source": [
    "# Merge fragments per-sample and append samplename"
   ]
  },
  {
   "cell_type": "markdown",
   "metadata": {},
   "source": [
    "Then, for each aliquot, add a unique identifier to each fragments file barcode which denotes the sample and aliquot origin."
   ]
  },
  {
   "cell_type": "code",
   "execution_count": 2,
   "metadata": {},
   "outputs": [],
   "source": [
    "import glob\n",
    "\n",
    "%load_ext lab_black"
   ]
  },
  {
   "cell_type": "code",
   "execution_count": 3,
   "metadata": {},
   "outputs": [
    {
     "name": "stdout",
     "output_type": "stream",
     "text": [
      "CNA_hydrop_\n",
      "\tzcat full_preprocessing_out/data/fragments/CNA_hydrop_1.fragments.tsv.gz | mawk '{ print $1 \"\\t\" $2 \"\\t\" $3 \"\\t\" $4 \"-1\\t\" $5}' | bgzip -@ 4 > full_preprocessing_out/data/fragments/CNA_hydrop_1.fragments.id.tsv.gz\n",
      "\tzcat full_preprocessing_out/data/fragments/CNA_hydrop_2.fragments.tsv.gz | mawk '{ print $1 \"\\t\" $2 \"\\t\" $3 \"\\t\" $4 \"-2\\t\" $5}' | bgzip -@ 4 > full_preprocessing_out/data/fragments/CNA_hydrop_2.fragments.id.tsv.gz\n",
      "EPF_hydrop_\n",
      "\tzcat full_preprocessing_out/data/fragments/EPF_hydrop_1.fragments.tsv.gz | mawk '{ print $1 \"\\t\" $2 \"\\t\" $3 \"\\t\" $4 \"-1\\t\" $5}' | bgzip -@ 4 > full_preprocessing_out/data/fragments/EPF_hydrop_1.fragments.id.tsv.gz\n",
      "\tzcat full_preprocessing_out/data/fragments/EPF_hydrop_2.fragments.tsv.gz | mawk '{ print $1 \"\\t\" $2 \"\\t\" $3 \"\\t\" $4 \"-2\\t\" $5}' | bgzip -@ 4 > full_preprocessing_out/data/fragments/EPF_hydrop_2.fragments.id.tsv.gz\n",
      "VIB_hydrop_1\n",
      "\tzcat full_preprocessing_out/data/fragments/VIB_hydrop_11.fragments.tsv.gz | mawk '{ print $1 \"\\t\" $2 \"\\t\" $3 \"\\t\" $4 \"-1\\t\" $5}' | bgzip -@ 4 > full_preprocessing_out/data/fragments/VIB_hydrop_11.fragments.id.tsv.gz\n",
      "\tzcat full_preprocessing_out/data/fragments/VIB_hydrop_12.fragments.tsv.gz | mawk '{ print $1 \"\\t\" $2 \"\\t\" $3 \"\\t\" $4 \"-2\\t\" $5}' | bgzip -@ 4 > full_preprocessing_out/data/fragments/VIB_hydrop_12.fragments.id.tsv.gz\n",
      "VIB_hydrop_2\n",
      "\tzcat full_preprocessing_out/data/fragments/VIB_hydrop_21.fragments.tsv.gz | mawk '{ print $1 \"\\t\" $2 \"\\t\" $3 \"\\t\" $4 \"-1\\t\" $5}' | bgzip -@ 4 > full_preprocessing_out/data/fragments/VIB_hydrop_21.fragments.id.tsv.gz\n",
      "\tzcat full_preprocessing_out/data/fragments/VIB_hydrop_22.fragments.tsv.gz | mawk '{ print $1 \"\\t\" $2 \"\\t\" $3 \"\\t\" $4 \"-2\\t\" $5}' | bgzip -@ 4 > full_preprocessing_out/data/fragments/VIB_hydrop_22.fragments.id.tsv.gz\n"
     ]
    }
   ],
   "source": [
    "fragments_dir = \"full_preprocessing_out/data/fragments/\"\n",
    "fragments_paths = glob.glob(fragments_dir + \"*hydrop*.tsv.gz\")\n",
    "supersamples = sorted(\n",
    "    list(set([x.split(\"/\")[-1].split(\".\")[0][:-1] for x in fragments_paths]))\n",
    ")\n",
    "\n",
    "parallel_filename = \"add_identifier.parallel\"\n",
    "with open(parallel_filename, \"w\") as f:\n",
    "    for supersample in supersamples:\n",
    "        print(supersample)\n",
    "        for subsample_number in [1, 2]:\n",
    "            subsample = supersample + str(subsample_number)\n",
    "            fragments = fragments_dir + subsample + \".fragments.tsv.gz\"\n",
    "            newfragments = fragments_dir + subsample + \".fragments.id.tsv.gz\"\n",
    "            command = (\n",
    "                f\"zcat {fragments}\"\n",
    "                + ' | mawk \\'{ print $1 \"\\\\t\" $2 \"\\\\t\" $3 \"\\\\t\" $4 \"-'\n",
    "                + str(subsample_number)\n",
    "                + \"\\\\t\\\" $5}'\"\n",
    "                + f\" | bgzip -@ 4 > {newfragments}\"\n",
    "            )\n",
    "            print(\"\\t\" + command)\n",
    "            f.write(command + \"\\n\")"
   ]
  },
  {
   "cell_type": "code",
   "execution_count": 57,
   "metadata": {
    "tags": []
   },
   "outputs": [
    {
     "name": "stdout",
     "output_type": "stream",
     "text": [
      "mawk '{ print $1 \"\\t\" $2 \"\\t\" $3 \"\\t\" $4 \"-1\\t\" $5}' full_preprocessing_out/data/fragments/CNA_hydrop_41.fragments.tsv.gz > full_preprocessing_out/data/fragments/CNA_hydrop_41.fragments.id.tsv.gz\n",
      "mawk '{ print $1 \"\\t\" $2 \"\\t\" $3 \"\\t\" $4 \"-2\\t\" $5}' full_preprocessing_out/data/fragments/CNA_hydrop_42.fragments.tsv.gz > full_preprocessing_out/data/fragments/CNA_hydrop_42.fragments.id.tsv.gz\n",
      "mawk '{ print $1 \"\\t\" $2 \"\\t\" $3 \"\\t\" $4 \"-1\\t\" $5}' full_preprocessing_out/data/fragments/CNA_hydrop_51.fragments.tsv.gz > full_preprocessing_out/data/fragments/CNA_hydrop_51.fragments.id.tsv.gz\n",
      "mawk '{ print $1 \"\\t\" $2 \"\\t\" $3 \"\\t\" $4 \"-2\\t\" $5}' full_preprocessing_out/data/fragments/CNA_hydrop_52.fragments.tsv.gz > full_preprocessing_out/data/fragments/CNA_hydrop_52.fragments.id.tsv.gz\n",
      "mawk '{ print $1 \"\\t\" $2 \"\\t\" $3 \"\\t\" $4 \"-1\\t\" $5}' full_preprocessing_out/data/fragments/CNA_hydrop_61.fragments.tsv.gz > full_preprocessing_out/data/fragments/CNA_hydrop_61.fragments.id.tsv.gz\n",
      "mawk '{ print $1 \"\\t\" $2 \"\\t\" $3 \"\\t\" $4 \"-2\\t\" $5}' full_preprocessing_out/data/fragments/CNA_hydrop_62.fragments.tsv.gz > full_preprocessing_out/data/fragments/CNA_hydrop_62.fragments.id.tsv.gz\n",
      "mawk '{ print $1 \"\\t\" $2 \"\\t\" $3 \"\\t\" $4 \"-1\\t\" $5}' full_preprocessing_out/data/fragments/EPF_hydrop_21.fragments.tsv.gz > full_preprocessing_out/data/fragments/EPF_hydrop_21.fragments.id.tsv.gz\n",
      "mawk '{ print $1 \"\\t\" $2 \"\\t\" $3 \"\\t\" $4 \"-2\\t\" $5}' full_preprocessing_out/data/fragments/EPF_hydrop_22.fragments.tsv.gz > full_preprocessing_out/data/fragments/EPF_hydrop_22.fragments.id.tsv.gz\n",
      "mawk '{ print $1 \"\\t\" $2 \"\\t\" $3 \"\\t\" $4 \"-1\\t\" $5}' full_preprocessing_out/data/fragments/EPF_hydrop_31.fragments.tsv.gz > full_preprocessing_out/data/fragments/EPF_hydrop_31.fragments.id.tsv.gz\n",
      "mawk '{ print $1 \"\\t\" $2 \"\\t\" $3 \"\\t\" $4 \"-2\\t\" $5}' full_preprocessing_out/data/fragments/EPF_hydrop_32.fragments.tsv.gz > full_preprocessing_out/data/fragments/EPF_hydrop_32.fragments.id.tsv.gz\n",
      "mawk '{ print $1 \"\\t\" $2 \"\\t\" $3 \"\\t\" $4 \"-1\\t\" $5}' full_preprocessing_out/data/fragments/VIB_hydrop_11.fragments.tsv.gz > full_preprocessing_out/data/fragments/VIB_hydrop_11.fragments.id.tsv.gz\n",
      "mawk '{ print $1 \"\\t\" $2 \"\\t\" $3 \"\\t\" $4 \"-2\\t\" $5}' full_preprocessing_out/data/fragments/VIB_hydrop_12.fragments.tsv.gz > full_preprocessing_out/data/fragments/VIB_hydrop_12.fragments.id.tsv.gz\n",
      "mawk '{ print $1 \"\\t\" $2 \"\\t\" $3 \"\\t\" $4 \"-1\\t\" $5}' full_preprocessing_out/data/fragments/VIB_hydrop_21.fragments.tsv.gz > full_preprocessing_out/data/fragments/VIB_hydrop_21.fragments.id.tsv.gz\n",
      "mawk '{ print $1 \"\\t\" $2 \"\\t\" $3 \"\\t\" $4 \"-2\\t\" $5}' full_preprocessing_out/data/fragments/VIB_hydrop_22.fragments.tsv.gz > full_preprocessing_out/data/fragments/VIB_hydrop_22.fragments.id.tsv.gz\n"
     ]
    },
    {
     "data": {
      "application/javascript": [
       "\n",
       "            setTimeout(function() {\n",
       "                var nbb_cell_id = 57;\n",
       "                var nbb_unformatted_code = \"!cat add_identifier.parallel\";\n",
       "                var nbb_formatted_code = \"!cat add_identifier.parallel\";\n",
       "                var nbb_cells = Jupyter.notebook.get_cells();\n",
       "                for (var i = 0; i < nbb_cells.length; ++i) {\n",
       "                    if (nbb_cells[i].input_prompt_number == nbb_cell_id) {\n",
       "                        if (nbb_cells[i].get_text() == nbb_unformatted_code) {\n",
       "                             nbb_cells[i].set_text(nbb_formatted_code);\n",
       "                        }\n",
       "                        break;\n",
       "                    }\n",
       "                }\n",
       "            }, 500);\n",
       "            "
      ],
      "text/plain": [
       "<IPython.core.display.Javascript object>"
      ]
     },
     "metadata": {},
     "output_type": "display_data"
    }
   ],
   "source": [
    "!cat add_identifier.parallel | parallel -j 8 --progress"
   ]
  },
  {
   "cell_type": "markdown",
   "metadata": {},
   "source": [
    "Then merge the fragments files from same run"
   ]
  },
  {
   "cell_type": "code",
   "execution_count": 6,
   "metadata": {},
   "outputs": [
    {
     "name": "stdout",
     "output_type": "stream",
     "text": [
      "CNA_hydrop_\n",
      "\tzcat full_preprocessing_out/data/fragments/CNA_hydrop_1.fragments.id.tsv.gz full_preprocessing_out/data/fragments/CNA_hydrop_2.fragments.id.tsv.gz  | LC_ALL=C sort --parallel=8 -S 8G -k1,1 -k 2,2n -k3,3n | bgzip -@ 8 > full_preprocessing_out/data/fragments/CNA_hydrop_.fragments.id.tsv.gz\n",
      "EPF_hydrop_\n",
      "\tzcat full_preprocessing_out/data/fragments/EPF_hydrop_1.fragments.id.tsv.gz full_preprocessing_out/data/fragments/EPF_hydrop_2.fragments.id.tsv.gz  | LC_ALL=C sort --parallel=8 -S 8G -k1,1 -k 2,2n -k3,3n | bgzip -@ 8 > full_preprocessing_out/data/fragments/EPF_hydrop_.fragments.id.tsv.gz\n",
      "VIB_hydrop_1\n",
      "\tzcat full_preprocessing_out/data/fragments/VIB_hydrop_11.fragments.id.tsv.gz full_preprocessing_out/data/fragments/VIB_hydrop_12.fragments.id.tsv.gz  | LC_ALL=C sort --parallel=8 -S 8G -k1,1 -k 2,2n -k3,3n | bgzip -@ 8 > full_preprocessing_out/data/fragments/VIB_hydrop_1.fragments.id.tsv.gz\n",
      "VIB_hydrop_2\n",
      "\tzcat full_preprocessing_out/data/fragments/VIB_hydrop_21.fragments.id.tsv.gz full_preprocessing_out/data/fragments/VIB_hydrop_22.fragments.id.tsv.gz  | LC_ALL=C sort --parallel=8 -S 8G -k1,1 -k 2,2n -k3,3n | bgzip -@ 8 > full_preprocessing_out/data/fragments/VIB_hydrop_2.fragments.id.tsv.gz\n"
     ]
    }
   ],
   "source": [
    "fragments_dir = \"full_preprocessing_out/data/fragments/\"\n",
    "fragments_paths = glob.glob(fragments_dir + \"*hydrop*.tsv.gz\")\n",
    "supersamples = sorted(\n",
    "    list(set([x.split(\"/\")[-1].split(\".\")[0][:-1] for x in fragments_paths]))\n",
    ")\n",
    "\n",
    "parallel_filename = \"merge_subsamples.parallel\"\n",
    "with open(parallel_filename, \"w\") as f:\n",
    "    for supersample in supersamples:\n",
    "        print(supersample)\n",
    "        fragments_1 = fragments_dir + supersample + \"1.fragments.id.tsv.gz\"\n",
    "        fragments_2 = fragments_dir + supersample + \"2.fragments.id.tsv.gz\"\n",
    "        newfragments = fragments_dir + supersample + \".fragments.id.tsv.gz\"\n",
    "        command = (\n",
    "            f\"zcat {fragments_1} {fragments_2} \"\n",
    "            + \" | LC_ALL=C sort --parallel=8 -S 8G -k1,1 -k 2,2n -k3,3n\"\n",
    "            + f\" | bgzip -@ 8 > {newfragments}\"\n",
    "        )\n",
    "        print(\"\\t\" + command)\n",
    "        f.write(command + \"\\n\")"
   ]
  },
  {
   "cell_type": "code",
   "execution_count": 7,
   "metadata": {},
   "outputs": [
    {
     "name": "stdout",
     "output_type": "stream",
     "text": [
      "zcat full_preprocessing_out/data/fragments/CNA_hydrop_1.fragments.id.tsv.gz full_preprocessing_out/data/fragments/CNA_hydrop_2.fragments.id.tsv.gz  | LC_ALL=C sort --parallel=8 -S 8G -k1,1 -k 2,2n -k3,3n | bgzip -@ 8 > full_preprocessing_out/data/fragments/CNA_hydrop_.fragments.id.tsv.gz\n",
      "zcat full_preprocessing_out/data/fragments/EPF_hydrop_1.fragments.id.tsv.gz full_preprocessing_out/data/fragments/EPF_hydrop_2.fragments.id.tsv.gz  | LC_ALL=C sort --parallel=8 -S 8G -k1,1 -k 2,2n -k3,3n | bgzip -@ 8 > full_preprocessing_out/data/fragments/EPF_hydrop_.fragments.id.tsv.gz\n",
      "zcat full_preprocessing_out/data/fragments/VIB_hydrop_11.fragments.id.tsv.gz full_preprocessing_out/data/fragments/VIB_hydrop_12.fragments.id.tsv.gz  | LC_ALL=C sort --parallel=8 -S 8G -k1,1 -k 2,2n -k3,3n | bgzip -@ 8 > full_preprocessing_out/data/fragments/VIB_hydrop_1.fragments.id.tsv.gz\n",
      "zcat full_preprocessing_out/data/fragments/VIB_hydrop_21.fragments.id.tsv.gz full_preprocessing_out/data/fragments/VIB_hydrop_22.fragments.id.tsv.gz  | LC_ALL=C sort --parallel=8 -S 8G -k1,1 -k 2,2n -k3,3n | bgzip -@ 8 > full_preprocessing_out/data/fragments/VIB_hydrop_2.fragments.id.tsv.gz\n"
     ]
    }
   ],
   "source": [
    "!cat merge_subsamples.parallel"
   ]
  },
  {
   "cell_type": "markdown",
   "metadata": {},
   "source": [
    "# similarly, merge bams"
   ]
  },
  {
   "cell_type": "markdown",
   "metadata": {},
   "source": [
    "need to add an id to all the barcodes in the bams first"
   ]
  },
  {
   "cell_type": "code",
   "execution_count": 16,
   "metadata": {},
   "outputs": [
    {
     "name": "stdout",
     "output_type": "stream",
     "text": [
      "[1] 15971\n"
     ]
    }
   ],
   "source": [
    "bam=bam_postbap/HYA__24010b__20210813_384_PBMC_11_S9.bwa.out.possorted.mm.bam\n",
    "outbam=${bam%.bam}.ID.bam\n",
    "/staging/leuven/stg_00002/lcb/ghuls/software/single_cell_toolkit_rust/target/release/append_string_to_bc_tag_try $bam $outbam DB '-11' &"
   ]
  },
  {
   "cell_type": "code",
   "execution_count": 18,
   "metadata": {},
   "outputs": [
    {
     "name": "stdout",
     "output_type": "stream",
     "text": [
      "[2] 16061\n"
     ]
    }
   ],
   "source": [
    "bam=bam_postbap/HYA__2beafa__20210813_384_PBMC_12_S10.bwa.out.possorted.mm.bam\n",
    "outbam=${bam%.bam}.ID.bam\n",
    "/staging/leuven/stg_00002/lcb/ghuls/software/single_cell_toolkit_rust/target/release/append_string_to_bc_tag_try $bam $outbam DB '-12' &"
   ]
  },
  {
   "cell_type": "code",
   "execution_count": 19,
   "metadata": {},
   "outputs": [
    {
     "name": "stdout",
     "output_type": "stream",
     "text": [
      "[3] 16081\n"
     ]
    }
   ],
   "source": [
    "bam=bam_postbap/HYA__3d6da9__20210813_384_PBMC_21_S11.bwa.out.possorted.mm.bam\n",
    "outbam=${bam%.bam}.ID.bam\n",
    "/staging/leuven/stg_00002/lcb/ghuls/software/single_cell_toolkit_rust/target/release/append_string_to_bc_tag_try $bam $outbam DB '-21' &"
   ]
  },
  {
   "cell_type": "code",
   "execution_count": 20,
   "metadata": {},
   "outputs": [
    {
     "name": "stdout",
     "output_type": "stream",
     "text": [
      "[4] 16118\n"
     ]
    }
   ],
   "source": [
    "bam=bam_postbap/HYA__5028cb__20210813_384_PBMC_22_S12.bwa.out.possorted.mm.bam\n",
    "outbam=${bam%.bam}.ID.bam\n",
    "/staging/leuven/stg_00002/lcb/ghuls/software/single_cell_toolkit_rust/target/release/append_string_to_bc_tag_try $bam $outbam DB '-22' &"
   ]
  },
  {
   "cell_type": "markdown",
   "metadata": {},
   "source": [
    "Then, merge the resulting bamsm"
   ]
  },
  {
   "cell_type": "code",
   "execution_count": 24,
   "metadata": {},
   "outputs": [
    {
     "name": "stdout",
     "output_type": "stream",
     "text": [
      "\n",
      "The following have been reloaded with a version change:\n",
      "  1) XZ/5.2.4-GCCcore-6.4.0 => XZ/5.2.5-GCCcore-6.4.0\n",
      "\n",
      "[1] 18219\n",
      "[2] 18233\n"
     ]
    }
   ],
   "source": [
    "module load SAMtools\n",
    "samtools merge -@ 12 -o bam_postbap/Hydrop_1.bwa.out.possorted.mm.bam bam_postbap/HYA__24010b__20210813_384_PBMC_11_S9.bwa.out.possorted.mm.ID.bam bam_postbap/HYA__2beafa__20210813_384_PBMC_12_S10.bwa.out.possorted.mm.ID.bam -f &\n",
    "samtools merge -@ 12 -o bam_postbap/Hydrop_2.bwa.out.possorted.mm.bam bam_postbap/HYA__3d6da9__20210813_384_PBMC_21_S11.bwa.out.possorted.mm.ID.bam bam_postbap/HYA__5028cb__20210813_384_PBMC_22_S12.bwa.out.possorted.mm.ID.bam -f &"
   ]
  },
  {
   "cell_type": "code",
   "execution_count": 34,
   "metadata": {},
   "outputs": [
    {
     "name": "stdout",
     "output_type": "stream",
     "text": [
      "[3] 22295\n",
      "[4] 22296\n"
     ]
    }
   ],
   "source": [
    "samtools index bam_postbap/Hydrop_1.bwa.out.possorted.mm.bam &\n",
    "samtools index bam_postbap/Hydrop_2.bwa.out.possorted.mm.bam &"
   ]
  },
  {
   "cell_type": "markdown",
   "metadata": {},
   "source": [
    "The final result is 2 instead of 4 bams and fragments files, each corresponding to the hydrop replicate runs."
   ]
  }
 ],
 "metadata": {
  "kernelspec": {
   "display_name": "20220628_pycistopic.sif",
   "language": "python",
   "name": "cistopic_20220628"
  },
  "language_info": {
   "codemirror_mode": {
    "name": "ipython",
    "version": 3
   },
   "file_extension": ".py",
   "mimetype": "text/x-python",
   "name": "python",
   "nbconvert_exporter": "python",
   "pygments_lexer": "ipython3",
   "version": "3.8.13"
  }
 },
 "nbformat": 4,
 "nbformat_minor": 4
}

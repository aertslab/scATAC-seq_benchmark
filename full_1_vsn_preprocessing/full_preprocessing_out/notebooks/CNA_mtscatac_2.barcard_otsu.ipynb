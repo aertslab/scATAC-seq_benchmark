{
 "cells": [
  {
   "cell_type": "markdown",
   "id": "695b3da3-8e19-4b07-a27e-f183b093f3b2",
   "metadata": {
    "execution": {
     "iopub.execute_input": "2022-07-13T15:30:56.958611Z",
     "iopub.status.busy": "2022-07-13T15:30:56.957882Z",
     "iopub.status.idle": "2022-07-13T15:30:56.967134Z",
     "shell.execute_reply": "2022-07-13T15:30:56.965277Z",
     "shell.execute_reply.started": "2022-07-13T15:30:56.958539Z"
    },
    "papermill": {
     "duration": 0.011474,
     "end_time": "2022-07-29T07:27:52.931989",
     "exception": false,
     "start_time": "2022-07-29T07:27:52.920515",
     "status": "completed"
    },
    "tags": []
   },
   "source": [
    "# Load parameters"
   ]
  },
  {
   "cell_type": "code",
   "execution_count": 1,
   "id": "e5148d03-8a26-44bc-afc7-1ecc0057b57b",
   "metadata": {
    "execution": {
     "iopub.execute_input": "2022-07-29T07:27:52.954129Z",
     "iopub.status.busy": "2022-07-29T07:27:52.953765Z",
     "iopub.status.idle": "2022-07-29T07:27:52.955455Z",
     "shell.execute_reply": "2022-07-29T07:27:52.955093Z",
     "shell.execute_reply.started": "2022-07-15T10:06:07.283404Z"
    },
    "jupyter": {
     "source_hidden": true
    },
    "papermill": {
     "duration": 0.013471,
     "end_time": "2022-07-29T07:27:52.955535",
     "exception": false,
     "start_time": "2022-07-29T07:27:52.942064",
     "status": "completed"
    },
    "tags": [
     "parameters"
    ]
   },
   "outputs": [],
   "source": [
    "# Parameters loaded below"
   ]
  },
  {
   "cell_type": "code",
   "execution_count": 2,
   "id": "civic-sacramento",
   "metadata": {
    "execution": {
     "iopub.execute_input": "2022-07-29T07:27:52.979316Z",
     "iopub.status.busy": "2022-07-29T07:27:52.978966Z",
     "iopub.status.idle": "2022-07-29T07:27:52.980236Z",
     "shell.execute_reply": "2022-07-29T07:27:52.980528Z"
    },
    "jupyter": {
     "source_hidden": true
    },
    "papermill": {
     "duration": 0.015469,
     "end_time": "2022-07-29T07:27:52.980605",
     "exception": false,
     "start_time": "2022-07-29T07:27:52.965136",
     "status": "completed"
    },
    "tags": [
     "injected-parameters"
    ]
   },
   "outputs": [],
   "source": [
    "# Parameters\n",
    "SAMPLE = \"CNA_mtscatac_2\"\n",
    "BARCARD_OVERLAP_TSV = \"CNA_mtscatac_2.barcard.overlap.tsv\"\n"
   ]
  },
  {
   "cell_type": "code",
   "execution_count": 3,
   "id": "ce098be7-4aaa-4a16-bb6a-97510389eeb9",
   "metadata": {
    "execution": {
     "iopub.execute_input": "2022-07-29T07:27:53.002022Z",
     "iopub.status.busy": "2022-07-29T07:27:53.001680Z",
     "iopub.status.idle": "2022-07-29T07:27:53.003242Z",
     "shell.execute_reply": "2022-07-29T07:27:53.003533Z"
    },
    "jupyter": {
     "source_hidden": true
    },
    "papermill": {
     "duration": 0.013227,
     "end_time": "2022-07-29T07:27:53.003612",
     "exception": false,
     "start_time": "2022-07-29T07:27:52.990385",
     "status": "completed"
    },
    "tags": []
   },
   "outputs": [
    {
     "name": "stdout",
     "output_type": "stream",
     "text": [
      "CNA_mtscatac_2\n",
      "CNA_mtscatac_2.barcard.overlap.tsv\n"
     ]
    }
   ],
   "source": [
    "sample = SAMPLE\n",
    "file = BARCARD_OVERLAP_TSV\n",
    "print(sample)\n",
    "print(file)"
   ]
  },
  {
   "cell_type": "markdown",
   "id": "4be691c4-5332-4c4e-8684-2f6c0c3abd17",
   "metadata": {
    "papermill": {
     "duration": 0.009929,
     "end_time": "2022-07-29T07:27:53.023786",
     "exception": false,
     "start_time": "2022-07-29T07:27:53.013857",
     "status": "completed"
    },
    "tags": []
   },
   "source": [
    "# Import libraries and define functions"
   ]
  },
  {
   "cell_type": "code",
   "execution_count": 4,
   "id": "3398b937-c860-4c56-bdec-4c3a625dc33b",
   "metadata": {
    "execution": {
     "iopub.execute_input": "2022-07-29T07:27:53.045323Z",
     "iopub.status.busy": "2022-07-29T07:27:53.044973Z",
     "iopub.status.idle": "2022-07-29T07:27:59.022232Z",
     "shell.execute_reply": "2022-07-29T07:27:59.022547Z"
    },
    "jupyter": {
     "source_hidden": true
    },
    "papermill": {
     "duration": 5.989107,
     "end_time": "2022-07-29T07:27:59.022662",
     "exception": false,
     "start_time": "2022-07-29T07:27:53.033555",
     "status": "completed"
    },
    "tags": []
   },
   "outputs": [],
   "source": [
    "import os\n",
    "import pandas as pd\n",
    "import seaborn as sns\n",
    "import glob\n",
    "import matplotlib.pyplot as plt\n",
    "import numpy as np"
   ]
  },
  {
   "cell_type": "code",
   "execution_count": 5,
   "id": "6851f95b-bd92-4f73-a05d-d4d384bd5448",
   "metadata": {
    "execution": {
     "iopub.execute_input": "2022-07-29T07:27:59.048885Z",
     "iopub.status.busy": "2022-07-29T07:27:59.048513Z",
     "iopub.status.idle": "2022-07-29T07:27:59.049817Z",
     "shell.execute_reply": "2022-07-29T07:27:59.050122Z"
    },
    "jupyter": {
     "source_hidden": true
    },
    "papermill": {
     "duration": 0.016766,
     "end_time": "2022-07-29T07:27:59.050206",
     "exception": false,
     "start_time": "2022-07-29T07:27:59.033440",
     "status": "completed"
    },
    "tags": []
   },
   "outputs": [],
   "source": [
    "def histogram(array, nbins=100):\n",
    "    \"\"\"\n",
    "    Draw histogram from distribution and identify centers.\n",
    "    Parameters\n",
    "    ---------\n",
    "    array: `class::np.array`\n",
    "            Scores distribution\n",
    "    nbins: int\n",
    "            Number of bins to use in the histogram\n",
    "    Return\n",
    "    ---------\n",
    "    float\n",
    "            Histogram values and bin centers.\n",
    "    \"\"\"\n",
    "    array = array.ravel().flatten()\n",
    "    hist, bin_edges = np.histogram(array, bins=nbins, range=None)\n",
    "    bin_centers = (bin_edges[:-1] + bin_edges[1:]) / 2.0\n",
    "    return hist, bin_centers\n",
    "\n",
    "\n",
    "def threshold_otsu(array, nbins=100):\n",
    "    \"\"\"\n",
    "    Apply Otsu threshold on topic-region distributions [Otsu, 1979].\n",
    "    Parameters\n",
    "    ---------\n",
    "    array: `class::np.array`\n",
    "            Array containing the region values for the topic to be binarized.\n",
    "    nbins: int\n",
    "            Number of bins to use in the binarization histogram\n",
    "    Return\n",
    "    ---------\n",
    "    float\n",
    "            Binarization threshold.\n",
    "    Reference\n",
    "    ---------\n",
    "    Otsu, N., 1979. A threshold selection method from gray-level histograms. IEEE transactions on systems, man, and\n",
    "    cybernetics, 9(1), pp.62-66.\n",
    "    \"\"\"\n",
    "    hist, bin_centers = histogram(array, nbins)\n",
    "    hist = hist.astype(float)\n",
    "    # Class probabilities for all possible thresholds\n",
    "    weight1 = np.cumsum(hist)\n",
    "    weight2 = np.cumsum(hist[::-1])[::-1]\n",
    "    # Class means for all possible thresholds\n",
    "    mean1 = np.cumsum(hist * bin_centers) / weight1\n",
    "    mean2 = (np.cumsum((hist * bin_centers)[::-1]) / weight2[::-1])[::-1]\n",
    "    # Clip ends to align class 1 and class 2 variables:\n",
    "    # The last value of ``weight1``/``mean1`` should pair with zero values in\n",
    "    # ``weight2``/``mean2``, which do not exist.\n",
    "    variance12 = weight1[:-1] * weight2[1:] * (mean1[:-1] - mean2[1:]) ** 2\n",
    "    idx = np.argmax(variance12)\n",
    "    threshold = bin_centers[:-1][idx]\n",
    "    return threshold"
   ]
  },
  {
   "cell_type": "markdown",
   "id": "2588e04a-545b-413d-9e87-fe8ba37580b2",
   "metadata": {
    "execution": {
     "iopub.execute_input": "2022-07-13T15:37:31.640170Z",
     "iopub.status.busy": "2022-07-13T15:37:31.639182Z",
     "iopub.status.idle": "2022-07-13T15:37:31.649736Z",
     "shell.execute_reply": "2022-07-13T15:37:31.648020Z",
     "shell.execute_reply.started": "2022-07-13T15:37:31.640070Z"
    },
    "papermill": {
     "duration": 0.010189,
     "end_time": "2022-07-29T07:27:59.070720",
     "exception": false,
     "start_time": "2022-07-29T07:27:59.060531",
     "status": "completed"
    },
    "tags": []
   },
   "source": [
    "# Calculate threshold"
   ]
  },
  {
   "cell_type": "code",
   "execution_count": 6,
   "id": "276e77f0-4439-45bc-99f9-51379aeaccb8",
   "metadata": {
    "execution": {
     "iopub.execute_input": "2022-07-29T07:27:59.096078Z",
     "iopub.status.busy": "2022-07-29T07:27:59.095708Z",
     "iopub.status.idle": "2022-07-29T07:28:34.699190Z",
     "shell.execute_reply": "2022-07-29T07:28:34.699489Z"
    },
    "jupyter": {
     "source_hidden": true
    },
    "papermill": {
     "duration": 35.618913,
     "end_time": "2022-07-29T07:28:34.699589",
     "exception": false,
     "start_time": "2022-07-29T07:27:59.080676",
     "status": "completed"
    },
    "tags": []
   },
   "outputs": [
    {
     "name": "stdout",
     "output_type": "stream",
     "text": [
      "CNA_mtscatac_2\n"
     ]
    },
    {
     "name": "stdout",
     "output_type": "stream",
     "text": [
      "\tthreshold: 0.07601759637605657\n",
      "\tnpairs_merged: 27\n"
     ]
    },
    {
     "data": {
      "image/png": "[encoded data removed]",
      "text/plain": [
       "<Figure size 432x288 with 1 Axes>"
      ]
     },
     "metadata": {
      "needs_background": "light"
     },
     "output_type": "display_data"
    }
   ],
   "source": [
    "threshold_min = 0.02\n",
    "\n",
    "print(sample)\n",
    "df = pd.read_csv(file, header=0, sep=\"\\t\")\n",
    "\n",
    "df = df.sort_values(by=\"jaccard\", ascending=False)[:1000000]\n",
    "df.reset_index(inplace=True, drop=True)\n",
    "\n",
    "threshold = threshold_otsu(df[\"jaccard\"])\n",
    "if threshold < 0.02:\n",
    "    threshold = threshold_min\n",
    "threshold_rank = sum(df[\"jaccard\"] > threshold)\n",
    "\n",
    "print(f\"\\tthreshold: {threshold}\")\n",
    "print(f\"\\tnpairs_merged: {threshold_rank}\")\n",
    "\n",
    "f, ax = plt.subplots(1, 1)\n",
    "sns.lineplot(data=df, x=range(len(df)), y=\"jaccard\", ax=ax)\n",
    "ax.axhline(y=threshold, xmin=0, xmax=10000000)\n",
    "ax.axvline(x=threshold_rank, ymin=0.0001, ymax=1)\n",
    "ax.set_xscale(\"log\")\n",
    "ax.set_yscale(\"log\")\n",
    "ax.set_title(sample)\n",
    "ax.set_title(\n",
    "    f\"{sample}, threshold {round(threshold, 3)}, {threshold_rank} pairs merged\"\n",
    ")\n",
    "plt.savefig(\n",
    "    f\"{sample}.barcard_kneeplot.png\",\n",
    "    dpi=300,\n",
    "    facecolor=\"white\",\n",
    ")\n",
    "plt.show()\n",
    "df.iloc[:threshold_rank].to_csv(\n",
    "    f\"{sample}.barcard.overlap.otsu_filtered.tsv\", sep=\"\\t\", index=False\n",
    ")"
   ]
  },
  {
   "cell_type": "markdown",
   "id": "78d9bdeb-b1c0-4347-bc27-fda80a0a63ec",
   "metadata": {
    "papermill": {
     "duration": 0.010984,
     "end_time": "2022-07-29T07:28:34.721813",
     "exception": false,
     "start_time": "2022-07-29T07:28:34.710829",
     "status": "completed"
    },
    "tags": []
   },
   "source": [
    "# VSN Pipelines: BAP multiplet pipeline report\n",
    "\n",
    "Additional analyses and plots from the output of BAP (https://github.com/caleblareau/bap)"
   ]
  },
  {
   "cell_type": "markdown",
   "id": "29ed889c-aadd-4bd2-a84e-c951dbf38b7f",
   "metadata": {
    "papermill": {
     "duration": 0.010926,
     "end_time": "2022-07-29T07:28:34.743842",
     "exception": false,
     "start_time": "2022-07-29T07:28:34.732916",
     "status": "completed"
    },
    "tags": []
   },
   "source": [
    "import pandas as pd\n",
    "import numpy as np\n",
    "import os\n",
    "from collections import Counter\n",
    "import itertools\n",
    "import json\n",
    "\n",
    "import matplotlib.pyplot as plt\n",
    "import seaborn as sns\n",
    "\n",
    "%matplotlib inline"
   ]
  },
  {
   "cell_type": "markdown",
   "id": "2d578766-04d6-47c2-808d-81752247d1d7",
   "metadata": {
    "papermill": {
     "duration": 0.010983,
     "end_time": "2022-07-29T07:28:34.765858",
     "exception": false,
     "start_time": "2022-07-29T07:28:34.754875",
     "status": "completed"
    },
    "tags": []
   },
   "source": [
    "params = json.loads(WORKFLOW_PARAMETERS)\n",
    "\n",
    "print(f\"SAMPLE: {SAMPLE}\")\n",
    "print(f\"BAP Parameters: {json.dumps(params, indent=4)}\")"
   ]
  },
  {
   "cell_type": "markdown",
   "id": "80c9f838-51e5-4d5c-8d73-7acfe4956949",
   "metadata": {
    "papermill": {
     "duration": 0.01065,
     "end_time": "2022-07-29T07:28:34.787499",
     "exception": false,
     "start_time": "2022-07-29T07:28:34.776849",
     "status": "completed"
    },
    "tags": []
   },
   "source": [
    "# read in data\n",
    "f_bap_qc = SAMPLE+'.implicatedBarcodes.csv.gz'\n",
    "f_bap_bct = SAMPLE+'.barcodeTranslate.tsv'\n",
    "f_bap_nc = SAMPLE+'.NCsumstats.tsv'\n",
    "\n",
    "bap_ib = pd.read_csv(f_bap_qc)\n",
    "bap_bct = pd.read_csv(f_bap_bct, sep='\\t', header=None, names=['barcode','bap_barcode'])\n",
    "bap_nc = pd.read_csv(f_bap_nc, sep='\\t')"
   ]
  },
  {
   "cell_type": "markdown",
   "id": "1d142706-698a-40cd-9dc1-aeac375940c4",
   "metadata": {
    "papermill": {
     "duration": 0.01052,
     "end_time": "2022-07-29T07:28:34.808705",
     "exception": false,
     "start_time": "2022-07-29T07:28:34.798185",
     "status": "completed"
    },
    "tags": []
   },
   "source": [
    "## Overlap index\n",
    "\n",
    "Plot the overlap scores, representing the pairwise similarity between each barcode."
   ]
  },
  {
   "cell_type": "markdown",
   "id": "e90f67ab-b4c4-46ef-b371-991e974ff41c",
   "metadata": {
    "papermill": {
     "duration": 0.01083,
     "end_time": "2022-07-29T07:28:34.830542",
     "exception": false,
     "start_time": "2022-07-29T07:28:34.819712",
     "status": "completed"
    },
    "tags": []
   },
   "source": [
    "# overlap index rank plot\n",
    "def plot_overlap_rankplot(dat, label, ax):\n",
    "    y = dat['jaccard_frag'].sort_values(ascending=False)\n",
    "    ix = dat['jaccard_frag'][ dat['merged']==True ].idxmin()\n",
    "    thr = dat.iloc[ix]['jaccard_frag']\n",
    "    thrx = sum(dat['merged']==True)\n",
    "    \n",
    "    ax.scatter(x=range(y.shape[0]),\n",
    "               y=y.values,\n",
    "               s=4,\n",
    "               edgecolors=None)\n",
    "    ax.set_xscale('log')\n",
    "    ax.set_yscale('log')\n",
    "    ax.set_ylabel('Jaccard index per barcode pair')\n",
    "    ax.set_xlabel('Barcode pair rank')\n",
    "    ax.axhline(thr, color='grey', linestyle='--')\n",
    "    ax.text(0.01, 0.01, f\" thr={round(thr,4)} ({thrx} barcode pairs)\", ha='left', va='bottom' , transform=ax.transAxes, fontsize='x-small')\n",
    "    ax.set_title(label)"
   ]
  },
  {
   "cell_type": "markdown",
   "id": "7bfcf60d-06cb-455c-86eb-d92f47a85680",
   "metadata": {
    "papermill": {
     "duration": 0.010935,
     "end_time": "2022-07-29T07:28:34.852347",
     "exception": false,
     "start_time": "2022-07-29T07:28:34.841412",
     "status": "completed"
    },
    "tags": []
   },
   "source": [
    "fig, ax = plt.subplots(1,1, figsize=(5,4), dpi=150 )\n",
    "\n",
    "plot_overlap_rankplot(bap_ib, label=SAMPLE, ax=ax)\n",
    "plt.tight_layout()"
   ]
  },
  {
   "cell_type": "markdown",
   "id": "b4f5a666-cc70-4394-9d77-2aaccbe36223",
   "metadata": {
    "papermill": {
     "duration": 0.010945,
     "end_time": "2022-07-29T07:28:34.874117",
     "exception": false,
     "start_time": "2022-07-29T07:28:34.863172",
     "status": "completed"
    },
    "tags": []
   },
   "source": [
    "## Calculate restricted longest common subsequence (rLCS)\n",
    "\n",
    "This approach follows the methods in:\n",
    "* Lareau, C. A., Ma, S., Duarte, F. M. & Buenrostro, J. D. Inference and effects of barcode multiplets in droplet-based single-cell assays. Nature Communications 11, 1–9 (2020). https://doi.org/10.1038/s41467-020-14667-5\n",
    "\n",
    "This is calculated by taking each set of barcodes identified as a multiplet, and calculating the overlap\n",
    "and identifies two groups of droplet multiplets:\n",
    "* **Physical multiplets** (multiple beads that are physically grouped together in a droplet)\n",
    "  * Contains uniform barcodes (less than cutoff threshold on rLCS)\n",
    "* **Complex beads** (assumed to be due to bead barcode synthesis errors)\n",
    "  * Contain heterogenous barcodes (greater than a cutoff threshold on rLCS)"
   ]
  },
  {
   "cell_type": "markdown",
   "id": "fb085a37-ae73-4a35-9c77-a732280e4802",
   "metadata": {
    "papermill": {
     "duration": 0.010992,
     "end_time": "2022-07-29T07:28:34.895988",
     "exception": false,
     "start_time": "2022-07-29T07:28:34.884996",
     "status": "completed"
    },
    "tags": []
   },
   "source": [
    "# calculate rLCS match score\n",
    "def barcode_rle(a, b):\n",
    "    assert len(a) == len(b)\n",
    "    match_cnt = 0\n",
    "    match_list = []\n",
    "    for i in range(len(a)):\n",
    "        \n",
    "        if(a[i] == b[i]):\n",
    "            match_cnt += 1\n",
    "        else:\n",
    "            match_list.append(match_cnt)\n",
    "            match_cnt = 0\n",
    "    match_list.append(match_cnt)\n",
    "    return max(match_list)"
   ]
  },
  {
   "cell_type": "markdown",
   "id": "199fde2a-0f11-4505-a560-da9afd310d44",
   "metadata": {
    "papermill": {
     "duration": 0.01082,
     "end_time": "2022-07-29T07:28:34.917748",
     "exception": false,
     "start_time": "2022-07-29T07:28:34.906928",
     "status": "completed"
    },
    "tags": []
   },
   "source": [
    "rLCS_thr = 6\n",
    "\n",
    "bap_bct['bap_N'] = [ x.split('_')[-1] for x in bap_bct['bap_barcode'] ]\n",
    "\n",
    "multiplets = pd.DataFrame(\n",
    "    bap_bct['bap_barcode'][bap_bct['bap_N']!='N01'].unique(), \n",
    "    columns=['bap_barcode'])\n",
    "multiplets['bap_N'] = [ x.split('_')[-1] for x in multiplets['bap_barcode'] ]\n",
    "\n",
    "bcs_scores = []\n",
    "for i,m in enumerate(multiplets['bap_barcode']):\n",
    "    bcs = bap_bct['barcode'][bap_bct['bap_barcode']==m]\n",
    "    bcs_comb = list(itertools.combinations(bcs, 2))\n",
    "    mean_scores = np.mean([ barcode_rle(x[0], x[1]) for x in bcs_comb ])\n",
    "    bcs_scores.append(mean_scores)\n",
    "multiplets['mean_rLCS'] = bcs_scores\n",
    "\n",
    "# classify multiplet similarity by threshold\n",
    "multiplets['multiplets_passing_rLCS_thr'] = multiplets['mean_rLCS']>=rLCS_thr\n",
    "multiplets.dropna(inplace=True)\n",
    "\n",
    "multiplets"
   ]
  },
  {
   "cell_type": "markdown",
   "id": "5ffe97b3-5671-40c1-9f47-f6de5e6cc99c",
   "metadata": {
    "papermill": {
     "duration": 0.010541,
     "end_time": "2022-07-29T07:28:34.939133",
     "exception": false,
     "start_time": "2022-07-29T07:28:34.928592",
     "status": "completed"
    },
    "tags": []
   },
   "source": [
    "# number of beads per droplet\n",
    "Counter(bap_bct['bap_N'])"
   ]
  },
  {
   "cell_type": "markdown",
   "id": "de15ff2a-cb77-4f8e-8298-1eac98e1105f",
   "metadata": {
    "papermill": {
     "duration": 0.010505,
     "end_time": "2022-07-29T07:28:34.960341",
     "exception": false,
     "start_time": "2022-07-29T07:28:34.949836",
     "status": "completed"
    },
    "tags": []
   },
   "source": [
    "n_singlets = np.sum(bap_bct['bap_N']=='N01')\n",
    "\n",
    "# multiplets with non barcode similarity (physical multiplets):\n",
    "n_physical = sum([ \n",
    "    int(x.replace('N','')) \n",
    "    for x in multiplets['bap_N'][multiplets['multiplets_passing_rLCS_thr']==False] \n",
    "])\n",
    "\n",
    "# multiplets with barcode similarity (complex multiplets):\n",
    "n_complex = sum(multiplets['multiplets_passing_rLCS_thr'])\n",
    "\n",
    "n_total = n_singlets + n_physical + n_complex\n",
    "\n",
    "# n_complex / n_total # rate of bead heterogeneity\n",
    "\n",
    "print(\n",
    "    f\"Number of singlets: {n_singlets}\\n\"\n",
    "    f\"Number of physical multiplets: {n_physical}\\n\"\n",
    "    f\"Number of complex multiplets: {n_complex}\\n\"\n",
    "    f\"Total: {n_total}\\n\"\n",
    "    f\"Rate of bead heterogeneity {round(n_complex/n_total,8)}\"\n",
    ")"
   ]
  },
  {
   "cell_type": "markdown",
   "id": "8863c510-04c4-4134-9717-ac670ce663b3",
   "metadata": {
    "papermill": {
     "duration": 0.010486,
     "end_time": "2022-07-29T07:28:34.981358",
     "exception": false,
     "start_time": "2022-07-29T07:28:34.970872",
     "status": "completed"
    },
    "tags": []
   },
   "source": [
    "fig, ax = plt.subplots(1,1, figsize=(5,4), dpi=150)\n",
    "\n",
    "sns.histplot(\n",
    "    multiplets['mean_rLCS'],\n",
    "    ax=ax,\n",
    "    discrete=True)\n",
    "ax.set_xlabel('Mean rLCS per multiplet')\n",
    "ax.set_ylabel('Count')\n",
    "ax.axvline(x=rLCS_thr-0.5, color='grey', linestyle='--')\n",
    "\n",
    "plt.tight_layout()"
   ]
  },
  {
   "cell_type": "markdown",
   "id": "212e4dae-a0c6-4b19-bcdd-152a88c1918e",
   "metadata": {
    "papermill": {
     "duration": 0.010621,
     "end_time": "2022-07-29T07:28:35.002523",
     "exception": false,
     "start_time": "2022-07-29T07:28:34.991902",
     "status": "completed"
    },
    "tags": []
   },
   "source": [
    "## Barcode multiplets"
   ]
  },
  {
   "cell_type": "markdown",
   "id": "94cb7c76-f5ee-4cc6-89b9-3aed851b59cc",
   "metadata": {
    "papermill": {
     "duration": 0.010601,
     "end_time": "2022-07-29T07:28:35.023973",
     "exception": false,
     "start_time": "2022-07-29T07:28:35.013372",
     "status": "completed"
    },
    "tags": []
   },
   "source": [
    "fig, (ax1,ax2) = plt.subplots(1,2, figsize=(10,4), dpi=150, sharex=True, sharey=True )\n",
    "\n",
    "sns.histplot(\n",
    "    multiplets['bap_N'][(multiplets['bap_N']!='N01') & (multiplets['multiplets_passing_rLCS_thr']==True)].sort_values(),\n",
    "    ax=ax1,\n",
    "    discrete=True)\n",
    "ax1.set_title(f\"Physical multiplets (non-barcode similarity; rLCS<{rLCS_thr})\")\n",
    "ax1.set_xlabel('# beads / droplet')\n",
    "ax1.set_ylabel('Count')\n",
    "\n",
    "sns.histplot(\n",
    "    multiplets['bap_N'][(multiplets['bap_N']!='N01') & (multiplets['multiplets_passing_rLCS_thr']==False)].sort_values(),\n",
    "    ax=ax2,\n",
    "    discrete=True)\n",
    "#ax1.set_title(SAMPLE)\n",
    "ax2.set_title(f\"Complex beads (barcode similarity; rLCS>={rLCS_thr})\")\n",
    "ax2.set_xlabel('# barcodes / droplet')\n",
    "ax2.set_ylabel('Count')\n",
    "\n",
    "plt.tight_layout()"
   ]
  },
  {
   "cell_type": "markdown",
   "id": "4a480494-d0f1-4cbb-a5f1-c6e88d926a7e",
   "metadata": {
    "papermill": {
     "duration": 0.010797,
     "end_time": "2022-07-29T07:28:35.045844",
     "exception": false,
     "start_time": "2022-07-29T07:28:35.035047",
     "status": "completed"
    },
    "tags": []
   },
   "source": [
    "## NC values\n",
    "\n",
    "Look at the number of occurrences of a particular read across the experiment."
   ]
  },
  {
   "cell_type": "markdown",
   "id": "9487d2ee-8c4b-4525-acd0-e6975970ebc2",
   "metadata": {
    "papermill": {
     "duration": 0.010814,
     "end_time": "2022-07-29T07:28:35.067680",
     "exception": false,
     "start_time": "2022-07-29T07:28:35.056866",
     "status": "completed"
    },
    "tags": []
   },
   "source": [
    "# plot NC values hist\n",
    "\n",
    "def plot_bap_NC(dat, label, ax):\n",
    "    p_ = sns.barplot(x='NC_value', y='NumberOfFragments', data=dat, ax=ax, color='grey')\n",
    "    #ax.set_xscale('log')\n",
    "    ax.set_yscale('log')\n",
    "    ax.set_xlabel('NC value')\n",
    "    ax.set_ylabel('Number of fragments')\n",
    "    ax.set_title(SAMPLE)\n",
    "    ax.set_xbound(lower=-1)\n",
    "    for ind, label in enumerate(p_.get_xticklabels()):\n",
    "        if ind % 20 == 0:  # every 20th label is kept\n",
    "            label.set_visible(True)\n",
    "        else:\n",
    "            label.set_visible(False)"
   ]
  },
  {
   "cell_type": "markdown",
   "id": "92c2b879-cf96-4251-ad86-de9b481469d5",
   "metadata": {
    "papermill": {
     "duration": 0.010646,
     "end_time": "2022-07-29T07:28:35.089091",
     "exception": false,
     "start_time": "2022-07-29T07:28:35.078445",
     "status": "completed"
    },
    "tags": []
   },
   "source": [
    "fig, ax = plt.subplots(1,1, figsize=(8,4), dpi=150 )\n",
    "\n",
    "plot_bap_NC(bap_nc, label=SAMPLE, ax=ax)\n",
    "plt.tight_layout()"
   ]
  },
  {
   "cell_type": "markdown",
   "id": "11577f8f-4e9e-4f5e-a8e7-a734a50cc8bf",
   "metadata": {
    "papermill": {
     "duration": 0.010792,
     "end_time": "2022-07-29T07:28:35.110551",
     "exception": false,
     "start_time": "2022-07-29T07:28:35.099759",
     "status": "completed"
    },
    "tags": []
   },
   "source": []
  }
 ],
 "metadata": {
  "kernelspec": {
   "display_name": "Python 3 (ipykernel)",
   "language": "python",
   "name": "python3"
  },
  "language_info": {
   "codemirror_mode": {
    "name": "ipython",
    "version": 3
   },
   "file_extension": ".py",
   "mimetype": "text/x-python",
   "name": "python",
   "nbconvert_exporter": "python",
   "pygments_lexer": "ipython3",
   "version": "3.8.3"
  },
  "papermill": {
   "default_parameters": {},
   "duration": 44.333912,
   "end_time": "2022-07-29T07:28:35.526507",
   "environment_variables": {},
   "exception": null,
   "input_path": "barcard_otsu_filtering.ipynb",
   "output_path": "CNA_mtscatac_2.barcard_otsu.ipynb",
   "parameters": {
    "BARCARD_OVERLAP_TSV": "CNA_mtscatac_2.barcard.overlap.tsv",
    "SAMPLE": "CNA_mtscatac_2"
   },
   "start_time": "2022-07-29T07:27:51.192595",
   "version": "2.3.3"
  }
 },
 "nbformat": 4,
 "nbformat_minor": 5
}
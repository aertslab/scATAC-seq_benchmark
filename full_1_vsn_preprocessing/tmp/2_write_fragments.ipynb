{
 "cells": [
  {
   "cell_type": "code",
   "execution_count": null,
   "id": "ac3be90d-5c87-46a0-9add-73375d2cb2d4",
   "metadata": {},
   "outputs": [],
   "source": [
    "img_path=../0_resources/vsn_cache/vibsinglecellnf-singlecelltoolkit-2022-07-07-0638c1d.img\n",
    "singularity exec --cleanenv -H $PWD -B /dodrio,/readonly/dodrio,/tmp $img_path bash"
   ]
  },
  {
   "cell_type": "code",
   "execution_count": null,
   "id": "8f29d0d0-9c30-48a3-9fd8-82e1b3835971",
   "metadata": {},
   "outputs": [],
   "source": [
    "for file in full_preprocessing_out/data/bam/*10xv11*.bam\n",
    "do\n",
    "    echo $file\n",
    "    sample=(`basename $file`)\n",
    "    sample=${sample%_____R1.bwa.out.possorted.bam}\n",
    "    # echo $sample\n",
    "    outfile=full_preprocessing_out/data/fragments/${sample}.fragments.raw.tsv.gz\n",
    "\n",
    "    if [ -f \"$outfile\" ]; then\n",
    "        echo \"$outfile exists, skipping\"\n",
    "    else \n",
    "        echo \"$outfile does not exist, generating!\"\n",
    "        create_fragments_file $file ${sample}_unused | coreutils sort --parallel=8 -S 16G -k 1,1V -k 2,2n -k 3,3n -k 4,4 | uniq -c | mawk -v 'OFS=\\t' '{ print $2, $3, $4, $5, $1 }' | bgzip -@ 4 -c /dev/stdin > $outfile &\n",
    "    fi\n",
    "done"
   ]
  },
  {
   "cell_type": "markdown",
   "id": "815709b5-afdc-4bf5-9753-582dde1c999e",
   "metadata": {},
   "source": [
    "Then, we run the barcard script:"
   ]
  },
  {
   "cell_type": "code",
   "execution_count": null,
   "id": "41f20e72-d2bd-469b-9f7b-507ce57954a3",
   "metadata": {},
   "outputs": [],
   "source": [
    "img_path=/dodrio/scratch/projects/starting_2022_023/benchmark/scatac_benchmark/0_resources/vsn_cache/vibsinglecellnf-singlecelltoolkit-2022-07-07-0638c1d.img\n",
    "singularity exec --cleanenv -H $PWD -B /dodrio,/readonly/dodrio,/tmp $img_path bash"
   ]
  },
  {
   "cell_type": "code",
   "execution_count": null,
   "id": "ed7e9b6f-76a4-4d3b-bd42-c1af4ac4350c",
   "metadata": {
    "tags": []
   },
   "outputs": [
    {
     "name": "stdout",
     "output_type": "stream",
     "text": [
      "rm: cannot remove 'write_fragments.parallel': No such file or directory\n",
      "full_preprocessing_out/data/fragments/BIO_ddseq_2.fragments.raw.tsv.gz\n",
      "BIO_ddseq_2\n",
      "full_preprocessing_out/data/reports/barcard/BIO_ddseq_2.barcard.tsv exists, skipping\n",
      "full_preprocessing_out/data/fragments/BIO_ddseq_3.fragments.raw.tsv.gz\n",
      "BIO_ddseq_3\n",
      "full_preprocessing_out/data/reports/barcard/BIO_ddseq_3.barcard.tsv exists, skipping\n",
      "full_preprocessing_out/data/fragments/BIO_ddseq_4.fragments.raw.tsv.gz\n",
      "BIO_ddseq_4\n",
      "full_preprocessing_out/data/reports/barcard/BIO_ddseq_4.barcard.tsv exists, skipping\n",
      "full_preprocessing_out/data/fragments/BRO_mtscatac_1.fragments.raw.tsv.gz\n",
      "BRO_mtscatac_1\n",
      "full_preprocessing_out/data/reports/barcard/BRO_mtscatac_1.barcard.tsv does not exist, generating\n",
      "Reading fragments file \"full_preprocessing_out/data/fragments/BRO_mtscatac_1.fragments.raw.tsv.gz\" ...\n",
      "Calculate Jaccard index for CB pairs based on their common fragments ...\n"
     ]
    }
   ],
   "source": [
    "export POLARS_MAX_THREADS=8\n",
    "export OMP_NUM_THREADS=8\n",
    "\n",
    "subset=UCS\n",
    "chromosome_regex='^(chr)?([0-9]+|[XY])$'\n",
    "script=/dodrio/scratch/projects/starting_2022_023/benchmark/scatac_benchmark/0_resources/scripts_ghuls/calculate_jaccard_index_cbs.py\n",
    "for file in full_preprocessing_out/data/fragments/*$subset*fragments.raw.tsv.gz\n",
    "do\n",
    "    echo $file\n",
    "    sample=(`basename $file`)\n",
    "    sample=${sample%.fragments.raw.tsv.gz}\n",
    "    echo $sample\n",
    "    outfile=full_preprocessing_out/data/reports/barcard/$sample.barcard.overlap.tsv\n",
    "    if [ -f \"$outfile\" ]; then\n",
    "        echo \"$outfile exists, skipping\"\n",
    "    else \n",
    "        echo \"$outfile does not exist, generating\"\n",
    "        $script -i $file -o $outfile -t 1000 -c $chromosome_regex &\n",
    "    fi\n",
    "done"
   ]
  }
 ],
 "metadata": {
  "kernelspec": {
   "display_name": "Bash",
   "language": "bash",
   "name": "bash"
  },
  "language_info": {
   "codemirror_mode": "shell",
   "file_extension": ".sh",
   "mimetype": "text/x-sh",
   "name": "bash"
  }
 },
 "nbformat": 4,
 "nbformat_minor": 5
}

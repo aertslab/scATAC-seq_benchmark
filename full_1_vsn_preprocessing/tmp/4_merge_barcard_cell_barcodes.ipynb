{
 "cells": [
  {
   "cell_type": "code",
   "execution_count": null,
   "id": "ac3be90d-5c87-46a0-9add-73375d2cb2d4",
   "metadata": {},
   "outputs": [],
   "source": [
    "img_path=/dodrio/scratch/projects/starting_2022_023/benchmark/scatac_benchmark/2_vsn_preprocessing/cache/vibsinglecellnf-singlecelltoolkit-2022-07-07-0638c1d.img\n",
    "singularity exec --cleanenv -H $PWD -B /dodrio,/readonly/dodrio,/tmp $img_path bash"
   ]
  },
  {
   "cell_type": "code",
   "execution_count": null,
   "id": "8f29d0d0-9c30-48a3-9fd8-82e1b3835971",
   "metadata": {},
   "outputs": [],
   "source": [
    "export POLARS_MAX_THREADS=8\n",
    "export OMP_NUM_THREADS=8\n",
    "\n",
    "for file in ../full_preprocessing_out/data/bam/*.bam\n",
    "do\n",
    "    echo $file\n",
    "    sample=(`basename $file`)\n",
    "    sample=${sample%_____R1.bwa.out.possorted.bam}\n",
    "    # echo $sample\n",
    "    jaccardfile=full_preprocessing_out/data/reports/barcard/$sample.tomerge.tsv\n",
    "    infile=full_preprocessing_out/data/fragments/$sample.fragments.raw.tsv.gz\n",
    "    outfile=full_preprocessing_out/data/fragments/$sample.fragments.tsv.gz\n",
    "\n",
    "    if [ -f \"$outfile\" ]; then\n",
    "        echo \"$outfile exists, skipping\"\n",
    "    else \n",
    "        echo \"$outfile does not exist, generating!\"\n",
    "        merge_cbs_over_jaccard_index_threshold.py -j $jaccardfile -i $infile -o $outfile\n",
    "    fi\n",
    "done"
   ]
  },
  {
   "cell_type": "code",
   "execution_count": 1,
   "id": "ba84aaf9-032e-411d-957b-a27df7494ea9",
   "metadata": {},
   "outputs": [
    {
     "name": "stdout",
     "output_type": "stream",
     "text": [
      "bash: merge_cbs_over_jaccard_index_threshold.py: command not found\n"
     ]
    },
    {
     "ename": "",
     "evalue": "127",
     "output_type": "error",
     "traceback": []
    }
   ],
   "source": [
    "merge_cbs_over_jaccard_index_threshold.py"
   ]
  },
  {
   "cell_type": "code",
   "execution_count": 5,
   "id": "23d58377-7ee8-4f18-b195-0d7ca7c9662c",
   "metadata": {},
   "outputs": [
    {
     "name": "stdout",
     "output_type": "stream",
     "text": [
      "full_preprocessing_out/data/fragments/BIO_ddseq_2.fragments.tsv\n",
      "full_preprocessing_out/data/fragments/BIO_ddseq_3.fragments.tsv\n",
      "full_preprocessing_out/data/fragments/BIO_ddseq_4.fragments.tsv\n",
      "full_preprocessing_out/data/fragments/BRO_mtscatac_1.fragments.tsv\n",
      "full_preprocessing_out/data/fragments/BRO_mtscatac_2.fragments.tsv\n",
      "full_preprocessing_out/data/fragments/CNA_10xmultiome_1.fragments.tsv\n",
      "full_preprocessing_out/data/fragments/CNA_10xmultiome_2.fragments.tsv\n",
      "full_preprocessing_out/data/fragments/CNA_10xv11_1.fragments.tsv\n",
      "full_preprocessing_out/data/fragments/CNA_10xv11_2.fragments.tsv\n",
      "full_preprocessing_out/data/fragments/CNA_10xv11_3.fragments.tsv\n",
      "full_preprocessing_out/data/fragments/CNA_10xv11_4.fragments.tsv\n",
      "full_preprocessing_out/data/fragments/CNA_10xv11_5.fragments.tsv\n",
      "full_preprocessing_out/data/fragments/CNA_10xv2_1.fragments.tsv\n",
      "full_preprocessing_out/data/fragments/CNA_10xv2_2.fragments.tsv\n",
      "full_preprocessing_out/data/fragments/CNA_ddseq_1.fragments.tsv\n",
      "full_preprocessing_out/data/fragments/CNA_ddseq_2.fragments.tsv\n",
      "full_preprocessing_out/data/fragments/CNA_hydrop_41.fragments.tsv\n",
      "full_preprocessing_out/data/fragments/CNA_hydrop_42.fragments.tsv\n",
      "full_preprocessing_out/data/fragments/CNA_hydrop_51.fragments.tsv\n",
      "full_preprocessing_out/data/fragments/CNA_hydrop_52.fragments.tsv\n",
      "full_preprocessing_out/data/fragments/CNA_hydrop_61.fragments.tsv\n",
      "full_preprocessing_out/data/fragments/CNA_hydrop_62.fragments.tsv\n",
      "full_preprocessing_out/data/fragments/CNA_mtscatac_1.fragments.tsv\n",
      "full_preprocessing_out/data/fragments/CNA_mtscatac_2.fragments.tsv\n",
      "full_preprocessing_out/data/fragments/EPF_hydrop_21.fragments.tsv\n",
      "full_preprocessing_out/data/fragments/EPF_hydrop_22.fragments.tsv\n",
      "full_preprocessing_out/data/fragments/EPF_hydrop_23.fragments.tsv\n",
      "full_preprocessing_out/data/fragments/EPF_hydrop_24.fragments.tsv\n",
      "full_preprocessing_out/data/fragments/EPF_hydrop_31.fragments.tsv\n",
      "full_preprocessing_out/data/fragments/EPF_hydrop_32.fragments.tsv\n",
      "full_preprocessing_out/data/fragments/EPF_hydrop_33.fragments.tsv\n",
      "full_preprocessing_out/data/fragments/EPF_hydrop_34.fragments.tsv\n",
      "full_preprocessing_out/data/fragments/HAR_ddseq_1.fragments.tsv\n",
      "full_preprocessing_out/data/fragments/HAR_ddseq_2.fragments.tsv\n",
      "full_preprocessing_out/data/fragments/MDC_mtscatac_2.fragments.tsv\n",
      "full_preprocessing_out/data/fragments/SAN_10xmultiome_1.fragments.tsv\n",
      "full_preprocessing_out/data/fragments/SAN_10xmultiome_2.fragments.tsv\n",
      "full_preprocessing_out/data/fragments/STA_10xv11_1.fragments.tsv\n",
      "full_preprocessing_out/data/fragments/STA_10xv11_2.fragments.tsv\n",
      "full_preprocessing_out/data/fragments/TXG_10xv11_1.fragments.tsv\n",
      "full_preprocessing_out/data/fragments/TXG_10xv2_1.fragments.tsv\n",
      "full_preprocessing_out/data/fragments/TXG_10xv2_2.fragments.tsv\n",
      "full_preprocessing_out/data/fragments/VIB_10xmultiome_1.fragments.tsv\n",
      "full_preprocessing_out/data/fragments/VIB_10xmultiome_2.fragments.tsv\n",
      "full_preprocessing_out/data/fragments/VIB_10xv11_1.fragments.tsv\n",
      "full_preprocessing_out/data/fragments/VIB_10xv11_2.fragments.tsv\n",
      "full_preprocessing_out/data/fragments/VIB_10xv1_1.fragments.tsv\n",
      "full_preprocessing_out/data/fragments/VIB_10xv1_2.fragments.tsv\n",
      "full_preprocessing_out/data/fragments/VIB_10xv2_1.fragments.tsv\n",
      "full_preprocessing_out/data/fragments/VIB_10xv2_2.fragments.tsv\n",
      "full_preprocessing_out/data/fragments/VIB_hydrop_11.fragments.tsv\n",
      "full_preprocessing_out/data/fragments/VIB_hydrop_12.fragments.tsv\n",
      "full_preprocessing_out/data/fragments/VIB_hydrop_21.fragments.tsv\n",
      "full_preprocessing_out/data/fragments/VIB_hydrop_22.fragments.tsv\n",
      "full_preprocessing_out/data/fragments/VIB_mtscatac_1.fragments.tsv\n",
      "full_preprocessing_out/data/fragments/VIB_mtscatac_2.fragments.tsv\n"
     ]
    }
   ],
   "source": [
    "for file in full_preprocessing_out/data/fragments/*.fragments.tsv\n",
    "do\n",
    "    echo $file\n",
    "    bgzip -@ 8 $file\n",
    "done"
   ]
  },
  {
   "cell_type": "code",
   "execution_count": null,
   "id": "f506dc3d-7c82-4d2f-8c3d-8342cc0490e6",
   "metadata": {},
   "outputs": [],
   "source": []
  }
 ],
 "metadata": {
  "kernelspec": {
   "display_name": "Bash",
   "language": "bash",
   "name": "bash"
  },
  "language_info": {
   "codemirror_mode": "shell",
   "file_extension": ".sh",
   "mimetype": "text/x-sh",
   "name": "bash"
  }
 },
 "nbformat": 4,
 "nbformat_minor": 5
}

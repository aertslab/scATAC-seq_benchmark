{
 "cells": [
  {
   "cell_type": "markdown",
   "id": "42424012-6332-4d0f-bbaa-8e6c1db185ed",
   "metadata": {},
   "source": [
    "# Merge all fragments files into one mega fragments file"
   ]
  },
  {
   "cell_type": "code",
   "execution_count": 5,
   "id": "043796c2",
   "metadata": {
    "execution": {
     "iopub.execute_input": "2023-01-30T12:35:01.193043Z",
     "iopub.status.busy": "2023-01-30T12:35:01.192412Z",
     "iopub.status.idle": "2023-01-30T12:35:02.251919Z",
     "shell.execute_reply": "2023-01-30T12:35:02.250526Z",
     "shell.execute_reply.started": "2023-01-30T12:35:01.192996Z"
    },
    "tags": []
   },
   "outputs": [
    {
     "name": "stdout",
     "output_type": "stream",
     "text": [
      "BIO_ddseq_1\n",
      "[1] 1302900\n",
      "BIO_ddseq_2\n",
      "[2] 1302904\n",
      "BIO_ddseq_3\n",
      "[3] 1302908\n",
      "BIO_ddseq_4\n",
      "[4] 1302912\n",
      "BRO_mtscatac_1\n",
      "[5] 1302916\n",
      "BRO_mtscatac_2\n",
      "[6] 1302920\n",
      "CNA_10xmultiome_1\n",
      "[7] 1302924\n",
      "CNA_10xmultiome_2\n",
      "[8] 1302928\n",
      "CNA_10xv11_1\n",
      "[9] 1302932\n",
      "CNA_10xv11_2\n",
      "[10] 1302936\n",
      "CNA_10xv11_3\n",
      "[11] 1302940\n",
      "CNA_10xv11_4\n",
      "[12] 1302944\n",
      "CNA_10xv11_5\n",
      "[13] 1302948\n",
      "CNA_10xv2_1\n",
      "[14] 1302952\n",
      "CNA_10xv2_2\n",
      "[15] 1302956\n",
      "CNA_ddseq_1\n",
      "[16] 1302960\n",
      "CNA_ddseq_2\n",
      "[17] 1302964\n",
      "CNA_hydrop_1\n",
      "[18] 1302968\n",
      "CNA_hydrop_2\n",
      "[19] 1302972\n",
      "CNA_hydrop_3\n",
      "[20] 1302976\n",
      "CNA_mtscatac_1\n",
      "[21] 1302980\n",
      "CNA_mtscatac_2\n",
      "[22] 1302984\n",
      "EPF_hydrop_1\n",
      "[23] 1302988\n",
      "EPF_hydrop_2\n",
      "[24] 1302992\n",
      "EPF_hydrop_3\n",
      "[25] 1302996\n",
      "EPF_hydrop_4\n",
      "[26] 1303000\n",
      "HAR_ddseq_1\n",
      "[27] 1303004\n",
      "HAR_ddseq_2\n",
      "[28] 1303008\n",
      "MDC_mtscatac_1\n",
      "[29] 1303012\n",
      "MDC_mtscatac_2\n",
      "[30] 1303016\n",
      "OHS_s3atac_1\n",
      "[31] 1303020\n",
      "OHS_s3atac_2\n",
      "[32] 1303024\n",
      "SAN_10xmultiome_1\n",
      "[33] 1303028\n",
      "SAN_10xmultiome_2\n",
      "[34] 1303032\n",
      "STA_10xv11_1\n",
      "[35] 1303036\n",
      "STA_10xv11_2\n",
      "[36] 1303040\n",
      "TXG_10xv11_1\n",
      "[37] 1303044\n",
      "TXG_10xv2_1\n",
      "[38] 1303048\n",
      "TXG_10xv2_2\n",
      "[39] 1303052\n",
      "UCS_ddseq_1\n",
      "[40] 1303056\n",
      "UCS_ddseq_2\n",
      "[41] 1303060\n",
      "VIB_10xmultiome_1\n",
      "[42] 1303064\n",
      "VIB_10xmultiome_2\n",
      "[43] 1303068\n",
      "VIB_10xv1_1\n",
      "[44] 1303072\n",
      "VIB_10xv1_2\n",
      "[45] 1303076\n",
      "VIB_10xv2_1\n",
      "[46] 1303080\n",
      "VIB_10xv2_2\n",
      "[47] 1303084\n",
      "VIB_hydrop_1\n",
      "[48] 1303088\n",
      "VIB_hydrop_11\n",
      "[49] 1303092\n",
      "VIB_hydrop_12\n",
      "[50] 1303096\n",
      "VIB_hydrop_2\n",
      "[51] 1303100\n",
      "VIB_hydrop_21\n",
      "[52] 1303104\n",
      "VIB_hydrop_22\n",
      "[53] 1303108\n"
     ]
    }
   ],
   "source": [
    "module load mawk\n",
    "\n",
    "for FRAG_PATH in /lustre1/project/stg_00090/scatac_benchmark/1_data_repository/full_fragments/*.FULL.fragments.tsv.gz\n",
    "do\n",
    "    SAMPLE=(`basename $FRAG_PATH`)\n",
    "    SAMPLE=(${SAMPLE//./ })\n",
    "    SAMPLE=${SAMPLE[0]}\n",
    "    echo $SAMPLE\n",
    "    zcat $FRAG_PATH | mawk -v sample=$SAMPLE -v 'OFS=\\t' '{ print $1, $2, $3, $4 \"__\" sample, $5}' | bgzip -@ 2 > merged_fragments/$SAMPLE.fragments.ID.tsv.gz &\n",
    "done"
   ]
  },
  {
   "cell_type": "code",
   "execution_count": null,
   "id": "d1096eb3",
   "metadata": {
    "execution": {
     "iopub.execute_input": "2023-01-30T12:35:14.314915Z",
     "iopub.status.busy": "2023-01-30T12:35:14.314286Z"
    },
    "tags": []
   },
   "outputs": [],
   "source": [
    "cat merged_fragments/*.fragments.ID.tsv.gz > merged_all_1.fragments.ID.tsv.gz"
   ]
  },
  {
   "cell_type": "code",
   "execution_count": null,
   "id": "50727e96",
   "metadata": {
    "execution": {
     "iopub.status.busy": "2023-01-30T12:33:52.860643Z",
     "iopub.status.idle": "2023-01-30T12:33:52.861570Z",
     "shell.execute_reply": "2023-01-30T12:33:52.861133Z"
    },
    "tags": []
   },
   "outputs": [],
   "source": [
    "module load ISA-L\n",
    "\n",
    "LC_ALL=C\n",
    "igzip -T 16 -cd merged_all_1.fragments.ID.tsv.gz | sort --parallel=36 -S 8G -k 1,1 -k 2,2n -k 3,3n | bgzip -@ 36 > merged_all_1.fragments.ID.sorted.tsv.gz"
   ]
  },
  {
   "cell_type": "markdown",
   "id": "c23c1857-22fe-4a91-aaa5-fa43b1ac8db3",
   "metadata": {},
   "source": [
    "# faster merge:"
   ]
  },
  {
   "cell_type": "code",
   "execution_count": null,
   "id": "3ee976dd-700c-4f0a-a344-6da3ece08444",
   "metadata": {},
   "outputs": [],
   "source": [
    "echo $(echo merged_fragments/*.fragments.ID.tsv.gz | tr ' ' '\\n' | awk '{ printf \"<(igzip -c -d \" $1 \") \" }')"
   ]
  },
  {
   "cell_type": "code",
   "execution_count": null,
   "id": "4710959b-4233-42ec-abc0-2bbeff26aac2",
   "metadata": {},
   "outputs": [],
   "source": [
    "coreutils sort -T tmp --parallel 8 -S 8G -k 1,1 -k 2,2n -k 3,3n --merge -- <(igzip -c -d merged_fragments/BIO_ddseq_1.fragments.ID.tsv.gz) <(igzip -c -d merged_fragments/BIO_ddseq_2.fragments.ID.tsv.gz) <(igzip -c -d merged_fragments/BIO_ddseq_3.fragments.ID.tsv.gz) <(igzip -c -d merged_fragments/BIO_ddseq_4.fragments.ID.tsv.gz) <(igzip -c -d merged_fragments/BRO_mtscatac_1.fragments.ID.tsv.gz) <(igzip -c -d merged_fragments/BRO_mtscatac_2.fragments.ID.tsv.gz) <(igzip -c -d merged_fragments/CNA_10xmultiome_1.fragments.ID.tsv.gz) <(igzip -c -d merged_fragments/CNA_10xmultiome_2.fragments.ID.tsv.gz) <(igzip -c -d merged_fragments/CNA_10xv11_1.fragments.ID.tsv.gz) <(igzip -c -d merged_fragments/CNA_10xv11_2.fragments.ID.tsv.gz) <(igzip -c -d merged_fragments/CNA_10xv11_3.fragments.ID.tsv.gz) <(igzip -c -d merged_fragments/CNA_10xv11_4.fragments.ID.tsv.gz) <(igzip -c -d merged_fragments/CNA_10xv11_5.fragments.ID.tsv.gz) <(igzip -c -d merged_fragments/CNA_10xv2_1.fragments.ID.tsv.gz) <(igzip -c -d merged_fragments/CNA_10xv2_2.fragments.ID.tsv.gz) <(igzip -c -d merged_fragments/CNA_ddseq_1.fragments.ID.tsv.gz) <(igzip -c -d merged_fragments/CNA_ddseq_2.fragments.ID.tsv.gz) <(igzip -c -d merged_fragments/CNA_hydrop_1.fragments.ID.tsv.gz) <(igzip -c -d merged_fragments/CNA_hydrop_2.fragments.ID.tsv.gz) <(igzip -c -d merged_fragments/CNA_hydrop_3.fragments.ID.tsv.gz) <(igzip -c -d merged_fragments/CNA_mtscatac_1.fragments.ID.tsv.gz) <(igzip -c -d merged_fragments/CNA_mtscatac_2.fragments.ID.tsv.gz) <(igzip -c -d merged_fragments/EPF_hydrop_1.fragments.ID.tsv.gz) <(igzip -c -d merged_fragments/EPF_hydrop_2.fragments.ID.tsv.gz) <(igzip -c -d merged_fragments/EPF_hydrop_3.fragments.ID.tsv.gz) <(igzip -c -d merged_fragments/EPF_hydrop_4.fragments.ID.tsv.gz) <(igzip -c -d merged_fragments/HAR_ddseq_1.fragments.ID.tsv.gz) <(igzip -c -d merged_fragments/HAR_ddseq_2.fragments.ID.tsv.gz) <(igzip -c -d merged_fragments/MDC_mtscatac_1.fragments.ID.tsv.gz) <(igzip -c -d merged_fragments/MDC_mtscatac_2.fragments.ID.tsv.gz) <(igzip -c -d merged_fragments/OHS_s3atac_1.fragments.ID.tsv.gz) <(igzip -c -d merged_fragments/OHS_s3atac_2.fragments.ID.tsv.gz) <(igzip -c -d merged_fragments/SAN_10xmultiome_1.fragments.ID.tsv.gz) <(igzip -c -d merged_fragments/SAN_10xmultiome_2.fragments.ID.tsv.gz) <(igzip -c -d merged_fragments/STA_10xv11_1.fragments.ID.tsv.gz) <(igzip -c -d merged_fragments/STA_10xv11_2.fragments.ID.tsv.gz) <(igzip -c -d merged_fragments/TXG_10xv11_1.fragments.ID.tsv.gz) <(igzip -c -d merged_fragments/TXG_10xv2_1.fragments.ID.tsv.gz) <(igzip -c -d merged_fragments/TXG_10xv2_2.fragments.ID.tsv.gz) <(igzip -c -d merged_fragments/UCS_ddseq_1.fragments.ID.tsv.gz) <(igzip -c -d merged_fragments/UCS_ddseq_2.fragments.ID.tsv.gz) <(igzip -c -d merged_fragments/VIB_10xmultiome_1.fragments.ID.tsv.gz) <(igzip -c -d merged_fragments/VIB_10xmultiome_2.fragments.ID.tsv.gz) <(igzip -c -d merged_fragments/VIB_10xv1_1.fragments.ID.tsv.gz) <(igzip -c -d merged_fragments/VIB_10xv1_2.fragments.ID.tsv.gz) <(igzip -c -d merged_fragments/VIB_10xv2_1.fragments.ID.tsv.gz) <(igzip -c -d merged_fragments/VIB_10xv2_2.fragments.ID.tsv.gz) <(igzip -c -d merged_fragments/VIB_hydrop_1.fragments.ID.tsv.gz) <(igzip -c -d merged_fragments/VIB_hydrop_11.fragments.ID.tsv.gz) <(igzip -c -d merged_fragments/VIB_hydrop_12.fragments.ID.tsv.gz) <(igzip -c -d merged_fragments/VIB_hydrop_2.fragments.ID.tsv.gz) <(igzip -c -d merged_fragments/VIB_hydrop_21.fragments.ID.tsv.gz) <(igzip -c -d merged_fragments/VIB_hydrop_22.fragments.ID.tsv.gz)  | bgzip -@ 8 > merged_all_2.fragments.ID.sorted.tsv.gz"
   ]
  },
  {
   "cell_type": "code",
   "execution_count": null,
   "id": "e97255f8-0e57-46d3-9fc2-6c34dea8a33f",
   "metadata": {},
   "outputs": [],
   "source": [
    "crabz -p 12 -d -f bgzf merged_all_2.fragments.ID.sorted.tsv.gz | wc -l"
   ]
  }
 ],
 "metadata": {
  "kernelspec": {
   "display_name": "Bash",
   "language": "bash",
   "name": "bash"
  },
  "language_info": {
   "codemirror_mode": "shell",
   "file_extension": ".sh",
   "mimetype": "text/x-sh",
   "name": "bash"
  }
 },
 "nbformat": 4,
 "nbformat_minor": 5
}

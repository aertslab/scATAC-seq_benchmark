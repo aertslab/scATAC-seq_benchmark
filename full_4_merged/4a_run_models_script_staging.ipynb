{
 "cells": [
  {
   "cell_type": "markdown",
   "id": "1a5746f1",
   "metadata": {
    "papermill": {
     "duration": 0.018858,
     "end_time": "2022-08-20T22:37:21.062275",
     "exception": false,
     "start_time": "2022-08-20T22:37:21.043417",
     "status": "completed"
    },
    "tags": []
   },
   "source": [
    "# pycisTopic analysis\n",
    "\n",
    "Full dataset, using SCREEN regions."
   ]
  },
  {
   "cell_type": "code",
   "execution_count": 40,
   "id": "bea7c962",
   "metadata": {
    "execution": {
     "iopub.execute_input": "2023-02-16T09:25:12.577390Z",
     "iopub.status.busy": "2023-02-16T09:25:12.576676Z",
     "iopub.status.idle": "2023-02-16T09:25:12.588989Z",
     "shell.execute_reply": "2023-02-16T09:25:12.587618Z",
     "shell.execute_reply.started": "2023-02-16T09:25:12.577316Z"
    },
    "papermill": {
     "duration": 0.038814,
     "end_time": "2022-08-20T22:37:21.118471",
     "exception": false,
     "start_time": "2022-08-20T22:37:21.079657",
     "status": "completed"
    },
    "tags": []
   },
   "outputs": [
    {
     "data": {
      "text/plain": [
       "'1.0.2.dev0+g6236cef.d20220816'"
      ]
     },
     "execution_count": 40,
     "metadata": {},
     "output_type": "execute_result"
    }
   ],
   "source": [
    "import pycisTopic\n",
    "pycisTopic.__version__"
   ]
  },
  {
   "cell_type": "code",
   "execution_count": 41,
   "id": "f6804b04",
   "metadata": {
    "execution": {
     "iopub.execute_input": "2023-02-16T09:25:12.785385Z",
     "iopub.status.busy": "2023-02-16T09:25:12.784574Z",
     "iopub.status.idle": "2023-02-16T09:25:12.792632Z",
     "shell.execute_reply": "2023-02-16T09:25:12.791213Z",
     "shell.execute_reply.started": "2023-02-16T09:25:12.785326Z"
    },
    "papermill": {
     "duration": 0.016775,
     "end_time": "2022-08-20T22:37:21.146588",
     "exception": false,
     "start_time": "2022-08-20T22:37:21.129813",
     "status": "completed"
    },
    "tags": []
   },
   "outputs": [],
   "source": [
    "import warnings\n",
    "warnings.filterwarnings('ignore')\n",
    "warnings.simplefilter('ignore')"
   ]
  },
  {
   "cell_type": "code",
   "execution_count": 42,
   "id": "1e4562f6",
   "metadata": {
    "execution": {
     "iopub.execute_input": "2023-02-16T09:25:13.233600Z",
     "iopub.status.busy": "2023-02-16T09:25:13.232787Z",
     "iopub.status.idle": "2023-02-16T09:25:13.240173Z",
     "shell.execute_reply": "2023-02-16T09:25:13.238785Z",
     "shell.execute_reply.started": "2023-02-16T09:25:13.233540Z"
    },
    "papermill": {
     "duration": 1.451765,
     "end_time": "2022-08-20T22:37:22.608690",
     "exception": false,
     "start_time": "2022-08-20T22:37:21.156925",
     "status": "completed"
    },
    "tags": []
   },
   "outputs": [],
   "source": [
    "import pickle\n",
    "import pandas as pd"
   ]
  },
  {
   "cell_type": "code",
   "execution_count": 43,
   "id": "69b93ea8",
   "metadata": {
    "execution": {
     "iopub.execute_input": "2023-02-16T09:25:13.342772Z",
     "iopub.status.busy": "2023-02-16T09:25:13.341987Z",
     "iopub.status.idle": "2023-02-16T09:25:13.349656Z",
     "shell.execute_reply": "2023-02-16T09:25:13.348265Z",
     "shell.execute_reply.started": "2023-02-16T09:25:13.342714Z"
    },
    "papermill": {
     "duration": 0.019766,
     "end_time": "2022-08-20T22:37:22.644014",
     "exception": false,
     "start_time": "2022-08-20T22:37:22.624248",
     "status": "completed"
    },
    "tags": []
   },
   "outputs": [],
   "source": [
    "import glob\n",
    "from collections import OrderedDict\n",
    "import numpy as np"
   ]
  },
  {
   "cell_type": "code",
   "execution_count": 44,
   "id": "c5c466d3",
   "metadata": {
    "execution": {
     "iopub.execute_input": "2023-02-16T09:25:13.855309Z",
     "iopub.status.busy": "2023-02-16T09:25:13.854459Z",
     "iopub.status.idle": "2023-02-16T09:25:14.022754Z",
     "shell.execute_reply": "2023-02-16T09:25:14.019494Z",
     "shell.execute_reply.started": "2023-02-16T09:25:13.855250Z"
    },
    "papermill": {
     "duration": 0.225017,
     "end_time": "2022-08-20T22:37:22.878396",
     "exception": false,
     "start_time": "2022-08-20T22:37:22.653379",
     "status": "completed"
    },
    "tags": []
   },
   "outputs": [
    {
     "name": "stdout",
     "output_type": "stream",
     "text": [
      "/lustre1/project/stg_00090/scatac_benchmark/full_4_merged\n"
     ]
    }
   ],
   "source": [
    "!pwd"
   ]
  },
  {
   "cell_type": "code",
   "execution_count": 45,
   "id": "27ccd56e",
   "metadata": {
    "execution": {
     "iopub.execute_input": "2023-02-16T09:25:14.030343Z",
     "iopub.status.busy": "2023-02-16T09:25:14.029117Z",
     "iopub.status.idle": "2023-02-16T09:25:14.040689Z",
     "shell.execute_reply": "2023-02-16T09:25:14.039475Z",
     "shell.execute_reply.started": "2023-02-16T09:25:14.030262Z"
    },
    "papermill": {
     "duration": 0.022023,
     "end_time": "2022-08-20T22:37:22.915276",
     "exception": false,
     "start_time": "2022-08-20T22:37:22.893253",
     "status": "completed"
    },
    "tags": []
   },
   "outputs": [],
   "source": [
    "import os\n",
    "wdir = '/lustre1/project/stg_00090/scatac_benchmark/full_4_merged'\n",
    "os.chdir( wdir )"
   ]
  },
  {
   "cell_type": "code",
   "execution_count": 46,
   "id": "c83c5974",
   "metadata": {
    "execution": {
     "iopub.execute_input": "2023-02-16T09:25:14.043262Z",
     "iopub.status.busy": "2023-02-16T09:25:14.042377Z",
     "iopub.status.idle": "2023-02-16T09:25:14.052629Z",
     "shell.execute_reply": "2023-02-16T09:25:14.051412Z",
     "shell.execute_reply.started": "2023-02-16T09:25:14.043222Z"
    },
    "tags": []
   },
   "outputs": [
    {
     "name": "stdout",
     "output_type": "stream",
     "text": [
      "['31', '32', '33', '34', '35', '36', '37', '38', '39', '40', '41', '42', '43', '44', '45', '46', '47', '48', '49', '50', '51', '52', '53', '54', '55', '56', '57', '58', '59', '60']\n"
     ]
    }
   ],
   "source": [
    "n_topics_final = 60\n",
    "base_topic = 30\n",
    "topics_final = set(sorted([str(x+1) for x in list(range(base_topic,n_topics_final))]))\n",
    "n_cores = 36\n",
    "n_iter = \"400\"\n",
    "print(sorted(topics_final))"
   ]
  },
  {
   "cell_type": "code",
   "execution_count": 47,
   "id": "3f82bd65",
   "metadata": {
    "execution": {
     "iopub.execute_input": "2023-02-16T09:25:14.056037Z",
     "iopub.status.busy": "2023-02-16T09:25:14.055159Z",
     "iopub.status.idle": "2023-02-16T09:25:15.183208Z",
     "shell.execute_reply": "2023-02-16T09:25:15.181606Z",
     "shell.execute_reply.started": "2023-02-16T09:25:14.055998Z"
    },
    "papermill": {
     "duration": 0.236882,
     "end_time": "2022-08-20T22:37:23.193992",
     "exception": false,
     "start_time": "2022-08-20T22:37:22.957110",
     "status": "completed"
    },
    "tags": []
   },
   "outputs": [
    {
     "name": "stdout",
     "output_type": "stream",
     "text": [
      "31\n",
      "Already exists\n",
      "32\n",
      "Already exists\n",
      "33\n",
      "Already exists\n",
      "34\n",
      "Already exists\n",
      "35\n",
      "Already exists\n",
      "36\n",
      "Already exists\n",
      "37\n",
      "Already exists\n",
      "38\n",
      "Already exists\n",
      "39\n",
      "Already exists\n",
      "40\n",
      "Already exists\n",
      "41\n",
      "Already exists\n",
      "42\n",
      "Already exists\n",
      "43\n",
      "Already exists\n",
      "44\n",
      "Already exists\n",
      "45\n",
      "Already exists\n",
      "46\n",
      "Already exists\n",
      "47\n",
      "Already exists\n",
      "48\n",
      "Already exists\n",
      "49\n",
      "Already exists\n",
      "50\n",
      "Already exists\n",
      "51\n",
      "Already exists\n",
      "52\n",
      "Already exists\n",
      "53\n",
      "Already exists\n",
      "54\n",
      "Already exists\n",
      "55\n",
      "Already exists\n",
      "56\n",
      "echo master_all_1.FULL && cd /lustre1/project/stg_00090/scatac_benchmark/full_4_merged && singularity exec -B /lustre1,/staging,/data,/vsc-hard-mounts,/scratch ../0_resources/cistopic_image/20220815_pycistopic.sif python ../0_resources/scripts/runModels_lda_mallet.py -i cistopic_objects_master/master_all_1.FULL__cto.scrublet0-4.fmx.singlets.pkl -o master_all_1.FULL__models_400_iter.pkl -nt 56 -c 36 -it 400 -a 50 -abt True -e 0.1 -ebt False -sp models__screen__mallet/model_intermediates/master_all_1.FULL_56_model_intermediates/ -s 555 -td models__screen__mallet/model_tmp/master_all_1.FULL_56_model_tmp/ > models__screen__mallet/master_all_1.FULL.models_out_log56.txt\n",
      "57\n",
      "echo master_all_1.FULL && cd /lustre1/project/stg_00090/scatac_benchmark/full_4_merged && singularity exec -B /lustre1,/staging,/data,/vsc-hard-mounts,/scratch ../0_resources/cistopic_image/20220815_pycistopic.sif python ../0_resources/scripts/runModels_lda_mallet.py -i cistopic_objects_master/master_all_1.FULL__cto.scrublet0-4.fmx.singlets.pkl -o master_all_1.FULL__models_400_iter.pkl -nt 57 -c 36 -it 400 -a 50 -abt True -e 0.1 -ebt False -sp models__screen__mallet/model_intermediates/master_all_1.FULL_57_model_intermediates/ -s 555 -td models__screen__mallet/model_tmp/master_all_1.FULL_57_model_tmp/ > models__screen__mallet/master_all_1.FULL.models_out_log57.txt\n",
      "58\n",
      "echo master_all_1.FULL && cd /lustre1/project/stg_00090/scatac_benchmark/full_4_merged && singularity exec -B /lustre1,/staging,/data,/vsc-hard-mounts,/scratch ../0_resources/cistopic_image/20220815_pycistopic.sif python ../0_resources/scripts/runModels_lda_mallet.py -i cistopic_objects_master/master_all_1.FULL__cto.scrublet0-4.fmx.singlets.pkl -o master_all_1.FULL__models_400_iter.pkl -nt 58 -c 36 -it 400 -a 50 -abt True -e 0.1 -ebt False -sp models__screen__mallet/model_intermediates/master_all_1.FULL_58_model_intermediates/ -s 555 -td models__screen__mallet/model_tmp/master_all_1.FULL_58_model_tmp/ > models__screen__mallet/master_all_1.FULL.models_out_log58.txt\n",
      "59\n",
      "echo master_all_1.FULL && cd /lustre1/project/stg_00090/scatac_benchmark/full_4_merged && singularity exec -B /lustre1,/staging,/data,/vsc-hard-mounts,/scratch ../0_resources/cistopic_image/20220815_pycistopic.sif python ../0_resources/scripts/runModels_lda_mallet.py -i cistopic_objects_master/master_all_1.FULL__cto.scrublet0-4.fmx.singlets.pkl -o master_all_1.FULL__models_400_iter.pkl -nt 59 -c 36 -it 400 -a 50 -abt True -e 0.1 -ebt False -sp models__screen__mallet/model_intermediates/master_all_1.FULL_59_model_intermediates/ -s 555 -td models__screen__mallet/model_tmp/master_all_1.FULL_59_model_tmp/ > models__screen__mallet/master_all_1.FULL.models_out_log59.txt\n",
      "60\n",
      "echo master_all_1.FULL && cd /lustre1/project/stg_00090/scatac_benchmark/full_4_merged && singularity exec -B /lustre1,/staging,/data,/vsc-hard-mounts,/scratch ../0_resources/cistopic_image/20220815_pycistopic.sif python ../0_resources/scripts/runModels_lda_mallet.py -i cistopic_objects_master/master_all_1.FULL__cto.scrublet0-4.fmx.singlets.pkl -o master_all_1.FULL__models_400_iter.pkl -nt 60 -c 36 -it 400 -a 50 -abt True -e 0.1 -ebt False -sp models__screen__mallet/model_intermediates/master_all_1.FULL_60_model_intermediates/ -s 555 -td models__screen__mallet/model_tmp/master_all_1.FULL_60_model_tmp/ > models__screen__mallet/master_all_1.FULL.models_out_log60.txt\n",
      "All topics done.\n",
      "\n",
      "\n"
     ]
    }
   ],
   "source": [
    "mounts = \"/lustre1,/staging,/data,/vsc-hard-mounts,/scratch\"\n",
    "sif = \"../0_resources/cistopic_image/20220815_pycistopic.sif\"\n",
    "script = \"../0_resources/scripts/runModels_lda_mallet.py\"\n",
    "\n",
    "f_mod_dir = 'models__screen__mallet'\n",
    "if not os.path.exists(os.path.join(wdir, f_mod_dir)):\n",
    "    os.makedirs(os.path.join(wdir, f_mod_dir))\n",
    "\n",
    "infile = 'cistopic_objects_master/master_all_1.FULL__cto.scrublet0-4.fmx.singlets.pkl'\n",
    "sample = 'master_all_1.FULL'\n",
    "outfile = sample + '__models_' + str(n_iter) + '_iter.pkl'\n",
    "\n",
    "\n",
    "\n",
    "\n",
    "topics_todo = str(sorted(list(topics_final))).replace(\"'\",\"\").replace(' ','').replace('[','').replace(']','')\n",
    "ver=str(n_topics_final)\n",
    "\n",
    "if not topics_todo == '':\n",
    "    for n_topics in topics_todo.split(','):\n",
    "        print(n_topics)\n",
    "        intermediate_dir = f\"{f_mod_dir}/model_intermediates/{sample + '_' + n_topics}_model_intermediates/\"\n",
    "        if not os.path.exists(os.path.join(wdir, intermediate_dir)):\n",
    "            os.makedirs(os.path.join(wdir, intermediate_dir))\n",
    "            \n",
    "        if len(glob.glob(f\"{intermediate_dir}/*.pkl\")) == 0:\n",
    "            model_tmp_dir = f\"{f_mod_dir}/model_tmp/{sample + '_' + n_topics}_model_tmp/\"\n",
    "            if not os.path.exists(os.path.join(wdir, model_tmp_dir)):\n",
    "                os.makedirs(os.path.join(wdir, model_tmp_dir))\n",
    "\n",
    "            out_log = f\"{f_mod_dir}/{sample}.models_out_log{n_topics}.txt\"\n",
    "            cmd = f\"echo {sample} && cd {wdir} && singularity exec -B {mounts} {sif} python {script} -i {infile} -o {outfile} -nt {n_topics} -c {n_cores} -it {n_iter} -a 50 -abt True -e 0.1 -ebt False -sp {intermediate_dir} -s 555 -td {model_tmp_dir} > {out_log}\"\n",
    "\n",
    "            print(cmd)\n",
    "            sh_path = f\"{f_mod_dir}/{sample}.runmodels{n_topics}.sh\"\n",
    "            with open(sh_path, 'w') as file:\n",
    "                file.write(\"#!/bin/sh\\n\")\n",
    "                file.write(cmd)\n",
    "        else:\n",
    "            print('Already exists')\n",
    "    else:\n",
    "        print('All topics done.')\n",
    "\n",
    "\n",
    "print('\\n')"
   ]
  },
  {
   "cell_type": "markdown",
   "id": "3d197267",
   "metadata": {
    "execution": {
     "iopub.execute_input": "2022-08-23T14:36:15.572885Z",
     "iopub.status.busy": "2022-08-23T14:36:15.572508Z",
     "iopub.status.idle": "2022-08-23T14:36:15.577548Z",
     "shell.execute_reply": "2022-08-23T14:36:15.576746Z",
     "shell.execute_reply.started": "2022-08-23T14:36:15.572858Z"
    },
    "papermill": {
     "duration": 0.011339,
     "end_time": "2022-08-20T22:37:23.432790",
     "exception": false,
     "start_time": "2022-08-20T22:37:23.421451",
     "status": "completed"
    },
    "tags": []
   },
   "source": [
    "In shell:"
   ]
  },
  {
   "cell_type": "code",
   "execution_count": 48,
   "id": "f9488574",
   "metadata": {
    "execution": {
     "iopub.execute_input": "2023-02-16T09:25:15.187029Z",
     "iopub.status.busy": "2023-02-16T09:25:15.186278Z",
     "iopub.status.idle": "2023-02-16T09:25:15.198782Z",
     "shell.execute_reply": "2023-02-16T09:25:15.195563Z",
     "shell.execute_reply.started": "2023-02-16T09:25:15.186972Z"
    },
    "papermill": {
     "duration": 0.011323,
     "end_time": "2022-08-20T22:37:23.455675",
     "exception": false,
     "start_time": "2022-08-20T22:37:23.444352",
     "status": "completed"
    },
    "tags": []
   },
   "outputs": [
    {
     "ename": "SyntaxError",
     "evalue": "invalid syntax (2074587295.py, line 1)",
     "output_type": "error",
     "traceback": [
      "\u001b[0;36m  Input \u001b[0;32mIn [48]\u001b[0;36m\u001b[0m\n\u001b[0;31m    for script in models__screen__mallet/*.sh\u001b[0m\n\u001b[0m                                         ^\u001b[0m\n\u001b[0;31mSyntaxError\u001b[0m\u001b[0;31m:\u001b[0m invalid syntax\n"
     ]
    }
   ],
   "source": [
    "for script in models__screen__mallet/*.sh\n",
    "do\n",
    "    echo $script\n",
    "    qsub $script -A lp_symbiosys -l nodes=1:ppn=36 -l walltime=24:00:00 -l pmem=2gb\n",
    "done"
   ]
  },
  {
   "cell_type": "code",
   "execution_count": null,
   "id": "3c44cf4d-0111-4cc6-bd21-d396f0ef11fd",
   "metadata": {
    "execution": {
     "iopub.status.busy": "2023-02-16T09:25:15.200414Z",
     "iopub.status.idle": "2023-02-16T09:25:15.201176Z",
     "shell.execute_reply": "2023-02-16T09:25:15.200845Z",
     "shell.execute_reply.started": "2023-02-16T09:25:15.200811Z"
    },
    "tags": []
   },
   "outputs": [],
   "source": [
    "for script in models__screen__mallet/*.sh\n",
    "do\n",
    "    echo $script\n",
    "    sbatch -p --job-name=models --cluster=wice --partition=dedicated_big_bigmem -n 1 -A lp_big_wice_cpu --time=24:00:00 --ntasks=1 --cpus-per-task=36 --mem=900GB $script\n",
    "done"
   ]
  },
  {
   "cell_type": "markdown",
   "id": "b99cd15b",
   "metadata": {
    "papermill": {
     "duration": 0.011283,
     "end_time": "2022-08-20T22:37:23.478226",
     "exception": false,
     "start_time": "2022-08-20T22:37:23.466943",
     "status": "completed"
    },
    "tags": []
   },
   "source": [
    "Then, combine the models:"
   ]
  },
  {
   "cell_type": "code",
   "execution_count": 65,
   "id": "0426bbef",
   "metadata": {
    "execution": {
     "iopub.execute_input": "2023-02-16T13:44:46.007563Z",
     "iopub.status.busy": "2023-02-16T13:44:46.006542Z",
     "iopub.status.idle": "2023-02-16T13:44:46.044023Z",
     "shell.execute_reply": "2023-02-16T13:44:46.042554Z",
     "shell.execute_reply.started": "2023-02-16T13:44:46.007485Z"
    },
    "papermill": {
     "duration": 0.012049,
     "end_time": "2022-08-20T22:37:23.501705",
     "exception": false,
     "start_time": "2022-08-20T22:37:23.489656",
     "status": "completed"
    },
    "tags": []
   },
   "outputs": [
    {
     "data": {
      "text/plain": [
       "{'Topic31.pkl': 'models__screen__mallet/model_intermediates/master_all_1.FULL_31_model_intermediates/Topic31.pkl',\n",
       " 'Topic32.pkl': 'models__screen__mallet/model_intermediates/master_all_1.FULL_32_model_intermediates/Topic32.pkl',\n",
       " 'Topic33.pkl': 'models__screen__mallet/model_intermediates/master_all_1.FULL_33_model_intermediates/Topic33.pkl',\n",
       " 'Topic34.pkl': 'models__screen__mallet/model_intermediates/master_all_1.FULL_34_model_intermediates/Topic34.pkl',\n",
       " 'Topic35.pkl': 'models__screen__mallet/model_intermediates/master_all_1.FULL_35_model_intermediates/Topic35.pkl',\n",
       " 'Topic36.pkl': 'models__screen__mallet/model_intermediates/master_all_1.FULL_36_model_intermediates/Topic36.pkl',\n",
       " 'Topic37.pkl': 'models__screen__mallet/model_intermediates/master_all_1.FULL_37_model_intermediates/Topic37.pkl',\n",
       " 'Topic38.pkl': 'models__screen__mallet/model_intermediates/master_all_1.FULL_38_model_intermediates/Topic38.pkl',\n",
       " 'Topic39.pkl': 'models__screen__mallet/model_intermediates/master_all_1.FULL_39_model_intermediates/Topic39.pkl',\n",
       " 'Topic40.pkl': 'models__screen__mallet/model_intermediates/master_all_1.FULL_40_model_intermediates/Topic40.pkl',\n",
       " 'Topic41.pkl': 'models__screen__mallet/model_intermediates/master_all_1.FULL_41_model_intermediates/Topic41.pkl',\n",
       " 'Topic42.pkl': 'models__screen__mallet/model_intermediates/master_all_1.FULL_42_model_intermediates/Topic42.pkl',\n",
       " 'Topic43.pkl': 'models__screen__mallet/model_intermediates/master_all_1.FULL_43_model_intermediates/Topic43.pkl',\n",
       " 'Topic44.pkl': 'models__screen__mallet/model_intermediates/master_all_1.FULL_44_model_intermediates/Topic44.pkl',\n",
       " 'Topic45.pkl': 'models__screen__mallet/model_intermediates/master_all_1.FULL_45_model_intermediates/Topic45.pkl',\n",
       " 'Topic46.pkl': 'models__screen__mallet/model_intermediates/master_all_1.FULL_46_model_intermediates/Topic46.pkl',\n",
       " 'Topic47.pkl': 'models__screen__mallet/model_intermediates/master_all_1.FULL_47_model_intermediates/Topic47.pkl',\n",
       " 'Topic48.pkl': 'models__screen__mallet/model_intermediates/master_all_1.FULL_48_model_intermediates/Topic48.pkl',\n",
       " 'Topic49.pkl': 'models__screen__mallet/model_intermediates/master_all_1.FULL_49_model_intermediates/Topic49.pkl',\n",
       " 'Topic50.pkl': 'models__screen__mallet/model_intermediates/master_all_1.FULL_50_model_intermediates/Topic50.pkl',\n",
       " 'Topic51.pkl': 'models__screen__mallet/model_intermediates/master_all_1.FULL_51_model_intermediates/Topic51.pkl',\n",
       " 'Topic52.pkl': 'models__screen__mallet/model_intermediates/master_all_1.FULL_52_model_intermediates/Topic52.pkl',\n",
       " 'Topic53.pkl': 'models__screen__mallet/model_intermediates/master_all_1.FULL_53_model_intermediates/Topic53.pkl',\n",
       " 'Topic54.pkl': 'models__screen__mallet/model_intermediates/master_all_1.FULL_54_model_intermediates/Topic54.pkl',\n",
       " 'Topic55.pkl': 'models__screen__mallet/model_intermediates/master_all_1.FULL_55_model_intermediates/Topic55.pkl',\n",
       " 'Topic56.pkl': 'models__screen__mallet/model_intermediates/master_all_1.FULL_56_model_intermediates/Topic56.pkl',\n",
       " 'Topic57.pkl': 'models__screen__mallet/model_intermediates/master_all_1.FULL_57_model_intermediates/Topic57.pkl',\n",
       " 'Topic58.pkl': 'models__screen__mallet/model_intermediates/master_all_1.FULL_58_model_intermediates/Topic58.pkl',\n",
       " 'Topic59.pkl': 'models__screen__mallet/model_intermediates/master_all_1.FULL_59_model_intermediates/Topic59.pkl',\n",
       " 'Topic60.pkl': 'models__screen__mallet/model_intermediates/master_all_1.FULL_60_model_intermediates/Topic60.pkl'}"
      ]
     },
     "execution_count": 65,
     "metadata": {},
     "output_type": "execute_result"
    }
   ],
   "source": [
    "intermediate_dict = {x.split('/')[-1].split('_model_intermediates')[0]: x for x in sorted(glob.glob(f'{f_mod_dir}/model_intermediates/*/*'))}\n",
    "intermediate_dict"
   ]
  },
  {
   "cell_type": "code",
   "execution_count": 66,
   "id": "d68f5462",
   "metadata": {
    "execution": {
     "iopub.execute_input": "2023-02-16T13:44:47.093285Z",
     "iopub.status.busy": "2023-02-16T13:44:47.091718Z",
     "iopub.status.idle": "2023-02-16T13:45:20.154746Z",
     "shell.execute_reply": "2023-02-16T13:45:20.152958Z",
     "shell.execute_reply.started": "2023-02-16T13:44:47.093224Z"
    },
    "tags": []
   },
   "outputs": [],
   "source": [
    "file_list = sorted(glob.glob(f'{f_mod_dir}/model_intermediates/*/*'))\n",
    "n_topics = [int(x.split('Topic')[-1].split('.pkl')[0].replace('Topic','')) for x in file_list]\n",
    "file_list_sorted = [file_list[x] for x in np.argsort(n_topics)]\n",
    "\n",
    "models_merged = [pickle.load(open(file, 'rb')) for file in file_list_sorted]"
   ]
  },
  {
   "cell_type": "code",
   "execution_count": 67,
   "id": "a7f3f99c",
   "metadata": {
    "execution": {
     "iopub.execute_input": "2023-02-16T13:45:20.157063Z",
     "iopub.status.busy": "2023-02-16T13:45:20.156790Z",
     "iopub.status.idle": "2023-02-16T13:45:42.074127Z",
     "shell.execute_reply": "2023-02-16T13:45:42.072606Z",
     "shell.execute_reply.started": "2023-02-16T13:45:20.157040Z"
    },
    "tags": []
   },
   "outputs": [],
   "source": [
    "save_path = f\"{f_mod_dir}/master_all_1.FULL__models_{n_iter}_iter.pkl\"\n",
    "with open(save_path, \"wb\") as f:\n",
    "    pickle.dump(models_merged, f, protocol=4)"
   ]
  },
  {
   "cell_type": "code",
   "execution_count": 68,
   "id": "63c7fe4b",
   "metadata": {
    "execution": {
     "iopub.execute_input": "2023-02-16T13:45:42.075976Z",
     "iopub.status.busy": "2023-02-16T13:45:42.075713Z",
     "iopub.status.idle": "2023-02-16T13:45:42.081169Z",
     "shell.execute_reply": "2023-02-16T13:45:42.080285Z",
     "shell.execute_reply.started": "2023-02-16T13:45:42.075953Z"
    },
    "papermill": {
     "duration": 3.276807,
     "end_time": "2022-08-20T22:37:26.812513",
     "exception": false,
     "start_time": "2022-08-20T22:37:23.535706",
     "status": "completed"
    },
    "tags": []
   },
   "outputs": [],
   "source": [
    "from pycisTopic.lda_models import evaluate_models\n",
    "import matplotlib.pyplot as plt"
   ]
  },
  {
   "cell_type": "code",
   "execution_count": 69,
   "id": "48dcd43b",
   "metadata": {
    "execution": {
     "iopub.execute_input": "2023-02-16T13:45:42.083439Z",
     "iopub.status.busy": "2023-02-16T13:45:42.082984Z",
     "iopub.status.idle": "2023-02-16T13:45:42.088228Z",
     "shell.execute_reply": "2023-02-16T13:45:42.087259Z",
     "shell.execute_reply.started": "2023-02-16T13:45:42.083415Z"
    },
    "papermill": {
     "duration": 0.01192,
     "end_time": "2022-08-20T22:37:26.836622",
     "exception": false,
     "start_time": "2022-08-20T22:37:26.824702",
     "status": "completed"
    },
    "tags": []
   },
   "outputs": [],
   "source": [
    "cto_path = \"cistopic_objects_master/master_all_1.FULL__cto.scrublet0-4.fmx.singlets.pkl\""
   ]
  },
  {
   "cell_type": "markdown",
   "id": "95da7b1f",
   "metadata": {
    "papermill": {
     "duration": 0.017495,
     "end_time": "2022-08-20T22:37:26.913054",
     "exception": false,
     "start_time": "2022-08-20T22:37:26.895559",
     "status": "completed"
    },
    "tags": []
   },
   "source": [
    "We need to minimize Arun, minimize Cao & Juan, maximize Mimno & maximize log likelihood"
   ]
  },
  {
   "cell_type": "code",
   "execution_count": 70,
   "id": "092ecf34",
   "metadata": {
    "execution": {
     "iopub.execute_input": "2023-02-16T13:45:42.089347Z",
     "iopub.status.busy": "2023-02-16T13:45:42.089104Z",
     "iopub.status.idle": "2023-02-16T13:45:42.096540Z",
     "shell.execute_reply": "2023-02-16T13:45:42.095446Z",
     "shell.execute_reply.started": "2023-02-16T13:45:42.089325Z"
    },
    "tags": []
   },
   "outputs": [],
   "source": [
    "from pycisTopic.lda_models import evaluate_models\n",
    "import matplotlib.pyplot as plt"
   ]
  },
  {
   "cell_type": "code",
   "execution_count": 72,
   "id": "011ab213",
   "metadata": {
    "execution": {
     "iopub.execute_input": "2023-02-16T13:47:41.781923Z",
     "iopub.status.busy": "2023-02-16T13:47:41.780999Z",
     "iopub.status.idle": "2023-02-16T13:47:42.072489Z",
     "shell.execute_reply": "2023-02-16T13:47:42.071183Z",
     "shell.execute_reply.started": "2023-02-16T13:47:41.781861Z"
    },
    "papermill": {
     "duration": 0.01202,
     "end_time": "2022-08-20T22:37:26.987615",
     "exception": false,
     "start_time": "2022-08-20T22:37:26.975595",
     "status": "completed"
    },
    "tags": []
   },
   "outputs": [
    {
     "data": {
      "image/png": "[encoded data removed]",
      "text/plain": [
       "<Figure size 460.8x345.6 with 1 Axes>"
      ]
     },
     "metadata": {
      "needs_background": "light"
     },
     "output_type": "display_data"
    }
   ],
   "source": [
    "n_topics_chosen = 60\n",
    "model = evaluate_models(models_merged,\n",
    "     select_model=n_topics_chosen,\n",
    "     return_model=True, \n",
    "     metrics=['Arun_2010','Cao_Juan_2009', 'Minmo_2011', 'loglikelihood'],\n",
    "     plot=True, # disabled since we only test one model here\n",
    "     plot_metrics=False,\n",
    "     save=f\"plots_qc/master_all_1.FULL__model_evaluation.png\"\n",
    "     )"
   ]
  },
  {
   "cell_type": "code",
   "execution_count": 73,
   "id": "63d71ec4",
   "metadata": {
    "execution": {
     "iopub.execute_input": "2023-02-16T13:47:43.132972Z",
     "iopub.status.busy": "2023-02-16T13:47:43.132139Z",
     "iopub.status.idle": "2023-02-16T13:49:09.825798Z",
     "shell.execute_reply": "2023-02-16T13:49:09.824133Z",
     "shell.execute_reply.started": "2023-02-16T13:47:43.132912Z"
    },
    "papermill": {
     "duration": 0.01202,
     "end_time": "2022-08-20T22:37:26.987615",
     "exception": false,
     "start_time": "2022-08-20T22:37:26.975595",
     "status": "completed"
    },
    "tags": []
   },
   "outputs": [],
   "source": [
    "cto_path_new = cto_path.replace('.pkl',f'.model_{str(n_topics_chosen)}topics.pkl')\n",
    "with open(cto_path, 'rb') as f:\n",
    "    cto = pickle.load(f)\n",
    "\n",
    "cto.add_LDA_model(model)\n",
    "\n",
    "with open(cto_path_new, \"wb\") as f:\n",
    "    pickle.dump(cto, f, protocol=4)"
   ]
  },
  {
   "cell_type": "code",
   "execution_count": 63,
   "id": "2b5e09e1",
   "metadata": {
    "execution": {
     "iopub.execute_input": "2023-02-16T09:33:44.736224Z",
     "iopub.status.busy": "2023-02-16T09:33:44.735934Z",
     "iopub.status.idle": "2023-02-16T09:33:44.764460Z",
     "shell.execute_reply": "2023-02-16T09:33:44.763266Z",
     "shell.execute_reply.started": "2023-02-16T09:33:44.736196Z"
    },
    "tags": []
   },
   "outputs": [
    {
     "data": {
      "text/html": [
       "<div>\n",
       "<style scoped>\n",
       "    .dataframe tbody tr th:only-of-type {\n",
       "        vertical-align: middle;\n",
       "    }\n",
       "\n",
       "    .dataframe tbody tr th {\n",
       "        vertical-align: top;\n",
       "    }\n",
       "\n",
       "    .dataframe thead th {\n",
       "        text-align: right;\n",
       "    }\n",
       "</style>\n",
       "<table border=\"1\" class=\"dataframe\">\n",
       "  <thead>\n",
       "    <tr style=\"text-align: right;\">\n",
       "      <th></th>\n",
       "      <th>cisTopic_nr_acc</th>\n",
       "      <th>cisTopic_log_nr_acc</th>\n",
       "      <th>cisTopic_nr_frag</th>\n",
       "      <th>cisTopic_log_nr_frag</th>\n",
       "      <th>Log_total_nr_frag</th>\n",
       "      <th>Log_unique_nr_frag</th>\n",
       "      <th>Total_nr_frag</th>\n",
       "      <th>Unique_nr_frag</th>\n",
       "      <th>Dupl_nr_frag</th>\n",
       "      <th>Dupl_rate</th>\n",
       "      <th>Total_nr_frag_in_regions</th>\n",
       "      <th>Unique_nr_frag_in_regions</th>\n",
       "      <th>FRIP</th>\n",
       "      <th>TSS_enrichment</th>\n",
       "      <th>sample_id</th>\n",
       "      <th>barcode</th>\n",
       "      <th>Doublet_scores_fragments</th>\n",
       "      <th>Predicted_doublets_fragments</th>\n",
       "      <th>fmx_droplet_type</th>\n",
       "      <th>fmx_sample</th>\n",
       "    </tr>\n",
       "  </thead>\n",
       "  <tbody>\n",
       "    <tr>\n",
       "      <th>CTAGGGCACCCTCGTT___VIB_10xv2_1.FULL</th>\n",
       "      <td>11509</td>\n",
       "      <td>4.061038</td>\n",
       "      <td>15623</td>\n",
       "      <td>4.193764</td>\n",
       "      <td>4.507707</td>\n",
       "      <td>4.253265</td>\n",
       "      <td>32189</td>\n",
       "      <td>17917</td>\n",
       "      <td>14272</td>\n",
       "      <td>0.443381</td>\n",
       "      <td>22163</td>\n",
       "      <td>12329</td>\n",
       "      <td>0.688117</td>\n",
       "      <td>31.995437</td>\n",
       "      <td>VIB_10xv2_1.FULL</td>\n",
       "      <td>CTAGGGCACCCTCGTT</td>\n",
       "      <td>0.114374</td>\n",
       "      <td>False</td>\n",
       "      <td>SNG</td>\n",
       "      <td>sampleA</td>\n",
       "    </tr>\n",
       "    <tr>\n",
       "      <th>CAGGCGACTCTAACGT___VIB_10xv2_1.FULL</th>\n",
       "      <td>13497</td>\n",
       "      <td>4.130237</td>\n",
       "      <td>19292</td>\n",
       "      <td>4.285377</td>\n",
       "      <td>4.556821</td>\n",
       "      <td>4.352646</td>\n",
       "      <td>36043</td>\n",
       "      <td>22524</td>\n",
       "      <td>13519</td>\n",
       "      <td>0.375080</td>\n",
       "      <td>25150</td>\n",
       "      <td>15738</td>\n",
       "      <td>0.698721</td>\n",
       "      <td>27.731114</td>\n",
       "      <td>VIB_10xv2_1.FULL</td>\n",
       "      <td>CAGGCGACTCTAACGT</td>\n",
       "      <td>0.098526</td>\n",
       "      <td>False</td>\n",
       "      <td>SNG</td>\n",
       "      <td>sampleA</td>\n",
       "    </tr>\n",
       "    <tr>\n",
       "      <th>TACATTCACTGGCAAG___VIB_10xv2_1.FULL</th>\n",
       "      <td>12411</td>\n",
       "      <td>4.093807</td>\n",
       "      <td>15494</td>\n",
       "      <td>4.190164</td>\n",
       "      <td>4.457942</td>\n",
       "      <td>4.253362</td>\n",
       "      <td>28704</td>\n",
       "      <td>17921</td>\n",
       "      <td>10783</td>\n",
       "      <td>0.375662</td>\n",
       "      <td>19201</td>\n",
       "      <td>12026</td>\n",
       "      <td>0.671056</td>\n",
       "      <td>23.990970</td>\n",
       "      <td>VIB_10xv2_1.FULL</td>\n",
       "      <td>TACATTCACTGGCAAG</td>\n",
       "      <td>0.094262</td>\n",
       "      <td>False</td>\n",
       "      <td>SNG</td>\n",
       "      <td>sampleA</td>\n",
       "    </tr>\n",
       "    <tr>\n",
       "      <th>CGATACCCTAGCAGGT___VIB_10xv2_1.FULL</th>\n",
       "      <td>15490</td>\n",
       "      <td>4.190051</td>\n",
       "      <td>23541</td>\n",
       "      <td>4.371825</td>\n",
       "      <td>4.702921</td>\n",
       "      <td>4.436544</td>\n",
       "      <td>50457</td>\n",
       "      <td>27324</td>\n",
       "      <td>23133</td>\n",
       "      <td>0.458470</td>\n",
       "      <td>34414</td>\n",
       "      <td>18740</td>\n",
       "      <td>0.685844</td>\n",
       "      <td>27.061606</td>\n",
       "      <td>VIB_10xv2_1.FULL</td>\n",
       "      <td>CGATACCCTAGCAGGT</td>\n",
       "      <td>0.060897</td>\n",
       "      <td>False</td>\n",
       "      <td>SNG</td>\n",
       "      <td>sampleA</td>\n",
       "    </tr>\n",
       "    <tr>\n",
       "      <th>CACTTAGGACAGACCC___VIB_10xv2_1.FULL</th>\n",
       "      <td>14560</td>\n",
       "      <td>4.163161</td>\n",
       "      <td>21634</td>\n",
       "      <td>4.335137</td>\n",
       "      <td>4.620511</td>\n",
       "      <td>4.385159</td>\n",
       "      <td>41736</td>\n",
       "      <td>24275</td>\n",
       "      <td>17461</td>\n",
       "      <td>0.418368</td>\n",
       "      <td>31023</td>\n",
       "      <td>18103</td>\n",
       "      <td>0.745747</td>\n",
       "      <td>35.334338</td>\n",
       "      <td>VIB_10xv2_1.FULL</td>\n",
       "      <td>CACTTAGGACAGACCC</td>\n",
       "      <td>0.143631</td>\n",
       "      <td>False</td>\n",
       "      <td>SNG</td>\n",
       "      <td>sampleA</td>\n",
       "    </tr>\n",
       "    <tr>\n",
       "      <th>...</th>\n",
       "      <td>...</td>\n",
       "      <td>...</td>\n",
       "      <td>...</td>\n",
       "      <td>...</td>\n",
       "      <td>...</td>\n",
       "      <td>...</td>\n",
       "      <td>...</td>\n",
       "      <td>...</td>\n",
       "      <td>...</td>\n",
       "      <td>...</td>\n",
       "      <td>...</td>\n",
       "      <td>...</td>\n",
       "      <td>...</td>\n",
       "      <td>...</td>\n",
       "      <td>...</td>\n",
       "      <td>...</td>\n",
       "      <td>...</td>\n",
       "      <td>...</td>\n",
       "      <td>...</td>\n",
       "      <td>...</td>\n",
       "    </tr>\n",
       "    <tr>\n",
       "      <th>ACCGAAGGCTGCTGTCCTAG-1___VIB_hydrop_2.FULL</th>\n",
       "      <td>573</td>\n",
       "      <td>2.758155</td>\n",
       "      <td>774</td>\n",
       "      <td>2.888741</td>\n",
       "      <td>3.402949</td>\n",
       "      <td>3.255755</td>\n",
       "      <td>2529</td>\n",
       "      <td>1802</td>\n",
       "      <td>727</td>\n",
       "      <td>0.287465</td>\n",
       "      <td>200</td>\n",
       "      <td>143</td>\n",
       "      <td>0.079356</td>\n",
       "      <td>3.665000</td>\n",
       "      <td>VIB_hydrop_2.FULL</td>\n",
       "      <td>ACCGAAGGCTGCTGTCCTAG-1</td>\n",
       "      <td>0.10107</td>\n",
       "      <td>False</td>\n",
       "      <td>NaN</td>\n",
       "      <td>NaN</td>\n",
       "    </tr>\n",
       "    <tr>\n",
       "      <th>CCTCCATAAGCTGTAATCCA_CCTCCATAAGGGACCGATTC-2___VIB_hydrop_2.FULL</th>\n",
       "      <td>739</td>\n",
       "      <td>2.868644</td>\n",
       "      <td>1500</td>\n",
       "      <td>3.176091</td>\n",
       "      <td>3.936564</td>\n",
       "      <td>3.318481</td>\n",
       "      <td>8641</td>\n",
       "      <td>2082</td>\n",
       "      <td>6559</td>\n",
       "      <td>0.759056</td>\n",
       "      <td>2697</td>\n",
       "      <td>711</td>\n",
       "      <td>0.341499</td>\n",
       "      <td>1.720000</td>\n",
       "      <td>VIB_hydrop_2.FULL</td>\n",
       "      <td>CCTCCATAAGCTGTAATCCA_CCTCCATAAGGGACCGATTC-2</td>\n",
       "      <td>0.01533</td>\n",
       "      <td>False</td>\n",
       "      <td>NaN</td>\n",
       "      <td>NaN</td>\n",
       "    </tr>\n",
       "    <tr>\n",
       "      <th>GGTTAACCTGTGGAAGGAGA-1___VIB_hydrop_2.FULL</th>\n",
       "      <td>646</td>\n",
       "      <td>2.810233</td>\n",
       "      <td>722</td>\n",
       "      <td>2.858537</td>\n",
       "      <td>3.760347</td>\n",
       "      <td>3.308564</td>\n",
       "      <td>5759</td>\n",
       "      <td>2035</td>\n",
       "      <td>3724</td>\n",
       "      <td>0.646640</td>\n",
       "      <td>317</td>\n",
       "      <td>134</td>\n",
       "      <td>0.065848</td>\n",
       "      <td>3.075000</td>\n",
       "      <td>VIB_hydrop_2.FULL</td>\n",
       "      <td>GGTTAACCTGTGGAAGGAGA-1</td>\n",
       "      <td>0.02233</td>\n",
       "      <td>False</td>\n",
       "      <td>NaN</td>\n",
       "      <td>NaN</td>\n",
       "    </tr>\n",
       "    <tr>\n",
       "      <th>CGTGAATGAAAGGACGACAG-1___VIB_hydrop_2.FULL</th>\n",
       "      <td>789</td>\n",
       "      <td>2.897077</td>\n",
       "      <td>1394</td>\n",
       "      <td>3.144263</td>\n",
       "      <td>4.015192</td>\n",
       "      <td>3.237544</td>\n",
       "      <td>10356</td>\n",
       "      <td>1728</td>\n",
       "      <td>8628</td>\n",
       "      <td>0.833140</td>\n",
       "      <td>3179</td>\n",
       "      <td>618</td>\n",
       "      <td>0.357639</td>\n",
       "      <td>2.305000</td>\n",
       "      <td>VIB_hydrop_2.FULL</td>\n",
       "      <td>CGTGAATGAAAGGACGACAG-1</td>\n",
       "      <td>0.010037</td>\n",
       "      <td>False</td>\n",
       "      <td>NaN</td>\n",
       "      <td>NaN</td>\n",
       "    </tr>\n",
       "    <tr>\n",
       "      <th>CACTAGCGTGTGGAAGGAGA-1___VIB_hydrop_2.FULL</th>\n",
       "      <td>496</td>\n",
       "      <td>2.695482</td>\n",
       "      <td>1937</td>\n",
       "      <td>3.28713</td>\n",
       "      <td>4.036709</td>\n",
       "      <td>3.416973</td>\n",
       "      <td>10882</td>\n",
       "      <td>2612</td>\n",
       "      <td>8270</td>\n",
       "      <td>0.759971</td>\n",
       "      <td>1060</td>\n",
       "      <td>371</td>\n",
       "      <td>0.142037</td>\n",
       "      <td>4.390000</td>\n",
       "      <td>VIB_hydrop_2.FULL</td>\n",
       "      <td>CACTAGCGTGTGGAAGGAGA-1</td>\n",
       "      <td>0.020221</td>\n",
       "      <td>False</td>\n",
       "      <td>NaN</td>\n",
       "      <td>NaN</td>\n",
       "    </tr>\n",
       "  </tbody>\n",
       "</table>\n",
       "<p>169047 rows × 20 columns</p>\n",
       "</div>"
      ],
      "text/plain": [
       "                                                   cisTopic_nr_acc  \\\n",
       "CTAGGGCACCCTCGTT___VIB_10xv2_1.FULL                          11509   \n",
       "CAGGCGACTCTAACGT___VIB_10xv2_1.FULL                          13497   \n",
       "TACATTCACTGGCAAG___VIB_10xv2_1.FULL                          12411   \n",
       "CGATACCCTAGCAGGT___VIB_10xv2_1.FULL                          15490   \n",
       "CACTTAGGACAGACCC___VIB_10xv2_1.FULL                          14560   \n",
       "...                                                            ...   \n",
       "ACCGAAGGCTGCTGTCCTAG-1___VIB_hydrop_2.FULL                     573   \n",
       "CCTCCATAAGCTGTAATCCA_CCTCCATAAGGGACCGATTC-2___V...             739   \n",
       "GGTTAACCTGTGGAAGGAGA-1___VIB_hydrop_2.FULL                     646   \n",
       "CGTGAATGAAAGGACGACAG-1___VIB_hydrop_2.FULL                     789   \n",
       "CACTAGCGTGTGGAAGGAGA-1___VIB_hydrop_2.FULL                     496   \n",
       "\n",
       "                                                   cisTopic_log_nr_acc  \\\n",
       "CTAGGGCACCCTCGTT___VIB_10xv2_1.FULL                           4.061038   \n",
       "CAGGCGACTCTAACGT___VIB_10xv2_1.FULL                           4.130237   \n",
       "TACATTCACTGGCAAG___VIB_10xv2_1.FULL                           4.093807   \n",
       "CGATACCCTAGCAGGT___VIB_10xv2_1.FULL                           4.190051   \n",
       "CACTTAGGACAGACCC___VIB_10xv2_1.FULL                           4.163161   \n",
       "...                                                                ...   \n",
       "ACCGAAGGCTGCTGTCCTAG-1___VIB_hydrop_2.FULL                    2.758155   \n",
       "CCTCCATAAGCTGTAATCCA_CCTCCATAAGGGACCGATTC-2___V...            2.868644   \n",
       "GGTTAACCTGTGGAAGGAGA-1___VIB_hydrop_2.FULL                    2.810233   \n",
       "CGTGAATGAAAGGACGACAG-1___VIB_hydrop_2.FULL                    2.897077   \n",
       "CACTAGCGTGTGGAAGGAGA-1___VIB_hydrop_2.FULL                    2.695482   \n",
       "\n",
       "                                                   cisTopic_nr_frag  \\\n",
       "CTAGGGCACCCTCGTT___VIB_10xv2_1.FULL                           15623   \n",
       "CAGGCGACTCTAACGT___VIB_10xv2_1.FULL                           19292   \n",
       "TACATTCACTGGCAAG___VIB_10xv2_1.FULL                           15494   \n",
       "CGATACCCTAGCAGGT___VIB_10xv2_1.FULL                           23541   \n",
       "CACTTAGGACAGACCC___VIB_10xv2_1.FULL                           21634   \n",
       "...                                                             ...   \n",
       "ACCGAAGGCTGCTGTCCTAG-1___VIB_hydrop_2.FULL                      774   \n",
       "CCTCCATAAGCTGTAATCCA_CCTCCATAAGGGACCGATTC-2___V...             1500   \n",
       "GGTTAACCTGTGGAAGGAGA-1___VIB_hydrop_2.FULL                      722   \n",
       "CGTGAATGAAAGGACGACAG-1___VIB_hydrop_2.FULL                     1394   \n",
       "CACTAGCGTGTGGAAGGAGA-1___VIB_hydrop_2.FULL                     1937   \n",
       "\n",
       "                                                   cisTopic_log_nr_frag  \\\n",
       "CTAGGGCACCCTCGTT___VIB_10xv2_1.FULL                            4.193764   \n",
       "CAGGCGACTCTAACGT___VIB_10xv2_1.FULL                            4.285377   \n",
       "TACATTCACTGGCAAG___VIB_10xv2_1.FULL                            4.190164   \n",
       "CGATACCCTAGCAGGT___VIB_10xv2_1.FULL                            4.371825   \n",
       "CACTTAGGACAGACCC___VIB_10xv2_1.FULL                            4.335137   \n",
       "...                                                                 ...   \n",
       "ACCGAAGGCTGCTGTCCTAG-1___VIB_hydrop_2.FULL                     2.888741   \n",
       "CCTCCATAAGCTGTAATCCA_CCTCCATAAGGGACCGATTC-2___V...             3.176091   \n",
       "GGTTAACCTGTGGAAGGAGA-1___VIB_hydrop_2.FULL                     2.858537   \n",
       "CGTGAATGAAAGGACGACAG-1___VIB_hydrop_2.FULL                     3.144263   \n",
       "CACTAGCGTGTGGAAGGAGA-1___VIB_hydrop_2.FULL                      3.28713   \n",
       "\n",
       "                                                    Log_total_nr_frag  \\\n",
       "CTAGGGCACCCTCGTT___VIB_10xv2_1.FULL                          4.507707   \n",
       "CAGGCGACTCTAACGT___VIB_10xv2_1.FULL                          4.556821   \n",
       "TACATTCACTGGCAAG___VIB_10xv2_1.FULL                          4.457942   \n",
       "CGATACCCTAGCAGGT___VIB_10xv2_1.FULL                          4.702921   \n",
       "CACTTAGGACAGACCC___VIB_10xv2_1.FULL                          4.620511   \n",
       "...                                                               ...   \n",
       "ACCGAAGGCTGCTGTCCTAG-1___VIB_hydrop_2.FULL                   3.402949   \n",
       "CCTCCATAAGCTGTAATCCA_CCTCCATAAGGGACCGATTC-2___V...           3.936564   \n",
       "GGTTAACCTGTGGAAGGAGA-1___VIB_hydrop_2.FULL                   3.760347   \n",
       "CGTGAATGAAAGGACGACAG-1___VIB_hydrop_2.FULL                   4.015192   \n",
       "CACTAGCGTGTGGAAGGAGA-1___VIB_hydrop_2.FULL                   4.036709   \n",
       "\n",
       "                                                    Log_unique_nr_frag  \\\n",
       "CTAGGGCACCCTCGTT___VIB_10xv2_1.FULL                           4.253265   \n",
       "CAGGCGACTCTAACGT___VIB_10xv2_1.FULL                           4.352646   \n",
       "TACATTCACTGGCAAG___VIB_10xv2_1.FULL                           4.253362   \n",
       "CGATACCCTAGCAGGT___VIB_10xv2_1.FULL                           4.436544   \n",
       "CACTTAGGACAGACCC___VIB_10xv2_1.FULL                           4.385159   \n",
       "...                                                                ...   \n",
       "ACCGAAGGCTGCTGTCCTAG-1___VIB_hydrop_2.FULL                    3.255755   \n",
       "CCTCCATAAGCTGTAATCCA_CCTCCATAAGGGACCGATTC-2___V...            3.318481   \n",
       "GGTTAACCTGTGGAAGGAGA-1___VIB_hydrop_2.FULL                    3.308564   \n",
       "CGTGAATGAAAGGACGACAG-1___VIB_hydrop_2.FULL                    3.237544   \n",
       "CACTAGCGTGTGGAAGGAGA-1___VIB_hydrop_2.FULL                    3.416973   \n",
       "\n",
       "                                                    Total_nr_frag  \\\n",
       "CTAGGGCACCCTCGTT___VIB_10xv2_1.FULL                         32189   \n",
       "CAGGCGACTCTAACGT___VIB_10xv2_1.FULL                         36043   \n",
       "TACATTCACTGGCAAG___VIB_10xv2_1.FULL                         28704   \n",
       "CGATACCCTAGCAGGT___VIB_10xv2_1.FULL                         50457   \n",
       "CACTTAGGACAGACCC___VIB_10xv2_1.FULL                         41736   \n",
       "...                                                           ...   \n",
       "ACCGAAGGCTGCTGTCCTAG-1___VIB_hydrop_2.FULL                   2529   \n",
       "CCTCCATAAGCTGTAATCCA_CCTCCATAAGGGACCGATTC-2___V...           8641   \n",
       "GGTTAACCTGTGGAAGGAGA-1___VIB_hydrop_2.FULL                   5759   \n",
       "CGTGAATGAAAGGACGACAG-1___VIB_hydrop_2.FULL                  10356   \n",
       "CACTAGCGTGTGGAAGGAGA-1___VIB_hydrop_2.FULL                  10882   \n",
       "\n",
       "                                                    Unique_nr_frag  \\\n",
       "CTAGGGCACCCTCGTT___VIB_10xv2_1.FULL                          17917   \n",
       "CAGGCGACTCTAACGT___VIB_10xv2_1.FULL                          22524   \n",
       "TACATTCACTGGCAAG___VIB_10xv2_1.FULL                          17921   \n",
       "CGATACCCTAGCAGGT___VIB_10xv2_1.FULL                          27324   \n",
       "CACTTAGGACAGACCC___VIB_10xv2_1.FULL                          24275   \n",
       "...                                                            ...   \n",
       "ACCGAAGGCTGCTGTCCTAG-1___VIB_hydrop_2.FULL                    1802   \n",
       "CCTCCATAAGCTGTAATCCA_CCTCCATAAGGGACCGATTC-2___V...            2082   \n",
       "GGTTAACCTGTGGAAGGAGA-1___VIB_hydrop_2.FULL                    2035   \n",
       "CGTGAATGAAAGGACGACAG-1___VIB_hydrop_2.FULL                    1728   \n",
       "CACTAGCGTGTGGAAGGAGA-1___VIB_hydrop_2.FULL                    2612   \n",
       "\n",
       "                                                    Dupl_nr_frag  Dupl_rate  \\\n",
       "CTAGGGCACCCTCGTT___VIB_10xv2_1.FULL                        14272   0.443381   \n",
       "CAGGCGACTCTAACGT___VIB_10xv2_1.FULL                        13519   0.375080   \n",
       "TACATTCACTGGCAAG___VIB_10xv2_1.FULL                        10783   0.375662   \n",
       "CGATACCCTAGCAGGT___VIB_10xv2_1.FULL                        23133   0.458470   \n",
       "CACTTAGGACAGACCC___VIB_10xv2_1.FULL                        17461   0.418368   \n",
       "...                                                          ...        ...   \n",
       "ACCGAAGGCTGCTGTCCTAG-1___VIB_hydrop_2.FULL                   727   0.287465   \n",
       "CCTCCATAAGCTGTAATCCA_CCTCCATAAGGGACCGATTC-2___V...          6559   0.759056   \n",
       "GGTTAACCTGTGGAAGGAGA-1___VIB_hydrop_2.FULL                  3724   0.646640   \n",
       "CGTGAATGAAAGGACGACAG-1___VIB_hydrop_2.FULL                  8628   0.833140   \n",
       "CACTAGCGTGTGGAAGGAGA-1___VIB_hydrop_2.FULL                  8270   0.759971   \n",
       "\n",
       "                                                    Total_nr_frag_in_regions  \\\n",
       "CTAGGGCACCCTCGTT___VIB_10xv2_1.FULL                                    22163   \n",
       "CAGGCGACTCTAACGT___VIB_10xv2_1.FULL                                    25150   \n",
       "TACATTCACTGGCAAG___VIB_10xv2_1.FULL                                    19201   \n",
       "CGATACCCTAGCAGGT___VIB_10xv2_1.FULL                                    34414   \n",
       "CACTTAGGACAGACCC___VIB_10xv2_1.FULL                                    31023   \n",
       "...                                                                      ...   \n",
       "ACCGAAGGCTGCTGTCCTAG-1___VIB_hydrop_2.FULL                               200   \n",
       "CCTCCATAAGCTGTAATCCA_CCTCCATAAGGGACCGATTC-2___V...                      2697   \n",
       "GGTTAACCTGTGGAAGGAGA-1___VIB_hydrop_2.FULL                               317   \n",
       "CGTGAATGAAAGGACGACAG-1___VIB_hydrop_2.FULL                              3179   \n",
       "CACTAGCGTGTGGAAGGAGA-1___VIB_hydrop_2.FULL                              1060   \n",
       "\n",
       "                                                    Unique_nr_frag_in_regions  \\\n",
       "CTAGGGCACCCTCGTT___VIB_10xv2_1.FULL                                     12329   \n",
       "CAGGCGACTCTAACGT___VIB_10xv2_1.FULL                                     15738   \n",
       "TACATTCACTGGCAAG___VIB_10xv2_1.FULL                                     12026   \n",
       "CGATACCCTAGCAGGT___VIB_10xv2_1.FULL                                     18740   \n",
       "CACTTAGGACAGACCC___VIB_10xv2_1.FULL                                     18103   \n",
       "...                                                                       ...   \n",
       "ACCGAAGGCTGCTGTCCTAG-1___VIB_hydrop_2.FULL                                143   \n",
       "CCTCCATAAGCTGTAATCCA_CCTCCATAAGGGACCGATTC-2___V...                        711   \n",
       "GGTTAACCTGTGGAAGGAGA-1___VIB_hydrop_2.FULL                                134   \n",
       "CGTGAATGAAAGGACGACAG-1___VIB_hydrop_2.FULL                                618   \n",
       "CACTAGCGTGTGGAAGGAGA-1___VIB_hydrop_2.FULL                                371   \n",
       "\n",
       "                                                        FRIP  TSS_enrichment  \\\n",
       "CTAGGGCACCCTCGTT___VIB_10xv2_1.FULL                 0.688117       31.995437   \n",
       "CAGGCGACTCTAACGT___VIB_10xv2_1.FULL                 0.698721       27.731114   \n",
       "TACATTCACTGGCAAG___VIB_10xv2_1.FULL                 0.671056       23.990970   \n",
       "CGATACCCTAGCAGGT___VIB_10xv2_1.FULL                 0.685844       27.061606   \n",
       "CACTTAGGACAGACCC___VIB_10xv2_1.FULL                 0.745747       35.334338   \n",
       "...                                                      ...             ...   \n",
       "ACCGAAGGCTGCTGTCCTAG-1___VIB_hydrop_2.FULL          0.079356        3.665000   \n",
       "CCTCCATAAGCTGTAATCCA_CCTCCATAAGGGACCGATTC-2___V...  0.341499        1.720000   \n",
       "GGTTAACCTGTGGAAGGAGA-1___VIB_hydrop_2.FULL          0.065848        3.075000   \n",
       "CGTGAATGAAAGGACGACAG-1___VIB_hydrop_2.FULL          0.357639        2.305000   \n",
       "CACTAGCGTGTGGAAGGAGA-1___VIB_hydrop_2.FULL          0.142037        4.390000   \n",
       "\n",
       "                                                            sample_id  \\\n",
       "CTAGGGCACCCTCGTT___VIB_10xv2_1.FULL                  VIB_10xv2_1.FULL   \n",
       "CAGGCGACTCTAACGT___VIB_10xv2_1.FULL                  VIB_10xv2_1.FULL   \n",
       "TACATTCACTGGCAAG___VIB_10xv2_1.FULL                  VIB_10xv2_1.FULL   \n",
       "CGATACCCTAGCAGGT___VIB_10xv2_1.FULL                  VIB_10xv2_1.FULL   \n",
       "CACTTAGGACAGACCC___VIB_10xv2_1.FULL                  VIB_10xv2_1.FULL   \n",
       "...                                                               ...   \n",
       "ACCGAAGGCTGCTGTCCTAG-1___VIB_hydrop_2.FULL          VIB_hydrop_2.FULL   \n",
       "CCTCCATAAGCTGTAATCCA_CCTCCATAAGGGACCGATTC-2___V...  VIB_hydrop_2.FULL   \n",
       "GGTTAACCTGTGGAAGGAGA-1___VIB_hydrop_2.FULL          VIB_hydrop_2.FULL   \n",
       "CGTGAATGAAAGGACGACAG-1___VIB_hydrop_2.FULL          VIB_hydrop_2.FULL   \n",
       "CACTAGCGTGTGGAAGGAGA-1___VIB_hydrop_2.FULL          VIB_hydrop_2.FULL   \n",
       "\n",
       "                                                                                        barcode  \\\n",
       "CTAGGGCACCCTCGTT___VIB_10xv2_1.FULL                                            CTAGGGCACCCTCGTT   \n",
       "CAGGCGACTCTAACGT___VIB_10xv2_1.FULL                                            CAGGCGACTCTAACGT   \n",
       "TACATTCACTGGCAAG___VIB_10xv2_1.FULL                                            TACATTCACTGGCAAG   \n",
       "CGATACCCTAGCAGGT___VIB_10xv2_1.FULL                                            CGATACCCTAGCAGGT   \n",
       "CACTTAGGACAGACCC___VIB_10xv2_1.FULL                                            CACTTAGGACAGACCC   \n",
       "...                                                                                         ...   \n",
       "ACCGAAGGCTGCTGTCCTAG-1___VIB_hydrop_2.FULL                               ACCGAAGGCTGCTGTCCTAG-1   \n",
       "CCTCCATAAGCTGTAATCCA_CCTCCATAAGGGACCGATTC-2___V...  CCTCCATAAGCTGTAATCCA_CCTCCATAAGGGACCGATTC-2   \n",
       "GGTTAACCTGTGGAAGGAGA-1___VIB_hydrop_2.FULL                               GGTTAACCTGTGGAAGGAGA-1   \n",
       "CGTGAATGAAAGGACGACAG-1___VIB_hydrop_2.FULL                               CGTGAATGAAAGGACGACAG-1   \n",
       "CACTAGCGTGTGGAAGGAGA-1___VIB_hydrop_2.FULL                               CACTAGCGTGTGGAAGGAGA-1   \n",
       "\n",
       "                                                   Doublet_scores_fragments  \\\n",
       "CTAGGGCACCCTCGTT___VIB_10xv2_1.FULL                                0.114374   \n",
       "CAGGCGACTCTAACGT___VIB_10xv2_1.FULL                                0.098526   \n",
       "TACATTCACTGGCAAG___VIB_10xv2_1.FULL                                0.094262   \n",
       "CGATACCCTAGCAGGT___VIB_10xv2_1.FULL                                0.060897   \n",
       "CACTTAGGACAGACCC___VIB_10xv2_1.FULL                                0.143631   \n",
       "...                                                                     ...   \n",
       "ACCGAAGGCTGCTGTCCTAG-1___VIB_hydrop_2.FULL                          0.10107   \n",
       "CCTCCATAAGCTGTAATCCA_CCTCCATAAGGGACCGATTC-2___V...                  0.01533   \n",
       "GGTTAACCTGTGGAAGGAGA-1___VIB_hydrop_2.FULL                          0.02233   \n",
       "CGTGAATGAAAGGACGACAG-1___VIB_hydrop_2.FULL                         0.010037   \n",
       "CACTAGCGTGTGGAAGGAGA-1___VIB_hydrop_2.FULL                         0.020221   \n",
       "\n",
       "                                                   Predicted_doublets_fragments  \\\n",
       "CTAGGGCACCCTCGTT___VIB_10xv2_1.FULL                                       False   \n",
       "CAGGCGACTCTAACGT___VIB_10xv2_1.FULL                                       False   \n",
       "TACATTCACTGGCAAG___VIB_10xv2_1.FULL                                       False   \n",
       "CGATACCCTAGCAGGT___VIB_10xv2_1.FULL                                       False   \n",
       "CACTTAGGACAGACCC___VIB_10xv2_1.FULL                                       False   \n",
       "...                                                                         ...   \n",
       "ACCGAAGGCTGCTGTCCTAG-1___VIB_hydrop_2.FULL                                False   \n",
       "CCTCCATAAGCTGTAATCCA_CCTCCATAAGGGACCGATTC-2___V...                        False   \n",
       "GGTTAACCTGTGGAAGGAGA-1___VIB_hydrop_2.FULL                                False   \n",
       "CGTGAATGAAAGGACGACAG-1___VIB_hydrop_2.FULL                                False   \n",
       "CACTAGCGTGTGGAAGGAGA-1___VIB_hydrop_2.FULL                                False   \n",
       "\n",
       "                                                   fmx_droplet_type fmx_sample  \n",
       "CTAGGGCACCCTCGTT___VIB_10xv2_1.FULL                             SNG    sampleA  \n",
       "CAGGCGACTCTAACGT___VIB_10xv2_1.FULL                             SNG    sampleA  \n",
       "TACATTCACTGGCAAG___VIB_10xv2_1.FULL                             SNG    sampleA  \n",
       "CGATACCCTAGCAGGT___VIB_10xv2_1.FULL                             SNG    sampleA  \n",
       "CACTTAGGACAGACCC___VIB_10xv2_1.FULL                             SNG    sampleA  \n",
       "...                                                             ...        ...  \n",
       "ACCGAAGGCTGCTGTCCTAG-1___VIB_hydrop_2.FULL                      NaN        NaN  \n",
       "CCTCCATAAGCTGTAATCCA_CCTCCATAAGGGACCGATTC-2___V...              NaN        NaN  \n",
       "GGTTAACCTGTGGAAGGAGA-1___VIB_hydrop_2.FULL                      NaN        NaN  \n",
       "CGTGAATGAAAGGACGACAG-1___VIB_hydrop_2.FULL                      NaN        NaN  \n",
       "CACTAGCGTGTGGAAGGAGA-1___VIB_hydrop_2.FULL                      NaN        NaN  \n",
       "\n",
       "[169047 rows x 20 columns]"
      ]
     },
     "execution_count": 63,
     "metadata": {},
     "output_type": "execute_result"
    }
   ],
   "source": [
    "cto.cell_data"
   ]
  }
 ],
 "metadata": {
  "kernelspec": {
   "display_name": "20220815_pycistopic.sif",
   "language": "python",
   "name": "cistopic_20220815"
  },
  "language_info": {
   "codemirror_mode": {
    "name": "ipython",
    "version": 3
   },
   "file_extension": ".py",
   "mimetype": "text/x-python",
   "name": "python",
   "nbconvert_exporter": "python",
   "pygments_lexer": "ipython3",
   "version": "3.8.13"
  },
  "papermill": {
   "default_parameters": {},
   "duration": 12.353482,
   "end_time": "2022-08-20T22:37:28.628546",
   "environment_variables": {},
   "exception": null,
   "input_path": "6_run_models_script_staging.ipynb",
   "output_path": "6_run_models_script_staging.OUT.ipynb",
   "parameters": {},
   "start_time": "2022-08-20T22:37:16.275064",
   "version": "2.3.3"
  }
 },
 "nbformat": 4,
 "nbformat_minor": 5
}

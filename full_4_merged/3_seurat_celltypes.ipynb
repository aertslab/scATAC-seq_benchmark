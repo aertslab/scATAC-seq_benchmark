{
 "cells": [
  {
   "cell_type": "markdown",
   "metadata": {},
   "source": [
    "# Python"
   ]
  },
  {
   "cell_type": "code",
   "execution_count": 1,
   "metadata": {
    "execution": {
     "iopub.execute_input": "2023-02-20T12:44:24.850446Z",
     "iopub.status.busy": "2023-02-20T12:44:24.849442Z",
     "iopub.status.idle": "2023-02-20T12:44:24.870038Z",
     "shell.execute_reply": "2023-02-20T12:44:24.868823Z",
     "shell.execute_reply.started": "2023-02-20T12:44:24.850273Z"
    },
    "tags": []
   },
   "outputs": [],
   "source": [
    "import glob\n",
    "import os"
   ]
  },
  {
   "cell_type": "code",
   "execution_count": 2,
   "metadata": {
    "execution": {
     "iopub.execute_input": "2023-02-20T12:44:25.034598Z",
     "iopub.status.busy": "2023-02-20T12:44:25.033134Z",
     "iopub.status.idle": "2023-02-20T12:44:25.403522Z",
     "shell.execute_reply": "2023-02-20T12:44:25.401794Z",
     "shell.execute_reply.started": "2023-02-20T12:44:25.034539Z"
    },
    "tags": []
   },
   "outputs": [
    {
     "name": "stdout",
     "output_type": "stream",
     "text": [
      "/lustre1/project/stg_00090/scatac_benchmark/full_4_merged\n"
     ]
    }
   ],
   "source": [
    "!pwd"
   ]
  },
  {
   "cell_type": "code",
   "execution_count": 3,
   "metadata": {
    "execution": {
     "iopub.execute_input": "2023-02-20T12:44:25.407758Z",
     "iopub.status.busy": "2023-02-20T12:44:25.406951Z",
     "iopub.status.idle": "2023-02-20T12:44:25.433591Z",
     "shell.execute_reply": "2023-02-20T12:44:25.432081Z",
     "shell.execute_reply.started": "2023-02-20T12:44:25.407699Z"
    },
    "tags": []
   },
   "outputs": [
    {
     "data": {
      "text/plain": [
       "{'master_all_1.FULL': 'cell_region_looms/master_all_1.FULL.scrublet0-4.singlets.ID.loom'}"
      ]
     },
     "execution_count": 3,
     "metadata": {},
     "output_type": "execute_result"
    }
   ],
   "source": [
    "scrub_name_suffix = \"0-4\"\n",
    "loom_path_dict  = {x.split('/')[-1].split(f'.scr')[0]:x for x in sorted(glob.glob(f'cell_region_looms/*singlets.ID.loom'))}\n",
    "loom_path_dict"
   ]
  },
  {
   "cell_type": "code",
   "execution_count": 4,
   "metadata": {
    "execution": {
     "iopub.execute_input": "2023-02-20T12:44:25.435018Z",
     "iopub.status.busy": "2023-02-20T12:44:25.434734Z",
     "iopub.status.idle": "2023-02-20T12:44:25.439966Z",
     "shell.execute_reply": "2023-02-20T12:44:25.438940Z",
     "shell.execute_reply.started": "2023-02-20T12:44:25.434991Z"
    },
    "tags": []
   },
   "outputs": [],
   "source": [
    "frags_path_dict = {'master_all_1.FULL': '/lustre1/project/stg_00090/scatac_benchmark/full_4_merged/merged_all_1.fragments.ID.sorted.tsv.gz'}"
   ]
  },
  {
   "cell_type": "code",
   "execution_count": 5,
   "metadata": {
    "execution": {
     "iopub.execute_input": "2023-02-20T12:44:25.862778Z",
     "iopub.status.busy": "2023-02-20T12:44:25.861397Z",
     "iopub.status.idle": "2023-02-20T12:44:26.048558Z",
     "shell.execute_reply": "2023-02-20T12:44:26.046826Z",
     "shell.execute_reply.started": "2023-02-20T12:44:25.862722Z"
    },
    "tags": []
   },
   "outputs": [
    {
     "name": "stdout",
     "output_type": "stream",
     "text": [
      "#!/usr/bin/env Rscript\n",
      "library(Seurat)\n",
      "library(SeuratDisk)\n",
      "library(Signac)\n",
      "# library(EnsDb.Hsapiens.v86)\n",
      "library(ggplot2)\n",
      "library(stringr)\n",
      "\n",
      "args = commandArgs(trailingOnly=TRUE)\n",
      "sample_id = args[1]\n",
      "f_loom = args[2]\n",
      "f_frag = args[3]\n",
      "f_reference = args[4]\n",
      "f_annotation = args[5]\n",
      "f_out = args[6]\n",
      "\n",
      "print(paste0(\"Processing sample \", args[1]))\n",
      "\n",
      "# load pbmc object\n",
      "# pbmc.rna <- readRDS(\"../0_resources/seurat_references/pbmc_integrated.RDS\")\n",
      "#pbmc.rna <- readRDS('/lustre1/project/stg_00090/scatac_benchmark/0_resources/seurat_references/pbmc_ssc_mat__integrated.rds')\n",
      "\n",
      "################################################################################\n",
      "# ATAC\n",
      "################################################################################\n",
      "\n",
      "### get data from loom:\n",
      "atacloomcon <- Connect(filename = f_loom, mode = \"r\")\n",
      "atacloomcon\n",
      "atac_tmp <- as.Seurat(atacloomcon, assay='ATAC')\n",
      "atacloomcon$close_all()\n",
      "\n",
      "# subset by removing contig chromosomes\n",
      "rawregions = rownames(GetAssayData(atac_tmp, slot = \"counts\", assay='ATAC'))\n",
      "standard_regions = rawregions[!grepl('random|KI|Un', rawregions)]\n",
      "\n",
      "atac_tmp_data_subset = GetAssayData(atac_tmp[standard_regions], slot = \"counts\", assay='ATAC')\n",
      "atac_tmp <- CreateSeuratObject(atac_tmp_data_subset, assay='ATAC')\n",
      "\n",
      "\n",
      "# subset by removing contig chromosomes\n",
      "rawregions = rownames(GetAssayData(atac_tmp, slot = \"counts\", assay='ATAC'))\n",
      "# standard_regions = rawregions[!grepl('random|KIe\n",
      "pbmc.rna <- readRDS('../0_resources/seurat_references/pbmc_ssc_mat__integrated.rds')\n",
      "\n",
      "\n",
      "\n",
      "# correctly parse regions (default delims are '-','-')\n",
      "regions = StringToGRanges(\n",
      "    rownames(GetAssayData(atac_tmp, slot = \"counts\", assay='ATAC')),\n",
      "    sep=c(':','-')\n",
      "    )\n",
      "\n",
      "# create chromatin assay\n",
      "chromatinassay = CreateChromatinAssay(\n",
      "    counts=GetAssayData(atac_tmp, slot = \"counts\", assay='ATAC'),\n",
      "    # genome='hg38',\n",
      "    fragments = f_frag,\n",
      "    ranges=regions\n",
      "    )\n",
      "    #annotation=annotation)\n",
      "\n",
      "atac <- CreateSeuratObject(counts = chromatinassay, assay='ATAC')\n",
      "\n",
      "annotations <- readRDS(f_annotation)\n",
      "Annotation(atac) <- annotations\n",
      "\n",
      "# We exclude the first dimension as this is typically correlated with sequencing depth\n",
      "atac <- RunTFIDF(atac)\n",
      "atac <- FindTopFeatures(atac, min.cutoff = \"q0\")\n",
      "atac <- RunSVD(atac)\n",
      "atac <- RunUMAP(atac, reduction = \"lsi\", dims = 2:30, reduction.name = \"umap.atac\", reduction.key = \"atacUMAP_\")\n",
      "\n",
      "##################################################\n",
      "# Identify RNA-ATAC anchors\n",
      "\n",
      "# quantify gene activity\n",
      "gene.activities <- GeneActivity(atac, features = VariableFeatures(pbmc.rna))\n",
      "# gene.activities <- gene.activities[rownames(gene.activities)!=\"\",]\n",
      "\n",
      "# add gene activities as a new assay\n",
      "atac[[\"ACTIVITY\"]] <- CreateAssayObject(counts = gene.activities)\n",
      "\n",
      "# normalize gene activities\n",
      "DefaultAssay(atac) <- \"ACTIVITY\"\n",
      "atac <- NormalizeData(atac)\n",
      "atac <- ScaleData(atac, features = rownames(atac))\n",
      "\n",
      "# Identify anchors\n",
      "transfer.anchors <- FindTransferAnchors(reference = pbmc.rna,\n",
      "    query = atac,\n",
      "    features = VariableFeatures(object = pbmc.rna),\n",
      "    reference.assay = \"RNA\",\n",
      "    query.assay = \"ACTIVITY\",\n",
      "    reduction = \"cca\")\n",
      "\n",
      "# predict celltype\n",
      "celltype.predictions <- TransferData(\n",
      "    anchorset = transfer.anchors,\n",
      "    refdata = pbmc.rna$CellType,\n",
      "    weight.reduction = atac[[\"lsi\"]],\n",
      "    dims = 2:30)\n",
      "\n",
      "pbmc.atac <- AddMetaData(atac, metadata = celltype.predictions)\n",
      "\n",
      "md = celltype.predictions\n",
      "pred_thr = 0.7\n",
      "\n",
      "tmp = data.frame(\n",
      "      composite_sample_id = paste0(rownames(md),'-',sample_id),\n",
      "      barcode = rownames(md),\n",
      "      sample_id = sample_id,\n",
      "      cell_type = md$predicted.id,\n",
      "      cell_type_pred_score = md$prediction.score.max\n",
      "      )\n",
      "\n",
      "tmp$cell_type_hiconf_70 = tmp$cell_type\n",
      "tmp$cell_type_hiconf_70[tmp$cell_type_pred_score<pred_thr] = 'Unknown'\n",
      "\n",
      "table(tmp$cell_type)\n",
      "table(tmp$cell_type_hiconf_70)\n",
      "\n",
      "write.table(tmp, file=f_out, sep='\\t', row.names=FALSE, quote=FALSE)\n",
      "print(paste0('Wrote file ', f_out))\n"
     ]
    }
   ],
   "source": [
    "!cat ../0_resources/scripts/seurat_label_transfer_consensus.R"
   ]
  },
  {
   "cell_type": "markdown",
   "metadata": {},
   "source": [
    "```\n",
    "conda activate r4_2\n",
    "export LD_LIBRARY_PATH=\"$LD_LIBRARY_PATH:/lustre1/project/stg_00002/lcb/fderop/software_2/anaconda3/lib\"\n",
    "```"
   ]
  },
  {
   "cell_type": "code",
   "execution_count": 6,
   "metadata": {
    "execution": {
     "iopub.execute_input": "2023-02-20T12:44:26.690116Z",
     "iopub.status.busy": "2023-02-20T12:44:26.689260Z",
     "iopub.status.idle": "2023-02-20T12:44:26.737425Z",
     "shell.execute_reply": "2023-02-20T12:44:26.735981Z",
     "shell.execute_reply.started": "2023-02-20T12:44:26.690053Z"
    },
    "tags": []
   },
   "outputs": [
    {
     "name": "stdout",
     "output_type": "stream",
     "text": [
      "Rscript ../0_resources/scripts/seurat_label_transfer_consensus.R master_all_1.FULL cell_region_looms/master_all_1.FULL.scrublet0-4.singlets.ID.loom /lustre1/project/stg_00090/scatac_benchmark/full_4_merged/merged_all_1.fragments.ID.sorted.tsv.gz ../0_resources/seurat_references/pbmc_ref.rds ../0_resources/seurat_references/granges_annotation.rds cell_type_classification/master_all_1.FULL__cell_type_seurat.txt\n"
     ]
    }
   ],
   "source": [
    "parallel_filename = \"seurat_label_transfer.parallel\"\n",
    "script_path = \"../0_resources/scripts/seurat_label_transfer_consensus.R\"\n",
    "img_path = \"../0_resources/vsn_cache/cflerin-seurat-4.0.3-plus.sif\"\n",
    "reference_path = \"../0_resources/seurat_references/pbmc_ref.rds\"\n",
    "annotation_path = \"../0_resources/seurat_references/granges_annotation.rds\"\n",
    "bind_mounts = \"/dodrio,/readonly/dodrio,/tmp\"\n",
    "#bind_mounts = \"/lustre1,/staging,${VSC_SCRATCH}/tmp:/tmp\"\n",
    "\n",
    "with open(parallel_filename, 'w') as f:\n",
    "    for sample in loom_path_dict.keys():\n",
    "        outfile = f\"cell_type_classification/{sample}__cell_type_seurat.txt\"\n",
    "        if not os.path.exists(outfile):\n",
    "            loomfile = loom_path_dict[sample]\n",
    "            fragfile = frags_path_dict[sample]\n",
    "            command=f\"Rscript {script_path} {sample} {loomfile} {fragfile} {reference_path} {annotation_path} {outfile}\"\n",
    "            f.write(f\"{command}\\n\")\n",
    "            print(command)\n",
    "\n",
    "        else:\n",
    "            f.write(f\"#{outfile} already exists!\\n\")\n",
    "            print(f\"#{outfile} already exists!\")"
   ]
  },
  {
   "cell_type": "code",
   "execution_count": 7,
   "metadata": {
    "execution": {
     "iopub.execute_input": "2023-02-20T12:44:26.992526Z",
     "iopub.status.busy": "2023-02-20T12:44:26.991078Z",
     "iopub.status.idle": "2023-02-20T12:44:27.143763Z",
     "shell.execute_reply": "2023-02-20T12:44:27.142012Z",
     "shell.execute_reply.started": "2023-02-20T12:44:26.992469Z"
    },
    "tags": []
   },
   "outputs": [
    {
     "name": "stdout",
     "output_type": "stream",
     "text": [
      "/lustre1/project/stg_00090/scatac_benchmark/full_4_merged\n"
     ]
    }
   ],
   "source": [
    "!pwd"
   ]
  },
  {
   "cell_type": "markdown",
   "metadata": {},
   "source": [
    "# Run the Rscript"
   ]
  },
  {
   "cell_type": "markdown",
   "metadata": {},
   "source": [
    "```\n",
    "my_conda_activate\n",
    "conda activate r4_2\n",
    "export LD_LIBRARY_PATH=\"$LD_LIBRARY_PATH:/lustre1/project/stg_00002/lcb/fderop/software_2/anaconda3/lib\"\n",
    "Rscript ../0_resources/scripts/seurat_label_transfer_consensus.R master_all_1.FULL cell_region_looms/master_all_1.FULL.scrublet0-4.singlets.ID.loom /lustre1/project/stg_00090/scatac_benchmark/full_4_merged/merged_all_1.fragments.ID.sorted.tsv.gz ../0_resources/seurat_references/pbmc_ref.rds ../0_resources/seurat_references/granges_annotation.rds cell_type_classification/master_all_1.FULL__cell_type_seurat.txt\n",
    "\n",
    "```"
   ]
  },
  {
   "cell_type": "code",
   "execution_count": null,
   "metadata": {},
   "outputs": [],
   "source": []
  }
 ],
 "metadata": {
  "kernelspec": {
   "display_name": "20220628_pycistopic.sif",
   "language": "python",
   "name": "cistopic_20220628"
  },
  "language_info": {
   "codemirror_mode": {
    "name": "ipython",
    "version": 3
   },
   "file_extension": ".py",
   "mimetype": "text/x-python",
   "name": "python",
   "nbconvert_exporter": "python",
   "pygments_lexer": "ipython3",
   "version": "3.8.13"
  }
 },
 "nbformat": 4,
 "nbformat_minor": 4
}

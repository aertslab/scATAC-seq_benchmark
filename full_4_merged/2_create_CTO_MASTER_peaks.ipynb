{
 "cells": [
  {
   "cell_type": "markdown",
   "id": "89924384",
   "metadata": {
    "papermill": {
     "duration": 0.008894,
     "end_time": "2022-10-02T12:09:35.028435",
     "exception": false,
     "start_time": "2022-10-02T12:09:35.019541",
     "status": "completed"
    },
    "pycharm": {
     "name": "#%% md\n"
    },
    "tags": []
   },
   "source": [
    "# pycisTopic analysis\n",
    "\n",
    "Full dataset, using CONSENSUS peaks."
   ]
  },
  {
   "cell_type": "code",
   "execution_count": 1,
   "id": "84b646e7",
   "metadata": {
    "execution": {
     "iopub.execute_input": "2023-02-15T10:43:01.711518Z",
     "iopub.status.busy": "2023-02-15T10:43:01.710615Z",
     "iopub.status.idle": "2023-02-15T10:43:01.996989Z",
     "shell.execute_reply": "2023-02-15T10:43:01.995982Z",
     "shell.execute_reply.started": "2023-02-15T10:43:01.711359Z"
    },
    "papermill": {
     "duration": 0.390001,
     "end_time": "2022-10-02T12:09:35.437913",
     "exception": false,
     "start_time": "2022-10-02T12:09:35.047912",
     "status": "completed"
    },
    "pycharm": {
     "name": "#%%\n"
    },
    "tags": []
   },
   "outputs": [
    {
     "data": {
      "application/javascript": [
       "\n",
       "            setTimeout(function() {\n",
       "                var nbb_cell_id = 1;\n",
       "                var nbb_unformatted_code = \"import warnings\\nwarnings.filterwarnings('ignore')\\nwarnings.simplefilter('ignore')\\n\\nimport pickle\\nimport os\\nimport glob\\n%load_ext nb_black\";\n",
       "                var nbb_formatted_code = \"import warnings\\n\\nwarnings.filterwarnings(\\\"ignore\\\")\\nwarnings.simplefilter(\\\"ignore\\\")\\n\\nimport pickle\\nimport os\\nimport glob\\n\\n%load_ext nb_black\";\n",
       "                var nbb_cells = Jupyter.notebook.get_cells();\n",
       "                for (var i = 0; i < nbb_cells.length; ++i) {\n",
       "                    if (nbb_cells[i].input_prompt_number == nbb_cell_id) {\n",
       "                        if (nbb_cells[i].get_text() == nbb_unformatted_code) {\n",
       "                             nbb_cells[i].set_text(nbb_formatted_code);\n",
       "                        }\n",
       "                        break;\n",
       "                    }\n",
       "                }\n",
       "            }, 500);\n",
       "            "
      ],
      "text/plain": [
       "<IPython.core.display.Javascript object>"
      ]
     },
     "metadata": {},
     "output_type": "display_data"
    }
   ],
   "source": [
    "import warnings\n",
    "warnings.filterwarnings('ignore')\n",
    "warnings.simplefilter('ignore')\n",
    "\n",
    "import pickle\n",
    "import os\n",
    "import glob\n",
    "%load_ext nb_black"
   ]
  },
  {
   "cell_type": "markdown",
   "id": "078e0885-3409-42c7-8589-464c8693a515",
   "metadata": {
    "papermill": {
     "duration": 0.006919,
     "end_time": "2022-10-02T12:09:35.452717",
     "exception": false,
     "start_time": "2022-10-02T12:09:35.445798",
     "status": "completed"
    },
    "tags": []
   },
   "source": [
    "# Set downsampling rate"
   ]
  },
  {
   "cell_type": "code",
   "execution_count": 2,
   "id": "8ae38c66",
   "metadata": {
    "execution": {
     "iopub.execute_input": "2023-02-15T10:43:01.998507Z",
     "iopub.status.busy": "2023-02-15T10:43:01.998296Z",
     "iopub.status.idle": "2023-02-15T10:43:02.194923Z",
     "shell.execute_reply": "2023-02-15T10:43:02.193293Z",
     "shell.execute_reply.started": "2023-02-15T10:43:01.998489Z"
    },
    "papermill": {
     "duration": 0.240329,
     "end_time": "2022-10-02T12:09:35.700006",
     "exception": false,
     "start_time": "2022-10-02T12:09:35.459677",
     "status": "completed"
    },
    "pycharm": {
     "name": "#%%\n"
    },
    "tags": []
   },
   "outputs": [
    {
     "name": "stdout",
     "output_type": "stream",
     "text": [
      "/lustre1/project/stg_00090/scatac_benchmark/full_4_merged\n"
     ]
    },
    {
     "data": {
      "application/javascript": [
       "\n",
       "            setTimeout(function() {\n",
       "                var nbb_cell_id = 2;\n",
       "                var nbb_unformatted_code = \"!pwd\";\n",
       "                var nbb_formatted_code = \"!pwd\";\n",
       "                var nbb_cells = Jupyter.notebook.get_cells();\n",
       "                for (var i = 0; i < nbb_cells.length; ++i) {\n",
       "                    if (nbb_cells[i].input_prompt_number == nbb_cell_id) {\n",
       "                        if (nbb_cells[i].get_text() == nbb_unformatted_code) {\n",
       "                             nbb_cells[i].set_text(nbb_formatted_code);\n",
       "                        }\n",
       "                        break;\n",
       "                    }\n",
       "                }\n",
       "            }, 500);\n",
       "            "
      ],
      "text/plain": [
       "<IPython.core.display.Javascript object>"
      ]
     },
     "metadata": {},
     "output_type": "display_data"
    }
   ],
   "source": [
    "!pwd"
   ]
  },
  {
   "cell_type": "code",
   "execution_count": 3,
   "id": "efb75eee",
   "metadata": {
    "execution": {
     "iopub.execute_input": "2023-02-15T10:43:02.198098Z",
     "iopub.status.busy": "2023-02-15T10:43:02.197327Z",
     "iopub.status.idle": "2023-02-15T10:43:02.211772Z",
     "shell.execute_reply": "2023-02-15T10:43:02.210356Z",
     "shell.execute_reply.started": "2023-02-15T10:43:02.198040Z"
    },
    "papermill": {
     "duration": 0.014662,
     "end_time": "2022-10-02T12:09:35.722853",
     "exception": false,
     "start_time": "2022-10-02T12:09:35.708191",
     "status": "completed"
    },
    "pycharm": {
     "name": "#%%\n"
    },
    "tags": []
   },
   "outputs": [
    {
     "data": {
      "application/javascript": [
       "\n",
       "            setTimeout(function() {\n",
       "                var nbb_cell_id = 3;\n",
       "                var nbb_unformatted_code = \"wdir = f'/lustre1/project/stg_00090/scatac_benchmark/full_4_merged'\\nos.chdir(wdir)\";\n",
       "                var nbb_formatted_code = \"wdir = f\\\"/lustre1/project/stg_00090/scatac_benchmark/full_4_merged\\\"\\nos.chdir(wdir)\";\n",
       "                var nbb_cells = Jupyter.notebook.get_cells();\n",
       "                for (var i = 0; i < nbb_cells.length; ++i) {\n",
       "                    if (nbb_cells[i].input_prompt_number == nbb_cell_id) {\n",
       "                        if (nbb_cells[i].get_text() == nbb_unformatted_code) {\n",
       "                             nbb_cells[i].set_text(nbb_formatted_code);\n",
       "                        }\n",
       "                        break;\n",
       "                    }\n",
       "                }\n",
       "            }, 500);\n",
       "            "
      ],
      "text/plain": [
       "<IPython.core.display.Javascript object>"
      ]
     },
     "metadata": {},
     "output_type": "display_data"
    }
   ],
   "source": [
    "wdir = f'/lustre1/project/stg_00090/scatac_benchmark/full_4_merged'\n",
    "os.chdir(wdir)"
   ]
  },
  {
   "cell_type": "markdown",
   "id": "b88710d1",
   "metadata": {
    "papermill": {
     "duration": 0.006914,
     "end_time": "2022-10-02T12:09:35.736976",
     "exception": false,
     "start_time": "2022-10-02T12:09:35.730062",
     "status": "completed"
    },
    "pycharm": {
     "name": "#%% md\n"
    },
    "tags": []
   },
   "source": [
    "## Create the cisTopic objects for each sample"
   ]
  },
  {
   "cell_type": "markdown",
   "id": "88081dd1",
   "metadata": {
    "papermill": {
     "duration": 0.006961,
     "end_time": "2022-10-02T12:09:35.751011",
     "exception": false,
     "start_time": "2022-10-02T12:09:35.744050",
     "status": "completed"
    },
    "pycharm": {
     "name": "#%% md\n"
    },
    "tags": []
   },
   "source": [
    "Make a new output dir"
   ]
  },
  {
   "cell_type": "code",
   "execution_count": 4,
   "id": "4f6e1990",
   "metadata": {
    "execution": {
     "iopub.execute_input": "2023-02-15T10:43:02.215625Z",
     "iopub.status.busy": "2023-02-15T10:43:02.215068Z",
     "iopub.status.idle": "2023-02-15T10:43:02.235261Z",
     "shell.execute_reply": "2023-02-15T10:43:02.234001Z",
     "shell.execute_reply.started": "2023-02-15T10:43:02.215584Z"
    },
    "papermill": {
     "duration": 0.015027,
     "end_time": "2022-10-02T12:09:35.773088",
     "exception": false,
     "start_time": "2022-10-02T12:09:35.758061",
     "status": "completed"
    },
    "pycharm": {
     "name": "#%%\n"
    },
    "tags": []
   },
   "outputs": [
    {
     "data": {
      "application/javascript": [
       "\n",
       "            setTimeout(function() {\n",
       "                var nbb_cell_id = 4;\n",
       "                var nbb_unformatted_code = \"cistopic_objects_out = 'cistopic_objects'\\nif not os.path.exists(os.path.join(wdir, cistopic_objects_out)):\\n    os.makedirs(os.path.join(wdir, cistopic_objects_out))\";\n",
       "                var nbb_formatted_code = \"cistopic_objects_out = \\\"cistopic_objects\\\"\\nif not os.path.exists(os.path.join(wdir, cistopic_objects_out)):\\n    os.makedirs(os.path.join(wdir, cistopic_objects_out))\";\n",
       "                var nbb_cells = Jupyter.notebook.get_cells();\n",
       "                for (var i = 0; i < nbb_cells.length; ++i) {\n",
       "                    if (nbb_cells[i].input_prompt_number == nbb_cell_id) {\n",
       "                        if (nbb_cells[i].get_text() == nbb_unformatted_code) {\n",
       "                             nbb_cells[i].set_text(nbb_formatted_code);\n",
       "                        }\n",
       "                        break;\n",
       "                    }\n",
       "                }\n",
       "            }, 500);\n",
       "            "
      ],
      "text/plain": [
       "<IPython.core.display.Javascript object>"
      ]
     },
     "metadata": {},
     "output_type": "display_data"
    }
   ],
   "source": [
    "cistopic_objects_out = 'cistopic_objects'\n",
    "if not os.path.exists(os.path.join(wdir, cistopic_objects_out)):\n",
    "    os.makedirs(os.path.join(wdir, cistopic_objects_out))"
   ]
  },
  {
   "cell_type": "markdown",
   "id": "54cd81b4",
   "metadata": {
    "papermill": {
     "duration": 0.00724,
     "end_time": "2022-10-02T12:09:35.787953",
     "exception": false,
     "start_time": "2022-10-02T12:09:35.780713",
     "status": "completed"
    },
    "pycharm": {
     "name": "#%% md\n"
    },
    "tags": []
   },
   "source": [
    "Create a dictionary with fragments files for each sample"
   ]
  },
  {
   "cell_type": "code",
   "execution_count": 5,
   "id": "2e02bf4f",
   "metadata": {
    "execution": {
     "iopub.execute_input": "2023-02-15T10:43:02.237857Z",
     "iopub.status.busy": "2023-02-15T10:43:02.237335Z",
     "iopub.status.idle": "2023-02-15T10:43:02.257946Z",
     "shell.execute_reply": "2023-02-15T10:43:02.256578Z",
     "shell.execute_reply.started": "2023-02-15T10:43:02.237824Z"
    },
    "papermill": {
     "duration": 0.10018,
     "end_time": "2022-10-02T12:09:35.895519",
     "exception": false,
     "start_time": "2022-10-02T12:09:35.795339",
     "status": "completed"
    },
    "pycharm": {
     "name": "#%%\n"
    },
    "tags": []
   },
   "outputs": [
    {
     "data": {
      "text/plain": [
       "{'BIO_ddseq_1.FULL': '../1_data_repository/full_fragments/BIO_ddseq_1.FULL.fragments.tsv.gz',\n",
       " 'BIO_ddseq_2.FULL': '../1_data_repository/full_fragments/BIO_ddseq_2.FULL.fragments.tsv.gz',\n",
       " 'BIO_ddseq_3.FULL': '../1_data_repository/full_fragments/BIO_ddseq_3.FULL.fragments.tsv.gz',\n",
       " 'BIO_ddseq_4.FULL': '../1_data_repository/full_fragments/BIO_ddseq_4.FULL.fragments.tsv.gz',\n",
       " 'BRO_mtscatac_1.FULL': '../1_data_repository/full_fragments/BRO_mtscatac_1.FULL.fragments.tsv.gz',\n",
       " 'BRO_mtscatac_2.FULL': '../1_data_repository/full_fragments/BRO_mtscatac_2.FULL.fragments.tsv.gz',\n",
       " 'CNA_10xmultiome_1.FULL': '../1_data_repository/full_fragments/CNA_10xmultiome_1.FULL.fragments.tsv.gz',\n",
       " 'CNA_10xmultiome_2.FULL': '../1_data_repository/full_fragments/CNA_10xmultiome_2.FULL.fragments.tsv.gz',\n",
       " 'CNA_10xv11_1.FULL': '../1_data_repository/full_fragments/CNA_10xv11_1.FULL.fragments.tsv.gz',\n",
       " 'CNA_10xv11_2.FULL': '../1_data_repository/full_fragments/CNA_10xv11_2.FULL.fragments.tsv.gz',\n",
       " 'CNA_10xv11_3.FULL': '../1_data_repository/full_fragments/CNA_10xv11_3.FULL.fragments.tsv.gz',\n",
       " 'CNA_10xv11_4.FULL': '../1_data_repository/full_fragments/CNA_10xv11_4.FULL.fragments.tsv.gz',\n",
       " 'CNA_10xv11_5.FULL': '../1_data_repository/full_fragments/CNA_10xv11_5.FULL.fragments.tsv.gz',\n",
       " 'CNA_10xv2_1.FULL': '../1_data_repository/full_fragments/CNA_10xv2_1.FULL.fragments.tsv.gz',\n",
       " 'CNA_10xv2_2.FULL': '../1_data_repository/full_fragments/CNA_10xv2_2.FULL.fragments.tsv.gz',\n",
       " 'CNA_ddseq_1.FULL': '../1_data_repository/full_fragments/CNA_ddseq_1.FULL.fragments.tsv.gz',\n",
       " 'CNA_ddseq_2.FULL': '../1_data_repository/full_fragments/CNA_ddseq_2.FULL.fragments.tsv.gz',\n",
       " 'CNA_hydrop_1.FULL': '../1_data_repository/full_fragments/CNA_hydrop_1.FULL.fragments.tsv.gz',\n",
       " 'CNA_hydrop_2.FULL': '../1_data_repository/full_fragments/CNA_hydrop_2.FULL.fragments.tsv.gz',\n",
       " 'CNA_hydrop_3.FULL': '../1_data_repository/full_fragments/CNA_hydrop_3.FULL.fragments.tsv.gz',\n",
       " 'CNA_mtscatac_1.FULL': '../1_data_repository/full_fragments/CNA_mtscatac_1.FULL.fragments.tsv.gz',\n",
       " 'CNA_mtscatac_2.FULL': '../1_data_repository/full_fragments/CNA_mtscatac_2.FULL.fragments.tsv.gz',\n",
       " 'EPF_hydrop_1.FULL': '../1_data_repository/full_fragments/EPF_hydrop_1.FULL.fragments.tsv.gz',\n",
       " 'EPF_hydrop_2.FULL': '../1_data_repository/full_fragments/EPF_hydrop_2.FULL.fragments.tsv.gz',\n",
       " 'EPF_hydrop_3.FULL': '../1_data_repository/full_fragments/EPF_hydrop_3.FULL.fragments.tsv.gz',\n",
       " 'EPF_hydrop_4.FULL': '../1_data_repository/full_fragments/EPF_hydrop_4.FULL.fragments.tsv.gz',\n",
       " 'HAR_ddseq_1.FULL': '../1_data_repository/full_fragments/HAR_ddseq_1.FULL.fragments.tsv.gz',\n",
       " 'HAR_ddseq_2.FULL': '../1_data_repository/full_fragments/HAR_ddseq_2.FULL.fragments.tsv.gz',\n",
       " 'MDC_mtscatac_1.FULL': '../1_data_repository/full_fragments/MDC_mtscatac_1.FULL.fragments.tsv.gz',\n",
       " 'MDC_mtscatac_2.FULL': '../1_data_repository/full_fragments/MDC_mtscatac_2.FULL.fragments.tsv.gz',\n",
       " 'OHS_s3atac_1.FULL': '../1_data_repository/full_fragments/OHS_s3atac_1.FULL.fragments.tsv.gz',\n",
       " 'OHS_s3atac_2.FULL': '../1_data_repository/full_fragments/OHS_s3atac_2.FULL.fragments.tsv.gz',\n",
       " 'SAN_10xmultiome_1.FULL': '../1_data_repository/full_fragments/SAN_10xmultiome_1.FULL.fragments.tsv.gz',\n",
       " 'SAN_10xmultiome_2.FULL': '../1_data_repository/full_fragments/SAN_10xmultiome_2.FULL.fragments.tsv.gz',\n",
       " 'STA_10xv11_1.FULL': '../1_data_repository/full_fragments/STA_10xv11_1.FULL.fragments.tsv.gz',\n",
       " 'STA_10xv11_2.FULL': '../1_data_repository/full_fragments/STA_10xv11_2.FULL.fragments.tsv.gz',\n",
       " 'TXG_10xv11_1.FULL': '../1_data_repository/full_fragments/TXG_10xv11_1.FULL.fragments.tsv.gz',\n",
       " 'TXG_10xv2_1.FULL': '../1_data_repository/full_fragments/TXG_10xv2_1.FULL.fragments.tsv.gz',\n",
       " 'TXG_10xv2_2.FULL': '../1_data_repository/full_fragments/TXG_10xv2_2.FULL.fragments.tsv.gz',\n",
       " 'UCS_ddseq_1.FULL': '../1_data_repository/full_fragments/UCS_ddseq_1.FULL.fragments.tsv.gz',\n",
       " 'UCS_ddseq_2.FULL': '../1_data_repository/full_fragments/UCS_ddseq_2.FULL.fragments.tsv.gz',\n",
       " 'VIB_10xmultiome_1.FULL': '../1_data_repository/full_fragments/VIB_10xmultiome_1.FULL.fragments.tsv.gz',\n",
       " 'VIB_10xmultiome_2.FULL': '../1_data_repository/full_fragments/VIB_10xmultiome_2.FULL.fragments.tsv.gz',\n",
       " 'VIB_10xv1_1.FULL': '../1_data_repository/full_fragments/VIB_10xv1_1.FULL.fragments.tsv.gz',\n",
       " 'VIB_10xv1_2.FULL': '../1_data_repository/full_fragments/VIB_10xv1_2.FULL.fragments.tsv.gz',\n",
       " 'VIB_10xv2_1.FULL': '../1_data_repository/full_fragments/VIB_10xv2_1.FULL.fragments.tsv.gz',\n",
       " 'VIB_10xv2_2.FULL': '../1_data_repository/full_fragments/VIB_10xv2_2.FULL.fragments.tsv.gz',\n",
       " 'VIB_hydrop_1.FULL': '../1_data_repository/full_fragments/VIB_hydrop_1.FULL.fragments.tsv.gz',\n",
       " 'VIB_hydrop_11.FULL': '../1_data_repository/full_fragments/VIB_hydrop_11.FULL.fragments.tsv.gz',\n",
       " 'VIB_hydrop_12.FULL': '../1_data_repository/full_fragments/VIB_hydrop_12.FULL.fragments.tsv.gz',\n",
       " 'VIB_hydrop_2.FULL': '../1_data_repository/full_fragments/VIB_hydrop_2.FULL.fragments.tsv.gz',\n",
       " 'VIB_hydrop_21.FULL': '../1_data_repository/full_fragments/VIB_hydrop_21.FULL.fragments.tsv.gz',\n",
       " 'VIB_hydrop_22.FULL': '../1_data_repository/full_fragments/VIB_hydrop_22.FULL.fragments.tsv.gz'}"
      ]
     },
     "execution_count": 5,
     "metadata": {},
     "output_type": "execute_result"
    },
    {
     "data": {
      "application/javascript": [
       "\n",
       "            setTimeout(function() {\n",
       "                var nbb_cell_id = 5;\n",
       "                var nbb_unformatted_code = \"filenames = sorted(glob.glob('../1_data_repository/full_fragments/*.fragments.tsv.gz'))\\nfragments_dict = {}\\nfor filename in filenames:\\n    sample = filename.split('/')[-1].split('.fragments.tsv.gz')[0]\\n    fragments_dict[sample] = filename\\nfragments_dict\";\n",
       "                var nbb_formatted_code = \"filenames = sorted(glob.glob(\\\"../1_data_repository/full_fragments/*.fragments.tsv.gz\\\"))\\nfragments_dict = {}\\nfor filename in filenames:\\n    sample = filename.split(\\\"/\\\")[-1].split(\\\".fragments.tsv.gz\\\")[0]\\n    fragments_dict[sample] = filename\\nfragments_dict\";\n",
       "                var nbb_cells = Jupyter.notebook.get_cells();\n",
       "                for (var i = 0; i < nbb_cells.length; ++i) {\n",
       "                    if (nbb_cells[i].input_prompt_number == nbb_cell_id) {\n",
       "                        if (nbb_cells[i].get_text() == nbb_unformatted_code) {\n",
       "                             nbb_cells[i].set_text(nbb_formatted_code);\n",
       "                        }\n",
       "                        break;\n",
       "                    }\n",
       "                }\n",
       "            }, 500);\n",
       "            "
      ],
      "text/plain": [
       "<IPython.core.display.Javascript object>"
      ]
     },
     "metadata": {},
     "output_type": "display_data"
    }
   ],
   "source": [
    "filenames = sorted(glob.glob('../1_data_repository/full_fragments/*.fragments.tsv.gz'))\n",
    "fragments_dict = {}\n",
    "for filename in filenames:\n",
    "    sample = filename.split('/')[-1].split('.fragments.tsv.gz')[0]\n",
    "    fragments_dict[sample] = filename\n",
    "fragments_dict"
   ]
  },
  {
   "cell_type": "code",
   "execution_count": 6,
   "id": "b3728808",
   "metadata": {
    "execution": {
     "iopub.execute_input": "2023-02-15T10:43:02.261019Z",
     "iopub.status.busy": "2023-02-15T10:43:02.259963Z",
     "iopub.status.idle": "2023-02-15T10:43:02.286197Z",
     "shell.execute_reply": "2023-02-15T10:43:02.285031Z",
     "shell.execute_reply.started": "2023-02-15T10:43:02.260966Z"
    },
    "papermill": {
     "duration": 0.019084,
     "end_time": "2022-10-02T12:09:35.923290",
     "exception": false,
     "start_time": "2022-10-02T12:09:35.904206",
     "status": "completed"
    },
    "pycharm": {
     "name": "#%%\n"
    },
    "tags": []
   },
   "outputs": [
    {
     "data": {
      "text/plain": [
       "{'BIO_ddseq_1.FULL': 'cistopic_qc_out_MASTER/BIO_ddseq_1.FULL__metadata_bc.pkl',\n",
       " 'BIO_ddseq_2.FULL': 'cistopic_qc_out_MASTER/BIO_ddseq_2.FULL__metadata_bc.pkl',\n",
       " 'BIO_ddseq_3.FULL': 'cistopic_qc_out_MASTER/BIO_ddseq_3.FULL__metadata_bc.pkl',\n",
       " 'BIO_ddseq_4.FULL': 'cistopic_qc_out_MASTER/BIO_ddseq_4.FULL__metadata_bc.pkl',\n",
       " 'BRO_mtscatac_1.FULL': 'cistopic_qc_out_MASTER/BRO_mtscatac_1.FULL__metadata_bc.pkl',\n",
       " 'BRO_mtscatac_2.FULL': 'cistopic_qc_out_MASTER/BRO_mtscatac_2.FULL__metadata_bc.pkl',\n",
       " 'CNA_10xmultiome_1.FULL': 'cistopic_qc_out_MASTER/CNA_10xmultiome_1.FULL__metadata_bc.pkl',\n",
       " 'CNA_10xmultiome_2.FULL': 'cistopic_qc_out_MASTER/CNA_10xmultiome_2.FULL__metadata_bc.pkl',\n",
       " 'CNA_10xv11_1.FULL': 'cistopic_qc_out_MASTER/CNA_10xv11_1.FULL__metadata_bc.pkl',\n",
       " 'CNA_10xv11_2.FULL': 'cistopic_qc_out_MASTER/CNA_10xv11_2.FULL__metadata_bc.pkl',\n",
       " 'CNA_10xv11_3.FULL': 'cistopic_qc_out_MASTER/CNA_10xv11_3.FULL__metadata_bc.pkl',\n",
       " 'CNA_10xv11_4.FULL': 'cistopic_qc_out_MASTER/CNA_10xv11_4.FULL__metadata_bc.pkl',\n",
       " 'CNA_10xv11_5.FULL': 'cistopic_qc_out_MASTER/CNA_10xv11_5.FULL__metadata_bc.pkl',\n",
       " 'CNA_10xv2_1.FULL': 'cistopic_qc_out_MASTER/CNA_10xv2_1.FULL__metadata_bc.pkl',\n",
       " 'CNA_10xv2_2.FULL': 'cistopic_qc_out_MASTER/CNA_10xv2_2.FULL__metadata_bc.pkl',\n",
       " 'CNA_hydrop_1.FULL': 'cistopic_qc_out_MASTER/CNA_hydrop_1.FULL__metadata_bc.pkl',\n",
       " 'CNA_hydrop_2.FULL': 'cistopic_qc_out_MASTER/CNA_hydrop_2.FULL__metadata_bc.pkl',\n",
       " 'CNA_hydrop_3.FULL': 'cistopic_qc_out_MASTER/CNA_hydrop_3.FULL__metadata_bc.pkl',\n",
       " 'CNA_mtscatac_1.FULL': 'cistopic_qc_out_MASTER/CNA_mtscatac_1.FULL__metadata_bc.pkl',\n",
       " 'CNA_mtscatac_2.FULL': 'cistopic_qc_out_MASTER/CNA_mtscatac_2.FULL__metadata_bc.pkl',\n",
       " 'EPF_hydrop_1.FULL': 'cistopic_qc_out_MASTER/EPF_hydrop_1.FULL__metadata_bc.pkl',\n",
       " 'EPF_hydrop_2.FULL': 'cistopic_qc_out_MASTER/EPF_hydrop_2.FULL__metadata_bc.pkl',\n",
       " 'EPF_hydrop_3.FULL': 'cistopic_qc_out_MASTER/EPF_hydrop_3.FULL__metadata_bc.pkl',\n",
       " 'EPF_hydrop_4.FULL': 'cistopic_qc_out_MASTER/EPF_hydrop_4.FULL__metadata_bc.pkl',\n",
       " 'HAR_ddseq_1.FULL': 'cistopic_qc_out_MASTER/HAR_ddseq_1.FULL__metadata_bc.pkl',\n",
       " 'HAR_ddseq_2.FULL': 'cistopic_qc_out_MASTER/HAR_ddseq_2.FULL__metadata_bc.pkl',\n",
       " 'MDC_mtscatac_1.FULL': 'cistopic_qc_out_MASTER/MDC_mtscatac_1.FULL__metadata_bc.pkl',\n",
       " 'MDC_mtscatac_2.FULL': 'cistopic_qc_out_MASTER/MDC_mtscatac_2.FULL__metadata_bc.pkl',\n",
       " 'OHS_s3atac_1.FULL': 'cistopic_qc_out_MASTER/OHS_s3atac_1.FULL__metadata_bc.pkl',\n",
       " 'OHS_s3atac_2.FULL': 'cistopic_qc_out_MASTER/OHS_s3atac_2.FULL__metadata_bc.pkl',\n",
       " 'SAN_10xmultiome_1.FULL': 'cistopic_qc_out_MASTER/SAN_10xmultiome_1.FULL__metadata_bc.pkl',\n",
       " 'SAN_10xmultiome_2.FULL': 'cistopic_qc_out_MASTER/SAN_10xmultiome_2.FULL__metadata_bc.pkl',\n",
       " 'STA_10xv11_1.FULL': 'cistopic_qc_out_MASTER/STA_10xv11_1.FULL__metadata_bc.pkl',\n",
       " 'STA_10xv11_2.FULL': 'cistopic_qc_out_MASTER/STA_10xv11_2.FULL__metadata_bc.pkl',\n",
       " 'TXG_10xv11_1.FULL': 'cistopic_qc_out_MASTER/TXG_10xv11_1.FULL__metadata_bc.pkl',\n",
       " 'TXG_10xv2_1.FULL': 'cistopic_qc_out_MASTER/TXG_10xv2_1.FULL__metadata_bc.pkl',\n",
       " 'TXG_10xv2_2.FULL': 'cistopic_qc_out_MASTER/TXG_10xv2_2.FULL__metadata_bc.pkl',\n",
       " 'UCS_ddseq_1.FULL': 'cistopic_qc_out_MASTER/UCS_ddseq_1.FULL__metadata_bc.pkl',\n",
       " 'UCS_ddseq_2.FULL': 'cistopic_qc_out_MASTER/UCS_ddseq_2.FULL__metadata_bc.pkl',\n",
       " 'VIB_10xmultiome_1.FULL': 'cistopic_qc_out_MASTER/VIB_10xmultiome_1.FULL__metadata_bc.pkl',\n",
       " 'VIB_10xmultiome_2.FULL': 'cistopic_qc_out_MASTER/VIB_10xmultiome_2.FULL__metadata_bc.pkl',\n",
       " 'VIB_10xv1_1.FULL': 'cistopic_qc_out_MASTER/VIB_10xv1_1.FULL__metadata_bc.pkl',\n",
       " 'VIB_10xv1_2.FULL': 'cistopic_qc_out_MASTER/VIB_10xv1_2.FULL__metadata_bc.pkl',\n",
       " 'VIB_10xv2_1.FULL': 'cistopic_qc_out_MASTER/VIB_10xv2_1.FULL__metadata_bc.pkl',\n",
       " 'VIB_10xv2_2.FULL': 'cistopic_qc_out_MASTER/VIB_10xv2_2.FULL__metadata_bc.pkl',\n",
       " 'VIB_hydrop_1.FULL': 'cistopic_qc_out_MASTER/VIB_hydrop_1.FULL__metadata_bc.pkl',\n",
       " 'VIB_hydrop_2.FULL': 'cistopic_qc_out_MASTER/VIB_hydrop_2.FULL__metadata_bc.pkl'}"
      ]
     },
     "execution_count": 6,
     "metadata": {},
     "output_type": "execute_result"
    },
    {
     "data": {
      "application/javascript": [
       "\n",
       "            setTimeout(function() {\n",
       "                var nbb_cell_id = 6;\n",
       "                var nbb_unformatted_code = \"metadata_bc_sub_dict = {x.split('/')[-1].split(f'__')[0]: x for x in sorted(glob.glob(\\\"cistopic_qc_out_MASTER/*metadata_bc.pkl\\\"))}\\nmetadata_bc_sub_dict\";\n",
       "                var nbb_formatted_code = \"metadata_bc_sub_dict = {\\n    x.split(\\\"/\\\")[-1].split(f\\\"__\\\")[0]: x\\n    for x in sorted(glob.glob(\\\"cistopic_qc_out_MASTER/*metadata_bc.pkl\\\"))\\n}\\nmetadata_bc_sub_dict\";\n",
       "                var nbb_cells = Jupyter.notebook.get_cells();\n",
       "                for (var i = 0; i < nbb_cells.length; ++i) {\n",
       "                    if (nbb_cells[i].input_prompt_number == nbb_cell_id) {\n",
       "                        if (nbb_cells[i].get_text() == nbb_unformatted_code) {\n",
       "                             nbb_cells[i].set_text(nbb_formatted_code);\n",
       "                        }\n",
       "                        break;\n",
       "                    }\n",
       "                }\n",
       "            }, 500);\n",
       "            "
      ],
      "text/plain": [
       "<IPython.core.display.Javascript object>"
      ]
     },
     "metadata": {},
     "output_type": "display_data"
    }
   ],
   "source": [
    "metadata_bc_sub_dict = {x.split('/')[-1].split(f'__')[0]: x for x in sorted(glob.glob(\"cistopic_qc_out_MASTER/*metadata_bc.pkl\"))}\n",
    "metadata_bc_sub_dict"
   ]
  },
  {
   "cell_type": "markdown",
   "id": "a1c7fe5e",
   "metadata": {
    "papermill": {
     "duration": 0.007808,
     "end_time": "2022-10-02T12:09:35.939164",
     "exception": false,
     "start_time": "2022-10-02T12:09:35.931356",
     "status": "completed"
    },
    "tags": []
   },
   "source": [
    "metadata_bc_sub_dict.pop('VIB_hydrop_1.FULL')\n",
    "metadata_bc_sub_dict.pop('VIB_hydrop_2.FULL')"
   ]
  },
  {
   "cell_type": "code",
   "execution_count": 7,
   "id": "4361bc56",
   "metadata": {
    "execution": {
     "iopub.execute_input": "2023-02-15T10:43:02.288236Z",
     "iopub.status.busy": "2023-02-15T10:43:02.287712Z",
     "iopub.status.idle": "2023-02-15T10:43:02.306576Z",
     "shell.execute_reply": "2023-02-15T10:43:02.305562Z",
     "shell.execute_reply.started": "2023-02-15T10:43:02.288201Z"
    },
    "papermill": {
     "duration": 0.019856,
     "end_time": "2022-10-02T12:09:35.966840",
     "exception": false,
     "start_time": "2022-10-02T12:09:35.946984",
     "status": "completed"
    },
    "pycharm": {
     "name": "#%%\n"
    },
    "tags": []
   },
   "outputs": [
    {
     "data": {
      "text/plain": [
       "{'BIO_ddseq_1.FULL': 'selected_barcodes/BIO_ddseq_1.FULL_bc_passing_filters_otsu.pkl',\n",
       " 'BIO_ddseq_2.FULL': 'selected_barcodes/BIO_ddseq_2.FULL_bc_passing_filters_otsu.pkl',\n",
       " 'BIO_ddseq_3.FULL': 'selected_barcodes/BIO_ddseq_3.FULL_bc_passing_filters_otsu.pkl',\n",
       " 'BIO_ddseq_4.FULL': 'selected_barcodes/BIO_ddseq_4.FULL_bc_passing_filters_otsu.pkl',\n",
       " 'BRO_mtscatac_1.FULL': 'selected_barcodes/BRO_mtscatac_1.FULL_bc_passing_filters_otsu.pkl',\n",
       " 'BRO_mtscatac_2.FULL': 'selected_barcodes/BRO_mtscatac_2.FULL_bc_passing_filters_otsu.pkl',\n",
       " 'CNA_10xmultiome_1.FULL': 'selected_barcodes/CNA_10xmultiome_1.FULL_bc_passing_filters_otsu.pkl',\n",
       " 'CNA_10xmultiome_2.FULL': 'selected_barcodes/CNA_10xmultiome_2.FULL_bc_passing_filters_otsu.pkl',\n",
       " 'CNA_10xv11_1.FULL': 'selected_barcodes/CNA_10xv11_1.FULL_bc_passing_filters_otsu.pkl',\n",
       " 'CNA_10xv11_2.FULL': 'selected_barcodes/CNA_10xv11_2.FULL_bc_passing_filters_otsu.pkl',\n",
       " 'CNA_10xv11_3.FULL': 'selected_barcodes/CNA_10xv11_3.FULL_bc_passing_filters_otsu.pkl',\n",
       " 'CNA_10xv11_4.FULL': 'selected_barcodes/CNA_10xv11_4.FULL_bc_passing_filters_otsu.pkl',\n",
       " 'CNA_10xv11_5.FULL': 'selected_barcodes/CNA_10xv11_5.FULL_bc_passing_filters_otsu.pkl',\n",
       " 'CNA_10xv2_1.FULL': 'selected_barcodes/CNA_10xv2_1.FULL_bc_passing_filters_otsu.pkl',\n",
       " 'CNA_10xv2_2.FULL': 'selected_barcodes/CNA_10xv2_2.FULL_bc_passing_filters_otsu.pkl',\n",
       " 'CNA_ddseq_1.FULL': 'selected_barcodes/CNA_ddseq_1.FULL_bc_passing_filters_otsu.pkl',\n",
       " 'CNA_ddseq_2.FULL': 'selected_barcodes/CNA_ddseq_2.FULL_bc_passing_filters_otsu.pkl',\n",
       " 'CNA_hydrop_1.FULL': 'selected_barcodes/CNA_hydrop_1.FULL_bc_passing_filters_otsu.pkl',\n",
       " 'CNA_hydrop_2.FULL': 'selected_barcodes/CNA_hydrop_2.FULL_bc_passing_filters_otsu.pkl',\n",
       " 'CNA_hydrop_3.FULL': 'selected_barcodes/CNA_hydrop_3.FULL_bc_passing_filters_otsu.pkl',\n",
       " 'CNA_mtscatac_1.FULL': 'selected_barcodes/CNA_mtscatac_1.FULL_bc_passing_filters_otsu.pkl',\n",
       " 'CNA_mtscatac_2.FULL': 'selected_barcodes/CNA_mtscatac_2.FULL_bc_passing_filters_otsu.pkl',\n",
       " 'EPF_hydrop_1.FULL': 'selected_barcodes/EPF_hydrop_1.FULL_bc_passing_filters_otsu.pkl',\n",
       " 'EPF_hydrop_2.FULL': 'selected_barcodes/EPF_hydrop_2.FULL_bc_passing_filters_otsu.pkl',\n",
       " 'EPF_hydrop_3.FULL': 'selected_barcodes/EPF_hydrop_3.FULL_bc_passing_filters_otsu.pkl',\n",
       " 'EPF_hydrop_4.FULL': 'selected_barcodes/EPF_hydrop_4.FULL_bc_passing_filters_otsu.pkl',\n",
       " 'HAR_ddseq_1.FULL': 'selected_barcodes/HAR_ddseq_1.FULL_bc_passing_filters_otsu.pkl',\n",
       " 'HAR_ddseq_2.FULL': 'selected_barcodes/HAR_ddseq_2.FULL_bc_passing_filters_otsu.pkl',\n",
       " 'MDC_mtscatac_1.FULL': 'selected_barcodes/MDC_mtscatac_1.FULL_bc_passing_filters_otsu.pkl',\n",
       " 'MDC_mtscatac_2.FULL': 'selected_barcodes/MDC_mtscatac_2.FULL_bc_passing_filters_otsu.pkl',\n",
       " 'OHS_s3atac_1.FULL': 'selected_barcodes/OHS_s3atac_1.FULL_bc_passing_filters_otsu.pkl',\n",
       " 'OHS_s3atac_2.FULL': 'selected_barcodes/OHS_s3atac_2.FULL_bc_passing_filters_otsu.pkl',\n",
       " 'SAN_10xmultiome_1.FULL': 'selected_barcodes/SAN_10xmultiome_1.FULL_bc_passing_filters_otsu.pkl',\n",
       " 'SAN_10xmultiome_2.FULL': 'selected_barcodes/SAN_10xmultiome_2.FULL_bc_passing_filters_otsu.pkl',\n",
       " 'STA_10xv11_1.FULL': 'selected_barcodes/STA_10xv11_1.FULL_bc_passing_filters_otsu.pkl',\n",
       " 'STA_10xv11_2.FULL': 'selected_barcodes/STA_10xv11_2.FULL_bc_passing_filters_otsu.pkl',\n",
       " 'TXG_10xv11_1.FULL': 'selected_barcodes/TXG_10xv11_1.FULL_bc_passing_filters_otsu.pkl',\n",
       " 'TXG_10xv2_1.FULL': 'selected_barcodes/TXG_10xv2_1.FULL_bc_passing_filters_otsu.pkl',\n",
       " 'TXG_10xv2_2.FULL': 'selected_barcodes/TXG_10xv2_2.FULL_bc_passing_filters_otsu.pkl',\n",
       " 'UCS_ddseq_1.FULL': 'selected_barcodes/UCS_ddseq_1.FULL_bc_passing_filters_otsu.pkl',\n",
       " 'UCS_ddseq_2.FULL': 'selected_barcodes/UCS_ddseq_2.FULL_bc_passing_filters_otsu.pkl',\n",
       " 'VIB_10xmultiome_1.FULL': 'selected_barcodes/VIB_10xmultiome_1.FULL_bc_passing_filters_otsu.pkl',\n",
       " 'VIB_10xmultiome_2.FULL': 'selected_barcodes/VIB_10xmultiome_2.FULL_bc_passing_filters_otsu.pkl',\n",
       " 'VIB_10xv1_1.FULL': 'selected_barcodes/VIB_10xv1_1.FULL_bc_passing_filters_otsu.pkl',\n",
       " 'VIB_10xv1_2.FULL': 'selected_barcodes/VIB_10xv1_2.FULL_bc_passing_filters_otsu.pkl',\n",
       " 'VIB_10xv2_1.FULL': 'selected_barcodes/VIB_10xv2_1.FULL_bc_passing_filters_otsu.pkl',\n",
       " 'VIB_10xv2_2.FULL': 'selected_barcodes/VIB_10xv2_2.FULL_bc_passing_filters_otsu.pkl',\n",
       " 'VIB_hydrop_1.FULL': 'selected_barcodes/VIB_hydrop_1.FULL_bc_passing_filters_otsu.pkl',\n",
       " 'VIB_hydrop_11.FULL': 'selected_barcodes/VIB_hydrop_11.FULL_bc_passing_filters_otsu.pkl',\n",
       " 'VIB_hydrop_12.FULL': 'selected_barcodes/VIB_hydrop_12.FULL_bc_passing_filters_otsu.pkl',\n",
       " 'VIB_hydrop_2.FULL': 'selected_barcodes/VIB_hydrop_2.FULL_bc_passing_filters_otsu.pkl',\n",
       " 'VIB_hydrop_21.FULL': 'selected_barcodes/VIB_hydrop_21.FULL_bc_passing_filters_otsu.pkl',\n",
       " 'VIB_hydrop_22.FULL': 'selected_barcodes/VIB_hydrop_22.FULL_bc_passing_filters_otsu.pkl',\n",
       " 'VIB_mtscatac_1.FULL': 'selected_barcodes/VIB_mtscatac_1.FULL_bc_passing_filters_otsu.pkl',\n",
       " 'VIB_mtscatac_2.FULL': 'selected_barcodes/VIB_mtscatac_2.FULL_bc_passing_filters_otsu.pkl'}"
      ]
     },
     "execution_count": 7,
     "metadata": {},
     "output_type": "execute_result"
    },
    {
     "data": {
      "application/javascript": [
       "\n",
       "            setTimeout(function() {\n",
       "                var nbb_cell_id = 7;\n",
       "                var nbb_unformatted_code = \"bc_passing_filters_sub_dict = {x.split('/')[-1].split(f'_bc_passing_filters_otsu.pkl')[0]: x for x in sorted(glob.glob(\\\"selected_barcodes/*otsu.pkl\\\"))}\\nbc_passing_filters_sub_dict\";\n",
       "                var nbb_formatted_code = \"bc_passing_filters_sub_dict = {\\n    x.split(\\\"/\\\")[-1].split(f\\\"_bc_passing_filters_otsu.pkl\\\")[0]: x\\n    for x in sorted(glob.glob(\\\"selected_barcodes/*otsu.pkl\\\"))\\n}\\nbc_passing_filters_sub_dict\";\n",
       "                var nbb_cells = Jupyter.notebook.get_cells();\n",
       "                for (var i = 0; i < nbb_cells.length; ++i) {\n",
       "                    if (nbb_cells[i].input_prompt_number == nbb_cell_id) {\n",
       "                        if (nbb_cells[i].get_text() == nbb_unformatted_code) {\n",
       "                             nbb_cells[i].set_text(nbb_formatted_code);\n",
       "                        }\n",
       "                        break;\n",
       "                    }\n",
       "                }\n",
       "            }, 500);\n",
       "            "
      ],
      "text/plain": [
       "<IPython.core.display.Javascript object>"
      ]
     },
     "metadata": {},
     "output_type": "display_data"
    }
   ],
   "source": [
    "bc_passing_filters_sub_dict = {x.split('/')[-1].split(f'_bc_passing_filters_otsu.pkl')[0]: x for x in sorted(glob.glob(\"selected_barcodes/*otsu.pkl\"))}\n",
    "bc_passing_filters_sub_dict"
   ]
  },
  {
   "cell_type": "markdown",
   "id": "463c6c22",
   "metadata": {
    "papermill": {
     "duration": 0.007722,
     "end_time": "2022-10-02T12:09:35.982718",
     "exception": false,
     "start_time": "2022-10-02T12:09:35.974996",
     "status": "completed"
    },
    "pycharm": {
     "name": "#%% md\n"
    },
    "tags": []
   },
   "source": [
    "Read bed files for SCREEN regions and blacklist (blacklisted regions in genome where many reads can map)"
   ]
  },
  {
   "cell_type": "code",
   "execution_count": 8,
   "id": "f6f9540f",
   "metadata": {
    "execution": {
     "iopub.execute_input": "2023-02-15T10:43:02.308148Z",
     "iopub.status.busy": "2023-02-15T10:43:02.307768Z",
     "iopub.status.idle": "2023-02-15T10:43:02.314858Z",
     "shell.execute_reply": "2023-02-15T10:43:02.313941Z",
     "shell.execute_reply.started": "2023-02-15T10:43:02.308121Z"
    },
    "papermill": {
     "duration": 0.013106,
     "end_time": "2022-10-02T12:09:36.003629",
     "exception": false,
     "start_time": "2022-10-02T12:09:35.990523",
     "status": "completed"
    },
    "pycharm": {
     "name": "#%%\n"
    },
    "tags": []
   },
   "outputs": [
    {
     "data": {
      "application/javascript": [
       "\n",
       "            setTimeout(function() {\n",
       "                var nbb_cell_id = 8;\n",
       "                var nbb_unformatted_code = \"regions = \\\"../full_3_cistopic_consensus/master_peaks/all.FIXEDCELLS.master_peaks.occurrence_filtered7.bed\\\"\";\n",
       "                var nbb_formatted_code = \"regions = \\\"../full_3_cistopic_consensus/master_peaks/all.FIXEDCELLS.master_peaks.occurrence_filtered7.bed\\\"\";\n",
       "                var nbb_cells = Jupyter.notebook.get_cells();\n",
       "                for (var i = 0; i < nbb_cells.length; ++i) {\n",
       "                    if (nbb_cells[i].input_prompt_number == nbb_cell_id) {\n",
       "                        if (nbb_cells[i].get_text() == nbb_unformatted_code) {\n",
       "                             nbb_cells[i].set_text(nbb_formatted_code);\n",
       "                        }\n",
       "                        break;\n",
       "                    }\n",
       "                }\n",
       "            }, 500);\n",
       "            "
      ],
      "text/plain": [
       "<IPython.core.display.Javascript object>"
      ]
     },
     "metadata": {},
     "output_type": "display_data"
    }
   ],
   "source": [
    "regions = \"../full_3_cistopic_consensus/master_peaks/all.FULL.master_peaks.occurrence_filtered7.bed\""
   ]
  },
  {
   "cell_type": "code",
   "execution_count": 9,
   "id": "ac3f6124-4d62-449a-a4e2-8f2f2167e2ee",
   "metadata": {
    "execution": {
     "iopub.execute_input": "2023-02-15T10:43:02.316298Z",
     "iopub.status.busy": "2023-02-15T10:43:02.315929Z",
     "iopub.status.idle": "2023-02-15T10:43:02.325376Z",
     "shell.execute_reply": "2023-02-15T10:43:02.324271Z",
     "shell.execute_reply.started": "2023-02-15T10:43:02.316275Z"
    },
    "tags": []
   },
   "outputs": [
    {
     "data": {
      "text/plain": [
       "True"
      ]
     },
     "execution_count": 9,
     "metadata": {},
     "output_type": "execute_result"
    },
    {
     "data": {
      "application/javascript": [
       "\n",
       "            setTimeout(function() {\n",
       "                var nbb_cell_id = 9;\n",
       "                var nbb_unformatted_code = \"os.path.exists(regions)\";\n",
       "                var nbb_formatted_code = \"os.path.exists(regions)\";\n",
       "                var nbb_cells = Jupyter.notebook.get_cells();\n",
       "                for (var i = 0; i < nbb_cells.length; ++i) {\n",
       "                    if (nbb_cells[i].input_prompt_number == nbb_cell_id) {\n",
       "                        if (nbb_cells[i].get_text() == nbb_unformatted_code) {\n",
       "                             nbb_cells[i].set_text(nbb_formatted_code);\n",
       "                        }\n",
       "                        break;\n",
       "                    }\n",
       "                }\n",
       "            }, 500);\n",
       "            "
      ],
      "text/plain": [
       "<IPython.core.display.Javascript object>"
      ]
     },
     "metadata": {},
     "output_type": "display_data"
    }
   ],
   "source": [
    "os.path.exists(regions)"
   ]
  },
  {
   "cell_type": "code",
   "execution_count": 10,
   "id": "18de1343",
   "metadata": {
    "execution": {
     "iopub.execute_input": "2023-02-15T10:43:02.329314Z",
     "iopub.status.busy": "2023-02-15T10:43:02.328929Z",
     "iopub.status.idle": "2023-02-15T10:43:02.336381Z",
     "shell.execute_reply": "2023-02-15T10:43:02.335445Z",
     "shell.execute_reply.started": "2023-02-15T10:43:02.329288Z"
    },
    "papermill": {
     "duration": 0.013947,
     "end_time": "2022-10-02T12:09:36.025822",
     "exception": false,
     "start_time": "2022-10-02T12:09:36.011875",
     "status": "completed"
    },
    "pycharm": {
     "name": "#%%\n"
    },
    "tags": []
   },
   "outputs": [
    {
     "data": {
      "application/javascript": [
       "\n",
       "            setTimeout(function() {\n",
       "                var nbb_cell_id = 10;\n",
       "                var nbb_unformatted_code = \"# path_to_regions = '../0_resources/regions/V2.hg38-rDHS-Unfiltered.blacklisted.bed'\\npath_to_blacklist = '../0_resources/regions/hg38-blacklist.v2.bed'\";\n",
       "                var nbb_formatted_code = \"# path_to_regions = '../0_resources/regions/V2.hg38-rDHS-Unfiltered.blacklisted.bed'\\npath_to_blacklist = \\\"../0_resources/regions/hg38-blacklist.v2.bed\\\"\";\n",
       "                var nbb_cells = Jupyter.notebook.get_cells();\n",
       "                for (var i = 0; i < nbb_cells.length; ++i) {\n",
       "                    if (nbb_cells[i].input_prompt_number == nbb_cell_id) {\n",
       "                        if (nbb_cells[i].get_text() == nbb_unformatted_code) {\n",
       "                             nbb_cells[i].set_text(nbb_formatted_code);\n",
       "                        }\n",
       "                        break;\n",
       "                    }\n",
       "                }\n",
       "            }, 500);\n",
       "            "
      ],
      "text/plain": [
       "<IPython.core.display.Javascript object>"
      ]
     },
     "metadata": {},
     "output_type": "display_data"
    }
   ],
   "source": [
    "# path_to_regions = '../0_resources/regions/V2.hg38-rDHS-Unfiltered.blacklisted.bed'\n",
    "path_to_blacklist = '../0_resources/regions/hg38-blacklist.v2.bed'"
   ]
  },
  {
   "cell_type": "markdown",
   "id": "7fb0bc21",
   "metadata": {
    "papermill": {
     "duration": 0.00799,
     "end_time": "2022-10-02T12:09:36.041953",
     "exception": false,
     "start_time": "2022-10-02T12:09:36.033963",
     "status": "completed"
    },
    "pycharm": {
     "name": "#%% md\n"
    },
    "tags": []
   },
   "source": [
    "Create cistopic objects for each sample. If pandas crashes, increase the number of partitions. This is necessary for the largest files."
   ]
  },
  {
   "cell_type": "markdown",
   "id": "cd78453a",
   "metadata": {
    "papermill": {
     "duration": 0.008122,
     "end_time": "2022-10-02T12:09:36.058084",
     "exception": false,
     "start_time": "2022-10-02T12:09:36.049962",
     "status": "completed"
    },
    "pycharm": {
     "name": "#%% md\n"
    },
    "tags": []
   },
   "source": [
    "In the following command, it is important that the barcode syntax matches the fragments, the metadata and the bc_passing filters. That is why the sample name is removed from metadata and bc passing filters."
   ]
  },
  {
   "cell_type": "code",
   "execution_count": 11,
   "id": "1c5d0dc0",
   "metadata": {
    "collapsed": false,
    "execution": {
     "iopub.execute_input": "2023-02-15T10:43:02.337724Z",
     "iopub.status.busy": "2023-02-15T10:43:02.337454Z",
     "iopub.status.idle": "2023-02-15T10:43:08.044524Z",
     "shell.execute_reply": "2023-02-15T10:43:08.042999Z",
     "shell.execute_reply.started": "2023-02-15T10:43:02.337700Z"
    },
    "jupyter": {
     "outputs_hidden": false
    },
    "papermill": {
     "duration": 9.511669,
     "end_time": "2022-10-02T12:09:45.577741",
     "exception": false,
     "start_time": "2022-10-02T12:09:36.066072",
     "status": "completed"
    },
    "pycharm": {
     "name": "#%%\n"
    },
    "tags": []
   },
   "outputs": [
    {
     "data": {
      "application/javascript": [
       "\n",
       "            setTimeout(function() {\n",
       "                var nbb_cell_id = 11;\n",
       "                var nbb_unformatted_code = \"from pycisTopic.cistopic_class import create_cistopic_object_from_fragments\";\n",
       "                var nbb_formatted_code = \"from pycisTopic.cistopic_class import create_cistopic_object_from_fragments\";\n",
       "                var nbb_cells = Jupyter.notebook.get_cells();\n",
       "                for (var i = 0; i < nbb_cells.length; ++i) {\n",
       "                    if (nbb_cells[i].input_prompt_number == nbb_cell_id) {\n",
       "                        if (nbb_cells[i].get_text() == nbb_unformatted_code) {\n",
       "                             nbb_cells[i].set_text(nbb_formatted_code);\n",
       "                        }\n",
       "                        break;\n",
       "                    }\n",
       "                }\n",
       "            }, 500);\n",
       "            "
      ],
      "text/plain": [
       "<IPython.core.display.Javascript object>"
      ]
     },
     "metadata": {},
     "output_type": "display_data"
    }
   ],
   "source": [
    "from pycisTopic.cistopic_class import create_cistopic_object_from_fragments"
   ]
  },
  {
   "cell_type": "code",
   "execution_count": 12,
   "id": "8c784015-f121-4b25-93e0-bcdf4a056278",
   "metadata": {
    "execution": {
     "iopub.execute_input": "2023-02-15T10:43:08.047666Z",
     "iopub.status.busy": "2023-02-15T10:43:08.046682Z",
     "iopub.status.idle": "2023-02-15T10:43:08.056637Z",
     "shell.execute_reply": "2023-02-15T10:43:08.055316Z",
     "shell.execute_reply.started": "2023-02-15T10:43:08.047607Z"
    },
    "tags": []
   },
   "outputs": [
    {
     "data": {
      "application/javascript": [
       "\n",
       "            setTimeout(function() {\n",
       "                var nbb_cell_id = 12;\n",
       "                var nbb_unformatted_code = \"# end test\";\n",
       "                var nbb_formatted_code = \"# end test\";\n",
       "                var nbb_cells = Jupyter.notebook.get_cells();\n",
       "                for (var i = 0; i < nbb_cells.length; ++i) {\n",
       "                    if (nbb_cells[i].input_prompt_number == nbb_cell_id) {\n",
       "                        if (nbb_cells[i].get_text() == nbb_unformatted_code) {\n",
       "                             nbb_cells[i].set_text(nbb_formatted_code);\n",
       "                        }\n",
       "                        break;\n",
       "                    }\n",
       "                }\n",
       "            }, 500);\n",
       "            "
      ],
      "text/plain": [
       "<IPython.core.display.Javascript object>"
      ]
     },
     "metadata": {},
     "output_type": "display_data"
    }
   ],
   "source": [
    "# end test"
   ]
  },
  {
   "cell_type": "code",
   "execution_count": 13,
   "id": "2b8feb0f",
   "metadata": {
    "execution": {
     "iopub.execute_input": "2023-02-15T10:43:08.059460Z",
     "iopub.status.busy": "2023-02-15T10:43:08.058432Z",
     "iopub.status.idle": "2023-02-15T10:43:08.069994Z",
     "shell.execute_reply": "2023-02-15T10:43:08.068784Z",
     "shell.execute_reply.started": "2023-02-15T10:43:08.059413Z"
    },
    "papermill": {
     "duration": 0.015528,
     "end_time": "2022-10-02T12:09:45.602728",
     "exception": false,
     "start_time": "2022-10-02T12:09:45.587200",
     "status": "completed"
    },
    "tags": []
   },
   "outputs": [
    {
     "data": {
      "application/javascript": [
       "\n",
       "            setTimeout(function() {\n",
       "                var nbb_cell_id = 13;\n",
       "                var nbb_unformatted_code = \"import ray\\nray.shutdown()\";\n",
       "                var nbb_formatted_code = \"import ray\\n\\nray.shutdown()\";\n",
       "                var nbb_cells = Jupyter.notebook.get_cells();\n",
       "                for (var i = 0; i < nbb_cells.length; ++i) {\n",
       "                    if (nbb_cells[i].input_prompt_number == nbb_cell_id) {\n",
       "                        if (nbb_cells[i].get_text() == nbb_unformatted_code) {\n",
       "                             nbb_cells[i].set_text(nbb_formatted_code);\n",
       "                        }\n",
       "                        break;\n",
       "                    }\n",
       "                }\n",
       "            }, 500);\n",
       "            "
      ],
      "text/plain": [
       "<IPython.core.display.Javascript object>"
      ]
     },
     "metadata": {},
     "output_type": "display_data"
    }
   ],
   "source": [
    "import ray\n",
    "ray.shutdown()"
   ]
  },
  {
   "cell_type": "code",
   "execution_count": 14,
   "id": "26e964c7",
   "metadata": {
    "execution": {
     "iopub.execute_input": "2023-02-15T10:43:08.072640Z",
     "iopub.status.busy": "2023-02-15T10:43:08.071649Z",
     "iopub.status.idle": "2023-02-15T10:43:08.110064Z",
     "shell.execute_reply": "2023-02-15T10:43:08.109154Z",
     "shell.execute_reply.started": "2023-02-15T10:43:08.072596Z"
    },
    "papermill": {
     "duration": 10641.57325,
     "end_time": "2022-10-02T15:07:07.188646",
     "exception": false,
     "start_time": "2022-10-02T12:09:45.615396",
     "status": "completed"
    },
    "pycharm": {
     "name": "#%%\n"
    },
    "tags": []
   },
   "outputs": [
    {
     "name": "stdout",
     "output_type": "stream",
     "text": [
      "cistopic_objects/BIO_ddseq_1.FULL__cto.pkl already exists, skipping...\n",
      "cistopic_objects/BIO_ddseq_2.FULL__cto.pkl already exists, skipping...\n",
      "cistopic_objects/BIO_ddseq_3.FULL__cto.pkl already exists, skipping...\n",
      "cistopic_objects/BIO_ddseq_4.FULL__cto.pkl already exists, skipping...\n",
      "cistopic_objects/BRO_mtscatac_1.FULL__cto.pkl already exists, skipping...\n",
      "cistopic_objects/BRO_mtscatac_2.FULL__cto.pkl already exists, skipping...\n",
      "cistopic_objects/CNA_10xmultiome_1.FULL__cto.pkl already exists, skipping...\n",
      "cistopic_objects/CNA_10xmultiome_2.FULL__cto.pkl already exists, skipping...\n",
      "cistopic_objects/CNA_10xv11_1.FULL__cto.pkl already exists, skipping...\n",
      "cistopic_objects/CNA_10xv11_2.FULL__cto.pkl already exists, skipping...\n",
      "cistopic_objects/CNA_10xv11_3.FULL__cto.pkl already exists, skipping...\n",
      "cistopic_objects/CNA_10xv11_4.FULL__cto.pkl already exists, skipping...\n",
      "cistopic_objects/CNA_10xv11_5.FULL__cto.pkl already exists, skipping...\n",
      "cistopic_objects/CNA_10xv2_1.FULL__cto.pkl already exists, skipping...\n",
      "cistopic_objects/CNA_10xv2_2.FULL__cto.pkl already exists, skipping...\n",
      "cistopic_objects/CNA_hydrop_1.FULL__cto.pkl already exists, skipping...\n",
      "cistopic_objects/CNA_hydrop_2.FULL__cto.pkl already exists, skipping...\n",
      "cistopic_objects/CNA_hydrop_3.FULL__cto.pkl already exists, skipping...\n",
      "cistopic_objects/CNA_mtscatac_1.FULL__cto.pkl already exists, skipping...\n",
      "cistopic_objects/CNA_mtscatac_2.FULL__cto.pkl already exists, skipping...\n",
      "cistopic_objects/EPF_hydrop_1.FULL__cto.pkl already exists, skipping...\n",
      "cistopic_objects/EPF_hydrop_2.FULL__cto.pkl already exists, skipping...\n",
      "cistopic_objects/EPF_hydrop_3.FULL__cto.pkl already exists, skipping...\n",
      "cistopic_objects/EPF_hydrop_4.FULL__cto.pkl already exists, skipping...\n",
      "cistopic_objects/HAR_ddseq_1.FULL__cto.pkl already exists, skipping...\n",
      "cistopic_objects/HAR_ddseq_2.FULL__cto.pkl already exists, skipping...\n",
      "cistopic_objects/MDC_mtscatac_1.FULL__cto.pkl already exists, skipping...\n",
      "cistopic_objects/MDC_mtscatac_2.FULL__cto.pkl already exists, skipping...\n",
      "cistopic_objects/OHS_s3atac_1.FULL__cto.pkl already exists, skipping...\n",
      "cistopic_objects/OHS_s3atac_2.FULL__cto.pkl already exists, skipping...\n",
      "cistopic_objects/SAN_10xmultiome_1.FULL__cto.pkl already exists, skipping...\n",
      "cistopic_objects/SAN_10xmultiome_2.FULL__cto.pkl already exists, skipping...\n",
      "cistopic_objects/STA_10xv11_1.FULL__cto.pkl already exists, skipping...\n",
      "cistopic_objects/STA_10xv11_2.FULL__cto.pkl already exists, skipping...\n",
      "cistopic_objects/TXG_10xv11_1.FULL__cto.pkl already exists, skipping...\n",
      "cistopic_objects/TXG_10xv2_1.FULL__cto.pkl already exists, skipping...\n",
      "cistopic_objects/TXG_10xv2_2.FULL__cto.pkl already exists, skipping...\n",
      "cistopic_objects/UCS_ddseq_1.FULL__cto.pkl already exists, skipping...\n",
      "cistopic_objects/UCS_ddseq_2.FULL__cto.pkl already exists, skipping...\n",
      "cistopic_objects/VIB_10xmultiome_1.FULL__cto.pkl already exists, skipping...\n",
      "cistopic_objects/VIB_10xmultiome_2.FULL__cto.pkl already exists, skipping...\n",
      "cistopic_objects/VIB_10xv1_1.FULL__cto.pkl already exists, skipping...\n",
      "cistopic_objects/VIB_10xv1_2.FULL__cto.pkl already exists, skipping...\n",
      "cistopic_objects/VIB_10xv2_1.FULL__cto.pkl already exists, skipping...\n",
      "cistopic_objects/VIB_10xv2_2.FULL__cto.pkl already exists, skipping...\n",
      "cistopic_objects/VIB_hydrop_1.FULL__cto.pkl already exists, skipping...\n",
      "cistopic_objects/VIB_hydrop_2.FULL__cto.pkl already exists, skipping...\n"
     ]
    },
    {
     "data": {
      "application/javascript": [
       "\n",
       "            setTimeout(function() {\n",
       "                var nbb_cell_id = 14;\n",
       "                var nbb_unformatted_code = \"n_cores = 10\\nfor sample in metadata_bc_sub_dict.keys():\\n    cto_path = os.path.join(cistopic_objects_out, f\\\"{sample}__cto.pkl\\\")\\n    if not os.path.exists(cto_path):\\n        print(f\\\"{cto_path} does not exist, generating...\\\")\\n\\n        infile = open(metadata_bc_sub_dict[sample], 'rb')\\n        metadata_bc = pickle.load(infile)\\n        metadata_bc.index = [bc.split(\\\"___\\\")[0] for bc in metadata_bc.index]\\n        infile.close()\\n        infile = open(bc_passing_filters_sub_dict[sample], 'rb')\\n        bc_passing_filters = pickle.load(infile)\\n        infile.close()\\n        bc_passing_filters_fixed = [bc.split(\\\"___\\\")[0] for bc in bc_passing_filters]\\n\\n        cto = create_cistopic_object_from_fragments(path_to_fragments=fragments_dict[sample],\\n                                                        path_to_regions=regions,\\n                                                        path_to_blacklist=path_to_blacklist,\\n                                                        metrics=metadata_bc,\\n                                                        valid_bc=bc_passing_filters_fixed,\\n                                                        n_cpu=n_cores,\\n                                                        partition=10,\\n                                                        project=sample)\\n\\n        cto_path = os.path.join(cistopic_objects_out, f\\\"{sample}__cto.pkl\\\")\\n        print(f\\\"Writing {sample} cto in {cto_path}...\\\")\\n\\n        with open(\\n            cto_path, \\\"wb\\\"\\n        ) as f:\\n            pickle.dump(cto, f, protocol=4)\\n    else:\\n        print(f\\\"{cto_path} already exists, skipping...\\\")\";\n",
       "                var nbb_formatted_code = \"n_cores = 10\\nfor sample in metadata_bc_sub_dict.keys():\\n    cto_path = os.path.join(cistopic_objects_out, f\\\"{sample}__cto.pkl\\\")\\n    if not os.path.exists(cto_path):\\n        print(f\\\"{cto_path} does not exist, generating...\\\")\\n\\n        infile = open(metadata_bc_sub_dict[sample], \\\"rb\\\")\\n        metadata_bc = pickle.load(infile)\\n        metadata_bc.index = [bc.split(\\\"___\\\")[0] for bc in metadata_bc.index]\\n        infile.close()\\n        infile = open(bc_passing_filters_sub_dict[sample], \\\"rb\\\")\\n        bc_passing_filters = pickle.load(infile)\\n        infile.close()\\n        bc_passing_filters_fixed = [bc.split(\\\"___\\\")[0] for bc in bc_passing_filters]\\n\\n        cto = create_cistopic_object_from_fragments(\\n            path_to_fragments=fragments_dict[sample],\\n            path_to_regions=regions,\\n            path_to_blacklist=path_to_blacklist,\\n            metrics=metadata_bc,\\n            valid_bc=bc_passing_filters_fixed,\\n            n_cpu=n_cores,\\n            partition=10,\\n            project=sample,\\n        )\\n\\n        cto_path = os.path.join(cistopic_objects_out, f\\\"{sample}__cto.pkl\\\")\\n        print(f\\\"Writing {sample} cto in {cto_path}...\\\")\\n\\n        with open(cto_path, \\\"wb\\\") as f:\\n            pickle.dump(cto, f, protocol=4)\\n    else:\\n        print(f\\\"{cto_path} already exists, skipping...\\\")\";\n",
       "                var nbb_cells = Jupyter.notebook.get_cells();\n",
       "                for (var i = 0; i < nbb_cells.length; ++i) {\n",
       "                    if (nbb_cells[i].input_prompt_number == nbb_cell_id) {\n",
       "                        if (nbb_cells[i].get_text() == nbb_unformatted_code) {\n",
       "                             nbb_cells[i].set_text(nbb_formatted_code);\n",
       "                        }\n",
       "                        break;\n",
       "                    }\n",
       "                }\n",
       "            }, 500);\n",
       "            "
      ],
      "text/plain": [
       "<IPython.core.display.Javascript object>"
      ]
     },
     "metadata": {},
     "output_type": "display_data"
    }
   ],
   "source": [
    "n_cores = 10\n",
    "for sample in metadata_bc_sub_dict.keys():\n",
    "    cto_path = os.path.join(cistopic_objects_out, f\"{sample}__cto.pkl\")\n",
    "    if not os.path.exists(cto_path):\n",
    "        print(f\"{cto_path} does not exist, generating...\")\n",
    "\n",
    "        infile = open(metadata_bc_sub_dict[sample], 'rb')\n",
    "        metadata_bc = pickle.load(infile)\n",
    "        metadata_bc.index = [bc.split(\"___\")[0] for bc in metadata_bc.index]\n",
    "        infile.close()\n",
    "        infile = open(bc_passing_filters_sub_dict[sample], 'rb')\n",
    "        bc_passing_filters = pickle.load(infile)\n",
    "        infile.close()\n",
    "        bc_passing_filters_fixed = [bc.split(\"___\")[0] for bc in bc_passing_filters]\n",
    "\n",
    "        cto = create_cistopic_object_from_fragments(path_to_fragments=fragments_dict[sample],\n",
    "                                                        path_to_regions=regions,\n",
    "                                                        path_to_blacklist=path_to_blacklist,\n",
    "                                                        metrics=metadata_bc,\n",
    "                                                        valid_bc=bc_passing_filters_fixed,\n",
    "                                                        n_cpu=n_cores,\n",
    "                                                        partition=10,\n",
    "                                                        project=sample)\n",
    "\n",
    "        cto_path = os.path.join(cistopic_objects_out, f\"{sample}__cto.pkl\")\n",
    "        print(f\"Writing {sample} cto in {cto_path}...\")\n",
    "\n",
    "        with open(\n",
    "            cto_path, \"wb\"\n",
    "        ) as f:\n",
    "            pickle.dump(cto, f, protocol=4)\n",
    "    else:\n",
    "        print(f\"{cto_path} already exists, skipping...\")"
   ]
  },
  {
   "cell_type": "markdown",
   "id": "f3f098bb",
   "metadata": {
    "papermill": {
     "duration": 0.027575,
     "end_time": "2022-10-02T15:07:07.278019",
     "exception": false,
     "start_time": "2022-10-02T15:07:07.250444",
     "status": "completed"
    },
    "tags": []
   },
   "source": [
    "# Merge"
   ]
  },
  {
   "cell_type": "code",
   "execution_count": 15,
   "id": "61e7f5fb",
   "metadata": {
    "execution": {
     "iopub.execute_input": "2023-02-15T10:43:08.111291Z",
     "iopub.status.busy": "2023-02-15T10:43:08.110968Z",
     "iopub.status.idle": "2023-02-15T10:43:08.117294Z",
     "shell.execute_reply": "2023-02-15T10:43:08.116386Z",
     "shell.execute_reply.started": "2023-02-15T10:43:08.111272Z"
    },
    "papermill": {
     "duration": 0.039389,
     "end_time": "2022-10-02T15:07:07.344919",
     "exception": false,
     "start_time": "2022-10-02T15:07:07.305530",
     "status": "completed"
    },
    "tags": []
   },
   "outputs": [
    {
     "data": {
      "application/javascript": [
       "\n",
       "            setTimeout(function() {\n",
       "                var nbb_cell_id = 15;\n",
       "                var nbb_unformatted_code = \"from pycisTopic.cistopic_class import *\";\n",
       "                var nbb_formatted_code = \"from pycisTopic.cistopic_class import *\";\n",
       "                var nbb_cells = Jupyter.notebook.get_cells();\n",
       "                for (var i = 0; i < nbb_cells.length; ++i) {\n",
       "                    if (nbb_cells[i].input_prompt_number == nbb_cell_id) {\n",
       "                        if (nbb_cells[i].get_text() == nbb_unformatted_code) {\n",
       "                             nbb_cells[i].set_text(nbb_formatted_code);\n",
       "                        }\n",
       "                        break;\n",
       "                    }\n",
       "                }\n",
       "            }, 500);\n",
       "            "
      ],
      "text/plain": [
       "<IPython.core.display.Javascript object>"
      ]
     },
     "metadata": {},
     "output_type": "display_data"
    }
   ],
   "source": [
    "from pycisTopic.cistopic_class import *"
   ]
  },
  {
   "cell_type": "code",
   "execution_count": 16,
   "id": "d6dab9f6",
   "metadata": {
    "execution": {
     "iopub.execute_input": "2023-02-15T10:43:08.118481Z",
     "iopub.status.busy": "2023-02-15T10:43:08.118195Z",
     "iopub.status.idle": "2023-02-15T10:43:08.128626Z",
     "shell.execute_reply": "2023-02-15T10:43:08.127680Z",
     "shell.execute_reply.started": "2023-02-15T10:43:08.118462Z"
    },
    "papermill": {
     "duration": 0.035105,
     "end_time": "2022-10-02T15:07:07.407540",
     "exception": false,
     "start_time": "2022-10-02T15:07:07.372435",
     "status": "completed"
    },
    "tags": []
   },
   "outputs": [
    {
     "data": {
      "text/plain": [
       "['cistopic_objects/VIB_10xv2_1.FULL__cto.pkl',\n",
       " 'cistopic_objects/CNA_mtscatac_1.FULL__cto.pkl',\n",
       " 'cistopic_objects/EPF_hydrop_4.FULL__cto.pkl',\n",
       " 'cistopic_objects/STA_10xv11_1.FULL__cto.pkl',\n",
       " 'cistopic_objects/CNA_10xmultiome_1.FULL__cto.pkl',\n",
       " 'cistopic_objects/TXG_10xv11_1.FULL__cto.pkl',\n",
       " 'cistopic_objects/CNA_10xv11_1.FULL__cto.pkl',\n",
       " 'cistopic_objects/MDC_mtscatac_1.FULL__cto.pkl',\n",
       " 'cistopic_objects/CNA_10xmultiome_2.FULL__cto.pkl',\n",
       " 'cistopic_objects/SAN_10xmultiome_1.FULL__cto.pkl',\n",
       " 'cistopic_objects/OHS_s3atac_1.FULL__cto.pkl',\n",
       " 'cistopic_objects/EPF_hydrop_1.FULL__cto.pkl',\n",
       " 'cistopic_objects/HAR_ddseq_1.FULL__cto.pkl',\n",
       " 'cistopic_objects/UCS_ddseq_1.FULL__cto.pkl',\n",
       " 'cistopic_objects/VIB_10xmultiome_2.FULL__cto.pkl',\n",
       " 'cistopic_objects/BRO_mtscatac_2.FULL__cto.pkl',\n",
       " 'cistopic_objects/EPF_hydrop_2.FULL__cto.pkl',\n",
       " 'cistopic_objects/CNA_10xv11_3.FULL__cto.pkl',\n",
       " 'cistopic_objects/UCS_ddseq_2.FULL__cto.pkl',\n",
       " 'cistopic_objects/BIO_ddseq_3.FULL__cto.pkl',\n",
       " 'cistopic_objects/MDC_mtscatac_2.FULL__cto.pkl',\n",
       " 'cistopic_objects/VIB_hydrop_1.FULL__cto.pkl',\n",
       " 'cistopic_objects/VIB_10xv1_2.FULL__cto.pkl',\n",
       " 'cistopic_objects/VIB_10xmultiome_1.FULL__cto.pkl',\n",
       " 'cistopic_objects/BRO_mtscatac_1.FULL__cto.pkl',\n",
       " 'cistopic_objects/BIO_ddseq_1.FULL__cto.pkl',\n",
       " 'cistopic_objects/HAR_ddseq_2.FULL__cto.pkl',\n",
       " 'cistopic_objects/CNA_10xv11_5.FULL__cto.pkl',\n",
       " 'cistopic_objects/STA_10xv11_2.FULL__cto.pkl',\n",
       " 'cistopic_objects/CNA_mtscatac_2.FULL__cto.pkl',\n",
       " 'cistopic_objects/CNA_10xv11_2.FULL__cto.pkl',\n",
       " 'cistopic_objects/TXG_10xv2_1.FULL__cto.pkl',\n",
       " 'cistopic_objects/VIB_10xv2_2.FULL__cto.pkl',\n",
       " 'cistopic_objects/OHS_s3atac_2.FULL__cto.pkl',\n",
       " 'cistopic_objects/BIO_ddseq_4.FULL__cto.pkl',\n",
       " 'cistopic_objects/VIB_10xv1_1.FULL__cto.pkl',\n",
       " 'cistopic_objects/CNA_hydrop_2.FULL__cto.pkl',\n",
       " 'cistopic_objects/CNA_10xv11_4.FULL__cto.pkl',\n",
       " 'cistopic_objects/EPF_hydrop_3.FULL__cto.pkl',\n",
       " 'cistopic_objects/BIO_ddseq_2.FULL__cto.pkl',\n",
       " 'cistopic_objects/CNA_hydrop_1.FULL__cto.pkl',\n",
       " 'cistopic_objects/SAN_10xmultiome_2.FULL__cto.pkl',\n",
       " 'cistopic_objects/CNA_10xv2_1.FULL__cto.pkl',\n",
       " 'cistopic_objects/CNA_10xv2_2.FULL__cto.pkl',\n",
       " 'cistopic_objects/TXG_10xv2_2.FULL__cto.pkl',\n",
       " 'cistopic_objects/CNA_hydrop_3.FULL__cto.pkl',\n",
       " 'cistopic_objects/VIB_hydrop_2.FULL__cto.pkl']"
      ]
     },
     "execution_count": 16,
     "metadata": {},
     "output_type": "execute_result"
    },
    {
     "data": {
      "application/javascript": [
       "\n",
       "            setTimeout(function() {\n",
       "                var nbb_cell_id = 16;\n",
       "                var nbb_unformatted_code = \"cto_paths_list = glob.glob('cistopic_objects/*_cto.pkl')\\ncto_paths_list\";\n",
       "                var nbb_formatted_code = \"cto_paths_list = glob.glob(\\\"cistopic_objects/*_cto.pkl\\\")\\ncto_paths_list\";\n",
       "                var nbb_cells = Jupyter.notebook.get_cells();\n",
       "                for (var i = 0; i < nbb_cells.length; ++i) {\n",
       "                    if (nbb_cells[i].input_prompt_number == nbb_cell_id) {\n",
       "                        if (nbb_cells[i].get_text() == nbb_unformatted_code) {\n",
       "                             nbb_cells[i].set_text(nbb_formatted_code);\n",
       "                        }\n",
       "                        break;\n",
       "                    }\n",
       "                }\n",
       "            }, 500);\n",
       "            "
      ],
      "text/plain": [
       "<IPython.core.display.Javascript object>"
      ]
     },
     "metadata": {},
     "output_type": "display_data"
    }
   ],
   "source": [
    "cto_paths_list = glob.glob('cistopic_objects/*_cto.pkl')\n",
    "cto_paths_list"
   ]
  },
  {
   "cell_type": "code",
   "execution_count": 17,
   "id": "62efbcea",
   "metadata": {
    "execution": {
     "iopub.execute_input": "2023-02-15T10:43:08.129837Z",
     "iopub.status.busy": "2023-02-15T10:43:08.129609Z",
     "iopub.status.idle": "2023-02-15T10:43:08.146366Z",
     "shell.execute_reply": "2023-02-15T10:43:08.145465Z",
     "shell.execute_reply.started": "2023-02-15T10:43:08.129816Z"
    },
    "papermill": {
     "duration": 1000.429033,
     "end_time": "2022-10-02T15:23:47.863928",
     "exception": true,
     "start_time": "2022-10-02T15:07:07.434895",
     "status": "failed"
    },
    "tags": []
   },
   "outputs": [
    {
     "name": "stdout",
     "output_type": "stream",
     "text": [
      "cistopic_objects/VIB_hydrop_2.FULL__cto.pkl exists\n"
     ]
    },
    {
     "data": {
      "application/javascript": [
       "\n",
       "            setTimeout(function() {\n",
       "                var nbb_cell_id = 17;\n",
       "                var nbb_unformatted_code = \"cto_path_new = 'cistopic_objects_master/master_all_1.FULL__cto.pkl'\\nif not os.path.exists(cto_path_new):\\n    cto_list = []\\n    for file in cto_paths_list:\\n        print(file)\\n        with open(file, 'rb') as f:\\n            cto = pickle.load(f)\\n\\n        cto_list.append(cto)\\n\\n    cto_merged = merge(cto_list)\\n    with open(\\n        cto_path_new, \\\"wb\\\"\\n    ) as f:\\n        pickle.dump(cto_merged, f, protocol=4)\\nelse:\\n    print(cto_path + ' exists')\";\n",
       "                var nbb_formatted_code = \"cto_path_new = \\\"cistopic_objects_master/master_all_1.FULL__cto.pkl\\\"\\nif not os.path.exists(cto_path_new):\\n    cto_list = []\\n    for file in cto_paths_list:\\n        print(file)\\n        with open(file, \\\"rb\\\") as f:\\n            cto = pickle.load(f)\\n\\n        cto_list.append(cto)\\n\\n    cto_merged = merge(cto_list)\\n    with open(cto_path_new, \\\"wb\\\") as f:\\n        pickle.dump(cto_merged, f, protocol=4)\\nelse:\\n    print(cto_path + \\\" exists\\\")\";\n",
       "                var nbb_cells = Jupyter.notebook.get_cells();\n",
       "                for (var i = 0; i < nbb_cells.length; ++i) {\n",
       "                    if (nbb_cells[i].input_prompt_number == nbb_cell_id) {\n",
       "                        if (nbb_cells[i].get_text() == nbb_unformatted_code) {\n",
       "                             nbb_cells[i].set_text(nbb_formatted_code);\n",
       "                        }\n",
       "                        break;\n",
       "                    }\n",
       "                }\n",
       "            }, 500);\n",
       "            "
      ],
      "text/plain": [
       "<IPython.core.display.Javascript object>"
      ]
     },
     "metadata": {},
     "output_type": "display_data"
    }
   ],
   "source": [
    "cto_path_new = 'cistopic_objects_master/master_all_1.FULL__cto.pkl'\n",
    "if not os.path.exists(cto_path_new):\n",
    "    cto_list = []\n",
    "    for file in cto_paths_list:\n",
    "        print(file)\n",
    "        with open(file, 'rb') as f:\n",
    "            cto = pickle.load(f)\n",
    "\n",
    "        cto_list.append(cto)\n",
    "\n",
    "    cto_merged = merge(cto_list)\n",
    "    with open(\n",
    "        cto_path_new, \"wb\"\n",
    "    ) as f:\n",
    "        pickle.dump(cto_merged, f, protocol=4)\n",
    "else:\n",
    "    print(cto_path + ' exists')"
   ]
  },
  {
   "cell_type": "markdown",
   "id": "5071684d",
   "metadata": {
    "papermill": {
     "duration": null,
     "end_time": null,
     "exception": null,
     "start_time": null,
     "status": "pending"
    },
    "pycharm": {
     "name": "#%% md\n"
    },
    "tags": []
   },
   "source": [
    "# Run Scrublet"
   ]
  },
  {
   "cell_type": "code",
   "execution_count": 18,
   "id": "6a03b545",
   "metadata": {
    "execution": {
     "iopub.execute_input": "2023-02-15T10:43:08.147710Z",
     "iopub.status.busy": "2023-02-15T10:43:08.147259Z",
     "iopub.status.idle": "2023-02-15T10:43:08.536650Z",
     "shell.execute_reply": "2023-02-15T10:43:08.535304Z",
     "shell.execute_reply.started": "2023-02-15T10:43:08.147691Z"
    },
    "papermill": {
     "duration": null,
     "end_time": null,
     "exception": null,
     "start_time": null,
     "status": "pending"
    },
    "pycharm": {
     "name": "#%%\n"
    },
    "tags": []
   },
   "outputs": [
    {
     "data": {
      "application/javascript": [
       "\n",
       "            setTimeout(function() {\n",
       "                var nbb_cell_id = 18;\n",
       "                var nbb_unformatted_code = \"import scrublet as scr\\nimport pandas as pd\\nimport matplotlib.pyplot as plt\";\n",
       "                var nbb_formatted_code = \"import scrublet as scr\\nimport pandas as pd\\nimport matplotlib.pyplot as plt\";\n",
       "                var nbb_cells = Jupyter.notebook.get_cells();\n",
       "                for (var i = 0; i < nbb_cells.length; ++i) {\n",
       "                    if (nbb_cells[i].input_prompt_number == nbb_cell_id) {\n",
       "                        if (nbb_cells[i].get_text() == nbb_unformatted_code) {\n",
       "                             nbb_cells[i].set_text(nbb_formatted_code);\n",
       "                        }\n",
       "                        break;\n",
       "                    }\n",
       "                }\n",
       "            }, 500);\n",
       "            "
      ],
      "text/plain": [
       "<IPython.core.display.Javascript object>"
      ]
     },
     "metadata": {},
     "output_type": "display_data"
    }
   ],
   "source": [
    "import scrublet as scr\n",
    "import pandas as pd\n",
    "import matplotlib.pyplot as plt"
   ]
  },
  {
   "cell_type": "code",
   "execution_count": 19,
   "id": "250b5823",
   "metadata": {
    "execution": {
     "iopub.execute_input": "2023-02-15T10:43:08.539231Z",
     "iopub.status.busy": "2023-02-15T10:43:08.538529Z",
     "iopub.status.idle": "2023-02-15T10:43:08.557507Z",
     "shell.execute_reply": "2023-02-15T10:43:08.556404Z",
     "shell.execute_reply.started": "2023-02-15T10:43:08.539185Z"
    },
    "papermill": {
     "duration": null,
     "end_time": null,
     "exception": null,
     "start_time": null,
     "status": "pending"
    },
    "pycharm": {
     "name": "#%%\n"
    },
    "tags": []
   },
   "outputs": [
    {
     "data": {
      "text/plain": [
       "{'master_all_1.FULL': 'cistopic_objects_master/master_all_1.FULL__cto.pkl'}"
      ]
     },
     "execution_count": 19,
     "metadata": {},
     "output_type": "execute_result"
    },
    {
     "data": {
      "application/javascript": [
       "\n",
       "            setTimeout(function() {\n",
       "                var nbb_cell_id = 19;\n",
       "                var nbb_unformatted_code = \"cto_dict = {x.split('/')[-1].split('__cto.pkl')[0]:x for x in sorted(glob.glob('cistopic_objects_master/*cto.pkl'))}\\ncto_dict\";\n",
       "                var nbb_formatted_code = \"cto_dict = {\\n    x.split(\\\"/\\\")[-1].split(\\\"__cto.pkl\\\")[0]: x\\n    for x in sorted(glob.glob(\\\"cistopic_objects_master/*cto.pkl\\\"))\\n}\\ncto_dict\";\n",
       "                var nbb_cells = Jupyter.notebook.get_cells();\n",
       "                for (var i = 0; i < nbb_cells.length; ++i) {\n",
       "                    if (nbb_cells[i].input_prompt_number == nbb_cell_id) {\n",
       "                        if (nbb_cells[i].get_text() == nbb_unformatted_code) {\n",
       "                             nbb_cells[i].set_text(nbb_formatted_code);\n",
       "                        }\n",
       "                        break;\n",
       "                    }\n",
       "                }\n",
       "            }, 500);\n",
       "            "
      ],
      "text/plain": [
       "<IPython.core.display.Javascript object>"
      ]
     },
     "metadata": {},
     "output_type": "display_data"
    }
   ],
   "source": [
    "cto_dict = {x.split('/')[-1].split('__cto.pkl')[0]:x for x in sorted(glob.glob('cistopic_objects_master/*cto.pkl'))}\n",
    "cto_dict"
   ]
  },
  {
   "cell_type": "code",
   "execution_count": 20,
   "id": "c307528c",
   "metadata": {
    "execution": {
     "iopub.execute_input": "2023-02-15T10:43:08.559340Z",
     "iopub.status.busy": "2023-02-15T10:43:08.558867Z",
     "iopub.status.idle": "2023-02-15T10:43:08.578138Z",
     "shell.execute_reply": "2023-02-15T10:43:08.577185Z",
     "shell.execute_reply.started": "2023-02-15T10:43:08.559310Z"
    },
    "papermill": {
     "duration": null,
     "end_time": null,
     "exception": null,
     "start_time": null,
     "status": "pending"
    },
    "pycharm": {
     "name": "#%%\n"
    },
    "tags": []
   },
   "outputs": [
    {
     "name": "stdout",
     "output_type": "stream",
     "text": [
      "Checking if cistopic_objects_master/master_all_1.FULL__cto.scrublet0-4.pkl exist...\n",
      "\tcistopic_objects_master/master_all_1.FULL__cto.scrublet0-4.pkl exists! Skipping...\n"
     ]
    },
    {
     "data": {
      "application/javascript": [
       "\n",
       "            setTimeout(function() {\n",
       "                var nbb_cell_id = 20;\n",
       "                var nbb_unformatted_code = \"fragments_sub_dict = {}\\nscrubcto_dict = {}\\nscrub_threshold = 0.4\\nscrub_name_suffix = \\\"0-4\\\"\\n#regions_sub_dict = {}\\nfor sample in cto_dict:\\n    cto = os.path.join('cistopic_objects_master', sample + f\\\"__cto.scrublet{scrub_name_suffix}.pkl\\\")\\n    print(f\\\"Checking if {cto} exist...\\\")\\n    if os.path.exists(cto):\\n        print(f\\\"\\\\t{cto} exists! Skipping...\\\")\\n    else:\\n        print(f\\\"\\\\t{cto} does not exist, adding to subdict to generate\\\")\\n        scrubcto_dict[sample] = cto\";\n",
       "                var nbb_formatted_code = \"fragments_sub_dict = {}\\nscrubcto_dict = {}\\nscrub_threshold = 0.4\\nscrub_name_suffix = \\\"0-4\\\"\\n# regions_sub_dict = {}\\nfor sample in cto_dict:\\n    cto = os.path.join(\\n        \\\"cistopic_objects_master\\\", sample + f\\\"__cto.scrublet{scrub_name_suffix}.pkl\\\"\\n    )\\n    print(f\\\"Checking if {cto} exist...\\\")\\n    if os.path.exists(cto):\\n        print(f\\\"\\\\t{cto} exists! Skipping...\\\")\\n    else:\\n        print(f\\\"\\\\t{cto} does not exist, adding to subdict to generate\\\")\\n        scrubcto_dict[sample] = cto\";\n",
       "                var nbb_cells = Jupyter.notebook.get_cells();\n",
       "                for (var i = 0; i < nbb_cells.length; ++i) {\n",
       "                    if (nbb_cells[i].input_prompt_number == nbb_cell_id) {\n",
       "                        if (nbb_cells[i].get_text() == nbb_unformatted_code) {\n",
       "                             nbb_cells[i].set_text(nbb_formatted_code);\n",
       "                        }\n",
       "                        break;\n",
       "                    }\n",
       "                }\n",
       "            }, 500);\n",
       "            "
      ],
      "text/plain": [
       "<IPython.core.display.Javascript object>"
      ]
     },
     "metadata": {},
     "output_type": "display_data"
    }
   ],
   "source": [
    "fragments_sub_dict = {}\n",
    "scrubcto_dict = {}\n",
    "scrub_threshold = 0.4\n",
    "scrub_name_suffix = \"0-4\"\n",
    "#regions_sub_dict = {}\n",
    "for sample in cto_dict:\n",
    "    cto = os.path.join('cistopic_objects_master', sample + f\"__cto.scrublet{scrub_name_suffix}.pkl\")\n",
    "    print(f\"Checking if {cto} exist...\")\n",
    "    if os.path.exists(cto):\n",
    "        print(f\"\\t{cto} exists! Skipping...\")\n",
    "    else:\n",
    "        print(f\"\\t{cto} does not exist, adding to subdict to generate\")\n",
    "        scrubcto_dict[sample] = cto"
   ]
  },
  {
   "cell_type": "code",
   "execution_count": 21,
   "id": "977e65ca",
   "metadata": {
    "execution": {
     "iopub.execute_input": "2023-02-15T10:43:08.579435Z",
     "iopub.status.busy": "2023-02-15T10:43:08.579191Z",
     "iopub.status.idle": "2023-02-15T10:43:08.608232Z",
     "shell.execute_reply": "2023-02-15T10:43:08.607338Z",
     "shell.execute_reply.started": "2023-02-15T10:43:08.579413Z"
    },
    "papermill": {
     "duration": null,
     "end_time": null,
     "exception": null,
     "start_time": null,
     "status": "pending"
    },
    "pycharm": {
     "name": "#%%\n"
    },
    "tags": []
   },
   "outputs": [
    {
     "data": {
      "application/javascript": [
       "\n",
       "            setTimeout(function() {\n",
       "                var nbb_cell_id = 21;\n",
       "                var nbb_unformatted_code = \"if cto_dict != {}:\\n    for sample in scrubcto_dict.keys():\\n        with open(cto_dict[sample], 'rb') as f:\\n            cto = pickle.load(f)\\n        print(f\\\"Loaded {cto_dict[sample]}\\\")\\n        scrub = scr.Scrublet(cto.fragment_matrix.T, expected_doublet_rate=0.1)\\n        doublet_scores, predicted_doublets = scrub.scrub_doublets()\\n        # scrub.plot_histogram()\\n        scrub.call_doublets(threshold=scrub_threshold)\\n        a,b = scrub.plot_histogram()\\n        a.suptitle(sample)\\n        plt.savefig(f'plots_qc/{sample}.scrublet_histogram.png', dpi=150, facecolor='white')\\n        plt.show()\\n        plt.close()\\n\\n        print('Running UMAP...')\\n        scrub.set_embedding('UMAP', scr.get_umap(scrub.manifold_obs_, 10, min_dist=0.3))\\n        scrub.plot_embedding('UMAP', order_points=True);\\n        plt.savefig(f'plots_qc/{sample}.scrublet_umap.png', dpi=150, facecolor='white')\\n        plt.show()\\n        plt.close()\\n\\n        scrublet = pd.DataFrame([scrub.doublet_scores_obs_, scrub.predicted_doublets_], \\n            columns=cto.cell_names,\\n            index=['Doublet_scores_fragments', 'Predicted_doublets_fragments']).T\\n        cto.add_cell_data(scrublet)\\n        n_scrublet_doublets = len(cto.cell_data[\\\"Predicted_doublets_fragments\\\"] == True)\\n        print(f\\\"{sample}: found doublets: \\\\n\\\\t({n_scrublet_doublets}: Scrublet)\\\"\\n             )\\n\\n        cto_path_new = scrubcto_dict[sample]\\n\\n        with open(\\n            cto_path_new, \\\"wb\\\"\\n        ) as f:\\n            pickle.dump(cto, f, protocol=4)\\n\\n        print('\\\\n')\\n        \\nelse:\\n    print(\\\"All samples already processed.\\\")\";\n",
       "                var nbb_formatted_code = \"if cto_dict != {}:\\n    for sample in scrubcto_dict.keys():\\n        with open(cto_dict[sample], \\\"rb\\\") as f:\\n            cto = pickle.load(f)\\n        print(f\\\"Loaded {cto_dict[sample]}\\\")\\n        scrub = scr.Scrublet(cto.fragment_matrix.T, expected_doublet_rate=0.1)\\n        doublet_scores, predicted_doublets = scrub.scrub_doublets()\\n        # scrub.plot_histogram()\\n        scrub.call_doublets(threshold=scrub_threshold)\\n        a, b = scrub.plot_histogram()\\n        a.suptitle(sample)\\n        plt.savefig(\\n            f\\\"plots_qc/{sample}.scrublet_histogram.png\\\", dpi=150, facecolor=\\\"white\\\"\\n        )\\n        plt.show()\\n        plt.close()\\n\\n        print(\\\"Running UMAP...\\\")\\n        scrub.set_embedding(\\\"UMAP\\\", scr.get_umap(scrub.manifold_obs_, 10, min_dist=0.3))\\n        scrub.plot_embedding(\\\"UMAP\\\", order_points=True)\\n        plt.savefig(f\\\"plots_qc/{sample}.scrublet_umap.png\\\", dpi=150, facecolor=\\\"white\\\")\\n        plt.show()\\n        plt.close()\\n\\n        scrublet = pd.DataFrame(\\n            [scrub.doublet_scores_obs_, scrub.predicted_doublets_],\\n            columns=cto.cell_names,\\n            index=[\\\"Doublet_scores_fragments\\\", \\\"Predicted_doublets_fragments\\\"],\\n        ).T\\n        cto.add_cell_data(scrublet)\\n        n_scrublet_doublets = len(cto.cell_data[\\\"Predicted_doublets_fragments\\\"] == True)\\n        print(f\\\"{sample}: found doublets: \\\\n\\\\t({n_scrublet_doublets}: Scrublet)\\\")\\n\\n        cto_path_new = scrubcto_dict[sample]\\n\\n        with open(cto_path_new, \\\"wb\\\") as f:\\n            pickle.dump(cto, f, protocol=4)\\n\\n        print(\\\"\\\\n\\\")\\n\\nelse:\\n    print(\\\"All samples already processed.\\\")\";\n",
       "                var nbb_cells = Jupyter.notebook.get_cells();\n",
       "                for (var i = 0; i < nbb_cells.length; ++i) {\n",
       "                    if (nbb_cells[i].input_prompt_number == nbb_cell_id) {\n",
       "                        if (nbb_cells[i].get_text() == nbb_unformatted_code) {\n",
       "                             nbb_cells[i].set_text(nbb_formatted_code);\n",
       "                        }\n",
       "                        break;\n",
       "                    }\n",
       "                }\n",
       "            }, 500);\n",
       "            "
      ],
      "text/plain": [
       "<IPython.core.display.Javascript object>"
      ]
     },
     "metadata": {},
     "output_type": "display_data"
    }
   ],
   "source": [
    "if cto_dict != {}:\n",
    "    for sample in scrubcto_dict.keys():\n",
    "        with open(cto_dict[sample], 'rb') as f:\n",
    "            cto = pickle.load(f)\n",
    "        print(f\"Loaded {cto_dict[sample]}\")\n",
    "        scrub = scr.Scrublet(cto.fragment_matrix.T, expected_doublet_rate=0.1)\n",
    "        doublet_scores, predicted_doublets = scrub.scrub_doublets()\n",
    "        # scrub.plot_histogram()\n",
    "        scrub.call_doublets(threshold=scrub_threshold)\n",
    "        a,b = scrub.plot_histogram()\n",
    "        a.suptitle(sample)\n",
    "        plt.savefig(f'plots_qc/{sample}.scrublet_histogram.png', dpi=150, facecolor='white')\n",
    "        plt.show()\n",
    "        plt.close()\n",
    "\n",
    "        print('Running UMAP...')\n",
    "        scrub.set_embedding('UMAP', scr.get_umap(scrub.manifold_obs_, 10, min_dist=0.3))\n",
    "        scrub.plot_embedding('UMAP', order_points=True);\n",
    "        plt.savefig(f'plots_qc/{sample}.scrublet_umap.png', dpi=150, facecolor='white')\n",
    "        plt.show()\n",
    "        plt.close()\n",
    "\n",
    "        scrublet = pd.DataFrame([scrub.doublet_scores_obs_, scrub.predicted_doublets_], \n",
    "            columns=cto.cell_names,\n",
    "            index=['Doublet_scores_fragments', 'Predicted_doublets_fragments']).T\n",
    "        cto.add_cell_data(scrublet)\n",
    "        n_scrublet_doublets = len(cto.cell_data[\"Predicted_doublets_fragments\"] == True)\n",
    "        print(f\"{sample}: found doublets: \\n\\t({n_scrublet_doublets}: Scrublet)\"\n",
    "             )\n",
    "\n",
    "        cto_path_new = scrubcto_dict[sample]\n",
    "\n",
    "        with open(\n",
    "            cto_path_new, \"wb\"\n",
    "        ) as f:\n",
    "            pickle.dump(cto, f, protocol=4)\n",
    "\n",
    "        print('\\n')\n",
    "        \n",
    "else:\n",
    "    print(\"All samples already processed.\")"
   ]
  },
  {
   "cell_type": "markdown",
   "id": "43250a24",
   "metadata": {
    "papermill": {
     "duration": null,
     "end_time": null,
     "exception": null,
     "start_time": null,
     "status": "pending"
    },
    "pycharm": {
     "name": "#%% md\n"
    },
    "tags": []
   },
   "source": [
    "## Cell filtering"
   ]
  },
  {
   "cell_type": "markdown",
   "id": "e530f392",
   "metadata": {
    "papermill": {
     "duration": null,
     "end_time": null,
     "exception": null,
     "start_time": null,
     "status": "pending"
    },
    "pycharm": {
     "name": "#%% md\n"
    },
    "tags": []
   },
   "source": [
    "### Read in Freemuxlet doublet predictions"
   ]
  },
  {
   "cell_type": "code",
   "execution_count": 22,
   "id": "6f383d3e",
   "metadata": {
    "execution": {
     "iopub.execute_input": "2023-02-15T10:43:08.609856Z",
     "iopub.status.busy": "2023-02-15T10:43:08.609130Z",
     "iopub.status.idle": "2023-02-15T10:43:09.134762Z",
     "shell.execute_reply": "2023-02-15T10:43:09.133824Z",
     "shell.execute_reply.started": "2023-02-15T10:43:08.609837Z"
    },
    "papermill": {
     "duration": null,
     "end_time": null,
     "exception": null,
     "start_time": null,
     "status": "pending"
    },
    "pycharm": {
     "name": "#%%\n"
    },
    "tags": []
   },
   "outputs": [
    {
     "data": {
      "text/html": [
       "<div>\n",
       "<style scoped>\n",
       "    .dataframe tbody tr th:only-of-type {\n",
       "        vertical-align: middle;\n",
       "    }\n",
       "\n",
       "    .dataframe tbody tr th {\n",
       "        vertical-align: top;\n",
       "    }\n",
       "\n",
       "    .dataframe thead th {\n",
       "        text-align: right;\n",
       "    }\n",
       "</style>\n",
       "<table border=\"1\" class=\"dataframe\">\n",
       "  <thead>\n",
       "    <tr style=\"text-align: right;\">\n",
       "      <th></th>\n",
       "      <th>INT_ID</th>\n",
       "      <th>BARCODE</th>\n",
       "      <th>NUM.SNPS</th>\n",
       "      <th>NUM.READS</th>\n",
       "      <th>DROPLET.TYPE</th>\n",
       "      <th>BEST.GUESS</th>\n",
       "      <th>BEST.LLK</th>\n",
       "      <th>NEXT.GUESS</th>\n",
       "      <th>NEXT.LLK</th>\n",
       "      <th>DIFF.LLK.BEST.NEXT</th>\n",
       "      <th>...</th>\n",
       "      <th>SNG.BEST.LLK</th>\n",
       "      <th>SNG.NEXT.GUESS</th>\n",
       "      <th>SNG.NEXT.LLK</th>\n",
       "      <th>SNG.ONLY.POSTERIOR</th>\n",
       "      <th>DBL.BEST.GUESS</th>\n",
       "      <th>DBL.BEST.LLK</th>\n",
       "      <th>DIFF.LLK.SNG.DBL</th>\n",
       "      <th>ubarcode</th>\n",
       "      <th>replicate</th>\n",
       "      <th>sample</th>\n",
       "    </tr>\n",
       "  </thead>\n",
       "  <tbody>\n",
       "    <tr>\n",
       "      <th>CNA_mtscatac_1.FULL.1</th>\n",
       "      <td>0</td>\n",
       "      <td>GTCCCAGGAAAGGCCA</td>\n",
       "      <td>2339</td>\n",
       "      <td>2339</td>\n",
       "      <td>SNG</td>\n",
       "      <td>1,1</td>\n",
       "      <td>-4102.33</td>\n",
       "      <td>1,0</td>\n",
       "      <td>-4403.45</td>\n",
       "      <td>301.12</td>\n",
       "      <td>...</td>\n",
       "      <td>-4102.33</td>\n",
       "      <td>0</td>\n",
       "      <td>-5006.85</td>\n",
       "      <td>1.00000</td>\n",
       "      <td>1,0</td>\n",
       "      <td>-4403.45</td>\n",
       "      <td>301.12</td>\n",
       "      <td>CNA_mtscatac_1.FULL#GTCCCAGGAAAGGCCA</td>\n",
       "      <td>CNA_mtscatac_1.FULL</td>\n",
       "      <td>sampleA</td>\n",
       "    </tr>\n",
       "    <tr>\n",
       "      <th>CNA_mtscatac_1.FULL.2</th>\n",
       "      <td>1</td>\n",
       "      <td>TGCGAGGCTCTGCCAG</td>\n",
       "      <td>1738</td>\n",
       "      <td>1738</td>\n",
       "      <td>SNG</td>\n",
       "      <td>0,0</td>\n",
       "      <td>-3068.55</td>\n",
       "      <td>1,0</td>\n",
       "      <td>-3307.30</td>\n",
       "      <td>238.75</td>\n",
       "      <td>...</td>\n",
       "      <td>-3068.55</td>\n",
       "      <td>1</td>\n",
       "      <td>-3808.83</td>\n",
       "      <td>1.00000</td>\n",
       "      <td>1,0</td>\n",
       "      <td>-3307.30</td>\n",
       "      <td>238.75</td>\n",
       "      <td>CNA_mtscatac_1.FULL#TGCGAGGCTCTGCCAG</td>\n",
       "      <td>CNA_mtscatac_1.FULL</td>\n",
       "      <td>sampleB</td>\n",
       "    </tr>\n",
       "    <tr>\n",
       "      <th>CNA_mtscatac_1.FULL.3</th>\n",
       "      <td>2</td>\n",
       "      <td>AGCGTATACCAATAGA</td>\n",
       "      <td>5432</td>\n",
       "      <td>5432</td>\n",
       "      <td>SNG</td>\n",
       "      <td>1,1</td>\n",
       "      <td>-9844.04</td>\n",
       "      <td>1,0</td>\n",
       "      <td>-10194.35</td>\n",
       "      <td>350.30</td>\n",
       "      <td>...</td>\n",
       "      <td>-9844.04</td>\n",
       "      <td>0</td>\n",
       "      <td>-11116.48</td>\n",
       "      <td>1.00000</td>\n",
       "      <td>1,0</td>\n",
       "      <td>-10194.35</td>\n",
       "      <td>350.30</td>\n",
       "      <td>CNA_mtscatac_1.FULL#AGCGTATACCAATAGA</td>\n",
       "      <td>CNA_mtscatac_1.FULL</td>\n",
       "      <td>sampleA</td>\n",
       "    </tr>\n",
       "    <tr>\n",
       "      <th>CNA_mtscatac_1.FULL.4</th>\n",
       "      <td>3</td>\n",
       "      <td>TGTCGAAACGACCGAA</td>\n",
       "      <td>1196</td>\n",
       "      <td>1196</td>\n",
       "      <td>SNG</td>\n",
       "      <td>1,1</td>\n",
       "      <td>-2089.42</td>\n",
       "      <td>1,0</td>\n",
       "      <td>-2240.71</td>\n",
       "      <td>151.28</td>\n",
       "      <td>...</td>\n",
       "      <td>-2089.42</td>\n",
       "      <td>0</td>\n",
       "      <td>-2537.00</td>\n",
       "      <td>1.00000</td>\n",
       "      <td>1,0</td>\n",
       "      <td>-2240.71</td>\n",
       "      <td>151.28</td>\n",
       "      <td>CNA_mtscatac_1.FULL#TGTCGAAACGACCGAA</td>\n",
       "      <td>CNA_mtscatac_1.FULL</td>\n",
       "      <td>sampleA</td>\n",
       "    </tr>\n",
       "    <tr>\n",
       "      <th>CNA_mtscatac_1.FULL.5</th>\n",
       "      <td>4</td>\n",
       "      <td>AGGTCAGGACGGTTGC</td>\n",
       "      <td>6424</td>\n",
       "      <td>6424</td>\n",
       "      <td>SNG</td>\n",
       "      <td>1,1</td>\n",
       "      <td>-11307.49</td>\n",
       "      <td>1,0</td>\n",
       "      <td>-12145.77</td>\n",
       "      <td>838.28</td>\n",
       "      <td>...</td>\n",
       "      <td>-11307.49</td>\n",
       "      <td>0</td>\n",
       "      <td>-13886.90</td>\n",
       "      <td>1.00000</td>\n",
       "      <td>1,0</td>\n",
       "      <td>-12145.77</td>\n",
       "      <td>838.28</td>\n",
       "      <td>CNA_mtscatac_1.FULL#AGGTCAGGACGGTTGC</td>\n",
       "      <td>CNA_mtscatac_1.FULL</td>\n",
       "      <td>sampleA</td>\n",
       "    </tr>\n",
       "    <tr>\n",
       "      <th>...</th>\n",
       "      <td>...</td>\n",
       "      <td>...</td>\n",
       "      <td>...</td>\n",
       "      <td>...</td>\n",
       "      <td>...</td>\n",
       "      <td>...</td>\n",
       "      <td>...</td>\n",
       "      <td>...</td>\n",
       "      <td>...</td>\n",
       "      <td>...</td>\n",
       "      <td>...</td>\n",
       "      <td>...</td>\n",
       "      <td>...</td>\n",
       "      <td>...</td>\n",
       "      <td>...</td>\n",
       "      <td>...</td>\n",
       "      <td>...</td>\n",
       "      <td>...</td>\n",
       "      <td>...</td>\n",
       "      <td>...</td>\n",
       "      <td>...</td>\n",
       "    </tr>\n",
       "    <tr>\n",
       "      <th>VIB_hydrop_22.FULL.965</th>\n",
       "      <td>964</td>\n",
       "      <td>TAACCGAATCTCTCGCACGA</td>\n",
       "      <td>227</td>\n",
       "      <td>227</td>\n",
       "      <td>SNG</td>\n",
       "      <td>0,0</td>\n",
       "      <td>-404.03</td>\n",
       "      <td>1,0</td>\n",
       "      <td>-432.16</td>\n",
       "      <td>28.13</td>\n",
       "      <td>...</td>\n",
       "      <td>-404.03</td>\n",
       "      <td>1</td>\n",
       "      <td>-495.29</td>\n",
       "      <td>1.00000</td>\n",
       "      <td>1,0</td>\n",
       "      <td>-432.16</td>\n",
       "      <td>28.13</td>\n",
       "      <td>VIB_hydrop_22.FULL#TAACCGAATCTCTCGCACGA</td>\n",
       "      <td>VIB_hydrop_22.FULL</td>\n",
       "      <td>sampleB</td>\n",
       "    </tr>\n",
       "    <tr>\n",
       "      <th>VIB_hydrop_22.FULL.966</th>\n",
       "      <td>965</td>\n",
       "      <td>AACGATACCATGCTTGCCGT</td>\n",
       "      <td>175</td>\n",
       "      <td>175</td>\n",
       "      <td>SNG</td>\n",
       "      <td>0,0</td>\n",
       "      <td>-315.26</td>\n",
       "      <td>1,0</td>\n",
       "      <td>-335.18</td>\n",
       "      <td>19.92</td>\n",
       "      <td>...</td>\n",
       "      <td>-315.26</td>\n",
       "      <td>1</td>\n",
       "      <td>-385.62</td>\n",
       "      <td>1.00000</td>\n",
       "      <td>1,0</td>\n",
       "      <td>-335.18</td>\n",
       "      <td>19.92</td>\n",
       "      <td>VIB_hydrop_22.FULL#AACGATACCATGCTTGCCGT</td>\n",
       "      <td>VIB_hydrop_22.FULL</td>\n",
       "      <td>sampleB</td>\n",
       "    </tr>\n",
       "    <tr>\n",
       "      <th>VIB_hydrop_22.FULL.967</th>\n",
       "      <td>966</td>\n",
       "      <td>GATTGGCGGTGTCCAGGCTT</td>\n",
       "      <td>274</td>\n",
       "      <td>274</td>\n",
       "      <td>SNG</td>\n",
       "      <td>0,0</td>\n",
       "      <td>-481.27</td>\n",
       "      <td>1,0</td>\n",
       "      <td>-513.34</td>\n",
       "      <td>32.07</td>\n",
       "      <td>...</td>\n",
       "      <td>-481.27</td>\n",
       "      <td>1</td>\n",
       "      <td>-582.89</td>\n",
       "      <td>1.00000</td>\n",
       "      <td>1,0</td>\n",
       "      <td>-513.34</td>\n",
       "      <td>32.07</td>\n",
       "      <td>VIB_hydrop_22.FULL#GATTGGCGGTGTCCAGGCTT</td>\n",
       "      <td>VIB_hydrop_22.FULL</td>\n",
       "      <td>sampleB</td>\n",
       "    </tr>\n",
       "    <tr>\n",
       "      <th>VIB_hydrop_22.FULL.968</th>\n",
       "      <td>967</td>\n",
       "      <td>CGTTGACCACGGTAGGTAGG</td>\n",
       "      <td>172</td>\n",
       "      <td>172</td>\n",
       "      <td>SNG</td>\n",
       "      <td>1,1</td>\n",
       "      <td>-312.80</td>\n",
       "      <td>1,0</td>\n",
       "      <td>-321.39</td>\n",
       "      <td>8.59</td>\n",
       "      <td>...</td>\n",
       "      <td>-312.80</td>\n",
       "      <td>0</td>\n",
       "      <td>-342.76</td>\n",
       "      <td>1.00000</td>\n",
       "      <td>1,0</td>\n",
       "      <td>-321.39</td>\n",
       "      <td>8.59</td>\n",
       "      <td>VIB_hydrop_22.FULL#CGTTGACCACGGTAGGTAGG</td>\n",
       "      <td>VIB_hydrop_22.FULL</td>\n",
       "      <td>sampleA</td>\n",
       "    </tr>\n",
       "    <tr>\n",
       "      <th>VIB_hydrop_22.FULL.969</th>\n",
       "      <td>968</td>\n",
       "      <td>ACGAGTTGCCACGGTGCTCT</td>\n",
       "      <td>196</td>\n",
       "      <td>196</td>\n",
       "      <td>SNG</td>\n",
       "      <td>1,1</td>\n",
       "      <td>-359.42</td>\n",
       "      <td>1,0</td>\n",
       "      <td>-358.65</td>\n",
       "      <td>-0.77</td>\n",
       "      <td>...</td>\n",
       "      <td>-359.42</td>\n",
       "      <td>0</td>\n",
       "      <td>-369.17</td>\n",
       "      <td>0.99994</td>\n",
       "      <td>1,0</td>\n",
       "      <td>-358.65</td>\n",
       "      <td>-0.77</td>\n",
       "      <td>VIB_hydrop_22.FULL#ACGAGTTGCCACGGTGCTCT</td>\n",
       "      <td>VIB_hydrop_22.FULL</td>\n",
       "      <td>sampleA</td>\n",
       "    </tr>\n",
       "  </tbody>\n",
       "</table>\n",
       "<p>116783 rows × 23 columns</p>\n",
       "</div>"
      ],
      "text/plain": [
       "                        INT_ID               BARCODE  NUM.SNPS  NUM.READS  \\\n",
       "CNA_mtscatac_1.FULL.1        0      GTCCCAGGAAAGGCCA      2339       2339   \n",
       "CNA_mtscatac_1.FULL.2        1      TGCGAGGCTCTGCCAG      1738       1738   \n",
       "CNA_mtscatac_1.FULL.3        2      AGCGTATACCAATAGA      5432       5432   \n",
       "CNA_mtscatac_1.FULL.4        3      TGTCGAAACGACCGAA      1196       1196   \n",
       "CNA_mtscatac_1.FULL.5        4      AGGTCAGGACGGTTGC      6424       6424   \n",
       "...                        ...                   ...       ...        ...   \n",
       "VIB_hydrop_22.FULL.965     964  TAACCGAATCTCTCGCACGA       227        227   \n",
       "VIB_hydrop_22.FULL.966     965  AACGATACCATGCTTGCCGT       175        175   \n",
       "VIB_hydrop_22.FULL.967     966  GATTGGCGGTGTCCAGGCTT       274        274   \n",
       "VIB_hydrop_22.FULL.968     967  CGTTGACCACGGTAGGTAGG       172        172   \n",
       "VIB_hydrop_22.FULL.969     968  ACGAGTTGCCACGGTGCTCT       196        196   \n",
       "\n",
       "                       DROPLET.TYPE BEST.GUESS  BEST.LLK NEXT.GUESS  NEXT.LLK  \\\n",
       "CNA_mtscatac_1.FULL.1           SNG        1,1  -4102.33        1,0  -4403.45   \n",
       "CNA_mtscatac_1.FULL.2           SNG        0,0  -3068.55        1,0  -3307.30   \n",
       "CNA_mtscatac_1.FULL.3           SNG        1,1  -9844.04        1,0 -10194.35   \n",
       "CNA_mtscatac_1.FULL.4           SNG        1,1  -2089.42        1,0  -2240.71   \n",
       "CNA_mtscatac_1.FULL.5           SNG        1,1 -11307.49        1,0 -12145.77   \n",
       "...                             ...        ...       ...        ...       ...   \n",
       "VIB_hydrop_22.FULL.965          SNG        0,0   -404.03        1,0   -432.16   \n",
       "VIB_hydrop_22.FULL.966          SNG        0,0   -315.26        1,0   -335.18   \n",
       "VIB_hydrop_22.FULL.967          SNG        0,0   -481.27        1,0   -513.34   \n",
       "VIB_hydrop_22.FULL.968          SNG        1,1   -312.80        1,0   -321.39   \n",
       "VIB_hydrop_22.FULL.969          SNG        1,1   -359.42        1,0   -358.65   \n",
       "\n",
       "                        DIFF.LLK.BEST.NEXT  ...  SNG.BEST.LLK  SNG.NEXT.GUESS  \\\n",
       "CNA_mtscatac_1.FULL.1               301.12  ...      -4102.33               0   \n",
       "CNA_mtscatac_1.FULL.2               238.75  ...      -3068.55               1   \n",
       "CNA_mtscatac_1.FULL.3               350.30  ...      -9844.04               0   \n",
       "CNA_mtscatac_1.FULL.4               151.28  ...      -2089.42               0   \n",
       "CNA_mtscatac_1.FULL.5               838.28  ...     -11307.49               0   \n",
       "...                                    ...  ...           ...             ...   \n",
       "VIB_hydrop_22.FULL.965               28.13  ...       -404.03               1   \n",
       "VIB_hydrop_22.FULL.966               19.92  ...       -315.26               1   \n",
       "VIB_hydrop_22.FULL.967               32.07  ...       -481.27               1   \n",
       "VIB_hydrop_22.FULL.968                8.59  ...       -312.80               0   \n",
       "VIB_hydrop_22.FULL.969               -0.77  ...       -359.42               0   \n",
       "\n",
       "                        SNG.NEXT.LLK  SNG.ONLY.POSTERIOR  DBL.BEST.GUESS  \\\n",
       "CNA_mtscatac_1.FULL.1       -5006.85             1.00000             1,0   \n",
       "CNA_mtscatac_1.FULL.2       -3808.83             1.00000             1,0   \n",
       "CNA_mtscatac_1.FULL.3      -11116.48             1.00000             1,0   \n",
       "CNA_mtscatac_1.FULL.4       -2537.00             1.00000             1,0   \n",
       "CNA_mtscatac_1.FULL.5      -13886.90             1.00000             1,0   \n",
       "...                              ...                 ...             ...   \n",
       "VIB_hydrop_22.FULL.965       -495.29             1.00000             1,0   \n",
       "VIB_hydrop_22.FULL.966       -385.62             1.00000             1,0   \n",
       "VIB_hydrop_22.FULL.967       -582.89             1.00000             1,0   \n",
       "VIB_hydrop_22.FULL.968       -342.76             1.00000             1,0   \n",
       "VIB_hydrop_22.FULL.969       -369.17             0.99994             1,0   \n",
       "\n",
       "                        DBL.BEST.LLK  DIFF.LLK.SNG.DBL  \\\n",
       "CNA_mtscatac_1.FULL.1       -4403.45            301.12   \n",
       "CNA_mtscatac_1.FULL.2       -3307.30            238.75   \n",
       "CNA_mtscatac_1.FULL.3      -10194.35            350.30   \n",
       "CNA_mtscatac_1.FULL.4       -2240.71            151.28   \n",
       "CNA_mtscatac_1.FULL.5      -12145.77            838.28   \n",
       "...                              ...               ...   \n",
       "VIB_hydrop_22.FULL.965       -432.16             28.13   \n",
       "VIB_hydrop_22.FULL.966       -335.18             19.92   \n",
       "VIB_hydrop_22.FULL.967       -513.34             32.07   \n",
       "VIB_hydrop_22.FULL.968       -321.39              8.59   \n",
       "VIB_hydrop_22.FULL.969       -358.65             -0.77   \n",
       "\n",
       "                                                       ubarcode  \\\n",
       "CNA_mtscatac_1.FULL.1      CNA_mtscatac_1.FULL#GTCCCAGGAAAGGCCA   \n",
       "CNA_mtscatac_1.FULL.2      CNA_mtscatac_1.FULL#TGCGAGGCTCTGCCAG   \n",
       "CNA_mtscatac_1.FULL.3      CNA_mtscatac_1.FULL#AGCGTATACCAATAGA   \n",
       "CNA_mtscatac_1.FULL.4      CNA_mtscatac_1.FULL#TGTCGAAACGACCGAA   \n",
       "CNA_mtscatac_1.FULL.5      CNA_mtscatac_1.FULL#AGGTCAGGACGGTTGC   \n",
       "...                                                         ...   \n",
       "VIB_hydrop_22.FULL.965  VIB_hydrop_22.FULL#TAACCGAATCTCTCGCACGA   \n",
       "VIB_hydrop_22.FULL.966  VIB_hydrop_22.FULL#AACGATACCATGCTTGCCGT   \n",
       "VIB_hydrop_22.FULL.967  VIB_hydrop_22.FULL#GATTGGCGGTGTCCAGGCTT   \n",
       "VIB_hydrop_22.FULL.968  VIB_hydrop_22.FULL#CGTTGACCACGGTAGGTAGG   \n",
       "VIB_hydrop_22.FULL.969  VIB_hydrop_22.FULL#ACGAGTTGCCACGGTGCTCT   \n",
       "\n",
       "                                  replicate   sample  \n",
       "CNA_mtscatac_1.FULL.1   CNA_mtscatac_1.FULL  sampleA  \n",
       "CNA_mtscatac_1.FULL.2   CNA_mtscatac_1.FULL  sampleB  \n",
       "CNA_mtscatac_1.FULL.3   CNA_mtscatac_1.FULL  sampleA  \n",
       "CNA_mtscatac_1.FULL.4   CNA_mtscatac_1.FULL  sampleA  \n",
       "CNA_mtscatac_1.FULL.5   CNA_mtscatac_1.FULL  sampleA  \n",
       "...                                     ...      ...  \n",
       "VIB_hydrop_22.FULL.965   VIB_hydrop_22.FULL  sampleB  \n",
       "VIB_hydrop_22.FULL.966   VIB_hydrop_22.FULL  sampleB  \n",
       "VIB_hydrop_22.FULL.967   VIB_hydrop_22.FULL  sampleB  \n",
       "VIB_hydrop_22.FULL.968   VIB_hydrop_22.FULL  sampleA  \n",
       "VIB_hydrop_22.FULL.969   VIB_hydrop_22.FULL  sampleA  \n",
       "\n",
       "[116783 rows x 23 columns]"
      ]
     },
     "execution_count": 22,
     "metadata": {},
     "output_type": "execute_result"
    },
    {
     "data": {
      "application/javascript": [
       "\n",
       "            setTimeout(function() {\n",
       "                var nbb_cell_id = 22;\n",
       "                var nbb_unformatted_code = \"f_fmx = 'out_fmx/genotype_concordance_unified.txt'\\nfmx = pd.read_csv(f_fmx, sep='\\\\t')\\nfmx\";\n",
       "                var nbb_formatted_code = \"f_fmx = \\\"out_fmx/genotype_concordance_unified.txt\\\"\\nfmx = pd.read_csv(f_fmx, sep=\\\"\\\\t\\\")\\nfmx\";\n",
       "                var nbb_cells = Jupyter.notebook.get_cells();\n",
       "                for (var i = 0; i < nbb_cells.length; ++i) {\n",
       "                    if (nbb_cells[i].input_prompt_number == nbb_cell_id) {\n",
       "                        if (nbb_cells[i].get_text() == nbb_unformatted_code) {\n",
       "                             nbb_cells[i].set_text(nbb_formatted_code);\n",
       "                        }\n",
       "                        break;\n",
       "                    }\n",
       "                }\n",
       "            }, 500);\n",
       "            "
      ],
      "text/plain": [
       "<IPython.core.display.Javascript object>"
      ]
     },
     "metadata": {},
     "output_type": "display_data"
    }
   ],
   "source": [
    "f_fmx = 'out_fmx/genotype_concordance_unified.txt'\n",
    "fmx = pd.read_csv(f_fmx, sep='\\t')\n",
    "fmx"
   ]
  },
  {
   "cell_type": "code",
   "execution_count": 23,
   "id": "0d042e89",
   "metadata": {
    "execution": {
     "iopub.execute_input": "2023-02-15T10:43:09.135968Z",
     "iopub.status.busy": "2023-02-15T10:43:09.135748Z",
     "iopub.status.idle": "2023-02-15T10:43:09.156060Z",
     "shell.execute_reply": "2023-02-15T10:43:09.155045Z",
     "shell.execute_reply.started": "2023-02-15T10:43:09.135949Z"
    },
    "papermill": {
     "duration": null,
     "end_time": null,
     "exception": null,
     "start_time": null,
     "status": "pending"
    },
    "pycharm": {
     "name": "#%%\n"
    },
    "tags": []
   },
   "outputs": [
    {
     "data": {
      "text/plain": [
       "array(['SNG', 'DBL'], dtype=object)"
      ]
     },
     "execution_count": 23,
     "metadata": {},
     "output_type": "execute_result"
    },
    {
     "data": {
      "application/javascript": [
       "\n",
       "            setTimeout(function() {\n",
       "                var nbb_cell_id = 23;\n",
       "                var nbb_unformatted_code = \"fmx['DROPLET.TYPE'].unique()\";\n",
       "                var nbb_formatted_code = \"fmx[\\\"DROPLET.TYPE\\\"].unique()\";\n",
       "                var nbb_cells = Jupyter.notebook.get_cells();\n",
       "                for (var i = 0; i < nbb_cells.length; ++i) {\n",
       "                    if (nbb_cells[i].input_prompt_number == nbb_cell_id) {\n",
       "                        if (nbb_cells[i].get_text() == nbb_unformatted_code) {\n",
       "                             nbb_cells[i].set_text(nbb_formatted_code);\n",
       "                        }\n",
       "                        break;\n",
       "                    }\n",
       "                }\n",
       "            }, 500);\n",
       "            "
      ],
      "text/plain": [
       "<IPython.core.display.Javascript object>"
      ]
     },
     "metadata": {},
     "output_type": "display_data"
    }
   ],
   "source": [
    "fmx['DROPLET.TYPE'].unique()"
   ]
  },
  {
   "cell_type": "code",
   "execution_count": 24,
   "id": "f5903f3b",
   "metadata": {
    "execution": {
     "iopub.execute_input": "2023-02-15T10:43:09.158018Z",
     "iopub.status.busy": "2023-02-15T10:43:09.157702Z",
     "iopub.status.idle": "2023-02-15T10:43:09.223445Z",
     "shell.execute_reply": "2023-02-15T10:43:09.222493Z",
     "shell.execute_reply.started": "2023-02-15T10:43:09.157991Z"
    },
    "papermill": {
     "duration": null,
     "end_time": null,
     "exception": null,
     "start_time": null,
     "status": "pending"
    },
    "pycharm": {
     "name": "#%%\n"
    },
    "tags": []
   },
   "outputs": [
    {
     "data": {
      "text/html": [
       "<div>\n",
       "<style scoped>\n",
       "    .dataframe tbody tr th:only-of-type {\n",
       "        vertical-align: middle;\n",
       "    }\n",
       "\n",
       "    .dataframe tbody tr th {\n",
       "        vertical-align: top;\n",
       "    }\n",
       "\n",
       "    .dataframe thead th {\n",
       "        text-align: right;\n",
       "    }\n",
       "</style>\n",
       "<table border=\"1\" class=\"dataframe\">\n",
       "  <thead>\n",
       "    <tr style=\"text-align: right;\">\n",
       "      <th></th>\n",
       "      <th>fmx_droplet_type</th>\n",
       "      <th>fmx_sample</th>\n",
       "    </tr>\n",
       "    <tr>\n",
       "      <th>cell_names</th>\n",
       "      <th></th>\n",
       "      <th></th>\n",
       "    </tr>\n",
       "  </thead>\n",
       "  <tbody>\n",
       "    <tr>\n",
       "      <th>GTCCCAGGAAAGGCCA___CNA_mtscatac_1.FULL</th>\n",
       "      <td>SNG</td>\n",
       "      <td>sampleA</td>\n",
       "    </tr>\n",
       "    <tr>\n",
       "      <th>TGCGAGGCTCTGCCAG___CNA_mtscatac_1.FULL</th>\n",
       "      <td>SNG</td>\n",
       "      <td>sampleB</td>\n",
       "    </tr>\n",
       "    <tr>\n",
       "      <th>AGCGTATACCAATAGA___CNA_mtscatac_1.FULL</th>\n",
       "      <td>SNG</td>\n",
       "      <td>sampleA</td>\n",
       "    </tr>\n",
       "    <tr>\n",
       "      <th>TGTCGAAACGACCGAA___CNA_mtscatac_1.FULL</th>\n",
       "      <td>SNG</td>\n",
       "      <td>sampleA</td>\n",
       "    </tr>\n",
       "    <tr>\n",
       "      <th>AGGTCAGGACGGTTGC___CNA_mtscatac_1.FULL</th>\n",
       "      <td>SNG</td>\n",
       "      <td>sampleA</td>\n",
       "    </tr>\n",
       "    <tr>\n",
       "      <th>...</th>\n",
       "      <td>...</td>\n",
       "      <td>...</td>\n",
       "    </tr>\n",
       "    <tr>\n",
       "      <th>TAACCGAATCTCTCGCACGA___VIB_hydrop_22.FULL</th>\n",
       "      <td>SNG</td>\n",
       "      <td>sampleB</td>\n",
       "    </tr>\n",
       "    <tr>\n",
       "      <th>AACGATACCATGCTTGCCGT___VIB_hydrop_22.FULL</th>\n",
       "      <td>SNG</td>\n",
       "      <td>sampleB</td>\n",
       "    </tr>\n",
       "    <tr>\n",
       "      <th>GATTGGCGGTGTCCAGGCTT___VIB_hydrop_22.FULL</th>\n",
       "      <td>SNG</td>\n",
       "      <td>sampleB</td>\n",
       "    </tr>\n",
       "    <tr>\n",
       "      <th>CGTTGACCACGGTAGGTAGG___VIB_hydrop_22.FULL</th>\n",
       "      <td>SNG</td>\n",
       "      <td>sampleA</td>\n",
       "    </tr>\n",
       "    <tr>\n",
       "      <th>ACGAGTTGCCACGGTGCTCT___VIB_hydrop_22.FULL</th>\n",
       "      <td>SNG</td>\n",
       "      <td>sampleA</td>\n",
       "    </tr>\n",
       "  </tbody>\n",
       "</table>\n",
       "<p>116783 rows × 2 columns</p>\n",
       "</div>"
      ],
      "text/plain": [
       "                                          fmx_droplet_type fmx_sample\n",
       "cell_names                                                           \n",
       "GTCCCAGGAAAGGCCA___CNA_mtscatac_1.FULL                 SNG    sampleA\n",
       "TGCGAGGCTCTGCCAG___CNA_mtscatac_1.FULL                 SNG    sampleB\n",
       "AGCGTATACCAATAGA___CNA_mtscatac_1.FULL                 SNG    sampleA\n",
       "TGTCGAAACGACCGAA___CNA_mtscatac_1.FULL                 SNG    sampleA\n",
       "AGGTCAGGACGGTTGC___CNA_mtscatac_1.FULL                 SNG    sampleA\n",
       "...                                                    ...        ...\n",
       "TAACCGAATCTCTCGCACGA___VIB_hydrop_22.FULL              SNG    sampleB\n",
       "AACGATACCATGCTTGCCGT___VIB_hydrop_22.FULL              SNG    sampleB\n",
       "GATTGGCGGTGTCCAGGCTT___VIB_hydrop_22.FULL              SNG    sampleB\n",
       "CGTTGACCACGGTAGGTAGG___VIB_hydrop_22.FULL              SNG    sampleA\n",
       "ACGAGTTGCCACGGTGCTCT___VIB_hydrop_22.FULL              SNG    sampleA\n",
       "\n",
       "[116783 rows x 2 columns]"
      ]
     },
     "execution_count": 24,
     "metadata": {},
     "output_type": "execute_result"
    },
    {
     "data": {
      "application/javascript": [
       "\n",
       "            setTimeout(function() {\n",
       "                var nbb_cell_id = 24;\n",
       "                var nbb_unformatted_code = \"# create an annotation df:\\nfmx['cell_names'] = fmx['BARCODE'] + \\\"___\\\" + fmx['replicate']\\n\\nfmx_annot = fmx[['DROPLET.TYPE','sample','cell_names']].copy().set_index('cell_names')\\nfmx_annot.columns = ['fmx_droplet_type','fmx_sample']\\nfmx_annot\";\n",
       "                var nbb_formatted_code = \"# create an annotation df:\\nfmx[\\\"cell_names\\\"] = fmx[\\\"BARCODE\\\"] + \\\"___\\\" + fmx[\\\"replicate\\\"]\\n\\nfmx_annot = fmx[[\\\"DROPLET.TYPE\\\", \\\"sample\\\", \\\"cell_names\\\"]].copy().set_index(\\\"cell_names\\\")\\nfmx_annot.columns = [\\\"fmx_droplet_type\\\", \\\"fmx_sample\\\"]\\nfmx_annot\";\n",
       "                var nbb_cells = Jupyter.notebook.get_cells();\n",
       "                for (var i = 0; i < nbb_cells.length; ++i) {\n",
       "                    if (nbb_cells[i].input_prompt_number == nbb_cell_id) {\n",
       "                        if (nbb_cells[i].get_text() == nbb_unformatted_code) {\n",
       "                             nbb_cells[i].set_text(nbb_formatted_code);\n",
       "                        }\n",
       "                        break;\n",
       "                    }\n",
       "                }\n",
       "            }, 500);\n",
       "            "
      ],
      "text/plain": [
       "<IPython.core.display.Javascript object>"
      ]
     },
     "metadata": {},
     "output_type": "display_data"
    }
   ],
   "source": [
    "# create an annotation df:\n",
    "fmx['cell_names'] = fmx['BARCODE'] + \"___\" + fmx['replicate']\n",
    "\n",
    "fmx_annot = fmx[['DROPLET.TYPE','sample','cell_names']].copy().set_index('cell_names')\n",
    "fmx_annot.columns = ['fmx_droplet_type','fmx_sample']\n",
    "fmx_annot"
   ]
  },
  {
   "cell_type": "markdown",
   "id": "480cc8a7",
   "metadata": {
    "papermill": {
     "duration": null,
     "end_time": null,
     "exception": null,
     "start_time": null,
     "status": "pending"
    },
    "pycharm": {
     "name": "#%% md\n"
    },
    "tags": []
   },
   "source": [
    "# Read scrublet ctos"
   ]
  },
  {
   "cell_type": "code",
   "execution_count": 25,
   "id": "e10da333",
   "metadata": {
    "execution": {
     "iopub.execute_input": "2023-02-15T10:43:09.224659Z",
     "iopub.status.busy": "2023-02-15T10:43:09.224435Z",
     "iopub.status.idle": "2023-02-15T10:43:09.236444Z",
     "shell.execute_reply": "2023-02-15T10:43:09.235557Z",
     "shell.execute_reply.started": "2023-02-15T10:43:09.224639Z"
    },
    "papermill": {
     "duration": null,
     "end_time": null,
     "exception": null,
     "start_time": null,
     "status": "pending"
    },
    "pycharm": {
     "name": "#%%\n"
    },
    "tags": []
   },
   "outputs": [
    {
     "data": {
      "text/plain": [
       "{'master_all_1.FULL': 'cistopic_objects_master/master_all_1.FULL__cto.scrublet0-4.pkl'}"
      ]
     },
     "execution_count": 25,
     "metadata": {},
     "output_type": "execute_result"
    },
    {
     "data": {
      "application/javascript": [
       "\n",
       "            setTimeout(function() {\n",
       "                var nbb_cell_id = 25;\n",
       "                var nbb_unformatted_code = \"scrubcto_dict = {x.split('/')[-1].split(f'__cto.scrublet{scrub_name_suffix}.pkl')[0]:x for x in sorted(glob.glob(f'cistopic_objects_master/*__cto.scrublet{scrub_name_suffix}.pkl'))}\\nscrubcto_dict\";\n",
       "                var nbb_formatted_code = \"scrubcto_dict = {\\n    x.split(\\\"/\\\")[-1].split(f\\\"__cto.scrublet{scrub_name_suffix}.pkl\\\")[0]: x\\n    for x in sorted(\\n        glob.glob(f\\\"cistopic_objects_master/*__cto.scrublet{scrub_name_suffix}.pkl\\\")\\n    )\\n}\\nscrubcto_dict\";\n",
       "                var nbb_cells = Jupyter.notebook.get_cells();\n",
       "                for (var i = 0; i < nbb_cells.length; ++i) {\n",
       "                    if (nbb_cells[i].input_prompt_number == nbb_cell_id) {\n",
       "                        if (nbb_cells[i].get_text() == nbb_unformatted_code) {\n",
       "                             nbb_cells[i].set_text(nbb_formatted_code);\n",
       "                        }\n",
       "                        break;\n",
       "                    }\n",
       "                }\n",
       "            }, 500);\n",
       "            "
      ],
      "text/plain": [
       "<IPython.core.display.Javascript object>"
      ]
     },
     "metadata": {},
     "output_type": "display_data"
    }
   ],
   "source": [
    "scrubcto_dict = {x.split('/')[-1].split(f'__cto.scrublet{scrub_name_suffix}.pkl')[0]:x for x in sorted(glob.glob(f'cistopic_objects_master/*__cto.scrublet{scrub_name_suffix}.pkl'))}\n",
    "scrubcto_dict"
   ]
  },
  {
   "cell_type": "code",
   "execution_count": 26,
   "id": "34c7130d",
   "metadata": {
    "execution": {
     "iopub.execute_input": "2023-02-15T10:43:09.237749Z",
     "iopub.status.busy": "2023-02-15T10:43:09.237352Z",
     "iopub.status.idle": "2023-02-15T10:43:09.245427Z",
     "shell.execute_reply": "2023-02-15T10:43:09.244414Z",
     "shell.execute_reply.started": "2023-02-15T10:43:09.237730Z"
    },
    "papermill": {
     "duration": null,
     "end_time": null,
     "exception": null,
     "start_time": null,
     "status": "pending"
    },
    "tags": []
   },
   "outputs": [
    {
     "data": {
      "text/plain": [
       "1"
      ]
     },
     "execution_count": 26,
     "metadata": {},
     "output_type": "execute_result"
    },
    {
     "data": {
      "application/javascript": [
       "\n",
       "            setTimeout(function() {\n",
       "                var nbb_cell_id = 26;\n",
       "                var nbb_unformatted_code = \"len(scrubcto_dict)\";\n",
       "                var nbb_formatted_code = \"len(scrubcto_dict)\";\n",
       "                var nbb_cells = Jupyter.notebook.get_cells();\n",
       "                for (var i = 0; i < nbb_cells.length; ++i) {\n",
       "                    if (nbb_cells[i].input_prompt_number == nbb_cell_id) {\n",
       "                        if (nbb_cells[i].get_text() == nbb_unformatted_code) {\n",
       "                             nbb_cells[i].set_text(nbb_formatted_code);\n",
       "                        }\n",
       "                        break;\n",
       "                    }\n",
       "                }\n",
       "            }, 500);\n",
       "            "
      ],
      "text/plain": [
       "<IPython.core.display.Javascript object>"
      ]
     },
     "metadata": {},
     "output_type": "display_data"
    }
   ],
   "source": [
    "len(scrubcto_dict)"
   ]
  },
  {
   "cell_type": "code",
   "execution_count": 27,
   "id": "cc8b7a10",
   "metadata": {
    "execution": {
     "iopub.execute_input": "2023-02-15T10:43:09.246821Z",
     "iopub.status.busy": "2023-02-15T10:43:09.246427Z",
     "iopub.status.idle": "2023-02-15T10:43:09.257797Z",
     "shell.execute_reply": "2023-02-15T10:43:09.256895Z",
     "shell.execute_reply.started": "2023-02-15T10:43:09.246796Z"
    },
    "papermill": {
     "duration": null,
     "end_time": null,
     "exception": null,
     "start_time": null,
     "status": "pending"
    },
    "tags": []
   },
   "outputs": [
    {
     "data": {
      "application/javascript": [
       "\n",
       "            setTimeout(function() {\n",
       "                var nbb_cell_id = 27;\n",
       "                var nbb_unformatted_code = \"non_fmx_samples = ['BIO_ddseq_1.FULL',\\n'BIO_ddseq_2.FULL',\\n'BIO_ddseq_3.FULL',\\n'BIO_ddseq_4.FULL',\\n'OHS_s3atac_2.FULL',\\n'TXG_10xv11_1.FULL',\\n'TXG_10xv2_1.FULL',\\n'TXG_10xv2_2.FULL',\\n'UCS_ddseq_1.FULL',\\n'UCS_ddseq_2.FULL']\";\n",
       "                var nbb_formatted_code = \"non_fmx_samples = [\\n    \\\"BIO_ddseq_1.FULL\\\",\\n    \\\"BIO_ddseq_2.FULL\\\",\\n    \\\"BIO_ddseq_3.FULL\\\",\\n    \\\"BIO_ddseq_4.FULL\\\",\\n    \\\"OHS_s3atac_2.FULL\\\",\\n    \\\"TXG_10xv11_1.FULL\\\",\\n    \\\"TXG_10xv2_1.FULL\\\",\\n    \\\"TXG_10xv2_2.FULL\\\",\\n    \\\"UCS_ddseq_1.FULL\\\",\\n    \\\"UCS_ddseq_2.FULL\\\",\\n]\";\n",
       "                var nbb_cells = Jupyter.notebook.get_cells();\n",
       "                for (var i = 0; i < nbb_cells.length; ++i) {\n",
       "                    if (nbb_cells[i].input_prompt_number == nbb_cell_id) {\n",
       "                        if (nbb_cells[i].get_text() == nbb_unformatted_code) {\n",
       "                             nbb_cells[i].set_text(nbb_formatted_code);\n",
       "                        }\n",
       "                        break;\n",
       "                    }\n",
       "                }\n",
       "            }, 500);\n",
       "            "
      ],
      "text/plain": [
       "<IPython.core.display.Javascript object>"
      ]
     },
     "metadata": {},
     "output_type": "display_data"
    }
   ],
   "source": [
    "non_fmx_samples = ['BIO_ddseq_1.FULL',\n",
    "'BIO_ddseq_2.FULL',\n",
    "'BIO_ddseq_3.FULL',\n",
    "'BIO_ddseq_4.FULL',\n",
    "'OHS_s3atac_2.FULL',\n",
    "'TXG_10xv11_1.FULL',\n",
    "'TXG_10xv2_1.FULL',\n",
    "'TXG_10xv2_2.FULL',\n",
    "'UCS_ddseq_1.FULL',\n",
    "'UCS_ddseq_2.FULL']"
   ]
  },
  {
   "cell_type": "code",
   "execution_count": 28,
   "id": "ea96fa01",
   "metadata": {
    "execution": {
     "iopub.execute_input": "2023-02-15T10:43:09.262181Z",
     "iopub.status.busy": "2023-02-15T10:43:09.261837Z",
     "iopub.status.idle": "2023-02-15T10:43:09.320049Z",
     "shell.execute_reply": "2023-02-15T10:43:09.319162Z",
     "shell.execute_reply.started": "2023-02-15T10:43:09.262153Z"
    },
    "papermill": {
     "duration": null,
     "end_time": null,
     "exception": null,
     "start_time": null,
     "status": "pending"
    },
    "tags": []
   },
   "outputs": [
    {
     "data": {
      "text/plain": [
       "{'BRO_mtscatac_1.FULL',\n",
       " 'BRO_mtscatac_2.FULL',\n",
       " 'CNA_10xmultiome_1.FULL',\n",
       " 'CNA_10xmultiome_2.FULL',\n",
       " 'CNA_10xv11_1.FULL',\n",
       " 'CNA_10xv11_2.FULL',\n",
       " 'CNA_10xv11_3.FULL',\n",
       " 'CNA_10xv11_4.FULL',\n",
       " 'CNA_10xv11_5.FULL',\n",
       " 'CNA_10xv2_1.FULL',\n",
       " 'CNA_10xv2_2.FULL',\n",
       " 'CNA_hydrop_1.FULL',\n",
       " 'CNA_hydrop_2.FULL',\n",
       " 'CNA_hydrop_3.FULL',\n",
       " 'CNA_mtscatac_1.FULL',\n",
       " 'CNA_mtscatac_2.FULL',\n",
       " 'EPF_hydrop_1.FULL',\n",
       " 'EPF_hydrop_2.FULL',\n",
       " 'EPF_hydrop_3.FULL',\n",
       " 'EPF_hydrop_4.FULL',\n",
       " 'HAR_ddseq_1.FULL',\n",
       " 'HAR_ddseq_2.FULL',\n",
       " 'MDC_mtscatac_1.FULL',\n",
       " 'MDC_mtscatac_2.FULL',\n",
       " 'SAN_10xmultiome_1.FULL',\n",
       " 'SAN_10xmultiome_2.FULL',\n",
       " 'STA_10xv11_1.FULL',\n",
       " 'STA_10xv11_2.FULL',\n",
       " 'VIB_10xmultiome_1.FULL',\n",
       " 'VIB_10xmultiome_2.FULL',\n",
       " 'VIB_10xv1_1.FULL',\n",
       " 'VIB_10xv1_2.FULL',\n",
       " 'VIB_10xv2_1.FULL',\n",
       " 'VIB_10xv2_2.FULL',\n",
       " 'VIB_hydrop_11.FULL',\n",
       " 'VIB_hydrop_12.FULL',\n",
       " 'VIB_hydrop_21.FULL',\n",
       " 'VIB_hydrop_22.FULL'}"
      ]
     },
     "execution_count": 28,
     "metadata": {},
     "output_type": "execute_result"
    },
    {
     "data": {
      "application/javascript": [
       "\n",
       "            setTimeout(function() {\n",
       "                var nbb_cell_id = 28;\n",
       "                var nbb_unformatted_code = \"fmx_samples_run = set([x.split('___')[-1] for x in fmx_annot.index])\\nfmx_samples_run\";\n",
       "                var nbb_formatted_code = \"fmx_samples_run = set([x.split(\\\"___\\\")[-1] for x in fmx_annot.index])\\nfmx_samples_run\";\n",
       "                var nbb_cells = Jupyter.notebook.get_cells();\n",
       "                for (var i = 0; i < nbb_cells.length; ++i) {\n",
       "                    if (nbb_cells[i].input_prompt_number == nbb_cell_id) {\n",
       "                        if (nbb_cells[i].get_text() == nbb_unformatted_code) {\n",
       "                             nbb_cells[i].set_text(nbb_formatted_code);\n",
       "                        }\n",
       "                        break;\n",
       "                    }\n",
       "                }\n",
       "            }, 500);\n",
       "            "
      ],
      "text/plain": [
       "<IPython.core.display.Javascript object>"
      ]
     },
     "metadata": {},
     "output_type": "display_data"
    }
   ],
   "source": [
    "fmx_samples_run = set([x.split('___')[-1] for x in fmx_annot.index])\n",
    "fmx_samples_run"
   ]
  },
  {
   "cell_type": "code",
   "execution_count": 29,
   "id": "d9be78d1",
   "metadata": {
    "execution": {
     "iopub.execute_input": "2023-02-15T10:43:09.320941Z",
     "iopub.status.busy": "2023-02-15T10:43:09.320752Z",
     "iopub.status.idle": "2023-02-15T10:43:09.332567Z",
     "shell.execute_reply": "2023-02-15T10:43:09.331533Z",
     "shell.execute_reply.started": "2023-02-15T10:43:09.320923Z"
    },
    "papermill": {
     "duration": null,
     "end_time": null,
     "exception": null,
     "start_time": null,
     "status": "pending"
    },
    "tags": []
   },
   "outputs": [
    {
     "data": {
      "text/html": [
       "<div>\n",
       "<style scoped>\n",
       "    .dataframe tbody tr th:only-of-type {\n",
       "        vertical-align: middle;\n",
       "    }\n",
       "\n",
       "    .dataframe tbody tr th {\n",
       "        vertical-align: top;\n",
       "    }\n",
       "\n",
       "    .dataframe thead th {\n",
       "        text-align: right;\n",
       "    }\n",
       "</style>\n",
       "<table border=\"1\" class=\"dataframe\">\n",
       "  <thead>\n",
       "    <tr style=\"text-align: right;\">\n",
       "      <th></th>\n",
       "      <th>fmx_droplet_type</th>\n",
       "      <th>fmx_sample</th>\n",
       "    </tr>\n",
       "    <tr>\n",
       "      <th>cell_names</th>\n",
       "      <th></th>\n",
       "      <th></th>\n",
       "    </tr>\n",
       "  </thead>\n",
       "  <tbody>\n",
       "    <tr>\n",
       "      <th>GTCCCAGGAAAGGCCA___CNA_mtscatac_1.FULL</th>\n",
       "      <td>SNG</td>\n",
       "      <td>sampleA</td>\n",
       "    </tr>\n",
       "    <tr>\n",
       "      <th>TGCGAGGCTCTGCCAG___CNA_mtscatac_1.FULL</th>\n",
       "      <td>SNG</td>\n",
       "      <td>sampleB</td>\n",
       "    </tr>\n",
       "    <tr>\n",
       "      <th>AGCGTATACCAATAGA___CNA_mtscatac_1.FULL</th>\n",
       "      <td>SNG</td>\n",
       "      <td>sampleA</td>\n",
       "    </tr>\n",
       "    <tr>\n",
       "      <th>TGTCGAAACGACCGAA___CNA_mtscatac_1.FULL</th>\n",
       "      <td>SNG</td>\n",
       "      <td>sampleA</td>\n",
       "    </tr>\n",
       "    <tr>\n",
       "      <th>AGGTCAGGACGGTTGC___CNA_mtscatac_1.FULL</th>\n",
       "      <td>SNG</td>\n",
       "      <td>sampleA</td>\n",
       "    </tr>\n",
       "    <tr>\n",
       "      <th>...</th>\n",
       "      <td>...</td>\n",
       "      <td>...</td>\n",
       "    </tr>\n",
       "    <tr>\n",
       "      <th>TAACCGAATCTCTCGCACGA___VIB_hydrop_22.FULL</th>\n",
       "      <td>SNG</td>\n",
       "      <td>sampleB</td>\n",
       "    </tr>\n",
       "    <tr>\n",
       "      <th>AACGATACCATGCTTGCCGT___VIB_hydrop_22.FULL</th>\n",
       "      <td>SNG</td>\n",
       "      <td>sampleB</td>\n",
       "    </tr>\n",
       "    <tr>\n",
       "      <th>GATTGGCGGTGTCCAGGCTT___VIB_hydrop_22.FULL</th>\n",
       "      <td>SNG</td>\n",
       "      <td>sampleB</td>\n",
       "    </tr>\n",
       "    <tr>\n",
       "      <th>CGTTGACCACGGTAGGTAGG___VIB_hydrop_22.FULL</th>\n",
       "      <td>SNG</td>\n",
       "      <td>sampleA</td>\n",
       "    </tr>\n",
       "    <tr>\n",
       "      <th>ACGAGTTGCCACGGTGCTCT___VIB_hydrop_22.FULL</th>\n",
       "      <td>SNG</td>\n",
       "      <td>sampleA</td>\n",
       "    </tr>\n",
       "  </tbody>\n",
       "</table>\n",
       "<p>116783 rows × 2 columns</p>\n",
       "</div>"
      ],
      "text/plain": [
       "                                          fmx_droplet_type fmx_sample\n",
       "cell_names                                                           \n",
       "GTCCCAGGAAAGGCCA___CNA_mtscatac_1.FULL                 SNG    sampleA\n",
       "TGCGAGGCTCTGCCAG___CNA_mtscatac_1.FULL                 SNG    sampleB\n",
       "AGCGTATACCAATAGA___CNA_mtscatac_1.FULL                 SNG    sampleA\n",
       "TGTCGAAACGACCGAA___CNA_mtscatac_1.FULL                 SNG    sampleA\n",
       "AGGTCAGGACGGTTGC___CNA_mtscatac_1.FULL                 SNG    sampleA\n",
       "...                                                    ...        ...\n",
       "TAACCGAATCTCTCGCACGA___VIB_hydrop_22.FULL              SNG    sampleB\n",
       "AACGATACCATGCTTGCCGT___VIB_hydrop_22.FULL              SNG    sampleB\n",
       "GATTGGCGGTGTCCAGGCTT___VIB_hydrop_22.FULL              SNG    sampleB\n",
       "CGTTGACCACGGTAGGTAGG___VIB_hydrop_22.FULL              SNG    sampleA\n",
       "ACGAGTTGCCACGGTGCTCT___VIB_hydrop_22.FULL              SNG    sampleA\n",
       "\n",
       "[116783 rows x 2 columns]"
      ]
     },
     "execution_count": 29,
     "metadata": {},
     "output_type": "execute_result"
    },
    {
     "data": {
      "application/javascript": [
       "\n",
       "            setTimeout(function() {\n",
       "                var nbb_cell_id = 29;\n",
       "                var nbb_unformatted_code = \"fmx_annot\";\n",
       "                var nbb_formatted_code = \"fmx_annot\";\n",
       "                var nbb_cells = Jupyter.notebook.get_cells();\n",
       "                for (var i = 0; i < nbb_cells.length; ++i) {\n",
       "                    if (nbb_cells[i].input_prompt_number == nbb_cell_id) {\n",
       "                        if (nbb_cells[i].get_text() == nbb_unformatted_code) {\n",
       "                             nbb_cells[i].set_text(nbb_formatted_code);\n",
       "                        }\n",
       "                        break;\n",
       "                    }\n",
       "                }\n",
       "            }, 500);\n",
       "            "
      ],
      "text/plain": [
       "<IPython.core.display.Javascript object>"
      ]
     },
     "metadata": {},
     "output_type": "display_data"
    }
   ],
   "source": [
    "fmx_annot"
   ]
  },
  {
   "cell_type": "code",
   "execution_count": 30,
   "id": "7d658e4d",
   "metadata": {
    "execution": {
     "iopub.execute_input": "2023-02-15T10:43:09.333783Z",
     "iopub.status.busy": "2023-02-15T10:43:09.333499Z",
     "iopub.status.idle": "2023-02-15T10:43:09.467072Z",
     "shell.execute_reply": "2023-02-15T10:43:09.466056Z",
     "shell.execute_reply.started": "2023-02-15T10:43:09.333765Z"
    },
    "papermill": {
     "duration": null,
     "end_time": null,
     "exception": null,
     "start_time": null,
     "status": "pending"
    },
    "pycharm": {
     "name": "#%%\n"
    },
    "tags": []
   },
   "outputs": [
    {
     "name": "stdout",
     "output_type": "stream",
     "text": [
      "master_all_1.FULL\n",
      "\tcistopic_objects_master/master_all_1.FULL__cto.scrublet0-4.fmx.singlets.pkl exists! Skipping...\n"
     ]
    },
    {
     "data": {
      "application/javascript": [
       "\n",
       "            setTimeout(function() {\n",
       "                var nbb_cell_id = 30;\n",
       "                var nbb_unformatted_code = \"fmx_samples = sorted(list(set([x.split('.')[0] + '.' + x.split('.')[1] for x in fmx.index])))\\nremoved_bcs_dict = {}\\n# for sample in [\\\"CNA_10xv11_1.FULL\\\"]:\\n\\nfor sample in scrubcto_dict.keys():\\n    print(f\\\"{sample}\\\")\\n    cto_path = scrubcto_dict[sample]\\n    newcto_path = cto_path.replace(f'__cto.scrublet{scrub_name_suffix}.pkl',f'__cto.scrublet{scrub_name_suffix}.fmx.singlets.pkl')\\n    if os.path.exists(newcto_path):\\n        print(f\\\"\\\\t{newcto_path} exists! Skipping...\\\")\\n        \\n    else:\\n        with open(cto_path, 'rb') as f:\\n            cto = pickle.load(f)\\n\\n            print(f\\\"\\\\tLoaded {cto_path}, adding fmx data and removing fmx + scr doublets\\\")\\n            cto.cell_data['fmx_droplet_type'] = fmx_annot['fmx_droplet_type']\\n            cto.cell_data['fmx_sample'] = fmx_annot['fmx_sample']\\n            \\n            removed_bcs_dict[sample] = {\\n                'dbl_scrublet': cto.cell_data.barcode[cto.cell_data.Predicted_doublets_fragments == True].tolist(),\\n                'dbl_fmx': cto.cell_data.barcode[cto.cell_data.fmx_droplet_type == 'DBL'].tolist(),    \\n            }\\n\\n            # Remove doublets \\n            singlets = cto.cell_data[\\n                (cto.cell_data.Predicted_doublets_fragments == False) & \\n                (cto.cell_data.fmx_droplet_type != 'DBL')\\n            ].index.tolist()\\n            print(f\\\"\\\\t{sample}: Removing {len(cto.cell_names)-len(singlets)} cells\\\")\\n\\n            fmx_doublets = set(cto.cell_data[cto.cell_data['fmx_droplet_type'] == 'DBL'].index)\\n            scr_doublets = set(cto.cell_data[cto.cell_data['Predicted_doublets_fragments'] == True].index)\\n\\n            fmx_doublets_unique = fmx_doublets - scr_doublets\\n            scr_doublets_unique = scr_doublets - fmx_doublets\\n            common_doublets = fmx_doublets.intersection(scr_doublets)\\n\\n            print(f\\\"\\\\t\\\\t{len(fmx_doublets_unique)} unique fmx doublets\\\")\\n            print(f\\\"\\\\t\\\\t{len(scr_doublets_unique)} unique scr doublets\\\")\\n            print(f\\\"\\\\t\\\\t{len(common_doublets)} common doublets\\\")\\n\\n            fmx_doublets_unique_path = cto_path.replace(f'__cto.scrublet{scrub_name_suffix}.pkl',f'__cto.scrublet{scrub_name_suffix}.fmx.fmx_doublets_unique.txt')\\n            with open(fmx_doublets_unique_path, 'w') as f:\\n                for x in fmx_doublets_unique:\\n                    f.write(f\\\"{x}\\\\n\\\")\\n\\n            scr_doublets_unique_path = cto_path.replace(f'__cto.scrublet{scrub_name_suffix}.pkl',f'__cto.scrublet{scrub_name_suffix}.fmx.scr_doublets_unique.txt')\\n            with open(scr_doublets_unique_path, 'w') as f:\\n                for x in scr_doublets_unique:\\n                    f.write(f\\\"{x}\\\\n\\\")\\n\\n            common_doublets_path = cto_path.replace(f'__cto.scrublet{scrub_name_suffix}.pkl',f'__cto.scrublet{scrub_name_suffix}.fmx.common_doublets.txt')\\n            with open(common_doublets_path, 'w') as f:\\n                for x in common_doublets:\\n                    f.write(f\\\"{x}\\\\n\\\")\\n\\n            # Subset cisTopic object\\n            cto.subset(singlets)\\n\\n            # save\\n            with open(newcto_path, \\\"wb\\\") as f:\\n                pickle.dump(cto, f, protocol=4)\\n\\n            removed_bcs_path = cto_path.replace(f'__cto.scrublet{scrub_name_suffix}.pkl',f'__cto.scrublet{scrub_name_suffix}.fmx.singlets.removed_bcs.pkl')\\n            with open(removed_bcs_path, \\\"wb\\\") as f:\\n                pickle.dump(removed_bcs_path, f, protocol=4)\\n\\n            cell_data_path = cto_path.replace(f'__cto.scrublet{scrub_name_suffix}.pkl',f'__cto.scrublet{scrub_name_suffix}.fmx.singlets.cell_data.tsv')\\n            cto.cell_data.to_csv(cell_data_path)\\n\\n            print(f\\\"\\\\tWrote {newcto_path}, doublet lists and {cell_data_path}\\\\n\\\")\";\n",
       "                var nbb_formatted_code = \"fmx_samples = sorted(\\n    list(set([x.split(\\\".\\\")[0] + \\\".\\\" + x.split(\\\".\\\")[1] for x in fmx.index]))\\n)\\nremoved_bcs_dict = {}\\n# for sample in [\\\"CNA_10xv11_1.FULL\\\"]:\\n\\nfor sample in scrubcto_dict.keys():\\n    print(f\\\"{sample}\\\")\\n    cto_path = scrubcto_dict[sample]\\n    newcto_path = cto_path.replace(\\n        f\\\"__cto.scrublet{scrub_name_suffix}.pkl\\\",\\n        f\\\"__cto.scrublet{scrub_name_suffix}.fmx.singlets.pkl\\\",\\n    )\\n    if os.path.exists(newcto_path):\\n        print(f\\\"\\\\t{newcto_path} exists! Skipping...\\\")\\n\\n    else:\\n        with open(cto_path, \\\"rb\\\") as f:\\n            cto = pickle.load(f)\\n\\n            print(\\n                f\\\"\\\\tLoaded {cto_path}, adding fmx data and removing fmx + scr doublets\\\"\\n            )\\n            cto.cell_data[\\\"fmx_droplet_type\\\"] = fmx_annot[\\\"fmx_droplet_type\\\"]\\n            cto.cell_data[\\\"fmx_sample\\\"] = fmx_annot[\\\"fmx_sample\\\"]\\n\\n            removed_bcs_dict[sample] = {\\n                \\\"dbl_scrublet\\\": cto.cell_data.barcode[\\n                    cto.cell_data.Predicted_doublets_fragments == True\\n                ].tolist(),\\n                \\\"dbl_fmx\\\": cto.cell_data.barcode[\\n                    cto.cell_data.fmx_droplet_type == \\\"DBL\\\"\\n                ].tolist(),\\n            }\\n\\n            # Remove doublets\\n            singlets = cto.cell_data[\\n                (cto.cell_data.Predicted_doublets_fragments == False)\\n                & (cto.cell_data.fmx_droplet_type != \\\"DBL\\\")\\n            ].index.tolist()\\n            print(f\\\"\\\\t{sample}: Removing {len(cto.cell_names)-len(singlets)} cells\\\")\\n\\n            fmx_doublets = set(\\n                cto.cell_data[cto.cell_data[\\\"fmx_droplet_type\\\"] == \\\"DBL\\\"].index\\n            )\\n            scr_doublets = set(\\n                cto.cell_data[\\n                    cto.cell_data[\\\"Predicted_doublets_fragments\\\"] == True\\n                ].index\\n            )\\n\\n            fmx_doublets_unique = fmx_doublets - scr_doublets\\n            scr_doublets_unique = scr_doublets - fmx_doublets\\n            common_doublets = fmx_doublets.intersection(scr_doublets)\\n\\n            print(f\\\"\\\\t\\\\t{len(fmx_doublets_unique)} unique fmx doublets\\\")\\n            print(f\\\"\\\\t\\\\t{len(scr_doublets_unique)} unique scr doublets\\\")\\n            print(f\\\"\\\\t\\\\t{len(common_doublets)} common doublets\\\")\\n\\n            fmx_doublets_unique_path = cto_path.replace(\\n                f\\\"__cto.scrublet{scrub_name_suffix}.pkl\\\",\\n                f\\\"__cto.scrublet{scrub_name_suffix}.fmx.fmx_doublets_unique.txt\\\",\\n            )\\n            with open(fmx_doublets_unique_path, \\\"w\\\") as f:\\n                for x in fmx_doublets_unique:\\n                    f.write(f\\\"{x}\\\\n\\\")\\n\\n            scr_doublets_unique_path = cto_path.replace(\\n                f\\\"__cto.scrublet{scrub_name_suffix}.pkl\\\",\\n                f\\\"__cto.scrublet{scrub_name_suffix}.fmx.scr_doublets_unique.txt\\\",\\n            )\\n            with open(scr_doublets_unique_path, \\\"w\\\") as f:\\n                for x in scr_doublets_unique:\\n                    f.write(f\\\"{x}\\\\n\\\")\\n\\n            common_doublets_path = cto_path.replace(\\n                f\\\"__cto.scrublet{scrub_name_suffix}.pkl\\\",\\n                f\\\"__cto.scrublet{scrub_name_suffix}.fmx.common_doublets.txt\\\",\\n            )\\n            with open(common_doublets_path, \\\"w\\\") as f:\\n                for x in common_doublets:\\n                    f.write(f\\\"{x}\\\\n\\\")\\n\\n            # Subset cisTopic object\\n            cto.subset(singlets)\\n\\n            # save\\n            with open(newcto_path, \\\"wb\\\") as f:\\n                pickle.dump(cto, f, protocol=4)\\n\\n            removed_bcs_path = cto_path.replace(\\n                f\\\"__cto.scrublet{scrub_name_suffix}.pkl\\\",\\n                f\\\"__cto.scrublet{scrub_name_suffix}.fmx.singlets.removed_bcs.pkl\\\",\\n            )\\n            with open(removed_bcs_path, \\\"wb\\\") as f:\\n                pickle.dump(removed_bcs_path, f, protocol=4)\\n\\n            cell_data_path = cto_path.replace(\\n                f\\\"__cto.scrublet{scrub_name_suffix}.pkl\\\",\\n                f\\\"__cto.scrublet{scrub_name_suffix}.fmx.singlets.cell_data.tsv\\\",\\n            )\\n            cto.cell_data.to_csv(cell_data_path)\\n\\n            print(f\\\"\\\\tWrote {newcto_path}, doublet lists and {cell_data_path}\\\\n\\\")\";\n",
       "                var nbb_cells = Jupyter.notebook.get_cells();\n",
       "                for (var i = 0; i < nbb_cells.length; ++i) {\n",
       "                    if (nbb_cells[i].input_prompt_number == nbb_cell_id) {\n",
       "                        if (nbb_cells[i].get_text() == nbb_unformatted_code) {\n",
       "                             nbb_cells[i].set_text(nbb_formatted_code);\n",
       "                        }\n",
       "                        break;\n",
       "                    }\n",
       "                }\n",
       "            }, 500);\n",
       "            "
      ],
      "text/plain": [
       "<IPython.core.display.Javascript object>"
      ]
     },
     "metadata": {},
     "output_type": "display_data"
    }
   ],
   "source": [
    "fmx_samples = sorted(list(set([x.split('.')[0] + '.' + x.split('.')[1] for x in fmx.index])))\n",
    "removed_bcs_dict = {}\n",
    "# for sample in [\"CNA_10xv11_1.FULL\"]:\n",
    "\n",
    "for sample in scrubcto_dict.keys():\n",
    "    print(f\"{sample}\")\n",
    "    cto_path = scrubcto_dict[sample]\n",
    "    newcto_path = cto_path.replace(f'__cto.scrublet{scrub_name_suffix}.pkl',f'__cto.scrublet{scrub_name_suffix}.fmx.singlets.pkl')\n",
    "    if os.path.exists(newcto_path):\n",
    "        print(f\"\\t{newcto_path} exists! Skipping...\")\n",
    "        \n",
    "    else:\n",
    "        with open(cto_path, 'rb') as f:\n",
    "            cto = pickle.load(f)\n",
    "\n",
    "            print(f\"\\tLoaded {cto_path}, adding fmx data and removing fmx + scr doublets\")\n",
    "            cto.cell_data['fmx_droplet_type'] = fmx_annot['fmx_droplet_type']\n",
    "            cto.cell_data['fmx_sample'] = fmx_annot['fmx_sample']\n",
    "            \n",
    "            removed_bcs_dict[sample] = {\n",
    "                'dbl_scrublet': cto.cell_data.barcode[cto.cell_data.Predicted_doublets_fragments == True].tolist(),\n",
    "                'dbl_fmx': cto.cell_data.barcode[cto.cell_data.fmx_droplet_type == 'DBL'].tolist(),    \n",
    "            }\n",
    "\n",
    "            # Remove doublets \n",
    "            singlets = cto.cell_data[\n",
    "                (cto.cell_data.Predicted_doublets_fragments == False) & \n",
    "                (cto.cell_data.fmx_droplet_type != 'DBL')\n",
    "            ].index.tolist()\n",
    "            print(f\"\\t{sample}: Removing {len(cto.cell_names)-len(singlets)} cells\")\n",
    "\n",
    "            fmx_doublets = set(cto.cell_data[cto.cell_data['fmx_droplet_type'] == 'DBL'].index)\n",
    "            scr_doublets = set(cto.cell_data[cto.cell_data['Predicted_doublets_fragments'] == True].index)\n",
    "\n",
    "            fmx_doublets_unique = fmx_doublets - scr_doublets\n",
    "            scr_doublets_unique = scr_doublets - fmx_doublets\n",
    "            common_doublets = fmx_doublets.intersection(scr_doublets)\n",
    "\n",
    "            print(f\"\\t\\t{len(fmx_doublets_unique)} unique fmx doublets\")\n",
    "            print(f\"\\t\\t{len(scr_doublets_unique)} unique scr doublets\")\n",
    "            print(f\"\\t\\t{len(common_doublets)} common doublets\")\n",
    "\n",
    "            fmx_doublets_unique_path = cto_path.replace(f'__cto.scrublet{scrub_name_suffix}.pkl',f'__cto.scrublet{scrub_name_suffix}.fmx.fmx_doublets_unique.txt')\n",
    "            with open(fmx_doublets_unique_path, 'w') as f:\n",
    "                for x in fmx_doublets_unique:\n",
    "                    f.write(f\"{x}\\n\")\n",
    "\n",
    "            scr_doublets_unique_path = cto_path.replace(f'__cto.scrublet{scrub_name_suffix}.pkl',f'__cto.scrublet{scrub_name_suffix}.fmx.scr_doublets_unique.txt')\n",
    "            with open(scr_doublets_unique_path, 'w') as f:\n",
    "                for x in scr_doublets_unique:\n",
    "                    f.write(f\"{x}\\n\")\n",
    "\n",
    "            common_doublets_path = cto_path.replace(f'__cto.scrublet{scrub_name_suffix}.pkl',f'__cto.scrublet{scrub_name_suffix}.fmx.common_doublets.txt')\n",
    "            with open(common_doublets_path, 'w') as f:\n",
    "                for x in common_doublets:\n",
    "                    f.write(f\"{x}\\n\")\n",
    "\n",
    "            # Subset cisTopic object\n",
    "            cto.subset(singlets)\n",
    "\n",
    "            # save\n",
    "            with open(newcto_path, \"wb\") as f:\n",
    "                pickle.dump(cto, f, protocol=4)\n",
    "\n",
    "            removed_bcs_path = cto_path.replace(f'__cto.scrublet{scrub_name_suffix}.pkl',f'__cto.scrublet{scrub_name_suffix}.fmx.singlets.removed_bcs.pkl')\n",
    "            with open(removed_bcs_path, \"wb\") as f:\n",
    "                pickle.dump(removed_bcs_path, f, protocol=4)\n",
    "\n",
    "            cell_data_path = cto_path.replace(f'__cto.scrublet{scrub_name_suffix}.pkl',f'__cto.scrublet{scrub_name_suffix}.fmx.singlets.cell_data.tsv')\n",
    "            cto.cell_data.to_csv(cell_data_path)\n",
    "\n",
    "            print(f\"\\tWrote {newcto_path}, doublet lists and {cell_data_path}\\n\")"
   ]
  },
  {
   "cell_type": "markdown",
   "id": "7a7d2d6e",
   "metadata": {
    "papermill": {
     "duration": null,
     "end_time": null,
     "exception": null,
     "start_time": null,
     "status": "pending"
    },
    "pycharm": {
     "name": "#%% md\n"
    },
    "tags": []
   },
   "source": [
    "# Write looms from these ctos"
   ]
  },
  {
   "cell_type": "code",
   "execution_count": 31,
   "id": "7f7a51f8",
   "metadata": {
    "execution": {
     "iopub.execute_input": "2023-02-15T10:43:09.468194Z",
     "iopub.status.busy": "2023-02-15T10:43:09.467990Z",
     "iopub.status.idle": "2023-02-15T10:43:14.282533Z",
     "shell.execute_reply": "2023-02-15T10:43:14.281569Z",
     "shell.execute_reply.started": "2023-02-15T10:43:09.468177Z"
    },
    "papermill": {
     "duration": null,
     "end_time": null,
     "exception": null,
     "start_time": null,
     "status": "pending"
    },
    "pycharm": {
     "name": "#%%\n"
    },
    "tags": []
   },
   "outputs": [
    {
     "data": {
      "application/javascript": [
       "\n",
       "            setTimeout(function() {\n",
       "                var nbb_cell_id = 31;\n",
       "                var nbb_unformatted_code = \"import loompy as lp\";\n",
       "                var nbb_formatted_code = \"import loompy as lp\";\n",
       "                var nbb_cells = Jupyter.notebook.get_cells();\n",
       "                for (var i = 0; i < nbb_cells.length; ++i) {\n",
       "                    if (nbb_cells[i].input_prompt_number == nbb_cell_id) {\n",
       "                        if (nbb_cells[i].get_text() == nbb_unformatted_code) {\n",
       "                             nbb_cells[i].set_text(nbb_formatted_code);\n",
       "                        }\n",
       "                        break;\n",
       "                    }\n",
       "                }\n",
       "            }, 500);\n",
       "            "
      ],
      "text/plain": [
       "<IPython.core.display.Javascript object>"
      ]
     },
     "metadata": {},
     "output_type": "display_data"
    }
   ],
   "source": [
    "import loompy as lp"
   ]
  },
  {
   "cell_type": "code",
   "execution_count": 32,
   "id": "28f0d2f6",
   "metadata": {
    "execution": {
     "iopub.execute_input": "2023-02-15T10:43:14.283694Z",
     "iopub.status.busy": "2023-02-15T10:43:14.283467Z",
     "iopub.status.idle": "2023-02-15T10:43:14.296772Z",
     "shell.execute_reply": "2023-02-15T10:43:14.295863Z",
     "shell.execute_reply.started": "2023-02-15T10:43:14.283673Z"
    },
    "papermill": {
     "duration": null,
     "end_time": null,
     "exception": null,
     "start_time": null,
     "status": "pending"
    },
    "pycharm": {
     "name": "#%%\n"
    },
    "tags": []
   },
   "outputs": [
    {
     "data": {
      "text/plain": [
       "{'master_all_1.FULL__cto.scrublet0-4.fmx.singlets.pkl': 'cistopic_objects_master/master_all_1.FULL__cto.scrublet0-4.fmx.singlets.pkl'}"
      ]
     },
     "execution_count": 32,
     "metadata": {},
     "output_type": "execute_result"
    },
    {
     "data": {
      "application/javascript": [
       "\n",
       "            setTimeout(function() {\n",
       "                var nbb_cell_id = 32;\n",
       "                var nbb_unformatted_code = \"scrub_name_suffix = \\\"0-4\\\"\\nscrubcto_dict = {x.split('/')[-1].split(f'__cto.scrublet{scrub_name_suffix}.pkl')[0]:x for x in sorted(glob.glob(f'cistopic_objects_master/*__cto.scrublet{scrub_name_suffix}.*singlets.pkl'))}\\nscrubcto_dict\";\n",
       "                var nbb_formatted_code = \"scrub_name_suffix = \\\"0-4\\\"\\nscrubcto_dict = {\\n    x.split(\\\"/\\\")[-1].split(f\\\"__cto.scrublet{scrub_name_suffix}.pkl\\\")[0]: x\\n    for x in sorted(\\n        glob.glob(\\n            f\\\"cistopic_objects_master/*__cto.scrublet{scrub_name_suffix}.*singlets.pkl\\\"\\n        )\\n    )\\n}\\nscrubcto_dict\";\n",
       "                var nbb_cells = Jupyter.notebook.get_cells();\n",
       "                for (var i = 0; i < nbb_cells.length; ++i) {\n",
       "                    if (nbb_cells[i].input_prompt_number == nbb_cell_id) {\n",
       "                        if (nbb_cells[i].get_text() == nbb_unformatted_code) {\n",
       "                             nbb_cells[i].set_text(nbb_formatted_code);\n",
       "                        }\n",
       "                        break;\n",
       "                    }\n",
       "                }\n",
       "            }, 500);\n",
       "            "
      ],
      "text/plain": [
       "<IPython.core.display.Javascript object>"
      ]
     },
     "metadata": {},
     "output_type": "display_data"
    }
   ],
   "source": [
    "scrub_name_suffix = \"0-4\"\n",
    "scrubcto_dict = {x.split('/')[-1].split(f'__cto.scrublet{scrub_name_suffix}.pkl')[0]:x for x in sorted(glob.glob(f'cistopic_objects_master/*__cto.scrublet{scrub_name_suffix}.*singlets.pkl'))}\n",
    "scrubcto_dict"
   ]
  },
  {
   "cell_type": "code",
   "execution_count": 33,
   "id": "965c72af",
   "metadata": {
    "execution": {
     "iopub.execute_input": "2023-02-15T10:43:14.297901Z",
     "iopub.status.busy": "2023-02-15T10:43:14.297698Z",
     "iopub.status.idle": "2023-02-15T10:43:14.305945Z",
     "shell.execute_reply": "2023-02-15T10:43:14.304911Z",
     "shell.execute_reply.started": "2023-02-15T10:43:14.297883Z"
    },
    "papermill": {
     "duration": null,
     "end_time": null,
     "exception": null,
     "start_time": null,
     "status": "pending"
    },
    "pycharm": {
     "name": "#%%\n"
    },
    "tags": []
   },
   "outputs": [
    {
     "data": {
      "text/plain": [
       "1"
      ]
     },
     "execution_count": 33,
     "metadata": {},
     "output_type": "execute_result"
    },
    {
     "data": {
      "application/javascript": [
       "\n",
       "            setTimeout(function() {\n",
       "                var nbb_cell_id = 33;\n",
       "                var nbb_unformatted_code = \"len(scrubcto_dict)\";\n",
       "                var nbb_formatted_code = \"len(scrubcto_dict)\";\n",
       "                var nbb_cells = Jupyter.notebook.get_cells();\n",
       "                for (var i = 0; i < nbb_cells.length; ++i) {\n",
       "                    if (nbb_cells[i].input_prompt_number == nbb_cell_id) {\n",
       "                        if (nbb_cells[i].get_text() == nbb_unformatted_code) {\n",
       "                             nbb_cells[i].set_text(nbb_formatted_code);\n",
       "                        }\n",
       "                        break;\n",
       "                    }\n",
       "                }\n",
       "            }, 500);\n",
       "            "
      ],
      "text/plain": [
       "<IPython.core.display.Javascript object>"
      ]
     },
     "metadata": {},
     "output_type": "display_data"
    }
   ],
   "source": [
    "len(scrubcto_dict)"
   ]
  },
  {
   "cell_type": "code",
   "execution_count": 34,
   "id": "29e1a7bd",
   "metadata": {
    "execution": {
     "iopub.execute_input": "2023-02-15T10:43:14.307100Z",
     "iopub.status.busy": "2023-02-15T10:43:14.306828Z",
     "iopub.status.idle": "2023-02-15T10:43:14.315233Z",
     "shell.execute_reply": "2023-02-15T10:43:14.314311Z",
     "shell.execute_reply.started": "2023-02-15T10:43:14.307082Z"
    },
    "papermill": {
     "duration": null,
     "end_time": null,
     "exception": null,
     "start_time": null,
     "status": "pending"
    },
    "pycharm": {
     "name": "#%%\n"
    },
    "tags": []
   },
   "outputs": [
    {
     "data": {
      "application/javascript": [
       "\n",
       "            setTimeout(function() {\n",
       "                var nbb_cell_id = 34;\n",
       "                var nbb_unformatted_code = \"loom_out = 'cell_region_looms'\\nif not os.path.exists(os.path.join(loom_out)):\\n    os.makedirs(os.path.join(loom_out))\";\n",
       "                var nbb_formatted_code = \"loom_out = \\\"cell_region_looms\\\"\\nif not os.path.exists(os.path.join(loom_out)):\\n    os.makedirs(os.path.join(loom_out))\";\n",
       "                var nbb_cells = Jupyter.notebook.get_cells();\n",
       "                for (var i = 0; i < nbb_cells.length; ++i) {\n",
       "                    if (nbb_cells[i].input_prompt_number == nbb_cell_id) {\n",
       "                        if (nbb_cells[i].get_text() == nbb_unformatted_code) {\n",
       "                             nbb_cells[i].set_text(nbb_formatted_code);\n",
       "                        }\n",
       "                        break;\n",
       "                    }\n",
       "                }\n",
       "            }, 500);\n",
       "            "
      ],
      "text/plain": [
       "<IPython.core.display.Javascript object>"
      ]
     },
     "metadata": {},
     "output_type": "display_data"
    }
   ],
   "source": [
    "loom_out = 'cell_region_looms'\n",
    "if not os.path.exists(os.path.join(loom_out)):\n",
    "    os.makedirs(os.path.join(loom_out))"
   ]
  },
  {
   "cell_type": "code",
   "execution_count": 35,
   "id": "4c850b8c-aa49-4be9-ab00-ec915c70a420",
   "metadata": {
    "execution": {
     "iopub.execute_input": "2023-02-15T10:43:14.316493Z",
     "iopub.status.busy": "2023-02-15T10:43:14.316184Z",
     "iopub.status.idle": "2023-02-15T11:09:32.276930Z",
     "shell.execute_reply": "2023-02-15T11:09:32.275645Z",
     "shell.execute_reply.started": "2023-02-15T10:43:14.316471Z"
    },
    "papermill": {
     "duration": null,
     "end_time": null,
     "exception": null,
     "start_time": null,
     "status": "pending"
    },
    "tags": []
   },
   "outputs": [
    {
     "name": "stdout",
     "output_type": "stream",
     "text": [
      "Finished cell_region_looms/master_all_1.FULL.scrublet0-4.singlets.ID.loom loom writing\n"
     ]
    },
    {
     "data": {
      "application/javascript": [
       "\n",
       "            setTimeout(function() {\n",
       "                var nbb_cell_id = 35;\n",
       "                var nbb_unformatted_code = \"loom_path = 'cell_region_looms/master_all_1.FULL.scrublet0-4.singlets.ID.loom'\\nif not os.path.exists(loom_path):\\n    cto_path = 'cistopic_objects_master/master_all_1.FULL__cto.scrublet0-4.fmx.singlets.pkl'\\n    with open(cto_path, 'rb') as f:\\n        cto = pickle.load(f)\\n\\n    lp.create(\\n        filename = loom_path,\\n        layers=cto.fragment_matrix,\\n        row_attrs={ 'Gene': cto.region_names }, \\n        col_attrs={ 'CellID': [x.replace('___', '__').split('.')[0] for x in cto.cell_names] }\\n    )\\n    print(f\\\"Finished {loom_path} loom writing\\\")\";\n",
       "                var nbb_formatted_code = \"loom_path = \\\"cell_region_looms/master_all_1.FULL.scrublet0-4.singlets.ID.loom\\\"\\nif not os.path.exists(loom_path):\\n    cto_path = (\\n        \\\"cistopic_objects_master/master_all_1.FULL__cto.scrublet0-4.fmx.singlets.pkl\\\"\\n    )\\n    with open(cto_path, \\\"rb\\\") as f:\\n        cto = pickle.load(f)\\n\\n    lp.create(\\n        filename=loom_path,\\n        layers=cto.fragment_matrix,\\n        row_attrs={\\\"Gene\\\": cto.region_names},\\n        col_attrs={\\n            \\\"CellID\\\": [x.replace(\\\"___\\\", \\\"__\\\").split(\\\".\\\")[0] for x in cto.cell_names]\\n        },\\n    )\\n    print(f\\\"Finished {loom_path} loom writing\\\")\";\n",
       "                var nbb_cells = Jupyter.notebook.get_cells();\n",
       "                for (var i = 0; i < nbb_cells.length; ++i) {\n",
       "                    if (nbb_cells[i].input_prompt_number == nbb_cell_id) {\n",
       "                        if (nbb_cells[i].get_text() == nbb_unformatted_code) {\n",
       "                             nbb_cells[i].set_text(nbb_formatted_code);\n",
       "                        }\n",
       "                        break;\n",
       "                    }\n",
       "                }\n",
       "            }, 500);\n",
       "            "
      ],
      "text/plain": [
       "<IPython.core.display.Javascript object>"
      ]
     },
     "metadata": {},
     "output_type": "display_data"
    }
   ],
   "source": [
    "loom_path = 'cell_region_looms/master_all_1.FULL.scrublet0-4.singlets.ID.loom'\n",
    "if not os.path.exists(loom_path):\n",
    "    cto_path = 'cistopic_objects_master/master_all_1.FULL__cto.scrublet0-4.fmx.singlets.pkl'\n",
    "    with open(cto_path, 'rb') as f:\n",
    "        cto = pickle.load(f)\n",
    "\n",
    "    lp.create(\n",
    "        filename = loom_path,\n",
    "        layers=cto.fragment_matrix,\n",
    "        row_attrs={ 'Gene': cto.region_names }, \n",
    "        col_attrs={ 'CellID': [x.replace('___', '__').split('.')[0] for x in cto.cell_names] }\n",
    "    )\n",
    "    print(f\"Finished {loom_path} loom writing\")"
   ]
  },
  {
   "cell_type": "code",
   "execution_count": 36,
   "id": "376045b8-20a6-4dc6-9212-543496af3b40",
   "metadata": {
    "execution": {
     "iopub.execute_input": "2023-02-15T12:34:08.767422Z",
     "iopub.status.busy": "2023-02-15T12:34:08.766371Z",
     "iopub.status.idle": "2023-02-15T13:00:04.331505Z",
     "shell.execute_reply": "2023-02-15T13:00:04.329931Z",
     "shell.execute_reply.started": "2023-02-15T12:34:08.767354Z"
    },
    "papermill": {
     "duration": null,
     "end_time": null,
     "exception": null,
     "start_time": null,
     "status": "pending"
    },
    "pycharm": {
     "name": "#%%\n"
    },
    "tags": []
   },
   "outputs": [
    {
     "name": "stdout",
     "output_type": "stream",
     "text": [
      "Loaded filtered cistopic object master_all_1.FULL\n",
      "Finished cell_region_looms/master_all_1.FULL_cto.scrublet0-4.singlets.fixedcb.loom loom writing\n"
     ]
    },
    {
     "data": {
      "application/javascript": [
       "\n",
       "            setTimeout(function() {\n",
       "                var nbb_cell_id = 36;\n",
       "                var nbb_unformatted_code = \"loom_path = 'cell_region_looms/master_all_1.FULL_cto.scrublet0-4.singlets.fixedcb.loom'\\nif not os.path.exists(loom_path):\\n    cto_path = 'cistopic_objects_master/master_all_1.FULL__cto.scrublet0-4.fmx.singlets.pkl'\\n    with open(cto_path, 'rb') as f:\\n        cto = pickle.load(f)\\n\\n    print(f\\\"Loaded filtered cistopic object {sample}\\\")\\n    lp.create(\\n        filename = loom_path,\\n        layers=cto.fragment_matrix,\\n        row_attrs={ 'Gene': cto.region_names }, \\n        col_attrs={ 'CellID': [x for x in cto.cell_names ] }\\n    )\\n    print(f\\\"Finished {loom_path} loom writing\\\")\";\n",
       "                var nbb_formatted_code = \"loom_path = \\\"cell_region_looms/master_all_1.FULL_cto.scrublet0-4.singlets.fixedcb.loom\\\"\\nif not os.path.exists(loom_path):\\n    cto_path = (\\n        \\\"cistopic_objects_master/master_all_1.FULL__cto.scrublet0-4.fmx.singlets.pkl\\\"\\n    )\\n    with open(cto_path, \\\"rb\\\") as f:\\n        cto = pickle.load(f)\\n\\n    print(f\\\"Loaded filtered cistopic object {sample}\\\")\\n    lp.create(\\n        filename=loom_path,\\n        layers=cto.fragment_matrix,\\n        row_attrs={\\\"Gene\\\": cto.region_names},\\n        col_attrs={\\\"CellID\\\": [x for x in cto.cell_names]},\\n    )\\n    print(f\\\"Finished {loom_path} loom writing\\\")\";\n",
       "                var nbb_cells = Jupyter.notebook.get_cells();\n",
       "                for (var i = 0; i < nbb_cells.length; ++i) {\n",
       "                    if (nbb_cells[i].input_prompt_number == nbb_cell_id) {\n",
       "                        if (nbb_cells[i].get_text() == nbb_unformatted_code) {\n",
       "                             nbb_cells[i].set_text(nbb_formatted_code);\n",
       "                        }\n",
       "                        break;\n",
       "                    }\n",
       "                }\n",
       "            }, 500);\n",
       "            "
      ],
      "text/plain": [
       "<IPython.core.display.Javascript object>"
      ]
     },
     "metadata": {},
     "output_type": "display_data"
    }
   ],
   "source": [
    "loom_path = 'cell_region_looms/master_all_1.FULL_cto.scrublet0-4.singlets.fixedcb.loom'\n",
    "if not os.path.exists(loom_path):\n",
    "    cto_path = 'cistopic_objects_master/master_all_1.FULL__cto.scrublet0-4.fmx.singlets.pkl'\n",
    "    with open(cto_path, 'rb') as f:\n",
    "        cto = pickle.load(f)\n",
    "\n",
    "    print(f\"Loaded filtered cistopic object {sample}\")\n",
    "    lp.create(\n",
    "        filename = loom_path,\n",
    "        layers=cto.fragment_matrix,\n",
    "        row_attrs={ 'Gene': cto.region_names }, \n",
    "        col_attrs={ 'CellID': [x for x in cto.cell_names ] }\n",
    "    )\n",
    "    print(f\"Finished {loom_path} loom writing\")"
   ]
  }
 ],
 "metadata": {
  "kernelspec": {
   "display_name": "20220628_pycistopic.sif",
   "language": "python",
   "name": "cistopic_20220628"
  },
  "language_info": {
   "codemirror_mode": {
    "name": "ipython",
    "version": 3
   },
   "file_extension": ".py",
   "mimetype": "text/x-python",
   "name": "python",
   "nbconvert_exporter": "python",
   "pygments_lexer": "ipython3",
   "version": "3.8.13"
  },
  "papermill": {
   "default_parameters": {},
   "duration": 11666.449483,
   "end_time": "2022-10-02T15:23:52.130486",
   "environment_variables": {},
   "exception": true,
   "input_path": "2_create_CTO_MASTER_peaks.ipynb",
   "output_path": "2_create_CTO_MASTER_peaks.OUT.ipynb",
   "parameters": {},
   "start_time": "2022-10-02T12:09:25.681003",
   "version": "2.3.4"
  }
 },
 "nbformat": 4,
 "nbformat_minor": 5
}

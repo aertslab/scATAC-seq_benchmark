{
 "cells": [
  {
   "cell_type": "markdown",
   "id": "72874e29",
   "metadata": {
    "papermill": {
     "duration": 0.007662,
     "end_time": "2022-09-30T13:26:35.233722",
     "exception": false,
     "start_time": "2022-09-30T13:26:35.226060",
     "status": "completed"
    },
    "pycharm": {
     "name": "#%% md\n"
    },
    "tags": []
   },
   "source": [
    "# pycisTopic analysis\n",
    "\n",
    "Full dataset, using consensus peak regions."
   ]
  },
  {
   "cell_type": "code",
   "execution_count": 1,
   "id": "77f62885",
   "metadata": {
    "execution": {
     "iopub.execute_input": "2023-01-04T16:20:17.674282Z",
     "iopub.status.busy": "2023-01-04T16:20:17.673511Z",
     "iopub.status.idle": "2023-01-04T16:20:22.311678Z",
     "shell.execute_reply": "2023-01-04T16:20:22.310235Z",
     "shell.execute_reply.started": "2023-01-04T16:20:17.674132Z"
    },
    "papermill": {
     "duration": 3.077325,
     "end_time": "2022-09-30T13:26:38.318357",
     "exception": false,
     "start_time": "2022-09-30T13:26:35.241032",
     "status": "completed"
    },
    "pycharm": {
     "name": "#%%\n"
    },
    "tags": []
   },
   "outputs": [
    {
     "data": {
      "application/javascript": [
       "\n",
       "            setTimeout(function() {\n",
       "                var nbb_cell_id = 1;\n",
       "                var nbb_unformatted_code = \"import pycisTopic\\n\\n%load_ext nb_black\\nimport warnings\\n\\nwarnings.filterwarnings(\\\"ignore\\\")\\nwarnings.simplefilter(\\\"ignore\\\")\\nimport pickle\\nimport pandas as pd\\nimport os\\n\\n%load_ext lab_black\";\n",
       "                var nbb_formatted_code = \"import pycisTopic\\n\\n%load_ext nb_black\\nimport warnings\\n\\nwarnings.filterwarnings(\\\"ignore\\\")\\nwarnings.simplefilter(\\\"ignore\\\")\\nimport pickle\\nimport pandas as pd\\nimport os\\n\\n%load_ext lab_black\";\n",
       "                var nbb_cells = Jupyter.notebook.get_cells();\n",
       "                for (var i = 0; i < nbb_cells.length; ++i) {\n",
       "                    if (nbb_cells[i].input_prompt_number == nbb_cell_id) {\n",
       "                        if (nbb_cells[i].get_text() == nbb_unformatted_code) {\n",
       "                             nbb_cells[i].set_text(nbb_formatted_code);\n",
       "                        }\n",
       "                        break;\n",
       "                    }\n",
       "                }\n",
       "            }, 500);\n",
       "            "
      ],
      "text/plain": [
       "<IPython.core.display.Javascript object>"
      ]
     },
     "metadata": {},
     "output_type": "display_data"
    }
   ],
   "source": [
    "import pycisTopic\n",
    "\n",
    "%load_ext nb_black\n",
    "import warnings\n",
    "\n",
    "warnings.filterwarnings(\"ignore\")\n",
    "warnings.simplefilter(\"ignore\")\n",
    "import pickle\n",
    "import pandas as pd\n",
    "import os\n",
    "\n",
    "%load_ext lab_black"
   ]
  },
  {
   "cell_type": "code",
   "execution_count": 2,
   "id": "63f3fe8d",
   "metadata": {
    "collapsed": false,
    "execution": {
     "iopub.execute_input": "2023-01-04T16:20:22.317253Z",
     "iopub.status.busy": "2023-01-04T16:20:22.316882Z",
     "iopub.status.idle": "2023-01-04T16:20:22.327060Z",
     "shell.execute_reply": "2023-01-04T16:20:22.326024Z",
     "shell.execute_reply.started": "2023-01-04T16:20:22.317222Z"
    },
    "jupyter": {
     "outputs_hidden": false
    },
    "papermill": {
     "duration": 0.013477,
     "end_time": "2022-09-30T13:26:38.584310",
     "exception": false,
     "start_time": "2022-09-30T13:26:38.570833",
     "status": "completed"
    },
    "pycharm": {
     "name": "#%%\n"
    },
    "tags": []
   },
   "outputs": [
    {
     "data": {
      "application/javascript": [
       "\n",
       "            setTimeout(function() {\n",
       "                var nbb_cell_id = 2;\n",
       "                var nbb_unformatted_code = \"wdir = \\\"/lustre1/project/stg_00090/scatac_benchmark/fixedcells_6_merged_equalcells\\\"\\nos.chdir(wdir)\";\n",
       "                var nbb_formatted_code = \"wdir = \\\"/lustre1/project/stg_00090/scatac_benchmark/fixedcells_6_merged_equalcells\\\"\\nos.chdir(wdir)\";\n",
       "                var nbb_cells = Jupyter.notebook.get_cells();\n",
       "                for (var i = 0; i < nbb_cells.length; ++i) {\n",
       "                    if (nbb_cells[i].input_prompt_number == nbb_cell_id) {\n",
       "                        if (nbb_cells[i].get_text() == nbb_unformatted_code) {\n",
       "                             nbb_cells[i].set_text(nbb_formatted_code);\n",
       "                        }\n",
       "                        break;\n",
       "                    }\n",
       "                }\n",
       "            }, 500);\n",
       "            "
      ],
      "text/plain": [
       "<IPython.core.display.Javascript object>"
      ]
     },
     "metadata": {},
     "output_type": "display_data"
    }
   ],
   "source": [
    "wdir = \"/lustre1/project/stg_00090/scatac_benchmark/fixedcells_6_merged_equalcells\"\n",
    "os.chdir(wdir)"
   ]
  },
  {
   "cell_type": "code",
   "execution_count": 3,
   "id": "9f5f1546",
   "metadata": {
    "execution": {
     "iopub.execute_input": "2023-01-04T16:20:22.331864Z",
     "iopub.status.busy": "2023-01-04T16:20:22.331299Z",
     "iopub.status.idle": "2023-01-04T16:20:22.348871Z",
     "shell.execute_reply": "2023-01-04T16:20:22.347460Z",
     "shell.execute_reply.started": "2023-01-04T16:20:22.331836Z"
    },
    "papermill": {
     "duration": 0.043287,
     "end_time": "2022-09-30T13:26:38.634575",
     "exception": false,
     "start_time": "2022-09-30T13:26:38.591288",
     "status": "completed"
    },
    "pycharm": {
     "name": "#%%\n"
    },
    "tags": []
   },
   "outputs": [
    {
     "data": {
      "application/javascript": [
       "\n",
       "            setTimeout(function() {\n",
       "                var nbb_cell_id = 3;\n",
       "                var nbb_unformatted_code = \"# create output directory:\\nf_final_dir = os.path.join(wdir, \\\"downstream_analysis\\\")\\nif not os.path.exists(f_final_dir):\\n    os.makedirs(f_final_dir)\";\n",
       "                var nbb_formatted_code = \"# create output directory:\\nf_final_dir = os.path.join(wdir, \\\"downstream_analysis\\\")\\nif not os.path.exists(f_final_dir):\\n    os.makedirs(f_final_dir)\";\n",
       "                var nbb_cells = Jupyter.notebook.get_cells();\n",
       "                for (var i = 0; i < nbb_cells.length; ++i) {\n",
       "                    if (nbb_cells[i].input_prompt_number == nbb_cell_id) {\n",
       "                        if (nbb_cells[i].get_text() == nbb_unformatted_code) {\n",
       "                             nbb_cells[i].set_text(nbb_formatted_code);\n",
       "                        }\n",
       "                        break;\n",
       "                    }\n",
       "                }\n",
       "            }, 500);\n",
       "            "
      ],
      "text/plain": [
       "<IPython.core.display.Javascript object>"
      ]
     },
     "metadata": {},
     "output_type": "display_data"
    }
   ],
   "source": [
    "# create output directory:\n",
    "f_final_dir = os.path.join(wdir, \"downstream_analysis\")\n",
    "if not os.path.exists(f_final_dir):\n",
    "    os.makedirs(f_final_dir)"
   ]
  },
  {
   "cell_type": "code",
   "execution_count": 4,
   "id": "0c406383",
   "metadata": {
    "execution": {
     "iopub.execute_input": "2023-01-04T16:20:22.354162Z",
     "iopub.status.busy": "2023-01-04T16:20:22.353805Z",
     "iopub.status.idle": "2023-01-04T16:20:22.374045Z",
     "shell.execute_reply": "2023-01-04T16:20:22.372611Z",
     "shell.execute_reply.started": "2023-01-04T16:20:22.354129Z"
    },
    "papermill": {
     "duration": 0.012125,
     "end_time": "2022-09-30T13:26:38.653873",
     "exception": false,
     "start_time": "2022-09-30T13:26:38.641748",
     "status": "completed"
    },
    "pycharm": {
     "name": "#%%\n"
    },
    "tags": []
   },
   "outputs": [
    {
     "data": {
      "application/javascript": [
       "\n",
       "            setTimeout(function() {\n",
       "                var nbb_cell_id = 4;\n",
       "                var nbb_unformatted_code = \"import glob\";\n",
       "                var nbb_formatted_code = \"import glob\";\n",
       "                var nbb_cells = Jupyter.notebook.get_cells();\n",
       "                for (var i = 0; i < nbb_cells.length; ++i) {\n",
       "                    if (nbb_cells[i].input_prompt_number == nbb_cell_id) {\n",
       "                        if (nbb_cells[i].get_text() == nbb_unformatted_code) {\n",
       "                             nbb_cells[i].set_text(nbb_formatted_code);\n",
       "                        }\n",
       "                        break;\n",
       "                    }\n",
       "                }\n",
       "            }, 500);\n",
       "            "
      ],
      "text/plain": [
       "<IPython.core.display.Javascript object>"
      ]
     },
     "metadata": {},
     "output_type": "display_data"
    }
   ],
   "source": [
    "import glob"
   ]
  },
  {
   "cell_type": "markdown",
   "id": "ec4a46f4",
   "metadata": {
    "papermill": {
     "duration": 0.006799,
     "end_time": "2022-09-30T13:26:38.725334",
     "exception": false,
     "start_time": "2022-09-30T13:26:38.718535",
     "status": "completed"
    },
    "pycharm": {
     "name": "#%% md\n"
    },
    "tags": []
   },
   "source": [
    "## Save/load cisTopic objects"
   ]
  },
  {
   "cell_type": "code",
   "execution_count": 5,
   "id": "a231535f",
   "metadata": {
    "execution": {
     "iopub.execute_input": "2023-01-04T16:20:22.381665Z",
     "iopub.status.busy": "2023-01-04T16:20:22.380588Z",
     "iopub.status.idle": "2023-01-04T16:20:22.420230Z",
     "shell.execute_reply": "2023-01-04T16:20:22.418823Z",
     "shell.execute_reply.started": "2023-01-04T16:20:22.381613Z"
    },
    "papermill": {
     "duration": 0.084689,
     "end_time": "2022-09-30T13:26:38.816776",
     "exception": false,
     "start_time": "2022-09-30T13:26:38.732087",
     "status": "completed"
    },
    "pycharm": {
     "name": "#%%\n"
    },
    "tags": []
   },
   "outputs": [
    {
     "data": {
      "text/plain": [
       "{'master_sub_1.FIXEDCELLS': 'cistopic_objects/master_sub_1.FIXEDCELLS__cto.scrublet0-4.fmx.singlets.model_20topics.dimreduc.consensus_harmony.pkl'}"
      ]
     },
     "execution_count": 5,
     "metadata": {},
     "output_type": "execute_result"
    },
    {
     "data": {
      "application/javascript": [
       "\n",
       "            setTimeout(function() {\n",
       "                var nbb_cell_id = 5;\n",
       "                var nbb_unformatted_code = \"cto_consensus_paths = sorted(glob.glob(f\\\"cistopic_objects/*consensus_harmony.pkl\\\"))\\ncistopic_obj_path_dict = {\\n    x.split(\\\"/\\\")[-1].split(f\\\"__\\\")[0]: x for x in cto_consensus_paths\\n}\\ncistopic_obj_path_dict\";\n",
       "                var nbb_formatted_code = \"cto_consensus_paths = sorted(glob.glob(f\\\"cistopic_objects/*consensus_harmony.pkl\\\"))\\ncistopic_obj_path_dict = {\\n    x.split(\\\"/\\\")[-1].split(f\\\"__\\\")[0]: x for x in cto_consensus_paths\\n}\\ncistopic_obj_path_dict\";\n",
       "                var nbb_cells = Jupyter.notebook.get_cells();\n",
       "                for (var i = 0; i < nbb_cells.length; ++i) {\n",
       "                    if (nbb_cells[i].input_prompt_number == nbb_cell_id) {\n",
       "                        if (nbb_cells[i].get_text() == nbb_unformatted_code) {\n",
       "                             nbb_cells[i].set_text(nbb_formatted_code);\n",
       "                        }\n",
       "                        break;\n",
       "                    }\n",
       "                }\n",
       "            }, 500);\n",
       "            "
      ],
      "text/plain": [
       "<IPython.core.display.Javascript object>"
      ]
     },
     "metadata": {},
     "output_type": "display_data"
    }
   ],
   "source": [
    "cto_consensus_paths = sorted(glob.glob(f\"cistopic_objects/*consensus_harmony.pkl\"))\n",
    "cistopic_obj_path_dict = {\n",
    "    x.split(\"/\")[-1].split(f\"__\")[0]: x for x in cto_consensus_paths\n",
    "}\n",
    "cistopic_obj_path_dict"
   ]
  },
  {
   "cell_type": "markdown",
   "id": "b7fafd45",
   "metadata": {
    "papermill": {
     "duration": 0.007729,
     "end_time": "2022-09-30T13:26:38.832586",
     "exception": false,
     "start_time": "2022-09-30T13:26:38.824857",
     "status": "completed"
    },
    "pycharm": {
     "name": "#%% md\n"
    },
    "tags": []
   },
   "source": [
    "## Topic binarization & QC"
   ]
  },
  {
   "cell_type": "code",
   "execution_count": 6,
   "id": "432ef314",
   "metadata": {
    "execution": {
     "iopub.execute_input": "2023-01-04T16:20:22.425887Z",
     "iopub.status.busy": "2023-01-04T16:20:22.425510Z",
     "iopub.status.idle": "2023-01-04T16:20:47.685648Z",
     "shell.execute_reply": "2023-01-04T16:20:47.684153Z",
     "shell.execute_reply.started": "2023-01-04T16:20:22.425853Z"
    },
    "papermill": {
     "duration": 19.457856,
     "end_time": "2022-09-30T13:26:58.297611",
     "exception": false,
     "start_time": "2022-09-30T13:26:38.839755",
     "status": "completed"
    },
    "pycharm": {
     "name": "#%%\n"
    },
    "tags": []
   },
   "outputs": [
    {
     "data": {
      "application/javascript": [
       "\n",
       "            setTimeout(function() {\n",
       "                var nbb_cell_id = 6;\n",
       "                var nbb_unformatted_code = \"from pycisTopic.topic_binarization import binarize_topics\\nfrom pycisTopic.topic_qc import compute_topic_metrics, plot_topic_qc\\nfrom pycisTopic.utils import fig2img\\nimport matplotlib.pyplot as plt\\nfrom pycisTopic.topic_qc import topic_annotation\\nfrom pycisTopic.diff_features import (\\n    impute_accessibility,\\n    normalize_scores,\\n    find_highly_variable_features,\\n    find_diff_features,\\n)\\nfrom pycisTopic.clust_vis import plot_imputed_features\\nimport numpy as np\\nimport copy\";\n",
       "                var nbb_formatted_code = \"from pycisTopic.topic_binarization import binarize_topics\\nfrom pycisTopic.topic_qc import compute_topic_metrics, plot_topic_qc\\nfrom pycisTopic.utils import fig2img\\nimport matplotlib.pyplot as plt\\nfrom pycisTopic.topic_qc import topic_annotation\\nfrom pycisTopic.diff_features import (\\n    impute_accessibility,\\n    normalize_scores,\\n    find_highly_variable_features,\\n    find_diff_features,\\n)\\nfrom pycisTopic.clust_vis import plot_imputed_features\\nimport numpy as np\\nimport copy\";\n",
       "                var nbb_cells = Jupyter.notebook.get_cells();\n",
       "                for (var i = 0; i < nbb_cells.length; ++i) {\n",
       "                    if (nbb_cells[i].input_prompt_number == nbb_cell_id) {\n",
       "                        if (nbb_cells[i].get_text() == nbb_unformatted_code) {\n",
       "                             nbb_cells[i].set_text(nbb_formatted_code);\n",
       "                        }\n",
       "                        break;\n",
       "                    }\n",
       "                }\n",
       "            }, 500);\n",
       "            "
      ],
      "text/plain": [
       "<IPython.core.display.Javascript object>"
      ]
     },
     "metadata": {},
     "output_type": "display_data"
    }
   ],
   "source": [
    "from pycisTopic.topic_binarization import binarize_topics\n",
    "from pycisTopic.topic_qc import compute_topic_metrics, plot_topic_qc\n",
    "from pycisTopic.utils import fig2img\n",
    "import matplotlib.pyplot as plt\n",
    "from pycisTopic.topic_qc import topic_annotation\n",
    "from pycisTopic.diff_features import (\n",
    "    impute_accessibility,\n",
    "    normalize_scores,\n",
    "    find_highly_variable_features,\n",
    "    find_diff_features,\n",
    ")\n",
    "from pycisTopic.clust_vis import plot_imputed_features\n",
    "import numpy as np\n",
    "import copy"
   ]
  },
  {
   "cell_type": "markdown",
   "id": "04590be6",
   "metadata": {
    "papermill": {
     "duration": 0.007856,
     "end_time": "2022-09-30T13:26:58.319080",
     "exception": false,
     "start_time": "2022-09-30T13:26:58.311224",
     "status": "completed"
    },
    "pycharm": {
     "name": "#%% md\n"
    },
    "tags": []
   },
   "source": [
    "### Binarize the topic-region distributions"
   ]
  },
  {
   "cell_type": "code",
   "execution_count": 9,
   "id": "7130af29-e8a4-4228-a28a-21856283c680",
   "metadata": {
    "execution": {
     "iopub.execute_input": "2023-01-02T17:28:34.898781Z",
     "iopub.status.busy": "2023-01-02T17:28:34.897876Z",
     "iopub.status.idle": "2023-01-02T17:28:35.167220Z",
     "shell.execute_reply": "2023-01-02T17:28:35.166040Z",
     "shell.execute_reply.started": "2023-01-02T17:28:34.898722Z"
    },
    "tags": []
   },
   "outputs": [
    {
     "name": "stdout",
     "output_type": "stream",
     "text": [
      "downstream_analysis/DARs/master_sub_1.FIXEDCELLS already exists!\n"
     ]
    },
    {
     "data": {
      "application/javascript": [
       "\n",
       "            setTimeout(function() {\n",
       "                var nbb_cell_id = 9;\n",
       "                var nbb_unformatted_code = \"for sample in cistopic_obj_path_dict.keys():\\n    # for sample  in ['SAN_10xmultiome_1.FIXEDCELLS']:\\n    path = cistopic_obj_path_dict[sample]\\n    if not os.path.exists(f\\\"downstream_analysis/DARs/{sample}\\\"):\\n        if os.path.isfile(path):\\n            print(f\\\"Loading {path}\\\")\\n            with open(path, \\\"rb\\\") as f:\\n                cto = pickle.load(f)\\n\\n            cto.cell_names = cto.cell_data.index\\n            if [x.split(\\\"-\\\")[0] for x in cto.selected_model.cell_topic.columns] == [\\n                x.split(\\\"___\\\")[0] for x in list(cto.cell_names)\\n            ]:\\n                cto.selected_model.cell_topic.columns = list(cto.cell_names)\\n\\n            region_bin_topics = binarize_topics(\\n                cto,\\n                method=\\\"otsu\\\",\\n                ntop=3000,\\n                plot=True,\\n                num_columns=6,\\n                save=f\\\"plots_qc/{sample}__topic_region_binarized.png\\\",\\n            )\\n\\n            with open(\\n                f\\\"downstream_analysis/binarized_topics/{sample}__topic_region_binarized.pkl\\\",\\n                \\\"wb\\\",\\n            ) as f:\\n                pickle.dump(region_bin_topics, f, protocol=4)\\n\\n            binarized_cell_topics = binarize_topics(\\n                cto,\\n                target=\\\"cell\\\",\\n                method=\\\"li\\\",\\n                plot=True,\\n                num_columns=5,\\n                nbins=100,\\n                save=f\\\"plots_qc/{sample}__cells_topic_binarized.png\\\",\\n            )\\n\\n            with open(\\n                f\\\"downstream_analysis/binarized_topics/{sample}__cells_topic_binarized.pkl\\\",\\n                \\\"wb\\\",\\n            ) as f:\\n                pickle.dump(region_bin_topics, f, protocol=4)\\n\\n            topic_qc_metrics = compute_topic_metrics(cto)\\n\\n            with open(\\n                f\\\"downstream_analysis/binarized_topics/{sample}__topic_qc.pkl\\\", \\\"wb\\\"\\n            ) as f:\\n                pickle.dump(topic_qc_metrics, f, protocol=4)\\n\\n            fig_dict = {\\n                \\\"CoherenceVSAssignments\\\": plot_topic_qc(\\n                    topic_qc_metrics,\\n                    var_x=\\\"Coherence\\\",\\n                    var_y=\\\"Log10_Assignments\\\",\\n                    var_color=\\\"Gini_index\\\",\\n                    plot=False,\\n                    return_fig=True,\\n                ),\\n                \\\"AssignmentsVSCells_in_bin\\\": plot_topic_qc(\\n                    topic_qc_metrics,\\n                    var_x=\\\"Log10_Assignments\\\",\\n                    var_y=\\\"Cells_in_binarized_topic\\\",\\n                    var_color=\\\"Gini_index\\\",\\n                    plot=False,\\n                    return_fig=True,\\n                ),\\n                \\\"CoherenceVSCells_in_bin\\\": plot_topic_qc(\\n                    topic_qc_metrics,\\n                    var_x=\\\"Coherence\\\",\\n                    var_y=\\\"Cells_in_binarized_topic\\\",\\n                    var_color=\\\"Gini_index\\\",\\n                    plot=False,\\n                    return_fig=True,\\n                ),\\n                \\\"CoherenceVSRegions_in_bin\\\": plot_topic_qc(\\n                    topic_qc_metrics,\\n                    var_x=\\\"Coherence\\\",\\n                    var_y=\\\"Regions_in_binarized_topic\\\",\\n                    var_color=\\\"Gini_index\\\",\\n                    plot=False,\\n                    return_fig=True,\\n                ),\\n                \\\"CoherenceVSMarginal_dist\\\": plot_topic_qc(\\n                    topic_qc_metrics,\\n                    var_x=\\\"Coherence\\\",\\n                    var_y=\\\"Marginal_topic_dist\\\",\\n                    var_color=\\\"Gini_index\\\",\\n                    plot=False,\\n                    return_fig=True,\\n                ),\\n                \\\"CoherenceVSGini_index\\\": plot_topic_qc(\\n                    topic_qc_metrics,\\n                    var_x=\\\"Coherence\\\",\\n                    var_y=\\\"Gini_index\\\",\\n                    var_color=\\\"Gini_index\\\",\\n                    plot=False,\\n                    return_fig=True,\\n                ),\\n            }\\n\\n            fig = plt.figure(figsize=(40, 43))\\n            i = 1\\n            for fig_ in fig_dict.keys():\\n                plt.subplot(2, 3, i)\\n                img = fig2img(\\n                    fig_dict[fig_]\\n                )  # To convert figures to png to plot together, see .utils.py. This converts the figure to png.\\n                plt.imshow(img)\\n                plt.axis(\\\"off\\\")\\n                i += 1\\n            plt.subplots_adjust(wspace=0, hspace=-0.70)\\n            # plt.tight_layout()\\n            plt.show()\\n            plt.savefig(\\n                f\\\"plots_qc/{sample}__topic_qc_metrics.png\\\", facecolor=\\\"white\\\", dpi=150\\n            )\\n\\n            topic_annot = topic_annotation(\\n                cto,\\n                annot_var=\\\"consensus_cell_type\\\",\\n                binarized_cell_topic=binarized_cell_topics,\\n                general_topic_thr=0.2,\\n            )\\n            topic_qc_metrics = pd.concat(\\n                [\\n                    topic_annot[\\n                        [\\n                            \\\"consensus_cell_type\\\",\\n                            \\\"Ratio_cells_in_topic\\\",\\n                            \\\"Ratio_group_in_population\\\",\\n                        ]\\n                    ],\\n                    topic_qc_metrics,\\n                ],\\n                axis=1,\\n            )\\n\\n            imputed_acc_obj = impute_accessibility(\\n                cto, selected_cells=None, selected_regions=None, scale_factor=10**6\\n            )\\n\\n            normalized_imputed_acc_obj = normalize_scores(\\n                imputed_acc_obj, scale_factor=10**4\\n            )\\n\\n            with open(\\n                f\\\"downstream_analysis/imputed_acc_objs/{sample}__imputed_acc_obs.pkl\\\",\\n                \\\"wb\\\",\\n            ) as f:\\n                pickle.dump(normalized_imputed_acc_obj, f, protocol=4)\\n\\n            variable_regions = find_highly_variable_features(\\n                normalized_imputed_acc_obj,\\n                min_disp=0.05,\\n                min_mean=0.0125,\\n                max_mean=3,\\n                max_disp=np.inf,\\n                n_bins=20,\\n                n_top_features=None,\\n                plot=True,\\n                save=f\\\"plots_qc/{sample}__HVR.png\\\",\\n            )\\n\\n            print(f\\\"Found {len(variable_regions)} variable regions\\\")\\n            with open(f\\\"downstream_analysis/HVRs/{sample}__HVRs.bed\\\", \\\"w\\\") as f:\\n                for line in [\\n                    x.replace(\\\":\\\", \\\"\\\\t\\\").replace(\\\"-\\\", \\\"\\\\t\\\") for x in variable_regions\\n                ]:\\n                    f.write(f\\\"{line}\\\\n\\\")\\n\\n            with open(f\\\"downstream_analysis/HVRs/{sample}__HVRs.pkl\\\", \\\"wb\\\") as f:\\n                pickle.dump(variable_regions, f, protocol=4)\\n\\n            if not os.path.exists(f\\\"downstream_analysis/DARs/{sample}\\\"):\\n                os.mkdir(f\\\"downstream_analysis/DARs/{sample}\\\")\\n\\n            markers_dict = find_diff_features(\\n                cto,\\n                normalized_imputed_acc_obj,\\n                variable=\\\"consensus_cell_type\\\",\\n                var_features=variable_regions,\\n                contrasts=None,\\n                adjpval_thr=0.05,\\n                log2fc_thr=np.log2(1.5),\\n                n_cpu=16,\\n            )\\n            with open(\\n                f\\\"downstream_analysis/DARs/{sample}/{sample}__DARs_dict.pkl\\\", \\\"wb\\\"\\n            ) as f:\\n                pickle.dump(markers_dict, f, protocol=4)\\n\\n            for cell_type in markers_dict.keys():\\n                markers = markers_dict[cell_type].index.tolist()\\n                df = pd.DataFrame(markers)\\n                if len(df) == 0:\\n                    print(f\\\"no DARs found for {cell_type} in {sample}\\\")\\n                else:\\n                    df[[0, 1]] = df[0].str.split(\\\":\\\", expand=True)\\n                    df[[1, 2]] = df[1].str.split(\\\"-\\\", expand=True)\\n                    df[3] = markers_dict[cell_type].index.tolist()\\n                    df[3] = cell_type.replace(\\\" \\\", \\\"_\\\")  # + '_' + df[3].astype(str)\\n                    score = markers_dict[cell_type][\\\"Log2FC\\\"]\\n                    score = score.reset_index(drop=True)\\n                    df[4] = score\\n                    df[5] = \\\".\\\"\\n                    pval = markers_dict[cell_type][\\\"Adjusted_pval\\\"]\\n                    pval = pval.reset_index(drop=True)\\n                    df[6] = pval\\n                    name = cell_type.replace(\\\" \\\", \\\"_\\\")\\n                    # name = name.replace('/', '-')\\n                    if not os.path.exists(f\\\"downstream_analysis/DARs/{sample}\\\"):\\n                        os.mkdir(f\\\"downstream_analysis/DARs/{sample}\\\")\\n\\n                    df.to_csv(\\n                        f'downstream_analysis/DARs/{sample}/{sample}__{cell_type.replace(\\\" \\\", \\\"_\\\")}__DARs.bed',\\n                        sep=\\\"\\\\t\\\",\\n                        header=False,\\n                        index=False,\\n                    )\\n                    df[0:2000].to_csv(\\n                        f'downstream_analysis/DARs/{sample}/{sample}__{cell_type.replace(\\\" \\\", \\\"_\\\")}__DARs.TOP2k.bed',\\n                        sep=\\\"\\\\t\\\",\\n                        header=False,\\n                        index=False,\\n                    )\\n\\n        else:\\n            print(f\\\"{path} does not exist!\\\")\\n    else:\\n        print(f\\\"downstream_analysis/DARs/{sample} already exists!\\\")\";\n",
       "                var nbb_formatted_code = \"for sample in cistopic_obj_path_dict.keys():\\n    # for sample  in ['SAN_10xmultiome_1.FIXEDCELLS']:\\n    path = cistopic_obj_path_dict[sample]\\n    if not os.path.exists(f\\\"downstream_analysis/DARs/{sample}\\\"):\\n        if os.path.isfile(path):\\n            print(f\\\"Loading {path}\\\")\\n            with open(path, \\\"rb\\\") as f:\\n                cto = pickle.load(f)\\n\\n            cto.cell_names = cto.cell_data.index\\n            if [x.split(\\\"-\\\")[0] for x in cto.selected_model.cell_topic.columns] == [\\n                x.split(\\\"___\\\")[0] for x in list(cto.cell_names)\\n            ]:\\n                cto.selected_model.cell_topic.columns = list(cto.cell_names)\\n\\n            region_bin_topics = binarize_topics(\\n                cto,\\n                method=\\\"otsu\\\",\\n                ntop=3000,\\n                plot=True,\\n                num_columns=6,\\n                save=f\\\"plots_qc/{sample}__topic_region_binarized.png\\\",\\n            )\\n\\n            with open(\\n                f\\\"downstream_analysis/binarized_topics/{sample}__topic_region_binarized.pkl\\\",\\n                \\\"wb\\\",\\n            ) as f:\\n                pickle.dump(region_bin_topics, f, protocol=4)\\n\\n            binarized_cell_topics = binarize_topics(\\n                cto,\\n                target=\\\"cell\\\",\\n                method=\\\"li\\\",\\n                plot=True,\\n                num_columns=5,\\n                nbins=100,\\n                save=f\\\"plots_qc/{sample}__cells_topic_binarized.png\\\",\\n            )\\n\\n            with open(\\n                f\\\"downstream_analysis/binarized_topics/{sample}__cells_topic_binarized.pkl\\\",\\n                \\\"wb\\\",\\n            ) as f:\\n                pickle.dump(region_bin_topics, f, protocol=4)\\n\\n            topic_qc_metrics = compute_topic_metrics(cto)\\n\\n            with open(\\n                f\\\"downstream_analysis/binarized_topics/{sample}__topic_qc.pkl\\\", \\\"wb\\\"\\n            ) as f:\\n                pickle.dump(topic_qc_metrics, f, protocol=4)\\n\\n            fig_dict = {\\n                \\\"CoherenceVSAssignments\\\": plot_topic_qc(\\n                    topic_qc_metrics,\\n                    var_x=\\\"Coherence\\\",\\n                    var_y=\\\"Log10_Assignments\\\",\\n                    var_color=\\\"Gini_index\\\",\\n                    plot=False,\\n                    return_fig=True,\\n                ),\\n                \\\"AssignmentsVSCells_in_bin\\\": plot_topic_qc(\\n                    topic_qc_metrics,\\n                    var_x=\\\"Log10_Assignments\\\",\\n                    var_y=\\\"Cells_in_binarized_topic\\\",\\n                    var_color=\\\"Gini_index\\\",\\n                    plot=False,\\n                    return_fig=True,\\n                ),\\n                \\\"CoherenceVSCells_in_bin\\\": plot_topic_qc(\\n                    topic_qc_metrics,\\n                    var_x=\\\"Coherence\\\",\\n                    var_y=\\\"Cells_in_binarized_topic\\\",\\n                    var_color=\\\"Gini_index\\\",\\n                    plot=False,\\n                    return_fig=True,\\n                ),\\n                \\\"CoherenceVSRegions_in_bin\\\": plot_topic_qc(\\n                    topic_qc_metrics,\\n                    var_x=\\\"Coherence\\\",\\n                    var_y=\\\"Regions_in_binarized_topic\\\",\\n                    var_color=\\\"Gini_index\\\",\\n                    plot=False,\\n                    return_fig=True,\\n                ),\\n                \\\"CoherenceVSMarginal_dist\\\": plot_topic_qc(\\n                    topic_qc_metrics,\\n                    var_x=\\\"Coherence\\\",\\n                    var_y=\\\"Marginal_topic_dist\\\",\\n                    var_color=\\\"Gini_index\\\",\\n                    plot=False,\\n                    return_fig=True,\\n                ),\\n                \\\"CoherenceVSGini_index\\\": plot_topic_qc(\\n                    topic_qc_metrics,\\n                    var_x=\\\"Coherence\\\",\\n                    var_y=\\\"Gini_index\\\",\\n                    var_color=\\\"Gini_index\\\",\\n                    plot=False,\\n                    return_fig=True,\\n                ),\\n            }\\n\\n            fig = plt.figure(figsize=(40, 43))\\n            i = 1\\n            for fig_ in fig_dict.keys():\\n                plt.subplot(2, 3, i)\\n                img = fig2img(\\n                    fig_dict[fig_]\\n                )  # To convert figures to png to plot together, see .utils.py. This converts the figure to png.\\n                plt.imshow(img)\\n                plt.axis(\\\"off\\\")\\n                i += 1\\n            plt.subplots_adjust(wspace=0, hspace=-0.70)\\n            # plt.tight_layout()\\n            plt.show()\\n            plt.savefig(\\n                f\\\"plots_qc/{sample}__topic_qc_metrics.png\\\", facecolor=\\\"white\\\", dpi=150\\n            )\\n\\n            topic_annot = topic_annotation(\\n                cto,\\n                annot_var=\\\"consensus_cell_type\\\",\\n                binarized_cell_topic=binarized_cell_topics,\\n                general_topic_thr=0.2,\\n            )\\n            topic_qc_metrics = pd.concat(\\n                [\\n                    topic_annot[\\n                        [\\n                            \\\"consensus_cell_type\\\",\\n                            \\\"Ratio_cells_in_topic\\\",\\n                            \\\"Ratio_group_in_population\\\",\\n                        ]\\n                    ],\\n                    topic_qc_metrics,\\n                ],\\n                axis=1,\\n            )\\n\\n            imputed_acc_obj = impute_accessibility(\\n                cto, selected_cells=None, selected_regions=None, scale_factor=10**6\\n            )\\n\\n            normalized_imputed_acc_obj = normalize_scores(\\n                imputed_acc_obj, scale_factor=10**4\\n            )\\n\\n            with open(\\n                f\\\"downstream_analysis/imputed_acc_objs/{sample}__imputed_acc_obs.pkl\\\",\\n                \\\"wb\\\",\\n            ) as f:\\n                pickle.dump(normalized_imputed_acc_obj, f, protocol=4)\\n\\n            variable_regions = find_highly_variable_features(\\n                normalized_imputed_acc_obj,\\n                min_disp=0.05,\\n                min_mean=0.0125,\\n                max_mean=3,\\n                max_disp=np.inf,\\n                n_bins=20,\\n                n_top_features=None,\\n                plot=True,\\n                save=f\\\"plots_qc/{sample}__HVR.png\\\",\\n            )\\n\\n            print(f\\\"Found {len(variable_regions)} variable regions\\\")\\n            with open(f\\\"downstream_analysis/HVRs/{sample}__HVRs.bed\\\", \\\"w\\\") as f:\\n                for line in [\\n                    x.replace(\\\":\\\", \\\"\\\\t\\\").replace(\\\"-\\\", \\\"\\\\t\\\") for x in variable_regions\\n                ]:\\n                    f.write(f\\\"{line}\\\\n\\\")\\n\\n            with open(f\\\"downstream_analysis/HVRs/{sample}__HVRs.pkl\\\", \\\"wb\\\") as f:\\n                pickle.dump(variable_regions, f, protocol=4)\\n\\n            if not os.path.exists(f\\\"downstream_analysis/DARs/{sample}\\\"):\\n                os.mkdir(f\\\"downstream_analysis/DARs/{sample}\\\")\\n\\n            markers_dict = find_diff_features(\\n                cto,\\n                normalized_imputed_acc_obj,\\n                variable=\\\"consensus_cell_type\\\",\\n                var_features=variable_regions,\\n                contrasts=None,\\n                adjpval_thr=0.05,\\n                log2fc_thr=np.log2(1.5),\\n                n_cpu=16,\\n            )\\n            with open(\\n                f\\\"downstream_analysis/DARs/{sample}/{sample}__DARs_dict.pkl\\\", \\\"wb\\\"\\n            ) as f:\\n                pickle.dump(markers_dict, f, protocol=4)\\n\\n            for cell_type in markers_dict.keys():\\n                markers = markers_dict[cell_type].index.tolist()\\n                df = pd.DataFrame(markers)\\n                if len(df) == 0:\\n                    print(f\\\"no DARs found for {cell_type} in {sample}\\\")\\n                else:\\n                    df[[0, 1]] = df[0].str.split(\\\":\\\", expand=True)\\n                    df[[1, 2]] = df[1].str.split(\\\"-\\\", expand=True)\\n                    df[3] = markers_dict[cell_type].index.tolist()\\n                    df[3] = cell_type.replace(\\\" \\\", \\\"_\\\")  # + '_' + df[3].astype(str)\\n                    score = markers_dict[cell_type][\\\"Log2FC\\\"]\\n                    score = score.reset_index(drop=True)\\n                    df[4] = score\\n                    df[5] = \\\".\\\"\\n                    pval = markers_dict[cell_type][\\\"Adjusted_pval\\\"]\\n                    pval = pval.reset_index(drop=True)\\n                    df[6] = pval\\n                    name = cell_type.replace(\\\" \\\", \\\"_\\\")\\n                    # name = name.replace('/', '-')\\n                    if not os.path.exists(f\\\"downstream_analysis/DARs/{sample}\\\"):\\n                        os.mkdir(f\\\"downstream_analysis/DARs/{sample}\\\")\\n\\n                    df.to_csv(\\n                        f'downstream_analysis/DARs/{sample}/{sample}__{cell_type.replace(\\\" \\\", \\\"_\\\")}__DARs.bed',\\n                        sep=\\\"\\\\t\\\",\\n                        header=False,\\n                        index=False,\\n                    )\\n                    df[0:2000].to_csv(\\n                        f'downstream_analysis/DARs/{sample}/{sample}__{cell_type.replace(\\\" \\\", \\\"_\\\")}__DARs.TOP2k.bed',\\n                        sep=\\\"\\\\t\\\",\\n                        header=False,\\n                        index=False,\\n                    )\\n\\n        else:\\n            print(f\\\"{path} does not exist!\\\")\\n    else:\\n        print(f\\\"downstream_analysis/DARs/{sample} already exists!\\\")\";\n",
       "                var nbb_cells = Jupyter.notebook.get_cells();\n",
       "                for (var i = 0; i < nbb_cells.length; ++i) {\n",
       "                    if (nbb_cells[i].input_prompt_number == nbb_cell_id) {\n",
       "                        if (nbb_cells[i].get_text() == nbb_unformatted_code) {\n",
       "                             nbb_cells[i].set_text(nbb_formatted_code);\n",
       "                        }\n",
       "                        break;\n",
       "                    }\n",
       "                }\n",
       "            }, 500);\n",
       "            "
      ],
      "text/plain": [
       "<IPython.core.display.Javascript object>"
      ]
     },
     "metadata": {},
     "output_type": "display_data"
    }
   ],
   "source": [
    "for sample in cistopic_obj_path_dict.keys():\n",
    "    # for sample  in ['SAN_10xmultiome_1.FIXEDCELLS']:\n",
    "    path = cistopic_obj_path_dict[sample]\n",
    "    if not os.path.exists(f\"downstream_analysis/DARs/{sample}\"):\n",
    "        if os.path.isfile(path):\n",
    "            print(f\"Loading {path}\")\n",
    "            with open(path, \"rb\") as f:\n",
    "                cto = pickle.load(f)\n",
    "\n",
    "            cto.cell_names = cto.cell_data.index\n",
    "            if [x.split(\"-\")[0] for x in cto.selected_model.cell_topic.columns] == [\n",
    "                x.split(\"___\")[0] for x in list(cto.cell_names)\n",
    "            ]:\n",
    "                cto.selected_model.cell_topic.columns = list(cto.cell_names)\n",
    "\n",
    "            region_bin_topics = binarize_topics(\n",
    "                cto,\n",
    "                method=\"otsu\",\n",
    "                ntop=3000,\n",
    "                plot=True,\n",
    "                num_columns=6,\n",
    "                save=f\"plots_qc/{sample}__topic_region_binarized.png\",\n",
    "            )\n",
    "\n",
    "            with open(\n",
    "                f\"downstream_analysis/binarized_topics/{sample}__topic_region_binarized.pkl\",\n",
    "                \"wb\",\n",
    "            ) as f:\n",
    "                pickle.dump(region_bin_topics, f, protocol=4)\n",
    "\n",
    "            binarized_cell_topics = binarize_topics(\n",
    "                cto,\n",
    "                target=\"cell\",\n",
    "                method=\"li\",\n",
    "                plot=True,\n",
    "                num_columns=5,\n",
    "                nbins=100,\n",
    "                save=f\"plots_qc/{sample}__cells_topic_binarized.png\",\n",
    "            )\n",
    "\n",
    "            with open(\n",
    "                f\"downstream_analysis/binarized_topics/{sample}__cells_topic_binarized.pkl\",\n",
    "                \"wb\",\n",
    "            ) as f:\n",
    "                pickle.dump(region_bin_topics, f, protocol=4)\n",
    "\n",
    "            topic_qc_metrics = compute_topic_metrics(cto)\n",
    "\n",
    "            with open(\n",
    "                f\"downstream_analysis/binarized_topics/{sample}__topic_qc.pkl\", \"wb\"\n",
    "            ) as f:\n",
    "                pickle.dump(topic_qc_metrics, f, protocol=4)\n",
    "\n",
    "            fig_dict = {\n",
    "                \"CoherenceVSAssignments\": plot_topic_qc(\n",
    "                    topic_qc_metrics,\n",
    "                    var_x=\"Coherence\",\n",
    "                    var_y=\"Log10_Assignments\",\n",
    "                    var_color=\"Gini_index\",\n",
    "                    plot=False,\n",
    "                    return_fig=True,\n",
    "                ),\n",
    "                \"AssignmentsVSCells_in_bin\": plot_topic_qc(\n",
    "                    topic_qc_metrics,\n",
    "                    var_x=\"Log10_Assignments\",\n",
    "                    var_y=\"Cells_in_binarized_topic\",\n",
    "                    var_color=\"Gini_index\",\n",
    "                    plot=False,\n",
    "                    return_fig=True,\n",
    "                ),\n",
    "                \"CoherenceVSCells_in_bin\": plot_topic_qc(\n",
    "                    topic_qc_metrics,\n",
    "                    var_x=\"Coherence\",\n",
    "                    var_y=\"Cells_in_binarized_topic\",\n",
    "                    var_color=\"Gini_index\",\n",
    "                    plot=False,\n",
    "                    return_fig=True,\n",
    "                ),\n",
    "                \"CoherenceVSRegions_in_bin\": plot_topic_qc(\n",
    "                    topic_qc_metrics,\n",
    "                    var_x=\"Coherence\",\n",
    "                    var_y=\"Regions_in_binarized_topic\",\n",
    "                    var_color=\"Gini_index\",\n",
    "                    plot=False,\n",
    "                    return_fig=True,\n",
    "                ),\n",
    "                \"CoherenceVSMarginal_dist\": plot_topic_qc(\n",
    "                    topic_qc_metrics,\n",
    "                    var_x=\"Coherence\",\n",
    "                    var_y=\"Marginal_topic_dist\",\n",
    "                    var_color=\"Gini_index\",\n",
    "                    plot=False,\n",
    "                    return_fig=True,\n",
    "                ),\n",
    "                \"CoherenceVSGini_index\": plot_topic_qc(\n",
    "                    topic_qc_metrics,\n",
    "                    var_x=\"Coherence\",\n",
    "                    var_y=\"Gini_index\",\n",
    "                    var_color=\"Gini_index\",\n",
    "                    plot=False,\n",
    "                    return_fig=True,\n",
    "                ),\n",
    "            }\n",
    "\n",
    "            fig = plt.figure(figsize=(40, 43))\n",
    "            i = 1\n",
    "            for fig_ in fig_dict.keys():\n",
    "                plt.subplot(2, 3, i)\n",
    "                img = fig2img(\n",
    "                    fig_dict[fig_]\n",
    "                )  # To convert figures to png to plot together, see .utils.py. This converts the figure to png.\n",
    "                plt.imshow(img)\n",
    "                plt.axis(\"off\")\n",
    "                i += 1\n",
    "            plt.subplots_adjust(wspace=0, hspace=-0.70)\n",
    "            # plt.tight_layout()\n",
    "            plt.show()\n",
    "            plt.savefig(\n",
    "                f\"plots_qc/{sample}__topic_qc_metrics.png\", facecolor=\"white\", dpi=150\n",
    "            )\n",
    "\n",
    "            topic_annot = topic_annotation(\n",
    "                cto,\n",
    "                annot_var=\"consensus_cell_type\",\n",
    "                binarized_cell_topic=binarized_cell_topics,\n",
    "                general_topic_thr=0.2,\n",
    "            )\n",
    "            topic_qc_metrics = pd.concat(\n",
    "                [\n",
    "                    topic_annot[\n",
    "                        [\n",
    "                            \"consensus_cell_type\",\n",
    "                            \"Ratio_cells_in_topic\",\n",
    "                            \"Ratio_group_in_population\",\n",
    "                        ]\n",
    "                    ],\n",
    "                    topic_qc_metrics,\n",
    "                ],\n",
    "                axis=1,\n",
    "            )\n",
    "\n",
    "            imputed_acc_obj = impute_accessibility(\n",
    "                cto, selected_cells=None, selected_regions=None, scale_factor=10**6\n",
    "            )\n",
    "\n",
    "            normalized_imputed_acc_obj = normalize_scores(\n",
    "                imputed_acc_obj, scale_factor=10**4\n",
    "            )\n",
    "\n",
    "            with open(\n",
    "                f\"downstream_analysis/imputed_acc_objs/{sample}__imputed_acc_obs.pkl\",\n",
    "                \"wb\",\n",
    "            ) as f:\n",
    "                pickle.dump(normalized_imputed_acc_obj, f, protocol=4)\n",
    "\n",
    "            variable_regions = find_highly_variable_features(\n",
    "                normalized_imputed_acc_obj,\n",
    "                min_disp=0.05,\n",
    "                min_mean=0.0125,\n",
    "                max_mean=3,\n",
    "                max_disp=np.inf,\n",
    "                n_bins=20,\n",
    "                n_top_features=None,\n",
    "                plot=True,\n",
    "                save=f\"plots_qc/{sample}__HVR.png\",\n",
    "            )\n",
    "\n",
    "            print(f\"Found {len(variable_regions)} variable regions\")\n",
    "            with open(f\"downstream_analysis/HVRs/{sample}__HVRs.bed\", \"w\") as f:\n",
    "                for line in [\n",
    "                    x.replace(\":\", \"\\t\").replace(\"-\", \"\\t\") for x in variable_regions\n",
    "                ]:\n",
    "                    f.write(f\"{line}\\n\")\n",
    "\n",
    "            with open(f\"downstream_analysis/HVRs/{sample}__HVRs.pkl\", \"wb\") as f:\n",
    "                pickle.dump(variable_regions, f, protocol=4)\n",
    "\n",
    "            if not os.path.exists(f\"downstream_analysis/DARs/{sample}\"):\n",
    "                os.mkdir(f\"downstream_analysis/DARs/{sample}\")\n",
    "\n",
    "            markers_dict = find_diff_features(\n",
    "                cto,\n",
    "                normalized_imputed_acc_obj,\n",
    "                variable=\"consensus_cell_type\",\n",
    "                var_features=variable_regions,\n",
    "                contrasts=None,\n",
    "                adjpval_thr=0.05,\n",
    "                log2fc_thr=np.log2(1.5),\n",
    "                n_cpu=16,\n",
    "            )\n",
    "            with open(\n",
    "                f\"downstream_analysis/DARs/{sample}/{sample}__DARs_dict.pkl\", \"wb\"\n",
    "            ) as f:\n",
    "                pickle.dump(markers_dict, f, protocol=4)\n",
    "\n",
    "            for cell_type in markers_dict.keys():\n",
    "                markers = markers_dict[cell_type].index.tolist()\n",
    "                df = pd.DataFrame(markers)\n",
    "                if len(df) == 0:\n",
    "                    print(f\"no DARs found for {cell_type} in {sample}\")\n",
    "                else:\n",
    "                    df[[0, 1]] = df[0].str.split(\":\", expand=True)\n",
    "                    df[[1, 2]] = df[1].str.split(\"-\", expand=True)\n",
    "                    df[3] = markers_dict[cell_type].index.tolist()\n",
    "                    df[3] = cell_type.replace(\" \", \"_\")  # + '_' + df[3].astype(str)\n",
    "                    score = markers_dict[cell_type][\"Log2FC\"]\n",
    "                    score = score.reset_index(drop=True)\n",
    "                    df[4] = score\n",
    "                    df[5] = \".\"\n",
    "                    pval = markers_dict[cell_type][\"Adjusted_pval\"]\n",
    "                    pval = pval.reset_index(drop=True)\n",
    "                    df[6] = pval\n",
    "                    name = cell_type.replace(\" \", \"_\")\n",
    "                    # name = name.replace('/', '-')\n",
    "                    if not os.path.exists(f\"downstream_analysis/DARs/{sample}\"):\n",
    "                        os.mkdir(f\"downstream_analysis/DARs/{sample}\")\n",
    "\n",
    "                    df.to_csv(\n",
    "                        f'downstream_analysis/DARs/{sample}/{sample}__{cell_type.replace(\" \", \"_\")}__DARs.bed',\n",
    "                        sep=\"\\t\",\n",
    "                        header=False,\n",
    "                        index=False,\n",
    "                    )\n",
    "                    df[0:2000].to_csv(\n",
    "                        f'downstream_analysis/DARs/{sample}/{sample}__{cell_type.replace(\" \", \"_\")}__DARs.TOP2k.bed',\n",
    "                        sep=\"\\t\",\n",
    "                        header=False,\n",
    "                        index=False,\n",
    "                    )\n",
    "\n",
    "        else:\n",
    "            print(f\"{path} does not exist!\")\n",
    "    else:\n",
    "        print(f\"downstream_analysis/DARs/{sample} already exists!\")"
   ]
  },
  {
   "cell_type": "markdown",
   "id": "dc27d698-99bf-4866-9105-d44b26ec2ba9",
   "metadata": {
    "papermill": {
     "duration": 0.008446,
     "end_time": "2022-09-30T13:26:58.539037",
     "exception": false,
     "start_time": "2022-09-30T13:26:58.530591",
     "status": "completed"
    },
    "tags": []
   },
   "source": [
    "# Calculate DARs between male and female"
   ]
  },
  {
   "cell_type": "code",
   "execution_count": 12,
   "id": "c65eef43-0bed-43fe-ba26-9ec634a2331e",
   "metadata": {
    "execution": {
     "iopub.execute_input": "2023-01-04T16:21:39.417928Z",
     "iopub.status.busy": "2023-01-04T16:21:39.417042Z",
     "iopub.status.idle": "2023-01-04T16:21:39.443110Z",
     "shell.execute_reply": "2023-01-04T16:21:39.441635Z",
     "shell.execute_reply.started": "2023-01-04T16:21:39.417869Z"
    },
    "papermill": {
     "duration": 0.098407,
     "end_time": "2022-09-30T13:26:58.646062",
     "exception": false,
     "start_time": "2022-09-30T13:26:58.547655",
     "status": "completed"
    },
    "tags": []
   },
   "outputs": [
    {
     "data": {
      "text/plain": [
       "{'master_sub_1.FIXEDCELLS': 'downstream_analysis/imputed_acc_objs/master_sub_1.FIXEDCELLS__imputed_acc_obs.pkl'}"
      ]
     },
     "execution_count": 12,
     "metadata": {},
     "output_type": "execute_result"
    },
    {
     "data": {
      "application/javascript": [
       "\n",
       "            setTimeout(function() {\n",
       "                var nbb_cell_id = 12;\n",
       "                var nbb_unformatted_code = \"normalized_imputed_acc_obj_path_dict = {\\n    x.split(\\\"/\\\")[-1].split(f\\\"__\\\")[0]: x\\n    for x in sorted(\\n        glob.glob(f\\\"downstream_analysis/imputed_acc_objs/*imputed_acc_obs.pkl\\\")\\n    )\\n}\\nnormalized_imputed_acc_obj_path_dict\";\n",
       "                var nbb_formatted_code = \"normalized_imputed_acc_obj_path_dict = {\\n    x.split(\\\"/\\\")[-1].split(f\\\"__\\\")[0]: x\\n    for x in sorted(\\n        glob.glob(f\\\"downstream_analysis/imputed_acc_objs/*imputed_acc_obs.pkl\\\")\\n    )\\n}\\nnormalized_imputed_acc_obj_path_dict\";\n",
       "                var nbb_cells = Jupyter.notebook.get_cells();\n",
       "                for (var i = 0; i < nbb_cells.length; ++i) {\n",
       "                    if (nbb_cells[i].input_prompt_number == nbb_cell_id) {\n",
       "                        if (nbb_cells[i].get_text() == nbb_unformatted_code) {\n",
       "                             nbb_cells[i].set_text(nbb_formatted_code);\n",
       "                        }\n",
       "                        break;\n",
       "                    }\n",
       "                }\n",
       "            }, 500);\n",
       "            "
      ],
      "text/plain": [
       "<IPython.core.display.Javascript object>"
      ]
     },
     "metadata": {},
     "output_type": "display_data"
    }
   ],
   "source": [
    "normalized_imputed_acc_obj_path_dict = {\n",
    "    x.split(\"/\")[-1].split(f\"__\")[0]: x\n",
    "    for x in sorted(\n",
    "        glob.glob(f\"downstream_analysis/imputed_acc_objs/*imputed_acc_obs.pkl\")\n",
    "    )\n",
    "}\n",
    "normalized_imputed_acc_obj_path_dict"
   ]
  },
  {
   "cell_type": "code",
   "execution_count": 13,
   "id": "6500171b-229c-4784-b55f-65296e7a108a",
   "metadata": {
    "execution": {
     "iopub.execute_input": "2023-01-04T16:21:39.552406Z",
     "iopub.status.busy": "2023-01-04T16:21:39.551602Z",
     "iopub.status.idle": "2023-01-04T16:21:39.580974Z",
     "shell.execute_reply": "2023-01-04T16:21:39.579508Z",
     "shell.execute_reply.started": "2023-01-04T16:21:39.552348Z"
    },
    "papermill": {
     "duration": 0.019586,
     "end_time": "2022-09-30T13:26:58.673912",
     "exception": false,
     "start_time": "2022-09-30T13:26:58.654326",
     "status": "completed"
    },
    "tags": []
   },
   "outputs": [
    {
     "data": {
      "text/plain": [
       "{'master_sub_1.FIXEDCELLS': 'downstream_analysis/HVRs/master_sub_1.FIXEDCELLS__HVRs.bed'}"
      ]
     },
     "execution_count": 13,
     "metadata": {},
     "output_type": "execute_result"
    },
    {
     "data": {
      "application/javascript": [
       "\n",
       "            setTimeout(function() {\n",
       "                var nbb_cell_id = 13;\n",
       "                var nbb_unformatted_code = \"hvr_path_dict = {\\n    x.split(\\\"/\\\")[-1].split(f\\\"__\\\")[0]: x\\n    for x in sorted(glob.glob(f\\\"downstream_analysis/HVRs/*bed\\\"))\\n}\\nhvr_path_dict\";\n",
       "                var nbb_formatted_code = \"hvr_path_dict = {\\n    x.split(\\\"/\\\")[-1].split(f\\\"__\\\")[0]: x\\n    for x in sorted(glob.glob(f\\\"downstream_analysis/HVRs/*bed\\\"))\\n}\\nhvr_path_dict\";\n",
       "                var nbb_cells = Jupyter.notebook.get_cells();\n",
       "                for (var i = 0; i < nbb_cells.length; ++i) {\n",
       "                    if (nbb_cells[i].input_prompt_number == nbb_cell_id) {\n",
       "                        if (nbb_cells[i].get_text() == nbb_unformatted_code) {\n",
       "                             nbb_cells[i].set_text(nbb_formatted_code);\n",
       "                        }\n",
       "                        break;\n",
       "                    }\n",
       "                }\n",
       "            }, 500);\n",
       "            "
      ],
      "text/plain": [
       "<IPython.core.display.Javascript object>"
      ]
     },
     "metadata": {},
     "output_type": "display_data"
    }
   ],
   "source": [
    "hvr_path_dict = {\n",
    "    x.split(\"/\")[-1].split(f\"__\")[0]: x\n",
    "    for x in sorted(glob.glob(f\"downstream_analysis/HVRs/*bed\"))\n",
    "}\n",
    "hvr_path_dict"
   ]
  },
  {
   "cell_type": "code",
   "execution_count": 14,
   "id": "ee10f08c-aa0d-4090-992a-5b7c672ca893",
   "metadata": {
    "execution": {
     "iopub.execute_input": "2023-01-04T16:21:39.723263Z",
     "iopub.status.busy": "2023-01-04T16:21:39.722461Z",
     "iopub.status.idle": "2023-01-04T16:21:39.737328Z",
     "shell.execute_reply": "2023-01-04T16:21:39.735737Z",
     "shell.execute_reply.started": "2023-01-04T16:21:39.723206Z"
    },
    "tags": []
   },
   "outputs": [
    {
     "data": {
      "text/plain": [
       "{'master_sub_1.FIXEDCELLS': 'cistopic_objects/master_sub_1.FIXEDCELLS__cto.scrublet0-4.fmx.singlets.model_20topics.dimreduc.consensus_harmony.pkl'}"
      ]
     },
     "execution_count": 14,
     "metadata": {},
     "output_type": "execute_result"
    },
    {
     "data": {
      "application/javascript": [
       "\n",
       "            setTimeout(function() {\n",
       "                var nbb_cell_id = 14;\n",
       "                var nbb_unformatted_code = \"cistopic_obj_path_dict\";\n",
       "                var nbb_formatted_code = \"cistopic_obj_path_dict\";\n",
       "                var nbb_cells = Jupyter.notebook.get_cells();\n",
       "                for (var i = 0; i < nbb_cells.length; ++i) {\n",
       "                    if (nbb_cells[i].input_prompt_number == nbb_cell_id) {\n",
       "                        if (nbb_cells[i].get_text() == nbb_unformatted_code) {\n",
       "                             nbb_cells[i].set_text(nbb_formatted_code);\n",
       "                        }\n",
       "                        break;\n",
       "                    }\n",
       "                }\n",
       "            }, 500);\n",
       "            "
      ],
      "text/plain": [
       "<IPython.core.display.Javascript object>"
      ]
     },
     "metadata": {},
     "output_type": "display_data"
    }
   ],
   "source": [
    "cistopic_obj_path_dict"
   ]
  },
  {
   "cell_type": "code",
   "execution_count": 10,
   "id": "56b9b2e1-25fb-4a2e-9a76-d2c4870a3b93",
   "metadata": {
    "execution": {
     "iopub.execute_input": "2023-01-01T20:35:18.947080Z",
     "iopub.status.busy": "2023-01-01T20:35:18.946191Z",
     "iopub.status.idle": "2023-01-01T20:38:30.810576Z",
     "shell.execute_reply": "2023-01-01T20:38:30.809499Z",
     "shell.execute_reply.started": "2023-01-01T20:35:18.947018Z"
    },
    "papermill": {
     "duration": 18850.001517,
     "end_time": "2022-09-30T18:41:08.683717",
     "exception": false,
     "start_time": "2022-09-30T13:26:58.682200",
     "status": "completed"
    },
    "tags": []
   },
   "outputs": [
    {
     "name": "stdout",
     "output_type": "stream",
     "text": [
      "Loading cistopic_objects/master_sub_1.FIXEDCELLS__cto.scrublet0-4.fmx.singlets.model_20topics.dimreduc.consensus.pkl\n",
      "Loading downstream_analysis/imputed_acc_objs/master_sub_1.FIXEDCELLS.singlets__imputed_acc_obs.pkl\n",
      "Loading downstream_analysis/HVRs/master_sub_1.FIXEDCELLS.singlets__HVRs.pkl\n",
      "Cytotoxic T cell\n",
      "B cell\n",
      "CD4+ T cell\n",
      "Natural killer cell\n",
      "Dendritic cell\n",
      "CD16+ monocyte\n",
      "CD14+ monocyte\n"
     ]
    },
    {
     "name": "stderr",
     "output_type": "stream",
     "text": [
      "2023-01-01 21:35:52,723\tINFO services.py:1470 -- View the Ray dashboard at \u001b[1m\u001b[32mhttp://127.0.0.1:8265\u001b[39m\u001b[22m\n"
     ]
    },
    {
     "name": "stdout",
     "output_type": "stream",
     "text": [
      "\u001b[2m\u001b[36m(markers_ray pid=3310943)\u001b[0m 2023-01-01 21:35:59,833 cisTopic     INFO     Formatting data for sampleA_Cytotoxic T cell_VS_sampleB_Cytotoxic T cell\n",
      "\u001b[2m\u001b[36m(markers_ray pid=3310945)\u001b[0m 2023-01-01 21:36:03,360 cisTopic     INFO     Formatting data for sampleB_Cytotoxic T cell_VS_sampleA_Cytotoxic T cell\n",
      "\u001b[2m\u001b[36m(markers_ray pid=3310949)\u001b[0m 2023-01-01 21:36:06,774 cisTopic     INFO     Formatting data for sampleA_B cell_VS_sampleB_B cell\n",
      "\u001b[2m\u001b[36m(markers_ray pid=3310943)\u001b[0m 2023-01-01 21:36:07,229 cisTopic     INFO     Computing p-value for sampleA_Cytotoxic T cell_VS_sampleB_Cytotoxic T cell\n",
      "\u001b[2m\u001b[36m(markers_ray pid=3310942)\u001b[0m 2023-01-01 21:36:10,260 cisTopic     INFO     Formatting data for sampleB_B cell_VS_sampleA_B cell\n",
      "\u001b[2m\u001b[36m(markers_ray pid=3310945)\u001b[0m 2023-01-01 21:36:11,208 cisTopic     INFO     Computing p-value for sampleB_Cytotoxic T cell_VS_sampleA_Cytotoxic T cell\n",
      "\u001b[2m\u001b[36m(markers_ray pid=3310948)\u001b[0m 2023-01-01 21:36:13,548 cisTopic     INFO     Formatting data for sampleA_CD4+ T cell_VS_sampleB_CD4+ T cell\n",
      "\u001b[2m\u001b[36m(markers_ray pid=3310949)\u001b[0m 2023-01-01 21:36:16,015 cisTopic     INFO     Computing p-value for sampleA_B cell_VS_sampleB_B cell\n",
      "\u001b[2m\u001b[36m(markers_ray pid=3310947)\u001b[0m 2023-01-01 21:36:17,004 cisTopic     INFO     Formatting data for sampleB_CD4+ T cell_VS_sampleA_CD4+ T cell\n",
      "\u001b[2m\u001b[36m(markers_ray pid=3310942)\u001b[0m 2023-01-01 21:36:19,941 cisTopic     INFO     Computing p-value for sampleB_B cell_VS_sampleA_B cell\n",
      "\u001b[2m\u001b[36m(markers_ray pid=3310944)\u001b[0m 2023-01-01 21:36:20,326 cisTopic     INFO     Formatting data for sampleA_Natural killer cell_VS_sampleB_Natural killer cell\n",
      "\u001b[2m\u001b[36m(markers_ray pid=3310946)\u001b[0m 2023-01-01 21:36:23,724 cisTopic     INFO     Formatting data for sampleB_Natural killer cell_VS_sampleA_Natural killer cell\n",
      "\u001b[2m\u001b[36m(markers_ray pid=3310944)\u001b[0m 2023-01-01 21:36:24,248 cisTopic     INFO     Computing p-value for sampleA_Natural killer cell_VS_sampleB_Natural killer cell\n",
      "\u001b[2m\u001b[36m(markers_ray pid=3310948)\u001b[0m 2023-01-01 21:36:25,746 cisTopic     INFO     Computing p-value for sampleA_CD4+ T cell_VS_sampleB_CD4+ T cell\n",
      "\u001b[2m\u001b[36m(markers_ray pid=3310946)\u001b[0m 2023-01-01 21:36:29,870 cisTopic     INFO     Computing p-value for sampleB_Natural killer cell_VS_sampleA_Natural killer cell\n",
      "\u001b[2m\u001b[36m(markers_ray pid=3310947)\u001b[0m 2023-01-01 21:36:31,052 cisTopic     INFO     Computing p-value for sampleB_CD4+ T cell_VS_sampleA_CD4+ T cell\n",
      "\u001b[2m\u001b[36m(markers_ray pid=3310943)\u001b[0m 2023-01-01 21:36:43,036 cisTopic     INFO     Computing log2FC for sampleA_Cytotoxic T cell_VS_sampleB_Cytotoxic T cell\n",
      "\u001b[2m\u001b[36m(markers_ray pid=3310943)\u001b[0m 2023-01-01 21:36:44,653 cisTopic     INFO     sampleA_Cytotoxic T cell_VS_sampleB_Cytotoxic T cell done!\n"
     ]
    },
    {
     "name": "stderr",
     "output_type": "stream",
     "text": [
      "\u001b[2m\u001b[36m(raylet)\u001b[0m Spilled 15930 MiB, 1 objects, write throughput 785 MiB/s. Set RAY_verbose_spill_logs=0 to disable this message.\n"
     ]
    },
    {
     "name": "stdout",
     "output_type": "stream",
     "text": [
      "\u001b[2m\u001b[36m(markers_ray pid=3310945)\u001b[0m 2023-01-01 21:36:47,349 cisTopic     INFO     Computing log2FC for sampleB_Cytotoxic T cell_VS_sampleA_Cytotoxic T cell\n",
      "\u001b[2m\u001b[36m(markers_ray pid=3310944)\u001b[0m 2023-01-01 21:36:48,066 cisTopic     INFO     Computing log2FC for sampleA_Natural killer cell_VS_sampleB_Natural killer cell\n"
     ]
    },
    {
     "name": "stderr",
     "output_type": "stream",
     "text": [
      "\u001b[2m\u001b[36m(raylet)\u001b[0m Spilled 31861 MiB, 2 objects, write throughput 1409 MiB/s.\n"
     ]
    },
    {
     "name": "stdout",
     "output_type": "stream",
     "text": [
      "\u001b[2m\u001b[36m(markers_ray pid=3310945)\u001b[0m 2023-01-01 21:36:48,926 cisTopic     INFO     sampleB_Cytotoxic T cell_VS_sampleA_Cytotoxic T cell done!\n",
      "\u001b[2m\u001b[36m(markers_ray pid=3310944)\u001b[0m 2023-01-01 21:36:49,640 cisTopic     INFO     sampleA_Natural killer cell_VS_sampleB_Natural killer cell done!\n",
      "\u001b[2m\u001b[36m(markers_ray pid=3310943)\u001b[0m 2023-01-01 21:36:49,744 cisTopic     INFO     Formatting data for sampleA_CD16+ monocyte_VS_sampleB_CD16+ monocyte\n",
      "\u001b[2m\u001b[36m(markers_ray pid=3310945)\u001b[0m 2023-01-01 21:36:49,725 cisTopic     INFO     Formatting data for sampleB_Dendritic cell_VS_sampleA_Dendritic cell\n",
      "\u001b[2m\u001b[36m(markers_ray pid=3310944)\u001b[0m 2023-01-01 21:36:49,685 cisTopic     INFO     Formatting data for sampleA_Dendritic cell_VS_sampleB_Dendritic cell\n",
      "\u001b[2m\u001b[36m(markers_ray pid=3310944)\u001b[0m 2023-01-01 21:36:51,247 cisTopic     INFO     Computing p-value for sampleA_Dendritic cell_VS_sampleB_Dendritic cell\n",
      "\u001b[2m\u001b[36m(markers_ray pid=3310945)\u001b[0m 2023-01-01 21:36:51,555 cisTopic     INFO     Computing p-value for sampleB_Dendritic cell_VS_sampleA_Dendritic cell\n"
     ]
    },
    {
     "name": "stderr",
     "output_type": "stream",
     "text": [
      "\u001b[2m\u001b[36m(raylet)\u001b[0m Spilled 47792 MiB, 3 objects, write throughput 1784 MiB/s.\n"
     ]
    },
    {
     "name": "stdout",
     "output_type": "stream",
     "text": [
      "\u001b[2m\u001b[36m(markers_ray pid=3310943)\u001b[0m 2023-01-01 21:36:52,430 cisTopic     INFO     Computing p-value for sampleA_CD16+ monocyte_VS_sampleB_CD16+ monocyte\n",
      "\u001b[2m\u001b[36m(markers_ray pid=3310946)\u001b[0m 2023-01-01 21:36:53,574 cisTopic     INFO     Computing log2FC for sampleB_Natural killer cell_VS_sampleA_Natural killer cell\n",
      "\u001b[2m\u001b[36m(markers_ray pid=3310946)\u001b[0m 2023-01-01 21:36:55,142 cisTopic     INFO     sampleB_Natural killer cell_VS_sampleA_Natural killer cell done!\n",
      "\u001b[2m\u001b[36m(markers_ray pid=3310946)\u001b[0m 2023-01-01 21:36:55,189 cisTopic     INFO     Formatting data for sampleB_CD16+ monocyte_VS_sampleA_CD16+ monocyte\n",
      "\u001b[2m\u001b[36m(markers_ray pid=3310946)\u001b[0m 2023-01-01 21:36:58,114 cisTopic     INFO     Computing p-value for sampleB_CD16+ monocyte_VS_sampleA_CD16+ monocyte\n",
      "\u001b[2m\u001b[36m(markers_ray pid=3310949)\u001b[0m 2023-01-01 21:37:03,326 cisTopic     INFO     Computing log2FC for sampleA_B cell_VS_sampleB_B cell\n",
      "\u001b[2m\u001b[36m(markers_ray pid=3310949)\u001b[0m 2023-01-01 21:37:05,033 cisTopic     INFO     sampleA_B cell_VS_sampleB_B cell done!\n",
      "\u001b[2m\u001b[36m(markers_ray pid=3310949)\u001b[0m 2023-01-01 21:37:05,080 cisTopic     INFO     Formatting data for sampleA_CD14+ monocyte_VS_sampleB_CD14+ monocyte\n",
      "\u001b[2m\u001b[36m(markers_ray pid=3310942)\u001b[0m 2023-01-01 21:37:07,549 cisTopic     INFO     Computing log2FC for sampleB_B cell_VS_sampleA_B cell\n",
      "\u001b[2m\u001b[36m(markers_ray pid=3310944)\u001b[0m 2023-01-01 21:37:08,563 cisTopic     INFO     Computing log2FC for sampleA_Dendritic cell_VS_sampleB_Dendritic cell\n",
      "\u001b[2m\u001b[36m(markers_ray pid=3310945)\u001b[0m 2023-01-01 21:37:08,877 cisTopic     INFO     Computing log2FC for sampleB_Dendritic cell_VS_sampleA_Dendritic cell\n",
      "\u001b[2m\u001b[36m(markers_ray pid=3310942)\u001b[0m 2023-01-01 21:37:09,136 cisTopic     INFO     sampleB_B cell_VS_sampleA_B cell done!\n",
      "\u001b[2m\u001b[36m(markers_ray pid=3310942)\u001b[0m 2023-01-01 21:37:09,188 cisTopic     INFO     Formatting data for sampleB_CD14+ monocyte_VS_sampleA_CD14+ monocyte\n",
      "\u001b[2m\u001b[36m(markers_ray pid=3310944)\u001b[0m 2023-01-01 21:37:10,050 cisTopic     INFO     sampleA_Dendritic cell_VS_sampleB_Dendritic cell done!\n",
      "\u001b[2m\u001b[36m(markers_ray pid=3310945)\u001b[0m 2023-01-01 21:37:10,379 cisTopic     INFO     sampleB_Dendritic cell_VS_sampleA_Dendritic cell done!\n",
      "\u001b[2m\u001b[36m(markers_ray pid=3310943)\u001b[0m 2023-01-01 21:37:13,403 cisTopic     INFO     Computing log2FC for sampleA_CD16+ monocyte_VS_sampleB_CD16+ monocyte\n",
      "\u001b[2m\u001b[36m(markers_ray pid=3310943)\u001b[0m 2023-01-01 21:37:14,935 cisTopic     INFO     sampleA_CD16+ monocyte_VS_sampleB_CD16+ monocyte done!\n"
     ]
    },
    {
     "name": "stderr",
     "output_type": "stream",
     "text": [
      "\u001b[2m\u001b[36m(raylet)\u001b[0m Spilled 63723 MiB, 4 objects, write throughput 1380 MiB/s.\n"
     ]
    },
    {
     "name": "stdout",
     "output_type": "stream",
     "text": [
      "\u001b[2m\u001b[36m(markers_ray pid=3310948)\u001b[0m 2023-01-01 21:37:16,737 cisTopic     INFO     Computing log2FC for sampleA_CD4+ T cell_VS_sampleB_CD4+ T cell\n",
      "\u001b[2m\u001b[36m(markers_ray pid=3310949)\u001b[0m 2023-01-01 21:37:17,037 cisTopic     INFO     Computing p-value for sampleA_CD14+ monocyte_VS_sampleB_CD14+ monocyte\n",
      "\u001b[2m\u001b[36m(markers_ray pid=3310948)\u001b[0m 2023-01-01 21:37:18,477 cisTopic     INFO     sampleA_CD4+ T cell_VS_sampleB_CD4+ T cell done!\n",
      "\u001b[2m\u001b[36m(markers_ray pid=3310946)\u001b[0m 2023-01-01 21:37:19,356 cisTopic     INFO     Computing log2FC for sampleB_CD16+ monocyte_VS_sampleA_CD16+ monocyte\n",
      "\u001b[2m\u001b[36m(markers_ray pid=3310942)\u001b[0m 2023-01-01 21:37:20,242 cisTopic     INFO     Computing p-value for sampleB_CD14+ monocyte_VS_sampleA_CD14+ monocyte\n",
      "\u001b[2m\u001b[36m(markers_ray pid=3310946)\u001b[0m 2023-01-01 21:37:20,889 cisTopic     INFO     sampleB_CD16+ monocyte_VS_sampleA_CD16+ monocyte done!\n",
      "\u001b[2m\u001b[36m(markers_ray pid=3310947)\u001b[0m 2023-01-01 21:37:21,994 cisTopic     INFO     Computing log2FC for sampleB_CD4+ T cell_VS_sampleA_CD4+ T cell\n"
     ]
    },
    {
     "name": "stderr",
     "output_type": "stream",
     "text": [
      "\u001b[2m\u001b[36m(raylet)\u001b[0m Spilled 79653 MiB, 5 objects, write throughput 1458 MiB/s.\n"
     ]
    },
    {
     "name": "stdout",
     "output_type": "stream",
     "text": [
      "\u001b[2m\u001b[36m(markers_ray pid=3310947)\u001b[0m 2023-01-01 21:37:23,690 cisTopic     INFO     sampleB_CD4+ T cell_VS_sampleA_CD4+ T cell done!\n"
     ]
    },
    {
     "name": "stderr",
     "output_type": "stream",
     "text": [
      "\u001b[2m\u001b[36m(raylet)\u001b[0m Spilled 127448 MiB, 12 objects, write throughput 1651 MiB/s.\n"
     ]
    },
    {
     "name": "stdout",
     "output_type": "stream",
     "text": [
      "\u001b[2m\u001b[36m(markers_ray pid=3310949)\u001b[0m 2023-01-01 21:38:04,428 cisTopic     INFO     Computing log2FC for sampleA_CD14+ monocyte_VS_sampleB_CD14+ monocyte\n",
      "\u001b[2m\u001b[36m(markers_ray pid=3310949)\u001b[0m 2023-01-01 21:38:06,075 cisTopic     INFO     sampleA_CD14+ monocyte_VS_sampleB_CD14+ monocyte done!\n",
      "\u001b[2m\u001b[36m(markers_ray pid=3310942)\u001b[0m 2023-01-01 21:38:07,543 cisTopic     INFO     Computing log2FC for sampleB_CD14+ monocyte_VS_sampleA_CD14+ monocyte\n",
      "\u001b[2m\u001b[36m(markers_ray pid=3310942)\u001b[0m 2023-01-01 21:38:09,193 cisTopic     INFO     sampleB_CD14+ monocyte_VS_sampleA_CD14+ monocyte done!\n",
      "no DARs found for sampleA_Dendritic cell_VS_sampleB_Dendritic cell in master_sub_1.FIXEDCELLS.singlets\n",
      "no DARs found for sampleB_Dendritic cell_VS_sampleA_Dendritic cell in master_sub_1.FIXEDCELLS.singlets\n"
     ]
    },
    {
     "data": {
      "application/javascript": [
       "\n",
       "            setTimeout(function() {\n",
       "                var nbb_cell_id = 10;\n",
       "                var nbb_unformatted_code = \"for sample in cistopic_obj_path_dict.keys():\\n# for sample  in ['SAN_10xmultiome_1.FIXEDCELLS']:\\n    if not os.path.exists(f'male_female_DARs/{sample}'):\\n        cto_path = cistopic_obj_path_dict[sample]\\n        if os.path.isfile(cto_path):\\n            print(f\\\"Loading {cto_path}\\\")\\n            with open(cto_path, 'rb') as f:\\n                cto = pickle.load(f)\\n                \\n            cto.cell_names = cto.cell_data.index\\n            if [x.split('-')[0] for x in cto.selected_model.cell_topic.columns] == [x.split('___')[0] for x in list(cto.cell_names)]:\\n                cto.selected_model.cell_topic.columns =  list(cto.cell_names)\\n                \\n        if 'fmx_sample' in cto.cell_data.columns:\\n            acc_path = normalized_imputed_acc_obj_path_dict[sample]\\n\\n            if os.path.isfile(acc_path):\\n                print(f\\\"Loading {acc_path}\\\")\\n                with open(acc_path, 'rb') as f:\\n                    normalized_imputed_acc_obj = pickle.load(f)\\n\\n\\n            hvr_pkl_path = f'downstream_analysis/HVRs/{sample}__HVRs.pkl'\\n\\n            if os.path.exists(hvr_pkl_path):\\n                print(f\\\"Loading {hvr_pkl_path}\\\")\\n                with open(hvr_pkl_path, 'rb') as f:\\n                    variable_regions = pickle.load(f)\\n            else:\\n                print(\\\"HVRs do not exist!\\\")\\n\\n            cto.cell_data['fmx_sample_consensus_cell_type'] = cto.cell_data['fmx_sample'] + \\\"_\\\" + cto.cell_data[\\\"consensus_cell_type\\\"]\\n\\n            contrasts = []\\n            for cell_type in cto.cell_data['consensus_cell_type'].unique():\\n                print(cell_type)\\n                ct_a = 'sampleA_' + cell_type\\n                ct_b = 'sampleB_' + cell_type\\n                contrast = [[[ct_a], [ct_b]], [[ct_b], [ct_a]]]\\n                contrasts = contrasts + contrast\\n\\n            markers_dict = find_diff_features(\\n                cto,\\n                normalized_imputed_acc_obj,\\n                variable='fmx_sample_consensus_cell_type',\\n                var_features=variable_regions,\\n                contrasts=contrasts,\\n                adjpval_thr=0.05,\\n                log2fc_thr=np.log2(1.2),\\n                n_cpu=10,\\n            )\\n            \\n            if not os.path.exists(f'male_female_DARs/{sample}'):\\n                os.mkdir(f'male_female_DARs/{sample}')\\n                \\n            with open(\\n                f\\\"male_female_DARs/{sample}/{sample}__DARs_dict_1-2xfoldchange.pkl\\\",'wb'\\n            ) as f:\\n                pickle.dump(markers_dict, f, protocol=4)\\n                        \\n            for contrast in markers_dict.keys():\\n                markers = markers_dict[contrast].index.tolist()\\n                df = pd.DataFrame(markers)\\n                if len(df) == 0:\\n                    print(f\\\"no DARs found for {contrast} in {sample}\\\")\\n                else:\\n                    df[[0,1]] = df[0].str.split(':',expand=True)\\n                    df[[1,2]] = df[1].str.split('-',expand=True)\\n                    df[3] = markers_dict[contrast].index.tolist()\\n                    df[3] = contrast.replace(' ', '_')# + '_' + df[3].astype(str)\\n                    score = markers_dict[contrast]['Log2FC']\\n                    score = score.reset_index(drop=True)\\n                    df[4] = score\\n                    df[5] = '.'\\n                    pval = markers_dict[contrast]['Adjusted_pval']\\n                    pval = pval.reset_index(drop=True)\\n                    df[6] = pval\\n                    name = contrast.replace(' ', '_')\\n\\n                    df.to_csv(f'male_female_DARs/{sample}/{sample}__{contrast.replace(\\\" \\\", \\\"_\\\")}__1-2xfoldchange_DARs.bed', sep='\\\\t', header=False, index=False)\";\n",
       "                var nbb_formatted_code = \"for sample in cistopic_obj_path_dict.keys():\\n    # for sample  in ['SAN_10xmultiome_1.FIXEDCELLS']:\\n    if not os.path.exists(f\\\"male_female_DARs/{sample}\\\"):\\n        cto_path = cistopic_obj_path_dict[sample]\\n        if os.path.isfile(cto_path):\\n            print(f\\\"Loading {cto_path}\\\")\\n            with open(cto_path, \\\"rb\\\") as f:\\n                cto = pickle.load(f)\\n\\n            cto.cell_names = cto.cell_data.index\\n            if [x.split(\\\"-\\\")[0] for x in cto.selected_model.cell_topic.columns] == [\\n                x.split(\\\"___\\\")[0] for x in list(cto.cell_names)\\n            ]:\\n                cto.selected_model.cell_topic.columns = list(cto.cell_names)\\n\\n        if \\\"fmx_sample\\\" in cto.cell_data.columns:\\n            acc_path = normalized_imputed_acc_obj_path_dict[sample]\\n\\n            if os.path.isfile(acc_path):\\n                print(f\\\"Loading {acc_path}\\\")\\n                with open(acc_path, \\\"rb\\\") as f:\\n                    normalized_imputed_acc_obj = pickle.load(f)\\n\\n            hvr_pkl_path = f\\\"downstream_analysis/HVRs/{sample}__HVRs.pkl\\\"\\n\\n            if os.path.exists(hvr_pkl_path):\\n                print(f\\\"Loading {hvr_pkl_path}\\\")\\n                with open(hvr_pkl_path, \\\"rb\\\") as f:\\n                    variable_regions = pickle.load(f)\\n            else:\\n                print(\\\"HVRs do not exist!\\\")\\n\\n            cto.cell_data[\\\"fmx_sample_consensus_cell_type\\\"] = (\\n                cto.cell_data[\\\"fmx_sample\\\"] + \\\"_\\\" + cto.cell_data[\\\"consensus_cell_type\\\"]\\n            )\\n\\n            contrasts = []\\n            for cell_type in cto.cell_data[\\\"consensus_cell_type\\\"].unique():\\n                print(cell_type)\\n                ct_a = \\\"sampleA_\\\" + cell_type\\n                ct_b = \\\"sampleB_\\\" + cell_type\\n                contrast = [[[ct_a], [ct_b]], [[ct_b], [ct_a]]]\\n                contrasts = contrasts + contrast\\n\\n            markers_dict = find_diff_features(\\n                cto,\\n                normalized_imputed_acc_obj,\\n                variable=\\\"fmx_sample_consensus_cell_type\\\",\\n                var_features=variable_regions,\\n                contrasts=contrasts,\\n                adjpval_thr=0.05,\\n                log2fc_thr=np.log2(1.2),\\n                n_cpu=10,\\n            )\\n\\n            if not os.path.exists(f\\\"male_female_DARs/{sample}\\\"):\\n                os.mkdir(f\\\"male_female_DARs/{sample}\\\")\\n\\n            with open(\\n                f\\\"male_female_DARs/{sample}/{sample}__DARs_dict_1-2xfoldchange.pkl\\\",\\n                \\\"wb\\\",\\n            ) as f:\\n                pickle.dump(markers_dict, f, protocol=4)\\n\\n            for contrast in markers_dict.keys():\\n                markers = markers_dict[contrast].index.tolist()\\n                df = pd.DataFrame(markers)\\n                if len(df) == 0:\\n                    print(f\\\"no DARs found for {contrast} in {sample}\\\")\\n                else:\\n                    df[[0, 1]] = df[0].str.split(\\\":\\\", expand=True)\\n                    df[[1, 2]] = df[1].str.split(\\\"-\\\", expand=True)\\n                    df[3] = markers_dict[contrast].index.tolist()\\n                    df[3] = contrast.replace(\\\" \\\", \\\"_\\\")  # + '_' + df[3].astype(str)\\n                    score = markers_dict[contrast][\\\"Log2FC\\\"]\\n                    score = score.reset_index(drop=True)\\n                    df[4] = score\\n                    df[5] = \\\".\\\"\\n                    pval = markers_dict[contrast][\\\"Adjusted_pval\\\"]\\n                    pval = pval.reset_index(drop=True)\\n                    df[6] = pval\\n                    name = contrast.replace(\\\" \\\", \\\"_\\\")\\n\\n                    df.to_csv(\\n                        f'male_female_DARs/{sample}/{sample}__{contrast.replace(\\\" \\\", \\\"_\\\")}__1-2xfoldchange_DARs.bed',\\n                        sep=\\\"\\\\t\\\",\\n                        header=False,\\n                        index=False,\\n                    )\";\n",
       "                var nbb_cells = Jupyter.notebook.get_cells();\n",
       "                for (var i = 0; i < nbb_cells.length; ++i) {\n",
       "                    if (nbb_cells[i].input_prompt_number == nbb_cell_id) {\n",
       "                        if (nbb_cells[i].get_text() == nbb_unformatted_code) {\n",
       "                             nbb_cells[i].set_text(nbb_formatted_code);\n",
       "                        }\n",
       "                        break;\n",
       "                    }\n",
       "                }\n",
       "            }, 500);\n",
       "            "
      ],
      "text/plain": [
       "<IPython.core.display.Javascript object>"
      ]
     },
     "metadata": {},
     "output_type": "display_data"
    }
   ],
   "source": [
    "for sample in cistopic_obj_path_dict.keys():\n",
    "    # for sample  in ['SAN_10xmultiome_1.FIXEDCELLS']:\n",
    "    if not os.path.exists(f\"male_female_DARs/{sample}\"):\n",
    "        cto_path = cistopic_obj_path_dict[sample]\n",
    "        if os.path.isfile(cto_path):\n",
    "            print(f\"Loading {cto_path}\")\n",
    "            with open(cto_path, \"rb\") as f:\n",
    "                cto = pickle.load(f)\n",
    "\n",
    "            cto.cell_names = cto.cell_data.index\n",
    "            if [x.split(\"-\")[0] for x in cto.selected_model.cell_topic.columns] == [\n",
    "                x.split(\"___\")[0] for x in list(cto.cell_names)\n",
    "            ]:\n",
    "                cto.selected_model.cell_topic.columns = list(cto.cell_names)\n",
    "\n",
    "        if \"fmx_sample\" in cto.cell_data.columns:\n",
    "            acc_path = normalized_imputed_acc_obj_path_dict[sample]\n",
    "\n",
    "            if os.path.isfile(acc_path):\n",
    "                print(f\"Loading {acc_path}\")\n",
    "                with open(acc_path, \"rb\") as f:\n",
    "                    normalized_imputed_acc_obj = pickle.load(f)\n",
    "\n",
    "            hvr_pkl_path = f\"downstream_analysis/HVRs/{sample}__HVRs.pkl\"\n",
    "\n",
    "            if os.path.exists(hvr_pkl_path):\n",
    "                print(f\"Loading {hvr_pkl_path}\")\n",
    "                with open(hvr_pkl_path, \"rb\") as f:\n",
    "                    variable_regions = pickle.load(f)\n",
    "            else:\n",
    "                print(\"HVRs do not exist!\")\n",
    "\n",
    "            cto.cell_data[\"fmx_sample_consensus_cell_type\"] = (\n",
    "                cto.cell_data[\"fmx_sample\"] + \"_\" + cto.cell_data[\"consensus_cell_type\"]\n",
    "            )\n",
    "\n",
    "            contrasts = []\n",
    "            for cell_type in cto.cell_data[\"consensus_cell_type\"].unique():\n",
    "                print(cell_type)\n",
    "                ct_a = \"sampleA_\" + cell_type\n",
    "                ct_b = \"sampleB_\" + cell_type\n",
    "                contrast = [[[ct_a], [ct_b]], [[ct_b], [ct_a]]]\n",
    "                contrasts = contrasts + contrast\n",
    "\n",
    "            markers_dict = find_diff_features(\n",
    "                cto,\n",
    "                normalized_imputed_acc_obj,\n",
    "                variable=\"fmx_sample_consensus_cell_type\",\n",
    "                var_features=variable_regions,\n",
    "                contrasts=contrasts,\n",
    "                adjpval_thr=0.05,\n",
    "                log2fc_thr=np.log2(1.2),\n",
    "                n_cpu=10,\n",
    "            )\n",
    "\n",
    "            if not os.path.exists(f\"male_female_DARs/{sample}\"):\n",
    "                os.mkdir(f\"male_female_DARs/{sample}\")\n",
    "\n",
    "            with open(\n",
    "                f\"male_female_DARs/{sample}/{sample}__DARs_dict_1-2xfoldchange.pkl\",\n",
    "                \"wb\",\n",
    "            ) as f:\n",
    "                pickle.dump(markers_dict, f, protocol=4)\n",
    "\n",
    "            for contrast in markers_dict.keys():\n",
    "                markers = markers_dict[contrast].index.tolist()\n",
    "                df = pd.DataFrame(markers)\n",
    "                if len(df) == 0:\n",
    "                    print(f\"no DARs found for {contrast} in {sample}\")\n",
    "                else:\n",
    "                    df[[0, 1]] = df[0].str.split(\":\", expand=True)\n",
    "                    df[[1, 2]] = df[1].str.split(\"-\", expand=True)\n",
    "                    df[3] = markers_dict[contrast].index.tolist()\n",
    "                    df[3] = contrast.replace(\" \", \"_\")  # + '_' + df[3].astype(str)\n",
    "                    score = markers_dict[contrast][\"Log2FC\"]\n",
    "                    score = score.reset_index(drop=True)\n",
    "                    df[4] = score\n",
    "                    df[5] = \".\"\n",
    "                    pval = markers_dict[contrast][\"Adjusted_pval\"]\n",
    "                    pval = pval.reset_index(drop=True)\n",
    "                    df[6] = pval\n",
    "                    name = contrast.replace(\" \", \"_\")\n",
    "\n",
    "                    df.to_csv(\n",
    "                        f'male_female_DARs/{sample}/{sample}__{contrast.replace(\" \", \"_\")}__1-2xfoldchange_DARs.bed',\n",
    "                        sep=\"\\t\",\n",
    "                        header=False,\n",
    "                        index=False,\n",
    "                    )"
   ]
  },
  {
   "cell_type": "code",
   "execution_count": 11,
   "id": "47753b25-3175-48d7-91a8-97715d965667",
   "metadata": {
    "execution": {
     "iopub.execute_input": "2023-01-04T15:15:27.839276Z",
     "iopub.status.busy": "2023-01-04T15:15:27.837758Z",
     "iopub.status.idle": "2023-01-04T15:19:51.010604Z",
     "shell.execute_reply": "2023-01-04T15:19:51.009502Z",
     "shell.execute_reply.started": "2023-01-04T15:15:27.839217Z"
    },
    "tags": []
   },
   "outputs": [
    {
     "name": "stdout",
     "output_type": "stream",
     "text": [
      "Loading cistopic_objects/master_sub_1.FIXEDCELLS__cto.scrublet0-4.fmx.singlets.model_20topics.dimreduc.consensus_harmony.pkl\n",
      "Loading downstream_analysis/imputed_acc_objs/master_sub_1.FIXEDCELLS__imputed_acc_obs.pkl\n",
      "Loading downstream_analysis/HVRs/master_sub_1.FIXEDCELLS__HVRs.pkl\n",
      "CD4+ T cell\n",
      "CD14+ monocyte\n",
      "B cell\n",
      "Cytotoxic T cell\n",
      "Natural killer cell\n",
      "CD16+ monocyte\n",
      "Dendritic cell\n"
     ]
    },
    {
     "name": "stderr",
     "output_type": "stream",
     "text": [
      "2023-01-04 16:16:03,230\tINFO services.py:1470 -- View the Ray dashboard at \u001b[1m\u001b[32mhttp://127.0.0.1:8265\u001b[39m\u001b[22m\n"
     ]
    },
    {
     "name": "stdout",
     "output_type": "stream",
     "text": [
      "\u001b[2m\u001b[36m(markers_ray pid=2820806)\u001b[0m 2023-01-04 16:16:10,464 cisTopic     INFO     Formatting data for sampleA_CD4+ T cell_VS_sampleB_CD4+ T cell\n",
      "\u001b[2m\u001b[36m(markers_ray pid=2820814)\u001b[0m 2023-01-04 16:16:14,021 cisTopic     INFO     Formatting data for sampleB_CD4+ T cell_VS_sampleA_CD4+ T cell\n",
      "\u001b[2m\u001b[36m(markers_ray pid=2820808)\u001b[0m 2023-01-04 16:16:17,459 cisTopic     INFO     Formatting data for sampleA_CD14+ monocyte_VS_sampleB_CD14+ monocyte\n",
      "\u001b[2m\u001b[36m(markers_ray pid=2820811)\u001b[0m 2023-01-04 16:16:21,093 cisTopic     INFO     Formatting data for sampleB_CD14+ monocyte_VS_sampleA_CD14+ monocyte\n",
      "\u001b[2m\u001b[36m(markers_ray pid=2820807)\u001b[0m 2023-01-04 16:16:24,558 cisTopic     INFO     Formatting data for sampleA_B cell_VS_sampleB_B cell\n",
      "\u001b[2m\u001b[36m(markers_ray pid=2820806)\u001b[0m 2023-01-04 16:16:26,013 cisTopic     INFO     Computing p-value for sampleA_CD4+ T cell_VS_sampleB_CD4+ T cell\n",
      "\u001b[2m\u001b[36m(markers_ray pid=2820808)\u001b[0m 2023-01-04 16:16:28,001 cisTopic     INFO     Computing p-value for sampleA_CD14+ monocyte_VS_sampleB_CD14+ monocyte\n",
      "\u001b[2m\u001b[36m(markers_ray pid=2820814)\u001b[0m 2023-01-04 16:16:28,328 cisTopic     INFO     Computing p-value for sampleB_CD4+ T cell_VS_sampleA_CD4+ T cell\n",
      "\u001b[2m\u001b[36m(markers_ray pid=2820813)\u001b[0m 2023-01-04 16:16:28,267 cisTopic     INFO     Formatting data for sampleB_B cell_VS_sampleA_B cell\n",
      "\u001b[2m\u001b[36m(markers_ray pid=2820811)\u001b[0m 2023-01-04 16:16:30,882 cisTopic     INFO     Computing p-value for sampleB_CD14+ monocyte_VS_sampleA_CD14+ monocyte\n",
      "\u001b[2m\u001b[36m(markers_ray pid=2820812)\u001b[0m 2023-01-04 16:16:31,798 cisTopic     INFO     Formatting data for sampleA_Cytotoxic T cell_VS_sampleB_Cytotoxic T cell\n",
      "\u001b[2m\u001b[36m(markers_ray pid=2820807)\u001b[0m 2023-01-04 16:16:33,781 cisTopic     INFO     Computing p-value for sampleA_B cell_VS_sampleB_B cell\n",
      "\u001b[2m\u001b[36m(markers_ray pid=2820805)\u001b[0m 2023-01-04 16:16:35,461 cisTopic     INFO     Formatting data for sampleB_Cytotoxic T cell_VS_sampleA_Cytotoxic T cell\n",
      "\u001b[2m\u001b[36m(markers_ray pid=2820813)\u001b[0m 2023-01-04 16:16:37,656 cisTopic     INFO     Computing p-value for sampleB_B cell_VS_sampleA_B cell\n",
      "\u001b[2m\u001b[36m(markers_ray pid=2820812)\u001b[0m 2023-01-04 16:16:40,407 cisTopic     INFO     Computing p-value for sampleA_Cytotoxic T cell_VS_sampleB_Cytotoxic T cell\n",
      "\u001b[2m\u001b[36m(markers_ray pid=2820805)\u001b[0m 2023-01-04 16:16:43,576 cisTopic     INFO     Computing p-value for sampleB_Cytotoxic T cell_VS_sampleA_Cytotoxic T cell\n"
     ]
    },
    {
     "name": "stderr",
     "output_type": "stream",
     "text": [
      "\u001b[2m\u001b[36m(raylet)\u001b[0m Spilled 15930 MiB, 2 objects, write throughput 805 MiB/s. Set RAY_verbose_spill_logs=0 to disable this message.\n",
      "\u001b[2m\u001b[36m(raylet)\u001b[0m Spilled 31861 MiB, 4 objects, write throughput 1285 MiB/s.\n",
      "\u001b[2m\u001b[36m(raylet)\u001b[0m Spilled 47792 MiB, 5 objects, write throughput 1801 MiB/s.\n"
     ]
    },
    {
     "name": "stdout",
     "output_type": "stream",
     "text": [
      "\u001b[2m\u001b[36m(markers_ray pid=2820808)\u001b[0m 2023-01-04 16:17:13,694 cisTopic     INFO     Computing log2FC for sampleA_CD14+ monocyte_VS_sampleB_CD14+ monocyte\n",
      "\u001b[2m\u001b[36m(markers_ray pid=2820807)\u001b[0m 2023-01-04 16:17:15,294 cisTopic     INFO     Computing log2FC for sampleA_B cell_VS_sampleB_B cell\n",
      "\u001b[2m\u001b[36m(markers_ray pid=2820808)\u001b[0m 2023-01-04 16:17:15,336 cisTopic     INFO     sampleA_CD14+ monocyte_VS_sampleB_CD14+ monocyte done!\n",
      "\u001b[2m\u001b[36m(markers_ray pid=2820808)\u001b[0m 2023-01-04 16:17:15,418 cisTopic     INFO     Formatting data for sampleA_Natural killer cell_VS_sampleB_Natural killer cell\n",
      "\u001b[2m\u001b[36m(markers_ray pid=2820807)\u001b[0m 2023-01-04 16:17:16,938 cisTopic     INFO     sampleA_B cell_VS_sampleB_B cell done!\n",
      "\u001b[2m\u001b[36m(markers_ray pid=2820807)\u001b[0m 2023-01-04 16:17:16,980 cisTopic     INFO     Formatting data for sampleB_Natural killer cell_VS_sampleA_Natural killer cell\n",
      "\u001b[2m\u001b[36m(markers_ray pid=2820812)\u001b[0m 2023-01-04 16:17:16,912 cisTopic     INFO     Computing log2FC for sampleA_Cytotoxic T cell_VS_sampleB_Cytotoxic T cell\n",
      "\u001b[2m\u001b[36m(markers_ray pid=2820811)\u001b[0m 2023-01-04 16:17:17,639 cisTopic     INFO     Computing log2FC for sampleB_CD14+ monocyte_VS_sampleA_CD14+ monocyte\n",
      "\u001b[2m\u001b[36m(markers_ray pid=2820812)\u001b[0m 2023-01-04 16:17:18,587 cisTopic     INFO     sampleA_Cytotoxic T cell_VS_sampleB_Cytotoxic T cell done!\n",
      "\u001b[2m\u001b[36m(markers_ray pid=2820812)\u001b[0m 2023-01-04 16:17:18,659 cisTopic     INFO     Formatting data for sampleA_CD16+ monocyte_VS_sampleB_CD16+ monocyte\n",
      "\u001b[2m\u001b[36m(markers_ray pid=2820806)\u001b[0m 2023-01-04 16:17:18,835 cisTopic     INFO     Computing log2FC for sampleA_CD4+ T cell_VS_sampleB_CD4+ T cell\n",
      "\u001b[2m\u001b[36m(markers_ray pid=2820811)\u001b[0m 2023-01-04 16:17:19,289 cisTopic     INFO     sampleB_CD14+ monocyte_VS_sampleA_CD14+ monocyte done!\n",
      "\u001b[2m\u001b[36m(markers_ray pid=2820813)\u001b[0m 2023-01-04 16:17:19,474 cisTopic     INFO     Computing log2FC for sampleB_B cell_VS_sampleA_B cell\n",
      "\u001b[2m\u001b[36m(markers_ray pid=2820805)\u001b[0m 2023-01-04 16:17:19,821 cisTopic     INFO     Computing log2FC for sampleB_Cytotoxic T cell_VS_sampleA_Cytotoxic T cell\n",
      "\u001b[2m\u001b[36m(markers_ray pid=2820806)\u001b[0m 2023-01-04 16:17:20,604 cisTopic     INFO     sampleA_CD4+ T cell_VS_sampleB_CD4+ T cell done!\n",
      "\u001b[2m\u001b[36m(markers_ray pid=2820814)\u001b[0m 2023-01-04 16:17:20,669 cisTopic     INFO     Computing log2FC for sampleB_CD4+ T cell_VS_sampleA_CD4+ T cell\n",
      "\u001b[2m\u001b[36m(markers_ray pid=2820808)\u001b[0m 2023-01-04 16:17:20,907 cisTopic     INFO     Computing p-value for sampleA_Natural killer cell_VS_sampleB_Natural killer cell\n",
      "\u001b[2m\u001b[36m(markers_ray pid=2820813)\u001b[0m 2023-01-04 16:17:21,323 cisTopic     INFO     sampleB_B cell_VS_sampleA_B cell done!\n",
      "\u001b[2m\u001b[36m(markers_ray pid=2820805)\u001b[0m 2023-01-04 16:17:21,562 cisTopic     INFO     sampleB_Cytotoxic T cell_VS_sampleA_Cytotoxic T cell done!\n",
      "\u001b[2m\u001b[36m(markers_ray pid=2820812)\u001b[0m 2023-01-04 16:17:21,703 cisTopic     INFO     Computing p-value for sampleA_CD16+ monocyte_VS_sampleB_CD16+ monocyte\n",
      "\u001b[2m\u001b[36m(markers_ray pid=2820814)\u001b[0m 2023-01-04 16:17:22,474 cisTopic     INFO     sampleB_CD4+ T cell_VS_sampleA_CD4+ T cell done!\n",
      "\u001b[2m\u001b[36m(markers_ray pid=2820807)\u001b[0m 2023-01-04 16:17:23,036 cisTopic     INFO     Computing p-value for sampleB_Natural killer cell_VS_sampleA_Natural killer cell\n"
     ]
    },
    {
     "name": "stderr",
     "output_type": "stream",
     "text": [
      "\u001b[2m\u001b[36m(raylet)\u001b[0m Spilled 63723 MiB, 8 objects, write throughput 1359 MiB/s.\n",
      "\u001b[2m\u001b[36m(raylet)\u001b[0m Spilled 79654 MiB, 11 objects, write throughput 1630 MiB/s.\n",
      "\u001b[2m\u001b[36m(raylet)\u001b[0m Spilled 111517 MiB, 17 objects, write throughput 2203 MiB/s.\n"
     ]
    },
    {
     "name": "stdout",
     "output_type": "stream",
     "text": [
      "\u001b[2m\u001b[36m(markers_ray pid=2820812)\u001b[0m 2023-01-04 16:17:43,126 cisTopic     INFO     Computing log2FC for sampleA_CD16+ monocyte_VS_sampleB_CD16+ monocyte\n",
      "\u001b[2m\u001b[36m(markers_ray pid=2820812)\u001b[0m 2023-01-04 16:17:44,641 cisTopic     INFO     sampleA_CD16+ monocyte_VS_sampleB_CD16+ monocyte done!\n",
      "\u001b[2m\u001b[36m(markers_ray pid=2820808)\u001b[0m 2023-01-04 16:17:48,154 cisTopic     INFO     Computing log2FC for sampleA_Natural killer cell_VS_sampleB_Natural killer cell\n",
      "\u001b[2m\u001b[36m(markers_ray pid=2820808)\u001b[0m 2023-01-04 16:17:49,703 cisTopic     INFO     sampleA_Natural killer cell_VS_sampleB_Natural killer cell done!\n",
      "\u001b[2m\u001b[36m(markers_ray pid=2820807)\u001b[0m 2023-01-04 16:17:50,383 cisTopic     INFO     Computing log2FC for sampleB_Natural killer cell_VS_sampleA_Natural killer cell\n",
      "\u001b[2m\u001b[36m(markers_ray pid=2820807)\u001b[0m 2023-01-04 16:17:51,939 cisTopic     INFO     sampleB_Natural killer cell_VS_sampleA_Natural killer cell done!\n",
      "\u001b[2m\u001b[36m(markers_ray pid=2820807)\u001b[0m 2023-01-04 16:18:43,546 cisTopic     INFO     Formatting data for sampleB_CD16+ monocyte_VS_sampleA_CD16+ monocyte\n",
      "\u001b[2m\u001b[36m(markers_ray pid=2820808)\u001b[0m 2023-01-04 16:18:43,958 cisTopic     INFO     Formatting data for sampleA_Dendritic cell_VS_sampleB_Dendritic cell\n",
      "\u001b[2m\u001b[36m(markers_ray pid=2820812)\u001b[0m 2023-01-04 16:18:44,497 cisTopic     INFO     Formatting data for sampleB_Dendritic cell_VS_sampleA_Dendritic cell\n",
      "\u001b[2m\u001b[36m(markers_ray pid=2820808)\u001b[0m 2023-01-04 16:18:45,520 cisTopic     INFO     Computing p-value for sampleA_Dendritic cell_VS_sampleB_Dendritic cell\n",
      "\u001b[2m\u001b[36m(markers_ray pid=2820812)\u001b[0m 2023-01-04 16:18:45,945 cisTopic     INFO     Computing p-value for sampleB_Dendritic cell_VS_sampleA_Dendritic cell\n",
      "\u001b[2m\u001b[36m(markers_ray pid=2820807)\u001b[0m 2023-01-04 16:18:57,688 cisTopic     INFO     Computing p-value for sampleB_CD16+ monocyte_VS_sampleA_CD16+ monocyte\n",
      "\u001b[2m\u001b[36m(markers_ray pid=2820808)\u001b[0m 2023-01-04 16:19:03,290 cisTopic     INFO     Computing log2FC for sampleA_Dendritic cell_VS_sampleB_Dendritic cell\n",
      "\u001b[2m\u001b[36m(markers_ray pid=2820812)\u001b[0m 2023-01-04 16:19:03,605 cisTopic     INFO     Computing log2FC for sampleB_Dendritic cell_VS_sampleA_Dendritic cell\n",
      "\u001b[2m\u001b[36m(markers_ray pid=2820808)\u001b[0m 2023-01-04 16:19:04,778 cisTopic     INFO     sampleA_Dendritic cell_VS_sampleB_Dendritic cell done!\n",
      "\u001b[2m\u001b[36m(markers_ray pid=2820812)\u001b[0m 2023-01-04 16:19:05,082 cisTopic     INFO     sampleB_Dendritic cell_VS_sampleA_Dendritic cell done!\n",
      "\u001b[2m\u001b[36m(markers_ray pid=2820807)\u001b[0m 2023-01-04 16:19:19,495 cisTopic     INFO     Computing log2FC for sampleB_CD16+ monocyte_VS_sampleA_CD16+ monocyte\n",
      "\u001b[2m\u001b[36m(markers_ray pid=2820807)\u001b[0m 2023-01-04 16:19:21,025 cisTopic     INFO     sampleB_CD16+ monocyte_VS_sampleA_CD16+ monocyte done!\n",
      "no DARs found for sampleA_Dendritic cell_VS_sampleB_Dendritic cell in master_sub_1.FIXEDCELLS\n",
      "no DARs found for sampleB_Dendritic cell_VS_sampleA_Dendritic cell in master_sub_1.FIXEDCELLS\n"
     ]
    },
    {
     "data": {
      "application/javascript": [
       "\n",
       "            setTimeout(function() {\n",
       "                var nbb_cell_id = 11;\n",
       "                var nbb_unformatted_code = \"for sample in cistopic_obj_path_dict.keys():\\n    # for sample  in ['SAN_10xmultiome_1.FIXEDCELLS']:\\n    if not os.path.exists(f\\\"harmony_male_female_DARs/{sample}\\\"):\\n        cto_path = cistopic_obj_path_dict[sample]\\n        if os.path.isfile(cto_path):\\n            print(f\\\"Loading {cto_path}\\\")\\n            with open(cto_path, \\\"rb\\\") as f:\\n                cto = pickle.load(f)\\n\\n            cto.cell_names = cto.cell_data.index\\n            if [x.split(\\\"-\\\")[0] for x in cto.selected_model.cell_topic.columns] == [\\n                x.split(\\\"___\\\")[0] for x in list(cto.cell_names)\\n            ]:\\n                cto.selected_model.cell_topic.columns = list(cto.cell_names)\\n\\n        if \\\"fmx_sample\\\" in cto.cell_data.columns:\\n            acc_path = normalized_imputed_acc_obj_path_dict[sample]\\n\\n            if os.path.isfile(acc_path):\\n                print(f\\\"Loading {acc_path}\\\")\\n                with open(acc_path, \\\"rb\\\") as f:\\n                    normalized_imputed_acc_obj = pickle.load(f)\\n\\n            hvr_pkl_path = f\\\"downstream_analysis/HVRs/{sample}__HVRs.pkl\\\"\\n\\n            if os.path.exists(hvr_pkl_path):\\n                print(f\\\"Loading {hvr_pkl_path}\\\")\\n                with open(hvr_pkl_path, \\\"rb\\\") as f:\\n                    variable_regions = pickle.load(f)\\n            else:\\n                print(\\\"HVRs do not exist!\\\")\\n\\n            cto.cell_data[\\\"fmx_sample_harmony_consensus_cell_type\\\"] = (\\n                cto.cell_data[\\\"fmx_sample\\\"] + \\\"_\\\" + cto.cell_data[\\\"harmony_consensus_cell_type\\\"]\\n            )\\n\\n            contrasts = []\\n            for cell_type in cto.cell_data[\\\"harmony_consensus_cell_type\\\"].unique():\\n                print(cell_type)\\n                ct_a = \\\"sampleA_\\\" + cell_type\\n                ct_b = \\\"sampleB_\\\" + cell_type\\n                contrast = [[[ct_a], [ct_b]], [[ct_b], [ct_a]]]\\n                contrasts = contrasts + contrast\\n\\n            markers_dict = find_diff_features(\\n                cto,\\n                normalized_imputed_acc_obj,\\n                variable=\\\"fmx_sample_harmony_consensus_cell_type\\\",\\n                var_features=variable_regions,\\n                contrasts=contrasts,\\n                adjpval_thr=0.05,\\n                log2fc_thr=np.log2(1.2),\\n                n_cpu=10,\\n            )\\n\\n            if not os.path.exists(f\\\"harmony_male_female_DARs/{sample}\\\"):\\n                os.mkdir(f\\\"harmony_male_female_DARs/{sample}\\\")\\n\\n            with open(\\n                f\\\"harmony_male_female_DARs/{sample}/{sample}__DARs_dict_1-2xfoldchange.pkl\\\",\\n                \\\"wb\\\",\\n            ) as f:\\n                pickle.dump(markers_dict, f, protocol=4)\\n\\n            for contrast in markers_dict.keys():\\n                markers = markers_dict[contrast].index.tolist()\\n                df = pd.DataFrame(markers)\\n                if len(df) == 0:\\n                    print(f\\\"no DARs found for {contrast} in {sample}\\\")\\n                else:\\n                    df[[0, 1]] = df[0].str.split(\\\":\\\", expand=True)\\n                    df[[1, 2]] = df[1].str.split(\\\"-\\\", expand=True)\\n                    df[3] = markers_dict[contrast].index.tolist()\\n                    df[3] = contrast.replace(\\\" \\\", \\\"_\\\")  # + '_' + df[3].astype(str)\\n                    score = markers_dict[contrast][\\\"Log2FC\\\"]\\n                    score = score.reset_index(drop=True)\\n                    df[4] = score\\n                    df[5] = \\\".\\\"\\n                    pval = markers_dict[contrast][\\\"Adjusted_pval\\\"]\\n                    pval = pval.reset_index(drop=True)\\n                    df[6] = pval\\n                    name = contrast.replace(\\\" \\\", \\\"_\\\")\\n\\n                    df.to_csv(\\n                        f'harmony_male_female_DARs/{sample}/{sample}__{contrast.replace(\\\" \\\", \\\"_\\\")}__1-2xfoldchange_DARs.bed',\\n                        sep=\\\"\\\\t\\\",\\n                        header=False,\\n                        index=False,\\n                    )\";\n",
       "                var nbb_formatted_code = \"for sample in cistopic_obj_path_dict.keys():\\n    # for sample  in ['SAN_10xmultiome_1.FIXEDCELLS']:\\n    if not os.path.exists(f\\\"harmony_male_female_DARs/{sample}\\\"):\\n        cto_path = cistopic_obj_path_dict[sample]\\n        if os.path.isfile(cto_path):\\n            print(f\\\"Loading {cto_path}\\\")\\n            with open(cto_path, \\\"rb\\\") as f:\\n                cto = pickle.load(f)\\n\\n            cto.cell_names = cto.cell_data.index\\n            if [x.split(\\\"-\\\")[0] for x in cto.selected_model.cell_topic.columns] == [\\n                x.split(\\\"___\\\")[0] for x in list(cto.cell_names)\\n            ]:\\n                cto.selected_model.cell_topic.columns = list(cto.cell_names)\\n\\n        if \\\"fmx_sample\\\" in cto.cell_data.columns:\\n            acc_path = normalized_imputed_acc_obj_path_dict[sample]\\n\\n            if os.path.isfile(acc_path):\\n                print(f\\\"Loading {acc_path}\\\")\\n                with open(acc_path, \\\"rb\\\") as f:\\n                    normalized_imputed_acc_obj = pickle.load(f)\\n\\n            hvr_pkl_path = f\\\"downstream_analysis/HVRs/{sample}__HVRs.pkl\\\"\\n\\n            if os.path.exists(hvr_pkl_path):\\n                print(f\\\"Loading {hvr_pkl_path}\\\")\\n                with open(hvr_pkl_path, \\\"rb\\\") as f:\\n                    variable_regions = pickle.load(f)\\n            else:\\n                print(\\\"HVRs do not exist!\\\")\\n\\n            cto.cell_data[\\\"fmx_sample_harmony_consensus_cell_type\\\"] = (\\n                cto.cell_data[\\\"fmx_sample\\\"]\\n                + \\\"_\\\"\\n                + cto.cell_data[\\\"harmony_consensus_cell_type\\\"]\\n            )\\n\\n            contrasts = []\\n            for cell_type in cto.cell_data[\\\"harmony_consensus_cell_type\\\"].unique():\\n                print(cell_type)\\n                ct_a = \\\"sampleA_\\\" + cell_type\\n                ct_b = \\\"sampleB_\\\" + cell_type\\n                contrast = [[[ct_a], [ct_b]], [[ct_b], [ct_a]]]\\n                contrasts = contrasts + contrast\\n\\n            markers_dict = find_diff_features(\\n                cto,\\n                normalized_imputed_acc_obj,\\n                variable=\\\"fmx_sample_harmony_consensus_cell_type\\\",\\n                var_features=variable_regions,\\n                contrasts=contrasts,\\n                adjpval_thr=0.05,\\n                log2fc_thr=np.log2(1.2),\\n                n_cpu=10,\\n            )\\n\\n            if not os.path.exists(f\\\"harmony_male_female_DARs/{sample}\\\"):\\n                os.mkdir(f\\\"harmony_male_female_DARs/{sample}\\\")\\n\\n            with open(\\n                f\\\"harmony_male_female_DARs/{sample}/{sample}__DARs_dict_1-2xfoldchange.pkl\\\",\\n                \\\"wb\\\",\\n            ) as f:\\n                pickle.dump(markers_dict, f, protocol=4)\\n\\n            for contrast in markers_dict.keys():\\n                markers = markers_dict[contrast].index.tolist()\\n                df = pd.DataFrame(markers)\\n                if len(df) == 0:\\n                    print(f\\\"no DARs found for {contrast} in {sample}\\\")\\n                else:\\n                    df[[0, 1]] = df[0].str.split(\\\":\\\", expand=True)\\n                    df[[1, 2]] = df[1].str.split(\\\"-\\\", expand=True)\\n                    df[3] = markers_dict[contrast].index.tolist()\\n                    df[3] = contrast.replace(\\\" \\\", \\\"_\\\")  # + '_' + df[3].astype(str)\\n                    score = markers_dict[contrast][\\\"Log2FC\\\"]\\n                    score = score.reset_index(drop=True)\\n                    df[4] = score\\n                    df[5] = \\\".\\\"\\n                    pval = markers_dict[contrast][\\\"Adjusted_pval\\\"]\\n                    pval = pval.reset_index(drop=True)\\n                    df[6] = pval\\n                    name = contrast.replace(\\\" \\\", \\\"_\\\")\\n\\n                    df.to_csv(\\n                        f'harmony_male_female_DARs/{sample}/{sample}__{contrast.replace(\\\" \\\", \\\"_\\\")}__1-2xfoldchange_DARs.bed',\\n                        sep=\\\"\\\\t\\\",\\n                        header=False,\\n                        index=False,\\n                    )\";\n",
       "                var nbb_cells = Jupyter.notebook.get_cells();\n",
       "                for (var i = 0; i < nbb_cells.length; ++i) {\n",
       "                    if (nbb_cells[i].input_prompt_number == nbb_cell_id) {\n",
       "                        if (nbb_cells[i].get_text() == nbb_unformatted_code) {\n",
       "                             nbb_cells[i].set_text(nbb_formatted_code);\n",
       "                        }\n",
       "                        break;\n",
       "                    }\n",
       "                }\n",
       "            }, 500);\n",
       "            "
      ],
      "text/plain": [
       "<IPython.core.display.Javascript object>"
      ]
     },
     "metadata": {},
     "output_type": "display_data"
    }
   ],
   "source": [
    "for sample in cistopic_obj_path_dict.keys():\n",
    "    # for sample  in ['SAN_10xmultiome_1.FIXEDCELLS']:\n",
    "    if not os.path.exists(f\"harmony_male_female_DARs/{sample}\"):\n",
    "        cto_path = cistopic_obj_path_dict[sample]\n",
    "        if os.path.isfile(cto_path):\n",
    "            print(f\"Loading {cto_path}\")\n",
    "            with open(cto_path, \"rb\") as f:\n",
    "                cto = pickle.load(f)\n",
    "\n",
    "            cto.cell_names = cto.cell_data.index\n",
    "            if [x.split(\"-\")[0] for x in cto.selected_model.cell_topic.columns] == [\n",
    "                x.split(\"___\")[0] for x in list(cto.cell_names)\n",
    "            ]:\n",
    "                cto.selected_model.cell_topic.columns = list(cto.cell_names)\n",
    "\n",
    "        if \"fmx_sample\" in cto.cell_data.columns:\n",
    "            acc_path = normalized_imputed_acc_obj_path_dict[sample]\n",
    "\n",
    "            if os.path.isfile(acc_path):\n",
    "                print(f\"Loading {acc_path}\")\n",
    "                with open(acc_path, \"rb\") as f:\n",
    "                    normalized_imputed_acc_obj = pickle.load(f)\n",
    "\n",
    "            hvr_pkl_path = f\"downstream_analysis/HVRs/{sample}__HVRs.pkl\"\n",
    "\n",
    "            if os.path.exists(hvr_pkl_path):\n",
    "                print(f\"Loading {hvr_pkl_path}\")\n",
    "                with open(hvr_pkl_path, \"rb\") as f:\n",
    "                    variable_regions = pickle.load(f)\n",
    "            else:\n",
    "                print(\"HVRs do not exist!\")\n",
    "\n",
    "            cto.cell_data[\"fmx_sample_harmony_consensus_cell_type\"] = (\n",
    "                cto.cell_data[\"fmx_sample\"]\n",
    "                + \"_\"\n",
    "                + cto.cell_data[\"harmony_consensus_cell_type\"]\n",
    "            )\n",
    "\n",
    "            contrasts = []\n",
    "            for cell_type in cto.cell_data[\"harmony_consensus_cell_type\"].unique():\n",
    "                print(cell_type)\n",
    "                ct_a = \"sampleA_\" + cell_type\n",
    "                ct_b = \"sampleB_\" + cell_type\n",
    "                contrast = [[[ct_a], [ct_b]], [[ct_b], [ct_a]]]\n",
    "                contrasts = contrasts + contrast\n",
    "\n",
    "            markers_dict = find_diff_features(\n",
    "                cto,\n",
    "                normalized_imputed_acc_obj,\n",
    "                variable=\"fmx_sample_harmony_consensus_cell_type\",\n",
    "                var_features=variable_regions,\n",
    "                contrasts=contrasts,\n",
    "                adjpval_thr=0.05,\n",
    "                log2fc_thr=np.log2(1.2),\n",
    "                n_cpu=10,\n",
    "            )\n",
    "\n",
    "            if not os.path.exists(f\"harmony_male_female_DARs/{sample}\"):\n",
    "                os.mkdir(f\"harmony_male_female_DARs/{sample}\")\n",
    "\n",
    "            with open(\n",
    "                f\"harmony_male_female_DARs/{sample}/{sample}__DARs_dict_1-2xfoldchange.pkl\",\n",
    "                \"wb\",\n",
    "            ) as f:\n",
    "                pickle.dump(markers_dict, f, protocol=4)\n",
    "\n",
    "            for contrast in markers_dict.keys():\n",
    "                markers = markers_dict[contrast].index.tolist()\n",
    "                df = pd.DataFrame(markers)\n",
    "                if len(df) == 0:\n",
    "                    print(f\"no DARs found for {contrast} in {sample}\")\n",
    "                else:\n",
    "                    df[[0, 1]] = df[0].str.split(\":\", expand=True)\n",
    "                    df[[1, 2]] = df[1].str.split(\"-\", expand=True)\n",
    "                    df[3] = markers_dict[contrast].index.tolist()\n",
    "                    df[3] = contrast.replace(\" \", \"_\")  # + '_' + df[3].astype(str)\n",
    "                    score = markers_dict[contrast][\"Log2FC\"]\n",
    "                    score = score.reset_index(drop=True)\n",
    "                    df[4] = score\n",
    "                    df[5] = \".\"\n",
    "                    pval = markers_dict[contrast][\"Adjusted_pval\"]\n",
    "                    pval = pval.reset_index(drop=True)\n",
    "                    df[6] = pval\n",
    "                    name = contrast.replace(\" \", \"_\")\n",
    "\n",
    "                    df.to_csv(\n",
    "                        f'harmony_male_female_DARs/{sample}/{sample}__{contrast.replace(\" \", \"_\")}__1-2xfoldchange_DARs.bed',\n",
    "                        sep=\"\\t\",\n",
    "                        header=False,\n",
    "                        index=False,\n",
    "                    )"
   ]
  },
  {
   "cell_type": "code",
   "execution_count": 17,
   "id": "6997a758-5ffb-4fc6-90cc-d303eee916d4",
   "metadata": {
    "execution": {
     "iopub.execute_input": "2023-01-04T16:23:24.242302Z",
     "iopub.status.busy": "2023-01-04T16:23:24.241389Z",
     "iopub.status.idle": "2023-01-04T16:23:25.509025Z",
     "shell.execute_reply": "2023-01-04T16:23:25.507561Z",
     "shell.execute_reply.started": "2023-01-04T16:23:24.242240Z"
    },
    "tags": []
   },
   "outputs": [
    {
     "data": {
      "application/javascript": [
       "\n",
       "            setTimeout(function() {\n",
       "                var nbb_cell_id = 17;\n",
       "                var nbb_unformatted_code = \"sample = \\\"master_sub_1.FIXEDCELLS\\\"\\nwith open(\\n    \\\"cistopic_objects/master_sub_1.FIXEDCELLS__cto.scrublet0-4.fmx.singlets.model_20topics.dimreduc.consensus_harmony.pkl\\\",\\n    \\\"rb\\\",\\n) as f:\\n    cto = pickle.load(f)\";\n",
       "                var nbb_formatted_code = \"sample = \\\"master_sub_1.FIXEDCELLS\\\"\\nwith open(\\n    \\\"cistopic_objects/master_sub_1.FIXEDCELLS__cto.scrublet0-4.fmx.singlets.model_20topics.dimreduc.consensus_harmony.pkl\\\",\\n    \\\"rb\\\",\\n) as f:\\n    cto = pickle.load(f)\";\n",
       "                var nbb_cells = Jupyter.notebook.get_cells();\n",
       "                for (var i = 0; i < nbb_cells.length; ++i) {\n",
       "                    if (nbb_cells[i].input_prompt_number == nbb_cell_id) {\n",
       "                        if (nbb_cells[i].get_text() == nbb_unformatted_code) {\n",
       "                             nbb_cells[i].set_text(nbb_formatted_code);\n",
       "                        }\n",
       "                        break;\n",
       "                    }\n",
       "                }\n",
       "            }, 500);\n",
       "            "
      ],
      "text/plain": [
       "<IPython.core.display.Javascript object>"
      ]
     },
     "metadata": {},
     "output_type": "display_data"
    }
   ],
   "source": [
    "sample = \"master_sub_1.FIXEDCELLS\"\n",
    "with open(\n",
    "    \"cistopic_objects/master_sub_1.FIXEDCELLS__cto.scrublet0-4.fmx.singlets.model_20topics.dimreduc.consensus_harmony.pkl\",\n",
    "    \"rb\",\n",
    ") as f:\n",
    "    cto = pickle.load(f)"
   ]
  },
  {
   "cell_type": "code",
   "execution_count": 18,
   "id": "0c8bea2a-366e-457b-950f-073dc2b9bc76",
   "metadata": {
    "execution": {
     "iopub.execute_input": "2023-01-04T16:23:25.511147Z",
     "iopub.status.busy": "2023-01-04T16:23:25.510403Z",
     "iopub.status.idle": "2023-01-04T16:23:30.561379Z",
     "shell.execute_reply": "2023-01-04T16:23:30.560394Z",
     "shell.execute_reply.started": "2023-01-04T16:23:25.511125Z"
    },
    "tags": []
   },
   "outputs": [
    {
     "data": {
      "application/javascript": [
       "\n",
       "            setTimeout(function() {\n",
       "                var nbb_cell_id = 18;\n",
       "                var nbb_unformatted_code = \"with open(\\n    \\\"/lustre1/project/stg_00090/scatac_benchmark/fixedcells_4_merged/cistopic_objects_master/master_all_1.FIXEDCELLS__cto.scrublet0-4.fmx.singlets.model_24topics.dimreduc.consensus_harmony.pkl\\\",\\n    \\\"rb\\\",\\n) as f:\\n    cto_all = pickle.load(f)\";\n",
       "                var nbb_formatted_code = \"with open(\\n    \\\"/lustre1/project/stg_00090/scatac_benchmark/fixedcells_4_merged/cistopic_objects_master/master_all_1.FIXEDCELLS__cto.scrublet0-4.fmx.singlets.model_24topics.dimreduc.consensus_harmony.pkl\\\",\\n    \\\"rb\\\",\\n) as f:\\n    cto_all = pickle.load(f)\";\n",
       "                var nbb_cells = Jupyter.notebook.get_cells();\n",
       "                for (var i = 0; i < nbb_cells.length; ++i) {\n",
       "                    if (nbb_cells[i].input_prompt_number == nbb_cell_id) {\n",
       "                        if (nbb_cells[i].get_text() == nbb_unformatted_code) {\n",
       "                             nbb_cells[i].set_text(nbb_formatted_code);\n",
       "                        }\n",
       "                        break;\n",
       "                    }\n",
       "                }\n",
       "            }, 500);\n",
       "            "
      ],
      "text/plain": [
       "<IPython.core.display.Javascript object>"
      ]
     },
     "metadata": {},
     "output_type": "display_data"
    }
   ],
   "source": [
    "with open(\n",
    "    \"/lustre1/project/stg_00090/scatac_benchmark/fixedcells_4_merged/cistopic_objects_master/master_all_1.FIXEDCELLS__cto.scrublet0-4.fmx.singlets.model_24topics.dimreduc.consensus_harmony.pkl\",\n",
    "    \"rb\",\n",
    ") as f:\n",
    "    cto_all = pickle.load(f)"
   ]
  },
  {
   "cell_type": "code",
   "execution_count": 22,
   "id": "183774d7-8d47-453c-b69e-520a5dcc018a",
   "metadata": {
    "execution": {
     "iopub.execute_input": "2023-01-04T16:24:27.409495Z",
     "iopub.status.busy": "2023-01-04T16:24:27.408619Z",
     "iopub.status.idle": "2023-01-04T16:24:27.437502Z",
     "shell.execute_reply": "2023-01-04T16:24:27.436286Z",
     "shell.execute_reply.started": "2023-01-04T16:24:27.409436Z"
    },
    "tags": []
   },
   "outputs": [
    {
     "data": {
      "application/javascript": [
       "\n",
       "            setTimeout(function() {\n",
       "                var nbb_cell_id = 22;\n",
       "                var nbb_unformatted_code = \"cto.cell_data[\\\"seurat_cell_type__mega\\\"] = cto_all.cell_data[\\\"cell_type__mega\\\"]\";\n",
       "                var nbb_formatted_code = \"cto.cell_data[\\\"seurat_cell_type__mega\\\"] = cto_all.cell_data[\\\"cell_type__mega\\\"]\";\n",
       "                var nbb_cells = Jupyter.notebook.get_cells();\n",
       "                for (var i = 0; i < nbb_cells.length; ++i) {\n",
       "                    if (nbb_cells[i].input_prompt_number == nbb_cell_id) {\n",
       "                        if (nbb_cells[i].get_text() == nbb_unformatted_code) {\n",
       "                             nbb_cells[i].set_text(nbb_formatted_code);\n",
       "                        }\n",
       "                        break;\n",
       "                    }\n",
       "                }\n",
       "            }, 500);\n",
       "            "
      ],
      "text/plain": [
       "<IPython.core.display.Javascript object>"
      ]
     },
     "metadata": {},
     "output_type": "display_data"
    }
   ],
   "source": [
    "cto.cell_data[\"seurat_cell_type__mega\"] = cto_all.cell_data[\"cell_type__mega\"]"
   ]
  },
  {
   "cell_type": "code",
   "execution_count": 23,
   "id": "00fba9a5-7872-42af-81d4-b0da417e1f56",
   "metadata": {
    "execution": {
     "iopub.execute_input": "2023-01-04T16:24:28.916486Z",
     "iopub.status.busy": "2023-01-04T16:24:28.915688Z",
     "iopub.status.idle": "2023-01-04T16:24:28.934940Z",
     "shell.execute_reply": "2023-01-04T16:24:28.933505Z",
     "shell.execute_reply.started": "2023-01-04T16:24:28.916428Z"
    },
    "tags": []
   },
   "outputs": [
    {
     "data": {
      "text/plain": [
       "GGTTAGTTGGCTGCATTACGTACTCATA___OHS_s3atac_1.FIXEDCELLS    Cytotoxic T cell\n",
       "GGTTAGTTGCCAAGGCAAGCTCATTG___OHS_s3atac_2.FIXEDCELLS      Cytotoxic T cell\n",
       "GAAGAGTATTTTGGTTCTCAGCTTGTCA___OHS_s3atac_1.FIXEDCELLS    Cytotoxic T cell\n",
       "GAAGAGTATTTGGCTCATATGTGTCGGA___OHS_s3atac_1.FIXEDCELLS              B cell\n",
       "ATTGAGGATATATTGCAGCTCGCCGATC___OHS_s3atac_1.FIXEDCELLS    Cytotoxic T cell\n",
       "                                                                ...       \n",
       "TCACAGAGTGCCCGAT___VIB_10xv1_1.FIXEDCELLS                      CD4+ T cell\n",
       "CAGTGCGAGAATCAAC___VIB_10xv1_2.FIXEDCELLS                           B cell\n",
       "AATGCCAGTTTCGTTT___VIB_10xv1_2.FIXEDCELLS                      CD4+ T cell\n",
       "TCTAGTTCAATGATGA___VIB_10xv1_1.FIXEDCELLS                      CD4+ T cell\n",
       "CAATCCCCATACTGCA___VIB_10xv1_2.FIXEDCELLS                   CD14+ monocyte\n",
       "Name: seurat_cell_type__mega, Length: 38648, dtype: object"
      ]
     },
     "execution_count": 23,
     "metadata": {},
     "output_type": "execute_result"
    },
    {
     "data": {
      "application/javascript": [
       "\n",
       "            setTimeout(function() {\n",
       "                var nbb_cell_id = 23;\n",
       "                var nbb_unformatted_code = \"cto.cell_data[\\\"seurat_cell_type__mega\\\"]\";\n",
       "                var nbb_formatted_code = \"cto.cell_data[\\\"seurat_cell_type__mega\\\"]\";\n",
       "                var nbb_cells = Jupyter.notebook.get_cells();\n",
       "                for (var i = 0; i < nbb_cells.length; ++i) {\n",
       "                    if (nbb_cells[i].input_prompt_number == nbb_cell_id) {\n",
       "                        if (nbb_cells[i].get_text() == nbb_unformatted_code) {\n",
       "                             nbb_cells[i].set_text(nbb_formatted_code);\n",
       "                        }\n",
       "                        break;\n",
       "                    }\n",
       "                }\n",
       "            }, 500);\n",
       "            "
      ],
      "text/plain": [
       "<IPython.core.display.Javascript object>"
      ]
     },
     "metadata": {},
     "output_type": "display_data"
    }
   ],
   "source": [
    "cto.cell_data[\"seurat_cell_type__mega\"]"
   ]
  },
  {
   "cell_type": "code",
   "execution_count": 24,
   "id": "1d711492-6bb4-479f-9555-ae8e15081936",
   "metadata": {
    "execution": {
     "iopub.execute_input": "2023-01-04T16:24:28.952576Z",
     "iopub.status.busy": "2023-01-04T16:24:28.951787Z",
     "iopub.status.idle": "2023-01-04T16:28:54.799322Z",
     "shell.execute_reply": "2023-01-04T16:28:54.798129Z",
     "shell.execute_reply.started": "2023-01-04T16:24:28.952518Z"
    },
    "tags": []
   },
   "outputs": [
    {
     "name": "stdout",
     "output_type": "stream",
     "text": [
      "Loading downstream_analysis/imputed_acc_objs/master_sub_1.FIXEDCELLS__imputed_acc_obs.pkl\n",
      "Loading downstream_analysis/HVRs/master_sub_1.FIXEDCELLS__HVRs.pkl\n",
      "Cytotoxic T cell\n",
      "B cell\n",
      "CD14+ monocyte\n",
      "CD4+ T cell\n",
      "Natural killer cell\n",
      "Dendritic cell\n",
      "CD16+ monocyte\n"
     ]
    },
    {
     "name": "stderr",
     "output_type": "stream",
     "text": [
      "2023-01-04 17:25:01,425\tINFO services.py:1470 -- View the Ray dashboard at \u001b[1m\u001b[32mhttp://127.0.0.1:8265\u001b[39m\u001b[22m\n"
     ]
    },
    {
     "name": "stdout",
     "output_type": "stream",
     "text": [
      "\u001b[2m\u001b[36m(markers_ray pid=2827682)\u001b[0m 2023-01-04 17:25:09,284 cisTopic     INFO     Formatting data for sampleA_Cytotoxic T cell_VS_sampleB_Cytotoxic T cell\n",
      "\u001b[2m\u001b[36m(markers_ray pid=2827690)\u001b[0m 2023-01-04 17:25:12,754 cisTopic     INFO     Formatting data for sampleB_Cytotoxic T cell_VS_sampleA_Cytotoxic T cell\n",
      "\u001b[2m\u001b[36m(markers_ray pid=2827689)\u001b[0m 2023-01-04 17:25:16,130 cisTopic     INFO     Formatting data for sampleA_B cell_VS_sampleB_B cell\n",
      "\u001b[2m\u001b[36m(markers_ray pid=2827684)\u001b[0m 2023-01-04 17:25:19,655 cisTopic     INFO     Formatting data for sampleB_B cell_VS_sampleA_B cell\n",
      "\u001b[2m\u001b[36m(markers_ray pid=2827689)\u001b[0m 2023-01-04 17:25:21,104 cisTopic     INFO     Computing p-value for sampleA_B cell_VS_sampleB_B cell\n",
      "\u001b[2m\u001b[36m(markers_ray pid=2827686)\u001b[0m 2023-01-04 17:25:23,046 cisTopic     INFO     Formatting data for sampleA_CD14+ monocyte_VS_sampleB_CD14+ monocyte\n",
      "\u001b[2m\u001b[36m(markers_ray pid=2827684)\u001b[0m 2023-01-04 17:25:24,765 cisTopic     INFO     Computing p-value for sampleB_B cell_VS_sampleA_B cell\n",
      "\u001b[2m\u001b[36m(markers_ray pid=2827683)\u001b[0m 2023-01-04 17:25:26,653 cisTopic     INFO     Formatting data for sampleB_CD14+ monocyte_VS_sampleA_CD14+ monocyte\n",
      "\u001b[2m\u001b[36m(markers_ray pid=2827682)\u001b[0m 2023-01-04 17:25:26,912 cisTopic     INFO     Computing p-value for sampleA_Cytotoxic T cell_VS_sampleB_Cytotoxic T cell\n",
      "\u001b[2m\u001b[36m(markers_ray pid=2827687)\u001b[0m 2023-01-04 17:25:30,132 cisTopic     INFO     Formatting data for sampleA_CD4+ T cell_VS_sampleB_CD4+ T cell\n",
      "\u001b[2m\u001b[36m(markers_ray pid=2827690)\u001b[0m 2023-01-04 17:25:31,716 cisTopic     INFO     Computing p-value for sampleB_Cytotoxic T cell_VS_sampleA_Cytotoxic T cell\n",
      "\u001b[2m\u001b[36m(markers_ray pid=2827686)\u001b[0m 2023-01-04 17:25:33,199 cisTopic     INFO     Computing p-value for sampleA_CD14+ monocyte_VS_sampleB_CD14+ monocyte\n",
      "\u001b[2m\u001b[36m(markers_ray pid=2827688)\u001b[0m 2023-01-04 17:25:33,657 cisTopic     INFO     Formatting data for sampleB_CD4+ T cell_VS_sampleA_CD4+ T cell\n",
      "\u001b[2m\u001b[36m(markers_ray pid=2827683)\u001b[0m 2023-01-04 17:25:36,848 cisTopic     INFO     Computing p-value for sampleB_CD14+ monocyte_VS_sampleA_CD14+ monocyte\n",
      "\u001b[2m\u001b[36m(markers_ray pid=2827687)\u001b[0m 2023-01-04 17:25:46,187 cisTopic     INFO     Computing p-value for sampleA_CD4+ T cell_VS_sampleB_CD4+ T cell\n",
      "\u001b[2m\u001b[36m(markers_ray pid=2827689)\u001b[0m 2023-01-04 17:25:48,268 cisTopic     INFO     Computing log2FC for sampleA_B cell_VS_sampleB_B cell\n",
      "\u001b[2m\u001b[36m(markers_ray pid=2827688)\u001b[0m 2023-01-04 17:25:49,400 cisTopic     INFO     Computing p-value for sampleB_CD4+ T cell_VS_sampleA_CD4+ T cell\n",
      "\u001b[2m\u001b[36m(markers_ray pid=2827689)\u001b[0m 2023-01-04 17:25:49,839 cisTopic     INFO     sampleA_B cell_VS_sampleB_B cell done!\n",
      "\u001b[2m\u001b[36m(markers_ray pid=2827689)\u001b[0m 2023-01-04 17:25:49,883 cisTopic     INFO     Formatting data for sampleA_Natural killer cell_VS_sampleB_Natural killer cell\n",
      "\u001b[2m\u001b[36m(markers_ray pid=2827684)\u001b[0m 2023-01-04 17:25:52,163 cisTopic     INFO     Computing log2FC for sampleB_B cell_VS_sampleA_B cell\n",
      "\u001b[2m\u001b[36m(markers_ray pid=2827689)\u001b[0m 2023-01-04 17:25:53,133 cisTopic     INFO     Computing p-value for sampleA_Natural killer cell_VS_sampleB_Natural killer cell\n",
      "\u001b[2m\u001b[36m(markers_ray pid=2827684)\u001b[0m 2023-01-04 17:25:53,749 cisTopic     INFO     sampleB_B cell_VS_sampleA_B cell done!\n"
     ]
    },
    {
     "name": "stderr",
     "output_type": "stream",
     "text": [
      "\u001b[2m\u001b[36m(raylet)\u001b[0m Spilled 15930 MiB, 1 objects, write throughput 786 MiB/s. Set RAY_verbose_spill_logs=0 to disable this message.\n",
      "\u001b[2m\u001b[36m(raylet)\u001b[0m Spilled 31861 MiB, 2 objects, write throughput 1414 MiB/s.\n",
      "\u001b[2m\u001b[36m(raylet)\u001b[0m Spilled 47792 MiB, 3 objects, write throughput 1758 MiB/s.\n",
      "\u001b[2m\u001b[36m(raylet)\u001b[0m Spilled 63723 MiB, 4 objects, write throughput 1926 MiB/s.\n"
     ]
    },
    {
     "name": "stdout",
     "output_type": "stream",
     "text": [
      "\u001b[2m\u001b[36m(markers_ray pid=2827684)\u001b[0m 2023-01-04 17:26:10,653 cisTopic     INFO     Formatting data for sampleB_Natural killer cell_VS_sampleA_Natural killer cell\n",
      "\u001b[2m\u001b[36m(markers_ray pid=2827684)\u001b[0m 2023-01-04 17:26:13,600 cisTopic     INFO     Computing p-value for sampleB_Natural killer cell_VS_sampleA_Natural killer cell\n",
      "\u001b[2m\u001b[36m(markers_ray pid=2827689)\u001b[0m 2023-01-04 17:26:14,831 cisTopic     INFO     Computing log2FC for sampleA_Natural killer cell_VS_sampleB_Natural killer cell\n",
      "\u001b[2m\u001b[36m(markers_ray pid=2827689)\u001b[0m 2023-01-04 17:26:16,370 cisTopic     INFO     sampleA_Natural killer cell_VS_sampleB_Natural killer cell done!\n",
      "\u001b[2m\u001b[36m(markers_ray pid=2827689)\u001b[0m 2023-01-04 17:26:16,424 cisTopic     INFO     Formatting data for sampleA_Dendritic cell_VS_sampleB_Dendritic cell\n",
      "\u001b[2m\u001b[36m(markers_ray pid=2827689)\u001b[0m 2023-01-04 17:26:17,797 cisTopic     INFO     Computing p-value for sampleA_Dendritic cell_VS_sampleB_Dendritic cell\n",
      "\u001b[2m\u001b[36m(markers_ray pid=2827686)\u001b[0m 2023-01-04 17:26:21,259 cisTopic     INFO     Computing log2FC for sampleA_CD14+ monocyte_VS_sampleB_CD14+ monocyte\n",
      "\u001b[2m\u001b[36m(markers_ray pid=2827686)\u001b[0m 2023-01-04 17:26:22,947 cisTopic     INFO     sampleA_CD14+ monocyte_VS_sampleB_CD14+ monocyte done!\n",
      "\u001b[2m\u001b[36m(markers_ray pid=2827686)\u001b[0m 2023-01-04 17:26:23,029 cisTopic     INFO     Formatting data for sampleB_Dendritic cell_VS_sampleA_Dendritic cell\n",
      "\u001b[2m\u001b[36m(markers_ray pid=2827686)\u001b[0m 2023-01-04 17:26:24,254 cisTopic     INFO     Computing p-value for sampleB_Dendritic cell_VS_sampleA_Dendritic cell\n",
      "\u001b[2m\u001b[36m(markers_ray pid=2827683)\u001b[0m 2023-01-04 17:26:24,266 cisTopic     INFO     Computing log2FC for sampleB_CD14+ monocyte_VS_sampleA_CD14+ monocyte\n",
      "\u001b[2m\u001b[36m(markers_ray pid=2827683)\u001b[0m 2023-01-04 17:26:25,930 cisTopic     INFO     sampleB_CD14+ monocyte_VS_sampleA_CD14+ monocyte done!\n",
      "\u001b[2m\u001b[36m(markers_ray pid=2827687)\u001b[0m 2023-01-04 17:26:28,469 cisTopic     INFO     Computing log2FC for sampleA_CD4+ T cell_VS_sampleB_CD4+ T cell\n",
      "\u001b[2m\u001b[36m(markers_ray pid=2827687)\u001b[0m 2023-01-04 17:26:30,232 cisTopic     INFO     sampleA_CD4+ T cell_VS_sampleB_CD4+ T cell done!\n",
      "\u001b[2m\u001b[36m(markers_ray pid=2827688)\u001b[0m 2023-01-04 17:26:31,255 cisTopic     INFO     Computing log2FC for sampleB_CD4+ T cell_VS_sampleA_CD4+ T cell\n",
      "\u001b[2m\u001b[36m(markers_ray pid=2827688)\u001b[0m 2023-01-04 17:26:32,972 cisTopic     INFO     sampleB_CD4+ T cell_VS_sampleA_CD4+ T cell done!\n",
      "\u001b[2m\u001b[36m(markers_ray pid=2827689)\u001b[0m 2023-01-04 17:26:34,324 cisTopic     INFO     Computing log2FC for sampleA_Dendritic cell_VS_sampleB_Dendritic cell\n",
      "\u001b[2m\u001b[36m(markers_ray pid=2827684)\u001b[0m 2023-01-04 17:26:35,299 cisTopic     INFO     Computing log2FC for sampleB_Natural killer cell_VS_sampleA_Natural killer cell\n",
      "\u001b[2m\u001b[36m(markers_ray pid=2827689)\u001b[0m 2023-01-04 17:26:35,778 cisTopic     INFO     sampleA_Dendritic cell_VS_sampleB_Dendritic cell done!\n",
      "\u001b[2m\u001b[36m(markers_ray pid=2827684)\u001b[0m 2023-01-04 17:26:36,892 cisTopic     INFO     sampleB_Natural killer cell_VS_sampleA_Natural killer cell done!\n",
      "\u001b[2m\u001b[36m(markers_ray pid=2827682)\u001b[0m 2023-01-04 17:26:38,129 cisTopic     INFO     Computing log2FC for sampleA_Cytotoxic T cell_VS_sampleB_Cytotoxic T cell\n",
      "\u001b[2m\u001b[36m(markers_ray pid=2827682)\u001b[0m 2023-01-04 17:26:40,015 cisTopic     INFO     sampleA_Cytotoxic T cell_VS_sampleB_Cytotoxic T cell done!\n",
      "\u001b[2m\u001b[36m(markers_ray pid=2827686)\u001b[0m 2023-01-04 17:26:40,941 cisTopic     INFO     Computing log2FC for sampleB_Dendritic cell_VS_sampleA_Dendritic cell\n"
     ]
    },
    {
     "name": "stderr",
     "output_type": "stream",
     "text": [
      "\u001b[2m\u001b[36m(raylet)\u001b[0m Spilled 79654 MiB, 7 objects, write throughput 1545 MiB/s.\n"
     ]
    },
    {
     "name": "stdout",
     "output_type": "stream",
     "text": [
      "\u001b[2m\u001b[36m(markers_ray pid=2827686)\u001b[0m 2023-01-04 17:26:42,497 cisTopic     INFO     sampleB_Dendritic cell_VS_sampleA_Dendritic cell done!\n",
      "\u001b[2m\u001b[36m(markers_ray pid=2827690)\u001b[0m 2023-01-04 17:26:42,766 cisTopic     INFO     Computing log2FC for sampleB_Cytotoxic T cell_VS_sampleA_Cytotoxic T cell\n",
      "\u001b[2m\u001b[36m(markers_ray pid=2827690)\u001b[0m 2023-01-04 17:26:44,703 cisTopic     INFO     sampleB_Cytotoxic T cell_VS_sampleA_Cytotoxic T cell done!\n"
     ]
    },
    {
     "name": "stderr",
     "output_type": "stream",
     "text": [
      "\u001b[2m\u001b[36m(raylet)\u001b[0m Spilled 95585 MiB, 10 objects, write throughput 1582 MiB/s.\n"
     ]
    },
    {
     "name": "stdout",
     "output_type": "stream",
     "text": [
      "\u001b[2m\u001b[36m(markers_ray pid=2827690)\u001b[0m 2023-01-04 17:28:04,835 cisTopic     INFO     Formatting data for sampleA_CD16+ monocyte_VS_sampleB_CD16+ monocyte\n",
      "\u001b[2m\u001b[36m(markers_ray pid=2827686)\u001b[0m 2023-01-04 17:28:05,297 cisTopic     INFO     Formatting data for sampleB_CD16+ monocyte_VS_sampleA_CD16+ monocyte\n",
      "\u001b[2m\u001b[36m(markers_ray pid=2827686)\u001b[0m 2023-01-04 17:28:06,116 cisTopic     INFO     Computing p-value for sampleB_CD16+ monocyte_VS_sampleA_CD16+ monocyte\n",
      "\u001b[2m\u001b[36m(markers_ray pid=2827690)\u001b[0m 2023-01-04 17:28:14,309 cisTopic     INFO     Computing p-value for sampleA_CD16+ monocyte_VS_sampleB_CD16+ monocyte\n",
      "\u001b[2m\u001b[36m(markers_ray pid=2827686)\u001b[0m 2023-01-04 17:28:24,060 cisTopic     INFO     Computing log2FC for sampleB_CD16+ monocyte_VS_sampleA_CD16+ monocyte\n",
      "\u001b[2m\u001b[36m(markers_ray pid=2827686)\u001b[0m 2023-01-04 17:28:25,545 cisTopic     INFO     sampleB_CD16+ monocyte_VS_sampleA_CD16+ monocyte done!\n",
      "\u001b[2m\u001b[36m(markers_ray pid=2827690)\u001b[0m 2023-01-04 17:28:32,127 cisTopic     INFO     Computing log2FC for sampleA_CD16+ monocyte_VS_sampleB_CD16+ monocyte\n",
      "\u001b[2m\u001b[36m(markers_ray pid=2827690)\u001b[0m 2023-01-04 17:28:33,587 cisTopic     INFO     sampleA_CD16+ monocyte_VS_sampleB_CD16+ monocyte done!\n",
      "no DARs found for sampleA_Dendritic cell_VS_sampleB_Dendritic cell in master_sub_1.FIXEDCELLS\n",
      "no DARs found for sampleB_Dendritic cell_VS_sampleA_Dendritic cell in master_sub_1.FIXEDCELLS\n"
     ]
    },
    {
     "data": {
      "application/javascript": [
       "\n",
       "            setTimeout(function() {\n",
       "                var nbb_cell_id = 24;\n",
       "                var nbb_unformatted_code = \"\\nacc_path = normalized_imputed_acc_obj_path_dict[sample]\\n\\nif os.path.isfile(acc_path):\\n    print(f\\\"Loading {acc_path}\\\")\\n    with open(acc_path, \\\"rb\\\") as f:\\n        normalized_imputed_acc_obj = pickle.load(f)\\n\\nhvr_pkl_path = f\\\"downstream_analysis/HVRs/{sample}__HVRs.pkl\\\"\\n\\nif os.path.exists(hvr_pkl_path):\\n    print(f\\\"Loading {hvr_pkl_path}\\\")\\n    with open(hvr_pkl_path, \\\"rb\\\") as f:\\n        variable_regions = pickle.load(f)\\nelse:\\n    print(\\\"HVRs do not exist!\\\")\\n\\ncto.cell_data[\\\"fmx_sample_seurat_cell_type\\\"] = (\\n    cto.cell_data[\\\"fmx_sample\\\"]\\n    + \\\"_\\\"\\n    + cto.cell_data[\\\"seurat_cell_type__mega\\\"]\\n)\\n\\ncontrasts = []\\nfor cell_type in cto.cell_data[\\\"seurat_cell_type__mega\\\"].unique():\\n    print(cell_type)\\n    ct_a = \\\"sampleA_\\\" + cell_type\\n    ct_b = \\\"sampleB_\\\" + cell_type\\n    contrast = [[[ct_a], [ct_b]], [[ct_b], [ct_a]]]\\n    contrasts = contrasts + contrast\\n\\nmarkers_dict = find_diff_features(\\n    cto,\\n    normalized_imputed_acc_obj,\\n    variable=\\\"fmx_sample_seurat_cell_type\\\",\\n    var_features=variable_regions,\\n    contrasts=contrasts,\\n    adjpval_thr=0.05,\\n    log2fc_thr=np.log2(1.2),\\n    n_cpu=10,\\n)\\n\\nif not os.path.exists(f\\\"seurat_male_female_DARs/{sample}\\\"):\\n    os.mkdir(f\\\"seurat_male_female_DARs/{sample}\\\")\\n\\nwith open(\\n    f\\\"seurat_male_female_DARs/{sample}/{sample}__DARs_dict_1-2xfoldchange.pkl\\\",\\n    \\\"wb\\\",\\n) as f:\\n    pickle.dump(markers_dict, f, protocol=4)\\n\\nfor contrast in markers_dict.keys():\\n    markers = markers_dict[contrast].index.tolist()\\n    df = pd.DataFrame(markers)\\n    if len(df) == 0:\\n        print(f\\\"no DARs found for {contrast} in {sample}\\\")\\n    else:\\n        df[[0, 1]] = df[0].str.split(\\\":\\\", expand=True)\\n        df[[1, 2]] = df[1].str.split(\\\"-\\\", expand=True)\\n        df[3] = markers_dict[contrast].index.tolist()\\n        df[3] = contrast.replace(\\\" \\\", \\\"_\\\")  # + '_' + df[3].astype(str)\\n        score = markers_dict[contrast][\\\"Log2FC\\\"]\\n        score = score.reset_index(drop=True)\\n        df[4] = score\\n        df[5] = \\\".\\\"\\n        pval = markers_dict[contrast][\\\"Adjusted_pval\\\"]\\n        pval = pval.reset_index(drop=True)\\n        df[6] = pval\\n        name = contrast.replace(\\\" \\\", \\\"_\\\")\\n\\n        df.to_csv(\\n            f'seurat_male_female_DARs/{sample}/{sample}__{contrast.replace(\\\" \\\", \\\"_\\\")}__1-2xfoldchange_DARs.bed',\\n            sep=\\\"\\\\t\\\",\\n            header=False,\\n            index=False,\\n        )\";\n",
       "                var nbb_formatted_code = \"acc_path = normalized_imputed_acc_obj_path_dict[sample]\\n\\nif os.path.isfile(acc_path):\\n    print(f\\\"Loading {acc_path}\\\")\\n    with open(acc_path, \\\"rb\\\") as f:\\n        normalized_imputed_acc_obj = pickle.load(f)\\n\\nhvr_pkl_path = f\\\"downstream_analysis/HVRs/{sample}__HVRs.pkl\\\"\\n\\nif os.path.exists(hvr_pkl_path):\\n    print(f\\\"Loading {hvr_pkl_path}\\\")\\n    with open(hvr_pkl_path, \\\"rb\\\") as f:\\n        variable_regions = pickle.load(f)\\nelse:\\n    print(\\\"HVRs do not exist!\\\")\\n\\ncto.cell_data[\\\"fmx_sample_seurat_cell_type\\\"] = (\\n    cto.cell_data[\\\"fmx_sample\\\"] + \\\"_\\\" + cto.cell_data[\\\"seurat_cell_type__mega\\\"]\\n)\\n\\ncontrasts = []\\nfor cell_type in cto.cell_data[\\\"seurat_cell_type__mega\\\"].unique():\\n    print(cell_type)\\n    ct_a = \\\"sampleA_\\\" + cell_type\\n    ct_b = \\\"sampleB_\\\" + cell_type\\n    contrast = [[[ct_a], [ct_b]], [[ct_b], [ct_a]]]\\n    contrasts = contrasts + contrast\\n\\nmarkers_dict = find_diff_features(\\n    cto,\\n    normalized_imputed_acc_obj,\\n    variable=\\\"fmx_sample_seurat_cell_type\\\",\\n    var_features=variable_regions,\\n    contrasts=contrasts,\\n    adjpval_thr=0.05,\\n    log2fc_thr=np.log2(1.2),\\n    n_cpu=10,\\n)\\n\\nif not os.path.exists(f\\\"seurat_male_female_DARs/{sample}\\\"):\\n    os.mkdir(f\\\"seurat_male_female_DARs/{sample}\\\")\\n\\nwith open(\\n    f\\\"seurat_male_female_DARs/{sample}/{sample}__DARs_dict_1-2xfoldchange.pkl\\\",\\n    \\\"wb\\\",\\n) as f:\\n    pickle.dump(markers_dict, f, protocol=4)\\n\\nfor contrast in markers_dict.keys():\\n    markers = markers_dict[contrast].index.tolist()\\n    df = pd.DataFrame(markers)\\n    if len(df) == 0:\\n        print(f\\\"no DARs found for {contrast} in {sample}\\\")\\n    else:\\n        df[[0, 1]] = df[0].str.split(\\\":\\\", expand=True)\\n        df[[1, 2]] = df[1].str.split(\\\"-\\\", expand=True)\\n        df[3] = markers_dict[contrast].index.tolist()\\n        df[3] = contrast.replace(\\\" \\\", \\\"_\\\")  # + '_' + df[3].astype(str)\\n        score = markers_dict[contrast][\\\"Log2FC\\\"]\\n        score = score.reset_index(drop=True)\\n        df[4] = score\\n        df[5] = \\\".\\\"\\n        pval = markers_dict[contrast][\\\"Adjusted_pval\\\"]\\n        pval = pval.reset_index(drop=True)\\n        df[6] = pval\\n        name = contrast.replace(\\\" \\\", \\\"_\\\")\\n\\n        df.to_csv(\\n            f'seurat_male_female_DARs/{sample}/{sample}__{contrast.replace(\\\" \\\", \\\"_\\\")}__1-2xfoldchange_DARs.bed',\\n            sep=\\\"\\\\t\\\",\\n            header=False,\\n            index=False,\\n        )\";\n",
       "                var nbb_cells = Jupyter.notebook.get_cells();\n",
       "                for (var i = 0; i < nbb_cells.length; ++i) {\n",
       "                    if (nbb_cells[i].input_prompt_number == nbb_cell_id) {\n",
       "                        if (nbb_cells[i].get_text() == nbb_unformatted_code) {\n",
       "                             nbb_cells[i].set_text(nbb_formatted_code);\n",
       "                        }\n",
       "                        break;\n",
       "                    }\n",
       "                }\n",
       "            }, 500);\n",
       "            "
      ],
      "text/plain": [
       "<IPython.core.display.Javascript object>"
      ]
     },
     "metadata": {},
     "output_type": "display_data"
    }
   ],
   "source": [
    "acc_path = normalized_imputed_acc_obj_path_dict[sample]\n",
    "\n",
    "if os.path.isfile(acc_path):\n",
    "    print(f\"Loading {acc_path}\")\n",
    "    with open(acc_path, \"rb\") as f:\n",
    "        normalized_imputed_acc_obj = pickle.load(f)\n",
    "\n",
    "hvr_pkl_path = f\"downstream_analysis/HVRs/{sample}__HVRs.pkl\"\n",
    "\n",
    "if os.path.exists(hvr_pkl_path):\n",
    "    print(f\"Loading {hvr_pkl_path}\")\n",
    "    with open(hvr_pkl_path, \"rb\") as f:\n",
    "        variable_regions = pickle.load(f)\n",
    "else:\n",
    "    print(\"HVRs do not exist!\")\n",
    "\n",
    "cto.cell_data[\"fmx_sample_seurat_cell_type\"] = (\n",
    "    cto.cell_data[\"fmx_sample\"] + \"_\" + cto.cell_data[\"seurat_cell_type__mega\"]\n",
    ")\n",
    "\n",
    "contrasts = []\n",
    "for cell_type in cto.cell_data[\"seurat_cell_type__mega\"].unique():\n",
    "    print(cell_type)\n",
    "    ct_a = \"sampleA_\" + cell_type\n",
    "    ct_b = \"sampleB_\" + cell_type\n",
    "    contrast = [[[ct_a], [ct_b]], [[ct_b], [ct_a]]]\n",
    "    contrasts = contrasts + contrast\n",
    "\n",
    "markers_dict = find_diff_features(\n",
    "    cto,\n",
    "    normalized_imputed_acc_obj,\n",
    "    variable=\"fmx_sample_seurat_cell_type\",\n",
    "    var_features=variable_regions,\n",
    "    contrasts=contrasts,\n",
    "    adjpval_thr=0.05,\n",
    "    log2fc_thr=np.log2(1.2),\n",
    "    n_cpu=10,\n",
    ")\n",
    "\n",
    "if not os.path.exists(f\"seurat_male_female_DARs/{sample}\"):\n",
    "    os.mkdir(f\"seurat_male_female_DARs/{sample}\")\n",
    "\n",
    "with open(\n",
    "    f\"seurat_male_female_DARs/{sample}/{sample}__DARs_dict_1-2xfoldchange.pkl\",\n",
    "    \"wb\",\n",
    ") as f:\n",
    "    pickle.dump(markers_dict, f, protocol=4)\n",
    "\n",
    "for contrast in markers_dict.keys():\n",
    "    markers = markers_dict[contrast].index.tolist()\n",
    "    df = pd.DataFrame(markers)\n",
    "    if len(df) == 0:\n",
    "        print(f\"no DARs found for {contrast} in {sample}\")\n",
    "    else:\n",
    "        df[[0, 1]] = df[0].str.split(\":\", expand=True)\n",
    "        df[[1, 2]] = df[1].str.split(\"-\", expand=True)\n",
    "        df[3] = markers_dict[contrast].index.tolist()\n",
    "        df[3] = contrast.replace(\" \", \"_\")  # + '_' + df[3].astype(str)\n",
    "        score = markers_dict[contrast][\"Log2FC\"]\n",
    "        score = score.reset_index(drop=True)\n",
    "        df[4] = score\n",
    "        df[5] = \".\"\n",
    "        pval = markers_dict[contrast][\"Adjusted_pval\"]\n",
    "        pval = pval.reset_index(drop=True)\n",
    "        df[6] = pval\n",
    "        name = contrast.replace(\" \", \"_\")\n",
    "\n",
    "        df.to_csv(\n",
    "            f'seurat_male_female_DARs/{sample}/{sample}__{contrast.replace(\" \", \"_\")}__1-2xfoldchange_DARs.bed',\n",
    "            sep=\"\\t\",\n",
    "            header=False,\n",
    "            index=False,\n",
    "        )"
   ]
  },
  {
   "cell_type": "markdown",
   "id": "e8de6dcf-28e5-498b-b697-6faec92299c9",
   "metadata": {},
   "source": [
    "# calculate DARs with harmony"
   ]
  },
  {
   "cell_type": "code",
   "execution_count": 14,
   "id": "0e658a7e-92fa-4f06-97a3-8b973d4a9b6f",
   "metadata": {
    "execution": {
     "iopub.execute_input": "2023-01-02T19:48:41.334404Z",
     "iopub.status.busy": "2023-01-02T19:48:41.333581Z",
     "iopub.status.idle": "2023-01-02T19:55:26.237737Z",
     "shell.execute_reply": "2023-01-02T19:55:26.236266Z",
     "shell.execute_reply.started": "2023-01-02T19:48:41.334344Z"
    },
    "tags": []
   },
   "outputs": [
    {
     "name": "stdout",
     "output_type": "stream",
     "text": [
      "Loading cistopic_objects/master_sub_1.FIXEDCELLS__cto.scrublet0-4.fmx.singlets.model_20topics.dimreduc.consensus_harmony.pkl\n",
      "Loading downstream_analysis/imputed_acc_objs/master_sub_1.FIXEDCELLS__imputed_acc_obs.pkl\n",
      "Loading downstream_analysis/HVRs/master_sub_1.FIXEDCELLS__HVRs.pkl\n"
     ]
    },
    {
     "name": "stderr",
     "output_type": "stream",
     "text": [
      "2023-01-02 20:49:16,368\tINFO services.py:1470 -- View the Ray dashboard at \u001b[1m\u001b[32mhttp://127.0.0.1:8265\u001b[39m\u001b[22m\n"
     ]
    },
    {
     "name": "stdout",
     "output_type": "stream",
     "text": [
      "\u001b[2m\u001b[36m(markers_ray pid=86873)\u001b[0m 2023-01-02 20:49:23,640 cisTopic     INFO     Formatting data for B cell\n",
      "\u001b[2m\u001b[36m(markers_ray pid=86872)\u001b[0m 2023-01-02 20:49:27,099 cisTopic     INFO     Formatting data for CD14+ monocyte\n",
      "\u001b[2m\u001b[36m(markers_ray pid=86876)\u001b[0m 2023-01-02 20:49:30,691 cisTopic     INFO     Formatting data for CD16+ monocyte\n",
      "\u001b[2m\u001b[36m(markers_ray pid=86878)\u001b[0m 2023-01-02 20:49:34,086 cisTopic     INFO     Formatting data for CD4+ T cell\n",
      "\u001b[2m\u001b[36m(markers_ray pid=86879)\u001b[0m 2023-01-02 20:49:37,385 cisTopic     INFO     Formatting data for Cytotoxic T cell\n",
      "\u001b[2m\u001b[36m(markers_ray pid=86880)\u001b[0m 2023-01-02 20:49:40,979 cisTopic     INFO     Formatting data for Dendritic cell\n",
      "\u001b[2m\u001b[36m(markers_ray pid=86884)\u001b[0m 2023-01-02 20:49:44,466 cisTopic     INFO     Formatting data for Natural killer cell\n",
      "\u001b[2m\u001b[36m(markers_ray pid=86873)\u001b[0m 2023-01-02 20:50:35,409 cisTopic     INFO     Computing p-value for B cell\n",
      "\u001b[2m\u001b[36m(markers_ray pid=86872)\u001b[0m 2023-01-02 20:50:37,054 cisTopic     INFO     Computing p-value for CD14+ monocyte\n",
      "\u001b[2m\u001b[36m(markers_ray pid=86876)\u001b[0m 2023-01-02 20:50:46,371 cisTopic     INFO     Computing p-value for CD16+ monocyte\n",
      "\u001b[2m\u001b[36m(markers_ray pid=86878)\u001b[0m 2023-01-02 20:50:47,201 cisTopic     INFO     Computing p-value for CD4+ T cell\n",
      "\u001b[2m\u001b[36m(markers_ray pid=86880)\u001b[0m 2023-01-02 20:50:54,153 cisTopic     INFO     Computing p-value for Dendritic cell\n",
      "\u001b[2m\u001b[36m(markers_ray pid=86884)\u001b[0m 2023-01-02 20:50:55,127 cisTopic     INFO     Computing p-value for Natural killer cell\n",
      "\u001b[2m\u001b[36m(markers_ray pid=86879)\u001b[0m 2023-01-02 20:51:16,839 cisTopic     INFO     Computing p-value for Cytotoxic T cell\n",
      "\u001b[2m\u001b[36m(markers_ray pid=86872)\u001b[0m 2023-01-02 20:54:24,582 cisTopic     INFO     Computing log2FC for CD14+ monocyte\n",
      "\u001b[2m\u001b[36m(markers_ray pid=86873)\u001b[0m 2023-01-02 20:54:26,064 cisTopic     INFO     Computing log2FC for B cell\n",
      "\u001b[2m\u001b[36m(markers_ray pid=86872)\u001b[0m 2023-01-02 20:54:27,337 cisTopic     INFO     CD14+ monocyte done!\n",
      "\u001b[2m\u001b[36m(markers_ray pid=86873)\u001b[0m 2023-01-02 20:54:28,802 cisTopic     INFO     B cell done!\n",
      "\u001b[2m\u001b[36m(markers_ray pid=86878)\u001b[0m 2023-01-02 20:54:37,892 cisTopic     INFO     Computing log2FC for CD4+ T cell\n",
      "\u001b[2m\u001b[36m(markers_ray pid=86876)\u001b[0m 2023-01-02 20:54:38,630 cisTopic     INFO     Computing log2FC for CD16+ monocyte\n",
      "\u001b[2m\u001b[36m(markers_ray pid=86878)\u001b[0m 2023-01-02 20:54:40,634 cisTopic     INFO     CD4+ T cell done!\n",
      "\u001b[2m\u001b[36m(markers_ray pid=86876)\u001b[0m 2023-01-02 20:54:41,423 cisTopic     INFO     CD16+ monocyte done!\n",
      "\u001b[2m\u001b[36m(markers_ray pid=86884)\u001b[0m 2023-01-02 20:54:45,218 cisTopic     INFO     Computing log2FC for Natural killer cell\n",
      "\u001b[2m\u001b[36m(markers_ray pid=86880)\u001b[0m 2023-01-02 20:54:45,792 cisTopic     INFO     Computing log2FC for Dendritic cell\n",
      "\u001b[2m\u001b[36m(markers_ray pid=86884)\u001b[0m 2023-01-02 20:54:47,920 cisTopic     INFO     Natural killer cell done!\n",
      "\u001b[2m\u001b[36m(markers_ray pid=86880)\u001b[0m 2023-01-02 20:54:48,606 cisTopic     INFO     Dendritic cell done!\n",
      "\u001b[2m\u001b[36m(markers_ray pid=86879)\u001b[0m 2023-01-02 20:55:11,334 cisTopic     INFO     Computing log2FC for Cytotoxic T cell\n",
      "\u001b[2m\u001b[36m(markers_ray pid=86879)\u001b[0m 2023-01-02 20:55:14,698 cisTopic     INFO     Cytotoxic T cell done!\n"
     ]
    },
    {
     "data": {
      "application/javascript": [
       "\n",
       "            setTimeout(function() {\n",
       "                var nbb_cell_id = 14;\n",
       "                var nbb_unformatted_code = \"for sample in cistopic_obj_path_dict.keys():\\n    # for sample  in ['SAN_10xmultiome_1.FIXEDCELLS']:\\n    if os.path.exists(f\\\"downstream_analysis/harmony_DARs/{sample}\\\"):\\n        cto_path = cistopic_obj_path_dict[sample]\\n        if os.path.isfile(cto_path):\\n            print(f\\\"Loading {cto_path}\\\")\\n            with open(cto_path, \\\"rb\\\") as f:\\n                cto = pickle.load(f)\\n\\n            cto.cell_names = cto.cell_data.index\\n            if [x.split(\\\"-\\\")[0] for x in cto.selected_model.cell_topic.columns] == [\\n                x.split(\\\"___\\\")[0] for x in list(cto.cell_names)\\n            ]:\\n                cto.selected_model.cell_topic.columns = list(cto.cell_names)\\n\\n            acc_path = normalized_imputed_acc_obj_path_dict[sample]\\n\\n            if os.path.isfile(acc_path):\\n                print(f\\\"Loading {acc_path}\\\")\\n                with open(acc_path, \\\"rb\\\") as f:\\n                    normalized_imputed_acc_obj = pickle.load(f)\\n\\n            hvr_pkl_path = f\\\"downstream_analysis/HVRs/{sample}__HVRs.pkl\\\"\\n\\n            if os.path.exists(hvr_pkl_path):\\n                print(f\\\"Loading {hvr_pkl_path}\\\")\\n                with open(hvr_pkl_path, \\\"rb\\\") as f:\\n                    variable_regions = pickle.load(f)\\n            else:\\n                print(\\\"HVRs do not exist!\\\")\\n\\n            markers_dict = find_diff_features(\\n                cto,\\n                normalized_imputed_acc_obj,\\n                variable=\\\"consensus_cell_type\\\",\\n                var_features=variable_regions,\\n                contrasts=None,\\n                adjpval_thr=0.05,\\n                log2fc_thr=np.log2(1.5),\\n                n_cpu=16,\\n            )\\n            with open(\\n                f\\\"downstream_analysis/harmony_DARs/{sample}/{sample}__DARs_dict.pkl\\\",\\n                \\\"wb\\\",\\n            ) as f:\\n                pickle.dump(markers_dict, f, protocol=4)\\n\\n            for cell_type in markers_dict.keys():\\n                markers = markers_dict[cell_type].index.tolist()\\n                df = pd.DataFrame(markers)\\n                if len(df) == 0:\\n                    print(f\\\"no DARs found for {cell_type} in {sample}\\\")\\n                else:\\n                    df[[0, 1]] = df[0].str.split(\\\":\\\", expand=True)\\n                    df[[1, 2]] = df[1].str.split(\\\"-\\\", expand=True)\\n                    df[3] = markers_dict[cell_type].index.tolist()\\n                    df[3] = cell_type.replace(\\\" \\\", \\\"_\\\")  # + '_' + df[3].astype(str)\\n                    score = markers_dict[cell_type][\\\"Log2FC\\\"]\\n                    score = score.reset_index(drop=True)\\n                    df[4] = score\\n                    df[5] = \\\".\\\"\\n                    pval = markers_dict[cell_type][\\\"Adjusted_pval\\\"]\\n                    pval = pval.reset_index(drop=True)\\n                    df[6] = pval\\n                    name = cell_type.replace(\\\" \\\", \\\"_\\\")\\n                    # name = name.replace('/', '-')\\n                    if not os.path.exists(f\\\"downstream_analysis/harmony_DARs/{sample}\\\"):\\n                        os.mkdir(f\\\"downstream_analysis/harmony_DARs/{sample}\\\")\\n\\n                    df.to_csv(\\n                        f'downstream_analysis/harmony_DARs/{sample}/{sample}__{cell_type.replace(\\\" \\\", \\\"_\\\")}__DARs.bed',\\n                        sep=\\\"\\\\t\\\",\\n                        header=False,\\n                        index=False,\\n                    )\\n                    df[0:2000].to_csv(\\n                        f'downstream_analysis/harmony_DARs/{sample}/{sample}__{cell_type.replace(\\\" \\\", \\\"_\\\")}__DARs.TOP2k.bed',\\n                        sep=\\\"\\\\t\\\",\\n                        header=False,\\n                        index=False,\\n                    )\";\n",
       "                var nbb_formatted_code = \"for sample in cistopic_obj_path_dict.keys():\\n    # for sample  in ['SAN_10xmultiome_1.FIXEDCELLS']:\\n    if os.path.exists(f\\\"downstream_analysis/harmony_DARs/{sample}\\\"):\\n        cto_path = cistopic_obj_path_dict[sample]\\n        if os.path.isfile(cto_path):\\n            print(f\\\"Loading {cto_path}\\\")\\n            with open(cto_path, \\\"rb\\\") as f:\\n                cto = pickle.load(f)\\n\\n            cto.cell_names = cto.cell_data.index\\n            if [x.split(\\\"-\\\")[0] for x in cto.selected_model.cell_topic.columns] == [\\n                x.split(\\\"___\\\")[0] for x in list(cto.cell_names)\\n            ]:\\n                cto.selected_model.cell_topic.columns = list(cto.cell_names)\\n\\n            acc_path = normalized_imputed_acc_obj_path_dict[sample]\\n\\n            if os.path.isfile(acc_path):\\n                print(f\\\"Loading {acc_path}\\\")\\n                with open(acc_path, \\\"rb\\\") as f:\\n                    normalized_imputed_acc_obj = pickle.load(f)\\n\\n            hvr_pkl_path = f\\\"downstream_analysis/HVRs/{sample}__HVRs.pkl\\\"\\n\\n            if os.path.exists(hvr_pkl_path):\\n                print(f\\\"Loading {hvr_pkl_path}\\\")\\n                with open(hvr_pkl_path, \\\"rb\\\") as f:\\n                    variable_regions = pickle.load(f)\\n            else:\\n                print(\\\"HVRs do not exist!\\\")\\n\\n            markers_dict = find_diff_features(\\n                cto,\\n                normalized_imputed_acc_obj,\\n                variable=\\\"consensus_cell_type\\\",\\n                var_features=variable_regions,\\n                contrasts=None,\\n                adjpval_thr=0.05,\\n                log2fc_thr=np.log2(1.5),\\n                n_cpu=16,\\n            )\\n            with open(\\n                f\\\"downstream_analysis/harmony_DARs/{sample}/{sample}__DARs_dict.pkl\\\",\\n                \\\"wb\\\",\\n            ) as f:\\n                pickle.dump(markers_dict, f, protocol=4)\\n\\n            for cell_type in markers_dict.keys():\\n                markers = markers_dict[cell_type].index.tolist()\\n                df = pd.DataFrame(markers)\\n                if len(df) == 0:\\n                    print(f\\\"no DARs found for {cell_type} in {sample}\\\")\\n                else:\\n                    df[[0, 1]] = df[0].str.split(\\\":\\\", expand=True)\\n                    df[[1, 2]] = df[1].str.split(\\\"-\\\", expand=True)\\n                    df[3] = markers_dict[cell_type].index.tolist()\\n                    df[3] = cell_type.replace(\\\" \\\", \\\"_\\\")  # + '_' + df[3].astype(str)\\n                    score = markers_dict[cell_type][\\\"Log2FC\\\"]\\n                    score = score.reset_index(drop=True)\\n                    df[4] = score\\n                    df[5] = \\\".\\\"\\n                    pval = markers_dict[cell_type][\\\"Adjusted_pval\\\"]\\n                    pval = pval.reset_index(drop=True)\\n                    df[6] = pval\\n                    name = cell_type.replace(\\\" \\\", \\\"_\\\")\\n                    # name = name.replace('/', '-')\\n                    if not os.path.exists(f\\\"downstream_analysis/harmony_DARs/{sample}\\\"):\\n                        os.mkdir(f\\\"downstream_analysis/harmony_DARs/{sample}\\\")\\n\\n                    df.to_csv(\\n                        f'downstream_analysis/harmony_DARs/{sample}/{sample}__{cell_type.replace(\\\" \\\", \\\"_\\\")}__DARs.bed',\\n                        sep=\\\"\\\\t\\\",\\n                        header=False,\\n                        index=False,\\n                    )\\n                    df[0:2000].to_csv(\\n                        f'downstream_analysis/harmony_DARs/{sample}/{sample}__{cell_type.replace(\\\" \\\", \\\"_\\\")}__DARs.TOP2k.bed',\\n                        sep=\\\"\\\\t\\\",\\n                        header=False,\\n                        index=False,\\n                    )\";\n",
       "                var nbb_cells = Jupyter.notebook.get_cells();\n",
       "                for (var i = 0; i < nbb_cells.length; ++i) {\n",
       "                    if (nbb_cells[i].input_prompt_number == nbb_cell_id) {\n",
       "                        if (nbb_cells[i].get_text() == nbb_unformatted_code) {\n",
       "                             nbb_cells[i].set_text(nbb_formatted_code);\n",
       "                        }\n",
       "                        break;\n",
       "                    }\n",
       "                }\n",
       "            }, 500);\n",
       "            "
      ],
      "text/plain": [
       "<IPython.core.display.Javascript object>"
      ]
     },
     "metadata": {},
     "output_type": "display_data"
    }
   ],
   "source": [
    "for sample in cistopic_obj_path_dict.keys():\n",
    "    # for sample  in ['SAN_10xmultiome_1.FIXEDCELLS']:\n",
    "    if os.path.exists(f\"downstream_analysis/harmony_DARs/{sample}\"):\n",
    "        cto_path = cistopic_obj_path_dict[sample]\n",
    "        if os.path.isfile(cto_path):\n",
    "            print(f\"Loading {cto_path}\")\n",
    "            with open(cto_path, \"rb\") as f:\n",
    "                cto = pickle.load(f)\n",
    "\n",
    "            cto.cell_names = cto.cell_data.index\n",
    "            if [x.split(\"-\")[0] for x in cto.selected_model.cell_topic.columns] == [\n",
    "                x.split(\"___\")[0] for x in list(cto.cell_names)\n",
    "            ]:\n",
    "                cto.selected_model.cell_topic.columns = list(cto.cell_names)\n",
    "\n",
    "            acc_path = normalized_imputed_acc_obj_path_dict[sample]\n",
    "\n",
    "            if os.path.isfile(acc_path):\n",
    "                print(f\"Loading {acc_path}\")\n",
    "                with open(acc_path, \"rb\") as f:\n",
    "                    normalized_imputed_acc_obj = pickle.load(f)\n",
    "\n",
    "            hvr_pkl_path = f\"downstream_analysis/HVRs/{sample}__HVRs.pkl\"\n",
    "\n",
    "            if os.path.exists(hvr_pkl_path):\n",
    "                print(f\"Loading {hvr_pkl_path}\")\n",
    "                with open(hvr_pkl_path, \"rb\") as f:\n",
    "                    variable_regions = pickle.load(f)\n",
    "            else:\n",
    "                print(\"HVRs do not exist!\")\n",
    "\n",
    "            markers_dict = find_diff_features(\n",
    "                cto,\n",
    "                normalized_imputed_acc_obj,\n",
    "                variable=\"consensus_cell_type\",\n",
    "                var_features=variable_regions,\n",
    "                contrasts=None,\n",
    "                adjpval_thr=0.05,\n",
    "                log2fc_thr=np.log2(1.5),\n",
    "                n_cpu=16,\n",
    "            )\n",
    "            with open(\n",
    "                f\"downstream_analysis/harmony_DARs/{sample}/{sample}__DARs_dict.pkl\",\n",
    "                \"wb\",\n",
    "            ) as f:\n",
    "                pickle.dump(markers_dict, f, protocol=4)\n",
    "\n",
    "            for cell_type in markers_dict.keys():\n",
    "                markers = markers_dict[cell_type].index.tolist()\n",
    "                df = pd.DataFrame(markers)\n",
    "                if len(df) == 0:\n",
    "                    print(f\"no DARs found for {cell_type} in {sample}\")\n",
    "                else:\n",
    "                    df[[0, 1]] = df[0].str.split(\":\", expand=True)\n",
    "                    df[[1, 2]] = df[1].str.split(\"-\", expand=True)\n",
    "                    df[3] = markers_dict[cell_type].index.tolist()\n",
    "                    df[3] = cell_type.replace(\" \", \"_\")  # + '_' + df[3].astype(str)\n",
    "                    score = markers_dict[cell_type][\"Log2FC\"]\n",
    "                    score = score.reset_index(drop=True)\n",
    "                    df[4] = score\n",
    "                    df[5] = \".\"\n",
    "                    pval = markers_dict[cell_type][\"Adjusted_pval\"]\n",
    "                    pval = pval.reset_index(drop=True)\n",
    "                    df[6] = pval\n",
    "                    name = cell_type.replace(\" \", \"_\")\n",
    "                    # name = name.replace('/', '-')\n",
    "                    if not os.path.exists(f\"downstream_analysis/harmony_DARs/{sample}\"):\n",
    "                        os.mkdir(f\"downstream_analysis/harmony_DARs/{sample}\")\n",
    "\n",
    "                    df.to_csv(\n",
    "                        f'downstream_analysis/harmony_DARs/{sample}/{sample}__{cell_type.replace(\" \", \"_\")}__DARs.bed',\n",
    "                        sep=\"\\t\",\n",
    "                        header=False,\n",
    "                        index=False,\n",
    "                    )\n",
    "                    df[0:2000].to_csv(\n",
    "                        f'downstream_analysis/harmony_DARs/{sample}/{sample}__{cell_type.replace(\" \", \"_\")}__DARs.TOP2k.bed',\n",
    "                        sep=\"\\t\",\n",
    "                        header=False,\n",
    "                        index=False,\n",
    "                    )"
   ]
  },
  {
   "cell_type": "code",
   "execution_count": 1,
   "id": "ae3c2440-6d86-4c0f-b688-af5bbb6e2dee",
   "metadata": {
    "execution": {
     "iopub.execute_input": "2023-01-02T19:25:37.321035Z",
     "iopub.status.busy": "2023-01-02T19:25:37.320044Z",
     "iopub.status.idle": "2023-01-02T19:25:37.340408Z",
     "shell.execute_reply": "2023-01-02T19:25:37.339037Z",
     "shell.execute_reply.started": "2023-01-02T19:25:37.320868Z"
    }
   },
   "outputs": [],
   "source": [
    "a = 1"
   ]
  },
  {
   "cell_type": "code",
   "execution_count": null,
   "id": "753af924-18cf-43bf-ada8-383d4f32c972",
   "metadata": {},
   "outputs": [],
   "source": []
  }
 ],
 "metadata": {
  "kernelspec": {
   "display_name": "20220628_pycistopic.sif",
   "language": "python",
   "name": "cistopic_20220628"
  },
  "language_info": {
   "codemirror_mode": {
    "name": "ipython",
    "version": 3
   },
   "file_extension": ".py",
   "mimetype": "text/x-python",
   "name": "python",
   "nbconvert_exporter": "python",
   "pygments_lexer": "ipython3",
   "version": "3.8.13"
  },
  "papermill": {
   "default_parameters": {},
   "duration": 18901.281753,
   "end_time": "2022-09-30T18:41:26.947373",
   "environment_variables": {},
   "exception": true,
   "input_path": "7b_downstream_analysis.ipynb",
   "output_path": "7b_downstream_analysis.OUT.ipynb",
   "parameters": {},
   "start_time": "2022-09-30T13:26:25.665620",
   "version": "2.3.3"
  }
 },
 "nbformat": 4,
 "nbformat_minor": 5
}

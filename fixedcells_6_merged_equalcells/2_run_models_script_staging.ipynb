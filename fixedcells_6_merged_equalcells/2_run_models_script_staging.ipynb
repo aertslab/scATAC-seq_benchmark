{
 "cells": [
  {
   "cell_type": "markdown",
   "id": "abad1c43",
   "metadata": {
    "papermill": {
     "duration": 0.018858,
     "end_time": "2022-08-20T22:37:21.062275",
     "exception": false,
     "start_time": "2022-08-20T22:37:21.043417",
     "status": "completed"
    },
    "tags": []
   },
   "source": [
    "# pycisTopic analysis\n",
    "\n",
    "Full dataset, using SCREEN regions."
   ]
  },
  {
   "cell_type": "code",
   "execution_count": 18,
   "id": "27688c76",
   "metadata": {
    "execution": {
     "iopub.execute_input": "2022-12-22T11:31:46.452768Z",
     "iopub.status.busy": "2022-12-22T11:31:46.451862Z",
     "iopub.status.idle": "2022-12-22T11:31:46.463958Z",
     "shell.execute_reply": "2022-12-22T11:31:46.462580Z",
     "shell.execute_reply.started": "2022-12-22T11:31:46.452694Z"
    },
    "papermill": {
     "duration": 0.038814,
     "end_time": "2022-08-20T22:37:21.118471",
     "exception": false,
     "start_time": "2022-08-20T22:37:21.079657",
     "status": "completed"
    },
    "tags": []
   },
   "outputs": [
    {
     "data": {
      "text/plain": [
       "'1.0.2.dev0+g6236cef.d20220816'"
      ]
     },
     "execution_count": 18,
     "metadata": {},
     "output_type": "execute_result"
    }
   ],
   "source": [
    "import pycisTopic\n",
    "pycisTopic.__version__"
   ]
  },
  {
   "cell_type": "code",
   "execution_count": 19,
   "id": "02f5597f",
   "metadata": {
    "execution": {
     "iopub.execute_input": "2022-12-22T11:31:46.635576Z",
     "iopub.status.busy": "2022-12-22T11:31:46.634805Z",
     "iopub.status.idle": "2022-12-22T11:31:46.812646Z",
     "shell.execute_reply": "2022-12-22T11:31:46.811195Z",
     "shell.execute_reply.started": "2022-12-22T11:31:46.635520Z"
    },
    "papermill": {
     "duration": 0.016775,
     "end_time": "2022-08-20T22:37:21.146588",
     "exception": false,
     "start_time": "2022-08-20T22:37:21.129813",
     "status": "completed"
    },
    "tags": []
   },
   "outputs": [],
   "source": [
    "import warnings\n",
    "warnings.filterwarnings('ignore')\n",
    "warnings.simplefilter('ignore')"
   ]
  },
  {
   "cell_type": "code",
   "execution_count": 20,
   "id": "dddb9e5d",
   "metadata": {
    "execution": {
     "iopub.execute_input": "2022-12-22T11:31:46.816047Z",
     "iopub.status.busy": "2022-12-22T11:31:46.815324Z",
     "iopub.status.idle": "2022-12-22T11:31:46.823989Z",
     "shell.execute_reply": "2022-12-22T11:31:46.822586Z",
     "shell.execute_reply.started": "2022-12-22T11:31:46.815994Z"
    },
    "papermill": {
     "duration": 1.451765,
     "end_time": "2022-08-20T22:37:22.608690",
     "exception": false,
     "start_time": "2022-08-20T22:37:21.156925",
     "status": "completed"
    },
    "tags": []
   },
   "outputs": [],
   "source": [
    "import pickle\n",
    "import pandas as pd"
   ]
  },
  {
   "cell_type": "code",
   "execution_count": 21,
   "id": "d1be21b1",
   "metadata": {
    "execution": {
     "iopub.execute_input": "2022-12-22T11:31:47.743165Z",
     "iopub.status.busy": "2022-12-22T11:31:47.742389Z",
     "iopub.status.idle": "2022-12-22T11:31:47.749936Z",
     "shell.execute_reply": "2022-12-22T11:31:47.748566Z",
     "shell.execute_reply.started": "2022-12-22T11:31:47.743111Z"
    },
    "papermill": {
     "duration": 0.019766,
     "end_time": "2022-08-20T22:37:22.644014",
     "exception": false,
     "start_time": "2022-08-20T22:37:22.624248",
     "status": "completed"
    },
    "tags": []
   },
   "outputs": [],
   "source": [
    "import glob\n",
    "from collections import OrderedDict\n",
    "import numpy as np"
   ]
  },
  {
   "cell_type": "code",
   "execution_count": 22,
   "id": "e6797018",
   "metadata": {
    "execution": {
     "iopub.execute_input": "2022-12-22T11:31:47.907543Z",
     "iopub.status.busy": "2022-12-22T11:31:47.906783Z",
     "iopub.status.idle": "2022-12-22T11:31:48.039144Z",
     "shell.execute_reply": "2022-12-22T11:31:48.037280Z",
     "shell.execute_reply.started": "2022-12-22T11:31:47.907488Z"
    },
    "papermill": {
     "duration": 0.225017,
     "end_time": "2022-08-20T22:37:22.878396",
     "exception": false,
     "start_time": "2022-08-20T22:37:22.653379",
     "status": "completed"
    },
    "tags": []
   },
   "outputs": [
    {
     "name": "stdout",
     "output_type": "stream",
     "text": [
      "/lustre1/project/stg_00090/scatac_benchmark/fixedcells_6_merged_equalcells\n"
     ]
    }
   ],
   "source": [
    "!pwd"
   ]
  },
  {
   "cell_type": "code",
   "execution_count": 23,
   "id": "8a4b1699",
   "metadata": {
    "execution": {
     "iopub.execute_input": "2022-12-22T11:31:48.070835Z",
     "iopub.status.busy": "2022-12-22T11:31:48.069989Z",
     "iopub.status.idle": "2022-12-22T11:31:48.078749Z",
     "shell.execute_reply": "2022-12-22T11:31:48.077284Z",
     "shell.execute_reply.started": "2022-12-22T11:31:48.070772Z"
    },
    "papermill": {
     "duration": 0.022023,
     "end_time": "2022-08-20T22:37:22.915276",
     "exception": false,
     "start_time": "2022-08-20T22:37:22.893253",
     "status": "completed"
    },
    "tags": []
   },
   "outputs": [],
   "source": [
    "import os\n",
    "wdir = '/lustre1/project/stg_00090/scatac_benchmark/fixedcells_6_merged_equalcells'\n",
    "os.chdir( wdir )"
   ]
  },
  {
   "cell_type": "code",
   "execution_count": 24,
   "id": "a6c26e22",
   "metadata": {
    "execution": {
     "iopub.execute_input": "2022-12-22T11:31:48.231390Z",
     "iopub.status.busy": "2022-12-22T11:31:48.231006Z",
     "iopub.status.idle": "2022-12-22T11:31:48.237634Z",
     "shell.execute_reply": "2022-12-22T11:31:48.236663Z",
     "shell.execute_reply.started": "2022-12-22T11:31:48.231369Z"
    },
    "tags": []
   },
   "outputs": [
    {
     "name": "stdout",
     "output_type": "stream",
     "text": [
      "['10', '11', '12', '13', '14', '15', '16', '17', '18', '19', '2', '20', '21', '22', '23', '24', '25', '26', '27', '28', '29', '3', '30', '4', '5', '6', '7', '8', '9']\n"
     ]
    }
   ],
   "source": [
    "n_topics_final = 30\n",
    "base_topic = 1\n",
    "topics_final = set(sorted([str(x+1) for x in list(range(base_topic,n_topics_final))]))\n",
    "n_cores = 70\n",
    "n_iter = \"400\"\n",
    "print(sorted(topics_final))"
   ]
  },
  {
   "cell_type": "code",
   "execution_count": 25,
   "id": "75a87a2d",
   "metadata": {
    "execution": {
     "iopub.execute_input": "2022-12-22T11:31:48.414044Z",
     "iopub.status.busy": "2022-12-22T11:31:48.413261Z",
     "iopub.status.idle": "2022-12-22T11:31:48.813863Z",
     "shell.execute_reply": "2022-12-22T11:31:48.811143Z",
     "shell.execute_reply.started": "2022-12-22T11:31:48.413988Z"
    },
    "papermill": {
     "duration": 0.236882,
     "end_time": "2022-08-20T22:37:23.193992",
     "exception": false,
     "start_time": "2022-08-20T22:37:22.957110",
     "status": "completed"
    },
    "tags": []
   },
   "outputs": [
    {
     "name": "stdout",
     "output_type": "stream",
     "text": [
      "echo master_sub_1.FIXEDCELLS && cd /lustre1/project/stg_00090/scatac_benchmark/fixedcells_6_merged_equalcells && singularity exec -B /lustre1,/staging,/data,/vsc-hard-mounts,/scratch ../0_resources/cistopic_image/20220815_pycistopic.sif python ../0_resources/scripts/runModels_lda_mallet.py -i cistopic_objects/master_sub_1.FIXEDCELLS__cto.scrublet0-4.fmx.singlets.pkl -o master_sub_1.FIXEDCELLS__models_400_iter.pkl -nt 10 -c 70 -it 400 -a 50 -abt True -e 0.1 -ebt False -sp models__screen__mallet/model_intermediates/master_sub_1.FIXEDCELLS_10_model_intermediates/ -s 555 -td models__screen__mallet/model_tmp/master_sub_1.FIXEDCELLS_10_model_tmp/ > models__screen__mallet/master_sub_1.FIXEDCELLS.models_out_log10.txt\n",
      "echo master_sub_1.FIXEDCELLS && cd /lustre1/project/stg_00090/scatac_benchmark/fixedcells_6_merged_equalcells && singularity exec -B /lustre1,/staging,/data,/vsc-hard-mounts,/scratch ../0_resources/cistopic_image/20220815_pycistopic.sif python ../0_resources/scripts/runModels_lda_mallet.py -i cistopic_objects/master_sub_1.FIXEDCELLS__cto.scrublet0-4.fmx.singlets.pkl -o master_sub_1.FIXEDCELLS__models_400_iter.pkl -nt 11 -c 70 -it 400 -a 50 -abt True -e 0.1 -ebt False -sp models__screen__mallet/model_intermediates/master_sub_1.FIXEDCELLS_11_model_intermediates/ -s 555 -td models__screen__mallet/model_tmp/master_sub_1.FIXEDCELLS_11_model_tmp/ > models__screen__mallet/master_sub_1.FIXEDCELLS.models_out_log11.txt\n",
      "echo master_sub_1.FIXEDCELLS && cd /lustre1/project/stg_00090/scatac_benchmark/fixedcells_6_merged_equalcells && singularity exec -B /lustre1,/staging,/data,/vsc-hard-mounts,/scratch ../0_resources/cistopic_image/20220815_pycistopic.sif python ../0_resources/scripts/runModels_lda_mallet.py -i cistopic_objects/master_sub_1.FIXEDCELLS__cto.scrublet0-4.fmx.singlets.pkl -o master_sub_1.FIXEDCELLS__models_400_iter.pkl -nt 12 -c 70 -it 400 -a 50 -abt True -e 0.1 -ebt False -sp models__screen__mallet/model_intermediates/master_sub_1.FIXEDCELLS_12_model_intermediates/ -s 555 -td models__screen__mallet/model_tmp/master_sub_1.FIXEDCELLS_12_model_tmp/ > models__screen__mallet/master_sub_1.FIXEDCELLS.models_out_log12.txt\n",
      "echo master_sub_1.FIXEDCELLS && cd /lustre1/project/stg_00090/scatac_benchmark/fixedcells_6_merged_equalcells && singularity exec -B /lustre1,/staging,/data,/vsc-hard-mounts,/scratch ../0_resources/cistopic_image/20220815_pycistopic.sif python ../0_resources/scripts/runModels_lda_mallet.py -i cistopic_objects/master_sub_1.FIXEDCELLS__cto.scrublet0-4.fmx.singlets.pkl -o master_sub_1.FIXEDCELLS__models_400_iter.pkl -nt 13 -c 70 -it 400 -a 50 -abt True -e 0.1 -ebt False -sp models__screen__mallet/model_intermediates/master_sub_1.FIXEDCELLS_13_model_intermediates/ -s 555 -td models__screen__mallet/model_tmp/master_sub_1.FIXEDCELLS_13_model_tmp/ > models__screen__mallet/master_sub_1.FIXEDCELLS.models_out_log13.txt\n",
      "echo master_sub_1.FIXEDCELLS && cd /lustre1/project/stg_00090/scatac_benchmark/fixedcells_6_merged_equalcells && singularity exec -B /lustre1,/staging,/data,/vsc-hard-mounts,/scratch ../0_resources/cistopic_image/20220815_pycistopic.sif python ../0_resources/scripts/runModels_lda_mallet.py -i cistopic_objects/master_sub_1.FIXEDCELLS__cto.scrublet0-4.fmx.singlets.pkl -o master_sub_1.FIXEDCELLS__models_400_iter.pkl -nt 14 -c 70 -it 400 -a 50 -abt True -e 0.1 -ebt False -sp models__screen__mallet/model_intermediates/master_sub_1.FIXEDCELLS_14_model_intermediates/ -s 555 -td models__screen__mallet/model_tmp/master_sub_1.FIXEDCELLS_14_model_tmp/ > models__screen__mallet/master_sub_1.FIXEDCELLS.models_out_log14.txt\n",
      "echo master_sub_1.FIXEDCELLS && cd /lustre1/project/stg_00090/scatac_benchmark/fixedcells_6_merged_equalcells && singularity exec -B /lustre1,/staging,/data,/vsc-hard-mounts,/scratch ../0_resources/cistopic_image/20220815_pycistopic.sif python ../0_resources/scripts/runModels_lda_mallet.py -i cistopic_objects/master_sub_1.FIXEDCELLS__cto.scrublet0-4.fmx.singlets.pkl -o master_sub_1.FIXEDCELLS__models_400_iter.pkl -nt 15 -c 70 -it 400 -a 50 -abt True -e 0.1 -ebt False -sp models__screen__mallet/model_intermediates/master_sub_1.FIXEDCELLS_15_model_intermediates/ -s 555 -td models__screen__mallet/model_tmp/master_sub_1.FIXEDCELLS_15_model_tmp/ > models__screen__mallet/master_sub_1.FIXEDCELLS.models_out_log15.txt\n",
      "echo master_sub_1.FIXEDCELLS && cd /lustre1/project/stg_00090/scatac_benchmark/fixedcells_6_merged_equalcells && singularity exec -B /lustre1,/staging,/data,/vsc-hard-mounts,/scratch ../0_resources/cistopic_image/20220815_pycistopic.sif python ../0_resources/scripts/runModels_lda_mallet.py -i cistopic_objects/master_sub_1.FIXEDCELLS__cto.scrublet0-4.fmx.singlets.pkl -o master_sub_1.FIXEDCELLS__models_400_iter.pkl -nt 16 -c 70 -it 400 -a 50 -abt True -e 0.1 -ebt False -sp models__screen__mallet/model_intermediates/master_sub_1.FIXEDCELLS_16_model_intermediates/ -s 555 -td models__screen__mallet/model_tmp/master_sub_1.FIXEDCELLS_16_model_tmp/ > models__screen__mallet/master_sub_1.FIXEDCELLS.models_out_log16.txt\n",
      "echo master_sub_1.FIXEDCELLS && cd /lustre1/project/stg_00090/scatac_benchmark/fixedcells_6_merged_equalcells && singularity exec -B /lustre1,/staging,/data,/vsc-hard-mounts,/scratch ../0_resources/cistopic_image/20220815_pycistopic.sif python ../0_resources/scripts/runModels_lda_mallet.py -i cistopic_objects/master_sub_1.FIXEDCELLS__cto.scrublet0-4.fmx.singlets.pkl -o master_sub_1.FIXEDCELLS__models_400_iter.pkl -nt 17 -c 70 -it 400 -a 50 -abt True -e 0.1 -ebt False -sp models__screen__mallet/model_intermediates/master_sub_1.FIXEDCELLS_17_model_intermediates/ -s 555 -td models__screen__mallet/model_tmp/master_sub_1.FIXEDCELLS_17_model_tmp/ > models__screen__mallet/master_sub_1.FIXEDCELLS.models_out_log17.txt\n",
      "echo master_sub_1.FIXEDCELLS && cd /lustre1/project/stg_00090/scatac_benchmark/fixedcells_6_merged_equalcells && singularity exec -B /lustre1,/staging,/data,/vsc-hard-mounts,/scratch ../0_resources/cistopic_image/20220815_pycistopic.sif python ../0_resources/scripts/runModels_lda_mallet.py -i cistopic_objects/master_sub_1.FIXEDCELLS__cto.scrublet0-4.fmx.singlets.pkl -o master_sub_1.FIXEDCELLS__models_400_iter.pkl -nt 18 -c 70 -it 400 -a 50 -abt True -e 0.1 -ebt False -sp models__screen__mallet/model_intermediates/master_sub_1.FIXEDCELLS_18_model_intermediates/ -s 555 -td models__screen__mallet/model_tmp/master_sub_1.FIXEDCELLS_18_model_tmp/ > models__screen__mallet/master_sub_1.FIXEDCELLS.models_out_log18.txt\n",
      "echo master_sub_1.FIXEDCELLS && cd /lustre1/project/stg_00090/scatac_benchmark/fixedcells_6_merged_equalcells && singularity exec -B /lustre1,/staging,/data,/vsc-hard-mounts,/scratch ../0_resources/cistopic_image/20220815_pycistopic.sif python ../0_resources/scripts/runModels_lda_mallet.py -i cistopic_objects/master_sub_1.FIXEDCELLS__cto.scrublet0-4.fmx.singlets.pkl -o master_sub_1.FIXEDCELLS__models_400_iter.pkl -nt 19 -c 70 -it 400 -a 50 -abt True -e 0.1 -ebt False -sp models__screen__mallet/model_intermediates/master_sub_1.FIXEDCELLS_19_model_intermediates/ -s 555 -td models__screen__mallet/model_tmp/master_sub_1.FIXEDCELLS_19_model_tmp/ > models__screen__mallet/master_sub_1.FIXEDCELLS.models_out_log19.txt\n",
      "echo master_sub_1.FIXEDCELLS && cd /lustre1/project/stg_00090/scatac_benchmark/fixedcells_6_merged_equalcells && singularity exec -B /lustre1,/staging,/data,/vsc-hard-mounts,/scratch ../0_resources/cistopic_image/20220815_pycistopic.sif python ../0_resources/scripts/runModels_lda_mallet.py -i cistopic_objects/master_sub_1.FIXEDCELLS__cto.scrublet0-4.fmx.singlets.pkl -o master_sub_1.FIXEDCELLS__models_400_iter.pkl -nt 2 -c 70 -it 400 -a 50 -abt True -e 0.1 -ebt False -sp models__screen__mallet/model_intermediates/master_sub_1.FIXEDCELLS_2_model_intermediates/ -s 555 -td models__screen__mallet/model_tmp/master_sub_1.FIXEDCELLS_2_model_tmp/ > models__screen__mallet/master_sub_1.FIXEDCELLS.models_out_log2.txt\n",
      "echo master_sub_1.FIXEDCELLS && cd /lustre1/project/stg_00090/scatac_benchmark/fixedcells_6_merged_equalcells && singularity exec -B /lustre1,/staging,/data,/vsc-hard-mounts,/scratch ../0_resources/cistopic_image/20220815_pycistopic.sif python ../0_resources/scripts/runModels_lda_mallet.py -i cistopic_objects/master_sub_1.FIXEDCELLS__cto.scrublet0-4.fmx.singlets.pkl -o master_sub_1.FIXEDCELLS__models_400_iter.pkl -nt 20 -c 70 -it 400 -a 50 -abt True -e 0.1 -ebt False -sp models__screen__mallet/model_intermediates/master_sub_1.FIXEDCELLS_20_model_intermediates/ -s 555 -td models__screen__mallet/model_tmp/master_sub_1.FIXEDCELLS_20_model_tmp/ > models__screen__mallet/master_sub_1.FIXEDCELLS.models_out_log20.txt\n",
      "echo master_sub_1.FIXEDCELLS && cd /lustre1/project/stg_00090/scatac_benchmark/fixedcells_6_merged_equalcells && singularity exec -B /lustre1,/staging,/data,/vsc-hard-mounts,/scratch ../0_resources/cistopic_image/20220815_pycistopic.sif python ../0_resources/scripts/runModels_lda_mallet.py -i cistopic_objects/master_sub_1.FIXEDCELLS__cto.scrublet0-4.fmx.singlets.pkl -o master_sub_1.FIXEDCELLS__models_400_iter.pkl -nt 21 -c 70 -it 400 -a 50 -abt True -e 0.1 -ebt False -sp models__screen__mallet/model_intermediates/master_sub_1.FIXEDCELLS_21_model_intermediates/ -s 555 -td models__screen__mallet/model_tmp/master_sub_1.FIXEDCELLS_21_model_tmp/ > models__screen__mallet/master_sub_1.FIXEDCELLS.models_out_log21.txt\n",
      "echo master_sub_1.FIXEDCELLS && cd /lustre1/project/stg_00090/scatac_benchmark/fixedcells_6_merged_equalcells && singularity exec -B /lustre1,/staging,/data,/vsc-hard-mounts,/scratch ../0_resources/cistopic_image/20220815_pycistopic.sif python ../0_resources/scripts/runModels_lda_mallet.py -i cistopic_objects/master_sub_1.FIXEDCELLS__cto.scrublet0-4.fmx.singlets.pkl -o master_sub_1.FIXEDCELLS__models_400_iter.pkl -nt 22 -c 70 -it 400 -a 50 -abt True -e 0.1 -ebt False -sp models__screen__mallet/model_intermediates/master_sub_1.FIXEDCELLS_22_model_intermediates/ -s 555 -td models__screen__mallet/model_tmp/master_sub_1.FIXEDCELLS_22_model_tmp/ > models__screen__mallet/master_sub_1.FIXEDCELLS.models_out_log22.txt\n",
      "echo master_sub_1.FIXEDCELLS && cd /lustre1/project/stg_00090/scatac_benchmark/fixedcells_6_merged_equalcells && singularity exec -B /lustre1,/staging,/data,/vsc-hard-mounts,/scratch ../0_resources/cistopic_image/20220815_pycistopic.sif python ../0_resources/scripts/runModels_lda_mallet.py -i cistopic_objects/master_sub_1.FIXEDCELLS__cto.scrublet0-4.fmx.singlets.pkl -o master_sub_1.FIXEDCELLS__models_400_iter.pkl -nt 23 -c 70 -it 400 -a 50 -abt True -e 0.1 -ebt False -sp models__screen__mallet/model_intermediates/master_sub_1.FIXEDCELLS_23_model_intermediates/ -s 555 -td models__screen__mallet/model_tmp/master_sub_1.FIXEDCELLS_23_model_tmp/ > models__screen__mallet/master_sub_1.FIXEDCELLS.models_out_log23.txt\n",
      "echo master_sub_1.FIXEDCELLS && cd /lustre1/project/stg_00090/scatac_benchmark/fixedcells_6_merged_equalcells && singularity exec -B /lustre1,/staging,/data,/vsc-hard-mounts,/scratch ../0_resources/cistopic_image/20220815_pycistopic.sif python ../0_resources/scripts/runModels_lda_mallet.py -i cistopic_objects/master_sub_1.FIXEDCELLS__cto.scrublet0-4.fmx.singlets.pkl -o master_sub_1.FIXEDCELLS__models_400_iter.pkl -nt 24 -c 70 -it 400 -a 50 -abt True -e 0.1 -ebt False -sp models__screen__mallet/model_intermediates/master_sub_1.FIXEDCELLS_24_model_intermediates/ -s 555 -td models__screen__mallet/model_tmp/master_sub_1.FIXEDCELLS_24_model_tmp/ > models__screen__mallet/master_sub_1.FIXEDCELLS.models_out_log24.txt\n",
      "echo master_sub_1.FIXEDCELLS && cd /lustre1/project/stg_00090/scatac_benchmark/fixedcells_6_merged_equalcells && singularity exec -B /lustre1,/staging,/data,/vsc-hard-mounts,/scratch ../0_resources/cistopic_image/20220815_pycistopic.sif python ../0_resources/scripts/runModels_lda_mallet.py -i cistopic_objects/master_sub_1.FIXEDCELLS__cto.scrublet0-4.fmx.singlets.pkl -o master_sub_1.FIXEDCELLS__models_400_iter.pkl -nt 25 -c 70 -it 400 -a 50 -abt True -e 0.1 -ebt False -sp models__screen__mallet/model_intermediates/master_sub_1.FIXEDCELLS_25_model_intermediates/ -s 555 -td models__screen__mallet/model_tmp/master_sub_1.FIXEDCELLS_25_model_tmp/ > models__screen__mallet/master_sub_1.FIXEDCELLS.models_out_log25.txt\n",
      "echo master_sub_1.FIXEDCELLS && cd /lustre1/project/stg_00090/scatac_benchmark/fixedcells_6_merged_equalcells && singularity exec -B /lustre1,/staging,/data,/vsc-hard-mounts,/scratch ../0_resources/cistopic_image/20220815_pycistopic.sif python ../0_resources/scripts/runModels_lda_mallet.py -i cistopic_objects/master_sub_1.FIXEDCELLS__cto.scrublet0-4.fmx.singlets.pkl -o master_sub_1.FIXEDCELLS__models_400_iter.pkl -nt 26 -c 70 -it 400 -a 50 -abt True -e 0.1 -ebt False -sp models__screen__mallet/model_intermediates/master_sub_1.FIXEDCELLS_26_model_intermediates/ -s 555 -td models__screen__mallet/model_tmp/master_sub_1.FIXEDCELLS_26_model_tmp/ > models__screen__mallet/master_sub_1.FIXEDCELLS.models_out_log26.txt\n",
      "echo master_sub_1.FIXEDCELLS && cd /lustre1/project/stg_00090/scatac_benchmark/fixedcells_6_merged_equalcells && singularity exec -B /lustre1,/staging,/data,/vsc-hard-mounts,/scratch ../0_resources/cistopic_image/20220815_pycistopic.sif python ../0_resources/scripts/runModels_lda_mallet.py -i cistopic_objects/master_sub_1.FIXEDCELLS__cto.scrublet0-4.fmx.singlets.pkl -o master_sub_1.FIXEDCELLS__models_400_iter.pkl -nt 27 -c 70 -it 400 -a 50 -abt True -e 0.1 -ebt False -sp models__screen__mallet/model_intermediates/master_sub_1.FIXEDCELLS_27_model_intermediates/ -s 555 -td models__screen__mallet/model_tmp/master_sub_1.FIXEDCELLS_27_model_tmp/ > models__screen__mallet/master_sub_1.FIXEDCELLS.models_out_log27.txt\n",
      "echo master_sub_1.FIXEDCELLS && cd /lustre1/project/stg_00090/scatac_benchmark/fixedcells_6_merged_equalcells && singularity exec -B /lustre1,/staging,/data,/vsc-hard-mounts,/scratch ../0_resources/cistopic_image/20220815_pycistopic.sif python ../0_resources/scripts/runModels_lda_mallet.py -i cistopic_objects/master_sub_1.FIXEDCELLS__cto.scrublet0-4.fmx.singlets.pkl -o master_sub_1.FIXEDCELLS__models_400_iter.pkl -nt 28 -c 70 -it 400 -a 50 -abt True -e 0.1 -ebt False -sp models__screen__mallet/model_intermediates/master_sub_1.FIXEDCELLS_28_model_intermediates/ -s 555 -td models__screen__mallet/model_tmp/master_sub_1.FIXEDCELLS_28_model_tmp/ > models__screen__mallet/master_sub_1.FIXEDCELLS.models_out_log28.txt\n",
      "echo master_sub_1.FIXEDCELLS && cd /lustre1/project/stg_00090/scatac_benchmark/fixedcells_6_merged_equalcells && singularity exec -B /lustre1,/staging,/data,/vsc-hard-mounts,/scratch ../0_resources/cistopic_image/20220815_pycistopic.sif python ../0_resources/scripts/runModels_lda_mallet.py -i cistopic_objects/master_sub_1.FIXEDCELLS__cto.scrublet0-4.fmx.singlets.pkl -o master_sub_1.FIXEDCELLS__models_400_iter.pkl -nt 29 -c 70 -it 400 -a 50 -abt True -e 0.1 -ebt False -sp models__screen__mallet/model_intermediates/master_sub_1.FIXEDCELLS_29_model_intermediates/ -s 555 -td models__screen__mallet/model_tmp/master_sub_1.FIXEDCELLS_29_model_tmp/ > models__screen__mallet/master_sub_1.FIXEDCELLS.models_out_log29.txt\n",
      "echo master_sub_1.FIXEDCELLS && cd /lustre1/project/stg_00090/scatac_benchmark/fixedcells_6_merged_equalcells && singularity exec -B /lustre1,/staging,/data,/vsc-hard-mounts,/scratch ../0_resources/cistopic_image/20220815_pycistopic.sif python ../0_resources/scripts/runModels_lda_mallet.py -i cistopic_objects/master_sub_1.FIXEDCELLS__cto.scrublet0-4.fmx.singlets.pkl -o master_sub_1.FIXEDCELLS__models_400_iter.pkl -nt 3 -c 70 -it 400 -a 50 -abt True -e 0.1 -ebt False -sp models__screen__mallet/model_intermediates/master_sub_1.FIXEDCELLS_3_model_intermediates/ -s 555 -td models__screen__mallet/model_tmp/master_sub_1.FIXEDCELLS_3_model_tmp/ > models__screen__mallet/master_sub_1.FIXEDCELLS.models_out_log3.txt\n",
      "echo master_sub_1.FIXEDCELLS && cd /lustre1/project/stg_00090/scatac_benchmark/fixedcells_6_merged_equalcells && singularity exec -B /lustre1,/staging,/data,/vsc-hard-mounts,/scratch ../0_resources/cistopic_image/20220815_pycistopic.sif python ../0_resources/scripts/runModels_lda_mallet.py -i cistopic_objects/master_sub_1.FIXEDCELLS__cto.scrublet0-4.fmx.singlets.pkl -o master_sub_1.FIXEDCELLS__models_400_iter.pkl -nt 30 -c 70 -it 400 -a 50 -abt True -e 0.1 -ebt False -sp models__screen__mallet/model_intermediates/master_sub_1.FIXEDCELLS_30_model_intermediates/ -s 555 -td models__screen__mallet/model_tmp/master_sub_1.FIXEDCELLS_30_model_tmp/ > models__screen__mallet/master_sub_1.FIXEDCELLS.models_out_log30.txt\n",
      "echo master_sub_1.FIXEDCELLS && cd /lustre1/project/stg_00090/scatac_benchmark/fixedcells_6_merged_equalcells && singularity exec -B /lustre1,/staging,/data,/vsc-hard-mounts,/scratch ../0_resources/cistopic_image/20220815_pycistopic.sif python ../0_resources/scripts/runModels_lda_mallet.py -i cistopic_objects/master_sub_1.FIXEDCELLS__cto.scrublet0-4.fmx.singlets.pkl -o master_sub_1.FIXEDCELLS__models_400_iter.pkl -nt 4 -c 70 -it 400 -a 50 -abt True -e 0.1 -ebt False -sp models__screen__mallet/model_intermediates/master_sub_1.FIXEDCELLS_4_model_intermediates/ -s 555 -td models__screen__mallet/model_tmp/master_sub_1.FIXEDCELLS_4_model_tmp/ > models__screen__mallet/master_sub_1.FIXEDCELLS.models_out_log4.txt\n",
      "echo master_sub_1.FIXEDCELLS && cd /lustre1/project/stg_00090/scatac_benchmark/fixedcells_6_merged_equalcells && singularity exec -B /lustre1,/staging,/data,/vsc-hard-mounts,/scratch ../0_resources/cistopic_image/20220815_pycistopic.sif python ../0_resources/scripts/runModels_lda_mallet.py -i cistopic_objects/master_sub_1.FIXEDCELLS__cto.scrublet0-4.fmx.singlets.pkl -o master_sub_1.FIXEDCELLS__models_400_iter.pkl -nt 5 -c 70 -it 400 -a 50 -abt True -e 0.1 -ebt False -sp models__screen__mallet/model_intermediates/master_sub_1.FIXEDCELLS_5_model_intermediates/ -s 555 -td models__screen__mallet/model_tmp/master_sub_1.FIXEDCELLS_5_model_tmp/ > models__screen__mallet/master_sub_1.FIXEDCELLS.models_out_log5.txt\n",
      "echo master_sub_1.FIXEDCELLS && cd /lustre1/project/stg_00090/scatac_benchmark/fixedcells_6_merged_equalcells && singularity exec -B /lustre1,/staging,/data,/vsc-hard-mounts,/scratch ../0_resources/cistopic_image/20220815_pycistopic.sif python ../0_resources/scripts/runModels_lda_mallet.py -i cistopic_objects/master_sub_1.FIXEDCELLS__cto.scrublet0-4.fmx.singlets.pkl -o master_sub_1.FIXEDCELLS__models_400_iter.pkl -nt 6 -c 70 -it 400 -a 50 -abt True -e 0.1 -ebt False -sp models__screen__mallet/model_intermediates/master_sub_1.FIXEDCELLS_6_model_intermediates/ -s 555 -td models__screen__mallet/model_tmp/master_sub_1.FIXEDCELLS_6_model_tmp/ > models__screen__mallet/master_sub_1.FIXEDCELLS.models_out_log6.txt\n",
      "echo master_sub_1.FIXEDCELLS && cd /lustre1/project/stg_00090/scatac_benchmark/fixedcells_6_merged_equalcells && singularity exec -B /lustre1,/staging,/data,/vsc-hard-mounts,/scratch ../0_resources/cistopic_image/20220815_pycistopic.sif python ../0_resources/scripts/runModels_lda_mallet.py -i cistopic_objects/master_sub_1.FIXEDCELLS__cto.scrublet0-4.fmx.singlets.pkl -o master_sub_1.FIXEDCELLS__models_400_iter.pkl -nt 7 -c 70 -it 400 -a 50 -abt True -e 0.1 -ebt False -sp models__screen__mallet/model_intermediates/master_sub_1.FIXEDCELLS_7_model_intermediates/ -s 555 -td models__screen__mallet/model_tmp/master_sub_1.FIXEDCELLS_7_model_tmp/ > models__screen__mallet/master_sub_1.FIXEDCELLS.models_out_log7.txt\n",
      "echo master_sub_1.FIXEDCELLS && cd /lustre1/project/stg_00090/scatac_benchmark/fixedcells_6_merged_equalcells && singularity exec -B /lustre1,/staging,/data,/vsc-hard-mounts,/scratch ../0_resources/cistopic_image/20220815_pycistopic.sif python ../0_resources/scripts/runModels_lda_mallet.py -i cistopic_objects/master_sub_1.FIXEDCELLS__cto.scrublet0-4.fmx.singlets.pkl -o master_sub_1.FIXEDCELLS__models_400_iter.pkl -nt 8 -c 70 -it 400 -a 50 -abt True -e 0.1 -ebt False -sp models__screen__mallet/model_intermediates/master_sub_1.FIXEDCELLS_8_model_intermediates/ -s 555 -td models__screen__mallet/model_tmp/master_sub_1.FIXEDCELLS_8_model_tmp/ > models__screen__mallet/master_sub_1.FIXEDCELLS.models_out_log8.txt\n",
      "echo master_sub_1.FIXEDCELLS && cd /lustre1/project/stg_00090/scatac_benchmark/fixedcells_6_merged_equalcells && singularity exec -B /lustre1,/staging,/data,/vsc-hard-mounts,/scratch ../0_resources/cistopic_image/20220815_pycistopic.sif python ../0_resources/scripts/runModels_lda_mallet.py -i cistopic_objects/master_sub_1.FIXEDCELLS__cto.scrublet0-4.fmx.singlets.pkl -o master_sub_1.FIXEDCELLS__models_400_iter.pkl -nt 9 -c 70 -it 400 -a 50 -abt True -e 0.1 -ebt False -sp models__screen__mallet/model_intermediates/master_sub_1.FIXEDCELLS_9_model_intermediates/ -s 555 -td models__screen__mallet/model_tmp/master_sub_1.FIXEDCELLS_9_model_tmp/ > models__screen__mallet/master_sub_1.FIXEDCELLS.models_out_log9.txt\n",
      "All topics done.\n",
      "\n",
      "\n"
     ]
    }
   ],
   "source": [
    "mounts = \"/lustre1,/staging,/data,/vsc-hard-mounts,/scratch\"\n",
    "sif = \"../0_resources/cistopic_image/20220815_pycistopic.sif\"\n",
    "script = \"../0_resources/scripts/runModels_lda_mallet.py\"\n",
    "\n",
    "f_mod_dir = 'models__screen__mallet'\n",
    "if not os.path.exists(os.path.join(wdir, f_mod_dir)):\n",
    "    os.makedirs(os.path.join(wdir, f_mod_dir))\n",
    "\n",
    "infile = 'cistopic_objects/master_sub_1.FIXEDCELLS__cto.scrublet0-4.fmx.singlets.pkl'\n",
    "sample = 'master_sub_1.FIXEDCELLS'\n",
    "outfile = sample + '__models_' + str(n_iter) + '_iter.pkl'\n",
    "\n",
    "\n",
    "\n",
    "\n",
    "topics_todo = str(sorted(list(topics_final))).replace(\"'\",\"\").replace(' ','').replace('[','').replace(']','')\n",
    "ver=str(n_topics_final)\n",
    "\n",
    "if not topics_todo == '':\n",
    "    for n_topics in topics_todo.split(','):\n",
    "        intermediate_dir = f\"{f_mod_dir}/model_intermediates/{sample + '_' + n_topics}_model_intermediates/\"\n",
    "        if not os.path.exists(os.path.join(wdir, intermediate_dir)):\n",
    "            os.makedirs(os.path.join(wdir, intermediate_dir))\n",
    "\n",
    "        model_tmp_dir = f\"{f_mod_dir}/model_tmp/{sample + '_' + n_topics}_model_tmp/\"\n",
    "        if not os.path.exists(os.path.join(wdir, model_tmp_dir)):\n",
    "            os.makedirs(os.path.join(wdir, model_tmp_dir))\n",
    "            \n",
    "        out_log = f\"{f_mod_dir}/{sample}.models_out_log{n_topics}.txt\"\n",
    "        cmd = f\"echo {sample} && cd {wdir} && singularity exec -B {mounts} {sif} python {script} -i {infile} -o {outfile} -nt {n_topics} -c {n_cores} -it {n_iter} -a 50 -abt True -e 0.1 -ebt False -sp {intermediate_dir} -s 555 -td {model_tmp_dir} > {out_log}\"\n",
    "\n",
    "        print(cmd)\n",
    "        sh_path = f\"{f_mod_dir}/{sample}.runmodels{n_topics}.sh\"\n",
    "        with open(sh_path, 'w') as file:\n",
    "            file.write(cmd)\n",
    "    else:\n",
    "        print('All topics done.')\n",
    "\n",
    "\n",
    "print('\\n')"
   ]
  },
  {
   "cell_type": "markdown",
   "id": "bb480c64",
   "metadata": {
    "execution": {
     "iopub.execute_input": "2022-08-23T14:36:15.572885Z",
     "iopub.status.busy": "2022-08-23T14:36:15.572508Z",
     "iopub.status.idle": "2022-08-23T14:36:15.577548Z",
     "shell.execute_reply": "2022-08-23T14:36:15.576746Z",
     "shell.execute_reply.started": "2022-08-23T14:36:15.572858Z"
    },
    "papermill": {
     "duration": 0.011339,
     "end_time": "2022-08-20T22:37:23.432790",
     "exception": false,
     "start_time": "2022-08-20T22:37:23.421451",
     "status": "completed"
    },
    "tags": []
   },
   "source": [
    "In shell:"
   ]
  },
  {
   "cell_type": "code",
   "execution_count": null,
   "id": "d4d17539",
   "metadata": {
    "execution": {
     "iopub.execute_input": "2022-09-18T18:14:55.419661Z",
     "iopub.status.busy": "2022-09-18T18:14:55.419358Z",
     "iopub.status.idle": "2022-09-18T18:14:55.427409Z",
     "shell.execute_reply": "2022-09-18T18:14:55.426066Z",
     "shell.execute_reply.started": "2022-09-18T18:14:55.419634Z"
    },
    "papermill": {
     "duration": 0.011323,
     "end_time": "2022-08-20T22:37:23.455675",
     "exception": false,
     "start_time": "2022-08-20T22:37:23.444352",
     "status": "completed"
    },
    "tags": []
   },
   "outputs": [
    {
     "ename": "SyntaxError",
     "evalue": "invalid syntax (1446407723.py, line 1)",
     "output_type": "error",
     "traceback": [
      "\u001b[0;36m  Input \u001b[0;32mIn [172]\u001b[0;36m\u001b[0m\n\u001b[0;31m    for script in models__screen__mallet/25.sh\u001b[0m\n\u001b[0m                                            ^\u001b[0m\n\u001b[0;31mSyntaxError\u001b[0m\u001b[0;31m:\u001b[0m invalid syntax\n"
     ]
    }
   ],
   "source": [
    "for script in models__screen__mallet/*.sh\n",
    "do\n",
    "    echo $script\n",
    "    qsub $script -A lp_symbiosys -l nodes=1:ppn=36 -l walltime=24:00:00 -l pmem=2gb\n",
    "done"
   ]
  },
  {
   "cell_type": "code",
   "execution_count": null,
   "id": "068e27c3-a7cd-4f2c-8012-cd6593f6a8d4",
   "metadata": {},
   "outputs": [],
   "source": [
    "for script in models__screen__mallet/*.sh\n",
    "do\n",
    "    $script\n",
    "done"
   ]
  },
  {
   "cell_type": "markdown",
   "id": "386b1d63",
   "metadata": {
    "papermill": {
     "duration": 0.011283,
     "end_time": "2022-08-20T22:37:23.478226",
     "exception": false,
     "start_time": "2022-08-20T22:37:23.466943",
     "status": "completed"
    },
    "tags": []
   },
   "source": [
    "Then, combine the models:"
   ]
  },
  {
   "cell_type": "code",
   "execution_count": 26,
   "id": "28cbcf97",
   "metadata": {
    "execution": {
     "iopub.execute_input": "2022-12-22T11:33:52.962918Z",
     "iopub.status.busy": "2022-12-22T11:33:52.961861Z",
     "iopub.status.idle": "2022-12-22T11:33:52.988595Z",
     "shell.execute_reply": "2022-12-22T11:33:52.987339Z",
     "shell.execute_reply.started": "2022-12-22T11:33:52.962844Z"
    },
    "papermill": {
     "duration": 0.012049,
     "end_time": "2022-08-20T22:37:23.501705",
     "exception": false,
     "start_time": "2022-08-20T22:37:23.489656",
     "status": "completed"
    },
    "tags": []
   },
   "outputs": [
    {
     "data": {
      "text/plain": [
       "{'Topic10.pkl': 'models__screen__mallet/model_intermediates/master_sub_1.FIXEDCELLS_10_model_intermediates/Topic10.pkl',\n",
       " 'Topic11.pkl': 'models__screen__mallet/model_intermediates/master_sub_1.FIXEDCELLS_11_model_intermediates/Topic11.pkl',\n",
       " 'Topic12.pkl': 'models__screen__mallet/model_intermediates/master_sub_1.FIXEDCELLS_12_model_intermediates/Topic12.pkl',\n",
       " 'Topic13.pkl': 'models__screen__mallet/model_intermediates/master_sub_1.FIXEDCELLS_13_model_intermediates/Topic13.pkl',\n",
       " 'Topic14.pkl': 'models__screen__mallet/model_intermediates/master_sub_1.FIXEDCELLS_14_model_intermediates/Topic14.pkl',\n",
       " 'Topic15.pkl': 'models__screen__mallet/model_intermediates/master_sub_1.FIXEDCELLS_15_model_intermediates/Topic15.pkl',\n",
       " 'Topic16.pkl': 'models__screen__mallet/model_intermediates/master_sub_1.FIXEDCELLS_16_model_intermediates/Topic16.pkl',\n",
       " 'Topic17.pkl': 'models__screen__mallet/model_intermediates/master_sub_1.FIXEDCELLS_17_model_intermediates/Topic17.pkl',\n",
       " 'Topic18.pkl': 'models__screen__mallet/model_intermediates/master_sub_1.FIXEDCELLS_18_model_intermediates/Topic18.pkl',\n",
       " 'Topic19.pkl': 'models__screen__mallet/model_intermediates/master_sub_1.FIXEDCELLS_19_model_intermediates/Topic19.pkl',\n",
       " 'Topic20.pkl': 'models__screen__mallet/model_intermediates/master_sub_1.FIXEDCELLS_20_model_intermediates/Topic20.pkl',\n",
       " 'Topic21.pkl': 'models__screen__mallet/model_intermediates/master_sub_1.FIXEDCELLS_21_model_intermediates/Topic21.pkl',\n",
       " 'Topic22.pkl': 'models__screen__mallet/model_intermediates/master_sub_1.FIXEDCELLS_22_model_intermediates/Topic22.pkl',\n",
       " 'Topic23.pkl': 'models__screen__mallet/model_intermediates/master_sub_1.FIXEDCELLS_23_model_intermediates/Topic23.pkl',\n",
       " 'Topic24.pkl': 'models__screen__mallet/model_intermediates/master_sub_1.FIXEDCELLS_24_model_intermediates/Topic24.pkl',\n",
       " 'Topic25.pkl': 'models__screen__mallet/model_intermediates/master_sub_1.FIXEDCELLS_25_model_intermediates/Topic25.pkl',\n",
       " 'Topic2.pkl': 'models__screen__mallet/model_intermediates/master_sub_1.FIXEDCELLS_2_model_intermediates/Topic2.pkl'}"
      ]
     },
     "execution_count": 26,
     "metadata": {},
     "output_type": "execute_result"
    }
   ],
   "source": [
    "intermediate_dict = {x.split('/')[-1].split('_model_intermediates')[0]: x for x in sorted(glob.glob(f'{f_mod_dir}/model_intermediates/*/*'))}\n",
    "intermediate_dict"
   ]
  },
  {
   "cell_type": "code",
   "execution_count": 27,
   "id": "f3f4b1db",
   "metadata": {
    "execution": {
     "iopub.execute_input": "2022-12-22T11:33:54.483554Z",
     "iopub.status.busy": "2022-12-22T11:33:54.482005Z",
     "iopub.status.idle": "2022-12-22T11:34:15.817812Z",
     "shell.execute_reply": "2022-12-22T11:34:15.816540Z",
     "shell.execute_reply.started": "2022-12-22T11:33:54.483490Z"
    },
    "tags": []
   },
   "outputs": [],
   "source": [
    "file_list = sorted(glob.glob(f'{f_mod_dir}/model_intermediates/*/*'))\n",
    "n_topics = [int(x.split('Topic')[-1].split('.pkl')[0].replace('Topic','')) for x in file_list]\n",
    "file_list_sorted = [file_list[x] for x in np.argsort(n_topics)]\n",
    "\n",
    "models_merged = [pickle.load(open(file, 'rb')) for file in file_list_sorted]"
   ]
  },
  {
   "cell_type": "code",
   "execution_count": 28,
   "id": "93ab6493",
   "metadata": {
    "execution": {
     "iopub.execute_input": "2022-12-22T11:34:15.820082Z",
     "iopub.status.busy": "2022-12-22T11:34:15.819478Z",
     "iopub.status.idle": "2022-12-22T11:34:17.599454Z",
     "shell.execute_reply": "2022-12-22T11:34:17.597681Z",
     "shell.execute_reply.started": "2022-12-22T11:34:15.820060Z"
    },
    "tags": []
   },
   "outputs": [],
   "source": [
    "save_path = f\"{f_mod_dir}/master_all_1.FIXEDCELLS__models_{n_iter}_iter.pkl\"\n",
    "with open(save_path, \"wb\") as f:\n",
    "    pickle.dump(models_merged, f, protocol=4)"
   ]
  },
  {
   "cell_type": "code",
   "execution_count": 29,
   "id": "c193e88e",
   "metadata": {
    "execution": {
     "iopub.execute_input": "2022-12-22T11:34:17.601303Z",
     "iopub.status.busy": "2022-12-22T11:34:17.601051Z",
     "iopub.status.idle": "2022-12-22T11:34:17.606915Z",
     "shell.execute_reply": "2022-12-22T11:34:17.605960Z",
     "shell.execute_reply.started": "2022-12-22T11:34:17.601281Z"
    },
    "papermill": {
     "duration": 3.276807,
     "end_time": "2022-08-20T22:37:26.812513",
     "exception": false,
     "start_time": "2022-08-20T22:37:23.535706",
     "status": "completed"
    },
    "tags": []
   },
   "outputs": [],
   "source": [
    "from pycisTopic.lda_models import evaluate_models\n",
    "import matplotlib.pyplot as plt"
   ]
  },
  {
   "cell_type": "code",
   "execution_count": 30,
   "id": "22af5293",
   "metadata": {
    "execution": {
     "iopub.execute_input": "2022-12-22T11:34:17.608898Z",
     "iopub.status.busy": "2022-12-22T11:34:17.608657Z",
     "iopub.status.idle": "2022-12-22T11:34:17.625869Z",
     "shell.execute_reply": "2022-12-22T11:34:17.624774Z",
     "shell.execute_reply.started": "2022-12-22T11:34:17.608878Z"
    },
    "papermill": {
     "duration": 0.01192,
     "end_time": "2022-08-20T22:37:26.836622",
     "exception": false,
     "start_time": "2022-08-20T22:37:26.824702",
     "status": "completed"
    },
    "tags": []
   },
   "outputs": [],
   "source": [
    "cto_path = \"cistopic_objects_master/master_all_1.FIXEDCELLS__cto.scrublet0-4.fmx.singlets.pkl\""
   ]
  },
  {
   "cell_type": "markdown",
   "id": "64d7d4c9",
   "metadata": {
    "papermill": {
     "duration": 0.017495,
     "end_time": "2022-08-20T22:37:26.913054",
     "exception": false,
     "start_time": "2022-08-20T22:37:26.895559",
     "status": "completed"
    },
    "tags": []
   },
   "source": [
    "We need to minimize Arun, minimize Cao & Juan, maximize Mimno & maximize log likelihood"
   ]
  },
  {
   "cell_type": "code",
   "execution_count": 31,
   "id": "2c5e87ae",
   "metadata": {
    "execution": {
     "iopub.execute_input": "2022-12-22T11:34:17.628193Z",
     "iopub.status.busy": "2022-12-22T11:34:17.627185Z",
     "iopub.status.idle": "2022-12-22T11:34:17.668272Z",
     "shell.execute_reply": "2022-12-22T11:34:17.666792Z",
     "shell.execute_reply.started": "2022-12-22T11:34:17.628151Z"
    },
    "tags": []
   },
   "outputs": [],
   "source": [
    "from pycisTopic.lda_models import evaluate_models\n",
    "import matplotlib.pyplot as plt"
   ]
  },
  {
   "cell_type": "code",
   "execution_count": 34,
   "id": "4419b1b0",
   "metadata": {
    "execution": {
     "iopub.execute_input": "2022-12-22T11:37:33.057834Z",
     "iopub.status.busy": "2022-12-22T11:37:33.056886Z",
     "iopub.status.idle": "2022-12-22T11:37:33.944619Z",
     "shell.execute_reply": "2022-12-22T11:37:33.943493Z",
     "shell.execute_reply.started": "2022-12-22T11:37:33.057775Z"
    },
    "papermill": {
     "duration": 0.01202,
     "end_time": "2022-08-20T22:37:26.987615",
     "exception": false,
     "start_time": "2022-08-20T22:37:26.975595",
     "status": "completed"
    },
    "tags": []
   },
   "outputs": [
    {
     "data": {
      "image/png": "[encoded data removed]",
      "text/plain": [
       "<Figure size 460.8x345.6 with 1 Axes>"
      ]
     },
     "metadata": {
      "needs_background": "light"
     },
     "output_type": "display_data"
    }
   ],
   "source": [
    "n_topics_chosen = 20\n",
    "model = evaluate_models(models_merged,\n",
    "     select_model=n_topics_chosen,\n",
    "     return_model=True, \n",
    "     metrics=['Arun_2010','Cao_Juan_2009', 'Minmo_2011', 'loglikelihood'],\n",
    "     plot=True, # disabled since we only test one model here\n",
    "     plot_metrics=False,\n",
    "     save=f\"plots_qc/master_all_1.FIXEDCELLS__model_evaluation.png\"\n",
    "     )"
   ]
  },
  {
   "cell_type": "code",
   "execution_count": 40,
   "id": "e87ab5ad",
   "metadata": {
    "execution": {
     "iopub.execute_input": "2022-12-22T11:39:13.581326Z",
     "iopub.status.busy": "2022-12-22T11:39:13.579433Z",
     "iopub.status.idle": "2022-12-22T11:39:18.986453Z",
     "shell.execute_reply": "2022-12-22T11:39:18.984831Z",
     "shell.execute_reply.started": "2022-12-22T11:39:13.581248Z"
    },
    "papermill": {
     "duration": 0.01202,
     "end_time": "2022-08-20T22:37:26.987615",
     "exception": false,
     "start_time": "2022-08-20T22:37:26.975595",
     "status": "completed"
    },
    "tags": []
   },
   "outputs": [],
   "source": [
    "cto_path_new = 'cistopic_objects/master_sub_1.FIXEDCELLS__cto.scrublet0-4.fmx.singlets.pkl'.replace('.pkl',f'.model_{str(n_topics_chosen)}topics.pkl')\n",
    "with open(\"cistopic_objects/master_sub_1.FIXEDCELLS__cto.scrublet0-4.fmx.singlets.pkl\", 'rb') as f:\n",
    "    cto = pickle.load(f)\n",
    "\n",
    "cto.add_LDA_model(model)\n",
    "\n",
    "with open(cto_path_new, \"wb\") as f:\n",
    "    pickle.dump(cto, f, protocol=4)"
   ]
  }
 ],
 "metadata": {
  "kernelspec": {
   "display_name": "20220815_pycistopic.sif",
   "language": "python",
   "name": "cistopic_20220815"
  },
  "language_info": {
   "codemirror_mode": {
    "name": "ipython",
    "version": 3
   },
   "file_extension": ".py",
   "mimetype": "text/x-python",
   "name": "python",
   "nbconvert_exporter": "python",
   "pygments_lexer": "ipython3",
   "version": "3.8.13"
  },
  "papermill": {
   "default_parameters": {},
   "duration": 12.353482,
   "end_time": "2022-08-20T22:37:28.628546",
   "environment_variables": {},
   "exception": null,
   "input_path": "6_run_models_script_staging.ipynb",
   "output_path": "6_run_models_script_staging.OUT.ipynb",
   "parameters": {},
   "start_time": "2022-08-20T22:37:16.275064",
   "version": "2.3.3"
  }
 },
 "nbformat": 4,
 "nbformat_minor": 5
}

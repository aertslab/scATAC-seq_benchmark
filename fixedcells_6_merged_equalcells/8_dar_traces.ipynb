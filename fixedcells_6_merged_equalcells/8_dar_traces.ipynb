{
 "cells": [
  {
   "cell_type": "code",
   "execution_count": 1,
   "id": "ca1d9514-0a35-4e18-99a7-893e28925826",
   "metadata": {
    "execution": {
     "iopub.execute_input": "2023-01-05T10:24:07.131140Z",
     "iopub.status.busy": "2023-01-05T10:24:07.130371Z",
     "iopub.status.idle": "2023-01-05T10:24:14.977379Z",
     "shell.execute_reply": "2023-01-05T10:24:14.976404Z",
     "shell.execute_reply.started": "2023-01-05T10:24:07.130965Z"
    },
    "tags": []
   },
   "outputs": [],
   "source": [
    "import matplotlib as mpl\n",
    "import matplotlib.gridspec as gridspec\n",
    "import matplotlib.pyplot as plt\n",
    "import matplotlib.patches as mpatches\n",
    "import numpy as np\n",
    "import pyBigWig\n",
    "import seaborn as sns\n",
    "from pybedtools import BedTool\n",
    "import re\n",
    "\n",
    "import glob as glob\n",
    "import pandas as pd\n",
    "import matplotlib.pyplot as plt\n",
    "from collections import OrderedDict\n",
    "\n",
    "%load_ext lab_black"
   ]
  },
  {
   "cell_type": "code",
   "execution_count": 2,
   "id": "bee3bc6b-73a3-4e33-902e-75b5afb2e434",
   "metadata": {
    "execution": {
     "iopub.execute_input": "2023-01-05T10:24:14.978775Z",
     "iopub.status.busy": "2023-01-05T10:24:14.978564Z",
     "iopub.status.idle": "2023-01-05T10:24:14.982893Z",
     "shell.execute_reply": "2023-01-05T10:24:14.982146Z",
     "shell.execute_reply.started": "2023-01-05T10:24:14.978753Z"
    },
    "tags": []
   },
   "outputs": [],
   "source": [
    "import pybedtools"
   ]
  },
  {
   "cell_type": "code",
   "execution_count": 3,
   "id": "0e2251c5-84d0-4d75-96d6-fb1a1536b28d",
   "metadata": {
    "execution": {
     "iopub.execute_input": "2023-01-05T10:24:14.984222Z",
     "iopub.status.busy": "2023-01-05T10:24:14.984015Z",
     "iopub.status.idle": "2023-01-05T10:24:15.015404Z",
     "shell.execute_reply": "2023-01-05T10:24:15.014516Z",
     "shell.execute_reply.started": "2023-01-05T10:24:14.984201Z"
    },
    "tags": []
   },
   "outputs": [
    {
     "data": {
      "text/plain": [
       "'0.8.1'"
      ]
     },
     "execution_count": 3,
     "metadata": {},
     "output_type": "execute_result"
    }
   ],
   "source": [
    "pybedtools.__version__"
   ]
  },
  {
   "cell_type": "markdown",
   "id": "3715e1dd-445c-4d5c-8389-d63d0912ea3b",
   "metadata": {},
   "source": [
    "# first find some regions that I wish to visualise"
   ]
  },
  {
   "cell_type": "code",
   "execution_count": 4,
   "id": "b5655fe9-311b-4c9e-84e6-4dfa341a8dba",
   "metadata": {
    "execution": {
     "iopub.execute_input": "2023-01-05T10:24:15.017069Z",
     "iopub.status.busy": "2023-01-05T10:24:15.016784Z",
     "iopub.status.idle": "2023-01-05T10:24:15.065635Z",
     "shell.execute_reply": "2023-01-05T10:24:15.064508Z",
     "shell.execute_reply.started": "2023-01-05T10:24:15.017040Z"
    },
    "tags": []
   },
   "outputs": [],
   "source": [
    "merged_dar_path_dict = {\n",
    "    x.split(\"/\")[-1].split(\"__DARs.TOP2k.bed\")[0]: x\n",
    "    for x in glob.glob(\n",
    "        \"downstream_analysis/DARs/master_sub_1.FIXEDCELLS/master_sub_1.FIXEDCELLS__*TOP2k.bed\"\n",
    "    )\n",
    "}"
   ]
  },
  {
   "cell_type": "code",
   "execution_count": 5,
   "id": "08186c2c-dc66-48c0-8f9f-53a2b45c4824",
   "metadata": {
    "execution": {
     "iopub.execute_input": "2023-01-05T10:24:15.067589Z",
     "iopub.status.busy": "2023-01-05T10:24:15.067055Z",
     "iopub.status.idle": "2023-01-05T10:24:15.319090Z",
     "shell.execute_reply": "2023-01-05T10:24:15.318015Z",
     "shell.execute_reply.started": "2023-01-05T10:24:15.067548Z"
    },
    "tags": []
   },
   "outputs": [
    {
     "name": "stdout",
     "output_type": "stream",
     "text": [
      "master_sub_1.FIXEDCELLS__Cytotoxic_T_cell\n",
      "master_sub_1.FIXEDCELLS__CD14+_monocyte\n",
      "master_sub_1.FIXEDCELLS__B_cell\n",
      "master_sub_1.FIXEDCELLS__CD16+_monocyte\n",
      "master_sub_1.FIXEDCELLS__Dendritic_cell\n",
      "master_sub_1.FIXEDCELLS__Natural_killer_cell\n",
      "master_sub_1.FIXEDCELLS__CD4+_T_cell\n"
     ]
    },
    {
     "data": {
      "text/plain": [
       "OrderedDict([('Cytotoxic_T_cell', 'chr9:75010514-75011014'),\n",
       "             ('CD14+_monocyte', 'chr3:149373637-149374137'),\n",
       "             ('B_cell', 'chr5:158898392-158898892'),\n",
       "             ('CD16+_monocyte', 'chr13:48624875-48625375'),\n",
       "             ('Dendritic_cell', 'chr7:115505120-115505620'),\n",
       "             ('Natural_killer_cell', 'chr11:65694802-65695302'),\n",
       "             ('CD4+_T_cell', 'chr3:3297025-3297525')])"
      ]
     },
     "execution_count": 5,
     "metadata": {},
     "output_type": "execute_result"
    }
   ],
   "source": [
    "regions_dict = OrderedDict({})\n",
    "\n",
    "for supersample, path in merged_dar_path_dict.items():\n",
    "    print(supersample)\n",
    "    df = pd.read_csv(path, sep=\"\\t\", header=None)\n",
    "    df.columns = \"chrom start end cell_type log2fc strand p_val\".split()\n",
    "    # print(df.iloc[0])\n",
    "\n",
    "    cell_type = supersample.split(\"__\")[-1]\n",
    "    region = f\"{df.iloc[0]['chrom']}:{df.iloc[0]['start']}-{df.iloc[0]['end']}\"\n",
    "    regions_dict[cell_type] = region\n",
    "\n",
    "regions_dict"
   ]
  },
  {
   "cell_type": "markdown",
   "id": "eb2465df-d231-41cb-a0a8-d3444728eca9",
   "metadata": {},
   "source": [
    "# now plot these regions"
   ]
  },
  {
   "cell_type": "code",
   "execution_count": 6,
   "id": "208a55c0-2102-4816-a3df-12e05c394482",
   "metadata": {
    "execution": {
     "iopub.execute_input": "2023-01-05T10:24:15.320837Z",
     "iopub.status.busy": "2023-01-05T10:24:15.320528Z",
     "iopub.status.idle": "2023-01-05T10:24:15.568885Z",
     "shell.execute_reply": "2023-01-05T10:24:15.567865Z",
     "shell.execute_reply.started": "2023-01-05T10:24:15.320805Z"
    },
    "tags": []
   },
   "outputs": [],
   "source": [
    "regions_df = pd.DataFrame(columns=[\"chrom\", \"start\", \"end\"])\n",
    "for key in regions_dict.keys():\n",
    "    row = list(regions_dict.keys()).index(key)\n",
    "    chrom, start, end = re.split(\":|-\", regions_dict[key])\n",
    "    start = int(re.sub(\",\", \"\", start))\n",
    "    end = int(re.sub(\",\", \"\", end))\n",
    "\n",
    "    region = pd.DataFrame(columns=[\"chrom\", \"start\", \"end\"], index=[key])\n",
    "    region[\"chrom\"] = chrom\n",
    "    region[\"start\"] = start\n",
    "    region[\"end\"] = end\n",
    "    regions_df = pd.concat([regions_df, region], axis=0)\n",
    "\n",
    "bedtool_obj = BedTool.from_dataframe(df=regions_df)"
   ]
  },
  {
   "cell_type": "markdown",
   "id": "c3500581-2b6f-4097-9cb7-e4e1b30d9c19",
   "metadata": {},
   "source": [
    "genes to plot"
   ]
  },
  {
   "cell_type": "code",
   "execution_count": 7,
   "id": "563dc45e-f0c0-4d7d-8430-d793a0fd9c10",
   "metadata": {
    "execution": {
     "iopub.execute_input": "2023-01-05T10:24:15.570342Z",
     "iopub.status.busy": "2023-01-05T10:24:15.570069Z",
     "iopub.status.idle": "2023-01-05T10:24:15.582628Z",
     "shell.execute_reply": "2023-01-05T10:24:15.581845Z",
     "shell.execute_reply.started": "2023-01-05T10:24:15.570313Z"
    },
    "tags": []
   },
   "outputs": [],
   "source": [
    "genes_dict = {\n",
    "    \"Cytotoxic_T_cell\": [],\n",
    "    \"CD14+_monocyte\": [],\n",
    "    \"B_cell\": [],\n",
    "    \"CD16+_monocyte\": [],\n",
    "    \"Dendritic_cell\": [],\n",
    "    \"Natural_killer_cell\": [],\n",
    "    \"CD4+_T_cell\": [],\n",
    "}\n",
    "max_genes = max([len((genes_dict[key])) for key in genes_dict.keys()])\n",
    "\n",
    "gtf_file = \"/lustre1/project/stg_00090/scatac_benchmark/0_resources/genomes/hg38_cflerin_cellranger_arc/genes.ucsc.gtf\""
   ]
  },
  {
   "cell_type": "code",
   "execution_count": 8,
   "id": "c43ce182-5ebe-4d04-a50d-3cd3154505ce",
   "metadata": {
    "execution": {
     "iopub.execute_input": "2023-01-05T10:24:15.584576Z",
     "iopub.status.busy": "2023-01-05T10:24:15.584379Z",
     "iopub.status.idle": "2023-01-05T10:24:15.603710Z",
     "shell.execute_reply": "2023-01-05T10:24:15.602842Z",
     "shell.execute_reply.started": "2023-01-05T10:24:15.584556Z"
    },
    "tags": []
   },
   "outputs": [
    {
     "data": {
      "text/plain": [
       "OrderedDict([('10xv2',\n",
       "              'per_tech_bigwigs/master_sub_1.FIXEDCELLS__CONSENSUS_pseudobulk_bw_files/10xv2.bw'),\n",
       "             ('ddseq',\n",
       "              'per_tech_bigwigs/master_sub_1.FIXEDCELLS__CONSENSUS_pseudobulk_bw_files/ddseq.bw'),\n",
       "             ('10xmultiome',\n",
       "              'per_tech_bigwigs/master_sub_1.FIXEDCELLS__CONSENSUS_pseudobulk_bw_files/10xmultiome.bw'),\n",
       "             ('mtscatac',\n",
       "              'per_tech_bigwigs/master_sub_1.FIXEDCELLS__CONSENSUS_pseudobulk_bw_files/mtscatac.bw'),\n",
       "             ('s3atac',\n",
       "              'per_tech_bigwigs/master_sub_1.FIXEDCELLS__CONSENSUS_pseudobulk_bw_files/s3atac.bw'),\n",
       "             ('10xv11',\n",
       "              'per_tech_bigwigs/master_sub_1.FIXEDCELLS__CONSENSUS_pseudobulk_bw_files/10xv11.bw'),\n",
       "             ('10xv1',\n",
       "              'per_tech_bigwigs/master_sub_1.FIXEDCELLS__CONSENSUS_pseudobulk_bw_files/10xv1.bw'),\n",
       "             ('hydrop',\n",
       "              'per_tech_bigwigs/master_sub_1.FIXEDCELLS__CONSENSUS_pseudobulk_bw_files/hydrop.bw')])"
      ]
     },
     "execution_count": 8,
     "metadata": {},
     "output_type": "execute_result"
    }
   ],
   "source": [
    "bw_path_dict = OrderedDict(\n",
    "    {\n",
    "        x.split(\"/\")[-1].split(\".\")[0]: x\n",
    "        for x in glob.glob(\n",
    "            \"per_tech_bigwigs/master_sub_1.FIXEDCELLS__CONSENSUS_pseudobulk_bw_files/*.bw\"\n",
    "        )\n",
    "    }\n",
    ")\n",
    "bw_path_dict"
   ]
  },
  {
   "cell_type": "code",
   "execution_count": 9,
   "id": "83328600-aa80-479c-bf86-852d5b300b73",
   "metadata": {
    "execution": {
     "iopub.execute_input": "2023-01-05T10:24:15.605192Z",
     "iopub.status.busy": "2023-01-05T10:24:15.604968Z",
     "iopub.status.idle": "2023-01-05T10:24:15.620541Z",
     "shell.execute_reply": "2023-01-05T10:24:15.619619Z",
     "shell.execute_reply.started": "2023-01-05T10:24:15.605170Z"
    },
    "tags": []
   },
   "outputs": [
    {
     "data": {
      "text/plain": [
       "{'Cytotoxic_T_cell': 'final_consensus_peaks/master_sub_1.FIXEDCELLS__SCREEN_consensus_peaks.bed',\n",
       " 'CD14+_monocyte': 'final_consensus_peaks/master_sub_1.FIXEDCELLS__SCREEN_consensus_peaks.bed',\n",
       " 'B_cell': 'final_consensus_peaks/master_sub_1.FIXEDCELLS__SCREEN_consensus_peaks.bed',\n",
       " 'CD16+_monocyte': 'final_consensus_peaks/master_sub_1.FIXEDCELLS__SCREEN_consensus_peaks.bed',\n",
       " 'Dendritic_cell': 'final_consensus_peaks/master_sub_1.FIXEDCELLS__SCREEN_consensus_peaks.bed',\n",
       " 'Natural_killer_cell': 'final_consensus_peaks/master_sub_1.FIXEDCELLS__SCREEN_consensus_peaks.bed',\n",
       " 'CD4+_T_cell': 'final_consensus_peaks/master_sub_1.FIXEDCELLS__SCREEN_consensus_peaks.bed'}"
      ]
     },
     "execution_count": 9,
     "metadata": {},
     "output_type": "execute_result"
    }
   ],
   "source": [
    "peak_path_dict = {\n",
    "    x: \"final_consensus_peaks/master_sub_1.FIXEDCELLS__SCREEN_consensus_peaks.bed\"\n",
    "    for x in regions_dict.keys()\n",
    "}\n",
    "peak_path_dict"
   ]
  },
  {
   "cell_type": "code",
   "execution_count": 10,
   "id": "9e0c6ab2-189c-4bf3-92f7-03248f0d022c",
   "metadata": {
    "execution": {
     "iopub.execute_input": "2023-01-05T10:24:15.622007Z",
     "iopub.status.busy": "2023-01-05T10:24:15.621702Z",
     "iopub.status.idle": "2023-01-05T10:24:15.676927Z",
     "shell.execute_reply": "2023-01-05T10:24:15.675959Z",
     "shell.execute_reply.started": "2023-01-05T10:24:15.621976Z"
    },
    "tags": []
   },
   "outputs": [],
   "source": [
    "tech_color_palette = {\n",
    "    \"10xv2\": \"#1b9e77\",\n",
    "    \"10xv1\": \"#d95f02\",\n",
    "    \"10xv11\": \"#7570b3\",\n",
    "    \"10xmultiome\": \"#e7298a\",\n",
    "    \"mtscatac\": \"#66a61e\",\n",
    "    \"ddseq\": \"#e6ab02\",\n",
    "    \"s3atac\": \"#a6761d\",\n",
    "    \"hydrop\": \"#666666\",\n",
    "}\n",
    "\n",
    "tech_order = [\n",
    "    \"10xv1\",\n",
    "    \"10xv11\",\n",
    "    \"10xv2\",\n",
    "    \"10xmultiome\",\n",
    "    \"mtscatac\",\n",
    "    \"ddseq\",\n",
    "    \"s3atac\",\n",
    "    \"hydrop\",\n",
    "]\n",
    "\n",
    "tech_alias_dict = {\n",
    "    \"10xmultiome\": \"10x Multiome\",\n",
    "    \"10xv1\": \"10x v1\",\n",
    "    \"10xv11\": \"10x v1.1\",\n",
    "    \"10xv2\": \"10x v2\",\n",
    "    \"ddseq\": \"ddSEQ SureCell\",\n",
    "    \"hydrop\": \"HyDrop\",\n",
    "    \"mtscatac\": \"mtscATAC-seq\",\n",
    "    \"s3atac\": \"s3-ATAC\",\n",
    "}\n",
    "\n",
    "cell_type_order = [\n",
    "    \"B_cell\",\n",
    "    \"CD14_monocyte\",\n",
    "    \"CD4_T_cell\",\n",
    "    \"Cytotoxic_T_cell\",\n",
    "    \"Dendritic_cell\",\n",
    "    \"Natural_killer_cell\",\n",
    "    \"CD16_monocyte\",\n",
    "]\n",
    "\n",
    "cell_type_alias_dict = {\n",
    "    \"B_cell\": \"B cells\",\n",
    "    \"CD14_monocyte\": \"CD14+\\nmonocytes\",\n",
    "    \"CD4_T_cell\": \"CD4+\\nT cells\",\n",
    "    \"Cytotoxic_T_cell\": \"CD8+\\nT cells\",\n",
    "    \"Dendritic_cell\": \"Dendritic\\ncells\",\n",
    "    \"Natural_killer_cell\": \"NK cells\",\n",
    "    \"CD16_monocyte\": \"CD16+\\nmonocytes\",\n",
    "}\n",
    "\n",
    "cell_type_color_dict = {\n",
    "    \"B_cell\": \"#88CCEE\",\n",
    "    \"CD14_monocyte\": \"#CC6677\",\n",
    "    \"CD4_T_cell\": \"#DDCC77\",\n",
    "    \"Cytotoxic_T_cell\": \"#117733\",\n",
    "    \"Dendritic_cell\": \"#332288\",\n",
    "    \"Natural_killer_cell\": \"#AA4499\",\n",
    "    \"CD16_monocyte\": \"#44AA99\",\n",
    "}"
   ]
  },
  {
   "cell_type": "code",
   "execution_count": 11,
   "id": "d632c13e-91de-43b6-a9dd-87a6af9b1cf6",
   "metadata": {
    "execution": {
     "iopub.execute_input": "2023-01-05T10:24:15.677925Z",
     "iopub.status.busy": "2023-01-05T10:24:15.677724Z",
     "iopub.status.idle": "2023-01-05T10:24:15.684252Z",
     "shell.execute_reply": "2023-01-05T10:24:15.683522Z",
     "shell.execute_reply.started": "2023-01-05T10:24:15.677905Z"
    },
    "tags": []
   },
   "outputs": [
    {
     "data": {
      "text/plain": [
       "True"
      ]
     },
     "execution_count": 11,
     "metadata": {},
     "output_type": "execute_result"
    }
   ],
   "source": [
    "tech_color_palette.keys() == set(tech_alias_dict.keys()) == bw_path_dict.keys()"
   ]
  },
  {
   "cell_type": "code",
   "execution_count": 12,
   "id": "4a47534c-406d-496b-b09a-48a1ffd5647d",
   "metadata": {
    "execution": {
     "iopub.execute_input": "2023-01-05T10:24:15.685206Z",
     "iopub.status.busy": "2023-01-05T10:24:15.685020Z",
     "iopub.status.idle": "2023-01-05T10:24:15.714330Z",
     "shell.execute_reply": "2023-01-05T10:24:15.713357Z",
     "shell.execute_reply.started": "2023-01-05T10:24:15.685186Z"
    },
    "tags": []
   },
   "outputs": [
    {
     "data": {
      "text/plain": [
       "OrderedDict([('Cytotoxic_T_cell', 'chr9:75010514-75011014'),\n",
       "             ('CD14+_monocyte', 'chr3:149373637-149374137'),\n",
       "             ('B_cell', 'chr5:158898392-158898892'),\n",
       "             ('CD16+_monocyte', 'chr13:48624875-48625375'),\n",
       "             ('Dendritic_cell', 'chr7:115505120-115505620'),\n",
       "             ('Natural_killer_cell', 'chr11:65694802-65695302'),\n",
       "             ('CD4+_T_cell', 'chr3:3297025-3297525')])"
      ]
     },
     "execution_count": 12,
     "metadata": {},
     "output_type": "execute_result"
    }
   ],
   "source": [
    "regions_dict"
   ]
  },
  {
   "cell_type": "markdown",
   "id": "78e6d9d3-7ca2-4dbb-9b70-de53fb8dabb7",
   "metadata": {
    "jp-MarkdownHeadingCollapsed": true,
    "tags": []
   },
   "source": [
    "# now call plot function"
   ]
  },
  {
   "cell_type": "code",
   "execution_count": 13,
   "id": "9a7cebf5-83e6-4646-8238-b0f668ca57d1",
   "metadata": {
    "execution": {
     "iopub.execute_input": "2023-01-05T10:24:15.715932Z",
     "iopub.status.busy": "2023-01-05T10:24:15.715570Z",
     "iopub.status.idle": "2023-01-05T10:24:15.741498Z",
     "shell.execute_reply": "2023-01-05T10:24:15.740358Z",
     "shell.execute_reply.started": "2023-01-05T10:24:15.715896Z"
    },
    "tags": []
   },
   "outputs": [],
   "source": [
    "dar_color = \"b\"\n",
    "peak_color = \"k\"\n",
    "gene_height = 3\n",
    "gene_bottom = -gene_height / 2\n",
    "exon_height = 6\n",
    "exon_bottom = -exon_height / 2\n",
    "\n",
    "figsize = (6, 8)"
   ]
  },
  {
   "cell_type": "code",
   "execution_count": 14,
   "id": "1311d7a5-e8c1-4d2d-a578-e6c4c4cd8b46",
   "metadata": {
    "execution": {
     "iopub.execute_input": "2023-01-05T10:24:15.743418Z",
     "iopub.status.busy": "2023-01-05T10:24:15.743017Z",
     "iopub.status.idle": "2023-01-05T10:24:15.834155Z",
     "shell.execute_reply": "2023-01-05T10:24:15.833188Z",
     "shell.execute_reply.started": "2023-01-05T10:24:15.743377Z"
    },
    "tags": []
   },
   "outputs": [],
   "source": [
    "def addax():\n",
    "    ax.set_xlim([x.min(), x.max()])\n",
    "    sns.despine(top=True, right=True, left=True, bottom=True, ax=ax)\n",
    "    ax.set_xticks([])\n",
    "    ax.set_yticks([])\n",
    "    ax.patch.set_alpha(\n",
    "        0\n",
    "    )  # make sure that each individual subplot is transparent! otherwise the underlying plots won't be shown. this is important e.g. for the dar/peak visualisaton, since the DARs are drawn directly on top of the peaks. if the DAR plot is not transparent, no peaks will be visible!!\n",
    "\n",
    "    fig.add_subplot(ax)"
   ]
  },
  {
   "cell_type": "code",
   "execution_count": 15,
   "id": "e2d7aab7-fe92-4a0e-92fd-afeb4a1f8c50",
   "metadata": {
    "execution": {
     "iopub.execute_input": "2023-01-05T10:24:15.835251Z",
     "iopub.status.busy": "2023-01-05T10:24:15.835054Z",
     "iopub.status.idle": "2023-01-05T10:24:15.839150Z",
     "shell.execute_reply": "2023-01-05T10:24:15.838413Z",
     "shell.execute_reply.started": "2023-01-05T10:24:15.835231Z"
    },
    "tags": []
   },
   "outputs": [],
   "source": [
    "max_genes = 1"
   ]
  },
  {
   "cell_type": "code",
   "execution_count": null,
   "id": "b65d4bff-971d-4b8c-baf4-ee7055385283",
   "metadata": {
    "tags": []
   },
   "outputs": [],
   "source": []
  },
  {
   "cell_type": "code",
   "execution_count": 16,
   "id": "49513a05-d2d1-4678-990a-ceedd6d64033",
   "metadata": {
    "execution": {
     "iopub.execute_input": "2023-01-05T10:24:15.840100Z",
     "iopub.status.busy": "2023-01-05T10:24:15.839915Z",
     "iopub.status.idle": "2023-01-05T10:24:15.853027Z",
     "shell.execute_reply": "2023-01-05T10:24:15.852226Z",
     "shell.execute_reply.started": "2023-01-05T10:24:15.840080Z"
    },
    "tags": []
   },
   "outputs": [],
   "source": [
    "plot_genes = False\n",
    "verbose = True"
   ]
  },
  {
   "cell_type": "markdown",
   "id": "8af6d51c-0f63-49f3-8ab3-d7625d48e831",
   "metadata": {
    "jp-MarkdownHeadingCollapsed": true,
    "tags": []
   },
   "source": [
    "## pad the DARs a bit"
   ]
  },
  {
   "cell_type": "code",
   "execution_count": 17,
   "id": "4d9e724a-1acf-47b8-acf4-2799edd246a9",
   "metadata": {
    "execution": {
     "iopub.execute_input": "2023-01-05T10:24:15.854244Z",
     "iopub.status.busy": "2023-01-05T10:24:15.853999Z",
     "iopub.status.idle": "2023-01-05T10:24:15.875362Z",
     "shell.execute_reply": "2023-01-05T10:24:15.874172Z",
     "shell.execute_reply.started": "2023-01-05T10:24:15.854218Z"
    },
    "tags": []
   },
   "outputs": [],
   "source": [
    "regions_df_padded = regions_df.copy()"
   ]
  },
  {
   "cell_type": "code",
   "execution_count": 18,
   "id": "ae3d90e2-4b5b-46eb-8e3f-62f82450fa3b",
   "metadata": {
    "execution": {
     "iopub.execute_input": "2023-01-05T10:24:15.877532Z",
     "iopub.status.busy": "2023-01-05T10:24:15.876938Z",
     "iopub.status.idle": "2023-01-05T10:24:15.899387Z",
     "shell.execute_reply": "2023-01-05T10:24:15.898115Z",
     "shell.execute_reply.started": "2023-01-05T10:24:15.877484Z"
    },
    "tags": []
   },
   "outputs": [],
   "source": [
    "regions_df_padded[\"region_center\"] = (\n",
    "    regions_df_padded[\"start\"]\n",
    "    + (regions_df_padded[\"end\"] - regions_df_padded[\"start\"]) / 2\n",
    ")"
   ]
  },
  {
   "cell_type": "code",
   "execution_count": 19,
   "id": "47cc3b44-bcce-4ff2-ad7a-0694cbd77596",
   "metadata": {
    "execution": {
     "iopub.execute_input": "2023-01-05T10:24:15.901652Z",
     "iopub.status.busy": "2023-01-05T10:24:15.901158Z",
     "iopub.status.idle": "2023-01-05T10:24:15.920148Z",
     "shell.execute_reply": "2023-01-05T10:24:15.918764Z",
     "shell.execute_reply.started": "2023-01-05T10:24:15.901601Z"
    },
    "tags": []
   },
   "outputs": [],
   "source": [
    "region_forced_length = 2000"
   ]
  },
  {
   "cell_type": "code",
   "execution_count": 20,
   "id": "3b30e731-b098-457f-9896-ca2f54bc0627",
   "metadata": {
    "execution": {
     "iopub.execute_input": "2023-01-05T10:24:15.922691Z",
     "iopub.status.busy": "2023-01-05T10:24:15.922148Z",
     "iopub.status.idle": "2023-01-05T10:24:15.959460Z",
     "shell.execute_reply": "2023-01-05T10:24:15.958399Z",
     "shell.execute_reply.started": "2023-01-05T10:24:15.922635Z"
    },
    "tags": []
   },
   "outputs": [],
   "source": [
    "regions_df_padded[\"start\"] = (\n",
    "    regions_df_padded[\"region_center\"] - region_forced_length / 2\n",
    ")\n",
    "regions_df_padded[\"start\"] = [int(x) for x in regions_df_padded[\"start\"]]\n",
    "regions_df_padded[\"end\"] = regions_df_padded[\"region_center\"] + region_forced_length / 2\n",
    "regions_df_padded[\"end\"] = [int(x) for x in regions_df_padded[\"end\"]]"
   ]
  },
  {
   "cell_type": "code",
   "execution_count": 21,
   "id": "a6aa8f47-c250-4d63-a130-dc6c9ee5eafa",
   "metadata": {
    "execution": {
     "iopub.execute_input": "2023-01-05T10:24:15.961144Z",
     "iopub.status.busy": "2023-01-05T10:24:15.960803Z",
     "iopub.status.idle": "2023-01-05T10:24:21.246947Z",
     "shell.execute_reply": "2023-01-05T10:24:21.245610Z",
     "shell.execute_reply.started": "2023-01-05T10:24:15.961108Z"
    },
    "tags": []
   },
   "outputs": [
    {
     "name": "stdout",
     "output_type": "stream",
     "text": [
      "calculated max values within region Cytotoxic_T_cell\n",
      "calculated max values within region CD14+_monocyte\n",
      "calculated max values within region B_cell\n",
      "calculated max values within region CD16+_monocyte\n",
      "calculated max values within region Dendritic_cell\n",
      "calculated max values within region Natural_killer_cell\n",
      "calculated max values within region CD4+_T_cell\n"
     ]
    },
    {
     "data": {
      "text/plain": [
       "{'Cytotoxic_T_cell': 0.6586106419563293,\n",
       " 'CD14+_monocyte': 0.6804318428039551,\n",
       " 'B_cell': 0.46430453658103943,\n",
       " 'CD16+_monocyte': 0.7590512037277222,\n",
       " 'Dendritic_cell': 0.667044997215271,\n",
       " 'Natural_killer_cell': 0.6412788033485413,\n",
       " 'CD4+_T_cell': 0.5487235188484192}"
      ]
     },
     "execution_count": 21,
     "metadata": {},
     "output_type": "execute_result"
    }
   ],
   "source": [
    "## calculate bw_ymax per col\n",
    "region_max_dict_padded = {}\n",
    "for region_name in regions_df_padded.index:\n",
    "    chrom = regions_df_padded.loc[region_name][\"chrom\"]\n",
    "    start = int(regions_df_padded.loc[region_name][\"start\"])\n",
    "    end = int(regions_df_padded.loc[region_name][\"end\"])\n",
    "\n",
    "    bw_ymax_dict = {}\n",
    "    for key in bw_path_dict.keys():\n",
    "        bw_file = bw_path_dict[key]\n",
    "\n",
    "        # calculate max value of the bigwig within our region\n",
    "        bw = pyBigWig.open(bw_file)\n",
    "        y = bw.values(chrom, start, end)\n",
    "        y = np.nan_to_num(y)\n",
    "\n",
    "        bw_ymax_dict[key] = y.max()\n",
    "\n",
    "    region_max_dict_padded[region_name] = bw_ymax_dict[\n",
    "        max(bw_ymax_dict, key=bw_ymax_dict.get)\n",
    "    ]\n",
    "    print(f\"calculated max values within region {region_name}\")\n",
    "\n",
    "region_max_dict_padded"
   ]
  },
  {
   "cell_type": "code",
   "execution_count": 22,
   "id": "77f3ad88-7b68-40af-99f5-298763c1c429",
   "metadata": {
    "execution": {
     "iopub.execute_input": "2023-01-05T10:24:21.248213Z",
     "iopub.status.busy": "2023-01-05T10:24:21.247977Z",
     "iopub.status.idle": "2023-01-05T10:24:21.259285Z",
     "shell.execute_reply": "2023-01-05T10:24:21.258464Z",
     "shell.execute_reply.started": "2023-01-05T10:24:21.248188Z"
    },
    "tags": []
   },
   "outputs": [
    {
     "data": {
      "text/html": [
       "<div>\n",
       "<style scoped>\n",
       "    .dataframe tbody tr th:only-of-type {\n",
       "        vertical-align: middle;\n",
       "    }\n",
       "\n",
       "    .dataframe tbody tr th {\n",
       "        vertical-align: top;\n",
       "    }\n",
       "\n",
       "    .dataframe thead th {\n",
       "        text-align: right;\n",
       "    }\n",
       "</style>\n",
       "<table border=\"1\" class=\"dataframe\">\n",
       "  <thead>\n",
       "    <tr style=\"text-align: right;\">\n",
       "      <th></th>\n",
       "      <th>chrom</th>\n",
       "      <th>start</th>\n",
       "      <th>end</th>\n",
       "      <th>region_center</th>\n",
       "    </tr>\n",
       "  </thead>\n",
       "  <tbody>\n",
       "    <tr>\n",
       "      <th>Cytotoxic_T_cell</th>\n",
       "      <td>chr9</td>\n",
       "      <td>75009764</td>\n",
       "      <td>75011764</td>\n",
       "      <td>75010764.0</td>\n",
       "    </tr>\n",
       "    <tr>\n",
       "      <th>CD14+_monocyte</th>\n",
       "      <td>chr3</td>\n",
       "      <td>149372887</td>\n",
       "      <td>149374887</td>\n",
       "      <td>149373887.0</td>\n",
       "    </tr>\n",
       "    <tr>\n",
       "      <th>B_cell</th>\n",
       "      <td>chr5</td>\n",
       "      <td>158897642</td>\n",
       "      <td>158899642</td>\n",
       "      <td>158898642.0</td>\n",
       "    </tr>\n",
       "    <tr>\n",
       "      <th>CD16+_monocyte</th>\n",
       "      <td>chr13</td>\n",
       "      <td>48624125</td>\n",
       "      <td>48626125</td>\n",
       "      <td>48625125.0</td>\n",
       "    </tr>\n",
       "    <tr>\n",
       "      <th>Dendritic_cell</th>\n",
       "      <td>chr7</td>\n",
       "      <td>115504370</td>\n",
       "      <td>115506370</td>\n",
       "      <td>115505370.0</td>\n",
       "    </tr>\n",
       "    <tr>\n",
       "      <th>Natural_killer_cell</th>\n",
       "      <td>chr11</td>\n",
       "      <td>65694052</td>\n",
       "      <td>65696052</td>\n",
       "      <td>65695052.0</td>\n",
       "    </tr>\n",
       "    <tr>\n",
       "      <th>CD4+_T_cell</th>\n",
       "      <td>chr3</td>\n",
       "      <td>3296275</td>\n",
       "      <td>3298275</td>\n",
       "      <td>3297275.0</td>\n",
       "    </tr>\n",
       "  </tbody>\n",
       "</table>\n",
       "</div>"
      ],
      "text/plain": [
       "                     chrom      start        end region_center\n",
       "Cytotoxic_T_cell      chr9   75009764   75011764    75010764.0\n",
       "CD14+_monocyte        chr3  149372887  149374887   149373887.0\n",
       "B_cell                chr5  158897642  158899642   158898642.0\n",
       "CD16+_monocyte       chr13   48624125   48626125    48625125.0\n",
       "Dendritic_cell        chr7  115504370  115506370   115505370.0\n",
       "Natural_killer_cell  chr11   65694052   65696052    65695052.0\n",
       "CD4+_T_cell           chr3    3296275    3298275     3297275.0"
      ]
     },
     "execution_count": 22,
     "metadata": {},
     "output_type": "execute_result"
    }
   ],
   "source": [
    "regions_df_padded"
   ]
  },
  {
   "cell_type": "code",
   "execution_count": 23,
   "id": "4fcadec3-6811-4ba8-80ce-d6e93433b61d",
   "metadata": {
    "execution": {
     "iopub.execute_input": "2023-01-05T10:24:21.262543Z",
     "iopub.status.busy": "2023-01-05T10:24:21.262335Z",
     "iopub.status.idle": "2023-01-05T10:24:21.267848Z",
     "shell.execute_reply": "2023-01-05T10:24:21.267116Z",
     "shell.execute_reply.started": "2023-01-05T10:24:21.262523Z"
    },
    "tags": []
   },
   "outputs": [
    {
     "data": {
      "text/plain": [
       "OrderedDict([('Cytotoxic_T_cell', 'chr9:75010514-75011014'),\n",
       "             ('CD14+_monocyte', 'chr3:149373637-149374137'),\n",
       "             ('B_cell', 'chr5:158898392-158898892'),\n",
       "             ('CD16+_monocyte', 'chr13:48624875-48625375'),\n",
       "             ('Dendritic_cell', 'chr7:115505120-115505620'),\n",
       "             ('Natural_killer_cell', 'chr11:65694802-65695302'),\n",
       "             ('CD4+_T_cell', 'chr3:3297025-3297525')])"
      ]
     },
     "execution_count": 23,
     "metadata": {},
     "output_type": "execute_result"
    }
   ],
   "source": [
    "regions_dict"
   ]
  },
  {
   "cell_type": "code",
   "execution_count": 24,
   "id": "0b2e306c-37f9-4b70-987d-e3f5501167cf",
   "metadata": {
    "execution": {
     "iopub.execute_input": "2023-01-05T10:24:21.269604Z",
     "iopub.status.busy": "2023-01-05T10:24:21.269391Z",
     "iopub.status.idle": "2023-01-05T10:24:21.320807Z",
     "shell.execute_reply": "2023-01-05T10:24:21.319747Z",
     "shell.execute_reply.started": "2023-01-05T10:24:21.269583Z"
    },
    "tags": []
   },
   "outputs": [
    {
     "name": "stdout",
     "output_type": "stream",
     "text": [
      "master_sub_1.FIXEDCELLS__Cytotoxic_T_cell\n",
      "master_sub_1.FIXEDCELLS__CD14+_monocyte\n",
      "master_sub_1.FIXEDCELLS__B_cell\n",
      "master_sub_1.FIXEDCELLS__CD16+_monocyte\n",
      "master_sub_1.FIXEDCELLS__Dendritic_cell\n",
      "master_sub_1.FIXEDCELLS__Natural_killer_cell\n",
      "master_sub_1.FIXEDCELLS__CD4+_T_cell\n"
     ]
    },
    {
     "data": {
      "text/plain": [
       "OrderedDict([('Cytotoxic_T_cell', 'chr9:75009514.0-75012014.0'),\n",
       "             ('CD14+_monocyte', 'chr3:149372637.0-149375137.0'),\n",
       "             ('B_cell', 'chr5:158897392.0-158899892.0'),\n",
       "             ('CD16+_monocyte', 'chr13:48623875.0-48626375.0'),\n",
       "             ('Dendritic_cell', 'chr7:115504120.0-115506620.0'),\n",
       "             ('Natural_killer_cell', 'chr11:65693802.0-65696302.0'),\n",
       "             ('CD4+_T_cell', 'chr3:3296025.0-3298525.0')])"
      ]
     },
     "execution_count": 24,
     "metadata": {},
     "output_type": "execute_result"
    }
   ],
   "source": [
    "regions_dict_padded = OrderedDict({})\n",
    "\n",
    "for supersample, path in merged_dar_path_dict.items():\n",
    "    print(supersample)\n",
    "    df = pd.read_csv(path, sep=\"\\t\", header=None)\n",
    "    df.columns = \"chrom start end cell_type log2fc strand p_val\".split()\n",
    "    # print(df.iloc[0])\n",
    "\n",
    "    cell_type = supersample.split(\"__\")[-1]\n",
    "    region = f\"{df.iloc[0]['chrom']}:{df.iloc[0]['start']- region_forced_length / 2}-{df.iloc[0]['end']+region_forced_length / 2}\"\n",
    "    regions_dict_padded[cell_type] = region\n",
    "\n",
    "regions_dict_padded"
   ]
  },
  {
   "cell_type": "code",
   "execution_count": 25,
   "id": "a37097a7-026c-4d26-8fa9-ca3b8114135c",
   "metadata": {
    "execution": {
     "iopub.execute_input": "2023-01-05T10:24:21.321755Z",
     "iopub.status.busy": "2023-01-05T10:24:21.321566Z",
     "iopub.status.idle": "2023-01-05T10:24:21.326842Z",
     "shell.execute_reply": "2023-01-05T10:24:21.326117Z",
     "shell.execute_reply.started": "2023-01-05T10:24:21.321735Z"
    },
    "tags": []
   },
   "outputs": [
    {
     "data": {
      "text/plain": [
       "OrderedDict([('Cytotoxic_T_cell', 'chr9:75009514.0-75012014.0'),\n",
       "             ('CD14+_monocyte', 'chr3:149372637.0-149375137.0'),\n",
       "             ('B_cell', 'chr5:158897392.0-158899892.0'),\n",
       "             ('CD16+_monocyte', 'chr13:48623875.0-48626375.0'),\n",
       "             ('Dendritic_cell', 'chr7:115504120.0-115506620.0'),\n",
       "             ('Natural_killer_cell', 'chr11:65693802.0-65696302.0'),\n",
       "             ('CD4+_T_cell', 'chr3:3296025.0-3298525.0')])"
      ]
     },
     "execution_count": 25,
     "metadata": {},
     "output_type": "execute_result"
    }
   ],
   "source": [
    "regions_dict_padded"
   ]
  },
  {
   "cell_type": "code",
   "execution_count": 26,
   "id": "dd293cfa-254c-4f3d-ae06-ba8be8eed578",
   "metadata": {
    "execution": {
     "iopub.execute_input": "2023-01-05T10:24:21.327916Z",
     "iopub.status.busy": "2023-01-05T10:24:21.327710Z",
     "iopub.status.idle": "2023-01-05T10:24:55.107513Z",
     "shell.execute_reply": "2023-01-05T10:24:55.106091Z",
     "shell.execute_reply.started": "2023-01-05T10:24:21.327896Z"
    },
    "tags": []
   },
   "outputs": [
    {
     "name": "stdout",
     "output_type": "stream",
     "text": [
      "drawing column for region Cytotoxic_T_cell\n",
      "\t10xmultiome: alias 10x Multiome\n",
      "\t\tbw: per_tech_bigwigs/master_sub_1.FIXEDCELLS__CONSENSUS_pseudobulk_bw_files/10xmultiome.bw\n",
      "\t10xv1: alias 10x v1\n",
      "\t\tbw: per_tech_bigwigs/master_sub_1.FIXEDCELLS__CONSENSUS_pseudobulk_bw_files/10xv1.bw\n",
      "\t10xv11: alias 10x v1.1\n",
      "\t\tbw: per_tech_bigwigs/master_sub_1.FIXEDCELLS__CONSENSUS_pseudobulk_bw_files/10xv11.bw\n",
      "\t10xv2: alias 10x v2\n",
      "\t\tbw: per_tech_bigwigs/master_sub_1.FIXEDCELLS__CONSENSUS_pseudobulk_bw_files/10xv2.bw\n",
      "\tddseq: alias ddSEQ SureCell\n",
      "\t\tbw: per_tech_bigwigs/master_sub_1.FIXEDCELLS__CONSENSUS_pseudobulk_bw_files/ddseq.bw\n",
      "\thydrop: alias HyDrop\n",
      "\t\tbw: per_tech_bigwigs/master_sub_1.FIXEDCELLS__CONSENSUS_pseudobulk_bw_files/hydrop.bw\n",
      "\tmtscatac: alias mtscATAC-seq\n",
      "\t\tbw: per_tech_bigwigs/master_sub_1.FIXEDCELLS__CONSENSUS_pseudobulk_bw_files/mtscatac.bw\n",
      "\ts3atac: alias s3-ATAC\n",
      "\t\tbw: per_tech_bigwigs/master_sub_1.FIXEDCELLS__CONSENSUS_pseudobulk_bw_files/s3atac.bw\n",
      "drawing column for region CD14+_monocyte\n",
      "\t10xmultiome: alias 10x Multiome\n",
      "\t\tbw: per_tech_bigwigs/master_sub_1.FIXEDCELLS__CONSENSUS_pseudobulk_bw_files/10xmultiome.bw\n",
      "\t10xv1: alias 10x v1\n",
      "\t\tbw: per_tech_bigwigs/master_sub_1.FIXEDCELLS__CONSENSUS_pseudobulk_bw_files/10xv1.bw\n",
      "\t10xv11: alias 10x v1.1\n",
      "\t\tbw: per_tech_bigwigs/master_sub_1.FIXEDCELLS__CONSENSUS_pseudobulk_bw_files/10xv11.bw\n",
      "\t10xv2: alias 10x v2\n",
      "\t\tbw: per_tech_bigwigs/master_sub_1.FIXEDCELLS__CONSENSUS_pseudobulk_bw_files/10xv2.bw\n",
      "\tddseq: alias ddSEQ SureCell\n",
      "\t\tbw: per_tech_bigwigs/master_sub_1.FIXEDCELLS__CONSENSUS_pseudobulk_bw_files/ddseq.bw\n",
      "\thydrop: alias HyDrop\n",
      "\t\tbw: per_tech_bigwigs/master_sub_1.FIXEDCELLS__CONSENSUS_pseudobulk_bw_files/hydrop.bw\n",
      "\tmtscatac: alias mtscATAC-seq\n",
      "\t\tbw: per_tech_bigwigs/master_sub_1.FIXEDCELLS__CONSENSUS_pseudobulk_bw_files/mtscatac.bw\n",
      "\ts3atac: alias s3-ATAC\n",
      "\t\tbw: per_tech_bigwigs/master_sub_1.FIXEDCELLS__CONSENSUS_pseudobulk_bw_files/s3atac.bw\n",
      "drawing column for region B_cell\n",
      "\t10xmultiome: alias 10x Multiome\n",
      "\t\tbw: per_tech_bigwigs/master_sub_1.FIXEDCELLS__CONSENSUS_pseudobulk_bw_files/10xmultiome.bw\n",
      "\t10xv1: alias 10x v1\n",
      "\t\tbw: per_tech_bigwigs/master_sub_1.FIXEDCELLS__CONSENSUS_pseudobulk_bw_files/10xv1.bw\n",
      "\t10xv11: alias 10x v1.1\n",
      "\t\tbw: per_tech_bigwigs/master_sub_1.FIXEDCELLS__CONSENSUS_pseudobulk_bw_files/10xv11.bw\n",
      "\t10xv2: alias 10x v2\n",
      "\t\tbw: per_tech_bigwigs/master_sub_1.FIXEDCELLS__CONSENSUS_pseudobulk_bw_files/10xv2.bw\n",
      "\tddseq: alias ddSEQ SureCell\n",
      "\t\tbw: per_tech_bigwigs/master_sub_1.FIXEDCELLS__CONSENSUS_pseudobulk_bw_files/ddseq.bw\n",
      "\thydrop: alias HyDrop\n",
      "\t\tbw: per_tech_bigwigs/master_sub_1.FIXEDCELLS__CONSENSUS_pseudobulk_bw_files/hydrop.bw\n",
      "\tmtscatac: alias mtscATAC-seq\n",
      "\t\tbw: per_tech_bigwigs/master_sub_1.FIXEDCELLS__CONSENSUS_pseudobulk_bw_files/mtscatac.bw\n",
      "\ts3atac: alias s3-ATAC\n",
      "\t\tbw: per_tech_bigwigs/master_sub_1.FIXEDCELLS__CONSENSUS_pseudobulk_bw_files/s3atac.bw\n",
      "drawing column for region CD16+_monocyte\n",
      "\t10xmultiome: alias 10x Multiome\n",
      "\t\tbw: per_tech_bigwigs/master_sub_1.FIXEDCELLS__CONSENSUS_pseudobulk_bw_files/10xmultiome.bw\n",
      "\t10xv1: alias 10x v1\n",
      "\t\tbw: per_tech_bigwigs/master_sub_1.FIXEDCELLS__CONSENSUS_pseudobulk_bw_files/10xv1.bw\n",
      "\t10xv11: alias 10x v1.1\n",
      "\t\tbw: per_tech_bigwigs/master_sub_1.FIXEDCELLS__CONSENSUS_pseudobulk_bw_files/10xv11.bw\n",
      "\t10xv2: alias 10x v2\n",
      "\t\tbw: per_tech_bigwigs/master_sub_1.FIXEDCELLS__CONSENSUS_pseudobulk_bw_files/10xv2.bw\n",
      "\tddseq: alias ddSEQ SureCell\n",
      "\t\tbw: per_tech_bigwigs/master_sub_1.FIXEDCELLS__CONSENSUS_pseudobulk_bw_files/ddseq.bw\n",
      "\thydrop: alias HyDrop\n",
      "\t\tbw: per_tech_bigwigs/master_sub_1.FIXEDCELLS__CONSENSUS_pseudobulk_bw_files/hydrop.bw\n",
      "\tmtscatac: alias mtscATAC-seq\n",
      "\t\tbw: per_tech_bigwigs/master_sub_1.FIXEDCELLS__CONSENSUS_pseudobulk_bw_files/mtscatac.bw\n",
      "\ts3atac: alias s3-ATAC\n",
      "\t\tbw: per_tech_bigwigs/master_sub_1.FIXEDCELLS__CONSENSUS_pseudobulk_bw_files/s3atac.bw\n",
      "drawing column for region Dendritic_cell\n",
      "\t10xmultiome: alias 10x Multiome\n",
      "\t\tbw: per_tech_bigwigs/master_sub_1.FIXEDCELLS__CONSENSUS_pseudobulk_bw_files/10xmultiome.bw\n",
      "\t10xv1: alias 10x v1\n",
      "\t\tbw: per_tech_bigwigs/master_sub_1.FIXEDCELLS__CONSENSUS_pseudobulk_bw_files/10xv1.bw\n",
      "\t10xv11: alias 10x v1.1\n",
      "\t\tbw: per_tech_bigwigs/master_sub_1.FIXEDCELLS__CONSENSUS_pseudobulk_bw_files/10xv11.bw\n",
      "\t10xv2: alias 10x v2\n",
      "\t\tbw: per_tech_bigwigs/master_sub_1.FIXEDCELLS__CONSENSUS_pseudobulk_bw_files/10xv2.bw\n",
      "\tddseq: alias ddSEQ SureCell\n",
      "\t\tbw: per_tech_bigwigs/master_sub_1.FIXEDCELLS__CONSENSUS_pseudobulk_bw_files/ddseq.bw\n",
      "\thydrop: alias HyDrop\n",
      "\t\tbw: per_tech_bigwigs/master_sub_1.FIXEDCELLS__CONSENSUS_pseudobulk_bw_files/hydrop.bw\n",
      "\tmtscatac: alias mtscATAC-seq\n",
      "\t\tbw: per_tech_bigwigs/master_sub_1.FIXEDCELLS__CONSENSUS_pseudobulk_bw_files/mtscatac.bw\n",
      "\ts3atac: alias s3-ATAC\n",
      "\t\tbw: per_tech_bigwigs/master_sub_1.FIXEDCELLS__CONSENSUS_pseudobulk_bw_files/s3atac.bw\n",
      "drawing column for region Natural_killer_cell\n",
      "\t10xmultiome: alias 10x Multiome\n",
      "\t\tbw: per_tech_bigwigs/master_sub_1.FIXEDCELLS__CONSENSUS_pseudobulk_bw_files/10xmultiome.bw\n",
      "\t10xv1: alias 10x v1\n",
      "\t\tbw: per_tech_bigwigs/master_sub_1.FIXEDCELLS__CONSENSUS_pseudobulk_bw_files/10xv1.bw\n",
      "\t10xv11: alias 10x v1.1\n",
      "\t\tbw: per_tech_bigwigs/master_sub_1.FIXEDCELLS__CONSENSUS_pseudobulk_bw_files/10xv11.bw\n",
      "\t10xv2: alias 10x v2\n",
      "\t\tbw: per_tech_bigwigs/master_sub_1.FIXEDCELLS__CONSENSUS_pseudobulk_bw_files/10xv2.bw\n",
      "\tddseq: alias ddSEQ SureCell\n",
      "\t\tbw: per_tech_bigwigs/master_sub_1.FIXEDCELLS__CONSENSUS_pseudobulk_bw_files/ddseq.bw\n",
      "\thydrop: alias HyDrop\n",
      "\t\tbw: per_tech_bigwigs/master_sub_1.FIXEDCELLS__CONSENSUS_pseudobulk_bw_files/hydrop.bw\n",
      "\tmtscatac: alias mtscATAC-seq\n",
      "\t\tbw: per_tech_bigwigs/master_sub_1.FIXEDCELLS__CONSENSUS_pseudobulk_bw_files/mtscatac.bw\n",
      "\ts3atac: alias s3-ATAC\n",
      "\t\tbw: per_tech_bigwigs/master_sub_1.FIXEDCELLS__CONSENSUS_pseudobulk_bw_files/s3atac.bw\n",
      "drawing column for region CD4+_T_cell\n",
      "\t10xmultiome: alias 10x Multiome\n",
      "\t\tbw: per_tech_bigwigs/master_sub_1.FIXEDCELLS__CONSENSUS_pseudobulk_bw_files/10xmultiome.bw\n",
      "\t10xv1: alias 10x v1\n",
      "\t\tbw: per_tech_bigwigs/master_sub_1.FIXEDCELLS__CONSENSUS_pseudobulk_bw_files/10xv1.bw\n",
      "\t10xv11: alias 10x v1.1\n",
      "\t\tbw: per_tech_bigwigs/master_sub_1.FIXEDCELLS__CONSENSUS_pseudobulk_bw_files/10xv11.bw\n",
      "\t10xv2: alias 10x v2\n",
      "\t\tbw: per_tech_bigwigs/master_sub_1.FIXEDCELLS__CONSENSUS_pseudobulk_bw_files/10xv2.bw\n",
      "\tddseq: alias ddSEQ SureCell\n",
      "\t\tbw: per_tech_bigwigs/master_sub_1.FIXEDCELLS__CONSENSUS_pseudobulk_bw_files/ddseq.bw\n",
      "\thydrop: alias HyDrop\n",
      "\t\tbw: per_tech_bigwigs/master_sub_1.FIXEDCELLS__CONSENSUS_pseudobulk_bw_files/hydrop.bw\n",
      "\tmtscatac: alias mtscATAC-seq\n",
      "\t\tbw: per_tech_bigwigs/master_sub_1.FIXEDCELLS__CONSENSUS_pseudobulk_bw_files/mtscatac.bw\n",
      "\ts3atac: alias s3-ATAC\n",
      "\t\tbw: per_tech_bigwigs/master_sub_1.FIXEDCELLS__CONSENSUS_pseudobulk_bw_files/s3atac.bw\n"
     ]
    },
    {
     "data": {
      "image/png": "[encoded data removed]",
      "text/plain": [
       "<Figure size 432x576 with 119 Axes>"
      ]
     },
     "execution_count": 26,
     "metadata": {},
     "output_type": "execute_result"
    },
    {
     "data": {
      "image/png": "[encoded data removed]",
      "text/plain": [
       "<Figure size 432x576 with 119 Axes>"
      ]
     },
     "metadata": {},
     "output_type": "display_data"
    }
   ],
   "source": [
    "## create the gridspec\n",
    "fig = plt.figure(figsize=figsize, facecolor=\"white\")\n",
    "\n",
    "# define ratios between all elements in the graphic\n",
    "height_ratios = [0.2]  # for gtf\n",
    "height_ratios.append(len(bw_path_dict))  # for bws\n",
    "height_ratios.append(0.2)  # for text box\n",
    "\n",
    "# create a global frame for the 3 modalities shown (bigwigs, gtf, and text)\n",
    "frame = gridspec.GridSpec(3, 1, wspace=0.25, hspace=0.17, height_ratios=height_ratios)\n",
    "\n",
    "# create a gridspec for each modality within the frame\n",
    "n_cols = len(regions_dict)\n",
    "text_grid = gridspec.GridSpecFromSubplotSpec(\n",
    "    1, n_cols, wspace=0.05, hspace=0, subplot_spec=frame[0, 0]\n",
    ")\n",
    "bw_dar_grid = gridspec.GridSpecFromSubplotSpec(\n",
    "    len(bw_path_dict), n_cols, wspace=0.05, hspace=-0.6, subplot_spec=frame[1, 0]\n",
    ")\n",
    "gtf_grid = gridspec.GridSpecFromSubplotSpec(\n",
    "    max_genes, n_cols, wspace=0.05, hspace=0, subplot_spec=frame[2, 0]\n",
    ")\n",
    "\n",
    "## iterate over all regions (=columns in final figure)\n",
    "for region_name in regions_df_padded.index:\n",
    "    if verbose == True:\n",
    "        print(f\"drawing column for region {region_name}\")\n",
    "    region_index = list(regions_df_padded.index).index(\n",
    "        region_name\n",
    "    )  # get the region index for column indexing\n",
    "\n",
    "    # the genome coordinates over which we will be plotting:\n",
    "    chrom = regions_df_padded.loc[region_name][\"chrom\"]\n",
    "    start = int(regions_df_padded.loc[region_name][\"start\"])\n",
    "    end = int(regions_df_padded.loc[region_name][\"end\"])\n",
    "    x = np.array(range(start, end, 1))\n",
    "\n",
    "    # set ymax according to region\n",
    "    # bw_ymax = region_max_dict[region_name]\n",
    "\n",
    "    # you can also set global ymax:\n",
    "    bw_ymax = region_max_dict_padded[\n",
    "        max(region_max_dict_padded, key=region_max_dict_padded.get)\n",
    "    ]\n",
    "\n",
    "    ## iterate over all bigwigs (=rows in final figure)\n",
    "    for key in tech_alias_dict.keys():\n",
    "        if verbose == True:\n",
    "            print(f\"\\t{key}: alias {tech_alias_dict[key]}\")\n",
    "\n",
    "        bw_index = list(tech_alias_dict.keys()).index(\n",
    "            key\n",
    "        )  # get the bw index for row indexing\n",
    "\n",
    "        # create a new gridspec for bw + dar\n",
    "        if \"regions_dict_padded\" in locals() or \"peak_path_dict\" in locals():\n",
    "            bw_dar_subgrid = gridspec.GridSpecFromSubplotSpec(\n",
    "                2,\n",
    "                1,\n",
    "                wspace=0,\n",
    "                hspace=0,\n",
    "                subplot_spec=bw_dar_grid[bw_index, region_index],\n",
    "                height_ratios=[20, 1],\n",
    "            )\n",
    "        else:\n",
    "            bw_dar_subgrid = gridspec.GridSpecFromSubplotSpec(\n",
    "                1,\n",
    "                1,\n",
    "                wspace=0.05,\n",
    "                hspace=0.2,\n",
    "                subplot_spec=bw_dar_grid[bw_index, region_index],\n",
    "            )\n",
    "\n",
    "        # open the bigwig\n",
    "        bw_file = bw_path_dict[key]\n",
    "        if verbose == True:\n",
    "            print(f\"\\t\\tbw: {bw_file}\")\n",
    "\n",
    "        bw = pyBigWig.open(bw_file)\n",
    "        y = bw.values(chrom, start, end)\n",
    "        y = np.nan_to_num(y)\n",
    "\n",
    "        # now plot the bigwig in the gridspec\n",
    "        ax = plt.Subplot(fig, bw_dar_subgrid[0, 0])\n",
    "        ax.fill_between(\n",
    "            x, y1=y, y2=0, step=\"mid\", linewidth=0, color=tech_color_palette[key]\n",
    "        )\n",
    "        ax.patch.set_alpha(0)\n",
    "\n",
    "        # figure settings\n",
    "        ax.set_xlim([x.min(), x.max()])\n",
    "        ax.set_ylim([0, bw_ymax])\n",
    "        ax.set_xticks([])\n",
    "        ax.set_yticks([])\n",
    "\n",
    "        # add a ylabel only if it's the last column\n",
    "        if region_name == regions_df_padded.index[-1]:\n",
    "            ax.yaxis.set_label_position(\"right\")\n",
    "            ax.set_ylabel(\n",
    "                tech_alias_dict[key],\n",
    "                rotation=0,\n",
    "                horizontalalignment=\"left\",\n",
    "                verticalalignment=\"bottom\",\n",
    "            )\n",
    "            ax.yaxis.set_label_coords(1.05, 0.05)\n",
    "\n",
    "        sns.despine(top=True, right=True, left=True, bottom=False, ax=ax)\n",
    "        for spine in ax.spines.values():\n",
    "            spine.set_edgecolor(tech_color_palette[key])\n",
    "\n",
    "        # add to the fig\n",
    "        fig.add_subplot(ax, transparent=True)\n",
    "\n",
    "        # first draw peaks if they are defined\n",
    "        if \"peak_path_dict\" in locals():\n",
    "            # get peaks that overlap the region to be plotted\n",
    "            peak = BedTool(peak_path_dict[region_name])\n",
    "            peak_region_intersection = peak.intersect(\n",
    "                BedTool.from_dataframe(df=regions_df_padded), wa=True, wb=True\n",
    "            )\n",
    "            peak_region_intersection = peak_region_intersection.to_dataframe(\n",
    "                header=None\n",
    "            )\n",
    "            peak_region_intersection = peak_region_intersection.iloc[:, :4]\n",
    "            peak_region_intersection.columns = \"chr start end name\".split()\n",
    "\n",
    "            # now plot the dars in the gridspec\n",
    "            ax = plt.Subplot(fig, bw_dar_subgrid[1, 0])\n",
    "            for element in peak_region_intersection.index:\n",
    "                part = peak_region_intersection.loc[element]\n",
    "                peak_start = part[\"start\"]\n",
    "                peak_end = part[\"end\"]\n",
    "\n",
    "                # plot a thin line, with beginning and ending as x coordinates, and bw_ymin as y coordinates\n",
    "                # NOTE: linewidth won't do much here, it is more determined by the 'space' you give to this part of the plot in height_ratios!\n",
    "                ax.plot([peak_start, peak_end], [0, 0], linewidth=4, c=peak_color)\n",
    "\n",
    "            # figure settings\n",
    "            ax.set_ylim([-1, +1])\n",
    "            addax()\n",
    "\n",
    "        # then draw dars if they are defined\n",
    "        if \"regions_path_dict\" in locals():\n",
    "            # get DARs that overlap the region to be plotted\n",
    "            dar = BedTool(regions_path_dict[region_name])\n",
    "            if verbose == True:\n",
    "                print(f\"\\t\\tdar: {regions_path_dict[region_name]}\")\n",
    "\n",
    "            dar_region_intersection = dar.intersect(\n",
    "                BedTool.from_dataframe(df=regions_df_padded), wa=True, wb=True\n",
    "            )\n",
    "            dar_region_intersection = dar_region_intersection.to_dataframe(header=None)\n",
    "            dar_region_intersection = dar_region_intersection.iloc[:, :4]\n",
    "            dar_region_intersection.columns = \"chr start end name\".split()\n",
    "\n",
    "            # now plot the dars in the gridspec\n",
    "            ax = plt.Subplot(fig, bw_dar_subgrid[1, 0])\n",
    "            for element in dar_region_intersection.index:\n",
    "                part = dar_region_intersection.loc[element]\n",
    "                dar_start = part[\"start\"]\n",
    "                dar_end = part[\"end\"]\n",
    "\n",
    "                # plot a thin line, with beginning and ending as x coordinates, and bw_ymin as y coordinates\n",
    "                # NOTE: linewidth won't do much here, it is more determined by the 'space' you give to this part of the plot in height_ratios!\n",
    "                ax.plot([dar_start, dar_end], [0, 0], linewidth=4, c=dar_color)\n",
    "\n",
    "            # figure settings\n",
    "            ax.set_ylim([-1, +1])\n",
    "            addax()\n",
    "\n",
    "    ## draw the genes of interest, from our gtf\n",
    "    # intersect genes gtf with the region of interest\n",
    "    if plot_genes == True:\n",
    "        gtf = BedTool(gtf_file)\n",
    "        gtf_region_intersection = gtf.intersect(\n",
    "            BedTool.from_dataframe(df=regions_df_padded), wa=True, wb=True\n",
    "        )\n",
    "        gtf_region_intersection = gtf_region_intersection.to_dataframe(header=None)\n",
    "        gtf_region_intersection = gtf_region_intersection.iloc[:, :9]\n",
    "        gtf_region_intersection.columns = (\n",
    "            \"chr db feature start end score strand frame attribute\".split()\n",
    "        )\n",
    "\n",
    "        ## iterate over all genes of interest in genes_dict\n",
    "        for gene in genes_dict[region_name]:\n",
    "            gene_index = genes_dict[region_name].index(\n",
    "                gene\n",
    "            )  # get gene index for row indexing\n",
    "\n",
    "            # get gtf intersection with only gene body and exons of this particular gene\n",
    "            gtf_region_intersection_gene = gtf_region_intersection[\n",
    "                gtf_region_intersection[\"attribute\"].str.contains(gene)\n",
    "            ]\n",
    "            gtf_region_intersection_gene = gtf_region_intersection_gene[\n",
    "                gtf_region_intersection_gene[\"feature\"].str.contains(\"gene|exon\")\n",
    "            ]\n",
    "\n",
    "            # now plot the gene parts (gene body and gene exon)\n",
    "            ax = plt.Subplot(fig, gtf_grid[gene_index, region_index])\n",
    "\n",
    "            # iterate over all parts to plot them\n",
    "            for element in gtf_region_intersection_gene.index:\n",
    "                part = gtf_region_intersection_gene.loc[element]\n",
    "\n",
    "                # make exons thick\n",
    "                if part[\"feature\"] == \"exon\":\n",
    "                    exon_start = part[\"start\"]\n",
    "                    exon_end = part[\"end\"]\n",
    "                    # draw rectangle for exon\n",
    "                    rect = mpatches.Rectangle(\n",
    "                        (exon_start, exon_bottom),\n",
    "                        exon_end - exon_start,\n",
    "                        exon_height,\n",
    "                        fill=True,\n",
    "                        color=\"k\",\n",
    "                        linewidth=0,\n",
    "                    )\n",
    "                    ax.add_patch(rect)\n",
    "\n",
    "                # make the gene body a thin line, drawn at the end so it will always display on top\n",
    "                elif part[\"feature\"] == \"gene\":\n",
    "                    gene_start = part[\"start\"]\n",
    "                    gene_end = part[\"end\"]\n",
    "                    rect = mpatches.Rectangle(\n",
    "                        (gene_start, gene_bottom),\n",
    "                        gene_end - gene_start,\n",
    "                        gene_height,\n",
    "                        fill=True,\n",
    "                        color=\"k\",\n",
    "                        linewidth=0,\n",
    "                    )\n",
    "                    ax.add_patch(rect)\n",
    "\n",
    "        if verbose == True:\n",
    "            print(\n",
    "                f\"\\tfor region {region_name}, drew gene {gene}, {len(gtf_region_intersection_gene.index)} individual items drawn\\n\"\n",
    "            )\n",
    "\n",
    "        # figure settings\n",
    "        ax.set_ylim([exon_bottom, -exon_bottom])\n",
    "        ax.set_xlabel(gene, fontsize=10)\n",
    "        addax()\n",
    "\n",
    "    ## finally, add a little text that shows which regions you're plotting\n",
    "    ax = plt.Subplot(fig, text_grid[0, region_index])\n",
    "\n",
    "    region = regions_dict_padded[region_name]\n",
    "    length = round((end - start) / 1000)\n",
    "    label = f\"{region},\\n{length} kb\"\n",
    "\n",
    "    ax.set_xlabel(label, fontsize=6)\n",
    "    addax()\n",
    "\n",
    "fig.savefig(\n",
    "    \"plts_track/libds_track.png\",\n",
    "    dpi=350,\n",
    "    bbox_inches=\"tight\",\n",
    "    pad_inches=0,\n",
    "    transparent=False,\n",
    "    facecolor=\"white\",\n",
    ")\n",
    "fig.savefig(\n",
    "    \"plts_track/libds_track.svg\",\n",
    "    dpi=350,\n",
    "    bbox_inches=\"tight\",\n",
    "    pad_inches=0,\n",
    "    transparent=False,\n",
    "    facecolor=\"white\",\n",
    ")\n",
    "\n",
    "fig"
   ]
  },
  {
   "cell_type": "code",
   "execution_count": 27,
   "id": "06b26fa6-2f35-4fa2-8d93-f6b2bc69ebce",
   "metadata": {
    "execution": {
     "iopub.execute_input": "2023-01-05T10:24:55.110487Z",
     "iopub.status.busy": "2023-01-05T10:24:55.110295Z",
     "iopub.status.idle": "2023-01-05T10:24:55.116098Z",
     "shell.execute_reply": "2023-01-05T10:24:55.115331Z",
     "shell.execute_reply.started": "2023-01-05T10:24:55.110465Z"
    },
    "tags": []
   },
   "outputs": [
    {
     "data": {
      "text/plain": [
       "{'Cytotoxic_T_cell': 'final_consensus_peaks/master_sub_1.FIXEDCELLS__SCREEN_consensus_peaks.bed',\n",
       " 'CD14+_monocyte': 'final_consensus_peaks/master_sub_1.FIXEDCELLS__SCREEN_consensus_peaks.bed',\n",
       " 'B_cell': 'final_consensus_peaks/master_sub_1.FIXEDCELLS__SCREEN_consensus_peaks.bed',\n",
       " 'CD16+_monocyte': 'final_consensus_peaks/master_sub_1.FIXEDCELLS__SCREEN_consensus_peaks.bed',\n",
       " 'Dendritic_cell': 'final_consensus_peaks/master_sub_1.FIXEDCELLS__SCREEN_consensus_peaks.bed',\n",
       " 'Natural_killer_cell': 'final_consensus_peaks/master_sub_1.FIXEDCELLS__SCREEN_consensus_peaks.bed',\n",
       " 'CD4+_T_cell': 'final_consensus_peaks/master_sub_1.FIXEDCELLS__SCREEN_consensus_peaks.bed'}"
      ]
     },
     "execution_count": 27,
     "metadata": {},
     "output_type": "execute_result"
    }
   ],
   "source": [
    "peak_path_dict"
   ]
  },
  {
   "cell_type": "markdown",
   "id": "53e150b3-37d5-44b2-8c4d-722bb692dc1e",
   "metadata": {
    "tags": []
   },
   "source": [
    "# now make cell-type specific, using tech-cell_type BWs"
   ]
  },
  {
   "cell_type": "code",
   "execution_count": 28,
   "id": "fd8fbdd5-2775-433e-9872-46558d0acae9",
   "metadata": {
    "execution": {
     "iopub.execute_input": "2023-01-05T10:24:55.117110Z",
     "iopub.status.busy": "2023-01-05T10:24:55.116920Z",
     "iopub.status.idle": "2023-01-05T10:24:55.140666Z",
     "shell.execute_reply": "2023-01-05T10:24:55.139908Z",
     "shell.execute_reply.started": "2023-01-05T10:24:55.117091Z"
    },
    "tags": []
   },
   "outputs": [
    {
     "data": {
      "text/plain": [
       "{'CD14_monocyte': {'10xv2': 'per_tech_cell_type_bigwigs/master_sub_1.FIXEDCELLS__CONSENSUS_pseudobulk_bw_files_nonnorm/10xv2_CD14_monocyte.bw',\n",
       "  'hydrop': 'per_tech_cell_type_bigwigs/master_sub_1.FIXEDCELLS__CONSENSUS_pseudobulk_bw_files_nonnorm/hydrop_CD14_monocyte.bw',\n",
       "  '10xmultiome': 'per_tech_cell_type_bigwigs/master_sub_1.FIXEDCELLS__CONSENSUS_pseudobulk_bw_files_nonnorm/10xmultiome_CD14_monocyte.bw',\n",
       "  'ddseq': 'per_tech_cell_type_bigwigs/master_sub_1.FIXEDCELLS__CONSENSUS_pseudobulk_bw_files_nonnorm/ddseq_CD14_monocyte.bw',\n",
       "  'mtscatac': 'per_tech_cell_type_bigwigs/master_sub_1.FIXEDCELLS__CONSENSUS_pseudobulk_bw_files_nonnorm/mtscatac_CD14_monocyte.bw',\n",
       "  's3atac': 'per_tech_cell_type_bigwigs/master_sub_1.FIXEDCELLS__CONSENSUS_pseudobulk_bw_files_nonnorm/s3atac_CD14_monocyte.bw',\n",
       "  '10xv11': 'per_tech_cell_type_bigwigs/master_sub_1.FIXEDCELLS__CONSENSUS_pseudobulk_bw_files_nonnorm/10xv11_CD14_monocyte.bw',\n",
       "  '10xv1': 'per_tech_cell_type_bigwigs/master_sub_1.FIXEDCELLS__CONSENSUS_pseudobulk_bw_files_nonnorm/10xv1_CD14_monocyte.bw'},\n",
       " 'Dendritic_cell': {'mtscatac': 'per_tech_cell_type_bigwigs/master_sub_1.FIXEDCELLS__CONSENSUS_pseudobulk_bw_files_nonnorm/mtscatac_Dendritic_cell.bw',\n",
       "  '10xv2': 'per_tech_cell_type_bigwigs/master_sub_1.FIXEDCELLS__CONSENSUS_pseudobulk_bw_files_nonnorm/10xv2_Dendritic_cell.bw',\n",
       "  'ddseq': 'per_tech_cell_type_bigwigs/master_sub_1.FIXEDCELLS__CONSENSUS_pseudobulk_bw_files_nonnorm/ddseq_Dendritic_cell.bw',\n",
       "  '10xv1': 'per_tech_cell_type_bigwigs/master_sub_1.FIXEDCELLS__CONSENSUS_pseudobulk_bw_files_nonnorm/10xv1_Dendritic_cell.bw',\n",
       "  '10xmultiome': 'per_tech_cell_type_bigwigs/master_sub_1.FIXEDCELLS__CONSENSUS_pseudobulk_bw_files_nonnorm/10xmultiome_Dendritic_cell.bw',\n",
       "  's3atac': 'per_tech_cell_type_bigwigs/master_sub_1.FIXEDCELLS__CONSENSUS_pseudobulk_bw_files_nonnorm/s3atac_Dendritic_cell.bw',\n",
       "  '10xv11': 'per_tech_cell_type_bigwigs/master_sub_1.FIXEDCELLS__CONSENSUS_pseudobulk_bw_files_nonnorm/10xv11_Dendritic_cell.bw',\n",
       "  'hydrop': 'per_tech_cell_type_bigwigs/master_sub_1.FIXEDCELLS__CONSENSUS_pseudobulk_bw_files_nonnorm/hydrop_Dendritic_cell.bw'},\n",
       " 'CD16_monocyte': {'10xv1': 'per_tech_cell_type_bigwigs/master_sub_1.FIXEDCELLS__CONSENSUS_pseudobulk_bw_files_nonnorm/10xv1_CD16_monocyte.bw',\n",
       "  'mtscatac': 'per_tech_cell_type_bigwigs/master_sub_1.FIXEDCELLS__CONSENSUS_pseudobulk_bw_files_nonnorm/mtscatac_CD16_monocyte.bw',\n",
       "  'hydrop': 'per_tech_cell_type_bigwigs/master_sub_1.FIXEDCELLS__CONSENSUS_pseudobulk_bw_files_nonnorm/hydrop_CD16_monocyte.bw',\n",
       "  '10xmultiome': 'per_tech_cell_type_bigwigs/master_sub_1.FIXEDCELLS__CONSENSUS_pseudobulk_bw_files_nonnorm/10xmultiome_CD16_monocyte.bw',\n",
       "  's3atac': 'per_tech_cell_type_bigwigs/master_sub_1.FIXEDCELLS__CONSENSUS_pseudobulk_bw_files_nonnorm/s3atac_CD16_monocyte.bw',\n",
       "  '10xv2': 'per_tech_cell_type_bigwigs/master_sub_1.FIXEDCELLS__CONSENSUS_pseudobulk_bw_files_nonnorm/10xv2_CD16_monocyte.bw',\n",
       "  'ddseq': 'per_tech_cell_type_bigwigs/master_sub_1.FIXEDCELLS__CONSENSUS_pseudobulk_bw_files_nonnorm/ddseq_CD16_monocyte.bw',\n",
       "  '10xv11': 'per_tech_cell_type_bigwigs/master_sub_1.FIXEDCELLS__CONSENSUS_pseudobulk_bw_files_nonnorm/10xv11_CD16_monocyte.bw'},\n",
       " 'CD4_T_cell': {'mtscatac': 'per_tech_cell_type_bigwigs/master_sub_1.FIXEDCELLS__CONSENSUS_pseudobulk_bw_files_nonnorm/mtscatac_CD4_T_cell.bw',\n",
       "  '10xv11': 'per_tech_cell_type_bigwigs/master_sub_1.FIXEDCELLS__CONSENSUS_pseudobulk_bw_files_nonnorm/10xv11_CD4_T_cell.bw',\n",
       "  's3atac': 'per_tech_cell_type_bigwigs/master_sub_1.FIXEDCELLS__CONSENSUS_pseudobulk_bw_files_nonnorm/s3atac_CD4_T_cell.bw',\n",
       "  '10xv2': 'per_tech_cell_type_bigwigs/master_sub_1.FIXEDCELLS__CONSENSUS_pseudobulk_bw_files_nonnorm/10xv2_CD4_T_cell.bw',\n",
       "  '10xv1': 'per_tech_cell_type_bigwigs/master_sub_1.FIXEDCELLS__CONSENSUS_pseudobulk_bw_files_nonnorm/10xv1_CD4_T_cell.bw',\n",
       "  'hydrop': 'per_tech_cell_type_bigwigs/master_sub_1.FIXEDCELLS__CONSENSUS_pseudobulk_bw_files_nonnorm/hydrop_CD4_T_cell.bw',\n",
       "  '10xmultiome': 'per_tech_cell_type_bigwigs/master_sub_1.FIXEDCELLS__CONSENSUS_pseudobulk_bw_files_nonnorm/10xmultiome_CD4_T_cell.bw',\n",
       "  'ddseq': 'per_tech_cell_type_bigwigs/master_sub_1.FIXEDCELLS__CONSENSUS_pseudobulk_bw_files_nonnorm/ddseq_CD4_T_cell.bw'},\n",
       " 'B_cell': {'10xmultiome': 'per_tech_cell_type_bigwigs/master_sub_1.FIXEDCELLS__CONSENSUS_pseudobulk_bw_files_nonnorm/10xmultiome_B_cell.bw',\n",
       "  'mtscatac': 'per_tech_cell_type_bigwigs/master_sub_1.FIXEDCELLS__CONSENSUS_pseudobulk_bw_files_nonnorm/mtscatac_B_cell.bw',\n",
       "  '10xv11': 'per_tech_cell_type_bigwigs/master_sub_1.FIXEDCELLS__CONSENSUS_pseudobulk_bw_files_nonnorm/10xv11_B_cell.bw',\n",
       "  'ddseq': 'per_tech_cell_type_bigwigs/master_sub_1.FIXEDCELLS__CONSENSUS_pseudobulk_bw_files_nonnorm/ddseq_B_cell.bw',\n",
       "  'hydrop': 'per_tech_cell_type_bigwigs/master_sub_1.FIXEDCELLS__CONSENSUS_pseudobulk_bw_files_nonnorm/hydrop_B_cell.bw',\n",
       "  's3atac': 'per_tech_cell_type_bigwigs/master_sub_1.FIXEDCELLS__CONSENSUS_pseudobulk_bw_files_nonnorm/s3atac_B_cell.bw',\n",
       "  '10xv1': 'per_tech_cell_type_bigwigs/master_sub_1.FIXEDCELLS__CONSENSUS_pseudobulk_bw_files_nonnorm/10xv1_B_cell.bw',\n",
       "  '10xv2': 'per_tech_cell_type_bigwigs/master_sub_1.FIXEDCELLS__CONSENSUS_pseudobulk_bw_files_nonnorm/10xv2_B_cell.bw'},\n",
       " 'Natural_killer_cell': {'s3atac': 'per_tech_cell_type_bigwigs/master_sub_1.FIXEDCELLS__CONSENSUS_pseudobulk_bw_files_nonnorm/s3atac_Natural_killer_cell.bw',\n",
       "  '10xv1': 'per_tech_cell_type_bigwigs/master_sub_1.FIXEDCELLS__CONSENSUS_pseudobulk_bw_files_nonnorm/10xv1_Natural_killer_cell.bw',\n",
       "  'ddseq': 'per_tech_cell_type_bigwigs/master_sub_1.FIXEDCELLS__CONSENSUS_pseudobulk_bw_files_nonnorm/ddseq_Natural_killer_cell.bw',\n",
       "  '10xv11': 'per_tech_cell_type_bigwigs/master_sub_1.FIXEDCELLS__CONSENSUS_pseudobulk_bw_files_nonnorm/10xv11_Natural_killer_cell.bw',\n",
       "  '10xv2': 'per_tech_cell_type_bigwigs/master_sub_1.FIXEDCELLS__CONSENSUS_pseudobulk_bw_files_nonnorm/10xv2_Natural_killer_cell.bw',\n",
       "  'mtscatac': 'per_tech_cell_type_bigwigs/master_sub_1.FIXEDCELLS__CONSENSUS_pseudobulk_bw_files_nonnorm/mtscatac_Natural_killer_cell.bw',\n",
       "  '10xmultiome': 'per_tech_cell_type_bigwigs/master_sub_1.FIXEDCELLS__CONSENSUS_pseudobulk_bw_files_nonnorm/10xmultiome_Natural_killer_cell.bw',\n",
       "  'hydrop': 'per_tech_cell_type_bigwigs/master_sub_1.FIXEDCELLS__CONSENSUS_pseudobulk_bw_files_nonnorm/hydrop_Natural_killer_cell.bw'},\n",
       " 'Cytotoxic_T_cell': {'10xv1': 'per_tech_cell_type_bigwigs/master_sub_1.FIXEDCELLS__CONSENSUS_pseudobulk_bw_files_nonnorm/10xv1_Cytotoxic_T_cell.bw',\n",
       "  'ddseq': 'per_tech_cell_type_bigwigs/master_sub_1.FIXEDCELLS__CONSENSUS_pseudobulk_bw_files_nonnorm/ddseq_Cytotoxic_T_cell.bw',\n",
       "  's3atac': 'per_tech_cell_type_bigwigs/master_sub_1.FIXEDCELLS__CONSENSUS_pseudobulk_bw_files_nonnorm/s3atac_Cytotoxic_T_cell.bw',\n",
       "  'mtscatac': 'per_tech_cell_type_bigwigs/master_sub_1.FIXEDCELLS__CONSENSUS_pseudobulk_bw_files_nonnorm/mtscatac_Cytotoxic_T_cell.bw',\n",
       "  '10xv2': 'per_tech_cell_type_bigwigs/master_sub_1.FIXEDCELLS__CONSENSUS_pseudobulk_bw_files_nonnorm/10xv2_Cytotoxic_T_cell.bw',\n",
       "  '10xmultiome': 'per_tech_cell_type_bigwigs/master_sub_1.FIXEDCELLS__CONSENSUS_pseudobulk_bw_files_nonnorm/10xmultiome_Cytotoxic_T_cell.bw',\n",
       "  'hydrop': 'per_tech_cell_type_bigwigs/master_sub_1.FIXEDCELLS__CONSENSUS_pseudobulk_bw_files_nonnorm/hydrop_Cytotoxic_T_cell.bw',\n",
       "  '10xv11': 'per_tech_cell_type_bigwigs/master_sub_1.FIXEDCELLS__CONSENSUS_pseudobulk_bw_files_nonnorm/10xv11_Cytotoxic_T_cell.bw'}}"
      ]
     },
     "execution_count": 28,
     "metadata": {},
     "output_type": "execute_result"
    }
   ],
   "source": [
    "cell_types = list(\n",
    "    set(\n",
    "        [\n",
    "            \"_\".join(x.split(\"/\")[-1].split(\"_\")[1:]).split(\".\")[0]\n",
    "            for x in glob.glob(\n",
    "                \"per_tech_cell_type_bigwigs/master_sub_1.FIXEDCELLS__CONSENSUS_pseudobulk_bw_files_nonnorm/*\"\n",
    "            )\n",
    "        ]\n",
    "    )\n",
    ")\n",
    "\n",
    "bw_path_dict_dict = {}\n",
    "for cell_type in cell_types:\n",
    "    # print(cell_type)\n",
    "    bw_path_dict_dict[cell_type] = {\n",
    "        x.split(\"/\")[-1].split(\"_\")[0]: x\n",
    "        for x in glob.glob(\n",
    "            f\"per_tech_cell_type_bigwigs/master_sub_1.FIXEDCELLS__CONSENSUS_pseudobulk_bw_files_nonnorm/*{cell_type}*\"\n",
    "        )\n",
    "    }\n",
    "bw_path_dict_dict"
   ]
  },
  {
   "cell_type": "code",
   "execution_count": 29,
   "id": "e25fec2e-a0ff-4f08-aded-72e852582347",
   "metadata": {
    "execution": {
     "iopub.execute_input": "2023-01-05T10:24:55.141699Z",
     "iopub.status.busy": "2023-01-05T10:24:55.141496Z",
     "iopub.status.idle": "2023-01-05T10:24:55.148801Z",
     "shell.execute_reply": "2023-01-05T10:24:55.148054Z",
     "shell.execute_reply.started": "2023-01-05T10:24:55.141678Z"
    },
    "tags": []
   },
   "outputs": [],
   "source": [
    "dar_color = \"b\"\n",
    "peak_color = \"k\"\n",
    "gene_height = 3\n",
    "gene_bottom = -gene_height / 2\n",
    "exon_height = 6\n",
    "exon_bottom = -exon_height / 2\n",
    "\n",
    "figsize = (6, 8)"
   ]
  },
  {
   "cell_type": "code",
   "execution_count": 30,
   "id": "a0fc8f2a-4c89-4444-b999-07aff05c10ac",
   "metadata": {
    "execution": {
     "iopub.execute_input": "2023-01-05T10:24:55.149818Z",
     "iopub.status.busy": "2023-01-05T10:24:55.149614Z",
     "iopub.status.idle": "2023-01-05T10:24:55.160500Z",
     "shell.execute_reply": "2023-01-05T10:24:55.159745Z",
     "shell.execute_reply.started": "2023-01-05T10:24:55.149798Z"
    },
    "tags": []
   },
   "outputs": [],
   "source": [
    "def addax():\n",
    "    ax.set_xlim([x.min(), x.max()])\n",
    "    sns.despine(top=True, right=True, left=True, bottom=True, ax=ax)\n",
    "    ax.set_xticks([])\n",
    "    ax.set_yticks([])\n",
    "    ax.patch.set_alpha(\n",
    "        0\n",
    "    )  # make sure that each individual subplot is transparent! otherwise the underlying plots won't be shown. this is important e.g. for the dar/peak visualisaton, since the DARs are drawn directly on top of the peaks. if the DAR plot is not transparent, no peaks will be visible!!\n",
    "\n",
    "    fig.add_subplot(ax)"
   ]
  },
  {
   "cell_type": "code",
   "execution_count": 31,
   "id": "8689ffb3-e43d-48ca-80a7-d59419f631ae",
   "metadata": {
    "execution": {
     "iopub.execute_input": "2023-01-05T10:24:55.161452Z",
     "iopub.status.busy": "2023-01-05T10:24:55.161262Z",
     "iopub.status.idle": "2023-01-05T10:24:55.165933Z",
     "shell.execute_reply": "2023-01-05T10:24:55.165205Z",
     "shell.execute_reply.started": "2023-01-05T10:24:55.161433Z"
    },
    "tags": []
   },
   "outputs": [],
   "source": [
    "max_genes = 1"
   ]
  },
  {
   "cell_type": "code",
   "execution_count": 32,
   "id": "58c3b461-845f-480c-8ec4-e7cb82d759b3",
   "metadata": {
    "execution": {
     "iopub.execute_input": "2023-01-05T10:24:55.166879Z",
     "iopub.status.busy": "2023-01-05T10:24:55.166688Z",
     "iopub.status.idle": "2023-01-05T10:24:55.174859Z",
     "shell.execute_reply": "2023-01-05T10:24:55.173988Z",
     "shell.execute_reply.started": "2023-01-05T10:24:55.166860Z"
    },
    "tags": []
   },
   "outputs": [],
   "source": [
    "plot_genes = False\n",
    "verbose = True"
   ]
  },
  {
   "cell_type": "code",
   "execution_count": 33,
   "id": "2d695218-f2de-49b7-8cbd-471c56a6599f",
   "metadata": {
    "execution": {
     "iopub.execute_input": "2023-01-05T10:24:55.176086Z",
     "iopub.status.busy": "2023-01-05T10:24:55.175828Z",
     "iopub.status.idle": "2023-01-05T10:24:55.196992Z",
     "shell.execute_reply": "2023-01-05T10:24:55.195602Z",
     "shell.execute_reply.started": "2023-01-05T10:24:55.176059Z"
    },
    "tags": []
   },
   "outputs": [],
   "source": [
    "region_forced_length = 2000\n",
    "\n",
    "regions_df_padded = regions_df.copy()\n",
    "\n",
    "regions_df_padded[\"region_center\"] = (\n",
    "    regions_df_padded[\"start\"]\n",
    "    + (regions_df_padded[\"end\"] - regions_df_padded[\"start\"]) / 2\n",
    ")\n",
    "\n",
    "\n",
    "regions_df_padded[\"start\"] = (\n",
    "    regions_df_padded[\"region_center\"] - region_forced_length / 2\n",
    ")\n",
    "regions_df_padded[\"start\"] = [int(x) for x in regions_df_padded[\"start\"]]\n",
    "regions_df_padded[\"end\"] = regions_df_padded[\"region_center\"] + region_forced_length / 2\n",
    "regions_df_padded[\"end\"] = [int(x) for x in regions_df_padded[\"end\"]]"
   ]
  },
  {
   "cell_type": "code",
   "execution_count": 34,
   "id": "0829abc3-1737-4b9a-92c0-c6b548e20d62",
   "metadata": {
    "execution": {
     "iopub.execute_input": "2023-01-05T10:24:55.197973Z",
     "iopub.status.busy": "2023-01-05T10:24:55.197780Z",
     "iopub.status.idle": "2023-01-05T10:25:17.169596Z",
     "shell.execute_reply": "2023-01-05T10:25:17.168633Z",
     "shell.execute_reply.started": "2023-01-05T10:24:55.197954Z"
    },
    "tags": []
   },
   "outputs": [
    {
     "name": "stdout",
     "output_type": "stream",
     "text": [
      "calculated max values within region Cytotoxic_T_cell\n",
      "calculated max values within region CD14+_monocyte\n",
      "calculated max values within region B_cell\n",
      "calculated max values within region CD16+_monocyte\n",
      "calculated max values within region Dendritic_cell\n",
      "calculated max values within region Natural_killer_cell\n",
      "calculated max values within region CD4+_T_cell\n"
     ]
    },
    {
     "data": {
      "text/plain": [
       "{'Cytotoxic_T_cell': 2.3661723136901855,\n",
       " 'CD14+_monocyte': 2.5766940116882324,\n",
       " 'B_cell': 15.218615531921387,\n",
       " 'CD16+_monocyte': 6.3200907707214355,\n",
       " 'Dendritic_cell': 3.3550257682800293,\n",
       " 'Natural_killer_cell': 5.081324100494385,\n",
       " 'CD4+_T_cell': 2.3617825508117676}"
      ]
     },
     "execution_count": 34,
     "metadata": {},
     "output_type": "execute_result"
    }
   ],
   "source": [
    "## calculate bw_ymax per col\n",
    "region_max_dict_padded = {}\n",
    "for region_name in regions_df_padded.index:\n",
    "    chrom = regions_df_padded.loc[region_name][\"chrom\"]\n",
    "    start = int(regions_df_padded.loc[region_name][\"start\"])\n",
    "    end = int(regions_df_padded.loc[region_name][\"end\"])\n",
    "\n",
    "    bw_ymax_dict_dict = {}\n",
    "    for cell_type in bw_path_dict_dict.keys():\n",
    "        bw_ymax_dict = {}\n",
    "\n",
    "        for tech in bw_path_dict_dict[cell_type].keys():\n",
    "            bw_file = bw_path_dict_dict[cell_type][tech]\n",
    "\n",
    "            # calculate max value of the bigwig within our region\n",
    "            bw = pyBigWig.open(bw_file)\n",
    "            y = bw.values(chrom, start, end)\n",
    "            y = np.nan_to_num(y)\n",
    "\n",
    "            bw_ymax_dict[tech] = y.max()\n",
    "\n",
    "        bw_ymax_dict_dict[cell_type] = max(bw_ymax_dict.values())\n",
    "\n",
    "    region_max_dict_padded[region_name] = bw_ymax_dict_dict[\n",
    "        max(bw_ymax_dict_dict, key=bw_ymax_dict_dict.get)\n",
    "    ]\n",
    "    print(f\"calculated max values within region {region_name}\")\n",
    "\n",
    "region_max_dict_padded"
   ]
  },
  {
   "cell_type": "code",
   "execution_count": 35,
   "id": "487368df-2034-4717-90e3-a58c89afb87d",
   "metadata": {
    "execution": {
     "iopub.execute_input": "2023-01-05T10:25:17.171027Z",
     "iopub.status.busy": "2023-01-05T10:25:17.170798Z",
     "iopub.status.idle": "2023-01-05T10:25:17.183683Z",
     "shell.execute_reply": "2023-01-05T10:25:17.182273Z",
     "shell.execute_reply.started": "2023-01-05T10:25:17.171003Z"
    },
    "tags": []
   },
   "outputs": [
    {
     "data": {
      "text/html": [
       "<div>\n",
       "<style scoped>\n",
       "    .dataframe tbody tr th:only-of-type {\n",
       "        vertical-align: middle;\n",
       "    }\n",
       "\n",
       "    .dataframe tbody tr th {\n",
       "        vertical-align: top;\n",
       "    }\n",
       "\n",
       "    .dataframe thead th {\n",
       "        text-align: right;\n",
       "    }\n",
       "</style>\n",
       "<table border=\"1\" class=\"dataframe\">\n",
       "  <thead>\n",
       "    <tr style=\"text-align: right;\">\n",
       "      <th></th>\n",
       "      <th>chrom</th>\n",
       "      <th>start</th>\n",
       "      <th>end</th>\n",
       "      <th>region_center</th>\n",
       "    </tr>\n",
       "  </thead>\n",
       "  <tbody>\n",
       "    <tr>\n",
       "      <th>Cytotoxic_T_cell</th>\n",
       "      <td>chr9</td>\n",
       "      <td>75009764</td>\n",
       "      <td>75011764</td>\n",
       "      <td>75010764.0</td>\n",
       "    </tr>\n",
       "    <tr>\n",
       "      <th>CD14+_monocyte</th>\n",
       "      <td>chr3</td>\n",
       "      <td>149372887</td>\n",
       "      <td>149374887</td>\n",
       "      <td>149373887.0</td>\n",
       "    </tr>\n",
       "    <tr>\n",
       "      <th>B_cell</th>\n",
       "      <td>chr5</td>\n",
       "      <td>158897642</td>\n",
       "      <td>158899642</td>\n",
       "      <td>158898642.0</td>\n",
       "    </tr>\n",
       "    <tr>\n",
       "      <th>CD16+_monocyte</th>\n",
       "      <td>chr13</td>\n",
       "      <td>48624125</td>\n",
       "      <td>48626125</td>\n",
       "      <td>48625125.0</td>\n",
       "    </tr>\n",
       "    <tr>\n",
       "      <th>Dendritic_cell</th>\n",
       "      <td>chr7</td>\n",
       "      <td>115504370</td>\n",
       "      <td>115506370</td>\n",
       "      <td>115505370.0</td>\n",
       "    </tr>\n",
       "    <tr>\n",
       "      <th>Natural_killer_cell</th>\n",
       "      <td>chr11</td>\n",
       "      <td>65694052</td>\n",
       "      <td>65696052</td>\n",
       "      <td>65695052.0</td>\n",
       "    </tr>\n",
       "    <tr>\n",
       "      <th>CD4+_T_cell</th>\n",
       "      <td>chr3</td>\n",
       "      <td>3296275</td>\n",
       "      <td>3298275</td>\n",
       "      <td>3297275.0</td>\n",
       "    </tr>\n",
       "  </tbody>\n",
       "</table>\n",
       "</div>"
      ],
      "text/plain": [
       "                     chrom      start        end region_center\n",
       "Cytotoxic_T_cell      chr9   75009764   75011764    75010764.0\n",
       "CD14+_monocyte        chr3  149372887  149374887   149373887.0\n",
       "B_cell                chr5  158897642  158899642   158898642.0\n",
       "CD16+_monocyte       chr13   48624125   48626125    48625125.0\n",
       "Dendritic_cell        chr7  115504370  115506370   115505370.0\n",
       "Natural_killer_cell  chr11   65694052   65696052    65695052.0\n",
       "CD4+_T_cell           chr3    3296275    3298275     3297275.0"
      ]
     },
     "execution_count": 35,
     "metadata": {},
     "output_type": "execute_result"
    }
   ],
   "source": [
    "regions_df_padded"
   ]
  },
  {
   "cell_type": "code",
   "execution_count": 36,
   "id": "a8bf0baf-baa1-4446-b5fa-7da1dd12cdf0",
   "metadata": {
    "execution": {
     "iopub.execute_input": "2023-01-05T10:25:17.186235Z",
     "iopub.status.busy": "2023-01-05T10:25:17.185679Z",
     "iopub.status.idle": "2023-01-05T10:25:17.242488Z",
     "shell.execute_reply": "2023-01-05T10:25:17.241688Z",
     "shell.execute_reply.started": "2023-01-05T10:25:17.186177Z"
    },
    "tags": []
   },
   "outputs": [
    {
     "data": {
      "text/plain": [
       "OrderedDict([('Cytotoxic_T_cell', 'chr9:75009514.0-75012014.0'),\n",
       "             ('CD14_monocyte', 'chr3:149372637.0-149375137.0'),\n",
       "             ('B_cell', 'chr5:158897392.0-158899892.0'),\n",
       "             ('CD16_monocyte', 'chr13:48623875.0-48626375.0'),\n",
       "             ('Dendritic_cell', 'chr7:115504120.0-115506620.0'),\n",
       "             ('Natural_killer_cell', 'chr11:65693802.0-65696302.0'),\n",
       "             ('CD4_T_cell', 'chr3:3296025.0-3298525.0')])"
      ]
     },
     "execution_count": 36,
     "metadata": {},
     "output_type": "execute_result"
    }
   ],
   "source": [
    "regions_dict_padded = OrderedDict({})\n",
    "\n",
    "for supersample, path in merged_dar_path_dict.items():\n",
    "    # print(supersample)\n",
    "    df = pd.read_csv(path, sep=\"\\t\", header=None)\n",
    "    df.columns = \"chrom start end cell_type log2fc strand p_val\".split()\n",
    "    # print(df.iloc[0])\n",
    "\n",
    "    cell_type = supersample.split(\"__\")[-1].replace(\"+\", \"\")\n",
    "    region = f\"{df.iloc[0]['chrom']}:{df.iloc[0]['start']- region_forced_length / 2}-{df.iloc[0]['end']+region_forced_length / 2}\"\n",
    "    regions_dict_padded[cell_type] = region\n",
    "\n",
    "regions_dict_padded"
   ]
  },
  {
   "cell_type": "code",
   "execution_count": 37,
   "id": "38c8b119-e2e0-45f4-b55f-b144dad4674e",
   "metadata": {
    "execution": {
     "iopub.execute_input": "2023-01-05T10:25:17.243506Z",
     "iopub.status.busy": "2023-01-05T10:25:17.243314Z",
     "iopub.status.idle": "2023-01-05T10:25:17.248812Z",
     "shell.execute_reply": "2023-01-05T10:25:17.248122Z",
     "shell.execute_reply.started": "2023-01-05T10:25:17.243485Z"
    },
    "tags": []
   },
   "outputs": [
    {
     "data": {
      "text/plain": [
       "dict_keys(['CD14_monocyte', 'Dendritic_cell', 'CD16_monocyte', 'CD4_T_cell', 'B_cell', 'Natural_killer_cell', 'Cytotoxic_T_cell'])"
      ]
     },
     "execution_count": 37,
     "metadata": {},
     "output_type": "execute_result"
    }
   ],
   "source": [
    "bw_path_dict_dict.keys()"
   ]
  },
  {
   "cell_type": "code",
   "execution_count": 38,
   "id": "b896d690-25f1-4988-8391-04d65eab1ff3",
   "metadata": {
    "execution": {
     "iopub.execute_input": "2023-01-05T10:25:17.250058Z",
     "iopub.status.busy": "2023-01-05T10:25:17.249680Z",
     "iopub.status.idle": "2023-01-05T10:25:17.260540Z",
     "shell.execute_reply": "2023-01-05T10:25:17.259684Z",
     "shell.execute_reply.started": "2023-01-05T10:25:17.250037Z"
    },
    "tags": []
   },
   "outputs": [],
   "source": [
    "regions_df_padded.index = [x.replace(\"+\", \"\") for x in regions_df_padded.index]"
   ]
  },
  {
   "cell_type": "code",
   "execution_count": 39,
   "id": "cf525cab-8d47-40ca-8484-33e691d599b4",
   "metadata": {
    "execution": {
     "iopub.execute_input": "2023-01-05T10:25:17.261766Z",
     "iopub.status.busy": "2023-01-05T10:25:17.261511Z",
     "iopub.status.idle": "2023-01-05T10:25:17.277940Z",
     "shell.execute_reply": "2023-01-05T10:25:17.276759Z",
     "shell.execute_reply.started": "2023-01-05T10:25:17.261740Z"
    },
    "tags": []
   },
   "outputs": [
    {
     "data": {
      "text/plain": [
       "{'Cytotoxic_T_cell': 'final_consensus_peaks/master_sub_1.FIXEDCELLS__SCREEN_consensus_peaks.bed',\n",
       " 'CD14_monocyte': 'final_consensus_peaks/master_sub_1.FIXEDCELLS__SCREEN_consensus_peaks.bed',\n",
       " 'B_cell': 'final_consensus_peaks/master_sub_1.FIXEDCELLS__SCREEN_consensus_peaks.bed',\n",
       " 'CD16_monocyte': 'final_consensus_peaks/master_sub_1.FIXEDCELLS__SCREEN_consensus_peaks.bed',\n",
       " 'Dendritic_cell': 'final_consensus_peaks/master_sub_1.FIXEDCELLS__SCREEN_consensus_peaks.bed',\n",
       " 'Natural_killer_cell': 'final_consensus_peaks/master_sub_1.FIXEDCELLS__SCREEN_consensus_peaks.bed',\n",
       " 'CD4_T_cell': 'final_consensus_peaks/master_sub_1.FIXEDCELLS__SCREEN_consensus_peaks.bed'}"
      ]
     },
     "execution_count": 39,
     "metadata": {},
     "output_type": "execute_result"
    }
   ],
   "source": [
    "peak_path_dict = {\n",
    "    x.replace(\n",
    "        \"+\", \"\"\n",
    "    ): \"final_consensus_peaks/master_sub_1.FIXEDCELLS__SCREEN_consensus_peaks.bed\"\n",
    "    for x in regions_dict.keys()\n",
    "}\n",
    "peak_path_dict"
   ]
  },
  {
   "cell_type": "code",
   "execution_count": 40,
   "id": "e6d39cd1-0618-488c-8fe3-edf6cade9f0f",
   "metadata": {
    "execution": {
     "iopub.execute_input": "2023-01-05T10:25:17.279607Z",
     "iopub.status.busy": "2023-01-05T10:25:17.279265Z",
     "iopub.status.idle": "2023-01-05T10:25:17.290047Z",
     "shell.execute_reply": "2023-01-05T10:25:17.289118Z",
     "shell.execute_reply.started": "2023-01-05T10:25:17.279569Z"
    },
    "tags": []
   },
   "outputs": [
    {
     "data": {
      "text/plain": [
       "True"
      ]
     },
     "execution_count": 40,
     "metadata": {},
     "output_type": "execute_result"
    }
   ],
   "source": [
    "set(regions_df_padded.index) == set(regions_dict_padded.keys()) == set(\n",
    "    bw_path_dict_dict.keys()\n",
    ") == set(peak_path_dict.keys())"
   ]
  },
  {
   "cell_type": "code",
   "execution_count": 42,
   "id": "19a25a27-a04e-4a20-a673-11657f48c14b",
   "metadata": {
    "execution": {
     "iopub.execute_input": "2023-01-05T10:26:41.978702Z",
     "iopub.status.busy": "2023-01-05T10:26:41.978047Z",
     "iopub.status.idle": "2023-01-05T10:27:13.074085Z",
     "shell.execute_reply": "2023-01-05T10:27:13.072925Z",
     "shell.execute_reply.started": "2023-01-05T10:26:41.978640Z"
    },
    "tags": []
   },
   "outputs": [
    {
     "name": "stdout",
     "output_type": "stream",
     "text": [
      "drawing column for region Cytotoxic_T_cell\n",
      "\t10xv1: alias 10x v1\n",
      "\t\tbw: per_tech_cell_type_bigwigs/master_sub_1.FIXEDCELLS__CONSENSUS_pseudobulk_bw_files_nonnorm/10xv1_Cytotoxic_T_cell.bw\n",
      "\tddseq: alias ddSEQ SureCell\n",
      "\t\tbw: per_tech_cell_type_bigwigs/master_sub_1.FIXEDCELLS__CONSENSUS_pseudobulk_bw_files_nonnorm/ddseq_Cytotoxic_T_cell.bw\n",
      "\ts3atac: alias s3-ATAC\n",
      "\t\tbw: per_tech_cell_type_bigwigs/master_sub_1.FIXEDCELLS__CONSENSUS_pseudobulk_bw_files_nonnorm/s3atac_Cytotoxic_T_cell.bw\n",
      "\tmtscatac: alias mtscATAC-seq\n",
      "\t\tbw: per_tech_cell_type_bigwigs/master_sub_1.FIXEDCELLS__CONSENSUS_pseudobulk_bw_files_nonnorm/mtscatac_Cytotoxic_T_cell.bw\n",
      "\t10xv2: alias 10x v2\n",
      "\t\tbw: per_tech_cell_type_bigwigs/master_sub_1.FIXEDCELLS__CONSENSUS_pseudobulk_bw_files_nonnorm/10xv2_Cytotoxic_T_cell.bw\n",
      "\t10xmultiome: alias 10x Multiome\n",
      "\t\tbw: per_tech_cell_type_bigwigs/master_sub_1.FIXEDCELLS__CONSENSUS_pseudobulk_bw_files_nonnorm/10xmultiome_Cytotoxic_T_cell.bw\n",
      "\thydrop: alias HyDrop\n",
      "\t\tbw: per_tech_cell_type_bigwigs/master_sub_1.FIXEDCELLS__CONSENSUS_pseudobulk_bw_files_nonnorm/hydrop_Cytotoxic_T_cell.bw\n",
      "\t10xv11: alias 10x v1.1\n",
      "\t\tbw: per_tech_cell_type_bigwigs/master_sub_1.FIXEDCELLS__CONSENSUS_pseudobulk_bw_files_nonnorm/10xv11_Cytotoxic_T_cell.bw\n",
      "drawing column for region CD14_monocyte\n",
      "\t10xv2: alias 10x v2\n",
      "\t\tbw: per_tech_cell_type_bigwigs/master_sub_1.FIXEDCELLS__CONSENSUS_pseudobulk_bw_files_nonnorm/10xv2_CD14_monocyte.bw\n",
      "\thydrop: alias HyDrop\n",
      "\t\tbw: per_tech_cell_type_bigwigs/master_sub_1.FIXEDCELLS__CONSENSUS_pseudobulk_bw_files_nonnorm/hydrop_CD14_monocyte.bw\n",
      "\t10xmultiome: alias 10x Multiome\n",
      "\t\tbw: per_tech_cell_type_bigwigs/master_sub_1.FIXEDCELLS__CONSENSUS_pseudobulk_bw_files_nonnorm/10xmultiome_CD14_monocyte.bw\n",
      "\tddseq: alias ddSEQ SureCell\n",
      "\t\tbw: per_tech_cell_type_bigwigs/master_sub_1.FIXEDCELLS__CONSENSUS_pseudobulk_bw_files_nonnorm/ddseq_CD14_monocyte.bw\n",
      "\tmtscatac: alias mtscATAC-seq\n",
      "\t\tbw: per_tech_cell_type_bigwigs/master_sub_1.FIXEDCELLS__CONSENSUS_pseudobulk_bw_files_nonnorm/mtscatac_CD14_monocyte.bw\n",
      "\ts3atac: alias s3-ATAC\n",
      "\t\tbw: per_tech_cell_type_bigwigs/master_sub_1.FIXEDCELLS__CONSENSUS_pseudobulk_bw_files_nonnorm/s3atac_CD14_monocyte.bw\n",
      "\t10xv11: alias 10x v1.1\n",
      "\t\tbw: per_tech_cell_type_bigwigs/master_sub_1.FIXEDCELLS__CONSENSUS_pseudobulk_bw_files_nonnorm/10xv11_CD14_monocyte.bw\n",
      "\t10xv1: alias 10x v1\n",
      "\t\tbw: per_tech_cell_type_bigwigs/master_sub_1.FIXEDCELLS__CONSENSUS_pseudobulk_bw_files_nonnorm/10xv1_CD14_monocyte.bw\n",
      "drawing column for region B_cell\n",
      "\t10xmultiome: alias 10x Multiome\n",
      "\t\tbw: per_tech_cell_type_bigwigs/master_sub_1.FIXEDCELLS__CONSENSUS_pseudobulk_bw_files_nonnorm/10xmultiome_B_cell.bw\n",
      "\tmtscatac: alias mtscATAC-seq\n",
      "\t\tbw: per_tech_cell_type_bigwigs/master_sub_1.FIXEDCELLS__CONSENSUS_pseudobulk_bw_files_nonnorm/mtscatac_B_cell.bw\n",
      "\t10xv11: alias 10x v1.1\n",
      "\t\tbw: per_tech_cell_type_bigwigs/master_sub_1.FIXEDCELLS__CONSENSUS_pseudobulk_bw_files_nonnorm/10xv11_B_cell.bw\n",
      "\tddseq: alias ddSEQ SureCell\n",
      "\t\tbw: per_tech_cell_type_bigwigs/master_sub_1.FIXEDCELLS__CONSENSUS_pseudobulk_bw_files_nonnorm/ddseq_B_cell.bw\n",
      "\thydrop: alias HyDrop\n",
      "\t\tbw: per_tech_cell_type_bigwigs/master_sub_1.FIXEDCELLS__CONSENSUS_pseudobulk_bw_files_nonnorm/hydrop_B_cell.bw\n",
      "\ts3atac: alias s3-ATAC\n",
      "\t\tbw: per_tech_cell_type_bigwigs/master_sub_1.FIXEDCELLS__CONSENSUS_pseudobulk_bw_files_nonnorm/s3atac_B_cell.bw\n",
      "\t10xv1: alias 10x v1\n",
      "\t\tbw: per_tech_cell_type_bigwigs/master_sub_1.FIXEDCELLS__CONSENSUS_pseudobulk_bw_files_nonnorm/10xv1_B_cell.bw\n",
      "\t10xv2: alias 10x v2\n",
      "\t\tbw: per_tech_cell_type_bigwigs/master_sub_1.FIXEDCELLS__CONSENSUS_pseudobulk_bw_files_nonnorm/10xv2_B_cell.bw\n",
      "drawing column for region CD16_monocyte\n",
      "\t10xv1: alias 10x v1\n",
      "\t\tbw: per_tech_cell_type_bigwigs/master_sub_1.FIXEDCELLS__CONSENSUS_pseudobulk_bw_files_nonnorm/10xv1_CD16_monocyte.bw\n",
      "\tmtscatac: alias mtscATAC-seq\n",
      "\t\tbw: per_tech_cell_type_bigwigs/master_sub_1.FIXEDCELLS__CONSENSUS_pseudobulk_bw_files_nonnorm/mtscatac_CD16_monocyte.bw\n",
      "\thydrop: alias HyDrop\n",
      "\t\tbw: per_tech_cell_type_bigwigs/master_sub_1.FIXEDCELLS__CONSENSUS_pseudobulk_bw_files_nonnorm/hydrop_CD16_monocyte.bw\n",
      "\t10xmultiome: alias 10x Multiome\n",
      "\t\tbw: per_tech_cell_type_bigwigs/master_sub_1.FIXEDCELLS__CONSENSUS_pseudobulk_bw_files_nonnorm/10xmultiome_CD16_monocyte.bw\n",
      "\ts3atac: alias s3-ATAC\n",
      "\t\tbw: per_tech_cell_type_bigwigs/master_sub_1.FIXEDCELLS__CONSENSUS_pseudobulk_bw_files_nonnorm/s3atac_CD16_monocyte.bw\n",
      "\t10xv2: alias 10x v2\n",
      "\t\tbw: per_tech_cell_type_bigwigs/master_sub_1.FIXEDCELLS__CONSENSUS_pseudobulk_bw_files_nonnorm/10xv2_CD16_monocyte.bw\n",
      "\tddseq: alias ddSEQ SureCell\n",
      "\t\tbw: per_tech_cell_type_bigwigs/master_sub_1.FIXEDCELLS__CONSENSUS_pseudobulk_bw_files_nonnorm/ddseq_CD16_monocyte.bw\n",
      "\t10xv11: alias 10x v1.1\n",
      "\t\tbw: per_tech_cell_type_bigwigs/master_sub_1.FIXEDCELLS__CONSENSUS_pseudobulk_bw_files_nonnorm/10xv11_CD16_monocyte.bw\n",
      "drawing column for region Dendritic_cell\n",
      "\tmtscatac: alias mtscATAC-seq\n",
      "\t\tbw: per_tech_cell_type_bigwigs/master_sub_1.FIXEDCELLS__CONSENSUS_pseudobulk_bw_files_nonnorm/mtscatac_Dendritic_cell.bw\n",
      "\t10xv2: alias 10x v2\n",
      "\t\tbw: per_tech_cell_type_bigwigs/master_sub_1.FIXEDCELLS__CONSENSUS_pseudobulk_bw_files_nonnorm/10xv2_Dendritic_cell.bw\n",
      "\tddseq: alias ddSEQ SureCell\n",
      "\t\tbw: per_tech_cell_type_bigwigs/master_sub_1.FIXEDCELLS__CONSENSUS_pseudobulk_bw_files_nonnorm/ddseq_Dendritic_cell.bw\n",
      "\t10xv1: alias 10x v1\n",
      "\t\tbw: per_tech_cell_type_bigwigs/master_sub_1.FIXEDCELLS__CONSENSUS_pseudobulk_bw_files_nonnorm/10xv1_Dendritic_cell.bw\n",
      "\t10xmultiome: alias 10x Multiome\n",
      "\t\tbw: per_tech_cell_type_bigwigs/master_sub_1.FIXEDCELLS__CONSENSUS_pseudobulk_bw_files_nonnorm/10xmultiome_Dendritic_cell.bw\n",
      "\ts3atac: alias s3-ATAC\n",
      "\t\tbw: per_tech_cell_type_bigwigs/master_sub_1.FIXEDCELLS__CONSENSUS_pseudobulk_bw_files_nonnorm/s3atac_Dendritic_cell.bw\n",
      "\t10xv11: alias 10x v1.1\n",
      "\t\tbw: per_tech_cell_type_bigwigs/master_sub_1.FIXEDCELLS__CONSENSUS_pseudobulk_bw_files_nonnorm/10xv11_Dendritic_cell.bw\n",
      "\thydrop: alias HyDrop\n",
      "\t\tbw: per_tech_cell_type_bigwigs/master_sub_1.FIXEDCELLS__CONSENSUS_pseudobulk_bw_files_nonnorm/hydrop_Dendritic_cell.bw\n",
      "drawing column for region Natural_killer_cell\n",
      "\ts3atac: alias s3-ATAC\n",
      "\t\tbw: per_tech_cell_type_bigwigs/master_sub_1.FIXEDCELLS__CONSENSUS_pseudobulk_bw_files_nonnorm/s3atac_Natural_killer_cell.bw\n",
      "\t10xv1: alias 10x v1\n",
      "\t\tbw: per_tech_cell_type_bigwigs/master_sub_1.FIXEDCELLS__CONSENSUS_pseudobulk_bw_files_nonnorm/10xv1_Natural_killer_cell.bw\n",
      "\tddseq: alias ddSEQ SureCell\n",
      "\t\tbw: per_tech_cell_type_bigwigs/master_sub_1.FIXEDCELLS__CONSENSUS_pseudobulk_bw_files_nonnorm/ddseq_Natural_killer_cell.bw\n",
      "\t10xv11: alias 10x v1.1\n",
      "\t\tbw: per_tech_cell_type_bigwigs/master_sub_1.FIXEDCELLS__CONSENSUS_pseudobulk_bw_files_nonnorm/10xv11_Natural_killer_cell.bw\n",
      "\t10xv2: alias 10x v2\n",
      "\t\tbw: per_tech_cell_type_bigwigs/master_sub_1.FIXEDCELLS__CONSENSUS_pseudobulk_bw_files_nonnorm/10xv2_Natural_killer_cell.bw\n",
      "\tmtscatac: alias mtscATAC-seq\n",
      "\t\tbw: per_tech_cell_type_bigwigs/master_sub_1.FIXEDCELLS__CONSENSUS_pseudobulk_bw_files_nonnorm/mtscatac_Natural_killer_cell.bw\n",
      "\t10xmultiome: alias 10x Multiome\n",
      "\t\tbw: per_tech_cell_type_bigwigs/master_sub_1.FIXEDCELLS__CONSENSUS_pseudobulk_bw_files_nonnorm/10xmultiome_Natural_killer_cell.bw\n",
      "\thydrop: alias HyDrop\n",
      "\t\tbw: per_tech_cell_type_bigwigs/master_sub_1.FIXEDCELLS__CONSENSUS_pseudobulk_bw_files_nonnorm/hydrop_Natural_killer_cell.bw\n",
      "drawing column for region CD4_T_cell\n",
      "\tmtscatac: alias mtscATAC-seq\n",
      "\t\tbw: per_tech_cell_type_bigwigs/master_sub_1.FIXEDCELLS__CONSENSUS_pseudobulk_bw_files_nonnorm/mtscatac_CD4_T_cell.bw\n",
      "\t10xv11: alias 10x v1.1\n",
      "\t\tbw: per_tech_cell_type_bigwigs/master_sub_1.FIXEDCELLS__CONSENSUS_pseudobulk_bw_files_nonnorm/10xv11_CD4_T_cell.bw\n",
      "\ts3atac: alias s3-ATAC\n",
      "\t\tbw: per_tech_cell_type_bigwigs/master_sub_1.FIXEDCELLS__CONSENSUS_pseudobulk_bw_files_nonnorm/s3atac_CD4_T_cell.bw\n",
      "\t10xv2: alias 10x v2\n",
      "\t\tbw: per_tech_cell_type_bigwigs/master_sub_1.FIXEDCELLS__CONSENSUS_pseudobulk_bw_files_nonnorm/10xv2_CD4_T_cell.bw\n",
      "\t10xv1: alias 10x v1\n",
      "\t\tbw: per_tech_cell_type_bigwigs/master_sub_1.FIXEDCELLS__CONSENSUS_pseudobulk_bw_files_nonnorm/10xv1_CD4_T_cell.bw\n",
      "\thydrop: alias HyDrop\n",
      "\t\tbw: per_tech_cell_type_bigwigs/master_sub_1.FIXEDCELLS__CONSENSUS_pseudobulk_bw_files_nonnorm/hydrop_CD4_T_cell.bw\n",
      "\t10xmultiome: alias 10x Multiome\n",
      "\t\tbw: per_tech_cell_type_bigwigs/master_sub_1.FIXEDCELLS__CONSENSUS_pseudobulk_bw_files_nonnorm/10xmultiome_CD4_T_cell.bw\n",
      "\tddseq: alias ddSEQ SureCell\n",
      "\t\tbw: per_tech_cell_type_bigwigs/master_sub_1.FIXEDCELLS__CONSENSUS_pseudobulk_bw_files_nonnorm/ddseq_CD4_T_cell.bw\n"
     ]
    },
    {
     "data": {
      "image/png": "[encoded data removed]",
      "text/plain": [
       "<Figure size 432x576 with 119 Axes>"
      ]
     },
     "execution_count": 42,
     "metadata": {},
     "output_type": "execute_result"
    },
    {
     "data": {
      "image/png": "[encoded data removed]",
      "text/plain": [
       "<Figure size 432x576 with 119 Axes>"
      ]
     },
     "metadata": {},
     "output_type": "display_data"
    }
   ],
   "source": [
    "## create the gridspec\n",
    "fig = plt.figure(figsize=figsize, facecolor=\"white\")\n",
    "\n",
    "# define ratios between all elements in the graphic\n",
    "height_ratios = [0.2]  # for gtf\n",
    "height_ratios.append(len(bw_path_dict_dict))  # for bws\n",
    "height_ratios.append(0.2)  # for text box\n",
    "\n",
    "# create a global frame for the 3 modalities shown (bigwigs, gtf, and text)\n",
    "frame = gridspec.GridSpec(3, 1, wspace=0.25, hspace=0.17, height_ratios=height_ratios)\n",
    "\n",
    "# create a gridspec for each modality within the frame\n",
    "n_cols = len(regions_dict)\n",
    "n_rows = len(tech_order)\n",
    "\n",
    "text_grid = gridspec.GridSpecFromSubplotSpec(\n",
    "    1, n_cols, wspace=0.05, hspace=0, subplot_spec=frame[0, 0]\n",
    ")\n",
    "bw_dar_grid = gridspec.GridSpecFromSubplotSpec(\n",
    "    n_rows, n_cols, wspace=0.05, hspace=-0.6, subplot_spec=frame[1, 0]\n",
    ")\n",
    "gtf_grid = gridspec.GridSpecFromSubplotSpec(\n",
    "    max_genes, n_cols, wspace=0.05, hspace=0, subplot_spec=frame[2, 0]\n",
    ")\n",
    "\n",
    "## iterate over all regions (=columns in final figure)\n",
    "for region_name in regions_df_padded.index:\n",
    "    if verbose == True:\n",
    "        print(f\"drawing column for region {region_name}\")\n",
    "    region_index = list(regions_df_padded.index).index(\n",
    "        region_name\n",
    "    )  # get the region index for column indexing\n",
    "\n",
    "    # the genome coordinates over which we will be plotting:\n",
    "    chrom = regions_df_padded.loc[region_name][\"chrom\"]\n",
    "    start = int(regions_df_padded.loc[region_name][\"start\"])\n",
    "    end = int(regions_df_padded.loc[region_name][\"end\"])\n",
    "    x = np.array(range(start, end, 1))\n",
    "\n",
    "    # set ymax according to region\n",
    "    # bw_ymax = region_max_dict[region_name]\n",
    "\n",
    "    # you can also set global ymax:\n",
    "    bw_ymax = region_max_dict_padded[\n",
    "        max(region_max_dict_padded, key=region_max_dict_padded.get)\n",
    "    ]\n",
    "\n",
    "    ## iterate over all bigwigs (=rows in final figure)\n",
    "    for key in bw_path_dict_dict[region_name].keys():\n",
    "        if verbose == True:\n",
    "            print(f\"\\t{key}: alias {tech_alias_dict[key]}\")\n",
    "\n",
    "        bw_index = tech_order.index(key)  # get the bw index for row indexing\n",
    "\n",
    "        # create a new gridspec for bw + dar\n",
    "        if \"regions_dict_padded\" in locals() or \"peak_path_dict\" in locals():\n",
    "            bw_dar_subgrid = gridspec.GridSpecFromSubplotSpec(\n",
    "                2,\n",
    "                1,\n",
    "                wspace=0,\n",
    "                hspace=0,\n",
    "                subplot_spec=bw_dar_grid[bw_index, region_index],\n",
    "                height_ratios=[20, 1],\n",
    "            )\n",
    "        else:\n",
    "            bw_dar_subgrid = gridspec.GridSpecFromSubplotSpec(\n",
    "                1,\n",
    "                1,\n",
    "                wspace=0.05,\n",
    "                hspace=0.2,\n",
    "                subplot_spec=bw_dar_grid[bw_index, region_index],\n",
    "            )\n",
    "\n",
    "        # open the bigwig\n",
    "        bw_file = bw_path_dict_dict[region_name][key]\n",
    "        if verbose == True:\n",
    "            print(f\"\\t\\tbw: {bw_file}\")\n",
    "\n",
    "        bw = pyBigWig.open(bw_file)\n",
    "        y = bw.values(chrom, start, end)\n",
    "        y = np.nan_to_num(y)\n",
    "\n",
    "        # now plot the bigwig in the gridspec\n",
    "        ax = plt.Subplot(fig, bw_dar_subgrid[0, 0])\n",
    "        ax.fill_between(\n",
    "            x, y1=y, y2=0, step=\"mid\", linewidth=0, color=tech_color_palette[key]\n",
    "        )\n",
    "        ax.patch.set_alpha(0)\n",
    "\n",
    "        # figure settings\n",
    "        ax.set_xlim([x.min(), x.max()])\n",
    "        ax.set_ylim([0, bw_ymax])\n",
    "        ax.set_xticks([])\n",
    "        ax.set_yticks([])\n",
    "\n",
    "        # add a ylabel only if it's the last column\n",
    "        if region_name == regions_df_padded.index[-1]:\n",
    "            ax.yaxis.set_label_position(\"right\")\n",
    "            ax.set_ylabel(\n",
    "                tech_alias_dict[key],\n",
    "                rotation=0,\n",
    "                horizontalalignment=\"left\",\n",
    "                verticalalignment=\"bottom\",\n",
    "            )\n",
    "            ax.yaxis.set_label_coords(1.05, 0.05)\n",
    "\n",
    "        sns.despine(top=True, right=True, left=True, bottom=False, ax=ax)\n",
    "        for spine in ax.spines.values():\n",
    "            spine.set_edgecolor(tech_color_palette[key])\n",
    "\n",
    "        # add to the fig\n",
    "        fig.add_subplot(ax, transparent=True)\n",
    "\n",
    "        # first draw peaks if they are defined\n",
    "        if \"peak_path_dict\" in locals():\n",
    "            # get peaks that overlap the region to be plotted\n",
    "            peak = BedTool(peak_path_dict[region_name])\n",
    "            peak_region_intersection = peak.intersect(\n",
    "                BedTool.from_dataframe(df=regions_df_padded), wa=True, wb=True\n",
    "            )\n",
    "            peak_region_intersection = peak_region_intersection.to_dataframe(\n",
    "                header=None\n",
    "            )\n",
    "            peak_region_intersection = peak_region_intersection.iloc[:, :4]\n",
    "            peak_region_intersection.columns = \"chr start end name\".split()\n",
    "\n",
    "            # now plot the dars in the gridspec\n",
    "            ax = plt.Subplot(fig, bw_dar_subgrid[1, 0])\n",
    "            for element in peak_region_intersection.index:\n",
    "                part = peak_region_intersection.loc[element]\n",
    "                peak_start = part[\"start\"]\n",
    "                peak_end = part[\"end\"]\n",
    "\n",
    "                # plot a thin line, with beginning and ending as x coordinates, and bw_ymin as y coordinates\n",
    "                # NOTE: linewidth won't do much here, it is more determined by the 'space' you give to this part of the plot in height_ratios!\n",
    "                ax.plot([peak_start, peak_end], [0, 0], linewidth=4, c=peak_color)\n",
    "\n",
    "            # figure settings\n",
    "            ax.set_ylim([-1, +1])\n",
    "            addax()\n",
    "\n",
    "        # then draw dars if they are defined\n",
    "        if \"regions_path_dict\" in locals():\n",
    "            # get DARs that overlap the region to be plotted\n",
    "            dar = BedTool(regions_path_dict[region_name])\n",
    "            if verbose == True:\n",
    "                print(f\"\\t\\tdar: {regions_path_dict[region_name]}\")\n",
    "\n",
    "            dar_region_intersection = dar.intersect(\n",
    "                BedTool.from_dataframe(df=regions_df_padded), wa=True, wb=True\n",
    "            )\n",
    "            dar_region_intersection = dar_region_intersection.to_dataframe(header=None)\n",
    "            dar_region_intersection = dar_region_intersection.iloc[:, :4]\n",
    "            dar_region_intersection.columns = \"chr start end name\".split()\n",
    "\n",
    "            # now plot the dars in the gridspec\n",
    "            ax = plt.Subplot(fig, bw_dar_subgrid[1, 0])\n",
    "            for element in dar_region_intersection.index:\n",
    "                part = dar_region_intersection.loc[element]\n",
    "                dar_start = part[\"start\"]\n",
    "                dar_end = part[\"end\"]\n",
    "\n",
    "                # plot a thin line, with beginning and ending as x coordinates, and bw_ymin as y coordinates\n",
    "                # NOTE: linewidth won't do much here, it is more determined by the 'space' you give to this part of the plot in height_ratios!\n",
    "                ax.plot([dar_start, dar_end], [0, 0], linewidth=4, c=dar_color)\n",
    "\n",
    "            # figure settings\n",
    "            ax.set_ylim([-1, +1])\n",
    "            addax()\n",
    "\n",
    "    ## draw the genes of interest, from our gtf\n",
    "    # intersect genes gtf with the region of interest\n",
    "    if plot_genes == True:\n",
    "        gtf = BedTool(gtf_file)\n",
    "        gtf_region_intersection = gtf.intersect(\n",
    "            BedTool.from_dataframe(df=regions_df_padded), wa=True, wb=True\n",
    "        )\n",
    "        gtf_region_intersection = gtf_region_intersection.to_dataframe(header=None)\n",
    "        gtf_region_intersection = gtf_region_intersection.iloc[:, :9]\n",
    "        gtf_region_intersection.columns = (\n",
    "            \"chr db feature start end score strand frame attribute\".split()\n",
    "        )\n",
    "\n",
    "        ## iterate over all genes of interest in genes_dict\n",
    "        for gene in genes_dict[region_name]:\n",
    "            gene_index = genes_dict[region_name].index(\n",
    "                gene\n",
    "            )  # get gene index for row indexing\n",
    "\n",
    "            # get gtf intersection with only gene body and exons of this particular gene\n",
    "            gtf_region_intersection_gene = gtf_region_intersection[\n",
    "                gtf_region_intersection[\"attribute\"].str.contains(gene)\n",
    "            ]\n",
    "            gtf_region_intersection_gene = gtf_region_intersection_gene[\n",
    "                gtf_region_intersection_gene[\"feature\"].str.contains(\"gene|exon\")\n",
    "            ]\n",
    "\n",
    "            # now plot the gene parts (gene body and gene exon)\n",
    "            ax = plt.Subplot(fig, gtf_grid[gene_index, region_index])\n",
    "\n",
    "            # iterate over all parts to plot them\n",
    "            for element in gtf_region_intersection_gene.index:\n",
    "                part = gtf_region_intersection_gene.loc[element]\n",
    "\n",
    "                # make exons thick\n",
    "                if part[\"feature\"] == \"exon\":\n",
    "                    exon_start = part[\"start\"]\n",
    "                    exon_end = part[\"end\"]\n",
    "                    # draw rectangle for exon\n",
    "                    rect = mpatches.Rectangle(\n",
    "                        (exon_start, exon_bottom),\n",
    "                        exon_end - exon_start,\n",
    "                        exon_height,\n",
    "                        fill=True,\n",
    "                        color=\"k\",\n",
    "                        linewidth=0,\n",
    "                    )\n",
    "                    ax.add_patch(rect)\n",
    "\n",
    "                # make the gene body a thin line, drawn at the end so it will always display on top\n",
    "                elif part[\"feature\"] == \"gene\":\n",
    "                    gene_start = part[\"start\"]\n",
    "                    gene_end = part[\"end\"]\n",
    "                    rect = mpatches.Rectangle(\n",
    "                        (gene_start, gene_bottom),\n",
    "                        gene_end - gene_start,\n",
    "                        gene_height,\n",
    "                        fill=True,\n",
    "                        color=\"k\",\n",
    "                        linewidth=0,\n",
    "                    )\n",
    "                    ax.add_patch(rect)\n",
    "\n",
    "        if verbose == True:\n",
    "            print(\n",
    "                f\"\\tfor region {region_name}, drew gene {gene}, {len(gtf_region_intersection_gene.index)} individual items drawn\\n\"\n",
    "            )\n",
    "\n",
    "        # figure settings\n",
    "        ax.set_ylim([exon_bottom, -exon_bottom])\n",
    "        ax.set_xlabel(gene, fontsize=10)\n",
    "        addax()\n",
    "\n",
    "    ## finally, add a little text that shows which regions you're plotting\n",
    "    ax = plt.Subplot(fig, text_grid[0, region_index])\n",
    "\n",
    "    region = regions_dict_padded[region_name]\n",
    "    length = round((end - start) / 1000)\n",
    "    label = f\"{region},\\n{length} kb\"\n",
    "\n",
    "    ax.set_xlabel(label, fontsize=6)\n",
    "    addax()\n",
    "\n",
    "fig.savefig(\n",
    "    \"plts_track/libds_track.png\",\n",
    "    dpi=350,\n",
    "    bbox_inches=\"tight\",\n",
    "    pad_inches=0,\n",
    "    transparent=False,\n",
    "    facecolor=\"white\",\n",
    ")\n",
    "fig.savefig(\n",
    "    \"plts_track/libds_track.svg\",\n",
    "    dpi=350,\n",
    "    bbox_inches=\"tight\",\n",
    "    pad_inches=0,\n",
    "    transparent=False,\n",
    "    facecolor=\"white\",\n",
    ")\n",
    "\n",
    "fig"
   ]
  },
  {
   "cell_type": "markdown",
   "id": "07c52b80-335e-42c5-8b92-d99a199a0f8f",
   "metadata": {
    "tags": []
   },
   "source": [
    "# now same but without normalisation"
   ]
  },
  {
   "cell_type": "code",
   "execution_count": 43,
   "id": "7e29fbdc-fc42-4162-9835-0688eff01728",
   "metadata": {
    "execution": {
     "iopub.execute_input": "2023-01-05T10:27:13.075605Z",
     "iopub.status.busy": "2023-01-05T10:27:13.075392Z",
     "iopub.status.idle": "2023-01-05T10:27:13.097011Z",
     "shell.execute_reply": "2023-01-05T10:27:13.096236Z",
     "shell.execute_reply.started": "2023-01-05T10:27:13.075582Z"
    },
    "tags": []
   },
   "outputs": [
    {
     "data": {
      "text/plain": [
       "{'CD14_monocyte': {'10xv2': 'per_tech_cell_type_bigwigs_nonnorm/master_sub_1.FIXEDCELLS__CONSENSUS_pseudobulk_bw_files_nonnorm/10xv2_CD14_monocyte.bw',\n",
       "  'hydrop': 'per_tech_cell_type_bigwigs_nonnorm/master_sub_1.FIXEDCELLS__CONSENSUS_pseudobulk_bw_files_nonnorm/hydrop_CD14_monocyte.bw',\n",
       "  '10xmultiome': 'per_tech_cell_type_bigwigs_nonnorm/master_sub_1.FIXEDCELLS__CONSENSUS_pseudobulk_bw_files_nonnorm/10xmultiome_CD14_monocyte.bw',\n",
       "  'ddseq': 'per_tech_cell_type_bigwigs_nonnorm/master_sub_1.FIXEDCELLS__CONSENSUS_pseudobulk_bw_files_nonnorm/ddseq_CD14_monocyte.bw',\n",
       "  'mtscatac': 'per_tech_cell_type_bigwigs_nonnorm/master_sub_1.FIXEDCELLS__CONSENSUS_pseudobulk_bw_files_nonnorm/mtscatac_CD14_monocyte.bw',\n",
       "  's3atac': 'per_tech_cell_type_bigwigs_nonnorm/master_sub_1.FIXEDCELLS__CONSENSUS_pseudobulk_bw_files_nonnorm/s3atac_CD14_monocyte.bw',\n",
       "  '10xv11': 'per_tech_cell_type_bigwigs_nonnorm/master_sub_1.FIXEDCELLS__CONSENSUS_pseudobulk_bw_files_nonnorm/10xv11_CD14_monocyte.bw',\n",
       "  '10xv1': 'per_tech_cell_type_bigwigs_nonnorm/master_sub_1.FIXEDCELLS__CONSENSUS_pseudobulk_bw_files_nonnorm/10xv1_CD14_monocyte.bw'},\n",
       " 'Dendritic_cell': {'mtscatac': 'per_tech_cell_type_bigwigs_nonnorm/master_sub_1.FIXEDCELLS__CONSENSUS_pseudobulk_bw_files_nonnorm/mtscatac_Dendritic_cell.bw',\n",
       "  '10xv2': 'per_tech_cell_type_bigwigs_nonnorm/master_sub_1.FIXEDCELLS__CONSENSUS_pseudobulk_bw_files_nonnorm/10xv2_Dendritic_cell.bw',\n",
       "  'ddseq': 'per_tech_cell_type_bigwigs_nonnorm/master_sub_1.FIXEDCELLS__CONSENSUS_pseudobulk_bw_files_nonnorm/ddseq_Dendritic_cell.bw',\n",
       "  '10xv1': 'per_tech_cell_type_bigwigs_nonnorm/master_sub_1.FIXEDCELLS__CONSENSUS_pseudobulk_bw_files_nonnorm/10xv1_Dendritic_cell.bw',\n",
       "  '10xmultiome': 'per_tech_cell_type_bigwigs_nonnorm/master_sub_1.FIXEDCELLS__CONSENSUS_pseudobulk_bw_files_nonnorm/10xmultiome_Dendritic_cell.bw',\n",
       "  's3atac': 'per_tech_cell_type_bigwigs_nonnorm/master_sub_1.FIXEDCELLS__CONSENSUS_pseudobulk_bw_files_nonnorm/s3atac_Dendritic_cell.bw',\n",
       "  '10xv11': 'per_tech_cell_type_bigwigs_nonnorm/master_sub_1.FIXEDCELLS__CONSENSUS_pseudobulk_bw_files_nonnorm/10xv11_Dendritic_cell.bw',\n",
       "  'hydrop': 'per_tech_cell_type_bigwigs_nonnorm/master_sub_1.FIXEDCELLS__CONSENSUS_pseudobulk_bw_files_nonnorm/hydrop_Dendritic_cell.bw'},\n",
       " 'CD16_monocyte': {'10xv1': 'per_tech_cell_type_bigwigs_nonnorm/master_sub_1.FIXEDCELLS__CONSENSUS_pseudobulk_bw_files_nonnorm/10xv1_CD16_monocyte.bw',\n",
       "  'mtscatac': 'per_tech_cell_type_bigwigs_nonnorm/master_sub_1.FIXEDCELLS__CONSENSUS_pseudobulk_bw_files_nonnorm/mtscatac_CD16_monocyte.bw',\n",
       "  'hydrop': 'per_tech_cell_type_bigwigs_nonnorm/master_sub_1.FIXEDCELLS__CONSENSUS_pseudobulk_bw_files_nonnorm/hydrop_CD16_monocyte.bw',\n",
       "  '10xmultiome': 'per_tech_cell_type_bigwigs_nonnorm/master_sub_1.FIXEDCELLS__CONSENSUS_pseudobulk_bw_files_nonnorm/10xmultiome_CD16_monocyte.bw',\n",
       "  's3atac': 'per_tech_cell_type_bigwigs_nonnorm/master_sub_1.FIXEDCELLS__CONSENSUS_pseudobulk_bw_files_nonnorm/s3atac_CD16_monocyte.bw',\n",
       "  '10xv2': 'per_tech_cell_type_bigwigs_nonnorm/master_sub_1.FIXEDCELLS__CONSENSUS_pseudobulk_bw_files_nonnorm/10xv2_CD16_monocyte.bw',\n",
       "  'ddseq': 'per_tech_cell_type_bigwigs_nonnorm/master_sub_1.FIXEDCELLS__CONSENSUS_pseudobulk_bw_files_nonnorm/ddseq_CD16_monocyte.bw',\n",
       "  '10xv11': 'per_tech_cell_type_bigwigs_nonnorm/master_sub_1.FIXEDCELLS__CONSENSUS_pseudobulk_bw_files_nonnorm/10xv11_CD16_monocyte.bw'},\n",
       " 'CD4_T_cell': {'mtscatac': 'per_tech_cell_type_bigwigs_nonnorm/master_sub_1.FIXEDCELLS__CONSENSUS_pseudobulk_bw_files_nonnorm/mtscatac_CD4_T_cell.bw',\n",
       "  '10xv11': 'per_tech_cell_type_bigwigs_nonnorm/master_sub_1.FIXEDCELLS__CONSENSUS_pseudobulk_bw_files_nonnorm/10xv11_CD4_T_cell.bw',\n",
       "  's3atac': 'per_tech_cell_type_bigwigs_nonnorm/master_sub_1.FIXEDCELLS__CONSENSUS_pseudobulk_bw_files_nonnorm/s3atac_CD4_T_cell.bw',\n",
       "  '10xv2': 'per_tech_cell_type_bigwigs_nonnorm/master_sub_1.FIXEDCELLS__CONSENSUS_pseudobulk_bw_files_nonnorm/10xv2_CD4_T_cell.bw',\n",
       "  '10xv1': 'per_tech_cell_type_bigwigs_nonnorm/master_sub_1.FIXEDCELLS__CONSENSUS_pseudobulk_bw_files_nonnorm/10xv1_CD4_T_cell.bw',\n",
       "  'hydrop': 'per_tech_cell_type_bigwigs_nonnorm/master_sub_1.FIXEDCELLS__CONSENSUS_pseudobulk_bw_files_nonnorm/hydrop_CD4_T_cell.bw',\n",
       "  '10xmultiome': 'per_tech_cell_type_bigwigs_nonnorm/master_sub_1.FIXEDCELLS__CONSENSUS_pseudobulk_bw_files_nonnorm/10xmultiome_CD4_T_cell.bw',\n",
       "  'ddseq': 'per_tech_cell_type_bigwigs_nonnorm/master_sub_1.FIXEDCELLS__CONSENSUS_pseudobulk_bw_files_nonnorm/ddseq_CD4_T_cell.bw'},\n",
       " 'B_cell': {'10xmultiome': 'per_tech_cell_type_bigwigs_nonnorm/master_sub_1.FIXEDCELLS__CONSENSUS_pseudobulk_bw_files_nonnorm/10xmultiome_B_cell.bw',\n",
       "  'mtscatac': 'per_tech_cell_type_bigwigs_nonnorm/master_sub_1.FIXEDCELLS__CONSENSUS_pseudobulk_bw_files_nonnorm/mtscatac_B_cell.bw',\n",
       "  '10xv11': 'per_tech_cell_type_bigwigs_nonnorm/master_sub_1.FIXEDCELLS__CONSENSUS_pseudobulk_bw_files_nonnorm/10xv11_B_cell.bw',\n",
       "  'ddseq': 'per_tech_cell_type_bigwigs_nonnorm/master_sub_1.FIXEDCELLS__CONSENSUS_pseudobulk_bw_files_nonnorm/ddseq_B_cell.bw',\n",
       "  'hydrop': 'per_tech_cell_type_bigwigs_nonnorm/master_sub_1.FIXEDCELLS__CONSENSUS_pseudobulk_bw_files_nonnorm/hydrop_B_cell.bw',\n",
       "  's3atac': 'per_tech_cell_type_bigwigs_nonnorm/master_sub_1.FIXEDCELLS__CONSENSUS_pseudobulk_bw_files_nonnorm/s3atac_B_cell.bw',\n",
       "  '10xv1': 'per_tech_cell_type_bigwigs_nonnorm/master_sub_1.FIXEDCELLS__CONSENSUS_pseudobulk_bw_files_nonnorm/10xv1_B_cell.bw',\n",
       "  '10xv2': 'per_tech_cell_type_bigwigs_nonnorm/master_sub_1.FIXEDCELLS__CONSENSUS_pseudobulk_bw_files_nonnorm/10xv2_B_cell.bw'},\n",
       " 'Natural_killer_cell': {'s3atac': 'per_tech_cell_type_bigwigs_nonnorm/master_sub_1.FIXEDCELLS__CONSENSUS_pseudobulk_bw_files_nonnorm/s3atac_Natural_killer_cell.bw',\n",
       "  '10xv1': 'per_tech_cell_type_bigwigs_nonnorm/master_sub_1.FIXEDCELLS__CONSENSUS_pseudobulk_bw_files_nonnorm/10xv1_Natural_killer_cell.bw',\n",
       "  'ddseq': 'per_tech_cell_type_bigwigs_nonnorm/master_sub_1.FIXEDCELLS__CONSENSUS_pseudobulk_bw_files_nonnorm/ddseq_Natural_killer_cell.bw',\n",
       "  '10xv11': 'per_tech_cell_type_bigwigs_nonnorm/master_sub_1.FIXEDCELLS__CONSENSUS_pseudobulk_bw_files_nonnorm/10xv11_Natural_killer_cell.bw',\n",
       "  '10xv2': 'per_tech_cell_type_bigwigs_nonnorm/master_sub_1.FIXEDCELLS__CONSENSUS_pseudobulk_bw_files_nonnorm/10xv2_Natural_killer_cell.bw',\n",
       "  'mtscatac': 'per_tech_cell_type_bigwigs_nonnorm/master_sub_1.FIXEDCELLS__CONSENSUS_pseudobulk_bw_files_nonnorm/mtscatac_Natural_killer_cell.bw',\n",
       "  '10xmultiome': 'per_tech_cell_type_bigwigs_nonnorm/master_sub_1.FIXEDCELLS__CONSENSUS_pseudobulk_bw_files_nonnorm/10xmultiome_Natural_killer_cell.bw',\n",
       "  'hydrop': 'per_tech_cell_type_bigwigs_nonnorm/master_sub_1.FIXEDCELLS__CONSENSUS_pseudobulk_bw_files_nonnorm/hydrop_Natural_killer_cell.bw'},\n",
       " 'Cytotoxic_T_cell': {'10xv1': 'per_tech_cell_type_bigwigs_nonnorm/master_sub_1.FIXEDCELLS__CONSENSUS_pseudobulk_bw_files_nonnorm/10xv1_Cytotoxic_T_cell.bw',\n",
       "  'ddseq': 'per_tech_cell_type_bigwigs_nonnorm/master_sub_1.FIXEDCELLS__CONSENSUS_pseudobulk_bw_files_nonnorm/ddseq_Cytotoxic_T_cell.bw',\n",
       "  's3atac': 'per_tech_cell_type_bigwigs_nonnorm/master_sub_1.FIXEDCELLS__CONSENSUS_pseudobulk_bw_files_nonnorm/s3atac_Cytotoxic_T_cell.bw',\n",
       "  'mtscatac': 'per_tech_cell_type_bigwigs_nonnorm/master_sub_1.FIXEDCELLS__CONSENSUS_pseudobulk_bw_files_nonnorm/mtscatac_Cytotoxic_T_cell.bw',\n",
       "  '10xv2': 'per_tech_cell_type_bigwigs_nonnorm/master_sub_1.FIXEDCELLS__CONSENSUS_pseudobulk_bw_files_nonnorm/10xv2_Cytotoxic_T_cell.bw',\n",
       "  '10xmultiome': 'per_tech_cell_type_bigwigs_nonnorm/master_sub_1.FIXEDCELLS__CONSENSUS_pseudobulk_bw_files_nonnorm/10xmultiome_Cytotoxic_T_cell.bw',\n",
       "  'hydrop': 'per_tech_cell_type_bigwigs_nonnorm/master_sub_1.FIXEDCELLS__CONSENSUS_pseudobulk_bw_files_nonnorm/hydrop_Cytotoxic_T_cell.bw',\n",
       "  '10xv11': 'per_tech_cell_type_bigwigs_nonnorm/master_sub_1.FIXEDCELLS__CONSENSUS_pseudobulk_bw_files_nonnorm/10xv11_Cytotoxic_T_cell.bw'}}"
      ]
     },
     "execution_count": 43,
     "metadata": {},
     "output_type": "execute_result"
    }
   ],
   "source": [
    "cell_types = list(\n",
    "    set(\n",
    "        [\n",
    "            \"_\".join(x.split(\"/\")[-1].split(\"_\")[1:]).split(\".\")[0]\n",
    "            for x in glob.glob(\n",
    "                \"per_tech_cell_type_bigwigs_nonnorm/master_sub_1.FIXEDCELLS__CONSENSUS_pseudobulk_bw_files_nonnorm/*\"\n",
    "            )\n",
    "        ]\n",
    "    )\n",
    ")\n",
    "\n",
    "bw_path_dict_dict = {}\n",
    "for cell_type in cell_types:\n",
    "    # print(cell_type)\n",
    "    bw_path_dict_dict[cell_type] = {\n",
    "        x.split(\"/\")[-1].split(\"_\")[0]: x\n",
    "        for x in glob.glob(\n",
    "            f\"per_tech_cell_type_bigwigs_nonnorm/master_sub_1.FIXEDCELLS__CONSENSUS_pseudobulk_bw_files_nonnorm/*{cell_type}*\"\n",
    "        )\n",
    "    }\n",
    "bw_path_dict_dict"
   ]
  },
  {
   "cell_type": "code",
   "execution_count": 44,
   "id": "61364084-1734-4f03-a479-88a85c776b7f",
   "metadata": {
    "execution": {
     "iopub.execute_input": "2023-01-05T10:27:13.098377Z",
     "iopub.status.busy": "2023-01-05T10:27:13.098180Z",
     "iopub.status.idle": "2023-01-05T10:27:13.105740Z",
     "shell.execute_reply": "2023-01-05T10:27:13.105006Z",
     "shell.execute_reply.started": "2023-01-05T10:27:13.098357Z"
    },
    "tags": []
   },
   "outputs": [],
   "source": [
    "dar_color = \"b\"\n",
    "peak_color = \"k\"\n",
    "gene_height = 3\n",
    "gene_bottom = -gene_height / 2\n",
    "exon_height = 6\n",
    "exon_bottom = -exon_height / 2\n",
    "\n",
    "figsize = (6, 8)"
   ]
  },
  {
   "cell_type": "code",
   "execution_count": 45,
   "id": "305362a7-a7b1-41cc-82c6-41c24e16105f",
   "metadata": {
    "execution": {
     "iopub.execute_input": "2023-01-05T10:27:13.106873Z",
     "iopub.status.busy": "2023-01-05T10:27:13.106673Z",
     "iopub.status.idle": "2023-01-05T10:27:13.116780Z",
     "shell.execute_reply": "2023-01-05T10:27:13.116031Z",
     "shell.execute_reply.started": "2023-01-05T10:27:13.106853Z"
    },
    "tags": []
   },
   "outputs": [],
   "source": [
    "def addax():\n",
    "    ax.set_xlim([x.min(), x.max()])\n",
    "    sns.despine(top=True, right=True, left=True, bottom=True, ax=ax)\n",
    "    ax.set_xticks([])\n",
    "    ax.set_yticks([])\n",
    "    ax.patch.set_alpha(\n",
    "        0\n",
    "    )  # make sure that each individual subplot is transparent! otherwise the underlying plots won't be shown. this is important e.g. for the dar/peak visualisaton, since the DARs are drawn directly on top of the peaks. if the DAR plot is not transparent, no peaks will be visible!!\n",
    "\n",
    "    fig.add_subplot(ax)"
   ]
  },
  {
   "cell_type": "code",
   "execution_count": 46,
   "id": "47a05626-ef29-4266-8bc7-c171d6624182",
   "metadata": {
    "execution": {
     "iopub.execute_input": "2023-01-05T10:27:13.117752Z",
     "iopub.status.busy": "2023-01-05T10:27:13.117554Z",
     "iopub.status.idle": "2023-01-05T10:27:13.125695Z",
     "shell.execute_reply": "2023-01-05T10:27:13.124929Z",
     "shell.execute_reply.started": "2023-01-05T10:27:13.117732Z"
    },
    "tags": []
   },
   "outputs": [],
   "source": [
    "max_genes = 1"
   ]
  },
  {
   "cell_type": "code",
   "execution_count": 47,
   "id": "9d3bfc7b-1969-4edd-897c-14bf43e4532d",
   "metadata": {
    "execution": {
     "iopub.execute_input": "2023-01-05T10:27:13.126848Z",
     "iopub.status.busy": "2023-01-05T10:27:13.126593Z",
     "iopub.status.idle": "2023-01-05T10:27:13.135048Z",
     "shell.execute_reply": "2023-01-05T10:27:13.133879Z",
     "shell.execute_reply.started": "2023-01-05T10:27:13.126824Z"
    },
    "tags": []
   },
   "outputs": [],
   "source": [
    "plot_genes = False\n",
    "verbose = True"
   ]
  },
  {
   "cell_type": "code",
   "execution_count": 48,
   "id": "9f1b9c78-0eb2-4d7d-9786-a1670ca55912",
   "metadata": {
    "execution": {
     "iopub.execute_input": "2023-01-05T10:27:13.136739Z",
     "iopub.status.busy": "2023-01-05T10:27:13.136210Z",
     "iopub.status.idle": "2023-01-05T10:27:13.159658Z",
     "shell.execute_reply": "2023-01-05T10:27:13.158587Z",
     "shell.execute_reply.started": "2023-01-05T10:27:13.136706Z"
    },
    "tags": []
   },
   "outputs": [],
   "source": [
    "region_forced_length = 2000\n",
    "\n",
    "regions_df_padded = regions_df.copy()\n",
    "\n",
    "regions_df_padded[\"region_center\"] = (\n",
    "    regions_df_padded[\"start\"]\n",
    "    + (regions_df_padded[\"end\"] - regions_df_padded[\"start\"]) / 2\n",
    ")\n",
    "\n",
    "\n",
    "regions_df_padded[\"start\"] = (\n",
    "    regions_df_padded[\"region_center\"] - region_forced_length / 2\n",
    ")\n",
    "regions_df_padded[\"start\"] = [int(x) for x in regions_df_padded[\"start\"]]\n",
    "regions_df_padded[\"end\"] = regions_df_padded[\"region_center\"] + region_forced_length / 2\n",
    "regions_df_padded[\"end\"] = [int(x) for x in regions_df_padded[\"end\"]]"
   ]
  },
  {
   "cell_type": "code",
   "execution_count": 49,
   "id": "c722f596-ca7b-4e16-bd90-5fbc351d6741",
   "metadata": {
    "execution": {
     "iopub.execute_input": "2023-01-05T10:27:13.161458Z",
     "iopub.status.busy": "2023-01-05T10:27:13.161263Z",
     "iopub.status.idle": "2023-01-05T10:27:36.057806Z",
     "shell.execute_reply": "2023-01-05T10:27:36.056853Z",
     "shell.execute_reply.started": "2023-01-05T10:27:13.161439Z"
    },
    "tags": []
   },
   "outputs": [
    {
     "name": "stdout",
     "output_type": "stream",
     "text": [
      "calculated max values within region Cytotoxic_T_cell\n",
      "calculated max values within region CD14+_monocyte\n",
      "calculated max values within region B_cell\n",
      "calculated max values within region CD16+_monocyte\n",
      "calculated max values within region Dendritic_cell\n",
      "calculated max values within region Natural_killer_cell\n",
      "calculated max values within region CD4+_T_cell\n"
     ]
    },
    {
     "data": {
      "text/plain": [
       "{'Cytotoxic_T_cell': 24.0,\n",
       " 'CD14+_monocyte': 56.0,\n",
       " 'B_cell': 38.0,\n",
       " 'CD16+_monocyte': 37.0,\n",
       " 'Dendritic_cell': 40.0,\n",
       " 'Natural_killer_cell': 39.0,\n",
       " 'CD4+_T_cell': 36.0}"
      ]
     },
     "execution_count": 49,
     "metadata": {},
     "output_type": "execute_result"
    }
   ],
   "source": [
    "## calculate bw_ymax per col\n",
    "region_max_dict_padded = {}\n",
    "for region_name in regions_df_padded.index:\n",
    "    chrom = regions_df_padded.loc[region_name][\"chrom\"]\n",
    "    start = int(regions_df_padded.loc[region_name][\"start\"])\n",
    "    end = int(regions_df_padded.loc[region_name][\"end\"])\n",
    "\n",
    "    bw_ymax_dict_dict = {}\n",
    "    for cell_type in bw_path_dict_dict.keys():\n",
    "        bw_ymax_dict = {}\n",
    "\n",
    "        for tech in bw_path_dict_dict[cell_type].keys():\n",
    "            bw_file = bw_path_dict_dict[cell_type][tech]\n",
    "\n",
    "            # calculate max value of the bigwig within our region\n",
    "            bw = pyBigWig.open(bw_file)\n",
    "            y = bw.values(chrom, start, end)\n",
    "            y = np.nan_to_num(y)\n",
    "\n",
    "            bw_ymax_dict[tech] = y.max()\n",
    "\n",
    "        bw_ymax_dict_dict[cell_type] = max(bw_ymax_dict.values())\n",
    "\n",
    "    region_max_dict_padded[region_name] = bw_ymax_dict_dict[\n",
    "        max(bw_ymax_dict_dict, key=bw_ymax_dict_dict.get)\n",
    "    ]\n",
    "    print(f\"calculated max values within region {region_name}\")\n",
    "\n",
    "region_max_dict_padded"
   ]
  },
  {
   "cell_type": "code",
   "execution_count": 50,
   "id": "ac77c731-8adc-4286-ad89-57170b1a584d",
   "metadata": {
    "execution": {
     "iopub.execute_input": "2023-01-05T10:27:36.059531Z",
     "iopub.status.busy": "2023-01-05T10:27:36.059286Z",
     "iopub.status.idle": "2023-01-05T10:27:36.069078Z",
     "shell.execute_reply": "2023-01-05T10:27:36.068322Z",
     "shell.execute_reply.started": "2023-01-05T10:27:36.059504Z"
    },
    "tags": []
   },
   "outputs": [
    {
     "data": {
      "text/html": [
       "<div>\n",
       "<style scoped>\n",
       "    .dataframe tbody tr th:only-of-type {\n",
       "        vertical-align: middle;\n",
       "    }\n",
       "\n",
       "    .dataframe tbody tr th {\n",
       "        vertical-align: top;\n",
       "    }\n",
       "\n",
       "    .dataframe thead th {\n",
       "        text-align: right;\n",
       "    }\n",
       "</style>\n",
       "<table border=\"1\" class=\"dataframe\">\n",
       "  <thead>\n",
       "    <tr style=\"text-align: right;\">\n",
       "      <th></th>\n",
       "      <th>chrom</th>\n",
       "      <th>start</th>\n",
       "      <th>end</th>\n",
       "      <th>region_center</th>\n",
       "    </tr>\n",
       "  </thead>\n",
       "  <tbody>\n",
       "    <tr>\n",
       "      <th>Cytotoxic_T_cell</th>\n",
       "      <td>chr9</td>\n",
       "      <td>75009764</td>\n",
       "      <td>75011764</td>\n",
       "      <td>75010764.0</td>\n",
       "    </tr>\n",
       "    <tr>\n",
       "      <th>CD14+_monocyte</th>\n",
       "      <td>chr3</td>\n",
       "      <td>149372887</td>\n",
       "      <td>149374887</td>\n",
       "      <td>149373887.0</td>\n",
       "    </tr>\n",
       "    <tr>\n",
       "      <th>B_cell</th>\n",
       "      <td>chr5</td>\n",
       "      <td>158897642</td>\n",
       "      <td>158899642</td>\n",
       "      <td>158898642.0</td>\n",
       "    </tr>\n",
       "    <tr>\n",
       "      <th>CD16+_monocyte</th>\n",
       "      <td>chr13</td>\n",
       "      <td>48624125</td>\n",
       "      <td>48626125</td>\n",
       "      <td>48625125.0</td>\n",
       "    </tr>\n",
       "    <tr>\n",
       "      <th>Dendritic_cell</th>\n",
       "      <td>chr7</td>\n",
       "      <td>115504370</td>\n",
       "      <td>115506370</td>\n",
       "      <td>115505370.0</td>\n",
       "    </tr>\n",
       "    <tr>\n",
       "      <th>Natural_killer_cell</th>\n",
       "      <td>chr11</td>\n",
       "      <td>65694052</td>\n",
       "      <td>65696052</td>\n",
       "      <td>65695052.0</td>\n",
       "    </tr>\n",
       "    <tr>\n",
       "      <th>CD4+_T_cell</th>\n",
       "      <td>chr3</td>\n",
       "      <td>3296275</td>\n",
       "      <td>3298275</td>\n",
       "      <td>3297275.0</td>\n",
       "    </tr>\n",
       "  </tbody>\n",
       "</table>\n",
       "</div>"
      ],
      "text/plain": [
       "                     chrom      start        end region_center\n",
       "Cytotoxic_T_cell      chr9   75009764   75011764    75010764.0\n",
       "CD14+_monocyte        chr3  149372887  149374887   149373887.0\n",
       "B_cell                chr5  158897642  158899642   158898642.0\n",
       "CD16+_monocyte       chr13   48624125   48626125    48625125.0\n",
       "Dendritic_cell        chr7  115504370  115506370   115505370.0\n",
       "Natural_killer_cell  chr11   65694052   65696052    65695052.0\n",
       "CD4+_T_cell           chr3    3296275    3298275     3297275.0"
      ]
     },
     "execution_count": 50,
     "metadata": {},
     "output_type": "execute_result"
    }
   ],
   "source": [
    "regions_df_padded"
   ]
  },
  {
   "cell_type": "code",
   "execution_count": 51,
   "id": "366d61b0-5254-441a-9de0-51ca141d7b28",
   "metadata": {
    "execution": {
     "iopub.execute_input": "2023-01-05T10:27:36.070047Z",
     "iopub.status.busy": "2023-01-05T10:27:36.069857Z",
     "iopub.status.idle": "2023-01-05T10:27:36.114324Z",
     "shell.execute_reply": "2023-01-05T10:27:36.112882Z",
     "shell.execute_reply.started": "2023-01-05T10:27:36.070027Z"
    },
    "tags": []
   },
   "outputs": [
    {
     "data": {
      "text/plain": [
       "OrderedDict([('Cytotoxic_T_cell', 'chr9:75009514.0-75012014.0'),\n",
       "             ('CD14_monocyte', 'chr3:149372637.0-149375137.0'),\n",
       "             ('B_cell', 'chr5:158897392.0-158899892.0'),\n",
       "             ('CD16_monocyte', 'chr13:48623875.0-48626375.0'),\n",
       "             ('Dendritic_cell', 'chr7:115504120.0-115506620.0'),\n",
       "             ('Natural_killer_cell', 'chr11:65693802.0-65696302.0'),\n",
       "             ('CD4_T_cell', 'chr3:3296025.0-3298525.0')])"
      ]
     },
     "execution_count": 51,
     "metadata": {},
     "output_type": "execute_result"
    }
   ],
   "source": [
    "regions_dict_padded = OrderedDict({})\n",
    "\n",
    "for supersample, path in merged_dar_path_dict.items():\n",
    "    # print(supersample)\n",
    "    df = pd.read_csv(path, sep=\"\\t\", header=None)\n",
    "    df.columns = \"chrom start end cell_type log2fc strand p_val\".split()\n",
    "    # print(df.iloc[0])\n",
    "\n",
    "    cell_type = supersample.split(\"__\")[-1].replace(\"+\", \"\")\n",
    "    region = f\"{df.iloc[0]['chrom']}:{df.iloc[0]['start']- region_forced_length / 2}-{df.iloc[0]['end']+region_forced_length / 2}\"\n",
    "    regions_dict_padded[cell_type] = region\n",
    "\n",
    "regions_dict_padded"
   ]
  },
  {
   "cell_type": "code",
   "execution_count": 52,
   "id": "46601fad-676c-42fc-9c25-fd36975a512c",
   "metadata": {
    "execution": {
     "iopub.execute_input": "2023-01-05T10:27:36.115413Z",
     "iopub.status.busy": "2023-01-05T10:27:36.115205Z",
     "iopub.status.idle": "2023-01-05T10:27:36.120678Z",
     "shell.execute_reply": "2023-01-05T10:27:36.119915Z",
     "shell.execute_reply.started": "2023-01-05T10:27:36.115392Z"
    },
    "tags": []
   },
   "outputs": [
    {
     "data": {
      "text/plain": [
       "dict_keys(['CD14_monocyte', 'Dendritic_cell', 'CD16_monocyte', 'CD4_T_cell', 'B_cell', 'Natural_killer_cell', 'Cytotoxic_T_cell'])"
      ]
     },
     "execution_count": 52,
     "metadata": {},
     "output_type": "execute_result"
    }
   ],
   "source": [
    "bw_path_dict_dict.keys()"
   ]
  },
  {
   "cell_type": "code",
   "execution_count": 53,
   "id": "6ddd3d16-b2a4-4d95-abf0-03b8c3c81847",
   "metadata": {
    "execution": {
     "iopub.execute_input": "2023-01-05T10:27:36.121765Z",
     "iopub.status.busy": "2023-01-05T10:27:36.121576Z",
     "iopub.status.idle": "2023-01-05T10:27:36.129982Z",
     "shell.execute_reply": "2023-01-05T10:27:36.129178Z",
     "shell.execute_reply.started": "2023-01-05T10:27:36.121745Z"
    },
    "tags": []
   },
   "outputs": [],
   "source": [
    "regions_df_padded.index = [x.replace(\"+\", \"\") for x in regions_df_padded.index]"
   ]
  },
  {
   "cell_type": "code",
   "execution_count": 54,
   "id": "85f119bc-fb4a-493c-a955-606438ff577b",
   "metadata": {
    "execution": {
     "iopub.execute_input": "2023-01-05T10:27:36.131040Z",
     "iopub.status.busy": "2023-01-05T10:27:36.130826Z",
     "iopub.status.idle": "2023-01-05T10:27:36.147083Z",
     "shell.execute_reply": "2023-01-05T10:27:36.145938Z",
     "shell.execute_reply.started": "2023-01-05T10:27:36.131017Z"
    },
    "tags": []
   },
   "outputs": [
    {
     "data": {
      "text/plain": [
       "{'Cytotoxic_T_cell': 'final_consensus_peaks/master_sub_1.FIXEDCELLS__SCREEN_consensus_peaks.bed',\n",
       " 'CD14_monocyte': 'final_consensus_peaks/master_sub_1.FIXEDCELLS__SCREEN_consensus_peaks.bed',\n",
       " 'B_cell': 'final_consensus_peaks/master_sub_1.FIXEDCELLS__SCREEN_consensus_peaks.bed',\n",
       " 'CD16_monocyte': 'final_consensus_peaks/master_sub_1.FIXEDCELLS__SCREEN_consensus_peaks.bed',\n",
       " 'Dendritic_cell': 'final_consensus_peaks/master_sub_1.FIXEDCELLS__SCREEN_consensus_peaks.bed',\n",
       " 'Natural_killer_cell': 'final_consensus_peaks/master_sub_1.FIXEDCELLS__SCREEN_consensus_peaks.bed',\n",
       " 'CD4_T_cell': 'final_consensus_peaks/master_sub_1.FIXEDCELLS__SCREEN_consensus_peaks.bed'}"
      ]
     },
     "execution_count": 54,
     "metadata": {},
     "output_type": "execute_result"
    }
   ],
   "source": [
    "peak_path_dict = {\n",
    "    x.replace(\n",
    "        \"+\", \"\"\n",
    "    ): \"final_consensus_peaks/master_sub_1.FIXEDCELLS__SCREEN_consensus_peaks.bed\"\n",
    "    for x in regions_dict.keys()\n",
    "}\n",
    "peak_path_dict"
   ]
  },
  {
   "cell_type": "code",
   "execution_count": 55,
   "id": "fadd23d4-aec7-477b-b82d-75b38b16d181",
   "metadata": {
    "execution": {
     "iopub.execute_input": "2023-01-05T10:27:36.148442Z",
     "iopub.status.busy": "2023-01-05T10:27:36.148181Z",
     "iopub.status.idle": "2023-01-05T10:27:36.158031Z",
     "shell.execute_reply": "2023-01-05T10:27:36.157148Z",
     "shell.execute_reply.started": "2023-01-05T10:27:36.148415Z"
    },
    "tags": []
   },
   "outputs": [
    {
     "data": {
      "text/plain": [
       "True"
      ]
     },
     "execution_count": 55,
     "metadata": {},
     "output_type": "execute_result"
    }
   ],
   "source": [
    "set(regions_df_padded.index) == set(regions_dict_padded.keys()) == set(\n",
    "    bw_path_dict_dict.keys()\n",
    ") == set(peak_path_dict.keys())"
   ]
  },
  {
   "cell_type": "code",
   "execution_count": 56,
   "id": "7a831516-1ae7-4744-ba5a-1334eb397791",
   "metadata": {
    "execution": {
     "iopub.execute_input": "2023-01-05T10:27:36.159184Z",
     "iopub.status.busy": "2023-01-05T10:27:36.158968Z",
     "iopub.status.idle": "2023-01-05T10:27:36.164920Z",
     "shell.execute_reply": "2023-01-05T10:27:36.164094Z",
     "shell.execute_reply.started": "2023-01-05T10:27:36.159162Z"
    },
    "tags": []
   },
   "outputs": [
    {
     "data": {
      "text/plain": [
       "8"
      ]
     },
     "execution_count": 56,
     "metadata": {},
     "output_type": "execute_result"
    }
   ],
   "source": [
    "n_rows"
   ]
  },
  {
   "cell_type": "code",
   "execution_count": 57,
   "id": "cbcf3fe6-9457-466c-941e-bd1fbc2d0f2a",
   "metadata": {
    "execution": {
     "iopub.execute_input": "2023-01-05T10:27:36.166116Z",
     "iopub.status.busy": "2023-01-05T10:27:36.165896Z",
     "iopub.status.idle": "2023-01-05T10:28:07.154143Z",
     "shell.execute_reply": "2023-01-05T10:28:07.152954Z",
     "shell.execute_reply.started": "2023-01-05T10:27:36.166093Z"
    },
    "tags": []
   },
   "outputs": [
    {
     "name": "stdout",
     "output_type": "stream",
     "text": [
      "drawing column for region Cytotoxic_T_cell\n",
      "\t10xv1: alias 10x v1\n",
      "\t\tbw: per_tech_cell_type_bigwigs_nonnorm/master_sub_1.FIXEDCELLS__CONSENSUS_pseudobulk_bw_files_nonnorm/10xv1_Cytotoxic_T_cell.bw\n",
      "\tddseq: alias ddSEQ SureCell\n",
      "\t\tbw: per_tech_cell_type_bigwigs_nonnorm/master_sub_1.FIXEDCELLS__CONSENSUS_pseudobulk_bw_files_nonnorm/ddseq_Cytotoxic_T_cell.bw\n",
      "\ts3atac: alias s3-ATAC\n",
      "\t\tbw: per_tech_cell_type_bigwigs_nonnorm/master_sub_1.FIXEDCELLS__CONSENSUS_pseudobulk_bw_files_nonnorm/s3atac_Cytotoxic_T_cell.bw\n",
      "\tmtscatac: alias mtscATAC-seq\n",
      "\t\tbw: per_tech_cell_type_bigwigs_nonnorm/master_sub_1.FIXEDCELLS__CONSENSUS_pseudobulk_bw_files_nonnorm/mtscatac_Cytotoxic_T_cell.bw\n",
      "\t10xv2: alias 10x v2\n",
      "\t\tbw: per_tech_cell_type_bigwigs_nonnorm/master_sub_1.FIXEDCELLS__CONSENSUS_pseudobulk_bw_files_nonnorm/10xv2_Cytotoxic_T_cell.bw\n",
      "\t10xmultiome: alias 10x Multiome\n",
      "\t\tbw: per_tech_cell_type_bigwigs_nonnorm/master_sub_1.FIXEDCELLS__CONSENSUS_pseudobulk_bw_files_nonnorm/10xmultiome_Cytotoxic_T_cell.bw\n",
      "\thydrop: alias HyDrop\n",
      "\t\tbw: per_tech_cell_type_bigwigs_nonnorm/master_sub_1.FIXEDCELLS__CONSENSUS_pseudobulk_bw_files_nonnorm/hydrop_Cytotoxic_T_cell.bw\n",
      "\t10xv11: alias 10x v1.1\n",
      "\t\tbw: per_tech_cell_type_bigwigs_nonnorm/master_sub_1.FIXEDCELLS__CONSENSUS_pseudobulk_bw_files_nonnorm/10xv11_Cytotoxic_T_cell.bw\n",
      "drawing column for region CD14_monocyte\n",
      "\t10xv2: alias 10x v2\n",
      "\t\tbw: per_tech_cell_type_bigwigs_nonnorm/master_sub_1.FIXEDCELLS__CONSENSUS_pseudobulk_bw_files_nonnorm/10xv2_CD14_monocyte.bw\n",
      "\thydrop: alias HyDrop\n",
      "\t\tbw: per_tech_cell_type_bigwigs_nonnorm/master_sub_1.FIXEDCELLS__CONSENSUS_pseudobulk_bw_files_nonnorm/hydrop_CD14_monocyte.bw\n",
      "\t10xmultiome: alias 10x Multiome\n",
      "\t\tbw: per_tech_cell_type_bigwigs_nonnorm/master_sub_1.FIXEDCELLS__CONSENSUS_pseudobulk_bw_files_nonnorm/10xmultiome_CD14_monocyte.bw\n",
      "\tddseq: alias ddSEQ SureCell\n",
      "\t\tbw: per_tech_cell_type_bigwigs_nonnorm/master_sub_1.FIXEDCELLS__CONSENSUS_pseudobulk_bw_files_nonnorm/ddseq_CD14_monocyte.bw\n",
      "\tmtscatac: alias mtscATAC-seq\n",
      "\t\tbw: per_tech_cell_type_bigwigs_nonnorm/master_sub_1.FIXEDCELLS__CONSENSUS_pseudobulk_bw_files_nonnorm/mtscatac_CD14_monocyte.bw\n",
      "\ts3atac: alias s3-ATAC\n",
      "\t\tbw: per_tech_cell_type_bigwigs_nonnorm/master_sub_1.FIXEDCELLS__CONSENSUS_pseudobulk_bw_files_nonnorm/s3atac_CD14_monocyte.bw\n",
      "\t10xv11: alias 10x v1.1\n",
      "\t\tbw: per_tech_cell_type_bigwigs_nonnorm/master_sub_1.FIXEDCELLS__CONSENSUS_pseudobulk_bw_files_nonnorm/10xv11_CD14_monocyte.bw\n",
      "\t10xv1: alias 10x v1\n",
      "\t\tbw: per_tech_cell_type_bigwigs_nonnorm/master_sub_1.FIXEDCELLS__CONSENSUS_pseudobulk_bw_files_nonnorm/10xv1_CD14_monocyte.bw\n",
      "drawing column for region B_cell\n",
      "\t10xmultiome: alias 10x Multiome\n",
      "\t\tbw: per_tech_cell_type_bigwigs_nonnorm/master_sub_1.FIXEDCELLS__CONSENSUS_pseudobulk_bw_files_nonnorm/10xmultiome_B_cell.bw\n",
      "\tmtscatac: alias mtscATAC-seq\n",
      "\t\tbw: per_tech_cell_type_bigwigs_nonnorm/master_sub_1.FIXEDCELLS__CONSENSUS_pseudobulk_bw_files_nonnorm/mtscatac_B_cell.bw\n",
      "\t10xv11: alias 10x v1.1\n",
      "\t\tbw: per_tech_cell_type_bigwigs_nonnorm/master_sub_1.FIXEDCELLS__CONSENSUS_pseudobulk_bw_files_nonnorm/10xv11_B_cell.bw\n",
      "\tddseq: alias ddSEQ SureCell\n",
      "\t\tbw: per_tech_cell_type_bigwigs_nonnorm/master_sub_1.FIXEDCELLS__CONSENSUS_pseudobulk_bw_files_nonnorm/ddseq_B_cell.bw\n",
      "\thydrop: alias HyDrop\n",
      "\t\tbw: per_tech_cell_type_bigwigs_nonnorm/master_sub_1.FIXEDCELLS__CONSENSUS_pseudobulk_bw_files_nonnorm/hydrop_B_cell.bw\n",
      "\ts3atac: alias s3-ATAC\n",
      "\t\tbw: per_tech_cell_type_bigwigs_nonnorm/master_sub_1.FIXEDCELLS__CONSENSUS_pseudobulk_bw_files_nonnorm/s3atac_B_cell.bw\n",
      "\t10xv1: alias 10x v1\n",
      "\t\tbw: per_tech_cell_type_bigwigs_nonnorm/master_sub_1.FIXEDCELLS__CONSENSUS_pseudobulk_bw_files_nonnorm/10xv1_B_cell.bw\n",
      "\t10xv2: alias 10x v2\n",
      "\t\tbw: per_tech_cell_type_bigwigs_nonnorm/master_sub_1.FIXEDCELLS__CONSENSUS_pseudobulk_bw_files_nonnorm/10xv2_B_cell.bw\n",
      "drawing column for region CD16_monocyte\n",
      "\t10xv1: alias 10x v1\n",
      "\t\tbw: per_tech_cell_type_bigwigs_nonnorm/master_sub_1.FIXEDCELLS__CONSENSUS_pseudobulk_bw_files_nonnorm/10xv1_CD16_monocyte.bw\n",
      "\tmtscatac: alias mtscATAC-seq\n",
      "\t\tbw: per_tech_cell_type_bigwigs_nonnorm/master_sub_1.FIXEDCELLS__CONSENSUS_pseudobulk_bw_files_nonnorm/mtscatac_CD16_monocyte.bw\n",
      "\thydrop: alias HyDrop\n",
      "\t\tbw: per_tech_cell_type_bigwigs_nonnorm/master_sub_1.FIXEDCELLS__CONSENSUS_pseudobulk_bw_files_nonnorm/hydrop_CD16_monocyte.bw\n",
      "\t10xmultiome: alias 10x Multiome\n",
      "\t\tbw: per_tech_cell_type_bigwigs_nonnorm/master_sub_1.FIXEDCELLS__CONSENSUS_pseudobulk_bw_files_nonnorm/10xmultiome_CD16_monocyte.bw\n",
      "\ts3atac: alias s3-ATAC\n",
      "\t\tbw: per_tech_cell_type_bigwigs_nonnorm/master_sub_1.FIXEDCELLS__CONSENSUS_pseudobulk_bw_files_nonnorm/s3atac_CD16_monocyte.bw\n",
      "\t10xv2: alias 10x v2\n",
      "\t\tbw: per_tech_cell_type_bigwigs_nonnorm/master_sub_1.FIXEDCELLS__CONSENSUS_pseudobulk_bw_files_nonnorm/10xv2_CD16_monocyte.bw\n",
      "\tddseq: alias ddSEQ SureCell\n",
      "\t\tbw: per_tech_cell_type_bigwigs_nonnorm/master_sub_1.FIXEDCELLS__CONSENSUS_pseudobulk_bw_files_nonnorm/ddseq_CD16_monocyte.bw\n",
      "\t10xv11: alias 10x v1.1\n",
      "\t\tbw: per_tech_cell_type_bigwigs_nonnorm/master_sub_1.FIXEDCELLS__CONSENSUS_pseudobulk_bw_files_nonnorm/10xv11_CD16_monocyte.bw\n",
      "drawing column for region Dendritic_cell\n",
      "\tmtscatac: alias mtscATAC-seq\n",
      "\t\tbw: per_tech_cell_type_bigwigs_nonnorm/master_sub_1.FIXEDCELLS__CONSENSUS_pseudobulk_bw_files_nonnorm/mtscatac_Dendritic_cell.bw\n",
      "\t10xv2: alias 10x v2\n",
      "\t\tbw: per_tech_cell_type_bigwigs_nonnorm/master_sub_1.FIXEDCELLS__CONSENSUS_pseudobulk_bw_files_nonnorm/10xv2_Dendritic_cell.bw\n",
      "\tddseq: alias ddSEQ SureCell\n",
      "\t\tbw: per_tech_cell_type_bigwigs_nonnorm/master_sub_1.FIXEDCELLS__CONSENSUS_pseudobulk_bw_files_nonnorm/ddseq_Dendritic_cell.bw\n",
      "\t10xv1: alias 10x v1\n",
      "\t\tbw: per_tech_cell_type_bigwigs_nonnorm/master_sub_1.FIXEDCELLS__CONSENSUS_pseudobulk_bw_files_nonnorm/10xv1_Dendritic_cell.bw\n",
      "\t10xmultiome: alias 10x Multiome\n",
      "\t\tbw: per_tech_cell_type_bigwigs_nonnorm/master_sub_1.FIXEDCELLS__CONSENSUS_pseudobulk_bw_files_nonnorm/10xmultiome_Dendritic_cell.bw\n",
      "\ts3atac: alias s3-ATAC\n",
      "\t\tbw: per_tech_cell_type_bigwigs_nonnorm/master_sub_1.FIXEDCELLS__CONSENSUS_pseudobulk_bw_files_nonnorm/s3atac_Dendritic_cell.bw\n",
      "\t10xv11: alias 10x v1.1\n",
      "\t\tbw: per_tech_cell_type_bigwigs_nonnorm/master_sub_1.FIXEDCELLS__CONSENSUS_pseudobulk_bw_files_nonnorm/10xv11_Dendritic_cell.bw\n",
      "\thydrop: alias HyDrop\n",
      "\t\tbw: per_tech_cell_type_bigwigs_nonnorm/master_sub_1.FIXEDCELLS__CONSENSUS_pseudobulk_bw_files_nonnorm/hydrop_Dendritic_cell.bw\n",
      "drawing column for region Natural_killer_cell\n",
      "\ts3atac: alias s3-ATAC\n",
      "\t\tbw: per_tech_cell_type_bigwigs_nonnorm/master_sub_1.FIXEDCELLS__CONSENSUS_pseudobulk_bw_files_nonnorm/s3atac_Natural_killer_cell.bw\n",
      "\t10xv1: alias 10x v1\n",
      "\t\tbw: per_tech_cell_type_bigwigs_nonnorm/master_sub_1.FIXEDCELLS__CONSENSUS_pseudobulk_bw_files_nonnorm/10xv1_Natural_killer_cell.bw\n",
      "\tddseq: alias ddSEQ SureCell\n",
      "\t\tbw: per_tech_cell_type_bigwigs_nonnorm/master_sub_1.FIXEDCELLS__CONSENSUS_pseudobulk_bw_files_nonnorm/ddseq_Natural_killer_cell.bw\n",
      "\t10xv11: alias 10x v1.1\n",
      "\t\tbw: per_tech_cell_type_bigwigs_nonnorm/master_sub_1.FIXEDCELLS__CONSENSUS_pseudobulk_bw_files_nonnorm/10xv11_Natural_killer_cell.bw\n",
      "\t10xv2: alias 10x v2\n",
      "\t\tbw: per_tech_cell_type_bigwigs_nonnorm/master_sub_1.FIXEDCELLS__CONSENSUS_pseudobulk_bw_files_nonnorm/10xv2_Natural_killer_cell.bw\n",
      "\tmtscatac: alias mtscATAC-seq\n",
      "\t\tbw: per_tech_cell_type_bigwigs_nonnorm/master_sub_1.FIXEDCELLS__CONSENSUS_pseudobulk_bw_files_nonnorm/mtscatac_Natural_killer_cell.bw\n",
      "\t10xmultiome: alias 10x Multiome\n",
      "\t\tbw: per_tech_cell_type_bigwigs_nonnorm/master_sub_1.FIXEDCELLS__CONSENSUS_pseudobulk_bw_files_nonnorm/10xmultiome_Natural_killer_cell.bw\n",
      "\thydrop: alias HyDrop\n",
      "\t\tbw: per_tech_cell_type_bigwigs_nonnorm/master_sub_1.FIXEDCELLS__CONSENSUS_pseudobulk_bw_files_nonnorm/hydrop_Natural_killer_cell.bw\n",
      "drawing column for region CD4_T_cell\n",
      "\tmtscatac: alias mtscATAC-seq\n",
      "\t\tbw: per_tech_cell_type_bigwigs_nonnorm/master_sub_1.FIXEDCELLS__CONSENSUS_pseudobulk_bw_files_nonnorm/mtscatac_CD4_T_cell.bw\n",
      "\t10xv11: alias 10x v1.1\n",
      "\t\tbw: per_tech_cell_type_bigwigs_nonnorm/master_sub_1.FIXEDCELLS__CONSENSUS_pseudobulk_bw_files_nonnorm/10xv11_CD4_T_cell.bw\n",
      "\ts3atac: alias s3-ATAC\n",
      "\t\tbw: per_tech_cell_type_bigwigs_nonnorm/master_sub_1.FIXEDCELLS__CONSENSUS_pseudobulk_bw_files_nonnorm/s3atac_CD4_T_cell.bw\n",
      "\t10xv2: alias 10x v2\n",
      "\t\tbw: per_tech_cell_type_bigwigs_nonnorm/master_sub_1.FIXEDCELLS__CONSENSUS_pseudobulk_bw_files_nonnorm/10xv2_CD4_T_cell.bw\n",
      "\t10xv1: alias 10x v1\n",
      "\t\tbw: per_tech_cell_type_bigwigs_nonnorm/master_sub_1.FIXEDCELLS__CONSENSUS_pseudobulk_bw_files_nonnorm/10xv1_CD4_T_cell.bw\n",
      "\thydrop: alias HyDrop\n",
      "\t\tbw: per_tech_cell_type_bigwigs_nonnorm/master_sub_1.FIXEDCELLS__CONSENSUS_pseudobulk_bw_files_nonnorm/hydrop_CD4_T_cell.bw\n",
      "\t10xmultiome: alias 10x Multiome\n",
      "\t\tbw: per_tech_cell_type_bigwigs_nonnorm/master_sub_1.FIXEDCELLS__CONSENSUS_pseudobulk_bw_files_nonnorm/10xmultiome_CD4_T_cell.bw\n",
      "\tddseq: alias ddSEQ SureCell\n",
      "\t\tbw: per_tech_cell_type_bigwigs_nonnorm/master_sub_1.FIXEDCELLS__CONSENSUS_pseudobulk_bw_files_nonnorm/ddseq_CD4_T_cell.bw\n"
     ]
    },
    {
     "data": {
      "image/png": "[encoded data removed]",
      "text/plain": [
       "<Figure size 432x576 with 119 Axes>"
      ]
     },
     "execution_count": 57,
     "metadata": {},
     "output_type": "execute_result"
    },
    {
     "data": {
      "image/png": "[encoded data removed]",
      "text/plain": [
       "<Figure size 432x576 with 119 Axes>"
      ]
     },
     "metadata": {},
     "output_type": "display_data"
    }
   ],
   "source": [
    "## create the gridspec\n",
    "fig = plt.figure(figsize=figsize, facecolor=\"white\")\n",
    "\n",
    "# define ratios between all elements in the graphic\n",
    "height_ratios = [0.2]  # for gtf\n",
    "height_ratios.append(len(bw_path_dict_dict))  # for bws\n",
    "height_ratios.append(0.2)  # for text box\n",
    "\n",
    "# create a global frame for the 3 modalities shown (bigwigs, gtf, and text)\n",
    "frame = gridspec.GridSpec(3, 1, wspace=0.25, hspace=0.17, height_ratios=height_ratios)\n",
    "\n",
    "# create a gridspec for each modality within the frame\n",
    "n_cols = len(regions_dict)\n",
    "n_rows = len(tech_order)\n",
    "\n",
    "text_grid = gridspec.GridSpecFromSubplotSpec(\n",
    "    1, n_cols, wspace=0.05, hspace=0, subplot_spec=frame[0, 0]\n",
    ")\n",
    "bw_dar_grid = gridspec.GridSpecFromSubplotSpec(\n",
    "    n_rows, n_cols, wspace=0.05, hspace=-0.6, subplot_spec=frame[1, 0]\n",
    ")\n",
    "gtf_grid = gridspec.GridSpecFromSubplotSpec(\n",
    "    max_genes, n_cols, wspace=0.05, hspace=0, subplot_spec=frame[2, 0]\n",
    ")\n",
    "\n",
    "## iterate over all regions (=columns in final figure)\n",
    "for region_name in regions_df_padded.index:\n",
    "    if verbose == True:\n",
    "        print(f\"drawing column for region {region_name}\")\n",
    "    region_index = list(regions_df_padded.index).index(\n",
    "        region_name\n",
    "    )  # get the region index for column indexing\n",
    "\n",
    "    # the genome coordinates over which we will be plotting:\n",
    "    chrom = regions_df_padded.loc[region_name][\"chrom\"]\n",
    "    start = int(regions_df_padded.loc[region_name][\"start\"])\n",
    "    end = int(regions_df_padded.loc[region_name][\"end\"])\n",
    "    x = np.array(range(start, end, 1))\n",
    "\n",
    "    # set ymax according to region\n",
    "    # bw_ymax = region_max_dict[region_name]\n",
    "\n",
    "    # you can also set global ymax:\n",
    "    bw_ymax = region_max_dict_padded[\n",
    "        max(region_max_dict_padded, key=region_max_dict_padded.get)\n",
    "    ]\n",
    "\n",
    "    ## iterate over all bigwigs (=rows in final figure)\n",
    "    for key in bw_path_dict_dict[region_name].keys():\n",
    "        if verbose == True:\n",
    "            print(f\"\\t{key}: alias {tech_alias_dict[key]}\")\n",
    "\n",
    "        bw_index = tech_order.index(key)  # get the bw index for row indexing\n",
    "\n",
    "        # create a new gridspec for bw + dar\n",
    "        if \"regions_dict_padded\" in locals() or \"peak_path_dict\" in locals():\n",
    "            bw_dar_subgrid = gridspec.GridSpecFromSubplotSpec(\n",
    "                2,\n",
    "                1,\n",
    "                wspace=0,\n",
    "                hspace=0,\n",
    "                subplot_spec=bw_dar_grid[bw_index, region_index],\n",
    "                height_ratios=[20, 1],\n",
    "            )\n",
    "        else:\n",
    "            bw_dar_subgrid = gridspec.GridSpecFromSubplotSpec(\n",
    "                1,\n",
    "                1,\n",
    "                wspace=0.05,\n",
    "                hspace=0.2,\n",
    "                subplot_spec=bw_dar_grid[bw_index, region_index],\n",
    "            )\n",
    "\n",
    "        # open the bigwig\n",
    "        bw_file = bw_path_dict_dict[region_name][key]\n",
    "        if verbose == True:\n",
    "            print(f\"\\t\\tbw: {bw_file}\")\n",
    "\n",
    "        bw = pyBigWig.open(bw_file)\n",
    "        y = bw.values(chrom, start, end)\n",
    "        y = np.nan_to_num(y)\n",
    "\n",
    "        # now plot the bigwig in the gridspec\n",
    "        ax = plt.Subplot(fig, bw_dar_subgrid[0, 0])\n",
    "        ax.fill_between(\n",
    "            x, y1=y, y2=0, step=\"mid\", linewidth=0, color=tech_color_palette[key]\n",
    "        )\n",
    "        ax.patch.set_alpha(0)\n",
    "\n",
    "        # figure settings\n",
    "        ax.set_xlim([x.min(), x.max()])\n",
    "        ax.set_ylim([0, bw_ymax])\n",
    "        ax.set_xticks([])\n",
    "        ax.set_yticks([])\n",
    "\n",
    "        # add a ylabel only if it's the last column\n",
    "        if region_name == regions_df_padded.index[-1]:\n",
    "            ax.yaxis.set_label_position(\"right\")\n",
    "            ax.set_ylabel(\n",
    "                tech_alias_dict[key],\n",
    "                rotation=0,\n",
    "                horizontalalignment=\"left\",\n",
    "                verticalalignment=\"bottom\",\n",
    "            )\n",
    "            ax.yaxis.set_label_coords(1.05, 0.05)\n",
    "\n",
    "        sns.despine(top=True, right=True, left=True, bottom=False, ax=ax)\n",
    "        for spine in ax.spines.values():\n",
    "            spine.set_edgecolor(tech_color_palette[key])\n",
    "\n",
    "        # add to the fig\n",
    "        fig.add_subplot(ax, transparent=True)\n",
    "\n",
    "        # first draw peaks if they are defined\n",
    "        if \"peak_path_dict\" in locals():\n",
    "            # get peaks that overlap the region to be plotted\n",
    "            peak = BedTool(peak_path_dict[region_name])\n",
    "            peak_region_intersection = peak.intersect(\n",
    "                BedTool.from_dataframe(df=regions_df_padded), wa=True, wb=True\n",
    "            )\n",
    "            peak_region_intersection = peak_region_intersection.to_dataframe(\n",
    "                header=None\n",
    "            )\n",
    "            peak_region_intersection = peak_region_intersection.iloc[:, :4]\n",
    "            peak_region_intersection.columns = \"chr start end name\".split()\n",
    "\n",
    "            # now plot the dars in the gridspec\n",
    "            ax = plt.Subplot(fig, bw_dar_subgrid[1, 0])\n",
    "            for element in peak_region_intersection.index:\n",
    "                part = peak_region_intersection.loc[element]\n",
    "                peak_start = part[\"start\"]\n",
    "                peak_end = part[\"end\"]\n",
    "\n",
    "                # plot a thin line, with beginning and ending as x coordinates, and bw_ymin as y coordinates\n",
    "                # NOTE: linewidth won't do much here, it is more determined by the 'space' you give to this part of the plot in height_ratios!\n",
    "                ax.plot([peak_start, peak_end], [0, 0], linewidth=4, c=peak_color)\n",
    "\n",
    "            # figure settings\n",
    "            ax.set_ylim([-1, +1])\n",
    "            addax()\n",
    "\n",
    "        # then draw dars if they are defined\n",
    "        if \"regions_path_dict\" in locals():\n",
    "            # get DARs that overlap the region to be plotted\n",
    "            dar = BedTool(regions_path_dict[region_name])\n",
    "            if verbose == True:\n",
    "                print(f\"\\t\\tdar: {regions_path_dict[region_name]}\")\n",
    "\n",
    "            dar_region_intersection = dar.intersect(\n",
    "                BedTool.from_dataframe(df=regions_df_padded), wa=True, wb=True\n",
    "            )\n",
    "            dar_region_intersection = dar_region_intersection.to_dataframe(header=None)\n",
    "            dar_region_intersection = dar_region_intersection.iloc[:, :4]\n",
    "            dar_region_intersection.columns = \"chr start end name\".split()\n",
    "\n",
    "            # now plot the dars in the gridspec\n",
    "            ax = plt.Subplot(fig, bw_dar_subgrid[1, 0])\n",
    "            for element in dar_region_intersection.index:\n",
    "                part = dar_region_intersection.loc[element]\n",
    "                dar_start = part[\"start\"]\n",
    "                dar_end = part[\"end\"]\n",
    "\n",
    "                # plot a thin line, with beginning and ending as x coordinates, and bw_ymin as y coordinates\n",
    "                # NOTE: linewidth won't do much here, it is more determined by the 'space' you give to this part of the plot in height_ratios!\n",
    "                ax.plot([dar_start, dar_end], [0, 0], linewidth=4, c=dar_color)\n",
    "\n",
    "            # figure settings\n",
    "            ax.set_ylim([-1, +1])\n",
    "            addax()\n",
    "\n",
    "    ## draw the genes of interest, from our gtf\n",
    "    # intersect genes gtf with the region of interest\n",
    "    if plot_genes == True:\n",
    "        gtf = BedTool(gtf_file)\n",
    "        gtf_region_intersection = gtf.intersect(\n",
    "            BedTool.from_dataframe(df=regions_df_padded), wa=True, wb=True\n",
    "        )\n",
    "        gtf_region_intersection = gtf_region_intersection.to_dataframe(header=None)\n",
    "        gtf_region_intersection = gtf_region_intersection.iloc[:, :9]\n",
    "        gtf_region_intersection.columns = (\n",
    "            \"chr db feature start end score strand frame attribute\".split()\n",
    "        )\n",
    "\n",
    "        ## iterate over all genes of interest in genes_dict\n",
    "        for gene in genes_dict[region_name]:\n",
    "            gene_index = genes_dict[region_name].index(\n",
    "                gene\n",
    "            )  # get gene index for row indexing\n",
    "\n",
    "            # get gtf intersection with only gene body and exons of this particular gene\n",
    "            gtf_region_intersection_gene = gtf_region_intersection[\n",
    "                gtf_region_intersection[\"attribute\"].str.contains(gene)\n",
    "            ]\n",
    "            gtf_region_intersection_gene = gtf_region_intersection_gene[\n",
    "                gtf_region_intersection_gene[\"feature\"].str.contains(\"gene|exon\")\n",
    "            ]\n",
    "\n",
    "            # now plot the gene parts (gene body and gene exon)\n",
    "            ax = plt.Subplot(fig, gtf_grid[gene_index, region_index])\n",
    "\n",
    "            # iterate over all parts to plot them\n",
    "            for element in gtf_region_intersection_gene.index:\n",
    "                part = gtf_region_intersection_gene.loc[element]\n",
    "\n",
    "                # make exons thick\n",
    "                if part[\"feature\"] == \"exon\":\n",
    "                    exon_start = part[\"start\"]\n",
    "                    exon_end = part[\"end\"]\n",
    "                    # draw rectangle for exon\n",
    "                    rect = mpatches.Rectangle(\n",
    "                        (exon_start, exon_bottom),\n",
    "                        exon_end - exon_start,\n",
    "                        exon_height,\n",
    "                        fill=True,\n",
    "                        color=\"k\",\n",
    "                        linewidth=0,\n",
    "                    )\n",
    "                    ax.add_patch(rect)\n",
    "\n",
    "                # make the gene body a thin line, drawn at the end so it will always display on top\n",
    "                elif part[\"feature\"] == \"gene\":\n",
    "                    gene_start = part[\"start\"]\n",
    "                    gene_end = part[\"end\"]\n",
    "                    rect = mpatches.Rectangle(\n",
    "                        (gene_start, gene_bottom),\n",
    "                        gene_end - gene_start,\n",
    "                        gene_height,\n",
    "                        fill=True,\n",
    "                        color=\"k\",\n",
    "                        linewidth=0,\n",
    "                    )\n",
    "                    ax.add_patch(rect)\n",
    "\n",
    "        if verbose == True:\n",
    "            print(\n",
    "                f\"\\tfor region {region_name}, drew gene {gene}, {len(gtf_region_intersection_gene.index)} individual items drawn\\n\"\n",
    "            )\n",
    "\n",
    "        # figure settings\n",
    "        ax.set_ylim([exon_bottom, -exon_bottom])\n",
    "        ax.set_xlabel(gene, fontsize=10)\n",
    "        addax()\n",
    "\n",
    "    ## finally, add a little text that shows which regions you're plotting\n",
    "    ax = plt.Subplot(fig, text_grid[0, region_index])\n",
    "\n",
    "    region = regions_dict_padded[region_name]\n",
    "    length = round((end - start) / 1000)\n",
    "    label = f\"{region},\\n{length} kb\"\n",
    "\n",
    "    ax.set_xlabel(label, fontsize=6)\n",
    "    addax()\n",
    "\n",
    "fig.savefig(\n",
    "    \"plts_track/libds_track.png\",\n",
    "    dpi=350,\n",
    "    bbox_inches=\"tight\",\n",
    "    pad_inches=0,\n",
    "    transparent=False,\n",
    "    facecolor=\"white\",\n",
    ")\n",
    "fig.savefig(\n",
    "    \"plts_track/libds_track.svg\",\n",
    "    dpi=350,\n",
    "    bbox_inches=\"tight\",\n",
    "    pad_inches=0,\n",
    "    transparent=False,\n",
    "    facecolor=\"white\",\n",
    ")\n",
    "\n",
    "fig"
   ]
  },
  {
   "cell_type": "markdown",
   "id": "97ba680d-6931-46dc-a491-43335ac7a859",
   "metadata": {},
   "source": [
    "# now use the harmony DARs and no normalisation"
   ]
  },
  {
   "cell_type": "code",
   "execution_count": 284,
   "id": "6b0a3f51-7982-4f20-8453-ec7a6252792a",
   "metadata": {
    "execution": {
     "iopub.execute_input": "2023-01-05T10:50:19.395251Z",
     "iopub.status.busy": "2023-01-05T10:50:19.394564Z",
     "iopub.status.idle": "2023-01-05T10:50:19.417272Z",
     "shell.execute_reply": "2023-01-05T10:50:19.415934Z",
     "shell.execute_reply.started": "2023-01-05T10:50:19.395185Z"
    },
    "tags": []
   },
   "outputs": [
    {
     "data": {
      "text/plain": [
       "{'master_sub_1.FIXEDCELLS__Cytotoxic_T_cell': 'downstream_analysis/harmony_DARs/master_sub_1.FIXEDCELLS/master_sub_1.FIXEDCELLS__Cytotoxic_T_cell__DARs.TOP2k.bed',\n",
       " 'master_sub_1.FIXEDCELLS__CD14+_monocyte': 'downstream_analysis/harmony_DARs/master_sub_1.FIXEDCELLS/master_sub_1.FIXEDCELLS__CD14+_monocyte__DARs.TOP2k.bed',\n",
       " 'master_sub_1.FIXEDCELLS__B_cell': 'downstream_analysis/harmony_DARs/master_sub_1.FIXEDCELLS/master_sub_1.FIXEDCELLS__B_cell__DARs.TOP2k.bed',\n",
       " 'master_sub_1.FIXEDCELLS__CD16+_monocyte': 'downstream_analysis/harmony_DARs/master_sub_1.FIXEDCELLS/master_sub_1.FIXEDCELLS__CD16+_monocyte__DARs.TOP2k.bed',\n",
       " 'master_sub_1.FIXEDCELLS__Dendritic_cell': 'downstream_analysis/harmony_DARs/master_sub_1.FIXEDCELLS/master_sub_1.FIXEDCELLS__Dendritic_cell__DARs.TOP2k.bed',\n",
       " 'master_sub_1.FIXEDCELLS__Natural_killer_cell': 'downstream_analysis/harmony_DARs/master_sub_1.FIXEDCELLS/master_sub_1.FIXEDCELLS__Natural_killer_cell__DARs.TOP2k.bed',\n",
       " 'master_sub_1.FIXEDCELLS__CD4+_T_cell': 'downstream_analysis/harmony_DARs/master_sub_1.FIXEDCELLS/master_sub_1.FIXEDCELLS__CD4+_T_cell__DARs.TOP2k.bed'}"
      ]
     },
     "execution_count": 284,
     "metadata": {},
     "output_type": "execute_result"
    }
   ],
   "source": [
    "merged_dar_path_dict = {\n",
    "    x.split(\"/\")[-1].split(\"__DARs.TOP2k.bed\")[0]: x\n",
    "    for x in glob.glob(\n",
    "        \"downstream_analysis/harmony_DARs/master_sub_1.FIXEDCELLS/master_sub_1.FIXEDCELLS__*TOP2k.bed\"\n",
    "    )\n",
    "}\n",
    "merged_dar_path_dict"
   ]
  },
  {
   "cell_type": "code",
   "execution_count": 285,
   "id": "13f4f585-9268-41eb-920f-baa49cb0fc7c",
   "metadata": {
    "execution": {
     "iopub.execute_input": "2023-01-05T10:50:19.457181Z",
     "iopub.status.busy": "2023-01-05T10:50:19.456532Z",
     "iopub.status.idle": "2023-01-05T10:50:19.521646Z",
     "shell.execute_reply": "2023-01-05T10:50:19.520869Z",
     "shell.execute_reply.started": "2023-01-05T10:50:19.457119Z"
    },
    "tags": []
   },
   "outputs": [
    {
     "name": "stdout",
     "output_type": "stream",
     "text": [
      "master_sub_1.FIXEDCELLS__Cytotoxic_T_cell\n",
      "master_sub_1.FIXEDCELLS__CD14+_monocyte\n",
      "master_sub_1.FIXEDCELLS__B_cell\n",
      "master_sub_1.FIXEDCELLS__CD16+_monocyte\n",
      "master_sub_1.FIXEDCELLS__Dendritic_cell\n",
      "master_sub_1.FIXEDCELLS__Natural_killer_cell\n",
      "master_sub_1.FIXEDCELLS__CD4+_T_cell\n"
     ]
    },
    {
     "data": {
      "text/plain": [
       "OrderedDict([('Cytotoxic_T_cell', 'chr9:75010514-75011014'),\n",
       "             ('CD14+_monocyte', 'chr3:149373637-149374137'),\n",
       "             ('B_cell', 'chr5:158898392-158898892'),\n",
       "             ('CD16+_monocyte', 'chr13:48624875-48625375'),\n",
       "             ('Dendritic_cell', 'chr7:115505120-115505620'),\n",
       "             ('Natural_killer_cell', 'chr11:65694802-65695302'),\n",
       "             ('CD4+_T_cell', 'chr3:3297025-3297525')])"
      ]
     },
     "execution_count": 285,
     "metadata": {},
     "output_type": "execute_result"
    }
   ],
   "source": [
    "regions_dict = OrderedDict({})\n",
    "\n",
    "for supersample, path in merged_dar_path_dict.items():\n",
    "    print(supersample)\n",
    "    df = pd.read_csv(path, sep=\"\\t\", header=None)\n",
    "    df.columns = \"chrom start end cell_type log2fc strand p_val\".split()\n",
    "    # print(df.iloc[0])\n",
    "\n",
    "    cell_type = supersample.split(\"__\")[-1]\n",
    "    region = f\"{df.iloc[0]['chrom']}:{df.iloc[0]['start']}-{df.iloc[0]['end']}\"\n",
    "    regions_dict[cell_type] = region\n",
    "\n",
    "regions_dict"
   ]
  },
  {
   "cell_type": "code",
   "execution_count": 286,
   "id": "dff64ce2-255a-464d-b36d-457b70865799",
   "metadata": {
    "execution": {
     "iopub.execute_input": "2023-01-05T10:50:19.522728Z",
     "iopub.status.busy": "2023-01-05T10:50:19.522540Z",
     "iopub.status.idle": "2023-01-05T10:50:19.557527Z",
     "shell.execute_reply": "2023-01-05T10:50:19.556153Z",
     "shell.execute_reply.started": "2023-01-05T10:50:19.522709Z"
    },
    "tags": []
   },
   "outputs": [],
   "source": [
    "regions_df = pd.DataFrame(columns=[\"chrom\", \"start\", \"end\"])\n",
    "for key in regions_dict.keys():\n",
    "    row = list(regions_dict.keys()).index(key)\n",
    "    chrom, start, end = re.split(\":|-\", regions_dict[key])\n",
    "    start = int(re.sub(\",\", \"\", start))\n",
    "    end = int(re.sub(\",\", \"\", end))\n",
    "\n",
    "    region = pd.DataFrame(columns=[\"chrom\", \"start\", \"end\"], index=[key])\n",
    "    region[\"chrom\"] = chrom\n",
    "    region[\"start\"] = start\n",
    "    region[\"end\"] = end\n",
    "    regions_df = pd.concat([regions_df, region], axis=0)\n",
    "\n",
    "bedtool_obj = BedTool.from_dataframe(df=regions_df)"
   ]
  },
  {
   "cell_type": "markdown",
   "id": "709872a7-f802-4c85-810d-0fee052b306c",
   "metadata": {},
   "source": [
    "genes to plot"
   ]
  },
  {
   "cell_type": "code",
   "execution_count": 287,
   "id": "66eb4578-edfe-485e-b34e-06af31618da0",
   "metadata": {
    "execution": {
     "iopub.execute_input": "2023-01-05T10:50:19.656685Z",
     "iopub.status.busy": "2023-01-05T10:50:19.656073Z",
     "iopub.status.idle": "2023-01-05T10:50:19.696535Z",
     "shell.execute_reply": "2023-01-05T10:50:19.695680Z",
     "shell.execute_reply.started": "2023-01-05T10:50:19.656623Z"
    },
    "tags": []
   },
   "outputs": [
    {
     "data": {
      "text/plain": [
       "{'CD14_monocyte': {'10xv2': 'per_tech_harmony_cell_type_bigwigs_nonnorm/master_sub_1.FIXEDCELLS__CONSENSUS_pseudobulk_bw_files_nonnorm/10xv2_CD14_monocyte.bw',\n",
       "  'hydrop': 'per_tech_harmony_cell_type_bigwigs_nonnorm/master_sub_1.FIXEDCELLS__CONSENSUS_pseudobulk_bw_files_nonnorm/hydrop_CD14_monocyte.bw',\n",
       "  '10xmultiome': 'per_tech_harmony_cell_type_bigwigs_nonnorm/master_sub_1.FIXEDCELLS__CONSENSUS_pseudobulk_bw_files_nonnorm/10xmultiome_CD14_monocyte.bw',\n",
       "  'ddseq': 'per_tech_harmony_cell_type_bigwigs_nonnorm/master_sub_1.FIXEDCELLS__CONSENSUS_pseudobulk_bw_files_nonnorm/ddseq_CD14_monocyte.bw',\n",
       "  'mtscatac': 'per_tech_harmony_cell_type_bigwigs_nonnorm/master_sub_1.FIXEDCELLS__CONSENSUS_pseudobulk_bw_files_nonnorm/mtscatac_CD14_monocyte.bw',\n",
       "  's3atac': 'per_tech_harmony_cell_type_bigwigs_nonnorm/master_sub_1.FIXEDCELLS__CONSENSUS_pseudobulk_bw_files_nonnorm/s3atac_CD14_monocyte.bw',\n",
       "  '10xv11': 'per_tech_harmony_cell_type_bigwigs_nonnorm/master_sub_1.FIXEDCELLS__CONSENSUS_pseudobulk_bw_files_nonnorm/10xv11_CD14_monocyte.bw',\n",
       "  '10xv1': 'per_tech_harmony_cell_type_bigwigs_nonnorm/master_sub_1.FIXEDCELLS__CONSENSUS_pseudobulk_bw_files_nonnorm/10xv1_CD14_monocyte.bw'},\n",
       " 'Dendritic_cell': {'mtscatac': 'per_tech_harmony_cell_type_bigwigs_nonnorm/master_sub_1.FIXEDCELLS__CONSENSUS_pseudobulk_bw_files_nonnorm/mtscatac_Dendritic_cell.bw',\n",
       "  '10xv2': 'per_tech_harmony_cell_type_bigwigs_nonnorm/master_sub_1.FIXEDCELLS__CONSENSUS_pseudobulk_bw_files_nonnorm/10xv2_Dendritic_cell.bw',\n",
       "  'ddseq': 'per_tech_harmony_cell_type_bigwigs_nonnorm/master_sub_1.FIXEDCELLS__CONSENSUS_pseudobulk_bw_files_nonnorm/ddseq_Dendritic_cell.bw',\n",
       "  '10xv1': 'per_tech_harmony_cell_type_bigwigs_nonnorm/master_sub_1.FIXEDCELLS__CONSENSUS_pseudobulk_bw_files_nonnorm/10xv1_Dendritic_cell.bw',\n",
       "  '10xmultiome': 'per_tech_harmony_cell_type_bigwigs_nonnorm/master_sub_1.FIXEDCELLS__CONSENSUS_pseudobulk_bw_files_nonnorm/10xmultiome_Dendritic_cell.bw',\n",
       "  's3atac': 'per_tech_harmony_cell_type_bigwigs_nonnorm/master_sub_1.FIXEDCELLS__CONSENSUS_pseudobulk_bw_files_nonnorm/s3atac_Dendritic_cell.bw',\n",
       "  '10xv11': 'per_tech_harmony_cell_type_bigwigs_nonnorm/master_sub_1.FIXEDCELLS__CONSENSUS_pseudobulk_bw_files_nonnorm/10xv11_Dendritic_cell.bw',\n",
       "  'hydrop': 'per_tech_harmony_cell_type_bigwigs_nonnorm/master_sub_1.FIXEDCELLS__CONSENSUS_pseudobulk_bw_files_nonnorm/hydrop_Dendritic_cell.bw'},\n",
       " 'CD16_monocyte': {'10xv1': 'per_tech_harmony_cell_type_bigwigs_nonnorm/master_sub_1.FIXEDCELLS__CONSENSUS_pseudobulk_bw_files_nonnorm/10xv1_CD16_monocyte.bw',\n",
       "  'mtscatac': 'per_tech_harmony_cell_type_bigwigs_nonnorm/master_sub_1.FIXEDCELLS__CONSENSUS_pseudobulk_bw_files_nonnorm/mtscatac_CD16_monocyte.bw',\n",
       "  'hydrop': 'per_tech_harmony_cell_type_bigwigs_nonnorm/master_sub_1.FIXEDCELLS__CONSENSUS_pseudobulk_bw_files_nonnorm/hydrop_CD16_monocyte.bw',\n",
       "  '10xmultiome': 'per_tech_harmony_cell_type_bigwigs_nonnorm/master_sub_1.FIXEDCELLS__CONSENSUS_pseudobulk_bw_files_nonnorm/10xmultiome_CD16_monocyte.bw',\n",
       "  's3atac': 'per_tech_harmony_cell_type_bigwigs_nonnorm/master_sub_1.FIXEDCELLS__CONSENSUS_pseudobulk_bw_files_nonnorm/s3atac_CD16_monocyte.bw',\n",
       "  '10xv2': 'per_tech_harmony_cell_type_bigwigs_nonnorm/master_sub_1.FIXEDCELLS__CONSENSUS_pseudobulk_bw_files_nonnorm/10xv2_CD16_monocyte.bw',\n",
       "  'ddseq': 'per_tech_harmony_cell_type_bigwigs_nonnorm/master_sub_1.FIXEDCELLS__CONSENSUS_pseudobulk_bw_files_nonnorm/ddseq_CD16_monocyte.bw',\n",
       "  '10xv11': 'per_tech_harmony_cell_type_bigwigs_nonnorm/master_sub_1.FIXEDCELLS__CONSENSUS_pseudobulk_bw_files_nonnorm/10xv11_CD16_monocyte.bw'},\n",
       " 'CD4_T_cell': {'mtscatac': 'per_tech_harmony_cell_type_bigwigs_nonnorm/master_sub_1.FIXEDCELLS__CONSENSUS_pseudobulk_bw_files_nonnorm/mtscatac_CD4_T_cell.bw',\n",
       "  '10xv11': 'per_tech_harmony_cell_type_bigwigs_nonnorm/master_sub_1.FIXEDCELLS__CONSENSUS_pseudobulk_bw_files_nonnorm/10xv11_CD4_T_cell.bw',\n",
       "  's3atac': 'per_tech_harmony_cell_type_bigwigs_nonnorm/master_sub_1.FIXEDCELLS__CONSENSUS_pseudobulk_bw_files_nonnorm/s3atac_CD4_T_cell.bw',\n",
       "  '10xv2': 'per_tech_harmony_cell_type_bigwigs_nonnorm/master_sub_1.FIXEDCELLS__CONSENSUS_pseudobulk_bw_files_nonnorm/10xv2_CD4_T_cell.bw',\n",
       "  '10xv1': 'per_tech_harmony_cell_type_bigwigs_nonnorm/master_sub_1.FIXEDCELLS__CONSENSUS_pseudobulk_bw_files_nonnorm/10xv1_CD4_T_cell.bw',\n",
       "  'hydrop': 'per_tech_harmony_cell_type_bigwigs_nonnorm/master_sub_1.FIXEDCELLS__CONSENSUS_pseudobulk_bw_files_nonnorm/hydrop_CD4_T_cell.bw',\n",
       "  '10xmultiome': 'per_tech_harmony_cell_type_bigwigs_nonnorm/master_sub_1.FIXEDCELLS__CONSENSUS_pseudobulk_bw_files_nonnorm/10xmultiome_CD4_T_cell.bw',\n",
       "  'ddseq': 'per_tech_harmony_cell_type_bigwigs_nonnorm/master_sub_1.FIXEDCELLS__CONSENSUS_pseudobulk_bw_files_nonnorm/ddseq_CD4_T_cell.bw'},\n",
       " 'B_cell': {'10xmultiome': 'per_tech_harmony_cell_type_bigwigs_nonnorm/master_sub_1.FIXEDCELLS__CONSENSUS_pseudobulk_bw_files_nonnorm/10xmultiome_B_cell.bw',\n",
       "  'mtscatac': 'per_tech_harmony_cell_type_bigwigs_nonnorm/master_sub_1.FIXEDCELLS__CONSENSUS_pseudobulk_bw_files_nonnorm/mtscatac_B_cell.bw',\n",
       "  '10xv11': 'per_tech_harmony_cell_type_bigwigs_nonnorm/master_sub_1.FIXEDCELLS__CONSENSUS_pseudobulk_bw_files_nonnorm/10xv11_B_cell.bw',\n",
       "  'ddseq': 'per_tech_harmony_cell_type_bigwigs_nonnorm/master_sub_1.FIXEDCELLS__CONSENSUS_pseudobulk_bw_files_nonnorm/ddseq_B_cell.bw',\n",
       "  'hydrop': 'per_tech_harmony_cell_type_bigwigs_nonnorm/master_sub_1.FIXEDCELLS__CONSENSUS_pseudobulk_bw_files_nonnorm/hydrop_B_cell.bw',\n",
       "  's3atac': 'per_tech_harmony_cell_type_bigwigs_nonnorm/master_sub_1.FIXEDCELLS__CONSENSUS_pseudobulk_bw_files_nonnorm/s3atac_B_cell.bw',\n",
       "  '10xv1': 'per_tech_harmony_cell_type_bigwigs_nonnorm/master_sub_1.FIXEDCELLS__CONSENSUS_pseudobulk_bw_files_nonnorm/10xv1_B_cell.bw',\n",
       "  '10xv2': 'per_tech_harmony_cell_type_bigwigs_nonnorm/master_sub_1.FIXEDCELLS__CONSENSUS_pseudobulk_bw_files_nonnorm/10xv2_B_cell.bw'},\n",
       " 'Natural_killer_cell': {'s3atac': 'per_tech_harmony_cell_type_bigwigs_nonnorm/master_sub_1.FIXEDCELLS__CONSENSUS_pseudobulk_bw_files_nonnorm/s3atac_Natural_killer_cell.bw',\n",
       "  '10xv1': 'per_tech_harmony_cell_type_bigwigs_nonnorm/master_sub_1.FIXEDCELLS__CONSENSUS_pseudobulk_bw_files_nonnorm/10xv1_Natural_killer_cell.bw',\n",
       "  'ddseq': 'per_tech_harmony_cell_type_bigwigs_nonnorm/master_sub_1.FIXEDCELLS__CONSENSUS_pseudobulk_bw_files_nonnorm/ddseq_Natural_killer_cell.bw',\n",
       "  '10xv11': 'per_tech_harmony_cell_type_bigwigs_nonnorm/master_sub_1.FIXEDCELLS__CONSENSUS_pseudobulk_bw_files_nonnorm/10xv11_Natural_killer_cell.bw',\n",
       "  '10xv2': 'per_tech_harmony_cell_type_bigwigs_nonnorm/master_sub_1.FIXEDCELLS__CONSENSUS_pseudobulk_bw_files_nonnorm/10xv2_Natural_killer_cell.bw',\n",
       "  'mtscatac': 'per_tech_harmony_cell_type_bigwigs_nonnorm/master_sub_1.FIXEDCELLS__CONSENSUS_pseudobulk_bw_files_nonnorm/mtscatac_Natural_killer_cell.bw',\n",
       "  '10xmultiome': 'per_tech_harmony_cell_type_bigwigs_nonnorm/master_sub_1.FIXEDCELLS__CONSENSUS_pseudobulk_bw_files_nonnorm/10xmultiome_Natural_killer_cell.bw',\n",
       "  'hydrop': 'per_tech_harmony_cell_type_bigwigs_nonnorm/master_sub_1.FIXEDCELLS__CONSENSUS_pseudobulk_bw_files_nonnorm/hydrop_Natural_killer_cell.bw'},\n",
       " 'Cytotoxic_T_cell': {'10xv1': 'per_tech_harmony_cell_type_bigwigs_nonnorm/master_sub_1.FIXEDCELLS__CONSENSUS_pseudobulk_bw_files_nonnorm/10xv1_Cytotoxic_T_cell.bw',\n",
       "  'ddseq': 'per_tech_harmony_cell_type_bigwigs_nonnorm/master_sub_1.FIXEDCELLS__CONSENSUS_pseudobulk_bw_files_nonnorm/ddseq_Cytotoxic_T_cell.bw',\n",
       "  's3atac': 'per_tech_harmony_cell_type_bigwigs_nonnorm/master_sub_1.FIXEDCELLS__CONSENSUS_pseudobulk_bw_files_nonnorm/s3atac_Cytotoxic_T_cell.bw',\n",
       "  'mtscatac': 'per_tech_harmony_cell_type_bigwigs_nonnorm/master_sub_1.FIXEDCELLS__CONSENSUS_pseudobulk_bw_files_nonnorm/mtscatac_Cytotoxic_T_cell.bw',\n",
       "  '10xv2': 'per_tech_harmony_cell_type_bigwigs_nonnorm/master_sub_1.FIXEDCELLS__CONSENSUS_pseudobulk_bw_files_nonnorm/10xv2_Cytotoxic_T_cell.bw',\n",
       "  '10xmultiome': 'per_tech_harmony_cell_type_bigwigs_nonnorm/master_sub_1.FIXEDCELLS__CONSENSUS_pseudobulk_bw_files_nonnorm/10xmultiome_Cytotoxic_T_cell.bw',\n",
       "  'hydrop': 'per_tech_harmony_cell_type_bigwigs_nonnorm/master_sub_1.FIXEDCELLS__CONSENSUS_pseudobulk_bw_files_nonnorm/hydrop_Cytotoxic_T_cell.bw',\n",
       "  '10xv11': 'per_tech_harmony_cell_type_bigwigs_nonnorm/master_sub_1.FIXEDCELLS__CONSENSUS_pseudobulk_bw_files_nonnorm/10xv11_Cytotoxic_T_cell.bw'}}"
      ]
     },
     "execution_count": 287,
     "metadata": {},
     "output_type": "execute_result"
    }
   ],
   "source": [
    "cell_types = list(\n",
    "    set(\n",
    "        [\n",
    "            \"_\".join(x.split(\"/\")[-1].split(\"_\")[1:]).split(\".\")[0]\n",
    "            for x in glob.glob(\n",
    "                \"per_tech_harmony_cell_type_bigwigs_nonnorm/master_sub_1.FIXEDCELLS__CONSENSUS_pseudobulk_bw_files_nonnorm/*\"\n",
    "            )\n",
    "        ]\n",
    "    )\n",
    ")\n",
    "\n",
    "bw_path_dict_dict = {}\n",
    "for cell_type in cell_types:\n",
    "    # print(cell_type)\n",
    "    bw_path_dict_dict[cell_type] = {\n",
    "        x.split(\"/\")[-1].split(\"_\")[0]: x\n",
    "        for x in glob.glob(\n",
    "            f\"per_tech_harmony_cell_type_bigwigs_nonnorm/master_sub_1.FIXEDCELLS__CONSENSUS_pseudobulk_bw_files_nonnorm/*{cell_type}*\"\n",
    "        )\n",
    "    }\n",
    "bw_path_dict_dict"
   ]
  },
  {
   "cell_type": "code",
   "execution_count": 288,
   "id": "720e3f57-9746-4cda-ba5d-7822d44859e8",
   "metadata": {
    "execution": {
     "iopub.execute_input": "2023-01-05T10:50:19.697970Z",
     "iopub.status.busy": "2023-01-05T10:50:19.697728Z",
     "iopub.status.idle": "2023-01-05T10:50:19.705409Z",
     "shell.execute_reply": "2023-01-05T10:50:19.704667Z",
     "shell.execute_reply.started": "2023-01-05T10:50:19.697946Z"
    },
    "tags": []
   },
   "outputs": [],
   "source": [
    "dar_color = \"b\"\n",
    "peak_color = \"k\"\n",
    "gene_height = 3\n",
    "gene_bottom = -gene_height / 2\n",
    "exon_height = 6\n",
    "exon_bottom = -exon_height / 2\n",
    "\n",
    "figsize = (6, 8)"
   ]
  },
  {
   "cell_type": "code",
   "execution_count": 289,
   "id": "0f8e80aa-5a08-42e8-8c2a-e501f1e737eb",
   "metadata": {
    "execution": {
     "iopub.execute_input": "2023-01-05T10:50:19.723724Z",
     "iopub.status.busy": "2023-01-05T10:50:19.723414Z",
     "iopub.status.idle": "2023-01-05T10:50:19.738069Z",
     "shell.execute_reply": "2023-01-05T10:50:19.737084Z",
     "shell.execute_reply.started": "2023-01-05T10:50:19.723694Z"
    },
    "tags": []
   },
   "outputs": [],
   "source": [
    "def addax():\n",
    "    ax.set_xlim([x.min(), x.max()])\n",
    "    sns.despine(top=True, right=True, left=True, bottom=True, ax=ax)\n",
    "    ax.set_xticks([])\n",
    "    ax.set_yticks([])\n",
    "    ax.patch.set_alpha(\n",
    "        0\n",
    "    )  # make sure that each individual subplot is transparent! otherwise the underlying plots won't be shown. this is important e.g. for the dar/peak visualisaton, since the DARs are drawn directly on top of the peaks. if the DAR plot is not transparent, no peaks will be visible!!\n",
    "\n",
    "    fig.add_subplot(ax)"
   ]
  },
  {
   "cell_type": "code",
   "execution_count": 290,
   "id": "bbf2c21e-2803-4ba9-af2e-53329bbf50f0",
   "metadata": {
    "execution": {
     "iopub.execute_input": "2023-01-05T10:50:19.779603Z",
     "iopub.status.busy": "2023-01-05T10:50:19.778989Z",
     "iopub.status.idle": "2023-01-05T10:50:19.787279Z",
     "shell.execute_reply": "2023-01-05T10:50:19.785899Z",
     "shell.execute_reply.started": "2023-01-05T10:50:19.779541Z"
    },
    "tags": []
   },
   "outputs": [],
   "source": [
    "max_genes = 1"
   ]
  },
  {
   "cell_type": "code",
   "execution_count": 291,
   "id": "237a88d7-75db-42f0-94a4-13a33d1befe4",
   "metadata": {
    "execution": {
     "iopub.execute_input": "2023-01-05T10:50:19.816434Z",
     "iopub.status.busy": "2023-01-05T10:50:19.815823Z",
     "iopub.status.idle": "2023-01-05T10:50:19.825235Z",
     "shell.execute_reply": "2023-01-05T10:50:19.823821Z",
     "shell.execute_reply.started": "2023-01-05T10:50:19.816374Z"
    },
    "tags": []
   },
   "outputs": [],
   "source": [
    "plot_genes = False\n",
    "verbose = True"
   ]
  },
  {
   "cell_type": "code",
   "execution_count": 292,
   "id": "38487627-2b1f-487f-a8cd-0879a8e5b987",
   "metadata": {
    "execution": {
     "iopub.execute_input": "2023-01-05T10:50:19.927445Z",
     "iopub.status.busy": "2023-01-05T10:50:19.926838Z",
     "iopub.status.idle": "2023-01-05T10:50:19.959472Z",
     "shell.execute_reply": "2023-01-05T10:50:19.958625Z",
     "shell.execute_reply.started": "2023-01-05T10:50:19.927386Z"
    },
    "tags": []
   },
   "outputs": [],
   "source": [
    "region_forced_length = 2000\n",
    "\n",
    "regions_df_padded = regions_df.copy()\n",
    "\n",
    "regions_df_padded[\"region_center\"] = (\n",
    "    regions_df_padded[\"start\"]\n",
    "    + (regions_df_padded[\"end\"] - regions_df_padded[\"start\"]) / 2\n",
    ")\n",
    "\n",
    "\n",
    "regions_df_padded[\"start\"] = (\n",
    "    regions_df_padded[\"region_center\"] - region_forced_length / 2\n",
    ")\n",
    "regions_df_padded[\"start\"] = [int(x) for x in regions_df_padded[\"start\"]]\n",
    "regions_df_padded[\"end\"] = regions_df_padded[\"region_center\"] + region_forced_length / 2\n",
    "regions_df_padded[\"end\"] = [int(x) for x in regions_df_padded[\"end\"]]"
   ]
  },
  {
   "cell_type": "code",
   "execution_count": 293,
   "id": "183555df-c456-4613-be75-e081da34a336",
   "metadata": {
    "execution": {
     "iopub.execute_input": "2023-01-05T10:50:19.960678Z",
     "iopub.status.busy": "2023-01-05T10:50:19.960473Z",
     "iopub.status.idle": "2023-01-05T10:50:20.373340Z",
     "shell.execute_reply": "2023-01-05T10:50:20.372548Z",
     "shell.execute_reply.started": "2023-01-05T10:50:19.960656Z"
    },
    "tags": []
   },
   "outputs": [
    {
     "name": "stdout",
     "output_type": "stream",
     "text": [
      "calculated max values within region Cytotoxic_T_cell\n",
      "calculated max values within region CD14+_monocyte\n",
      "calculated max values within region B_cell\n",
      "calculated max values within region CD16+_monocyte\n",
      "calculated max values within region Dendritic_cell\n",
      "calculated max values within region Natural_killer_cell\n",
      "calculated max values within region CD4+_T_cell\n"
     ]
    },
    {
     "data": {
      "text/plain": [
       "{'Cytotoxic_T_cell': 24.0,\n",
       " 'CD14+_monocyte': 56.0,\n",
       " 'B_cell': 38.0,\n",
       " 'CD16+_monocyte': 36.0,\n",
       " 'Dendritic_cell': 40.0,\n",
       " 'Natural_killer_cell': 38.0,\n",
       " 'CD4+_T_cell': 36.0}"
      ]
     },
     "execution_count": 293,
     "metadata": {},
     "output_type": "execute_result"
    }
   ],
   "source": [
    "## calculate bw_ymax per col\n",
    "region_max_dict_padded = {}\n",
    "for region_name in regions_df_padded.index:\n",
    "    chrom = regions_df_padded.loc[region_name][\"chrom\"]\n",
    "    start = int(regions_df_padded.loc[region_name][\"start\"])\n",
    "    end = int(regions_df_padded.loc[region_name][\"end\"])\n",
    "\n",
    "    bw_ymax_dict_dict = {}\n",
    "    for cell_type in bw_path_dict_dict.keys():\n",
    "        bw_ymax_dict = {}\n",
    "\n",
    "        for tech in bw_path_dict_dict[cell_type].keys():\n",
    "            bw_file = bw_path_dict_dict[cell_type][tech]\n",
    "\n",
    "            # calculate max value of the bigwig within our region\n",
    "            bw = pyBigWig.open(bw_file)\n",
    "            y = bw.values(chrom, start, end)\n",
    "            y = np.nan_to_num(y)\n",
    "\n",
    "            bw_ymax_dict[tech] = y.max()\n",
    "\n",
    "        bw_ymax_dict_dict[cell_type] = max(bw_ymax_dict.values())\n",
    "\n",
    "    region_max_dict_padded[region_name] = bw_ymax_dict_dict[\n",
    "        max(bw_ymax_dict_dict, key=bw_ymax_dict_dict.get)\n",
    "    ]\n",
    "    print(f\"calculated max values within region {region_name}\")\n",
    "\n",
    "region_max_dict_padded"
   ]
  },
  {
   "cell_type": "code",
   "execution_count": 294,
   "id": "812e0c1f-2f2d-4ba9-b27d-2d946c6b7587",
   "metadata": {
    "execution": {
     "iopub.execute_input": "2023-01-05T10:50:20.374630Z",
     "iopub.status.busy": "2023-01-05T10:50:20.374425Z",
     "iopub.status.idle": "2023-01-05T10:50:20.382991Z",
     "shell.execute_reply": "2023-01-05T10:50:20.382251Z",
     "shell.execute_reply.started": "2023-01-05T10:50:20.374608Z"
    },
    "tags": []
   },
   "outputs": [
    {
     "data": {
      "text/html": [
       "<div>\n",
       "<style scoped>\n",
       "    .dataframe tbody tr th:only-of-type {\n",
       "        vertical-align: middle;\n",
       "    }\n",
       "\n",
       "    .dataframe tbody tr th {\n",
       "        vertical-align: top;\n",
       "    }\n",
       "\n",
       "    .dataframe thead th {\n",
       "        text-align: right;\n",
       "    }\n",
       "</style>\n",
       "<table border=\"1\" class=\"dataframe\">\n",
       "  <thead>\n",
       "    <tr style=\"text-align: right;\">\n",
       "      <th></th>\n",
       "      <th>chrom</th>\n",
       "      <th>start</th>\n",
       "      <th>end</th>\n",
       "      <th>region_center</th>\n",
       "    </tr>\n",
       "  </thead>\n",
       "  <tbody>\n",
       "    <tr>\n",
       "      <th>Cytotoxic_T_cell</th>\n",
       "      <td>chr9</td>\n",
       "      <td>75009764</td>\n",
       "      <td>75011764</td>\n",
       "      <td>75010764.0</td>\n",
       "    </tr>\n",
       "    <tr>\n",
       "      <th>CD14+_monocyte</th>\n",
       "      <td>chr3</td>\n",
       "      <td>149372887</td>\n",
       "      <td>149374887</td>\n",
       "      <td>149373887.0</td>\n",
       "    </tr>\n",
       "    <tr>\n",
       "      <th>B_cell</th>\n",
       "      <td>chr5</td>\n",
       "      <td>158897642</td>\n",
       "      <td>158899642</td>\n",
       "      <td>158898642.0</td>\n",
       "    </tr>\n",
       "    <tr>\n",
       "      <th>CD16+_monocyte</th>\n",
       "      <td>chr13</td>\n",
       "      <td>48624125</td>\n",
       "      <td>48626125</td>\n",
       "      <td>48625125.0</td>\n",
       "    </tr>\n",
       "    <tr>\n",
       "      <th>Dendritic_cell</th>\n",
       "      <td>chr7</td>\n",
       "      <td>115504370</td>\n",
       "      <td>115506370</td>\n",
       "      <td>115505370.0</td>\n",
       "    </tr>\n",
       "    <tr>\n",
       "      <th>Natural_killer_cell</th>\n",
       "      <td>chr11</td>\n",
       "      <td>65694052</td>\n",
       "      <td>65696052</td>\n",
       "      <td>65695052.0</td>\n",
       "    </tr>\n",
       "    <tr>\n",
       "      <th>CD4+_T_cell</th>\n",
       "      <td>chr3</td>\n",
       "      <td>3296275</td>\n",
       "      <td>3298275</td>\n",
       "      <td>3297275.0</td>\n",
       "    </tr>\n",
       "  </tbody>\n",
       "</table>\n",
       "</div>"
      ],
      "text/plain": [
       "                     chrom      start        end region_center\n",
       "Cytotoxic_T_cell      chr9   75009764   75011764    75010764.0\n",
       "CD14+_monocyte        chr3  149372887  149374887   149373887.0\n",
       "B_cell                chr5  158897642  158899642   158898642.0\n",
       "CD16+_monocyte       chr13   48624125   48626125    48625125.0\n",
       "Dendritic_cell        chr7  115504370  115506370   115505370.0\n",
       "Natural_killer_cell  chr11   65694052   65696052    65695052.0\n",
       "CD4+_T_cell           chr3    3296275    3298275     3297275.0"
      ]
     },
     "execution_count": 294,
     "metadata": {},
     "output_type": "execute_result"
    }
   ],
   "source": [
    "regions_df_padded"
   ]
  },
  {
   "cell_type": "code",
   "execution_count": 295,
   "id": "9b4c5aed-85ac-4033-828c-ef3e09c12b5a",
   "metadata": {
    "execution": {
     "iopub.execute_input": "2023-01-05T10:50:20.384079Z",
     "iopub.status.busy": "2023-01-05T10:50:20.383894Z",
     "iopub.status.idle": "2023-01-05T10:50:20.431453Z",
     "shell.execute_reply": "2023-01-05T10:50:20.430680Z",
     "shell.execute_reply.started": "2023-01-05T10:50:20.384059Z"
    },
    "tags": []
   },
   "outputs": [
    {
     "data": {
      "text/plain": [
       "OrderedDict([('Cytotoxic_T_cell', 'chr9:75009514.0-75012014.0'),\n",
       "             ('CD14_monocyte', 'chr3:149372637.0-149375137.0'),\n",
       "             ('B_cell', 'chr5:158897392.0-158899892.0'),\n",
       "             ('CD16_monocyte', 'chr13:48623875.0-48626375.0'),\n",
       "             ('Dendritic_cell', 'chr7:115504120.0-115506620.0'),\n",
       "             ('Natural_killer_cell', 'chr11:65693802.0-65696302.0'),\n",
       "             ('CD4_T_cell', 'chr3:3296025.0-3298525.0')])"
      ]
     },
     "execution_count": 295,
     "metadata": {},
     "output_type": "execute_result"
    }
   ],
   "source": [
    "regions_dict_padded = OrderedDict({})\n",
    "\n",
    "for supersample, path in merged_dar_path_dict.items():\n",
    "    # print(supersample)\n",
    "    df = pd.read_csv(path, sep=\"\\t\", header=None)\n",
    "    df.columns = \"chrom start end cell_type log2fc strand p_val\".split()\n",
    "    # print(df.iloc[0])\n",
    "\n",
    "    cell_type = supersample.split(\"__\")[-1].replace(\"+\", \"\")\n",
    "    region = f\"{df.iloc[0]['chrom']}:{df.iloc[0]['start']- region_forced_length / 2}-{df.iloc[0]['end']+region_forced_length / 2}\"\n",
    "    regions_dict_padded[cell_type] = region\n",
    "\n",
    "regions_dict_padded"
   ]
  },
  {
   "cell_type": "code",
   "execution_count": 296,
   "id": "5a16db37-3dc4-4d30-b5ac-691a86206fab",
   "metadata": {
    "execution": {
     "iopub.execute_input": "2023-01-05T10:50:20.432524Z",
     "iopub.status.busy": "2023-01-05T10:50:20.432169Z",
     "iopub.status.idle": "2023-01-05T10:50:20.437661Z",
     "shell.execute_reply": "2023-01-05T10:50:20.436933Z",
     "shell.execute_reply.started": "2023-01-05T10:50:20.432500Z"
    },
    "tags": []
   },
   "outputs": [
    {
     "data": {
      "text/plain": [
       "dict_keys(['CD14_monocyte', 'Dendritic_cell', 'CD16_monocyte', 'CD4_T_cell', 'B_cell', 'Natural_killer_cell', 'Cytotoxic_T_cell'])"
      ]
     },
     "execution_count": 296,
     "metadata": {},
     "output_type": "execute_result"
    }
   ],
   "source": [
    "bw_path_dict_dict.keys()"
   ]
  },
  {
   "cell_type": "code",
   "execution_count": 297,
   "id": "5bd20146-ed13-426c-9da9-fffbcd7b9f59",
   "metadata": {
    "execution": {
     "iopub.execute_input": "2023-01-05T10:50:20.438614Z",
     "iopub.status.busy": "2023-01-05T10:50:20.438432Z",
     "iopub.status.idle": "2023-01-05T10:50:20.449031Z",
     "shell.execute_reply": "2023-01-05T10:50:20.448143Z",
     "shell.execute_reply.started": "2023-01-05T10:50:20.438595Z"
    },
    "tags": []
   },
   "outputs": [],
   "source": [
    "regions_df_padded.index = [x.replace(\"+\", \"\") for x in regions_df_padded.index]"
   ]
  },
  {
   "cell_type": "code",
   "execution_count": 298,
   "id": "552071d6-6219-47bf-b446-8539426e8f75",
   "metadata": {
    "execution": {
     "iopub.execute_input": "2023-01-05T10:50:20.450752Z",
     "iopub.status.busy": "2023-01-05T10:50:20.450503Z",
     "iopub.status.idle": "2023-01-05T10:50:20.467930Z",
     "shell.execute_reply": "2023-01-05T10:50:20.466892Z",
     "shell.execute_reply.started": "2023-01-05T10:50:20.450726Z"
    },
    "tags": []
   },
   "outputs": [
    {
     "data": {
      "text/plain": [
       "{'Cytotoxic_T_cell': 'final_consensus_peaks/master_sub_1.FIXEDCELLS__SCREEN_consensus_peaks.bed',\n",
       " 'CD14_monocyte': 'final_consensus_peaks/master_sub_1.FIXEDCELLS__SCREEN_consensus_peaks.bed',\n",
       " 'B_cell': 'final_consensus_peaks/master_sub_1.FIXEDCELLS__SCREEN_consensus_peaks.bed',\n",
       " 'CD16_monocyte': 'final_consensus_peaks/master_sub_1.FIXEDCELLS__SCREEN_consensus_peaks.bed',\n",
       " 'Dendritic_cell': 'final_consensus_peaks/master_sub_1.FIXEDCELLS__SCREEN_consensus_peaks.bed',\n",
       " 'Natural_killer_cell': 'final_consensus_peaks/master_sub_1.FIXEDCELLS__SCREEN_consensus_peaks.bed',\n",
       " 'CD4_T_cell': 'final_consensus_peaks/master_sub_1.FIXEDCELLS__SCREEN_consensus_peaks.bed'}"
      ]
     },
     "execution_count": 298,
     "metadata": {},
     "output_type": "execute_result"
    }
   ],
   "source": [
    "peak_path_dict = {\n",
    "    x.replace(\n",
    "        \"+\", \"\"\n",
    "    ): \"final_consensus_peaks/master_sub_1.FIXEDCELLS__SCREEN_consensus_peaks.bed\"\n",
    "    for x in regions_dict.keys()\n",
    "}\n",
    "peak_path_dict"
   ]
  },
  {
   "cell_type": "code",
   "execution_count": 299,
   "id": "e2a9fdc8-6657-4e3f-ae3c-54a7dd11756e",
   "metadata": {
    "execution": {
     "iopub.execute_input": "2023-01-05T10:50:20.469689Z",
     "iopub.status.busy": "2023-01-05T10:50:20.469258Z",
     "iopub.status.idle": "2023-01-05T10:50:20.478669Z",
     "shell.execute_reply": "2023-01-05T10:50:20.477336Z",
     "shell.execute_reply.started": "2023-01-05T10:50:20.469658Z"
    },
    "tags": []
   },
   "outputs": [],
   "source": [
    "merged_dar_path_dict = {\n",
    "    x.split(\"__\")[1].replace(\"+\", \"\"): y for x, y in merged_dar_path_dict.items()\n",
    "}"
   ]
  },
  {
   "cell_type": "code",
   "execution_count": 300,
   "id": "1263e140-fa0e-4718-b18e-d97637d340b7",
   "metadata": {
    "execution": {
     "iopub.execute_input": "2023-01-05T10:50:20.479607Z",
     "iopub.status.busy": "2023-01-05T10:50:20.479420Z",
     "iopub.status.idle": "2023-01-05T10:50:20.485648Z",
     "shell.execute_reply": "2023-01-05T10:50:20.484925Z",
     "shell.execute_reply.started": "2023-01-05T10:50:20.479588Z"
    },
    "tags": []
   },
   "outputs": [],
   "source": [
    "peak_path_dict = merged_dar_path_dict"
   ]
  },
  {
   "cell_type": "code",
   "execution_count": 301,
   "id": "18804e0e-ad24-4280-a60f-ead4add603cb",
   "metadata": {
    "execution": {
     "iopub.execute_input": "2023-01-05T10:50:20.486511Z",
     "iopub.status.busy": "2023-01-05T10:50:20.486328Z",
     "iopub.status.idle": "2023-01-05T10:50:20.499267Z",
     "shell.execute_reply": "2023-01-05T10:50:20.498504Z",
     "shell.execute_reply.started": "2023-01-05T10:50:20.486491Z"
    },
    "tags": []
   },
   "outputs": [
    {
     "data": {
      "text/plain": [
       "True"
      ]
     },
     "execution_count": 301,
     "metadata": {},
     "output_type": "execute_result"
    }
   ],
   "source": [
    "set(regions_df_padded.index) == set(regions_dict_padded.keys()) == set(\n",
    "    bw_path_dict_dict.keys()\n",
    ") == set(peak_path_dict.keys())"
   ]
  },
  {
   "cell_type": "code",
   "execution_count": 302,
   "id": "81b67b10-2ea8-48fb-8cca-6dbbb6edb548",
   "metadata": {
    "execution": {
     "iopub.execute_input": "2023-01-05T10:50:20.521507Z",
     "iopub.status.busy": "2023-01-05T10:50:20.520893Z",
     "iopub.status.idle": "2023-01-05T10:50:20.538502Z",
     "shell.execute_reply": "2023-01-05T10:50:20.537449Z",
     "shell.execute_reply.started": "2023-01-05T10:50:20.521446Z"
    },
    "tags": []
   },
   "outputs": [
    {
     "data": {
      "text/html": [
       "<div>\n",
       "<style scoped>\n",
       "    .dataframe tbody tr th:only-of-type {\n",
       "        vertical-align: middle;\n",
       "    }\n",
       "\n",
       "    .dataframe tbody tr th {\n",
       "        vertical-align: top;\n",
       "    }\n",
       "\n",
       "    .dataframe thead th {\n",
       "        text-align: right;\n",
       "    }\n",
       "</style>\n",
       "<table border=\"1\" class=\"dataframe\">\n",
       "  <thead>\n",
       "    <tr style=\"text-align: right;\">\n",
       "      <th></th>\n",
       "      <th>chrom</th>\n",
       "      <th>start</th>\n",
       "      <th>end</th>\n",
       "      <th>region_center</th>\n",
       "    </tr>\n",
       "  </thead>\n",
       "  <tbody>\n",
       "    <tr>\n",
       "      <th>Cytotoxic_T_cell</th>\n",
       "      <td>chr9</td>\n",
       "      <td>75009764</td>\n",
       "      <td>75011764</td>\n",
       "      <td>75010764.0</td>\n",
       "    </tr>\n",
       "    <tr>\n",
       "      <th>CD14_monocyte</th>\n",
       "      <td>chr3</td>\n",
       "      <td>149372887</td>\n",
       "      <td>149374887</td>\n",
       "      <td>149373887.0</td>\n",
       "    </tr>\n",
       "    <tr>\n",
       "      <th>B_cell</th>\n",
       "      <td>chr5</td>\n",
       "      <td>158897642</td>\n",
       "      <td>158899642</td>\n",
       "      <td>158898642.0</td>\n",
       "    </tr>\n",
       "    <tr>\n",
       "      <th>CD16_monocyte</th>\n",
       "      <td>chr13</td>\n",
       "      <td>48624125</td>\n",
       "      <td>48626125</td>\n",
       "      <td>48625125.0</td>\n",
       "    </tr>\n",
       "    <tr>\n",
       "      <th>Dendritic_cell</th>\n",
       "      <td>chr7</td>\n",
       "      <td>115504370</td>\n",
       "      <td>115506370</td>\n",
       "      <td>115505370.0</td>\n",
       "    </tr>\n",
       "    <tr>\n",
       "      <th>Natural_killer_cell</th>\n",
       "      <td>chr11</td>\n",
       "      <td>65694052</td>\n",
       "      <td>65696052</td>\n",
       "      <td>65695052.0</td>\n",
       "    </tr>\n",
       "    <tr>\n",
       "      <th>CD4_T_cell</th>\n",
       "      <td>chr3</td>\n",
       "      <td>3296275</td>\n",
       "      <td>3298275</td>\n",
       "      <td>3297275.0</td>\n",
       "    </tr>\n",
       "  </tbody>\n",
       "</table>\n",
       "</div>"
      ],
      "text/plain": [
       "                     chrom      start        end region_center\n",
       "Cytotoxic_T_cell      chr9   75009764   75011764    75010764.0\n",
       "CD14_monocyte         chr3  149372887  149374887   149373887.0\n",
       "B_cell                chr5  158897642  158899642   158898642.0\n",
       "CD16_monocyte        chr13   48624125   48626125    48625125.0\n",
       "Dendritic_cell        chr7  115504370  115506370   115505370.0\n",
       "Natural_killer_cell  chr11   65694052   65696052    65695052.0\n",
       "CD4_T_cell            chr3    3296275    3298275     3297275.0"
      ]
     },
     "execution_count": 302,
     "metadata": {},
     "output_type": "execute_result"
    }
   ],
   "source": [
    "regions_df_padded"
   ]
  },
  {
   "cell_type": "code",
   "execution_count": 303,
   "id": "000b4c9d-ddf4-4806-b475-78c21060a820",
   "metadata": {
    "execution": {
     "iopub.execute_input": "2023-01-05T10:50:20.565887Z",
     "iopub.status.busy": "2023-01-05T10:50:20.565266Z",
     "iopub.status.idle": "2023-01-05T10:50:20.591780Z",
     "shell.execute_reply": "2023-01-05T10:50:20.590673Z",
     "shell.execute_reply.started": "2023-01-05T10:50:20.565825Z"
    },
    "tags": []
   },
   "outputs": [],
   "source": [
    "genes_dict = {\n",
    "    \"Cytotoxic_T_cell\": [\"CARNMT1\"],\n",
    "    \"CD14_monocyte\": [\"TM4SF1\"],\n",
    "    \"B_cell\": [\"EBF1\"],\n",
    "    \"CD16_monocyte\": [],\n",
    "    \"Dendritic_cell\": [],\n",
    "    \"Natural_killer_cell\": [],\n",
    "    \"CD4_T_cell\": [],\n",
    "}\n",
    "max_genes = max([len((genes_dict[key])) for key in genes_dict.keys()])\n",
    "\n",
    "gtf_file = \"/lustre1/project/stg_00090/scatac_benchmark/0_resources/genomes/hg38_cflerin_cellranger_arc/genes.ucsc.gtf\""
   ]
  },
  {
   "cell_type": "code",
   "execution_count": 304,
   "id": "b3323352-7e64-41c1-81ba-ba45a37a853f",
   "metadata": {
    "execution": {
     "iopub.execute_input": "2023-01-05T10:50:20.612880Z",
     "iopub.status.busy": "2023-01-05T10:50:20.612373Z",
     "iopub.status.idle": "2023-01-05T10:50:20.620047Z",
     "shell.execute_reply": "2023-01-05T10:50:20.618672Z",
     "shell.execute_reply.started": "2023-01-05T10:50:20.612831Z"
    },
    "tags": []
   },
   "outputs": [],
   "source": [
    "plot_genes = False"
   ]
  },
  {
   "cell_type": "code",
   "execution_count": 305,
   "id": "9d61d654-6bf5-4d29-818b-1beb120be799",
   "metadata": {
    "execution": {
     "iopub.execute_input": "2023-01-05T10:50:20.683018Z",
     "iopub.status.busy": "2023-01-05T10:50:20.682391Z",
     "iopub.status.idle": "2023-01-05T10:50:20.700956Z",
     "shell.execute_reply": "2023-01-05T10:50:20.699874Z",
     "shell.execute_reply.started": "2023-01-05T10:50:20.682957Z"
    },
    "tags": []
   },
   "outputs": [
    {
     "data": {
      "text/html": [
       "<div>\n",
       "<style scoped>\n",
       "    .dataframe tbody tr th:only-of-type {\n",
       "        vertical-align: middle;\n",
       "    }\n",
       "\n",
       "    .dataframe tbody tr th {\n",
       "        vertical-align: top;\n",
       "    }\n",
       "\n",
       "    .dataframe thead th {\n",
       "        text-align: right;\n",
       "    }\n",
       "</style>\n",
       "<table border=\"1\" class=\"dataframe\">\n",
       "  <thead>\n",
       "    <tr style=\"text-align: right;\">\n",
       "      <th></th>\n",
       "      <th>chrom</th>\n",
       "      <th>start</th>\n",
       "      <th>end</th>\n",
       "      <th>region_center</th>\n",
       "    </tr>\n",
       "  </thead>\n",
       "  <tbody>\n",
       "    <tr>\n",
       "      <th>Cytotoxic_T_cell</th>\n",
       "      <td>chr9</td>\n",
       "      <td>75009764</td>\n",
       "      <td>75011764</td>\n",
       "      <td>75010764.0</td>\n",
       "    </tr>\n",
       "    <tr>\n",
       "      <th>CD14_monocyte</th>\n",
       "      <td>chr3</td>\n",
       "      <td>149372887</td>\n",
       "      <td>149374887</td>\n",
       "      <td>149373887.0</td>\n",
       "    </tr>\n",
       "    <tr>\n",
       "      <th>B_cell</th>\n",
       "      <td>chr5</td>\n",
       "      <td>158897642</td>\n",
       "      <td>158899642</td>\n",
       "      <td>158898642.0</td>\n",
       "    </tr>\n",
       "    <tr>\n",
       "      <th>CD16_monocyte</th>\n",
       "      <td>chr13</td>\n",
       "      <td>48624125</td>\n",
       "      <td>48626125</td>\n",
       "      <td>48625125.0</td>\n",
       "    </tr>\n",
       "    <tr>\n",
       "      <th>Dendritic_cell</th>\n",
       "      <td>chr7</td>\n",
       "      <td>115504370</td>\n",
       "      <td>115506370</td>\n",
       "      <td>115505370.0</td>\n",
       "    </tr>\n",
       "    <tr>\n",
       "      <th>Natural_killer_cell</th>\n",
       "      <td>chr11</td>\n",
       "      <td>65694052</td>\n",
       "      <td>65696052</td>\n",
       "      <td>65695052.0</td>\n",
       "    </tr>\n",
       "    <tr>\n",
       "      <th>CD4_T_cell</th>\n",
       "      <td>chr3</td>\n",
       "      <td>3296275</td>\n",
       "      <td>3298275</td>\n",
       "      <td>3297275.0</td>\n",
       "    </tr>\n",
       "  </tbody>\n",
       "</table>\n",
       "</div>"
      ],
      "text/plain": [
       "                     chrom      start        end region_center\n",
       "Cytotoxic_T_cell      chr9   75009764   75011764    75010764.0\n",
       "CD14_monocyte         chr3  149372887  149374887   149373887.0\n",
       "B_cell                chr5  158897642  158899642   158898642.0\n",
       "CD16_monocyte        chr13   48624125   48626125    48625125.0\n",
       "Dendritic_cell        chr7  115504370  115506370   115505370.0\n",
       "Natural_killer_cell  chr11   65694052   65696052    65695052.0\n",
       "CD4_T_cell            chr3    3296275    3298275     3297275.0"
      ]
     },
     "execution_count": 305,
     "metadata": {},
     "output_type": "execute_result"
    }
   ],
   "source": [
    "regions_df_padded"
   ]
  },
  {
   "cell_type": "code",
   "execution_count": 306,
   "id": "8d083d30-0113-4d9d-94a4-fd2dee47681c",
   "metadata": {
    "execution": {
     "iopub.execute_input": "2023-01-05T10:50:20.735587Z",
     "iopub.status.busy": "2023-01-05T10:50:20.734979Z",
     "iopub.status.idle": "2023-01-05T10:50:20.745007Z",
     "shell.execute_reply": "2023-01-05T10:50:20.743679Z",
     "shell.execute_reply.started": "2023-01-05T10:50:20.735528Z"
    },
    "tags": []
   },
   "outputs": [
    {
     "data": {
      "text/plain": [
       "[0.2, 7, 0.1]"
      ]
     },
     "execution_count": 306,
     "metadata": {},
     "output_type": "execute_result"
    }
   ],
   "source": [
    "height_ratios"
   ]
  },
  {
   "cell_type": "code",
   "execution_count": 307,
   "id": "3a16f57b-649d-49c3-8dd6-d0c43010fce9",
   "metadata": {
    "execution": {
     "iopub.execute_input": "2023-01-05T10:50:20.800470Z",
     "iopub.status.busy": "2023-01-05T10:50:20.799861Z",
     "iopub.status.idle": "2023-01-05T10:50:20.810248Z",
     "shell.execute_reply": "2023-01-05T10:50:20.808917Z",
     "shell.execute_reply.started": "2023-01-05T10:50:20.800409Z"
    },
    "tags": []
   },
   "outputs": [
    {
     "data": {
      "text/plain": [
       "['B_cell',\n",
       " 'CD14_monocyte',\n",
       " 'CD4_T_cell',\n",
       " 'Cytotoxic_T_cell',\n",
       " 'Dendritic_cell',\n",
       " 'Natural_killer_cell',\n",
       " 'CD16_monocyte']"
      ]
     },
     "execution_count": 307,
     "metadata": {},
     "output_type": "execute_result"
    }
   ],
   "source": [
    "cell_type_order"
   ]
  },
  {
   "cell_type": "code",
   "execution_count": 308,
   "id": "457c7c17-01e1-4aaf-bae3-8a04d0336433",
   "metadata": {
    "execution": {
     "iopub.execute_input": "2023-01-05T10:50:20.916467Z",
     "iopub.status.busy": "2023-01-05T10:50:20.915856Z",
     "iopub.status.idle": "2023-01-05T10:50:31.465449Z",
     "shell.execute_reply": "2023-01-05T10:50:31.464034Z",
     "shell.execute_reply.started": "2023-01-05T10:50:20.916407Z"
    },
    "tags": []
   },
   "outputs": [
    {
     "name": "stdout",
     "output_type": "stream",
     "text": [
      "drawing column for region B_cell\n",
      "\t10xv1: alias 10x v1\n",
      "\t\tbw: per_tech_harmony_cell_type_bigwigs_nonnorm/master_sub_1.FIXEDCELLS__CONSENSUS_pseudobulk_bw_files_nonnorm/10xv1_B_cell.bw\n",
      "\t10xv11: alias 10x v1.1\n",
      "\t\tbw: per_tech_harmony_cell_type_bigwigs_nonnorm/master_sub_1.FIXEDCELLS__CONSENSUS_pseudobulk_bw_files_nonnorm/10xv11_B_cell.bw\n",
      "\t10xv2: alias 10x v2\n",
      "\t\tbw: per_tech_harmony_cell_type_bigwigs_nonnorm/master_sub_1.FIXEDCELLS__CONSENSUS_pseudobulk_bw_files_nonnorm/10xv2_B_cell.bw\n",
      "\t10xmultiome: alias 10x Multiome\n",
      "\t\tbw: per_tech_harmony_cell_type_bigwigs_nonnorm/master_sub_1.FIXEDCELLS__CONSENSUS_pseudobulk_bw_files_nonnorm/10xmultiome_B_cell.bw\n",
      "\tmtscatac: alias mtscATAC-seq\n",
      "\t\tbw: per_tech_harmony_cell_type_bigwigs_nonnorm/master_sub_1.FIXEDCELLS__CONSENSUS_pseudobulk_bw_files_nonnorm/mtscatac_B_cell.bw\n",
      "\tddseq: alias ddSEQ SureCell\n",
      "\t\tbw: per_tech_harmony_cell_type_bigwigs_nonnorm/master_sub_1.FIXEDCELLS__CONSENSUS_pseudobulk_bw_files_nonnorm/ddseq_B_cell.bw\n",
      "\ts3atac: alias s3-ATAC\n",
      "\t\tbw: per_tech_harmony_cell_type_bigwigs_nonnorm/master_sub_1.FIXEDCELLS__CONSENSUS_pseudobulk_bw_files_nonnorm/s3atac_B_cell.bw\n",
      "\thydrop: alias HyDrop\n",
      "\t\tbw: per_tech_harmony_cell_type_bigwigs_nonnorm/master_sub_1.FIXEDCELLS__CONSENSUS_pseudobulk_bw_files_nonnorm/hydrop_B_cell.bw\n",
      "drawing column for region CD14_monocyte\n",
      "\t10xv1: alias 10x v1\n",
      "\t\tbw: per_tech_harmony_cell_type_bigwigs_nonnorm/master_sub_1.FIXEDCELLS__CONSENSUS_pseudobulk_bw_files_nonnorm/10xv1_CD14_monocyte.bw\n",
      "\t10xv11: alias 10x v1.1\n",
      "\t\tbw: per_tech_harmony_cell_type_bigwigs_nonnorm/master_sub_1.FIXEDCELLS__CONSENSUS_pseudobulk_bw_files_nonnorm/10xv11_CD14_monocyte.bw\n",
      "\t10xv2: alias 10x v2\n",
      "\t\tbw: per_tech_harmony_cell_type_bigwigs_nonnorm/master_sub_1.FIXEDCELLS__CONSENSUS_pseudobulk_bw_files_nonnorm/10xv2_CD14_monocyte.bw\n",
      "\t10xmultiome: alias 10x Multiome\n",
      "\t\tbw: per_tech_harmony_cell_type_bigwigs_nonnorm/master_sub_1.FIXEDCELLS__CONSENSUS_pseudobulk_bw_files_nonnorm/10xmultiome_CD14_monocyte.bw\n",
      "\tmtscatac: alias mtscATAC-seq\n",
      "\t\tbw: per_tech_harmony_cell_type_bigwigs_nonnorm/master_sub_1.FIXEDCELLS__CONSENSUS_pseudobulk_bw_files_nonnorm/mtscatac_CD14_monocyte.bw\n",
      "\tddseq: alias ddSEQ SureCell\n",
      "\t\tbw: per_tech_harmony_cell_type_bigwigs_nonnorm/master_sub_1.FIXEDCELLS__CONSENSUS_pseudobulk_bw_files_nonnorm/ddseq_CD14_monocyte.bw\n",
      "\ts3atac: alias s3-ATAC\n",
      "\t\tbw: per_tech_harmony_cell_type_bigwigs_nonnorm/master_sub_1.FIXEDCELLS__CONSENSUS_pseudobulk_bw_files_nonnorm/s3atac_CD14_monocyte.bw\n",
      "\thydrop: alias HyDrop\n",
      "\t\tbw: per_tech_harmony_cell_type_bigwigs_nonnorm/master_sub_1.FIXEDCELLS__CONSENSUS_pseudobulk_bw_files_nonnorm/hydrop_CD14_monocyte.bw\n",
      "drawing column for region CD4_T_cell\n",
      "\t10xv1: alias 10x v1\n",
      "\t\tbw: per_tech_harmony_cell_type_bigwigs_nonnorm/master_sub_1.FIXEDCELLS__CONSENSUS_pseudobulk_bw_files_nonnorm/10xv1_CD4_T_cell.bw\n",
      "\t10xv11: alias 10x v1.1\n",
      "\t\tbw: per_tech_harmony_cell_type_bigwigs_nonnorm/master_sub_1.FIXEDCELLS__CONSENSUS_pseudobulk_bw_files_nonnorm/10xv11_CD4_T_cell.bw\n",
      "\t10xv2: alias 10x v2\n",
      "\t\tbw: per_tech_harmony_cell_type_bigwigs_nonnorm/master_sub_1.FIXEDCELLS__CONSENSUS_pseudobulk_bw_files_nonnorm/10xv2_CD4_T_cell.bw\n",
      "\t10xmultiome: alias 10x Multiome\n",
      "\t\tbw: per_tech_harmony_cell_type_bigwigs_nonnorm/master_sub_1.FIXEDCELLS__CONSENSUS_pseudobulk_bw_files_nonnorm/10xmultiome_CD4_T_cell.bw\n",
      "\tmtscatac: alias mtscATAC-seq\n",
      "\t\tbw: per_tech_harmony_cell_type_bigwigs_nonnorm/master_sub_1.FIXEDCELLS__CONSENSUS_pseudobulk_bw_files_nonnorm/mtscatac_CD4_T_cell.bw\n",
      "\tddseq: alias ddSEQ SureCell\n",
      "\t\tbw: per_tech_harmony_cell_type_bigwigs_nonnorm/master_sub_1.FIXEDCELLS__CONSENSUS_pseudobulk_bw_files_nonnorm/ddseq_CD4_T_cell.bw\n",
      "\ts3atac: alias s3-ATAC\n",
      "\t\tbw: per_tech_harmony_cell_type_bigwigs_nonnorm/master_sub_1.FIXEDCELLS__CONSENSUS_pseudobulk_bw_files_nonnorm/s3atac_CD4_T_cell.bw\n",
      "\thydrop: alias HyDrop\n",
      "\t\tbw: per_tech_harmony_cell_type_bigwigs_nonnorm/master_sub_1.FIXEDCELLS__CONSENSUS_pseudobulk_bw_files_nonnorm/hydrop_CD4_T_cell.bw\n",
      "drawing column for region Cytotoxic_T_cell\n",
      "\t10xv1: alias 10x v1\n",
      "\t\tbw: per_tech_harmony_cell_type_bigwigs_nonnorm/master_sub_1.FIXEDCELLS__CONSENSUS_pseudobulk_bw_files_nonnorm/10xv1_Cytotoxic_T_cell.bw\n",
      "\t10xv11: alias 10x v1.1\n",
      "\t\tbw: per_tech_harmony_cell_type_bigwigs_nonnorm/master_sub_1.FIXEDCELLS__CONSENSUS_pseudobulk_bw_files_nonnorm/10xv11_Cytotoxic_T_cell.bw\n",
      "\t10xv2: alias 10x v2\n",
      "\t\tbw: per_tech_harmony_cell_type_bigwigs_nonnorm/master_sub_1.FIXEDCELLS__CONSENSUS_pseudobulk_bw_files_nonnorm/10xv2_Cytotoxic_T_cell.bw\n",
      "\t10xmultiome: alias 10x Multiome\n",
      "\t\tbw: per_tech_harmony_cell_type_bigwigs_nonnorm/master_sub_1.FIXEDCELLS__CONSENSUS_pseudobulk_bw_files_nonnorm/10xmultiome_Cytotoxic_T_cell.bw\n",
      "\tmtscatac: alias mtscATAC-seq\n",
      "\t\tbw: per_tech_harmony_cell_type_bigwigs_nonnorm/master_sub_1.FIXEDCELLS__CONSENSUS_pseudobulk_bw_files_nonnorm/mtscatac_Cytotoxic_T_cell.bw\n",
      "\tddseq: alias ddSEQ SureCell\n",
      "\t\tbw: per_tech_harmony_cell_type_bigwigs_nonnorm/master_sub_1.FIXEDCELLS__CONSENSUS_pseudobulk_bw_files_nonnorm/ddseq_Cytotoxic_T_cell.bw\n",
      "\ts3atac: alias s3-ATAC\n",
      "\t\tbw: per_tech_harmony_cell_type_bigwigs_nonnorm/master_sub_1.FIXEDCELLS__CONSENSUS_pseudobulk_bw_files_nonnorm/s3atac_Cytotoxic_T_cell.bw\n",
      "\thydrop: alias HyDrop\n",
      "\t\tbw: per_tech_harmony_cell_type_bigwigs_nonnorm/master_sub_1.FIXEDCELLS__CONSENSUS_pseudobulk_bw_files_nonnorm/hydrop_Cytotoxic_T_cell.bw\n",
      "drawing column for region Dendritic_cell\n",
      "\t10xv1: alias 10x v1\n",
      "\t\tbw: per_tech_harmony_cell_type_bigwigs_nonnorm/master_sub_1.FIXEDCELLS__CONSENSUS_pseudobulk_bw_files_nonnorm/10xv1_Dendritic_cell.bw\n",
      "\t10xv11: alias 10x v1.1\n",
      "\t\tbw: per_tech_harmony_cell_type_bigwigs_nonnorm/master_sub_1.FIXEDCELLS__CONSENSUS_pseudobulk_bw_files_nonnorm/10xv11_Dendritic_cell.bw\n",
      "\t10xv2: alias 10x v2\n",
      "\t\tbw: per_tech_harmony_cell_type_bigwigs_nonnorm/master_sub_1.FIXEDCELLS__CONSENSUS_pseudobulk_bw_files_nonnorm/10xv2_Dendritic_cell.bw\n",
      "\t10xmultiome: alias 10x Multiome\n",
      "\t\tbw: per_tech_harmony_cell_type_bigwigs_nonnorm/master_sub_1.FIXEDCELLS__CONSENSUS_pseudobulk_bw_files_nonnorm/10xmultiome_Dendritic_cell.bw\n",
      "\tmtscatac: alias mtscATAC-seq\n",
      "\t\tbw: per_tech_harmony_cell_type_bigwigs_nonnorm/master_sub_1.FIXEDCELLS__CONSENSUS_pseudobulk_bw_files_nonnorm/mtscatac_Dendritic_cell.bw\n",
      "\tddseq: alias ddSEQ SureCell\n",
      "\t\tbw: per_tech_harmony_cell_type_bigwigs_nonnorm/master_sub_1.FIXEDCELLS__CONSENSUS_pseudobulk_bw_files_nonnorm/ddseq_Dendritic_cell.bw\n",
      "\ts3atac: alias s3-ATAC\n",
      "\t\tbw: per_tech_harmony_cell_type_bigwigs_nonnorm/master_sub_1.FIXEDCELLS__CONSENSUS_pseudobulk_bw_files_nonnorm/s3atac_Dendritic_cell.bw\n",
      "\thydrop: alias HyDrop\n",
      "\t\tbw: per_tech_harmony_cell_type_bigwigs_nonnorm/master_sub_1.FIXEDCELLS__CONSENSUS_pseudobulk_bw_files_nonnorm/hydrop_Dendritic_cell.bw\n",
      "drawing column for region Natural_killer_cell\n",
      "\t10xv1: alias 10x v1\n",
      "\t\tbw: per_tech_harmony_cell_type_bigwigs_nonnorm/master_sub_1.FIXEDCELLS__CONSENSUS_pseudobulk_bw_files_nonnorm/10xv1_Natural_killer_cell.bw\n",
      "\t10xv11: alias 10x v1.1\n",
      "\t\tbw: per_tech_harmony_cell_type_bigwigs_nonnorm/master_sub_1.FIXEDCELLS__CONSENSUS_pseudobulk_bw_files_nonnorm/10xv11_Natural_killer_cell.bw\n",
      "\t10xv2: alias 10x v2\n",
      "\t\tbw: per_tech_harmony_cell_type_bigwigs_nonnorm/master_sub_1.FIXEDCELLS__CONSENSUS_pseudobulk_bw_files_nonnorm/10xv2_Natural_killer_cell.bw\n",
      "\t10xmultiome: alias 10x Multiome\n",
      "\t\tbw: per_tech_harmony_cell_type_bigwigs_nonnorm/master_sub_1.FIXEDCELLS__CONSENSUS_pseudobulk_bw_files_nonnorm/10xmultiome_Natural_killer_cell.bw\n",
      "\tmtscatac: alias mtscATAC-seq\n",
      "\t\tbw: per_tech_harmony_cell_type_bigwigs_nonnorm/master_sub_1.FIXEDCELLS__CONSENSUS_pseudobulk_bw_files_nonnorm/mtscatac_Natural_killer_cell.bw\n",
      "\tddseq: alias ddSEQ SureCell\n",
      "\t\tbw: per_tech_harmony_cell_type_bigwigs_nonnorm/master_sub_1.FIXEDCELLS__CONSENSUS_pseudobulk_bw_files_nonnorm/ddseq_Natural_killer_cell.bw\n",
      "\ts3atac: alias s3-ATAC\n",
      "\t\tbw: per_tech_harmony_cell_type_bigwigs_nonnorm/master_sub_1.FIXEDCELLS__CONSENSUS_pseudobulk_bw_files_nonnorm/s3atac_Natural_killer_cell.bw\n",
      "\thydrop: alias HyDrop\n",
      "\t\tbw: per_tech_harmony_cell_type_bigwigs_nonnorm/master_sub_1.FIXEDCELLS__CONSENSUS_pseudobulk_bw_files_nonnorm/hydrop_Natural_killer_cell.bw\n",
      "drawing column for region CD16_monocyte\n",
      "\t10xv1: alias 10x v1\n",
      "\t\tbw: per_tech_harmony_cell_type_bigwigs_nonnorm/master_sub_1.FIXEDCELLS__CONSENSUS_pseudobulk_bw_files_nonnorm/10xv1_CD16_monocyte.bw\n",
      "\t10xv11: alias 10x v1.1\n",
      "\t\tbw: per_tech_harmony_cell_type_bigwigs_nonnorm/master_sub_1.FIXEDCELLS__CONSENSUS_pseudobulk_bw_files_nonnorm/10xv11_CD16_monocyte.bw\n",
      "\t10xv2: alias 10x v2\n",
      "\t\tbw: per_tech_harmony_cell_type_bigwigs_nonnorm/master_sub_1.FIXEDCELLS__CONSENSUS_pseudobulk_bw_files_nonnorm/10xv2_CD16_monocyte.bw\n",
      "\t10xmultiome: alias 10x Multiome\n",
      "\t\tbw: per_tech_harmony_cell_type_bigwigs_nonnorm/master_sub_1.FIXEDCELLS__CONSENSUS_pseudobulk_bw_files_nonnorm/10xmultiome_CD16_monocyte.bw\n",
      "\tmtscatac: alias mtscATAC-seq\n",
      "\t\tbw: per_tech_harmony_cell_type_bigwigs_nonnorm/master_sub_1.FIXEDCELLS__CONSENSUS_pseudobulk_bw_files_nonnorm/mtscatac_CD16_monocyte.bw\n",
      "\tddseq: alias ddSEQ SureCell\n",
      "\t\tbw: per_tech_harmony_cell_type_bigwigs_nonnorm/master_sub_1.FIXEDCELLS__CONSENSUS_pseudobulk_bw_files_nonnorm/ddseq_CD16_monocyte.bw\n",
      "\ts3atac: alias s3-ATAC\n",
      "\t\tbw: per_tech_harmony_cell_type_bigwigs_nonnorm/master_sub_1.FIXEDCELLS__CONSENSUS_pseudobulk_bw_files_nonnorm/s3atac_CD16_monocyte.bw\n",
      "\thydrop: alias HyDrop\n",
      "\t\tbw: per_tech_harmony_cell_type_bigwigs_nonnorm/master_sub_1.FIXEDCELLS__CONSENSUS_pseudobulk_bw_files_nonnorm/hydrop_CD16_monocyte.bw\n"
     ]
    },
    {
     "data": {
      "image/png": "[encoded data removed]",
      "text/plain": [
       "<Figure size 432x576 with 112 Axes>"
      ]
     },
     "execution_count": 308,
     "metadata": {},
     "output_type": "execute_result"
    },
    {
     "data": {
      "image/png": "[encoded data removed]",
      "text/plain": [
       "<Figure size 432x576 with 112 Axes>"
      ]
     },
     "metadata": {},
     "output_type": "display_data"
    }
   ],
   "source": [
    "## create the gridspec\n",
    "fig = plt.figure(figsize=figsize, facecolor=\"white\")\n",
    "\n",
    "# define ratios between all elements in the graphic\n",
    "height_ratios = [0.2]  # for gtf\n",
    "height_ratios.append(len(bw_path_dict_dict))  # for bws\n",
    "height_ratios.append(0.1)  # for text box\n",
    "\n",
    "# create a global frame for the 3 modalities shown (bigwigs, gtf, and text)\n",
    "frame = gridspec.GridSpec(3, 1, wspace=0.25, hspace=0.17, height_ratios=height_ratios)\n",
    "\n",
    "# create a gridspec for each modality within the frame\n",
    "n_cols = len(regions_dict)\n",
    "n_rows = len(tech_order)\n",
    "\n",
    "text_grid = gridspec.GridSpecFromSubplotSpec(\n",
    "    1, n_cols, wspace=0.2, hspace=0, subplot_spec=frame[0, 0]\n",
    ")\n",
    "bw_dar_grid = gridspec.GridSpecFromSubplotSpec(\n",
    "    n_rows, n_cols, wspace=0.2, hspace=-0.6, subplot_spec=frame[1, 0]\n",
    ")\n",
    "gtf_grid = gridspec.GridSpecFromSubplotSpec(\n",
    "    max_genes, n_cols, wspace=0.2, hspace=0, subplot_spec=frame[2, 0]\n",
    ")\n",
    "\n",
    "## iterate over all regions (=columns in final figure)\n",
    "for region_name in cell_type_order:\n",
    "    if verbose == True:\n",
    "        print(f\"drawing column for region {region_name}\")\n",
    "    region_index = cell_type_order.index(\n",
    "        region_name\n",
    "    )  # get the region index for column indexing\n",
    "\n",
    "    # the genome coordinates over which we will be plotting:\n",
    "    chrom = regions_df_padded.loc[region_name][\"chrom\"]\n",
    "    start = int(regions_df_padded.loc[region_name][\"start\"])\n",
    "    end = int(regions_df_padded.loc[region_name][\"end\"])\n",
    "    x = np.array(range(start, end, 1))\n",
    "\n",
    "    # set ymax according to region\n",
    "    # bw_ymax = region_max_dict[region_name]\n",
    "\n",
    "    # you can also set global ymax:\n",
    "    bw_ymax = region_max_dict_padded[\n",
    "        max(region_max_dict_padded, key=region_max_dict_padded.get)\n",
    "    ]\n",
    "\n",
    "    ## iterate over all bigwigs (=rows in final figure)\n",
    "    for key in tech_order:\n",
    "        if verbose == True:\n",
    "            print(f\"\\t{key}: alias {tech_alias_dict[key]}\")\n",
    "\n",
    "        bw_index = tech_order.index(key)  # get the bw index for row indexing\n",
    "\n",
    "        # create a new gridspec for bw + dar\n",
    "        if \"regions_dict_padded\" in locals() or \"peak_path_dict\" in locals():\n",
    "            bw_dar_subgrid = gridspec.GridSpecFromSubplotSpec(\n",
    "                2,\n",
    "                1,\n",
    "                wspace=0.05,\n",
    "                hspace=0,\n",
    "                subplot_spec=bw_dar_grid[bw_index, region_index],\n",
    "                height_ratios=[20, 0.5],\n",
    "            )\n",
    "        else:\n",
    "            bw_dar_subgrid = gridspec.GridSpecFromSubplotSpec(\n",
    "                1,\n",
    "                1,\n",
    "                wspace=0.05,\n",
    "                hspace=0.2,\n",
    "                subplot_spec=bw_dar_grid[bw_index, region_index],\n",
    "            )\n",
    "\n",
    "        # open the bigwig\n",
    "        bw_file = bw_path_dict_dict[region_name][key]\n",
    "        if verbose == True:\n",
    "            print(f\"\\t\\tbw: {bw_file}\")\n",
    "\n",
    "        bw = pyBigWig.open(bw_file)\n",
    "        y = bw.values(chrom, start, end)\n",
    "        y = np.nan_to_num(y)\n",
    "\n",
    "        # now plot the bigwig in the gridspec\n",
    "        ax = plt.Subplot(fig, bw_dar_subgrid[0, 0])\n",
    "        ax.fill_between(\n",
    "            x, y1=y, y2=0, step=\"mid\", linewidth=0, color=tech_color_palette[key]\n",
    "        )\n",
    "        ax.patch.set_alpha(0)\n",
    "\n",
    "        # figure settings\n",
    "        ax.set_xlim([x.min(), x.max()])\n",
    "        ax.set_ylim([0, bw_ymax])\n",
    "        ax.set_xticks([])\n",
    "        ax.set_yticks([])\n",
    "\n",
    "        # add a ylabel only if it's the last column\n",
    "        if region_name == cell_type_order[-1]:\n",
    "            ax.yaxis.set_label_position(\"right\")\n",
    "            ax.set_ylabel(\n",
    "                tech_alias_dict[key],\n",
    "                rotation=0,\n",
    "                horizontalalignment=\"left\",\n",
    "                verticalalignment=\"bottom\",\n",
    "                color=tech_color_palette[key],\n",
    "            )\n",
    "            ax.yaxis.set_label_coords(1.05, 0.05)\n",
    "\n",
    "        # add a title only if it's the first row\n",
    "        if tech_order.index(key) == 0:\n",
    "            region = regions_dict_padded[region_name]\n",
    "            length = round((end - start) / 1000)\n",
    "            label = f\"{cell_type_alias_dict[region_name]}\"\n",
    "\n",
    "            ax.set_title(label, fontsize=8, y=0.45)\n",
    "\n",
    "        sns.despine(top=True, right=True, left=True, bottom=False, ax=ax)\n",
    "        for spine in ax.spines.values():\n",
    "            spine.set_edgecolor(tech_color_palette[key])\n",
    "\n",
    "        # add to the fig\n",
    "        fig.add_subplot(ax, transparent=True)\n",
    "\n",
    "        # first draw peaks if they are defined\n",
    "        if \"peak_path_dict\" in locals():\n",
    "            # get peaks that overlap the region to be plotted\n",
    "            peak = BedTool(peak_path_dict[region_name])\n",
    "            peak_region_intersection = peak.intersect(\n",
    "                BedTool.from_dataframe(df=regions_df_padded), wa=True, wb=True\n",
    "            )\n",
    "            peak_region_intersection = peak_region_intersection.to_dataframe(\n",
    "                header=None\n",
    "            )\n",
    "            peak_region_intersection = peak_region_intersection.iloc[:, :4]\n",
    "            peak_region_intersection.columns = \"chr start end name\".split()\n",
    "\n",
    "            # now plot the dars in the gridspec\n",
    "            ax = plt.Subplot(fig, bw_dar_subgrid[1, 0])\n",
    "            for element in peak_region_intersection.index:\n",
    "                part = peak_region_intersection.loc[element]\n",
    "                peak_start = part[\"start\"]\n",
    "                peak_end = part[\"end\"]\n",
    "\n",
    "                # plot a thin line, with beginning and ending as x coordinates, and bw_ymin as y coordinates\n",
    "                # NOTE: linewidth won't do much here, it is more determined by the 'space' you give to this part of the plot in height_ratios!\n",
    "                ax.plot([peak_start, peak_end], [0, 0], linewidth=4, c=peak_color)\n",
    "\n",
    "            # figure settings\n",
    "            ax.set_ylim([-1, +1])\n",
    "            addax()\n",
    "\n",
    "        # then draw dars if they are defined\n",
    "        if \"regions_path_dict\" in locals():\n",
    "            # get DARs that overlap the region to be plotted\n",
    "            dar = BedTool(regions_path_dict[region_name])\n",
    "            if verbose == True:\n",
    "                print(f\"\\t\\tdar: {regions_path_dict[region_name]}\")\n",
    "\n",
    "            dar_region_intersection = dar.intersect(\n",
    "                BedTool.from_dataframe(df=regions_df_padded), wa=True, wb=True\n",
    "            )\n",
    "            dar_region_intersection = dar_region_intersection.to_dataframe(header=None)\n",
    "            dar_region_intersection = dar_region_intersection.iloc[:, :4]\n",
    "            dar_region_intersection.columns = \"chr start end name\".split()\n",
    "\n",
    "            # now plot the dars in the gridspec\n",
    "            ax = plt.Subplot(fig, bw_dar_subgrid[1, 0])\n",
    "            for element in dar_region_intersection.index:\n",
    "                part = dar_region_intersection.loc[element]\n",
    "                dar_start = part[\"start\"]\n",
    "                dar_end = part[\"end\"]\n",
    "\n",
    "                # plot a thin line, with beginning and ending as x coordinates, and bw_ymin as y coordinates\n",
    "                # NOTE: linewidth won't do much here, it is more determined by the 'space' you give to this part of the plot in height_ratios!\n",
    "                ax.plot([dar_start, dar_end], [0, 0], linewidth=4, c=dar_color)\n",
    "\n",
    "            # figure settings\n",
    "            ax.set_ylim([-1, +1])\n",
    "            addax()\n",
    "\n",
    "    ## draw the genes of interest, from our gtf\n",
    "    # intersect genes gtf with the region of interest\n",
    "    if plot_genes == True:\n",
    "        gtf = BedTool(gtf_file)\n",
    "        gtf_region_intersection = gtf.intersect(\n",
    "            BedTool.from_dataframe(df=regions_df_padded), wa=True, wb=True\n",
    "        )\n",
    "        gtf_region_intersection = gtf_region_intersection.to_dataframe(header=None)\n",
    "        gtf_region_intersection = gtf_region_intersection.iloc[:, :9]\n",
    "        gtf_region_intersection.columns = (\n",
    "            \"chr db feature start end score strand frame attribute\".split()\n",
    "        )\n",
    "\n",
    "        ## iterate over all genes of interest in genes_dict\n",
    "        for gene in genes_dict[region_name]:\n",
    "            gene_index = genes_dict[region_name].index(\n",
    "                gene\n",
    "            )  # get gene index for row indexing\n",
    "\n",
    "            # get gtf intersection with only gene body and exons of this particular gene\n",
    "            gtf_region_intersection_gene = gtf_region_intersection[\n",
    "                gtf_region_intersection[\"attribute\"].str.contains(gene)\n",
    "            ]\n",
    "            gtf_region_intersection_gene = gtf_region_intersection_gene[\n",
    "                gtf_region_intersection_gene[\"feature\"].str.contains(\"gene|exon\")\n",
    "            ]\n",
    "\n",
    "            # now plot the gene parts (gene body and gene exon)\n",
    "            ax = plt.Subplot(fig, gtf_grid[gene_index, region_index])\n",
    "\n",
    "            # iterate over all parts to plot them\n",
    "            for element in gtf_region_intersection_gene.index:\n",
    "                part = gtf_region_intersection_gene.loc[element]\n",
    "\n",
    "                # make exons thick\n",
    "                if part[\"feature\"] == \"exon\":\n",
    "                    exon_start = part[\"start\"]\n",
    "                    exon_end = part[\"end\"]\n",
    "                    # draw rectangle for exon\n",
    "                    rect = mpatches.Rectangle(\n",
    "                        (exon_start, exon_bottom),\n",
    "                        exon_end - exon_start,\n",
    "                        exon_height,\n",
    "                        fill=True,\n",
    "                        color=\"k\",\n",
    "                        linewidth=0,\n",
    "                    )\n",
    "                    ax.add_patch(rect)\n",
    "\n",
    "                # make the gene body a thin line, drawn at the end so it will always display on top\n",
    "                elif part[\"feature\"] == \"gene\":\n",
    "                    gene_start = part[\"start\"]\n",
    "                    gene_end = part[\"end\"]\n",
    "                    rect = mpatches.Rectangle(\n",
    "                        (gene_start, gene_bottom),\n",
    "                        gene_end - gene_start,\n",
    "                        gene_height,\n",
    "                        fill=True,\n",
    "                        color=\"k\",\n",
    "                        linewidth=0,\n",
    "                    )\n",
    "                    ax.add_patch(rect)\n",
    "\n",
    "        if verbose == True:\n",
    "            print(\n",
    "                f\"\\tfor region {region_name}, drew gene {gene}, {len(gtf_region_intersection_gene.index)} individual items drawn\\n\"\n",
    "            )\n",
    "\n",
    "        # figure settings\n",
    "        ax.set_ylim([exon_bottom, -exon_bottom])\n",
    "        ax.set_xlabel(gene, fontsize=10)\n",
    "        addax()\n",
    "\n",
    "fig.savefig(\n",
    "    \"plts_track/dar_track__per_tech_harmony_cell_type_bigwigs_nonnorm.png\",\n",
    "    dpi=350,\n",
    "    bbox_inches=\"tight\",\n",
    "    pad_inches=0,\n",
    "    transparent=False,\n",
    "    facecolor=\"white\",\n",
    ")\n",
    "fig.savefig(\n",
    "    \"plts_track/dar_track__per_tech_harmony_cell_type_bigwigs_nonnorm.svg\",\n",
    "    dpi=350,\n",
    "    bbox_inches=\"tight\",\n",
    "    pad_inches=0,\n",
    "    transparent=False,\n",
    "    facecolor=\"white\",\n",
    ")\n",
    "\n",
    "fig"
   ]
  },
  {
   "cell_type": "code",
   "execution_count": 309,
   "id": "43851062-884f-421a-a2a9-1b999056e833",
   "metadata": {
    "execution": {
     "iopub.execute_input": "2023-01-05T10:50:31.466814Z",
     "iopub.status.busy": "2023-01-05T10:50:31.466599Z",
     "iopub.status.idle": "2023-01-05T10:50:31.472239Z",
     "shell.execute_reply": "2023-01-05T10:50:31.471512Z",
     "shell.execute_reply.started": "2023-01-05T10:50:31.466792Z"
    },
    "tags": []
   },
   "outputs": [
    {
     "data": {
      "text/plain": [
       "{'B_cell': 'B cells',\n",
       " 'CD14_monocyte': 'CD14+\\nmonocytes',\n",
       " 'CD4_T_cell': 'CD4+\\nT cells',\n",
       " 'Cytotoxic_T_cell': 'CD8+\\nT cells',\n",
       " 'Dendritic_cell': 'Dendritic\\ncells',\n",
       " 'Natural_killer_cell': 'NK cells',\n",
       " 'CD16_monocyte': 'CD16+\\nmonocytes'}"
      ]
     },
     "execution_count": 309,
     "metadata": {},
     "output_type": "execute_result"
    }
   ],
   "source": [
    "cell_type_alias_dict"
   ]
  },
  {
   "cell_type": "code",
   "execution_count": 310,
   "id": "192d1288-b3ff-4b4b-99d7-c1cc4832aaab",
   "metadata": {
    "execution": {
     "iopub.execute_input": "2023-01-05T10:50:31.473552Z",
     "iopub.status.busy": "2023-01-05T10:50:31.473337Z",
     "iopub.status.idle": "2023-01-05T10:50:31.483365Z",
     "shell.execute_reply": "2023-01-05T10:50:31.482513Z",
     "shell.execute_reply.started": "2023-01-05T10:50:31.473531Z"
    },
    "tags": []
   },
   "outputs": [
    {
     "data": {
      "text/plain": [
       "['B_cell',\n",
       " 'CD14_monocyte',\n",
       " 'CD4_T_cell',\n",
       " 'Cytotoxic_T_cell',\n",
       " 'Dendritic_cell',\n",
       " 'Natural_killer_cell',\n",
       " 'CD16_monocyte']"
      ]
     },
     "execution_count": 310,
     "metadata": {},
     "output_type": "execute_result"
    }
   ],
   "source": [
    "cell_type_order"
   ]
  },
  {
   "cell_type": "markdown",
   "id": "fec3fd80-678d-4b74-8b8a-6513ce06706f",
   "metadata": {},
   "source": [
    "# now do it for the \"best\" average rank DARs"
   ]
  },
  {
   "cell_type": "code",
   "execution_count": 311,
   "id": "9018ce0d-2b03-464b-aeee-0c7da80872a1",
   "metadata": {
    "execution": {
     "iopub.execute_input": "2023-01-05T10:50:31.484846Z",
     "iopub.status.busy": "2023-01-05T10:50:31.484587Z",
     "iopub.status.idle": "2023-01-05T10:50:31.499518Z",
     "shell.execute_reply": "2023-01-05T10:50:31.498292Z",
     "shell.execute_reply.started": "2023-01-05T10:50:31.484818Z"
    },
    "tags": []
   },
   "outputs": [
    {
     "data": {
      "text/plain": [
       "{'master_sub_1.FIXEDCELLS__Cytotoxic_T_cell': 'downstream_analysis/harmony_DARs/master_sub_1.FIXEDCELLS/master_sub_1.FIXEDCELLS__Cytotoxic_T_cell__DARs.TOP2k.bed',\n",
       " 'master_sub_1.FIXEDCELLS__CD14+_monocyte': 'downstream_analysis/harmony_DARs/master_sub_1.FIXEDCELLS/master_sub_1.FIXEDCELLS__CD14+_monocyte__DARs.TOP2k.bed',\n",
       " 'master_sub_1.FIXEDCELLS__B_cell': 'downstream_analysis/harmony_DARs/master_sub_1.FIXEDCELLS/master_sub_1.FIXEDCELLS__B_cell__DARs.TOP2k.bed',\n",
       " 'master_sub_1.FIXEDCELLS__CD16+_monocyte': 'downstream_analysis/harmony_DARs/master_sub_1.FIXEDCELLS/master_sub_1.FIXEDCELLS__CD16+_monocyte__DARs.TOP2k.bed',\n",
       " 'master_sub_1.FIXEDCELLS__Dendritic_cell': 'downstream_analysis/harmony_DARs/master_sub_1.FIXEDCELLS/master_sub_1.FIXEDCELLS__Dendritic_cell__DARs.TOP2k.bed',\n",
       " 'master_sub_1.FIXEDCELLS__Natural_killer_cell': 'downstream_analysis/harmony_DARs/master_sub_1.FIXEDCELLS/master_sub_1.FIXEDCELLS__Natural_killer_cell__DARs.TOP2k.bed',\n",
       " 'master_sub_1.FIXEDCELLS__CD4+_T_cell': 'downstream_analysis/harmony_DARs/master_sub_1.FIXEDCELLS/master_sub_1.FIXEDCELLS__CD4+_T_cell__DARs.TOP2k.bed'}"
      ]
     },
     "execution_count": 311,
     "metadata": {},
     "output_type": "execute_result"
    }
   ],
   "source": [
    "merged_dar_path_dict = {\n",
    "    x.split(\"/\")[-1].split(\"__DARs.TOP2k.bed\")[0]: x\n",
    "    for x in glob.glob(\n",
    "        \"downstream_analysis/harmony_DARs/master_sub_1.FIXEDCELLS/master_sub_1.FIXEDCELLS__*TOP2k.bed\"\n",
    "    )\n",
    "}\n",
    "merged_dar_path_dict"
   ]
  },
  {
   "cell_type": "code",
   "execution_count": 312,
   "id": "066e1c35-490c-4d27-a15e-d0bc4ef236a2",
   "metadata": {
    "execution": {
     "iopub.execute_input": "2023-01-05T10:50:31.500748Z",
     "iopub.status.busy": "2023-01-05T10:50:31.500510Z",
     "iopub.status.idle": "2023-01-05T10:50:31.544448Z",
     "shell.execute_reply": "2023-01-05T10:50:31.543139Z",
     "shell.execute_reply.started": "2023-01-05T10:50:31.500724Z"
    },
    "tags": []
   },
   "outputs": [
    {
     "name": "stdout",
     "output_type": "stream",
     "text": [
      "master_sub_1.FIXEDCELLS__Cytotoxic_T_cell\n",
      "master_sub_1.FIXEDCELLS__CD14+_monocyte\n",
      "master_sub_1.FIXEDCELLS__B_cell\n",
      "master_sub_1.FIXEDCELLS__CD16+_monocyte\n",
      "master_sub_1.FIXEDCELLS__Dendritic_cell\n",
      "master_sub_1.FIXEDCELLS__Natural_killer_cell\n",
      "master_sub_1.FIXEDCELLS__CD4+_T_cell\n"
     ]
    },
    {
     "data": {
      "text/plain": [
       "OrderedDict([('Cytotoxic_T_cell', 'chr9:75010514-75011014'),\n",
       "             ('CD14+_monocyte', 'chr3:149373637-149374137'),\n",
       "             ('B_cell', 'chr5:158898392-158898892'),\n",
       "             ('CD16+_monocyte', 'chr13:48624875-48625375'),\n",
       "             ('Dendritic_cell', 'chr7:115505120-115505620'),\n",
       "             ('Natural_killer_cell', 'chr11:65694802-65695302'),\n",
       "             ('CD4+_T_cell', 'chr3:3297025-3297525')])"
      ]
     },
     "execution_count": 312,
     "metadata": {},
     "output_type": "execute_result"
    }
   ],
   "source": [
    "regions_dict = OrderedDict({})\n",
    "\n",
    "for supersample, path in merged_dar_path_dict.items():\n",
    "    print(supersample)\n",
    "    df = pd.read_csv(path, sep=\"\\t\", header=None)\n",
    "    df.columns = \"chrom start end cell_type log2fc strand p_val\".split()\n",
    "    # print(df.iloc[0])\n",
    "\n",
    "    cell_type = supersample.split(\"__\")[-1]\n",
    "    region = f\"{df.iloc[0]['chrom']}:{df.iloc[0]['start']}-{df.iloc[0]['end']}\"\n",
    "    regions_dict[cell_type] = region\n",
    "\n",
    "regions_dict"
   ]
  },
  {
   "cell_type": "code",
   "execution_count": 313,
   "id": "a5ec77ab-3a36-41b2-8de7-fc557b567524",
   "metadata": {
    "execution": {
     "iopub.execute_input": "2023-01-05T10:50:31.545358Z",
     "iopub.status.busy": "2023-01-05T10:50:31.545172Z",
     "iopub.status.idle": "2023-01-05T10:50:31.553470Z",
     "shell.execute_reply": "2023-01-05T10:50:31.552696Z",
     "shell.execute_reply.started": "2023-01-05T10:50:31.545338Z"
    },
    "tags": []
   },
   "outputs": [],
   "source": [
    "regions_dict = {\n",
    "    \"B_cell\": \"chr9:105355788-105356288\",\n",
    "    \"CD14+_monocyte\": \"chr13:20538552-20539052\",\n",
    "    \"CD16+_monocyte\": \"chr2:127014597-127015097\",\n",
    "    \"CD4+_T_cell\": \"chr1:120561744-120562244\",\n",
    "    \"Cytotoxic_T_cell\": \"chr2:8260129-8260629\",\n",
    "    \"Dendritic_cell\": \"chr1:73593354-73593854\",\n",
    "    \"Natural_killer_cell\": \"chr14:81485274-81485774\",\n",
    "}"
   ]
  },
  {
   "cell_type": "code",
   "execution_count": 368,
   "id": "a4b19da8-ba73-48e4-8539-9f3a3fc126e1",
   "metadata": {
    "execution": {
     "iopub.execute_input": "2023-01-05T10:59:39.850507Z",
     "iopub.status.busy": "2023-01-05T10:59:39.849827Z",
     "iopub.status.idle": "2023-01-05T10:59:39.869041Z",
     "shell.execute_reply": "2023-01-05T10:59:39.867738Z",
     "shell.execute_reply.started": "2023-01-05T10:59:39.850443Z"
    },
    "tags": []
   },
   "outputs": [],
   "source": [
    "regions_dict = {\n",
    "    \"B_cell\": \"chr9:105355788-105356288\",\n",
    "    \"CD14_monocyte\": \"chr13:73338358-73338858\",\n",
    "    \"CD16_monocyte\": \"chr2:127014597-127015097\",\n",
    "    \"CD4_T_cell\": \"chr13:26062788-26063288\",\n",
    "    \"Cytotoxic_T_cell\": \"chr21:44829703-44830203\",\n",
    "    \"Dendritic_cell\": \"chr6:72580326-72580826\",\n",
    "    \"Natural_killer_cell\": \"chr6:168968153-168968653\",\n",
    "}"
   ]
  },
  {
   "cell_type": "code",
   "execution_count": 369,
   "id": "e0e13a54-3d96-401e-a51f-ebab78f9ff4b",
   "metadata": {
    "execution": {
     "iopub.execute_input": "2023-01-05T10:59:40.385856Z",
     "iopub.status.busy": "2023-01-05T10:59:40.385183Z",
     "iopub.status.idle": "2023-01-05T10:59:40.438026Z",
     "shell.execute_reply": "2023-01-05T10:59:40.437164Z",
     "shell.execute_reply.started": "2023-01-05T10:59:40.385780Z"
    },
    "tags": []
   },
   "outputs": [],
   "source": [
    "regions_df = pd.DataFrame(columns=[\"chrom\", \"start\", \"end\"])\n",
    "for key in regions_dict.keys():\n",
    "    row = list(regions_dict.keys()).index(key)\n",
    "    chrom, start, end = re.split(\":|-\", regions_dict[key])\n",
    "    start = int(re.sub(\",\", \"\", start))\n",
    "    end = int(re.sub(\",\", \"\", end))\n",
    "\n",
    "    region = pd.DataFrame(columns=[\"chrom\", \"start\", \"end\"], index=[key])\n",
    "    region[\"chrom\"] = chrom\n",
    "    region[\"start\"] = start\n",
    "    region[\"end\"] = end\n",
    "    regions_df = pd.concat([regions_df, region], axis=0)\n",
    "\n",
    "bedtool_obj = BedTool.from_dataframe(df=regions_df)"
   ]
  },
  {
   "cell_type": "markdown",
   "id": "e8bca90e-71de-4b4b-9ef8-6db8c0ec1c50",
   "metadata": {},
   "source": [
    "genes to plot"
   ]
  },
  {
   "cell_type": "code",
   "execution_count": 370,
   "id": "02789168-a4df-47e3-af38-4d4f7571c798",
   "metadata": {
    "execution": {
     "iopub.execute_input": "2023-01-05T10:59:40.473740Z",
     "iopub.status.busy": "2023-01-05T10:59:40.473212Z",
     "iopub.status.idle": "2023-01-05T10:59:40.509192Z",
     "shell.execute_reply": "2023-01-05T10:59:40.508319Z",
     "shell.execute_reply.started": "2023-01-05T10:59:40.473688Z"
    },
    "tags": []
   },
   "outputs": [
    {
     "data": {
      "text/plain": [
       "{'CD14_monocyte': {'10xv2': 'per_tech_harmony_cell_type_bigwigs_nonnorm/master_sub_1.FIXEDCELLS__CONSENSUS_pseudobulk_bw_files_nonnorm/10xv2_CD14_monocyte.bw',\n",
       "  'hydrop': 'per_tech_harmony_cell_type_bigwigs_nonnorm/master_sub_1.FIXEDCELLS__CONSENSUS_pseudobulk_bw_files_nonnorm/hydrop_CD14_monocyte.bw',\n",
       "  '10xmultiome': 'per_tech_harmony_cell_type_bigwigs_nonnorm/master_sub_1.FIXEDCELLS__CONSENSUS_pseudobulk_bw_files_nonnorm/10xmultiome_CD14_monocyte.bw',\n",
       "  'ddseq': 'per_tech_harmony_cell_type_bigwigs_nonnorm/master_sub_1.FIXEDCELLS__CONSENSUS_pseudobulk_bw_files_nonnorm/ddseq_CD14_monocyte.bw',\n",
       "  'mtscatac': 'per_tech_harmony_cell_type_bigwigs_nonnorm/master_sub_1.FIXEDCELLS__CONSENSUS_pseudobulk_bw_files_nonnorm/mtscatac_CD14_monocyte.bw',\n",
       "  's3atac': 'per_tech_harmony_cell_type_bigwigs_nonnorm/master_sub_1.FIXEDCELLS__CONSENSUS_pseudobulk_bw_files_nonnorm/s3atac_CD14_monocyte.bw',\n",
       "  '10xv11': 'per_tech_harmony_cell_type_bigwigs_nonnorm/master_sub_1.FIXEDCELLS__CONSENSUS_pseudobulk_bw_files_nonnorm/10xv11_CD14_monocyte.bw',\n",
       "  '10xv1': 'per_tech_harmony_cell_type_bigwigs_nonnorm/master_sub_1.FIXEDCELLS__CONSENSUS_pseudobulk_bw_files_nonnorm/10xv1_CD14_monocyte.bw'},\n",
       " 'Dendritic_cell': {'mtscatac': 'per_tech_harmony_cell_type_bigwigs_nonnorm/master_sub_1.FIXEDCELLS__CONSENSUS_pseudobulk_bw_files_nonnorm/mtscatac_Dendritic_cell.bw',\n",
       "  '10xv2': 'per_tech_harmony_cell_type_bigwigs_nonnorm/master_sub_1.FIXEDCELLS__CONSENSUS_pseudobulk_bw_files_nonnorm/10xv2_Dendritic_cell.bw',\n",
       "  'ddseq': 'per_tech_harmony_cell_type_bigwigs_nonnorm/master_sub_1.FIXEDCELLS__CONSENSUS_pseudobulk_bw_files_nonnorm/ddseq_Dendritic_cell.bw',\n",
       "  '10xv1': 'per_tech_harmony_cell_type_bigwigs_nonnorm/master_sub_1.FIXEDCELLS__CONSENSUS_pseudobulk_bw_files_nonnorm/10xv1_Dendritic_cell.bw',\n",
       "  '10xmultiome': 'per_tech_harmony_cell_type_bigwigs_nonnorm/master_sub_1.FIXEDCELLS__CONSENSUS_pseudobulk_bw_files_nonnorm/10xmultiome_Dendritic_cell.bw',\n",
       "  's3atac': 'per_tech_harmony_cell_type_bigwigs_nonnorm/master_sub_1.FIXEDCELLS__CONSENSUS_pseudobulk_bw_files_nonnorm/s3atac_Dendritic_cell.bw',\n",
       "  '10xv11': 'per_tech_harmony_cell_type_bigwigs_nonnorm/master_sub_1.FIXEDCELLS__CONSENSUS_pseudobulk_bw_files_nonnorm/10xv11_Dendritic_cell.bw',\n",
       "  'hydrop': 'per_tech_harmony_cell_type_bigwigs_nonnorm/master_sub_1.FIXEDCELLS__CONSENSUS_pseudobulk_bw_files_nonnorm/hydrop_Dendritic_cell.bw'},\n",
       " 'CD16_monocyte': {'10xv1': 'per_tech_harmony_cell_type_bigwigs_nonnorm/master_sub_1.FIXEDCELLS__CONSENSUS_pseudobulk_bw_files_nonnorm/10xv1_CD16_monocyte.bw',\n",
       "  'mtscatac': 'per_tech_harmony_cell_type_bigwigs_nonnorm/master_sub_1.FIXEDCELLS__CONSENSUS_pseudobulk_bw_files_nonnorm/mtscatac_CD16_monocyte.bw',\n",
       "  'hydrop': 'per_tech_harmony_cell_type_bigwigs_nonnorm/master_sub_1.FIXEDCELLS__CONSENSUS_pseudobulk_bw_files_nonnorm/hydrop_CD16_monocyte.bw',\n",
       "  '10xmultiome': 'per_tech_harmony_cell_type_bigwigs_nonnorm/master_sub_1.FIXEDCELLS__CONSENSUS_pseudobulk_bw_files_nonnorm/10xmultiome_CD16_monocyte.bw',\n",
       "  's3atac': 'per_tech_harmony_cell_type_bigwigs_nonnorm/master_sub_1.FIXEDCELLS__CONSENSUS_pseudobulk_bw_files_nonnorm/s3atac_CD16_monocyte.bw',\n",
       "  '10xv2': 'per_tech_harmony_cell_type_bigwigs_nonnorm/master_sub_1.FIXEDCELLS__CONSENSUS_pseudobulk_bw_files_nonnorm/10xv2_CD16_monocyte.bw',\n",
       "  'ddseq': 'per_tech_harmony_cell_type_bigwigs_nonnorm/master_sub_1.FIXEDCELLS__CONSENSUS_pseudobulk_bw_files_nonnorm/ddseq_CD16_monocyte.bw',\n",
       "  '10xv11': 'per_tech_harmony_cell_type_bigwigs_nonnorm/master_sub_1.FIXEDCELLS__CONSENSUS_pseudobulk_bw_files_nonnorm/10xv11_CD16_monocyte.bw'},\n",
       " 'CD4_T_cell': {'mtscatac': 'per_tech_harmony_cell_type_bigwigs_nonnorm/master_sub_1.FIXEDCELLS__CONSENSUS_pseudobulk_bw_files_nonnorm/mtscatac_CD4_T_cell.bw',\n",
       "  '10xv11': 'per_tech_harmony_cell_type_bigwigs_nonnorm/master_sub_1.FIXEDCELLS__CONSENSUS_pseudobulk_bw_files_nonnorm/10xv11_CD4_T_cell.bw',\n",
       "  's3atac': 'per_tech_harmony_cell_type_bigwigs_nonnorm/master_sub_1.FIXEDCELLS__CONSENSUS_pseudobulk_bw_files_nonnorm/s3atac_CD4_T_cell.bw',\n",
       "  '10xv2': 'per_tech_harmony_cell_type_bigwigs_nonnorm/master_sub_1.FIXEDCELLS__CONSENSUS_pseudobulk_bw_files_nonnorm/10xv2_CD4_T_cell.bw',\n",
       "  '10xv1': 'per_tech_harmony_cell_type_bigwigs_nonnorm/master_sub_1.FIXEDCELLS__CONSENSUS_pseudobulk_bw_files_nonnorm/10xv1_CD4_T_cell.bw',\n",
       "  'hydrop': 'per_tech_harmony_cell_type_bigwigs_nonnorm/master_sub_1.FIXEDCELLS__CONSENSUS_pseudobulk_bw_files_nonnorm/hydrop_CD4_T_cell.bw',\n",
       "  '10xmultiome': 'per_tech_harmony_cell_type_bigwigs_nonnorm/master_sub_1.FIXEDCELLS__CONSENSUS_pseudobulk_bw_files_nonnorm/10xmultiome_CD4_T_cell.bw',\n",
       "  'ddseq': 'per_tech_harmony_cell_type_bigwigs_nonnorm/master_sub_1.FIXEDCELLS__CONSENSUS_pseudobulk_bw_files_nonnorm/ddseq_CD4_T_cell.bw'},\n",
       " 'B_cell': {'10xmultiome': 'per_tech_harmony_cell_type_bigwigs_nonnorm/master_sub_1.FIXEDCELLS__CONSENSUS_pseudobulk_bw_files_nonnorm/10xmultiome_B_cell.bw',\n",
       "  'mtscatac': 'per_tech_harmony_cell_type_bigwigs_nonnorm/master_sub_1.FIXEDCELLS__CONSENSUS_pseudobulk_bw_files_nonnorm/mtscatac_B_cell.bw',\n",
       "  '10xv11': 'per_tech_harmony_cell_type_bigwigs_nonnorm/master_sub_1.FIXEDCELLS__CONSENSUS_pseudobulk_bw_files_nonnorm/10xv11_B_cell.bw',\n",
       "  'ddseq': 'per_tech_harmony_cell_type_bigwigs_nonnorm/master_sub_1.FIXEDCELLS__CONSENSUS_pseudobulk_bw_files_nonnorm/ddseq_B_cell.bw',\n",
       "  'hydrop': 'per_tech_harmony_cell_type_bigwigs_nonnorm/master_sub_1.FIXEDCELLS__CONSENSUS_pseudobulk_bw_files_nonnorm/hydrop_B_cell.bw',\n",
       "  's3atac': 'per_tech_harmony_cell_type_bigwigs_nonnorm/master_sub_1.FIXEDCELLS__CONSENSUS_pseudobulk_bw_files_nonnorm/s3atac_B_cell.bw',\n",
       "  '10xv1': 'per_tech_harmony_cell_type_bigwigs_nonnorm/master_sub_1.FIXEDCELLS__CONSENSUS_pseudobulk_bw_files_nonnorm/10xv1_B_cell.bw',\n",
       "  '10xv2': 'per_tech_harmony_cell_type_bigwigs_nonnorm/master_sub_1.FIXEDCELLS__CONSENSUS_pseudobulk_bw_files_nonnorm/10xv2_B_cell.bw'},\n",
       " 'Natural_killer_cell': {'s3atac': 'per_tech_harmony_cell_type_bigwigs_nonnorm/master_sub_1.FIXEDCELLS__CONSENSUS_pseudobulk_bw_files_nonnorm/s3atac_Natural_killer_cell.bw',\n",
       "  '10xv1': 'per_tech_harmony_cell_type_bigwigs_nonnorm/master_sub_1.FIXEDCELLS__CONSENSUS_pseudobulk_bw_files_nonnorm/10xv1_Natural_killer_cell.bw',\n",
       "  'ddseq': 'per_tech_harmony_cell_type_bigwigs_nonnorm/master_sub_1.FIXEDCELLS__CONSENSUS_pseudobulk_bw_files_nonnorm/ddseq_Natural_killer_cell.bw',\n",
       "  '10xv11': 'per_tech_harmony_cell_type_bigwigs_nonnorm/master_sub_1.FIXEDCELLS__CONSENSUS_pseudobulk_bw_files_nonnorm/10xv11_Natural_killer_cell.bw',\n",
       "  '10xv2': 'per_tech_harmony_cell_type_bigwigs_nonnorm/master_sub_1.FIXEDCELLS__CONSENSUS_pseudobulk_bw_files_nonnorm/10xv2_Natural_killer_cell.bw',\n",
       "  'mtscatac': 'per_tech_harmony_cell_type_bigwigs_nonnorm/master_sub_1.FIXEDCELLS__CONSENSUS_pseudobulk_bw_files_nonnorm/mtscatac_Natural_killer_cell.bw',\n",
       "  '10xmultiome': 'per_tech_harmony_cell_type_bigwigs_nonnorm/master_sub_1.FIXEDCELLS__CONSENSUS_pseudobulk_bw_files_nonnorm/10xmultiome_Natural_killer_cell.bw',\n",
       "  'hydrop': 'per_tech_harmony_cell_type_bigwigs_nonnorm/master_sub_1.FIXEDCELLS__CONSENSUS_pseudobulk_bw_files_nonnorm/hydrop_Natural_killer_cell.bw'},\n",
       " 'Cytotoxic_T_cell': {'10xv1': 'per_tech_harmony_cell_type_bigwigs_nonnorm/master_sub_1.FIXEDCELLS__CONSENSUS_pseudobulk_bw_files_nonnorm/10xv1_Cytotoxic_T_cell.bw',\n",
       "  'ddseq': 'per_tech_harmony_cell_type_bigwigs_nonnorm/master_sub_1.FIXEDCELLS__CONSENSUS_pseudobulk_bw_files_nonnorm/ddseq_Cytotoxic_T_cell.bw',\n",
       "  's3atac': 'per_tech_harmony_cell_type_bigwigs_nonnorm/master_sub_1.FIXEDCELLS__CONSENSUS_pseudobulk_bw_files_nonnorm/s3atac_Cytotoxic_T_cell.bw',\n",
       "  'mtscatac': 'per_tech_harmony_cell_type_bigwigs_nonnorm/master_sub_1.FIXEDCELLS__CONSENSUS_pseudobulk_bw_files_nonnorm/mtscatac_Cytotoxic_T_cell.bw',\n",
       "  '10xv2': 'per_tech_harmony_cell_type_bigwigs_nonnorm/master_sub_1.FIXEDCELLS__CONSENSUS_pseudobulk_bw_files_nonnorm/10xv2_Cytotoxic_T_cell.bw',\n",
       "  '10xmultiome': 'per_tech_harmony_cell_type_bigwigs_nonnorm/master_sub_1.FIXEDCELLS__CONSENSUS_pseudobulk_bw_files_nonnorm/10xmultiome_Cytotoxic_T_cell.bw',\n",
       "  'hydrop': 'per_tech_harmony_cell_type_bigwigs_nonnorm/master_sub_1.FIXEDCELLS__CONSENSUS_pseudobulk_bw_files_nonnorm/hydrop_Cytotoxic_T_cell.bw',\n",
       "  '10xv11': 'per_tech_harmony_cell_type_bigwigs_nonnorm/master_sub_1.FIXEDCELLS__CONSENSUS_pseudobulk_bw_files_nonnorm/10xv11_Cytotoxic_T_cell.bw'}}"
      ]
     },
     "execution_count": 370,
     "metadata": {},
     "output_type": "execute_result"
    }
   ],
   "source": [
    "cell_types = list(\n",
    "    set(\n",
    "        [\n",
    "            \"_\".join(x.split(\"/\")[-1].split(\"_\")[1:]).split(\".\")[0]\n",
    "            for x in glob.glob(\n",
    "                \"per_tech_harmony_cell_type_bigwigs_nonnorm/master_sub_1.FIXEDCELLS__CONSENSUS_pseudobulk_bw_files_nonnorm/*\"\n",
    "            )\n",
    "        ]\n",
    "    )\n",
    ")\n",
    "\n",
    "bw_path_dict_dict = {}\n",
    "for cell_type in cell_types:\n",
    "    # print(cell_type)\n",
    "    bw_path_dict_dict[cell_type] = {\n",
    "        x.split(\"/\")[-1].split(\"_\")[0]: x\n",
    "        for x in glob.glob(\n",
    "            f\"per_tech_harmony_cell_type_bigwigs_nonnorm/master_sub_1.FIXEDCELLS__CONSENSUS_pseudobulk_bw_files_nonnorm/*{cell_type}*\"\n",
    "        )\n",
    "    }\n",
    "bw_path_dict_dict"
   ]
  },
  {
   "cell_type": "code",
   "execution_count": 371,
   "id": "194bb997-f287-4786-9c5a-a0124d13053d",
   "metadata": {
    "execution": {
     "iopub.execute_input": "2023-01-05T10:59:40.556865Z",
     "iopub.status.busy": "2023-01-05T10:59:40.556226Z",
     "iopub.status.idle": "2023-01-05T10:59:40.573012Z",
     "shell.execute_reply": "2023-01-05T10:59:40.571757Z",
     "shell.execute_reply.started": "2023-01-05T10:59:40.556802Z"
    },
    "tags": []
   },
   "outputs": [],
   "source": [
    "dar_color = \"b\"\n",
    "peak_color = \"k\"\n",
    "gene_height = 3\n",
    "gene_bottom = -gene_height / 2\n",
    "exon_height = 6\n",
    "exon_bottom = -exon_height / 2\n",
    "\n",
    "figsize = (6, 8)"
   ]
  },
  {
   "cell_type": "code",
   "execution_count": 372,
   "id": "c249994c-c953-41e7-93e9-cbc5eb2b7601",
   "metadata": {
    "execution": {
     "iopub.execute_input": "2023-01-05T10:59:40.665573Z",
     "iopub.status.busy": "2023-01-05T10:59:40.664928Z",
     "iopub.status.idle": "2023-01-05T10:59:40.690651Z",
     "shell.execute_reply": "2023-01-05T10:59:40.689407Z",
     "shell.execute_reply.started": "2023-01-05T10:59:40.665512Z"
    },
    "tags": []
   },
   "outputs": [],
   "source": [
    "def addax():\n",
    "    ax.set_xlim([x.min(), x.max()])\n",
    "    sns.despine(top=True, right=True, left=True, bottom=True, ax=ax)\n",
    "    ax.set_xticks([])\n",
    "    ax.set_yticks([])\n",
    "    ax.patch.set_alpha(\n",
    "        0\n",
    "    )  # make sure that each individual subplot is transparent! otherwise the underlying plots won't be shown. this is important e.g. for the dar/peak visualisaton, since the DARs are drawn directly on top of the peaks. if the DAR plot is not transparent, no peaks will be visible!!\n",
    "\n",
    "    fig.add_subplot(ax)"
   ]
  },
  {
   "cell_type": "code",
   "execution_count": 373,
   "id": "693dfa2a-93ba-4d08-864e-abeae1a21502",
   "metadata": {
    "execution": {
     "iopub.execute_input": "2023-01-05T10:59:40.692315Z",
     "iopub.status.busy": "2023-01-05T10:59:40.692019Z",
     "iopub.status.idle": "2023-01-05T10:59:40.699271Z",
     "shell.execute_reply": "2023-01-05T10:59:40.698371Z",
     "shell.execute_reply.started": "2023-01-05T10:59:40.692284Z"
    },
    "tags": []
   },
   "outputs": [],
   "source": [
    "max_genes = 1"
   ]
  },
  {
   "cell_type": "code",
   "execution_count": 374,
   "id": "0589022a-a5a8-44b9-b6a9-8c492aa0ca98",
   "metadata": {
    "execution": {
     "iopub.execute_input": "2023-01-05T10:59:40.739841Z",
     "iopub.status.busy": "2023-01-05T10:59:40.739192Z",
     "iopub.status.idle": "2023-01-05T10:59:40.748640Z",
     "shell.execute_reply": "2023-01-05T10:59:40.747264Z",
     "shell.execute_reply.started": "2023-01-05T10:59:40.739766Z"
    },
    "tags": []
   },
   "outputs": [],
   "source": [
    "plot_genes = False\n",
    "verbose = True"
   ]
  },
  {
   "cell_type": "code",
   "execution_count": 375,
   "id": "3aeb8181-8f18-4b4b-907e-9f7dd96bf884",
   "metadata": {
    "execution": {
     "iopub.execute_input": "2023-01-05T10:59:40.865912Z",
     "iopub.status.busy": "2023-01-05T10:59:40.865266Z",
     "iopub.status.idle": "2023-01-05T10:59:40.898879Z",
     "shell.execute_reply": "2023-01-05T10:59:40.897846Z",
     "shell.execute_reply.started": "2023-01-05T10:59:40.865849Z"
    },
    "tags": []
   },
   "outputs": [],
   "source": [
    "region_forced_length = 2000\n",
    "\n",
    "regions_df_padded = regions_df.copy()\n",
    "\n",
    "regions_df_padded[\"region_center\"] = (\n",
    "    regions_df_padded[\"start\"]\n",
    "    + (regions_df_padded[\"end\"] - regions_df_padded[\"start\"]) / 2\n",
    ")\n",
    "\n",
    "\n",
    "regions_df_padded[\"start\"] = (\n",
    "    regions_df_padded[\"region_center\"] - region_forced_length / 2\n",
    ")\n",
    "regions_df_padded[\"start\"] = [int(x) for x in regions_df_padded[\"start\"]]\n",
    "regions_df_padded[\"end\"] = regions_df_padded[\"region_center\"] + region_forced_length / 2\n",
    "regions_df_padded[\"end\"] = [int(x) for x in regions_df_padded[\"end\"]]"
   ]
  },
  {
   "cell_type": "code",
   "execution_count": 376,
   "id": "1fde8e54-10bb-4a79-b676-c6f4e78221bb",
   "metadata": {
    "execution": {
     "iopub.execute_input": "2023-01-05T10:59:40.900305Z",
     "iopub.status.busy": "2023-01-05T10:59:40.900085Z",
     "iopub.status.idle": "2023-01-05T10:59:41.392495Z",
     "shell.execute_reply": "2023-01-05T10:59:41.391656Z",
     "shell.execute_reply.started": "2023-01-05T10:59:40.900281Z"
    },
    "tags": []
   },
   "outputs": [
    {
     "name": "stdout",
     "output_type": "stream",
     "text": [
      "calculated max values within region B_cell\n",
      "calculated max values within region CD14_monocyte\n",
      "calculated max values within region CD16_monocyte\n",
      "calculated max values within region CD4_T_cell\n",
      "calculated max values within region Cytotoxic_T_cell\n",
      "calculated max values within region Dendritic_cell\n",
      "calculated max values within region Natural_killer_cell\n"
     ]
    },
    {
     "data": {
      "text/plain": [
       "{'B_cell': 20.0,\n",
       " 'CD14_monocyte': 37.0,\n",
       " 'CD16_monocyte': 41.0,\n",
       " 'CD4_T_cell': 34.0,\n",
       " 'Cytotoxic_T_cell': 31.0,\n",
       " 'Dendritic_cell': 41.0,\n",
       " 'Natural_killer_cell': 22.0}"
      ]
     },
     "execution_count": 376,
     "metadata": {},
     "output_type": "execute_result"
    }
   ],
   "source": [
    "## calculate bw_ymax per col\n",
    "region_max_dict_padded = {}\n",
    "for region_name in regions_df_padded.index:\n",
    "    chrom = regions_df_padded.loc[region_name][\"chrom\"]\n",
    "    start = int(regions_df_padded.loc[region_name][\"start\"])\n",
    "    end = int(regions_df_padded.loc[region_name][\"end\"])\n",
    "\n",
    "    bw_ymax_dict_dict = {}\n",
    "    for cell_type in bw_path_dict_dict.keys():\n",
    "        bw_ymax_dict = {}\n",
    "\n",
    "        for tech in bw_path_dict_dict[cell_type].keys():\n",
    "            bw_file = bw_path_dict_dict[cell_type][tech]\n",
    "\n",
    "            # calculate max value of the bigwig within our region\n",
    "            bw = pyBigWig.open(bw_file)\n",
    "            y = bw.values(chrom, start, end)\n",
    "            y = np.nan_to_num(y)\n",
    "\n",
    "            bw_ymax_dict[tech] = y.max()\n",
    "\n",
    "        bw_ymax_dict_dict[cell_type] = max(bw_ymax_dict.values())\n",
    "\n",
    "    region_max_dict_padded[region_name] = bw_ymax_dict_dict[\n",
    "        max(bw_ymax_dict_dict, key=bw_ymax_dict_dict.get)\n",
    "    ]\n",
    "    print(f\"calculated max values within region {region_name}\")\n",
    "\n",
    "region_max_dict_padded"
   ]
  },
  {
   "cell_type": "code",
   "execution_count": 377,
   "id": "1d338b02-a474-4f2e-9055-aeaf393c8234",
   "metadata": {
    "execution": {
     "iopub.execute_input": "2023-01-05T10:59:41.393809Z",
     "iopub.status.busy": "2023-01-05T10:59:41.393604Z",
     "iopub.status.idle": "2023-01-05T10:59:41.402415Z",
     "shell.execute_reply": "2023-01-05T10:59:41.401678Z",
     "shell.execute_reply.started": "2023-01-05T10:59:41.393781Z"
    },
    "tags": []
   },
   "outputs": [
    {
     "data": {
      "text/html": [
       "<div>\n",
       "<style scoped>\n",
       "    .dataframe tbody tr th:only-of-type {\n",
       "        vertical-align: middle;\n",
       "    }\n",
       "\n",
       "    .dataframe tbody tr th {\n",
       "        vertical-align: top;\n",
       "    }\n",
       "\n",
       "    .dataframe thead th {\n",
       "        text-align: right;\n",
       "    }\n",
       "</style>\n",
       "<table border=\"1\" class=\"dataframe\">\n",
       "  <thead>\n",
       "    <tr style=\"text-align: right;\">\n",
       "      <th></th>\n",
       "      <th>chrom</th>\n",
       "      <th>start</th>\n",
       "      <th>end</th>\n",
       "      <th>region_center</th>\n",
       "    </tr>\n",
       "  </thead>\n",
       "  <tbody>\n",
       "    <tr>\n",
       "      <th>B_cell</th>\n",
       "      <td>chr9</td>\n",
       "      <td>105355038</td>\n",
       "      <td>105357038</td>\n",
       "      <td>105356038.0</td>\n",
       "    </tr>\n",
       "    <tr>\n",
       "      <th>CD14_monocyte</th>\n",
       "      <td>chr13</td>\n",
       "      <td>73337608</td>\n",
       "      <td>73339608</td>\n",
       "      <td>73338608.0</td>\n",
       "    </tr>\n",
       "    <tr>\n",
       "      <th>CD16_monocyte</th>\n",
       "      <td>chr2</td>\n",
       "      <td>127013847</td>\n",
       "      <td>127015847</td>\n",
       "      <td>127014847.0</td>\n",
       "    </tr>\n",
       "    <tr>\n",
       "      <th>CD4_T_cell</th>\n",
       "      <td>chr13</td>\n",
       "      <td>26062038</td>\n",
       "      <td>26064038</td>\n",
       "      <td>26063038.0</td>\n",
       "    </tr>\n",
       "    <tr>\n",
       "      <th>Cytotoxic_T_cell</th>\n",
       "      <td>chr21</td>\n",
       "      <td>44828953</td>\n",
       "      <td>44830953</td>\n",
       "      <td>44829953.0</td>\n",
       "    </tr>\n",
       "    <tr>\n",
       "      <th>Dendritic_cell</th>\n",
       "      <td>chr6</td>\n",
       "      <td>72579576</td>\n",
       "      <td>72581576</td>\n",
       "      <td>72580576.0</td>\n",
       "    </tr>\n",
       "    <tr>\n",
       "      <th>Natural_killer_cell</th>\n",
       "      <td>chr6</td>\n",
       "      <td>168967403</td>\n",
       "      <td>168969403</td>\n",
       "      <td>168968403.0</td>\n",
       "    </tr>\n",
       "  </tbody>\n",
       "</table>\n",
       "</div>"
      ],
      "text/plain": [
       "                     chrom      start        end region_center\n",
       "B_cell                chr9  105355038  105357038   105356038.0\n",
       "CD14_monocyte        chr13   73337608   73339608    73338608.0\n",
       "CD16_monocyte         chr2  127013847  127015847   127014847.0\n",
       "CD4_T_cell           chr13   26062038   26064038    26063038.0\n",
       "Cytotoxic_T_cell     chr21   44828953   44830953    44829953.0\n",
       "Dendritic_cell        chr6   72579576   72581576    72580576.0\n",
       "Natural_killer_cell   chr6  168967403  168969403   168968403.0"
      ]
     },
     "execution_count": 377,
     "metadata": {},
     "output_type": "execute_result"
    }
   ],
   "source": [
    "regions_df_padded"
   ]
  },
  {
   "cell_type": "code",
   "execution_count": 378,
   "id": "69c9d9fc-1603-40c4-b093-36cb924c4ecd",
   "metadata": {
    "execution": {
     "iopub.execute_input": "2023-01-05T10:59:41.403486Z",
     "iopub.status.busy": "2023-01-05T10:59:41.403296Z",
     "iopub.status.idle": "2023-01-05T10:59:43.082569Z",
     "shell.execute_reply": "2023-01-05T10:59:43.081746Z",
     "shell.execute_reply.started": "2023-01-05T10:59:41.403466Z"
    },
    "tags": []
   },
   "outputs": [
    {
     "data": {
      "text/plain": [
       "OrderedDict([('Cytotoxic_T_cell', 'chr9:75009514.0-75012014.0'),\n",
       "             ('CD14_monocyte', 'chr3:149372637.0-149375137.0'),\n",
       "             ('B_cell', 'chr5:158897392.0-158899892.0'),\n",
       "             ('CD16_monocyte', 'chr13:48623875.0-48626375.0'),\n",
       "             ('Dendritic_cell', 'chr7:115504120.0-115506620.0'),\n",
       "             ('Natural_killer_cell', 'chr11:65693802.0-65696302.0'),\n",
       "             ('CD4_T_cell', 'chr3:3296025.0-3298525.0')])"
      ]
     },
     "execution_count": 378,
     "metadata": {},
     "output_type": "execute_result"
    }
   ],
   "source": [
    "regions_dict_padded = OrderedDict({})\n",
    "\n",
    "for supersample, path in merged_dar_path_dict.items():\n",
    "    # print(supersample)\n",
    "    df = pd.read_csv(path, sep=\"\\t\", header=None)\n",
    "    df.columns = \"chrom start end cell_type log2fc strand p_val\".split()\n",
    "    # print(df.iloc[0])\n",
    "\n",
    "    cell_type = supersample.split(\"__\")[-1].replace(\"+\", \"\")\n",
    "    region = f\"{df.iloc[0]['chrom']}:{df.iloc[0]['start']- region_forced_length / 2}-{df.iloc[0]['end']+region_forced_length / 2}\"\n",
    "    regions_dict_padded[cell_type] = region\n",
    "\n",
    "regions_dict_padded"
   ]
  },
  {
   "cell_type": "code",
   "execution_count": 379,
   "id": "79ecdadd-be5f-4e27-9aab-96b6b00d7d99",
   "metadata": {
    "execution": {
     "iopub.execute_input": "2023-01-05T10:59:43.083619Z",
     "iopub.status.busy": "2023-01-05T10:59:43.083417Z",
     "iopub.status.idle": "2023-01-05T10:59:43.089267Z",
     "shell.execute_reply": "2023-01-05T10:59:43.088434Z",
     "shell.execute_reply.started": "2023-01-05T10:59:43.083598Z"
    },
    "tags": []
   },
   "outputs": [
    {
     "data": {
      "text/plain": [
       "dict_keys(['CD14_monocyte', 'Dendritic_cell', 'CD16_monocyte', 'CD4_T_cell', 'B_cell', 'Natural_killer_cell', 'Cytotoxic_T_cell'])"
      ]
     },
     "execution_count": 379,
     "metadata": {},
     "output_type": "execute_result"
    }
   ],
   "source": [
    "bw_path_dict_dict.keys()"
   ]
  },
  {
   "cell_type": "code",
   "execution_count": 380,
   "id": "eedc49d2-f644-4a50-b39b-a79f71c1df63",
   "metadata": {
    "execution": {
     "iopub.execute_input": "2023-01-05T10:59:43.090296Z",
     "iopub.status.busy": "2023-01-05T10:59:43.090098Z",
     "iopub.status.idle": "2023-01-05T10:59:43.120332Z",
     "shell.execute_reply": "2023-01-05T10:59:43.119090Z",
     "shell.execute_reply.started": "2023-01-05T10:59:43.090276Z"
    },
    "tags": []
   },
   "outputs": [],
   "source": [
    "regions_df_padded.index = [x.replace(\"+\", \"\") for x in regions_df_padded.index]"
   ]
  },
  {
   "cell_type": "code",
   "execution_count": 381,
   "id": "63b9e595-9c42-407f-b298-3eb11b5bfcf9",
   "metadata": {
    "execution": {
     "iopub.execute_input": "2023-01-05T10:59:43.123821Z",
     "iopub.status.busy": "2023-01-05T10:59:43.123367Z",
     "iopub.status.idle": "2023-01-05T10:59:43.137920Z",
     "shell.execute_reply": "2023-01-05T10:59:43.136974Z",
     "shell.execute_reply.started": "2023-01-05T10:59:43.123767Z"
    },
    "tags": []
   },
   "outputs": [
    {
     "data": {
      "text/plain": [
       "{'B_cell': 'final_consensus_peaks/master_sub_1.FIXEDCELLS__SCREEN_consensus_peaks.bed',\n",
       " 'CD14_monocyte': 'final_consensus_peaks/master_sub_1.FIXEDCELLS__SCREEN_consensus_peaks.bed',\n",
       " 'CD16_monocyte': 'final_consensus_peaks/master_sub_1.FIXEDCELLS__SCREEN_consensus_peaks.bed',\n",
       " 'CD4_T_cell': 'final_consensus_peaks/master_sub_1.FIXEDCELLS__SCREEN_consensus_peaks.bed',\n",
       " 'Cytotoxic_T_cell': 'final_consensus_peaks/master_sub_1.FIXEDCELLS__SCREEN_consensus_peaks.bed',\n",
       " 'Dendritic_cell': 'final_consensus_peaks/master_sub_1.FIXEDCELLS__SCREEN_consensus_peaks.bed',\n",
       " 'Natural_killer_cell': 'final_consensus_peaks/master_sub_1.FIXEDCELLS__SCREEN_consensus_peaks.bed'}"
      ]
     },
     "execution_count": 381,
     "metadata": {},
     "output_type": "execute_result"
    }
   ],
   "source": [
    "peak_path_dict = {\n",
    "    x.replace(\n",
    "        \"+\", \"\"\n",
    "    ): \"final_consensus_peaks/master_sub_1.FIXEDCELLS__SCREEN_consensus_peaks.bed\"\n",
    "    for x in regions_dict.keys()\n",
    "}\n",
    "peak_path_dict"
   ]
  },
  {
   "cell_type": "code",
   "execution_count": 383,
   "id": "22db43c1-50b8-4826-b7bb-635c17b31f6f",
   "metadata": {
    "execution": {
     "iopub.execute_input": "2023-01-05T10:59:50.447398Z",
     "iopub.status.busy": "2023-01-05T10:59:50.446723Z",
     "iopub.status.idle": "2023-01-05T10:59:50.453942Z",
     "shell.execute_reply": "2023-01-05T10:59:50.452573Z",
     "shell.execute_reply.started": "2023-01-05T10:59:50.447333Z"
    },
    "tags": []
   },
   "outputs": [],
   "source": [
    "# merged_dar_path_dict = {\n",
    "#     x.split(\"__\")[1].replace(\"+\", \"\"): y for x, y in merged_dar_path_dict.items()\n",
    "# }"
   ]
  },
  {
   "cell_type": "code",
   "execution_count": 384,
   "id": "667392f8-d8cb-407e-83f7-007ccdcde09c",
   "metadata": {
    "execution": {
     "iopub.execute_input": "2023-01-05T10:59:50.889390Z",
     "iopub.status.busy": "2023-01-05T10:59:50.888709Z",
     "iopub.status.idle": "2023-01-05T10:59:50.897319Z",
     "shell.execute_reply": "2023-01-05T10:59:50.895941Z",
     "shell.execute_reply.started": "2023-01-05T10:59:50.889326Z"
    },
    "tags": []
   },
   "outputs": [],
   "source": [
    "peak_path_dict = merged_dar_path_dict"
   ]
  },
  {
   "cell_type": "code",
   "execution_count": 385,
   "id": "74265da3-a9be-42f8-a0ff-b7d0d622c830",
   "metadata": {
    "execution": {
     "iopub.execute_input": "2023-01-05T10:59:51.399928Z",
     "iopub.status.busy": "2023-01-05T10:59:51.399250Z",
     "iopub.status.idle": "2023-01-05T10:59:51.418004Z",
     "shell.execute_reply": "2023-01-05T10:59:51.416870Z",
     "shell.execute_reply.started": "2023-01-05T10:59:51.399861Z"
    },
    "tags": []
   },
   "outputs": [
    {
     "data": {
      "text/plain": [
       "True"
      ]
     },
     "execution_count": 385,
     "metadata": {},
     "output_type": "execute_result"
    }
   ],
   "source": [
    "set(regions_df_padded.index) == set(regions_dict_padded.keys()) == set(\n",
    "    bw_path_dict_dict.keys()\n",
    ") == set(peak_path_dict.keys())"
   ]
  },
  {
   "cell_type": "code",
   "execution_count": 386,
   "id": "407ddc94-29cb-4e77-9a34-0cdd85a1b9e8",
   "metadata": {
    "execution": {
     "iopub.execute_input": "2023-01-05T10:59:51.437204Z",
     "iopub.status.busy": "2023-01-05T10:59:51.436576Z",
     "iopub.status.idle": "2023-01-05T10:59:51.454727Z",
     "shell.execute_reply": "2023-01-05T10:59:51.453596Z",
     "shell.execute_reply.started": "2023-01-05T10:59:51.437141Z"
    },
    "tags": []
   },
   "outputs": [
    {
     "data": {
      "text/html": [
       "<div>\n",
       "<style scoped>\n",
       "    .dataframe tbody tr th:only-of-type {\n",
       "        vertical-align: middle;\n",
       "    }\n",
       "\n",
       "    .dataframe tbody tr th {\n",
       "        vertical-align: top;\n",
       "    }\n",
       "\n",
       "    .dataframe thead th {\n",
       "        text-align: right;\n",
       "    }\n",
       "</style>\n",
       "<table border=\"1\" class=\"dataframe\">\n",
       "  <thead>\n",
       "    <tr style=\"text-align: right;\">\n",
       "      <th></th>\n",
       "      <th>chrom</th>\n",
       "      <th>start</th>\n",
       "      <th>end</th>\n",
       "      <th>region_center</th>\n",
       "    </tr>\n",
       "  </thead>\n",
       "  <tbody>\n",
       "    <tr>\n",
       "      <th>B_cell</th>\n",
       "      <td>chr9</td>\n",
       "      <td>105355038</td>\n",
       "      <td>105357038</td>\n",
       "      <td>105356038.0</td>\n",
       "    </tr>\n",
       "    <tr>\n",
       "      <th>CD14_monocyte</th>\n",
       "      <td>chr13</td>\n",
       "      <td>73337608</td>\n",
       "      <td>73339608</td>\n",
       "      <td>73338608.0</td>\n",
       "    </tr>\n",
       "    <tr>\n",
       "      <th>CD16_monocyte</th>\n",
       "      <td>chr2</td>\n",
       "      <td>127013847</td>\n",
       "      <td>127015847</td>\n",
       "      <td>127014847.0</td>\n",
       "    </tr>\n",
       "    <tr>\n",
       "      <th>CD4_T_cell</th>\n",
       "      <td>chr13</td>\n",
       "      <td>26062038</td>\n",
       "      <td>26064038</td>\n",
       "      <td>26063038.0</td>\n",
       "    </tr>\n",
       "    <tr>\n",
       "      <th>Cytotoxic_T_cell</th>\n",
       "      <td>chr21</td>\n",
       "      <td>44828953</td>\n",
       "      <td>44830953</td>\n",
       "      <td>44829953.0</td>\n",
       "    </tr>\n",
       "    <tr>\n",
       "      <th>Dendritic_cell</th>\n",
       "      <td>chr6</td>\n",
       "      <td>72579576</td>\n",
       "      <td>72581576</td>\n",
       "      <td>72580576.0</td>\n",
       "    </tr>\n",
       "    <tr>\n",
       "      <th>Natural_killer_cell</th>\n",
       "      <td>chr6</td>\n",
       "      <td>168967403</td>\n",
       "      <td>168969403</td>\n",
       "      <td>168968403.0</td>\n",
       "    </tr>\n",
       "  </tbody>\n",
       "</table>\n",
       "</div>"
      ],
      "text/plain": [
       "                     chrom      start        end region_center\n",
       "B_cell                chr9  105355038  105357038   105356038.0\n",
       "CD14_monocyte        chr13   73337608   73339608    73338608.0\n",
       "CD16_monocyte         chr2  127013847  127015847   127014847.0\n",
       "CD4_T_cell           chr13   26062038   26064038    26063038.0\n",
       "Cytotoxic_T_cell     chr21   44828953   44830953    44829953.0\n",
       "Dendritic_cell        chr6   72579576   72581576    72580576.0\n",
       "Natural_killer_cell   chr6  168967403  168969403   168968403.0"
      ]
     },
     "execution_count": 386,
     "metadata": {},
     "output_type": "execute_result"
    }
   ],
   "source": [
    "regions_df_padded"
   ]
  },
  {
   "cell_type": "code",
   "execution_count": 387,
   "id": "94bd4843-abf0-4bc3-9064-a51a49923cb7",
   "metadata": {
    "execution": {
     "iopub.execute_input": "2023-01-05T10:59:51.477482Z",
     "iopub.status.busy": "2023-01-05T10:59:51.476864Z",
     "iopub.status.idle": "2023-01-05T10:59:51.501308Z",
     "shell.execute_reply": "2023-01-05T10:59:51.500272Z",
     "shell.execute_reply.started": "2023-01-05T10:59:51.477419Z"
    },
    "tags": []
   },
   "outputs": [],
   "source": [
    "genes_dict = {\n",
    "    \"Cytotoxic_T_cell\": [],\n",
    "    \"CD14_monocyte\": [],\n",
    "    \"B_cell\": [\"EBF1\"],\n",
    "    \"CD16_monocyte\": [],\n",
    "    \"Dendritic_cell\": [],\n",
    "    \"Natural_killer_cell\": [],\n",
    "    \"CD4_T_cell\": [],\n",
    "}\n",
    "max_genes = max([len((genes_dict[key])) for key in genes_dict.keys()])\n",
    "\n",
    "gtf_file = \"/lustre1/project/stg_00090/scatac_benchmark/0_resources/genomes/hg38_cflerin_cellranger_arc/genes.ucsc.gtf\""
   ]
  },
  {
   "cell_type": "code",
   "execution_count": 388,
   "id": "139ba890-3519-42eb-ba8b-2b277e1f1a51",
   "metadata": {
    "execution": {
     "iopub.execute_input": "2023-01-05T10:59:51.541053Z",
     "iopub.status.busy": "2023-01-05T10:59:51.540389Z",
     "iopub.status.idle": "2023-01-05T10:59:51.548820Z",
     "shell.execute_reply": "2023-01-05T10:59:51.547451Z",
     "shell.execute_reply.started": "2023-01-05T10:59:51.540990Z"
    },
    "tags": []
   },
   "outputs": [],
   "source": [
    "plot_genes = False"
   ]
  },
  {
   "cell_type": "code",
   "execution_count": 389,
   "id": "9905977d-0ada-4aff-8243-e9ad814c30ed",
   "metadata": {
    "execution": {
     "iopub.execute_input": "2023-01-05T10:59:51.630116Z",
     "iopub.status.busy": "2023-01-05T10:59:51.629474Z",
     "iopub.status.idle": "2023-01-05T10:59:51.648353Z",
     "shell.execute_reply": "2023-01-05T10:59:51.647245Z",
     "shell.execute_reply.started": "2023-01-05T10:59:51.630055Z"
    },
    "tags": []
   },
   "outputs": [
    {
     "data": {
      "text/html": [
       "<div>\n",
       "<style scoped>\n",
       "    .dataframe tbody tr th:only-of-type {\n",
       "        vertical-align: middle;\n",
       "    }\n",
       "\n",
       "    .dataframe tbody tr th {\n",
       "        vertical-align: top;\n",
       "    }\n",
       "\n",
       "    .dataframe thead th {\n",
       "        text-align: right;\n",
       "    }\n",
       "</style>\n",
       "<table border=\"1\" class=\"dataframe\">\n",
       "  <thead>\n",
       "    <tr style=\"text-align: right;\">\n",
       "      <th></th>\n",
       "      <th>chrom</th>\n",
       "      <th>start</th>\n",
       "      <th>end</th>\n",
       "      <th>region_center</th>\n",
       "    </tr>\n",
       "  </thead>\n",
       "  <tbody>\n",
       "    <tr>\n",
       "      <th>B_cell</th>\n",
       "      <td>chr9</td>\n",
       "      <td>105355038</td>\n",
       "      <td>105357038</td>\n",
       "      <td>105356038.0</td>\n",
       "    </tr>\n",
       "    <tr>\n",
       "      <th>CD14_monocyte</th>\n",
       "      <td>chr13</td>\n",
       "      <td>73337608</td>\n",
       "      <td>73339608</td>\n",
       "      <td>73338608.0</td>\n",
       "    </tr>\n",
       "    <tr>\n",
       "      <th>CD16_monocyte</th>\n",
       "      <td>chr2</td>\n",
       "      <td>127013847</td>\n",
       "      <td>127015847</td>\n",
       "      <td>127014847.0</td>\n",
       "    </tr>\n",
       "    <tr>\n",
       "      <th>CD4_T_cell</th>\n",
       "      <td>chr13</td>\n",
       "      <td>26062038</td>\n",
       "      <td>26064038</td>\n",
       "      <td>26063038.0</td>\n",
       "    </tr>\n",
       "    <tr>\n",
       "      <th>Cytotoxic_T_cell</th>\n",
       "      <td>chr21</td>\n",
       "      <td>44828953</td>\n",
       "      <td>44830953</td>\n",
       "      <td>44829953.0</td>\n",
       "    </tr>\n",
       "    <tr>\n",
       "      <th>Dendritic_cell</th>\n",
       "      <td>chr6</td>\n",
       "      <td>72579576</td>\n",
       "      <td>72581576</td>\n",
       "      <td>72580576.0</td>\n",
       "    </tr>\n",
       "    <tr>\n",
       "      <th>Natural_killer_cell</th>\n",
       "      <td>chr6</td>\n",
       "      <td>168967403</td>\n",
       "      <td>168969403</td>\n",
       "      <td>168968403.0</td>\n",
       "    </tr>\n",
       "  </tbody>\n",
       "</table>\n",
       "</div>"
      ],
      "text/plain": [
       "                     chrom      start        end region_center\n",
       "B_cell                chr9  105355038  105357038   105356038.0\n",
       "CD14_monocyte        chr13   73337608   73339608    73338608.0\n",
       "CD16_monocyte         chr2  127013847  127015847   127014847.0\n",
       "CD4_T_cell           chr13   26062038   26064038    26063038.0\n",
       "Cytotoxic_T_cell     chr21   44828953   44830953    44829953.0\n",
       "Dendritic_cell        chr6   72579576   72581576    72580576.0\n",
       "Natural_killer_cell   chr6  168967403  168969403   168968403.0"
      ]
     },
     "execution_count": 389,
     "metadata": {},
     "output_type": "execute_result"
    }
   ],
   "source": [
    "regions_df_padded"
   ]
  },
  {
   "cell_type": "code",
   "execution_count": 390,
   "id": "786f6fc5-803c-44ad-a7cd-9f3378a1aee3",
   "metadata": {
    "execution": {
     "iopub.execute_input": "2023-01-05T10:59:51.650479Z",
     "iopub.status.busy": "2023-01-05T10:59:51.650067Z",
     "iopub.status.idle": "2023-01-05T10:59:51.664862Z",
     "shell.execute_reply": "2023-01-05T10:59:51.663516Z",
     "shell.execute_reply.started": "2023-01-05T10:59:51.650435Z"
    },
    "tags": []
   },
   "outputs": [
    {
     "data": {
      "text/plain": [
       "[0.2, 7, 0.1]"
      ]
     },
     "execution_count": 390,
     "metadata": {},
     "output_type": "execute_result"
    }
   ],
   "source": [
    "height_ratios"
   ]
  },
  {
   "cell_type": "code",
   "execution_count": 391,
   "id": "47b954cf-4287-4455-a7bc-b07e42729e5c",
   "metadata": {
    "execution": {
     "iopub.execute_input": "2023-01-05T10:59:51.668156Z",
     "iopub.status.busy": "2023-01-05T10:59:51.667600Z",
     "iopub.status.idle": "2023-01-05T11:00:04.456551Z",
     "shell.execute_reply": "2023-01-05T11:00:04.455396Z",
     "shell.execute_reply.started": "2023-01-05T10:59:51.668099Z"
    },
    "tags": []
   },
   "outputs": [
    {
     "name": "stdout",
     "output_type": "stream",
     "text": [
      "drawing column for region B_cell\n",
      "\t10xv1: alias 10x v1\n",
      "\t\tbw: per_tech_harmony_cell_type_bigwigs_nonnorm/master_sub_1.FIXEDCELLS__CONSENSUS_pseudobulk_bw_files_nonnorm/10xv1_B_cell.bw\n",
      "\t10xv11: alias 10x v1.1\n",
      "\t\tbw: per_tech_harmony_cell_type_bigwigs_nonnorm/master_sub_1.FIXEDCELLS__CONSENSUS_pseudobulk_bw_files_nonnorm/10xv11_B_cell.bw\n",
      "\t10xv2: alias 10x v2\n",
      "\t\tbw: per_tech_harmony_cell_type_bigwigs_nonnorm/master_sub_1.FIXEDCELLS__CONSENSUS_pseudobulk_bw_files_nonnorm/10xv2_B_cell.bw\n",
      "\t10xmultiome: alias 10x Multiome\n",
      "\t\tbw: per_tech_harmony_cell_type_bigwigs_nonnorm/master_sub_1.FIXEDCELLS__CONSENSUS_pseudobulk_bw_files_nonnorm/10xmultiome_B_cell.bw\n",
      "\tmtscatac: alias mtscATAC-seq\n",
      "\t\tbw: per_tech_harmony_cell_type_bigwigs_nonnorm/master_sub_1.FIXEDCELLS__CONSENSUS_pseudobulk_bw_files_nonnorm/mtscatac_B_cell.bw\n",
      "\tddseq: alias ddSEQ SureCell\n",
      "\t\tbw: per_tech_harmony_cell_type_bigwigs_nonnorm/master_sub_1.FIXEDCELLS__CONSENSUS_pseudobulk_bw_files_nonnorm/ddseq_B_cell.bw\n",
      "\ts3atac: alias s3-ATAC\n",
      "\t\tbw: per_tech_harmony_cell_type_bigwigs_nonnorm/master_sub_1.FIXEDCELLS__CONSENSUS_pseudobulk_bw_files_nonnorm/s3atac_B_cell.bw\n",
      "\thydrop: alias HyDrop\n",
      "\t\tbw: per_tech_harmony_cell_type_bigwigs_nonnorm/master_sub_1.FIXEDCELLS__CONSENSUS_pseudobulk_bw_files_nonnorm/hydrop_B_cell.bw\n",
      "drawing column for region CD14_monocyte\n",
      "\t10xv1: alias 10x v1\n",
      "\t\tbw: per_tech_harmony_cell_type_bigwigs_nonnorm/master_sub_1.FIXEDCELLS__CONSENSUS_pseudobulk_bw_files_nonnorm/10xv1_CD14_monocyte.bw\n",
      "\t10xv11: alias 10x v1.1\n",
      "\t\tbw: per_tech_harmony_cell_type_bigwigs_nonnorm/master_sub_1.FIXEDCELLS__CONSENSUS_pseudobulk_bw_files_nonnorm/10xv11_CD14_monocyte.bw\n",
      "\t10xv2: alias 10x v2\n",
      "\t\tbw: per_tech_harmony_cell_type_bigwigs_nonnorm/master_sub_1.FIXEDCELLS__CONSENSUS_pseudobulk_bw_files_nonnorm/10xv2_CD14_monocyte.bw\n",
      "\t10xmultiome: alias 10x Multiome\n",
      "\t\tbw: per_tech_harmony_cell_type_bigwigs_nonnorm/master_sub_1.FIXEDCELLS__CONSENSUS_pseudobulk_bw_files_nonnorm/10xmultiome_CD14_monocyte.bw\n",
      "\tmtscatac: alias mtscATAC-seq\n",
      "\t\tbw: per_tech_harmony_cell_type_bigwigs_nonnorm/master_sub_1.FIXEDCELLS__CONSENSUS_pseudobulk_bw_files_nonnorm/mtscatac_CD14_monocyte.bw\n",
      "\tddseq: alias ddSEQ SureCell\n",
      "\t\tbw: per_tech_harmony_cell_type_bigwigs_nonnorm/master_sub_1.FIXEDCELLS__CONSENSUS_pseudobulk_bw_files_nonnorm/ddseq_CD14_monocyte.bw\n",
      "\ts3atac: alias s3-ATAC\n",
      "\t\tbw: per_tech_harmony_cell_type_bigwigs_nonnorm/master_sub_1.FIXEDCELLS__CONSENSUS_pseudobulk_bw_files_nonnorm/s3atac_CD14_monocyte.bw\n",
      "\thydrop: alias HyDrop\n",
      "\t\tbw: per_tech_harmony_cell_type_bigwigs_nonnorm/master_sub_1.FIXEDCELLS__CONSENSUS_pseudobulk_bw_files_nonnorm/hydrop_CD14_monocyte.bw\n",
      "drawing column for region CD4_T_cell\n",
      "\t10xv1: alias 10x v1\n",
      "\t\tbw: per_tech_harmony_cell_type_bigwigs_nonnorm/master_sub_1.FIXEDCELLS__CONSENSUS_pseudobulk_bw_files_nonnorm/10xv1_CD4_T_cell.bw\n",
      "\t10xv11: alias 10x v1.1\n",
      "\t\tbw: per_tech_harmony_cell_type_bigwigs_nonnorm/master_sub_1.FIXEDCELLS__CONSENSUS_pseudobulk_bw_files_nonnorm/10xv11_CD4_T_cell.bw\n",
      "\t10xv2: alias 10x v2\n",
      "\t\tbw: per_tech_harmony_cell_type_bigwigs_nonnorm/master_sub_1.FIXEDCELLS__CONSENSUS_pseudobulk_bw_files_nonnorm/10xv2_CD4_T_cell.bw\n",
      "\t10xmultiome: alias 10x Multiome\n",
      "\t\tbw: per_tech_harmony_cell_type_bigwigs_nonnorm/master_sub_1.FIXEDCELLS__CONSENSUS_pseudobulk_bw_files_nonnorm/10xmultiome_CD4_T_cell.bw\n",
      "\tmtscatac: alias mtscATAC-seq\n",
      "\t\tbw: per_tech_harmony_cell_type_bigwigs_nonnorm/master_sub_1.FIXEDCELLS__CONSENSUS_pseudobulk_bw_files_nonnorm/mtscatac_CD4_T_cell.bw\n",
      "\tddseq: alias ddSEQ SureCell\n",
      "\t\tbw: per_tech_harmony_cell_type_bigwigs_nonnorm/master_sub_1.FIXEDCELLS__CONSENSUS_pseudobulk_bw_files_nonnorm/ddseq_CD4_T_cell.bw\n",
      "\ts3atac: alias s3-ATAC\n",
      "\t\tbw: per_tech_harmony_cell_type_bigwigs_nonnorm/master_sub_1.FIXEDCELLS__CONSENSUS_pseudobulk_bw_files_nonnorm/s3atac_CD4_T_cell.bw\n",
      "\thydrop: alias HyDrop\n",
      "\t\tbw: per_tech_harmony_cell_type_bigwigs_nonnorm/master_sub_1.FIXEDCELLS__CONSENSUS_pseudobulk_bw_files_nonnorm/hydrop_CD4_T_cell.bw\n",
      "drawing column for region Cytotoxic_T_cell\n",
      "\t10xv1: alias 10x v1\n",
      "\t\tbw: per_tech_harmony_cell_type_bigwigs_nonnorm/master_sub_1.FIXEDCELLS__CONSENSUS_pseudobulk_bw_files_nonnorm/10xv1_Cytotoxic_T_cell.bw\n",
      "\t10xv11: alias 10x v1.1\n",
      "\t\tbw: per_tech_harmony_cell_type_bigwigs_nonnorm/master_sub_1.FIXEDCELLS__CONSENSUS_pseudobulk_bw_files_nonnorm/10xv11_Cytotoxic_T_cell.bw\n",
      "\t10xv2: alias 10x v2\n",
      "\t\tbw: per_tech_harmony_cell_type_bigwigs_nonnorm/master_sub_1.FIXEDCELLS__CONSENSUS_pseudobulk_bw_files_nonnorm/10xv2_Cytotoxic_T_cell.bw\n",
      "\t10xmultiome: alias 10x Multiome\n",
      "\t\tbw: per_tech_harmony_cell_type_bigwigs_nonnorm/master_sub_1.FIXEDCELLS__CONSENSUS_pseudobulk_bw_files_nonnorm/10xmultiome_Cytotoxic_T_cell.bw\n",
      "\tmtscatac: alias mtscATAC-seq\n",
      "\t\tbw: per_tech_harmony_cell_type_bigwigs_nonnorm/master_sub_1.FIXEDCELLS__CONSENSUS_pseudobulk_bw_files_nonnorm/mtscatac_Cytotoxic_T_cell.bw\n",
      "\tddseq: alias ddSEQ SureCell\n",
      "\t\tbw: per_tech_harmony_cell_type_bigwigs_nonnorm/master_sub_1.FIXEDCELLS__CONSENSUS_pseudobulk_bw_files_nonnorm/ddseq_Cytotoxic_T_cell.bw\n",
      "\ts3atac: alias s3-ATAC\n",
      "\t\tbw: per_tech_harmony_cell_type_bigwigs_nonnorm/master_sub_1.FIXEDCELLS__CONSENSUS_pseudobulk_bw_files_nonnorm/s3atac_Cytotoxic_T_cell.bw\n",
      "\thydrop: alias HyDrop\n",
      "\t\tbw: per_tech_harmony_cell_type_bigwigs_nonnorm/master_sub_1.FIXEDCELLS__CONSENSUS_pseudobulk_bw_files_nonnorm/hydrop_Cytotoxic_T_cell.bw\n",
      "drawing column for region Dendritic_cell\n",
      "\t10xv1: alias 10x v1\n",
      "\t\tbw: per_tech_harmony_cell_type_bigwigs_nonnorm/master_sub_1.FIXEDCELLS__CONSENSUS_pseudobulk_bw_files_nonnorm/10xv1_Dendritic_cell.bw\n",
      "\t10xv11: alias 10x v1.1\n",
      "\t\tbw: per_tech_harmony_cell_type_bigwigs_nonnorm/master_sub_1.FIXEDCELLS__CONSENSUS_pseudobulk_bw_files_nonnorm/10xv11_Dendritic_cell.bw\n",
      "\t10xv2: alias 10x v2\n",
      "\t\tbw: per_tech_harmony_cell_type_bigwigs_nonnorm/master_sub_1.FIXEDCELLS__CONSENSUS_pseudobulk_bw_files_nonnorm/10xv2_Dendritic_cell.bw\n",
      "\t10xmultiome: alias 10x Multiome\n",
      "\t\tbw: per_tech_harmony_cell_type_bigwigs_nonnorm/master_sub_1.FIXEDCELLS__CONSENSUS_pseudobulk_bw_files_nonnorm/10xmultiome_Dendritic_cell.bw\n",
      "\tmtscatac: alias mtscATAC-seq\n",
      "\t\tbw: per_tech_harmony_cell_type_bigwigs_nonnorm/master_sub_1.FIXEDCELLS__CONSENSUS_pseudobulk_bw_files_nonnorm/mtscatac_Dendritic_cell.bw\n",
      "\tddseq: alias ddSEQ SureCell\n",
      "\t\tbw: per_tech_harmony_cell_type_bigwigs_nonnorm/master_sub_1.FIXEDCELLS__CONSENSUS_pseudobulk_bw_files_nonnorm/ddseq_Dendritic_cell.bw\n",
      "\ts3atac: alias s3-ATAC\n",
      "\t\tbw: per_tech_harmony_cell_type_bigwigs_nonnorm/master_sub_1.FIXEDCELLS__CONSENSUS_pseudobulk_bw_files_nonnorm/s3atac_Dendritic_cell.bw\n",
      "\thydrop: alias HyDrop\n",
      "\t\tbw: per_tech_harmony_cell_type_bigwigs_nonnorm/master_sub_1.FIXEDCELLS__CONSENSUS_pseudobulk_bw_files_nonnorm/hydrop_Dendritic_cell.bw\n",
      "drawing column for region Natural_killer_cell\n",
      "\t10xv1: alias 10x v1\n",
      "\t\tbw: per_tech_harmony_cell_type_bigwigs_nonnorm/master_sub_1.FIXEDCELLS__CONSENSUS_pseudobulk_bw_files_nonnorm/10xv1_Natural_killer_cell.bw\n",
      "\t10xv11: alias 10x v1.1\n",
      "\t\tbw: per_tech_harmony_cell_type_bigwigs_nonnorm/master_sub_1.FIXEDCELLS__CONSENSUS_pseudobulk_bw_files_nonnorm/10xv11_Natural_killer_cell.bw\n",
      "\t10xv2: alias 10x v2\n",
      "\t\tbw: per_tech_harmony_cell_type_bigwigs_nonnorm/master_sub_1.FIXEDCELLS__CONSENSUS_pseudobulk_bw_files_nonnorm/10xv2_Natural_killer_cell.bw\n",
      "\t10xmultiome: alias 10x Multiome\n",
      "\t\tbw: per_tech_harmony_cell_type_bigwigs_nonnorm/master_sub_1.FIXEDCELLS__CONSENSUS_pseudobulk_bw_files_nonnorm/10xmultiome_Natural_killer_cell.bw\n",
      "\tmtscatac: alias mtscATAC-seq\n",
      "\t\tbw: per_tech_harmony_cell_type_bigwigs_nonnorm/master_sub_1.FIXEDCELLS__CONSENSUS_pseudobulk_bw_files_nonnorm/mtscatac_Natural_killer_cell.bw\n",
      "\tddseq: alias ddSEQ SureCell\n",
      "\t\tbw: per_tech_harmony_cell_type_bigwigs_nonnorm/master_sub_1.FIXEDCELLS__CONSENSUS_pseudobulk_bw_files_nonnorm/ddseq_Natural_killer_cell.bw\n",
      "\ts3atac: alias s3-ATAC\n",
      "\t\tbw: per_tech_harmony_cell_type_bigwigs_nonnorm/master_sub_1.FIXEDCELLS__CONSENSUS_pseudobulk_bw_files_nonnorm/s3atac_Natural_killer_cell.bw\n",
      "\thydrop: alias HyDrop\n",
      "\t\tbw: per_tech_harmony_cell_type_bigwigs_nonnorm/master_sub_1.FIXEDCELLS__CONSENSUS_pseudobulk_bw_files_nonnorm/hydrop_Natural_killer_cell.bw\n",
      "drawing column for region CD16_monocyte\n",
      "\t10xv1: alias 10x v1\n",
      "\t\tbw: per_tech_harmony_cell_type_bigwigs_nonnorm/master_sub_1.FIXEDCELLS__CONSENSUS_pseudobulk_bw_files_nonnorm/10xv1_CD16_monocyte.bw\n",
      "\t10xv11: alias 10x v1.1\n",
      "\t\tbw: per_tech_harmony_cell_type_bigwigs_nonnorm/master_sub_1.FIXEDCELLS__CONSENSUS_pseudobulk_bw_files_nonnorm/10xv11_CD16_monocyte.bw\n",
      "\t10xv2: alias 10x v2\n",
      "\t\tbw: per_tech_harmony_cell_type_bigwigs_nonnorm/master_sub_1.FIXEDCELLS__CONSENSUS_pseudobulk_bw_files_nonnorm/10xv2_CD16_monocyte.bw\n",
      "\t10xmultiome: alias 10x Multiome\n",
      "\t\tbw: per_tech_harmony_cell_type_bigwigs_nonnorm/master_sub_1.FIXEDCELLS__CONSENSUS_pseudobulk_bw_files_nonnorm/10xmultiome_CD16_monocyte.bw\n",
      "\tmtscatac: alias mtscATAC-seq\n",
      "\t\tbw: per_tech_harmony_cell_type_bigwigs_nonnorm/master_sub_1.FIXEDCELLS__CONSENSUS_pseudobulk_bw_files_nonnorm/mtscatac_CD16_monocyte.bw\n",
      "\tddseq: alias ddSEQ SureCell\n",
      "\t\tbw: per_tech_harmony_cell_type_bigwigs_nonnorm/master_sub_1.FIXEDCELLS__CONSENSUS_pseudobulk_bw_files_nonnorm/ddseq_CD16_monocyte.bw\n",
      "\ts3atac: alias s3-ATAC\n",
      "\t\tbw: per_tech_harmony_cell_type_bigwigs_nonnorm/master_sub_1.FIXEDCELLS__CONSENSUS_pseudobulk_bw_files_nonnorm/s3atac_CD16_monocyte.bw\n",
      "\thydrop: alias HyDrop\n",
      "\t\tbw: per_tech_harmony_cell_type_bigwigs_nonnorm/master_sub_1.FIXEDCELLS__CONSENSUS_pseudobulk_bw_files_nonnorm/hydrop_CD16_monocyte.bw\n"
     ]
    },
    {
     "data": {
      "image/png": "[encoded data removed]",
      "text/plain": [
       "<Figure size 432x576 with 112 Axes>"
      ]
     },
     "execution_count": 391,
     "metadata": {},
     "output_type": "execute_result"
    },
    {
     "data": {
      "image/png": "[encoded data removed]",
      "text/plain": [
       "<Figure size 432x576 with 112 Axes>"
      ]
     },
     "metadata": {},
     "output_type": "display_data"
    }
   ],
   "source": [
    "## create the gridspec\n",
    "fig = plt.figure(figsize=figsize, facecolor=\"white\")\n",
    "\n",
    "# define ratios between all elements in the graphic\n",
    "height_ratios = [0.2]  # for gtf\n",
    "height_ratios.append(len(bw_path_dict_dict))  # for bws\n",
    "height_ratios.append(0.1)  # for text box\n",
    "\n",
    "# create a global frame for the 3 modalities shown (bigwigs, gtf, and text)\n",
    "frame = gridspec.GridSpec(3, 1, wspace=0.25, hspace=0.17, height_ratios=height_ratios)\n",
    "\n",
    "# create a gridspec for each modality within the frame\n",
    "n_cols = len(regions_dict)\n",
    "n_rows = len(tech_order)\n",
    "\n",
    "text_grid = gridspec.GridSpecFromSubplotSpec(\n",
    "    1, n_cols, wspace=0.2, hspace=0, subplot_spec=frame[0, 0]\n",
    ")\n",
    "bw_dar_grid = gridspec.GridSpecFromSubplotSpec(\n",
    "    n_rows, n_cols, wspace=0.2, hspace=-0.6, subplot_spec=frame[1, 0]\n",
    ")\n",
    "gtf_grid = gridspec.GridSpecFromSubplotSpec(\n",
    "    max_genes, n_cols, wspace=0.2, hspace=0, subplot_spec=frame[2, 0]\n",
    ")\n",
    "\n",
    "## iterate over all regions (=columns in final figure)\n",
    "for region_name in cell_type_order:\n",
    "    if verbose == True:\n",
    "        print(f\"drawing column for region {region_name}\")\n",
    "    region_index = cell_type_order.index(\n",
    "        region_name\n",
    "    )  # get the region index for column indexing\n",
    "\n",
    "    # the genome coordinates over which we will be plotting:\n",
    "    chrom = regions_df_padded.loc[region_name][\"chrom\"]\n",
    "    start = int(regions_df_padded.loc[region_name][\"start\"])\n",
    "    end = int(regions_df_padded.loc[region_name][\"end\"])\n",
    "    x = np.array(range(start, end, 1))\n",
    "\n",
    "    # set ymax according to region\n",
    "    # bw_ymax = region_max_dict[region_name]\n",
    "\n",
    "    # you can also set global ymax:\n",
    "    bw_ymax = region_max_dict_padded[\n",
    "        max(region_max_dict_padded, key=region_max_dict_padded.get)\n",
    "    ]\n",
    "\n",
    "    ## iterate over all bigwigs (=rows in final figure)\n",
    "    for key in tech_order:\n",
    "        if verbose == True:\n",
    "            print(f\"\\t{key}: alias {tech_alias_dict[key]}\")\n",
    "\n",
    "        bw_index = tech_order.index(key)  # get the bw index for row indexing\n",
    "\n",
    "        # create a new gridspec for bw + dar\n",
    "        if \"regions_dict_padded\" in locals() or \"peak_path_dict\" in locals():\n",
    "            bw_dar_subgrid = gridspec.GridSpecFromSubplotSpec(\n",
    "                2,\n",
    "                1,\n",
    "                wspace=0.05,\n",
    "                hspace=0,\n",
    "                subplot_spec=bw_dar_grid[bw_index, region_index],\n",
    "                height_ratios=[20, 0.5],\n",
    "            )\n",
    "        else:\n",
    "            bw_dar_subgrid = gridspec.GridSpecFromSubplotSpec(\n",
    "                1,\n",
    "                1,\n",
    "                wspace=0.05,\n",
    "                hspace=0.2,\n",
    "                subplot_spec=bw_dar_grid[bw_index, region_index],\n",
    "            )\n",
    "\n",
    "        # open the bigwig\n",
    "        bw_file = bw_path_dict_dict[region_name][key]\n",
    "        if verbose == True:\n",
    "            print(f\"\\t\\tbw: {bw_file}\")\n",
    "\n",
    "        bw = pyBigWig.open(bw_file)\n",
    "        y = bw.values(chrom, start, end)\n",
    "        y = np.nan_to_num(y)\n",
    "\n",
    "        # now plot the bigwig in the gridspec\n",
    "        ax = plt.Subplot(fig, bw_dar_subgrid[0, 0])\n",
    "        ax.fill_between(\n",
    "            x, y1=y, y2=0, step=\"mid\", linewidth=0, color=tech_color_palette[key]\n",
    "        )\n",
    "        ax.patch.set_alpha(0)\n",
    "\n",
    "        # figure settings\n",
    "        ax.set_xlim([x.min(), x.max()])\n",
    "        ax.set_ylim([0, bw_ymax])\n",
    "        ax.set_xticks([])\n",
    "        ax.set_yticks([])\n",
    "\n",
    "        # add a ylabel only if it's the last column\n",
    "        if region_name == cell_type_order[-1]:\n",
    "            ax.yaxis.set_label_position(\"right\")\n",
    "            ax.set_ylabel(\n",
    "                tech_alias_dict[key],\n",
    "                rotation=0,\n",
    "                horizontalalignment=\"left\",\n",
    "                verticalalignment=\"bottom\",\n",
    "                color=tech_color_palette[key],\n",
    "            )\n",
    "            ax.yaxis.set_label_coords(1.05, 0.05)\n",
    "\n",
    "        # add a title only if it's the first row\n",
    "        if tech_order.index(key) == 0:\n",
    "            region = regions_dict_padded[region_name]\n",
    "            length = round((end - start) / 1000)\n",
    "            label = f\"{cell_type_alias_dict[region_name]}\"\n",
    "\n",
    "            ax.set_title(label, fontsize=8, y=0.45)\n",
    "\n",
    "        sns.despine(top=True, right=True, left=True, bottom=False, ax=ax)\n",
    "        for spine in ax.spines.values():\n",
    "            spine.set_edgecolor(tech_color_palette[key])\n",
    "\n",
    "        # add to the fig\n",
    "        fig.add_subplot(ax, transparent=True)\n",
    "\n",
    "        # first draw peaks if they are defined\n",
    "        if \"peak_path_dict\" in locals():\n",
    "            # get peaks that overlap the region to be plotted\n",
    "            peak = BedTool(peak_path_dict[region_name])\n",
    "            peak_region_intersection = peak.intersect(\n",
    "                BedTool.from_dataframe(df=regions_df_padded), wa=True, wb=True\n",
    "            )\n",
    "            peak_region_intersection = peak_region_intersection.to_dataframe(\n",
    "                header=None\n",
    "            )\n",
    "            peak_region_intersection = peak_region_intersection.iloc[:, :4]\n",
    "            peak_region_intersection.columns = \"chr start end name\".split()\n",
    "\n",
    "            # now plot the dars in the gridspec\n",
    "            ax = plt.Subplot(fig, bw_dar_subgrid[1, 0])\n",
    "            for element in peak_region_intersection.index:\n",
    "                part = peak_region_intersection.loc[element]\n",
    "                peak_start = part[\"start\"]\n",
    "                peak_end = part[\"end\"]\n",
    "\n",
    "                # plot a thin line, with beginning and ending as x coordinates, and bw_ymin as y coordinates\n",
    "                # NOTE: linewidth won't do much here, it is more determined by the 'space' you give to this part of the plot in height_ratios!\n",
    "                ax.plot([peak_start, peak_end], [0, 0], linewidth=4, c=peak_color)\n",
    "\n",
    "            # figure settings\n",
    "            ax.set_ylim([-1, +1])\n",
    "            addax()\n",
    "\n",
    "        # then draw dars if they are defined\n",
    "        if \"regions_path_dict\" in locals():\n",
    "            # get DARs that overlap the region to be plotted\n",
    "            dar = BedTool(regions_path_dict[region_name])\n",
    "            if verbose == True:\n",
    "                print(f\"\\t\\tdar: {regions_path_dict[region_name]}\")\n",
    "\n",
    "            dar_region_intersection = dar.intersect(\n",
    "                BedTool.from_dataframe(df=regions_df_padded), wa=True, wb=True\n",
    "            )\n",
    "            dar_region_intersection = dar_region_intersection.to_dataframe(header=None)\n",
    "            dar_region_intersection = dar_region_intersection.iloc[:, :4]\n",
    "            dar_region_intersection.columns = \"chr start end name\".split()\n",
    "\n",
    "            # now plot the dars in the gridspec\n",
    "            ax = plt.Subplot(fig, bw_dar_subgrid[1, 0])\n",
    "            for element in dar_region_intersection.index:\n",
    "                part = dar_region_intersection.loc[element]\n",
    "                dar_start = part[\"start\"]\n",
    "                dar_end = part[\"end\"]\n",
    "\n",
    "                # plot a thin line, with beginning and ending as x coordinates, and bw_ymin as y coordinates\n",
    "                # NOTE: linewidth won't do much here, it is more determined by the 'space' you give to this part of the plot in height_ratios!\n",
    "                ax.plot([dar_start, dar_end], [0, 0], linewidth=4, c=dar_color)\n",
    "\n",
    "            # figure settings\n",
    "            ax.set_ylim([-1, +1])\n",
    "            addax()\n",
    "\n",
    "    ## draw the genes of interest, from our gtf\n",
    "    # intersect genes gtf with the region of interest\n",
    "    if plot_genes == True:\n",
    "        gtf = BedTool(gtf_file)\n",
    "        gtf_region_intersection = gtf.intersect(\n",
    "            BedTool.from_dataframe(df=regions_df_padded), wa=True, wb=True\n",
    "        )\n",
    "        gtf_region_intersection = gtf_region_intersection.to_dataframe(header=None)\n",
    "        gtf_region_intersection = gtf_region_intersection.iloc[:, :9]\n",
    "        gtf_region_intersection.columns = (\n",
    "            \"chr db feature start end score strand frame attribute\".split()\n",
    "        )\n",
    "\n",
    "        ## iterate over all genes of interest in genes_dict\n",
    "        for gene in genes_dict[region_name]:\n",
    "            gene_index = genes_dict[region_name].index(\n",
    "                gene\n",
    "            )  # get gene index for row indexing\n",
    "\n",
    "            # get gtf intersection with only gene body and exons of this particular gene\n",
    "            gtf_region_intersection_gene = gtf_region_intersection[\n",
    "                gtf_region_intersection[\"attribute\"].str.contains(gene)\n",
    "            ]\n",
    "            gtf_region_intersection_gene = gtf_region_intersection_gene[\n",
    "                gtf_region_intersection_gene[\"feature\"].str.contains(\"gene|exon\")\n",
    "            ]\n",
    "\n",
    "            # now plot the gene parts (gene body and gene exon)\n",
    "            ax = plt.Subplot(fig, gtf_grid[gene_index, region_index])\n",
    "\n",
    "            # iterate over all parts to plot them\n",
    "            for element in gtf_region_intersection_gene.index:\n",
    "                part = gtf_region_intersection_gene.loc[element]\n",
    "\n",
    "                # make exons thick\n",
    "                if part[\"feature\"] == \"exon\":\n",
    "                    exon_start = part[\"start\"]\n",
    "                    exon_end = part[\"end\"]\n",
    "                    # draw rectangle for exon\n",
    "                    rect = mpatches.Rectangle(\n",
    "                        (exon_start, exon_bottom),\n",
    "                        exon_end - exon_start,\n",
    "                        exon_height,\n",
    "                        fill=True,\n",
    "                        color=\"k\",\n",
    "                        linewidth=0,\n",
    "                    )\n",
    "                    ax.add_patch(rect)\n",
    "\n",
    "                # make the gene body a thin line, drawn at the end so it will always display on top\n",
    "                elif part[\"feature\"] == \"gene\":\n",
    "                    gene_start = part[\"start\"]\n",
    "                    gene_end = part[\"end\"]\n",
    "                    rect = mpatches.Rectangle(\n",
    "                        (gene_start, gene_bottom),\n",
    "                        gene_end - gene_start,\n",
    "                        gene_height,\n",
    "                        fill=True,\n",
    "                        color=\"k\",\n",
    "                        linewidth=0,\n",
    "                    )\n",
    "                    ax.add_patch(rect)\n",
    "\n",
    "        if verbose == True:\n",
    "            print(\n",
    "                f\"\\tfor region {region_name}, drew gene {gene}, {len(gtf_region_intersection_gene.index)} individual items drawn\\n\"\n",
    "            )\n",
    "\n",
    "        # figure settings\n",
    "        ax.set_ylim([exon_bottom, -exon_bottom])\n",
    "        ax.set_xlabel(gene, fontsize=10)\n",
    "        addax()\n",
    "\n",
    "fig.savefig(\n",
    "    \"plts_track/dar_best_track__per_tech_harmony_cell_type_bigwigs_nonnorm.png\",\n",
    "    dpi=350,\n",
    "    bbox_inches=\"tight\",\n",
    "    pad_inches=0,\n",
    "    transparent=False,\n",
    "    facecolor=\"white\",\n",
    ")\n",
    "fig.savefig(\n",
    "    \"plts_track/dar_best_track__per_tech_harmony_cell_type_bigwigs_nonnorm.svg\",\n",
    "    dpi=350,\n",
    "    bbox_inches=\"tight\",\n",
    "    pad_inches=0,\n",
    "    transparent=False,\n",
    "    facecolor=\"white\",\n",
    ")\n",
    "\n",
    "fig"
   ]
  },
  {
   "cell_type": "code",
   "execution_count": 392,
   "id": "341afd35-e253-4e6d-b179-0f23c914c38a",
   "metadata": {
    "execution": {
     "iopub.execute_input": "2023-01-05T11:00:04.458017Z",
     "iopub.status.busy": "2023-01-05T11:00:04.457805Z",
     "iopub.status.idle": "2023-01-05T11:00:04.463850Z",
     "shell.execute_reply": "2023-01-05T11:00:04.463108Z",
     "shell.execute_reply.started": "2023-01-05T11:00:04.457995Z"
    },
    "tags": []
   },
   "outputs": [
    {
     "data": {
      "text/plain": [
       "{'10xv1': 'per_tech_harmony_cell_type_bigwigs_nonnorm/master_sub_1.FIXEDCELLS__CONSENSUS_pseudobulk_bw_files_nonnorm/10xv1_CD16_monocyte.bw',\n",
       " 'mtscatac': 'per_tech_harmony_cell_type_bigwigs_nonnorm/master_sub_1.FIXEDCELLS__CONSENSUS_pseudobulk_bw_files_nonnorm/mtscatac_CD16_monocyte.bw',\n",
       " 'hydrop': 'per_tech_harmony_cell_type_bigwigs_nonnorm/master_sub_1.FIXEDCELLS__CONSENSUS_pseudobulk_bw_files_nonnorm/hydrop_CD16_monocyte.bw',\n",
       " '10xmultiome': 'per_tech_harmony_cell_type_bigwigs_nonnorm/master_sub_1.FIXEDCELLS__CONSENSUS_pseudobulk_bw_files_nonnorm/10xmultiome_CD16_monocyte.bw',\n",
       " 's3atac': 'per_tech_harmony_cell_type_bigwigs_nonnorm/master_sub_1.FIXEDCELLS__CONSENSUS_pseudobulk_bw_files_nonnorm/s3atac_CD16_monocyte.bw',\n",
       " '10xv2': 'per_tech_harmony_cell_type_bigwigs_nonnorm/master_sub_1.FIXEDCELLS__CONSENSUS_pseudobulk_bw_files_nonnorm/10xv2_CD16_monocyte.bw',\n",
       " 'ddseq': 'per_tech_harmony_cell_type_bigwigs_nonnorm/master_sub_1.FIXEDCELLS__CONSENSUS_pseudobulk_bw_files_nonnorm/ddseq_CD16_monocyte.bw',\n",
       " '10xv11': 'per_tech_harmony_cell_type_bigwigs_nonnorm/master_sub_1.FIXEDCELLS__CONSENSUS_pseudobulk_bw_files_nonnorm/10xv11_CD16_monocyte.bw'}"
      ]
     },
     "execution_count": 392,
     "metadata": {},
     "output_type": "execute_result"
    }
   ],
   "source": [
    "bw_path_dict_dict[region_name]"
   ]
  },
  {
   "cell_type": "code",
   "execution_count": 393,
   "id": "88a501de-be36-4fda-b2f8-000cf8bfe369",
   "metadata": {
    "execution": {
     "iopub.execute_input": "2023-01-05T11:00:04.464850Z",
     "iopub.status.busy": "2023-01-05T11:00:04.464662Z",
     "iopub.status.idle": "2023-01-05T11:00:04.474181Z",
     "shell.execute_reply": "2023-01-05T11:00:04.473465Z",
     "shell.execute_reply.started": "2023-01-05T11:00:04.464831Z"
    },
    "tags": []
   },
   "outputs": [
    {
     "data": {
      "text/plain": [
       "['B_cell',\n",
       " 'CD14_monocyte',\n",
       " 'CD4_T_cell',\n",
       " 'Cytotoxic_T_cell',\n",
       " 'Dendritic_cell',\n",
       " 'Natural_killer_cell',\n",
       " 'CD16_monocyte']"
      ]
     },
     "execution_count": 393,
     "metadata": {},
     "output_type": "execute_result"
    }
   ],
   "source": [
    "cell_type_order"
   ]
  },
  {
   "cell_type": "code",
   "execution_count": null,
   "id": "3affd4d9-6f03-4b08-b4bd-6b116dd37406",
   "metadata": {},
   "outputs": [],
   "source": []
  },
  {
   "cell_type": "code",
   "execution_count": null,
   "id": "2e78d611-1dc4-45ef-b4c6-11a5bc45c5f6",
   "metadata": {},
   "outputs": [],
   "source": []
  },
  {
   "cell_type": "code",
   "execution_count": null,
   "id": "f86bf342-aace-49f7-b579-dfa0f41affad",
   "metadata": {},
   "outputs": [],
   "source": []
  },
  {
   "cell_type": "code",
   "execution_count": null,
   "id": "ef86cf3b-38bb-4b2c-bf5c-17529abe6ee3",
   "metadata": {},
   "outputs": [],
   "source": []
  },
  {
   "cell_type": "code",
   "execution_count": null,
   "id": "5fed030f-2687-4fbf-8feb-1f8b719066d9",
   "metadata": {},
   "outputs": [],
   "source": []
  },
  {
   "cell_type": "code",
   "execution_count": null,
   "id": "fbe65f8f-486d-408d-835e-aa7d618a9cbf",
   "metadata": {},
   "outputs": [],
   "source": []
  },
  {
   "cell_type": "code",
   "execution_count": null,
   "id": "9e542cd5-c1de-412c-a091-23a6df9a734c",
   "metadata": {},
   "outputs": [],
   "source": []
  },
  {
   "cell_type": "code",
   "execution_count": null,
   "id": "2fb84df5-98fe-4460-ba5e-0e37495b2124",
   "metadata": {},
   "outputs": [],
   "source": []
  },
  {
   "cell_type": "code",
   "execution_count": null,
   "id": "3f025ae5-f6ec-4ff6-b0ee-35c07c998779",
   "metadata": {},
   "outputs": [],
   "source": []
  },
  {
   "cell_type": "code",
   "execution_count": null,
   "id": "5eaf00b5-bde4-4d3f-893c-ad2da21ab7db",
   "metadata": {},
   "outputs": [],
   "source": []
  },
  {
   "cell_type": "code",
   "execution_count": null,
   "id": "7a81ea43-8b4d-4c79-95d3-c22cf8bd5a70",
   "metadata": {},
   "outputs": [],
   "source": []
  },
  {
   "cell_type": "code",
   "execution_count": null,
   "id": "5c2ad9b8-007b-46c2-b42b-34874caf8e1a",
   "metadata": {},
   "outputs": [],
   "source": []
  }
 ],
 "metadata": {
  "kernelspec": {
   "display_name": "Python 3 (ipykernel)",
   "language": "python",
   "name": "python3"
  },
  "language_info": {
   "codemirror_mode": {
    "name": "ipython",
    "version": 3
   },
   "file_extension": ".py",
   "mimetype": "text/x-python",
   "name": "python",
   "nbconvert_exporter": "python",
   "pygments_lexer": "ipython3",
   "version": "3.7.7"
  }
 },
 "nbformat": 4,
 "nbformat_minor": 5
}

{
 "cells": [
  {
   "cell_type": "markdown",
   "metadata": {},
   "source": [
    "# write looms from ctos"
   ]
  },
  {
   "cell_type": "code",
   "execution_count": 30,
   "metadata": {
    "execution": {
     "iopub.execute_input": "2022-12-22T13:03:13.312277Z",
     "iopub.status.busy": "2022-12-22T13:03:13.310909Z",
     "iopub.status.idle": "2022-12-22T13:03:13.327454Z",
     "shell.execute_reply": "2022-12-22T13:03:13.325772Z",
     "shell.execute_reply.started": "2022-12-22T13:03:13.312209Z"
    },
    "papermill": {
     "duration": null,
     "end_time": null,
     "exception": null,
     "start_time": null,
     "status": "pending"
    },
    "pycharm": {
     "name": "#%%\n"
    },
    "tags": []
   },
   "outputs": [
    {
     "name": "stdout",
     "output_type": "stream",
     "text": [
      "The lab_black extension is already loaded. To reload it, use:\n",
      "  %reload_ext lab_black\n"
     ]
    }
   ],
   "source": [
    "import loompy as lp\n",
    "import glob\n",
    "import os\n",
    "import pickle\n",
    "import matplotlib.pyplot as plt\n",
    "\n",
    "%load_ext lab_black"
   ]
  },
  {
   "cell_type": "code",
   "execution_count": 31,
   "metadata": {
    "execution": {
     "iopub.execute_input": "2022-12-22T13:03:13.660936Z",
     "iopub.status.busy": "2022-12-22T13:03:13.659969Z",
     "iopub.status.idle": "2022-12-22T13:03:13.679265Z",
     "shell.execute_reply": "2022-12-22T13:03:13.677748Z",
     "shell.execute_reply.started": "2022-12-22T13:03:13.660874Z"
    },
    "tags": []
   },
   "outputs": [
    {
     "data": {
      "text/plain": [
       "{'master_sub_1.FIXEDCELLS': 'cistopic_objects/master_sub_1.FIXEDCELLS__cto.scrublet0-4.fmx.singlets.model_20topics.pkl'}"
      ]
     },
     "execution_count": 31,
     "metadata": {},
     "output_type": "execute_result"
    }
   ],
   "source": [
    "cto_path_dict = {\n",
    "    x.split(\"/\")[-1].split(\"__\")[0]: x\n",
    "    for x in sorted(glob.glob(\"cistopic_objects/*topics.pkl\"))\n",
    "}\n",
    "cto_path_dict"
   ]
  },
  {
   "cell_type": "code",
   "execution_count": 32,
   "metadata": {
    "execution": {
     "iopub.execute_input": "2022-12-22T13:03:13.682691Z",
     "iopub.status.busy": "2022-12-22T13:03:13.682068Z",
     "iopub.status.idle": "2022-12-22T13:03:13.692503Z",
     "shell.execute_reply": "2022-12-22T13:03:13.691117Z",
     "shell.execute_reply.started": "2022-12-22T13:03:13.682648Z"
    },
    "papermill": {
     "duration": null,
     "end_time": null,
     "exception": null,
     "start_time": null,
     "status": "pending"
    },
    "pycharm": {
     "name": "#%%\n"
    },
    "tags": []
   },
   "outputs": [],
   "source": [
    "loom_out = \"cell_region_looms\"\n",
    "if not os.path.exists(os.path.join(loom_out)):\n",
    "    os.makedirs(os.path.join(loom_out))"
   ]
  },
  {
   "cell_type": "code",
   "execution_count": 33,
   "metadata": {
    "execution": {
     "iopub.execute_input": "2022-12-22T13:03:13.780965Z",
     "iopub.status.busy": "2022-12-22T13:03:13.780008Z",
     "iopub.status.idle": "2022-12-22T13:03:13.803356Z",
     "shell.execute_reply": "2022-12-22T13:03:13.801761Z",
     "shell.execute_reply.started": "2022-12-22T13:03:13.780905Z"
    },
    "papermill": {
     "duration": null,
     "end_time": null,
     "exception": null,
     "start_time": null,
     "status": "pending"
    },
    "pycharm": {
     "name": "#%%\n"
    },
    "tags": []
   },
   "outputs": [
    {
     "name": "stdout",
     "output_type": "stream",
     "text": [
      "Checking if cell_region_looms/master_sub_1.FIXEDCELLS__cto.scrublet0-4.fmx.singlets.model_20topics.loom exist...\n",
      "\tcell_region_looms/master_sub_1.FIXEDCELLS__cto.scrublet0-4.fmx.singlets.model_20topics.loom exists! Skipping...\n"
     ]
    }
   ],
   "source": [
    "cto_path_sub_dict = {}\n",
    "for sample in cto_path_dict.keys():\n",
    "    cto_path = cto_path_dict[sample]\n",
    "    loom_path = os.path.join(loom_out, cto_path.split(\"/\")[-1].replace(\".pkl\", \".loom\"))\n",
    "    print(f\"Checking if {loom_path} exist...\")\n",
    "    if os.path.exists(loom_path):\n",
    "        print(f\"\\t{loom_path} exists! Skipping...\")\n",
    "    else:\n",
    "        print(f\"\\t{loom_path} does not exist, adding to subdict to generate\")\n",
    "        cto_path_sub_dict[sample] = cto_path_dict[sample]"
   ]
  },
  {
   "cell_type": "code",
   "execution_count": 34,
   "metadata": {
    "execution": {
     "iopub.execute_input": "2022-12-22T13:03:15.163430Z",
     "iopub.status.busy": "2022-12-22T13:03:15.162508Z",
     "iopub.status.idle": "2022-12-22T13:03:15.191722Z",
     "shell.execute_reply": "2022-12-22T13:03:15.190118Z",
     "shell.execute_reply.started": "2022-12-22T13:03:15.163368Z"
    },
    "papermill": {
     "duration": null,
     "end_time": null,
     "exception": null,
     "start_time": null,
     "status": "pending"
    },
    "pycharm": {
     "name": "#%%\n"
    },
    "tags": []
   },
   "outputs": [],
   "source": [
    "for sample in cto_path_sub_dict.keys():\n",
    "    cto_path = cto_path_sub_dict[sample]\n",
    "    with open(cto_path, \"rb\") as f:\n",
    "        cto = pickle.load(f)\n",
    "\n",
    "    print(f\"Loaded filtered cistopic object {sample}\")\n",
    "    loom_path = os.path.join(loom_out, cto_path.split(\"/\")[-1].replace(\".pkl\", \".loom\"))\n",
    "    lp.create(\n",
    "        filename=loom_path,\n",
    "        layers=cto.fragment_matrix,\n",
    "        row_attrs={\"Gene\": cto.region_names},\n",
    "        col_attrs={\n",
    "            \"CellID\": [x.replace(\"___\", \"__\").split(\".\")[0] for x in cto.cell_names]\n",
    "        },\n",
    "    )\n",
    "    print(f\"Finished {loom_path} loom writing\")"
   ]
  },
  {
   "cell_type": "markdown",
   "metadata": {},
   "source": [
    "# write seurat scripts"
   ]
  },
  {
   "cell_type": "code",
   "execution_count": 35,
   "metadata": {
    "execution": {
     "iopub.execute_input": "2022-12-22T13:03:16.762083Z",
     "iopub.status.busy": "2022-12-22T13:03:16.761528Z",
     "iopub.status.idle": "2022-12-22T13:03:16.786791Z",
     "shell.execute_reply": "2022-12-22T13:03:16.785831Z",
     "shell.execute_reply.started": "2022-12-22T13:03:16.762054Z"
    },
    "tags": []
   },
   "outputs": [],
   "source": [
    "frags_path_dict = {\n",
    "    \"master_sub_1.FIXEDCELLS\": \"../1_data_repository/fixedcells_merged/merged_all_1.fragments.ID.sorted.tsv.gz\"\n",
    "}"
   ]
  },
  {
   "cell_type": "code",
   "execution_count": 36,
   "metadata": {
    "execution": {
     "iopub.execute_input": "2022-12-22T13:03:18.620622Z",
     "iopub.status.busy": "2022-12-22T13:03:18.619673Z",
     "iopub.status.idle": "2022-12-22T13:03:18.638706Z",
     "shell.execute_reply": "2022-12-22T13:03:18.637296Z",
     "shell.execute_reply.started": "2022-12-22T13:03:18.620563Z"
    },
    "tags": []
   },
   "outputs": [
    {
     "data": {
      "text/plain": [
       "{'master_sub_1.FIXEDCELLS': 'cell_region_looms/master_sub_1.FIXEDCELLS__cto.scrublet0-4.fmx.singlets.model_20topics.loom'}"
      ]
     },
     "execution_count": 36,
     "metadata": {},
     "output_type": "execute_result"
    }
   ],
   "source": [
    "scrub_name_suffix = \"0-4\"\n",
    "loom_path_dict = {\n",
    "    x.split(\"/\")[-1].split(f\"__\")[0]: x\n",
    "    for x in sorted(glob.glob(f\"cell_region_looms/*.loom\"))\n",
    "}\n",
    "loom_path_dict"
   ]
  },
  {
   "cell_type": "code",
   "execution_count": 37,
   "metadata": {
    "execution": {
     "iopub.execute_input": "2022-12-22T13:03:18.804718Z",
     "iopub.status.busy": "2022-12-22T13:03:18.803761Z",
     "iopub.status.idle": "2022-12-22T13:03:19.594117Z",
     "shell.execute_reply": "2022-12-22T13:03:19.591755Z",
     "shell.execute_reply.started": "2022-12-22T13:03:18.804658Z"
    },
    "tags": []
   },
   "outputs": [
    {
     "name": "stdout",
     "output_type": "stream",
     "text": [
      "#!/usr/bin/env Rscript\n",
      "library(Seurat)\n",
      "library(SeuratDisk)\n",
      "library(Signac)\n",
      "# library(EnsDb.Hsapiens.v86)\n",
      "library(ggplot2)\n",
      "library(stringr)\n",
      "\n",
      "args = commandArgs(trailingOnly=TRUE)\n",
      "sample_id = args[1]\n",
      "f_loom = args[2]\n",
      "f_frag = args[3]\n",
      "f_reference = args[4]\n",
      "f_annotation = args[5]\n",
      "f_out = args[6]\n",
      "\n",
      "print(paste0(\"Processing sample \", args[1]))\n",
      "\n",
      "# load pbmc object\n",
      "# pbmc.rna <- readRDS(\"../0_resources/seurat_references/pbmc_integrated.RDS\")\n",
      "#pbmc.rna <- readRDS('/lustre1/project/stg_00090/scatac_benchmark/0_resources/seurat_references/pbmc_ssc_mat__integrated.rds')\n",
      "\n",
      "################################################################################\n",
      "# ATAC\n",
      "################################################################################\n",
      "\n",
      "### get data from loom:\n",
      "atacloomcon <- Connect(filename = f_loom, mode = \"r\")\n",
      "atacloomcon\n",
      "atac_tmp <- as.Seurat(atacloomcon, assay='ATAC')\n",
      "atacloomcon$close_all()\n",
      "\n",
      "# subset by removing contig chromosomes\n",
      "rawregions = rownames(GetAssayData(atac_tmp, slot = \"counts\", assay='ATAC'))\n",
      "standard_regions = rawregions[!grepl('random|KI|Un', rawregions)]\n",
      "\n",
      "atac_tmp_data_subset = GetAssayData(atac_tmp[standard_regions], slot = \"counts\", assay='ATAC')\n",
      "atac_tmp <- CreateSeuratObject(atac_tmp_data_subset, assay='ATAC')\n",
      "\n",
      "\n",
      "# subset by removing contig chromosomes\n",
      "rawregions = rownames(GetAssayData(atac_tmp, slot = \"counts\", assay='ATAC'))\n",
      "# standard_regions = rawregions[!grepl('random|KIe\n",
      "pbmc.rna <- readRDS('../0_resources/seurat_references/pbmc_ssc_mat__integrated.rds')\n",
      "\n",
      "\n",
      "\n",
      "# correctly parse regions (default delims are '-','-')\n",
      "regions = StringToGRanges(\n",
      "    rownames(GetAssayData(atac_tmp, slot = \"counts\", assay='ATAC')),\n",
      "    sep=c(':','-')\n",
      "    )\n",
      "\n",
      "# create chromatin assay\n",
      "chromatinassay = CreateChromatinAssay(\n",
      "    counts=GetAssayData(atac_tmp, slot = \"counts\", assay='ATAC'),\n",
      "    # genome='hg38',\n",
      "    fragments = f_frag,\n",
      "    ranges=regions\n",
      "    )\n",
      "    #annotation=annotation)\n",
      "\n",
      "atac <- CreateSeuratObject(counts = chromatinassay, assay='ATAC')\n",
      "\n",
      "annotations <- readRDS(f_annotation)\n",
      "Annotation(atac) <- annotations\n",
      "\n",
      "# We exclude the first dimension as this is typically correlated with sequencing depth\n",
      "atac <- RunTFIDF(atac)\n",
      "atac <- FindTopFeatures(atac, min.cutoff = \"q0\")\n",
      "atac <- RunSVD(atac)\n",
      "atac <- RunUMAP(atac, reduction = \"lsi\", dims = 2:30, reduction.name = \"umap.atac\", reduction.key = \"atacUMAP_\")\n",
      "\n",
      "##################################################\n",
      "# Identify RNA-ATAC anchors\n",
      "\n",
      "# quantify gene activity\n",
      "gene.activities <- GeneActivity(atac, features = VariableFeatures(pbmc.rna))\n",
      "# gene.activities <- gene.activities[rownames(gene.activities)!=\"\",]\n",
      "\n",
      "# add gene activities as a new assay\n",
      "atac[[\"ACTIVITY\"]] <- CreateAssayObject(counts = gene.activities)\n",
      "\n",
      "# normalize gene activities\n",
      "DefaultAssay(atac) <- \"ACTIVITY\"\n",
      "atac <- NormalizeData(atac)\n",
      "atac <- ScaleData(atac, features = rownames(atac))\n",
      "\n",
      "# Identify anchors\n",
      "transfer.anchors <- FindTransferAnchors(reference = pbmc.rna,\n",
      "    query = atac,\n",
      "    features = VariableFeatures(object = pbmc.rna),\n",
      "    reference.assay = \"RNA\",\n",
      "    query.assay = \"ACTIVITY\",\n",
      "    reduction = \"cca\")\n",
      "\n",
      "# predict celltype\n",
      "celltype.predictions <- TransferData(\n",
      "    anchorset = transfer.anchors,\n",
      "    refdata = pbmc.rna$CellType,\n",
      "    weight.reduction = atac[[\"lsi\"]],\n",
      "    dims = 2:30)\n",
      "\n",
      "pbmc.atac <- AddMetaData(atac, metadata = celltype.predictions)\n",
      "\n",
      "md = celltype.predictions\n",
      "pred_thr = 0.7\n",
      "\n",
      "tmp = data.frame(\n",
      "      composite_sample_id = paste0(rownames(md),'-',sample_id),\n",
      "      barcode = rownames(md),\n",
      "      sample_id = sample_id,\n",
      "      cell_type = md$predicted.id,\n",
      "      cell_type_pred_score = md$prediction.score.max\n",
      "      )\n",
      "\n",
      "tmp$cell_type_hiconf_70 = tmp$cell_type\n",
      "tmp$cell_type_hiconf_70[tmp$cell_type_pred_score<pred_thr] = 'Unknown'\n",
      "\n",
      "table(tmp$cell_type)\n",
      "table(tmp$cell_type_hiconf_70)\n",
      "\n",
      "write.table(tmp, file=f_out, sep='\\t', row.names=FALSE, quote=FALSE)\n",
      "print(paste0('Wrote file ', f_out))\n"
     ]
    }
   ],
   "source": [
    "!cat ../0_resources/scripts/seurat_label_transfer_consensus.R"
   ]
  },
  {
   "cell_type": "code",
   "execution_count": 38,
   "metadata": {
    "execution": {
     "iopub.execute_input": "2022-12-22T13:03:20.493418Z",
     "iopub.status.busy": "2022-12-22T13:03:20.492389Z",
     "iopub.status.idle": "2022-12-22T13:03:20.527048Z",
     "shell.execute_reply": "2022-12-22T13:03:20.525218Z",
     "shell.execute_reply.started": "2022-12-22T13:03:20.493338Z"
    },
    "tags": []
   },
   "outputs": [
    {
     "name": "stdout",
     "output_type": "stream",
     "text": [
      "Rscript ../0_resources/scripts/seurat_label_transfer_consensus.R master_sub_1.FIXEDCELLS cell_region_looms/master_sub_1.FIXEDCELLS__cto.scrublet0-4.fmx.singlets.model_20topics.loom ../1_data_repository/fixedcells_merged/merged_all_1.fragments.ID.sorted.tsv.gz ../0_resources/seurat_references/pbmc_ref.rds ../0_resources/seurat_references/granges_annotation.rds cell_type_classification/master_sub_1.FIXEDCELLS__cell_type_seurat.txt\n"
     ]
    }
   ],
   "source": [
    "parallel_filename = \"seurat_label_transfer.parallel\"\n",
    "script_path = \"../0_resources/scripts/seurat_label_transfer_consensus.R\"\n",
    "img_path = \"../0_resources/vsn_cache/cflerin-seurat-4.0.3-plus.sif\"\n",
    "reference_path = \"../0_resources/seurat_references/pbmc_ref.rds\"\n",
    "annotation_path = \"../0_resources/seurat_references/granges_annotation.rds\"\n",
    "# bind_mounts = \"/dodrio,/readonly/dodrio,/tmp\"\n",
    "bind_mounts = \"/lustre1,/staging,${VSC_SCRATCH}/tmp:/tmp\"\n",
    "bind_mounts = \"/lustre1,/staging,${VSC_SCRATCH}/tmp:/tmp\"\n",
    "\n",
    "with open(parallel_filename, \"w\") as f:\n",
    "    for sample in loom_path_dict.keys():\n",
    "        outfile = f\"cell_type_classification/{sample}__cell_type_seurat.txt\"\n",
    "        if not os.path.exists(outfile):\n",
    "            loomfile = loom_path_dict[sample]\n",
    "            fragfile = frags_path_dict[sample]\n",
    "            command = f\"Rscript {script_path} {sample} {loomfile} {fragfile} {reference_path} {annotation_path} {outfile}\"\n",
    "            f.write(f\"{command}\\n\")\n",
    "            print(command)\n",
    "\n",
    "        else:\n",
    "            f.write(f\"#{outfile} already exists!\\n\")\n",
    "            print(f\"#{outfile} already exists!\")"
   ]
  },
  {
   "cell_type": "code",
   "execution_count": null,
   "metadata": {},
   "outputs": [],
   "source": []
  }
 ],
 "metadata": {
  "kernelspec": {
   "display_name": "20221014_pycistopic.sif",
   "language": "python",
   "name": "cistopic_20221014"
  },
  "language_info": {
   "codemirror_mode": {
    "name": "ipython",
    "version": 3
   },
   "file_extension": ".py",
   "mimetype": "text/x-python",
   "name": "python",
   "nbconvert_exporter": "python",
   "pygments_lexer": "ipython3",
   "version": "3.8.15"
  }
 },
 "nbformat": 4,
 "nbformat_minor": 4
}

{
 "cells": [
  {
   "cell_type": "code",
   "execution_count": 1,
   "id": "36ab6d76",
   "metadata": {
    "execution": {
     "iopub.execute_input": "2023-01-02T16:03:06.015647Z",
     "iopub.status.busy": "2023-01-02T16:03:06.014653Z",
     "iopub.status.idle": "2023-01-02T16:03:12.386523Z",
     "shell.execute_reply": "2023-01-02T16:03:12.384515Z",
     "shell.execute_reply.started": "2023-01-02T16:03:06.015480Z"
    },
    "papermill": {
     "duration": 11.261378,
     "end_time": "2022-09-29T13:44:58.648959",
     "exception": false,
     "start_time": "2022-09-29T13:44:47.387581",
     "status": "completed"
    },
    "tags": []
   },
   "outputs": [],
   "source": [
    "from pycisTopic.pseudobulk_peak_calling import export_pseudobulk, peak_calling\n",
    "import pyranges as pr\n",
    "import requests\n",
    "import os\n",
    "import pandas as pd\n",
    "import glob\n",
    "import pickle"
   ]
  },
  {
   "cell_type": "code",
   "execution_count": 2,
   "id": "5175407b",
   "metadata": {
    "execution": {
     "iopub.execute_input": "2023-01-02T16:03:12.391543Z",
     "iopub.status.busy": "2023-01-02T16:03:12.390351Z",
     "iopub.status.idle": "2023-01-02T16:03:12.633470Z",
     "shell.execute_reply": "2023-01-02T16:03:12.632057Z",
     "shell.execute_reply.started": "2023-01-02T16:03:12.391483Z"
    },
    "papermill": {
     "duration": 0.304007,
     "end_time": "2022-09-29T13:44:58.962468",
     "exception": false,
     "start_time": "2022-09-29T13:44:58.658461",
     "status": "completed"
    },
    "tags": []
   },
   "outputs": [],
   "source": [
    "%load_ext lab_black"
   ]
  },
  {
   "cell_type": "code",
   "execution_count": 3,
   "id": "5ffd6b22",
   "metadata": {
    "execution": {
     "iopub.execute_input": "2023-01-02T16:03:12.634895Z",
     "iopub.status.busy": "2023-01-02T16:03:12.634643Z",
     "iopub.status.idle": "2023-01-02T16:03:12.667408Z",
     "shell.execute_reply": "2023-01-02T16:03:12.666020Z",
     "shell.execute_reply.started": "2023-01-02T16:03:12.634872Z"
    },
    "papermill": {
     "duration": 0.028416,
     "end_time": "2022-09-29T13:44:58.994714",
     "exception": false,
     "start_time": "2022-09-29T13:44:58.966298",
     "status": "completed"
    },
    "tags": []
   },
   "outputs": [],
   "source": [
    "# get chromosome sizes (hg38)\n",
    "if not os.path.exists(\"chromsizes.txt\"):\n",
    "    target_url = (\n",
    "        \"http://hgdownload.cse.ucsc.edu/goldenPath/hg38/bigZips/hg38.chrom.sizes\"\n",
    "    )\n",
    "    chromsizes = pd.read_csv(target_url, sep=\"\\t\", header=None)\n",
    "    chromsizes.columns = [\"Chromosome\", \"End\"]\n",
    "    chromsizes[\"Start\"] = [0] * chromsizes.shape[0]\n",
    "    chromsizes = chromsizes.loc[:, [\"Chromosome\", \"Start\", \"End\"]]\n",
    "    chromsizes = pr.PyRanges(chromsizes)\n",
    "    chromsizes.to_csv(\"chromsizes.txt\")\n",
    "    chromsizes\n",
    "else:\n",
    "    chromsizes = pd.read_csv(\"chromsizes.txt\")"
   ]
  },
  {
   "cell_type": "code",
   "execution_count": 4,
   "id": "40497f28",
   "metadata": {
    "execution": {
     "iopub.execute_input": "2023-01-02T16:03:12.670025Z",
     "iopub.status.busy": "2023-01-02T16:03:12.669678Z",
     "iopub.status.idle": "2023-01-02T16:03:12.745121Z",
     "shell.execute_reply": "2023-01-02T16:03:12.743609Z",
     "shell.execute_reply.started": "2023-01-02T16:03:12.669995Z"
    },
    "tags": []
   },
   "outputs": [
    {
     "data": {
      "text/plain": [
       "{'master_sub_1.FIXEDCELLS': 'cistopic_objects/master_sub_1.FIXEDCELLS__cto.scrublet0-4.fmx.singlets.model_20topics.dimreduc.consensus.pkl'}"
      ]
     },
     "execution_count": 4,
     "metadata": {},
     "output_type": "execute_result"
    }
   ],
   "source": [
    "cto_consensus_paths = sorted(glob.glob(f\"cistopic_objects/*consensus.pkl\"))\n",
    "cto_consensus_path_dict = {\n",
    "    x.split(\"/\")[-1].split(f\"__\")[0]: x for x in cto_consensus_paths\n",
    "}\n",
    "cto_consensus_path_dict"
   ]
  },
  {
   "cell_type": "code",
   "execution_count": 5,
   "id": "455d32b4",
   "metadata": {
    "execution": {
     "iopub.execute_input": "2023-01-02T16:03:12.746706Z",
     "iopub.status.busy": "2023-01-02T16:03:12.746370Z",
     "iopub.status.idle": "2023-01-02T16:03:12.758478Z",
     "shell.execute_reply": "2023-01-02T16:03:12.757079Z",
     "shell.execute_reply.started": "2023-01-02T16:03:12.746667Z"
    },
    "papermill": {
     "duration": 0.013767,
     "end_time": "2022-09-29T13:44:59.037256",
     "exception": false,
     "start_time": "2022-09-29T13:44:59.023489",
     "status": "completed"
    },
    "tags": []
   },
   "outputs": [],
   "source": [
    "fragments_path_dict = {\n",
    "    \"master_sub_1.FIXEDCELLS\": \"/lustre1/project/stg_00090/scatac_benchmark/fixedcells_4_merged/merged_all_1.fragments.ID.sorted.tsv.gz\"\n",
    "}"
   ]
  },
  {
   "cell_type": "code",
   "execution_count": 6,
   "id": "58c86f3d",
   "metadata": {
    "execution": {
     "iopub.execute_input": "2023-01-02T16:03:12.761175Z",
     "iopub.status.busy": "2023-01-02T16:03:12.760472Z",
     "iopub.status.idle": "2023-01-02T16:03:12.852987Z",
     "shell.execute_reply": "2023-01-02T16:03:12.851823Z",
     "shell.execute_reply.started": "2023-01-02T16:03:12.761134Z"
    },
    "papermill": {
     "duration": 0.196325,
     "end_time": "2022-09-29T13:44:59.237563",
     "exception": false,
     "start_time": "2022-09-29T13:44:59.041238",
     "status": "completed"
    },
    "tags": []
   },
   "outputs": [],
   "source": [
    "import gc\n",
    "import logging\n",
    "import os\n",
    "import re\n",
    "import subprocess\n",
    "import sys\n",
    "from typing import Dict, List, Optional, Union\n",
    "\n",
    "import numpy as np\n",
    "import pandas as pd\n",
    "import pyBigWig\n",
    "import pyranges as pr\n",
    "import ray\n",
    "\n",
    "from pycisTopic.cistopic_class import *\n",
    "from pycisTopic.utils import *\n",
    "\n",
    "\n",
    "def export_pseudobulk(\n",
    "    input_data: Union[\"CistopicObject\", pd.DataFrame, Dict[str, pd.DataFrame]],\n",
    "    variable: str,\n",
    "    chromsizes: Union[pd.DataFrame, pr.PyRanges],\n",
    "    bed_path: str,\n",
    "    bigwig_path: str,\n",
    "    path_to_fragments: Optional[Dict[str, str]] = None,\n",
    "    sample_id_col: Optional[str] = \"sample_id\",\n",
    "    n_cpu: Optional[int] = 1,\n",
    "    normalize_bigwig: Optional[bool] = True,\n",
    "    remove_duplicates: Optional[bool] = True,\n",
    "    split_pattern: Optional[str] = \"___\",\n",
    "    use_polars: Optional[bool] = True,\n",
    "    **kwargs\n",
    "):\n",
    "    \"\"\"\n",
    "    Create pseudobulks as bed and bigwig from single cell fragments file given a barcode annotation.\n",
    "    Parameters\n",
    "    ---------\n",
    "    input_data: CistopicObject or pd.DataFrame\n",
    "            A :class:`CistopicObject` containing the specified `variable` as a column in :class:`CistopicObject.cell_data` or a cell metadata\n",
    "            :class:`pd.DataFrame` containing barcode as rows, containing the specified `variable` as a column (additional columns are\n",
    "            possible) and a `sample_id` column. Index names must contain the BARCODE (e.g. ATGTCGTC-1), additional tags are possible separating with -\n",
    "            (e.g. ATGCTGTGCG-1-Sample_1). The levels in the sample_id column must agree with the keys in the path_to_fragments dictionary.\n",
    "            Alternatively, if the cell metadata contains a column named barcode it will be used instead of the index names.\n",
    "    variable: str\n",
    "            A character string indicating the column that will be used to create the different group pseudobulk. It must be included in\n",
    "            the cell metadata provided as input_data.\n",
    "    chromsizes: pd.DataFrame or pr.PyRanges\n",
    "            A data frame or :class:`pr.PyRanges` containing size of each chromosome, containing 'Chromosome', 'Start' and 'End' columns.\n",
    "    bed_path: str\n",
    "            Path to folder where the fragments bed files per group will be saved. If None, files will not be generated.\n",
    "    bigwig_path: str\n",
    "            Path to folder where the bigwig files per group will be saved. If None, files will not be generated.\n",
    "    path_to_fragments: str or dict, optional\n",
    "            A dictionary of character strings, with sample name as names indicating the path to the fragments file/s from which pseudobulk profiles have to\n",
    "            be created. If a :class:`CistopicObject` is provided as input it will be ignored, but if a cell metadata :class:`pd.DataFrame` is provided it\n",
    "            is necessary to provide it. The keys of the dictionary need to match with the sample_id tag added to the index names of the input data frame.\n",
    "    sample_id_col: str, optional\n",
    "            Name of the column containing the sample name per barcode in the input :class:`CistopicObject.cell_data` or class:`pd.DataFrame`. Default: 'sample_id'.\n",
    "    n_cpu: int, optional\n",
    "            Number of cores to use. Default: 1.\n",
    "    normalize_bigwig: bool, optional\n",
    "            Whether bigwig files should be CPM normalized. Default: True.\n",
    "    remove_duplicates: bool, optional\n",
    "            Whether duplicates should be removed before converting the data to bigwig.\n",
    "    split_pattern: str, optional\n",
    "            Pattern to split cell barcode from sample id. Default: ___ .\n",
    "    use_polars: bool, optional\n",
    "            Whether to use polars to read fragments files. Default: True.\n",
    "    **kwargs\n",
    "            Additional parameters for ray.init()\n",
    "    Return\n",
    "    ------\n",
    "    dict\n",
    "            A dictionary containing the paths to the newly created bed fragments files per group a dictionary containing the paths to the\n",
    "            newly created bigwig files per group.\n",
    "    \"\"\"\n",
    "    # Create logger\n",
    "    level = logging.INFO\n",
    "    log_format = \"%(asctime)s %(name)-12s %(levelname)-8s %(message)s\"\n",
    "    handlers = [logging.StreamHandler(stream=sys.stdout)]\n",
    "    logging.basicConfig(level=level, format=log_format, handlers=handlers)\n",
    "    log = logging.getLogger(\"cisTopic\")\n",
    "\n",
    "    # Get fragments file\n",
    "    if isinstance(input_data, CistopicObject):\n",
    "        path_to_fragments = input_data.path_to_fragments\n",
    "        if path_to_fragments is None:\n",
    "            log.error(\"No path_to_fragments in this cisTopic object.\")\n",
    "        cell_data = input_data.cell_data\n",
    "    elif isinstance(input_data, pd.DataFrame):\n",
    "        if path_to_fragments is None:\n",
    "            log.error(\"Please, provide path_to_fragments.\")\n",
    "        cell_data = input_data\n",
    "    # Check for sample_id column\n",
    "    try:\n",
    "        sample_ids = list(set(cell_data[sample_id_col]))\n",
    "    except ValueError:\n",
    "        print(\n",
    "            'Please, include a sample identification column (e.g. \"sample_id\") in your cell metadata!'\n",
    "        )\n",
    "\n",
    "    # Get fragments\n",
    "    fragments_df_dict = {}\n",
    "    for sample_id in path_to_fragments.keys():\n",
    "        if sample_id not in sample_ids:\n",
    "            log.info(\n",
    "                \"The following path_to_fragments entry is not found in the cell metadata sample_id_col: \",\n",
    "                sample_id,\n",
    "                \". It will be ignored.\",\n",
    "            )\n",
    "        else:\n",
    "            log.info(\"Reading fragments from \" + path_to_fragments[sample_id])\n",
    "            fragments_df = read_fragments_from_file(\n",
    "                path_to_fragments[sample_id], use_polars=use_polars\n",
    "            ).df\n",
    "            # Convert to int32 for memory efficiency\n",
    "            fragments_df.Start = np.int32(fragments_df.Start)\n",
    "            fragments_df.End = np.int32(fragments_df.End)\n",
    "            if \"Score\" in fragments_df:\n",
    "                fragments_df.Score = np.int32(fragments_df.Score)\n",
    "            if \"barcode\" in cell_data:\n",
    "                fragments_df = fragments_df.loc[\n",
    "                    fragments_df[\"Name\"].isin(cell_data[\"barcode\"].tolist())\n",
    "                ]\n",
    "            else:\n",
    "                fragments_df = fragments_df.loc[\n",
    "                    fragments_df[\"Name\"].isin(\n",
    "                        prepare_tag_cells(cell_data.index.tolist(), split_pattern)\n",
    "                    )\n",
    "                ]\n",
    "            fragments_df_dict[sample_id] = fragments_df\n",
    "\n",
    "    # Set groups\n",
    "    if \"barcode\" in cell_data:\n",
    "        cell_data = cell_data.loc[:, [variable, sample_id_col, \"barcode\"]]\n",
    "    else:\n",
    "        cell_data = cell_data.loc[:, [variable, sample_id_col]]\n",
    "    cell_data[variable] = cell_data[variable].replace(\" \", \"\", regex=True)\n",
    "    cell_data[variable] = cell_data[variable].replace(\"[^A-Za-z0-9]+\", \"_\", regex=True)\n",
    "    groups = sorted(list(set(cell_data[variable])))\n",
    "    # Check chromosome sizes\n",
    "    if isinstance(chromsizes, pd.DataFrame):\n",
    "        chromsizes = chromsizes.loc[:, [\"Chromosome\", \"Start\", \"End\"]]\n",
    "        chromsizes = pr.PyRanges(chromsizes)\n",
    "    # Check that output dir exist and generate output paths\n",
    "    if isinstance(bed_path, str):\n",
    "        if not os.path.exists(bed_path):\n",
    "            os.makedirs(bed_path)\n",
    "        bed_paths = {\n",
    "            group: os.path.join(bed_path, str(group) + \".bed.gz\") for group in groups\n",
    "        }\n",
    "    else:\n",
    "        bed_paths = {}\n",
    "    if isinstance(bigwig_path, str):\n",
    "        if not os.path.exists(bigwig_path):\n",
    "            os.makedirs(bigwig_path)\n",
    "        bw_paths = {\n",
    "            group: os.path.join(bigwig_path, str(group) + \".bw\") for group in groups\n",
    "        }\n",
    "    else:\n",
    "        bw_paths = {}\n",
    "    # Create pseudobulks\n",
    "    if n_cpu > 1:\n",
    "        ray.init(num_cpus=n_cpu, **kwargs)\n",
    "        ray_handle = ray.wait(\n",
    "            [\n",
    "                export_pseudobulk_ray.remote(\n",
    "                    cell_data,\n",
    "                    group,\n",
    "                    fragments_df_dict,\n",
    "                    chromsizes,\n",
    "                    bigwig_path,\n",
    "                    bed_path,\n",
    "                    sample_id_col,\n",
    "                    normalize_bigwig,\n",
    "                    remove_duplicates,\n",
    "                    split_pattern,\n",
    "                )\n",
    "                for group in groups\n",
    "            ],\n",
    "            num_returns=len(groups),\n",
    "        )\n",
    "        ray.shutdown()\n",
    "    else:\n",
    "        [\n",
    "            export_pseudobulk_one_sample(\n",
    "                cell_data,\n",
    "                group,\n",
    "                fragments_df_dict,\n",
    "                chromsizes,\n",
    "                bigwig_path,\n",
    "                bed_path,\n",
    "                sample_id_col,\n",
    "                normalize_bigwig,\n",
    "                remove_duplicates,\n",
    "                split_pattern,\n",
    "            )\n",
    "            for group in groups\n",
    "        ]\n",
    "\n",
    "    return bw_paths, bed_paths\n",
    "\n",
    "\n",
    "def export_pseudobulk_one_sample(\n",
    "    cell_data: pd.DataFrame,\n",
    "    group: str,\n",
    "    fragments_df_dict: Dict[str, pd.DataFrame],\n",
    "    chromsizes: pr.PyRanges,\n",
    "    bigwig_path: str,\n",
    "    bed_path: str,\n",
    "    sample_id_col: Optional[str] = \"sample_id\",\n",
    "    normalize_bigwig: Optional[bool] = True,\n",
    "    remove_duplicates: Optional[bool] = True,\n",
    "    split_pattern: Optional[str] = \"___\",\n",
    "):\n",
    "    \"\"\"\n",
    "    Create pseudobulk as bed and bigwig from single cell fragments file given a barcode annotation and a group.\n",
    "    Parameters\n",
    "    ---------\n",
    "    cell_data: pd.DataFrame\n",
    "            A cell metadata :class:`pd.Dataframe` containing barcodes, their annotation and their sample of origin.\n",
    "    group: str\n",
    "            A character string indicating the group for which pseudobulks will be created.\n",
    "    fragments_df_dict: dict\n",
    "            A dictionary containing data frames as values with 'Chromosome', 'Start', 'End', 'Name', and 'Score' as columns; and sample label\n",
    "            as keys. 'Score' indicates the number of times that a fragments is found assigned to that barcode.\n",
    "    chromsizes: pr.PyRanges\n",
    "            A :class:`pr.PyRanges` containing size of each column, containing 'Chromosome', 'Start' and 'End' columns.\n",
    "    bigwig_path: str\n",
    "            Path to folder where the bigwig file will be saved.\n",
    "    bed_path: str\n",
    "            Path to folder where the fragments bed file will be saved.\n",
    "    sample_id_col: str, optional\n",
    "            Name of the column containing the sample name per barcode in the input :class:`CistopicObject.cell_data` or class:`pd.DataFrame`. Default: 'sample_id'.\n",
    "    normalize_bigwig: bool, optional\n",
    "            Whether bigwig files should be CPM normalized. Default: True.\n",
    "    remove_duplicates: bool, optional\n",
    "            Whether duplicates should be removed before converting the data to bigwig.\n",
    "    split_pattern: str\n",
    "            Pattern to split cell barcode from sample id. Default: ___ .\n",
    "    \"\"\"\n",
    "    # Create logger\n",
    "    level = logging.INFO\n",
    "    log_format = \"%(asctime)s %(name)-12s %(levelname)-8s %(message)s\"\n",
    "    handlers = [logging.StreamHandler(stream=sys.stdout)]\n",
    "    logging.basicConfig(level=level, format=log_format, handlers=handlers)\n",
    "    log = logging.getLogger(\"cisTopic\")\n",
    "\n",
    "    log.info(\"Creating pseudobulk for \" + str(group))\n",
    "    group_fragments_list = []\n",
    "    group_fragments_dict = {}\n",
    "    for sample_id in fragments_df_dict:\n",
    "        sample_data = cell_data[cell_data.loc[:, sample_id_col].isin([sample_id])]\n",
    "        if \"barcode\" in sample_data:\n",
    "            sample_data.index = sample_data[\"barcode\"].tolist()\n",
    "        else:\n",
    "            sample_data.index = prepare_tag_cells(\n",
    "                sample_data.index.tolist(), split_pattern\n",
    "            )\n",
    "        group_var = sample_data.iloc[:, 0]\n",
    "        barcodes = group_var[group_var.isin([group])].index.tolist()\n",
    "        fragments_df = fragments_df_dict[sample_id]\n",
    "        group_fragments = fragments_df.loc[fragments_df[\"Name\"].isin(barcodes)]\n",
    "        if len(fragments_df_dict) > 1:\n",
    "            group_fragments_dict[sample_id] = group_fragments\n",
    "\n",
    "    if len(fragments_df_dict) > 1:\n",
    "        group_fragments_list = [\n",
    "            group_fragments_dict[list(group_fragments_dict.keys())[x]]\n",
    "            for x in range(len(fragments_df_dict))\n",
    "        ]\n",
    "        group_fragments = group_fragments_list[0].append(group_fragments_list[1:])\n",
    "\n",
    "    group_fragments = group_fragments[\n",
    "        group_fragments[\"Chromosome\"].isin(chromsizes.Chromosome)\n",
    "    ]\n",
    "\n",
    "    del group_fragments_dict\n",
    "    del group_fragments_list\n",
    "    del fragments_df\n",
    "    gc.collect()\n",
    "\n",
    "    group_pr = pr.PyRanges(group_fragments)\n",
    "    if isinstance(bigwig_path, str):\n",
    "        bigwig_path_group = os.path.join(bigwig_path, str(group) + \".bw\")\n",
    "        if remove_duplicates:\n",
    "            group_pr.to_bigwig(\n",
    "                path=bigwig_path_group,\n",
    "                chromosome_sizes=chromsizes,\n",
    "                rpm=normalize_bigwig,\n",
    "            )\n",
    "        else:\n",
    "            group_pr.to_bigwig(\n",
    "                path=bigwig_path_group,\n",
    "                chromosome_sizes=chromsizes,\n",
    "                rpm=normalize_bigwig,\n",
    "                value_col=\"Score\",\n",
    "            )\n",
    "    if isinstance(bed_path, str):\n",
    "        bed_path_group = os.path.join(bed_path, str(group) + \".bed.gz\")\n",
    "        group_pr.to_bed(\n",
    "            path=bed_path_group, keep=False, compression=\"infer\", chain=False\n",
    "        )\n",
    "\n",
    "    log.info(str(group) + \" done!\")\n",
    "\n",
    "\n",
    "@ray.remote\n",
    "def export_pseudobulk_ray(\n",
    "    cell_data: pd.DataFrame,\n",
    "    group: str,\n",
    "    fragments_df_dict: Dict[str, pd.DataFrame],\n",
    "    chromsizes: pr.PyRanges,\n",
    "    bigwig_path: str,\n",
    "    bed_path: str,\n",
    "    sample_id_col: Optional[str] = \"sample_id\",\n",
    "    normalize_bigwig: Optional[bool] = True,\n",
    "    remove_duplicates: Optional[bool] = True,\n",
    "    split_pattern: Optional[str] = \"___\",\n",
    "):\n",
    "    \"\"\"\n",
    "    Create pseudobulk as bed and bigwig from single cell fragments file given a barcode annotation and a group.\n",
    "    Parameters\n",
    "    ---------\n",
    "    cell_data: pd.DataFrame\n",
    "            A cell metadata :class:`pd.Dataframe` containing barcodes, their annotation and their sample of origin.\n",
    "    group: str\n",
    "            A character string indicating the group for which pseudobulks will be created.\n",
    "    fragments_df_dict: dict\n",
    "            A dictionary containing data frames as values with 'Chromosome', 'Start', 'End', 'Name', and 'Score' as columns; and sample label\n",
    "            as keys. 'Score' indicates the number of times that a fragments is found assigned to that barcode.\n",
    "    chromsizes: pr.PyRanges\n",
    "            A :class:`pr.PyRanges` containing size of each column, containing 'Chromosome', 'Start' and 'End' columns.\n",
    "    bed_path: str\n",
    "            Path to folder where the fragments bed file will be saved.\n",
    "    bigwig_path: str\n",
    "            Path to folder where the bigwig file will be saved.\n",
    "    sample_id_col: str, optional\n",
    "            Name of the column containing the sample name per barcode in the input :class:`CistopicObject.cell_data` or class:`pd.DataFrame`. Default: 'sample_id'.\n",
    "    normalize_bigwig: bool, optional\n",
    "            Whether bigwig files should be CPM normalized. Default: True.\n",
    "    remove_duplicates: bool, optional\n",
    "            Whether duplicates should be removed before converting the data to bigwig.\n",
    "    split_pattern: str\n",
    "            Pattern to split cell barcode from sample id. Default: ___ .\n",
    "    \"\"\"\n",
    "    export_pseudobulk_one_sample(\n",
    "        cell_data,\n",
    "        group,\n",
    "        fragments_df_dict,\n",
    "        chromsizes,\n",
    "        bigwig_path,\n",
    "        bed_path,\n",
    "        sample_id_col,\n",
    "        normalize_bigwig,\n",
    "        remove_duplicates,\n",
    "        split_pattern,\n",
    "    )"
   ]
  },
  {
   "cell_type": "code",
   "execution_count": 14,
   "id": "54b06107",
   "metadata": {
    "execution": {
     "iopub.execute_input": "2022-12-27T12:40:42.778687Z",
     "iopub.status.busy": "2022-12-27T12:40:42.777310Z",
     "iopub.status.idle": "2022-12-27T14:01:59.105425Z",
     "shell.execute_reply": "2022-12-27T14:01:59.104075Z",
     "shell.execute_reply.started": "2022-12-27T12:40:42.778630Z"
    },
    "papermill": {
     "duration": 0.022853,
     "end_time": "2022-09-29T13:44:59.264456",
     "exception": false,
     "start_time": "2022-09-29T13:44:59.241603",
     "status": "completed"
    },
    "tags": []
   },
   "outputs": [
    {
     "name": "stdout",
     "output_type": "stream",
     "text": [
      "2022-12-27 13:40:44,166 cisTopic     INFO     Reading fragments from ../1_data_repository/fixedcells_fragments/OHS_s3atac_2.FIXEDCELLS.fragments.tsv.gz\n",
      "2022-12-27 13:41:34,437 cisTopic     INFO     Reading fragments from ../1_data_repository/fixedcells_fragments/SAN_10xmultiome_2.FIXEDCELLS.fragments.tsv.gz\n",
      "2022-12-27 13:43:19,830 cisTopic     INFO     Reading fragments from ../1_data_repository/fixedcells_fragments/OHS_s3atac_1.FIXEDCELLS.fragments.tsv.gz\n",
      "2022-12-27 13:44:25,126 cisTopic     INFO     Reading fragments from ../1_data_repository/fixedcells_fragments/TXG_10xv11_1.FIXEDCELLS.fragments.tsv.gz\n",
      "2022-12-27 13:47:27,091 cisTopic     INFO     Reading fragments from ../1_data_repository/fixedcells_fragments/CNA_10xv11_5.FIXEDCELLS.fragments.tsv.gz\n",
      "2022-12-27 13:47:45,873 cisTopic     INFO     Reading fragments from ../1_data_repository/fixedcells_fragments/STA_10xv11_1.FIXEDCELLS.fragments.tsv.gz\n",
      "2022-12-27 13:48:07,018 cisTopic     INFO     Reading fragments from ../1_data_repository/fixedcells_fragments/CNA_hydrop_2.FIXEDCELLS.fragments.tsv.gz\n",
      "2022-12-27 13:48:37,204 cisTopic     INFO     Reading fragments from ../1_data_repository/fixedcells_fragments/CNA_10xv2_2.FIXEDCELLS.fragments.tsv.gz\n",
      "2022-12-27 13:49:57,891 cisTopic     INFO     Reading fragments from ../1_data_repository/fixedcells_fragments/VIB_hydrop_2.FIXEDCELLS.fragments.tsv.gz\n",
      "2022-12-27 13:50:31,507 cisTopic     INFO     Reading fragments from ../1_data_repository/fixedcells_fragments/STA_10xv11_2.FIXEDCELLS.fragments.tsv.gz\n",
      "2022-12-27 13:51:02,821 cisTopic     INFO     Reading fragments from ../1_data_repository/fixedcells_fragments/VIB_10xmultiome_1.FIXEDCELLS.fragments.tsv.gz\n",
      "2022-12-27 13:51:23,944 cisTopic     INFO     Reading fragments from ../1_data_repository/fixedcells_fragments/VIB_hydrop_1.FIXEDCELLS.fragments.tsv.gz\n",
      "2022-12-27 13:51:50,802 cisTopic     INFO     Reading fragments from ../1_data_repository/fixedcells_fragments/EPF_hydrop_3.FIXEDCELLS.fragments.tsv.gz\n",
      "2022-12-27 13:52:17,434 cisTopic     INFO     Reading fragments from ../1_data_repository/fixedcells_fragments/VIB_10xv2_1.FIXEDCELLS.fragments.tsv.gz\n",
      "2022-12-27 13:53:12,168 cisTopic     INFO     Reading fragments from ../1_data_repository/fixedcells_fragments/UCS_ddseq_2.FIXEDCELLS.fragments.tsv.gz\n",
      "2022-12-27 13:54:46,898 cisTopic     INFO     Reading fragments from ../1_data_repository/fixedcells_fragments/HAR_ddseq_1.FIXEDCELLS.fragments.tsv.gz\n",
      "2022-12-27 13:56:20,941 cisTopic     INFO     Reading fragments from ../1_data_repository/fixedcells_fragments/CNA_10xv11_2.FIXEDCELLS.fragments.tsv.gz\n",
      "2022-12-27 13:57:05,737 cisTopic     INFO     Reading fragments from ../1_data_repository/fixedcells_fragments/UCS_ddseq_1.FIXEDCELLS.fragments.tsv.gz\n",
      "2022-12-27 13:58:52,846 cisTopic     INFO     Reading fragments from ../1_data_repository/fixedcells_fragments/CNA_10xmultiome_2.FIXEDCELLS.fragments.tsv.gz\n",
      "2022-12-27 13:59:53,709 cisTopic     INFO     Reading fragments from ../1_data_repository/fixedcells_fragments/TXG_10xv2_2.FIXEDCELLS.fragments.tsv.gz\n",
      "2022-12-27 14:02:43,323 cisTopic     INFO     Reading fragments from ../1_data_repository/fixedcells_fragments/VIB_10xmultiome_2.FIXEDCELLS.fragments.tsv.gz\n",
      "2022-12-27 14:03:15,964 cisTopic     INFO     Reading fragments from ../1_data_repository/fixedcells_fragments/BIO_ddseq_1.FIXEDCELLS.fragments.tsv.gz\n",
      "2022-12-27 14:04:43,571 cisTopic     INFO     Reading fragments from ../1_data_repository/fixedcells_fragments/VIB_10xv2_2.FIXEDCELLS.fragments.tsv.gz\n",
      "2022-12-27 14:05:38,737 cisTopic     INFO     Reading fragments from ../1_data_repository/fixedcells_fragments/BIO_ddseq_4.FIXEDCELLS.fragments.tsv.gz\n",
      "2022-12-27 14:06:23,200 cisTopic     INFO     Reading fragments from ../1_data_repository/fixedcells_fragments/BIO_ddseq_3.FIXEDCELLS.fragments.tsv.gz\n",
      "2022-12-27 14:07:07,124 cisTopic     INFO     Reading fragments from ../1_data_repository/fixedcells_fragments/CNA_10xv11_4.FIXEDCELLS.fragments.tsv.gz\n",
      "2022-12-27 14:07:21,056 cisTopic     INFO     Reading fragments from ../1_data_repository/fixedcells_fragments/MDC_mtscatac_2.FIXEDCELLS.fragments.tsv.gz\n",
      "2022-12-27 14:08:49,571 cisTopic     INFO     Reading fragments from ../1_data_repository/fixedcells_fragments/CNA_hydrop_3.FIXEDCELLS.fragments.tsv.gz\n",
      "2022-12-27 14:09:15,896 cisTopic     INFO     Reading fragments from ../1_data_repository/fixedcells_fragments/BRO_mtscatac_2.FIXEDCELLS.fragments.tsv.gz\n",
      "2022-12-27 14:10:04,960 cisTopic     INFO     Reading fragments from ../1_data_repository/fixedcells_fragments/BRO_mtscatac_1.FIXEDCELLS.fragments.tsv.gz\n",
      "2022-12-27 14:10:57,839 cisTopic     INFO     Reading fragments from ../1_data_repository/fixedcells_fragments/CNA_10xmultiome_1.FIXEDCELLS.fragments.tsv.gz\n",
      "2022-12-27 14:11:51,390 cisTopic     INFO     Reading fragments from ../1_data_repository/fixedcells_fragments/VIB_10xv1_2.FIXEDCELLS.fragments.tsv.gz\n",
      "2022-12-27 14:14:55,484 cisTopic     INFO     Reading fragments from ../1_data_repository/fixedcells_fragments/CNA_10xv11_3.FIXEDCELLS.fragments.tsv.gz\n",
      "2022-12-27 14:16:15,801 cisTopic     INFO     Reading fragments from ../1_data_repository/fixedcells_fragments/VIB_10xv1_1.FIXEDCELLS.fragments.tsv.gz\n",
      "2022-12-27 14:17:14,892 cisTopic     INFO     Reading fragments from ../1_data_repository/fixedcells_fragments/EPF_hydrop_4.FIXEDCELLS.fragments.tsv.gz\n",
      "2022-12-27 14:17:42,364 cisTopic     INFO     Reading fragments from ../1_data_repository/fixedcells_fragments/EPF_hydrop_1.FIXEDCELLS.fragments.tsv.gz\n",
      "2022-12-27 14:18:09,027 cisTopic     INFO     Reading fragments from ../1_data_repository/fixedcells_fragments/CNA_10xv11_1.FIXEDCELLS.fragments.tsv.gz\n",
      "2022-12-27 14:18:52,103 cisTopic     INFO     Reading fragments from ../1_data_repository/fixedcells_fragments/CNA_mtscatac_1.FIXEDCELLS.fragments.tsv.gz\n",
      "2022-12-27 14:19:43,016 cisTopic     INFO     Reading fragments from ../1_data_repository/fixedcells_fragments/BIO_ddseq_2.FIXEDCELLS.fragments.tsv.gz\n",
      "2022-12-27 14:20:47,464 cisTopic     INFO     Reading fragments from ../1_data_repository/fixedcells_fragments/CNA_hydrop_1.FIXEDCELLS.fragments.tsv.gz\n",
      "2022-12-27 14:21:12,764 cisTopic     INFO     Reading fragments from ../1_data_repository/fixedcells_fragments/CNA_mtscatac_2.FIXEDCELLS.fragments.tsv.gz\n",
      "2022-12-27 14:21:35,299 cisTopic     INFO     Reading fragments from ../1_data_repository/fixedcells_fragments/TXG_10xv2_1.FIXEDCELLS.fragments.tsv.gz\n",
      "2022-12-27 14:24:24,951 cisTopic     INFO     Reading fragments from ../1_data_repository/fixedcells_fragments/SAN_10xmultiome_1.FIXEDCELLS.fragments.tsv.gz\n",
      "2022-12-27 14:25:43,229 cisTopic     INFO     Reading fragments from ../1_data_repository/fixedcells_fragments/HAR_ddseq_2.FIXEDCELLS.fragments.tsv.gz\n",
      "2022-12-27 14:27:16,944 cisTopic     INFO     Reading fragments from ../1_data_repository/fixedcells_fragments/CNA_10xv2_1.FIXEDCELLS.fragments.tsv.gz\n",
      "2022-12-27 14:28:12,236 cisTopic     INFO     Reading fragments from ../1_data_repository/fixedcells_fragments/EPF_hydrop_2.FIXEDCELLS.fragments.tsv.gz\n",
      "2022-12-27 14:28:37,130 cisTopic     INFO     Reading fragments from ../1_data_repository/fixedcells_fragments/MDC_mtscatac_1.FIXEDCELLS.fragments.tsv.gz\n"
     ]
    },
    {
     "name": "stderr",
     "output_type": "stream",
     "text": [
      "2022-12-27 14:31:01,562\tINFO worker.py:1509 -- Started a local Ray instance. View the dashboard at \u001b[1m\u001b[32mhttp://127.0.0.1:8265 \u001b[39m\u001b[22m\n"
     ]
    },
    {
     "name": "stdout",
     "output_type": "stream",
     "text": [
      "\u001b[2m\u001b[36m(export_pseudobulk_ray pid=2532517)\u001b[0m 2022-12-27 14:31:31,365 cisTopic     INFO     Creating pseudobulk for Bcell\n",
      "\u001b[2m\u001b[36m(export_pseudobulk_ray pid=2532521)\u001b[0m 2022-12-27 14:31:50,638 cisTopic     INFO     Creating pseudobulk for CD14_monocyte\n"
     ]
    },
    {
     "name": "stderr",
     "output_type": "stream",
     "text": [
      "\u001b[2m\u001b[36m(export_pseudobulk_ray pid=2532517)\u001b[0m /tmp/ipykernel_2527417/2558041373.py:272: FutureWarning: The frame.append method is deprecated and will be removed from pandas in a future version. Use pandas.concat instead.\n"
     ]
    },
    {
     "name": "stdout",
     "output_type": "stream",
     "text": [
      "\u001b[2m\u001b[36m(export_pseudobulk_ray pid=2532523)\u001b[0m 2022-12-27 14:32:09,041 cisTopic     INFO     Creating pseudobulk for CD16_monocyte\n"
     ]
    },
    {
     "name": "stderr",
     "output_type": "stream",
     "text": [
      "\u001b[2m\u001b[36m(export_pseudobulk_ray pid=2532521)\u001b[0m /tmp/ipykernel_2527417/2558041373.py:272: FutureWarning: The frame.append method is deprecated and will be removed from pandas in a future version. Use pandas.concat instead.\n"
     ]
    },
    {
     "name": "stdout",
     "output_type": "stream",
     "text": [
      "\u001b[2m\u001b[36m(export_pseudobulk_ray pid=2532514)\u001b[0m 2022-12-27 14:32:27,747 cisTopic     INFO     Creating pseudobulk for CD4_Tcell\n"
     ]
    },
    {
     "name": "stderr",
     "output_type": "stream",
     "text": [
      "\u001b[2m\u001b[36m(export_pseudobulk_ray pid=2532523)\u001b[0m /tmp/ipykernel_2527417/2558041373.py:272: FutureWarning: The frame.append method is deprecated and will be removed from pandas in a future version. Use pandas.concat instead.\n"
     ]
    },
    {
     "name": "stdout",
     "output_type": "stream",
     "text": [
      "\u001b[2m\u001b[36m(export_pseudobulk_ray pid=2532509)\u001b[0m 2022-12-27 14:32:49,101 cisTopic     INFO     Creating pseudobulk for CytotoxicTcell\n"
     ]
    },
    {
     "name": "stderr",
     "output_type": "stream",
     "text": [
      "\u001b[2m\u001b[36m(export_pseudobulk_ray pid=2532514)\u001b[0m /tmp/ipykernel_2527417/2558041373.py:272: FutureWarning: The frame.append method is deprecated and will be removed from pandas in a future version. Use pandas.concat instead.\n"
     ]
    },
    {
     "name": "stdout",
     "output_type": "stream",
     "text": [
      "\u001b[2m\u001b[36m(export_pseudobulk_ray pid=2532515)\u001b[0m 2022-12-27 14:33:06,593 cisTopic     INFO     Creating pseudobulk for Dendriticcell\n"
     ]
    },
    {
     "name": "stderr",
     "output_type": "stream",
     "text": [
      "\u001b[2m\u001b[36m(export_pseudobulk_ray pid=2532509)\u001b[0m /tmp/ipykernel_2527417/2558041373.py:272: FutureWarning: The frame.append method is deprecated and will be removed from pandas in a future version. Use pandas.concat instead.\n"
     ]
    },
    {
     "name": "stdout",
     "output_type": "stream",
     "text": [
      "\u001b[2m\u001b[36m(export_pseudobulk_ray pid=2532513)\u001b[0m 2022-12-27 14:33:25,064 cisTopic     INFO     Creating pseudobulk for Naturalkillercell\n"
     ]
    },
    {
     "name": "stderr",
     "output_type": "stream",
     "text": [
      "\u001b[2m\u001b[36m(export_pseudobulk_ray pid=2532515)\u001b[0m /tmp/ipykernel_2527417/2558041373.py:272: FutureWarning: The frame.append method is deprecated and will be removed from pandas in a future version. Use pandas.concat instead.\n",
      "\u001b[2m\u001b[36m(export_pseudobulk_ray pid=2532513)\u001b[0m /tmp/ipykernel_2527417/2558041373.py:272: FutureWarning: The frame.append method is deprecated and will be removed from pandas in a future version. Use pandas.concat instead.\n"
     ]
    },
    {
     "name": "stdout",
     "output_type": "stream",
     "text": [
      "\u001b[2m\u001b[36m(export_pseudobulk_ray pid=2532515)\u001b[0m 2022-12-27 14:35:17,921 cisTopic     INFO     Dendriticcell done!\n",
      "\u001b[2m\u001b[36m(export_pseudobulk_ray pid=2532523)\u001b[0m 2022-12-27 14:36:10,760 cisTopic     INFO     CD16_monocyte done!\n",
      "\u001b[2m\u001b[36m(export_pseudobulk_ray pid=2532513)\u001b[0m 2022-12-27 14:39:20,890 cisTopic     INFO     Naturalkillercell done!\n",
      "\u001b[2m\u001b[36m(export_pseudobulk_ray pid=2532509)\u001b[0m 2022-12-27 14:45:36,100 cisTopic     INFO     CytotoxicTcell done!\n",
      "\u001b[2m\u001b[36m(export_pseudobulk_ray pid=2532517)\u001b[0m 2022-12-27 14:50:14,895 cisTopic     INFO     Bcell done!\n",
      "\u001b[2m\u001b[36m(export_pseudobulk_ray pid=2532521)\u001b[0m 2022-12-27 14:53:59,706 cisTopic     INFO     CD14_monocyte done!\n"
     ]
    }
   ],
   "source": [
    "# for sample in [\"BRO_mtscatac_1.LIBDS\"]:\n",
    "bw_paths_dict = {}\n",
    "bed_paths_dict = {}\n",
    "\n",
    "import ray\n",
    "\n",
    "if ray.is_initialized():\n",
    "    print(\"Shutting down Ray\")\n",
    "    ray.shutdown()\n",
    "\n",
    "for sample in cto_consensus_path_dict.keys():\n",
    "    supersample = \".\".join(sample.split(\".\")[:2])\n",
    "\n",
    "    bed_path = os.path.join(\n",
    "        \"final_consensus_peaks\", f\"{sample}__SCREEN_pseudobulk_bed_files\"\n",
    "    )\n",
    "    bw_path = os.path.join(\n",
    "        \"final_consensus_peaks\", f\"{sample}__SCREEN_pseudobulk_bw_files\"\n",
    "    )\n",
    "    if not os.path.exists(bed_path):\n",
    "        cto_path = cto_consensus_path_dict[sample]\n",
    "        with open(cto_path, \"rb\") as f:\n",
    "            cto = pickle.load(f)\n",
    "\n",
    "            bw_paths, bed_paths = export_pseudobulk(\n",
    "                input_data=cto,\n",
    "                variable=\"consensus_cell_type\",\n",
    "                sample_id_col=\"sample_id\",\n",
    "                chromsizes=chromsizes,\n",
    "                bed_path=bed_path,\n",
    "                bigwig_path=bw_path,\n",
    "                path_to_fragments=fragments_path_dict[supersample],\n",
    "                n_cpu=16,\n",
    "                normalize_bigwig=True,\n",
    "                remove_duplicates=True,\n",
    "            )\n",
    "\n",
    "            if ray.is_initialized():\n",
    "                print(\"Shutting down Ray\")\n",
    "                ray.shutdown()\n",
    "    else:\n",
    "        print(f\"{bed_path} exists, skipping...\")"
   ]
  },
  {
   "cell_type": "markdown",
   "id": "fbe3ad9f-8732-4d45-b057-4a8bbf6e9cd9",
   "metadata": {},
   "source": [
    "# write per tech pseudobulk"
   ]
  },
  {
   "cell_type": "code",
   "execution_count": 7,
   "id": "b3e79fa8-d1af-4128-a0a5-c6f95ce6de1f",
   "metadata": {
    "execution": {
     "iopub.execute_input": "2023-01-02T12:25:31.134396Z",
     "iopub.status.busy": "2023-01-02T12:25:31.134198Z",
     "iopub.status.idle": "2023-01-02T12:25:31.140679Z",
     "shell.execute_reply": "2023-01-02T12:25:31.139713Z",
     "shell.execute_reply.started": "2023-01-02T12:25:31.134378Z"
    },
    "tags": []
   },
   "outputs": [
    {
     "data": {
      "text/plain": [
       "{'master_sub_1.FIXEDCELLS': 'cistopic_objects/master_sub_1.FIXEDCELLS__cto.scrublet0-4.fmx.singlets.model_20topics.dimreduc.consensus.pkl'}"
      ]
     },
     "execution_count": 7,
     "metadata": {},
     "output_type": "execute_result"
    }
   ],
   "source": [
    "cto_consensus_path_dict"
   ]
  },
  {
   "cell_type": "code",
   "execution_count": null,
   "id": "19128448-01e1-4cdc-9727-426feaed8d89",
   "metadata": {
    "execution": {
     "iopub.execute_input": "2023-01-01T19:12:02.551803Z",
     "iopub.status.busy": "2023-01-01T19:12:02.550897Z"
    }
   },
   "outputs": [
    {
     "name": "stdout",
     "output_type": "stream",
     "text": [
      "2023-01-01 20:12:10,692 cisTopic     INFO     Reading fragments from ../1_data_repository/fixedcells_fragments/OHS_s3atac_2.FIXEDCELLS.fragments.tsv.gz\n",
      "2023-01-01 20:13:01,237 cisTopic     INFO     Reading fragments from ../1_data_repository/fixedcells_fragments/SAN_10xmultiome_2.FIXEDCELLS.fragments.tsv.gz\n",
      "2023-01-01 20:14:45,969 cisTopic     INFO     Reading fragments from ../1_data_repository/fixedcells_fragments/OHS_s3atac_1.FIXEDCELLS.fragments.tsv.gz\n",
      "2023-01-01 20:15:53,996 cisTopic     INFO     Reading fragments from ../1_data_repository/fixedcells_fragments/TXG_10xv11_1.FIXEDCELLS.fragments.tsv.gz\n",
      "2023-01-01 20:19:05,060 cisTopic     INFO     Reading fragments from ../1_data_repository/fixedcells_fragments/CNA_10xv11_5.FIXEDCELLS.fragments.tsv.gz\n",
      "2023-01-01 20:19:23,949 cisTopic     INFO     Reading fragments from ../1_data_repository/fixedcells_fragments/STA_10xv11_1.FIXEDCELLS.fragments.tsv.gz\n",
      "2023-01-01 20:19:45,912 cisTopic     INFO     Reading fragments from ../1_data_repository/fixedcells_fragments/CNA_hydrop_2.FIXEDCELLS.fragments.tsv.gz\n",
      "2023-01-01 20:20:15,949 cisTopic     INFO     Reading fragments from ../1_data_repository/fixedcells_fragments/CNA_10xv2_2.FIXEDCELLS.fragments.tsv.gz\n",
      "2023-01-01 20:21:37,513 cisTopic     INFO     Reading fragments from ../1_data_repository/fixedcells_fragments/VIB_hydrop_2.FIXEDCELLS.fragments.tsv.gz\n",
      "2023-01-01 20:22:11,021 cisTopic     INFO     Reading fragments from ../1_data_repository/fixedcells_fragments/STA_10xv11_2.FIXEDCELLS.fragments.tsv.gz\n",
      "2023-01-01 20:22:41,888 cisTopic     INFO     Reading fragments from ../1_data_repository/fixedcells_fragments/VIB_10xmultiome_1.FIXEDCELLS.fragments.tsv.gz\n",
      "2023-01-01 20:23:02,638 cisTopic     INFO     Reading fragments from ../1_data_repository/fixedcells_fragments/VIB_hydrop_1.FIXEDCELLS.fragments.tsv.gz\n",
      "2023-01-01 20:23:30,508 cisTopic     INFO     Reading fragments from ../1_data_repository/fixedcells_fragments/EPF_hydrop_3.FIXEDCELLS.fragments.tsv.gz\n",
      "2023-01-01 20:23:56,102 cisTopic     INFO     Reading fragments from ../1_data_repository/fixedcells_fragments/VIB_10xv2_1.FIXEDCELLS.fragments.tsv.gz\n",
      "2023-01-01 20:24:52,496 cisTopic     INFO     Reading fragments from ../1_data_repository/fixedcells_fragments/UCS_ddseq_2.FIXEDCELLS.fragments.tsv.gz\n",
      "2023-01-01 20:26:32,587 cisTopic     INFO     Reading fragments from ../1_data_repository/fixedcells_fragments/HAR_ddseq_1.FIXEDCELLS.fragments.tsv.gz\n",
      "2023-01-01 20:28:11,253 cisTopic     INFO     Reading fragments from ../1_data_repository/fixedcells_fragments/CNA_10xv11_2.FIXEDCELLS.fragments.tsv.gz\n",
      "2023-01-01 20:28:55,910 cisTopic     INFO     Reading fragments from ../1_data_repository/fixedcells_fragments/UCS_ddseq_1.FIXEDCELLS.fragments.tsv.gz\n",
      "2023-01-01 20:30:50,246 cisTopic     INFO     Reading fragments from ../1_data_repository/fixedcells_fragments/CNA_10xmultiome_2.FIXEDCELLS.fragments.tsv.gz\n",
      "2023-01-01 20:31:51,541 cisTopic     INFO     Reading fragments from ../1_data_repository/fixedcells_fragments/TXG_10xv2_2.FIXEDCELLS.fragments.tsv.gz\n",
      "2023-01-01 20:34:49,037 cisTopic     INFO     Reading fragments from ../1_data_repository/fixedcells_fragments/VIB_10xmultiome_2.FIXEDCELLS.fragments.tsv.gz\n",
      "2023-01-01 20:35:23,518 cisTopic     INFO     Reading fragments from ../1_data_repository/fixedcells_fragments/BIO_ddseq_1.FIXEDCELLS.fragments.tsv.gz\n",
      "2023-01-01 20:36:54,240 cisTopic     INFO     Reading fragments from ../1_data_repository/fixedcells_fragments/VIB_10xv2_2.FIXEDCELLS.fragments.tsv.gz\n",
      "2023-01-01 20:37:49,081 cisTopic     INFO     Reading fragments from ../1_data_repository/fixedcells_fragments/BIO_ddseq_4.FIXEDCELLS.fragments.tsv.gz\n",
      "2023-01-01 20:38:36,301 cisTopic     INFO     Reading fragments from ../1_data_repository/fixedcells_fragments/BIO_ddseq_3.FIXEDCELLS.fragments.tsv.gz\n",
      "2023-01-01 20:39:20,903 cisTopic     INFO     Reading fragments from ../1_data_repository/fixedcells_fragments/CNA_10xv11_4.FIXEDCELLS.fragments.tsv.gz\n",
      "2023-01-01 20:39:34,914 cisTopic     INFO     Reading fragments from ../1_data_repository/fixedcells_fragments/MDC_mtscatac_2.FIXEDCELLS.fragments.tsv.gz\n",
      "2023-01-01 20:41:04,635 cisTopic     INFO     Reading fragments from ../1_data_repository/fixedcells_fragments/CNA_hydrop_3.FIXEDCELLS.fragments.tsv.gz\n",
      "2023-01-01 20:41:30,750 cisTopic     INFO     Reading fragments from ../1_data_repository/fixedcells_fragments/BRO_mtscatac_2.FIXEDCELLS.fragments.tsv.gz\n",
      "2023-01-01 20:42:20,422 cisTopic     INFO     Reading fragments from ../1_data_repository/fixedcells_fragments/BRO_mtscatac_1.FIXEDCELLS.fragments.tsv.gz\n",
      "2023-01-01 20:43:15,089 cisTopic     INFO     Reading fragments from ../1_data_repository/fixedcells_fragments/CNA_10xmultiome_1.FIXEDCELLS.fragments.tsv.gz\n",
      "2023-01-01 20:44:11,951 cisTopic     INFO     Reading fragments from ../1_data_repository/fixedcells_fragments/VIB_10xv1_2.FIXEDCELLS.fragments.tsv.gz\n",
      "2023-01-01 20:47:24,555 cisTopic     INFO     Reading fragments from ../1_data_repository/fixedcells_fragments/CNA_10xv11_3.FIXEDCELLS.fragments.tsv.gz\n",
      "2023-01-01 20:48:48,689 cisTopic     INFO     Reading fragments from ../1_data_repository/fixedcells_fragments/VIB_10xv1_1.FIXEDCELLS.fragments.tsv.gz\n",
      "2023-01-01 20:49:47,888 cisTopic     INFO     Reading fragments from ../1_data_repository/fixedcells_fragments/EPF_hydrop_4.FIXEDCELLS.fragments.tsv.gz\n",
      "2023-01-01 20:50:15,607 cisTopic     INFO     Reading fragments from ../1_data_repository/fixedcells_fragments/EPF_hydrop_1.FIXEDCELLS.fragments.tsv.gz\n",
      "2023-01-01 20:50:42,165 cisTopic     INFO     Reading fragments from ../1_data_repository/fixedcells_fragments/CNA_10xv11_1.FIXEDCELLS.fragments.tsv.gz\n",
      "2023-01-01 20:51:27,228 cisTopic     INFO     Reading fragments from ../1_data_repository/fixedcells_fragments/CNA_mtscatac_1.FIXEDCELLS.fragments.tsv.gz\n",
      "2023-01-01 20:52:20,792 cisTopic     INFO     Reading fragments from ../1_data_repository/fixedcells_fragments/BIO_ddseq_2.FIXEDCELLS.fragments.tsv.gz\n",
      "2023-01-01 20:53:31,582 cisTopic     INFO     Reading fragments from ../1_data_repository/fixedcells_fragments/CNA_hydrop_1.FIXEDCELLS.fragments.tsv.gz\n",
      "2023-01-01 20:53:58,415 cisTopic     INFO     Reading fragments from ../1_data_repository/fixedcells_fragments/CNA_mtscatac_2.FIXEDCELLS.fragments.tsv.gz\n",
      "2023-01-01 20:54:22,983 cisTopic     INFO     Reading fragments from ../1_data_repository/fixedcells_fragments/TXG_10xv2_1.FIXEDCELLS.fragments.tsv.gz\n",
      "2023-01-01 20:57:26,714 cisTopic     INFO     Reading fragments from ../1_data_repository/fixedcells_fragments/SAN_10xmultiome_1.FIXEDCELLS.fragments.tsv.gz\n",
      "2023-01-01 20:58:46,661 cisTopic     INFO     Reading fragments from ../1_data_repository/fixedcells_fragments/HAR_ddseq_2.FIXEDCELLS.fragments.tsv.gz\n",
      "2023-01-01 21:00:28,844 cisTopic     INFO     Reading fragments from ../1_data_repository/fixedcells_fragments/CNA_10xv2_1.FIXEDCELLS.fragments.tsv.gz\n",
      "2023-01-01 21:01:25,398 cisTopic     INFO     Reading fragments from ../1_data_repository/fixedcells_fragments/EPF_hydrop_2.FIXEDCELLS.fragments.tsv.gz\n",
      "2023-01-01 21:01:51,228 cisTopic     INFO     Reading fragments from ../1_data_repository/fixedcells_fragments/MDC_mtscatac_1.FIXEDCELLS.fragments.tsv.gz\n"
     ]
    },
    {
     "name": "stderr",
     "output_type": "stream",
     "text": [
      "2023-01-01 21:04:16,261\tINFO worker.py:1509 -- Started a local Ray instance. View the dashboard at \u001b[1m\u001b[32mhttp://127.0.0.1:8265 \u001b[39m\u001b[22m\n"
     ]
    },
    {
     "name": "stdout",
     "output_type": "stream",
     "text": [
      "\u001b[2m\u001b[36m(export_pseudobulk_ray pid=3293102)\u001b[0m 2023-01-01 21:04:44,624 cisTopic     INFO     Creating pseudobulk for 10xmultiome\n"
     ]
    },
    {
     "name": "stderr",
     "output_type": "stream",
     "text": [
      "\u001b[2m\u001b[36m(export_pseudobulk_ray pid=3293102)\u001b[0m /tmp/ipykernel_3282165/2558041373.py:272: FutureWarning: The frame.append method is deprecated and will be removed from pandas in a future version. Use pandas.concat instead.\n"
     ]
    },
    {
     "name": "stdout",
     "output_type": "stream",
     "text": [
      "\u001b[2m\u001b[36m(export_pseudobulk_ray pid=3293099)\u001b[0m 2023-01-01 21:05:04,280 cisTopic     INFO     Creating pseudobulk for 10xv1\n"
     ]
    },
    {
     "name": "stderr",
     "output_type": "stream",
     "text": [
      "\u001b[2m\u001b[36m(export_pseudobulk_ray pid=3293099)\u001b[0m /tmp/ipykernel_3282165/2558041373.py:272: FutureWarning: The frame.append method is deprecated and will be removed from pandas in a future version. Use pandas.concat instead.\n"
     ]
    },
    {
     "name": "stdout",
     "output_type": "stream",
     "text": [
      "\u001b[2m\u001b[36m(export_pseudobulk_ray pid=3293107)\u001b[0m 2023-01-01 21:05:21,826 cisTopic     INFO     Creating pseudobulk for 10xv11\n"
     ]
    },
    {
     "name": "stderr",
     "output_type": "stream",
     "text": [
      "\u001b[2m\u001b[36m(export_pseudobulk_ray pid=3293107)\u001b[0m /tmp/ipykernel_3282165/2558041373.py:272: FutureWarning: The frame.append method is deprecated and will be removed from pandas in a future version. Use pandas.concat instead.\n"
     ]
    },
    {
     "name": "stdout",
     "output_type": "stream",
     "text": [
      "\u001b[2m\u001b[36m(export_pseudobulk_ray pid=3293109)\u001b[0m 2023-01-01 21:05:42,767 cisTopic     INFO     Creating pseudobulk for 10xv2\n"
     ]
    },
    {
     "name": "stderr",
     "output_type": "stream",
     "text": [
      "\u001b[2m\u001b[36m(export_pseudobulk_ray pid=3293109)\u001b[0m /tmp/ipykernel_3282165/2558041373.py:272: FutureWarning: The frame.append method is deprecated and will be removed from pandas in a future version. Use pandas.concat instead.\n"
     ]
    },
    {
     "name": "stdout",
     "output_type": "stream",
     "text": [
      "\u001b[2m\u001b[36m(export_pseudobulk_ray pid=3293108)\u001b[0m 2023-01-01 21:05:59,621 cisTopic     INFO     Creating pseudobulk for ddseq\n"
     ]
    },
    {
     "name": "stderr",
     "output_type": "stream",
     "text": [
      "\u001b[2m\u001b[36m(export_pseudobulk_ray pid=3293108)\u001b[0m /tmp/ipykernel_3282165/2558041373.py:272: FutureWarning: The frame.append method is deprecated and will be removed from pandas in a future version. Use pandas.concat instead.\n"
     ]
    },
    {
     "name": "stdout",
     "output_type": "stream",
     "text": [
      "\u001b[2m\u001b[36m(export_pseudobulk_ray pid=3293110)\u001b[0m 2023-01-01 21:06:17,613 cisTopic     INFO     Creating pseudobulk for hydrop\n"
     ]
    },
    {
     "name": "stderr",
     "output_type": "stream",
     "text": [
      "\u001b[2m\u001b[36m(export_pseudobulk_ray pid=3293110)\u001b[0m /tmp/ipykernel_3282165/2558041373.py:272: FutureWarning: The frame.append method is deprecated and will be removed from pandas in a future version. Use pandas.concat instead.\n"
     ]
    },
    {
     "name": "stdout",
     "output_type": "stream",
     "text": [
      "\u001b[2m\u001b[36m(export_pseudobulk_ray pid=3293111)\u001b[0m 2023-01-01 21:06:36,898 cisTopic     INFO     Creating pseudobulk for mtscatac\n"
     ]
    },
    {
     "name": "stderr",
     "output_type": "stream",
     "text": [
      "\u001b[2m\u001b[36m(export_pseudobulk_ray pid=3293111)\u001b[0m /tmp/ipykernel_3282165/2558041373.py:272: FutureWarning: The frame.append method is deprecated and will be removed from pandas in a future version. Use pandas.concat instead.\n"
     ]
    },
    {
     "name": "stdout",
     "output_type": "stream",
     "text": [
      "\u001b[2m\u001b[36m(export_pseudobulk_ray pid=3293097)\u001b[0m 2023-01-01 21:06:54,230 cisTopic     INFO     Creating pseudobulk for s3atac\n"
     ]
    },
    {
     "name": "stderr",
     "output_type": "stream",
     "text": [
      "\u001b[2m\u001b[36m(export_pseudobulk_ray pid=3293097)\u001b[0m /tmp/ipykernel_3282165/2558041373.py:272: FutureWarning: The frame.append method is deprecated and will be removed from pandas in a future version. Use pandas.concat instead.\n"
     ]
    },
    {
     "name": "stdout",
     "output_type": "stream",
     "text": [
      "\u001b[2m\u001b[36m(export_pseudobulk_ray pid=3293110)\u001b[0m 2023-01-01 21:11:12,218 cisTopic     INFO     hydrop done!\n",
      "\u001b[2m\u001b[36m(export_pseudobulk_ray pid=3293102)\u001b[0m 2023-01-01 21:17:30,949 cisTopic     INFO     10xmultiome done!\n"
     ]
    }
   ],
   "source": [
    "# for sample in [\"BRO_mtscatac_1.LIBDS\"]:\n",
    "bw_paths_dict = {}\n",
    "bed_paths_dict = {}\n",
    "\n",
    "import ray\n",
    "\n",
    "if ray.is_initialized():\n",
    "    print(\"Shutting down Ray\")\n",
    "    ray.shutdown()\n",
    "\n",
    "for sample in cto_consensus_path_dict.keys():\n",
    "    supersample = \".\".join(sample.split(\".\")[:2])\n",
    "\n",
    "    bed_path = os.path.join(\n",
    "        \"per_tech_bigwigs\", f\"{sample}__CONSENSUS_pseudobulk_bed_files\"\n",
    "    )\n",
    "    bw_path = os.path.join(\n",
    "        \"per_tech_bigwigs\", f\"{sample}__CONSENSUS_pseudobulk_bw_files\"\n",
    "    )\n",
    "    if not os.path.exists(bed_path):\n",
    "        cto_path = cto_consensus_path_dict[sample]\n",
    "        with open(cto_path, \"rb\") as f:\n",
    "            cto = pickle.load(f)\n",
    "\n",
    "            bw_paths, bed_paths = export_pseudobulk(\n",
    "                input_data=cto,\n",
    "                variable=\"tech\",\n",
    "                sample_id_col=\"sample_id\",\n",
    "                chromsizes=chromsizes,\n",
    "                bed_path=bed_path,\n",
    "                bigwig_path=bw_path,\n",
    "                path_to_fragments=fragments_path_dict[supersample],\n",
    "                n_cpu=16,\n",
    "                normalize_bigwig=True,\n",
    "                remove_duplicates=True,\n",
    "            )\n",
    "\n",
    "            if ray.is_initialized():\n",
    "                print(\"Shutting down Ray\")\n",
    "                ray.shutdown()\n",
    "    else:\n",
    "        print(f\"{bed_path} exists, skipping...\")"
   ]
  },
  {
   "cell_type": "markdown",
   "id": "388673e2-b19f-499a-ae2b-4e49b039c2b4",
   "metadata": {},
   "source": [
    "# write per tech-cell type pseudobulk"
   ]
  },
  {
   "cell_type": "code",
   "execution_count": 7,
   "id": "93da1389-8d92-4307-a418-030a60059b1d",
   "metadata": {
    "execution": {
     "iopub.execute_input": "2023-01-02T12:31:51.303289Z",
     "iopub.status.busy": "2023-01-02T12:31:51.302495Z",
     "iopub.status.idle": "2023-01-02T14:40:20.134195Z",
     "shell.execute_reply": "2023-01-02T14:40:20.132945Z",
     "shell.execute_reply.started": "2023-01-02T12:31:51.303234Z"
    },
    "tags": []
   },
   "outputs": [
    {
     "name": "stdout",
     "output_type": "stream",
     "text": [
      "2023-01-02 13:31:52,660 cisTopic     INFO     Reading fragments from ../1_data_repository/fixedcells_fragments/OHS_s3atac_2.FIXEDCELLS.fragments.tsv.gz\n",
      "2023-01-02 13:32:40,237 cisTopic     INFO     Reading fragments from ../1_data_repository/fixedcells_fragments/SAN_10xmultiome_2.FIXEDCELLS.fragments.tsv.gz\n",
      "2023-01-02 13:34:20,990 cisTopic     INFO     Reading fragments from ../1_data_repository/fixedcells_fragments/OHS_s3atac_1.FIXEDCELLS.fragments.tsv.gz\n",
      "2023-01-02 13:35:26,649 cisTopic     INFO     Reading fragments from ../1_data_repository/fixedcells_fragments/TXG_10xv11_1.FIXEDCELLS.fragments.tsv.gz\n",
      "2023-01-02 13:38:32,516 cisTopic     INFO     Reading fragments from ../1_data_repository/fixedcells_fragments/CNA_10xv11_5.FIXEDCELLS.fragments.tsv.gz\n",
      "2023-01-02 13:38:51,712 cisTopic     INFO     Reading fragments from ../1_data_repository/fixedcells_fragments/STA_10xv11_1.FIXEDCELLS.fragments.tsv.gz\n",
      "2023-01-02 13:39:13,318 cisTopic     INFO     Reading fragments from ../1_data_repository/fixedcells_fragments/CNA_hydrop_2.FIXEDCELLS.fragments.tsv.gz\n",
      "2023-01-02 13:39:43,360 cisTopic     INFO     Reading fragments from ../1_data_repository/fixedcells_fragments/CNA_10xv2_2.FIXEDCELLS.fragments.tsv.gz\n",
      "2023-01-02 13:41:02,797 cisTopic     INFO     Reading fragments from ../1_data_repository/fixedcells_fragments/VIB_hydrop_2.FIXEDCELLS.fragments.tsv.gz\n",
      "2023-01-02 13:41:35,869 cisTopic     INFO     Reading fragments from ../1_data_repository/fixedcells_fragments/STA_10xv11_2.FIXEDCELLS.fragments.tsv.gz\n",
      "2023-01-02 13:42:07,055 cisTopic     INFO     Reading fragments from ../1_data_repository/fixedcells_fragments/VIB_10xmultiome_1.FIXEDCELLS.fragments.tsv.gz\n",
      "2023-01-02 13:42:28,114 cisTopic     INFO     Reading fragments from ../1_data_repository/fixedcells_fragments/VIB_hydrop_1.FIXEDCELLS.fragments.tsv.gz\n",
      "2023-01-02 13:42:54,551 cisTopic     INFO     Reading fragments from ../1_data_repository/fixedcells_fragments/EPF_hydrop_3.FIXEDCELLS.fragments.tsv.gz\n",
      "2023-01-02 13:43:19,655 cisTopic     INFO     Reading fragments from ../1_data_repository/fixedcells_fragments/VIB_10xv2_1.FIXEDCELLS.fragments.tsv.gz\n",
      "2023-01-02 13:44:11,782 cisTopic     INFO     Reading fragments from ../1_data_repository/fixedcells_fragments/UCS_ddseq_2.FIXEDCELLS.fragments.tsv.gz\n",
      "2023-01-02 13:45:42,805 cisTopic     INFO     Reading fragments from ../1_data_repository/fixedcells_fragments/HAR_ddseq_1.FIXEDCELLS.fragments.tsv.gz\n",
      "2023-01-02 13:47:11,651 cisTopic     INFO     Reading fragments from ../1_data_repository/fixedcells_fragments/CNA_10xv11_2.FIXEDCELLS.fragments.tsv.gz\n",
      "2023-01-02 13:47:53,660 cisTopic     INFO     Reading fragments from ../1_data_repository/fixedcells_fragments/UCS_ddseq_1.FIXEDCELLS.fragments.tsv.gz\n",
      "2023-01-02 13:49:40,082 cisTopic     INFO     Reading fragments from ../1_data_repository/fixedcells_fragments/CNA_10xmultiome_2.FIXEDCELLS.fragments.tsv.gz\n",
      "2023-01-02 13:50:45,116 cisTopic     INFO     Reading fragments from ../1_data_repository/fixedcells_fragments/TXG_10xv2_2.FIXEDCELLS.fragments.tsv.gz\n",
      "2023-01-02 13:53:33,984 cisTopic     INFO     Reading fragments from ../1_data_repository/fixedcells_fragments/VIB_10xmultiome_2.FIXEDCELLS.fragments.tsv.gz\n",
      "2023-01-02 13:54:07,074 cisTopic     INFO     Reading fragments from ../1_data_repository/fixedcells_fragments/BIO_ddseq_1.FIXEDCELLS.fragments.tsv.gz\n",
      "2023-01-02 13:55:38,484 cisTopic     INFO     Reading fragments from ../1_data_repository/fixedcells_fragments/VIB_10xv2_2.FIXEDCELLS.fragments.tsv.gz\n",
      "2023-01-02 13:56:35,989 cisTopic     INFO     Reading fragments from ../1_data_repository/fixedcells_fragments/BIO_ddseq_4.FIXEDCELLS.fragments.tsv.gz\n",
      "2023-01-02 13:57:23,234 cisTopic     INFO     Reading fragments from ../1_data_repository/fixedcells_fragments/BIO_ddseq_3.FIXEDCELLS.fragments.tsv.gz\n",
      "2023-01-02 13:58:09,009 cisTopic     INFO     Reading fragments from ../1_data_repository/fixedcells_fragments/CNA_10xv11_4.FIXEDCELLS.fragments.tsv.gz\n",
      "2023-01-02 13:58:23,290 cisTopic     INFO     Reading fragments from ../1_data_repository/fixedcells_fragments/MDC_mtscatac_2.FIXEDCELLS.fragments.tsv.gz\n",
      "2023-01-02 13:59:56,560 cisTopic     INFO     Reading fragments from ../1_data_repository/fixedcells_fragments/CNA_hydrop_3.FIXEDCELLS.fragments.tsv.gz\n",
      "2023-01-02 14:00:22,312 cisTopic     INFO     Reading fragments from ../1_data_repository/fixedcells_fragments/BRO_mtscatac_2.FIXEDCELLS.fragments.tsv.gz\n",
      "2023-01-02 14:01:10,776 cisTopic     INFO     Reading fragments from ../1_data_repository/fixedcells_fragments/BRO_mtscatac_1.FIXEDCELLS.fragments.tsv.gz\n",
      "2023-01-02 14:02:02,564 cisTopic     INFO     Reading fragments from ../1_data_repository/fixedcells_fragments/CNA_10xmultiome_1.FIXEDCELLS.fragments.tsv.gz\n",
      "2023-01-02 14:02:56,117 cisTopic     INFO     Reading fragments from ../1_data_repository/fixedcells_fragments/VIB_10xv1_2.FIXEDCELLS.fragments.tsv.gz\n",
      "2023-01-02 14:06:07,399 cisTopic     INFO     Reading fragments from ../1_data_repository/fixedcells_fragments/CNA_10xv11_3.FIXEDCELLS.fragments.tsv.gz\n",
      "2023-01-02 14:07:25,837 cisTopic     INFO     Reading fragments from ../1_data_repository/fixedcells_fragments/VIB_10xv1_1.FIXEDCELLS.fragments.tsv.gz\n",
      "2023-01-02 14:08:23,268 cisTopic     INFO     Reading fragments from ../1_data_repository/fixedcells_fragments/EPF_hydrop_4.FIXEDCELLS.fragments.tsv.gz\n",
      "2023-01-02 14:08:49,866 cisTopic     INFO     Reading fragments from ../1_data_repository/fixedcells_fragments/EPF_hydrop_1.FIXEDCELLS.fragments.tsv.gz\n",
      "2023-01-02 14:09:15,273 cisTopic     INFO     Reading fragments from ../1_data_repository/fixedcells_fragments/CNA_10xv11_1.FIXEDCELLS.fragments.tsv.gz\n",
      "2023-01-02 14:09:57,442 cisTopic     INFO     Reading fragments from ../1_data_repository/fixedcells_fragments/CNA_mtscatac_1.FIXEDCELLS.fragments.tsv.gz\n",
      "2023-01-02 14:10:48,611 cisTopic     INFO     Reading fragments from ../1_data_repository/fixedcells_fragments/BIO_ddseq_2.FIXEDCELLS.fragments.tsv.gz\n",
      "2023-01-02 14:11:52,450 cisTopic     INFO     Reading fragments from ../1_data_repository/fixedcells_fragments/CNA_hydrop_1.FIXEDCELLS.fragments.tsv.gz\n",
      "2023-01-02 14:12:18,290 cisTopic     INFO     Reading fragments from ../1_data_repository/fixedcells_fragments/CNA_mtscatac_2.FIXEDCELLS.fragments.tsv.gz\n",
      "2023-01-02 14:12:40,703 cisTopic     INFO     Reading fragments from ../1_data_repository/fixedcells_fragments/TXG_10xv2_1.FIXEDCELLS.fragments.tsv.gz\n",
      "2023-01-02 14:15:28,857 cisTopic     INFO     Reading fragments from ../1_data_repository/fixedcells_fragments/SAN_10xmultiome_1.FIXEDCELLS.fragments.tsv.gz\n",
      "2023-01-02 14:16:46,606 cisTopic     INFO     Reading fragments from ../1_data_repository/fixedcells_fragments/HAR_ddseq_2.FIXEDCELLS.fragments.tsv.gz\n",
      "2023-01-02 14:18:16,627 cisTopic     INFO     Reading fragments from ../1_data_repository/fixedcells_fragments/CNA_10xv2_1.FIXEDCELLS.fragments.tsv.gz\n",
      "2023-01-02 14:19:10,069 cisTopic     INFO     Reading fragments from ../1_data_repository/fixedcells_fragments/EPF_hydrop_2.FIXEDCELLS.fragments.tsv.gz\n",
      "2023-01-02 14:19:35,034 cisTopic     INFO     Reading fragments from ../1_data_repository/fixedcells_fragments/MDC_mtscatac_1.FIXEDCELLS.fragments.tsv.gz\n"
     ]
    },
    {
     "name": "stderr",
     "output_type": "stream",
     "text": [
      "2023-01-02 14:22:00,038\tINFO worker.py:1509 -- Started a local Ray instance. View the dashboard at \u001b[1m\u001b[32mhttp://127.0.0.1:8265 \u001b[39m\u001b[22m\n"
     ]
    },
    {
     "name": "stdout",
     "output_type": "stream",
     "text": [
      "\u001b[2m\u001b[36m(export_pseudobulk_ray pid=3531939)\u001b[0m 2023-01-02 14:22:29,295 cisTopic     INFO     Creating pseudobulk for 10xmultiome_B_cell\n"
     ]
    },
    {
     "name": "stderr",
     "output_type": "stream",
     "text": [
      "\u001b[2m\u001b[36m(export_pseudobulk_ray pid=3531939)\u001b[0m /tmp/ipykernel_3524960/2558041373.py:272: FutureWarning: The frame.append method is deprecated and will be removed from pandas in a future version. Use pandas.concat instead.\n"
     ]
    },
    {
     "name": "stdout",
     "output_type": "stream",
     "text": [
      "\u001b[2m\u001b[36m(export_pseudobulk_ray pid=3531931)\u001b[0m 2023-01-02 14:22:47,766 cisTopic     INFO     Creating pseudobulk for 10xmultiome_CD14_monocyte\n"
     ]
    },
    {
     "name": "stderr",
     "output_type": "stream",
     "text": [
      "\u001b[2m\u001b[36m(export_pseudobulk_ray pid=3531931)\u001b[0m /tmp/ipykernel_3524960/2558041373.py:272: FutureWarning: The frame.append method is deprecated and will be removed from pandas in a future version. Use pandas.concat instead.\n"
     ]
    },
    {
     "name": "stdout",
     "output_type": "stream",
     "text": [
      "\u001b[2m\u001b[36m(export_pseudobulk_ray pid=3531934)\u001b[0m 2023-01-02 14:23:07,435 cisTopic     INFO     Creating pseudobulk for 10xmultiome_CD16_monocyte\n"
     ]
    },
    {
     "name": "stderr",
     "output_type": "stream",
     "text": [
      "\u001b[2m\u001b[36m(export_pseudobulk_ray pid=3531934)\u001b[0m /tmp/ipykernel_3524960/2558041373.py:272: FutureWarning: The frame.append method is deprecated and will be removed from pandas in a future version. Use pandas.concat instead.\n"
     ]
    },
    {
     "name": "stdout",
     "output_type": "stream",
     "text": [
      "\u001b[2m\u001b[36m(export_pseudobulk_ray pid=3531938)\u001b[0m 2023-01-02 14:23:32,781 cisTopic     INFO     Creating pseudobulk for 10xmultiome_CD4_T_cell\n",
      "\u001b[2m\u001b[36m(export_pseudobulk_ray pid=3531939)\u001b[0m 2023-01-02 14:23:45,466 cisTopic     INFO     10xmultiome_B_cell done!\n"
     ]
    },
    {
     "name": "stderr",
     "output_type": "stream",
     "text": [
      "\u001b[2m\u001b[36m(export_pseudobulk_ray pid=3531938)\u001b[0m /tmp/ipykernel_3524960/2558041373.py:272: FutureWarning: The frame.append method is deprecated and will be removed from pandas in a future version. Use pandas.concat instead.\n"
     ]
    },
    {
     "name": "stdout",
     "output_type": "stream",
     "text": [
      "\u001b[2m\u001b[36m(export_pseudobulk_ray pid=3531939)\u001b[0m 2023-01-02 14:23:52,135 cisTopic     INFO     Creating pseudobulk for 10xmultiome_Cytotoxic_T_cell\n",
      "\u001b[2m\u001b[36m(export_pseudobulk_ray pid=3531934)\u001b[0m 2023-01-02 14:23:57,902 cisTopic     INFO     10xmultiome_CD16_monocyte done!\n"
     ]
    },
    {
     "name": "stderr",
     "output_type": "stream",
     "text": [
      "\u001b[2m\u001b[36m(export_pseudobulk_ray pid=3531939)\u001b[0m /tmp/ipykernel_3524960/2558041373.py:272: FutureWarning: The frame.append method is deprecated and will be removed from pandas in a future version. Use pandas.concat instead.\n"
     ]
    },
    {
     "name": "stdout",
     "output_type": "stream",
     "text": [
      "\u001b[2m\u001b[36m(export_pseudobulk_ray pid=3531934)\u001b[0m 2023-01-02 14:24:11,597 cisTopic     INFO     Creating pseudobulk for 10xmultiome_Dendritic_cell\n"
     ]
    },
    {
     "name": "stderr",
     "output_type": "stream",
     "text": [
      "\u001b[2m\u001b[36m(export_pseudobulk_ray pid=3531934)\u001b[0m /tmp/ipykernel_3524960/2558041373.py:272: FutureWarning: The frame.append method is deprecated and will be removed from pandas in a future version. Use pandas.concat instead.\n"
     ]
    },
    {
     "name": "stdout",
     "output_type": "stream",
     "text": [
      "\u001b[2m\u001b[36m(export_pseudobulk_ray pid=3531937)\u001b[0m 2023-01-02 14:24:32,640 cisTopic     INFO     Creating pseudobulk for 10xmultiome_Natural_killer_cell\n",
      "\u001b[2m\u001b[36m(export_pseudobulk_ray pid=3531934)\u001b[0m 2023-01-02 14:24:42,135 cisTopic     INFO     10xmultiome_Dendritic_cell done!\n"
     ]
    },
    {
     "name": "stderr",
     "output_type": "stream",
     "text": [
      "\u001b[2m\u001b[36m(export_pseudobulk_ray pid=3531937)\u001b[0m /tmp/ipykernel_3524960/2558041373.py:272: FutureWarning: The frame.append method is deprecated and will be removed from pandas in a future version. Use pandas.concat instead.\n"
     ]
    },
    {
     "name": "stdout",
     "output_type": "stream",
     "text": [
      "\u001b[2m\u001b[36m(export_pseudobulk_ray pid=3531934)\u001b[0m 2023-01-02 14:24:51,838 cisTopic     INFO     Creating pseudobulk for 10xv11_B_cell\n"
     ]
    },
    {
     "name": "stderr",
     "output_type": "stream",
     "text": [
      "\u001b[2m\u001b[36m(export_pseudobulk_ray pid=3531934)\u001b[0m /tmp/ipykernel_3524960/2558041373.py:272: FutureWarning: The frame.append method is deprecated and will be removed from pandas in a future version. Use pandas.concat instead.\n"
     ]
    },
    {
     "name": "stdout",
     "output_type": "stream",
     "text": [
      "\u001b[2m\u001b[36m(export_pseudobulk_ray pid=3531935)\u001b[0m 2023-01-02 14:25:12,698 cisTopic     INFO     Creating pseudobulk for 10xv11_CD14_monocyte\n"
     ]
    },
    {
     "name": "stderr",
     "output_type": "stream",
     "text": [
      "\u001b[2m\u001b[36m(export_pseudobulk_ray pid=3531935)\u001b[0m /tmp/ipykernel_3524960/2558041373.py:272: FutureWarning: The frame.append method is deprecated and will be removed from pandas in a future version. Use pandas.concat instead.\n"
     ]
    },
    {
     "name": "stdout",
     "output_type": "stream",
     "text": [
      "\u001b[2m\u001b[36m(export_pseudobulk_ray pid=3531936)\u001b[0m 2023-01-02 14:25:31,444 cisTopic     INFO     Creating pseudobulk for 10xv11_CD16_monocyte\n"
     ]
    },
    {
     "name": "stderr",
     "output_type": "stream",
     "text": [
      "\u001b[2m\u001b[36m(export_pseudobulk_ray pid=3531936)\u001b[0m /tmp/ipykernel_3524960/2558041373.py:272: FutureWarning: The frame.append method is deprecated and will be removed from pandas in a future version. Use pandas.concat instead.\n"
     ]
    },
    {
     "name": "stdout",
     "output_type": "stream",
     "text": [
      "\u001b[2m\u001b[36m(export_pseudobulk_ray pid=3531933)\u001b[0m 2023-01-02 14:25:51,013 cisTopic     INFO     Creating pseudobulk for 10xv11_CD4_T_cell\n",
      "\u001b[2m\u001b[36m(export_pseudobulk_ray pid=3531939)\u001b[0m 2023-01-02 14:25:52,984 cisTopic     INFO     10xmultiome_Cytotoxic_T_cell done!\n",
      "\u001b[2m\u001b[36m(export_pseudobulk_ray pid=3531937)\u001b[0m 2023-01-02 14:25:56,979 cisTopic     INFO     10xmultiome_Natural_killer_cell done!\n",
      "\u001b[2m\u001b[36m(export_pseudobulk_ray pid=3531931)\u001b[0m 2023-01-02 14:26:00,739 cisTopic     INFO     10xmultiome_CD14_monocyte done!\n",
      "\u001b[2m\u001b[36m(export_pseudobulk_ray pid=3531934)\u001b[0m 2023-01-02 14:26:04,468 cisTopic     INFO     10xv11_B_cell done!\n"
     ]
    },
    {
     "name": "stderr",
     "output_type": "stream",
     "text": [
      "\u001b[2m\u001b[36m(export_pseudobulk_ray pid=3531933)\u001b[0m /tmp/ipykernel_3524960/2558041373.py:272: FutureWarning: The frame.append method is deprecated and will be removed from pandas in a future version. Use pandas.concat instead.\n"
     ]
    },
    {
     "name": "stdout",
     "output_type": "stream",
     "text": [
      "\u001b[2m\u001b[36m(export_pseudobulk_ray pid=3531931)\u001b[0m 2023-01-02 14:26:08,567 cisTopic     INFO     Creating pseudobulk for 10xv11_Cytotoxic_T_cell\n",
      "\u001b[2m\u001b[36m(export_pseudobulk_ray pid=3531936)\u001b[0m 2023-01-02 14:26:20,099 cisTopic     INFO     10xv11_CD16_monocyte done!\n"
     ]
    },
    {
     "name": "stderr",
     "output_type": "stream",
     "text": [
      "\u001b[2m\u001b[36m(export_pseudobulk_ray pid=3531931)\u001b[0m /tmp/ipykernel_3524960/2558041373.py:272: FutureWarning: The frame.append method is deprecated and will be removed from pandas in a future version. Use pandas.concat instead.\n"
     ]
    },
    {
     "name": "stdout",
     "output_type": "stream",
     "text": [
      "\u001b[2m\u001b[36m(export_pseudobulk_ray pid=3531936)\u001b[0m 2023-01-02 14:26:29,002 cisTopic     INFO     Creating pseudobulk for 10xv11_Dendritic_cell\n"
     ]
    },
    {
     "name": "stderr",
     "output_type": "stream",
     "text": [
      "\u001b[2m\u001b[36m(raylet)\u001b[0m Spilled 12189 MiB, 2 objects, write throughput 848 MiB/s. Set RAY_verbose_spill_logs=0 to disable this message.\n",
      "\u001b[2m\u001b[36m(export_pseudobulk_ray pid=3531936)\u001b[0m /tmp/ipykernel_3524960/2558041373.py:272: FutureWarning: The frame.append method is deprecated and will be removed from pandas in a future version. Use pandas.concat instead.\n"
     ]
    },
    {
     "name": "stdout",
     "output_type": "stream",
     "text": [
      "\u001b[2m\u001b[36m(export_pseudobulk_ray pid=3531934)\u001b[0m 2023-01-02 14:26:47,947 cisTopic     INFO     Creating pseudobulk for 10xv11_Natural_killer_cell\n",
      "\u001b[2m\u001b[36m(export_pseudobulk_ray pid=3531938)\u001b[0m 2023-01-02 14:26:55,346 cisTopic     INFO     10xmultiome_CD4_T_cell done!\n"
     ]
    },
    {
     "name": "stderr",
     "output_type": "stream",
     "text": [
      "\u001b[2m\u001b[36m(raylet)\u001b[0m Spilled 24379 MiB, 4 objects, write throughput 856 MiB/s.\n",
      "\u001b[2m\u001b[36m(export_pseudobulk_ray pid=3531934)\u001b[0m /tmp/ipykernel_3524960/2558041373.py:272: FutureWarning: The frame.append method is deprecated and will be removed from pandas in a future version. Use pandas.concat instead.\n"
     ]
    },
    {
     "name": "stdout",
     "output_type": "stream",
     "text": [
      "\u001b[2m\u001b[36m(export_pseudobulk_ray pid=3531938)\u001b[0m 2023-01-02 14:27:06,077 cisTopic     INFO     Creating pseudobulk for 10xv1_B_cell\n",
      "\u001b[2m\u001b[36m(export_pseudobulk_ray pid=3531936)\u001b[0m 2023-01-02 14:27:07,180 cisTopic     INFO     10xv11_Dendritic_cell done!\n"
     ]
    },
    {
     "name": "stderr",
     "output_type": "stream",
     "text": [
      "\u001b[2m\u001b[36m(raylet)\u001b[0m Spilled 36569 MiB, 6 objects, write throughput 864 MiB/s.\n",
      "\u001b[2m\u001b[36m(export_pseudobulk_ray pid=3531938)\u001b[0m /tmp/ipykernel_3524960/2558041373.py:272: FutureWarning: The frame.append method is deprecated and will be removed from pandas in a future version. Use pandas.concat instead.\n"
     ]
    },
    {
     "name": "stdout",
     "output_type": "stream",
     "text": [
      "\u001b[2m\u001b[36m(export_pseudobulk_ray pid=3531931)\u001b[0m 2023-01-02 14:28:02,902 cisTopic     INFO     10xv11_Cytotoxic_T_cell done!\n",
      "\u001b[2m\u001b[36m(export_pseudobulk_ray pid=3531934)\u001b[0m 2023-01-02 14:28:18,575 cisTopic     INFO     10xv11_Natural_killer_cell done!\n",
      "\u001b[2m\u001b[36m(export_pseudobulk_ray pid=3531938)\u001b[0m 2023-01-02 14:28:33,565 cisTopic     INFO     10xv1_B_cell done!\n",
      "\u001b[2m\u001b[36m(export_pseudobulk_ray pid=3531938)\u001b[0m 2023-01-02 14:28:43,920 cisTopic     INFO     Creating pseudobulk for 10xv1_CD14_monocyte\n",
      "\u001b[2m\u001b[36m(export_pseudobulk_ray pid=3531935)\u001b[0m 2023-01-02 14:28:51,144 cisTopic     INFO     10xv11_CD14_monocyte done!\n"
     ]
    },
    {
     "name": "stderr",
     "output_type": "stream",
     "text": [
      "\u001b[2m\u001b[36m(raylet)\u001b[0m Spilled 48759 MiB, 8 objects, write throughput 824 MiB/s.\n",
      "\u001b[2m\u001b[36m(export_pseudobulk_ray pid=3531938)\u001b[0m /tmp/ipykernel_3524960/2558041373.py:272: FutureWarning: The frame.append method is deprecated and will be removed from pandas in a future version. Use pandas.concat instead.\n"
     ]
    },
    {
     "name": "stdout",
     "output_type": "stream",
     "text": [
      "\u001b[2m\u001b[36m(export_pseudobulk_ray pid=3531933)\u001b[0m 2023-01-02 14:30:23,899 cisTopic     INFO     10xv11_CD4_T_cell done!\n",
      "\u001b[2m\u001b[36m(export_pseudobulk_ray pid=3531933)\u001b[0m 2023-01-02 14:30:36,267 cisTopic     INFO     Creating pseudobulk for 10xv1_CD16_monocyte\n"
     ]
    },
    {
     "name": "stderr",
     "output_type": "stream",
     "text": [
      "\u001b[2m\u001b[36m(raylet)\u001b[0m Spilled 60949 MiB, 10 objects, write throughput 797 MiB/s.\n",
      "\u001b[2m\u001b[36m(export_pseudobulk_ray pid=3531933)\u001b[0m /tmp/ipykernel_3524960/2558041373.py:272: FutureWarning: The frame.append method is deprecated and will be removed from pandas in a future version. Use pandas.concat instead.\n"
     ]
    },
    {
     "name": "stdout",
     "output_type": "stream",
     "text": [
      "\u001b[2m\u001b[36m(export_pseudobulk_ray pid=3531933)\u001b[0m 2023-01-02 14:31:28,011 cisTopic     INFO     10xv1_CD16_monocyte done!\n",
      "\u001b[2m\u001b[36m(export_pseudobulk_ray pid=3531933)\u001b[0m 2023-01-02 14:32:18,152 cisTopic     INFO     Creating pseudobulk for 10xv1_CD4_T_cell\n"
     ]
    },
    {
     "name": "stderr",
     "output_type": "stream",
     "text": [
      "\u001b[2m\u001b[36m(raylet)\u001b[0m Spilled 73139 MiB, 12 objects, write throughput 786 MiB/s.\n",
      "\u001b[2m\u001b[36m(export_pseudobulk_ray pid=3531933)\u001b[0m /tmp/ipykernel_3524960/2558041373.py:272: FutureWarning: The frame.append method is deprecated and will be removed from pandas in a future version. Use pandas.concat instead.\n"
     ]
    },
    {
     "name": "stdout",
     "output_type": "stream",
     "text": [
      "\u001b[2m\u001b[36m(export_pseudobulk_ray pid=3531938)\u001b[0m 2023-01-02 14:32:47,838 cisTopic     INFO     10xv1_CD14_monocyte done!\n",
      "\u001b[2m\u001b[36m(export_pseudobulk_ray pid=3531938)\u001b[0m 2023-01-02 14:35:42,214 cisTopic     INFO     Creating pseudobulk for 10xv1_Cytotoxic_T_cell\n"
     ]
    },
    {
     "name": "stderr",
     "output_type": "stream",
     "text": [
      "\u001b[2m\u001b[36m(export_pseudobulk_ray pid=3531938)\u001b[0m /tmp/ipykernel_3524960/2558041373.py:272: FutureWarning: The frame.append method is deprecated and will be removed from pandas in a future version. Use pandas.concat instead.\n"
     ]
    },
    {
     "name": "stdout",
     "output_type": "stream",
     "text": [
      "\u001b[2m\u001b[36m(export_pseudobulk_ray pid=3531933)\u001b[0m 2023-01-02 14:36:29,108 cisTopic     INFO     10xv1_CD4_T_cell done!\n",
      "\u001b[2m\u001b[36m(export_pseudobulk_ray pid=3531938)\u001b[0m 2023-01-02 14:37:16,073 cisTopic     INFO     10xv1_Cytotoxic_T_cell done!\n",
      "\u001b[2m\u001b[36m(export_pseudobulk_ray pid=3531938)\u001b[0m 2023-01-02 14:37:23,187 cisTopic     INFO     Creating pseudobulk for 10xv1_Dendritic_cell\n"
     ]
    },
    {
     "name": "stderr",
     "output_type": "stream",
     "text": [
      "\u001b[2m\u001b[36m(export_pseudobulk_ray pid=3531938)\u001b[0m /tmp/ipykernel_3524960/2558041373.py:272: FutureWarning: The frame.append method is deprecated and will be removed from pandas in a future version. Use pandas.concat instead.\n"
     ]
    },
    {
     "name": "stdout",
     "output_type": "stream",
     "text": [
      "\u001b[2m\u001b[36m(export_pseudobulk_ray pid=3531938)\u001b[0m 2023-01-02 14:37:56,863 cisTopic     INFO     10xv1_Dendritic_cell done!\n",
      "\u001b[2m\u001b[36m(export_pseudobulk_ray pid=3531938)\u001b[0m 2023-01-02 14:39:00,480 cisTopic     INFO     Creating pseudobulk for 10xv1_Natural_killer_cell\n"
     ]
    },
    {
     "name": "stderr",
     "output_type": "stream",
     "text": [
      "\u001b[2m\u001b[36m(export_pseudobulk_ray pid=3531938)\u001b[0m /tmp/ipykernel_3524960/2558041373.py:272: FutureWarning: The frame.append method is deprecated and will be removed from pandas in a future version. Use pandas.concat instead.\n"
     ]
    },
    {
     "name": "stdout",
     "output_type": "stream",
     "text": [
      "\u001b[2m\u001b[36m(export_pseudobulk_ray pid=3531938)\u001b[0m 2023-01-02 14:40:23,116 cisTopic     INFO     10xv1_Natural_killer_cell done!\n",
      "\u001b[2m\u001b[36m(export_pseudobulk_ray pid=3531938)\u001b[0m 2023-01-02 14:40:37,700 cisTopic     INFO     Creating pseudobulk for 10xv2_B_cell\n"
     ]
    },
    {
     "name": "stderr",
     "output_type": "stream",
     "text": [
      "\u001b[2m\u001b[36m(export_pseudobulk_ray pid=3531938)\u001b[0m /tmp/ipykernel_3524960/2558041373.py:272: FutureWarning: The frame.append method is deprecated and will be removed from pandas in a future version. Use pandas.concat instead.\n"
     ]
    },
    {
     "name": "stdout",
     "output_type": "stream",
     "text": [
      "\u001b[2m\u001b[36m(export_pseudobulk_ray pid=3531933)\u001b[0m 2023-01-02 14:42:13,409 cisTopic     INFO     Creating pseudobulk for 10xv2_CD14_monocyte\n",
      "\u001b[2m\u001b[36m(export_pseudobulk_ray pid=3531938)\u001b[0m 2023-01-02 14:42:17,123 cisTopic     INFO     10xv2_B_cell done!\n"
     ]
    },
    {
     "name": "stderr",
     "output_type": "stream",
     "text": [
      "\u001b[2m\u001b[36m(raylet)\u001b[0m Spilled 134089 MiB, 22 objects, write throughput 759 MiB/s.\n",
      "\u001b[2m\u001b[36m(export_pseudobulk_ray pid=3531933)\u001b[0m /tmp/ipykernel_3524960/2558041373.py:272: FutureWarning: The frame.append method is deprecated and will be removed from pandas in a future version. Use pandas.concat instead.\n"
     ]
    },
    {
     "name": "stdout",
     "output_type": "stream",
     "text": [
      "\u001b[2m\u001b[36m(export_pseudobulk_ray pid=3531938)\u001b[0m 2023-01-02 14:43:49,631 cisTopic     INFO     Creating pseudobulk for 10xv2_CD16_monocyte\n"
     ]
    },
    {
     "name": "stderr",
     "output_type": "stream",
     "text": [
      "\u001b[2m\u001b[36m(export_pseudobulk_ray pid=3531938)\u001b[0m /tmp/ipykernel_3524960/2558041373.py:272: FutureWarning: The frame.append method is deprecated and will be removed from pandas in a future version. Use pandas.concat instead.\n"
     ]
    },
    {
     "name": "stdout",
     "output_type": "stream",
     "text": [
      "\u001b[2m\u001b[36m(export_pseudobulk_ray pid=3531938)\u001b[0m 2023-01-02 14:44:54,351 cisTopic     INFO     10xv2_CD16_monocyte done!\n",
      "\u001b[2m\u001b[36m(export_pseudobulk_ray pid=3531938)\u001b[0m 2023-01-02 14:45:35,264 cisTopic     INFO     Creating pseudobulk for 10xv2_CD4_T_cell\n"
     ]
    },
    {
     "name": "stderr",
     "output_type": "stream",
     "text": [
      "\u001b[2m\u001b[36m(export_pseudobulk_ray pid=3531938)\u001b[0m /tmp/ipykernel_3524960/2558041373.py:272: FutureWarning: The frame.append method is deprecated and will be removed from pandas in a future version. Use pandas.concat instead.\n"
     ]
    },
    {
     "name": "stdout",
     "output_type": "stream",
     "text": [
      "\u001b[2m\u001b[36m(export_pseudobulk_ray pid=3531935)\u001b[0m 2023-01-02 14:47:14,424 cisTopic     INFO     Creating pseudobulk for 10xv2_Cytotoxic_T_cell\n"
     ]
    },
    {
     "name": "stderr",
     "output_type": "stream",
     "text": [
      "\u001b[2m\u001b[36m(export_pseudobulk_ray pid=3531935)\u001b[0m /tmp/ipykernel_3524960/2558041373.py:272: FutureWarning: The frame.append method is deprecated and will be removed from pandas in a future version. Use pandas.concat instead.\n"
     ]
    },
    {
     "name": "stdout",
     "output_type": "stream",
     "text": [
      "\u001b[2m\u001b[36m(export_pseudobulk_ray pid=3531933)\u001b[0m 2023-01-02 14:47:33,455 cisTopic     INFO     10xv2_CD14_monocyte done!\n",
      "\u001b[2m\u001b[36m(export_pseudobulk_ray pid=3531933)\u001b[0m 2023-01-02 14:48:49,331 cisTopic     INFO     Creating pseudobulk for 10xv2_Dendritic_cell\n"
     ]
    },
    {
     "name": "stderr",
     "output_type": "stream",
     "text": [
      "\u001b[2m\u001b[36m(export_pseudobulk_ray pid=3531933)\u001b[0m /tmp/ipykernel_3524960/2558041373.py:272: FutureWarning: The frame.append method is deprecated and will be removed from pandas in a future version. Use pandas.concat instead.\n"
     ]
    },
    {
     "name": "stdout",
     "output_type": "stream",
     "text": [
      "\u001b[2m\u001b[36m(export_pseudobulk_ray pid=3531933)\u001b[0m 2023-01-02 14:49:25,185 cisTopic     INFO     10xv2_Dendritic_cell done!\n",
      "\u001b[2m\u001b[36m(export_pseudobulk_ray pid=3531935)\u001b[0m 2023-01-02 14:49:49,590 cisTopic     INFO     10xv2_Cytotoxic_T_cell done!\n",
      "\u001b[2m\u001b[36m(export_pseudobulk_ray pid=3531935)\u001b[0m 2023-01-02 14:50:31,125 cisTopic     INFO     Creating pseudobulk for 10xv2_Natural_killer_cell\n"
     ]
    },
    {
     "name": "stderr",
     "output_type": "stream",
     "text": [
      "\u001b[2m\u001b[36m(export_pseudobulk_ray pid=3531935)\u001b[0m /tmp/ipykernel_3524960/2558041373.py:272: FutureWarning: The frame.append method is deprecated and will be removed from pandas in a future version. Use pandas.concat instead.\n"
     ]
    },
    {
     "name": "stdout",
     "output_type": "stream",
     "text": [
      "\u001b[2m\u001b[36m(export_pseudobulk_ray pid=3531933)\u001b[0m 2023-01-02 14:52:27,637 cisTopic     INFO     Creating pseudobulk for ddseq_B_cell\n",
      "\u001b[2m\u001b[36m(export_pseudobulk_ray pid=3531935)\u001b[0m 2023-01-02 14:52:32,535 cisTopic     INFO     10xv2_Natural_killer_cell done!\n"
     ]
    },
    {
     "name": "stderr",
     "output_type": "stream",
     "text": [
      "\u001b[2m\u001b[36m(export_pseudobulk_ray pid=3531933)\u001b[0m /tmp/ipykernel_3524960/2558041373.py:272: FutureWarning: The frame.append method is deprecated and will be removed from pandas in a future version. Use pandas.concat instead.\n"
     ]
    },
    {
     "name": "stdout",
     "output_type": "stream",
     "text": [
      "\u001b[2m\u001b[36m(export_pseudobulk_ray pid=3531938)\u001b[0m 2023-01-02 14:53:39,744 cisTopic     INFO     10xv2_CD4_T_cell done!\n",
      "\u001b[2m\u001b[36m(export_pseudobulk_ray pid=3531933)\u001b[0m 2023-01-02 14:53:44,444 cisTopic     INFO     ddseq_B_cell done!\n",
      "\u001b[2m\u001b[36m(export_pseudobulk_ray pid=3531933)\u001b[0m 2023-01-02 14:54:06,966 cisTopic     INFO     Creating pseudobulk for ddseq_CD14_monocyte\n"
     ]
    },
    {
     "name": "stderr",
     "output_type": "stream",
     "text": [
      "\u001b[2m\u001b[36m(export_pseudobulk_ray pid=3531933)\u001b[0m /tmp/ipykernel_3524960/2558041373.py:272: FutureWarning: The frame.append method is deprecated and will be removed from pandas in a future version. Use pandas.concat instead.\n"
     ]
    },
    {
     "name": "stdout",
     "output_type": "stream",
     "text": [
      "\u001b[2m\u001b[36m(export_pseudobulk_ray pid=3531938)\u001b[0m 2023-01-02 14:55:54,272 cisTopic     INFO     Creating pseudobulk for ddseq_CD16_monocyte\n",
      "\u001b[2m\u001b[36m(export_pseudobulk_ray pid=3531933)\u001b[0m 2023-01-02 14:56:04,899 cisTopic     INFO     ddseq_CD14_monocyte done!\n"
     ]
    },
    {
     "name": "stderr",
     "output_type": "stream",
     "text": [
      "\u001b[2m\u001b[36m(export_pseudobulk_ray pid=3531938)\u001b[0m /tmp/ipykernel_3524960/2558041373.py:272: FutureWarning: The frame.append method is deprecated and will be removed from pandas in a future version. Use pandas.concat instead.\n"
     ]
    },
    {
     "name": "stdout",
     "output_type": "stream",
     "text": [
      "\u001b[2m\u001b[36m(export_pseudobulk_ray pid=3531938)\u001b[0m 2023-01-02 14:56:36,601 cisTopic     INFO     ddseq_CD16_monocyte done!\n",
      "\u001b[2m\u001b[36m(export_pseudobulk_ray pid=3531938)\u001b[0m 2023-01-02 14:57:37,268 cisTopic     INFO     Creating pseudobulk for ddseq_CD4_T_cell\n"
     ]
    },
    {
     "name": "stderr",
     "output_type": "stream",
     "text": [
      "\u001b[2m\u001b[36m(export_pseudobulk_ray pid=3531938)\u001b[0m /tmp/ipykernel_3524960/2558041373.py:272: FutureWarning: The frame.append method is deprecated and will be removed from pandas in a future version. Use pandas.concat instead.\n"
     ]
    },
    {
     "name": "stdout",
     "output_type": "stream",
     "text": [
      "\u001b[2m\u001b[36m(export_pseudobulk_ray pid=3531933)\u001b[0m 2023-01-02 14:59:18,467 cisTopic     INFO     Creating pseudobulk for ddseq_Cytotoxic_T_cell\n"
     ]
    },
    {
     "name": "stderr",
     "output_type": "stream",
     "text": [
      "\u001b[2m\u001b[36m(export_pseudobulk_ray pid=3531933)\u001b[0m /tmp/ipykernel_3524960/2558041373.py:272: FutureWarning: The frame.append method is deprecated and will be removed from pandas in a future version. Use pandas.concat instead.\n"
     ]
    },
    {
     "name": "stdout",
     "output_type": "stream",
     "text": [
      "\u001b[2m\u001b[36m(export_pseudobulk_ray pid=3531935)\u001b[0m 2023-01-02 15:00:58,362 cisTopic     INFO     Creating pseudobulk for ddseq_Dendritic_cell\n",
      "\u001b[2m\u001b[36m(export_pseudobulk_ray pid=3531933)\u001b[0m 2023-01-02 15:00:58,477 cisTopic     INFO     ddseq_Cytotoxic_T_cell done!\n"
     ]
    },
    {
     "name": "stderr",
     "output_type": "stream",
     "text": [
      "\u001b[2m\u001b[36m(raylet)\u001b[0m Spilled 268178 MiB, 44 objects, write throughput 743 MiB/s.\n",
      "\u001b[2m\u001b[36m(export_pseudobulk_ray pid=3531935)\u001b[0m /tmp/ipykernel_3524960/2558041373.py:272: FutureWarning: The frame.append method is deprecated and will be removed from pandas in a future version. Use pandas.concat instead.\n"
     ]
    },
    {
     "name": "stdout",
     "output_type": "stream",
     "text": [
      "\u001b[2m\u001b[36m(export_pseudobulk_ray pid=3531935)\u001b[0m 2023-01-02 15:01:26,348 cisTopic     INFO     ddseq_Dendritic_cell done!\n",
      "\u001b[2m\u001b[36m(export_pseudobulk_ray pid=3531935)\u001b[0m 2023-01-02 15:02:58,158 cisTopic     INFO     Creating pseudobulk for ddseq_Natural_killer_cell\n"
     ]
    },
    {
     "name": "stderr",
     "output_type": "stream",
     "text": [
      "\u001b[2m\u001b[36m(export_pseudobulk_ray pid=3531935)\u001b[0m /tmp/ipykernel_3524960/2558041373.py:272: FutureWarning: The frame.append method is deprecated and will be removed from pandas in a future version. Use pandas.concat instead.\n"
     ]
    },
    {
     "name": "stdout",
     "output_type": "stream",
     "text": [
      "\u001b[2m\u001b[36m(export_pseudobulk_ray pid=3531935)\u001b[0m 2023-01-02 15:03:17,387 cisTopic     INFO     ddseq_Natural_killer_cell done!\n",
      "\u001b[2m\u001b[36m(export_pseudobulk_ray pid=3531938)\u001b[0m 2023-01-02 15:04:07,073 cisTopic     INFO     ddseq_CD4_T_cell done!\n",
      "\u001b[2m\u001b[36m(export_pseudobulk_ray pid=3531938)\u001b[0m 2023-01-02 15:04:36,636 cisTopic     INFO     Creating pseudobulk for hydrop_B_cell\n"
     ]
    },
    {
     "name": "stderr",
     "output_type": "stream",
     "text": [
      "\u001b[2m\u001b[36m(export_pseudobulk_ray pid=3531938)\u001b[0m /tmp/ipykernel_3524960/2558041373.py:272: FutureWarning: The frame.append method is deprecated and will be removed from pandas in a future version. Use pandas.concat instead.\n"
     ]
    },
    {
     "name": "stdout",
     "output_type": "stream",
     "text": [
      "\u001b[2m\u001b[36m(export_pseudobulk_ray pid=3531938)\u001b[0m 2023-01-02 15:05:22,274 cisTopic     INFO     hydrop_B_cell done!\n",
      "\u001b[2m\u001b[36m(export_pseudobulk_ray pid=3531938)\u001b[0m 2023-01-02 15:06:18,541 cisTopic     INFO     Creating pseudobulk for hydrop_CD14_monocyte\n"
     ]
    },
    {
     "name": "stderr",
     "output_type": "stream",
     "text": [
      "\u001b[2m\u001b[36m(export_pseudobulk_ray pid=3531938)\u001b[0m /tmp/ipykernel_3524960/2558041373.py:272: FutureWarning: The frame.append method is deprecated and will be removed from pandas in a future version. Use pandas.concat instead.\n"
     ]
    },
    {
     "name": "stdout",
     "output_type": "stream",
     "text": [
      "\u001b[2m\u001b[36m(export_pseudobulk_ray pid=3531935)\u001b[0m 2023-01-02 15:08:09,267 cisTopic     INFO     Creating pseudobulk for hydrop_CD16_monocyte\n"
     ]
    },
    {
     "name": "stderr",
     "output_type": "stream",
     "text": [
      "\u001b[2m\u001b[36m(export_pseudobulk_ray pid=3531935)\u001b[0m /tmp/ipykernel_3524960/2558041373.py:272: FutureWarning: The frame.append method is deprecated and will be removed from pandas in a future version. Use pandas.concat instead.\n"
     ]
    },
    {
     "name": "stdout",
     "output_type": "stream",
     "text": [
      "\u001b[2m\u001b[36m(export_pseudobulk_ray pid=3531938)\u001b[0m 2023-01-02 15:08:20,969 cisTopic     INFO     hydrop_CD14_monocyte done!\n",
      "\u001b[2m\u001b[36m(export_pseudobulk_ray pid=3531935)\u001b[0m 2023-01-02 15:08:21,884 cisTopic     INFO     hydrop_CD16_monocyte done!\n",
      "\u001b[2m\u001b[36m(export_pseudobulk_ray pid=3531935)\u001b[0m 2023-01-02 15:09:53,329 cisTopic     INFO     Creating pseudobulk for hydrop_CD4_T_cell\n"
     ]
    },
    {
     "name": "stderr",
     "output_type": "stream",
     "text": [
      "\u001b[2m\u001b[36m(export_pseudobulk_ray pid=3531935)\u001b[0m /tmp/ipykernel_3524960/2558041373.py:272: FutureWarning: The frame.append method is deprecated and will be removed from pandas in a future version. Use pandas.concat instead.\n"
     ]
    },
    {
     "name": "stdout",
     "output_type": "stream",
     "text": [
      "\u001b[2m\u001b[36m(export_pseudobulk_ray pid=3531935)\u001b[0m 2023-01-02 15:10:41,797 cisTopic     INFO     hydrop_CD4_T_cell done!\n",
      "\u001b[2m\u001b[36m(export_pseudobulk_ray pid=3531935)\u001b[0m 2023-01-02 15:11:36,403 cisTopic     INFO     Creating pseudobulk for hydrop_Cytotoxic_T_cell\n"
     ]
    },
    {
     "name": "stderr",
     "output_type": "stream",
     "text": [
      "\u001b[2m\u001b[36m(export_pseudobulk_ray pid=3531935)\u001b[0m /tmp/ipykernel_3524960/2558041373.py:272: FutureWarning: The frame.append method is deprecated and will be removed from pandas in a future version. Use pandas.concat instead.\n"
     ]
    },
    {
     "name": "stdout",
     "output_type": "stream",
     "text": [
      "\u001b[2m\u001b[36m(export_pseudobulk_ray pid=3531935)\u001b[0m 2023-01-02 15:13:08,495 cisTopic     INFO     hydrop_Cytotoxic_T_cell done!\n",
      "\u001b[2m\u001b[36m(export_pseudobulk_ray pid=3531935)\u001b[0m 2023-01-02 15:13:16,515 cisTopic     INFO     Creating pseudobulk for hydrop_Dendritic_cell\n"
     ]
    },
    {
     "name": "stderr",
     "output_type": "stream",
     "text": [
      "\u001b[2m\u001b[36m(export_pseudobulk_ray pid=3531935)\u001b[0m /tmp/ipykernel_3524960/2558041373.py:272: FutureWarning: The frame.append method is deprecated and will be removed from pandas in a future version. Use pandas.concat instead.\n"
     ]
    },
    {
     "name": "stdout",
     "output_type": "stream",
     "text": [
      "\u001b[2m\u001b[36m(export_pseudobulk_ray pid=3531935)\u001b[0m 2023-01-02 15:13:33,891 cisTopic     INFO     hydrop_Dendritic_cell done!\n",
      "\u001b[2m\u001b[36m(export_pseudobulk_ray pid=3531935)\u001b[0m 2023-01-02 15:15:00,117 cisTopic     INFO     Creating pseudobulk for hydrop_Natural_killer_cell\n"
     ]
    },
    {
     "name": "stderr",
     "output_type": "stream",
     "text": [
      "\u001b[2m\u001b[36m(export_pseudobulk_ray pid=3531935)\u001b[0m /tmp/ipykernel_3524960/2558041373.py:272: FutureWarning: The frame.append method is deprecated and will be removed from pandas in a future version. Use pandas.concat instead.\n"
     ]
    },
    {
     "name": "stdout",
     "output_type": "stream",
     "text": [
      "\u001b[2m\u001b[36m(export_pseudobulk_ray pid=3531935)\u001b[0m 2023-01-02 15:15:13,752 cisTopic     INFO     hydrop_Natural_killer_cell done!\n",
      "\u001b[2m\u001b[36m(export_pseudobulk_ray pid=3531935)\u001b[0m 2023-01-02 15:16:42,707 cisTopic     INFO     Creating pseudobulk for mtscatac_B_cell\n"
     ]
    },
    {
     "name": "stderr",
     "output_type": "stream",
     "text": [
      "\u001b[2m\u001b[36m(export_pseudobulk_ray pid=3531935)\u001b[0m /tmp/ipykernel_3524960/2558041373.py:272: FutureWarning: The frame.append method is deprecated and will be removed from pandas in a future version. Use pandas.concat instead.\n"
     ]
    },
    {
     "name": "stdout",
     "output_type": "stream",
     "text": [
      "\u001b[2m\u001b[36m(export_pseudobulk_ray pid=3531938)\u001b[0m 2023-01-02 15:18:30,298 cisTopic     INFO     Creating pseudobulk for mtscatac_CD14_monocyte\n"
     ]
    },
    {
     "name": "stderr",
     "output_type": "stream",
     "text": [
      "\u001b[2m\u001b[36m(export_pseudobulk_ray pid=3531938)\u001b[0m /tmp/ipykernel_3524960/2558041373.py:272: FutureWarning: The frame.append method is deprecated and will be removed from pandas in a future version. Use pandas.concat instead.\n"
     ]
    },
    {
     "name": "stdout",
     "output_type": "stream",
     "text": [
      "\u001b[2m\u001b[36m(export_pseudobulk_ray pid=3531935)\u001b[0m 2023-01-02 15:18:54,100 cisTopic     INFO     mtscatac_B_cell done!\n",
      "\u001b[2m\u001b[36m(export_pseudobulk_ray pid=3531935)\u001b[0m 2023-01-02 15:20:16,785 cisTopic     INFO     Creating pseudobulk for mtscatac_CD16_monocyte\n"
     ]
    },
    {
     "name": "stderr",
     "output_type": "stream",
     "text": [
      "\u001b[2m\u001b[36m(export_pseudobulk_ray pid=3531935)\u001b[0m /tmp/ipykernel_3524960/2558041373.py:272: FutureWarning: The frame.append method is deprecated and will be removed from pandas in a future version. Use pandas.concat instead.\n"
     ]
    },
    {
     "name": "stdout",
     "output_type": "stream",
     "text": [
      "\u001b[2m\u001b[36m(export_pseudobulk_ray pid=3531935)\u001b[0m 2023-01-02 15:21:27,724 cisTopic     INFO     mtscatac_CD16_monocyte done!\n",
      "\u001b[2m\u001b[36m(export_pseudobulk_ray pid=3531935)\u001b[0m 2023-01-02 15:21:57,681 cisTopic     INFO     Creating pseudobulk for mtscatac_CD4_T_cell\n"
     ]
    },
    {
     "name": "stderr",
     "output_type": "stream",
     "text": [
      "\u001b[2m\u001b[36m(export_pseudobulk_ray pid=3531935)\u001b[0m /tmp/ipykernel_3524960/2558041373.py:272: FutureWarning: The frame.append method is deprecated and will be removed from pandas in a future version. Use pandas.concat instead.\n"
     ]
    },
    {
     "name": "stdout",
     "output_type": "stream",
     "text": [
      "\u001b[2m\u001b[36m(export_pseudobulk_ray pid=3531938)\u001b[0m 2023-01-02 15:23:02,008 cisTopic     INFO     mtscatac_CD14_monocyte done!\n",
      "\u001b[2m\u001b[36m(export_pseudobulk_ray pid=3531938)\u001b[0m 2023-01-02 15:23:37,435 cisTopic     INFO     Creating pseudobulk for mtscatac_Cytotoxic_T_cell\n"
     ]
    },
    {
     "name": "stderr",
     "output_type": "stream",
     "text": [
      "\u001b[2m\u001b[36m(export_pseudobulk_ray pid=3531938)\u001b[0m /tmp/ipykernel_3524960/2558041373.py:272: FutureWarning: The frame.append method is deprecated and will be removed from pandas in a future version. Use pandas.concat instead.\n"
     ]
    },
    {
     "name": "stdout",
     "output_type": "stream",
     "text": [
      "\u001b[2m\u001b[36m(export_pseudobulk_ray pid=3531933)\u001b[0m 2023-01-02 15:25:17,585 cisTopic     INFO     Creating pseudobulk for mtscatac_Dendritic_cell\n"
     ]
    },
    {
     "name": "stderr",
     "output_type": "stream",
     "text": [
      "\u001b[2m\u001b[36m(export_pseudobulk_ray pid=3531933)\u001b[0m /tmp/ipykernel_3524960/2558041373.py:272: FutureWarning: The frame.append method is deprecated and will be removed from pandas in a future version. Use pandas.concat instead.\n"
     ]
    },
    {
     "name": "stdout",
     "output_type": "stream",
     "text": [
      "\u001b[2m\u001b[36m(export_pseudobulk_ray pid=3531933)\u001b[0m 2023-01-02 15:26:01,282 cisTopic     INFO     mtscatac_Dendritic_cell done!\n",
      "\u001b[2m\u001b[36m(export_pseudobulk_ray pid=3531935)\u001b[0m 2023-01-02 15:26:34,892 cisTopic     INFO     mtscatac_CD4_T_cell done!\n",
      "\u001b[2m\u001b[36m(export_pseudobulk_ray pid=3531938)\u001b[0m 2023-01-02 15:26:37,060 cisTopic     INFO     mtscatac_Cytotoxic_T_cell done!\n",
      "\u001b[2m\u001b[36m(export_pseudobulk_ray pid=3531938)\u001b[0m 2023-01-02 15:26:55,355 cisTopic     INFO     Creating pseudobulk for mtscatac_Natural_killer_cell\n"
     ]
    },
    {
     "name": "stderr",
     "output_type": "stream",
     "text": [
      "\u001b[2m\u001b[36m(export_pseudobulk_ray pid=3531938)\u001b[0m /tmp/ipykernel_3524960/2558041373.py:272: FutureWarning: The frame.append method is deprecated and will be removed from pandas in a future version. Use pandas.concat instead.\n"
     ]
    },
    {
     "name": "stdout",
     "output_type": "stream",
     "text": [
      "\u001b[2m\u001b[36m(export_pseudobulk_ray pid=3531938)\u001b[0m 2023-01-02 15:27:48,581 cisTopic     INFO     mtscatac_Natural_killer_cell done!\n",
      "\u001b[2m\u001b[36m(export_pseudobulk_ray pid=3531938)\u001b[0m 2023-01-02 15:28:32,888 cisTopic     INFO     Creating pseudobulk for s3atac_B_cell\n"
     ]
    },
    {
     "name": "stderr",
     "output_type": "stream",
     "text": [
      "\u001b[2m\u001b[36m(export_pseudobulk_ray pid=3531938)\u001b[0m /tmp/ipykernel_3524960/2558041373.py:272: FutureWarning: The frame.append method is deprecated and will be removed from pandas in a future version. Use pandas.concat instead.\n"
     ]
    },
    {
     "name": "stdout",
     "output_type": "stream",
     "text": [
      "\u001b[2m\u001b[36m(export_pseudobulk_ray pid=3531935)\u001b[0m 2023-01-02 15:30:12,252 cisTopic     INFO     Creating pseudobulk for s3atac_CD14_monocyte\n"
     ]
    },
    {
     "name": "stderr",
     "output_type": "stream",
     "text": [
      "\u001b[2m\u001b[36m(export_pseudobulk_ray pid=3531935)\u001b[0m /tmp/ipykernel_3524960/2558041373.py:272: FutureWarning: The frame.append method is deprecated and will be removed from pandas in a future version. Use pandas.concat instead.\n"
     ]
    },
    {
     "name": "stdout",
     "output_type": "stream",
     "text": [
      "\u001b[2m\u001b[36m(export_pseudobulk_ray pid=3531935)\u001b[0m 2023-01-02 15:30:29,064 cisTopic     INFO     s3atac_CD14_monocyte done!\n",
      "\u001b[2m\u001b[36m(export_pseudobulk_ray pid=3531935)\u001b[0m 2023-01-02 15:31:45,782 cisTopic     INFO     Creating pseudobulk for s3atac_CD16_monocyte\n"
     ]
    },
    {
     "name": "stderr",
     "output_type": "stream",
     "text": [
      "\u001b[2m\u001b[36m(export_pseudobulk_ray pid=3531935)\u001b[0m /tmp/ipykernel_3524960/2558041373.py:272: FutureWarning: The frame.append method is deprecated and will be removed from pandas in a future version. Use pandas.concat instead.\n"
     ]
    },
    {
     "name": "stdout",
     "output_type": "stream",
     "text": [
      "\u001b[2m\u001b[36m(export_pseudobulk_ray pid=3531935)\u001b[0m 2023-01-02 15:32:00,292 cisTopic     INFO     s3atac_CD16_monocyte done!\n",
      "\u001b[2m\u001b[36m(export_pseudobulk_ray pid=3531935)\u001b[0m 2023-01-02 15:33:34,258 cisTopic     INFO     Creating pseudobulk for s3atac_CD4_T_cell\n"
     ]
    },
    {
     "name": "stderr",
     "output_type": "stream",
     "text": [
      "\u001b[2m\u001b[36m(export_pseudobulk_ray pid=3531935)\u001b[0m /tmp/ipykernel_3524960/2558041373.py:272: FutureWarning: The frame.append method is deprecated and will be removed from pandas in a future version. Use pandas.concat instead.\n"
     ]
    },
    {
     "name": "stdout",
     "output_type": "stream",
     "text": [
      "\u001b[2m\u001b[36m(export_pseudobulk_ray pid=3531935)\u001b[0m 2023-01-02 15:33:50,854 cisTopic     INFO     s3atac_CD4_T_cell done!\n",
      "\u001b[2m\u001b[36m(export_pseudobulk_ray pid=3531935)\u001b[0m 2023-01-02 15:35:16,598 cisTopic     INFO     Creating pseudobulk for s3atac_Cytotoxic_T_cell\n"
     ]
    },
    {
     "name": "stderr",
     "output_type": "stream",
     "text": [
      "\u001b[2m\u001b[36m(export_pseudobulk_ray pid=3531935)\u001b[0m /tmp/ipykernel_3524960/2558041373.py:272: FutureWarning: The frame.append method is deprecated and will be removed from pandas in a future version. Use pandas.concat instead.\n"
     ]
    },
    {
     "name": "stdout",
     "output_type": "stream",
     "text": [
      "\u001b[2m\u001b[36m(export_pseudobulk_ray pid=3531935)\u001b[0m 2023-01-02 15:36:03,953 cisTopic     INFO     s3atac_Cytotoxic_T_cell done!\n",
      "\u001b[2m\u001b[36m(export_pseudobulk_ray pid=3531935)\u001b[0m 2023-01-02 15:36:54,321 cisTopic     INFO     Creating pseudobulk for s3atac_Dendritic_cell\n"
     ]
    },
    {
     "name": "stderr",
     "output_type": "stream",
     "text": [
      "\u001b[2m\u001b[36m(export_pseudobulk_ray pid=3531935)\u001b[0m /tmp/ipykernel_3524960/2558041373.py:272: FutureWarning: The frame.append method is deprecated and will be removed from pandas in a future version. Use pandas.concat instead.\n"
     ]
    },
    {
     "name": "stdout",
     "output_type": "stream",
     "text": [
      "\u001b[2m\u001b[36m(export_pseudobulk_ray pid=3531935)\u001b[0m 2023-01-02 15:37:08,677 cisTopic     INFO     s3atac_Dendritic_cell done!\n",
      "\u001b[2m\u001b[36m(export_pseudobulk_ray pid=3531935)\u001b[0m 2023-01-02 15:38:37,406 cisTopic     INFO     Creating pseudobulk for s3atac_Natural_killer_cell\n"
     ]
    },
    {
     "name": "stderr",
     "output_type": "stream",
     "text": [
      "\u001b[2m\u001b[36m(raylet)\u001b[0m Spilled 536357 MiB, 88 objects, write throughput 713 MiB/s.\n",
      "\u001b[2m\u001b[36m(export_pseudobulk_ray pid=3531935)\u001b[0m /tmp/ipykernel_3524960/2558041373.py:272: FutureWarning: The frame.append method is deprecated and will be removed from pandas in a future version. Use pandas.concat instead.\n"
     ]
    },
    {
     "name": "stdout",
     "output_type": "stream",
     "text": [
      "\u001b[2m\u001b[36m(export_pseudobulk_ray pid=3531935)\u001b[0m 2023-01-02 15:38:51,918 cisTopic     INFO     s3atac_Natural_killer_cell done!\n"
     ]
    }
   ],
   "source": [
    "# for sample in [\"BRO_mtscatac_1.LIBDS\"]:\n",
    "bw_paths_dict = {}\n",
    "bed_paths_dict = {}\n",
    "\n",
    "import ray\n",
    "\n",
    "if ray.is_initialized():\n",
    "    print(\"Shutting down Ray\")\n",
    "    ray.shutdown()\n",
    "\n",
    "for sample in cto_consensus_path_dict.keys():\n",
    "    supersample = \".\".join(sample.split(\".\")[:2])\n",
    "\n",
    "    bed_path = os.path.join(\n",
    "        \"per_tech_cell_type_bigwigs\", f\"{sample}__CONSENSUS_pseudobulk_bed_files\"\n",
    "    )\n",
    "    bw_path = os.path.join(\n",
    "        \"per_tech_cell_type_bigwigs\", f\"{sample}__CONSENSUS_pseudobulk_bw_files\"\n",
    "    )\n",
    "    if not os.path.exists(bed_path):\n",
    "        cto_path = cto_consensus_path_dict[sample]\n",
    "        with open(cto_path, \"rb\") as f:\n",
    "            cto = pickle.load(f)\n",
    "            \n",
    "            cto.cell_data[\"tech_consensus_cell_type\"] = (\n",
    "                cto.cell_data[\"tech\"]\n",
    "                + \"__\"\n",
    "                + [x.replace(\" \", \"_\") for x in cto.cell_data[\"consensus_cell_type\"]]\n",
    "            )\n",
    "            \n",
    "            bw_paths, bed_paths = export_pseudobulk(\n",
    "                input_data=cto,\n",
    "                variable=\"tech_consensus_cell_type\",\n",
    "                sample_id_col=\"sample_id\",\n",
    "                chromsizes=chromsizes,\n",
    "                bed_path=bed_path,\n",
    "                bigwig_path=bw_path,\n",
    "                path_to_fragments=fragments_path_dict[supersample],\n",
    "                n_cpu=8,\n",
    "                normalize_bigwig=True,\n",
    "                remove_duplicates=True,\n",
    "            )\n",
    "\n",
    "            if ray.is_initialized():\n",
    "                print(\"Shutting down Ray\")\n",
    "                ray.shutdown()\n",
    "    else:\n",
    "        print(f\"{bed_path} exists, skipping...\")"
   ]
  },
  {
   "cell_type": "code",
   "execution_count": 7,
   "id": "7f302f4d-5228-42c9-92b4-8d4feece4468",
   "metadata": {
    "execution": {
     "iopub.execute_input": "2023-01-02T16:03:43.442805Z",
     "iopub.status.busy": "2023-01-02T16:03:43.441846Z",
     "iopub.status.idle": "2023-01-02T18:11:40.393967Z",
     "shell.execute_reply": "2023-01-02T18:11:40.392690Z",
     "shell.execute_reply.started": "2023-01-02T16:03:43.442745Z"
    },
    "tags": []
   },
   "outputs": [
    {
     "name": "stdout",
     "output_type": "stream",
     "text": [
      "2023-01-02 17:03:44,806 cisTopic     INFO     Reading fragments from ../1_data_repository/fixedcells_fragments/OHS_s3atac_2.FIXEDCELLS.fragments.tsv.gz\n",
      "2023-01-02 17:04:30,698 cisTopic     INFO     Reading fragments from ../1_data_repository/fixedcells_fragments/SAN_10xmultiome_2.FIXEDCELLS.fragments.tsv.gz\n",
      "2023-01-02 17:06:07,932 cisTopic     INFO     Reading fragments from ../1_data_repository/fixedcells_fragments/OHS_s3atac_1.FIXEDCELLS.fragments.tsv.gz\n",
      "2023-01-02 17:07:11,091 cisTopic     INFO     Reading fragments from ../1_data_repository/fixedcells_fragments/TXG_10xv11_1.FIXEDCELLS.fragments.tsv.gz\n",
      "2023-01-02 17:10:13,323 cisTopic     INFO     Reading fragments from ../1_data_repository/fixedcells_fragments/CNA_10xv11_5.FIXEDCELLS.fragments.tsv.gz\n",
      "2023-01-02 17:10:32,018 cisTopic     INFO     Reading fragments from ../1_data_repository/fixedcells_fragments/STA_10xv11_1.FIXEDCELLS.fragments.tsv.gz\n",
      "2023-01-02 17:10:52,957 cisTopic     INFO     Reading fragments from ../1_data_repository/fixedcells_fragments/CNA_hydrop_2.FIXEDCELLS.fragments.tsv.gz\n",
      "2023-01-02 17:11:22,042 cisTopic     INFO     Reading fragments from ../1_data_repository/fixedcells_fragments/CNA_10xv2_2.FIXEDCELLS.fragments.tsv.gz\n",
      "2023-01-02 17:12:46,555 cisTopic     INFO     Reading fragments from ../1_data_repository/fixedcells_fragments/VIB_hydrop_2.FIXEDCELLS.fragments.tsv.gz\n",
      "2023-01-02 17:13:19,626 cisTopic     INFO     Reading fragments from ../1_data_repository/fixedcells_fragments/STA_10xv11_2.FIXEDCELLS.fragments.tsv.gz\n",
      "2023-01-02 17:13:51,869 cisTopic     INFO     Reading fragments from ../1_data_repository/fixedcells_fragments/VIB_10xmultiome_1.FIXEDCELLS.fragments.tsv.gz\n",
      "2023-01-02 17:14:13,327 cisTopic     INFO     Reading fragments from ../1_data_repository/fixedcells_fragments/VIB_hydrop_1.FIXEDCELLS.fragments.tsv.gz\n",
      "2023-01-02 17:14:40,190 cisTopic     INFO     Reading fragments from ../1_data_repository/fixedcells_fragments/EPF_hydrop_3.FIXEDCELLS.fragments.tsv.gz\n",
      "2023-01-02 17:15:06,006 cisTopic     INFO     Reading fragments from ../1_data_repository/fixedcells_fragments/VIB_10xv2_1.FIXEDCELLS.fragments.tsv.gz\n",
      "2023-01-02 17:15:58,930 cisTopic     INFO     Reading fragments from ../1_data_repository/fixedcells_fragments/UCS_ddseq_2.FIXEDCELLS.fragments.tsv.gz\n",
      "2023-01-02 17:17:30,855 cisTopic     INFO     Reading fragments from ../1_data_repository/fixedcells_fragments/HAR_ddseq_1.FIXEDCELLS.fragments.tsv.gz\n",
      "2023-01-02 17:19:02,604 cisTopic     INFO     Reading fragments from ../1_data_repository/fixedcells_fragments/CNA_10xv11_2.FIXEDCELLS.fragments.tsv.gz\n",
      "2023-01-02 17:19:46,904 cisTopic     INFO     Reading fragments from ../1_data_repository/fixedcells_fragments/UCS_ddseq_1.FIXEDCELLS.fragments.tsv.gz\n",
      "2023-01-02 17:21:37,802 cisTopic     INFO     Reading fragments from ../1_data_repository/fixedcells_fragments/CNA_10xmultiome_2.FIXEDCELLS.fragments.tsv.gz\n",
      "2023-01-02 17:22:42,833 cisTopic     INFO     Reading fragments from ../1_data_repository/fixedcells_fragments/TXG_10xv2_2.FIXEDCELLS.fragments.tsv.gz\n",
      "2023-01-02 17:25:36,259 cisTopic     INFO     Reading fragments from ../1_data_repository/fixedcells_fragments/VIB_10xmultiome_2.FIXEDCELLS.fragments.tsv.gz\n",
      "2023-01-02 17:26:09,379 cisTopic     INFO     Reading fragments from ../1_data_repository/fixedcells_fragments/BIO_ddseq_1.FIXEDCELLS.fragments.tsv.gz\n",
      "2023-01-02 17:27:37,780 cisTopic     INFO     Reading fragments from ../1_data_repository/fixedcells_fragments/VIB_10xv2_2.FIXEDCELLS.fragments.tsv.gz\n",
      "2023-01-02 17:28:33,001 cisTopic     INFO     Reading fragments from ../1_data_repository/fixedcells_fragments/BIO_ddseq_4.FIXEDCELLS.fragments.tsv.gz\n",
      "2023-01-02 17:29:17,645 cisTopic     INFO     Reading fragments from ../1_data_repository/fixedcells_fragments/BIO_ddseq_3.FIXEDCELLS.fragments.tsv.gz\n",
      "2023-01-02 17:30:01,247 cisTopic     INFO     Reading fragments from ../1_data_repository/fixedcells_fragments/CNA_10xv11_4.FIXEDCELLS.fragments.tsv.gz\n",
      "2023-01-02 17:30:15,130 cisTopic     INFO     Reading fragments from ../1_data_repository/fixedcells_fragments/MDC_mtscatac_2.FIXEDCELLS.fragments.tsv.gz\n",
      "2023-01-02 17:31:45,479 cisTopic     INFO     Reading fragments from ../1_data_repository/fixedcells_fragments/CNA_hydrop_3.FIXEDCELLS.fragments.tsv.gz\n",
      "2023-01-02 17:32:11,386 cisTopic     INFO     Reading fragments from ../1_data_repository/fixedcells_fragments/BRO_mtscatac_2.FIXEDCELLS.fragments.tsv.gz\n",
      "2023-01-02 17:33:01,265 cisTopic     INFO     Reading fragments from ../1_data_repository/fixedcells_fragments/BRO_mtscatac_1.FIXEDCELLS.fragments.tsv.gz\n",
      "2023-01-02 17:33:53,952 cisTopic     INFO     Reading fragments from ../1_data_repository/fixedcells_fragments/CNA_10xmultiome_1.FIXEDCELLS.fragments.tsv.gz\n",
      "2023-01-02 17:34:49,716 cisTopic     INFO     Reading fragments from ../1_data_repository/fixedcells_fragments/VIB_10xv1_2.FIXEDCELLS.fragments.tsv.gz\n",
      "2023-01-02 17:38:02,629 cisTopic     INFO     Reading fragments from ../1_data_repository/fixedcells_fragments/CNA_10xv11_3.FIXEDCELLS.fragments.tsv.gz\n",
      "2023-01-02 17:39:29,191 cisTopic     INFO     Reading fragments from ../1_data_repository/fixedcells_fragments/VIB_10xv1_1.FIXEDCELLS.fragments.tsv.gz\n",
      "2023-01-02 17:40:31,324 cisTopic     INFO     Reading fragments from ../1_data_repository/fixedcells_fragments/EPF_hydrop_4.FIXEDCELLS.fragments.tsv.gz\n",
      "2023-01-02 17:40:58,779 cisTopic     INFO     Reading fragments from ../1_data_repository/fixedcells_fragments/EPF_hydrop_1.FIXEDCELLS.fragments.tsv.gz\n",
      "2023-01-02 17:41:25,068 cisTopic     INFO     Reading fragments from ../1_data_repository/fixedcells_fragments/CNA_10xv11_1.FIXEDCELLS.fragments.tsv.gz\n",
      "2023-01-02 17:42:08,399 cisTopic     INFO     Reading fragments from ../1_data_repository/fixedcells_fragments/CNA_mtscatac_1.FIXEDCELLS.fragments.tsv.gz\n",
      "2023-01-02 17:43:02,365 cisTopic     INFO     Reading fragments from ../1_data_repository/fixedcells_fragments/BIO_ddseq_2.FIXEDCELLS.fragments.tsv.gz\n",
      "2023-01-02 17:44:08,861 cisTopic     INFO     Reading fragments from ../1_data_repository/fixedcells_fragments/CNA_hydrop_1.FIXEDCELLS.fragments.tsv.gz\n",
      "2023-01-02 17:44:34,705 cisTopic     INFO     Reading fragments from ../1_data_repository/fixedcells_fragments/CNA_mtscatac_2.FIXEDCELLS.fragments.tsv.gz\n",
      "2023-01-02 17:44:57,177 cisTopic     INFO     Reading fragments from ../1_data_repository/fixedcells_fragments/TXG_10xv2_1.FIXEDCELLS.fragments.tsv.gz\n",
      "2023-01-02 17:47:48,625 cisTopic     INFO     Reading fragments from ../1_data_repository/fixedcells_fragments/SAN_10xmultiome_1.FIXEDCELLS.fragments.tsv.gz\n",
      "2023-01-02 17:49:10,232 cisTopic     INFO     Reading fragments from ../1_data_repository/fixedcells_fragments/HAR_ddseq_2.FIXEDCELLS.fragments.tsv.gz\n",
      "2023-01-02 17:50:45,127 cisTopic     INFO     Reading fragments from ../1_data_repository/fixedcells_fragments/CNA_10xv2_1.FIXEDCELLS.fragments.tsv.gz\n",
      "2023-01-02 17:51:42,015 cisTopic     INFO     Reading fragments from ../1_data_repository/fixedcells_fragments/EPF_hydrop_2.FIXEDCELLS.fragments.tsv.gz\n",
      "2023-01-02 17:52:07,515 cisTopic     INFO     Reading fragments from ../1_data_repository/fixedcells_fragments/MDC_mtscatac_1.FIXEDCELLS.fragments.tsv.gz\n"
     ]
    },
    {
     "name": "stderr",
     "output_type": "stream",
     "text": [
      "2023-01-02 17:54:28,778\tINFO worker.py:1509 -- Started a local Ray instance. View the dashboard at \u001b[1m\u001b[32mhttp://127.0.0.1:8265 \u001b[39m\u001b[22m\n"
     ]
    },
    {
     "name": "stdout",
     "output_type": "stream",
     "text": [
      "\u001b[2m\u001b[36m(export_pseudobulk_ray pid=5161)\u001b[0m 2023-01-02 17:54:59,240 cisTopic     INFO     Creating pseudobulk for 10xmultiome_B_cell\n"
     ]
    },
    {
     "name": "stderr",
     "output_type": "stream",
     "text": [
      "\u001b[2m\u001b[36m(export_pseudobulk_ray pid=5161)\u001b[0m /tmp/ipykernel_3643904/2558041373.py:272: FutureWarning: The frame.append method is deprecated and will be removed from pandas in a future version. Use pandas.concat instead.\n"
     ]
    },
    {
     "name": "stdout",
     "output_type": "stream",
     "text": [
      "\u001b[2m\u001b[36m(export_pseudobulk_ray pid=5156)\u001b[0m 2023-01-02 17:55:16,229 cisTopic     INFO     Creating pseudobulk for 10xmultiome_CD14_monocyte\n"
     ]
    },
    {
     "name": "stderr",
     "output_type": "stream",
     "text": [
      "\u001b[2m\u001b[36m(export_pseudobulk_ray pid=5156)\u001b[0m /tmp/ipykernel_3643904/2558041373.py:272: FutureWarning: The frame.append method is deprecated and will be removed from pandas in a future version. Use pandas.concat instead.\n"
     ]
    },
    {
     "name": "stdout",
     "output_type": "stream",
     "text": [
      "\u001b[2m\u001b[36m(export_pseudobulk_ray pid=5155)\u001b[0m 2023-01-02 17:55:34,443 cisTopic     INFO     Creating pseudobulk for 10xmultiome_CD16_monocyte\n"
     ]
    },
    {
     "name": "stderr",
     "output_type": "stream",
     "text": [
      "\u001b[2m\u001b[36m(export_pseudobulk_ray pid=5155)\u001b[0m /tmp/ipykernel_3643904/2558041373.py:272: FutureWarning: The frame.append method is deprecated and will be removed from pandas in a future version. Use pandas.concat instead.\n"
     ]
    },
    {
     "name": "stdout",
     "output_type": "stream",
     "text": [
      "\u001b[2m\u001b[36m(export_pseudobulk_ray pid=5159)\u001b[0m 2023-01-02 17:55:54,386 cisTopic     INFO     Creating pseudobulk for 10xmultiome_CD4_T_cell\n"
     ]
    },
    {
     "name": "stderr",
     "output_type": "stream",
     "text": [
      "\u001b[2m\u001b[36m(export_pseudobulk_ray pid=5159)\u001b[0m /tmp/ipykernel_3643904/2558041373.py:272: FutureWarning: The frame.append method is deprecated and will be removed from pandas in a future version. Use pandas.concat instead.\n"
     ]
    },
    {
     "name": "stdout",
     "output_type": "stream",
     "text": [
      "\u001b[2m\u001b[36m(export_pseudobulk_ray pid=5158)\u001b[0m 2023-01-02 17:56:12,214 cisTopic     INFO     Creating pseudobulk for 10xmultiome_Cytotoxic_T_cell\n",
      "\u001b[2m\u001b[36m(export_pseudobulk_ray pid=5161)\u001b[0m 2023-01-02 17:56:21,132 cisTopic     INFO     10xmultiome_B_cell done!\n"
     ]
    },
    {
     "name": "stderr",
     "output_type": "stream",
     "text": [
      "\u001b[2m\u001b[36m(export_pseudobulk_ray pid=5158)\u001b[0m /tmp/ipykernel_3643904/2558041373.py:272: FutureWarning: The frame.append method is deprecated and will be removed from pandas in a future version. Use pandas.concat instead.\n"
     ]
    },
    {
     "name": "stdout",
     "output_type": "stream",
     "text": [
      "\u001b[2m\u001b[36m(export_pseudobulk_ray pid=5155)\u001b[0m 2023-01-02 17:56:27,125 cisTopic     INFO     10xmultiome_CD16_monocyte done!\n",
      "\u001b[2m\u001b[36m(export_pseudobulk_ray pid=5155)\u001b[0m 2023-01-02 17:56:32,611 cisTopic     INFO     Creating pseudobulk for 10xmultiome_Dendritic_cell\n"
     ]
    },
    {
     "name": "stderr",
     "output_type": "stream",
     "text": [
      "\u001b[2m\u001b[36m(export_pseudobulk_ray pid=5155)\u001b[0m /tmp/ipykernel_3643904/2558041373.py:272: FutureWarning: The frame.append method is deprecated and will be removed from pandas in a future version. Use pandas.concat instead.\n"
     ]
    },
    {
     "name": "stdout",
     "output_type": "stream",
     "text": [
      "\u001b[2m\u001b[36m(export_pseudobulk_ray pid=5161)\u001b[0m 2023-01-02 17:56:51,465 cisTopic     INFO     Creating pseudobulk for 10xmultiome_Natural_killer_cell\n"
     ]
    },
    {
     "name": "stderr",
     "output_type": "stream",
     "text": [
      "\u001b[2m\u001b[36m(export_pseudobulk_ray pid=5161)\u001b[0m /tmp/ipykernel_3643904/2558041373.py:272: FutureWarning: The frame.append method is deprecated and will be removed from pandas in a future version. Use pandas.concat instead.\n"
     ]
    },
    {
     "name": "stdout",
     "output_type": "stream",
     "text": [
      "\u001b[2m\u001b[36m(export_pseudobulk_ray pid=5155)\u001b[0m 2023-01-02 17:57:04,277 cisTopic     INFO     10xmultiome_Dendritic_cell done!\n",
      "\u001b[2m\u001b[36m(export_pseudobulk_ray pid=5155)\u001b[0m 2023-01-02 17:57:11,533 cisTopic     INFO     Creating pseudobulk for 10xv11_B_cell\n"
     ]
    },
    {
     "name": "stderr",
     "output_type": "stream",
     "text": [
      "\u001b[2m\u001b[36m(export_pseudobulk_ray pid=5155)\u001b[0m /tmp/ipykernel_3643904/2558041373.py:272: FutureWarning: The frame.append method is deprecated and will be removed from pandas in a future version. Use pandas.concat instead.\n"
     ]
    },
    {
     "name": "stdout",
     "output_type": "stream",
     "text": [
      "\u001b[2m\u001b[36m(export_pseudobulk_ray pid=5160)\u001b[0m 2023-01-02 17:57:31,702 cisTopic     INFO     Creating pseudobulk for 10xv11_CD14_monocyte\n"
     ]
    },
    {
     "name": "stderr",
     "output_type": "stream",
     "text": [
      "\u001b[2m\u001b[36m(export_pseudobulk_ray pid=5160)\u001b[0m /tmp/ipykernel_3643904/2558041373.py:272: FutureWarning: The frame.append method is deprecated and will be removed from pandas in a future version. Use pandas.concat instead.\n"
     ]
    },
    {
     "name": "stdout",
     "output_type": "stream",
     "text": [
      "\u001b[2m\u001b[36m(export_pseudobulk_ray pid=5162)\u001b[0m 2023-01-02 17:57:51,195 cisTopic     INFO     Creating pseudobulk for 10xv11_CD16_monocyte\n"
     ]
    },
    {
     "name": "stderr",
     "output_type": "stream",
     "text": [
      "\u001b[2m\u001b[36m(export_pseudobulk_ray pid=5162)\u001b[0m /tmp/ipykernel_3643904/2558041373.py:272: FutureWarning: The frame.append method is deprecated and will be removed from pandas in a future version. Use pandas.concat instead.\n"
     ]
    },
    {
     "name": "stdout",
     "output_type": "stream",
     "text": [
      "\u001b[2m\u001b[36m(export_pseudobulk_ray pid=5157)\u001b[0m 2023-01-02 17:58:10,053 cisTopic     INFO     Creating pseudobulk for 10xv11_CD4_T_cell\n",
      "\u001b[2m\u001b[36m(export_pseudobulk_ray pid=5158)\u001b[0m 2023-01-02 17:58:13,327 cisTopic     INFO     10xmultiome_Cytotoxic_T_cell done!\n",
      "\u001b[2m\u001b[36m(export_pseudobulk_ray pid=5161)\u001b[0m 2023-01-02 17:58:14,190 cisTopic     INFO     10xmultiome_Natural_killer_cell done!\n"
     ]
    },
    {
     "name": "stderr",
     "output_type": "stream",
     "text": [
      "\u001b[2m\u001b[36m(export_pseudobulk_ray pid=5157)\u001b[0m /tmp/ipykernel_3643904/2558041373.py:272: FutureWarning: The frame.append method is deprecated and will be removed from pandas in a future version. Use pandas.concat instead.\n"
     ]
    },
    {
     "name": "stdout",
     "output_type": "stream",
     "text": [
      "\u001b[2m\u001b[36m(export_pseudobulk_ray pid=5155)\u001b[0m 2023-01-02 17:58:27,856 cisTopic     INFO     10xv11_B_cell done!\n",
      "\u001b[2m\u001b[36m(export_pseudobulk_ray pid=5161)\u001b[0m 2023-01-02 17:58:27,990 cisTopic     INFO     Creating pseudobulk for 10xv11_Cytotoxic_T_cell\n",
      "\u001b[2m\u001b[36m(export_pseudobulk_ray pid=5156)\u001b[0m 2023-01-02 17:58:31,359 cisTopic     INFO     10xmultiome_CD14_monocyte done!\n",
      "\u001b[2m\u001b[36m(export_pseudobulk_ray pid=5162)\u001b[0m 2023-01-02 17:58:40,054 cisTopic     INFO     10xv11_CD16_monocyte done!\n"
     ]
    },
    {
     "name": "stderr",
     "output_type": "stream",
     "text": [
      "\u001b[2m\u001b[36m(export_pseudobulk_ray pid=5161)\u001b[0m /tmp/ipykernel_3643904/2558041373.py:272: FutureWarning: The frame.append method is deprecated and will be removed from pandas in a future version. Use pandas.concat instead.\n"
     ]
    },
    {
     "name": "stdout",
     "output_type": "stream",
     "text": [
      "\u001b[2m\u001b[36m(export_pseudobulk_ray pid=5162)\u001b[0m 2023-01-02 17:58:47,295 cisTopic     INFO     Creating pseudobulk for 10xv11_Dendritic_cell\n"
     ]
    },
    {
     "name": "stderr",
     "output_type": "stream",
     "text": [
      "\u001b[2m\u001b[36m(raylet)\u001b[0m Spilled 12189 MiB, 2 objects, write throughput 850 MiB/s. Set RAY_verbose_spill_logs=0 to disable this message.\n",
      "\u001b[2m\u001b[36m(raylet)\u001b[0m Spilled 12193 MiB, 3 objects, write throughput 849 MiB/s.\n",
      "\u001b[2m\u001b[36m(export_pseudobulk_ray pid=5162)\u001b[0m /tmp/ipykernel_3643904/2558041373.py:272: FutureWarning: The frame.append method is deprecated and will be removed from pandas in a future version. Use pandas.concat instead.\n"
     ]
    },
    {
     "name": "stdout",
     "output_type": "stream",
     "text": [
      "\u001b[2m\u001b[36m(export_pseudobulk_ray pid=5156)\u001b[0m 2023-01-02 17:59:06,381 cisTopic     INFO     Creating pseudobulk for 10xv11_Natural_killer_cell\n"
     ]
    },
    {
     "name": "stderr",
     "output_type": "stream",
     "text": [
      "\u001b[2m\u001b[36m(raylet)\u001b[0m Spilled 24379 MiB, 4 objects, write throughput 870 MiB/s.\n"
     ]
    },
    {
     "name": "stdout",
     "output_type": "stream",
     "text": [
      "\u001b[2m\u001b[36m(export_pseudobulk_ray pid=5159)\u001b[0m 2023-01-02 17:59:16,451 cisTopic     INFO     10xmultiome_CD4_T_cell done!\n"
     ]
    },
    {
     "name": "stderr",
     "output_type": "stream",
     "text": [
      "\u001b[2m\u001b[36m(raylet)\u001b[0m Spilled 24383 MiB, 5 objects, write throughput 870 MiB/s.\n",
      "\u001b[2m\u001b[36m(export_pseudobulk_ray pid=5156)\u001b[0m /tmp/ipykernel_3643904/2558041373.py:272: FutureWarning: The frame.append method is deprecated and will be removed from pandas in a future version. Use pandas.concat instead.\n"
     ]
    },
    {
     "name": "stdout",
     "output_type": "stream",
     "text": [
      "\u001b[2m\u001b[36m(export_pseudobulk_ray pid=5162)\u001b[0m 2023-01-02 17:59:22,407 cisTopic     INFO     10xv11_Dendritic_cell done!\n",
      "\u001b[2m\u001b[36m(export_pseudobulk_ray pid=5159)\u001b[0m 2023-01-02 17:59:27,314 cisTopic     INFO     Creating pseudobulk for 10xv1_B_cell\n"
     ]
    },
    {
     "name": "stderr",
     "output_type": "stream",
     "text": [
      "\u001b[2m\u001b[36m(raylet)\u001b[0m Spilled 36569 MiB, 6 objects, write throughput 898 MiB/s.\n",
      "\u001b[2m\u001b[36m(export_pseudobulk_ray pid=5159)\u001b[0m /tmp/ipykernel_3643904/2558041373.py:272: FutureWarning: The frame.append method is deprecated and will be removed from pandas in a future version. Use pandas.concat instead.\n"
     ]
    },
    {
     "name": "stdout",
     "output_type": "stream",
     "text": [
      "\u001b[2m\u001b[36m(export_pseudobulk_ray pid=5161)\u001b[0m 2023-01-02 18:00:24,469 cisTopic     INFO     10xv11_Cytotoxic_T_cell done!\n",
      "\u001b[2m\u001b[36m(export_pseudobulk_ray pid=5156)\u001b[0m 2023-01-02 18:00:36,646 cisTopic     INFO     10xv11_Natural_killer_cell done!\n",
      "\u001b[2m\u001b[36m(export_pseudobulk_ray pid=5159)\u001b[0m 2023-01-02 18:00:58,083 cisTopic     INFO     10xv1_B_cell done!\n",
      "\u001b[2m\u001b[36m(export_pseudobulk_ray pid=5160)\u001b[0m 2023-01-02 18:01:15,634 cisTopic     INFO     10xv11_CD14_monocyte done!\n",
      "\u001b[2m\u001b[36m(export_pseudobulk_ray pid=5159)\u001b[0m 2023-01-02 18:01:18,531 cisTopic     INFO     Creating pseudobulk for 10xv1_CD14_monocyte\n"
     ]
    },
    {
     "name": "stderr",
     "output_type": "stream",
     "text": [
      "\u001b[2m\u001b[36m(export_pseudobulk_ray pid=5159)\u001b[0m /tmp/ipykernel_3643904/2558041373.py:272: FutureWarning: The frame.append method is deprecated and will be removed from pandas in a future version. Use pandas.concat instead.\n"
     ]
    },
    {
     "name": "stdout",
     "output_type": "stream",
     "text": [
      "\u001b[2m\u001b[36m(export_pseudobulk_ray pid=5157)\u001b[0m 2023-01-02 18:02:52,248 cisTopic     INFO     10xv11_CD4_T_cell done!\n",
      "\u001b[2m\u001b[36m(export_pseudobulk_ray pid=5157)\u001b[0m 2023-01-02 18:03:05,667 cisTopic     INFO     Creating pseudobulk for 10xv1_CD16_monocyte\n"
     ]
    },
    {
     "name": "stderr",
     "output_type": "stream",
     "text": [
      "\u001b[2m\u001b[36m(export_pseudobulk_ray pid=5157)\u001b[0m /tmp/ipykernel_3643904/2558041373.py:272: FutureWarning: The frame.append method is deprecated and will be removed from pandas in a future version. Use pandas.concat instead.\n"
     ]
    },
    {
     "name": "stdout",
     "output_type": "stream",
     "text": [
      "\u001b[2m\u001b[36m(export_pseudobulk_ray pid=5157)\u001b[0m 2023-01-02 18:04:00,324 cisTopic     INFO     10xv1_CD16_monocyte done!\n",
      "\u001b[2m\u001b[36m(export_pseudobulk_ray pid=5157)\u001b[0m 2023-01-02 18:05:18,369 cisTopic     INFO     Creating pseudobulk for 10xv1_CD4_T_cell\n",
      "\u001b[2m\u001b[36m(export_pseudobulk_ray pid=5159)\u001b[0m 2023-01-02 18:05:31,339 cisTopic     INFO     10xv1_CD14_monocyte done!\n"
     ]
    },
    {
     "name": "stderr",
     "output_type": "stream",
     "text": [
      "\u001b[2m\u001b[36m(export_pseudobulk_ray pid=5157)\u001b[0m /tmp/ipykernel_3643904/2558041373.py:272: FutureWarning: The frame.append method is deprecated and will be removed from pandas in a future version. Use pandas.concat instead.\n",
      "\u001b[2m\u001b[36m(raylet)\u001b[0m Spilled 73139 MiB, 12 objects, write throughput 585 MiB/s.\n"
     ]
    },
    {
     "name": "stdout",
     "output_type": "stream",
     "text": [
      "\u001b[2m\u001b[36m(export_pseudobulk_ray pid=5159)\u001b[0m 2023-01-02 18:07:24,149 cisTopic     INFO     Creating pseudobulk for 10xv1_Cytotoxic_T_cell\n"
     ]
    },
    {
     "name": "stderr",
     "output_type": "stream",
     "text": [
      "\u001b[2m\u001b[36m(export_pseudobulk_ray pid=5159)\u001b[0m /tmp/ipykernel_3643904/2558041373.py:272: FutureWarning: The frame.append method is deprecated and will be removed from pandas in a future version. Use pandas.concat instead.\n"
     ]
    },
    {
     "name": "stdout",
     "output_type": "stream",
     "text": [
      "\u001b[2m\u001b[36m(export_pseudobulk_ray pid=5160)\u001b[0m 2023-01-02 18:08:56,876 cisTopic     INFO     Creating pseudobulk for 10xv1_Dendritic_cell\n",
      "\u001b[2m\u001b[36m(export_pseudobulk_ray pid=5159)\u001b[0m 2023-01-02 18:08:58,769 cisTopic     INFO     10xv1_Cytotoxic_T_cell done!\n"
     ]
    },
    {
     "name": "stderr",
     "output_type": "stream",
     "text": [
      "\u001b[2m\u001b[36m(export_pseudobulk_ray pid=5160)\u001b[0m /tmp/ipykernel_3643904/2558041373.py:272: FutureWarning: The frame.append method is deprecated and will be removed from pandas in a future version. Use pandas.concat instead.\n"
     ]
    },
    {
     "name": "stdout",
     "output_type": "stream",
     "text": [
      "\u001b[2m\u001b[36m(export_pseudobulk_ray pid=5160)\u001b[0m 2023-01-02 18:09:30,709 cisTopic     INFO     10xv1_Dendritic_cell done!\n",
      "\u001b[2m\u001b[36m(export_pseudobulk_ray pid=5157)\u001b[0m 2023-01-02 18:09:34,861 cisTopic     INFO     10xv1_CD4_T_cell done!\n",
      "\u001b[2m\u001b[36m(export_pseudobulk_ray pid=5157)\u001b[0m 2023-01-02 18:10:39,379 cisTopic     INFO     Creating pseudobulk for 10xv1_Natural_killer_cell\n"
     ]
    },
    {
     "name": "stderr",
     "output_type": "stream",
     "text": [
      "\u001b[2m\u001b[36m(export_pseudobulk_ray pid=5157)\u001b[0m /tmp/ipykernel_3643904/2558041373.py:272: FutureWarning: The frame.append method is deprecated and will be removed from pandas in a future version. Use pandas.concat instead.\n"
     ]
    },
    {
     "name": "stdout",
     "output_type": "stream",
     "text": [
      "\u001b[2m\u001b[36m(export_pseudobulk_ray pid=5157)\u001b[0m 2023-01-02 18:12:01,880 cisTopic     INFO     10xv1_Natural_killer_cell done!\n",
      "\u001b[2m\u001b[36m(export_pseudobulk_ray pid=5157)\u001b[0m 2023-01-02 18:12:19,621 cisTopic     INFO     Creating pseudobulk for 10xv2_B_cell\n"
     ]
    },
    {
     "name": "stderr",
     "output_type": "stream",
     "text": [
      "\u001b[2m\u001b[36m(export_pseudobulk_ray pid=5157)\u001b[0m /tmp/ipykernel_3643904/2558041373.py:272: FutureWarning: The frame.append method is deprecated and will be removed from pandas in a future version. Use pandas.concat instead.\n"
     ]
    },
    {
     "name": "stdout",
     "output_type": "stream",
     "text": [
      "\u001b[2m\u001b[36m(export_pseudobulk_ray pid=5157)\u001b[0m 2023-01-02 18:14:01,693 cisTopic     INFO     10xv2_B_cell done!\n",
      "\u001b[2m\u001b[36m(export_pseudobulk_ray pid=5157)\u001b[0m 2023-01-02 18:14:25,647 cisTopic     INFO     Creating pseudobulk for 10xv2_CD14_monocyte\n"
     ]
    },
    {
     "name": "stderr",
     "output_type": "stream",
     "text": [
      "\u001b[2m\u001b[36m(raylet)\u001b[0m Spilled 134089 MiB, 22 objects, write throughput 592 MiB/s.\n",
      "\u001b[2m\u001b[36m(export_pseudobulk_ray pid=5157)\u001b[0m /tmp/ipykernel_3643904/2558041373.py:272: FutureWarning: The frame.append method is deprecated and will be removed from pandas in a future version. Use pandas.concat instead.\n"
     ]
    },
    {
     "name": "stdout",
     "output_type": "stream",
     "text": [
      "\u001b[2m\u001b[36m(export_pseudobulk_ray pid=5160)\u001b[0m 2023-01-02 18:16:09,782 cisTopic     INFO     Creating pseudobulk for 10xv2_CD16_monocyte\n"
     ]
    },
    {
     "name": "stderr",
     "output_type": "stream",
     "text": [
      "\u001b[2m\u001b[36m(export_pseudobulk_ray pid=5160)\u001b[0m /tmp/ipykernel_3643904/2558041373.py:272: FutureWarning: The frame.append method is deprecated and will be removed from pandas in a future version. Use pandas.concat instead.\n"
     ]
    },
    {
     "name": "stdout",
     "output_type": "stream",
     "text": [
      "\u001b[2m\u001b[36m(export_pseudobulk_ray pid=5160)\u001b[0m 2023-01-02 18:17:13,348 cisTopic     INFO     10xv2_CD16_monocyte done!\n",
      "\u001b[2m\u001b[36m(export_pseudobulk_ray pid=5160)\u001b[0m 2023-01-02 18:18:12,151 cisTopic     INFO     Creating pseudobulk for 10xv2_CD4_T_cell\n"
     ]
    },
    {
     "name": "stderr",
     "output_type": "stream",
     "text": [
      "\u001b[2m\u001b[36m(export_pseudobulk_ray pid=5160)\u001b[0m /tmp/ipykernel_3643904/2558041373.py:272: FutureWarning: The frame.append method is deprecated and will be removed from pandas in a future version. Use pandas.concat instead.\n"
     ]
    },
    {
     "name": "stdout",
     "output_type": "stream",
     "text": [
      "\u001b[2m\u001b[36m(export_pseudobulk_ray pid=5157)\u001b[0m 2023-01-02 18:19:45,567 cisTopic     INFO     10xv2_CD14_monocyte done!\n",
      "\u001b[2m\u001b[36m(export_pseudobulk_ray pid=5159)\u001b[0m 2023-01-02 18:19:45,703 cisTopic     INFO     Creating pseudobulk for 10xv2_Cytotoxic_T_cell\n"
     ]
    },
    {
     "name": "stderr",
     "output_type": "stream",
     "text": [
      "\u001b[2m\u001b[36m(export_pseudobulk_ray pid=5159)\u001b[0m /tmp/ipykernel_3643904/2558041373.py:272: FutureWarning: The frame.append method is deprecated and will be removed from pandas in a future version. Use pandas.concat instead.\n"
     ]
    },
    {
     "name": "stdout",
     "output_type": "stream",
     "text": [
      "\u001b[2m\u001b[36m(export_pseudobulk_ray pid=5157)\u001b[0m 2023-01-02 18:21:28,650 cisTopic     INFO     Creating pseudobulk for 10xv2_Dendritic_cell\n"
     ]
    },
    {
     "name": "stderr",
     "output_type": "stream",
     "text": [
      "\u001b[2m\u001b[36m(export_pseudobulk_ray pid=5157)\u001b[0m /tmp/ipykernel_3643904/2558041373.py:272: FutureWarning: The frame.append method is deprecated and will be removed from pandas in a future version. Use pandas.concat instead.\n"
     ]
    },
    {
     "name": "stdout",
     "output_type": "stream",
     "text": [
      "\u001b[2m\u001b[36m(export_pseudobulk_ray pid=5157)\u001b[0m 2023-01-02 18:22:02,624 cisTopic     INFO     10xv2_Dendritic_cell done!\n",
      "\u001b[2m\u001b[36m(export_pseudobulk_ray pid=5159)\u001b[0m 2023-01-02 18:22:24,219 cisTopic     INFO     10xv2_Cytotoxic_T_cell done!\n",
      "\u001b[2m\u001b[36m(export_pseudobulk_ray pid=5159)\u001b[0m 2023-01-02 18:23:15,665 cisTopic     INFO     Creating pseudobulk for 10xv2_Natural_killer_cell\n"
     ]
    },
    {
     "name": "stderr",
     "output_type": "stream",
     "text": [
      "\u001b[2m\u001b[36m(export_pseudobulk_ray pid=5159)\u001b[0m /tmp/ipykernel_3643904/2558041373.py:272: FutureWarning: The frame.append method is deprecated and will be removed from pandas in a future version. Use pandas.concat instead.\n"
     ]
    },
    {
     "name": "stdout",
     "output_type": "stream",
     "text": [
      "\u001b[2m\u001b[36m(export_pseudobulk_ray pid=5157)\u001b[0m 2023-01-02 18:24:54,336 cisTopic     INFO     Creating pseudobulk for ddseq_B_cell\n"
     ]
    },
    {
     "name": "stderr",
     "output_type": "stream",
     "text": [
      "\u001b[2m\u001b[36m(export_pseudobulk_ray pid=5157)\u001b[0m /tmp/ipykernel_3643904/2558041373.py:272: FutureWarning: The frame.append method is deprecated and will be removed from pandas in a future version. Use pandas.concat instead.\n"
     ]
    },
    {
     "name": "stdout",
     "output_type": "stream",
     "text": [
      "\u001b[2m\u001b[36m(export_pseudobulk_ray pid=5159)\u001b[0m 2023-01-02 18:25:17,852 cisTopic     INFO     10xv2_Natural_killer_cell done!\n",
      "\u001b[2m\u001b[36m(export_pseudobulk_ray pid=5157)\u001b[0m 2023-01-02 18:26:10,612 cisTopic     INFO     ddseq_B_cell done!\n",
      "\u001b[2m\u001b[36m(export_pseudobulk_ray pid=5160)\u001b[0m 2023-01-02 18:26:24,811 cisTopic     INFO     10xv2_CD4_T_cell done!\n",
      "\u001b[2m\u001b[36m(export_pseudobulk_ray pid=5160)\u001b[0m 2023-01-02 18:26:34,143 cisTopic     INFO     Creating pseudobulk for ddseq_CD14_monocyte\n"
     ]
    },
    {
     "name": "stderr",
     "output_type": "stream",
     "text": [
      "\u001b[2m\u001b[36m(export_pseudobulk_ray pid=5160)\u001b[0m /tmp/ipykernel_3643904/2558041373.py:272: FutureWarning: The frame.append method is deprecated and will be removed from pandas in a future version. Use pandas.concat instead.\n"
     ]
    },
    {
     "name": "stdout",
     "output_type": "stream",
     "text": [
      "\u001b[2m\u001b[36m(export_pseudobulk_ray pid=5157)\u001b[0m 2023-01-02 18:28:16,133 cisTopic     INFO     Creating pseudobulk for ddseq_CD16_monocyte\n"
     ]
    },
    {
     "name": "stderr",
     "output_type": "stream",
     "text": [
      "\u001b[2m\u001b[36m(export_pseudobulk_ray pid=5157)\u001b[0m /tmp/ipykernel_3643904/2558041373.py:272: FutureWarning: The frame.append method is deprecated and will be removed from pandas in a future version. Use pandas.concat instead.\n"
     ]
    },
    {
     "name": "stdout",
     "output_type": "stream",
     "text": [
      "\u001b[2m\u001b[36m(export_pseudobulk_ray pid=5160)\u001b[0m 2023-01-02 18:28:35,856 cisTopic     INFO     ddseq_CD14_monocyte done!\n",
      "\u001b[2m\u001b[36m(export_pseudobulk_ray pid=5157)\u001b[0m 2023-01-02 18:28:58,763 cisTopic     INFO     ddseq_CD16_monocyte done!\n",
      "\u001b[2m\u001b[36m(export_pseudobulk_ray pid=5157)\u001b[0m 2023-01-02 18:29:57,602 cisTopic     INFO     Creating pseudobulk for ddseq_CD4_T_cell\n"
     ]
    },
    {
     "name": "stderr",
     "output_type": "stream",
     "text": [
      "\u001b[2m\u001b[36m(export_pseudobulk_ray pid=5157)\u001b[0m /tmp/ipykernel_3643904/2558041373.py:272: FutureWarning: The frame.append method is deprecated and will be removed from pandas in a future version. Use pandas.concat instead.\n"
     ]
    },
    {
     "name": "stdout",
     "output_type": "stream",
     "text": [
      "\u001b[2m\u001b[36m(export_pseudobulk_ray pid=5160)\u001b[0m 2023-01-02 18:31:30,985 cisTopic     INFO     Creating pseudobulk for ddseq_Cytotoxic_T_cell\n"
     ]
    },
    {
     "name": "stderr",
     "output_type": "stream",
     "text": [
      "\u001b[2m\u001b[36m(export_pseudobulk_ray pid=5160)\u001b[0m /tmp/ipykernel_3643904/2558041373.py:272: FutureWarning: The frame.append method is deprecated and will be removed from pandas in a future version. Use pandas.concat instead.\n"
     ]
    },
    {
     "name": "stdout",
     "output_type": "stream",
     "text": [
      "\u001b[2m\u001b[36m(export_pseudobulk_ray pid=5159)\u001b[0m 2023-01-02 18:33:07,442 cisTopic     INFO     Creating pseudobulk for ddseq_Dendritic_cell\n",
      "\u001b[2m\u001b[36m(export_pseudobulk_ray pid=5160)\u001b[0m 2023-01-02 18:33:11,117 cisTopic     INFO     ddseq_Cytotoxic_T_cell done!\n"
     ]
    },
    {
     "name": "stderr",
     "output_type": "stream",
     "text": [
      "\u001b[2m\u001b[36m(raylet)\u001b[0m Spilled 268178 MiB, 44 objects, write throughput 643 MiB/s.\n",
      "\u001b[2m\u001b[36m(export_pseudobulk_ray pid=5159)\u001b[0m /tmp/ipykernel_3643904/2558041373.py:272: FutureWarning: The frame.append method is deprecated and will be removed from pandas in a future version. Use pandas.concat instead.\n"
     ]
    },
    {
     "name": "stdout",
     "output_type": "stream",
     "text": [
      "\u001b[2m\u001b[36m(export_pseudobulk_ray pid=5159)\u001b[0m 2023-01-02 18:33:36,716 cisTopic     INFO     ddseq_Dendritic_cell done!\n",
      "\u001b[2m\u001b[36m(export_pseudobulk_ray pid=5159)\u001b[0m 2023-01-02 18:34:48,878 cisTopic     INFO     Creating pseudobulk for ddseq_Natural_killer_cell\n"
     ]
    },
    {
     "name": "stderr",
     "output_type": "stream",
     "text": [
      "\u001b[2m\u001b[36m(export_pseudobulk_ray pid=5159)\u001b[0m /tmp/ipykernel_3643904/2558041373.py:272: FutureWarning: The frame.append method is deprecated and will be removed from pandas in a future version. Use pandas.concat instead.\n"
     ]
    },
    {
     "name": "stdout",
     "output_type": "stream",
     "text": [
      "\u001b[2m\u001b[36m(export_pseudobulk_ray pid=5159)\u001b[0m 2023-01-02 18:35:07,958 cisTopic     INFO     ddseq_Natural_killer_cell done!\n",
      "\u001b[2m\u001b[36m(export_pseudobulk_ray pid=5159)\u001b[0m 2023-01-02 18:36:27,150 cisTopic     INFO     Creating pseudobulk for hydrop_B_cell\n",
      "\u001b[2m\u001b[36m(export_pseudobulk_ray pid=5157)\u001b[0m 2023-01-02 18:36:32,199 cisTopic     INFO     ddseq_CD4_T_cell done!\n"
     ]
    },
    {
     "name": "stderr",
     "output_type": "stream",
     "text": [
      "\u001b[2m\u001b[36m(export_pseudobulk_ray pid=5159)\u001b[0m /tmp/ipykernel_3643904/2558041373.py:272: FutureWarning: The frame.append method is deprecated and will be removed from pandas in a future version. Use pandas.concat instead.\n"
     ]
    },
    {
     "name": "stdout",
     "output_type": "stream",
     "text": [
      "\u001b[2m\u001b[36m(export_pseudobulk_ray pid=5159)\u001b[0m 2023-01-02 18:37:15,553 cisTopic     INFO     hydrop_B_cell done!\n",
      "\u001b[2m\u001b[36m(export_pseudobulk_ray pid=5159)\u001b[0m 2023-01-02 18:38:08,353 cisTopic     INFO     Creating pseudobulk for hydrop_CD14_monocyte\n"
     ]
    },
    {
     "name": "stderr",
     "output_type": "stream",
     "text": [
      "\u001b[2m\u001b[36m(export_pseudobulk_ray pid=5159)\u001b[0m /tmp/ipykernel_3643904/2558041373.py:272: FutureWarning: The frame.append method is deprecated and will be removed from pandas in a future version. Use pandas.concat instead.\n"
     ]
    },
    {
     "name": "stdout",
     "output_type": "stream",
     "text": [
      "\u001b[2m\u001b[36m(export_pseudobulk_ray pid=5157)\u001b[0m 2023-01-02 18:39:46,787 cisTopic     INFO     Creating pseudobulk for hydrop_CD16_monocyte\n"
     ]
    },
    {
     "name": "stderr",
     "output_type": "stream",
     "text": [
      "\u001b[2m\u001b[36m(export_pseudobulk_ray pid=5157)\u001b[0m /tmp/ipykernel_3643904/2558041373.py:272: FutureWarning: The frame.append method is deprecated and will be removed from pandas in a future version. Use pandas.concat instead.\n"
     ]
    },
    {
     "name": "stdout",
     "output_type": "stream",
     "text": [
      "\u001b[2m\u001b[36m(export_pseudobulk_ray pid=5157)\u001b[0m 2023-01-02 18:40:01,086 cisTopic     INFO     hydrop_CD16_monocyte done!\n",
      "\u001b[2m\u001b[36m(export_pseudobulk_ray pid=5159)\u001b[0m 2023-01-02 18:40:14,912 cisTopic     INFO     hydrop_CD14_monocyte done!\n",
      "\u001b[2m\u001b[36m(export_pseudobulk_ray pid=5159)\u001b[0m 2023-01-02 18:41:25,646 cisTopic     INFO     Creating pseudobulk for hydrop_CD4_T_cell\n"
     ]
    },
    {
     "name": "stderr",
     "output_type": "stream",
     "text": [
      "\u001b[2m\u001b[36m(export_pseudobulk_ray pid=5159)\u001b[0m /tmp/ipykernel_3643904/2558041373.py:272: FutureWarning: The frame.append method is deprecated and will be removed from pandas in a future version. Use pandas.concat instead.\n"
     ]
    },
    {
     "name": "stdout",
     "output_type": "stream",
     "text": [
      "\u001b[2m\u001b[36m(export_pseudobulk_ray pid=5159)\u001b[0m 2023-01-02 18:42:14,145 cisTopic     INFO     hydrop_CD4_T_cell done!\n",
      "\u001b[2m\u001b[36m(export_pseudobulk_ray pid=5159)\u001b[0m 2023-01-02 18:43:05,940 cisTopic     INFO     Creating pseudobulk for hydrop_Cytotoxic_T_cell\n"
     ]
    },
    {
     "name": "stderr",
     "output_type": "stream",
     "text": [
      "\u001b[2m\u001b[36m(export_pseudobulk_ray pid=5159)\u001b[0m /tmp/ipykernel_3643904/2558041373.py:272: FutureWarning: The frame.append method is deprecated and will be removed from pandas in a future version. Use pandas.concat instead.\n"
     ]
    },
    {
     "name": "stdout",
     "output_type": "stream",
     "text": [
      "\u001b[2m\u001b[36m(export_pseudobulk_ray pid=5159)\u001b[0m 2023-01-02 18:44:42,157 cisTopic     INFO     hydrop_Cytotoxic_T_cell done!\n",
      "\u001b[2m\u001b[36m(export_pseudobulk_ray pid=5159)\u001b[0m 2023-01-02 18:44:47,663 cisTopic     INFO     Creating pseudobulk for hydrop_Dendritic_cell\n"
     ]
    },
    {
     "name": "stderr",
     "output_type": "stream",
     "text": [
      "\u001b[2m\u001b[36m(export_pseudobulk_ray pid=5159)\u001b[0m /tmp/ipykernel_3643904/2558041373.py:272: FutureWarning: The frame.append method is deprecated and will be removed from pandas in a future version. Use pandas.concat instead.\n"
     ]
    },
    {
     "name": "stdout",
     "output_type": "stream",
     "text": [
      "\u001b[2m\u001b[36m(export_pseudobulk_ray pid=5159)\u001b[0m 2023-01-02 18:45:03,865 cisTopic     INFO     hydrop_Dendritic_cell done!\n"
     ]
    },
    {
     "name": "stderr",
     "output_type": "stream",
     "text": [
      "\u001b[2m\u001b[36m(export_pseudobulk_ray pid=5159)\u001b[0m /tmp/ipykernel_3643904/2558041373.py:272: FutureWarning: The frame.append method is deprecated and will be removed from pandas in a future version. Use pandas.concat instead.\n"
     ]
    },
    {
     "name": "stdout",
     "output_type": "stream",
     "text": [
      "\u001b[2m\u001b[36m(export_pseudobulk_ray pid=5157)\u001b[0m 2023-01-02 18:49:51,053 cisTopic     INFO     Creating pseudobulk for mtscatac_CD14_monocyte\n"
     ]
    },
    {
     "name": "stderr",
     "output_type": "stream",
     "text": [
      "\u001b[2m\u001b[36m(export_pseudobulk_ray pid=5157)\u001b[0m /tmp/ipykernel_3643904/2558041373.py:272: FutureWarning: The frame.append method is deprecated and will be removed from pandas in a future version. Use pandas.concat instead.\n"
     ]
    },
    {
     "name": "stdout",
     "output_type": "stream",
     "text": [
      "\u001b[2m\u001b[36m(export_pseudobulk_ray pid=5159)\u001b[0m 2023-01-02 18:50:22,131 cisTopic     INFO     mtscatac_B_cell done!\n",
      "\u001b[2m\u001b[36m(export_pseudobulk_ray pid=5159)\u001b[0m 2023-01-02 18:51:31,925 cisTopic     INFO     Creating pseudobulk for mtscatac_CD16_monocyte\n"
     ]
    },
    {
     "name": "stderr",
     "output_type": "stream",
     "text": [
      "\u001b[2m\u001b[36m(export_pseudobulk_ray pid=5159)\u001b[0m /tmp/ipykernel_3643904/2558041373.py:272: FutureWarning: The frame.append method is deprecated and will be removed from pandas in a future version. Use pandas.concat instead.\n"
     ]
    },
    {
     "name": "stdout",
     "output_type": "stream",
     "text": [
      "\u001b[2m\u001b[36m(export_pseudobulk_ray pid=5159)\u001b[0m 2023-01-02 18:52:42,555 cisTopic     INFO     mtscatac_CD16_monocyte done!\n",
      "\u001b[2m\u001b[36m(export_pseudobulk_ray pid=5159)\u001b[0m 2023-01-02 18:53:12,985 cisTopic     INFO     Creating pseudobulk for mtscatac_CD4_T_cell\n"
     ]
    },
    {
     "name": "stderr",
     "output_type": "stream",
     "text": [
      "\u001b[2m\u001b[36m(export_pseudobulk_ray pid=5159)\u001b[0m /tmp/ipykernel_3643904/2558041373.py:272: FutureWarning: The frame.append method is deprecated and will be removed from pandas in a future version. Use pandas.concat instead.\n"
     ]
    },
    {
     "name": "stdout",
     "output_type": "stream",
     "text": [
      "\u001b[2m\u001b[36m(export_pseudobulk_ray pid=5157)\u001b[0m 2023-01-02 18:54:24,997 cisTopic     INFO     mtscatac_CD14_monocyte done!\n",
      "\u001b[2m\u001b[36m(export_pseudobulk_ray pid=5157)\u001b[0m 2023-01-02 18:54:52,384 cisTopic     INFO     Creating pseudobulk for mtscatac_Cytotoxic_T_cell\n"
     ]
    },
    {
     "name": "stderr",
     "output_type": "stream",
     "text": [
      "\u001b[2m\u001b[36m(export_pseudobulk_ray pid=5157)\u001b[0m /tmp/ipykernel_3643904/2558041373.py:272: FutureWarning: The frame.append method is deprecated and will be removed from pandas in a future version. Use pandas.concat instead.\n"
     ]
    },
    {
     "name": "stdout",
     "output_type": "stream",
     "text": [
      "\u001b[2m\u001b[36m(export_pseudobulk_ray pid=5160)\u001b[0m 2023-01-02 18:56:31,018 cisTopic     INFO     Creating pseudobulk for mtscatac_Dendritic_cell\n"
     ]
    },
    {
     "name": "stderr",
     "output_type": "stream",
     "text": [
      "\u001b[2m\u001b[36m(export_pseudobulk_ray pid=5160)\u001b[0m /tmp/ipykernel_3643904/2558041373.py:272: FutureWarning: The frame.append method is deprecated and will be removed from pandas in a future version. Use pandas.concat instead.\n"
     ]
    },
    {
     "name": "stdout",
     "output_type": "stream",
     "text": [
      "\u001b[2m\u001b[36m(export_pseudobulk_ray pid=5160)\u001b[0m 2023-01-02 18:57:13,719 cisTopic     INFO     mtscatac_Dendritic_cell done!\n",
      "\u001b[2m\u001b[36m(export_pseudobulk_ray pid=5157)\u001b[0m 2023-01-02 18:57:55,670 cisTopic     INFO     mtscatac_Cytotoxic_T_cell done!\n",
      "\u001b[2m\u001b[36m(export_pseudobulk_ray pid=5159)\u001b[0m 2023-01-02 18:57:58,188 cisTopic     INFO     mtscatac_CD4_T_cell done!\n",
      "\u001b[2m\u001b[36m(export_pseudobulk_ray pid=5159)\u001b[0m 2023-01-02 18:58:08,015 cisTopic     INFO     Creating pseudobulk for mtscatac_Natural_killer_cell\n"
     ]
    },
    {
     "name": "stderr",
     "output_type": "stream",
     "text": [
      "\u001b[2m\u001b[36m(export_pseudobulk_ray pid=5159)\u001b[0m /tmp/ipykernel_3643904/2558041373.py:272: FutureWarning: The frame.append method is deprecated and will be removed from pandas in a future version. Use pandas.concat instead.\n"
     ]
    },
    {
     "name": "stdout",
     "output_type": "stream",
     "text": [
      "\u001b[2m\u001b[36m(export_pseudobulk_ray pid=5159)\u001b[0m 2023-01-02 18:59:06,923 cisTopic     INFO     mtscatac_Natural_killer_cell done!\n",
      "\u001b[2m\u001b[36m(export_pseudobulk_ray pid=5159)\u001b[0m 2023-01-02 18:59:43,785 cisTopic     INFO     Creating pseudobulk for s3atac_B_cell\n"
     ]
    },
    {
     "name": "stderr",
     "output_type": "stream",
     "text": [
      "\u001b[2m\u001b[36m(export_pseudobulk_ray pid=5159)\u001b[0m /tmp/ipykernel_3643904/2558041373.py:272: FutureWarning: The frame.append method is deprecated and will be removed from pandas in a future version. Use pandas.concat instead.\n"
     ]
    },
    {
     "name": "stdout",
     "output_type": "stream",
     "text": [
      "\u001b[2m\u001b[36m(export_pseudobulk_ray pid=5157)\u001b[0m 2023-01-02 19:01:21,569 cisTopic     INFO     Creating pseudobulk for s3atac_CD14_monocyte\n"
     ]
    },
    {
     "name": "stderr",
     "output_type": "stream",
     "text": [
      "\u001b[2m\u001b[36m(export_pseudobulk_ray pid=5157)\u001b[0m /tmp/ipykernel_3643904/2558041373.py:272: FutureWarning: The frame.append method is deprecated and will be removed from pandas in a future version. Use pandas.concat instead.\n"
     ]
    },
    {
     "name": "stdout",
     "output_type": "stream",
     "text": [
      "\u001b[2m\u001b[36m(export_pseudobulk_ray pid=5157)\u001b[0m 2023-01-02 19:01:37,749 cisTopic     INFO     s3atac_CD14_monocyte done!\n",
      "\u001b[2m\u001b[36m(export_pseudobulk_ray pid=5157)\u001b[0m 2023-01-02 19:02:56,635 cisTopic     INFO     Creating pseudobulk for s3atac_CD16_monocyte\n"
     ]
    },
    {
     "name": "stderr",
     "output_type": "stream",
     "text": [
      "\u001b[2m\u001b[36m(export_pseudobulk_ray pid=5157)\u001b[0m /tmp/ipykernel_3643904/2558041373.py:272: FutureWarning: The frame.append method is deprecated and will be removed from pandas in a future version. Use pandas.concat instead.\n"
     ]
    },
    {
     "name": "stdout",
     "output_type": "stream",
     "text": [
      "\u001b[2m\u001b[36m(export_pseudobulk_ray pid=5157)\u001b[0m 2023-01-02 19:03:10,784 cisTopic     INFO     s3atac_CD16_monocyte done!\n",
      "\u001b[2m\u001b[36m(export_pseudobulk_ray pid=5157)\u001b[0m 2023-01-02 19:04:36,985 cisTopic     INFO     Creating pseudobulk for s3atac_CD4_T_cell\n"
     ]
    },
    {
     "name": "stderr",
     "output_type": "stream",
     "text": [
      "\u001b[2m\u001b[36m(export_pseudobulk_ray pid=5157)\u001b[0m /tmp/ipykernel_3643904/2558041373.py:272: FutureWarning: The frame.append method is deprecated and will be removed from pandas in a future version. Use pandas.concat instead.\n"
     ]
    },
    {
     "name": "stdout",
     "output_type": "stream",
     "text": [
      "\u001b[2m\u001b[36m(export_pseudobulk_ray pid=5157)\u001b[0m 2023-01-02 19:04:56,350 cisTopic     INFO     s3atac_CD4_T_cell done!\n",
      "\u001b[2m\u001b[36m(export_pseudobulk_ray pid=5157)\u001b[0m 2023-01-02 19:06:16,592 cisTopic     INFO     Creating pseudobulk for s3atac_Cytotoxic_T_cell\n"
     ]
    },
    {
     "name": "stderr",
     "output_type": "stream",
     "text": [
      "\u001b[2m\u001b[36m(export_pseudobulk_ray pid=5157)\u001b[0m /tmp/ipykernel_3643904/2558041373.py:272: FutureWarning: The frame.append method is deprecated and will be removed from pandas in a future version. Use pandas.concat instead.\n"
     ]
    },
    {
     "name": "stdout",
     "output_type": "stream",
     "text": [
      "\u001b[2m\u001b[36m(export_pseudobulk_ray pid=5157)\u001b[0m 2023-01-02 19:07:02,616 cisTopic     INFO     s3atac_Cytotoxic_T_cell done!\n",
      "\u001b[2m\u001b[36m(export_pseudobulk_ray pid=5157)\u001b[0m 2023-01-02 19:08:06,367 cisTopic     INFO     Creating pseudobulk for s3atac_Dendritic_cell\n"
     ]
    },
    {
     "name": "stderr",
     "output_type": "stream",
     "text": [
      "\u001b[2m\u001b[36m(export_pseudobulk_ray pid=5157)\u001b[0m /tmp/ipykernel_3643904/2558041373.py:272: FutureWarning: The frame.append method is deprecated and will be removed from pandas in a future version. Use pandas.concat instead.\n"
     ]
    },
    {
     "name": "stdout",
     "output_type": "stream",
     "text": [
      "\u001b[2m\u001b[36m(export_pseudobulk_ray pid=5157)\u001b[0m 2023-01-02 19:08:19,670 cisTopic     INFO     s3atac_Dendritic_cell done!\n",
      "\u001b[2m\u001b[36m(export_pseudobulk_ray pid=5157)\u001b[0m 2023-01-02 19:09:46,052 cisTopic     INFO     Creating pseudobulk for s3atac_Natural_killer_cell\n"
     ]
    },
    {
     "name": "stderr",
     "output_type": "stream",
     "text": [
      "\u001b[2m\u001b[36m(export_pseudobulk_ray pid=5157)\u001b[0m /tmp/ipykernel_3643904/2558041373.py:272: FutureWarning: The frame.append method is deprecated and will be removed from pandas in a future version. Use pandas.concat instead.\n"
     ]
    },
    {
     "name": "stdout",
     "output_type": "stream",
     "text": [
      "\u001b[2m\u001b[36m(export_pseudobulk_ray pid=5157)\u001b[0m 2023-01-02 19:09:59,452 cisTopic     INFO     s3atac_Natural_killer_cell done!\n"
     ]
    },
    {
     "name": "stderr",
     "output_type": "stream",
     "text": [
      "\u001b[2m\u001b[36m(raylet)\u001b[0m Spilled 536357 MiB, 88 objects, write throughput 660 MiB/s.\n"
     ]
    }
   ],
   "source": [
    "# for sample in [\"BRO_mtscatac_1.LIBDS\"]:\n",
    "bw_paths_dict = {}\n",
    "bed_paths_dict = {}\n",
    "\n",
    "import ray\n",
    "\n",
    "if ray.is_initialized():\n",
    "    print(\"Shutting down Ray\")\n",
    "    ray.shutdown()\n",
    "\n",
    "for sample in cto_consensus_path_dict.keys():\n",
    "    supersample = \".\".join(sample.split(\".\")[:2])\n",
    "\n",
    "    bed_path = os.path.join(\n",
    "        \"per_tech_cell_type_bigwigs_nonnorm\",\n",
    "        f\"{sample}__CONSENSUS_pseudobulk_bed_files_nonnorm\",\n",
    "    )\n",
    "    bw_path = os.path.join(\n",
    "        \"per_tech_cell_type_bigwigs_nonnorm\",\n",
    "        f\"{sample}__CONSENSUS_pseudobulk_bw_files_nonnorm\",\n",
    "    )\n",
    "    if not os.path.exists(bed_path):\n",
    "        cto_path = cto_consensus_path_dict[sample]\n",
    "        with open(cto_path, \"rb\") as f:\n",
    "            cto = pickle.load(f)\n",
    "\n",
    "            cto.cell_data[\"tech_consensus_cell_type\"] = (\n",
    "                cto.cell_data[\"tech\"]\n",
    "                + \"__\"\n",
    "                + [x.replace(\" \", \"_\") for x in cto.cell_data[\"consensus_cell_type\"]]\n",
    "            )\n",
    "\n",
    "            bw_paths, bed_paths = export_pseudobulk(\n",
    "                input_data=cto,\n",
    "                variable=\"tech_consensus_cell_type\",\n",
    "                sample_id_col=\"sample_id\",\n",
    "                chromsizes=chromsizes,\n",
    "                bed_path=bed_path,\n",
    "                bigwig_path=bw_path,\n",
    "                path_to_fragments=fragments_path_dict[supersample],\n",
    "                n_cpu=8,\n",
    "                normalize_bigwig=False,\n",
    "                remove_duplicates=True,\n",
    "            )\n",
    "\n",
    "            if ray.is_initialized():\n",
    "                print(\"Shutting down Ray\")\n",
    "                ray.shutdown()\n",
    "    else:\n",
    "        print(f\"{bed_path} exists, skipping...\")"
   ]
  },
  {
   "cell_type": "code",
   "execution_count": 9,
   "id": "46e9300e-8b12-4a1f-8233-304ff2b3b3a9",
   "metadata": {
    "execution": {
     "iopub.execute_input": "2023-01-02T20:27:35.885866Z",
     "iopub.status.busy": "2023-01-02T20:27:35.884864Z",
     "iopub.status.idle": "2023-01-02T20:27:35.897185Z",
     "shell.execute_reply": "2023-01-02T20:27:35.895750Z",
     "shell.execute_reply.started": "2023-01-02T20:27:35.885801Z"
    }
   },
   "outputs": [
    {
     "data": {
      "text/plain": [
       "{'master_sub_1.FIXEDCELLS': 'cistopic_objects/master_sub_1.FIXEDCELLS__cto.scrublet0-4.fmx.singlets.model_20topics.dimreduc.consensus.pkl'}"
      ]
     },
     "execution_count": 9,
     "metadata": {},
     "output_type": "execute_result"
    }
   ],
   "source": [
    "cto_consensus_path_dict"
   ]
  },
  {
   "cell_type": "code",
   "execution_count": 10,
   "id": "de52cdf2-4cc9-42f3-aeba-fd0a72e50a97",
   "metadata": {
    "execution": {
     "iopub.execute_input": "2023-01-02T20:27:56.916967Z",
     "iopub.status.busy": "2023-01-02T20:27:56.916005Z",
     "iopub.status.idle": "2023-01-02T22:34:56.611068Z",
     "shell.execute_reply": "2023-01-02T22:34:56.609926Z",
     "shell.execute_reply.started": "2023-01-02T20:27:56.916907Z"
    },
    "tags": []
   },
   "outputs": [
    {
     "name": "stdout",
     "output_type": "stream",
     "text": [
      "2023-01-02 21:28:02,283 cisTopic     INFO     Reading fragments from ../1_data_repository/fixedcells_fragments/OHS_s3atac_2.FIXEDCELLS.fragments.tsv.gz\n",
      "2023-01-02 21:28:45,744 cisTopic     INFO     Reading fragments from ../1_data_repository/fixedcells_fragments/SAN_10xmultiome_2.FIXEDCELLS.fragments.tsv.gz\n",
      "2023-01-02 21:30:24,319 cisTopic     INFO     Reading fragments from ../1_data_repository/fixedcells_fragments/OHS_s3atac_1.FIXEDCELLS.fragments.tsv.gz\n",
      "2023-01-02 21:31:27,237 cisTopic     INFO     Reading fragments from ../1_data_repository/fixedcells_fragments/TXG_10xv11_1.FIXEDCELLS.fragments.tsv.gz\n",
      "2023-01-02 21:34:31,961 cisTopic     INFO     Reading fragments from ../1_data_repository/fixedcells_fragments/CNA_10xv11_5.FIXEDCELLS.fragments.tsv.gz\n",
      "2023-01-02 21:34:50,484 cisTopic     INFO     Reading fragments from ../1_data_repository/fixedcells_fragments/STA_10xv11_1.FIXEDCELLS.fragments.tsv.gz\n",
      "2023-01-02 21:35:11,690 cisTopic     INFO     Reading fragments from ../1_data_repository/fixedcells_fragments/CNA_hydrop_2.FIXEDCELLS.fragments.tsv.gz\n",
      "2023-01-02 21:35:41,365 cisTopic     INFO     Reading fragments from ../1_data_repository/fixedcells_fragments/CNA_10xv2_2.FIXEDCELLS.fragments.tsv.gz\n",
      "2023-01-02 21:36:59,087 cisTopic     INFO     Reading fragments from ../1_data_repository/fixedcells_fragments/VIB_hydrop_2.FIXEDCELLS.fragments.tsv.gz\n",
      "2023-01-02 21:37:31,768 cisTopic     INFO     Reading fragments from ../1_data_repository/fixedcells_fragments/STA_10xv11_2.FIXEDCELLS.fragments.tsv.gz\n",
      "2023-01-02 21:38:02,600 cisTopic     INFO     Reading fragments from ../1_data_repository/fixedcells_fragments/VIB_10xmultiome_1.FIXEDCELLS.fragments.tsv.gz\n",
      "2023-01-02 21:38:23,914 cisTopic     INFO     Reading fragments from ../1_data_repository/fixedcells_fragments/VIB_hydrop_1.FIXEDCELLS.fragments.tsv.gz\n",
      "2023-01-02 21:38:50,021 cisTopic     INFO     Reading fragments from ../1_data_repository/fixedcells_fragments/EPF_hydrop_3.FIXEDCELLS.fragments.tsv.gz\n",
      "2023-01-02 21:39:14,619 cisTopic     INFO     Reading fragments from ../1_data_repository/fixedcells_fragments/VIB_10xv2_1.FIXEDCELLS.fragments.tsv.gz\n",
      "2023-01-02 21:40:06,499 cisTopic     INFO     Reading fragments from ../1_data_repository/fixedcells_fragments/UCS_ddseq_2.FIXEDCELLS.fragments.tsv.gz\n",
      "2023-01-02 21:41:39,468 cisTopic     INFO     Reading fragments from ../1_data_repository/fixedcells_fragments/HAR_ddseq_1.FIXEDCELLS.fragments.tsv.gz\n",
      "2023-01-02 21:43:09,718 cisTopic     INFO     Reading fragments from ../1_data_repository/fixedcells_fragments/CNA_10xv11_2.FIXEDCELLS.fragments.tsv.gz\n",
      "2023-01-02 21:43:53,508 cisTopic     INFO     Reading fragments from ../1_data_repository/fixedcells_fragments/UCS_ddseq_1.FIXEDCELLS.fragments.tsv.gz\n",
      "2023-01-02 21:45:41,391 cisTopic     INFO     Reading fragments from ../1_data_repository/fixedcells_fragments/CNA_10xmultiome_2.FIXEDCELLS.fragments.tsv.gz\n",
      "2023-01-02 21:46:43,402 cisTopic     INFO     Reading fragments from ../1_data_repository/fixedcells_fragments/TXG_10xv2_2.FIXEDCELLS.fragments.tsv.gz\n",
      "2023-01-02 21:49:33,986 cisTopic     INFO     Reading fragments from ../1_data_repository/fixedcells_fragments/VIB_10xmultiome_2.FIXEDCELLS.fragments.tsv.gz\n",
      "2023-01-02 21:50:06,441 cisTopic     INFO     Reading fragments from ../1_data_repository/fixedcells_fragments/BIO_ddseq_1.FIXEDCELLS.fragments.tsv.gz\n",
      "2023-01-02 21:51:30,944 cisTopic     INFO     Reading fragments from ../1_data_repository/fixedcells_fragments/VIB_10xv2_2.FIXEDCELLS.fragments.tsv.gz\n",
      "2023-01-02 21:52:26,220 cisTopic     INFO     Reading fragments from ../1_data_repository/fixedcells_fragments/BIO_ddseq_4.FIXEDCELLS.fragments.tsv.gz\n",
      "2023-01-02 21:53:11,023 cisTopic     INFO     Reading fragments from ../1_data_repository/fixedcells_fragments/BIO_ddseq_3.FIXEDCELLS.fragments.tsv.gz\n",
      "2023-01-02 21:53:54,357 cisTopic     INFO     Reading fragments from ../1_data_repository/fixedcells_fragments/CNA_10xv11_4.FIXEDCELLS.fragments.tsv.gz\n",
      "2023-01-02 21:54:08,396 cisTopic     INFO     Reading fragments from ../1_data_repository/fixedcells_fragments/MDC_mtscatac_2.FIXEDCELLS.fragments.tsv.gz\n",
      "2023-01-02 21:55:36,084 cisTopic     INFO     Reading fragments from ../1_data_repository/fixedcells_fragments/CNA_hydrop_3.FIXEDCELLS.fragments.tsv.gz\n",
      "2023-01-02 21:56:01,837 cisTopic     INFO     Reading fragments from ../1_data_repository/fixedcells_fragments/BRO_mtscatac_2.FIXEDCELLS.fragments.tsv.gz\n",
      "2023-01-02 21:56:50,947 cisTopic     INFO     Reading fragments from ../1_data_repository/fixedcells_fragments/BRO_mtscatac_1.FIXEDCELLS.fragments.tsv.gz\n",
      "2023-01-02 21:57:43,686 cisTopic     INFO     Reading fragments from ../1_data_repository/fixedcells_fragments/CNA_10xmultiome_1.FIXEDCELLS.fragments.tsv.gz\n",
      "2023-01-02 21:58:37,550 cisTopic     INFO     Reading fragments from ../1_data_repository/fixedcells_fragments/VIB_10xv1_2.FIXEDCELLS.fragments.tsv.gz\n",
      "2023-01-02 22:01:45,258 cisTopic     INFO     Reading fragments from ../1_data_repository/fixedcells_fragments/CNA_10xv11_3.FIXEDCELLS.fragments.tsv.gz\n",
      "2023-01-02 22:03:09,214 cisTopic     INFO     Reading fragments from ../1_data_repository/fixedcells_fragments/VIB_10xv1_1.FIXEDCELLS.fragments.tsv.gz\n",
      "2023-01-02 22:04:09,388 cisTopic     INFO     Reading fragments from ../1_data_repository/fixedcells_fragments/EPF_hydrop_4.FIXEDCELLS.fragments.tsv.gz\n",
      "2023-01-02 22:04:37,115 cisTopic     INFO     Reading fragments from ../1_data_repository/fixedcells_fragments/EPF_hydrop_1.FIXEDCELLS.fragments.tsv.gz\n",
      "2023-01-02 22:05:03,327 cisTopic     INFO     Reading fragments from ../1_data_repository/fixedcells_fragments/CNA_10xv11_1.FIXEDCELLS.fragments.tsv.gz\n",
      "2023-01-02 22:05:47,502 cisTopic     INFO     Reading fragments from ../1_data_repository/fixedcells_fragments/CNA_mtscatac_1.FIXEDCELLS.fragments.tsv.gz\n",
      "2023-01-02 22:06:38,432 cisTopic     INFO     Reading fragments from ../1_data_repository/fixedcells_fragments/BIO_ddseq_2.FIXEDCELLS.fragments.tsv.gz\n",
      "2023-01-02 22:07:43,019 cisTopic     INFO     Reading fragments from ../1_data_repository/fixedcells_fragments/CNA_hydrop_1.FIXEDCELLS.fragments.tsv.gz\n",
      "2023-01-02 22:08:09,216 cisTopic     INFO     Reading fragments from ../1_data_repository/fixedcells_fragments/CNA_mtscatac_2.FIXEDCELLS.fragments.tsv.gz\n",
      "2023-01-02 22:08:31,726 cisTopic     INFO     Reading fragments from ../1_data_repository/fixedcells_fragments/TXG_10xv2_1.FIXEDCELLS.fragments.tsv.gz\n",
      "2023-01-02 22:11:24,948 cisTopic     INFO     Reading fragments from ../1_data_repository/fixedcells_fragments/SAN_10xmultiome_1.FIXEDCELLS.fragments.tsv.gz\n",
      "2023-01-02 22:12:43,700 cisTopic     INFO     Reading fragments from ../1_data_repository/fixedcells_fragments/HAR_ddseq_2.FIXEDCELLS.fragments.tsv.gz\n",
      "2023-01-02 22:14:15,948 cisTopic     INFO     Reading fragments from ../1_data_repository/fixedcells_fragments/CNA_10xv2_1.FIXEDCELLS.fragments.tsv.gz\n",
      "2023-01-02 22:15:11,987 cisTopic     INFO     Reading fragments from ../1_data_repository/fixedcells_fragments/EPF_hydrop_2.FIXEDCELLS.fragments.tsv.gz\n",
      "2023-01-02 22:15:37,078 cisTopic     INFO     Reading fragments from ../1_data_repository/fixedcells_fragments/MDC_mtscatac_1.FIXEDCELLS.fragments.tsv.gz\n"
     ]
    },
    {
     "name": "stderr",
     "output_type": "stream",
     "text": [
      "2023-01-02 22:17:55,749\tINFO worker.py:1509 -- Started a local Ray instance. View the dashboard at \u001b[1m\u001b[32mhttp://127.0.0.1:8265 \u001b[39m\u001b[22m\n"
     ]
    },
    {
     "name": "stdout",
     "output_type": "stream",
     "text": [
      "\u001b[2m\u001b[36m(export_pseudobulk_ray pid=94468)\u001b[0m 2023-01-02 22:18:26,830 cisTopic     INFO     Creating pseudobulk for 10xmultiome_B_cell\n"
     ]
    },
    {
     "name": "stderr",
     "output_type": "stream",
     "text": [
      "\u001b[2m\u001b[36m(export_pseudobulk_ray pid=94468)\u001b[0m /tmp/ipykernel_3643904/2558041373.py:272: FutureWarning: The frame.append method is deprecated and will be removed from pandas in a future version. Use pandas.concat instead.\n"
     ]
    },
    {
     "name": "stdout",
     "output_type": "stream",
     "text": [
      "\u001b[2m\u001b[36m(export_pseudobulk_ray pid=94473)\u001b[0m 2023-01-02 22:18:46,637 cisTopic     INFO     Creating pseudobulk for 10xmultiome_CD14_monocyte\n"
     ]
    },
    {
     "name": "stderr",
     "output_type": "stream",
     "text": [
      "\u001b[2m\u001b[36m(export_pseudobulk_ray pid=94473)\u001b[0m /tmp/ipykernel_3643904/2558041373.py:272: FutureWarning: The frame.append method is deprecated and will be removed from pandas in a future version. Use pandas.concat instead.\n"
     ]
    },
    {
     "name": "stdout",
     "output_type": "stream",
     "text": [
      "\u001b[2m\u001b[36m(export_pseudobulk_ray pid=94471)\u001b[0m 2023-01-02 22:19:08,362 cisTopic     INFO     Creating pseudobulk for 10xmultiome_CD16_monocyte\n"
     ]
    },
    {
     "name": "stderr",
     "output_type": "stream",
     "text": [
      "\u001b[2m\u001b[36m(export_pseudobulk_ray pid=94471)\u001b[0m /tmp/ipykernel_3643904/2558041373.py:272: FutureWarning: The frame.append method is deprecated and will be removed from pandas in a future version. Use pandas.concat instead.\n"
     ]
    },
    {
     "name": "stdout",
     "output_type": "stream",
     "text": [
      "\u001b[2m\u001b[36m(export_pseudobulk_ray pid=94469)\u001b[0m 2023-01-02 22:19:27,692 cisTopic     INFO     Creating pseudobulk for 10xmultiome_CD4_T_cell\n"
     ]
    },
    {
     "name": "stderr",
     "output_type": "stream",
     "text": [
      "\u001b[2m\u001b[36m(export_pseudobulk_ray pid=94469)\u001b[0m /tmp/ipykernel_3643904/2558041373.py:272: FutureWarning: The frame.append method is deprecated and will be removed from pandas in a future version. Use pandas.concat instead.\n"
     ]
    },
    {
     "name": "stdout",
     "output_type": "stream",
     "text": [
      "\u001b[2m\u001b[36m(export_pseudobulk_ray pid=94472)\u001b[0m 2023-01-02 22:19:47,891 cisTopic     INFO     Creating pseudobulk for 10xmultiome_Cytotoxic_T_cell\n",
      "\u001b[2m\u001b[36m(export_pseudobulk_ray pid=94471)\u001b[0m 2023-01-02 22:19:59,538 cisTopic     INFO     10xmultiome_CD16_monocyte done!\n",
      "\u001b[2m\u001b[36m(export_pseudobulk_ray pid=94468)\u001b[0m 2023-01-02 22:20:00,917 cisTopic     INFO     10xmultiome_B_cell done!\n"
     ]
    },
    {
     "name": "stderr",
     "output_type": "stream",
     "text": [
      "\u001b[2m\u001b[36m(export_pseudobulk_ray pid=94472)\u001b[0m /tmp/ipykernel_3643904/2558041373.py:272: FutureWarning: The frame.append method is deprecated and will be removed from pandas in a future version. Use pandas.concat instead.\n"
     ]
    },
    {
     "name": "stdout",
     "output_type": "stream",
     "text": [
      "\u001b[2m\u001b[36m(export_pseudobulk_ray pid=94471)\u001b[0m 2023-01-02 22:20:05,548 cisTopic     INFO     Creating pseudobulk for 10xmultiome_Dendritic_cell\n"
     ]
    },
    {
     "name": "stderr",
     "output_type": "stream",
     "text": [
      "\u001b[2m\u001b[36m(export_pseudobulk_ray pid=94471)\u001b[0m /tmp/ipykernel_3643904/2558041373.py:272: FutureWarning: The frame.append method is deprecated and will be removed from pandas in a future version. Use pandas.concat instead.\n"
     ]
    },
    {
     "name": "stdout",
     "output_type": "stream",
     "text": [
      "\u001b[2m\u001b[36m(export_pseudobulk_ray pid=94468)\u001b[0m 2023-01-02 22:20:24,458 cisTopic     INFO     Creating pseudobulk for 10xmultiome_Natural_killer_cell\n",
      "\u001b[2m\u001b[36m(export_pseudobulk_ray pid=94471)\u001b[0m 2023-01-02 22:20:36,557 cisTopic     INFO     10xmultiome_Dendritic_cell done!\n"
     ]
    },
    {
     "name": "stderr",
     "output_type": "stream",
     "text": [
      "\u001b[2m\u001b[36m(export_pseudobulk_ray pid=94468)\u001b[0m /tmp/ipykernel_3643904/2558041373.py:272: FutureWarning: The frame.append method is deprecated and will be removed from pandas in a future version. Use pandas.concat instead.\n"
     ]
    },
    {
     "name": "stdout",
     "output_type": "stream",
     "text": [
      "\u001b[2m\u001b[36m(export_pseudobulk_ray pid=94471)\u001b[0m 2023-01-02 22:20:43,258 cisTopic     INFO     Creating pseudobulk for 10xv11_B_cell\n"
     ]
    },
    {
     "name": "stderr",
     "output_type": "stream",
     "text": [
      "\u001b[2m\u001b[36m(export_pseudobulk_ray pid=94471)\u001b[0m /tmp/ipykernel_3643904/2558041373.py:272: FutureWarning: The frame.append method is deprecated and will be removed from pandas in a future version. Use pandas.concat instead.\n"
     ]
    },
    {
     "name": "stdout",
     "output_type": "stream",
     "text": [
      "\u001b[2m\u001b[36m(export_pseudobulk_ray pid=94467)\u001b[0m 2023-01-02 22:21:05,279 cisTopic     INFO     Creating pseudobulk for 10xv11_CD14_monocyte\n"
     ]
    },
    {
     "name": "stderr",
     "output_type": "stream",
     "text": [
      "\u001b[2m\u001b[36m(export_pseudobulk_ray pid=94467)\u001b[0m /tmp/ipykernel_3643904/2558041373.py:272: FutureWarning: The frame.append method is deprecated and will be removed from pandas in a future version. Use pandas.concat instead.\n"
     ]
    },
    {
     "name": "stdout",
     "output_type": "stream",
     "text": [
      "\u001b[2m\u001b[36m(export_pseudobulk_ray pid=94470)\u001b[0m 2023-01-02 22:21:23,558 cisTopic     INFO     Creating pseudobulk for 10xv11_CD16_monocyte\n"
     ]
    },
    {
     "name": "stderr",
     "output_type": "stream",
     "text": [
      "\u001b[2m\u001b[36m(export_pseudobulk_ray pid=94470)\u001b[0m /tmp/ipykernel_3643904/2558041373.py:272: FutureWarning: The frame.append method is deprecated and will be removed from pandas in a future version. Use pandas.concat instead.\n"
     ]
    },
    {
     "name": "stdout",
     "output_type": "stream",
     "text": [
      "\u001b[2m\u001b[36m(export_pseudobulk_ray pid=94468)\u001b[0m 2023-01-02 22:21:39,673 cisTopic     INFO     10xmultiome_Natural_killer_cell done!\n",
      "\u001b[2m\u001b[36m(export_pseudobulk_ray pid=94472)\u001b[0m 2023-01-02 22:21:40,226 cisTopic     INFO     10xmultiome_Cytotoxic_T_cell done!\n",
      "\u001b[2m\u001b[36m(export_pseudobulk_ray pid=94466)\u001b[0m 2023-01-02 22:21:41,006 cisTopic     INFO     Creating pseudobulk for 10xv11_CD4_T_cell\n",
      "\u001b[2m\u001b[36m(export_pseudobulk_ray pid=94473)\u001b[0m 2023-01-02 22:21:49,610 cisTopic     INFO     10xmultiome_CD14_monocyte done!\n"
     ]
    },
    {
     "name": "stderr",
     "output_type": "stream",
     "text": [
      "\u001b[2m\u001b[36m(export_pseudobulk_ray pid=94466)\u001b[0m /tmp/ipykernel_3643904/2558041373.py:272: FutureWarning: The frame.append method is deprecated and will be removed from pandas in a future version. Use pandas.concat instead.\n"
     ]
    },
    {
     "name": "stdout",
     "output_type": "stream",
     "text": [
      "\u001b[2m\u001b[36m(export_pseudobulk_ray pid=94473)\u001b[0m 2023-01-02 22:21:59,152 cisTopic     INFO     Creating pseudobulk for 10xv11_Cytotoxic_T_cell\n",
      "\u001b[2m\u001b[36m(export_pseudobulk_ray pid=94471)\u001b[0m 2023-01-02 22:22:07,979 cisTopic     INFO     10xv11_B_cell done!\n"
     ]
    },
    {
     "name": "stderr",
     "output_type": "stream",
     "text": [
      "\u001b[2m\u001b[36m(export_pseudobulk_ray pid=94473)\u001b[0m /tmp/ipykernel_3643904/2558041373.py:272: FutureWarning: The frame.append method is deprecated and will be removed from pandas in a future version. Use pandas.concat instead.\n"
     ]
    },
    {
     "name": "stdout",
     "output_type": "stream",
     "text": [
      "\u001b[2m\u001b[36m(export_pseudobulk_ray pid=94470)\u001b[0m 2023-01-02 22:22:13,447 cisTopic     INFO     10xv11_CD16_monocyte done!\n",
      "\u001b[2m\u001b[36m(export_pseudobulk_ray pid=94470)\u001b[0m 2023-01-02 22:22:21,091 cisTopic     INFO     Creating pseudobulk for 10xv11_Dendritic_cell\n"
     ]
    },
    {
     "name": "stderr",
     "output_type": "stream",
     "text": [
      "\u001b[2m\u001b[36m(raylet)\u001b[0m Spilled 12189 MiB, 2 objects, write throughput 830 MiB/s. Set RAY_verbose_spill_logs=0 to disable this message.\n",
      "\u001b[2m\u001b[36m(raylet)\u001b[0m Spilled 12193 MiB, 3 objects, write throughput 829 MiB/s.\n",
      "\u001b[2m\u001b[36m(export_pseudobulk_ray pid=94470)\u001b[0m /tmp/ipykernel_3643904/2558041373.py:272: FutureWarning: The frame.append method is deprecated and will be removed from pandas in a future version. Use pandas.concat instead.\n"
     ]
    },
    {
     "name": "stdout",
     "output_type": "stream",
     "text": [
      "\u001b[2m\u001b[36m(export_pseudobulk_ray pid=94471)\u001b[0m 2023-01-02 22:22:40,809 cisTopic     INFO     Creating pseudobulk for 10xv11_Natural_killer_cell\n"
     ]
    },
    {
     "name": "stderr",
     "output_type": "stream",
     "text": [
      "\u001b[2m\u001b[36m(raylet)\u001b[0m Spilled 24379 MiB, 4 objects, write throughput 882 MiB/s.\n",
      "\u001b[2m\u001b[36m(raylet)\u001b[0m Spilled 24383 MiB, 5 objects, write throughput 881 MiB/s.\n",
      "\u001b[2m\u001b[36m(export_pseudobulk_ray pid=94471)\u001b[0m /tmp/ipykernel_3643904/2558041373.py:272: FutureWarning: The frame.append method is deprecated and will be removed from pandas in a future version. Use pandas.concat instead.\n"
     ]
    },
    {
     "name": "stdout",
     "output_type": "stream",
     "text": [
      "\u001b[2m\u001b[36m(export_pseudobulk_ray pid=94470)\u001b[0m 2023-01-02 22:22:57,786 cisTopic     INFO     10xv11_Dendritic_cell done!\n",
      "\u001b[2m\u001b[36m(export_pseudobulk_ray pid=94469)\u001b[0m 2023-01-02 22:22:59,023 cisTopic     INFO     10xmultiome_CD4_T_cell done!\n",
      "\u001b[2m\u001b[36m(export_pseudobulk_ray pid=94472)\u001b[0m 2023-01-02 22:23:00,180 cisTopic     INFO     Creating pseudobulk for 10xv1_B_cell\n"
     ]
    },
    {
     "name": "stderr",
     "output_type": "stream",
     "text": [
      "\u001b[2m\u001b[36m(raylet)\u001b[0m Spilled 36569 MiB, 6 objects, write throughput 880 MiB/s.\n",
      "\u001b[2m\u001b[36m(export_pseudobulk_ray pid=94472)\u001b[0m /tmp/ipykernel_3643904/2558041373.py:272: FutureWarning: The frame.append method is deprecated and will be removed from pandas in a future version. Use pandas.concat instead.\n"
     ]
    },
    {
     "name": "stdout",
     "output_type": "stream",
     "text": [
      "\u001b[2m\u001b[36m(export_pseudobulk_ray pid=94471)\u001b[0m 2023-01-02 22:23:57,252 cisTopic     INFO     10xv11_Natural_killer_cell done!\n",
      "\u001b[2m\u001b[36m(export_pseudobulk_ray pid=94473)\u001b[0m 2023-01-02 22:24:16,399 cisTopic     INFO     10xv11_Cytotoxic_T_cell done!\n",
      "\u001b[2m\u001b[36m(export_pseudobulk_ray pid=94473)\u001b[0m 2023-01-02 22:24:35,426 cisTopic     INFO     Creating pseudobulk for 10xv1_CD14_monocyte\n",
      "\u001b[2m\u001b[36m(export_pseudobulk_ray pid=94467)\u001b[0m 2023-01-02 22:24:37,904 cisTopic     INFO     10xv11_CD14_monocyte done!\n",
      "\u001b[2m\u001b[36m(export_pseudobulk_ray pid=94472)\u001b[0m 2023-01-02 22:24:42,835 cisTopic     INFO     10xv1_B_cell done!\n"
     ]
    },
    {
     "name": "stderr",
     "output_type": "stream",
     "text": [
      "\u001b[2m\u001b[36m(export_pseudobulk_ray pid=94473)\u001b[0m /tmp/ipykernel_3643904/2558041373.py:272: FutureWarning: The frame.append method is deprecated and will be removed from pandas in a future version. Use pandas.concat instead.\n"
     ]
    },
    {
     "name": "stdout",
     "output_type": "stream",
     "text": [
      "\u001b[2m\u001b[36m(export_pseudobulk_ray pid=94466)\u001b[0m 2023-01-02 22:26:04,569 cisTopic     INFO     10xv11_CD4_T_cell done!\n",
      "\u001b[2m\u001b[36m(export_pseudobulk_ray pid=94466)\u001b[0m 2023-01-02 22:26:19,016 cisTopic     INFO     Creating pseudobulk for 10xv1_CD16_monocyte\n"
     ]
    },
    {
     "name": "stderr",
     "output_type": "stream",
     "text": [
      "\u001b[2m\u001b[36m(export_pseudobulk_ray pid=94466)\u001b[0m /tmp/ipykernel_3643904/2558041373.py:272: FutureWarning: The frame.append method is deprecated and will be removed from pandas in a future version. Use pandas.concat instead.\n"
     ]
    },
    {
     "name": "stdout",
     "output_type": "stream",
     "text": [
      "\u001b[2m\u001b[36m(export_pseudobulk_ray pid=94466)\u001b[0m 2023-01-02 22:27:10,123 cisTopic     INFO     10xv1_CD16_monocyte done!\n",
      "\u001b[2m\u001b[36m(export_pseudobulk_ray pid=94466)\u001b[0m 2023-01-02 22:27:57,073 cisTopic     INFO     Creating pseudobulk for 10xv1_CD4_T_cell\n"
     ]
    },
    {
     "name": "stderr",
     "output_type": "stream",
     "text": [
      "\u001b[2m\u001b[36m(raylet)\u001b[0m Spilled 73139 MiB, 12 objects, write throughput 809 MiB/s.\n",
      "\u001b[2m\u001b[36m(export_pseudobulk_ray pid=94466)\u001b[0m /tmp/ipykernel_3643904/2558041373.py:272: FutureWarning: The frame.append method is deprecated and will be removed from pandas in a future version. Use pandas.concat instead.\n"
     ]
    },
    {
     "name": "stdout",
     "output_type": "stream",
     "text": [
      "\u001b[2m\u001b[36m(export_pseudobulk_ray pid=94473)\u001b[0m 2023-01-02 22:28:38,115 cisTopic     INFO     10xv1_CD14_monocyte done!\n",
      "\u001b[2m\u001b[36m(export_pseudobulk_ray pid=94473)\u001b[0m 2023-01-02 22:29:33,779 cisTopic     INFO     Creating pseudobulk for 10xv1_Cytotoxic_T_cell\n"
     ]
    },
    {
     "name": "stderr",
     "output_type": "stream",
     "text": [
      "\u001b[2m\u001b[36m(export_pseudobulk_ray pid=94473)\u001b[0m /tmp/ipykernel_3643904/2558041373.py:272: FutureWarning: The frame.append method is deprecated and will be removed from pandas in a future version. Use pandas.concat instead.\n"
     ]
    },
    {
     "name": "stdout",
     "output_type": "stream",
     "text": [
      "\u001b[2m\u001b[36m(export_pseudobulk_ray pid=94472)\u001b[0m 2023-01-02 22:31:09,200 cisTopic     INFO     Creating pseudobulk for 10xv1_Dendritic_cell\n",
      "\u001b[2m\u001b[36m(export_pseudobulk_ray pid=94473)\u001b[0m 2023-01-02 22:31:19,544 cisTopic     INFO     10xv1_Cytotoxic_T_cell done!\n"
     ]
    },
    {
     "name": "stderr",
     "output_type": "stream",
     "text": [
      "\u001b[2m\u001b[36m(export_pseudobulk_ray pid=94472)\u001b[0m /tmp/ipykernel_3643904/2558041373.py:272: FutureWarning: The frame.append method is deprecated and will be removed from pandas in a future version. Use pandas.concat instead.\n"
     ]
    },
    {
     "name": "stdout",
     "output_type": "stream",
     "text": [
      "\u001b[2m\u001b[36m(export_pseudobulk_ray pid=94472)\u001b[0m 2023-01-02 22:31:43,603 cisTopic     INFO     10xv1_Dendritic_cell done!\n",
      "\u001b[2m\u001b[36m(export_pseudobulk_ray pid=94466)\u001b[0m 2023-01-02 22:32:00,385 cisTopic     INFO     10xv1_CD4_T_cell done!\n",
      "\u001b[2m\u001b[36m(export_pseudobulk_ray pid=94466)\u001b[0m 2023-01-02 22:32:45,038 cisTopic     INFO     Creating pseudobulk for 10xv1_Natural_killer_cell\n"
     ]
    },
    {
     "name": "stderr",
     "output_type": "stream",
     "text": [
      "\u001b[2m\u001b[36m(export_pseudobulk_ray pid=94466)\u001b[0m /tmp/ipykernel_3643904/2558041373.py:272: FutureWarning: The frame.append method is deprecated and will be removed from pandas in a future version. Use pandas.concat instead.\n"
     ]
    },
    {
     "name": "stdout",
     "output_type": "stream",
     "text": [
      "\u001b[2m\u001b[36m(export_pseudobulk_ray pid=94466)\u001b[0m 2023-01-02 22:34:04,021 cisTopic     INFO     10xv1_Natural_killer_cell done!\n",
      "\u001b[2m\u001b[36m(export_pseudobulk_ray pid=94466)\u001b[0m 2023-01-02 22:34:25,179 cisTopic     INFO     Creating pseudobulk for 10xv2_B_cell\n"
     ]
    },
    {
     "name": "stderr",
     "output_type": "stream",
     "text": [
      "\u001b[2m\u001b[36m(export_pseudobulk_ray pid=94466)\u001b[0m /tmp/ipykernel_3643904/2558041373.py:272: FutureWarning: The frame.append method is deprecated and will be removed from pandas in a future version. Use pandas.concat instead.\n"
     ]
    },
    {
     "name": "stdout",
     "output_type": "stream",
     "text": [
      "\u001b[2m\u001b[36m(export_pseudobulk_ray pid=94472)\u001b[0m 2023-01-02 22:36:05,957 cisTopic     INFO     Creating pseudobulk for 10xv2_CD14_monocyte\n"
     ]
    },
    {
     "name": "stderr",
     "output_type": "stream",
     "text": [
      "\u001b[2m\u001b[36m(raylet)\u001b[0m Spilled 134089 MiB, 22 objects, write throughput 775 MiB/s.\n",
      "\u001b[2m\u001b[36m(export_pseudobulk_ray pid=94472)\u001b[0m /tmp/ipykernel_3643904/2558041373.py:272: FutureWarning: The frame.append method is deprecated and will be removed from pandas in a future version. Use pandas.concat instead.\n"
     ]
    },
    {
     "name": "stdout",
     "output_type": "stream",
     "text": [
      "\u001b[2m\u001b[36m(export_pseudobulk_ray pid=94466)\u001b[0m 2023-01-02 22:36:24,907 cisTopic     INFO     10xv2_B_cell done!\n",
      "\u001b[2m\u001b[36m(export_pseudobulk_ray pid=94466)\u001b[0m 2023-01-02 22:37:46,099 cisTopic     INFO     Creating pseudobulk for 10xv2_CD16_monocyte\n"
     ]
    },
    {
     "name": "stderr",
     "output_type": "stream",
     "text": [
      "\u001b[2m\u001b[36m(export_pseudobulk_ray pid=94466)\u001b[0m /tmp/ipykernel_3643904/2558041373.py:272: FutureWarning: The frame.append method is deprecated and will be removed from pandas in a future version. Use pandas.concat instead.\n"
     ]
    },
    {
     "name": "stdout",
     "output_type": "stream",
     "text": [
      "\u001b[2m\u001b[36m(export_pseudobulk_ray pid=94466)\u001b[0m 2023-01-02 22:38:48,818 cisTopic     INFO     10xv2_CD16_monocyte done!\n",
      "\u001b[2m\u001b[36m(export_pseudobulk_ray pid=94466)\u001b[0m 2023-01-02 22:39:24,728 cisTopic     INFO     Creating pseudobulk for 10xv2_CD4_T_cell\n"
     ]
    },
    {
     "name": "stderr",
     "output_type": "stream",
     "text": [
      "\u001b[2m\u001b[36m(export_pseudobulk_ray pid=94466)\u001b[0m /tmp/ipykernel_3643904/2558041373.py:272: FutureWarning: The frame.append method is deprecated and will be removed from pandas in a future version. Use pandas.concat instead.\n"
     ]
    },
    {
     "name": "stdout",
     "output_type": "stream",
     "text": [
      "\u001b[2m\u001b[36m(export_pseudobulk_ray pid=94473)\u001b[0m 2023-01-02 22:41:03,640 cisTopic     INFO     Creating pseudobulk for 10xv2_Cytotoxic_T_cell\n"
     ]
    },
    {
     "name": "stderr",
     "output_type": "stream",
     "text": [
      "\u001b[2m\u001b[36m(export_pseudobulk_ray pid=94473)\u001b[0m /tmp/ipykernel_3643904/2558041373.py:272: FutureWarning: The frame.append method is deprecated and will be removed from pandas in a future version. Use pandas.concat instead.\n"
     ]
    },
    {
     "name": "stdout",
     "output_type": "stream",
     "text": [
      "\u001b[2m\u001b[36m(export_pseudobulk_ray pid=94472)\u001b[0m 2023-01-02 22:41:25,018 cisTopic     INFO     10xv2_CD14_monocyte done!\n",
      "\u001b[2m\u001b[36m(export_pseudobulk_ray pid=94472)\u001b[0m 2023-01-02 22:42:40,295 cisTopic     INFO     Creating pseudobulk for 10xv2_Dendritic_cell\n"
     ]
    },
    {
     "name": "stderr",
     "output_type": "stream",
     "text": [
      "\u001b[2m\u001b[36m(export_pseudobulk_ray pid=94472)\u001b[0m /tmp/ipykernel_3643904/2558041373.py:272: FutureWarning: The frame.append method is deprecated and will be removed from pandas in a future version. Use pandas.concat instead.\n"
     ]
    },
    {
     "name": "stdout",
     "output_type": "stream",
     "text": [
      "\u001b[2m\u001b[36m(export_pseudobulk_ray pid=94472)\u001b[0m 2023-01-02 22:43:17,550 cisTopic     INFO     10xv2_Dendritic_cell done!\n",
      "\u001b[2m\u001b[36m(export_pseudobulk_ray pid=94473)\u001b[0m 2023-01-02 22:44:15,075 cisTopic     INFO     10xv2_Cytotoxic_T_cell done!\n",
      "\u001b[2m\u001b[36m(export_pseudobulk_ray pid=94473)\u001b[0m 2023-01-02 22:44:22,115 cisTopic     INFO     Creating pseudobulk for 10xv2_Natural_killer_cell\n"
     ]
    },
    {
     "name": "stderr",
     "output_type": "stream",
     "text": [
      "\u001b[2m\u001b[36m(export_pseudobulk_ray pid=94473)\u001b[0m /tmp/ipykernel_3643904/2558041373.py:272: FutureWarning: The frame.append method is deprecated and will be removed from pandas in a future version. Use pandas.concat instead.\n"
     ]
    },
    {
     "name": "stdout",
     "output_type": "stream",
     "text": [
      "\u001b[2m\u001b[36m(export_pseudobulk_ray pid=94473)\u001b[0m 2023-01-02 22:46:00,327 cisTopic     INFO     10xv2_Natural_killer_cell done!\n",
      "\u001b[2m\u001b[36m(export_pseudobulk_ray pid=94472)\u001b[0m 2023-01-02 22:46:02,006 cisTopic     INFO     Creating pseudobulk for ddseq_B_cell\n"
     ]
    },
    {
     "name": "stderr",
     "output_type": "stream",
     "text": [
      "\u001b[2m\u001b[36m(export_pseudobulk_ray pid=94472)\u001b[0m /tmp/ipykernel_3643904/2558041373.py:272: FutureWarning: The frame.append method is deprecated and will be removed from pandas in a future version. Use pandas.concat instead.\n"
     ]
    },
    {
     "name": "stdout",
     "output_type": "stream",
     "text": [
      "\u001b[2m\u001b[36m(export_pseudobulk_ray pid=94466)\u001b[0m 2023-01-02 22:46:55,220 cisTopic     INFO     10xv2_CD4_T_cell done!\n",
      "\u001b[2m\u001b[36m(export_pseudobulk_ray pid=94472)\u001b[0m 2023-01-02 22:47:31,500 cisTopic     INFO     ddseq_B_cell done!\n",
      "\u001b[2m\u001b[36m(export_pseudobulk_ray pid=94472)\u001b[0m 2023-01-02 22:47:41,535 cisTopic     INFO     Creating pseudobulk for ddseq_CD14_monocyte\n"
     ]
    },
    {
     "name": "stderr",
     "output_type": "stream",
     "text": [
      "\u001b[2m\u001b[36m(export_pseudobulk_ray pid=94472)\u001b[0m /tmp/ipykernel_3643904/2558041373.py:272: FutureWarning: The frame.append method is deprecated and will be removed from pandas in a future version. Use pandas.concat instead.\n"
     ]
    },
    {
     "name": "stdout",
     "output_type": "stream",
     "text": [
      "\u001b[2m\u001b[36m(export_pseudobulk_ray pid=94466)\u001b[0m 2023-01-02 22:49:18,232 cisTopic     INFO     Creating pseudobulk for ddseq_CD16_monocyte\n"
     ]
    },
    {
     "name": "stderr",
     "output_type": "stream",
     "text": [
      "\u001b[2m\u001b[36m(export_pseudobulk_ray pid=94466)\u001b[0m /tmp/ipykernel_3643904/2558041373.py:272: FutureWarning: The frame.append method is deprecated and will be removed from pandas in a future version. Use pandas.concat instead.\n"
     ]
    },
    {
     "name": "stdout",
     "output_type": "stream",
     "text": [
      "\u001b[2m\u001b[36m(export_pseudobulk_ray pid=94472)\u001b[0m 2023-01-02 22:49:41,941 cisTopic     INFO     ddseq_CD14_monocyte done!\n",
      "\u001b[2m\u001b[36m(export_pseudobulk_ray pid=94466)\u001b[0m 2023-01-02 22:49:52,783 cisTopic     INFO     ddseq_CD16_monocyte done!\n",
      "\u001b[2m\u001b[36m(export_pseudobulk_ray pid=94466)\u001b[0m 2023-01-02 22:50:57,307 cisTopic     INFO     Creating pseudobulk for ddseq_CD4_T_cell\n"
     ]
    },
    {
     "name": "stderr",
     "output_type": "stream",
     "text": [
      "\u001b[2m\u001b[36m(export_pseudobulk_ray pid=94466)\u001b[0m /tmp/ipykernel_3643904/2558041373.py:272: FutureWarning: The frame.append method is deprecated and will be removed from pandas in a future version. Use pandas.concat instead.\n"
     ]
    },
    {
     "name": "stdout",
     "output_type": "stream",
     "text": [
      "\u001b[2m\u001b[36m(export_pseudobulk_ray pid=94472)\u001b[0m 2023-01-02 22:52:34,768 cisTopic     INFO     Creating pseudobulk for ddseq_Cytotoxic_T_cell\n"
     ]
    },
    {
     "name": "stderr",
     "output_type": "stream",
     "text": [
      "\u001b[2m\u001b[36m(export_pseudobulk_ray pid=94472)\u001b[0m /tmp/ipykernel_3643904/2558041373.py:272: FutureWarning: The frame.append method is deprecated and will be removed from pandas in a future version. Use pandas.concat instead.\n"
     ]
    },
    {
     "name": "stdout",
     "output_type": "stream",
     "text": [
      "\u001b[2m\u001b[36m(export_pseudobulk_ray pid=94473)\u001b[0m 2023-01-02 22:54:11,623 cisTopic     INFO     Creating pseudobulk for ddseq_Dendritic_cell\n",
      "\u001b[2m\u001b[36m(export_pseudobulk_ray pid=94472)\u001b[0m 2023-01-02 22:54:16,007 cisTopic     INFO     ddseq_Cytotoxic_T_cell done!\n"
     ]
    },
    {
     "name": "stderr",
     "output_type": "stream",
     "text": [
      "\u001b[2m\u001b[36m(raylet)\u001b[0m Spilled 268179 MiB, 44 objects, write throughput 752 MiB/s.\n",
      "\u001b[2m\u001b[36m(export_pseudobulk_ray pid=94473)\u001b[0m /tmp/ipykernel_3643904/2558041373.py:272: FutureWarning: The frame.append method is deprecated and will be removed from pandas in a future version. Use pandas.concat instead.\n"
     ]
    },
    {
     "name": "stdout",
     "output_type": "stream",
     "text": [
      "\u001b[2m\u001b[36m(export_pseudobulk_ray pid=94473)\u001b[0m 2023-01-02 22:54:40,564 cisTopic     INFO     ddseq_Dendritic_cell done!\n",
      "\u001b[2m\u001b[36m(export_pseudobulk_ray pid=94473)\u001b[0m 2023-01-02 22:55:51,448 cisTopic     INFO     Creating pseudobulk for ddseq_Natural_killer_cell\n",
      "\u001b[2m\u001b[36m(export_pseudobulk_ray pid=94466)\u001b[0m 2023-01-02 22:55:54,596 cisTopic     INFO     ddseq_CD4_T_cell done!\n"
     ]
    },
    {
     "name": "stderr",
     "output_type": "stream",
     "text": [
      "\u001b[2m\u001b[36m(export_pseudobulk_ray pid=94473)\u001b[0m /tmp/ipykernel_3643904/2558041373.py:272: FutureWarning: The frame.append method is deprecated and will be removed from pandas in a future version. Use pandas.concat instead.\n"
     ]
    },
    {
     "name": "stdout",
     "output_type": "stream",
     "text": [
      "\u001b[2m\u001b[36m(export_pseudobulk_ray pid=94473)\u001b[0m 2023-01-02 22:57:00,798 cisTopic     INFO     ddseq_Natural_killer_cell done!\n",
      "\u001b[2m\u001b[36m(export_pseudobulk_ray pid=94473)\u001b[0m 2023-01-02 22:57:32,161 cisTopic     INFO     Creating pseudobulk for hydrop_B_cell\n"
     ]
    },
    {
     "name": "stderr",
     "output_type": "stream",
     "text": [
      "\u001b[2m\u001b[36m(export_pseudobulk_ray pid=94473)\u001b[0m /tmp/ipykernel_3643904/2558041373.py:272: FutureWarning: The frame.append method is deprecated and will be removed from pandas in a future version. Use pandas.concat instead.\n"
     ]
    },
    {
     "name": "stdout",
     "output_type": "stream",
     "text": [
      "\u001b[2m\u001b[36m(export_pseudobulk_ray pid=94473)\u001b[0m 2023-01-02 22:58:31,932 cisTopic     INFO     hydrop_B_cell done!\n",
      "\u001b[2m\u001b[36m(export_pseudobulk_ray pid=94473)\u001b[0m 2023-01-02 23:00:05,385 cisTopic     INFO     Creating pseudobulk for hydrop_CD14_monocyte\n"
     ]
    },
    {
     "name": "stderr",
     "output_type": "stream",
     "text": [
      "\u001b[2m\u001b[36m(export_pseudobulk_ray pid=94473)\u001b[0m /tmp/ipykernel_3643904/2558041373.py:272: FutureWarning: The frame.append method is deprecated and will be removed from pandas in a future version. Use pandas.concat instead.\n"
     ]
    },
    {
     "name": "stdout",
     "output_type": "stream",
     "text": [
      "\u001b[2m\u001b[36m(export_pseudobulk_ray pid=94473)\u001b[0m 2023-01-02 23:01:42,187 cisTopic     INFO     hydrop_CD14_monocyte done!\n",
      "\u001b[2m\u001b[36m(export_pseudobulk_ray pid=94473)\u001b[0m 2023-01-02 23:03:09,196 cisTopic     INFO     Creating pseudobulk for hydrop_CD16_monocyte\n"
     ]
    },
    {
     "name": "stderr",
     "output_type": "stream",
     "text": [
      "\u001b[2m\u001b[36m(export_pseudobulk_ray pid=94473)\u001b[0m /tmp/ipykernel_3643904/2558041373.py:272: FutureWarning: The frame.append method is deprecated and will be removed from pandas in a future version. Use pandas.concat instead.\n"
     ]
    },
    {
     "name": "stdout",
     "output_type": "stream",
     "text": [
      "\u001b[2m\u001b[36m(export_pseudobulk_ray pid=94473)\u001b[0m 2023-01-02 23:03:36,127 cisTopic     INFO     hydrop_CD16_monocyte done!\n",
      "\u001b[2m\u001b[36m(export_pseudobulk_ray pid=94473)\u001b[0m 2023-01-02 23:05:15,537 cisTopic     INFO     Creating pseudobulk for hydrop_CD4_T_cell\n"
     ]
    },
    {
     "name": "stderr",
     "output_type": "stream",
     "text": [
      "\u001b[2m\u001b[36m(export_pseudobulk_ray pid=94473)\u001b[0m /tmp/ipykernel_3643904/2558041373.py:272: FutureWarning: The frame.append method is deprecated and will be removed from pandas in a future version. Use pandas.concat instead.\n"
     ]
    },
    {
     "name": "stdout",
     "output_type": "stream",
     "text": [
      "\u001b[2m\u001b[36m(export_pseudobulk_ray pid=94473)\u001b[0m 2023-01-02 23:06:30,650 cisTopic     INFO     hydrop_CD4_T_cell done!\n",
      "\u001b[2m\u001b[36m(export_pseudobulk_ray pid=94473)\u001b[0m 2023-01-02 23:06:55,937 cisTopic     INFO     Creating pseudobulk for hydrop_Cytotoxic_T_cell\n"
     ]
    },
    {
     "name": "stderr",
     "output_type": "stream",
     "text": [
      "\u001b[2m\u001b[36m(export_pseudobulk_ray pid=94473)\u001b[0m /tmp/ipykernel_3643904/2558041373.py:272: FutureWarning: The frame.append method is deprecated and will be removed from pandas in a future version. Use pandas.concat instead.\n"
     ]
    },
    {
     "name": "stdout",
     "output_type": "stream",
     "text": [
      "\u001b[2m\u001b[36m(export_pseudobulk_ray pid=94473)\u001b[0m 2023-01-02 23:07:49,303 cisTopic     INFO     hydrop_Cytotoxic_T_cell done!\n",
      "\u001b[2m\u001b[36m(export_pseudobulk_ray pid=94473)\u001b[0m 2023-01-02 23:08:33,437 cisTopic     INFO     Creating pseudobulk for hydrop_Dendritic_cell\n"
     ]
    },
    {
     "name": "stderr",
     "output_type": "stream",
     "text": [
      "\u001b[2m\u001b[36m(export_pseudobulk_ray pid=94473)\u001b[0m /tmp/ipykernel_3643904/2558041373.py:272: FutureWarning: The frame.append method is deprecated and will be removed from pandas in a future version. Use pandas.concat instead.\n"
     ]
    },
    {
     "name": "stdout",
     "output_type": "stream",
     "text": [
      "\u001b[2m\u001b[36m(export_pseudobulk_ray pid=94473)\u001b[0m 2023-01-02 23:08:51,027 cisTopic     INFO     hydrop_Dendritic_cell done!\n",
      "\u001b[2m\u001b[36m(export_pseudobulk_ray pid=94473)\u001b[0m 2023-01-02 23:10:09,339 cisTopic     INFO     Creating pseudobulk for hydrop_Natural_killer_cell\n"
     ]
    },
    {
     "name": "stderr",
     "output_type": "stream",
     "text": [
      "\u001b[2m\u001b[36m(export_pseudobulk_ray pid=94473)\u001b[0m /tmp/ipykernel_3643904/2558041373.py:272: FutureWarning: The frame.append method is deprecated and will be removed from pandas in a future version. Use pandas.concat instead.\n"
     ]
    },
    {
     "name": "stdout",
     "output_type": "stream",
     "text": [
      "\u001b[2m\u001b[36m(export_pseudobulk_ray pid=94473)\u001b[0m 2023-01-02 23:10:35,802 cisTopic     INFO     hydrop_Natural_killer_cell done!\n",
      "\u001b[2m\u001b[36m(export_pseudobulk_ray pid=94473)\u001b[0m 2023-01-02 23:11:49,245 cisTopic     INFO     Creating pseudobulk for mtscatac_B_cell\n"
     ]
    },
    {
     "name": "stderr",
     "output_type": "stream",
     "text": [
      "\u001b[2m\u001b[36m(export_pseudobulk_ray pid=94473)\u001b[0m /tmp/ipykernel_3643904/2558041373.py:272: FutureWarning: The frame.append method is deprecated and will be removed from pandas in a future version. Use pandas.concat instead.\n"
     ]
    },
    {
     "name": "stdout",
     "output_type": "stream",
     "text": [
      "\u001b[2m\u001b[36m(export_pseudobulk_ray pid=94466)\u001b[0m 2023-01-02 23:13:27,442 cisTopic     INFO     Creating pseudobulk for mtscatac_CD14_monocyte\n"
     ]
    },
    {
     "name": "stderr",
     "output_type": "stream",
     "text": [
      "\u001b[2m\u001b[36m(export_pseudobulk_ray pid=94466)\u001b[0m /tmp/ipykernel_3643904/2558041373.py:272: FutureWarning: The frame.append method is deprecated and will be removed from pandas in a future version. Use pandas.concat instead.\n"
     ]
    },
    {
     "name": "stdout",
     "output_type": "stream",
     "text": [
      "\u001b[2m\u001b[36m(export_pseudobulk_ray pid=94473)\u001b[0m 2023-01-02 23:14:14,419 cisTopic     INFO     mtscatac_B_cell done!\n",
      "\u001b[2m\u001b[36m(export_pseudobulk_ray pid=94473)\u001b[0m 2023-01-02 23:15:08,069 cisTopic     INFO     Creating pseudobulk for mtscatac_CD16_monocyte\n"
     ]
    },
    {
     "name": "stderr",
     "output_type": "stream",
     "text": [
      "\u001b[2m\u001b[36m(export_pseudobulk_ray pid=94473)\u001b[0m /tmp/ipykernel_3643904/2558041373.py:272: FutureWarning: The frame.append method is deprecated and will be removed from pandas in a future version. Use pandas.concat instead.\n"
     ]
    },
    {
     "name": "stdout",
     "output_type": "stream",
     "text": [
      "\u001b[2m\u001b[36m(export_pseudobulk_ray pid=94473)\u001b[0m 2023-01-02 23:16:09,720 cisTopic     INFO     mtscatac_CD16_monocyte done!\n",
      "\u001b[2m\u001b[36m(export_pseudobulk_ray pid=94473)\u001b[0m 2023-01-02 23:16:45,688 cisTopic     INFO     Creating pseudobulk for mtscatac_CD4_T_cell\n"
     ]
    },
    {
     "name": "stderr",
     "output_type": "stream",
     "text": [
      "\u001b[2m\u001b[36m(export_pseudobulk_ray pid=94473)\u001b[0m /tmp/ipykernel_3643904/2558041373.py:272: FutureWarning: The frame.append method is deprecated and will be removed from pandas in a future version. Use pandas.concat instead.\n"
     ]
    },
    {
     "name": "stdout",
     "output_type": "stream",
     "text": [
      "\u001b[2m\u001b[36m(export_pseudobulk_ray pid=94466)\u001b[0m 2023-01-02 23:17:13,441 cisTopic     INFO     mtscatac_CD14_monocyte done!\n",
      "\u001b[2m\u001b[36m(export_pseudobulk_ray pid=94466)\u001b[0m 2023-01-02 23:18:22,504 cisTopic     INFO     Creating pseudobulk for mtscatac_Cytotoxic_T_cell\n"
     ]
    },
    {
     "name": "stderr",
     "output_type": "stream",
     "text": [
      "\u001b[2m\u001b[36m(export_pseudobulk_ray pid=94466)\u001b[0m /tmp/ipykernel_3643904/2558041373.py:272: FutureWarning: The frame.append method is deprecated and will be removed from pandas in a future version. Use pandas.concat instead.\n"
     ]
    },
    {
     "name": "stdout",
     "output_type": "stream",
     "text": [
      "\u001b[2m\u001b[36m(export_pseudobulk_ray pid=94472)\u001b[0m 2023-01-02 23:19:59,425 cisTopic     INFO     Creating pseudobulk for mtscatac_Dendritic_cell\n"
     ]
    },
    {
     "name": "stderr",
     "output_type": "stream",
     "text": [
      "\u001b[2m\u001b[36m(export_pseudobulk_ray pid=94472)\u001b[0m /tmp/ipykernel_3643904/2558041373.py:272: FutureWarning: The frame.append method is deprecated and will be removed from pandas in a future version. Use pandas.concat instead.\n"
     ]
    },
    {
     "name": "stdout",
     "output_type": "stream",
     "text": [
      "\u001b[2m\u001b[36m(export_pseudobulk_ray pid=94472)\u001b[0m 2023-01-02 23:20:44,300 cisTopic     INFO     mtscatac_Dendritic_cell done!\n",
      "\u001b[2m\u001b[36m(export_pseudobulk_ray pid=94473)\u001b[0m 2023-01-02 23:21:29,849 cisTopic     INFO     mtscatac_CD4_T_cell done!\n",
      "\u001b[2m\u001b[36m(export_pseudobulk_ray pid=94466)\u001b[0m 2023-01-02 23:21:32,128 cisTopic     INFO     mtscatac_Cytotoxic_T_cell done!\n",
      "\u001b[2m\u001b[36m(export_pseudobulk_ray pid=94473)\u001b[0m 2023-01-02 23:21:37,464 cisTopic     INFO     Creating pseudobulk for mtscatac_Natural_killer_cell\n"
     ]
    },
    {
     "name": "stderr",
     "output_type": "stream",
     "text": [
      "\u001b[2m\u001b[36m(export_pseudobulk_ray pid=94473)\u001b[0m /tmp/ipykernel_3643904/2558041373.py:272: FutureWarning: The frame.append method is deprecated and will be removed from pandas in a future version. Use pandas.concat instead.\n"
     ]
    },
    {
     "name": "stdout",
     "output_type": "stream",
     "text": [
      "\u001b[2m\u001b[36m(export_pseudobulk_ray pid=94473)\u001b[0m 2023-01-02 23:23:07,799 cisTopic     INFO     mtscatac_Natural_killer_cell done!\n",
      "\u001b[2m\u001b[36m(export_pseudobulk_ray pid=94473)\u001b[0m 2023-01-02 23:23:20,650 cisTopic     INFO     Creating pseudobulk for s3atac_B_cell\n"
     ]
    },
    {
     "name": "stderr",
     "output_type": "stream",
     "text": [
      "\u001b[2m\u001b[36m(export_pseudobulk_ray pid=94473)\u001b[0m /tmp/ipykernel_3643904/2558041373.py:272: FutureWarning: The frame.append method is deprecated and will be removed from pandas in a future version. Use pandas.concat instead.\n"
     ]
    },
    {
     "name": "stdout",
     "output_type": "stream",
     "text": [
      "\u001b[2m\u001b[36m(export_pseudobulk_ray pid=94466)\u001b[0m 2023-01-02 23:24:58,305 cisTopic     INFO     Creating pseudobulk for s3atac_CD14_monocyte\n"
     ]
    },
    {
     "name": "stderr",
     "output_type": "stream",
     "text": [
      "\u001b[2m\u001b[36m(export_pseudobulk_ray pid=94466)\u001b[0m /tmp/ipykernel_3643904/2558041373.py:272: FutureWarning: The frame.append method is deprecated and will be removed from pandas in a future version. Use pandas.concat instead.\n"
     ]
    },
    {
     "name": "stdout",
     "output_type": "stream",
     "text": [
      "\u001b[2m\u001b[36m(export_pseudobulk_ray pid=94472)\u001b[0m 2023-01-02 23:26:40,963 cisTopic     INFO     Creating pseudobulk for s3atac_CD16_monocyte\n",
      "\u001b[2m\u001b[36m(export_pseudobulk_ray pid=94466)\u001b[0m 2023-01-02 23:26:41,199 cisTopic     INFO     s3atac_CD14_monocyte done!\n"
     ]
    },
    {
     "name": "stderr",
     "output_type": "stream",
     "text": [
      "\u001b[2m\u001b[36m(export_pseudobulk_ray pid=94472)\u001b[0m /tmp/ipykernel_3643904/2558041373.py:272: FutureWarning: The frame.append method is deprecated and will be removed from pandas in a future version. Use pandas.concat instead.\n"
     ]
    },
    {
     "name": "stdout",
     "output_type": "stream",
     "text": [
      "\u001b[2m\u001b[36m(export_pseudobulk_ray pid=94472)\u001b[0m 2023-01-02 23:27:13,493 cisTopic     INFO     s3atac_CD16_monocyte done!\n",
      "\u001b[2m\u001b[36m(export_pseudobulk_ray pid=94472)\u001b[0m 2023-01-02 23:28:22,313 cisTopic     INFO     Creating pseudobulk for s3atac_CD4_T_cell\n"
     ]
    },
    {
     "name": "stderr",
     "output_type": "stream",
     "text": [
      "\u001b[2m\u001b[36m(export_pseudobulk_ray pid=94472)\u001b[0m /tmp/ipykernel_3643904/2558041373.py:272: FutureWarning: The frame.append method is deprecated and will be removed from pandas in a future version. Use pandas.concat instead.\n"
     ]
    },
    {
     "name": "stdout",
     "output_type": "stream",
     "text": [
      "\u001b[2m\u001b[36m(export_pseudobulk_ray pid=94473)\u001b[0m 2023-01-02 23:29:22,734 cisTopic     INFO     s3atac_B_cell done!\n",
      "\u001b[2m\u001b[36m(export_pseudobulk_ray pid=94472)\u001b[0m 2023-01-02 23:29:53,991 cisTopic     INFO     s3atac_CD4_T_cell done!\n",
      "\u001b[2m\u001b[36m(export_pseudobulk_ray pid=94472)\u001b[0m 2023-01-02 23:30:07,365 cisTopic     INFO     Creating pseudobulk for s3atac_Cytotoxic_T_cell\n"
     ]
    },
    {
     "name": "stderr",
     "output_type": "stream",
     "text": [
      "\u001b[2m\u001b[36m(export_pseudobulk_ray pid=94472)\u001b[0m /tmp/ipykernel_3643904/2558041373.py:272: FutureWarning: The frame.append method is deprecated and will be removed from pandas in a future version. Use pandas.concat instead.\n"
     ]
    },
    {
     "name": "stdout",
     "output_type": "stream",
     "text": [
      "\u001b[2m\u001b[36m(export_pseudobulk_ray pid=94472)\u001b[0m 2023-01-02 23:31:32,629 cisTopic     INFO     s3atac_Cytotoxic_T_cell done!\n",
      "\u001b[2m\u001b[36m(export_pseudobulk_ray pid=94472)\u001b[0m 2023-01-02 23:31:47,088 cisTopic     INFO     Creating pseudobulk for s3atac_Dendritic_cell\n"
     ]
    },
    {
     "name": "stderr",
     "output_type": "stream",
     "text": [
      "\u001b[2m\u001b[36m(export_pseudobulk_ray pid=94472)\u001b[0m /tmp/ipykernel_3643904/2558041373.py:272: FutureWarning: The frame.append method is deprecated and will be removed from pandas in a future version. Use pandas.concat instead.\n"
     ]
    },
    {
     "name": "stdout",
     "output_type": "stream",
     "text": [
      "\u001b[2m\u001b[36m(export_pseudobulk_ray pid=94472)\u001b[0m 2023-01-02 23:32:13,459 cisTopic     INFO     s3atac_Dendritic_cell done!\n",
      "\u001b[2m\u001b[36m(export_pseudobulk_ray pid=94472)\u001b[0m 2023-01-02 23:33:27,161 cisTopic     INFO     Creating pseudobulk for s3atac_Natural_killer_cell\n"
     ]
    },
    {
     "name": "stderr",
     "output_type": "stream",
     "text": [
      "\u001b[2m\u001b[36m(raylet)\u001b[0m Spilled 536358 MiB, 88 objects, write throughput 720 MiB/s.\n",
      "\u001b[2m\u001b[36m(export_pseudobulk_ray pid=94472)\u001b[0m /tmp/ipykernel_3643904/2558041373.py:272: FutureWarning: The frame.append method is deprecated and will be removed from pandas in a future version. Use pandas.concat instead.\n"
     ]
    }
   ],
   "source": [
    "# for sample in [\"BRO_mtscatac_1.LIBDS\"]:\n",
    "bw_paths_dict = {}\n",
    "bed_paths_dict = {}\n",
    "\n",
    "import ray\n",
    "\n",
    "if ray.is_initialized():\n",
    "    print(\"Shutting down Ray\")\n",
    "    ray.shutdown()\n",
    "\n",
    "for sample in cto_consensus_path_dict.keys():\n",
    "    supersample = \".\".join(sample.split(\".\")[:2])\n",
    "\n",
    "    bed_path = os.path.join(\n",
    "        \"per_tech_harmony_cell_type_bigwigs_nonnorm\",\n",
    "        f\"{sample}__CONSENSUS_pseudobulk_bed_files_nonnorm\",\n",
    "    )\n",
    "    bw_path = os.path.join(\n",
    "        \"per_tech_harmony_cell_type_bigwigs_nonnorm\",\n",
    "        f\"{sample}__CONSENSUS_pseudobulk_bw_files_nonnorm\",\n",
    "    )\n",
    "    if not os.path.exists(bed_path):\n",
    "        cto_path = \"cistopic_objects/master_sub_1.FIXEDCELLS__cto.scrublet0-4.fmx.singlets.model_20topics.dimreduc.consensus_harmony.pkl\"\n",
    "        with open(cto_path, \"rb\") as f:\n",
    "            cto = pickle.load(f)\n",
    "\n",
    "            cto.cell_data[\"tech_harmony_consensus_cell_type\"] = (\n",
    "                cto.cell_data[\"tech\"]\n",
    "                + \"__\"\n",
    "                + [\n",
    "                    x.replace(\" \", \"_\")\n",
    "                    for x in cto.cell_data[\"harmony_consensus_cell_type\"]\n",
    "                ]\n",
    "            )\n",
    "\n",
    "            bw_paths, bed_paths = export_pseudobulk(\n",
    "                input_data=cto,\n",
    "                variable=\"tech_harmony_consensus_cell_type\",\n",
    "                sample_id_col=\"sample_id\",\n",
    "                chromsizes=chromsizes,\n",
    "                bed_path=bed_path,\n",
    "                bigwig_path=bw_path,\n",
    "                path_to_fragments=fragments_path_dict[supersample],\n",
    "                n_cpu=8,\n",
    "                normalize_bigwig=False,\n",
    "                remove_duplicates=True,\n",
    "            )\n",
    "\n",
    "            if ray.is_initialized():\n",
    "                print(\"Shutting down Ray\")\n",
    "                ray.shutdown()\n",
    "    else:\n",
    "        print(f\"{bed_path} exists, skipping...\")"
   ]
  },
  {
   "cell_type": "markdown",
   "id": "fc6efe9d",
   "metadata": {
    "papermill": {
     "duration": 0.003844,
     "end_time": "2022-09-29T13:44:59.272330",
     "exception": false,
     "start_time": "2022-09-29T13:44:59.268486",
     "status": "completed"
    },
    "tags": []
   },
   "source": [
    "# consensus"
   ]
  },
  {
   "cell_type": "code",
   "execution_count": 23,
   "id": "a822fdf1-bc5e-4f87-8e5a-09411928b6d2",
   "metadata": {
    "execution": {
     "iopub.execute_input": "2022-12-27T14:57:21.271999Z",
     "iopub.status.busy": "2022-12-27T14:57:21.270518Z",
     "iopub.status.idle": "2022-12-27T14:57:21.292338Z",
     "shell.execute_reply": "2022-12-27T14:57:21.290969Z",
     "shell.execute_reply.started": "2022-12-27T14:57:21.271942Z"
    },
    "tags": []
   },
   "outputs": [
    {
     "data": {
      "text/plain": [
       "{'master_sub_1.FIXEDCELLS.fmx': 'cistopic_objects/master_sub_1.FIXEDCELLS__cto.scrublet0-4.fmx.singlets.model_20topics.dimreduc.consensus.pkl',\n",
       " 'master_sub_1.FIXEDCELLS.scrublet0-4': 'cistopic_objects/master_sub_1.FIXEDCELLS__cto.scrublet0-4.fmx.singlets.model_20topics.dimreduc.pkl',\n",
       " 'master_sub_1.FIXEDCELLS.FIXEDCELLS__cto': 'cistopic_objects/master_sub_1.FIXEDCELLS__cto.scrublet0-4.fmx.singlets.model_20topics.pkl',\n",
       " 'master_sub_1.FIXEDCELLS.master_sub_1': 'cistopic_objects/master_sub_1.FIXEDCELLS__cto.scrublet0-4.fmx.singlets.pkl'}"
      ]
     },
     "execution_count": 23,
     "metadata": {},
     "output_type": "execute_result"
    }
   ],
   "source": [
    "cto_path_dict = {\n",
    "    x.split(\"/\")[-1].split(f\"__\")[0] + \".\" + x.split(\"/\")[-1].split(f\".\")[-6]: x\n",
    "    for x in sorted(glob.glob(\"cistopic_objects/*.pkl\"))\n",
    "}\n",
    "cto_path_dict"
   ]
  },
  {
   "cell_type": "code",
   "execution_count": 24,
   "id": "967b65dd-c1f5-4399-abdc-2ce2a04e3990",
   "metadata": {
    "execution": {
     "iopub.execute_input": "2022-12-27T14:58:16.886232Z",
     "iopub.status.busy": "2022-12-27T14:58:16.885292Z",
     "iopub.status.idle": "2022-12-27T14:58:34.286620Z",
     "shell.execute_reply": "2022-12-27T14:58:34.284747Z",
     "shell.execute_reply.started": "2022-12-27T14:58:16.886171Z"
    }
   },
   "outputs": [],
   "source": [
    "for sample, cto_path in cto_path_dict.items():\n",
    "    with open(cto_path, \"rb\") as f:\n",
    "        cto = pickle.load(f)\n",
    "\n",
    "    cto.cell_data.to_csv(cto_path.replace(\".pkl\", \".cell_data.csv\"))"
   ]
  },
  {
   "cell_type": "code",
   "execution_count": 32,
   "id": "4973647b",
   "metadata": {
    "execution": {
     "iopub.execute_input": "2022-12-27T15:04:41.031688Z",
     "iopub.status.busy": "2022-12-27T15:04:41.030570Z",
     "iopub.status.idle": "2022-12-27T15:04:41.048427Z",
     "shell.execute_reply": "2022-12-27T15:04:41.047062Z",
     "shell.execute_reply.started": "2022-12-27T15:04:41.031631Z"
    },
    "papermill": {
     "duration": 0.014072,
     "end_time": "2022-09-29T13:44:59.290366",
     "exception": false,
     "start_time": "2022-09-29T13:44:59.276294",
     "status": "completed"
    },
    "tags": []
   },
   "outputs": [
    {
     "data": {
      "text/plain": [
       "{'master_sub_1.FIXEDCELLS': 'cistopic_objects/master_sub_1.FIXEDCELLS__cto.scrublet0-4.fmx.singlets.model_20topics.dimreduc.consensus.cell_data.csv'}"
      ]
     },
     "execution_count": 32,
     "metadata": {},
     "output_type": "execute_result"
    }
   ],
   "source": [
    "cell_data_path_dict = {\n",
    "    x.split(\"/\")[-1].split(f\"__\")[0]: x\n",
    "    for x in sorted(glob.glob(\"cistopic_objects/*consensus.cell_data.csv\"))\n",
    "}\n",
    "cell_data_path_dict"
   ]
  },
  {
   "cell_type": "code",
   "execution_count": 33,
   "id": "ae58dd8d",
   "metadata": {
    "execution": {
     "iopub.execute_input": "2022-12-27T15:04:42.071771Z",
     "iopub.status.busy": "2022-12-27T15:04:42.070709Z",
     "iopub.status.idle": "2022-12-27T15:04:42.088410Z",
     "shell.execute_reply": "2022-12-27T15:04:42.086936Z",
     "shell.execute_reply.started": "2022-12-27T15:04:42.071715Z"
    },
    "papermill": {
     "duration": 0.013606,
     "end_time": "2022-09-29T13:44:59.308231",
     "exception": false,
     "start_time": "2022-09-29T13:44:59.294625",
     "status": "completed"
    },
    "tags": []
   },
   "outputs": [
    {
     "data": {
      "text/plain": [
       "{'master_sub_1.FIXEDCELLS': 'final_consensus_peaks/master_sub_1.FIXEDCELLS__SCREEN_pseudobulk_bw_files'}"
      ]
     },
     "execution_count": 33,
     "metadata": {},
     "output_type": "execute_result"
    }
   ],
   "source": [
    "bw_path_dict = {\n",
    "    x.split(\"/\")[-1].split(f\"__\")[0]: x\n",
    "    for x in sorted(glob.glob(\"final_consensus_peaks/*_pseudobulk_bw_files\"))\n",
    "}\n",
    "bw_path_dict"
   ]
  },
  {
   "cell_type": "code",
   "execution_count": 34,
   "id": "5e57cc13",
   "metadata": {
    "execution": {
     "iopub.execute_input": "2022-12-27T15:04:42.232000Z",
     "iopub.status.busy": "2022-12-27T15:04:42.230416Z",
     "iopub.status.idle": "2022-12-27T15:04:42.247484Z",
     "shell.execute_reply": "2022-12-27T15:04:42.246022Z",
     "shell.execute_reply.started": "2022-12-27T15:04:42.231943Z"
    },
    "papermill": {
     "duration": 0.013527,
     "end_time": "2022-09-29T13:44:59.326142",
     "exception": false,
     "start_time": "2022-09-29T13:44:59.312615",
     "status": "completed"
    },
    "tags": []
   },
   "outputs": [
    {
     "data": {
      "text/plain": [
       "{'master_sub_1.FIXEDCELLS': 'final_consensus_peaks/master_sub_1.FIXEDCELLS__SCREEN_pseudobulk_bed_files'}"
      ]
     },
     "execution_count": 34,
     "metadata": {},
     "output_type": "execute_result"
    }
   ],
   "source": [
    "bed_path_dict = {\n",
    "    x.split(\"/\")[-1].split(f\"__\")[0]: x\n",
    "    for x in sorted(glob.glob(\"final_consensus_peaks/*_pseudobulk_bed_files\"))\n",
    "}\n",
    "bed_path_dict"
   ]
  },
  {
   "cell_type": "code",
   "execution_count": 35,
   "id": "24cad54b",
   "metadata": {
    "execution": {
     "iopub.execute_input": "2022-12-27T15:04:42.371845Z",
     "iopub.status.busy": "2022-12-27T15:04:42.370383Z",
     "iopub.status.idle": "2022-12-27T15:04:42.387358Z",
     "shell.execute_reply": "2022-12-27T15:04:42.385875Z",
     "shell.execute_reply.started": "2022-12-27T15:04:42.371788Z"
    },
    "papermill": {
     "duration": 0.03679,
     "end_time": "2022-09-29T13:44:59.367367",
     "exception": false,
     "start_time": "2022-09-29T13:44:59.330577",
     "status": "completed"
    },
    "tags": []
   },
   "outputs": [],
   "source": [
    "for sample in bed_path_dict.keys():\n",
    "    bed_paths = {\n",
    "        x.split(\"/\")[-1].split(\"__\")[0].split(\".bed.gz\")[0]: x\n",
    "        for x in glob.glob(bed_path_dict[sample] + \"/*\")\n",
    "    }"
   ]
  },
  {
   "cell_type": "code",
   "execution_count": 36,
   "id": "fe713275",
   "metadata": {
    "execution": {
     "iopub.execute_input": "2022-12-27T15:04:42.486907Z",
     "iopub.status.busy": "2022-12-27T15:04:42.485326Z",
     "iopub.status.idle": "2022-12-27T15:04:42.494259Z",
     "shell.execute_reply": "2022-12-27T15:04:42.492751Z",
     "shell.execute_reply.started": "2022-12-27T15:04:42.486849Z"
    },
    "papermill": {
     "duration": 0.009409,
     "end_time": "2022-09-29T13:44:59.381354",
     "exception": false,
     "start_time": "2022-09-29T13:44:59.371945",
     "status": "completed"
    },
    "tags": []
   },
   "outputs": [],
   "source": [
    "from pycisTopic.pseudobulk_peak_calling import *"
   ]
  },
  {
   "cell_type": "code",
   "execution_count": 37,
   "id": "b99ef9f7",
   "metadata": {
    "execution": {
     "iopub.execute_input": "2022-12-27T15:04:42.624225Z",
     "iopub.status.busy": "2022-12-27T15:04:42.623168Z",
     "iopub.status.idle": "2022-12-27T15:04:42.631456Z",
     "shell.execute_reply": "2022-12-27T15:04:42.629967Z",
     "shell.execute_reply.started": "2022-12-27T15:04:42.624170Z"
    },
    "papermill": {
     "duration": 0.009207,
     "end_time": "2022-09-29T13:44:59.394975",
     "exception": false,
     "start_time": "2022-09-29T13:44:59.385768",
     "status": "completed"
    },
    "tags": []
   },
   "outputs": [],
   "source": [
    "import ray"
   ]
  },
  {
   "cell_type": "code",
   "execution_count": null,
   "id": "968dd901",
   "metadata": {},
   "outputs": [],
   "source": []
  },
  {
   "cell_type": "code",
   "execution_count": 38,
   "id": "226e07e6",
   "metadata": {
    "execution": {
     "iopub.execute_input": "2022-12-27T15:04:43.203614Z",
     "iopub.status.busy": "2022-12-27T15:04:43.202841Z",
     "iopub.status.idle": "2022-12-27T15:12:34.416469Z",
     "shell.execute_reply": "2022-12-27T15:12:34.414945Z",
     "shell.execute_reply.started": "2022-12-27T15:04:43.203560Z"
    },
    "papermill": {
     "duration": null,
     "end_time": null,
     "exception": false,
     "start_time": "2022-09-29T13:44:59.399469",
     "status": "running"
    },
    "tags": []
   },
   "outputs": [
    {
     "name": "stdout",
     "output_type": "stream",
     "text": [
      "Starting final_consensus_peaks/master_sub_1.FIXEDCELLS__SCREEN_narrow_peaks_dict.pkl\n"
     ]
    },
    {
     "name": "stderr",
     "output_type": "stream",
     "text": [
      "2022-12-27 16:04:48,306\tINFO worker.py:1509 -- Started a local Ray instance. View the dashboard at \u001b[1m\u001b[32mhttp://127.0.0.1:8265 \u001b[39m\u001b[22m\n"
     ]
    },
    {
     "name": "stdout",
     "output_type": "stream",
     "text": [
      "\u001b[2m\u001b[36m(macs_call_peak_ray pid=2560294)\u001b[0m 2022-12-27 16:04:51,253 cisTopic     INFO     Calling peaks for CytotoxicTcell with macs2 callpeak --treatment final_consensus_peaks/master_sub_1.FIXEDCELLS__SCREEN_pseudobulk_bed_files/CytotoxicTcell.bed.gz --name CytotoxicTcell  --outdir final_consensus_peaks/master_sub_1.FIXEDCELLS__SCREEN_consensus_peaks --format BEDPE --gsize hs --qvalue 0.05 --nomodel --shift 73 --extsize 146 --keep-dup all --call-summits --nolambda\n",
      "\u001b[2m\u001b[36m(macs_call_peak_ray pid=2560300)\u001b[0m 2022-12-27 16:04:51,344 cisTopic     INFO     Calling peaks for Naturalkillercell with macs2 callpeak --treatment final_consensus_peaks/master_sub_1.FIXEDCELLS__SCREEN_pseudobulk_bed_files/Naturalkillercell.bed.gz --name Naturalkillercell  --outdir final_consensus_peaks/master_sub_1.FIXEDCELLS__SCREEN_consensus_peaks --format BEDPE --gsize hs --qvalue 0.05 --nomodel --shift 73 --extsize 146 --keep-dup all --call-summits --nolambda\n",
      "\u001b[2m\u001b[36m(macs_call_peak_ray pid=2560305)\u001b[0m 2022-12-27 16:04:51,341 cisTopic     INFO     Calling peaks for Bcell with macs2 callpeak --treatment final_consensus_peaks/master_sub_1.FIXEDCELLS__SCREEN_pseudobulk_bed_files/Bcell.bed.gz --name Bcell  --outdir final_consensus_peaks/master_sub_1.FIXEDCELLS__SCREEN_consensus_peaks --format BEDPE --gsize hs --qvalue 0.05 --nomodel --shift 73 --extsize 146 --keep-dup all --call-summits --nolambda\n",
      "\u001b[2m\u001b[36m(macs_call_peak_ray pid=2560298)\u001b[0m 2022-12-27 16:04:51,293 cisTopic     INFO     Calling peaks for CD14_monocyte with macs2 callpeak --treatment final_consensus_peaks/master_sub_1.FIXEDCELLS__SCREEN_pseudobulk_bed_files/CD14_monocyte.bed.gz --name CD14_monocyte  --outdir final_consensus_peaks/master_sub_1.FIXEDCELLS__SCREEN_consensus_peaks --format BEDPE --gsize hs --qvalue 0.05 --nomodel --shift 73 --extsize 146 --keep-dup all --call-summits --nolambda\n",
      "\u001b[2m\u001b[36m(macs_call_peak_ray pid=2560303)\u001b[0m 2022-12-27 16:04:51,299 cisTopic     INFO     Calling peaks for CD16_monocyte with macs2 callpeak --treatment final_consensus_peaks/master_sub_1.FIXEDCELLS__SCREEN_pseudobulk_bed_files/CD16_monocyte.bed.gz --name CD16_monocyte  --outdir final_consensus_peaks/master_sub_1.FIXEDCELLS__SCREEN_consensus_peaks --format BEDPE --gsize hs --qvalue 0.05 --nomodel --shift 73 --extsize 146 --keep-dup all --call-summits --nolambda\n",
      "\u001b[2m\u001b[36m(macs_call_peak_ray pid=2560299)\u001b[0m 2022-12-27 16:04:51,347 cisTopic     INFO     Calling peaks for Dendriticcell with macs2 callpeak --treatment final_consensus_peaks/master_sub_1.FIXEDCELLS__SCREEN_pseudobulk_bed_files/Dendriticcell.bed.gz --name Dendriticcell  --outdir final_consensus_peaks/master_sub_1.FIXEDCELLS__SCREEN_consensus_peaks --format BEDPE --gsize hs --qvalue 0.05 --nomodel --shift 73 --extsize 146 --keep-dup all --call-summits --nolambda\n",
      "\u001b[2m\u001b[36m(macs_call_peak_ray pid=2560304)\u001b[0m 2022-12-27 16:04:51,305 cisTopic     INFO     Calling peaks for CD4_Tcell with macs2 callpeak --treatment final_consensus_peaks/master_sub_1.FIXEDCELLS__SCREEN_pseudobulk_bed_files/CD4_Tcell.bed.gz --name CD4_Tcell  --outdir final_consensus_peaks/master_sub_1.FIXEDCELLS__SCREEN_consensus_peaks --format BEDPE --gsize hs --qvalue 0.05 --nomodel --shift 73 --extsize 146 --keep-dup all --call-summits --nolambda\n",
      "\u001b[2m\u001b[36m(macs_call_peak_ray pid=2560299)\u001b[0m 2022-12-27 16:06:02,309 cisTopic     INFO     Dendriticcell done!\n",
      "\u001b[2m\u001b[36m(macs_call_peak_ray pid=2560303)\u001b[0m 2022-12-27 16:06:43,795 cisTopic     INFO     CD16_monocyte done!\n",
      "\u001b[2m\u001b[36m(macs_call_peak_ray pid=2560300)\u001b[0m 2022-12-27 16:07:10,051 cisTopic     INFO     Naturalkillercell done!\n",
      "\u001b[2m\u001b[36m(macs_call_peak_ray pid=2560294)\u001b[0m 2022-12-27 16:08:55,545 cisTopic     INFO     CytotoxicTcell done!\n",
      "\u001b[2m\u001b[36m(macs_call_peak_ray pid=2560305)\u001b[0m 2022-12-27 16:10:33,599 cisTopic     INFO     Bcell done!\n",
      "\u001b[2m\u001b[36m(macs_call_peak_ray pid=2560298)\u001b[0m 2022-12-27 16:11:36,015 cisTopic     INFO     CD14_monocyte done!\n",
      "\u001b[2m\u001b[36m(macs_call_peak_ray pid=2560304)\u001b[0m 2022-12-27 16:12:31,256 cisTopic     INFO     CD4_Tcell done!\n"
     ]
    }
   ],
   "source": [
    "narrow_peaks_dict = {}\n",
    "ray.shutdown()\n",
    "for sample in bed_path_dict.keys():\n",
    "    narrow_peaks_dict_path = bed_path_dict[sample].replace(\n",
    "        \"_pseudobulk_bed_files\", \"_narrow_peaks_dict.pkl\"\n",
    "    )\n",
    "    peak_path = os.path.join(\n",
    "        \"final_consensus_peaks\", f\"{sample}__SCREEN_consensus_peaks\"\n",
    "    )\n",
    "    if not os.path.exists(peak_path):\n",
    "        os.mkdir(peak_path)\n",
    "\n",
    "    if not os.path.exists(narrow_peaks_dict_path):\n",
    "        cell_data = pd.read_csv(cell_data_path_dict[sample])\n",
    "        cto_celltypes = set(\n",
    "            [\n",
    "                x.replace(\" \", \"\").replace(\"+\", \"\").replace(\"_\", \"\")\n",
    "                for x in set(cell_data[\"consensus_cell_type\"].unique())\n",
    "            ]\n",
    "        )\n",
    "\n",
    "        bed_celltypes = set(\n",
    "            [\n",
    "                x.split(\".\")[0].replace(\"+\", \"\").replace(\"_\", \"\")\n",
    "                for x in os.listdir(bed_path_dict[sample])\n",
    "            ]\n",
    "        )\n",
    "\n",
    "        if cto_celltypes == bed_celltypes:\n",
    "            print(f\"Starting {narrow_peaks_dict_path}\")\n",
    "            bed_paths = {\n",
    "                x.split(\"/\")[-1].split(\"__\")[0].split(\".bed.gz\")[0]: x\n",
    "                for x in glob.glob(bed_path_dict[sample] + \"/*\")\n",
    "            }\n",
    "            narrow_peaks_dict = peak_calling(\n",
    "                macs_path=\"macs2\",\n",
    "                bed_paths=bed_paths,\n",
    "                outdir=peak_path,\n",
    "                genome_size=\"hs\",\n",
    "                n_cpu=16,\n",
    "                input_format=\"BEDPE\",\n",
    "                shift=73,\n",
    "                ext_size=146,\n",
    "                keep_dup=\"all\",\n",
    "                q_value=0.05,\n",
    "            )\n",
    "            with open(narrow_peaks_dict_path, \"wb\") as f:\n",
    "                pickle.dump(narrow_peaks_dict, f)\n",
    "        else:\n",
    "            print(f\"{sample} cell types not matching!! Rerun bed file writing.\")\n",
    "            print(f\"\\t{bed_celltypes}\")\n",
    "            print(f\"\\t{cto_celltypes}\")\n",
    "    else:\n",
    "        print(f\"{narrow_peaks_dict_path} already exists\")"
   ]
  },
  {
   "cell_type": "markdown",
   "id": "23c78082",
   "metadata": {
    "papermill": {
     "duration": null,
     "end_time": null,
     "exception": null,
     "start_time": null,
     "status": "pending"
    },
    "tags": []
   },
   "source": [
    "# call consensus peaks"
   ]
  },
  {
   "cell_type": "code",
   "execution_count": 39,
   "id": "05250c7a",
   "metadata": {
    "execution": {
     "iopub.execute_input": "2022-12-27T15:13:24.116807Z",
     "iopub.status.busy": "2022-12-27T15:13:24.115842Z",
     "iopub.status.idle": "2022-12-27T15:13:24.142599Z",
     "shell.execute_reply": "2022-12-27T15:13:24.141020Z",
     "shell.execute_reply.started": "2022-12-27T15:13:24.116742Z"
    },
    "papermill": {
     "duration": null,
     "end_time": null,
     "exception": null,
     "start_time": null,
     "status": "pending"
    },
    "tags": []
   },
   "outputs": [],
   "source": [
    "from pycisTopic.iterative_peak_calling import get_consensus_peaks"
   ]
  },
  {
   "cell_type": "code",
   "execution_count": 40,
   "id": "4d953251",
   "metadata": {
    "execution": {
     "iopub.execute_input": "2022-12-27T15:13:24.537265Z",
     "iopub.status.busy": "2022-12-27T15:13:24.535668Z",
     "iopub.status.idle": "2022-12-27T15:13:24.556042Z",
     "shell.execute_reply": "2022-12-27T15:13:24.554665Z",
     "shell.execute_reply.started": "2022-12-27T15:13:24.537208Z"
    },
    "papermill": {
     "duration": null,
     "end_time": null,
     "exception": null,
     "start_time": null,
     "status": "pending"
    },
    "tags": []
   },
   "outputs": [
    {
     "data": {
      "text/plain": [
       "{'master_sub_1.FIXEDCELLS': 'final_consensus_peaks/master_sub_1.FIXEDCELLS__SCREEN_narrow_peaks_dict.pkl'}"
      ]
     },
     "execution_count": 40,
     "metadata": {},
     "output_type": "execute_result"
    }
   ],
   "source": [
    "narrow_peaks_path_dict = {\n",
    "    x.split(\"/\")[-1].split(f\"__\")[0]: x\n",
    "    for x in sorted(glob.glob(\"final_consensus_peaks/*_narrow_peaks_dict.pkl\"))\n",
    "}\n",
    "narrow_peaks_path_dict"
   ]
  },
  {
   "cell_type": "code",
   "execution_count": 41,
   "id": "cdf86ecd",
   "metadata": {
    "execution": {
     "iopub.execute_input": "2022-12-27T15:13:27.548523Z",
     "iopub.status.busy": "2022-12-27T15:13:27.546938Z",
     "iopub.status.idle": "2022-12-27T15:13:27.555995Z",
     "shell.execute_reply": "2022-12-27T15:13:27.554478Z",
     "shell.execute_reply.started": "2022-12-27T15:13:27.548467Z"
    },
    "papermill": {
     "duration": null,
     "end_time": null,
     "exception": null,
     "start_time": null,
     "status": "pending"
    },
    "tags": []
   },
   "outputs": [],
   "source": [
    "path_to_blacklist = \"../0_resources/regions/hg38-blacklist.v2.bed\""
   ]
  },
  {
   "cell_type": "code",
   "execution_count": 42,
   "id": "ff977fc2",
   "metadata": {
    "execution": {
     "iopub.execute_input": "2022-12-27T15:13:28.958574Z",
     "iopub.status.busy": "2022-12-27T15:13:28.957128Z",
     "iopub.status.idle": "2022-12-27T15:16:59.860352Z",
     "shell.execute_reply": "2022-12-27T15:16:59.858450Z",
     "shell.execute_reply.started": "2022-12-27T15:13:28.958516Z"
    },
    "papermill": {
     "duration": null,
     "end_time": null,
     "exception": null,
     "start_time": null,
     "status": "pending"
    },
    "tags": []
   },
   "outputs": [
    {
     "name": "stdout",
     "output_type": "stream",
     "text": [
      "master_sub_1.FIXEDCELLS\n",
      "2022-12-27 16:13:29,439 cisTopic     INFO     Extending and merging peaks per class\n"
     ]
    },
    {
     "name": "stderr",
     "output_type": "stream",
     "text": [
      "/opt/venv/lib/python3.8/site-packages/pyranges/methods/intersection.py:52: FutureWarning: In a future version, `df.iloc[:, i] = newvals` will attempt to set the values inplace instead of always setting a new array. To retain the old behavior, use either `df[df.columns[i]] = newvals` or, if columns are non-unique, `df.isetitem(i, newvals)`\n",
      "  scdf.loc[:, \"Start\"] = new_starts\n",
      "/opt/venv/lib/python3.8/site-packages/pyranges/methods/intersection.py:53: FutureWarning: In a future version, `df.iloc[:, i] = newvals` will attempt to set the values inplace instead of always setting a new array. To retain the old behavior, use either `df[df.columns[i]] = newvals` or, if columns are non-unique, `df.isetitem(i, newvals)`\n",
      "  scdf.loc[:, \"End\"] = new_ends\n",
      "/opt/venv/lib/python3.8/site-packages/pyranges/methods/intersection.py:52: FutureWarning: In a future version, `df.iloc[:, i] = newvals` will attempt to set the values inplace instead of always setting a new array. To retain the old behavior, use either `df[df.columns[i]] = newvals` or, if columns are non-unique, `df.isetitem(i, newvals)`\n",
      "  scdf.loc[:, \"Start\"] = new_starts\n",
      "/opt/venv/lib/python3.8/site-packages/pyranges/methods/intersection.py:53: FutureWarning: In a future version, `df.iloc[:, i] = newvals` will attempt to set the values inplace instead of always setting a new array. To retain the old behavior, use either `df[df.columns[i]] = newvals` or, if columns are non-unique, `df.isetitem(i, newvals)`\n",
      "  scdf.loc[:, \"End\"] = new_ends\n",
      "/opt/venv/lib/python3.8/site-packages/pyranges/methods/intersection.py:52: FutureWarning: In a future version, `df.iloc[:, i] = newvals` will attempt to set the values inplace instead of always setting a new array. To retain the old behavior, use either `df[df.columns[i]] = newvals` or, if columns are non-unique, `df.isetitem(i, newvals)`\n",
      "  scdf.loc[:, \"Start\"] = new_starts\n",
      "/opt/venv/lib/python3.8/site-packages/pyranges/methods/intersection.py:53: FutureWarning: In a future version, `df.iloc[:, i] = newvals` will attempt to set the values inplace instead of always setting a new array. To retain the old behavior, use either `df[df.columns[i]] = newvals` or, if columns are non-unique, `df.isetitem(i, newvals)`\n",
      "  scdf.loc[:, \"End\"] = new_ends\n",
      "/opt/venv/lib/python3.8/site-packages/pyranges/methods/intersection.py:52: FutureWarning: In a future version, `df.iloc[:, i] = newvals` will attempt to set the values inplace instead of always setting a new array. To retain the old behavior, use either `df[df.columns[i]] = newvals` or, if columns are non-unique, `df.isetitem(i, newvals)`\n",
      "  scdf.loc[:, \"Start\"] = new_starts\n",
      "/opt/venv/lib/python3.8/site-packages/pyranges/methods/intersection.py:53: FutureWarning: In a future version, `df.iloc[:, i] = newvals` will attempt to set the values inplace instead of always setting a new array. To retain the old behavior, use either `df[df.columns[i]] = newvals` or, if columns are non-unique, `df.isetitem(i, newvals)`\n",
      "  scdf.loc[:, \"End\"] = new_ends\n",
      "/opt/venv/lib/python3.8/site-packages/pyranges/methods/intersection.py:52: FutureWarning: In a future version, `df.iloc[:, i] = newvals` will attempt to set the values inplace instead of always setting a new array. To retain the old behavior, use either `df[df.columns[i]] = newvals` or, if columns are non-unique, `df.isetitem(i, newvals)`\n",
      "  scdf.loc[:, \"Start\"] = new_starts\n",
      "/opt/venv/lib/python3.8/site-packages/pyranges/methods/intersection.py:53: FutureWarning: In a future version, `df.iloc[:, i] = newvals` will attempt to set the values inplace instead of always setting a new array. To retain the old behavior, use either `df[df.columns[i]] = newvals` or, if columns are non-unique, `df.isetitem(i, newvals)`\n",
      "  scdf.loc[:, \"End\"] = new_ends\n",
      "/opt/venv/lib/python3.8/site-packages/pyranges/methods/intersection.py:52: FutureWarning: In a future version, `df.iloc[:, i] = newvals` will attempt to set the values inplace instead of always setting a new array. To retain the old behavior, use either `df[df.columns[i]] = newvals` or, if columns are non-unique, `df.isetitem(i, newvals)`\n",
      "  scdf.loc[:, \"Start\"] = new_starts\n",
      "/opt/venv/lib/python3.8/site-packages/pyranges/methods/intersection.py:53: FutureWarning: In a future version, `df.iloc[:, i] = newvals` will attempt to set the values inplace instead of always setting a new array. To retain the old behavior, use either `df[df.columns[i]] = newvals` or, if columns are non-unique, `df.isetitem(i, newvals)`\n",
      "  scdf.loc[:, \"End\"] = new_ends\n",
      "/opt/venv/lib/python3.8/site-packages/pyranges/methods/intersection.py:52: FutureWarning: In a future version, `df.iloc[:, i] = newvals` will attempt to set the values inplace instead of always setting a new array. To retain the old behavior, use either `df[df.columns[i]] = newvals` or, if columns are non-unique, `df.isetitem(i, newvals)`\n",
      "  scdf.loc[:, \"Start\"] = new_starts\n",
      "/opt/venv/lib/python3.8/site-packages/pyranges/methods/intersection.py:53: FutureWarning: In a future version, `df.iloc[:, i] = newvals` will attempt to set the values inplace instead of always setting a new array. To retain the old behavior, use either `df[df.columns[i]] = newvals` or, if columns are non-unique, `df.isetitem(i, newvals)`\n",
      "  scdf.loc[:, \"End\"] = new_ends\n",
      "/opt/venv/lib/python3.8/site-packages/pyranges/methods/intersection.py:52: FutureWarning: In a future version, `df.iloc[:, i] = newvals` will attempt to set the values inplace instead of always setting a new array. To retain the old behavior, use either `df[df.columns[i]] = newvals` or, if columns are non-unique, `df.isetitem(i, newvals)`\n",
      "  scdf.loc[:, \"Start\"] = new_starts\n",
      "/opt/venv/lib/python3.8/site-packages/pyranges/methods/intersection.py:53: FutureWarning: In a future version, `df.iloc[:, i] = newvals` will attempt to set the values inplace instead of always setting a new array. To retain the old behavior, use either `df[df.columns[i]] = newvals` or, if columns are non-unique, `df.isetitem(i, newvals)`\n",
      "  scdf.loc[:, \"End\"] = new_ends\n"
     ]
    },
    {
     "name": "stdout",
     "output_type": "stream",
     "text": [
      "2022-12-27 16:15:29,832 cisTopic     INFO     Normalizing peak scores\n",
      "2022-12-27 16:15:30,288 cisTopic     INFO     Merging peaks\n",
      "Warning! Start and End columns now have different dtypes: int64 and int32\n",
      "2022-12-27 16:16:58,091 cisTopic     INFO     Done!\n"
     ]
    },
    {
     "name": "stderr",
     "output_type": "stream",
     "text": [
      "/opt/venv/lib/python3.8/site-packages/pyranges/out.py:37: FutureWarning: Passing a set as an indexer is deprecated and will raise in a future version. Use a list instead.\n",
      "  return pd.concat([outdf, df.get(noncanonical)], axis=1)\n",
      "/opt/venv/lib/python3.8/site-packages/pyranges/out.py:37: FutureWarning: Passing a set as an indexer is deprecated and will raise in a future version. Use a list instead.\n",
      "  return pd.concat([outdf, df.get(noncanonical)], axis=1)\n",
      "/opt/venv/lib/python3.8/site-packages/pyranges/out.py:37: FutureWarning: Passing a set as an indexer is deprecated and will raise in a future version. Use a list instead.\n",
      "  return pd.concat([outdf, df.get(noncanonical)], axis=1)\n",
      "/opt/venv/lib/python3.8/site-packages/pyranges/out.py:37: FutureWarning: Passing a set as an indexer is deprecated and will raise in a future version. Use a list instead.\n",
      "  return pd.concat([outdf, df.get(noncanonical)], axis=1)\n",
      "/opt/venv/lib/python3.8/site-packages/pyranges/out.py:37: FutureWarning: Passing a set as an indexer is deprecated and will raise in a future version. Use a list instead.\n",
      "  return pd.concat([outdf, df.get(noncanonical)], axis=1)\n",
      "/opt/venv/lib/python3.8/site-packages/pyranges/out.py:37: FutureWarning: Passing a set as an indexer is deprecated and will raise in a future version. Use a list instead.\n",
      "  return pd.concat([outdf, df.get(noncanonical)], axis=1)\n",
      "/opt/venv/lib/python3.8/site-packages/pyranges/out.py:37: FutureWarning: Passing a set as an indexer is deprecated and will raise in a future version. Use a list instead.\n",
      "  return pd.concat([outdf, df.get(noncanonical)], axis=1)\n",
      "/opt/venv/lib/python3.8/site-packages/pyranges/out.py:37: FutureWarning: Passing a set as an indexer is deprecated and will raise in a future version. Use a list instead.\n",
      "  return pd.concat([outdf, df.get(noncanonical)], axis=1)\n",
      "/opt/venv/lib/python3.8/site-packages/pyranges/out.py:37: FutureWarning: Passing a set as an indexer is deprecated and will raise in a future version. Use a list instead.\n",
      "  return pd.concat([outdf, df.get(noncanonical)], axis=1)\n",
      "/opt/venv/lib/python3.8/site-packages/pyranges/out.py:37: FutureWarning: Passing a set as an indexer is deprecated and will raise in a future version. Use a list instead.\n",
      "  return pd.concat([outdf, df.get(noncanonical)], axis=1)\n",
      "/opt/venv/lib/python3.8/site-packages/pyranges/out.py:37: FutureWarning: Passing a set as an indexer is deprecated and will raise in a future version. Use a list instead.\n",
      "  return pd.concat([outdf, df.get(noncanonical)], axis=1)\n",
      "/opt/venv/lib/python3.8/site-packages/pyranges/out.py:37: FutureWarning: Passing a set as an indexer is deprecated and will raise in a future version. Use a list instead.\n",
      "  return pd.concat([outdf, df.get(noncanonical)], axis=1)\n",
      "/opt/venv/lib/python3.8/site-packages/pyranges/out.py:37: FutureWarning: Passing a set as an indexer is deprecated and will raise in a future version. Use a list instead.\n",
      "  return pd.concat([outdf, df.get(noncanonical)], axis=1)\n",
      "/opt/venv/lib/python3.8/site-packages/pyranges/out.py:37: FutureWarning: Passing a set as an indexer is deprecated and will raise in a future version. Use a list instead.\n",
      "  return pd.concat([outdf, df.get(noncanonical)], axis=1)\n",
      "/opt/venv/lib/python3.8/site-packages/pyranges/out.py:37: FutureWarning: Passing a set as an indexer is deprecated and will raise in a future version. Use a list instead.\n",
      "  return pd.concat([outdf, df.get(noncanonical)], axis=1)\n",
      "/opt/venv/lib/python3.8/site-packages/pyranges/out.py:37: FutureWarning: Passing a set as an indexer is deprecated and will raise in a future version. Use a list instead.\n",
      "  return pd.concat([outdf, df.get(noncanonical)], axis=1)\n",
      "/opt/venv/lib/python3.8/site-packages/pyranges/out.py:37: FutureWarning: Passing a set as an indexer is deprecated and will raise in a future version. Use a list instead.\n",
      "  return pd.concat([outdf, df.get(noncanonical)], axis=1)\n",
      "/opt/venv/lib/python3.8/site-packages/pyranges/out.py:37: FutureWarning: Passing a set as an indexer is deprecated and will raise in a future version. Use a list instead.\n",
      "  return pd.concat([outdf, df.get(noncanonical)], axis=1)\n",
      "/opt/venv/lib/python3.8/site-packages/pyranges/out.py:37: FutureWarning: Passing a set as an indexer is deprecated and will raise in a future version. Use a list instead.\n",
      "  return pd.concat([outdf, df.get(noncanonical)], axis=1)\n",
      "/opt/venv/lib/python3.8/site-packages/pyranges/out.py:37: FutureWarning: Passing a set as an indexer is deprecated and will raise in a future version. Use a list instead.\n",
      "  return pd.concat([outdf, df.get(noncanonical)], axis=1)\n",
      "/opt/venv/lib/python3.8/site-packages/pyranges/out.py:37: FutureWarning: Passing a set as an indexer is deprecated and will raise in a future version. Use a list instead.\n",
      "  return pd.concat([outdf, df.get(noncanonical)], axis=1)\n",
      "/opt/venv/lib/python3.8/site-packages/pyranges/out.py:37: FutureWarning: Passing a set as an indexer is deprecated and will raise in a future version. Use a list instead.\n",
      "  return pd.concat([outdf, df.get(noncanonical)], axis=1)\n",
      "/opt/venv/lib/python3.8/site-packages/pyranges/out.py:37: FutureWarning: Passing a set as an indexer is deprecated and will raise in a future version. Use a list instead.\n",
      "  return pd.concat([outdf, df.get(noncanonical)], axis=1)\n",
      "/opt/venv/lib/python3.8/site-packages/pyranges/out.py:37: FutureWarning: Passing a set as an indexer is deprecated and will raise in a future version. Use a list instead.\n",
      "  return pd.concat([outdf, df.get(noncanonical)], axis=1)\n",
      "/opt/venv/lib/python3.8/site-packages/pyranges/out.py:37: FutureWarning: Passing a set as an indexer is deprecated and will raise in a future version. Use a list instead.\n",
      "  return pd.concat([outdf, df.get(noncanonical)], axis=1)\n",
      "/opt/venv/lib/python3.8/site-packages/pyranges/out.py:37: FutureWarning: Passing a set as an indexer is deprecated and will raise in a future version. Use a list instead.\n",
      "  return pd.concat([outdf, df.get(noncanonical)], axis=1)\n",
      "/opt/venv/lib/python3.8/site-packages/pyranges/out.py:37: FutureWarning: Passing a set as an indexer is deprecated and will raise in a future version. Use a list instead.\n",
      "  return pd.concat([outdf, df.get(noncanonical)], axis=1)\n",
      "/opt/venv/lib/python3.8/site-packages/pyranges/out.py:37: FutureWarning: Passing a set as an indexer is deprecated and will raise in a future version. Use a list instead.\n",
      "  return pd.concat([outdf, df.get(noncanonical)], axis=1)\n",
      "/opt/venv/lib/python3.8/site-packages/pyranges/out.py:37: FutureWarning: Passing a set as an indexer is deprecated and will raise in a future version. Use a list instead.\n",
      "  return pd.concat([outdf, df.get(noncanonical)], axis=1)\n",
      "/opt/venv/lib/python3.8/site-packages/pyranges/out.py:37: FutureWarning: Passing a set as an indexer is deprecated and will raise in a future version. Use a list instead.\n",
      "  return pd.concat([outdf, df.get(noncanonical)], axis=1)\n",
      "/opt/venv/lib/python3.8/site-packages/pyranges/out.py:37: FutureWarning: Passing a set as an indexer is deprecated and will raise in a future version. Use a list instead.\n",
      "  return pd.concat([outdf, df.get(noncanonical)], axis=1)\n",
      "/opt/venv/lib/python3.8/site-packages/pyranges/out.py:37: FutureWarning: Passing a set as an indexer is deprecated and will raise in a future version. Use a list instead.\n",
      "  return pd.concat([outdf, df.get(noncanonical)], axis=1)\n",
      "/opt/venv/lib/python3.8/site-packages/pyranges/out.py:37: FutureWarning: Passing a set as an indexer is deprecated and will raise in a future version. Use a list instead.\n",
      "  return pd.concat([outdf, df.get(noncanonical)], axis=1)\n",
      "/opt/venv/lib/python3.8/site-packages/pyranges/out.py:37: FutureWarning: Passing a set as an indexer is deprecated and will raise in a future version. Use a list instead.\n",
      "  return pd.concat([outdf, df.get(noncanonical)], axis=1)\n",
      "/opt/venv/lib/python3.8/site-packages/pyranges/out.py:37: FutureWarning: Passing a set as an indexer is deprecated and will raise in a future version. Use a list instead.\n",
      "  return pd.concat([outdf, df.get(noncanonical)], axis=1)\n",
      "/opt/venv/lib/python3.8/site-packages/pyranges/out.py:37: FutureWarning: Passing a set as an indexer is deprecated and will raise in a future version. Use a list instead.\n",
      "  return pd.concat([outdf, df.get(noncanonical)], axis=1)\n",
      "/opt/venv/lib/python3.8/site-packages/pyranges/out.py:37: FutureWarning: Passing a set as an indexer is deprecated and will raise in a future version. Use a list instead.\n",
      "  return pd.concat([outdf, df.get(noncanonical)], axis=1)\n",
      "/opt/venv/lib/python3.8/site-packages/pyranges/out.py:37: FutureWarning: Passing a set as an indexer is deprecated and will raise in a future version. Use a list instead.\n",
      "  return pd.concat([outdf, df.get(noncanonical)], axis=1)\n",
      "/opt/venv/lib/python3.8/site-packages/pyranges/out.py:37: FutureWarning: Passing a set as an indexer is deprecated and will raise in a future version. Use a list instead.\n",
      "  return pd.concat([outdf, df.get(noncanonical)], axis=1)\n",
      "/opt/venv/lib/python3.8/site-packages/pyranges/out.py:37: FutureWarning: Passing a set as an indexer is deprecated and will raise in a future version. Use a list instead.\n",
      "  return pd.concat([outdf, df.get(noncanonical)], axis=1)\n",
      "/opt/venv/lib/python3.8/site-packages/pyranges/out.py:37: FutureWarning: Passing a set as an indexer is deprecated and will raise in a future version. Use a list instead.\n",
      "  return pd.concat([outdf, df.get(noncanonical)], axis=1)\n",
      "/opt/venv/lib/python3.8/site-packages/pyranges/out.py:37: FutureWarning: Passing a set as an indexer is deprecated and will raise in a future version. Use a list instead.\n",
      "  return pd.concat([outdf, df.get(noncanonical)], axis=1)\n",
      "/opt/venv/lib/python3.8/site-packages/pyranges/out.py:37: FutureWarning: Passing a set as an indexer is deprecated and will raise in a future version. Use a list instead.\n",
      "  return pd.concat([outdf, df.get(noncanonical)], axis=1)\n",
      "/opt/venv/lib/python3.8/site-packages/pyranges/out.py:37: FutureWarning: Passing a set as an indexer is deprecated and will raise in a future version. Use a list instead.\n",
      "  return pd.concat([outdf, df.get(noncanonical)], axis=1)\n",
      "/opt/venv/lib/python3.8/site-packages/pyranges/out.py:37: FutureWarning: Passing a set as an indexer is deprecated and will raise in a future version. Use a list instead.\n",
      "  return pd.concat([outdf, df.get(noncanonical)], axis=1)\n",
      "/opt/venv/lib/python3.8/site-packages/pyranges/out.py:37: FutureWarning: Passing a set as an indexer is deprecated and will raise in a future version. Use a list instead.\n",
      "  return pd.concat([outdf, df.get(noncanonical)], axis=1)\n",
      "/opt/venv/lib/python3.8/site-packages/pyranges/out.py:37: FutureWarning: Passing a set as an indexer is deprecated and will raise in a future version. Use a list instead.\n",
      "  return pd.concat([outdf, df.get(noncanonical)], axis=1)\n",
      "/opt/venv/lib/python3.8/site-packages/pyranges/out.py:37: FutureWarning: Passing a set as an indexer is deprecated and will raise in a future version. Use a list instead.\n",
      "  return pd.concat([outdf, df.get(noncanonical)], axis=1)\n",
      "/opt/venv/lib/python3.8/site-packages/pyranges/out.py:37: FutureWarning: Passing a set as an indexer is deprecated and will raise in a future version. Use a list instead.\n",
      "  return pd.concat([outdf, df.get(noncanonical)], axis=1)\n",
      "/opt/venv/lib/python3.8/site-packages/pyranges/out.py:37: FutureWarning: Passing a set as an indexer is deprecated and will raise in a future version. Use a list instead.\n",
      "  return pd.concat([outdf, df.get(noncanonical)], axis=1)\n",
      "/opt/venv/lib/python3.8/site-packages/pyranges/out.py:37: FutureWarning: Passing a set as an indexer is deprecated and will raise in a future version. Use a list instead.\n",
      "  return pd.concat([outdf, df.get(noncanonical)], axis=1)\n",
      "/opt/venv/lib/python3.8/site-packages/pyranges/out.py:37: FutureWarning: Passing a set as an indexer is deprecated and will raise in a future version. Use a list instead.\n",
      "  return pd.concat([outdf, df.get(noncanonical)], axis=1)\n",
      "/opt/venv/lib/python3.8/site-packages/pyranges/out.py:37: FutureWarning: Passing a set as an indexer is deprecated and will raise in a future version. Use a list instead.\n",
      "  return pd.concat([outdf, df.get(noncanonical)], axis=1)\n",
      "/opt/venv/lib/python3.8/site-packages/pyranges/out.py:37: FutureWarning: Passing a set as an indexer is deprecated and will raise in a future version. Use a list instead.\n",
      "  return pd.concat([outdf, df.get(noncanonical)], axis=1)\n",
      "/opt/venv/lib/python3.8/site-packages/pyranges/out.py:37: FutureWarning: Passing a set as an indexer is deprecated and will raise in a future version. Use a list instead.\n",
      "  return pd.concat([outdf, df.get(noncanonical)], axis=1)\n",
      "/opt/venv/lib/python3.8/site-packages/pyranges/out.py:37: FutureWarning: Passing a set as an indexer is deprecated and will raise in a future version. Use a list instead.\n",
      "  return pd.concat([outdf, df.get(noncanonical)], axis=1)\n",
      "/opt/venv/lib/python3.8/site-packages/pyranges/out.py:37: FutureWarning: Passing a set as an indexer is deprecated and will raise in a future version. Use a list instead.\n",
      "  return pd.concat([outdf, df.get(noncanonical)], axis=1)\n",
      "/opt/venv/lib/python3.8/site-packages/pyranges/out.py:37: FutureWarning: Passing a set as an indexer is deprecated and will raise in a future version. Use a list instead.\n",
      "  return pd.concat([outdf, df.get(noncanonical)], axis=1)\n",
      "/opt/venv/lib/python3.8/site-packages/pyranges/out.py:37: FutureWarning: Passing a set as an indexer is deprecated and will raise in a future version. Use a list instead.\n",
      "  return pd.concat([outdf, df.get(noncanonical)], axis=1)\n",
      "/opt/venv/lib/python3.8/site-packages/pyranges/out.py:37: FutureWarning: Passing a set as an indexer is deprecated and will raise in a future version. Use a list instead.\n",
      "  return pd.concat([outdf, df.get(noncanonical)], axis=1)\n",
      "/opt/venv/lib/python3.8/site-packages/pyranges/out.py:37: FutureWarning: Passing a set as an indexer is deprecated and will raise in a future version. Use a list instead.\n",
      "  return pd.concat([outdf, df.get(noncanonical)], axis=1)\n",
      "/opt/venv/lib/python3.8/site-packages/pyranges/out.py:37: FutureWarning: Passing a set as an indexer is deprecated and will raise in a future version. Use a list instead.\n",
      "  return pd.concat([outdf, df.get(noncanonical)], axis=1)\n",
      "/opt/venv/lib/python3.8/site-packages/pyranges/out.py:37: FutureWarning: Passing a set as an indexer is deprecated and will raise in a future version. Use a list instead.\n",
      "  return pd.concat([outdf, df.get(noncanonical)], axis=1)\n",
      "/opt/venv/lib/python3.8/site-packages/pyranges/out.py:37: FutureWarning: Passing a set as an indexer is deprecated and will raise in a future version. Use a list instead.\n",
      "  return pd.concat([outdf, df.get(noncanonical)], axis=1)\n",
      "/opt/venv/lib/python3.8/site-packages/pyranges/out.py:37: FutureWarning: Passing a set as an indexer is deprecated and will raise in a future version. Use a list instead.\n",
      "  return pd.concat([outdf, df.get(noncanonical)], axis=1)\n",
      "/opt/venv/lib/python3.8/site-packages/pyranges/out.py:37: FutureWarning: Passing a set as an indexer is deprecated and will raise in a future version. Use a list instead.\n",
      "  return pd.concat([outdf, df.get(noncanonical)], axis=1)\n",
      "/opt/venv/lib/python3.8/site-packages/pyranges/out.py:37: FutureWarning: Passing a set as an indexer is deprecated and will raise in a future version. Use a list instead.\n",
      "  return pd.concat([outdf, df.get(noncanonical)], axis=1)\n",
      "/opt/venv/lib/python3.8/site-packages/pyranges/out.py:37: FutureWarning: Passing a set as an indexer is deprecated and will raise in a future version. Use a list instead.\n",
      "  return pd.concat([outdf, df.get(noncanonical)], axis=1)\n",
      "/opt/venv/lib/python3.8/site-packages/pyranges/out.py:37: FutureWarning: Passing a set as an indexer is deprecated and will raise in a future version. Use a list instead.\n",
      "  return pd.concat([outdf, df.get(noncanonical)], axis=1)\n",
      "/opt/venv/lib/python3.8/site-packages/pyranges/out.py:37: FutureWarning: Passing a set as an indexer is deprecated and will raise in a future version. Use a list instead.\n",
      "  return pd.concat([outdf, df.get(noncanonical)], axis=1)\n",
      "/opt/venv/lib/python3.8/site-packages/pyranges/out.py:37: FutureWarning: Passing a set as an indexer is deprecated and will raise in a future version. Use a list instead.\n",
      "  return pd.concat([outdf, df.get(noncanonical)], axis=1)\n",
      "/opt/venv/lib/python3.8/site-packages/pyranges/out.py:37: FutureWarning: Passing a set as an indexer is deprecated and will raise in a future version. Use a list instead.\n",
      "  return pd.concat([outdf, df.get(noncanonical)], axis=1)\n",
      "/opt/venv/lib/python3.8/site-packages/pyranges/out.py:37: FutureWarning: Passing a set as an indexer is deprecated and will raise in a future version. Use a list instead.\n",
      "  return pd.concat([outdf, df.get(noncanonical)], axis=1)\n",
      "/opt/venv/lib/python3.8/site-packages/pyranges/out.py:37: FutureWarning: Passing a set as an indexer is deprecated and will raise in a future version. Use a list instead.\n",
      "  return pd.concat([outdf, df.get(noncanonical)], axis=1)\n",
      "/opt/venv/lib/python3.8/site-packages/pyranges/out.py:37: FutureWarning: Passing a set as an indexer is deprecated and will raise in a future version. Use a list instead.\n",
      "  return pd.concat([outdf, df.get(noncanonical)], axis=1)\n",
      "/opt/venv/lib/python3.8/site-packages/pyranges/out.py:37: FutureWarning: Passing a set as an indexer is deprecated and will raise in a future version. Use a list instead.\n",
      "  return pd.concat([outdf, df.get(noncanonical)], axis=1)\n",
      "/opt/venv/lib/python3.8/site-packages/pyranges/out.py:37: FutureWarning: Passing a set as an indexer is deprecated and will raise in a future version. Use a list instead.\n",
      "  return pd.concat([outdf, df.get(noncanonical)], axis=1)\n",
      "/opt/venv/lib/python3.8/site-packages/pyranges/out.py:37: FutureWarning: Passing a set as an indexer is deprecated and will raise in a future version. Use a list instead.\n",
      "  return pd.concat([outdf, df.get(noncanonical)], axis=1)\n",
      "/opt/venv/lib/python3.8/site-packages/pyranges/out.py:37: FutureWarning: Passing a set as an indexer is deprecated and will raise in a future version. Use a list instead.\n",
      "  return pd.concat([outdf, df.get(noncanonical)], axis=1)\n",
      "/opt/venv/lib/python3.8/site-packages/pyranges/out.py:37: FutureWarning: Passing a set as an indexer is deprecated and will raise in a future version. Use a list instead.\n",
      "  return pd.concat([outdf, df.get(noncanonical)], axis=1)\n",
      "/opt/venv/lib/python3.8/site-packages/pyranges/out.py:37: FutureWarning: Passing a set as an indexer is deprecated and will raise in a future version. Use a list instead.\n",
      "  return pd.concat([outdf, df.get(noncanonical)], axis=1)\n",
      "/opt/venv/lib/python3.8/site-packages/pyranges/out.py:37: FutureWarning: Passing a set as an indexer is deprecated and will raise in a future version. Use a list instead.\n",
      "  return pd.concat([outdf, df.get(noncanonical)], axis=1)\n",
      "/opt/venv/lib/python3.8/site-packages/pyranges/out.py:37: FutureWarning: Passing a set as an indexer is deprecated and will raise in a future version. Use a list instead.\n",
      "  return pd.concat([outdf, df.get(noncanonical)], axis=1)\n",
      "/opt/venv/lib/python3.8/site-packages/pyranges/out.py:37: FutureWarning: Passing a set as an indexer is deprecated and will raise in a future version. Use a list instead.\n",
      "  return pd.concat([outdf, df.get(noncanonical)], axis=1)\n"
     ]
    }
   ],
   "source": [
    "peak_half_width = 250\n",
    "\n",
    "# Get consensus peaks\n",
    "consensus_peaks_dict = {}\n",
    "for sample in narrow_peaks_path_dict.keys():\n",
    "    print(sample)\n",
    "    consensus_out_path = narrow_peaks_path_dict[sample].replace(\n",
    "        \"_narrow_peaks_dict.pkl\", \"_consensus_peaks.bed\"\n",
    "    )\n",
    "    if not os.path.exists(consensus_out_path):\n",
    "        cell_data = pd.read_csv(cell_data_path_dict[sample])\n",
    "        cto_celltypes = set(\n",
    "            [\n",
    "                x.replace(\" \", \"\").replace(\"+\", \"\").replace(\"_\", \"\")\n",
    "                for x in set(cell_data[\"consensus_cell_type\"].unique())\n",
    "            ]\n",
    "        )\n",
    "\n",
    "        with open(narrow_peaks_path_dict[sample], \"rb\") as f:\n",
    "            narrow_peaks_dict = pickle.load(f)\n",
    "        peaks_celltypes = set(\n",
    "            [\n",
    "                x.replace(\" \", \"\").replace(\"+\", \"\").replace(\"_\", \"\")\n",
    "                for x in set(narrow_peaks_dict.keys())\n",
    "            ]\n",
    "        )\n",
    "\n",
    "        if cto_celltypes == peaks_celltypes:\n",
    "            consensus_peaks = get_consensus_peaks(\n",
    "                narrow_peaks_dict,\n",
    "                peak_half_width,\n",
    "                chromsizes=chromsizes,\n",
    "                path_to_blacklist=path_to_blacklist,\n",
    "            )\n",
    "\n",
    "            consensus_peaks.to_bed(\n",
    "                path=consensus_out_path, keep=True, compression=\"infer\", chain=False\n",
    "            )\n",
    "        else:\n",
    "            print(\"CELL TYPE SETS NOT MATCHING! Rerun peak calling.\")\n",
    "            print(peaks_celltypes - cto_celltypes)\n",
    "            print(cto_celltypes - peaks_celltypes)\n",
    "    else:\n",
    "        print(f\"{consensus_out_path} already exists, skipping...\")"
   ]
  },
  {
   "cell_type": "markdown",
   "id": "f00b93db-4d5b-44a7-9754-6ff60f4cb730",
   "metadata": {},
   "source": [
    "# write top 20 and bot 20 pct"
   ]
  },
  {
   "cell_type": "code",
   "execution_count": 57,
   "id": "15e03171-b47c-4625-80c7-043d68d2dff9",
   "metadata": {
    "execution": {
     "iopub.execute_input": "2022-12-27T16:22:15.091524Z",
     "iopub.status.busy": "2022-12-27T16:22:15.090594Z",
     "iopub.status.idle": "2022-12-27T16:22:15.108850Z",
     "shell.execute_reply": "2022-12-27T16:22:15.107339Z",
     "shell.execute_reply.started": "2022-12-27T16:22:15.091463Z"
    },
    "tags": []
   },
   "outputs": [],
   "source": [
    "peak_path_dict = {\n",
    "    x.split(\"/\")[-1].split(\"__\")[0]: x\n",
    "    for x in sorted(glob.glob(\"final_consensus_peaks/*peaks.bed\"))\n",
    "}"
   ]
  },
  {
   "cell_type": "code",
   "execution_count": 59,
   "id": "9d4f2709-0caf-4dd0-a993-29765db99253",
   "metadata": {
    "execution": {
     "iopub.execute_input": "2022-12-27T16:22:17.847356Z",
     "iopub.status.busy": "2022-12-27T16:22:17.846010Z",
     "iopub.status.idle": "2022-12-27T16:22:19.269793Z",
     "shell.execute_reply": "2022-12-27T16:22:19.268380Z",
     "shell.execute_reply.started": "2022-12-27T16:22:17.847299Z"
    },
    "tags": []
   },
   "outputs": [
    {
     "name": "stdout",
     "output_type": "stream",
     "text": [
      "master_sub_1.FIXEDCELLS\n"
     ]
    }
   ],
   "source": [
    "df_merged = pd.DataFrame()\n",
    "for sample, peak_path in peak_path_dict.items():\n",
    "    print(sample)\n",
    "    df = pd.read_csv(peak_path, sep=\"\\t\", header=None)\n",
    "    df[\"sample\"] = sample\n",
    "    df.columns = [\n",
    "        \"chrom\",\n",
    "        \"start\",\n",
    "        \"end\",\n",
    "        \"cell_type\",\n",
    "        \"score\",\n",
    "        \"strand\",\n",
    "        \"sample\",\n",
    "    ]\n",
    "    percentile_val = np.percentile(df[\"score\"], 80)\n",
    "    df_sub = df[df[\"score\"] > percentile_val]\n",
    "    peak_path_new = peak_path.replace(\".bed\", \"__top20pct.bed\")\n",
    "\n",
    "    df_sub.drop(\"sample\", axis=1).to_csv(\n",
    "        peak_path_new, sep=\"\\t\", header=False, index=False\n",
    "    )\n",
    "\n",
    "    percentile_val = np.percentile(df[\"score\"], 20)\n",
    "    df_sub = df[df[\"score\"] < percentile_val]\n",
    "    peak_path_new = peak_path.replace(\".bed\", \"__bot20pct.bed\")\n",
    "\n",
    "    df_sub.drop(\"sample\", axis=1).to_csv(\n",
    "        peak_path_new, sep=\"\\t\", header=False, index=False\n",
    "    )"
   ]
  },
  {
   "cell_type": "markdown",
   "id": "28256990",
   "metadata": {
    "papermill": {
     "duration": null,
     "end_time": null,
     "exception": null,
     "start_time": null,
     "status": "pending"
    },
    "tags": []
   },
   "source": [
    "# Check % chrM in consensus peaks"
   ]
  },
  {
   "cell_type": "code",
   "execution_count": 43,
   "id": "d338fe42",
   "metadata": {
    "execution": {
     "iopub.execute_input": "2022-12-27T15:16:59.862400Z",
     "iopub.status.busy": "2022-12-27T15:16:59.862174Z",
     "iopub.status.idle": "2022-12-27T15:16:59.872631Z",
     "shell.execute_reply": "2022-12-27T15:16:59.871662Z",
     "shell.execute_reply.started": "2022-12-27T15:16:59.862379Z"
    },
    "papermill": {
     "duration": null,
     "end_time": null,
     "exception": null,
     "start_time": null,
     "status": "pending"
    },
    "tags": []
   },
   "outputs": [
    {
     "data": {
      "text/plain": [
       "{'master_sub_1.FIXEDCELLS': 'final_consensus_peaks/master_sub_1.FIXEDCELLS__SCREEN_consensus_peaks.bed'}"
      ]
     },
     "execution_count": 43,
     "metadata": {},
     "output_type": "execute_result"
    }
   ],
   "source": [
    "consensus_peaks_path_dict = {\n",
    "    x.split(\"/\")[-1].split(f\"__\")[0]: x\n",
    "    for x in sorted(glob.glob(\"final_consensus_peaks/*consensus_peaks.bed\"))\n",
    "}\n",
    "consensus_peaks_path_dict"
   ]
  },
  {
   "cell_type": "code",
   "execution_count": 44,
   "id": "58c7f4a1",
   "metadata": {
    "execution": {
     "iopub.execute_input": "2022-12-27T15:16:59.873840Z",
     "iopub.status.busy": "2022-12-27T15:16:59.873624Z",
     "iopub.status.idle": "2022-12-27T15:17:00.496356Z",
     "shell.execute_reply": "2022-12-27T15:17:00.495150Z",
     "shell.execute_reply.started": "2022-12-27T15:16:59.873821Z"
    },
    "papermill": {
     "duration": null,
     "end_time": null,
     "exception": null,
     "start_time": null,
     "status": "pending"
    },
    "tags": []
   },
   "outputs": [
    {
     "name": "stdout",
     "output_type": "stream",
     "text": [
      "master_sub_1.FIXEDCELLS\n",
      "\tpeaks on standard chromosomes: 326759\n",
      "\tpeaks on contigs: 659\n",
      "\tpeaks on chrM: 21\n",
      "\t% peaks non standard chromosomes: 0.20767226872791572%\n",
      "\tpeaks on chrY: 220\n"
     ]
    }
   ],
   "source": [
    "for sample, path in consensus_peaks_path_dict.items():\n",
    "    print(sample)\n",
    "    peaks_df = pd.read_csv(path, sep=\"\\t\", header=None)\n",
    "\n",
    "    chroms_in_df = list(sorted(peaks_df[0].unique()))\n",
    "    chroms_standard = [\"chr\" + str(x + 1) for x in range(22)] + [\"chrX\"]\n",
    "    chroms_nonstandard = list(set(chroms_in_df) - set(chroms_standard) - set([\"chrM\"]))\n",
    "\n",
    "    n_standard = peaks_df[0].value_counts()[chroms_standard].sum()\n",
    "    n_contigs = peaks_df[0].value_counts()[chroms_nonstandard].sum()\n",
    "    n_chrm = peaks_df[0].value_counts()[\"chrM\"].sum()\n",
    "    pct_nonstandard = (n_contigs + n_chrm) / len(peaks_df) * 100\n",
    "\n",
    "    print(f\"\\tpeaks on standard chromosomes: {n_standard}\")\n",
    "    print(f\"\\tpeaks on contigs: {n_contigs}\")\n",
    "    print(f\"\\tpeaks on chrM: {n_chrm}\")\n",
    "    print(f\"\\t% peaks non standard chromosomes: {pct_nonstandard}%\")\n",
    "    if \"chrY\" in chroms_in_df:\n",
    "        n_chrY = peaks_df[0].value_counts()[\"chrY\"].sum()\n",
    "        print(f\"\\tpeaks on chrY: {n_chrY}\")\n",
    "    else:\n",
    "        print(f\"\\tpeaks on chrY: 0\")"
   ]
  },
  {
   "cell_type": "code",
   "execution_count": null,
   "id": "528c3cb2",
   "metadata": {
    "papermill": {
     "duration": null,
     "end_time": null,
     "exception": null,
     "start_time": null,
     "status": "pending"
    },
    "tags": []
   },
   "outputs": [],
   "source": []
  },
  {
   "cell_type": "code",
   "execution_count": null,
   "id": "ff74249f",
   "metadata": {
    "papermill": {
     "duration": null,
     "end_time": null,
     "exception": null,
     "start_time": null,
     "status": "pending"
    },
    "tags": []
   },
   "outputs": [],
   "source": []
  },
  {
   "cell_type": "code",
   "execution_count": null,
   "id": "1b3ea69c",
   "metadata": {
    "papermill": {
     "duration": null,
     "end_time": null,
     "exception": null,
     "start_time": null,
     "status": "pending"
    },
    "tags": []
   },
   "outputs": [],
   "source": []
  }
 ],
 "metadata": {
  "kernelspec": {
   "display_name": "20221014_pycistopic.sif",
   "language": "python",
   "name": "cistopic_20221014"
  },
  "language_info": {
   "codemirror_mode": {
    "name": "ipython",
    "version": 3
   },
   "file_extension": ".py",
   "mimetype": "text/x-python",
   "name": "python",
   "nbconvert_exporter": "python",
   "pygments_lexer": "ipython3",
   "version": "3.8.15"
  },
  "papermill": {
   "default_parameters": {},
   "duration": null,
   "end_time": null,
   "environment_variables": {},
   "exception": null,
   "input_path": "8_consensus_peaks.ipynb",
   "output_path": "8_consensus_peaks.OUT.ipynb",
   "parameters": {},
   "start_time": "2022-09-29T13:44:40.536795",
   "version": "2.3.4"
  }
 },
 "nbformat": 4,
 "nbformat_minor": 5
}

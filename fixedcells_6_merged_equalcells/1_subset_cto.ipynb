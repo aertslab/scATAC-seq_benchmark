{
 "cells": [
  {
   "cell_type": "code",
   "execution_count": null,
   "id": "07696c9f-31b1-462b-b8a2-49093bc39c1c",
   "metadata": {
    "tags": []
   },
   "outputs": [],
   "source": [
    "import os\n",
    "import glob\n",
    "import pandas as pd\n",
    "import seaborn as sns\n",
    "import matplotlib.pyplot as plt\n",
    "import random\n",
    "import pickle\n",
    "\n",
    "%load_ext lab_black"
   ]
  },
  {
   "cell_type": "code",
   "execution_count": null,
   "id": "2a18b0c8-fc65-4b3f-8b52-1df760482e15",
   "metadata": {
    "tags": []
   },
   "outputs": [],
   "source": [
    "cto_path = \"../fixedcells_4_merged/cistopic_objects_master/master_all_1.FIXEDCELLS__cto.scrublet0-4.fmx.singlets.pkl\""
   ]
  },
  {
   "cell_type": "code",
   "execution_count": null,
   "id": "4e7d325b-eed3-4617-91e5-6bef69b5a64f",
   "metadata": {
    "tags": []
   },
   "outputs": [],
   "source": [
    "with open(cto_path, \"rb\") as f:\n",
    "    cto_all = pickle.load(f)"
   ]
  },
  {
   "cell_type": "code",
   "execution_count": null,
   "id": "dfa81b98-2e1e-44be-b881-5c161def1646",
   "metadata": {
    "tags": []
   },
   "outputs": [],
   "source": [
    "cto_all.cell_data[\"tech\"] = [x.split(\"_\")[1] for x in cto_all.cell_data[\"sample_id\"]]"
   ]
  },
  {
   "cell_type": "code",
   "execution_count": null,
   "id": "b3379bd0-b6e7-4945-9a94-88814cc0b67c",
   "metadata": {
    "tags": []
   },
   "outputs": [],
   "source": [
    "cto_all.cell_data[\"tech\"].value_counts()"
   ]
  },
  {
   "cell_type": "code",
   "execution_count": null,
   "id": "bc5d2e0e-97c4-4422-a9da-6b03ef4e5f73",
   "metadata": {},
   "outputs": [],
   "source": [
    "random.seed(10)"
   ]
  },
  {
   "cell_type": "code",
   "execution_count": null,
   "id": "411fbfba-ca13-44bd-bb6b-620906211199",
   "metadata": {
    "tags": []
   },
   "outputs": [],
   "source": [
    "bcs_merged = []\n",
    "for tech in cto_all.cell_data[\"tech\"].unique():\n",
    "    df_tmp = cto_all.cell_data[cto_all.cell_data[\"tech\"] == tech]\n",
    "    bcs = random.sample(list(df_tmp.index), 4831)\n",
    "    print(len(bcs))\n",
    "    bcs_merged = bcs_merged + bcs"
   ]
  },
  {
   "cell_type": "code",
   "execution_count": null,
   "id": "512bd8be-c955-4677-a53a-ad681b6f4ace",
   "metadata": {
    "tags": []
   },
   "outputs": [],
   "source": [
    "len(bcs_merged)"
   ]
  },
  {
   "cell_type": "markdown",
   "id": "8f4f5b4b-42d1-446c-927e-44231f7b9e6c",
   "metadata": {},
   "source": [
    "so the minimum we need is 4831 cells per sample"
   ]
  },
  {
   "cell_type": "code",
   "execution_count": null,
   "id": "485694f2-b02a-4848-a666-f3fdc5038b09",
   "metadata": {
    "tags": []
   },
   "outputs": [],
   "source": [
    "cto_subset = cto_all.subset(cells=bcs_merged, copy=True)\n",
    "cto_path_new = (\n",
    "    \"cistopic_objects/master_sub_1.FIXEDCELLS__cto.scrublet0-4.fmx.singlets.pkl\"\n",
    ")\n",
    "with open(cto_path_new, \"wb\") as f:\n",
    "    pickle.dump(cto_subset, f, protocol=4)"
   ]
  },
  {
   "cell_type": "markdown",
   "id": "af08ce02-00b8-40bc-9c42-2bcdc3d34707",
   "metadata": {},
   "source": [
    "# fmx-fair"
   ]
  },
  {
   "cell_type": "code",
   "execution_count": null,
   "id": "8afc385c-96c2-4145-8d05-b7fb7b2becf6",
   "metadata": {
    "tags": []
   },
   "outputs": [],
   "source": [
    "cto_path = \"../fixedcells_4_merged/cistopic_objects_master/master_all_1.FIXEDCELLS__cto.scrublet0-4.fmx.singlets.model_24topics.consensus_harmony.pkl\""
   ]
  },
  {
   "cell_type": "code",
   "execution_count": null,
   "id": "a3a9a729-53c1-4838-9927-69d1241645ed",
   "metadata": {
    "tags": []
   },
   "outputs": [],
   "source": [
    "with open(cto_path, \"rb\") as f:\n",
    "    cto_all = pickle.load(f)"
   ]
  },
  {
   "cell_type": "code",
   "execution_count": null,
   "id": "cbb0cfb7-0d09-420f-abfa-04770a9bad85",
   "metadata": {
    "tags": []
   },
   "outputs": [],
   "source": [
    "cto_all.cell_data[\"tech\"] = [x.split(\"_\")[1] for x in cto_all.cell_data[\"sample_id\"]]"
   ]
  },
  {
   "cell_type": "code",
   "execution_count": null,
   "id": "d44a1309-a5fb-4b98-b3d9-4317c0be270f",
   "metadata": {
    "tags": []
   },
   "outputs": [],
   "source": [
    "df_tmp = cto_all.cell_data[\n",
    "    (cto_all.cell_data[\"fmx_sample\"] == \"sampleA\")\n",
    "    | (cto_all.cell_data[\"fmx_sample\"] == \"sampleB\")\n",
    "]"
   ]
  },
  {
   "cell_type": "code",
   "execution_count": null,
   "id": "7f283c07-0d3f-4347-acb4-8ee3f4a88789",
   "metadata": {
    "tags": []
   },
   "outputs": [],
   "source": [
    "with pd.option_context(\n",
    "    \"display.max_rows\",\n",
    "    None,\n",
    "    \"display.max_columns\",\n",
    "    None,\n",
    "    \"display.precision\",\n",
    "    3,\n",
    "):\n",
    "    print(df_tmp.groupby([\"fmx_sample\", \"harmony_consensus_cell_type\"])[\"tech\"].value_counts())"
   ]
  },
  {
   "cell_type": "code",
   "execution_count": null,
   "id": "bd11ba6d-fe35-4fe7-a11f-b127a2cdb3fb",
   "metadata": {
    "tags": []
   },
   "outputs": [],
   "source": [
    "random.seed(10)"
   ]
  },
  {
   "cell_type": "code",
   "execution_count": null,
   "id": "664bd137-693e-4daa-8120-ee15d9209241",
   "metadata": {
    "tags": []
   },
   "outputs": [],
   "source": [
    "bcs_merged = []\n",
    "for tech in cto_all.cell_data[\"tech\"].unique():\n",
    "    df_tmp = cto_all.cell_data[cto_all.cell_data[\"tech\"] == tech]\n",
    "    bcs = random.sample(list(df_tmp.index), 4831)\n",
    "    print(len(bcs))\n",
    "    bcs_merged = bcs_merged + bcs"
   ]
  },
  {
   "cell_type": "code",
   "execution_count": null,
   "id": "0c901dee-fa29-4ef3-b6a5-47d68f35ce9d",
   "metadata": {
    "tags": []
   },
   "outputs": [],
   "source": [
    "len(bcs_merged)"
   ]
  },
  {
   "cell_type": "markdown",
   "id": "19f6dcf8-63d3-430b-9f65-f6f719357e5a",
   "metadata": {},
   "source": [
    "so the minimum we need is 4831 cells per sample"
   ]
  },
  {
   "cell_type": "code",
   "execution_count": null,
   "id": "588a996e-9800-495a-b44a-796853e26c03",
   "metadata": {
    "tags": []
   },
   "outputs": [],
   "source": [
    "cto_subset = cto_all.subset(cells=bcs_merged, copy=True)\n",
    "cto_path_new = (\n",
    "    \"cistopic_objects/master_sub_1.FIXEDCELLS__cto.scrublet0-4.fmx.singlets.pkl\"\n",
    ")\n",
    "with open(cto_path_new, \"wb\") as f:\n",
    "    pickle.dump(cto_subset, f, protocol=4)"
   ]
  }
 ],
 "metadata": {
  "kernelspec": {
   "display_name": "20221014_pycistopic.sif",
   "language": "python",
   "name": "cistopic_20221014"
  },
  "language_info": {
   "codemirror_mode": {
    "name": "ipython",
    "version": 3
   },
   "file_extension": ".py",
   "mimetype": "text/x-python",
   "name": "python",
   "nbconvert_exporter": "python",
   "pygments_lexer": "ipython3",
   "version": "3.8.15"
  }
 },
 "nbformat": 4,
 "nbformat_minor": 5
}

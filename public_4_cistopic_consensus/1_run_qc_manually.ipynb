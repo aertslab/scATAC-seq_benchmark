{
 "cells": [
  {
   "cell_type": "markdown",
   "id": "8dff1e9b",
   "metadata": {
    "tags": [
     "papermill-error-cell-tag"
    ]
   },
   "source": [
    "<span style=\"color:red; font-family:Helvetica Neue, Helvetica, Arial, sans-serif; font-size:2em;\">An Exception was encountered at '<a href=\"#papermill-error-cell\">In [19]</a>'.</span>"
   ]
  },
  {
   "cell_type": "code",
   "execution_count": 1,
   "id": "2088ca0f",
   "metadata": {
    "execution": {
     "iopub.execute_input": "2022-11-16T18:03:24.448717Z",
     "iopub.status.busy": "2022-11-16T18:03:24.447967Z",
     "iopub.status.idle": "2022-11-16T18:03:27.902817Z",
     "shell.execute_reply": "2022-11-16T18:03:27.901267Z",
     "shell.execute_reply.started": "2022-11-16T18:03:05.740832Z"
    },
    "papermill": {
     "duration": 3.99987,
     "end_time": "2022-11-16T18:03:27.903231",
     "exception": false,
     "start_time": "2022-11-16T18:03:23.903361",
     "status": "completed"
    },
    "tags": []
   },
   "outputs": [],
   "source": [
    "import pycisTopic\n",
    "import glob\n",
    "import os\n",
    "import pybiomart as pbm\n",
    "import pandas as pd\n",
    "import pickle\n",
    "from pycisTopic.qc import *\n",
    "from IPython.display import Image, display\n",
    "import matplotlib.pyplot as plt\n",
    "import numpy as np\n",
    "import seaborn as sns\n",
    "\n",
    "import multiprocess as mp  # for kde multithreading calculation\n",
    "from multiprocess import Pool\n",
    "\n",
    "%matplotlib inline\n",
    "%load_ext lab_black"
   ]
  },
  {
   "cell_type": "markdown",
   "id": "76a36765",
   "metadata": {
    "papermill": {
     "duration": 0.023527,
     "end_time": "2022-11-16T18:03:29.163165",
     "exception": false,
     "start_time": "2022-11-16T18:03:29.139638",
     "status": "completed"
    },
    "tags": []
   },
   "source": [
    "# Download annotation"
   ]
  },
  {
   "cell_type": "code",
   "execution_count": 2,
   "id": "dc61470a",
   "metadata": {
    "execution": {
     "iopub.execute_input": "2022-11-16T18:03:29.213418Z",
     "iopub.status.busy": "2022-11-16T18:03:29.212933Z",
     "iopub.status.idle": "2022-11-16T18:03:29.403699Z",
     "shell.execute_reply": "2022-11-16T18:03:29.402542Z",
     "shell.execute_reply.started": "2022-11-16T18:03:06.041560Z"
    },
    "papermill": {
     "duration": 0.220755,
     "end_time": "2022-11-16T18:03:29.404004",
     "exception": false,
     "start_time": "2022-11-16T18:03:29.183249",
     "status": "completed"
    },
    "tags": []
   },
   "outputs": [
    {
     "name": "stdout",
     "output_type": "stream",
     "text": [
      "/lustre1/project/stg_00090/scatac_benchmark/public_4_cistopic_consensus\r\n"
     ]
    }
   ],
   "source": [
    "!pwd"
   ]
  },
  {
   "cell_type": "code",
   "execution_count": 3,
   "id": "cd88fa38",
   "metadata": {
    "execution": {
     "iopub.execute_input": "2022-11-16T18:03:29.455345Z",
     "iopub.status.busy": "2022-11-16T18:03:29.454944Z",
     "iopub.status.idle": "2022-11-16T18:03:29.457986Z",
     "shell.execute_reply": "2022-11-16T18:03:29.458305Z",
     "shell.execute_reply.started": "2022-11-16T18:03:06.221840Z"
    },
    "papermill": {
     "duration": 0.032218,
     "end_time": "2022-11-16T18:03:29.458424",
     "exception": false,
     "start_time": "2022-11-16T18:03:29.426206",
     "status": "completed"
    },
    "tags": []
   },
   "outputs": [],
   "source": [
    "wdir = \"/lustre1/project/stg_00090/scatac_benchmark/public_4_cistopic_consensus\"\n",
    "os.chdir(wdir)"
   ]
  },
  {
   "cell_type": "code",
   "execution_count": 4,
   "id": "e251252e",
   "metadata": {
    "execution": {
     "iopub.execute_input": "2022-11-16T18:03:29.632779Z",
     "iopub.status.busy": "2022-11-16T18:03:29.632262Z",
     "iopub.status.idle": "2022-11-16T18:03:29.718800Z",
     "shell.execute_reply": "2022-11-16T18:03:29.719456Z",
     "shell.execute_reply.started": "2022-11-16T18:03:06.382276Z"
    },
    "papermill": {
     "duration": 0.21348,
     "end_time": "2022-11-16T18:03:29.719682",
     "exception": false,
     "start_time": "2022-11-16T18:03:29.506202",
     "status": "completed"
    },
    "tags": []
   },
   "outputs": [
    {
     "name": "stdout",
     "output_type": "stream",
     "text": [
      "Loading cached genome annotation...\n"
     ]
    }
   ],
   "source": [
    "genome = \"mm10\"\n",
    "\n",
    "pbm_genome_name_dict = {\n",
    "    \"hg38\": \"hsapiens_gene_ensembl\",\n",
    "    \"hg37\": \"hsapiens_gene_ensembl\",\n",
    "    \"mm10\": \"mmusculus_gene_ensembl\",\n",
    "    \"dm6\": \"dmelanogaster_gene_ensembl\",\n",
    "}\n",
    "\n",
    "pbm_host_dict = {\n",
    "    \"hg38\": \"http://www.ensembl.org\",\n",
    "    \"hg37\": \"http://grch37.ensembl.org/\",\n",
    "    \"mm10\": \"http://nov2020.archive.ensembl.org/\",\n",
    "    \"dm6\": \"http://www.ensembl.org\",\n",
    "}\n",
    "\n",
    "if os.path.exists(f\"annotation.tsv\"):\n",
    "    print(f\"Loading cached genome annotation...\")\n",
    "    annotation = pd.read_csv(\"annotation.tsv\", sep=\"\\t\", header=0, index_col=0)\n",
    "else:\n",
    "    dataset = pbm.Dataset(name=pbm_genome_name_dict[genome], host=pbm_host_dict[genome])\n",
    "\n",
    "    annotation = dataset.query(\n",
    "        attributes=[\n",
    "            \"chromosome_name\",\n",
    "            \"transcription_start_site\",\n",
    "            \"strand\",\n",
    "            \"external_gene_name\",\n",
    "            \"transcript_biotype\",\n",
    "        ]\n",
    "    )\n",
    "    filter = annotation[\"Chromosome/scaffold name\"].str.contains(\"CHR|GL|JH|MT\")\n",
    "    annotation = annotation[~filter]\n",
    "    annotation[\"Chromosome/scaffold name\"] = annotation[\n",
    "        \"Chromosome/scaffold name\"\n",
    "    ].str.replace(r\"(\\b\\S)\", r\"chr\\1\")\n",
    "    annotation.columns = [\"Chromosome\", \"Start\", \"Strand\", \"Gene\", \"Transcript_type\"]\n",
    "    annotation = annotation[annotation.Transcript_type == \"protein_coding\"]\n",
    "    annotation.to_csv(\"annotation.tsv\", sep=\"\\t\")"
   ]
  },
  {
   "cell_type": "code",
   "execution_count": 5,
   "id": "cf6f2051",
   "metadata": {
    "execution": {
     "iopub.execute_input": "2022-11-16T18:03:29.774086Z",
     "iopub.status.busy": "2022-11-16T18:03:29.770829Z",
     "iopub.status.idle": "2022-11-16T18:03:29.779568Z",
     "shell.execute_reply": "2022-11-16T18:03:29.779124Z",
     "shell.execute_reply.started": "2022-11-16T18:03:06.483530Z"
    },
    "papermill": {
     "duration": 0.034591,
     "end_time": "2022-11-16T18:03:29.779672",
     "exception": false,
     "start_time": "2022-11-16T18:03:29.745081",
     "status": "completed"
    },
    "tags": []
   },
   "outputs": [
    {
     "data": {
      "text/plain": [
       "{'BIO_ddseq_m1c1.FULL.fragments.tsv.gz': '../1_data_repository/publicdata_full_fragments_vsn/BIO_ddseq_m1c1.FULL.fragments.tsv.gz',\n",
       " 'BIO_ddseq_m1c2.FULL.fragments.tsv.gz': '../1_data_repository/publicdata_full_fragments_vsn/BIO_ddseq_m1c2.FULL.fragments.tsv.gz',\n",
       " 'BIO_ddseq_m1c3.FULL.fragments.tsv.gz': '../1_data_repository/publicdata_full_fragments_vsn/BIO_ddseq_m1c3.FULL.fragments.tsv.gz',\n",
       " 'BIO_ddseq_m1c4.FULL.fragments.tsv.gz': '../1_data_repository/publicdata_full_fragments_vsn/BIO_ddseq_m1c4.FULL.fragments.tsv.gz',\n",
       " 'BIO_ddseq_m1c5.FULL.fragments.tsv.gz': '../1_data_repository/publicdata_full_fragments_vsn/BIO_ddseq_m1c5.FULL.fragments.tsv.gz',\n",
       " 'BIO_ddseq_m1c6.FULL.fragments.tsv.gz': '../1_data_repository/publicdata_full_fragments_vsn/BIO_ddseq_m1c6.FULL.fragments.tsv.gz',\n",
       " 'BIO_ddseq_m1c7.FULL.fragments.tsv.gz': '../1_data_repository/publicdata_full_fragments_vsn/BIO_ddseq_m1c7.FULL.fragments.tsv.gz',\n",
       " 'BIO_ddseq_m1c8.FULL.fragments.tsv.gz': '../1_data_repository/publicdata_full_fragments_vsn/BIO_ddseq_m1c8.FULL.fragments.tsv.gz',\n",
       " 'BIO_ddseq_m2c1.FULL.fragments.tsv.gz': '../1_data_repository/publicdata_full_fragments_vsn/BIO_ddseq_m2c1.FULL.fragments.tsv.gz',\n",
       " 'BIO_ddseq_m2c2.FULL.fragments.tsv.gz': '../1_data_repository/publicdata_full_fragments_vsn/BIO_ddseq_m2c2.FULL.fragments.tsv.gz',\n",
       " 'BIO_ddseq_m2c3.FULL.fragments.tsv.gz': '../1_data_repository/publicdata_full_fragments_vsn/BIO_ddseq_m2c3.FULL.fragments.tsv.gz',\n",
       " 'BIO_ddseq_m2c4.FULL.fragments.tsv.gz': '../1_data_repository/publicdata_full_fragments_vsn/BIO_ddseq_m2c4.FULL.fragments.tsv.gz',\n",
       " 'OHS_s3atac_mouse.FULL.fragments.tsv.gz': '../1_data_repository/publicdata_full_fragments_vsn/OHS_s3atac_mouse.FULL.fragments.tsv.gz',\n",
       " 'TXG_10xmultiome_e18mousebrainfresh.FULL.fragments.tsv.gz': '../1_data_repository/publicdata_full_fragments_vsn/TXG_10xmultiome_e18mousebrainfresh.FULL.fragments.tsv.gz',\n",
       " 'TXG_10xv11_adultmousecortexchromiumx.FULL.fragments.tsv.gz': '../1_data_repository/publicdata_full_fragments_vsn/TXG_10xv11_adultmousecortexchromiumx.FULL.fragments.tsv.gz',\n",
       " 'TXG_10xv1_adultmousefresh.FULL.fragments.tsv.gz': '../1_data_repository/publicdata_full_fragments_vsn/TXG_10xv1_adultmousefresh.FULL.fragments.tsv.gz',\n",
       " 'TXG_10xv2_adultmousecortex.FULL.fragments.tsv.gz': '../1_data_repository/publicdata_full_fragments_vsn/TXG_10xv2_adultmousecortex.FULL.fragments.tsv.gz',\n",
       " 'TXG_10xv2_adultmousecortexchromiumx.FULL.fragments.tsv.gz': '../1_data_repository/publicdata_full_fragments_vsn/TXG_10xv2_adultmousecortexchromiumx.FULL.fragments.tsv.gz',\n",
       " 'VIB_hydrop_1.FULL.fragments.tsv.gz': '../1_data_repository/publicdata_full_fragments_vsn/VIB_hydrop_1.FULL.fragments.tsv.gz',\n",
       " 'VIB_hydrop_2.FULL.fragments.tsv.gz': '../1_data_repository/publicdata_full_fragments_vsn/VIB_hydrop_2.FULL.fragments.tsv.gz',\n",
       " 'VIB_hydrop_3.FULL.fragments.tsv.gz': '../1_data_repository/publicdata_full_fragments_vsn/VIB_hydrop_3.FULL.fragments.tsv.gz',\n",
       " 'VIB_hydrop_4.FULL.fragments.tsv.gz': '../1_data_repository/publicdata_full_fragments_vsn/VIB_hydrop_4.FULL.fragments.tsv.gz',\n",
       " 'VIB_hydrop_5.FULL.fragments.tsv.gz': '../1_data_repository/publicdata_full_fragments_vsn/VIB_hydrop_5.FULL.fragments.tsv.gz'}"
      ]
     },
     "execution_count": 5,
     "metadata": {},
     "output_type": "execute_result"
    }
   ],
   "source": [
    "fragments_list = sorted(\n",
    "    glob.glob(\"../1_data_repository/publicdata_full_fragments_vsn/*.tsv.gz\")\n",
    ")\n",
    "fragments_dict = {}\n",
    "for fragments_file in fragments_list:\n",
    "    sample = fragments_file.split(\"/\")[-1].split(\"_fragments.tsv.gz\")[0]\n",
    "    fragments_dict[sample] = fragments_file\n",
    "fragments_dict"
   ]
  },
  {
   "cell_type": "markdown",
   "id": "4c88be99",
   "metadata": {
    "papermill": {
     "duration": 0.087052,
     "end_time": "2022-11-16T18:03:29.887299",
     "exception": false,
     "start_time": "2022-11-16T18:03:29.800247",
     "status": "completed"
    },
    "tags": []
   },
   "source": [
    "The regions we will count in. Here, I count everything in the human ENCODE SCREEN regions. You can also add a sample-specific region set, e.g. sample-specific peaks called on the sample's bams."
   ]
  },
  {
   "cell_type": "markdown",
   "id": "3bf4d868",
   "metadata": {
    "papermill": {
     "duration": 0.020121,
     "end_time": "2022-11-16T18:03:29.931740",
     "exception": false,
     "start_time": "2022-11-16T18:03:29.911619",
     "status": "completed"
    },
    "tags": []
   },
   "source": [
    "Now, make a sub dictionary of all samples within the fragments dict that have not been run yet (good for resuming a stopped cistopic run):"
   ]
  },
  {
   "cell_type": "code",
   "execution_count": 6,
   "id": "3fcaf6dc",
   "metadata": {
    "execution": {
     "iopub.execute_input": "2022-11-16T18:03:29.984915Z",
     "iopub.status.busy": "2022-11-16T18:03:29.984509Z",
     "iopub.status.idle": "2022-11-16T18:03:29.987870Z",
     "shell.execute_reply": "2022-11-16T18:03:29.987470Z",
     "shell.execute_reply.started": "2022-11-16T18:03:09.311834Z"
    },
    "papermill": {
     "duration": 0.035885,
     "end_time": "2022-11-16T18:03:29.987968",
     "exception": false,
     "start_time": "2022-11-16T18:03:29.952083",
     "status": "completed"
    },
    "tags": []
   },
   "outputs": [],
   "source": [
    "cistopic_qc_out = os.path.join(wdir, \"cistopic_qc_out\")\n",
    "if not os.path.exists(cistopic_qc_out):\n",
    "    os.makedirs(cistopic_qc_out)"
   ]
  },
  {
   "cell_type": "code",
   "execution_count": 7,
   "id": "f0630d68",
   "metadata": {
    "execution": {
     "iopub.execute_input": "2022-11-16T18:03:30.042838Z",
     "iopub.status.busy": "2022-11-16T18:03:30.042444Z",
     "iopub.status.idle": "2022-11-16T18:03:30.045483Z",
     "shell.execute_reply": "2022-11-16T18:03:30.045787Z",
     "shell.execute_reply.started": "2022-11-16T18:03:09.434059Z"
    },
    "papermill": {
     "duration": 0.037209,
     "end_time": "2022-11-16T18:03:30.045898",
     "exception": false,
     "start_time": "2022-11-16T18:03:30.008689",
     "status": "completed"
    },
    "tags": []
   },
   "outputs": [],
   "source": [
    "region = \"../0_resources/regions/V2.mm10-rDHS-Unfiltered.blacklisted.bed\""
   ]
  },
  {
   "cell_type": "code",
   "execution_count": 8,
   "id": "e453fe8c",
   "metadata": {
    "execution": {
     "iopub.execute_input": "2022-11-16T18:03:30.091791Z",
     "iopub.status.busy": "2022-11-16T18:03:30.091291Z",
     "iopub.status.idle": "2022-11-16T18:03:30.098058Z",
     "shell.execute_reply": "2022-11-16T18:03:30.098368Z",
     "shell.execute_reply.started": "2022-11-16T18:03:09.651248Z"
    },
    "papermill": {
     "duration": 0.032141,
     "end_time": "2022-11-16T18:03:30.098470",
     "exception": false,
     "start_time": "2022-11-16T18:03:30.066329",
     "status": "completed"
    },
    "tags": []
   },
   "outputs": [
    {
     "name": "stdout",
     "output_type": "stream",
     "text": [
      "Checking if /lustre1/project/stg_00090/scatac_benchmark/public_4_cistopic_consensus/cistopic_qc_out/BIO_ddseq_m1c1.FULL.fragments.tsv.gz__metadata_bc.pkl exist...\n",
      "\tMetadata does not exist, adding to subdict to generate\n",
      "Checking if /lustre1/project/stg_00090/scatac_benchmark/public_4_cistopic_consensus/cistopic_qc_out/BIO_ddseq_m1c2.FULL.fragments.tsv.gz__metadata_bc.pkl exist...\n",
      "\tMetadata does not exist, adding to subdict to generate\n",
      "Checking if /lustre1/project/stg_00090/scatac_benchmark/public_4_cistopic_consensus/cistopic_qc_out/BIO_ddseq_m1c3.FULL.fragments.tsv.gz__metadata_bc.pkl exist...\n",
      "\tMetadata does not exist, adding to subdict to generate\n",
      "Checking if /lustre1/project/stg_00090/scatac_benchmark/public_4_cistopic_consensus/cistopic_qc_out/BIO_ddseq_m1c4.FULL.fragments.tsv.gz__metadata_bc.pkl exist...\n",
      "\tMetadata does not exist, adding to subdict to generate\n",
      "Checking if /lustre1/project/stg_00090/scatac_benchmark/public_4_cistopic_consensus/cistopic_qc_out/BIO_ddseq_m1c5.FULL.fragments.tsv.gz__metadata_bc.pkl exist...\n",
      "\tMetadata does not exist, adding to subdict to generate\n",
      "Checking if /lustre1/project/stg_00090/scatac_benchmark/public_4_cistopic_consensus/cistopic_qc_out/BIO_ddseq_m1c6.FULL.fragments.tsv.gz__metadata_bc.pkl exist...\n",
      "\tMetadata does not exist, adding to subdict to generate\n",
      "Checking if /lustre1/project/stg_00090/scatac_benchmark/public_4_cistopic_consensus/cistopic_qc_out/BIO_ddseq_m1c7.FULL.fragments.tsv.gz__metadata_bc.pkl exist...\n",
      "\tMetadata does not exist, adding to subdict to generate\n",
      "Checking if /lustre1/project/stg_00090/scatac_benchmark/public_4_cistopic_consensus/cistopic_qc_out/BIO_ddseq_m1c8.FULL.fragments.tsv.gz__metadata_bc.pkl exist...\n",
      "\tMetadata does not exist, adding to subdict to generate\n",
      "Checking if /lustre1/project/stg_00090/scatac_benchmark/public_4_cistopic_consensus/cistopic_qc_out/BIO_ddseq_m2c1.FULL.fragments.tsv.gz__metadata_bc.pkl exist...\n",
      "\tMetadata does not exist, adding to subdict to generate\n",
      "Checking if /lustre1/project/stg_00090/scatac_benchmark/public_4_cistopic_consensus/cistopic_qc_out/BIO_ddseq_m2c2.FULL.fragments.tsv.gz__metadata_bc.pkl exist...\n",
      "\tMetadata does not exist, adding to subdict to generate\n",
      "Checking if /lustre1/project/stg_00090/scatac_benchmark/public_4_cistopic_consensus/cistopic_qc_out/BIO_ddseq_m2c3.FULL.fragments.tsv.gz__metadata_bc.pkl exist...\n",
      "\tMetadata does not exist, adding to subdict to generate\n",
      "Checking if /lustre1/project/stg_00090/scatac_benchmark/public_4_cistopic_consensus/cistopic_qc_out/BIO_ddseq_m2c4.FULL.fragments.tsv.gz__metadata_bc.pkl exist...\n",
      "\tMetadata does not exist, adding to subdict to generate\n",
      "Checking if /lustre1/project/stg_00090/scatac_benchmark/public_4_cistopic_consensus/cistopic_qc_out/OHS_s3atac_mouse.FULL.fragments.tsv.gz__metadata_bc.pkl exist...\n",
      "\tMetadata does not exist, adding to subdict to generate\n",
      "Checking if /lustre1/project/stg_00090/scatac_benchmark/public_4_cistopic_consensus/cistopic_qc_out/TXG_10xmultiome_e18mousebrainfresh.FULL.fragments.tsv.gz__metadata_bc.pkl exist...\n",
      "\tMetadata does not exist, adding to subdict to generate\n",
      "Checking if /lustre1/project/stg_00090/scatac_benchmark/public_4_cistopic_consensus/cistopic_qc_out/TXG_10xv11_adultmousecortexchromiumx.FULL.fragments.tsv.gz__metadata_bc.pkl exist...\n",
      "\tMetadata does not exist, adding to subdict to generate\n",
      "Checking if /lustre1/project/stg_00090/scatac_benchmark/public_4_cistopic_consensus/cistopic_qc_out/TXG_10xv1_adultmousefresh.FULL.fragments.tsv.gz__metadata_bc.pkl exist...\n",
      "\tMetadata does not exist, adding to subdict to generate\n",
      "Checking if /lustre1/project/stg_00090/scatac_benchmark/public_4_cistopic_consensus/cistopic_qc_out/TXG_10xv2_adultmousecortex.FULL.fragments.tsv.gz__metadata_bc.pkl exist...\n",
      "\tMetadata does not exist, adding to subdict to generate\n",
      "Checking if /lustre1/project/stg_00090/scatac_benchmark/public_4_cistopic_consensus/cistopic_qc_out/TXG_10xv2_adultmousecortexchromiumx.FULL.fragments.tsv.gz__metadata_bc.pkl exist...\n",
      "\tMetadata does not exist, adding to subdict to generate\n",
      "Checking if /lustre1/project/stg_00090/scatac_benchmark/public_4_cistopic_consensus/cistopic_qc_out/VIB_hydrop_1.FULL.fragments.tsv.gz__metadata_bc.pkl exist...\n",
      "\tMetadata does not exist, adding to subdict to generate\n",
      "Checking if /lustre1/project/stg_00090/scatac_benchmark/public_4_cistopic_consensus/cistopic_qc_out/VIB_hydrop_2.FULL.fragments.tsv.gz__metadata_bc.pkl exist...\n",
      "\tMetadata does not exist, adding to subdict to generate\n",
      "Checking if /lustre1/project/stg_00090/scatac_benchmark/public_4_cistopic_consensus/cistopic_qc_out/VIB_hydrop_3.FULL.fragments.tsv.gz__metadata_bc.pkl exist...\n",
      "\tMetadata does not exist, adding to subdict to generate\n",
      "Checking if /lustre1/project/stg_00090/scatac_benchmark/public_4_cistopic_consensus/cistopic_qc_out/VIB_hydrop_4.FULL.fragments.tsv.gz__metadata_bc.pkl exist...\n",
      "\tMetadata does not exist, adding to subdict to generate\n",
      "Checking if /lustre1/project/stg_00090/scatac_benchmark/public_4_cistopic_consensus/cistopic_qc_out/VIB_hydrop_5.FULL.fragments.tsv.gz__metadata_bc.pkl exist...\n",
      "\tMetadata does not exist, adding to subdict to generate\n"
     ]
    }
   ],
   "source": [
    "fragments_sub_dict = {}\n",
    "regions_sub_dict = {}\n",
    "for sample in fragments_dict:\n",
    "    metadata_file = os.path.join(cistopic_qc_out, sample + \"__metadata_bc.pkl\")\n",
    "    print(f\"Checking if {metadata_file} exist...\")\n",
    "    if os.path.exists(metadata_file):\n",
    "        print(\"\\tMetadata exists! Skipping...\")\n",
    "    else:\n",
    "        fragments_sub_dict[sample] = fragments_dict[sample]\n",
    "        print(\"\\tMetadata does not exist, adding to subdict to generate\")"
   ]
  },
  {
   "cell_type": "code",
   "execution_count": 9,
   "id": "75070218",
   "metadata": {
    "execution": {
     "iopub.execute_input": "2022-11-16T18:03:30.268383Z",
     "iopub.status.busy": "2022-11-16T18:03:30.267769Z",
     "iopub.status.idle": "2022-11-16T18:03:30.271166Z",
     "shell.execute_reply": "2022-11-16T18:03:30.270553Z",
     "shell.execute_reply.started": "2022-11-16T18:03:10.517271Z"
    },
    "papermill": {
     "duration": 0.074348,
     "end_time": "2022-11-16T18:03:30.271311",
     "exception": false,
     "start_time": "2022-11-16T18:03:30.196963",
     "status": "completed"
    },
    "tags": []
   },
   "outputs": [],
   "source": [
    "regions_sub_dict = {x: region for x in sorted(fragments_sub_dict.keys())}"
   ]
  },
  {
   "cell_type": "code",
   "execution_count": 10,
   "id": "21528fe7",
   "metadata": {
    "execution": {
     "iopub.execute_input": "2022-11-16T18:03:30.318219Z",
     "iopub.status.busy": "2022-11-16T18:03:30.317840Z",
     "iopub.status.idle": "2022-11-16T18:03:30.336397Z",
     "shell.execute_reply": "2022-11-16T18:03:30.335986Z",
     "shell.execute_reply.started": "2022-11-16T18:03:10.732170Z"
    },
    "papermill": {
     "duration": 0.042806,
     "end_time": "2022-11-16T18:03:30.336486",
     "exception": false,
     "start_time": "2022-11-16T18:03:30.293680",
     "status": "completed"
    },
    "tags": []
   },
   "outputs": [
    {
     "data": {
      "text/plain": [
       "{'BIO_ddseq_m1c1': '../public_3_cistopic_qc/final_consensus_peaks/BIO_ddseq_m1c1.FULL__SCREEN_consensus_peaks.bed',\n",
       " 'BIO_ddseq_m1c2': '../public_3_cistopic_qc/final_consensus_peaks/BIO_ddseq_m1c2.FULL__SCREEN_consensus_peaks.bed',\n",
       " 'BIO_ddseq_m1c3': '../public_3_cistopic_qc/final_consensus_peaks/BIO_ddseq_m1c3.FULL__SCREEN_consensus_peaks.bed',\n",
       " 'BIO_ddseq_m1c4': '../public_3_cistopic_qc/final_consensus_peaks/BIO_ddseq_m1c4.FULL__SCREEN_consensus_peaks.bed',\n",
       " 'BIO_ddseq_m1c5': '../public_3_cistopic_qc/final_consensus_peaks/BIO_ddseq_m1c5.FULL__SCREEN_consensus_peaks.bed',\n",
       " 'BIO_ddseq_m1c6': '../public_3_cistopic_qc/final_consensus_peaks/BIO_ddseq_m1c6.FULL__SCREEN_consensus_peaks.bed',\n",
       " 'BIO_ddseq_m1c7': '../public_3_cistopic_qc/final_consensus_peaks/BIO_ddseq_m1c7.FULL__SCREEN_consensus_peaks.bed',\n",
       " 'BIO_ddseq_m1c8': '../public_3_cistopic_qc/final_consensus_peaks/BIO_ddseq_m1c8.FULL__SCREEN_consensus_peaks.bed',\n",
       " 'BIO_ddseq_m2c1': '../public_3_cistopic_qc/final_consensus_peaks/BIO_ddseq_m2c1.FULL__SCREEN_consensus_peaks.bed',\n",
       " 'BIO_ddseq_m2c2': '../public_3_cistopic_qc/final_consensus_peaks/BIO_ddseq_m2c2.FULL__SCREEN_consensus_peaks.bed',\n",
       " 'BIO_ddseq_m2c3': '../public_3_cistopic_qc/final_consensus_peaks/BIO_ddseq_m2c3.FULL__SCREEN_consensus_peaks.bed',\n",
       " 'BIO_ddseq_m2c4': '../public_3_cistopic_qc/final_consensus_peaks/BIO_ddseq_m2c4.FULL__SCREEN_consensus_peaks.bed',\n",
       " 'OHS_s3atac_mouse': '../public_3_cistopic_qc/final_consensus_peaks/OHS_s3atac_mouse.FULL__SCREEN_consensus_peaks.bed',\n",
       " 'TXG_10xmultiome_e18mousebrainfresh': '../public_3_cistopic_qc/final_consensus_peaks/TXG_10xmultiome_e18mousebrainfresh.FULL__SCREEN_consensus_peaks.bed',\n",
       " 'TXG_10xv11_adultmousecortexchromiumx': '../public_3_cistopic_qc/final_consensus_peaks/TXG_10xv11_adultmousecortexchromiumx.FULL__SCREEN_consensus_peaks.bed',\n",
       " 'TXG_10xv1_adultmousefresh': '../public_3_cistopic_qc/final_consensus_peaks/TXG_10xv1_adultmousefresh.FULL__SCREEN_consensus_peaks.bed',\n",
       " 'TXG_10xv2_adultmousecortex': '../public_3_cistopic_qc/final_consensus_peaks/TXG_10xv2_adultmousecortex.FULL__SCREEN_consensus_peaks.bed',\n",
       " 'TXG_10xv2_adultmousecortexchromiumx': '../public_3_cistopic_qc/final_consensus_peaks/TXG_10xv2_adultmousecortexchromiumx.FULL__SCREEN_consensus_peaks.bed',\n",
       " 'VIB_hydrop_1': '../public_3_cistopic_qc/final_consensus_peaks/VIB_hydrop_1.FULL__SCREEN_consensus_peaks.bed',\n",
       " 'VIB_hydrop_2': '../public_3_cistopic_qc/final_consensus_peaks/VIB_hydrop_2.FULL__SCREEN_consensus_peaks.bed',\n",
       " 'VIB_hydrop_3': '../public_3_cistopic_qc/final_consensus_peaks/VIB_hydrop_3.FULL__SCREEN_consensus_peaks.bed',\n",
       " 'VIB_hydrop_4': '../public_3_cistopic_qc/final_consensus_peaks/VIB_hydrop_4.FULL__SCREEN_consensus_peaks.bed',\n",
       " 'VIB_hydrop_5': '../public_3_cistopic_qc/final_consensus_peaks/VIB_hydrop_5.FULL__SCREEN_consensus_peaks.bed'}"
      ]
     },
     "execution_count": 10,
     "metadata": {},
     "output_type": "execute_result"
    }
   ],
   "source": [
    "regions_paths_dict = {\n",
    "    x.split(\"/\")[-1].split(f\"__\")[0].replace(\".FULL\", \"\"): x\n",
    "    for x in sorted(glob.glob(\"../public_3_cistopic_qc/final_consensus_peaks/*.bed\"))\n",
    "}\n",
    "regions_paths_dict"
   ]
  },
  {
   "cell_type": "code",
   "execution_count": 11,
   "id": "41724043",
   "metadata": {
    "execution": {
     "iopub.execute_input": "2022-11-16T18:03:30.383827Z",
     "iopub.status.busy": "2022-11-16T18:03:30.383439Z",
     "iopub.status.idle": "2022-11-16T18:03:30.388843Z",
     "shell.execute_reply": "2022-11-16T18:03:30.388519Z",
     "shell.execute_reply.started": "2022-11-16T18:03:12.169917Z"
    },
    "papermill": {
     "duration": 0.031698,
     "end_time": "2022-11-16T18:03:30.388932",
     "exception": false,
     "start_time": "2022-11-16T18:03:30.357234",
     "status": "completed"
    },
    "tags": []
   },
   "outputs": [
    {
     "data": {
      "text/plain": [
       "{'BIO_ddseq_m1c1.FULL.fragments.tsv.gz': '../public_3_cistopic_qc/final_consensus_peaks/BIO_ddseq_m1c1.FULL__SCREEN_consensus_peaks.bed',\n",
       " 'BIO_ddseq_m1c2.FULL.fragments.tsv.gz': '../public_3_cistopic_qc/final_consensus_peaks/BIO_ddseq_m1c2.FULL__SCREEN_consensus_peaks.bed',\n",
       " 'BIO_ddseq_m1c3.FULL.fragments.tsv.gz': '../public_3_cistopic_qc/final_consensus_peaks/BIO_ddseq_m1c3.FULL__SCREEN_consensus_peaks.bed',\n",
       " 'BIO_ddseq_m1c4.FULL.fragments.tsv.gz': '../public_3_cistopic_qc/final_consensus_peaks/BIO_ddseq_m1c4.FULL__SCREEN_consensus_peaks.bed',\n",
       " 'BIO_ddseq_m1c5.FULL.fragments.tsv.gz': '../public_3_cistopic_qc/final_consensus_peaks/BIO_ddseq_m1c5.FULL__SCREEN_consensus_peaks.bed',\n",
       " 'BIO_ddseq_m1c6.FULL.fragments.tsv.gz': '../public_3_cistopic_qc/final_consensus_peaks/BIO_ddseq_m1c6.FULL__SCREEN_consensus_peaks.bed',\n",
       " 'BIO_ddseq_m1c7.FULL.fragments.tsv.gz': '../public_3_cistopic_qc/final_consensus_peaks/BIO_ddseq_m1c7.FULL__SCREEN_consensus_peaks.bed',\n",
       " 'BIO_ddseq_m1c8.FULL.fragments.tsv.gz': '../public_3_cistopic_qc/final_consensus_peaks/BIO_ddseq_m1c8.FULL__SCREEN_consensus_peaks.bed',\n",
       " 'BIO_ddseq_m2c1.FULL.fragments.tsv.gz': '../public_3_cistopic_qc/final_consensus_peaks/BIO_ddseq_m2c1.FULL__SCREEN_consensus_peaks.bed',\n",
       " 'BIO_ddseq_m2c2.FULL.fragments.tsv.gz': '../public_3_cistopic_qc/final_consensus_peaks/BIO_ddseq_m2c2.FULL__SCREEN_consensus_peaks.bed',\n",
       " 'BIO_ddseq_m2c3.FULL.fragments.tsv.gz': '../public_3_cistopic_qc/final_consensus_peaks/BIO_ddseq_m2c3.FULL__SCREEN_consensus_peaks.bed',\n",
       " 'BIO_ddseq_m2c4.FULL.fragments.tsv.gz': '../public_3_cistopic_qc/final_consensus_peaks/BIO_ddseq_m2c4.FULL__SCREEN_consensus_peaks.bed',\n",
       " 'OHS_s3atac_mouse.FULL.fragments.tsv.gz': '../public_3_cistopic_qc/final_consensus_peaks/OHS_s3atac_mouse.FULL__SCREEN_consensus_peaks.bed',\n",
       " 'TXG_10xmultiome_e18mousebrainfresh.FULL.fragments.tsv.gz': '../public_3_cistopic_qc/final_consensus_peaks/TXG_10xmultiome_e18mousebrainfresh.FULL__SCREEN_consensus_peaks.bed',\n",
       " 'TXG_10xv11_adultmousecortexchromiumx.FULL.fragments.tsv.gz': '../public_3_cistopic_qc/final_consensus_peaks/TXG_10xv11_adultmousecortexchromiumx.FULL__SCREEN_consensus_peaks.bed',\n",
       " 'TXG_10xv1_adultmousefresh.FULL.fragments.tsv.gz': '../public_3_cistopic_qc/final_consensus_peaks/TXG_10xv1_adultmousefresh.FULL__SCREEN_consensus_peaks.bed',\n",
       " 'TXG_10xv2_adultmousecortex.FULL.fragments.tsv.gz': '../public_3_cistopic_qc/final_consensus_peaks/TXG_10xv2_adultmousecortex.FULL__SCREEN_consensus_peaks.bed',\n",
       " 'TXG_10xv2_adultmousecortexchromiumx.FULL.fragments.tsv.gz': '../public_3_cistopic_qc/final_consensus_peaks/TXG_10xv2_adultmousecortexchromiumx.FULL__SCREEN_consensus_peaks.bed',\n",
       " 'VIB_hydrop_1.FULL.fragments.tsv.gz': '../public_3_cistopic_qc/final_consensus_peaks/VIB_hydrop_1.FULL__SCREEN_consensus_peaks.bed',\n",
       " 'VIB_hydrop_2.FULL.fragments.tsv.gz': '../public_3_cistopic_qc/final_consensus_peaks/VIB_hydrop_2.FULL__SCREEN_consensus_peaks.bed',\n",
       " 'VIB_hydrop_3.FULL.fragments.tsv.gz': '../public_3_cistopic_qc/final_consensus_peaks/VIB_hydrop_3.FULL__SCREEN_consensus_peaks.bed',\n",
       " 'VIB_hydrop_4.FULL.fragments.tsv.gz': '../public_3_cistopic_qc/final_consensus_peaks/VIB_hydrop_4.FULL__SCREEN_consensus_peaks.bed',\n",
       " 'VIB_hydrop_5.FULL.fragments.tsv.gz': '../public_3_cistopic_qc/final_consensus_peaks/VIB_hydrop_5.FULL__SCREEN_consensus_peaks.bed'}"
      ]
     },
     "execution_count": 11,
     "metadata": {},
     "output_type": "execute_result"
    }
   ],
   "source": [
    "regions_sub_dict = {x: regions_paths_dict[x.split(\".\")[0]] for x in fragments_dict}\n",
    "regions_sub_dict"
   ]
  },
  {
   "cell_type": "code",
   "execution_count": 12,
   "id": "36514755",
   "metadata": {
    "execution": {
     "iopub.execute_input": "2022-11-16T18:03:30.438742Z",
     "iopub.status.busy": "2022-11-16T18:03:30.438333Z",
     "iopub.status.idle": "2022-11-16T18:03:30.440937Z",
     "shell.execute_reply": "2022-11-16T18:03:30.440538Z",
     "shell.execute_reply.started": "2022-11-16T17:55:29.080614Z"
    },
    "papermill": {
     "duration": 0.03059,
     "end_time": "2022-11-16T18:03:30.441033",
     "exception": false,
     "start_time": "2022-11-16T18:03:30.410443",
     "status": "completed"
    },
    "tags": []
   },
   "outputs": [],
   "source": [
    "ray.shutdown()"
   ]
  },
  {
   "cell_type": "code",
   "execution_count": 13,
   "id": "845819bb",
   "metadata": {
    "execution": {
     "iopub.execute_input": "2022-11-16T18:03:30.500587Z",
     "iopub.status.busy": "2022-11-16T18:03:30.500122Z",
     "iopub.status.idle": "2022-11-16T20:00:08.419403Z",
     "shell.execute_reply": "2022-11-16T20:00:08.418563Z",
     "shell.execute_reply.started": "2022-11-16T17:57:15.034454Z"
    },
    "papermill": {
     "duration": 6997.957918,
     "end_time": "2022-11-16T20:00:08.419878",
     "exception": false,
     "start_time": "2022-11-16T18:03:30.461960",
     "status": "completed"
    },
    "tags": []
   },
   "outputs": [
    {
     "name": "stderr",
     "output_type": "stream",
     "text": [
      "2022-11-16 19:03:38,194\tINFO worker.py:1509 -- Started a local Ray instance. View the dashboard at \u001b[1m\u001b[32mhttp://127.0.0.1:8265 \u001b[39m\u001b[22m\n"
     ]
    },
    {
     "name": "stdout",
     "output_type": "stream",
     "text": [
      "\u001b[2m\u001b[36m(compute_qc_stats_ray pid=31333)\u001b[0m 2022-11-16 19:03:41,557 cisTopic     INFO     Reading BIO_ddseq_m1c1.FULL.fragments.tsv.gz\n",
      "\u001b[2m\u001b[36m(compute_qc_stats_ray pid=31332)\u001b[0m 2022-11-16 19:03:41,562 cisTopic     INFO     Reading BIO_ddseq_m1c3.FULL.fragments.tsv.gz\n",
      "\u001b[2m\u001b[36m(compute_qc_stats_ray pid=31330)\u001b[0m 2022-11-16 19:03:41,583 cisTopic     INFO     Reading BIO_ddseq_m1c2.FULL.fragments.tsv.gz\n",
      "\u001b[2m\u001b[36m(compute_qc_stats_ray pid=31329)\u001b[0m 2022-11-16 19:03:41,620 cisTopic     INFO     Reading BIO_ddseq_m1c4.FULL.fragments.tsv.gz\n",
      "\u001b[2m\u001b[36m(compute_qc_stats_ray pid=31331)\u001b[0m 2022-11-16 19:03:41,622 cisTopic     INFO     Reading BIO_ddseq_m1c5.FULL.fragments.tsv.gz\n"
     ]
    },
    {
     "name": "stdout",
     "output_type": "stream",
     "text": [
      "\u001b[2m\u001b[36m(compute_qc_stats_ray pid=31333)\u001b[0m 2022-11-16 19:06:08,429 cisTopic     INFO     Computing barcode rank plot for BIO_ddseq_m1c1.FULL.fragments.tsv.gz\n",
      "\u001b[2m\u001b[36m(compute_qc_stats_ray pid=31333)\u001b[0m 2022-11-16 19:06:08,429 cisTopic     INFO     Counting fragments\n"
     ]
    },
    {
     "name": "stdout",
     "output_type": "stream",
     "text": [
      "\u001b[2m\u001b[36m(compute_qc_stats_ray pid=31333)\u001b[0m 2022-11-16 19:06:25,202 cisTopic     INFO     Marking barcodes with more than 10\n"
     ]
    },
    {
     "name": "stdout",
     "output_type": "stream",
     "text": [
      "\u001b[2m\u001b[36m(compute_qc_stats_ray pid=31333)\u001b[0m 2022-11-16 19:06:25,466 cisTopic     INFO     Returning plot data\n",
      "\u001b[2m\u001b[36m(compute_qc_stats_ray pid=31333)\u001b[0m 2022-11-16 19:06:25,519 cisTopic     INFO     Returning valid barcodes\n"
     ]
    },
    {
     "name": "stdout",
     "output_type": "stream",
     "text": [
      "\u001b[2m\u001b[36m(compute_qc_stats_ray pid=31333)\u001b[0m 2022-11-16 19:06:30,282 cisTopic     INFO     Computing duplicate rate plot for BIO_ddseq_m1c1.FULL.fragments.tsv.gz\n"
     ]
    },
    {
     "name": "stdout",
     "output_type": "stream",
     "text": [
      "\u001b[2m\u001b[36m(compute_qc_stats_ray pid=31332)\u001b[0m 2022-11-16 19:06:37,076 cisTopic     INFO     Computing barcode rank plot for BIO_ddseq_m1c3.FULL.fragments.tsv.gz\n",
      "\u001b[2m\u001b[36m(compute_qc_stats_ray pid=31332)\u001b[0m 2022-11-16 19:06:37,077 cisTopic     INFO     Counting fragments\n"
     ]
    },
    {
     "name": "stdout",
     "output_type": "stream",
     "text": [
      "\u001b[2m\u001b[36m(compute_qc_stats_ray pid=31329)\u001b[0m 2022-11-16 19:06:48,239 cisTopic     INFO     Computing barcode rank plot for BIO_ddseq_m1c4.FULL.fragments.tsv.gz\n",
      "\u001b[2m\u001b[36m(compute_qc_stats_ray pid=31329)\u001b[0m 2022-11-16 19:06:48,239 cisTopic     INFO     Counting fragments\n"
     ]
    },
    {
     "name": "stdout",
     "output_type": "stream",
     "text": [
      "\u001b[2m\u001b[36m(compute_qc_stats_ray pid=31333)\u001b[0m 2022-11-16 19:06:51,679 cisTopic     INFO     Return plot data\n"
     ]
    },
    {
     "name": "stdout",
     "output_type": "stream",
     "text": [
      "\u001b[2m\u001b[36m(compute_qc_stats_ray pid=31333)\u001b[0m 2022-11-16 19:06:51,873 cisTopic     INFO     Computing insert size distribution for BIO_ddseq_m1c1.FULL.fragments.tsv.gz\n",
      "\u001b[2m\u001b[36m(compute_qc_stats_ray pid=31333)\u001b[0m 2022-11-16 19:06:51,874 cisTopic     INFO     Counting fragments\n"
     ]
    },
    {
     "name": "stdout",
     "output_type": "stream",
     "text": [
      "\u001b[2m\u001b[36m(compute_qc_stats_ray pid=31332)\u001b[0m 2022-11-16 19:06:52,845 cisTopic     INFO     Marking barcodes with more than 10\n"
     ]
    },
    {
     "name": "stdout",
     "output_type": "stream",
     "text": [
      "\u001b[2m\u001b[36m(compute_qc_stats_ray pid=31332)\u001b[0m 2022-11-16 19:06:53,130 cisTopic     INFO     Returning plot data\n",
      "\u001b[2m\u001b[36m(compute_qc_stats_ray pid=31332)\u001b[0m 2022-11-16 19:06:53,157 cisTopic     INFO     Returning valid barcodes\n"
     ]
    },
    {
     "name": "stdout",
     "output_type": "stream",
     "text": [
      "\u001b[2m\u001b[36m(compute_qc_stats_ray pid=31333)\u001b[0m 2022-11-16 19:06:53,602 cisTopic     INFO     Returning plot data\n"
     ]
    },
    {
     "name": "stdout",
     "output_type": "stream",
     "text": [
      "\u001b[2m\u001b[36m(compute_qc_stats_ray pid=31332)\u001b[0m 2022-11-16 19:06:58,511 cisTopic     INFO     Computing duplicate rate plot for BIO_ddseq_m1c3.FULL.fragments.tsv.gz\n"
     ]
    },
    {
     "name": "stdout",
     "output_type": "stream",
     "text": [
      "\u001b[2m\u001b[36m(compute_qc_stats_ray pid=31329)\u001b[0m 2022-11-16 19:07:04,937 cisTopic     INFO     Marking barcodes with more than 10\n"
     ]
    },
    {
     "name": "stdout",
     "output_type": "stream",
     "text": [
      "\u001b[2m\u001b[36m(compute_qc_stats_ray pid=31329)\u001b[0m 2022-11-16 19:07:05,241 cisTopic     INFO     Returning plot data\n",
      "\u001b[2m\u001b[36m(compute_qc_stats_ray pid=31329)\u001b[0m 2022-11-16 19:07:05,269 cisTopic     INFO     Returning valid barcodes\n"
     ]
    },
    {
     "name": "stdout",
     "output_type": "stream",
     "text": [
      "\u001b[2m\u001b[36m(compute_qc_stats_ray pid=31329)\u001b[0m 2022-11-16 19:07:10,699 cisTopic     INFO     Computing duplicate rate plot for BIO_ddseq_m1c4.FULL.fragments.tsv.gz\n"
     ]
    },
    {
     "name": "stdout",
     "output_type": "stream",
     "text": [
      "\u001b[2m\u001b[36m(compute_qc_stats_ray pid=31330)\u001b[0m 2022-11-16 19:07:14,558 cisTopic     INFO     Computing barcode rank plot for BIO_ddseq_m1c2.FULL.fragments.tsv.gz\n",
      "\u001b[2m\u001b[36m(compute_qc_stats_ray pid=31330)\u001b[0m 2022-11-16 19:07:14,558 cisTopic     INFO     Counting fragments\n"
     ]
    },
    {
     "name": "stdout",
     "output_type": "stream",
     "text": [
      "\u001b[2m\u001b[36m(compute_qc_stats_ray pid=31332)\u001b[0m 2022-11-16 19:07:20,301 cisTopic     INFO     Return plot data\n"
     ]
    },
    {
     "name": "stdout",
     "output_type": "stream",
     "text": [
      "\u001b[2m\u001b[36m(compute_qc_stats_ray pid=31332)\u001b[0m 2022-11-16 19:07:20,477 cisTopic     INFO     Computing insert size distribution for BIO_ddseq_m1c3.FULL.fragments.tsv.gz\n",
      "\u001b[2m\u001b[36m(compute_qc_stats_ray pid=31332)\u001b[0m 2022-11-16 19:07:20,477 cisTopic     INFO     Counting fragments\n"
     ]
    },
    {
     "name": "stdout",
     "output_type": "stream",
     "text": [
      "\u001b[2m\u001b[36m(compute_qc_stats_ray pid=31332)\u001b[0m 2022-11-16 19:07:22,486 cisTopic     INFO     Returning plot data\n"
     ]
    },
    {
     "name": "stdout",
     "output_type": "stream",
     "text": [
      "\u001b[2m\u001b[36m(compute_qc_stats_ray pid=31333)\u001b[0m 2022-11-16 19:07:25,501 cisTopic     INFO     Computing TSS profile for BIO_ddseq_m1c1.FULL.fragments.tsv.gz\n"
     ]
    },
    {
     "name": "stdout",
     "output_type": "stream",
     "text": [
      "\u001b[2m\u001b[36m(compute_qc_stats_ray pid=31329)\u001b[0m 2022-11-16 19:07:33,144 cisTopic     INFO     Return plot data\n"
     ]
    },
    {
     "name": "stdout",
     "output_type": "stream",
     "text": [
      "\u001b[2m\u001b[36m(compute_qc_stats_ray pid=31329)\u001b[0m 2022-11-16 19:07:33,320 cisTopic     INFO     Computing insert size distribution for BIO_ddseq_m1c4.FULL.fragments.tsv.gz\n",
      "\u001b[2m\u001b[36m(compute_qc_stats_ray pid=31329)\u001b[0m 2022-11-16 19:07:33,320 cisTopic     INFO     Counting fragments\n"
     ]
    },
    {
     "name": "stdout",
     "output_type": "stream",
     "text": [
      "\u001b[2m\u001b[36m(compute_qc_stats_ray pid=31333)\u001b[0m 2022-11-16 19:07:33,786 cisTopic     INFO     Formatting annnotation\n",
      "\u001b[2m\u001b[36m(compute_qc_stats_ray pid=31333)\u001b[0m 2022-11-16 19:07:33,834 cisTopic     INFO     Creating coverage matrix\n"
     ]
    },
    {
     "name": "stdout",
     "output_type": "stream",
     "text": [
      "\u001b[2m\u001b[36m(compute_qc_stats_ray pid=31330)\u001b[0m 2022-11-16 19:07:34,827 cisTopic     INFO     Marking barcodes with more than 10\n"
     ]
    },
    {
     "name": "stdout",
     "output_type": "stream",
     "text": [
      "\u001b[2m\u001b[36m(compute_qc_stats_ray pid=31330)\u001b[0m 2022-11-16 19:07:35,145 cisTopic     INFO     Returning plot data\n",
      "\u001b[2m\u001b[36m(compute_qc_stats_ray pid=31330)\u001b[0m 2022-11-16 19:07:35,175 cisTopic     INFO     Returning valid barcodes\n",
      "\u001b[2m\u001b[36m(compute_qc_stats_ray pid=31329)\u001b[0m 2022-11-16 19:07:35,203 cisTopic     INFO     Returning plot data\n"
     ]
    },
    {
     "name": "stdout",
     "output_type": "stream",
     "text": [
      "\u001b[2m\u001b[36m(compute_qc_stats_ray pid=31330)\u001b[0m 2022-11-16 19:07:41,308 cisTopic     INFO     Computing duplicate rate plot for BIO_ddseq_m1c2.FULL.fragments.tsv.gz\n"
     ]
    },
    {
     "name": "stdout",
     "output_type": "stream",
     "text": [
      "\u001b[2m\u001b[36m(compute_qc_stats_ray pid=31331)\u001b[0m 2022-11-16 19:08:01,140 cisTopic     INFO     Computing barcode rank plot for BIO_ddseq_m1c5.FULL.fragments.tsv.gz\n",
      "\u001b[2m\u001b[36m(compute_qc_stats_ray pid=31331)\u001b[0m 2022-11-16 19:08:01,141 cisTopic     INFO     Counting fragments\n"
     ]
    },
    {
     "name": "stdout",
     "output_type": "stream",
     "text": [
      "\u001b[2m\u001b[36m(compute_qc_stats_ray pid=31332)\u001b[0m 2022-11-16 19:08:03,942 cisTopic     INFO     Computing TSS profile for BIO_ddseq_m1c3.FULL.fragments.tsv.gz\n"
     ]
    },
    {
     "name": "stdout",
     "output_type": "stream",
     "text": [
      "\u001b[2m\u001b[36m(compute_qc_stats_ray pid=31330)\u001b[0m 2022-11-16 19:08:08,139 cisTopic     INFO     Return plot data\n"
     ]
    },
    {
     "name": "stdout",
     "output_type": "stream",
     "text": [
      "\u001b[2m\u001b[36m(compute_qc_stats_ray pid=31330)\u001b[0m 2022-11-16 19:08:08,322 cisTopic     INFO     Computing insert size distribution for BIO_ddseq_m1c2.FULL.fragments.tsv.gz\n",
      "\u001b[2m\u001b[36m(compute_qc_stats_ray pid=31330)\u001b[0m 2022-11-16 19:08:08,322 cisTopic     INFO     Counting fragments\n"
     ]
    },
    {
     "name": "stdout",
     "output_type": "stream",
     "text": [
      "\u001b[2m\u001b[36m(compute_qc_stats_ray pid=31330)\u001b[0m 2022-11-16 19:08:10,381 cisTopic     INFO     Returning plot data\n"
     ]
    },
    {
     "name": "stdout",
     "output_type": "stream",
     "text": [
      "\u001b[2m\u001b[36m(compute_qc_stats_ray pid=31329)\u001b[0m 2022-11-16 19:08:12,580 cisTopic     INFO     Computing TSS profile for BIO_ddseq_m1c4.FULL.fragments.tsv.gz\n"
     ]
    },
    {
     "name": "stdout",
     "output_type": "stream",
     "text": [
      "\u001b[2m\u001b[36m(compute_qc_stats_ray pid=31332)\u001b[0m 2022-11-16 19:08:14,551 cisTopic     INFO     Formatting annnotation\n",
      "\u001b[2m\u001b[36m(compute_qc_stats_ray pid=31332)\u001b[0m 2022-11-16 19:08:14,599 cisTopic     INFO     Creating coverage matrix\n"
     ]
    },
    {
     "name": "stdout",
     "output_type": "stream",
     "text": [
      "\u001b[2m\u001b[36m(compute_qc_stats_ray pid=31329)\u001b[0m 2022-11-16 19:08:25,021 cisTopic     INFO     Formatting annnotation\n",
      "\u001b[2m\u001b[36m(compute_qc_stats_ray pid=31329)\u001b[0m 2022-11-16 19:08:25,085 cisTopic     INFO     Creating coverage matrix\n"
     ]
    },
    {
     "name": "stdout",
     "output_type": "stream",
     "text": [
      "\u001b[2m\u001b[36m(compute_qc_stats_ray pid=31331)\u001b[0m 2022-11-16 19:08:25,136 cisTopic     INFO     Marking barcodes with more than 10\n"
     ]
    },
    {
     "name": "stdout",
     "output_type": "stream",
     "text": [
      "\u001b[2m\u001b[36m(compute_qc_stats_ray pid=31331)\u001b[0m 2022-11-16 19:08:25,488 cisTopic     INFO     Returning plot data\n",
      "\u001b[2m\u001b[36m(compute_qc_stats_ray pid=31331)\u001b[0m 2022-11-16 19:08:25,558 cisTopic     INFO     Returning valid barcodes\n"
     ]
    },
    {
     "name": "stdout",
     "output_type": "stream",
     "text": [
      "\u001b[2m\u001b[36m(compute_qc_stats_ray pid=31331)\u001b[0m 2022-11-16 19:08:33,451 cisTopic     INFO     Computing duplicate rate plot for BIO_ddseq_m1c5.FULL.fragments.tsv.gz\n"
     ]
    },
    {
     "name": "stdout",
     "output_type": "stream",
     "text": [
      "\u001b[2m\u001b[36m(compute_qc_stats_ray pid=31330)\u001b[0m 2022-11-16 19:08:50,423 cisTopic     INFO     Computing TSS profile for BIO_ddseq_m1c2.FULL.fragments.tsv.gz\n"
     ]
    },
    {
     "name": "stdout",
     "output_type": "stream",
     "text": [
      "\u001b[2m\u001b[36m(compute_qc_stats_ray pid=31333)\u001b[0m 2022-11-16 19:09:01,493 cisTopic     INFO     Coverage matrix done\n"
     ]
    },
    {
     "name": "stdout",
     "output_type": "stream",
     "text": [
      "\u001b[2m\u001b[36m(compute_qc_stats_ray pid=31330)\u001b[0m 2022-11-16 19:09:03,668 cisTopic     INFO     Formatting annnotation\n",
      "\u001b[2m\u001b[36m(compute_qc_stats_ray pid=31330)\u001b[0m 2022-11-16 19:09:03,723 cisTopic     INFO     Creating coverage matrix\n"
     ]
    },
    {
     "name": "stdout",
     "output_type": "stream",
     "text": [
      "\u001b[2m\u001b[36m(compute_qc_stats_ray pid=31331)\u001b[0m 2022-11-16 19:09:03,852 cisTopic     INFO     Return plot data\n"
     ]
    },
    {
     "name": "stdout",
     "output_type": "stream",
     "text": [
      "\u001b[2m\u001b[36m(compute_qc_stats_ray pid=31331)\u001b[0m 2022-11-16 19:09:04,044 cisTopic     INFO     Computing insert size distribution for BIO_ddseq_m1c5.FULL.fragments.tsv.gz\n",
      "\u001b[2m\u001b[36m(compute_qc_stats_ray pid=31331)\u001b[0m 2022-11-16 19:09:04,044 cisTopic     INFO     Counting fragments\n"
     ]
    },
    {
     "name": "stdout",
     "output_type": "stream",
     "text": [
      "\u001b[2m\u001b[36m(compute_qc_stats_ray pid=31331)\u001b[0m 2022-11-16 19:09:06,720 cisTopic     INFO     Returning plot data\n"
     ]
    },
    {
     "name": "stdout",
     "output_type": "stream",
     "text": [
      "\u001b[2m\u001b[36m(compute_qc_stats_ray pid=31332)\u001b[0m 2022-11-16 19:09:47,532 cisTopic     INFO     Coverage matrix done\n"
     ]
    },
    {
     "name": "stdout",
     "output_type": "stream",
     "text": [
      "\u001b[2m\u001b[36m(compute_qc_stats_ray pid=31331)\u001b[0m 2022-11-16 19:10:01,827 cisTopic     INFO     Computing TSS profile for BIO_ddseq_m1c5.FULL.fragments.tsv.gz\n"
     ]
    },
    {
     "name": "stdout",
     "output_type": "stream",
     "text": [
      "\u001b[2m\u001b[36m(compute_qc_stats_ray pid=31329)\u001b[0m 2022-11-16 19:10:03,140 cisTopic     INFO     Coverage matrix done\n"
     ]
    },
    {
     "name": "stdout",
     "output_type": "stream",
     "text": [
      "\u001b[2m\u001b[36m(compute_qc_stats_ray pid=31331)\u001b[0m 2022-11-16 19:10:15,853 cisTopic     INFO     Formatting annnotation\n",
      "\u001b[2m\u001b[36m(compute_qc_stats_ray pid=31331)\u001b[0m 2022-11-16 19:10:15,903 cisTopic     INFO     Creating coverage matrix\n"
     ]
    },
    {
     "name": "stdout",
     "output_type": "stream",
     "text": [
      "\u001b[2m\u001b[36m(compute_qc_stats_ray pid=31333)\u001b[0m 2022-11-16 19:10:27,904 cisTopic     INFO     Returning normalized TSS coverage matrix per barcode\n"
     ]
    },
    {
     "name": "stdout",
     "output_type": "stream",
     "text": [
      "\u001b[2m\u001b[36m(compute_qc_stats_ray pid=31330)\u001b[0m 2022-11-16 19:10:58,990 cisTopic     INFO     Coverage matrix done\n"
     ]
    },
    {
     "name": "stdout",
     "output_type": "stream",
     "text": [
      "\u001b[2m\u001b[36m(compute_qc_stats_ray pid=31332)\u001b[0m 2022-11-16 19:11:15,603 cisTopic     INFO     Returning normalized TSS coverage matrix per barcode\n"
     ]
    },
    {
     "name": "stdout",
     "output_type": "stream",
     "text": [
      "\u001b[2m\u001b[36m(compute_qc_stats_ray pid=31333)\u001b[0m 2022-11-16 19:11:20,977 cisTopic     INFO     Returning normalized sample TSS enrichment data\n",
      "\u001b[2m\u001b[36m(compute_qc_stats_ray pid=31333)\u001b[0m 2022-11-16 19:11:21,083 cisTopic     INFO     Computing FRIP profile for BIO_ddseq_m1c1.FULL.fragments.tsv.gz\n"
     ]
    },
    {
     "name": "stdout",
     "output_type": "stream",
     "text": [
      "\u001b[2m\u001b[36m(compute_qc_stats_ray pid=31333)\u001b[0m 2022-11-16 19:11:21,873 cisTopic     INFO     Counting fragments\n"
     ]
    },
    {
     "name": "stdout",
     "output_type": "stream",
     "text": [
      "\u001b[2m\u001b[36m(compute_qc_stats_ray pid=31329)\u001b[0m 2022-11-16 19:11:28,892 cisTopic     INFO     Returning normalized TSS coverage matrix per barcode\n"
     ]
    },
    {
     "name": "stdout",
     "output_type": "stream",
     "text": [
      "\u001b[2m\u001b[36m(compute_qc_stats_ray pid=31333)\u001b[0m 2022-11-16 19:11:32,561 cisTopic     INFO     Intersecting fragments with regions\n"
     ]
    },
    {
     "name": "stdout",
     "output_type": "stream",
     "text": [
      "\u001b[2m\u001b[36m(compute_qc_stats_ray pid=31333)\u001b[0m 2022-11-16 19:12:03,835 cisTopic     INFO     Sample BIO_ddseq_m1c1.FULL.fragments.tsv.gz done!\n"
     ]
    },
    {
     "name": "stdout",
     "output_type": "stream",
     "text": [
      "\u001b[2m\u001b[36m(compute_qc_stats_ray pid=31332)\u001b[0m 2022-11-16 19:12:11,292 cisTopic     INFO     Returning normalized sample TSS enrichment data\n"
     ]
    },
    {
     "name": "stdout",
     "output_type": "stream",
     "text": [
      "\u001b[2m\u001b[36m(compute_qc_stats_ray pid=31332)\u001b[0m 2022-11-16 19:12:11,445 cisTopic     INFO     Computing FRIP profile for BIO_ddseq_m1c3.FULL.fragments.tsv.gz\n"
     ]
    },
    {
     "name": "stdout",
     "output_type": "stream",
     "text": [
      "\u001b[2m\u001b[36m(compute_qc_stats_ray pid=31332)\u001b[0m 2022-11-16 19:12:12,769 cisTopic     INFO     Counting fragments\n"
     ]
    },
    {
     "name": "stdout",
     "output_type": "stream",
     "text": [
      "\u001b[2m\u001b[36m(compute_qc_stats_ray pid=31331)\u001b[0m 2022-11-16 19:12:22,055 cisTopic     INFO     Coverage matrix done\n"
     ]
    },
    {
     "name": "stdout",
     "output_type": "stream",
     "text": [
      "\u001b[2m\u001b[36m(compute_qc_stats_ray pid=31329)\u001b[0m 2022-11-16 19:12:23,504 cisTopic     INFO     Returning normalized sample TSS enrichment data\n",
      "\u001b[2m\u001b[36m(compute_qc_stats_ray pid=31329)\u001b[0m 2022-11-16 19:12:23,628 cisTopic     INFO     Computing FRIP profile for BIO_ddseq_m1c4.FULL.fragments.tsv.gz\n"
     ]
    },
    {
     "name": "stdout",
     "output_type": "stream",
     "text": [
      "\u001b[2m\u001b[36m(compute_qc_stats_ray pid=31329)\u001b[0m 2022-11-16 19:12:24,394 cisTopic     INFO     Counting fragments\n"
     ]
    },
    {
     "name": "stdout",
     "output_type": "stream",
     "text": [
      "\u001b[2m\u001b[36m(compute_qc_stats_ray pid=31332)\u001b[0m 2022-11-16 19:12:26,613 cisTopic     INFO     Intersecting fragments with regions\n"
     ]
    },
    {
     "name": "stdout",
     "output_type": "stream",
     "text": [
      "\u001b[2m\u001b[36m(compute_qc_stats_ray pid=31330)\u001b[0m 2022-11-16 19:12:38,723 cisTopic     INFO     Returning normalized TSS coverage matrix per barcode\n",
      "\u001b[2m\u001b[36m(compute_qc_stats_ray pid=31329)\u001b[0m 2022-11-16 19:12:38,777 cisTopic     INFO     Intersecting fragments with regions\n"
     ]
    },
    {
     "name": "stdout",
     "output_type": "stream",
     "text": [
      "\u001b[2m\u001b[36m(compute_qc_stats_ray pid=31332)\u001b[0m 2022-11-16 19:13:03,728 cisTopic     INFO     Sample BIO_ddseq_m1c3.FULL.fragments.tsv.gz done!\n"
     ]
    },
    {
     "name": "stdout",
     "output_type": "stream",
     "text": [
      "\u001b[2m\u001b[36m(compute_qc_stats_ray pid=31329)\u001b[0m 2022-11-16 19:13:16,253 cisTopic     INFO     Sample BIO_ddseq_m1c4.FULL.fragments.tsv.gz done!\n"
     ]
    },
    {
     "name": "stdout",
     "output_type": "stream",
     "text": [
      "\u001b[2m\u001b[36m(compute_qc_stats_ray pid=31330)\u001b[0m 2022-11-16 19:13:37,513 cisTopic     INFO     Returning normalized sample TSS enrichment data\n",
      "\u001b[2m\u001b[36m(compute_qc_stats_ray pid=31330)\u001b[0m 2022-11-16 19:13:37,648 cisTopic     INFO     Computing FRIP profile for BIO_ddseq_m1c2.FULL.fragments.tsv.gz\n"
     ]
    },
    {
     "name": "stdout",
     "output_type": "stream",
     "text": [
      "\u001b[2m\u001b[36m(compute_qc_stats_ray pid=31330)\u001b[0m 2022-11-16 19:13:38,531 cisTopic     INFO     Counting fragments\n"
     ]
    },
    {
     "name": "stdout",
     "output_type": "stream",
     "text": [
      "\u001b[2m\u001b[36m(compute_qc_stats_ray pid=31330)\u001b[0m 2022-11-16 19:13:52,209 cisTopic     INFO     Intersecting fragments with regions\n"
     ]
    },
    {
     "name": "stdout",
     "output_type": "stream",
     "text": [
      "\u001b[2m\u001b[36m(compute_qc_stats_ray pid=31331)\u001b[0m 2022-11-16 19:13:58,816 cisTopic     INFO     Returning normalized TSS coverage matrix per barcode\n"
     ]
    },
    {
     "name": "stdout",
     "output_type": "stream",
     "text": [
      "\u001b[2m\u001b[36m(compute_qc_stats_ray pid=31330)\u001b[0m 2022-11-16 19:14:35,046 cisTopic     INFO     Sample BIO_ddseq_m1c2.FULL.fragments.tsv.gz done!\n"
     ]
    },
    {
     "name": "stdout",
     "output_type": "stream",
     "text": [
      "\u001b[2m\u001b[36m(compute_qc_stats_ray pid=31331)\u001b[0m 2022-11-16 19:14:58,818 cisTopic     INFO     Returning normalized sample TSS enrichment data\n",
      "\u001b[2m\u001b[36m(compute_qc_stats_ray pid=31331)\u001b[0m 2022-11-16 19:14:58,930 cisTopic     INFO     Computing FRIP profile for BIO_ddseq_m1c5.FULL.fragments.tsv.gz\n"
     ]
    },
    {
     "name": "stdout",
     "output_type": "stream",
     "text": [
      "\u001b[2m\u001b[36m(compute_qc_stats_ray pid=31331)\u001b[0m 2022-11-16 19:14:59,805 cisTopic     INFO     Counting fragments\n"
     ]
    },
    {
     "name": "stdout",
     "output_type": "stream",
     "text": [
      "\u001b[2m\u001b[36m(compute_qc_stats_ray pid=31331)\u001b[0m 2022-11-16 19:15:18,536 cisTopic     INFO     Intersecting fragments with regions\n"
     ]
    },
    {
     "name": "stdout",
     "output_type": "stream",
     "text": [
      "\u001b[2m\u001b[36m(compute_qc_stats_ray pid=31331)\u001b[0m 2022-11-16 19:16:09,027 cisTopic     INFO     Sample BIO_ddseq_m1c5.FULL.fragments.tsv.gz done!\n"
     ]
    },
    {
     "name": "stdout",
     "output_type": "stream",
     "text": [
      "Dumping files in /lustre1/project/stg_00090/scatac_benchmark/public_4_cistopic_consensus/cistopic_qc_out...\n"
     ]
    },
    {
     "name": "stderr",
     "output_type": "stream",
     "text": [
      "2022-11-16 19:22:04,222\tINFO worker.py:1509 -- Started a local Ray instance. View the dashboard at \u001b[1m\u001b[32mhttp://127.0.0.1:8265 \u001b[39m\u001b[22m\n"
     ]
    },
    {
     "name": "stdout",
     "output_type": "stream",
     "text": [
      "\u001b[2m\u001b[36m(compute_qc_stats_ray pid=26136)\u001b[0m 2022-11-16 19:22:07,616 cisTopic     INFO     Reading BIO_ddseq_m2c2.FULL.fragments.tsv.gz\n",
      "\u001b[2m\u001b[36m(compute_qc_stats_ray pid=26137)\u001b[0m 2022-11-16 19:22:07,618 cisTopic     INFO     Reading BIO_ddseq_m1c8.FULL.fragments.tsv.gz\n",
      "\u001b[2m\u001b[36m(compute_qc_stats_ray pid=26139)\u001b[0m 2022-11-16 19:22:07,656 cisTopic     INFO     Reading BIO_ddseq_m1c6.FULL.fragments.tsv.gz\n",
      "\u001b[2m\u001b[36m(compute_qc_stats_ray pid=26135)\u001b[0m 2022-11-16 19:22:07,725 cisTopic     INFO     Reading BIO_ddseq_m1c7.FULL.fragments.tsv.gz\n",
      "\u001b[2m\u001b[36m(compute_qc_stats_ray pid=26138)\u001b[0m 2022-11-16 19:22:07,725 cisTopic     INFO     Reading BIO_ddseq_m2c1.FULL.fragments.tsv.gz\n"
     ]
    },
    {
     "name": "stdout",
     "output_type": "stream",
     "text": [
      "\u001b[2m\u001b[36m(compute_qc_stats_ray pid=26136)\u001b[0m 2022-11-16 19:23:49,677 cisTopic     INFO     Computing barcode rank plot for BIO_ddseq_m2c2.FULL.fragments.tsv.gz\n",
      "\u001b[2m\u001b[36m(compute_qc_stats_ray pid=26136)\u001b[0m 2022-11-16 19:23:49,677 cisTopic     INFO     Counting fragments\n"
     ]
    },
    {
     "name": "stdout",
     "output_type": "stream",
     "text": [
      "\u001b[2m\u001b[36m(compute_qc_stats_ray pid=26136)\u001b[0m 2022-11-16 19:23:58,975 cisTopic     INFO     Marking barcodes with more than 10\n",
      "\u001b[2m\u001b[36m(compute_qc_stats_ray pid=26136)\u001b[0m 2022-11-16 19:23:59,146 cisTopic     INFO     Returning plot data\n"
     ]
    },
    {
     "name": "stdout",
     "output_type": "stream",
     "text": [
      "\u001b[2m\u001b[36m(compute_qc_stats_ray pid=26136)\u001b[0m 2022-11-16 19:23:59,158 cisTopic     INFO     Returning valid barcodes\n"
     ]
    },
    {
     "name": "stdout",
     "output_type": "stream",
     "text": [
      "\u001b[2m\u001b[36m(compute_qc_stats_ray pid=26136)\u001b[0m 2022-11-16 19:24:02,970 cisTopic     INFO     Computing duplicate rate plot for BIO_ddseq_m2c2.FULL.fragments.tsv.gz\n"
     ]
    },
    {
     "name": "stdout",
     "output_type": "stream",
     "text": [
      "\u001b[2m\u001b[36m(compute_qc_stats_ray pid=26138)\u001b[0m 2022-11-16 19:24:12,577 cisTopic     INFO     Computing barcode rank plot for BIO_ddseq_m2c1.FULL.fragments.tsv.gz\n",
      "\u001b[2m\u001b[36m(compute_qc_stats_ray pid=26138)\u001b[0m 2022-11-16 19:24:12,577 cisTopic     INFO     Counting fragments\n"
     ]
    },
    {
     "name": "stdout",
     "output_type": "stream",
     "text": [
      "\u001b[2m\u001b[36m(compute_qc_stats_ray pid=26136)\u001b[0m 2022-11-16 19:24:15,841 cisTopic     INFO     Return plot data\n",
      "\u001b[2m\u001b[36m(compute_qc_stats_ray pid=26136)\u001b[0m 2022-11-16 19:24:15,995 cisTopic     INFO     Computing insert size distribution for BIO_ddseq_m2c2.FULL.fragments.tsv.gz\n",
      "\u001b[2m\u001b[36m(compute_qc_stats_ray pid=26136)\u001b[0m 2022-11-16 19:24:15,996 cisTopic     INFO     Counting fragments\n"
     ]
    },
    {
     "name": "stdout",
     "output_type": "stream",
     "text": [
      "\u001b[2m\u001b[36m(compute_qc_stats_ray pid=26136)\u001b[0m 2022-11-16 19:24:17,383 cisTopic     INFO     Returning plot data\n"
     ]
    },
    {
     "name": "stdout",
     "output_type": "stream",
     "text": [
      "\u001b[2m\u001b[36m(compute_qc_stats_ray pid=26138)\u001b[0m 2022-11-16 19:24:23,854 cisTopic     INFO     Marking barcodes with more than 10\n"
     ]
    },
    {
     "name": "stdout",
     "output_type": "stream",
     "text": [
      "\u001b[2m\u001b[36m(compute_qc_stats_ray pid=26138)\u001b[0m 2022-11-16 19:24:24,068 cisTopic     INFO     Returning plot data\n",
      "\u001b[2m\u001b[36m(compute_qc_stats_ray pid=26138)\u001b[0m 2022-11-16 19:24:24,093 cisTopic     INFO     Returning valid barcodes\n"
     ]
    },
    {
     "name": "stdout",
     "output_type": "stream",
     "text": [
      "\u001b[2m\u001b[36m(compute_qc_stats_ray pid=26138)\u001b[0m 2022-11-16 19:24:28,096 cisTopic     INFO     Computing duplicate rate plot for BIO_ddseq_m2c1.FULL.fragments.tsv.gz\n"
     ]
    },
    {
     "name": "stdout",
     "output_type": "stream",
     "text": [
      "\u001b[2m\u001b[36m(compute_qc_stats_ray pid=26135)\u001b[0m 2022-11-16 19:24:31,239 cisTopic     INFO     Computing barcode rank plot for BIO_ddseq_m1c7.FULL.fragments.tsv.gz\n",
      "\u001b[2m\u001b[36m(compute_qc_stats_ray pid=26135)\u001b[0m 2022-11-16 19:24:31,240 cisTopic     INFO     Counting fragments\n"
     ]
    },
    {
     "name": "stdout",
     "output_type": "stream",
     "text": [
      "\u001b[2m\u001b[36m(compute_qc_stats_ray pid=26137)\u001b[0m 2022-11-16 19:24:41,963 cisTopic     INFO     Computing barcode rank plot for BIO_ddseq_m1c8.FULL.fragments.tsv.gz\n",
      "\u001b[2m\u001b[36m(compute_qc_stats_ray pid=26137)\u001b[0m 2022-11-16 19:24:41,963 cisTopic     INFO     Counting fragments\n"
     ]
    },
    {
     "name": "stdout",
     "output_type": "stream",
     "text": [
      "\u001b[2m\u001b[36m(compute_qc_stats_ray pid=26136)\u001b[0m 2022-11-16 19:24:42,834 cisTopic     INFO     Computing TSS profile for BIO_ddseq_m2c2.FULL.fragments.tsv.gz\n"
     ]
    },
    {
     "name": "stdout",
     "output_type": "stream",
     "text": [
      "\u001b[2m\u001b[36m(compute_qc_stats_ray pid=26138)\u001b[0m 2022-11-16 19:24:43,371 cisTopic     INFO     Return plot data\n",
      "\u001b[2m\u001b[36m(compute_qc_stats_ray pid=26138)\u001b[0m 2022-11-16 19:24:43,527 cisTopic     INFO     Computing insert size distribution for BIO_ddseq_m2c1.FULL.fragments.tsv.gz\n",
      "\u001b[2m\u001b[36m(compute_qc_stats_ray pid=26138)\u001b[0m 2022-11-16 19:24:43,527 cisTopic     INFO     Counting fragments\n"
     ]
    },
    {
     "name": "stdout",
     "output_type": "stream",
     "text": [
      "\u001b[2m\u001b[36m(compute_qc_stats_ray pid=26138)\u001b[0m 2022-11-16 19:24:44,941 cisTopic     INFO     Returning plot data\n"
     ]
    },
    {
     "name": "stdout",
     "output_type": "stream",
     "text": [
      "\u001b[2m\u001b[36m(compute_qc_stats_ray pid=26135)\u001b[0m 2022-11-16 19:24:45,897 cisTopic     INFO     Marking barcodes with more than 10\n"
     ]
    },
    {
     "name": "stdout",
     "output_type": "stream",
     "text": [
      "\u001b[2m\u001b[36m(compute_qc_stats_ray pid=26135)\u001b[0m 2022-11-16 19:24:46,138 cisTopic     INFO     Returning plot data\n",
      "\u001b[2m\u001b[36m(compute_qc_stats_ray pid=26135)\u001b[0m 2022-11-16 19:24:46,167 cisTopic     INFO     Returning valid barcodes\n"
     ]
    },
    {
     "name": "stdout",
     "output_type": "stream",
     "text": [
      "\u001b[2m\u001b[36m(compute_qc_stats_ray pid=26136)\u001b[0m 2022-11-16 19:24:49,139 cisTopic     INFO     Formatting annnotation\n",
      "\u001b[2m\u001b[36m(compute_qc_stats_ray pid=26136)\u001b[0m 2022-11-16 19:24:49,189 cisTopic     INFO     Creating coverage matrix\n"
     ]
    },
    {
     "name": "stdout",
     "output_type": "stream",
     "text": [
      "\u001b[2m\u001b[36m(compute_qc_stats_ray pid=26135)\u001b[0m 2022-11-16 19:24:50,770 cisTopic     INFO     Computing duplicate rate plot for BIO_ddseq_m1c7.FULL.fragments.tsv.gz\n"
     ]
    },
    {
     "name": "stdout",
     "output_type": "stream",
     "text": [
      "\u001b[2m\u001b[36m(compute_qc_stats_ray pid=26137)\u001b[0m 2022-11-16 19:24:56,127 cisTopic     INFO     Marking barcodes with more than 10\n"
     ]
    },
    {
     "name": "stdout",
     "output_type": "stream",
     "text": [
      "\u001b[2m\u001b[36m(compute_qc_stats_ray pid=26137)\u001b[0m 2022-11-16 19:24:56,368 cisTopic     INFO     Returning plot data\n",
      "\u001b[2m\u001b[36m(compute_qc_stats_ray pid=26137)\u001b[0m 2022-11-16 19:24:56,415 cisTopic     INFO     Returning valid barcodes\n"
     ]
    },
    {
     "name": "stdout",
     "output_type": "stream",
     "text": [
      "\u001b[2m\u001b[36m(compute_qc_stats_ray pid=26137)\u001b[0m 2022-11-16 19:25:02,854 cisTopic     INFO     Computing duplicate rate plot for BIO_ddseq_m1c8.FULL.fragments.tsv.gz\n"
     ]
    },
    {
     "name": "stdout",
     "output_type": "stream",
     "text": [
      "\u001b[2m\u001b[36m(compute_qc_stats_ray pid=26139)\u001b[0m 2022-11-16 19:25:03,265 cisTopic     INFO     Computing barcode rank plot for BIO_ddseq_m1c6.FULL.fragments.tsv.gz\n",
      "\u001b[2m\u001b[36m(compute_qc_stats_ray pid=26139)\u001b[0m 2022-11-16 19:25:03,265 cisTopic     INFO     Counting fragments\n"
     ]
    },
    {
     "name": "stdout",
     "output_type": "stream",
     "text": [
      "\u001b[2m\u001b[36m(compute_qc_stats_ray pid=26135)\u001b[0m 2022-11-16 19:25:09,405 cisTopic     INFO     Return plot data\n"
     ]
    },
    {
     "name": "stdout",
     "output_type": "stream",
     "text": [
      "\u001b[2m\u001b[36m(compute_qc_stats_ray pid=26135)\u001b[0m 2022-11-16 19:25:09,594 cisTopic     INFO     Computing insert size distribution for BIO_ddseq_m1c7.FULL.fragments.tsv.gz\n",
      "\u001b[2m\u001b[36m(compute_qc_stats_ray pid=26135)\u001b[0m 2022-11-16 19:25:09,595 cisTopic     INFO     Counting fragments\n"
     ]
    },
    {
     "name": "stdout",
     "output_type": "stream",
     "text": [
      "\u001b[2m\u001b[36m(compute_qc_stats_ray pid=26135)\u001b[0m 2022-11-16 19:25:11,554 cisTopic     INFO     Returning plot data\n"
     ]
    },
    {
     "name": "stdout",
     "output_type": "stream",
     "text": [
      "\u001b[2m\u001b[36m(compute_qc_stats_ray pid=26138)\u001b[0m 2022-11-16 19:25:12,508 cisTopic     INFO     Computing TSS profile for BIO_ddseq_m2c1.FULL.fragments.tsv.gz\n"
     ]
    },
    {
     "name": "stdout",
     "output_type": "stream",
     "text": [
      "\u001b[2m\u001b[36m(compute_qc_stats_ray pid=26139)\u001b[0m 2022-11-16 19:25:20,159 cisTopic     INFO     Marking barcodes with more than 10\n"
     ]
    },
    {
     "name": "stdout",
     "output_type": "stream",
     "text": [
      "\u001b[2m\u001b[36m(compute_qc_stats_ray pid=26139)\u001b[0m 2022-11-16 19:25:20,455 cisTopic     INFO     Returning plot data\n",
      "\u001b[2m\u001b[36m(compute_qc_stats_ray pid=26139)\u001b[0m 2022-11-16 19:25:20,487 cisTopic     INFO     Returning valid barcodes\n"
     ]
    },
    {
     "name": "stdout",
     "output_type": "stream",
     "text": [
      "\u001b[2m\u001b[36m(compute_qc_stats_ray pid=26138)\u001b[0m 2022-11-16 19:25:21,195 cisTopic     INFO     Formatting annnotation\n",
      "\u001b[2m\u001b[36m(compute_qc_stats_ray pid=26138)\u001b[0m 2022-11-16 19:25:21,249 cisTopic     INFO     Creating coverage matrix\n"
     ]
    },
    {
     "name": "stdout",
     "output_type": "stream",
     "text": [
      "\u001b[2m\u001b[36m(compute_qc_stats_ray pid=26139)\u001b[0m 2022-11-16 19:25:25,795 cisTopic     INFO     Computing duplicate rate plot for BIO_ddseq_m1c6.FULL.fragments.tsv.gz\n"
     ]
    },
    {
     "name": "stdout",
     "output_type": "stream",
     "text": [
      "\u001b[2m\u001b[36m(compute_qc_stats_ray pid=26137)\u001b[0m 2022-11-16 19:25:27,368 cisTopic     INFO     Return plot data\n"
     ]
    },
    {
     "name": "stdout",
     "output_type": "stream",
     "text": [
      "\u001b[2m\u001b[36m(compute_qc_stats_ray pid=26137)\u001b[0m 2022-11-16 19:25:27,661 cisTopic     INFO     Computing insert size distribution for BIO_ddseq_m1c8.FULL.fragments.tsv.gz\n",
      "\u001b[2m\u001b[36m(compute_qc_stats_ray pid=26137)\u001b[0m 2022-11-16 19:25:27,661 cisTopic     INFO     Counting fragments\n"
     ]
    },
    {
     "name": "stdout",
     "output_type": "stream",
     "text": [
      "\u001b[2m\u001b[36m(compute_qc_stats_ray pid=26137)\u001b[0m 2022-11-16 19:25:29,806 cisTopic     INFO     Returning plot data\n"
     ]
    },
    {
     "name": "stdout",
     "output_type": "stream",
     "text": [
      "\u001b[2m\u001b[36m(compute_qc_stats_ray pid=26135)\u001b[0m 2022-11-16 19:25:48,347 cisTopic     INFO     Computing TSS profile for BIO_ddseq_m1c7.FULL.fragments.tsv.gz\n"
     ]
    },
    {
     "name": "stdout",
     "output_type": "stream",
     "text": [
      "\u001b[2m\u001b[36m(compute_qc_stats_ray pid=26139)\u001b[0m 2022-11-16 19:25:51,203 cisTopic     INFO     Return plot data\n"
     ]
    },
    {
     "name": "stdout",
     "output_type": "stream",
     "text": [
      "\u001b[2m\u001b[36m(compute_qc_stats_ray pid=26139)\u001b[0m 2022-11-16 19:25:51,384 cisTopic     INFO     Computing insert size distribution for BIO_ddseq_m1c6.FULL.fragments.tsv.gz\n",
      "\u001b[2m\u001b[36m(compute_qc_stats_ray pid=26139)\u001b[0m 2022-11-16 19:25:51,384 cisTopic     INFO     Counting fragments\n"
     ]
    },
    {
     "name": "stdout",
     "output_type": "stream",
     "text": [
      "\u001b[2m\u001b[36m(compute_qc_stats_ray pid=26139)\u001b[0m 2022-11-16 19:25:53,345 cisTopic     INFO     Returning plot data\n"
     ]
    },
    {
     "name": "stdout",
     "output_type": "stream",
     "text": [
      "\u001b[2m\u001b[36m(compute_qc_stats_ray pid=26135)\u001b[0m 2022-11-16 19:25:58,514 cisTopic     INFO     Formatting annnotation\n",
      "\u001b[2m\u001b[36m(compute_qc_stats_ray pid=26135)\u001b[0m 2022-11-16 19:25:58,568 cisTopic     INFO     Creating coverage matrix\n"
     ]
    },
    {
     "name": "stdout",
     "output_type": "stream",
     "text": [
      "\u001b[2m\u001b[36m(compute_qc_stats_ray pid=26136)\u001b[0m 2022-11-16 19:26:10,421 cisTopic     INFO     Coverage matrix done\n"
     ]
    },
    {
     "name": "stdout",
     "output_type": "stream",
     "text": [
      "\u001b[2m\u001b[36m(compute_qc_stats_ray pid=26137)\u001b[0m 2022-11-16 19:26:12,835 cisTopic     INFO     Computing TSS profile for BIO_ddseq_m1c8.FULL.fragments.tsv.gz\n"
     ]
    },
    {
     "name": "stdout",
     "output_type": "stream",
     "text": [
      "\u001b[2m\u001b[36m(compute_qc_stats_ray pid=26137)\u001b[0m 2022-11-16 19:26:23,848 cisTopic     INFO     Formatting annnotation\n",
      "\u001b[2m\u001b[36m(compute_qc_stats_ray pid=26137)\u001b[0m 2022-11-16 19:26:23,895 cisTopic     INFO     Creating coverage matrix\n"
     ]
    },
    {
     "name": "stdout",
     "output_type": "stream",
     "text": [
      "\u001b[2m\u001b[36m(compute_qc_stats_ray pid=26139)\u001b[0m 2022-11-16 19:26:34,959 cisTopic     INFO     Computing TSS profile for BIO_ddseq_m1c6.FULL.fragments.tsv.gz\n"
     ]
    },
    {
     "name": "stdout",
     "output_type": "stream",
     "text": [
      "\u001b[2m\u001b[36m(compute_qc_stats_ray pid=26139)\u001b[0m 2022-11-16 19:26:47,912 cisTopic     INFO     Formatting annnotation\n",
      "\u001b[2m\u001b[36m(compute_qc_stats_ray pid=26139)\u001b[0m 2022-11-16 19:26:47,966 cisTopic     INFO     Creating coverage matrix\n"
     ]
    },
    {
     "name": "stdout",
     "output_type": "stream",
     "text": [
      "\u001b[2m\u001b[36m(compute_qc_stats_ray pid=26138)\u001b[0m 2022-11-16 19:26:50,194 cisTopic     INFO     Coverage matrix done\n"
     ]
    },
    {
     "name": "stdout",
     "output_type": "stream",
     "text": [
      "\u001b[2m\u001b[36m(compute_qc_stats_ray pid=26136)\u001b[0m 2022-11-16 19:27:12,150 cisTopic     INFO     Returning normalized TSS coverage matrix per barcode\n"
     ]
    },
    {
     "name": "stdout",
     "output_type": "stream",
     "text": [
      "\u001b[2m\u001b[36m(compute_qc_stats_ray pid=26135)\u001b[0m 2022-11-16 19:27:20,216 cisTopic     INFO     Coverage matrix done\n"
     ]
    },
    {
     "name": "stdout",
     "output_type": "stream",
     "text": [
      "\u001b[2m\u001b[36m(compute_qc_stats_ray pid=26136)\u001b[0m 2022-11-16 19:27:49,733 cisTopic     INFO     Returning normalized sample TSS enrichment data\n"
     ]
    },
    {
     "name": "stdout",
     "output_type": "stream",
     "text": [
      "\u001b[2m\u001b[36m(compute_qc_stats_ray pid=26136)\u001b[0m 2022-11-16 19:27:49,971 cisTopic     INFO     Computing FRIP profile for BIO_ddseq_m2c2.FULL.fragments.tsv.gz\n"
     ]
    },
    {
     "name": "stdout",
     "output_type": "stream",
     "text": [
      "\u001b[2m\u001b[36m(compute_qc_stats_ray pid=26136)\u001b[0m 2022-11-16 19:27:50,830 cisTopic     INFO     Counting fragments\n"
     ]
    },
    {
     "name": "stdout",
     "output_type": "stream",
     "text": [
      "\u001b[2m\u001b[36m(compute_qc_stats_ray pid=26137)\u001b[0m 2022-11-16 19:27:54,917 cisTopic     INFO     Coverage matrix done\n"
     ]
    },
    {
     "name": "stdout",
     "output_type": "stream",
     "text": [
      "\u001b[2m\u001b[36m(compute_qc_stats_ray pid=26136)\u001b[0m 2022-11-16 19:28:00,006 cisTopic     INFO     Intersecting fragments with regions\n"
     ]
    },
    {
     "name": "stdout",
     "output_type": "stream",
     "text": [
      "\u001b[2m\u001b[36m(compute_qc_stats_ray pid=26138)\u001b[0m 2022-11-16 19:28:12,044 cisTopic     INFO     Returning normalized TSS coverage matrix per barcode\n"
     ]
    },
    {
     "name": "stdout",
     "output_type": "stream",
     "text": [
      "\u001b[2m\u001b[36m(compute_qc_stats_ray pid=26136)\u001b[0m 2022-11-16 19:28:23,503 cisTopic     INFO     Sample BIO_ddseq_m2c2.FULL.fragments.tsv.gz done!\n"
     ]
    },
    {
     "name": "stdout",
     "output_type": "stream",
     "text": [
      "\u001b[2m\u001b[36m(compute_qc_stats_ray pid=26139)\u001b[0m 2022-11-16 19:28:24,028 cisTopic     INFO     Coverage matrix done\n"
     ]
    },
    {
     "name": "stdout",
     "output_type": "stream",
     "text": [
      "\u001b[2m\u001b[36m(compute_qc_stats_ray pid=26135)\u001b[0m 2022-11-16 19:28:28,536 cisTopic     INFO     Returning normalized TSS coverage matrix per barcode\n"
     ]
    },
    {
     "name": "stdout",
     "output_type": "stream",
     "text": [
      "\u001b[2m\u001b[36m(compute_qc_stats_ray pid=26137)\u001b[0m 2022-11-16 19:28:54,174 cisTopic     INFO     Returning normalized TSS coverage matrix per barcode\n"
     ]
    },
    {
     "name": "stdout",
     "output_type": "stream",
     "text": [
      "\u001b[2m\u001b[36m(compute_qc_stats_ray pid=26138)\u001b[0m 2022-11-16 19:29:03,686 cisTopic     INFO     Returning normalized sample TSS enrichment data\n",
      "\u001b[2m\u001b[36m(compute_qc_stats_ray pid=26138)\u001b[0m 2022-11-16 19:29:03,817 cisTopic     INFO     Computing FRIP profile for BIO_ddseq_m2c1.FULL.fragments.tsv.gz\n"
     ]
    },
    {
     "name": "stdout",
     "output_type": "stream",
     "text": [
      "\u001b[2m\u001b[36m(compute_qc_stats_ray pid=26138)\u001b[0m 2022-11-16 19:29:04,741 cisTopic     INFO     Counting fragments\n"
     ]
    },
    {
     "name": "stdout",
     "output_type": "stream",
     "text": [
      "\u001b[2m\u001b[36m(compute_qc_stats_ray pid=26135)\u001b[0m 2022-11-16 19:29:11,789 cisTopic     INFO     Returning normalized sample TSS enrichment data\n",
      "\u001b[2m\u001b[36m(compute_qc_stats_ray pid=26135)\u001b[0m 2022-11-16 19:29:11,930 cisTopic     INFO     Computing FRIP profile for BIO_ddseq_m1c7.FULL.fragments.tsv.gz\n"
     ]
    },
    {
     "name": "stdout",
     "output_type": "stream",
     "text": [
      "\u001b[2m\u001b[36m(compute_qc_stats_ray pid=26135)\u001b[0m 2022-11-16 19:29:12,750 cisTopic     INFO     Counting fragments\n"
     ]
    },
    {
     "name": "stdout",
     "output_type": "stream",
     "text": [
      "\u001b[2m\u001b[36m(compute_qc_stats_ray pid=26138)\u001b[0m 2022-11-16 19:29:15,296 cisTopic     INFO     Intersecting fragments with regions\n"
     ]
    },
    {
     "name": "stdout",
     "output_type": "stream",
     "text": [
      "\u001b[2m\u001b[36m(compute_qc_stats_ray pid=26135)\u001b[0m 2022-11-16 19:29:23,494 cisTopic     INFO     Intersecting fragments with regions\n"
     ]
    },
    {
     "name": "stdout",
     "output_type": "stream",
     "text": [
      "\u001b[2m\u001b[36m(compute_qc_stats_ray pid=26137)\u001b[0m 2022-11-16 19:29:33,583 cisTopic     INFO     Returning normalized sample TSS enrichment data\n",
      "\u001b[2m\u001b[36m(compute_qc_stats_ray pid=26137)\u001b[0m 2022-11-16 19:29:33,681 cisTopic     INFO     Computing FRIP profile for BIO_ddseq_m1c8.FULL.fragments.tsv.gz\n"
     ]
    },
    {
     "name": "stdout",
     "output_type": "stream",
     "text": [
      "\u001b[2m\u001b[36m(compute_qc_stats_ray pid=26137)\u001b[0m 2022-11-16 19:29:34,832 cisTopic     INFO     Counting fragments\n"
     ]
    },
    {
     "name": "stdout",
     "output_type": "stream",
     "text": [
      "\u001b[2m\u001b[36m(compute_qc_stats_ray pid=26138)\u001b[0m 2022-11-16 19:29:42,627 cisTopic     INFO     Sample BIO_ddseq_m2c1.FULL.fragments.tsv.gz done!\n"
     ]
    },
    {
     "name": "stdout",
     "output_type": "stream",
     "text": [
      "\u001b[2m\u001b[36m(compute_qc_stats_ray pid=26137)\u001b[0m 2022-11-16 19:29:48,449 cisTopic     INFO     Intersecting fragments with regions\n"
     ]
    },
    {
     "name": "stdout",
     "output_type": "stream",
     "text": [
      "\u001b[2m\u001b[36m(compute_qc_stats_ray pid=26139)\u001b[0m 2022-11-16 19:29:50,999 cisTopic     INFO     Returning normalized TSS coverage matrix per barcode\n"
     ]
    },
    {
     "name": "stdout",
     "output_type": "stream",
     "text": [
      "\u001b[2m\u001b[36m(compute_qc_stats_ray pid=26135)\u001b[0m 2022-11-16 19:29:53,467 cisTopic     INFO     Sample BIO_ddseq_m1c7.FULL.fragments.tsv.gz done!\n"
     ]
    },
    {
     "name": "stdout",
     "output_type": "stream",
     "text": [
      "\u001b[2m\u001b[36m(compute_qc_stats_ray pid=26137)\u001b[0m 2022-11-16 19:30:27,407 cisTopic     INFO     Sample BIO_ddseq_m1c8.FULL.fragments.tsv.gz done!\n"
     ]
    },
    {
     "name": "stdout",
     "output_type": "stream",
     "text": [
      "\u001b[2m\u001b[36m(compute_qc_stats_ray pid=26139)\u001b[0m 2022-11-16 19:30:47,225 cisTopic     INFO     Returning normalized sample TSS enrichment data\n",
      "\u001b[2m\u001b[36m(compute_qc_stats_ray pid=26139)\u001b[0m 2022-11-16 19:30:47,392 cisTopic     INFO     Computing FRIP profile for BIO_ddseq_m1c6.FULL.fragments.tsv.gz\n"
     ]
    },
    {
     "name": "stdout",
     "output_type": "stream",
     "text": [
      "\u001b[2m\u001b[36m(compute_qc_stats_ray pid=26139)\u001b[0m 2022-11-16 19:30:48,368 cisTopic     INFO     Counting fragments\n"
     ]
    },
    {
     "name": "stdout",
     "output_type": "stream",
     "text": [
      "\u001b[2m\u001b[36m(compute_qc_stats_ray pid=26139)\u001b[0m 2022-11-16 19:31:01,984 cisTopic     INFO     Intersecting fragments with regions\n"
     ]
    },
    {
     "name": "stdout",
     "output_type": "stream",
     "text": [
      "\u001b[2m\u001b[36m(compute_qc_stats_ray pid=26139)\u001b[0m 2022-11-16 19:31:42,754 cisTopic     INFO     Sample BIO_ddseq_m1c6.FULL.fragments.tsv.gz done!\n"
     ]
    },
    {
     "name": "stdout",
     "output_type": "stream",
     "text": [
      "Dumping files in /lustre1/project/stg_00090/scatac_benchmark/public_4_cistopic_consensus/cistopic_qc_out...\n"
     ]
    },
    {
     "name": "stderr",
     "output_type": "stream",
     "text": [
      "2022-11-16 19:36:23,238\tINFO worker.py:1509 -- Started a local Ray instance. View the dashboard at \u001b[1m\u001b[32mhttp://127.0.0.1:8265 \u001b[39m\u001b[22m\n"
     ]
    },
    {
     "name": "stdout",
     "output_type": "stream",
     "text": [
      "\u001b[2m\u001b[36m(compute_qc_stats_ray pid=10528)\u001b[0m 2022-11-16 19:36:26,623 cisTopic     INFO     Reading BIO_ddseq_m2c3.FULL.fragments.tsv.gz\n",
      "\u001b[2m\u001b[36m(compute_qc_stats_ray pid=10527)\u001b[0m 2022-11-16 19:36:26,708 cisTopic     INFO     Reading BIO_ddseq_m2c4.FULL.fragments.tsv.gz\n",
      "\u001b[2m\u001b[36m(compute_qc_stats_ray pid=10526)\u001b[0m 2022-11-16 19:36:26,749 cisTopic     INFO     Reading TXG_10xmultiome_e18mousebrainfresh.FULL.fragments.tsv.gz\n",
      "\u001b[2m\u001b[36m(compute_qc_stats_ray pid=10529)\u001b[0m 2022-11-16 19:36:26,733 cisTopic     INFO     Reading OHS_s3atac_mouse.FULL.fragments.tsv.gz\n",
      "\u001b[2m\u001b[36m(compute_qc_stats_ray pid=10525)\u001b[0m 2022-11-16 19:36:26,723 cisTopic     INFO     Reading TXG_10xv11_adultmousecortexchromiumx.FULL.fragments.tsv.gz\n"
     ]
    },
    {
     "name": "stdout",
     "output_type": "stream",
     "text": [
      "\u001b[2m\u001b[36m(compute_qc_stats_ray pid=10529)\u001b[0m 2022-11-16 19:37:06,962 cisTopic     INFO     Computing barcode rank plot for OHS_s3atac_mouse.FULL.fragments.tsv.gz\n",
      "\u001b[2m\u001b[36m(compute_qc_stats_ray pid=10529)\u001b[0m 2022-11-16 19:37:06,963 cisTopic     INFO     Counting fragments\n"
     ]
    },
    {
     "name": "stdout",
     "output_type": "stream",
     "text": [
      "\u001b[2m\u001b[36m(compute_qc_stats_ray pid=10529)\u001b[0m 2022-11-16 19:37:08,275 cisTopic     INFO     Marking barcodes with more than 10\n",
      "\u001b[2m\u001b[36m(compute_qc_stats_ray pid=10529)\u001b[0m 2022-11-16 19:37:08,276 cisTopic     INFO     Returning plot data\n",
      "\u001b[2m\u001b[36m(compute_qc_stats_ray pid=10529)\u001b[0m 2022-11-16 19:37:08,276 cisTopic     INFO     Returning valid barcodes\n"
     ]
    },
    {
     "name": "stdout",
     "output_type": "stream",
     "text": [
      "\u001b[2m\u001b[36m(compute_qc_stats_ray pid=10529)\u001b[0m 2022-11-16 19:37:10,582 cisTopic     INFO     Computing duplicate rate plot for OHS_s3atac_mouse.FULL.fragments.tsv.gz\n"
     ]
    },
    {
     "name": "stdout",
     "output_type": "stream",
     "text": [
      "\u001b[2m\u001b[36m(compute_qc_stats_ray pid=10529)\u001b[0m 2022-11-16 19:37:12,530 cisTopic     INFO     Return plot data\n",
      "\u001b[2m\u001b[36m(compute_qc_stats_ray pid=10529)\u001b[0m 2022-11-16 19:37:12,654 cisTopic     INFO     Computing insert size distribution for OHS_s3atac_mouse.FULL.fragments.tsv.gz\n",
      "\u001b[2m\u001b[36m(compute_qc_stats_ray pid=10529)\u001b[0m 2022-11-16 19:37:12,654 cisTopic     INFO     Counting fragments\n"
     ]
    },
    {
     "name": "stdout",
     "output_type": "stream",
     "text": [
      "\u001b[2m\u001b[36m(compute_qc_stats_ray pid=10529)\u001b[0m 2022-11-16 19:37:13,588 cisTopic     INFO     Returning plot data\n"
     ]
    },
    {
     "name": "stdout",
     "output_type": "stream",
     "text": [
      "\u001b[2m\u001b[36m(compute_qc_stats_ray pid=10529)\u001b[0m 2022-11-16 19:37:30,917 cisTopic     INFO     Computing TSS profile for OHS_s3atac_mouse.FULL.fragments.tsv.gz\n"
     ]
    },
    {
     "name": "stdout",
     "output_type": "stream",
     "text": [
      "\u001b[2m\u001b[36m(compute_qc_stats_ray pid=10529)\u001b[0m 2022-11-16 19:37:32,733 cisTopic     INFO     Formatting annnotation\n",
      "\u001b[2m\u001b[36m(compute_qc_stats_ray pid=10529)\u001b[0m 2022-11-16 19:37:32,775 cisTopic     INFO     Creating coverage matrix\n"
     ]
    },
    {
     "name": "stdout",
     "output_type": "stream",
     "text": [
      "\u001b[2m\u001b[36m(compute_qc_stats_ray pid=10527)\u001b[0m 2022-11-16 19:37:40,511 cisTopic     INFO     Computing barcode rank plot for BIO_ddseq_m2c4.FULL.fragments.tsv.gz\n",
      "\u001b[2m\u001b[36m(compute_qc_stats_ray pid=10527)\u001b[0m 2022-11-16 19:37:40,511 cisTopic     INFO     Counting fragments\n"
     ]
    },
    {
     "name": "stdout",
     "output_type": "stream",
     "text": [
      "\u001b[2m\u001b[36m(compute_qc_stats_ray pid=10527)\u001b[0m 2022-11-16 19:37:46,970 cisTopic     INFO     Marking barcodes with more than 10\n",
      "\u001b[2m\u001b[36m(compute_qc_stats_ray pid=10527)\u001b[0m 2022-11-16 19:37:47,106 cisTopic     INFO     Returning plot data\n"
     ]
    },
    {
     "name": "stdout",
     "output_type": "stream",
     "text": [
      "\u001b[2m\u001b[36m(compute_qc_stats_ray pid=10527)\u001b[0m 2022-11-16 19:37:47,118 cisTopic     INFO     Returning valid barcodes\n"
     ]
    },
    {
     "name": "stdout",
     "output_type": "stream",
     "text": [
      "\u001b[2m\u001b[36m(compute_qc_stats_ray pid=10527)\u001b[0m 2022-11-16 19:37:49,987 cisTopic     INFO     Computing duplicate rate plot for BIO_ddseq_m2c4.FULL.fragments.tsv.gz\n"
     ]
    },
    {
     "name": "stdout",
     "output_type": "stream",
     "text": [
      "\u001b[2m\u001b[36m(compute_qc_stats_ray pid=10529)\u001b[0m 2022-11-16 19:37:51,420 cisTopic     INFO     Coverage matrix done\n"
     ]
    },
    {
     "name": "stdout",
     "output_type": "stream",
     "text": [
      "\u001b[2m\u001b[36m(compute_qc_stats_ray pid=10529)\u001b[0m 2022-11-16 19:37:51,997 cisTopic     INFO     Returning normalized TSS coverage matrix per barcode\n"
     ]
    },
    {
     "name": "stdout",
     "output_type": "stream",
     "text": [
      "\u001b[2m\u001b[36m(compute_qc_stats_ray pid=10529)\u001b[0m 2022-11-16 19:37:52,329 cisTopic     INFO     Returning normalized sample TSS enrichment data\n",
      "\u001b[2m\u001b[36m(compute_qc_stats_ray pid=10529)\u001b[0m 2022-11-16 19:37:52,415 cisTopic     INFO     Computing FRIP profile for OHS_s3atac_mouse.FULL.fragments.tsv.gz\n"
     ]
    },
    {
     "name": "stdout",
     "output_type": "stream",
     "text": [
      "\u001b[2m\u001b[36m(compute_qc_stats_ray pid=10529)\u001b[0m 2022-11-16 19:37:53,654 cisTopic     INFO     Counting fragments\n"
     ]
    },
    {
     "name": "stdout",
     "output_type": "stream",
     "text": [
      "\u001b[2m\u001b[36m(compute_qc_stats_ray pid=10528)\u001b[0m 2022-11-16 19:37:57,394 cisTopic     INFO     Computing barcode rank plot for BIO_ddseq_m2c3.FULL.fragments.tsv.gz\n",
      "\u001b[2m\u001b[36m(compute_qc_stats_ray pid=10528)\u001b[0m 2022-11-16 19:37:57,395 cisTopic     INFO     Counting fragments\n"
     ]
    },
    {
     "name": "stdout",
     "output_type": "stream",
     "text": [
      "\u001b[2m\u001b[36m(compute_qc_stats_ray pid=10529)\u001b[0m 2022-11-16 19:37:57,863 cisTopic     INFO     Intersecting fragments with regions\n"
     ]
    },
    {
     "name": "stdout",
     "output_type": "stream",
     "text": [
      "\u001b[2m\u001b[36m(compute_qc_stats_ray pid=10527)\u001b[0m 2022-11-16 19:37:59,419 cisTopic     INFO     Return plot data\n",
      "\u001b[2m\u001b[36m(compute_qc_stats_ray pid=10527)\u001b[0m 2022-11-16 19:37:59,560 cisTopic     INFO     Computing insert size distribution for BIO_ddseq_m2c4.FULL.fragments.tsv.gz\n",
      "\u001b[2m\u001b[36m(compute_qc_stats_ray pid=10527)\u001b[0m 2022-11-16 19:37:59,561 cisTopic     INFO     Counting fragments\n"
     ]
    },
    {
     "name": "stdout",
     "output_type": "stream",
     "text": [
      "\u001b[2m\u001b[36m(compute_qc_stats_ray pid=10527)\u001b[0m 2022-11-16 19:38:00,597 cisTopic     INFO     Returning plot data\n"
     ]
    },
    {
     "name": "stdout",
     "output_type": "stream",
     "text": [
      "\u001b[2m\u001b[36m(compute_qc_stats_ray pid=10528)\u001b[0m 2022-11-16 19:38:05,198 cisTopic     INFO     Marking barcodes with more than 10\n",
      "\u001b[2m\u001b[36m(compute_qc_stats_ray pid=10528)\u001b[0m 2022-11-16 19:38:05,346 cisTopic     INFO     Returning plot data\n"
     ]
    },
    {
     "name": "stdout",
     "output_type": "stream",
     "text": [
      "\u001b[2m\u001b[36m(compute_qc_stats_ray pid=10528)\u001b[0m 2022-11-16 19:38:05,361 cisTopic     INFO     Returning valid barcodes\n"
     ]
    },
    {
     "name": "stdout",
     "output_type": "stream",
     "text": [
      "\u001b[2m\u001b[36m(compute_qc_stats_ray pid=10529)\u001b[0m 2022-11-16 19:38:07,122 cisTopic     INFO     Sample OHS_s3atac_mouse.FULL.fragments.tsv.gz done!\n"
     ]
    },
    {
     "name": "stdout",
     "output_type": "stream",
     "text": [
      "\u001b[2m\u001b[36m(compute_qc_stats_ray pid=10528)\u001b[0m 2022-11-16 19:38:08,822 cisTopic     INFO     Computing duplicate rate plot for BIO_ddseq_m2c3.FULL.fragments.tsv.gz\n"
     ]
    },
    {
     "name": "stdout",
     "output_type": "stream",
     "text": [
      "\u001b[2m\u001b[36m(compute_qc_stats_ray pid=10526)\u001b[0m 2022-11-16 19:38:11,268 cisTopic     INFO     Computing barcode rank plot for TXG_10xmultiome_e18mousebrainfresh.FULL.fragments.tsv.gz\n",
      "\u001b[2m\u001b[36m(compute_qc_stats_ray pid=10526)\u001b[0m 2022-11-16 19:38:11,268 cisTopic     INFO     Counting fragments\n"
     ]
    },
    {
     "name": "stdout",
     "output_type": "stream",
     "text": [
      "\u001b[2m\u001b[36m(compute_qc_stats_ray pid=10526)\u001b[0m 2022-11-16 19:38:16,815 cisTopic     INFO     Marking barcodes with more than 10\n",
      "\u001b[2m\u001b[36m(compute_qc_stats_ray pid=10526)\u001b[0m 2022-11-16 19:38:16,864 cisTopic     INFO     Returning plot data\n",
      "\u001b[2m\u001b[36m(compute_qc_stats_ray pid=10526)\u001b[0m 2022-11-16 19:38:16,882 cisTopic     INFO     Returning valid barcodes\n"
     ]
    },
    {
     "name": "stdout",
     "output_type": "stream",
     "text": [
      "\u001b[2m\u001b[36m(compute_qc_stats_ray pid=10528)\u001b[0m 2022-11-16 19:38:19,336 cisTopic     INFO     Return plot data\n"
     ]
    },
    {
     "name": "stdout",
     "output_type": "stream",
     "text": [
      "\u001b[2m\u001b[36m(compute_qc_stats_ray pid=10528)\u001b[0m 2022-11-16 19:38:19,550 cisTopic     INFO     Computing insert size distribution for BIO_ddseq_m2c3.FULL.fragments.tsv.gz\n",
      "\u001b[2m\u001b[36m(compute_qc_stats_ray pid=10528)\u001b[0m 2022-11-16 19:38:19,550 cisTopic     INFO     Counting fragments\n",
      "\u001b[2m\u001b[36m(compute_qc_stats_ray pid=10527)\u001b[0m 2022-11-16 19:38:19,539 cisTopic     INFO     Computing TSS profile for BIO_ddseq_m2c4.FULL.fragments.tsv.gz\n"
     ]
    },
    {
     "name": "stdout",
     "output_type": "stream",
     "text": [
      "\u001b[2m\u001b[36m(compute_qc_stats_ray pid=10528)\u001b[0m 2022-11-16 19:38:20,699 cisTopic     INFO     Returning plot data\n"
     ]
    },
    {
     "name": "stdout",
     "output_type": "stream",
     "text": [
      "\u001b[2m\u001b[36m(compute_qc_stats_ray pid=10526)\u001b[0m 2022-11-16 19:38:22,746 cisTopic     INFO     Computing duplicate rate plot for TXG_10xmultiome_e18mousebrainfresh.FULL.fragments.tsv.gz\n"
     ]
    },
    {
     "name": "stdout",
     "output_type": "stream",
     "text": [
      "\u001b[2m\u001b[36m(compute_qc_stats_ray pid=10527)\u001b[0m 2022-11-16 19:38:23,873 cisTopic     INFO     Formatting annnotation\n",
      "\u001b[2m\u001b[36m(compute_qc_stats_ray pid=10527)\u001b[0m 2022-11-16 19:38:23,916 cisTopic     INFO     Creating coverage matrix\n"
     ]
    },
    {
     "name": "stdout",
     "output_type": "stream",
     "text": [
      "\u001b[2m\u001b[36m(compute_qc_stats_ray pid=10526)\u001b[0m 2022-11-16 19:38:30,912 cisTopic     INFO     Return plot data\n"
     ]
    },
    {
     "name": "stdout",
     "output_type": "stream",
     "text": [
      "\u001b[2m\u001b[36m(compute_qc_stats_ray pid=10526)\u001b[0m 2022-11-16 19:38:31,069 cisTopic     INFO     Computing insert size distribution for TXG_10xmultiome_e18mousebrainfresh.FULL.fragments.tsv.gz\n",
      "\u001b[2m\u001b[36m(compute_qc_stats_ray pid=10526)\u001b[0m 2022-11-16 19:38:31,069 cisTopic     INFO     Counting fragments\n"
     ]
    },
    {
     "name": "stdout",
     "output_type": "stream",
     "text": [
      "\u001b[2m\u001b[36m(compute_qc_stats_ray pid=10526)\u001b[0m 2022-11-16 19:38:33,137 cisTopic     INFO     Returning plot data\n"
     ]
    },
    {
     "name": "stdout",
     "output_type": "stream",
     "text": [
      "\u001b[2m\u001b[36m(compute_qc_stats_ray pid=10528)\u001b[0m 2022-11-16 19:38:42,103 cisTopic     INFO     Computing TSS profile for BIO_ddseq_m2c3.FULL.fragments.tsv.gz\n"
     ]
    },
    {
     "name": "stdout",
     "output_type": "stream",
     "text": [
      "\u001b[2m\u001b[36m(compute_qc_stats_ray pid=10528)\u001b[0m 2022-11-16 19:38:47,458 cisTopic     INFO     Formatting annnotation\n",
      "\u001b[2m\u001b[36m(compute_qc_stats_ray pid=10528)\u001b[0m 2022-11-16 19:38:47,505 cisTopic     INFO     Creating coverage matrix\n"
     ]
    },
    {
     "name": "stdout",
     "output_type": "stream",
     "text": [
      "\u001b[2m\u001b[36m(compute_qc_stats_ray pid=10527)\u001b[0m 2022-11-16 19:39:16,101 cisTopic     INFO     Coverage matrix done\n"
     ]
    },
    {
     "name": "stdout",
     "output_type": "stream",
     "text": [
      "\u001b[2m\u001b[36m(compute_qc_stats_ray pid=10526)\u001b[0m 2022-11-16 19:39:17,140 cisTopic     INFO     Computing TSS profile for TXG_10xmultiome_e18mousebrainfresh.FULL.fragments.tsv.gz\n"
     ]
    },
    {
     "name": "stdout",
     "output_type": "stream",
     "text": [
      "\u001b[2m\u001b[36m(compute_qc_stats_ray pid=10526)\u001b[0m 2022-11-16 19:39:23,962 cisTopic     INFO     Formatting annnotation\n",
      "\u001b[2m\u001b[36m(compute_qc_stats_ray pid=10526)\u001b[0m 2022-11-16 19:39:24,010 cisTopic     INFO     Creating coverage matrix\n"
     ]
    },
    {
     "name": "stdout",
     "output_type": "stream",
     "text": [
      "\u001b[2m\u001b[36m(compute_qc_stats_ray pid=10528)\u001b[0m 2022-11-16 19:39:49,510 cisTopic     INFO     Coverage matrix done\n"
     ]
    },
    {
     "name": "stdout",
     "output_type": "stream",
     "text": [
      "\u001b[2m\u001b[36m(compute_qc_stats_ray pid=10527)\u001b[0m 2022-11-16 19:40:05,771 cisTopic     INFO     Returning normalized TSS coverage matrix per barcode\n"
     ]
    },
    {
     "name": "stdout",
     "output_type": "stream",
     "text": [
      "\u001b[2m\u001b[36m(compute_qc_stats_ray pid=10527)\u001b[0m 2022-11-16 19:40:38,018 cisTopic     INFO     Returning normalized sample TSS enrichment data\n",
      "\u001b[2m\u001b[36m(compute_qc_stats_ray pid=10527)\u001b[0m 2022-11-16 19:40:38,129 cisTopic     INFO     Computing FRIP profile for BIO_ddseq_m2c4.FULL.fragments.tsv.gz\n"
     ]
    },
    {
     "name": "stdout",
     "output_type": "stream",
     "text": [
      "\u001b[2m\u001b[36m(compute_qc_stats_ray pid=10527)\u001b[0m 2022-11-16 19:40:38,785 cisTopic     INFO     Counting fragments\n"
     ]
    },
    {
     "name": "stdout",
     "output_type": "stream",
     "text": [
      "\u001b[2m\u001b[36m(compute_qc_stats_ray pid=10528)\u001b[0m 2022-11-16 19:40:43,996 cisTopic     INFO     Returning normalized TSS coverage matrix per barcode\n"
     ]
    },
    {
     "name": "stdout",
     "output_type": "stream",
     "text": [
      "\u001b[2m\u001b[36m(compute_qc_stats_ray pid=10527)\u001b[0m 2022-11-16 19:40:44,665 cisTopic     INFO     Intersecting fragments with regions\n"
     ]
    },
    {
     "name": "stdout",
     "output_type": "stream",
     "text": [
      "\u001b[2m\u001b[36m(compute_qc_stats_ray pid=10527)\u001b[0m 2022-11-16 19:41:02,712 cisTopic     INFO     Sample BIO_ddseq_m2c4.FULL.fragments.tsv.gz done!\n"
     ]
    },
    {
     "name": "stdout",
     "output_type": "stream",
     "text": [
      "\u001b[2m\u001b[36m(compute_qc_stats_ray pid=10526)\u001b[0m 2022-11-16 19:41:08,302 cisTopic     INFO     Coverage matrix done\n"
     ]
    },
    {
     "name": "stdout",
     "output_type": "stream",
     "text": [
      "\u001b[2m\u001b[36m(compute_qc_stats_ray pid=10525)\u001b[0m 2022-11-16 19:41:14,321 cisTopic     INFO     Computing barcode rank plot for TXG_10xv11_adultmousecortexchromiumx.FULL.fragments.tsv.gz\n",
      "\u001b[2m\u001b[36m(compute_qc_stats_ray pid=10525)\u001b[0m 2022-11-16 19:41:14,321 cisTopic     INFO     Counting fragments\n"
     ]
    },
    {
     "name": "stdout",
     "output_type": "stream",
     "text": [
      "\u001b[2m\u001b[36m(compute_qc_stats_ray pid=10528)\u001b[0m 2022-11-16 19:41:19,311 cisTopic     INFO     Returning normalized sample TSS enrichment data\n",
      "\u001b[2m\u001b[36m(compute_qc_stats_ray pid=10528)\u001b[0m 2022-11-16 19:41:19,407 cisTopic     INFO     Computing FRIP profile for BIO_ddseq_m2c3.FULL.fragments.tsv.gz\n"
     ]
    },
    {
     "name": "stdout",
     "output_type": "stream",
     "text": [
      "\u001b[2m\u001b[36m(compute_qc_stats_ray pid=10528)\u001b[0m 2022-11-16 19:41:20,177 cisTopic     INFO     Counting fragments\n"
     ]
    },
    {
     "name": "stdout",
     "output_type": "stream",
     "text": [
      "\u001b[2m\u001b[36m(compute_qc_stats_ray pid=10525)\u001b[0m 2022-11-16 19:41:24,969 cisTopic     INFO     Marking barcodes with more than 10\n",
      "\u001b[2m\u001b[36m(compute_qc_stats_ray pid=10525)\u001b[0m 2022-11-16 19:41:25,027 cisTopic     INFO     Returning plot data\n",
      "\u001b[2m\u001b[36m(compute_qc_stats_ray pid=10525)\u001b[0m 2022-11-16 19:41:25,059 cisTopic     INFO     Returning valid barcodes\n"
     ]
    },
    {
     "name": "stdout",
     "output_type": "stream",
     "text": [
      "\u001b[2m\u001b[36m(compute_qc_stats_ray pid=10528)\u001b[0m 2022-11-16 19:41:26,898 cisTopic     INFO     Intersecting fragments with regions\n"
     ]
    },
    {
     "name": "stdout",
     "output_type": "stream",
     "text": [
      "\u001b[2m\u001b[36m(compute_qc_stats_ray pid=10525)\u001b[0m 2022-11-16 19:41:39,016 cisTopic     INFO     Computing duplicate rate plot for TXG_10xv11_adultmousecortexchromiumx.FULL.fragments.tsv.gz\n"
     ]
    },
    {
     "name": "stdout",
     "output_type": "stream",
     "text": [
      "\u001b[2m\u001b[36m(compute_qc_stats_ray pid=10528)\u001b[0m 2022-11-16 19:41:46,435 cisTopic     INFO     Sample BIO_ddseq_m2c3.FULL.fragments.tsv.gz done!\n"
     ]
    },
    {
     "name": "stdout",
     "output_type": "stream",
     "text": [
      "\u001b[2m\u001b[36m(compute_qc_stats_ray pid=10525)\u001b[0m 2022-11-16 19:41:55,597 cisTopic     INFO     Return plot data\n"
     ]
    },
    {
     "name": "stdout",
     "output_type": "stream",
     "text": [
      "\u001b[2m\u001b[36m(compute_qc_stats_ray pid=10525)\u001b[0m 2022-11-16 19:41:55,727 cisTopic     INFO     Computing insert size distribution for TXG_10xv11_adultmousecortexchromiumx.FULL.fragments.tsv.gz\n",
      "\u001b[2m\u001b[36m(compute_qc_stats_ray pid=10525)\u001b[0m 2022-11-16 19:41:55,727 cisTopic     INFO     Counting fragments\n"
     ]
    },
    {
     "name": "stdout",
     "output_type": "stream",
     "text": [
      "\u001b[2m\u001b[36m(compute_qc_stats_ray pid=10525)\u001b[0m 2022-11-16 19:42:00,631 cisTopic     INFO     Returning plot data\n"
     ]
    },
    {
     "name": "stdout",
     "output_type": "stream",
     "text": [
      "\u001b[2m\u001b[36m(compute_qc_stats_ray pid=10526)\u001b[0m 2022-11-16 19:42:03,628 cisTopic     INFO     Returning normalized TSS coverage matrix per barcode\n"
     ]
    },
    {
     "name": "stdout",
     "output_type": "stream",
     "text": [
      "\u001b[2m\u001b[36m(compute_qc_stats_ray pid=10526)\u001b[0m 2022-11-16 19:42:36,882 cisTopic     INFO     Returning normalized sample TSS enrichment data\n",
      "\u001b[2m\u001b[36m(compute_qc_stats_ray pid=10526)\u001b[0m 2022-11-16 19:42:36,981 cisTopic     INFO     Computing FRIP profile for TXG_10xmultiome_e18mousebrainfresh.FULL.fragments.tsv.gz\n"
     ]
    },
    {
     "name": "stdout",
     "output_type": "stream",
     "text": [
      "\u001b[2m\u001b[36m(compute_qc_stats_ray pid=10526)\u001b[0m 2022-11-16 19:42:37,535 cisTopic     INFO     Counting fragments\n"
     ]
    },
    {
     "name": "stdout",
     "output_type": "stream",
     "text": [
      "\u001b[2m\u001b[36m(compute_qc_stats_ray pid=10526)\u001b[0m 2022-11-16 19:42:47,210 cisTopic     INFO     Intersecting fragments with regions\n"
     ]
    },
    {
     "name": "stdout",
     "output_type": "stream",
     "text": [
      "\u001b[2m\u001b[36m(compute_qc_stats_ray pid=10526)\u001b[0m 2022-11-16 19:43:12,650 cisTopic     INFO     Sample TXG_10xmultiome_e18mousebrainfresh.FULL.fragments.tsv.gz done!\n"
     ]
    },
    {
     "name": "stdout",
     "output_type": "stream",
     "text": [
      "\u001b[2m\u001b[36m(compute_qc_stats_ray pid=10525)\u001b[0m 2022-11-16 19:43:45,822 cisTopic     INFO     Computing TSS profile for TXG_10xv11_adultmousecortexchromiumx.FULL.fragments.tsv.gz\n"
     ]
    },
    {
     "name": "stdout",
     "output_type": "stream",
     "text": [
      "\u001b[2m\u001b[36m(compute_qc_stats_ray pid=10525)\u001b[0m 2022-11-16 19:44:03,618 cisTopic     INFO     Formatting annnotation\n",
      "\u001b[2m\u001b[36m(compute_qc_stats_ray pid=10525)\u001b[0m 2022-11-16 19:44:03,668 cisTopic     INFO     Creating coverage matrix\n"
     ]
    },
    {
     "name": "stdout",
     "output_type": "stream",
     "text": [
      "\u001b[2m\u001b[36m(compute_qc_stats_ray pid=10525)\u001b[0m 2022-11-16 19:46:30,691 cisTopic     INFO     Coverage matrix done\n"
     ]
    },
    {
     "name": "stdout",
     "output_type": "stream",
     "text": [
      "\u001b[2m\u001b[36m(compute_qc_stats_ray pid=10525)\u001b[0m 2022-11-16 19:48:29,051 cisTopic     INFO     Returning normalized TSS coverage matrix per barcode\n"
     ]
    },
    {
     "name": "stdout",
     "output_type": "stream",
     "text": [
      "\u001b[2m\u001b[36m(compute_qc_stats_ray pid=10525)\u001b[0m 2022-11-16 19:49:40,433 cisTopic     INFO     Returning normalized sample TSS enrichment data\n",
      "\u001b[2m\u001b[36m(compute_qc_stats_ray pid=10525)\u001b[0m 2022-11-16 19:49:40,562 cisTopic     INFO     Computing FRIP profile for TXG_10xv11_adultmousecortexchromiumx.FULL.fragments.tsv.gz\n"
     ]
    },
    {
     "name": "stdout",
     "output_type": "stream",
     "text": [
      "\u001b[2m\u001b[36m(compute_qc_stats_ray pid=10525)\u001b[0m 2022-11-16 19:49:41,648 cisTopic     INFO     Counting fragments\n"
     ]
    },
    {
     "name": "stdout",
     "output_type": "stream",
     "text": [
      "\u001b[2m\u001b[36m(compute_qc_stats_ray pid=10525)\u001b[0m 2022-11-16 19:50:08,157 cisTopic     INFO     Intersecting fragments with regions\n"
     ]
    },
    {
     "name": "stdout",
     "output_type": "stream",
     "text": [
      "\u001b[2m\u001b[36m(compute_qc_stats_ray pid=10525)\u001b[0m 2022-11-16 19:51:15,694 cisTopic     INFO     Sample TXG_10xv11_adultmousecortexchromiumx.FULL.fragments.tsv.gz done!\n"
     ]
    },
    {
     "name": "stdout",
     "output_type": "stream",
     "text": [
      "Dumping files in /lustre1/project/stg_00090/scatac_benchmark/public_4_cistopic_consensus/cistopic_qc_out...\n"
     ]
    },
    {
     "name": "stderr",
     "output_type": "stream",
     "text": [
      "2022-11-16 19:54:58,513\tINFO worker.py:1509 -- Started a local Ray instance. View the dashboard at \u001b[1m\u001b[32mhttp://127.0.0.1:8265 \u001b[39m\u001b[22m\n"
     ]
    },
    {
     "name": "stdout",
     "output_type": "stream",
     "text": [
      "\u001b[2m\u001b[36m(compute_qc_stats_ray pid=18855)\u001b[0m 2022-11-16 19:55:01,925 cisTopic     INFO     Reading VIB_hydrop_1.FULL.fragments.tsv.gz\n",
      "\u001b[2m\u001b[36m(compute_qc_stats_ray pid=18852)\u001b[0m 2022-11-16 19:55:01,913 cisTopic     INFO     Reading TXG_10xv2_adultmousecortexchromiumx.FULL.fragments.tsv.gz\n",
      "\u001b[2m\u001b[36m(compute_qc_stats_ray pid=18854)\u001b[0m 2022-11-16 19:55:01,913 cisTopic     INFO     Reading TXG_10xv2_adultmousecortex.FULL.fragments.tsv.gz\n",
      "\u001b[2m\u001b[36m(compute_qc_stats_ray pid=18856)\u001b[0m 2022-11-16 19:55:01,953 cisTopic     INFO     Reading VIB_hydrop_2.FULL.fragments.tsv.gz\n",
      "\u001b[2m\u001b[36m(compute_qc_stats_ray pid=18853)\u001b[0m 2022-11-16 19:55:01,972 cisTopic     INFO     Reading TXG_10xv1_adultmousefresh.FULL.fragments.tsv.gz\n"
     ]
    },
    {
     "name": "stdout",
     "output_type": "stream",
     "text": [
      "\u001b[2m\u001b[36m(compute_qc_stats_ray pid=18853)\u001b[0m 2022-11-16 19:56:50,189 cisTopic     INFO     Computing barcode rank plot for TXG_10xv1_adultmousefresh.FULL.fragments.tsv.gz\n",
      "\u001b[2m\u001b[36m(compute_qc_stats_ray pid=18853)\u001b[0m 2022-11-16 19:56:50,190 cisTopic     INFO     Counting fragments\n"
     ]
    },
    {
     "name": "stdout",
     "output_type": "stream",
     "text": [
      "\u001b[2m\u001b[36m(compute_qc_stats_ray pid=18853)\u001b[0m 2022-11-16 19:56:54,967 cisTopic     INFO     Marking barcodes with more than 10\n",
      "\u001b[2m\u001b[36m(compute_qc_stats_ray pid=18853)\u001b[0m 2022-11-16 19:56:55,008 cisTopic     INFO     Returning plot data\n",
      "\u001b[2m\u001b[36m(compute_qc_stats_ray pid=18853)\u001b[0m 2022-11-16 19:56:55,022 cisTopic     INFO     Returning valid barcodes\n"
     ]
    },
    {
     "name": "stdout",
     "output_type": "stream",
     "text": [
      "\u001b[2m\u001b[36m(compute_qc_stats_ray pid=18853)\u001b[0m 2022-11-16 19:57:00,541 cisTopic     INFO     Computing duplicate rate plot for TXG_10xv1_adultmousefresh.FULL.fragments.tsv.gz\n"
     ]
    },
    {
     "name": "stdout",
     "output_type": "stream",
     "text": [
      "\u001b[2m\u001b[36m(compute_qc_stats_ray pid=18853)\u001b[0m 2022-11-16 19:57:07,493 cisTopic     INFO     Return plot data\n",
      "\u001b[2m\u001b[36m(compute_qc_stats_ray pid=18853)\u001b[0m 2022-11-16 19:57:07,634 cisTopic     INFO     Computing insert size distribution for TXG_10xv1_adultmousefresh.FULL.fragments.tsv.gz\n",
      "\u001b[2m\u001b[36m(compute_qc_stats_ray pid=18853)\u001b[0m 2022-11-16 19:57:07,634 cisTopic     INFO     Counting fragments\n"
     ]
    },
    {
     "name": "stdout",
     "output_type": "stream",
     "text": [
      "\u001b[2m\u001b[36m(compute_qc_stats_ray pid=18853)\u001b[0m 2022-11-16 19:57:09,713 cisTopic     INFO     Returning plot data\n"
     ]
    },
    {
     "name": "stdout",
     "output_type": "stream",
     "text": [
      "\u001b[2m\u001b[36m(compute_qc_stats_ray pid=18853)\u001b[0m 2022-11-16 19:57:52,801 cisTopic     INFO     Computing TSS profile for TXG_10xv1_adultmousefresh.FULL.fragments.tsv.gz\n"
     ]
    },
    {
     "name": "stdout",
     "output_type": "stream",
     "text": [
      "\u001b[2m\u001b[36m(compute_qc_stats_ray pid=18853)\u001b[0m 2022-11-16 19:57:59,237 cisTopic     INFO     Formatting annnotation\n",
      "\u001b[2m\u001b[36m(compute_qc_stats_ray pid=18853)\u001b[0m 2022-11-16 19:57:59,287 cisTopic     INFO     Creating coverage matrix\n"
     ]
    },
    {
     "name": "stdout",
     "output_type": "stream",
     "text": [
      "\u001b[2m\u001b[36m(compute_qc_stats_ray pid=18856)\u001b[0m 2022-11-16 19:58:24,725 cisTopic     INFO     Computing barcode rank plot for VIB_hydrop_2.FULL.fragments.tsv.gz\n",
      "\u001b[2m\u001b[36m(compute_qc_stats_ray pid=18856)\u001b[0m 2022-11-16 19:58:24,725 cisTopic     INFO     Counting fragments\n",
      "\u001b[2m\u001b[36m(compute_qc_stats_ray pid=18855)\u001b[0m 2022-11-16 19:58:24,654 cisTopic     INFO     Computing barcode rank plot for VIB_hydrop_1.FULL.fragments.tsv.gz\n",
      "\u001b[2m\u001b[36m(compute_qc_stats_ray pid=18855)\u001b[0m 2022-11-16 19:58:24,654 cisTopic     INFO     Counting fragments\n"
     ]
    },
    {
     "name": "stdout",
     "output_type": "stream",
     "text": [
      "\u001b[2m\u001b[36m(compute_qc_stats_ray pid=18856)\u001b[0m 2022-11-16 19:58:31,720 cisTopic     INFO     Marking barcodes with more than 10\n",
      "\u001b[2m\u001b[36m(compute_qc_stats_ray pid=18856)\u001b[0m 2022-11-16 19:58:31,804 cisTopic     INFO     Returning plot data\n"
     ]
    },
    {
     "name": "stdout",
     "output_type": "stream",
     "text": [
      "\u001b[2m\u001b[36m(compute_qc_stats_ray pid=18856)\u001b[0m 2022-11-16 19:58:31,969 cisTopic     INFO     Returning valid barcodes\n"
     ]
    },
    {
     "name": "stdout",
     "output_type": "stream",
     "text": [
      "\u001b[2m\u001b[36m(compute_qc_stats_ray pid=18855)\u001b[0m 2022-11-16 19:58:32,316 cisTopic     INFO     Marking barcodes with more than 10\n",
      "\u001b[2m\u001b[36m(compute_qc_stats_ray pid=18855)\u001b[0m 2022-11-16 19:58:32,396 cisTopic     INFO     Returning plot data\n"
     ]
    },
    {
     "name": "stdout",
     "output_type": "stream",
     "text": [
      "\u001b[2m\u001b[36m(compute_qc_stats_ray pid=18855)\u001b[0m 2022-11-16 19:58:32,557 cisTopic     INFO     Returning valid barcodes\n"
     ]
    },
    {
     "name": "stdout",
     "output_type": "stream",
     "text": [
      "\u001b[2m\u001b[36m(compute_qc_stats_ray pid=18856)\u001b[0m 2022-11-16 19:58:36,423 cisTopic     INFO     Computing duplicate rate plot for VIB_hydrop_2.FULL.fragments.tsv.gz\n"
     ]
    },
    {
     "name": "stdout",
     "output_type": "stream",
     "text": [
      "\u001b[2m\u001b[36m(compute_qc_stats_ray pid=18855)\u001b[0m 2022-11-16 19:58:37,419 cisTopic     INFO     Computing duplicate rate plot for VIB_hydrop_1.FULL.fragments.tsv.gz\n"
     ]
    },
    {
     "name": "stdout",
     "output_type": "stream",
     "text": [
      "\u001b[2m\u001b[36m(compute_qc_stats_ray pid=18856)\u001b[0m 2022-11-16 19:58:49,212 cisTopic     INFO     Return plot data\n",
      "\u001b[2m\u001b[36m(compute_qc_stats_ray pid=18855)\u001b[0m 2022-11-16 19:58:49,216 cisTopic     INFO     Return plot data\n",
      "\u001b[2m\u001b[36m(compute_qc_stats_ray pid=18856)\u001b[0m 2022-11-16 19:58:49,387 cisTopic     INFO     Computing insert size distribution for VIB_hydrop_2.FULL.fragments.tsv.gz\n",
      "\u001b[2m\u001b[36m(compute_qc_stats_ray pid=18856)\u001b[0m 2022-11-16 19:58:49,387 cisTopic     INFO     Counting fragments\n",
      "\u001b[2m\u001b[36m(compute_qc_stats_ray pid=18855)\u001b[0m 2022-11-16 19:58:49,384 cisTopic     INFO     Computing insert size distribution for VIB_hydrop_1.FULL.fragments.tsv.gz\n",
      "\u001b[2m\u001b[36m(compute_qc_stats_ray pid=18855)\u001b[0m 2022-11-16 19:58:49,385 cisTopic     INFO     Counting fragments\n"
     ]
    },
    {
     "name": "stdout",
     "output_type": "stream",
     "text": [
      "\u001b[2m\u001b[36m(compute_qc_stats_ray pid=18855)\u001b[0m 2022-11-16 19:58:50,665 cisTopic     INFO     Returning plot data\n"
     ]
    },
    {
     "name": "stdout",
     "output_type": "stream",
     "text": [
      "\u001b[2m\u001b[36m(compute_qc_stats_ray pid=18856)\u001b[0m 2022-11-16 19:58:50,888 cisTopic     INFO     Returning plot data\n"
     ]
    },
    {
     "name": "stdout",
     "output_type": "stream",
     "text": [
      "\u001b[2m\u001b[36m(compute_qc_stats_ray pid=18855)\u001b[0m 2022-11-16 19:59:18,643 cisTopic     INFO     Computing TSS profile for VIB_hydrop_1.FULL.fragments.tsv.gz\n"
     ]
    },
    {
     "name": "stdout",
     "output_type": "stream",
     "text": [
      "\u001b[2m\u001b[36m(compute_qc_stats_ray pid=18856)\u001b[0m 2022-11-16 19:59:25,876 cisTopic     INFO     Computing TSS profile for VIB_hydrop_2.FULL.fragments.tsv.gz\n"
     ]
    },
    {
     "name": "stdout",
     "output_type": "stream",
     "text": [
      "\u001b[2m\u001b[36m(compute_qc_stats_ray pid=18853)\u001b[0m 2022-11-16 19:59:26,408 cisTopic     INFO     Coverage matrix done\n"
     ]
    },
    {
     "name": "stdout",
     "output_type": "stream",
     "text": [
      "\u001b[2m\u001b[36m(compute_qc_stats_ray pid=18855)\u001b[0m 2022-11-16 19:59:35,871 cisTopic     INFO     Formatting annnotation\n",
      "\u001b[2m\u001b[36m(compute_qc_stats_ray pid=18855)\u001b[0m 2022-11-16 19:59:35,942 cisTopic     INFO     Creating coverage matrix\n"
     ]
    },
    {
     "name": "stdout",
     "output_type": "stream",
     "text": [
      "\u001b[2m\u001b[36m(compute_qc_stats_ray pid=18856)\u001b[0m 2022-11-16 19:59:44,094 cisTopic     INFO     Formatting annnotation\n",
      "\u001b[2m\u001b[36m(compute_qc_stats_ray pid=18856)\u001b[0m 2022-11-16 19:59:44,175 cisTopic     INFO     Creating coverage matrix\n"
     ]
    },
    {
     "name": "stdout",
     "output_type": "stream",
     "text": [
      "\u001b[2m\u001b[36m(compute_qc_stats_ray pid=18854)\u001b[0m 2022-11-16 19:59:57,502 cisTopic     INFO     Computing barcode rank plot for TXG_10xv2_adultmousecortex.FULL.fragments.tsv.gz\n",
      "\u001b[2m\u001b[36m(compute_qc_stats_ray pid=18854)\u001b[0m 2022-11-16 19:59:57,503 cisTopic     INFO     Counting fragments\n"
     ]
    },
    {
     "name": "stdout",
     "output_type": "stream",
     "text": [
      "\u001b[2m\u001b[36m(compute_qc_stats_ray pid=18854)\u001b[0m 2022-11-16 20:00:09,182 cisTopic     INFO     Marking barcodes with more than 10\n",
      "\u001b[2m\u001b[36m(compute_qc_stats_ray pid=18854)\u001b[0m 2022-11-16 20:00:09,242 cisTopic     INFO     Returning plot data\n"
     ]
    },
    {
     "name": "stdout",
     "output_type": "stream",
     "text": [
      "\u001b[2m\u001b[36m(compute_qc_stats_ray pid=18854)\u001b[0m 2022-11-16 20:00:09,325 cisTopic     INFO     Returning valid barcodes\n"
     ]
    },
    {
     "name": "stdout",
     "output_type": "stream",
     "text": [
      "\u001b[2m\u001b[36m(compute_qc_stats_ray pid=18852)\u001b[0m 2022-11-16 20:00:14,893 cisTopic     INFO     Computing barcode rank plot for TXG_10xv2_adultmousecortexchromiumx.FULL.fragments.tsv.gz\n",
      "\u001b[2m\u001b[36m(compute_qc_stats_ray pid=18852)\u001b[0m 2022-11-16 20:00:14,893 cisTopic     INFO     Counting fragments\n"
     ]
    },
    {
     "name": "stdout",
     "output_type": "stream",
     "text": [
      "\u001b[2m\u001b[36m(compute_qc_stats_ray pid=18854)\u001b[0m 2022-11-16 20:00:21,902 cisTopic     INFO     Computing duplicate rate plot for TXG_10xv2_adultmousecortex.FULL.fragments.tsv.gz\n"
     ]
    },
    {
     "name": "stderr",
     "output_type": "stream",
     "text": [
      "\u001b[2m\u001b[36m(compute_qc_stats_ray pid=18855)\u001b[0m /opt/venv/lib/python3.8/site-packages/pycisTopic/utils.py:326: PerformanceWarning: The following operation may generate 2584345925 cells in the resulting pandas object.\n",
      "\u001b[2m\u001b[36m(compute_qc_stats_ray pid=18855)\u001b[0m   TSS_matrix = cut_sites_TSS.groupby(\n"
     ]
    },
    {
     "name": "stdout",
     "output_type": "stream",
     "text": [
      "\u001b[2m\u001b[36m(compute_qc_stats_ray pid=18852)\u001b[0m 2022-11-16 20:00:27,637 cisTopic     INFO     Marking barcodes with more than 10\n",
      "\u001b[2m\u001b[36m(compute_qc_stats_ray pid=18852)\u001b[0m 2022-11-16 20:00:27,694 cisTopic     INFO     Returning plot data\n",
      "\u001b[2m\u001b[36m(compute_qc_stats_ray pid=18852)\u001b[0m 2022-11-16 20:00:27,733 cisTopic     INFO     Returning valid barcodes\n"
     ]
    },
    {
     "name": "stdout",
     "output_type": "stream",
     "text": [
      "\u001b[2m\u001b[36m(compute_qc_stats_ray pid=18853)\u001b[0m 2022-11-16 20:00:27,898 cisTopic     INFO     Returning normalized TSS coverage matrix per barcode\n"
     ]
    },
    {
     "name": "stderr",
     "output_type": "stream",
     "text": [
      "\u001b[2m\u001b[36m(compute_qc_stats_ray pid=18856)\u001b[0m /opt/venv/lib/python3.8/site-packages/pycisTopic/utils.py:326: PerformanceWarning: The following operation may generate 2609352175 cells in the resulting pandas object.\n",
      "\u001b[2m\u001b[36m(compute_qc_stats_ray pid=18856)\u001b[0m   TSS_matrix = cut_sites_TSS.groupby(\n"
     ]
    },
    {
     "name": "stdout",
     "output_type": "stream",
     "text": [
      "\u001b[2m\u001b[36m(compute_qc_stats_ray pid=18854)\u001b[0m 2022-11-16 20:00:38,354 cisTopic     INFO     Return plot data\n"
     ]
    },
    {
     "name": "stdout",
     "output_type": "stream",
     "text": [
      "\u001b[2m\u001b[36m(compute_qc_stats_ray pid=18854)\u001b[0m 2022-11-16 20:00:38,492 cisTopic     INFO     Computing insert size distribution for TXG_10xv2_adultmousecortex.FULL.fragments.tsv.gz\n",
      "\u001b[2m\u001b[36m(compute_qc_stats_ray pid=18854)\u001b[0m 2022-11-16 20:00:38,493 cisTopic     INFO     Counting fragments\n"
     ]
    },
    {
     "name": "stdout",
     "output_type": "stream",
     "text": [
      "\u001b[2m\u001b[36m(compute_qc_stats_ray pid=18852)\u001b[0m 2022-11-16 20:00:41,228 cisTopic     INFO     Computing duplicate rate plot for TXG_10xv2_adultmousecortexchromiumx.FULL.fragments.tsv.gz\n"
     ]
    },
    {
     "name": "stdout",
     "output_type": "stream",
     "text": [
      "\u001b[2m\u001b[36m(compute_qc_stats_ray pid=18854)\u001b[0m 2022-11-16 20:00:43,501 cisTopic     INFO     Returning plot data\n"
     ]
    },
    {
     "name": "stdout",
     "output_type": "stream",
     "text": [
      "\u001b[2m\u001b[36m(compute_qc_stats_ray pid=18852)\u001b[0m 2022-11-16 20:00:58,443 cisTopic     INFO     Return plot data\n",
      "\u001b[2m\u001b[36m(compute_qc_stats_ray pid=18852)\u001b[0m 2022-11-16 20:00:58,602 cisTopic     INFO     Computing insert size distribution for TXG_10xv2_adultmousecortexchromiumx.FULL.fragments.tsv.gz\n",
      "\u001b[2m\u001b[36m(compute_qc_stats_ray pid=18852)\u001b[0m 2022-11-16 20:00:58,602 cisTopic     INFO     Counting fragments\n"
     ]
    },
    {
     "name": "stdout",
     "output_type": "stream",
     "text": [
      "\u001b[2m\u001b[36m(compute_qc_stats_ray pid=18852)\u001b[0m 2022-11-16 20:01:03,570 cisTopic     INFO     Returning plot data\n"
     ]
    },
    {
     "name": "stdout",
     "output_type": "stream",
     "text": [
      "\u001b[2m\u001b[36m(compute_qc_stats_ray pid=18853)\u001b[0m 2022-11-16 20:01:06,721 cisTopic     INFO     Returning normalized sample TSS enrichment data\n",
      "\u001b[2m\u001b[36m(compute_qc_stats_ray pid=18853)\u001b[0m 2022-11-16 20:01:06,860 cisTopic     INFO     Computing FRIP profile for TXG_10xv1_adultmousefresh.FULL.fragments.tsv.gz\n"
     ]
    },
    {
     "name": "stdout",
     "output_type": "stream",
     "text": [
      "\u001b[2m\u001b[36m(compute_qc_stats_ray pid=18853)\u001b[0m 2022-11-16 20:01:07,827 cisTopic     INFO     Counting fragments\n"
     ]
    },
    {
     "name": "stdout",
     "output_type": "stream",
     "text": [
      "\u001b[2m\u001b[36m(compute_qc_stats_ray pid=18856)\u001b[0m 2022-11-16 20:01:10,542 cisTopic     INFO     Coverage matrix done\n"
     ]
    },
    {
     "name": "stdout",
     "output_type": "stream",
     "text": [
      "\u001b[2m\u001b[36m(compute_qc_stats_ray pid=18855)\u001b[0m 2022-11-16 20:01:13,888 cisTopic     INFO     Coverage matrix done\n"
     ]
    },
    {
     "name": "stdout",
     "output_type": "stream",
     "text": [
      "\u001b[2m\u001b[36m(compute_qc_stats_ray pid=18853)\u001b[0m 2022-11-16 20:01:18,690 cisTopic     INFO     Intersecting fragments with regions\n"
     ]
    },
    {
     "name": "stdout",
     "output_type": "stream",
     "text": [
      "\u001b[2m\u001b[36m(compute_qc_stats_ray pid=18853)\u001b[0m 2022-11-16 20:01:59,256 cisTopic     INFO     Sample TXG_10xv1_adultmousefresh.FULL.fragments.tsv.gz done!\n"
     ]
    },
    {
     "name": "stdout",
     "output_type": "stream",
     "text": [
      "\u001b[2m\u001b[36m(compute_qc_stats_ray pid=18854)\u001b[0m 2022-11-16 20:02:19,668 cisTopic     INFO     Computing TSS profile for TXG_10xv2_adultmousecortex.FULL.fragments.tsv.gz\n"
     ]
    },
    {
     "name": "stdout",
     "output_type": "stream",
     "text": [
      "\u001b[2m\u001b[36m(compute_qc_stats_ray pid=18854)\u001b[0m 2022-11-16 20:02:40,863 cisTopic     INFO     Formatting annnotation\n",
      "\u001b[2m\u001b[36m(compute_qc_stats_ray pid=18854)\u001b[0m 2022-11-16 20:02:40,921 cisTopic     INFO     Creating coverage matrix\n"
     ]
    },
    {
     "name": "stdout",
     "output_type": "stream",
     "text": [
      "\u001b[2m\u001b[36m(compute_qc_stats_ray pid=18852)\u001b[0m 2022-11-16 20:02:42,777 cisTopic     INFO     Computing TSS profile for TXG_10xv2_adultmousecortexchromiumx.FULL.fragments.tsv.gz\n"
     ]
    },
    {
     "name": "stdout",
     "output_type": "stream",
     "text": [
      "\u001b[2m\u001b[36m(compute_qc_stats_ray pid=18852)\u001b[0m 2022-11-16 20:03:04,227 cisTopic     INFO     Formatting annnotation\n",
      "\u001b[2m\u001b[36m(compute_qc_stats_ray pid=18852)\u001b[0m 2022-11-16 20:03:04,286 cisTopic     INFO     Creating coverage matrix\n"
     ]
    },
    {
     "name": "stdout",
     "output_type": "stream",
     "text": [
      "\u001b[2m\u001b[36m(compute_qc_stats_ray pid=18854)\u001b[0m 2022-11-16 20:05:19,908 cisTopic     INFO     Coverage matrix done\n"
     ]
    },
    {
     "name": "stdout",
     "output_type": "stream",
     "text": [
      "\u001b[2m\u001b[36m(compute_qc_stats_ray pid=18852)\u001b[0m 2022-11-16 20:05:41,148 cisTopic     INFO     Coverage matrix done\n"
     ]
    },
    {
     "name": "stdout",
     "output_type": "stream",
     "text": [
      "\u001b[2m\u001b[36m(compute_qc_stats_ray pid=18854)\u001b[0m 2022-11-16 20:07:12,451 cisTopic     INFO     Returning normalized TSS coverage matrix per barcode\n"
     ]
    },
    {
     "name": "stdout",
     "output_type": "stream",
     "text": [
      "\u001b[2m\u001b[36m(compute_qc_stats_ray pid=18852)\u001b[0m 2022-11-16 20:07:28,007 cisTopic     INFO     Returning normalized TSS coverage matrix per barcode\n"
     ]
    },
    {
     "name": "stdout",
     "output_type": "stream",
     "text": [
      "\u001b[2m\u001b[36m(compute_qc_stats_ray pid=18854)\u001b[0m 2022-11-16 20:08:22,493 cisTopic     INFO     Returning normalized sample TSS enrichment data\n",
      "\u001b[2m\u001b[36m(compute_qc_stats_ray pid=18854)\u001b[0m 2022-11-16 20:08:22,610 cisTopic     INFO     Computing FRIP profile for TXG_10xv2_adultmousecortex.FULL.fragments.tsv.gz\n"
     ]
    },
    {
     "name": "stdout",
     "output_type": "stream",
     "text": [
      "\u001b[2m\u001b[36m(compute_qc_stats_ray pid=18854)\u001b[0m 2022-11-16 20:08:24,065 cisTopic     INFO     Counting fragments\n"
     ]
    },
    {
     "name": "stdout",
     "output_type": "stream",
     "text": [
      "\u001b[2m\u001b[36m(compute_qc_stats_ray pid=18852)\u001b[0m 2022-11-16 20:08:34,105 cisTopic     INFO     Returning normalized sample TSS enrichment data\n",
      "\u001b[2m\u001b[36m(compute_qc_stats_ray pid=18852)\u001b[0m 2022-11-16 20:08:34,222 cisTopic     INFO     Computing FRIP profile for TXG_10xv2_adultmousecortexchromiumx.FULL.fragments.tsv.gz\n"
     ]
    },
    {
     "name": "stdout",
     "output_type": "stream",
     "text": [
      "\u001b[2m\u001b[36m(compute_qc_stats_ray pid=18852)\u001b[0m 2022-11-16 20:08:35,167 cisTopic     INFO     Counting fragments\n"
     ]
    },
    {
     "name": "stdout",
     "output_type": "stream",
     "text": [
      "\u001b[2m\u001b[36m(compute_qc_stats_ray pid=18854)\u001b[0m 2022-11-16 20:08:49,644 cisTopic     INFO     Intersecting fragments with regions\n"
     ]
    },
    {
     "name": "stdout",
     "output_type": "stream",
     "text": [
      "\u001b[2m\u001b[36m(compute_qc_stats_ray pid=18852)\u001b[0m 2022-11-16 20:09:00,002 cisTopic     INFO     Intersecting fragments with regions\n"
     ]
    },
    {
     "name": "stdout",
     "output_type": "stream",
     "text": [
      "\u001b[2m\u001b[36m(compute_qc_stats_ray pid=18855)\u001b[0m 2022-11-16 20:09:36,925 cisTopic     INFO     Returning normalized TSS coverage matrix per barcode\n"
     ]
    },
    {
     "name": "stdout",
     "output_type": "stream",
     "text": [
      "\u001b[2m\u001b[36m(compute_qc_stats_ray pid=18856)\u001b[0m 2022-11-16 20:09:55,081 cisTopic     INFO     Returning normalized TSS coverage matrix per barcode\n"
     ]
    },
    {
     "name": "stdout",
     "output_type": "stream",
     "text": [
      "\u001b[2m\u001b[36m(compute_qc_stats_ray pid=18854)\u001b[0m 2022-11-16 20:10:08,100 cisTopic     INFO     Sample TXG_10xv2_adultmousecortex.FULL.fragments.tsv.gz done!\n"
     ]
    },
    {
     "name": "stdout",
     "output_type": "stream",
     "text": [
      "\u001b[2m\u001b[36m(compute_qc_stats_ray pid=18852)\u001b[0m 2022-11-16 20:10:17,051 cisTopic     INFO     Sample TXG_10xv2_adultmousecortexchromiumx.FULL.fragments.tsv.gz done!\n"
     ]
    },
    {
     "name": "stdout",
     "output_type": "stream",
     "text": [
      "\u001b[2m\u001b[36m(compute_qc_stats_ray pid=18855)\u001b[0m 2022-11-16 20:14:25,118 cisTopic     INFO     Returning normalized sample TSS enrichment data\n"
     ]
    },
    {
     "name": "stdout",
     "output_type": "stream",
     "text": [
      "\u001b[2m\u001b[36m(compute_qc_stats_ray pid=18855)\u001b[0m 2022-11-16 20:14:25,363 cisTopic     INFO     Computing FRIP profile for VIB_hydrop_1.FULL.fragments.tsv.gz\n"
     ]
    },
    {
     "name": "stdout",
     "output_type": "stream",
     "text": [
      "\u001b[2m\u001b[36m(compute_qc_stats_ray pid=18855)\u001b[0m 2022-11-16 20:14:26,712 cisTopic     INFO     Counting fragments\n"
     ]
    },
    {
     "name": "stdout",
     "output_type": "stream",
     "text": [
      "\u001b[2m\u001b[36m(compute_qc_stats_ray pid=18855)\u001b[0m 2022-11-16 20:14:35,753 cisTopic     INFO     Intersecting fragments with regions\n"
     ]
    },
    {
     "name": "stdout",
     "output_type": "stream",
     "text": [
      "\u001b[2m\u001b[36m(compute_qc_stats_ray pid=18856)\u001b[0m 2022-11-16 20:14:48,582 cisTopic     INFO     Returning normalized sample TSS enrichment data\n"
     ]
    },
    {
     "name": "stdout",
     "output_type": "stream",
     "text": [
      "\u001b[2m\u001b[36m(compute_qc_stats_ray pid=18856)\u001b[0m 2022-11-16 20:14:48,812 cisTopic     INFO     Computing FRIP profile for VIB_hydrop_2.FULL.fragments.tsv.gz\n"
     ]
    },
    {
     "name": "stdout",
     "output_type": "stream",
     "text": [
      "\u001b[2m\u001b[36m(compute_qc_stats_ray pid=18856)\u001b[0m 2022-11-16 20:14:49,650 cisTopic     INFO     Counting fragments\n"
     ]
    },
    {
     "name": "stdout",
     "output_type": "stream",
     "text": [
      "\u001b[2m\u001b[36m(compute_qc_stats_ray pid=18855)\u001b[0m 2022-11-16 20:14:52,532 cisTopic     INFO     Sample VIB_hydrop_1.FULL.fragments.tsv.gz done!\n"
     ]
    },
    {
     "name": "stdout",
     "output_type": "stream",
     "text": [
      "\u001b[2m\u001b[36m(compute_qc_stats_ray pid=18856)\u001b[0m 2022-11-16 20:14:58,053 cisTopic     INFO     Intersecting fragments with regions\n"
     ]
    },
    {
     "name": "stdout",
     "output_type": "stream",
     "text": [
      "\u001b[2m\u001b[36m(compute_qc_stats_ray pid=18856)\u001b[0m 2022-11-16 20:15:12,022 cisTopic     INFO     Sample VIB_hydrop_2.FULL.fragments.tsv.gz done!\n"
     ]
    },
    {
     "name": "stdout",
     "output_type": "stream",
     "text": [
      "Dumping files in /lustre1/project/stg_00090/scatac_benchmark/public_4_cistopic_consensus/cistopic_qc_out...\n"
     ]
    },
    {
     "name": "stdout",
     "output_type": "stream",
     "text": [
      "2022-11-16 20:24:21,136 cisTopic     INFO     n_cpu is larger than the number of samples. Setting n_cpu to the number of samples\n"
     ]
    },
    {
     "name": "stderr",
     "output_type": "stream",
     "text": [
      "2022-11-16 20:24:24,548\tINFO worker.py:1509 -- Started a local Ray instance. View the dashboard at \u001b[1m\u001b[32mhttp://127.0.0.1:8265 \u001b[39m\u001b[22m\n"
     ]
    },
    {
     "name": "stdout",
     "output_type": "stream",
     "text": [
      "\u001b[2m\u001b[36m(compute_qc_stats_ray pid=35308)\u001b[0m 2022-11-16 20:24:27,766 cisTopic     INFO     Reading VIB_hydrop_5.FULL.fragments.tsv.gz\n",
      "\u001b[2m\u001b[36m(compute_qc_stats_ray pid=35309)\u001b[0m 2022-11-16 20:24:27,778 cisTopic     INFO     Reading VIB_hydrop_3.FULL.fragments.tsv.gz\n",
      "\u001b[2m\u001b[36m(compute_qc_stats_ray pid=35307)\u001b[0m 2022-11-16 20:24:27,894 cisTopic     INFO     Reading VIB_hydrop_4.FULL.fragments.tsv.gz\n"
     ]
    },
    {
     "name": "stdout",
     "output_type": "stream",
     "text": [
      "\u001b[2m\u001b[36m(compute_qc_stats_ray pid=35307)\u001b[0m 2022-11-16 20:27:46,834 cisTopic     INFO     Computing barcode rank plot for VIB_hydrop_4.FULL.fragments.tsv.gz\n",
      "\u001b[2m\u001b[36m(compute_qc_stats_ray pid=35307)\u001b[0m 2022-11-16 20:27:46,835 cisTopic     INFO     Counting fragments\n"
     ]
    },
    {
     "name": "stdout",
     "output_type": "stream",
     "text": [
      "\u001b[2m\u001b[36m(compute_qc_stats_ray pid=35308)\u001b[0m 2022-11-16 20:27:48,359 cisTopic     INFO     Computing barcode rank plot for VIB_hydrop_5.FULL.fragments.tsv.gz\n",
      "\u001b[2m\u001b[36m(compute_qc_stats_ray pid=35308)\u001b[0m 2022-11-16 20:27:48,359 cisTopic     INFO     Counting fragments\n"
     ]
    },
    {
     "name": "stdout",
     "output_type": "stream",
     "text": [
      "\u001b[2m\u001b[36m(compute_qc_stats_ray pid=35307)\u001b[0m 2022-11-16 20:27:54,137 cisTopic     INFO     Marking barcodes with more than 10\n",
      "\u001b[2m\u001b[36m(compute_qc_stats_ray pid=35307)\u001b[0m 2022-11-16 20:27:54,214 cisTopic     INFO     Returning plot data\n"
     ]
    },
    {
     "name": "stdout",
     "output_type": "stream",
     "text": [
      "\u001b[2m\u001b[36m(compute_qc_stats_ray pid=35307)\u001b[0m 2022-11-16 20:27:54,364 cisTopic     INFO     Returning valid barcodes\n"
     ]
    },
    {
     "name": "stdout",
     "output_type": "stream",
     "text": [
      "\u001b[2m\u001b[36m(compute_qc_stats_ray pid=35308)\u001b[0m 2022-11-16 20:27:55,140 cisTopic     INFO     Marking barcodes with more than 10\n",
      "\u001b[2m\u001b[36m(compute_qc_stats_ray pid=35308)\u001b[0m 2022-11-16 20:27:55,221 cisTopic     INFO     Returning plot data\n"
     ]
    },
    {
     "name": "stdout",
     "output_type": "stream",
     "text": [
      "\u001b[2m\u001b[36m(compute_qc_stats_ray pid=35308)\u001b[0m 2022-11-16 20:27:55,401 cisTopic     INFO     Returning valid barcodes\n"
     ]
    },
    {
     "name": "stdout",
     "output_type": "stream",
     "text": [
      "\u001b[2m\u001b[36m(compute_qc_stats_ray pid=35307)\u001b[0m 2022-11-16 20:27:59,125 cisTopic     INFO     Computing duplicate rate plot for VIB_hydrop_4.FULL.fragments.tsv.gz\n"
     ]
    },
    {
     "name": "stdout",
     "output_type": "stream",
     "text": [
      "\u001b[2m\u001b[36m(compute_qc_stats_ray pid=35308)\u001b[0m 2022-11-16 20:27:59,663 cisTopic     INFO     Computing duplicate rate plot for VIB_hydrop_5.FULL.fragments.tsv.gz\n"
     ]
    },
    {
     "name": "stdout",
     "output_type": "stream",
     "text": [
      "\u001b[2m\u001b[36m(compute_qc_stats_ray pid=35307)\u001b[0m 2022-11-16 20:28:10,292 cisTopic     INFO     Return plot data\n"
     ]
    },
    {
     "name": "stdout",
     "output_type": "stream",
     "text": [
      "\u001b[2m\u001b[36m(compute_qc_stats_ray pid=35307)\u001b[0m 2022-11-16 20:28:10,465 cisTopic     INFO     Computing insert size distribution for VIB_hydrop_4.FULL.fragments.tsv.gz\n",
      "\u001b[2m\u001b[36m(compute_qc_stats_ray pid=35307)\u001b[0m 2022-11-16 20:28:10,466 cisTopic     INFO     Counting fragments\n"
     ]
    },
    {
     "name": "stdout",
     "output_type": "stream",
     "text": [
      "\u001b[2m\u001b[36m(compute_qc_stats_ray pid=35307)\u001b[0m 2022-11-16 20:28:11,736 cisTopic     INFO     Returning plot data\n"
     ]
    },
    {
     "name": "stdout",
     "output_type": "stream",
     "text": [
      "\u001b[2m\u001b[36m(compute_qc_stats_ray pid=35308)\u001b[0m 2022-11-16 20:28:14,236 cisTopic     INFO     Return plot data\n"
     ]
    },
    {
     "name": "stdout",
     "output_type": "stream",
     "text": [
      "\u001b[2m\u001b[36m(compute_qc_stats_ray pid=35308)\u001b[0m 2022-11-16 20:28:14,406 cisTopic     INFO     Computing insert size distribution for VIB_hydrop_5.FULL.fragments.tsv.gz\n",
      "\u001b[2m\u001b[36m(compute_qc_stats_ray pid=35308)\u001b[0m 2022-11-16 20:28:14,406 cisTopic     INFO     Counting fragments\n"
     ]
    },
    {
     "name": "stdout",
     "output_type": "stream",
     "text": [
      "\u001b[2m\u001b[36m(compute_qc_stats_ray pid=35308)\u001b[0m 2022-11-16 20:28:15,629 cisTopic     INFO     Returning plot data\n"
     ]
    },
    {
     "name": "stdout",
     "output_type": "stream",
     "text": [
      "\u001b[2m\u001b[36m(compute_qc_stats_ray pid=35309)\u001b[0m 2022-11-16 20:28:29,203 cisTopic     INFO     Computing barcode rank plot for VIB_hydrop_3.FULL.fragments.tsv.gz\n",
      "\u001b[2m\u001b[36m(compute_qc_stats_ray pid=35309)\u001b[0m 2022-11-16 20:28:29,203 cisTopic     INFO     Counting fragments\n"
     ]
    },
    {
     "name": "stdout",
     "output_type": "stream",
     "text": [
      "\u001b[2m\u001b[36m(compute_qc_stats_ray pid=35309)\u001b[0m 2022-11-16 20:28:38,962 cisTopic     INFO     Marking barcodes with more than 10\n",
      "\u001b[2m\u001b[36m(compute_qc_stats_ray pid=35309)\u001b[0m 2022-11-16 20:28:39,045 cisTopic     INFO     Returning plot data\n",
      "\u001b[2m\u001b[36m(compute_qc_stats_ray pid=35307)\u001b[0m 2022-11-16 20:28:39,090 cisTopic     INFO     Computing TSS profile for VIB_hydrop_4.FULL.fragments.tsv.gz\n"
     ]
    },
    {
     "name": "stdout",
     "output_type": "stream",
     "text": [
      "\u001b[2m\u001b[36m(compute_qc_stats_ray pid=35309)\u001b[0m 2022-11-16 20:28:39,391 cisTopic     INFO     Returning valid barcodes\n"
     ]
    },
    {
     "name": "stdout",
     "output_type": "stream",
     "text": [
      "\u001b[2m\u001b[36m(compute_qc_stats_ray pid=35309)\u001b[0m 2022-11-16 20:28:45,098 cisTopic     INFO     Computing duplicate rate plot for VIB_hydrop_3.FULL.fragments.tsv.gz\n"
     ]
    },
    {
     "name": "stdout",
     "output_type": "stream",
     "text": [
      "\u001b[2m\u001b[36m(compute_qc_stats_ray pid=35308)\u001b[0m 2022-11-16 20:28:47,002 cisTopic     INFO     Computing TSS profile for VIB_hydrop_5.FULL.fragments.tsv.gz\n"
     ]
    },
    {
     "name": "stdout",
     "output_type": "stream",
     "text": [
      "\u001b[2m\u001b[36m(compute_qc_stats_ray pid=35307)\u001b[0m 2022-11-16 20:28:53,755 cisTopic     INFO     Formatting annnotation\n",
      "\u001b[2m\u001b[36m(compute_qc_stats_ray pid=35307)\u001b[0m 2022-11-16 20:28:53,824 cisTopic     INFO     Creating coverage matrix\n"
     ]
    },
    {
     "name": "stdout",
     "output_type": "stream",
     "text": [
      "\u001b[2m\u001b[36m(compute_qc_stats_ray pid=35309)\u001b[0m 2022-11-16 20:28:59,063 cisTopic     INFO     Return plot data\n"
     ]
    },
    {
     "name": "stdout",
     "output_type": "stream",
     "text": [
      "\u001b[2m\u001b[36m(compute_qc_stats_ray pid=35309)\u001b[0m 2022-11-16 20:28:59,238 cisTopic     INFO     Computing insert size distribution for VIB_hydrop_3.FULL.fragments.tsv.gz\n",
      "\u001b[2m\u001b[36m(compute_qc_stats_ray pid=35309)\u001b[0m 2022-11-16 20:28:59,238 cisTopic     INFO     Counting fragments\n"
     ]
    },
    {
     "name": "stdout",
     "output_type": "stream",
     "text": [
      "\u001b[2m\u001b[36m(compute_qc_stats_ray pid=35309)\u001b[0m 2022-11-16 20:29:00,587 cisTopic     INFO     Returning plot data\n"
     ]
    },
    {
     "name": "stdout",
     "output_type": "stream",
     "text": [
      "\u001b[2m\u001b[36m(compute_qc_stats_ray pid=35308)\u001b[0m 2022-11-16 20:29:04,411 cisTopic     INFO     Formatting annnotation\n",
      "\u001b[2m\u001b[36m(compute_qc_stats_ray pid=35308)\u001b[0m 2022-11-16 20:29:04,486 cisTopic     INFO     Creating coverage matrix\n"
     ]
    },
    {
     "name": "stdout",
     "output_type": "stream",
     "text": [
      "\u001b[2m\u001b[36m(compute_qc_stats_ray pid=35309)\u001b[0m 2022-11-16 20:29:38,335 cisTopic     INFO     Computing TSS profile for VIB_hydrop_3.FULL.fragments.tsv.gz\n"
     ]
    },
    {
     "name": "stderr",
     "output_type": "stream",
     "text": [
      "\u001b[2m\u001b[36m(compute_qc_stats_ray pid=35307)\u001b[0m /opt/venv/lib/python3.8/site-packages/pycisTopic/utils.py:326: PerformanceWarning: The following operation may generate 2698778526 cells in the resulting pandas object.\n",
      "\u001b[2m\u001b[36m(compute_qc_stats_ray pid=35307)\u001b[0m   TSS_matrix = cut_sites_TSS.groupby(\n"
     ]
    },
    {
     "name": "stderr",
     "output_type": "stream",
     "text": [
      "\u001b[2m\u001b[36m(compute_qc_stats_ray pid=35308)\u001b[0m /opt/venv/lib/python3.8/site-packages/pycisTopic/utils.py:326: PerformanceWarning: The following operation may generate 2853229129 cells in the resulting pandas object.\n",
      "\u001b[2m\u001b[36m(compute_qc_stats_ray pid=35308)\u001b[0m   TSS_matrix = cut_sites_TSS.groupby(\n"
     ]
    },
    {
     "name": "stdout",
     "output_type": "stream",
     "text": [
      "\u001b[2m\u001b[36m(compute_qc_stats_ray pid=35309)\u001b[0m 2022-11-16 20:29:59,339 cisTopic     INFO     Formatting annnotation\n",
      "\u001b[2m\u001b[36m(compute_qc_stats_ray pid=35309)\u001b[0m 2022-11-16 20:29:59,420 cisTopic     INFO     Creating coverage matrix\n"
     ]
    },
    {
     "name": "stdout",
     "output_type": "stream",
     "text": [
      "\u001b[2m\u001b[36m(compute_qc_stats_ray pid=35307)\u001b[0m 2022-11-16 20:30:35,930 cisTopic     INFO     Coverage matrix done\n"
     ]
    },
    {
     "name": "stdout",
     "output_type": "stream",
     "text": [
      "\u001b[2m\u001b[36m(compute_qc_stats_ray pid=35308)\u001b[0m 2022-11-16 20:30:40,717 cisTopic     INFO     Coverage matrix done\n"
     ]
    },
    {
     "name": "stderr",
     "output_type": "stream",
     "text": [
      "\u001b[2m\u001b[36m(compute_qc_stats_ray pid=35309)\u001b[0m /opt/venv/lib/python3.8/site-packages/pycisTopic/utils.py:326: PerformanceWarning: The following operation may generate 2918541453 cells in the resulting pandas object.\n",
      "\u001b[2m\u001b[36m(compute_qc_stats_ray pid=35309)\u001b[0m   TSS_matrix = cut_sites_TSS.groupby(\n"
     ]
    },
    {
     "name": "stdout",
     "output_type": "stream",
     "text": [
      "\u001b[2m\u001b[36m(compute_qc_stats_ray pid=35309)\u001b[0m 2022-11-16 20:32:03,540 cisTopic     INFO     Coverage matrix done\n"
     ]
    },
    {
     "name": "stdout",
     "output_type": "stream",
     "text": [
      "\u001b[2m\u001b[36m(compute_qc_stats_ray pid=35307)\u001b[0m 2022-11-16 20:39:04,847 cisTopic     INFO     Returning normalized TSS coverage matrix per barcode\n"
     ]
    },
    {
     "name": "stdout",
     "output_type": "stream",
     "text": [
      "\u001b[2m\u001b[36m(compute_qc_stats_ray pid=35308)\u001b[0m 2022-11-16 20:40:03,262 cisTopic     INFO     Returning normalized TSS coverage matrix per barcode\n"
     ]
    },
    {
     "name": "stdout",
     "output_type": "stream",
     "text": [
      "\u001b[2m\u001b[36m(compute_qc_stats_ray pid=35309)\u001b[0m 2022-11-16 20:41:22,047 cisTopic     INFO     Returning normalized TSS coverage matrix per barcode\n"
     ]
    },
    {
     "name": "stdout",
     "output_type": "stream",
     "text": [
      "\u001b[2m\u001b[36m(compute_qc_stats_ray pid=35307)\u001b[0m 2022-11-16 20:44:15,833 cisTopic     INFO     Returning normalized sample TSS enrichment data\n"
     ]
    },
    {
     "name": "stdout",
     "output_type": "stream",
     "text": [
      "\u001b[2m\u001b[36m(compute_qc_stats_ray pid=35307)\u001b[0m 2022-11-16 20:44:16,149 cisTopic     INFO     Computing FRIP profile for VIB_hydrop_4.FULL.fragments.tsv.gz\n"
     ]
    },
    {
     "name": "stdout",
     "output_type": "stream",
     "text": [
      "\u001b[2m\u001b[36m(compute_qc_stats_ray pid=35307)\u001b[0m 2022-11-16 20:44:17,239 cisTopic     INFO     Counting fragments\n"
     ]
    },
    {
     "name": "stdout",
     "output_type": "stream",
     "text": [
      "\u001b[2m\u001b[36m(compute_qc_stats_ray pid=35307)\u001b[0m 2022-11-16 20:44:28,190 cisTopic     INFO     Intersecting fragments with regions\n"
     ]
    },
    {
     "name": "stdout",
     "output_type": "stream",
     "text": [
      "\u001b[2m\u001b[36m(compute_qc_stats_ray pid=35307)\u001b[0m 2022-11-16 20:44:42,429 cisTopic     INFO     Sample VIB_hydrop_4.FULL.fragments.tsv.gz done!\n"
     ]
    },
    {
     "name": "stdout",
     "output_type": "stream",
     "text": [
      "\u001b[2m\u001b[36m(compute_qc_stats_ray pid=35308)\u001b[0m 2022-11-16 20:45:32,343 cisTopic     INFO     Returning normalized sample TSS enrichment data\n"
     ]
    },
    {
     "name": "stdout",
     "output_type": "stream",
     "text": [
      "\u001b[2m\u001b[36m(compute_qc_stats_ray pid=35308)\u001b[0m 2022-11-16 20:45:32,598 cisTopic     INFO     Computing FRIP profile for VIB_hydrop_5.FULL.fragments.tsv.gz\n"
     ]
    },
    {
     "name": "stdout",
     "output_type": "stream",
     "text": [
      "\u001b[2m\u001b[36m(compute_qc_stats_ray pid=35308)\u001b[0m 2022-11-16 20:45:33,422 cisTopic     INFO     Counting fragments\n"
     ]
    },
    {
     "name": "stdout",
     "output_type": "stream",
     "text": [
      "\u001b[2m\u001b[36m(compute_qc_stats_ray pid=35308)\u001b[0m 2022-11-16 20:45:42,673 cisTopic     INFO     Intersecting fragments with regions\n"
     ]
    },
    {
     "name": "stdout",
     "output_type": "stream",
     "text": [
      "\u001b[2m\u001b[36m(compute_qc_stats_ray pid=35308)\u001b[0m 2022-11-16 20:45:58,340 cisTopic     INFO     Sample VIB_hydrop_5.FULL.fragments.tsv.gz done!\n"
     ]
    },
    {
     "name": "stdout",
     "output_type": "stream",
     "text": [
      "\u001b[2m\u001b[36m(compute_qc_stats_ray pid=35309)\u001b[0m 2022-11-16 20:47:16,059 cisTopic     INFO     Returning normalized sample TSS enrichment data\n"
     ]
    },
    {
     "name": "stdout",
     "output_type": "stream",
     "text": [
      "\u001b[2m\u001b[36m(compute_qc_stats_ray pid=35309)\u001b[0m 2022-11-16 20:47:16,320 cisTopic     INFO     Computing FRIP profile for VIB_hydrop_3.FULL.fragments.tsv.gz\n"
     ]
    },
    {
     "name": "stdout",
     "output_type": "stream",
     "text": [
      "\u001b[2m\u001b[36m(compute_qc_stats_ray pid=35309)\u001b[0m 2022-11-16 20:47:17,418 cisTopic     INFO     Counting fragments\n"
     ]
    },
    {
     "name": "stdout",
     "output_type": "stream",
     "text": [
      "\u001b[2m\u001b[36m(compute_qc_stats_ray pid=35309)\u001b[0m 2022-11-16 20:47:33,138 cisTopic     INFO     Intersecting fragments with regions\n"
     ]
    },
    {
     "name": "stdout",
     "output_type": "stream",
     "text": [
      "\u001b[2m\u001b[36m(compute_qc_stats_ray pid=35309)\u001b[0m 2022-11-16 20:47:52,454 cisTopic     INFO     Sample VIB_hydrop_3.FULL.fragments.tsv.gz done!\n"
     ]
    },
    {
     "name": "stdout",
     "output_type": "stream",
     "text": [
      "Dumping files in /lustre1/project/stg_00090/scatac_benchmark/public_4_cistopic_consensus/cistopic_qc_out...\n"
     ]
    }
   ],
   "source": [
    "n_cores = 5\n",
    "if fragments_sub_dict != {}:\n",
    "    samples_sub = list(fragments_sub_dict.keys())\n",
    "    blocks = [samples_sub[i : i + n_cores] for i in range(0, len(samples_sub), n_cores)]\n",
    "    for samples_torun_in_block in blocks:\n",
    "        fragments_sub_dict_block = {\n",
    "            key: fragments_sub_dict[key] for key in samples_torun_in_block\n",
    "        }\n",
    "        regions_sub_dict_block = {\n",
    "            key: regions_sub_dict[key] for key in samples_torun_in_block\n",
    "        }\n",
    "\n",
    "        metadata_bc_dict, profile_data_dict = compute_qc_stats(\n",
    "            fragments_dict=fragments_sub_dict_block,\n",
    "            tss_annotation=annotation,\n",
    "            stats=[\n",
    "                \"barcode_rank_plot\",\n",
    "                \"duplicate_rate\",\n",
    "                \"insert_size_distribution\",\n",
    "                \"profile_tss\",\n",
    "                \"frip\",\n",
    "            ],\n",
    "            label_list=None,\n",
    "            path_to_regions=regions_sub_dict_block,\n",
    "            n_cpu=n_cores,\n",
    "            valid_bc=None,\n",
    "            n_frag=10,\n",
    "            n_bc=None,\n",
    "            tss_flank_window=2000,\n",
    "            tss_window=50,\n",
    "            tss_minimum_signal_window=100,\n",
    "            tss_rolling_window=10,\n",
    "            # min_norm=0.2,\n",
    "            remove_duplicates=True,\n",
    "        )\n",
    "\n",
    "        ray.shutdown()\n",
    "        print(f\"Dumping files in {cistopic_qc_out}...\")\n",
    "        for sample in sorted(metadata_bc_dict.keys()):\n",
    "            metadata_bc_dict[sample][\"sample_id\"] = sample\n",
    "            metadata_bc_dict[sample].index = [\n",
    "                x + \"___\" + sample for x in list(metadata_bc_dict[sample].index)\n",
    "            ]\n",
    "            with open(\n",
    "                os.path.join(cistopic_qc_out, f\"{sample}__metadata_bc.pkl\"), \"wb\"\n",
    "            ) as f:\n",
    "                pickle.dump(metadata_bc_dict[sample], f, protocol=4)\n",
    "\n",
    "            with open(\n",
    "                os.path.join(cistopic_qc_out, f\"{sample}__profile_data.pkl\"), \"wb\"\n",
    "            ) as f:\n",
    "                pickle.dump(profile_data_dict[sample], f, protocol=4)\n",
    "else:\n",
    "    print(\"All samples already processed.\")"
   ]
  },
  {
   "cell_type": "markdown",
   "id": "e150b725",
   "metadata": {
    "papermill": {
     "duration": 0.092889,
     "end_time": "2022-11-16T20:00:08.697187",
     "exception": false,
     "start_time": "2022-11-16T20:00:08.604298",
     "status": "completed"
    },
    "tags": []
   },
   "source": [
    "# Plot"
   ]
  },
  {
   "cell_type": "markdown",
   "id": "e0a6972e",
   "metadata": {
    "papermill": {
     "duration": 0.087685,
     "end_time": "2022-11-16T20:00:08.872426",
     "exception": false,
     "start_time": "2022-11-16T20:00:08.784741",
     "status": "completed"
    },
    "tags": []
   },
   "source": [
    "Calculating a KDE is simultaneously expensive and scales poorly with increasing n. Therefore, I wrote a multithreaded script that divides the QC array into equal parts (interleaved to avoid biases in the order!) and performs a KDE calculation on each part. Here, Otsu thresholding is used to find the right threshold for minimum fragments and minimum TSS enrichment. ddseq samples have a significantly higher noise floor than the other samples when it comes to fragment distribution. Therefore, the otsu algorithm is performed on all barcodes with a minimum of 300 fragments for the ddseq samples, and a minimum of 100 fragments for all the other samples. I tried to perform this filtering completely independent of sample/technique (e.g. using gaussian mixture modeling, Jenks natural breaks, or multiple step Otsu thresholding) but found that no solution worked perfectly for all samples."
   ]
  },
  {
   "cell_type": "markdown",
   "id": "c63f1b79",
   "metadata": {
    "papermill": {
     "duration": 0.088858,
     "end_time": "2022-11-16T20:00:09.048707",
     "exception": false,
     "start_time": "2022-11-16T20:00:08.959849",
     "status": "completed"
    },
    "tags": []
   },
   "source": [
    "This is regulated by the code below in qc_plots.py:\n",
    "```\n",
    "min_otsu_frags_dict = {}\n",
    "for fragments_file in fragments_list:\n",
    "    sample = fragments_file.split(\"/\")[-1].split(\".\")[0]\n",
    "    tech = sample.split('_')[1]\n",
    "    if tech == \"ddseq\":\n",
    "        if sample == \"BIO_ddseq_1\":\n",
    "            min_otsu_frags_dict[sample] = 600\n",
    "        else:\n",
    "            min_otsu_frags_dict[sample] = 300\n",
    "    elif tech == \"hydrop\":\n",
    "        min_otsu_frags_dict[sample] = 300\n",
    "    else:\n",
    "        min_otsu_frags_dict[sample] = 100\n",
    "```"
   ]
  },
  {
   "cell_type": "code",
   "execution_count": 14,
   "id": "cf37ee88",
   "metadata": {
    "collapsed": true,
    "execution": {
     "iopub.execute_input": "2022-11-16T20:00:09.329533Z",
     "iopub.status.busy": "2022-11-16T20:00:09.328769Z",
     "iopub.status.idle": "2022-11-16T20:00:09.605243Z",
     "shell.execute_reply": "2022-11-16T20:00:09.605884Z",
     "shell.execute_reply.started": "2022-10-14T11:48:09.992073Z"
    },
    "jupyter": {
     "outputs_hidden": true
    },
    "papermill": {
     "duration": 0.468473,
     "end_time": "2022-11-16T20:00:09.606131",
     "exception": false,
     "start_time": "2022-11-16T20:00:09.137658",
     "status": "completed"
    },
    "tags": []
   },
   "outputs": [
    {
     "name": "stdout",
     "output_type": "stream",
     "text": [
      "import kde\r\n",
      "import pycisTopic\r\n",
      "import glob\r\n",
      "import os\r\n",
      "import pandas as pd\r\n",
      "import pickle\r\n",
      "import matplotlib.pyplot as plt\r\n",
      "import numpy as np\r\n",
      "import seaborn as sns\r\n",
      "import multiprocess as mp\r\n",
      "from multiprocess import Pool\r\n",
      "import pprint as pp\r\n",
      "\r\n",
      "def histogram(array, nbins=100):\r\n",
      "    \"\"\"\r\n",
      "    Draw histogram from distribution and identify centers.\r\n",
      "    Parameters\r\n",
      "    ---------\r\n",
      "    array: `class::np.array`\r\n",
      "            Scores distribution\r\n",
      "    nbins: int\r\n",
      "            Number of bins to use in the histogram\r\n",
      "    Return\r\n",
      "    ---------\r\n",
      "    float\r\n",
      "            Histogram values and bin centers.\r\n",
      "    \"\"\"\r\n",
      "    array = array.ravel().flatten()\r\n",
      "    hist, bin_edges = np.histogram(array, bins=nbins, range=None)\r\n",
      "    bin_centers = (bin_edges[:-1] + bin_edges[1:]) / 2.0\r\n",
      "    return hist, bin_centers\r\n",
      "\r\n",
      "\r\n",
      "def threshold_otsu(array, nbins=100, min_value=100):\r\n",
      "    \"\"\"\r\n",
      "    Apply Otsu threshold on topic-region distributions [Otsu, 1979].\r\n",
      "    Parameters\r\n",
      "    ---------\r\n",
      "    array: `class::np.array`\r\n",
      "            Array containing the region values for the topic to be binarized.\r\n",
      "    nbins: int\r\n",
      "            Number of bins to use in the binarization histogram\r\n",
      "    Return\r\n",
      "    ---------\r\n",
      "    float\r\n",
      "            Binarization threshold.\r\n",
      "    Reference\r\n",
      "    ---------\r\n",
      "    Otsu, N., 1979. A threshold selection method from gray-level histograms. IEEE transactions on systems, man, and\r\n",
      "    cybernetics, 9(1), pp.62-66.\r\n",
      "    \"\"\"\r\n",
      "    array = array[(array >= min_value)]\r\n",
      "    hist, bin_centers = histogram(array, nbins)\r\n",
      "    hist = hist.astype(float)\r\n",
      "    # Class probabilities for all possible thresholds\r\n",
      "    weight1 = np.cumsum(hist)\r\n",
      "    weight2 = np.cumsum(hist[::-1])[::-1]\r\n",
      "    # Class means for all possible thresholds\r\n",
      "    mean1 = np.cumsum(hist * bin_centers) / weight1\r\n",
      "    mean2 = (np.cumsum((hist * bin_centers)[::-1]) / weight2[::-1])[::-1]\r\n",
      "    # Clip ends to align class 1 and class 2 variables:\r\n",
      "    # The last value of ``weight1``/``mean1`` should pair with zero values in\r\n",
      "    # ``weight2``/``mean2``, which do not exist.\r\n",
      "    variance12 = weight1[:-1] * weight2[1:] * (mean1[:-1] - mean2[1:]) ** 2\r\n",
      "    idx = np.argmax(variance12)\r\n",
      "    threshold = bin_centers[:-1][idx]\r\n",
      "    return threshold\r\n",
      "\r\n",
      "\r\n",
      "# def calc_kde(xy):\r\n",
      "#     return gaussian_kde(xy)(xy)\r\n",
      "\r\n",
      "\r\n",
      "def plot_frag_qc(\r\n",
      "    x,\r\n",
      "    y,\r\n",
      "    ax,\r\n",
      "    x_thr_min=None,\r\n",
      "    x_thr_max=None,\r\n",
      "    y_thr_min=None,\r\n",
      "    y_thr_max=None,\r\n",
      "    ylab=None,\r\n",
      "    xlab=\"Number of (unique) fragments\",\r\n",
      "    cmap=\"viridis\",\r\n",
      "    density_overlay=False,\r\n",
      "    s=10,\r\n",
      "    marker=\"+\",\r\n",
      "    c=\"#343434\",\r\n",
      "    xlim=None,\r\n",
      "    ylim=None,\r\n",
      "    **kwargs\r\n",
      "):\r\n",
      "    from scipy.stats import gaussian_kde\r\n",
      "\r\n",
      "    assert all(x.index == y.index)\r\n",
      "    barcodes = x.index.values\r\n",
      "\r\n",
      "    if density_overlay:\r\n",
      "        cores = 8\r\n",
      "\r\n",
      "        x_log = np.log(x)\r\n",
      "\r\n",
      "        # Split input array for KDE [log(x), y] array in\r\n",
      "        # equaly spaced parts (start_offset + n * nbr_cores).\r\n",
      "        kde_parts = [np.vstack([x_log[i::cores], y[i::cores]]) for i in range(cores)]\r\n",
      "\r\n",
      "        # Get nultiprocess context object to spawn processes.\r\n",
      "        # mp_ctx = mp.get_context(\"spawn\")\r\n",
      "\r\n",
      "        # Calculate KDE in parallel.\r\n",
      "        with Pool(processes=cores) as pool:\r\n",
      "            results = pool.map(kde.calc_kde, kde_parts)\r\n",
      "\r\n",
      "        z = np.concatenate(results)\r\n",
      "\r\n",
      "        # now order x and y in the same way that z was ordered, otherwise random z value is assigned to barcode:\r\n",
      "        x_ordered = np.concatenate([x[i::cores] for i in range(cores)])\r\n",
      "        y_ordered = np.concatenate([y[i::cores] for i in range(cores)])\r\n",
      "\r\n",
      "        idx = (\r\n",
      "            z.argsort()\r\n",
      "        )  # order based on z value so that highest value is plotted on top, and not hidden by lower values\r\n",
      "        x, y, z, barcodes = x_ordered[idx], y_ordered[idx], z[idx], barcodes[idx]\r\n",
      "    else:\r\n",
      "        z = c\r\n",
      "\r\n",
      "    sp = ax.scatter(x, y, c=z, s=s, edgecolors=None, marker=marker, cmap=cmap, **kwargs)\r\n",
      "    if ylim is not None:\r\n",
      "        ax.set_ylim(ylim[0], ylim[1])\r\n",
      "    if xlim is not None:\r\n",
      "        ax.set_xlim(xlim[0], xlim[1])\r\n",
      "\r\n",
      "    # Start with keeping all barcodes.\r\n",
      "    barcodes_to_keep = np.full(x.shape[0], True)\r\n",
      "\r\n",
      "    # Filter barcodes out if needed based on thresholds:\r\n",
      "    if x_thr_min is not None:\r\n",
      "        ax.axvline(x=x_thr_min, color=\"r\", linestyle=\"--\")\r\n",
      "\r\n",
      "    if x_thr_max is not None:\r\n",
      "        ax.axvline(x=x_thr_max, color=\"r\", linestyle=\"--\")\r\n",
      "\r\n",
      "    if y_thr_min is not None:\r\n",
      "        ax.axhline(y=y_thr_min, color=\"r\", linestyle=\"--\")\r\n",
      "\r\n",
      "    if y_thr_max is not None:\r\n",
      "        ax.axhline(y=y_thr_max, color=\"r\", linestyle=\"--\")\r\n",
      "\r\n",
      "    ax.set_xscale(\"log\")\r\n",
      "    ax.set_xmargin(0.01)\r\n",
      "    ax.set_ymargin(0.01)\r\n",
      "    ax.set_xlabel(xlab, fontsize=10)\r\n",
      "    ax.set_ylabel(ylab, fontsize=10)\r\n",
      "\r\n",
      "def plot_qc(\r\n",
      "    sample,\r\n",
      "    min_dict,\r\n",
      "    max_dict,\r\n",
      "    metadata_bc_df,\r\n",
      "    include_kde=False,\r\n",
      "    detailed_title=True,\r\n",
      "    s=4,\r\n",
      "    min_x_val=100,\r\n",
      "    min_y_val=1\r\n",
      "):\r\n",
      "    fig, (ax1, ax2, ax3) = plt.subplots(1, 3, figsize=(12, 4), dpi=150)\r\n",
      "\r\n",
      "    # calculate thresholds using a double otsu strategy:\r\n",
      "    # first we calculate an otsu threshold using a minimum of 10 fragments\r\n",
      "    # then, this otsu threshold is used as the minimum for the second iteration\r\n",
      "\r\n",
      "    x_arr = np.log10(metadata_bc_df[\"Unique_nr_frag\"])\r\n",
      "    x_threshold_log = threshold_otsu(x_arr, nbins=5000, min_value=np.log10(min_x_val))\r\n",
      "    x_threshold = 10**x_threshold_log\r\n",
      "\r\n",
      "    y_arr = metadata_bc_df[\"TSS_enrichment\"]\r\n",
      "    y_threshold = threshold_otsu(y_arr, nbins=5000, min_value=min_y_val)\r\n",
      "\r\n",
      "    # calculate cells passing filter\r\n",
      "    metadata_bc_df_passing_filters = metadata_bc_df.loc[\r\n",
      "        (metadata_bc_df.Unique_nr_frag > x_threshold)\r\n",
      "        & (metadata_bc_df.TSS_enrichment > y_threshold)\r\n",
      "    ]\r\n",
      "    bc_passing_filters = metadata_bc_df_passing_filters.index\r\n",
      "\r\n",
      "    # plot everything\r\n",
      "    plot_frag_qc(\r\n",
      "        x=metadata_bc_df[\"Unique_nr_frag\"],\r\n",
      "        y=metadata_bc_df[\"TSS_enrichment\"],\r\n",
      "        ylab=\"TSS Enrichment\",\r\n",
      "        s=s,\r\n",
      "        x_thr_min=x_threshold,\r\n",
      "        y_thr_min=y_threshold,\r\n",
      "        xlim=[10, max_dict[\"Unique_nr_frag\"]],\r\n",
      "        ylim=[0, max_dict[\"TSS_enrichment\"]],\r\n",
      "        density_overlay=include_kde,\r\n",
      "        ax=ax1,\r\n",
      "    )\r\n",
      "    plot_frag_qc(\r\n",
      "        x=metadata_bc_df[\"Unique_nr_frag\"],\r\n",
      "        y=metadata_bc_df[\"FRIP\"],\r\n",
      "        x_thr_min=x_threshold,\r\n",
      "        ylab=\"FRIP\",\r\n",
      "        s=s,\r\n",
      "        xlim=[10, max_dict[\"Unique_nr_frag\"]],\r\n",
      "        ylim=[0, 1],\r\n",
      "        density_overlay=include_kde,\r\n",
      "        ax=ax2,\r\n",
      "    )\r\n",
      "    plot_frag_qc(\r\n",
      "        x=metadata_bc_df[\"Unique_nr_frag\"],\r\n",
      "        y=metadata_bc_df[\"Dupl_rate\"],\r\n",
      "        x_thr_min=x_threshold,\r\n",
      "        ylab=\"Duplicate rate per cell\",\r\n",
      "        s=s,\r\n",
      "        xlim=[10, max_dict[\"Unique_nr_frag\"]],\r\n",
      "        ylim=[0, 1],\r\n",
      "        density_overlay=include_kde,\r\n",
      "        ax=ax3,\r\n",
      "    )\r\n",
      "\r\n",
      "    if detailed_title:\r\n",
      "        med_nf = round(\r\n",
      "            metadata_bc_df.loc[bc_passing_filters, \"Unique_nr_frag\"].median(), 2\r\n",
      "        )\r\n",
      "        med_tss = round(\r\n",
      "            metadata_bc_df.loc[bc_passing_filters, \"TSS_enrichment\"].median(), 2\r\n",
      "        )\r\n",
      "        med_frip = round(metadata_bc_df.loc[bc_passing_filters, \"FRIP\"].median(), 2)\r\n",
      "        title = f\"{sample}: Kept {len(bc_passing_filters)} cells using Otsu filtering. Median Unique Fragments: {med_nf:.0f}. Median TSS Enrichment: {med_tss:.2f}. Median FRIP: {med_frip:.2f}\\nUsed a minimum of {x_threshold:.2f} fragments and TSS enrichment of {y_threshold:.2f})\"\r\n",
      "    else:\r\n",
      "        title = sample\r\n",
      "\r\n",
      "    fig.suptitle(title, x=0.5, y=0.95, fontsize=10)\r\n",
      "    return bc_passing_filters, fig\r\n",
      "\r\n",
      "\r\n",
      "###################\r\n",
      "# Run the loop here\r\n",
      "###################\r\n",
      "\r\n",
      "metadata_bc_pkl_list = sorted(glob.glob(\"cistopic_qc_out/*metadata_bc.pkl\"))\r\n",
      "metadata_bc_pkl_path_dict = {}\r\n",
      "for metadata_bc_pkl_path in metadata_bc_pkl_list:\r\n",
      "    sample = metadata_bc_pkl_path.split(\"/\")[-1].split(\"__metadata_bc.pkl\")[0]\r\n",
      "    metadata_bc_pkl_path_dict[sample] = metadata_bc_pkl_path\r\n",
      "\r\n",
      "# calculate global maxima to make nice equal plots:\r\n",
      "metadata_bc_df_all = pd.DataFrame()\r\n",
      "for sample in metadata_bc_pkl_path_dict.keys():\r\n",
      "    with open(metadata_bc_pkl_path_dict[sample], \"rb\") as fh:\r\n",
      "        metadata_bc_df = pickle.load(fh)\r\n",
      "        metadata_bc_df_all = pd.concat([metadata_bc_df_all, metadata_bc_df])\r\n",
      "        print(f\"added {sample} metadata_bc_df\")\r\n",
      "\r\n",
      "max_dict = {}\r\n",
      "min_dict = {}\r\n",
      "for stat in metadata_bc_df_all.columns:\r\n",
      "    max_dict[stat] = metadata_bc_df_all[stat].max()\r\n",
      "    min_dict[stat] = metadata_bc_df_all[stat].min()\r\n",
      "\r\n",
      "pp.pprint(min_dict)\r\n",
      "pp.pprint(max_dict)\r\n",
      "\r\n",
      "standard_min_x_val = 100\r\n",
      "standard_min_y_val = 0.5\r\n",
      "min_otsu_frags_dict = {}\r\n",
      "min_otsu_tss_dict = {}\r\n",
      "for metadata_bc_pkl_path in sorted(metadata_bc_pkl_path_dict.keys()):\r\n",
      "    sample = metadata_bc_pkl_path.split(\"/\")[-1].split(\"__metadata_bc.pkl\")[0]\r\n",
      "    tech = sample.split('_')[1]\r\n",
      "    if tech == \"ddseq\":\r\n",
      "        min_otsu_frags_dict[sample] = 200\r\n",
      "    elif tech == \"hydrop\":\r\n",
      "        min_otsu_frags_dict[sample] = 300\r\n",
      "    else:\r\n",
      "        min_otsu_frags_dict[sample] = standard_min_x_val\r\n",
      "\r\n",
      "    if tech == \"s3atac\":\r\n",
      "        min_otsu_tss_dict[sample] = 0\r\n",
      "    else:\r\n",
      "        min_otsu_tss_dict[sample] = standard_min_y_val\r\n",
      "\r\n",
      "pp.pprint(min_otsu_frags_dict)\r\n",
      "\r\n",
      "for sample in metadata_bc_pkl_path_dict.keys():\r\n",
      "    pkl_path = f\"selected_barcodes/{sample}_bc_passing_filters_otsu.pkl\"\r\n",
      "    if os.path.exists(pkl_path):\r\n",
      "        print(f\"{pkl_path} bc passing filters exists, skipping...\")\r\n",
      "    else:\r\n",
      "        print(f\"{pkl_path} bc passing filters does not exist yet, generating...\")\r\n",
      "        print(f\"\\tLoading {metadata_bc_pkl_path_dict[sample]}\")\r\n",
      "        with open(metadata_bc_pkl_path_dict[sample], \"rb\") as fh:\r\n",
      "            metadata_bc_df = pickle.load(fh)\r\n",
      "\r\n",
      "        print(f\"\\tFiltering cells and generating QC plots.\")\r\n",
      "        if not sample in min_otsu_frags_dict.keys():\r\n",
      "            print(f\"\\t{sample} not in minimum dict! Using standard value of {standard_min_x_val}\")\r\n",
      "            min_x_val = standard_min_x_val\r\n",
      "            min_y_val = standard_min_y_val\r\n",
      "        else:\r\n",
      "            min_x_val = min_otsu_frags_dict[sample]\r\n",
      "            min_y_val = min_otsu_tss_dict[sample]\r\n",
      "\r\n",
      "        bc_passing_filters, fig = plot_qc(sample=sample, min_dict=min_dict, max_dict=max_dict, metadata_bc_df=metadata_bc_df, include_kde=kde, min_x_val=min_x_val, min_y_val=min_y_val)\r\n",
      "\r\n",
      "        plt.tight_layout()\r\n",
      "        plt.savefig(f\"plots_qc/{sample}_qc_otsu.png\", dpi=300, facecolor=\"white\")\r\n",
      "        plt.show()\r\n",
      "        plt.close()\r\n",
      "\r\n",
      "        print(f\"\\tSaving...\")\r\n",
      "        with open(\r\n",
      "            f\"selected_barcodes/{sample}_bc_passing_filters_otsu.pkl\", \"wb\"\r\n",
      "        ) as fh:\r\n",
      "            pickle.dump(bc_passing_filters, fh)\r\n",
      "        fh.close()\r\n",
      "\r\n",
      "        fh = open(f\"selected_barcodes/{sample}_bc_passing_filters_otsu.txt\", \"w\")\r\n",
      "        for bc in list(bc_passing_filters):\r\n",
      "            fh.write(bc + \"\\n\")\r\n",
      "        fh.close()\r\n",
      "\r\n",
      "        metadata_bc_df.loc[bc_passing_filters].to_csv(f'selected_barcodes/{sample}_metadata_bc_df.tsv', sep='\\t')\r\n"
     ]
    }
   ],
   "source": [
    "!cat ../0_resources/scripts/qc_plots_public.py"
   ]
  },
  {
   "cell_type": "markdown",
   "id": "6c4f5aa5",
   "metadata": {
    "execution": {
     "iopub.execute_input": "2022-07-15T09:42:06.802579Z",
     "iopub.status.busy": "2022-07-15T09:42:06.801860Z",
     "iopub.status.idle": "2022-07-15T09:42:06.814527Z",
     "shell.execute_reply": "2022-07-15T09:42:06.813708Z",
     "shell.execute_reply.started": "2022-07-15T09:42:06.802476Z"
    },
    "papermill": {
     "duration": 0.087074,
     "end_time": "2022-11-16T20:00:09.786509",
     "exception": false,
     "start_time": "2022-11-16T20:00:09.699435",
     "status": "completed"
    },
    "tags": []
   },
   "source": [
    "Since multiprocessing does not work with jupyter notebooks, run the following code in terminal:"
   ]
  },
  {
   "cell_type": "markdown",
   "id": "a541c931",
   "metadata": {
    "papermill": {
     "duration": 0.092265,
     "end_time": "2022-11-16T20:00:09.966588",
     "exception": false,
     "start_time": "2022-11-16T20:00:09.874323",
     "status": "completed"
    },
    "tags": []
   },
   "source": [
    "```\n",
    "mkdir plots_qc\n",
    "mkdir selected_barcodes\n",
    "SIF=../0_resources/cistopic_image/20220722_pycistopic.sif\n",
    "singularity exec \\\n",
    "    --cleanenv \\\n",
    "    -H $PWD:/home \\\n",
    "    -B /lustre1,/staging,/data,${VSC_SCRATCH},${VSC_SCRATCH}/tmp:/tmp,${HOME}/.nextflow/assets/ \\\n",
    "    $SIF \\\n",
    "    python /lustre1/project/stg_00090/scatac_benchmark/0_resources/scripts/qc_plots_public.py\n",
    "```"
   ]
  },
  {
   "cell_type": "markdown",
   "id": "5d156371",
   "metadata": {
    "papermill": {
     "duration": 0.084596,
     "end_time": "2022-11-16T20:00:10.136336",
     "exception": false,
     "start_time": "2022-11-16T20:00:10.051740",
     "status": "completed"
    },
    "tags": []
   },
   "source": [
    "And then open the plots:"
   ]
  },
  {
   "cell_type": "code",
   "execution_count": 15,
   "id": "2e73183a",
   "metadata": {
    "execution": {
     "iopub.execute_input": "2022-11-16T20:00:10.810982Z",
     "iopub.status.busy": "2022-11-16T20:00:10.810415Z",
     "iopub.status.idle": "2022-11-16T20:00:10.819429Z",
     "shell.execute_reply": "2022-11-16T20:00:10.819784Z",
     "shell.execute_reply.started": "2022-10-14T12:44:38.866890Z"
    },
    "papermill": {
     "duration": 0.102658,
     "end_time": "2022-11-16T20:00:10.819924",
     "exception": false,
     "start_time": "2022-11-16T20:00:10.717266",
     "status": "completed"
    },
    "tags": []
   },
   "outputs": [
    {
     "name": "stdout",
     "output_type": "stream",
     "text": [
      "BIO_ddseq_m1c1.FULL.fragments.tsv.gz bc passing filters does not exist yet, generate using qc_plots.py script!\n",
      "BIO_ddseq_m1c2.FULL.fragments.tsv.gz bc passing filters does not exist yet, generate using qc_plots.py script!\n",
      "BIO_ddseq_m1c3.FULL.fragments.tsv.gz bc passing filters does not exist yet, generate using qc_plots.py script!\n",
      "BIO_ddseq_m1c4.FULL.fragments.tsv.gz bc passing filters does not exist yet, generate using qc_plots.py script!\n",
      "BIO_ddseq_m1c5.FULL.fragments.tsv.gz bc passing filters does not exist yet, generate using qc_plots.py script!\n",
      "BIO_ddseq_m1c6.FULL.fragments.tsv.gz bc passing filters does not exist yet, generate using qc_plots.py script!\n",
      "BIO_ddseq_m1c7.FULL.fragments.tsv.gz bc passing filters does not exist yet, generate using qc_plots.py script!\n",
      "BIO_ddseq_m1c8.FULL.fragments.tsv.gz bc passing filters does not exist yet, generate using qc_plots.py script!\n",
      "BIO_ddseq_m2c1.FULL.fragments.tsv.gz bc passing filters does not exist yet, generate using qc_plots.py script!\n",
      "BIO_ddseq_m2c2.FULL.fragments.tsv.gz bc passing filters does not exist yet, generate using qc_plots.py script!\n",
      "BIO_ddseq_m2c3.FULL.fragments.tsv.gz bc passing filters does not exist yet, generate using qc_plots.py script!\n",
      "BIO_ddseq_m2c4.FULL.fragments.tsv.gz bc passing filters does not exist yet, generate using qc_plots.py script!\n",
      "OHS_s3atac_mouse.FULL.fragments.tsv.gz bc passing filters does not exist yet, generate using qc_plots.py script!\n",
      "TXG_10xmultiome_e18mousebrainfresh.FULL.fragments.tsv.gz bc passing filters does not exist yet, generate using qc_plots.py script!\n",
      "TXG_10xv11_adultmousecortexchromiumx.FULL.fragments.tsv.gz bc passing filters does not exist yet, generate using qc_plots.py script!\n",
      "TXG_10xv1_adultmousefresh.FULL.fragments.tsv.gz bc passing filters does not exist yet, generate using qc_plots.py script!\n",
      "TXG_10xv2_adultmousecortex.FULL.fragments.tsv.gz bc passing filters does not exist yet, generate using qc_plots.py script!\n",
      "TXG_10xv2_adultmousecortexchromiumx.FULL.fragments.tsv.gz bc passing filters does not exist yet, generate using qc_plots.py script!\n",
      "VIB_hydrop_1.FULL.fragments.tsv.gz bc passing filters does not exist yet, generate using qc_plots.py script!\n",
      "VIB_hydrop_2.FULL.fragments.tsv.gz bc passing filters does not exist yet, generate using qc_plots.py script!\n",
      "VIB_hydrop_3.FULL.fragments.tsv.gz bc passing filters does not exist yet, generate using qc_plots.py script!\n",
      "VIB_hydrop_4.FULL.fragments.tsv.gz bc passing filters does not exist yet, generate using qc_plots.py script!\n",
      "VIB_hydrop_5.FULL.fragments.tsv.gz bc passing filters does not exist yet, generate using qc_plots.py script!\n"
     ]
    }
   ],
   "source": [
    "metadata_bc_pkl_list = sorted(glob.glob(\"cistopic_qc_out/*metadata_bc.pkl\"))\n",
    "metadata_bc_pkl_path_dict = {}\n",
    "for metadata_bc_pkl_path in metadata_bc_pkl_list:\n",
    "    sample = metadata_bc_pkl_path.split(\"/\")[-1].split(\"__\")[0]\n",
    "    metadata_bc_pkl_path_dict[sample] = metadata_bc_pkl_path\n",
    "\n",
    "for sample in metadata_bc_pkl_path_dict.keys():\n",
    "    if os.path.exists(f\"selected_barcodes/{sample}_bc_passing_filters_otsu.pkl\"):\n",
    "        print(f\"{sample} bc passing filters exists, printing img and skipping\")\n",
    "        display(Image(f\"plots_qc/{sample}_qc_otsu.png\"))\n",
    "    else:\n",
    "        print(\n",
    "            f\"{sample} bc passing filters does not exist yet, generate using qc_plots.py script!\"\n",
    "        )"
   ]
  },
  {
   "cell_type": "markdown",
   "id": "acd32d4b",
   "metadata": {
    "papermill": {
     "duration": 0.085256,
     "end_time": "2022-11-16T20:00:10.991991",
     "exception": false,
     "start_time": "2022-11-16T20:00:10.906735",
     "status": "completed"
    },
    "tags": []
   },
   "source": [
    "The biorad plots look a bit weird. I want to check significant overlap in barcodes between the biorad samples to check if something may have gone wrong when I merged the fastqs per sample."
   ]
  },
  {
   "cell_type": "code",
   "execution_count": 16,
   "id": "d2cff629",
   "metadata": {
    "execution": {
     "iopub.execute_input": "2022-11-16T20:00:11.174255Z",
     "iopub.status.busy": "2022-11-16T20:00:11.173827Z",
     "iopub.status.idle": "2022-11-16T20:00:11.176735Z",
     "shell.execute_reply": "2022-11-16T20:00:11.176320Z",
     "shell.execute_reply.started": "2022-10-26T16:49:50.966804Z"
    },
    "papermill": {
     "duration": 0.097438,
     "end_time": "2022-11-16T20:00:11.176837",
     "exception": false,
     "start_time": "2022-11-16T20:00:11.079399",
     "status": "completed"
    },
    "tags": []
   },
   "outputs": [],
   "source": [
    "import pandas as pd\n",
    "import glob"
   ]
  },
  {
   "cell_type": "code",
   "execution_count": 17,
   "id": "10642f66",
   "metadata": {
    "execution": {
     "iopub.execute_input": "2022-11-16T20:00:11.359438Z",
     "iopub.status.busy": "2022-11-16T20:00:11.358992Z",
     "iopub.status.idle": "2022-11-16T20:00:11.361834Z",
     "shell.execute_reply": "2022-11-16T20:00:11.361417Z",
     "shell.execute_reply.started": "2022-10-26T16:49:51.166296Z"
    },
    "papermill": {
     "duration": 0.098867,
     "end_time": "2022-11-16T20:00:11.361938",
     "exception": false,
     "start_time": "2022-11-16T20:00:11.263071",
     "status": "completed"
    },
    "tags": []
   },
   "outputs": [],
   "source": [
    "df_merged = pd.DataFrame()\n",
    "for file in glob.glob(\"selected_barcodes/BIO*.tsv\"):\n",
    "    df = pd.read_csv(file, sep=\"\\t\", index_col=0)\n",
    "    df[\"raw_bc\"] = [x.split(\"___\")[0] for x in df.index]\n",
    "    df[\"sample\"] = [x.split(\"___\")[1].replace(\"fragments.tsv.gz\", \"\") for x in df.index]\n",
    "    df_merged = pd.concat([df_merged, df])"
   ]
  },
  {
   "cell_type": "code",
   "execution_count": 18,
   "id": "f9d770b0",
   "metadata": {
    "execution": {
     "iopub.execute_input": "2022-11-16T20:00:11.543188Z",
     "iopub.status.busy": "2022-11-16T20:00:11.542786Z",
     "iopub.status.idle": "2022-11-16T20:00:11.577066Z",
     "shell.execute_reply": "2022-11-16T20:00:11.576695Z",
     "shell.execute_reply.started": "2022-10-26T16:49:51.673461Z"
    },
    "papermill": {
     "duration": 0.129176,
     "end_time": "2022-11-16T20:00:11.577170",
     "exception": false,
     "start_time": "2022-11-16T20:00:11.447994",
     "status": "completed"
    },
    "tags": []
   },
   "outputs": [
    {
     "data": {
      "text/html": [
       "<div>\n",
       "<style scoped>\n",
       "    .dataframe tbody tr th:only-of-type {\n",
       "        vertical-align: middle;\n",
       "    }\n",
       "\n",
       "    .dataframe tbody tr th {\n",
       "        vertical-align: top;\n",
       "    }\n",
       "\n",
       "    .dataframe thead th {\n",
       "        text-align: right;\n",
       "    }\n",
       "</style>\n",
       "<table border=\"1\" class=\"dataframe\">\n",
       "  <thead>\n",
       "    <tr style=\"text-align: right;\">\n",
       "      <th></th>\n",
       "    </tr>\n",
       "  </thead>\n",
       "  <tbody>\n",
       "  </tbody>\n",
       "</table>\n",
       "</div>"
      ],
      "text/plain": [
       "Empty DataFrame\n",
       "Columns: []\n",
       "Index: []"
      ]
     },
     "execution_count": 18,
     "metadata": {},
     "output_type": "execute_result"
    }
   ],
   "source": [
    "df_merged"
   ]
  },
  {
   "cell_type": "markdown",
   "id": "f70e3789",
   "metadata": {
    "tags": [
     "papermill-error-cell-tag"
    ]
   },
   "source": [
    "<span id=\"papermill-error-cell\" style=\"color:red; font-family:Helvetica Neue, Helvetica, Arial, sans-serif; font-size:2em;\">Execution using papermill encountered an exception here and stopped:</span>"
   ]
  },
  {
   "cell_type": "code",
   "execution_count": 19,
   "id": "81db72d1",
   "metadata": {
    "execution": {
     "iopub.execute_input": "2022-11-16T20:00:11.759712Z",
     "iopub.status.busy": "2022-11-16T20:00:11.759284Z",
     "iopub.status.idle": "2022-11-16T20:00:14.053291Z",
     "shell.execute_reply": "2022-11-16T20:00:14.054585Z",
     "shell.execute_reply.started": "2022-10-26T16:49:52.068540Z"
    },
    "papermill": {
     "duration": 2.392062,
     "end_time": "2022-11-16T20:00:14.055205",
     "exception": true,
     "start_time": "2022-11-16T20:00:11.663143",
     "status": "failed"
    },
    "tags": []
   },
   "outputs": [
    {
     "ename": "KeyError",
     "evalue": "'sample'",
     "output_type": "error",
     "traceback": [
      "\u001b[0;31m---------------------------------------------------------------------------\u001b[0m",
      "\u001b[0;31mKeyError\u001b[0m                                  Traceback (most recent call last)",
      "Cell \u001b[0;32mIn [19], line 1\u001b[0m\n\u001b[0;32m----> 1\u001b[0m test \u001b[38;5;241m=\u001b[39m \u001b[43mdf_merged\u001b[49m\u001b[38;5;241;43m.\u001b[39;49m\u001b[43mgroupby\u001b[49m\u001b[43m(\u001b[49m\u001b[38;5;124;43m\"\u001b[39;49m\u001b[38;5;124;43msample\u001b[39;49m\u001b[38;5;124;43m\"\u001b[39;49m\u001b[43m)\u001b[49m[\u001b[38;5;124m\"\u001b[39m\u001b[38;5;124mraw_bc\u001b[39m\u001b[38;5;124m\"\u001b[39m]\u001b[38;5;241m.\u001b[39mvalue_counts()\n",
      "File \u001b[0;32m/opt/venv/lib/python3.8/site-packages/pandas/core/frame.py:8392\u001b[0m, in \u001b[0;36mDataFrame.groupby\u001b[0;34m(self, by, axis, level, as_index, sort, group_keys, squeeze, observed, dropna)\u001b[0m\n\u001b[1;32m   8389\u001b[0m     \u001b[38;5;28;01mraise\u001b[39;00m \u001b[38;5;167;01mTypeError\u001b[39;00m(\u001b[38;5;124m\"\u001b[39m\u001b[38;5;124mYou have to supply one of \u001b[39m\u001b[38;5;124m'\u001b[39m\u001b[38;5;124mby\u001b[39m\u001b[38;5;124m'\u001b[39m\u001b[38;5;124m and \u001b[39m\u001b[38;5;124m'\u001b[39m\u001b[38;5;124mlevel\u001b[39m\u001b[38;5;124m'\u001b[39m\u001b[38;5;124m\"\u001b[39m)\n\u001b[1;32m   8390\u001b[0m axis \u001b[38;5;241m=\u001b[39m \u001b[38;5;28mself\u001b[39m\u001b[38;5;241m.\u001b[39m_get_axis_number(axis)\n\u001b[0;32m-> 8392\u001b[0m \u001b[38;5;28;01mreturn\u001b[39;00m \u001b[43mDataFrameGroupBy\u001b[49m\u001b[43m(\u001b[49m\n\u001b[1;32m   8393\u001b[0m \u001b[43m    \u001b[49m\u001b[43mobj\u001b[49m\u001b[38;5;241;43m=\u001b[39;49m\u001b[38;5;28;43mself\u001b[39;49m\u001b[43m,\u001b[49m\n\u001b[1;32m   8394\u001b[0m \u001b[43m    \u001b[49m\u001b[43mkeys\u001b[49m\u001b[38;5;241;43m=\u001b[39;49m\u001b[43mby\u001b[49m\u001b[43m,\u001b[49m\n\u001b[1;32m   8395\u001b[0m \u001b[43m    \u001b[49m\u001b[43maxis\u001b[49m\u001b[38;5;241;43m=\u001b[39;49m\u001b[43maxis\u001b[49m\u001b[43m,\u001b[49m\n\u001b[1;32m   8396\u001b[0m \u001b[43m    \u001b[49m\u001b[43mlevel\u001b[49m\u001b[38;5;241;43m=\u001b[39;49m\u001b[43mlevel\u001b[49m\u001b[43m,\u001b[49m\n\u001b[1;32m   8397\u001b[0m \u001b[43m    \u001b[49m\u001b[43mas_index\u001b[49m\u001b[38;5;241;43m=\u001b[39;49m\u001b[43mas_index\u001b[49m\u001b[43m,\u001b[49m\n\u001b[1;32m   8398\u001b[0m \u001b[43m    \u001b[49m\u001b[43msort\u001b[49m\u001b[38;5;241;43m=\u001b[39;49m\u001b[43msort\u001b[49m\u001b[43m,\u001b[49m\n\u001b[1;32m   8399\u001b[0m \u001b[43m    \u001b[49m\u001b[43mgroup_keys\u001b[49m\u001b[38;5;241;43m=\u001b[39;49m\u001b[43mgroup_keys\u001b[49m\u001b[43m,\u001b[49m\n\u001b[1;32m   8400\u001b[0m \u001b[43m    \u001b[49m\u001b[43msqueeze\u001b[49m\u001b[38;5;241;43m=\u001b[39;49m\u001b[43msqueeze\u001b[49m\u001b[43m,\u001b[49m\n\u001b[1;32m   8401\u001b[0m \u001b[43m    \u001b[49m\u001b[43mobserved\u001b[49m\u001b[38;5;241;43m=\u001b[39;49m\u001b[43mobserved\u001b[49m\u001b[43m,\u001b[49m\n\u001b[1;32m   8402\u001b[0m \u001b[43m    \u001b[49m\u001b[43mdropna\u001b[49m\u001b[38;5;241;43m=\u001b[39;49m\u001b[43mdropna\u001b[49m\u001b[43m,\u001b[49m\n\u001b[1;32m   8403\u001b[0m \u001b[43m\u001b[49m\u001b[43m)\u001b[49m\n",
      "File \u001b[0;32m/opt/venv/lib/python3.8/site-packages/pandas/core/groupby/groupby.py:959\u001b[0m, in \u001b[0;36mGroupBy.__init__\u001b[0;34m(self, obj, keys, axis, level, grouper, exclusions, selection, as_index, sort, group_keys, squeeze, observed, mutated, dropna)\u001b[0m\n\u001b[1;32m    956\u001b[0m \u001b[38;5;28;01mif\u001b[39;00m grouper \u001b[38;5;129;01mis\u001b[39;00m \u001b[38;5;28;01mNone\u001b[39;00m:\n\u001b[1;32m    957\u001b[0m     \u001b[38;5;28;01mfrom\u001b[39;00m \u001b[38;5;21;01mpandas\u001b[39;00m\u001b[38;5;21;01m.\u001b[39;00m\u001b[38;5;21;01mcore\u001b[39;00m\u001b[38;5;21;01m.\u001b[39;00m\u001b[38;5;21;01mgroupby\u001b[39;00m\u001b[38;5;21;01m.\u001b[39;00m\u001b[38;5;21;01mgrouper\u001b[39;00m \u001b[38;5;28;01mimport\u001b[39;00m get_grouper\n\u001b[0;32m--> 959\u001b[0m     grouper, exclusions, obj \u001b[38;5;241m=\u001b[39m \u001b[43mget_grouper\u001b[49m\u001b[43m(\u001b[49m\n\u001b[1;32m    960\u001b[0m \u001b[43m        \u001b[49m\u001b[43mobj\u001b[49m\u001b[43m,\u001b[49m\n\u001b[1;32m    961\u001b[0m \u001b[43m        \u001b[49m\u001b[43mkeys\u001b[49m\u001b[43m,\u001b[49m\n\u001b[1;32m    962\u001b[0m \u001b[43m        \u001b[49m\u001b[43maxis\u001b[49m\u001b[38;5;241;43m=\u001b[39;49m\u001b[43maxis\u001b[49m\u001b[43m,\u001b[49m\n\u001b[1;32m    963\u001b[0m \u001b[43m        \u001b[49m\u001b[43mlevel\u001b[49m\u001b[38;5;241;43m=\u001b[39;49m\u001b[43mlevel\u001b[49m\u001b[43m,\u001b[49m\n\u001b[1;32m    964\u001b[0m \u001b[43m        \u001b[49m\u001b[43msort\u001b[49m\u001b[38;5;241;43m=\u001b[39;49m\u001b[43msort\u001b[49m\u001b[43m,\u001b[49m\n\u001b[1;32m    965\u001b[0m \u001b[43m        \u001b[49m\u001b[43mobserved\u001b[49m\u001b[38;5;241;43m=\u001b[39;49m\u001b[43mobserved\u001b[49m\u001b[43m,\u001b[49m\n\u001b[1;32m    966\u001b[0m \u001b[43m        \u001b[49m\u001b[43mmutated\u001b[49m\u001b[38;5;241;43m=\u001b[39;49m\u001b[38;5;28;43mself\u001b[39;49m\u001b[38;5;241;43m.\u001b[39;49m\u001b[43mmutated\u001b[49m\u001b[43m,\u001b[49m\n\u001b[1;32m    967\u001b[0m \u001b[43m        \u001b[49m\u001b[43mdropna\u001b[49m\u001b[38;5;241;43m=\u001b[39;49m\u001b[38;5;28;43mself\u001b[39;49m\u001b[38;5;241;43m.\u001b[39;49m\u001b[43mdropna\u001b[49m\u001b[43m,\u001b[49m\n\u001b[1;32m    968\u001b[0m \u001b[43m    \u001b[49m\u001b[43m)\u001b[49m\n\u001b[1;32m    970\u001b[0m \u001b[38;5;28mself\u001b[39m\u001b[38;5;241m.\u001b[39mobj \u001b[38;5;241m=\u001b[39m obj\n\u001b[1;32m    971\u001b[0m \u001b[38;5;28mself\u001b[39m\u001b[38;5;241m.\u001b[39maxis \u001b[38;5;241m=\u001b[39m obj\u001b[38;5;241m.\u001b[39m_get_axis_number(axis)\n",
      "File \u001b[0;32m/opt/venv/lib/python3.8/site-packages/pandas/core/groupby/grouper.py:889\u001b[0m, in \u001b[0;36mget_grouper\u001b[0;34m(obj, key, axis, level, sort, observed, mutated, validate, dropna)\u001b[0m\n\u001b[1;32m    887\u001b[0m         in_axis, level, gpr \u001b[38;5;241m=\u001b[39m \u001b[38;5;28;01mFalse\u001b[39;00m, gpr, \u001b[38;5;28;01mNone\u001b[39;00m\n\u001b[1;32m    888\u001b[0m     \u001b[38;5;28;01melse\u001b[39;00m:\n\u001b[0;32m--> 889\u001b[0m         \u001b[38;5;28;01mraise\u001b[39;00m \u001b[38;5;167;01mKeyError\u001b[39;00m(gpr)\n\u001b[1;32m    890\u001b[0m \u001b[38;5;28;01melif\u001b[39;00m \u001b[38;5;28misinstance\u001b[39m(gpr, Grouper) \u001b[38;5;129;01mand\u001b[39;00m gpr\u001b[38;5;241m.\u001b[39mkey \u001b[38;5;129;01mis\u001b[39;00m \u001b[38;5;129;01mnot\u001b[39;00m \u001b[38;5;28;01mNone\u001b[39;00m:\n\u001b[1;32m    891\u001b[0m     \u001b[38;5;66;03m# Add key to exclusions\u001b[39;00m\n\u001b[1;32m    892\u001b[0m     exclusions\u001b[38;5;241m.\u001b[39madd(gpr\u001b[38;5;241m.\u001b[39mkey)\n",
      "\u001b[0;31mKeyError\u001b[0m: 'sample'"
     ]
    }
   ],
   "source": [
    "test = df_merged.groupby(\"sample\")[\"raw_bc\"].value_counts()"
   ]
  },
  {
   "cell_type": "code",
   "execution_count": null,
   "id": "30e9fab3",
   "metadata": {
    "execution": {
     "iopub.execute_input": "2022-10-26T16:49:52.798066Z",
     "iopub.status.busy": "2022-10-26T16:49:52.797410Z",
     "iopub.status.idle": "2022-10-26T16:49:52.846045Z",
     "shell.execute_reply": "2022-10-26T16:49:52.844972Z",
     "shell.execute_reply.started": "2022-10-26T16:49:52.798001Z"
    },
    "papermill": {
     "duration": null,
     "end_time": null,
     "exception": null,
     "start_time": null,
     "status": "pending"
    },
    "tags": []
   },
   "outputs": [],
   "source": [
    "test_df = test.unstack().T"
   ]
  },
  {
   "cell_type": "code",
   "execution_count": null,
   "id": "06d67245",
   "metadata": {
    "execution": {
     "iopub.execute_input": "2022-10-26T16:49:52.961759Z",
     "iopub.status.busy": "2022-10-26T16:49:52.961152Z",
     "iopub.status.idle": "2022-10-26T16:49:52.998271Z",
     "shell.execute_reply": "2022-10-26T16:49:52.996880Z",
     "shell.execute_reply.started": "2022-10-26T16:49:52.961697Z"
    },
    "papermill": {
     "duration": null,
     "end_time": null,
     "exception": null,
     "start_time": null,
     "status": "pending"
    },
    "tags": []
   },
   "outputs": [],
   "source": [
    "test_df.sum(axis=1).sort_values(ascending=False)"
   ]
  },
  {
   "cell_type": "code",
   "execution_count": null,
   "id": "ab54ab15",
   "metadata": {
    "execution": {
     "iopub.execute_input": "2022-10-26T16:50:18.149598Z",
     "iopub.status.busy": "2022-10-26T16:50:18.148955Z",
     "iopub.status.idle": "2022-10-26T16:50:18.186355Z",
     "shell.execute_reply": "2022-10-26T16:50:18.185034Z",
     "shell.execute_reply.started": "2022-10-26T16:50:18.149533Z"
    },
    "papermill": {
     "duration": null,
     "end_time": null,
     "exception": null,
     "start_time": null,
     "status": "pending"
    },
    "tags": []
   },
   "outputs": [],
   "source": [
    "test_df"
   ]
  },
  {
   "cell_type": "code",
   "execution_count": null,
   "id": "f08fbaf9",
   "metadata": {
    "execution": {
     "iopub.execute_input": "2022-10-26T15:53:03.791157Z",
     "iopub.status.busy": "2022-10-26T15:53:03.790295Z",
     "iopub.status.idle": "2022-10-26T15:53:03.803415Z",
     "shell.execute_reply": "2022-10-26T15:53:03.801845Z",
     "shell.execute_reply.started": "2022-10-26T15:53:03.791096Z"
    },
    "papermill": {
     "duration": null,
     "end_time": null,
     "exception": null,
     "start_time": null,
     "status": "pending"
    },
    "tags": []
   },
   "outputs": [],
   "source": [
    "for file in glob.glob(\"selected_barcodes/BIO*.tsv\"):\n",
    "    print(file)"
   ]
  },
  {
   "cell_type": "code",
   "execution_count": null,
   "id": "3bd91fe3",
   "metadata": {
    "execution": {
     "iopub.execute_input": "2022-10-26T16:51:10.609089Z",
     "iopub.status.busy": "2022-10-26T16:51:10.608421Z",
     "iopub.status.idle": "2022-10-26T16:51:10.614849Z",
     "shell.execute_reply": "2022-10-26T16:51:10.613311Z",
     "shell.execute_reply.started": "2022-10-26T16:51:10.609024Z"
    },
    "papermill": {
     "duration": null,
     "end_time": null,
     "exception": null,
     "start_time": null,
     "status": "pending"
    },
    "tags": []
   },
   "outputs": [],
   "source": [
    "from upsetplot import generate_counts"
   ]
  },
  {
   "cell_type": "code",
   "execution_count": null,
   "id": "0617cf11",
   "metadata": {
    "papermill": {
     "duration": null,
     "end_time": null,
     "exception": null,
     "start_time": null,
     "status": "pending"
    },
    "tags": []
   },
   "outputs": [],
   "source": [
    "import pandas as pd\n",
    "from upsetplot import plot\n",
    "set_names = ['set1', 'set2', 'set3']\n",
    "all_elems = set1.union(set2).union(set3)\n",
    "df = pd.DataFrame([[e in set1, e in set2, e in set3] for e in all_elems], columns = set_names)\n",
    "df_up = df.groupby(set_names).size()\n",
    "plot(df_up, orientation='horizontal')"
   ]
  },
  {
   "cell_type": "code",
   "execution_count": null,
   "id": "80b38d1e",
   "metadata": {
    "papermill": {
     "duration": null,
     "end_time": null,
     "exception": null,
     "start_time": null,
     "status": "pending"
    },
    "tags": []
   },
   "outputs": [],
   "source": [
    "all_elems = list(set().union(*sets))\n",
    "df = pd.DataFrame([[e in st for st in sets] for e in all_elems], columns = set_names)"
   ]
  },
  {
   "cell_type": "code",
   "execution_count": null,
   "id": "7f69f228",
   "metadata": {
    "execution": {
     "iopub.execute_input": "2022-10-26T17:13:14.654127Z",
     "iopub.status.busy": "2022-10-26T17:13:14.653453Z",
     "iopub.status.idle": "2022-10-26T17:13:14.675155Z",
     "shell.execute_reply": "2022-10-26T17:13:14.673740Z",
     "shell.execute_reply.started": "2022-10-26T17:13:14.654062Z"
    },
    "papermill": {
     "duration": null,
     "end_time": null,
     "exception": null,
     "start_time": null,
     "status": "pending"
    },
    "tags": []
   },
   "outputs": [],
   "source": [
    "import numpy as np"
   ]
  },
  {
   "cell_type": "code",
   "execution_count": null,
   "id": "00d304e4",
   "metadata": {
    "execution": {
     "iopub.execute_input": "2022-10-26T17:13:14.879730Z",
     "iopub.status.busy": "2022-10-26T17:13:14.879080Z",
     "iopub.status.idle": "2022-10-26T17:13:15.237930Z",
     "shell.execute_reply": "2022-10-26T17:13:15.236766Z",
     "shell.execute_reply.started": "2022-10-26T17:13:14.879664Z"
    },
    "papermill": {
     "duration": null,
     "end_time": null,
     "exception": null,
     "start_time": null,
     "status": "pending"
    },
    "tags": []
   },
   "outputs": [],
   "source": [
    "df_merged = pd.DataFrame()\n",
    "bc_set_dict = {}\n",
    "for file in sorted(glob.glob(\"selected_barcodes/BIO*.tsv\")):\n",
    "    sample = file.split(\"/\")[-1].split(\".\")[0]\n",
    "    df = pd.read_csv(file, sep=\"\\t\", index_col=0)\n",
    "    df[\"raw_bc\"] = [x.split(\"___\")[0] for x in df.index]\n",
    "    bc_set = set(np.concatenate([x.split(\"_\") for x in df[\"raw_bc\"]]).ravel())\n",
    "\n",
    "    bc_set_dict[sample] = bc_set"
   ]
  },
  {
   "cell_type": "code",
   "execution_count": null,
   "id": "9e7d7a03",
   "metadata": {
    "execution": {
     "iopub.execute_input": "2022-10-26T17:15:02.695401Z",
     "iopub.status.busy": "2022-10-26T17:15:02.694726Z",
     "iopub.status.idle": "2022-10-26T17:15:02.703866Z",
     "shell.execute_reply": "2022-10-26T17:15:02.702129Z",
     "shell.execute_reply.started": "2022-10-26T17:15:02.695334Z"
    },
    "papermill": {
     "duration": null,
     "end_time": null,
     "exception": null,
     "start_time": null,
     "status": "pending"
    },
    "tags": []
   },
   "outputs": [],
   "source": [
    "print(sorted(bc_set_dict.keys()))\n",
    "set_list = [bc_set_dict[x] for x in sorted(bc_set_dict.keys())]"
   ]
  },
  {
   "cell_type": "code",
   "execution_count": null,
   "id": "efb5f035",
   "metadata": {
    "execution": {
     "iopub.execute_input": "2022-10-26T17:15:26.768707Z",
     "iopub.status.busy": "2022-10-26T17:15:26.768043Z",
     "iopub.status.idle": "2022-10-26T17:15:27.044742Z",
     "shell.execute_reply": "2022-10-26T17:15:27.043425Z",
     "shell.execute_reply.started": "2022-10-26T17:15:26.768640Z"
    },
    "papermill": {
     "duration": null,
     "end_time": null,
     "exception": null,
     "start_time": null,
     "status": "pending"
    },
    "tags": []
   },
   "outputs": [],
   "source": [
    "all_elems = list(set().union(*set_list))\n",
    "df = pd.DataFrame([[e in st for st in set_list] for e in all_elems], columns = sorted(bc_set_dict.keys()))"
   ]
  },
  {
   "cell_type": "code",
   "execution_count": null,
   "id": "7e4eafc5",
   "metadata": {
    "execution": {
     "iopub.execute_input": "2022-10-26T17:15:29.960173Z",
     "iopub.status.busy": "2022-10-26T17:15:29.959498Z",
     "iopub.status.idle": "2022-10-26T17:15:29.992050Z",
     "shell.execute_reply": "2022-10-26T17:15:29.990480Z",
     "shell.execute_reply.started": "2022-10-26T17:15:29.960107Z"
    },
    "papermill": {
     "duration": null,
     "end_time": null,
     "exception": null,
     "start_time": null,
     "status": "pending"
    },
    "tags": []
   },
   "outputs": [],
   "source": [
    "df"
   ]
  },
  {
   "cell_type": "code",
   "execution_count": null,
   "id": "198efdc7",
   "metadata": {
    "execution": {
     "iopub.execute_input": "2022-10-26T17:16:56.581342Z",
     "iopub.status.busy": "2022-10-26T17:16:56.580676Z",
     "iopub.status.idle": "2022-10-26T17:16:58.199388Z",
     "shell.execute_reply": "2022-10-26T17:16:58.198590Z",
     "shell.execute_reply.started": "2022-10-26T17:16:56.581277Z"
    },
    "papermill": {
     "duration": null,
     "end_time": null,
     "exception": null,
     "start_time": null,
     "status": "pending"
    },
    "tags": []
   },
   "outputs": [],
   "source": [
    "from upsetplot import plot\n",
    "df_up = df.groupby(list(bc_set_dict.keys())).size()\n",
    "plot(df_up, orientation='horizontal')"
   ]
  },
  {
   "cell_type": "markdown",
   "id": "2cc75336",
   "metadata": {
    "papermill": {
     "duration": null,
     "end_time": null,
     "exception": null,
     "start_time": null,
     "status": "pending"
    },
    "tags": []
   },
   "source": [
    "Ok, so nothing suspicious."
   ]
  },
  {
   "cell_type": "markdown",
   "id": "259ed6d9",
   "metadata": {
    "papermill": {
     "duration": null,
     "end_time": null,
     "exception": null,
     "start_time": null,
     "status": "pending"
    },
    "tags": []
   },
   "source": [
    "# override s3-atac"
   ]
  },
  {
   "cell_type": "code",
   "execution_count": null,
   "id": "cee22c35",
   "metadata": {
    "execution": {
     "iopub.execute_input": "2022-10-27T08:04:14.431367Z",
     "iopub.status.busy": "2022-10-27T08:04:14.430465Z",
     "iopub.status.idle": "2022-10-27T08:04:14.499631Z",
     "shell.execute_reply": "2022-10-27T08:04:14.498741Z",
     "shell.execute_reply.started": "2022-10-27T08:04:14.431299Z"
    },
    "papermill": {
     "duration": null,
     "end_time": null,
     "exception": null,
     "start_time": null,
     "status": "pending"
    },
    "tags": []
   },
   "outputs": [],
   "source": [
    "import pickle\n",
    "import pandas as pd\n",
    "\n",
    "with open(\"cistopic_qc_out/OHS_s3atac_mouse.FULL__metadata_bc.pkl\", \"rb\") as f:\n",
    "    df = pickle.load(f)"
   ]
  },
  {
   "cell_type": "code",
   "execution_count": null,
   "id": "85027c3b",
   "metadata": {
    "execution": {
     "iopub.execute_input": "2022-10-27T08:19:43.129671Z",
     "iopub.status.busy": "2022-10-27T08:19:43.128884Z",
     "iopub.status.idle": "2022-10-27T08:19:43.140427Z",
     "shell.execute_reply": "2022-10-27T08:19:43.139728Z",
     "shell.execute_reply.started": "2022-10-27T08:19:43.129607Z"
    },
    "papermill": {
     "duration": null,
     "end_time": null,
     "exception": null,
     "start_time": null,
     "status": "pending"
    },
    "tags": []
   },
   "outputs": [],
   "source": [
    "with open(\n",
    "    \"selected_barcodes/OHS_s3atac_mouse.FULL_bc_passing_filters_otsu.txt\", \"w\"\n",
    ") as f:\n",
    "    for x in df.index:\n",
    "        f.write(x + \"\\n\")"
   ]
  },
  {
   "cell_type": "code",
   "execution_count": null,
   "id": "a633c62f",
   "metadata": {
    "execution": {
     "iopub.execute_input": "2022-10-27T08:12:05.372438Z",
     "iopub.status.busy": "2022-10-27T08:12:05.371623Z",
     "iopub.status.idle": "2022-10-27T08:12:05.386473Z",
     "shell.execute_reply": "2022-10-27T08:12:05.385832Z",
     "shell.execute_reply.started": "2022-10-27T08:12:05.372370Z"
    },
    "papermill": {
     "duration": null,
     "end_time": null,
     "exception": null,
     "start_time": null,
     "status": "pending"
    },
    "tags": []
   },
   "outputs": [],
   "source": [
    "with open(\n",
    "    \"selected_barcodes/OHS_s3atac_mouse.FULL_bc_passing_filters_otsu.pkl\", \"wb\"\n",
    ") as f:\n",
    "    pickle.dump(df.index, f)"
   ]
  }
 ],
 "metadata": {
  "kernelspec": {
   "display_name": "20221014_pycistopic.sif",
   "language": "python",
   "name": "cistopic_20221014"
  },
  "language_info": {
   "codemirror_mode": {
    "name": "ipython",
    "version": 3
   },
   "file_extension": ".py",
   "mimetype": "text/x-python",
   "name": "python",
   "nbconvert_exporter": "python",
   "pygments_lexer": "ipython3",
   "version": "3.8.15"
  },
  "papermill": {
   "default_parameters": {},
   "duration": 7020.174738,
   "end_time": "2022-11-16T20:00:19.841105",
   "environment_variables": {},
   "exception": true,
   "input_path": "1_run_qc_manually.ipynb",
   "output_path": "1_run_qc_manually.OUT.ipynb",
   "parameters": {},
   "start_time": "2022-11-16T18:03:19.666367",
   "version": "2.3.4"
  }
 },
 "nbformat": 4,
 "nbformat_minor": 5
}
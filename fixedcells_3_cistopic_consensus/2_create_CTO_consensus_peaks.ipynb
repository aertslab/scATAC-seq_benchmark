{
 "cells": [
  {
   "cell_type": "markdown",
   "id": "0a98c932",
   "metadata": {
    "papermill": {
     "duration": 0.023266,
     "end_time": "2022-09-02T16:24:22.982381",
     "exception": false,
     "start_time": "2022-09-02T16:24:22.959115",
     "status": "completed"
    },
    "pycharm": {
     "name": "#%% md\n"
    },
    "tags": []
   },
   "source": [
    "# pycisTopic analysis\n",
    "\n",
    "Downsampled dataset, using CONSENSUS peaks."
   ]
  },
  {
   "cell_type": "code",
   "execution_count": 1,
   "id": "fe053cfb",
   "metadata": {
    "execution": {
     "iopub.execute_input": "2023-02-27T14:24:40.276479Z",
     "iopub.status.busy": "2023-02-27T14:24:40.275557Z",
     "iopub.status.idle": "2023-02-27T14:24:40.746843Z",
     "shell.execute_reply": "2023-02-27T14:24:40.745886Z",
     "shell.execute_reply.started": "2023-02-27T14:24:40.276319Z"
    },
    "papermill": {
     "duration": 0.146319,
     "end_time": "2022-09-02T16:24:23.145607",
     "exception": false,
     "start_time": "2022-09-02T16:24:22.999288",
     "status": "completed"
    },
    "pycharm": {
     "name": "#%%\n"
    },
    "tags": []
   },
   "outputs": [
    {
     "data": {
      "application/javascript": [
       "\n",
       "            setTimeout(function() {\n",
       "                var nbb_cell_id = 1;\n",
       "                var nbb_unformatted_code = \"import warnings\\nwarnings.filterwarnings('ignore')\\nwarnings.simplefilter('ignore')\\n\\nimport pickle\\nimport os\\nimport glob\\n%load_ext nb_black\";\n",
       "                var nbb_formatted_code = \"import warnings\\n\\nwarnings.filterwarnings(\\\"ignore\\\")\\nwarnings.simplefilter(\\\"ignore\\\")\\n\\nimport pickle\\nimport os\\nimport glob\\n\\n%load_ext nb_black\";\n",
       "                var nbb_cells = Jupyter.notebook.get_cells();\n",
       "                for (var i = 0; i < nbb_cells.length; ++i) {\n",
       "                    if (nbb_cells[i].input_prompt_number == nbb_cell_id) {\n",
       "                        if (nbb_cells[i].get_text() == nbb_unformatted_code) {\n",
       "                             nbb_cells[i].set_text(nbb_formatted_code);\n",
       "                        }\n",
       "                        break;\n",
       "                    }\n",
       "                }\n",
       "            }, 500);\n",
       "            "
      ],
      "text/plain": [
       "<IPython.core.display.Javascript object>"
      ]
     },
     "metadata": {},
     "output_type": "display_data"
    }
   ],
   "source": [
    "import warnings\n",
    "warnings.filterwarnings('ignore')\n",
    "warnings.simplefilter('ignore')\n",
    "\n",
    "import pickle\n",
    "import os\n",
    "import glob\n",
    "%load_ext nb_black"
   ]
  },
  {
   "cell_type": "code",
   "execution_count": 2,
   "id": "099786f1",
   "metadata": {
    "execution": {
     "iopub.execute_input": "2023-02-27T14:24:40.748558Z",
     "iopub.status.busy": "2023-02-27T14:24:40.748157Z",
     "iopub.status.idle": "2023-02-27T14:24:41.180613Z",
     "shell.execute_reply": "2023-02-27T14:24:41.178905Z",
     "shell.execute_reply.started": "2023-02-27T14:24:40.748535Z"
    },
    "papermill": {
     "duration": 0.1946,
     "end_time": "2022-09-02T16:24:23.360873",
     "exception": false,
     "start_time": "2022-09-02T16:24:23.166273",
     "status": "completed"
    },
    "pycharm": {
     "name": "#%%\n"
    },
    "tags": []
   },
   "outputs": [
    {
     "name": "stdout",
     "output_type": "stream",
     "text": [
      "/lustre1/project/stg_00090/scatac_benchmark/fixedcells_3_cistopic_consensus\n"
     ]
    },
    {
     "data": {
      "application/javascript": [
       "\n",
       "            setTimeout(function() {\n",
       "                var nbb_cell_id = 2;\n",
       "                var nbb_unformatted_code = \"!pwd\";\n",
       "                var nbb_formatted_code = \"!pwd\";\n",
       "                var nbb_cells = Jupyter.notebook.get_cells();\n",
       "                for (var i = 0; i < nbb_cells.length; ++i) {\n",
       "                    if (nbb_cells[i].input_prompt_number == nbb_cell_id) {\n",
       "                        if (nbb_cells[i].get_text() == nbb_unformatted_code) {\n",
       "                             nbb_cells[i].set_text(nbb_formatted_code);\n",
       "                        }\n",
       "                        break;\n",
       "                    }\n",
       "                }\n",
       "            }, 500);\n",
       "            "
      ],
      "text/plain": [
       "<IPython.core.display.Javascript object>"
      ]
     },
     "metadata": {},
     "output_type": "display_data"
    }
   ],
   "source": [
    "!pwd"
   ]
  },
  {
   "cell_type": "code",
   "execution_count": 3,
   "id": "833119b5",
   "metadata": {
    "execution": {
     "iopub.execute_input": "2023-02-27T14:24:41.941947Z",
     "iopub.status.busy": "2023-02-27T14:24:41.941125Z",
     "iopub.status.idle": "2023-02-27T14:24:41.955988Z",
     "shell.execute_reply": "2023-02-27T14:24:41.954609Z",
     "shell.execute_reply.started": "2023-02-27T14:24:41.941889Z"
    },
    "papermill": {
     "duration": 0.030242,
     "end_time": "2022-09-02T16:24:23.411547",
     "exception": false,
     "start_time": "2022-09-02T16:24:23.381305",
     "status": "completed"
    },
    "pycharm": {
     "name": "#%%\n"
    },
    "tags": []
   },
   "outputs": [
    {
     "data": {
      "application/javascript": [
       "\n",
       "            setTimeout(function() {\n",
       "                var nbb_cell_id = 3;\n",
       "                var nbb_unformatted_code = \"wdir = '/lustre1/project/stg_00090/scatac_benchmark/fixedcells_3_cistopic_consensus'\\nos.chdir(wdir)\";\n",
       "                var nbb_formatted_code = \"wdir = \\\"/lustre1/project/stg_00090/scatac_benchmark/fixedcells_3_cistopic_consensus\\\"\\nos.chdir(wdir)\";\n",
       "                var nbb_cells = Jupyter.notebook.get_cells();\n",
       "                for (var i = 0; i < nbb_cells.length; ++i) {\n",
       "                    if (nbb_cells[i].input_prompt_number == nbb_cell_id) {\n",
       "                        if (nbb_cells[i].get_text() == nbb_unformatted_code) {\n",
       "                             nbb_cells[i].set_text(nbb_formatted_code);\n",
       "                        }\n",
       "                        break;\n",
       "                    }\n",
       "                }\n",
       "            }, 500);\n",
       "            "
      ],
      "text/plain": [
       "<IPython.core.display.Javascript object>"
      ]
     },
     "metadata": {},
     "output_type": "display_data"
    }
   ],
   "source": [
    "wdir = '/lustre1/project/stg_00090/scatac_benchmark/fixedcells_3_cistopic_consensus'\n",
    "os.chdir(wdir)"
   ]
  },
  {
   "cell_type": "markdown",
   "id": "b187d686",
   "metadata": {
    "papermill": {
     "duration": 0.018587,
     "end_time": "2022-09-02T16:24:23.447939",
     "exception": false,
     "start_time": "2022-09-02T16:24:23.429352",
     "status": "completed"
    },
    "pycharm": {
     "name": "#%% md\n"
    },
    "tags": []
   },
   "source": [
    "## Create the cisTopic objects for each sample"
   ]
  },
  {
   "cell_type": "markdown",
   "id": "ca6eab98",
   "metadata": {
    "papermill": {
     "duration": 0.023827,
     "end_time": "2022-09-02T16:24:23.489519",
     "exception": false,
     "start_time": "2022-09-02T16:24:23.465692",
     "status": "completed"
    },
    "pycharm": {
     "name": "#%% md\n"
    },
    "tags": []
   },
   "source": [
    "Make a new output dir"
   ]
  },
  {
   "cell_type": "code",
   "execution_count": 4,
   "id": "4b16b4d9",
   "metadata": {
    "execution": {
     "iopub.execute_input": "2023-02-27T14:24:43.735136Z",
     "iopub.status.busy": "2023-02-27T14:24:43.734366Z",
     "iopub.status.idle": "2023-02-27T14:24:43.753207Z",
     "shell.execute_reply": "2023-02-27T14:24:43.752032Z",
     "shell.execute_reply.started": "2023-02-27T14:24:43.735079Z"
    },
    "papermill": {
     "duration": 0.030238,
     "end_time": "2022-09-02T16:24:23.537002",
     "exception": false,
     "start_time": "2022-09-02T16:24:23.506764",
     "status": "completed"
    },
    "pycharm": {
     "name": "#%%\n"
    },
    "tags": []
   },
   "outputs": [
    {
     "data": {
      "application/javascript": [
       "\n",
       "            setTimeout(function() {\n",
       "                var nbb_cell_id = 4;\n",
       "                var nbb_unformatted_code = \"cistopic_objects_out = 'cistopic_objects'\\nif not os.path.exists(os.path.join(wdir, cistopic_objects_out)):\\n    os.makedirs(os.path.join(wdir, cistopic_objects_out))\";\n",
       "                var nbb_formatted_code = \"cistopic_objects_out = \\\"cistopic_objects\\\"\\nif not os.path.exists(os.path.join(wdir, cistopic_objects_out)):\\n    os.makedirs(os.path.join(wdir, cistopic_objects_out))\";\n",
       "                var nbb_cells = Jupyter.notebook.get_cells();\n",
       "                for (var i = 0; i < nbb_cells.length; ++i) {\n",
       "                    if (nbb_cells[i].input_prompt_number == nbb_cell_id) {\n",
       "                        if (nbb_cells[i].get_text() == nbb_unformatted_code) {\n",
       "                             nbb_cells[i].set_text(nbb_formatted_code);\n",
       "                        }\n",
       "                        break;\n",
       "                    }\n",
       "                }\n",
       "            }, 500);\n",
       "            "
      ],
      "text/plain": [
       "<IPython.core.display.Javascript object>"
      ]
     },
     "metadata": {},
     "output_type": "display_data"
    }
   ],
   "source": [
    "cistopic_objects_out = 'cistopic_objects'\n",
    "if not os.path.exists(os.path.join(wdir, cistopic_objects_out)):\n",
    "    os.makedirs(os.path.join(wdir, cistopic_objects_out))"
   ]
  },
  {
   "cell_type": "markdown",
   "id": "368d2cf7",
   "metadata": {
    "papermill": {
     "duration": 0.017822,
     "end_time": "2022-09-02T16:24:23.572679",
     "exception": false,
     "start_time": "2022-09-02T16:24:23.554857",
     "status": "completed"
    },
    "pycharm": {
     "name": "#%% md\n"
    },
    "tags": []
   },
   "source": [
    "Create a dictionary with fragments files for each sample"
   ]
  },
  {
   "cell_type": "code",
   "execution_count": 5,
   "id": "6a9af6d7",
   "metadata": {
    "execution": {
     "iopub.execute_input": "2023-02-27T14:24:44.156813Z",
     "iopub.status.busy": "2023-02-27T14:24:44.156039Z",
     "iopub.status.idle": "2023-02-27T14:24:44.186671Z",
     "shell.execute_reply": "2023-02-27T14:24:44.185623Z",
     "shell.execute_reply.started": "2023-02-27T14:24:44.156743Z"
    },
    "papermill": {
     "duration": 0.038583,
     "end_time": "2022-09-02T16:24:23.629122",
     "exception": false,
     "start_time": "2022-09-02T16:24:23.590539",
     "status": "completed"
    },
    "pycharm": {
     "name": "#%%\n"
    },
    "tags": []
   },
   "outputs": [
    {
     "data": {
      "text/plain": [
       "{'BIO_ddseq_1.FIXEDCELLS': '../1_data_repository/fixedcells_fragments/BIO_ddseq_1.FIXEDCELLS.fragments.tsv.gz',\n",
       " 'BIO_ddseq_2.FIXEDCELLS': '../1_data_repository/fixedcells_fragments/BIO_ddseq_2.FIXEDCELLS.fragments.tsv.gz',\n",
       " 'BIO_ddseq_3.FIXEDCELLS': '../1_data_repository/fixedcells_fragments/BIO_ddseq_3.FIXEDCELLS.fragments.tsv.gz',\n",
       " 'BIO_ddseq_4.FIXEDCELLS': '../1_data_repository/fixedcells_fragments/BIO_ddseq_4.FIXEDCELLS.fragments.tsv.gz',\n",
       " 'BRO_mtscatac_1.FIXEDCELLS': '../1_data_repository/fixedcells_fragments/BRO_mtscatac_1.FIXEDCELLS.fragments.tsv.gz',\n",
       " 'BRO_mtscatac_2.FIXEDCELLS': '../1_data_repository/fixedcells_fragments/BRO_mtscatac_2.FIXEDCELLS.fragments.tsv.gz',\n",
       " 'CNA_10xmultiome_1.FIXEDCELLS': '../1_data_repository/fixedcells_fragments/CNA_10xmultiome_1.FIXEDCELLS.fragments.tsv.gz',\n",
       " 'CNA_10xmultiome_2.FIXEDCELLS': '../1_data_repository/fixedcells_fragments/CNA_10xmultiome_2.FIXEDCELLS.fragments.tsv.gz',\n",
       " 'CNA_10xv11_1.FIXEDCELLS': '../1_data_repository/fixedcells_fragments/CNA_10xv11_1.FIXEDCELLS.fragments.tsv.gz',\n",
       " 'CNA_10xv11_2.FIXEDCELLS': '../1_data_repository/fixedcells_fragments/CNA_10xv11_2.FIXEDCELLS.fragments.tsv.gz',\n",
       " 'CNA_10xv11_3.FIXEDCELLS': '../1_data_repository/fixedcells_fragments/CNA_10xv11_3.FIXEDCELLS.fragments.tsv.gz',\n",
       " 'CNA_10xv11_4.FIXEDCELLS': '../1_data_repository/fixedcells_fragments/CNA_10xv11_4.FIXEDCELLS.fragments.tsv.gz',\n",
       " 'CNA_10xv11_5.FIXEDCELLS': '../1_data_repository/fixedcells_fragments/CNA_10xv11_5.FIXEDCELLS.fragments.tsv.gz',\n",
       " 'CNA_10xv2_1.FIXEDCELLS': '../1_data_repository/fixedcells_fragments/CNA_10xv2_1.FIXEDCELLS.fragments.tsv.gz',\n",
       " 'CNA_10xv2_2.FIXEDCELLS': '../1_data_repository/fixedcells_fragments/CNA_10xv2_2.FIXEDCELLS.fragments.tsv.gz',\n",
       " 'CNA_hydrop_1.FIXEDCELLS': '../1_data_repository/fixedcells_fragments/CNA_hydrop_1.FIXEDCELLS.fragments.tsv.gz',\n",
       " 'CNA_hydrop_2.FIXEDCELLS': '../1_data_repository/fixedcells_fragments/CNA_hydrop_2.FIXEDCELLS.fragments.tsv.gz',\n",
       " 'CNA_hydrop_3.FIXEDCELLS': '../1_data_repository/fixedcells_fragments/CNA_hydrop_3.FIXEDCELLS.fragments.tsv.gz',\n",
       " 'CNA_mtscatac_1.FIXEDCELLS': '../1_data_repository/fixedcells_fragments/CNA_mtscatac_1.FIXEDCELLS.fragments.tsv.gz',\n",
       " 'CNA_mtscatac_2.FIXEDCELLS': '../1_data_repository/fixedcells_fragments/CNA_mtscatac_2.FIXEDCELLS.fragments.tsv.gz',\n",
       " 'EPF_hydrop_1.FIXEDCELLS': '../1_data_repository/fixedcells_fragments/EPF_hydrop_1.FIXEDCELLS.fragments.tsv.gz',\n",
       " 'EPF_hydrop_2.FIXEDCELLS': '../1_data_repository/fixedcells_fragments/EPF_hydrop_2.FIXEDCELLS.fragments.tsv.gz',\n",
       " 'EPF_hydrop_3.FIXEDCELLS': '../1_data_repository/fixedcells_fragments/EPF_hydrop_3.FIXEDCELLS.fragments.tsv.gz',\n",
       " 'EPF_hydrop_4.FIXEDCELLS': '../1_data_repository/fixedcells_fragments/EPF_hydrop_4.FIXEDCELLS.fragments.tsv.gz',\n",
       " 'HAR_ddseq_1.FIXEDCELLS': '../1_data_repository/fixedcells_fragments/HAR_ddseq_1.FIXEDCELLS.fragments.tsv.gz',\n",
       " 'HAR_ddseq_2.FIXEDCELLS': '../1_data_repository/fixedcells_fragments/HAR_ddseq_2.FIXEDCELLS.fragments.tsv.gz',\n",
       " 'MDC_mtscatac_1.FIXEDCELLS': '../1_data_repository/fixedcells_fragments/MDC_mtscatac_1.FIXEDCELLS.fragments.tsv.gz',\n",
       " 'MDC_mtscatac_2.FIXEDCELLS': '../1_data_repository/fixedcells_fragments/MDC_mtscatac_2.FIXEDCELLS.fragments.tsv.gz',\n",
       " 'OHS_s3atac_1.FIXEDCELLS': '../1_data_repository/fixedcells_fragments/OHS_s3atac_1.FIXEDCELLS.fragments.tsv.gz',\n",
       " 'OHS_s3atac_2.FIXEDCELLS': '../1_data_repository/fixedcells_fragments/OHS_s3atac_2.FIXEDCELLS.fragments.tsv.gz',\n",
       " 'SAN_10xmultiome_1.FIXEDCELLS': '../1_data_repository/fixedcells_fragments/SAN_10xmultiome_1.FIXEDCELLS.fragments.tsv.gz',\n",
       " 'SAN_10xmultiome_2.FIXEDCELLS': '../1_data_repository/fixedcells_fragments/SAN_10xmultiome_2.FIXEDCELLS.fragments.tsv.gz',\n",
       " 'STA_10xv11_1.FIXEDCELLS': '../1_data_repository/fixedcells_fragments/STA_10xv11_1.FIXEDCELLS.fragments.tsv.gz',\n",
       " 'STA_10xv11_2.FIXEDCELLS': '../1_data_repository/fixedcells_fragments/STA_10xv11_2.FIXEDCELLS.fragments.tsv.gz',\n",
       " 'TXG_10xv11_1.FIXEDCELLS': '../1_data_repository/fixedcells_fragments/TXG_10xv11_1.FIXEDCELLS.fragments.tsv.gz',\n",
       " 'TXG_10xv2_1.FIXEDCELLS': '../1_data_repository/fixedcells_fragments/TXG_10xv2_1.FIXEDCELLS.fragments.tsv.gz',\n",
       " 'TXG_10xv2_2.FIXEDCELLS': '../1_data_repository/fixedcells_fragments/TXG_10xv2_2.FIXEDCELLS.fragments.tsv.gz',\n",
       " 'UCS_ddseq_1.FIXEDCELLS': '../1_data_repository/fixedcells_fragments/UCS_ddseq_1.FIXEDCELLS.fragments.tsv.gz',\n",
       " 'UCS_ddseq_2.FIXEDCELLS': '../1_data_repository/fixedcells_fragments/UCS_ddseq_2.FIXEDCELLS.fragments.tsv.gz',\n",
       " 'VIB_10xmultiome_1.FIXEDCELLS': '../1_data_repository/fixedcells_fragments/VIB_10xmultiome_1.FIXEDCELLS.fragments.tsv.gz',\n",
       " 'VIB_10xmultiome_2.FIXEDCELLS': '../1_data_repository/fixedcells_fragments/VIB_10xmultiome_2.FIXEDCELLS.fragments.tsv.gz',\n",
       " 'VIB_10xv1_1.FIXEDCELLS': '../1_data_repository/fixedcells_fragments/VIB_10xv1_1.FIXEDCELLS.fragments.tsv.gz',\n",
       " 'VIB_10xv1_2.FIXEDCELLS': '../1_data_repository/fixedcells_fragments/VIB_10xv1_2.FIXEDCELLS.fragments.tsv.gz',\n",
       " 'VIB_10xv2_1.FIXEDCELLS': '../1_data_repository/fixedcells_fragments/VIB_10xv2_1.FIXEDCELLS.fragments.tsv.gz',\n",
       " 'VIB_10xv2_2.FIXEDCELLS': '../1_data_repository/fixedcells_fragments/VIB_10xv2_2.FIXEDCELLS.fragments.tsv.gz',\n",
       " 'VIB_hydrop_1.FIXEDCELLS': '../1_data_repository/fixedcells_fragments/VIB_hydrop_1.FIXEDCELLS.fragments.tsv.gz',\n",
       " 'VIB_hydrop_11.FIXEDCELLS': '../1_data_repository/fixedcells_fragments/VIB_hydrop_11.FIXEDCELLS.fragments.tsv.gz',\n",
       " 'VIB_hydrop_12.FIXEDCELLS': '../1_data_repository/fixedcells_fragments/VIB_hydrop_12.FIXEDCELLS.fragments.tsv.gz',\n",
       " 'VIB_hydrop_2.FIXEDCELLS': '../1_data_repository/fixedcells_fragments/VIB_hydrop_2.FIXEDCELLS.fragments.tsv.gz',\n",
       " 'VIB_hydrop_21.FIXEDCELLS': '../1_data_repository/fixedcells_fragments/VIB_hydrop_21.FIXEDCELLS.fragments.tsv.gz',\n",
       " 'VIB_hydrop_22.FIXEDCELLS': '../1_data_repository/fixedcells_fragments/VIB_hydrop_22.FIXEDCELLS.fragments.tsv.gz'}"
      ]
     },
     "execution_count": 5,
     "metadata": {},
     "output_type": "execute_result"
    },
    {
     "data": {
      "application/javascript": [
       "\n",
       "            setTimeout(function() {\n",
       "                var nbb_cell_id = 5;\n",
       "                var nbb_unformatted_code = \"filenames = sorted(glob.glob('../1_data_repository/fixedcells_fragments/*.fragments.tsv.gz'))\\nfragments_dict = {}\\nfor filename in filenames:\\n    sample = filename.split('/')[-1].split('.fragments.tsv.gz')[0]\\n    fragments_dict[sample] = filename\\nfragments_dict\";\n",
       "                var nbb_formatted_code = \"filenames = sorted(\\n    glob.glob(\\\"../1_data_repository/fixedcells_fragments/*.fragments.tsv.gz\\\")\\n)\\nfragments_dict = {}\\nfor filename in filenames:\\n    sample = filename.split(\\\"/\\\")[-1].split(\\\".fragments.tsv.gz\\\")[0]\\n    fragments_dict[sample] = filename\\nfragments_dict\";\n",
       "                var nbb_cells = Jupyter.notebook.get_cells();\n",
       "                for (var i = 0; i < nbb_cells.length; ++i) {\n",
       "                    if (nbb_cells[i].input_prompt_number == nbb_cell_id) {\n",
       "                        if (nbb_cells[i].get_text() == nbb_unformatted_code) {\n",
       "                             nbb_cells[i].set_text(nbb_formatted_code);\n",
       "                        }\n",
       "                        break;\n",
       "                    }\n",
       "                }\n",
       "            }, 500);\n",
       "            "
      ],
      "text/plain": [
       "<IPython.core.display.Javascript object>"
      ]
     },
     "metadata": {},
     "output_type": "display_data"
    }
   ],
   "source": [
    "filenames = sorted(glob.glob('../1_data_repository/fixedcells_fragments/*.fragments.tsv.gz'))\n",
    "fragments_dict = {}\n",
    "for filename in filenames:\n",
    "    sample = filename.split('/')[-1].split('.fragments.tsv.gz')[0]\n",
    "    fragments_dict[sample] = filename\n",
    "fragments_dict"
   ]
  },
  {
   "cell_type": "code",
   "execution_count": 6,
   "id": "8b9c8889",
   "metadata": {
    "execution": {
     "iopub.execute_input": "2023-02-27T14:24:45.789265Z",
     "iopub.status.busy": "2023-02-27T14:24:45.788493Z",
     "iopub.status.idle": "2023-02-27T14:24:45.815993Z",
     "shell.execute_reply": "2023-02-27T14:24:45.814852Z",
     "shell.execute_reply.started": "2023-02-27T14:24:45.789208Z"
    },
    "papermill": {
     "duration": 0.032116,
     "end_time": "2022-09-02T16:24:23.679507",
     "exception": false,
     "start_time": "2022-09-02T16:24:23.647391",
     "status": "completed"
    },
    "pycharm": {
     "name": "#%%\n"
    },
    "tags": []
   },
   "outputs": [
    {
     "data": {
      "text/plain": [
       "{'BIO_ddseq_1.FIXEDCELLS': 'cistopic_qc_out_CONSENSUS/BIO_ddseq_1.FIXEDCELLS__metadata_bc.pkl',\n",
       " 'BIO_ddseq_2.FIXEDCELLS': 'cistopic_qc_out_CONSENSUS/BIO_ddseq_2.FIXEDCELLS__metadata_bc.pkl',\n",
       " 'BIO_ddseq_3.FIXEDCELLS': 'cistopic_qc_out_CONSENSUS/BIO_ddseq_3.FIXEDCELLS__metadata_bc.pkl',\n",
       " 'BIO_ddseq_4.FIXEDCELLS': 'cistopic_qc_out_CONSENSUS/BIO_ddseq_4.FIXEDCELLS__metadata_bc.pkl',\n",
       " 'BRO_mtscatac_1.FIXEDCELLS': 'cistopic_qc_out_CONSENSUS/BRO_mtscatac_1.FIXEDCELLS__metadata_bc.pkl',\n",
       " 'BRO_mtscatac_2.FIXEDCELLS': 'cistopic_qc_out_CONSENSUS/BRO_mtscatac_2.FIXEDCELLS__metadata_bc.pkl',\n",
       " 'CNA_10xmultiome_1.FIXEDCELLS': 'cistopic_qc_out_CONSENSUS/CNA_10xmultiome_1.FIXEDCELLS__metadata_bc.pkl',\n",
       " 'CNA_10xmultiome_2.FIXEDCELLS': 'cistopic_qc_out_CONSENSUS/CNA_10xmultiome_2.FIXEDCELLS__metadata_bc.pkl',\n",
       " 'CNA_10xv11_1.FIXEDCELLS': 'cistopic_qc_out_CONSENSUS/CNA_10xv11_1.FIXEDCELLS__metadata_bc.pkl',\n",
       " 'CNA_10xv11_2.FIXEDCELLS': 'cistopic_qc_out_CONSENSUS/CNA_10xv11_2.FIXEDCELLS__metadata_bc.pkl',\n",
       " 'CNA_10xv11_3.FIXEDCELLS': 'cistopic_qc_out_CONSENSUS/CNA_10xv11_3.FIXEDCELLS__metadata_bc.pkl',\n",
       " 'CNA_10xv11_4.FIXEDCELLS': 'cistopic_qc_out_CONSENSUS/CNA_10xv11_4.FIXEDCELLS__metadata_bc.pkl',\n",
       " 'CNA_10xv11_5.FIXEDCELLS': 'cistopic_qc_out_CONSENSUS/CNA_10xv11_5.FIXEDCELLS__metadata_bc.pkl',\n",
       " 'CNA_10xv2_1.FIXEDCELLS': 'cistopic_qc_out_CONSENSUS/CNA_10xv2_1.FIXEDCELLS__metadata_bc.pkl',\n",
       " 'CNA_10xv2_2.FIXEDCELLS': 'cistopic_qc_out_CONSENSUS/CNA_10xv2_2.FIXEDCELLS__metadata_bc.pkl',\n",
       " 'CNA_hydrop_1.FIXEDCELLS': 'cistopic_qc_out_CONSENSUS/CNA_hydrop_1.FIXEDCELLS__metadata_bc.pkl',\n",
       " 'CNA_hydrop_2.FIXEDCELLS': 'cistopic_qc_out_CONSENSUS/CNA_hydrop_2.FIXEDCELLS__metadata_bc.pkl',\n",
       " 'CNA_hydrop_3.FIXEDCELLS': 'cistopic_qc_out_CONSENSUS/CNA_hydrop_3.FIXEDCELLS__metadata_bc.pkl',\n",
       " 'CNA_mtscatac_1.FIXEDCELLS': 'cistopic_qc_out_CONSENSUS/CNA_mtscatac_1.FIXEDCELLS__metadata_bc.pkl',\n",
       " 'CNA_mtscatac_2.FIXEDCELLS': 'cistopic_qc_out_CONSENSUS/CNA_mtscatac_2.FIXEDCELLS__metadata_bc.pkl',\n",
       " 'EPF_hydrop_1.FIXEDCELLS': 'cistopic_qc_out_CONSENSUS/EPF_hydrop_1.FIXEDCELLS__metadata_bc.pkl',\n",
       " 'EPF_hydrop_2.FIXEDCELLS': 'cistopic_qc_out_CONSENSUS/EPF_hydrop_2.FIXEDCELLS__metadata_bc.pkl',\n",
       " 'EPF_hydrop_3.FIXEDCELLS': 'cistopic_qc_out_CONSENSUS/EPF_hydrop_3.FIXEDCELLS__metadata_bc.pkl',\n",
       " 'EPF_hydrop_4.FIXEDCELLS': 'cistopic_qc_out_CONSENSUS/EPF_hydrop_4.FIXEDCELLS__metadata_bc.pkl',\n",
       " 'HAR_ddseq_1.FIXEDCELLS': 'cistopic_qc_out_CONSENSUS/HAR_ddseq_1.FIXEDCELLS__metadata_bc.pkl',\n",
       " 'HAR_ddseq_2.FIXEDCELLS': 'cistopic_qc_out_CONSENSUS/HAR_ddseq_2.FIXEDCELLS__metadata_bc.pkl',\n",
       " 'MDC_mtscatac_1.FIXEDCELLS': 'cistopic_qc_out_CONSENSUS/MDC_mtscatac_1.FIXEDCELLS__metadata_bc.pkl',\n",
       " 'MDC_mtscatac_2.FIXEDCELLS': 'cistopic_qc_out_CONSENSUS/MDC_mtscatac_2.FIXEDCELLS__metadata_bc.pkl',\n",
       " 'OHS_s3atac_1.FIXEDCELLS': 'cistopic_qc_out_CONSENSUS/OHS_s3atac_1.FIXEDCELLS__metadata_bc.pkl',\n",
       " 'OHS_s3atac_2.FIXEDCELLS': 'cistopic_qc_out_CONSENSUS/OHS_s3atac_2.FIXEDCELLS__metadata_bc.pkl',\n",
       " 'SAN_10xmultiome_1.FIXEDCELLS': 'cistopic_qc_out_CONSENSUS/SAN_10xmultiome_1.FIXEDCELLS__metadata_bc.pkl',\n",
       " 'SAN_10xmultiome_2.FIXEDCELLS': 'cistopic_qc_out_CONSENSUS/SAN_10xmultiome_2.FIXEDCELLS__metadata_bc.pkl',\n",
       " 'STA_10xv11_1.FIXEDCELLS': 'cistopic_qc_out_CONSENSUS/STA_10xv11_1.FIXEDCELLS__metadata_bc.pkl',\n",
       " 'STA_10xv11_2.FIXEDCELLS': 'cistopic_qc_out_CONSENSUS/STA_10xv11_2.FIXEDCELLS__metadata_bc.pkl',\n",
       " 'TXG_10xv11_1.FIXEDCELLS': 'cistopic_qc_out_CONSENSUS/TXG_10xv11_1.FIXEDCELLS__metadata_bc.pkl',\n",
       " 'TXG_10xv2_1.FIXEDCELLS': 'cistopic_qc_out_CONSENSUS/TXG_10xv2_1.FIXEDCELLS__metadata_bc.pkl',\n",
       " 'TXG_10xv2_2.FIXEDCELLS': 'cistopic_qc_out_CONSENSUS/TXG_10xv2_2.FIXEDCELLS__metadata_bc.pkl',\n",
       " 'UCS_ddseq_1.FIXEDCELLS': 'cistopic_qc_out_CONSENSUS/UCS_ddseq_1.FIXEDCELLS__metadata_bc.pkl',\n",
       " 'UCS_ddseq_2.FIXEDCELLS': 'cistopic_qc_out_CONSENSUS/UCS_ddseq_2.FIXEDCELLS__metadata_bc.pkl',\n",
       " 'VIB_10xmultiome_1.FIXEDCELLS': 'cistopic_qc_out_CONSENSUS/VIB_10xmultiome_1.FIXEDCELLS__metadata_bc.pkl',\n",
       " 'VIB_10xmultiome_2.FIXEDCELLS': 'cistopic_qc_out_CONSENSUS/VIB_10xmultiome_2.FIXEDCELLS__metadata_bc.pkl',\n",
       " 'VIB_10xv1_1.FIXEDCELLS': 'cistopic_qc_out_CONSENSUS/VIB_10xv1_1.FIXEDCELLS__metadata_bc.pkl',\n",
       " 'VIB_10xv1_2.FIXEDCELLS': 'cistopic_qc_out_CONSENSUS/VIB_10xv1_2.FIXEDCELLS__metadata_bc.pkl',\n",
       " 'VIB_10xv2_1.FIXEDCELLS': 'cistopic_qc_out_CONSENSUS/VIB_10xv2_1.FIXEDCELLS__metadata_bc.pkl',\n",
       " 'VIB_10xv2_2.FIXEDCELLS': 'cistopic_qc_out_CONSENSUS/VIB_10xv2_2.FIXEDCELLS__metadata_bc.pkl',\n",
       " 'VIB_hydrop_1.FIXEDCELLS': 'cistopic_qc_out_CONSENSUS/VIB_hydrop_1.FIXEDCELLS__metadata_bc.pkl',\n",
       " 'VIB_hydrop_11.FIXEDCELLS': 'cistopic_qc_out_CONSENSUS/VIB_hydrop_11.FIXEDCELLS__metadata_bc.pkl',\n",
       " 'VIB_hydrop_12.FIXEDCELLS': 'cistopic_qc_out_CONSENSUS/VIB_hydrop_12.FIXEDCELLS__metadata_bc.pkl',\n",
       " 'VIB_hydrop_2.FIXEDCELLS': 'cistopic_qc_out_CONSENSUS/VIB_hydrop_2.FIXEDCELLS__metadata_bc.pkl',\n",
       " 'VIB_hydrop_21.FIXEDCELLS': 'cistopic_qc_out_CONSENSUS/VIB_hydrop_21.FIXEDCELLS__metadata_bc.pkl',\n",
       " 'VIB_hydrop_22.FIXEDCELLS': 'cistopic_qc_out_CONSENSUS/VIB_hydrop_22.FIXEDCELLS__metadata_bc.pkl'}"
      ]
     },
     "execution_count": 6,
     "metadata": {},
     "output_type": "execute_result"
    },
    {
     "data": {
      "application/javascript": [
       "\n",
       "            setTimeout(function() {\n",
       "                var nbb_cell_id = 6;\n",
       "                var nbb_unformatted_code = \"metadata_bc_sub_dict = {x.split('/')[-1].split(f'__')[0]: x for x in sorted(glob.glob(\\\"cistopic_qc_out_CONSENSUS/*metadata_bc.pkl\\\"))}\\nmetadata_bc_sub_dict\";\n",
       "                var nbb_formatted_code = \"metadata_bc_sub_dict = {\\n    x.split(\\\"/\\\")[-1].split(f\\\"__\\\")[0]: x\\n    for x in sorted(glob.glob(\\\"cistopic_qc_out_CONSENSUS/*metadata_bc.pkl\\\"))\\n}\\nmetadata_bc_sub_dict\";\n",
       "                var nbb_cells = Jupyter.notebook.get_cells();\n",
       "                for (var i = 0; i < nbb_cells.length; ++i) {\n",
       "                    if (nbb_cells[i].input_prompt_number == nbb_cell_id) {\n",
       "                        if (nbb_cells[i].get_text() == nbb_unformatted_code) {\n",
       "                             nbb_cells[i].set_text(nbb_formatted_code);\n",
       "                        }\n",
       "                        break;\n",
       "                    }\n",
       "                }\n",
       "            }, 500);\n",
       "            "
      ],
      "text/plain": [
       "<IPython.core.display.Javascript object>"
      ]
     },
     "metadata": {},
     "output_type": "display_data"
    }
   ],
   "source": [
    "metadata_bc_sub_dict = {x.split('/')[-1].split(f'__')[0]: x for x in sorted(glob.glob(\"cistopic_qc_out_CONSENSUS/*metadata_bc.pkl\"))}\n",
    "metadata_bc_sub_dict"
   ]
  },
  {
   "cell_type": "code",
   "execution_count": 7,
   "id": "4e80b071",
   "metadata": {
    "execution": {
     "iopub.execute_input": "2023-02-27T14:24:47.080704Z",
     "iopub.status.busy": "2023-02-27T14:24:47.079940Z",
     "iopub.status.idle": "2023-02-27T14:24:47.097209Z",
     "shell.execute_reply": "2023-02-27T14:24:47.095573Z",
     "shell.execute_reply.started": "2023-02-27T14:24:47.080646Z"
    },
    "tags": []
   },
   "outputs": [
    {
     "data": {
      "text/plain": [
       "'cistopic_qc_out_CONSENSUS/VIB_hydrop_2.FIXEDCELLS__metadata_bc.pkl'"
      ]
     },
     "execution_count": 7,
     "metadata": {},
     "output_type": "execute_result"
    },
    {
     "data": {
      "application/javascript": [
       "\n",
       "            setTimeout(function() {\n",
       "                var nbb_cell_id = 7;\n",
       "                var nbb_unformatted_code = \"metadata_bc_sub_dict.pop('VIB_hydrop_1.FIXEDCELLS')\\nmetadata_bc_sub_dict.pop('VIB_hydrop_2.FIXEDCELLS')\";\n",
       "                var nbb_formatted_code = \"metadata_bc_sub_dict.pop(\\\"VIB_hydrop_1.FIXEDCELLS\\\")\\nmetadata_bc_sub_dict.pop(\\\"VIB_hydrop_2.FIXEDCELLS\\\")\";\n",
       "                var nbb_cells = Jupyter.notebook.get_cells();\n",
       "                for (var i = 0; i < nbb_cells.length; ++i) {\n",
       "                    if (nbb_cells[i].input_prompt_number == nbb_cell_id) {\n",
       "                        if (nbb_cells[i].get_text() == nbb_unformatted_code) {\n",
       "                             nbb_cells[i].set_text(nbb_formatted_code);\n",
       "                        }\n",
       "                        break;\n",
       "                    }\n",
       "                }\n",
       "            }, 500);\n",
       "            "
      ],
      "text/plain": [
       "<IPython.core.display.Javascript object>"
      ]
     },
     "metadata": {},
     "output_type": "display_data"
    }
   ],
   "source": [
    "metadata_bc_sub_dict.pop('VIB_hydrop_1.FIXEDCELLS')\n",
    "metadata_bc_sub_dict.pop('VIB_hydrop_2.FIXEDCELLS')"
   ]
  },
  {
   "cell_type": "code",
   "execution_count": 8,
   "id": "6993cb6f",
   "metadata": {
    "execution": {
     "iopub.execute_input": "2023-02-27T14:24:49.891871Z",
     "iopub.status.busy": "2023-02-27T14:24:49.891099Z",
     "iopub.status.idle": "2023-02-27T14:24:49.917314Z",
     "shell.execute_reply": "2023-02-27T14:24:49.916211Z",
     "shell.execute_reply.started": "2023-02-27T14:24:49.891814Z"
    },
    "papermill": {
     "duration": 0.036492,
     "end_time": "2022-09-02T16:24:23.735033",
     "exception": false,
     "start_time": "2022-09-02T16:24:23.698541",
     "status": "completed"
    },
    "pycharm": {
     "name": "#%%\n"
    },
    "tags": []
   },
   "outputs": [
    {
     "data": {
      "text/plain": [
       "{'BIO_ddseq_1.FIXEDCELLS': 'selected_barcodes/BIO_ddseq_1.FIXEDCELLS_bc_passing_filters_otsu.pkl',\n",
       " 'BIO_ddseq_2.FIXEDCELLS': 'selected_barcodes/BIO_ddseq_2.FIXEDCELLS_bc_passing_filters_otsu.pkl',\n",
       " 'BIO_ddseq_3.FIXEDCELLS': 'selected_barcodes/BIO_ddseq_3.FIXEDCELLS_bc_passing_filters_otsu.pkl',\n",
       " 'BIO_ddseq_4.FIXEDCELLS': 'selected_barcodes/BIO_ddseq_4.FIXEDCELLS_bc_passing_filters_otsu.pkl',\n",
       " 'BRO_mtscatac_1.FIXEDCELLS': 'selected_barcodes/BRO_mtscatac_1.FIXEDCELLS_bc_passing_filters_otsu.pkl',\n",
       " 'BRO_mtscatac_2.FIXEDCELLS': 'selected_barcodes/BRO_mtscatac_2.FIXEDCELLS_bc_passing_filters_otsu.pkl',\n",
       " 'CNA_10xmultiome_1.FIXEDCELLS': 'selected_barcodes/CNA_10xmultiome_1.FIXEDCELLS_bc_passing_filters_otsu.pkl',\n",
       " 'CNA_10xmultiome_2.FIXEDCELLS': 'selected_barcodes/CNA_10xmultiome_2.FIXEDCELLS_bc_passing_filters_otsu.pkl',\n",
       " 'CNA_10xv11_1.FIXEDCELLS': 'selected_barcodes/CNA_10xv11_1.FIXEDCELLS_bc_passing_filters_otsu.pkl',\n",
       " 'CNA_10xv11_2.FIXEDCELLS': 'selected_barcodes/CNA_10xv11_2.FIXEDCELLS_bc_passing_filters_otsu.pkl',\n",
       " 'CNA_10xv11_3.FIXEDCELLS': 'selected_barcodes/CNA_10xv11_3.FIXEDCELLS_bc_passing_filters_otsu.pkl',\n",
       " 'CNA_10xv11_4.FIXEDCELLS': 'selected_barcodes/CNA_10xv11_4.FIXEDCELLS_bc_passing_filters_otsu.pkl',\n",
       " 'CNA_10xv11_5.FIXEDCELLS': 'selected_barcodes/CNA_10xv11_5.FIXEDCELLS_bc_passing_filters_otsu.pkl',\n",
       " 'CNA_10xv2_1.FIXEDCELLS': 'selected_barcodes/CNA_10xv2_1.FIXEDCELLS_bc_passing_filters_otsu.pkl',\n",
       " 'CNA_10xv2_2.FIXEDCELLS': 'selected_barcodes/CNA_10xv2_2.FIXEDCELLS_bc_passing_filters_otsu.pkl',\n",
       " 'CNA_hydrop_1.FIXEDCELLS': 'selected_barcodes/CNA_hydrop_1.FIXEDCELLS_bc_passing_filters_otsu.pkl',\n",
       " 'CNA_hydrop_2.FIXEDCELLS': 'selected_barcodes/CNA_hydrop_2.FIXEDCELLS_bc_passing_filters_otsu.pkl',\n",
       " 'CNA_hydrop_3.FIXEDCELLS': 'selected_barcodes/CNA_hydrop_3.FIXEDCELLS_bc_passing_filters_otsu.pkl',\n",
       " 'CNA_mtscatac_1.FIXEDCELLS': 'selected_barcodes/CNA_mtscatac_1.FIXEDCELLS_bc_passing_filters_otsu.pkl',\n",
       " 'CNA_mtscatac_2.FIXEDCELLS': 'selected_barcodes/CNA_mtscatac_2.FIXEDCELLS_bc_passing_filters_otsu.pkl',\n",
       " 'EPF_hydrop_1.FIXEDCELLS': 'selected_barcodes/EPF_hydrop_1.FIXEDCELLS_bc_passing_filters_otsu.pkl',\n",
       " 'EPF_hydrop_2.FIXEDCELLS': 'selected_barcodes/EPF_hydrop_2.FIXEDCELLS_bc_passing_filters_otsu.pkl',\n",
       " 'EPF_hydrop_3.FIXEDCELLS': 'selected_barcodes/EPF_hydrop_3.FIXEDCELLS_bc_passing_filters_otsu.pkl',\n",
       " 'EPF_hydrop_4.FIXEDCELLS': 'selected_barcodes/EPF_hydrop_4.FIXEDCELLS_bc_passing_filters_otsu.pkl',\n",
       " 'HAR_ddseq_1.FIXEDCELLS': 'selected_barcodes/HAR_ddseq_1.FIXEDCELLS_bc_passing_filters_otsu.pkl',\n",
       " 'HAR_ddseq_2.FIXEDCELLS': 'selected_barcodes/HAR_ddseq_2.FIXEDCELLS_bc_passing_filters_otsu.pkl',\n",
       " 'MDC_mtscatac_1.FIXEDCELLS': 'selected_barcodes/MDC_mtscatac_1.FIXEDCELLS_bc_passing_filters_otsu.pkl',\n",
       " 'MDC_mtscatac_2.FIXEDCELLS': 'selected_barcodes/MDC_mtscatac_2.FIXEDCELLS_bc_passing_filters_otsu.pkl',\n",
       " 'OHS_s3atac_1.FIXEDCELLS': 'selected_barcodes/OHS_s3atac_1.FIXEDCELLS_bc_passing_filters_otsu.pkl',\n",
       " 'OHS_s3atac_2.FIXEDCELLS': 'selected_barcodes/OHS_s3atac_2.FIXEDCELLS_bc_passing_filters_otsu.pkl',\n",
       " 'SAN_10xmultiome_1.FIXEDCELLS': 'selected_barcodes/SAN_10xmultiome_1.FIXEDCELLS_bc_passing_filters_otsu.pkl',\n",
       " 'SAN_10xmultiome_2.FIXEDCELLS': 'selected_barcodes/SAN_10xmultiome_2.FIXEDCELLS_bc_passing_filters_otsu.pkl',\n",
       " 'STA_10xv11_1.FIXEDCELLS': 'selected_barcodes/STA_10xv11_1.FIXEDCELLS_bc_passing_filters_otsu.pkl',\n",
       " 'STA_10xv11_2.FIXEDCELLS': 'selected_barcodes/STA_10xv11_2.FIXEDCELLS_bc_passing_filters_otsu.pkl',\n",
       " 'TXG_10xv11_1.FIXEDCELLS': 'selected_barcodes/TXG_10xv11_1.FIXEDCELLS_bc_passing_filters_otsu.pkl',\n",
       " 'TXG_10xv2_1.FIXEDCELLS': 'selected_barcodes/TXG_10xv2_1.FIXEDCELLS_bc_passing_filters_otsu.pkl',\n",
       " 'TXG_10xv2_2.FIXEDCELLS': 'selected_barcodes/TXG_10xv2_2.FIXEDCELLS_bc_passing_filters_otsu.pkl',\n",
       " 'UCS_ddseq_1.FIXEDCELLS': 'selected_barcodes/UCS_ddseq_1.FIXEDCELLS_bc_passing_filters_otsu.pkl',\n",
       " 'UCS_ddseq_2.FIXEDCELLS': 'selected_barcodes/UCS_ddseq_2.FIXEDCELLS_bc_passing_filters_otsu.pkl',\n",
       " 'VIB_10xmultiome_1.FIXEDCELLS': 'selected_barcodes/VIB_10xmultiome_1.FIXEDCELLS_bc_passing_filters_otsu.pkl',\n",
       " 'VIB_10xmultiome_2.FIXEDCELLS': 'selected_barcodes/VIB_10xmultiome_2.FIXEDCELLS_bc_passing_filters_otsu.pkl',\n",
       " 'VIB_10xv1_1.FIXEDCELLS': 'selected_barcodes/VIB_10xv1_1.FIXEDCELLS_bc_passing_filters_otsu.pkl',\n",
       " 'VIB_10xv1_2.FIXEDCELLS': 'selected_barcodes/VIB_10xv1_2.FIXEDCELLS_bc_passing_filters_otsu.pkl',\n",
       " 'VIB_10xv2_1.FIXEDCELLS': 'selected_barcodes/VIB_10xv2_1.FIXEDCELLS_bc_passing_filters_otsu.pkl',\n",
       " 'VIB_10xv2_2.FIXEDCELLS': 'selected_barcodes/VIB_10xv2_2.FIXEDCELLS_bc_passing_filters_otsu.pkl',\n",
       " 'VIB_hydrop_1.FIXEDCELLS': 'selected_barcodes/VIB_hydrop_1.FIXEDCELLS_bc_passing_filters_otsu.pkl',\n",
       " 'VIB_hydrop_11.FIXEDCELLS': 'selected_barcodes/VIB_hydrop_11.FIXEDCELLS_bc_passing_filters_otsu.pkl',\n",
       " 'VIB_hydrop_12.FIXEDCELLS': 'selected_barcodes/VIB_hydrop_12.FIXEDCELLS_bc_passing_filters_otsu.pkl',\n",
       " 'VIB_hydrop_2.FIXEDCELLS': 'selected_barcodes/VIB_hydrop_2.FIXEDCELLS_bc_passing_filters_otsu.pkl',\n",
       " 'VIB_hydrop_21.FIXEDCELLS': 'selected_barcodes/VIB_hydrop_21.FIXEDCELLS_bc_passing_filters_otsu.pkl',\n",
       " 'VIB_hydrop_22.FIXEDCELLS': 'selected_barcodes/VIB_hydrop_22.FIXEDCELLS_bc_passing_filters_otsu.pkl'}"
      ]
     },
     "execution_count": 8,
     "metadata": {},
     "output_type": "execute_result"
    },
    {
     "data": {
      "application/javascript": [
       "\n",
       "            setTimeout(function() {\n",
       "                var nbb_cell_id = 8;\n",
       "                var nbb_unformatted_code = \"bc_passing_filters_sub_dict = {x.split('/')[-1].split(f'_bc_passing_filters_otsu.pkl')[0]: x for x in sorted(glob.glob(\\\"selected_barcodes/*otsu.pkl\\\"))}\\nbc_passing_filters_sub_dict\";\n",
       "                var nbb_formatted_code = \"bc_passing_filters_sub_dict = {\\n    x.split(\\\"/\\\")[-1].split(f\\\"_bc_passing_filters_otsu.pkl\\\")[0]: x\\n    for x in sorted(glob.glob(\\\"selected_barcodes/*otsu.pkl\\\"))\\n}\\nbc_passing_filters_sub_dict\";\n",
       "                var nbb_cells = Jupyter.notebook.get_cells();\n",
       "                for (var i = 0; i < nbb_cells.length; ++i) {\n",
       "                    if (nbb_cells[i].input_prompt_number == nbb_cell_id) {\n",
       "                        if (nbb_cells[i].get_text() == nbb_unformatted_code) {\n",
       "                             nbb_cells[i].set_text(nbb_formatted_code);\n",
       "                        }\n",
       "                        break;\n",
       "                    }\n",
       "                }\n",
       "            }, 500);\n",
       "            "
      ],
      "text/plain": [
       "<IPython.core.display.Javascript object>"
      ]
     },
     "metadata": {},
     "output_type": "display_data"
    }
   ],
   "source": [
    "bc_passing_filters_sub_dict = {x.split('/')[-1].split(f'_bc_passing_filters_otsu.pkl')[0]: x for x in sorted(glob.glob(\"selected_barcodes/*otsu.pkl\"))}\n",
    "bc_passing_filters_sub_dict"
   ]
  },
  {
   "cell_type": "markdown",
   "id": "5f79b9ec",
   "metadata": {
    "papermill": {
     "duration": 0.019023,
     "end_time": "2022-09-02T16:24:23.773332",
     "exception": false,
     "start_time": "2022-09-02T16:24:23.754309",
     "status": "completed"
    },
    "pycharm": {
     "name": "#%% md\n"
    },
    "tags": []
   },
   "source": [
    "Read bed files for SCREEN regions and blacklist (blacklisted regions in genome where many reads can map)"
   ]
  },
  {
   "cell_type": "code",
   "execution_count": 9,
   "id": "594c0fe5",
   "metadata": {
    "execution": {
     "iopub.execute_input": "2023-02-27T14:24:51.639520Z",
     "iopub.status.busy": "2023-02-27T14:24:51.638734Z",
     "iopub.status.idle": "2023-02-27T14:24:51.663497Z",
     "shell.execute_reply": "2023-02-27T14:24:51.662287Z",
     "shell.execute_reply.started": "2023-02-27T14:24:51.639464Z"
    },
    "papermill": {
     "duration": 0.036008,
     "end_time": "2022-09-02T16:24:23.829135",
     "exception": false,
     "start_time": "2022-09-02T16:24:23.793127",
     "status": "completed"
    },
    "pycharm": {
     "name": "#%%\n"
    },
    "tags": []
   },
   "outputs": [
    {
     "data": {
      "text/plain": [
       "{'BIO_ddseq_1.FIXEDCELLS': 'SCREEN_peaks/BIO_ddseq_1.FIXEDCELLS__SCREEN_consensus_peaks.bed',\n",
       " 'BIO_ddseq_2.FIXEDCELLS': 'SCREEN_peaks/BIO_ddseq_2.FIXEDCELLS__SCREEN_consensus_peaks.bed',\n",
       " 'BIO_ddseq_3.FIXEDCELLS': 'SCREEN_peaks/BIO_ddseq_3.FIXEDCELLS__SCREEN_consensus_peaks.bed',\n",
       " 'BIO_ddseq_4.FIXEDCELLS': 'SCREEN_peaks/BIO_ddseq_4.FIXEDCELLS__SCREEN_consensus_peaks.bed',\n",
       " 'BRO_mtscatac_1.FIXEDCELLS': 'SCREEN_peaks/BRO_mtscatac_1.FIXEDCELLS__SCREEN_consensus_peaks.bed',\n",
       " 'BRO_mtscatac_2.FIXEDCELLS': 'SCREEN_peaks/BRO_mtscatac_2.FIXEDCELLS__SCREEN_consensus_peaks.bed',\n",
       " 'CNA_10xmultiome_1.FIXEDCELLS': 'SCREEN_peaks/CNA_10xmultiome_1.FIXEDCELLS__SCREEN_consensus_peaks.bed',\n",
       " 'CNA_10xmultiome_2.FIXEDCELLS': 'SCREEN_peaks/CNA_10xmultiome_2.FIXEDCELLS__SCREEN_consensus_peaks.bed',\n",
       " 'CNA_10xv11_1.FIXEDCELLS': 'SCREEN_peaks/CNA_10xv11_1.FIXEDCELLS__SCREEN_consensus_peaks.bed',\n",
       " 'CNA_10xv11_2.FIXEDCELLS': 'SCREEN_peaks/CNA_10xv11_2.FIXEDCELLS__SCREEN_consensus_peaks.bed',\n",
       " 'CNA_10xv11_3.FIXEDCELLS': 'SCREEN_peaks/CNA_10xv11_3.FIXEDCELLS__SCREEN_consensus_peaks.bed',\n",
       " 'CNA_10xv11_4.FIXEDCELLS': 'SCREEN_peaks/CNA_10xv11_4.FIXEDCELLS__SCREEN_consensus_peaks.bed',\n",
       " 'CNA_10xv11_5.FIXEDCELLS': 'SCREEN_peaks/CNA_10xv11_5.FIXEDCELLS__SCREEN_consensus_peaks.bed',\n",
       " 'CNA_10xv2_1.FIXEDCELLS': 'SCREEN_peaks/CNA_10xv2_1.FIXEDCELLS__SCREEN_consensus_peaks.bed',\n",
       " 'CNA_10xv2_2.FIXEDCELLS': 'SCREEN_peaks/CNA_10xv2_2.FIXEDCELLS__SCREEN_consensus_peaks.bed',\n",
       " 'CNA_hydrop_1.FIXEDCELLS': 'SCREEN_peaks/CNA_hydrop_1.FIXEDCELLS__SCREEN_consensus_peaks.bed',\n",
       " 'CNA_hydrop_2.FIXEDCELLS': 'SCREEN_peaks/CNA_hydrop_2.FIXEDCELLS__SCREEN_consensus_peaks.bed',\n",
       " 'CNA_hydrop_3.FIXEDCELLS': 'SCREEN_peaks/CNA_hydrop_3.FIXEDCELLS__SCREEN_consensus_peaks.bed',\n",
       " 'CNA_mtscatac_1.FIXEDCELLS': 'SCREEN_peaks/CNA_mtscatac_1.FIXEDCELLS__SCREEN_consensus_peaks.bed',\n",
       " 'CNA_mtscatac_2.FIXEDCELLS': 'SCREEN_peaks/CNA_mtscatac_2.FIXEDCELLS__SCREEN_consensus_peaks.bed',\n",
       " 'EPF_hydrop_1.FIXEDCELLS': 'SCREEN_peaks/EPF_hydrop_1.FIXEDCELLS__SCREEN_consensus_peaks.bed',\n",
       " 'EPF_hydrop_2.FIXEDCELLS': 'SCREEN_peaks/EPF_hydrop_2.FIXEDCELLS__SCREEN_consensus_peaks.bed',\n",
       " 'EPF_hydrop_3.FIXEDCELLS': 'SCREEN_peaks/EPF_hydrop_3.FIXEDCELLS__SCREEN_consensus_peaks.bed',\n",
       " 'EPF_hydrop_4.FIXEDCELLS': 'SCREEN_peaks/EPF_hydrop_4.FIXEDCELLS__SCREEN_consensus_peaks.bed',\n",
       " 'HAR_ddseq_1.FIXEDCELLS': 'SCREEN_peaks/HAR_ddseq_1.FIXEDCELLS__SCREEN_consensus_peaks.bed',\n",
       " 'HAR_ddseq_2.FIXEDCELLS': 'SCREEN_peaks/HAR_ddseq_2.FIXEDCELLS__SCREEN_consensus_peaks.bed',\n",
       " 'MDC_mtscatac_1.FIXEDCELLS': 'SCREEN_peaks/MDC_mtscatac_1.FIXEDCELLS__SCREEN_consensus_peaks.bed',\n",
       " 'MDC_mtscatac_2.FIXEDCELLS': 'SCREEN_peaks/MDC_mtscatac_2.FIXEDCELLS__SCREEN_consensus_peaks.bed',\n",
       " 'OHS_s3atac_1.FIXEDCELLS': 'SCREEN_peaks/OHS_s3atac_1.FIXEDCELLS__SCREEN_consensus_peaks.bed',\n",
       " 'OHS_s3atac_2.FIXEDCELLS': 'SCREEN_peaks/OHS_s3atac_2.FIXEDCELLS__SCREEN_consensus_peaks.bed',\n",
       " 'SAN_10xmultiome_1.FIXEDCELLS': 'SCREEN_peaks/SAN_10xmultiome_1.FIXEDCELLS__SCREEN_consensus_peaks.bed',\n",
       " 'SAN_10xmultiome_2.FIXEDCELLS': 'SCREEN_peaks/SAN_10xmultiome_2.FIXEDCELLS__SCREEN_consensus_peaks.bed',\n",
       " 'STA_10xv11_1.FIXEDCELLS': 'SCREEN_peaks/STA_10xv11_1.FIXEDCELLS__SCREEN_consensus_peaks.bed',\n",
       " 'STA_10xv11_2.FIXEDCELLS': 'SCREEN_peaks/STA_10xv11_2.FIXEDCELLS__SCREEN_consensus_peaks.bed',\n",
       " 'TXG_10xv11_1.FIXEDCELLS': 'SCREEN_peaks/TXG_10xv11_1.FIXEDCELLS__SCREEN_consensus_peaks.bed',\n",
       " 'TXG_10xv2_1.FIXEDCELLS': 'SCREEN_peaks/TXG_10xv2_1.FIXEDCELLS__SCREEN_consensus_peaks.bed',\n",
       " 'TXG_10xv2_2.FIXEDCELLS': 'SCREEN_peaks/TXG_10xv2_2.FIXEDCELLS__SCREEN_consensus_peaks.bed',\n",
       " 'UCS_ddseq_1.FIXEDCELLS': 'SCREEN_peaks/UCS_ddseq_1.FIXEDCELLS__SCREEN_consensus_peaks.bed',\n",
       " 'UCS_ddseq_2.FIXEDCELLS': 'SCREEN_peaks/UCS_ddseq_2.FIXEDCELLS__SCREEN_consensus_peaks.bed',\n",
       " 'VIB_10xmultiome_1.FIXEDCELLS': 'SCREEN_peaks/VIB_10xmultiome_1.FIXEDCELLS__SCREEN_consensus_peaks.bed',\n",
       " 'VIB_10xmultiome_2.FIXEDCELLS': 'SCREEN_peaks/VIB_10xmultiome_2.FIXEDCELLS__SCREEN_consensus_peaks.bed',\n",
       " 'VIB_10xv1_1.FIXEDCELLS': 'SCREEN_peaks/VIB_10xv1_1.FIXEDCELLS__SCREEN_consensus_peaks.bed',\n",
       " 'VIB_10xv1_2.FIXEDCELLS': 'SCREEN_peaks/VIB_10xv1_2.FIXEDCELLS__SCREEN_consensus_peaks.bed',\n",
       " 'VIB_10xv2_1.FIXEDCELLS': 'SCREEN_peaks/VIB_10xv2_1.FIXEDCELLS__SCREEN_consensus_peaks.bed',\n",
       " 'VIB_10xv2_2.FIXEDCELLS': 'SCREEN_peaks/VIB_10xv2_2.FIXEDCELLS__SCREEN_consensus_peaks.bed',\n",
       " 'VIB_hydrop_1.FIXEDCELLS': 'SCREEN_peaks/VIB_hydrop_1.FIXEDCELLS__SCREEN_consensus_peaks.bed',\n",
       " 'VIB_hydrop_11.FIXEDCELLS': 'SCREEN_peaks/VIB_hydrop_11.FIXEDCELLS__SCREEN_consensus_peaks.bed',\n",
       " 'VIB_hydrop_12.FIXEDCELLS': 'SCREEN_peaks/VIB_hydrop_12.FIXEDCELLS__SCREEN_consensus_peaks.bed',\n",
       " 'VIB_hydrop_2.FIXEDCELLS': 'SCREEN_peaks/VIB_hydrop_2.FIXEDCELLS__SCREEN_consensus_peaks.bed',\n",
       " 'VIB_hydrop_21.FIXEDCELLS': 'SCREEN_peaks/VIB_hydrop_21.FIXEDCELLS__SCREEN_consensus_peaks.bed',\n",
       " 'VIB_hydrop_22.FIXEDCELLS': 'SCREEN_peaks/VIB_hydrop_22.FIXEDCELLS__SCREEN_consensus_peaks.bed'}"
      ]
     },
     "execution_count": 9,
     "metadata": {},
     "output_type": "execute_result"
    },
    {
     "data": {
      "application/javascript": [
       "\n",
       "            setTimeout(function() {\n",
       "                var nbb_cell_id = 9;\n",
       "                var nbb_unformatted_code = \"regions_paths_dict = {\\n    x.split(\\\"/\\\")[-1].split(f\\\"__\\\")[0]: x\\n    for x in sorted(glob.glob(\\\"SCREEN_peaks/*consensus_peaks.bed\\\"))\\n}\\nregions_paths_dict\";\n",
       "                var nbb_formatted_code = \"regions_paths_dict = {\\n    x.split(\\\"/\\\")[-1].split(f\\\"__\\\")[0]: x\\n    for x in sorted(glob.glob(\\\"SCREEN_peaks/*consensus_peaks.bed\\\"))\\n}\\nregions_paths_dict\";\n",
       "                var nbb_cells = Jupyter.notebook.get_cells();\n",
       "                for (var i = 0; i < nbb_cells.length; ++i) {\n",
       "                    if (nbb_cells[i].input_prompt_number == nbb_cell_id) {\n",
       "                        if (nbb_cells[i].get_text() == nbb_unformatted_code) {\n",
       "                             nbb_cells[i].set_text(nbb_formatted_code);\n",
       "                        }\n",
       "                        break;\n",
       "                    }\n",
       "                }\n",
       "            }, 500);\n",
       "            "
      ],
      "text/plain": [
       "<IPython.core.display.Javascript object>"
      ]
     },
     "metadata": {},
     "output_type": "display_data"
    }
   ],
   "source": [
    "regions_paths_dict = {\n",
    "    x.split(\"/\")[-1].split(f\"__\")[0]: x\n",
    "    for x in sorted(glob.glob(\"SCREEN_peaks/*consensus_peaks.bed\"))\n",
    "}\n",
    "regions_paths_dict"
   ]
  },
  {
   "cell_type": "code",
   "execution_count": 10,
   "id": "87e805a8",
   "metadata": {
    "execution": {
     "iopub.execute_input": "2023-02-27T14:24:54.129997Z",
     "iopub.status.busy": "2023-02-27T14:24:54.129225Z",
     "iopub.status.idle": "2023-02-27T14:24:54.150286Z",
     "shell.execute_reply": "2023-02-27T14:24:54.149070Z",
     "shell.execute_reply.started": "2023-02-27T14:24:54.129941Z"
    },
    "tags": []
   },
   "outputs": [
    {
     "data": {
      "application/javascript": [
       "\n",
       "            setTimeout(function() {\n",
       "                var nbb_cell_id = 10;\n",
       "                var nbb_unformatted_code = \"regions_paths_dict['VIB_hydrop_11.FIXEDCELLS'] = 'SCREEN_peaks/VIB_hydrop_1.FIXEDCELLS__SCREEN_consensus_peaks.bed'\\nregions_paths_dict['VIB_hydrop_12.FIXEDCELLS'] = 'SCREEN_peaks/VIB_hydrop_1.FIXEDCELLS__SCREEN_consensus_peaks.bed'\\nregions_paths_dict['VIB_hydrop_21.FIXEDCELLS'] = 'SCREEN_peaks/VIB_hydrop_2.FIXEDCELLS__SCREEN_consensus_peaks.bed'\\nregions_paths_dict['VIB_hydrop_22.FIXEDCELLS'] = 'SCREEN_peaks/VIB_hydrop_2.FIXEDCELLS__SCREEN_consensus_peaks.bed'\";\n",
       "                var nbb_formatted_code = \"regions_paths_dict[\\n    \\\"VIB_hydrop_11.FIXEDCELLS\\\"\\n] = \\\"SCREEN_peaks/VIB_hydrop_1.FIXEDCELLS__SCREEN_consensus_peaks.bed\\\"\\nregions_paths_dict[\\n    \\\"VIB_hydrop_12.FIXEDCELLS\\\"\\n] = \\\"SCREEN_peaks/VIB_hydrop_1.FIXEDCELLS__SCREEN_consensus_peaks.bed\\\"\\nregions_paths_dict[\\n    \\\"VIB_hydrop_21.FIXEDCELLS\\\"\\n] = \\\"SCREEN_peaks/VIB_hydrop_2.FIXEDCELLS__SCREEN_consensus_peaks.bed\\\"\\nregions_paths_dict[\\n    \\\"VIB_hydrop_22.FIXEDCELLS\\\"\\n] = \\\"SCREEN_peaks/VIB_hydrop_2.FIXEDCELLS__SCREEN_consensus_peaks.bed\\\"\";\n",
       "                var nbb_cells = Jupyter.notebook.get_cells();\n",
       "                for (var i = 0; i < nbb_cells.length; ++i) {\n",
       "                    if (nbb_cells[i].input_prompt_number == nbb_cell_id) {\n",
       "                        if (nbb_cells[i].get_text() == nbb_unformatted_code) {\n",
       "                             nbb_cells[i].set_text(nbb_formatted_code);\n",
       "                        }\n",
       "                        break;\n",
       "                    }\n",
       "                }\n",
       "            }, 500);\n",
       "            "
      ],
      "text/plain": [
       "<IPython.core.display.Javascript object>"
      ]
     },
     "metadata": {},
     "output_type": "display_data"
    }
   ],
   "source": [
    "regions_paths_dict['VIB_hydrop_11.FIXEDCELLS'] = 'SCREEN_peaks/VIB_hydrop_1.FIXEDCELLS__SCREEN_consensus_peaks.bed'\n",
    "regions_paths_dict['VIB_hydrop_12.FIXEDCELLS'] = 'SCREEN_peaks/VIB_hydrop_1.FIXEDCELLS__SCREEN_consensus_peaks.bed'\n",
    "regions_paths_dict['VIB_hydrop_21.FIXEDCELLS'] = 'SCREEN_peaks/VIB_hydrop_2.FIXEDCELLS__SCREEN_consensus_peaks.bed'\n",
    "regions_paths_dict['VIB_hydrop_22.FIXEDCELLS'] = 'SCREEN_peaks/VIB_hydrop_2.FIXEDCELLS__SCREEN_consensus_peaks.bed'"
   ]
  },
  {
   "cell_type": "code",
   "execution_count": 11,
   "id": "be80def0",
   "metadata": {
    "execution": {
     "iopub.execute_input": "2023-02-27T14:24:56.859367Z",
     "iopub.status.busy": "2023-02-27T14:24:56.858587Z",
     "iopub.status.idle": "2023-02-27T14:24:56.871444Z",
     "shell.execute_reply": "2023-02-27T14:24:56.870091Z",
     "shell.execute_reply.started": "2023-02-27T14:24:56.859310Z"
    },
    "papermill": {
     "duration": 0.029341,
     "end_time": "2022-09-02T16:24:23.878408",
     "exception": false,
     "start_time": "2022-09-02T16:24:23.849067",
     "status": "completed"
    },
    "pycharm": {
     "name": "#%%\n"
    },
    "tags": []
   },
   "outputs": [
    {
     "data": {
      "application/javascript": [
       "\n",
       "            setTimeout(function() {\n",
       "                var nbb_cell_id = 11;\n",
       "                var nbb_unformatted_code = \"# path_to_regions = '../0_resources/regions/V2.hg38-rDHS-Unfiltered.blacklisted.bed'\\npath_to_blacklist = '../0_resources/regions/hg38-blacklist.v2.bed'\";\n",
       "                var nbb_formatted_code = \"# path_to_regions = '../0_resources/regions/V2.hg38-rDHS-Unfiltered.blacklisted.bed'\\npath_to_blacklist = \\\"../0_resources/regions/hg38-blacklist.v2.bed\\\"\";\n",
       "                var nbb_cells = Jupyter.notebook.get_cells();\n",
       "                for (var i = 0; i < nbb_cells.length; ++i) {\n",
       "                    if (nbb_cells[i].input_prompt_number == nbb_cell_id) {\n",
       "                        if (nbb_cells[i].get_text() == nbb_unformatted_code) {\n",
       "                             nbb_cells[i].set_text(nbb_formatted_code);\n",
       "                        }\n",
       "                        break;\n",
       "                    }\n",
       "                }\n",
       "            }, 500);\n",
       "            "
      ],
      "text/plain": [
       "<IPython.core.display.Javascript object>"
      ]
     },
     "metadata": {},
     "output_type": "display_data"
    }
   ],
   "source": [
    "# path_to_regions = '../0_resources/regions/V2.hg38-rDHS-Unfiltered.blacklisted.bed'\n",
    "path_to_blacklist = '../0_resources/regions/hg38-blacklist.v2.bed'"
   ]
  },
  {
   "cell_type": "markdown",
   "id": "8d0effff",
   "metadata": {
    "papermill": {
     "duration": 0.021338,
     "end_time": "2022-09-02T16:24:23.921131",
     "exception": false,
     "start_time": "2022-09-02T16:24:23.899793",
     "status": "completed"
    },
    "pycharm": {
     "name": "#%% md\n"
    },
    "tags": []
   },
   "source": [
    "Create cistopic objects for each sample. If pandas crashes, increase the number of partitions. This is necessary for the largest files."
   ]
  },
  {
   "cell_type": "markdown",
   "id": "389eb07b",
   "metadata": {
    "papermill": {
     "duration": 0.019964,
     "end_time": "2022-09-02T16:24:23.961894",
     "exception": false,
     "start_time": "2022-09-02T16:24:23.941930",
     "status": "completed"
    },
    "pycharm": {
     "name": "#%% md\n"
    },
    "tags": []
   },
   "source": [
    "In the following command, it is important that the barcode syntax matches the fragments, the metadata and the bc_passing filters. That is why the sample name is removed from metadata and bc passing filters."
   ]
  },
  {
   "cell_type": "code",
   "execution_count": 12,
   "id": "77f24e79",
   "metadata": {
    "collapsed": false,
    "execution": {
     "iopub.execute_input": "2023-02-27T14:24:57.549203Z",
     "iopub.status.busy": "2023-02-27T14:24:57.548435Z",
     "iopub.status.idle": "2023-02-27T14:25:31.937748Z",
     "shell.execute_reply": "2023-02-27T14:25:31.936242Z",
     "shell.execute_reply.started": "2023-02-27T14:24:57.549145Z"
    },
    "jupyter": {
     "outputs_hidden": false
    },
    "papermill": {
     "duration": 2.840903,
     "end_time": "2022-09-02T16:24:26.822816",
     "exception": false,
     "start_time": "2022-09-02T16:24:23.981913",
     "status": "completed"
    },
    "pycharm": {
     "name": "#%%\n"
    },
    "tags": []
   },
   "outputs": [
    {
     "data": {
      "application/javascript": [
       "\n",
       "            setTimeout(function() {\n",
       "                var nbb_cell_id = 12;\n",
       "                var nbb_unformatted_code = \"from pycisTopic.cistopic_class import create_cistopic_object_from_fragments\";\n",
       "                var nbb_formatted_code = \"from pycisTopic.cistopic_class import create_cistopic_object_from_fragments\";\n",
       "                var nbb_cells = Jupyter.notebook.get_cells();\n",
       "                for (var i = 0; i < nbb_cells.length; ++i) {\n",
       "                    if (nbb_cells[i].input_prompt_number == nbb_cell_id) {\n",
       "                        if (nbb_cells[i].get_text() == nbb_unformatted_code) {\n",
       "                             nbb_cells[i].set_text(nbb_formatted_code);\n",
       "                        }\n",
       "                        break;\n",
       "                    }\n",
       "                }\n",
       "            }, 500);\n",
       "            "
      ],
      "text/plain": [
       "<IPython.core.display.Javascript object>"
      ]
     },
     "metadata": {},
     "output_type": "display_data"
    }
   ],
   "source": [
    "from pycisTopic.cistopic_class import create_cistopic_object_from_fragments"
   ]
  },
  {
   "cell_type": "code",
   "execution_count": 13,
   "id": "158d26bb",
   "metadata": {
    "execution": {
     "iopub.execute_input": "2023-02-27T14:25:31.941803Z",
     "iopub.status.busy": "2023-02-27T14:25:31.940746Z",
     "iopub.status.idle": "2023-02-27T14:25:31.953878Z",
     "shell.execute_reply": "2023-02-27T14:25:31.952604Z",
     "shell.execute_reply.started": "2023-02-27T14:25:31.941719Z"
    },
    "tags": []
   },
   "outputs": [
    {
     "data": {
      "application/javascript": [
       "\n",
       "            setTimeout(function() {\n",
       "                var nbb_cell_id = 13;\n",
       "                var nbb_unformatted_code = \"import ray\\nray.shutdown()\";\n",
       "                var nbb_formatted_code = \"import ray\\n\\nray.shutdown()\";\n",
       "                var nbb_cells = Jupyter.notebook.get_cells();\n",
       "                for (var i = 0; i < nbb_cells.length; ++i) {\n",
       "                    if (nbb_cells[i].input_prompt_number == nbb_cell_id) {\n",
       "                        if (nbb_cells[i].get_text() == nbb_unformatted_code) {\n",
       "                             nbb_cells[i].set_text(nbb_formatted_code);\n",
       "                        }\n",
       "                        break;\n",
       "                    }\n",
       "                }\n",
       "            }, 500);\n",
       "            "
      ],
      "text/plain": [
       "<IPython.core.display.Javascript object>"
      ]
     },
     "metadata": {},
     "output_type": "display_data"
    }
   ],
   "source": [
    "import ray\n",
    "ray.shutdown()"
   ]
  },
  {
   "cell_type": "code",
   "execution_count": 14,
   "id": "065fc0bf",
   "metadata": {
    "execution": {
     "iopub.execute_input": "2023-02-27T14:25:31.956609Z",
     "iopub.status.busy": "2023-02-27T14:25:31.955599Z",
     "iopub.status.idle": "2023-02-27T14:25:31.994938Z",
     "shell.execute_reply": "2023-02-27T14:25:31.994026Z",
     "shell.execute_reply.started": "2023-02-27T14:25:31.956564Z"
    },
    "papermill": {
     "duration": 435.338442,
     "end_time": "2022-09-02T16:31:42.184895",
     "exception": true,
     "start_time": "2022-09-02T16:24:26.846453",
     "status": "failed"
    },
    "pycharm": {
     "name": "#%%\n"
    },
    "tags": []
   },
   "outputs": [
    {
     "name": "stdout",
     "output_type": "stream",
     "text": [
      "cistopic_objects/BIO_ddseq_1.FIXEDCELLS__cto.pkl already exists, skipping...\n",
      "cistopic_objects/BIO_ddseq_2.FIXEDCELLS__cto.pkl already exists, skipping...\n",
      "cistopic_objects/BIO_ddseq_3.FIXEDCELLS__cto.pkl already exists, skipping...\n",
      "cistopic_objects/BIO_ddseq_4.FIXEDCELLS__cto.pkl already exists, skipping...\n",
      "cistopic_objects/BRO_mtscatac_1.FIXEDCELLS__cto.pkl already exists, skipping...\n",
      "cistopic_objects/BRO_mtscatac_2.FIXEDCELLS__cto.pkl already exists, skipping...\n",
      "cistopic_objects/CNA_10xmultiome_1.FIXEDCELLS__cto.pkl already exists, skipping...\n",
      "cistopic_objects/CNA_10xmultiome_2.FIXEDCELLS__cto.pkl already exists, skipping...\n",
      "cistopic_objects/CNA_10xv11_1.FIXEDCELLS__cto.pkl already exists, skipping...\n",
      "cistopic_objects/CNA_10xv11_2.FIXEDCELLS__cto.pkl already exists, skipping...\n",
      "cistopic_objects/CNA_10xv11_3.FIXEDCELLS__cto.pkl already exists, skipping...\n",
      "cistopic_objects/CNA_10xv11_4.FIXEDCELLS__cto.pkl already exists, skipping...\n",
      "cistopic_objects/CNA_10xv11_5.FIXEDCELLS__cto.pkl already exists, skipping...\n",
      "cistopic_objects/CNA_10xv2_1.FIXEDCELLS__cto.pkl already exists, skipping...\n",
      "cistopic_objects/CNA_10xv2_2.FIXEDCELLS__cto.pkl already exists, skipping...\n",
      "cistopic_objects/CNA_hydrop_1.FIXEDCELLS__cto.pkl already exists, skipping...\n",
      "cistopic_objects/CNA_hydrop_2.FIXEDCELLS__cto.pkl already exists, skipping...\n",
      "cistopic_objects/CNA_hydrop_3.FIXEDCELLS__cto.pkl already exists, skipping...\n",
      "cistopic_objects/CNA_mtscatac_1.FIXEDCELLS__cto.pkl already exists, skipping...\n",
      "cistopic_objects/CNA_mtscatac_2.FIXEDCELLS__cto.pkl already exists, skipping...\n",
      "cistopic_objects/EPF_hydrop_1.FIXEDCELLS__cto.pkl already exists, skipping...\n",
      "cistopic_objects/EPF_hydrop_2.FIXEDCELLS__cto.pkl already exists, skipping...\n",
      "cistopic_objects/EPF_hydrop_3.FIXEDCELLS__cto.pkl already exists, skipping...\n",
      "cistopic_objects/EPF_hydrop_4.FIXEDCELLS__cto.pkl already exists, skipping...\n",
      "cistopic_objects/HAR_ddseq_1.FIXEDCELLS__cto.pkl already exists, skipping...\n",
      "cistopic_objects/HAR_ddseq_2.FIXEDCELLS__cto.pkl already exists, skipping...\n",
      "cistopic_objects/MDC_mtscatac_1.FIXEDCELLS__cto.pkl already exists, skipping...\n",
      "cistopic_objects/MDC_mtscatac_2.FIXEDCELLS__cto.pkl already exists, skipping...\n",
      "cistopic_objects/OHS_s3atac_1.FIXEDCELLS__cto.pkl already exists, skipping...\n",
      "cistopic_objects/OHS_s3atac_2.FIXEDCELLS__cto.pkl already exists, skipping...\n",
      "cistopic_objects/SAN_10xmultiome_1.FIXEDCELLS__cto.pkl already exists, skipping...\n",
      "cistopic_objects/SAN_10xmultiome_2.FIXEDCELLS__cto.pkl already exists, skipping...\n",
      "cistopic_objects/STA_10xv11_1.FIXEDCELLS__cto.pkl already exists, skipping...\n",
      "cistopic_objects/STA_10xv11_2.FIXEDCELLS__cto.pkl already exists, skipping...\n",
      "cistopic_objects/TXG_10xv11_1.FIXEDCELLS__cto.pkl already exists, skipping...\n",
      "cistopic_objects/TXG_10xv2_1.FIXEDCELLS__cto.pkl already exists, skipping...\n",
      "cistopic_objects/TXG_10xv2_2.FIXEDCELLS__cto.pkl already exists, skipping...\n",
      "cistopic_objects/UCS_ddseq_1.FIXEDCELLS__cto.pkl already exists, skipping...\n",
      "cistopic_objects/UCS_ddseq_2.FIXEDCELLS__cto.pkl already exists, skipping...\n",
      "cistopic_objects/VIB_10xmultiome_1.FIXEDCELLS__cto.pkl already exists, skipping...\n",
      "cistopic_objects/VIB_10xmultiome_2.FIXEDCELLS__cto.pkl already exists, skipping...\n",
      "cistopic_objects/VIB_10xv1_1.FIXEDCELLS__cto.pkl already exists, skipping...\n",
      "cistopic_objects/VIB_10xv1_2.FIXEDCELLS__cto.pkl already exists, skipping...\n",
      "cistopic_objects/VIB_10xv2_1.FIXEDCELLS__cto.pkl already exists, skipping...\n",
      "cistopic_objects/VIB_10xv2_2.FIXEDCELLS__cto.pkl already exists, skipping...\n",
      "cistopic_objects/VIB_hydrop_11.FIXEDCELLS__cto.pkl already exists, skipping...\n",
      "cistopic_objects/VIB_hydrop_12.FIXEDCELLS__cto.pkl already exists, skipping...\n",
      "cistopic_objects/VIB_hydrop_21.FIXEDCELLS__cto.pkl already exists, skipping...\n",
      "cistopic_objects/VIB_hydrop_22.FIXEDCELLS__cto.pkl already exists, skipping...\n"
     ]
    },
    {
     "data": {
      "application/javascript": [
       "\n",
       "            setTimeout(function() {\n",
       "                var nbb_cell_id = 14;\n",
       "                var nbb_unformatted_code = \"if regions_paths_dict != {}:\\n    n_cores = 20\\n    for sample in metadata_bc_sub_dict.keys():\\n        cto_path = os.path.join(cistopic_objects_out, f\\\"{sample}__cto.pkl\\\")\\n        if not os.path.exists(cto_path):\\n            print(f\\\"{cto_path} does not exist, generating...\\\")\\n\\n            infile = open(metadata_bc_sub_dict[sample], 'rb')\\n            metadata_bc = pickle.load(infile)\\n            metadata_bc.index = [bc.split(\\\"___\\\")[0] for bc in metadata_bc.index]\\n            infile.close()\\n            infile = open(bc_passing_filters_sub_dict[sample], 'rb')\\n            bc_passing_filters = pickle.load(infile)\\n            infile.close()\\n            bc_passing_filters_fixed = [bc.split(\\\"___\\\")[0] for bc in bc_passing_filters]\\n\\n            cto = create_cistopic_object_from_fragments(path_to_fragments=fragments_dict[sample],\\n                                                            path_to_regions=regions_paths_dict[sample],\\n                                                            path_to_blacklist=path_to_blacklist,\\n                                                            metrics=metadata_bc,\\n                                                            valid_bc=bc_passing_filters_fixed,\\n                                                            n_cpu=n_cores,\\n                                                            partition=10,\\n                                                            project=sample)\\n\\n            cto_path = os.path.join(cistopic_objects_out, f\\\"{sample}__cto.pkl\\\")\\n            print(f\\\"Writing {sample} cto in {cto_path}...\\\")\\n\\n            with open(\\n                cto_path, \\\"wb\\\"\\n            ) as f:\\n                pickle.dump(cto, f, protocol=4)\\n        else:\\n            print(f\\\"{cto_path} already exists, skipping...\\\")\\n\\nelse:\\n    print(\\\"All samples already processed.\\\")\";\n",
       "                var nbb_formatted_code = \"if regions_paths_dict != {}:\\n    n_cores = 20\\n    for sample in metadata_bc_sub_dict.keys():\\n        cto_path = os.path.join(cistopic_objects_out, f\\\"{sample}__cto.pkl\\\")\\n        if not os.path.exists(cto_path):\\n            print(f\\\"{cto_path} does not exist, generating...\\\")\\n\\n            infile = open(metadata_bc_sub_dict[sample], \\\"rb\\\")\\n            metadata_bc = pickle.load(infile)\\n            metadata_bc.index = [bc.split(\\\"___\\\")[0] for bc in metadata_bc.index]\\n            infile.close()\\n            infile = open(bc_passing_filters_sub_dict[sample], \\\"rb\\\")\\n            bc_passing_filters = pickle.load(infile)\\n            infile.close()\\n            bc_passing_filters_fixed = [bc.split(\\\"___\\\")[0] for bc in bc_passing_filters]\\n\\n            cto = create_cistopic_object_from_fragments(\\n                path_to_fragments=fragments_dict[sample],\\n                path_to_regions=regions_paths_dict[sample],\\n                path_to_blacklist=path_to_blacklist,\\n                metrics=metadata_bc,\\n                valid_bc=bc_passing_filters_fixed,\\n                n_cpu=n_cores,\\n                partition=10,\\n                project=sample,\\n            )\\n\\n            cto_path = os.path.join(cistopic_objects_out, f\\\"{sample}__cto.pkl\\\")\\n            print(f\\\"Writing {sample} cto in {cto_path}...\\\")\\n\\n            with open(cto_path, \\\"wb\\\") as f:\\n                pickle.dump(cto, f, protocol=4)\\n        else:\\n            print(f\\\"{cto_path} already exists, skipping...\\\")\\n\\nelse:\\n    print(\\\"All samples already processed.\\\")\";\n",
       "                var nbb_cells = Jupyter.notebook.get_cells();\n",
       "                for (var i = 0; i < nbb_cells.length; ++i) {\n",
       "                    if (nbb_cells[i].input_prompt_number == nbb_cell_id) {\n",
       "                        if (nbb_cells[i].get_text() == nbb_unformatted_code) {\n",
       "                             nbb_cells[i].set_text(nbb_formatted_code);\n",
       "                        }\n",
       "                        break;\n",
       "                    }\n",
       "                }\n",
       "            }, 500);\n",
       "            "
      ],
      "text/plain": [
       "<IPython.core.display.Javascript object>"
      ]
     },
     "metadata": {},
     "output_type": "display_data"
    }
   ],
   "source": [
    "if regions_paths_dict != {}:\n",
    "    n_cores = 20\n",
    "    for sample in metadata_bc_sub_dict.keys():\n",
    "        cto_path = os.path.join(cistopic_objects_out, f\"{sample}__cto.pkl\")\n",
    "        if not os.path.exists(cto_path):\n",
    "            print(f\"{cto_path} does not exist, generating...\")\n",
    "\n",
    "            infile = open(metadata_bc_sub_dict[sample], 'rb')\n",
    "            metadata_bc = pickle.load(infile)\n",
    "            metadata_bc.index = [bc.split(\"___\")[0] for bc in metadata_bc.index]\n",
    "            infile.close()\n",
    "            infile = open(bc_passing_filters_sub_dict[sample], 'rb')\n",
    "            bc_passing_filters = pickle.load(infile)\n",
    "            infile.close()\n",
    "            bc_passing_filters_fixed = [bc.split(\"___\")[0] for bc in bc_passing_filters]\n",
    "\n",
    "            cto = create_cistopic_object_from_fragments(path_to_fragments=fragments_dict[sample],\n",
    "                                                            path_to_regions=regions_paths_dict[sample],\n",
    "                                                            path_to_blacklist=path_to_blacklist,\n",
    "                                                            metrics=metadata_bc,\n",
    "                                                            valid_bc=bc_passing_filters_fixed,\n",
    "                                                            n_cpu=n_cores,\n",
    "                                                            partition=10,\n",
    "                                                            project=sample)\n",
    "\n",
    "            cto_path = os.path.join(cistopic_objects_out, f\"{sample}__cto.pkl\")\n",
    "            print(f\"Writing {sample} cto in {cto_path}...\")\n",
    "\n",
    "            with open(\n",
    "                cto_path, \"wb\"\n",
    "            ) as f:\n",
    "                pickle.dump(cto, f, protocol=4)\n",
    "        else:\n",
    "            print(f\"{cto_path} already exists, skipping...\")\n",
    "\n",
    "else:\n",
    "    print(\"All samples already processed.\")"
   ]
  },
  {
   "cell_type": "markdown",
   "id": "d36dc527",
   "metadata": {
    "papermill": {
     "duration": null,
     "end_time": null,
     "exception": null,
     "start_time": null,
     "status": "pending"
    },
    "pycharm": {
     "name": "#%% md\n"
    },
    "tags": []
   },
   "source": [
    "# Run Scrublet"
   ]
  },
  {
   "cell_type": "code",
   "execution_count": 15,
   "id": "5930fa7e",
   "metadata": {
    "execution": {
     "iopub.execute_input": "2023-02-27T14:25:31.996648Z",
     "iopub.status.busy": "2023-02-27T14:25:31.996352Z",
     "iopub.status.idle": "2023-02-27T14:25:37.566699Z",
     "shell.execute_reply": "2023-02-27T14:25:37.565356Z",
     "shell.execute_reply.started": "2023-02-27T14:25:31.996630Z"
    },
    "papermill": {
     "duration": null,
     "end_time": null,
     "exception": null,
     "start_time": null,
     "status": "pending"
    },
    "pycharm": {
     "name": "#%%\n"
    },
    "tags": []
   },
   "outputs": [
    {
     "data": {
      "application/javascript": [
       "\n",
       "            setTimeout(function() {\n",
       "                var nbb_cell_id = 15;\n",
       "                var nbb_unformatted_code = \"import scrublet as scr\\nimport pandas as pd\\nimport matplotlib.pyplot as plt\";\n",
       "                var nbb_formatted_code = \"import scrublet as scr\\nimport pandas as pd\\nimport matplotlib.pyplot as plt\";\n",
       "                var nbb_cells = Jupyter.notebook.get_cells();\n",
       "                for (var i = 0; i < nbb_cells.length; ++i) {\n",
       "                    if (nbb_cells[i].input_prompt_number == nbb_cell_id) {\n",
       "                        if (nbb_cells[i].get_text() == nbb_unformatted_code) {\n",
       "                             nbb_cells[i].set_text(nbb_formatted_code);\n",
       "                        }\n",
       "                        break;\n",
       "                    }\n",
       "                }\n",
       "            }, 500);\n",
       "            "
      ],
      "text/plain": [
       "<IPython.core.display.Javascript object>"
      ]
     },
     "metadata": {},
     "output_type": "display_data"
    }
   ],
   "source": [
    "import scrublet as scr\n",
    "import pandas as pd\n",
    "import matplotlib.pyplot as plt"
   ]
  },
  {
   "cell_type": "code",
   "execution_count": 16,
   "id": "507fac67",
   "metadata": {
    "execution": {
     "iopub.execute_input": "2023-02-27T14:25:37.569227Z",
     "iopub.status.busy": "2023-02-27T14:25:37.568560Z",
     "iopub.status.idle": "2023-02-27T14:25:37.591606Z",
     "shell.execute_reply": "2023-02-27T14:25:37.590603Z",
     "shell.execute_reply.started": "2023-02-27T14:25:37.569179Z"
    },
    "papermill": {
     "duration": null,
     "end_time": null,
     "exception": null,
     "start_time": null,
     "status": "pending"
    },
    "pycharm": {
     "name": "#%%\n"
    },
    "tags": []
   },
   "outputs": [
    {
     "data": {
      "text/plain": [
       "{'BIO_ddseq_1.FIXEDCELLS': 'cistopic_objects/BIO_ddseq_1.FIXEDCELLS__cto.pkl',\n",
       " 'BIO_ddseq_2.FIXEDCELLS': 'cistopic_objects/BIO_ddseq_2.FIXEDCELLS__cto.pkl',\n",
       " 'BIO_ddseq_3.FIXEDCELLS': 'cistopic_objects/BIO_ddseq_3.FIXEDCELLS__cto.pkl',\n",
       " 'BIO_ddseq_4.FIXEDCELLS': 'cistopic_objects/BIO_ddseq_4.FIXEDCELLS__cto.pkl',\n",
       " 'BRO_mtscatac_1.FIXEDCELLS': 'cistopic_objects/BRO_mtscatac_1.FIXEDCELLS__cto.pkl',\n",
       " 'BRO_mtscatac_2.FIXEDCELLS': 'cistopic_objects/BRO_mtscatac_2.FIXEDCELLS__cto.pkl',\n",
       " 'CNA_10xmultiome_1.FIXEDCELLS': 'cistopic_objects/CNA_10xmultiome_1.FIXEDCELLS__cto.pkl',\n",
       " 'CNA_10xmultiome_2.FIXEDCELLS': 'cistopic_objects/CNA_10xmultiome_2.FIXEDCELLS__cto.pkl',\n",
       " 'CNA_10xv11_1.FIXEDCELLS': 'cistopic_objects/CNA_10xv11_1.FIXEDCELLS__cto.pkl',\n",
       " 'CNA_10xv11_2.FIXEDCELLS': 'cistopic_objects/CNA_10xv11_2.FIXEDCELLS__cto.pkl',\n",
       " 'CNA_10xv11_3.FIXEDCELLS': 'cistopic_objects/CNA_10xv11_3.FIXEDCELLS__cto.pkl',\n",
       " 'CNA_10xv11_4.FIXEDCELLS': 'cistopic_objects/CNA_10xv11_4.FIXEDCELLS__cto.pkl',\n",
       " 'CNA_10xv11_5.FIXEDCELLS': 'cistopic_objects/CNA_10xv11_5.FIXEDCELLS__cto.pkl',\n",
       " 'CNA_10xv2_1.FIXEDCELLS': 'cistopic_objects/CNA_10xv2_1.FIXEDCELLS__cto.pkl',\n",
       " 'CNA_10xv2_2.FIXEDCELLS': 'cistopic_objects/CNA_10xv2_2.FIXEDCELLS__cto.pkl',\n",
       " 'CNA_hydrop_1.FIXEDCELLS': 'cistopic_objects/CNA_hydrop_1.FIXEDCELLS__cto.pkl',\n",
       " 'CNA_hydrop_2.FIXEDCELLS': 'cistopic_objects/CNA_hydrop_2.FIXEDCELLS__cto.pkl',\n",
       " 'CNA_hydrop_3.FIXEDCELLS': 'cistopic_objects/CNA_hydrop_3.FIXEDCELLS__cto.pkl',\n",
       " 'CNA_mtscatac_1.FIXEDCELLS': 'cistopic_objects/CNA_mtscatac_1.FIXEDCELLS__cto.pkl',\n",
       " 'CNA_mtscatac_2.FIXEDCELLS': 'cistopic_objects/CNA_mtscatac_2.FIXEDCELLS__cto.pkl',\n",
       " 'EPF_hydrop_1.FIXEDCELLS': 'cistopic_objects/EPF_hydrop_1.FIXEDCELLS__cto.pkl',\n",
       " 'EPF_hydrop_2.FIXEDCELLS': 'cistopic_objects/EPF_hydrop_2.FIXEDCELLS__cto.pkl',\n",
       " 'EPF_hydrop_3.FIXEDCELLS': 'cistopic_objects/EPF_hydrop_3.FIXEDCELLS__cto.pkl',\n",
       " 'EPF_hydrop_4.FIXEDCELLS': 'cistopic_objects/EPF_hydrop_4.FIXEDCELLS__cto.pkl',\n",
       " 'HAR_ddseq_1.FIXEDCELLS': 'cistopic_objects/HAR_ddseq_1.FIXEDCELLS__cto.pkl',\n",
       " 'HAR_ddseq_2.FIXEDCELLS': 'cistopic_objects/HAR_ddseq_2.FIXEDCELLS__cto.pkl',\n",
       " 'MDC_mtscatac_1.FIXEDCELLS': 'cistopic_objects/MDC_mtscatac_1.FIXEDCELLS__cto.pkl',\n",
       " 'MDC_mtscatac_2.FIXEDCELLS': 'cistopic_objects/MDC_mtscatac_2.FIXEDCELLS__cto.pkl',\n",
       " 'OHS_s3atac_1.FIXEDCELLS': 'cistopic_objects/OHS_s3atac_1.FIXEDCELLS__cto.pkl',\n",
       " 'OHS_s3atac_2.FIXEDCELLS': 'cistopic_objects/OHS_s3atac_2.FIXEDCELLS__cto.pkl',\n",
       " 'SAN_10xmultiome_1.FIXEDCELLS': 'cistopic_objects/SAN_10xmultiome_1.FIXEDCELLS__cto.pkl',\n",
       " 'SAN_10xmultiome_2.FIXEDCELLS': 'cistopic_objects/SAN_10xmultiome_2.FIXEDCELLS__cto.pkl',\n",
       " 'STA_10xv11_1.FIXEDCELLS': 'cistopic_objects/STA_10xv11_1.FIXEDCELLS__cto.pkl',\n",
       " 'STA_10xv11_2.FIXEDCELLS': 'cistopic_objects/STA_10xv11_2.FIXEDCELLS__cto.pkl',\n",
       " 'TXG_10xv11_1.FIXEDCELLS': 'cistopic_objects/TXG_10xv11_1.FIXEDCELLS__cto.pkl',\n",
       " 'TXG_10xv2_1.FIXEDCELLS': 'cistopic_objects/TXG_10xv2_1.FIXEDCELLS__cto.pkl',\n",
       " 'TXG_10xv2_2.FIXEDCELLS': 'cistopic_objects/TXG_10xv2_2.FIXEDCELLS__cto.pkl',\n",
       " 'UCS_ddseq_1.FIXEDCELLS': 'cistopic_objects/UCS_ddseq_1.FIXEDCELLS__cto.pkl',\n",
       " 'UCS_ddseq_2.FIXEDCELLS': 'cistopic_objects/UCS_ddseq_2.FIXEDCELLS__cto.pkl',\n",
       " 'VIB_10xmultiome_1.FIXEDCELLS': 'cistopic_objects/VIB_10xmultiome_1.FIXEDCELLS__cto.pkl',\n",
       " 'VIB_10xmultiome_2.FIXEDCELLS': 'cistopic_objects/VIB_10xmultiome_2.FIXEDCELLS__cto.pkl',\n",
       " 'VIB_10xv1_1.FIXEDCELLS': 'cistopic_objects/VIB_10xv1_1.FIXEDCELLS__cto.pkl',\n",
       " 'VIB_10xv1_2.FIXEDCELLS': 'cistopic_objects/VIB_10xv1_2.FIXEDCELLS__cto.pkl',\n",
       " 'VIB_10xv2_1.FIXEDCELLS': 'cistopic_objects/VIB_10xv2_1.FIXEDCELLS__cto.pkl',\n",
       " 'VIB_10xv2_2.FIXEDCELLS': 'cistopic_objects/VIB_10xv2_2.FIXEDCELLS__cto.pkl',\n",
       " 'VIB_hydrop_11.FIXEDCELLS': 'cistopic_objects/VIB_hydrop_11.FIXEDCELLS__cto.pkl',\n",
       " 'VIB_hydrop_12.FIXEDCELLS': 'cistopic_objects/VIB_hydrop_12.FIXEDCELLS__cto.pkl',\n",
       " 'VIB_hydrop_21.FIXEDCELLS': 'cistopic_objects/VIB_hydrop_21.FIXEDCELLS__cto.pkl',\n",
       " 'VIB_hydrop_22.FIXEDCELLS': 'cistopic_objects/VIB_hydrop_22.FIXEDCELLS__cto.pkl'}"
      ]
     },
     "execution_count": 16,
     "metadata": {},
     "output_type": "execute_result"
    },
    {
     "data": {
      "application/javascript": [
       "\n",
       "            setTimeout(function() {\n",
       "                var nbb_cell_id = 16;\n",
       "                var nbb_unformatted_code = \"cto_dict = {x.split('/')[-1].split('__cto.pkl')[0]:x for x in sorted(glob.glob('cistopic_objects/*__cto.pkl'))}\\ncto_dict\";\n",
       "                var nbb_formatted_code = \"cto_dict = {\\n    x.split(\\\"/\\\")[-1].split(\\\"__cto.pkl\\\")[0]: x\\n    for x in sorted(glob.glob(\\\"cistopic_objects/*__cto.pkl\\\"))\\n}\\ncto_dict\";\n",
       "                var nbb_cells = Jupyter.notebook.get_cells();\n",
       "                for (var i = 0; i < nbb_cells.length; ++i) {\n",
       "                    if (nbb_cells[i].input_prompt_number == nbb_cell_id) {\n",
       "                        if (nbb_cells[i].get_text() == nbb_unformatted_code) {\n",
       "                             nbb_cells[i].set_text(nbb_formatted_code);\n",
       "                        }\n",
       "                        break;\n",
       "                    }\n",
       "                }\n",
       "            }, 500);\n",
       "            "
      ],
      "text/plain": [
       "<IPython.core.display.Javascript object>"
      ]
     },
     "metadata": {},
     "output_type": "display_data"
    }
   ],
   "source": [
    "cto_dict = {x.split('/')[-1].split('__cto.pkl')[0]:x for x in sorted(glob.glob('cistopic_objects/*__cto.pkl'))}\n",
    "cto_dict"
   ]
  },
  {
   "cell_type": "code",
   "execution_count": 17,
   "id": "4c11e950",
   "metadata": {
    "execution": {
     "iopub.execute_input": "2023-02-27T14:25:37.593182Z",
     "iopub.status.busy": "2023-02-27T14:25:37.592738Z",
     "iopub.status.idle": "2023-02-27T14:25:37.612964Z",
     "shell.execute_reply": "2023-02-27T14:25:37.612018Z",
     "shell.execute_reply.started": "2023-02-27T14:25:37.593156Z"
    },
    "papermill": {
     "duration": null,
     "end_time": null,
     "exception": null,
     "start_time": null,
     "status": "pending"
    },
    "pycharm": {
     "name": "#%%\n"
    },
    "tags": []
   },
   "outputs": [
    {
     "name": "stdout",
     "output_type": "stream",
     "text": [
      "Checking if cistopic_objects/BIO_ddseq_1.FIXEDCELLS__cto.scrublet0-4.pkl exist...\n",
      "\tcistopic_objects/BIO_ddseq_1.FIXEDCELLS__cto.scrublet0-4.pkl exists! Skipping...\n",
      "Checking if cistopic_objects/BIO_ddseq_2.FIXEDCELLS__cto.scrublet0-4.pkl exist...\n",
      "\tcistopic_objects/BIO_ddseq_2.FIXEDCELLS__cto.scrublet0-4.pkl exists! Skipping...\n",
      "Checking if cistopic_objects/BIO_ddseq_3.FIXEDCELLS__cto.scrublet0-4.pkl exist...\n",
      "\tcistopic_objects/BIO_ddseq_3.FIXEDCELLS__cto.scrublet0-4.pkl exists! Skipping...\n",
      "Checking if cistopic_objects/BIO_ddseq_4.FIXEDCELLS__cto.scrublet0-4.pkl exist...\n",
      "\tcistopic_objects/BIO_ddseq_4.FIXEDCELLS__cto.scrublet0-4.pkl exists! Skipping...\n",
      "Checking if cistopic_objects/BRO_mtscatac_1.FIXEDCELLS__cto.scrublet0-4.pkl exist...\n",
      "\tcistopic_objects/BRO_mtscatac_1.FIXEDCELLS__cto.scrublet0-4.pkl exists! Skipping...\n",
      "Checking if cistopic_objects/BRO_mtscatac_2.FIXEDCELLS__cto.scrublet0-4.pkl exist...\n",
      "\tcistopic_objects/BRO_mtscatac_2.FIXEDCELLS__cto.scrublet0-4.pkl exists! Skipping...\n",
      "Checking if cistopic_objects/CNA_10xmultiome_1.FIXEDCELLS__cto.scrublet0-4.pkl exist...\n",
      "\tcistopic_objects/CNA_10xmultiome_1.FIXEDCELLS__cto.scrublet0-4.pkl exists! Skipping...\n",
      "Checking if cistopic_objects/CNA_10xmultiome_2.FIXEDCELLS__cto.scrublet0-4.pkl exist...\n",
      "\tcistopic_objects/CNA_10xmultiome_2.FIXEDCELLS__cto.scrublet0-4.pkl exists! Skipping...\n",
      "Checking if cistopic_objects/CNA_10xv11_1.FIXEDCELLS__cto.scrublet0-4.pkl exist...\n",
      "\tcistopic_objects/CNA_10xv11_1.FIXEDCELLS__cto.scrublet0-4.pkl exists! Skipping...\n",
      "Checking if cistopic_objects/CNA_10xv11_2.FIXEDCELLS__cto.scrublet0-4.pkl exist...\n",
      "\tcistopic_objects/CNA_10xv11_2.FIXEDCELLS__cto.scrublet0-4.pkl exists! Skipping...\n",
      "Checking if cistopic_objects/CNA_10xv11_3.FIXEDCELLS__cto.scrublet0-4.pkl exist...\n",
      "\tcistopic_objects/CNA_10xv11_3.FIXEDCELLS__cto.scrublet0-4.pkl exists! Skipping...\n",
      "Checking if cistopic_objects/CNA_10xv11_4.FIXEDCELLS__cto.scrublet0-4.pkl exist...\n",
      "\tcistopic_objects/CNA_10xv11_4.FIXEDCELLS__cto.scrublet0-4.pkl exists! Skipping...\n",
      "Checking if cistopic_objects/CNA_10xv11_5.FIXEDCELLS__cto.scrublet0-4.pkl exist...\n",
      "\tcistopic_objects/CNA_10xv11_5.FIXEDCELLS__cto.scrublet0-4.pkl exists! Skipping...\n",
      "Checking if cistopic_objects/CNA_10xv2_1.FIXEDCELLS__cto.scrublet0-4.pkl exist...\n",
      "\tcistopic_objects/CNA_10xv2_1.FIXEDCELLS__cto.scrublet0-4.pkl exists! Skipping...\n",
      "Checking if cistopic_objects/CNA_10xv2_2.FIXEDCELLS__cto.scrublet0-4.pkl exist...\n",
      "\tcistopic_objects/CNA_10xv2_2.FIXEDCELLS__cto.scrublet0-4.pkl exists! Skipping...\n",
      "Checking if cistopic_objects/CNA_hydrop_1.FIXEDCELLS__cto.scrublet0-4.pkl exist...\n",
      "\tcistopic_objects/CNA_hydrop_1.FIXEDCELLS__cto.scrublet0-4.pkl exists! Skipping...\n",
      "Checking if cistopic_objects/CNA_hydrop_2.FIXEDCELLS__cto.scrublet0-4.pkl exist...\n",
      "\tcistopic_objects/CNA_hydrop_2.FIXEDCELLS__cto.scrublet0-4.pkl exists! Skipping...\n",
      "Checking if cistopic_objects/CNA_hydrop_3.FIXEDCELLS__cto.scrublet0-4.pkl exist...\n",
      "\tcistopic_objects/CNA_hydrop_3.FIXEDCELLS__cto.scrublet0-4.pkl exists! Skipping...\n",
      "Checking if cistopic_objects/CNA_mtscatac_1.FIXEDCELLS__cto.scrublet0-4.pkl exist...\n",
      "\tcistopic_objects/CNA_mtscatac_1.FIXEDCELLS__cto.scrublet0-4.pkl exists! Skipping...\n",
      "Checking if cistopic_objects/CNA_mtscatac_2.FIXEDCELLS__cto.scrublet0-4.pkl exist...\n",
      "\tcistopic_objects/CNA_mtscatac_2.FIXEDCELLS__cto.scrublet0-4.pkl exists! Skipping...\n",
      "Checking if cistopic_objects/EPF_hydrop_1.FIXEDCELLS__cto.scrublet0-4.pkl exist...\n",
      "\tcistopic_objects/EPF_hydrop_1.FIXEDCELLS__cto.scrublet0-4.pkl exists! Skipping...\n",
      "Checking if cistopic_objects/EPF_hydrop_2.FIXEDCELLS__cto.scrublet0-4.pkl exist...\n",
      "\tcistopic_objects/EPF_hydrop_2.FIXEDCELLS__cto.scrublet0-4.pkl exists! Skipping...\n",
      "Checking if cistopic_objects/EPF_hydrop_3.FIXEDCELLS__cto.scrublet0-4.pkl exist...\n",
      "\tcistopic_objects/EPF_hydrop_3.FIXEDCELLS__cto.scrublet0-4.pkl exists! Skipping...\n",
      "Checking if cistopic_objects/EPF_hydrop_4.FIXEDCELLS__cto.scrublet0-4.pkl exist...\n",
      "\tcistopic_objects/EPF_hydrop_4.FIXEDCELLS__cto.scrublet0-4.pkl exists! Skipping...\n",
      "Checking if cistopic_objects/HAR_ddseq_1.FIXEDCELLS__cto.scrublet0-4.pkl exist...\n",
      "\tcistopic_objects/HAR_ddseq_1.FIXEDCELLS__cto.scrublet0-4.pkl exists! Skipping...\n",
      "Checking if cistopic_objects/HAR_ddseq_2.FIXEDCELLS__cto.scrublet0-4.pkl exist...\n",
      "\tcistopic_objects/HAR_ddseq_2.FIXEDCELLS__cto.scrublet0-4.pkl exists! Skipping...\n",
      "Checking if cistopic_objects/MDC_mtscatac_1.FIXEDCELLS__cto.scrublet0-4.pkl exist...\n",
      "\tcistopic_objects/MDC_mtscatac_1.FIXEDCELLS__cto.scrublet0-4.pkl exists! Skipping...\n",
      "Checking if cistopic_objects/MDC_mtscatac_2.FIXEDCELLS__cto.scrublet0-4.pkl exist...\n",
      "\tcistopic_objects/MDC_mtscatac_2.FIXEDCELLS__cto.scrublet0-4.pkl exists! Skipping...\n",
      "Checking if cistopic_objects/OHS_s3atac_1.FIXEDCELLS__cto.scrublet0-4.pkl exist...\n",
      "\tcistopic_objects/OHS_s3atac_1.FIXEDCELLS__cto.scrublet0-4.pkl exists! Skipping...\n",
      "Checking if cistopic_objects/OHS_s3atac_2.FIXEDCELLS__cto.scrublet0-4.pkl exist...\n",
      "\tcistopic_objects/OHS_s3atac_2.FIXEDCELLS__cto.scrublet0-4.pkl exists! Skipping...\n",
      "Checking if cistopic_objects/SAN_10xmultiome_1.FIXEDCELLS__cto.scrublet0-4.pkl exist...\n",
      "\tcistopic_objects/SAN_10xmultiome_1.FIXEDCELLS__cto.scrublet0-4.pkl exists! Skipping...\n",
      "Checking if cistopic_objects/SAN_10xmultiome_2.FIXEDCELLS__cto.scrublet0-4.pkl exist...\n",
      "\tcistopic_objects/SAN_10xmultiome_2.FIXEDCELLS__cto.scrublet0-4.pkl exists! Skipping...\n",
      "Checking if cistopic_objects/STA_10xv11_1.FIXEDCELLS__cto.scrublet0-4.pkl exist...\n",
      "\tcistopic_objects/STA_10xv11_1.FIXEDCELLS__cto.scrublet0-4.pkl exists! Skipping...\n",
      "Checking if cistopic_objects/STA_10xv11_2.FIXEDCELLS__cto.scrublet0-4.pkl exist...\n",
      "\tcistopic_objects/STA_10xv11_2.FIXEDCELLS__cto.scrublet0-4.pkl exists! Skipping...\n",
      "Checking if cistopic_objects/TXG_10xv11_1.FIXEDCELLS__cto.scrublet0-4.pkl exist...\n",
      "\tcistopic_objects/TXG_10xv11_1.FIXEDCELLS__cto.scrublet0-4.pkl exists! Skipping...\n",
      "Checking if cistopic_objects/TXG_10xv2_1.FIXEDCELLS__cto.scrublet0-4.pkl exist...\n",
      "\tcistopic_objects/TXG_10xv2_1.FIXEDCELLS__cto.scrublet0-4.pkl exists! Skipping...\n",
      "Checking if cistopic_objects/TXG_10xv2_2.FIXEDCELLS__cto.scrublet0-4.pkl exist...\n",
      "\tcistopic_objects/TXG_10xv2_2.FIXEDCELLS__cto.scrublet0-4.pkl exists! Skipping...\n",
      "Checking if cistopic_objects/UCS_ddseq_1.FIXEDCELLS__cto.scrublet0-4.pkl exist...\n",
      "\tcistopic_objects/UCS_ddseq_1.FIXEDCELLS__cto.scrublet0-4.pkl exists! Skipping...\n",
      "Checking if cistopic_objects/UCS_ddseq_2.FIXEDCELLS__cto.scrublet0-4.pkl exist...\n",
      "\tcistopic_objects/UCS_ddseq_2.FIXEDCELLS__cto.scrublet0-4.pkl exists! Skipping...\n",
      "Checking if cistopic_objects/VIB_10xmultiome_1.FIXEDCELLS__cto.scrublet0-4.pkl exist...\n",
      "\tcistopic_objects/VIB_10xmultiome_1.FIXEDCELLS__cto.scrublet0-4.pkl exists! Skipping...\n",
      "Checking if cistopic_objects/VIB_10xmultiome_2.FIXEDCELLS__cto.scrublet0-4.pkl exist...\n",
      "\tcistopic_objects/VIB_10xmultiome_2.FIXEDCELLS__cto.scrublet0-4.pkl exists! Skipping...\n",
      "Checking if cistopic_objects/VIB_10xv1_1.FIXEDCELLS__cto.scrublet0-4.pkl exist...\n",
      "\tcistopic_objects/VIB_10xv1_1.FIXEDCELLS__cto.scrublet0-4.pkl exists! Skipping...\n",
      "Checking if cistopic_objects/VIB_10xv1_2.FIXEDCELLS__cto.scrublet0-4.pkl exist...\n",
      "\tcistopic_objects/VIB_10xv1_2.FIXEDCELLS__cto.scrublet0-4.pkl exists! Skipping...\n",
      "Checking if cistopic_objects/VIB_10xv2_1.FIXEDCELLS__cto.scrublet0-4.pkl exist...\n",
      "\tcistopic_objects/VIB_10xv2_1.FIXEDCELLS__cto.scrublet0-4.pkl exists! Skipping...\n",
      "Checking if cistopic_objects/VIB_10xv2_2.FIXEDCELLS__cto.scrublet0-4.pkl exist...\n",
      "\tcistopic_objects/VIB_10xv2_2.FIXEDCELLS__cto.scrublet0-4.pkl exists! Skipping...\n",
      "Checking if cistopic_objects/VIB_hydrop_11.FIXEDCELLS__cto.scrublet0-4.pkl exist...\n",
      "\tcistopic_objects/VIB_hydrop_11.FIXEDCELLS__cto.scrublet0-4.pkl does not exist, adding to subdict to generate\n",
      "Checking if cistopic_objects/VIB_hydrop_12.FIXEDCELLS__cto.scrublet0-4.pkl exist...\n",
      "\tcistopic_objects/VIB_hydrop_12.FIXEDCELLS__cto.scrublet0-4.pkl does not exist, adding to subdict to generate\n",
      "Checking if cistopic_objects/VIB_hydrop_21.FIXEDCELLS__cto.scrublet0-4.pkl exist...\n",
      "\tcistopic_objects/VIB_hydrop_21.FIXEDCELLS__cto.scrublet0-4.pkl does not exist, adding to subdict to generate\n",
      "Checking if cistopic_objects/VIB_hydrop_22.FIXEDCELLS__cto.scrublet0-4.pkl exist...\n",
      "\tcistopic_objects/VIB_hydrop_22.FIXEDCELLS__cto.scrublet0-4.pkl does not exist, adding to subdict to generate\n"
     ]
    },
    {
     "data": {
      "application/javascript": [
       "\n",
       "            setTimeout(function() {\n",
       "                var nbb_cell_id = 17;\n",
       "                var nbb_unformatted_code = \"fragments_sub_dict = {}\\nscrubcto_dict = {}\\nscrub_threshold = 0.4\\nscrub_name_suffix = \\\"0-4\\\"\\n#regions_sub_dict = {}\\nfor sample in cto_dict:\\n    cto = os.path.join('cistopic_objects', sample + f\\\"__cto.scrublet{scrub_name_suffix}.pkl\\\")\\n    print(f\\\"Checking if {cto} exist...\\\")\\n    if os.path.exists(cto):\\n        print(f\\\"\\\\t{cto} exists! Skipping...\\\")\\n    else:\\n        print(f\\\"\\\\t{cto} does not exist, adding to subdict to generate\\\")\\n        scrubcto_dict[sample] = cto\";\n",
       "                var nbb_formatted_code = \"fragments_sub_dict = {}\\nscrubcto_dict = {}\\nscrub_threshold = 0.4\\nscrub_name_suffix = \\\"0-4\\\"\\n# regions_sub_dict = {}\\nfor sample in cto_dict:\\n    cto = os.path.join(\\n        \\\"cistopic_objects\\\", sample + f\\\"__cto.scrublet{scrub_name_suffix}.pkl\\\"\\n    )\\n    print(f\\\"Checking if {cto} exist...\\\")\\n    if os.path.exists(cto):\\n        print(f\\\"\\\\t{cto} exists! Skipping...\\\")\\n    else:\\n        print(f\\\"\\\\t{cto} does not exist, adding to subdict to generate\\\")\\n        scrubcto_dict[sample] = cto\";\n",
       "                var nbb_cells = Jupyter.notebook.get_cells();\n",
       "                for (var i = 0; i < nbb_cells.length; ++i) {\n",
       "                    if (nbb_cells[i].input_prompt_number == nbb_cell_id) {\n",
       "                        if (nbb_cells[i].get_text() == nbb_unformatted_code) {\n",
       "                             nbb_cells[i].set_text(nbb_formatted_code);\n",
       "                        }\n",
       "                        break;\n",
       "                    }\n",
       "                }\n",
       "            }, 500);\n",
       "            "
      ],
      "text/plain": [
       "<IPython.core.display.Javascript object>"
      ]
     },
     "metadata": {},
     "output_type": "display_data"
    }
   ],
   "source": [
    "fragments_sub_dict = {}\n",
    "scrubcto_dict = {}\n",
    "scrub_threshold = 0.4\n",
    "scrub_name_suffix = \"0-4\"\n",
    "#regions_sub_dict = {}\n",
    "for sample in cto_dict:\n",
    "    cto = os.path.join('cistopic_objects', sample + f\"__cto.scrublet{scrub_name_suffix}.pkl\")\n",
    "    print(f\"Checking if {cto} exist...\")\n",
    "    if os.path.exists(cto):\n",
    "        print(f\"\\t{cto} exists! Skipping...\")\n",
    "    else:\n",
    "        print(f\"\\t{cto} does not exist, adding to subdict to generate\")\n",
    "        scrubcto_dict[sample] = cto"
   ]
  },
  {
   "cell_type": "code",
   "execution_count": null,
   "id": "7a92fe58",
   "metadata": {
    "papermill": {
     "duration": null,
     "end_time": null,
     "exception": null,
     "start_time": null,
     "status": "pending"
    },
    "pycharm": {
     "name": "#%%\n"
    },
    "tags": []
   },
   "outputs": [
    {
     "name": "stdout",
     "output_type": "stream",
     "text": [
      "Loaded cistopic_objects/VIB_hydrop_11.FIXEDCELLS__cto.pkl\n",
      "Preprocessing...\n",
      "Simulating doublets...\n",
      "Embedding transcriptomes using PCA...\n",
      "Calculating doublet scores...\n"
     ]
    }
   ],
   "source": [
    "if cto_dict != {}:\n",
    "    for sample in scrubcto_dict.keys():\n",
    "        with open(cto_dict[sample], 'rb') as f:\n",
    "            cto = pickle.load(f)\n",
    "        print(f\"Loaded {cto_dict[sample]}\")\n",
    "        scrub = scr.Scrublet(cto.fragment_matrix.T, expected_doublet_rate=0.1)\n",
    "        doublet_scores, predicted_doublets = scrub.scrub_doublets()\n",
    "        # scrub.plot_histogram()\n",
    "        scrub.call_doublets(threshold=scrub_threshold)\n",
    "        a,b = scrub.plot_histogram()\n",
    "        a.suptitle(sample)\n",
    "        plt.savefig(f'plots_qc/{sample}.scrublet_histogram.png', dpi=150, facecolor='white')\n",
    "        plt.show()\n",
    "        plt.close()\n",
    "\n",
    "        print('Running UMAP...')\n",
    "        scrub.set_embedding('UMAP', scr.get_umap(scrub.manifold_obs_, 10, min_dist=0.3))\n",
    "        scrub.plot_embedding('UMAP', order_points=True);\n",
    "        plt.savefig(f'plots_qc/{sample}.scrublet_umap.png', dpi=150, facecolor='white')\n",
    "        plt.show()\n",
    "        plt.close()\n",
    "\n",
    "        scrublet = pd.DataFrame([scrub.doublet_scores_obs_, scrub.predicted_doublets_], \n",
    "            columns=cto.cell_names,\n",
    "            index=['Doublet_scores_fragments', 'Predicted_doublets_fragments']).T\n",
    "        cto.add_cell_data(scrublet)\n",
    "        n_scrublet_doublets = len(cto.cell_data[\"Predicted_doublets_fragments\"] == True)\n",
    "        print(f\"{sample}: found doublets: \\n\\t({n_scrublet_doublets}: Scrublet)\"\n",
    "             )\n",
    "\n",
    "        cto_path_new = scrubcto_dict[sample]\n",
    "\n",
    "        with open(\n",
    "            cto_path_new, \"wb\"\n",
    "        ) as f:\n",
    "            pickle.dump(cto, f, protocol=4)\n",
    "\n",
    "        print('\\n')\n",
    "        \n",
    "else:\n",
    "    print(\"All samples already processed.\")"
   ]
  },
  {
   "cell_type": "markdown",
   "id": "b42f3399",
   "metadata": {
    "papermill": {
     "duration": null,
     "end_time": null,
     "exception": null,
     "start_time": null,
     "status": "pending"
    },
    "pycharm": {
     "name": "#%% md\n"
    },
    "tags": []
   },
   "source": [
    "## Cell filtering"
   ]
  },
  {
   "cell_type": "markdown",
   "id": "e0652d48",
   "metadata": {
    "papermill": {
     "duration": null,
     "end_time": null,
     "exception": null,
     "start_time": null,
     "status": "pending"
    },
    "pycharm": {
     "name": "#%% md\n"
    },
    "tags": []
   },
   "source": [
    "### Read in Freemuxlet doublet predictions"
   ]
  },
  {
   "cell_type": "code",
   "execution_count": null,
   "id": "49665648",
   "metadata": {
    "papermill": {
     "duration": null,
     "end_time": null,
     "exception": null,
     "start_time": null,
     "status": "pending"
    },
    "pycharm": {
     "name": "#%%\n"
    },
    "tags": []
   },
   "outputs": [],
   "source": [
    "f_fmx = 'out_fmx/genotype_concordance_unified.txt'\n",
    "fmx = pd.read_csv(f_fmx, sep='\\t')\n",
    "fmx"
   ]
  },
  {
   "cell_type": "code",
   "execution_count": null,
   "id": "cbdad727",
   "metadata": {
    "papermill": {
     "duration": null,
     "end_time": null,
     "exception": null,
     "start_time": null,
     "status": "pending"
    },
    "pycharm": {
     "name": "#%%\n"
    },
    "tags": []
   },
   "outputs": [],
   "source": [
    "fmx['DROPLET.TYPE'].unique()"
   ]
  },
  {
   "cell_type": "code",
   "execution_count": null,
   "id": "4c9bda75",
   "metadata": {
    "papermill": {
     "duration": null,
     "end_time": null,
     "exception": null,
     "start_time": null,
     "status": "pending"
    },
    "pycharm": {
     "name": "#%%\n"
    },
    "tags": []
   },
   "outputs": [],
   "source": [
    "# create an annotation df:\n",
    "fmx['cell_names'] = fmx['BARCODE'] + \"___\" + fmx['replicate']\n",
    "\n",
    "fmx_annot = fmx[['DROPLET.TYPE','sample','cell_names']].copy().set_index('cell_names')\n",
    "fmx_annot.columns = ['fmx_droplet_type','fmx_sample']\n",
    "fmx_annot"
   ]
  },
  {
   "cell_type": "markdown",
   "id": "1569c6ea",
   "metadata": {
    "papermill": {
     "duration": null,
     "end_time": null,
     "exception": null,
     "start_time": null,
     "status": "pending"
    },
    "pycharm": {
     "name": "#%% md\n"
    },
    "tags": []
   },
   "source": [
    "# Read scrublet ctos"
   ]
  },
  {
   "cell_type": "code",
   "execution_count": null,
   "id": "317c68fc",
   "metadata": {
    "papermill": {
     "duration": null,
     "end_time": null,
     "exception": null,
     "start_time": null,
     "status": "pending"
    },
    "pycharm": {
     "name": "#%%\n"
    },
    "tags": []
   },
   "outputs": [],
   "source": [
    "scrubcto_dict = {x.split('/')[-1].split(f'__cto.scrublet{scrub_name_suffix}.pkl')[0]:x for x in sorted(glob.glob(f'cistopic_objects/*__cto.scrublet{scrub_name_suffix}.pkl'))}\n",
    "scrubcto_dict"
   ]
  },
  {
   "cell_type": "code",
   "execution_count": null,
   "id": "9c2620af",
   "metadata": {
    "tags": []
   },
   "outputs": [],
   "source": [
    "len(scrubcto_dict)"
   ]
  },
  {
   "cell_type": "code",
   "execution_count": null,
   "id": "015dc24d",
   "metadata": {
    "tags": []
   },
   "outputs": [],
   "source": [
    "non_fmx_samples = ['BIO_ddseq_1.FIXEDCELLS',\n",
    "'BIO_ddseq_2.FIXEDCELLS',\n",
    "'BIO_ddseq_3.FIXEDCELLS',\n",
    "'BIO_ddseq_4.FIXEDCELLS',\n",
    "'OHS_s3atac_2.FIXEDCELLS',\n",
    "'TXG_10xv11_1.FIXEDCELLS',\n",
    "'TXG_10xv2_1.FIXEDCELLS',\n",
    "'TXG_10xv2_2.FIXEDCELLS',\n",
    "'UCS_ddseq_1.FIXEDCELLS',\n",
    "'UCS_ddseq_2.FIXEDCELLS']"
   ]
  },
  {
   "cell_type": "code",
   "execution_count": null,
   "id": "e0388b66",
   "metadata": {
    "papermill": {
     "duration": null,
     "end_time": null,
     "exception": null,
     "start_time": null,
     "status": "pending"
    },
    "pycharm": {
     "name": "#%%\n"
    },
    "tags": []
   },
   "outputs": [],
   "source": [
    "len(scrubcto_dict)"
   ]
  },
  {
   "cell_type": "code",
   "execution_count": null,
   "id": "c9b706b1",
   "metadata": {
    "tags": []
   },
   "outputs": [],
   "source": [
    "fmx_samples_run = set([x.split('___')[-1] for x in fmx_annot.index])\n",
    "fmx_samples_run"
   ]
  },
  {
   "cell_type": "code",
   "execution_count": null,
   "id": "171733a5",
   "metadata": {
    "papermill": {
     "duration": null,
     "end_time": null,
     "exception": null,
     "start_time": null,
     "status": "pending"
    },
    "pycharm": {
     "name": "#%%\n"
    },
    "tags": []
   },
   "outputs": [],
   "source": [
    "fmx_samples = sorted(list(set([x.split('.')[0] + '.' + x.split('.')[1] for x in fmx.index])))\n",
    "removed_bcs_dict = {}\n",
    "# for sample in [\"CNA_10xv11_1.FULL\"]:\n",
    "\n",
    "for sample in scrubcto_dict.keys():\n",
    "    print(f\"{sample}\")\n",
    "    cto_path = scrubcto_dict[sample]\n",
    "    newcto_path = cto_path.replace(f'__cto.scrublet{scrub_name_suffix}.pkl',f'__cto.scrublet{scrub_name_suffix}.fmx.singlets.pkl')\n",
    "    if os.path.exists(newcto_path):\n",
    "        print(f\"\\t{newcto_path} exists! Skipping...\")\n",
    "        \n",
    "    else:\n",
    "        with open(cto_path, 'rb') as f:\n",
    "            cto = pickle.load(f)\n",
    "\n",
    "        if not sample in non_fmx_samples:\n",
    "            if sample in fmx_samples_run:\n",
    "                print(f\"\\tLoaded {cto_path}, adding fmx data and removing fmx + scr doublets\")\n",
    "                cto.add_cell_data(fmx_annot.loc[cto.cell_data.index])\n",
    "\n",
    "                removed_bcs_dict[sample] = {\n",
    "                    'dbl_scrublet': cto.cell_data.barcode[cto.cell_data.Predicted_doublets_fragments == True].tolist(),\n",
    "                    'dbl_fmx': cto.cell_data.barcode[cto.cell_data.fmx_droplet_type == 'DBL'].tolist(),    \n",
    "                }\n",
    "\n",
    "                # Remove doublets \n",
    "                singlets = cto.cell_data[\n",
    "                    (cto.cell_data.Predicted_doublets_fragments == False) & \n",
    "                    (cto.cell_data.fmx_droplet_type != 'DBL')\n",
    "                ].index.tolist()\n",
    "                print(f\"\\t{sample}: Removing {len(cto.cell_names)-len(singlets)} cells\")\n",
    "\n",
    "                fmx_doublets = set(cto.cell_data[cto.cell_data['fmx_droplet_type'] == 'DBL'].index)\n",
    "                scr_doublets = set(cto.cell_data[cto.cell_data['Predicted_doublets_fragments'] == True].index)\n",
    "\n",
    "                fmx_doublets_unique = fmx_doublets - scr_doublets\n",
    "                scr_doublets_unique = scr_doublets - fmx_doublets\n",
    "                common_doublets = fmx_doublets.intersection(scr_doublets)\n",
    "\n",
    "                print(f\"\\t\\t{len(fmx_doublets_unique)} unique fmx doublets\")\n",
    "                print(f\"\\t\\t{len(scr_doublets_unique)} unique scr doublets\")\n",
    "                print(f\"\\t\\t{len(common_doublets)} common doublets\")\n",
    "\n",
    "                fmx_doublets_unique_path = cto_path.replace(f'__cto.scrublet{scrub_name_suffix}.pkl',f'__cto.scrublet{scrub_name_suffix}.fmx.fmx_doublets_unique.txt')\n",
    "                with open(fmx_doublets_unique_path, 'w') as f:\n",
    "                    for x in fmx_doublets_unique:\n",
    "                        f.write(f\"{x}\\n\")\n",
    "\n",
    "                scr_doublets_unique_path = cto_path.replace(f'__cto.scrublet{scrub_name_suffix}.pkl',f'__cto.scrublet{scrub_name_suffix}.fmx.scr_doublets_unique.txt')\n",
    "                with open(scr_doublets_unique_path, 'w') as f:\n",
    "                    for x in scr_doublets_unique:\n",
    "                        f.write(f\"{x}\\n\")\n",
    "\n",
    "                common_doublets_path = cto_path.replace(f'__cto.scrublet{scrub_name_suffix}.pkl',f'__cto.scrublet{scrub_name_suffix}.fmx.common_doublets.txt')\n",
    "                with open(common_doublets_path, 'w') as f:\n",
    "                    for x in common_doublets:\n",
    "                        f.write(f\"{x}\\n\")\n",
    "                        \n",
    "                # Subset cisTopic object\n",
    "                cto.subset(singlets)\n",
    "\n",
    "                # save\n",
    "                with open(newcto_path, \"wb\") as f:\n",
    "                    pickle.dump(cto, f, protocol=4)\n",
    "\n",
    "                removed_bcs_path = cto_path.replace(f'__cto.scrublet{scrub_name_suffix}.pkl',f'__cto.scrublet{scrub_name_suffix}.fmx.singlets.removed_bcs.pkl')\n",
    "                with open(removed_bcs_path, \"wb\") as f:\n",
    "                    pickle.dump(removed_bcs_path, f, protocol=4)\n",
    "\n",
    "                cell_data_path = cto_path.replace(f'__cto.scrublet{scrub_name_suffix}.pkl',f'__cto.scrublet{scrub_name_suffix}.fmx.singlets.cell_data.tsv')\n",
    "                cto.cell_data.to_csv(cell_data_path)\n",
    "\n",
    "                print(f\"\\tWrote {newcto_path}, doublet lists and {cell_data_path}\\n\")\n",
    "        \n",
    "            else:\n",
    "                print(f'\\t{sample} FMX not run!!!')\n",
    "                continue\n",
    "                \n",
    "        else:\n",
    "            print(f\"\\tLoaded {cto_path}, removing scr doublets\")\n",
    "            removed_bcs_dict[sample] = {\n",
    "                'dbl_scrublet': cto.cell_data.barcode[cto.cell_data.Predicted_doublets_fragments == True].tolist()\n",
    "            }\n",
    "\n",
    "            # Remove doublets \n",
    "            singlets = cto.cell_data[\n",
    "                (cto.cell_data.Predicted_doublets_fragments == False)\n",
    "            ].index.tolist()\n",
    "            print(f\"\\t{sample}: Removing {len(cto.cell_names)-len(singlets)} cells\")\n",
    "\n",
    "            scr_doublets = set(cto.cell_data[cto.cell_data['Predicted_doublets_fragments'] == True].index)\n",
    "            print(f\"\\t\\t{len(scr_doublets)} scr doublets\")\n",
    "\n",
    "            \n",
    "            scr_doublets_unique_path = cto_path.replace(f'__cto.scrublet{scrub_name_suffix}.pkl',f'__cto.scrublet{scrub_name_suffix}.fmx.scr_doublets_unique.txt')\n",
    "            with open(scr_doublets_unique_path, 'w') as f:\n",
    "                for x in scr_doublets:\n",
    "                    f.write(f\"{x}\\n\")\n",
    "                    \n",
    "                    \n",
    "            # Subset cisTopic object\n",
    "            cto.subset(singlets)\n",
    "\n",
    "            # save\n",
    "            with open(newcto_path, \"wb\") as f:\n",
    "                pickle.dump(cto, f, protocol=4)\n",
    "\n",
    "            removed_bcs_path = cto_path.replace(f'__cto.scrublet{scrub_name_suffix}.pkl',f'__cto.scrublet{scrub_name_suffix}.fmx.singlets.removed_bcs.pkl')\n",
    "            with open(removed_bcs_path, \"wb\") as f:\n",
    "                pickle.dump(removed_bcs_path, f, protocol=4)\n",
    "\n",
    "            cell_data_path = cto_path.replace(f'__cto.scrublet{scrub_name_suffix}.pkl',f'__cto.scrublet{scrub_name_suffix}.fmx.singlets.cell_data.tsv')\n",
    "            cto.cell_data.to_csv(cell_data_path)\n",
    "\n",
    "            print(f\"\\tWrote {newcto_path}, doublet lists and {cell_data_path}\\n\")"
   ]
  },
  {
   "cell_type": "markdown",
   "id": "55f333e1",
   "metadata": {},
   "source": [
    "# Merge"
   ]
  },
  {
   "cell_type": "code",
   "execution_count": null,
   "id": "5ecffde2",
   "metadata": {
    "papermill": {
     "duration": 0.025386,
     "end_time": "2022-08-28T01:28:08.359381",
     "exception": false,
     "start_time": "2022-08-28T01:28:08.333995",
     "status": "completed"
    },
    "tags": []
   },
   "outputs": [],
   "source": [
    "from pycisTopic.cistopic_class import *"
   ]
  },
  {
   "cell_type": "code",
   "execution_count": null,
   "id": "e0646c6d",
   "metadata": {
    "papermill": {
     "duration": 0.025686,
     "end_time": "2022-08-28T01:28:08.410710",
     "exception": false,
     "start_time": "2022-08-28T01:28:08.385024",
     "status": "completed"
    },
    "tags": []
   },
   "outputs": [],
   "source": [
    "paths_list = ['cistopic_objects/VIB_hydrop_21.FIXEDCELLS__cto.scrublet0-4.fmx.singlets.pkl', 'cistopic_objects/VIB_hydrop_22.FIXEDCELLS__cto.scrublet0-4.fmx.singlets.pkl']\n",
    "cto_path_new = 'cistopic_objects/VIB_hydrop_2.FIXEDCELLS__cto.scrublet0-4.fmx.singlets.pkl'\n",
    "cto_list = []\n",
    "for file in paths_list:\n",
    "    print(file)\n",
    "    with open(file, 'rb') as f:\n",
    "        cto = pickle.load(f)\n",
    "    \n",
    "    cto_list.append(cto)\n",
    "    \n",
    "cto_merged = merge(cto_list)\n",
    "with open(\n",
    "    cto_path_new, \"wb\"\n",
    ") as f:\n",
    "    pickle.dump(cto_merged, f, protocol=4)"
   ]
  },
  {
   "cell_type": "code",
   "execution_count": null,
   "id": "2be11643",
   "metadata": {
    "tags": []
   },
   "outputs": [],
   "source": [
    "paths_list = ['cistopic_objects/VIB_hydrop_11.FIXEDCELLS__cto.scrublet0-4.fmx.singlets.pkl', 'cistopic_objects/VIB_hydrop_12.FIXEDCELLS__cto.scrublet0-4.fmx.singlets.pkl']\n",
    "cto_path_new = 'cistopic_objects/VIB_hydrop_1.FIXEDCELLS__cto.scrublet0-4.fmx.singlets.pkl'\n",
    "cto_list = []\n",
    "for file in paths_list:\n",
    "    print(file)\n",
    "    with open(file, 'rb') as f:\n",
    "        cto = pickle.load(f)\n",
    "    \n",
    "    cto_list.append(cto)\n",
    "    \n",
    "cto_merged = merge(cto_list)\n",
    "with open(\n",
    "    cto_path_new, \"wb\"\n",
    ") as f:\n",
    "    pickle.dump(cto_merged, f, protocol=4)"
   ]
  },
  {
   "cell_type": "code",
   "execution_count": null,
   "id": "a85eddec",
   "metadata": {
    "papermill": {
     "duration": 0.024893,
     "end_time": "2022-08-28T01:28:08.461300",
     "exception": false,
     "start_time": "2022-08-28T01:28:08.436407",
     "status": "completed"
    },
    "tags": []
   },
   "outputs": [],
   "source": [
    "cto_path = 'cistopic_objects/VIB_hydrop_1.FIXEDCELLS__cto.scrublet0-4.fmx.singlets.pkl'\n",
    "with open(cto_path, 'rb') as f:\n",
    "    cto = pickle.load(f)\n",
    "    \n",
    "cto.cell_names = [ x.split('__')[0] + '-' + x.split('VIB_hydrop_')[-1][1] + \"___\"  + x.split('__')[1]  for x in cto.cell_names ]\n",
    "with open(\n",
    "    cto_path, \"wb\"\n",
    ") as f:\n",
    "    pickle.dump(cto, f, protocol=4)"
   ]
  },
  {
   "cell_type": "code",
   "execution_count": null,
   "id": "baf26f7b",
   "metadata": {
    "papermill": {
     "duration": 0.025348,
     "end_time": "2022-08-28T01:28:08.511658",
     "exception": false,
     "start_time": "2022-08-28T01:28:08.486310",
     "status": "completed"
    },
    "tags": []
   },
   "outputs": [],
   "source": [
    "cto_path = 'cistopic_objects/VIB_hydrop_2.FIXEDCELLS__cto.scrublet0-4.fmx.singlets.pkl'\n",
    "with open(cto_path, 'rb') as f:\n",
    "    cto = pickle.load(f)\n",
    "    \n",
    "cto.cell_names = [ x.split('__')[0] + '-' + x.split('VIB_hydrop_')[-1][1] + \"___\"  + x.split('__')[1]  for x in cto.cell_names ]\n",
    "with open(\n",
    "    cto_path, \"wb\"\n",
    ") as f:\n",
    "    pickle.dump(cto, f, protocol=4)"
   ]
  },
  {
   "cell_type": "markdown",
   "id": "dc96f574",
   "metadata": {
    "papermill": {
     "duration": null,
     "end_time": null,
     "exception": null,
     "start_time": null,
     "status": "pending"
    },
    "pycharm": {
     "name": "#%% md\n"
    },
    "tags": []
   },
   "source": [
    "# Write looms from these ctos"
   ]
  },
  {
   "cell_type": "code",
   "execution_count": null,
   "id": "7b10e16d",
   "metadata": {
    "papermill": {
     "duration": null,
     "end_time": null,
     "exception": null,
     "start_time": null,
     "status": "pending"
    },
    "pycharm": {
     "name": "#%%\n"
    },
    "tags": []
   },
   "outputs": [],
   "source": [
    "import loompy as lp"
   ]
  },
  {
   "cell_type": "code",
   "execution_count": null,
   "id": "5a5998e9",
   "metadata": {
    "papermill": {
     "duration": null,
     "end_time": null,
     "exception": null,
     "start_time": null,
     "status": "pending"
    },
    "pycharm": {
     "name": "#%%\n"
    },
    "tags": []
   },
   "outputs": [],
   "source": [
    "scrub_name_suffix = \"0-4\"\n",
    "scrubcto_dict = {x.split('/')[-1].split(f'__cto.scrublet{scrub_name_suffix}.pkl')[0]:x for x in sorted(glob.glob(f'cistopic_objects/*__cto.scrublet{scrub_name_suffix}.*singlets.pkl'))}\n",
    "scrubcto_dict"
   ]
  },
  {
   "cell_type": "code",
   "execution_count": null,
   "id": "84e2b7bd",
   "metadata": {
    "papermill": {
     "duration": null,
     "end_time": null,
     "exception": null,
     "start_time": null,
     "status": "pending"
    },
    "pycharm": {
     "name": "#%%\n"
    },
    "tags": []
   },
   "outputs": [],
   "source": [
    "len(scrubcto_dict)"
   ]
  },
  {
   "cell_type": "code",
   "execution_count": null,
   "id": "cf60c3e7",
   "metadata": {
    "papermill": {
     "duration": null,
     "end_time": null,
     "exception": null,
     "start_time": null,
     "status": "pending"
    },
    "pycharm": {
     "name": "#%%\n"
    },
    "tags": []
   },
   "outputs": [],
   "source": [
    "loom_out = 'cell_region_looms'\n",
    "if not os.path.exists(os.path.join(loom_out)):\n",
    "    os.makedirs(os.path.join(loom_out))"
   ]
  },
  {
   "cell_type": "code",
   "execution_count": null,
   "id": "c594e2f7",
   "metadata": {
    "papermill": {
     "duration": null,
     "end_time": null,
     "exception": null,
     "start_time": null,
     "status": "pending"
    },
    "pycharm": {
     "name": "#%%\n"
    },
    "tags": []
   },
   "outputs": [],
   "source": [
    "cto_path_sub_dict = {}\n",
    "for sample in scrubcto_dict.keys():\n",
    "    cto_path = scrubcto_dict[sample]\n",
    "    loom_path = os.path.join(loom_out, cto_path.split('/')[-1].replace('.pkl', '.loom'))\n",
    "    print(f\"Checking if {loom_path} exist...\")\n",
    "    if os.path.exists(loom_path):\n",
    "        print(f\"\\t{loom_path} exists! Skipping...\")\n",
    "    else:\n",
    "        print(f\"\\t{loom_path} does not exist, adding to subdict to generate\")\n",
    "        cto_path_sub_dict[sample] = scrubcto_dict[sample]"
   ]
  },
  {
   "cell_type": "code",
   "execution_count": null,
   "id": "94a4cbb4",
   "metadata": {
    "papermill": {
     "duration": null,
     "end_time": null,
     "exception": null,
     "start_time": null,
     "status": "pending"
    },
    "pycharm": {
     "name": "#%%\n"
    },
    "tags": []
   },
   "outputs": [],
   "source": [
    "for sample in cto_path_sub_dict.keys():\n",
    "    cto_path = cto_path_sub_dict[sample]\n",
    "    with open(cto_path, 'rb') as f:\n",
    "        cto = pickle.load(f)\n",
    "        \n",
    "    print(f\"Loaded filtered cistopic object {sample}\")\n",
    "    loom_path = os.path.join(loom_out, cto_path.split('/')[-1].replace('.pkl', '.loom'))\n",
    "    lp.create(\n",
    "        filename = loom_path,\n",
    "        layers=cto.fragment_matrix,\n",
    "        row_attrs={ 'Gene': cto.region_names }, \n",
    "        col_attrs={ 'CellID': [ x.split('__')[0]  for x in cto.cell_names ] }\n",
    "    )\n",
    "    print(f\"Finished {loom_path} loom writing\")"
   ]
  }
 ],
 "metadata": {
  "kernelspec": {
   "display_name": "20220628_pycistopic.sif",
   "language": "python",
   "name": "cistopic_20220628"
  },
  "language_info": {
   "codemirror_mode": {
    "name": "ipython",
    "version": 3
   },
   "file_extension": ".py",
   "mimetype": "text/x-python",
   "name": "python",
   "nbconvert_exporter": "python",
   "pygments_lexer": "ipython3",
   "version": "3.8.13"
  },
  "papermill": {
   "default_parameters": {},
   "duration": 446.50075,
   "end_time": "2022-09-02T16:31:46.301053",
   "environment_variables": {},
   "exception": true,
   "input_path": "2_create_CTO_consensus_peaks.ipynb",
   "output_path": "2_create_CTO_consensus_peaks.OUT.ipynb",
   "parameters": {},
   "start_time": "2022-09-02T16:24:19.800303",
   "version": "2.3.4"
  }
 },
 "nbformat": 4,
 "nbformat_minor": 5
}

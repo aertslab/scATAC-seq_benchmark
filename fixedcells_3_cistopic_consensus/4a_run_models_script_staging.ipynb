{
 "cells": [
  {
   "cell_type": "markdown",
   "id": "f0661923",
   "metadata": {
    "papermill": {
     "duration": 0.018858,
     "end_time": "2022-08-20T22:37:21.062275",
     "exception": false,
     "start_time": "2022-08-20T22:37:21.043417",
     "status": "completed"
    },
    "tags": []
   },
   "source": [
    "# pycisTopic analysis\n",
    "\n",
    "Full dataset, using SCREEN regions."
   ]
  },
  {
   "cell_type": "code",
   "execution_count": 159,
   "id": "1c9206c8",
   "metadata": {
    "execution": {
     "iopub.execute_input": "2022-09-18T17:05:04.223988Z",
     "iopub.status.busy": "2022-09-18T17:05:04.223248Z",
     "iopub.status.idle": "2022-09-18T17:05:04.233772Z",
     "shell.execute_reply": "2022-09-18T17:05:04.233105Z",
     "shell.execute_reply.started": "2022-09-18T17:05:04.223928Z"
    },
    "papermill": {
     "duration": 0.038814,
     "end_time": "2022-08-20T22:37:21.118471",
     "exception": false,
     "start_time": "2022-08-20T22:37:21.079657",
     "status": "completed"
    },
    "tags": []
   },
   "outputs": [
    {
     "data": {
      "text/plain": [
       "'1.0.2.dev0+g6236cef.d20220816'"
      ]
     },
     "execution_count": 159,
     "metadata": {},
     "output_type": "execute_result"
    }
   ],
   "source": [
    "import pycisTopic\n",
    "pycisTopic.__version__"
   ]
  },
  {
   "cell_type": "code",
   "execution_count": 160,
   "id": "908278e2",
   "metadata": {
    "execution": {
     "iopub.execute_input": "2022-09-18T17:05:04.235246Z",
     "iopub.status.busy": "2022-09-18T17:05:04.235051Z",
     "iopub.status.idle": "2022-09-18T17:05:04.242539Z",
     "shell.execute_reply": "2022-09-18T17:05:04.242062Z",
     "shell.execute_reply.started": "2022-09-18T17:05:04.235228Z"
    },
    "papermill": {
     "duration": 0.016775,
     "end_time": "2022-08-20T22:37:21.146588",
     "exception": false,
     "start_time": "2022-08-20T22:37:21.129813",
     "status": "completed"
    },
    "tags": []
   },
   "outputs": [],
   "source": [
    "import warnings\n",
    "warnings.filterwarnings('ignore')\n",
    "warnings.simplefilter('ignore')"
   ]
  },
  {
   "cell_type": "code",
   "execution_count": 161,
   "id": "a3d4ee3e",
   "metadata": {
    "execution": {
     "iopub.execute_input": "2022-09-18T17:05:04.243525Z",
     "iopub.status.busy": "2022-09-18T17:05:04.243243Z",
     "iopub.status.idle": "2022-09-18T17:05:04.252490Z",
     "shell.execute_reply": "2022-09-18T17:05:04.251967Z",
     "shell.execute_reply.started": "2022-09-18T17:05:04.243507Z"
    },
    "papermill": {
     "duration": 1.451765,
     "end_time": "2022-08-20T22:37:22.608690",
     "exception": false,
     "start_time": "2022-08-20T22:37:21.156925",
     "status": "completed"
    },
    "tags": []
   },
   "outputs": [],
   "source": [
    "import pickle\n",
    "import pandas as pd"
   ]
  },
  {
   "cell_type": "code",
   "execution_count": 162,
   "id": "4c739a9c",
   "metadata": {
    "execution": {
     "iopub.execute_input": "2022-09-18T17:05:04.253404Z",
     "iopub.status.busy": "2022-09-18T17:05:04.253159Z",
     "iopub.status.idle": "2022-09-18T17:05:04.259722Z",
     "shell.execute_reply": "2022-09-18T17:05:04.259202Z",
     "shell.execute_reply.started": "2022-09-18T17:05:04.253386Z"
    },
    "papermill": {
     "duration": 0.019766,
     "end_time": "2022-08-20T22:37:22.644014",
     "exception": false,
     "start_time": "2022-08-20T22:37:22.624248",
     "status": "completed"
    },
    "tags": []
   },
   "outputs": [],
   "source": [
    "import glob\n",
    "from collections import OrderedDict\n",
    "import numpy as np"
   ]
  },
  {
   "cell_type": "code",
   "execution_count": 163,
   "id": "ac9b7a6f",
   "metadata": {
    "execution": {
     "iopub.execute_input": "2022-09-18T17:05:04.261508Z",
     "iopub.status.busy": "2022-09-18T17:05:04.261186Z",
     "iopub.status.idle": "2022-09-18T17:05:04.512566Z",
     "shell.execute_reply": "2022-09-18T17:05:04.510605Z",
     "shell.execute_reply.started": "2022-09-18T17:05:04.261490Z"
    },
    "papermill": {
     "duration": 0.225017,
     "end_time": "2022-08-20T22:37:22.878396",
     "exception": false,
     "start_time": "2022-08-20T22:37:22.653379",
     "status": "completed"
    },
    "tags": []
   },
   "outputs": [
    {
     "name": "stdout",
     "output_type": "stream",
     "text": [
      "/lustre1/project/stg_00090/scatac_benchmark/fixedcells_3_cistopic_consensus\n"
     ]
    }
   ],
   "source": [
    "!pwd"
   ]
  },
  {
   "cell_type": "code",
   "execution_count": 164,
   "id": "d657c990",
   "metadata": {
    "execution": {
     "iopub.execute_input": "2022-09-18T17:05:04.514575Z",
     "iopub.status.busy": "2022-09-18T17:05:04.514349Z",
     "iopub.status.idle": "2022-09-18T17:05:04.518843Z",
     "shell.execute_reply": "2022-09-18T17:05:04.518378Z",
     "shell.execute_reply.started": "2022-09-18T17:05:04.514555Z"
    },
    "papermill": {
     "duration": 0.022023,
     "end_time": "2022-08-20T22:37:22.915276",
     "exception": false,
     "start_time": "2022-08-20T22:37:22.893253",
     "status": "completed"
    },
    "tags": []
   },
   "outputs": [],
   "source": [
    "import os\n",
    "wdir = '/lustre1/project/stg_00090/scatac_benchmark/fixedcells_3_cistopic_consensus'\n",
    "os.chdir( wdir )"
   ]
  },
  {
   "cell_type": "code",
   "execution_count": 165,
   "id": "832ea8b3",
   "metadata": {
    "execution": {
     "iopub.execute_input": "2022-09-18T17:05:04.519994Z",
     "iopub.status.busy": "2022-09-18T17:05:04.519786Z",
     "iopub.status.idle": "2022-09-18T17:05:04.531291Z",
     "shell.execute_reply": "2022-09-18T17:05:04.530879Z",
     "shell.execute_reply.started": "2022-09-18T17:05:04.519975Z"
    },
    "papermill": {
     "duration": 0.021659,
     "end_time": "2022-08-20T22:37:22.947247",
     "exception": false,
     "start_time": "2022-08-20T22:37:22.925588",
     "status": "completed"
    },
    "tags": []
   },
   "outputs": [
    {
     "data": {
      "text/plain": [
       "{'BIO_ddseq_1.FIXEDCELLS': 'cistopic_objects/BIO_ddseq_1.FIXEDCELLS__cto.scrublet0-4.fmx.singlets.pkl',\n",
       " 'BIO_ddseq_2.FIXEDCELLS': 'cistopic_objects/BIO_ddseq_2.FIXEDCELLS__cto.scrublet0-4.fmx.singlets.pkl',\n",
       " 'BIO_ddseq_3.FIXEDCELLS': 'cistopic_objects/BIO_ddseq_3.FIXEDCELLS__cto.scrublet0-4.fmx.singlets.pkl',\n",
       " 'BIO_ddseq_4.FIXEDCELLS': 'cistopic_objects/BIO_ddseq_4.FIXEDCELLS__cto.scrublet0-4.fmx.singlets.pkl',\n",
       " 'BRO_mtscatac_1.FIXEDCELLS': 'cistopic_objects/BRO_mtscatac_1.FIXEDCELLS__cto.scrublet0-4.fmx.singlets.pkl',\n",
       " 'BRO_mtscatac_2.FIXEDCELLS': 'cistopic_objects/BRO_mtscatac_2.FIXEDCELLS__cto.scrublet0-4.fmx.singlets.pkl',\n",
       " 'CNA_10xmultiome_1.FIXEDCELLS': 'cistopic_objects/CNA_10xmultiome_1.FIXEDCELLS__cto.scrublet0-4.fmx.singlets.pkl',\n",
       " 'CNA_10xmultiome_2.FIXEDCELLS': 'cistopic_objects/CNA_10xmultiome_2.FIXEDCELLS__cto.scrublet0-4.fmx.singlets.pkl',\n",
       " 'CNA_10xv11_1.FIXEDCELLS': 'cistopic_objects/CNA_10xv11_1.FIXEDCELLS__cto.scrublet0-4.fmx.singlets.pkl',\n",
       " 'CNA_10xv11_2.FIXEDCELLS': 'cistopic_objects/CNA_10xv11_2.FIXEDCELLS__cto.scrublet0-4.fmx.singlets.pkl',\n",
       " 'CNA_10xv11_3.FIXEDCELLS': 'cistopic_objects/CNA_10xv11_3.FIXEDCELLS__cto.scrublet0-4.fmx.singlets.pkl',\n",
       " 'CNA_10xv11_4.FIXEDCELLS': 'cistopic_objects/CNA_10xv11_4.FIXEDCELLS__cto.scrublet0-4.fmx.singlets.pkl',\n",
       " 'CNA_10xv11_5.FIXEDCELLS': 'cistopic_objects/CNA_10xv11_5.FIXEDCELLS__cto.scrublet0-4.fmx.singlets.pkl',\n",
       " 'CNA_10xv2_1.FIXEDCELLS': 'cistopic_objects/CNA_10xv2_1.FIXEDCELLS__cto.scrublet0-4.fmx.singlets.pkl',\n",
       " 'CNA_10xv2_2.FIXEDCELLS': 'cistopic_objects/CNA_10xv2_2.FIXEDCELLS__cto.scrublet0-4.fmx.singlets.pkl',\n",
       " 'CNA_hydrop_1.FIXEDCELLS': 'cistopic_objects/CNA_hydrop_1.FIXEDCELLS__cto.scrublet0-4.fmx.singlets.pkl',\n",
       " 'CNA_hydrop_2.FIXEDCELLS': 'cistopic_objects/CNA_hydrop_2.FIXEDCELLS__cto.scrublet0-4.fmx.singlets.pkl',\n",
       " 'CNA_hydrop_3.FIXEDCELLS': 'cistopic_objects/CNA_hydrop_3.FIXEDCELLS__cto.scrublet0-4.fmx.singlets.pkl',\n",
       " 'CNA_mtscatac_1.FIXEDCELLS': 'cistopic_objects/CNA_mtscatac_1.FIXEDCELLS__cto.scrublet0-4.fmx.singlets.pkl',\n",
       " 'CNA_mtscatac_2.FIXEDCELLS': 'cistopic_objects/CNA_mtscatac_2.FIXEDCELLS__cto.scrublet0-4.fmx.singlets.pkl',\n",
       " 'EPF_hydrop_1.FIXEDCELLS': 'cistopic_objects/EPF_hydrop_1.FIXEDCELLS__cto.scrublet0-4.fmx.singlets.pkl',\n",
       " 'EPF_hydrop_2.FIXEDCELLS': 'cistopic_objects/EPF_hydrop_2.FIXEDCELLS__cto.scrublet0-4.fmx.singlets.pkl',\n",
       " 'EPF_hydrop_3.FIXEDCELLS': 'cistopic_objects/EPF_hydrop_3.FIXEDCELLS__cto.scrublet0-4.fmx.singlets.pkl',\n",
       " 'EPF_hydrop_4.FIXEDCELLS': 'cistopic_objects/EPF_hydrop_4.FIXEDCELLS__cto.scrublet0-4.fmx.singlets.pkl',\n",
       " 'HAR_ddseq_1.FIXEDCELLS': 'cistopic_objects/HAR_ddseq_1.FIXEDCELLS__cto.scrublet0-4.fmx.singlets.pkl',\n",
       " 'HAR_ddseq_2.FIXEDCELLS': 'cistopic_objects/HAR_ddseq_2.FIXEDCELLS__cto.scrublet0-4.fmx.singlets.pkl',\n",
       " 'MDC_mtscatac_1.FIXEDCELLS': 'cistopic_objects/MDC_mtscatac_1.FIXEDCELLS__cto.scrublet0-4.fmx.singlets.pkl',\n",
       " 'MDC_mtscatac_2.FIXEDCELLS': 'cistopic_objects/MDC_mtscatac_2.FIXEDCELLS__cto.scrublet0-4.fmx.singlets.pkl',\n",
       " 'OHS_s3atac_1.FIXEDCELLS': 'cistopic_objects/OHS_s3atac_1.FIXEDCELLS__cto.scrublet0-4.fmx.singlets.pkl',\n",
       " 'OHS_s3atac_2.FIXEDCELLS': 'cistopic_objects/OHS_s3atac_2.FIXEDCELLS__cto.scrublet0-4.fmx.singlets.pkl',\n",
       " 'SAN_10xmultiome_1.FIXEDCELLS': 'cistopic_objects/SAN_10xmultiome_1.FIXEDCELLS__cto.scrublet0-4.fmx.singlets.pkl',\n",
       " 'SAN_10xmultiome_2.FIXEDCELLS': 'cistopic_objects/SAN_10xmultiome_2.FIXEDCELLS__cto.scrublet0-4.fmx.singlets.pkl',\n",
       " 'STA_10xv11_1.FIXEDCELLS': 'cistopic_objects/STA_10xv11_1.FIXEDCELLS__cto.scrublet0-4.fmx.singlets.pkl',\n",
       " 'STA_10xv11_2.FIXEDCELLS': 'cistopic_objects/STA_10xv11_2.FIXEDCELLS__cto.scrublet0-4.fmx.singlets.pkl',\n",
       " 'TXG_10xv11_1.FIXEDCELLS': 'cistopic_objects/TXG_10xv11_1.FIXEDCELLS__cto.scrublet0-4.fmx.singlets.pkl',\n",
       " 'TXG_10xv2_1.FIXEDCELLS': 'cistopic_objects/TXG_10xv2_1.FIXEDCELLS__cto.scrublet0-4.fmx.singlets.pkl',\n",
       " 'TXG_10xv2_2.FIXEDCELLS': 'cistopic_objects/TXG_10xv2_2.FIXEDCELLS__cto.scrublet0-4.fmx.singlets.pkl',\n",
       " 'UCS_ddseq_1.FIXEDCELLS': 'cistopic_objects/UCS_ddseq_1.FIXEDCELLS__cto.scrublet0-4.fmx.singlets.pkl',\n",
       " 'UCS_ddseq_2.FIXEDCELLS': 'cistopic_objects/UCS_ddseq_2.FIXEDCELLS__cto.scrublet0-4.fmx.singlets.pkl',\n",
       " 'VIB_10xmultiome_1.FIXEDCELLS': 'cistopic_objects/VIB_10xmultiome_1.FIXEDCELLS__cto.scrublet0-4.fmx.singlets.pkl',\n",
       " 'VIB_10xmultiome_2.FIXEDCELLS': 'cistopic_objects/VIB_10xmultiome_2.FIXEDCELLS__cto.scrublet0-4.fmx.singlets.pkl',\n",
       " 'VIB_10xv1_1.FIXEDCELLS': 'cistopic_objects/VIB_10xv1_1.FIXEDCELLS__cto.scrublet0-4.fmx.singlets.pkl',\n",
       " 'VIB_10xv1_2.FIXEDCELLS': 'cistopic_objects/VIB_10xv1_2.FIXEDCELLS__cto.scrublet0-4.fmx.singlets.pkl',\n",
       " 'VIB_10xv2_1.FIXEDCELLS': 'cistopic_objects/VIB_10xv2_1.FIXEDCELLS__cto.scrublet0-4.fmx.singlets.pkl',\n",
       " 'VIB_10xv2_2.FIXEDCELLS': 'cistopic_objects/VIB_10xv2_2.FIXEDCELLS__cto.scrublet0-4.fmx.singlets.pkl',\n",
       " 'VIB_hydrop_1.FIXEDCELLS': 'cistopic_objects/VIB_hydrop_1.FIXEDCELLS__cto.scrublet0-4.fmx.singlets.pkl',\n",
       " 'VIB_hydrop_11.FIXEDCELLS': 'cistopic_objects/VIB_hydrop_11.FIXEDCELLS__cto.scrublet0-4.fmx.singlets.pkl',\n",
       " 'VIB_hydrop_12.FIXEDCELLS': 'cistopic_objects/VIB_hydrop_12.FIXEDCELLS__cto.scrublet0-4.fmx.singlets.pkl',\n",
       " 'VIB_hydrop_2.FIXEDCELLS': 'cistopic_objects/VIB_hydrop_2.FIXEDCELLS__cto.scrublet0-4.fmx.singlets.pkl',\n",
       " 'VIB_hydrop_21.FIXEDCELLS': 'cistopic_objects/VIB_hydrop_21.FIXEDCELLS__cto.scrublet0-4.fmx.singlets.pkl',\n",
       " 'VIB_hydrop_22.FIXEDCELLS': 'cistopic_objects/VIB_hydrop_22.FIXEDCELLS__cto.scrublet0-4.fmx.singlets.pkl'}"
      ]
     },
     "execution_count": 165,
     "metadata": {},
     "output_type": "execute_result"
    }
   ],
   "source": [
    "scrub_name_suffix = \"0-4\"\n",
    "cto_paths = sorted(glob.glob(f'cistopic_objects/*__cto.scrublet{scrub_name_suffix}.fmx.singlets.pkl'))\n",
    "cistopic_obj_path_dict = {x.split('/')[-1].split(f'__cto.scrublet{scrub_name_suffix}.fmx.singlets.pkl')[0]:x for x in cto_paths}\n",
    "cistopic_obj_path_dict"
   ]
  },
  {
   "cell_type": "code",
   "execution_count": 166,
   "id": "52e631e9",
   "metadata": {
    "execution": {
     "iopub.execute_input": "2022-09-18T17:05:04.532343Z",
     "iopub.status.busy": "2022-09-18T17:05:04.532111Z",
     "iopub.status.idle": "2022-09-18T17:05:04.535600Z",
     "shell.execute_reply": "2022-09-18T17:05:04.535128Z",
     "shell.execute_reply.started": "2022-09-18T17:05:04.532325Z"
    },
    "tags": []
   },
   "outputs": [],
   "source": [
    "n_topics_final = 25\n",
    "topics_final = set([str(x+1) for x in list(range(1,n_topics_final))])\n",
    "n_cores = 36\n",
    "n_iter = \"400\""
   ]
  },
  {
   "cell_type": "code",
   "execution_count": 170,
   "id": "eb6ddef5",
   "metadata": {
    "execution": {
     "iopub.execute_input": "2022-09-18T18:14:54.586813Z",
     "iopub.status.busy": "2022-09-18T18:14:54.586094Z",
     "iopub.status.idle": "2022-09-18T18:14:54.658278Z",
     "shell.execute_reply": "2022-09-18T18:14:54.657479Z",
     "shell.execute_reply.started": "2022-09-18T18:14:54.586752Z"
    },
    "papermill": {
     "duration": 0.236882,
     "end_time": "2022-08-20T22:37:23.193992",
     "exception": false,
     "start_time": "2022-08-20T22:37:22.957110",
     "status": "completed"
    },
    "tags": []
   },
   "outputs": [
    {
     "name": "stdout",
     "output_type": "stream",
     "text": [
      "models__screen__mallet/model_intermediates/BIO_ddseq_1.FIXEDCELLS_model_intermediates/ already exists!\n",
      "All topics done.\n",
      "\n",
      "\n",
      "models__screen__mallet/model_intermediates/BIO_ddseq_2.FIXEDCELLS_model_intermediates/ already exists!\n",
      "All topics done.\n",
      "\n",
      "\n",
      "models__screen__mallet/model_intermediates/BIO_ddseq_3.FIXEDCELLS_model_intermediates/ already exists!\n",
      "All topics done.\n",
      "\n",
      "\n",
      "models__screen__mallet/model_intermediates/BIO_ddseq_4.FIXEDCELLS_model_intermediates/ already exists!\n",
      "All topics done.\n",
      "\n",
      "\n",
      "models__screen__mallet/model_intermediates/BRO_mtscatac_1.FIXEDCELLS_model_intermediates/ already exists!\n",
      "All topics done.\n",
      "\n",
      "\n",
      "models__screen__mallet/model_intermediates/BRO_mtscatac_2.FIXEDCELLS_model_intermediates/ already exists!\n",
      "All topics done.\n",
      "\n",
      "\n",
      "models__screen__mallet/model_intermediates/CNA_10xmultiome_1.FIXEDCELLS_model_intermediates/ already exists!\n",
      "All topics done.\n",
      "\n",
      "\n",
      "models__screen__mallet/model_intermediates/CNA_10xmultiome_2.FIXEDCELLS_model_intermediates/ already exists!\n",
      "All topics done.\n",
      "\n",
      "\n",
      "models__screen__mallet/model_intermediates/CNA_10xv11_1.FIXEDCELLS_model_intermediates/ already exists!\n",
      "All topics done.\n",
      "\n",
      "\n",
      "models__screen__mallet/model_intermediates/CNA_10xv11_2.FIXEDCELLS_model_intermediates/ already exists!\n",
      "All topics done.\n",
      "\n",
      "\n",
      "models__screen__mallet/model_intermediates/CNA_10xv11_3.FIXEDCELLS_model_intermediates/ already exists!\n",
      "All topics done.\n",
      "\n",
      "\n",
      "models__screen__mallet/model_intermediates/CNA_10xv11_4.FIXEDCELLS_model_intermediates/ already exists!\n",
      "All topics done.\n",
      "\n",
      "\n",
      "models__screen__mallet/model_intermediates/CNA_10xv11_5.FIXEDCELLS_model_intermediates/ already exists!\n",
      "All topics done.\n",
      "\n",
      "\n",
      "models__screen__mallet/model_intermediates/CNA_10xv2_1.FIXEDCELLS_model_intermediates/ already exists!\n",
      "All topics done.\n",
      "\n",
      "\n",
      "models__screen__mallet/model_intermediates/CNA_10xv2_2.FIXEDCELLS_model_intermediates/ already exists!\n",
      "All topics done.\n",
      "\n",
      "\n",
      "models__screen__mallet/model_intermediates/CNA_hydrop_1.FIXEDCELLS_model_intermediates/ already exists!\n",
      "All topics done.\n",
      "\n",
      "\n",
      "models__screen__mallet/model_intermediates/CNA_hydrop_2.FIXEDCELLS_model_intermediates/ already exists!\n",
      "All topics done.\n",
      "\n",
      "\n",
      "models__screen__mallet/model_intermediates/CNA_hydrop_3.FIXEDCELLS_model_intermediates/ already exists!\n",
      "All topics done.\n",
      "\n",
      "\n",
      "models__screen__mallet/model_intermediates/CNA_mtscatac_1.FIXEDCELLS_model_intermediates/ already exists!\n",
      "All topics done.\n",
      "\n",
      "\n",
      "models__screen__mallet/model_intermediates/CNA_mtscatac_2.FIXEDCELLS_model_intermediates/ already exists!\n",
      "All topics done.\n",
      "\n",
      "\n",
      "models__screen__mallet/model_intermediates/EPF_hydrop_1.FIXEDCELLS_model_intermediates/ already exists!\n",
      "All topics done.\n",
      "\n",
      "\n",
      "models__screen__mallet/model_intermediates/EPF_hydrop_2.FIXEDCELLS_model_intermediates/ already exists!\n",
      "All topics done.\n",
      "\n",
      "\n",
      "models__screen__mallet/model_intermediates/EPF_hydrop_3.FIXEDCELLS_model_intermediates/ already exists!\n",
      "All topics done.\n",
      "\n",
      "\n",
      "models__screen__mallet/model_intermediates/EPF_hydrop_4.FIXEDCELLS_model_intermediates/ already exists!\n",
      "All topics done.\n",
      "\n",
      "\n",
      "models__screen__mallet/model_intermediates/HAR_ddseq_1.FIXEDCELLS_model_intermediates/ already exists!\n",
      "All topics done.\n",
      "\n",
      "\n",
      "models__screen__mallet/model_intermediates/HAR_ddseq_2.FIXEDCELLS_model_intermediates/ already exists!\n",
      "All topics done.\n",
      "\n",
      "\n",
      "models__screen__mallet/model_intermediates/MDC_mtscatac_1.FIXEDCELLS_model_intermediates/ already exists!\n",
      "All topics done.\n",
      "\n",
      "\n",
      "models__screen__mallet/model_intermediates/MDC_mtscatac_2.FIXEDCELLS_model_intermediates/ already exists!\n",
      "All topics done.\n",
      "\n",
      "\n",
      "models__screen__mallet/model_intermediates/OHS_s3atac_1.FIXEDCELLS_model_intermediates/ already exists!\n",
      "All topics done.\n",
      "\n",
      "\n",
      "models__screen__mallet/model_intermediates/OHS_s3atac_2.FIXEDCELLS_model_intermediates/ already exists!\n",
      "All topics done.\n",
      "\n",
      "\n",
      "models__screen__mallet/model_intermediates/SAN_10xmultiome_1.FIXEDCELLS_model_intermediates/ already exists!\n",
      "All topics done.\n",
      "\n",
      "\n",
      "models__screen__mallet/model_intermediates/SAN_10xmultiome_2.FIXEDCELLS_model_intermediates/ already exists!\n",
      "All topics done.\n",
      "\n",
      "\n",
      "models__screen__mallet/model_intermediates/STA_10xv11_1.FIXEDCELLS_model_intermediates/ already exists!\n",
      "All topics done.\n",
      "\n",
      "\n",
      "models__screen__mallet/model_intermediates/STA_10xv11_2.FIXEDCELLS_model_intermediates/ already exists!\n",
      "All topics done.\n",
      "\n",
      "\n",
      "models__screen__mallet/model_intermediates/TXG_10xv11_1.FIXEDCELLS_model_intermediates/ already exists!\n",
      "All topics done.\n",
      "\n",
      "\n",
      "models__screen__mallet/model_intermediates/TXG_10xv2_1.FIXEDCELLS_model_intermediates/ already exists!\n",
      "All topics done.\n",
      "\n",
      "\n",
      "models__screen__mallet/model_intermediates/TXG_10xv2_2.FIXEDCELLS_model_intermediates/ already exists!\n",
      "All topics done.\n",
      "\n",
      "\n",
      "models__screen__mallet/model_intermediates/UCS_ddseq_1.FIXEDCELLS_model_intermediates/ already exists!\n",
      "All topics done.\n",
      "\n",
      "\n",
      "models__screen__mallet/model_intermediates/UCS_ddseq_2.FIXEDCELLS_model_intermediates/ already exists!\n",
      "All topics done.\n",
      "\n",
      "\n",
      "models__screen__mallet/model_intermediates/VIB_10xmultiome_1.FIXEDCELLS_model_intermediates/ already exists!\n",
      "All topics done.\n",
      "\n",
      "\n",
      "models__screen__mallet/model_intermediates/VIB_10xmultiome_2.FIXEDCELLS_model_intermediates/ already exists!\n",
      "All topics done.\n",
      "\n",
      "\n",
      "models__screen__mallet/model_intermediates/VIB_10xv1_1.FIXEDCELLS_model_intermediates/ already exists!\n",
      "All topics done.\n",
      "\n",
      "\n",
      "models__screen__mallet/model_intermediates/VIB_10xv1_2.FIXEDCELLS_model_intermediates/ already exists!\n",
      "All topics done.\n",
      "\n",
      "\n",
      "models__screen__mallet/model_intermediates/VIB_10xv2_1.FIXEDCELLS_model_intermediates/ already exists!\n",
      "All topics done.\n",
      "\n",
      "\n",
      "models__screen__mallet/model_intermediates/VIB_10xv2_2.FIXEDCELLS_model_intermediates/ already exists!\n",
      "All topics done.\n",
      "\n",
      "\n",
      "models__screen__mallet/model_intermediates/VIB_hydrop_1.FIXEDCELLS_model_intermediates/ already exists!\n",
      "All topics done.\n",
      "\n",
      "\n",
      "models__screen__mallet/model_intermediates/VIB_hydrop_11.FIXEDCELLS_model_intermediates/ already exists!\n",
      "All topics done.\n",
      "\n",
      "\n",
      "models__screen__mallet/model_intermediates/VIB_hydrop_12.FIXEDCELLS_model_intermediates/ already exists!\n",
      "All topics done.\n",
      "\n",
      "\n",
      "models__screen__mallet/model_intermediates/VIB_hydrop_2.FIXEDCELLS_model_intermediates/ already exists!\n",
      "All topics done.\n",
      "\n",
      "\n",
      "models__screen__mallet/model_intermediates/VIB_hydrop_21.FIXEDCELLS_model_intermediates/ already exists!\n",
      "All topics done.\n",
      "\n",
      "\n",
      "models__screen__mallet/model_intermediates/VIB_hydrop_22.FIXEDCELLS_model_intermediates/ already exists!\n",
      "All topics done.\n",
      "\n",
      "\n"
     ]
    }
   ],
   "source": [
    "mounts = \"/lustre1,/staging,/data,/vsc-hard-mounts,/scratch\"\n",
    "sif = \"../0_resources/cistopic_image/20220815_pycistopic.sif\"\n",
    "script = \"../0_resources/scripts/runModels_lda_mallet.py\"\n",
    "\n",
    "f_mod_dir = 'models__screen__mallet'\n",
    "if not os.path.exists(os.path.join(wdir, f_mod_dir)):\n",
    "    os.makedirs(os.path.join(wdir, f_mod_dir))\n",
    "\n",
    "for sample in cistopic_obj_path_dict.keys():\n",
    "    infile = cistopic_obj_path_dict[sample]\n",
    "    outfile = os.path.join(f_mod_dir, sample + '__models_' + str(n_iter) + '_iter.pkl')\n",
    "    \n",
    "    intermediate_dir = f\"{f_mod_dir}/model_intermediates/{sample}_model_intermediates/\"\n",
    "\n",
    "    if not os.path.exists(os.path.join(wdir, intermediate_dir)):\n",
    "        os.makedirs(os.path.join(wdir, intermediate_dir))\n",
    "    else:\n",
    "        print(f'{intermediate_dir} already exists!')\n",
    "\n",
    "    n_topics_detected = len(os.listdir(os.path.join(wdir, intermediate_dir)))\n",
    "    if not n_topics_detected == n_topics_final:\n",
    "        model_tmp_dir = f\"{f_mod_dir}/model_tmp/{sample}_model_tmp/\"\n",
    "        if not os.path.exists(os.path.join(wdir, model_tmp_dir)):\n",
    "            os.makedirs(os.path.join(wdir, model_tmp_dir))\n",
    "\n",
    "        topics_detected = set([x.replace('Topic','').replace('.pkl','') for x in os.listdir(os.path.join(wdir, intermediate_dir))])\n",
    "        topics_todo = str(sorted(list(topics_final - topics_detected))).replace(\"'\",\"\").replace(' ','').replace('[','').replace(']','')\n",
    "        ver=str(n_topics_final)\n",
    "\n",
    "        if not topics_todo == '':\n",
    "            out_log = f\"{f_mod_dir}/{sample}.models_out_log{ver}.txt\"\n",
    "            cmd = f\"echo {sample} && cd {wdir} && singularity exec -B {mounts} {sif} python {script} -i {infile} -o {outfile} -nt {topics_todo} -c {n_cores} -it {n_iter} -a 50 -abt True -e 0.1 -ebt False -sp {intermediate_dir} -s 555 -td {model_tmp_dir} > {out_log}\"\n",
    "\n",
    "            print(cmd)\n",
    "            sh_path = f\"{f_mod_dir}/{sample}.runmodels{ver}.sh\"\n",
    "            with open(sh_path, 'w') as file:\n",
    "                file.write(cmd)\n",
    "        else:\n",
    "            print('All topics done.')\n",
    "\n",
    "    \n",
    "    print('\\n')"
   ]
  },
  {
   "cell_type": "code",
   "execution_count": 171,
   "id": "c20c555d",
   "metadata": {
    "execution": {
     "iopub.execute_input": "2022-09-18T18:14:55.042512Z",
     "iopub.status.busy": "2022-09-18T18:14:55.041703Z",
     "iopub.status.idle": "2022-09-18T18:14:55.313196Z",
     "shell.execute_reply": "2022-09-18T18:14:55.311088Z",
     "shell.execute_reply.started": "2022-09-18T18:14:55.042451Z"
    },
    "papermill": {
     "duration": 0.196704,
     "end_time": "2022-08-20T22:37:23.404682",
     "exception": false,
     "start_time": "2022-08-20T22:37:23.207978",
     "status": "completed"
    },
    "tags": []
   },
   "outputs": [
    {
     "name": "stdout",
     "output_type": "stream",
     "text": [
      "import pickle\n",
      "import sys\n",
      "import argparse\n",
      "import os\n",
      "from pycisTopic.cistopic_class import *\n",
      "from pycisTopic.lda_models import *\n",
      "\n",
      "def make_argument_parser():\n",
      "    \"\"\"\n",
      "    Creates an ArgumentParser to read the options for this script from\n",
      "    sys.argv\n",
      "    \"\"\"\n",
      "    parser = argparse.ArgumentParser(\n",
      "        description=\"Run topic models.\",)\n",
      "    parser.add_argument('--inputcisTopic_obj', '-i', type=str, required=True,\n",
      "                        help='Path to cisTopic object pickle file.')\n",
      "    parser.add_argument('--output', '-o', type=str, required=True,\n",
      "                        help='Path to save final model list.')\n",
      "    parser.add_argument('--n_topics', '-nt', type=str, required=True, nargs='+',\n",
      "                        help='Txt file containing selected topic id.')\n",
      "    parser.add_argument('--n_cpu', '-c', type=int, required=True,\n",
      "                        help = 'Number of cores')\n",
      "    parser.add_argument('--n_iter', '-it', type=int, required=False, default=150,\n",
      "                        help = 'Number of iterations')\n",
      "    parser.add_argument('--alpha', '-a', type=int, required=False,  default=50,\n",
      "                        help='Alpha value')\n",
      "    parser.add_argument('--alpha_by_topic', '-abt', type=str, required=False, default=True,\n",
      "                        help = 'Whether the alpha value should by divided by the number of topics')\n",
      "    parser.add_argument('--eta', '-e', type=float, required=False, default=0.1,\n",
      "                        help='Eta value.')\n",
      "    parser.add_argument('--eta_by_topic', '-ebt', type=str, required=False, default=False,\n",
      "                        help = 'Whether the eta value should by divided by the number of topics')\n",
      "    parser.add_argument('--save_path', '-sp', type=str, required=False,\n",
      "                        default=None, help='Whether intermediate models should be saved')\n",
      "    parser.add_argument('--seed', '-s', type=int, required=False,\n",
      "                        default=555, help='Seed for ensuring reproducibility')\n",
      "    parser.add_argument('--temp_dir', '-td', type=str, required=False,\n",
      "                        default=None, help='Path to TMP directory')\n",
      "    return parser\n",
      "\n",
      "\n",
      "def main():\n",
      "    \"\"\"\n",
      "    The main executable function\n",
      "    \"\"\"\n",
      "\n",
      "    parser = make_argument_parser()\n",
      "    args = parser.parse_args()\n",
      "    filename = args.inputcisTopic_obj\n",
      "    infile = open(filename, 'rb')\n",
      "    cisTopic_obj = pickle.load(infile)\n",
      "    infile.close()\n",
      "    print('Input cisTopic_object:', filename)\n",
      "\n",
      "    output = args.output\n",
      "    print('Output file:', output)\n",
      "\n",
      "    n_topics = args.n_topics\n",
      "    n_topics = list(map(int, n_topics[0].split(',')))\n",
      "    print('Number of topics:', n_topics)\n",
      "\n",
      "    alpha=args.alpha\n",
      "    print('Alpha:', alpha)\n",
      "\n",
      "    alpha_by_topic=args.alpha_by_topic\n",
      "    print('Divide alpha by the number of topics:', alpha_by_topic)\n",
      "\n",
      "    eta=args.eta\n",
      "    print('Eta:', eta)\n",
      "\n",
      "    eta_by_topic=args.eta_by_topic\n",
      "    print('Divide eta by the number of topics:', eta_by_topic)\n",
      "\n",
      "    n_iter=args.n_iter\n",
      "    print('Number of iterations:', n_iter)\n",
      "\n",
      "    n_cpu=args.n_cpu\n",
      "    print('Number of cores:', n_cpu)\n",
      "\n",
      "    save_path=args.save_path\n",
      "    print('Path to save intermediate files:', save_path)\n",
      "    if save_path == 'None':\n",
      "        save_path = None\n",
      "\n",
      "    random_state=args.seed\n",
      "    print('Seed:', random_state)\n",
      "\n",
      "    temp_dir=args.temp_dir\n",
      "    print('Path to TMP dir:', temp_dir)\n",
      "\n",
      "    # Run models\n",
      "    print('Running models')\n",
      "    print('--------------')\n",
      "\n",
      "    os.environ['MALLET_MEMORY'] = '200G'\n",
      "\n",
      "    models=run_cgs_models_mallet(\"mallet\", cisTopic_obj,\n",
      "                                 n_topics=n_topics,\n",
      "                                 n_cpu=n_cpu,\n",
      "                                 n_iter=n_iter,\n",
      "                                 random_state=random_state,\n",
      "                                 alpha=alpha,\n",
      "                                 alpha_by_topic=alpha_by_topic,\n",
      "                                 eta=eta,\n",
      "                                 eta_by_topic=eta_by_topic,\n",
      "                                 save_path=save_path,\n",
      "                                 top_topics_coh=5,\n",
      "                                 tmp_path=temp_dir)\n",
      "\n",
      "    # Save\n",
      "    with open(output, 'wb') as f:\n",
      "        pickle.dump(models, f)\n",
      "\n",
      "if __name__ == \"__main__\":\n",
      "    main()\n"
     ]
    }
   ],
   "source": [
    "!cat ../0_resources/scripts/runModels_lda_mallet.py"
   ]
  },
  {
   "cell_type": "markdown",
   "id": "b52e7622",
   "metadata": {
    "execution": {
     "iopub.execute_input": "2022-08-23T14:36:15.572885Z",
     "iopub.status.busy": "2022-08-23T14:36:15.572508Z",
     "iopub.status.idle": "2022-08-23T14:36:15.577548Z",
     "shell.execute_reply": "2022-08-23T14:36:15.576746Z",
     "shell.execute_reply.started": "2022-08-23T14:36:15.572858Z"
    },
    "papermill": {
     "duration": 0.011339,
     "end_time": "2022-08-20T22:37:23.432790",
     "exception": false,
     "start_time": "2022-08-20T22:37:23.421451",
     "status": "completed"
    },
    "tags": []
   },
   "source": [
    "In shell:"
   ]
  },
  {
   "cell_type": "code",
   "execution_count": 172,
   "id": "5948e235",
   "metadata": {
    "execution": {
     "iopub.execute_input": "2022-09-18T18:14:55.419661Z",
     "iopub.status.busy": "2022-09-18T18:14:55.419358Z",
     "iopub.status.idle": "2022-09-18T18:14:55.427409Z",
     "shell.execute_reply": "2022-09-18T18:14:55.426066Z",
     "shell.execute_reply.started": "2022-09-18T18:14:55.419634Z"
    },
    "papermill": {
     "duration": 0.011323,
     "end_time": "2022-08-20T22:37:23.455675",
     "exception": false,
     "start_time": "2022-08-20T22:37:23.444352",
     "status": "completed"
    },
    "tags": []
   },
   "outputs": [
    {
     "ename": "SyntaxError",
     "evalue": "invalid syntax (1446407723.py, line 1)",
     "output_type": "error",
     "traceback": [
      "\u001b[0;36m  Input \u001b[0;32mIn [172]\u001b[0;36m\u001b[0m\n\u001b[0;31m    for script in models__screen__mallet/25.sh\u001b[0m\n\u001b[0m                                            ^\u001b[0m\n\u001b[0;31mSyntaxError\u001b[0m\u001b[0;31m:\u001b[0m invalid syntax\n"
     ]
    }
   ],
   "source": [
    "for script in models__screen__mallet/25.sh\n",
    "do\n",
    "    echo $script\n",
    "    qsub $script -A lp_symbiosys -l nodes=1:ppn=36 -l walltime=24:00:00 -l pmem=2gb\n",
    "done"
   ]
  },
  {
   "cell_type": "markdown",
   "id": "4ff750c4",
   "metadata": {
    "papermill": {
     "duration": 0.011283,
     "end_time": "2022-08-20T22:37:23.478226",
     "exception": false,
     "start_time": "2022-08-20T22:37:23.466943",
     "status": "completed"
    },
    "tags": []
   },
   "source": [
    "Then, combine the models:"
   ]
  },
  {
   "cell_type": "code",
   "execution_count": 173,
   "id": "5e30dbfb",
   "metadata": {
    "execution": {
     "iopub.execute_input": "2022-09-18T18:14:55.804768Z",
     "iopub.status.busy": "2022-09-18T18:14:55.804104Z",
     "iopub.status.idle": "2022-09-18T18:14:55.816474Z",
     "shell.execute_reply": "2022-09-18T18:14:55.815793Z",
     "shell.execute_reply.started": "2022-09-18T18:14:55.804710Z"
    },
    "papermill": {
     "duration": 0.012049,
     "end_time": "2022-08-20T22:37:23.501705",
     "exception": false,
     "start_time": "2022-08-20T22:37:23.489656",
     "status": "completed"
    },
    "tags": []
   },
   "outputs": [
    {
     "data": {
      "text/plain": [
       "{'BIO_ddseq_1.FIXEDCELLS': 'models__screen__mallet/model_intermediates/BIO_ddseq_1.FIXEDCELLS_model_intermediates',\n",
       " 'BIO_ddseq_2.FIXEDCELLS': 'models__screen__mallet/model_intermediates/BIO_ddseq_2.FIXEDCELLS_model_intermediates',\n",
       " 'BIO_ddseq_3.FIXEDCELLS': 'models__screen__mallet/model_intermediates/BIO_ddseq_3.FIXEDCELLS_model_intermediates',\n",
       " 'BIO_ddseq_4.FIXEDCELLS': 'models__screen__mallet/model_intermediates/BIO_ddseq_4.FIXEDCELLS_model_intermediates',\n",
       " 'BRO_mtscatac_1.FIXEDCELLS': 'models__screen__mallet/model_intermediates/BRO_mtscatac_1.FIXEDCELLS_model_intermediates',\n",
       " 'BRO_mtscatac_2.FIXEDCELLS': 'models__screen__mallet/model_intermediates/BRO_mtscatac_2.FIXEDCELLS_model_intermediates',\n",
       " 'CNA_10xmultiome_1.FIXEDCELLS': 'models__screen__mallet/model_intermediates/CNA_10xmultiome_1.FIXEDCELLS_model_intermediates',\n",
       " 'CNA_10xmultiome_2.FIXEDCELLS': 'models__screen__mallet/model_intermediates/CNA_10xmultiome_2.FIXEDCELLS_model_intermediates',\n",
       " 'CNA_10xv11_1.FIXEDCELLS': 'models__screen__mallet/model_intermediates/CNA_10xv11_1.FIXEDCELLS_model_intermediates',\n",
       " 'CNA_10xv11_2.FIXEDCELLS': 'models__screen__mallet/model_intermediates/CNA_10xv11_2.FIXEDCELLS_model_intermediates',\n",
       " 'CNA_10xv11_3.FIXEDCELLS': 'models__screen__mallet/model_intermediates/CNA_10xv11_3.FIXEDCELLS_model_intermediates',\n",
       " 'CNA_10xv11_4.FIXEDCELLS': 'models__screen__mallet/model_intermediates/CNA_10xv11_4.FIXEDCELLS_model_intermediates',\n",
       " 'CNA_10xv11_5.FIXEDCELLS': 'models__screen__mallet/model_intermediates/CNA_10xv11_5.FIXEDCELLS_model_intermediates',\n",
       " 'CNA_10xv2_1.FIXEDCELLS': 'models__screen__mallet/model_intermediates/CNA_10xv2_1.FIXEDCELLS_model_intermediates',\n",
       " 'CNA_10xv2_2.FIXEDCELLS': 'models__screen__mallet/model_intermediates/CNA_10xv2_2.FIXEDCELLS_model_intermediates',\n",
       " 'CNA_hydrop_1.FIXEDCELLS': 'models__screen__mallet/model_intermediates/CNA_hydrop_1.FIXEDCELLS_model_intermediates',\n",
       " 'CNA_hydrop_2.FIXEDCELLS': 'models__screen__mallet/model_intermediates/CNA_hydrop_2.FIXEDCELLS_model_intermediates',\n",
       " 'CNA_hydrop_3.FIXEDCELLS': 'models__screen__mallet/model_intermediates/CNA_hydrop_3.FIXEDCELLS_model_intermediates',\n",
       " 'CNA_mtscatac_1.FIXEDCELLS': 'models__screen__mallet/model_intermediates/CNA_mtscatac_1.FIXEDCELLS_model_intermediates',\n",
       " 'CNA_mtscatac_2.FIXEDCELLS': 'models__screen__mallet/model_intermediates/CNA_mtscatac_2.FIXEDCELLS_model_intermediates',\n",
       " 'EPF_hydrop_1.FIXEDCELLS': 'models__screen__mallet/model_intermediates/EPF_hydrop_1.FIXEDCELLS_model_intermediates',\n",
       " 'EPF_hydrop_2.FIXEDCELLS': 'models__screen__mallet/model_intermediates/EPF_hydrop_2.FIXEDCELLS_model_intermediates',\n",
       " 'EPF_hydrop_3.FIXEDCELLS': 'models__screen__mallet/model_intermediates/EPF_hydrop_3.FIXEDCELLS_model_intermediates',\n",
       " 'EPF_hydrop_4.FIXEDCELLS': 'models__screen__mallet/model_intermediates/EPF_hydrop_4.FIXEDCELLS_model_intermediates',\n",
       " 'HAR_ddseq_1.FIXEDCELLS': 'models__screen__mallet/model_intermediates/HAR_ddseq_1.FIXEDCELLS_model_intermediates',\n",
       " 'HAR_ddseq_2.FIXEDCELLS': 'models__screen__mallet/model_intermediates/HAR_ddseq_2.FIXEDCELLS_model_intermediates',\n",
       " 'MDC_mtscatac_1.FIXEDCELLS': 'models__screen__mallet/model_intermediates/MDC_mtscatac_1.FIXEDCELLS_model_intermediates',\n",
       " 'MDC_mtscatac_2.FIXEDCELLS': 'models__screen__mallet/model_intermediates/MDC_mtscatac_2.FIXEDCELLS_model_intermediates',\n",
       " 'OHS_s3atac_1.FIXEDCELLS': 'models__screen__mallet/model_intermediates/OHS_s3atac_1.FIXEDCELLS_model_intermediates',\n",
       " 'OHS_s3atac_2.FIXEDCELLS': 'models__screen__mallet/model_intermediates/OHS_s3atac_2.FIXEDCELLS_model_intermediates',\n",
       " 'SAN_10xmultiome_1.FIXEDCELLS': 'models__screen__mallet/model_intermediates/SAN_10xmultiome_1.FIXEDCELLS_model_intermediates',\n",
       " 'SAN_10xmultiome_2.FIXEDCELLS': 'models__screen__mallet/model_intermediates/SAN_10xmultiome_2.FIXEDCELLS_model_intermediates',\n",
       " 'STA_10xv11_1.FIXEDCELLS': 'models__screen__mallet/model_intermediates/STA_10xv11_1.FIXEDCELLS_model_intermediates',\n",
       " 'STA_10xv11_2.FIXEDCELLS': 'models__screen__mallet/model_intermediates/STA_10xv11_2.FIXEDCELLS_model_intermediates',\n",
       " 'TXG_10xv11_1.FIXEDCELLS': 'models__screen__mallet/model_intermediates/TXG_10xv11_1.FIXEDCELLS_model_intermediates',\n",
       " 'TXG_10xv2_1.FIXEDCELLS': 'models__screen__mallet/model_intermediates/TXG_10xv2_1.FIXEDCELLS_model_intermediates',\n",
       " 'TXG_10xv2_2.FIXEDCELLS': 'models__screen__mallet/model_intermediates/TXG_10xv2_2.FIXEDCELLS_model_intermediates',\n",
       " 'UCS_ddseq_1.FIXEDCELLS': 'models__screen__mallet/model_intermediates/UCS_ddseq_1.FIXEDCELLS_model_intermediates',\n",
       " 'UCS_ddseq_2.FIXEDCELLS': 'models__screen__mallet/model_intermediates/UCS_ddseq_2.FIXEDCELLS_model_intermediates',\n",
       " 'VIB_10xmultiome_1.FIXEDCELLS': 'models__screen__mallet/model_intermediates/VIB_10xmultiome_1.FIXEDCELLS_model_intermediates',\n",
       " 'VIB_10xmultiome_2.FIXEDCELLS': 'models__screen__mallet/model_intermediates/VIB_10xmultiome_2.FIXEDCELLS_model_intermediates',\n",
       " 'VIB_10xv1_1.FIXEDCELLS': 'models__screen__mallet/model_intermediates/VIB_10xv1_1.FIXEDCELLS_model_intermediates',\n",
       " 'VIB_10xv1_2.FIXEDCELLS': 'models__screen__mallet/model_intermediates/VIB_10xv1_2.FIXEDCELLS_model_intermediates',\n",
       " 'VIB_10xv2_1.FIXEDCELLS': 'models__screen__mallet/model_intermediates/VIB_10xv2_1.FIXEDCELLS_model_intermediates',\n",
       " 'VIB_10xv2_2.FIXEDCELLS': 'models__screen__mallet/model_intermediates/VIB_10xv2_2.FIXEDCELLS_model_intermediates',\n",
       " 'VIB_hydrop_1.FIXEDCELLS': 'models__screen__mallet/model_intermediates/VIB_hydrop_1.FIXEDCELLS_model_intermediates',\n",
       " 'VIB_hydrop_11.FIXEDCELLS': 'models__screen__mallet/model_intermediates/VIB_hydrop_11.FIXEDCELLS_model_intermediates',\n",
       " 'VIB_hydrop_12.FIXEDCELLS': 'models__screen__mallet/model_intermediates/VIB_hydrop_12.FIXEDCELLS_model_intermediates',\n",
       " 'VIB_hydrop_2.FIXEDCELLS': 'models__screen__mallet/model_intermediates/VIB_hydrop_2.FIXEDCELLS_model_intermediates',\n",
       " 'VIB_hydrop_21.FIXEDCELLS': 'models__screen__mallet/model_intermediates/VIB_hydrop_21.FIXEDCELLS_model_intermediates',\n",
       " 'VIB_hydrop_22.FIXEDCELLS': 'models__screen__mallet/model_intermediates/VIB_hydrop_22.FIXEDCELLS_model_intermediates'}"
      ]
     },
     "execution_count": 173,
     "metadata": {},
     "output_type": "execute_result"
    }
   ],
   "source": [
    "intermediate_dict = {x.split('/')[-1].split('_model_intermediates')[0]: x for x in sorted(glob.glob(f'{f_mod_dir}/model_intermediates/*'))}\n",
    "intermediate_dict"
   ]
  },
  {
   "cell_type": "code",
   "execution_count": 174,
   "id": "16003a35",
   "metadata": {
    "execution": {
     "iopub.execute_input": "2022-09-18T18:14:55.986495Z",
     "iopub.status.busy": "2022-09-18T18:14:55.985715Z",
     "iopub.status.idle": "2022-09-18T18:14:56.029788Z",
     "shell.execute_reply": "2022-09-18T18:14:56.029246Z",
     "shell.execute_reply.started": "2022-09-18T18:14:55.986438Z"
    },
    "papermill": {
     "duration": 0.011475,
     "end_time": "2022-08-20T22:37:23.524281",
     "exception": false,
     "start_time": "2022-08-20T22:37:23.512806",
     "status": "completed"
    },
    "tags": []
   },
   "outputs": [
    {
     "name": "stdout",
     "output_type": "stream",
     "text": [
      "24 models in models__screen__mallet/model_intermediates/BIO_ddseq_1.FIXEDCELLS_model_intermediates\n",
      "\tmodels__screen__mallet/BIO_ddseq_1.FIXEDCELLS__models_400_iter.pkl exists, skipping\n",
      "24 models in models__screen__mallet/model_intermediates/BIO_ddseq_2.FIXEDCELLS_model_intermediates\n",
      "\tmodels__screen__mallet/BIO_ddseq_2.FIXEDCELLS__models_400_iter.pkl exists, skipping\n",
      "24 models in models__screen__mallet/model_intermediates/BIO_ddseq_3.FIXEDCELLS_model_intermediates\n",
      "\tmodels__screen__mallet/BIO_ddseq_3.FIXEDCELLS__models_400_iter.pkl exists, skipping\n",
      "24 models in models__screen__mallet/model_intermediates/BIO_ddseq_4.FIXEDCELLS_model_intermediates\n",
      "\tmodels__screen__mallet/BIO_ddseq_4.FIXEDCELLS__models_400_iter.pkl exists, skipping\n",
      "24 models in models__screen__mallet/model_intermediates/BRO_mtscatac_1.FIXEDCELLS_model_intermediates\n",
      "\tmodels__screen__mallet/BRO_mtscatac_1.FIXEDCELLS__models_400_iter.pkl exists, skipping\n",
      "24 models in models__screen__mallet/model_intermediates/BRO_mtscatac_2.FIXEDCELLS_model_intermediates\n",
      "\tmodels__screen__mallet/BRO_mtscatac_2.FIXEDCELLS__models_400_iter.pkl exists, skipping\n",
      "24 models in models__screen__mallet/model_intermediates/CNA_10xmultiome_1.FIXEDCELLS_model_intermediates\n",
      "\tmodels__screen__mallet/CNA_10xmultiome_1.FIXEDCELLS__models_400_iter.pkl exists, skipping\n",
      "24 models in models__screen__mallet/model_intermediates/CNA_10xmultiome_2.FIXEDCELLS_model_intermediates\n",
      "\tmodels__screen__mallet/CNA_10xmultiome_2.FIXEDCELLS__models_400_iter.pkl exists, skipping\n",
      "24 models in models__screen__mallet/model_intermediates/CNA_10xv11_1.FIXEDCELLS_model_intermediates\n",
      "\tmodels__screen__mallet/CNA_10xv11_1.FIXEDCELLS__models_400_iter.pkl exists, skipping\n",
      "24 models in models__screen__mallet/model_intermediates/CNA_10xv11_2.FIXEDCELLS_model_intermediates\n",
      "\tmodels__screen__mallet/CNA_10xv11_2.FIXEDCELLS__models_400_iter.pkl exists, skipping\n",
      "24 models in models__screen__mallet/model_intermediates/CNA_10xv11_3.FIXEDCELLS_model_intermediates\n",
      "\tmodels__screen__mallet/CNA_10xv11_3.FIXEDCELLS__models_400_iter.pkl exists, skipping\n",
      "24 models in models__screen__mallet/model_intermediates/CNA_10xv11_4.FIXEDCELLS_model_intermediates\n",
      "\tmodels__screen__mallet/CNA_10xv11_4.FIXEDCELLS__models_400_iter.pkl exists, skipping\n",
      "24 models in models__screen__mallet/model_intermediates/CNA_10xv11_5.FIXEDCELLS_model_intermediates\n",
      "\tmodels__screen__mallet/CNA_10xv11_5.FIXEDCELLS__models_400_iter.pkl exists, skipping\n",
      "24 models in models__screen__mallet/model_intermediates/CNA_10xv2_1.FIXEDCELLS_model_intermediates\n",
      "\tmodels__screen__mallet/CNA_10xv2_1.FIXEDCELLS__models_400_iter.pkl exists, skipping\n",
      "24 models in models__screen__mallet/model_intermediates/CNA_10xv2_2.FIXEDCELLS_model_intermediates\n",
      "\tmodels__screen__mallet/CNA_10xv2_2.FIXEDCELLS__models_400_iter.pkl exists, skipping\n",
      "24 models in models__screen__mallet/model_intermediates/CNA_hydrop_1.FIXEDCELLS_model_intermediates\n",
      "\tmodels__screen__mallet/CNA_hydrop_1.FIXEDCELLS__models_400_iter.pkl exists, skipping\n",
      "24 models in models__screen__mallet/model_intermediates/CNA_hydrop_2.FIXEDCELLS_model_intermediates\n",
      "\tmodels__screen__mallet/CNA_hydrop_2.FIXEDCELLS__models_400_iter.pkl exists, skipping\n",
      "24 models in models__screen__mallet/model_intermediates/CNA_hydrop_3.FIXEDCELLS_model_intermediates\n",
      "\tmodels__screen__mallet/CNA_hydrop_3.FIXEDCELLS__models_400_iter.pkl exists, skipping\n",
      "24 models in models__screen__mallet/model_intermediates/CNA_mtscatac_1.FIXEDCELLS_model_intermediates\n",
      "\tmodels__screen__mallet/CNA_mtscatac_1.FIXEDCELLS__models_400_iter.pkl exists, skipping\n",
      "24 models in models__screen__mallet/model_intermediates/CNA_mtscatac_2.FIXEDCELLS_model_intermediates\n",
      "\tmodels__screen__mallet/CNA_mtscatac_2.FIXEDCELLS__models_400_iter.pkl exists, skipping\n",
      "24 models in models__screen__mallet/model_intermediates/EPF_hydrop_1.FIXEDCELLS_model_intermediates\n",
      "\tmodels__screen__mallet/EPF_hydrop_1.FIXEDCELLS__models_400_iter.pkl exists, skipping\n",
      "24 models in models__screen__mallet/model_intermediates/EPF_hydrop_2.FIXEDCELLS_model_intermediates\n",
      "\tmodels__screen__mallet/EPF_hydrop_2.FIXEDCELLS__models_400_iter.pkl exists, skipping\n",
      "24 models in models__screen__mallet/model_intermediates/EPF_hydrop_3.FIXEDCELLS_model_intermediates\n",
      "\tmodels__screen__mallet/EPF_hydrop_3.FIXEDCELLS__models_400_iter.pkl exists, skipping\n",
      "24 models in models__screen__mallet/model_intermediates/EPF_hydrop_4.FIXEDCELLS_model_intermediates\n",
      "\tmodels__screen__mallet/EPF_hydrop_4.FIXEDCELLS__models_400_iter.pkl exists, skipping\n",
      "24 models in models__screen__mallet/model_intermediates/HAR_ddseq_1.FIXEDCELLS_model_intermediates\n",
      "\tmodels__screen__mallet/HAR_ddseq_1.FIXEDCELLS__models_400_iter.pkl exists, skipping\n",
      "24 models in models__screen__mallet/model_intermediates/HAR_ddseq_2.FIXEDCELLS_model_intermediates\n",
      "\tmodels__screen__mallet/HAR_ddseq_2.FIXEDCELLS__models_400_iter.pkl exists, skipping\n",
      "24 models in models__screen__mallet/model_intermediates/MDC_mtscatac_1.FIXEDCELLS_model_intermediates\n",
      "\tmodels__screen__mallet/MDC_mtscatac_1.FIXEDCELLS__models_400_iter.pkl exists, skipping\n",
      "24 models in models__screen__mallet/model_intermediates/MDC_mtscatac_2.FIXEDCELLS_model_intermediates\n",
      "\tmodels__screen__mallet/MDC_mtscatac_2.FIXEDCELLS__models_400_iter.pkl exists, skipping\n",
      "24 models in models__screen__mallet/model_intermediates/OHS_s3atac_1.FIXEDCELLS_model_intermediates\n",
      "\tmodels__screen__mallet/OHS_s3atac_1.FIXEDCELLS__models_400_iter.pkl exists, skipping\n",
      "24 models in models__screen__mallet/model_intermediates/OHS_s3atac_2.FIXEDCELLS_model_intermediates\n",
      "\tmodels__screen__mallet/OHS_s3atac_2.FIXEDCELLS__models_400_iter.pkl exists, skipping\n",
      "24 models in models__screen__mallet/model_intermediates/SAN_10xmultiome_1.FIXEDCELLS_model_intermediates\n",
      "\tmodels__screen__mallet/SAN_10xmultiome_1.FIXEDCELLS__models_400_iter.pkl exists, skipping\n",
      "24 models in models__screen__mallet/model_intermediates/SAN_10xmultiome_2.FIXEDCELLS_model_intermediates\n",
      "\tmodels__screen__mallet/SAN_10xmultiome_2.FIXEDCELLS__models_400_iter.pkl exists, skipping\n",
      "24 models in models__screen__mallet/model_intermediates/STA_10xv11_1.FIXEDCELLS_model_intermediates\n",
      "\tmodels__screen__mallet/STA_10xv11_1.FIXEDCELLS__models_400_iter.pkl exists, skipping\n",
      "24 models in models__screen__mallet/model_intermediates/STA_10xv11_2.FIXEDCELLS_model_intermediates\n",
      "\tmodels__screen__mallet/STA_10xv11_2.FIXEDCELLS__models_400_iter.pkl exists, skipping\n",
      "24 models in models__screen__mallet/model_intermediates/TXG_10xv11_1.FIXEDCELLS_model_intermediates\n",
      "\tmodels__screen__mallet/TXG_10xv11_1.FIXEDCELLS__models_400_iter.pkl exists, skipping\n",
      "24 models in models__screen__mallet/model_intermediates/TXG_10xv2_1.FIXEDCELLS_model_intermediates\n",
      "\tmodels__screen__mallet/TXG_10xv2_1.FIXEDCELLS__models_400_iter.pkl exists, skipping\n",
      "24 models in models__screen__mallet/model_intermediates/TXG_10xv2_2.FIXEDCELLS_model_intermediates\n",
      "\tmodels__screen__mallet/TXG_10xv2_2.FIXEDCELLS__models_400_iter.pkl exists, skipping\n",
      "24 models in models__screen__mallet/model_intermediates/UCS_ddseq_1.FIXEDCELLS_model_intermediates\n",
      "\tmodels__screen__mallet/UCS_ddseq_1.FIXEDCELLS__models_400_iter.pkl exists, skipping\n",
      "24 models in models__screen__mallet/model_intermediates/UCS_ddseq_2.FIXEDCELLS_model_intermediates\n",
      "\tmodels__screen__mallet/UCS_ddseq_2.FIXEDCELLS__models_400_iter.pkl exists, skipping\n",
      "24 models in models__screen__mallet/model_intermediates/VIB_10xmultiome_1.FIXEDCELLS_model_intermediates\n",
      "\tmodels__screen__mallet/VIB_10xmultiome_1.FIXEDCELLS__models_400_iter.pkl exists, skipping\n",
      "24 models in models__screen__mallet/model_intermediates/VIB_10xmultiome_2.FIXEDCELLS_model_intermediates\n",
      "\tmodels__screen__mallet/VIB_10xmultiome_2.FIXEDCELLS__models_400_iter.pkl exists, skipping\n",
      "24 models in models__screen__mallet/model_intermediates/VIB_10xv1_1.FIXEDCELLS_model_intermediates\n",
      "\tmodels__screen__mallet/VIB_10xv1_1.FIXEDCELLS__models_400_iter.pkl exists, skipping\n",
      "24 models in models__screen__mallet/model_intermediates/VIB_10xv1_2.FIXEDCELLS_model_intermediates\n",
      "\tmodels__screen__mallet/VIB_10xv1_2.FIXEDCELLS__models_400_iter.pkl exists, skipping\n",
      "24 models in models__screen__mallet/model_intermediates/VIB_10xv2_1.FIXEDCELLS_model_intermediates\n",
      "\tmodels__screen__mallet/VIB_10xv2_1.FIXEDCELLS__models_400_iter.pkl exists, skipping\n",
      "24 models in models__screen__mallet/model_intermediates/VIB_10xv2_2.FIXEDCELLS_model_intermediates\n",
      "\tmodels__screen__mallet/VIB_10xv2_2.FIXEDCELLS__models_400_iter.pkl exists, skipping\n",
      "24 models in models__screen__mallet/model_intermediates/VIB_hydrop_1.FIXEDCELLS_model_intermediates\n",
      "\tmodels__screen__mallet/VIB_hydrop_1.FIXEDCELLS__models_400_iter.pkl exists, skipping\n",
      "24 models in models__screen__mallet/model_intermediates/VIB_hydrop_11.FIXEDCELLS_model_intermediates\n",
      "\tmodels__screen__mallet/VIB_hydrop_11.FIXEDCELLS__models_400_iter.pkl exists, skipping\n",
      "24 models in models__screen__mallet/model_intermediates/VIB_hydrop_12.FIXEDCELLS_model_intermediates\n",
      "\tmodels__screen__mallet/VIB_hydrop_12.FIXEDCELLS__models_400_iter.pkl exists, skipping\n",
      "29 models in models__screen__mallet/model_intermediates/VIB_hydrop_2.FIXEDCELLS_model_intermediates\n",
      "\tmodels__screen__mallet/VIB_hydrop_2.FIXEDCELLS__models_400_iter.pkl exists, skipping\n",
      "24 models in models__screen__mallet/model_intermediates/VIB_hydrop_21.FIXEDCELLS_model_intermediates\n",
      "\tmodels__screen__mallet/VIB_hydrop_21.FIXEDCELLS__models_400_iter.pkl exists, skipping\n",
      "24 models in models__screen__mallet/model_intermediates/VIB_hydrop_22.FIXEDCELLS_model_intermediates\n",
      "\tmodels__screen__mallet/VIB_hydrop_22.FIXEDCELLS__models_400_iter.pkl exists, skipping\n"
     ]
    }
   ],
   "source": [
    "for sample, directory in intermediate_dict.items():\n",
    "    nmodels = len(os.listdir(directory))\n",
    "    print(f\"{nmodels} models in {directory}\")\n",
    "    save_path = f\"{f_mod_dir}/{sample}__models_{n_iter}_iter.pkl\"\n",
    "    if not os.path.exists(save_path):\n",
    "        file_list = sorted(os.listdir(directory))\n",
    "        n_topics = [int(x.split('Topic')[-1].split('.pkl')[0]) for x in file_list]\n",
    "        file_list_sorted = [file_list[x] for x in np.argsort(n_topics)]\n",
    "        \n",
    "        if len(os.listdir(directory)) == n_topics_final-1:\n",
    "            print(f\"\\tsaving at {save_path}\")\n",
    "\n",
    "            models_merged = [pickle.load(open(f\"{directory}/{file}\", 'rb')) for file in file_list_sorted]\n",
    "\n",
    "            with open(save_path, \"wb\") as f:\n",
    "                    pickle.dump(models_merged, f, protocol=4)\n",
    "                    \n",
    "        else:\n",
    "            print(f'\\tn_models < {n_topics_final}, {len(sorted(os.listdir(directory)))}')\n",
    "    else:\n",
    "        print(f\"\\t{save_path} exists, skipping\")"
   ]
  },
  {
   "cell_type": "code",
   "execution_count": 175,
   "id": "d91a7900",
   "metadata": {
    "execution": {
     "iopub.execute_input": "2022-09-18T18:14:56.695570Z",
     "iopub.status.busy": "2022-09-18T18:14:56.694779Z",
     "iopub.status.idle": "2022-09-18T18:14:56.701329Z",
     "shell.execute_reply": "2022-09-18T18:14:56.700583Z",
     "shell.execute_reply.started": "2022-09-18T18:14:56.695510Z"
    },
    "papermill": {
     "duration": 3.276807,
     "end_time": "2022-08-20T22:37:26.812513",
     "exception": false,
     "start_time": "2022-08-20T22:37:23.535706",
     "status": "completed"
    },
    "tags": []
   },
   "outputs": [],
   "source": [
    "from pycisTopic.lda_models import evaluate_models\n",
    "import matplotlib.pyplot as plt"
   ]
  },
  {
   "cell_type": "code",
   "execution_count": 176,
   "id": "0faa9fd4",
   "metadata": {
    "execution": {
     "iopub.execute_input": "2022-09-18T18:14:56.702711Z",
     "iopub.status.busy": "2022-09-18T18:14:56.702519Z",
     "iopub.status.idle": "2022-09-18T18:14:56.714322Z",
     "shell.execute_reply": "2022-09-18T18:14:56.713919Z",
     "shell.execute_reply.started": "2022-09-18T18:14:56.702694Z"
    },
    "papermill": {
     "duration": 0.01192,
     "end_time": "2022-08-20T22:37:26.836622",
     "exception": false,
     "start_time": "2022-08-20T22:37:26.824702",
     "status": "completed"
    },
    "tags": []
   },
   "outputs": [
    {
     "data": {
      "text/plain": [
       "{'BIO_ddseq_1.FIXEDCELLS': 'cistopic_objects/BIO_ddseq_1.FIXEDCELLS__cto.scrublet0-4.fmx.singlets.pkl',\n",
       " 'BIO_ddseq_2.FIXEDCELLS': 'cistopic_objects/BIO_ddseq_2.FIXEDCELLS__cto.scrublet0-4.fmx.singlets.pkl',\n",
       " 'BIO_ddseq_3.FIXEDCELLS': 'cistopic_objects/BIO_ddseq_3.FIXEDCELLS__cto.scrublet0-4.fmx.singlets.pkl',\n",
       " 'BIO_ddseq_4.FIXEDCELLS': 'cistopic_objects/BIO_ddseq_4.FIXEDCELLS__cto.scrublet0-4.fmx.singlets.pkl',\n",
       " 'BRO_mtscatac_1.FIXEDCELLS': 'cistopic_objects/BRO_mtscatac_1.FIXEDCELLS__cto.scrublet0-4.fmx.singlets.pkl',\n",
       " 'BRO_mtscatac_2.FIXEDCELLS': 'cistopic_objects/BRO_mtscatac_2.FIXEDCELLS__cto.scrublet0-4.fmx.singlets.pkl',\n",
       " 'CNA_10xmultiome_1.FIXEDCELLS': 'cistopic_objects/CNA_10xmultiome_1.FIXEDCELLS__cto.scrublet0-4.fmx.singlets.pkl',\n",
       " 'CNA_10xmultiome_2.FIXEDCELLS': 'cistopic_objects/CNA_10xmultiome_2.FIXEDCELLS__cto.scrublet0-4.fmx.singlets.pkl',\n",
       " 'CNA_10xv11_1.FIXEDCELLS': 'cistopic_objects/CNA_10xv11_1.FIXEDCELLS__cto.scrublet0-4.fmx.singlets.pkl',\n",
       " 'CNA_10xv11_2.FIXEDCELLS': 'cistopic_objects/CNA_10xv11_2.FIXEDCELLS__cto.scrublet0-4.fmx.singlets.pkl',\n",
       " 'CNA_10xv11_3.FIXEDCELLS': 'cistopic_objects/CNA_10xv11_3.FIXEDCELLS__cto.scrublet0-4.fmx.singlets.pkl',\n",
       " 'CNA_10xv11_4.FIXEDCELLS': 'cistopic_objects/CNA_10xv11_4.FIXEDCELLS__cto.scrublet0-4.fmx.singlets.pkl',\n",
       " 'CNA_10xv11_5.FIXEDCELLS': 'cistopic_objects/CNA_10xv11_5.FIXEDCELLS__cto.scrublet0-4.fmx.singlets.pkl',\n",
       " 'CNA_10xv2_1.FIXEDCELLS': 'cistopic_objects/CNA_10xv2_1.FIXEDCELLS__cto.scrublet0-4.fmx.singlets.pkl',\n",
       " 'CNA_10xv2_2.FIXEDCELLS': 'cistopic_objects/CNA_10xv2_2.FIXEDCELLS__cto.scrublet0-4.fmx.singlets.pkl',\n",
       " 'CNA_hydrop_1.FIXEDCELLS': 'cistopic_objects/CNA_hydrop_1.FIXEDCELLS__cto.scrublet0-4.fmx.singlets.pkl',\n",
       " 'CNA_hydrop_2.FIXEDCELLS': 'cistopic_objects/CNA_hydrop_2.FIXEDCELLS__cto.scrublet0-4.fmx.singlets.pkl',\n",
       " 'CNA_hydrop_3.FIXEDCELLS': 'cistopic_objects/CNA_hydrop_3.FIXEDCELLS__cto.scrublet0-4.fmx.singlets.pkl',\n",
       " 'CNA_mtscatac_1.FIXEDCELLS': 'cistopic_objects/CNA_mtscatac_1.FIXEDCELLS__cto.scrublet0-4.fmx.singlets.pkl',\n",
       " 'CNA_mtscatac_2.FIXEDCELLS': 'cistopic_objects/CNA_mtscatac_2.FIXEDCELLS__cto.scrublet0-4.fmx.singlets.pkl',\n",
       " 'EPF_hydrop_1.FIXEDCELLS': 'cistopic_objects/EPF_hydrop_1.FIXEDCELLS__cto.scrublet0-4.fmx.singlets.pkl',\n",
       " 'EPF_hydrop_2.FIXEDCELLS': 'cistopic_objects/EPF_hydrop_2.FIXEDCELLS__cto.scrublet0-4.fmx.singlets.pkl',\n",
       " 'EPF_hydrop_3.FIXEDCELLS': 'cistopic_objects/EPF_hydrop_3.FIXEDCELLS__cto.scrublet0-4.fmx.singlets.pkl',\n",
       " 'EPF_hydrop_4.FIXEDCELLS': 'cistopic_objects/EPF_hydrop_4.FIXEDCELLS__cto.scrublet0-4.fmx.singlets.pkl',\n",
       " 'HAR_ddseq_1.FIXEDCELLS': 'cistopic_objects/HAR_ddseq_1.FIXEDCELLS__cto.scrublet0-4.fmx.singlets.pkl',\n",
       " 'HAR_ddseq_2.FIXEDCELLS': 'cistopic_objects/HAR_ddseq_2.FIXEDCELLS__cto.scrublet0-4.fmx.singlets.pkl',\n",
       " 'MDC_mtscatac_1.FIXEDCELLS': 'cistopic_objects/MDC_mtscatac_1.FIXEDCELLS__cto.scrublet0-4.fmx.singlets.pkl',\n",
       " 'MDC_mtscatac_2.FIXEDCELLS': 'cistopic_objects/MDC_mtscatac_2.FIXEDCELLS__cto.scrublet0-4.fmx.singlets.pkl',\n",
       " 'OHS_s3atac_1.FIXEDCELLS': 'cistopic_objects/OHS_s3atac_1.FIXEDCELLS__cto.scrublet0-4.fmx.singlets.pkl',\n",
       " 'OHS_s3atac_2.FIXEDCELLS': 'cistopic_objects/OHS_s3atac_2.FIXEDCELLS__cto.scrublet0-4.fmx.singlets.pkl',\n",
       " 'SAN_10xmultiome_1.FIXEDCELLS': 'cistopic_objects/SAN_10xmultiome_1.FIXEDCELLS__cto.scrublet0-4.fmx.singlets.pkl',\n",
       " 'SAN_10xmultiome_2.FIXEDCELLS': 'cistopic_objects/SAN_10xmultiome_2.FIXEDCELLS__cto.scrublet0-4.fmx.singlets.pkl',\n",
       " 'STA_10xv11_1.FIXEDCELLS': 'cistopic_objects/STA_10xv11_1.FIXEDCELLS__cto.scrublet0-4.fmx.singlets.pkl',\n",
       " 'STA_10xv11_2.FIXEDCELLS': 'cistopic_objects/STA_10xv11_2.FIXEDCELLS__cto.scrublet0-4.fmx.singlets.pkl',\n",
       " 'TXG_10xv11_1.FIXEDCELLS': 'cistopic_objects/TXG_10xv11_1.FIXEDCELLS__cto.scrublet0-4.fmx.singlets.pkl',\n",
       " 'TXG_10xv2_1.FIXEDCELLS': 'cistopic_objects/TXG_10xv2_1.FIXEDCELLS__cto.scrublet0-4.fmx.singlets.pkl',\n",
       " 'TXG_10xv2_2.FIXEDCELLS': 'cistopic_objects/TXG_10xv2_2.FIXEDCELLS__cto.scrublet0-4.fmx.singlets.pkl',\n",
       " 'UCS_ddseq_1.FIXEDCELLS': 'cistopic_objects/UCS_ddseq_1.FIXEDCELLS__cto.scrublet0-4.fmx.singlets.pkl',\n",
       " 'UCS_ddseq_2.FIXEDCELLS': 'cistopic_objects/UCS_ddseq_2.FIXEDCELLS__cto.scrublet0-4.fmx.singlets.pkl',\n",
       " 'VIB_10xmultiome_1.FIXEDCELLS': 'cistopic_objects/VIB_10xmultiome_1.FIXEDCELLS__cto.scrublet0-4.fmx.singlets.pkl',\n",
       " 'VIB_10xmultiome_2.FIXEDCELLS': 'cistopic_objects/VIB_10xmultiome_2.FIXEDCELLS__cto.scrublet0-4.fmx.singlets.pkl',\n",
       " 'VIB_10xv1_1.FIXEDCELLS': 'cistopic_objects/VIB_10xv1_1.FIXEDCELLS__cto.scrublet0-4.fmx.singlets.pkl',\n",
       " 'VIB_10xv1_2.FIXEDCELLS': 'cistopic_objects/VIB_10xv1_2.FIXEDCELLS__cto.scrublet0-4.fmx.singlets.pkl',\n",
       " 'VIB_10xv2_1.FIXEDCELLS': 'cistopic_objects/VIB_10xv2_1.FIXEDCELLS__cto.scrublet0-4.fmx.singlets.pkl',\n",
       " 'VIB_10xv2_2.FIXEDCELLS': 'cistopic_objects/VIB_10xv2_2.FIXEDCELLS__cto.scrublet0-4.fmx.singlets.pkl',\n",
       " 'VIB_hydrop_1.FIXEDCELLS': 'cistopic_objects/VIB_hydrop_1.FIXEDCELLS__cto.scrublet0-4.fmx.singlets.pkl',\n",
       " 'VIB_hydrop_11.FIXEDCELLS': 'cistopic_objects/VIB_hydrop_11.FIXEDCELLS__cto.scrublet0-4.fmx.singlets.pkl',\n",
       " 'VIB_hydrop_12.FIXEDCELLS': 'cistopic_objects/VIB_hydrop_12.FIXEDCELLS__cto.scrublet0-4.fmx.singlets.pkl',\n",
       " 'VIB_hydrop_2.FIXEDCELLS': 'cistopic_objects/VIB_hydrop_2.FIXEDCELLS__cto.scrublet0-4.fmx.singlets.pkl',\n",
       " 'VIB_hydrop_21.FIXEDCELLS': 'cistopic_objects/VIB_hydrop_21.FIXEDCELLS__cto.scrublet0-4.fmx.singlets.pkl',\n",
       " 'VIB_hydrop_22.FIXEDCELLS': 'cistopic_objects/VIB_hydrop_22.FIXEDCELLS__cto.scrublet0-4.fmx.singlets.pkl'}"
      ]
     },
     "execution_count": 176,
     "metadata": {},
     "output_type": "execute_result"
    }
   ],
   "source": [
    "scrub_name_suffix = \"0-4\"\n",
    "cto_paths = sorted(glob.glob(f'cistopic_objects/*__cto.scrublet{scrub_name_suffix}.fmx.singlets.pkl'))\n",
    "cto_singlets_path_dict = {x.split('/')[-1].split(f'__cto.scrublet{scrub_name_suffix}.fmx.singlets.pkl')[0]:x for x in cto_paths}\n",
    "cto_singlets_path_dict"
   ]
  },
  {
   "cell_type": "code",
   "execution_count": 177,
   "id": "674a02d8",
   "metadata": {
    "execution": {
     "iopub.execute_input": "2022-09-18T18:14:56.715290Z",
     "iopub.status.busy": "2022-09-18T18:14:56.715021Z",
     "iopub.status.idle": "2022-09-18T18:14:56.718741Z",
     "shell.execute_reply": "2022-09-18T18:14:56.717521Z",
     "shell.execute_reply.started": "2022-09-18T18:14:56.715273Z"
    },
    "papermill": {
     "duration": 0.011877,
     "end_time": "2022-08-20T22:37:26.860640",
     "exception": false,
     "start_time": "2022-08-20T22:37:26.848763",
     "status": "completed"
    },
    "tags": []
   },
   "outputs": [],
   "source": [
    "n_iter = 400"
   ]
  },
  {
   "cell_type": "code",
   "execution_count": 178,
   "id": "633963ca",
   "metadata": {
    "execution": {
     "iopub.execute_input": "2022-09-18T18:14:56.738350Z",
     "iopub.status.busy": "2022-09-18T18:14:56.738155Z",
     "iopub.status.idle": "2022-09-18T18:14:56.744719Z",
     "shell.execute_reply": "2022-09-18T18:14:56.744217Z",
     "shell.execute_reply.started": "2022-09-18T18:14:56.738333Z"
    },
    "papermill": {
     "duration": 0.011336,
     "end_time": "2022-08-20T22:37:26.883287",
     "exception": false,
     "start_time": "2022-08-20T22:37:26.871951",
     "status": "completed"
    },
    "tags": []
   },
   "outputs": [
    {
     "data": {
      "text/plain": [
       "{'BIO_ddseq_1.FIXEDCELLS': 'models__screen__mallet/BIO_ddseq_1.FIXEDCELLS__models_400_iter.pkl',\n",
       " 'BIO_ddseq_2.FIXEDCELLS': 'models__screen__mallet/BIO_ddseq_2.FIXEDCELLS__models_400_iter.pkl',\n",
       " 'BIO_ddseq_3.FIXEDCELLS': 'models__screen__mallet/BIO_ddseq_3.FIXEDCELLS__models_400_iter.pkl',\n",
       " 'BIO_ddseq_4.FIXEDCELLS': 'models__screen__mallet/BIO_ddseq_4.FIXEDCELLS__models_400_iter.pkl',\n",
       " 'BRO_mtscatac_1.FIXEDCELLS': 'models__screen__mallet/BRO_mtscatac_1.FIXEDCELLS__models_400_iter.pkl',\n",
       " 'BRO_mtscatac_2.FIXEDCELLS': 'models__screen__mallet/BRO_mtscatac_2.FIXEDCELLS__models_400_iter.pkl',\n",
       " 'CNA_10xmultiome_1.FIXEDCELLS': 'models__screen__mallet/CNA_10xmultiome_1.FIXEDCELLS__models_400_iter.pkl',\n",
       " 'CNA_10xmultiome_2.FIXEDCELLS': 'models__screen__mallet/CNA_10xmultiome_2.FIXEDCELLS__models_400_iter.pkl',\n",
       " 'CNA_10xv11_1.FIXEDCELLS': 'models__screen__mallet/CNA_10xv11_1.FIXEDCELLS__models_400_iter.pkl',\n",
       " 'CNA_10xv11_2.FIXEDCELLS': 'models__screen__mallet/CNA_10xv11_2.FIXEDCELLS__models_400_iter.pkl',\n",
       " 'CNA_10xv11_3.FIXEDCELLS': 'models__screen__mallet/CNA_10xv11_3.FIXEDCELLS__models_400_iter.pkl',\n",
       " 'CNA_10xv11_4.FIXEDCELLS': 'models__screen__mallet/CNA_10xv11_4.FIXEDCELLS__models_400_iter.pkl',\n",
       " 'CNA_10xv11_5.FIXEDCELLS': 'models__screen__mallet/CNA_10xv11_5.FIXEDCELLS__models_400_iter.pkl',\n",
       " 'CNA_10xv2_1.FIXEDCELLS': 'models__screen__mallet/CNA_10xv2_1.FIXEDCELLS__models_400_iter.pkl',\n",
       " 'CNA_10xv2_2.FIXEDCELLS': 'models__screen__mallet/CNA_10xv2_2.FIXEDCELLS__models_400_iter.pkl',\n",
       " 'CNA_hydrop_1.FIXEDCELLS': 'models__screen__mallet/CNA_hydrop_1.FIXEDCELLS__models_400_iter.pkl',\n",
       " 'CNA_hydrop_2.FIXEDCELLS': 'models__screen__mallet/CNA_hydrop_2.FIXEDCELLS__models_400_iter.pkl',\n",
       " 'CNA_hydrop_3.FIXEDCELLS': 'models__screen__mallet/CNA_hydrop_3.FIXEDCELLS__models_400_iter.pkl',\n",
       " 'CNA_mtscatac_1.FIXEDCELLS': 'models__screen__mallet/CNA_mtscatac_1.FIXEDCELLS__models_400_iter.pkl',\n",
       " 'CNA_mtscatac_2.FIXEDCELLS': 'models__screen__mallet/CNA_mtscatac_2.FIXEDCELLS__models_400_iter.pkl',\n",
       " 'EPF_hydrop_1.FIXEDCELLS': 'models__screen__mallet/EPF_hydrop_1.FIXEDCELLS__models_400_iter.pkl',\n",
       " 'EPF_hydrop_2.FIXEDCELLS': 'models__screen__mallet/EPF_hydrop_2.FIXEDCELLS__models_400_iter.pkl',\n",
       " 'EPF_hydrop_3.FIXEDCELLS': 'models__screen__mallet/EPF_hydrop_3.FIXEDCELLS__models_400_iter.pkl',\n",
       " 'EPF_hydrop_4.FIXEDCELLS': 'models__screen__mallet/EPF_hydrop_4.FIXEDCELLS__models_400_iter.pkl',\n",
       " 'HAR_ddseq_1.FIXEDCELLS': 'models__screen__mallet/HAR_ddseq_1.FIXEDCELLS__models_400_iter.pkl',\n",
       " 'HAR_ddseq_2.FIXEDCELLS': 'models__screen__mallet/HAR_ddseq_2.FIXEDCELLS__models_400_iter.pkl',\n",
       " 'MDC_mtscatac_1.FIXEDCELLS': 'models__screen__mallet/MDC_mtscatac_1.FIXEDCELLS__models_400_iter.pkl',\n",
       " 'MDC_mtscatac_2.FIXEDCELLS': 'models__screen__mallet/MDC_mtscatac_2.FIXEDCELLS__models_400_iter.pkl',\n",
       " 'OHS_s3atac_1.FIXEDCELLS': 'models__screen__mallet/OHS_s3atac_1.FIXEDCELLS__models_400_iter.pkl',\n",
       " 'OHS_s3atac_2.FIXEDCELLS': 'models__screen__mallet/OHS_s3atac_2.FIXEDCELLS__models_400_iter.pkl',\n",
       " 'SAN_10xmultiome_1.FIXEDCELLS': 'models__screen__mallet/SAN_10xmultiome_1.FIXEDCELLS__models_400_iter.pkl',\n",
       " 'SAN_10xmultiome_2.FIXEDCELLS': 'models__screen__mallet/SAN_10xmultiome_2.FIXEDCELLS__models_400_iter.pkl',\n",
       " 'STA_10xv11_1.FIXEDCELLS': 'models__screen__mallet/STA_10xv11_1.FIXEDCELLS__models_400_iter.pkl',\n",
       " 'STA_10xv11_2.FIXEDCELLS': 'models__screen__mallet/STA_10xv11_2.FIXEDCELLS__models_400_iter.pkl',\n",
       " 'TXG_10xv11_1.FIXEDCELLS': 'models__screen__mallet/TXG_10xv11_1.FIXEDCELLS__models_400_iter.pkl',\n",
       " 'TXG_10xv2_1.FIXEDCELLS': 'models__screen__mallet/TXG_10xv2_1.FIXEDCELLS__models_400_iter.pkl',\n",
       " 'TXG_10xv2_2.FIXEDCELLS': 'models__screen__mallet/TXG_10xv2_2.FIXEDCELLS__models_400_iter.pkl',\n",
       " 'UCS_ddseq_1.FIXEDCELLS': 'models__screen__mallet/UCS_ddseq_1.FIXEDCELLS__models_400_iter.pkl',\n",
       " 'UCS_ddseq_2.FIXEDCELLS': 'models__screen__mallet/UCS_ddseq_2.FIXEDCELLS__models_400_iter.pkl',\n",
       " 'VIB_10xmultiome_1.FIXEDCELLS': 'models__screen__mallet/VIB_10xmultiome_1.FIXEDCELLS__models_400_iter.pkl',\n",
       " 'VIB_10xmultiome_2.FIXEDCELLS': 'models__screen__mallet/VIB_10xmultiome_2.FIXEDCELLS__models_400_iter.pkl',\n",
       " 'VIB_10xv1_1.FIXEDCELLS': 'models__screen__mallet/VIB_10xv1_1.FIXEDCELLS__models_400_iter.pkl',\n",
       " 'VIB_10xv1_2.FIXEDCELLS': 'models__screen__mallet/VIB_10xv1_2.FIXEDCELLS__models_400_iter.pkl',\n",
       " 'VIB_10xv2_1.FIXEDCELLS': 'models__screen__mallet/VIB_10xv2_1.FIXEDCELLS__models_400_iter.pkl',\n",
       " 'VIB_10xv2_2.FIXEDCELLS': 'models__screen__mallet/VIB_10xv2_2.FIXEDCELLS__models_400_iter.pkl',\n",
       " 'VIB_hydrop_1.FIXEDCELLS': 'models__screen__mallet/VIB_hydrop_1.FIXEDCELLS__models_400_iter.pkl',\n",
       " 'VIB_hydrop_11.FIXEDCELLS': 'models__screen__mallet/VIB_hydrop_11.FIXEDCELLS__models_400_iter.pkl',\n",
       " 'VIB_hydrop_12.FIXEDCELLS': 'models__screen__mallet/VIB_hydrop_12.FIXEDCELLS__models_400_iter.pkl',\n",
       " 'VIB_hydrop_2.FIXEDCELLS': 'models__screen__mallet/VIB_hydrop_2.FIXEDCELLS__models_400_iter.pkl',\n",
       " 'VIB_hydrop_21.FIXEDCELLS': 'models__screen__mallet/VIB_hydrop_21.FIXEDCELLS__models_400_iter.pkl',\n",
       " 'VIB_hydrop_22.FIXEDCELLS': 'models__screen__mallet/VIB_hydrop_22.FIXEDCELLS__models_400_iter.pkl'}"
      ]
     },
     "execution_count": 178,
     "metadata": {},
     "output_type": "execute_result"
    }
   ],
   "source": [
    "models_path_dict = {x.split('/')[-1].split(f'__models_{n_iter}_iter.pkl')[0]: x for x in sorted(glob.glob(f'{f_mod_dir}/*{n_iter}_iter.pkl'))}\n",
    "models_path_dict"
   ]
  },
  {
   "cell_type": "markdown",
   "id": "1e7c33eb",
   "metadata": {
    "papermill": {
     "duration": 0.017495,
     "end_time": "2022-08-20T22:37:26.913054",
     "exception": false,
     "start_time": "2022-08-20T22:37:26.895559",
     "status": "completed"
    },
    "tags": []
   },
   "source": [
    "We need to minimize Arun, minimize Cao & Juan, maximize Mimno & maximize log likelihood"
   ]
  },
  {
   "cell_type": "code",
   "execution_count": 201,
   "id": "bb21ad6d",
   "metadata": {
    "execution": {
     "iopub.execute_input": "2022-09-18T18:17:58.800507Z",
     "iopub.status.busy": "2022-09-18T18:17:58.799747Z",
     "iopub.status.idle": "2022-09-18T18:17:58.811061Z",
     "shell.execute_reply": "2022-09-18T18:17:58.810277Z",
     "shell.execute_reply.started": "2022-09-18T18:17:58.800440Z"
    },
    "papermill": {
     "duration": 0.011429,
     "end_time": "2022-08-20T22:37:26.941300",
     "exception": false,
     "start_time": "2022-08-20T22:37:26.929871",
     "status": "completed"
    },
    "tags": []
   },
   "outputs": [],
   "source": [
    "optimal_topics_dict = {'BIO_ddseq_3.FIXEDCELLS': 10,\n",
    " 'BIO_ddseq_4.FIXEDCELLS': 11,\n",
    " 'BRO_mtscatac_1.FIXEDCELLS': 11,\n",
    " 'BRO_mtscatac_2.FIXEDCELLS': 17,\n",
    " 'CNA_10xmultiome_1.FIXEDCELLS': 10,\n",
    " 'CNA_10xmultiome_2.FIXEDCELLS': 8,\n",
    " 'CNA_10xv11_1.FIXEDCELLS': 9,\n",
    " 'CNA_10xv11_2.FIXEDCELLS': 9,\n",
    " 'CNA_10xv11_3.FIXEDCELLS': 10,\n",
    " 'CNA_10xv11_4.FIXEDCELLS': 10,\n",
    " 'CNA_10xv11_5.FIXEDCELLS': 10,\n",
    " 'CNA_10xv2_1.FIXEDCELLS': 10,\n",
    " 'CNA_10xv2_2.FIXEDCELLS': 11,\n",
    " 'CNA_hydrop_1.FIXEDCELLS': 11,\n",
    " 'CNA_hydrop_2.FIXEDCELLS': 10,\n",
    " 'CNA_hydrop_3.FIXEDCELLS': 9,\n",
    " 'CNA_mtscatac_1.FIXEDCELLS': 10,\n",
    " 'CNA_mtscatac_2.FIXEDCELLS': 10,\n",
    " 'EPF_hydrop_1.FIXEDCELLS': 11,\n",
    " 'EPF_hydrop_2.FIXEDCELLS': 12,\n",
    " 'EPF_hydrop_3.FIXEDCELLS': 5,\n",
    " 'EPF_hydrop_4.FIXEDCELLS': 9,\n",
    " 'HAR_ddseq_1.FIXEDCELLS': 10,\n",
    " 'HAR_ddseq_2.FIXEDCELLS': 13,\n",
    " 'MDC_mtscatac_1.FIXEDCELLS': 19,\n",
    " 'MDC_mtscatac_2.FIXEDCELLS': 11,\n",
    " 'OHS_s3atac_1.FIXEDCELLS': 13,\n",
    " 'OHS_s3atac_2.FIXEDCELLS': 7,\n",
    " 'SAN_10xmultiome_1.FIXEDCELLS': 7,\n",
    " 'SAN_10xmultiome_2.FIXEDCELLS': 10,\n",
    " 'STA_10xv11_1.FIXEDCELLS': 12,\n",
    " 'STA_10xv11_2.FIXEDCELLS': 7,\n",
    " 'TXG_10xv11_1.FIXEDCELLS': 14,\n",
    " 'TXG_10xv2_1.FIXEDCELLS': 21,\n",
    " 'TXG_10xv2_2.FIXEDCELLS': 21,\n",
    " 'VIB_10xmultiome_1.FIXEDCELLS': 9,\n",
    " 'VIB_10xmultiome_2.FIXEDCELLS': 10,\n",
    " 'VIB_10xv1_1.FIXEDCELLS': 12,\n",
    " 'VIB_10xv1_2.FIXEDCELLS': 19,\n",
    " 'VIB_10xv2_1.FIXEDCELLS': 13,\n",
    " 'VIB_10xv2_2.FIXEDCELLS': 13,\n",
    " 'VIB_hydrop_1.FIXEDCELLS': 17,\n",
    " 'VIB_hydrop_2.FIXEDCELLS': 19,\n",
    " 'BIO_ddseq_1.FIXEDCELLS': 11,\n",
    " 'BIO_ddseq_2.FIXEDCELLS': 14,\n",
    " 'UCS_ddseq_1.FIXEDCELLS': 13,\n",
    " 'UCS_ddseq_2.FIXEDCELLS': 13}"
   ]
  },
  {
   "cell_type": "code",
   "execution_count": 192,
   "id": "1782b741",
   "metadata": {
    "execution": {
     "iopub.execute_input": "2022-09-18T18:16:21.798853Z",
     "iopub.status.busy": "2022-09-18T18:16:21.797936Z",
     "iopub.status.idle": "2022-09-18T18:16:21.809168Z",
     "shell.execute_reply": "2022-09-18T18:16:21.808515Z",
     "shell.execute_reply.started": "2022-09-18T18:16:21.798790Z"
    },
    "papermill": {
     "duration": 0.011386,
     "end_time": "2022-08-20T22:37:26.964005",
     "exception": false,
     "start_time": "2022-08-20T22:37:26.952619",
     "status": "completed"
    },
    "tags": []
   },
   "outputs": [
    {
     "name": "stdout",
     "output_type": "stream",
     "text": [
      "BIO_ddseq_1.FIXEDCELLS in optimal_topics_dict\n",
      "BIO_ddseq_2.FIXEDCELLS in optimal_topics_dict\n",
      "BIO_ddseq_3.FIXEDCELLS in optimal_topics_dict\n",
      "BIO_ddseq_4.FIXEDCELLS in optimal_topics_dict\n",
      "BRO_mtscatac_1.FIXEDCELLS in optimal_topics_dict\n",
      "BRO_mtscatac_2.FIXEDCELLS in optimal_topics_dict\n",
      "CNA_10xmultiome_1.FIXEDCELLS in optimal_topics_dict\n",
      "CNA_10xmultiome_2.FIXEDCELLS in optimal_topics_dict\n",
      "CNA_10xv11_1.FIXEDCELLS in optimal_topics_dict\n",
      "CNA_10xv11_2.FIXEDCELLS in optimal_topics_dict\n",
      "CNA_10xv11_3.FIXEDCELLS in optimal_topics_dict\n",
      "CNA_10xv11_4.FIXEDCELLS in optimal_topics_dict\n",
      "CNA_10xv11_5.FIXEDCELLS in optimal_topics_dict\n",
      "CNA_10xv2_1.FIXEDCELLS in optimal_topics_dict\n",
      "CNA_10xv2_2.FIXEDCELLS in optimal_topics_dict\n",
      "CNA_hydrop_1.FIXEDCELLS in optimal_topics_dict\n",
      "CNA_hydrop_2.FIXEDCELLS in optimal_topics_dict\n",
      "CNA_hydrop_3.FIXEDCELLS in optimal_topics_dict\n",
      "CNA_mtscatac_1.FIXEDCELLS in optimal_topics_dict\n",
      "CNA_mtscatac_2.FIXEDCELLS in optimal_topics_dict\n",
      "EPF_hydrop_1.FIXEDCELLS in optimal_topics_dict\n",
      "EPF_hydrop_2.FIXEDCELLS in optimal_topics_dict\n",
      "EPF_hydrop_3.FIXEDCELLS in optimal_topics_dict\n",
      "EPF_hydrop_4.FIXEDCELLS in optimal_topics_dict\n",
      "HAR_ddseq_1.FIXEDCELLS in optimal_topics_dict\n",
      "HAR_ddseq_2.FIXEDCELLS in optimal_topics_dict\n",
      "MDC_mtscatac_1.FIXEDCELLS in optimal_topics_dict\n",
      "MDC_mtscatac_2.FIXEDCELLS in optimal_topics_dict\n",
      "OHS_s3atac_1.FIXEDCELLS in optimal_topics_dict\n",
      "OHS_s3atac_2.FIXEDCELLS in optimal_topics_dict\n",
      "SAN_10xmultiome_1.FIXEDCELLS in optimal_topics_dict\n",
      "SAN_10xmultiome_2.FIXEDCELLS in optimal_topics_dict\n",
      "STA_10xv11_1.FIXEDCELLS in optimal_topics_dict\n",
      "STA_10xv11_2.FIXEDCELLS in optimal_topics_dict\n",
      "TXG_10xv11_1.FIXEDCELLS in optimal_topics_dict\n",
      "TXG_10xv2_1.FIXEDCELLS in optimal_topics_dict\n",
      "TXG_10xv2_2.FIXEDCELLS in optimal_topics_dict\n",
      "UCS_ddseq_1.FIXEDCELLS in optimal_topics_dict\n",
      "UCS_ddseq_2.FIXEDCELLS in optimal_topics_dict\n",
      "VIB_10xmultiome_1.FIXEDCELLS in optimal_topics_dict\n",
      "VIB_10xmultiome_2.FIXEDCELLS in optimal_topics_dict\n",
      "VIB_10xv1_1.FIXEDCELLS in optimal_topics_dict\n",
      "VIB_10xv1_2.FIXEDCELLS in optimal_topics_dict\n",
      "VIB_10xv2_1.FIXEDCELLS in optimal_topics_dict\n",
      "VIB_10xv2_2.FIXEDCELLS in optimal_topics_dict\n",
      "VIB_hydrop_1.FIXEDCELLS in optimal_topics_dict\n",
      "adding VIB_hydrop_11.FIXEDCELLS\n",
      "adding VIB_hydrop_12.FIXEDCELLS\n",
      "VIB_hydrop_2.FIXEDCELLS in optimal_topics_dict\n",
      "adding VIB_hydrop_21.FIXEDCELLS\n",
      "adding VIB_hydrop_22.FIXEDCELLS\n"
     ]
    },
    {
     "data": {
      "text/plain": [
       "{'BIO_ddseq_3.FIXEDCELLS': 10,\n",
       " 'BIO_ddseq_4.FIXEDCELLS': 11,\n",
       " 'BRO_mtscatac_1.FIXEDCELLS': 11,\n",
       " 'BRO_mtscatac_2.FIXEDCELLS': 17,\n",
       " 'CNA_10xmultiome_1.FIXEDCELLS': 10,\n",
       " 'CNA_10xmultiome_2.FIXEDCELLS': 8,\n",
       " 'CNA_10xv11_1.FIXEDCELLS': 9,\n",
       " 'CNA_10xv11_2.FIXEDCELLS': 9,\n",
       " 'CNA_10xv11_3.FIXEDCELLS': 10,\n",
       " 'CNA_10xv11_4.FIXEDCELLS': 10,\n",
       " 'CNA_10xv11_5.FIXEDCELLS': 10,\n",
       " 'CNA_10xv2_1.FIXEDCELLS': 10,\n",
       " 'CNA_10xv2_2.FIXEDCELLS': 11,\n",
       " 'CNA_hydrop_1.FIXEDCELLS': 11,\n",
       " 'CNA_hydrop_2.FIXEDCELLS': 10,\n",
       " 'CNA_hydrop_3.FIXEDCELLS': 9,\n",
       " 'CNA_mtscatac_1.FIXEDCELLS': 10,\n",
       " 'CNA_mtscatac_2.FIXEDCELLS': 10,\n",
       " 'EPF_hydrop_1.FIXEDCELLS': 11,\n",
       " 'EPF_hydrop_2.FIXEDCELLS': 12,\n",
       " 'EPF_hydrop_3.FIXEDCELLS': 5,\n",
       " 'EPF_hydrop_4.FIXEDCELLS': 9,\n",
       " 'HAR_ddseq_1.FIXEDCELLS': 10,\n",
       " 'HAR_ddseq_2.FIXEDCELLS': 13,\n",
       " 'MDC_mtscatac_1.FIXEDCELLS': 19,\n",
       " 'MDC_mtscatac_2.FIXEDCELLS': 11,\n",
       " 'OHS_s3atac_1.FIXEDCELLS': 13,\n",
       " 'OHS_s3atac_2.FIXEDCELLS': 7,\n",
       " 'SAN_10xmultiome_1.FIXEDCELLS': 7,\n",
       " 'SAN_10xmultiome_2.FIXEDCELLS': 10,\n",
       " 'STA_10xv11_1.FIXEDCELLS': 12,\n",
       " 'STA_10xv11_2.FIXEDCELLS': 7,\n",
       " 'TXG_10xv11_1.FIXEDCELLS': 14,\n",
       " 'TXG_10xv2_1.FIXEDCELLS': 21,\n",
       " 'TXG_10xv2_2.FIXEDCELLS': 21,\n",
       " 'VIB_10xmultiome_1.FIXEDCELLS': 9,\n",
       " 'VIB_10xmultiome_2.FIXEDCELLS': 10,\n",
       " 'VIB_10xv1_1.FIXEDCELLS': 12,\n",
       " 'VIB_10xv1_2.FIXEDCELLS': 19,\n",
       " 'VIB_10xv2_1.FIXEDCELLS': 13,\n",
       " 'VIB_10xv2_2.FIXEDCELLS': 13,\n",
       " 'VIB_hydrop_1.FIXEDCELLS': 19,\n",
       " 'VIB_hydrop_2.FIXEDCELLS': 10,\n",
       " 'BIO_ddseq_1.FIXEDCELLS': 11,\n",
       " 'BIO_ddseq_2.FIXEDCELLS': 14,\n",
       " 'UCS_ddseq_1.FIXEDCELLS': 13,\n",
       " 'UCS_ddseq_2.FIXEDCELLS': 13,\n",
       " 'VIB_hydrop_11.FIXEDCELLS': 10,\n",
       " 'VIB_hydrop_12.FIXEDCELLS': 10,\n",
       " 'VIB_hydrop_21.FIXEDCELLS': 10,\n",
       " 'VIB_hydrop_22.FIXEDCELLS': 10}"
      ]
     },
     "execution_count": 192,
     "metadata": {},
     "output_type": "execute_result"
    }
   ],
   "source": [
    "for sample in models_path_dict.keys():\n",
    "    if sample not in optimal_topics_dict.keys():\n",
    "        print(f\"adding {sample}\")\n",
    "        optimal_topics_dict[sample] = 10\n",
    "    else:\n",
    "        print(f\"{sample} in optimal_topics_dict\")\n",
    "\n",
    "optimal_topics_dict"
   ]
  },
  {
   "cell_type": "code",
   "execution_count": 202,
   "id": "6312530b",
   "metadata": {
    "execution": {
     "iopub.execute_input": "2022-09-18T18:18:00.405456Z",
     "iopub.status.busy": "2022-09-18T18:18:00.404727Z",
     "iopub.status.idle": "2022-09-18T18:18:00.411985Z",
     "shell.execute_reply": "2022-09-18T18:18:00.411202Z",
     "shell.execute_reply.started": "2022-09-18T18:18:00.405394Z"
    },
    "tags": []
   },
   "outputs": [],
   "source": [
    "from pycisTopic.lda_models import evaluate_models\n",
    "import matplotlib.pyplot as plt"
   ]
  },
  {
   "cell_type": "code",
   "execution_count": 205,
   "id": "aa328223",
   "metadata": {
    "execution": {
     "iopub.execute_input": "2022-09-18T18:18:38.453330Z",
     "iopub.status.busy": "2022-09-18T18:18:38.452620Z",
     "iopub.status.idle": "2022-09-18T18:18:41.025444Z",
     "shell.execute_reply": "2022-09-18T18:18:41.024588Z",
     "shell.execute_reply.started": "2022-09-18T18:18:38.453271Z"
    },
    "papermill": {
     "duration": 0.01202,
     "end_time": "2022-08-20T22:37:26.987615",
     "exception": false,
     "start_time": "2022-08-20T22:37:26.975595",
     "status": "completed"
    },
    "tags": []
   },
   "outputs": [
    {
     "name": "stdout",
     "output_type": "stream",
     "text": [
      "BIO_ddseq_3.FIXEDCELLS\n",
      "cistopic_objects/BIO_ddseq_3.FIXEDCELLS__cto.scrublet0-4.fmx.singlets.model_10topics.pkl\n",
      "\tcistopic_objects/BIO_ddseq_3.FIXEDCELLS__cto.scrublet0-4.fmx.singlets.model_10topics.pkl already exists! Skipping...\n",
      "BIO_ddseq_4.FIXEDCELLS\n",
      "cistopic_objects/BIO_ddseq_4.FIXEDCELLS__cto.scrublet0-4.fmx.singlets.model_11topics.pkl\n",
      "\tcistopic_objects/BIO_ddseq_4.FIXEDCELLS__cto.scrublet0-4.fmx.singlets.model_11topics.pkl already exists! Skipping...\n",
      "BRO_mtscatac_1.FIXEDCELLS\n",
      "cistopic_objects/BRO_mtscatac_1.FIXEDCELLS__cto.scrublet0-4.fmx.singlets.model_11topics.pkl\n",
      "\tcistopic_objects/BRO_mtscatac_1.FIXEDCELLS__cto.scrublet0-4.fmx.singlets.model_11topics.pkl already exists! Skipping...\n",
      "BRO_mtscatac_2.FIXEDCELLS\n",
      "cistopic_objects/BRO_mtscatac_2.FIXEDCELLS__cto.scrublet0-4.fmx.singlets.model_17topics.pkl\n",
      "\tcistopic_objects/BRO_mtscatac_2.FIXEDCELLS__cto.scrublet0-4.fmx.singlets.model_17topics.pkl already exists! Skipping...\n",
      "CNA_10xmultiome_1.FIXEDCELLS\n",
      "cistopic_objects/CNA_10xmultiome_1.FIXEDCELLS__cto.scrublet0-4.fmx.singlets.model_10topics.pkl\n",
      "\tcistopic_objects/CNA_10xmultiome_1.FIXEDCELLS__cto.scrublet0-4.fmx.singlets.model_10topics.pkl already exists! Skipping...\n",
      "CNA_10xmultiome_2.FIXEDCELLS\n",
      "cistopic_objects/CNA_10xmultiome_2.FIXEDCELLS__cto.scrublet0-4.fmx.singlets.model_8topics.pkl\n",
      "\tcistopic_objects/CNA_10xmultiome_2.FIXEDCELLS__cto.scrublet0-4.fmx.singlets.model_8topics.pkl already exists! Skipping...\n",
      "CNA_10xv11_1.FIXEDCELLS\n",
      "cistopic_objects/CNA_10xv11_1.FIXEDCELLS__cto.scrublet0-4.fmx.singlets.model_9topics.pkl\n",
      "\tcistopic_objects/CNA_10xv11_1.FIXEDCELLS__cto.scrublet0-4.fmx.singlets.model_9topics.pkl already exists! Skipping...\n",
      "CNA_10xv11_2.FIXEDCELLS\n",
      "cistopic_objects/CNA_10xv11_2.FIXEDCELLS__cto.scrublet0-4.fmx.singlets.model_9topics.pkl\n",
      "\tcistopic_objects/CNA_10xv11_2.FIXEDCELLS__cto.scrublet0-4.fmx.singlets.model_9topics.pkl already exists! Skipping...\n",
      "CNA_10xv11_3.FIXEDCELLS\n",
      "cistopic_objects/CNA_10xv11_3.FIXEDCELLS__cto.scrublet0-4.fmx.singlets.model_10topics.pkl\n",
      "\tcistopic_objects/CNA_10xv11_3.FIXEDCELLS__cto.scrublet0-4.fmx.singlets.model_10topics.pkl already exists! Skipping...\n",
      "CNA_10xv11_4.FIXEDCELLS\n",
      "cistopic_objects/CNA_10xv11_4.FIXEDCELLS__cto.scrublet0-4.fmx.singlets.model_10topics.pkl\n",
      "\tcistopic_objects/CNA_10xv11_4.FIXEDCELLS__cto.scrublet0-4.fmx.singlets.model_10topics.pkl already exists! Skipping...\n",
      "CNA_10xv11_5.FIXEDCELLS\n",
      "cistopic_objects/CNA_10xv11_5.FIXEDCELLS__cto.scrublet0-4.fmx.singlets.model_10topics.pkl\n",
      "\tcistopic_objects/CNA_10xv11_5.FIXEDCELLS__cto.scrublet0-4.fmx.singlets.model_10topics.pkl already exists! Skipping...\n",
      "CNA_10xv2_1.FIXEDCELLS\n",
      "cistopic_objects/CNA_10xv2_1.FIXEDCELLS__cto.scrublet0-4.fmx.singlets.model_10topics.pkl\n",
      "\tcistopic_objects/CNA_10xv2_1.FIXEDCELLS__cto.scrublet0-4.fmx.singlets.model_10topics.pkl already exists! Skipping...\n",
      "CNA_10xv2_2.FIXEDCELLS\n",
      "cistopic_objects/CNA_10xv2_2.FIXEDCELLS__cto.scrublet0-4.fmx.singlets.model_11topics.pkl\n",
      "\tcistopic_objects/CNA_10xv2_2.FIXEDCELLS__cto.scrublet0-4.fmx.singlets.model_11topics.pkl already exists! Skipping...\n",
      "CNA_hydrop_1.FIXEDCELLS\n",
      "cistopic_objects/CNA_hydrop_1.FIXEDCELLS__cto.scrublet0-4.fmx.singlets.model_11topics.pkl\n",
      "\tcistopic_objects/CNA_hydrop_1.FIXEDCELLS__cto.scrublet0-4.fmx.singlets.model_11topics.pkl already exists! Skipping...\n",
      "CNA_hydrop_2.FIXEDCELLS\n",
      "cistopic_objects/CNA_hydrop_2.FIXEDCELLS__cto.scrublet0-4.fmx.singlets.model_10topics.pkl\n",
      "\tcistopic_objects/CNA_hydrop_2.FIXEDCELLS__cto.scrublet0-4.fmx.singlets.model_10topics.pkl already exists! Skipping...\n",
      "CNA_hydrop_3.FIXEDCELLS\n",
      "cistopic_objects/CNA_hydrop_3.FIXEDCELLS__cto.scrublet0-4.fmx.singlets.model_9topics.pkl\n",
      "\tcistopic_objects/CNA_hydrop_3.FIXEDCELLS__cto.scrublet0-4.fmx.singlets.model_9topics.pkl already exists! Skipping...\n",
      "CNA_mtscatac_1.FIXEDCELLS\n",
      "cistopic_objects/CNA_mtscatac_1.FIXEDCELLS__cto.scrublet0-4.fmx.singlets.model_10topics.pkl\n",
      "\tcistopic_objects/CNA_mtscatac_1.FIXEDCELLS__cto.scrublet0-4.fmx.singlets.model_10topics.pkl already exists! Skipping...\n",
      "CNA_mtscatac_2.FIXEDCELLS\n",
      "cistopic_objects/CNA_mtscatac_2.FIXEDCELLS__cto.scrublet0-4.fmx.singlets.model_10topics.pkl\n",
      "\tcistopic_objects/CNA_mtscatac_2.FIXEDCELLS__cto.scrublet0-4.fmx.singlets.model_10topics.pkl already exists! Skipping...\n",
      "EPF_hydrop_1.FIXEDCELLS\n",
      "cistopic_objects/EPF_hydrop_1.FIXEDCELLS__cto.scrublet0-4.fmx.singlets.model_11topics.pkl\n",
      "\tcistopic_objects/EPF_hydrop_1.FIXEDCELLS__cto.scrublet0-4.fmx.singlets.model_11topics.pkl already exists! Skipping...\n",
      "EPF_hydrop_2.FIXEDCELLS\n",
      "cistopic_objects/EPF_hydrop_2.FIXEDCELLS__cto.scrublet0-4.fmx.singlets.model_12topics.pkl\n",
      "\tcistopic_objects/EPF_hydrop_2.FIXEDCELLS__cto.scrublet0-4.fmx.singlets.model_12topics.pkl already exists! Skipping...\n",
      "EPF_hydrop_3.FIXEDCELLS\n",
      "cistopic_objects/EPF_hydrop_3.FIXEDCELLS__cto.scrublet0-4.fmx.singlets.model_5topics.pkl\n",
      "\tcistopic_objects/EPF_hydrop_3.FIXEDCELLS__cto.scrublet0-4.fmx.singlets.model_5topics.pkl already exists! Skipping...\n",
      "EPF_hydrop_4.FIXEDCELLS\n",
      "cistopic_objects/EPF_hydrop_4.FIXEDCELLS__cto.scrublet0-4.fmx.singlets.model_9topics.pkl\n",
      "\tcistopic_objects/EPF_hydrop_4.FIXEDCELLS__cto.scrublet0-4.fmx.singlets.model_9topics.pkl already exists! Skipping...\n",
      "HAR_ddseq_1.FIXEDCELLS\n",
      "cistopic_objects/HAR_ddseq_1.FIXEDCELLS__cto.scrublet0-4.fmx.singlets.model_10topics.pkl\n",
      "\tcistopic_objects/HAR_ddseq_1.FIXEDCELLS__cto.scrublet0-4.fmx.singlets.model_10topics.pkl already exists! Skipping...\n",
      "HAR_ddseq_2.FIXEDCELLS\n",
      "cistopic_objects/HAR_ddseq_2.FIXEDCELLS__cto.scrublet0-4.fmx.singlets.model_13topics.pkl\n",
      "\tcistopic_objects/HAR_ddseq_2.FIXEDCELLS__cto.scrublet0-4.fmx.singlets.model_13topics.pkl already exists! Skipping...\n",
      "MDC_mtscatac_1.FIXEDCELLS\n",
      "cistopic_objects/MDC_mtscatac_1.FIXEDCELLS__cto.scrublet0-4.fmx.singlets.model_19topics.pkl\n",
      "\tcistopic_objects/MDC_mtscatac_1.FIXEDCELLS__cto.scrublet0-4.fmx.singlets.model_19topics.pkl already exists! Skipping...\n",
      "MDC_mtscatac_2.FIXEDCELLS\n",
      "cistopic_objects/MDC_mtscatac_2.FIXEDCELLS__cto.scrublet0-4.fmx.singlets.model_11topics.pkl\n",
      "\tcistopic_objects/MDC_mtscatac_2.FIXEDCELLS__cto.scrublet0-4.fmx.singlets.model_11topics.pkl already exists! Skipping...\n",
      "OHS_s3atac_1.FIXEDCELLS\n",
      "cistopic_objects/OHS_s3atac_1.FIXEDCELLS__cto.scrublet0-4.fmx.singlets.model_13topics.pkl\n",
      "\tcistopic_objects/OHS_s3atac_1.FIXEDCELLS__cto.scrublet0-4.fmx.singlets.model_13topics.pkl already exists! Skipping...\n",
      "OHS_s3atac_2.FIXEDCELLS\n",
      "cistopic_objects/OHS_s3atac_2.FIXEDCELLS__cto.scrublet0-4.fmx.singlets.model_7topics.pkl\n",
      "\tcistopic_objects/OHS_s3atac_2.FIXEDCELLS__cto.scrublet0-4.fmx.singlets.model_7topics.pkl already exists! Skipping...\n",
      "SAN_10xmultiome_1.FIXEDCELLS\n",
      "cistopic_objects/SAN_10xmultiome_1.FIXEDCELLS__cto.scrublet0-4.fmx.singlets.model_7topics.pkl\n",
      "\tcistopic_objects/SAN_10xmultiome_1.FIXEDCELLS__cto.scrublet0-4.fmx.singlets.model_7topics.pkl already exists! Skipping...\n",
      "SAN_10xmultiome_2.FIXEDCELLS\n",
      "cistopic_objects/SAN_10xmultiome_2.FIXEDCELLS__cto.scrublet0-4.fmx.singlets.model_10topics.pkl\n",
      "\tcistopic_objects/SAN_10xmultiome_2.FIXEDCELLS__cto.scrublet0-4.fmx.singlets.model_10topics.pkl already exists! Skipping...\n",
      "STA_10xv11_1.FIXEDCELLS\n",
      "cistopic_objects/STA_10xv11_1.FIXEDCELLS__cto.scrublet0-4.fmx.singlets.model_12topics.pkl\n",
      "\tcistopic_objects/STA_10xv11_1.FIXEDCELLS__cto.scrublet0-4.fmx.singlets.model_12topics.pkl already exists! Skipping...\n",
      "STA_10xv11_2.FIXEDCELLS\n",
      "cistopic_objects/STA_10xv11_2.FIXEDCELLS__cto.scrublet0-4.fmx.singlets.model_7topics.pkl\n",
      "\tcistopic_objects/STA_10xv11_2.FIXEDCELLS__cto.scrublet0-4.fmx.singlets.model_7topics.pkl already exists! Skipping...\n",
      "TXG_10xv11_1.FIXEDCELLS\n",
      "cistopic_objects/TXG_10xv11_1.FIXEDCELLS__cto.scrublet0-4.fmx.singlets.model_14topics.pkl\n",
      "\tcistopic_objects/TXG_10xv11_1.FIXEDCELLS__cto.scrublet0-4.fmx.singlets.model_14topics.pkl already exists! Skipping...\n",
      "TXG_10xv2_1.FIXEDCELLS\n",
      "cistopic_objects/TXG_10xv2_1.FIXEDCELLS__cto.scrublet0-4.fmx.singlets.model_21topics.pkl\n",
      "\tcistopic_objects/TXG_10xv2_1.FIXEDCELLS__cto.scrublet0-4.fmx.singlets.model_21topics.pkl already exists! Skipping...\n",
      "TXG_10xv2_2.FIXEDCELLS\n",
      "cistopic_objects/TXG_10xv2_2.FIXEDCELLS__cto.scrublet0-4.fmx.singlets.model_21topics.pkl\n",
      "\tcistopic_objects/TXG_10xv2_2.FIXEDCELLS__cto.scrublet0-4.fmx.singlets.model_21topics.pkl already exists! Skipping...\n",
      "VIB_10xmultiome_1.FIXEDCELLS\n",
      "cistopic_objects/VIB_10xmultiome_1.FIXEDCELLS__cto.scrublet0-4.fmx.singlets.model_9topics.pkl\n",
      "\tcistopic_objects/VIB_10xmultiome_1.FIXEDCELLS__cto.scrublet0-4.fmx.singlets.model_9topics.pkl already exists! Skipping...\n",
      "VIB_10xmultiome_2.FIXEDCELLS\n",
      "cistopic_objects/VIB_10xmultiome_2.FIXEDCELLS__cto.scrublet0-4.fmx.singlets.model_10topics.pkl\n",
      "\tcistopic_objects/VIB_10xmultiome_2.FIXEDCELLS__cto.scrublet0-4.fmx.singlets.model_10topics.pkl already exists! Skipping...\n",
      "VIB_10xv1_1.FIXEDCELLS\n",
      "cistopic_objects/VIB_10xv1_1.FIXEDCELLS__cto.scrublet0-4.fmx.singlets.model_12topics.pkl\n",
      "\tcistopic_objects/VIB_10xv1_1.FIXEDCELLS__cto.scrublet0-4.fmx.singlets.model_12topics.pkl already exists! Skipping...\n",
      "VIB_10xv1_2.FIXEDCELLS\n",
      "cistopic_objects/VIB_10xv1_2.FIXEDCELLS__cto.scrublet0-4.fmx.singlets.model_19topics.pkl\n",
      "\tcistopic_objects/VIB_10xv1_2.FIXEDCELLS__cto.scrublet0-4.fmx.singlets.model_19topics.pkl already exists! Skipping...\n",
      "VIB_10xv2_1.FIXEDCELLS\n",
      "cistopic_objects/VIB_10xv2_1.FIXEDCELLS__cto.scrublet0-4.fmx.singlets.model_13topics.pkl\n",
      "\tcistopic_objects/VIB_10xv2_1.FIXEDCELLS__cto.scrublet0-4.fmx.singlets.model_13topics.pkl already exists! Skipping...\n",
      "VIB_10xv2_2.FIXEDCELLS\n",
      "cistopic_objects/VIB_10xv2_2.FIXEDCELLS__cto.scrublet0-4.fmx.singlets.model_13topics.pkl\n",
      "\tcistopic_objects/VIB_10xv2_2.FIXEDCELLS__cto.scrublet0-4.fmx.singlets.model_13topics.pkl already exists! Skipping...\n",
      "VIB_hydrop_1.FIXEDCELLS\n",
      "cistopic_objects/VIB_hydrop_1.FIXEDCELLS__cto.scrublet0-4.fmx.singlets.model_17topics.pkl\n",
      "\tLoaded models__screen__mallet/VIB_hydrop_1.FIXEDCELLS__models_400_iter.pkl, evaluating...\n"
     ]
    },
    {
     "data": {
      "image/png": "[encoded data removed]",
      "text/plain": [
       "<Figure size 460.8x345.6 with 1 Axes>"
      ]
     },
     "metadata": {
      "needs_background": "light"
     },
     "output_type": "display_data"
    },
    {
     "name": "stdout",
     "output_type": "stream",
     "text": [
      "VIB_hydrop_2.FIXEDCELLS\n",
      "cistopic_objects/VIB_hydrop_2.FIXEDCELLS__cto.scrublet0-4.fmx.singlets.model_19topics.pkl\n",
      "\tcistopic_objects/VIB_hydrop_2.FIXEDCELLS__cto.scrublet0-4.fmx.singlets.model_19topics.pkl already exists! Skipping...\n",
      "BIO_ddseq_1.FIXEDCELLS\n",
      "cistopic_objects/BIO_ddseq_1.FIXEDCELLS__cto.scrublet0-4.fmx.singlets.model_11topics.pkl\n",
      "\tcistopic_objects/BIO_ddseq_1.FIXEDCELLS__cto.scrublet0-4.fmx.singlets.model_11topics.pkl already exists! Skipping...\n",
      "BIO_ddseq_2.FIXEDCELLS\n",
      "cistopic_objects/BIO_ddseq_2.FIXEDCELLS__cto.scrublet0-4.fmx.singlets.model_14topics.pkl\n",
      "\tcistopic_objects/BIO_ddseq_2.FIXEDCELLS__cto.scrublet0-4.fmx.singlets.model_14topics.pkl already exists! Skipping...\n",
      "UCS_ddseq_1.FIXEDCELLS\n",
      "cistopic_objects/UCS_ddseq_1.FIXEDCELLS__cto.scrublet0-4.fmx.singlets.model_13topics.pkl\n",
      "\tcistopic_objects/UCS_ddseq_1.FIXEDCELLS__cto.scrublet0-4.fmx.singlets.model_13topics.pkl already exists! Skipping...\n",
      "UCS_ddseq_2.FIXEDCELLS\n",
      "cistopic_objects/UCS_ddseq_2.FIXEDCELLS__cto.scrublet0-4.fmx.singlets.model_13topics.pkl\n",
      "\tcistopic_objects/UCS_ddseq_2.FIXEDCELLS__cto.scrublet0-4.fmx.singlets.model_13topics.pkl already exists! Skipping...\n"
     ]
    }
   ],
   "source": [
    "write = True\n",
    "for sample in optimal_topics_dict.keys():\n",
    "# for sample in ['VIB_hydrop_2.FIXEDCELLS']:\n",
    "    cto_path = cto_singlets_path_dict[sample]\n",
    "    print(sample)\n",
    "    ntopics = optimal_topics_dict[sample]\n",
    "    cto_path_new = cto_path.replace('.pkl', f'.model_{ntopics}topics.pkl')\n",
    "    print(cto_path_new)\n",
    "    if not os.path.isfile(cto_path_new):\n",
    "        if(sample in list(models_path_dict.keys())):\n",
    "            models_path = models_path_dict[sample]\n",
    "            with open(models_path, 'rb') as f:\n",
    "                models = pickle.load(f)\n",
    "\n",
    "            print(f\"\\tLoaded {models_path}, evaluating...\")\n",
    "            model = evaluate_models(models,\n",
    "                         select_model=optimal_topics_dict[sample], \n",
    "                         return_model=True, \n",
    "                         metrics=['Arun_2010','Cao_Juan_2009', 'Minmo_2011', 'loglikelihood'],\n",
    "                         plot=True, # disabled since we only test one model here\n",
    "                         plot_metrics=False,\n",
    "                         save=f\"plots_qc/{sample}__model_evaluation.png\"\n",
    "                         )\n",
    "                        \n",
    "            if write == True:\n",
    "                with open(cto_path, 'rb') as f:\n",
    "                    cto = pickle.load(f)\n",
    "\n",
    "                cto.add_LDA_model(model)\n",
    "\n",
    "                with open(cto_path_new, \"wb\") as f:\n",
    "                    pickle.dump(cto, f, protocol=4)\n",
    "\n",
    "        else:\n",
    "            print(f\"\\t{sample} models does not exist!\")\n",
    "    else:\n",
    "        print(f\"\\t{cto_path_new} already exists! Skipping...\")\n",
    "        "
   ]
  },
  {
   "cell_type": "code",
   "execution_count": 204,
   "id": "05b6fe47",
   "metadata": {
    "execution": {
     "iopub.execute_input": "2022-09-18T18:18:01.335615Z",
     "iopub.status.busy": "2022-09-18T18:18:01.335334Z",
     "iopub.status.idle": "2022-09-18T18:18:01.340613Z",
     "shell.execute_reply": "2022-09-18T18:18:01.339989Z",
     "shell.execute_reply.started": "2022-09-18T18:18:01.335595Z"
    },
    "tags": []
   },
   "outputs": [
    {
     "data": {
      "text/plain": [
       "'models__screen__mallet/VIB_hydrop_1.FIXEDCELLS__models_400_iter.pkl'"
      ]
     },
     "execution_count": 204,
     "metadata": {},
     "output_type": "execute_result"
    }
   ],
   "source": [
    "models_path"
   ]
  },
  {
   "cell_type": "code",
   "execution_count": null,
   "id": "31134b60",
   "metadata": {},
   "outputs": [],
   "source": []
  },
  {
   "cell_type": "code",
   "execution_count": null,
   "id": "f2d1b090",
   "metadata": {},
   "outputs": [],
   "source": []
  },
  {
   "cell_type": "code",
   "execution_count": null,
   "id": "df6cf2b7",
   "metadata": {},
   "outputs": [],
   "source": []
  },
  {
   "cell_type": "code",
   "execution_count": null,
   "id": "b9c4e2ff",
   "metadata": {},
   "outputs": [],
   "source": []
  },
  {
   "cell_type": "code",
   "execution_count": null,
   "id": "b8c4b800",
   "metadata": {},
   "outputs": [],
   "source": []
  },
  {
   "cell_type": "code",
   "execution_count": null,
   "id": "f2ad819c",
   "metadata": {},
   "outputs": [],
   "source": []
  },
  {
   "cell_type": "code",
   "execution_count": null,
   "id": "76e25f76",
   "metadata": {},
   "outputs": [],
   "source": []
  },
  {
   "cell_type": "code",
   "execution_count": null,
   "id": "cd147d1d",
   "metadata": {},
   "outputs": [],
   "source": []
  },
  {
   "cell_type": "code",
   "execution_count": null,
   "id": "60a2ac97",
   "metadata": {},
   "outputs": [],
   "source": []
  },
  {
   "cell_type": "code",
   "execution_count": null,
   "id": "f196c51d",
   "metadata": {},
   "outputs": [],
   "source": []
  },
  {
   "cell_type": "code",
   "execution_count": null,
   "id": "f11fe73c",
   "metadata": {},
   "outputs": [],
   "source": []
  },
  {
   "cell_type": "code",
   "execution_count": null,
   "id": "89212792",
   "metadata": {},
   "outputs": [],
   "source": []
  }
 ],
 "metadata": {
  "kernelspec": {
   "display_name": "20220815_pycistopic.sif",
   "language": "python",
   "name": "cistopic_20220815"
  },
  "language_info": {
   "codemirror_mode": {
    "name": "ipython",
    "version": 3
   },
   "file_extension": ".py",
   "mimetype": "text/x-python",
   "name": "python",
   "nbconvert_exporter": "python",
   "pygments_lexer": "ipython3",
   "version": "3.8.13"
  },
  "papermill": {
   "default_parameters": {},
   "duration": 12.353482,
   "end_time": "2022-08-20T22:37:28.628546",
   "environment_variables": {},
   "exception": null,
   "input_path": "6_run_models_script_staging.ipynb",
   "output_path": "6_run_models_script_staging.OUT.ipynb",
   "parameters": {},
   "start_time": "2022-08-20T22:37:16.275064",
   "version": "2.3.3"
  }
 },
 "nbformat": 4,
 "nbformat_minor": 5
}

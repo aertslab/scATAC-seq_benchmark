{
 "cells": [
  {
   "cell_type": "code",
   "execution_count": 3,
   "id": "861da971-d27e-46be-b391-c94036b9cce8",
   "metadata": {
    "execution": {
     "iopub.execute_input": "2023-03-15T16:36:03.998548Z",
     "iopub.status.busy": "2023-03-15T16:36:03.998170Z",
     "iopub.status.idle": "2023-03-15T16:36:04.106002Z",
     "shell.execute_reply": "2023-03-15T16:36:04.105407Z",
     "shell.execute_reply.started": "2023-03-15T16:36:03.998524Z"
    },
    "tags": []
   },
   "outputs": [],
   "source": [
    "%load_ext lab_black"
   ]
  },
  {
   "cell_type": "markdown",
   "id": "95cb684d-92cd-4fc7-8f04-bf7def48d5f2",
   "metadata": {
    "execution": {
     "iopub.execute_input": "2023-03-15T16:38:40.121733Z",
     "iopub.status.busy": "2023-03-15T16:38:40.121356Z",
     "iopub.status.idle": "2023-03-15T16:38:40.127845Z",
     "shell.execute_reply": "2023-03-15T16:38:40.127128Z",
     "shell.execute_reply.started": "2023-03-15T16:38:40.121709Z"
    }
   },
   "source": [
    "original:"
   ]
  },
  {
   "cell_type": "markdown",
   "id": "c2d2d645-97c1-4495-b49c-1ee851fe74a4",
   "metadata": {},
   "source": [
    "```\n",
    "Florian De Rop1,2*, Gert Hulselmans1,2, Chris Flerin1,2, Paula Soler-Vila3, Albert Rafels4, Valerie Christiaens1,2, Carmen Bravo González-Blas1,2, Domenica Marchese4, Ginevra Caratù4, Suresh Poovathingal1, Orit Rozenblatt-Rosen5, Michael Slyper6, Leif Ludwig6,7,8, Wendy Luo6, Christoph Muus6, Fabiana Duarte9,10, Rojesh Shrestha9,10, S. Tansu Bagdatli11, M. Ryan Corces12, Lira Mamanova13, Andrew Knights13, Kerstin B. Meyer13, Ryan Mulqueen14, José Ignacio Martin-Subero3,15,16,17, Sarah A. Teichmann13,18, William J. Greenleaf11,19, Jason Buenrostro9,10, Andrew Adey14, Aviv Regev5,20,21, Stein Aerts1,2#, Holger Heyn4,22#\n",
    "\n",
    "1 VIB Center for Brain and Disease Research, 3000 Leuven, Belgium\n",
    "2 KU Leuven, Department of Human Genetics, 3000 Leuven, Belgium\n",
    "3 Institut d'Investigacions Biomèdiques August Pi i Sunyer (IDIBAPS), 08036 Barcelona, Spain\n",
    "4 CNAG-CRG, Centre for Genomic Regulation (CRG), Barcelona Institute of Science and Technology (BIST), Barcelona, Spain\n",
    "5 Klarman Cell Observatory, Broad Institute of MIT and Harvard, Cambridge, MA, USA\n",
    "6 Broad Institute of MIT and Harvard, Cambridge, MA 02142, USA\n",
    "7 Berlin Institute of Health at Charité – Universitätsmedizin Berlin, Charitéplatz 1, 10117 Berlin, Germany\n",
    "8 Max-Delbrück-Center for Molecular Medicine in the Helmholtz Association (MDC), Berlin Institute for Medical Systems Biology (BIMSB), 10115 Berlin, Germany\n",
    "9 Department of Stem Cell and Regenerative Biology, Harvard University, Cambridge, MA 02138, USA \n",
    "10 Gene Regulation Observatory, Broad Institute of MIT and Harvard, Cambridge, MA 02142, USA\n",
    "11 Department of Genetics, Stanford University, Stanford, CA, USA.\n",
    "12 Gladstone Institute of Neurological Disease, San Francisco, CA 94158\n",
    "13 Wellcome Sanger Institute, Cambridge CB10 1SA, UK\n",
    "14 Molecular and Medical Genetics, Oregon Health & Science University, Portland, OR, USA\n",
    "15 Departament de Fonaments Clínics, Facultat de Medicina, Universitat de Barcelona, Barcelona, Spain. \n",
    "16 Centro de Investigación Biomédica en Red de Cáncer (CIBERONC), Madrid, Spain\n",
    "17 Institució Catalana de Recerca i Estudis Avançats (ICREA), Barcelona, Spain\n",
    "18 Dept Physics/Cavendish Laboratory, University of Cambridge, Cambridge, CB3 0HE, UK\n",
    "19 Chan Zuckerberg Biohub, San Francisco, CA, USA\n",
    "20 Koch Institute of Integrative Cancer Research, Cambridge, MA, USA\n",
    "21 Howard Hughes Medical Institute, Department of Biology, MIT, Cambridge, MA, USA\n",
    "22 Universitat Pompeu Fabra (UPF), 08002 Barcelona, Spain\n",
    "```"
   ]
  },
  {
   "cell_type": "code",
   "execution_count": null,
   "id": "39baf136-94b0-4c90-97fc-c2342b6cb252",
   "metadata": {},
   "outputs": [],
   "source": []
  },
  {
   "cell_type": "code",
   "execution_count": 36,
   "id": "4d4c1254-5b4c-435c-9ffb-241364af9f20",
   "metadata": {
    "execution": {
     "iopub.execute_input": "2023-03-15T16:56:55.396462Z",
     "iopub.status.busy": "2023-03-15T16:56:55.396181Z",
     "iopub.status.idle": "2023-03-15T16:56:55.408353Z",
     "shell.execute_reply": "2023-03-15T16:56:55.407759Z",
     "shell.execute_reply.started": "2023-03-15T16:56:55.396442Z"
    },
    "tags": []
   },
   "outputs": [],
   "source": [
    "def generate_author_list_and_affiliations(\n",
    "    authors_list, affiliation_alias_dict, authors_affiliations_dict, superscript=True\n",
    "):\n",
    "    alias_to_index = {}\n",
    "    index_to_affiliation = {}\n",
    "    next_index = 1\n",
    "    formatted_authors = []\n",
    "\n",
    "    for author in authors_list:\n",
    "        aff_indices = []\n",
    "        for alias in authors_affiliations_dict[author]:\n",
    "            if alias not in alias_to_index:\n",
    "                alias_to_index[alias] = next_index\n",
    "                index_to_affiliation[next_index] = affiliation_alias_dict[alias]\n",
    "                next_index += 1\n",
    "            aff_indices.append(str(alias_to_index[alias]))\n",
    "\n",
    "        if superscript:\n",
    "            aff_indices_str = \"\".join(\n",
    "                [\"⁰¹²³⁴⁵⁶⁷⁸⁹\"[int(d)] for d in \"\".join(aff_indices)]\n",
    "            )\n",
    "        else:\n",
    "            aff_indices_str = \",\".join(aff_indices)\n",
    "        formatted_authors.append(f\"{author}{aff_indices_str}\")\n",
    "\n",
    "    formatted_author_list = \", \".join(formatted_authors)\n",
    "\n",
    "    indexed_affiliations = [\n",
    "        f\"{i} {index_to_affiliation[i]}\" for i in sorted(index_to_affiliation.keys())\n",
    "    ]\n",
    "\n",
    "    return formatted_author_list, indexed_affiliations"
   ]
  },
  {
   "cell_type": "code",
   "execution_count": null,
   "id": "50008d02-3a45-4ef8-8f49-19127fdc2787",
   "metadata": {},
   "outputs": [],
   "source": []
  },
  {
   "cell_type": "code",
   "execution_count": 97,
   "id": "53fc29df-d630-49fd-afe3-be48e3e5a3f5",
   "metadata": {
    "execution": {
     "iopub.execute_input": "2023-03-15T18:07:11.008957Z",
     "iopub.status.busy": "2023-03-15T18:07:11.008565Z",
     "iopub.status.idle": "2023-03-15T18:07:11.046012Z",
     "shell.execute_reply": "2023-03-15T18:07:11.045003Z",
     "shell.execute_reply.started": "2023-03-15T18:07:11.008932Z"
    },
    "tags": []
   },
   "outputs": [],
   "source": [
    "authors_list = [\n",
    "    \"Florian De Rop\",\n",
    "    \"Gert Hulselmans\",\n",
    "    \"Chris Flerin\",\n",
    "    \"Paula Soler-Vila\",\n",
    "    \"Albert Rafels\",\n",
    "    \"Valerie Christiaens\",\n",
    "    \"Carmen Bravo González-Blas\",\n",
    "    \"Domenica Marchese\",\n",
    "    \"Ginevra Caratù\",\n",
    "    \"Suresh Poovathingal\",\n",
    "    \"Orit Rozenblatt-Rosen\",\n",
    "    \"Michael Slyper\",\n",
    "    \"Wendy Luo\",\n",
    "    \"Christoph Muus\",\n",
    "    \"Fabiana Duarte\",\n",
    "    \"Rojesh Shrestha\",\n",
    "    \"Tansu S. Bagdatli\",\n",
    "    \"Ryan M. Corces\",\n",
    "    \"Lira Mamanova\",\n",
    "    \"Andrew Knights\",\n",
    "    \"Kerstin B. Meyer\",\n",
    "    \"Ryan Mulqueen\",\n",
    "    \"Akram Taherinasab\",\n",
    "    \"Jörn Pezoldt\",\n",
    "    \"Camille Lucie Germaine Lambert\",\n",
    "    \"Marta Iglesias\",\n",
    "    \"Sebastián R. Najle\",\n",
    "    \"Zain Y. Dossani\",\n",
    "    \"Luciano G. Martelotto\",\n",
    "    \"Zach Burkett\",\n",
    "    \"Ronald Lebofsky\",\n",
    "    \"José Ignacio Martin-Subero\",\n",
    "    \"Satish Pillai\",\n",
    "    \"Arnau Sebé-Pedrós\",\n",
    "    \"Bart Deplancke\",\n",
    "    \"Sarah A. Teichmann\",\n",
    "    \"Leif Ludwig\",\n",
    "    \"Theodore P. Braun\",\n",
    "    \"Andrew Adey\",\n",
    "    \"William J. Greenleaf\",\n",
    "    \"Jason Buenrostro\",\n",
    "    \"Aviv Regev\",\n",
    "    \"Stein Aerts#\",\n",
    "    \"Holger Heyn#\",\n",
    "]\n",
    "\n",
    "authors_affiliations_dict = {\n",
    "    \"Florian De Rop\": [\"a1\", \"a2\"],\n",
    "    \"Gert Hulselmans\": [\"a1\", \"a2\"],\n",
    "    \"Chris Flerin\": [\"a1\", \"a2\"],\n",
    "    \"Paula Soler-Vila\": [\"a3\"],\n",
    "    \"Albert Rafels\": [\"a4\"],\n",
    "    \"Valerie Christiaens\": [\"a1\", \"a2\"],\n",
    "    \"Carmen Bravo González-Blas\": [\"a1\", \"a2\"],\n",
    "    \"Domenica Marchese\": [\"a4\"],\n",
    "    \"Ginevra Caratù\": [\"a4\"],\n",
    "    \"Suresh Poovathingal\": [\"a1\"],\n",
    "    \"Orit Rozenblatt-Rosen\": [\"a5\"],\n",
    "    \"Michael Slyper\": [\"a6\"],\n",
    "    \"Leif Ludwig\": [\"a6\", \"a7\", \"a8\"],\n",
    "    \"Wendy Luo\": [\"a6\"],\n",
    "    \"Christoph Muus\": [\"a6\"],\n",
    "    \"Fabiana Duarte\": [\"a9\", \"a10\"],\n",
    "    \"Rojesh Shrestha\": [\"a9\", \"a10\"],\n",
    "    \"Tansu S. Bagdatli\": [\"a11\"],\n",
    "    \"Ryan M. Corces\": [\"a12\"],\n",
    "    \"Lira Mamanova\": [\"a13\"],\n",
    "    \"Andrew Knights\": [\"a13\"],\n",
    "    \"Kerstin B. Meyer\": [\"a13\"],\n",
    "    \"Ryan Mulqueen\": [\"a14\"],\n",
    "    \"José Ignacio Martin-Subero\": [\"a3\", \"a15\", \"a16\", \"a17\"],\n",
    "    \"Sarah A. Teichmann\": [\"a13\", \"a18\"],\n",
    "    \"William J. Greenleaf\": [\"a11\", \"a19\"],\n",
    "    \"Jason Buenrostro\": [\"a9\", \"a10\"],\n",
    "    \"Andrew Adey\": [\"a14\"],\n",
    "    \"Aviv Regev\": [\"a5\", \"a20\", \"a21\"],\n",
    "    \"Stein Aerts#\": [\"a1\", \"a2\"],\n",
    "    \"Holger Heyn#\": [\"a4\", \"a22\"],\n",
    "    \"Ronald Lebofsky\": [\"a23\"],\n",
    "    \"Zach Burkett\": [\"a23\"],\n",
    "    \"Arnau Sebé-Pedrós\": [\"a4\", \"a22\", \"a32\"],\n",
    "    \"Marta Iglesias\": [\"a4\", \"a22\"],\n",
    "    \"Sebastián R. Najle\": [\"a4\", \"a22\", \"a32\"],\n",
    "    \"Jörn Pezoldt\": [\"a24\", \"a25\"],\n",
    "    \"Camille Lucie Germaine Lambert\": [\"a24\", \"a25\"],\n",
    "    \"Bart Deplancke\": [\"a24\", \"a25\"],\n",
    "    \"Akram Taherinasab\": [\"a26\", \"a27\"],\n",
    "    \"Theodore P. Braun\": [\"a26\", \"a27\"],\n",
    "    \"Luciano G. Martelotto\": [\"a28\", \"a29\"],\n",
    "    \"Satish Pillai\": [\"a30\", \"a31\"],\n",
    "    \"Zain Y. Dossani\": [\"a30\", \"a31\"],\n",
    "}\n",
    "\n",
    "affiliation_alias_dict = {\n",
    "    \"a1\": \"VIB Center for Brain and Disease Research, Leuven, Belgium\",\n",
    "    \"a2\": \"KU Leuven, Department of Human Genetics, Leuven, Belgium\",\n",
    "    \"a3\": \"Institut d'Investigacions Biomèdiques August Pi i Sunyer (IDIBAPS), Barcelona, Spain\",\n",
    "    \"a4\": \"CNAG-CRG, Centre for Genomic Regulation (CRG), Barcelona Institute of Science and Technology (BIST), Barcelona, Spain\",\n",
    "    \"a5\": \"Klarman Cell Observatory, Broad Institute of MIT and Harvard, Cambridge, MA, USA\",\n",
    "    \"a6\": \"Broad Institute of MIT and Harvard, Cambridge, MA, USA\",\n",
    "    \"a7\": \"Berlin Institute of Health at Charité – Universitätsmedizin Berlin, Berlin, Germany\",\n",
    "    \"a8\": \"Max-Delbrück-Center for Molecular Medicine in the Helmholtz Association (MDC), Berlin Institute for Medical Systems Biology (BIMSB), Berlin, Germany\",\n",
    "    \"a9\": \"Department of Stem Cell and Regenerative Biology, Harvard University, Cambridge, MA, USA\",\n",
    "    \"a10\": \"Gene Regulation Observatory, Broad Institute of MIT and Harvard, Cambridge, MA, USA\",\n",
    "    \"a11\": \"Department of Genetics, Stanford University, Stanford, CA, USA\",\n",
    "    \"a12\": \"Gladstone Institute of Neurological Disease, San Francisco, CA, USA\",\n",
    "    \"a13\": \"Wellcome Sanger Institute, Cambridge, UK\",\n",
    "    \"a14\": \"Molecular and Medical Genetics, Oregon Health & Science University, Portland, OR, USA\",\n",
    "    \"a15\": \"Departament de Fonaments Clínics, Facultat de Medicina, Universitat de Barcelona, Barcelona, Spain\",\n",
    "    \"a16\": \"Centro de Investigación Biomédica en Red de Cáncer (CIBERONC), Madrid, Spain\",\n",
    "    \"a17\": \"Institució Catalana de Recerca i Estudis Avançats (ICREA), Barcelona, Spain\",\n",
    "    \"a18\": \"Dept Physics/Cavendish Laboratory, University of Cambridge, Cambridge, CB3 0HE, UK\",\n",
    "    \"a19\": \"Chan Zuckerberg Biohub, San Francisco, CA, USA\",\n",
    "    \"a20\": \"Koch Institute of Integrative Cancer Research, Cambridge, MA, USA\",\n",
    "    \"a21\": \"Howard Hughes Medical Institute, Department of Biology, MIT, Cambridge, MA, USA\",\n",
    "    \"a22\": \"Universitat Pompeu Fabra (UPF), Barcelona, Spain\",\n",
    "    \"a23\": \"Bio-Rad, Digital Biology Group, Pleasanton, CA, USA.\",\n",
    "    \"a24\": \"Laboratory of Systems Biology and Genetics, Institute of Bioengineering, School of Life Sciences, École Polytechnique Fédérale de Lausanne (EPFL), Lausanne, Switzerland\",\n",
    "    \"a25\": \"Swiss Institute of Bioinformatics (SIB), Lausanne, Switzerland\",\n",
    "    \"a26\": \"Division of Hematology & Medical Oncology, Knight Cancer Institute, Oregon Health & Sciences University, USA\",\n",
    "    \"a27\": \"Division of Oncologic Sciences, Knight Cancer Institute, Oregon Health & Sciences University, USA\",\n",
    "    \"a28\": \"Adelaide Centre for Epigenetics and the South Australian Immunogenomics Cancer Institute, Faculty of Health and Medical Sciences, The University of Adelaide, Adelaide, SA, Australia.\",\n",
    "    \"a29\": \"University of Melbourne Centre for Cancer Research, Victoria Comprehensive Cancer Centre, Melbourne, VIC, Australia.\",\n",
    "    \"a30\": \"Vitalant Research Institute, San Francisco, California, USA.\",\n",
    "    \"a31\": \"Department of Laboratory Medicine, University of California, San Francisco, California, USA.\",\n",
    "    \"a32\": \"ICREA, Barcelona, Spain \",\n",
    "}"
   ]
  },
  {
   "cell_type": "code",
   "execution_count": 98,
   "id": "794700f5-e80c-43a7-8df1-231a32bda5a3",
   "metadata": {
    "execution": {
     "iopub.execute_input": "2023-03-15T18:07:11.677116Z",
     "iopub.status.busy": "2023-03-15T18:07:11.676697Z",
     "iopub.status.idle": "2023-03-15T18:07:11.681302Z",
     "shell.execute_reply": "2023-03-15T18:07:11.680789Z",
     "shell.execute_reply.started": "2023-03-15T18:07:11.677094Z"
    },
    "tags": []
   },
   "outputs": [
    {
     "data": {
      "text/plain": [
       "44"
      ]
     },
     "execution_count": 98,
     "metadata": {},
     "output_type": "execute_result"
    }
   ],
   "source": [
    "len(authors_list)"
   ]
  },
  {
   "cell_type": "code",
   "execution_count": 99,
   "id": "0fe67f3e-b658-4535-93bc-a21797f1cafc",
   "metadata": {
    "execution": {
     "iopub.execute_input": "2023-03-15T18:07:11.939593Z",
     "iopub.status.busy": "2023-03-15T18:07:11.939381Z",
     "iopub.status.idle": "2023-03-15T18:07:11.945643Z",
     "shell.execute_reply": "2023-03-15T18:07:11.945109Z",
     "shell.execute_reply.started": "2023-03-15T18:07:11.939574Z"
    },
    "tags": []
   },
   "outputs": [
    {
     "name": "stdout",
     "output_type": "stream",
     "text": [
      "Florian De Rop1,2, Gert Hulselmans1,2, Chris Flerin1,2, Paula Soler-Vila3, Albert Rafels4, Valerie Christiaens1,2, Carmen Bravo González-Blas1,2, Domenica Marchese4, Ginevra Caratù4, Suresh Poovathingal1, Orit Rozenblatt-Rosen5, Michael Slyper6, Wendy Luo6, Christoph Muus6, Fabiana Duarte7,8, Rojesh Shrestha7,8, Tansu S. Bagdatli9, Ryan M. Corces10, Lira Mamanova11, Andrew Knights11, Kerstin B. Meyer11, Ryan Mulqueen12, Akram Taherinasab13,14, Jörn Pezoldt15,16, Camille Lucie Germaine Lambert15,16, Marta Iglesias4,17, Sebastián R. Najle4,17,18, Zain Y. Dossani19,20, Luciano G. Martelotto21,22, Zach Burkett23, Ronald Lebofsky23, José Ignacio Martin-Subero3,24,25,26, Satish Pillai19,20, Arnau Sebé-Pedrós4,17,18, Bart Deplancke15,16, Sarah A. Teichmann11,27, Leif Ludwig6,28,29, Theodore P. Braun13,14, Andrew Adey12, William J. Greenleaf9,30, Jason Buenrostro7,8, Aviv Regev5,31,32, Stein Aerts#1,2, Holger Heyn#4,17\n",
      "\n",
      "\n",
      "1 VIB Center for Brain and Disease Research, Leuven, Belgium\n",
      "2 KU Leuven, Department of Human Genetics, Leuven, Belgium\n",
      "3 Institut d'Investigacions Biomèdiques August Pi i Sunyer (IDIBAPS), Barcelona, Spain\n",
      "4 CNAG-CRG, Centre for Genomic Regulation (CRG), Barcelona Institute of Science and Technology (BIST), Barcelona, Spain\n",
      "5 Klarman Cell Observatory, Broad Institute of MIT and Harvard, Cambridge, MA, USA\n",
      "6 Broad Institute of MIT and Harvard, Cambridge, MA, USA\n",
      "7 Department of Stem Cell and Regenerative Biology, Harvard University, Cambridge, MA, USA\n",
      "8 Gene Regulation Observatory, Broad Institute of MIT and Harvard, Cambridge, MA, USA\n",
      "9 Department of Genetics, Stanford University, Stanford, CA, USA\n",
      "10 Gladstone Institute of Neurological Disease, San Francisco, CA, USA\n",
      "11 Wellcome Sanger Institute, Cambridge, UK\n",
      "12 Molecular and Medical Genetics, Oregon Health & Science University, Portland, OR, USA\n",
      "13 Division of Hematology & Medical Oncology, Knight Cancer Institute, Oregon Health & Sciences University, USA\n",
      "14 Division of Oncologic Sciences, Knight Cancer Institute, Oregon Health & Sciences University, USA\n",
      "15 Laboratory of Systems Biology and Genetics, Institute of Bioengineering, School of Life Sciences, École Polytechnique Fédérale de Lausanne (EPFL), Lausanne, Switzerland\n",
      "16 Swiss Institute of Bioinformatics (SIB), Lausanne, Switzerland\n",
      "17 Universitat Pompeu Fabra (UPF), Barcelona, Spain\n",
      "18 ICREA, Barcelona, Spain \n",
      "19 Vitalant Research Institute, San Francisco, California, USA.\n",
      "20 Department of Laboratory Medicine, University of California, San Francisco, California, USA.\n",
      "21 Adelaide Centre for Epigenetics and the South Australian Immunogenomics Cancer Institute, Faculty of Health and Medical Sciences, The University of Adelaide, Adelaide, SA, Australia.\n",
      "22 University of Melbourne Centre for Cancer Research, Victoria Comprehensive Cancer Centre, Melbourne, VIC, Australia.\n",
      "23 Bio-Rad, Digital Biology Group, Pleasanton, CA, USA.\n",
      "24 Departament de Fonaments Clínics, Facultat de Medicina, Universitat de Barcelona, Barcelona, Spain\n",
      "25 Centro de Investigación Biomédica en Red de Cáncer (CIBERONC), Madrid, Spain\n",
      "26 Institució Catalana de Recerca i Estudis Avançats (ICREA), Barcelona, Spain\n",
      "27 Dept Physics/Cavendish Laboratory, University of Cambridge, Cambridge, CB3 0HE, UK\n",
      "28 Berlin Institute of Health at Charité – Universitätsmedizin Berlin, Berlin, Germany\n",
      "29 Max-Delbrück-Center for Molecular Medicine in the Helmholtz Association (MDC), Berlin Institute for Medical Systems Biology (BIMSB), Berlin, Germany\n",
      "30 Chan Zuckerberg Biohub, San Francisco, CA, USA\n",
      "31 Koch Institute of Integrative Cancer Research, Cambridge, MA, USA\n",
      "32 Howard Hughes Medical Institute, Department of Biology, MIT, Cambridge, MA, USA\n"
     ]
    }
   ],
   "source": [
    "formatted_author_list, indexed_affiliations = generate_author_list_and_affiliations(\n",
    "    authors_list,\n",
    "    affiliation_alias_dict,\n",
    "    authors_affiliations_dict,\n",
    "    superscript=False,\n",
    ")\n",
    "\n",
    "print(formatted_author_list)\n",
    "print(\"\\n\")\n",
    "print(\"\\n\".join(indexed_affiliations))"
   ]
  },
  {
   "cell_type": "code",
   "execution_count": 65,
   "id": "62f42a87-ebd7-490f-959f-9d2d92ab3ca1",
   "metadata": {
    "execution": {
     "iopub.execute_input": "2023-03-15T17:33:17.545820Z",
     "iopub.status.busy": "2023-03-15T17:33:17.545532Z",
     "iopub.status.idle": "2023-03-15T17:33:17.555694Z",
     "shell.execute_reply": "2023-03-15T17:33:17.555090Z",
     "shell.execute_reply.started": "2023-03-15T17:33:17.545800Z"
    },
    "tags": []
   },
   "outputs": [
    {
     "data": {
      "text/plain": [
       "['BIO_ddseq',\n",
       " 'BRO_mtscatacfacs',\n",
       " 'CNA_10xmultiome',\n",
       " 'CNA_10xv11',\n",
       " 'CNA_10xv11c',\n",
       " 'CNA_10xv2',\n",
       " 'CNA_hydrop',\n",
       " 'CNA_mtscatac',\n",
       " 'EPF_hydrop',\n",
       " 'HAR_ddseq',\n",
       " 'MDC_mtscatac',\n",
       " 'OHS_s3atac',\n",
       " 'SAN_10xmultiome',\n",
       " 'STA_10xv11',\n",
       " 'TXG_10xv11',\n",
       " 'TXG_10xv2',\n",
       " 'UCS_ddseq',\n",
       " 'VIB_10xmultiome',\n",
       " 'VIB_10xv1',\n",
       " 'VIB_10xv2',\n",
       " 'VIB_hydrop']"
      ]
     },
     "execution_count": 65,
     "metadata": {},
     "output_type": "execute_result"
    }
   ],
   "source": [
    "[\n",
    "    \"BIO_ddseq\",  # done # ronald lebofsky, zach burkett\n",
    "    \"BRO_mtscatacfacs\",  # done # Orit Rozenblatt-Rosen5, Michael Slyper6, Leif Ludwig6,7,8, Wendy Luo6, Christoph Muus6\n",
    "    \"CNA_10xmultiome\",  # albert rafels, domenica marchese, ginevra caratu, holger heyn\n",
    "    \"CNA_10xv11\",  # done #albert rafels, domenica marchese, ginevra caratu, holger heyn, José Ignacio Martin-Subero, paula soler vila\n",
    "    \"CNA_10xv11c\",  # done #albert rafels, domenica marchese, ginevra caratu, holger heyn\n",
    "    \"CNA_10xv2\",  # done #albert rafels, domenica marchese, ginevra caratu, holger heyn\n",
    "    \"CNA_hydrop\",  # Marta Iglesias, Sebastian r najle, Arnau Sebé-Pedrós\n",
    "    \"CNA_mtscatac\",  # done   #albert rafels, domenica marchese, ginevra caratu, holger heyn\n",
    "    \"EPF_hydrop\",  # done # florian de rop, Bart Deplancke, Jörn Pezoldt, Camille Lucie Germaine Lambert\n",
    "    \"HAR_ddseq\",  # done # Fabiana Duarte9,10, Rojesh Shrestha9,10, S. Tansu Bagdatli11, M. Ryan Corces12, jason buenrostro\n",
    "    \"MDC_mtscatac\",  # Michael Slyper6, Leif Ludwig6,7,8, Wendy Luo6, Christoph Muus6,\n",
    "    \"OHS_s3atac\",  # andrew adey, ryan mulqueen, theodore p braun, akram taherinasab\n",
    "    \"SAN_10xmultiome\",  # sarah teichmann,  Lira Mamanova11, Andrew Knights11, Kerstin B. Meyer11\n",
    "    \"STA_10xv11\",  # S. Tansu Bagdatli9 & greenleaf?\n",
    "    \"TXG_10xv11\",  # luciano martelotto,\n",
    "    \"TXG_10xv2\",  # luciano martelotto,\n",
    "    \"UCS_ddseq\",  # satish pillai, zain dossani\n",
    "    \"VIB_10xmultiome\",  # valerie christiaens, suresh poovathingal, gert hulselmans, florian de rop, stein aerts\n",
    "    \"VIB_10xv1\",  # valerie christiaens, suresh poovathingal, gert hulselmans, florian de rop, stein aerts\n",
    "    \"VIB_10xv2\",  # valerie christiaens, suresh poovathingal, gert hulselmans, florian de rop, stein aerts\n",
    "    \"VIB_hydrop\",  # valerie christiaens, suresh poovathingal, gert hulselmans, florian de rop, stein aerts\n",
    "]"
   ]
  },
  {
   "cell_type": "code",
   "execution_count": 67,
   "id": "75b5f8bf-ddbd-46b0-af51-c61211a78412",
   "metadata": {
    "execution": {
     "iopub.execute_input": "2023-03-15T17:37:12.733094Z",
     "iopub.status.busy": "2023-03-15T17:37:12.732458Z",
     "iopub.status.idle": "2023-03-15T17:37:12.740199Z",
     "shell.execute_reply": "2023-03-15T17:37:12.739189Z",
     "shell.execute_reply.started": "2023-03-15T17:37:12.733071Z"
    },
    "tags": []
   },
   "outputs": [],
   "source": [
    "def generate_author_list_and_affiliations_full(\n",
    "    authors_list, affiliation_alias_dict, authors_affiliations_dict\n",
    "):\n",
    "    formatted_authors = []\n",
    "\n",
    "    for author in authors_list:\n",
    "        aff_full = []\n",
    "        for alias in authors_affiliations_dict[author]:\n",
    "            aff_full.append(affiliation_alias_dict[alias])\n",
    "\n",
    "        aff_full_str = \", \".join(aff_full)\n",
    "        formatted_authors.append(f\"{author}: {aff_full_str}\")\n",
    "\n",
    "    return formatted_authors"
   ]
  },
  {
   "cell_type": "code",
   "execution_count": 68,
   "id": "ff6c3cfc-5c91-4dc8-a8e1-f39dc4e59924",
   "metadata": {
    "execution": {
     "iopub.execute_input": "2023-03-15T17:37:12.907547Z",
     "iopub.status.busy": "2023-03-15T17:37:12.907251Z",
     "iopub.status.idle": "2023-03-15T17:37:12.912578Z",
     "shell.execute_reply": "2023-03-15T17:37:12.912041Z",
     "shell.execute_reply.started": "2023-03-15T17:37:12.907526Z"
    }
   },
   "outputs": [
    {
     "name": "stdout",
     "output_type": "stream",
     "text": [
      "Florian De Rop: VIB Center for Brain and Disease Research, 3000 Leuven, Belgium, KU Leuven, Department of Human Genetics, 3000 Leuven, Belgium\n",
      "Gert Hulselmans: VIB Center for Brain and Disease Research, 3000 Leuven, Belgium, KU Leuven, Department of Human Genetics, 3000 Leuven, Belgium\n",
      "Chris Flerin: VIB Center for Brain and Disease Research, 3000 Leuven, Belgium, KU Leuven, Department of Human Genetics, 3000 Leuven, Belgium\n",
      "Paula Soler-Vila: Institut d'Investigacions Biomèdiques August Pi i Sunyer (IDIBAPS), 08036 Barcelona, Spain\n",
      "Albert Rafels: CNAG-CRG, Centre for Genomic Regulation (CRG), Barcelona Institute of Science and Technology (BIST), Barcelona, Spain\n",
      "Valerie Christiaens: VIB Center for Brain and Disease Research, 3000 Leuven, Belgium, KU Leuven, Department of Human Genetics, 3000 Leuven, Belgium\n",
      "Carmen Bravo González-Blas: VIB Center for Brain and Disease Research, 3000 Leuven, Belgium, KU Leuven, Department of Human Genetics, 3000 Leuven, Belgium\n",
      "Domenica Marchese: CNAG-CRG, Centre for Genomic Regulation (CRG), Barcelona Institute of Science and Technology (BIST), Barcelona, Spain\n",
      "Ginevra Caratù: CNAG-CRG, Centre for Genomic Regulation (CRG), Barcelona Institute of Science and Technology (BIST), Barcelona, Spain\n",
      "Suresh Poovathingal: VIB Center for Brain and Disease Research, 3000 Leuven, Belgium\n",
      "Orit Rozenblatt-Rosen: Klarman Cell Observatory, Broad Institute of MIT and Harvard, Cambridge, MA, USA\n",
      "Michael Slyper: Broad Institute of MIT and Harvard, Cambridge, MA 02142, USA\n",
      "Wendy Luo: Broad Institute of MIT and Harvard, Cambridge, MA 02142, USA\n",
      "Christoph Muus: Broad Institute of MIT and Harvard, Cambridge, MA 02142, USA\n",
      "Fabiana Duarte: Department of Stem Cell and Regenerative Biology, Harvard University, Cambridge, MA 02138, USA, Gene Regulation Observatory, Broad Institute of MIT and Harvard, Cambridge, MA 02142, USA\n",
      "Rojesh Shrestha: Department of Stem Cell and Regenerative Biology, Harvard University, Cambridge, MA 02138, USA, Gene Regulation Observatory, Broad Institute of MIT and Harvard, Cambridge, MA 02142, USA\n",
      "S. Tansu Bagdatli: Department of Genetics, Stanford University, Stanford, CA, USA\n",
      "M. Ryan Corces: Gladstone Institute of Neurological Disease, San Francisco, CA 94158\n",
      "Lira Mamanova: Wellcome Sanger Institute, Cambridge CB10 1SA, UK\n",
      "Andrew Knights: Wellcome Sanger Institute, Cambridge CB10 1SA, UK\n",
      "Kerstin B. Meyer: Wellcome Sanger Institute, Cambridge CB10 1SA, UK\n",
      "Ryan Mulqueen: Molecular and Medical Genetics, Oregon Health & Science University, Portland, OR, USA\n",
      "Akram Taherinasab: Division of Hematology & Medical Oncology, Knight Cancer Institute, Oregon Health & Sciences University, Division of Oncologic Sciences, Knight Cancer Institute, Oregon Health & Sciences University\n",
      "Jörn Pezoldt: Laboratory of Systems Biology and Genetics, Institute of Bioengineering, School of Life Sciences, École Polytechnique Fédérale de Lausanne (EPFL), Lausanne, Switzerland, Swiss Institute of Bioinformatics (SIB), Lausanne, Switzerland\n",
      "Camille Lucie Germaine Lambert: Laboratory of Systems Biology and Genetics, Institute of Bioengineering, School of Life Sciences, École Polytechnique Fédérale de Lausanne (EPFL), Lausanne, Switzerland, Swiss Institute of Bioinformatics (SIB), Lausanne, Switzerland\n",
      "Marta Iglesias: CNAG-CRG, Centre for Genomic Regulation (CRG), Barcelona Institute of Science and Technology (BIST), Barcelona, Spain, Universitat Pompeu Fabra (UPF), 08002 Barcelona, Spain\n",
      "Sebastián R. Najle: CNAG-CRG, Centre for Genomic Regulation (CRG), Barcelona Institute of Science and Technology (BIST), Barcelona, Spain, Universitat Pompeu Fabra (UPF), 08002 Barcelona, Spain\n",
      "Zain Y. Dossani: Vitalant Research Institute, San Francisco, California, USA., Department of Laboratory Medicine, University of California, San Francisco, California, USA.\n",
      "Luciano G. Martelotto: Adelaide Centre for Epigenetics and the South Australian Immunogenomics Cancer Institute, Faculty of Health and Medical Sciences, The University of Adelaide, Adelaide, SA, Australia., University of Melbourne Centre for Cancer Research, Victoria Comprehensive Cancer Centre, Melbourne, VIC, Australia.\n",
      "Zach Burkett: Bio-Rad, Digital Biology Group, Pleasanton, CA, USA.\n",
      "Ronald Lebofsky: Bio-Rad, Digital Biology Group, Pleasanton, CA, USA.\n",
      "José Ignacio Martin-Subero: Institut d'Investigacions Biomèdiques August Pi i Sunyer (IDIBAPS), 08036 Barcelona, Spain, Departament de Fonaments Clínics, Facultat de Medicina, Universitat de Barcelona, Barcelona, Spain, Centro de Investigación Biomédica en Red de Cáncer (CIBERONC), Madrid, Spain, Institució Catalana de Recerca i Estudis Avançats (ICREA), Barcelona, Spain\n",
      "Satish Pillai: Vitalant Research Institute, San Francisco, California, USA., Department of Laboratory Medicine, University of California, San Francisco, California, USA.\n",
      "Arnau Sebé-Pedrós: CNAG-CRG, Centre for Genomic Regulation (CRG), Barcelona Institute of Science and Technology (BIST), Barcelona, Spain, Universitat Pompeu Fabra (UPF), 08002 Barcelona, Spain\n",
      "Bart Deplancke: Laboratory of Systems Biology and Genetics, Institute of Bioengineering, School of Life Sciences, École Polytechnique Fédérale de Lausanne (EPFL), Lausanne, Switzerland, Swiss Institute of Bioinformatics (SIB), Lausanne, Switzerland\n",
      "Sarah A. Teichmann: Wellcome Sanger Institute, Cambridge CB10 1SA, UK, Dept Physics/Cavendish Laboratory, University of Cambridge, Cambridge, CB3 0HE, UK\n",
      "Leif Ludwig: Broad Institute of MIT and Harvard, Cambridge, MA 02142, USA, Berlin Institute of Health at Charité – Universitätsmedizin Berlin, Charitéplatz 1, 10117 Berlin, Germany, Max-Delbrück-Center for Molecular Medicine in the Helmholtz Association (MDC), Berlin Institute for Medical Systems Biology (BIMSB), 10115 Berlin, Germany\n",
      "Theodore P. Braun: Division of Hematology & Medical Oncology, Knight Cancer Institute, Oregon Health & Sciences University, Division of Oncologic Sciences, Knight Cancer Institute, Oregon Health & Sciences University\n",
      "Andrew Adey: Molecular and Medical Genetics, Oregon Health & Science University, Portland, OR, USA\n",
      "William J. Greenleaf: Department of Genetics, Stanford University, Stanford, CA, USA, Chan Zuckerberg Biohub, San Francisco, CA, USA\n",
      "Jason Buenrostro: Department of Stem Cell and Regenerative Biology, Harvard University, Cambridge, MA 02138, USA, Gene Regulation Observatory, Broad Institute of MIT and Harvard, Cambridge, MA 02142, USA\n",
      "Aviv Regev: Klarman Cell Observatory, Broad Institute of MIT and Harvard, Cambridge, MA, USA, Koch Institute of Integrative Cancer Research, Cambridge, MA, USA, Howard Hughes Medical Institute, Department of Biology, MIT, Cambridge, MA, USA\n",
      "Stein Aerts#: VIB Center for Brain and Disease Research, 3000 Leuven, Belgium, KU Leuven, Department of Human Genetics, 3000 Leuven, Belgium\n",
      "Holger Heyn#: CNAG-CRG, Centre for Genomic Regulation (CRG), Barcelona Institute of Science and Technology (BIST), Barcelona, Spain, Universitat Pompeu Fabra (UPF), 08002 Barcelona, Spain\n"
     ]
    }
   ],
   "source": [
    "formatted_authors_full = generate_author_list_and_affiliations_full(\n",
    "    authors_list, affiliation_alias_dict, authors_affiliations_dict\n",
    ")\n",
    "\n",
    "for author_line in formatted_authors_full:\n",
    "    print(author_line)"
   ]
  },
  {
   "cell_type": "markdown",
   "id": "a226c4a4-2a35-40a5-85e4-9896dbfe668e",
   "metadata": {},
   "source": [
    "old authors list:"
   ]
  },
  {
   "cell_type": "code",
   "execution_count": 78,
   "id": "b9cec3ba-eb9b-4d96-a6bf-3560e789c3ac",
   "metadata": {
    "execution": {
     "iopub.execute_input": "2023-03-15T17:42:39.175176Z",
     "iopub.status.busy": "2023-03-15T17:42:39.174900Z",
     "iopub.status.idle": "2023-03-15T17:42:39.182551Z",
     "shell.execute_reply": "2023-03-15T17:42:39.182020Z",
     "shell.execute_reply.started": "2023-03-15T17:42:39.175156Z"
    },
    "tags": []
   },
   "outputs": [],
   "source": [
    "old_authors_list = [\n",
    "    \"Florian De Rop\",\n",
    "    \"Gert Hulselmans\",\n",
    "    \"Chris Flerin\",\n",
    "    \"Paula Soler-Vila\",\n",
    "    \"Albert Rafels\",\n",
    "    \"Valerie Christiaens\",\n",
    "    \"Carmen Bravo González-Blas\",\n",
    "    \"Domenica Marchese\",\n",
    "    \"Ginevra Caratù\",\n",
    "    \"Suresh Poovathingal\",\n",
    "    \"Orit Rozenblatt-Rosen\",\n",
    "    \"Michael Slyper\",\n",
    "    \"Leif Ludwig\",\n",
    "    \"Wendy Luo\",\n",
    "    \"Christoph Muus\",\n",
    "    \"Fabiana Duarte\",\n",
    "    \"Rojesh Shrestha\",\n",
    "    \"S. Tansu Bagdatli\",\n",
    "    \"M. Ryan Corces\",\n",
    "    \"Lira Mamanova\",\n",
    "    \"Andrew Knights\",\n",
    "    \"Kerstin B. Meyer\",\n",
    "    \"Ryan Mulqueen\",\n",
    "    \"José Ignacio Martin-Subero\",\n",
    "    \"Sarah A. Teichmann\",\n",
    "    \"William J. Greenleaf\",\n",
    "    \"Jason Buenrostro\",\n",
    "    \"Andrew Adey\",\n",
    "    \"Aviv Regev\",\n",
    "    \"Stein Aerts#\",\n",
    "    \"Holger Heyn#\",\n",
    "]"
   ]
  },
  {
   "cell_type": "code",
   "execution_count": 79,
   "id": "76db6aaa-1ca0-4c11-966f-c5754cd24943",
   "metadata": {
    "execution": {
     "iopub.execute_input": "2023-03-15T17:42:39.915302Z",
     "iopub.status.busy": "2023-03-15T17:42:39.915027Z",
     "iopub.status.idle": "2023-03-15T17:42:39.920034Z",
     "shell.execute_reply": "2023-03-15T17:42:39.919498Z",
     "shell.execute_reply.started": "2023-03-15T17:42:39.915282Z"
    },
    "tags": []
   },
   "outputs": [
    {
     "data": {
      "text/plain": [
       "['Akram Taherinasab',\n",
       " 'Arnau Sebé-Pedrós',\n",
       " 'Bart Deplancke',\n",
       " 'Camille Lucie Germaine Lambert',\n",
       " 'Jörn Pezoldt',\n",
       " 'Luciano G. Martelotto',\n",
       " 'Marta Iglesias',\n",
       " 'Ronald Lebofsky',\n",
       " 'Satish Pillai',\n",
       " 'Sebastián R. Najle',\n",
       " 'Theodore P. Braun',\n",
       " 'Zach Burkett',\n",
       " 'Zain Y. Dossani']"
      ]
     },
     "execution_count": 79,
     "metadata": {},
     "output_type": "execute_result"
    }
   ],
   "source": [
    "sorted(set(authors_list) - set(old_authors_list))"
   ]
  },
  {
   "cell_type": "code",
   "execution_count": 80,
   "id": "5623d15e-97a7-467f-83a1-db1cc35b6a4c",
   "metadata": {
    "execution": {
     "iopub.execute_input": "2023-03-15T17:43:22.167509Z",
     "iopub.status.busy": "2023-03-15T17:43:22.167160Z",
     "iopub.status.idle": "2023-03-15T17:43:22.176233Z",
     "shell.execute_reply": "2023-03-15T17:43:22.175689Z",
     "shell.execute_reply.started": "2023-03-15T17:43:22.167486Z"
    },
    "tags": []
   },
   "outputs": [
    {
     "data": {
      "text/plain": [
       "['Akram Taherinasab',\n",
       " 'Arnau Sebé-Pedrós',\n",
       " 'Bart Deplancke',\n",
       " 'Camille Lucie Germaine Lambert',\n",
       " 'Jörn Pezoldt',\n",
       " 'Luciano G. Martelotto',\n",
       " 'Marta Iglesias',\n",
       " 'Ronald Lebofsky',\n",
       " 'Satish Pillai',\n",
       " 'Sebastián R. Najle',\n",
       " 'Theodore P. Braun',\n",
       " 'Zach Burkett',\n",
       " 'Zain Y. Dossani']"
      ]
     },
     "execution_count": 80,
     "metadata": {},
     "output_type": "execute_result"
    }
   ],
   "source": [
    "[\n",
    "    \"Akram Taherinasab\",  # OHSU s3-ATAC sample #2 ddSEQ samples\n",
    "    \"Arnau Sebé-Pedrós\",  # CRG hydrop\n",
    "    \"Bart Deplancke\",  # EPFL hydrop\n",
    "    \"Camille Lucie Germaine Lambert\",  # EPFL hydrop\n",
    "    \"Jörn Pezoldt\",  # EPFL Hydrop\n",
    "    \"Luciano G. Martelotto\",  # TXG data\n",
    "    \"Marta Iglesias\",  # CRG hydrop\n",
    "    \"Ronald Lebofsky\",  # Bio-Rad ddSEQ data\n",
    "    \"Satish Pillai\",  # UCSF ddSEQ samples\n",
    "    \"Sebastián R. Najle\",  # CRG hydrop\n",
    "    \"Theodore P. Braun\",  # OHSU s3-atac sample #2\n",
    "    \"Zach Burkett\",  # Bio-Rad ddSEQ data\n",
    "    \"Zain Y. Dossani\",  # UCSF ddSEQ samples\n",
    "]"
   ]
  },
  {
   "cell_type": "code",
   "execution_count": 86,
   "id": "131e133c-4b1f-449b-bd7b-8bceec153dc8",
   "metadata": {
    "execution": {
     "iopub.execute_input": "2023-03-15T17:56:37.661441Z",
     "iopub.status.busy": "2023-03-15T17:56:37.661088Z",
     "iopub.status.idle": "2023-03-15T17:56:37.668699Z",
     "shell.execute_reply": "2023-03-15T17:56:37.668149Z",
     "shell.execute_reply.started": "2023-03-15T17:56:37.661418Z"
    },
    "tags": []
   },
   "outputs": [
    {
     "name": "stdout",
     "output_type": "stream",
     "text": [
      "Florian, De Rop\n",
      "Gert, Hulselmans\n",
      "Chris, Flerin\n",
      "Paula, Soler-Vila\n",
      "Albert, Rafels\n",
      "Valerie, Christiaens\n",
      "Carmen, Bravo González-Blas\n",
      "Domenica, Marchese\n",
      "Ginevra, Caratù\n",
      "Suresh, Poovathingal\n",
      "Orit, Rozenblatt-Rosen\n",
      "Michael, Slyper\n",
      "Wendy, Luo\n",
      "Christoph, Muus\n",
      "Fabiana, Duarte\n",
      "Rojesh, Shrestha\n",
      "S., Tansu Bagdatli\n",
      "M., Ryan Corces\n",
      "Lira, Mamanova\n",
      "Andrew, Knights\n",
      "Kerstin, B. Meyer\n",
      "Ryan, Mulqueen\n",
      "Akram, Taherinasab\n",
      "Jörn, Pezoldt\n",
      "Camille, Lucie Germaine Lambert\n",
      "Marta, Iglesias\n",
      "Sebastián, R. Najle\n",
      "Zain, Y. Dossani\n",
      "Luciano, G. Martelotto\n",
      "Zach, Burkett\n",
      "Ronald, Lebofsky\n",
      "José, Ignacio Martin-Subero\n",
      "Satish, Pillai\n",
      "Arnau, Sebé-Pedrós\n",
      "Bart, Deplancke\n",
      "Sarah, A. Teichmann\n",
      "Leif, Ludwig\n",
      "Theodore, P. Braun\n",
      "Andrew, Adey\n",
      "William, J. Greenleaf\n",
      "Jason, Buenrostro\n",
      "Aviv, Regev\n",
      "Stein, Aerts\n",
      "Holger, Heyn\n"
     ]
    }
   ],
   "source": [
    "for x in [x.split(\" \")[0] + \", \" + \" \".join(x.split(\" \")[1:]) for x in authors_list]:\n",
    "    print(x.replace(\"#\", \"\"))"
   ]
  },
  {
   "cell_type": "code",
   "execution_count": 87,
   "id": "d465161b-517c-4320-ac6d-2cd26401d6c6",
   "metadata": {
    "execution": {
     "iopub.execute_input": "2023-03-15T17:59:42.931309Z",
     "iopub.status.busy": "2023-03-15T17:59:42.930946Z",
     "iopub.status.idle": "2023-03-15T17:59:42.938274Z",
     "shell.execute_reply": "2023-03-15T17:59:42.937724Z",
     "shell.execute_reply.started": "2023-03-15T17:59:42.931285Z"
    }
   },
   "outputs": [
    {
     "name": "stdout",
     "output_type": "stream",
     "text": [
      "Florian, De, Rop\n",
      "Gert, Hulselmans\n",
      "Chris, Flerin\n",
      "Paula, Soler-Vila\n",
      "Albert, Rafels\n",
      "Valerie, Christiaens\n",
      "Carmen, Bravo, González-Blas\n",
      "Domenica, Marchese\n",
      "Ginevra, Caratù\n",
      "Suresh, Poovathingal\n",
      "Orit, Rozenblatt-Rosen\n",
      "Michael, Slyper\n",
      "Wendy, Luo\n",
      "Christoph, Muus\n",
      "Fabiana, Duarte\n",
      "Rojesh, Shrestha\n",
      "S, Tansu, Bagdatli\n",
      "M, Ryan, Corces\n",
      "Lira, Mamanova\n",
      "Andrew, Knights\n",
      "Kerstin, B, Meyer\n",
      "Ryan, Mulqueen\n",
      "Akram, Taherinasab\n",
      "Jörn, Pezoldt\n",
      "Camille, Lucie, Germaine, Lambert\n",
      "Marta, Iglesias\n",
      "Sebastián, R, Najle\n",
      "Zain, Y, Dossani\n",
      "Luciano, G, Martelotto\n",
      "Zach, Burkett\n",
      "Ronald, Lebofsky\n",
      "José, Ignacio, Martin-Subero\n",
      "Satish, Pillai\n",
      "Arnau, Sebé-Pedrós\n",
      "Bart, Deplancke\n",
      "Sarah, A, Teichmann\n",
      "Leif, Ludwig\n",
      "Theodore, P, Braun\n",
      "Andrew, Adey\n",
      "William, J, Greenleaf\n",
      "Jason, Buenrostro\n",
      "Aviv, Regev\n",
      "Stein, Aerts\n",
      "Holger, Heyn\n"
     ]
    }
   ],
   "source": [
    "for x in [x.replace(\" \", \", \") for x in authors_list]:\n",
    "    print(x.replace(\"#\", \"\").replace(\".\", \"\"))"
   ]
  },
  {
   "cell_type": "code",
   "execution_count": null,
   "id": "d496be1b-5b41-45c2-8864-a012e2b8e64c",
   "metadata": {},
   "outputs": [],
   "source": []
  }
 ],
 "metadata": {
  "kernelspec": {
   "display_name": "20221014_pycistopic.sif",
   "language": "python",
   "name": "cistopic_20221014"
  },
  "language_info": {
   "codemirror_mode": {
    "name": "ipython",
    "version": 3
   },
   "file_extension": ".py",
   "mimetype": "text/x-python",
   "name": "python",
   "nbconvert_exporter": "python",
   "pygments_lexer": "ipython3",
   "version": "3.8.15"
  }
 },
 "nbformat": 4,
 "nbformat_minor": 5
}

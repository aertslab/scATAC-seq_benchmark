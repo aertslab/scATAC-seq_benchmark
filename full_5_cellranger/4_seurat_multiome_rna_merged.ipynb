{
 "cells": [
  {
   "cell_type": "code",
   "execution_count": null,
   "id": "89feff8d-3bff-4374-a076-09000996b267",
   "metadata": {},
   "outputs": [],
   "source": [
    "my_conda_initialize\n",
    "conda activate r4_2"
   ]
  },
  {
   "cell_type": "code",
   "execution_count": null,
   "id": "92498c86-935c-4a91-b7a8-d5b5a7a25673",
   "metadata": {
    "tags": []
   },
   "outputs": [],
   "source": [
    "\n",
    "\n",
    "library(Seurat)\n",
    "library(anndata)\n",
    "\n",
    "\n",
    "\n",
    "##################################################\n",
    "### query data:\n",
    "\n",
    "f_gex = list(\n",
    "merged = '/lustre1/project/stg_00090/scatac_benchmark/full_5_cellranger/rna_qc/merged__adata.h5'\n",
    ")\n",
    "\n",
    "query.list = list()\n",
    "for(i in 1:length(f_gex)) {\n",
    "    data <- read_h5ad(f_gex[[i]])\n",
    "    data <- CreateSeuratObject(counts = t(as.data.frame(data$X)), meta.data = data$obs)\n",
    "    # if(is.list(tmp_h5)) {\n",
    "    #     query.list[[i]] = CreateSeuratObject(tmp_h5$`Gene Expression`)\n",
    "    # } else {\n",
    "    #     query.list[[i]] = CreateSeuratObject(tmp_h5)\n",
    "    # }\n",
    "    data = NormalizeData(data)\n",
    "    all.genes <- rownames(data)\n",
    "    data <- ScaleData(data, features = all.genes)\n",
    "    query.list[[i]] = FindVariableFeatures(data, selection.method = \"vst\", nfeatures = 2000, verbose = FALSE)\n",
    "}\n",
    "\n",
    "\n",
    "names(query.list) = names(f_gex)\n",
    "\n",
    "##################################################\n",
    "# transfer\n",
    "\n",
    "pbmc.integrated <- readRDS('../0_resources/seurat_references/pbmc_ssc_mat__integrated.rds')\n",
    "\n",
    "for(i in 1:length(query.list)) {\n",
    "    transfer.anchors <- FindTransferAnchors(reference=pbmc.integrated, query=query.list[[i]], dims=1:30, reference.reduction=\"pca\")\n",
    "    predictions <- TransferData(anchorset=transfer.anchors, refdata=pbmc.integrated$CellType, dims=1:30)\n",
    "    query.list[[i]] = AddMetaData(query.list[[i]], metadata = predictions)\n",
    "}"
   ]
  },
  {
   "cell_type": "code",
   "execution_count": null,
   "id": "651e5304-0589-4bca-a687-71074a491806",
   "metadata": {
    "tags": []
   },
   "outputs": [],
   "source": [
    "get_difference_to_next_prediction_score = function(x) {\n",
    "    y = x[,grep('prediction.score',colnames(x))]\n",
    "    xcols = grep('prediction.score',colnames(x))\n",
    "    xcols = xcols[ 1:(length(xcols)-1) ]\n",
    "    pred_score_next = numeric(nrow(x))\n",
    "    for(i in 1:nrow(x)) {\n",
    "        pred_score_next[i] = sort(x$prediction.score.max[i] - as.numeric(x[i,xcols]))[2]\n",
    "    }\n",
    "    return(pred_score_next)\n",
    "}\n",
    "\n",
    "pred_thr = 0.7\n",
    "diff_thr = 0.1\n",
    "for(i in 1:length(query.list)) {\n",
    "    query.list[[i]]@meta.data$diff_to_next_pred_score =\n",
    "        get_difference_to_next_prediction_score(query.list[[i]]@meta.data)\n",
    "    pf = (query.list[[i]]$prediction.score.max>pred_thr) & (query.list[[i]]$diff_to_next_pred_score>diff_thr)\n",
    "    cat(names(query.list)[i],\": \",\n",
    "        length(query.list[[i]]$prediction.score.max), \" | \",\n",
    "        sum(query.list[[i]]$prediction.score.max>=pred_thr), \"> \",pred_thr,\" | \",\n",
    "        sum(query.list[[i]]$diff_to_next_pred_score>=diff_thr), \"> \",diff_thr,\" | both:\",\n",
    "        sum(pf), \" \", sum(pf)/length(pf), \"\\n\")\n",
    "}"
   ]
  },
  {
   "cell_type": "markdown",
   "id": "d488a7c2-a017-4886-9d94-ca30e79deb38",
   "metadata": {
    "tags": []
   },
   "source": [
    "CNA_10xmultiome_1 :  6664  |  2154 >  0.7  |  5351 >  0.1  | both: 2154   0.3232293\n",
    "CNA_10xmultiome_2 :  6661  |  505 >  0.7  |  3180 >  0.1  | both: 505   0.07581444\n",
    "SAN_10xmultiome_1 :  3587  |  341 >  0.7  |  2330 >  0.1  | both: 341   0.09506551\n",
    "SAN_10xmultiome_2 :  3587  |  341 >  0.7  |  2330 >  0.1  | both: 341   0.09506551\n",
    "VIB_10xmultiome_1 :  1346  |  124 >  0.7  |  1179 >  0.1  | both: 124   0.09212481\n",
    "VIB_10xmultiome_1 :  1346  |  124 >  0.7  |  1179 >  0.1  | both: 124   0.09212481"
   ]
  },
  {
   "cell_type": "code",
   "execution_count": null,
   "id": "d1cf863c-e129-41d8-b2fd-54131b57a9b4",
   "metadata": {
    "tags": []
   },
   "outputs": [],
   "source": [
    "cell.annot = list()\n",
    "for(i in 1:length(query.list)) {\n",
    "    md = query.list[[i]]@meta.data\n",
    "\n",
    "    tmp = data.frame(\n",
    "          composite_sample_id = paste0(rownames(md),'___',names(query.list)[i]),\n",
    "          barcode = rownames(md),\n",
    "          sample_id = names(query.list)[i],\n",
    "          cell_type = md$predicted.id,\n",
    "          cell_type_pred_score = md$prediction.score.max\n",
    "          )\n",
    "    tmp$cell_type_hiconf_70 = tmp$cell_type\n",
    "    tmp$cell_type_hiconf_70[tmp$cell_type_pred_score<pred_thr] = 'Unknown'\n",
    "\n",
    "    cell.annot[[i]] = tmp\n",
    "}\n",
    "\n",
    "# Sanger MO samples:\n",
    "write.table(\n",
    "            rbind(cell.annot),\n",
    "            file='rna_qc/merged__seurat_annotations.txt',\n",
    "            sep='\\t', row.names=FALSE, quote=FALSE\n",
    "            )"
   ]
  },
  {
   "cell_type": "markdown",
   "id": "0caa65e5-d7f6-492f-9e8f-eb4c5aac31a9",
   "metadata": {},
   "source": [
    "# 10x filtered cells"
   ]
  },
  {
   "cell_type": "code",
   "execution_count": null,
   "id": "98402813-251d-4c0b-9e4d-c58cff476e05",
   "metadata": {
    "tags": []
   },
   "outputs": [],
   "source": [
    "\n",
    "\n",
    "library(Seurat)\n",
    "library(anndata)\n",
    "\n",
    "\n",
    "\n",
    "##################################################\n",
    "### query data:\n",
    "\n",
    "f_gex = list(\n",
    "merged = '/lustre1/project/stg_00090/scatac_benchmark/full_5_cellranger/rna_qc/10xmerged__adata.raw.h5'\n",
    ")\n",
    "\n",
    "query.list = list()\n",
    "for(i in 1:length(f_gex)) {\n",
    "    data <- read_h5ad(f_gex[[i]])\n",
    "    data <- CreateSeuratObject(counts = t(as.data.frame(data$X)), meta.data = data$obs)\n",
    "    # if(is.list(tmp_h5)) {\n",
    "    #     query.list[[i]] = CreateSeuratObject(tmp_h5$`Gene Expression`)\n",
    "    # } else {\n",
    "    #     query.list[[i]] = CreateSeuratObject(tmp_h5)\n",
    "    # }\n",
    "    data = NormalizeData(data)\n",
    "    all.genes <- rownames(data)\n",
    "    data <- ScaleData(data, features = all.genes)\n",
    "    query.list[[i]] = FindVariableFeatures(data, selection.method = \"vst\", nfeatures = 2000, verbose = FALSE)\n",
    "}\n",
    "\n",
    "\n",
    "names(query.list) = names(f_gex)\n",
    "\n",
    "##################################################\n",
    "# transfer\n",
    "\n",
    "pbmc.integrated <- readRDS('../0_resources/seurat_references/pbmc_ssc_mat__integrated.rds')\n",
    "\n",
    "for(i in 1:length(query.list)) {\n",
    "    transfer.anchors <- FindTransferAnchors(reference=pbmc.integrated, query=query.list[[i]], dims=1:30, reference.reduction=\"pca\")\n",
    "    predictions <- TransferData(anchorset=transfer.anchors, refdata=pbmc.integrated$CellType, dims=1:30)\n",
    "    query.list[[i]] = AddMetaData(query.list[[i]], metadata = predictions)\n",
    "}"
   ]
  },
  {
   "cell_type": "code",
   "execution_count": null,
   "id": "73f6b305-7202-42b2-ad07-1d513bd8bb9b",
   "metadata": {
    "tags": []
   },
   "outputs": [],
   "source": [
    "get_difference_to_next_prediction_score = function(x) {\n",
    "    y = x[,grep('prediction.score',colnames(x))]\n",
    "    xcols = grep('prediction.score',colnames(x))\n",
    "    xcols = xcols[ 1:(length(xcols)-1) ]\n",
    "    pred_score_next = numeric(nrow(x))\n",
    "    for(i in 1:nrow(x)) {\n",
    "        pred_score_next[i] = sort(x$prediction.score.max[i] - as.numeric(x[i,xcols]))[2]\n",
    "    }\n",
    "    return(pred_score_next)\n",
    "}\n",
    "\n",
    "pred_thr = 0.7\n",
    "diff_thr = 0.1\n",
    "for(i in 1:length(query.list)) {\n",
    "    query.list[[i]]@meta.data$diff_to_next_pred_score =\n",
    "        get_difference_to_next_prediction_score(query.list[[i]]@meta.data)\n",
    "    pf = (query.list[[i]]$prediction.score.max>pred_thr) & (query.list[[i]]$diff_to_next_pred_score>diff_thr)\n",
    "    cat(names(query.list)[i],\": \",\n",
    "        length(query.list[[i]]$prediction.score.max), \" | \",\n",
    "        sum(query.list[[i]]$prediction.score.max>=pred_thr), \"> \",pred_thr,\" | \",\n",
    "        sum(query.list[[i]]$diff_to_next_pred_score>=diff_thr), \"> \",diff_thr,\" | both:\",\n",
    "        sum(pf), \" \", sum(pf)/length(pf), \"\\n\")\n",
    "}"
   ]
  },
  {
   "cell_type": "markdown",
   "id": "acf31ca5-94ca-49ee-8285-35cd9eb05d5e",
   "metadata": {
    "tags": []
   },
   "source": [
    "CNA_10xmultiome_1 :  6664  |  2154 >  0.7  |  5351 >  0.1  | both: 2154   0.3232293\n",
    "CNA_10xmultiome_2 :  6661  |  505 >  0.7  |  3180 >  0.1  | both: 505   0.07581444\n",
    "SAN_10xmultiome_1 :  3587  |  341 >  0.7  |  2330 >  0.1  | both: 341   0.09506551\n",
    "SAN_10xmultiome_2 :  3587  |  341 >  0.7  |  2330 >  0.1  | both: 341   0.09506551\n",
    "VIB_10xmultiome_1 :  1346  |  124 >  0.7  |  1179 >  0.1  | both: 124   0.09212481\n",
    "VIB_10xmultiome_1 :  1346  |  124 >  0.7  |  1179 >  0.1  | both: 124   0.09212481"
   ]
  },
  {
   "cell_type": "code",
   "execution_count": null,
   "id": "ac6837dc-ac70-4ed8-b8cf-576979c9d79c",
   "metadata": {
    "tags": []
   },
   "outputs": [],
   "source": [
    "cell.annot = list()\n",
    "for(i in 1:length(query.list)) {\n",
    "    md = query.list[[i]]@meta.data\n",
    "\n",
    "    tmp = data.frame(\n",
    "          composite_sample_id = paste0(rownames(md),'___',names(query.list)[i]),\n",
    "          barcode = rownames(md),\n",
    "          sample_id = names(query.list)[i],\n",
    "          cell_type = md$predicted.id,\n",
    "          cell_type_pred_score = md$prediction.score.max\n",
    "          )\n",
    "    tmp$cell_type_hiconf_70 = tmp$cell_type\n",
    "    tmp$cell_type_hiconf_70[tmp$cell_type_pred_score<pred_thr] = 'Unknown'\n",
    "\n",
    "    cell.annot[[i]] = tmp\n",
    "}\n",
    "\n",
    "# Sanger MO samples:\n",
    "write.table(\n",
    "            rbind(cell.annot[[1]]),\n",
    "            file='rna_qc/10xmerged__seurat_annotations.txt',\n",
    "            sep='\\t', row.names=FALSE, quote=FALSE\n",
    "            )"
   ]
  },
  {
   "cell_type": "markdown",
   "id": "d6882877-88f0-4d8d-b507-6a2e0b52d0b9",
   "metadata": {
    "tags": []
   },
   "source": [
    "# filtered and merged cells"
   ]
  },
  {
   "cell_type": "code",
   "execution_count": null,
   "id": "4dafd239-67db-41b4-a3b9-161565935712",
   "metadata": {
    "tags": []
   },
   "outputs": [],
   "source": [
    "\n",
    "\n",
    "library(Seurat)\n",
    "library(anndata)\n",
    "\n",
    "\n",
    "\n",
    "##################################################\n",
    "### query data:\n",
    "\n",
    "f_gex = list(\n",
    "merged = '/lustre1/project/stg_00090/scatac_benchmark/full_5_cellranger/rna_qc/filteredandmerged__adata.raw.h5'\n",
    ")\n",
    "\n",
    "query.list = list()\n",
    "for(i in 1:length(f_gex)) {\n",
    "    data <- read_h5ad(f_gex[[i]])\n",
    "    data <- CreateSeuratObject(counts = t(as.data.frame(data$X)), meta.data = data$obs)\n",
    "    # if(is.list(tmp_h5)) {\n",
    "    #     query.list[[i]] = CreateSeuratObject(tmp_h5$`Gene Expression`)\n",
    "    # } else {\n",
    "    #     query.list[[i]] = CreateSeuratObject(tmp_h5)\n",
    "    # }\n",
    "    data = NormalizeData(data)\n",
    "    all.genes <- rownames(data)\n",
    "    data <- ScaleData(data, features = all.genes)\n",
    "    query.list[[i]] = FindVariableFeatures(data, selection.method = \"vst\", nfeatures = 2000, verbose = FALSE)\n",
    "}\n",
    "\n",
    "\n",
    "names(query.list) = names(f_gex)\n",
    "\n",
    "##################################################\n",
    "# transfer\n",
    "\n",
    "pbmc.integrated <- readRDS('../0_resources/seurat_references/pbmc_ssc_mat__integrated.rds')\n",
    "\n",
    "for(i in 1:length(query.list)) {\n",
    "    transfer.anchors <- FindTransferAnchors(reference=pbmc.integrated, query=query.list[[i]], dims=1:30, reference.reduction=\"pca\")\n",
    "    predictions <- TransferData(anchorset=transfer.anchors, refdata=pbmc.integrated$CellType, dims=1:30)\n",
    "    query.list[[i]] = AddMetaData(query.list[[i]], metadata = predictions)\n",
    "}"
   ]
  },
  {
   "cell_type": "code",
   "execution_count": null,
   "id": "7ec3160f-88b9-4c4c-a7b4-f78399be494c",
   "metadata": {
    "tags": []
   },
   "outputs": [],
   "source": [
    "get_difference_to_next_prediction_score = function(x) {\n",
    "    y = x[,grep('prediction.score',colnames(x))]\n",
    "    xcols = grep('prediction.score',colnames(x))\n",
    "    xcols = xcols[ 1:(length(xcols)-1) ]\n",
    "    pred_score_next = numeric(nrow(x))\n",
    "    for(i in 1:nrow(x)) {\n",
    "        pred_score_next[i] = sort(x$prediction.score.max[i] - as.numeric(x[i,xcols]))[2]\n",
    "    }\n",
    "    return(pred_score_next)\n",
    "}\n",
    "\n",
    "pred_thr = 0.7\n",
    "diff_thr = 0.1\n",
    "for(i in 1:length(query.list)) {\n",
    "    query.list[[i]]@meta.data$diff_to_next_pred_score =\n",
    "        get_difference_to_next_prediction_score(query.list[[i]]@meta.data)\n",
    "    pf = (query.list[[i]]$prediction.score.max>pred_thr) & (query.list[[i]]$diff_to_next_pred_score>diff_thr)\n",
    "    cat(names(query.list)[i],\": \",\n",
    "        length(query.list[[i]]$prediction.score.max), \" | \",\n",
    "        sum(query.list[[i]]$prediction.score.max>=pred_thr), \"> \",pred_thr,\" | \",\n",
    "        sum(query.list[[i]]$diff_to_next_pred_score>=diff_thr), \"> \",diff_thr,\" | both:\",\n",
    "        sum(pf), \" \", sum(pf)/length(pf), \"\\n\")\n",
    "}"
   ]
  },
  {
   "cell_type": "markdown",
   "id": "e9dc60bc-1b22-4374-b18c-6c64747b8017",
   "metadata": {
    "tags": []
   },
   "source": [
    "CNA_10xmultiome_1 :  6664  |  2154 >  0.7  |  5351 >  0.1  | both: 2154   0.3232293\n",
    "CNA_10xmultiome_2 :  6661  |  505 >  0.7  |  3180 >  0.1  | both: 505   0.07581444\n",
    "SAN_10xmultiome_1 :  3587  |  341 >  0.7  |  2330 >  0.1  | both: 341   0.09506551\n",
    "SAN_10xmultiome_2 :  3587  |  341 >  0.7  |  2330 >  0.1  | both: 341   0.09506551\n",
    "VIB_10xmultiome_1 :  1346  |  124 >  0.7  |  1179 >  0.1  | both: 124   0.09212481\n",
    "VIB_10xmultiome_1 :  1346  |  124 >  0.7  |  1179 >  0.1  | both: 124   0.09212481"
   ]
  },
  {
   "cell_type": "code",
   "execution_count": null,
   "id": "a4178f77-e4e3-421c-8fe7-1910ecb82bfd",
   "metadata": {
    "tags": []
   },
   "outputs": [],
   "source": [
    "cell.annot = list()\n",
    "for(i in 1:length(query.list)) {\n",
    "    md = query.list[[i]]@meta.data\n",
    "\n",
    "    tmp = data.frame(\n",
    "          composite_sample_id = paste0(rownames(md),'___',names(query.list)[i]),\n",
    "          barcode = rownames(md),\n",
    "          sample_id = names(query.list)[i],\n",
    "          cell_type = md$predicted.id,\n",
    "          cell_type_pred_score = md$prediction.score.max\n",
    "          )\n",
    "    tmp$cell_type_hiconf_70 = tmp$cell_type\n",
    "    tmp$cell_type_hiconf_70[tmp$cell_type_pred_score<pred_thr] = 'Unknown'\n",
    "\n",
    "    cell.annot[[i]] = tmp\n",
    "}\n",
    "\n",
    "# Sanger MO samples:\n",
    "write.table(\n",
    "            rbind(cell.annot[[1]]),\n",
    "            file='rna_qc/filteredandmerged__seurat_annotations.txt',\n",
    "            sep='\\t', row.names=FALSE, quote=FALSE\n",
    "            )"
   ]
  }
 ],
 "metadata": {
  "kernelspec": {
   "display_name": "Bash",
   "language": "bash",
   "name": "bash"
  },
  "language_info": {
   "codemirror_mode": "shell",
   "file_extension": ".sh",
   "mimetype": "text/x-sh",
   "name": "bash"
  }
 },
 "nbformat": 4,
 "nbformat_minor": 5
}

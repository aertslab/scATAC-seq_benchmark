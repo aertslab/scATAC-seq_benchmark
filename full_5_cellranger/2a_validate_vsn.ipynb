{
 "cells": [
  {
   "cell_type": "code",
   "execution_count": 4,
   "id": "c6e97475",
   "metadata": {
    "execution": {
     "iopub.execute_input": "2022-12-05T10:26:40.195359Z",
     "iopub.status.busy": "2022-12-05T10:26:40.194726Z",
     "iopub.status.idle": "2022-12-05T10:26:40.491563Z",
     "shell.execute_reply": "2022-12-05T10:26:40.489904Z",
     "shell.execute_reply.started": "2022-12-05T10:26:40.195313Z"
    },
    "tags": []
   },
   "outputs": [
    {
     "name": "stdout",
     "output_type": "stream",
     "text": [
      "usage: calculate_jaccard_index_cbs_10x_compare.py [-h] --vsn\n",
      "                                                  VSN_ATAC_FRAGMENTS_TSV_FILENAME\n",
      "                                                  [--cellranger-atac CELLRANGER_ATAC_FRAGMENTS_TSV_FILENAME]\n",
      "                                                  [--cellranger-arc CELLRANGER_ARC_FRAGMENTS_TSV_FILENAME]\n",
      "                                                  --barcodes\n",
      "                                                  VSN_ATAC_BARCODES_TSV_FILENAME\n",
      "                                                  -o\n",
      "                                                  CB1_VS_CB2_JACCARD_TSV_FILENAME\n",
      "                                                  [-c CHROMOSOMES]\n",
      "calculate_jaccard_index_cbs_10x_compare.py: error: the following arguments are required: --vsn, --barcodes, -o/--output\n"
     ]
    },
    {
     "ename": "",
     "evalue": "2",
     "output_type": "error",
     "traceback": []
    }
   ],
   "source": [
    "../0_resources/scripts_ghuls/calculate_jaccard_index_cbs_10x_compare.py"
   ]
  },
  {
   "cell_type": "code",
   "execution_count": 5,
   "id": "ba5ab8fb",
   "metadata": {
    "execution": {
     "iopub.execute_input": "2022-12-05T10:26:40.743993Z",
     "iopub.status.busy": "2022-12-05T10:26:40.743403Z",
     "iopub.status.idle": "2022-12-05T10:26:41.033796Z",
     "shell.execute_reply": "2022-12-05T10:26:41.032171Z",
     "shell.execute_reply.started": "2022-12-05T10:26:40.743947Z"
    },
    "tags": []
   },
   "outputs": [
    {
     "name": "stdout",
     "output_type": "stream",
     "text": [
      "usage: calculate_jaccard_index_cbs_10x_compare.py [-h] --vsn\n",
      "                                                  VSN_ATAC_FRAGMENTS_TSV_FILENAME\n",
      "                                                  [--cellranger-atac CELLRANGER_ATAC_FRAGMENTS_TSV_FILENAME]\n",
      "                                                  [--cellranger-arc CELLRANGER_ARC_FRAGMENTS_TSV_FILENAME]\n",
      "                                                  --barcodes\n",
      "                                                  VSN_ATAC_BARCODES_TSV_FILENAME\n",
      "                                                  -o\n",
      "                                                  CB1_VS_CB2_JACCARD_TSV_FILENAME\n",
      "                                                  [-c CHROMOSOMES]\n",
      "calculate_jaccard_index_cbs_10x_compare.py: error: the following arguments are required: --vsn, --barcodes, -o/--output\n"
     ]
    },
    {
     "ename": "",
     "evalue": "2",
     "output_type": "error",
     "traceback": []
    }
   ],
   "source": [
    "/lustre1/project/stg_00090/scatac_benchmark/0_resources/scripts_ghuls/calculate_jaccard_index_cbs_10x_compare.py"
   ]
  },
  {
   "cell_type": "code",
   "execution_count": 13,
   "id": "4cf8dcfe",
   "metadata": {
    "collapsed": true,
    "execution": {
     "iopub.execute_input": "2022-12-01T18:56:57.260993Z",
     "iopub.status.busy": "2022-12-01T18:56:57.260358Z",
     "iopub.status.idle": "2022-12-01T19:12:18.277616Z",
     "shell.execute_reply": "2022-12-01T19:12:18.276254Z",
     "shell.execute_reply.started": "2022-12-01T18:56:57.260945Z"
    },
    "jupyter": {
     "outputs_hidden": true
    },
    "tags": []
   },
   "outputs": [
    {
     "name": "stdout",
     "output_type": "stream",
     "text": [
      "../1_data_repository/full_fragments/CNA_10xmultiome_1.FULL.fragments.tsv.gz\n",
      "CNA_10xmultiome_1\n",
      "Reading fragments file \"/lustre1/project/stg_00090/scatac_benchmark/full_1_vsn_preprocessing/full_preprocessing_out/data/fragments/CNA_10xmultiome_1.FULL.fragments.raw.tsv.gz\" ...\n",
      "Keeping chromosomes: chr1, chr10, chr11, chr12, chr13, chr14, chr15, chr16, chr17, chr18, chr19, chr2, chr20, chr21, chr22, chr3, chr4, chr5, chr6, chr7, chr8, chr9, chrX, chrY\n",
      "Reading fragments file \"/lustre1/project/stg_00090/scatac_benchmark/full_5_cellranger_arc/CNA_10xmultiome_1/outs/atac_fragments.tsv.gz\" ...\n",
      "Keeping chromosomes: \n",
      "Calculate Jaccard index for CB pairs based on their common fragments ...\n",
      "Write Jaccard index for CB pairs based on their common fragments to \"CNA_10xmultiome_1.vsn_cr_jaccard.tsv\" ...\n",
      "../1_data_repository/full_fragments/CNA_10xmultiome_2.FULL.fragments.tsv.gz\n",
      "CNA_10xmultiome_2\n",
      "Reading fragments file \"/lustre1/project/stg_00090/scatac_benchmark/full_1_vsn_preprocessing/full_preprocessing_out/data/fragments/CNA_10xmultiome_2.FULL.fragments.raw.tsv.gz\" ...\n",
      "Keeping chromosomes: chr1, chr10, chr11, chr12, chr13, chr14, chr15, chr16, chr17, chr18, chr19, chr2, chr20, chr21, chr22, chr3, chr4, chr5, chr6, chr7, chr8, chr9, chrX, chrY\n",
      "Reading fragments file \"/lustre1/project/stg_00090/scatac_benchmark/full_5_cellranger_arc/CNA_10xmultiome_2/outs/atac_fragments.tsv.gz\" ...\n",
      "Keeping chromosomes: \n",
      "Calculate Jaccard index for CB pairs based on their common fragments ...\n",
      "Write Jaccard index for CB pairs based on their common fragments to \"CNA_10xmultiome_2.vsn_cr_jaccard.tsv\" ...\n",
      "../1_data_repository/full_fragments/SAN_10xmultiome_1.FULL.fragments.tsv.gz\n",
      "SAN_10xmultiome_1\n",
      "Reading fragments file \"/lustre1/project/stg_00090/scatac_benchmark/full_1_vsn_preprocessing/full_preprocessing_out/data/fragments/SAN_10xmultiome_1.FULL.fragments.raw.tsv.gz\" ...\n",
      "Keeping chromosomes: chr1, chr10, chr11, chr12, chr13, chr14, chr15, chr16, chr17, chr18, chr19, chr2, chr20, chr21, chr22, chr3, chr4, chr5, chr6, chr7, chr8, chr9, chrX, chrY\n",
      "Reading fragments file \"/lustre1/project/stg_00090/scatac_benchmark/full_5_cellranger_arc/SAN_10xmultiome_1/outs/atac_fragments.tsv.gz\" ...\n",
      "Keeping chromosomes: chr1, chr10, chr11, chr12, chr13, chr14, chr15, chr16, chr17, chr18, chr19, chr2, chr20, chr21, chr22, chr3, chr4, chr5, chr6, chr7, chr8, chr9, chrX, chrY\n",
      "Calculate Jaccard index for CB pairs based on their common fragments ...\n",
      "Write Jaccard index for CB pairs based on their common fragments to \"SAN_10xmultiome_1.vsn_cr_jaccard.tsv\" ...\n",
      "../1_data_repository/full_fragments/SAN_10xmultiome_2.FULL.fragments.tsv.gz\n",
      "SAN_10xmultiome_2\n",
      "Reading fragments file \"/lustre1/project/stg_00090/scatac_benchmark/full_1_vsn_preprocessing/full_preprocessing_out/data/fragments/SAN_10xmultiome_2.FULL.fragments.raw.tsv.gz\" ...\n",
      "Keeping chromosomes: chr1, chr10, chr11, chr12, chr13, chr14, chr15, chr16, chr17, chr18, chr19, chr2, chr20, chr21, chr22, chr3, chr4, chr5, chr6, chr7, chr8, chr9, chrX, chrY\n",
      "Reading fragments file \"/lustre1/project/stg_00090/scatac_benchmark/full_5_cellranger_arc/SAN_10xmultiome_2/outs/atac_fragments.tsv.gz\" ...\n",
      "Keeping chromosomes: chr1, chr10, chr11, chr12, chr13, chr14, chr15, chr16, chr17, chr18, chr19, chr2, chr20, chr21, chr22, chr3, chr4, chr5, chr6, chr7, chr8, chr9, chrX, chrY\n",
      "Calculate Jaccard index for CB pairs based on their common fragments ...\n",
      "Write Jaccard index for CB pairs based on their common fragments to \"SAN_10xmultiome_2.vsn_cr_jaccard.tsv\" ...\n",
      "../1_data_repository/full_fragments/VIB_10xmultiome_1.FULL.fragments.tsv.gz\n",
      "VIB_10xmultiome_1\n",
      "Reading fragments file \"/lustre1/project/stg_00090/scatac_benchmark/full_1_vsn_preprocessing/full_preprocessing_out/data/fragments/VIB_10xmultiome_1.FULL.fragments.raw.tsv.gz\" ...\n",
      "Keeping chromosomes: chr1, chr10, chr11, chr12, chr13, chr14, chr15, chr16, chr17, chr18, chr19, chr2, chr20, chr21, chr22, chr3, chr4, chr5, chr6, chr7, chr8, chr9, chrX, chrY\n",
      "Reading fragments file \"/lustre1/project/stg_00090/scatac_benchmark/full_5_cellranger_arc/VIB_10xmultiome_1/outs/atac_fragments.tsv.gz\" ...\n",
      "Keeping chromosomes: \n",
      "Calculate Jaccard index for CB pairs based on their common fragments ...\n",
      "Write Jaccard index for CB pairs based on their common fragments to \"VIB_10xmultiome_1.vsn_cr_jaccard.tsv\" ...\n",
      "../1_data_repository/full_fragments/VIB_10xmultiome_2.FULL.fragments.tsv.gz\n",
      "VIB_10xmultiome_2\n",
      "Reading fragments file \"/lustre1/project/stg_00090/scatac_benchmark/full_1_vsn_preprocessing/full_preprocessing_out/data/fragments/VIB_10xmultiome_2.FULL.fragments.raw.tsv.gz\" ...\n",
      "Keeping chromosomes: chr1, chr10, chr11, chr12, chr13, chr14, chr15, chr16, chr17, chr18, chr19, chr2, chr20, chr21, chr22, chr3, chr4, chr5, chr6, chr7, chr8, chr9, chrX, chrY\n",
      "Reading fragments file \"/lustre1/project/stg_00090/scatac_benchmark/full_5_cellranger_arc/VIB_10xmultiome_2/outs/atac_fragments.tsv.gz\" ...\n",
      "Keeping chromosomes: \n",
      "Calculate Jaccard index for CB pairs based on their common fragments ...\n",
      "Write Jaccard index for CB pairs based on their common fragments to \"VIB_10xmultiome_2.vsn_cr_jaccard.tsv\" ...\n"
     ]
    }
   ],
   "source": [
    "for vsn_fragments in ../1_data_repository/full_fragments/*multiome*.tsv.gz\n",
    "do\n",
    "    echo $vsn_fragments\n",
    "    sample=(`basename $vsn_fragments`)\n",
    "    sample=(${sample//./ })\n",
    "    sample=${sample[0]}\n",
    "    echo $sample\n",
    "    ../0_resources/scripts_ghuls/calculate_jaccard_index_cbs_10x_compare.py \\\n",
    "        --vsn /lustre1/project/stg_00090/scatac_benchmark/full_1_vsn_preprocessing/full_preprocessing_out/data/fragments/$sample.FULL.fragments.raw.tsv.gz \\\n",
    "        --cellranger-arc /lustre1/project/stg_00090/scatac_benchmark/full_5_cellranger/$sample/outs/atac_fragments.tsv.gz \\\n",
    "        --barcodes /lustre1/project/stg_00090/scatac_benchmark/full_2_cistopic/selected_barcodes/$sample.FULL_bc_passing_filters_otsu.RAW.txt \\\n",
    "        -c '^(chr)?([0-9]+|[XY])$' \\\n",
    "        -o validation/$sample.vsn_cr_jaccard.tsv &\n",
    "done"
   ]
  },
  {
   "cell_type": "code",
   "execution_count": 2,
   "id": "ea2d3ecf",
   "metadata": {
    "execution": {
     "iopub.execute_input": "2022-12-03T14:12:11.429141Z",
     "iopub.status.busy": "2022-12-03T14:12:11.428509Z",
     "iopub.status.idle": "2022-12-03T14:12:11.998360Z",
     "shell.execute_reply": "2022-12-03T14:12:11.997078Z",
     "shell.execute_reply.started": "2022-12-03T14:12:11.429094Z"
    }
   },
   "outputs": [
    {
     "name": "stdout",
     "output_type": "stream",
     "text": [
      "../1_data_repository/full_fragments/CNA_10xv11_1.FULL.fragments.tsv.gz\n",
      "CNA_10xv11_1\n",
      "../1_data_repository/full_fragments/CNA_10xv11_2.FULL.fragments.tsv.gz\n",
      "CNA_10xv11_2\n",
      "../1_data_repository/full_fragments/CNA_10xv11_3.FULL.fragments.tsv.gz\n",
      "CNA_10xv11_3\n",
      "../1_data_repository/full_fragments/CNA_10xv11_4.FULL.fragments.tsv.gz\n",
      "CNA_10xv11_4\n",
      "../1_data_repository/full_fragments/CNA_10xv11_5.FULL.fragments.tsv.gz\n",
      "CNA_10xv11_5\n",
      "../1_data_repository/full_fragments/CNA_10xv2_1.FULL.fragments.tsv.gz\n",
      "CNA_10xv2_1\n",
      "../1_data_repository/full_fragments/CNA_10xv2_2.FULL.fragments.tsv.gz\n",
      "CNA_10xv2_2\n",
      "../1_data_repository/full_fragments/STA_10xv11_1.FULL.fragments.tsv.gz\n",
      "STA_10xv11_1\n",
      "../1_data_repository/full_fragments/STA_10xv11_2.FULL.fragments.tsv.gz\n",
      "STA_10xv11_2\n",
      "../1_data_repository/full_fragments/TXG_10xv11_1.FULL.fragments.tsv.gz\n",
      "TXG_10xv11_1\n",
      "../1_data_repository/full_fragments/TXG_10xv2_1.FULL.fragments.tsv.gz\n",
      "TXG_10xv2_1\n",
      "../1_data_repository/full_fragments/TXG_10xv2_2.FULL.fragments.tsv.gz\n",
      "TXG_10xv2_2\n",
      "../1_data_repository/full_fragments/VIB_10xv1_1.FULL.fragments.tsv.gz\n",
      "VIB_10xv1_1\n",
      "../1_data_repository/full_fragments/VIB_10xv1_2.FULL.fragments.tsv.gz\n",
      "VIB_10xv1_2\n",
      "../1_data_repository/full_fragments/VIB_10xv2_1.FULL.fragments.tsv.gz\n",
      "VIB_10xv2_1\n",
      "../1_data_repository/full_fragments/VIB_10xv2_2.FULL.fragments.tsv.gz\n",
      "VIB_10xv2_2\n"
     ]
    }
   ],
   "source": [
    "for vsn_fragments in ../1_data_repository/full_fragments/*10xv*.tsv.gz\n",
    "do\n",
    "    echo $vsn_fragments\n",
    "    sample=(`basename $vsn_fragments`)\n",
    "    sample=(${sample//./ })\n",
    "    sample=${sample[0]}\n",
    "    echo $sample\n",
    "    ../0_resources/scripts_ghuls/calculate_jaccard_index_cbs_10x_compare.py \\\n",
    "        --vsn /lustre1/project/stg_00090/scatac_benchmark/full_1_vsn_preprocessing/full_preprocessing_out/data/fragments/$sample.FULL.fragments.raw.tsv.gz \\\n",
    "        --cellranger-atac /lustre1/project/stg_00090/scatac_benchmark/full_5_cellranger/$sample/outs/fragments.tsv.gz \\\n",
    "        --barcodes /lustre1/project/stg_00090/scatac_benchmark/full_2_cistopic/selected_barcodes/$sample.FULL_bc_passing_filters_otsu.RAW.txt \\\n",
    "        -c '^(chr)?([0-9]+|[XY])$' \\\n",
    "        -o validation/$sample.vsn_cr_jaccard.tsv &\n",
    "done"
   ]
  },
  {
   "cell_type": "code",
   "execution_count": null,
   "id": "6bebbaf3",
   "metadata": {},
   "outputs": [],
   "source": []
  }
 ],
 "metadata": {
  "kernelspec": {
   "display_name": "Bash",
   "language": "bash",
   "name": "bash"
  },
  "language_info": {
   "codemirror_mode": "shell",
   "file_extension": ".sh",
   "mimetype": "text/x-sh",
   "name": "bash"
  }
 },
 "nbformat": 4,
 "nbformat_minor": 5
}

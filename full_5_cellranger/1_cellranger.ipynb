{
 "cells": [
  {
   "cell_type": "code",
   "execution_count": null,
   "id": "9f484f2f",
   "metadata": {
    "execution": {
     "iopub.execute_input": "2023-03-09T08:27:33.108471Z",
     "iopub.status.busy": "2023-03-09T08:27:33.107641Z",
     "iopub.status.idle": "2023-03-09T08:27:33.782218Z",
     "shell.execute_reply": "2023-03-09T08:27:33.780917Z",
     "shell.execute_reply.started": "2023-03-09T08:27:33.108412Z"
    },
    "tags": []
   },
   "outputs": [],
   "source": [
    "import os\n",
    "import glob\n",
    "\n",
    "%load_ext lab_black"
   ]
  },
  {
   "cell_type": "code",
   "execution_count": null,
   "id": "aaa31e3a",
   "metadata": {
    "execution": {
     "iopub.execute_input": "2023-03-09T08:32:03.993011Z",
     "iopub.status.busy": "2023-03-09T08:32:03.992252Z",
     "iopub.status.idle": "2023-03-09T08:32:04.012290Z",
     "shell.execute_reply": "2023-03-09T08:32:04.011031Z",
     "shell.execute_reply.started": "2023-03-09T08:32:03.992953Z"
    },
    "tags": []
   },
   "outputs": [
    {
     "data": {
      "text/plain": [
       "['CNA_10xmultiomerna_1',\n",
       " 'CNA_10xmultiomerna_2',\n",
       " 'SAN_10xmultiomerna_1',\n",
       " 'SAN_10xmultiomerna_2',\n",
       " 'VIB_10xmultiomerna_1',\n",
       " 'VIB_10xmultiomerna_2']"
      ]
     },
     "execution_count": 2,
     "metadata": {},
     "output_type": "execute_result"
    }
   ],
   "source": [
    "samples = sorted(\n",
    "    list(\n",
    "        set(\n",
    "            [\n",
    "                x.split(\"/\")[-1].split(\"_S\")[0]\n",
    "                for x in sorted(\n",
    "                    glob.glob(\"../1_data_repository/full_fastq_multiome/rna/*\")\n",
    "                )\n",
    "            ]\n",
    "        )\n",
    "    )\n",
    ")\n",
    "samples"
   ]
  },
  {
   "cell_type": "code",
   "execution_count": 11,
   "id": "ebf8d855",
   "metadata": {
    "execution": {
     "iopub.execute_input": "2023-03-10T12:37:18.019022Z",
     "iopub.status.busy": "2023-03-10T12:37:18.018157Z",
     "iopub.status.idle": "2023-03-10T12:37:18.037526Z",
     "shell.execute_reply": "2023-03-10T12:37:18.036072Z",
     "shell.execute_reply.started": "2023-03-10T12:37:18.018962Z"
    },
    "tags": []
   },
   "outputs": [],
   "source": [
    "fastq_repo = (\n",
    "    \"/lustre1/project/stg_00090/scatac_benchmark/1_data_repository/full_fastq_multiome\"\n",
    ")\n",
    "with open(\"libraries.csv\", \"w\") as f:\n",
    "    f.write(\"fastqs,sample,library_type\\n\")\n",
    "    for sample in samples:\n",
    "        # print(sample)\n",
    "        f.write(\n",
    "            f\"{fastq_repo}/rna/,{sample.replace('multiome','multiomerna')},Gene Expression\\n\"\n",
    "        )\n",
    "        f.write(\n",
    "            f\"{fastq_repo}/atac/,{sample.replace('multiome','multiomeatac')},Chromatin Accessibility\\n\"\n",
    "        )"
   ]
  },
  {
   "cell_type": "code",
   "execution_count": 12,
   "id": "6a0c37e2",
   "metadata": {
    "execution": {
     "iopub.execute_input": "2023-03-10T12:37:18.754250Z",
     "iopub.status.busy": "2023-03-10T12:37:18.753481Z",
     "iopub.status.idle": "2023-03-10T12:37:18.910629Z",
     "shell.execute_reply": "2023-03-10T12:37:18.908851Z",
     "shell.execute_reply.started": "2023-03-10T12:37:18.754192Z"
    },
    "tags": []
   },
   "outputs": [
    {
     "name": "stdout",
     "output_type": "stream",
     "text": [
      "fastqs,sample,library_type\n",
      "/lustre1/project/stg_00090/scatac_benchmark/1_data_repository/full_fastq_multiome/rna/,CNA_10xmultiomernarna_1,Gene Expression\n",
      "/lustre1/project/stg_00090/scatac_benchmark/1_data_repository/full_fastq_multiome/atac/,CNA_10xmultiomeatacrna_1,Chromatin Accessibility\n",
      "/lustre1/project/stg_00090/scatac_benchmark/1_data_repository/full_fastq_multiome/rna/,CNA_10xmultiomernarna_2,Gene Expression\n",
      "/lustre1/project/stg_00090/scatac_benchmark/1_data_repository/full_fastq_multiome/atac/,CNA_10xmultiomeatacrna_2,Chromatin Accessibility\n",
      "/lustre1/project/stg_00090/scatac_benchmark/1_data_repository/full_fastq_multiome/rna/,SAN_10xmultiomernarna_1,Gene Expression\n",
      "/lustre1/project/stg_00090/scatac_benchmark/1_data_repository/full_fastq_multiome/atac/,SAN_10xmultiomeatacrna_1,Chromatin Accessibility\n",
      "/lustre1/project/stg_00090/scatac_benchmark/1_data_repository/full_fastq_multiome/rna/,SAN_10xmultiomernarna_2,Gene Expression\n",
      "/lustre1/project/stg_00090/scatac_benchmark/1_data_repository/full_fastq_multiome/atac/,SAN_10xmultiomeatacrna_2,Chromatin Accessibility\n",
      "/lustre1/project/stg_00090/scatac_benchmark/1_data_repository/full_fastq_multiome/rna/,VIB_10xmultiomernarna_1,Gene Expression\n",
      "/lustre1/project/stg_00090/scatac_benchmark/1_data_repository/full_fastq_multiome/atac/,VIB_10xmultiomeatacrna_1,Chromatin Accessibility\n",
      "/lustre1/project/stg_00090/scatac_benchmark/1_data_repository/full_fastq_multiome/rna/,VIB_10xmultiomernarna_2,Gene Expression\n",
      "/lustre1/project/stg_00090/scatac_benchmark/1_data_repository/full_fastq_multiome/atac/,VIB_10xmultiomeatacrna_2,Chromatin Accessibility\n"
     ]
    }
   ],
   "source": [
    "!cat libraries.csv"
   ]
  },
  {
   "cell_type": "markdown",
   "id": "8a0779c2",
   "metadata": {},
   "source": [
    "## Command"
   ]
  },
  {
   "cell_type": "markdown",
   "id": "a22fea80",
   "metadata": {
    "execution": {
     "iopub.execute_input": "2022-10-26T14:30:47.229595Z",
     "iopub.status.busy": "2022-10-26T14:30:47.228684Z",
     "iopub.status.idle": "2022-10-26T14:30:47.245883Z",
     "shell.execute_reply": "2022-10-26T14:30:47.243668Z",
     "shell.execute_reply.started": "2022-10-26T14:30:47.229528Z"
    }
   },
   "source": [
    "```\n",
    "module load CellRanger-ARC/2.0.2\n",
    "cellranger-arc count --id=multiome_full \\\n",
    "                   --reference=/lustre1/project/stg_00090/scatac_benchmark/0_resources/genomes/hg38_cflerin_cellranger_arc/GRCh38 \\\n",
    "                   --libraries=/lustre1/project/stg_00090/scatac_benchmark/full_5_cellranger_arc/libraries.csv \\\n",
    "                   --localcores=32 \\\n",
    "                   --localmem=256\n",
    "```"
   ]
  },
  {
   "cell_type": "markdown",
   "id": "f874145d",
   "metadata": {},
   "source": [
    "# cellranger_atac"
   ]
  },
  {
   "cell_type": "code",
   "execution_count": 14,
   "id": "0d350041",
   "metadata": {
    "execution": {
     "iopub.execute_input": "2022-10-26T14:23:43.855767Z",
     "iopub.status.busy": "2022-10-26T14:23:43.854919Z",
     "iopub.status.idle": "2022-10-26T14:23:43.872169Z",
     "shell.execute_reply": "2022-10-26T14:23:43.870745Z",
     "shell.execute_reply.started": "2022-10-26T14:23:43.855706Z"
    },
    "tags": []
   },
   "outputs": [],
   "source": [
    "command = f\"cellranger-atac count --id={sample} --reference=/lustre1/project/stg_00090/scatac_benchmark/0_resources/genomes/hg38_cflerin_cellranger_arc/GRCh38 --fastqs=/home/jdoe/runs/HAWT7ADXX/outs/fastq_path --sample={sample} --localcores=36 --localmem=512\""
   ]
  },
  {
   "cell_type": "code",
   "execution_count": 7,
   "id": "bd949e5f",
   "metadata": {
    "execution": {
     "iopub.execute_input": "2022-12-02T14:34:26.078855Z",
     "iopub.status.busy": "2022-12-02T14:34:26.077974Z",
     "iopub.status.idle": "2022-12-02T14:34:26.101320Z",
     "shell.execute_reply": "2022-12-02T14:34:26.099955Z",
     "shell.execute_reply.started": "2022-12-02T14:34:26.078791Z"
    },
    "tags": []
   },
   "outputs": [
    {
     "data": {
      "text/plain": [
       "['CNA_10xv11_1',\n",
       " 'CNA_10xv11_2',\n",
       " 'CNA_10xv11_3',\n",
       " 'CNA_10xv11_4',\n",
       " 'CNA_10xv11_5',\n",
       " 'CNA_10xv2_1',\n",
       " 'CNA_10xv2_2',\n",
       " 'STA_10xv11_1',\n",
       " 'STA_10xv11_2',\n",
       " 'TXG_10xv11_1',\n",
       " 'TXG_10xv2_1',\n",
       " 'TXG_10xv2_2',\n",
       " 'VIB_10xv11_1',\n",
       " 'VIB_10xv1_1',\n",
       " 'VIB_10xv1_2',\n",
       " 'VIB_10xv2_1',\n",
       " 'VIB_10xv2_2']"
      ]
     },
     "execution_count": 7,
     "metadata": {},
     "output_type": "execute_result"
    }
   ],
   "source": [
    "samples = sorted(\n",
    "    set(\n",
    "        [\n",
    "            x.split(\"/\")[-1].split(\"_S1\")[0]\n",
    "            for x in sorted(glob.glob(\"../1_data_repository/full_fastq_cr/*\"))\n",
    "        ]\n",
    "    )\n",
    ")\n",
    "samples"
   ]
  },
  {
   "cell_type": "code",
   "execution_count": 10,
   "id": "23e0f4bd",
   "metadata": {
    "execution": {
     "iopub.execute_input": "2022-12-02T14:44:15.635097Z",
     "iopub.status.busy": "2022-12-02T14:44:15.634213Z",
     "iopub.status.idle": "2022-12-02T14:44:15.659291Z",
     "shell.execute_reply": "2022-12-02T14:44:15.657732Z",
     "shell.execute_reply.started": "2022-12-02T14:44:15.635035Z"
    },
    "tags": []
   },
   "outputs": [
    {
     "name": "stdout",
     "output_type": "stream",
     "text": [
      "cellranger-atac count --id CNA_10xv11_1 --reference /lustre1/project/stg_00090/scatac_benchmark/0_resources/genomes/hg38_cflerin_cellranger_arc/GRCh38 --fastqs /lustre1/project/stg_00090/scatac_benchmark/1_data_repository/full_fastq_cr/ --sample CNA_10xv11_1 --localcores=36 --localmem=512\n",
      "\n",
      "cellranger-atac count --id CNA_10xv11_2 --reference /lustre1/project/stg_00090/scatac_benchmark/0_resources/genomes/hg38_cflerin_cellranger_arc/GRCh38 --fastqs /lustre1/project/stg_00090/scatac_benchmark/1_data_repository/full_fastq_cr/ --sample CNA_10xv11_2 --localcores=36 --localmem=512\n",
      "\n",
      "cellranger-atac count --id CNA_10xv11_3 --reference /lustre1/project/stg_00090/scatac_benchmark/0_resources/genomes/hg38_cflerin_cellranger_arc/GRCh38 --fastqs /lustre1/project/stg_00090/scatac_benchmark/1_data_repository/full_fastq_cr/ --sample CNA_10xv11_3 --localcores=36 --localmem=512\n",
      "\n",
      "cellranger-atac count --id CNA_10xv11_4 --reference /lustre1/project/stg_00090/scatac_benchmark/0_resources/genomes/hg38_cflerin_cellranger_arc/GRCh38 --fastqs /lustre1/project/stg_00090/scatac_benchmark/1_data_repository/full_fastq_cr/ --sample CNA_10xv11_4 --localcores=36 --localmem=512\n",
      "\n",
      "cellranger-atac count --id CNA_10xv11_5 --reference /lustre1/project/stg_00090/scatac_benchmark/0_resources/genomes/hg38_cflerin_cellranger_arc/GRCh38 --fastqs /lustre1/project/stg_00090/scatac_benchmark/1_data_repository/full_fastq_cr/ --sample CNA_10xv11_5 --localcores=36 --localmem=512\n",
      "\n",
      "cellranger-atac count --id CNA_10xv2_1 --reference /lustre1/project/stg_00090/scatac_benchmark/0_resources/genomes/hg38_cflerin_cellranger_arc/GRCh38 --fastqs /lustre1/project/stg_00090/scatac_benchmark/1_data_repository/full_fastq_cr/ --sample CNA_10xv2_1 --localcores=36 --localmem=512\n",
      "\n",
      "cellranger-atac count --id CNA_10xv2_2 --reference /lustre1/project/stg_00090/scatac_benchmark/0_resources/genomes/hg38_cflerin_cellranger_arc/GRCh38 --fastqs /lustre1/project/stg_00090/scatac_benchmark/1_data_repository/full_fastq_cr/ --sample CNA_10xv2_2 --localcores=36 --localmem=512\n",
      "\n",
      "cellranger-atac count --id STA_10xv11_1 --reference /lustre1/project/stg_00090/scatac_benchmark/0_resources/genomes/hg38_cflerin_cellranger_arc/GRCh38 --fastqs /lustre1/project/stg_00090/scatac_benchmark/1_data_repository/full_fastq_cr/ --sample STA_10xv11_1 --localcores=36 --localmem=512\n",
      "\n",
      "cellranger-atac count --id STA_10xv11_2 --reference /lustre1/project/stg_00090/scatac_benchmark/0_resources/genomes/hg38_cflerin_cellranger_arc/GRCh38 --fastqs /lustre1/project/stg_00090/scatac_benchmark/1_data_repository/full_fastq_cr/ --sample STA_10xv11_2 --localcores=36 --localmem=512\n",
      "\n",
      "cellranger-atac count --id TXG_10xv11_1 --reference /lustre1/project/stg_00090/scatac_benchmark/0_resources/genomes/hg38_cflerin_cellranger_arc/GRCh38 --fastqs /lustre1/project/stg_00090/scatac_benchmark/1_data_repository/full_fastq_cr/ --sample TXG_10xv11_1 --localcores=36 --localmem=512\n",
      "\n",
      "cellranger-atac count --id TXG_10xv2_1 --reference /lustre1/project/stg_00090/scatac_benchmark/0_resources/genomes/hg38_cflerin_cellranger_arc/GRCh38 --fastqs /lustre1/project/stg_00090/scatac_benchmark/1_data_repository/full_fastq_cr/ --sample TXG_10xv2_1 --localcores=36 --localmem=512\n",
      "\n",
      "cellranger-atac count --id TXG_10xv2_2 --reference /lustre1/project/stg_00090/scatac_benchmark/0_resources/genomes/hg38_cflerin_cellranger_arc/GRCh38 --fastqs /lustre1/project/stg_00090/scatac_benchmark/1_data_repository/full_fastq_cr/ --sample TXG_10xv2_2 --localcores=36 --localmem=512\n",
      "\n",
      "cellranger-atac count --id VIB_10xv11_1 --reference /lustre1/project/stg_00090/scatac_benchmark/0_resources/genomes/hg38_cflerin_cellranger_arc/GRCh38 --fastqs /lustre1/project/stg_00090/scatac_benchmark/1_data_repository/full_fastq_cr/ --sample VIB_10xv11_1 --localcores=36 --localmem=512\n",
      "\n",
      "cellranger-atac count --id VIB_10xv1_1 --reference /lustre1/project/stg_00090/scatac_benchmark/0_resources/genomes/hg38_cflerin_cellranger_arc/GRCh38 --fastqs /lustre1/project/stg_00090/scatac_benchmark/1_data_repository/full_fastq_cr/ --sample VIB_10xv1_1 --localcores=36 --localmem=512\n",
      "\n",
      "cellranger-atac count --id VIB_10xv1_2 --reference /lustre1/project/stg_00090/scatac_benchmark/0_resources/genomes/hg38_cflerin_cellranger_arc/GRCh38 --fastqs /lustre1/project/stg_00090/scatac_benchmark/1_data_repository/full_fastq_cr/ --sample VIB_10xv1_2 --localcores=36 --localmem=512\n",
      "\n",
      "cellranger-atac count --id VIB_10xv2_1 --reference /lustre1/project/stg_00090/scatac_benchmark/0_resources/genomes/hg38_cflerin_cellranger_arc/GRCh38 --fastqs /lustre1/project/stg_00090/scatac_benchmark/1_data_repository/full_fastq_cr/ --sample VIB_10xv2_1 --localcores=36 --localmem=512\n",
      "\n",
      "cellranger-atac count --id VIB_10xv2_2 --reference /lustre1/project/stg_00090/scatac_benchmark/0_resources/genomes/hg38_cflerin_cellranger_arc/GRCh38 --fastqs /lustre1/project/stg_00090/scatac_benchmark/1_data_repository/full_fastq_cr/ --sample VIB_10xv2_2 --localcores=36 --localmem=512\n",
      "\n"
     ]
    }
   ],
   "source": [
    "fastq_repo = (\n",
    "    \"/lustre1/project/stg_00090/scatac_benchmark/1_data_repository/full_fastq_cr/\"\n",
    ")\n",
    "with open(\"cellranger_atac.parallel\", \"w\") as f:\n",
    "    for sample in samples:\n",
    "        command = f\"cellranger-atac count --id {sample} --reference /lustre1/project/stg_00090/scatac_benchmark/0_resources/genomes/hg38_cflerin_cellranger_arc/GRCh38 --fastqs {fastq_repo} --sample {sample} --localcores=36 --localmem=512\\n\"\n",
    "        print(command)\n",
    "        f.write(command)"
   ]
  },
  {
   "cell_type": "markdown",
   "id": "efedbb1b-d475-4640-842f-93f513bd3b83",
   "metadata": {},
   "source": [
    "# cellranger RNA"
   ]
  },
  {
   "cell_type": "code",
   "execution_count": 15,
   "id": "e88e047f-eba0-4609-ba13-e3f96d45a96c",
   "metadata": {
    "execution": {
     "iopub.execute_input": "2023-03-09T08:38:40.243315Z",
     "iopub.status.busy": "2023-03-09T08:38:40.242427Z",
     "iopub.status.idle": "2023-03-09T08:38:40.262270Z",
     "shell.execute_reply": "2023-03-09T08:38:40.260932Z",
     "shell.execute_reply.started": "2023-03-09T08:38:40.243253Z"
    },
    "tags": []
   },
   "outputs": [
    {
     "data": {
      "text/plain": [
       "['CNA_10xscrna_1', 'CNA_10xscrna_2', 'CNA_10xscrna_3']"
      ]
     },
     "execution_count": 15,
     "metadata": {},
     "output_type": "execute_result"
    }
   ],
   "source": [
    "samples = sorted(\n",
    "    set(\n",
    "        [\n",
    "            x.split(\"/\")[-1].split(\"_S1\")[0]\n",
    "            for x in sorted(\n",
    "                glob.glob(\"../1_data_repository/full_fastq_scrna/*10xscrna*\")\n",
    "            )\n",
    "        ]\n",
    "    )\n",
    ")\n",
    "samples"
   ]
  },
  {
   "cell_type": "code",
   "execution_count": 17,
   "id": "fbe736d2-eb07-4fd1-9de4-fab87791ccd4",
   "metadata": {
    "execution": {
     "iopub.execute_input": "2023-03-09T08:43:58.648304Z",
     "iopub.status.busy": "2023-03-09T08:43:58.647425Z",
     "iopub.status.idle": "2023-03-09T08:43:59.385141Z",
     "shell.execute_reply": "2023-03-09T08:43:59.383543Z",
     "shell.execute_reply.started": "2023-03-09T08:43:58.648243Z"
    },
    "tags": []
   },
   "outputs": [
    {
     "name": "stdout",
     "output_type": "stream",
     "text": [
      "cellranger count --id CNA_10xscrna_1 --transcriptome /lustre1/project/res_00001/genomes/10xgenomics/CellRanger/refdata-gex-GRCh38-2020-A --fastqs /lustre1/project/stg_00090/scatac_benchmark/1_data_repository/full_fastq_scrna/ --sample CNA_10xscrna_1 --localcores=36 --localmem=512\n",
      "\n",
      "cellranger count --id CNA_10xscrna_2 --transcriptome /lustre1/project/res_00001/genomes/10xgenomics/CellRanger/refdata-gex-GRCh38-2020-A --fastqs /lustre1/project/stg_00090/scatac_benchmark/1_data_repository/full_fastq_scrna/ --sample CNA_10xscrna_2 --localcores=36 --localmem=512\n",
      "\n",
      "cellranger count --id CNA_10xscrna_3 --transcriptome /lustre1/project/res_00001/genomes/10xgenomics/CellRanger/refdata-gex-GRCh38-2020-A --fastqs /lustre1/project/stg_00090/scatac_benchmark/1_data_repository/full_fastq_scrna/ --sample CNA_10xscrna_3 --localcores=36 --localmem=512\n",
      "\n"
     ]
    }
   ],
   "source": [
    "fastq_repo = (\n",
    "    \"/lustre1/project/stg_00090/scatac_benchmark/1_data_repository/full_fastq_scrna/\"\n",
    ")\n",
    "with open(\"cellranger_rna.parallel\", \"w\") as f:\n",
    "    for sample in samples:\n",
    "        command = f\"cellranger count --id {sample} --transcriptome /lustre1/project/res_00001/genomes/10xgenomics/CellRanger/refdata-gex-GRCh38-2020-A --fastqs {fastq_repo} --sample {sample} --localcores=36 --localmem=512\\n\"\n",
    "        print(command)\n",
    "        f.write(command)"
   ]
  },
  {
   "cell_type": "code",
   "execution_count": null,
   "id": "addb0139-afcd-4120-ab3b-f4c75fa34f6f",
   "metadata": {},
   "outputs": [],
   "source": []
  }
 ],
 "metadata": {
  "kernelspec": {
   "display_name": "20221014_pycistopic.sif",
   "language": "python",
   "name": "cistopic_20221014"
  },
  "language_info": {
   "codemirror_mode": {
    "name": "ipython",
    "version": 3
   },
   "file_extension": ".py",
   "mimetype": "text/x-python",
   "name": "python",
   "nbconvert_exporter": "python",
   "pygments_lexer": "ipython3",
   "version": "3.8.15"
  }
 },
 "nbformat": 4,
 "nbformat_minor": 5
}

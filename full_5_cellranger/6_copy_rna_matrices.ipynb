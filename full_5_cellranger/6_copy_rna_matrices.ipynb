{
 "cells": [
  {
   "cell_type": "code",
   "execution_count": 4,
   "id": "f824cba3-3eb4-4e24-8180-61c0c09e6b81",
   "metadata": {
    "execution": {
     "iopub.execute_input": "2023-11-15T21:17:12.600762Z",
     "iopub.status.busy": "2023-11-15T21:17:12.600523Z",
     "iopub.status.idle": "2023-11-15T21:17:13.140295Z",
     "shell.execute_reply": "2023-11-15T21:17:13.139783Z",
     "shell.execute_reply.started": "2023-11-15T21:17:12.600748Z"
    },
    "tags": []
   },
   "outputs": [],
   "source": [
    "mkdir -p links  # Creates the directory if it doesn't exist\n",
    "\n",
    "for filepath in *multiome*/outs/raw_feature_bc_matrix/*\n",
    "do\n",
    "    sample_name=\"${filepath%%/outs/raw_feature_bc_matrix/*}\"\n",
    "    filename=$(basename \"$filepath\")  # Extracts just the file name\n",
    "    ln -s \"../$filepath\" \"links/${sample_name}.${filename}\"\n",
    "done\n"
   ]
  },
  {
   "cell_type": "code",
   "execution_count": 5,
   "id": "80fe5dd6-3505-4883-b9d8-ad27ec9056f9",
   "metadata": {
    "execution": {
     "iopub.execute_input": "2023-11-15T21:17:32.501421Z",
     "iopub.status.busy": "2023-11-15T21:17:32.501216Z",
     "iopub.status.idle": "2023-11-15T21:17:33.003669Z",
     "shell.execute_reply": "2023-11-15T21:17:33.003193Z",
     "shell.execute_reply.started": "2023-11-15T21:17:32.501407Z"
    }
   },
   "outputs": [],
   "source": [
    "mkdir -p links  # Creates the directory if it doesn't exist\n",
    "\n",
    "for filepath in *10xscrna*/outs/raw_feature_bc_matrix/*\n",
    "do\n",
    "    sample_name=\"${filepath%%/outs/raw_feature_bc_matrix/*}\"\n",
    "    filename=$(basename \"$filepath\")  # Extracts just the file name\n",
    "    ln -s \"../$filepath\" \"links/${sample_name}.${filename}\"\n",
    "done\n"
   ]
  },
  {
   "cell_type": "code",
   "execution_count": 6,
   "id": "0c878715-7e7a-4e51-a128-4b0ec2fee3ba",
   "metadata": {
    "execution": {
     "iopub.execute_input": "2023-11-15T21:19:49.422661Z",
     "iopub.status.busy": "2023-11-15T21:19:49.422406Z",
     "iopub.status.idle": "2023-11-15T21:19:52.954070Z",
     "shell.execute_reply": "2023-11-15T21:19:52.953490Z",
     "shell.execute_reply.started": "2023-11-15T21:19:49.422645Z"
    }
   },
   "outputs": [],
   "source": [
    "mkdir -p links  # Creates the links directory if it doesn't exist\n",
    "\n",
    "for filepath in *multiome*/outs/raw_feature_bc_matrix/*\n",
    "do\n",
    "    sample_name=\"${filepath%%/outs/raw_feature_bc_matrix/*}\"\n",
    "    sample_dir=\"links/${sample_name}_outs\"\n",
    "    mkdir -p \"$sample_dir\"  # Creates a directory for each sample\n",
    "    cp \"$filepath\" \"$sample_dir/\"\n",
    "done\n"
   ]
  },
  {
   "cell_type": "code",
   "execution_count": null,
   "id": "9915c2d3-a239-4ada-885c-e83d92f00961",
   "metadata": {},
   "outputs": [],
   "source": []
  }
 ],
 "metadata": {
  "kernelspec": {
   "display_name": "Bash",
   "language": "bash",
   "name": "bash"
  },
  "language_info": {
   "codemirror_mode": "shell",
   "file_extension": ".sh",
   "mimetype": "text/x-sh",
   "name": "bash"
  }
 },
 "nbformat": 4,
 "nbformat_minor": 5
}

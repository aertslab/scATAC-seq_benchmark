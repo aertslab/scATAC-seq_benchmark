{
 "cells": [
  {
   "cell_type": "markdown",
   "id": "3909b1e2",
   "metadata": {
    "papermill": {
     "duration": 0.037994,
     "end_time": "2022-11-02T11:01:52.981804",
     "exception": false,
     "start_time": "2022-11-02T11:01:52.943810",
     "status": "completed"
    },
    "pycharm": {
     "name": "#%% md\n"
    },
    "tags": []
   },
   "source": [
    "# pycisTopic analysis\n",
    "\n",
    "Full dataset, using CONSENSUS peaks."
   ]
  },
  {
   "cell_type": "code",
   "execution_count": 7,
   "id": "41bd1fed",
   "metadata": {
    "execution": {
     "iopub.execute_input": "2022-11-02T13:50:21.319780Z",
     "iopub.status.busy": "2022-11-02T13:50:21.318993Z",
     "iopub.status.idle": "2022-11-02T13:50:21.339828Z",
     "shell.execute_reply": "2022-11-02T13:50:21.338581Z",
     "shell.execute_reply.started": "2022-11-02T13:50:21.319722Z"
    },
    "papermill": {
     "duration": 0.374839,
     "end_time": "2022-11-02T11:01:53.375112",
     "exception": false,
     "start_time": "2022-11-02T11:01:53.000273",
     "status": "completed"
    },
    "pycharm": {
     "name": "#%%\n"
    },
    "tags": []
   },
   "outputs": [
    {
     "name": "stdout",
     "output_type": "stream",
     "text": [
      "The nb_black extension is already loaded. To reload it, use:\n",
      "  %reload_ext nb_black\n"
     ]
    },
    {
     "data": {
      "application/javascript": [
       "\n",
       "            setTimeout(function() {\n",
       "                var nbb_cell_id = 7;\n",
       "                var nbb_unformatted_code = \"import warnings\\nwarnings.filterwarnings('ignore')\\nwarnings.simplefilter('ignore')\\n\\nimport pickle\\nimport os\\nimport glob\\n%load_ext nb_black\";\n",
       "                var nbb_formatted_code = \"import warnings\\n\\nwarnings.filterwarnings(\\\"ignore\\\")\\nwarnings.simplefilter(\\\"ignore\\\")\\n\\nimport pickle\\nimport os\\nimport glob\\n\\n%load_ext nb_black\";\n",
       "                var nbb_cells = Jupyter.notebook.get_cells();\n",
       "                for (var i = 0; i < nbb_cells.length; ++i) {\n",
       "                    if (nbb_cells[i].input_prompt_number == nbb_cell_id) {\n",
       "                        if (nbb_cells[i].get_text() == nbb_unformatted_code) {\n",
       "                             nbb_cells[i].set_text(nbb_formatted_code);\n",
       "                        }\n",
       "                        break;\n",
       "                    }\n",
       "                }\n",
       "            }, 500);\n",
       "            "
      ],
      "text/plain": [
       "<IPython.core.display.Javascript object>"
      ]
     },
     "metadata": {},
     "output_type": "display_data"
    }
   ],
   "source": [
    "import warnings\n",
    "warnings.filterwarnings('ignore')\n",
    "warnings.simplefilter('ignore')\n",
    "\n",
    "import pickle\n",
    "import os\n",
    "import glob\n",
    "%load_ext nb_black"
   ]
  },
  {
   "cell_type": "code",
   "execution_count": 8,
   "id": "af982d92",
   "metadata": {
    "execution": {
     "iopub.execute_input": "2022-11-02T13:50:21.508153Z",
     "iopub.status.busy": "2022-11-02T13:50:21.507227Z",
     "iopub.status.idle": "2022-11-02T13:50:21.649848Z",
     "shell.execute_reply": "2022-11-02T13:50:21.648092Z",
     "shell.execute_reply.started": "2022-11-02T13:50:21.508098Z"
    },
    "papermill": {
     "duration": 0.237372,
     "end_time": "2022-11-02T11:01:53.645296",
     "exception": false,
     "start_time": "2022-11-02T11:01:53.407924",
     "status": "completed"
    },
    "pycharm": {
     "name": "#%%\n"
    },
    "tags": []
   },
   "outputs": [
    {
     "name": "stdout",
     "output_type": "stream",
     "text": [
      "/lustre1/project/stg_00090/scatac_benchmark/public_3_cistopic_qc\n"
     ]
    },
    {
     "data": {
      "application/javascript": [
       "\n",
       "            setTimeout(function() {\n",
       "                var nbb_cell_id = 8;\n",
       "                var nbb_unformatted_code = \"!pwd\";\n",
       "                var nbb_formatted_code = \"!pwd\";\n",
       "                var nbb_cells = Jupyter.notebook.get_cells();\n",
       "                for (var i = 0; i < nbb_cells.length; ++i) {\n",
       "                    if (nbb_cells[i].input_prompt_number == nbb_cell_id) {\n",
       "                        if (nbb_cells[i].get_text() == nbb_unformatted_code) {\n",
       "                             nbb_cells[i].set_text(nbb_formatted_code);\n",
       "                        }\n",
       "                        break;\n",
       "                    }\n",
       "                }\n",
       "            }, 500);\n",
       "            "
      ],
      "text/plain": [
       "<IPython.core.display.Javascript object>"
      ]
     },
     "metadata": {},
     "output_type": "display_data"
    }
   ],
   "source": [
    "!pwd"
   ]
  },
  {
   "cell_type": "code",
   "execution_count": 9,
   "id": "8aa90938",
   "metadata": {
    "execution": {
     "iopub.execute_input": "2022-11-02T13:50:21.657885Z",
     "iopub.status.busy": "2022-11-02T13:50:21.657068Z",
     "iopub.status.idle": "2022-11-02T13:50:21.671353Z",
     "shell.execute_reply": "2022-11-02T13:50:21.669971Z",
     "shell.execute_reply.started": "2022-11-02T13:50:21.657822Z"
    },
    "papermill": {
     "duration": 0.036213,
     "end_time": "2022-11-02T11:01:53.712621",
     "exception": false,
     "start_time": "2022-11-02T11:01:53.676408",
     "status": "completed"
    },
    "pycharm": {
     "name": "#%%\n"
    },
    "tags": []
   },
   "outputs": [
    {
     "data": {
      "application/javascript": [
       "\n",
       "            setTimeout(function() {\n",
       "                var nbb_cell_id = 9;\n",
       "                var nbb_unformatted_code = \"wdir = '/lustre1/project/stg_00090/scatac_benchmark/public_3_cistopic_qc'\\nos.chdir(wdir)\";\n",
       "                var nbb_formatted_code = \"wdir = \\\"/lustre1/project/stg_00090/scatac_benchmark/public_3_cistopic_qc\\\"\\nos.chdir(wdir)\";\n",
       "                var nbb_cells = Jupyter.notebook.get_cells();\n",
       "                for (var i = 0; i < nbb_cells.length; ++i) {\n",
       "                    if (nbb_cells[i].input_prompt_number == nbb_cell_id) {\n",
       "                        if (nbb_cells[i].get_text() == nbb_unformatted_code) {\n",
       "                             nbb_cells[i].set_text(nbb_formatted_code);\n",
       "                        }\n",
       "                        break;\n",
       "                    }\n",
       "                }\n",
       "            }, 500);\n",
       "            "
      ],
      "text/plain": [
       "<IPython.core.display.Javascript object>"
      ]
     },
     "metadata": {},
     "output_type": "display_data"
    }
   ],
   "source": [
    "wdir = '/lustre1/project/stg_00090/scatac_benchmark/public_3_cistopic_qc'\n",
    "os.chdir(wdir)"
   ]
  },
  {
   "cell_type": "markdown",
   "id": "457618c3",
   "metadata": {
    "papermill": {
     "duration": 0.017205,
     "end_time": "2022-11-02T11:01:53.754321",
     "exception": false,
     "start_time": "2022-11-02T11:01:53.737116",
     "status": "completed"
    },
    "pycharm": {
     "name": "#%% md\n"
    },
    "tags": []
   },
   "source": [
    "## Create the cisTopic objects for each sample"
   ]
  },
  {
   "cell_type": "markdown",
   "id": "1ede72f6",
   "metadata": {
    "papermill": {
     "duration": 0.016903,
     "end_time": "2022-11-02T11:01:53.788453",
     "exception": false,
     "start_time": "2022-11-02T11:01:53.771550",
     "status": "completed"
    },
    "pycharm": {
     "name": "#%% md\n"
    },
    "tags": []
   },
   "source": [
    "Make a new output dir"
   ]
  },
  {
   "cell_type": "code",
   "execution_count": 10,
   "id": "a060257c",
   "metadata": {
    "execution": {
     "iopub.execute_input": "2022-11-02T13:50:22.985463Z",
     "iopub.status.busy": "2022-11-02T13:50:22.984677Z",
     "iopub.status.idle": "2022-11-02T13:50:23.003259Z",
     "shell.execute_reply": "2022-11-02T13:50:23.001957Z",
     "shell.execute_reply.started": "2022-11-02T13:50:22.985405Z"
    },
    "papermill": {
     "duration": 0.039241,
     "end_time": "2022-11-02T11:01:53.844893",
     "exception": false,
     "start_time": "2022-11-02T11:01:53.805652",
     "status": "completed"
    },
    "pycharm": {
     "name": "#%%\n"
    },
    "tags": []
   },
   "outputs": [
    {
     "data": {
      "application/javascript": [
       "\n",
       "            setTimeout(function() {\n",
       "                var nbb_cell_id = 10;\n",
       "                var nbb_unformatted_code = \"cistopic_objects_out = 'cistopic_objects'\\nif not os.path.exists(os.path.join(wdir, cistopic_objects_out)):\\n    os.makedirs(os.path.join(wdir, cistopic_objects_out))\";\n",
       "                var nbb_formatted_code = \"cistopic_objects_out = \\\"cistopic_objects\\\"\\nif not os.path.exists(os.path.join(wdir, cistopic_objects_out)):\\n    os.makedirs(os.path.join(wdir, cistopic_objects_out))\";\n",
       "                var nbb_cells = Jupyter.notebook.get_cells();\n",
       "                for (var i = 0; i < nbb_cells.length; ++i) {\n",
       "                    if (nbb_cells[i].input_prompt_number == nbb_cell_id) {\n",
       "                        if (nbb_cells[i].get_text() == nbb_unformatted_code) {\n",
       "                             nbb_cells[i].set_text(nbb_formatted_code);\n",
       "                        }\n",
       "                        break;\n",
       "                    }\n",
       "                }\n",
       "            }, 500);\n",
       "            "
      ],
      "text/plain": [
       "<IPython.core.display.Javascript object>"
      ]
     },
     "metadata": {},
     "output_type": "display_data"
    }
   ],
   "source": [
    "cistopic_objects_out = 'cistopic_objects'\n",
    "if not os.path.exists(os.path.join(wdir, cistopic_objects_out)):\n",
    "    os.makedirs(os.path.join(wdir, cistopic_objects_out))"
   ]
  },
  {
   "cell_type": "markdown",
   "id": "8f2e3923",
   "metadata": {
    "papermill": {
     "duration": 0.017759,
     "end_time": "2022-11-02T11:01:53.886258",
     "exception": false,
     "start_time": "2022-11-02T11:01:53.868499",
     "status": "completed"
    },
    "pycharm": {
     "name": "#%% md\n"
    },
    "tags": []
   },
   "source": [
    "Create a dictionary with fragments files for each sample"
   ]
  },
  {
   "cell_type": "code",
   "execution_count": 11,
   "id": "6359a8bc",
   "metadata": {
    "execution": {
     "iopub.execute_input": "2022-11-02T13:50:23.315300Z",
     "iopub.status.busy": "2022-11-02T13:50:23.314513Z",
     "iopub.status.idle": "2022-11-02T13:50:23.351386Z",
     "shell.execute_reply": "2022-11-02T13:50:23.350052Z",
     "shell.execute_reply.started": "2022-11-02T13:50:23.315243Z"
    },
    "papermill": {
     "duration": 0.048617,
     "end_time": "2022-11-02T11:01:53.952164",
     "exception": false,
     "start_time": "2022-11-02T11:01:53.903547",
     "status": "completed"
    },
    "pycharm": {
     "name": "#%%\n"
    },
    "tags": []
   },
   "outputs": [
    {
     "data": {
      "text/plain": [
       "{'BIO_ddseq_m1c1.FULL': '../1_data_repository/publicdata_full_fragments_vsn/BIO_ddseq_m1c1.FULL.fragments.tsv.gz',\n",
       " 'BIO_ddseq_m1c2.FULL': '../1_data_repository/publicdata_full_fragments_vsn/BIO_ddseq_m1c2.FULL.fragments.tsv.gz',\n",
       " 'BIO_ddseq_m1c3.FULL': '../1_data_repository/publicdata_full_fragments_vsn/BIO_ddseq_m1c3.FULL.fragments.tsv.gz',\n",
       " 'BIO_ddseq_m1c4.FULL': '../1_data_repository/publicdata_full_fragments_vsn/BIO_ddseq_m1c4.FULL.fragments.tsv.gz',\n",
       " 'BIO_ddseq_m1c5.FULL': '../1_data_repository/publicdata_full_fragments_vsn/BIO_ddseq_m1c5.FULL.fragments.tsv.gz',\n",
       " 'BIO_ddseq_m1c6.FULL': '../1_data_repository/publicdata_full_fragments_vsn/BIO_ddseq_m1c6.FULL.fragments.tsv.gz',\n",
       " 'BIO_ddseq_m1c7.FULL': '../1_data_repository/publicdata_full_fragments_vsn/BIO_ddseq_m1c7.FULL.fragments.tsv.gz',\n",
       " 'BIO_ddseq_m1c8.FULL': '../1_data_repository/publicdata_full_fragments_vsn/BIO_ddseq_m1c8.FULL.fragments.tsv.gz',\n",
       " 'BIO_ddseq_m2c1.FULL': '../1_data_repository/publicdata_full_fragments_vsn/BIO_ddseq_m2c1.FULL.fragments.tsv.gz',\n",
       " 'BIO_ddseq_m2c2.FULL': '../1_data_repository/publicdata_full_fragments_vsn/BIO_ddseq_m2c2.FULL.fragments.tsv.gz',\n",
       " 'BIO_ddseq_m2c3.FULL': '../1_data_repository/publicdata_full_fragments_vsn/BIO_ddseq_m2c3.FULL.fragments.tsv.gz',\n",
       " 'BIO_ddseq_m2c4.FULL': '../1_data_repository/publicdata_full_fragments_vsn/BIO_ddseq_m2c4.FULL.fragments.tsv.gz',\n",
       " 'OHS_s3atac_mouse.FULL': '../1_data_repository/publicdata_full_fragments_vsn/OHS_s3atac_mouse.FULL.fragments.tsv.gz',\n",
       " 'TXG_10xmultiome_e18mousebrainfresh.FULL': '../1_data_repository/publicdata_full_fragments_vsn/TXG_10xmultiome_e18mousebrainfresh.FULL.fragments.tsv.gz',\n",
       " 'TXG_10xv11_adultmousecortexchromiumx.FULL': '../1_data_repository/publicdata_full_fragments_vsn/TXG_10xv11_adultmousecortexchromiumx.FULL.fragments.tsv.gz',\n",
       " 'TXG_10xv1_adultmousefresh.FULL': '../1_data_repository/publicdata_full_fragments_vsn/TXG_10xv1_adultmousefresh.FULL.fragments.tsv.gz',\n",
       " 'TXG_10xv2_adultmousecortex.FULL': '../1_data_repository/publicdata_full_fragments_vsn/TXG_10xv2_adultmousecortex.FULL.fragments.tsv.gz',\n",
       " 'TXG_10xv2_adultmousecortexchromiumx.FULL': '../1_data_repository/publicdata_full_fragments_vsn/TXG_10xv2_adultmousecortexchromiumx.FULL.fragments.tsv.gz',\n",
       " 'VIB_hydrop_1.FULL': '../1_data_repository/publicdata_full_fragments_vsn/VIB_hydrop_1.FULL.fragments.tsv.gz',\n",
       " 'VIB_hydrop_2.FULL': '../1_data_repository/publicdata_full_fragments_vsn/VIB_hydrop_2.FULL.fragments.tsv.gz',\n",
       " 'VIB_hydrop_3.FULL': '../1_data_repository/publicdata_full_fragments_vsn/VIB_hydrop_3.FULL.fragments.tsv.gz',\n",
       " 'VIB_hydrop_4.FULL': '../1_data_repository/publicdata_full_fragments_vsn/VIB_hydrop_4.FULL.fragments.tsv.gz',\n",
       " 'VIB_hydrop_5.FULL': '../1_data_repository/publicdata_full_fragments_vsn/VIB_hydrop_5.FULL.fragments.tsv.gz'}"
      ]
     },
     "execution_count": 11,
     "metadata": {},
     "output_type": "execute_result"
    },
    {
     "data": {
      "application/javascript": [
       "\n",
       "            setTimeout(function() {\n",
       "                var nbb_cell_id = 11;\n",
       "                var nbb_unformatted_code = \"filenames = sorted(glob.glob('../1_data_repository/publicdata_full_fragments_vsn/*.fragments.tsv.gz'))\\nfragments_dict = {}\\nfor filename in filenames:\\n    sample = filename.split('/')[-1].split('.fragments.tsv.gz')[0]\\n    fragments_dict[sample] = filename\\nfragments_dict\";\n",
       "                var nbb_formatted_code = \"filenames = sorted(\\n    glob.glob(\\\"../1_data_repository/publicdata_full_fragments_vsn/*.fragments.tsv.gz\\\")\\n)\\nfragments_dict = {}\\nfor filename in filenames:\\n    sample = filename.split(\\\"/\\\")[-1].split(\\\".fragments.tsv.gz\\\")[0]\\n    fragments_dict[sample] = filename\\nfragments_dict\";\n",
       "                var nbb_cells = Jupyter.notebook.get_cells();\n",
       "                for (var i = 0; i < nbb_cells.length; ++i) {\n",
       "                    if (nbb_cells[i].input_prompt_number == nbb_cell_id) {\n",
       "                        if (nbb_cells[i].get_text() == nbb_unformatted_code) {\n",
       "                             nbb_cells[i].set_text(nbb_formatted_code);\n",
       "                        }\n",
       "                        break;\n",
       "                    }\n",
       "                }\n",
       "            }, 500);\n",
       "            "
      ],
      "text/plain": [
       "<IPython.core.display.Javascript object>"
      ]
     },
     "metadata": {},
     "output_type": "display_data"
    }
   ],
   "source": [
    "filenames = sorted(glob.glob('../1_data_repository/publicdata_full_fragments_vsn/*.fragments.tsv.gz'))\n",
    "fragments_dict = {}\n",
    "for filename in filenames:\n",
    "    sample = filename.split('/')[-1].split('.fragments.tsv.gz')[0]\n",
    "    fragments_dict[sample] = filename\n",
    "fragments_dict"
   ]
  },
  {
   "cell_type": "code",
   "execution_count": 12,
   "id": "989c62a0",
   "metadata": {
    "execution": {
     "iopub.execute_input": "2022-11-02T13:50:24.596160Z",
     "iopub.status.busy": "2022-11-02T13:50:24.595485Z",
     "iopub.status.idle": "2022-11-02T13:50:24.622252Z",
     "shell.execute_reply": "2022-11-02T13:50:24.621077Z",
     "shell.execute_reply.started": "2022-11-02T13:50:24.596101Z"
    },
    "papermill": {
     "duration": 0.047014,
     "end_time": "2022-11-02T11:01:54.029583",
     "exception": false,
     "start_time": "2022-11-02T11:01:53.982569",
     "status": "completed"
    },
    "pycharm": {
     "name": "#%%\n"
    },
    "tags": []
   },
   "outputs": [
    {
     "data": {
      "text/plain": [
       "{'BIO_ddseq_m1c1.FULL': 'cistopic_qc_out/BIO_ddseq_m1c1.FULL__metadata_bc.pkl',\n",
       " 'BIO_ddseq_m1c2.FULL': 'cistopic_qc_out/BIO_ddseq_m1c2.FULL__metadata_bc.pkl',\n",
       " 'BIO_ddseq_m1c3.FULL': 'cistopic_qc_out/BIO_ddseq_m1c3.FULL__metadata_bc.pkl',\n",
       " 'BIO_ddseq_m1c4.FULL': 'cistopic_qc_out/BIO_ddseq_m1c4.FULL__metadata_bc.pkl',\n",
       " 'BIO_ddseq_m1c5.FULL': 'cistopic_qc_out/BIO_ddseq_m1c5.FULL__metadata_bc.pkl',\n",
       " 'BIO_ddseq_m1c6.FULL': 'cistopic_qc_out/BIO_ddseq_m1c6.FULL__metadata_bc.pkl',\n",
       " 'BIO_ddseq_m1c7.FULL': 'cistopic_qc_out/BIO_ddseq_m1c7.FULL__metadata_bc.pkl',\n",
       " 'BIO_ddseq_m1c8.FULL': 'cistopic_qc_out/BIO_ddseq_m1c8.FULL__metadata_bc.pkl',\n",
       " 'BIO_ddseq_m2c1.FULL': 'cistopic_qc_out/BIO_ddseq_m2c1.FULL__metadata_bc.pkl',\n",
       " 'BIO_ddseq_m2c2.FULL': 'cistopic_qc_out/BIO_ddseq_m2c2.FULL__metadata_bc.pkl',\n",
       " 'BIO_ddseq_m2c3.FULL': 'cistopic_qc_out/BIO_ddseq_m2c3.FULL__metadata_bc.pkl',\n",
       " 'BIO_ddseq_m2c4.FULL': 'cistopic_qc_out/BIO_ddseq_m2c4.FULL__metadata_bc.pkl',\n",
       " 'OHS_s3atac_mouse.FULL': 'cistopic_qc_out/OHS_s3atac_mouse.FULL__metadata_bc.pkl',\n",
       " 'TXG_10xmultiome_e18mousebrainfresh.FULL': 'cistopic_qc_out/TXG_10xmultiome_e18mousebrainfresh.FULL__metadata_bc.pkl',\n",
       " 'TXG_10xv11_adultmousecortexchromiumx.FULL': 'cistopic_qc_out/TXG_10xv11_adultmousecortexchromiumx.FULL__metadata_bc.pkl',\n",
       " 'TXG_10xv1_adultmousefresh.FULL': 'cistopic_qc_out/TXG_10xv1_adultmousefresh.FULL__metadata_bc.pkl',\n",
       " 'TXG_10xv2_adultmousecortex.FULL': 'cistopic_qc_out/TXG_10xv2_adultmousecortex.FULL__metadata_bc.pkl',\n",
       " 'TXG_10xv2_adultmousecortexchromiumx.FULL': 'cistopic_qc_out/TXG_10xv2_adultmousecortexchromiumx.FULL__metadata_bc.pkl',\n",
       " 'VIB_hydrop_1.FULL': 'cistopic_qc_out/VIB_hydrop_1.FULL__metadata_bc.pkl',\n",
       " 'VIB_hydrop_2.FULL': 'cistopic_qc_out/VIB_hydrop_2.FULL__metadata_bc.pkl',\n",
       " 'VIB_hydrop_3.FULL': 'cistopic_qc_out/VIB_hydrop_3.FULL__metadata_bc.pkl',\n",
       " 'VIB_hydrop_4.FULL': 'cistopic_qc_out/VIB_hydrop_4.FULL__metadata_bc.pkl',\n",
       " 'VIB_hydrop_5.FULL': 'cistopic_qc_out/VIB_hydrop_5.FULL__metadata_bc.pkl'}"
      ]
     },
     "execution_count": 12,
     "metadata": {},
     "output_type": "execute_result"
    },
    {
     "data": {
      "application/javascript": [
       "\n",
       "            setTimeout(function() {\n",
       "                var nbb_cell_id = 12;\n",
       "                var nbb_unformatted_code = \"metadata_bc_sub_dict = {x.split('/')[-1].split(f'__')[0]: x for x in sorted(glob.glob(\\\"cistopic_qc_out/*metadata_bc.pkl\\\"))}\\nmetadata_bc_sub_dict\";\n",
       "                var nbb_formatted_code = \"metadata_bc_sub_dict = {\\n    x.split(\\\"/\\\")[-1].split(f\\\"__\\\")[0]: x\\n    for x in sorted(glob.glob(\\\"cistopic_qc_out/*metadata_bc.pkl\\\"))\\n}\\nmetadata_bc_sub_dict\";\n",
       "                var nbb_cells = Jupyter.notebook.get_cells();\n",
       "                for (var i = 0; i < nbb_cells.length; ++i) {\n",
       "                    if (nbb_cells[i].input_prompt_number == nbb_cell_id) {\n",
       "                        if (nbb_cells[i].get_text() == nbb_unformatted_code) {\n",
       "                             nbb_cells[i].set_text(nbb_formatted_code);\n",
       "                        }\n",
       "                        break;\n",
       "                    }\n",
       "                }\n",
       "            }, 500);\n",
       "            "
      ],
      "text/plain": [
       "<IPython.core.display.Javascript object>"
      ]
     },
     "metadata": {},
     "output_type": "display_data"
    }
   ],
   "source": [
    "metadata_bc_sub_dict = {x.split('/')[-1].split(f'__')[0]: x for x in sorted(glob.glob(\"cistopic_qc_out/*metadata_bc.pkl\"))}\n",
    "metadata_bc_sub_dict"
   ]
  },
  {
   "cell_type": "code",
   "execution_count": 13,
   "id": "d635ad94",
   "metadata": {
    "execution": {
     "iopub.execute_input": "2022-11-02T13:50:24.755694Z",
     "iopub.status.busy": "2022-11-02T13:50:24.754915Z",
     "iopub.status.idle": "2022-11-02T13:50:24.780471Z",
     "shell.execute_reply": "2022-11-02T13:50:24.779287Z",
     "shell.execute_reply.started": "2022-11-02T13:50:24.755636Z"
    },
    "papermill": {
     "duration": 0.046901,
     "end_time": "2022-11-02T11:01:54.104052",
     "exception": false,
     "start_time": "2022-11-02T11:01:54.057151",
     "status": "completed"
    },
    "pycharm": {
     "name": "#%%\n"
    },
    "tags": []
   },
   "outputs": [
    {
     "data": {
      "text/plain": [
       "{'BIO_ddseq_m1c1.FULL': 'selected_barcodes/BIO_ddseq_m1c1.FULL_bc_passing_filters_otsu.pkl',\n",
       " 'BIO_ddseq_m1c2.FULL': 'selected_barcodes/BIO_ddseq_m1c2.FULL_bc_passing_filters_otsu.pkl',\n",
       " 'BIO_ddseq_m1c3.FULL': 'selected_barcodes/BIO_ddseq_m1c3.FULL_bc_passing_filters_otsu.pkl',\n",
       " 'BIO_ddseq_m1c4.FULL': 'selected_barcodes/BIO_ddseq_m1c4.FULL_bc_passing_filters_otsu.pkl',\n",
       " 'BIO_ddseq_m1c5.FULL': 'selected_barcodes/BIO_ddseq_m1c5.FULL_bc_passing_filters_otsu.pkl',\n",
       " 'BIO_ddseq_m1c6.FULL': 'selected_barcodes/BIO_ddseq_m1c6.FULL_bc_passing_filters_otsu.pkl',\n",
       " 'BIO_ddseq_m1c7.FULL': 'selected_barcodes/BIO_ddseq_m1c7.FULL_bc_passing_filters_otsu.pkl',\n",
       " 'BIO_ddseq_m1c8.FULL': 'selected_barcodes/BIO_ddseq_m1c8.FULL_bc_passing_filters_otsu.pkl',\n",
       " 'BIO_ddseq_m2c1.FULL': 'selected_barcodes/BIO_ddseq_m2c1.FULL_bc_passing_filters_otsu.pkl',\n",
       " 'BIO_ddseq_m2c2.FULL': 'selected_barcodes/BIO_ddseq_m2c2.FULL_bc_passing_filters_otsu.pkl',\n",
       " 'BIO_ddseq_m2c3.FULL': 'selected_barcodes/BIO_ddseq_m2c3.FULL_bc_passing_filters_otsu.pkl',\n",
       " 'BIO_ddseq_m2c4.FULL': 'selected_barcodes/BIO_ddseq_m2c4.FULL_bc_passing_filters_otsu.pkl',\n",
       " 'OHS_s3atac_mouse.FULL': 'selected_barcodes/OHS_s3atac_mouse.FULL_bc_passing_filters_otsu.pkl',\n",
       " 'TXG_10xmultiome_e18mousebrainfresh.FULL': 'selected_barcodes/TXG_10xmultiome_e18mousebrainfresh.FULL_bc_passing_filters_otsu.pkl',\n",
       " 'TXG_10xv11_adultmousecortexchromiumx.FULL': 'selected_barcodes/TXG_10xv11_adultmousecortexchromiumx.FULL_bc_passing_filters_otsu.pkl',\n",
       " 'TXG_10xv1_adultmousefresh.FULL': 'selected_barcodes/TXG_10xv1_adultmousefresh.FULL_bc_passing_filters_otsu.pkl',\n",
       " 'TXG_10xv2_adultmousecortex.FULL': 'selected_barcodes/TXG_10xv2_adultmousecortex.FULL_bc_passing_filters_otsu.pkl',\n",
       " 'TXG_10xv2_adultmousecortexchromiumx.FULL': 'selected_barcodes/TXG_10xv2_adultmousecortexchromiumx.FULL_bc_passing_filters_otsu.pkl',\n",
       " 'VIB_hydrop_1.FULL': 'selected_barcodes/VIB_hydrop_1.FULL_bc_passing_filters_otsu.pkl',\n",
       " 'VIB_hydrop_2.FULL': 'selected_barcodes/VIB_hydrop_2.FULL_bc_passing_filters_otsu.pkl',\n",
       " 'VIB_hydrop_3.FULL': 'selected_barcodes/VIB_hydrop_3.FULL_bc_passing_filters_otsu.pkl',\n",
       " 'VIB_hydrop_4.FULL': 'selected_barcodes/VIB_hydrop_4.FULL_bc_passing_filters_otsu.pkl',\n",
       " 'VIB_hydrop_5.FULL': 'selected_barcodes/VIB_hydrop_5.FULL_bc_passing_filters_otsu.pkl'}"
      ]
     },
     "execution_count": 13,
     "metadata": {},
     "output_type": "execute_result"
    },
    {
     "data": {
      "application/javascript": [
       "\n",
       "            setTimeout(function() {\n",
       "                var nbb_cell_id = 13;\n",
       "                var nbb_unformatted_code = \"bc_passing_filters_sub_dict = {x.split('/')[-1].split(f'_bc_passing_filters_otsu.pkl')[0]: x for x in sorted(glob.glob(\\\"selected_barcodes/*otsu.pkl\\\"))}\\nbc_passing_filters_sub_dict\";\n",
       "                var nbb_formatted_code = \"bc_passing_filters_sub_dict = {\\n    x.split(\\\"/\\\")[-1].split(f\\\"_bc_passing_filters_otsu.pkl\\\")[0]: x\\n    for x in sorted(glob.glob(\\\"selected_barcodes/*otsu.pkl\\\"))\\n}\\nbc_passing_filters_sub_dict\";\n",
       "                var nbb_cells = Jupyter.notebook.get_cells();\n",
       "                for (var i = 0; i < nbb_cells.length; ++i) {\n",
       "                    if (nbb_cells[i].input_prompt_number == nbb_cell_id) {\n",
       "                        if (nbb_cells[i].get_text() == nbb_unformatted_code) {\n",
       "                             nbb_cells[i].set_text(nbb_formatted_code);\n",
       "                        }\n",
       "                        break;\n",
       "                    }\n",
       "                }\n",
       "            }, 500);\n",
       "            "
      ],
      "text/plain": [
       "<IPython.core.display.Javascript object>"
      ]
     },
     "metadata": {},
     "output_type": "display_data"
    }
   ],
   "source": [
    "bc_passing_filters_sub_dict = {x.split('/')[-1].split(f'_bc_passing_filters_otsu.pkl')[0]: x for x in sorted(glob.glob(\"selected_barcodes/*otsu.pkl\"))}\n",
    "bc_passing_filters_sub_dict"
   ]
  },
  {
   "cell_type": "markdown",
   "id": "20fb68a4",
   "metadata": {
    "papermill": {
     "duration": 0.020186,
     "end_time": "2022-11-02T11:01:54.153300",
     "exception": false,
     "start_time": "2022-11-02T11:01:54.133114",
     "status": "completed"
    },
    "pycharm": {
     "name": "#%% md\n"
    },
    "tags": []
   },
   "source": [
    "Read bed files for SCREEN regions and blacklist (blacklisted regions in genome where many reads can map)"
   ]
  },
  {
   "cell_type": "code",
   "execution_count": 14,
   "id": "dab249bc",
   "metadata": {
    "execution": {
     "iopub.execute_input": "2022-11-02T13:50:25.115634Z",
     "iopub.status.busy": "2022-11-02T13:50:25.114860Z",
     "iopub.status.idle": "2022-11-02T13:50:25.128201Z",
     "shell.execute_reply": "2022-11-02T13:50:25.126833Z",
     "shell.execute_reply.started": "2022-11-02T13:50:25.115578Z"
    },
    "papermill": {
     "duration": 0.036436,
     "end_time": "2022-11-02T11:01:54.209171",
     "exception": false,
     "start_time": "2022-11-02T11:01:54.172735",
     "status": "completed"
    },
    "pycharm": {
     "name": "#%%\n"
    },
    "tags": []
   },
   "outputs": [
    {
     "data": {
      "application/javascript": [
       "\n",
       "            setTimeout(function() {\n",
       "                var nbb_cell_id = 14;\n",
       "                var nbb_unformatted_code = \"regions_path = '/lustre1/project/stg_00090/scatac_benchmark/0_resources/regions/V2.mm10-rDHS-Unfiltered.blacklisted.bed'\";\n",
       "                var nbb_formatted_code = \"regions_path = \\\"/lustre1/project/stg_00090/scatac_benchmark/0_resources/regions/V2.mm10-rDHS-Unfiltered.blacklisted.bed\\\"\";\n",
       "                var nbb_cells = Jupyter.notebook.get_cells();\n",
       "                for (var i = 0; i < nbb_cells.length; ++i) {\n",
       "                    if (nbb_cells[i].input_prompt_number == nbb_cell_id) {\n",
       "                        if (nbb_cells[i].get_text() == nbb_unformatted_code) {\n",
       "                             nbb_cells[i].set_text(nbb_formatted_code);\n",
       "                        }\n",
       "                        break;\n",
       "                    }\n",
       "                }\n",
       "            }, 500);\n",
       "            "
      ],
      "text/plain": [
       "<IPython.core.display.Javascript object>"
      ]
     },
     "metadata": {},
     "output_type": "display_data"
    }
   ],
   "source": [
    "regions_path = '/lustre1/project/stg_00090/scatac_benchmark/0_resources/regions/V2.mm10-rDHS-Unfiltered.blacklisted.bed'"
   ]
  },
  {
   "cell_type": "code",
   "execution_count": 15,
   "id": "60fdd962",
   "metadata": {
    "execution": {
     "iopub.execute_input": "2022-11-02T13:50:25.985633Z",
     "iopub.status.busy": "2022-11-02T13:50:25.984850Z",
     "iopub.status.idle": "2022-11-02T13:50:25.998128Z",
     "shell.execute_reply": "2022-11-02T13:50:25.996832Z",
     "shell.execute_reply.started": "2022-11-02T13:50:25.985577Z"
    },
    "papermill": {
     "duration": 0.036557,
     "end_time": "2022-11-02T11:01:54.270092",
     "exception": false,
     "start_time": "2022-11-02T11:01:54.233535",
     "status": "completed"
    },
    "pycharm": {
     "name": "#%%\n"
    },
    "tags": []
   },
   "outputs": [
    {
     "data": {
      "application/javascript": [
       "\n",
       "            setTimeout(function() {\n",
       "                var nbb_cell_id = 15;\n",
       "                var nbb_unformatted_code = \"# path_to_regions = '../0_resources/regions/V2.hg38-rDHS-Unfiltered.blacklisted.bed'\\npath_to_blacklist = '../0_resources/regions/mm10-blacklist.v2.bed'\";\n",
       "                var nbb_formatted_code = \"# path_to_regions = '../0_resources/regions/V2.hg38-rDHS-Unfiltered.blacklisted.bed'\\npath_to_blacklist = \\\"../0_resources/regions/mm10-blacklist.v2.bed\\\"\";\n",
       "                var nbb_cells = Jupyter.notebook.get_cells();\n",
       "                for (var i = 0; i < nbb_cells.length; ++i) {\n",
       "                    if (nbb_cells[i].input_prompt_number == nbb_cell_id) {\n",
       "                        if (nbb_cells[i].get_text() == nbb_unformatted_code) {\n",
       "                             nbb_cells[i].set_text(nbb_formatted_code);\n",
       "                        }\n",
       "                        break;\n",
       "                    }\n",
       "                }\n",
       "            }, 500);\n",
       "            "
      ],
      "text/plain": [
       "<IPython.core.display.Javascript object>"
      ]
     },
     "metadata": {},
     "output_type": "display_data"
    }
   ],
   "source": [
    "# path_to_regions = '../0_resources/regions/V2.hg38-rDHS-Unfiltered.blacklisted.bed'\n",
    "path_to_blacklist = '../0_resources/regions/mm10-blacklist.v2.bed'"
   ]
  },
  {
   "cell_type": "markdown",
   "id": "40068b96",
   "metadata": {
    "papermill": {
     "duration": 0.020562,
     "end_time": "2022-11-02T11:01:54.315539",
     "exception": false,
     "start_time": "2022-11-02T11:01:54.294977",
     "status": "completed"
    },
    "pycharm": {
     "name": "#%% md\n"
    },
    "tags": []
   },
   "source": [
    "Create cistopic objects for each sample. If pandas crashes, increase the number of partitions. This is necessary for the largest files."
   ]
  },
  {
   "cell_type": "markdown",
   "id": "0f0ed384",
   "metadata": {
    "papermill": {
     "duration": 0.033678,
     "end_time": "2022-11-02T11:01:54.369927",
     "exception": false,
     "start_time": "2022-11-02T11:01:54.336249",
     "status": "completed"
    },
    "pycharm": {
     "name": "#%% md\n"
    },
    "tags": []
   },
   "source": [
    "In the following command, it is important that the barcode syntax matches the fragments, the metadata and the bc_passing filters. That is why the sample name is removed from metadata and bc passing filters."
   ]
  },
  {
   "cell_type": "code",
   "execution_count": 16,
   "id": "79d35418",
   "metadata": {
    "collapsed": false,
    "execution": {
     "iopub.execute_input": "2022-11-02T13:50:26.495481Z",
     "iopub.status.busy": "2022-11-02T13:50:26.494688Z",
     "iopub.status.idle": "2022-11-02T13:50:33.103293Z",
     "shell.execute_reply": "2022-11-02T13:50:33.101816Z",
     "shell.execute_reply.started": "2022-11-02T13:50:26.495424Z"
    },
    "jupyter": {
     "outputs_hidden": false
    },
    "papermill": {
     "duration": 15.350642,
     "end_time": "2022-11-02T11:02:09.744505",
     "exception": false,
     "start_time": "2022-11-02T11:01:54.393863",
     "status": "completed"
    },
    "pycharm": {
     "name": "#%%\n"
    },
    "tags": []
   },
   "outputs": [
    {
     "data": {
      "application/javascript": [
       "\n",
       "            setTimeout(function() {\n",
       "                var nbb_cell_id = 16;\n",
       "                var nbb_unformatted_code = \"from pycisTopic.cistopic_class import create_cistopic_object_from_fragments\";\n",
       "                var nbb_formatted_code = \"from pycisTopic.cistopic_class import create_cistopic_object_from_fragments\";\n",
       "                var nbb_cells = Jupyter.notebook.get_cells();\n",
       "                for (var i = 0; i < nbb_cells.length; ++i) {\n",
       "                    if (nbb_cells[i].input_prompt_number == nbb_cell_id) {\n",
       "                        if (nbb_cells[i].get_text() == nbb_unformatted_code) {\n",
       "                             nbb_cells[i].set_text(nbb_formatted_code);\n",
       "                        }\n",
       "                        break;\n",
       "                    }\n",
       "                }\n",
       "            }, 500);\n",
       "            "
      ],
      "text/plain": [
       "<IPython.core.display.Javascript object>"
      ]
     },
     "metadata": {},
     "output_type": "display_data"
    }
   ],
   "source": [
    "from pycisTopic.cistopic_class import create_cistopic_object_from_fragments"
   ]
  },
  {
   "cell_type": "code",
   "execution_count": 17,
   "id": "7c12d03a",
   "metadata": {
    "execution": {
     "iopub.execute_input": "2022-11-02T13:50:33.108500Z",
     "iopub.status.busy": "2022-11-02T13:50:33.106449Z",
     "iopub.status.idle": "2022-11-02T13:50:33.119490Z",
     "shell.execute_reply": "2022-11-02T13:50:33.118250Z",
     "shell.execute_reply.started": "2022-11-02T13:50:33.108434Z"
    },
    "papermill": {
     "duration": 0.038566,
     "end_time": "2022-11-02T11:02:09.826416",
     "exception": false,
     "start_time": "2022-11-02T11:02:09.787850",
     "status": "completed"
    },
    "tags": []
   },
   "outputs": [
    {
     "data": {
      "application/javascript": [
       "\n",
       "            setTimeout(function() {\n",
       "                var nbb_cell_id = 17;\n",
       "                var nbb_unformatted_code = \"import ray\\nray.shutdown()\";\n",
       "                var nbb_formatted_code = \"import ray\\n\\nray.shutdown()\";\n",
       "                var nbb_cells = Jupyter.notebook.get_cells();\n",
       "                for (var i = 0; i < nbb_cells.length; ++i) {\n",
       "                    if (nbb_cells[i].input_prompt_number == nbb_cell_id) {\n",
       "                        if (nbb_cells[i].get_text() == nbb_unformatted_code) {\n",
       "                             nbb_cells[i].set_text(nbb_formatted_code);\n",
       "                        }\n",
       "                        break;\n",
       "                    }\n",
       "                }\n",
       "            }, 500);\n",
       "            "
      ],
      "text/plain": [
       "<IPython.core.display.Javascript object>"
      ]
     },
     "metadata": {},
     "output_type": "display_data"
    }
   ],
   "source": [
    "import ray\n",
    "ray.shutdown()"
   ]
  },
  {
   "cell_type": "code",
   "execution_count": 18,
   "id": "59f18be4",
   "metadata": {
    "execution": {
     "iopub.execute_input": "2022-11-02T13:50:33.122057Z",
     "iopub.status.busy": "2022-11-02T13:50:33.121085Z",
     "iopub.status.idle": "2022-11-02T13:50:33.240044Z",
     "shell.execute_reply": "2022-11-02T13:50:33.239044Z",
     "shell.execute_reply.started": "2022-11-02T13:50:33.122016Z"
    },
    "papermill": {
     "duration": 3469.397103,
     "end_time": "2022-11-02T11:59:59.252312",
     "exception": false,
     "start_time": "2022-11-02T11:02:09.855209",
     "status": "completed"
    },
    "pycharm": {
     "name": "#%%\n"
    },
    "tags": []
   },
   "outputs": [
    {
     "name": "stdout",
     "output_type": "stream",
     "text": [
      "cistopic_objects/BIO_ddseq_m1c1.FULL__cto.pkl already exists, skipping...\n",
      "cistopic_objects/BIO_ddseq_m1c2.FULL__cto.pkl already exists, skipping...\n",
      "cistopic_objects/BIO_ddseq_m1c3.FULL__cto.pkl already exists, skipping...\n",
      "cistopic_objects/BIO_ddseq_m1c4.FULL__cto.pkl already exists, skipping...\n",
      "cistopic_objects/BIO_ddseq_m1c5.FULL__cto.pkl already exists, skipping...\n",
      "cistopic_objects/BIO_ddseq_m1c6.FULL__cto.pkl already exists, skipping...\n",
      "cistopic_objects/BIO_ddseq_m1c7.FULL__cto.pkl already exists, skipping...\n",
      "cistopic_objects/BIO_ddseq_m1c8.FULL__cto.pkl already exists, skipping...\n",
      "cistopic_objects/BIO_ddseq_m2c1.FULL__cto.pkl already exists, skipping...\n",
      "cistopic_objects/BIO_ddseq_m2c2.FULL__cto.pkl already exists, skipping...\n",
      "cistopic_objects/BIO_ddseq_m2c3.FULL__cto.pkl already exists, skipping...\n",
      "cistopic_objects/BIO_ddseq_m2c4.FULL__cto.pkl already exists, skipping...\n",
      "cistopic_objects/OHS_s3atac_mouse.FULL__cto.pkl already exists, skipping...\n",
      "cistopic_objects/TXG_10xmultiome_e18mousebrainfresh.FULL__cto.pkl already exists, skipping...\n",
      "cistopic_objects/TXG_10xv11_adultmousecortexchromiumx.FULL__cto.pkl already exists, skipping...\n",
      "cistopic_objects/TXG_10xv1_adultmousefresh.FULL__cto.pkl already exists, skipping...\n",
      "cistopic_objects/TXG_10xv2_adultmousecortex.FULL__cto.pkl already exists, skipping...\n",
      "cistopic_objects/TXG_10xv2_adultmousecortexchromiumx.FULL__cto.pkl already exists, skipping...\n",
      "cistopic_objects/VIB_hydrop_1.FULL__cto.pkl already exists, skipping...\n",
      "cistopic_objects/VIB_hydrop_2.FULL__cto.pkl already exists, skipping...\n",
      "cistopic_objects/VIB_hydrop_3.FULL__cto.pkl already exists, skipping...\n",
      "cistopic_objects/VIB_hydrop_4.FULL__cto.pkl already exists, skipping...\n",
      "cistopic_objects/VIB_hydrop_5.FULL__cto.pkl already exists, skipping...\n",
      "All samples already processed.\n"
     ]
    },
    {
     "data": {
      "application/javascript": [
       "\n",
       "            setTimeout(function() {\n",
       "                var nbb_cell_id = 18;\n",
       "                var nbb_unformatted_code = \"n_cores = 70\\nfor sample in metadata_bc_sub_dict.keys():\\n    cto_path = os.path.join(cistopic_objects_out, f\\\"{sample}__cto.pkl\\\")\\n    if not os.path.exists(cto_path):\\n        print(f\\\"{cto_path} does not exist, generating...\\\")\\n\\n        infile = open(metadata_bc_sub_dict[sample], 'rb')\\n        metadata_bc = pickle.load(infile)\\n        metadata_bc.index = [bc.split(\\\"___\\\")[0] for bc in metadata_bc.index]\\n        infile.close()\\n        infile = open(bc_passing_filters_sub_dict[sample], 'rb')\\n        bc_passing_filters = pickle.load(infile)\\n        infile.close()\\n        bc_passing_filters_fixed = [bc.split(\\\"___\\\")[0] for bc in bc_passing_filters]\\n\\n        cto = create_cistopic_object_from_fragments(path_to_fragments=fragments_dict[sample],\\n                                                        path_to_regions=regions_path,\\n                                                        path_to_blacklist=path_to_blacklist,\\n                                                        metrics=metadata_bc,\\n                                                        valid_bc=bc_passing_filters_fixed,\\n                                                        n_cpu=n_cores,\\n                                                        partition=10,\\n                                                        project=sample)\\n\\n        cto_path = os.path.join(cistopic_objects_out, f\\\"{sample}__cto.pkl\\\")\\n        print(f\\\"Writing {sample} cto in {cto_path}...\\\")\\n\\n        with open(\\n            cto_path, \\\"wb\\\"\\n        ) as f:\\n            pickle.dump(cto, f, protocol=4)\\n    else:\\n        print(f\\\"{cto_path} already exists, skipping...\\\")\\n\\nelse:\\n    print(\\\"All samples already processed.\\\")\";\n",
       "                var nbb_formatted_code = \"n_cores = 70\\nfor sample in metadata_bc_sub_dict.keys():\\n    cto_path = os.path.join(cistopic_objects_out, f\\\"{sample}__cto.pkl\\\")\\n    if not os.path.exists(cto_path):\\n        print(f\\\"{cto_path} does not exist, generating...\\\")\\n\\n        infile = open(metadata_bc_sub_dict[sample], \\\"rb\\\")\\n        metadata_bc = pickle.load(infile)\\n        metadata_bc.index = [bc.split(\\\"___\\\")[0] for bc in metadata_bc.index]\\n        infile.close()\\n        infile = open(bc_passing_filters_sub_dict[sample], \\\"rb\\\")\\n        bc_passing_filters = pickle.load(infile)\\n        infile.close()\\n        bc_passing_filters_fixed = [bc.split(\\\"___\\\")[0] for bc in bc_passing_filters]\\n\\n        cto = create_cistopic_object_from_fragments(\\n            path_to_fragments=fragments_dict[sample],\\n            path_to_regions=regions_path,\\n            path_to_blacklist=path_to_blacklist,\\n            metrics=metadata_bc,\\n            valid_bc=bc_passing_filters_fixed,\\n            n_cpu=n_cores,\\n            partition=10,\\n            project=sample,\\n        )\\n\\n        cto_path = os.path.join(cistopic_objects_out, f\\\"{sample}__cto.pkl\\\")\\n        print(f\\\"Writing {sample} cto in {cto_path}...\\\")\\n\\n        with open(cto_path, \\\"wb\\\") as f:\\n            pickle.dump(cto, f, protocol=4)\\n    else:\\n        print(f\\\"{cto_path} already exists, skipping...\\\")\\n\\nelse:\\n    print(\\\"All samples already processed.\\\")\";\n",
       "                var nbb_cells = Jupyter.notebook.get_cells();\n",
       "                for (var i = 0; i < nbb_cells.length; ++i) {\n",
       "                    if (nbb_cells[i].input_prompt_number == nbb_cell_id) {\n",
       "                        if (nbb_cells[i].get_text() == nbb_unformatted_code) {\n",
       "                             nbb_cells[i].set_text(nbb_formatted_code);\n",
       "                        }\n",
       "                        break;\n",
       "                    }\n",
       "                }\n",
       "            }, 500);\n",
       "            "
      ],
      "text/plain": [
       "<IPython.core.display.Javascript object>"
      ]
     },
     "metadata": {},
     "output_type": "display_data"
    }
   ],
   "source": [
    "n_cores = 70\n",
    "for sample in metadata_bc_sub_dict.keys():\n",
    "    cto_path = os.path.join(cistopic_objects_out, f\"{sample}__cto.pkl\")\n",
    "    if not os.path.exists(cto_path):\n",
    "        print(f\"{cto_path} does not exist, generating...\")\n",
    "\n",
    "        infile = open(metadata_bc_sub_dict[sample], 'rb')\n",
    "        metadata_bc = pickle.load(infile)\n",
    "        metadata_bc.index = [bc.split(\"___\")[0] for bc in metadata_bc.index]\n",
    "        infile.close()\n",
    "        infile = open(bc_passing_filters_sub_dict[sample], 'rb')\n",
    "        bc_passing_filters = pickle.load(infile)\n",
    "        infile.close()\n",
    "        bc_passing_filters_fixed = [bc.split(\"___\")[0] for bc in bc_passing_filters]\n",
    "\n",
    "        cto = create_cistopic_object_from_fragments(path_to_fragments=fragments_dict[sample],\n",
    "                                                        path_to_regions=regions_path,\n",
    "                                                        path_to_blacklist=path_to_blacklist,\n",
    "                                                        metrics=metadata_bc,\n",
    "                                                        valid_bc=bc_passing_filters_fixed,\n",
    "                                                        n_cpu=n_cores,\n",
    "                                                        partition=10,\n",
    "                                                        project=sample)\n",
    "\n",
    "        cto_path = os.path.join(cistopic_objects_out, f\"{sample}__cto.pkl\")\n",
    "        print(f\"Writing {sample} cto in {cto_path}...\")\n",
    "\n",
    "        with open(\n",
    "            cto_path, \"wb\"\n",
    "        ) as f:\n",
    "            pickle.dump(cto, f, protocol=4)\n",
    "    else:\n",
    "        print(f\"{cto_path} already exists, skipping...\")\n",
    "\n",
    "else:\n",
    "    print(\"All samples already processed.\")"
   ]
  },
  {
   "cell_type": "markdown",
   "id": "97e0c207",
   "metadata": {
    "papermill": {
     "duration": 0.072822,
     "end_time": "2022-11-02T11:59:59.420961",
     "exception": false,
     "start_time": "2022-11-02T11:59:59.348139",
     "status": "completed"
    },
    "pycharm": {
     "name": "#%% md\n"
    },
    "tags": []
   },
   "source": [
    "# Run Scrublet"
   ]
  },
  {
   "cell_type": "code",
   "execution_count": 19,
   "id": "62f5dd85",
   "metadata": {
    "execution": {
     "iopub.execute_input": "2022-11-02T13:50:33.242158Z",
     "iopub.status.busy": "2022-11-02T13:50:33.241747Z",
     "iopub.status.idle": "2022-11-02T13:50:33.249180Z",
     "shell.execute_reply": "2022-11-02T13:50:33.248172Z",
     "shell.execute_reply.started": "2022-11-02T13:50:33.242136Z"
    },
    "papermill": {
     "duration": 1.720454,
     "end_time": "2022-11-02T12:00:01.195701",
     "exception": false,
     "start_time": "2022-11-02T11:59:59.475247",
     "status": "completed"
    },
    "pycharm": {
     "name": "#%%\n"
    },
    "tags": []
   },
   "outputs": [
    {
     "data": {
      "application/javascript": [
       "\n",
       "            setTimeout(function() {\n",
       "                var nbb_cell_id = 19;\n",
       "                var nbb_unformatted_code = \"import scrublet as scr\\nimport pandas as pd\\nimport matplotlib.pyplot as plt\";\n",
       "                var nbb_formatted_code = \"import scrublet as scr\\nimport pandas as pd\\nimport matplotlib.pyplot as plt\";\n",
       "                var nbb_cells = Jupyter.notebook.get_cells();\n",
       "                for (var i = 0; i < nbb_cells.length; ++i) {\n",
       "                    if (nbb_cells[i].input_prompt_number == nbb_cell_id) {\n",
       "                        if (nbb_cells[i].get_text() == nbb_unformatted_code) {\n",
       "                             nbb_cells[i].set_text(nbb_formatted_code);\n",
       "                        }\n",
       "                        break;\n",
       "                    }\n",
       "                }\n",
       "            }, 500);\n",
       "            "
      ],
      "text/plain": [
       "<IPython.core.display.Javascript object>"
      ]
     },
     "metadata": {},
     "output_type": "display_data"
    }
   ],
   "source": [
    "import scrublet as scr\n",
    "import pandas as pd\n",
    "import matplotlib.pyplot as plt"
   ]
  },
  {
   "cell_type": "code",
   "execution_count": 20,
   "id": "9010679c",
   "metadata": {
    "execution": {
     "iopub.execute_input": "2022-11-02T13:50:33.250548Z",
     "iopub.status.busy": "2022-11-02T13:50:33.250281Z",
     "iopub.status.idle": "2022-11-02T13:50:33.275268Z",
     "shell.execute_reply": "2022-11-02T13:50:33.274057Z",
     "shell.execute_reply.started": "2022-11-02T13:50:33.250524Z"
    },
    "papermill": {
     "duration": 0.087161,
     "end_time": "2022-11-02T12:00:01.352331",
     "exception": false,
     "start_time": "2022-11-02T12:00:01.265170",
     "status": "completed"
    },
    "pycharm": {
     "name": "#%%\n"
    },
    "tags": []
   },
   "outputs": [
    {
     "data": {
      "text/plain": [
       "{'BIO_ddseq_m1c1.FULL': 'cistopic_objects/BIO_ddseq_m1c1.FULL__cto.pkl',\n",
       " 'BIO_ddseq_m1c2.FULL': 'cistopic_objects/BIO_ddseq_m1c2.FULL__cto.pkl',\n",
       " 'BIO_ddseq_m1c3.FULL': 'cistopic_objects/BIO_ddseq_m1c3.FULL__cto.pkl',\n",
       " 'BIO_ddseq_m1c4.FULL': 'cistopic_objects/BIO_ddseq_m1c4.FULL__cto.pkl',\n",
       " 'BIO_ddseq_m1c5.FULL': 'cistopic_objects/BIO_ddseq_m1c5.FULL__cto.pkl',\n",
       " 'BIO_ddseq_m1c6.FULL': 'cistopic_objects/BIO_ddseq_m1c6.FULL__cto.pkl',\n",
       " 'BIO_ddseq_m1c7.FULL': 'cistopic_objects/BIO_ddseq_m1c7.FULL__cto.pkl',\n",
       " 'BIO_ddseq_m1c8.FULL': 'cistopic_objects/BIO_ddseq_m1c8.FULL__cto.pkl',\n",
       " 'BIO_ddseq_m2c1.FULL': 'cistopic_objects/BIO_ddseq_m2c1.FULL__cto.pkl',\n",
       " 'BIO_ddseq_m2c2.FULL': 'cistopic_objects/BIO_ddseq_m2c2.FULL__cto.pkl',\n",
       " 'BIO_ddseq_m2c3.FULL': 'cistopic_objects/BIO_ddseq_m2c3.FULL__cto.pkl',\n",
       " 'BIO_ddseq_m2c4.FULL': 'cistopic_objects/BIO_ddseq_m2c4.FULL__cto.pkl',\n",
       " 'OHS_s3atac_mouse.FULL': 'cistopic_objects/OHS_s3atac_mouse.FULL__cto.pkl',\n",
       " 'TXG_10xmultiome_e18mousebrainfresh.FULL': 'cistopic_objects/TXG_10xmultiome_e18mousebrainfresh.FULL__cto.pkl',\n",
       " 'TXG_10xv11_adultmousecortexchromiumx.FULL': 'cistopic_objects/TXG_10xv11_adultmousecortexchromiumx.FULL__cto.pkl',\n",
       " 'TXG_10xv1_adultmousefresh.FULL': 'cistopic_objects/TXG_10xv1_adultmousefresh.FULL__cto.pkl',\n",
       " 'TXG_10xv2_adultmousecortex.FULL': 'cistopic_objects/TXG_10xv2_adultmousecortex.FULL__cto.pkl',\n",
       " 'TXG_10xv2_adultmousecortexchromiumx.FULL': 'cistopic_objects/TXG_10xv2_adultmousecortexchromiumx.FULL__cto.pkl',\n",
       " 'VIB_hydrop_1.FULL': 'cistopic_objects/VIB_hydrop_1.FULL__cto.pkl',\n",
       " 'VIB_hydrop_2.FULL': 'cistopic_objects/VIB_hydrop_2.FULL__cto.pkl',\n",
       " 'VIB_hydrop_3.FULL': 'cistopic_objects/VIB_hydrop_3.FULL__cto.pkl',\n",
       " 'VIB_hydrop_4.FULL': 'cistopic_objects/VIB_hydrop_4.FULL__cto.pkl',\n",
       " 'VIB_hydrop_5.FULL': 'cistopic_objects/VIB_hydrop_5.FULL__cto.pkl'}"
      ]
     },
     "execution_count": 20,
     "metadata": {},
     "output_type": "execute_result"
    },
    {
     "data": {
      "application/javascript": [
       "\n",
       "            setTimeout(function() {\n",
       "                var nbb_cell_id = 20;\n",
       "                var nbb_unformatted_code = \"cto_dict = {x.split('/')[-1].split('__cto.pkl')[0]:x for x in sorted(glob.glob('cistopic_objects/*__cto.pkl'))}\\ncto_dict\";\n",
       "                var nbb_formatted_code = \"cto_dict = {\\n    x.split(\\\"/\\\")[-1].split(\\\"__cto.pkl\\\")[0]: x\\n    for x in sorted(glob.glob(\\\"cistopic_objects/*__cto.pkl\\\"))\\n}\\ncto_dict\";\n",
       "                var nbb_cells = Jupyter.notebook.get_cells();\n",
       "                for (var i = 0; i < nbb_cells.length; ++i) {\n",
       "                    if (nbb_cells[i].input_prompt_number == nbb_cell_id) {\n",
       "                        if (nbb_cells[i].get_text() == nbb_unformatted_code) {\n",
       "                             nbb_cells[i].set_text(nbb_formatted_code);\n",
       "                        }\n",
       "                        break;\n",
       "                    }\n",
       "                }\n",
       "            }, 500);\n",
       "            "
      ],
      "text/plain": [
       "<IPython.core.display.Javascript object>"
      ]
     },
     "metadata": {},
     "output_type": "display_data"
    }
   ],
   "source": [
    "cto_dict = {x.split('/')[-1].split('__cto.pkl')[0]:x for x in sorted(glob.glob('cistopic_objects/*__cto.pkl'))}\n",
    "cto_dict"
   ]
  },
  {
   "cell_type": "code",
   "execution_count": 21,
   "id": "e7cb51db",
   "metadata": {
    "execution": {
     "iopub.execute_input": "2022-11-02T13:50:33.277371Z",
     "iopub.status.busy": "2022-11-02T13:50:33.276803Z",
     "iopub.status.idle": "2022-11-02T13:50:33.403024Z",
     "shell.execute_reply": "2022-11-02T13:50:33.401680Z",
     "shell.execute_reply.started": "2022-11-02T13:50:33.277331Z"
    },
    "papermill": {
     "duration": 0.188106,
     "end_time": "2022-11-02T12:00:01.607701",
     "exception": false,
     "start_time": "2022-11-02T12:00:01.419595",
     "status": "completed"
    },
    "pycharm": {
     "name": "#%%\n"
    },
    "tags": []
   },
   "outputs": [
    {
     "name": "stdout",
     "output_type": "stream",
     "text": [
      "Checking if cistopic_objects/BIO_ddseq_m1c1.FULL__cto.scrublet0-4.pkl exist...\n",
      "\tcistopic_objects/BIO_ddseq_m1c1.FULL__cto.scrublet0-4.pkl exists! Skipping...\n",
      "Checking if cistopic_objects/BIO_ddseq_m1c2.FULL__cto.scrublet0-4.pkl exist...\n",
      "\tcistopic_objects/BIO_ddseq_m1c2.FULL__cto.scrublet0-4.pkl exists! Skipping...\n",
      "Checking if cistopic_objects/BIO_ddseq_m1c3.FULL__cto.scrublet0-4.pkl exist...\n",
      "\tcistopic_objects/BIO_ddseq_m1c3.FULL__cto.scrublet0-4.pkl exists! Skipping...\n",
      "Checking if cistopic_objects/BIO_ddseq_m1c4.FULL__cto.scrublet0-4.pkl exist...\n",
      "\tcistopic_objects/BIO_ddseq_m1c4.FULL__cto.scrublet0-4.pkl exists! Skipping...\n",
      "Checking if cistopic_objects/BIO_ddseq_m1c5.FULL__cto.scrublet0-4.pkl exist...\n",
      "\tcistopic_objects/BIO_ddseq_m1c5.FULL__cto.scrublet0-4.pkl exists! Skipping...\n",
      "Checking if cistopic_objects/BIO_ddseq_m1c6.FULL__cto.scrublet0-4.pkl exist...\n",
      "\tcistopic_objects/BIO_ddseq_m1c6.FULL__cto.scrublet0-4.pkl exists! Skipping...\n",
      "Checking if cistopic_objects/BIO_ddseq_m1c7.FULL__cto.scrublet0-4.pkl exist...\n",
      "\tcistopic_objects/BIO_ddseq_m1c7.FULL__cto.scrublet0-4.pkl exists! Skipping...\n",
      "Checking if cistopic_objects/BIO_ddseq_m1c8.FULL__cto.scrublet0-4.pkl exist...\n",
      "\tcistopic_objects/BIO_ddseq_m1c8.FULL__cto.scrublet0-4.pkl exists! Skipping...\n",
      "Checking if cistopic_objects/BIO_ddseq_m2c1.FULL__cto.scrublet0-4.pkl exist...\n",
      "\tcistopic_objects/BIO_ddseq_m2c1.FULL__cto.scrublet0-4.pkl exists! Skipping...\n",
      "Checking if cistopic_objects/BIO_ddseq_m2c2.FULL__cto.scrublet0-4.pkl exist...\n",
      "\tcistopic_objects/BIO_ddseq_m2c2.FULL__cto.scrublet0-4.pkl exists! Skipping...\n",
      "Checking if cistopic_objects/BIO_ddseq_m2c3.FULL__cto.scrublet0-4.pkl exist...\n",
      "\tcistopic_objects/BIO_ddseq_m2c3.FULL__cto.scrublet0-4.pkl exists! Skipping...\n",
      "Checking if cistopic_objects/BIO_ddseq_m2c4.FULL__cto.scrublet0-4.pkl exist...\n",
      "\tcistopic_objects/BIO_ddseq_m2c4.FULL__cto.scrublet0-4.pkl exists! Skipping...\n",
      "Checking if cistopic_objects/OHS_s3atac_mouse.FULL__cto.scrublet0-4.pkl exist...\n",
      "\tcistopic_objects/OHS_s3atac_mouse.FULL__cto.scrublet0-4.pkl exists! Skipping...\n",
      "Checking if cistopic_objects/TXG_10xmultiome_e18mousebrainfresh.FULL__cto.scrublet0-4.pkl exist...\n",
      "\tcistopic_objects/TXG_10xmultiome_e18mousebrainfresh.FULL__cto.scrublet0-4.pkl exists! Skipping...\n",
      "Checking if cistopic_objects/TXG_10xv11_adultmousecortexchromiumx.FULL__cto.scrublet0-4.pkl exist...\n",
      "\tcistopic_objects/TXG_10xv11_adultmousecortexchromiumx.FULL__cto.scrublet0-4.pkl exists! Skipping...\n",
      "Checking if cistopic_objects/TXG_10xv1_adultmousefresh.FULL__cto.scrublet0-4.pkl exist...\n",
      "\tcistopic_objects/TXG_10xv1_adultmousefresh.FULL__cto.scrublet0-4.pkl exists! Skipping...\n",
      "Checking if cistopic_objects/TXG_10xv2_adultmousecortex.FULL__cto.scrublet0-4.pkl exist...\n",
      "\tcistopic_objects/TXG_10xv2_adultmousecortex.FULL__cto.scrublet0-4.pkl exists! Skipping...\n",
      "Checking if cistopic_objects/TXG_10xv2_adultmousecortexchromiumx.FULL__cto.scrublet0-4.pkl exist...\n",
      "\tcistopic_objects/TXG_10xv2_adultmousecortexchromiumx.FULL__cto.scrublet0-4.pkl exists! Skipping...\n",
      "Checking if cistopic_objects/VIB_hydrop_1.FULL__cto.scrublet0-4.pkl exist...\n",
      "\tcistopic_objects/VIB_hydrop_1.FULL__cto.scrublet0-4.pkl exists! Skipping...\n",
      "Checking if cistopic_objects/VIB_hydrop_2.FULL__cto.scrublet0-4.pkl exist...\n",
      "\tcistopic_objects/VIB_hydrop_2.FULL__cto.scrublet0-4.pkl exists! Skipping...\n",
      "Checking if cistopic_objects/VIB_hydrop_3.FULL__cto.scrublet0-4.pkl exist...\n",
      "\tcistopic_objects/VIB_hydrop_3.FULL__cto.scrublet0-4.pkl exists! Skipping...\n",
      "Checking if cistopic_objects/VIB_hydrop_4.FULL__cto.scrublet0-4.pkl exist...\n",
      "\tcistopic_objects/VIB_hydrop_4.FULL__cto.scrublet0-4.pkl exists! Skipping...\n",
      "Checking if cistopic_objects/VIB_hydrop_5.FULL__cto.scrublet0-4.pkl exist...\n",
      "\tcistopic_objects/VIB_hydrop_5.FULL__cto.scrublet0-4.pkl exists! Skipping...\n"
     ]
    },
    {
     "data": {
      "application/javascript": [
       "\n",
       "            setTimeout(function() {\n",
       "                var nbb_cell_id = 21;\n",
       "                var nbb_unformatted_code = \"fragments_sub_dict = {}\\nscrubcto_dict = {}\\nscrub_threshold = 0.4\\nscrub_name_suffix = \\\"0-4\\\"\\n#regions_sub_dict = {}\\nfor sample in cto_dict:\\n    cto = os.path.join('cistopic_objects', sample + f\\\"__cto.scrublet{scrub_name_suffix}.pkl\\\")\\n    print(f\\\"Checking if {cto} exist...\\\")\\n    if os.path.exists(cto):\\n        print(f\\\"\\\\t{cto} exists! Skipping...\\\")\\n    else:\\n        print(f\\\"\\\\t{cto} does not exist, adding to subdict to generate\\\")\\n        scrubcto_dict[sample] = cto\";\n",
       "                var nbb_formatted_code = \"fragments_sub_dict = {}\\nscrubcto_dict = {}\\nscrub_threshold = 0.4\\nscrub_name_suffix = \\\"0-4\\\"\\n# regions_sub_dict = {}\\nfor sample in cto_dict:\\n    cto = os.path.join(\\n        \\\"cistopic_objects\\\", sample + f\\\"__cto.scrublet{scrub_name_suffix}.pkl\\\"\\n    )\\n    print(f\\\"Checking if {cto} exist...\\\")\\n    if os.path.exists(cto):\\n        print(f\\\"\\\\t{cto} exists! Skipping...\\\")\\n    else:\\n        print(f\\\"\\\\t{cto} does not exist, adding to subdict to generate\\\")\\n        scrubcto_dict[sample] = cto\";\n",
       "                var nbb_cells = Jupyter.notebook.get_cells();\n",
       "                for (var i = 0; i < nbb_cells.length; ++i) {\n",
       "                    if (nbb_cells[i].input_prompt_number == nbb_cell_id) {\n",
       "                        if (nbb_cells[i].get_text() == nbb_unformatted_code) {\n",
       "                             nbb_cells[i].set_text(nbb_formatted_code);\n",
       "                        }\n",
       "                        break;\n",
       "                    }\n",
       "                }\n",
       "            }, 500);\n",
       "            "
      ],
      "text/plain": [
       "<IPython.core.display.Javascript object>"
      ]
     },
     "metadata": {},
     "output_type": "display_data"
    }
   ],
   "source": [
    "fragments_sub_dict = {}\n",
    "scrubcto_dict = {}\n",
    "scrub_threshold = 0.4\n",
    "scrub_name_suffix = \"0-4\"\n",
    "#regions_sub_dict = {}\n",
    "for sample in cto_dict:\n",
    "    cto = os.path.join('cistopic_objects', sample + f\"__cto.scrublet{scrub_name_suffix}.pkl\")\n",
    "    print(f\"Checking if {cto} exist...\")\n",
    "    if os.path.exists(cto):\n",
    "        print(f\"\\t{cto} exists! Skipping...\")\n",
    "    else:\n",
    "        print(f\"\\t{cto} does not exist, adding to subdict to generate\")\n",
    "        scrubcto_dict[sample] = cto"
   ]
  },
  {
   "cell_type": "code",
   "execution_count": 22,
   "id": "ba266f56",
   "metadata": {
    "execution": {
     "iopub.execute_input": "2022-11-02T13:50:33.405363Z",
     "iopub.status.busy": "2022-11-02T13:50:33.404803Z",
     "iopub.status.idle": "2022-11-02T13:50:33.441676Z",
     "shell.execute_reply": "2022-11-02T13:50:33.440756Z",
     "shell.execute_reply.started": "2022-11-02T13:50:33.405326Z"
    },
    "papermill": {
     "duration": 275.703488,
     "end_time": "2022-11-02T12:04:37.402133",
     "exception": false,
     "start_time": "2022-11-02T12:00:01.698645",
     "status": "completed"
    },
    "pycharm": {
     "name": "#%%\n"
    },
    "tags": []
   },
   "outputs": [
    {
     "data": {
      "application/javascript": [
       "\n",
       "            setTimeout(function() {\n",
       "                var nbb_cell_id = 22;\n",
       "                var nbb_unformatted_code = \"if cto_dict != {}:\\n    for sample in scrubcto_dict.keys():\\n        with open(cto_dict[sample], 'rb') as f:\\n            cto = pickle.load(f)\\n        print(f\\\"Loaded {cto_dict[sample]}\\\")\\n        scrub = scr.Scrublet(cto.fragment_matrix.T, expected_doublet_rate=0.1)\\n        doublet_scores, predicted_doublets = scrub.scrub_doublets()\\n        # scrub.plot_histogram()\\n        scrub.call_doublets(threshold=scrub_threshold)\\n        a,b = scrub.plot_histogram()\\n        a.suptitle(sample)\\n        plt.savefig(f'plots_qc/{sample}.scrublet_histogram.png', dpi=150, facecolor='white')\\n        plt.show()\\n        plt.close()\\n\\n        print('Running UMAP...')\\n        scrub.set_embedding('UMAP', scr.get_umap(scrub.manifold_obs_, 10, min_dist=0.3))\\n        scrub.plot_embedding('UMAP', order_points=True);\\n        plt.savefig(f'plots_qc/{sample}.scrublet_umap.png', dpi=150, facecolor='white')\\n        plt.show()\\n        plt.close()\\n\\n        scrublet = pd.DataFrame([scrub.doublet_scores_obs_, scrub.predicted_doublets_], \\n            columns=cto.cell_names,\\n            index=['Doublet_scores_fragments', 'Predicted_doublets_fragments']).T\\n        cto.add_cell_data(scrublet)\\n        n_scrublet_doublets = len(cto.cell_data[\\\"Predicted_doublets_fragments\\\"] == True)\\n        print(f\\\"{sample}: found doublets: \\\\n\\\\t({n_scrublet_doublets}: Scrublet)\\\"\\n             )\\n\\n        cto_path_new = scrubcto_dict[sample]\\n\\n        with open(\\n            cto_path_new, \\\"wb\\\"\\n        ) as f:\\n            pickle.dump(cto, f, protocol=4)\\n\\n        print('\\\\n')\\n        \\nelse:\\n    print(\\\"All samples already processed.\\\")\";\n",
       "                var nbb_formatted_code = \"if cto_dict != {}:\\n    for sample in scrubcto_dict.keys():\\n        with open(cto_dict[sample], \\\"rb\\\") as f:\\n            cto = pickle.load(f)\\n        print(f\\\"Loaded {cto_dict[sample]}\\\")\\n        scrub = scr.Scrublet(cto.fragment_matrix.T, expected_doublet_rate=0.1)\\n        doublet_scores, predicted_doublets = scrub.scrub_doublets()\\n        # scrub.plot_histogram()\\n        scrub.call_doublets(threshold=scrub_threshold)\\n        a, b = scrub.plot_histogram()\\n        a.suptitle(sample)\\n        plt.savefig(\\n            f\\\"plots_qc/{sample}.scrublet_histogram.png\\\", dpi=150, facecolor=\\\"white\\\"\\n        )\\n        plt.show()\\n        plt.close()\\n\\n        print(\\\"Running UMAP...\\\")\\n        scrub.set_embedding(\\\"UMAP\\\", scr.get_umap(scrub.manifold_obs_, 10, min_dist=0.3))\\n        scrub.plot_embedding(\\\"UMAP\\\", order_points=True)\\n        plt.savefig(f\\\"plots_qc/{sample}.scrublet_umap.png\\\", dpi=150, facecolor=\\\"white\\\")\\n        plt.show()\\n        plt.close()\\n\\n        scrublet = pd.DataFrame(\\n            [scrub.doublet_scores_obs_, scrub.predicted_doublets_],\\n            columns=cto.cell_names,\\n            index=[\\\"Doublet_scores_fragments\\\", \\\"Predicted_doublets_fragments\\\"],\\n        ).T\\n        cto.add_cell_data(scrublet)\\n        n_scrublet_doublets = len(cto.cell_data[\\\"Predicted_doublets_fragments\\\"] == True)\\n        print(f\\\"{sample}: found doublets: \\\\n\\\\t({n_scrublet_doublets}: Scrublet)\\\")\\n\\n        cto_path_new = scrubcto_dict[sample]\\n\\n        with open(cto_path_new, \\\"wb\\\") as f:\\n            pickle.dump(cto, f, protocol=4)\\n\\n        print(\\\"\\\\n\\\")\\n\\nelse:\\n    print(\\\"All samples already processed.\\\")\";\n",
       "                var nbb_cells = Jupyter.notebook.get_cells();\n",
       "                for (var i = 0; i < nbb_cells.length; ++i) {\n",
       "                    if (nbb_cells[i].input_prompt_number == nbb_cell_id) {\n",
       "                        if (nbb_cells[i].get_text() == nbb_unformatted_code) {\n",
       "                             nbb_cells[i].set_text(nbb_formatted_code);\n",
       "                        }\n",
       "                        break;\n",
       "                    }\n",
       "                }\n",
       "            }, 500);\n",
       "            "
      ],
      "text/plain": [
       "<IPython.core.display.Javascript object>"
      ]
     },
     "metadata": {},
     "output_type": "display_data"
    }
   ],
   "source": [
    "if cto_dict != {}:\n",
    "    for sample in scrubcto_dict.keys():\n",
    "        with open(cto_dict[sample], 'rb') as f:\n",
    "            cto = pickle.load(f)\n",
    "        print(f\"Loaded {cto_dict[sample]}\")\n",
    "        scrub = scr.Scrublet(cto.fragment_matrix.T, expected_doublet_rate=0.1)\n",
    "        doublet_scores, predicted_doublets = scrub.scrub_doublets()\n",
    "        # scrub.plot_histogram()\n",
    "        scrub.call_doublets(threshold=scrub_threshold)\n",
    "        a,b = scrub.plot_histogram()\n",
    "        a.suptitle(sample)\n",
    "        plt.savefig(f'plots_qc/{sample}.scrublet_histogram.png', dpi=150, facecolor='white')\n",
    "        plt.show()\n",
    "        plt.close()\n",
    "\n",
    "        print('Running UMAP...')\n",
    "        scrub.set_embedding('UMAP', scr.get_umap(scrub.manifold_obs_, 10, min_dist=0.3))\n",
    "        scrub.plot_embedding('UMAP', order_points=True);\n",
    "        plt.savefig(f'plots_qc/{sample}.scrublet_umap.png', dpi=150, facecolor='white')\n",
    "        plt.show()\n",
    "        plt.close()\n",
    "\n",
    "        scrublet = pd.DataFrame([scrub.doublet_scores_obs_, scrub.predicted_doublets_], \n",
    "            columns=cto.cell_names,\n",
    "            index=['Doublet_scores_fragments', 'Predicted_doublets_fragments']).T\n",
    "        cto.add_cell_data(scrublet)\n",
    "        n_scrublet_doublets = len(cto.cell_data[\"Predicted_doublets_fragments\"] == True)\n",
    "        print(f\"{sample}: found doublets: \\n\\t({n_scrublet_doublets}: Scrublet)\"\n",
    "             )\n",
    "\n",
    "        cto_path_new = scrubcto_dict[sample]\n",
    "\n",
    "        with open(\n",
    "            cto_path_new, \"wb\"\n",
    "        ) as f:\n",
    "            pickle.dump(cto, f, protocol=4)\n",
    "\n",
    "        print('\\n')\n",
    "        \n",
    "else:\n",
    "    print(\"All samples already processed.\")"
   ]
  },
  {
   "cell_type": "markdown",
   "id": "72c83d27",
   "metadata": {
    "papermill": {
     "duration": 0.093398,
     "end_time": "2022-11-02T12:04:37.614824",
     "exception": false,
     "start_time": "2022-11-02T12:04:37.521426",
     "status": "completed"
    },
    "pycharm": {
     "name": "#%% md\n"
    },
    "tags": []
   },
   "source": [
    "# Read scrublet ctos"
   ]
  },
  {
   "cell_type": "code",
   "execution_count": 23,
   "id": "7088f21f",
   "metadata": {
    "execution": {
     "iopub.execute_input": "2022-11-02T13:50:47.213800Z",
     "iopub.status.busy": "2022-11-02T13:50:47.212984Z",
     "iopub.status.idle": "2022-11-02T13:50:47.240782Z",
     "shell.execute_reply": "2022-11-02T13:50:47.239711Z",
     "shell.execute_reply.started": "2022-11-02T13:50:47.213729Z"
    },
    "papermill": {
     "duration": 0.114947,
     "end_time": "2022-11-02T12:04:37.814507",
     "exception": false,
     "start_time": "2022-11-02T12:04:37.699560",
     "status": "completed"
    },
    "pycharm": {
     "name": "#%%\n"
    },
    "tags": []
   },
   "outputs": [
    {
     "data": {
      "text/plain": [
       "{'BIO_ddseq_m1c1.FULL': 'cistopic_objects/BIO_ddseq_m1c1.FULL__cto.scrublet0-4.pkl',\n",
       " 'BIO_ddseq_m1c2.FULL': 'cistopic_objects/BIO_ddseq_m1c2.FULL__cto.scrublet0-4.pkl',\n",
       " 'BIO_ddseq_m1c3.FULL': 'cistopic_objects/BIO_ddseq_m1c3.FULL__cto.scrublet0-4.pkl',\n",
       " 'BIO_ddseq_m1c4.FULL': 'cistopic_objects/BIO_ddseq_m1c4.FULL__cto.scrublet0-4.pkl',\n",
       " 'BIO_ddseq_m1c5.FULL': 'cistopic_objects/BIO_ddseq_m1c5.FULL__cto.scrublet0-4.pkl',\n",
       " 'BIO_ddseq_m1c6.FULL': 'cistopic_objects/BIO_ddseq_m1c6.FULL__cto.scrublet0-4.pkl',\n",
       " 'BIO_ddseq_m1c7.FULL': 'cistopic_objects/BIO_ddseq_m1c7.FULL__cto.scrublet0-4.pkl',\n",
       " 'BIO_ddseq_m1c8.FULL': 'cistopic_objects/BIO_ddseq_m1c8.FULL__cto.scrublet0-4.pkl',\n",
       " 'BIO_ddseq_m2c1.FULL': 'cistopic_objects/BIO_ddseq_m2c1.FULL__cto.scrublet0-4.pkl',\n",
       " 'BIO_ddseq_m2c2.FULL': 'cistopic_objects/BIO_ddseq_m2c2.FULL__cto.scrublet0-4.pkl',\n",
       " 'BIO_ddseq_m2c3.FULL': 'cistopic_objects/BIO_ddseq_m2c3.FULL__cto.scrublet0-4.pkl',\n",
       " 'BIO_ddseq_m2c4.FULL': 'cistopic_objects/BIO_ddseq_m2c4.FULL__cto.scrublet0-4.pkl',\n",
       " 'OHS_s3atac_mouse.FULL': 'cistopic_objects/OHS_s3atac_mouse.FULL__cto.scrublet0-4.pkl',\n",
       " 'TXG_10xmultiome_e18mousebrainfresh.FULL': 'cistopic_objects/TXG_10xmultiome_e18mousebrainfresh.FULL__cto.scrublet0-4.pkl',\n",
       " 'TXG_10xv11_adultmousecortexchromiumx.FULL': 'cistopic_objects/TXG_10xv11_adultmousecortexchromiumx.FULL__cto.scrublet0-4.pkl',\n",
       " 'TXG_10xv1_adultmousefresh.FULL': 'cistopic_objects/TXG_10xv1_adultmousefresh.FULL__cto.scrublet0-4.pkl',\n",
       " 'TXG_10xv2_adultmousecortex.FULL': 'cistopic_objects/TXG_10xv2_adultmousecortex.FULL__cto.scrublet0-4.pkl',\n",
       " 'TXG_10xv2_adultmousecortexchromiumx.FULL': 'cistopic_objects/TXG_10xv2_adultmousecortexchromiumx.FULL__cto.scrublet0-4.pkl',\n",
       " 'VIB_hydrop_1.FULL': 'cistopic_objects/VIB_hydrop_1.FULL__cto.scrublet0-4.pkl',\n",
       " 'VIB_hydrop_2.FULL': 'cistopic_objects/VIB_hydrop_2.FULL__cto.scrublet0-4.pkl',\n",
       " 'VIB_hydrop_3.FULL': 'cistopic_objects/VIB_hydrop_3.FULL__cto.scrublet0-4.pkl',\n",
       " 'VIB_hydrop_4.FULL': 'cistopic_objects/VIB_hydrop_4.FULL__cto.scrublet0-4.pkl',\n",
       " 'VIB_hydrop_5.FULL': 'cistopic_objects/VIB_hydrop_5.FULL__cto.scrublet0-4.pkl'}"
      ]
     },
     "execution_count": 23,
     "metadata": {},
     "output_type": "execute_result"
    },
    {
     "data": {
      "application/javascript": [
       "\n",
       "            setTimeout(function() {\n",
       "                var nbb_cell_id = 23;\n",
       "                var nbb_unformatted_code = \"scrubcto_dict = {x.split('/')[-1].split(f'__cto.scrublet{scrub_name_suffix}.pkl')[0]:x for x in sorted(glob.glob(f'cistopic_objects/*__cto.scrublet{scrub_name_suffix}.pkl'))}\\nscrubcto_dict\";\n",
       "                var nbb_formatted_code = \"scrubcto_dict = {\\n    x.split(\\\"/\\\")[-1].split(f\\\"__cto.scrublet{scrub_name_suffix}.pkl\\\")[0]: x\\n    for x in sorted(\\n        glob.glob(f\\\"cistopic_objects/*__cto.scrublet{scrub_name_suffix}.pkl\\\")\\n    )\\n}\\nscrubcto_dict\";\n",
       "                var nbb_cells = Jupyter.notebook.get_cells();\n",
       "                for (var i = 0; i < nbb_cells.length; ++i) {\n",
       "                    if (nbb_cells[i].input_prompt_number == nbb_cell_id) {\n",
       "                        if (nbb_cells[i].get_text() == nbb_unformatted_code) {\n",
       "                             nbb_cells[i].set_text(nbb_formatted_code);\n",
       "                        }\n",
       "                        break;\n",
       "                    }\n",
       "                }\n",
       "            }, 500);\n",
       "            "
      ],
      "text/plain": [
       "<IPython.core.display.Javascript object>"
      ]
     },
     "metadata": {},
     "output_type": "display_data"
    }
   ],
   "source": [
    "scrubcto_dict = {x.split('/')[-1].split(f'__cto.scrublet{scrub_name_suffix}.pkl')[0]:x for x in sorted(glob.glob(f'cistopic_objects/*__cto.scrublet{scrub_name_suffix}.pkl'))}\n",
    "scrubcto_dict"
   ]
  },
  {
   "cell_type": "code",
   "execution_count": 24,
   "id": "a134093d",
   "metadata": {
    "execution": {
     "iopub.execute_input": "2022-11-02T14:24:56.092334Z",
     "iopub.status.busy": "2022-11-02T14:24:56.091461Z",
     "iopub.status.idle": "2022-11-02T14:24:56.103155Z",
     "shell.execute_reply": "2022-11-02T14:24:56.101725Z",
     "shell.execute_reply.started": "2022-11-02T14:24:56.092276Z"
    }
   },
   "outputs": [
    {
     "data": {
      "application/javascript": [
       "\n",
       "            setTimeout(function() {\n",
       "                var nbb_cell_id = 24;\n",
       "                var nbb_unformatted_code = \"removed_bcs_dict = {}\";\n",
       "                var nbb_formatted_code = \"removed_bcs_dict = {}\";\n",
       "                var nbb_cells = Jupyter.notebook.get_cells();\n",
       "                for (var i = 0; i < nbb_cells.length; ++i) {\n",
       "                    if (nbb_cells[i].input_prompt_number == nbb_cell_id) {\n",
       "                        if (nbb_cells[i].get_text() == nbb_unformatted_code) {\n",
       "                             nbb_cells[i].set_text(nbb_formatted_code);\n",
       "                        }\n",
       "                        break;\n",
       "                    }\n",
       "                }\n",
       "            }, 500);\n",
       "            "
      ],
      "text/plain": [
       "<IPython.core.display.Javascript object>"
      ]
     },
     "metadata": {},
     "output_type": "display_data"
    }
   ],
   "source": [
    "removed_bcs_dict = {}"
   ]
  },
  {
   "cell_type": "code",
   "execution_count": 25,
   "id": "35daa7f2",
   "metadata": {
    "execution": {
     "iopub.execute_input": "2022-11-02T14:24:56.106925Z",
     "iopub.status.busy": "2022-11-02T14:24:56.106061Z",
     "iopub.status.idle": "2022-11-02T14:26:36.460606Z",
     "shell.execute_reply": "2022-11-02T14:26:36.459553Z",
     "shell.execute_reply.started": "2022-11-02T14:24:56.106870Z"
    },
    "papermill": {
     "duration": 2.989892,
     "end_time": "2022-11-02T12:04:40.900067",
     "exception": true,
     "start_time": "2022-11-02T12:04:37.910175",
     "status": "failed"
    },
    "pycharm": {
     "name": "#%%\n"
    },
    "tags": []
   },
   "outputs": [
    {
     "name": "stdout",
     "output_type": "stream",
     "text": [
      "BIO_ddseq_m1c1.FULL\n",
      "\tLoaded cistopic_objects/BIO_ddseq_m1c1.FULL__cto.scrublet0-4.pkl, removing scr doublets\n",
      "\tBIO_ddseq_m1c1.FULL: Removing 150 cells\n",
      "\t\t150 scr doublets\n",
      "\tWrote cistopic_objects/BIO_ddseq_m1c1.FULL__cto.scrublet0-4.fmx.singlets.pkl, doublet lists and cistopic_objects/BIO_ddseq_m1c1.FULL__cto.scrublet0-4.fmx.singlets.cell_data.tsv\n",
      "\n",
      "BIO_ddseq_m1c2.FULL\n",
      "\tLoaded cistopic_objects/BIO_ddseq_m1c2.FULL__cto.scrublet0-4.pkl, removing scr doublets\n",
      "\tBIO_ddseq_m1c2.FULL: Removing 178 cells\n",
      "\t\t178 scr doublets\n",
      "\tWrote cistopic_objects/BIO_ddseq_m1c2.FULL__cto.scrublet0-4.fmx.singlets.pkl, doublet lists and cistopic_objects/BIO_ddseq_m1c2.FULL__cto.scrublet0-4.fmx.singlets.cell_data.tsv\n",
      "\n",
      "BIO_ddseq_m1c3.FULL\n",
      "\tLoaded cistopic_objects/BIO_ddseq_m1c3.FULL__cto.scrublet0-4.pkl, removing scr doublets\n",
      "\tBIO_ddseq_m1c3.FULL: Removing 164 cells\n",
      "\t\t164 scr doublets\n",
      "\tWrote cistopic_objects/BIO_ddseq_m1c3.FULL__cto.scrublet0-4.fmx.singlets.pkl, doublet lists and cistopic_objects/BIO_ddseq_m1c3.FULL__cto.scrublet0-4.fmx.singlets.cell_data.tsv\n",
      "\n",
      "BIO_ddseq_m1c4.FULL\n",
      "\tLoaded cistopic_objects/BIO_ddseq_m1c4.FULL__cto.scrublet0-4.pkl, removing scr doublets\n",
      "\tBIO_ddseq_m1c4.FULL: Removing 176 cells\n",
      "\t\t176 scr doublets\n",
      "\tWrote cistopic_objects/BIO_ddseq_m1c4.FULL__cto.scrublet0-4.fmx.singlets.pkl, doublet lists and cistopic_objects/BIO_ddseq_m1c4.FULL__cto.scrublet0-4.fmx.singlets.cell_data.tsv\n",
      "\n",
      "BIO_ddseq_m1c5.FULL\n",
      "\tLoaded cistopic_objects/BIO_ddseq_m1c5.FULL__cto.scrublet0-4.pkl, removing scr doublets\n",
      "\tBIO_ddseq_m1c5.FULL: Removing 270 cells\n",
      "\t\t270 scr doublets\n",
      "\tWrote cistopic_objects/BIO_ddseq_m1c5.FULL__cto.scrublet0-4.fmx.singlets.pkl, doublet lists and cistopic_objects/BIO_ddseq_m1c5.FULL__cto.scrublet0-4.fmx.singlets.cell_data.tsv\n",
      "\n",
      "BIO_ddseq_m1c6.FULL\n",
      "\tLoaded cistopic_objects/BIO_ddseq_m1c6.FULL__cto.scrublet0-4.pkl, removing scr doublets\n",
      "\tBIO_ddseq_m1c6.FULL: Removing 182 cells\n",
      "\t\t182 scr doublets\n",
      "\tWrote cistopic_objects/BIO_ddseq_m1c6.FULL__cto.scrublet0-4.fmx.singlets.pkl, doublet lists and cistopic_objects/BIO_ddseq_m1c6.FULL__cto.scrublet0-4.fmx.singlets.cell_data.tsv\n",
      "\n",
      "BIO_ddseq_m1c7.FULL\n",
      "\tLoaded cistopic_objects/BIO_ddseq_m1c7.FULL__cto.scrublet0-4.pkl, removing scr doublets\n",
      "\tBIO_ddseq_m1c7.FULL: Removing 163 cells\n",
      "\t\t163 scr doublets\n",
      "\tWrote cistopic_objects/BIO_ddseq_m1c7.FULL__cto.scrublet0-4.fmx.singlets.pkl, doublet lists and cistopic_objects/BIO_ddseq_m1c7.FULL__cto.scrublet0-4.fmx.singlets.cell_data.tsv\n",
      "\n",
      "BIO_ddseq_m1c8.FULL\n",
      "\tLoaded cistopic_objects/BIO_ddseq_m1c8.FULL__cto.scrublet0-4.pkl, removing scr doublets\n",
      "\tBIO_ddseq_m1c8.FULL: Removing 155 cells\n",
      "\t\t155 scr doublets\n",
      "\tWrote cistopic_objects/BIO_ddseq_m1c8.FULL__cto.scrublet0-4.fmx.singlets.pkl, doublet lists and cistopic_objects/BIO_ddseq_m1c8.FULL__cto.scrublet0-4.fmx.singlets.cell_data.tsv\n",
      "\n",
      "BIO_ddseq_m2c1.FULL\n",
      "\tLoaded cistopic_objects/BIO_ddseq_m2c1.FULL__cto.scrublet0-4.pkl, removing scr doublets\n",
      "\tBIO_ddseq_m2c1.FULL: Removing 108 cells\n",
      "\t\t108 scr doublets\n",
      "\tWrote cistopic_objects/BIO_ddseq_m2c1.FULL__cto.scrublet0-4.fmx.singlets.pkl, doublet lists and cistopic_objects/BIO_ddseq_m2c1.FULL__cto.scrublet0-4.fmx.singlets.cell_data.tsv\n",
      "\n",
      "BIO_ddseq_m2c2.FULL\n",
      "\tLoaded cistopic_objects/BIO_ddseq_m2c2.FULL__cto.scrublet0-4.pkl, removing scr doublets\n",
      "\tBIO_ddseq_m2c2.FULL: Removing 178 cells\n",
      "\t\t178 scr doublets\n",
      "\tWrote cistopic_objects/BIO_ddseq_m2c2.FULL__cto.scrublet0-4.fmx.singlets.pkl, doublet lists and cistopic_objects/BIO_ddseq_m2c2.FULL__cto.scrublet0-4.fmx.singlets.cell_data.tsv\n",
      "\n",
      "BIO_ddseq_m2c3.FULL\n",
      "\tLoaded cistopic_objects/BIO_ddseq_m2c3.FULL__cto.scrublet0-4.pkl, removing scr doublets\n",
      "\tBIO_ddseq_m2c3.FULL: Removing 137 cells\n",
      "\t\t137 scr doublets\n",
      "\tWrote cistopic_objects/BIO_ddseq_m2c3.FULL__cto.scrublet0-4.fmx.singlets.pkl, doublet lists and cistopic_objects/BIO_ddseq_m2c3.FULL__cto.scrublet0-4.fmx.singlets.cell_data.tsv\n",
      "\n",
      "BIO_ddseq_m2c4.FULL\n",
      "\tLoaded cistopic_objects/BIO_ddseq_m2c4.FULL__cto.scrublet0-4.pkl, removing scr doublets\n",
      "\tBIO_ddseq_m2c4.FULL: Removing 104 cells\n",
      "\t\t104 scr doublets\n",
      "\tWrote cistopic_objects/BIO_ddseq_m2c4.FULL__cto.scrublet0-4.fmx.singlets.pkl, doublet lists and cistopic_objects/BIO_ddseq_m2c4.FULL__cto.scrublet0-4.fmx.singlets.cell_data.tsv\n",
      "\n",
      "OHS_s3atac_mouse.FULL\n",
      "\tLoaded cistopic_objects/OHS_s3atac_mouse.FULL__cto.scrublet0-4.pkl, removing scr doublets\n",
      "\tOHS_s3atac_mouse.FULL: Removing 17 cells\n",
      "\t\t17 scr doublets\n",
      "\tWrote cistopic_objects/OHS_s3atac_mouse.FULL__cto.scrublet0-4.fmx.singlets.pkl, doublet lists and cistopic_objects/OHS_s3atac_mouse.FULL__cto.scrublet0-4.fmx.singlets.cell_data.tsv\n",
      "\n",
      "TXG_10xmultiome_e18mousebrainfresh.FULL\n",
      "\tLoaded cistopic_objects/TXG_10xmultiome_e18mousebrainfresh.FULL__cto.scrublet0-4.pkl, removing scr doublets\n",
      "\tTXG_10xmultiome_e18mousebrainfresh.FULL: Removing 161 cells\n",
      "\t\t161 scr doublets\n",
      "\tWrote cistopic_objects/TXG_10xmultiome_e18mousebrainfresh.FULL__cto.scrublet0-4.fmx.singlets.pkl, doublet lists and cistopic_objects/TXG_10xmultiome_e18mousebrainfresh.FULL__cto.scrublet0-4.fmx.singlets.cell_data.tsv\n",
      "\n",
      "TXG_10xv11_adultmousecortexchromiumx.FULL\n",
      "\tLoaded cistopic_objects/TXG_10xv11_adultmousecortexchromiumx.FULL__cto.scrublet0-4.pkl, removing scr doublets\n",
      "\tTXG_10xv11_adultmousecortexchromiumx.FULL: Removing 265 cells\n",
      "\t\t265 scr doublets\n",
      "\tWrote cistopic_objects/TXG_10xv11_adultmousecortexchromiumx.FULL__cto.scrublet0-4.fmx.singlets.pkl, doublet lists and cistopic_objects/TXG_10xv11_adultmousecortexchromiumx.FULL__cto.scrublet0-4.fmx.singlets.cell_data.tsv\n",
      "\n",
      "TXG_10xv1_adultmousefresh.FULL\n",
      "\tLoaded cistopic_objects/TXG_10xv1_adultmousefresh.FULL__cto.scrublet0-4.pkl, removing scr doublets\n",
      "\tTXG_10xv1_adultmousefresh.FULL: Removing 107 cells\n",
      "\t\t107 scr doublets\n",
      "\tWrote cistopic_objects/TXG_10xv1_adultmousefresh.FULL__cto.scrublet0-4.fmx.singlets.pkl, doublet lists and cistopic_objects/TXG_10xv1_adultmousefresh.FULL__cto.scrublet0-4.fmx.singlets.cell_data.tsv\n",
      "\n",
      "TXG_10xv2_adultmousecortex.FULL\n",
      "\tLoaded cistopic_objects/TXG_10xv2_adultmousecortex.FULL__cto.scrublet0-4.pkl, removing scr doublets\n",
      "\tTXG_10xv2_adultmousecortex.FULL: Removing 356 cells\n",
      "\t\t356 scr doublets\n",
      "\tWrote cistopic_objects/TXG_10xv2_adultmousecortex.FULL__cto.scrublet0-4.fmx.singlets.pkl, doublet lists and cistopic_objects/TXG_10xv2_adultmousecortex.FULL__cto.scrublet0-4.fmx.singlets.cell_data.tsv\n",
      "\n",
      "TXG_10xv2_adultmousecortexchromiumx.FULL\n",
      "\tLoaded cistopic_objects/TXG_10xv2_adultmousecortexchromiumx.FULL__cto.scrublet0-4.pkl, removing scr doublets\n",
      "\tTXG_10xv2_adultmousecortexchromiumx.FULL: Removing 344 cells\n",
      "\t\t344 scr doublets\n",
      "\tWrote cistopic_objects/TXG_10xv2_adultmousecortexchromiumx.FULL__cto.scrublet0-4.fmx.singlets.pkl, doublet lists and cistopic_objects/TXG_10xv2_adultmousecortexchromiumx.FULL__cto.scrublet0-4.fmx.singlets.cell_data.tsv\n",
      "\n",
      "VIB_hydrop_1.FULL\n",
      "\tLoaded cistopic_objects/VIB_hydrop_1.FULL__cto.scrublet0-4.pkl, removing scr doublets\n",
      "\tVIB_hydrop_1.FULL: Removing 4 cells\n",
      "\t\t4 scr doublets\n",
      "\tWrote cistopic_objects/VIB_hydrop_1.FULL__cto.scrublet0-4.fmx.singlets.pkl, doublet lists and cistopic_objects/VIB_hydrop_1.FULL__cto.scrublet0-4.fmx.singlets.cell_data.tsv\n",
      "\n",
      "VIB_hydrop_2.FULL\n",
      "\tLoaded cistopic_objects/VIB_hydrop_2.FULL__cto.scrublet0-4.pkl, removing scr doublets\n",
      "\tVIB_hydrop_2.FULL: Removing 14 cells\n",
      "\t\t14 scr doublets\n",
      "\tWrote cistopic_objects/VIB_hydrop_2.FULL__cto.scrublet0-4.fmx.singlets.pkl, doublet lists and cistopic_objects/VIB_hydrop_2.FULL__cto.scrublet0-4.fmx.singlets.cell_data.tsv\n",
      "\n",
      "VIB_hydrop_3.FULL\n",
      "\tLoaded cistopic_objects/VIB_hydrop_3.FULL__cto.scrublet0-4.pkl, removing scr doublets\n",
      "\tVIB_hydrop_3.FULL: Removing 11 cells\n",
      "\t\t11 scr doublets\n",
      "\tWrote cistopic_objects/VIB_hydrop_3.FULL__cto.scrublet0-4.fmx.singlets.pkl, doublet lists and cistopic_objects/VIB_hydrop_3.FULL__cto.scrublet0-4.fmx.singlets.cell_data.tsv\n",
      "\n",
      "VIB_hydrop_4.FULL\n",
      "\tLoaded cistopic_objects/VIB_hydrop_4.FULL__cto.scrublet0-4.pkl, removing scr doublets\n",
      "\tVIB_hydrop_4.FULL: Removing 11 cells\n",
      "\t\t11 scr doublets\n",
      "\tWrote cistopic_objects/VIB_hydrop_4.FULL__cto.scrublet0-4.fmx.singlets.pkl, doublet lists and cistopic_objects/VIB_hydrop_4.FULL__cto.scrublet0-4.fmx.singlets.cell_data.tsv\n",
      "\n",
      "VIB_hydrop_5.FULL\n",
      "\tLoaded cistopic_objects/VIB_hydrop_5.FULL__cto.scrublet0-4.pkl, removing scr doublets\n",
      "\tVIB_hydrop_5.FULL: Removing 6 cells\n",
      "\t\t6 scr doublets\n",
      "\tWrote cistopic_objects/VIB_hydrop_5.FULL__cto.scrublet0-4.fmx.singlets.pkl, doublet lists and cistopic_objects/VIB_hydrop_5.FULL__cto.scrublet0-4.fmx.singlets.cell_data.tsv\n",
      "\n"
     ]
    },
    {
     "data": {
      "application/javascript": [
       "\n",
       "            setTimeout(function() {\n",
       "                var nbb_cell_id = 25;\n",
       "                var nbb_unformatted_code = \"for sample in scrubcto_dict.keys():\\n    print(f\\\"{sample}\\\")\\n    cto_path = scrubcto_dict[sample]\\n    newcto_path = cto_path.replace(f'__cto.scrublet{scrub_name_suffix}.pkl',f'__cto.scrublet{scrub_name_suffix}.fmx.singlets.pkl')\\n    if os.path.exists(newcto_path):\\n        print(f\\\"\\\\t{newcto_path} exists! Skipping...\\\")\\n        \\n    else:\\n        with open(cto_path, 'rb') as f:\\n            cto = pickle.load(f)\\n\\n            print(f\\\"\\\\tLoaded {cto_path}, removing scr doublets\\\")\\n            removed_bcs_dict[sample] = {\\n                'dbl_scrublet': cto.cell_data.barcode[cto.cell_data.Predicted_doublets_fragments == True].tolist()\\n            }\\n\\n            # Remove doublets \\n            singlets = cto.cell_data[\\n                (cto.cell_data.Predicted_doublets_fragments == False)\\n            ].index.tolist()\\n            print(f\\\"\\\\t{sample}: Removing {len(cto.cell_names)-len(singlets)} cells\\\")\\n\\n            scr_doublets = set(cto.cell_data[cto.cell_data['Predicted_doublets_fragments'] == True].index)\\n            print(f\\\"\\\\t\\\\t{len(scr_doublets)} scr doublets\\\")\\n\\n            \\n            scr_doublets_unique_path = cto_path.replace(f'__cto.scrublet{scrub_name_suffix}.pkl',f'__cto.scrublet{scrub_name_suffix}.fmx.scr_doublets_unique.txt')\\n            with open(scr_doublets_unique_path, 'w') as f:\\n                for x in scr_doublets:\\n                    f.write(f\\\"{x}\\\\n\\\")\\n                    \\n                    \\n            # Subset cisTopic object\\n            cto.subset(singlets)\\n\\n            # save\\n            with open(newcto_path, \\\"wb\\\") as f:\\n                pickle.dump(cto, f, protocol=4)\\n\\n            removed_bcs_path = cto_path.replace(f'__cto.scrublet{scrub_name_suffix}.pkl',f'__cto.scrublet{scrub_name_suffix}.fmx.singlets.removed_bcs.pkl')\\n            with open(removed_bcs_path, \\\"wb\\\") as f:\\n                pickle.dump(removed_bcs_path, f, protocol=4)\\n\\n            cell_data_path = cto_path.replace(f'__cto.scrublet{scrub_name_suffix}.pkl',f'__cto.scrublet{scrub_name_suffix}.fmx.singlets.cell_data.tsv')\\n            cto.cell_data.to_csv(cell_data_path)\\n\\n            print(f\\\"\\\\tWrote {newcto_path}, doublet lists and {cell_data_path}\\\\n\\\")\";\n",
       "                var nbb_formatted_code = \"for sample in scrubcto_dict.keys():\\n    print(f\\\"{sample}\\\")\\n    cto_path = scrubcto_dict[sample]\\n    newcto_path = cto_path.replace(\\n        f\\\"__cto.scrublet{scrub_name_suffix}.pkl\\\",\\n        f\\\"__cto.scrublet{scrub_name_suffix}.fmx.singlets.pkl\\\",\\n    )\\n    if os.path.exists(newcto_path):\\n        print(f\\\"\\\\t{newcto_path} exists! Skipping...\\\")\\n\\n    else:\\n        with open(cto_path, \\\"rb\\\") as f:\\n            cto = pickle.load(f)\\n\\n            print(f\\\"\\\\tLoaded {cto_path}, removing scr doublets\\\")\\n            removed_bcs_dict[sample] = {\\n                \\\"dbl_scrublet\\\": cto.cell_data.barcode[\\n                    cto.cell_data.Predicted_doublets_fragments == True\\n                ].tolist()\\n            }\\n\\n            # Remove doublets\\n            singlets = cto.cell_data[\\n                (cto.cell_data.Predicted_doublets_fragments == False)\\n            ].index.tolist()\\n            print(f\\\"\\\\t{sample}: Removing {len(cto.cell_names)-len(singlets)} cells\\\")\\n\\n            scr_doublets = set(\\n                cto.cell_data[\\n                    cto.cell_data[\\\"Predicted_doublets_fragments\\\"] == True\\n                ].index\\n            )\\n            print(f\\\"\\\\t\\\\t{len(scr_doublets)} scr doublets\\\")\\n\\n            scr_doublets_unique_path = cto_path.replace(\\n                f\\\"__cto.scrublet{scrub_name_suffix}.pkl\\\",\\n                f\\\"__cto.scrublet{scrub_name_suffix}.fmx.scr_doublets_unique.txt\\\",\\n            )\\n            with open(scr_doublets_unique_path, \\\"w\\\") as f:\\n                for x in scr_doublets:\\n                    f.write(f\\\"{x}\\\\n\\\")\\n\\n            # Subset cisTopic object\\n            cto.subset(singlets)\\n\\n            # save\\n            with open(newcto_path, \\\"wb\\\") as f:\\n                pickle.dump(cto, f, protocol=4)\\n\\n            removed_bcs_path = cto_path.replace(\\n                f\\\"__cto.scrublet{scrub_name_suffix}.pkl\\\",\\n                f\\\"__cto.scrublet{scrub_name_suffix}.fmx.singlets.removed_bcs.pkl\\\",\\n            )\\n            with open(removed_bcs_path, \\\"wb\\\") as f:\\n                pickle.dump(removed_bcs_path, f, protocol=4)\\n\\n            cell_data_path = cto_path.replace(\\n                f\\\"__cto.scrublet{scrub_name_suffix}.pkl\\\",\\n                f\\\"__cto.scrublet{scrub_name_suffix}.fmx.singlets.cell_data.tsv\\\",\\n            )\\n            cto.cell_data.to_csv(cell_data_path)\\n\\n            print(f\\\"\\\\tWrote {newcto_path}, doublet lists and {cell_data_path}\\\\n\\\")\";\n",
       "                var nbb_cells = Jupyter.notebook.get_cells();\n",
       "                for (var i = 0; i < nbb_cells.length; ++i) {\n",
       "                    if (nbb_cells[i].input_prompt_number == nbb_cell_id) {\n",
       "                        if (nbb_cells[i].get_text() == nbb_unformatted_code) {\n",
       "                             nbb_cells[i].set_text(nbb_formatted_code);\n",
       "                        }\n",
       "                        break;\n",
       "                    }\n",
       "                }\n",
       "            }, 500);\n",
       "            "
      ],
      "text/plain": [
       "<IPython.core.display.Javascript object>"
      ]
     },
     "metadata": {},
     "output_type": "display_data"
    }
   ],
   "source": [
    "for sample in scrubcto_dict.keys():\n",
    "    print(f\"{sample}\")\n",
    "    cto_path = scrubcto_dict[sample]\n",
    "    newcto_path = cto_path.replace(f'__cto.scrublet{scrub_name_suffix}.pkl',f'__cto.scrublet{scrub_name_suffix}.fmx.singlets.pkl')\n",
    "    if os.path.exists(newcto_path):\n",
    "        print(f\"\\t{newcto_path} exists! Skipping...\")\n",
    "        \n",
    "    else:\n",
    "        with open(cto_path, 'rb') as f:\n",
    "            cto = pickle.load(f)\n",
    "\n",
    "            print(f\"\\tLoaded {cto_path}, removing scr doublets\")\n",
    "            removed_bcs_dict[sample] = {\n",
    "                'dbl_scrublet': cto.cell_data.barcode[cto.cell_data.Predicted_doublets_fragments == True].tolist()\n",
    "            }\n",
    "\n",
    "            # Remove doublets \n",
    "            singlets = cto.cell_data[\n",
    "                (cto.cell_data.Predicted_doublets_fragments == False)\n",
    "            ].index.tolist()\n",
    "            print(f\"\\t{sample}: Removing {len(cto.cell_names)-len(singlets)} cells\")\n",
    "\n",
    "            scr_doublets = set(cto.cell_data[cto.cell_data['Predicted_doublets_fragments'] == True].index)\n",
    "            print(f\"\\t\\t{len(scr_doublets)} scr doublets\")\n",
    "\n",
    "            \n",
    "            scr_doublets_unique_path = cto_path.replace(f'__cto.scrublet{scrub_name_suffix}.pkl',f'__cto.scrublet{scrub_name_suffix}.fmx.scr_doublets_unique.txt')\n",
    "            with open(scr_doublets_unique_path, 'w') as f:\n",
    "                for x in scr_doublets:\n",
    "                    f.write(f\"{x}\\n\")\n",
    "                    \n",
    "                    \n",
    "            # Subset cisTopic object\n",
    "            cto.subset(singlets)\n",
    "\n",
    "            # save\n",
    "            with open(newcto_path, \"wb\") as f:\n",
    "                pickle.dump(cto, f, protocol=4)\n",
    "\n",
    "            removed_bcs_path = cto_path.replace(f'__cto.scrublet{scrub_name_suffix}.pkl',f'__cto.scrublet{scrub_name_suffix}.fmx.singlets.removed_bcs.pkl')\n",
    "            with open(removed_bcs_path, \"wb\") as f:\n",
    "                pickle.dump(removed_bcs_path, f, protocol=4)\n",
    "\n",
    "            cell_data_path = cto_path.replace(f'__cto.scrublet{scrub_name_suffix}.pkl',f'__cto.scrublet{scrub_name_suffix}.fmx.singlets.cell_data.tsv')\n",
    "            cto.cell_data.to_csv(cell_data_path)\n",
    "\n",
    "            print(f\"\\tWrote {newcto_path}, doublet lists and {cell_data_path}\\n\")"
   ]
  },
  {
   "cell_type": "code",
   "execution_count": null,
   "id": "a7fb15b5",
   "metadata": {},
   "outputs": [],
   "source": []
  }
 ],
 "metadata": {
  "kernelspec": {
   "display_name": "20221014_pycistopic.sif",
   "language": "python",
   "name": "cistopic_20221014"
  },
  "language_info": {
   "codemirror_mode": {
    "name": "ipython",
    "version": 3
   },
   "file_extension": ".py",
   "mimetype": "text/x-python",
   "name": "python",
   "nbconvert_exporter": "python",
   "pygments_lexer": "ipython3",
   "version": "3.8.15"
  },
  "papermill": {
   "default_parameters": {},
   "duration": 3792.143457,
   "end_time": "2022-11-02T12:04:47.155285",
   "environment_variables": {},
   "exception": true,
   "input_path": "2_create_CTO_consensus_peaks.ipynb",
   "output_path": "2_create_CTO_consensus_peaks.OUT.ipynb",
   "parameters": {},
   "start_time": "2022-11-02T11:01:35.011828",
   "version": "2.3.4"
  }
 },
 "nbformat": 4,
 "nbformat_minor": 5
}

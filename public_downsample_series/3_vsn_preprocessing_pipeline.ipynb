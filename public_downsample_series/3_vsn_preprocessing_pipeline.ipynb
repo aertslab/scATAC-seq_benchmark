{
 "cells": [
  {
   "cell_type": "markdown",
   "id": "09216ce6",
   "metadata": {},
   "source": [
    "# Running vsn"
   ]
  },
  {
   "cell_type": "markdown",
   "id": "64cb966e",
   "metadata": {},
   "source": [
    "First, generate a metadata file as described here: https://vsn-pipelines.readthedocs.io/en/latest/scatac-seq.html"
   ]
  },
  {
   "cell_type": "markdown",
   "id": "54766a4c",
   "metadata": {},
   "source": [
    "You can do this manually, but I did it automatically using some python string manipulations (see notebook 1b)"
   ]
  },
  {
   "cell_type": "code",
   "execution_count": 1,
   "id": "c504efef",
   "metadata": {
    "tags": []
   },
   "outputs": [
    {
     "name": "stdout",
     "output_type": "stream",
     "text": [
      "sample_name\ttechnology\tfastq_PE1_path\tfastq_barcode_path\tfastq_PE2_path\n",
      "BIO_ddseq_1\tbiorad\t35k_fastq/BIO_ddseq_1__R1.LIBDS.fastq.gz\t\t35k_fastq/BIO_ddseq_1__R2.LIBDS.fastq.gz\n",
      "BIO_ddseq_2\tbiorad\t35k_fastq/BIO_ddseq_2__R1.LIBDS.fastq.gz\t\t35k_fastq/BIO_ddseq_2__R2.LIBDS.fastq.gz\n",
      "BIO_ddseq_3\tbiorad\t35k_fastq/BIO_ddseq_3__R1.LIBDS.fastq.gz\t\t35k_fastq/BIO_ddseq_3__R2.LIBDS.fastq.gz\n",
      "BIO_ddseq_4\tbiorad\t35k_fastq/BIO_ddseq_4__R1.LIBDS.fastq.gz\t\t35k_fastq/BIO_ddseq_4__R2.LIBDS.fastq.gz\n",
      "BRO_mtscatac_1\tatac_revcomp\t35k_fastq/BRO_mtscatac_1__R1.LIBDS.fastq.gz\t35k_fastq/BRO_mtscatac_1__R2.LIBDS.fastq.gz\t35k_fastq/BRO_mtscatac_1__R3.LIBDS.fastq.gz\n",
      "BRO_mtscatac_2\tatac_revcomp\t35k_fastq/BRO_mtscatac_2__R1.LIBDS.fastq.gz\t35k_fastq/BRO_mtscatac_2__R2.LIBDS.fastq.gz\t35k_fastq/BRO_mtscatac_2__R3.LIBDS.fastq.gz\n",
      "CNA_10xmultiome_1\tmultiome_revcomp\t35k_fastq/CNA_10xmultiome_1__R1.LIBDS.fastq.gz\t35k_fastq/CNA_10xmultiome_1__R2.LIBDS.fastq.gz\t35k_fastq/CNA_10xmultiome_1__R3.LIBDS.fastq.gz\n",
      "CNA_10xmultiome_2\tmultiome_revcomp\t35k_fastq/CNA_10xmultiome_2__R1.LIBDS.fastq.gz\t35k_fastq/CNA_10xmultiome_2__R2.LIBDS.fastq.gz\t35k_fastq/CNA_10xmultiome_2__R3.LIBDS.fastq.gz\n",
      "CNA_10xv11_1\tatac\t35k_fastq/CNA_10xv11_1__R1.LIBDS.fastq.gz\t35k_fastq/CNA_10xv11_1__R2.LIBDS.fastq.gz\t35k_fastq/CNA_10xv11_1__R3.LIBDS.fastq.gz\n",
      "CNA_10xv11_2\tatac\t35k_fastq/CNA_10xv11_2__R1.LIBDS.fastq.gz\t35k_fastq/CNA_10xv11_2__R2.LIBDS.fastq.gz\t35k_fastq/CNA_10xv11_2__R3.LIBDS.fastq.gz\n",
      "CNA_10xv11_3\tatac_revcomp\t35k_fastq/CNA_10xv11_3__R1.LIBDS.fastq.gz\t35k_fastq/CNA_10xv11_3__R2.LIBDS.fastq.gz\t35k_fastq/CNA_10xv11_3__R3.LIBDS.fastq.gz\n",
      "CNA_10xv11_4\tatac_revcomp\t35k_fastq/CNA_10xv11_4__R1.LIBDS.fastq.gz\t35k_fastq/CNA_10xv11_4__R2.LIBDS.fastq.gz\t35k_fastq/CNA_10xv11_4__R3.LIBDS.fastq.gz\n",
      "CNA_10xv11_5\tatac_revcomp\t35k_fastq/CNA_10xv11_5__R1.LIBDS.fastq.gz\t35k_fastq/CNA_10xv11_5__R2.LIBDS.fastq.gz\t35k_fastq/CNA_10xv11_5__R3.LIBDS.fastq.gz\n",
      "CNA_10xv2_1\tatac_revcomp\t35k_fastq/CNA_10xv2_1__R1.LIBDS.fastq.gz\t35k_fastq/CNA_10xv2_1__R2.LIBDS.fastq.gz\t35k_fastq/CNA_10xv2_1__R3.LIBDS.fastq.gz\n",
      "CNA_10xv2_2\tatac_revcomp\t35k_fastq/CNA_10xv2_2__R1.LIBDS.fastq.gz\t35k_fastq/CNA_10xv2_2__R2.LIBDS.fastq.gz\t35k_fastq/CNA_10xv2_2__R3.LIBDS.fastq.gz\n",
      "CNA_hydrop_1\thydrop_2x384\t35k_fastq/CNA_hydrop_1__R1.LIBDS.fastq.gz\t35k_fastq/CNA_hydrop_1__R2.LIBDS.fastq.gz\t35k_fastq/CNA_hydrop_1__R3.LIBDS.fastq.gz\n",
      "CNA_hydrop_2\thydrop_2x384\t35k_fastq/CNA_hydrop_2__R1.LIBDS.fastq.gz\t35k_fastq/CNA_hydrop_2__R2.LIBDS.fastq.gz\t35k_fastq/CNA_hydrop_2__R3.LIBDS.fastq.gz\n",
      "CNA_hydrop_3\thydrop_2x384\t35k_fastq/CNA_hydrop_3__R1.LIBDS.fastq.gz\t35k_fastq/CNA_hydrop_3__R2.LIBDS.fastq.gz\t35k_fastq/CNA_hydrop_3__R3.LIBDS.fastq.gz\n",
      "CNA_mtscatac_1\tatac_revcomp\t35k_fastq/CNA_mtscatac_1__R1.LIBDS.fastq.gz\t35k_fastq/CNA_mtscatac_1__R2.LIBDS.fastq.gz\t35k_fastq/CNA_mtscatac_1__R3.LIBDS.fastq.gz\n",
      "CNA_mtscatac_2\tatac_revcomp\t35k_fastq/CNA_mtscatac_2__R1.LIBDS.fastq.gz\t35k_fastq/CNA_mtscatac_2__R2.LIBDS.fastq.gz\t35k_fastq/CNA_mtscatac_2__R3.LIBDS.fastq.gz\n",
      "EPF_hydrop_1\thydrop_2x384\t35k_fastq/EPF_hydrop_1__R1.LIBDS.fastq.gz\t35k_fastq/EPF_hydrop_1__R2.LIBDS.fastq.gz\t35k_fastq/EPF_hydrop_1__R3.LIBDS.fastq.gz\n",
      "EPF_hydrop_2\thydrop_2x384\t35k_fastq/EPF_hydrop_2__R1.LIBDS.fastq.gz\t35k_fastq/EPF_hydrop_2__R2.LIBDS.fastq.gz\t35k_fastq/EPF_hydrop_2__R3.LIBDS.fastq.gz\n",
      "EPF_hydrop_3\thydrop_2x384\t35k_fastq/EPF_hydrop_3__R1.LIBDS.fastq.gz\t35k_fastq/EPF_hydrop_3__R2.LIBDS.fastq.gz\t35k_fastq/EPF_hydrop_3__R3.LIBDS.fastq.gz\n",
      "EPF_hydrop_4\thydrop_2x384\t35k_fastq/EPF_hydrop_4__R1.LIBDS.fastq.gz\t35k_fastq/EPF_hydrop_4__R2.LIBDS.fastq.gz\t35k_fastq/EPF_hydrop_4__R3.LIBDS.fastq.gz\n",
      "HAR_ddseq_1\tbiorad\t35k_fastq/HAR_ddseq_1__R1.LIBDS.fastq.gz\t\t35k_fastq/HAR_ddseq_1__R2.LIBDS.fastq.gz\n",
      "HAR_ddseq_2\tbiorad\t35k_fastq/HAR_ddseq_2__R1.LIBDS.fastq.gz\t\t35k_fastq/HAR_ddseq_2__R2.LIBDS.fastq.gz\n",
      "MDC_mtscatac_1\tatac_revcomp\t35k_fastq/MDC_mtscatac_1__R1.LIBDS.fastq.gz\t35k_fastq/MDC_mtscatac_1__R2.LIBDS.fastq.gz\t35k_fastq/MDC_mtscatac_1__R3.LIBDS.fastq.gz\n",
      "MDC_mtscatac_2\tatac_revcomp\t35k_fastq/MDC_mtscatac_2__R1.LIBDS.fastq.gz\t35k_fastq/MDC_mtscatac_2__R2.LIBDS.fastq.gz\t35k_fastq/MDC_mtscatac_2__R3.LIBDS.fastq.gz\n",
      "SAN_10xmultiome_1\tmultiome\t35k_fastq/SAN_10xmultiome_1__R1.LIBDS.fastq.gz\t35k_fastq/SAN_10xmultiome_1__R2.LIBDS.fastq.gz\t35k_fastq/SAN_10xmultiome_1__R3.LIBDS.fastq.gz\n",
      "SAN_10xmultiome_2\tmultiome\t35k_fastq/SAN_10xmultiome_2__R1.LIBDS.fastq.gz\t35k_fastq/SAN_10xmultiome_2__R2.LIBDS.fastq.gz\t35k_fastq/SAN_10xmultiome_2__R3.LIBDS.fastq.gz\n",
      "STA_10xv11_1\tatac_revcomp\t35k_fastq/STA_10xv11_1__R1.LIBDS.fastq.gz\t35k_fastq/STA_10xv11_1__R2.LIBDS.fastq.gz\t35k_fastq/STA_10xv11_1__R3.LIBDS.fastq.gz\n",
      "STA_10xv11_2\tatac_revcomp\t35k_fastq/STA_10xv11_2__R1.LIBDS.fastq.gz\t35k_fastq/STA_10xv11_2__R2.LIBDS.fastq.gz\t35k_fastq/STA_10xv11_2__R3.LIBDS.fastq.gz\n",
      "TXG_10xv11_1\tatac_revcomp\t35k_fastq/TXG_10xv11_1__R1.LIBDS.fastq.gz\t35k_fastq/TXG_10xv11_1__R2.LIBDS.fastq.gz\t35k_fastq/TXG_10xv11_1__R3.LIBDS.fastq.gz\n",
      "TXG_10xv2_1\tatac_revcomp\t35k_fastq/TXG_10xv2_1__R1.LIBDS.fastq.gz\t35k_fastq/TXG_10xv2_1__R2.LIBDS.fastq.gz\t35k_fastq/TXG_10xv2_1__R3.LIBDS.fastq.gz\n",
      "TXG_10xv2_2\tatac_revcomp\t35k_fastq/TXG_10xv2_2__R1.LIBDS.fastq.gz\t35k_fastq/TXG_10xv2_2__R2.LIBDS.fastq.gz\t35k_fastq/TXG_10xv2_2__R3.LIBDS.fastq.gz\n",
      "VIB_10xmultiome_1\tmultiome_revcomp\t35k_fastq/VIB_10xmultiome_1__R1.LIBDS.fastq.gz\t35k_fastq/VIB_10xmultiome_1__R2.LIBDS.fastq.gz\t35k_fastq/VIB_10xmultiome_1__R3.LIBDS.fastq.gz\n",
      "VIB_10xmultiome_2\tmultiome_revcomp\t35k_fastq/VIB_10xmultiome_2__R1.LIBDS.fastq.gz\t35k_fastq/VIB_10xmultiome_2__R2.LIBDS.fastq.gz\t35k_fastq/VIB_10xmultiome_2__R3.LIBDS.fastq.gz\n",
      "VIB_10xv1_1\tatac\t35k_fastq/VIB_10xv1_1__R1.LIBDS.fastq.gz\t35k_fastq/VIB_10xv1_1__R2.LIBDS.fastq.gz\t35k_fastq/VIB_10xv1_1__R3.LIBDS.fastq.gz\n",
      "VIB_10xv1_2\tatac\t35k_fastq/VIB_10xv1_2__R1.LIBDS.fastq.gz\t35k_fastq/VIB_10xv1_2__R2.LIBDS.fastq.gz\t35k_fastq/VIB_10xv1_2__R3.LIBDS.fastq.gz\n",
      "VIB_10xv2_1\tatac_revcomp\t35k_fastq/VIB_10xv2_1__R1.LIBDS.fastq.gz\t35k_fastq/VIB_10xv2_1__R2.LIBDS.fastq.gz\t35k_fastq/VIB_10xv2_1__R3.LIBDS.fastq.gz\n",
      "VIB_10xv2_2\tatac_revcomp\t35k_fastq/VIB_10xv2_2__R1.LIBDS.fastq.gz\t35k_fastq/VIB_10xv2_2__R2.LIBDS.fastq.gz\t35k_fastq/VIB_10xv2_2__R3.LIBDS.fastq.gz\n",
      "VIB_hydrop_11\thydrop_2x384\t35k_fastq/VIB_hydrop_11__R1.LIBDS.fastq.gz\t35k_fastq/VIB_hydrop_11__R2.LIBDS.fastq.gz\t35k_fastq/VIB_hydrop_11__R3.LIBDS.fastq.gz\n",
      "VIB_hydrop_12\thydrop_2x384\t35k_fastq/VIB_hydrop_12__R1.LIBDS.fastq.gz\t35k_fastq/VIB_hydrop_12__R2.LIBDS.fastq.gz\t35k_fastq/VIB_hydrop_12__R3.LIBDS.fastq.gz\n",
      "VIB_hydrop_21\thydrop_2x384\t35k_fastq/VIB_hydrop_21__R1.LIBDS.fastq.gz\t35k_fastq/VIB_hydrop_21__R2.LIBDS.fastq.gz\t35k_fastq/VIB_hydrop_21__R3.LIBDS.fastq.gz\n",
      "VIB_hydrop_22\thydrop_2x384\t35k_fastq/VIB_hydrop_22__R1.LIBDS.fastq.gz\t35k_fastq/VIB_hydrop_22__R2.LIBDS.fastq.gz\t35k_fastq/VIB_hydrop_22__R3.LIBDS.fastq.gz\n",
      "OHS_s3atac_1\tOHS_s3atac_1\t35k_fastq/OHS_s3atac_1__R1.LIBDS.fastq.gz\t35k_fastq/OHS_s3atac_1__R2.LIBDS.fastq.gz\t35k_fastq/OHS_s3atac_1__R3.LIBDS.fastq.gz\n",
      "OHS_s3atac_2\tOHS_s3atac_2\t35k_fastq/OHS_s3atac_2__R1.LIBDS.fastq.gz\t35k_fastq/OHS_s3atac_2__R2.LIBDS.fastq.gz\t35k_fastq/OHS_s3atac_2__R3.LIBDS.fastq.gz\n"
     ]
    }
   ],
   "source": [
    "cat metadata.35k.tsv"
   ]
  },
  {
   "cell_type": "markdown",
   "id": "62d878cf",
   "metadata": {},
   "source": [
    "Generate a config file read by the vsn pipeline. $nwork is a temporary file destination."
   ]
  },
  {
   "cell_type": "code",
   "execution_count": 3,
   "id": "e92169b2",
   "metadata": {},
   "outputs": [],
   "source": [
    "VSN=../0_resources/vsn-pipelines/main_atac.nf"
   ]
  },
  {
   "cell_type": "code",
   "execution_count": 17,
   "id": "4502067e",
   "metadata": {
    "execution": {
     "iopub.execute_input": "2022-06-08T18:22:19.931505Z",
     "iopub.status.busy": "2022-06-08T18:22:19.930474Z",
     "iopub.status.idle": "2022-06-08T18:22:23.634196Z",
     "shell.execute_reply": "2022-06-08T18:22:23.630814Z",
     "shell.execute_reply.started": "2022-06-08T18:22:19.931146Z"
    },
    "tags": []
   },
   "outputs": [
    {
     "name": "stdout",
     "output_type": "stream",
     "text": [
      "mkdir: cannot create directory ‘/scratch/leuven/330/vsc33042/ATAC_BENCHMARK_FULL/’: File exists\n"
     ]
    }
   ],
   "source": [
    "nwork=${VSC_SCRATCH}/ATAC_BENCHMARK_FULL/\n",
    "mkdir $nwork\n",
    "export NXF_WORK=$nwork\n",
    "\n",
    "\n",
    "../0_resources/nextflow/nextflow-21.04.3-all config $VSN \\\n",
    "    -profile atac_preprocess_bap,vsc \\\n",
    "    > atac_preprocess.config"
   ]
  },
  {
   "cell_type": "markdown",
   "id": "2c7d0d33",
   "metadata": {},
   "source": [
    "### now make some changes to the config:\n",
    "* redirect to correct metadata_auto.tsv file\n",
    "* fix BWA parameters\n",
    "    * change the bwa index directory to the right, in this case hg39\n",
    "    * change the bwa executor to local to run on current node\n",
    "    * number of bwa CPUs: better to have 2 forks running with 17 threads than to have 1 fork with 36 threads due to I/O overhead\n",
    "* add whitelists for each sample\n",
    "* check if bap parameters are correct\n",
    "* make sure all output dirs etc. exist\n",
    "* Increase the time limit"
   ]
  },
  {
   "cell_type": "markdown",
   "id": "92e0fa3b",
   "metadata": {},
   "source": [
    "Here is a functional config file tailored to our computing environment:"
   ]
  },
  {
   "cell_type": "code",
   "execution_count": 1,
   "id": "998b4d65",
   "metadata": {
    "execution": {
     "iopub.execute_input": "2022-11-09T17:08:18.500437Z",
     "iopub.status.busy": "2022-11-09T17:08:18.499823Z",
     "iopub.status.idle": "2022-11-09T17:08:18.654206Z",
     "shell.execute_reply": "2022-11-09T17:08:18.652934Z",
     "shell.execute_reply.started": "2022-11-09T17:08:18.500392Z"
    },
    "tags": []
   },
   "outputs": [
    {
     "name": "stdout",
     "output_type": "stream",
     "text": [
      "manifest {\n",
      "   name = 'vib-singlecell-nf/vsn-pipelines'\n",
      "   description = 'A repository of pipelines for single-cell data in Nextflow DSL2'\n",
      "   homePage = 'https://github.com/vib-singlecell-nf/vsn-pipelines'\n",
      "   version = '0.27.0'\n",
      "   mainScript = 'main.nf'\n",
      "   defaultBranch = 'master'\n",
      "   nextflowVersion = '!21.04.3'\n",
      "}\n",
      "\n",
      "params {\n",
      "   global {\n",
      "      project_name = 'downsampling_series'\n",
      "      outdir = 'preprocessing_out'\n",
      "   }\n",
      "   misc {\n",
      "      test {\n",
      "         enabled = false\n",
      "      }\n",
      "   }\n",
      "   utils {\n",
      "      container = 'vibsinglecellnf/utils:0.4.0'\n",
      "      file_converter {\n",
      "         off = 'h5ad'\n",
      "         tagCellWithSampleId = true\n",
      "         remove10xGEMWell = false\n",
      "         useFilteredMatrix = true\n",
      "         makeVarIndexUnique = false\n",
      "      }\n",
      "      publish {\n",
      "         compressionLevel = 6\n",
      "         annotateWithBatchVariableName = false\n",
      "         mode = 'copy'\n",
      "      }\n",
      "   }\n",
      "   atac_preprocess_tools {\n",
      "      mark_duplicates_method = 'MarkDuplicates'\n",
      "      adapter_trimming_method = 'Trim_Galore'\n",
      "   }\n",
      "   data {\n",
      "      atac_preprocess {\n",
      "         metadata = 'metadata.tsv'\n",
      "      }\n",
      "   }\n",
      "   tools {\n",
      "      singlecelltoolkit {\n",
      "         container = 'vibsinglecellnf/singlecelltoolkit:2022-04-15-16314db'\n",
      "         barcode_correction {\n",
      "            max_mismatches = 1\n",
      "            min_frac_bcs_to_find = 0.5\n",
      "            whitelist {\n",
      "                atac = '../0_resources/whitelists/737K-cratac-v1.txt.gz'\n",
      "                atac_revcomp = '../0_resources/whitelists/737K-cratac-v1.REVCOMP.txt.gz'\n",
      "                multiome = '../0_resources/whitelists/737K-arc-v1.txt.gz'\n",
      "                multiome_revcomp = '../0_resources/whitelists/737K-arc-v1.REVCOMP.txt.gz'\n",
      "                hydrop_2x384 = '../0_resources/whitelists/hydrop_384x384.REVCOMP.txt.gz'\n",
      "                hydrop_3x96 = '/lustre1/project/stg_00002/lcb/fderop/data/00000000_barcodes/20200227_HyDrop-ATAC_96x96x96/full_barcodes_no_underscore_REVCOMP.txt'\n",
      "                s3atac = '/lustre1/project/stg_00090/scatac_benchmark/public_downsample_series/OHS_s3atac_mouse.FULL_bc_passing_filters_otsu.RAW.txt'\n",
      "            }\n",
      "         }\n",
      "         barcode_10x_scatac_fastqs {\n",
      "            uncorrected_bc_tag = 'CR'\n",
      "            barcode_quality_tag = 'CY'\n",
      "         }\n",
      "      }\n",
      "      trimgalore {\n",
      "         container = 'vibsinglecellnf/trimgalore:0.6.6'\n",
      "         trim {\n",
      "            paired = 'true'\n",
      "         }\n",
      "      }\n",
      "      fastp {\n",
      "         container = 'vibsinglecellnf/fastp:0.20.0'\n",
      "         thread = 1\n",
      "         clean_and_fastqc {\n",
      "            length_required = 20\n",
      "            adapter_fasta = '/home/luna.kuleuven.be/u0117999/.nextflow/assets/vib-singlecell-nf/vsn-pipelines/src/fastp/assets/fastp.adapters'\n",
      "         }\n",
      "      }\n",
      "      bwamaptools {\n",
      "         container = 'vibsinglecellnf/bwamaptools:bwa-mem2-2.2.1-zlibng-2.0.6'\n",
      "         bwa_fasta = '/lustre1/project/stg_00090/scatac_benchmark/0_resources/genomes/hg38_cflerin/genome.fa'\n",
      "         bwa_version = 'bwa-mem2'\n",
      "      }\n",
      "      gatk {\n",
      "         container = 'broadinstitute/gatk:4.2.0.0'\n",
      "         estimate_library_complexity {\n",
      "            barcode_tag = 'CB'\n",
      "         }\n",
      "      }\n",
      "      sinto {\n",
      "         container = 'vibsinglecellnf/sinto:0.7.3.1'\n",
      "         fragments {\n",
      "            min_mapq = 30\n",
      "            barcodetag = 'CB'\n",
      "            barcode_regex = ''\n",
      "            use_chrom = '\"^(chr|)([0-9]{1,2}|[XY]|[23][LR])$\"'\n",
      "            min_distance = 10\n",
      "            max_distance = 5000\n",
      "            chunksize = 5000000\n",
      "         }\n",
      "      }\n",
      "      barcard {\n",
      "         barcode_multiplet {\n",
      "            report_ipynb = '/src/barcard/bin/barcard_otsu_filtering.ipynb'\n",
      "         }\n",
      "      }\n",
      "      bap {\n",
      "         container = 'vibsinglecellnf/bap:2021-04-27-3b48f4b'\n",
      "         barcode_multiplet {\n",
      "            report_ipynb = '/src/bap/bin/bap_barcode_multiplet_report.ipynb'\n",
      "            bead_tag = 'CB'\n",
      "            drop_tag = 'DB'\n",
      "            minimum_barcode_fragments = 1000\n",
      "            barcode_whitelist = ''\n",
      "            minimum_jaccard_index = [\n",
      "                default: 0.02,\n",
      "                BIO_ddseq_3: 0.06502,\n",
      "                BRO_mtscatac_1: 0.03449,\n",
      "                BRO_mtscatac_2: 0.07238,\n",
      "                CNA_10xmultiome_1: 0.02,\n",
      "                CNA_10xmultiome_2: 0.02,\n",
      "                CNA_10xv11_4: 0.04732,\n",
      "                CNA_ddseq_1: 0.0715,\n",
      "                CNA_mtscatac_2: 0.02631,\n",
      "                HAR_ddseq_1: 0.03247,\n",
      "                VIB_10xmultiome_1: 0.11137,\n",
      "                VIB_10xmultiome_2: 0.03885,\n",
      "                VIB_hydrop_11: 0.02164,\n",
      "                VIB_hydrop_21: 0.04463\n",
      "            ]\n",
      "            nc_threshold = 6\n",
      "            regularize_threshold = 4\n",
      "            mapq = 30\n",
      "            max_insert = 2000\n",
      "            reference_genome = 'hg38'\n",
      "            bedtools_genome = ''\n",
      "            blacklist_file = ''\n",
      "            tss_file = ''\n",
      "            mito_chromosome = 'default'\n",
      "         }\n",
      "      }\n",
      "   }\n",
      "}\n",
      "\n",
      "process {\n",
      "    executor = 'local'\n",
      "    cpus = 4\n",
      "    memory = '10 GB'\n",
      "    disk = '100 GB'\n",
      "    clusterOptions = '-A cluster_account'\n",
      "    time = '24h'\n",
      "\n",
      "    withLabel:compute_resources__default {\n",
      "       time = '24h'\n",
      "    }\n",
      "    withLabel:compute_resources__minimal {\n",
      "       cpus = 1\n",
      "       memory = '1 GB'\n",
      "    }\n",
      "    withLabel:compute_resources__sctk_barcode {\n",
      "       cpus = 2\n",
      "       memory = '3 GB'\n",
      "    }\n",
      "\n",
      "    withLabel:compute_resources__mem {\n",
      "       cpus = 1\n",
      "       memory = '40 GB'\n",
      "    }\n",
      "    withLabel:compute_resources__cpu {\n",
      "       cpus = 5\n",
      "       memory = '4 GB'\n",
      "    }\n",
      "    withLabel:compute_resources__report {\n",
      "       cpus = 1\n",
      "       memory = '2 GB'\n",
      "    }\n",
      "    withLabel:compute_resources__24hqueue {\n",
      "       time = '99h'\n",
      "    }\n",
      "    withLabel:compute_resources__bwa_mem {\n",
      "       executor = 'local'\n",
      "       cpus = 8\n",
      "       memory = '10 GB'\n",
      "       time = '999h'\n",
      "    }\n",
      "    withLabel:compute_resources__sctk_barcode {\n",
      "       cpus = 5\n",
      "       memory = '5 GB'\n",
      "    }\n",
      "\n",
      "    withLabel:compute_resources__barcode_10x_scatac_fastq_5cpus {\n",
      "       cpus = 4\n",
      "       memory = '5 GB'\n",
      "    }\n",
      "\n",
      "    withLabel:compute_resources__barcard__create_fragments_from_bam {\n",
      "       cpus = 4\n",
      "       memory = '5 GB'\n",
      "    }\n",
      "\n",
      "    withLabel:compute_resources__barcard__detect_barcode_multiplets {\n",
      "       cpus = 4\n",
      "       memory = '5 GB'\n",
      "    }\n",
      "\n",
      "    withLabel:compute_resources__samtools__write_fragments {\n",
      "       cpus = 5\n",
      "       memory = '5 GB'\n",
      "    }\n",
      "\n",
      "    withLabel:compute_resources__trimgalore__trim_5cpus {\n",
      "       cpus = 5\n",
      "       memory = '10 GB'\n",
      "    }\n",
      "\n",
      "    withLabel:compute_resources__picard__merge_sam_files_and_sort {\n",
      "       cpus = 4\n",
      "       memory = '5 GB'\n",
      "    }\n",
      "    withLabel:compute_resources__bap_barcode_multiplet_pipeline_8cpus {\n",
      "       cpus = 4\n",
      "       memory = '5 GB'\n",
      "    }\n",
      "}\n",
      "\n",
      "timeline {\n",
      "   enabled = true\n",
      "   file = 'out/nextflow_reports/execution_timeline.html'\n",
      "}\n",
      "\n",
      "report {\n",
      "   enabled = true\n",
      "   file = 'out/nextflow_reports/execution_report.html'\n",
      "}\n",
      "\n",
      "trace {\n",
      "   enabled = true\n",
      "   file = 'out/nextflow_reports/execution_trace.txt'\n",
      "}\n",
      "\n",
      "dag {\n",
      "   enabled = true\n",
      "   file = 'out/nextflow_reports/pipeline_dag.svg'\n",
      "}\n",
      "\n",
      "min {\n",
      "   enabled = false\n",
      "}\n",
      "\n",
      "vsc {\n",
      "   enabled = true\n",
      "}\n",
      "\n",
      "singularity {\n",
      "   enabled = true\n",
      "   autoMounts = true\n",
      "   runOptions = '--cleanenv -H $PWD -B /lustre1,/staging,/data,${VSC_SCRATCH},${VSC_SCRATCH}/tmp:/tmp,${HOME}/.nextflow/assets/,/local_scratch/'\n",
      "   cacheDir = '/lustre1/project/stg_00090/scatac_benchmark/0_resources/vsn_cache'\n",
      "}\n"
     ]
    }
   ],
   "source": [
    "cat atac_preprocess_rapid.config"
   ]
  },
  {
   "cell_type": "markdown",
   "id": "eb62d163",
   "metadata": {
    "execution": {
     "iopub.execute_input": "2022-06-09T08:56:14.239433Z",
     "iopub.status.busy": "2022-06-09T08:56:14.239085Z",
     "iopub.status.idle": "2022-06-09T08:56:14.493186Z",
     "shell.execute_reply": "2022-06-09T08:56:14.490236Z",
     "shell.execute_reply.started": "2022-06-09T08:56:14.239394Z"
    }
   },
   "source": [
    "I suggest you run a difftool on this to compare this to your config."
   ]
  },
  {
   "cell_type": "markdown",
   "id": "54e2a6d0",
   "metadata": {},
   "source": [
    "Then, in a tmux session to avoid interruption:"
   ]
  },
  {
   "cell_type": "code",
   "execution_count": null,
   "id": "5ba4d18b",
   "metadata": {},
   "outputs": [],
   "source": [
    "VSN=../0_resources/vsn-pipelines_/main_atac.nf\n",
    "module load  Nextflow/21.04.3\n",
    "nextflow -C atac_preprocess_rapid.config run $VSN -entry atac_preprocess_rapid -resume"
   ]
  },
  {
   "cell_type": "markdown",
   "id": "f3d6e4bb",
   "metadata": {},
   "source": [
    "Jaccard:"
   ]
  },
  {
   "cell_type": "code",
   "execution_count": null,
   "id": "608d94c3",
   "metadata": {},
   "outputs": [],
   "source": [
    "img_path=/lustre1/project/stg_00090/scatac_benchmark/0_resources/vsn_cache/vibsinglecellnf-singlecelltoolkit-2022-07-07-0638c1d.img\n",
    "singularity exec --cleanenv -H $PWD -B /lustre1,/staging,/data,${VSC_SCRATCH},${VSC_SCRATCH}/tmp:/tmp,${HOME}/.nextflow/assets/,/local_scratch/ $img_path bash"
   ]
  },
  {
   "cell_type": "code",
   "execution_count": 1,
   "id": "d1fb2e81",
   "metadata": {
    "execution": {
     "iopub.execute_input": "2022-11-16T16:48:03.881580Z",
     "iopub.status.busy": "2022-11-16T16:48:03.880908Z",
     "iopub.status.idle": "2022-11-16T16:48:05.239932Z",
     "shell.execute_reply": "2022-11-16T16:48:05.234704Z",
     "shell.execute_reply.started": "2022-11-16T16:48:03.881534Z"
    },
    "tags": []
   },
   "outputs": [
    {
     "name": "stdout",
     "output_type": "stream",
     "text": [
      "bash: syntax error near unexpected token `elif'\n",
      " exists, skipping\n",
      "bash: syntax error near unexpected token `else'\n",
      " does not exist, generating\n",
      "bash: syntax error near unexpected token `fi'\n",
      "bash: syntax error near unexpected token `done'\n"
     ]
    },
    {
     "ename": "",
     "evalue": "2",
     "output_type": "error",
     "traceback": []
    }
   ],
   "source": [
    "export POLARS_MAX_THREADS=8\n",
    "export OMP_NUM_THREADS=8\n",
    "\n",
    "subset=\n",
    "for fragments in preprocessing_out/data/fragments/*${subset}*fragments.raw.tsv.gz\n",
    "do\n",
    "    # echo $fragments\n",
    "    sample=(`basename $fragments`)\n",
    "    sample=${sample%.fragments.raw.tsv.gz}\n",
    "    # echo $sample\n",
    "    subsample=(${sample//\\./ })\n",
    "    # echo ${subsample}\n",
    "    jaccardfile=/lustre1/project/stg_00090/scatac_benchmark/public_2_vsn_preprocessing/public_preprocessing_output/data/reports/barcard/$subsample.FULL.tomerge.tsv\n",
    "    infile=$fragments\n",
    "    outfile=preprocessing_out/data/fragments/$sample.fragments.tsv\n",
    "    outfile2=$outfile.gz\n",
    "    if [ -f \"$outfile\" ]; then\n",
    "        # echo \"$outfile exists, skipping\"\n",
    "        echo \"\"\n",
    "    elif [ -f \"$outfile2\" ]; then\n",
    "        # echo \"$outfile2 exists, skipping\"\n",
    "        echo \"\"\n",
    "    else \n",
    "        echo \"$outfile does not exist, generating\"\n",
    "        merge_cbs_over_jaccard_index_threshold.py -j $jaccardfile -i $infile -o $outfile &\n",
    "    fi\n",
    "done"
   ]
  },
  {
   "cell_type": "code",
   "execution_count": null,
   "id": "f58f2e85",
   "metadata": {},
   "outputs": [],
   "source": [
    "export POLARS_MAX_THREADS=8\n",
    "export OMP_NUM_THREADS=8\n",
    "\n",
    "subset=\n",
    "for fragments in preprocessing_out/data/fragments/*${subset}*fragments.tsv\n",
    "do\n",
    "    if [ -f \"$fragments.gz\" ]; then\n",
    "        echo \"exists\"\n",
    "    else \n",
    "        echo \"$outfile does not exist, generating\"\n",
    "        bgzip -@ 4 $fragments &\n",
    "    fi\n",
    "done"
   ]
  }
 ],
 "metadata": {
  "kernelspec": {
   "display_name": "Bash",
   "language": "bash",
   "name": "bash"
  },
  "language_info": {
   "codemirror_mode": "shell",
   "file_extension": ".sh",
   "mimetype": "text/x-sh",
   "name": "bash"
  }
 },
 "nbformat": 4,
 "nbformat_minor": 5
}

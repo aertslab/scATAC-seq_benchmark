{
 "cells": [
  {
   "cell_type": "markdown",
   "id": "76dc4c93",
   "metadata": {
    "execution": {
     "iopub.execute_input": "2022-07-13T15:30:56.958611Z",
     "iopub.status.busy": "2022-07-13T15:30:56.957882Z",
     "iopub.status.idle": "2022-07-13T15:30:56.967134Z",
     "shell.execute_reply": "2022-07-13T15:30:56.965277Z",
     "shell.execute_reply.started": "2022-07-13T15:30:56.958539Z"
    },
    "papermill": {
     "duration": 0.016287,
     "end_time": "2022-11-10T22:45:31.627217",
     "exception": false,
     "start_time": "2022-11-10T22:45:31.610930",
     "status": "completed"
    },
    "tags": []
   },
   "source": [
    "# Load parameters"
   ]
  },
  {
   "cell_type": "code",
   "execution_count": 1,
   "id": "6acccd74",
   "metadata": {
    "execution": {
     "iopub.execute_input": "2022-11-10T22:45:31.704972Z",
     "iopub.status.busy": "2022-11-10T22:45:31.704512Z",
     "iopub.status.idle": "2022-11-10T22:45:31.706090Z",
     "shell.execute_reply": "2022-11-10T22:45:31.706534Z",
     "shell.execute_reply.started": "2022-07-15T10:06:07.283404Z"
    },
    "jupyter": {
     "source_hidden": true
    },
    "papermill": {
     "duration": 0.051228,
     "end_time": "2022-11-10T22:45:31.706844",
     "exception": false,
     "start_time": "2022-11-10T22:45:31.655616",
     "status": "completed"
    },
    "tags": [
     "parameters"
    ]
   },
   "outputs": [],
   "source": [
    "# Parameters loaded below"
   ]
  },
  {
   "cell_type": "code",
   "execution_count": 2,
   "id": "hairy-female",
   "metadata": {
    "execution": {
     "iopub.execute_input": "2022-11-10T22:45:31.737117Z",
     "iopub.status.busy": "2022-11-10T22:45:31.736519Z",
     "iopub.status.idle": "2022-11-10T22:45:31.738010Z",
     "shell.execute_reply": "2022-11-10T22:45:31.738394Z"
    },
    "jupyter": {
     "source_hidden": true
    },
    "papermill": {
     "duration": 0.019962,
     "end_time": "2022-11-10T22:45:31.738534",
     "exception": false,
     "start_time": "2022-11-10T22:45:31.718572",
     "status": "completed"
    },
    "tags": [
     "injected-parameters"
    ]
   },
   "outputs": [],
   "source": [
    "# Parameters\n",
    "SAMPLE = \"BIO_ddseq_m2c4.5k\"\n",
    "BARCARD_OVERLAP_TSV = \"BIO_ddseq_m2c4.5k.barcard.overlap.tsv\"\n"
   ]
  },
  {
   "cell_type": "code",
   "execution_count": 3,
   "id": "a45e6de1",
   "metadata": {
    "execution": {
     "iopub.execute_input": "2022-11-10T22:45:31.769903Z",
     "iopub.status.busy": "2022-11-10T22:45:31.769315Z",
     "iopub.status.idle": "2022-11-10T22:45:31.772510Z",
     "shell.execute_reply": "2022-11-10T22:45:31.772848Z"
    },
    "jupyter": {
     "source_hidden": true
    },
    "papermill": {
     "duration": 0.021265,
     "end_time": "2022-11-10T22:45:31.772996",
     "exception": false,
     "start_time": "2022-11-10T22:45:31.751731",
     "status": "completed"
    },
    "tags": []
   },
   "outputs": [
    {
     "name": "stdout",
     "output_type": "stream",
     "text": [
      "BIO_ddseq_m2c4.5k\n",
      "BIO_ddseq_m2c4.5k.barcard.overlap.tsv\n"
     ]
    }
   ],
   "source": [
    "sample = SAMPLE\n",
    "file = BARCARD_OVERLAP_TSV\n",
    "print(sample)\n",
    "print(file)"
   ]
  },
  {
   "cell_type": "markdown",
   "id": "388a0280",
   "metadata": {
    "papermill": {
     "duration": 0.012792,
     "end_time": "2022-11-10T22:45:31.799605",
     "exception": false,
     "start_time": "2022-11-10T22:45:31.786813",
     "status": "completed"
    },
    "tags": []
   },
   "source": [
    "# Import libraries and define functions"
   ]
  },
  {
   "cell_type": "code",
   "execution_count": 4,
   "id": "613908c2",
   "metadata": {
    "execution": {
     "iopub.execute_input": "2022-11-10T22:45:31.827777Z",
     "iopub.status.busy": "2022-11-10T22:45:31.827320Z",
     "iopub.status.idle": "2022-11-10T22:45:35.001420Z",
     "shell.execute_reply": "2022-11-10T22:45:35.001788Z"
    },
    "jupyter": {
     "source_hidden": true
    },
    "papermill": {
     "duration": 3.190193,
     "end_time": "2022-11-10T22:45:35.001924",
     "exception": false,
     "start_time": "2022-11-10T22:45:31.811731",
     "status": "completed"
    },
    "tags": []
   },
   "outputs": [],
   "source": [
    "import os\n",
    "import pandas as pd\n",
    "import seaborn as sns\n",
    "import glob\n",
    "import matplotlib.pyplot as plt\n",
    "import numpy as np"
   ]
  },
  {
   "cell_type": "code",
   "execution_count": 5,
   "id": "12b9a063",
   "metadata": {
    "execution": {
     "iopub.execute_input": "2022-11-10T22:45:35.062022Z",
     "iopub.status.busy": "2022-11-10T22:45:35.061484Z",
     "iopub.status.idle": "2022-11-10T22:45:35.062966Z",
     "shell.execute_reply": "2022-11-10T22:45:35.063281Z"
    },
    "jupyter": {
     "source_hidden": true
    },
    "papermill": {
     "duration": 0.049244,
     "end_time": "2022-11-10T22:45:35.063431",
     "exception": false,
     "start_time": "2022-11-10T22:45:35.014187",
     "status": "completed"
    },
    "tags": []
   },
   "outputs": [],
   "source": [
    "def histogram(array, nbins=100):\n",
    "    \"\"\"\n",
    "    Draw histogram from distribution and identify centers.\n",
    "    Parameters\n",
    "    ---------\n",
    "    array: `class::np.array`\n",
    "            Scores distribution\n",
    "    nbins: int\n",
    "            Number of bins to use in the histogram\n",
    "    Return\n",
    "    ---------\n",
    "    float\n",
    "            Histogram values and bin centers.\n",
    "    \"\"\"\n",
    "    array = array.ravel().flatten()\n",
    "    hist, bin_edges = np.histogram(array, bins=nbins, range=None)\n",
    "    bin_centers = (bin_edges[:-1] + bin_edges[1:]) / 2.0\n",
    "    return hist, bin_centers\n",
    "\n",
    "\n",
    "def threshold_otsu(array, nbins=100):\n",
    "    \"\"\"\n",
    "    Apply Otsu threshold on topic-region distributions [Otsu, 1979].\n",
    "    Parameters\n",
    "    ---------\n",
    "    array: `class::np.array`\n",
    "            Array containing the region values for the topic to be binarized.\n",
    "    nbins: int\n",
    "            Number of bins to use in the binarization histogram\n",
    "    Return\n",
    "    ---------\n",
    "    float\n",
    "            Binarization threshold.\n",
    "    Reference\n",
    "    ---------\n",
    "    Otsu, N., 1979. A threshold selection method from gray-level histograms. IEEE transactions on systems, man, and\n",
    "    cybernetics, 9(1), pp.62-66.\n",
    "    \"\"\"\n",
    "    hist, bin_centers = histogram(array, nbins)\n",
    "    hist = hist.astype(float)\n",
    "    # Class probabilities for all possible thresholds\n",
    "    weight1 = np.cumsum(hist)\n",
    "    weight2 = np.cumsum(hist[::-1])[::-1]\n",
    "    \n",
    "    if not weight1 == 0 or weight2 == 0:\n",
    "        # Class means for all possible thresholds\n",
    "        mean1 = np.cumsum(hist * bin_centers) / weight1\n",
    "        mean2 = (np.cumsum((hist * bin_centers)[::-1]) / weight2[::-1])[::-1]\n",
    "        # Clip ends to align class 1 and class 2 variables:\n",
    "        # The last value of ``weight1``/``mean1`` should pair with zero values in\n",
    "        # ``weight2``/``mean2``, which do not exist.\n",
    "        variance12 = weight1[:-1] * weight2[1:] * (mean1[:-1] - mean2[1:]) ** 2\n",
    "        idx = np.argmax(variance12)\n",
    "        threshold = bin_centers[:-1][idx]\n",
    "        \n",
    "    else:\n",
    "        threshold = 1\n",
    "        print(\"returning standard threshold of 1 since no overlap is found\")\n",
    "        \n",
    "    return threshold"
   ]
  },
  {
   "cell_type": "markdown",
   "id": "9971d21a",
   "metadata": {
    "execution": {
     "iopub.execute_input": "2022-07-13T15:37:31.640170Z",
     "iopub.status.busy": "2022-07-13T15:37:31.639182Z",
     "iopub.status.idle": "2022-07-13T15:37:31.649736Z",
     "shell.execute_reply": "2022-07-13T15:37:31.648020Z",
     "shell.execute_reply.started": "2022-07-13T15:37:31.640070Z"
    },
    "papermill": {
     "duration": 0.061244,
     "end_time": "2022-11-10T22:45:35.141858",
     "exception": false,
     "start_time": "2022-11-10T22:45:35.080614",
     "status": "completed"
    },
    "tags": []
   },
   "source": [
    "# Calculate threshold"
   ]
  },
  {
   "cell_type": "code",
   "execution_count": 6,
   "id": "357576b3",
   "metadata": {
    "execution": {
     "iopub.execute_input": "2022-11-10T22:45:35.200502Z",
     "iopub.status.busy": "2022-11-10T22:45:35.200027Z",
     "iopub.status.idle": "2022-11-10T22:45:41.838530Z",
     "shell.execute_reply": "2022-11-10T22:45:41.838904Z"
    },
    "jupyter": {
     "source_hidden": true
    },
    "papermill": {
     "duration": 6.671917,
     "end_time": "2022-11-10T22:45:41.839080",
     "exception": false,
     "start_time": "2022-11-10T22:45:35.167163",
     "status": "completed"
    },
    "tags": []
   },
   "outputs": [
    {
     "name": "stdout",
     "output_type": "stream",
     "text": [
      "BIO_ddseq_m2c4.5k\n",
      "error occurred during otsu thresholding -- most likely very few overlap between barcodes.\n"
     ]
    },
    {
     "data": {
      "image/png": "[encoded data removed]",
      "text/plain": [
       "<Figure size 432x288 with 1 Axes>"
      ]
     },
     "metadata": {
      "needs_background": "light"
     },
     "output_type": "display_data"
    }
   ],
   "source": [
    "threshold_min = 0.02\n",
    "\n",
    "print(sample)\n",
    "df = pd.read_csv(file, header=0, sep=\"\\t\")\n",
    "\n",
    "df = df.sort_values(by=\"jaccard\", ascending=False)[:1000000]\n",
    "df.reset_index(inplace=True, drop=True)\n",
    "\n",
    "try:\n",
    "    threshold = threshold_otsu(df[\"jaccard\"])\n",
    "    \n",
    "    if threshold < 0.02:\n",
    "        threshold = threshold_min\n",
    "    threshold_rank = sum(df[\"jaccard\"] > threshold)\n",
    "\n",
    "    print(f\"\\tthreshold: {threshold}\")\n",
    "    print(f\"\\tnpairs_merged: {threshold_rank}\")\n",
    "\n",
    "    f, ax = plt.subplots(1, 1)\n",
    "    sns.lineplot(data=df, x=range(len(df)), y=\"jaccard\", ax=ax)\n",
    "    ax.axhline(y=threshold, xmin=0, xmax=10000000)\n",
    "    ax.axvline(x=threshold_rank, ymin=0.0001, ymax=1)\n",
    "    ax.set_xscale(\"log\")\n",
    "    ax.set_yscale(\"log\")\n",
    "    ax.set_title(sample)\n",
    "    ax.set_title(\n",
    "        f\"{sample}, threshold {round(threshold, 3)}, {threshold_rank} pairs merged\"\n",
    "    )\n",
    "    plt.savefig(\n",
    "        f\"{sample}.barcard_kneeplot.png\",\n",
    "        dpi=300,\n",
    "        facecolor=\"white\",\n",
    "    )\n",
    "    plt.show()\n",
    "    df.iloc[:threshold_rank].to_csv(\n",
    "        f\"{sample}.barcard.overlap.otsu_filtered.tsv\", sep=\"\\t\", index=False\n",
    "    )\n",
    "    \n",
    "except:\n",
    "    print(\"error occurred during otsu thresholding -- most likely very few overlap between barcodes.\")\n",
    "    f, ax = plt.subplots(1, 1)\n",
    "    sns.lineplot(data=df, x=range(len(df)), y=\"jaccard\", ax=ax)\n",
    "    ax.set_xscale(\"log\")\n",
    "    ax.set_yscale(\"log\")\n",
    "    ax.set_title(sample)\n",
    "    ax.set_title(\n",
    "        f\"{sample}, no pairs merged\"\n",
    "    )\n",
    "    plt.savefig(\n",
    "        f\"{sample}.barcard_kneeplot.png\",\n",
    "        dpi=300,\n",
    "        facecolor=\"white\",\n",
    "    )\n",
    "    plt.show()\n",
    "    with open(f\"{sample}.barcard.overlap.otsu_filtered.tsv\", 'w') as fp:\n",
    "        pass"
   ]
  },
  {
   "cell_type": "markdown",
   "id": "4d40b48f",
   "metadata": {
    "papermill": {
     "duration": 0.012982,
     "end_time": "2022-11-10T22:45:41.872379",
     "exception": false,
     "start_time": "2022-11-10T22:45:41.859397",
     "status": "completed"
    },
    "tags": []
   },
   "source": [
    "# VSN Pipelines: BAP multiplet pipeline report\n",
    "\n",
    "Additional analyses and plots from the output of BAP (https://github.com/caleblareau/bap)"
   ]
  },
  {
   "cell_type": "markdown",
   "id": "d967e3fc",
   "metadata": {
    "papermill": {
     "duration": 0.014796,
     "end_time": "2022-11-10T22:45:41.900146",
     "exception": false,
     "start_time": "2022-11-10T22:45:41.885350",
     "status": "completed"
    },
    "tags": []
   },
   "source": [
    "import pandas as pd\n",
    "import numpy as np\n",
    "import os\n",
    "from collections import Counter\n",
    "import itertools\n",
    "import json\n",
    "\n",
    "import matplotlib.pyplot as plt\n",
    "import seaborn as sns\n",
    "\n",
    "%matplotlib inline"
   ]
  },
  {
   "cell_type": "markdown",
   "id": "5d2f598e",
   "metadata": {
    "papermill": {
     "duration": 0.013674,
     "end_time": "2022-11-10T22:45:41.930097",
     "exception": false,
     "start_time": "2022-11-10T22:45:41.916423",
     "status": "completed"
    },
    "tags": []
   },
   "source": [
    "params = json.loads(WORKFLOW_PARAMETERS)\n",
    "\n",
    "print(f\"SAMPLE: {SAMPLE}\")\n",
    "print(f\"BAP Parameters: {json.dumps(params, indent=4)}\")"
   ]
  },
  {
   "cell_type": "markdown",
   "id": "b63a3f49",
   "metadata": {
    "papermill": {
     "duration": 0.015143,
     "end_time": "2022-11-10T22:45:41.971735",
     "exception": false,
     "start_time": "2022-11-10T22:45:41.956592",
     "status": "completed"
    },
    "tags": []
   },
   "source": [
    "# read in data\n",
    "f_bap_qc = SAMPLE+'.implicatedBarcodes.csv.gz'\n",
    "f_bap_bct = SAMPLE+'.barcodeTranslate.tsv'\n",
    "f_bap_nc = SAMPLE+'.NCsumstats.tsv'\n",
    "\n",
    "bap_ib = pd.read_csv(f_bap_qc)\n",
    "bap_bct = pd.read_csv(f_bap_bct, sep='\\t', header=None, names=['barcode','bap_barcode'])\n",
    "bap_nc = pd.read_csv(f_bap_nc, sep='\\t')"
   ]
  },
  {
   "cell_type": "markdown",
   "id": "e05d82a4",
   "metadata": {
    "papermill": {
     "duration": 0.029278,
     "end_time": "2022-11-10T22:45:42.031430",
     "exception": false,
     "start_time": "2022-11-10T22:45:42.002152",
     "status": "completed"
    },
    "tags": []
   },
   "source": [
    "## Overlap index\n",
    "\n",
    "Plot the overlap scores, representing the pairwise similarity between each barcode."
   ]
  },
  {
   "cell_type": "markdown",
   "id": "f357bd6d",
   "metadata": {
    "papermill": {
     "duration": 0.016374,
     "end_time": "2022-11-10T22:45:42.067895",
     "exception": false,
     "start_time": "2022-11-10T22:45:42.051521",
     "status": "completed"
    },
    "tags": []
   },
   "source": [
    "# overlap index rank plot\n",
    "def plot_overlap_rankplot(dat, label, ax):\n",
    "    y = dat['jaccard_frag'].sort_values(ascending=False)\n",
    "    ix = dat['jaccard_frag'][ dat['merged']==True ].idxmin()\n",
    "    thr = dat.iloc[ix]['jaccard_frag']\n",
    "    thrx = sum(dat['merged']==True)\n",
    "    \n",
    "    ax.scatter(x=range(y.shape[0]),\n",
    "               y=y.values,\n",
    "               s=4,\n",
    "               edgecolors=None)\n",
    "    ax.set_xscale('log')\n",
    "    ax.set_yscale('log')\n",
    "    ax.set_ylabel('Jaccard index per barcode pair')\n",
    "    ax.set_xlabel('Barcode pair rank')\n",
    "    ax.axhline(thr, color='grey', linestyle='--')\n",
    "    ax.text(0.01, 0.01, f\" thr={round(thr,4)} ({thrx} barcode pairs)\", ha='left', va='bottom' , transform=ax.transAxes, fontsize='x-small')\n",
    "    ax.set_title(label)"
   ]
  },
  {
   "cell_type": "markdown",
   "id": "99301f98",
   "metadata": {
    "papermill": {
     "duration": 0.017797,
     "end_time": "2022-11-10T22:45:42.099258",
     "exception": false,
     "start_time": "2022-11-10T22:45:42.081461",
     "status": "completed"
    },
    "tags": []
   },
   "source": [
    "fig, ax = plt.subplots(1,1, figsize=(5,4), dpi=150 )\n",
    "\n",
    "plot_overlap_rankplot(bap_ib, label=SAMPLE, ax=ax)\n",
    "plt.tight_layout()"
   ]
  },
  {
   "cell_type": "markdown",
   "id": "6d4275d5",
   "metadata": {
    "papermill": {
     "duration": 0.021987,
     "end_time": "2022-11-10T22:45:42.134890",
     "exception": false,
     "start_time": "2022-11-10T22:45:42.112903",
     "status": "completed"
    },
    "tags": []
   },
   "source": [
    "## Calculate restricted longest common subsequence (rLCS)\n",
    "\n",
    "This approach follows the methods in:\n",
    "* Lareau, C. A., Ma, S., Duarte, F. M. & Buenrostro, J. D. Inference and effects of barcode multiplets in droplet-based single-cell assays. Nature Communications 11, 1–9 (2020). https://doi.org/10.1038/s41467-020-14667-5\n",
    "\n",
    "This is calculated by taking each set of barcodes identified as a multiplet, and calculating the overlap\n",
    "and identifies two groups of droplet multiplets:\n",
    "* **Physical multiplets** (multiple beads that are physically grouped together in a droplet)\n",
    "  * Contains uniform barcodes (less than cutoff threshold on rLCS)\n",
    "* **Complex beads** (assumed to be due to bead barcode synthesis errors)\n",
    "  * Contain heterogenous barcodes (greater than a cutoff threshold on rLCS)"
   ]
  },
  {
   "cell_type": "markdown",
   "id": "869592d2",
   "metadata": {
    "papermill": {
     "duration": 0.030535,
     "end_time": "2022-11-10T22:45:42.183558",
     "exception": false,
     "start_time": "2022-11-10T22:45:42.153023",
     "status": "completed"
    },
    "tags": []
   },
   "source": [
    "# calculate rLCS match score\n",
    "def barcode_rle(a, b):\n",
    "    assert len(a) == len(b)\n",
    "    match_cnt = 0\n",
    "    match_list = []\n",
    "    for i in range(len(a)):\n",
    "        \n",
    "        if(a[i] == b[i]):\n",
    "            match_cnt += 1\n",
    "        else:\n",
    "            match_list.append(match_cnt)\n",
    "            match_cnt = 0\n",
    "    match_list.append(match_cnt)\n",
    "    return max(match_list)"
   ]
  },
  {
   "cell_type": "markdown",
   "id": "c9cb67fc",
   "metadata": {
    "papermill": {
     "duration": 0.028803,
     "end_time": "2022-11-10T22:45:42.240263",
     "exception": false,
     "start_time": "2022-11-10T22:45:42.211460",
     "status": "completed"
    },
    "tags": []
   },
   "source": [
    "rLCS_thr = 6\n",
    "\n",
    "bap_bct['bap_N'] = [ x.split('_')[-1] for x in bap_bct['bap_barcode'] ]\n",
    "\n",
    "multiplets = pd.DataFrame(\n",
    "    bap_bct['bap_barcode'][bap_bct['bap_N']!='N01'].unique(), \n",
    "    columns=['bap_barcode'])\n",
    "multiplets['bap_N'] = [ x.split('_')[-1] for x in multiplets['bap_barcode'] ]\n",
    "\n",
    "bcs_scores = []\n",
    "for i,m in enumerate(multiplets['bap_barcode']):\n",
    "    bcs = bap_bct['barcode'][bap_bct['bap_barcode']==m]\n",
    "    bcs_comb = list(itertools.combinations(bcs, 2))\n",
    "    mean_scores = np.mean([ barcode_rle(x[0], x[1]) for x in bcs_comb ])\n",
    "    bcs_scores.append(mean_scores)\n",
    "multiplets['mean_rLCS'] = bcs_scores\n",
    "\n",
    "# classify multiplet similarity by threshold\n",
    "multiplets['multiplets_passing_rLCS_thr'] = multiplets['mean_rLCS']>=rLCS_thr\n",
    "multiplets.dropna(inplace=True)\n",
    "\n",
    "multiplets"
   ]
  },
  {
   "cell_type": "markdown",
   "id": "007416e8",
   "metadata": {
    "papermill": {
     "duration": 0.02017,
     "end_time": "2022-11-10T22:45:42.288383",
     "exception": false,
     "start_time": "2022-11-10T22:45:42.268213",
     "status": "completed"
    },
    "tags": []
   },
   "source": [
    "# number of beads per droplet\n",
    "Counter(bap_bct['bap_N'])"
   ]
  },
  {
   "cell_type": "markdown",
   "id": "2027aecc",
   "metadata": {
    "papermill": {
     "duration": 0.013127,
     "end_time": "2022-11-10T22:45:42.315471",
     "exception": false,
     "start_time": "2022-11-10T22:45:42.302344",
     "status": "completed"
    },
    "tags": []
   },
   "source": [
    "n_singlets = np.sum(bap_bct['bap_N']=='N01')\n",
    "\n",
    "# multiplets with non barcode similarity (physical multiplets):\n",
    "n_physical = sum([ \n",
    "    int(x.replace('N','')) \n",
    "    for x in multiplets['bap_N'][multiplets['multiplets_passing_rLCS_thr']==False] \n",
    "])\n",
    "\n",
    "# multiplets with barcode similarity (complex multiplets):\n",
    "n_complex = sum(multiplets['multiplets_passing_rLCS_thr'])\n",
    "\n",
    "n_total = n_singlets + n_physical + n_complex\n",
    "\n",
    "# n_complex / n_total # rate of bead heterogeneity\n",
    "\n",
    "print(\n",
    "    f\"Number of singlets: {n_singlets}\\n\"\n",
    "    f\"Number of physical multiplets: {n_physical}\\n\"\n",
    "    f\"Number of complex multiplets: {n_complex}\\n\"\n",
    "    f\"Total: {n_total}\\n\"\n",
    "    f\"Rate of bead heterogeneity {round(n_complex/n_total,8)}\"\n",
    ")"
   ]
  },
  {
   "cell_type": "markdown",
   "id": "b92a8ad3",
   "metadata": {
    "papermill": {
     "duration": 0.014664,
     "end_time": "2022-11-10T22:45:42.357326",
     "exception": false,
     "start_time": "2022-11-10T22:45:42.342662",
     "status": "completed"
    },
    "tags": []
   },
   "source": [
    "fig, ax = plt.subplots(1,1, figsize=(5,4), dpi=150)\n",
    "\n",
    "sns.histplot(\n",
    "    multiplets['mean_rLCS'],\n",
    "    ax=ax,\n",
    "    discrete=True)\n",
    "ax.set_xlabel('Mean rLCS per multiplet')\n",
    "ax.set_ylabel('Count')\n",
    "ax.axvline(x=rLCS_thr-0.5, color='grey', linestyle='--')\n",
    "\n",
    "plt.tight_layout()"
   ]
  },
  {
   "cell_type": "markdown",
   "id": "ee705573",
   "metadata": {
    "papermill": {
     "duration": 0.028288,
     "end_time": "2022-11-10T22:45:42.409252",
     "exception": false,
     "start_time": "2022-11-10T22:45:42.380964",
     "status": "completed"
    },
    "tags": []
   },
   "source": [
    "## Barcode multiplets"
   ]
  },
  {
   "cell_type": "markdown",
   "id": "57b5d266",
   "metadata": {
    "papermill": {
     "duration": 0.020816,
     "end_time": "2022-11-10T22:45:42.457210",
     "exception": false,
     "start_time": "2022-11-10T22:45:42.436394",
     "status": "completed"
    },
    "tags": []
   },
   "source": [
    "fig, (ax1,ax2) = plt.subplots(1,2, figsize=(10,4), dpi=150, sharex=True, sharey=True )\n",
    "\n",
    "sns.histplot(\n",
    "    multiplets['bap_N'][(multiplets['bap_N']!='N01') & (multiplets['multiplets_passing_rLCS_thr']==True)].sort_values(),\n",
    "    ax=ax1,\n",
    "    discrete=True)\n",
    "ax1.set_title(f\"Physical multiplets (non-barcode similarity; rLCS<{rLCS_thr})\")\n",
    "ax1.set_xlabel('# beads / droplet')\n",
    "ax1.set_ylabel('Count')\n",
    "\n",
    "sns.histplot(\n",
    "    multiplets['bap_N'][(multiplets['bap_N']!='N01') & (multiplets['multiplets_passing_rLCS_thr']==False)].sort_values(),\n",
    "    ax=ax2,\n",
    "    discrete=True)\n",
    "#ax1.set_title(SAMPLE)\n",
    "ax2.set_title(f\"Complex beads (barcode similarity; rLCS>={rLCS_thr})\")\n",
    "ax2.set_xlabel('# barcodes / droplet')\n",
    "ax2.set_ylabel('Count')\n",
    "\n",
    "plt.tight_layout()"
   ]
  },
  {
   "cell_type": "markdown",
   "id": "295086d7",
   "metadata": {
    "papermill": {
     "duration": 0.014874,
     "end_time": "2022-11-10T22:45:42.501243",
     "exception": false,
     "start_time": "2022-11-10T22:45:42.486369",
     "status": "completed"
    },
    "tags": []
   },
   "source": [
    "## NC values\n",
    "\n",
    "Look at the number of occurrences of a particular read across the experiment."
   ]
  },
  {
   "cell_type": "markdown",
   "id": "3c267c73",
   "metadata": {
    "papermill": {
     "duration": 0.012634,
     "end_time": "2022-11-10T22:45:42.526926",
     "exception": false,
     "start_time": "2022-11-10T22:45:42.514292",
     "status": "completed"
    },
    "tags": []
   },
   "source": [
    "# plot NC values hist\n",
    "\n",
    "def plot_bap_NC(dat, label, ax):\n",
    "    p_ = sns.barplot(x='NC_value', y='NumberOfFragments', data=dat, ax=ax, color='grey')\n",
    "    #ax.set_xscale('log')\n",
    "    ax.set_yscale('log')\n",
    "    ax.set_xlabel('NC value')\n",
    "    ax.set_ylabel('Number of fragments')\n",
    "    ax.set_title(SAMPLE)\n",
    "    ax.set_xbound(lower=-1)\n",
    "    for ind, label in enumerate(p_.get_xticklabels()):\n",
    "        if ind % 20 == 0:  # every 20th label is kept\n",
    "            label.set_visible(True)\n",
    "        else:\n",
    "            label.set_visible(False)"
   ]
  },
  {
   "cell_type": "markdown",
   "id": "f681cfa9",
   "metadata": {
    "papermill": {
     "duration": 0.018722,
     "end_time": "2022-11-10T22:45:42.558474",
     "exception": false,
     "start_time": "2022-11-10T22:45:42.539752",
     "status": "completed"
    },
    "tags": []
   },
   "source": [
    "fig, ax = plt.subplots(1,1, figsize=(8,4), dpi=150 )\n",
    "\n",
    "plot_bap_NC(bap_nc, label=SAMPLE, ax=ax)\n",
    "plt.tight_layout()"
   ]
  },
  {
   "cell_type": "markdown",
   "id": "01abf361",
   "metadata": {
    "papermill": {
     "duration": 0.014727,
     "end_time": "2022-11-10T22:45:42.586552",
     "exception": false,
     "start_time": "2022-11-10T22:45:42.571825",
     "status": "completed"
    },
    "tags": []
   },
   "source": []
  }
 ],
 "metadata": {
  "kernelspec": {
   "display_name": "Python 3",
   "language": "python",
   "name": "python3"
  },
  "language_info": {
   "codemirror_mode": {
    "name": "ipython",
    "version": 3
   },
   "file_extension": ".py",
   "mimetype": "text/x-python",
   "name": "python",
   "nbconvert_exporter": "python",
   "pygments_lexer": "ipython3",
   "version": "3.8.3"
  },
  "papermill": {
   "default_parameters": {},
   "duration": 13.279468,
   "end_time": "2022-11-10T22:45:43.007427",
   "environment_variables": {},
   "exception": null,
   "input_path": "barcard_otsu_filtering.ipynb",
   "output_path": "BIO_ddseq_m2c4.5k.barcard_otsu.ipynb",
   "parameters": {
    "BARCARD_OVERLAP_TSV": "BIO_ddseq_m2c4.5k.barcard.overlap.tsv",
    "SAMPLE": "BIO_ddseq_m2c4.5k"
   },
   "start_time": "2022-11-10T22:45:29.727959",
   "version": "2.3.3"
  }
 },
 "nbformat": 4,
 "nbformat_minor": 5
}
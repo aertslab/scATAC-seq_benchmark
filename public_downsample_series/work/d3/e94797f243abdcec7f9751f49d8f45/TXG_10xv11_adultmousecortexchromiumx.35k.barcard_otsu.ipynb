{
 "cells": [
  {
   "cell_type": "markdown",
   "id": "76dc4c93",
   "metadata": {
    "execution": {
     "iopub.execute_input": "2022-07-13T15:30:56.958611Z",
     "iopub.status.busy": "2022-07-13T15:30:56.957882Z",
     "iopub.status.idle": "2022-07-13T15:30:56.967134Z",
     "shell.execute_reply": "2022-07-13T15:30:56.965277Z",
     "shell.execute_reply.started": "2022-07-13T15:30:56.958539Z"
    },
    "papermill": {
     "duration": 0.013087,
     "end_time": "2022-11-16T17:01:43.845355",
     "exception": false,
     "start_time": "2022-11-16T17:01:43.832268",
     "status": "completed"
    },
    "tags": []
   },
   "source": [
    "# Load parameters"
   ]
  },
  {
   "cell_type": "code",
   "execution_count": 1,
   "id": "6acccd74",
   "metadata": {
    "execution": {
     "iopub.execute_input": "2022-11-16T17:01:43.871933Z",
     "iopub.status.busy": "2022-11-16T17:01:43.871435Z",
     "iopub.status.idle": "2022-11-16T17:01:43.873365Z",
     "shell.execute_reply": "2022-11-16T17:01:43.873793Z",
     "shell.execute_reply.started": "2022-07-15T10:06:07.283404Z"
    },
    "jupyter": {
     "source_hidden": true
    },
    "papermill": {
     "duration": 0.017044,
     "end_time": "2022-11-16T17:01:43.874034",
     "exception": false,
     "start_time": "2022-11-16T17:01:43.856990",
     "status": "completed"
    },
    "tags": [
     "parameters"
    ]
   },
   "outputs": [],
   "source": [
    "# Parameters loaded below"
   ]
  },
  {
   "cell_type": "code",
   "execution_count": 2,
   "id": "mobile-stamp",
   "metadata": {
    "execution": {
     "iopub.execute_input": "2022-11-16T17:01:43.908282Z",
     "iopub.status.busy": "2022-11-16T17:01:43.907651Z",
     "iopub.status.idle": "2022-11-16T17:01:43.909196Z",
     "shell.execute_reply": "2022-11-16T17:01:43.909549Z"
    },
    "jupyter": {
     "source_hidden": true
    },
    "papermill": {
     "duration": 0.021769,
     "end_time": "2022-11-16T17:01:43.909760",
     "exception": false,
     "start_time": "2022-11-16T17:01:43.887991",
     "status": "completed"
    },
    "tags": [
     "injected-parameters"
    ]
   },
   "outputs": [],
   "source": [
    "# Parameters\n",
    "SAMPLE = \"TXG_10xv11_adultmousecortexchromiumx.35k\"\n",
    "BARCARD_OVERLAP_TSV = \"TXG_10xv11_adultmousecortexchromiumx.35k.barcard.overlap.tsv\"\n"
   ]
  },
  {
   "cell_type": "code",
   "execution_count": 3,
   "id": "a45e6de1",
   "metadata": {
    "execution": {
     "iopub.execute_input": "2022-11-16T17:01:44.034011Z",
     "iopub.status.busy": "2022-11-16T17:01:44.033522Z",
     "iopub.status.idle": "2022-11-16T17:01:44.036332Z",
     "shell.execute_reply": "2022-11-16T17:01:44.035865Z"
    },
    "jupyter": {
     "source_hidden": true
    },
    "papermill": {
     "duration": 0.116055,
     "end_time": "2022-11-16T17:01:44.036457",
     "exception": false,
     "start_time": "2022-11-16T17:01:43.920402",
     "status": "completed"
    },
    "tags": []
   },
   "outputs": [
    {
     "name": "stdout",
     "output_type": "stream",
     "text": [
      "TXG_10xv11_adultmousecortexchromiumx.35k\n",
      "TXG_10xv11_adultmousecortexchromiumx.35k.barcard.overlap.tsv\n"
     ]
    }
   ],
   "source": [
    "sample = SAMPLE\n",
    "file = BARCARD_OVERLAP_TSV\n",
    "print(sample)\n",
    "print(file)"
   ]
  },
  {
   "cell_type": "markdown",
   "id": "388a0280",
   "metadata": {
    "papermill": {
     "duration": 0.010857,
     "end_time": "2022-11-16T17:01:44.058817",
     "exception": false,
     "start_time": "2022-11-16T17:01:44.047960",
     "status": "completed"
    },
    "tags": []
   },
   "source": [
    "# Import libraries and define functions"
   ]
  },
  {
   "cell_type": "code",
   "execution_count": 4,
   "id": "613908c2",
   "metadata": {
    "execution": {
     "iopub.execute_input": "2022-11-16T17:01:44.138766Z",
     "iopub.status.busy": "2022-11-16T17:01:44.138084Z",
     "iopub.status.idle": "2022-11-16T17:01:59.020531Z",
     "shell.execute_reply": "2022-11-16T17:01:59.020071Z"
    },
    "jupyter": {
     "source_hidden": true
    },
    "papermill": {
     "duration": 14.950846,
     "end_time": "2022-11-16T17:01:59.020662",
     "exception": false,
     "start_time": "2022-11-16T17:01:44.069816",
     "status": "completed"
    },
    "tags": []
   },
   "outputs": [],
   "source": [
    "import os\n",
    "import pandas as pd\n",
    "import seaborn as sns\n",
    "import glob\n",
    "import matplotlib.pyplot as plt\n",
    "import numpy as np"
   ]
  },
  {
   "cell_type": "code",
   "execution_count": 5,
   "id": "12b9a063",
   "metadata": {
    "execution": {
     "iopub.execute_input": "2022-11-16T17:01:59.051526Z",
     "iopub.status.busy": "2022-11-16T17:01:59.050308Z",
     "iopub.status.idle": "2022-11-16T17:01:59.054474Z",
     "shell.execute_reply": "2022-11-16T17:01:59.054021Z"
    },
    "jupyter": {
     "source_hidden": true
    },
    "papermill": {
     "duration": 0.022283,
     "end_time": "2022-11-16T17:01:59.054611",
     "exception": false,
     "start_time": "2022-11-16T17:01:59.032328",
     "status": "completed"
    },
    "tags": []
   },
   "outputs": [],
   "source": [
    "def histogram(array, nbins=100):\n",
    "    \"\"\"\n",
    "    Draw histogram from distribution and identify centers.\n",
    "    Parameters\n",
    "    ---------\n",
    "    array: `class::np.array`\n",
    "            Scores distribution\n",
    "    nbins: int\n",
    "            Number of bins to use in the histogram\n",
    "    Return\n",
    "    ---------\n",
    "    float\n",
    "            Histogram values and bin centers.\n",
    "    \"\"\"\n",
    "    array = array.ravel().flatten()\n",
    "    hist, bin_edges = np.histogram(array, bins=nbins, range=None)\n",
    "    bin_centers = (bin_edges[:-1] + bin_edges[1:]) / 2.0\n",
    "    return hist, bin_centers\n",
    "\n",
    "\n",
    "def threshold_otsu(array, nbins=100):\n",
    "    \"\"\"\n",
    "    Apply Otsu threshold on topic-region distributions [Otsu, 1979].\n",
    "    Parameters\n",
    "    ---------\n",
    "    array: `class::np.array`\n",
    "            Array containing the region values for the topic to be binarized.\n",
    "    nbins: int\n",
    "            Number of bins to use in the binarization histogram\n",
    "    Return\n",
    "    ---------\n",
    "    float\n",
    "            Binarization threshold.\n",
    "    Reference\n",
    "    ---------\n",
    "    Otsu, N., 1979. A threshold selection method from gray-level histograms. IEEE transactions on systems, man, and\n",
    "    cybernetics, 9(1), pp.62-66.\n",
    "    \"\"\"\n",
    "    hist, bin_centers = histogram(array, nbins)\n",
    "    hist = hist.astype(float)\n",
    "    # Class probabilities for all possible thresholds\n",
    "    weight1 = np.cumsum(hist)\n",
    "    weight2 = np.cumsum(hist[::-1])[::-1]\n",
    "    \n",
    "    if not weight1 == 0 or weight2 == 0:\n",
    "        # Class means for all possible thresholds\n",
    "        mean1 = np.cumsum(hist * bin_centers) / weight1\n",
    "        mean2 = (np.cumsum((hist * bin_centers)[::-1]) / weight2[::-1])[::-1]\n",
    "        # Clip ends to align class 1 and class 2 variables:\n",
    "        # The last value of ``weight1``/``mean1`` should pair with zero values in\n",
    "        # ``weight2``/``mean2``, which do not exist.\n",
    "        variance12 = weight1[:-1] * weight2[1:] * (mean1[:-1] - mean2[1:]) ** 2\n",
    "        idx = np.argmax(variance12)\n",
    "        threshold = bin_centers[:-1][idx]\n",
    "        \n",
    "    else:\n",
    "        threshold = 1\n",
    "        print(\"returning standard threshold of 1 since no overlap is found\")\n",
    "        \n",
    "    return threshold"
   ]
  },
  {
   "cell_type": "markdown",
   "id": "9971d21a",
   "metadata": {
    "execution": {
     "iopub.execute_input": "2022-07-13T15:37:31.640170Z",
     "iopub.status.busy": "2022-07-13T15:37:31.639182Z",
     "iopub.status.idle": "2022-07-13T15:37:31.649736Z",
     "shell.execute_reply": "2022-07-13T15:37:31.648020Z",
     "shell.execute_reply.started": "2022-07-13T15:37:31.640070Z"
    },
    "papermill": {
     "duration": 0.027136,
     "end_time": "2022-11-16T17:01:59.097650",
     "exception": false,
     "start_time": "2022-11-16T17:01:59.070514",
     "status": "completed"
    },
    "tags": []
   },
   "source": [
    "# Calculate threshold"
   ]
  },
  {
   "cell_type": "code",
   "execution_count": 6,
   "id": "357576b3",
   "metadata": {
    "execution": {
     "iopub.execute_input": "2022-11-16T17:01:59.388061Z",
     "iopub.status.busy": "2022-11-16T17:01:59.387478Z",
     "iopub.status.idle": "2022-11-16T17:03:03.697864Z",
     "shell.execute_reply": "2022-11-16T17:03:03.698301Z"
    },
    "jupyter": {
     "source_hidden": true
    },
    "papermill": {
     "duration": 64.333389,
     "end_time": "2022-11-16T17:03:03.698476",
     "exception": false,
     "start_time": "2022-11-16T17:01:59.365087",
     "status": "completed"
    },
    "tags": []
   },
   "outputs": [
    {
     "name": "stdout",
     "output_type": "stream",
     "text": [
      "TXG_10xv11_adultmousecortexchromiumx.35k\n"
     ]
    },
    {
     "name": "stdout",
     "output_type": "stream",
     "text": [
      "error occurred during otsu thresholding -- most likely very few overlap between barcodes.\n"
     ]
    },
    {
     "data": {
      "image/png": "[encoded data removed]",
      "text/plain": [
       "<Figure size 432x288 with 1 Axes>"
      ]
     },
     "metadata": {
      "needs_background": "light"
     },
     "output_type": "display_data"
    }
   ],
   "source": [
    "threshold_min = 0.02\n",
    "\n",
    "print(sample)\n",
    "df = pd.read_csv(file, header=0, sep=\"\\t\")\n",
    "\n",
    "df = df.sort_values(by=\"jaccard\", ascending=False)[:1000000]\n",
    "df.reset_index(inplace=True, drop=True)\n",
    "\n",
    "try:\n",
    "    threshold = threshold_otsu(df[\"jaccard\"])\n",
    "    \n",
    "    if threshold < 0.02:\n",
    "        threshold = threshold_min\n",
    "    threshold_rank = sum(df[\"jaccard\"] > threshold)\n",
    "\n",
    "    print(f\"\\tthreshold: {threshold}\")\n",
    "    print(f\"\\tnpairs_merged: {threshold_rank}\")\n",
    "\n",
    "    f, ax = plt.subplots(1, 1)\n",
    "    sns.lineplot(data=df, x=range(len(df)), y=\"jaccard\", ax=ax)\n",
    "    ax.axhline(y=threshold, xmin=0, xmax=10000000)\n",
    "    ax.axvline(x=threshold_rank, ymin=0.0001, ymax=1)\n",
    "    ax.set_xscale(\"log\")\n",
    "    ax.set_yscale(\"log\")\n",
    "    ax.set_title(sample)\n",
    "    ax.set_title(\n",
    "        f\"{sample}, threshold {round(threshold, 3)}, {threshold_rank} pairs merged\"\n",
    "    )\n",
    "    plt.savefig(\n",
    "        f\"{sample}.barcard_kneeplot.png\",\n",
    "        dpi=300,\n",
    "        facecolor=\"white\",\n",
    "    )\n",
    "    plt.show()\n",
    "    df.iloc[:threshold_rank].to_csv(\n",
    "        f\"{sample}.barcard.overlap.otsu_filtered.tsv\", sep=\"\\t\", index=False\n",
    "    )\n",
    "    \n",
    "except:\n",
    "    print(\"error occurred during otsu thresholding -- most likely very few overlap between barcodes.\")\n",
    "    f, ax = plt.subplots(1, 1)\n",
    "    sns.lineplot(data=df, x=range(len(df)), y=\"jaccard\", ax=ax)\n",
    "    ax.set_xscale(\"log\")\n",
    "    ax.set_yscale(\"log\")\n",
    "    ax.set_title(sample)\n",
    "    ax.set_title(\n",
    "        f\"{sample}, no pairs merged\"\n",
    "    )\n",
    "    plt.savefig(\n",
    "        f\"{sample}.barcard_kneeplot.png\",\n",
    "        dpi=300,\n",
    "        facecolor=\"white\",\n",
    "    )\n",
    "    plt.show()\n",
    "    with open(f\"{sample}.barcard.overlap.otsu_filtered.tsv\", 'w') as fp:\n",
    "        pass"
   ]
  },
  {
   "cell_type": "markdown",
   "id": "4d40b48f",
   "metadata": {
    "papermill": {
     "duration": 0.012443,
     "end_time": "2022-11-16T17:03:03.723792",
     "exception": false,
     "start_time": "2022-11-16T17:03:03.711349",
     "status": "completed"
    },
    "tags": []
   },
   "source": [
    "# VSN Pipelines: BAP multiplet pipeline report\n",
    "\n",
    "Additional analyses and plots from the output of BAP (https://github.com/caleblareau/bap)"
   ]
  },
  {
   "cell_type": "markdown",
   "id": "d967e3fc",
   "metadata": {
    "papermill": {
     "duration": 0.012693,
     "end_time": "2022-11-16T17:03:03.749330",
     "exception": false,
     "start_time": "2022-11-16T17:03:03.736637",
     "status": "completed"
    },
    "tags": []
   },
   "source": [
    "import pandas as pd\n",
    "import numpy as np\n",
    "import os\n",
    "from collections import Counter\n",
    "import itertools\n",
    "import json\n",
    "\n",
    "import matplotlib.pyplot as plt\n",
    "import seaborn as sns\n",
    "\n",
    "%matplotlib inline"
   ]
  },
  {
   "cell_type": "markdown",
   "id": "5d2f598e",
   "metadata": {
    "papermill": {
     "duration": 0.046628,
     "end_time": "2022-11-16T17:03:03.808668",
     "exception": false,
     "start_time": "2022-11-16T17:03:03.762040",
     "status": "completed"
    },
    "tags": []
   },
   "source": [
    "params = json.loads(WORKFLOW_PARAMETERS)\n",
    "\n",
    "print(f\"SAMPLE: {SAMPLE}\")\n",
    "print(f\"BAP Parameters: {json.dumps(params, indent=4)}\")"
   ]
  },
  {
   "cell_type": "markdown",
   "id": "b63a3f49",
   "metadata": {
    "papermill": {
     "duration": 0.012295,
     "end_time": "2022-11-16T17:03:03.835305",
     "exception": false,
     "start_time": "2022-11-16T17:03:03.823010",
     "status": "completed"
    },
    "tags": []
   },
   "source": [
    "# read in data\n",
    "f_bap_qc = SAMPLE+'.implicatedBarcodes.csv.gz'\n",
    "f_bap_bct = SAMPLE+'.barcodeTranslate.tsv'\n",
    "f_bap_nc = SAMPLE+'.NCsumstats.tsv'\n",
    "\n",
    "bap_ib = pd.read_csv(f_bap_qc)\n",
    "bap_bct = pd.read_csv(f_bap_bct, sep='\\t', header=None, names=['barcode','bap_barcode'])\n",
    "bap_nc = pd.read_csv(f_bap_nc, sep='\\t')"
   ]
  },
  {
   "cell_type": "markdown",
   "id": "e05d82a4",
   "metadata": {
    "papermill": {
     "duration": 0.012337,
     "end_time": "2022-11-16T17:03:03.860274",
     "exception": false,
     "start_time": "2022-11-16T17:03:03.847937",
     "status": "completed"
    },
    "tags": []
   },
   "source": [
    "## Overlap index\n",
    "\n",
    "Plot the overlap scores, representing the pairwise similarity between each barcode."
   ]
  },
  {
   "cell_type": "markdown",
   "id": "f357bd6d",
   "metadata": {
    "papermill": {
     "duration": 0.012327,
     "end_time": "2022-11-16T17:03:03.884836",
     "exception": false,
     "start_time": "2022-11-16T17:03:03.872509",
     "status": "completed"
    },
    "tags": []
   },
   "source": [
    "# overlap index rank plot\n",
    "def plot_overlap_rankplot(dat, label, ax):\n",
    "    y = dat['jaccard_frag'].sort_values(ascending=False)\n",
    "    ix = dat['jaccard_frag'][ dat['merged']==True ].idxmin()\n",
    "    thr = dat.iloc[ix]['jaccard_frag']\n",
    "    thrx = sum(dat['merged']==True)\n",
    "    \n",
    "    ax.scatter(x=range(y.shape[0]),\n",
    "               y=y.values,\n",
    "               s=4,\n",
    "               edgecolors=None)\n",
    "    ax.set_xscale('log')\n",
    "    ax.set_yscale('log')\n",
    "    ax.set_ylabel('Jaccard index per barcode pair')\n",
    "    ax.set_xlabel('Barcode pair rank')\n",
    "    ax.axhline(thr, color='grey', linestyle='--')\n",
    "    ax.text(0.01, 0.01, f\" thr={round(thr,4)} ({thrx} barcode pairs)\", ha='left', va='bottom' , transform=ax.transAxes, fontsize='x-small')\n",
    "    ax.set_title(label)"
   ]
  },
  {
   "cell_type": "markdown",
   "id": "99301f98",
   "metadata": {
    "papermill": {
     "duration": 0.012059,
     "end_time": "2022-11-16T17:03:03.909185",
     "exception": false,
     "start_time": "2022-11-16T17:03:03.897126",
     "status": "completed"
    },
    "tags": []
   },
   "source": [
    "fig, ax = plt.subplots(1,1, figsize=(5,4), dpi=150 )\n",
    "\n",
    "plot_overlap_rankplot(bap_ib, label=SAMPLE, ax=ax)\n",
    "plt.tight_layout()"
   ]
  },
  {
   "cell_type": "markdown",
   "id": "6d4275d5",
   "metadata": {
    "papermill": {
     "duration": 0.011993,
     "end_time": "2022-11-16T17:03:03.933358",
     "exception": false,
     "start_time": "2022-11-16T17:03:03.921365",
     "status": "completed"
    },
    "tags": []
   },
   "source": [
    "## Calculate restricted longest common subsequence (rLCS)\n",
    "\n",
    "This approach follows the methods in:\n",
    "* Lareau, C. A., Ma, S., Duarte, F. M. & Buenrostro, J. D. Inference and effects of barcode multiplets in droplet-based single-cell assays. Nature Communications 11, 1–9 (2020). https://doi.org/10.1038/s41467-020-14667-5\n",
    "\n",
    "This is calculated by taking each set of barcodes identified as a multiplet, and calculating the overlap\n",
    "and identifies two groups of droplet multiplets:\n",
    "* **Physical multiplets** (multiple beads that are physically grouped together in a droplet)\n",
    "  * Contains uniform barcodes (less than cutoff threshold on rLCS)\n",
    "* **Complex beads** (assumed to be due to bead barcode synthesis errors)\n",
    "  * Contain heterogenous barcodes (greater than a cutoff threshold on rLCS)"
   ]
  },
  {
   "cell_type": "markdown",
   "id": "869592d2",
   "metadata": {
    "papermill": {
     "duration": 0.069072,
     "end_time": "2022-11-16T17:03:04.015086",
     "exception": false,
     "start_time": "2022-11-16T17:03:03.946014",
     "status": "completed"
    },
    "tags": []
   },
   "source": [
    "# calculate rLCS match score\n",
    "def barcode_rle(a, b):\n",
    "    assert len(a) == len(b)\n",
    "    match_cnt = 0\n",
    "    match_list = []\n",
    "    for i in range(len(a)):\n",
    "        \n",
    "        if(a[i] == b[i]):\n",
    "            match_cnt += 1\n",
    "        else:\n",
    "            match_list.append(match_cnt)\n",
    "            match_cnt = 0\n",
    "    match_list.append(match_cnt)\n",
    "    return max(match_list)"
   ]
  },
  {
   "cell_type": "markdown",
   "id": "c9cb67fc",
   "metadata": {
    "papermill": {
     "duration": 0.015541,
     "end_time": "2022-11-16T17:03:04.045988",
     "exception": false,
     "start_time": "2022-11-16T17:03:04.030447",
     "status": "completed"
    },
    "tags": []
   },
   "source": [
    "rLCS_thr = 6\n",
    "\n",
    "bap_bct['bap_N'] = [ x.split('_')[-1] for x in bap_bct['bap_barcode'] ]\n",
    "\n",
    "multiplets = pd.DataFrame(\n",
    "    bap_bct['bap_barcode'][bap_bct['bap_N']!='N01'].unique(), \n",
    "    columns=['bap_barcode'])\n",
    "multiplets['bap_N'] = [ x.split('_')[-1] for x in multiplets['bap_barcode'] ]\n",
    "\n",
    "bcs_scores = []\n",
    "for i,m in enumerate(multiplets['bap_barcode']):\n",
    "    bcs = bap_bct['barcode'][bap_bct['bap_barcode']==m]\n",
    "    bcs_comb = list(itertools.combinations(bcs, 2))\n",
    "    mean_scores = np.mean([ barcode_rle(x[0], x[1]) for x in bcs_comb ])\n",
    "    bcs_scores.append(mean_scores)\n",
    "multiplets['mean_rLCS'] = bcs_scores\n",
    "\n",
    "# classify multiplet similarity by threshold\n",
    "multiplets['multiplets_passing_rLCS_thr'] = multiplets['mean_rLCS']>=rLCS_thr\n",
    "multiplets.dropna(inplace=True)\n",
    "\n",
    "multiplets"
   ]
  },
  {
   "cell_type": "markdown",
   "id": "007416e8",
   "metadata": {
    "papermill": {
     "duration": 0.014315,
     "end_time": "2022-11-16T17:03:04.076102",
     "exception": false,
     "start_time": "2022-11-16T17:03:04.061787",
     "status": "completed"
    },
    "tags": []
   },
   "source": [
    "# number of beads per droplet\n",
    "Counter(bap_bct['bap_N'])"
   ]
  },
  {
   "cell_type": "markdown",
   "id": "2027aecc",
   "metadata": {
    "papermill": {
     "duration": 1.207591,
     "end_time": "2022-11-16T17:03:05.594663",
     "exception": false,
     "start_time": "2022-11-16T17:03:04.387072",
     "status": "completed"
    },
    "tags": []
   },
   "source": [
    "n_singlets = np.sum(bap_bct['bap_N']=='N01')\n",
    "\n",
    "# multiplets with non barcode similarity (physical multiplets):\n",
    "n_physical = sum([ \n",
    "    int(x.replace('N','')) \n",
    "    for x in multiplets['bap_N'][multiplets['multiplets_passing_rLCS_thr']==False] \n",
    "])\n",
    "\n",
    "# multiplets with barcode similarity (complex multiplets):\n",
    "n_complex = sum(multiplets['multiplets_passing_rLCS_thr'])\n",
    "\n",
    "n_total = n_singlets + n_physical + n_complex\n",
    "\n",
    "# n_complex / n_total # rate of bead heterogeneity\n",
    "\n",
    "print(\n",
    "    f\"Number of singlets: {n_singlets}\\n\"\n",
    "    f\"Number of physical multiplets: {n_physical}\\n\"\n",
    "    f\"Number of complex multiplets: {n_complex}\\n\"\n",
    "    f\"Total: {n_total}\\n\"\n",
    "    f\"Rate of bead heterogeneity {round(n_complex/n_total,8)}\"\n",
    ")"
   ]
  },
  {
   "cell_type": "markdown",
   "id": "b92a8ad3",
   "metadata": {
    "papermill": {
     "duration": 0.012457,
     "end_time": "2022-11-16T17:03:05.619544",
     "exception": false,
     "start_time": "2022-11-16T17:03:05.607087",
     "status": "completed"
    },
    "tags": []
   },
   "source": [
    "fig, ax = plt.subplots(1,1, figsize=(5,4), dpi=150)\n",
    "\n",
    "sns.histplot(\n",
    "    multiplets['mean_rLCS'],\n",
    "    ax=ax,\n",
    "    discrete=True)\n",
    "ax.set_xlabel('Mean rLCS per multiplet')\n",
    "ax.set_ylabel('Count')\n",
    "ax.axvline(x=rLCS_thr-0.5, color='grey', linestyle='--')\n",
    "\n",
    "plt.tight_layout()"
   ]
  },
  {
   "cell_type": "markdown",
   "id": "ee705573",
   "metadata": {
    "papermill": {
     "duration": 0.012607,
     "end_time": "2022-11-16T17:03:05.645027",
     "exception": false,
     "start_time": "2022-11-16T17:03:05.632420",
     "status": "completed"
    },
    "tags": []
   },
   "source": [
    "## Barcode multiplets"
   ]
  },
  {
   "cell_type": "markdown",
   "id": "57b5d266",
   "metadata": {
    "papermill": {
     "duration": 0.012809,
     "end_time": "2022-11-16T17:03:05.670805",
     "exception": false,
     "start_time": "2022-11-16T17:03:05.657996",
     "status": "completed"
    },
    "tags": []
   },
   "source": [
    "fig, (ax1,ax2) = plt.subplots(1,2, figsize=(10,4), dpi=150, sharex=True, sharey=True )\n",
    "\n",
    "sns.histplot(\n",
    "    multiplets['bap_N'][(multiplets['bap_N']!='N01') & (multiplets['multiplets_passing_rLCS_thr']==True)].sort_values(),\n",
    "    ax=ax1,\n",
    "    discrete=True)\n",
    "ax1.set_title(f\"Physical multiplets (non-barcode similarity; rLCS<{rLCS_thr})\")\n",
    "ax1.set_xlabel('# beads / droplet')\n",
    "ax1.set_ylabel('Count')\n",
    "\n",
    "sns.histplot(\n",
    "    multiplets['bap_N'][(multiplets['bap_N']!='N01') & (multiplets['multiplets_passing_rLCS_thr']==False)].sort_values(),\n",
    "    ax=ax2,\n",
    "    discrete=True)\n",
    "#ax1.set_title(SAMPLE)\n",
    "ax2.set_title(f\"Complex beads (barcode similarity; rLCS>={rLCS_thr})\")\n",
    "ax2.set_xlabel('# barcodes / droplet')\n",
    "ax2.set_ylabel('Count')\n",
    "\n",
    "plt.tight_layout()"
   ]
  },
  {
   "cell_type": "markdown",
   "id": "295086d7",
   "metadata": {
    "papermill": {
     "duration": 0.012694,
     "end_time": "2022-11-16T17:03:05.696398",
     "exception": false,
     "start_time": "2022-11-16T17:03:05.683704",
     "status": "completed"
    },
    "tags": []
   },
   "source": [
    "## NC values\n",
    "\n",
    "Look at the number of occurrences of a particular read across the experiment."
   ]
  },
  {
   "cell_type": "markdown",
   "id": "3c267c73",
   "metadata": {
    "papermill": {
     "duration": 0.014148,
     "end_time": "2022-11-16T17:03:05.723218",
     "exception": false,
     "start_time": "2022-11-16T17:03:05.709070",
     "status": "completed"
    },
    "tags": []
   },
   "source": [
    "# plot NC values hist\n",
    "\n",
    "def plot_bap_NC(dat, label, ax):\n",
    "    p_ = sns.barplot(x='NC_value', y='NumberOfFragments', data=dat, ax=ax, color='grey')\n",
    "    #ax.set_xscale('log')\n",
    "    ax.set_yscale('log')\n",
    "    ax.set_xlabel('NC value')\n",
    "    ax.set_ylabel('Number of fragments')\n",
    "    ax.set_title(SAMPLE)\n",
    "    ax.set_xbound(lower=-1)\n",
    "    for ind, label in enumerate(p_.get_xticklabels()):\n",
    "        if ind % 20 == 0:  # every 20th label is kept\n",
    "            label.set_visible(True)\n",
    "        else:\n",
    "            label.set_visible(False)"
   ]
  },
  {
   "cell_type": "markdown",
   "id": "f681cfa9",
   "metadata": {
    "papermill": {
     "duration": 0.892287,
     "end_time": "2022-11-16T17:03:06.629428",
     "exception": false,
     "start_time": "2022-11-16T17:03:05.737141",
     "status": "completed"
    },
    "tags": []
   },
   "source": [
    "fig, ax = plt.subplots(1,1, figsize=(8,4), dpi=150 )\n",
    "\n",
    "plot_bap_NC(bap_nc, label=SAMPLE, ax=ax)\n",
    "plt.tight_layout()"
   ]
  },
  {
   "cell_type": "markdown",
   "id": "01abf361",
   "metadata": {
    "papermill": {
     "duration": 0.209512,
     "end_time": "2022-11-16T17:03:06.853462",
     "exception": false,
     "start_time": "2022-11-16T17:03:06.643950",
     "status": "completed"
    },
    "tags": []
   },
   "source": []
  }
 ],
 "metadata": {
  "kernelspec": {
   "display_name": "Python 3",
   "language": "python",
   "name": "python3"
  },
  "language_info": {
   "codemirror_mode": {
    "name": "ipython",
    "version": 3
   },
   "file_extension": ".py",
   "mimetype": "text/x-python",
   "name": "python",
   "nbconvert_exporter": "python",
   "pygments_lexer": "ipython3",
   "version": "3.8.3"
  },
  "papermill": {
   "default_parameters": {},
   "duration": 88.01725,
   "end_time": "2022-11-16T17:03:08.318977",
   "environment_variables": {},
   "exception": null,
   "input_path": "barcard_otsu_filtering.ipynb",
   "output_path": "TXG_10xv11_adultmousecortexchromiumx.35k.barcard_otsu.ipynb",
   "parameters": {
    "BARCARD_OVERLAP_TSV": "TXG_10xv11_adultmousecortexchromiumx.35k.barcard.overlap.tsv",
    "SAMPLE": "TXG_10xv11_adultmousecortexchromiumx.35k"
   },
   "start_time": "2022-11-16T17:01:40.301727",
   "version": "2.3.3"
  }
 },
 "nbformat": 4,
 "nbformat_minor": 5
}
{
 "cells": [
  {
   "cell_type": "code",
   "execution_count": 1,
   "id": "65422e1f",
   "metadata": {
    "execution": {
     "iopub.execute_input": "2022-11-16T17:48:17.302179Z",
     "iopub.status.busy": "2022-11-16T17:48:17.301729Z",
     "iopub.status.idle": "2022-11-16T17:48:45.140239Z",
     "shell.execute_reply": "2022-11-16T17:48:45.139421Z",
     "shell.execute_reply.started": "2022-11-16T17:46:29.439556Z"
    },
    "papermill": {
     "duration": 28.331207,
     "end_time": "2022-11-16T17:48:45.140410",
     "exception": false,
     "start_time": "2022-11-16T17:48:16.809203",
     "status": "completed"
    },
    "tags": []
   },
   "outputs": [],
   "source": [
    "import pycisTopic\n",
    "import glob\n",
    "import os\n",
    "import pybiomart as pbm\n",
    "import pandas as pd\n",
    "import pickle\n",
    "from pycisTopic.qc import *\n",
    "from IPython.display import Image, display\n",
    "import matplotlib.pyplot as plt\n",
    "import numpy as np\n",
    "import seaborn as sns\n",
    "\n",
    "import multiprocess as mp  # for kde multithreading calculation\n",
    "from multiprocess import Pool\n",
    "\n",
    "%matplotlib inline\n",
    "%load_ext lab_black"
   ]
  },
  {
   "cell_type": "markdown",
   "id": "98e5c35a",
   "metadata": {
    "papermill": {
     "duration": 0.009551,
     "end_time": "2022-11-16T17:48:45.176272",
     "exception": false,
     "start_time": "2022-11-16T17:48:45.166721",
     "status": "completed"
    },
    "tags": []
   },
   "source": [
    "# Download annotation"
   ]
  },
  {
   "cell_type": "code",
   "execution_count": 2,
   "id": "ca6a7400",
   "metadata": {
    "execution": {
     "iopub.execute_input": "2022-11-16T17:48:45.203494Z",
     "iopub.status.busy": "2022-11-16T17:48:45.203049Z",
     "iopub.status.idle": "2022-11-16T17:48:45.722274Z",
     "shell.execute_reply": "2022-11-16T17:48:45.723265Z",
     "shell.execute_reply.started": "2022-11-16T17:46:29.458724Z"
    },
    "papermill": {
     "duration": 0.538136,
     "end_time": "2022-11-16T17:48:45.723607",
     "exception": false,
     "start_time": "2022-11-16T17:48:45.185471",
     "status": "completed"
    },
    "tags": []
   },
   "outputs": [
    {
     "name": "stdout",
     "output_type": "stream",
     "text": [
      "/lustre1/project/stg_00090/scatac_benchmark/public_downsample_series\r\n"
     ]
    }
   ],
   "source": [
    "!pwd"
   ]
  },
  {
   "cell_type": "code",
   "execution_count": 3,
   "id": "d2ea135b",
   "metadata": {
    "execution": {
     "iopub.execute_input": "2022-11-16T17:48:46.000789Z",
     "iopub.status.busy": "2022-11-16T17:48:45.999483Z",
     "iopub.status.idle": "2022-11-16T17:48:46.002243Z",
     "shell.execute_reply": "2022-11-16T17:48:46.003291Z",
     "shell.execute_reply.started": "2022-11-16T17:46:29.522042Z"
    },
    "papermill": {
     "duration": 0.075224,
     "end_time": "2022-11-16T17:48:46.003610",
     "exception": false,
     "start_time": "2022-11-16T17:48:45.928386",
     "status": "completed"
    },
    "tags": []
   },
   "outputs": [],
   "source": [
    "wdir = f\"/lustre1/project/stg_00090/scatac_benchmark/public_downsample_series\"\n",
    "os.chdir(wdir)"
   ]
  },
  {
   "cell_type": "code",
   "execution_count": 4,
   "id": "4f8f90f3",
   "metadata": {
    "execution": {
     "iopub.execute_input": "2022-11-16T17:48:46.039576Z",
     "iopub.status.busy": "2022-11-16T17:48:46.039148Z",
     "iopub.status.idle": "2022-11-16T17:48:46.954593Z",
     "shell.execute_reply": "2022-11-16T17:48:46.953295Z",
     "shell.execute_reply.started": "2022-11-16T17:46:29.523377Z"
    },
    "papermill": {
     "duration": 0.93844,
     "end_time": "2022-11-16T17:48:46.954865",
     "exception": false,
     "start_time": "2022-11-16T17:48:46.016425",
     "status": "completed"
    },
    "tags": []
   },
   "outputs": [
    {
     "name": "stderr",
     "output_type": "stream",
     "text": [
      "/local_scratch/tmp-vsc33042/ipykernel_12332/3357372886.py:34: FutureWarning: The default value of regex will change from True to False in a future version.\n",
      "  annotation[\"Chromosome/scaffold name\"] = annotation[\n"
     ]
    }
   ],
   "source": [
    "genome = \"mm10\"\n",
    "\n",
    "pbm_genome_name_dict = {\n",
    "    \"hg38\": \"hsapiens_gene_ensembl\",\n",
    "    \"hg37\": \"hsapiens_gene_ensembl\",\n",
    "    \"mm10\": \"mmusculus_gene_ensembl\",\n",
    "    \"dm6\": \"dmelanogaster_gene_ensembl\",\n",
    "}\n",
    "\n",
    "pbm_host_dict = {\n",
    "    \"hg38\": \"http://www.ensembl.org\",\n",
    "    \"hg37\": \"http://grch37.ensembl.org/\",\n",
    "    \"mm10\": \"http://nov2020.archive.ensembl.org/\",\n",
    "    \"dm6\": \"http://www.ensembl.org\",\n",
    "}\n",
    "\n",
    "if os.path.exists(f\"../annotation.tsv\"):\n",
    "    print(f\"Loading cached genome annotation...\")\n",
    "    annotation = pd.read_csv(\"../annotation.tsv\", sep=\"\\t\", header=0, index_col=0)\n",
    "else:\n",
    "    dataset = pbm.Dataset(name=pbm_genome_name_dict[genome], host=pbm_host_dict[genome])\n",
    "\n",
    "    annotation = dataset.query(\n",
    "        attributes=[\n",
    "            \"chromosome_name\",\n",
    "            \"transcription_start_site\",\n",
    "            \"strand\",\n",
    "            \"external_gene_name\",\n",
    "            \"transcript_biotype\",\n",
    "        ]\n",
    "    )\n",
    "    filter = annotation[\"Chromosome/scaffold name\"].str.contains(\"CHR|GL|JH|MT\")\n",
    "    annotation = annotation[~filter]\n",
    "    annotation[\"Chromosome/scaffold name\"] = annotation[\n",
    "        \"Chromosome/scaffold name\"\n",
    "    ].str.replace(r\"(\\b\\S)\", r\"chr\\1\")\n",
    "    annotation.columns = [\"Chromosome\", \"Start\", \"Strand\", \"Gene\", \"Transcript_type\"]\n",
    "    annotation = annotation[annotation.Transcript_type == \"protein_coding\"]\n",
    "    annotation.to_csv(\"annotation.tsv\", sep=\"\\t\")"
   ]
  },
  {
   "cell_type": "code",
   "execution_count": 5,
   "id": "e78e7863",
   "metadata": {
    "execution": {
     "iopub.execute_input": "2022-11-16T17:48:46.982920Z",
     "iopub.status.busy": "2022-11-16T17:48:46.982207Z",
     "iopub.status.idle": "2022-11-16T17:48:46.996560Z",
     "shell.execute_reply": "2022-11-16T17:48:46.996240Z",
     "shell.execute_reply.started": "2022-11-16T17:46:29.524595Z"
    },
    "papermill": {
     "duration": 0.029553,
     "end_time": "2022-11-16T17:48:46.996640",
     "exception": false,
     "start_time": "2022-11-16T17:48:46.967087",
     "status": "completed"
    },
    "tags": []
   },
   "outputs": [
    {
     "data": {
      "text/plain": [
       "{'BIO_ddseq_m1c1.10k': 'preprocessing_out/data/fragments/BIO_ddseq_m1c1.10k.fragments.tsv.gz',\n",
       " 'BIO_ddseq_m1c1.15k': 'preprocessing_out/data/fragments/BIO_ddseq_m1c1.15k.fragments.tsv.gz',\n",
       " 'BIO_ddseq_m1c1.20k': 'preprocessing_out/data/fragments/BIO_ddseq_m1c1.20k.fragments.tsv.gz',\n",
       " 'BIO_ddseq_m1c1.5k': 'preprocessing_out/data/fragments/BIO_ddseq_m1c1.5k.fragments.tsv.gz',\n",
       " 'BIO_ddseq_m1c2.10k': 'preprocessing_out/data/fragments/BIO_ddseq_m1c2.10k.fragments.tsv.gz',\n",
       " 'BIO_ddseq_m1c2.15k': 'preprocessing_out/data/fragments/BIO_ddseq_m1c2.15k.fragments.tsv.gz',\n",
       " 'BIO_ddseq_m1c2.20k': 'preprocessing_out/data/fragments/BIO_ddseq_m1c2.20k.fragments.tsv.gz',\n",
       " 'BIO_ddseq_m1c2.25k': 'preprocessing_out/data/fragments/BIO_ddseq_m1c2.25k.fragments.tsv.gz',\n",
       " 'BIO_ddseq_m1c2.30k': 'preprocessing_out/data/fragments/BIO_ddseq_m1c2.30k.fragments.tsv.gz',\n",
       " 'BIO_ddseq_m1c2.5k': 'preprocessing_out/data/fragments/BIO_ddseq_m1c2.5k.fragments.tsv.gz',\n",
       " 'BIO_ddseq_m1c3.10k': 'preprocessing_out/data/fragments/BIO_ddseq_m1c3.10k.fragments.tsv.gz',\n",
       " 'BIO_ddseq_m1c3.15k': 'preprocessing_out/data/fragments/BIO_ddseq_m1c3.15k.fragments.tsv.gz',\n",
       " 'BIO_ddseq_m1c3.20k': 'preprocessing_out/data/fragments/BIO_ddseq_m1c3.20k.fragments.tsv.gz',\n",
       " 'BIO_ddseq_m1c3.25k': 'preprocessing_out/data/fragments/BIO_ddseq_m1c3.25k.fragments.tsv.gz',\n",
       " 'BIO_ddseq_m1c3.30k': 'preprocessing_out/data/fragments/BIO_ddseq_m1c3.30k.fragments.tsv.gz',\n",
       " 'BIO_ddseq_m1c3.5k': 'preprocessing_out/data/fragments/BIO_ddseq_m1c3.5k.fragments.tsv.gz',\n",
       " 'BIO_ddseq_m1c4.10k': 'preprocessing_out/data/fragments/BIO_ddseq_m1c4.10k.fragments.tsv.gz',\n",
       " 'BIO_ddseq_m1c4.15k': 'preprocessing_out/data/fragments/BIO_ddseq_m1c4.15k.fragments.tsv.gz',\n",
       " 'BIO_ddseq_m1c4.20k': 'preprocessing_out/data/fragments/BIO_ddseq_m1c4.20k.fragments.tsv.gz',\n",
       " 'BIO_ddseq_m1c4.25k': 'preprocessing_out/data/fragments/BIO_ddseq_m1c4.25k.fragments.tsv.gz',\n",
       " 'BIO_ddseq_m1c4.30k': 'preprocessing_out/data/fragments/BIO_ddseq_m1c4.30k.fragments.tsv.gz',\n",
       " 'BIO_ddseq_m1c4.5k': 'preprocessing_out/data/fragments/BIO_ddseq_m1c4.5k.fragments.tsv.gz',\n",
       " 'BIO_ddseq_m1c5.10k': 'preprocessing_out/data/fragments/BIO_ddseq_m1c5.10k.fragments.tsv.gz',\n",
       " 'BIO_ddseq_m1c5.15k': 'preprocessing_out/data/fragments/BIO_ddseq_m1c5.15k.fragments.tsv.gz',\n",
       " 'BIO_ddseq_m1c5.20k': 'preprocessing_out/data/fragments/BIO_ddseq_m1c5.20k.fragments.tsv.gz',\n",
       " 'BIO_ddseq_m1c5.25k': 'preprocessing_out/data/fragments/BIO_ddseq_m1c5.25k.fragments.tsv.gz',\n",
       " 'BIO_ddseq_m1c5.30k': 'preprocessing_out/data/fragments/BIO_ddseq_m1c5.30k.fragments.tsv.gz',\n",
       " 'BIO_ddseq_m1c5.35k': 'preprocessing_out/data/fragments/BIO_ddseq_m1c5.35k.fragments.tsv.gz',\n",
       " 'BIO_ddseq_m1c5.40k': 'preprocessing_out/data/fragments/BIO_ddseq_m1c5.40k.fragments.tsv.gz',\n",
       " 'BIO_ddseq_m1c5.5k': 'preprocessing_out/data/fragments/BIO_ddseq_m1c5.5k.fragments.tsv.gz',\n",
       " 'BIO_ddseq_m1c6.10k': 'preprocessing_out/data/fragments/BIO_ddseq_m1c6.10k.fragments.tsv.gz',\n",
       " 'BIO_ddseq_m1c6.15k': 'preprocessing_out/data/fragments/BIO_ddseq_m1c6.15k.fragments.tsv.gz',\n",
       " 'BIO_ddseq_m1c6.20k': 'preprocessing_out/data/fragments/BIO_ddseq_m1c6.20k.fragments.tsv.gz',\n",
       " 'BIO_ddseq_m1c6.25k': 'preprocessing_out/data/fragments/BIO_ddseq_m1c6.25k.fragments.tsv.gz',\n",
       " 'BIO_ddseq_m1c6.5k': 'preprocessing_out/data/fragments/BIO_ddseq_m1c6.5k.fragments.tsv.gz',\n",
       " 'BIO_ddseq_m1c7.10k': 'preprocessing_out/data/fragments/BIO_ddseq_m1c7.10k.fragments.tsv.gz',\n",
       " 'BIO_ddseq_m1c7.15k': 'preprocessing_out/data/fragments/BIO_ddseq_m1c7.15k.fragments.tsv.gz',\n",
       " 'BIO_ddseq_m1c7.20k': 'preprocessing_out/data/fragments/BIO_ddseq_m1c7.20k.fragments.tsv.gz',\n",
       " 'BIO_ddseq_m1c7.25k': 'preprocessing_out/data/fragments/BIO_ddseq_m1c7.25k.fragments.tsv.gz',\n",
       " 'BIO_ddseq_m1c7.5k': 'preprocessing_out/data/fragments/BIO_ddseq_m1c7.5k.fragments.tsv.gz',\n",
       " 'BIO_ddseq_m1c8.10k': 'preprocessing_out/data/fragments/BIO_ddseq_m1c8.10k.fragments.tsv.gz',\n",
       " 'BIO_ddseq_m1c8.15k': 'preprocessing_out/data/fragments/BIO_ddseq_m1c8.15k.fragments.tsv.gz',\n",
       " 'BIO_ddseq_m1c8.20k': 'preprocessing_out/data/fragments/BIO_ddseq_m1c8.20k.fragments.tsv.gz',\n",
       " 'BIO_ddseq_m1c8.25k': 'preprocessing_out/data/fragments/BIO_ddseq_m1c8.25k.fragments.tsv.gz',\n",
       " 'BIO_ddseq_m1c8.30k': 'preprocessing_out/data/fragments/BIO_ddseq_m1c8.30k.fragments.tsv.gz',\n",
       " 'BIO_ddseq_m1c8.35k': 'preprocessing_out/data/fragments/BIO_ddseq_m1c8.35k.fragments.tsv.gz',\n",
       " 'BIO_ddseq_m1c8.5k': 'preprocessing_out/data/fragments/BIO_ddseq_m1c8.5k.fragments.tsv.gz',\n",
       " 'BIO_ddseq_m2c1.10k': 'preprocessing_out/data/fragments/BIO_ddseq_m2c1.10k.fragments.tsv.gz',\n",
       " 'BIO_ddseq_m2c1.15k': 'preprocessing_out/data/fragments/BIO_ddseq_m2c1.15k.fragments.tsv.gz',\n",
       " 'BIO_ddseq_m2c1.20k': 'preprocessing_out/data/fragments/BIO_ddseq_m2c1.20k.fragments.tsv.gz',\n",
       " 'BIO_ddseq_m2c1.25k': 'preprocessing_out/data/fragments/BIO_ddseq_m2c1.25k.fragments.tsv.gz',\n",
       " 'BIO_ddseq_m2c1.30k': 'preprocessing_out/data/fragments/BIO_ddseq_m2c1.30k.fragments.tsv.gz',\n",
       " 'BIO_ddseq_m2c1.35k': 'preprocessing_out/data/fragments/BIO_ddseq_m2c1.35k.fragments.tsv.gz',\n",
       " 'BIO_ddseq_m2c1.40k': 'preprocessing_out/data/fragments/BIO_ddseq_m2c1.40k.fragments.tsv.gz',\n",
       " 'BIO_ddseq_m2c1.45k': 'preprocessing_out/data/fragments/BIO_ddseq_m2c1.45k.fragments.tsv.gz',\n",
       " 'BIO_ddseq_m2c1.50k': 'preprocessing_out/data/fragments/BIO_ddseq_m2c1.50k.fragments.tsv.gz',\n",
       " 'BIO_ddseq_m2c1.5k': 'preprocessing_out/data/fragments/BIO_ddseq_m2c1.5k.fragments.tsv.gz',\n",
       " 'BIO_ddseq_m2c2.10k': 'preprocessing_out/data/fragments/BIO_ddseq_m2c2.10k.fragments.tsv.gz',\n",
       " 'BIO_ddseq_m2c2.15k': 'preprocessing_out/data/fragments/BIO_ddseq_m2c2.15k.fragments.tsv.gz',\n",
       " 'BIO_ddseq_m2c2.20k': 'preprocessing_out/data/fragments/BIO_ddseq_m2c2.20k.fragments.tsv.gz',\n",
       " 'BIO_ddseq_m2c2.25k': 'preprocessing_out/data/fragments/BIO_ddseq_m2c2.25k.fragments.tsv.gz',\n",
       " 'BIO_ddseq_m2c2.30k': 'preprocessing_out/data/fragments/BIO_ddseq_m2c2.30k.fragments.tsv.gz',\n",
       " 'BIO_ddseq_m2c2.35k': 'preprocessing_out/data/fragments/BIO_ddseq_m2c2.35k.fragments.tsv.gz',\n",
       " 'BIO_ddseq_m2c2.40k': 'preprocessing_out/data/fragments/BIO_ddseq_m2c2.40k.fragments.tsv.gz',\n",
       " 'BIO_ddseq_m2c2.5k': 'preprocessing_out/data/fragments/BIO_ddseq_m2c2.5k.fragments.tsv.gz',\n",
       " 'BIO_ddseq_m2c3.10k': 'preprocessing_out/data/fragments/BIO_ddseq_m2c3.10k.fragments.tsv.gz',\n",
       " 'BIO_ddseq_m2c3.15k': 'preprocessing_out/data/fragments/BIO_ddseq_m2c3.15k.fragments.tsv.gz',\n",
       " 'BIO_ddseq_m2c3.20k': 'preprocessing_out/data/fragments/BIO_ddseq_m2c3.20k.fragments.tsv.gz',\n",
       " 'BIO_ddseq_m2c3.25k': 'preprocessing_out/data/fragments/BIO_ddseq_m2c3.25k.fragments.tsv.gz',\n",
       " 'BIO_ddseq_m2c3.30k': 'preprocessing_out/data/fragments/BIO_ddseq_m2c3.30k.fragments.tsv.gz',\n",
       " 'BIO_ddseq_m2c3.35k': 'preprocessing_out/data/fragments/BIO_ddseq_m2c3.35k.fragments.tsv.gz',\n",
       " 'BIO_ddseq_m2c3.40k': 'preprocessing_out/data/fragments/BIO_ddseq_m2c3.40k.fragments.tsv.gz',\n",
       " 'BIO_ddseq_m2c3.45k': 'preprocessing_out/data/fragments/BIO_ddseq_m2c3.45k.fragments.tsv.gz',\n",
       " 'BIO_ddseq_m2c3.50k': 'preprocessing_out/data/fragments/BIO_ddseq_m2c3.50k.fragments.tsv.gz',\n",
       " 'BIO_ddseq_m2c3.5k': 'preprocessing_out/data/fragments/BIO_ddseq_m2c3.5k.fragments.tsv.gz',\n",
       " 'BIO_ddseq_m2c4.10k': 'preprocessing_out/data/fragments/BIO_ddseq_m2c4.10k.fragments.tsv.gz',\n",
       " 'BIO_ddseq_m2c4.15k': 'preprocessing_out/data/fragments/BIO_ddseq_m2c4.15k.fragments.tsv.gz',\n",
       " 'BIO_ddseq_m2c4.20k': 'preprocessing_out/data/fragments/BIO_ddseq_m2c4.20k.fragments.tsv.gz',\n",
       " 'BIO_ddseq_m2c4.25k': 'preprocessing_out/data/fragments/BIO_ddseq_m2c4.25k.fragments.tsv.gz',\n",
       " 'BIO_ddseq_m2c4.30k': 'preprocessing_out/data/fragments/BIO_ddseq_m2c4.30k.fragments.tsv.gz',\n",
       " 'BIO_ddseq_m2c4.35k': 'preprocessing_out/data/fragments/BIO_ddseq_m2c4.35k.fragments.tsv.gz',\n",
       " 'BIO_ddseq_m2c4.40k': 'preprocessing_out/data/fragments/BIO_ddseq_m2c4.40k.fragments.tsv.gz',\n",
       " 'BIO_ddseq_m2c4.45k': 'preprocessing_out/data/fragments/BIO_ddseq_m2c4.45k.fragments.tsv.gz',\n",
       " 'BIO_ddseq_m2c4.50k': 'preprocessing_out/data/fragments/BIO_ddseq_m2c4.50k.fragments.tsv.gz',\n",
       " 'BIO_ddseq_m2c4.5k': 'preprocessing_out/data/fragments/BIO_ddseq_m2c4.5k.fragments.tsv.gz',\n",
       " 'OHS_s3atac_mouse.10k': 'preprocessing_out/data/fragments/OHS_s3atac_mouse.10k.fragments.tsv.gz',\n",
       " 'OHS_s3atac_mouse.15k': 'preprocessing_out/data/fragments/OHS_s3atac_mouse.15k.fragments.tsv.gz',\n",
       " 'OHS_s3atac_mouse.20k': 'preprocessing_out/data/fragments/OHS_s3atac_mouse.20k.fragments.tsv.gz',\n",
       " 'OHS_s3atac_mouse.25k': 'preprocessing_out/data/fragments/OHS_s3atac_mouse.25k.fragments.tsv.gz',\n",
       " 'OHS_s3atac_mouse.30k': 'preprocessing_out/data/fragments/OHS_s3atac_mouse.30k.fragments.tsv.gz',\n",
       " 'OHS_s3atac_mouse.35k': 'preprocessing_out/data/fragments/OHS_s3atac_mouse.35k.fragments.tsv.gz',\n",
       " 'OHS_s3atac_mouse.40k': 'preprocessing_out/data/fragments/OHS_s3atac_mouse.40k.fragments.tsv.gz',\n",
       " 'OHS_s3atac_mouse.45k': 'preprocessing_out/data/fragments/OHS_s3atac_mouse.45k.fragments.tsv.gz',\n",
       " 'OHS_s3atac_mouse.50k': 'preprocessing_out/data/fragments/OHS_s3atac_mouse.50k.fragments.tsv.gz',\n",
       " 'OHS_s3atac_mouse.5k': 'preprocessing_out/data/fragments/OHS_s3atac_mouse.5k.fragments.tsv.gz',\n",
       " 'TXG_10xmultiome_e18mousebrainfresh.10k': 'preprocessing_out/data/fragments/TXG_10xmultiome_e18mousebrainfresh.10k.fragments.tsv.gz',\n",
       " 'TXG_10xmultiome_e18mousebrainfresh.15k': 'preprocessing_out/data/fragments/TXG_10xmultiome_e18mousebrainfresh.15k.fragments.tsv.gz',\n",
       " 'TXG_10xmultiome_e18mousebrainfresh.20k': 'preprocessing_out/data/fragments/TXG_10xmultiome_e18mousebrainfresh.20k.fragments.tsv.gz',\n",
       " 'TXG_10xmultiome_e18mousebrainfresh.25k': 'preprocessing_out/data/fragments/TXG_10xmultiome_e18mousebrainfresh.25k.fragments.tsv.gz',\n",
       " 'TXG_10xmultiome_e18mousebrainfresh.30k': 'preprocessing_out/data/fragments/TXG_10xmultiome_e18mousebrainfresh.30k.fragments.tsv.gz',\n",
       " 'TXG_10xmultiome_e18mousebrainfresh.35k': 'preprocessing_out/data/fragments/TXG_10xmultiome_e18mousebrainfresh.35k.fragments.tsv.gz',\n",
       " 'TXG_10xmultiome_e18mousebrainfresh.40k': 'preprocessing_out/data/fragments/TXG_10xmultiome_e18mousebrainfresh.40k.fragments.tsv.gz',\n",
       " 'TXG_10xmultiome_e18mousebrainfresh.5k': 'preprocessing_out/data/fragments/TXG_10xmultiome_e18mousebrainfresh.5k.fragments.tsv.gz',\n",
       " 'TXG_10xv11_adultmousecortexchromiumx.10k': 'preprocessing_out/data/fragments/TXG_10xv11_adultmousecortexchromiumx.10k.fragments.tsv.gz',\n",
       " 'TXG_10xv11_adultmousecortexchromiumx.15k': 'preprocessing_out/data/fragments/TXG_10xv11_adultmousecortexchromiumx.15k.fragments.tsv.gz',\n",
       " 'TXG_10xv11_adultmousecortexchromiumx.20k': 'preprocessing_out/data/fragments/TXG_10xv11_adultmousecortexchromiumx.20k.fragments.tsv.gz',\n",
       " 'TXG_10xv11_adultmousecortexchromiumx.25k': 'preprocessing_out/data/fragments/TXG_10xv11_adultmousecortexchromiumx.25k.fragments.tsv.gz',\n",
       " 'TXG_10xv11_adultmousecortexchromiumx.30k': 'preprocessing_out/data/fragments/TXG_10xv11_adultmousecortexchromiumx.30k.fragments.tsv.gz',\n",
       " 'TXG_10xv11_adultmousecortexchromiumx.35k': 'preprocessing_out/data/fragments/TXG_10xv11_adultmousecortexchromiumx.35k.fragments.tsv.gz',\n",
       " 'TXG_10xv11_adultmousecortexchromiumx.40k': 'preprocessing_out/data/fragments/TXG_10xv11_adultmousecortexchromiumx.40k.fragments.tsv.gz',\n",
       " 'TXG_10xv11_adultmousecortexchromiumx.45k': 'preprocessing_out/data/fragments/TXG_10xv11_adultmousecortexchromiumx.45k.fragments.tsv.gz',\n",
       " 'TXG_10xv11_adultmousecortexchromiumx.50k': 'preprocessing_out/data/fragments/TXG_10xv11_adultmousecortexchromiumx.50k.fragments.tsv.gz',\n",
       " 'TXG_10xv11_adultmousecortexchromiumx.5k': 'preprocessing_out/data/fragments/TXG_10xv11_adultmousecortexchromiumx.5k.fragments.tsv.gz',\n",
       " 'TXG_10xv1_adultmousefresh.10k': 'preprocessing_out/data/fragments/TXG_10xv1_adultmousefresh.10k.fragments.tsv.gz',\n",
       " 'TXG_10xv1_adultmousefresh.15k': 'preprocessing_out/data/fragments/TXG_10xv1_adultmousefresh.15k.fragments.tsv.gz',\n",
       " 'TXG_10xv1_adultmousefresh.20k': 'preprocessing_out/data/fragments/TXG_10xv1_adultmousefresh.20k.fragments.tsv.gz',\n",
       " 'TXG_10xv1_adultmousefresh.25k': 'preprocessing_out/data/fragments/TXG_10xv1_adultmousefresh.25k.fragments.tsv.gz',\n",
       " 'TXG_10xv1_adultmousefresh.30k': 'preprocessing_out/data/fragments/TXG_10xv1_adultmousefresh.30k.fragments.tsv.gz',\n",
       " 'TXG_10xv1_adultmousefresh.35k': 'preprocessing_out/data/fragments/TXG_10xv1_adultmousefresh.35k.fragments.tsv.gz',\n",
       " 'TXG_10xv1_adultmousefresh.40k': 'preprocessing_out/data/fragments/TXG_10xv1_adultmousefresh.40k.fragments.tsv.gz',\n",
       " 'TXG_10xv1_adultmousefresh.45k': 'preprocessing_out/data/fragments/TXG_10xv1_adultmousefresh.45k.fragments.tsv.gz',\n",
       " 'TXG_10xv1_adultmousefresh.50k': 'preprocessing_out/data/fragments/TXG_10xv1_adultmousefresh.50k.fragments.tsv.gz',\n",
       " 'TXG_10xv1_adultmousefresh.5k': 'preprocessing_out/data/fragments/TXG_10xv1_adultmousefresh.5k.fragments.tsv.gz',\n",
       " 'TXG_10xv2_adultmousecortex.10k': 'preprocessing_out/data/fragments/TXG_10xv2_adultmousecortex.10k.fragments.tsv.gz',\n",
       " 'TXG_10xv2_adultmousecortex.15k': 'preprocessing_out/data/fragments/TXG_10xv2_adultmousecortex.15k.fragments.tsv.gz',\n",
       " 'TXG_10xv2_adultmousecortex.20k': 'preprocessing_out/data/fragments/TXG_10xv2_adultmousecortex.20k.fragments.tsv.gz',\n",
       " 'TXG_10xv2_adultmousecortex.25k': 'preprocessing_out/data/fragments/TXG_10xv2_adultmousecortex.25k.fragments.tsv.gz',\n",
       " 'TXG_10xv2_adultmousecortex.30k': 'preprocessing_out/data/fragments/TXG_10xv2_adultmousecortex.30k.fragments.tsv.gz',\n",
       " 'TXG_10xv2_adultmousecortex.35k': 'preprocessing_out/data/fragments/TXG_10xv2_adultmousecortex.35k.fragments.tsv.gz',\n",
       " 'TXG_10xv2_adultmousecortex.40k': 'preprocessing_out/data/fragments/TXG_10xv2_adultmousecortex.40k.fragments.tsv.gz',\n",
       " 'TXG_10xv2_adultmousecortex.45k': 'preprocessing_out/data/fragments/TXG_10xv2_adultmousecortex.45k.fragments.tsv.gz',\n",
       " 'TXG_10xv2_adultmousecortex.50k': 'preprocessing_out/data/fragments/TXG_10xv2_adultmousecortex.50k.fragments.tsv.gz',\n",
       " 'TXG_10xv2_adultmousecortex.5k': 'preprocessing_out/data/fragments/TXG_10xv2_adultmousecortex.5k.fragments.tsv.gz',\n",
       " 'TXG_10xv2_adultmousecortexchromiumx.10k': 'preprocessing_out/data/fragments/TXG_10xv2_adultmousecortexchromiumx.10k.fragments.tsv.gz',\n",
       " 'TXG_10xv2_adultmousecortexchromiumx.15k': 'preprocessing_out/data/fragments/TXG_10xv2_adultmousecortexchromiumx.15k.fragments.tsv.gz',\n",
       " 'TXG_10xv2_adultmousecortexchromiumx.20k': 'preprocessing_out/data/fragments/TXG_10xv2_adultmousecortexchromiumx.20k.fragments.tsv.gz',\n",
       " 'TXG_10xv2_adultmousecortexchromiumx.25k': 'preprocessing_out/data/fragments/TXG_10xv2_adultmousecortexchromiumx.25k.fragments.tsv.gz',\n",
       " 'TXG_10xv2_adultmousecortexchromiumx.30k': 'preprocessing_out/data/fragments/TXG_10xv2_adultmousecortexchromiumx.30k.fragments.tsv.gz',\n",
       " 'TXG_10xv2_adultmousecortexchromiumx.35k': 'preprocessing_out/data/fragments/TXG_10xv2_adultmousecortexchromiumx.35k.fragments.tsv.gz',\n",
       " 'TXG_10xv2_adultmousecortexchromiumx.40k': 'preprocessing_out/data/fragments/TXG_10xv2_adultmousecortexchromiumx.40k.fragments.tsv.gz',\n",
       " 'TXG_10xv2_adultmousecortexchromiumx.45k': 'preprocessing_out/data/fragments/TXG_10xv2_adultmousecortexchromiumx.45k.fragments.tsv.gz',\n",
       " 'TXG_10xv2_adultmousecortexchromiumx.50k': 'preprocessing_out/data/fragments/TXG_10xv2_adultmousecortexchromiumx.50k.fragments.tsv.gz',\n",
       " 'TXG_10xv2_adultmousecortexchromiumx.5k': 'preprocessing_out/data/fragments/TXG_10xv2_adultmousecortexchromiumx.5k.fragments.tsv.gz',\n",
       " 'VIB_hydrop_1.10k': 'preprocessing_out/data/fragments/VIB_hydrop_1.10k.fragments.tsv.gz',\n",
       " 'VIB_hydrop_1.15k': 'preprocessing_out/data/fragments/VIB_hydrop_1.15k.fragments.tsv.gz',\n",
       " 'VIB_hydrop_1.20k': 'preprocessing_out/data/fragments/VIB_hydrop_1.20k.fragments.tsv.gz',\n",
       " 'VIB_hydrop_1.25k': 'preprocessing_out/data/fragments/VIB_hydrop_1.25k.fragments.tsv.gz',\n",
       " 'VIB_hydrop_1.30k': 'preprocessing_out/data/fragments/VIB_hydrop_1.30k.fragments.tsv.gz',\n",
       " 'VIB_hydrop_1.35k': 'preprocessing_out/data/fragments/VIB_hydrop_1.35k.fragments.tsv.gz',\n",
       " 'VIB_hydrop_1.40k': 'preprocessing_out/data/fragments/VIB_hydrop_1.40k.fragments.tsv.gz',\n",
       " 'VIB_hydrop_1.45k': 'preprocessing_out/data/fragments/VIB_hydrop_1.45k.fragments.tsv.gz',\n",
       " 'VIB_hydrop_1.50k': 'preprocessing_out/data/fragments/VIB_hydrop_1.50k.fragments.tsv.gz',\n",
       " 'VIB_hydrop_1.5k': 'preprocessing_out/data/fragments/VIB_hydrop_1.5k.fragments.tsv.gz',\n",
       " 'VIB_hydrop_2.10k': 'preprocessing_out/data/fragments/VIB_hydrop_2.10k.fragments.tsv.gz',\n",
       " 'VIB_hydrop_2.15k': 'preprocessing_out/data/fragments/VIB_hydrop_2.15k.fragments.tsv.gz',\n",
       " 'VIB_hydrop_2.20k': 'preprocessing_out/data/fragments/VIB_hydrop_2.20k.fragments.tsv.gz',\n",
       " 'VIB_hydrop_2.25k': 'preprocessing_out/data/fragments/VIB_hydrop_2.25k.fragments.tsv.gz',\n",
       " 'VIB_hydrop_2.30k': 'preprocessing_out/data/fragments/VIB_hydrop_2.30k.fragments.tsv.gz',\n",
       " 'VIB_hydrop_2.35k': 'preprocessing_out/data/fragments/VIB_hydrop_2.35k.fragments.tsv.gz',\n",
       " 'VIB_hydrop_2.40k': 'preprocessing_out/data/fragments/VIB_hydrop_2.40k.fragments.tsv.gz',\n",
       " 'VIB_hydrop_2.45k': 'preprocessing_out/data/fragments/VIB_hydrop_2.45k.fragments.tsv.gz',\n",
       " 'VIB_hydrop_2.50k': 'preprocessing_out/data/fragments/VIB_hydrop_2.50k.fragments.tsv.gz',\n",
       " 'VIB_hydrop_2.5k': 'preprocessing_out/data/fragments/VIB_hydrop_2.5k.fragments.tsv.gz',\n",
       " 'VIB_hydrop_3.10k': 'preprocessing_out/data/fragments/VIB_hydrop_3.10k.fragments.tsv.gz',\n",
       " 'VIB_hydrop_3.15k': 'preprocessing_out/data/fragments/VIB_hydrop_3.15k.fragments.tsv.gz',\n",
       " 'VIB_hydrop_3.20k': 'preprocessing_out/data/fragments/VIB_hydrop_3.20k.fragments.tsv.gz',\n",
       " 'VIB_hydrop_3.25k': 'preprocessing_out/data/fragments/VIB_hydrop_3.25k.fragments.tsv.gz',\n",
       " 'VIB_hydrop_3.30k': 'preprocessing_out/data/fragments/VIB_hydrop_3.30k.fragments.tsv.gz',\n",
       " 'VIB_hydrop_3.35k': 'preprocessing_out/data/fragments/VIB_hydrop_3.35k.fragments.tsv.gz',\n",
       " 'VIB_hydrop_3.40k': 'preprocessing_out/data/fragments/VIB_hydrop_3.40k.fragments.tsv.gz',\n",
       " 'VIB_hydrop_3.45k': 'preprocessing_out/data/fragments/VIB_hydrop_3.45k.fragments.tsv.gz',\n",
       " 'VIB_hydrop_3.50k': 'preprocessing_out/data/fragments/VIB_hydrop_3.50k.fragments.tsv.gz',\n",
       " 'VIB_hydrop_3.5k': 'preprocessing_out/data/fragments/VIB_hydrop_3.5k.fragments.tsv.gz',\n",
       " 'VIB_hydrop_4.10k': 'preprocessing_out/data/fragments/VIB_hydrop_4.10k.fragments.tsv.gz',\n",
       " 'VIB_hydrop_4.15k': 'preprocessing_out/data/fragments/VIB_hydrop_4.15k.fragments.tsv.gz',\n",
       " 'VIB_hydrop_4.20k': 'preprocessing_out/data/fragments/VIB_hydrop_4.20k.fragments.tsv.gz',\n",
       " 'VIB_hydrop_4.25k': 'preprocessing_out/data/fragments/VIB_hydrop_4.25k.fragments.tsv.gz',\n",
       " 'VIB_hydrop_4.30k': 'preprocessing_out/data/fragments/VIB_hydrop_4.30k.fragments.tsv.gz',\n",
       " 'VIB_hydrop_4.35k': 'preprocessing_out/data/fragments/VIB_hydrop_4.35k.fragments.tsv.gz',\n",
       " 'VIB_hydrop_4.40k': 'preprocessing_out/data/fragments/VIB_hydrop_4.40k.fragments.tsv.gz',\n",
       " 'VIB_hydrop_4.45k': 'preprocessing_out/data/fragments/VIB_hydrop_4.45k.fragments.tsv.gz',\n",
       " 'VIB_hydrop_4.50k': 'preprocessing_out/data/fragments/VIB_hydrop_4.50k.fragments.tsv.gz',\n",
       " 'VIB_hydrop_4.5k': 'preprocessing_out/data/fragments/VIB_hydrop_4.5k.fragments.tsv.gz',\n",
       " 'VIB_hydrop_5.10k': 'preprocessing_out/data/fragments/VIB_hydrop_5.10k.fragments.tsv.gz',\n",
       " 'VIB_hydrop_5.15k': 'preprocessing_out/data/fragments/VIB_hydrop_5.15k.fragments.tsv.gz',\n",
       " 'VIB_hydrop_5.20k': 'preprocessing_out/data/fragments/VIB_hydrop_5.20k.fragments.tsv.gz',\n",
       " 'VIB_hydrop_5.25k': 'preprocessing_out/data/fragments/VIB_hydrop_5.25k.fragments.tsv.gz',\n",
       " 'VIB_hydrop_5.30k': 'preprocessing_out/data/fragments/VIB_hydrop_5.30k.fragments.tsv.gz',\n",
       " 'VIB_hydrop_5.35k': 'preprocessing_out/data/fragments/VIB_hydrop_5.35k.fragments.tsv.gz',\n",
       " 'VIB_hydrop_5.40k': 'preprocessing_out/data/fragments/VIB_hydrop_5.40k.fragments.tsv.gz',\n",
       " 'VIB_hydrop_5.45k': 'preprocessing_out/data/fragments/VIB_hydrop_5.45k.fragments.tsv.gz',\n",
       " 'VIB_hydrop_5.50k': 'preprocessing_out/data/fragments/VIB_hydrop_5.50k.fragments.tsv.gz',\n",
       " 'VIB_hydrop_5.5k': 'preprocessing_out/data/fragments/VIB_hydrop_5.5k.fragments.tsv.gz'}"
      ]
     },
     "execution_count": 5,
     "metadata": {},
     "output_type": "execute_result"
    }
   ],
   "source": [
    "fragments_list = sorted(\n",
    "    glob.glob(f\"preprocessing_out/data/fragments/*fragments.tsv.gz\")\n",
    ")\n",
    "fragments_dict = {}\n",
    "for fragments_file in fragments_list:\n",
    "    sample = fragments_file.split(\"/\")[-1].split(\".fragments.tsv.gz\")[0]\n",
    "    fragments_dict[sample] = fragments_file\n",
    "\n",
    "fragments_dict"
   ]
  },
  {
   "cell_type": "code",
   "execution_count": 6,
   "id": "7d35f0bf",
   "metadata": {
    "execution": {
     "iopub.execute_input": "2022-11-16T17:48:47.321460Z",
     "iopub.status.busy": "2022-11-16T17:48:47.321034Z",
     "iopub.status.idle": "2022-11-16T17:48:47.329025Z",
     "shell.execute_reply": "2022-11-16T17:48:47.328596Z",
     "shell.execute_reply.started": "2022-11-16T17:46:29.526032Z"
    },
    "papermill": {
     "duration": 0.029488,
     "end_time": "2022-11-16T17:48:47.329124",
     "exception": false,
     "start_time": "2022-11-16T17:48:47.299636",
     "status": "completed"
    },
    "tags": []
   },
   "outputs": [
    {
     "data": {
      "text/plain": [
       "{'BIO_ddseq_m1c1': '../public_3_cistopic_qc/final_consensus_peaks/BIO_ddseq_m1c1.FULL__SCREEN_consensus_peaks.bed',\n",
       " 'BIO_ddseq_m1c2': '../public_3_cistopic_qc/final_consensus_peaks/BIO_ddseq_m1c2.FULL__SCREEN_consensus_peaks.bed',\n",
       " 'BIO_ddseq_m1c3': '../public_3_cistopic_qc/final_consensus_peaks/BIO_ddseq_m1c3.FULL__SCREEN_consensus_peaks.bed',\n",
       " 'BIO_ddseq_m1c4': '../public_3_cistopic_qc/final_consensus_peaks/BIO_ddseq_m1c4.FULL__SCREEN_consensus_peaks.bed',\n",
       " 'BIO_ddseq_m1c5': '../public_3_cistopic_qc/final_consensus_peaks/BIO_ddseq_m1c5.FULL__SCREEN_consensus_peaks.bed',\n",
       " 'BIO_ddseq_m1c6': '../public_3_cistopic_qc/final_consensus_peaks/BIO_ddseq_m1c6.FULL__SCREEN_consensus_peaks.bed',\n",
       " 'BIO_ddseq_m1c7': '../public_3_cistopic_qc/final_consensus_peaks/BIO_ddseq_m1c7.FULL__SCREEN_consensus_peaks.bed',\n",
       " 'BIO_ddseq_m1c8': '../public_3_cistopic_qc/final_consensus_peaks/BIO_ddseq_m1c8.FULL__SCREEN_consensus_peaks.bed',\n",
       " 'BIO_ddseq_m2c1': '../public_3_cistopic_qc/final_consensus_peaks/BIO_ddseq_m2c1.FULL__SCREEN_consensus_peaks.bed',\n",
       " 'BIO_ddseq_m2c2': '../public_3_cistopic_qc/final_consensus_peaks/BIO_ddseq_m2c2.FULL__SCREEN_consensus_peaks.bed',\n",
       " 'BIO_ddseq_m2c3': '../public_3_cistopic_qc/final_consensus_peaks/BIO_ddseq_m2c3.FULL__SCREEN_consensus_peaks.bed',\n",
       " 'BIO_ddseq_m2c4': '../public_3_cistopic_qc/final_consensus_peaks/BIO_ddseq_m2c4.FULL__SCREEN_consensus_peaks.bed',\n",
       " 'OHS_s3atac_mouse': '../public_3_cistopic_qc/final_consensus_peaks/OHS_s3atac_mouse.FULL__SCREEN_consensus_peaks.bed',\n",
       " 'TXG_10xmultiome_e18mousebrainfresh': '../public_3_cistopic_qc/final_consensus_peaks/TXG_10xmultiome_e18mousebrainfresh.FULL__SCREEN_consensus_peaks.bed',\n",
       " 'TXG_10xv11_adultmousecortexchromiumx': '../public_3_cistopic_qc/final_consensus_peaks/TXG_10xv11_adultmousecortexchromiumx.FULL__SCREEN_consensus_peaks.bed',\n",
       " 'TXG_10xv1_adultmousefresh': '../public_3_cistopic_qc/final_consensus_peaks/TXG_10xv1_adultmousefresh.FULL__SCREEN_consensus_peaks.bed',\n",
       " 'TXG_10xv2_adultmousecortex': '../public_3_cistopic_qc/final_consensus_peaks/TXG_10xv2_adultmousecortex.FULL__SCREEN_consensus_peaks.bed',\n",
       " 'TXG_10xv2_adultmousecortexchromiumx': '../public_3_cistopic_qc/final_consensus_peaks/TXG_10xv2_adultmousecortexchromiumx.FULL__SCREEN_consensus_peaks.bed',\n",
       " 'VIB_hydrop_1': '../public_3_cistopic_qc/final_consensus_peaks/VIB_hydrop_1.FULL__SCREEN_consensus_peaks.bed',\n",
       " 'VIB_hydrop_2': '../public_3_cistopic_qc/final_consensus_peaks/VIB_hydrop_2.FULL__SCREEN_consensus_peaks.bed',\n",
       " 'VIB_hydrop_3': '../public_3_cistopic_qc/final_consensus_peaks/VIB_hydrop_3.FULL__SCREEN_consensus_peaks.bed',\n",
       " 'VIB_hydrop_4': '../public_3_cistopic_qc/final_consensus_peaks/VIB_hydrop_4.FULL__SCREEN_consensus_peaks.bed',\n",
       " 'VIB_hydrop_5': '../public_3_cistopic_qc/final_consensus_peaks/VIB_hydrop_5.FULL__SCREEN_consensus_peaks.bed'}"
      ]
     },
     "execution_count": 6,
     "metadata": {},
     "output_type": "execute_result"
    }
   ],
   "source": [
    "regions_paths_dict = {\n",
    "    x.split(\"/\")[-1].split(f\"__\")[0].replace(\".FULL\", \"\"): x\n",
    "    for x in sorted(glob.glob(\"../public_3_cistopic_qc/final_consensus_peaks/*.bed\"))\n",
    "}\n",
    "regions_paths_dict"
   ]
  },
  {
   "cell_type": "code",
   "execution_count": 7,
   "id": "70450d73",
   "metadata": {
    "execution": {
     "iopub.execute_input": "2022-11-16T17:48:47.360850Z",
     "iopub.status.busy": "2022-11-16T17:48:47.360461Z",
     "iopub.status.idle": "2022-11-16T17:48:47.363878Z",
     "shell.execute_reply": "2022-11-16T17:48:47.363464Z",
     "shell.execute_reply.started": "2022-11-16T17:46:29.527225Z"
    },
    "papermill": {
     "duration": 0.024755,
     "end_time": "2022-11-16T17:48:47.363984",
     "exception": false,
     "start_time": "2022-11-16T17:48:47.339229",
     "status": "completed"
    },
    "tags": []
   },
   "outputs": [],
   "source": [
    "regions_paths_dict = {x: regions_paths_dict[x.split(\".\")[0]] for x in fragments_dict}"
   ]
  },
  {
   "cell_type": "markdown",
   "id": "56c68f32",
   "metadata": {
    "papermill": {
     "duration": 0.025571,
     "end_time": "2022-11-16T17:48:47.401328",
     "exception": false,
     "start_time": "2022-11-16T17:48:47.375757",
     "status": "completed"
    },
    "tags": []
   },
   "source": [
    "Now, make a sub dictionary of all samples within the fragments dict that have not been run yet (good for resuming a stopped cistopic run):"
   ]
  },
  {
   "cell_type": "code",
   "execution_count": 8,
   "id": "9d170c1c",
   "metadata": {
    "execution": {
     "iopub.execute_input": "2022-11-16T17:48:47.442015Z",
     "iopub.status.busy": "2022-11-16T17:48:47.441612Z",
     "iopub.status.idle": "2022-11-16T17:48:47.459899Z",
     "shell.execute_reply": "2022-11-16T17:48:47.460972Z",
     "shell.execute_reply.started": "2022-11-16T17:46:29.528425Z"
    },
    "papermill": {
     "duration": 0.048366,
     "end_time": "2022-11-16T17:48:47.461296",
     "exception": false,
     "start_time": "2022-11-16T17:48:47.412930",
     "status": "completed"
    },
    "tags": []
   },
   "outputs": [
    {
     "name": "stdout",
     "output_type": "stream",
     "text": [
      "Checking if cistopic_qc_out/BIO_ddseq_m1c1.10k__metadata_bc.pkl exist...\n",
      "\tMetadata exists! Skipping...\n",
      "Checking if cistopic_qc_out/BIO_ddseq_m1c1.15k__metadata_bc.pkl exist...\n",
      "\tMetadata exists! Skipping...\n",
      "Checking if cistopic_qc_out/BIO_ddseq_m1c1.20k__metadata_bc.pkl exist...\n",
      "\tMetadata does not exist, adding to subdict to generate\n",
      "Checking if cistopic_qc_out/BIO_ddseq_m1c1.5k__metadata_bc.pkl exist...\n",
      "\tMetadata exists! Skipping...\n",
      "Checking if cistopic_qc_out/BIO_ddseq_m1c2.10k__metadata_bc.pkl exist...\n",
      "\tMetadata exists! Skipping...\n",
      "Checking if cistopic_qc_out/BIO_ddseq_m1c2.15k__metadata_bc.pkl exist...\n",
      "\tMetadata exists! Skipping...\n",
      "Checking if cistopic_qc_out/BIO_ddseq_m1c2.20k__metadata_bc.pkl exist...\n",
      "\tMetadata exists! Skipping...\n",
      "Checking if cistopic_qc_out/BIO_ddseq_m1c2.25k__metadata_bc.pkl exist...\n",
      "\tMetadata exists! Skipping...\n",
      "Checking if cistopic_qc_out/BIO_ddseq_m1c2.30k__metadata_bc.pkl exist...\n",
      "\tMetadata exists! Skipping...\n",
      "Checking if cistopic_qc_out/BIO_ddseq_m1c2.5k__metadata_bc.pkl exist...\n",
      "\tMetadata exists! Skipping...\n",
      "Checking if cistopic_qc_out/BIO_ddseq_m1c3.10k__metadata_bc.pkl exist...\n",
      "\tMetadata exists! Skipping...\n",
      "Checking if cistopic_qc_out/BIO_ddseq_m1c3.15k__metadata_bc.pkl exist...\n",
      "\tMetadata exists! Skipping...\n",
      "Checking if cistopic_qc_out/BIO_ddseq_m1c3.20k__metadata_bc.pkl exist...\n",
      "\tMetadata exists! Skipping...\n",
      "Checking if cistopic_qc_out/BIO_ddseq_m1c3.25k__metadata_bc.pkl exist...\n",
      "\tMetadata exists! Skipping...\n",
      "Checking if cistopic_qc_out/BIO_ddseq_m1c3.30k__metadata_bc.pkl exist...\n",
      "\tMetadata exists! Skipping...\n",
      "Checking if cistopic_qc_out/BIO_ddseq_m1c3.5k__metadata_bc.pkl exist...\n",
      "\tMetadata exists! Skipping...\n",
      "Checking if cistopic_qc_out/BIO_ddseq_m1c4.10k__metadata_bc.pkl exist...\n",
      "\tMetadata exists! Skipping...\n",
      "Checking if cistopic_qc_out/BIO_ddseq_m1c4.15k__metadata_bc.pkl exist...\n",
      "\tMetadata exists! Skipping...\n",
      "Checking if cistopic_qc_out/BIO_ddseq_m1c4.20k__metadata_bc.pkl exist...\n",
      "\tMetadata exists! Skipping...\n",
      "Checking if cistopic_qc_out/BIO_ddseq_m1c4.25k__metadata_bc.pkl exist...\n",
      "\tMetadata exists! Skipping...\n",
      "Checking if cistopic_qc_out/BIO_ddseq_m1c4.30k__metadata_bc.pkl exist...\n",
      "\tMetadata exists! Skipping...\n",
      "Checking if cistopic_qc_out/BIO_ddseq_m1c4.5k__metadata_bc.pkl exist...\n",
      "\tMetadata exists! Skipping...\n",
      "Checking if cistopic_qc_out/BIO_ddseq_m1c5.10k__metadata_bc.pkl exist...\n",
      "\tMetadata exists! Skipping...\n",
      "Checking if cistopic_qc_out/BIO_ddseq_m1c5.15k__metadata_bc.pkl exist...\n",
      "\tMetadata exists! Skipping...\n",
      "Checking if cistopic_qc_out/BIO_ddseq_m1c5.20k__metadata_bc.pkl exist...\n",
      "\tMetadata exists! Skipping...\n",
      "Checking if cistopic_qc_out/BIO_ddseq_m1c5.25k__metadata_bc.pkl exist...\n",
      "\tMetadata exists! Skipping...\n",
      "Checking if cistopic_qc_out/BIO_ddseq_m1c5.30k__metadata_bc.pkl exist...\n",
      "\tMetadata exists! Skipping...\n",
      "Checking if cistopic_qc_out/BIO_ddseq_m1c5.35k__metadata_bc.pkl exist...\n",
      "\tMetadata exists! Skipping...\n",
      "Checking if cistopic_qc_out/BIO_ddseq_m1c5.40k__metadata_bc.pkl exist...\n",
      "\tMetadata exists! Skipping...\n",
      "Checking if cistopic_qc_out/BIO_ddseq_m1c5.5k__metadata_bc.pkl exist...\n",
      "\tMetadata exists! Skipping...\n",
      "Checking if cistopic_qc_out/BIO_ddseq_m1c6.10k__metadata_bc.pkl exist...\n",
      "\tMetadata exists! Skipping...\n",
      "Checking if cistopic_qc_out/BIO_ddseq_m1c6.15k__metadata_bc.pkl exist...\n",
      "\tMetadata exists! Skipping...\n",
      "Checking if cistopic_qc_out/BIO_ddseq_m1c6.20k__metadata_bc.pkl exist...\n",
      "\tMetadata exists! Skipping...\n",
      "Checking if cistopic_qc_out/BIO_ddseq_m1c6.25k__metadata_bc.pkl exist...\n",
      "\tMetadata exists! Skipping...\n",
      "Checking if cistopic_qc_out/BIO_ddseq_m1c6.5k__metadata_bc.pkl exist...\n",
      "\tMetadata exists! Skipping...\n",
      "Checking if cistopic_qc_out/BIO_ddseq_m1c7.10k__metadata_bc.pkl exist...\n",
      "\tMetadata exists! Skipping...\n",
      "Checking if cistopic_qc_out/BIO_ddseq_m1c7.15k__metadata_bc.pkl exist...\n",
      "\tMetadata exists! Skipping...\n",
      "Checking if cistopic_qc_out/BIO_ddseq_m1c7.20k__metadata_bc.pkl exist...\n",
      "\tMetadata exists! Skipping...\n",
      "Checking if cistopic_qc_out/BIO_ddseq_m1c7.25k__metadata_bc.pkl exist...\n",
      "\tMetadata exists! Skipping...\n",
      "Checking if cistopic_qc_out/BIO_ddseq_m1c7.5k__metadata_bc.pkl exist...\n",
      "\tMetadata exists! Skipping...\n",
      "Checking if cistopic_qc_out/BIO_ddseq_m1c8.10k__metadata_bc.pkl exist...\n",
      "\tMetadata exists! Skipping...\n",
      "Checking if cistopic_qc_out/BIO_ddseq_m1c8.15k__metadata_bc.pkl exist...\n",
      "\tMetadata exists! Skipping...\n",
      "Checking if cistopic_qc_out/BIO_ddseq_m1c8.20k__metadata_bc.pkl exist...\n",
      "\tMetadata exists! Skipping...\n",
      "Checking if cistopic_qc_out/BIO_ddseq_m1c8.25k__metadata_bc.pkl exist...\n",
      "\tMetadata exists! Skipping...\n",
      "Checking if cistopic_qc_out/BIO_ddseq_m1c8.30k__metadata_bc.pkl exist...\n",
      "\tMetadata exists! Skipping...\n",
      "Checking if cistopic_qc_out/BIO_ddseq_m1c8.35k__metadata_bc.pkl exist...\n",
      "\tMetadata exists! Skipping...\n",
      "Checking if cistopic_qc_out/BIO_ddseq_m1c8.5k__metadata_bc.pkl exist...\n",
      "\tMetadata exists! Skipping...\n",
      "Checking if cistopic_qc_out/BIO_ddseq_m2c1.10k__metadata_bc.pkl exist...\n",
      "\tMetadata exists! Skipping...\n",
      "Checking if cistopic_qc_out/BIO_ddseq_m2c1.15k__metadata_bc.pkl exist...\n",
      "\tMetadata exists! Skipping...\n",
      "Checking if cistopic_qc_out/BIO_ddseq_m2c1.20k__metadata_bc.pkl exist...\n",
      "\tMetadata exists! Skipping...\n",
      "Checking if cistopic_qc_out/BIO_ddseq_m2c1.25k__metadata_bc.pkl exist...\n",
      "\tMetadata exists! Skipping...\n",
      "Checking if cistopic_qc_out/BIO_ddseq_m2c1.30k__metadata_bc.pkl exist...\n",
      "\tMetadata exists! Skipping...\n",
      "Checking if cistopic_qc_out/BIO_ddseq_m2c1.35k__metadata_bc.pkl exist...\n",
      "\tMetadata exists! Skipping...\n",
      "Checking if cistopic_qc_out/BIO_ddseq_m2c1.40k__metadata_bc.pkl exist...\n",
      "\tMetadata exists! Skipping...\n",
      "Checking if cistopic_qc_out/BIO_ddseq_m2c1.45k__metadata_bc.pkl exist...\n",
      "\tMetadata exists! Skipping...\n",
      "Checking if cistopic_qc_out/BIO_ddseq_m2c1.50k__metadata_bc.pkl exist...\n",
      "\tMetadata exists! Skipping...\n",
      "Checking if cistopic_qc_out/BIO_ddseq_m2c1.5k__metadata_bc.pkl exist...\n",
      "\tMetadata exists! Skipping...\n",
      "Checking if cistopic_qc_out/BIO_ddseq_m2c2.10k__metadata_bc.pkl exist...\n",
      "\tMetadata exists! Skipping...\n",
      "Checking if cistopic_qc_out/BIO_ddseq_m2c2.15k__metadata_bc.pkl exist...\n",
      "\tMetadata exists! Skipping...\n",
      "Checking if cistopic_qc_out/BIO_ddseq_m2c2.20k__metadata_bc.pkl exist...\n",
      "\tMetadata exists! Skipping...\n",
      "Checking if cistopic_qc_out/BIO_ddseq_m2c2.25k__metadata_bc.pkl exist...\n",
      "\tMetadata exists! Skipping...\n",
      "Checking if cistopic_qc_out/BIO_ddseq_m2c2.30k__metadata_bc.pkl exist...\n",
      "\tMetadata exists! Skipping...\n",
      "Checking if cistopic_qc_out/BIO_ddseq_m2c2.35k__metadata_bc.pkl exist...\n",
      "\tMetadata exists! Skipping...\n",
      "Checking if cistopic_qc_out/BIO_ddseq_m2c2.40k__metadata_bc.pkl exist...\n",
      "\tMetadata exists! Skipping...\n",
      "Checking if cistopic_qc_out/BIO_ddseq_m2c2.5k__metadata_bc.pkl exist...\n",
      "\tMetadata exists! Skipping...\n",
      "Checking if cistopic_qc_out/BIO_ddseq_m2c3.10k__metadata_bc.pkl exist...\n",
      "\tMetadata exists! Skipping...\n",
      "Checking if cistopic_qc_out/BIO_ddseq_m2c3.15k__metadata_bc.pkl exist...\n",
      "\tMetadata exists! Skipping...\n",
      "Checking if cistopic_qc_out/BIO_ddseq_m2c3.20k__metadata_bc.pkl exist...\n",
      "\tMetadata exists! Skipping...\n",
      "Checking if cistopic_qc_out/BIO_ddseq_m2c3.25k__metadata_bc.pkl exist...\n",
      "\tMetadata exists! Skipping...\n",
      "Checking if cistopic_qc_out/BIO_ddseq_m2c3.30k__metadata_bc.pkl exist...\n",
      "\tMetadata exists! Skipping...\n",
      "Checking if cistopic_qc_out/BIO_ddseq_m2c3.35k__metadata_bc.pkl exist...\n",
      "\tMetadata exists! Skipping...\n",
      "Checking if cistopic_qc_out/BIO_ddseq_m2c3.40k__metadata_bc.pkl exist...\n",
      "\tMetadata exists! Skipping...\n",
      "Checking if cistopic_qc_out/BIO_ddseq_m2c3.45k__metadata_bc.pkl exist...\n",
      "\tMetadata exists! Skipping...\n",
      "Checking if cistopic_qc_out/BIO_ddseq_m2c3.50k__metadata_bc.pkl exist...\n",
      "\tMetadata exists! Skipping...\n",
      "Checking if cistopic_qc_out/BIO_ddseq_m2c3.5k__metadata_bc.pkl exist...\n",
      "\tMetadata exists! Skipping...\n",
      "Checking if cistopic_qc_out/BIO_ddseq_m2c4.10k__metadata_bc.pkl exist...\n",
      "\tMetadata exists! Skipping...\n",
      "Checking if cistopic_qc_out/BIO_ddseq_m2c4.15k__metadata_bc.pkl exist...\n",
      "\tMetadata exists! Skipping...\n",
      "Checking if cistopic_qc_out/BIO_ddseq_m2c4.20k__metadata_bc.pkl exist...\n",
      "\tMetadata exists! Skipping...\n",
      "Checking if cistopic_qc_out/BIO_ddseq_m2c4.25k__metadata_bc.pkl exist...\n",
      "\tMetadata exists! Skipping...\n",
      "Checking if cistopic_qc_out/BIO_ddseq_m2c4.30k__metadata_bc.pkl exist...\n",
      "\tMetadata exists! Skipping...\n",
      "Checking if cistopic_qc_out/BIO_ddseq_m2c4.35k__metadata_bc.pkl exist...\n",
      "\tMetadata exists! Skipping...\n",
      "Checking if cistopic_qc_out/BIO_ddseq_m2c4.40k__metadata_bc.pkl exist...\n",
      "\tMetadata exists! Skipping...\n",
      "Checking if cistopic_qc_out/BIO_ddseq_m2c4.45k__metadata_bc.pkl exist...\n",
      "\tMetadata exists! Skipping...\n",
      "Checking if cistopic_qc_out/BIO_ddseq_m2c4.50k__metadata_bc.pkl exist...\n",
      "\tMetadata exists! Skipping...\n",
      "Checking if cistopic_qc_out/BIO_ddseq_m2c4.5k__metadata_bc.pkl exist...\n",
      "\tMetadata exists! Skipping...\n",
      "Checking if cistopic_qc_out/OHS_s3atac_mouse.10k__metadata_bc.pkl exist...\n",
      "\tMetadata exists! Skipping...\n",
      "Checking if cistopic_qc_out/OHS_s3atac_mouse.15k__metadata_bc.pkl exist...\n",
      "\tMetadata exists! Skipping...\n",
      "Checking if cistopic_qc_out/OHS_s3atac_mouse.20k__metadata_bc.pkl exist...\n",
      "\tMetadata exists! Skipping...\n",
      "Checking if cistopic_qc_out/OHS_s3atac_mouse.25k__metadata_bc.pkl exist...\n",
      "\tMetadata exists! Skipping...\n",
      "Checking if cistopic_qc_out/OHS_s3atac_mouse.30k__metadata_bc.pkl exist...\n",
      "\tMetadata exists! Skipping...\n",
      "Checking if cistopic_qc_out/OHS_s3atac_mouse.35k__metadata_bc.pkl exist...\n",
      "\tMetadata exists! Skipping...\n",
      "Checking if cistopic_qc_out/OHS_s3atac_mouse.40k__metadata_bc.pkl exist...\n",
      "\tMetadata exists! Skipping...\n",
      "Checking if cistopic_qc_out/OHS_s3atac_mouse.45k__metadata_bc.pkl exist...\n",
      "\tMetadata exists! Skipping...\n",
      "Checking if cistopic_qc_out/OHS_s3atac_mouse.50k__metadata_bc.pkl exist...\n",
      "\tMetadata exists! Skipping...\n",
      "Checking if cistopic_qc_out/OHS_s3atac_mouse.5k__metadata_bc.pkl exist...\n",
      "\tMetadata exists! Skipping...\n",
      "Checking if cistopic_qc_out/TXG_10xmultiome_e18mousebrainfresh.10k__metadata_bc.pkl exist...\n",
      "\tMetadata exists! Skipping...\n",
      "Checking if cistopic_qc_out/TXG_10xmultiome_e18mousebrainfresh.15k__metadata_bc.pkl exist...\n",
      "\tMetadata exists! Skipping...\n",
      "Checking if cistopic_qc_out/TXG_10xmultiome_e18mousebrainfresh.20k__metadata_bc.pkl exist...\n",
      "\tMetadata exists! Skipping...\n",
      "Checking if cistopic_qc_out/TXG_10xmultiome_e18mousebrainfresh.25k__metadata_bc.pkl exist...\n",
      "\tMetadata exists! Skipping...\n",
      "Checking if cistopic_qc_out/TXG_10xmultiome_e18mousebrainfresh.30k__metadata_bc.pkl exist...\n",
      "\tMetadata exists! Skipping...\n",
      "Checking if cistopic_qc_out/TXG_10xmultiome_e18mousebrainfresh.35k__metadata_bc.pkl exist...\n",
      "\tMetadata exists! Skipping...\n",
      "Checking if cistopic_qc_out/TXG_10xmultiome_e18mousebrainfresh.40k__metadata_bc.pkl exist...\n",
      "\tMetadata exists! Skipping...\n",
      "Checking if cistopic_qc_out/TXG_10xmultiome_e18mousebrainfresh.5k__metadata_bc.pkl exist...\n",
      "\tMetadata exists! Skipping...\n",
      "Checking if cistopic_qc_out/TXG_10xv11_adultmousecortexchromiumx.10k__metadata_bc.pkl exist...\n",
      "\tMetadata exists! Skipping...\n",
      "Checking if cistopic_qc_out/TXG_10xv11_adultmousecortexchromiumx.15k__metadata_bc.pkl exist...\n",
      "\tMetadata exists! Skipping...\n",
      "Checking if cistopic_qc_out/TXG_10xv11_adultmousecortexchromiumx.20k__metadata_bc.pkl exist...\n",
      "\tMetadata exists! Skipping...\n",
      "Checking if cistopic_qc_out/TXG_10xv11_adultmousecortexchromiumx.25k__metadata_bc.pkl exist...\n",
      "\tMetadata exists! Skipping...\n",
      "Checking if cistopic_qc_out/TXG_10xv11_adultmousecortexchromiumx.30k__metadata_bc.pkl exist...\n",
      "\tMetadata exists! Skipping...\n",
      "Checking if cistopic_qc_out/TXG_10xv11_adultmousecortexchromiumx.35k__metadata_bc.pkl exist...\n",
      "\tMetadata exists! Skipping...\n",
      "Checking if cistopic_qc_out/TXG_10xv11_adultmousecortexchromiumx.40k__metadata_bc.pkl exist...\n",
      "\tMetadata exists! Skipping...\n",
      "Checking if cistopic_qc_out/TXG_10xv11_adultmousecortexchromiumx.45k__metadata_bc.pkl exist...\n",
      "\tMetadata exists! Skipping...\n",
      "Checking if cistopic_qc_out/TXG_10xv11_adultmousecortexchromiumx.50k__metadata_bc.pkl exist...\n",
      "\tMetadata exists! Skipping...\n",
      "Checking if cistopic_qc_out/TXG_10xv11_adultmousecortexchromiumx.5k__metadata_bc.pkl exist...\n",
      "\tMetadata exists! Skipping...\n",
      "Checking if cistopic_qc_out/TXG_10xv1_adultmousefresh.10k__metadata_bc.pkl exist...\n",
      "\tMetadata exists! Skipping...\n",
      "Checking if cistopic_qc_out/TXG_10xv1_adultmousefresh.15k__metadata_bc.pkl exist...\n",
      "\tMetadata exists! Skipping...\n",
      "Checking if cistopic_qc_out/TXG_10xv1_adultmousefresh.20k__metadata_bc.pkl exist...\n",
      "\tMetadata exists! Skipping...\n",
      "Checking if cistopic_qc_out/TXG_10xv1_adultmousefresh.25k__metadata_bc.pkl exist...\n",
      "\tMetadata exists! Skipping...\n",
      "Checking if cistopic_qc_out/TXG_10xv1_adultmousefresh.30k__metadata_bc.pkl exist...\n",
      "\tMetadata exists! Skipping...\n",
      "Checking if cistopic_qc_out/TXG_10xv1_adultmousefresh.35k__metadata_bc.pkl exist...\n",
      "\tMetadata exists! Skipping...\n",
      "Checking if cistopic_qc_out/TXG_10xv1_adultmousefresh.40k__metadata_bc.pkl exist...\n",
      "\tMetadata exists! Skipping...\n",
      "Checking if cistopic_qc_out/TXG_10xv1_adultmousefresh.45k__metadata_bc.pkl exist...\n",
      "\tMetadata exists! Skipping...\n",
      "Checking if cistopic_qc_out/TXG_10xv1_adultmousefresh.50k__metadata_bc.pkl exist...\n",
      "\tMetadata exists! Skipping...\n",
      "Checking if cistopic_qc_out/TXG_10xv1_adultmousefresh.5k__metadata_bc.pkl exist...\n",
      "\tMetadata exists! Skipping...\n",
      "Checking if cistopic_qc_out/TXG_10xv2_adultmousecortex.10k__metadata_bc.pkl exist...\n",
      "\tMetadata exists! Skipping...\n",
      "Checking if cistopic_qc_out/TXG_10xv2_adultmousecortex.15k__metadata_bc.pkl exist...\n",
      "\tMetadata exists! Skipping...\n",
      "Checking if cistopic_qc_out/TXG_10xv2_adultmousecortex.20k__metadata_bc.pkl exist...\n",
      "\tMetadata exists! Skipping...\n",
      "Checking if cistopic_qc_out/TXG_10xv2_adultmousecortex.25k__metadata_bc.pkl exist...\n",
      "\tMetadata exists! Skipping...\n",
      "Checking if cistopic_qc_out/TXG_10xv2_adultmousecortex.30k__metadata_bc.pkl exist...\n",
      "\tMetadata exists! Skipping...\n",
      "Checking if cistopic_qc_out/TXG_10xv2_adultmousecortex.35k__metadata_bc.pkl exist...\n",
      "\tMetadata exists! Skipping...\n",
      "Checking if cistopic_qc_out/TXG_10xv2_adultmousecortex.40k__metadata_bc.pkl exist...\n",
      "\tMetadata exists! Skipping...\n",
      "Checking if cistopic_qc_out/TXG_10xv2_adultmousecortex.45k__metadata_bc.pkl exist...\n",
      "\tMetadata exists! Skipping...\n",
      "Checking if cistopic_qc_out/TXG_10xv2_adultmousecortex.50k__metadata_bc.pkl exist...\n",
      "\tMetadata does not exist, adding to subdict to generate\n",
      "Checking if cistopic_qc_out/TXG_10xv2_adultmousecortex.5k__metadata_bc.pkl exist...\n",
      "\tMetadata exists! Skipping...\n",
      "Checking if cistopic_qc_out/TXG_10xv2_adultmousecortexchromiumx.10k__metadata_bc.pkl exist...\n",
      "\tMetadata exists! Skipping...\n",
      "Checking if cistopic_qc_out/TXG_10xv2_adultmousecortexchromiumx.15k__metadata_bc.pkl exist...\n",
      "\tMetadata exists! Skipping...\n",
      "Checking if cistopic_qc_out/TXG_10xv2_adultmousecortexchromiumx.20k__metadata_bc.pkl exist...\n",
      "\tMetadata exists! Skipping...\n",
      "Checking if cistopic_qc_out/TXG_10xv2_adultmousecortexchromiumx.25k__metadata_bc.pkl exist...\n",
      "\tMetadata exists! Skipping...\n",
      "Checking if cistopic_qc_out/TXG_10xv2_adultmousecortexchromiumx.30k__metadata_bc.pkl exist...\n",
      "\tMetadata exists! Skipping...\n",
      "Checking if cistopic_qc_out/TXG_10xv2_adultmousecortexchromiumx.35k__metadata_bc.pkl exist...\n",
      "\tMetadata exists! Skipping...\n",
      "Checking if cistopic_qc_out/TXG_10xv2_adultmousecortexchromiumx.40k__metadata_bc.pkl exist...\n",
      "\tMetadata exists! Skipping...\n",
      "Checking if cistopic_qc_out/TXG_10xv2_adultmousecortexchromiumx.45k__metadata_bc.pkl exist...\n",
      "\tMetadata exists! Skipping...\n",
      "Checking if cistopic_qc_out/TXG_10xv2_adultmousecortexchromiumx.50k__metadata_bc.pkl exist...\n",
      "\tMetadata does not exist, adding to subdict to generate\n",
      "Checking if cistopic_qc_out/TXG_10xv2_adultmousecortexchromiumx.5k__metadata_bc.pkl exist...\n",
      "\tMetadata exists! Skipping...\n",
      "Checking if cistopic_qc_out/VIB_hydrop_1.10k__metadata_bc.pkl exist...\n",
      "\tMetadata exists! Skipping...\n",
      "Checking if cistopic_qc_out/VIB_hydrop_1.15k__metadata_bc.pkl exist...\n",
      "\tMetadata exists! Skipping...\n",
      "Checking if cistopic_qc_out/VIB_hydrop_1.20k__metadata_bc.pkl exist...\n",
      "\tMetadata exists! Skipping...\n",
      "Checking if cistopic_qc_out/VIB_hydrop_1.25k__metadata_bc.pkl exist...\n",
      "\tMetadata exists! Skipping...\n",
      "Checking if cistopic_qc_out/VIB_hydrop_1.30k__metadata_bc.pkl exist...\n",
      "\tMetadata exists! Skipping...\n",
      "Checking if cistopic_qc_out/VIB_hydrop_1.35k__metadata_bc.pkl exist...\n",
      "\tMetadata exists! Skipping...\n",
      "Checking if cistopic_qc_out/VIB_hydrop_1.40k__metadata_bc.pkl exist...\n",
      "\tMetadata exists! Skipping...\n",
      "Checking if cistopic_qc_out/VIB_hydrop_1.45k__metadata_bc.pkl exist...\n",
      "\tMetadata exists! Skipping...\n",
      "Checking if cistopic_qc_out/VIB_hydrop_1.50k__metadata_bc.pkl exist...\n",
      "\tMetadata exists! Skipping...\n",
      "Checking if cistopic_qc_out/VIB_hydrop_1.5k__metadata_bc.pkl exist...\n",
      "\tMetadata exists! Skipping...\n",
      "Checking if cistopic_qc_out/VIB_hydrop_2.10k__metadata_bc.pkl exist...\n",
      "\tMetadata exists! Skipping...\n",
      "Checking if cistopic_qc_out/VIB_hydrop_2.15k__metadata_bc.pkl exist...\n",
      "\tMetadata exists! Skipping...\n",
      "Checking if cistopic_qc_out/VIB_hydrop_2.20k__metadata_bc.pkl exist...\n",
      "\tMetadata exists! Skipping...\n",
      "Checking if cistopic_qc_out/VIB_hydrop_2.25k__metadata_bc.pkl exist...\n",
      "\tMetadata exists! Skipping...\n",
      "Checking if cistopic_qc_out/VIB_hydrop_2.30k__metadata_bc.pkl exist...\n",
      "\tMetadata exists! Skipping...\n",
      "Checking if cistopic_qc_out/VIB_hydrop_2.35k__metadata_bc.pkl exist...\n",
      "\tMetadata exists! Skipping...\n",
      "Checking if cistopic_qc_out/VIB_hydrop_2.40k__metadata_bc.pkl exist...\n",
      "\tMetadata exists! Skipping...\n",
      "Checking if cistopic_qc_out/VIB_hydrop_2.45k__metadata_bc.pkl exist...\n",
      "\tMetadata exists! Skipping...\n",
      "Checking if cistopic_qc_out/VIB_hydrop_2.50k__metadata_bc.pkl exist...\n",
      "\tMetadata exists! Skipping...\n",
      "Checking if cistopic_qc_out/VIB_hydrop_2.5k__metadata_bc.pkl exist...\n",
      "\tMetadata exists! Skipping...\n",
      "Checking if cistopic_qc_out/VIB_hydrop_3.10k__metadata_bc.pkl exist...\n",
      "\tMetadata exists! Skipping...\n",
      "Checking if cistopic_qc_out/VIB_hydrop_3.15k__metadata_bc.pkl exist...\n",
      "\tMetadata exists! Skipping...\n",
      "Checking if cistopic_qc_out/VIB_hydrop_3.20k__metadata_bc.pkl exist...\n",
      "\tMetadata exists! Skipping...\n",
      "Checking if cistopic_qc_out/VIB_hydrop_3.25k__metadata_bc.pkl exist...\n",
      "\tMetadata exists! Skipping...\n",
      "Checking if cistopic_qc_out/VIB_hydrop_3.30k__metadata_bc.pkl exist...\n",
      "\tMetadata exists! Skipping...\n",
      "Checking if cistopic_qc_out/VIB_hydrop_3.35k__metadata_bc.pkl exist...\n",
      "\tMetadata exists! Skipping...\n",
      "Checking if cistopic_qc_out/VIB_hydrop_3.40k__metadata_bc.pkl exist...\n",
      "\tMetadata exists! Skipping...\n",
      "Checking if cistopic_qc_out/VIB_hydrop_3.45k__metadata_bc.pkl exist...\n",
      "\tMetadata exists! Skipping...\n",
      "Checking if cistopic_qc_out/VIB_hydrop_3.50k__metadata_bc.pkl exist...\n",
      "\tMetadata exists! Skipping...\n",
      "Checking if cistopic_qc_out/VIB_hydrop_3.5k__metadata_bc.pkl exist...\n",
      "\tMetadata exists! Skipping...\n",
      "Checking if cistopic_qc_out/VIB_hydrop_4.10k__metadata_bc.pkl exist...\n",
      "\tMetadata exists! Skipping...\n",
      "Checking if cistopic_qc_out/VIB_hydrop_4.15k__metadata_bc.pkl exist...\n",
      "\tMetadata exists! Skipping...\n",
      "Checking if cistopic_qc_out/VIB_hydrop_4.20k__metadata_bc.pkl exist...\n",
      "\tMetadata exists! Skipping...\n",
      "Checking if cistopic_qc_out/VIB_hydrop_4.25k__metadata_bc.pkl exist...\n",
      "\tMetadata exists! Skipping...\n",
      "Checking if cistopic_qc_out/VIB_hydrop_4.30k__metadata_bc.pkl exist...\n",
      "\tMetadata exists! Skipping...\n",
      "Checking if cistopic_qc_out/VIB_hydrop_4.35k__metadata_bc.pkl exist...\n",
      "\tMetadata exists! Skipping...\n",
      "Checking if cistopic_qc_out/VIB_hydrop_4.40k__metadata_bc.pkl exist...\n",
      "\tMetadata exists! Skipping...\n",
      "Checking if cistopic_qc_out/VIB_hydrop_4.45k__metadata_bc.pkl exist...\n",
      "\tMetadata exists! Skipping...\n",
      "Checking if cistopic_qc_out/VIB_hydrop_4.50k__metadata_bc.pkl exist...\n",
      "\tMetadata exists! Skipping...\n",
      "Checking if cistopic_qc_out/VIB_hydrop_4.5k__metadata_bc.pkl exist...\n",
      "\tMetadata exists! Skipping...\n",
      "Checking if cistopic_qc_out/VIB_hydrop_5.10k__metadata_bc.pkl exist...\n",
      "\tMetadata exists! Skipping...\n",
      "Checking if cistopic_qc_out/VIB_hydrop_5.15k__metadata_bc.pkl exist...\n",
      "\tMetadata exists! Skipping...\n",
      "Checking if cistopic_qc_out/VIB_hydrop_5.20k__metadata_bc.pkl exist...\n",
      "\tMetadata exists! Skipping...\n",
      "Checking if cistopic_qc_out/VIB_hydrop_5.25k__metadata_bc.pkl exist...\n",
      "\tMetadata exists! Skipping...\n",
      "Checking if cistopic_qc_out/VIB_hydrop_5.30k__metadata_bc.pkl exist...\n",
      "\tMetadata exists! Skipping...\n",
      "Checking if cistopic_qc_out/VIB_hydrop_5.35k__metadata_bc.pkl exist...\n",
      "\tMetadata exists! Skipping...\n",
      "Checking if cistopic_qc_out/VIB_hydrop_5.40k__metadata_bc.pkl exist...\n",
      "\tMetadata exists! Skipping...\n",
      "Checking if cistopic_qc_out/VIB_hydrop_5.45k__metadata_bc.pkl exist...\n",
      "\tMetadata exists! Skipping...\n",
      "Checking if cistopic_qc_out/VIB_hydrop_5.50k__metadata_bc.pkl exist...\n",
      "\tMetadata exists! Skipping...\n",
      "Checking if cistopic_qc_out/VIB_hydrop_5.5k__metadata_bc.pkl exist...\n",
      "\tMetadata exists! Skipping...\n"
     ]
    }
   ],
   "source": [
    "fragments_sub_dict = {}\n",
    "regions_sub_dict = {}\n",
    "metadata_out_dict = {}\n",
    "for sample in fragments_dict.keys():\n",
    "    depth = sample.split(\".\")[-1]\n",
    "    metadata_file = (\n",
    "        fragments_dict[sample]\n",
    "        .replace(f\"preprocessing_out/data/fragments/\", \"cistopic_qc_out/\")\n",
    "        .replace(\".fragments.tsv.gz\", \"__metadata_bc.pkl\")\n",
    "    )\n",
    "    # metadata_file = os.path.join(cistopic_qc_out, sample + \"__metadata_bc.pkl\")\n",
    "    print(f\"Checking if {metadata_file} exist...\")\n",
    "    if os.path.exists(metadata_file):\n",
    "        print(\"\\tMetadata exists! Skipping...\")\n",
    "    else:\n",
    "        fragments_sub_dict[sample] = fragments_dict[sample]\n",
    "        print(\"\\tMetadata does not exist, adding to subdict to generate\")\n",
    "        metadata_out_dict[sample] = metadata_file"
   ]
  },
  {
   "cell_type": "code",
   "execution_count": 9,
   "id": "97f2f738",
   "metadata": {
    "execution": {
     "iopub.execute_input": "2022-11-16T17:48:47.492034Z",
     "iopub.status.busy": "2022-11-16T17:48:47.490760Z",
     "iopub.status.idle": "2022-11-16T17:48:47.493452Z",
     "shell.execute_reply": "2022-11-16T17:48:47.494282Z",
     "shell.execute_reply.started": "2022-11-16T17:46:29.529516Z"
    },
    "papermill": {
     "duration": 0.020755,
     "end_time": "2022-11-16T17:48:47.494379",
     "exception": false,
     "start_time": "2022-11-16T17:48:47.473624",
     "status": "completed"
    },
    "tags": []
   },
   "outputs": [],
   "source": [
    "regions_sub_dict = {x: regions_paths_dict[x] for x in sorted(fragments_sub_dict.keys())}"
   ]
  },
  {
   "cell_type": "code",
   "execution_count": 10,
   "id": "89b46528",
   "metadata": {
    "execution": {
     "iopub.execute_input": "2022-11-16T17:48:47.522891Z",
     "iopub.status.busy": "2022-11-16T17:48:47.522514Z",
     "iopub.status.idle": "2022-11-16T17:48:47.525710Z",
     "shell.execute_reply": "2022-11-16T17:48:47.525316Z",
     "shell.execute_reply.started": "2022-11-16T17:46:29.530921Z"
    },
    "papermill": {
     "duration": 0.020736,
     "end_time": "2022-11-16T17:48:47.525793",
     "exception": false,
     "start_time": "2022-11-16T17:48:47.505057",
     "status": "completed"
    },
    "tags": []
   },
   "outputs": [
    {
     "data": {
      "text/plain": [
       "{'BIO_ddseq_m1c1.20k': '../public_3_cistopic_qc/final_consensus_peaks/BIO_ddseq_m1c1.FULL__SCREEN_consensus_peaks.bed',\n",
       " 'TXG_10xv2_adultmousecortex.50k': '../public_3_cistopic_qc/final_consensus_peaks/TXG_10xv2_adultmousecortex.FULL__SCREEN_consensus_peaks.bed',\n",
       " 'TXG_10xv2_adultmousecortexchromiumx.50k': '../public_3_cistopic_qc/final_consensus_peaks/TXG_10xv2_adultmousecortexchromiumx.FULL__SCREEN_consensus_peaks.bed'}"
      ]
     },
     "execution_count": 10,
     "metadata": {},
     "output_type": "execute_result"
    }
   ],
   "source": [
    "regions_sub_dict"
   ]
  },
  {
   "cell_type": "code",
   "execution_count": 11,
   "id": "eaba4d4c",
   "metadata": {
    "execution": {
     "iopub.execute_input": "2022-11-16T17:48:47.559167Z",
     "iopub.status.busy": "2022-11-16T17:48:47.558777Z",
     "iopub.status.idle": "2022-11-16T17:48:47.563716Z",
     "shell.execute_reply": "2022-11-16T17:48:47.564012Z",
     "shell.execute_reply.started": "2022-11-16T17:46:29.532096Z"
    },
    "papermill": {
     "duration": 0.026393,
     "end_time": "2022-11-16T17:48:47.564106",
     "exception": false,
     "start_time": "2022-11-16T17:48:47.537713",
     "status": "completed"
    },
    "tags": []
   },
   "outputs": [
    {
     "data": {
      "text/plain": [
       "set()"
      ]
     },
     "execution_count": 11,
     "metadata": {},
     "output_type": "execute_result"
    }
   ],
   "source": [
    "set(regions_sub_dict) == set(fragments_sub_dict)\n",
    "set(regions_sub_dict) - set(fragments_sub_dict)"
   ]
  },
  {
   "cell_type": "code",
   "execution_count": 12,
   "id": "d12057e6",
   "metadata": {
    "execution": {
     "iopub.execute_input": "2022-11-16T17:48:47.593056Z",
     "iopub.status.busy": "2022-11-16T17:48:47.592620Z",
     "iopub.status.idle": "2022-11-16T17:48:47.594070Z",
     "shell.execute_reply": "2022-11-16T17:48:47.594372Z",
     "shell.execute_reply.started": "2022-11-16T17:46:29.533207Z"
    },
    "papermill": {
     "duration": 0.019378,
     "end_time": "2022-11-16T17:48:47.594465",
     "exception": false,
     "start_time": "2022-11-16T17:48:47.575087",
     "status": "completed"
    },
    "tags": []
   },
   "outputs": [],
   "source": [
    "common = set(fragments_sub_dict).intersection(set(regions_sub_dict))"
   ]
  },
  {
   "cell_type": "code",
   "execution_count": 13,
   "id": "77e9977e",
   "metadata": {
    "execution": {
     "iopub.execute_input": "2022-11-16T17:48:47.621229Z",
     "iopub.status.busy": "2022-11-16T17:48:47.620850Z",
     "iopub.status.idle": "2022-11-16T17:48:47.625099Z",
     "shell.execute_reply": "2022-11-16T17:48:47.624702Z",
     "shell.execute_reply.started": "2022-11-16T17:46:29.534259Z"
    },
    "papermill": {
     "duration": 0.019328,
     "end_time": "2022-11-16T17:48:47.625187",
     "exception": false,
     "start_time": "2022-11-16T17:48:47.605859",
     "status": "completed"
    },
    "tags": []
   },
   "outputs": [
    {
     "data": {
      "text/plain": [
       "{'BIO_ddseq_m1c1.20k': 'cistopic_qc_out/BIO_ddseq_m1c1.20k__metadata_bc.pkl',\n",
       " 'TXG_10xv2_adultmousecortex.50k': 'cistopic_qc_out/TXG_10xv2_adultmousecortex.50k__metadata_bc.pkl',\n",
       " 'TXG_10xv2_adultmousecortexchromiumx.50k': 'cistopic_qc_out/TXG_10xv2_adultmousecortexchromiumx.50k__metadata_bc.pkl'}"
      ]
     },
     "execution_count": 13,
     "metadata": {},
     "output_type": "execute_result"
    }
   ],
   "source": [
    "metadata_out_dict"
   ]
  },
  {
   "cell_type": "code",
   "execution_count": 14,
   "id": "7829fec6",
   "metadata": {
    "execution": {
     "iopub.execute_input": "2022-11-16T17:48:47.654044Z",
     "iopub.status.busy": "2022-11-16T17:48:47.653673Z",
     "iopub.status.idle": "2022-11-16T17:48:47.656239Z",
     "shell.execute_reply": "2022-11-16T17:48:47.655855Z",
     "shell.execute_reply.started": "2022-11-16T17:46:29.535703Z"
    },
    "papermill": {
     "duration": 0.019385,
     "end_time": "2022-11-16T17:48:47.656319",
     "exception": false,
     "start_time": "2022-11-16T17:48:47.636934",
     "status": "completed"
    },
    "tags": []
   },
   "outputs": [],
   "source": [
    "regions_sub_dict = {x: regions_sub_dict[x] for x in list(common)}\n",
    "fragments_sub_dict = {x: fragments_sub_dict[x] for x in list(common)}"
   ]
  },
  {
   "cell_type": "code",
   "execution_count": 15,
   "id": "811e5035",
   "metadata": {
    "execution": {
     "iopub.execute_input": "2022-11-16T17:48:47.687935Z",
     "iopub.status.busy": "2022-11-16T17:48:47.687537Z",
     "iopub.status.idle": "2022-11-16T18:13:18.197235Z",
     "shell.execute_reply": "2022-11-16T18:13:18.196641Z",
     "shell.execute_reply.started": "2022-11-16T17:46:29.538377Z"
    },
    "papermill": {
     "duration": 1470.529639,
     "end_time": "2022-11-16T18:13:18.197428",
     "exception": false,
     "start_time": "2022-11-16T17:48:47.667789",
     "status": "completed"
    },
    "tags": []
   },
   "outputs": [
    {
     "name": "stdout",
     "output_type": "stream",
     "text": [
      "2022-11-16 18:48:47,686 cisTopic     INFO     n_cpu is larger than the number of samples. Setting n_cpu to the number of samples\n"
     ]
    },
    {
     "name": "stderr",
     "output_type": "stream",
     "text": [
      "2022-11-16 18:48:53,702\tINFO worker.py:1509 -- Started a local Ray instance. View the dashboard at \u001b[1m\u001b[32mhttp://127.0.0.1:8266 \u001b[39m\u001b[22m\n"
     ]
    },
    {
     "name": "stdout",
     "output_type": "stream",
     "text": [
      "\u001b[2m\u001b[36m(compute_qc_stats_ray pid=12890)\u001b[0m 2022-11-16 18:48:57,100 cisTopic     INFO     Reading TXG_10xv2_adultmousecortex.50k\n",
      "\u001b[2m\u001b[36m(compute_qc_stats_ray pid=12889)\u001b[0m 2022-11-16 18:48:57,094 cisTopic     INFO     Reading TXG_10xv2_adultmousecortexchromiumx.50k\n",
      "\u001b[2m\u001b[36m(compute_qc_stats_ray pid=12888)\u001b[0m 2022-11-16 18:48:57,140 cisTopic     INFO     Reading BIO_ddseq_m1c1.20k\n"
     ]
    },
    {
     "name": "stdout",
     "output_type": "stream",
     "text": [
      "\u001b[2m\u001b[36m(compute_qc_stats_ray pid=12888)\u001b[0m 2022-11-16 18:50:51,737 cisTopic     INFO     Computing barcode rank plot for BIO_ddseq_m1c1.20k\n",
      "\u001b[2m\u001b[36m(compute_qc_stats_ray pid=12888)\u001b[0m 2022-11-16 18:50:51,737 cisTopic     INFO     Counting fragments\n"
     ]
    },
    {
     "name": "stdout",
     "output_type": "stream",
     "text": [
      "\u001b[2m\u001b[36m(compute_qc_stats_ray pid=12888)\u001b[0m 2022-11-16 18:51:01,644 cisTopic     INFO     Marking barcodes with more than 5\n"
     ]
    },
    {
     "name": "stdout",
     "output_type": "stream",
     "text": [
      "\u001b[2m\u001b[36m(compute_qc_stats_ray pid=12888)\u001b[0m 2022-11-16 18:51:01,868 cisTopic     INFO     Returning plot data\n",
      "\u001b[2m\u001b[36m(compute_qc_stats_ray pid=12888)\u001b[0m 2022-11-16 18:51:01,920 cisTopic     INFO     Returning valid barcodes\n"
     ]
    },
    {
     "name": "stdout",
     "output_type": "stream",
     "text": [
      "\u001b[2m\u001b[36m(compute_qc_stats_ray pid=12888)\u001b[0m 2022-11-16 18:51:05,383 cisTopic     INFO     Computing duplicate rate plot for BIO_ddseq_m1c1.20k\n"
     ]
    },
    {
     "name": "stdout",
     "output_type": "stream",
     "text": [
      "\u001b[2m\u001b[36m(compute_qc_stats_ray pid=12888)\u001b[0m 2022-11-16 18:51:19,656 cisTopic     INFO     Return plot data\n",
      "\u001b[2m\u001b[36m(compute_qc_stats_ray pid=12888)\u001b[0m 2022-11-16 18:51:19,768 cisTopic     INFO     Computing insert size distribution for BIO_ddseq_m1c1.20k\n",
      "\u001b[2m\u001b[36m(compute_qc_stats_ray pid=12888)\u001b[0m 2022-11-16 18:51:19,769 cisTopic     INFO     Counting fragments\n"
     ]
    },
    {
     "name": "stdout",
     "output_type": "stream",
     "text": [
      "\u001b[2m\u001b[36m(compute_qc_stats_ray pid=12888)\u001b[0m 2022-11-16 18:51:20,926 cisTopic     INFO     Returning plot data\n"
     ]
    },
    {
     "name": "stdout",
     "output_type": "stream",
     "text": [
      "\u001b[2m\u001b[36m(compute_qc_stats_ray pid=12888)\u001b[0m 2022-11-16 18:51:43,182 cisTopic     INFO     Computing TSS profile for BIO_ddseq_m1c1.20k\n"
     ]
    },
    {
     "name": "stdout",
     "output_type": "stream",
     "text": [
      "\u001b[2m\u001b[36m(compute_qc_stats_ray pid=12888)\u001b[0m 2022-11-16 18:51:49,154 cisTopic     INFO     Formatting annnotation\n",
      "\u001b[2m\u001b[36m(compute_qc_stats_ray pid=12888)\u001b[0m 2022-11-16 18:51:49,204 cisTopic     INFO     Creating coverage matrix\n"
     ]
    },
    {
     "name": "stdout",
     "output_type": "stream",
     "text": [
      "\u001b[2m\u001b[36m(compute_qc_stats_ray pid=12889)\u001b[0m 2022-11-16 18:53:07,056 cisTopic     INFO     Computing barcode rank plot for TXG_10xv2_adultmousecortexchromiumx.50k\n",
      "\u001b[2m\u001b[36m(compute_qc_stats_ray pid=12889)\u001b[0m 2022-11-16 18:53:07,056 cisTopic     INFO     Counting fragments\n"
     ]
    },
    {
     "name": "stdout",
     "output_type": "stream",
     "text": [
      "\u001b[2m\u001b[36m(compute_qc_stats_ray pid=12888)\u001b[0m 2022-11-16 18:53:07,319 cisTopic     INFO     Coverage matrix done\n"
     ]
    },
    {
     "name": "stdout",
     "output_type": "stream",
     "text": [
      "\u001b[2m\u001b[36m(compute_qc_stats_ray pid=12890)\u001b[0m 2022-11-16 18:53:09,099 cisTopic     INFO     Computing barcode rank plot for TXG_10xv2_adultmousecortex.50k\n",
      "\u001b[2m\u001b[36m(compute_qc_stats_ray pid=12890)\u001b[0m 2022-11-16 18:53:09,100 cisTopic     INFO     Counting fragments\n"
     ]
    },
    {
     "name": "stdout",
     "output_type": "stream",
     "text": [
      "\u001b[2m\u001b[36m(compute_qc_stats_ray pid=12889)\u001b[0m 2022-11-16 18:53:16,085 cisTopic     INFO     Marking barcodes with more than 5\n",
      "\u001b[2m\u001b[36m(compute_qc_stats_ray pid=12889)\u001b[0m 2022-11-16 18:53:16,137 cisTopic     INFO     Returning plot data\n",
      "\u001b[2m\u001b[36m(compute_qc_stats_ray pid=12889)\u001b[0m 2022-11-16 18:53:16,179 cisTopic     INFO     Returning valid barcodes\n"
     ]
    },
    {
     "name": "stdout",
     "output_type": "stream",
     "text": [
      "\u001b[2m\u001b[36m(compute_qc_stats_ray pid=12890)\u001b[0m 2022-11-16 18:53:20,872 cisTopic     INFO     Marking barcodes with more than 5\n",
      "\u001b[2m\u001b[36m(compute_qc_stats_ray pid=12890)\u001b[0m 2022-11-16 18:53:20,922 cisTopic     INFO     Returning plot data\n"
     ]
    },
    {
     "name": "stdout",
     "output_type": "stream",
     "text": [
      "\u001b[2m\u001b[36m(compute_qc_stats_ray pid=12890)\u001b[0m 2022-11-16 18:53:21,029 cisTopic     INFO     Returning valid barcodes\n"
     ]
    },
    {
     "name": "stdout",
     "output_type": "stream",
     "text": [
      "\u001b[2m\u001b[36m(compute_qc_stats_ray pid=12889)\u001b[0m 2022-11-16 18:53:29,127 cisTopic     INFO     Computing duplicate rate plot for TXG_10xv2_adultmousecortexchromiumx.50k\n"
     ]
    },
    {
     "name": "stdout",
     "output_type": "stream",
     "text": [
      "\u001b[2m\u001b[36m(compute_qc_stats_ray pid=12890)\u001b[0m 2022-11-16 18:53:34,468 cisTopic     INFO     Computing duplicate rate plot for TXG_10xv2_adultmousecortex.50k\n"
     ]
    },
    {
     "name": "stdout",
     "output_type": "stream",
     "text": [
      "\u001b[2m\u001b[36m(compute_qc_stats_ray pid=12889)\u001b[0m 2022-11-16 18:53:42,065 cisTopic     INFO     Return plot data\n"
     ]
    },
    {
     "name": "stdout",
     "output_type": "stream",
     "text": [
      "\u001b[2m\u001b[36m(compute_qc_stats_ray pid=12889)\u001b[0m 2022-11-16 18:53:42,238 cisTopic     INFO     Computing insert size distribution for TXG_10xv2_adultmousecortexchromiumx.50k\n",
      "\u001b[2m\u001b[36m(compute_qc_stats_ray pid=12889)\u001b[0m 2022-11-16 18:53:42,238 cisTopic     INFO     Counting fragments\n"
     ]
    },
    {
     "name": "stdout",
     "output_type": "stream",
     "text": [
      "\u001b[2m\u001b[36m(compute_qc_stats_ray pid=12889)\u001b[0m 2022-11-16 18:53:46,081 cisTopic     INFO     Returning plot data\n"
     ]
    },
    {
     "name": "stdout",
     "output_type": "stream",
     "text": [
      "\u001b[2m\u001b[36m(compute_qc_stats_ray pid=12890)\u001b[0m 2022-11-16 18:53:48,126 cisTopic     INFO     Return plot data\n",
      "\u001b[2m\u001b[36m(compute_qc_stats_ray pid=12890)\u001b[0m 2022-11-16 18:53:48,272 cisTopic     INFO     Computing insert size distribution for TXG_10xv2_adultmousecortex.50k\n",
      "\u001b[2m\u001b[36m(compute_qc_stats_ray pid=12890)\u001b[0m 2022-11-16 18:53:48,272 cisTopic     INFO     Counting fragments\n"
     ]
    },
    {
     "name": "stdout",
     "output_type": "stream",
     "text": [
      "\u001b[2m\u001b[36m(compute_qc_stats_ray pid=12890)\u001b[0m 2022-11-16 18:53:52,220 cisTopic     INFO     Returning plot data\n"
     ]
    },
    {
     "name": "stdout",
     "output_type": "stream",
     "text": [
      "\u001b[2m\u001b[36m(compute_qc_stats_ray pid=12888)\u001b[0m 2022-11-16 18:55:02,657 cisTopic     INFO     Returning normalized TSS coverage matrix per barcode\n"
     ]
    },
    {
     "name": "stdout",
     "output_type": "stream",
     "text": [
      "\u001b[2m\u001b[36m(compute_qc_stats_ray pid=12890)\u001b[0m 2022-11-16 18:55:28,190 cisTopic     INFO     Computing TSS profile for TXG_10xv2_adultmousecortex.50k\n"
     ]
    },
    {
     "name": "stdout",
     "output_type": "stream",
     "text": [
      "\u001b[2m\u001b[36m(compute_qc_stats_ray pid=12889)\u001b[0m 2022-11-16 18:55:36,084 cisTopic     INFO     Computing TSS profile for TXG_10xv2_adultmousecortexchromiumx.50k\n"
     ]
    },
    {
     "name": "stdout",
     "output_type": "stream",
     "text": [
      "\u001b[2m\u001b[36m(compute_qc_stats_ray pid=12890)\u001b[0m 2022-11-16 18:55:42,990 cisTopic     INFO     Formatting annnotation\n",
      "\u001b[2m\u001b[36m(compute_qc_stats_ray pid=12890)\u001b[0m 2022-11-16 18:55:43,040 cisTopic     INFO     Creating coverage matrix\n"
     ]
    },
    {
     "name": "stdout",
     "output_type": "stream",
     "text": [
      "\u001b[2m\u001b[36m(compute_qc_stats_ray pid=12889)\u001b[0m 2022-11-16 18:55:53,908 cisTopic     INFO     Formatting annnotation\n",
      "\u001b[2m\u001b[36m(compute_qc_stats_ray pid=12889)\u001b[0m 2022-11-16 18:55:53,975 cisTopic     INFO     Creating coverage matrix\n"
     ]
    },
    {
     "name": "stdout",
     "output_type": "stream",
     "text": [
      "\u001b[2m\u001b[36m(compute_qc_stats_ray pid=12888)\u001b[0m 2022-11-16 18:56:05,388 cisTopic     INFO     Returning normalized sample TSS enrichment data\n"
     ]
    },
    {
     "name": "stdout",
     "output_type": "stream",
     "text": [
      "\u001b[2m\u001b[36m(compute_qc_stats_ray pid=12888)\u001b[0m 2022-11-16 18:56:05,630 cisTopic     INFO     Computing FRIP profile for BIO_ddseq_m1c1.20k\n"
     ]
    },
    {
     "name": "stdout",
     "output_type": "stream",
     "text": [
      "\u001b[2m\u001b[36m(compute_qc_stats_ray pid=12888)\u001b[0m 2022-11-16 18:56:06,386 cisTopic     INFO     Counting fragments\n"
     ]
    },
    {
     "name": "stdout",
     "output_type": "stream",
     "text": [
      "\u001b[2m\u001b[36m(compute_qc_stats_ray pid=12888)\u001b[0m 2022-11-16 18:56:14,494 cisTopic     INFO     Intersecting fragments with regions\n"
     ]
    },
    {
     "name": "stdout",
     "output_type": "stream",
     "text": [
      "\u001b[2m\u001b[36m(compute_qc_stats_ray pid=12888)\u001b[0m 2022-11-16 18:56:37,564 cisTopic     INFO     Sample BIO_ddseq_m1c1.20k done!\n"
     ]
    },
    {
     "name": "stdout",
     "output_type": "stream",
     "text": [
      "\u001b[2m\u001b[36m(compute_qc_stats_ray pid=12890)\u001b[0m 2022-11-16 18:58:31,135 cisTopic     INFO     Coverage matrix done\n"
     ]
    },
    {
     "name": "stdout",
     "output_type": "stream",
     "text": [
      "\u001b[2m\u001b[36m(compute_qc_stats_ray pid=12889)\u001b[0m 2022-11-16 18:58:55,299 cisTopic     INFO     Coverage matrix done\n"
     ]
    },
    {
     "name": "stdout",
     "output_type": "stream",
     "text": [
      "\u001b[2m\u001b[36m(compute_qc_stats_ray pid=12890)\u001b[0m 2022-11-16 19:00:55,740 cisTopic     INFO     Returning normalized TSS coverage matrix per barcode\n"
     ]
    },
    {
     "name": "stdout",
     "output_type": "stream",
     "text": [
      "\u001b[2m\u001b[36m(compute_qc_stats_ray pid=12889)\u001b[0m 2022-11-16 19:01:35,230 cisTopic     INFO     Returning normalized TSS coverage matrix per barcode\n"
     ]
    },
    {
     "name": "stdout",
     "output_type": "stream",
     "text": [
      "\u001b[2m\u001b[36m(compute_qc_stats_ray pid=12890)\u001b[0m 2022-11-16 19:02:22,139 cisTopic     INFO     Returning normalized sample TSS enrichment data\n"
     ]
    },
    {
     "name": "stdout",
     "output_type": "stream",
     "text": [
      "\u001b[2m\u001b[36m(compute_qc_stats_ray pid=12890)\u001b[0m 2022-11-16 19:02:22,450 cisTopic     INFO     Computing FRIP profile for TXG_10xv2_adultmousecortex.50k\n"
     ]
    },
    {
     "name": "stdout",
     "output_type": "stream",
     "text": [
      "\u001b[2m\u001b[36m(compute_qc_stats_ray pid=12890)\u001b[0m 2022-11-16 19:02:23,999 cisTopic     INFO     Counting fragments\n"
     ]
    },
    {
     "name": "stdout",
     "output_type": "stream",
     "text": [
      "\u001b[2m\u001b[36m(compute_qc_stats_ray pid=12890)\u001b[0m 2022-11-16 19:02:53,985 cisTopic     INFO     Intersecting fragments with regions\n"
     ]
    },
    {
     "name": "stdout",
     "output_type": "stream",
     "text": [
      "\u001b[2m\u001b[36m(compute_qc_stats_ray pid=12889)\u001b[0m 2022-11-16 19:02:57,305 cisTopic     INFO     Returning normalized sample TSS enrichment data\n"
     ]
    },
    {
     "name": "stdout",
     "output_type": "stream",
     "text": [
      "\u001b[2m\u001b[36m(compute_qc_stats_ray pid=12889)\u001b[0m 2022-11-16 19:02:57,525 cisTopic     INFO     Computing FRIP profile for TXG_10xv2_adultmousecortexchromiumx.50k\n"
     ]
    },
    {
     "name": "stdout",
     "output_type": "stream",
     "text": [
      "\u001b[2m\u001b[36m(compute_qc_stats_ray pid=12889)\u001b[0m 2022-11-16 19:02:58,822 cisTopic     INFO     Counting fragments\n"
     ]
    },
    {
     "name": "stdout",
     "output_type": "stream",
     "text": [
      "\u001b[2m\u001b[36m(compute_qc_stats_ray pid=12889)\u001b[0m 2022-11-16 19:03:24,486 cisTopic     INFO     Intersecting fragments with regions\n"
     ]
    },
    {
     "name": "stdout",
     "output_type": "stream",
     "text": [
      "\u001b[2m\u001b[36m(compute_qc_stats_ray pid=12890)\u001b[0m 2022-11-16 19:03:59,334 cisTopic     INFO     Sample TXG_10xv2_adultmousecortex.50k done!\n"
     ]
    },
    {
     "name": "stdout",
     "output_type": "stream",
     "text": [
      "\u001b[2m\u001b[36m(compute_qc_stats_ray pid=12889)\u001b[0m 2022-11-16 19:04:25,847 cisTopic     INFO     Sample TXG_10xv2_adultmousecortexchromiumx.50k done!\n"
     ]
    },
    {
     "name": "stdout",
     "output_type": "stream",
     "text": [
      "Dumping files...\n"
     ]
    }
   ],
   "source": [
    "n_cores = 6\n",
    "if regions_sub_dict != {}:\n",
    "    samples_sub = list(regions_sub_dict.keys())\n",
    "    blocks = [samples_sub[i : i + n_cores] for i in range(0, len(samples_sub), n_cores)]\n",
    "    for samples_torun_in_block in blocks:\n",
    "        fragments_sub_dict_block = {\n",
    "            key: fragments_sub_dict[key] for key in samples_torun_in_block\n",
    "        }\n",
    "        regions_sub_dict_block = {\n",
    "            key: regions_sub_dict[key] for key in samples_torun_in_block\n",
    "        }\n",
    "\n",
    "        metadata_bc_dict, profile_data_dict = compute_qc_stats(\n",
    "            fragments_dict=fragments_sub_dict_block,\n",
    "            tss_annotation=annotation,\n",
    "            stats=[\n",
    "                \"barcode_rank_plot\",\n",
    "                \"duplicate_rate\",\n",
    "                \"insert_size_distribution\",\n",
    "                \"profile_tss\",\n",
    "                \"frip\",\n",
    "            ],\n",
    "            label_list=None,\n",
    "            path_to_regions=regions_sub_dict_block,\n",
    "            n_cpu=n_cores,\n",
    "            # valid_bc=selected_barcodes_dict,\n",
    "            n_frag=5,\n",
    "            # n_bc=None,\n",
    "            tss_flank_window=2000,\n",
    "            tss_window=50,\n",
    "            tss_minimum_signal_window=100,\n",
    "            tss_rolling_window=1,\n",
    "            # min_norm=0.2,\n",
    "            remove_duplicates=True,\n",
    "        )\n",
    "\n",
    "        ray.shutdown()\n",
    "        print(f\"Dumping files...\")\n",
    "        for sample in sorted(metadata_bc_dict.keys()):\n",
    "            metadata_bc_dict[sample][\"sample_id\"] = sample\n",
    "            metadata_bc_dict[sample].index = [\n",
    "                x + \"___\" + sample for x in list(metadata_bc_dict[sample].index)\n",
    "            ]\n",
    "            with open(metadata_out_dict[sample], \"wb\") as f:\n",
    "                pickle.dump(metadata_bc_dict[sample], f, protocol=4)\n",
    "\n",
    "            with open(\n",
    "                metadata_out_dict[sample].replace(\n",
    "                    \"__metadata_bc.pkl\", \"__profile_data.pkl\"\n",
    "                ),\n",
    "                \"wb\",\n",
    "            ) as f:\n",
    "                pickle.dump(profile_data_dict[sample], f, protocol=4)\n",
    "else:\n",
    "    print(\"All samples already processed.\")"
   ]
  },
  {
   "cell_type": "code",
   "execution_count": null,
   "id": "7f14e49f",
   "metadata": {
    "papermill": {
     "duration": 0.023111,
     "end_time": "2022-11-16T18:13:18.559608",
     "exception": false,
     "start_time": "2022-11-16T18:13:18.536497",
     "status": "completed"
    },
    "tags": []
   },
   "outputs": [],
   "source": []
  }
 ],
 "metadata": {
  "kernelspec": {
   "display_name": "20221014_pycistopic.sif",
   "language": "python",
   "name": "cistopic_20221014"
  },
  "language_info": {
   "codemirror_mode": {
    "name": "ipython",
    "version": 3
   },
   "file_extension": ".py",
   "mimetype": "text/x-python",
   "name": "python",
   "nbconvert_exporter": "python",
   "pygments_lexer": "ipython3",
   "version": "3.8.15"
  },
  "papermill": {
   "default_parameters": {},
   "duration": 1522.48355,
   "end_time": "2022-11-16T18:13:24.731472",
   "environment_variables": {},
   "exception": null,
   "input_path": "4_run_qc.ipynb",
   "output_path": "4_run_qc.OUT.ipynb",
   "parameters": {},
   "start_time": "2022-11-16T17:48:02.247922",
   "version": "2.3.4"
  }
 },
 "nbformat": 4,
 "nbformat_minor": 5
}
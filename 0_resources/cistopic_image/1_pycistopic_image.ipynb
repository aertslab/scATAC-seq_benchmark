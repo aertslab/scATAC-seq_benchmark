{
 "cells": [
  {
   "cell_type": "markdown",
   "id": "7e9ce4fe",
   "metadata": {},
   "source": [
    "make cistopic image according to https://github.com/aertslab/pycisTopic"
   ]
  },
  {
   "cell_type": "code",
   "execution_count": 1,
   "id": "27a5165d",
   "metadata": {},
   "outputs": [
    {
     "name": "stdout",
     "output_type": "stream",
     "text": [
      "Cloning into 'pycisTopic'...\n",
      "Username for 'https://github.com': \n"
     ]
    }
   ],
   "source": [
    "# Clone repositories (pycisTopic and pycistarget)\n",
    "git clone https://github.com/aertslab/pycisTopic.git\n",
    "git clone https://github.com/aertslab/pycistarget.git\n",
    "git clone https://github.com/aertslab/ctxcore"
   ]
  },
  {
   "cell_type": "markdown",
   "id": "a388a395",
   "metadata": {},
   "source": [
    "in the dockerfile, I add some packages that I like in the pip install list:"
   ]
  },
  {
   "cell_type": "code",
   "execution_count": 1,
   "id": "113ea6fd",
   "metadata": {
    "execution": {
     "iopub.execute_input": "2023-05-04T11:47:45.236152Z",
     "iopub.status.busy": "2023-05-04T11:47:45.235929Z",
     "iopub.status.idle": "2023-05-04T11:47:45.390046Z",
     "shell.execute_reply": "2023-05-04T11:47:45.389595Z",
     "shell.execute_reply.started": "2023-05-04T11:47:45.236135Z"
    },
    "tags": []
   },
   "outputs": [
    {
     "name": "stdout",
     "output_type": "stream",
     "text": [
      "FROM python:3.8-slim AS compile-image\n",
      "\n",
      "ENV DEBIAN_FRONTEND=noninteractive\n",
      "RUN BUILDPKGS=\"build-essential \\\n",
      "        libcurl4-openssl-dev \\\n",
      "        zlib1g-dev \\\n",
      "        libfftw3-dev \\\n",
      "        libc++-dev \\\n",
      "        git \\\n",
      "        wget \\\n",
      "        \" && \\\n",
      "    apt-get update && \\\n",
      "    apt-get install -y --no-install-recommends apt-utils debconf locales locales-all && dpkg-reconfigure locales && \\\n",
      "    apt-get install -y --no-install-recommends $BUILDPKGS\n",
      "\n",
      "RUN python -m venv /opt/venv\n",
      "# Make sure we use the virtualenv:\n",
      "ENV PATH=\"/opt/venv/bin:$PATH\"\n",
      "\n",
      "# install dependencies:\n",
      "COPY pycisTopic/requirements.txt /tmp/\n",
      "RUN pip install --no-cache-dir --upgrade pip && \\\n",
      "    pip install --no-cache-dir wheel==0.37.1 && \\\n",
      "    pip install --no-cache-dir setuptools==56.0.0 && \\\n",
      "    pip install --no-cache-dir Cython numpy==1.20.3 && \\\n",
      "    pip install --no-cache-dir annoy==1.16.3 \\\n",
      "    pip install --no-cache-dir fitsne && \\\n",
      "    pip install --no-cache-dir papermill && \\\n",
      "    pip install --no-cache-dir igv_jupyterlab && \\\n",
      "    pip install --no-cache-dir bs4 && \\\n",
      "    pip install --no-cache-dir lxml && \\\n",
      "    pip install --no-cache-dir tspex && \\\n",
      "    pip install --no-cache-dir -r /tmp/requirements.txt && \\\n",
      "    pip install --no-cache-dir nb_black && \\\n",
      "    pip install --no-cache-dir multiprocess && \\\n",
      "    pip install --no-cache-dir scrublet && \\\n",
      "    pip install --no-cache-dir polars && \\\n",
      "    pip install --no-cache-dir ray && \\\n",
      "    pip install --no-cache-dir ctxcore==0.2.0 && \\\n",
      "    pip install --no-cache-dir palettable\n",
      "\n",
      "# install MACS2 properly\n",
      "RUN wget -O /tmp/MACS.tar.gz https://github.com/macs3-project/MACS/archive/refs/tags/v2.2.7.1.tar.gz && \\\n",
      "    cd /tmp && \\\n",
      "    tar -xvf MACS.tar.gz && \\\n",
      "    cd MACS-2.2.7.1 && \\\n",
      "    sed -i 's/install_requires = \\[f\"numpy>={numpy_requires}\",\\]/install_requires = \\[f\"numpy{numpy_requires}\",\\]/' setup.py && \\\n",
      "    pip install -e . && \\\n",
      "    rm -r /tmp/MACS.tar.gz /tmp/MACS-2.2.7.1\n",
      "\n",
      "# install ctxcore from local copy:\n",
      "# COPY ctxcore /tmp/ctxcore\n",
      "# RUN  cd /tmp/ctxcore && \\\n",
      "#      pip install . && \\\n",
      "#      cd .. && rm -rf ctxcore\n",
      "\n",
      "# install pycisTopic from local copy:\n",
      "COPY pycisTopic /tmp/pycisTopic\n",
      "RUN  cd /tmp/pycisTopic && \\\n",
      "     pip install . && \\\n",
      "     cd .. && rm -rf pycisTopic\n",
      "\n",
      "# install Mallet (https://github.com/mimno/Mallet)\n",
      "# https://github.com/docker-library/openjdk/blob/0584b2804ed12dca7c5e264b5fc55fc07a3ac148/8-jre/slim/Dockerfile#L51-L54\n",
      "RUN mkdir -p /usr/share/man/man1 && \\\n",
      "    apt-get install -y --no-install-recommends ant openjdk-11-jdk && \\\n",
      "    git clone --depth=1 https://github.com/mimno/Mallet.git /tmp/Mallet && \\\n",
      "    cd /tmp/Mallet && \\\n",
      "    ant\n",
      "\n",
      "# install pycistarget\n",
      "COPY pycistarget /tmp/pycistarget\n",
      "RUN cd /tmp/pycistarget && \\\n",
      "    pip install . && \\\n",
      "    cd .. && rm -rf pycistarget\n",
      "\n",
      "FROM python:3.8-slim AS build-image\n",
      "\n",
      "RUN mkdir -p /usr/share/man/man1 && \\\n",
      "    apt-get -y update && \\\n",
      "    apt-get -y --no-install-recommends install \\\n",
      "        openjdk-11-jdk \\\n",
      "        procps \\\n",
      "        bash-completion \\\n",
      "        curl \\\n",
      "        libfftw3-dev \\\n",
      "        less && \\\n",
      "    rm -rf /var/cache/apt/* && \\\n",
      "    rm -rf /var/lib/apt/lists/*\n",
      "\n",
      "COPY --from=compile-image /opt/venv /opt/venv\n",
      "COPY --from=compile-image /tmp/Mallet /opt/mallet\n",
      "\n",
      "# Make sure we use the virtualenv:\n",
      "ENV PATH=\"/opt/venv/bin:$PATH\"\n",
      "ENV PATH=\"/opt/mallet/bin:$PATH\"\n"
     ]
    }
   ],
   "source": [
    "cat pycisTopic/Dockerfile"
   ]
  },
  {
   "cell_type": "markdown",
   "id": "2c5a5288",
   "metadata": {},
   "source": [
    "you can use docker or podman for the building:"
   ]
  },
  {
   "cell_type": "code",
   "execution_count": 2,
   "id": "371ce434",
   "metadata": {
    "execution": {
     "iopub.execute_input": "2023-04-19T11:48:45.457067Z",
     "iopub.status.busy": "2023-04-19T11:48:45.456809Z",
     "iopub.status.idle": "2023-04-19T11:48:45.712776Z",
     "shell.execute_reply": "2023-04-19T11:48:45.712215Z",
     "shell.execute_reply.started": "2023-04-19T11:48:45.457050Z"
    },
    "tags": []
   },
   "outputs": [],
   "source": [
    "# if you are running docker/podman, they may complain that they don't have enough space. Then, you can create a symlink to a dir where you have space instead\n",
    "# rm -rf ~/.local/share/containers\n",
    "# mkdir -p /staging/leuven/stg_00002/lcb/fderop/system/containers\n",
    "# ln -s /staging/leuven/stg_00002/lcb/fderop/system/containers ~/.local/share/containers "
   ]
  },
  {
   "cell_type": "code",
   "execution_count": 3,
   "id": "87cbb01e",
   "metadata": {
    "execution": {
     "iopub.execute_input": "2023-04-19T11:48:45.800970Z",
     "iopub.status.busy": "2023-04-19T11:48:45.800713Z",
     "iopub.status.idle": "2023-04-19T11:48:45.922650Z",
     "shell.execute_reply": "2023-04-19T11:48:45.921856Z",
     "shell.execute_reply.started": "2023-04-19T11:48:45.800953Z"
    },
    "tags": []
   },
   "outputs": [
    {
     "name": "stdout",
     "output_type": "stream",
     "text": [
      "\u001b[31mERRO\u001b[0m[0000] XDG_RUNTIME_DIR directory \"/run/user/2533042\" is not owned by the current user \n"
     ]
    },
    {
     "ename": "",
     "evalue": "1",
     "output_type": "error",
     "traceback": []
    }
   ],
   "source": [
    "podman build -t aertslab/pycistopic:latest . -f pycisTopic/Dockerfile"
   ]
  },
  {
   "cell_type": "code",
   "execution_count": 4,
   "id": "1dcb9132",
   "metadata": {
    "execution": {
     "iopub.execute_input": "2022-07-14T12:18:02.909659Z",
     "iopub.status.busy": "2022-07-14T12:18:02.909395Z",
     "iopub.status.idle": "2022-07-14T12:18:27.706773Z",
     "shell.execute_reply": "2022-07-14T12:18:27.644290Z",
     "shell.execute_reply.started": "2022-07-14T12:18:02.909642Z"
    },
    "tags": []
   },
   "outputs": [],
   "source": [
    "# Export to oci\n",
    "podman save --format oci-archive --output pycistopic_img.tar localhost/aertslab/pycistopic"
   ]
  },
  {
   "cell_type": "code",
   "execution_count": null,
   "id": "9b85c74e",
   "metadata": {
    "execution": {
     "iopub.execute_input": "2022-07-14T13:15:06.070954Z",
     "iopub.status.busy": "2022-07-14T13:15:06.070755Z"
    },
    "tags": []
   },
   "outputs": [],
   "source": [
    "# Build to singularity\n",
    "singularity build 20220714_pycistopic.sif oci-archive://pycistopic_img.tar"
   ]
  },
  {
   "cell_type": "code",
   "execution_count": null,
   "id": "3c5940f4",
   "metadata": {},
   "outputs": [],
   "source": [
    "podman build -t aertslab/pycistopic:latest . -f pycisTopic/Dockerfile\n",
    "podman save --format oci-archive --output pycistopic_img.tar localhost/aertslab/pycistopic\n",
    "singularity build 20221014_pycistopic.sif oci-archive://pycistopic_img.tar"
   ]
  },
  {
   "cell_type": "code",
   "execution_count": null,
   "id": "284bdfcb-71ea-42a2-b5d2-7c0258f14e83",
   "metadata": {},
   "outputs": [],
   "source": [
    "podman build -t aertslab/pycistopic:latest . -f pycisTopic/Dockerfile\n",
    "podman save --format oci-archive --output pycistopic_img.tar localhost/aertslab/pycistopic\n",
    "singularity build 20230419_pycistopic.sif oci-archive://pycistopic_img.tar"
   ]
  },
  {
   "cell_type": "code",
   "execution_count": null,
   "id": "b19507c5-a6e3-4d1f-9438-133b84b73419",
   "metadata": {},
   "outputs": [],
   "source": [
    "podman build -t aertslab/pycistopic:latest . -f pycisTopic/Dockerfile\n",
    "podman save --format oci-archive --output pycistopic_img.tar localhost/aertslab/pycistopic\n",
    "singularity build 20230504_pycistopic.sif oci-archive://pycistopic_img.tar"
   ]
  },
  {
   "cell_type": "markdown",
   "id": "decd15c8",
   "metadata": {},
   "source": [
    "This sif file is what will be used in python notebooks."
   ]
  }
 ],
 "metadata": {
  "kernelspec": {
   "display_name": "Bash",
   "language": "bash",
   "name": "bash"
  },
  "language_info": {
   "codemirror_mode": "shell",
   "file_extension": ".sh",
   "mimetype": "text/x-sh",
   "name": "bash"
  }
 },
 "nbformat": 4,
 "nbformat_minor": 5
}

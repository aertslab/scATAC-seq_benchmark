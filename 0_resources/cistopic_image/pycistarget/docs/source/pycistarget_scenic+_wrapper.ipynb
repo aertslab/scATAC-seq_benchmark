{
 "cells": [
  {
   "cell_type": "markdown",
   "metadata": {},
   "source": [
    "# Using pycisTarget within the SCENIC+ workflow"
   ]
  },
  {
   "cell_type": "code",
   "execution_count": 1,
   "metadata": {},
   "outputs": [
    {
     "data": {
      "text/plain": [
       "'1.0.1.dev29+g95fd9fb'"
      ]
     },
     "execution_count": 1,
     "metadata": {},
     "output_type": "execute_result"
    }
   ],
   "source": [
    "%matplotlib inline\n",
    "import pycistarget\n",
    "pycistarget.__version__"
   ]
  },
  {
   "cell_type": "markdown",
   "metadata": {},
   "source": [
    "As part of the SCENIC+ workflow we provide a wrapper to run pycistarget with the recommended settings. This approach will run cistarget and DEM, in the original region sets (binarized topics, DARs, ...) and without promoters when indicated (to improve the signal of non-promoter motifs if region sets include a large proportion of promoters). For DEM, we use as background regions in other regions sets in the dictionary. This step can be run using a dataset specific database or a precomputed database."
   ]
  },
  {
   "cell_type": "markdown",
   "metadata": {},
   "source": [
    "## 1. Using a dataset specific database"
   ]
  },
  {
   "cell_type": "markdown",
   "metadata": {},
   "source": [
    "If the consensus regions in the dataset do not overlap with regions in the precomputed database (SCREEN regions for mouse and human, cisTarget regions for Drosophila), we recommend to generate a dataset specific database using the consensus peaks as regions. When using a precomputed database, dataset regions that do not overlap with the precomputed regions will be removed from the analysis, as they will not be found in cistromes."
   ]
  },
  {
   "cell_type": "markdown",
   "metadata": {},
   "source": [
    "As a first step, we need to generate the dataset specific database using the code available at https://github.com/aertslab/create_cisTarget_databases. Below you can find the basic steps to do so:"
   ]
  },
  {
   "cell_type": "code",
   "execution_count": null,
   "metadata": {},
   "outputs": [],
   "source": [
    "%%bash\n",
    "# Paths and parameters\n",
    "consensdir='/staging/leuven/stg_00002/lcb/cbravo/Multiomics_pipeline/analysis/DPCL/data/MACS_ATAC/iterative/peak_filtering_norm'\n",
    "outdir='/staging/leuven/stg_00002/lcb/cbravo/Multiomics_pipeline/analysis/DPCL/ctx_db'\n",
    "tag='cluster_V10_DPCL'\n",
    "genomefa='/staging/leuven/stg_00002/lcb/resources/human/hg38/hg38.fa'\n",
    "ncpu=36\n",
    "cbdir='/staging/leuven/stg_00002/lcb/cbravo/cluster_motif_collection_V10_no_desso_no_factorbook/cluster_buster/'\n",
    "# Create outdir\n",
    "if [ ! -d $outdir ]\n",
    "then\n",
    "    mkdir -p $outdir\n",
    "fi\n",
    "#### List of motifs\n",
    "motif_list='/staging/leuven/stg_00002/lcb/cbravo/cluster_motif_collection_V10_no_desso_no_factorbook/annotated_motifs/motifs-v10-nr.more_orthology.hgnc-mm0.00001-o0.0_clust.tsv'\n",
    "#### Get fasta sequences\n",
    "echo \"Extracting FASTA ...\"\n",
    "module load BEDTools\n",
    "bedtools getfasta -fi $genomefa -bed $consensdir/combined_summits_final.bed > $consensdir/consensus_regions.fa\n",
    "echo \"Done.\"\n",
    "#### Create scores DB\n",
    "echo \"Creating scores DB files ...\"\n",
    "#### Activate environment\n",
    "conda_initialize /staging/leuven/stg_00002/lcb/ghuls/software/miniconda3/\n",
    "conda activate create_cistarget_databases\n",
    "#### Set ${create_cistarget_databases_dir} to https://github.com/aertslab/create_cisTarget_databases\n",
    "create_cistarget_databases_dir='/staging/leuven/stg_00002/lcb/ghuls/software/create_cisTarget_databases'\n",
    "#### Score the motifs in 1 chunks; we will use the non-redundant db here\n",
    "for current_part in {1..1} ; do\n",
    "     ${create_cistarget_databases_dir}/create_cistarget_motif_databases.py \\\n",
    "         -f $consensdir/consensus_regions.fa \\\n",
    "         -M $cbdir \\\n",
    "         -m $motif_list \\\n",
    "         -p ${current_part} 1 \\\n",
    "         -o $outdir/$tag \\\n",
    "         -t 35 \\\n",
    "         -l\n",
    "done\n",
    "echo \"Done.\"\n",
    "#### Create rankings\n",
    "echo \"Creating rankings DB files ...\"\n",
    "${create_cistarget_databases_dir}/convert_motifs_or_tracks_vs_regions_or_genes_scores_to_rankings_cistarget_dbs.py -i $outdir/$tag.motifs_vs_regions.scores.feather -s 555\n",
    "echo \"Done.\"\n",
    "echo \"ALL DONE.\""
   ]
  },
  {
   "cell_type": "markdown",
   "metadata": {},
   "source": [
    "Next you will need to load the region sets you want to include in the analysis. By default, we use binarized topics and DARs, but you can include additional analyses:"
   ]
  },
  {
   "cell_type": "code",
   "execution_count": null,
   "metadata": {},
   "outputs": [],
   "source": [
    "# Load region binarized topics\n",
    "import pickle\n",
    "outDir = '/staging/leuven/stg_00002/lcb/cbravo/Multiomics_pipeline/analysis/DPCL/pycisTopic/'\n",
    "infile = open(outDir+'topic_binarization/binarized_topic_region.pkl', 'rb')\n",
    "binarized_topic_region = pickle.load(infile)\n",
    "infile.close()\n",
    "# Load DARs\n",
    "import pickle\n",
    "infile = open(outDir+'DARs/DARs.pkl', 'rb')\n",
    "DARs_dict = pickle.load(infile)\n",
    "infile.close()\n",
    "# Format region sets\n",
    "import re\n",
    "import pyranges as pr\n",
    "from pycistarget.utils import *\n",
    "region_sets = {}\n",
    "region_sets['Topics'] = {key: pr.PyRanges(region_names_to_coordinates(binarized_topic_region[key].index.tolist())) for key in binarized_topic_region.keys()}\n",
    "region_sets['DARs'] = {re.sub('[^A-Za-z0-9]+', '_', key): pr.PyRanges(region_names_to_coordinates(DARs_dict[key].index.tolist())) for key in DARs_dict.keys()}"
   ]
  },
  {
   "cell_type": "markdown",
   "metadata": {},
   "source": [
    "Finally we run the wrapper function. This will create a menr.pkl file in the output directory that can be directly used as input for SCENIC+."
   ]
  },
  {
   "cell_type": "code",
   "execution_count": null,
   "metadata": {},
   "outputs": [],
   "source": [
    "# Run pycistarget\n",
    "# run_without_promoters = True, will run the methods in all regions + the region sets without promoters\n",
    "import os\n",
    "os.chdir('/staging/leuven/stg_00002/lcb/cbravo/Multiomics_pipeline/scenicplus/src/')\n",
    "from scenicplus.wrappers.run_pycistarget import *\n",
    "run_pycistarget(region_sets,\n",
    "                 ctx_db_path = '/staging/leuven/stg_00002/lcb/cbravo/Multiomics_pipeline/analysis/DPCL/ctx_db/cluster_V10_DPCL.regions_vs_motifs.rankings.feather',\n",
    "                 species = 'homo_sapiens',\n",
    "                 save_path = '/staging/leuven/stg_00002/lcb/cbravo/Multiomics_pipeline/analysis/DPCL/pycistarget/cluster_V10_V2/',\n",
    "                 dem_db_path = '/staging/leuven/stg_00002/lcb/cbravo/Multiomics_pipeline/analysis/DPCL/ctx_db/cluster_V10_DPCL.regions_vs_motifs.scores.feather',\n",
    "                 run_without_promoters = True,\n",
    "                 biomart_host = 'http://www.ensembl.org',\n",
    "                 promoter_space = 500,\n",
    "                 ctx_auc_threshold = 0.005,\n",
    "                 ctx_nes_threshold = 3.0,\n",
    "                 ctx_rank_threshold = 0.05,\n",
    "                 dem_log2fc_thr = 0.5,\n",
    "                 dem_motif_hit_thr = 3.0,\n",
    "                 dem_max_bg_regions = 500,\n",
    "                 path_to_motif_annotations = '/staging/leuven/stg_00002/lcb/cbravo/cluster_motif_collection_V10_no_desso_no_factorbook/snapshots/motifs-v10-nr.more_orthology.hgnc-mm0.00001-o0.0_clust.tsv',\n",
    "                 annotation_version = 'v10nr_clust',\n",
    "                 annotation = ['Direct_annot', 'Orthology_annot'],\n",
    "                 n_cpu = 1,\n",
    "                 _temp_dir = '/scratch/leuven/313/vsc31305/ray_spill')"
   ]
  },
  {
   "cell_type": "markdown",
   "metadata": {},
   "source": [
    "## 2. Using a precomputed database"
   ]
  },
  {
   "cell_type": "markdown",
   "metadata": {},
   "source": [
    "Alternatively you can use a precomputed database. This will reduce the running time as you can skip the generation of a database; however, regions not overlapping regions in the database will be missed. If the overlap is significant (>80%), using this database will give similar results. Precomputed databases are available at https://resources.aertslab.org/cistarget/."
   ]
  },
  {
   "cell_type": "markdown",
   "metadata": {},
   "source": [
    " We first load the region sets as before: "
   ]
  },
  {
   "cell_type": "code",
   "execution_count": null,
   "metadata": {},
   "outputs": [],
   "source": [
    "# Load region binarized topics\n",
    "import pickle\n",
    "outDir = '/staging/leuven/stg_00002/lcb/cbravo/Multiomics_pipeline/analysis/DPCL/pycisTopic/'\n",
    "infile = open(outDir+'topic_binarization/binarized_topic_region.pkl', 'rb')\n",
    "binarized_topic_region = pickle.load(infile)\n",
    "infile.close()\n",
    "# Load DARs\n",
    "import pickle\n",
    "infile = open(outDir+'DARs/DARs.pkl', 'rb')\n",
    "DARs_dict = pickle.load(infile)\n",
    "infile.close()\n",
    "# Format region sets\n",
    "import re\n",
    "import pyranges as pr\n",
    "from pycistarget.utils import *\n",
    "region_sets = {}\n",
    "region_sets['Topics'] = {key: pr.PyRanges(region_names_to_coordinates(binarized_topic_region[key].index.tolist())) for key in binarized_topic_region.keys()}\n",
    "region_sets['DARs'] = {re.sub('[^A-Za-z0-9]+', '_', key): pr.PyRanges(region_names_to_coordinates(DARs_dict[key].index.tolist())) for key in DARs_dict.keys()}"
   ]
  },
  {
   "cell_type": "markdown",
   "metadata": {},
   "source": [
    "Finally, we run the pycistarget wrapper, but using the precomputed database instead."
   ]
  },
  {
   "cell_type": "code",
   "execution_count": null,
   "metadata": {},
   "outputs": [],
   "source": [
    "# Run pycistarget\n",
    "# run_without_promoters = True, will run the methods in all regions + the region sets without promoters\n",
    "import os\n",
    "os.chdir('/staging/leuven/stg_00002/lcb/cbravo/Multiomics_pipeline/scenicplus/src/')\n",
    "from scenicplus.wrappers.run_pycistarget import *\n",
    "run_pycistarget(region_sets,\n",
    "                 ctx_db_path = '/staging/leuven/stg_00002/lcb/cbravo/Multiomics_pipeline/analysis/hg38_SCREEN_cluster_db/cluster_SCREEN.regions_vs_motifs.rankings.feather',\n",
    "                 species = 'homo_sapiens',\n",
    "                 save_path = '/staging/leuven/stg_00002/lcb/cbravo/Multiomics_pipeline/analysis/DPCL/pycistarget/SCREEN_cluster_V10_V2/',\n",
    "                 dem_db_path = '/staging/leuven/stg_00002/lcb/cbravo/Multiomics_pipeline/analysis/hg38_SCREEN_cluster_db/cluster_SCREEN.regions_vs_motifs.scores.feather',\n",
    "                 run_without_promoters = True,\n",
    "                 biomart_host = 'http://www.ensembl.org',\n",
    "                 promoter_space = 500,\n",
    "                 ctx_auc_threshold = 0.005,\n",
    "                 ctx_nes_threshold = 3.0,\n",
    "                 ctx_rank_threshold = 0.05,\n",
    "                 dem_log2fc_thr = 0.5,\n",
    "                 dem_motif_hit_thr = 3.0,\n",
    "                 dem_max_bg_regions = 500,\n",
    "                 path_to_motif_annotations = '/staging/leuven/stg_00002/lcb/cbravo/cluster_motif_collection_V10_no_desso_no_factorbook/snapshots/motifs-v10-nr.more_orthology.hgnc-mm0.00001-o0.0_clust.tsv',\n",
    "                 annotation_version = 'v10nr_clust',\n",
    "                 annotation = ['Direct_annot', 'Orthology_annot'],\n",
    "                 n_cpu = 1,\n",
    "                 _temp_dir = '/scratch/leuven/313/vsc31305/ray_spill')"
   ]
  }
 ],
 "metadata": {
  "kernelspec": {
   "display_name": "DEV IMAGE - SCENIC+ latest (use at own risk)",
   "language": "python",
   "name": "pyscenic_plus_dev"
  },
  "language_info": {
   "codemirror_mode": {
    "name": "ipython",
    "version": 3
   },
   "file_extension": ".py",
   "mimetype": "text/x-python",
   "name": "python",
   "nbconvert_exporter": "python",
   "pygments_lexer": "ipython3",
   "version": "3.8.13"
  }
 },
 "nbformat": 4,
 "nbformat_minor": 4
}

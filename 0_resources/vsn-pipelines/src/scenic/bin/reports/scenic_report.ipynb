{
 "cells": [
  {
   "cell_type": "markdown",
   "metadata": {},
   "source": [
    "# Single-Cell Report: SCENIC results"
   ]
  },
  {
   "cell_type": "code",
   "execution_count": null,
   "metadata": {},
   "outputs": [],
   "source": [
    "# import dependencies\n",
    "import os\n",
    "import numpy as np\n",
    "import pandas as pd\n",
    "import scanpy as sc\n",
    "import loompy as lp\n",
    "import json\n",
    "import base64\n",
    "import zlib\n",
    "from pyscenic.export import add_scenic_metadata\n",
    "from pyscenic.cli.utils import load_signatures\n",
    "import matplotlib as mpl\n",
    "import matplotlib.pyplot as plt\n",
    "from scanpy.plotting._tools.scatterplots import plot_scatter\n",
    "import seaborn as sns\n",
    "from math import ceil\n",
    "from IPython.display import Markdown, display"
   ]
  },
  {
   "cell_type": "code",
   "execution_count": null,
   "metadata": {},
   "outputs": [],
   "source": [
    "def printmd(string):\n",
    "    display(Markdown(string))"
   ]
  },
  {
   "cell_type": "markdown",
   "metadata": {},
   "source": [
    "#### Plotting settings and functions"
   ]
  },
  {
   "cell_type": "code",
   "execution_count": null,
   "metadata": {},
   "outputs": [],
   "source": [
    "# plot settings\n",
    "sc.set_figure_params(dpi=150, fontsize=10, dpi_save=600)"
   ]
  },
  {
   "cell_type": "code",
   "execution_count": null,
   "metadata": {},
   "outputs": [],
   "source": [
    "# used for plotting DRs:\n",
    "def colorMap( x, palette='tab20' ):\n",
    "    import natsort\n",
    "    from collections import OrderedDict\n",
    "    #\n",
    "    n=len(set(x))\n",
    "    cpalette = sns.color_palette(palette,n_colors=n )\n",
    "    cdict = dict( zip( list(set(x)), cpalette ))\n",
    "    cmap = [ cdict[i] for i in x ]\n",
    "    cdict = OrderedDict( natsort.natsorted(cdict.items()) )\n",
    "    return cmap,cdict\n",
    "\n",
    "def drplot( dr, colorlab, ax, palette='tab20', title=None, **kwargs ):\n",
    "    cmap,cdict = colorMap( colorlab, palette )\n",
    "    for lab,col in cdict.items():  \n",
    "        ix = colorlab.loc[colorlab==lab].index\n",
    "        ax.scatter( dr['X'][ix], dr['Y'][ix], c=[col]*len(ix), alpha=0.7, label=lab, edgecolors='none')\n",
    "    if( title is not None ):\n",
    "        ax.set_title(title, fontsize='x-large');\n",
    "    #\n",
    "    ax.set_xticks([])\n",
    "    ax.set_yticks([])\n",
    "    ax.spines['top'].set_visible(False)\n",
    "    ax.spines['right'].set_visible(False)\n",
    "    ax.spines['bottom'].set_visible(False)\n",
    "    ax.spines['left'].set_visible(False)\n"
   ]
  },
  {
   "cell_type": "code",
   "execution_count": null,
   "metadata": {},
   "outputs": [],
   "source": [
    "# used for heatmap\n",
    "def palplot(pal, names, colors=None, size=1):\n",
    "    n = len(pal)\n",
    "    f, ax = plt.subplots(1, 1, figsize=(n * size, size))\n",
    "    ax.imshow(np.arange(n).reshape(1, n),\n",
    "              cmap=mpl.colors.ListedColormap(list(pal)),\n",
    "              interpolation=\"nearest\", aspect=\"auto\")\n",
    "    ax.set_xticks(np.arange(n) - .5)\n",
    "    ax.set_yticks([-.5, .5])\n",
    "    ax.set_xticklabels([])\n",
    "    ax.set_yticklabels([])\n",
    "    colors = n * ['k'] if colors is None else colors\n",
    "    for idx, (name, color) in enumerate(zip(names, colors)):\n",
    "        ax.text(0.0+idx, 0.0, name, color=color, horizontalalignment='center', verticalalignment='center')\n",
    "    return f"
   ]
  },
  {
   "cell_type": "code",
   "execution_count": null,
   "metadata": {},
   "outputs": [],
   "source": [
    "# regulon size barplot\n",
    "def plotRegulonSize( rlen, title ):\n",
    "    x=np.arange(rlen.shape[0])\n",
    "\n",
    "    fig,ax = plt.subplots(figsize=(5,5), dpi=150)\n",
    "    ax.barh( y=x, width=rlen)\n",
    "\n",
    "    ax.set_yticks(x)#, rlen.index) #, rotation=0)\n",
    "    ax.set_yticklabels(rlen.index, minor=False)\n",
    "    ax.set_xlabel(\"# of target genes\")\n",
    "    ax.set_ylabel(\"Transcription factor\")\n",
    "    ax.set_ylim((-1,x.max()+1))\n",
    "    ax.set_title(title)\n",
    "\n",
    "    for i, v in enumerate(rlen):\n",
    "        ax.text(v + 0, i-0.1, str(v), color='blue', fontweight='bold',fontsize=10)\n",
    "\n",
    "    plt.rc('ytick', labelsize=10)\n",
    "\n",
    "    plt.tight_layout()\n",
    "    plt.show()"
   ]
  },
  {
   "cell_type": "markdown",
   "metadata": {},
   "source": [
    "## Extract relevant data from the integrated loom file"
   ]
  },
  {
   "cell_type": "code",
   "execution_count": null,
   "metadata": {},
   "outputs": [],
   "source": [
    "# scenic output\n",
    "lf = lp.connect( FILE, mode='r', validate=False )\n",
    "ca_cell_id = lf.ca.CellID\n",
    "ca_clusterings = lf.ca.Clusterings\n",
    "meta = json.loads(lf.attrs[\"MetaData\"])\n",
    "#exprMat = pd.DataFrame( lf[:,:], index=lf.ra.Gene, columns=lf.ca.CellID).T\n",
    "if \"RegulonsAUC\" in lf.ca.keys():\n",
    "    auc_mtx = pd.DataFrame(lf.ca.RegulonsAUC, index=lf.ca.CellID)\n",
    "else:\n",
    "    print(\"Loom with motif & track regulons detected, merging the regulons AUC matrices...\")\n",
    "    mtf_auc_mtx = pd.DataFrame(lf.ca.MotifRegulonsAUC, index=lf.ca.CellID)\n",
    "    trk_auc_mtx = pd.DataFrame(lf.ca.TrackRegulonsAUC, index=lf.ca.CellID)\n",
    "    # merge the AUC matrices:\n",
    "    auc_mtx = pd.concat([mtf_auc_mtx, trk_auc_mtx], sort=False, axis=1, join='outer')\n",
    "    # fill NAs (if any) with 0s:\n",
    "    auc_mtx.fillna(0, inplace=True)"
   ]
  },
  {
   "cell_type": "code",
   "execution_count": null,
   "metadata": {},
   "outputs": [],
   "source": [
    "# create a dictionary of regulons:\n",
    "regulons = {}\n",
    "if \"Regulons\" in lf.ra.keys():\n",
    "    for i,r in pd.DataFrame(lf.ra.Regulons,index=lf.ra.Gene).iteritems():\n",
    "        regulons[i] =  list(r[r==1].index.values)\n",
    "elif \"MotifRegulons\" in lf.ra.keys() and \"TrackRegulons\" in lf.ra.keys():\n",
    "    if \"MotifRegulons\" in lf.ra.keys():\n",
    "        for i,r in pd.DataFrame(lf.ra.MotifRegulons,index=lf.ra.Gene).iteritems():\n",
    "            regulons[i] =  list(r[r==1].index.values)\n",
    "    if \"TrackRegulons\" in lf.ra.keys():\n",
    "        for i,r in pd.DataFrame(lf.ra.TrackRegulons,index=lf.ra.Gene).iteritems():\n",
    "            regulons[i] =  list(r[r==1].index.values)\n",
    "else:\n",
    "    print(f\"No regulon information found in the loom: {FILE}...\")\n",
    "    exit(1)"
   ]
  },
  {
   "cell_type": "code",
   "execution_count": null,
   "metadata": {},
   "outputs": [],
   "source": [
    "# capture embeddings:\n",
    "dr = [\n",
    "    pd.DataFrame( lf.ca.Embedding, index=lf.ca.CellID )\n",
    "]\n",
    "dr_names = [\n",
    "    meta['embeddings'][0]['name'].replace(\" \",\"_\")\n",
    "]\n",
    "\n",
    "# add other embeddings\n",
    "drx = pd.DataFrame( lf.ca.Embeddings_X, index=lf.ca.CellID )\n",
    "dry = pd.DataFrame( lf.ca.Embeddings_Y, index=lf.ca.CellID )\n",
    "\n",
    "for i in range( len(drx.columns) ):\n",
    "    if drx.columns[i] == '-1':\n",
    "        continue\n",
    "    dr.append(\n",
    "        pd.concat(\n",
    "            [ drx.iloc[:,i], dry.iloc[:,i] ],\n",
    "            sort=False, axis=1, join='outer' )\n",
    "    )\n",
    "    dr_names.append(\n",
    "        list(filter(lambda e: str(e['id']) == drx.columns[i], meta['embeddings']))[0]['name']\n",
    "    )\n",
    "\n",
    "# rename columns:\n",
    "for i,x in enumerate( dr ):\n",
    "    x.columns = ['X','Y']"
   ]
  },
  {
   "cell_type": "code",
   "execution_count": null,
   "metadata": {},
   "outputs": [],
   "source": [
    "lf.close()"
   ]
  },
  {
   "cell_type": "markdown",
   "metadata": {},
   "source": [
    "#### Load this data into a `scanpy.AnnData` object\n",
    "\n",
    "This can be done directly from the integrated loom file, with a few modifications to allow for SCENIC- and SCope-specific loom attributes:"
   ]
  },
  {
   "cell_type": "code",
   "execution_count": null,
   "metadata": {},
   "outputs": [],
   "source": [
    "adata = sc.read( FILE, validate=False)\n",
    "\n",
    "adata.obs.drop( ['Embedding','Embeddings_X','Embeddings_Y'], axis=1, inplace=True )\n",
    "# drop the embeddings and extra attributes from the obs object\n",
    "if \"Regulons\" in adata.obs.keys():\n",
    "    adata.obs.drop( ['RegulonsAUC'], axis=1, inplace=True )\n",
    "elif \"MotifRegulons\" in adata.obs.keys() and \"TrackRegulons\" in adata.obs.keys():\n",
    "    adata.obs.drop( ['MotifRegulonsAUC', 'TrackRegulonsAUC'], axis=1, inplace=True )\n",
    "else:\n",
    "    exit(1)"
   ]
  },
  {
   "cell_type": "code",
   "execution_count": null,
   "metadata": {},
   "outputs": [],
   "source": [
    "# add the embeddings into the adata.obsm object\n",
    "for i,x in enumerate( dr ):\n",
    "    adata.obsm[ 'X_'+dr_names[i] ] = x.as_matrix()"
   ]
  },
  {
   "cell_type": "code",
   "execution_count": null,
   "metadata": {},
   "outputs": [],
   "source": [
    "sc.utils.sanitize_anndata( adata )"
   ]
  },
  {
   "cell_type": "markdown",
   "metadata": {},
   "source": [
    "---\n",
    "# Regulon summary"
   ]
  },
  {
   "cell_type": "code",
   "execution_count": null,
   "metadata": {},
   "outputs": [],
   "source": [
    "print(\n",
    "f\"There are {len(regulons)} total regulons\")"
   ]
  },
  {
   "cell_type": "markdown",
   "metadata": {},
   "source": [
    "#### Show the top 20 and bottom 20 regulons by size"
   ]
  },
  {
   "cell_type": "code",
   "execution_count": null,
   "metadata": {},
   "outputs": [],
   "source": [
    "rlen = pd.Series( [len(x) for x in regulons.values()], index=regulons.keys() ).sort_values(ascending=True)\n",
    "\n",
    "plotRegulonSize(rlen.tail(20),\"20 largest regulons\")\n",
    "plotRegulonSize(rlen.head(20),\"20 smallest regulons\")"
   ]
  },
  {
   "cell_type": "markdown",
   "metadata": {},
   "source": [
    "# Dimensionality reduction plots across all clusterings"
   ]
  },
  {
   "cell_type": "markdown",
   "metadata": {},
   "source": [
    "### Show all dimensionality reduction plots with all clusterings clustering side-by-side"
   ]
  },
  {
   "cell_type": "code",
   "execution_count": null,
   "metadata": {},
   "outputs": [],
   "source": [
    "for clustering in meta[\"clusterings\"]:\n",
    "    name = clustering[\"name\"]\n",
    "    clusters = pd.Series(ca_clusterings[str(clustering[\"id\"])], index=ca_cell_id)\n",
    "    plt.rcParams.update({'font.size':10})\n",
    "    fig, (axs) = plt.subplots(ceil(len(dr)/2),2, figsize=(10,10), dpi=100 )\n",
    "    for i in range(0, len(dr)):\n",
    "        drplot(\n",
    "            dr[i], colorlab=clusters, ax=axs[int(i/2)][i%2], palette='tab20', s=2, \n",
    "            title=dr_names[i].replace(\"HVG\", \"Highly variable genes\").replace(\"_\", \" \") \n",
    "        )\n",
    "    handles, labels = axs[0][1].get_legend_handles_labels()\n",
    "    leg = fig.legend(\n",
    "        handles, labels, loc='upper right', bbox_to_anchor=(1.2, 1), ncol=2, markerscale=2, \n",
    "        fontsize='large', frameon=False, title=f\"{name}\\nclusters\"\n",
    "    )\n",
    "    fig.suptitle(name, fontsize=14, y=1.02)\n",
    "    fig.tight_layout()"
   ]
  },
  {
   "cell_type": "markdown",
   "metadata": {},
   "source": [
    "# Regulon specificity scores (RSS) across all clusterings"
   ]
  },
  {
   "cell_type": "code",
   "execution_count": null,
   "metadata": {},
   "outputs": [],
   "source": [
    "from pyscenic.rss import regulon_specificity_scores\n",
    "from pyscenic.plotting import plot_rss\n",
    "import matplotlib.pyplot as plt\n",
    "from adjustText import adjust_text\n",
    "import seaborn as sns"
   ]
  },
  {
   "cell_type": "markdown",
   "metadata": {},
   "source": [
    "### RSS panel plot with all cell types"
   ]
  },
  {
   "cell_type": "code",
   "execution_count": null,
   "metadata": {},
   "outputs": [],
   "source": [
    "for clustering in meta[\"clusterings\"]:\n",
    "    printmd(f'#### {clustering[\"name\"]}')\n",
    "    clusters = pd.Series(ca_clusterings[str(clustering[\"id\"])], index=ca_cell_id)\n",
    "    cats = sorted(list(set(clusters)))\n",
    "    fig_ncols = 5\n",
    "    fig_nrows = ceil(len(cats)/fig_ncols)\n",
    "    fig_asp = 3.75 # final figure aspect ratio\n",
    "\n",
    "    ## ############\n",
    "    # Calculate RSS\n",
    "    rss = regulon_specificity_scores( auc_mtx, clusters )\n",
    "    \n",
    "    fig = plt.figure(figsize=(15,15/fig_asp*fig_nrows) )\n",
    "    for c,num in zip(cats, range(1,len(cats)+1)):\n",
    "        x=rss.T[c]\n",
    "        ax = fig.add_subplot(fig_nrows,fig_ncols,num)\n",
    "        plot_rss(rss, c, top_n=5, max_n=50, ax=ax)\n",
    "        yr = [ x.sort_values(ascending=False)[:50].min(), x.max() ]\n",
    "        ax.set_ylim( yr[0] - (yr[1]-yr[0])*0.05 , yr[1] + (yr[1]-yr[0])*0.05 )\n",
    "        #ax.set_ylim( x.min()-(x.max()-x.min())*0.05 , x.max()+(x.max()-x.min())*0.05 )\n",
    "        for t in ax.texts:\n",
    "            t.set_fontsize(12)\n",
    "        ax.set_ylabel('')\n",
    "        ax.set_xlabel('')\n",
    "        adjust_text(ax.texts, autoalign='xy', ha='right', arrowprops=dict(arrowstyle='-',color='lightgrey'), precision=0.001 )\n",
    "\n",
    "    fig.text(0.5, 0.0, 'Regulon', ha='center', va='center', size='x-large')\n",
    "    fig.text(0.00, 0.5, 'Regulon specificity score (RSS)', ha='center', va='center', rotation='vertical', size='x-large')\n",
    "    plt.tight_layout()\n",
    "    plt.rcParams.update({\n",
    "        'figure.autolayout': True,\n",
    "            'figure.titlesize': 'large' ,\n",
    "            'xtick.labelsize':'large',\n",
    "            'ytick.labelsize':'large'\n",
    "            })\n",
    "    plt.show()"
   ]
  },
  {
   "cell_type": "markdown",
   "metadata": {},
   "source": [
    "### AUC Heatmap - Top 5 regulons from each cell type"
   ]
  },
  {
   "cell_type": "code",
   "execution_count": null,
   "metadata": {},
   "outputs": [],
   "source": [
    "for clustering in meta[\"clusterings\"]:\n",
    "    printmd(f'#### {clustering[\"name\"]}')\n",
    "    clusters = pd.Series(ca_clusterings[str(clustering[\"id\"])], index=ca_cell_id)\n",
    "    cats = sorted(list(set(clusters)))\n",
    "    ## ############\n",
    "    # Calculate RSS\n",
    "    rss = regulon_specificity_scores( auc_mtx, clusters )\n",
    "    ###########################################\n",
    "    # Select top 5 regulons from each cell type\n",
    "    topreg = []\n",
    "    for i,c in enumerate(cats):\n",
    "        topreg.extend(\n",
    "            list(rss.T[c].sort_values(ascending=False)[:5].index)\n",
    "        )\n",
    "    topreg = list(set(topreg))\n",
    "    ###########################################################################\n",
    "    # Generate a Z-score for each regulon to enable comparison between regulons\n",
    "    auc_mtx_Z = pd.DataFrame( index=auc_mtx.index )\n",
    "    for col in list(auc_mtx.columns):\n",
    "        auc_mtx_Z[ col ] = ( auc_mtx[col] - auc_mtx[col].mean()) / auc_mtx[col].std(ddof=0)\n",
    "    #auc_mtx_Z.sort_index(inplace=True)\n",
    "    ###################\n",
    "    # Generate heatmap\n",
    "    # generate a color map:\n",
    "    cmap,cdict = colorMap( clusters, 'tab20' )\n",
    "    sns.set()\n",
    "    sns.set(font_scale=0.8)\n",
    "    fig = palplot( cdict.values(), cats, size=1.0)\n",
    "    g = sns.clustermap(\n",
    "        auc_mtx_Z[topreg].T, annot=False,  square=False, \n",
    "        linecolor='gray', xticklabels=False, vmin=-2, vmax=6,\n",
    "        col_colors=cmap, #colormap,\n",
    "        cmap=\"YlGnBu\", figsize=(21,16) \n",
    "    )\n",
    "    sns.set(font_scale=1.1)\n",
    "    g.fig.suptitle(clustering[\"name\"])\n",
    "    g.cax.set_visible(True)\n",
    "    g.ax_heatmap.set_ylabel('')    \n",
    "    g.ax_heatmap.set_xlabel('')"
   ]
  }
 ],
 "metadata": {
  "kernelspec": {
   "display_name": "Python 3",
   "language": "python",
   "name": "python3"
  },
  "language_info": {
   "codemirror_mode": {
    "name": "ipython",
    "version": 3
   },
   "file_extension": ".py",
   "mimetype": "text/x-python",
   "name": "python",
   "nbconvert_exporter": "python",
   "pygments_lexer": "ipython3",
   "version": "3.6.8"
  }
 },
 "nbformat": 4,
 "nbformat_minor": 4
}

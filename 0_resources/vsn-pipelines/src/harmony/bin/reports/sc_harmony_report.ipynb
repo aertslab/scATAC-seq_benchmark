{
 "cells": [
  {
   "cell_type": "markdown",
   "metadata": {},
   "source": [
    "# Single-Cell Report: Harmony Batch Correction"
   ]
  },
  {
   "cell_type": "code",
   "execution_count": null,
   "metadata": {},
   "outputs": [],
   "source": [
    "# Import packages\n",
    "import scanpy as sc\n",
    "import numpy as np\n",
    "import matplotlib.pyplot as plt\n",
    "import random\n",
    "import json\n",
    "import os"
   ]
  },
  {
   "cell_type": "code",
   "execution_count": null,
   "metadata": {},
   "outputs": [],
   "source": [
    "# To run outside VSN framework\n",
    "# PRE_BEC_H5AD=os.join(\"../data/intermediate\", PRE_BEC_H5AD)\n",
    "# POST_BEC_H5AD=os.join(\"../data/intermediate\", POST_BEC_H5AD)"
   ]
  },
  {
   "cell_type": "code",
   "execution_count": null,
   "metadata": {},
   "outputs": [],
   "source": [
    "PRE_BEC_H5AD=FILE1\n",
    "POST_BEC_H5AD=FILE2"
   ]
  },
  {
   "cell_type": "code",
   "execution_count": null,
   "metadata": {},
   "outputs": [],
   "source": [
    "params = json.loads(WORKFLOW_PARAMETERS)\n",
    "bec_params = params[\"tools\"][\"harmony\"]\n",
    "batch = bec_params[\"varsUse\"][0] if \"varsUse\" in bec_params else \"sample_id\""
   ]
  },
  {
   "cell_type": "markdown",
   "metadata": {},
   "source": [
    "#### Plotting settings and functions"
   ]
  },
  {
   "cell_type": "code",
   "execution_count": null,
   "metadata": {},
   "outputs": [],
   "source": [
    "# plot settings\n",
    "sc.set_figure_params(dpi=150, fontsize=10, dpi_save=600)"
   ]
  },
  {
   "cell_type": "code",
   "execution_count": null,
   "metadata": {},
   "outputs": [],
   "source": [
    "def barPlotByAnnotation( obs, axis1, axis2, title, clustering_algorithm, annotation):\n",
    "    cluster_by_anno = obs.groupby(by=[clustering_algorithm, annotation]).size().unstack()\n",
    "    cluster_by_anno.columns = [f\"{c} (n={sum((obs[annotation] == c))})\" for c in cluster_by_anno.columns]\n",
    "    cluster_by_anno.index = [int(n) + 1 for n in cluster_by_anno.index]\n",
    "    cluster_by_anno_norm = (cluster_by_anno/cluster_by_anno.sum()) * 100\n",
    "    cluster_by_anno_norm.plot(kind='bar', stacked=False, fontsize=8, width=.7, grid=False, ax=axis1)\n",
    "    axis1.set_ylabel(f'Percentage of {annotation.capitalize()} (%)');\n",
    "    axis1.set_title(title)\n",
    "    axis1.legend(fancybox=True, framealpha=0.5, loc='right', bbox_to_anchor=(1.15, 0.5))\n",
    "    (cluster_by_anno.divide(cluster_by_anno.sum(axis=1), axis='rows') * 100).plot(kind='bar', stacked=True, fontsize=8, width=.75, grid=False, ax=axis2)\n",
    "    #axis1.xticks\n",
    "    axis2.set_ylabel('Percent of Cluster (%)');\n",
    "    axis2.set_title(title)\n",
    "    axis2.legend(fancybox=True, framealpha=0.5, loc='right', bbox_to_anchor=(1.15, 0.5))"
   ]
  },
  {
   "cell_type": "markdown",
   "metadata": {},
   "source": [
    "#### Read Data"
   ]
  },
  {
   "cell_type": "code",
   "execution_count": null,
   "metadata": {},
   "outputs": [],
   "source": [
    "adata1 = sc.read_h5ad(filename=PRE_BEC_H5AD)\n",
    "adata2 = sc.read_h5ad(filename=POST_BEC_H5AD)"
   ]
  },
  {
   "cell_type": "code",
   "execution_count": null,
   "metadata": {},
   "outputs": [],
   "source": [
    "# shuffle the cells in the matrix to avoid batch overplotting\n",
    "cellID1 = list(adata1.obs_names)\n",
    "random.shuffle(cellID1)\n",
    "adata1 = adata1[cellID1]\n",
    "\n",
    "cellID2 = list(adata2.obs_names)\n",
    "random.shuffle(cellID2)\n",
    "adata2 = adata2[cellID2]"
   ]
  },
  {
   "cell_type": "code",
   "execution_count": null,
   "metadata": {},
   "outputs": [],
   "source": [
    "# Add by default sample_id as annotation to plot on top of the cell embeddings\n",
    "if \"sample_id\" in adata1.obs.keys() and \"sample_id\" in adata2.obs.keys():\n",
    "    if len(np.unique(adata1.obs.sample_id)) < 256 and len(np.unique(adata2.obs.sample_id)) < 256:\n",
    "        annotations_to_plot = annotations_to_plot if batch == \"sample_id\" else annotations_to_plot + [\"sample_id\"]"
   ]
  },
  {
   "cell_type": "code",
   "execution_count": null,
   "metadata": {},
   "outputs": [],
   "source": [
    "# Check all annotations are in the 2 adata files\n",
    "for i,v in enumerate(range(len(annotations_to_plot))):\n",
    "    if annotations_to_plot[i] not in adata1.obs.keys():\n",
    "        raise Exception(f\"The annotation {annotations_to_plot[i]} is not present in {PRE_BEC_H5AD}.\")\n",
    "    if annotations_to_plot[i] not in adata2.obs.keys():\n",
    "        raise Exception(f\"The annotation {annotations_to_plot[i]} is not present in {POST_BEC_H5AD}.\")"
   ]
  },
  {
   "cell_type": "markdown",
   "metadata": {},
   "source": [
    "---\n",
    "## Batch effect correction"
   ]
  },
  {
   "cell_type": "code",
   "execution_count": null,
   "metadata": {},
   "outputs": [],
   "source": [
    "clustering_algorithm = ''\n",
    "if 'louvain' in adata1.uns:\n",
    "    clustering_algorithm = 'louvain'\n",
    "elif 'leiden' in adata1.uns:\n",
    "    clustering_algorithm = 'leiden'\n",
    "else:\n",
    "    print(\"Invalid clustering algorithm!\")"
   ]
  },
  {
   "cell_type": "code",
   "execution_count": null,
   "metadata": {},
   "outputs": [],
   "source": [
    "print(f\"{clustering_algorithm.capitalize()} resolution: {adata1.uns[clustering_algorithm]['params']['resolution']}\")"
   ]
  },
  {
   "cell_type": "markdown",
   "metadata": {},
   "source": [
    "### t-SNE"
   ]
  },
  {
   "cell_type": "code",
   "execution_count": null,
   "metadata": {},
   "outputs": [],
   "source": [
    "a = 0.6 # alpha setting\n",
    "number_of_subplots=len(annotations_to_plot)\n",
    "\n",
    "for i,v in enumerate(range(number_of_subplots)):\n",
    "    fig, (axs) = plt.subplots(1,2, figsize=(10,5), dpi=150 )\n",
    "    annotation_to_plot = annotations_to_plot[i]\n",
    "    ax1 = sc.pl.tsne(adata1, color=annotation_to_plot, alpha=a, ax=axs[0], show=False, wspace=0.5)\n",
    "    ax1.legend(fancybox=True, framealpha=0.5, loc='right', bbox_to_anchor=(1.15, 0.5))\n",
    "    ax1.set_title(f\"Pre-batch correction ({annotation_to_plot})\")\n",
    "    ax2 = sc.pl.tsne(adata2, color=annotation_to_plot, alpha=a, ax=axs[1], show=False, wspace=0.5)\n",
    "    ax2.legend(fancybox=True, framealpha=0.5, loc='right', bbox_to_anchor=(1.15, 0.5))\n",
    "    ax2.set_title(f\"Post-batch correction ({annotation_to_plot})\")\n",
    "    plt.tight_layout()"
   ]
  },
  {
   "cell_type": "code",
   "execution_count": null,
   "metadata": {},
   "outputs": [],
   "source": [
    "fig, ((ax1,ax2), (ax3,ax4)) = plt.subplots(2,2, figsize=(10,10), dpi=150 )\n",
    "ax1 = sc.pl.tsne(adata1, color=batch, alpha=a, ax=ax1, show=False, wspace=0.5, title='batch')\n",
    "ax2 = sc.pl.tsne(adata2, color=batch, alpha=a, ax=ax2, show=False, wspace=0.5, title='batch')\n",
    "ax1.legend(fancybox=True, framealpha=0.5, loc='right', bbox_to_anchor=(1.15, 0.5))\n",
    "ax2.legend(fancybox=True, framealpha=0.5, loc='right', bbox_to_anchor=(1.15, 0.5))\n",
    "sc.pl.tsne(adata1, color=clustering_algorithm, alpha=a, palette=sc.pl.palettes.godsnot_102, ax=ax3, show=False, wspace=0.5)\n",
    "sc.pl.tsne(adata2, color=clustering_algorithm, alpha=a, palette=sc.pl.palettes.godsnot_102, ax=ax4, show=False, wspace=0.5)\n",
    "\n",
    "ax1.set_title('Pre-batch correction (batch)')\n",
    "ax2.set_title('Post-batch correction (batch)')\n",
    "ax3.set_title(f'Pre-batch correction ({clustering_algorithm.capitalize()})')\n",
    "ax4.set_title(f'Post-batch correction ({clustering_algorithm.capitalize()})')\n",
    "#\n",
    "plt.tight_layout()"
   ]
  },
  {
   "cell_type": "markdown",
   "metadata": {},
   "source": [
    "### UMAP"
   ]
  },
  {
   "cell_type": "code",
   "execution_count": null,
   "metadata": {},
   "outputs": [],
   "source": [
    "a = 0.6 # alpha setting\n",
    "number_of_subplots=len(annotations_to_plot)\n",
    "\n",
    "for i,v in enumerate(range(number_of_subplots)):\n",
    "    fig, (axs) = plt.subplots(1,2, figsize=(10,5), dpi=150 )\n",
    "    annotation_to_plot = annotations_to_plot[i]\n",
    "    ax1 = sc.pl.umap(adata1, color=annotation_to_plot, alpha=a, ax=axs[0], show=False, wspace=0.5)\n",
    "    ax1.legend(fancybox=True, framealpha=0.5, loc='right', bbox_to_anchor=(1.15, 0.5))\n",
    "    ax1.set_title(f\"Pre-batch correction ({annotation_to_plot})\")\n",
    "    ax2 = sc.pl.umap(adata2, color=annotation_to_plot, alpha=a, ax=axs[1], show=False, wspace=0.5)\n",
    "    ax2.legend(fancybox=True, framealpha=0.5, loc='right', bbox_to_anchor=(1.15, 0.5))\n",
    "    ax2.set_title(f\"Post-batch correction ({annotation_to_plot})\")\n",
    "    plt.tight_layout()"
   ]
  },
  {
   "cell_type": "code",
   "execution_count": null,
   "metadata": {},
   "outputs": [],
   "source": [
    "fig, ((ax1,ax2), (ax3,ax4)) = plt.subplots(2,2, figsize=(10,10), dpi=150 )\n",
    "ax1 = sc.pl.umap(adata1, color=batch, alpha=a, ax=ax1, show=False, wspace=0.5, title='batch')\n",
    "ax2 = sc.pl.umap(adata2, color=batch, alpha=a, ax=ax2, show=False, wspace=0.5, title='batch')\n",
    "ax1.legend(fancybox=True, framealpha=0.5, loc='right', bbox_to_anchor=(1.15, 0.5))\n",
    "ax2.legend(fancybox=True, framealpha=0.5, loc='right', bbox_to_anchor=(1.15, 0.5))\n",
    "sc.pl.umap(adata1, color=clustering_algorithm, alpha=a, palette=sc.pl.palettes.godsnot_102, ax=ax3, show=False, wspace=0.5)\n",
    "sc.pl.umap(adata2, color=clustering_algorithm, alpha=a, palette=sc.pl.palettes.godsnot_102, ax=ax4, show=False, wspace=0.5)\n",
    "\n",
    "ax1.set_title('Pre-batch correction (batch)')\n",
    "ax2.set_title('Post-batch correction (batch)')\n",
    "ax3.set_title(f'Pre-batch correction ({clustering_algorithm.capitalize()})')\n",
    "ax4.set_title(f'Post-batch correction ({clustering_algorithm.capitalize()})')\n",
    "#\n",
    "plt.tight_layout()"
   ]
  },
  {
   "cell_type": "markdown",
   "metadata": {},
   "source": [
    "#### Cluster membership by batch\n",
    "\n",
    "The following plots show how the batches distribute in each predicted Louvain cluster. The proportion of cells from each batch that belong to a particular cluster are shown in the top row (percentage of batch), pre- and post filtering. The bottom row (percent of cluster) shows the batch composition of each cluster, pre- and post filtering. In the pre-batch correction plots, clusters tend to be based on batch, while post-batch correction, there is a more even distribution of batches in each cluster."
   ]
  },
  {
   "cell_type": "code",
   "execution_count": null,
   "metadata": {},
   "outputs": [],
   "source": [
    "for annotation_to_plot in annotations_to_plot:\n",
    "    fig, ((ax1,ax2),(ax3,ax4)) = plt.subplots(2,2, figsize=(15,8), dpi=150 )\n",
    "    barPlotByAnnotation(adata1.obs, axis1=ax1, axis2=ax3, title=f\"Pre-batch correction ({annotation_to_plot})\", clustering_algorithm=clustering_algorithm, annotation=annotation_to_plot)\n",
    "    barPlotByAnnotation(adata2.obs, axis1=ax2, axis2=ax4, title=f\"Post-batch correction ({annotation_to_plot})\", clustering_algorithm=clustering_algorithm, annotation=annotation_to_plot)\n",
    "    plt.tight_layout()"
   ]
  },
  {
   "cell_type": "code",
   "execution_count": null,
   "metadata": {},
   "outputs": [],
   "source": [
    "fig, ((ax1,ax2),(ax3,ax4)) = plt.subplots(2,2, figsize=(15,8), dpi=150 )\n",
    "barPlotByAnnotation(adata1.obs, axis1=ax1, axis2=ax3, title=\"Pre-batch correction (batch)\", clustering_algorithm=clustering_algorithm, annotation=batch)\n",
    "barPlotByAnnotation(adata2.obs, axis1=ax2, axis2=ax4, title=\"Post-batch correction (batch)\", clustering_algorithm=clustering_algorithm, annotation=batch)\n",
    "plt.tight_layout()"
   ]
  }
 ],
 "metadata": {
  "kernelspec": {
   "display_name": "Python 3",
   "language": "python",
   "name": "python3"
  },
  "language_info": {
   "codemirror_mode": {
    "name": "ipython",
    "version": 3
   },
   "file_extension": ".py",
   "mimetype": "text/x-python",
   "name": "python",
   "nbconvert_exporter": "python",
   "pygments_lexer": "ipython3",
   "version": "3.6.8"
  }
 },
 "nbformat": 4,
 "nbformat_minor": 4
}
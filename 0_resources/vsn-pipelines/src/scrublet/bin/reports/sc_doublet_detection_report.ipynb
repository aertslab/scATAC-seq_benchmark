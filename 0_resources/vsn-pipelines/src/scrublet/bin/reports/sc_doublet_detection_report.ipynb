{
 "cells": [
  {
   "cell_type": "markdown",
   "metadata": {},
   "source": [
    "# Single-Cell Report: Scrublet - Doublet Detection"
   ]
  },
  {
   "cell_type": "code",
   "execution_count": null,
   "metadata": {},
   "outputs": [],
   "source": [
    "# Import packages\n",
    "import numpy as np\n",
    "import scanpy as sc\n",
    "import scrublet as scr\n",
    "import matplotlib.pyplot as plt\n",
    "import gzip\n",
    "import pickle"
   ]
  },
  {
   "cell_type": "code",
   "execution_count": null,
   "metadata": {},
   "outputs": [],
   "source": [
    "sc.set_figure_params(dpi=150, fontsize=10, dpi_save=600)"
   ]
  },
  {
   "cell_type": "code",
   "execution_count": null,
   "metadata": {},
   "outputs": [],
   "source": [
    "f = gzip.open(SCRUBLET_OBJECT_FILE,'rb')\n",
    "scrub = pickle.load(f)\n",
    "f.close()"
   ]
  },
  {
   "cell_type": "code",
   "execution_count": null,
   "metadata": {},
   "outputs": [],
   "source": [
    "adata_sl = sc.read_h5ad(H5AD_WITH_SCRUBLET_INFO)"
   ]
  },
  {
   "cell_type": "code",
   "execution_count": null,
   "metadata": {},
   "outputs": [],
   "source": [
    "adata_dr = sc.read_h5ad(H5AD_WITH_DIM_RED)"
   ]
  },
  {
   "cell_type": "code",
   "execution_count": null,
   "metadata": {},
   "outputs": [],
   "source": [
    "print(adata_dr.obs.isna().sum())"
   ]
  },
  {
   "cell_type": "markdown",
   "metadata": {},
   "source": [
    "## Merge data"
   ]
  },
  {
   "cell_type": "code",
   "execution_count": null,
   "metadata": {},
   "outputs": [],
   "source": [
    "# Keep only Scrublet columns from the Scrublet AnnData this will avoid #301\n",
    "scrublet_columns_to_keep = list(filter(lambda column: column.startswith(\"scrublet__\"), adata_sl.obs.columns))\n",
    "adata_sl_obs = adata_sl.obs.loc[:, scrublet_columns_to_keep]\n",
    "import numpy as np\n",
    "if any(np.in1d(adata_sl_obs.columns, adata_dr.obs.columns)):\n",
    "    raise Exception(f\"VSN ERROR: Overlapping columns detected. The following columns should be removed in the source file: {', '.join(scrublet_columns_to_keep)}\")"
   ]
  },
  {
   "cell_type": "code",
   "execution_count": null,
   "metadata": {},
   "outputs": [],
   "source": [
    "# Merge AnnData DR obs with AnnData Sl (Scrublet) obs\n",
    "adata_dr.obs = adata_dr.obs.join(\n",
    "    other=adata_sl_obs\n",
    ")"
   ]
  },
  {
   "cell_type": "code",
   "execution_count": null,
   "metadata": {},
   "outputs": [],
   "source": [
    "adata_dr.obs.head()"
   ]
  },
  {
   "cell_type": "code",
   "execution_count": null,
   "metadata": {},
   "outputs": [],
   "source": [
    "# Deal with missing values"
   ]
  },
  {
   "cell_type": "code",
   "execution_count": null,
   "metadata": {},
   "outputs": [],
   "source": [
    "values = {\n",
    "    'scrublet__doublet_scores': -0.01,\n",
    "    'scrublet__predicted_doublets': False,\n",
    "    'scrublet__predicted_doublets_based_on_10x_chromium_spec': False,\n",
    "}\n",
    "adata_dr.obs = adata_dr.obs.fillna(\n",
    "    value=values\n",
    ")"
   ]
  },
  {
   "cell_type": "markdown",
   "metadata": {},
   "source": [
    "## Plot doublet score histograms for observed transcriptomes and simulated doublets"
   ]
  },
  {
   "cell_type": "code",
   "execution_count": null,
   "metadata": {},
   "outputs": [],
   "source": [
    "# More info: https://github.com/swolock/scrublet/blob/master/examples/scrublet_basics.ipynb"
   ]
  },
  {
   "cell_type": "code",
   "execution_count": null,
   "metadata": {},
   "outputs": [],
   "source": [
    "if scrub.predicted_doublets_ is None:\n",
    "    print(\"No doublets predicted using default method.\")\n",
    "else:\n",
    "    scrub.plot_histogram()"
   ]
  },
  {
   "cell_type": "markdown",
   "metadata": {},
   "source": [
    "## Plot doublet predictions on 2-D embedding"
   ]
  },
  {
   "cell_type": "markdown",
   "metadata": {},
   "source": [
    "### Doublet Scores"
   ]
  },
  {
   "cell_type": "code",
   "execution_count": null,
   "metadata": {},
   "outputs": [],
   "source": [
    "a = 0.6 # alpha setting\n",
    "fig, (axs) = plt.subplots(1,2, figsize=(10,5), dpi=150 )\n",
    "ax1 = sc.pl.tsne(adata_dr, color='scrublet__doublet_scores',size=10,color_map='plasma_r',alpha=a, ax=axs[0], show=False, wspace=0.5)\n",
    "ax1.set_title(f\"Scrublet - Doublet Scores\")\n",
    "ax2 = sc.pl.umap(adata_dr, color='scrublet__doublet_scores',size=10,color_map='plasma_r',alpha=a, ax=axs[1], show=False, wspace=0.5)\n",
    "ax2.set_title(f\"Scrublet - Doublet Scores\")\n",
    "plt.tight_layout()"
   ]
  },
  {
   "cell_type": "markdown",
   "metadata": {},
   "source": [
    "### Predicted Doublets (default)"
   ]
  },
  {
   "cell_type": "code",
   "execution_count": null,
   "metadata": {},
   "outputs": [],
   "source": [
    "if scrub.predicted_doublets_ is None:\n",
    "    print(\"No doublets predicted using default method.\")\n",
    "else:\n",
    "    default_num_predicted_doublets = sum(adata_dr.obs['scrublet__predicted_doublets'])\n",
    "    print(f\"Number of predicted doublets (default): {default_num_predicted_doublets}\")"
   ]
  },
  {
   "cell_type": "code",
   "execution_count": null,
   "metadata": {},
   "outputs": [],
   "source": [
    "if scrub.predicted_doublets_ is None:\n",
    "    print(\"No doublets predicted using default method.\")\n",
    "else:\n",
    "    adata_dr.obs['scrublet__predicted_doublets_cat'] = adata_dr.obs['scrublet__predicted_doublets'].astype(str).astype('category')\n",
    "    a = 0.6 # alpha setting\n",
    "    fig, (axs) = plt.subplots(1,2, figsize=(10,5), dpi=150 )\n",
    "    ax1 = sc.pl.tsne(adata_dr, color='scrublet__predicted_doublets_cat',size=10, color_map='plasma_r', alpha=a, ax=axs[0], show=False, wspace=0.5)\n",
    "    ax1.set_title(f\"Scrublet - Predicted Doublet\")\n",
    "    ax2 = sc.pl.umap(adata_dr, color='scrublet__predicted_doublets_cat',size=10, color_map='plasma_r', alpha=a, ax=axs[1], show=False, wspace=0.5)\n",
    "    ax2.set_title(f\"Scrublet - Predicted Doublet\")\n",
    "    plt.tight_layout()"
   ]
  },
  {
   "cell_type": "markdown",
   "metadata": {},
   "source": [
    "### Predicted Doublet (w/ 10xGenomics Chemistry Specification)"
   ]
  },
  {
   "cell_type": "code",
   "execution_count": null,
   "metadata": {},
   "outputs": [],
   "source": [
    "default_num_predicted_doublets_with_10x_chemistry_spec = sum(adata_dr.obs['scrublet__predicted_doublets_based_on_10x_chromium_spec'])\n",
    "print(f\"Number of predicted doublets (using 10xGenomics chemistry specification): {default_num_predicted_doublets_with_10x_chemistry_spec}\")"
   ]
  },
  {
   "cell_type": "code",
   "execution_count": null,
   "metadata": {},
   "outputs": [],
   "source": [
    "adata_dr.obs['scrublet__predicted_doublets_based_on_10x_chromium_spec_cat'] = adata_dr.obs['scrublet__predicted_doublets_based_on_10x_chromium_spec'].astype(str).astype('category')\n",
    "a = 0.6 # alpha setting\n",
    "fig, (axs) = plt.subplots(1,2, figsize=(10,5), dpi=150 )\n",
    "ax1 = sc.pl.tsne(adata_dr, color='scrublet__predicted_doublets_based_on_10x_chromium_spec_cat',size=10, color_map='plasma_r',alpha=a, ax=axs[0], show=False, wspace=0.5)\n",
    "ax1.set_title(f\"Scrublet - Predicted Doublet\")\n",
    "ax2 = sc.pl.umap(adata_dr, color='scrublet__predicted_doublets_based_on_10x_chromium_spec_cat',size=10, color_map='plasma_r',alpha=a, ax=axs[1], show=False, wspace=0.5)\n",
    "ax2.set_title(f\"Scrublet - Predicted Doublet\")\n",
    "plt.tight_layout()"
   ]
  }
 ],
 "metadata": {
  "kernelspec": {
   "display_name": "Python 3",
   "language": "python",
   "name": "python3"
  },
  "language_info": {
   "codemirror_mode": {
    "name": "ipython",
    "version": 3
   },
   "file_extension": ".py",
   "mimetype": "text/x-python",
   "name": "python",
   "nbconvert_exporter": "python",
   "pygments_lexer": "ipython3",
   "version": "3.6.8"
  }
 },
 "nbformat": 4,
 "nbformat_minor": 4
}

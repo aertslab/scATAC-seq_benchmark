{
 "cells": [
  {
   "cell_type": "markdown",
   "metadata": {},
   "source": [
    "# Single-Cell Report: Clustering"
   ]
  },
  {
   "cell_type": "code",
   "execution_count": null,
   "metadata": {},
   "outputs": [],
   "source": [
    "# Import packages\n",
    "import scanpy as sc\n",
    "import numpy as np"
   ]
  },
  {
   "cell_type": "markdown",
   "metadata": {},
   "source": [
    "#### Plotting settings and functions"
   ]
  },
  {
   "cell_type": "code",
   "execution_count": null,
   "metadata": {},
   "outputs": [],
   "source": [
    "# plot settings\n",
    "sc.set_figure_params(dpi=150, fontsize=10, dpi_save=600)"
   ]
  },
  {
   "cell_type": "markdown",
   "metadata": {},
   "source": [
    "#### Read Data"
   ]
  },
  {
   "cell_type": "code",
   "execution_count": null,
   "metadata": {},
   "outputs": [],
   "source": [
    "adata = sc.read_h5ad(filename=FILE)"
   ]
  },
  {
   "cell_type": "code",
   "execution_count": null,
   "metadata": {},
   "outputs": [],
   "source": [
    "def get_features(additional_features):\n",
    "    # select features to show in the plots below\n",
    "    features = ['sample_id','batch'] + additional_features\n",
    "    # keep only features that are present in the data:\n",
    "    features = [ x for x in features if x in adata.obs.columns and len(np.unique(adata.obs[x])) < adata.shape[1] ]\n",
    "    return features\n",
    "    \n",
    "def plot_clustering_on_dr(adata, algorithm, additional_features):\n",
    "    if algorithm not in [\"louvain\", \"leiden\"]:\n",
    "        raise Exception(f\"The given algorithm {algorithm} is invalid!\")\n",
    "    print(f\"{algorithm.capitalize()} resolution: {adata.uns[algorithm]['params']['resolution']}\")\n",
    "    if('X_pca' in adata.obsm):\n",
    "        sc.pl.pca(\n",
    "            adata,\n",
    "            color=get_features(additional_features=annotations_to_plot + [algorithm]),\n",
    "            palette=sc.pl.palettes.godsnot_102,\n",
    "            wspace=0.5\n",
    "        )\n",
    "    if('X_tsne' in adata.obsm):\n",
    "        sc.pl.tsne(\n",
    "            adata,\n",
    "            color=get_features(additional_features=annotations_to_plot + [algorithm]),\n",
    "            palette=sc.pl.palettes.godsnot_102,\n",
    "            wspace=0.5\n",
    "        )\n",
    "    if('X_umap' in adata.obsm):\n",
    "        sc.pl.umap(\n",
    "            adata,\n",
    "            color=get_features(additional_features=annotations_to_plot + [algorithm]),\n",
    "            palette=sc.pl.palettes.godsnot_102,\n",
    "            wspace=0.5\n",
    "        )"
   ]
  },
  {
   "cell_type": "markdown",
   "metadata": {},
   "source": [
    "## Clustering"
   ]
  },
  {
   "cell_type": "markdown",
   "metadata": {},
   "source": [
    "### Louvain"
   ]
  },
  {
   "cell_type": "code",
   "execution_count": null,
   "metadata": {},
   "outputs": [],
   "source": [
    "if 'louvain' in adata.uns:\n",
    "    plot_clustering_on_dr(adata, algorithm='louvain', additional_features=annotations_to_plot)\n",
    "else:\n",
    "    print(\"Clustering using the Louvain algorithm has not been computed\")"
   ]
  },
  {
   "cell_type": "markdown",
   "metadata": {},
   "source": [
    "### Leiden"
   ]
  },
  {
   "cell_type": "code",
   "execution_count": null,
   "metadata": {},
   "outputs": [],
   "source": [
    "if 'leiden' in adata.uns:\n",
    "    plot_clustering_on_dr(adata, algorithm='leiden', additional_features=annotations_to_plot)\n",
    "else:\n",
    "    print(\"Clustering using the Leiden algorithm has not been computed\")"
   ]
  }
 ],
 "metadata": {
  "kernelspec": {
   "display_name": "Python 3",
   "language": "python",
   "name": "python3"
  },
  "language_info": {
   "codemirror_mode": {
    "name": "ipython",
    "version": 3
   },
   "file_extension": ".py",
   "mimetype": "text/x-python",
   "name": "python",
   "nbconvert_exporter": "python",
   "pygments_lexer": "ipython3",
   "version": "3.6.8"
  }
 },
 "nbformat": 4,
 "nbformat_minor": 4
}

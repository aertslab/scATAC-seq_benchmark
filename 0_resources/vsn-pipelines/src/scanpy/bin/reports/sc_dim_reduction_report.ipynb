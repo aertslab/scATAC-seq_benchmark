{
 "cells": [
  {
   "cell_type": "markdown",
   "metadata": {},
   "source": [
    "# Single-Cell Report: Dimensionality reduction"
   ]
  },
  {
   "cell_type": "code",
   "execution_count": null,
   "metadata": {},
   "outputs": [],
   "source": [
    "# Import packages\n",
    "import scanpy as sc"
   ]
  },
  {
   "cell_type": "markdown",
   "metadata": {},
   "source": [
    "#### Plotting settings and functions"
   ]
  },
  {
   "cell_type": "code",
   "execution_count": null,
   "metadata": {},
   "outputs": [],
   "source": [
    "# plot settings\n",
    "sc.set_figure_params(dpi=150, fontsize=10, dpi_save=600)"
   ]
  },
  {
   "cell_type": "markdown",
   "metadata": {},
   "source": [
    "#### Read Data"
   ]
  },
  {
   "cell_type": "code",
   "execution_count": null,
   "metadata": {},
   "outputs": [],
   "source": [
    "adata = sc.read_h5ad(filename=FILE)"
   ]
  },
  {
   "cell_type": "code",
   "execution_count": null,
   "metadata": {},
   "outputs": [],
   "source": [
    "# select features to show in the plots below\n",
    "features = ['n_genes','n_counts','percent_mito'] #,'louvain']\n",
    "# keep only features that are present in the data:\n",
    "available_features = [ x for x in features if x in adata.obs.columns ]"
   ]
  },
  {
   "cell_type": "markdown",
   "metadata": {},
   "source": [
    "---\n",
    "## Dimensionality reductions"
   ]
  },
  {
   "cell_type": "code",
   "execution_count": null,
   "metadata": {},
   "outputs": [],
   "source": [
    "if len(available_features) > 0:\n",
    "    if 'X_pca' in adata.obsm:\n",
    "        sc.pl.pca_scatter(adata, color=available_features)\n",
    "    if 'X_tsne' in adata.obsm:\n",
    "        sc.pl.tsne(adata, color=available_features)\n",
    "    if 'X_umap' in adata.obsm:\n",
    "        sc.pl.umap(adata, color=available_features)\n",
    "else:\n",
    "    print(f\"None of the following metrics {', '.join(features)} are found in the AnnData.\")\n",
    "    print(\"These metrics are calculated in the Scanpy filtering step.\")\n",
    "    print(\"Therefore it's very likely that this step was skipped by the workflow (see Nextflow config file).\")"
   ]
  },
  {
   "cell_type": "code",
   "execution_count": null,
   "metadata": {},
   "outputs": [],
   "source": [
    "### Future additions (not yet present in adata)\n",
    "#sc.pl.diffmap(adata, color=features, components=['1,2','1,3'])\n",
    "#sc.pl.draw_graph(adata, color=features)"
   ]
  },
  {
   "cell_type": "code",
   "execution_count": null,
   "metadata": {},
   "outputs": [],
   "source": []
  }
 ],
 "metadata": {
  "kernelspec": {
   "display_name": "Python 3",
   "language": "python",
   "name": "python3"
  },
  "language_info": {
   "codemirror_mode": {
    "name": "ipython",
    "version": 3
   },
   "file_extension": ".py",
   "mimetype": "text/x-python",
   "name": "python",
   "nbconvert_exporter": "python",
   "pygments_lexer": "ipython3",
   "version": "3.7.3"
  }
 },
 "nbformat": 4,
 "nbformat_minor": 4
}

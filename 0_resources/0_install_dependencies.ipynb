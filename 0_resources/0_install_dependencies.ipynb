{
 "cells": [
  {
   "cell_type": "markdown",
   "id": "fe46cc33",
   "metadata": {},
   "source": [
    "# Install  nextflow"
   ]
  },
  {
   "cell_type": "code",
   "execution_count": null,
   "id": "9181cdd0",
   "metadata": {},
   "outputs": [],
   "source": [
    "wget https://github.com/nextflow-io/nextflow/releases/download/v21.04.3/nextflow-21.04.3-all"
   ]
  },
  {
   "cell_type": "code",
   "execution_count": 4,
   "id": "44b32dfe",
   "metadata": {},
   "outputs": [
    {
     "name": "stdout",
     "output_type": "stream",
     "text": [
      "nextflow  nextflow-21.04.3-all\n"
     ]
    }
   ],
   "source": [
    "ls ../0_resources/nextflow"
   ]
  },
  {
   "cell_type": "markdown",
   "id": "f41b84f6",
   "metadata": {},
   "source": [
    "# Install vsn pipelines"
   ]
  },
  {
   "cell_type": "markdown",
   "id": "e7c2e2fe",
   "metadata": {},
   "source": [
    "Install vsn from: https://vsn-pipelines.readthedocs.io/en/latest/getting-started.html"
   ]
  },
  {
   "cell_type": "code",
   "execution_count": 5,
   "id": "198d0afe",
   "metadata": {
    "execution": {
     "iopub.execute_input": "2022-06-23T09:07:10.895327Z",
     "iopub.status.busy": "2022-06-23T09:07:10.894484Z",
     "iopub.status.idle": "2022-06-23T09:07:16.682156Z",
     "shell.execute_reply": "2022-06-23T09:07:16.679728Z",
     "shell.execute_reply.started": "2022-06-23T09:07:10.895016Z"
    },
    "tags": []
   },
   "outputs": [
    {
     "name": "stdout",
     "output_type": "stream",
     "text": [
      "Checking vib-singlecell-nf/vsn-pipelines ...\n",
      " downloaded from https://github.com/vib-singlecell-nf/vsn-pipelines.git - revision: 05f086d766 [single_cell_toolkit_20220415]\n"
     ]
    }
   ],
   "source": [
    "../0_resources/nextflow/nextflow-21.04.3-all pull vib-singlecell-nf/vsn-pipelines -r single_cell_toolkit_20220415"
   ]
  },
  {
   "cell_type": "markdown",
   "id": "fd60a85f",
   "metadata": {},
   "source": [
    "This pulls the vsn github to your local dirs"
   ]
  },
  {
   "cell_type": "code",
   "execution_count": 13,
   "id": "f06a7435",
   "metadata": {
    "execution": {
     "iopub.execute_input": "2022-06-08T18:21:13.079901Z",
     "iopub.status.busy": "2022-06-08T18:21:13.079024Z",
     "iopub.status.idle": "2022-06-08T18:21:13.199405Z",
     "shell.execute_reply": "2022-06-08T18:21:13.197473Z",
     "shell.execute_reply.started": "2022-06-08T18:21:13.079571Z"
    }
   },
   "outputs": [
    {
     "name": "stdout",
     "output_type": "stream",
     "text": [
      "\u001b[0m\u001b[01;34massets\u001b[0m\n",
      "CODE_OF_CONDUCT.md\n",
      "\u001b[01;34mconf\u001b[0m\n",
      "CONTRIBUTING.md\n",
      "CONTRIBUTORS.md\n",
      "\u001b[01;34mdata\u001b[0m\n",
      "\u001b[01;34mdocs\u001b[0m\n",
      "LICENSE\n",
      "main_atac.nf\n",
      "main.nf\n",
      "nextflow.config\n",
      "README.rst\n",
      "\u001b[01;34msrc\u001b[0m\n",
      "VERSION\n",
      "\u001b[01;34mworkflows\u001b[0m\n"
     ]
    }
   ],
   "source": [
    "ls -1 /home/luna.kuleuven.be/u0117999/.nextflow/assets/vib-singlecell-nf/vsn-pipelines"
   ]
  },
  {
   "cell_type": "markdown",
   "id": "f9fddb41",
   "metadata": {},
   "source": [
    "# Create a cistopic image"
   ]
  },
  {
   "cell_type": "markdown",
   "id": "624dbb7d",
   "metadata": {},
   "source": [
    "See tutorial in ../0_resources/cistopic_image/1_pycistopic_image.ipynb"
   ]
  },
  {
   "cell_type": "markdown",
   "id": "8349963e",
   "metadata": {},
   "source": [
    "Additionally, you can create a jupyter kernel with this cistopic image as such:"
   ]
  },
  {
   "cell_type": "code",
   "execution_count": 14,
   "id": "2f3ef0ea",
   "metadata": {
    "execution": {
     "iopub.execute_input": "2022-06-08T18:21:17.595100Z",
     "iopub.status.busy": "2022-06-08T18:21:17.594279Z",
     "iopub.status.idle": "2022-06-08T18:21:17.715354Z",
     "shell.execute_reply": "2022-06-08T18:21:17.712466Z",
     "shell.execute_reply.started": "2022-06-08T18:21:17.594855Z"
    }
   },
   "outputs": [
    {
     "name": "stdout",
     "output_type": "stream",
     "text": [
      "{\n",
      "    \"argv\": [\n",
      "     \"singularity\",\n",
      "     \"exec\",\n",
      "     \"-B\",\n",
      "     \"/media/data/stg_00002/lcb/fderop/data,/media/data/scratch/330/vsc33042\",\n",
      "     \"/media/data/stg_00002/lcb/fderop/data/hca_atac_benchmark/0_resources/cistopic_image/20220523_pycistopic.sif\",\n",
      "     \"ipython\",\n",
      "     \"kernel\",\n",
      "     \"-f\",\n",
      "     \"{connection_file}\"\n",
      "    ],\n",
      "    \"display_name\": \"20220523_pycistopic.sif\",\n",
      "    \"language\": \"python\"\n",
      "}\n"
     ]
    }
   ],
   "source": [
    "cat /media/data/stg_00002/lcb/fderop/software/anaconda3/share/jupyter/kernels/20220523_pycistopic/kernel.json"
   ]
  },
  {
   "cell_type": "markdown",
   "id": "2344d84e-6b3e-4f70-9014-101e7746124e",
   "metadata": {},
   "source": [
    "or in"
   ]
  },
  {
   "cell_type": "code",
   "execution_count": 5,
   "id": "f6543fe4-fa3e-4f02-b7de-8c36640eba06",
   "metadata": {
    "execution": {
     "iopub.execute_input": "2023-04-19T16:25:46.326374Z",
     "iopub.status.busy": "2023-04-19T16:25:46.326110Z",
     "iopub.status.idle": "2023-04-19T16:25:46.460271Z",
     "shell.execute_reply": "2023-04-19T16:25:46.459555Z",
     "shell.execute_reply.started": "2023-04-19T16:25:46.326356Z"
    },
    "tags": []
   },
   "outputs": [
    {
     "name": "stdout",
     "output_type": "stream",
     "text": [
      "bash\n",
      "cistopic_20220628\n",
      "cistopic_20220714\n",
      "cistopic_20220722\n",
      "cistopic_20220815\n",
      "cistopic_20221014\n",
      "cistopic_20230419\n",
      "cistopic_cbravo\n",
      "pycistopic_singularity\n"
     ]
    }
   ],
   "source": [
    "ls -1 ~/.local/share/jupyter/kernels"
   ]
  },
  {
   "cell_type": "code",
   "execution_count": 4,
   "id": "e3f2299c",
   "metadata": {
    "execution": {
     "iopub.execute_input": "2023-04-19T16:23:31.567379Z",
     "iopub.status.busy": "2023-04-19T16:23:31.567108Z",
     "iopub.status.idle": "2023-04-19T16:23:31.691186Z",
     "shell.execute_reply": "2023-04-19T16:23:31.690539Z",
     "shell.execute_reply.started": "2023-04-19T16:23:31.567362Z"
    },
    "tags": []
   },
   "outputs": [
    {
     "name": "stdout",
     "output_type": "stream",
     "text": [
      "../0_resources/cistopic_image/20220523_pycistopic.sif\n",
      "../0_resources/cistopic_image/20220609_pycistopic.sif\n",
      "../0_resources/cistopic_image/20220628_pycistopic.sif\n",
      "../0_resources/cistopic_image/20220714_pycistopic.sif\n",
      "../0_resources/cistopic_image/20220722_pycistopic.sif\n",
      "../0_resources/cistopic_image/20220815_pycistopic.sif\n",
      "../0_resources/cistopic_image/20220919_pycistopic.sif\n",
      "../0_resources/cistopic_image/20221014_pycistopic.sif\n",
      "../0_resources/cistopic_image/20230419_pycistopic.sif\n"
     ]
    }
   ],
   "source": [
    "ls ../0_resources/cistopic_image/*.sif"
   ]
  },
  {
   "cell_type": "markdown",
   "id": "4d0b5f48",
   "metadata": {},
   "source": [
    "This is the python kernel that I will use for running these .ipynb notebooks."
   ]
  }
 ],
 "metadata": {
  "kernelspec": {
   "display_name": "Bash",
   "language": "bash",
   "name": "bash"
  },
  "language_info": {
   "codemirror_mode": "shell",
   "file_extension": ".sh",
   "mimetype": "text/x-sh",
   "name": "bash"
  }
 },
 "nbformat": 4,
 "nbformat_minor": 5
}

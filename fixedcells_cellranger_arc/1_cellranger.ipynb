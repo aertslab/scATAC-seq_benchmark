{
 "cells": [
  {
   "cell_type": "code",
   "execution_count": 2,
   "id": "9f484f2f",
   "metadata": {
    "execution": {
     "iopub.execute_input": "2023-03-10T12:37:25.557118Z",
     "iopub.status.busy": "2023-03-10T12:37:25.556326Z",
     "iopub.status.idle": "2023-03-10T12:37:27.333618Z",
     "shell.execute_reply": "2023-03-10T12:37:27.332153Z",
     "shell.execute_reply.started": "2023-03-10T12:37:25.557043Z"
    },
    "tags": []
   },
   "outputs": [],
   "source": [
    "import os\n",
    "import glob\n",
    "\n",
    "%load_ext lab_black"
   ]
  },
  {
   "cell_type": "code",
   "execution_count": 3,
   "id": "aaa31e3a",
   "metadata": {
    "execution": {
     "iopub.execute_input": "2023-03-10T12:37:27.336654Z",
     "iopub.status.busy": "2023-03-10T12:37:27.336017Z",
     "iopub.status.idle": "2023-03-10T12:37:27.362121Z",
     "shell.execute_reply": "2023-03-10T12:37:27.361104Z",
     "shell.execute_reply.started": "2023-03-10T12:37:27.336610Z"
    },
    "tags": []
   },
   "outputs": [
    {
     "data": {
      "text/plain": [
       "['CNA_10xmultiome_1',\n",
       " 'CNA_10xmultiome_2',\n",
       " 'SAN_10xmultiome_1',\n",
       " 'SAN_10xmultiome_2',\n",
       " 'VIB_10xmultiome_1',\n",
       " 'VIB_10xmultiome_2']"
      ]
     },
     "execution_count": 3,
     "metadata": {},
     "output_type": "execute_result"
    }
   ],
   "source": [
    "samples = sorted(\n",
    "    list(\n",
    "        set(\n",
    "            [\n",
    "                \"_\".join(x.split(\"/\")[-1].split(\"_\")[0:3])\n",
    "                for x in sorted(glob.glob(\"../1_data_repository/libds_fastq_scrna/*\"))\n",
    "            ]\n",
    "        )\n",
    "    )\n",
    ")\n",
    "samples"
   ]
  },
  {
   "cell_type": "code",
   "execution_count": 33,
   "id": "5da1a0c6-31b6-4fb4-a323-7e6471435e45",
   "metadata": {
    "execution": {
     "iopub.execute_input": "2023-03-10T15:56:23.175551Z",
     "iopub.status.busy": "2023-03-10T15:56:23.174643Z",
     "iopub.status.idle": "2023-03-10T15:56:23.231184Z",
     "shell.execute_reply": "2023-03-10T15:56:23.229692Z",
     "shell.execute_reply.started": "2023-03-10T15:56:23.175485Z"
    },
    "tags": []
   },
   "outputs": [],
   "source": [
    "fastq_repo = (\n",
    "    \"/lustre1/project/stg_00090/scatac_benchmark/1_data_repository/libds_fastq_scrna\"\n",
    ")\n",
    "for sample in samples:\n",
    "    with open(f\"{sample}_libraries.csv\", \"w\") as f:\n",
    "        f.write(\"fastqs,sample,library_type\\n\")\n",
    "        f.write(f\"{fastq_repo},{sample},Gene Expression\\n\")\n",
    "        f.write(\n",
    "            f\"/lustre1/project/stg_00090/scatac_benchmark/1_data_repository/libds_fastq_multiome,{sample},Chromatin Accessibility\\n\"\n",
    "        )"
   ]
  },
  {
   "cell_type": "code",
   "execution_count": 34,
   "id": "c0dc84e8-9036-4403-b0da-4ade9e6df21b",
   "metadata": {
    "execution": {
     "iopub.execute_input": "2023-03-10T15:56:27.706464Z",
     "iopub.status.busy": "2023-03-10T15:56:27.705124Z",
     "iopub.status.idle": "2023-03-10T15:56:27.867019Z",
     "shell.execute_reply": "2023-03-10T15:56:27.865269Z",
     "shell.execute_reply.started": "2023-03-10T15:56:27.706405Z"
    },
    "tags": []
   },
   "outputs": [
    {
     "name": "stdout",
     "output_type": "stream",
     "text": [
      "fastqs,sample,library_type\n",
      "/lustre1/project/stg_00090/scatac_benchmark/1_data_repository/libds_fastq_scrna,CNA_10xmultiome_1,Gene Expression\n",
      "/lustre1/project/stg_00090/scatac_benchmark/1_data_repository/libds_fastq_multiome,CNA_10xmultiome_1,Chromatin Accessibility\n",
      "fastqs,sample,library_type\n",
      "/lustre1/project/stg_00090/scatac_benchmark/1_data_repository/libds_fastq_scrna,CNA_10xmultiome_2,Gene Expression\n",
      "/lustre1/project/stg_00090/scatac_benchmark/1_data_repository/libds_fastq_multiome,CNA_10xmultiome_2,Chromatin Accessibility\n",
      "fastqs,sample,library_type\n",
      "/lustre1/project/stg_00090/scatac_benchmark/1_data_repository/libds_fastq_scrna,SAN_10xmultiome_1,Gene Expression\n",
      "/lustre1/project/stg_00090/scatac_benchmark/1_data_repository/libds_fastq_multiome,SAN_10xmultiome_1,Chromatin Accessibility\n",
      "fastqs,sample,library_type\n",
      "/lustre1/project/stg_00090/scatac_benchmark/1_data_repository/libds_fastq_scrna,SAN_10xmultiome_2,Gene Expression\n",
      "/lustre1/project/stg_00090/scatac_benchmark/1_data_repository/libds_fastq_multiome,SAN_10xmultiome_2,Chromatin Accessibility\n",
      "fastqs,sample,library_type\n",
      "/lustre1/project/stg_00090/scatac_benchmark/1_data_repository/libds_fastq_scrna,VIB_10xmultiome_1,Gene Expression\n",
      "/lustre1/project/stg_00090/scatac_benchmark/1_data_repository/libds_fastq_multiome,VIB_10xmultiome_1,Chromatin Accessibility\n",
      "fastqs,sample,library_type\n",
      "/lustre1/project/stg_00090/scatac_benchmark/1_data_repository/libds_fastq_scrna,VIB_10xmultiome_2,Gene Expression\n",
      "/lustre1/project/stg_00090/scatac_benchmark/1_data_repository/libds_fastq_multiome,VIB_10xmultiome_2,Chromatin Accessibility\n"
     ]
    }
   ],
   "source": [
    "!cat *_libraries.csv"
   ]
  },
  {
   "cell_type": "code",
   "execution_count": 35,
   "id": "66c23cb2-5711-4ec7-9887-8e107dde8062",
   "metadata": {
    "execution": {
     "iopub.execute_input": "2023-03-10T15:56:28.201542Z",
     "iopub.status.busy": "2023-03-10T15:56:28.200724Z",
     "iopub.status.idle": "2023-03-10T15:56:28.358241Z",
     "shell.execute_reply": "2023-03-10T15:56:28.356501Z",
     "shell.execute_reply.started": "2023-03-10T15:56:28.201480Z"
    },
    "tags": []
   },
   "outputs": [
    {
     "name": "stdout",
     "output_type": "stream",
     "text": [
      "/lustre1/project/stg_00090/scatac_benchmark/fixedcells_9_cellranger_arc\n"
     ]
    }
   ],
   "source": [
    "!pwd"
   ]
  },
  {
   "cell_type": "code",
   "execution_count": 30,
   "id": "81c5607e-3ee2-4afa-8cbe-ebb8d6acce4f",
   "metadata": {
    "execution": {
     "iopub.execute_input": "2023-03-10T15:54:10.574959Z",
     "iopub.status.busy": "2023-03-10T15:54:10.574045Z",
     "iopub.status.idle": "2023-03-10T15:54:22.180194Z",
     "shell.execute_reply": "2023-03-10T15:54:22.178632Z",
     "shell.execute_reply.started": "2023-03-10T15:54:10.574894Z"
    },
    "tags": []
   },
   "outputs": [],
   "source": [
    "for sample in samples:\n",
    "    with open(f\"{sample}_cr.sh\", \"w\") as f:\n",
    "        f.write(\n",
    "            f\"#!/bin/sh\\ncd /lustre1/project/stg_00090/scatac_benchmark/fixedcells_9_cellranger_arc && module load CellRanger-ARC/2.0.2 && cellranger-arc count --id={sample} --reference=/lustre1/project/stg_00090/scatac_benchmark/0_resources/genomes/hg38_cflerin_cellranger_arc/GRCh38 --libraries=/lustre1/project/stg_00090/scatac_benchmark/fixedcells_9_cellranger_arc/{sample}_libraries.csv --localcores=36 --localmem=256\"\n",
    "        )"
   ]
  },
  {
   "cell_type": "markdown",
   "id": "820769f4-553c-4077-b326-bcbc7728b025",
   "metadata": {},
   "source": [
    "## Command"
   ]
  },
  {
   "cell_type": "code",
   "execution_count": 10,
   "id": "43fc7326-f118-4bdb-9914-0ad4ee40d3ed",
   "metadata": {
    "execution": {
     "iopub.execute_input": "2023-03-10T12:36:19.179494Z",
     "iopub.status.busy": "2023-03-10T12:36:19.178714Z",
     "iopub.status.idle": "2023-03-10T12:36:19.226132Z",
     "shell.execute_reply": "2023-03-10T12:36:19.224029Z",
     "shell.execute_reply.started": "2023-03-10T12:36:19.179438Z"
    }
   },
   "outputs": [
    {
     "ename": "SyntaxError",
     "evalue": "invalid syntax (1255329167.py, line 1)",
     "output_type": "error",
     "traceback": [
      "\u001b[0;36m  Cell \u001b[0;32mIn [10], line 1\u001b[0;36m\u001b[0m\n\u001b[0;31m    for script in models__screen__mallet/*.sh\u001b[0m\n\u001b[0m                                         ^\u001b[0m\n\u001b[0;31mSyntaxError\u001b[0m\u001b[0;31m:\u001b[0m invalid syntax\n"
     ]
    },
    {
     "name": "stderr",
     "output_type": "stream",
     "text": [
      "ERROR:root:Cannot parse: 1:37: for script in models__screen__mallet/*.sh\n",
      "Traceback (most recent call last):\n",
      "  File \"/opt/venv/lib/python3.8/site-packages/lab_black.py\", line 218, in format_cell\n",
      "    formatted_code = _format_code(cell)\n",
      "  File \"/opt/venv/lib/python3.8/site-packages/lab_black.py\", line 29, in _format_code\n",
      "    return format_str(src_contents=code, mode=FileMode())\n",
      "  File \"src/black/__init__.py\", line 1067, in format_str\n",
      "  File \"src/black/__init__.py\", line 1077, in _format_str_once\n",
      "  File \"src/black/parsing.py\", line 126, in lib2to3_parse\n",
      "black.parsing.InvalidInput: Cannot parse: 1:37: for script in models__screen__mallet/*.sh\n"
     ]
    }
   ],
   "source": [
    "for script in *_cr.sh\n",
    "do\n",
    "    echo $script\n",
    "    sbatch -p --job-name=cellranger_arc --cluster=wice --partition=dedicated_big_bigmem -n 1 -A lp_big_wice_cpu --time=6:00:00 --ntasks=1 --cpus-per-task=36 --mem=320G $script\n",
    "done\n"
   ]
  }
 ],
 "metadata": {
  "kernelspec": {
   "display_name": "20221014_pycistopic.sif",
   "language": "python",
   "name": "cistopic_20221014"
  },
  "language_info": {
   "codemirror_mode": {
    "name": "ipython",
    "version": 3
   },
   "file_extension": ".py",
   "mimetype": "text/x-python",
   "name": "python",
   "nbconvert_exporter": "python",
   "pygments_lexer": "ipython3",
   "version": "3.8.15"
  }
 },
 "nbformat": 4,
 "nbformat_minor": 5
}

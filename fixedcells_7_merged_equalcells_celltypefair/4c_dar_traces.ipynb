{
 "cells": [
  {
   "cell_type": "code",
   "execution_count": 287,
   "id": "ca1d9514-0a35-4e18-99a7-893e28925826",
   "metadata": {
    "execution": {
     "iopub.execute_input": "2023-02-15T15:41:46.932358Z",
     "iopub.status.busy": "2023-02-15T15:41:46.931680Z",
     "iopub.status.idle": "2023-02-15T15:41:46.958593Z",
     "shell.execute_reply": "2023-02-15T15:41:46.957540Z",
     "shell.execute_reply.started": "2023-02-15T15:41:46.932295Z"
    },
    "tags": []
   },
   "outputs": [
    {
     "name": "stdout",
     "output_type": "stream",
     "text": [
      "The lab_black extension is already loaded. To reload it, use:\n",
      "  %reload_ext lab_black\n"
     ]
    }
   ],
   "source": [
    "import matplotlib as mpl\n",
    "import matplotlib.gridspec as gridspec\n",
    "import matplotlib.pyplot as plt\n",
    "import matplotlib.patches as mpatches\n",
    "import numpy as np\n",
    "import pyBigWig\n",
    "import seaborn as sns\n",
    "from pybedtools import BedTool\n",
    "import re\n",
    "\n",
    "import glob as glob\n",
    "import pandas as pd\n",
    "import matplotlib.pyplot as plt\n",
    "from collections import OrderedDict\n",
    "\n",
    "%load_ext lab_black"
   ]
  },
  {
   "cell_type": "code",
   "execution_count": 288,
   "id": "bee3bc6b-73a3-4e33-902e-75b5afb2e434",
   "metadata": {
    "execution": {
     "iopub.execute_input": "2023-02-15T15:41:46.960327Z",
     "iopub.status.busy": "2023-02-15T15:41:46.960012Z",
     "iopub.status.idle": "2023-02-15T15:41:46.965549Z",
     "shell.execute_reply": "2023-02-15T15:41:46.964579Z",
     "shell.execute_reply.started": "2023-02-15T15:41:46.960293Z"
    },
    "tags": []
   },
   "outputs": [],
   "source": [
    "import pybedtools"
   ]
  },
  {
   "cell_type": "code",
   "execution_count": 289,
   "id": "0e2251c5-84d0-4d75-96d6-fb1a1536b28d",
   "metadata": {
    "execution": {
     "iopub.execute_input": "2023-02-15T15:41:46.967827Z",
     "iopub.status.busy": "2023-02-15T15:41:46.967497Z",
     "iopub.status.idle": "2023-02-15T15:41:46.977379Z",
     "shell.execute_reply": "2023-02-15T15:41:46.976367Z",
     "shell.execute_reply.started": "2023-02-15T15:41:46.967795Z"
    },
    "tags": []
   },
   "outputs": [
    {
     "data": {
      "text/plain": [
       "'0.8.1'"
      ]
     },
     "execution_count": 289,
     "metadata": {},
     "output_type": "execute_result"
    }
   ],
   "source": [
    "pybedtools.__version__"
   ]
  },
  {
   "cell_type": "markdown",
   "id": "3715e1dd-445c-4d5c-8389-d63d0912ea3b",
   "metadata": {},
   "source": [
    "# first find some regions that I wish to visualise"
   ]
  },
  {
   "cell_type": "code",
   "execution_count": 290,
   "id": "b5655fe9-311b-4c9e-84e6-4dfa341a8dba",
   "metadata": {
    "execution": {
     "iopub.execute_input": "2023-02-15T15:41:46.980954Z",
     "iopub.status.busy": "2023-02-15T15:41:46.980364Z",
     "iopub.status.idle": "2023-02-15T15:41:47.002535Z",
     "shell.execute_reply": "2023-02-15T15:41:47.001456Z",
     "shell.execute_reply.started": "2023-02-15T15:41:46.980892Z"
    },
    "tags": []
   },
   "outputs": [
    {
     "data": {
      "text/plain": [
       "{'Natural_killer_cell': 'downstream_analysis/DARs/master_celltypefair_1.FIXEDCELLS/master_celltypefair_1.FIXEDCELLS__Natural_killer_cell__DARs.TOP2k.bed',\n",
       " 'CD16+_monocyte': 'downstream_analysis/DARs/master_celltypefair_1.FIXEDCELLS/master_celltypefair_1.FIXEDCELLS__CD16+_monocyte__DARs.TOP2k.bed',\n",
       " 'Dendritic_cell': 'downstream_analysis/DARs/master_celltypefair_1.FIXEDCELLS/master_celltypefair_1.FIXEDCELLS__Dendritic_cell__DARs.TOP2k.bed',\n",
       " 'B_cell': 'downstream_analysis/DARs/master_celltypefair_1.FIXEDCELLS/master_celltypefair_1.FIXEDCELLS__B_cell__DARs.TOP2k.bed',\n",
       " 'CD4+_T_cell': 'downstream_analysis/DARs/master_celltypefair_1.FIXEDCELLS/master_celltypefair_1.FIXEDCELLS__CD4+_T_cell__DARs.TOP2k.bed',\n",
       " 'CD14+_monocyte': 'downstream_analysis/DARs/master_celltypefair_1.FIXEDCELLS/master_celltypefair_1.FIXEDCELLS__CD14+_monocyte__DARs.TOP2k.bed',\n",
       " 'Cytotoxic_T_cell': 'downstream_analysis/DARs/master_celltypefair_1.FIXEDCELLS/master_celltypefair_1.FIXEDCELLS__Cytotoxic_T_cell__DARs.TOP2k.bed'}"
      ]
     },
     "execution_count": 290,
     "metadata": {},
     "output_type": "execute_result"
    }
   ],
   "source": [
    "merged_dar_path_dict = {\n",
    "    x.split(\"/\")[-1].split(\"__DARs.TOP2k.bed\")[0].split(\"__\")[-1]: x\n",
    "    for x in glob.glob(\n",
    "        \"downstream_analysis/DARs/master_celltypefair_1.FIXEDCELLS/master_celltypefair_1.FIXEDCELLS__*TOP2k.bed\"\n",
    "    )\n",
    "}\n",
    "merged_dar_path_dict"
   ]
  },
  {
   "cell_type": "code",
   "execution_count": 291,
   "id": "08186c2c-dc66-48c0-8f9f-53a2b45c4824",
   "metadata": {
    "execution": {
     "iopub.execute_input": "2023-02-15T15:41:47.004137Z",
     "iopub.status.busy": "2023-02-15T15:41:47.003795Z",
     "iopub.status.idle": "2023-02-15T15:41:47.049174Z",
     "shell.execute_reply": "2023-02-15T15:41:47.048394Z",
     "shell.execute_reply.started": "2023-02-15T15:41:47.004102Z"
    },
    "tags": []
   },
   "outputs": [
    {
     "name": "stdout",
     "output_type": "stream",
     "text": [
      "Natural_killer_cell\n",
      "CD16+_monocyte\n",
      "Dendritic_cell\n",
      "B_cell\n",
      "CD4+_T_cell\n",
      "CD14+_monocyte\n",
      "Cytotoxic_T_cell\n"
     ]
    },
    {
     "data": {
      "text/plain": [
       "OrderedDict([('Natural_killer_cell', 'chr8:59657612-59658112'),\n",
       "             ('CD16+_monocyte', 'chr6:24236745-24237245'),\n",
       "             ('Dendritic_cell', 'chr11:119584055-119584555'),\n",
       "             ('B_cell', 'chr9:37565537-37566037'),\n",
       "             ('CD4+_T_cell', 'chr20:3122948-3123448'),\n",
       "             ('CD14+_monocyte', 'chr8:138740133-138740633'),\n",
       "             ('Cytotoxic_T_cell', 'chr2:144328951-144329451')])"
      ]
     },
     "execution_count": 291,
     "metadata": {},
     "output_type": "execute_result"
    }
   ],
   "source": [
    "regions_dict = OrderedDict({})\n",
    "\n",
    "for supersample, path in merged_dar_path_dict.items():\n",
    "    print(supersample)\n",
    "    df = pd.read_csv(path, sep=\"\\t\", header=None)\n",
    "    df.columns = \"chrom start end cell_type log2fc strand p_val\".split()\n",
    "    # print(df.iloc[0])\n",
    "\n",
    "    cell_type = supersample.split(\"__\")[-1]\n",
    "    region = f\"{df.iloc[0]['chrom']}:{df.iloc[0]['start']}-{df.iloc[0]['end']}\"\n",
    "    regions_dict[cell_type] = region\n",
    "\n",
    "regions_dict"
   ]
  },
  {
   "cell_type": "markdown",
   "id": "eb2465df-d231-41cb-a0a8-d3444728eca9",
   "metadata": {},
   "source": [
    "# now plot these regions"
   ]
  },
  {
   "cell_type": "code",
   "execution_count": 292,
   "id": "208a55c0-2102-4816-a3df-12e05c394482",
   "metadata": {
    "execution": {
     "iopub.execute_input": "2023-02-15T15:41:47.050131Z",
     "iopub.status.busy": "2023-02-15T15:41:47.049938Z",
     "iopub.status.idle": "2023-02-15T15:41:47.091829Z",
     "shell.execute_reply": "2023-02-15T15:41:47.090982Z",
     "shell.execute_reply.started": "2023-02-15T15:41:47.050110Z"
    },
    "tags": []
   },
   "outputs": [
    {
     "data": {
      "text/html": [
       "<div>\n",
       "<style scoped>\n",
       "    .dataframe tbody tr th:only-of-type {\n",
       "        vertical-align: middle;\n",
       "    }\n",
       "\n",
       "    .dataframe tbody tr th {\n",
       "        vertical-align: top;\n",
       "    }\n",
       "\n",
       "    .dataframe thead th {\n",
       "        text-align: right;\n",
       "    }\n",
       "</style>\n",
       "<table border=\"1\" class=\"dataframe\">\n",
       "  <thead>\n",
       "    <tr style=\"text-align: right;\">\n",
       "      <th></th>\n",
       "      <th>chrom</th>\n",
       "      <th>start</th>\n",
       "      <th>end</th>\n",
       "    </tr>\n",
       "  </thead>\n",
       "  <tbody>\n",
       "    <tr>\n",
       "      <th>Natural_killer_cell</th>\n",
       "      <td>chr8</td>\n",
       "      <td>59657612</td>\n",
       "      <td>59658112</td>\n",
       "    </tr>\n",
       "    <tr>\n",
       "      <th>CD16+_monocyte</th>\n",
       "      <td>chr6</td>\n",
       "      <td>24236745</td>\n",
       "      <td>24237245</td>\n",
       "    </tr>\n",
       "    <tr>\n",
       "      <th>Dendritic_cell</th>\n",
       "      <td>chr11</td>\n",
       "      <td>119584055</td>\n",
       "      <td>119584555</td>\n",
       "    </tr>\n",
       "    <tr>\n",
       "      <th>B_cell</th>\n",
       "      <td>chr9</td>\n",
       "      <td>37565537</td>\n",
       "      <td>37566037</td>\n",
       "    </tr>\n",
       "    <tr>\n",
       "      <th>CD4+_T_cell</th>\n",
       "      <td>chr20</td>\n",
       "      <td>3122948</td>\n",
       "      <td>3123448</td>\n",
       "    </tr>\n",
       "    <tr>\n",
       "      <th>CD14+_monocyte</th>\n",
       "      <td>chr8</td>\n",
       "      <td>138740133</td>\n",
       "      <td>138740633</td>\n",
       "    </tr>\n",
       "    <tr>\n",
       "      <th>Cytotoxic_T_cell</th>\n",
       "      <td>chr2</td>\n",
       "      <td>144328951</td>\n",
       "      <td>144329451</td>\n",
       "    </tr>\n",
       "  </tbody>\n",
       "</table>\n",
       "</div>"
      ],
      "text/plain": [
       "                     chrom      start        end\n",
       "Natural_killer_cell   chr8   59657612   59658112\n",
       "CD16+_monocyte        chr6   24236745   24237245\n",
       "Dendritic_cell       chr11  119584055  119584555\n",
       "B_cell                chr9   37565537   37566037\n",
       "CD4+_T_cell          chr20    3122948    3123448\n",
       "CD14+_monocyte        chr8  138740133  138740633\n",
       "Cytotoxic_T_cell      chr2  144328951  144329451"
      ]
     },
     "execution_count": 292,
     "metadata": {},
     "output_type": "execute_result"
    }
   ],
   "source": [
    "regions_df = pd.DataFrame(columns=[\"chrom\", \"start\", \"end\"])\n",
    "for key in regions_dict.keys():\n",
    "    row = list(regions_dict.keys()).index(key)\n",
    "    chrom, start, end = re.split(\":|-\", regions_dict[key])\n",
    "    start = int(re.sub(\",\", \"\", start))\n",
    "    end = int(re.sub(\",\", \"\", end))\n",
    "\n",
    "    region = pd.DataFrame(columns=[\"chrom\", \"start\", \"end\"], index=[key])\n",
    "    region[\"chrom\"] = chrom\n",
    "    region[\"start\"] = start\n",
    "    region[\"end\"] = end\n",
    "    regions_df = pd.concat([regions_df, region], axis=0)\n",
    "\n",
    "bedtool_obj = BedTool.from_dataframe(df=regions_df)\n",
    "\n",
    "regions_df"
   ]
  },
  {
   "cell_type": "markdown",
   "id": "c3500581-2b6f-4097-9cb7-e4e1b30d9c19",
   "metadata": {},
   "source": [
    "genes to plot"
   ]
  },
  {
   "cell_type": "code",
   "execution_count": 293,
   "id": "563dc45e-f0c0-4d7d-8430-d793a0fd9c10",
   "metadata": {
    "execution": {
     "iopub.execute_input": "2023-02-15T15:41:47.092906Z",
     "iopub.status.busy": "2023-02-15T15:41:47.092709Z",
     "iopub.status.idle": "2023-02-15T15:41:47.103906Z",
     "shell.execute_reply": "2023-02-15T15:41:47.103094Z",
     "shell.execute_reply.started": "2023-02-15T15:41:47.092885Z"
    },
    "tags": []
   },
   "outputs": [],
   "source": [
    "genes_dict = {\n",
    "    \"Cytotoxic_T_cell\": [],\n",
    "    \"CD14+_monocyte\": [],\n",
    "    \"B_cell\": [],\n",
    "    \"CD16+_monocyte\": [],\n",
    "    \"Dendritic_cell\": [],\n",
    "    \"Natural_killer_cell\": [],\n",
    "    \"CD4+_T_cell\": [],\n",
    "}\n",
    "max_genes = max([len((genes_dict[key])) for key in genes_dict.keys()])\n",
    "\n",
    "gtf_file = \"/lustre1/project/stg_00090/scatac_benchmark/0_resources/genomes/hg38_cflerin_cellranger_arc/genes.ucsc.gtf\""
   ]
  },
  {
   "cell_type": "code",
   "execution_count": 294,
   "id": "9e0c6ab2-189c-4bf3-92f7-03248f0d022c",
   "metadata": {
    "execution": {
     "iopub.execute_input": "2023-02-15T15:41:47.104885Z",
     "iopub.status.busy": "2023-02-15T15:41:47.104689Z",
     "iopub.status.idle": "2023-02-15T15:41:47.132894Z",
     "shell.execute_reply": "2023-02-15T15:41:47.131835Z",
     "shell.execute_reply.started": "2023-02-15T15:41:47.104863Z"
    },
    "tags": []
   },
   "outputs": [],
   "source": [
    "tech_color_palette = {\n",
    "    \"10xv2\": \"#1b9e77\",\n",
    "    \"10xv1\": \"#d95f02\",\n",
    "    \"10xv11\": \"#7570b3\",\n",
    "    \"10xmultiome\": \"#e7298a\",\n",
    "    \"mtscatac\": \"#66a61e\",\n",
    "    \"ddseq\": \"#e6ab02\",\n",
    "    \"s3atac\": \"#a6761d\",\n",
    "    \"hydrop\": \"#666666\",\n",
    "}\n",
    "\n",
    "tech_order = [\n",
    "    \"10xv1\",\n",
    "    \"10xv11\",\n",
    "    \"10xv2\",\n",
    "    \"10xmultiome\",\n",
    "    \"mtscatac\",\n",
    "    \"ddseq\",\n",
    "    \"s3atac\",\n",
    "    \"hydrop\",\n",
    "]\n",
    "\n",
    "tech_alias_dict = {\n",
    "    \"10xmultiome\": \"10x Multiome\",\n",
    "    \"10xv1\": \"10x v1\",\n",
    "    \"10xv11\": \"10x v1.1\",\n",
    "    \"10xv2\": \"10x v2\",\n",
    "    \"ddseq\": \"ddSEQ SureCell\",\n",
    "    \"hydrop\": \"HyDrop\",\n",
    "    \"mtscatac\": \"mtscATAC-seq\",\n",
    "    \"s3atac\": \"s3-ATAC\",\n",
    "}\n",
    "\n",
    "cell_type_order = [\n",
    "    \"B_cell\",\n",
    "    \"CD14_monocyte\",\n",
    "    \"CD4_T_cell\",\n",
    "    \"Cytotoxic_T_cell\",\n",
    "    \"Dendritic_cell\",\n",
    "    \"Natural_killer_cell\",\n",
    "    \"CD16_monocyte\",\n",
    "]\n",
    "\n",
    "cell_type_alias_dict = {\n",
    "    \"B_cell\": \"B cells\",\n",
    "    \"CD14_monocyte\": \"CD14+\\nmonocytes\",\n",
    "    \"CD4_T_cell\": \"CD4+\\nT cells\",\n",
    "    \"Cytotoxic_T_cell\": \"CD8+\\nT cells\",\n",
    "    \"Dendritic_cell\": \"Dendritic\\ncells\",\n",
    "    \"Natural_killer_cell\": \"NK cells\",\n",
    "    \"CD16_monocyte\": \"CD16+\\nmonocytes\",\n",
    "}\n",
    "\n",
    "cell_type_color_dict = {\n",
    "    \"B_cell\": \"#88CCEE\",\n",
    "    \"CD14_monocyte\": \"#CC6677\",\n",
    "    \"CD4_T_cell\": \"#DDCC77\",\n",
    "    \"Cytotoxic_T_cell\": \"#117733\",\n",
    "    \"Dendritic_cell\": \"#332288\",\n",
    "    \"Natural_killer_cell\": \"#AA4499\",\n",
    "    \"CD16_monocyte\": \"#44AA99\",\n",
    "}"
   ]
  },
  {
   "cell_type": "code",
   "execution_count": 295,
   "id": "3ccd1eea-05d3-4a73-8c8d-c406f56574c3",
   "metadata": {
    "execution": {
     "iopub.execute_input": "2023-02-15T15:41:47.135040Z",
     "iopub.status.busy": "2023-02-15T15:41:47.134810Z",
     "iopub.status.idle": "2023-02-15T15:41:47.142310Z",
     "shell.execute_reply": "2023-02-15T15:41:47.141530Z",
     "shell.execute_reply.started": "2023-02-15T15:41:47.135018Z"
    },
    "tags": []
   },
   "outputs": [
    {
     "data": {
      "text/plain": [
       "['per_tech_harmony_cell_type_bigwigs_nonnorm/master_celltypefair_1.FIXEDCELLS__CONSENSUS_pseudobulk_bw_files_nonnorm/mtscatac_Dendritic_cell.bw',\n",
       " 'per_tech_harmony_cell_type_bigwigs_nonnorm/master_celltypefair_1.FIXEDCELLS__CONSENSUS_pseudobulk_bw_files_nonnorm/10xmultiome_B_cell.bw',\n",
       " 'per_tech_harmony_cell_type_bigwigs_nonnorm/master_celltypefair_1.FIXEDCELLS__CONSENSUS_pseudobulk_bw_files_nonnorm/s3atac_Natural_killer_cell.bw',\n",
       " 'per_tech_harmony_cell_type_bigwigs_nonnorm/master_celltypefair_1.FIXEDCELLS__CONSENSUS_pseudobulk_bw_files_nonnorm/10xv2_Dendritic_cell.bw',\n",
       " 'per_tech_harmony_cell_type_bigwigs_nonnorm/master_celltypefair_1.FIXEDCELLS__CONSENSUS_pseudobulk_bw_files_nonnorm/mtscatac_B_cell.bw',\n",
       " 'per_tech_harmony_cell_type_bigwigs_nonnorm/master_celltypefair_1.FIXEDCELLS__CONSENSUS_pseudobulk_bw_files_nonnorm/10xv2_CD14_monocyte.bw',\n",
       " 'per_tech_harmony_cell_type_bigwigs_nonnorm/master_celltypefair_1.FIXEDCELLS__CONSENSUS_pseudobulk_bw_files_nonnorm/10xv1_Natural_killer_cell.bw',\n",
       " 'per_tech_harmony_cell_type_bigwigs_nonnorm/master_celltypefair_1.FIXEDCELLS__CONSENSUS_pseudobulk_bw_files_nonnorm/hydrop_CD14_monocyte.bw',\n",
       " 'per_tech_harmony_cell_type_bigwigs_nonnorm/master_celltypefair_1.FIXEDCELLS__CONSENSUS_pseudobulk_bw_files_nonnorm/10xv11_B_cell.bw',\n",
       " 'per_tech_harmony_cell_type_bigwigs_nonnorm/master_celltypefair_1.FIXEDCELLS__CONSENSUS_pseudobulk_bw_files_nonnorm/10xv1_CD16_monocyte.bw',\n",
       " 'per_tech_harmony_cell_type_bigwigs_nonnorm/master_celltypefair_1.FIXEDCELLS__CONSENSUS_pseudobulk_bw_files_nonnorm/ddseq_Dendritic_cell.bw',\n",
       " 'per_tech_harmony_cell_type_bigwigs_nonnorm/master_celltypefair_1.FIXEDCELLS__CONSENSUS_pseudobulk_bw_files_nonnorm/mtscatac_CD16_monocyte.bw',\n",
       " 'per_tech_harmony_cell_type_bigwigs_nonnorm/master_celltypefair_1.FIXEDCELLS__CONSENSUS_pseudobulk_bw_files_nonnorm/10xmultiome_CD14_monocyte.bw',\n",
       " 'per_tech_harmony_cell_type_bigwigs_nonnorm/master_celltypefair_1.FIXEDCELLS__CONSENSUS_pseudobulk_bw_files_nonnorm/hydrop_CD16_monocyte.bw',\n",
       " 'per_tech_harmony_cell_type_bigwigs_nonnorm/master_celltypefair_1.FIXEDCELLS__CONSENSUS_pseudobulk_bw_files_nonnorm/ddseq_CD14_monocyte.bw',\n",
       " 'per_tech_harmony_cell_type_bigwigs_nonnorm/master_celltypefair_1.FIXEDCELLS__CONSENSUS_pseudobulk_bw_files_nonnorm/mtscatac_CD14_monocyte.bw',\n",
       " 'per_tech_harmony_cell_type_bigwigs_nonnorm/master_celltypefair_1.FIXEDCELLS__CONSENSUS_pseudobulk_bw_files_nonnorm/10xmultiome_CD16_monocyte.bw',\n",
       " 'per_tech_harmony_cell_type_bigwigs_nonnorm/master_celltypefair_1.FIXEDCELLS__CONSENSUS_pseudobulk_bw_files_nonnorm/mtscatac_CD4_T_cell.bw',\n",
       " 'per_tech_harmony_cell_type_bigwigs_nonnorm/master_celltypefair_1.FIXEDCELLS__CONSENSUS_pseudobulk_bw_files_nonnorm/10xv1_Dendritic_cell.bw',\n",
       " 'per_tech_harmony_cell_type_bigwigs_nonnorm/master_celltypefair_1.FIXEDCELLS__CONSENSUS_pseudobulk_bw_files_nonnorm/10xv11_CD4_T_cell.bw',\n",
       " 'per_tech_harmony_cell_type_bigwigs_nonnorm/master_celltypefair_1.FIXEDCELLS__CONSENSUS_pseudobulk_bw_files_nonnorm/ddseq_B_cell.bw',\n",
       " 'per_tech_harmony_cell_type_bigwigs_nonnorm/master_celltypefair_1.FIXEDCELLS__CONSENSUS_pseudobulk_bw_files_nonnorm/hydrop_B_cell.bw',\n",
       " 'per_tech_harmony_cell_type_bigwigs_nonnorm/master_celltypefair_1.FIXEDCELLS__CONSENSUS_pseudobulk_bw_files_nonnorm/ddseq_Natural_killer_cell.bw',\n",
       " 'per_tech_harmony_cell_type_bigwigs_nonnorm/master_celltypefair_1.FIXEDCELLS__CONSENSUS_pseudobulk_bw_files_nonnorm/10xv1_Cytotoxic_T_cell.bw',\n",
       " 'per_tech_harmony_cell_type_bigwigs_nonnorm/master_celltypefair_1.FIXEDCELLS__CONSENSUS_pseudobulk_bw_files_nonnorm/s3atac_CD16_monocyte.bw',\n",
       " 'per_tech_harmony_cell_type_bigwigs_nonnorm/master_celltypefair_1.FIXEDCELLS__CONSENSUS_pseudobulk_bw_files_nonnorm/10xv11_Natural_killer_cell.bw',\n",
       " 'per_tech_harmony_cell_type_bigwigs_nonnorm/master_celltypefair_1.FIXEDCELLS__CONSENSUS_pseudobulk_bw_files_nonnorm/10xv2_CD16_monocyte.bw',\n",
       " 'per_tech_harmony_cell_type_bigwigs_nonnorm/master_celltypefair_1.FIXEDCELLS__CONSENSUS_pseudobulk_bw_files_nonnorm/ddseq_CD16_monocyte.bw',\n",
       " 'per_tech_harmony_cell_type_bigwigs_nonnorm/master_celltypefair_1.FIXEDCELLS__CONSENSUS_pseudobulk_bw_files_nonnorm/s3atac_CD4_T_cell.bw',\n",
       " 'per_tech_harmony_cell_type_bigwigs_nonnorm/master_celltypefair_1.FIXEDCELLS__CONSENSUS_pseudobulk_bw_files_nonnorm/ddseq_Cytotoxic_T_cell.bw',\n",
       " 'per_tech_harmony_cell_type_bigwigs_nonnorm/master_celltypefair_1.FIXEDCELLS__CONSENSUS_pseudobulk_bw_files_nonnorm/10xv2_CD4_T_cell.bw',\n",
       " 'per_tech_harmony_cell_type_bigwigs_nonnorm/master_celltypefair_1.FIXEDCELLS__CONSENSUS_pseudobulk_bw_files_nonnorm/s3atac_Cytotoxic_T_cell.bw',\n",
       " 'per_tech_harmony_cell_type_bigwigs_nonnorm/master_celltypefair_1.FIXEDCELLS__CONSENSUS_pseudobulk_bw_files_nonnorm/s3atac_CD14_monocyte.bw',\n",
       " 'per_tech_harmony_cell_type_bigwigs_nonnorm/master_celltypefair_1.FIXEDCELLS__CONSENSUS_pseudobulk_bw_files_nonnorm/mtscatac_Cytotoxic_T_cell.bw',\n",
       " 'per_tech_harmony_cell_type_bigwigs_nonnorm/master_celltypefair_1.FIXEDCELLS__CONSENSUS_pseudobulk_bw_files_nonnorm/10xmultiome_Dendritic_cell.bw',\n",
       " 'per_tech_harmony_cell_type_bigwigs_nonnorm/master_celltypefair_1.FIXEDCELLS__CONSENSUS_pseudobulk_bw_files_nonnorm/10xv2_Cytotoxic_T_cell.bw',\n",
       " 'per_tech_harmony_cell_type_bigwigs_nonnorm/master_celltypefair_1.FIXEDCELLS__CONSENSUS_pseudobulk_bw_files_nonnorm/10xv1_CD4_T_cell.bw',\n",
       " 'per_tech_harmony_cell_type_bigwigs_nonnorm/master_celltypefair_1.FIXEDCELLS__CONSENSUS_pseudobulk_bw_files_nonnorm/s3atac_B_cell.bw',\n",
       " 'per_tech_harmony_cell_type_bigwigs_nonnorm/master_celltypefair_1.FIXEDCELLS__CONSENSUS_pseudobulk_bw_files_nonnorm/s3atac_Dendritic_cell.bw',\n",
       " 'per_tech_harmony_cell_type_bigwigs_nonnorm/master_celltypefair_1.FIXEDCELLS__CONSENSUS_pseudobulk_bw_files_nonnorm/10xv11_CD14_monocyte.bw',\n",
       " 'per_tech_harmony_cell_type_bigwigs_nonnorm/master_celltypefair_1.FIXEDCELLS__CONSENSUS_pseudobulk_bw_files_nonnorm/10xv2_Natural_killer_cell.bw',\n",
       " 'per_tech_harmony_cell_type_bigwigs_nonnorm/master_celltypefair_1.FIXEDCELLS__CONSENSUS_pseudobulk_bw_files_nonnorm/mtscatac_Natural_killer_cell.bw',\n",
       " 'per_tech_harmony_cell_type_bigwigs_nonnorm/master_celltypefair_1.FIXEDCELLS__CONSENSUS_pseudobulk_bw_files_nonnorm/10xmultiome_Cytotoxic_T_cell.bw',\n",
       " 'per_tech_harmony_cell_type_bigwigs_nonnorm/master_celltypefair_1.FIXEDCELLS__CONSENSUS_pseudobulk_bw_files_nonnorm/10xv11_CD16_monocyte.bw',\n",
       " 'per_tech_harmony_cell_type_bigwigs_nonnorm/master_celltypefair_1.FIXEDCELLS__CONSENSUS_pseudobulk_bw_files_nonnorm/hydrop_Cytotoxic_T_cell.bw',\n",
       " 'per_tech_harmony_cell_type_bigwigs_nonnorm/master_celltypefair_1.FIXEDCELLS__CONSENSUS_pseudobulk_bw_files_nonnorm/10xv1_B_cell.bw',\n",
       " 'per_tech_harmony_cell_type_bigwigs_nonnorm/master_celltypefair_1.FIXEDCELLS__CONSENSUS_pseudobulk_bw_files_nonnorm/hydrop_CD4_T_cell.bw',\n",
       " 'per_tech_harmony_cell_type_bigwigs_nonnorm/master_celltypefair_1.FIXEDCELLS__CONSENSUS_pseudobulk_bw_files_nonnorm/10xmultiome_Natural_killer_cell.bw',\n",
       " 'per_tech_harmony_cell_type_bigwigs_nonnorm/master_celltypefair_1.FIXEDCELLS__CONSENSUS_pseudobulk_bw_files_nonnorm/10xmultiome_CD4_T_cell.bw',\n",
       " 'per_tech_harmony_cell_type_bigwigs_nonnorm/master_celltypefair_1.FIXEDCELLS__CONSENSUS_pseudobulk_bw_files_nonnorm/10xv1_CD14_monocyte.bw',\n",
       " 'per_tech_harmony_cell_type_bigwigs_nonnorm/master_celltypefair_1.FIXEDCELLS__CONSENSUS_pseudobulk_bw_files_nonnorm/ddseq_CD4_T_cell.bw',\n",
       " 'per_tech_harmony_cell_type_bigwigs_nonnorm/master_celltypefair_1.FIXEDCELLS__CONSENSUS_pseudobulk_bw_files_nonnorm/10xv2_B_cell.bw',\n",
       " 'per_tech_harmony_cell_type_bigwigs_nonnorm/master_celltypefair_1.FIXEDCELLS__CONSENSUS_pseudobulk_bw_files_nonnorm/hydrop_Natural_killer_cell.bw',\n",
       " 'per_tech_harmony_cell_type_bigwigs_nonnorm/master_celltypefair_1.FIXEDCELLS__CONSENSUS_pseudobulk_bw_files_nonnorm/10xv11_Dendritic_cell.bw',\n",
       " 'per_tech_harmony_cell_type_bigwigs_nonnorm/master_celltypefair_1.FIXEDCELLS__CONSENSUS_pseudobulk_bw_files_nonnorm/10xv11_Cytotoxic_T_cell.bw',\n",
       " 'per_tech_harmony_cell_type_bigwigs_nonnorm/master_celltypefair_1.FIXEDCELLS__CONSENSUS_pseudobulk_bw_files_nonnorm/hydrop_Dendritic_cell.bw']"
      ]
     },
     "execution_count": 295,
     "metadata": {},
     "output_type": "execute_result"
    }
   ],
   "source": [
    "glob.glob(\n",
    "    \"per_tech_harmony_cell_type_bigwigs_nonnorm/master_celltypefair_1.FIXEDCELLS__CONSENSUS_pseudobulk_bw_files_nonnorm/*\"\n",
    ")"
   ]
  },
  {
   "cell_type": "code",
   "execution_count": 296,
   "id": "e80a35af-80e7-4742-b2f6-5a2bbf07b654",
   "metadata": {
    "execution": {
     "iopub.execute_input": "2023-02-15T15:41:47.143757Z",
     "iopub.status.busy": "2023-02-15T15:41:47.143560Z",
     "iopub.status.idle": "2023-02-15T15:41:47.165471Z",
     "shell.execute_reply": "2023-02-15T15:41:47.164511Z",
     "shell.execute_reply.started": "2023-02-15T15:41:47.143736Z"
    },
    "tags": []
   },
   "outputs": [
    {
     "data": {
      "text/plain": [
       "{'Dendritic_cell': {'mtscatac': 'per_tech_harmony_cell_type_bigwigs_nonnorm/master_celltypefair_1.FIXEDCELLS__CONSENSUS_pseudobulk_bw_files_nonnorm/mtscatac_Dendritic_cell.bw',\n",
       "  '10xv2': 'per_tech_harmony_cell_type_bigwigs_nonnorm/master_celltypefair_1.FIXEDCELLS__CONSENSUS_pseudobulk_bw_files_nonnorm/10xv2_Dendritic_cell.bw',\n",
       "  'ddseq': 'per_tech_harmony_cell_type_bigwigs_nonnorm/master_celltypefair_1.FIXEDCELLS__CONSENSUS_pseudobulk_bw_files_nonnorm/ddseq_Dendritic_cell.bw',\n",
       "  '10xv1': 'per_tech_harmony_cell_type_bigwigs_nonnorm/master_celltypefair_1.FIXEDCELLS__CONSENSUS_pseudobulk_bw_files_nonnorm/10xv1_Dendritic_cell.bw',\n",
       "  '10xmultiome': 'per_tech_harmony_cell_type_bigwigs_nonnorm/master_celltypefair_1.FIXEDCELLS__CONSENSUS_pseudobulk_bw_files_nonnorm/10xmultiome_Dendritic_cell.bw',\n",
       "  's3atac': 'per_tech_harmony_cell_type_bigwigs_nonnorm/master_celltypefair_1.FIXEDCELLS__CONSENSUS_pseudobulk_bw_files_nonnorm/s3atac_Dendritic_cell.bw',\n",
       "  '10xv11': 'per_tech_harmony_cell_type_bigwigs_nonnorm/master_celltypefair_1.FIXEDCELLS__CONSENSUS_pseudobulk_bw_files_nonnorm/10xv11_Dendritic_cell.bw',\n",
       "  'hydrop': 'per_tech_harmony_cell_type_bigwigs_nonnorm/master_celltypefair_1.FIXEDCELLS__CONSENSUS_pseudobulk_bw_files_nonnorm/hydrop_Dendritic_cell.bw'},\n",
       " 'B_cell': {'10xmultiome': 'per_tech_harmony_cell_type_bigwigs_nonnorm/master_celltypefair_1.FIXEDCELLS__CONSENSUS_pseudobulk_bw_files_nonnorm/10xmultiome_B_cell.bw',\n",
       "  'mtscatac': 'per_tech_harmony_cell_type_bigwigs_nonnorm/master_celltypefair_1.FIXEDCELLS__CONSENSUS_pseudobulk_bw_files_nonnorm/mtscatac_B_cell.bw',\n",
       "  '10xv11': 'per_tech_harmony_cell_type_bigwigs_nonnorm/master_celltypefair_1.FIXEDCELLS__CONSENSUS_pseudobulk_bw_files_nonnorm/10xv11_B_cell.bw',\n",
       "  'ddseq': 'per_tech_harmony_cell_type_bigwigs_nonnorm/master_celltypefair_1.FIXEDCELLS__CONSENSUS_pseudobulk_bw_files_nonnorm/ddseq_B_cell.bw',\n",
       "  'hydrop': 'per_tech_harmony_cell_type_bigwigs_nonnorm/master_celltypefair_1.FIXEDCELLS__CONSENSUS_pseudobulk_bw_files_nonnorm/hydrop_B_cell.bw',\n",
       "  's3atac': 'per_tech_harmony_cell_type_bigwigs_nonnorm/master_celltypefair_1.FIXEDCELLS__CONSENSUS_pseudobulk_bw_files_nonnorm/s3atac_B_cell.bw',\n",
       "  '10xv1': 'per_tech_harmony_cell_type_bigwigs_nonnorm/master_celltypefair_1.FIXEDCELLS__CONSENSUS_pseudobulk_bw_files_nonnorm/10xv1_B_cell.bw',\n",
       "  '10xv2': 'per_tech_harmony_cell_type_bigwigs_nonnorm/master_celltypefair_1.FIXEDCELLS__CONSENSUS_pseudobulk_bw_files_nonnorm/10xv2_B_cell.bw'},\n",
       " 'Natural_killer_cell': {'s3atac': 'per_tech_harmony_cell_type_bigwigs_nonnorm/master_celltypefair_1.FIXEDCELLS__CONSENSUS_pseudobulk_bw_files_nonnorm/s3atac_Natural_killer_cell.bw',\n",
       "  '10xv1': 'per_tech_harmony_cell_type_bigwigs_nonnorm/master_celltypefair_1.FIXEDCELLS__CONSENSUS_pseudobulk_bw_files_nonnorm/10xv1_Natural_killer_cell.bw',\n",
       "  'ddseq': 'per_tech_harmony_cell_type_bigwigs_nonnorm/master_celltypefair_1.FIXEDCELLS__CONSENSUS_pseudobulk_bw_files_nonnorm/ddseq_Natural_killer_cell.bw',\n",
       "  '10xv11': 'per_tech_harmony_cell_type_bigwigs_nonnorm/master_celltypefair_1.FIXEDCELLS__CONSENSUS_pseudobulk_bw_files_nonnorm/10xv11_Natural_killer_cell.bw',\n",
       "  '10xv2': 'per_tech_harmony_cell_type_bigwigs_nonnorm/master_celltypefair_1.FIXEDCELLS__CONSENSUS_pseudobulk_bw_files_nonnorm/10xv2_Natural_killer_cell.bw',\n",
       "  'mtscatac': 'per_tech_harmony_cell_type_bigwigs_nonnorm/master_celltypefair_1.FIXEDCELLS__CONSENSUS_pseudobulk_bw_files_nonnorm/mtscatac_Natural_killer_cell.bw',\n",
       "  '10xmultiome': 'per_tech_harmony_cell_type_bigwigs_nonnorm/master_celltypefair_1.FIXEDCELLS__CONSENSUS_pseudobulk_bw_files_nonnorm/10xmultiome_Natural_killer_cell.bw',\n",
       "  'hydrop': 'per_tech_harmony_cell_type_bigwigs_nonnorm/master_celltypefair_1.FIXEDCELLS__CONSENSUS_pseudobulk_bw_files_nonnorm/hydrop_Natural_killer_cell.bw'},\n",
       " 'CD14_monocyte': {'10xv2': 'per_tech_harmony_cell_type_bigwigs_nonnorm/master_celltypefair_1.FIXEDCELLS__CONSENSUS_pseudobulk_bw_files_nonnorm/10xv2_CD14_monocyte.bw',\n",
       "  'hydrop': 'per_tech_harmony_cell_type_bigwigs_nonnorm/master_celltypefair_1.FIXEDCELLS__CONSENSUS_pseudobulk_bw_files_nonnorm/hydrop_CD14_monocyte.bw',\n",
       "  '10xmultiome': 'per_tech_harmony_cell_type_bigwigs_nonnorm/master_celltypefair_1.FIXEDCELLS__CONSENSUS_pseudobulk_bw_files_nonnorm/10xmultiome_CD14_monocyte.bw',\n",
       "  'ddseq': 'per_tech_harmony_cell_type_bigwigs_nonnorm/master_celltypefair_1.FIXEDCELLS__CONSENSUS_pseudobulk_bw_files_nonnorm/ddseq_CD14_monocyte.bw',\n",
       "  'mtscatac': 'per_tech_harmony_cell_type_bigwigs_nonnorm/master_celltypefair_1.FIXEDCELLS__CONSENSUS_pseudobulk_bw_files_nonnorm/mtscatac_CD14_monocyte.bw',\n",
       "  's3atac': 'per_tech_harmony_cell_type_bigwigs_nonnorm/master_celltypefair_1.FIXEDCELLS__CONSENSUS_pseudobulk_bw_files_nonnorm/s3atac_CD14_monocyte.bw',\n",
       "  '10xv11': 'per_tech_harmony_cell_type_bigwigs_nonnorm/master_celltypefair_1.FIXEDCELLS__CONSENSUS_pseudobulk_bw_files_nonnorm/10xv11_CD14_monocyte.bw',\n",
       "  '10xv1': 'per_tech_harmony_cell_type_bigwigs_nonnorm/master_celltypefair_1.FIXEDCELLS__CONSENSUS_pseudobulk_bw_files_nonnorm/10xv1_CD14_monocyte.bw'},\n",
       " 'CD16_monocyte': {'10xv1': 'per_tech_harmony_cell_type_bigwigs_nonnorm/master_celltypefair_1.FIXEDCELLS__CONSENSUS_pseudobulk_bw_files_nonnorm/10xv1_CD16_monocyte.bw',\n",
       "  'mtscatac': 'per_tech_harmony_cell_type_bigwigs_nonnorm/master_celltypefair_1.FIXEDCELLS__CONSENSUS_pseudobulk_bw_files_nonnorm/mtscatac_CD16_monocyte.bw',\n",
       "  'hydrop': 'per_tech_harmony_cell_type_bigwigs_nonnorm/master_celltypefair_1.FIXEDCELLS__CONSENSUS_pseudobulk_bw_files_nonnorm/hydrop_CD16_monocyte.bw',\n",
       "  '10xmultiome': 'per_tech_harmony_cell_type_bigwigs_nonnorm/master_celltypefair_1.FIXEDCELLS__CONSENSUS_pseudobulk_bw_files_nonnorm/10xmultiome_CD16_monocyte.bw',\n",
       "  's3atac': 'per_tech_harmony_cell_type_bigwigs_nonnorm/master_celltypefair_1.FIXEDCELLS__CONSENSUS_pseudobulk_bw_files_nonnorm/s3atac_CD16_monocyte.bw',\n",
       "  '10xv2': 'per_tech_harmony_cell_type_bigwigs_nonnorm/master_celltypefair_1.FIXEDCELLS__CONSENSUS_pseudobulk_bw_files_nonnorm/10xv2_CD16_monocyte.bw',\n",
       "  'ddseq': 'per_tech_harmony_cell_type_bigwigs_nonnorm/master_celltypefair_1.FIXEDCELLS__CONSENSUS_pseudobulk_bw_files_nonnorm/ddseq_CD16_monocyte.bw',\n",
       "  '10xv11': 'per_tech_harmony_cell_type_bigwigs_nonnorm/master_celltypefair_1.FIXEDCELLS__CONSENSUS_pseudobulk_bw_files_nonnorm/10xv11_CD16_monocyte.bw'},\n",
       " 'Cytotoxic_T_cell': {'10xv1': 'per_tech_harmony_cell_type_bigwigs_nonnorm/master_celltypefair_1.FIXEDCELLS__CONSENSUS_pseudobulk_bw_files_nonnorm/10xv1_Cytotoxic_T_cell.bw',\n",
       "  'ddseq': 'per_tech_harmony_cell_type_bigwigs_nonnorm/master_celltypefair_1.FIXEDCELLS__CONSENSUS_pseudobulk_bw_files_nonnorm/ddseq_Cytotoxic_T_cell.bw',\n",
       "  's3atac': 'per_tech_harmony_cell_type_bigwigs_nonnorm/master_celltypefair_1.FIXEDCELLS__CONSENSUS_pseudobulk_bw_files_nonnorm/s3atac_Cytotoxic_T_cell.bw',\n",
       "  'mtscatac': 'per_tech_harmony_cell_type_bigwigs_nonnorm/master_celltypefair_1.FIXEDCELLS__CONSENSUS_pseudobulk_bw_files_nonnorm/mtscatac_Cytotoxic_T_cell.bw',\n",
       "  '10xv2': 'per_tech_harmony_cell_type_bigwigs_nonnorm/master_celltypefair_1.FIXEDCELLS__CONSENSUS_pseudobulk_bw_files_nonnorm/10xv2_Cytotoxic_T_cell.bw',\n",
       "  '10xmultiome': 'per_tech_harmony_cell_type_bigwigs_nonnorm/master_celltypefair_1.FIXEDCELLS__CONSENSUS_pseudobulk_bw_files_nonnorm/10xmultiome_Cytotoxic_T_cell.bw',\n",
       "  'hydrop': 'per_tech_harmony_cell_type_bigwigs_nonnorm/master_celltypefair_1.FIXEDCELLS__CONSENSUS_pseudobulk_bw_files_nonnorm/hydrop_Cytotoxic_T_cell.bw',\n",
       "  '10xv11': 'per_tech_harmony_cell_type_bigwigs_nonnorm/master_celltypefair_1.FIXEDCELLS__CONSENSUS_pseudobulk_bw_files_nonnorm/10xv11_Cytotoxic_T_cell.bw'},\n",
       " 'CD4_T_cell': {'mtscatac': 'per_tech_harmony_cell_type_bigwigs_nonnorm/master_celltypefair_1.FIXEDCELLS__CONSENSUS_pseudobulk_bw_files_nonnorm/mtscatac_CD4_T_cell.bw',\n",
       "  '10xv11': 'per_tech_harmony_cell_type_bigwigs_nonnorm/master_celltypefair_1.FIXEDCELLS__CONSENSUS_pseudobulk_bw_files_nonnorm/10xv11_CD4_T_cell.bw',\n",
       "  's3atac': 'per_tech_harmony_cell_type_bigwigs_nonnorm/master_celltypefair_1.FIXEDCELLS__CONSENSUS_pseudobulk_bw_files_nonnorm/s3atac_CD4_T_cell.bw',\n",
       "  '10xv2': 'per_tech_harmony_cell_type_bigwigs_nonnorm/master_celltypefair_1.FIXEDCELLS__CONSENSUS_pseudobulk_bw_files_nonnorm/10xv2_CD4_T_cell.bw',\n",
       "  '10xv1': 'per_tech_harmony_cell_type_bigwigs_nonnorm/master_celltypefair_1.FIXEDCELLS__CONSENSUS_pseudobulk_bw_files_nonnorm/10xv1_CD4_T_cell.bw',\n",
       "  'hydrop': 'per_tech_harmony_cell_type_bigwigs_nonnorm/master_celltypefair_1.FIXEDCELLS__CONSENSUS_pseudobulk_bw_files_nonnorm/hydrop_CD4_T_cell.bw',\n",
       "  '10xmultiome': 'per_tech_harmony_cell_type_bigwigs_nonnorm/master_celltypefair_1.FIXEDCELLS__CONSENSUS_pseudobulk_bw_files_nonnorm/10xmultiome_CD4_T_cell.bw',\n",
       "  'ddseq': 'per_tech_harmony_cell_type_bigwigs_nonnorm/master_celltypefair_1.FIXEDCELLS__CONSENSUS_pseudobulk_bw_files_nonnorm/ddseq_CD4_T_cell.bw'}}"
      ]
     },
     "execution_count": 296,
     "metadata": {},
     "output_type": "execute_result"
    }
   ],
   "source": [
    "cell_types = list(\n",
    "    set(\n",
    "        [\n",
    "            \"_\".join(x.split(\"/\")[-1].split(\"_\")[1:]).split(\".\")[0]\n",
    "            for x in glob.glob(\n",
    "                \"per_tech_harmony_cell_type_bigwigs_nonnorm/master_celltypefair_1.FIXEDCELLS__CONSENSUS_pseudobulk_bw_files_nonnorm/*\"\n",
    "            )\n",
    "        ]\n",
    "    )\n",
    ")\n",
    "\n",
    "bw_path_dict_dict = {}\n",
    "for cell_type in cell_types:\n",
    "    # print(cell_type)\n",
    "    bw_path_dict_dict[cell_type] = {\n",
    "        x.split(\"/\")[-1].split(\"_\")[0]: x\n",
    "        for x in glob.glob(\n",
    "            f\"per_tech_harmony_cell_type_bigwigs_nonnorm/master_celltypefair_1.FIXEDCELLS__CONSENSUS_pseudobulk_bw_files_nonnorm/*{cell_type}*\"\n",
    "        )\n",
    "    }\n",
    "bw_path_dict_dict"
   ]
  },
  {
   "cell_type": "code",
   "execution_count": 297,
   "id": "4a47534c-406d-496b-b09a-48a1ffd5647d",
   "metadata": {
    "execution": {
     "iopub.execute_input": "2023-02-15T15:41:47.168315Z",
     "iopub.status.busy": "2023-02-15T15:41:47.167728Z",
     "iopub.status.idle": "2023-02-15T15:41:47.178972Z",
     "shell.execute_reply": "2023-02-15T15:41:47.177554Z",
     "shell.execute_reply.started": "2023-02-15T15:41:47.168256Z"
    },
    "tags": []
   },
   "outputs": [
    {
     "data": {
      "text/plain": [
       "OrderedDict([('Natural_killer_cell', 'chr8:59657612-59658112'),\n",
       "             ('CD16+_monocyte', 'chr6:24236745-24237245'),\n",
       "             ('Dendritic_cell', 'chr11:119584055-119584555'),\n",
       "             ('B_cell', 'chr9:37565537-37566037'),\n",
       "             ('CD4+_T_cell', 'chr20:3122948-3123448'),\n",
       "             ('CD14+_monocyte', 'chr8:138740133-138740633'),\n",
       "             ('Cytotoxic_T_cell', 'chr2:144328951-144329451')])"
      ]
     },
     "execution_count": 297,
     "metadata": {},
     "output_type": "execute_result"
    }
   ],
   "source": [
    "regions_dict"
   ]
  },
  {
   "cell_type": "code",
   "execution_count": 298,
   "id": "9a7cebf5-83e6-4646-8238-b0f668ca57d1",
   "metadata": {
    "execution": {
     "iopub.execute_input": "2023-02-15T15:41:47.181290Z",
     "iopub.status.busy": "2023-02-15T15:41:47.180794Z",
     "iopub.status.idle": "2023-02-15T15:41:47.196036Z",
     "shell.execute_reply": "2023-02-15T15:41:47.194830Z",
     "shell.execute_reply.started": "2023-02-15T15:41:47.181238Z"
    },
    "tags": []
   },
   "outputs": [],
   "source": [
    "dar_color = \"b\"\n",
    "peak_color = \"k\"\n",
    "gene_height = 3\n",
    "gene_bottom = -gene_height / 2\n",
    "exon_height = 6\n",
    "exon_bottom = -exon_height / 2\n",
    "\n",
    "figsize = (6, 8)"
   ]
  },
  {
   "cell_type": "code",
   "execution_count": 299,
   "id": "1311d7a5-e8c1-4d2d-a578-e6c4c4cd8b46",
   "metadata": {
    "execution": {
     "iopub.execute_input": "2023-02-15T15:41:47.197625Z",
     "iopub.status.busy": "2023-02-15T15:41:47.197305Z",
     "iopub.status.idle": "2023-02-15T15:41:47.211535Z",
     "shell.execute_reply": "2023-02-15T15:41:47.210648Z",
     "shell.execute_reply.started": "2023-02-15T15:41:47.197592Z"
    },
    "tags": []
   },
   "outputs": [],
   "source": [
    "def addax():\n",
    "    ax.set_xlim([x.min(), x.max()])\n",
    "    sns.despine(top=True, right=True, left=True, bottom=True, ax=ax)\n",
    "    ax.set_xticks([])\n",
    "    ax.set_yticks([])\n",
    "    ax.patch.set_alpha(\n",
    "        0\n",
    "    )  # make sure that each individual subplot is transparent! otherwise the underlying plots won't be shown. this is important e.g. for the dar/peak visualisaton, since the DARs are drawn directly on top of the peaks. if the DAR plot is not transparent, no peaks will be visible!!\n",
    "\n",
    "    fig.add_subplot(ax)"
   ]
  },
  {
   "cell_type": "code",
   "execution_count": 300,
   "id": "e2d7aab7-fe92-4a0e-92fd-afeb4a1f8c50",
   "metadata": {
    "execution": {
     "iopub.execute_input": "2023-02-15T15:41:47.212698Z",
     "iopub.status.busy": "2023-02-15T15:41:47.212455Z",
     "iopub.status.idle": "2023-02-15T15:41:47.217184Z",
     "shell.execute_reply": "2023-02-15T15:41:47.216382Z",
     "shell.execute_reply.started": "2023-02-15T15:41:47.212674Z"
    },
    "tags": []
   },
   "outputs": [],
   "source": [
    "max_genes = 1"
   ]
  },
  {
   "cell_type": "code",
   "execution_count": null,
   "id": "b65d4bff-971d-4b8c-baf4-ee7055385283",
   "metadata": {
    "tags": []
   },
   "outputs": [],
   "source": []
  },
  {
   "cell_type": "code",
   "execution_count": 301,
   "id": "49513a05-d2d1-4678-990a-ceedd6d64033",
   "metadata": {
    "execution": {
     "iopub.execute_input": "2023-02-15T15:41:47.218142Z",
     "iopub.status.busy": "2023-02-15T15:41:47.217952Z",
     "iopub.status.idle": "2023-02-15T15:41:47.224248Z",
     "shell.execute_reply": "2023-02-15T15:41:47.223480Z",
     "shell.execute_reply.started": "2023-02-15T15:41:47.218122Z"
    },
    "tags": []
   },
   "outputs": [],
   "source": [
    "plot_genes = False\n",
    "verbose = True"
   ]
  },
  {
   "cell_type": "code",
   "execution_count": 302,
   "id": "7e29fbdc-fc42-4162-9835-0688eff01728",
   "metadata": {
    "execution": {
     "iopub.execute_input": "2023-02-15T15:41:47.225326Z",
     "iopub.status.busy": "2023-02-15T15:41:47.225113Z",
     "iopub.status.idle": "2023-02-15T15:41:47.250446Z",
     "shell.execute_reply": "2023-02-15T15:41:47.249602Z",
     "shell.execute_reply.started": "2023-02-15T15:41:47.225305Z"
    },
    "tags": []
   },
   "outputs": [
    {
     "data": {
      "text/plain": [
       "{'Dendritic_cell': {'mtscatac': 'per_tech_harmony_cell_type_bigwigs_nonnorm/master_celltypefair_1.FIXEDCELLS__CONSENSUS_pseudobulk_bw_files_nonnorm/mtscatac_Dendritic_cell.bw',\n",
       "  '10xv2': 'per_tech_harmony_cell_type_bigwigs_nonnorm/master_celltypefair_1.FIXEDCELLS__CONSENSUS_pseudobulk_bw_files_nonnorm/10xv2_Dendritic_cell.bw',\n",
       "  'ddseq': 'per_tech_harmony_cell_type_bigwigs_nonnorm/master_celltypefair_1.FIXEDCELLS__CONSENSUS_pseudobulk_bw_files_nonnorm/ddseq_Dendritic_cell.bw',\n",
       "  '10xv1': 'per_tech_harmony_cell_type_bigwigs_nonnorm/master_celltypefair_1.FIXEDCELLS__CONSENSUS_pseudobulk_bw_files_nonnorm/10xv1_Dendritic_cell.bw',\n",
       "  '10xmultiome': 'per_tech_harmony_cell_type_bigwigs_nonnorm/master_celltypefair_1.FIXEDCELLS__CONSENSUS_pseudobulk_bw_files_nonnorm/10xmultiome_Dendritic_cell.bw',\n",
       "  's3atac': 'per_tech_harmony_cell_type_bigwigs_nonnorm/master_celltypefair_1.FIXEDCELLS__CONSENSUS_pseudobulk_bw_files_nonnorm/s3atac_Dendritic_cell.bw',\n",
       "  '10xv11': 'per_tech_harmony_cell_type_bigwigs_nonnorm/master_celltypefair_1.FIXEDCELLS__CONSENSUS_pseudobulk_bw_files_nonnorm/10xv11_Dendritic_cell.bw',\n",
       "  'hydrop': 'per_tech_harmony_cell_type_bigwigs_nonnorm/master_celltypefair_1.FIXEDCELLS__CONSENSUS_pseudobulk_bw_files_nonnorm/hydrop_Dendritic_cell.bw'},\n",
       " 'B_cell': {'10xmultiome': 'per_tech_harmony_cell_type_bigwigs_nonnorm/master_celltypefair_1.FIXEDCELLS__CONSENSUS_pseudobulk_bw_files_nonnorm/10xmultiome_B_cell.bw',\n",
       "  'mtscatac': 'per_tech_harmony_cell_type_bigwigs_nonnorm/master_celltypefair_1.FIXEDCELLS__CONSENSUS_pseudobulk_bw_files_nonnorm/mtscatac_B_cell.bw',\n",
       "  '10xv11': 'per_tech_harmony_cell_type_bigwigs_nonnorm/master_celltypefair_1.FIXEDCELLS__CONSENSUS_pseudobulk_bw_files_nonnorm/10xv11_B_cell.bw',\n",
       "  'ddseq': 'per_tech_harmony_cell_type_bigwigs_nonnorm/master_celltypefair_1.FIXEDCELLS__CONSENSUS_pseudobulk_bw_files_nonnorm/ddseq_B_cell.bw',\n",
       "  'hydrop': 'per_tech_harmony_cell_type_bigwigs_nonnorm/master_celltypefair_1.FIXEDCELLS__CONSENSUS_pseudobulk_bw_files_nonnorm/hydrop_B_cell.bw',\n",
       "  's3atac': 'per_tech_harmony_cell_type_bigwigs_nonnorm/master_celltypefair_1.FIXEDCELLS__CONSENSUS_pseudobulk_bw_files_nonnorm/s3atac_B_cell.bw',\n",
       "  '10xv1': 'per_tech_harmony_cell_type_bigwigs_nonnorm/master_celltypefair_1.FIXEDCELLS__CONSENSUS_pseudobulk_bw_files_nonnorm/10xv1_B_cell.bw',\n",
       "  '10xv2': 'per_tech_harmony_cell_type_bigwigs_nonnorm/master_celltypefair_1.FIXEDCELLS__CONSENSUS_pseudobulk_bw_files_nonnorm/10xv2_B_cell.bw'},\n",
       " 'Natural_killer_cell': {'s3atac': 'per_tech_harmony_cell_type_bigwigs_nonnorm/master_celltypefair_1.FIXEDCELLS__CONSENSUS_pseudobulk_bw_files_nonnorm/s3atac_Natural_killer_cell.bw',\n",
       "  '10xv1': 'per_tech_harmony_cell_type_bigwigs_nonnorm/master_celltypefair_1.FIXEDCELLS__CONSENSUS_pseudobulk_bw_files_nonnorm/10xv1_Natural_killer_cell.bw',\n",
       "  'ddseq': 'per_tech_harmony_cell_type_bigwigs_nonnorm/master_celltypefair_1.FIXEDCELLS__CONSENSUS_pseudobulk_bw_files_nonnorm/ddseq_Natural_killer_cell.bw',\n",
       "  '10xv11': 'per_tech_harmony_cell_type_bigwigs_nonnorm/master_celltypefair_1.FIXEDCELLS__CONSENSUS_pseudobulk_bw_files_nonnorm/10xv11_Natural_killer_cell.bw',\n",
       "  '10xv2': 'per_tech_harmony_cell_type_bigwigs_nonnorm/master_celltypefair_1.FIXEDCELLS__CONSENSUS_pseudobulk_bw_files_nonnorm/10xv2_Natural_killer_cell.bw',\n",
       "  'mtscatac': 'per_tech_harmony_cell_type_bigwigs_nonnorm/master_celltypefair_1.FIXEDCELLS__CONSENSUS_pseudobulk_bw_files_nonnorm/mtscatac_Natural_killer_cell.bw',\n",
       "  '10xmultiome': 'per_tech_harmony_cell_type_bigwigs_nonnorm/master_celltypefair_1.FIXEDCELLS__CONSENSUS_pseudobulk_bw_files_nonnorm/10xmultiome_Natural_killer_cell.bw',\n",
       "  'hydrop': 'per_tech_harmony_cell_type_bigwigs_nonnorm/master_celltypefair_1.FIXEDCELLS__CONSENSUS_pseudobulk_bw_files_nonnorm/hydrop_Natural_killer_cell.bw'},\n",
       " 'CD14_monocyte': {'10xv2': 'per_tech_harmony_cell_type_bigwigs_nonnorm/master_celltypefair_1.FIXEDCELLS__CONSENSUS_pseudobulk_bw_files_nonnorm/10xv2_CD14_monocyte.bw',\n",
       "  'hydrop': 'per_tech_harmony_cell_type_bigwigs_nonnorm/master_celltypefair_1.FIXEDCELLS__CONSENSUS_pseudobulk_bw_files_nonnorm/hydrop_CD14_monocyte.bw',\n",
       "  '10xmultiome': 'per_tech_harmony_cell_type_bigwigs_nonnorm/master_celltypefair_1.FIXEDCELLS__CONSENSUS_pseudobulk_bw_files_nonnorm/10xmultiome_CD14_monocyte.bw',\n",
       "  'ddseq': 'per_tech_harmony_cell_type_bigwigs_nonnorm/master_celltypefair_1.FIXEDCELLS__CONSENSUS_pseudobulk_bw_files_nonnorm/ddseq_CD14_monocyte.bw',\n",
       "  'mtscatac': 'per_tech_harmony_cell_type_bigwigs_nonnorm/master_celltypefair_1.FIXEDCELLS__CONSENSUS_pseudobulk_bw_files_nonnorm/mtscatac_CD14_monocyte.bw',\n",
       "  's3atac': 'per_tech_harmony_cell_type_bigwigs_nonnorm/master_celltypefair_1.FIXEDCELLS__CONSENSUS_pseudobulk_bw_files_nonnorm/s3atac_CD14_monocyte.bw',\n",
       "  '10xv11': 'per_tech_harmony_cell_type_bigwigs_nonnorm/master_celltypefair_1.FIXEDCELLS__CONSENSUS_pseudobulk_bw_files_nonnorm/10xv11_CD14_monocyte.bw',\n",
       "  '10xv1': 'per_tech_harmony_cell_type_bigwigs_nonnorm/master_celltypefair_1.FIXEDCELLS__CONSENSUS_pseudobulk_bw_files_nonnorm/10xv1_CD14_monocyte.bw'},\n",
       " 'CD16_monocyte': {'10xv1': 'per_tech_harmony_cell_type_bigwigs_nonnorm/master_celltypefair_1.FIXEDCELLS__CONSENSUS_pseudobulk_bw_files_nonnorm/10xv1_CD16_monocyte.bw',\n",
       "  'mtscatac': 'per_tech_harmony_cell_type_bigwigs_nonnorm/master_celltypefair_1.FIXEDCELLS__CONSENSUS_pseudobulk_bw_files_nonnorm/mtscatac_CD16_monocyte.bw',\n",
       "  'hydrop': 'per_tech_harmony_cell_type_bigwigs_nonnorm/master_celltypefair_1.FIXEDCELLS__CONSENSUS_pseudobulk_bw_files_nonnorm/hydrop_CD16_monocyte.bw',\n",
       "  '10xmultiome': 'per_tech_harmony_cell_type_bigwigs_nonnorm/master_celltypefair_1.FIXEDCELLS__CONSENSUS_pseudobulk_bw_files_nonnorm/10xmultiome_CD16_monocyte.bw',\n",
       "  's3atac': 'per_tech_harmony_cell_type_bigwigs_nonnorm/master_celltypefair_1.FIXEDCELLS__CONSENSUS_pseudobulk_bw_files_nonnorm/s3atac_CD16_monocyte.bw',\n",
       "  '10xv2': 'per_tech_harmony_cell_type_bigwigs_nonnorm/master_celltypefair_1.FIXEDCELLS__CONSENSUS_pseudobulk_bw_files_nonnorm/10xv2_CD16_monocyte.bw',\n",
       "  'ddseq': 'per_tech_harmony_cell_type_bigwigs_nonnorm/master_celltypefair_1.FIXEDCELLS__CONSENSUS_pseudobulk_bw_files_nonnorm/ddseq_CD16_monocyte.bw',\n",
       "  '10xv11': 'per_tech_harmony_cell_type_bigwigs_nonnorm/master_celltypefair_1.FIXEDCELLS__CONSENSUS_pseudobulk_bw_files_nonnorm/10xv11_CD16_monocyte.bw'},\n",
       " 'Cytotoxic_T_cell': {'10xv1': 'per_tech_harmony_cell_type_bigwigs_nonnorm/master_celltypefair_1.FIXEDCELLS__CONSENSUS_pseudobulk_bw_files_nonnorm/10xv1_Cytotoxic_T_cell.bw',\n",
       "  'ddseq': 'per_tech_harmony_cell_type_bigwigs_nonnorm/master_celltypefair_1.FIXEDCELLS__CONSENSUS_pseudobulk_bw_files_nonnorm/ddseq_Cytotoxic_T_cell.bw',\n",
       "  's3atac': 'per_tech_harmony_cell_type_bigwigs_nonnorm/master_celltypefair_1.FIXEDCELLS__CONSENSUS_pseudobulk_bw_files_nonnorm/s3atac_Cytotoxic_T_cell.bw',\n",
       "  'mtscatac': 'per_tech_harmony_cell_type_bigwigs_nonnorm/master_celltypefair_1.FIXEDCELLS__CONSENSUS_pseudobulk_bw_files_nonnorm/mtscatac_Cytotoxic_T_cell.bw',\n",
       "  '10xv2': 'per_tech_harmony_cell_type_bigwigs_nonnorm/master_celltypefair_1.FIXEDCELLS__CONSENSUS_pseudobulk_bw_files_nonnorm/10xv2_Cytotoxic_T_cell.bw',\n",
       "  '10xmultiome': 'per_tech_harmony_cell_type_bigwigs_nonnorm/master_celltypefair_1.FIXEDCELLS__CONSENSUS_pseudobulk_bw_files_nonnorm/10xmultiome_Cytotoxic_T_cell.bw',\n",
       "  'hydrop': 'per_tech_harmony_cell_type_bigwigs_nonnorm/master_celltypefair_1.FIXEDCELLS__CONSENSUS_pseudobulk_bw_files_nonnorm/hydrop_Cytotoxic_T_cell.bw',\n",
       "  '10xv11': 'per_tech_harmony_cell_type_bigwigs_nonnorm/master_celltypefair_1.FIXEDCELLS__CONSENSUS_pseudobulk_bw_files_nonnorm/10xv11_Cytotoxic_T_cell.bw'},\n",
       " 'CD4_T_cell': {'mtscatac': 'per_tech_harmony_cell_type_bigwigs_nonnorm/master_celltypefair_1.FIXEDCELLS__CONSENSUS_pseudobulk_bw_files_nonnorm/mtscatac_CD4_T_cell.bw',\n",
       "  '10xv11': 'per_tech_harmony_cell_type_bigwigs_nonnorm/master_celltypefair_1.FIXEDCELLS__CONSENSUS_pseudobulk_bw_files_nonnorm/10xv11_CD4_T_cell.bw',\n",
       "  's3atac': 'per_tech_harmony_cell_type_bigwigs_nonnorm/master_celltypefair_1.FIXEDCELLS__CONSENSUS_pseudobulk_bw_files_nonnorm/s3atac_CD4_T_cell.bw',\n",
       "  '10xv2': 'per_tech_harmony_cell_type_bigwigs_nonnorm/master_celltypefair_1.FIXEDCELLS__CONSENSUS_pseudobulk_bw_files_nonnorm/10xv2_CD4_T_cell.bw',\n",
       "  '10xv1': 'per_tech_harmony_cell_type_bigwigs_nonnorm/master_celltypefair_1.FIXEDCELLS__CONSENSUS_pseudobulk_bw_files_nonnorm/10xv1_CD4_T_cell.bw',\n",
       "  'hydrop': 'per_tech_harmony_cell_type_bigwigs_nonnorm/master_celltypefair_1.FIXEDCELLS__CONSENSUS_pseudobulk_bw_files_nonnorm/hydrop_CD4_T_cell.bw',\n",
       "  '10xmultiome': 'per_tech_harmony_cell_type_bigwigs_nonnorm/master_celltypefair_1.FIXEDCELLS__CONSENSUS_pseudobulk_bw_files_nonnorm/10xmultiome_CD4_T_cell.bw',\n",
       "  'ddseq': 'per_tech_harmony_cell_type_bigwigs_nonnorm/master_celltypefair_1.FIXEDCELLS__CONSENSUS_pseudobulk_bw_files_nonnorm/ddseq_CD4_T_cell.bw'}}"
      ]
     },
     "execution_count": 302,
     "metadata": {},
     "output_type": "execute_result"
    }
   ],
   "source": [
    "cell_types = list(\n",
    "    set(\n",
    "        [\n",
    "            \"_\".join(x.split(\"/\")[-1].split(\"_\")[1:]).split(\".\")[0]\n",
    "            for x in glob.glob(\n",
    "                \"per_tech_harmony_cell_type_bigwigs_nonnorm/master_celltypefair_1.FIXEDCELLS__CONSENSUS_pseudobulk_bw_files_nonnorm/*\"\n",
    "            )\n",
    "        ]\n",
    "    )\n",
    ")\n",
    "\n",
    "bw_path_dict_dict = {}\n",
    "for cell_type in cell_types:\n",
    "    # print(cell_type)\n",
    "    bw_path_dict_dict[cell_type] = {\n",
    "        x.split(\"/\")[-1].split(\"_\")[0]: x\n",
    "        for x in glob.glob(\n",
    "            f\"per_tech_harmony_cell_type_bigwigs_nonnorm/master_celltypefair_1.FIXEDCELLS__CONSENSUS_pseudobulk_bw_files_nonnorm/*{cell_type}*\"\n",
    "        )\n",
    "    }\n",
    "bw_path_dict_dict"
   ]
  },
  {
   "cell_type": "code",
   "execution_count": 303,
   "id": "61364084-1734-4f03-a479-88a85c776b7f",
   "metadata": {
    "execution": {
     "iopub.execute_input": "2023-02-15T15:41:47.251471Z",
     "iopub.status.busy": "2023-02-15T15:41:47.251270Z",
     "iopub.status.idle": "2023-02-15T15:41:47.259212Z",
     "shell.execute_reply": "2023-02-15T15:41:47.258431Z",
     "shell.execute_reply.started": "2023-02-15T15:41:47.251450Z"
    },
    "tags": []
   },
   "outputs": [],
   "source": [
    "dar_color = \"b\"\n",
    "peak_color = \"k\"\n",
    "gene_height = 3\n",
    "gene_bottom = -gene_height / 2\n",
    "exon_height = 6\n",
    "exon_bottom = -exon_height / 2\n",
    "\n",
    "figsize = (6, 8)"
   ]
  },
  {
   "cell_type": "code",
   "execution_count": 304,
   "id": "305362a7-a7b1-41cc-82c6-41c24e16105f",
   "metadata": {
    "execution": {
     "iopub.execute_input": "2023-02-15T15:41:47.260252Z",
     "iopub.status.busy": "2023-02-15T15:41:47.260049Z",
     "iopub.status.idle": "2023-02-15T15:41:47.270653Z",
     "shell.execute_reply": "2023-02-15T15:41:47.269876Z",
     "shell.execute_reply.started": "2023-02-15T15:41:47.260231Z"
    },
    "tags": []
   },
   "outputs": [],
   "source": [
    "def addax():\n",
    "    ax.set_xlim([x.min(), x.max()])\n",
    "    sns.despine(top=True, right=True, left=True, bottom=True, ax=ax)\n",
    "    ax.set_xticks([])\n",
    "    ax.set_yticks([])\n",
    "    ax.patch.set_alpha(\n",
    "        0\n",
    "    )  # make sure that each individual subplot is transparent! otherwise the underlying plots won't be shown. this is important e.g. for the dar/peak visualisaton, since the DARs are drawn directly on top of the peaks. if the DAR plot is not transparent, no peaks will be visible!!\n",
    "\n",
    "    fig.add_subplot(ax)"
   ]
  },
  {
   "cell_type": "code",
   "execution_count": 305,
   "id": "47a05626-ef29-4266-8bc7-c171d6624182",
   "metadata": {
    "execution": {
     "iopub.execute_input": "2023-02-15T15:41:47.271692Z",
     "iopub.status.busy": "2023-02-15T15:41:47.271489Z",
     "iopub.status.idle": "2023-02-15T15:41:47.275850Z",
     "shell.execute_reply": "2023-02-15T15:41:47.275089Z",
     "shell.execute_reply.started": "2023-02-15T15:41:47.271671Z"
    },
    "tags": []
   },
   "outputs": [],
   "source": [
    "max_genes = 1"
   ]
  },
  {
   "cell_type": "code",
   "execution_count": 306,
   "id": "9d3bfc7b-1969-4edd-897c-14bf43e4532d",
   "metadata": {
    "execution": {
     "iopub.execute_input": "2023-02-15T15:41:47.276844Z",
     "iopub.status.busy": "2023-02-15T15:41:47.276652Z",
     "iopub.status.idle": "2023-02-15T15:41:47.282210Z",
     "shell.execute_reply": "2023-02-15T15:41:47.281416Z",
     "shell.execute_reply.started": "2023-02-15T15:41:47.276824Z"
    },
    "tags": []
   },
   "outputs": [],
   "source": [
    "plot_genes = False\n",
    "verbose = True"
   ]
  },
  {
   "cell_type": "code",
   "execution_count": 307,
   "id": "9f1b9c78-0eb2-4d7d-9786-a1670ca55912",
   "metadata": {
    "execution": {
     "iopub.execute_input": "2023-02-15T15:41:47.283162Z",
     "iopub.status.busy": "2023-02-15T15:41:47.282963Z",
     "iopub.status.idle": "2023-02-15T15:41:47.300777Z",
     "shell.execute_reply": "2023-02-15T15:41:47.299895Z",
     "shell.execute_reply.started": "2023-02-15T15:41:47.283141Z"
    },
    "tags": []
   },
   "outputs": [],
   "source": [
    "region_forced_length = 2000\n",
    "\n",
    "regions_df_padded = regions_df.copy()\n",
    "\n",
    "regions_df_padded[\"region_center\"] = (\n",
    "    regions_df_padded[\"start\"]\n",
    "    + (regions_df_padded[\"end\"] - regions_df_padded[\"start\"]) / 2\n",
    ")\n",
    "\n",
    "\n",
    "regions_df_padded[\"start\"] = (\n",
    "    regions_df_padded[\"region_center\"] - region_forced_length / 2\n",
    ")\n",
    "regions_df_padded[\"start\"] = [int(x) for x in regions_df_padded[\"start\"]]\n",
    "regions_df_padded[\"end\"] = regions_df_padded[\"region_center\"] + region_forced_length / 2\n",
    "regions_df_padded[\"end\"] = [int(x) for x in regions_df_padded[\"end\"]]"
   ]
  },
  {
   "cell_type": "code",
   "execution_count": 308,
   "id": "c722f596-ca7b-4e16-bd90-5fbc351d6741",
   "metadata": {
    "execution": {
     "iopub.execute_input": "2023-02-15T15:41:47.301845Z",
     "iopub.status.busy": "2023-02-15T15:41:47.301642Z",
     "iopub.status.idle": "2023-02-15T15:41:47.727278Z",
     "shell.execute_reply": "2023-02-15T15:41:47.726415Z",
     "shell.execute_reply.started": "2023-02-15T15:41:47.301824Z"
    },
    "tags": []
   },
   "outputs": [
    {
     "name": "stdout",
     "output_type": "stream",
     "text": [
      "calculated max values within region Natural_killer_cell\n",
      "calculated max values within region CD16+_monocyte\n",
      "calculated max values within region Dendritic_cell\n",
      "calculated max values within region B_cell\n",
      "calculated max values within region CD4+_T_cell\n",
      "calculated max values within region CD14+_monocyte\n",
      "calculated max values within region Cytotoxic_T_cell\n"
     ]
    },
    {
     "data": {
      "text/plain": [
       "{'Natural_killer_cell': 27.0,\n",
       " 'CD16+_monocyte': 36.0,\n",
       " 'Dendritic_cell': 17.0,\n",
       " 'B_cell': 37.0,\n",
       " 'CD4+_T_cell': 19.0,\n",
       " 'CD14+_monocyte': 36.0,\n",
       " 'Cytotoxic_T_cell': 39.0}"
      ]
     },
     "execution_count": 308,
     "metadata": {},
     "output_type": "execute_result"
    }
   ],
   "source": [
    "## calculate bw_ymax per col\n",
    "region_max_dict_padded = {}\n",
    "for region_name in regions_df_padded.index:\n",
    "    chrom = regions_df_padded.loc[region_name][\"chrom\"]\n",
    "    start = int(regions_df_padded.loc[region_name][\"start\"])\n",
    "    end = int(regions_df_padded.loc[region_name][\"end\"])\n",
    "\n",
    "    bw_ymax_dict_dict = {}\n",
    "    for cell_type in bw_path_dict_dict.keys():\n",
    "        bw_ymax_dict = {}\n",
    "\n",
    "        for tech in bw_path_dict_dict[cell_type].keys():\n",
    "            bw_file = bw_path_dict_dict[cell_type][tech]\n",
    "\n",
    "            # calculate max value of the bigwig within our region\n",
    "            bw = pyBigWig.open(bw_file)\n",
    "            y = bw.values(chrom, start, end)\n",
    "            y = np.nan_to_num(y)\n",
    "\n",
    "            bw_ymax_dict[tech] = y.max()\n",
    "\n",
    "        bw_ymax_dict_dict[cell_type] = max(bw_ymax_dict.values())\n",
    "\n",
    "    region_max_dict_padded[region_name] = bw_ymax_dict_dict[\n",
    "        max(bw_ymax_dict_dict, key=bw_ymax_dict_dict.get)\n",
    "    ]\n",
    "    print(f\"calculated max values within region {region_name}\")\n",
    "\n",
    "region_max_dict_padded"
   ]
  },
  {
   "cell_type": "code",
   "execution_count": 309,
   "id": "ac77c731-8adc-4286-ad89-57170b1a584d",
   "metadata": {
    "execution": {
     "iopub.execute_input": "2023-02-15T15:41:47.728298Z",
     "iopub.status.busy": "2023-02-15T15:41:47.728088Z",
     "iopub.status.idle": "2023-02-15T15:41:47.737097Z",
     "shell.execute_reply": "2023-02-15T15:41:47.736362Z",
     "shell.execute_reply.started": "2023-02-15T15:41:47.728277Z"
    },
    "tags": []
   },
   "outputs": [
    {
     "data": {
      "text/html": [
       "<div>\n",
       "<style scoped>\n",
       "    .dataframe tbody tr th:only-of-type {\n",
       "        vertical-align: middle;\n",
       "    }\n",
       "\n",
       "    .dataframe tbody tr th {\n",
       "        vertical-align: top;\n",
       "    }\n",
       "\n",
       "    .dataframe thead th {\n",
       "        text-align: right;\n",
       "    }\n",
       "</style>\n",
       "<table border=\"1\" class=\"dataframe\">\n",
       "  <thead>\n",
       "    <tr style=\"text-align: right;\">\n",
       "      <th></th>\n",
       "      <th>chrom</th>\n",
       "      <th>start</th>\n",
       "      <th>end</th>\n",
       "      <th>region_center</th>\n",
       "    </tr>\n",
       "  </thead>\n",
       "  <tbody>\n",
       "    <tr>\n",
       "      <th>Natural_killer_cell</th>\n",
       "      <td>chr8</td>\n",
       "      <td>59656862</td>\n",
       "      <td>59658862</td>\n",
       "      <td>59657862.0</td>\n",
       "    </tr>\n",
       "    <tr>\n",
       "      <th>CD16+_monocyte</th>\n",
       "      <td>chr6</td>\n",
       "      <td>24235995</td>\n",
       "      <td>24237995</td>\n",
       "      <td>24236995.0</td>\n",
       "    </tr>\n",
       "    <tr>\n",
       "      <th>Dendritic_cell</th>\n",
       "      <td>chr11</td>\n",
       "      <td>119583305</td>\n",
       "      <td>119585305</td>\n",
       "      <td>119584305.0</td>\n",
       "    </tr>\n",
       "    <tr>\n",
       "      <th>B_cell</th>\n",
       "      <td>chr9</td>\n",
       "      <td>37564787</td>\n",
       "      <td>37566787</td>\n",
       "      <td>37565787.0</td>\n",
       "    </tr>\n",
       "    <tr>\n",
       "      <th>CD4+_T_cell</th>\n",
       "      <td>chr20</td>\n",
       "      <td>3122198</td>\n",
       "      <td>3124198</td>\n",
       "      <td>3123198.0</td>\n",
       "    </tr>\n",
       "    <tr>\n",
       "      <th>CD14+_monocyte</th>\n",
       "      <td>chr8</td>\n",
       "      <td>138739383</td>\n",
       "      <td>138741383</td>\n",
       "      <td>138740383.0</td>\n",
       "    </tr>\n",
       "    <tr>\n",
       "      <th>Cytotoxic_T_cell</th>\n",
       "      <td>chr2</td>\n",
       "      <td>144328201</td>\n",
       "      <td>144330201</td>\n",
       "      <td>144329201.0</td>\n",
       "    </tr>\n",
       "  </tbody>\n",
       "</table>\n",
       "</div>"
      ],
      "text/plain": [
       "                     chrom      start        end region_center\n",
       "Natural_killer_cell   chr8   59656862   59658862    59657862.0\n",
       "CD16+_monocyte        chr6   24235995   24237995    24236995.0\n",
       "Dendritic_cell       chr11  119583305  119585305   119584305.0\n",
       "B_cell                chr9   37564787   37566787    37565787.0\n",
       "CD4+_T_cell          chr20    3122198    3124198     3123198.0\n",
       "CD14+_monocyte        chr8  138739383  138741383   138740383.0\n",
       "Cytotoxic_T_cell      chr2  144328201  144330201   144329201.0"
      ]
     },
     "execution_count": 309,
     "metadata": {},
     "output_type": "execute_result"
    }
   ],
   "source": [
    "regions_df_padded"
   ]
  },
  {
   "cell_type": "code",
   "execution_count": 310,
   "id": "366d61b0-5254-441a-9de0-51ca141d7b28",
   "metadata": {
    "execution": {
     "iopub.execute_input": "2023-02-15T15:41:47.738134Z",
     "iopub.status.busy": "2023-02-15T15:41:47.737926Z",
     "iopub.status.idle": "2023-02-15T15:41:47.777510Z",
     "shell.execute_reply": "2023-02-15T15:41:47.776693Z",
     "shell.execute_reply.started": "2023-02-15T15:41:47.738113Z"
    },
    "tags": []
   },
   "outputs": [
    {
     "data": {
      "text/plain": [
       "OrderedDict([('Natural_killer_cell', 'chr8:59656612.0-59659112.0'),\n",
       "             ('CD16_monocyte', 'chr6:24235745.0-24238245.0'),\n",
       "             ('Dendritic_cell', 'chr11:119583055.0-119585555.0'),\n",
       "             ('B_cell', 'chr9:37564537.0-37567037.0'),\n",
       "             ('CD4_T_cell', 'chr20:3121948.0-3124448.0'),\n",
       "             ('CD14_monocyte', 'chr8:138739133.0-138741633.0'),\n",
       "             ('Cytotoxic_T_cell', 'chr2:144327951.0-144330451.0')])"
      ]
     },
     "execution_count": 310,
     "metadata": {},
     "output_type": "execute_result"
    }
   ],
   "source": [
    "regions_dict_padded = OrderedDict({})\n",
    "\n",
    "for supersample, path in merged_dar_path_dict.items():\n",
    "    # print(supersample)\n",
    "    df = pd.read_csv(path, sep=\"\\t\", header=None)\n",
    "    df.columns = \"chrom start end cell_type log2fc strand p_val\".split()\n",
    "    # print(df.iloc[0])\n",
    "\n",
    "    cell_type = supersample.split(\"__\")[-1].replace(\"+\", \"\")\n",
    "    region = f\"{df.iloc[0]['chrom']}:{df.iloc[0]['start']- region_forced_length / 2}-{df.iloc[0]['end']+region_forced_length / 2}\"\n",
    "    regions_dict_padded[cell_type] = region\n",
    "\n",
    "regions_dict_padded"
   ]
  },
  {
   "cell_type": "code",
   "execution_count": 311,
   "id": "46601fad-676c-42fc-9c25-fd36975a512c",
   "metadata": {
    "execution": {
     "iopub.execute_input": "2023-02-15T15:41:47.778535Z",
     "iopub.status.busy": "2023-02-15T15:41:47.778340Z",
     "iopub.status.idle": "2023-02-15T15:41:47.783948Z",
     "shell.execute_reply": "2023-02-15T15:41:47.783211Z",
     "shell.execute_reply.started": "2023-02-15T15:41:47.778514Z"
    },
    "tags": []
   },
   "outputs": [
    {
     "data": {
      "text/plain": [
       "dict_keys(['Dendritic_cell', 'B_cell', 'Natural_killer_cell', 'CD14_monocyte', 'CD16_monocyte', 'Cytotoxic_T_cell', 'CD4_T_cell'])"
      ]
     },
     "execution_count": 311,
     "metadata": {},
     "output_type": "execute_result"
    }
   ],
   "source": [
    "bw_path_dict_dict.keys()"
   ]
  },
  {
   "cell_type": "code",
   "execution_count": 312,
   "id": "6ddd3d16-b2a4-4d95-abf0-03b8c3c81847",
   "metadata": {
    "execution": {
     "iopub.execute_input": "2023-02-15T15:41:47.784866Z",
     "iopub.status.busy": "2023-02-15T15:41:47.784673Z",
     "iopub.status.idle": "2023-02-15T15:41:47.790436Z",
     "shell.execute_reply": "2023-02-15T15:41:47.789674Z",
     "shell.execute_reply.started": "2023-02-15T15:41:47.784847Z"
    },
    "tags": []
   },
   "outputs": [],
   "source": [
    "regions_df_padded.index = [x.replace(\"+\", \"\") for x in regions_df_padded.index]"
   ]
  },
  {
   "cell_type": "code",
   "execution_count": 313,
   "id": "85f119bc-fb4a-493c-a955-606438ff577b",
   "metadata": {
    "execution": {
     "iopub.execute_input": "2023-02-15T15:41:47.793444Z",
     "iopub.status.busy": "2023-02-15T15:41:47.793237Z",
     "iopub.status.idle": "2023-02-15T15:41:47.801830Z",
     "shell.execute_reply": "2023-02-15T15:41:47.800949Z",
     "shell.execute_reply.started": "2023-02-15T15:41:47.793423Z"
    },
    "tags": []
   },
   "outputs": [
    {
     "data": {
      "text/plain": [
       "{'Natural_killer_cell': 'final_consensus_peaks/master_celltypefair_1.FIXEDCELLS__SCREEN_consensus_peaks.bed',\n",
       " 'CD16_monocyte': 'final_consensus_peaks/master_celltypefair_1.FIXEDCELLS__SCREEN_consensus_peaks.bed',\n",
       " 'Dendritic_cell': 'final_consensus_peaks/master_celltypefair_1.FIXEDCELLS__SCREEN_consensus_peaks.bed',\n",
       " 'B_cell': 'final_consensus_peaks/master_celltypefair_1.FIXEDCELLS__SCREEN_consensus_peaks.bed',\n",
       " 'CD4_T_cell': 'final_consensus_peaks/master_celltypefair_1.FIXEDCELLS__SCREEN_consensus_peaks.bed',\n",
       " 'CD14_monocyte': 'final_consensus_peaks/master_celltypefair_1.FIXEDCELLS__SCREEN_consensus_peaks.bed',\n",
       " 'Cytotoxic_T_cell': 'final_consensus_peaks/master_celltypefair_1.FIXEDCELLS__SCREEN_consensus_peaks.bed'}"
      ]
     },
     "execution_count": 313,
     "metadata": {},
     "output_type": "execute_result"
    }
   ],
   "source": [
    "peak_path_dict = {\n",
    "    x.replace(\n",
    "        \"+\", \"\"\n",
    "    ): \"final_consensus_peaks/master_celltypefair_1.FIXEDCELLS__SCREEN_consensus_peaks.bed\"\n",
    "    for x in regions_dict.keys()\n",
    "}\n",
    "peak_path_dict"
   ]
  },
  {
   "cell_type": "code",
   "execution_count": 314,
   "id": "fadd23d4-aec7-477b-b82d-75b38b16d181",
   "metadata": {
    "execution": {
     "iopub.execute_input": "2023-02-15T15:41:47.803156Z",
     "iopub.status.busy": "2023-02-15T15:41:47.802961Z",
     "iopub.status.idle": "2023-02-15T15:41:47.810769Z",
     "shell.execute_reply": "2023-02-15T15:41:47.809918Z",
     "shell.execute_reply.started": "2023-02-15T15:41:47.803137Z"
    },
    "tags": []
   },
   "outputs": [
    {
     "data": {
      "text/plain": [
       "True"
      ]
     },
     "execution_count": 314,
     "metadata": {},
     "output_type": "execute_result"
    }
   ],
   "source": [
    "set(regions_df_padded.index) == set(regions_dict_padded.keys()) == set(\n",
    "    bw_path_dict_dict.keys()\n",
    ") == set(peak_path_dict.keys())"
   ]
  },
  {
   "cell_type": "code",
   "execution_count": 315,
   "id": "37d6ba59-6610-41bc-8cc1-89cfaf93631d",
   "metadata": {
    "execution": {
     "iopub.execute_input": "2023-02-15T15:41:47.811705Z",
     "iopub.status.busy": "2023-02-15T15:41:47.811519Z",
     "iopub.status.idle": "2023-02-15T15:41:47.816538Z",
     "shell.execute_reply": "2023-02-15T15:41:47.815826Z",
     "shell.execute_reply.started": "2023-02-15T15:41:47.811685Z"
    },
    "tags": []
   },
   "outputs": [
    {
     "data": {
      "text/plain": [
       "['B_cell',\n",
       " 'CD14_monocyte',\n",
       " 'CD4_T_cell',\n",
       " 'Cytotoxic_T_cell',\n",
       " 'Dendritic_cell',\n",
       " 'Natural_killer_cell',\n",
       " 'CD16_monocyte']"
      ]
     },
     "execution_count": 315,
     "metadata": {},
     "output_type": "execute_result"
    }
   ],
   "source": [
    "cell_type_order"
   ]
  },
  {
   "cell_type": "code",
   "execution_count": 316,
   "id": "6caca145-111d-4a13-9635-120e26338593",
   "metadata": {
    "execution": {
     "iopub.execute_input": "2023-02-15T15:41:47.817519Z",
     "iopub.status.busy": "2023-02-15T15:41:47.817335Z",
     "iopub.status.idle": "2023-02-15T15:42:18.432774Z",
     "shell.execute_reply": "2023-02-15T15:42:18.431457Z",
     "shell.execute_reply.started": "2023-02-15T15:41:47.817500Z"
    },
    "tags": []
   },
   "outputs": [
    {
     "name": "stdout",
     "output_type": "stream",
     "text": [
      "drawing column for region B_cell\n",
      "\t10xv1: alias 10x v1\n",
      "\t\tbw: per_tech_harmony_cell_type_bigwigs_nonnorm/master_celltypefair_1.FIXEDCELLS__CONSENSUS_pseudobulk_bw_files_nonnorm/10xv1_B_cell.bw\n",
      "\t10xv11: alias 10x v1.1\n",
      "\t\tbw: per_tech_harmony_cell_type_bigwigs_nonnorm/master_celltypefair_1.FIXEDCELLS__CONSENSUS_pseudobulk_bw_files_nonnorm/10xv11_B_cell.bw\n",
      "\t10xv2: alias 10x v2\n",
      "\t\tbw: per_tech_harmony_cell_type_bigwigs_nonnorm/master_celltypefair_1.FIXEDCELLS__CONSENSUS_pseudobulk_bw_files_nonnorm/10xv2_B_cell.bw\n",
      "\t10xmultiome: alias 10x Multiome\n",
      "\t\tbw: per_tech_harmony_cell_type_bigwigs_nonnorm/master_celltypefair_1.FIXEDCELLS__CONSENSUS_pseudobulk_bw_files_nonnorm/10xmultiome_B_cell.bw\n",
      "\tmtscatac: alias mtscATAC-seq\n",
      "\t\tbw: per_tech_harmony_cell_type_bigwigs_nonnorm/master_celltypefair_1.FIXEDCELLS__CONSENSUS_pseudobulk_bw_files_nonnorm/mtscatac_B_cell.bw\n",
      "\tddseq: alias ddSEQ SureCell\n",
      "\t\tbw: per_tech_harmony_cell_type_bigwigs_nonnorm/master_celltypefair_1.FIXEDCELLS__CONSENSUS_pseudobulk_bw_files_nonnorm/ddseq_B_cell.bw\n",
      "\ts3atac: alias s3-ATAC\n",
      "\t\tbw: per_tech_harmony_cell_type_bigwigs_nonnorm/master_celltypefair_1.FIXEDCELLS__CONSENSUS_pseudobulk_bw_files_nonnorm/s3atac_B_cell.bw\n",
      "\thydrop: alias HyDrop\n",
      "\t\tbw: per_tech_harmony_cell_type_bigwigs_nonnorm/master_celltypefair_1.FIXEDCELLS__CONSENSUS_pseudobulk_bw_files_nonnorm/hydrop_B_cell.bw\n",
      "drawing column for region CD14_monocyte\n",
      "\t10xv1: alias 10x v1\n",
      "\t\tbw: per_tech_harmony_cell_type_bigwigs_nonnorm/master_celltypefair_1.FIXEDCELLS__CONSENSUS_pseudobulk_bw_files_nonnorm/10xv1_CD14_monocyte.bw\n",
      "\t10xv11: alias 10x v1.1\n",
      "\t\tbw: per_tech_harmony_cell_type_bigwigs_nonnorm/master_celltypefair_1.FIXEDCELLS__CONSENSUS_pseudobulk_bw_files_nonnorm/10xv11_CD14_monocyte.bw\n",
      "\t10xv2: alias 10x v2\n",
      "\t\tbw: per_tech_harmony_cell_type_bigwigs_nonnorm/master_celltypefair_1.FIXEDCELLS__CONSENSUS_pseudobulk_bw_files_nonnorm/10xv2_CD14_monocyte.bw\n",
      "\t10xmultiome: alias 10x Multiome\n",
      "\t\tbw: per_tech_harmony_cell_type_bigwigs_nonnorm/master_celltypefair_1.FIXEDCELLS__CONSENSUS_pseudobulk_bw_files_nonnorm/10xmultiome_CD14_monocyte.bw\n",
      "\tmtscatac: alias mtscATAC-seq\n",
      "\t\tbw: per_tech_harmony_cell_type_bigwigs_nonnorm/master_celltypefair_1.FIXEDCELLS__CONSENSUS_pseudobulk_bw_files_nonnorm/mtscatac_CD14_monocyte.bw\n",
      "\tddseq: alias ddSEQ SureCell\n",
      "\t\tbw: per_tech_harmony_cell_type_bigwigs_nonnorm/master_celltypefair_1.FIXEDCELLS__CONSENSUS_pseudobulk_bw_files_nonnorm/ddseq_CD14_monocyte.bw\n",
      "\ts3atac: alias s3-ATAC\n",
      "\t\tbw: per_tech_harmony_cell_type_bigwigs_nonnorm/master_celltypefair_1.FIXEDCELLS__CONSENSUS_pseudobulk_bw_files_nonnorm/s3atac_CD14_monocyte.bw\n",
      "\thydrop: alias HyDrop\n",
      "\t\tbw: per_tech_harmony_cell_type_bigwigs_nonnorm/master_celltypefair_1.FIXEDCELLS__CONSENSUS_pseudobulk_bw_files_nonnorm/hydrop_CD14_monocyte.bw\n",
      "drawing column for region CD4_T_cell\n",
      "\t10xv1: alias 10x v1\n",
      "\t\tbw: per_tech_harmony_cell_type_bigwigs_nonnorm/master_celltypefair_1.FIXEDCELLS__CONSENSUS_pseudobulk_bw_files_nonnorm/10xv1_CD4_T_cell.bw\n",
      "\t10xv11: alias 10x v1.1\n",
      "\t\tbw: per_tech_harmony_cell_type_bigwigs_nonnorm/master_celltypefair_1.FIXEDCELLS__CONSENSUS_pseudobulk_bw_files_nonnorm/10xv11_CD4_T_cell.bw\n",
      "\t10xv2: alias 10x v2\n",
      "\t\tbw: per_tech_harmony_cell_type_bigwigs_nonnorm/master_celltypefair_1.FIXEDCELLS__CONSENSUS_pseudobulk_bw_files_nonnorm/10xv2_CD4_T_cell.bw\n",
      "\t10xmultiome: alias 10x Multiome\n",
      "\t\tbw: per_tech_harmony_cell_type_bigwigs_nonnorm/master_celltypefair_1.FIXEDCELLS__CONSENSUS_pseudobulk_bw_files_nonnorm/10xmultiome_CD4_T_cell.bw\n",
      "\tmtscatac: alias mtscATAC-seq\n",
      "\t\tbw: per_tech_harmony_cell_type_bigwigs_nonnorm/master_celltypefair_1.FIXEDCELLS__CONSENSUS_pseudobulk_bw_files_nonnorm/mtscatac_CD4_T_cell.bw\n",
      "\tddseq: alias ddSEQ SureCell\n",
      "\t\tbw: per_tech_harmony_cell_type_bigwigs_nonnorm/master_celltypefair_1.FIXEDCELLS__CONSENSUS_pseudobulk_bw_files_nonnorm/ddseq_CD4_T_cell.bw\n",
      "\ts3atac: alias s3-ATAC\n",
      "\t\tbw: per_tech_harmony_cell_type_bigwigs_nonnorm/master_celltypefair_1.FIXEDCELLS__CONSENSUS_pseudobulk_bw_files_nonnorm/s3atac_CD4_T_cell.bw\n",
      "\thydrop: alias HyDrop\n",
      "\t\tbw: per_tech_harmony_cell_type_bigwigs_nonnorm/master_celltypefair_1.FIXEDCELLS__CONSENSUS_pseudobulk_bw_files_nonnorm/hydrop_CD4_T_cell.bw\n",
      "drawing column for region Cytotoxic_T_cell\n",
      "\t10xv1: alias 10x v1\n",
      "\t\tbw: per_tech_harmony_cell_type_bigwigs_nonnorm/master_celltypefair_1.FIXEDCELLS__CONSENSUS_pseudobulk_bw_files_nonnorm/10xv1_Cytotoxic_T_cell.bw\n",
      "\t10xv11: alias 10x v1.1\n",
      "\t\tbw: per_tech_harmony_cell_type_bigwigs_nonnorm/master_celltypefair_1.FIXEDCELLS__CONSENSUS_pseudobulk_bw_files_nonnorm/10xv11_Cytotoxic_T_cell.bw\n",
      "\t10xv2: alias 10x v2\n",
      "\t\tbw: per_tech_harmony_cell_type_bigwigs_nonnorm/master_celltypefair_1.FIXEDCELLS__CONSENSUS_pseudobulk_bw_files_nonnorm/10xv2_Cytotoxic_T_cell.bw\n",
      "\t10xmultiome: alias 10x Multiome\n",
      "\t\tbw: per_tech_harmony_cell_type_bigwigs_nonnorm/master_celltypefair_1.FIXEDCELLS__CONSENSUS_pseudobulk_bw_files_nonnorm/10xmultiome_Cytotoxic_T_cell.bw\n",
      "\tmtscatac: alias mtscATAC-seq\n",
      "\t\tbw: per_tech_harmony_cell_type_bigwigs_nonnorm/master_celltypefair_1.FIXEDCELLS__CONSENSUS_pseudobulk_bw_files_nonnorm/mtscatac_Cytotoxic_T_cell.bw\n",
      "\tddseq: alias ddSEQ SureCell\n",
      "\t\tbw: per_tech_harmony_cell_type_bigwigs_nonnorm/master_celltypefair_1.FIXEDCELLS__CONSENSUS_pseudobulk_bw_files_nonnorm/ddseq_Cytotoxic_T_cell.bw\n",
      "\ts3atac: alias s3-ATAC\n",
      "\t\tbw: per_tech_harmony_cell_type_bigwigs_nonnorm/master_celltypefair_1.FIXEDCELLS__CONSENSUS_pseudobulk_bw_files_nonnorm/s3atac_Cytotoxic_T_cell.bw\n",
      "\thydrop: alias HyDrop\n",
      "\t\tbw: per_tech_harmony_cell_type_bigwigs_nonnorm/master_celltypefair_1.FIXEDCELLS__CONSENSUS_pseudobulk_bw_files_nonnorm/hydrop_Cytotoxic_T_cell.bw\n",
      "drawing column for region Dendritic_cell\n",
      "\t10xv1: alias 10x v1\n",
      "\t\tbw: per_tech_harmony_cell_type_bigwigs_nonnorm/master_celltypefair_1.FIXEDCELLS__CONSENSUS_pseudobulk_bw_files_nonnorm/10xv1_Dendritic_cell.bw\n",
      "\t10xv11: alias 10x v1.1\n",
      "\t\tbw: per_tech_harmony_cell_type_bigwigs_nonnorm/master_celltypefair_1.FIXEDCELLS__CONSENSUS_pseudobulk_bw_files_nonnorm/10xv11_Dendritic_cell.bw\n",
      "\t10xv2: alias 10x v2\n",
      "\t\tbw: per_tech_harmony_cell_type_bigwigs_nonnorm/master_celltypefair_1.FIXEDCELLS__CONSENSUS_pseudobulk_bw_files_nonnorm/10xv2_Dendritic_cell.bw\n",
      "\t10xmultiome: alias 10x Multiome\n",
      "\t\tbw: per_tech_harmony_cell_type_bigwigs_nonnorm/master_celltypefair_1.FIXEDCELLS__CONSENSUS_pseudobulk_bw_files_nonnorm/10xmultiome_Dendritic_cell.bw\n",
      "\tmtscatac: alias mtscATAC-seq\n",
      "\t\tbw: per_tech_harmony_cell_type_bigwigs_nonnorm/master_celltypefair_1.FIXEDCELLS__CONSENSUS_pseudobulk_bw_files_nonnorm/mtscatac_Dendritic_cell.bw\n",
      "\tddseq: alias ddSEQ SureCell\n",
      "\t\tbw: per_tech_harmony_cell_type_bigwigs_nonnorm/master_celltypefair_1.FIXEDCELLS__CONSENSUS_pseudobulk_bw_files_nonnorm/ddseq_Dendritic_cell.bw\n",
      "\ts3atac: alias s3-ATAC\n",
      "\t\tbw: per_tech_harmony_cell_type_bigwigs_nonnorm/master_celltypefair_1.FIXEDCELLS__CONSENSUS_pseudobulk_bw_files_nonnorm/s3atac_Dendritic_cell.bw\n",
      "\thydrop: alias HyDrop\n",
      "\t\tbw: per_tech_harmony_cell_type_bigwigs_nonnorm/master_celltypefair_1.FIXEDCELLS__CONSENSUS_pseudobulk_bw_files_nonnorm/hydrop_Dendritic_cell.bw\n",
      "drawing column for region Natural_killer_cell\n",
      "\t10xv1: alias 10x v1\n",
      "\t\tbw: per_tech_harmony_cell_type_bigwigs_nonnorm/master_celltypefair_1.FIXEDCELLS__CONSENSUS_pseudobulk_bw_files_nonnorm/10xv1_Natural_killer_cell.bw\n",
      "\t10xv11: alias 10x v1.1\n",
      "\t\tbw: per_tech_harmony_cell_type_bigwigs_nonnorm/master_celltypefair_1.FIXEDCELLS__CONSENSUS_pseudobulk_bw_files_nonnorm/10xv11_Natural_killer_cell.bw\n",
      "\t10xv2: alias 10x v2\n",
      "\t\tbw: per_tech_harmony_cell_type_bigwigs_nonnorm/master_celltypefair_1.FIXEDCELLS__CONSENSUS_pseudobulk_bw_files_nonnorm/10xv2_Natural_killer_cell.bw\n",
      "\t10xmultiome: alias 10x Multiome\n",
      "\t\tbw: per_tech_harmony_cell_type_bigwigs_nonnorm/master_celltypefair_1.FIXEDCELLS__CONSENSUS_pseudobulk_bw_files_nonnorm/10xmultiome_Natural_killer_cell.bw\n",
      "\tmtscatac: alias mtscATAC-seq\n",
      "\t\tbw: per_tech_harmony_cell_type_bigwigs_nonnorm/master_celltypefair_1.FIXEDCELLS__CONSENSUS_pseudobulk_bw_files_nonnorm/mtscatac_Natural_killer_cell.bw\n",
      "\tddseq: alias ddSEQ SureCell\n",
      "\t\tbw: per_tech_harmony_cell_type_bigwigs_nonnorm/master_celltypefair_1.FIXEDCELLS__CONSENSUS_pseudobulk_bw_files_nonnorm/ddseq_Natural_killer_cell.bw\n",
      "\ts3atac: alias s3-ATAC\n",
      "\t\tbw: per_tech_harmony_cell_type_bigwigs_nonnorm/master_celltypefair_1.FIXEDCELLS__CONSENSUS_pseudobulk_bw_files_nonnorm/s3atac_Natural_killer_cell.bw\n",
      "\thydrop: alias HyDrop\n",
      "\t\tbw: per_tech_harmony_cell_type_bigwigs_nonnorm/master_celltypefair_1.FIXEDCELLS__CONSENSUS_pseudobulk_bw_files_nonnorm/hydrop_Natural_killer_cell.bw\n",
      "drawing column for region CD16_monocyte\n",
      "\t10xv1: alias 10x v1\n",
      "\t\tbw: per_tech_harmony_cell_type_bigwigs_nonnorm/master_celltypefair_1.FIXEDCELLS__CONSENSUS_pseudobulk_bw_files_nonnorm/10xv1_CD16_monocyte.bw\n",
      "\t10xv11: alias 10x v1.1\n",
      "\t\tbw: per_tech_harmony_cell_type_bigwigs_nonnorm/master_celltypefair_1.FIXEDCELLS__CONSENSUS_pseudobulk_bw_files_nonnorm/10xv11_CD16_monocyte.bw\n",
      "\t10xv2: alias 10x v2\n",
      "\t\tbw: per_tech_harmony_cell_type_bigwigs_nonnorm/master_celltypefair_1.FIXEDCELLS__CONSENSUS_pseudobulk_bw_files_nonnorm/10xv2_CD16_monocyte.bw\n",
      "\t10xmultiome: alias 10x Multiome\n",
      "\t\tbw: per_tech_harmony_cell_type_bigwigs_nonnorm/master_celltypefair_1.FIXEDCELLS__CONSENSUS_pseudobulk_bw_files_nonnorm/10xmultiome_CD16_monocyte.bw\n",
      "\tmtscatac: alias mtscATAC-seq\n",
      "\t\tbw: per_tech_harmony_cell_type_bigwigs_nonnorm/master_celltypefair_1.FIXEDCELLS__CONSENSUS_pseudobulk_bw_files_nonnorm/mtscatac_CD16_monocyte.bw\n",
      "\tddseq: alias ddSEQ SureCell\n",
      "\t\tbw: per_tech_harmony_cell_type_bigwigs_nonnorm/master_celltypefair_1.FIXEDCELLS__CONSENSUS_pseudobulk_bw_files_nonnorm/ddseq_CD16_monocyte.bw\n",
      "\ts3atac: alias s3-ATAC\n",
      "\t\tbw: per_tech_harmony_cell_type_bigwigs_nonnorm/master_celltypefair_1.FIXEDCELLS__CONSENSUS_pseudobulk_bw_files_nonnorm/s3atac_CD16_monocyte.bw\n",
      "\thydrop: alias HyDrop\n",
      "\t\tbw: per_tech_harmony_cell_type_bigwigs_nonnorm/master_celltypefair_1.FIXEDCELLS__CONSENSUS_pseudobulk_bw_files_nonnorm/hydrop_CD16_monocyte.bw\n"
     ]
    },
    {
     "data": {
      "image/png": "[encoded data removed]",
      "text/plain": [
       "<Figure size 432x576 with 112 Axes>"
      ]
     },
     "execution_count": 316,
     "metadata": {},
     "output_type": "execute_result"
    },
    {
     "data": {
      "image/png": "[encoded data removed]",
      "text/plain": [
       "<Figure size 432x576 with 112 Axes>"
      ]
     },
     "metadata": {},
     "output_type": "display_data"
    }
   ],
   "source": [
    "## create the gridspec\n",
    "fig = plt.figure(figsize=figsize, facecolor=\"white\")\n",
    "\n",
    "# define ratios between all elements in the graphic\n",
    "height_ratios = [0.2]  # for gtf\n",
    "height_ratios.append(len(bw_path_dict_dict))  # for bws\n",
    "height_ratios.append(0.1)  # for text box\n",
    "\n",
    "# create a global frame for the 3 modalities shown (bigwigs, gtf, and text)\n",
    "frame = gridspec.GridSpec(3, 1, wspace=0.25, hspace=0.17, height_ratios=height_ratios)\n",
    "\n",
    "# create a gridspec for each modality within the frame\n",
    "n_cols = len(regions_dict)\n",
    "n_rows = len(tech_order)\n",
    "\n",
    "text_grid = gridspec.GridSpecFromSubplotSpec(\n",
    "    1, n_cols, wspace=0.2, hspace=0, subplot_spec=frame[0, 0]\n",
    ")\n",
    "bw_dar_grid = gridspec.GridSpecFromSubplotSpec(\n",
    "    n_rows, n_cols, wspace=0.2, hspace=-0.6, subplot_spec=frame[1, 0]\n",
    ")\n",
    "gtf_grid = gridspec.GridSpecFromSubplotSpec(\n",
    "    max_genes, n_cols, wspace=0.2, hspace=0, subplot_spec=frame[2, 0]\n",
    ")\n",
    "\n",
    "## iterate over all regions (=columns in final figure)\n",
    "for region_name in cell_type_order:\n",
    "    if verbose == True:\n",
    "        print(f\"drawing column for region {region_name}\")\n",
    "    region_index = cell_type_order.index(\n",
    "        region_name\n",
    "    )  # get the region index for column indexing\n",
    "\n",
    "    # the genome coordinates over which we will be plotting:\n",
    "    chrom = regions_df_padded.loc[region_name][\"chrom\"]\n",
    "    start = int(regions_df_padded.loc[region_name][\"start\"])\n",
    "    end = int(regions_df_padded.loc[region_name][\"end\"])\n",
    "    x = np.array(range(start, end, 1))\n",
    "\n",
    "    # set ymax according to region\n",
    "    # bw_ymax = region_max_dict[region_name]\n",
    "\n",
    "    # you can also set global ymax:\n",
    "    bw_ymax = region_max_dict_padded[\n",
    "        max(region_max_dict_padded, key=region_max_dict_padded.get)\n",
    "    ]\n",
    "\n",
    "    ## iterate over all bigwigs (=rows in final figure)\n",
    "    for key in tech_order:\n",
    "        if verbose == True:\n",
    "            print(f\"\\t{key}: alias {tech_alias_dict[key]}\")\n",
    "\n",
    "        bw_index = tech_order.index(key)  # get the bw index for row indexing\n",
    "\n",
    "        # create a new gridspec for bw + dar\n",
    "        if \"regions_dict_padded\" in locals() or \"peak_path_dict\" in locals():\n",
    "            bw_dar_subgrid = gridspec.GridSpecFromSubplotSpec(\n",
    "                2,\n",
    "                1,\n",
    "                wspace=0.05,\n",
    "                hspace=0,\n",
    "                subplot_spec=bw_dar_grid[bw_index, region_index],\n",
    "                height_ratios=[20, 0.5],\n",
    "            )\n",
    "        else:\n",
    "            bw_dar_subgrid = gridspec.GridSpecFromSubplotSpec(\n",
    "                1,\n",
    "                1,\n",
    "                wspace=0.05,\n",
    "                hspace=0.2,\n",
    "                subplot_spec=bw_dar_grid[bw_index, region_index],\n",
    "            )\n",
    "\n",
    "        # open the bigwig\n",
    "        bw_file = bw_path_dict_dict[region_name][key]\n",
    "        if verbose == True:\n",
    "            print(f\"\\t\\tbw: {bw_file}\")\n",
    "\n",
    "        bw = pyBigWig.open(bw_file)\n",
    "        y = bw.values(chrom, start, end)\n",
    "        y = np.nan_to_num(y)\n",
    "\n",
    "        # now plot the bigwig in the gridspec\n",
    "        ax = plt.Subplot(fig, bw_dar_subgrid[0, 0])\n",
    "        ax.fill_between(\n",
    "            x, y1=y, y2=0, step=\"mid\", linewidth=0, color=tech_color_palette[key]\n",
    "        )\n",
    "        ax.patch.set_alpha(0)\n",
    "\n",
    "        # figure settings\n",
    "        ax.set_xlim([x.min(), x.max()])\n",
    "        ax.set_ylim([0, bw_ymax])\n",
    "        ax.set_xticks([])\n",
    "        ax.set_yticks([])\n",
    "\n",
    "        # add a ylabel only if it's the last column\n",
    "        if region_name == cell_type_order[-1]:\n",
    "            ax.yaxis.set_label_position(\"right\")\n",
    "            ax.set_ylabel(\n",
    "                tech_alias_dict[key],\n",
    "                rotation=0,\n",
    "                horizontalalignment=\"left\",\n",
    "                verticalalignment=\"bottom\",\n",
    "                color=tech_color_palette[key],\n",
    "            )\n",
    "            ax.yaxis.set_label_coords(1.05, 0.05)\n",
    "\n",
    "        # add a title only if it's the first row\n",
    "        if tech_order.index(key) == 0:\n",
    "            region = regions_dict_padded[region_name]\n",
    "            length = round((end - start) / 1000)\n",
    "            label = f\"{cell_type_alias_dict[region_name]}\"\n",
    "\n",
    "            ax.set_title(label, fontsize=8, y=0.45)\n",
    "\n",
    "        sns.despine(top=True, right=True, left=True, bottom=False, ax=ax)\n",
    "        for spine in ax.spines.values():\n",
    "            spine.set_edgecolor(tech_color_palette[key])\n",
    "\n",
    "        # add to the fig\n",
    "        fig.add_subplot(ax, transparent=True)\n",
    "\n",
    "        # first draw peaks if they are defined\n",
    "        if \"peak_path_dict\" in locals():\n",
    "            # get peaks that overlap the region to be plotted\n",
    "            peak = BedTool(peak_path_dict[region_name])\n",
    "            peak_region_intersection = peak.intersect(\n",
    "                BedTool.from_dataframe(df=regions_df_padded), wa=True, wb=True\n",
    "            )\n",
    "            peak_region_intersection = peak_region_intersection.to_dataframe(\n",
    "                header=None\n",
    "            )\n",
    "            peak_region_intersection = peak_region_intersection.iloc[:, :4]\n",
    "            peak_region_intersection.columns = \"chr start end name\".split()\n",
    "\n",
    "            # now plot the dars in the gridspec\n",
    "            ax = plt.Subplot(fig, bw_dar_subgrid[1, 0])\n",
    "            for element in peak_region_intersection.index:\n",
    "                part = peak_region_intersection.loc[element]\n",
    "                peak_start = part[\"start\"]\n",
    "                peak_end = part[\"end\"]\n",
    "\n",
    "                # plot a thin line, with beginning and ending as x coordinates, and bw_ymin as y coordinates\n",
    "                # NOTE: linewidth won't do much here, it is more determined by the 'space' you give to this part of the plot in height_ratios!\n",
    "                ax.plot([peak_start, peak_end], [0, 0], linewidth=4, c=peak_color)\n",
    "\n",
    "            # figure settings\n",
    "            ax.set_ylim([-1, +1])\n",
    "            addax()\n",
    "\n",
    "        # then draw dars if they are defined\n",
    "        if \"regions_path_dict\" in locals():\n",
    "            # get DARs that overlap the region to be plotted\n",
    "            dar = BedTool(regions_path_dict[region_name])\n",
    "            if verbose == True:\n",
    "                print(f\"\\t\\tdar: {regions_path_dict[region_name]}\")\n",
    "\n",
    "            dar_region_intersection = dar.intersect(\n",
    "                BedTool.from_dataframe(df=regions_df_padded), wa=True, wb=True\n",
    "            )\n",
    "            dar_region_intersection = dar_region_intersection.to_dataframe(header=None)\n",
    "            dar_region_intersection = dar_region_intersection.iloc[:, :4]\n",
    "            dar_region_intersection.columns = \"chr start end name\".split()\n",
    "\n",
    "            # now plot the dars in the gridspec\n",
    "            ax = plt.Subplot(fig, bw_dar_subgrid[1, 0])\n",
    "            for element in dar_region_intersection.index:\n",
    "                part = dar_region_intersection.loc[element]\n",
    "                dar_start = part[\"start\"]\n",
    "                dar_end = part[\"end\"]\n",
    "\n",
    "                # plot a thin line, with beginning and ending as x coordinates, and bw_ymin as y coordinates\n",
    "                # NOTE: linewidth won't do much here, it is more determined by the 'space' you give to this part of the plot in height_ratios!\n",
    "                ax.plot([dar_start, dar_end], [0, 0], linewidth=4, c=dar_color)\n",
    "\n",
    "            # figure settings\n",
    "            ax.set_ylim([-1, +1])\n",
    "            addax()\n",
    "\n",
    "    ## draw the genes of interest, from our gtf\n",
    "    # intersect genes gtf with the region of interest\n",
    "    if plot_genes == True:\n",
    "        gtf = BedTool(gtf_file)\n",
    "        gtf_region_intersection = gtf.intersect(\n",
    "            BedTool.from_dataframe(df=regions_df_padded), wa=True, wb=True\n",
    "        )\n",
    "        gtf_region_intersection = gtf_region_intersection.to_dataframe(header=None)\n",
    "        gtf_region_intersection = gtf_region_intersection.iloc[:, :9]\n",
    "        gtf_region_intersection.columns = (\n",
    "            \"chr db feature start end score strand frame attribute\".split()\n",
    "        )\n",
    "\n",
    "        ## iterate over all genes of interest in genes_dict\n",
    "        for gene in genes_dict[region_name]:\n",
    "            gene_index = genes_dict[region_name].index(\n",
    "                gene\n",
    "            )  # get gene index for row indexing\n",
    "\n",
    "            # get gtf intersection with only gene body and exons of this particular gene\n",
    "            gtf_region_intersection_gene = gtf_region_intersection[\n",
    "                gtf_region_intersection[\"attribute\"].str.contains(gene)\n",
    "            ]\n",
    "            gtf_region_intersection_gene = gtf_region_intersection_gene[\n",
    "                gtf_region_intersection_gene[\"feature\"].str.contains(\"gene|exon\")\n",
    "            ]\n",
    "\n",
    "            # now plot the gene parts (gene body and gene exon)\n",
    "            ax = plt.Subplot(fig, gtf_grid[gene_index, region_index])\n",
    "\n",
    "            # iterate over all parts to plot them\n",
    "            for element in gtf_region_intersection_gene.index:\n",
    "                part = gtf_region_intersection_gene.loc[element]\n",
    "\n",
    "                # make exons thick\n",
    "                if part[\"feature\"] == \"exon\":\n",
    "                    exon_start = part[\"start\"]\n",
    "                    exon_end = part[\"end\"]\n",
    "                    # draw rectangle for exon\n",
    "                    rect = mpatches.Rectangle(\n",
    "                        (exon_start, exon_bottom),\n",
    "                        exon_end - exon_start,\n",
    "                        exon_height,\n",
    "                        fill=True,\n",
    "                        color=\"k\",\n",
    "                        linewidth=0,\n",
    "                    )\n",
    "                    ax.add_patch(rect)\n",
    "\n",
    "                # make the gene body a thin line, drawn at the end so it will always display on top\n",
    "                elif part[\"feature\"] == \"gene\":\n",
    "                    gene_start = part[\"start\"]\n",
    "                    gene_end = part[\"end\"]\n",
    "                    rect = mpatches.Rectangle(\n",
    "                        (gene_start, gene_bottom),\n",
    "                        gene_end - gene_start,\n",
    "                        gene_height,\n",
    "                        fill=True,\n",
    "                        color=\"k\",\n",
    "                        linewidth=0,\n",
    "                    )\n",
    "                    ax.add_patch(rect)\n",
    "\n",
    "        if verbose == True:\n",
    "            print(\n",
    "                f\"\\tfor region {region_name}, drew gene {gene}, {len(gtf_region_intersection_gene.index)} individual items drawn\\n\"\n",
    "            )\n",
    "\n",
    "        # figure settings\n",
    "        ax.set_ylim([exon_bottom, -exon_bottom])\n",
    "        ax.set_xlabel(gene, fontsize=10)\n",
    "        addax()\n",
    "\n",
    "\n",
    "fig.savefig(\n",
    "    \"plts_track/libds_track.png\",\n",
    "    dpi=350,\n",
    "    bbox_inches=\"tight\",\n",
    "    pad_inches=0,\n",
    "    transparent=False,\n",
    "    facecolor=\"white\",\n",
    ")\n",
    "fig.savefig(\n",
    "    \"plts_track/libds_track.svg\",\n",
    "    dpi=350,\n",
    "    bbox_inches=\"tight\",\n",
    "    pad_inches=0,\n",
    "    transparent=False,\n",
    "    facecolor=\"white\",\n",
    ")\n",
    "\n",
    "fig"
   ]
  },
  {
   "cell_type": "markdown",
   "id": "fec3fd80-678d-4b74-8b8a-6513ce06706f",
   "metadata": {},
   "source": [
    "# now do it for the \"best\" average rank DARs"
   ]
  },
  {
   "cell_type": "code",
   "execution_count": 317,
   "id": "9018ce0d-2b03-464b-aeee-0c7da80872a1",
   "metadata": {
    "execution": {
     "iopub.execute_input": "2023-02-15T15:42:18.434316Z",
     "iopub.status.busy": "2023-02-15T15:42:18.434079Z",
     "iopub.status.idle": "2023-02-15T15:42:18.446860Z",
     "shell.execute_reply": "2023-02-15T15:42:18.446044Z",
     "shell.execute_reply.started": "2023-02-15T15:42:18.434294Z"
    },
    "tags": []
   },
   "outputs": [
    {
     "data": {
      "text/plain": [
       "{'Natural_killer_cell': 'downstream_analysis/DARs/master_celltypefair_1.FIXEDCELLS/master_celltypefair_1.FIXEDCELLS__Natural_killer_cell__DARs.TOP2k.bed',\n",
       " 'CD16+_monocyte': 'downstream_analysis/DARs/master_celltypefair_1.FIXEDCELLS/master_celltypefair_1.FIXEDCELLS__CD16+_monocyte__DARs.TOP2k.bed',\n",
       " 'Dendritic_cell': 'downstream_analysis/DARs/master_celltypefair_1.FIXEDCELLS/master_celltypefair_1.FIXEDCELLS__Dendritic_cell__DARs.TOP2k.bed',\n",
       " 'B_cell': 'downstream_analysis/DARs/master_celltypefair_1.FIXEDCELLS/master_celltypefair_1.FIXEDCELLS__B_cell__DARs.TOP2k.bed',\n",
       " 'CD4+_T_cell': 'downstream_analysis/DARs/master_celltypefair_1.FIXEDCELLS/master_celltypefair_1.FIXEDCELLS__CD4+_T_cell__DARs.TOP2k.bed',\n",
       " 'CD14+_monocyte': 'downstream_analysis/DARs/master_celltypefair_1.FIXEDCELLS/master_celltypefair_1.FIXEDCELLS__CD14+_monocyte__DARs.TOP2k.bed',\n",
       " 'Cytotoxic_T_cell': 'downstream_analysis/DARs/master_celltypefair_1.FIXEDCELLS/master_celltypefair_1.FIXEDCELLS__Cytotoxic_T_cell__DARs.TOP2k.bed'}"
      ]
     },
     "execution_count": 317,
     "metadata": {},
     "output_type": "execute_result"
    }
   ],
   "source": [
    "merged_dar_path_dict = {\n",
    "    x.split(\"/\")[-1].split(\"__DARs.TOP2k.bed\")[0].split(\"__\")[-1]: x\n",
    "    for x in glob.glob(\n",
    "        \"downstream_analysis/DARs/master_celltypefair_1.FIXEDCELLS/master_celltypefair_1.FIXEDCELLS__*TOP2k.bed\"\n",
    "    )\n",
    "}\n",
    "merged_dar_path_dict"
   ]
  },
  {
   "cell_type": "code",
   "execution_count": 318,
   "id": "066e1c35-490c-4d27-a15e-d0bc4ef236a2",
   "metadata": {
    "execution": {
     "iopub.execute_input": "2023-02-15T15:42:18.448011Z",
     "iopub.status.busy": "2023-02-15T15:42:18.447811Z",
     "iopub.status.idle": "2023-02-15T15:42:18.493010Z",
     "shell.execute_reply": "2023-02-15T15:42:18.492107Z",
     "shell.execute_reply.started": "2023-02-15T15:42:18.447989Z"
    },
    "tags": []
   },
   "outputs": [
    {
     "name": "stdout",
     "output_type": "stream",
     "text": [
      "Natural_killer_cell\n",
      "CD16+_monocyte\n",
      "Dendritic_cell\n",
      "B_cell\n",
      "CD4+_T_cell\n",
      "CD14+_monocyte\n",
      "Cytotoxic_T_cell\n"
     ]
    },
    {
     "data": {
      "text/plain": [
       "OrderedDict([('Natural_killer_cell', 'chr8:59657612-59658112'),\n",
       "             ('CD16+_monocyte', 'chr6:24236745-24237245'),\n",
       "             ('Dendritic_cell', 'chr11:119584055-119584555'),\n",
       "             ('B_cell', 'chr9:37565537-37566037'),\n",
       "             ('CD4+_T_cell', 'chr20:3122948-3123448'),\n",
       "             ('CD14+_monocyte', 'chr8:138740133-138740633'),\n",
       "             ('Cytotoxic_T_cell', 'chr2:144328951-144329451')])"
      ]
     },
     "execution_count": 318,
     "metadata": {},
     "output_type": "execute_result"
    }
   ],
   "source": [
    "regions_dict = OrderedDict({})\n",
    "\n",
    "for supersample, path in merged_dar_path_dict.items():\n",
    "    print(supersample)\n",
    "    df = pd.read_csv(path, sep=\"\\t\", header=None)\n",
    "    df.columns = \"chrom start end cell_type log2fc strand p_val\".split()\n",
    "    # print(df.iloc[0])\n",
    "\n",
    "    cell_type = supersample.split(\"__\")[-1]\n",
    "    region = f\"{df.iloc[0]['chrom']}:{df.iloc[0]['start']}-{df.iloc[0]['end']}\"\n",
    "    regions_dict[cell_type] = region\n",
    "\n",
    "regions_dict"
   ]
  },
  {
   "cell_type": "code",
   "execution_count": 319,
   "id": "e0e13a54-3d96-401e-a51f-ebab78f9ff4b",
   "metadata": {
    "execution": {
     "iopub.execute_input": "2023-02-15T15:42:18.494245Z",
     "iopub.status.busy": "2023-02-15T15:42:18.494018Z",
     "iopub.status.idle": "2023-02-15T15:42:18.547425Z",
     "shell.execute_reply": "2023-02-15T15:42:18.546390Z",
     "shell.execute_reply.started": "2023-02-15T15:42:18.494223Z"
    },
    "tags": []
   },
   "outputs": [],
   "source": [
    "regions_df = pd.DataFrame(columns=[\"chrom\", \"start\", \"end\"])\n",
    "for key in regions_dict.keys():\n",
    "    row = list(regions_dict.keys()).index(key)\n",
    "    chrom, start, end = re.split(\":|-\", regions_dict[key])\n",
    "    start = int(re.sub(\",\", \"\", start))\n",
    "    end = int(re.sub(\",\", \"\", end))\n",
    "\n",
    "    region = pd.DataFrame(columns=[\"chrom\", \"start\", \"end\"], index=[key])\n",
    "    region[\"chrom\"] = chrom\n",
    "    region[\"start\"] = start\n",
    "    region[\"end\"] = end\n",
    "    regions_df = pd.concat([regions_df, region], axis=0)\n",
    "\n",
    "bedtool_obj = BedTool.from_dataframe(df=regions_df)"
   ]
  },
  {
   "cell_type": "markdown",
   "id": "e8bca90e-71de-4b4b-9ef8-6db8c0ec1c50",
   "metadata": {},
   "source": [
    "genes to plot"
   ]
  },
  {
   "cell_type": "code",
   "execution_count": 320,
   "id": "02789168-a4df-47e3-af38-4d4f7571c798",
   "metadata": {
    "execution": {
     "iopub.execute_input": "2023-02-15T15:42:18.548867Z",
     "iopub.status.busy": "2023-02-15T15:42:18.548567Z",
     "iopub.status.idle": "2023-02-15T15:42:18.573145Z",
     "shell.execute_reply": "2023-02-15T15:42:18.572321Z",
     "shell.execute_reply.started": "2023-02-15T15:42:18.548839Z"
    },
    "tags": []
   },
   "outputs": [
    {
     "data": {
      "text/plain": [
       "{'Dendritic_cell': {'mtscatac': 'per_tech_harmony_cell_type_bigwigs_nonnorm/master_celltypefair_1.FIXEDCELLS__CONSENSUS_pseudobulk_bw_files_nonnorm/mtscatac_Dendritic_cell.bw',\n",
       "  '10xv2': 'per_tech_harmony_cell_type_bigwigs_nonnorm/master_celltypefair_1.FIXEDCELLS__CONSENSUS_pseudobulk_bw_files_nonnorm/10xv2_Dendritic_cell.bw',\n",
       "  'ddseq': 'per_tech_harmony_cell_type_bigwigs_nonnorm/master_celltypefair_1.FIXEDCELLS__CONSENSUS_pseudobulk_bw_files_nonnorm/ddseq_Dendritic_cell.bw',\n",
       "  '10xv1': 'per_tech_harmony_cell_type_bigwigs_nonnorm/master_celltypefair_1.FIXEDCELLS__CONSENSUS_pseudobulk_bw_files_nonnorm/10xv1_Dendritic_cell.bw',\n",
       "  '10xmultiome': 'per_tech_harmony_cell_type_bigwigs_nonnorm/master_celltypefair_1.FIXEDCELLS__CONSENSUS_pseudobulk_bw_files_nonnorm/10xmultiome_Dendritic_cell.bw',\n",
       "  's3atac': 'per_tech_harmony_cell_type_bigwigs_nonnorm/master_celltypefair_1.FIXEDCELLS__CONSENSUS_pseudobulk_bw_files_nonnorm/s3atac_Dendritic_cell.bw',\n",
       "  '10xv11': 'per_tech_harmony_cell_type_bigwigs_nonnorm/master_celltypefair_1.FIXEDCELLS__CONSENSUS_pseudobulk_bw_files_nonnorm/10xv11_Dendritic_cell.bw',\n",
       "  'hydrop': 'per_tech_harmony_cell_type_bigwigs_nonnorm/master_celltypefair_1.FIXEDCELLS__CONSENSUS_pseudobulk_bw_files_nonnorm/hydrop_Dendritic_cell.bw'},\n",
       " 'B_cell': {'10xmultiome': 'per_tech_harmony_cell_type_bigwigs_nonnorm/master_celltypefair_1.FIXEDCELLS__CONSENSUS_pseudobulk_bw_files_nonnorm/10xmultiome_B_cell.bw',\n",
       "  'mtscatac': 'per_tech_harmony_cell_type_bigwigs_nonnorm/master_celltypefair_1.FIXEDCELLS__CONSENSUS_pseudobulk_bw_files_nonnorm/mtscatac_B_cell.bw',\n",
       "  '10xv11': 'per_tech_harmony_cell_type_bigwigs_nonnorm/master_celltypefair_1.FIXEDCELLS__CONSENSUS_pseudobulk_bw_files_nonnorm/10xv11_B_cell.bw',\n",
       "  'ddseq': 'per_tech_harmony_cell_type_bigwigs_nonnorm/master_celltypefair_1.FIXEDCELLS__CONSENSUS_pseudobulk_bw_files_nonnorm/ddseq_B_cell.bw',\n",
       "  'hydrop': 'per_tech_harmony_cell_type_bigwigs_nonnorm/master_celltypefair_1.FIXEDCELLS__CONSENSUS_pseudobulk_bw_files_nonnorm/hydrop_B_cell.bw',\n",
       "  's3atac': 'per_tech_harmony_cell_type_bigwigs_nonnorm/master_celltypefair_1.FIXEDCELLS__CONSENSUS_pseudobulk_bw_files_nonnorm/s3atac_B_cell.bw',\n",
       "  '10xv1': 'per_tech_harmony_cell_type_bigwigs_nonnorm/master_celltypefair_1.FIXEDCELLS__CONSENSUS_pseudobulk_bw_files_nonnorm/10xv1_B_cell.bw',\n",
       "  '10xv2': 'per_tech_harmony_cell_type_bigwigs_nonnorm/master_celltypefair_1.FIXEDCELLS__CONSENSUS_pseudobulk_bw_files_nonnorm/10xv2_B_cell.bw'},\n",
       " 'Natural_killer_cell': {'s3atac': 'per_tech_harmony_cell_type_bigwigs_nonnorm/master_celltypefair_1.FIXEDCELLS__CONSENSUS_pseudobulk_bw_files_nonnorm/s3atac_Natural_killer_cell.bw',\n",
       "  '10xv1': 'per_tech_harmony_cell_type_bigwigs_nonnorm/master_celltypefair_1.FIXEDCELLS__CONSENSUS_pseudobulk_bw_files_nonnorm/10xv1_Natural_killer_cell.bw',\n",
       "  'ddseq': 'per_tech_harmony_cell_type_bigwigs_nonnorm/master_celltypefair_1.FIXEDCELLS__CONSENSUS_pseudobulk_bw_files_nonnorm/ddseq_Natural_killer_cell.bw',\n",
       "  '10xv11': 'per_tech_harmony_cell_type_bigwigs_nonnorm/master_celltypefair_1.FIXEDCELLS__CONSENSUS_pseudobulk_bw_files_nonnorm/10xv11_Natural_killer_cell.bw',\n",
       "  '10xv2': 'per_tech_harmony_cell_type_bigwigs_nonnorm/master_celltypefair_1.FIXEDCELLS__CONSENSUS_pseudobulk_bw_files_nonnorm/10xv2_Natural_killer_cell.bw',\n",
       "  'mtscatac': 'per_tech_harmony_cell_type_bigwigs_nonnorm/master_celltypefair_1.FIXEDCELLS__CONSENSUS_pseudobulk_bw_files_nonnorm/mtscatac_Natural_killer_cell.bw',\n",
       "  '10xmultiome': 'per_tech_harmony_cell_type_bigwigs_nonnorm/master_celltypefair_1.FIXEDCELLS__CONSENSUS_pseudobulk_bw_files_nonnorm/10xmultiome_Natural_killer_cell.bw',\n",
       "  'hydrop': 'per_tech_harmony_cell_type_bigwigs_nonnorm/master_celltypefair_1.FIXEDCELLS__CONSENSUS_pseudobulk_bw_files_nonnorm/hydrop_Natural_killer_cell.bw'},\n",
       " 'CD14_monocyte': {'10xv2': 'per_tech_harmony_cell_type_bigwigs_nonnorm/master_celltypefair_1.FIXEDCELLS__CONSENSUS_pseudobulk_bw_files_nonnorm/10xv2_CD14_monocyte.bw',\n",
       "  'hydrop': 'per_tech_harmony_cell_type_bigwigs_nonnorm/master_celltypefair_1.FIXEDCELLS__CONSENSUS_pseudobulk_bw_files_nonnorm/hydrop_CD14_monocyte.bw',\n",
       "  '10xmultiome': 'per_tech_harmony_cell_type_bigwigs_nonnorm/master_celltypefair_1.FIXEDCELLS__CONSENSUS_pseudobulk_bw_files_nonnorm/10xmultiome_CD14_monocyte.bw',\n",
       "  'ddseq': 'per_tech_harmony_cell_type_bigwigs_nonnorm/master_celltypefair_1.FIXEDCELLS__CONSENSUS_pseudobulk_bw_files_nonnorm/ddseq_CD14_monocyte.bw',\n",
       "  'mtscatac': 'per_tech_harmony_cell_type_bigwigs_nonnorm/master_celltypefair_1.FIXEDCELLS__CONSENSUS_pseudobulk_bw_files_nonnorm/mtscatac_CD14_monocyte.bw',\n",
       "  's3atac': 'per_tech_harmony_cell_type_bigwigs_nonnorm/master_celltypefair_1.FIXEDCELLS__CONSENSUS_pseudobulk_bw_files_nonnorm/s3atac_CD14_monocyte.bw',\n",
       "  '10xv11': 'per_tech_harmony_cell_type_bigwigs_nonnorm/master_celltypefair_1.FIXEDCELLS__CONSENSUS_pseudobulk_bw_files_nonnorm/10xv11_CD14_monocyte.bw',\n",
       "  '10xv1': 'per_tech_harmony_cell_type_bigwigs_nonnorm/master_celltypefair_1.FIXEDCELLS__CONSENSUS_pseudobulk_bw_files_nonnorm/10xv1_CD14_monocyte.bw'},\n",
       " 'CD16_monocyte': {'10xv1': 'per_tech_harmony_cell_type_bigwigs_nonnorm/master_celltypefair_1.FIXEDCELLS__CONSENSUS_pseudobulk_bw_files_nonnorm/10xv1_CD16_monocyte.bw',\n",
       "  'mtscatac': 'per_tech_harmony_cell_type_bigwigs_nonnorm/master_celltypefair_1.FIXEDCELLS__CONSENSUS_pseudobulk_bw_files_nonnorm/mtscatac_CD16_monocyte.bw',\n",
       "  'hydrop': 'per_tech_harmony_cell_type_bigwigs_nonnorm/master_celltypefair_1.FIXEDCELLS__CONSENSUS_pseudobulk_bw_files_nonnorm/hydrop_CD16_monocyte.bw',\n",
       "  '10xmultiome': 'per_tech_harmony_cell_type_bigwigs_nonnorm/master_celltypefair_1.FIXEDCELLS__CONSENSUS_pseudobulk_bw_files_nonnorm/10xmultiome_CD16_monocyte.bw',\n",
       "  's3atac': 'per_tech_harmony_cell_type_bigwigs_nonnorm/master_celltypefair_1.FIXEDCELLS__CONSENSUS_pseudobulk_bw_files_nonnorm/s3atac_CD16_monocyte.bw',\n",
       "  '10xv2': 'per_tech_harmony_cell_type_bigwigs_nonnorm/master_celltypefair_1.FIXEDCELLS__CONSENSUS_pseudobulk_bw_files_nonnorm/10xv2_CD16_monocyte.bw',\n",
       "  'ddseq': 'per_tech_harmony_cell_type_bigwigs_nonnorm/master_celltypefair_1.FIXEDCELLS__CONSENSUS_pseudobulk_bw_files_nonnorm/ddseq_CD16_monocyte.bw',\n",
       "  '10xv11': 'per_tech_harmony_cell_type_bigwigs_nonnorm/master_celltypefair_1.FIXEDCELLS__CONSENSUS_pseudobulk_bw_files_nonnorm/10xv11_CD16_monocyte.bw'},\n",
       " 'Cytotoxic_T_cell': {'10xv1': 'per_tech_harmony_cell_type_bigwigs_nonnorm/master_celltypefair_1.FIXEDCELLS__CONSENSUS_pseudobulk_bw_files_nonnorm/10xv1_Cytotoxic_T_cell.bw',\n",
       "  'ddseq': 'per_tech_harmony_cell_type_bigwigs_nonnorm/master_celltypefair_1.FIXEDCELLS__CONSENSUS_pseudobulk_bw_files_nonnorm/ddseq_Cytotoxic_T_cell.bw',\n",
       "  's3atac': 'per_tech_harmony_cell_type_bigwigs_nonnorm/master_celltypefair_1.FIXEDCELLS__CONSENSUS_pseudobulk_bw_files_nonnorm/s3atac_Cytotoxic_T_cell.bw',\n",
       "  'mtscatac': 'per_tech_harmony_cell_type_bigwigs_nonnorm/master_celltypefair_1.FIXEDCELLS__CONSENSUS_pseudobulk_bw_files_nonnorm/mtscatac_Cytotoxic_T_cell.bw',\n",
       "  '10xv2': 'per_tech_harmony_cell_type_bigwigs_nonnorm/master_celltypefair_1.FIXEDCELLS__CONSENSUS_pseudobulk_bw_files_nonnorm/10xv2_Cytotoxic_T_cell.bw',\n",
       "  '10xmultiome': 'per_tech_harmony_cell_type_bigwigs_nonnorm/master_celltypefair_1.FIXEDCELLS__CONSENSUS_pseudobulk_bw_files_nonnorm/10xmultiome_Cytotoxic_T_cell.bw',\n",
       "  'hydrop': 'per_tech_harmony_cell_type_bigwigs_nonnorm/master_celltypefair_1.FIXEDCELLS__CONSENSUS_pseudobulk_bw_files_nonnorm/hydrop_Cytotoxic_T_cell.bw',\n",
       "  '10xv11': 'per_tech_harmony_cell_type_bigwigs_nonnorm/master_celltypefair_1.FIXEDCELLS__CONSENSUS_pseudobulk_bw_files_nonnorm/10xv11_Cytotoxic_T_cell.bw'},\n",
       " 'CD4_T_cell': {'mtscatac': 'per_tech_harmony_cell_type_bigwigs_nonnorm/master_celltypefair_1.FIXEDCELLS__CONSENSUS_pseudobulk_bw_files_nonnorm/mtscatac_CD4_T_cell.bw',\n",
       "  '10xv11': 'per_tech_harmony_cell_type_bigwigs_nonnorm/master_celltypefair_1.FIXEDCELLS__CONSENSUS_pseudobulk_bw_files_nonnorm/10xv11_CD4_T_cell.bw',\n",
       "  's3atac': 'per_tech_harmony_cell_type_bigwigs_nonnorm/master_celltypefair_1.FIXEDCELLS__CONSENSUS_pseudobulk_bw_files_nonnorm/s3atac_CD4_T_cell.bw',\n",
       "  '10xv2': 'per_tech_harmony_cell_type_bigwigs_nonnorm/master_celltypefair_1.FIXEDCELLS__CONSENSUS_pseudobulk_bw_files_nonnorm/10xv2_CD4_T_cell.bw',\n",
       "  '10xv1': 'per_tech_harmony_cell_type_bigwigs_nonnorm/master_celltypefair_1.FIXEDCELLS__CONSENSUS_pseudobulk_bw_files_nonnorm/10xv1_CD4_T_cell.bw',\n",
       "  'hydrop': 'per_tech_harmony_cell_type_bigwigs_nonnorm/master_celltypefair_1.FIXEDCELLS__CONSENSUS_pseudobulk_bw_files_nonnorm/hydrop_CD4_T_cell.bw',\n",
       "  '10xmultiome': 'per_tech_harmony_cell_type_bigwigs_nonnorm/master_celltypefair_1.FIXEDCELLS__CONSENSUS_pseudobulk_bw_files_nonnorm/10xmultiome_CD4_T_cell.bw',\n",
       "  'ddseq': 'per_tech_harmony_cell_type_bigwigs_nonnorm/master_celltypefair_1.FIXEDCELLS__CONSENSUS_pseudobulk_bw_files_nonnorm/ddseq_CD4_T_cell.bw'}}"
      ]
     },
     "execution_count": 320,
     "metadata": {},
     "output_type": "execute_result"
    }
   ],
   "source": [
    "cell_types = list(\n",
    "    set(\n",
    "        [\n",
    "            \"_\".join(x.split(\"/\")[-1].split(\"_\")[1:]).split(\".\")[0]\n",
    "            for x in glob.glob(\n",
    "                \"per_tech_harmony_cell_type_bigwigs_nonnorm/master_celltypefair_1.FIXEDCELLS__CONSENSUS_pseudobulk_bw_files_nonnorm/*\"\n",
    "            )\n",
    "        ]\n",
    "    )\n",
    ")\n",
    "\n",
    "bw_path_dict_dict = {}\n",
    "for cell_type in cell_types:\n",
    "    # print(cell_type)\n",
    "    bw_path_dict_dict[cell_type] = {\n",
    "        x.split(\"/\")[-1].split(\"_\")[0]: x\n",
    "        for x in glob.glob(\n",
    "            f\"per_tech_harmony_cell_type_bigwigs_nonnorm/master_celltypefair_1.FIXEDCELLS__CONSENSUS_pseudobulk_bw_files_nonnorm/*{cell_type}*\"\n",
    "        )\n",
    "    }\n",
    "bw_path_dict_dict"
   ]
  },
  {
   "cell_type": "code",
   "execution_count": 321,
   "id": "194bb997-f287-4786-9c5a-a0124d13053d",
   "metadata": {
    "execution": {
     "iopub.execute_input": "2023-02-15T15:42:18.574215Z",
     "iopub.status.busy": "2023-02-15T15:42:18.574017Z",
     "iopub.status.idle": "2023-02-15T15:42:18.581929Z",
     "shell.execute_reply": "2023-02-15T15:42:18.580913Z",
     "shell.execute_reply.started": "2023-02-15T15:42:18.574195Z"
    },
    "tags": []
   },
   "outputs": [],
   "source": [
    "dar_color = \"b\"\n",
    "peak_color = \"k\"\n",
    "gene_height = 3\n",
    "gene_bottom = -gene_height / 2\n",
    "exon_height = 6\n",
    "exon_bottom = -exon_height / 2\n",
    "\n",
    "figsize = (6, 8)"
   ]
  },
  {
   "cell_type": "code",
   "execution_count": 322,
   "id": "c249994c-c953-41e7-93e9-cbc5eb2b7601",
   "metadata": {
    "execution": {
     "iopub.execute_input": "2023-02-15T15:42:18.584962Z",
     "iopub.status.busy": "2023-02-15T15:42:18.584375Z",
     "iopub.status.idle": "2023-02-15T15:42:18.607397Z",
     "shell.execute_reply": "2023-02-15T15:42:18.605770Z",
     "shell.execute_reply.started": "2023-02-15T15:42:18.584900Z"
    },
    "tags": []
   },
   "outputs": [],
   "source": [
    "def addax():\n",
    "    ax.set_xlim([x.min(), x.max()])\n",
    "    sns.despine(top=True, right=True, left=True, bottom=True, ax=ax)\n",
    "    ax.set_xticks([])\n",
    "    ax.set_yticks([])\n",
    "    ax.patch.set_alpha(\n",
    "        0\n",
    "    )  # make sure that each individual subplot is transparent! otherwise the underlying plots won't be shown. this is important e.g. for the dar/peak visualisaton, since the DARs are drawn directly on top of the peaks. if the DAR plot is not transparent, no peaks will be visible!!\n",
    "\n",
    "    fig.add_subplot(ax)"
   ]
  },
  {
   "cell_type": "code",
   "execution_count": 323,
   "id": "693dfa2a-93ba-4d08-864e-abeae1a21502",
   "metadata": {
    "execution": {
     "iopub.execute_input": "2023-02-15T15:42:18.610098Z",
     "iopub.status.busy": "2023-02-15T15:42:18.609526Z",
     "iopub.status.idle": "2023-02-15T15:42:18.617747Z",
     "shell.execute_reply": "2023-02-15T15:42:18.616536Z",
     "shell.execute_reply.started": "2023-02-15T15:42:18.610039Z"
    },
    "tags": []
   },
   "outputs": [],
   "source": [
    "max_genes = 1"
   ]
  },
  {
   "cell_type": "code",
   "execution_count": 324,
   "id": "0589022a-a5a8-44b9-b6a9-8c492aa0ca98",
   "metadata": {
    "execution": {
     "iopub.execute_input": "2023-02-15T15:42:18.619964Z",
     "iopub.status.busy": "2023-02-15T15:42:18.619408Z",
     "iopub.status.idle": "2023-02-15T15:42:18.627399Z",
     "shell.execute_reply": "2023-02-15T15:42:18.626109Z",
     "shell.execute_reply.started": "2023-02-15T15:42:18.619917Z"
    },
    "tags": []
   },
   "outputs": [],
   "source": [
    "plot_genes = False\n",
    "verbose = True"
   ]
  },
  {
   "cell_type": "code",
   "execution_count": 325,
   "id": "3aeb8181-8f18-4b4b-907e-9f7dd96bf884",
   "metadata": {
    "execution": {
     "iopub.execute_input": "2023-02-15T15:42:18.630366Z",
     "iopub.status.busy": "2023-02-15T15:42:18.629765Z",
     "iopub.status.idle": "2023-02-15T15:42:18.662005Z",
     "shell.execute_reply": "2023-02-15T15:42:18.661074Z",
     "shell.execute_reply.started": "2023-02-15T15:42:18.630305Z"
    },
    "tags": []
   },
   "outputs": [],
   "source": [
    "region_forced_length = 2000\n",
    "\n",
    "regions_df_padded = regions_df.copy()\n",
    "\n",
    "regions_df_padded[\"region_center\"] = (\n",
    "    regions_df_padded[\"start\"]\n",
    "    + (regions_df_padded[\"end\"] - regions_df_padded[\"start\"]) / 2\n",
    ")\n",
    "\n",
    "\n",
    "regions_df_padded[\"start\"] = (\n",
    "    regions_df_padded[\"region_center\"] - region_forced_length / 2\n",
    ")\n",
    "regions_df_padded[\"start\"] = [int(x) for x in regions_df_padded[\"start\"]]\n",
    "regions_df_padded[\"end\"] = regions_df_padded[\"region_center\"] + region_forced_length / 2\n",
    "regions_df_padded[\"end\"] = [int(x) for x in regions_df_padded[\"end\"]]"
   ]
  },
  {
   "cell_type": "code",
   "execution_count": 326,
   "id": "1fde8e54-10bb-4a79-b676-c6f4e78221bb",
   "metadata": {
    "execution": {
     "iopub.execute_input": "2023-02-15T15:42:18.663327Z",
     "iopub.status.busy": "2023-02-15T15:42:18.663072Z",
     "iopub.status.idle": "2023-02-15T15:42:19.108589Z",
     "shell.execute_reply": "2023-02-15T15:42:19.107628Z",
     "shell.execute_reply.started": "2023-02-15T15:42:18.663302Z"
    },
    "tags": []
   },
   "outputs": [
    {
     "name": "stdout",
     "output_type": "stream",
     "text": [
      "calculated max values within region Natural_killer_cell\n",
      "calculated max values within region CD16+_monocyte\n",
      "calculated max values within region Dendritic_cell\n",
      "calculated max values within region B_cell\n",
      "calculated max values within region CD4+_T_cell\n",
      "calculated max values within region CD14+_monocyte\n",
      "calculated max values within region Cytotoxic_T_cell\n"
     ]
    },
    {
     "data": {
      "text/plain": [
       "{'Natural_killer_cell': 27.0,\n",
       " 'CD16+_monocyte': 36.0,\n",
       " 'Dendritic_cell': 17.0,\n",
       " 'B_cell': 37.0,\n",
       " 'CD4+_T_cell': 19.0,\n",
       " 'CD14+_monocyte': 36.0,\n",
       " 'Cytotoxic_T_cell': 39.0}"
      ]
     },
     "execution_count": 326,
     "metadata": {},
     "output_type": "execute_result"
    }
   ],
   "source": [
    "## calculate bw_ymax per col\n",
    "region_max_dict_padded = {}\n",
    "for region_name in regions_df_padded.index:\n",
    "    chrom = regions_df_padded.loc[region_name][\"chrom\"]\n",
    "    start = int(regions_df_padded.loc[region_name][\"start\"])\n",
    "    end = int(regions_df_padded.loc[region_name][\"end\"])\n",
    "\n",
    "    bw_ymax_dict_dict = {}\n",
    "    for cell_type in bw_path_dict_dict.keys():\n",
    "        bw_ymax_dict = {}\n",
    "\n",
    "        for tech in bw_path_dict_dict[cell_type].keys():\n",
    "            bw_file = bw_path_dict_dict[cell_type][tech]\n",
    "\n",
    "            # calculate max value of the bigwig within our region\n",
    "            bw = pyBigWig.open(bw_file)\n",
    "            y = bw.values(chrom, start, end)\n",
    "            y = np.nan_to_num(y)\n",
    "\n",
    "            bw_ymax_dict[tech] = y.max()\n",
    "\n",
    "        bw_ymax_dict_dict[cell_type] = max(bw_ymax_dict.values())\n",
    "\n",
    "    region_max_dict_padded[region_name] = bw_ymax_dict_dict[\n",
    "        max(bw_ymax_dict_dict, key=bw_ymax_dict_dict.get)\n",
    "    ]\n",
    "    print(f\"calculated max values within region {region_name}\")\n",
    "\n",
    "region_max_dict_padded"
   ]
  },
  {
   "cell_type": "code",
   "execution_count": 327,
   "id": "1d338b02-a474-4f2e-9055-aeaf393c8234",
   "metadata": {
    "execution": {
     "iopub.execute_input": "2023-02-15T15:42:19.109862Z",
     "iopub.status.busy": "2023-02-15T15:42:19.109643Z",
     "iopub.status.idle": "2023-02-15T15:42:19.119816Z",
     "shell.execute_reply": "2023-02-15T15:42:19.119023Z",
     "shell.execute_reply.started": "2023-02-15T15:42:19.109840Z"
    },
    "tags": []
   },
   "outputs": [
    {
     "data": {
      "text/html": [
       "<div>\n",
       "<style scoped>\n",
       "    .dataframe tbody tr th:only-of-type {\n",
       "        vertical-align: middle;\n",
       "    }\n",
       "\n",
       "    .dataframe tbody tr th {\n",
       "        vertical-align: top;\n",
       "    }\n",
       "\n",
       "    .dataframe thead th {\n",
       "        text-align: right;\n",
       "    }\n",
       "</style>\n",
       "<table border=\"1\" class=\"dataframe\">\n",
       "  <thead>\n",
       "    <tr style=\"text-align: right;\">\n",
       "      <th></th>\n",
       "      <th>chrom</th>\n",
       "      <th>start</th>\n",
       "      <th>end</th>\n",
       "      <th>region_center</th>\n",
       "    </tr>\n",
       "  </thead>\n",
       "  <tbody>\n",
       "    <tr>\n",
       "      <th>Natural_killer_cell</th>\n",
       "      <td>chr8</td>\n",
       "      <td>59656862</td>\n",
       "      <td>59658862</td>\n",
       "      <td>59657862.0</td>\n",
       "    </tr>\n",
       "    <tr>\n",
       "      <th>CD16+_monocyte</th>\n",
       "      <td>chr6</td>\n",
       "      <td>24235995</td>\n",
       "      <td>24237995</td>\n",
       "      <td>24236995.0</td>\n",
       "    </tr>\n",
       "    <tr>\n",
       "      <th>Dendritic_cell</th>\n",
       "      <td>chr11</td>\n",
       "      <td>119583305</td>\n",
       "      <td>119585305</td>\n",
       "      <td>119584305.0</td>\n",
       "    </tr>\n",
       "    <tr>\n",
       "      <th>B_cell</th>\n",
       "      <td>chr9</td>\n",
       "      <td>37564787</td>\n",
       "      <td>37566787</td>\n",
       "      <td>37565787.0</td>\n",
       "    </tr>\n",
       "    <tr>\n",
       "      <th>CD4+_T_cell</th>\n",
       "      <td>chr20</td>\n",
       "      <td>3122198</td>\n",
       "      <td>3124198</td>\n",
       "      <td>3123198.0</td>\n",
       "    </tr>\n",
       "    <tr>\n",
       "      <th>CD14+_monocyte</th>\n",
       "      <td>chr8</td>\n",
       "      <td>138739383</td>\n",
       "      <td>138741383</td>\n",
       "      <td>138740383.0</td>\n",
       "    </tr>\n",
       "    <tr>\n",
       "      <th>Cytotoxic_T_cell</th>\n",
       "      <td>chr2</td>\n",
       "      <td>144328201</td>\n",
       "      <td>144330201</td>\n",
       "      <td>144329201.0</td>\n",
       "    </tr>\n",
       "  </tbody>\n",
       "</table>\n",
       "</div>"
      ],
      "text/plain": [
       "                     chrom      start        end region_center\n",
       "Natural_killer_cell   chr8   59656862   59658862    59657862.0\n",
       "CD16+_monocyte        chr6   24235995   24237995    24236995.0\n",
       "Dendritic_cell       chr11  119583305  119585305   119584305.0\n",
       "B_cell                chr9   37564787   37566787    37565787.0\n",
       "CD4+_T_cell          chr20    3122198    3124198     3123198.0\n",
       "CD14+_monocyte        chr8  138739383  138741383   138740383.0\n",
       "Cytotoxic_T_cell      chr2  144328201  144330201   144329201.0"
      ]
     },
     "execution_count": 327,
     "metadata": {},
     "output_type": "execute_result"
    }
   ],
   "source": [
    "regions_df_padded"
   ]
  },
  {
   "cell_type": "code",
   "execution_count": 328,
   "id": "69c9d9fc-1603-40c4-b093-36cb924c4ecd",
   "metadata": {
    "execution": {
     "iopub.execute_input": "2023-02-15T15:42:19.120931Z",
     "iopub.status.busy": "2023-02-15T15:42:19.120716Z",
     "iopub.status.idle": "2023-02-15T15:42:19.162245Z",
     "shell.execute_reply": "2023-02-15T15:42:19.161382Z",
     "shell.execute_reply.started": "2023-02-15T15:42:19.120909Z"
    },
    "tags": []
   },
   "outputs": [
    {
     "data": {
      "text/plain": [
       "OrderedDict([('Natural_killer_cell', 'chr8:59656612.0-59659112.0'),\n",
       "             ('CD16_monocyte', 'chr6:24235745.0-24238245.0'),\n",
       "             ('Dendritic_cell', 'chr11:119583055.0-119585555.0'),\n",
       "             ('B_cell', 'chr9:37564537.0-37567037.0'),\n",
       "             ('CD4_T_cell', 'chr20:3121948.0-3124448.0'),\n",
       "             ('CD14_monocyte', 'chr8:138739133.0-138741633.0'),\n",
       "             ('Cytotoxic_T_cell', 'chr2:144327951.0-144330451.0')])"
      ]
     },
     "execution_count": 328,
     "metadata": {},
     "output_type": "execute_result"
    }
   ],
   "source": [
    "regions_dict_padded = OrderedDict({})\n",
    "\n",
    "for supersample, path in merged_dar_path_dict.items():\n",
    "    # print(supersample)\n",
    "    df = pd.read_csv(path, sep=\"\\t\", header=None)\n",
    "    df.columns = \"chrom start end cell_type log2fc strand p_val\".split()\n",
    "    # print(df.iloc[0])\n",
    "\n",
    "    cell_type = supersample.split(\"__\")[-1].replace(\"+\", \"\")\n",
    "    region = f\"{df.iloc[0]['chrom']}:{df.iloc[0]['start']- region_forced_length / 2}-{df.iloc[0]['end']+region_forced_length / 2}\"\n",
    "    regions_dict_padded[cell_type] = region\n",
    "\n",
    "regions_dict_padded"
   ]
  },
  {
   "cell_type": "code",
   "execution_count": 329,
   "id": "79ecdadd-be5f-4e27-9aab-96b6b00d7d99",
   "metadata": {
    "execution": {
     "iopub.execute_input": "2023-02-15T15:42:19.163345Z",
     "iopub.status.busy": "2023-02-15T15:42:19.163122Z",
     "iopub.status.idle": "2023-02-15T15:42:19.171991Z",
     "shell.execute_reply": "2023-02-15T15:42:19.170650Z",
     "shell.execute_reply.started": "2023-02-15T15:42:19.163323Z"
    },
    "tags": []
   },
   "outputs": [
    {
     "data": {
      "text/plain": [
       "dict_keys(['Dendritic_cell', 'B_cell', 'Natural_killer_cell', 'CD14_monocyte', 'CD16_monocyte', 'Cytotoxic_T_cell', 'CD4_T_cell'])"
      ]
     },
     "execution_count": 329,
     "metadata": {},
     "output_type": "execute_result"
    }
   ],
   "source": [
    "bw_path_dict_dict.keys()"
   ]
  },
  {
   "cell_type": "code",
   "execution_count": 330,
   "id": "eedc49d2-f644-4a50-b39b-a79f71c1df63",
   "metadata": {
    "execution": {
     "iopub.execute_input": "2023-02-15T15:42:19.174812Z",
     "iopub.status.busy": "2023-02-15T15:42:19.174092Z",
     "iopub.status.idle": "2023-02-15T15:42:19.186572Z",
     "shell.execute_reply": "2023-02-15T15:42:19.185411Z",
     "shell.execute_reply.started": "2023-02-15T15:42:19.174750Z"
    },
    "tags": []
   },
   "outputs": [],
   "source": [
    "regions_df_padded.index = [x.replace(\"+\", \"\") for x in regions_df_padded.index]"
   ]
  },
  {
   "cell_type": "code",
   "execution_count": 331,
   "id": "63b9e595-9c42-407f-b298-3eb11b5bfcf9",
   "metadata": {
    "execution": {
     "iopub.execute_input": "2023-02-15T15:42:19.188690Z",
     "iopub.status.busy": "2023-02-15T15:42:19.188129Z",
     "iopub.status.idle": "2023-02-15T15:42:19.202338Z",
     "shell.execute_reply": "2023-02-15T15:42:19.201325Z",
     "shell.execute_reply.started": "2023-02-15T15:42:19.188646Z"
    },
    "tags": []
   },
   "outputs": [
    {
     "data": {
      "text/plain": [
       "{'Natural_killer_cell': 'final_consensus_peaks/master_celltypefair_1.FIXEDCELLS__SCREEN_consensus_peaks.bed',\n",
       " 'CD16_monocyte': 'final_consensus_peaks/master_celltypefair_1.FIXEDCELLS__SCREEN_consensus_peaks.bed',\n",
       " 'Dendritic_cell': 'final_consensus_peaks/master_celltypefair_1.FIXEDCELLS__SCREEN_consensus_peaks.bed',\n",
       " 'B_cell': 'final_consensus_peaks/master_celltypefair_1.FIXEDCELLS__SCREEN_consensus_peaks.bed',\n",
       " 'CD4_T_cell': 'final_consensus_peaks/master_celltypefair_1.FIXEDCELLS__SCREEN_consensus_peaks.bed',\n",
       " 'CD14_monocyte': 'final_consensus_peaks/master_celltypefair_1.FIXEDCELLS__SCREEN_consensus_peaks.bed',\n",
       " 'Cytotoxic_T_cell': 'final_consensus_peaks/master_celltypefair_1.FIXEDCELLS__SCREEN_consensus_peaks.bed'}"
      ]
     },
     "execution_count": 331,
     "metadata": {},
     "output_type": "execute_result"
    }
   ],
   "source": [
    "peak_path_dict = {\n",
    "    x.replace(\n",
    "        \"+\", \"\"\n",
    "    ): \"final_consensus_peaks/master_celltypefair_1.FIXEDCELLS__SCREEN_consensus_peaks.bed\"\n",
    "    for x in regions_dict.keys()\n",
    "}\n",
    "peak_path_dict"
   ]
  },
  {
   "cell_type": "code",
   "execution_count": 332,
   "id": "cdd90e37-51a3-4a56-a36d-aacd9122821b",
   "metadata": {
    "execution": {
     "iopub.execute_input": "2023-02-15T15:42:19.203917Z",
     "iopub.status.busy": "2023-02-15T15:42:19.203587Z",
     "iopub.status.idle": "2023-02-15T15:42:19.210318Z",
     "shell.execute_reply": "2023-02-15T15:42:19.209449Z",
     "shell.execute_reply.started": "2023-02-15T15:42:19.203882Z"
    }
   },
   "outputs": [
    {
     "data": {
      "text/plain": [
       "{'Natural_killer_cell': 'downstream_analysis/DARs/master_celltypefair_1.FIXEDCELLS/master_celltypefair_1.FIXEDCELLS__Natural_killer_cell__DARs.TOP2k.bed',\n",
       " 'CD16+_monocyte': 'downstream_analysis/DARs/master_celltypefair_1.FIXEDCELLS/master_celltypefair_1.FIXEDCELLS__CD16+_monocyte__DARs.TOP2k.bed',\n",
       " 'Dendritic_cell': 'downstream_analysis/DARs/master_celltypefair_1.FIXEDCELLS/master_celltypefair_1.FIXEDCELLS__Dendritic_cell__DARs.TOP2k.bed',\n",
       " 'B_cell': 'downstream_analysis/DARs/master_celltypefair_1.FIXEDCELLS/master_celltypefair_1.FIXEDCELLS__B_cell__DARs.TOP2k.bed',\n",
       " 'CD4+_T_cell': 'downstream_analysis/DARs/master_celltypefair_1.FIXEDCELLS/master_celltypefair_1.FIXEDCELLS__CD4+_T_cell__DARs.TOP2k.bed',\n",
       " 'CD14+_monocyte': 'downstream_analysis/DARs/master_celltypefair_1.FIXEDCELLS/master_celltypefair_1.FIXEDCELLS__CD14+_monocyte__DARs.TOP2k.bed',\n",
       " 'Cytotoxic_T_cell': 'downstream_analysis/DARs/master_celltypefair_1.FIXEDCELLS/master_celltypefair_1.FIXEDCELLS__Cytotoxic_T_cell__DARs.TOP2k.bed'}"
      ]
     },
     "execution_count": 332,
     "metadata": {},
     "output_type": "execute_result"
    }
   ],
   "source": [
    "merged_dar_path_dict"
   ]
  },
  {
   "cell_type": "code",
   "execution_count": 333,
   "id": "22db43c1-50b8-4826-b7bb-635c17b31f6f",
   "metadata": {
    "execution": {
     "iopub.execute_input": "2023-02-15T15:42:19.211631Z",
     "iopub.status.busy": "2023-02-15T15:42:19.211366Z",
     "iopub.status.idle": "2023-02-15T15:42:19.218498Z",
     "shell.execute_reply": "2023-02-15T15:42:19.217677Z",
     "shell.execute_reply.started": "2023-02-15T15:42:19.211604Z"
    },
    "tags": []
   },
   "outputs": [],
   "source": [
    "merged_dar_path_dict = {x.replace(\"+\", \"\"): y for x, y in merged_dar_path_dict.items()}"
   ]
  },
  {
   "cell_type": "code",
   "execution_count": 334,
   "id": "3ac1989d-d530-4d05-9bdd-eda4a621e76e",
   "metadata": {
    "execution": {
     "iopub.execute_input": "2023-02-15T15:42:19.219825Z",
     "iopub.status.busy": "2023-02-15T15:42:19.219475Z",
     "iopub.status.idle": "2023-02-15T15:42:19.225399Z",
     "shell.execute_reply": "2023-02-15T15:42:19.224610Z",
     "shell.execute_reply.started": "2023-02-15T15:42:19.219801Z"
    },
    "tags": []
   },
   "outputs": [
    {
     "data": {
      "text/plain": [
       "{'Natural_killer_cell': 'downstream_analysis/DARs/master_celltypefair_1.FIXEDCELLS/master_celltypefair_1.FIXEDCELLS__Natural_killer_cell__DARs.TOP2k.bed',\n",
       " 'CD16_monocyte': 'downstream_analysis/DARs/master_celltypefair_1.FIXEDCELLS/master_celltypefair_1.FIXEDCELLS__CD16+_monocyte__DARs.TOP2k.bed',\n",
       " 'Dendritic_cell': 'downstream_analysis/DARs/master_celltypefair_1.FIXEDCELLS/master_celltypefair_1.FIXEDCELLS__Dendritic_cell__DARs.TOP2k.bed',\n",
       " 'B_cell': 'downstream_analysis/DARs/master_celltypefair_1.FIXEDCELLS/master_celltypefair_1.FIXEDCELLS__B_cell__DARs.TOP2k.bed',\n",
       " 'CD4_T_cell': 'downstream_analysis/DARs/master_celltypefair_1.FIXEDCELLS/master_celltypefair_1.FIXEDCELLS__CD4+_T_cell__DARs.TOP2k.bed',\n",
       " 'CD14_monocyte': 'downstream_analysis/DARs/master_celltypefair_1.FIXEDCELLS/master_celltypefair_1.FIXEDCELLS__CD14+_monocyte__DARs.TOP2k.bed',\n",
       " 'Cytotoxic_T_cell': 'downstream_analysis/DARs/master_celltypefair_1.FIXEDCELLS/master_celltypefair_1.FIXEDCELLS__Cytotoxic_T_cell__DARs.TOP2k.bed'}"
      ]
     },
     "execution_count": 334,
     "metadata": {},
     "output_type": "execute_result"
    }
   ],
   "source": [
    "merged_dar_path_dict"
   ]
  },
  {
   "cell_type": "code",
   "execution_count": 335,
   "id": "667392f8-d8cb-407e-83f7-007ccdcde09c",
   "metadata": {
    "execution": {
     "iopub.execute_input": "2023-02-15T15:42:19.226525Z",
     "iopub.status.busy": "2023-02-15T15:42:19.226312Z",
     "iopub.status.idle": "2023-02-15T15:42:19.230970Z",
     "shell.execute_reply": "2023-02-15T15:42:19.230218Z",
     "shell.execute_reply.started": "2023-02-15T15:42:19.226503Z"
    },
    "tags": []
   },
   "outputs": [],
   "source": [
    "peak_path_dict = merged_dar_path_dict"
   ]
  },
  {
   "cell_type": "code",
   "execution_count": 336,
   "id": "74265da3-a9be-42f8-a0ff-b7d0d622c830",
   "metadata": {
    "execution": {
     "iopub.execute_input": "2023-02-15T15:42:19.232094Z",
     "iopub.status.busy": "2023-02-15T15:42:19.231881Z",
     "iopub.status.idle": "2023-02-15T15:42:19.244276Z",
     "shell.execute_reply": "2023-02-15T15:42:19.243396Z",
     "shell.execute_reply.started": "2023-02-15T15:42:19.232072Z"
    },
    "tags": []
   },
   "outputs": [
    {
     "data": {
      "text/plain": [
       "True"
      ]
     },
     "execution_count": 336,
     "metadata": {},
     "output_type": "execute_result"
    }
   ],
   "source": [
    "set(regions_df_padded.index) == set(regions_dict_padded.keys()) == set(\n",
    "    bw_path_dict_dict.keys()\n",
    ") == set(peak_path_dict.keys())"
   ]
  },
  {
   "cell_type": "code",
   "execution_count": 337,
   "id": "94bd4843-abf0-4bc3-9064-a51a49923cb7",
   "metadata": {
    "execution": {
     "iopub.execute_input": "2023-02-15T15:42:19.245582Z",
     "iopub.status.busy": "2023-02-15T15:42:19.245324Z",
     "iopub.status.idle": "2023-02-15T15:42:19.258121Z",
     "shell.execute_reply": "2023-02-15T15:42:19.257331Z",
     "shell.execute_reply.started": "2023-02-15T15:42:19.245554Z"
    },
    "tags": []
   },
   "outputs": [],
   "source": [
    "genes_dict = {\n",
    "    \"Cytotoxic_T_cell\": [],\n",
    "    \"CD14_monocyte\": [],\n",
    "    \"B_cell\": [\"EBF1\"],\n",
    "    \"CD16_monocyte\": [],\n",
    "    \"Dendritic_cell\": [],\n",
    "    \"Natural_killer_cell\": [],\n",
    "    \"CD4_T_cell\": [],\n",
    "}\n",
    "max_genes = max([len((genes_dict[key])) for key in genes_dict.keys()])\n",
    "\n",
    "gtf_file = \"/lustre1/project/stg_00090/scatac_benchmark/0_resources/genomes/hg38_cflerin_cellranger_arc/genes.ucsc.gtf\""
   ]
  },
  {
   "cell_type": "code",
   "execution_count": 338,
   "id": "139ba890-3519-42eb-ba8b-2b277e1f1a51",
   "metadata": {
    "execution": {
     "iopub.execute_input": "2023-02-15T15:42:19.259221Z",
     "iopub.status.busy": "2023-02-15T15:42:19.259011Z",
     "iopub.status.idle": "2023-02-15T15:42:19.263090Z",
     "shell.execute_reply": "2023-02-15T15:42:19.262327Z",
     "shell.execute_reply.started": "2023-02-15T15:42:19.259199Z"
    },
    "tags": []
   },
   "outputs": [],
   "source": [
    "plot_genes = False"
   ]
  },
  {
   "cell_type": "code",
   "execution_count": 339,
   "id": "9905977d-0ada-4aff-8243-e9ad814c30ed",
   "metadata": {
    "execution": {
     "iopub.execute_input": "2023-02-15T15:42:19.264118Z",
     "iopub.status.busy": "2023-02-15T15:42:19.263926Z",
     "iopub.status.idle": "2023-02-15T15:42:19.274358Z",
     "shell.execute_reply": "2023-02-15T15:42:19.273599Z",
     "shell.execute_reply.started": "2023-02-15T15:42:19.264098Z"
    },
    "tags": []
   },
   "outputs": [
    {
     "data": {
      "text/html": [
       "<div>\n",
       "<style scoped>\n",
       "    .dataframe tbody tr th:only-of-type {\n",
       "        vertical-align: middle;\n",
       "    }\n",
       "\n",
       "    .dataframe tbody tr th {\n",
       "        vertical-align: top;\n",
       "    }\n",
       "\n",
       "    .dataframe thead th {\n",
       "        text-align: right;\n",
       "    }\n",
       "</style>\n",
       "<table border=\"1\" class=\"dataframe\">\n",
       "  <thead>\n",
       "    <tr style=\"text-align: right;\">\n",
       "      <th></th>\n",
       "      <th>chrom</th>\n",
       "      <th>start</th>\n",
       "      <th>end</th>\n",
       "      <th>region_center</th>\n",
       "    </tr>\n",
       "  </thead>\n",
       "  <tbody>\n",
       "    <tr>\n",
       "      <th>Natural_killer_cell</th>\n",
       "      <td>chr8</td>\n",
       "      <td>59656862</td>\n",
       "      <td>59658862</td>\n",
       "      <td>59657862.0</td>\n",
       "    </tr>\n",
       "    <tr>\n",
       "      <th>CD16_monocyte</th>\n",
       "      <td>chr6</td>\n",
       "      <td>24235995</td>\n",
       "      <td>24237995</td>\n",
       "      <td>24236995.0</td>\n",
       "    </tr>\n",
       "    <tr>\n",
       "      <th>Dendritic_cell</th>\n",
       "      <td>chr11</td>\n",
       "      <td>119583305</td>\n",
       "      <td>119585305</td>\n",
       "      <td>119584305.0</td>\n",
       "    </tr>\n",
       "    <tr>\n",
       "      <th>B_cell</th>\n",
       "      <td>chr9</td>\n",
       "      <td>37564787</td>\n",
       "      <td>37566787</td>\n",
       "      <td>37565787.0</td>\n",
       "    </tr>\n",
       "    <tr>\n",
       "      <th>CD4_T_cell</th>\n",
       "      <td>chr20</td>\n",
       "      <td>3122198</td>\n",
       "      <td>3124198</td>\n",
       "      <td>3123198.0</td>\n",
       "    </tr>\n",
       "    <tr>\n",
       "      <th>CD14_monocyte</th>\n",
       "      <td>chr8</td>\n",
       "      <td>138739383</td>\n",
       "      <td>138741383</td>\n",
       "      <td>138740383.0</td>\n",
       "    </tr>\n",
       "    <tr>\n",
       "      <th>Cytotoxic_T_cell</th>\n",
       "      <td>chr2</td>\n",
       "      <td>144328201</td>\n",
       "      <td>144330201</td>\n",
       "      <td>144329201.0</td>\n",
       "    </tr>\n",
       "  </tbody>\n",
       "</table>\n",
       "</div>"
      ],
      "text/plain": [
       "                     chrom      start        end region_center\n",
       "Natural_killer_cell   chr8   59656862   59658862    59657862.0\n",
       "CD16_monocyte         chr6   24235995   24237995    24236995.0\n",
       "Dendritic_cell       chr11  119583305  119585305   119584305.0\n",
       "B_cell                chr9   37564787   37566787    37565787.0\n",
       "CD4_T_cell           chr20    3122198    3124198     3123198.0\n",
       "CD14_monocyte         chr8  138739383  138741383   138740383.0\n",
       "Cytotoxic_T_cell      chr2  144328201  144330201   144329201.0"
      ]
     },
     "execution_count": 339,
     "metadata": {},
     "output_type": "execute_result"
    }
   ],
   "source": [
    "regions_df_padded"
   ]
  },
  {
   "cell_type": "code",
   "execution_count": 340,
   "id": "47b954cf-4287-4455-a7bc-b07e42729e5c",
   "metadata": {
    "execution": {
     "iopub.execute_input": "2023-02-15T15:42:19.275585Z",
     "iopub.status.busy": "2023-02-15T15:42:19.275364Z",
     "iopub.status.idle": "2023-02-15T15:42:30.342263Z",
     "shell.execute_reply": "2023-02-15T15:42:30.341035Z",
     "shell.execute_reply.started": "2023-02-15T15:42:19.275563Z"
    },
    "tags": []
   },
   "outputs": [
    {
     "name": "stdout",
     "output_type": "stream",
     "text": [
      "drawing column for region B_cell\n",
      "\t10xv1: alias 10x v1\n",
      "\t\tbw: per_tech_harmony_cell_type_bigwigs_nonnorm/master_celltypefair_1.FIXEDCELLS__CONSENSUS_pseudobulk_bw_files_nonnorm/10xv1_B_cell.bw\n",
      "\t10xv11: alias 10x v1.1\n",
      "\t\tbw: per_tech_harmony_cell_type_bigwigs_nonnorm/master_celltypefair_1.FIXEDCELLS__CONSENSUS_pseudobulk_bw_files_nonnorm/10xv11_B_cell.bw\n",
      "\t10xv2: alias 10x v2\n",
      "\t\tbw: per_tech_harmony_cell_type_bigwigs_nonnorm/master_celltypefair_1.FIXEDCELLS__CONSENSUS_pseudobulk_bw_files_nonnorm/10xv2_B_cell.bw\n",
      "\t10xmultiome: alias 10x Multiome\n",
      "\t\tbw: per_tech_harmony_cell_type_bigwigs_nonnorm/master_celltypefair_1.FIXEDCELLS__CONSENSUS_pseudobulk_bw_files_nonnorm/10xmultiome_B_cell.bw\n",
      "\tmtscatac: alias mtscATAC-seq\n",
      "\t\tbw: per_tech_harmony_cell_type_bigwigs_nonnorm/master_celltypefair_1.FIXEDCELLS__CONSENSUS_pseudobulk_bw_files_nonnorm/mtscatac_B_cell.bw\n",
      "\tddseq: alias ddSEQ SureCell\n",
      "\t\tbw: per_tech_harmony_cell_type_bigwigs_nonnorm/master_celltypefair_1.FIXEDCELLS__CONSENSUS_pseudobulk_bw_files_nonnorm/ddseq_B_cell.bw\n",
      "\ts3atac: alias s3-ATAC\n",
      "\t\tbw: per_tech_harmony_cell_type_bigwigs_nonnorm/master_celltypefair_1.FIXEDCELLS__CONSENSUS_pseudobulk_bw_files_nonnorm/s3atac_B_cell.bw\n",
      "\thydrop: alias HyDrop\n",
      "\t\tbw: per_tech_harmony_cell_type_bigwigs_nonnorm/master_celltypefair_1.FIXEDCELLS__CONSENSUS_pseudobulk_bw_files_nonnorm/hydrop_B_cell.bw\n",
      "drawing column for region CD14_monocyte\n",
      "\t10xv1: alias 10x v1\n",
      "\t\tbw: per_tech_harmony_cell_type_bigwigs_nonnorm/master_celltypefair_1.FIXEDCELLS__CONSENSUS_pseudobulk_bw_files_nonnorm/10xv1_CD14_monocyte.bw\n",
      "\t10xv11: alias 10x v1.1\n",
      "\t\tbw: per_tech_harmony_cell_type_bigwigs_nonnorm/master_celltypefair_1.FIXEDCELLS__CONSENSUS_pseudobulk_bw_files_nonnorm/10xv11_CD14_monocyte.bw\n",
      "\t10xv2: alias 10x v2\n",
      "\t\tbw: per_tech_harmony_cell_type_bigwigs_nonnorm/master_celltypefair_1.FIXEDCELLS__CONSENSUS_pseudobulk_bw_files_nonnorm/10xv2_CD14_monocyte.bw\n",
      "\t10xmultiome: alias 10x Multiome\n",
      "\t\tbw: per_tech_harmony_cell_type_bigwigs_nonnorm/master_celltypefair_1.FIXEDCELLS__CONSENSUS_pseudobulk_bw_files_nonnorm/10xmultiome_CD14_monocyte.bw\n",
      "\tmtscatac: alias mtscATAC-seq\n",
      "\t\tbw: per_tech_harmony_cell_type_bigwigs_nonnorm/master_celltypefair_1.FIXEDCELLS__CONSENSUS_pseudobulk_bw_files_nonnorm/mtscatac_CD14_monocyte.bw\n",
      "\tddseq: alias ddSEQ SureCell\n",
      "\t\tbw: per_tech_harmony_cell_type_bigwigs_nonnorm/master_celltypefair_1.FIXEDCELLS__CONSENSUS_pseudobulk_bw_files_nonnorm/ddseq_CD14_monocyte.bw\n",
      "\ts3atac: alias s3-ATAC\n",
      "\t\tbw: per_tech_harmony_cell_type_bigwigs_nonnorm/master_celltypefair_1.FIXEDCELLS__CONSENSUS_pseudobulk_bw_files_nonnorm/s3atac_CD14_monocyte.bw\n",
      "\thydrop: alias HyDrop\n",
      "\t\tbw: per_tech_harmony_cell_type_bigwigs_nonnorm/master_celltypefair_1.FIXEDCELLS__CONSENSUS_pseudobulk_bw_files_nonnorm/hydrop_CD14_monocyte.bw\n",
      "drawing column for region CD4_T_cell\n",
      "\t10xv1: alias 10x v1\n",
      "\t\tbw: per_tech_harmony_cell_type_bigwigs_nonnorm/master_celltypefair_1.FIXEDCELLS__CONSENSUS_pseudobulk_bw_files_nonnorm/10xv1_CD4_T_cell.bw\n",
      "\t10xv11: alias 10x v1.1\n",
      "\t\tbw: per_tech_harmony_cell_type_bigwigs_nonnorm/master_celltypefair_1.FIXEDCELLS__CONSENSUS_pseudobulk_bw_files_nonnorm/10xv11_CD4_T_cell.bw\n",
      "\t10xv2: alias 10x v2\n",
      "\t\tbw: per_tech_harmony_cell_type_bigwigs_nonnorm/master_celltypefair_1.FIXEDCELLS__CONSENSUS_pseudobulk_bw_files_nonnorm/10xv2_CD4_T_cell.bw\n",
      "\t10xmultiome: alias 10x Multiome\n",
      "\t\tbw: per_tech_harmony_cell_type_bigwigs_nonnorm/master_celltypefair_1.FIXEDCELLS__CONSENSUS_pseudobulk_bw_files_nonnorm/10xmultiome_CD4_T_cell.bw\n",
      "\tmtscatac: alias mtscATAC-seq\n",
      "\t\tbw: per_tech_harmony_cell_type_bigwigs_nonnorm/master_celltypefair_1.FIXEDCELLS__CONSENSUS_pseudobulk_bw_files_nonnorm/mtscatac_CD4_T_cell.bw\n",
      "\tddseq: alias ddSEQ SureCell\n",
      "\t\tbw: per_tech_harmony_cell_type_bigwigs_nonnorm/master_celltypefair_1.FIXEDCELLS__CONSENSUS_pseudobulk_bw_files_nonnorm/ddseq_CD4_T_cell.bw\n",
      "\ts3atac: alias s3-ATAC\n",
      "\t\tbw: per_tech_harmony_cell_type_bigwigs_nonnorm/master_celltypefair_1.FIXEDCELLS__CONSENSUS_pseudobulk_bw_files_nonnorm/s3atac_CD4_T_cell.bw\n",
      "\thydrop: alias HyDrop\n",
      "\t\tbw: per_tech_harmony_cell_type_bigwigs_nonnorm/master_celltypefair_1.FIXEDCELLS__CONSENSUS_pseudobulk_bw_files_nonnorm/hydrop_CD4_T_cell.bw\n",
      "drawing column for region Cytotoxic_T_cell\n",
      "\t10xv1: alias 10x v1\n",
      "\t\tbw: per_tech_harmony_cell_type_bigwigs_nonnorm/master_celltypefair_1.FIXEDCELLS__CONSENSUS_pseudobulk_bw_files_nonnorm/10xv1_Cytotoxic_T_cell.bw\n",
      "\t10xv11: alias 10x v1.1\n",
      "\t\tbw: per_tech_harmony_cell_type_bigwigs_nonnorm/master_celltypefair_1.FIXEDCELLS__CONSENSUS_pseudobulk_bw_files_nonnorm/10xv11_Cytotoxic_T_cell.bw\n",
      "\t10xv2: alias 10x v2\n",
      "\t\tbw: per_tech_harmony_cell_type_bigwigs_nonnorm/master_celltypefair_1.FIXEDCELLS__CONSENSUS_pseudobulk_bw_files_nonnorm/10xv2_Cytotoxic_T_cell.bw\n",
      "\t10xmultiome: alias 10x Multiome\n",
      "\t\tbw: per_tech_harmony_cell_type_bigwigs_nonnorm/master_celltypefair_1.FIXEDCELLS__CONSENSUS_pseudobulk_bw_files_nonnorm/10xmultiome_Cytotoxic_T_cell.bw\n",
      "\tmtscatac: alias mtscATAC-seq\n",
      "\t\tbw: per_tech_harmony_cell_type_bigwigs_nonnorm/master_celltypefair_1.FIXEDCELLS__CONSENSUS_pseudobulk_bw_files_nonnorm/mtscatac_Cytotoxic_T_cell.bw\n",
      "\tddseq: alias ddSEQ SureCell\n",
      "\t\tbw: per_tech_harmony_cell_type_bigwigs_nonnorm/master_celltypefair_1.FIXEDCELLS__CONSENSUS_pseudobulk_bw_files_nonnorm/ddseq_Cytotoxic_T_cell.bw\n",
      "\ts3atac: alias s3-ATAC\n",
      "\t\tbw: per_tech_harmony_cell_type_bigwigs_nonnorm/master_celltypefair_1.FIXEDCELLS__CONSENSUS_pseudobulk_bw_files_nonnorm/s3atac_Cytotoxic_T_cell.bw\n",
      "\thydrop: alias HyDrop\n",
      "\t\tbw: per_tech_harmony_cell_type_bigwigs_nonnorm/master_celltypefair_1.FIXEDCELLS__CONSENSUS_pseudobulk_bw_files_nonnorm/hydrop_Cytotoxic_T_cell.bw\n",
      "drawing column for region Dendritic_cell\n",
      "\t10xv1: alias 10x v1\n",
      "\t\tbw: per_tech_harmony_cell_type_bigwigs_nonnorm/master_celltypefair_1.FIXEDCELLS__CONSENSUS_pseudobulk_bw_files_nonnorm/10xv1_Dendritic_cell.bw\n",
      "\t10xv11: alias 10x v1.1\n",
      "\t\tbw: per_tech_harmony_cell_type_bigwigs_nonnorm/master_celltypefair_1.FIXEDCELLS__CONSENSUS_pseudobulk_bw_files_nonnorm/10xv11_Dendritic_cell.bw\n",
      "\t10xv2: alias 10x v2\n",
      "\t\tbw: per_tech_harmony_cell_type_bigwigs_nonnorm/master_celltypefair_1.FIXEDCELLS__CONSENSUS_pseudobulk_bw_files_nonnorm/10xv2_Dendritic_cell.bw\n",
      "\t10xmultiome: alias 10x Multiome\n",
      "\t\tbw: per_tech_harmony_cell_type_bigwigs_nonnorm/master_celltypefair_1.FIXEDCELLS__CONSENSUS_pseudobulk_bw_files_nonnorm/10xmultiome_Dendritic_cell.bw\n",
      "\tmtscatac: alias mtscATAC-seq\n",
      "\t\tbw: per_tech_harmony_cell_type_bigwigs_nonnorm/master_celltypefair_1.FIXEDCELLS__CONSENSUS_pseudobulk_bw_files_nonnorm/mtscatac_Dendritic_cell.bw\n",
      "\tddseq: alias ddSEQ SureCell\n",
      "\t\tbw: per_tech_harmony_cell_type_bigwigs_nonnorm/master_celltypefair_1.FIXEDCELLS__CONSENSUS_pseudobulk_bw_files_nonnorm/ddseq_Dendritic_cell.bw\n",
      "\ts3atac: alias s3-ATAC\n",
      "\t\tbw: per_tech_harmony_cell_type_bigwigs_nonnorm/master_celltypefair_1.FIXEDCELLS__CONSENSUS_pseudobulk_bw_files_nonnorm/s3atac_Dendritic_cell.bw\n",
      "\thydrop: alias HyDrop\n",
      "\t\tbw: per_tech_harmony_cell_type_bigwigs_nonnorm/master_celltypefair_1.FIXEDCELLS__CONSENSUS_pseudobulk_bw_files_nonnorm/hydrop_Dendritic_cell.bw\n",
      "drawing column for region Natural_killer_cell\n",
      "\t10xv1: alias 10x v1\n",
      "\t\tbw: per_tech_harmony_cell_type_bigwigs_nonnorm/master_celltypefair_1.FIXEDCELLS__CONSENSUS_pseudobulk_bw_files_nonnorm/10xv1_Natural_killer_cell.bw\n",
      "\t10xv11: alias 10x v1.1\n",
      "\t\tbw: per_tech_harmony_cell_type_bigwigs_nonnorm/master_celltypefair_1.FIXEDCELLS__CONSENSUS_pseudobulk_bw_files_nonnorm/10xv11_Natural_killer_cell.bw\n",
      "\t10xv2: alias 10x v2\n",
      "\t\tbw: per_tech_harmony_cell_type_bigwigs_nonnorm/master_celltypefair_1.FIXEDCELLS__CONSENSUS_pseudobulk_bw_files_nonnorm/10xv2_Natural_killer_cell.bw\n",
      "\t10xmultiome: alias 10x Multiome\n",
      "\t\tbw: per_tech_harmony_cell_type_bigwigs_nonnorm/master_celltypefair_1.FIXEDCELLS__CONSENSUS_pseudobulk_bw_files_nonnorm/10xmultiome_Natural_killer_cell.bw\n",
      "\tmtscatac: alias mtscATAC-seq\n",
      "\t\tbw: per_tech_harmony_cell_type_bigwigs_nonnorm/master_celltypefair_1.FIXEDCELLS__CONSENSUS_pseudobulk_bw_files_nonnorm/mtscatac_Natural_killer_cell.bw\n",
      "\tddseq: alias ddSEQ SureCell\n",
      "\t\tbw: per_tech_harmony_cell_type_bigwigs_nonnorm/master_celltypefair_1.FIXEDCELLS__CONSENSUS_pseudobulk_bw_files_nonnorm/ddseq_Natural_killer_cell.bw\n",
      "\ts3atac: alias s3-ATAC\n",
      "\t\tbw: per_tech_harmony_cell_type_bigwigs_nonnorm/master_celltypefair_1.FIXEDCELLS__CONSENSUS_pseudobulk_bw_files_nonnorm/s3atac_Natural_killer_cell.bw\n",
      "\thydrop: alias HyDrop\n",
      "\t\tbw: per_tech_harmony_cell_type_bigwigs_nonnorm/master_celltypefair_1.FIXEDCELLS__CONSENSUS_pseudobulk_bw_files_nonnorm/hydrop_Natural_killer_cell.bw\n",
      "drawing column for region CD16_monocyte\n",
      "\t10xv1: alias 10x v1\n",
      "\t\tbw: per_tech_harmony_cell_type_bigwigs_nonnorm/master_celltypefair_1.FIXEDCELLS__CONSENSUS_pseudobulk_bw_files_nonnorm/10xv1_CD16_monocyte.bw\n",
      "\t10xv11: alias 10x v1.1\n",
      "\t\tbw: per_tech_harmony_cell_type_bigwigs_nonnorm/master_celltypefair_1.FIXEDCELLS__CONSENSUS_pseudobulk_bw_files_nonnorm/10xv11_CD16_monocyte.bw\n",
      "\t10xv2: alias 10x v2\n",
      "\t\tbw: per_tech_harmony_cell_type_bigwigs_nonnorm/master_celltypefair_1.FIXEDCELLS__CONSENSUS_pseudobulk_bw_files_nonnorm/10xv2_CD16_monocyte.bw\n",
      "\t10xmultiome: alias 10x Multiome\n",
      "\t\tbw: per_tech_harmony_cell_type_bigwigs_nonnorm/master_celltypefair_1.FIXEDCELLS__CONSENSUS_pseudobulk_bw_files_nonnorm/10xmultiome_CD16_monocyte.bw\n",
      "\tmtscatac: alias mtscATAC-seq\n",
      "\t\tbw: per_tech_harmony_cell_type_bigwigs_nonnorm/master_celltypefair_1.FIXEDCELLS__CONSENSUS_pseudobulk_bw_files_nonnorm/mtscatac_CD16_monocyte.bw\n",
      "\tddseq: alias ddSEQ SureCell\n",
      "\t\tbw: per_tech_harmony_cell_type_bigwigs_nonnorm/master_celltypefair_1.FIXEDCELLS__CONSENSUS_pseudobulk_bw_files_nonnorm/ddseq_CD16_monocyte.bw\n",
      "\ts3atac: alias s3-ATAC\n",
      "\t\tbw: per_tech_harmony_cell_type_bigwigs_nonnorm/master_celltypefair_1.FIXEDCELLS__CONSENSUS_pseudobulk_bw_files_nonnorm/s3atac_CD16_monocyte.bw\n",
      "\thydrop: alias HyDrop\n",
      "\t\tbw: per_tech_harmony_cell_type_bigwigs_nonnorm/master_celltypefair_1.FIXEDCELLS__CONSENSUS_pseudobulk_bw_files_nonnorm/hydrop_CD16_monocyte.bw\n"
     ]
    },
    {
     "data": {
      "image/png": "[encoded data removed]",
      "text/plain": [
       "<Figure size 432x576 with 112 Axes>"
      ]
     },
     "execution_count": 340,
     "metadata": {},
     "output_type": "execute_result"
    },
    {
     "data": {
      "image/png": "[encoded data removed]",
      "text/plain": [
       "<Figure size 432x576 with 112 Axes>"
      ]
     },
     "metadata": {},
     "output_type": "display_data"
    }
   ],
   "source": [
    "## create the gridspec\n",
    "fig = plt.figure(figsize=figsize, facecolor=\"white\")\n",
    "\n",
    "# define ratios between all elements in the graphic\n",
    "height_ratios = [0.2]  # for gtf\n",
    "height_ratios.append(len(bw_path_dict_dict))  # for bws\n",
    "height_ratios.append(0.1)  # for text box\n",
    "\n",
    "# create a global frame for the 3 modalities shown (bigwigs, gtf, and text)\n",
    "frame = gridspec.GridSpec(3, 1, wspace=0.25, hspace=0.17, height_ratios=height_ratios)\n",
    "\n",
    "# create a gridspec for each modality within the frame\n",
    "n_cols = len(regions_dict)\n",
    "n_rows = len(tech_order)\n",
    "\n",
    "text_grid = gridspec.GridSpecFromSubplotSpec(\n",
    "    1, n_cols, wspace=0.2, hspace=0, subplot_spec=frame[0, 0]\n",
    ")\n",
    "bw_dar_grid = gridspec.GridSpecFromSubplotSpec(\n",
    "    n_rows, n_cols, wspace=0.2, hspace=-0.6, subplot_spec=frame[1, 0]\n",
    ")\n",
    "gtf_grid = gridspec.GridSpecFromSubplotSpec(\n",
    "    max_genes, n_cols, wspace=0.2, hspace=0, subplot_spec=frame[2, 0]\n",
    ")\n",
    "\n",
    "## iterate over all regions (=columns in final figure)\n",
    "for region_name in cell_type_order:\n",
    "    if verbose == True:\n",
    "        print(f\"drawing column for region {region_name}\")\n",
    "    region_index = cell_type_order.index(\n",
    "        region_name\n",
    "    )  # get the region index for column indexing\n",
    "\n",
    "    # the genome coordinates over which we will be plotting:\n",
    "    chrom = regions_df_padded.loc[region_name][\"chrom\"]\n",
    "    start = int(regions_df_padded.loc[region_name][\"start\"])\n",
    "    end = int(regions_df_padded.loc[region_name][\"end\"])\n",
    "    x = np.array(range(start, end, 1))\n",
    "\n",
    "    # set ymax according to region\n",
    "    # bw_ymax = region_max_dict[region_name]\n",
    "\n",
    "    # you can also set global ymax:\n",
    "    bw_ymax = region_max_dict_padded[\n",
    "        max(region_max_dict_padded, key=region_max_dict_padded.get)\n",
    "    ]\n",
    "\n",
    "    ## iterate over all bigwigs (=rows in final figure)\n",
    "    for key in tech_order:\n",
    "        if verbose == True:\n",
    "            print(f\"\\t{key}: alias {tech_alias_dict[key]}\")\n",
    "\n",
    "        bw_index = tech_order.index(key)  # get the bw index for row indexing\n",
    "\n",
    "        # create a new gridspec for bw + dar\n",
    "        if \"regions_dict_padded\" in locals() or \"peak_path_dict\" in locals():\n",
    "            bw_dar_subgrid = gridspec.GridSpecFromSubplotSpec(\n",
    "                2,\n",
    "                1,\n",
    "                wspace=0.05,\n",
    "                hspace=0,\n",
    "                subplot_spec=bw_dar_grid[bw_index, region_index],\n",
    "                height_ratios=[20, 0.5],\n",
    "            )\n",
    "        else:\n",
    "            bw_dar_subgrid = gridspec.GridSpecFromSubplotSpec(\n",
    "                1,\n",
    "                1,\n",
    "                wspace=0.05,\n",
    "                hspace=0.2,\n",
    "                subplot_spec=bw_dar_grid[bw_index, region_index],\n",
    "            )\n",
    "\n",
    "        # open the bigwig\n",
    "        bw_file = bw_path_dict_dict[region_name][key]\n",
    "        if verbose == True:\n",
    "            print(f\"\\t\\tbw: {bw_file}\")\n",
    "\n",
    "        bw = pyBigWig.open(bw_file)\n",
    "        y = bw.values(chrom, start, end)\n",
    "        y = np.nan_to_num(y)\n",
    "\n",
    "        # now plot the bigwig in the gridspec\n",
    "        ax = plt.Subplot(fig, bw_dar_subgrid[0, 0])\n",
    "        ax.fill_between(\n",
    "            x, y1=y, y2=0, step=\"mid\", linewidth=0, color=tech_color_palette[key]\n",
    "        )\n",
    "        ax.patch.set_alpha(0)\n",
    "\n",
    "        # figure settings\n",
    "        ax.set_xlim([x.min(), x.max()])\n",
    "        ax.set_ylim([0, bw_ymax])\n",
    "        ax.set_xticks([])\n",
    "        ax.set_yticks([])\n",
    "\n",
    "        # add a ylabel only if it's the last column\n",
    "        if region_name == cell_type_order[-1]:\n",
    "            ax.yaxis.set_label_position(\"right\")\n",
    "            ax.set_ylabel(\n",
    "                tech_alias_dict[key],\n",
    "                rotation=0,\n",
    "                horizontalalignment=\"left\",\n",
    "                verticalalignment=\"bottom\",\n",
    "                color=tech_color_palette[key],\n",
    "            )\n",
    "            ax.yaxis.set_label_coords(1.05, 0.05)\n",
    "\n",
    "        # add a title only if it's the first row\n",
    "        if tech_order.index(key) == 0:\n",
    "            region = regions_dict_padded[region_name]\n",
    "            length = round((end - start) / 1000)\n",
    "            label = f\"{cell_type_alias_dict[region_name]}\"\n",
    "\n",
    "            ax.set_title(label, fontsize=8, y=0.45)\n",
    "\n",
    "        sns.despine(top=True, right=True, left=True, bottom=False, ax=ax)\n",
    "        for spine in ax.spines.values():\n",
    "            spine.set_edgecolor(tech_color_palette[key])\n",
    "\n",
    "        # add to the fig\n",
    "        fig.add_subplot(ax, transparent=True)\n",
    "\n",
    "        # first draw peaks if they are defined\n",
    "        if \"peak_path_dict\" in locals():\n",
    "            # get peaks that overlap the region to be plotted\n",
    "            peak = BedTool(peak_path_dict[region_name])\n",
    "            peak_region_intersection = peak.intersect(\n",
    "                BedTool.from_dataframe(df=regions_df_padded), wa=True, wb=True\n",
    "            )\n",
    "            peak_region_intersection = peak_region_intersection.to_dataframe(\n",
    "                header=None\n",
    "            )\n",
    "            peak_region_intersection = peak_region_intersection.iloc[:, :4]\n",
    "            peak_region_intersection.columns = \"chr start end name\".split()\n",
    "\n",
    "            # now plot the dars in the gridspec\n",
    "            ax = plt.Subplot(fig, bw_dar_subgrid[1, 0])\n",
    "            for element in peak_region_intersection.index:\n",
    "                part = peak_region_intersection.loc[element]\n",
    "                peak_start = part[\"start\"]\n",
    "                peak_end = part[\"end\"]\n",
    "\n",
    "                # plot a thin line, with beginning and ending as x coordinates, and bw_ymin as y coordinates\n",
    "                # NOTE: linewidth won't do much here, it is more determined by the 'space' you give to this part of the plot in height_ratios!\n",
    "                ax.plot([peak_start, peak_end], [0, 0], linewidth=4, c=peak_color)\n",
    "\n",
    "            # figure settings\n",
    "            ax.set_ylim([-1, +1])\n",
    "            addax()\n",
    "\n",
    "        # then draw dars if they are defined\n",
    "        if \"regions_path_dict\" in locals():\n",
    "            # get DARs that overlap the region to be plotted\n",
    "            dar = BedTool(regions_path_dict[region_name])\n",
    "            if verbose == True:\n",
    "                print(f\"\\t\\tdar: {regions_path_dict[region_name]}\")\n",
    "\n",
    "            dar_region_intersection = dar.intersect(\n",
    "                BedTool.from_dataframe(df=regions_df_padded), wa=True, wb=True\n",
    "            )\n",
    "            dar_region_intersection = dar_region_intersection.to_dataframe(header=None)\n",
    "            dar_region_intersection = dar_region_intersection.iloc[:, :4]\n",
    "            dar_region_intersection.columns = \"chr start end name\".split()\n",
    "\n",
    "            # now plot the dars in the gridspec\n",
    "            ax = plt.Subplot(fig, bw_dar_subgrid[1, 0])\n",
    "            for element in dar_region_intersection.index:\n",
    "                part = dar_region_intersection.loc[element]\n",
    "                dar_start = part[\"start\"]\n",
    "                dar_end = part[\"end\"]\n",
    "\n",
    "                # plot a thin line, with beginning and ending as x coordinates, and bw_ymin as y coordinates\n",
    "                # NOTE: linewidth won't do much here, it is more determined by the 'space' you give to this part of the plot in height_ratios!\n",
    "                ax.plot([dar_start, dar_end], [0, 0], linewidth=4, c=dar_color)\n",
    "\n",
    "            # figure settings\n",
    "            ax.set_ylim([-1, +1])\n",
    "            addax()\n",
    "\n",
    "    ## draw the genes of interest, from our gtf\n",
    "    # intersect genes gtf with the region of interest\n",
    "    if plot_genes == True:\n",
    "        gtf = BedTool(gtf_file)\n",
    "        gtf_region_intersection = gtf.intersect(\n",
    "            BedTool.from_dataframe(df=regions_df_padded), wa=True, wb=True\n",
    "        )\n",
    "        gtf_region_intersection = gtf_region_intersection.to_dataframe(header=None)\n",
    "        gtf_region_intersection = gtf_region_intersection.iloc[:, :9]\n",
    "        gtf_region_intersection.columns = (\n",
    "            \"chr db feature start end score strand frame attribute\".split()\n",
    "        )\n",
    "\n",
    "        ## iterate over all genes of interest in genes_dict\n",
    "        for gene in genes_dict[region_name]:\n",
    "            gene_index = genes_dict[region_name].index(\n",
    "                gene\n",
    "            )  # get gene index for row indexing\n",
    "\n",
    "            # get gtf intersection with only gene body and exons of this particular gene\n",
    "            gtf_region_intersection_gene = gtf_region_intersection[\n",
    "                gtf_region_intersection[\"attribute\"].str.contains(gene)\n",
    "            ]\n",
    "            gtf_region_intersection_gene = gtf_region_intersection_gene[\n",
    "                gtf_region_intersection_gene[\"feature\"].str.contains(\"gene|exon\")\n",
    "            ]\n",
    "\n",
    "            # now plot the gene parts (gene body and gene exon)\n",
    "            ax = plt.Subplot(fig, gtf_grid[gene_index, region_index])\n",
    "\n",
    "            # iterate over all parts to plot them\n",
    "            for element in gtf_region_intersection_gene.index:\n",
    "                part = gtf_region_intersection_gene.loc[element]\n",
    "\n",
    "                # make exons thick\n",
    "                if part[\"feature\"] == \"exon\":\n",
    "                    exon_start = part[\"start\"]\n",
    "                    exon_end = part[\"end\"]\n",
    "                    # draw rectangle for exon\n",
    "                    rect = mpatches.Rectangle(\n",
    "                        (exon_start, exon_bottom),\n",
    "                        exon_end - exon_start,\n",
    "                        exon_height,\n",
    "                        fill=True,\n",
    "                        color=\"k\",\n",
    "                        linewidth=0,\n",
    "                    )\n",
    "                    ax.add_patch(rect)\n",
    "\n",
    "                # make the gene body a thin line, drawn at the end so it will always display on top\n",
    "                elif part[\"feature\"] == \"gene\":\n",
    "                    gene_start = part[\"start\"]\n",
    "                    gene_end = part[\"end\"]\n",
    "                    rect = mpatches.Rectangle(\n",
    "                        (gene_start, gene_bottom),\n",
    "                        gene_end - gene_start,\n",
    "                        gene_height,\n",
    "                        fill=True,\n",
    "                        color=\"k\",\n",
    "                        linewidth=0,\n",
    "                    )\n",
    "                    ax.add_patch(rect)\n",
    "\n",
    "        if verbose == True:\n",
    "            print(\n",
    "                f\"\\tfor region {region_name}, drew gene {gene}, {len(gtf_region_intersection_gene.index)} individual items drawn\\n\"\n",
    "            )\n",
    "\n",
    "        # figure settings\n",
    "        ax.set_ylim([exon_bottom, -exon_bottom])\n",
    "        ax.set_xlabel(gene, fontsize=10)\n",
    "        addax()\n",
    "\n",
    "fig.savefig(\n",
    "    \"plts_track/dar_best_track__per_tech_harmony_cell_type_bigwigs_nonnorm.png\",\n",
    "    dpi=350,\n",
    "    bbox_inches=\"tight\",\n",
    "    pad_inches=0,\n",
    "    transparent=False,\n",
    "    facecolor=\"white\",\n",
    ")\n",
    "fig.savefig(\n",
    "    \"plts_track/dar_best_track__per_tech_harmony_cell_type_bigwigs_nonnorm.svg\",\n",
    "    dpi=350,\n",
    "    bbox_inches=\"tight\",\n",
    "    pad_inches=0,\n",
    "    transparent=False,\n",
    "    facecolor=\"white\",\n",
    ")\n",
    "\n",
    "fig"
   ]
  },
  {
   "cell_type": "code",
   "execution_count": 341,
   "id": "ef86cf3b-38bb-4b2c-bf5c-17529abe6ee3",
   "metadata": {
    "execution": {
     "iopub.execute_input": "2023-02-15T15:42:30.343691Z",
     "iopub.status.busy": "2023-02-15T15:42:30.343474Z",
     "iopub.status.idle": "2023-02-15T15:42:30.349617Z",
     "shell.execute_reply": "2023-02-15T15:42:30.348829Z",
     "shell.execute_reply.started": "2023-02-15T15:42:30.343670Z"
    }
   },
   "outputs": [
    {
     "data": {
      "text/plain": [
       "{'Natural_killer_cell': 'downstream_analysis/DARs/master_celltypefair_1.FIXEDCELLS/master_celltypefair_1.FIXEDCELLS__Natural_killer_cell__DARs.TOP2k.bed',\n",
       " 'CD16_monocyte': 'downstream_analysis/DARs/master_celltypefair_1.FIXEDCELLS/master_celltypefair_1.FIXEDCELLS__CD16+_monocyte__DARs.TOP2k.bed',\n",
       " 'Dendritic_cell': 'downstream_analysis/DARs/master_celltypefair_1.FIXEDCELLS/master_celltypefair_1.FIXEDCELLS__Dendritic_cell__DARs.TOP2k.bed',\n",
       " 'B_cell': 'downstream_analysis/DARs/master_celltypefair_1.FIXEDCELLS/master_celltypefair_1.FIXEDCELLS__B_cell__DARs.TOP2k.bed',\n",
       " 'CD4_T_cell': 'downstream_analysis/DARs/master_celltypefair_1.FIXEDCELLS/master_celltypefair_1.FIXEDCELLS__CD4+_T_cell__DARs.TOP2k.bed',\n",
       " 'CD14_monocyte': 'downstream_analysis/DARs/master_celltypefair_1.FIXEDCELLS/master_celltypefair_1.FIXEDCELLS__CD14+_monocyte__DARs.TOP2k.bed',\n",
       " 'Cytotoxic_T_cell': 'downstream_analysis/DARs/master_celltypefair_1.FIXEDCELLS/master_celltypefair_1.FIXEDCELLS__Cytotoxic_T_cell__DARs.TOP2k.bed'}"
      ]
     },
     "execution_count": 341,
     "metadata": {},
     "output_type": "execute_result"
    }
   ],
   "source": [
    "peak_path_dict"
   ]
  }
 ],
 "metadata": {
  "kernelspec": {
   "display_name": "Python 3 (ipykernel)",
   "language": "python",
   "name": "python3"
  },
  "language_info": {
   "codemirror_mode": {
    "name": "ipython",
    "version": 3
   },
   "file_extension": ".py",
   "mimetype": "text/x-python",
   "name": "python",
   "nbconvert_exporter": "python",
   "pygments_lexer": "ipython3",
   "version": "3.7.7"
  }
 },
 "nbformat": 4,
 "nbformat_minor": 5
}

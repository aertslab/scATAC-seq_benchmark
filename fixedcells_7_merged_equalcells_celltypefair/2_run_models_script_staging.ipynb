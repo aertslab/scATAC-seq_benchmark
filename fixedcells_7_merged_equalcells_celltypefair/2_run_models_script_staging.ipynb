{
 "cells": [
  {
   "cell_type": "markdown",
   "id": "abad1c43",
   "metadata": {
    "papermill": {
     "duration": 0.018858,
     "end_time": "2022-08-20T22:37:21.062275",
     "exception": false,
     "start_time": "2022-08-20T22:37:21.043417",
     "status": "completed"
    },
    "tags": []
   },
   "source": [
    "# pycisTopic analysis\n",
    "\n",
    "Full dataset, using SCREEN regions."
   ]
  },
  {
   "cell_type": "code",
   "execution_count": 36,
   "id": "27688c76",
   "metadata": {
    "execution": {
     "iopub.execute_input": "2023-01-05T20:47:41.899772Z",
     "iopub.status.busy": "2023-01-05T20:47:41.898549Z",
     "iopub.status.idle": "2023-01-05T20:47:41.908871Z",
     "shell.execute_reply": "2023-01-05T20:47:41.907496Z",
     "shell.execute_reply.started": "2023-01-05T20:47:41.899713Z"
    },
    "papermill": {
     "duration": 0.038814,
     "end_time": "2022-08-20T22:37:21.118471",
     "exception": false,
     "start_time": "2022-08-20T22:37:21.079657",
     "status": "completed"
    },
    "tags": []
   },
   "outputs": [
    {
     "data": {
      "text/plain": [
       "'1.0.2.dev0+g6236cef.d20220816'"
      ]
     },
     "execution_count": 36,
     "metadata": {},
     "output_type": "execute_result"
    }
   ],
   "source": [
    "import pycisTopic\n",
    "pycisTopic.__version__"
   ]
  },
  {
   "cell_type": "code",
   "execution_count": 37,
   "id": "02f5597f",
   "metadata": {
    "execution": {
     "iopub.execute_input": "2023-01-05T20:47:41.912817Z",
     "iopub.status.busy": "2023-01-05T20:47:41.911753Z",
     "iopub.status.idle": "2023-01-05T20:47:42.384487Z",
     "shell.execute_reply": "2023-01-05T20:47:42.382953Z",
     "shell.execute_reply.started": "2023-01-05T20:47:41.912750Z"
    },
    "papermill": {
     "duration": 0.016775,
     "end_time": "2022-08-20T22:37:21.146588",
     "exception": false,
     "start_time": "2022-08-20T22:37:21.129813",
     "status": "completed"
    },
    "tags": []
   },
   "outputs": [],
   "source": [
    "import warnings\n",
    "warnings.filterwarnings('ignore')\n",
    "warnings.simplefilter('ignore')"
   ]
  },
  {
   "cell_type": "code",
   "execution_count": 38,
   "id": "dddb9e5d",
   "metadata": {
    "execution": {
     "iopub.execute_input": "2023-01-05T20:47:42.387237Z",
     "iopub.status.busy": "2023-01-05T20:47:42.386496Z",
     "iopub.status.idle": "2023-01-05T20:47:42.393505Z",
     "shell.execute_reply": "2023-01-05T20:47:42.392110Z",
     "shell.execute_reply.started": "2023-01-05T20:47:42.387182Z"
    },
    "papermill": {
     "duration": 1.451765,
     "end_time": "2022-08-20T22:37:22.608690",
     "exception": false,
     "start_time": "2022-08-20T22:37:21.156925",
     "status": "completed"
    },
    "tags": []
   },
   "outputs": [],
   "source": [
    "import pickle\n",
    "import pandas as pd"
   ]
  },
  {
   "cell_type": "code",
   "execution_count": 39,
   "id": "d1be21b1",
   "metadata": {
    "execution": {
     "iopub.execute_input": "2023-01-05T20:47:42.397821Z",
     "iopub.status.busy": "2023-01-05T20:47:42.396804Z",
     "iopub.status.idle": "2023-01-05T20:47:42.404065Z",
     "shell.execute_reply": "2023-01-05T20:47:42.402648Z",
     "shell.execute_reply.started": "2023-01-05T20:47:42.397758Z"
    },
    "papermill": {
     "duration": 0.019766,
     "end_time": "2022-08-20T22:37:22.644014",
     "exception": false,
     "start_time": "2022-08-20T22:37:22.624248",
     "status": "completed"
    },
    "tags": []
   },
   "outputs": [],
   "source": [
    "import glob\n",
    "from collections import OrderedDict\n",
    "import numpy as np"
   ]
  },
  {
   "cell_type": "code",
   "execution_count": 40,
   "id": "e6797018",
   "metadata": {
    "execution": {
     "iopub.execute_input": "2023-01-05T20:47:42.407009Z",
     "iopub.status.busy": "2023-01-05T20:47:42.405970Z",
     "iopub.status.idle": "2023-01-05T20:47:42.619685Z",
     "shell.execute_reply": "2023-01-05T20:47:42.617807Z",
     "shell.execute_reply.started": "2023-01-05T20:47:42.406960Z"
    },
    "papermill": {
     "duration": 0.225017,
     "end_time": "2022-08-20T22:37:22.878396",
     "exception": false,
     "start_time": "2022-08-20T22:37:22.653379",
     "status": "completed"
    },
    "tags": []
   },
   "outputs": [
    {
     "name": "stdout",
     "output_type": "stream",
     "text": [
      "/lustre1/project/stg_00090/scatac_benchmark/fixedcells_7_merged_equalcells_celltypefair\n"
     ]
    }
   ],
   "source": [
    "!pwd"
   ]
  },
  {
   "cell_type": "code",
   "execution_count": 41,
   "id": "8a4b1699",
   "metadata": {
    "execution": {
     "iopub.execute_input": "2023-01-05T20:47:42.623085Z",
     "iopub.status.busy": "2023-01-05T20:47:42.622261Z",
     "iopub.status.idle": "2023-01-05T20:47:42.630822Z",
     "shell.execute_reply": "2023-01-05T20:47:42.629434Z",
     "shell.execute_reply.started": "2023-01-05T20:47:42.623018Z"
    },
    "papermill": {
     "duration": 0.022023,
     "end_time": "2022-08-20T22:37:22.915276",
     "exception": false,
     "start_time": "2022-08-20T22:37:22.893253",
     "status": "completed"
    },
    "tags": []
   },
   "outputs": [],
   "source": [
    "import os\n",
    "wdir = '/lustre1/project/stg_00090/scatac_benchmark/fixedcells_7_merged_equalcells_celltypefair'\n",
    "os.chdir( wdir )"
   ]
  },
  {
   "cell_type": "code",
   "execution_count": 42,
   "id": "a6c26e22",
   "metadata": {
    "execution": {
     "iopub.execute_input": "2023-01-05T20:47:42.634889Z",
     "iopub.status.busy": "2023-01-05T20:47:42.633912Z",
     "iopub.status.idle": "2023-01-05T20:47:42.655530Z",
     "shell.execute_reply": "2023-01-05T20:47:42.654041Z",
     "shell.execute_reply.started": "2023-01-05T20:47:42.634840Z"
    },
    "tags": []
   },
   "outputs": [
    {
     "name": "stdout",
     "output_type": "stream",
     "text": [
      "['11', '12', '13', '14', '15', '16', '17', '18', '19', '20', '21', '22', '23', '24', '25', '26', '27', '28', '29', '30']\n"
     ]
    }
   ],
   "source": [
    "n_topics_final = 30\n",
    "base_topic = 10\n",
    "topics_final = set(sorted([str(x+1) for x in list(range(base_topic,n_topics_final))]))\n",
    "n_cores = 16\n",
    "n_iter = \"400\"\n",
    "print(sorted(topics_final))"
   ]
  },
  {
   "cell_type": "code",
   "execution_count": 43,
   "id": "75a87a2d",
   "metadata": {
    "execution": {
     "iopub.execute_input": "2023-01-05T20:47:42.692091Z",
     "iopub.status.busy": "2023-01-05T20:47:42.691299Z",
     "iopub.status.idle": "2023-01-05T20:47:42.800872Z",
     "shell.execute_reply": "2023-01-05T20:47:42.799360Z",
     "shell.execute_reply.started": "2023-01-05T20:47:42.692034Z"
    },
    "papermill": {
     "duration": 0.236882,
     "end_time": "2022-08-20T22:37:23.193992",
     "exception": false,
     "start_time": "2022-08-20T22:37:22.957110",
     "status": "completed"
    },
    "tags": []
   },
   "outputs": [
    {
     "name": "stdout",
     "output_type": "stream",
     "text": [
      "echo master_celltypefair_1.FIXEDCELLS && cd /lustre1/project/stg_00090/scatac_benchmark/fixedcells_7_merged_equalcells_celltypefair && singularity exec -B /lustre1,/staging,/data,/vsc-hard-mounts,/scratch ../0_resources/cistopic_image/20220815_pycistopic.sif python ../0_resources/scripts/runModels_lda_mallet.py -i cistopic_objects/master_celltypefair_1.FIXEDCELLS__cto.scrublet0-4.fmx.singlets.model_24topics.dimreduc.consensus_harmony.pkl -o master_celltypefair_1.FIXEDCELLS__models_400_iter.pkl -nt 11 -c 16 -it 400 -a 50 -abt True -e 0.1 -ebt False -sp models__screen__mallet/model_intermediates/master_celltypefair_1.FIXEDCELLS_11_model_intermediates/ -s 555 -td models__screen__mallet/model_tmp/master_celltypefair_1.FIXEDCELLS_11_model_tmp/ > models__screen__mallet/master_celltypefair_1.FIXEDCELLS.models_out_log11.txt\n",
      "echo master_celltypefair_1.FIXEDCELLS && cd /lustre1/project/stg_00090/scatac_benchmark/fixedcells_7_merged_equalcells_celltypefair && singularity exec -B /lustre1,/staging,/data,/vsc-hard-mounts,/scratch ../0_resources/cistopic_image/20220815_pycistopic.sif python ../0_resources/scripts/runModels_lda_mallet.py -i cistopic_objects/master_celltypefair_1.FIXEDCELLS__cto.scrublet0-4.fmx.singlets.model_24topics.dimreduc.consensus_harmony.pkl -o master_celltypefair_1.FIXEDCELLS__models_400_iter.pkl -nt 12 -c 16 -it 400 -a 50 -abt True -e 0.1 -ebt False -sp models__screen__mallet/model_intermediates/master_celltypefair_1.FIXEDCELLS_12_model_intermediates/ -s 555 -td models__screen__mallet/model_tmp/master_celltypefair_1.FIXEDCELLS_12_model_tmp/ > models__screen__mallet/master_celltypefair_1.FIXEDCELLS.models_out_log12.txt\n",
      "echo master_celltypefair_1.FIXEDCELLS && cd /lustre1/project/stg_00090/scatac_benchmark/fixedcells_7_merged_equalcells_celltypefair && singularity exec -B /lustre1,/staging,/data,/vsc-hard-mounts,/scratch ../0_resources/cistopic_image/20220815_pycistopic.sif python ../0_resources/scripts/runModels_lda_mallet.py -i cistopic_objects/master_celltypefair_1.FIXEDCELLS__cto.scrublet0-4.fmx.singlets.model_24topics.dimreduc.consensus_harmony.pkl -o master_celltypefair_1.FIXEDCELLS__models_400_iter.pkl -nt 13 -c 16 -it 400 -a 50 -abt True -e 0.1 -ebt False -sp models__screen__mallet/model_intermediates/master_celltypefair_1.FIXEDCELLS_13_model_intermediates/ -s 555 -td models__screen__mallet/model_tmp/master_celltypefair_1.FIXEDCELLS_13_model_tmp/ > models__screen__mallet/master_celltypefair_1.FIXEDCELLS.models_out_log13.txt\n",
      "echo master_celltypefair_1.FIXEDCELLS && cd /lustre1/project/stg_00090/scatac_benchmark/fixedcells_7_merged_equalcells_celltypefair && singularity exec -B /lustre1,/staging,/data,/vsc-hard-mounts,/scratch ../0_resources/cistopic_image/20220815_pycistopic.sif python ../0_resources/scripts/runModels_lda_mallet.py -i cistopic_objects/master_celltypefair_1.FIXEDCELLS__cto.scrublet0-4.fmx.singlets.model_24topics.dimreduc.consensus_harmony.pkl -o master_celltypefair_1.FIXEDCELLS__models_400_iter.pkl -nt 14 -c 16 -it 400 -a 50 -abt True -e 0.1 -ebt False -sp models__screen__mallet/model_intermediates/master_celltypefair_1.FIXEDCELLS_14_model_intermediates/ -s 555 -td models__screen__mallet/model_tmp/master_celltypefair_1.FIXEDCELLS_14_model_tmp/ > models__screen__mallet/master_celltypefair_1.FIXEDCELLS.models_out_log14.txt\n",
      "echo master_celltypefair_1.FIXEDCELLS && cd /lustre1/project/stg_00090/scatac_benchmark/fixedcells_7_merged_equalcells_celltypefair && singularity exec -B /lustre1,/staging,/data,/vsc-hard-mounts,/scratch ../0_resources/cistopic_image/20220815_pycistopic.sif python ../0_resources/scripts/runModels_lda_mallet.py -i cistopic_objects/master_celltypefair_1.FIXEDCELLS__cto.scrublet0-4.fmx.singlets.model_24topics.dimreduc.consensus_harmony.pkl -o master_celltypefair_1.FIXEDCELLS__models_400_iter.pkl -nt 15 -c 16 -it 400 -a 50 -abt True -e 0.1 -ebt False -sp models__screen__mallet/model_intermediates/master_celltypefair_1.FIXEDCELLS_15_model_intermediates/ -s 555 -td models__screen__mallet/model_tmp/master_celltypefair_1.FIXEDCELLS_15_model_tmp/ > models__screen__mallet/master_celltypefair_1.FIXEDCELLS.models_out_log15.txt\n",
      "echo master_celltypefair_1.FIXEDCELLS && cd /lustre1/project/stg_00090/scatac_benchmark/fixedcells_7_merged_equalcells_celltypefair && singularity exec -B /lustre1,/staging,/data,/vsc-hard-mounts,/scratch ../0_resources/cistopic_image/20220815_pycistopic.sif python ../0_resources/scripts/runModels_lda_mallet.py -i cistopic_objects/master_celltypefair_1.FIXEDCELLS__cto.scrublet0-4.fmx.singlets.model_24topics.dimreduc.consensus_harmony.pkl -o master_celltypefair_1.FIXEDCELLS__models_400_iter.pkl -nt 16 -c 16 -it 400 -a 50 -abt True -e 0.1 -ebt False -sp models__screen__mallet/model_intermediates/master_celltypefair_1.FIXEDCELLS_16_model_intermediates/ -s 555 -td models__screen__mallet/model_tmp/master_celltypefair_1.FIXEDCELLS_16_model_tmp/ > models__screen__mallet/master_celltypefair_1.FIXEDCELLS.models_out_log16.txt\n",
      "echo master_celltypefair_1.FIXEDCELLS && cd /lustre1/project/stg_00090/scatac_benchmark/fixedcells_7_merged_equalcells_celltypefair && singularity exec -B /lustre1,/staging,/data,/vsc-hard-mounts,/scratch ../0_resources/cistopic_image/20220815_pycistopic.sif python ../0_resources/scripts/runModels_lda_mallet.py -i cistopic_objects/master_celltypefair_1.FIXEDCELLS__cto.scrublet0-4.fmx.singlets.model_24topics.dimreduc.consensus_harmony.pkl -o master_celltypefair_1.FIXEDCELLS__models_400_iter.pkl -nt 17 -c 16 -it 400 -a 50 -abt True -e 0.1 -ebt False -sp models__screen__mallet/model_intermediates/master_celltypefair_1.FIXEDCELLS_17_model_intermediates/ -s 555 -td models__screen__mallet/model_tmp/master_celltypefair_1.FIXEDCELLS_17_model_tmp/ > models__screen__mallet/master_celltypefair_1.FIXEDCELLS.models_out_log17.txt\n",
      "echo master_celltypefair_1.FIXEDCELLS && cd /lustre1/project/stg_00090/scatac_benchmark/fixedcells_7_merged_equalcells_celltypefair && singularity exec -B /lustre1,/staging,/data,/vsc-hard-mounts,/scratch ../0_resources/cistopic_image/20220815_pycistopic.sif python ../0_resources/scripts/runModels_lda_mallet.py -i cistopic_objects/master_celltypefair_1.FIXEDCELLS__cto.scrublet0-4.fmx.singlets.model_24topics.dimreduc.consensus_harmony.pkl -o master_celltypefair_1.FIXEDCELLS__models_400_iter.pkl -nt 18 -c 16 -it 400 -a 50 -abt True -e 0.1 -ebt False -sp models__screen__mallet/model_intermediates/master_celltypefair_1.FIXEDCELLS_18_model_intermediates/ -s 555 -td models__screen__mallet/model_tmp/master_celltypefair_1.FIXEDCELLS_18_model_tmp/ > models__screen__mallet/master_celltypefair_1.FIXEDCELLS.models_out_log18.txt\n",
      "echo master_celltypefair_1.FIXEDCELLS && cd /lustre1/project/stg_00090/scatac_benchmark/fixedcells_7_merged_equalcells_celltypefair && singularity exec -B /lustre1,/staging,/data,/vsc-hard-mounts,/scratch ../0_resources/cistopic_image/20220815_pycistopic.sif python ../0_resources/scripts/runModels_lda_mallet.py -i cistopic_objects/master_celltypefair_1.FIXEDCELLS__cto.scrublet0-4.fmx.singlets.model_24topics.dimreduc.consensus_harmony.pkl -o master_celltypefair_1.FIXEDCELLS__models_400_iter.pkl -nt 19 -c 16 -it 400 -a 50 -abt True -e 0.1 -ebt False -sp models__screen__mallet/model_intermediates/master_celltypefair_1.FIXEDCELLS_19_model_intermediates/ -s 555 -td models__screen__mallet/model_tmp/master_celltypefair_1.FIXEDCELLS_19_model_tmp/ > models__screen__mallet/master_celltypefair_1.FIXEDCELLS.models_out_log19.txt\n",
      "echo master_celltypefair_1.FIXEDCELLS && cd /lustre1/project/stg_00090/scatac_benchmark/fixedcells_7_merged_equalcells_celltypefair && singularity exec -B /lustre1,/staging,/data,/vsc-hard-mounts,/scratch ../0_resources/cistopic_image/20220815_pycistopic.sif python ../0_resources/scripts/runModels_lda_mallet.py -i cistopic_objects/master_celltypefair_1.FIXEDCELLS__cto.scrublet0-4.fmx.singlets.model_24topics.dimreduc.consensus_harmony.pkl -o master_celltypefair_1.FIXEDCELLS__models_400_iter.pkl -nt 20 -c 16 -it 400 -a 50 -abt True -e 0.1 -ebt False -sp models__screen__mallet/model_intermediates/master_celltypefair_1.FIXEDCELLS_20_model_intermediates/ -s 555 -td models__screen__mallet/model_tmp/master_celltypefair_1.FIXEDCELLS_20_model_tmp/ > models__screen__mallet/master_celltypefair_1.FIXEDCELLS.models_out_log20.txt\n",
      "echo master_celltypefair_1.FIXEDCELLS && cd /lustre1/project/stg_00090/scatac_benchmark/fixedcells_7_merged_equalcells_celltypefair && singularity exec -B /lustre1,/staging,/data,/vsc-hard-mounts,/scratch ../0_resources/cistopic_image/20220815_pycistopic.sif python ../0_resources/scripts/runModels_lda_mallet.py -i cistopic_objects/master_celltypefair_1.FIXEDCELLS__cto.scrublet0-4.fmx.singlets.model_24topics.dimreduc.consensus_harmony.pkl -o master_celltypefair_1.FIXEDCELLS__models_400_iter.pkl -nt 21 -c 16 -it 400 -a 50 -abt True -e 0.1 -ebt False -sp models__screen__mallet/model_intermediates/master_celltypefair_1.FIXEDCELLS_21_model_intermediates/ -s 555 -td models__screen__mallet/model_tmp/master_celltypefair_1.FIXEDCELLS_21_model_tmp/ > models__screen__mallet/master_celltypefair_1.FIXEDCELLS.models_out_log21.txt\n",
      "echo master_celltypefair_1.FIXEDCELLS && cd /lustre1/project/stg_00090/scatac_benchmark/fixedcells_7_merged_equalcells_celltypefair && singularity exec -B /lustre1,/staging,/data,/vsc-hard-mounts,/scratch ../0_resources/cistopic_image/20220815_pycistopic.sif python ../0_resources/scripts/runModels_lda_mallet.py -i cistopic_objects/master_celltypefair_1.FIXEDCELLS__cto.scrublet0-4.fmx.singlets.model_24topics.dimreduc.consensus_harmony.pkl -o master_celltypefair_1.FIXEDCELLS__models_400_iter.pkl -nt 22 -c 16 -it 400 -a 50 -abt True -e 0.1 -ebt False -sp models__screen__mallet/model_intermediates/master_celltypefair_1.FIXEDCELLS_22_model_intermediates/ -s 555 -td models__screen__mallet/model_tmp/master_celltypefair_1.FIXEDCELLS_22_model_tmp/ > models__screen__mallet/master_celltypefair_1.FIXEDCELLS.models_out_log22.txt\n",
      "echo master_celltypefair_1.FIXEDCELLS && cd /lustre1/project/stg_00090/scatac_benchmark/fixedcells_7_merged_equalcells_celltypefair && singularity exec -B /lustre1,/staging,/data,/vsc-hard-mounts,/scratch ../0_resources/cistopic_image/20220815_pycistopic.sif python ../0_resources/scripts/runModels_lda_mallet.py -i cistopic_objects/master_celltypefair_1.FIXEDCELLS__cto.scrublet0-4.fmx.singlets.model_24topics.dimreduc.consensus_harmony.pkl -o master_celltypefair_1.FIXEDCELLS__models_400_iter.pkl -nt 23 -c 16 -it 400 -a 50 -abt True -e 0.1 -ebt False -sp models__screen__mallet/model_intermediates/master_celltypefair_1.FIXEDCELLS_23_model_intermediates/ -s 555 -td models__screen__mallet/model_tmp/master_celltypefair_1.FIXEDCELLS_23_model_tmp/ > models__screen__mallet/master_celltypefair_1.FIXEDCELLS.models_out_log23.txt\n",
      "echo master_celltypefair_1.FIXEDCELLS && cd /lustre1/project/stg_00090/scatac_benchmark/fixedcells_7_merged_equalcells_celltypefair && singularity exec -B /lustre1,/staging,/data,/vsc-hard-mounts,/scratch ../0_resources/cistopic_image/20220815_pycistopic.sif python ../0_resources/scripts/runModels_lda_mallet.py -i cistopic_objects/master_celltypefair_1.FIXEDCELLS__cto.scrublet0-4.fmx.singlets.model_24topics.dimreduc.consensus_harmony.pkl -o master_celltypefair_1.FIXEDCELLS__models_400_iter.pkl -nt 24 -c 16 -it 400 -a 50 -abt True -e 0.1 -ebt False -sp models__screen__mallet/model_intermediates/master_celltypefair_1.FIXEDCELLS_24_model_intermediates/ -s 555 -td models__screen__mallet/model_tmp/master_celltypefair_1.FIXEDCELLS_24_model_tmp/ > models__screen__mallet/master_celltypefair_1.FIXEDCELLS.models_out_log24.txt\n",
      "echo master_celltypefair_1.FIXEDCELLS && cd /lustre1/project/stg_00090/scatac_benchmark/fixedcells_7_merged_equalcells_celltypefair && singularity exec -B /lustre1,/staging,/data,/vsc-hard-mounts,/scratch ../0_resources/cistopic_image/20220815_pycistopic.sif python ../0_resources/scripts/runModels_lda_mallet.py -i cistopic_objects/master_celltypefair_1.FIXEDCELLS__cto.scrublet0-4.fmx.singlets.model_24topics.dimreduc.consensus_harmony.pkl -o master_celltypefair_1.FIXEDCELLS__models_400_iter.pkl -nt 25 -c 16 -it 400 -a 50 -abt True -e 0.1 -ebt False -sp models__screen__mallet/model_intermediates/master_celltypefair_1.FIXEDCELLS_25_model_intermediates/ -s 555 -td models__screen__mallet/model_tmp/master_celltypefair_1.FIXEDCELLS_25_model_tmp/ > models__screen__mallet/master_celltypefair_1.FIXEDCELLS.models_out_log25.txt\n",
      "echo master_celltypefair_1.FIXEDCELLS && cd /lustre1/project/stg_00090/scatac_benchmark/fixedcells_7_merged_equalcells_celltypefair && singularity exec -B /lustre1,/staging,/data,/vsc-hard-mounts,/scratch ../0_resources/cistopic_image/20220815_pycistopic.sif python ../0_resources/scripts/runModels_lda_mallet.py -i cistopic_objects/master_celltypefair_1.FIXEDCELLS__cto.scrublet0-4.fmx.singlets.model_24topics.dimreduc.consensus_harmony.pkl -o master_celltypefair_1.FIXEDCELLS__models_400_iter.pkl -nt 26 -c 16 -it 400 -a 50 -abt True -e 0.1 -ebt False -sp models__screen__mallet/model_intermediates/master_celltypefair_1.FIXEDCELLS_26_model_intermediates/ -s 555 -td models__screen__mallet/model_tmp/master_celltypefair_1.FIXEDCELLS_26_model_tmp/ > models__screen__mallet/master_celltypefair_1.FIXEDCELLS.models_out_log26.txt\n",
      "echo master_celltypefair_1.FIXEDCELLS && cd /lustre1/project/stg_00090/scatac_benchmark/fixedcells_7_merged_equalcells_celltypefair && singularity exec -B /lustre1,/staging,/data,/vsc-hard-mounts,/scratch ../0_resources/cistopic_image/20220815_pycistopic.sif python ../0_resources/scripts/runModels_lda_mallet.py -i cistopic_objects/master_celltypefair_1.FIXEDCELLS__cto.scrublet0-4.fmx.singlets.model_24topics.dimreduc.consensus_harmony.pkl -o master_celltypefair_1.FIXEDCELLS__models_400_iter.pkl -nt 27 -c 16 -it 400 -a 50 -abt True -e 0.1 -ebt False -sp models__screen__mallet/model_intermediates/master_celltypefair_1.FIXEDCELLS_27_model_intermediates/ -s 555 -td models__screen__mallet/model_tmp/master_celltypefair_1.FIXEDCELLS_27_model_tmp/ > models__screen__mallet/master_celltypefair_1.FIXEDCELLS.models_out_log27.txt\n",
      "echo master_celltypefair_1.FIXEDCELLS && cd /lustre1/project/stg_00090/scatac_benchmark/fixedcells_7_merged_equalcells_celltypefair && singularity exec -B /lustre1,/staging,/data,/vsc-hard-mounts,/scratch ../0_resources/cistopic_image/20220815_pycistopic.sif python ../0_resources/scripts/runModels_lda_mallet.py -i cistopic_objects/master_celltypefair_1.FIXEDCELLS__cto.scrublet0-4.fmx.singlets.model_24topics.dimreduc.consensus_harmony.pkl -o master_celltypefair_1.FIXEDCELLS__models_400_iter.pkl -nt 28 -c 16 -it 400 -a 50 -abt True -e 0.1 -ebt False -sp models__screen__mallet/model_intermediates/master_celltypefair_1.FIXEDCELLS_28_model_intermediates/ -s 555 -td models__screen__mallet/model_tmp/master_celltypefair_1.FIXEDCELLS_28_model_tmp/ > models__screen__mallet/master_celltypefair_1.FIXEDCELLS.models_out_log28.txt\n",
      "echo master_celltypefair_1.FIXEDCELLS && cd /lustre1/project/stg_00090/scatac_benchmark/fixedcells_7_merged_equalcells_celltypefair && singularity exec -B /lustre1,/staging,/data,/vsc-hard-mounts,/scratch ../0_resources/cistopic_image/20220815_pycistopic.sif python ../0_resources/scripts/runModels_lda_mallet.py -i cistopic_objects/master_celltypefair_1.FIXEDCELLS__cto.scrublet0-4.fmx.singlets.model_24topics.dimreduc.consensus_harmony.pkl -o master_celltypefair_1.FIXEDCELLS__models_400_iter.pkl -nt 29 -c 16 -it 400 -a 50 -abt True -e 0.1 -ebt False -sp models__screen__mallet/model_intermediates/master_celltypefair_1.FIXEDCELLS_29_model_intermediates/ -s 555 -td models__screen__mallet/model_tmp/master_celltypefair_1.FIXEDCELLS_29_model_tmp/ > models__screen__mallet/master_celltypefair_1.FIXEDCELLS.models_out_log29.txt\n",
      "echo master_celltypefair_1.FIXEDCELLS && cd /lustre1/project/stg_00090/scatac_benchmark/fixedcells_7_merged_equalcells_celltypefair && singularity exec -B /lustre1,/staging,/data,/vsc-hard-mounts,/scratch ../0_resources/cistopic_image/20220815_pycistopic.sif python ../0_resources/scripts/runModels_lda_mallet.py -i cistopic_objects/master_celltypefair_1.FIXEDCELLS__cto.scrublet0-4.fmx.singlets.model_24topics.dimreduc.consensus_harmony.pkl -o master_celltypefair_1.FIXEDCELLS__models_400_iter.pkl -nt 30 -c 16 -it 400 -a 50 -abt True -e 0.1 -ebt False -sp models__screen__mallet/model_intermediates/master_celltypefair_1.FIXEDCELLS_30_model_intermediates/ -s 555 -td models__screen__mallet/model_tmp/master_celltypefair_1.FIXEDCELLS_30_model_tmp/ > models__screen__mallet/master_celltypefair_1.FIXEDCELLS.models_out_log30.txt\n",
      "All topics done.\n",
      "\n",
      "\n"
     ]
    }
   ],
   "source": [
    "mounts = \"/lustre1,/staging,/data,/vsc-hard-mounts,/scratch\"\n",
    "sif = \"../0_resources/cistopic_image/20220815_pycistopic.sif\"\n",
    "script = \"../0_resources/scripts/runModels_lda_mallet.py\"\n",
    "\n",
    "f_mod_dir = 'models__screen__mallet'\n",
    "if not os.path.exists(os.path.join(wdir, f_mod_dir)):\n",
    "    os.makedirs(os.path.join(wdir, f_mod_dir))\n",
    "\n",
    "infile = 'cistopic_objects/master_celltypefair_1.FIXEDCELLS__cto.scrublet0-4.fmx.singlets.pkl'\n",
    "sample = 'master_celltypefair_1.FIXEDCELLS'\n",
    "outfile = sample + '__models_' + str(n_iter) + '_iter.pkl'\n",
    "\n",
    "\n",
    "\n",
    "\n",
    "topics_todo = str(sorted(list(topics_final))).replace(\"'\",\"\").replace(' ','').replace('[','').replace(']','')\n",
    "ver=str(n_topics_final)\n",
    "\n",
    "if not topics_todo == '':\n",
    "    for n_topics in topics_todo.split(','):\n",
    "        intermediate_dir = f\"{f_mod_dir}/model_intermediates/{sample + '_' + n_topics}_model_intermediates/\"\n",
    "        if not os.path.exists(os.path.join(wdir, intermediate_dir)):\n",
    "            os.makedirs(os.path.join(wdir, intermediate_dir))\n",
    "\n",
    "        model_tmp_dir = f\"{f_mod_dir}/model_tmp/{sample + '_' + n_topics}_model_tmp/\"\n",
    "        if not os.path.exists(os.path.join(wdir, model_tmp_dir)):\n",
    "            os.makedirs(os.path.join(wdir, model_tmp_dir))\n",
    "            \n",
    "        out_log = f\"{f_mod_dir}/{sample}.models_out_log{n_topics}.txt\"\n",
    "        cmd = f\"echo {sample} && cd {wdir} && singularity exec -B {mounts} {sif} python {script} -i {infile} -o {outfile} -nt {n_topics} -c {n_cores} -it {n_iter} -a 50 -abt True -e 0.1 -ebt False -sp {intermediate_dir} -s 555 -td {model_tmp_dir} > {out_log}\"\n",
    "\n",
    "        print(cmd)\n",
    "        sh_path = f\"{f_mod_dir}/{sample}.runmodels{n_topics}.sh\"\n",
    "        with open(sh_path, 'w') as file:\n",
    "            file.write(cmd)\n",
    "    else:\n",
    "        print('All topics done.')\n",
    "\n",
    "\n",
    "print('\\n')"
   ]
  },
  {
   "cell_type": "markdown",
   "id": "bb480c64",
   "metadata": {
    "execution": {
     "iopub.execute_input": "2022-08-23T14:36:15.572885Z",
     "iopub.status.busy": "2022-08-23T14:36:15.572508Z",
     "iopub.status.idle": "2022-08-23T14:36:15.577548Z",
     "shell.execute_reply": "2022-08-23T14:36:15.576746Z",
     "shell.execute_reply.started": "2022-08-23T14:36:15.572858Z"
    },
    "papermill": {
     "duration": 0.011339,
     "end_time": "2022-08-20T22:37:23.432790",
     "exception": false,
     "start_time": "2022-08-20T22:37:23.421451",
     "status": "completed"
    },
    "tags": []
   },
   "source": [
    "In shell:"
   ]
  },
  {
   "cell_type": "markdown",
   "id": "a749fa08-5c15-4158-9fb2-6a5cebace66c",
   "metadata": {
    "execution": {
     "iopub.execute_input": "2022-09-18T18:14:55.419661Z",
     "iopub.status.busy": "2022-09-18T18:14:55.419358Z",
     "iopub.status.idle": "2022-09-18T18:14:55.427409Z",
     "shell.execute_reply": "2022-09-18T18:14:55.426066Z",
     "shell.execute_reply.started": "2022-09-18T18:14:55.419634Z"
    },
    "papermill": {
     "duration": 0.011323,
     "end_time": "2022-08-20T22:37:23.455675",
     "exception": false,
     "start_time": "2022-08-20T22:37:23.444352",
     "status": "completed"
    },
    "tags": []
   },
   "source": [
    "```\n",
    "for script in models__screen__mallet/*.sh\n",
    "do\n",
    "    echo $script\n",
    "    qsub $script -A lp_symbiosys -l nodes=1:ppn=36 -l walltime=24:00:00 -l pmem=2gb\n",
    "done\n",
    "```"
   ]
  },
  {
   "cell_type": "code",
   "execution_count": 44,
   "id": "9de41828-a5c4-453d-8330-333615828675",
   "metadata": {
    "execution": {
     "iopub.execute_input": "2023-01-05T20:47:43.546028Z",
     "iopub.status.busy": "2023-01-05T20:47:43.545235Z",
     "iopub.status.idle": "2023-01-05T20:47:43.555696Z",
     "shell.execute_reply": "2023-01-05T20:47:43.553832Z",
     "shell.execute_reply.started": "2023-01-05T20:47:43.545971Z"
    },
    "tags": []
   },
   "outputs": [
    {
     "ename": "SyntaxError",
     "evalue": "invalid syntax (2239788841.py, line 1)",
     "output_type": "error",
     "traceback": [
      "\u001b[0;36m  Input \u001b[0;32mIn [44]\u001b[0;36m\u001b[0m\n\u001b[0;31m    ls models__screen__mallet/*.sh > models__screen__mallet/models.parallel\u001b[0m\n\u001b[0m       ^\u001b[0m\n\u001b[0;31mSyntaxError\u001b[0m\u001b[0;31m:\u001b[0m invalid syntax\n"
     ]
    }
   ],
   "source": [
    "ls models__screen__mallet/*.sh > models__screen__mallet/models.parallel\n",
    "chmod 755 models__screen__mallet/*.sh\n",
    "cat models__screen__mallet/models.parallel | parallel -j 5 --progress"
   ]
  },
  {
   "cell_type": "markdown",
   "id": "386b1d63",
   "metadata": {
    "papermill": {
     "duration": 0.011283,
     "end_time": "2022-08-20T22:37:23.478226",
     "exception": false,
     "start_time": "2022-08-20T22:37:23.466943",
     "status": "completed"
    },
    "tags": []
   },
   "source": [
    "Then, combine the models:"
   ]
  },
  {
   "cell_type": "code",
   "execution_count": 45,
   "id": "28cbcf97",
   "metadata": {
    "execution": {
     "iopub.execute_input": "2023-01-05T20:47:45.529329Z",
     "iopub.status.busy": "2023-01-05T20:47:45.528532Z",
     "iopub.status.idle": "2023-01-05T20:47:45.562289Z",
     "shell.execute_reply": "2023-01-05T20:47:45.560964Z",
     "shell.execute_reply.started": "2023-01-05T20:47:45.529272Z"
    },
    "papermill": {
     "duration": 0.012049,
     "end_time": "2022-08-20T22:37:23.501705",
     "exception": false,
     "start_time": "2022-08-20T22:37:23.489656",
     "status": "completed"
    },
    "tags": []
   },
   "outputs": [
    {
     "data": {
      "text/plain": [
       "{'Topic11.pkl': 'models__screen__mallet/model_intermediates/master_celltypefair_1.FIXEDCELLS_11_model_intermediates/Topic11.pkl',\n",
       " 'Topic12.pkl': 'models__screen__mallet/model_intermediates/master_celltypefair_1.FIXEDCELLS_12_model_intermediates/Topic12.pkl',\n",
       " 'Topic13.pkl': 'models__screen__mallet/model_intermediates/master_celltypefair_1.FIXEDCELLS_13_model_intermediates/Topic13.pkl',\n",
       " 'Topic14.pkl': 'models__screen__mallet/model_intermediates/master_celltypefair_1.FIXEDCELLS_14_model_intermediates/Topic14.pkl',\n",
       " 'Topic15.pkl': 'models__screen__mallet/model_intermediates/master_celltypefair_1.FIXEDCELLS_15_model_intermediates/Topic15.pkl',\n",
       " 'Topic16.pkl': 'models__screen__mallet/model_intermediates/master_celltypefair_1.FIXEDCELLS_16_model_intermediates/Topic16.pkl',\n",
       " 'Topic17.pkl': 'models__screen__mallet/model_intermediates/master_celltypefair_1.FIXEDCELLS_17_model_intermediates/Topic17.pkl',\n",
       " 'Topic18.pkl': 'models__screen__mallet/model_intermediates/master_celltypefair_1.FIXEDCELLS_18_model_intermediates/Topic18.pkl',\n",
       " 'Topic19.pkl': 'models__screen__mallet/model_intermediates/master_celltypefair_1.FIXEDCELLS_19_model_intermediates/Topic19.pkl',\n",
       " 'Topic20.pkl': 'models__screen__mallet/model_intermediates/master_celltypefair_1.FIXEDCELLS_20_model_intermediates/Topic20.pkl',\n",
       " 'Topic21.pkl': 'models__screen__mallet/model_intermediates/master_celltypefair_1.FIXEDCELLS_21_model_intermediates/Topic21.pkl',\n",
       " 'Topic22.pkl': 'models__screen__mallet/model_intermediates/master_celltypefair_1.FIXEDCELLS_22_model_intermediates/Topic22.pkl',\n",
       " 'Topic23.pkl': 'models__screen__mallet/model_intermediates/master_celltypefair_1.FIXEDCELLS_23_model_intermediates/Topic23.pkl',\n",
       " 'Topic24.pkl': 'models__screen__mallet/model_intermediates/master_celltypefair_1.FIXEDCELLS_24_model_intermediates/Topic24.pkl',\n",
       " 'Topic25.pkl': 'models__screen__mallet/model_intermediates/master_celltypefair_1.FIXEDCELLS_25_model_intermediates/Topic25.pkl',\n",
       " 'Topic26.pkl': 'models__screen__mallet/model_intermediates/master_celltypefair_1.FIXEDCELLS_26_model_intermediates/Topic26.pkl',\n",
       " 'Topic27.pkl': 'models__screen__mallet/model_intermediates/master_celltypefair_1.FIXEDCELLS_27_model_intermediates/Topic27.pkl',\n",
       " 'Topic28.pkl': 'models__screen__mallet/model_intermediates/master_celltypefair_1.FIXEDCELLS_28_model_intermediates/Topic28.pkl',\n",
       " 'Topic29.pkl': 'models__screen__mallet/model_intermediates/master_celltypefair_1.FIXEDCELLS_29_model_intermediates/Topic29.pkl',\n",
       " 'Topic30.pkl': 'models__screen__mallet/model_intermediates/master_celltypefair_1.FIXEDCELLS_30_model_intermediates/Topic30.pkl'}"
      ]
     },
     "execution_count": 45,
     "metadata": {},
     "output_type": "execute_result"
    }
   ],
   "source": [
    "intermediate_dict = {x.split('/')[-1].split('_model_intermediates')[0]: x for x in sorted(glob.glob(f'{f_mod_dir}/model_intermediates/*/*'))}\n",
    "intermediate_dict"
   ]
  },
  {
   "cell_type": "code",
   "execution_count": 46,
   "id": "f3f4b1db",
   "metadata": {
    "execution": {
     "iopub.execute_input": "2023-01-05T20:47:48.090172Z",
     "iopub.status.busy": "2023-01-05T20:47:48.088944Z",
     "iopub.status.idle": "2023-01-05T20:47:54.945812Z",
     "shell.execute_reply": "2023-01-05T20:47:54.944396Z",
     "shell.execute_reply.started": "2023-01-05T20:47:48.090114Z"
    },
    "tags": []
   },
   "outputs": [],
   "source": [
    "file_list = sorted(glob.glob(f'{f_mod_dir}/model_intermediates/*/*'))\n",
    "n_topics = [int(x.split('Topic')[-1].split('.pkl')[0].replace('Topic','')) for x in file_list]\n",
    "file_list_sorted = [file_list[x] for x in np.argsort(n_topics)]\n",
    "\n",
    "models_merged = [pickle.load(open(file, 'rb')) for file in file_list_sorted]"
   ]
  },
  {
   "cell_type": "code",
   "execution_count": 47,
   "id": "93ab6493",
   "metadata": {
    "execution": {
     "iopub.execute_input": "2023-01-05T20:47:54.947526Z",
     "iopub.status.busy": "2023-01-05T20:47:54.947130Z",
     "iopub.status.idle": "2023-01-05T20:47:57.057762Z",
     "shell.execute_reply": "2023-01-05T20:47:57.056705Z",
     "shell.execute_reply.started": "2023-01-05T20:47:54.947505Z"
    },
    "tags": []
   },
   "outputs": [],
   "source": [
    "save_path = f\"{f_mod_dir}/master_all_1.FIXEDCELLS__models_{n_iter}_iter.pkl\"\n",
    "with open(save_path, \"wb\") as f:\n",
    "    pickle.dump(models_merged, f, protocol=4)"
   ]
  },
  {
   "cell_type": "code",
   "execution_count": 48,
   "id": "c193e88e",
   "metadata": {
    "execution": {
     "iopub.execute_input": "2023-01-05T20:47:58.096070Z",
     "iopub.status.busy": "2023-01-05T20:47:58.095256Z",
     "iopub.status.idle": "2023-01-05T20:47:58.103381Z",
     "shell.execute_reply": "2023-01-05T20:47:58.101834Z",
     "shell.execute_reply.started": "2023-01-05T20:47:58.096011Z"
    },
    "papermill": {
     "duration": 3.276807,
     "end_time": "2022-08-20T22:37:26.812513",
     "exception": false,
     "start_time": "2022-08-20T22:37:23.535706",
     "status": "completed"
    },
    "tags": []
   },
   "outputs": [],
   "source": [
    "from pycisTopic.lda_models import evaluate_models\n",
    "import matplotlib.pyplot as plt"
   ]
  },
  {
   "cell_type": "code",
   "execution_count": 49,
   "id": "22af5293",
   "metadata": {
    "execution": {
     "iopub.execute_input": "2023-01-05T20:47:58.367981Z",
     "iopub.status.busy": "2023-01-05T20:47:58.367191Z",
     "iopub.status.idle": "2023-01-05T20:47:58.374958Z",
     "shell.execute_reply": "2023-01-05T20:47:58.373511Z",
     "shell.execute_reply.started": "2023-01-05T20:47:58.367924Z"
    },
    "papermill": {
     "duration": 0.01192,
     "end_time": "2022-08-20T22:37:26.836622",
     "exception": false,
     "start_time": "2022-08-20T22:37:26.824702",
     "status": "completed"
    },
    "tags": []
   },
   "outputs": [],
   "source": [
    "cto_path = 'cistopic_objects/master_celltypefair_1.FIXEDCELLS__cto.scrublet0-4.fmx.singlets.pkl'"
   ]
  },
  {
   "cell_type": "markdown",
   "id": "64d7d4c9",
   "metadata": {
    "papermill": {
     "duration": 0.017495,
     "end_time": "2022-08-20T22:37:26.913054",
     "exception": false,
     "start_time": "2022-08-20T22:37:26.895559",
     "status": "completed"
    },
    "tags": []
   },
   "source": [
    "We need to minimize Arun, minimize Cao & Juan, maximize Mimno & maximize log likelihood"
   ]
  },
  {
   "cell_type": "code",
   "execution_count": 50,
   "id": "2c5e87ae",
   "metadata": {
    "execution": {
     "iopub.execute_input": "2023-01-05T20:47:59.071725Z",
     "iopub.status.busy": "2023-01-05T20:47:59.070945Z",
     "iopub.status.idle": "2023-01-05T20:47:59.078592Z",
     "shell.execute_reply": "2023-01-05T20:47:59.077190Z",
     "shell.execute_reply.started": "2023-01-05T20:47:59.071667Z"
    },
    "tags": []
   },
   "outputs": [],
   "source": [
    "from pycisTopic.lda_models import evaluate_models\n",
    "import matplotlib.pyplot as plt"
   ]
  },
  {
   "cell_type": "code",
   "execution_count": 53,
   "id": "4419b1b0",
   "metadata": {
    "execution": {
     "iopub.execute_input": "2023-01-05T20:48:21.208997Z",
     "iopub.status.busy": "2023-01-05T20:48:21.208148Z",
     "iopub.status.idle": "2023-01-05T20:48:21.502581Z",
     "shell.execute_reply": "2023-01-05T20:48:21.501651Z",
     "shell.execute_reply.started": "2023-01-05T20:48:21.208939Z"
    },
    "papermill": {
     "duration": 0.01202,
     "end_time": "2022-08-20T22:37:26.987615",
     "exception": false,
     "start_time": "2022-08-20T22:37:26.975595",
     "status": "completed"
    },
    "tags": []
   },
   "outputs": [
    {
     "data": {
      "image/png": "[encoded data removed]",
      "text/plain": [
       "<Figure size 460.8x345.6 with 1 Axes>"
      ]
     },
     "metadata": {
      "needs_background": "light"
     },
     "output_type": "display_data"
    }
   ],
   "source": [
    "n_topics_chosen = 28\n",
    "model = evaluate_models(models_merged,\n",
    "     select_model=n_topics_chosen,\n",
    "     return_model=True, \n",
    "     metrics=['Arun_2010','Cao_Juan_2009', 'Minmo_2011', 'loglikelihood'],\n",
    "     plot=True, # disabled since we only test one model here\n",
    "     plot_metrics=False,\n",
    "     save=f\"plots_qc/master_all_1.FIXEDCELLS__model_evaluation.png\"\n",
    "     )"
   ]
  },
  {
   "cell_type": "code",
   "execution_count": 61,
   "id": "934a5829-eeed-4bac-8a08-44df8d4b66b5",
   "metadata": {
    "execution": {
     "iopub.execute_input": "2023-01-06T10:15:58.455814Z",
     "iopub.status.busy": "2023-01-06T10:15:58.455026Z",
     "iopub.status.idle": "2023-01-06T10:15:58.464922Z",
     "shell.execute_reply": "2023-01-06T10:15:58.463572Z",
     "shell.execute_reply.started": "2023-01-06T10:15:58.455744Z"
    }
   },
   "outputs": [
    {
     "data": {
      "text/plain": [
       "<pycisTopic.lda_models.CistopicLDAModel at 0x146811e84700>"
      ]
     },
     "execution_count": 61,
     "metadata": {},
     "output_type": "execute_result"
    }
   ],
   "source": [
    "model"
   ]
  },
  {
   "cell_type": "code",
   "execution_count": 60,
   "id": "e87ab5ad",
   "metadata": {
    "execution": {
     "iopub.execute_input": "2023-01-05T20:52:54.979237Z",
     "iopub.status.busy": "2023-01-05T20:52:54.978331Z",
     "iopub.status.idle": "2023-01-05T20:53:03.100322Z",
     "shell.execute_reply": "2023-01-05T20:53:03.098844Z",
     "shell.execute_reply.started": "2023-01-05T20:52:54.979175Z"
    },
    "papermill": {
     "duration": 0.01202,
     "end_time": "2022-08-20T22:37:26.987615",
     "exception": false,
     "start_time": "2022-08-20T22:37:26.975595",
     "status": "completed"
    },
    "tags": []
   },
   "outputs": [],
   "source": [
    "infile = 'cistopic_objects/master_celltypefair_1.FIXEDCELLS__cto.scrublet0-4.fmx.singlets.pkl'\n",
    "\n",
    "cto_path_new = \"cistopic_objects/master_celltypefair_1.FIXEDCELLS__cto.scrublet0-4.fmx.singlets.pkl\".replace('.pkl',f'.model_{str(n_topics_chosen)}topics.pkl')\n",
    "with open(infile, 'rb') as f:\n",
    "    cto = pickle.load(f)\n",
    "\n",
    "cto.add_LDA_model(model)\n",
    "\n",
    "with open(cto_path_new, \"wb\") as f:\n",
    "    pickle.dump(cto, f, protocol=4)"
   ]
  }
 ],
 "metadata": {
  "kernelspec": {
   "display_name": "20220815_pycistopic.sif",
   "language": "python",
   "name": "cistopic_20220815"
  },
  "language_info": {
   "codemirror_mode": {
    "name": "ipython",
    "version": 3
   },
   "file_extension": ".py",
   "mimetype": "text/x-python",
   "name": "python",
   "nbconvert_exporter": "python",
   "pygments_lexer": "ipython3",
   "version": "3.8.13"
  },
  "papermill": {
   "default_parameters": {},
   "duration": 12.353482,
   "end_time": "2022-08-20T22:37:28.628546",
   "environment_variables": {},
   "exception": null,
   "input_path": "6_run_models_script_staging.ipynb",
   "output_path": "6_run_models_script_staging.OUT.ipynb",
   "parameters": {},
   "start_time": "2022-08-20T22:37:16.275064",
   "version": "2.3.3"
  }
 },
 "nbformat": 4,
 "nbformat_minor": 5
}

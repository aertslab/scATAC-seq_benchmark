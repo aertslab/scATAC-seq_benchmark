{
 "cells": [
  {
   "cell_type": "code",
   "execution_count": 89,
   "id": "756d1711",
   "metadata": {
    "execution": {
     "iopub.execute_input": "2023-02-26T19:58:14.592167Z",
     "iopub.status.busy": "2023-02-26T19:58:14.591336Z",
     "iopub.status.idle": "2023-02-26T19:58:14.605407Z",
     "shell.execute_reply": "2023-02-26T19:58:14.603999Z",
     "shell.execute_reply.started": "2023-02-26T19:58:14.592106Z"
    },
    "tags": []
   },
   "outputs": [
    {
     "name": "stdout",
     "output_type": "stream",
     "text": [
      "The lab_black extension is already loaded. To reload it, use:\n",
      "  %reload_ext lab_black\n"
     ]
    }
   ],
   "source": [
    "import pandas as pd\n",
    "import glob\n",
    "import seaborn as sns\n",
    "import matplotlib.pyplot as plt\n",
    "\n",
    "%load_ext lab_black"
   ]
  },
  {
   "cell_type": "code",
   "execution_count": 94,
   "id": "9713697d",
   "metadata": {
    "execution": {
     "iopub.execute_input": "2023-02-26T19:58:17.302117Z",
     "iopub.status.busy": "2023-02-26T19:58:17.301303Z",
     "iopub.status.idle": "2023-02-26T19:58:17.334081Z",
     "shell.execute_reply": "2023-02-26T19:58:17.332991Z",
     "shell.execute_reply.started": "2023-02-26T19:58:17.302055Z"
    },
    "tags": []
   },
   "outputs": [],
   "source": [
    "tech_color_palette = {\n",
    "    \"10xv2\": \"#1b9e77\",\n",
    "    \"10xv1\": \"#d95f02\",\n",
    "    \"10xv11\": \"#7570b3\",\n",
    "    \"10xmultiome\": \"#e7298a\",\n",
    "    \"mtscatac\": \"#66a61e\",\n",
    "    \"ddseq\": \"#e6ab02\",\n",
    "    \"s3atac\": \"#a6761d\",\n",
    "    \"hydrop\": \"#666666\",\n",
    "}\n",
    "\n",
    "tech_order = [\n",
    "    \"10xv1\",\n",
    "    \"10xv11\",\n",
    "    \"10xv2\",\n",
    "    \"10xmultiome\",\n",
    "    \"mtscatac\",\n",
    "    \"ddseq\",\n",
    "    \"s3atac\",\n",
    "    \"hydrop\",\n",
    "]\n",
    "\n",
    "tech_alias_dict = {\n",
    "    \"10xmultiome\": \"10x Multiome\",\n",
    "    \"10xv1\": \"10x v1\",\n",
    "    \"10xv11\": \"10x v1.1\",\n",
    "    \"10xv2\": \"10x v2\",\n",
    "    \"ddseq\": \"ddSEQ SureCell\",\n",
    "    \"hydrop\": \"HyDrop\",\n",
    "    \"mtscatac\": \"mtscATAC-seq\",\n",
    "    \"s3atac\": \"s3-ATAC\",\n",
    "}\n",
    "\n",
    "cell_type_alias_dict = {\n",
    "    \"B_cell\": \"B cells\",\n",
    "    \"CD14+_monocyte\": \"CD14+ monocytes\",\n",
    "    \"CD4+_T_cell\": \"CD4+ T cells\",\n",
    "    \"Cytotoxic_T_cell\": \"CD8+ T cells\",\n",
    "    \"Dendritic_cell\": \"Dendritic cells\",\n",
    "    \"Natural_killer_cell\": \"NK cells\",\n",
    "    \"CD16+_monocyte\": \"CD16+ monocytes\",\n",
    "}\n",
    "\n",
    "cell_type_order = [\n",
    "    \"B_cell\",\n",
    "    \"CD4+_T_cell\",\n",
    "    \"Cytotoxic_T_cell\",\n",
    "    \"Natural_killer_cell\",\n",
    "    \"CD14+_monocyte\",\n",
    "    \"CD16+_monocyte\",\n",
    "    \"Dendritic_cell\",\n",
    "]\n",
    "\n",
    "sex_dict = {\"Male\": \"Female\", \"Female\": \"Male\"}"
   ]
  },
  {
   "cell_type": "markdown",
   "id": "dd14e595-3917-4da2-95ba-6dbba270aca9",
   "metadata": {},
   "source": [
    "# male female DARs"
   ]
  },
  {
   "cell_type": "code",
   "execution_count": 97,
   "id": "a4e8e6c9-f156-4fca-b246-2b8088e25390",
   "metadata": {
    "execution": {
     "iopub.execute_input": "2023-02-26T19:58:24.286371Z",
     "iopub.status.busy": "2023-02-26T19:58:24.285549Z",
     "iopub.status.idle": "2023-02-26T19:58:24.305602Z",
     "shell.execute_reply": "2023-02-26T19:58:24.304214Z",
     "shell.execute_reply.started": "2023-02-26T19:58:24.286310Z"
    },
    "tags": []
   },
   "outputs": [
    {
     "data": {
      "text/plain": [
       "{'master_celltypefair_1': {'sampleB_B_cell_VS_sampleA_B_cell': 'harmony_consensus_cell_type__mega_male_female_DARs/master_celltypefair_1.FIXEDCELLS/master_celltypefair_1.FIXEDCELLS__sampleB_B_cell_VS_sampleA_B_cell__1-2xfoldchange_DARs.bed',\n",
       "  'sampleB_CD14+_monocyte_VS_sampleA_CD14+_monocyte': 'harmony_consensus_cell_type__mega_male_female_DARs/master_celltypefair_1.FIXEDCELLS/master_celltypefair_1.FIXEDCELLS__sampleB_CD14+_monocyte_VS_sampleA_CD14+_monocyte__1-2xfoldchange_DARs.bed',\n",
       "  'sampleA_B_cell_VS_sampleB_B_cell': 'harmony_consensus_cell_type__mega_male_female_DARs/master_celltypefair_1.FIXEDCELLS/master_celltypefair_1.FIXEDCELLS__sampleA_B_cell_VS_sampleB_B_cell__1-2xfoldchange_DARs.bed',\n",
       "  'sampleA_Cytotoxic_T_cell_VS_sampleB_Cytotoxic_T_cell': 'harmony_consensus_cell_type__mega_male_female_DARs/master_celltypefair_1.FIXEDCELLS/master_celltypefair_1.FIXEDCELLS__sampleA_Cytotoxic_T_cell_VS_sampleB_Cytotoxic_T_cell__1-2xfoldchange_DARs.bed',\n",
       "  'sampleB_Cytotoxic_T_cell_VS_sampleA_Cytotoxic_T_cell': 'harmony_consensus_cell_type__mega_male_female_DARs/master_celltypefair_1.FIXEDCELLS/master_celltypefair_1.FIXEDCELLS__sampleB_Cytotoxic_T_cell_VS_sampleA_Cytotoxic_T_cell__1-2xfoldchange_DARs.bed',\n",
       "  'sampleB_CD16+_monocyte_VS_sampleA_CD16+_monocyte': 'harmony_consensus_cell_type__mega_male_female_DARs/master_celltypefair_1.FIXEDCELLS/master_celltypefair_1.FIXEDCELLS__sampleB_CD16+_monocyte_VS_sampleA_CD16+_monocyte__1-2xfoldchange_DARs.bed',\n",
       "  'sampleA_CD14+_monocyte_VS_sampleB_CD14+_monocyte': 'harmony_consensus_cell_type__mega_male_female_DARs/master_celltypefair_1.FIXEDCELLS/master_celltypefair_1.FIXEDCELLS__sampleA_CD14+_monocyte_VS_sampleB_CD14+_monocyte__1-2xfoldchange_DARs.bed',\n",
       "  'sampleB_CD4+_T_cell_VS_sampleA_CD4+_T_cell': 'harmony_consensus_cell_type__mega_male_female_DARs/master_celltypefair_1.FIXEDCELLS/master_celltypefair_1.FIXEDCELLS__sampleB_CD4+_T_cell_VS_sampleA_CD4+_T_cell__1-2xfoldchange_DARs.bed',\n",
       "  'sampleA_CD4+_T_cell_VS_sampleB_CD4+_T_cell': 'harmony_consensus_cell_type__mega_male_female_DARs/master_celltypefair_1.FIXEDCELLS/master_celltypefair_1.FIXEDCELLS__sampleA_CD4+_T_cell_VS_sampleB_CD4+_T_cell__1-2xfoldchange_DARs.bed'}}"
      ]
     },
     "execution_count": 97,
     "metadata": {},
     "output_type": "execute_result"
    }
   ],
   "source": [
    "dar_path_dict_dict = {\n",
    "    \"master_celltypefair_1\": {\n",
    "        x.split(\"/\")[-1].split(\"__\")[-2]: x\n",
    "        for x in glob.glob(\n",
    "            \"harmony_consensus_cell_type__mega_male_female_DARs/master_celltypefair_1.FIXEDCELLS/*_DARs.bed\"\n",
    "        )\n",
    "    }\n",
    "}\n",
    "dar_path_dict_dict"
   ]
  },
  {
   "cell_type": "code",
   "execution_count": 98,
   "id": "28d6cf6b-e8a6-47de-84d5-d1323d7740a9",
   "metadata": {
    "execution": {
     "iopub.execute_input": "2023-02-26T19:58:25.467293Z",
     "iopub.status.busy": "2023-02-26T19:58:25.466492Z",
     "iopub.status.idle": "2023-02-26T19:58:25.566272Z",
     "shell.execute_reply": "2023-02-26T19:58:25.565237Z",
     "shell.execute_reply.started": "2023-02-26T19:58:25.467231Z"
    },
    "tags": []
   },
   "outputs": [
    {
     "name": "stdout",
     "output_type": "stream",
     "text": [
      "master_celltypefair_1\n",
      "sampleB_B_cell_VS_sampleA_B_cell\n",
      "sampleB_CD14+_monocyte_VS_sampleA_CD14+_monocyte\n",
      "sampleA_B_cell_VS_sampleB_B_cell\n",
      "sampleA_Cytotoxic_T_cell_VS_sampleB_Cytotoxic_T_cell\n",
      "sampleB_Cytotoxic_T_cell_VS_sampleA_Cytotoxic_T_cell\n",
      "sampleB_CD16+_monocyte_VS_sampleA_CD16+_monocyte\n",
      "sampleA_CD14+_monocyte_VS_sampleB_CD14+_monocyte\n",
      "sampleB_CD4+_T_cell_VS_sampleA_CD4+_T_cell\n",
      "sampleA_CD4+_T_cell_VS_sampleB_CD4+_T_cell\n"
     ]
    }
   ],
   "source": [
    "df_merged = pd.DataFrame()\n",
    "for sample, dar_path_dict in dar_path_dict_dict.items():\n",
    "    print(sample)\n",
    "    for cell_type, dar_path in dar_path_dict.items():\n",
    "        print(cell_type)\n",
    "        df = pd.read_csv(dar_path, sep=\"\\t\", header=None)\n",
    "        df[\"sample\"] = sample\n",
    "        df_merged = pd.concat([df_merged, df.iloc[:1000]])"
   ]
  },
  {
   "cell_type": "code",
   "execution_count": 99,
   "id": "cb1d58fa-ac41-493c-8024-cdf296e0b56b",
   "metadata": {
    "execution": {
     "iopub.execute_input": "2023-02-26T19:58:26.970838Z",
     "iopub.status.busy": "2023-02-26T19:58:26.970020Z",
     "iopub.status.idle": "2023-02-26T19:58:26.983235Z",
     "shell.execute_reply": "2023-02-26T19:58:26.981722Z",
     "shell.execute_reply.started": "2023-02-26T19:58:26.970753Z"
    },
    "tags": []
   },
   "outputs": [],
   "source": [
    "df_merged.columns = [\n",
    "    \"chrom\",\n",
    "    \"start\",\n",
    "    \"end\",\n",
    "    \"cell_type\",\n",
    "    \"logfc\",\n",
    "    \"strand\",\n",
    "    \"p_val\",\n",
    "    \"sample\",\n",
    "]"
   ]
  },
  {
   "cell_type": "code",
   "execution_count": 100,
   "id": "8a01584a-c7ed-49eb-a1de-c399416bf2cc",
   "metadata": {
    "execution": {
     "iopub.execute_input": "2023-02-26T19:58:27.313839Z",
     "iopub.status.busy": "2023-02-26T19:58:27.312589Z",
     "iopub.status.idle": "2023-02-26T19:58:27.330791Z",
     "shell.execute_reply": "2023-02-26T19:58:27.329407Z",
     "shell.execute_reply.started": "2023-02-26T19:58:27.313775Z"
    },
    "tags": []
   },
   "outputs": [],
   "source": [
    "df_merged[\"tech\"] = [x.split(\"_\")[1] for x in df_merged[\"sample\"]]"
   ]
  },
  {
   "cell_type": "code",
   "execution_count": 101,
   "id": "03baf338-eb79-4b94-a809-02367686a895",
   "metadata": {
    "execution": {
     "iopub.execute_input": "2023-02-26T19:58:27.489748Z",
     "iopub.status.busy": "2023-02-26T19:58:27.488966Z",
     "iopub.status.idle": "2023-02-26T19:58:27.518353Z",
     "shell.execute_reply": "2023-02-26T19:58:27.517190Z",
     "shell.execute_reply.started": "2023-02-26T19:58:27.489688Z"
    },
    "tags": []
   },
   "outputs": [],
   "source": [
    "tech_color_palette = {\n",
    "    \"10xv2\": \"#1b9e77\",\n",
    "    \"10xv1\": \"#d95f02\",\n",
    "    \"10xv11\": \"#7570b3\",\n",
    "    \"10xmultiome\": \"#e7298a\",\n",
    "    \"mtscatac\": \"#66a61e\",\n",
    "    \"ddseq\": \"#e6ab02\",\n",
    "    \"s3atac\": \"#a6761d\",\n",
    "    \"hydrop\": \"#666666\",\n",
    "}\n",
    "\n",
    "tech_order = [\n",
    "    \"10xv1\",\n",
    "    \"10xv11\",\n",
    "    \"10xv2\",\n",
    "    \"10xmultiome\",\n",
    "    \"mtscatac\",\n",
    "    \"ddseq\",\n",
    "    \"s3atac\",\n",
    "    \"hydrop\",\n",
    "]\n",
    "\n",
    "tech_alias_dict = {\n",
    "    \"10xmultiome\": \"10x Multiome\",\n",
    "    \"10xv1\": \"10x v1\",\n",
    "    \"10xv11\": \"10x v1.1\",\n",
    "    \"10xv2\": \"10x v2\",\n",
    "    \"ddseq\": \"ddSEQ SureCell\",\n",
    "    \"hydrop\": \"HyDrop\",\n",
    "    \"mtscatac\": \"mtscATAC-seq\",\n",
    "    \"s3atac\": \"s3-ATAC\",\n",
    "}\n",
    "\n",
    "cell_type_alias_dict = {\n",
    "    \"B_cell\": \"B cells\",\n",
    "    \"CD14+_monocyte\": \"CD14+ monocytes\",\n",
    "    \"CD4+_T_cell\": \"CD4+ T cells\",\n",
    "    \"Cytotoxic_T_cell\": \"CD8+ T cells\",\n",
    "    \"Dendritic_cell\": \"Dendritic cells\",\n",
    "    \"Natural_killer_cell\": \"NK cells\",\n",
    "    \"CD16+_monocyte\": \"CD16+ monocytes\",\n",
    "}\n",
    "\n",
    "cell_type_order = [\n",
    "    \"B_cell\",\n",
    "    \"CD4+_T_cell\",\n",
    "    \"Cytotoxic_T_cell\",\n",
    "    \"Natural_killer_cell\",\n",
    "    \"CD14+_monocyte\",\n",
    "    \"CD16+_monocyte\",\n",
    "    \"Dendritic_cell\",\n",
    "]"
   ]
  },
  {
   "cell_type": "code",
   "execution_count": 102,
   "id": "790dfaec-d484-4bfa-ba2e-3b755cd2bcb9",
   "metadata": {
    "execution": {
     "iopub.execute_input": "2023-02-26T19:58:28.437265Z",
     "iopub.status.busy": "2023-02-26T19:58:28.436392Z",
     "iopub.status.idle": "2023-02-26T19:58:28.466727Z",
     "shell.execute_reply": "2023-02-26T19:58:28.465671Z",
     "shell.execute_reply.started": "2023-02-26T19:58:28.437202Z"
    },
    "tags": []
   },
   "outputs": [
    {
     "data": {
      "text/html": [
       "<div>\n",
       "<style scoped>\n",
       "    .dataframe tbody tr th:only-of-type {\n",
       "        vertical-align: middle;\n",
       "    }\n",
       "\n",
       "    .dataframe tbody tr th {\n",
       "        vertical-align: top;\n",
       "    }\n",
       "\n",
       "    .dataframe thead th {\n",
       "        text-align: right;\n",
       "    }\n",
       "</style>\n",
       "<table border=\"1\" class=\"dataframe\">\n",
       "  <thead>\n",
       "    <tr style=\"text-align: right;\">\n",
       "      <th></th>\n",
       "      <th>chrom</th>\n",
       "      <th>start</th>\n",
       "      <th>end</th>\n",
       "      <th>cell_type</th>\n",
       "      <th>logfc</th>\n",
       "      <th>strand</th>\n",
       "      <th>p_val</th>\n",
       "      <th>sample</th>\n",
       "      <th>tech</th>\n",
       "    </tr>\n",
       "  </thead>\n",
       "  <tbody>\n",
       "    <tr>\n",
       "      <th>0</th>\n",
       "      <td>chr13</td>\n",
       "      <td>94558629</td>\n",
       "      <td>94559129</td>\n",
       "      <td>sampleB_B_cell_VS_sampleA_B_cell</td>\n",
       "      <td>0.934628</td>\n",
       "      <td>.</td>\n",
       "      <td>3.292958e-04</td>\n",
       "      <td>master_celltypefair_1</td>\n",
       "      <td>celltypefair</td>\n",
       "    </tr>\n",
       "    <tr>\n",
       "      <th>1</th>\n",
       "      <td>chr11</td>\n",
       "      <td>72333370</td>\n",
       "      <td>72333870</td>\n",
       "      <td>sampleB_B_cell_VS_sampleA_B_cell</td>\n",
       "      <td>0.806161</td>\n",
       "      <td>.</td>\n",
       "      <td>4.479245e-02</td>\n",
       "      <td>master_celltypefair_1</td>\n",
       "      <td>celltypefair</td>\n",
       "    </tr>\n",
       "    <tr>\n",
       "      <th>2</th>\n",
       "      <td>chr12</td>\n",
       "      <td>94013842</td>\n",
       "      <td>94014342</td>\n",
       "      <td>sampleB_B_cell_VS_sampleA_B_cell</td>\n",
       "      <td>0.806067</td>\n",
       "      <td>.</td>\n",
       "      <td>8.550009e-05</td>\n",
       "      <td>master_celltypefair_1</td>\n",
       "      <td>celltypefair</td>\n",
       "    </tr>\n",
       "    <tr>\n",
       "      <th>3</th>\n",
       "      <td>chr11</td>\n",
       "      <td>14148649</td>\n",
       "      <td>14149149</td>\n",
       "      <td>sampleB_B_cell_VS_sampleA_B_cell</td>\n",
       "      <td>0.742243</td>\n",
       "      <td>.</td>\n",
       "      <td>2.295691e-14</td>\n",
       "      <td>master_celltypefair_1</td>\n",
       "      <td>celltypefair</td>\n",
       "    </tr>\n",
       "    <tr>\n",
       "      <th>4</th>\n",
       "      <td>chr7</td>\n",
       "      <td>134562101</td>\n",
       "      <td>134562601</td>\n",
       "      <td>sampleB_B_cell_VS_sampleA_B_cell</td>\n",
       "      <td>0.697624</td>\n",
       "      <td>.</td>\n",
       "      <td>9.845501e-13</td>\n",
       "      <td>master_celltypefair_1</td>\n",
       "      <td>celltypefair</td>\n",
       "    </tr>\n",
       "    <tr>\n",
       "      <th>...</th>\n",
       "      <td>...</td>\n",
       "      <td>...</td>\n",
       "      <td>...</td>\n",
       "      <td>...</td>\n",
       "      <td>...</td>\n",
       "      <td>...</td>\n",
       "      <td>...</td>\n",
       "      <td>...</td>\n",
       "      <td>...</td>\n",
       "    </tr>\n",
       "    <tr>\n",
       "      <th>995</th>\n",
       "      <td>chr12</td>\n",
       "      <td>109864251</td>\n",
       "      <td>109864751</td>\n",
       "      <td>sampleA_CD4+_T_cell_VS_sampleB_CD4+_T_cell</td>\n",
       "      <td>0.295350</td>\n",
       "      <td>.</td>\n",
       "      <td>1.150981e-03</td>\n",
       "      <td>master_celltypefair_1</td>\n",
       "      <td>celltypefair</td>\n",
       "    </tr>\n",
       "    <tr>\n",
       "      <th>996</th>\n",
       "      <td>chr2</td>\n",
       "      <td>121700600</td>\n",
       "      <td>121701100</td>\n",
       "      <td>sampleA_CD4+_T_cell_VS_sampleB_CD4+_T_cell</td>\n",
       "      <td>0.295238</td>\n",
       "      <td>.</td>\n",
       "      <td>1.978870e-09</td>\n",
       "      <td>master_celltypefair_1</td>\n",
       "      <td>celltypefair</td>\n",
       "    </tr>\n",
       "    <tr>\n",
       "      <th>997</th>\n",
       "      <td>chr20</td>\n",
       "      <td>51416895</td>\n",
       "      <td>51417395</td>\n",
       "      <td>sampleA_CD4+_T_cell_VS_sampleB_CD4+_T_cell</td>\n",
       "      <td>0.295155</td>\n",
       "      <td>.</td>\n",
       "      <td>1.354332e-09</td>\n",
       "      <td>master_celltypefair_1</td>\n",
       "      <td>celltypefair</td>\n",
       "    </tr>\n",
       "    <tr>\n",
       "      <th>998</th>\n",
       "      <td>chr10</td>\n",
       "      <td>43225403</td>\n",
       "      <td>43225903</td>\n",
       "      <td>sampleA_CD4+_T_cell_VS_sampleB_CD4+_T_cell</td>\n",
       "      <td>0.295128</td>\n",
       "      <td>.</td>\n",
       "      <td>1.773783e-05</td>\n",
       "      <td>master_celltypefair_1</td>\n",
       "      <td>celltypefair</td>\n",
       "    </tr>\n",
       "    <tr>\n",
       "      <th>999</th>\n",
       "      <td>chr15</td>\n",
       "      <td>67186111</td>\n",
       "      <td>67186611</td>\n",
       "      <td>sampleA_CD4+_T_cell_VS_sampleB_CD4+_T_cell</td>\n",
       "      <td>0.294986</td>\n",
       "      <td>.</td>\n",
       "      <td>1.999131e-02</td>\n",
       "      <td>master_celltypefair_1</td>\n",
       "      <td>celltypefair</td>\n",
       "    </tr>\n",
       "  </tbody>\n",
       "</table>\n",
       "<p>5499 rows × 9 columns</p>\n",
       "</div>"
      ],
      "text/plain": [
       "     chrom      start        end                                   cell_type  \\\n",
       "0    chr13   94558629   94559129            sampleB_B_cell_VS_sampleA_B_cell   \n",
       "1    chr11   72333370   72333870            sampleB_B_cell_VS_sampleA_B_cell   \n",
       "2    chr12   94013842   94014342            sampleB_B_cell_VS_sampleA_B_cell   \n",
       "3    chr11   14148649   14149149            sampleB_B_cell_VS_sampleA_B_cell   \n",
       "4     chr7  134562101  134562601            sampleB_B_cell_VS_sampleA_B_cell   \n",
       "..     ...        ...        ...                                         ...   \n",
       "995  chr12  109864251  109864751  sampleA_CD4+_T_cell_VS_sampleB_CD4+_T_cell   \n",
       "996   chr2  121700600  121701100  sampleA_CD4+_T_cell_VS_sampleB_CD4+_T_cell   \n",
       "997  chr20   51416895   51417395  sampleA_CD4+_T_cell_VS_sampleB_CD4+_T_cell   \n",
       "998  chr10   43225403   43225903  sampleA_CD4+_T_cell_VS_sampleB_CD4+_T_cell   \n",
       "999  chr15   67186111   67186611  sampleA_CD4+_T_cell_VS_sampleB_CD4+_T_cell   \n",
       "\n",
       "        logfc strand         p_val                 sample          tech  \n",
       "0    0.934628      .  3.292958e-04  master_celltypefair_1  celltypefair  \n",
       "1    0.806161      .  4.479245e-02  master_celltypefair_1  celltypefair  \n",
       "2    0.806067      .  8.550009e-05  master_celltypefair_1  celltypefair  \n",
       "3    0.742243      .  2.295691e-14  master_celltypefair_1  celltypefair  \n",
       "4    0.697624      .  9.845501e-13  master_celltypefair_1  celltypefair  \n",
       "..        ...    ...           ...                    ...           ...  \n",
       "995  0.295350      .  1.150981e-03  master_celltypefair_1  celltypefair  \n",
       "996  0.295238      .  1.978870e-09  master_celltypefair_1  celltypefair  \n",
       "997  0.295155      .  1.354332e-09  master_celltypefair_1  celltypefair  \n",
       "998  0.295128      .  1.773783e-05  master_celltypefair_1  celltypefair  \n",
       "999  0.294986      .  1.999131e-02  master_celltypefair_1  celltypefair  \n",
       "\n",
       "[5499 rows x 9 columns]"
      ]
     },
     "execution_count": 102,
     "metadata": {},
     "output_type": "execute_result"
    }
   ],
   "source": [
    "df_merged"
   ]
  },
  {
   "cell_type": "code",
   "execution_count": 103,
   "id": "d7720a17-7fc7-4782-8215-f32048d2f161",
   "metadata": {
    "execution": {
     "iopub.execute_input": "2023-02-26T19:58:29.634990Z",
     "iopub.status.busy": "2023-02-26T19:58:29.634184Z",
     "iopub.status.idle": "2023-02-26T19:58:29.645889Z",
     "shell.execute_reply": "2023-02-26T19:58:29.644415Z",
     "shell.execute_reply.started": "2023-02-26T19:58:29.634917Z"
    },
    "tags": []
   },
   "outputs": [
    {
     "data": {
      "text/plain": [
       "{'B_cell': 'B cells',\n",
       " 'CD14+_monocyte': 'CD14+ monocytes',\n",
       " 'CD4+_T_cell': 'CD4+ T cells',\n",
       " 'Cytotoxic_T_cell': 'CD8+ T cells',\n",
       " 'Dendritic_cell': 'Dendritic cells',\n",
       " 'Natural_killer_cell': 'NK cells',\n",
       " 'CD16+_monocyte': 'CD16+ monocytes'}"
      ]
     },
     "execution_count": 103,
     "metadata": {},
     "output_type": "execute_result"
    }
   ],
   "source": [
    "cell_type_alias_dict"
   ]
  },
  {
   "cell_type": "code",
   "execution_count": 104,
   "id": "9e8ee590-8ddc-4407-8951-ef4697d996b7",
   "metadata": {
    "execution": {
     "iopub.execute_input": "2023-02-26T19:58:30.767173Z",
     "iopub.status.busy": "2023-02-26T19:58:30.766375Z",
     "iopub.status.idle": "2023-02-26T19:58:30.784996Z",
     "shell.execute_reply": "2023-02-26T19:58:30.783689Z",
     "shell.execute_reply.started": "2023-02-26T19:58:30.767113Z"
    },
    "tags": []
   },
   "outputs": [],
   "source": [
    "cell_type_alias_dict = {\n",
    "    \"B_cell\": \"B cells\",\n",
    "    \"CD14+_monocyte\": \"CD14+ monocytes\",\n",
    "    \"CD4+_T_cell\": \"CD4+ T cells\",\n",
    "    \"Cytotoxic_T_cell\": \"CD8+ T cells\",\n",
    "    \"Dendritic_cell\": \"Dendritic cells\",\n",
    "    \"Natural_killer_cell\": \"NK cells\",\n",
    "    \"CD16+_monocyte\": \"CD16+ monocytes\",\n",
    "}\n",
    "\n",
    "cell_type_order = [\n",
    "    \"B_cell\",\n",
    "    \"CD4+_T_cell\",\n",
    "    \"Cytotoxic_T_cell\",\n",
    "    \"Natural_killer_cell\",\n",
    "    \"CD14+_monocyte\",\n",
    "    \"CD16+_monocyte\",\n",
    "    \"Dendritic_cell\",\n",
    "]"
   ]
  },
  {
   "cell_type": "code",
   "execution_count": 105,
   "id": "de03a84b-05b8-40c1-b820-3d0096e4b59c",
   "metadata": {
    "execution": {
     "iopub.execute_input": "2023-02-26T19:58:30.939558Z",
     "iopub.status.busy": "2023-02-26T19:58:30.938764Z",
     "iopub.status.idle": "2023-02-26T19:58:30.963627Z",
     "shell.execute_reply": "2023-02-26T19:58:30.962440Z",
     "shell.execute_reply.started": "2023-02-26T19:58:30.939499Z"
    },
    "tags": []
   },
   "outputs": [],
   "source": [
    "df_merged[\"cell_type_specific\"] = [\n",
    "    cell_type_alias_dict[\n",
    "        x.replace(\"sampleA_\", \"\").replace(\"sampleB_\", \"\").split(\"_VS_\")[0]\n",
    "    ]\n",
    "    for x in df_merged[\"cell_type\"]\n",
    "]"
   ]
  },
  {
   "cell_type": "code",
   "execution_count": 106,
   "id": "e142ff1e-57a6-4128-aeae-92e9fef45626",
   "metadata": {
    "execution": {
     "iopub.execute_input": "2023-02-26T19:58:31.105812Z",
     "iopub.status.busy": "2023-02-26T19:58:31.105018Z",
     "iopub.status.idle": "2023-02-26T19:58:31.116686Z",
     "shell.execute_reply": "2023-02-26T19:58:31.115236Z",
     "shell.execute_reply.started": "2023-02-26T19:58:31.105742Z"
    },
    "tags": []
   },
   "outputs": [
    {
     "data": {
      "text/plain": [
       "{'B_cell': 'B cells',\n",
       " 'CD14+_monocyte': 'CD14+ monocytes',\n",
       " 'CD4+_T_cell': 'CD4+ T cells',\n",
       " 'Cytotoxic_T_cell': 'CD8+ T cells',\n",
       " 'Dendritic_cell': 'Dendritic cells',\n",
       " 'Natural_killer_cell': 'NK cells',\n",
       " 'CD16+_monocyte': 'CD16+ monocytes'}"
      ]
     },
     "execution_count": 106,
     "metadata": {},
     "output_type": "execute_result"
    }
   ],
   "source": [
    "cell_type_alias_dict"
   ]
  },
  {
   "cell_type": "code",
   "execution_count": 107,
   "id": "321ef498-4929-447f-8652-be26038e7b36",
   "metadata": {
    "execution": {
     "iopub.execute_input": "2023-02-26T19:58:32.187015Z",
     "iopub.status.busy": "2023-02-26T19:58:32.186217Z",
     "iopub.status.idle": "2023-02-26T19:58:32.204109Z",
     "shell.execute_reply": "2023-02-26T19:58:32.202754Z",
     "shell.execute_reply.started": "2023-02-26T19:58:32.186955Z"
    },
    "tags": []
   },
   "outputs": [],
   "source": [
    "df_merged = df_merged.sort_values([\"cell_type_specific\", \"cell_type\"])"
   ]
  },
  {
   "cell_type": "code",
   "execution_count": 108,
   "id": "87a1baee-97de-4f30-a8ca-088bf949157a",
   "metadata": {
    "execution": {
     "iopub.execute_input": "2023-02-26T19:58:32.368402Z",
     "iopub.status.busy": "2023-02-26T19:58:32.367606Z",
     "iopub.status.idle": "2023-02-26T19:58:32.393690Z",
     "shell.execute_reply": "2023-02-26T19:58:32.392400Z",
     "shell.execute_reply.started": "2023-02-26T19:58:32.368341Z"
    },
    "tags": []
   },
   "outputs": [],
   "source": [
    "df_merged[\"sex\"] = [\n",
    "    x.split(\"_\")[0]\n",
    "    .replace(\"_\", \" \")\n",
    "    .replace(\"sampleA\", \"Male\")\n",
    "    .replace(\"sampleB\", \"Female\")\n",
    "    for x in df_merged[\"cell_type\"]\n",
    "]"
   ]
  },
  {
   "cell_type": "code",
   "execution_count": 109,
   "id": "073e944d-052b-4f55-af82-6c8fe9208c79",
   "metadata": {
    "execution": {
     "iopub.execute_input": "2023-02-26T19:58:33.198533Z",
     "iopub.status.busy": "2023-02-26T19:58:33.197739Z",
     "iopub.status.idle": "2023-02-26T19:58:33.206132Z",
     "shell.execute_reply": "2023-02-26T19:58:33.204621Z",
     "shell.execute_reply.started": "2023-02-26T19:58:33.198471Z"
    },
    "tags": []
   },
   "outputs": [],
   "source": [
    "# cell_type_alias_dict = {\n",
    "#     x: x.split(\"_VS_\")[0]\n",
    "#     .replace(\"_\", \" \")\n",
    "#     .replace(\"sampleA\", \"Male\")\n",
    "#     .replace(\"sampleB\", \"Female\")\n",
    "#     + \"s\"\n",
    "#     for x in labels\n",
    "# }"
   ]
  },
  {
   "cell_type": "code",
   "execution_count": 110,
   "id": "b622bbeb-71fd-47a7-9f15-4245cca97e67",
   "metadata": {
    "execution": {
     "iopub.execute_input": "2023-02-26T19:58:33.515374Z",
     "iopub.status.busy": "2023-02-26T19:58:33.514560Z",
     "iopub.status.idle": "2023-02-26T19:58:33.525049Z",
     "shell.execute_reply": "2023-02-26T19:58:33.523501Z",
     "shell.execute_reply.started": "2023-02-26T19:58:33.515314Z"
    },
    "tags": []
   },
   "outputs": [],
   "source": [
    "# cell_type_alias_dict = {\n",
    "#     \"sampleA_B_cell_VS_sampleB_B_cell\": \"Male B cells\",\n",
    "#     \"sampleA_CD14+_monocyte_VS_sampleB_CD14+_monocyte\": \"Male CD14+ monocytes\",\n",
    "#     \"sampleA_CD16+_monocyte_VS_sampleB_CD16+_monocyte\": \"Male CD16+ monocytes\",\n",
    "#     \"sampleA_CD4+_T_cell_VS_sampleB_CD4+_T_cell\": \"Male CD4+ T cells\",\n",
    "#     \"sampleA_Cytotoxic_T_cell_VS_sampleB_Cytotoxic_T_cell\": \"Male Cytotoxic T cells\",\n",
    "#     \"sampleA_Natural_killer_cell_VS_sampleB_Natural_killer_cell\": \"Male Natural killer cells\",\n",
    "#     \"sampleB_B_cell_VS_sampleA_B_cell\": \"Female B cells\",\n",
    "#     \"sampleB_CD14+_monocyte_VS_sampleA_CD14+_monocyte\": \"Female CD14+ monocytes\",\n",
    "#     \"sampleB_CD16+_monocyte_VS_sampleA_CD16+_monocyte\": \"Female CD16+ monocytes\",\n",
    "#     \"sampleB_CD4+_T_cell_VS_sampleA_CD4+_T_cell\": \"Female CD4+ T cells\",\n",
    "#     \"sampleB_Cytotoxic_T_cell_VS_sampleA_Cytotoxic_T_cell\": \"Female Cytotoxic T cells\",\n",
    "#     \"sampleB_Natural_killer_cell_VS_sampleA_Natural_killer_cell\": \"Female Natural killer cells\",\n",
    "# }"
   ]
  },
  {
   "cell_type": "code",
   "execution_count": 111,
   "id": "e91a2554-6121-43c4-a838-a3ae06e1ea5c",
   "metadata": {
    "execution": {
     "iopub.execute_input": "2023-02-26T19:58:37.909710Z",
     "iopub.status.busy": "2023-02-26T19:58:37.908926Z",
     "iopub.status.idle": "2023-02-26T19:58:38.884007Z",
     "shell.execute_reply": "2023-02-26T19:58:38.882956Z",
     "shell.execute_reply.started": "2023-02-26T19:58:37.909650Z"
    },
    "tags": []
   },
   "outputs": [
    {
     "data": {
      "image/png": "[encoded data removed]",
      "text/plain": [
       "<Figure size 400x400 with 1 Axes>"
      ]
     },
     "metadata": {},
     "output_type": "display_data"
    }
   ],
   "source": [
    "fig, ax = plt.subplots(figsize=(4, 4))\n",
    "sns.boxplot(\n",
    "    df_merged,\n",
    "    x=\"cell_type_specific\",\n",
    "    y=\"logfc\",\n",
    "    hue=\"sex\",\n",
    "    # order=cell_type_order,\n",
    "    order=[cell_type_alias_dict[x] for x in cell_type_order],\n",
    "    # palette=tech_color_palette,\n",
    "    ax=ax,\n",
    "    fliersize=0,\n",
    "    showfliers=False,\n",
    ")\n",
    "plt.xticks(rotation=45, ha=\"right\")\n",
    "\n",
    "plt.ylabel(\"Log2(fold enrichment)\\nof top 1000 DARs\")\n",
    "plt.xlabel(\"\")\n",
    "# labels = [item.get_text() for item in ax.get_xticklabels()]\n",
    "# labels_alias = [cell_type_alias_dict[x] for x in labels]\n",
    "# x.set_xticklabels(labels_alias)\n",
    "\n",
    "\n",
    "# handles, labels = ax.get_legend_handles_labels()\n",
    "# l = plt.legend(\n",
    "#     handles[0 : len(tech_order)],\n",
    "#     [tech_alias_dict[x] for x in labels[0 : len(tech_order)]],\n",
    "#     bbox_to_anchor=(1.05, 1),\n",
    "#     loc=2,\n",
    "#     borderaxespad=0.0,\n",
    "# )\n",
    "plt.tight_layout()\n",
    "plt.savefig(\n",
    "    \"plts_final/FIXEDCELLS__male_female_top1k_DARs_logfc.png\",\n",
    "    dpi=600,\n",
    "    facecolor=\"white\",\n",
    "    bbox_inches=\"tight\",\n",
    ")\n",
    "plt.savefig(\n",
    "    \"plts_final/FIXEDCELLS__male_female_top1k_DARs_logfc.svg\",\n",
    "    dpi=600,\n",
    "    facecolor=\"white\",\n",
    "    bbox_inches=\"tight\",\n",
    ")"
   ]
  },
  {
   "cell_type": "code",
   "execution_count": 118,
   "id": "f338d1fe-6c99-44d5-ae9e-90a75551061a",
   "metadata": {
    "execution": {
     "iopub.execute_input": "2023-02-26T20:01:02.347437Z",
     "iopub.status.busy": "2023-02-26T20:01:02.346631Z",
     "iopub.status.idle": "2023-02-26T20:01:02.385462Z",
     "shell.execute_reply": "2023-02-26T20:01:02.384466Z",
     "shell.execute_reply.started": "2023-02-26T20:01:02.347376Z"
    },
    "tags": []
   },
   "outputs": [
    {
     "data": {
      "text/html": [
       "<div>\n",
       "<style scoped>\n",
       "    .dataframe tbody tr th:only-of-type {\n",
       "        vertical-align: middle;\n",
       "    }\n",
       "\n",
       "    .dataframe tbody tr th {\n",
       "        vertical-align: top;\n",
       "    }\n",
       "\n",
       "    .dataframe thead th {\n",
       "        text-align: right;\n",
       "    }\n",
       "</style>\n",
       "<table border=\"1\" class=\"dataframe\">\n",
       "  <thead>\n",
       "    <tr style=\"text-align: right;\">\n",
       "      <th></th>\n",
       "      <th>chrom</th>\n",
       "      <th>start</th>\n",
       "      <th>end</th>\n",
       "      <th>cell_type</th>\n",
       "      <th>logfc</th>\n",
       "      <th>strand</th>\n",
       "      <th>p_val</th>\n",
       "      <th>sample</th>\n",
       "      <th>tech</th>\n",
       "      <th>cell_type_specific</th>\n",
       "      <th>sex</th>\n",
       "    </tr>\n",
       "  </thead>\n",
       "  <tbody>\n",
       "    <tr>\n",
       "      <th>0</th>\n",
       "      <td>chr6</td>\n",
       "      <td>14841751</td>\n",
       "      <td>14842251</td>\n",
       "      <td>sampleB_Cytotoxic_T_cell_VS_sampleA_Cytotoxic_...</td>\n",
       "      <td>0.947012</td>\n",
       "      <td>.</td>\n",
       "      <td>6.489569e-66</td>\n",
       "      <td>master_celltypefair_1</td>\n",
       "      <td>celltypefair</td>\n",
       "      <td>CD8+ T cells</td>\n",
       "      <td>Female</td>\n",
       "    </tr>\n",
       "    <tr>\n",
       "      <th>1</th>\n",
       "      <td>chr6</td>\n",
       "      <td>81968976</td>\n",
       "      <td>81969476</td>\n",
       "      <td>sampleB_Cytotoxic_T_cell_VS_sampleA_Cytotoxic_...</td>\n",
       "      <td>0.942487</td>\n",
       "      <td>.</td>\n",
       "      <td>5.090951e-16</td>\n",
       "      <td>master_celltypefair_1</td>\n",
       "      <td>celltypefair</td>\n",
       "      <td>CD8+ T cells</td>\n",
       "      <td>Female</td>\n",
       "    </tr>\n",
       "    <tr>\n",
       "      <th>2</th>\n",
       "      <td>chr7</td>\n",
       "      <td>151939973</td>\n",
       "      <td>151940473</td>\n",
       "      <td>sampleB_Cytotoxic_T_cell_VS_sampleA_Cytotoxic_...</td>\n",
       "      <td>0.940619</td>\n",
       "      <td>.</td>\n",
       "      <td>2.108520e-16</td>\n",
       "      <td>master_celltypefair_1</td>\n",
       "      <td>celltypefair</td>\n",
       "      <td>CD8+ T cells</td>\n",
       "      <td>Female</td>\n",
       "    </tr>\n",
       "    <tr>\n",
       "      <th>3</th>\n",
       "      <td>chr12</td>\n",
       "      <td>2333778</td>\n",
       "      <td>2334278</td>\n",
       "      <td>sampleB_Cytotoxic_T_cell_VS_sampleA_Cytotoxic_...</td>\n",
       "      <td>0.939629</td>\n",
       "      <td>.</td>\n",
       "      <td>5.055002e-16</td>\n",
       "      <td>master_celltypefair_1</td>\n",
       "      <td>celltypefair</td>\n",
       "      <td>CD8+ T cells</td>\n",
       "      <td>Female</td>\n",
       "    </tr>\n",
       "    <tr>\n",
       "      <th>4</th>\n",
       "      <td>chr13</td>\n",
       "      <td>73335074</td>\n",
       "      <td>73335574</td>\n",
       "      <td>sampleB_Cytotoxic_T_cell_VS_sampleA_Cytotoxic_...</td>\n",
       "      <td>0.939127</td>\n",
       "      <td>.</td>\n",
       "      <td>9.121077e-16</td>\n",
       "      <td>master_celltypefair_1</td>\n",
       "      <td>celltypefair</td>\n",
       "      <td>CD8+ T cells</td>\n",
       "      <td>Female</td>\n",
       "    </tr>\n",
       "    <tr>\n",
       "      <th>...</th>\n",
       "      <td>...</td>\n",
       "      <td>...</td>\n",
       "      <td>...</td>\n",
       "      <td>...</td>\n",
       "      <td>...</td>\n",
       "      <td>...</td>\n",
       "      <td>...</td>\n",
       "      <td>...</td>\n",
       "      <td>...</td>\n",
       "      <td>...</td>\n",
       "      <td>...</td>\n",
       "    </tr>\n",
       "    <tr>\n",
       "      <th>995</th>\n",
       "      <td>chr20</td>\n",
       "      <td>1569319</td>\n",
       "      <td>1569819</td>\n",
       "      <td>sampleB_Cytotoxic_T_cell_VS_sampleA_Cytotoxic_...</td>\n",
       "      <td>0.876061</td>\n",
       "      <td>.</td>\n",
       "      <td>1.071635e-18</td>\n",
       "      <td>master_celltypefair_1</td>\n",
       "      <td>celltypefair</td>\n",
       "      <td>CD8+ T cells</td>\n",
       "      <td>Female</td>\n",
       "    </tr>\n",
       "    <tr>\n",
       "      <th>996</th>\n",
       "      <td>chr10</td>\n",
       "      <td>124142887</td>\n",
       "      <td>124143387</td>\n",
       "      <td>sampleB_Cytotoxic_T_cell_VS_sampleA_Cytotoxic_...</td>\n",
       "      <td>0.876023</td>\n",
       "      <td>.</td>\n",
       "      <td>1.684953e-22</td>\n",
       "      <td>master_celltypefair_1</td>\n",
       "      <td>celltypefair</td>\n",
       "      <td>CD8+ T cells</td>\n",
       "      <td>Female</td>\n",
       "    </tr>\n",
       "    <tr>\n",
       "      <th>997</th>\n",
       "      <td>chrX</td>\n",
       "      <td>39492561</td>\n",
       "      <td>39493061</td>\n",
       "      <td>sampleB_Cytotoxic_T_cell_VS_sampleA_Cytotoxic_...</td>\n",
       "      <td>0.876012</td>\n",
       "      <td>.</td>\n",
       "      <td>2.905259e-20</td>\n",
       "      <td>master_celltypefair_1</td>\n",
       "      <td>celltypefair</td>\n",
       "      <td>CD8+ T cells</td>\n",
       "      <td>Female</td>\n",
       "    </tr>\n",
       "    <tr>\n",
       "      <th>998</th>\n",
       "      <td>chr2</td>\n",
       "      <td>101973016</td>\n",
       "      <td>101973516</td>\n",
       "      <td>sampleB_Cytotoxic_T_cell_VS_sampleA_Cytotoxic_...</td>\n",
       "      <td>0.875905</td>\n",
       "      <td>.</td>\n",
       "      <td>5.970802e-16</td>\n",
       "      <td>master_celltypefair_1</td>\n",
       "      <td>celltypefair</td>\n",
       "      <td>CD8+ T cells</td>\n",
       "      <td>Female</td>\n",
       "    </tr>\n",
       "    <tr>\n",
       "      <th>999</th>\n",
       "      <td>chr11</td>\n",
       "      <td>62315375</td>\n",
       "      <td>62315875</td>\n",
       "      <td>sampleB_Cytotoxic_T_cell_VS_sampleA_Cytotoxic_...</td>\n",
       "      <td>0.875848</td>\n",
       "      <td>.</td>\n",
       "      <td>2.110955e-16</td>\n",
       "      <td>master_celltypefair_1</td>\n",
       "      <td>celltypefair</td>\n",
       "      <td>CD8+ T cells</td>\n",
       "      <td>Female</td>\n",
       "    </tr>\n",
       "  </tbody>\n",
       "</table>\n",
       "<p>1000 rows × 11 columns</p>\n",
       "</div>"
      ],
      "text/plain": [
       "     chrom      start        end  \\\n",
       "0     chr6   14841751   14842251   \n",
       "1     chr6   81968976   81969476   \n",
       "2     chr7  151939973  151940473   \n",
       "3    chr12    2333778    2334278   \n",
       "4    chr13   73335074   73335574   \n",
       "..     ...        ...        ...   \n",
       "995  chr20    1569319    1569819   \n",
       "996  chr10  124142887  124143387   \n",
       "997   chrX   39492561   39493061   \n",
       "998   chr2  101973016  101973516   \n",
       "999  chr11   62315375   62315875   \n",
       "\n",
       "                                             cell_type     logfc strand  \\\n",
       "0    sampleB_Cytotoxic_T_cell_VS_sampleA_Cytotoxic_...  0.947012      .   \n",
       "1    sampleB_Cytotoxic_T_cell_VS_sampleA_Cytotoxic_...  0.942487      .   \n",
       "2    sampleB_Cytotoxic_T_cell_VS_sampleA_Cytotoxic_...  0.940619      .   \n",
       "3    sampleB_Cytotoxic_T_cell_VS_sampleA_Cytotoxic_...  0.939629      .   \n",
       "4    sampleB_Cytotoxic_T_cell_VS_sampleA_Cytotoxic_...  0.939127      .   \n",
       "..                                                 ...       ...    ...   \n",
       "995  sampleB_Cytotoxic_T_cell_VS_sampleA_Cytotoxic_...  0.876061      .   \n",
       "996  sampleB_Cytotoxic_T_cell_VS_sampleA_Cytotoxic_...  0.876023      .   \n",
       "997  sampleB_Cytotoxic_T_cell_VS_sampleA_Cytotoxic_...  0.876012      .   \n",
       "998  sampleB_Cytotoxic_T_cell_VS_sampleA_Cytotoxic_...  0.875905      .   \n",
       "999  sampleB_Cytotoxic_T_cell_VS_sampleA_Cytotoxic_...  0.875848      .   \n",
       "\n",
       "            p_val                 sample          tech cell_type_specific  \\\n",
       "0    6.489569e-66  master_celltypefair_1  celltypefair       CD8+ T cells   \n",
       "1    5.090951e-16  master_celltypefair_1  celltypefair       CD8+ T cells   \n",
       "2    2.108520e-16  master_celltypefair_1  celltypefair       CD8+ T cells   \n",
       "3    5.055002e-16  master_celltypefair_1  celltypefair       CD8+ T cells   \n",
       "4    9.121077e-16  master_celltypefair_1  celltypefair       CD8+ T cells   \n",
       "..            ...                    ...           ...                ...   \n",
       "995  1.071635e-18  master_celltypefair_1  celltypefair       CD8+ T cells   \n",
       "996  1.684953e-22  master_celltypefair_1  celltypefair       CD8+ T cells   \n",
       "997  2.905259e-20  master_celltypefair_1  celltypefair       CD8+ T cells   \n",
       "998  5.970802e-16  master_celltypefair_1  celltypefair       CD8+ T cells   \n",
       "999  2.110955e-16  master_celltypefair_1  celltypefair       CD8+ T cells   \n",
       "\n",
       "        sex  \n",
       "0    Female  \n",
       "1    Female  \n",
       "2    Female  \n",
       "3    Female  \n",
       "4    Female  \n",
       "..      ...  \n",
       "995  Female  \n",
       "996  Female  \n",
       "997  Female  \n",
       "998  Female  \n",
       "999  Female  \n",
       "\n",
       "[1000 rows x 11 columns]"
      ]
     },
     "execution_count": 118,
     "metadata": {},
     "output_type": "execute_result"
    }
   ],
   "source": [
    "df_merged[\n",
    "    (df_merged[\"sex\"] == \"Female\") & (df_merged[\"cell_type_specific\"] == \"CD8+ T cells\")\n",
    "]"
   ]
  },
  {
   "cell_type": "code",
   "execution_count": null,
   "id": "3e8ada1b-8ace-42d0-82f2-70383740d4ba",
   "metadata": {},
   "outputs": [],
   "source": [
    "fig, ax = plt.subplots(figsize=(4, 4))\n",
    "sns.boxplot(\n",
    "    df_merged,\n",
    "    x=\"cell_type_specific\",\n",
    "    y=\"logfc\",\n",
    "    hue=\"sex\",\n",
    "    # order=cell_type_order,\n",
    "    order=[cell_type_alias_dict[x] for x in cell_type_order],\n",
    "    # palette=tech_color_palette,\n",
    "    ax=ax,\n",
    "    fliersize=0,\n",
    "    showfliers=False,\n",
    ")\n",
    "plt.xticks(rotation=45, ha=\"right\")\n",
    "\n",
    "plt.ylabel(\"Log2(fold enrichment)\\nof top 1000 DARs\")\n",
    "plt.xlabel(\"\")\n",
    "# labels = [item.get_text() for item in ax.get_xticklabels()]\n",
    "# labels_alias = [cell_type_alias_dict[x] for x in labels]\n",
    "# x.set_xticklabels(labels_alias)\n",
    "\n",
    "\n",
    "# handles, labels = ax.get_legend_handles_labels()\n",
    "# l = plt.legend(\n",
    "#     handles[0 : len(tech_order)],\n",
    "#     [tech_alias_dict[x] for x in labels[0 : len(tech_order)]],\n",
    "#     bbox_to_anchor=(1.05, 1),\n",
    "#     loc=2,\n",
    "#     borderaxespad=0.0,\n",
    "# )\n",
    "plt.tight_layout()\n",
    "plt.savefig(\n",
    "    \"plts_final/FIXEDCELLS__male_female_top1k_DARs_logfc.png\",\n",
    "    dpi=600,\n",
    "    facecolor=\"white\",\n",
    "    bbox_inches=\"tight\",\n",
    ")\n",
    "plt.savefig(\n",
    "    \"plts_final/FIXEDCELLS__male_female_top1k_DARs_logfc.svg\",\n",
    "    dpi=600,\n",
    "    facecolor=\"white\",\n",
    "    bbox_inches=\"tight\",\n",
    ")"
   ]
  },
  {
   "cell_type": "markdown",
   "id": "c0c7ba77-de82-449c-b8d6-542ab923af4b",
   "metadata": {},
   "source": [
    "# calculate accessibility in these DARs"
   ]
  },
  {
   "cell_type": "code",
   "execution_count": 24,
   "id": "83ee8196-afd6-4bd3-8a2b-85408e0062cc",
   "metadata": {
    "execution": {
     "iopub.execute_input": "2023-02-26T19:32:03.544102Z",
     "iopub.status.busy": "2023-02-26T19:32:03.543273Z",
     "iopub.status.idle": "2023-02-26T19:32:13.827127Z",
     "shell.execute_reply": "2023-02-26T19:32:13.825715Z",
     "shell.execute_reply.started": "2023-02-26T19:32:03.544042Z"
    },
    "tags": []
   },
   "outputs": [],
   "source": [
    "import pickle\n",
    "\n",
    "cto_path = \"cistopic_objects/master_celltypefair_1.FIXEDCELLS__cto.scrublet0-4.fmx.singlets.model_28topics.dimreduc.pkl\"\n",
    "with open(cto_path, \"rb\") as f:\n",
    "    cto = pickle.load(f)"
   ]
  },
  {
   "cell_type": "code",
   "execution_count": 25,
   "id": "cff73755-6074-4889-9b31-43160d0aee44",
   "metadata": {
    "execution": {
     "iopub.execute_input": "2023-02-26T19:32:13.829425Z",
     "iopub.status.busy": "2023-02-26T19:32:13.828888Z",
     "iopub.status.idle": "2023-02-26T19:32:13.847469Z",
     "shell.execute_reply": "2023-02-26T19:32:13.846568Z",
     "shell.execute_reply.started": "2023-02-26T19:32:13.829401Z"
    },
    "tags": []
   },
   "outputs": [
    {
     "data": {
      "text/html": [
       "<div>\n",
       "<style scoped>\n",
       "    .dataframe tbody tr th:only-of-type {\n",
       "        vertical-align: middle;\n",
       "    }\n",
       "\n",
       "    .dataframe tbody tr th {\n",
       "        vertical-align: top;\n",
       "    }\n",
       "\n",
       "    .dataframe thead th {\n",
       "        text-align: right;\n",
       "    }\n",
       "</style>\n",
       "<table border=\"1\" class=\"dataframe\">\n",
       "  <thead>\n",
       "    <tr style=\"text-align: right;\">\n",
       "      <th></th>\n",
       "      <th>chrom</th>\n",
       "      <th>start</th>\n",
       "      <th>end</th>\n",
       "      <th>cell_type</th>\n",
       "      <th>logfc</th>\n",
       "      <th>strand</th>\n",
       "      <th>p_val</th>\n",
       "      <th>sample</th>\n",
       "      <th>tech</th>\n",
       "      <th>cell_type_specific</th>\n",
       "      <th>sex</th>\n",
       "    </tr>\n",
       "  </thead>\n",
       "  <tbody>\n",
       "    <tr>\n",
       "      <th>0</th>\n",
       "      <td>chr19</td>\n",
       "      <td>40463415</td>\n",
       "      <td>40463915</td>\n",
       "      <td>sampleA_B_cell_VS_sampleB_B_cell</td>\n",
       "      <td>1.044586</td>\n",
       "      <td>.</td>\n",
       "      <td>1.403635e-02</td>\n",
       "      <td>master_celltypefair_1</td>\n",
       "      <td>celltypefair</td>\n",
       "      <td>B cells</td>\n",
       "      <td>Male</td>\n",
       "    </tr>\n",
       "    <tr>\n",
       "      <th>1</th>\n",
       "      <td>chr1</td>\n",
       "      <td>237864345</td>\n",
       "      <td>237864845</td>\n",
       "      <td>sampleA_B_cell_VS_sampleB_B_cell</td>\n",
       "      <td>1.025338</td>\n",
       "      <td>.</td>\n",
       "      <td>7.109009e-04</td>\n",
       "      <td>master_celltypefair_1</td>\n",
       "      <td>celltypefair</td>\n",
       "      <td>B cells</td>\n",
       "      <td>Male</td>\n",
       "    </tr>\n",
       "    <tr>\n",
       "      <th>2</th>\n",
       "      <td>chr10</td>\n",
       "      <td>93463018</td>\n",
       "      <td>93463518</td>\n",
       "      <td>sampleA_B_cell_VS_sampleB_B_cell</td>\n",
       "      <td>0.986328</td>\n",
       "      <td>.</td>\n",
       "      <td>3.795310e-22</td>\n",
       "      <td>master_celltypefair_1</td>\n",
       "      <td>celltypefair</td>\n",
       "      <td>B cells</td>\n",
       "      <td>Male</td>\n",
       "    </tr>\n",
       "    <tr>\n",
       "      <th>3</th>\n",
       "      <td>chr2</td>\n",
       "      <td>142880197</td>\n",
       "      <td>142880697</td>\n",
       "      <td>sampleA_B_cell_VS_sampleB_B_cell</td>\n",
       "      <td>0.966685</td>\n",
       "      <td>.</td>\n",
       "      <td>7.318674e-12</td>\n",
       "      <td>master_celltypefair_1</td>\n",
       "      <td>celltypefair</td>\n",
       "      <td>B cells</td>\n",
       "      <td>Male</td>\n",
       "    </tr>\n",
       "    <tr>\n",
       "      <th>4</th>\n",
       "      <td>chr15</td>\n",
       "      <td>70777466</td>\n",
       "      <td>70777966</td>\n",
       "      <td>sampleA_B_cell_VS_sampleB_B_cell</td>\n",
       "      <td>0.948006</td>\n",
       "      <td>.</td>\n",
       "      <td>7.674732e-03</td>\n",
       "      <td>master_celltypefair_1</td>\n",
       "      <td>celltypefair</td>\n",
       "      <td>B cells</td>\n",
       "      <td>Male</td>\n",
       "    </tr>\n",
       "    <tr>\n",
       "      <th>...</th>\n",
       "      <td>...</td>\n",
       "      <td>...</td>\n",
       "      <td>...</td>\n",
       "      <td>...</td>\n",
       "      <td>...</td>\n",
       "      <td>...</td>\n",
       "      <td>...</td>\n",
       "      <td>...</td>\n",
       "      <td>...</td>\n",
       "      <td>...</td>\n",
       "      <td>...</td>\n",
       "    </tr>\n",
       "    <tr>\n",
       "      <th>995</th>\n",
       "      <td>chr20</td>\n",
       "      <td>1569319</td>\n",
       "      <td>1569819</td>\n",
       "      <td>sampleB_Cytotoxic_T_cell_VS_sampleA_Cytotoxic_...</td>\n",
       "      <td>0.876061</td>\n",
       "      <td>.</td>\n",
       "      <td>1.071635e-18</td>\n",
       "      <td>master_celltypefair_1</td>\n",
       "      <td>celltypefair</td>\n",
       "      <td>CD8+ T cells</td>\n",
       "      <td>Female</td>\n",
       "    </tr>\n",
       "    <tr>\n",
       "      <th>996</th>\n",
       "      <td>chr10</td>\n",
       "      <td>124142887</td>\n",
       "      <td>124143387</td>\n",
       "      <td>sampleB_Cytotoxic_T_cell_VS_sampleA_Cytotoxic_...</td>\n",
       "      <td>0.876023</td>\n",
       "      <td>.</td>\n",
       "      <td>1.684953e-22</td>\n",
       "      <td>master_celltypefair_1</td>\n",
       "      <td>celltypefair</td>\n",
       "      <td>CD8+ T cells</td>\n",
       "      <td>Female</td>\n",
       "    </tr>\n",
       "    <tr>\n",
       "      <th>997</th>\n",
       "      <td>chrX</td>\n",
       "      <td>39492561</td>\n",
       "      <td>39493061</td>\n",
       "      <td>sampleB_Cytotoxic_T_cell_VS_sampleA_Cytotoxic_...</td>\n",
       "      <td>0.876012</td>\n",
       "      <td>.</td>\n",
       "      <td>2.905259e-20</td>\n",
       "      <td>master_celltypefair_1</td>\n",
       "      <td>celltypefair</td>\n",
       "      <td>CD8+ T cells</td>\n",
       "      <td>Female</td>\n",
       "    </tr>\n",
       "    <tr>\n",
       "      <th>998</th>\n",
       "      <td>chr2</td>\n",
       "      <td>101973016</td>\n",
       "      <td>101973516</td>\n",
       "      <td>sampleB_Cytotoxic_T_cell_VS_sampleA_Cytotoxic_...</td>\n",
       "      <td>0.875905</td>\n",
       "      <td>.</td>\n",
       "      <td>5.970802e-16</td>\n",
       "      <td>master_celltypefair_1</td>\n",
       "      <td>celltypefair</td>\n",
       "      <td>CD8+ T cells</td>\n",
       "      <td>Female</td>\n",
       "    </tr>\n",
       "    <tr>\n",
       "      <th>999</th>\n",
       "      <td>chr11</td>\n",
       "      <td>62315375</td>\n",
       "      <td>62315875</td>\n",
       "      <td>sampleB_Cytotoxic_T_cell_VS_sampleA_Cytotoxic_...</td>\n",
       "      <td>0.875848</td>\n",
       "      <td>.</td>\n",
       "      <td>2.110955e-16</td>\n",
       "      <td>master_celltypefair_1</td>\n",
       "      <td>celltypefair</td>\n",
       "      <td>CD8+ T cells</td>\n",
       "      <td>Female</td>\n",
       "    </tr>\n",
       "  </tbody>\n",
       "</table>\n",
       "<p>5499 rows × 11 columns</p>\n",
       "</div>"
      ],
      "text/plain": [
       "     chrom      start        end  \\\n",
       "0    chr19   40463415   40463915   \n",
       "1     chr1  237864345  237864845   \n",
       "2    chr10   93463018   93463518   \n",
       "3     chr2  142880197  142880697   \n",
       "4    chr15   70777466   70777966   \n",
       "..     ...        ...        ...   \n",
       "995  chr20    1569319    1569819   \n",
       "996  chr10  124142887  124143387   \n",
       "997   chrX   39492561   39493061   \n",
       "998   chr2  101973016  101973516   \n",
       "999  chr11   62315375   62315875   \n",
       "\n",
       "                                             cell_type     logfc strand  \\\n",
       "0                     sampleA_B_cell_VS_sampleB_B_cell  1.044586      .   \n",
       "1                     sampleA_B_cell_VS_sampleB_B_cell  1.025338      .   \n",
       "2                     sampleA_B_cell_VS_sampleB_B_cell  0.986328      .   \n",
       "3                     sampleA_B_cell_VS_sampleB_B_cell  0.966685      .   \n",
       "4                     sampleA_B_cell_VS_sampleB_B_cell  0.948006      .   \n",
       "..                                                 ...       ...    ...   \n",
       "995  sampleB_Cytotoxic_T_cell_VS_sampleA_Cytotoxic_...  0.876061      .   \n",
       "996  sampleB_Cytotoxic_T_cell_VS_sampleA_Cytotoxic_...  0.876023      .   \n",
       "997  sampleB_Cytotoxic_T_cell_VS_sampleA_Cytotoxic_...  0.876012      .   \n",
       "998  sampleB_Cytotoxic_T_cell_VS_sampleA_Cytotoxic_...  0.875905      .   \n",
       "999  sampleB_Cytotoxic_T_cell_VS_sampleA_Cytotoxic_...  0.875848      .   \n",
       "\n",
       "            p_val                 sample          tech cell_type_specific  \\\n",
       "0    1.403635e-02  master_celltypefair_1  celltypefair            B cells   \n",
       "1    7.109009e-04  master_celltypefair_1  celltypefair            B cells   \n",
       "2    3.795310e-22  master_celltypefair_1  celltypefair            B cells   \n",
       "3    7.318674e-12  master_celltypefair_1  celltypefair            B cells   \n",
       "4    7.674732e-03  master_celltypefair_1  celltypefair            B cells   \n",
       "..            ...                    ...           ...                ...   \n",
       "995  1.071635e-18  master_celltypefair_1  celltypefair       CD8+ T cells   \n",
       "996  1.684953e-22  master_celltypefair_1  celltypefair       CD8+ T cells   \n",
       "997  2.905259e-20  master_celltypefair_1  celltypefair       CD8+ T cells   \n",
       "998  5.970802e-16  master_celltypefair_1  celltypefair       CD8+ T cells   \n",
       "999  2.110955e-16  master_celltypefair_1  celltypefair       CD8+ T cells   \n",
       "\n",
       "        sex  \n",
       "0      Male  \n",
       "1      Male  \n",
       "2      Male  \n",
       "3      Male  \n",
       "4      Male  \n",
       "..      ...  \n",
       "995  Female  \n",
       "996  Female  \n",
       "997  Female  \n",
       "998  Female  \n",
       "999  Female  \n",
       "\n",
       "[5499 rows x 11 columns]"
      ]
     },
     "execution_count": 25,
     "metadata": {},
     "output_type": "execute_result"
    }
   ],
   "source": [
    "df_merged"
   ]
  },
  {
   "cell_type": "code",
   "execution_count": 26,
   "id": "b68a0ab1-7d37-4725-818b-1555972d6dc4",
   "metadata": {
    "execution": {
     "iopub.execute_input": "2023-02-26T19:32:13.848587Z",
     "iopub.status.busy": "2023-02-26T19:32:13.848389Z",
     "iopub.status.idle": "2023-02-26T19:32:13.865551Z",
     "shell.execute_reply": "2023-02-26T19:32:13.864624Z",
     "shell.execute_reply.started": "2023-02-26T19:32:13.848568Z"
    },
    "tags": []
   },
   "outputs": [],
   "source": [
    "cto.cell_data[\"harmony_consensus_cell_type__mega\"] = [\n",
    "    x.replace(\"Cytotoxic T cell\", \"CD8+ T cell\")\n",
    "    for x in cto.cell_data[\"harmony_consensus_cell_type__mega\"]\n",
    "]"
   ]
  },
  {
   "cell_type": "code",
   "execution_count": 27,
   "id": "88f31d62-e0da-4ec4-81c4-ecbe50a2c273",
   "metadata": {
    "execution": {
     "iopub.execute_input": "2023-02-26T19:32:13.867285Z",
     "iopub.status.busy": "2023-02-26T19:32:13.867085Z",
     "iopub.status.idle": "2023-02-26T19:32:13.897391Z",
     "shell.execute_reply": "2023-02-26T19:32:13.896270Z",
     "shell.execute_reply.started": "2023-02-26T19:32:13.867266Z"
    },
    "tags": []
   },
   "outputs": [
    {
     "data": {
      "text/plain": [
       "sampleA    13792\n",
       "sampleB    11735\n",
       "Name: fmx_sample, dtype: int64"
      ]
     },
     "execution_count": 27,
     "metadata": {},
     "output_type": "execute_result"
    }
   ],
   "source": [
    "cto.cell_data[\"fmx_sample\"].value_counts()"
   ]
  },
  {
   "cell_type": "code",
   "execution_count": 28,
   "id": "c322ba72-2693-4cd8-aa54-bb235b446b77",
   "metadata": {
    "execution": {
     "iopub.execute_input": "2023-02-26T19:32:13.899367Z",
     "iopub.status.busy": "2023-02-26T19:32:13.898847Z",
     "iopub.status.idle": "2023-02-26T19:32:13.920672Z",
     "shell.execute_reply": "2023-02-26T19:32:13.919261Z",
     "shell.execute_reply.started": "2023-02-26T19:32:13.899331Z"
    },
    "tags": []
   },
   "outputs": [],
   "source": [
    "tmp_df = cto.cell_data.copy()"
   ]
  },
  {
   "cell_type": "code",
   "execution_count": 29,
   "id": "c29569a3-04fa-478d-a51d-3b1edf2904f1",
   "metadata": {
    "execution": {
     "iopub.execute_input": "2023-02-26T19:32:13.921729Z",
     "iopub.status.busy": "2023-02-26T19:32:13.921525Z",
     "iopub.status.idle": "2023-02-26T19:32:13.940933Z",
     "shell.execute_reply": "2023-02-26T19:32:13.940019Z",
     "shell.execute_reply.started": "2023-02-26T19:32:13.921710Z"
    },
    "tags": []
   },
   "outputs": [
    {
     "data": {
      "text/plain": [
       "tech         fmx_sample\n",
       "10xmultiome  sampleA       2566\n",
       "             sampleB       1866\n",
       "10xv1        sampleA       2308\n",
       "             sampleB       2124\n",
       "10xv11       none          1741\n",
       "             sampleA       1463\n",
       "             sampleB       1228\n",
       "10xv2        none          2349\n",
       "             sampleA       1181\n",
       "             sampleB        902\n",
       "ddseq        none          3203\n",
       "             sampleA        781\n",
       "             sampleB        448\n",
       "hydrop       sampleB       1792\n",
       "             sampleA       1610\n",
       "             none          1030\n",
       "mtscatac     sampleA       2253\n",
       "             sampleB       2179\n",
       "s3atac       sampleA       1630\n",
       "             none          1606\n",
       "             sampleB       1196\n",
       "Name: fmx_sample, dtype: int64"
      ]
     },
     "execution_count": 29,
     "metadata": {},
     "output_type": "execute_result"
    }
   ],
   "source": [
    "tmp_df[\"fmx_sample\"].fillna(\"none\", inplace=True)\n",
    "tmp_df.groupby(\"tech\")[\"fmx_sample\"].value_counts()"
   ]
  },
  {
   "cell_type": "code",
   "execution_count": 30,
   "id": "d7954b78-55de-4abf-9642-d9247fb24a11",
   "metadata": {
    "execution": {
     "iopub.execute_input": "2023-02-26T19:32:13.941855Z",
     "iopub.status.busy": "2023-02-26T19:32:13.941652Z",
     "iopub.status.idle": "2023-02-26T19:32:13.961836Z",
     "shell.execute_reply": "2023-02-26T19:32:13.960916Z",
     "shell.execute_reply.started": "2023-02-26T19:32:13.941836Z"
    },
    "tags": []
   },
   "outputs": [],
   "source": [
    "cto.cell_data[\"fmx_sample\"].fillna(\"none\", inplace=True)\n",
    "cto.cell_data[\"sex\"] = [\n",
    "    x.replace(\"sampleA\", \"Male\").replace(\"sampleB\", \"Female\")\n",
    "    for x in cto.cell_data[\"fmx_sample\"]\n",
    "]"
   ]
  },
  {
   "cell_type": "code",
   "execution_count": 31,
   "id": "3f9909ba-ae58-4ddc-a959-f966f3118bfd",
   "metadata": {
    "execution": {
     "iopub.execute_input": "2023-02-26T19:32:13.962831Z",
     "iopub.status.busy": "2023-02-26T19:32:13.962627Z",
     "iopub.status.idle": "2023-02-26T19:32:13.974369Z",
     "shell.execute_reply": "2023-02-26T19:32:13.973428Z",
     "shell.execute_reply.started": "2023-02-26T19:32:13.962812Z"
    },
    "tags": []
   },
   "outputs": [
    {
     "data": {
      "text/plain": [
       "GAAGCAGCGGAATGATGCTCGTTCCAAT___OHS_s3atac_1.FIXEDCELLS    Female\n",
       "AGGCAGAATGGTATTATTGGTCACGA___OHS_s3atac_2.FIXEDCELLS        none\n",
       "ATTGAGGAGCCAAGGCAAAGTACTCC___OHS_s3atac_2.FIXEDCELLS        none\n",
       "CTCTCTACTGAACGGCGTATCTGCCA___OHS_s3atac_2.FIXEDCELLS        none\n",
       "GAAGAGTATTGGCATAACCGCGCCGATC___OHS_s3atac_1.FIXEDCELLS      Male\n",
       "                                                           ...  \n",
       "TGATGCACAAGATTAG___VIB_10xv1_2.FIXEDCELLS                 Female\n",
       "AAAGGATTCCACACCT___VIB_10xv1_2.FIXEDCELLS                   Male\n",
       "TGAGCCGGTTTGACCA___VIB_10xv1_2.FIXEDCELLS                 Female\n",
       "AGACAAAGTCACAGGA___VIB_10xv1_2.FIXEDCELLS                   Male\n",
       "CACCTGTTCTCTATTG___VIB_10xv1_2.FIXEDCELLS                   Male\n",
       "Name: sex, Length: 35456, dtype: object"
      ]
     },
     "execution_count": 31,
     "metadata": {},
     "output_type": "execute_result"
    }
   ],
   "source": [
    "cto.cell_data[\"sex\"]"
   ]
  },
  {
   "cell_type": "code",
   "execution_count": 32,
   "id": "969ab5bb-9c2a-449d-8946-32e9f76365f5",
   "metadata": {
    "execution": {
     "iopub.execute_input": "2023-02-26T19:32:13.975345Z",
     "iopub.status.busy": "2023-02-26T19:32:13.975152Z",
     "iopub.status.idle": "2023-02-26T19:32:13.979917Z",
     "shell.execute_reply": "2023-02-26T19:32:13.978987Z",
     "shell.execute_reply.started": "2023-02-26T19:32:13.975327Z"
    },
    "tags": []
   },
   "outputs": [],
   "source": [
    "import numpy as np"
   ]
  },
  {
   "cell_type": "code",
   "execution_count": 34,
   "id": "8828a7a3-1059-471b-95f8-43f45fab9515",
   "metadata": {
    "execution": {
     "iopub.execute_input": "2023-02-26T19:33:07.098461Z",
     "iopub.status.busy": "2023-02-26T19:33:07.097616Z",
     "iopub.status.idle": "2023-02-26T19:33:46.049662Z",
     "shell.execute_reply": "2023-02-26T19:33:46.048342Z",
     "shell.execute_reply.started": "2023-02-26T19:33:07.098397Z"
    },
    "tags": []
   },
   "outputs": [
    {
     "name": "stdout",
     "output_type": "stream",
     "text": [
      "B cell\n",
      "\tMale\n",
      "\t\ts3atac found 254 cells\n",
      "\t\ts3atac found 146 cells\n",
      "\t\t10xmultiome found 337 cells\n",
      "\t\t10xmultiome found 218 cells\n",
      "\t\t10xv11 found 239 cells\n",
      "\t\t10xv11 found 163 cells\n",
      "\t\thydrop found 172 cells\n",
      "\t\thydrop found 209 cells\n",
      "\t\t10xv2 found 211 cells\n",
      "\t\t10xv2 found 140 cells\n",
      "\t\tddseq found 123 cells\n",
      "\t\tddseq found 75 cells\n",
      "\t\tmtscatac found 328 cells\n",
      "\t\tmtscatac found 227 cells\n",
      "\t\t10xv1 found 320 cells\n",
      "\t\t10xv1 found 235 cells\n",
      "CD4+ T cell\n",
      "\tMale\n",
      "\t\ts3atac found 228 cells\n",
      "\t\ts3atac found 230 cells\n",
      "\t\t10xmultiome found 479 cells\n",
      "\t\t10xmultiome found 529 cells\n",
      "\t\t10xv11 found 193 cells\n",
      "\t\t10xv11 found 283 cells\n",
      "\t\thydrop found 283 cells\n",
      "\t\thydrop found 509 cells\n",
      "\t\t10xv2 found 144 cells\n",
      "\t\t10xv2 found 215 cells\n",
      "\t\tddseq found 133 cells\n",
      "\t\tddseq found 99 cells\n",
      "\t\tmtscatac found 400 cells\n",
      "\t\tmtscatac found 608 cells\n",
      "\t\t10xv1 found 428 cells\n",
      "\t\t10xv1 found 580 cells\n",
      "CD8+ T cell\n",
      "\tFemale\n",
      "\t\ts3atac found 421 cells\n",
      "\t\ts3atac found 672 cells\n",
      "\t\t10xmultiome found 573 cells\n",
      "\t\t10xmultiome found 1196 cells\n",
      "\t\t10xv11 found 426 cells\n",
      "\t\t10xv11 found 691 cells\n",
      "\t\thydrop found 684 cells\n",
      "\t\thydrop found 793 cells\n",
      "\t\t10xv2 found 292 cells\n",
      "\t\t10xv2 found 575 cells\n",
      "\t\tddseq found 167 cells\n",
      "\t\tddseq found 378 cells\n",
      "\t\tmtscatac found 777 cells\n",
      "\t\tmtscatac found 992 cells\n",
      "\t\t10xv1 found 635 cells\n",
      "\t\t10xv1 found 1134 cells\n"
     ]
    }
   ],
   "source": [
    "df_region_counts_merged = pd.DataFrame()\n",
    "for cell_type, sex in [\n",
    "    (\"B cell\", \"Male\"),\n",
    "    (\"CD4+ T cell\", \"Male\"),\n",
    "    (\"CD8+ T cell\", \"Female\"),\n",
    "]:\n",
    "    print(cell_type)\n",
    "    # for sex in [\"Male\", \"Female\"]:\n",
    "    print(\"\\t\" + sex)\n",
    "    for tech in cto.cell_data[\"tech\"].unique():\n",
    "        cell_barcodes = cto.cell_data[\n",
    "            (cto.cell_data[\"harmony_consensus_cell_type__mega\"] == cell_type)\n",
    "            & (cto.cell_data[\"sex\"] == sex)\n",
    "            & (cto.cell_data[\"tech\"] == tech)\n",
    "        ].index\n",
    "        df_merged_sub = df_merged[\n",
    "            (df_merged[\"cell_type_specific\"] == cell_type + \"s\")\n",
    "            & (df_merged[\"sex\"] == sex)\n",
    "        ]\n",
    "        regions = list(\n",
    "            df_merged_sub[\"chrom\"]\n",
    "            + \":\"\n",
    "            + [str(x) for x in df_merged_sub[\"start\"]]\n",
    "            + \"-\"\n",
    "            + [str(x) for x in df_merged_sub[\"end\"].astype(str)]\n",
    "        )\n",
    "\n",
    "        cto_copy = cto.subset(cells=cell_barcodes, regions=regions, copy=True)\n",
    "        print(f\"\\t\\t{tech} found {len(cto_copy.cell_data)} cells\")\n",
    "\n",
    "        # now count\n",
    "        counts = [\n",
    "            x\n",
    "            / len(\n",
    "                cell_barcodes\n",
    "            )  # note that cell_barcodes is for this sex only i.e. only male or only female --> necessary to normalize counts\n",
    "            for x in list(x[0, 0] for x in cto_copy.fragment_matrix.sum(axis=1))\n",
    "        ]\n",
    "        counts_padded = np.pad(counts, (0, len(regions) - len(counts)))\n",
    "        # counts = cto_copy.fragment_matrix.sum(axis=0).tolist()[0]\n",
    "        # counts_padded = np.pad(counts, (0, len(regions) - len(counts)))\n",
    "        # df_region_counts[\"counts\"] = df_region_counts / len(regions)\n",
    "        # df_region_counts[\"counts\"] = df_region_counts / len(cto_copy.cell_data)\n",
    "\n",
    "        # now calculate the same for the other sex\n",
    "        sex2 = sex_dict[sex]\n",
    "        cell_barcodes = cto.cell_data[\n",
    "            (cto.cell_data[\"harmony_consensus_cell_type__mega\"] == cell_type)\n",
    "            & (cto.cell_data[\"sex\"] == sex2)\n",
    "            & (cto.cell_data[\"tech\"] == tech)\n",
    "        ].index\n",
    "        cto_copy = cto.subset(cells=cell_barcodes, regions=regions, copy=True)\n",
    "        print(f\"\\t\\t{tech} found {len(cto_copy.cell_data)} cells\")\n",
    "        counts2 = [\n",
    "            x / len(cell_barcodes)\n",
    "            for x in list(x[0, 0] for x in cto_copy.fragment_matrix.sum(axis=1))\n",
    "        ]\n",
    "        counts_padded2 = np.pad(counts2, (0, len(regions) - len(counts2)))\n",
    "\n",
    "        # add to df\n",
    "        df_region_counts = pd.DataFrame()\n",
    "        df_region_counts[\"counts\"] = counts_padded\n",
    "        df_region_counts[\"counts2\"] = counts_padded2\n",
    "        df_region_counts[\"ratio\"] = (\n",
    "            df_region_counts[\"counts\"] / df_region_counts[\"counts2\"]\n",
    "        )\n",
    "\n",
    "        df_region_counts[\"cell_type\"] = cell_type\n",
    "        df_region_counts[\"sex\"] = sex\n",
    "        df_region_counts[\"tech\"] = tech\n",
    "        df_region_counts = df_region_counts.sort_values(\n",
    "            \"counts\", ascending=False\n",
    "        ).reset_index(drop=True)\n",
    "        df_region_counts[\"rank\"] = df_region_counts.index\n",
    "\n",
    "        # append\n",
    "        df_region_counts_merged = pd.concat([df_region_counts_merged, df_region_counts])"
   ]
  },
  {
   "cell_type": "code",
   "execution_count": 35,
   "id": "25bca974-4eca-408d-b8f6-490e552adb45",
   "metadata": {
    "execution": {
     "iopub.execute_input": "2023-02-26T19:33:46.051550Z",
     "iopub.status.busy": "2023-02-26T19:33:46.051318Z",
     "iopub.status.idle": "2023-02-26T19:33:46.066019Z",
     "shell.execute_reply": "2023-02-26T19:33:46.065049Z",
     "shell.execute_reply.started": "2023-02-26T19:33:46.051528Z"
    },
    "tags": []
   },
   "outputs": [
    {
     "data": {
      "text/html": [
       "<div>\n",
       "<style scoped>\n",
       "    .dataframe tbody tr th:only-of-type {\n",
       "        vertical-align: middle;\n",
       "    }\n",
       "\n",
       "    .dataframe tbody tr th {\n",
       "        vertical-align: top;\n",
       "    }\n",
       "\n",
       "    .dataframe thead th {\n",
       "        text-align: right;\n",
       "    }\n",
       "</style>\n",
       "<table border=\"1\" class=\"dataframe\">\n",
       "  <thead>\n",
       "    <tr style=\"text-align: right;\">\n",
       "      <th></th>\n",
       "      <th>counts</th>\n",
       "      <th>counts2</th>\n",
       "      <th>ratio</th>\n",
       "      <th>cell_type</th>\n",
       "      <th>sex</th>\n",
       "      <th>tech</th>\n",
       "      <th>rank</th>\n",
       "    </tr>\n",
       "  </thead>\n",
       "  <tbody>\n",
       "    <tr>\n",
       "      <th>0</th>\n",
       "      <td>0.027559</td>\n",
       "      <td>0.000000</td>\n",
       "      <td>inf</td>\n",
       "      <td>B cell</td>\n",
       "      <td>Male</td>\n",
       "      <td>s3atac</td>\n",
       "      <td>0</td>\n",
       "    </tr>\n",
       "    <tr>\n",
       "      <th>1</th>\n",
       "      <td>0.023622</td>\n",
       "      <td>0.006849</td>\n",
       "      <td>3.448819</td>\n",
       "      <td>B cell</td>\n",
       "      <td>Male</td>\n",
       "      <td>s3atac</td>\n",
       "      <td>1</td>\n",
       "    </tr>\n",
       "    <tr>\n",
       "      <th>2</th>\n",
       "      <td>0.023622</td>\n",
       "      <td>0.006849</td>\n",
       "      <td>3.448819</td>\n",
       "      <td>B cell</td>\n",
       "      <td>Male</td>\n",
       "      <td>s3atac</td>\n",
       "      <td>2</td>\n",
       "    </tr>\n",
       "    <tr>\n",
       "      <th>3</th>\n",
       "      <td>0.019685</td>\n",
       "      <td>0.013699</td>\n",
       "      <td>1.437008</td>\n",
       "      <td>B cell</td>\n",
       "      <td>Male</td>\n",
       "      <td>s3atac</td>\n",
       "      <td>3</td>\n",
       "    </tr>\n",
       "    <tr>\n",
       "      <th>4</th>\n",
       "      <td>0.019685</td>\n",
       "      <td>0.000000</td>\n",
       "      <td>inf</td>\n",
       "      <td>B cell</td>\n",
       "      <td>Male</td>\n",
       "      <td>s3atac</td>\n",
       "      <td>4</td>\n",
       "    </tr>\n",
       "    <tr>\n",
       "      <th>...</th>\n",
       "      <td>...</td>\n",
       "      <td>...</td>\n",
       "      <td>...</td>\n",
       "      <td>...</td>\n",
       "      <td>...</td>\n",
       "      <td>...</td>\n",
       "      <td>...</td>\n",
       "    </tr>\n",
       "    <tr>\n",
       "      <th>995</th>\n",
       "      <td>0.000000</td>\n",
       "      <td>0.000000</td>\n",
       "      <td>NaN</td>\n",
       "      <td>CD8+ T cell</td>\n",
       "      <td>Female</td>\n",
       "      <td>10xv1</td>\n",
       "      <td>995</td>\n",
       "    </tr>\n",
       "    <tr>\n",
       "      <th>996</th>\n",
       "      <td>0.000000</td>\n",
       "      <td>0.000000</td>\n",
       "      <td>NaN</td>\n",
       "      <td>CD8+ T cell</td>\n",
       "      <td>Female</td>\n",
       "      <td>10xv1</td>\n",
       "      <td>996</td>\n",
       "    </tr>\n",
       "    <tr>\n",
       "      <th>997</th>\n",
       "      <td>0.000000</td>\n",
       "      <td>0.000000</td>\n",
       "      <td>NaN</td>\n",
       "      <td>CD8+ T cell</td>\n",
       "      <td>Female</td>\n",
       "      <td>10xv1</td>\n",
       "      <td>997</td>\n",
       "    </tr>\n",
       "    <tr>\n",
       "      <th>998</th>\n",
       "      <td>0.000000</td>\n",
       "      <td>0.000000</td>\n",
       "      <td>NaN</td>\n",
       "      <td>CD8+ T cell</td>\n",
       "      <td>Female</td>\n",
       "      <td>10xv1</td>\n",
       "      <td>998</td>\n",
       "    </tr>\n",
       "    <tr>\n",
       "      <th>999</th>\n",
       "      <td>0.000000</td>\n",
       "      <td>0.000000</td>\n",
       "      <td>NaN</td>\n",
       "      <td>CD8+ T cell</td>\n",
       "      <td>Female</td>\n",
       "      <td>10xv1</td>\n",
       "      <td>999</td>\n",
       "    </tr>\n",
       "  </tbody>\n",
       "</table>\n",
       "<p>24000 rows × 7 columns</p>\n",
       "</div>"
      ],
      "text/plain": [
       "       counts   counts2     ratio    cell_type     sex    tech  rank\n",
       "0    0.027559  0.000000       inf       B cell    Male  s3atac     0\n",
       "1    0.023622  0.006849  3.448819       B cell    Male  s3atac     1\n",
       "2    0.023622  0.006849  3.448819       B cell    Male  s3atac     2\n",
       "3    0.019685  0.013699  1.437008       B cell    Male  s3atac     3\n",
       "4    0.019685  0.000000       inf       B cell    Male  s3atac     4\n",
       "..        ...       ...       ...          ...     ...     ...   ...\n",
       "995  0.000000  0.000000       NaN  CD8+ T cell  Female   10xv1   995\n",
       "996  0.000000  0.000000       NaN  CD8+ T cell  Female   10xv1   996\n",
       "997  0.000000  0.000000       NaN  CD8+ T cell  Female   10xv1   997\n",
       "998  0.000000  0.000000       NaN  CD8+ T cell  Female   10xv1   998\n",
       "999  0.000000  0.000000       NaN  CD8+ T cell  Female   10xv1   999\n",
       "\n",
       "[24000 rows x 7 columns]"
      ]
     },
     "execution_count": 35,
     "metadata": {},
     "output_type": "execute_result"
    }
   ],
   "source": [
    "df_region_counts_merged"
   ]
  },
  {
   "cell_type": "code",
   "execution_count": 36,
   "id": "7d68bcbf-7537-410f-a4be-4f411f8af9f7",
   "metadata": {
    "execution": {
     "iopub.execute_input": "2023-02-26T19:33:46.067135Z",
     "iopub.status.busy": "2023-02-26T19:33:46.066936Z",
     "iopub.status.idle": "2023-02-26T19:33:46.860178Z",
     "shell.execute_reply": "2023-02-26T19:33:46.859221Z",
     "shell.execute_reply.started": "2023-02-26T19:33:46.067116Z"
    },
    "tags": []
   },
   "outputs": [
    {
     "name": "stderr",
     "output_type": "stream",
     "text": [
      "/opt/venv/lib/python3.8/site-packages/numpy/lib/function_base.py:4527: RuntimeWarning: invalid value encountered in subtract\n",
      "  diff_b_a = subtract(b, a)\n",
      "/opt/venv/lib/python3.8/site-packages/numpy/lib/function_base.py:4527: RuntimeWarning: invalid value encountered in subtract\n",
      "  diff_b_a = subtract(b, a)\n",
      "/opt/venv/lib/python3.8/site-packages/numpy/lib/function_base.py:4527: RuntimeWarning: invalid value encountered in subtract\n",
      "  diff_b_a = subtract(b, a)\n"
     ]
    },
    {
     "data": {
      "text/plain": [
       "<AxesSubplot: xlabel='cell_type', ylabel='ratio'>"
      ]
     },
     "execution_count": 36,
     "metadata": {},
     "output_type": "execute_result"
    },
    {
     "data": {
      "image/png": "[encoded data removed]",
      "text/plain": [
       "<Figure size 640x480 with 1 Axes>"
      ]
     },
     "metadata": {},
     "output_type": "display_data"
    }
   ],
   "source": [
    "sns.boxplot(\n",
    "    data=df_region_counts_merged,\n",
    "    x=\"cell_type\",\n",
    "    y=\"ratio\",\n",
    "    hue=\"tech\",\n",
    "    hue_order=tech_order,\n",
    "    palette=tech_color_palette,\n",
    "    showfliers=False,\n",
    ")"
   ]
  },
  {
   "cell_type": "markdown",
   "id": "a61cee38-ef83-47eb-b84c-c9017186bd9d",
   "metadata": {},
   "source": [
    "# instead try imputed accessibility"
   ]
  },
  {
   "cell_type": "code",
   "execution_count": 37,
   "id": "bcae8b01-7b1f-4e71-9973-c29be8c4b521",
   "metadata": {
    "execution": {
     "iopub.execute_input": "2023-02-26T19:33:46.862041Z",
     "iopub.status.busy": "2023-02-26T19:33:46.861822Z",
     "iopub.status.idle": "2023-02-26T19:34:53.509278Z",
     "shell.execute_reply": "2023-02-26T19:34:53.507682Z",
     "shell.execute_reply.started": "2023-02-26T19:33:46.862021Z"
    },
    "tags": []
   },
   "outputs": [],
   "source": [
    "imputed_acc_obj_path = \"downstream_analysis/imputed_acc_objs/master_celltypefair_1.FIXEDCELLS__imputed_acc_obs.pkl\"\n",
    "with open(imputed_acc_obj_path, \"rb\") as f:\n",
    "    imputed_acc_obj = pickle.load(f)"
   ]
  },
  {
   "cell_type": "code",
   "execution_count": 38,
   "id": "9ffa2719-1f1d-4f0c-80aa-8a8951ce8658",
   "metadata": {
    "execution": {
     "iopub.execute_input": "2023-02-26T19:34:53.510783Z",
     "iopub.status.busy": "2023-02-26T19:34:53.510544Z",
     "iopub.status.idle": "2023-02-26T19:34:53.516172Z",
     "shell.execute_reply": "2023-02-26T19:34:53.515226Z",
     "shell.execute_reply.started": "2023-02-26T19:34:53.510754Z"
    },
    "tags": []
   },
   "outputs": [],
   "source": [
    "# imputed_acc_obj_path = \"/lustre1/project/stg_00090/scatac_benchmark/fixedcells_4_merged/downstream_analysis/imputed_acc_objs/master_all_1.FIXEDCELLS__normalized_imputed_acc_obs.pkl\"\n",
    "# with open(imputed_acc_obj_path, \"rb\") as f:\n",
    "#     imputed_acc_obj = pickle.load(f)"
   ]
  },
  {
   "cell_type": "code",
   "execution_count": 39,
   "id": "537ff520-f361-4620-acdb-99de2aa4dc1e",
   "metadata": {
    "execution": {
     "iopub.execute_input": "2023-02-26T19:34:53.517337Z",
     "iopub.status.busy": "2023-02-26T19:34:53.517136Z",
     "iopub.status.idle": "2023-02-26T19:34:53.524057Z",
     "shell.execute_reply": "2023-02-26T19:34:53.523120Z",
     "shell.execute_reply.started": "2023-02-26T19:34:53.517318Z"
    },
    "tags": []
   },
   "outputs": [],
   "source": [
    "# import pickle\n",
    "\n",
    "# cto_path = \"/lustre1/project/stg_00090/scatac_benchmark/fixedcells_4_merged/cistopic_objects_master/master_all_1.FIXEDCELLS__cto.scrublet0-4.fmx.singlets.model_24topics.dimreduc.consensus_harmony.pkl\"\n",
    "# with open(cto_path, \"rb\") as f:\n",
    "#     cto = pickle.load(f)"
   ]
  },
  {
   "cell_type": "code",
   "execution_count": 40,
   "id": "b4183170-9dc8-43b7-902f-b3a0b94ffbd9",
   "metadata": {
    "execution": {
     "iopub.execute_input": "2023-02-26T19:34:53.525447Z",
     "iopub.status.busy": "2023-02-26T19:34:53.525098Z",
     "iopub.status.idle": "2023-02-26T19:34:53.557669Z",
     "shell.execute_reply": "2023-02-26T19:34:53.556697Z",
     "shell.execute_reply.started": "2023-02-26T19:34:53.525421Z"
    },
    "tags": []
   },
   "outputs": [],
   "source": [
    "cto.cell_data[\"fmx_sample\"].fillna(\"none\", inplace=True)\n",
    "cto.cell_data[\"sex\"] = [\n",
    "    x.replace(\"sampleA\", \"Male\").replace(\"sampleB\", \"Female\")\n",
    "    for x in cto.cell_data[\"fmx_sample\"]\n",
    "]"
   ]
  },
  {
   "cell_type": "code",
   "execution_count": 41,
   "id": "b93f956b-976f-4cc6-ab7f-81aedabf8b1f",
   "metadata": {
    "execution": {
     "iopub.execute_input": "2023-02-26T19:34:53.558948Z",
     "iopub.status.busy": "2023-02-26T19:34:53.558592Z",
     "iopub.status.idle": "2023-02-26T19:34:53.563955Z",
     "shell.execute_reply": "2023-02-26T19:34:53.563035Z",
     "shell.execute_reply.started": "2023-02-26T19:34:53.558927Z"
    },
    "tags": []
   },
   "outputs": [],
   "source": [
    "import numpy as np"
   ]
  },
  {
   "cell_type": "code",
   "execution_count": 42,
   "id": "089f7e07-06c8-4c43-a5eb-1b6e1d51f7d8",
   "metadata": {
    "execution": {
     "iopub.execute_input": "2023-02-26T19:34:53.565160Z",
     "iopub.status.busy": "2023-02-26T19:34:53.564862Z",
     "iopub.status.idle": "2023-02-26T19:34:53.571819Z",
     "shell.execute_reply": "2023-02-26T19:34:53.570862Z",
     "shell.execute_reply.started": "2023-02-26T19:34:53.565140Z"
    },
    "tags": []
   },
   "outputs": [
    {
     "data": {
      "text/plain": [
       "(198401, 35456)"
      ]
     },
     "execution_count": 42,
     "metadata": {},
     "output_type": "execute_result"
    }
   ],
   "source": [
    "imputed_acc_obj.mtx.shape"
   ]
  },
  {
   "cell_type": "code",
   "execution_count": 43,
   "id": "08081fba-2340-4365-a400-d313b91d3523",
   "metadata": {
    "execution": {
     "iopub.execute_input": "2023-02-26T19:34:53.574643Z",
     "iopub.status.busy": "2023-02-26T19:34:53.574331Z",
     "iopub.status.idle": "2023-02-26T19:34:53.579674Z",
     "shell.execute_reply": "2023-02-26T19:34:53.578676Z",
     "shell.execute_reply.started": "2023-02-26T19:34:53.574620Z"
    },
    "tags": []
   },
   "outputs": [],
   "source": [
    "sex_dict = {\"Male\": \"Female\", \"Female\": \"Male\"}"
   ]
  },
  {
   "cell_type": "code",
   "execution_count": 76,
   "id": "ab9a55d0-2355-4dd5-9d5d-8de8c8cf01db",
   "metadata": {
    "execution": {
     "iopub.execute_input": "2023-02-26T19:44:39.790361Z",
     "iopub.status.busy": "2023-02-26T19:44:39.789499Z",
     "iopub.status.idle": "2023-02-26T19:46:50.713989Z",
     "shell.execute_reply": "2023-02-26T19:46:50.712637Z",
     "shell.execute_reply.started": "2023-02-26T19:44:39.790298Z"
    },
    "tags": []
   },
   "outputs": [
    {
     "name": "stdout",
     "output_type": "stream",
     "text": [
      "B cell\n",
      "\tMale\n",
      "\t\ts3atac found 254 Male cells\n",
      "\t\ts3atac found 146 Female cells\n",
      "1000\n",
      "\t\t10xmultiome found 337 Male cells\n",
      "\t\t10xmultiome found 218 Female cells\n",
      "1000\n",
      "\t\t10xv11 found 239 Male cells\n",
      "\t\t10xv11 found 163 Female cells\n",
      "1000\n",
      "\t\thydrop found 172 Male cells\n",
      "\t\thydrop found 209 Female cells\n",
      "1000\n",
      "\t\t10xv2 found 211 Male cells\n",
      "\t\t10xv2 found 140 Female cells\n",
      "1000\n",
      "\t\tddseq found 123 Male cells\n",
      "\t\tddseq found 75 Female cells\n",
      "1000\n",
      "\t\tmtscatac found 328 Male cells\n",
      "\t\tmtscatac found 227 Female cells\n",
      "1000\n",
      "\t\t10xv1 found 320 Male cells\n",
      "\t\t10xv1 found 235 Female cells\n",
      "1000\n",
      "CD4+ T cell\n",
      "\tMale\n",
      "\t\ts3atac found 228 Male cells\n",
      "\t\ts3atac found 230 Female cells\n",
      "1000\n",
      "\t\t10xmultiome found 479 Male cells\n",
      "\t\t10xmultiome found 529 Female cells\n",
      "1000\n",
      "\t\t10xv11 found 193 Male cells\n",
      "\t\t10xv11 found 283 Female cells\n",
      "1000\n",
      "\t\thydrop found 283 Male cells\n",
      "\t\thydrop found 509 Female cells\n",
      "1000\n",
      "\t\t10xv2 found 144 Male cells\n",
      "\t\t10xv2 found 215 Female cells\n",
      "1000\n",
      "\t\tddseq found 133 Male cells\n",
      "\t\tddseq found 99 Female cells\n",
      "1000\n",
      "\t\tmtscatac found 400 Male cells\n",
      "\t\tmtscatac found 608 Female cells\n",
      "1000\n",
      "\t\t10xv1 found 428 Male cells\n",
      "\t\t10xv1 found 580 Female cells\n",
      "1000\n",
      "CD8+ T cell\n",
      "\tFemale\n",
      "\t\ts3atac found 421 Female cells\n",
      "\t\ts3atac found 672 Male cells\n",
      "1000\n",
      "\t\t10xmultiome found 573 Female cells\n",
      "\t\t10xmultiome found 1196 Male cells\n",
      "1000\n",
      "\t\t10xv11 found 426 Female cells\n",
      "\t\t10xv11 found 691 Male cells\n",
      "1000\n",
      "\t\thydrop found 684 Female cells\n",
      "\t\thydrop found 793 Male cells\n",
      "1000\n",
      "\t\t10xv2 found 292 Female cells\n",
      "\t\t10xv2 found 575 Male cells\n",
      "1000\n",
      "\t\tddseq found 167 Female cells\n",
      "\t\tddseq found 378 Male cells\n",
      "1000\n",
      "\t\tmtscatac found 777 Female cells\n",
      "\t\tmtscatac found 992 Male cells\n",
      "1000\n",
      "\t\t10xv1 found 635 Female cells\n",
      "\t\t10xv1 found 1134 Male cells\n",
      "1000\n"
     ]
    }
   ],
   "source": [
    "df_region_counts_merged = pd.DataFrame()\n",
    "for cell_type, sex in [\n",
    "    (\"B cell\", \"Male\"),\n",
    "    (\"CD4+ T cell\", \"Male\"),\n",
    "    (\"CD8+ T cell\", \"Female\"),\n",
    "]:\n",
    "    print(cell_type)\n",
    "    # for sex in [\"Male\", \"Female\"]:\n",
    "    print(\"\\t\" + sex)\n",
    "    for tech in cto.cell_data[\"tech\"].unique():\n",
    "        cell_barcodes = cto.cell_data[\n",
    "            (cto.cell_data[\"harmony_consensus_cell_type__mega\"] == cell_type)\n",
    "            & (cto.cell_data[\"sex\"] == sex)\n",
    "            & (cto.cell_data[\"tech\"] == tech)\n",
    "        ].index\n",
    "        if not len(cell_barcodes) == 0:\n",
    "            cell_barcodes_index = [\n",
    "                list(imputed_acc_obj.cell_names).index(x) for x in cell_barcodes\n",
    "            ]\n",
    "            print(f\"\\t\\t{tech} found {len(cell_barcodes)} {sex} cells\")\n",
    "\n",
    "            df_merged_sub = df_merged[\n",
    "                (df_merged[\"cell_type_specific\"] == cell_type + \"s\")\n",
    "                & (df_merged[\"sex\"] == sex)\n",
    "            ]\n",
    "            regions = list(\n",
    "                df_merged_sub[\"chrom\"]\n",
    "                + \":\"\n",
    "                + [str(x) for x in df_merged_sub[\"start\"]]\n",
    "                + \"-\"\n",
    "                + [str(x) for x in df_merged_sub[\"end\"].astype(str)]\n",
    "            )\n",
    "            regions_index = [\n",
    "                list(imputed_acc_obj.feature_names).index(x) for x in regions\n",
    "            ]\n",
    "\n",
    "            # now subset imputed acc obj for the main sex\n",
    "            imputed_acc_obj_subset = imputed_acc_obj.mtx[\n",
    "                np.ix_(regions_index[:], cell_barcodes_index[:])\n",
    "            ]\n",
    "\n",
    "            counts = [\n",
    "                x / len(cell_barcodes)\n",
    "                for x in imputed_acc_obj_subset.sum(axis=1).tolist()\n",
    "            ]  # divide by the number of cell barcodes in this class\n",
    "\n",
    "            # now calculate the same but for the opposite sex:\n",
    "            sex2 = sex_dict[sex]\n",
    "            cell_barcodes = cto.cell_data[\n",
    "                (cto.cell_data[\"harmony_consensus_cell_type__mega\"] == cell_type)\n",
    "                & (cto.cell_data[\"sex\"] == sex2)\n",
    "                & (cto.cell_data[\"tech\"] == tech)\n",
    "            ].index\n",
    "            if not len(cell_barcodes) == 0:\n",
    "\n",
    "                cell_barcodes_index = [\n",
    "                    list(imputed_acc_obj.cell_names).index(x) for x in cell_barcodes\n",
    "                ]\n",
    "                print(f\"\\t\\t{tech} found {len(cell_barcodes)} {sex2} cells\")\n",
    "\n",
    "                imputed_acc_obj_subset = imputed_acc_obj.mtx[\n",
    "                    np.ix_(regions_index[:], cell_barcodes_index[:])\n",
    "                ]\n",
    "                counts_sex2 = [\n",
    "                    x / len(cell_barcodes)\n",
    "                    for x in imputed_acc_obj_subset.sum(axis=1).tolist()\n",
    "                ]  # divide by the number of cell barcodes in this class\n",
    "\n",
    "                # calculate the ratio\n",
    "\n",
    "                df_region_counts = pd.DataFrame()\n",
    "                # counts_padded = np.pad(counts, (0, len(cto_copy.cell_data) - len(counts)))\n",
    "                df_region_counts[f\"counts_{sex2}\"] = counts_sex2\n",
    "                df_region_counts[f\"counts_secondary_sex\"] = counts_sex2\n",
    "\n",
    "            df_region_counts[f\"counts_{sex}\"] = counts\n",
    "            df_region_counts[f\"counts_main_sex\"] = counts\n",
    "            # df_region_counts[\"counts\"] = df_region_counts / len(regions)\n",
    "            # df_region_counts[\"counts\"] = df_region_counts / len(cto_copy.cell_data)\n",
    "\n",
    "            df_region_counts[\"cell_type\"] = cell_type\n",
    "            df_region_counts[\"sex\"] = sex\n",
    "            df_region_counts[\"tech\"] = tech\n",
    "            df_region_counts[\"ratio\"] = (\n",
    "                df_region_counts[f\"counts_main_sex\"]\n",
    "                / df_region_counts[f\"counts_secondary_sex\"]\n",
    "            )\n",
    "            df_region_counts = df_region_counts.sort_values(\n",
    "                \"ratio\", ascending=False\n",
    "            ).reset_index(drop=True)\n",
    "            df_region_counts[\"rank\"] = df_region_counts.index\n",
    "            print(len(df_region_counts))\n",
    "            # append\n",
    "            df_region_counts_merged = pd.concat(\n",
    "                [df_region_counts_merged, df_region_counts]\n",
    "            )"
   ]
  },
  {
   "cell_type": "code",
   "execution_count": 77,
   "id": "461ba197-04b2-4db8-9675-438f5a665296",
   "metadata": {
    "execution": {
     "iopub.execute_input": "2023-02-26T19:46:50.715908Z",
     "iopub.status.busy": "2023-02-26T19:46:50.715665Z",
     "iopub.status.idle": "2023-02-26T19:46:50.740791Z",
     "shell.execute_reply": "2023-02-26T19:46:50.739793Z",
     "shell.execute_reply.started": "2023-02-26T19:46:50.715885Z"
    },
    "tags": []
   },
   "outputs": [
    {
     "name": "stdout",
     "output_type": "stream",
     "text": [
      "sex     tech         harmony_consensus_cell_type__mega\n",
      "Female  10xmultiome  CD8+ T cell                           573\n",
      "                     CD4+ T cell                           529\n",
      "                     CD14+ monocyte                        409\n",
      "                     B cell                                218\n",
      "                     Natural killer cell                    66\n",
      "                     CD16+ monocyte                         39\n",
      "                     Dendritic cell                         32\n",
      "        10xv1        CD8+ T cell                           635\n",
      "                     CD4+ T cell                           580\n",
      "                     CD14+ monocyte                        528\n",
      "                     B cell                                235\n",
      "                     Natural killer cell                    70\n",
      "                     CD16+ monocyte                         53\n",
      "                     Dendritic cell                         23\n",
      "        10xv11       CD8+ T cell                           426\n",
      "                     CD4+ T cell                           283\n",
      "                     CD14+ monocyte                        264\n",
      "                     B cell                                163\n",
      "                     Natural killer cell                    42\n",
      "                     CD16+ monocyte                         39\n",
      "                     Dendritic cell                         11\n",
      "        10xv2        CD8+ T cell                           292\n",
      "                     CD4+ T cell                           215\n",
      "                     CD14+ monocyte                        175\n",
      "                     B cell                                140\n",
      "                     Natural killer cell                    39\n",
      "                     CD16+ monocyte                         23\n",
      "                     Dendritic cell                         18\n",
      "        ddseq        CD8+ T cell                           167\n",
      "                     CD4+ T cell                            99\n",
      "                     CD14+ monocyte                         85\n",
      "                     B cell                                 75\n",
      "                     CD16+ monocyte                         13\n",
      "                     Natural killer cell                     7\n",
      "                     Dendritic cell                          2\n",
      "        hydrop       CD8+ T cell                           684\n",
      "                     CD4+ T cell                           509\n",
      "                     CD14+ monocyte                        284\n",
      "                     B cell                                209\n",
      "                     Natural killer cell                    59\n",
      "                     CD16+ monocyte                         27\n",
      "                     Dendritic cell                         20\n",
      "        mtscatac     CD8+ T cell                           777\n",
      "                     CD4+ T cell                           608\n",
      "                     CD14+ monocyte                        427\n",
      "                     B cell                                227\n",
      "                     Natural killer cell                    78\n",
      "                     CD16+ monocyte                         35\n",
      "                     Dendritic cell                         27\n",
      "        s3atac       CD8+ T cell                           421\n",
      "                     CD14+ monocyte                        299\n",
      "                     CD4+ T cell                           230\n",
      "                     B cell                                146\n",
      "                     Natural killer cell                    48\n",
      "                     CD16+ monocyte                         32\n",
      "                     Dendritic cell                         20\n",
      "Male    10xmultiome  CD8+ T cell                          1196\n",
      "                     CD4+ T cell                           479\n",
      "                     CD14+ monocyte                        338\n",
      "                     B cell                                337\n",
      "                     CD16+ monocyte                        105\n",
      "                     Natural killer cell                    60\n",
      "                     Dendritic cell                         51\n",
      "        10xv1        CD8+ T cell                          1134\n",
      "                     CD4+ T cell                           428\n",
      "                     B cell                                320\n",
      "                     CD14+ monocyte                        219\n",
      "                     CD16+ monocyte                         91\n",
      "                     Dendritic cell                         60\n",
      "                     Natural killer cell                    56\n",
      "        10xv11       CD8+ T cell                           691\n",
      "                     B cell                                239\n",
      "                     CD4+ T cell                           193\n",
      "                     CD14+ monocyte                        186\n",
      "                     CD16+ monocyte                         77\n",
      "                     Dendritic cell                         47\n",
      "                     Natural killer cell                    30\n",
      "        10xv2        CD8+ T cell                           575\n",
      "                     B cell                                211\n",
      "                     CD4+ T cell                           144\n",
      "                     CD14+ monocyte                        121\n",
      "                     CD16+ monocyte                         69\n",
      "                     Dendritic cell                         37\n",
      "                     Natural killer cell                    24\n",
      "        ddseq        CD8+ T cell                           378\n",
      "                     CD4+ T cell                           133\n",
      "                     B cell                                123\n",
      "                     CD14+ monocyte                         77\n",
      "                     CD16+ monocyte                         43\n",
      "                     Dendritic cell                         14\n",
      "                     Natural killer cell                    13\n",
      "        hydrop       CD8+ T cell                           793\n",
      "                     CD4+ T cell                           283\n",
      "                     CD14+ monocyte                        210\n",
      "                     B cell                                172\n",
      "                     CD16+ monocyte                         69\n",
      "                     Natural killer cell                    42\n",
      "                     Dendritic cell                         41\n",
      "        mtscatac     CD8+ T cell                           992\n",
      "                     CD4+ T cell                           400\n",
      "                     B cell                                328\n",
      "                     CD14+ monocyte                        320\n",
      "                     CD16+ monocyte                        109\n",
      "                     Dendritic cell                         56\n",
      "                     Natural killer cell                    48\n",
      "        s3atac       CD8+ T cell                           672\n",
      "                     CD14+ monocyte                        309\n",
      "                     B cell                                254\n",
      "                     CD4+ T cell                           228\n",
      "                     CD16+ monocyte                         83\n",
      "                     Dendritic cell                         44\n",
      "                     Natural killer cell                    40\n",
      "none    10xv11       CD8+ T cell                           652\n",
      "                     CD4+ T cell                           532\n",
      "                     CD14+ monocyte                        297\n",
      "                     B cell                                153\n",
      "                     Natural killer cell                    54\n",
      "                     CD16+ monocyte                         28\n",
      "                     Dendritic cell                         25\n",
      "        10xv2        CD8+ T cell                           902\n",
      "                     CD4+ T cell                           649\n",
      "                     CD14+ monocyte                        451\n",
      "                     B cell                                204\n",
      "                     Natural killer cell                    63\n",
      "                     CD16+ monocyte                         52\n",
      "                     Dendritic cell                         28\n",
      "        ddseq        CD8+ T cell                          1224\n",
      "                     CD4+ T cell                           776\n",
      "                     CD14+ monocyte                        585\n",
      "                     B cell                                357\n",
      "                     Natural killer cell                   106\n",
      "                     CD16+ monocyte                         88\n",
      "                     Dendritic cell                         67\n",
      "        hydrop       CD8+ T cell                           292\n",
      "                     CD14+ monocyte                        253\n",
      "                     CD4+ T cell                           216\n",
      "                     B cell                                174\n",
      "                     CD16+ monocyte                         48\n",
      "                     Natural killer cell                    25\n",
      "                     Dendritic cell                         22\n",
      "        s3atac       CD8+ T cell                           676\n",
      "                     CD4+ T cell                           550\n",
      "                     B cell                                155\n",
      "                     CD14+ monocyte                        139\n",
      "                     Natural killer cell                    38\n",
      "                     CD16+ monocyte                         29\n",
      "                     Dendritic cell                         19\n",
      "Name: harmony_consensus_cell_type__mega, dtype: int64\n"
     ]
    }
   ],
   "source": [
    "with pd.option_context(\n",
    "    \"display.max_rows\",\n",
    "    None,\n",
    "    \"display.max_columns\",\n",
    "    None,\n",
    "    \"display.precision\",\n",
    "    3,\n",
    "):\n",
    "    print(\n",
    "        cto.cell_data.groupby([\"sex\", \"tech\"])[\n",
    "            \"harmony_consensus_cell_type__mega\"\n",
    "        ].value_counts()\n",
    "    )"
   ]
  },
  {
   "cell_type": "markdown",
   "id": "3be18c36-fcc0-4d66-b61a-d1c29c9d5aa3",
   "metadata": {
    "execution": {
     "iopub.execute_input": "2023-02-26T19:46:50.742003Z",
     "iopub.status.busy": "2023-02-26T19:46:50.741800Z",
     "iopub.status.idle": "2023-02-26T19:46:50.943952Z",
     "shell.execute_reply": "2023-02-26T19:46:50.942971Z",
     "shell.execute_reply.started": "2023-02-26T19:46:50.741982Z"
    },
    "tags": []
   },
   "source": [
    "# CD4\n",
    "sns.boxplot(\n",
    "    data=df_region_counts_merged[df_region_counts_merged[\"cell_type\"] == \"CD4+ T cell\"],\n",
    "    x=\"tech\",\n",
    "    y=\"ratio\",\n",
    "    # hue=\"tech\",\n",
    "    # hue_order=tech_order,\n",
    "    # palette=tech_color_palette,\n",
    "    showfliers=False,\n",
    ")\n",
    "\n",
    "plt.xlabel(\"Technology\")\n",
    "plt.ylabel(\"Ratio of counts in Male vs Female CD4+ T cells\")\n",
    "\n",
    "# CD8"
   ]
  },
  {
   "cell_type": "code",
   "execution_count": 79,
   "id": "449272cf-0786-4922-a75e-975d1bd0f333",
   "metadata": {
    "execution": {
     "iopub.execute_input": "2023-02-26T19:46:50.946347Z",
     "iopub.status.busy": "2023-02-26T19:46:50.945585Z",
     "iopub.status.idle": "2023-02-26T19:46:51.742506Z",
     "shell.execute_reply": "2023-02-26T19:46:51.741501Z",
     "shell.execute_reply.started": "2023-02-26T19:46:50.946326Z"
    },
    "tags": []
   },
   "outputs": [
    {
     "data": {
      "text/plain": [
       "<AxesSubplot: xlabel='counts_Female', ylabel='counts_Male'>"
      ]
     },
     "execution_count": 79,
     "metadata": {},
     "output_type": "execute_result"
    },
    {
     "data": {
      "image/png": "[encoded data removed]",
      "text/plain": [
       "<Figure size 640x480 with 1 Axes>"
      ]
     },
     "metadata": {},
     "output_type": "display_data"
    }
   ],
   "source": [
    "sns.scatterplot(\n",
    "    data=df_region_counts_merged[df_region_counts_merged[\"sex\"] == \"Male\"],\n",
    "    x=\"counts_Female\",\n",
    "    y=\"counts_Male\",\n",
    "    hue=\"tech\",\n",
    "    hue_order=tech_order,\n",
    "    palette=tech_color_palette,\n",
    "    s=1,\n",
    "    linewidth=0,\n",
    ")"
   ]
  },
  {
   "cell_type": "code",
   "execution_count": 80,
   "id": "292cc0dc-67e5-4d22-afa2-67cc7b14e110",
   "metadata": {
    "execution": {
     "iopub.execute_input": "2023-02-26T19:46:51.743631Z",
     "iopub.status.busy": "2023-02-26T19:46:51.743416Z",
     "iopub.status.idle": "2023-02-26T19:46:52.295565Z",
     "shell.execute_reply": "2023-02-26T19:46:52.294605Z",
     "shell.execute_reply.started": "2023-02-26T19:46:51.743611Z"
    },
    "tags": []
   },
   "outputs": [
    {
     "data": {
      "text/plain": [
       "(0.0, 0.05)"
      ]
     },
     "execution_count": 80,
     "metadata": {},
     "output_type": "execute_result"
    },
    {
     "data": {
      "image/png": "[encoded data removed]",
      "text/plain": [
       "<Figure size 640x480 with 1 Axes>"
      ]
     },
     "metadata": {},
     "output_type": "display_data"
    }
   ],
   "source": [
    "sns.scatterplot(\n",
    "    data=df_region_counts_merged[df_region_counts_merged[\"sex\"] == \"Female\"],\n",
    "    x=\"counts_Male\",\n",
    "    y=\"counts_Female\",\n",
    "    hue=\"tech\",\n",
    "    hue_order=tech_order,\n",
    "    palette=tech_color_palette,\n",
    "    s=1,\n",
    "    linewidth=0,\n",
    ")\n",
    "plt.xlim([0, 0.05])\n",
    "plt.ylim([0, 0.05])"
   ]
  },
  {
   "cell_type": "code",
   "execution_count": 81,
   "id": "7fae995e-9ae6-4781-97dc-4ed87d370f4b",
   "metadata": {
    "execution": {
     "iopub.execute_input": "2023-02-26T19:46:52.297191Z",
     "iopub.status.busy": "2023-02-26T19:46:52.296512Z",
     "iopub.status.idle": "2023-02-26T19:46:52.306710Z",
     "shell.execute_reply": "2023-02-26T19:46:52.305787Z",
     "shell.execute_reply.started": "2023-02-26T19:46:52.297170Z"
    },
    "tags": []
   },
   "outputs": [],
   "source": [
    "df_region_counts_merged[\"Technology\"] = [\n",
    "    tech_alias_dict[x] for x in df_region_counts_merged[\"tech\"]\n",
    "]"
   ]
  },
  {
   "cell_type": "code",
   "execution_count": 82,
   "id": "f92bfb6f-4f0b-411a-923f-f888abb53d97",
   "metadata": {
    "execution": {
     "iopub.execute_input": "2023-02-26T19:46:52.308176Z",
     "iopub.status.busy": "2023-02-26T19:46:52.307657Z",
     "iopub.status.idle": "2023-02-26T19:46:52.314944Z",
     "shell.execute_reply": "2023-02-26T19:46:52.314018Z",
     "shell.execute_reply.started": "2023-02-26T19:46:52.308157Z"
    },
    "tags": []
   },
   "outputs": [],
   "source": [
    "tech_alias_color_palette = {\n",
    "    tech_alias_dict[x]: tech_color_palette[x] for x in tech_color_palette.keys()\n",
    "}"
   ]
  },
  {
   "cell_type": "code",
   "execution_count": 83,
   "id": "6b7df41e-00ea-469d-a930-99faa266388f",
   "metadata": {
    "execution": {
     "iopub.execute_input": "2023-02-26T19:46:52.316378Z",
     "iopub.status.busy": "2023-02-26T19:46:52.316028Z",
     "iopub.status.idle": "2023-02-26T19:46:52.322150Z",
     "shell.execute_reply": "2023-02-26T19:46:52.321125Z",
     "shell.execute_reply.started": "2023-02-26T19:46:52.316352Z"
    },
    "tags": []
   },
   "outputs": [],
   "source": [
    "tech_alias_order = [tech_alias_dict[x] for x in tech_order]"
   ]
  },
  {
   "cell_type": "code",
   "execution_count": 84,
   "id": "9e6cd376-03ab-4775-87f8-6532b89234bd",
   "metadata": {
    "execution": {
     "iopub.execute_input": "2023-02-26T19:46:52.323449Z",
     "iopub.status.busy": "2023-02-26T19:46:52.323194Z",
     "iopub.status.idle": "2023-02-26T19:46:52.330702Z",
     "shell.execute_reply": "2023-02-26T19:46:52.329646Z",
     "shell.execute_reply.started": "2023-02-26T19:46:52.323425Z"
    },
    "tags": []
   },
   "outputs": [],
   "source": [
    "label_alias_dict = {\n",
    "    \"B cell\": \"B cells\\nAccessibility in male/female\",\n",
    "    \"CD4+ T cell\": \"CD4+ T cells\\nAccessibility in male/female\",\n",
    "    \"CD8+ T cell\": \"CD8+ T cells\\nAccessibility in female/male\",\n",
    "}"
   ]
  },
  {
   "cell_type": "code",
   "execution_count": 85,
   "id": "bddc41b8-6da5-4d5d-9d3d-37238c91c8ef",
   "metadata": {
    "execution": {
     "iopub.execute_input": "2023-02-26T19:46:52.333763Z",
     "iopub.status.busy": "2023-02-26T19:46:52.333187Z",
     "iopub.status.idle": "2023-02-26T19:46:52.346759Z",
     "shell.execute_reply": "2023-02-26T19:46:52.345704Z",
     "shell.execute_reply.started": "2023-02-26T19:46:52.333733Z"
    },
    "tags": []
   },
   "outputs": [],
   "source": [
    "df_region_counts_merged[\"label\"] = [\n",
    "    label_alias_dict[x] for x in df_region_counts_merged[\"cell_type\"]\n",
    "]"
   ]
  },
  {
   "cell_type": "code",
   "execution_count": 86,
   "id": "caf400a8-3abe-4acc-b24e-3013dd05c8d2",
   "metadata": {
    "execution": {
     "iopub.execute_input": "2023-02-26T19:46:52.347961Z",
     "iopub.status.busy": "2023-02-26T19:46:52.347717Z",
     "iopub.status.idle": "2023-02-26T19:46:52.370674Z",
     "shell.execute_reply": "2023-02-26T19:46:52.369748Z",
     "shell.execute_reply.started": "2023-02-26T19:46:52.347938Z"
    },
    "tags": []
   },
   "outputs": [
    {
     "data": {
      "text/html": [
       "<div>\n",
       "<style scoped>\n",
       "    .dataframe tbody tr th:only-of-type {\n",
       "        vertical-align: middle;\n",
       "    }\n",
       "\n",
       "    .dataframe tbody tr th {\n",
       "        vertical-align: top;\n",
       "    }\n",
       "\n",
       "    .dataframe thead th {\n",
       "        text-align: right;\n",
       "    }\n",
       "</style>\n",
       "<table border=\"1\" class=\"dataframe\">\n",
       "  <thead>\n",
       "    <tr style=\"text-align: right;\">\n",
       "      <th></th>\n",
       "      <th>counts_Female</th>\n",
       "      <th>counts_secondary_sex</th>\n",
       "      <th>counts_Male</th>\n",
       "      <th>counts_main_sex</th>\n",
       "      <th>cell_type</th>\n",
       "      <th>sex</th>\n",
       "      <th>tech</th>\n",
       "      <th>ratio</th>\n",
       "      <th>rank</th>\n",
       "      <th>Technology</th>\n",
       "      <th>label</th>\n",
       "    </tr>\n",
       "  </thead>\n",
       "  <tbody>\n",
       "    <tr>\n",
       "      <th>0</th>\n",
       "      <td>0.000832</td>\n",
       "      <td>0.000832</td>\n",
       "      <td>0.001913</td>\n",
       "      <td>0.001913</td>\n",
       "      <td>B cell</td>\n",
       "      <td>Male</td>\n",
       "      <td>s3atac</td>\n",
       "      <td>2.298850</td>\n",
       "      <td>0</td>\n",
       "      <td>s3-ATAC</td>\n",
       "      <td>B cells\\nAccessibility in male/female</td>\n",
       "    </tr>\n",
       "    <tr>\n",
       "      <th>1</th>\n",
       "      <td>0.000984</td>\n",
       "      <td>0.000984</td>\n",
       "      <td>0.002217</td>\n",
       "      <td>0.002217</td>\n",
       "      <td>B cell</td>\n",
       "      <td>Male</td>\n",
       "      <td>s3atac</td>\n",
       "      <td>2.254128</td>\n",
       "      <td>1</td>\n",
       "      <td>s3-ATAC</td>\n",
       "      <td>B cells\\nAccessibility in male/female</td>\n",
       "    </tr>\n",
       "    <tr>\n",
       "      <th>2</th>\n",
       "      <td>0.001740</td>\n",
       "      <td>0.001740</td>\n",
       "      <td>0.003608</td>\n",
       "      <td>0.003608</td>\n",
       "      <td>B cell</td>\n",
       "      <td>Male</td>\n",
       "      <td>s3atac</td>\n",
       "      <td>2.073375</td>\n",
       "      <td>2</td>\n",
       "      <td>s3-ATAC</td>\n",
       "      <td>B cells\\nAccessibility in male/female</td>\n",
       "    </tr>\n",
       "    <tr>\n",
       "      <th>3</th>\n",
       "      <td>0.002190</td>\n",
       "      <td>0.002190</td>\n",
       "      <td>0.004506</td>\n",
       "      <td>0.004506</td>\n",
       "      <td>B cell</td>\n",
       "      <td>Male</td>\n",
       "      <td>s3atac</td>\n",
       "      <td>2.057886</td>\n",
       "      <td>3</td>\n",
       "      <td>s3-ATAC</td>\n",
       "      <td>B cells\\nAccessibility in male/female</td>\n",
       "    </tr>\n",
       "    <tr>\n",
       "      <th>4</th>\n",
       "      <td>0.001438</td>\n",
       "      <td>0.001438</td>\n",
       "      <td>0.002908</td>\n",
       "      <td>0.002908</td>\n",
       "      <td>B cell</td>\n",
       "      <td>Male</td>\n",
       "      <td>s3atac</td>\n",
       "      <td>2.022796</td>\n",
       "      <td>4</td>\n",
       "      <td>s3-ATAC</td>\n",
       "      <td>B cells\\nAccessibility in male/female</td>\n",
       "    </tr>\n",
       "    <tr>\n",
       "      <th>...</th>\n",
       "      <td>...</td>\n",
       "      <td>...</td>\n",
       "      <td>...</td>\n",
       "      <td>...</td>\n",
       "      <td>...</td>\n",
       "      <td>...</td>\n",
       "      <td>...</td>\n",
       "      <td>...</td>\n",
       "      <td>...</td>\n",
       "      <td>...</td>\n",
       "      <td>...</td>\n",
       "    </tr>\n",
       "    <tr>\n",
       "      <th>995</th>\n",
       "      <td>0.008624</td>\n",
       "      <td>0.003001</td>\n",
       "      <td>0.003001</td>\n",
       "      <td>0.008624</td>\n",
       "      <td>CD8+ T cell</td>\n",
       "      <td>Female</td>\n",
       "      <td>10xv1</td>\n",
       "      <td>2.873952</td>\n",
       "      <td>995</td>\n",
       "      <td>10x v1</td>\n",
       "      <td>CD8+ T cells\\nAccessibility in female/male</td>\n",
       "    </tr>\n",
       "    <tr>\n",
       "      <th>996</th>\n",
       "      <td>0.008706</td>\n",
       "      <td>0.003049</td>\n",
       "      <td>0.003049</td>\n",
       "      <td>0.008706</td>\n",
       "      <td>CD8+ T cell</td>\n",
       "      <td>Female</td>\n",
       "      <td>10xv1</td>\n",
       "      <td>2.855259</td>\n",
       "      <td>996</td>\n",
       "      <td>10x v1</td>\n",
       "      <td>CD8+ T cells\\nAccessibility in female/male</td>\n",
       "    </tr>\n",
       "    <tr>\n",
       "      <th>997</th>\n",
       "      <td>0.008841</td>\n",
       "      <td>0.003106</td>\n",
       "      <td>0.003106</td>\n",
       "      <td>0.008841</td>\n",
       "      <td>CD8+ T cell</td>\n",
       "      <td>Female</td>\n",
       "      <td>10xv1</td>\n",
       "      <td>2.846053</td>\n",
       "      <td>997</td>\n",
       "      <td>10x v1</td>\n",
       "      <td>CD8+ T cells\\nAccessibility in female/male</td>\n",
       "    </tr>\n",
       "    <tr>\n",
       "      <th>998</th>\n",
       "      <td>0.010643</td>\n",
       "      <td>0.003866</td>\n",
       "      <td>0.003866</td>\n",
       "      <td>0.010643</td>\n",
       "      <td>CD8+ T cell</td>\n",
       "      <td>Female</td>\n",
       "      <td>10xv1</td>\n",
       "      <td>2.753040</td>\n",
       "      <td>998</td>\n",
       "      <td>10x v1</td>\n",
       "      <td>CD8+ T cells\\nAccessibility in female/male</td>\n",
       "    </tr>\n",
       "    <tr>\n",
       "      <th>999</th>\n",
       "      <td>0.011136</td>\n",
       "      <td>0.004306</td>\n",
       "      <td>0.004306</td>\n",
       "      <td>0.011136</td>\n",
       "      <td>CD8+ T cell</td>\n",
       "      <td>Female</td>\n",
       "      <td>10xv1</td>\n",
       "      <td>2.586384</td>\n",
       "      <td>999</td>\n",
       "      <td>10x v1</td>\n",
       "      <td>CD8+ T cells\\nAccessibility in female/male</td>\n",
       "    </tr>\n",
       "  </tbody>\n",
       "</table>\n",
       "<p>23946 rows × 11 columns</p>\n",
       "</div>"
      ],
      "text/plain": [
       "     counts_Female  counts_secondary_sex  counts_Male  counts_main_sex  \\\n",
       "0         0.000832              0.000832     0.001913         0.001913   \n",
       "1         0.000984              0.000984     0.002217         0.002217   \n",
       "2         0.001740              0.001740     0.003608         0.003608   \n",
       "3         0.002190              0.002190     0.004506         0.004506   \n",
       "4         0.001438              0.001438     0.002908         0.002908   \n",
       "..             ...                   ...          ...              ...   \n",
       "995       0.008624              0.003001     0.003001         0.008624   \n",
       "996       0.008706              0.003049     0.003049         0.008706   \n",
       "997       0.008841              0.003106     0.003106         0.008841   \n",
       "998       0.010643              0.003866     0.003866         0.010643   \n",
       "999       0.011136              0.004306     0.004306         0.011136   \n",
       "\n",
       "       cell_type     sex    tech     ratio  rank Technology  \\\n",
       "0         B cell    Male  s3atac  2.298850     0    s3-ATAC   \n",
       "1         B cell    Male  s3atac  2.254128     1    s3-ATAC   \n",
       "2         B cell    Male  s3atac  2.073375     2    s3-ATAC   \n",
       "3         B cell    Male  s3atac  2.057886     3    s3-ATAC   \n",
       "4         B cell    Male  s3atac  2.022796     4    s3-ATAC   \n",
       "..           ...     ...     ...       ...   ...        ...   \n",
       "995  CD8+ T cell  Female   10xv1  2.873952   995     10x v1   \n",
       "996  CD8+ T cell  Female   10xv1  2.855259   996     10x v1   \n",
       "997  CD8+ T cell  Female   10xv1  2.846053   997     10x v1   \n",
       "998  CD8+ T cell  Female   10xv1  2.753040   998     10x v1   \n",
       "999  CD8+ T cell  Female   10xv1  2.586384   999     10x v1   \n",
       "\n",
       "                                          label  \n",
       "0         B cells\\nAccessibility in male/female  \n",
       "1         B cells\\nAccessibility in male/female  \n",
       "2         B cells\\nAccessibility in male/female  \n",
       "3         B cells\\nAccessibility in male/female  \n",
       "4         B cells\\nAccessibility in male/female  \n",
       "..                                          ...  \n",
       "995  CD8+ T cells\\nAccessibility in female/male  \n",
       "996  CD8+ T cells\\nAccessibility in female/male  \n",
       "997  CD8+ T cells\\nAccessibility in female/male  \n",
       "998  CD8+ T cells\\nAccessibility in female/male  \n",
       "999  CD8+ T cells\\nAccessibility in female/male  \n",
       "\n",
       "[23946 rows x 11 columns]"
      ]
     },
     "execution_count": 86,
     "metadata": {},
     "output_type": "execute_result"
    }
   ],
   "source": [
    "df_region_counts_merged[~pd.Series(df_region_counts_merged[\"ratio\"] == np.inf)]"
   ]
  },
  {
   "cell_type": "code",
   "execution_count": 72,
   "id": "fb8e918d-f19e-4083-9852-70eb15294013",
   "metadata": {
    "execution": {
     "iopub.execute_input": "2023-02-26T19:43:06.519229Z",
     "iopub.status.busy": "2023-02-26T19:43:06.519032Z",
     "iopub.status.idle": "2023-02-26T19:43:08.557996Z",
     "shell.execute_reply": "2023-02-26T19:43:08.556993Z",
     "shell.execute_reply.started": "2023-02-26T19:43:06.519210Z"
    },
    "tags": []
   },
   "outputs": [
    {
     "data": {
      "image/png": "[encoded data removed]",
      "text/plain": [
       "<Figure size 640x480 with 1 Axes>"
      ]
     },
     "metadata": {},
     "output_type": "display_data"
    }
   ],
   "source": [
    "sns.boxplot(\n",
    "    data=df_region_counts_merged[\n",
    "        ~pd.Series(df_region_counts_merged[\"ratio\"] == np.inf)\n",
    "    ],\n",
    "    x=\"label\",\n",
    "    y=\"ratio\",\n",
    "    hue=\"Technology\",\n",
    "    hue_order=tech_alias_order,\n",
    "    palette=tech_alias_color_palette,\n",
    "    showfliers=False,\n",
    "    linewidth=1,\n",
    ")\n",
    "plt.xlabel(\"Cell Type\")\n",
    "plt.ylabel(\"Ratio of accessibility\")\n",
    "plt.savefig(\n",
    "    \"plts_final/male_female_dar_accessibility.png\",\n",
    "    dpi=300,\n",
    "    facecolor=\"white\",\n",
    "    bbox_inches=\"tight\",\n",
    ")\n",
    "plt.savefig(\n",
    "    \"plts_final/male_female_dar_accessibility.svg\",\n",
    "    dpi=300,\n",
    "    facecolor=\"white\",\n",
    "    bbox_inches=\"tight\",\n",
    ")"
   ]
  },
  {
   "cell_type": "code",
   "execution_count": 73,
   "id": "7c126d5d-e83c-4098-95f9-ceac5dc628bd",
   "metadata": {
    "execution": {
     "iopub.execute_input": "2023-02-26T19:43:08.559636Z",
     "iopub.status.busy": "2023-02-26T19:43:08.558955Z",
     "iopub.status.idle": "2023-02-26T19:43:09.026167Z",
     "shell.execute_reply": "2023-02-26T19:43:09.025204Z",
     "shell.execute_reply.started": "2023-02-26T19:43:08.559615Z"
    },
    "tags": []
   },
   "outputs": [
    {
     "data": {
      "text/plain": [
       "<AxesSubplot: xlabel='cell_type', ylabel='counts_Female'>"
      ]
     },
     "execution_count": 73,
     "metadata": {},
     "output_type": "execute_result"
    },
    {
     "data": {
      "image/png": "[encoded data removed]",
      "text/plain": [
       "<Figure size 640x480 with 1 Axes>"
      ]
     },
     "metadata": {},
     "output_type": "display_data"
    }
   ],
   "source": [
    "sns.boxplot(\n",
    "    data=df_region_counts_merged,\n",
    "    x=\"cell_type\",\n",
    "    y=\"counts_Female\",\n",
    "    hue=\"tech\",\n",
    "    hue_order=tech_order,\n",
    "    palette=tech_color_palette,\n",
    "    showfliers=False,\n",
    ")"
   ]
  },
  {
   "cell_type": "code",
   "execution_count": 74,
   "id": "ab61ffd6-5997-4bb1-b316-bb5122133acd",
   "metadata": {
    "execution": {
     "iopub.execute_input": "2023-02-26T19:43:09.027293Z",
     "iopub.status.busy": "2023-02-26T19:43:09.027086Z",
     "iopub.status.idle": "2023-02-26T19:43:09.774376Z",
     "shell.execute_reply": "2023-02-26T19:43:09.773421Z",
     "shell.execute_reply.started": "2023-02-26T19:43:09.027273Z"
    },
    "tags": []
   },
   "outputs": [
    {
     "data": {
      "text/plain": [
       "<AxesSubplot: xlabel='cell_type', ylabel='counts_Male'>"
      ]
     },
     "execution_count": 74,
     "metadata": {},
     "output_type": "execute_result"
    },
    {
     "data": {
      "image/png": "[encoded data removed]",
      "text/plain": [
       "<Figure size 640x480 with 1 Axes>"
      ]
     },
     "metadata": {},
     "output_type": "display_data"
    }
   ],
   "source": [
    "sns.boxplot(\n",
    "    data=df_region_counts_merged,\n",
    "    x=\"cell_type\",\n",
    "    y=\"counts_Male\",\n",
    "    hue=\"tech\",\n",
    "    hue_order=tech_order,\n",
    "    palette=tech_color_palette,\n",
    "    showfliers=False,\n",
    ")"
   ]
  },
  {
   "cell_type": "code",
   "execution_count": 120,
   "id": "a5b20ba8-7ffb-450a-898c-faacdde9aa09",
   "metadata": {
    "execution": {
     "iopub.execute_input": "2023-02-27T08:09:34.184045Z",
     "iopub.status.busy": "2023-02-27T08:09:34.183201Z",
     "iopub.status.idle": "2023-02-27T08:09:35.086419Z",
     "shell.execute_reply": "2023-02-27T08:09:35.085443Z",
     "shell.execute_reply.started": "2023-02-27T08:09:34.183984Z"
    },
    "tags": []
   },
   "outputs": [
    {
     "data": {
      "text/plain": [
       "<AxesSubplot: xlabel='cell_type', ylabel='ratio'>"
      ]
     },
     "execution_count": 120,
     "metadata": {},
     "output_type": "execute_result"
    },
    {
     "data": {
      "image/png": "[encoded data removed]",
      "text/plain": [
       "<Figure size 640x480 with 1 Axes>"
      ]
     },
     "metadata": {},
     "output_type": "display_data"
    }
   ],
   "source": [
    "sns.boxplot(\n",
    "    data=df_region_counts_merged,\n",
    "    x=\"cell_type\",\n",
    "    y=\"ratio\",\n",
    "    hue=\"tech\",\n",
    "    hue_order=tech_order,\n",
    "    palette=tech_color_palette,\n",
    "    showfliers=False,\n",
    "    saturation=1,\n",
    ")"
   ]
  },
  {
   "cell_type": "code",
   "execution_count": null,
   "id": "43d0613e-9103-449d-9822-65eff21b8942",
   "metadata": {},
   "outputs": [],
   "source": []
  },
  {
   "cell_type": "code",
   "execution_count": null,
   "id": "abf16842-9d38-4580-a926-7f6f78f4b2ca",
   "metadata": {},
   "outputs": [],
   "source": []
  }
 ],
 "metadata": {
  "kernelspec": {
   "display_name": "20221014_pycistopic.sif",
   "language": "python",
   "name": "cistopic_20221014"
  },
  "language_info": {
   "codemirror_mode": {
    "name": "ipython",
    "version": 3
   },
   "file_extension": ".py",
   "mimetype": "text/x-python",
   "name": "python",
   "nbconvert_exporter": "python",
   "pygments_lexer": "ipython3",
   "version": "3.8.15"
  }
 },
 "nbformat": 4,
 "nbformat_minor": 5
}
